


# Import necessary libraries
import requests
import matplotlib.pyplot as plt
import seaborn as sns
import plotly.graph_objects as go
import pandas as pd


# Define function to fetch weather data from OpenWeather API
def fetch_weather_data(api_key, lat, lon):
    """
    Fetches weather data from OpenWeather API for a given latitude and longitude.
    
    Parameters:
        api_key (str): Your OpenWeather API key.
        lat (float): Latitude of the location.
        lon (float): Longitude of the location.
        
    Returns:
        dict: Weather data as a dictionary.
    """
    # API endpoint for current weather data
    url = f"http://api.openweathermap.org/data/2.5/weather?lat={lat}&lon={lon}&appid={api_key}"
    
    # Make request to OpenWeather API
    response = requests.get(url)
    
    # Check if request was successful
    if response.status_code == 200:
        # Convert response to JSON
        data = response.json()
        return data
    else:
        print("Failed to fetch weather data:", response.status_code)
        return None


# Set up OpenWeather API key and location coordinates
api_key = "your_api_key"
latitude = 40.7128  # Example latitude (New York City)
longitude = -74.0060  # Example longitude (New York City)


# Fetch weather data
weather_data = fetch_weather_data(api_key, latitude, longitude)


# Visualize weather information using Matplotlib
def visualize_weather_matplotlib(weather_data):
    """
    Visualizes weather information using Matplotlib.
    
    Parameters:
        weather_data (dict): Weather data dictionary.
    """
    # Extract relevant weather information
    temperature = weather_data['main']['temp']
    humidity = weather_data['main']['humidity']
    wind_speed = weather_data['wind']['speed']
    
    # Create a DataFrame for visualization
    df = pd.DataFrame({'Temperature (C)': [temperature], 'Humidity (%)': [humidity], 'Wind Speed (m/s)': [wind_speed]})
    
    # Plot weather information using Matplotlib
    plt.figure(figsize=(10, 6))
    plt.bar(df.columns, df.values.flatten())
    plt.title('Current Weather Information (Matplotlib)')
    plt.ylabel('Value')
    plt.show()


# Visualize weather information using Seaborn
def visualize_weather_seaborn(weather_data):
    """
    Visualizes weather information using Seaborn.
    
    Parameters:
        weather_data (dict): Weather data dictionary.
    """
    # Extract relevant weather information
    temperature = weather_data['main']['temp']
    humidity = weather_data['main']['humidity']
    wind_speed = weather_data['wind']['speed']
    
    # Create a DataFrame for visualization
    df = pd.DataFrame({'Temperature (C)': [temperature], 'Humidity (%)': [humidity], 'Wind Speed (m/s)': [wind_speed]})
    
    # Plot weather information using Seaborn
    plt.figure(figsize=(10, 6))
    sns.barplot(data=df)
    plt.title('Current Weather Information (Seaborn)')
    plt.ylabel('Value')
    plt.show()



# Visualize weather information using Plotly
def visualize_weather_plotly(weather_data):
    """
    Visualizes weather information using Plotly.
    
    Parameters:
        weather_data (dict): Weather data dictionary.
    """
    # Extract relevant weather information
    temperature = weather_data['main']['temp']
    humidity = weather_data['main']['humidity']
    wind_speed = weather_data['wind']['speed']
    
    # Create a DataFrame for visualization
    df = pd.DataFrame({'Variable': ['Temperature (C)', 'Humidity (%)', 'Wind Speed (m/s)'],
                       'Value': [temperature, humidity, wind_speed]})
    
    # Plot weather information using Plotly
    fig = go.Figure(data=[go.Bar(x=df['Variable'], y=df['Value'])])
    fig.update_layout(title='Current Weather Information (Plotly)',
                      xaxis_title='Variable',
                      yaxis_title='Value')
    fig.show()


# Visualize weather data with matplotlib
visualize_weather_matplotlib(weather_data)


# Visualize weather data with seaborn
visualize_weather_seaborn(weather_data)


# Visualize weather data with plotly
visualize_weather_plotly(weather_data)



