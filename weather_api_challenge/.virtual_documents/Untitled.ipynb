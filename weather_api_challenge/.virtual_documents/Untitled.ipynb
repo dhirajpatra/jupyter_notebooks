





# Import necessary libraries
import requests
import matplotlib.pyplot as plt
import seaborn as sns
import pandas as pd
import smtplib
from email.mime.multipart import MIMEMultipart
from email.mime.text import MIMEText



# Define function to fetch weather data from OpenWeather API
def fetch_weather_data(api_key, lat, lon):
    """
    Fetches weather data from OpenWeather API for a given latitude and longitude.
    
    Parameters:
        api_key (str): Your OpenWeather API key.
        lat (float): Latitude of the location.
        lon (float): Longitude of the location.
        
    Returns:
        dict: Weather data as a dictionary.
    """
    # API endpoint for current weather data
    url = f"http://api.openweathermap.org/data/2.5/weather?lat={lat}&lon={lon}&appid={api_key}"
    
    # Make request to OpenWeather API
    response = requests.get(url)
    
    # Check if request was successful
    if response.status_code == 200:
        # Convert response to JSON
        data = response.json()
        return data
    else:
        print("Failed to fetch weather data:", response.status_code)
        return None



# Define function to send emails
def send_email(sender_email, sender_password, receiver_email, subject, message):
    """
    Sends an email using SMTP.

    Parameters:
        sender_email (str): Email address of the sender.
        sender_password (str): Password of the sender's email account.
        receiver_email (str): Email address of the receiver.
        subject (str): Subject of the email.
        message (str): Body of the email.

    Returns:
        bool: True if email sent successfully, False otherwise.
    """
    # Set up the MIME
    email_message = MIMEMultipart()
    email_message['From'] = sender_email
    email_message['To'] = receiver_email
    email_message['Subject'] = subject
    email_message.attach(MIMEText(message, 'html'))  # Set the content type to HTML

    # Create SMTP session for sending the mail
    try:
        server = smtplib.SMTP('smtp.gmail.com', 587)
        server.starttls()
        server.login(sender_email, sender_password)
        server.sendmail(sender_email, receiver_email, email_message.as_string())
        server.quit()
        print("Email sent successfully!")
        return True
    except Exception as e:
        print("Failed to send email:", str(e))
        return False



# Set up OpenWeather API key and location coordinates
api_key = "your_api_key"
latitude = 40.7128  # Example latitude (New York City)
longitude = -74.0060  # Example longitude (New York City)



# Fetch weather data
weather_data = fetch_weather_data(api_key, latitude, longitude)

# Format weather information in HTML
html_content = f"""
<html>
<head>
  <style>
    table {{
      font-family: Arial, sans-serif;
      border-collapse: collapse;
      width: 100%;
    }}
    th, td {{
      border: 1px solid #dddddd;
      text-align: left;
      padding: 8px;
    }}
    th {{
      background-color: #f2f2f2;
    }}
  </style>
</head>
<body>

<h2>Current Weather Information</h2>
<table>
  <tr>
    <th>Parameter</th>
    <th>Value</th>
  </tr>
  <tr>
    <td>Temperature (C)</td>
    <td>{weather_data['main']['temp']}</td>
  </tr>
  <tr>
    <td>Humidity (%)</td>
    <td>{weather_data['main']['humidity']}</td>
  </tr>
  <tr>
    <td>Wind Speed (m/s)</td>
    <td>{weather_data['wind']['speed']}</td>
  </tr>
</table>

</body>
</html>
"""



# Send email with weather information in HTML format
sender_email = "your_email@gmail.com"
sender_password = "your_password"
receiver_email = "recipient_email@example.com"
subject = "Weather Information"
send_email(sender_email, sender_password, receiver_email, subject, html_content)

