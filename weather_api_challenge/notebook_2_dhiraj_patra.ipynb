{
 "cells": [
  {
   "cell_type": "markdown",
   "id": "8d8502c5-81e3-4502-bb1c-29785d56ac75",
   "metadata": {},
   "source": [
    "In Python Notebook 2, we're focusing on creating a function to send emails programmatically using the Simple Mail Transfer Protocol (SMTP). This function will allow you to specify the sender's email address, password, receiver's email address, subject, and message content.\n",
    "\n",
    "The `send_email` function is designed to be reusable and takes several parameters:\n",
    "- `sender_email`: The email address of the sender.\n",
    "- `sender_password`: The password of the sender's email account.\n",
    "- `receiver_email`: The email address of the recipient.\n",
    "- `subject`: The subject line of the email.\n",
    "- `message`: The body/content of the email.\n",
    "\n",
    "Inside the function:\n",
    "1. We set up the MIME (Multipurpose Internet Mail Extensions) structure to format the email properly.\n",
    "2. We create an SMTP session with the Gmail SMTP server (`smtp.gmail.com`) on port 587 (TLS encryption).\n",
    "3. We authenticate the sender's email account using their email address and password.\n",
    "4. We send the email using the `sendmail` method of the SMTP server object.\n",
    "5. Finally, we close the SMTP connection.\n",
    "\n",
    "This code is a basic example suitable for testing and small-scale usage. In a production environment, you would need to consider security, scalability, and reliability factors. For instance:\n",
    "- Use environment variables or secure storage mechanisms to store sensitive information like email credentials.\n",
    "- Implement error handling and logging to handle potential issues during email sending.\n",
    "- Consider using a dedicated email sending service like Amazon SES (Simple Email Service) for higher deliverability and scalability.\n",
    "- Encrypt the email contents for enhanced security, especially if dealing with sensitive information.\n",
    "- Implement proper email validation and sanitization to prevent abuse and ensure compliance with regulations such as GDPR."
   ]
  },
  {
   "cell_type": "markdown",
   "id": "930b2968-6a8f-47d4-8eb8-48135e3d737d",
   "metadata": {},
   "source": [
    "In a production version deployed on AWS, we can utilize services like Amazon Simple Email Service (SES) for sending emails securely and reliably. Here's how we can modify the code and the steps to run it:\n",
    "\n",
    "1. **Code Modification**:\n",
    "   - Replace the existing `send_email` function with one that utilizes Amazon SES API to send emails.\n",
    "   - Use AWS SDK (Boto3 for Python) to interact with SES.\n",
    "   - Implement error handling and logging for better monitoring and troubleshooting.\n",
    "\n",
    "2. **Steps to Run**:\n",
    "   - Set up an AWS account if you haven't already.\n",
    "   - Create an IAM (Identity and Access Management) user with appropriate permissions to access SES.\n",
    "   - Install and configure AWS CLI (Command Line Interface) on your development environment.\n",
    "   - Modify the code to use AWS SDK (Boto3) for sending emails via SES.\n",
    "   - Use AWS Secrets Manager to securely store sensitive information like SMTP credentials or SES IAM credentials.\n",
    "   - Deploy the modified code to an AWS Lambda function for serverless execution or an EC2 instance if preferred.\n",
    "   - Set up CloudWatch Events or AWS Lambda triggers for scheduled execution of the function to send emails at specific intervals.\n",
    "   - Monitor the SES sending metrics in the AWS Management Console to track email deliverability and performance.\n",
    "\n",
    "3. **Reasoning and Changes for Production**:\n",
    "   - **Amazon SES**: SES is a highly scalable and cost-effective email sending service provided by AWS. It ensures high deliverability and compliance with email standards.\n",
    "   - **Boto3 SDK**: Using the AWS SDK for Python (Boto3) allows seamless integration with AWS services, including SES. It provides a Pythonic way to interact with AWS resources programmatically.\n",
    "   - **Error Handling and Logging**: In a production environment, robust error handling and logging are crucial for diagnosing issues and ensuring the reliability of the email sending process. We can implement try-except blocks to catch exceptions and log errors to CloudWatch Logs or a centralized logging system.\n",
    "   - **Security Best Practices**: Securely storing sensitive information such as SMTP credentials or IAM credentials using AWS Secrets Manager enhances the security posture of the application. This prevents exposing sensitive information in code or configuration files.\n",
    "   - **Scalability**: Leveraging serverless architecture with AWS Lambda enables automatic scaling based on demand, eliminating the need to provision and manage servers manually. This ensures optimal resource utilization and cost efficiency.\n",
    "   - **Monitoring and Metrics**: Utilizing AWS CloudWatch for monitoring SES sending metrics provides insights into email deliverability, bounces, complaints, and other important metrics. This allows proactive monitoring and troubleshooting of email sending issues.\n",
    "  \n",
    "By following these steps and making the necessary modifications, we can deploy a production-ready email sending solution on AWS infrastructure, leveraging the scalability, reliability, and security features of AWS services like SES, Lambda, IAM, and CloudWatch."
   ]
  },
  {
   "cell_type": "code",
   "execution_count": 4,
   "id": "daa486fc-46fd-4e52-a9a9-e6ded2bbd71a",
   "metadata": {},
   "outputs": [],
   "source": [
    "# Import necessary libraries\n",
    "import smtplib\n",
    "from email.mime.multipart import MIMEMultipart\n",
    "from email.mime.text import MIMEText"
   ]
  },
  {
   "cell_type": "code",
   "execution_count": 2,
   "id": "bfd10d03-afe4-46b9-b95e-5198e64fcc04",
   "metadata": {},
   "outputs": [],
   "source": [
    "def send_email(sender_email, sender_password, receiver_email, subject, message):\n",
    "    \"\"\"\n",
    "    Sends an email using SMTP.\n",
    "\n",
    "    Parameters:\n",
    "        sender_email (str): Email address of the sender.\n",
    "        sender_password (str): Password of the sender's email account.\n",
    "        receiver_email (str): Email address of the receiver.\n",
    "        subject (str): Subject of the email.\n",
    "        message (str): Body of the email.\n",
    "\n",
    "    Returns:\n",
    "        bool: True if email sent successfully, False otherwise.\n",
    "    \"\"\"\n",
    "    # Set up the MIME\n",
    "    email_message = MIMEMultipart()\n",
    "    email_message['From'] = sender_email\n",
    "    email_message['To'] = receiver_email\n",
    "    email_message['Subject'] = subject\n",
    "    email_message.attach(MIMEText(message, 'plain'))\n",
    "\n",
    "    # Create SMTP session for sending the mail\n",
    "    try:\n",
    "        server = smtplib.SMTP('smtp.gmail.com', 587)\n",
    "        server.starttls()\n",
    "        server.login(sender_email, sender_password)\n",
    "        server.sendmail(sender_email, receiver_email, email_message.as_string())\n",
    "        server.quit()\n",
    "        print(\"Email sent successfully!\")\n",
    "        return True\n",
    "    except Exception as e:\n",
    "        print(\"Failed to send email:\", str(e))\n",
    "        return False\n"
   ]
  },
  {
   "cell_type": "code",
   "execution_count": 3,
   "id": "65177a70-5f47-44a1-b0d5-645bb616dfea",
   "metadata": {},
   "outputs": [],
   "source": [
    "# Example usage:\n",
    "sender_email = \"your_email@gmail.com\"\n",
    "sender_password = \"your_password\"\n",
    "receiver_email = \"recipient_email@example.com\"\n",
    "subject = \"Test Email\"\n",
    "message = \"This is a test email sent using Python.\"\n"
   ]
  },
  {
   "cell_type": "code",
   "execution_count": null,
   "id": "0bf70b16-8192-4d27-91dc-9125f73dc029",
   "metadata": {},
   "outputs": [],
   "source": [
    "# Send email\n",
    "send_email(sender_email, sender_password, receiver_email, subject, message)"
   ]
  }
 ],
 "metadata": {
  "kernelspec": {
   "display_name": "Python 3 (ipykernel)",
   "language": "python",
   "name": "python3"
  },
  "language_info": {
   "codemirror_mode": {
    "name": "ipython",
    "version": 3
   },
   "file_extension": ".py",
   "mimetype": "text/x-python",
   "name": "python",
   "nbconvert_exporter": "python",
   "pygments_lexer": "ipython3",
   "version": "3.11.5"
  }
 },
 "nbformat": 4,
 "nbformat_minor": 5
}
