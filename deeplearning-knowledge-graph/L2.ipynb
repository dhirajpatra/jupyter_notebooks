{
 "cells": [
  {
   "cell_type": "markdown",
   "id": "f5518a01-a2ac-43ab-ae64-5919e771d201",
   "metadata": {},
   "source": [
    "# L2: API Knowledge Graph Construction"
   ]
  },
  {
   "cell_type": "markdown",
   "id": "64ab0adf-a9c9-47a3-8768-d9ba91558b56",
   "metadata": {},
   "source": [
    "<p style=\"background-color:#fff6e4; padding:15px; border-width:3px; border-color:#f5ecda; border-style:solid; border-radius:6px\"> ⏳ <b>Note <code>(Kernel Starting)</code>:</b> This notebook takes about 30 seconds to be ready to use. You may start and watch the video while you wait.</p>"
   ]
  },
  {
   "cell_type": "code",
   "execution_count": null,
   "id": "b4d034b0-6124-4883-8b40-824f759cb95b",
   "metadata": {
    "height": 64
   },
   "outputs": [],
   "source": [
    "# Warning control\n",
    "import warnings\n",
    "warnings.filterwarnings('ignore')"
   ]
  },
  {
   "cell_type": "code",
   "execution_count": null,
   "id": "e0b71221-3e41-4b8b-becd-94c70ccfc5a5",
   "metadata": {
    "height": 115
   },
   "outputs": [],
   "source": [
    "import pandas as pd\n",
    "from rdflib import Graph\n",
    "import networkx as nx\n",
    "from matplotlib import pyplot as plt\n",
    "\n",
    "from helper import rdf_to_nx"
   ]
  },
  {
   "cell_type": "markdown",
   "id": "3864df85-ae1c-4147-98fc-0f4aa36a6964",
   "metadata": {},
   "source": [
    "<div style=\"background-color:#fff6ff; padding:13px; border-width:3px; border-color:#efe6ef; border-style:solid; border-radius:6px\">\n",
    "<p> 💻 &nbsp; <b>Access <code>requirements.txt</code> and <code>helper.py</code> files:</b> 1) click on the <em>\"File\"</em> option on the top menu of the notebook and then 2) click on <em>\"Open\"</em>.\n",
    "\n",
    "<p> ⬇ &nbsp; <b>Download Notebooks:</b> 1) click on the <em>\"File\"</em> option on the top menu of the notebook and then 2) click on <em>\"Download as\"</em> and select <em>\"Notebook (.ipynb)\"</em>.</p>\n",
    "</div>"
   ]
  },
  {
   "cell_type": "markdown",
   "id": "cc54888e-843e-4615-9db2-3b152b82b568",
   "metadata": {},
   "source": [
    "## Input Data"
   ]
  },
  {
   "cell_type": "code",
   "execution_count": null,
   "id": "adb61490-3463-4307-9dbe-ccf152bf3e2c",
   "metadata": {
    "height": 79
   },
   "outputs": [],
   "source": [
    "services_df = pd.read_csv(\"ro_shared_data/services.csv\", \n",
    "                          sep=',', \n",
    "                          dtype={'version': 'string'}).fillna('')"
   ]
  },
  {
   "cell_type": "code",
   "execution_count": null,
   "id": "cc2f7a43-cfb1-4c12-8ccc-1696a1013bb0",
   "metadata": {
    "height": 30
   },
   "outputs": [],
   "source": [
    "services_df.head(1)"
   ]
  },
  {
   "cell_type": "code",
   "execution_count": null,
   "id": "127ef73a-dda0-4587-aa71-8f4035611330",
   "metadata": {
    "height": 79
   },
   "outputs": [],
   "source": [
    "entity_types_df = pd.read_csv(\"ro_shared_data/entity_types.csv\", \n",
    "                              sep=',').fillna('')\n",
    "entity_types_df.head(1)"
   ]
  },
  {
   "cell_type": "code",
   "execution_count": null,
   "id": "ea764238-fefc-4a89-9373-7e9d1a5d4dcc",
   "metadata": {
    "height": 79
   },
   "outputs": [],
   "source": [
    "properties_df = pd.read_csv(\"ro_shared_data/properties.csv\", \n",
    "                            sep=',').fillna('')\n",
    "properties_df.head(1)"
   ]
  },
  {
   "cell_type": "code",
   "execution_count": null,
   "id": "20e537bd-5c4e-47cb-8586-4adcd9a18b74",
   "metadata": {
    "height": 79
   },
   "outputs": [],
   "source": [
    "navigations_df = pd.read_csv(\"ro_shared_data/navigations.csv\", \n",
    "                             sep=',').fillna('')\n",
    "navigations_df.head(2)"
   ]
  },
  {
   "cell_type": "code",
   "execution_count": null,
   "id": "53eca76e-62d1-4fa3-b8e0-7e720925db7d",
   "metadata": {
    "height": 79
   },
   "outputs": [],
   "source": [
    "entity_sets_df = pd.read_csv(\"ro_shared_data/entity_sets.csv\", \n",
    "                             sep=',').fillna('')\n",
    "entity_sets_df.head(1)"
   ]
  },
  {
   "cell_type": "code",
   "execution_count": null,
   "id": "8b63a4ba-5d3e-4801-9d67-bcb988a20fff",
   "metadata": {
    "height": 181
   },
   "outputs": [],
   "source": [
    "# Show the distribution of concepts in the data \n",
    "data = {\n",
    "    \"Services\": len(services_df),\n",
    "    \"Entity Sets\": len(entity_sets_df),\n",
    "    \"Entity Types\": len(entity_types_df),\n",
    "    \"Navigations\": len(navigations_df),\n",
    "    \"Properties\": len(properties_df)\n",
    "}\n",
    "pd.DataFrame.from_dict(data, orient='index', columns=['Count'])"
   ]
  },
  {
   "cell_type": "markdown",
   "id": "3f9eb6bd-1be7-46ed-bf91-10c9614fc22e",
   "metadata": {},
   "source": [
    "## Knowledge Graph Construction"
   ]
  },
  {
   "cell_type": "code",
   "execution_count": null,
   "id": "e776c4e0-a97c-4543-992e-209106121e51",
   "metadata": {
    "height": 47
   },
   "outputs": [],
   "source": [
    "# The Knowledge Graph\n",
    "kg = Graph()"
   ]
  },
  {
   "cell_type": "code",
   "execution_count": null,
   "id": "86187b31-4d01-4ebe-aea5-ae12fe6806df",
   "metadata": {
    "height": 266
   },
   "outputs": [],
   "source": [
    "construct_services = \"\"\"\n",
    "PREFIX odata: <http://example.org/odata#>\n",
    "CONSTRUCT {\n",
    "    ?service a odata:Service .\n",
    "    ?service odata:description ?description .\n",
    "    ?service odata:version ?version .\n",
    "    ?service odata:name ?name .\n",
    "}\n",
    "WHERE\n",
    "{\n",
    "    BIND(IRI(CONCAT(\"http://data.example.org/Service/\", UCASE(?name))) \n",
    "    AS ?service)\n",
    "}\n",
    "\"\"\""
   ]
  },
  {
   "cell_type": "code",
   "execution_count": null,
   "id": "74f5550c-07db-4d68-82bf-4e5cd347dc2d",
   "metadata": {
    "height": 555
   },
   "outputs": [],
   "source": [
    "from rdflib import Dataset, Graph, Literal\n",
    "from rdflib.plugins.sparql.processor import prepareQuery\n",
    "import re\n",
    "\n",
    "def transform(df: pd.DataFrame, construct_query: str, \n",
    "              first: bool = False) -> Graph:\n",
    "    \"\"\"Transform Pandas DataFrame to RDFLib Graph given a \n",
    "    SPARQL Construct Query.\"\"\"\n",
    "\n",
    "    # Setup query graph and result graph\n",
    "    query_graph = Graph()\n",
    "    result_graph = Graph()\n",
    "    \n",
    "    # Parse query and get headers\n",
    "    query = prepareQuery(construct_query)\n",
    "    invalid_pattern = re.compile(r\"[^\\w_]+\")\n",
    "    headers = dict((k, invalid_pattern.sub(\"_\", k)) for k in df.columns)\n",
    "    for _, row in df.iterrows():\n",
    "        # Variable -> Value\n",
    "        binding = dict((headers[k], Literal(row[k])) \n",
    "                       for k in df.columns if len(str(row[k])) > 0)\n",
    "        \n",
    "        # Replace variables in query with values and execute query\n",
    "        results = query_graph.query(query, \n",
    "                                    initBindings=binding)\n",
    "        for result in results:\n",
    "            # Add triples to graph\n",
    "            result_graph.add(result)\n",
    "        if first:\n",
    "            break\n",
    "    return result_graph"
   ]
  },
  {
   "cell_type": "code",
   "execution_count": null,
   "id": "3e32f232-717e-474a-8588-b1c28854b8d3",
   "metadata": {
    "height": 62
   },
   "outputs": [],
   "source": [
    "print(transform(services_df, construct_services, True)\n",
    "    .serialize(format='turtle'))"
   ]
  },
  {
   "cell_type": "code",
   "execution_count": null,
   "id": "166f3515-98de-4cf2-b0d5-8f0047becba0",
   "metadata": {
    "height": 62
   },
   "outputs": [],
   "source": [
    "kg += transform(services_df, construct_services)\n",
    "print(f\"Current Knowledge Graph size: {len(kg)} triples.\")"
   ]
  },
  {
   "cell_type": "code",
   "execution_count": null,
   "id": "9feca8b8-fcee-40d6-94a1-b7a3f6d07613",
   "metadata": {
    "height": 351
   },
   "outputs": [],
   "source": [
    "construct_entity_sets = \"\"\"\n",
    "PREFIX odata: <http://example.org/odata#>\n",
    "CONSTRUCT {\n",
    "    ?entitySet a odata:EntitySet .\n",
    "    ?entitySet odata:entityType ?entityTypeIri .                                                                  \n",
    "    ?entitySet odata:name ?name .    \n",
    "}\n",
    "WHERE\n",
    "{\n",
    "    BIND(IRI(CONCAT(\"http://data.example.org/Service/\", ?service, \n",
    "                \"/EntitySet/\", UCASE(?name))) AS ?entitySet)\n",
    "    BIND(IRI(CONCAT(\"http://data.example.org/Service/\", ?service, \n",
    "                \"/EntityType/\", UCASE(?entityType))) AS ?entityTypeIri)\n",
    "}\n",
    "\"\"\"\n",
    "\n",
    "# Add the triples to the KG and print the total number of triples\n",
    "kg += transform(entity_sets_df, construct_entity_sets)\n",
    "print(f\"Current Knowledge Graph size: {len(kg)} triples.\")"
   ]
  },
  {
   "cell_type": "code",
   "execution_count": null,
   "id": "2e74962a-ac1b-4d31-87c6-975a04804bb9",
   "metadata": {
    "height": 351
   },
   "outputs": [],
   "source": [
    "construct_entity_types = \"\"\"\n",
    "PREFIX odata: <http://example.org/odata#>\n",
    "CONSTRUCT {\n",
    "    ?entityType a odata:EntityType .                                                        \n",
    "    ?entityType odata:name ?name .\n",
    "    ?entityType odata:service ?serviceIRI .\n",
    "}\n",
    "WHERE\n",
    "{\n",
    "    BIND(IRI(CONCAT(\"http://data.example.org/Service/\", ?service, \n",
    "                    \"/EntityType/\", UCASE(?name))) AS ?entityType)\n",
    "    BIND(IRI(CONCAT(\"http://data.example.org/Service/\", ?service)) \n",
    "                                                    AS ?serviceIRI)\n",
    "}\n",
    "\"\"\"\n",
    "\n",
    "# Add the triples to the KG and print the total number of triples\n",
    "kg += transform(entity_types_df, construct_entity_types)\n",
    "print(f\"Current Knowledge Graph size: {len(kg)} triples.\")"
   ]
  },
  {
   "cell_type": "code",
   "execution_count": null,
   "id": "06349cd2-37c7-483d-8087-dc1431794c56",
   "metadata": {
    "height": 538
   },
   "outputs": [],
   "source": [
    "construct_properties = \"\"\"\n",
    "PREFIX odata: <http://example.org/odata#>\n",
    "PREFIX xsd: <http://www.w3.org/2001/XMLSchema#>\n",
    "CONSTRUCT\n",
    "{\n",
    "    ?property a odata:Property .\n",
    "    ?property odata:type ?type . \n",
    "    ?property odata:name ?name . \n",
    "    ?property odata:label ?label . \n",
    "    ?property odata:maxLength ?maxLength .\n",
    "    ?property odata:odataKey ?key_bool .\n",
    "    ?property odata:selectProperty ?selectProperty_bool .\n",
    "    \n",
    "    # Link EntityType to Property\n",
    "    ?entityTypeIRI odata:property ?property .\n",
    "}\n",
    "{\n",
    "    BIND(IRI(CONCAT(\"http://data.example.org/Service/\", ?service, \n",
    "                    \"/EntityType/\", ?entityType, \n",
    "                    \"/Property/\", UCASE(?name))) AS ?property)\n",
    "    BIND(IRI(CONCAT(\"http://data.example.org/Service/\", ?service, \n",
    "                    \"/EntityType/\", ?entityType )) AS ?entityTypeIRI)\n",
    "    BIND(xsd:boolean(?key) AS ?key_bool)\n",
    "    BIND(xsd:boolean(?selectProperty) AS ?selectProperty_bool)\n",
    "}\n",
    "\"\"\"\n",
    "\n",
    "# Add the triples to the KG and print the total number of triples\n",
    "kg += transform(properties_df, construct_properties)\n",
    "print(f\"Current Knowledge Graph size: {len(kg)} triples.\")"
   ]
  },
  {
   "cell_type": "code",
   "execution_count": null,
   "id": "ed4bbd47-bd7c-4b16-b21e-a2a802f729be",
   "metadata": {
    "height": 487
   },
   "outputs": [],
   "source": [
    "construct_navigations = \"\"\"\n",
    "PREFIX odata: <http://example.org/odata#>\n",
    "CONSTRUCT\n",
    "{\n",
    "    ?navigation a odata:Navigation .\n",
    "    ?navigation odata:name ?name .\n",
    "    ?navigation odata:navigateFrom ?navigateFromIri .\n",
    "    ?navigation odata:navigateTo ?navigateToIri .\n",
    "    ?navigation odata:multiplicity ?multiplicity .        \n",
    "}\n",
    "WHERE\n",
    "{\n",
    "    BIND(IRI(CONCAT(\"http://data.example.org/Service/\", ?service, \n",
    "                    \"/EntityType/\", UCASE(?navigateFrom), \n",
    "                    \"/Navigation/\", UCASE(?name))) AS ?navigation)\n",
    "    BIND(IRI(CONCAT(\"http://data.example.org/Service/\", ?service, \n",
    "                    \"/EntityType/\", UCASE(?navigateFrom))) \n",
    "                    AS ?navigateFromIri)\n",
    "    BIND(IRI(CONCAT(\"http://data.example.org/Service/\", ?service, \n",
    "                    \"/EntityType/\", UCASE(?navigateTo))) \n",
    "                    AS ?navigateToIri)\n",
    "} \n",
    "\"\"\"\n",
    "\n",
    "# Add the triples to the KG and print the total number of triples\n",
    "kg += transform(navigations_df, construct_navigations)\n",
    "print(f\"Current Knowledge Graph size: {len(kg)} triples.\")"
   ]
  },
  {
   "cell_type": "code",
   "execution_count": null,
   "id": "7a42e316-b8fc-4dcb-b11b-0f6998bf1644",
   "metadata": {
    "height": 351
   },
   "outputs": [],
   "source": [
    "find_entity_set_query = \"\"\"\n",
    "PREFIX odata: <http://example.org/odata#>\n",
    "SELECT ?uri ?name\n",
    "{{\n",
    "    ?uri a odata:EntitySet .\n",
    "    ?uri odata:name ?name .\n",
    "    FILTER(?name = \"{name}\")\n",
    "}}\n",
    "LIMIT 1\n",
    "\"\"\"\n",
    "# Get Purchase order entity set\n",
    "for res in kg.query(find_entity_set_query.format(name=\"PurchaseOrder\")):\n",
    "    PO_node = str(res.uri)\n",
    "    print(f\"URI of the Purchase order entity set:\\n{PO_node}\")\n",
    "\n",
    "# Get Purchase requistion entity set\n",
    "for res in kg.query(find_entity_set_query.format(name=\"PurchaseReqn\")):\n",
    "    PR_node = str(res.uri)\n",
    "    print(f\"URI of the Purchase requisition entity set:\\n{PR_node}\")"
   ]
  },
  {
   "cell_type": "code",
   "execution_count": null,
   "id": "07ce1c2c-e0c3-4cb3-b5e7-27395a98dc99",
   "metadata": {
    "height": 149
   },
   "outputs": [],
   "source": [
    "# RDF graph to NetworkX graph conversion\n",
    "G = rdf_to_nx(kg)\n",
    "\n",
    "# Construct the subgraphs\n",
    "G_po = G.subgraph(nx.shortest_path(G, PO_node))\n",
    "G_pr = G.subgraph(nx.shortest_path(G, PR_node))\n",
    "G_prpo = nx.union(G_pr, G_po)\n"
   ]
  },
  {
   "cell_type": "code",
   "execution_count": null,
   "id": "f4271364-8b32-4f95-b15f-4ef4228821e7",
   "metadata": {
    "height": 30
   },
   "outputs": [],
   "source": [
    "from netgraph import Graph as NetGraph"
   ]
  },
  {
   "cell_type": "markdown",
   "id": "75d4ef6c-06a0-4a8d-82b1-4bdf6594ae5c",
   "metadata": {},
   "source": [
    "<p style=\"background-color:#f7fff8; padding:15px; border-width:3px; border-color:#e0f0e0; border-style:solid; border-radius:6px\"> 🚨\n",
    "&nbsp; <b>Different Run Results:</b> The output visualizations generated may differ from those shown in the video.</p>"
   ]
  },
  {
   "cell_type": "code",
   "execution_count": null,
   "id": "0c99c3b2-1594-48be-9414-2c50792ba01a",
   "metadata": {
    "height": 606
   },
   "outputs": [],
   "source": [
    "node_color= { \n",
    "            node: ('#404040' if node in G_po \n",
    "            else '#0000FF') for node in G_prpo}\n",
    "\n",
    "node_shapes = {}\n",
    "for node in G_prpo:\n",
    "    if \"Property\" in node:\n",
    "        node_shapes[node] = \"^\"\n",
    "    elif \"Navigation\" in node:\n",
    "        node_shapes[node] = \"v\"\n",
    "    elif \"EntityType\" in node:\n",
    "       node_shapes[node] = \"s\"\n",
    "    else:\n",
    "        node_shapes[node] = \"o\"\n",
    "\n",
    "node_size = {}\n",
    "for node in G_prpo:\n",
    "    if \"Property\" in node:\n",
    "        node_size[node] = .9\n",
    "    else:\n",
    "        node_size[node] = 1.3\n",
    "fig, ax = plt.subplots(figsize=(20,8))\n",
    "\n",
    "g = NetGraph(G_prpo,\n",
    "          node_layout=nx.spring_layout(G_prpo, seed=1), \n",
    "          node_edge_width = 0,\n",
    "          node_size = node_size,\n",
    "          edge_width=.1,\n",
    "          node_color = node_color,\n",
    "          node_shape = node_shapes,\n",
    "          arrows=False,\n",
    "          ax=ax\n",
    ")\n",
    "plt.show()"
   ]
  },
  {
   "cell_type": "code",
   "execution_count": null,
   "id": "293623c6-0137-43b4-9c61-e9a78ffc745c",
   "metadata": {
    "height": 47
   },
   "outputs": [],
   "source": [
    "from IPython.display import Image\n",
    "Image(filename='ro_shared_data/SampleKG.png') "
   ]
  },
  {
   "cell_type": "code",
   "execution_count": null,
   "id": "f4516cc6-6b6f-44a3-be5e-c53467741dca",
   "metadata": {
    "height": 45
   },
   "outputs": [],
   "source": [
    "kg.serialize(destination='api_knowledge_graph.ttl', format='turtle')"
   ]
  },
  {
   "cell_type": "markdown",
   "id": "0abeb229-a837-4c64-97e6-e7a4a12d96f8",
   "metadata": {},
   "source": [
    "### Turle file\n",
    "As briefly discussed in the previous lesson, a Turtle file is a way of writing down an RDF graph in a compact, human-friendly text format.\n",
    "RDF (Resource Description Framework) represents data as triples:\n",
    "- Subject → the thing being described\n",
    "- Predicate → the property or relationship\n",
    "- Object → the value or another thing it links to\n",
    "\n",
    "**For example:**\n",
    "- <code>:Alice :knows :Bob</code>\n",
    "\n",
    "The same triple can be written in different serializations. N-Triples is very simple but verbose (each triple is written in full, one line per triple). Turtle (Terse RDF Triple Language) is more compact: it lets you shorten URIs with prefixes, group statements about the same subject, and use syntactic sugar like semicolons and commas to avoid repetition.\n",
    "\n",
    "Here’s a small example in Turtle:\n",
    "\n",
    "\n",
    "<code>@prefix foaf: <http://xmlns.com/foaf/0.1/> .\n",
    "@prefix ex:   <http://example.org/> .\n",
    "ex:Alice foaf:knows ex:Bob, ex:Charlie ;\n",
    "         foaf:name \"Alice\" . \n",
    "         \n",
    "</code>\n",
    "This expands to multiple RDF triples:\n",
    "- Alice knows Bob\n",
    "- Alice knows Charlie\n",
    "- Alice has the name \"Alice\"\n",
    "\n"
   ]
  },
  {
   "cell_type": "code",
   "execution_count": null,
   "id": "73608465-8efc-46d3-a7f4-23645b09f447",
   "metadata": {
    "height": 30
   },
   "outputs": [],
   "source": []
  },
  {
   "cell_type": "code",
   "execution_count": null,
   "id": "5712130a-1ea7-463b-b4da-e0fbef0d1c18",
   "metadata": {
    "height": 30
   },
   "outputs": [],
   "source": []
  },
  {
   "cell_type": "code",
   "execution_count": null,
   "id": "e3af8720-c186-45db-9b63-c90cd00db0cf",
   "metadata": {
    "height": 30
   },
   "outputs": [],
   "source": []
  },
  {
   "cell_type": "code",
   "execution_count": null,
   "id": "ef19df09-fa3f-46b4-82b6-5d22d37a908a",
   "metadata": {
    "height": 30
   },
   "outputs": [],
   "source": []
  },
  {
   "cell_type": "code",
   "execution_count": null,
   "id": "2fe124d4-1a2e-442c-8a73-a5ee0f35499c",
   "metadata": {
    "height": 30
   },
   "outputs": [],
   "source": []
  },
  {
   "cell_type": "code",
   "execution_count": null,
   "id": "fdd6e842-a429-4374-a50c-df311f99562e",
   "metadata": {
    "height": 30
   },
   "outputs": [],
   "source": []
  }
 ],
 "metadata": {
  "kernelspec": {
   "display_name": "Python 3 (ipykernel)",
   "language": "python",
   "name": "python3"
  },
  "language_info": {
   "codemirror_mode": {
    "name": "ipython",
    "version": 3
   },
   "file_extension": ".py",
   "mimetype": "text/x-python",
   "name": "python",
   "nbconvert_exporter": "python",
   "pygments_lexer": "ipython3",
   "version": "3.11.3"
  }
 },
 "nbformat": 4,
 "nbformat_minor": 5
}
