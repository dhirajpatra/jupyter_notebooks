{
 "cells": [
  {
   "cell_type": "markdown",
   "id": "22b0e113-8bb8-4a68-8d02-692f2f4a7b69",
   "metadata": {},
   "source": [
    "# L4: API Discovery with Knowledge Graphs"
   ]
  },
  {
   "cell_type": "markdown",
   "id": "8480d1a3-90d7-4091-80aa-9d4964755a1d",
   "metadata": {},
   "source": [
    "<p style=\"background-color:#fff6e4; padding:15px; border-width:3px; border-color:#f5ecda; border-style:solid; border-radius:6px\"> ⏳ <b>Note <code>(Kernel Starting)</code>:</b> This notebook takes about 30 seconds to be ready to use. You may start and watch the video while you wait.</p>"
   ]
  },
  {
   "cell_type": "code",
   "execution_count": null,
   "id": "37e2a92f-8247-49e9-b561-af25b2db8e0a",
   "metadata": {
    "height": 64
   },
   "outputs": [],
   "source": [
    "# Warning control\n",
    "import warnings\n",
    "warnings.filterwarnings('ignore')"
   ]
  },
  {
   "cell_type": "markdown",
   "id": "06f319e1-9b4a-4e83-89c1-3a07a65e455e",
   "metadata": {},
   "source": [
    "## Setup"
   ]
  },
  {
   "cell_type": "code",
   "execution_count": null,
   "id": "cdab4460-2c9f-46e4-a2e6-181c5fba6143",
   "metadata": {
    "height": 164
   },
   "outputs": [],
   "source": [
    "from rdflib import Dataset\n",
    "import pandas as pd\n",
    "\n",
    "from faiss import IndexFlatL2, IndexFlat\n",
    "import numpy as np\n",
    "import tqdm\n",
    "from langchain_openai import OpenAIEmbeddings\n",
    "from helper import parameterize_sparql"
   ]
  },
  {
   "cell_type": "markdown",
   "id": "60f4cab0-0aba-4b63-8d30-3b557d10a9de",
   "metadata": {},
   "source": [
    "<div style=\"background-color:#fff6ff; padding:13px; border-width:3px; border-color:#efe6ef; border-style:solid; border-radius:6px\">\n",
    "<p> 💻 &nbsp; <b>Access <code>requirements.txt</code> and <code>helper.py</code> files:</b> 1) click on the <em>\"File\"</em> option on the top menu of the notebook and then 2) click on <em>\"Open\"</em>.\n",
    "\n",
    "<p> ⬇ &nbsp; <b>Download Notebooks:</b> 1) click on the <em>\"File\"</em> option on the top menu of the notebook and then 2) click on <em>\"Download as\"</em> and select <em>\"Notebook (.ipynb)\"</em>.</p>\n",
    "</div>"
   ]
  },
  {
   "cell_type": "code",
   "execution_count": null,
   "id": "cc2f7a43-cfb1-4c12-8ccc-1696a1013bb0",
   "metadata": {
    "height": 62
   },
   "outputs": [],
   "source": [
    "pd.set_option(\"display.max_rows\", 100)\n",
    "pd.set_option(\"display.max_colwidth\", None)"
   ]
  },
  {
   "cell_type": "code",
   "execution_count": null,
   "id": "127ef73a-dda0-4587-aa71-8f4035611330",
   "metadata": {
    "height": 47
   },
   "outputs": [],
   "source": [
    "from helper import get_openai_api_key\n",
    "openai_api_key = get_openai_api_key()"
   ]
  },
  {
   "cell_type": "code",
   "execution_count": null,
   "id": "ea764238-fefc-4a89-9373-7e9d1a5d4dcc",
   "metadata": {
    "height": 45
   },
   "outputs": [],
   "source": [
    "embedding_model = OpenAIEmbeddings(model=\"text-embedding-3-large\")"
   ]
  },
  {
   "cell_type": "code",
   "execution_count": null,
   "id": "20e537bd-5c4e-47cb-8586-4adcd9a18b74",
   "metadata": {
    "height": 79
   },
   "outputs": [],
   "source": [
    "graph = Dataset(default_union=True)\n",
    "graph.parse(\"./ro_shared_data/odata_knowledge_graph.ttl\",\n",
    "            format=\"turtle\")"
   ]
  },
  {
   "cell_type": "markdown",
   "id": "02f1d266-138a-4fae-90b0-06ad02c76118",
   "metadata": {},
   "source": [
    "## Generating the embedding strings"
   ]
  },
  {
   "cell_type": "code",
   "execution_count": null,
   "id": "8b63a4ba-5d3e-4801-9d67-bcb988a20fff",
   "metadata": {
    "height": 419
   },
   "outputs": [],
   "source": [
    "q_api_properties = \"\"\"PREFIX odata: <http://example.org/odata#>\n",
    "PREFIX rdf: <http://www.w3.org/1999/02/22-rdf-syntax-ns#>\n",
    "PREFIX xsd: <http://www.w3.org/2001/XMLSchema#>\n",
    "\n",
    "SELECT DISTINCT\n",
    "    ?entity_set ?property_label\n",
    "\n",
    "WHERE {\n",
    "    BIND(<http://data.example.org/Service/API_PURCHASEORDER_2/EntitySet/PURCHASEORDER> \n",
    "    as ?entity_set_uri)\n",
    "    ?entity_set_uri rdf:type odata:EntitySet.\n",
    "    ?entity_set_uri odata:name ?entity_set.\n",
    "    ?entity_set_uri odata:entityType ?entity_type_uri.\n",
    "\n",
    "\n",
    "    # Properties on the EntitySet\n",
    "    {\n",
    "        ?entity_type_uri odata:property ?property_uri.\n",
    "        ?property_uri odata:label ?property_label.\n",
    "        # ?property_uri odata:selectProperty true\n",
    "    }\n",
    "}\n",
    "\"\"\""
   ]
  },
  {
   "cell_type": "code",
   "execution_count": null,
   "id": "e776c4e0-a97c-4543-992e-209106121e51",
   "metadata": {
    "height": 164
   },
   "outputs": [],
   "source": [
    "df_dict = {\n",
    "    \"entity_set\": [],\n",
    "    \"property_label\": [],\n",
    "}\n",
    "for row in graph.query(q_api_properties):\n",
    "    df_dict[\"entity_set\"].append(str(row.entity_set))\n",
    "    df_dict[\"property_label\"].append(str(row.property_label))\n"
   ]
  },
  {
   "cell_type": "code",
   "execution_count": null,
   "id": "86187b31-4d01-4ebe-aea5-ae12fe6806df",
   "metadata": {
    "height": 30
   },
   "outputs": [],
   "source": [
    "pd.DataFrame(df_dict).head(15)"
   ]
  },
  {
   "cell_type": "code",
   "execution_count": null,
   "id": "3e32f232-717e-474a-8588-b1c28854b8d3",
   "metadata": {
    "height": 249
   },
   "outputs": [],
   "source": [
    "q_embedding_string = \"\"\"\n",
    "PREFIX odata: <http://example.org/odata#>\n",
    "SELECT \n",
    "?entity_set_uri (CONCAT(CONCAT(CONCAT(\"entity set: \", ?entity_set_name), \"; properties: \"), group_concat(?property_label;separator=\", \")) \n",
    "    AS ?embedding_string)\n",
    "WHERE\n",
    "{\n",
    "\t?entity_set_uri a odata:EntitySet ;\n",
    "        odata:name ?entity_set_name ;\n",
    "        odata:entityType/odata:property/odata:label ?property_label .\n",
    "}\n",
    "GROUP BY ?entity_set_uri ?entity_set_name\n",
    "\"\"\""
   ]
  },
  {
   "cell_type": "code",
   "execution_count": null,
   "id": "9feca8b8-fcee-40d6-94a1-b7a3f6d07613",
   "metadata": {
    "height": 45
   },
   "outputs": [],
   "source": [
    "str(next(iter(graph.query(q_embedding_string))).embedding_string)"
   ]
  },
  {
   "cell_type": "markdown",
   "id": "57e5b081-f5e7-490d-9b11-2a70f6a7ed02",
   "metadata": {},
   "source": [
    "## Generate Embeddings"
   ]
  },
  {
   "cell_type": "code",
   "execution_count": null,
   "id": "964c61e5-5edf-48ed-b2b0-93aada3fffce",
   "metadata": {
    "height": 147
   },
   "outputs": [],
   "source": [
    "embeddings = []\n",
    "entity_set_uris = []\n",
    "\n",
    "for row in tqdm.tqdm(graph.query(q_embedding_string)):\n",
    "    embedding = embedding_model.embed_query(row.embedding_string)\n",
    "    embeddings.append(embedding)\n",
    "    entity_set_uris.append(str(row.entity_set_uri))"
   ]
  },
  {
   "cell_type": "code",
   "execution_count": null,
   "id": "06349cd2-37c7-483d-8087-dc1431794c56",
   "metadata": {
    "height": 79
   },
   "outputs": [],
   "source": [
    "xb = np.array(embeddings).astype(\"float32\")\n",
    "index = IndexFlatL2(xb.shape[1])\n",
    "index.add(xb)"
   ]
  },
  {
   "cell_type": "code",
   "execution_count": null,
   "id": "ed4bbd47-bd7c-4b16-b21e-a2a802f729be",
   "metadata": {
    "height": 147
   },
   "outputs": [],
   "source": [
    "import pickle\n",
    "\n",
    "with open(\"../ro_shared_data/entity_sets_index.pickle\", \"wb\") as file:\n",
    "    pickle.dump(index, file)\n",
    "\n",
    "with open(\"../ro_shared_data/entity_set_uris.pickle\", \"wb\") as file:\n",
    "    pickle.dump(entity_set_uris, file)"
   ]
  },
  {
   "cell_type": "markdown",
   "id": "bd86f308-ee90-40ab-9167-94f67fb0d1bb",
   "metadata": {},
   "source": [
    "## Query the index"
   ]
  },
  {
   "cell_type": "code",
   "execution_count": null,
   "id": "f4271364-8b32-4f95-b15f-4ef4228821e7",
   "metadata": {
    "height": 198
   },
   "outputs": [],
   "source": [
    "def query_index(\n",
    "    index: IndexFlat,\n",
    "    entity_set_uris: list[str],\n",
    "    embedding_model: OpenAIEmbeddings,\n",
    "    query: str,\n",
    "    top: int = 5,\n",
    ") -> list[str]:\n",
    "    x_query = np.array([embedding_model.embed_query(query)])\n",
    "    _, indices = index.search(x_query, top)\n",
    "    return [entity_set_uris[i] for i in indices[0]]"
   ]
  },
  {
   "cell_type": "code",
   "execution_count": null,
   "id": "0c99c3b2-1594-48be-9414-2c50792ba01a",
   "metadata": {
    "height": 164
   },
   "outputs": [],
   "source": [
    "query_index(\n",
    "    index=index,\n",
    "    entity_set_uris=entity_set_uris,\n",
    "    embedding_model=embedding_model,\n",
    "    query=\"\"\"Create a purchase order for 5 pencils in \n",
    "    purchasing group 002 and purchasing organization 3000\"\"\",\n",
    "    top=5,\n",
    ")"
   ]
  },
  {
   "cell_type": "markdown",
   "id": "1f6f1571-54b8-4090-b3a1-d1becd8ed905",
   "metadata": {},
   "source": [
    "## Enhace retrieval with process information"
   ]
  },
  {
   "cell_type": "code",
   "execution_count": null,
   "id": "f4516cc6-6b6f-44a3-be5e-c53467741dca",
   "metadata": {
    "height": 453
   },
   "outputs": [],
   "source": [
    "q_get_process_dependencies = \"\"\"\n",
    "    PREFIX pr: <http://example.org/process#>\n",
    "    PREFIX odata: <http://example.org/odata#>\n",
    "    SELECT DISTINCT ?entitySetA ?entitySetB ?nameA ?nameB\n",
    "    WHERE {\n",
    "        {\n",
    "        VALUES ?entitySetA { var:::entity_set_uris }\n",
    "        ?activityA  pr:entitySet ?entitySetA ;\n",
    "                    pr:hasNext ?activityB . \n",
    "        \n",
    "        ?activityB pr:entitySet ?entitySetB .\n",
    "        ?entitySetA odata:name ?nameA .\n",
    "        ?entitySetB odata:name ?nameB .\n",
    "        } \n",
    "        UNION {\n",
    "        VALUES ?entitySetB { var:::entity_set_uris }\n",
    "        ?activityA  pr:entitySet ?entitySetA ;\n",
    "                    pr:hasNext ?activityB . \n",
    "        \n",
    "        ?activityB pr:entitySet ?entitySetB .\n",
    "        ?entitySetA odata:name ?nameA .\n",
    "        ?entitySetB odata:name ?nameB .\n",
    "        }\n",
    "    }\n",
    "    \"\"\""
   ]
  },
  {
   "cell_type": "code",
   "execution_count": null,
   "id": "73608465-8efc-46d3-a7f4-23645b09f447",
   "metadata": {
    "height": 249
   },
   "outputs": [],
   "source": [
    "def get_process_dependencies(\n",
    "    entity_set_uris: list[str], graph: Dataset\n",
    ") -> list[tuple[str, str, str, str]]:\n",
    "    entity_set_uris = \" \".join([f\"<{uri}>\" for uri in entity_set_uris])\n",
    "    return [\n",
    "        (str(row.entitySetA), str(row.entitySetB), str(row.nameA), str(row.nameB))\n",
    "        for row in graph.query(\n",
    "            parameterize_sparql(\n",
    "                query=q_get_process_dependencies,\n",
    "                parameters={\"entity_set_uris\": entity_set_uris},\n",
    "            )\n",
    "        )\n",
    "    ]"
   ]
  },
  {
   "cell_type": "code",
   "execution_count": null,
   "id": "038a1f77-7fcd-42f5-927c-22771bc8bada",
   "metadata": {
    "height": 215
   },
   "outputs": [],
   "source": [
    "retrieved_entity_set_uris = query_index(\n",
    "    index=index,\n",
    "    entity_set_uris=entity_set_uris,\n",
    "    embedding_model=embedding_model,\n",
    "    query=\"\"\"Create a purchase order for 5 pencils in\n",
    "    purchasing group 002 and purchasing organization 3000\"\"\",\n",
    "    top=5,\n",
    ")\n",
    "\n",
    "get_process_dependencies(entity_set_uris=retrieved_entity_set_uris, \n",
    "                         graph=graph)"
   ]
  },
  {
   "cell_type": "markdown",
   "id": "e415f7c7-2f90-4c1d-b74f-1a486bee42be",
   "metadata": {},
   "source": [
    "## Putting everything together"
   ]
  },
  {
   "cell_type": "code",
   "execution_count": null,
   "id": "e163429c-2baf-434d-82a6-103438cf6463",
   "metadata": {
    "height": 589
   },
   "outputs": [],
   "source": [
    "def discover_apis_and_process(\n",
    "    query: str,\n",
    "    graph: Dataset,\n",
    "    index: IndexFlat,\n",
    "    entity_set_uris: list[str],\n",
    "    embedding_model: OpenAIEmbeddings,\n",
    ") -> dict:\n",
    "    \n",
    "    retrieved_entity_set_uris = query_index(\n",
    "        index=index,\n",
    "        entity_set_uris=entity_set_uris,\n",
    "        embedding_model=embedding_model,\n",
    "        query=query,\n",
    "        top=5,\n",
    "    )\n",
    "\n",
    "    dependencies = get_process_dependencies(\n",
    "        entity_set_uris=retrieved_entity_set_uris, graph=graph\n",
    "    )\n",
    "    \n",
    "    merged_entity_sets = set(retrieved_entity_set_uris)\n",
    "\n",
    "    process_information = []\n",
    "    for dependency in dependencies:\n",
    "        merged_entity_sets.add(dependency[0])\n",
    "        merged_entity_sets.add(dependency[1])\n",
    "        process_information.append(\n",
    "            f\"{dependency[3]} depends on {dependency[2]}\")\n",
    "\n",
    "    return {\n",
    "        \"entity_sets\": merged_entity_sets,\n",
    "        \"process_information\": process_information,\n",
    "    }"
   ]
  },
  {
   "cell_type": "code",
   "execution_count": null,
   "id": "daf63510-ecb1-4823-a7c5-c004300994a9",
   "metadata": {
    "height": 164
   },
   "outputs": [],
   "source": [
    "discover_apis_and_process(\n",
    "    query=\"\"\"Create a purchase order for 5 pencils in\n",
    "    purchasing group 002 and purchasing organization 3000\"\"\",\n",
    "    graph=graph,\n",
    "    index=index,\n",
    "    entity_set_uris=entity_set_uris,\n",
    "    embedding_model=embedding_model,\n",
    ")"
   ]
  },
  {
   "cell_type": "code",
   "execution_count": null,
   "id": "1da24d83-a126-4200-95e4-317b1701100a",
   "metadata": {
    "height": 30
   },
   "outputs": [],
   "source": []
  },
  {
   "cell_type": "code",
   "execution_count": null,
   "id": "56863a60-d3a6-43de-91d2-b23f008ba572",
   "metadata": {
    "height": 30
   },
   "outputs": [],
   "source": []
  },
  {
   "cell_type": "code",
   "execution_count": null,
   "id": "234c43aa-aeb4-4d7e-9d24-b2138cbd2bf8",
   "metadata": {
    "height": 30
   },
   "outputs": [],
   "source": []
  },
  {
   "cell_type": "code",
   "execution_count": null,
   "id": "6f508046-a389-4504-a5ca-92b59eda4632",
   "metadata": {
    "height": 30
   },
   "outputs": [],
   "source": []
  },
  {
   "cell_type": "code",
   "execution_count": null,
   "id": "a84f67b4-feb0-4cd1-9d6f-d170a2eb3849",
   "metadata": {
    "height": 30
   },
   "outputs": [],
   "source": []
  },
  {
   "cell_type": "code",
   "execution_count": null,
   "id": "dd75e9b5-76be-417f-904d-b1c834c99b99",
   "metadata": {
    "height": 30
   },
   "outputs": [],
   "source": []
  }
 ],
 "metadata": {
  "kernelspec": {
   "display_name": "Python 3 (ipykernel)",
   "language": "python",
   "name": "python3"
  },
  "language_info": {
   "codemirror_mode": {
    "name": "ipython",
    "version": 3
   },
   "file_extension": ".py",
   "mimetype": "text/x-python",
   "name": "python",
   "nbconvert_exporter": "python",
   "pygments_lexer": "ipython3",
   "version": "3.11.3"
  }
 },
 "nbformat": 4,
 "nbformat_minor": 5
}
