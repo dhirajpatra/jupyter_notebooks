{
 "cells": [
  {
   "cell_type": "markdown",
   "id": "4a73caf8-ec86-4488-a1a9-5dd13aa4505c",
   "metadata": {},
   "source": [
    "# L5: Business Process Agent"
   ]
  },
  {
   "cell_type": "markdown",
   "id": "69e9cde8-64ce-42cb-b376-9612710951c1",
   "metadata": {},
   "source": [
    "<p style=\"background-color:#fff6e4; padding:15px; border-width:3px; border-color:#f5ecda; border-style:solid; border-radius:6px\"> ⏳ <b>Note <code>(Kernel Starting)</code>:</b> This notebook takes about 30 seconds to be ready to use. You may start and watch the video while you wait.</p>"
   ]
  },
  {
   "cell_type": "code",
   "execution_count": null,
   "id": "7f59b9b8-e6af-4332-905e-2913135bbfc9",
   "metadata": {
    "height": 64
   },
   "outputs": [],
   "source": [
    "# Warning control\n",
    "import warnings\n",
    "warnings.filterwarnings('ignore')"
   ]
  },
  {
   "cell_type": "markdown",
   "id": "fb807550-4dd2-4e16-8320-7caa480161f2",
   "metadata": {},
   "source": [
    "## Setup"
   ]
  },
  {
   "cell_type": "code",
   "execution_count": null,
   "id": "adb61490-3463-4307-9dbe-ccf152bf3e2c",
   "metadata": {
    "height": 96
   },
   "outputs": [],
   "source": [
    "from helper import get_openai_api_key\n",
    "from helper import parameterize_sparql\n",
    "\n",
    "from langchain_openai import OpenAIEmbeddings, ChatOpenAI"
   ]
  },
  {
   "cell_type": "markdown",
   "id": "cf23f3b6-7598-4c8f-a1c7-74d359882a04",
   "metadata": {},
   "source": [
    "<div style=\"background-color:#fff6ff; padding:13px; border-width:3px; border-color:#efe6ef; border-style:solid; border-radius:6px\">\n",
    "<p> 💻 &nbsp; <b>Access <code>requirements.txt</code> and <code>helper.py</code> files:</b> 1) click on the <em>\"File\"</em> option on the top menu of the notebook and then 2) click on <em>\"Open\"</em>.\n",
    "\n",
    "<p> ⬇ &nbsp; <b>Download Notebooks:</b> 1) click on the <em>\"File\"</em> option on the top menu of the notebook and then 2) click on <em>\"Download as\"</em> and select <em>\"Notebook (.ipynb)\"</em>.</p>\n",
    "</div>"
   ]
  },
  {
   "cell_type": "code",
   "execution_count": null,
   "id": "cc2f7a43-cfb1-4c12-8ccc-1696a1013bb0",
   "metadata": {
    "height": 164
   },
   "outputs": [],
   "source": [
    "openai_api_key = get_openai_api_key()\n",
    "\n",
    "embedding_model = OpenAIEmbeddings(model=\"text-embedding-3-large\")\n",
    "llm = ChatOpenAI(\n",
    "    model=\"gpt-4o\",\n",
    "    temperature=0,\n",
    "    max_tokens=None,\n",
    "    max_retries=2)"
   ]
  },
  {
   "cell_type": "code",
   "execution_count": null,
   "id": "ebd00b59-f0b8-4672-9737-14dbe6cb8096",
   "metadata": {
    "height": 113
   },
   "outputs": [],
   "source": [
    "from rdflib import Dataset\n",
    "\n",
    "graph = Dataset(default_union=True)\n",
    "graph.parse(\"./ro_shared_data/odata_knowledge_graph.ttl\",\n",
    "            format=\"turtle\")"
   ]
  },
  {
   "cell_type": "markdown",
   "id": "208a9a82-edac-4ffb-9a5a-a29cb1521df8",
   "metadata": {},
   "source": [
    "## Fetch API specifications"
   ]
  },
  {
   "cell_type": "code",
   "execution_count": null,
   "id": "3e32f232-717e-474a-8588-b1c28854b8d3",
   "metadata": {
    "height": 45
   },
   "outputs": [],
   "source": [
    "from helper import fetch_entity_specification"
   ]
  },
  {
   "cell_type": "code",
   "execution_count": null,
   "id": "166f3515-98de-4cf2-b0d5-8f0047becba0",
   "metadata": {
    "height": 79
   },
   "outputs": [],
   "source": [
    "fetch_entity_specification(graph,\n",
    "    entity_set_uri=\"http://data.example.org/Service/API_PURCHASEORDER_2/EntitySet/PURCHASEORDER\"\n",
    ")"
   ]
  },
  {
   "cell_type": "markdown",
   "id": "66c766f5-58ea-43f6-8a4f-4581deb5973f",
   "metadata": {},
   "source": [
    "## Discovery Tool"
   ]
  },
  {
   "cell_type": "code",
   "execution_count": null,
   "id": "2e74962a-ac1b-4d31-87c6-975a04804bb9",
   "metadata": {
    "height": 147
   },
   "outputs": [],
   "source": [
    "import pickle\n",
    "\n",
    "with open(\"../ro_shared_data/entity_sets_index.pickle\", \"rb\") as file:\n",
    "    index = pickle.load(file)\n",
    "\n",
    "with open(\"../ro_shared_data/entity_set_uris.pickle\", \"rb\") as file:\n",
    "    entity_set_uris = pickle.load(file)"
   ]
  },
  {
   "cell_type": "code",
   "execution_count": null,
   "id": "964c61e5-5edf-48ed-b2b0-93aada3fffce",
   "metadata": {
    "height": 45
   },
   "outputs": [],
   "source": [
    "from helper import discover_apis_and_process"
   ]
  },
  {
   "cell_type": "code",
   "execution_count": null,
   "id": "8d1fdf19-ff5d-4012-9bbc-51a19ee2da53",
   "metadata": {
    "height": 181
   },
   "outputs": [],
   "source": [
    "query = \"\"\"Show me the active purchase orders in\n",
    "purchasing group 002 and purchasing organization 3000\"\"\"\n",
    "discover_apis_and_process(\n",
    "    query=query,\n",
    "    graph=graph,\n",
    "    index=index,\n",
    "    entity_set_uris=entity_set_uris,\n",
    "    embedding_model=embedding_model,\n",
    ")"
   ]
  },
  {
   "cell_type": "code",
   "execution_count": null,
   "id": "06349cd2-37c7-483d-8087-dc1431794c56",
   "metadata": {
    "height": 521
   },
   "outputs": [],
   "source": [
    "from langchain_core.tools import tool\n",
    "\n",
    "@tool\n",
    "def discover_apis(user_query: str) -> dict:\n",
    "    \"\"\"Discovers relevant API specifications and process information\n",
    "    based on the user query.\n",
    "\n",
    "    Args:\n",
    "            user_query (str): user query\n",
    "\n",
    "    Returns:\n",
    "            discovery: (dict) of the form {'api_specs': api_specs,\n",
    "            'process_information': process_information}\n",
    "    \"\"\"\n",
    "    discovery = discover_apis_and_process(\n",
    "        query=user_query,\n",
    "        graph=graph,\n",
    "        index=index,\n",
    "        entity_set_uris=entity_set_uris,\n",
    "        embedding_model=embedding_model,\n",
    "    )\n",
    "    api_specs = [\n",
    "        fetch_entity_specification(graph ,entity_set_uri)\n",
    "        for entity_set_uri in discovery[\"entity_sets\"]\n",
    "    ]\n",
    "    return {\n",
    "        \"api_specs\": api_specs,\n",
    "        \"process_information\": discovery[\"process_information\"],\n",
    "    }"
   ]
  },
  {
   "cell_type": "markdown",
   "id": "ff163b10-6915-4048-b0ef-e015345a92e0",
   "metadata": {},
   "source": [
    "## Tools for calling mocked Data APIs"
   ]
  },
  {
   "cell_type": "code",
   "execution_count": null,
   "id": "7a42e316-b8fc-4dcb-b11b-0f6998bf1644",
   "metadata": {
    "height": 79
   },
   "outputs": [],
   "source": [
    "from helper import (data_prs, data_pos, data, \n",
    "                    post_data_mock, get_data_mock, \n",
    "                    display_pos, display_prs)"
   ]
  },
  {
   "cell_type": "code",
   "execution_count": null,
   "id": "07ce1c2c-e0c3-4cb3-b5e7-27395a98dc99",
   "metadata": {
    "height": 30
   },
   "outputs": [],
   "source": [
    "display_prs(data_prs)"
   ]
  },
  {
   "cell_type": "code",
   "execution_count": null,
   "id": "f4271364-8b32-4f95-b15f-4ef4228821e7",
   "metadata": {
    "height": 30
   },
   "outputs": [],
   "source": [
    "display_pos(data_pos)"
   ]
  },
  {
   "cell_type": "code",
   "execution_count": null,
   "id": "ea7203b6-1249-4fce-a25d-688b710de235",
   "metadata": {
    "height": 232
   },
   "outputs": [],
   "source": [
    "post_data_mock(\n",
    "    data=data,\n",
    "    service_name=\"API_PURCHASEORDER_2\",\n",
    "    entity_set=\"PURCHASEORDER\",\n",
    "    payload={\n",
    "        \"PurchaseOrderItem\": [\n",
    "            {\"Material\": \"mouse\", \"OrderQuantity\": 5},\n",
    "            {\"Material\": \"keyboard\", \"OrderQuantity\": 3},\n",
    "        ]\n",
    "    },\n",
    ")\n",
    "display_pos(data_pos)"
   ]
  },
  {
   "cell_type": "code",
   "execution_count": null,
   "id": "f4516cc6-6b6f-44a3-be5e-c53467741dca",
   "metadata": {
    "height": 181
   },
   "outputs": [],
   "source": [
    "get_data_mock(\n",
    "    data=data,\n",
    "    service_name=\"API_PURCHASEORDER_2\",\n",
    "    entity_set=\"PURCHASEORDER\",\n",
    "    filter_string=\"\"\"PurchasingGroup eq '005'\n",
    "    and PurchasingOrganization eq '3000'\"\"\",\n",
    "    selects_string=\"PurchaseOrder,PurchasingGroup,PurchasingOrganization\",\n",
    ")\n"
   ]
  },
  {
   "cell_type": "code",
   "execution_count": null,
   "id": "5712130a-1ea7-463b-b4da-e0fbef0d1c18",
   "metadata": {
    "height": 640
   },
   "outputs": [],
   "source": [
    "@tool\n",
    "def get_api(service_name: str, entity_set: str,\n",
    "    filter_string: str | None = None, selects_string: str | None = None,\n",
    ") -> dict:\n",
    "    \"\"\"Fetches data from an API based on the provided parameters.\n",
    "\n",
    "    Args:\n",
    "            service_name (str): Name of the service.\n",
    "            entity_set (str): Name of the entity set to query.\n",
    "            filter_string (str, optional): Filter conditions for the query. Defaults to None.\n",
    "            selects_string (str, optional): Fields to select in the response. Defaults to None.\n",
    "\n",
    "    Returns:\n",
    "            dict: The response from the API.\n",
    "    \"\"\"\n",
    "    return get_data_mock(data=data, service_name=service_name,\n",
    "        entity_set=entity_set, filter_string=filter_string, \n",
    "        selects_string=selects_string,\n",
    "    )\n",
    "\n",
    "@tool\n",
    "def post_data_api(service_name: str, entity_set: str, \n",
    "                  payload: dict | None = None) -> dict:\n",
    "    \"\"\"Posts data to an API based on the provided parameters.\n",
    "\n",
    "    Args:\n",
    "            service_name (str): Name of the service.\n",
    "            entity_set (str): Name of the entity set to post data to.\n",
    "            payload (dict): The data to be posted.\n",
    "\n",
    "    Returns:\n",
    "            dict: The response from the API.\n",
    "    \"\"\"\n",
    "    return post_data_mock(\n",
    "        data=data, service_name=service_name, entity_set=entity_set, payload=payload\n",
    "    )"
   ]
  },
  {
   "cell_type": "markdown",
   "id": "28ded96f-d782-4f9d-b235-09e3a162bb83",
   "metadata": {},
   "source": [
    "## Define Agent"
   ]
  },
  {
   "cell_type": "code",
   "execution_count": null,
   "id": "2fe124d4-1a2e-442c-8a73-a5ee0f35499c",
   "metadata": {
    "height": 62
   },
   "outputs": [],
   "source": [
    "from langchain.agents import AgentExecutor, create_tool_calling_agent\n",
    "from langchain_core.prompts import ChatPromptTemplate"
   ]
  },
  {
   "cell_type": "code",
   "execution_count": null,
   "id": "fdd6e842-a429-4374-a50c-df311f99562e",
   "metadata": {
    "height": 895
   },
   "outputs": [],
   "source": [
    "prompt = ChatPromptTemplate.from_messages(\n",
    "    [\n",
    "        (\n",
    "            \"system\",\n",
    "            \"\"\"You are a helpful assistant that can discover and\n",
    "            call OData APIs to serve user requests.\"\"\",\n",
    "        ),\n",
    "        (\n",
    "            \"human\",\n",
    "            \"\"\"\n",
    "            1. Discover the relevant APIs and process information based\n",
    "            on the user query. Use the full user query to discover the\n",
    "            APIs.\n",
    "            2. If you discover business process information relevant to\n",
    "            the user query, make sure to follow the process to serve\n",
    "            the user request.\n",
    "            3. If an entityset has navigations, these can be used to\n",
    "            create parent and child object in one API call to the parent.\n",
    "            The payload may look like this:\n",
    "            {{\n",
    "                \"parent_property_1\": \"value_1\",\n",
    "                \"parent_property_2\": \"value_2\",\n",
    "                \"child_entity_set_name\": [\n",
    "                {{\"child_property_1\": \"value_3\"}},\n",
    "                {{\"child_property_2\": \"value_4\"}}\n",
    "                ]\n",
    "            }}\n",
    "\n",
    "\t\t\t- DO NOT create child objects without creating the parent \n",
    "              object first. \n",
    "            - Pay attention to the cardinality of the navigations. \n",
    "              If the cardinality is one_to_many, the dependent entity set\n",
    "              can be a list of objects.\n",
    "\t\t\t- Do not invent values, for properties that are not specified,\n",
    "              to not include them in the payload.        \n",
    "\t\t    - Use all fields that you're given values for \n",
    "              (either by the user or from previous tool calls) which match\n",
    "              API properties in the payload.\n",
    "            - If you create objects, do not include the key properties \n",
    "              in the payload. The keys properties are generated by \n",
    "              the backend.\n",
    "\t\t\t- When referring to previously created objects,\n",
    "              use the keys of the objects in the payload \n",
    "\t\t\t- If you create objects, do not query them to check.\n",
    "            \"\"\",\n",
    "        ),\n",
    "        (\"placeholder\", \"{chat_history}\"),\n",
    "        (\"human\", \"{input}\"),\n",
    "        (\"placeholder\", \"{agent_scratchpad}\"),\n",
    "    ]\n",
    ")"
   ]
  },
  {
   "cell_type": "code",
   "execution_count": null,
   "id": "e2012f90-30b6-4632-b5ae-3d8436d13b31",
   "metadata": {
    "height": 198
   },
   "outputs": [],
   "source": [
    "agent = create_tool_calling_agent(\n",
    "    llm=llm, tools=[discover_apis, get_api, post_data_api], prompt=prompt\n",
    ")\n",
    "\n",
    "agent_executor = AgentExecutor.from_agent_and_tools(\n",
    "    agent=agent,\n",
    "    tools=[get_api, post_data_api, discover_apis],\n",
    "    verbose=True,\n",
    "    return_intermediate_steps=True,\n",
    ")"
   ]
  },
  {
   "cell_type": "markdown",
   "id": "37fba3cc-eeb3-41a8-b617-48bb47997a16",
   "metadata": {},
   "source": [
    "## Example 1: Get active Purchase Orders"
   ]
  },
  {
   "cell_type": "markdown",
   "id": "6a3bd6ab-1024-4b3b-a54d-90f7c51915eb",
   "metadata": {},
   "source": [
    "<p style=\"background-color:#f7fff8; padding:15px; border-width:3px; border-color:#e0f0e0; border-style:solid; border-radius:6px\"> 🚨\n",
    "&nbsp; <b>Note about LLMs and Agent State of the Art, Please Read!:</b>   LLMs do not always produce the same results. Consequently, the agent behavior you experience when running labs may differ from the video. AI agents are at the cutting edge of development. Managing probablistic behavior is an ongoing area of research.</p>"
   ]
  },
  {
   "cell_type": "code",
   "execution_count": null,
   "id": "e163429c-2baf-434d-82a6-103438cf6463",
   "metadata": {
    "height": 130
   },
   "outputs": [],
   "source": [
    "res = agent_executor.invoke(\n",
    "    {\n",
    "        \"input\": \"\"\"Show me active purchase orders in\n",
    "        purchasing group 002 and purchasing organization 3000\"\"\"\n",
    "    }\n",
    ")"
   ]
  },
  {
   "cell_type": "code",
   "execution_count": null,
   "id": "5df9bfa0-56e9-4bf7-b108-9de296e942af",
   "metadata": {
    "height": 249
   },
   "outputs": [],
   "source": [
    "fixed_values_insert = \"\"\"\n",
    "PREFIX odata: <http://example.org/odata#>\n",
    "INSERT DATA {\n",
    "    <http://data.example.org/Service/API_PURCHASEORDER_2/EntityType/PURCHASEORDER_TYPE/Property/PURCHASINGPROCESSINGSTATUS> odata:valueHelp \n",
    "        [ odata:key \"01\" ; odata:value \"In process\" ],\n",
    "        [ odata:key \"02\" ; odata:value \"Active\" ],\n",
    "        [ odata:key \"03\" ; odata:value \"In release\" ],\n",
    "        [ odata:key \"04\" ; odata:value \"Partially released\" ],\n",
    "        [ odata:key \"05\" ; odata:value \"Release completed\" ],\n",
    "        [ odata:key \"08\" ; odata:value \"Rejected\" ] .\n",
    "}\n",
    "\"\"\"\n",
    "graph.update(fixed_values_insert)"
   ]
  },
  {
   "cell_type": "code",
   "execution_count": null,
   "id": "dd1ce9e1-d9fe-4a06-a2da-4c18b2774a01",
   "metadata": {
    "height": 130
   },
   "outputs": [],
   "source": [
    "res = agent_executor.invoke(\n",
    "    {\n",
    "        \"input\": \"\"\"Show me the active purchase orders in\n",
    "        purchasing group 002 and purchasing organization 3000\"\"\"\n",
    "    }\n",
    ")"
   ]
  },
  {
   "cell_type": "markdown",
   "id": "bc337d8e-8bd5-4532-a557-fd2f3572d39f",
   "metadata": {},
   "source": [
    "## Example 2: Create Purchase Order"
   ]
  },
  {
   "cell_type": "markdown",
   "id": "cd16139d-0f96-487c-a833-b0d8792fe7a0",
   "metadata": {},
   "source": [
    "<p style=\"background-color:#f7fff8; padding:15px; border-width:3px; border-color:#e0f0e0; border-style:solid; border-radius:6px\"> 🚨\n",
    "&nbsp; <b>Note about LLMs and Agent State of the Art, Please Read!:</b>   LLMs do not always produce the same results. Consequently, the agent behavior you experience when running labs may differ from the video. AI agents are at the cutting edge of development. Managing probablistic behavior is an ongoing area of research.</p>"
   ]
  },
  {
   "cell_type": "code",
   "execution_count": null,
   "id": "6d298c75-7c36-4e42-8bbc-dc4798af0f03",
   "metadata": {
    "height": 130
   },
   "outputs": [],
   "source": [
    "res = agent_executor.invoke(\n",
    "    {\n",
    "        \"input\": \"\"\"Create a purchase order for 5 pencils in\n",
    "        purchasing group 002 and purchasing organization 3000\"\"\"\n",
    "    }\n",
    ")"
   ]
  },
  {
   "cell_type": "code",
   "execution_count": null,
   "id": "daf63510-ecb1-4823-a7c5-c004300994a9",
   "metadata": {
    "height": 30
   },
   "outputs": [],
   "source": [
    "display_prs(data_prs)"
   ]
  },
  {
   "cell_type": "code",
   "execution_count": null,
   "id": "234c43aa-aeb4-4d7e-9d24-b2138cbd2bf8",
   "metadata": {
    "height": 30
   },
   "outputs": [],
   "source": [
    "display_pos(data_pos)"
   ]
  },
  {
   "cell_type": "code",
   "execution_count": null,
   "id": "6f508046-a389-4504-a5ca-92b59eda4632",
   "metadata": {
    "height": 30
   },
   "outputs": [],
   "source": []
  },
  {
   "cell_type": "code",
   "execution_count": null,
   "id": "a84f67b4-feb0-4cd1-9d6f-d170a2eb3849",
   "metadata": {
    "height": 30
   },
   "outputs": [],
   "source": []
  },
  {
   "cell_type": "code",
   "execution_count": null,
   "id": "dd75e9b5-76be-417f-904d-b1c834c99b99",
   "metadata": {
    "height": 30
   },
   "outputs": [],
   "source": []
  },
  {
   "cell_type": "code",
   "execution_count": null,
   "id": "58f9be13-d7ed-4459-9588-692c53489402",
   "metadata": {
    "height": 30
   },
   "outputs": [],
   "source": []
  },
  {
   "cell_type": "code",
   "execution_count": null,
   "id": "1e4e6298-6232-483d-9183-08895cc3c891",
   "metadata": {
    "height": 30
   },
   "outputs": [],
   "source": []
  },
  {
   "cell_type": "code",
   "execution_count": null,
   "id": "b8427096-f917-443e-8ef0-e902f2cad5f4",
   "metadata": {
    "height": 30
   },
   "outputs": [],
   "source": []
  }
 ],
 "metadata": {
  "kernelspec": {
   "display_name": "Python 3 (ipykernel)",
   "language": "python",
   "name": "python3"
  },
  "language_info": {
   "codemirror_mode": {
    "name": "ipython",
    "version": 3
   },
   "file_extension": ".py",
   "mimetype": "text/x-python",
   "name": "python",
   "nbconvert_exporter": "python",
   "pygments_lexer": "ipython3",
   "version": "3.11.3"
  }
 },
 "nbformat": 4,
 "nbformat_minor": 5
}
