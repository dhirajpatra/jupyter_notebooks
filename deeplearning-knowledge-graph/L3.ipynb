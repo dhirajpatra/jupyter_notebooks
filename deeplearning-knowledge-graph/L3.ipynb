{
 "cells": [
  {
   "cell_type": "markdown",
   "id": "f18cfa05-553b-43bf-8836-b2f2391b8e5d",
   "metadata": {},
   "source": [
    "# L3: Integration with Business Processes"
   ]
  },
  {
   "cell_type": "markdown",
   "id": "730f9ee1-39eb-4a05-8eb8-5cf119256189",
   "metadata": {},
   "source": [
    "<p style=\"background-color:#fff6e4; padding:15px; border-width:3px; border-color:#f5ecda; border-style:solid; border-radius:6px\"> ⏳ <b>Note <code>(Kernel Starting)</code>:</b> This notebook takes about 30 seconds to be ready to use. You may start and watch the video while you wait.</p>"
   ]
  },
  {
   "cell_type": "code",
   "execution_count": null,
   "id": "db9a5318-fd45-41ae-b3b9-94556f4ffd29",
   "metadata": {
    "height": 132
   },
   "outputs": [],
   "source": [
    "import pandas as pd\n",
    "from rdflib import Graph\n",
    "import networkx as nx\n",
    "from matplotlib import pyplot as plt\n",
    "from netgraph import Graph as NetGraph\n",
    "\n",
    "from helper import rdf_to_nx"
   ]
  },
  {
   "cell_type": "code",
   "execution_count": null,
   "id": "adb61490-3463-4307-9dbe-ccf152bf3e2c",
   "metadata": {
    "height": 96
   },
   "outputs": [],
   "source": [
    "api_kg = Graph()\n",
    "api_kg = api_kg.parse(\"ro_shared_data/api_knowledge_graph.ttl\", \n",
    "                      format=\"turtle\")\n",
    "print(f\"API KG size: {len(api_kg)} triples\")"
   ]
  },
  {
   "cell_type": "markdown",
   "id": "18605200-424d-464a-a05f-70ee5b4bb685",
   "metadata": {},
   "source": [
    "<div style=\"background-color:#fff6ff; padding:13px; border-width:3px; border-color:#efe6ef; border-style:solid; border-radius:6px\">\n",
    "<p> 💻 &nbsp; <b>Access <code>requirements.txt</code> and <code>helper.py</code> files:</b> 1) click on the <em>\"File\"</em> option on the top menu of the notebook and then 2) click on <em>\"Open\"</em>.\n",
    "\n",
    "<p> ⬇ &nbsp; <b>Download Notebooks:</b> 1) click on the <em>\"File\"</em> option on the top menu of the notebook and then 2) click on <em>\"Download as\"</em> and select <em>\"Notebook (.ipynb)\"</em>.</p>\n",
    "</div>"
   ]
  },
  {
   "cell_type": "code",
   "execution_count": null,
   "id": "cc2f7a43-cfb1-4c12-8ccc-1696a1013bb0",
   "metadata": {
    "height": 96
   },
   "outputs": [],
   "source": [
    "process_kg = Graph()\n",
    "process_kg = process_kg.parse('ro_shared_data/business_processes.ttl',\n",
    "                              format='turtle')\n",
    "print(f\"Business Process Graph size: {len(process_kg)} triples.\")"
   ]
  },
  {
   "cell_type": "code",
   "execution_count": null,
   "id": "ebd00b59-f0b8-4672-9737-14dbe6cb8096",
   "metadata": {
    "height": 232
   },
   "outputs": [],
   "source": [
    "process_query = \"\"\"\n",
    "PREFIX pr: <http://example.org/process#>\n",
    "SELECT ?name \n",
    "WHERE {\n",
    "    ?process a pr:Process .\n",
    "    ?process pr:name ?name .\n",
    "}\n",
    "\"\"\"\n",
    "results = process_kg.query(process_query)\n",
    "print(\"Processes:\")\n",
    "for row in results:\n",
    "    print(f\"- {row.name}\")"
   ]
  },
  {
   "cell_type": "markdown",
   "id": "f1462b8e-6171-48a1-8028-6c2bb091a157",
   "metadata": {},
   "source": [
    "## Integrating the Business Process Graph"
   ]
  },
  {
   "cell_type": "code",
   "execution_count": null,
   "id": "ea764238-fefc-4a89-9373-7e9d1a5d4dcc",
   "metadata": {
    "height": 79
   },
   "outputs": [],
   "source": [
    "kg = Graph()\n",
    "kg = api_kg + process_kg\n",
    "print(f\"Combined Knowledge Graph size: {len(kg)} triples.\")"
   ]
  },
  {
   "cell_type": "code",
   "execution_count": null,
   "id": "de2dd0a8-8d5b-4b78-9381-d4156226102c",
   "metadata": {
    "height": 45
   },
   "outputs": [],
   "source": [
    "kg.serialize(destination='odata_knowledge_graph.ttl', format='turtle')"
   ]
  },
  {
   "cell_type": "code",
   "execution_count": null,
   "id": "07d9ff18-db89-45f3-b9e9-1fa4606e5834",
   "metadata": {
    "height": 436
   },
   "outputs": [],
   "source": [
    "connect_query = \"\"\"\n",
    "PREFIX odata: <http://example.org/odata#>\n",
    "PREFIX pr: <http://example.org/process#>\n",
    "SELECT DISTINCT ?activityName ?entitySetName ?serviceName\n",
    "{\n",
    "    ?process a pr:Process .\n",
    "    ?process pr:name \"Procurement of Direct Materials\" .\n",
    "    ?process pr:start ?activity .\n",
    "    ?activity a pr:Activity .\n",
    "    ?activity pr:hasNext* ?nextActivity .\n",
    "    ?nextActivity a pr:Activity .\n",
    "    ?nextActivity pr:name ?activityName .\n",
    "    ?nextActivity pr:entitySet ?entity_set.\n",
    "    ?entity_set a odata:EntitySet .\n",
    "    ?entity_set odata:name ?entitySetName .\n",
    "    ?entity_set odata:entityType/odata:service ?service .\n",
    "    ?service odata:name ?serviceName  .\n",
    "}\n",
    "\"\"\"\n",
    "results = kg.query(connect_query)\n",
    "for row in results:\n",
    "    print(f\"Activity '{row.activityName}' is connected to \" + \n",
    "          f\"Entity Set '{row.entitySetName}' in \" +\n",
    "          f\"Service '{row.serviceName}'.\")"
   ]
  },
  {
   "cell_type": "markdown",
   "id": "d401bcac-93b1-42b7-b919-823fcf11e539",
   "metadata": {},
   "source": [
    "## Visualizing the connected graph"
   ]
  },
  {
   "cell_type": "markdown",
   "id": "1f65575e-3429-4330-a30f-59c30221c521",
   "metadata": {},
   "source": [
    "<p style=\"background-color:#f7fff8; padding:15px; border-width:3px; border-color:#e0f0e0; border-style:solid; border-radius:6px\"> 🚨\n",
    "&nbsp; <b>Different Run Results:</b> The output visualizations generated may differ from those shown in the video.</p>"
   ]
  },
  {
   "cell_type": "code",
   "execution_count": null,
   "id": "53eca76e-62d1-4fa3-b8e0-7e720925db7d",
   "metadata": {
    "height": 62
   },
   "outputs": [],
   "source": [
    "from IPython.display import Image\n",
    "Image(filename='ro_shared_data/api_graph_example.png')"
   ]
  },
  {
   "cell_type": "code",
   "execution_count": null,
   "id": "f1edd5e0-0483-4660-928e-50a49727fda8",
   "metadata": {
    "height": 266
   },
   "outputs": [],
   "source": [
    "find_entity_set_query = \"\"\"\n",
    "PREFIX odata: <http://example.org/odata#>\n",
    "SELECT ?uri ?name\n",
    "{{\n",
    "    ?uri a odata:EntitySet .\n",
    "    ?uri odata:name ?name .\n",
    "    FILTER(?name = \"{name}\")\n",
    "}}\n",
    "LIMIT 1\n",
    "\"\"\"\n",
    "# Get Purchase order entity set\n",
    "for res in kg.query(find_entity_set_query.format(name=\"PurchaseOrder\")):\n",
    "    PO_node = str(res.uri)\n",
    "    print(f\"URI of the Purchase order entity set:\\n{PO_node}\")"
   ]
  },
  {
   "cell_type": "code",
   "execution_count": null,
   "id": "e776c4e0-a97c-4543-992e-209106121e51",
   "metadata": {
    "height": 62
   },
   "outputs": [],
   "source": [
    "G = rdf_to_nx(kg)\n",
    "G_po = G.subgraph(nx.shortest_path(G, PO_node))"
   ]
  },
  {
   "cell_type": "markdown",
   "id": "530a1323-9761-442c-9b81-e6d1c8104ca4",
   "metadata": {},
   "source": [
    "<p style=\"background-color:#f7fff8; padding:15px; border-width:3px; border-color:#e0f0e0; border-style:solid; border-radius:6px\"> 🚨\n",
    "&nbsp; <b>Different Run Results:</b> The output visualizations generated may differ from those shown in the video.</p>"
   ]
  },
  {
   "cell_type": "code",
   "execution_count": null,
   "id": "c0ec48eb-433c-46ab-a7ab-c513a4acdd44",
   "metadata": {
    "height": 62
   },
   "outputs": [],
   "source": [
    "import warnings # Ignore harmless NetGraph warning from zero-length edge normalization\n",
    "warnings.filterwarnings(\"ignore\", message=\"invalid value encountered in divide\", module=\"netgraph\")"
   ]
  },
  {
   "cell_type": "code",
   "execution_count": null,
   "id": "86187b31-4d01-4ebe-aea5-ae12fe6806df",
   "metadata": {
    "height": 623
   },
   "outputs": [],
   "source": [
    "node_color = {}\n",
    "for node in G_po:\n",
    "    if \"API_PURCHASEORDER_2\" in node:\n",
    "        node_color[node] = \"#404040\"\n",
    "    elif \"API_PURCHASEREQUISITION_2\" in node:\n",
    "        node_color[node] = \"#0000FF\"\n",
    "    else:\n",
    "        node_color[node] = \"#c00000\"\n",
    "\n",
    "node_shapes = {}\n",
    "for node in G_po:\n",
    "    if \"Property\" in node:\n",
    "        node_shapes[node] = \"^\"\n",
    "    elif \"Navigation\" in node:\n",
    "        node_shapes[node] = \"v\"\n",
    "    elif \"EntityType\" in node:\n",
    "        node_shapes[node] = \"s\"\n",
    "    else:\n",
    "        node_shapes[node] = \"o\"\n",
    "\n",
    "node_size = {}\n",
    "for node in G_po:\n",
    "    if \"Property\" in node:\n",
    "        node_size[node] = .9\n",
    "    else:\n",
    "        node_size[node] = 1.3\n",
    "\n",
    "fig, ax = plt.subplots(figsize=(20,8))\n",
    "g = NetGraph(G_po,\n",
    "          node_layout=nx.spring_layout(G_po, seed=1), node_edge_width = 0,\n",
    "          node_size = node_size, edge_width=.1, node_color = node_color,\n",
    "          node_shape = node_shapes,\n",
    "          ax=ax\n",
    ")\n",
    "plt.show()"
   ]
  },
  {
   "cell_type": "code",
   "execution_count": null,
   "id": "74f5550c-07db-4d68-82bf-4e5cd347dc2d",
   "metadata": {
    "height": 198
   },
   "outputs": [],
   "source": [
    "edges_query = \"\"\"\n",
    "SELECT ?node1 ?node2\n",
    "WHERE {\n",
    "    ?node1 ?edge ?node2 . \n",
    "}\n",
    "ORDER BY RAND()\n",
    "LIMIT 1000\n",
    "\"\"\"\n",
    "edges = kg.query(edges_query)\n",
    "edges_list = [(str(row.node1), str(row.node2)) for row in edges]"
   ]
  },
  {
   "cell_type": "code",
   "execution_count": null,
   "id": "3e32f232-717e-474a-8588-b1c28854b8d3",
   "metadata": {
    "height": 198
   },
   "outputs": [],
   "source": [
    "plt.figure(figsize=(9,9)) \n",
    "\n",
    "G = nx.Graph()\n",
    "G.add_edges_from(edges_list)\n",
    "nx.draw_networkx(G,  with_labels=False, \n",
    "                     node_size=5, \n",
    "                     width=0.3, \n",
    "                     node_color=\"#0070F2\")\n",
    "\n",
    "plt.show()"
   ]
  },
  {
   "cell_type": "code",
   "execution_count": null,
   "id": "166f3515-98de-4cf2-b0d5-8f0047becba0",
   "metadata": {
    "height": 30
   },
   "outputs": [],
   "source": []
  },
  {
   "cell_type": "code",
   "execution_count": null,
   "id": "9feca8b8-fcee-40d6-94a1-b7a3f6d07613",
   "metadata": {
    "height": 30
   },
   "outputs": [],
   "source": []
  },
  {
   "cell_type": "code",
   "execution_count": null,
   "id": "2e74962a-ac1b-4d31-87c6-975a04804bb9",
   "metadata": {
    "height": 30
   },
   "outputs": [],
   "source": []
  },
  {
   "cell_type": "code",
   "execution_count": null,
   "id": "0416be6e-8143-483f-9082-f103295a6b60",
   "metadata": {
    "height": 30
   },
   "outputs": [],
   "source": []
  },
  {
   "cell_type": "code",
   "execution_count": null,
   "id": "06349cd2-37c7-483d-8087-dc1431794c56",
   "metadata": {
    "height": 30
   },
   "outputs": [],
   "source": []
  },
  {
   "cell_type": "code",
   "execution_count": null,
   "id": "607358aa-b425-45e5-a498-c81b3fdb69ed",
   "metadata": {
    "height": 30
   },
   "outputs": [],
   "source": []
  }
 ],
 "metadata": {
  "kernelspec": {
   "display_name": "Python 3 (ipykernel)",
   "language": "python",
   "name": "python3"
  },
  "language_info": {
   "codemirror_mode": {
    "name": "ipython",
    "version": 3
   },
   "file_extension": ".py",
   "mimetype": "text/x-python",
   "name": "python",
   "nbconvert_exporter": "python",
   "pygments_lexer": "ipython3",
   "version": "3.11.3"
  }
 },
 "nbformat": 4,
 "nbformat_minor": 5
}
