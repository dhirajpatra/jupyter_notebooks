{
 "cells": [
  {
   "cell_type": "markdown",
   "id": "a03bfdc1-292c-4510-9a86-6789931c63c8",
   "metadata": {},
   "source": [
    "## Simple machine learning notebook"
   ]
  },
  {
   "cell_type": "code",
   "execution_count": 181,
   "id": "b2e5bee7-10ab-49d4-b00b-c46864f40cdc",
   "metadata": {
    "execution": {
     "iopub.execute_input": "2025-06-23T06:08:12.379899Z",
     "iopub.status.busy": "2025-06-23T06:08:12.379553Z",
     "iopub.status.idle": "2025-06-23T06:08:12.385821Z",
     "shell.execute_reply": "2025-06-23T06:08:12.384791Z",
     "shell.execute_reply.started": "2025-06-23T06:08:12.379878Z"
    }
   },
   "outputs": [],
   "source": [
    "# cell setup and imports\n",
    "import pandas as pd\n",
    "import numpy as np\n",
    "from sklearn.ensemble import RandomForestClassifier\n",
    "from sklearn.metrics import classification_report, accuracy_score, precision_score,\\\n",
    " recall_score, f1_score, roc_auc_score, roc_curve, confusion_matrix, auc\n",
    "from sklearn.model_selection import train_test_split, cross_val_score\n",
    "from sklearn.preprocessing import LabelEncoder, OneHotEncoder, label_binarize\n",
    "import matplotlib.pyplot as plt"
   ]
  },
  {
   "cell_type": "code",
   "execution_count": 182,
   "id": "034b4509-c6a6-4ee6-9c2a-d8346329cb48",
   "metadata": {
    "execution": {
     "iopub.execute_input": "2025-06-23T06:08:12.387554Z",
     "iopub.status.busy": "2025-06-23T06:08:12.387296Z",
     "iopub.status.idle": "2025-06-23T06:08:12.510854Z",
     "shell.execute_reply": "2025-06-23T06:08:12.509533Z",
     "shell.execute_reply.started": "2025-06-23T06:08:12.387523Z"
    }
   },
   "outputs": [
    {
     "name": "stdout",
     "output_type": "stream",
     "text": [
      "First 5 records:\n",
      "   Student_ID  Age  Gender Academic_Level     Country  Avg_Daily_Usage_Hours  \\\n",
      "0           1   19  Female  Undergraduate  Bangladesh                    5.2   \n",
      "1           2   22    Male       Graduate       India                    2.1   \n",
      "2           3   20  Female  Undergraduate         USA                    6.0   \n",
      "3           4   18    Male    High School          UK                    3.0   \n",
      "4           5   21    Male       Graduate      Canada                    4.5   \n",
      "\n",
      "  Most_Used_Platform Affects_Academic_Performance  Sleep_Hours_Per_Night  \\\n",
      "0          Instagram                          Yes                    6.5   \n",
      "1            Twitter                           No                    7.5   \n",
      "2             TikTok                          Yes                    5.0   \n",
      "3            YouTube                           No                    7.0   \n",
      "4           Facebook                          Yes                    6.0   \n",
      "\n",
      "   Mental_Health_Score Relationship_Status  Conflicts_Over_Social_Media  \\\n",
      "0                    6     In Relationship                            3   \n",
      "1                    8              Single                            0   \n",
      "2                    5         Complicated                            4   \n",
      "3                    7              Single                            1   \n",
      "4                    6     In Relationship                            2   \n",
      "\n",
      "   Addicted_Score  \n",
      "0               8  \n",
      "1               3  \n",
      "2               9  \n",
      "3               4  \n",
      "4               7  \n"
     ]
    },
    {
     "name": "stderr",
     "output_type": "stream",
     "text": [
      "/tmp/ipykernel_80/3660395464.py:11: DeprecationWarning: load_dataset is deprecated and will be removed in a future version.\n",
      "  df = kagglehub.load_dataset(\n"
     ]
    }
   ],
   "source": [
    "# Install KaggleHub if not already installed\n",
    "# !pip install kagglehub[pandas-datasets]\n",
    "\n",
    "import kagglehub\n",
    "from kagglehub import KaggleDatasetAdapter\n",
    "\n",
    "# Set correct file path as per dataset structure\n",
    "file_path = \"Students Social Media Addiction.csv\"\n",
    "\n",
    "# Load the dataset as a pandas DataFrame\n",
    "df = kagglehub.load_dataset(\n",
    "    KaggleDatasetAdapter.PANDAS,\n",
    "    \"adilshamim8/social-media-addiction-vs-relationships\",\n",
    "    file_path,\n",
    ")\n",
    "\n",
    "print(\"First 5 records:\")\n",
    "print(df.head())"
   ]
  },
  {
   "cell_type": "code",
   "execution_count": 183,
   "id": "8f1ac208-d807-477a-9849-b3ac320b8152",
   "metadata": {
    "execution": {
     "iopub.execute_input": "2025-06-23T06:08:12.512571Z",
     "iopub.status.busy": "2025-06-23T06:08:12.512268Z",
     "iopub.status.idle": "2025-06-23T06:08:12.546374Z",
     "shell.execute_reply": "2025-06-23T06:08:12.545457Z",
     "shell.execute_reply.started": "2025-06-23T06:08:12.512541Z"
    }
   },
   "outputs": [
    {
     "name": "stdout",
     "output_type": "stream",
     "text": [
      "<class 'pandas.core.frame.DataFrame'>\n",
      "RangeIndex: 705 entries, 0 to 704\n",
      "Data columns (total 13 columns):\n",
      " #   Column                        Non-Null Count  Dtype  \n",
      "---  ------                        --------------  -----  \n",
      " 0   Student_ID                    705 non-null    int64  \n",
      " 1   Age                           705 non-null    int64  \n",
      " 2   Gender                        705 non-null    object \n",
      " 3   Academic_Level                705 non-null    object \n",
      " 4   Country                       705 non-null    object \n",
      " 5   Avg_Daily_Usage_Hours         705 non-null    float64\n",
      " 6   Most_Used_Platform            705 non-null    object \n",
      " 7   Affects_Academic_Performance  705 non-null    object \n",
      " 8   Sleep_Hours_Per_Night         705 non-null    float64\n",
      " 9   Mental_Health_Score           705 non-null    int64  \n",
      " 10  Relationship_Status           705 non-null    object \n",
      " 11  Conflicts_Over_Social_Media   705 non-null    int64  \n",
      " 12  Addicted_Score                705 non-null    int64  \n",
      "dtypes: float64(2), int64(5), object(6)\n",
      "memory usage: 71.7+ KB\n"
     ]
    },
    {
     "data": {
      "text/html": [
       "<div>\n",
       "<style scoped>\n",
       "    .dataframe tbody tr th:only-of-type {\n",
       "        vertical-align: middle;\n",
       "    }\n",
       "\n",
       "    .dataframe tbody tr th {\n",
       "        vertical-align: top;\n",
       "    }\n",
       "\n",
       "    .dataframe thead th {\n",
       "        text-align: right;\n",
       "    }\n",
       "</style>\n",
       "<table border=\"1\" class=\"dataframe\">\n",
       "  <thead>\n",
       "    <tr style=\"text-align: right;\">\n",
       "      <th></th>\n",
       "      <th>Student_ID</th>\n",
       "      <th>Age</th>\n",
       "      <th>Avg_Daily_Usage_Hours</th>\n",
       "      <th>Sleep_Hours_Per_Night</th>\n",
       "      <th>Mental_Health_Score</th>\n",
       "      <th>Conflicts_Over_Social_Media</th>\n",
       "      <th>Addicted_Score</th>\n",
       "    </tr>\n",
       "  </thead>\n",
       "  <tbody>\n",
       "    <tr>\n",
       "      <th>count</th>\n",
       "      <td>705.000000</td>\n",
       "      <td>705.000000</td>\n",
       "      <td>705.000000</td>\n",
       "      <td>705.000000</td>\n",
       "      <td>705.000000</td>\n",
       "      <td>705.000000</td>\n",
       "      <td>705.000000</td>\n",
       "    </tr>\n",
       "    <tr>\n",
       "      <th>mean</th>\n",
       "      <td>353.000000</td>\n",
       "      <td>20.659574</td>\n",
       "      <td>4.918723</td>\n",
       "      <td>6.868936</td>\n",
       "      <td>6.226950</td>\n",
       "      <td>2.849645</td>\n",
       "      <td>6.436879</td>\n",
       "    </tr>\n",
       "    <tr>\n",
       "      <th>std</th>\n",
       "      <td>203.660256</td>\n",
       "      <td>1.399217</td>\n",
       "      <td>1.257395</td>\n",
       "      <td>1.126848</td>\n",
       "      <td>1.105055</td>\n",
       "      <td>0.957968</td>\n",
       "      <td>1.587165</td>\n",
       "    </tr>\n",
       "    <tr>\n",
       "      <th>min</th>\n",
       "      <td>1.000000</td>\n",
       "      <td>18.000000</td>\n",
       "      <td>1.500000</td>\n",
       "      <td>3.800000</td>\n",
       "      <td>4.000000</td>\n",
       "      <td>0.000000</td>\n",
       "      <td>2.000000</td>\n",
       "    </tr>\n",
       "    <tr>\n",
       "      <th>25%</th>\n",
       "      <td>177.000000</td>\n",
       "      <td>19.000000</td>\n",
       "      <td>4.100000</td>\n",
       "      <td>6.000000</td>\n",
       "      <td>5.000000</td>\n",
       "      <td>2.000000</td>\n",
       "      <td>5.000000</td>\n",
       "    </tr>\n",
       "    <tr>\n",
       "      <th>50%</th>\n",
       "      <td>353.000000</td>\n",
       "      <td>21.000000</td>\n",
       "      <td>4.800000</td>\n",
       "      <td>6.900000</td>\n",
       "      <td>6.000000</td>\n",
       "      <td>3.000000</td>\n",
       "      <td>7.000000</td>\n",
       "    </tr>\n",
       "    <tr>\n",
       "      <th>75%</th>\n",
       "      <td>529.000000</td>\n",
       "      <td>22.000000</td>\n",
       "      <td>5.800000</td>\n",
       "      <td>7.700000</td>\n",
       "      <td>7.000000</td>\n",
       "      <td>4.000000</td>\n",
       "      <td>8.000000</td>\n",
       "    </tr>\n",
       "    <tr>\n",
       "      <th>max</th>\n",
       "      <td>705.000000</td>\n",
       "      <td>24.000000</td>\n",
       "      <td>8.500000</td>\n",
       "      <td>9.600000</td>\n",
       "      <td>9.000000</td>\n",
       "      <td>5.000000</td>\n",
       "      <td>9.000000</td>\n",
       "    </tr>\n",
       "  </tbody>\n",
       "</table>\n",
       "</div>"
      ],
      "text/plain": [
       "       Student_ID         Age  Avg_Daily_Usage_Hours  Sleep_Hours_Per_Night  \\\n",
       "count  705.000000  705.000000             705.000000             705.000000   \n",
       "mean   353.000000   20.659574               4.918723               6.868936   \n",
       "std    203.660256    1.399217               1.257395               1.126848   \n",
       "min      1.000000   18.000000               1.500000               3.800000   \n",
       "25%    177.000000   19.000000               4.100000               6.000000   \n",
       "50%    353.000000   21.000000               4.800000               6.900000   \n",
       "75%    529.000000   22.000000               5.800000               7.700000   \n",
       "max    705.000000   24.000000               8.500000               9.600000   \n",
       "\n",
       "       Mental_Health_Score  Conflicts_Over_Social_Media  Addicted_Score  \n",
       "count           705.000000                   705.000000      705.000000  \n",
       "mean              6.226950                     2.849645        6.436879  \n",
       "std               1.105055                     0.957968        1.587165  \n",
       "min               4.000000                     0.000000        2.000000  \n",
       "25%               5.000000                     2.000000        5.000000  \n",
       "50%               6.000000                     3.000000        7.000000  \n",
       "75%               7.000000                     4.000000        8.000000  \n",
       "max               9.000000                     5.000000        9.000000  "
      ]
     },
     "execution_count": 183,
     "metadata": {},
     "output_type": "execute_result"
    }
   ],
   "source": [
    "# data loading and exploration \n",
    "# you can use this link to download https://www.kaggle.com/datasets/adilshamim8/social-media-addiction-vs-relationships\n",
    "# df = pd.read_csv('StudentsSocialMediaAddiction.csv')\n",
    "df.info()\n",
    "df.describe()\n"
   ]
  },
  {
   "cell_type": "code",
   "execution_count": 184,
   "id": "cd6727d5-3509-4251-8375-00d71a32d2db",
   "metadata": {
    "execution": {
     "iopub.execute_input": "2025-06-23T06:08:12.547759Z",
     "iopub.status.busy": "2025-06-23T06:08:12.547451Z",
     "iopub.status.idle": "2025-06-23T06:08:12.561667Z",
     "shell.execute_reply": "2025-06-23T06:08:12.560655Z",
     "shell.execute_reply.started": "2025-06-23T06:08:12.547731Z"
    }
   },
   "outputs": [
    {
     "data": {
      "text/html": [
       "<div>\n",
       "<style scoped>\n",
       "    .dataframe tbody tr th:only-of-type {\n",
       "        vertical-align: middle;\n",
       "    }\n",
       "\n",
       "    .dataframe tbody tr th {\n",
       "        vertical-align: top;\n",
       "    }\n",
       "\n",
       "    .dataframe thead th {\n",
       "        text-align: right;\n",
       "    }\n",
       "</style>\n",
       "<table border=\"1\" class=\"dataframe\">\n",
       "  <thead>\n",
       "    <tr style=\"text-align: right;\">\n",
       "      <th></th>\n",
       "      <th>Student_ID</th>\n",
       "      <th>Age</th>\n",
       "      <th>Gender</th>\n",
       "      <th>Academic_Level</th>\n",
       "      <th>Country</th>\n",
       "      <th>Avg_Daily_Usage_Hours</th>\n",
       "      <th>Most_Used_Platform</th>\n",
       "      <th>Affects_Academic_Performance</th>\n",
       "      <th>Sleep_Hours_Per_Night</th>\n",
       "      <th>Mental_Health_Score</th>\n",
       "      <th>Relationship_Status</th>\n",
       "      <th>Conflicts_Over_Social_Media</th>\n",
       "      <th>Addicted_Score</th>\n",
       "    </tr>\n",
       "  </thead>\n",
       "  <tbody>\n",
       "    <tr>\n",
       "      <th>0</th>\n",
       "      <td>1</td>\n",
       "      <td>19</td>\n",
       "      <td>Female</td>\n",
       "      <td>Undergraduate</td>\n",
       "      <td>Bangladesh</td>\n",
       "      <td>5.2</td>\n",
       "      <td>Instagram</td>\n",
       "      <td>Yes</td>\n",
       "      <td>6.5</td>\n",
       "      <td>6</td>\n",
       "      <td>In Relationship</td>\n",
       "      <td>3</td>\n",
       "      <td>8</td>\n",
       "    </tr>\n",
       "    <tr>\n",
       "      <th>1</th>\n",
       "      <td>2</td>\n",
       "      <td>22</td>\n",
       "      <td>Male</td>\n",
       "      <td>Graduate</td>\n",
       "      <td>India</td>\n",
       "      <td>2.1</td>\n",
       "      <td>Twitter</td>\n",
       "      <td>No</td>\n",
       "      <td>7.5</td>\n",
       "      <td>8</td>\n",
       "      <td>Single</td>\n",
       "      <td>0</td>\n",
       "      <td>3</td>\n",
       "    </tr>\n",
       "    <tr>\n",
       "      <th>2</th>\n",
       "      <td>3</td>\n",
       "      <td>20</td>\n",
       "      <td>Female</td>\n",
       "      <td>Undergraduate</td>\n",
       "      <td>USA</td>\n",
       "      <td>6.0</td>\n",
       "      <td>TikTok</td>\n",
       "      <td>Yes</td>\n",
       "      <td>5.0</td>\n",
       "      <td>5</td>\n",
       "      <td>Complicated</td>\n",
       "      <td>4</td>\n",
       "      <td>9</td>\n",
       "    </tr>\n",
       "    <tr>\n",
       "      <th>3</th>\n",
       "      <td>4</td>\n",
       "      <td>18</td>\n",
       "      <td>Male</td>\n",
       "      <td>High School</td>\n",
       "      <td>UK</td>\n",
       "      <td>3.0</td>\n",
       "      <td>YouTube</td>\n",
       "      <td>No</td>\n",
       "      <td>7.0</td>\n",
       "      <td>7</td>\n",
       "      <td>Single</td>\n",
       "      <td>1</td>\n",
       "      <td>4</td>\n",
       "    </tr>\n",
       "    <tr>\n",
       "      <th>4</th>\n",
       "      <td>5</td>\n",
       "      <td>21</td>\n",
       "      <td>Male</td>\n",
       "      <td>Graduate</td>\n",
       "      <td>Canada</td>\n",
       "      <td>4.5</td>\n",
       "      <td>Facebook</td>\n",
       "      <td>Yes</td>\n",
       "      <td>6.0</td>\n",
       "      <td>6</td>\n",
       "      <td>In Relationship</td>\n",
       "      <td>2</td>\n",
       "      <td>7</td>\n",
       "    </tr>\n",
       "  </tbody>\n",
       "</table>\n",
       "</div>"
      ],
      "text/plain": [
       "   Student_ID  Age  Gender Academic_Level     Country  Avg_Daily_Usage_Hours  \\\n",
       "0           1   19  Female  Undergraduate  Bangladesh                    5.2   \n",
       "1           2   22    Male       Graduate       India                    2.1   \n",
       "2           3   20  Female  Undergraduate         USA                    6.0   \n",
       "3           4   18    Male    High School          UK                    3.0   \n",
       "4           5   21    Male       Graduate      Canada                    4.5   \n",
       "\n",
       "  Most_Used_Platform Affects_Academic_Performance  Sleep_Hours_Per_Night  \\\n",
       "0          Instagram                          Yes                    6.5   \n",
       "1            Twitter                           No                    7.5   \n",
       "2             TikTok                          Yes                    5.0   \n",
       "3            YouTube                           No                    7.0   \n",
       "4           Facebook                          Yes                    6.0   \n",
       "\n",
       "   Mental_Health_Score Relationship_Status  Conflicts_Over_Social_Media  \\\n",
       "0                    6     In Relationship                            3   \n",
       "1                    8              Single                            0   \n",
       "2                    5         Complicated                            4   \n",
       "3                    7              Single                            1   \n",
       "4                    6     In Relationship                            2   \n",
       "\n",
       "   Addicted_Score  \n",
       "0               8  \n",
       "1               3  \n",
       "2               9  \n",
       "3               4  \n",
       "4               7  "
      ]
     },
     "execution_count": 184,
     "metadata": {},
     "output_type": "execute_result"
    }
   ],
   "source": [
    "df.head()"
   ]
  },
  {
   "cell_type": "code",
   "execution_count": 185,
   "id": "4e735094-1e08-481e-a3cc-549ae32990af",
   "metadata": {
    "execution": {
     "iopub.execute_input": "2025-06-23T06:08:12.564418Z",
     "iopub.status.busy": "2025-06-23T06:08:12.564064Z",
     "iopub.status.idle": "2025-06-23T06:08:12.581169Z",
     "shell.execute_reply": "2025-06-23T06:08:12.580065Z",
     "shell.execute_reply.started": "2025-06-23T06:08:12.564377Z"
    }
   },
   "outputs": [],
   "source": [
    "# feature engineering\n",
    "df_copy = df\n"
   ]
  },
  {
   "cell_type": "code",
   "execution_count": 186,
   "id": "bd693520-ca26-42c3-acfe-1c87ab22b4df",
   "metadata": {
    "execution": {
     "iopub.execute_input": "2025-06-23T06:08:12.582464Z",
     "iopub.status.busy": "2025-06-23T06:08:12.582144Z",
     "iopub.status.idle": "2025-06-23T06:08:12.601599Z",
     "shell.execute_reply": "2025-06-23T06:08:12.600493Z",
     "shell.execute_reply.started": "2025-06-23T06:08:12.582444Z"
    }
   },
   "outputs": [],
   "source": [
    "# identify category columns\n",
    "cat_cols = df.select_dtypes(include=['object']).columns"
   ]
  },
  {
   "cell_type": "code",
   "execution_count": 187,
   "id": "c8ab82fe-4cf9-419d-8313-a4eda1325958",
   "metadata": {
    "execution": {
     "iopub.execute_input": "2025-06-23T06:08:12.602958Z",
     "iopub.status.busy": "2025-06-23T06:08:12.602691Z",
     "iopub.status.idle": "2025-06-23T06:08:12.625169Z",
     "shell.execute_reply": "2025-06-23T06:08:12.624080Z",
     "shell.execute_reply.started": "2025-06-23T06:08:12.602939Z"
    }
   },
   "outputs": [],
   "source": [
    "# one hot encode them\n",
    "for col in cat_cols:\n",
    "    df[col] = LabelEncoder().fit_transform(df[col])"
   ]
  },
  {
   "cell_type": "code",
   "execution_count": 188,
   "id": "e2da316d-b6c4-4d35-bf23-26f699613ec6",
   "metadata": {
    "execution": {
     "iopub.execute_input": "2025-06-23T06:08:12.626502Z",
     "iopub.status.busy": "2025-06-23T06:08:12.626146Z",
     "iopub.status.idle": "2025-06-23T06:08:12.660055Z",
     "shell.execute_reply": "2025-06-23T06:08:12.659085Z",
     "shell.execute_reply.started": "2025-06-23T06:08:12.626474Z"
    }
   },
   "outputs": [
    {
     "data": {
      "text/html": [
       "<div>\n",
       "<style scoped>\n",
       "    .dataframe tbody tr th:only-of-type {\n",
       "        vertical-align: middle;\n",
       "    }\n",
       "\n",
       "    .dataframe tbody tr th {\n",
       "        vertical-align: top;\n",
       "    }\n",
       "\n",
       "    .dataframe thead th {\n",
       "        text-align: right;\n",
       "    }\n",
       "</style>\n",
       "<table border=\"1\" class=\"dataframe\">\n",
       "  <thead>\n",
       "    <tr style=\"text-align: right;\">\n",
       "      <th></th>\n",
       "      <th>Student_ID</th>\n",
       "      <th>Age</th>\n",
       "      <th>Gender</th>\n",
       "      <th>Academic_Level</th>\n",
       "      <th>Country</th>\n",
       "      <th>Avg_Daily_Usage_Hours</th>\n",
       "      <th>Most_Used_Platform</th>\n",
       "      <th>Affects_Academic_Performance</th>\n",
       "      <th>Sleep_Hours_Per_Night</th>\n",
       "      <th>Mental_Health_Score</th>\n",
       "      <th>Relationship_Status</th>\n",
       "      <th>Conflicts_Over_Social_Media</th>\n",
       "      <th>Addicted_Score</th>\n",
       "    </tr>\n",
       "  </thead>\n",
       "  <tbody>\n",
       "    <tr>\n",
       "      <th>0</th>\n",
       "      <td>1</td>\n",
       "      <td>19</td>\n",
       "      <td>0</td>\n",
       "      <td>2</td>\n",
       "      <td>10</td>\n",
       "      <td>5.2</td>\n",
       "      <td>1</td>\n",
       "      <td>1</td>\n",
       "      <td>6.5</td>\n",
       "      <td>6</td>\n",
       "      <td>1</td>\n",
       "      <td>3</td>\n",
       "      <td>8</td>\n",
       "    </tr>\n",
       "    <tr>\n",
       "      <th>1</th>\n",
       "      <td>2</td>\n",
       "      <td>22</td>\n",
       "      <td>1</td>\n",
       "      <td>0</td>\n",
       "      <td>39</td>\n",
       "      <td>2.1</td>\n",
       "      <td>7</td>\n",
       "      <td>0</td>\n",
       "      <td>7.5</td>\n",
       "      <td>8</td>\n",
       "      <td>2</td>\n",
       "      <td>0</td>\n",
       "      <td>3</td>\n",
       "    </tr>\n",
       "    <tr>\n",
       "      <th>2</th>\n",
       "      <td>3</td>\n",
       "      <td>20</td>\n",
       "      <td>0</td>\n",
       "      <td>2</td>\n",
       "      <td>102</td>\n",
       "      <td>6.0</td>\n",
       "      <td>6</td>\n",
       "      <td>1</td>\n",
       "      <td>5.0</td>\n",
       "      <td>5</td>\n",
       "      <td>0</td>\n",
       "      <td>4</td>\n",
       "      <td>9</td>\n",
       "    </tr>\n",
       "    <tr>\n",
       "      <th>3</th>\n",
       "      <td>4</td>\n",
       "      <td>18</td>\n",
       "      <td>1</td>\n",
       "      <td>1</td>\n",
       "      <td>101</td>\n",
       "      <td>3.0</td>\n",
       "      <td>11</td>\n",
       "      <td>0</td>\n",
       "      <td>7.0</td>\n",
       "      <td>7</td>\n",
       "      <td>2</td>\n",
       "      <td>1</td>\n",
       "      <td>4</td>\n",
       "    </tr>\n",
       "    <tr>\n",
       "      <th>4</th>\n",
       "      <td>5</td>\n",
       "      <td>21</td>\n",
       "      <td>1</td>\n",
       "      <td>0</td>\n",
       "      <td>18</td>\n",
       "      <td>4.5</td>\n",
       "      <td>0</td>\n",
       "      <td>1</td>\n",
       "      <td>6.0</td>\n",
       "      <td>6</td>\n",
       "      <td>1</td>\n",
       "      <td>2</td>\n",
       "      <td>7</td>\n",
       "    </tr>\n",
       "  </tbody>\n",
       "</table>\n",
       "</div>"
      ],
      "text/plain": [
       "   Student_ID  Age  Gender  Academic_Level  Country  Avg_Daily_Usage_Hours  \\\n",
       "0           1   19       0               2       10                    5.2   \n",
       "1           2   22       1               0       39                    2.1   \n",
       "2           3   20       0               2      102                    6.0   \n",
       "3           4   18       1               1      101                    3.0   \n",
       "4           5   21       1               0       18                    4.5   \n",
       "\n",
       "   Most_Used_Platform  Affects_Academic_Performance  Sleep_Hours_Per_Night  \\\n",
       "0                   1                             1                    6.5   \n",
       "1                   7                             0                    7.5   \n",
       "2                   6                             1                    5.0   \n",
       "3                  11                             0                    7.0   \n",
       "4                   0                             1                    6.0   \n",
       "\n",
       "   Mental_Health_Score  Relationship_Status  Conflicts_Over_Social_Media  \\\n",
       "0                    6                    1                            3   \n",
       "1                    8                    2                            0   \n",
       "2                    5                    0                            4   \n",
       "3                    7                    2                            1   \n",
       "4                    6                    1                            2   \n",
       "\n",
       "   Addicted_Score  \n",
       "0               8  \n",
       "1               3  \n",
       "2               9  \n",
       "3               4  \n",
       "4               7  "
      ]
     },
     "execution_count": 188,
     "metadata": {},
     "output_type": "execute_result"
    }
   ],
   "source": [
    "df['Age'] = df['Age'].astype('int')\n",
    "df['Gender'] = df['Gender'].astype('category')\n",
    "df['Gender'] = df['Gender'].cat.codes\n",
    "\n",
    "df['Academic_Level'] = df['Academic_Level'].astype('category')\n",
    "df['Academic_Level'] = df['Academic_Level'].cat.codes\n",
    "\n",
    "df['Most_Used_Platform'] = df['Most_Used_Platform'].astype('category')\n",
    "df['Most_Used_Platform'] = df['Most_Used_Platform'].cat.codes\n",
    "\n",
    "df['Affects_Academic_Performance'] = df['Affects_Academic_Performance'].astype('category')\n",
    "df['Affects_Academic_Performance'] = df['Affects_Academic_Performance'].cat.codes\n",
    "\n",
    "df['Relationship_Status'] = df['Relationship_Status'].astype('category')\n",
    "df['Relationship_Status'] = df['Relationship_Status'].cat.codes\n",
    "df.head()"
   ]
  },
  {
   "cell_type": "code",
   "execution_count": 189,
   "id": "2552e917-c0ab-41a2-86f7-543d1cbba01d",
   "metadata": {
    "execution": {
     "iopub.execute_input": "2025-06-23T06:08:12.661507Z",
     "iopub.status.busy": "2025-06-23T06:08:12.661223Z",
     "iopub.status.idle": "2025-06-23T06:08:12.668368Z",
     "shell.execute_reply": "2025-06-23T06:08:12.667307Z",
     "shell.execute_reply.started": "2025-06-23T06:08:12.661488Z"
    }
   },
   "outputs": [],
   "source": [
    "def create_feature(df):\n",
    "    affected_count = (df['Affects_Academic_Performance'] == 1).sum()\n",
    "    total_count = len(df)\n",
    "    percent_affected = (affected_count / total_count) * 100\n",
    "    df['Percent_Affected'] = round(percent_affected, 1)\n",
    "    return df"
   ]
  },
  {
   "cell_type": "code",
   "execution_count": 190,
   "id": "85cd9eee-9029-4338-94a3-e56a6af7ec69",
   "metadata": {
    "execution": {
     "iopub.execute_input": "2025-06-23T06:08:12.671739Z",
     "iopub.status.busy": "2025-06-23T06:08:12.671361Z",
     "iopub.status.idle": "2025-06-23T06:08:12.692828Z",
     "shell.execute_reply": "2025-06-23T06:08:12.691939Z",
     "shell.execute_reply.started": "2025-06-23T06:08:12.671706Z"
    }
   },
   "outputs": [
    {
     "name": "stdout",
     "output_type": "stream",
     "text": [
      "Student_ID                      0\n",
      "Age                             0\n",
      "Gender                          0\n",
      "Academic_Level                  0\n",
      "Country                         0\n",
      "Avg_Daily_Usage_Hours           0\n",
      "Most_Used_Platform              0\n",
      "Affects_Academic_Performance    0\n",
      "Sleep_Hours_Per_Night           0\n",
      "Mental_Health_Score             0\n",
      "Relationship_Status             0\n",
      "Conflicts_Over_Social_Media     0\n",
      "Addicted_Score                  0\n",
      "dtype: int64\n"
     ]
    }
   ],
   "source": [
    "print(df.isnull().sum())\n"
   ]
  },
  {
   "cell_type": "code",
   "execution_count": 191,
   "id": "9e3422f2-25ce-4f1f-a478-55b84a3e4d00",
   "metadata": {
    "execution": {
     "iopub.execute_input": "2025-06-23T06:08:12.694034Z",
     "iopub.status.busy": "2025-06-23T06:08:12.693730Z",
     "iopub.status.idle": "2025-06-23T06:08:12.719621Z",
     "shell.execute_reply": "2025-06-23T06:08:12.718334Z",
     "shell.execute_reply.started": "2025-06-23T06:08:12.694013Z"
    }
   },
   "outputs": [
    {
     "name": "stdout",
     "output_type": "stream",
     "text": [
      "Empty DataFrame\n",
      "Columns: []\n",
      "Index: [0, 1, 2, 3, 4, 5, 6, 7, 8, 9, 10, 11, 12, 13, 14, 15, 16, 17, 18, 19, 20, 21, 22, 23, 24, 25, 26, 27, 28, 29, 30, 31, 32, 33, 34, 35, 36, 37, 38, 39, 40, 41, 42, 43, 44, 45, 46, 47, 48, 49, 50, 51, 52, 53, 54, 55, 56, 57, 58, 59, 60, 61, 62, 63, 64, 65, 66, 67, 68, 69, 70, 71, 72, 73, 74, 75, 76, 77, 78, 79, 80, 81, 82, 83, 84, 85, 86, 87, 88, 89, 90, 91, 92, 93, 94, 95, 96, 97, 98, 99, ...]\n",
      "\n",
      "[705 rows x 0 columns]\n"
     ]
    }
   ],
   "source": [
    "# or we can see any col is null \n",
    "print(df[df.columns[df.isnull().any()]])"
   ]
  },
  {
   "cell_type": "code",
   "execution_count": 192,
   "id": "4349397c-0f68-4850-a927-59e5c9c43150",
   "metadata": {
    "execution": {
     "iopub.execute_input": "2025-06-23T06:08:12.720926Z",
     "iopub.status.busy": "2025-06-23T06:08:12.720650Z",
     "iopub.status.idle": "2025-06-23T06:08:12.743330Z",
     "shell.execute_reply": "2025-06-23T06:08:12.742405Z",
     "shell.execute_reply.started": "2025-06-23T06:08:12.720906Z"
    }
   },
   "outputs": [],
   "source": [
    "df = create_feature(df)"
   ]
  },
  {
   "cell_type": "code",
   "execution_count": 193,
   "id": "6c18c1b4-fa06-4a7a-87d1-dc6329aa695d",
   "metadata": {
    "execution": {
     "iopub.execute_input": "2025-06-23T06:08:12.745003Z",
     "iopub.status.busy": "2025-06-23T06:08:12.744727Z",
     "iopub.status.idle": "2025-06-23T06:08:12.772514Z",
     "shell.execute_reply": "2025-06-23T06:08:12.771568Z",
     "shell.execute_reply.started": "2025-06-23T06:08:12.744977Z"
    }
   },
   "outputs": [
    {
     "data": {
      "text/html": [
       "<div>\n",
       "<style scoped>\n",
       "    .dataframe tbody tr th:only-of-type {\n",
       "        vertical-align: middle;\n",
       "    }\n",
       "\n",
       "    .dataframe tbody tr th {\n",
       "        vertical-align: top;\n",
       "    }\n",
       "\n",
       "    .dataframe thead th {\n",
       "        text-align: right;\n",
       "    }\n",
       "</style>\n",
       "<table border=\"1\" class=\"dataframe\">\n",
       "  <thead>\n",
       "    <tr style=\"text-align: right;\">\n",
       "      <th></th>\n",
       "      <th>Student_ID</th>\n",
       "      <th>Age</th>\n",
       "      <th>Gender</th>\n",
       "      <th>Academic_Level</th>\n",
       "      <th>Country</th>\n",
       "      <th>Avg_Daily_Usage_Hours</th>\n",
       "      <th>Most_Used_Platform</th>\n",
       "      <th>Affects_Academic_Performance</th>\n",
       "      <th>Sleep_Hours_Per_Night</th>\n",
       "      <th>Mental_Health_Score</th>\n",
       "      <th>Relationship_Status</th>\n",
       "      <th>Conflicts_Over_Social_Media</th>\n",
       "      <th>Addicted_Score</th>\n",
       "      <th>Percent_Affected</th>\n",
       "    </tr>\n",
       "  </thead>\n",
       "  <tbody>\n",
       "    <tr>\n",
       "      <th>0</th>\n",
       "      <td>1</td>\n",
       "      <td>19</td>\n",
       "      <td>0</td>\n",
       "      <td>2</td>\n",
       "      <td>10</td>\n",
       "      <td>5.2</td>\n",
       "      <td>1</td>\n",
       "      <td>1</td>\n",
       "      <td>6.5</td>\n",
       "      <td>6</td>\n",
       "      <td>1</td>\n",
       "      <td>3</td>\n",
       "      <td>8</td>\n",
       "      <td>64.3</td>\n",
       "    </tr>\n",
       "    <tr>\n",
       "      <th>1</th>\n",
       "      <td>2</td>\n",
       "      <td>22</td>\n",
       "      <td>1</td>\n",
       "      <td>0</td>\n",
       "      <td>39</td>\n",
       "      <td>2.1</td>\n",
       "      <td>7</td>\n",
       "      <td>0</td>\n",
       "      <td>7.5</td>\n",
       "      <td>8</td>\n",
       "      <td>2</td>\n",
       "      <td>0</td>\n",
       "      <td>3</td>\n",
       "      <td>64.3</td>\n",
       "    </tr>\n",
       "    <tr>\n",
       "      <th>2</th>\n",
       "      <td>3</td>\n",
       "      <td>20</td>\n",
       "      <td>0</td>\n",
       "      <td>2</td>\n",
       "      <td>102</td>\n",
       "      <td>6.0</td>\n",
       "      <td>6</td>\n",
       "      <td>1</td>\n",
       "      <td>5.0</td>\n",
       "      <td>5</td>\n",
       "      <td>0</td>\n",
       "      <td>4</td>\n",
       "      <td>9</td>\n",
       "      <td>64.3</td>\n",
       "    </tr>\n",
       "    <tr>\n",
       "      <th>3</th>\n",
       "      <td>4</td>\n",
       "      <td>18</td>\n",
       "      <td>1</td>\n",
       "      <td>1</td>\n",
       "      <td>101</td>\n",
       "      <td>3.0</td>\n",
       "      <td>11</td>\n",
       "      <td>0</td>\n",
       "      <td>7.0</td>\n",
       "      <td>7</td>\n",
       "      <td>2</td>\n",
       "      <td>1</td>\n",
       "      <td>4</td>\n",
       "      <td>64.3</td>\n",
       "    </tr>\n",
       "    <tr>\n",
       "      <th>4</th>\n",
       "      <td>5</td>\n",
       "      <td>21</td>\n",
       "      <td>1</td>\n",
       "      <td>0</td>\n",
       "      <td>18</td>\n",
       "      <td>4.5</td>\n",
       "      <td>0</td>\n",
       "      <td>1</td>\n",
       "      <td>6.0</td>\n",
       "      <td>6</td>\n",
       "      <td>1</td>\n",
       "      <td>2</td>\n",
       "      <td>7</td>\n",
       "      <td>64.3</td>\n",
       "    </tr>\n",
       "  </tbody>\n",
       "</table>\n",
       "</div>"
      ],
      "text/plain": [
       "   Student_ID  Age  Gender  Academic_Level  Country  Avg_Daily_Usage_Hours  \\\n",
       "0           1   19       0               2       10                    5.2   \n",
       "1           2   22       1               0       39                    2.1   \n",
       "2           3   20       0               2      102                    6.0   \n",
       "3           4   18       1               1      101                    3.0   \n",
       "4           5   21       1               0       18                    4.5   \n",
       "\n",
       "   Most_Used_Platform  Affects_Academic_Performance  Sleep_Hours_Per_Night  \\\n",
       "0                   1                             1                    6.5   \n",
       "1                   7                             0                    7.5   \n",
       "2                   6                             1                    5.0   \n",
       "3                  11                             0                    7.0   \n",
       "4                   0                             1                    6.0   \n",
       "\n",
       "   Mental_Health_Score  Relationship_Status  Conflicts_Over_Social_Media  \\\n",
       "0                    6                    1                            3   \n",
       "1                    8                    2                            0   \n",
       "2                    5                    0                            4   \n",
       "3                    7                    2                            1   \n",
       "4                    6                    1                            2   \n",
       "\n",
       "   Addicted_Score  Percent_Affected  \n",
       "0               8              64.3  \n",
       "1               3              64.3  \n",
       "2               9              64.3  \n",
       "3               4              64.3  \n",
       "4               7              64.3  "
      ]
     },
     "execution_count": 193,
     "metadata": {},
     "output_type": "execute_result"
    }
   ],
   "source": [
    "df.head()"
   ]
  },
  {
   "cell_type": "code",
   "execution_count": 194,
   "id": "1afa1f20-d5c3-4ad2-af88-5a991631d3d1",
   "metadata": {
    "execution": {
     "iopub.execute_input": "2025-06-23T06:08:12.773725Z",
     "iopub.status.busy": "2025-06-23T06:08:12.773459Z",
     "iopub.status.idle": "2025-06-23T06:08:12.793362Z",
     "shell.execute_reply": "2025-06-23T06:08:12.792279Z",
     "shell.execute_reply.started": "2025-06-23T06:08:12.773706Z"
    }
   },
   "outputs": [],
   "source": [
    "# model training and evaluation\n",
    "X = df.drop(['Addicted_Score'], axis=1)"
   ]
  },
  {
   "cell_type": "code",
   "execution_count": 195,
   "id": "f190c542-c73c-4f0c-ad64-d96861661f35",
   "metadata": {
    "execution": {
     "iopub.execute_input": "2025-06-23T06:08:12.794563Z",
     "iopub.status.busy": "2025-06-23T06:08:12.794332Z",
     "iopub.status.idle": "2025-06-23T06:08:12.815817Z",
     "shell.execute_reply": "2025-06-23T06:08:12.814685Z",
     "shell.execute_reply.started": "2025-06-23T06:08:12.794547Z"
    }
   },
   "outputs": [],
   "source": [
    "y = df['Addicted_Score']"
   ]
  },
  {
   "cell_type": "code",
   "execution_count": 196,
   "id": "e7aeb0dc-b495-447f-a63f-f37f2762efa5",
   "metadata": {
    "execution": {
     "iopub.execute_input": "2025-06-23T06:08:12.817064Z",
     "iopub.status.busy": "2025-06-23T06:08:12.816787Z",
     "iopub.status.idle": "2025-06-23T06:08:12.842057Z",
     "shell.execute_reply": "2025-06-23T06:08:12.841068Z",
     "shell.execute_reply.started": "2025-06-23T06:08:12.817043Z"
    }
   },
   "outputs": [],
   "source": [
    "# One-hot encode them\n",
    "X_encoded = pd.get_dummies(X, columns=cat_cols)"
   ]
  },
  {
   "cell_type": "code",
   "execution_count": 197,
   "id": "97da9780-94db-40f4-8cc1-323b00cdfff8",
   "metadata": {
    "execution": {
     "iopub.execute_input": "2025-06-23T06:08:12.843318Z",
     "iopub.status.busy": "2025-06-23T06:08:12.843020Z",
     "iopub.status.idle": "2025-06-23T06:08:12.856021Z",
     "shell.execute_reply": "2025-06-23T06:08:12.855005Z",
     "shell.execute_reply.started": "2025-06-23T06:08:12.843296Z"
    }
   },
   "outputs": [],
   "source": [
    "X_train, X_test, y_train, y_test = train_test_split(X_encoded, y, test_size=0.2, random_state=42)"
   ]
  },
  {
   "cell_type": "code",
   "execution_count": 198,
   "id": "dc8d1e97-1237-49b8-8e05-7ba4ecbd25ce",
   "metadata": {
    "execution": {
     "iopub.execute_input": "2025-06-23T06:08:12.857386Z",
     "iopub.status.busy": "2025-06-23T06:08:12.857096Z",
     "iopub.status.idle": "2025-06-23T06:08:12.873264Z",
     "shell.execute_reply": "2025-06-23T06:08:12.872266Z",
     "shell.execute_reply.started": "2025-06-23T06:08:12.857367Z"
    }
   },
   "outputs": [],
   "source": [
    "# train the model\n",
    "model = RandomForestClassifier()"
   ]
  },
  {
   "cell_type": "code",
   "execution_count": 199,
   "id": "d47fae68-cd78-4970-88ac-3199506ae92d",
   "metadata": {
    "execution": {
     "iopub.execute_input": "2025-06-23T06:08:12.874923Z",
     "iopub.status.busy": "2025-06-23T06:08:12.874587Z",
     "iopub.status.idle": "2025-06-23T06:08:13.086582Z",
     "shell.execute_reply": "2025-06-23T06:08:13.085517Z",
     "shell.execute_reply.started": "2025-06-23T06:08:12.874900Z"
    }
   },
   "outputs": [
    {
     "data": {
      "text/html": [
       "<style>#sk-container-id-23 {color: black;background-color: white;}#sk-container-id-23 pre{padding: 0;}#sk-container-id-23 div.sk-toggleable {background-color: white;}#sk-container-id-23 label.sk-toggleable__label {cursor: pointer;display: block;width: 100%;margin-bottom: 0;padding: 0.3em;box-sizing: border-box;text-align: center;}#sk-container-id-23 label.sk-toggleable__label-arrow:before {content: \"▸\";float: left;margin-right: 0.25em;color: #696969;}#sk-container-id-23 label.sk-toggleable__label-arrow:hover:before {color: black;}#sk-container-id-23 div.sk-estimator:hover label.sk-toggleable__label-arrow:before {color: black;}#sk-container-id-23 div.sk-toggleable__content {max-height: 0;max-width: 0;overflow: hidden;text-align: left;background-color: #f0f8ff;}#sk-container-id-23 div.sk-toggleable__content pre {margin: 0.2em;color: black;border-radius: 0.25em;background-color: #f0f8ff;}#sk-container-id-23 input.sk-toggleable__control:checked~div.sk-toggleable__content {max-height: 200px;max-width: 100%;overflow: auto;}#sk-container-id-23 input.sk-toggleable__control:checked~label.sk-toggleable__label-arrow:before {content: \"▾\";}#sk-container-id-23 div.sk-estimator input.sk-toggleable__control:checked~label.sk-toggleable__label {background-color: #d4ebff;}#sk-container-id-23 div.sk-label input.sk-toggleable__control:checked~label.sk-toggleable__label {background-color: #d4ebff;}#sk-container-id-23 input.sk-hidden--visually {border: 0;clip: rect(1px 1px 1px 1px);clip: rect(1px, 1px, 1px, 1px);height: 1px;margin: -1px;overflow: hidden;padding: 0;position: absolute;width: 1px;}#sk-container-id-23 div.sk-estimator {font-family: monospace;background-color: #f0f8ff;border: 1px dotted black;border-radius: 0.25em;box-sizing: border-box;margin-bottom: 0.5em;}#sk-container-id-23 div.sk-estimator:hover {background-color: #d4ebff;}#sk-container-id-23 div.sk-parallel-item::after {content: \"\";width: 100%;border-bottom: 1px solid gray;flex-grow: 1;}#sk-container-id-23 div.sk-label:hover label.sk-toggleable__label {background-color: #d4ebff;}#sk-container-id-23 div.sk-serial::before {content: \"\";position: absolute;border-left: 1px solid gray;box-sizing: border-box;top: 0;bottom: 0;left: 50%;z-index: 0;}#sk-container-id-23 div.sk-serial {display: flex;flex-direction: column;align-items: center;background-color: white;padding-right: 0.2em;padding-left: 0.2em;position: relative;}#sk-container-id-23 div.sk-item {position: relative;z-index: 1;}#sk-container-id-23 div.sk-parallel {display: flex;align-items: stretch;justify-content: center;background-color: white;position: relative;}#sk-container-id-23 div.sk-item::before, #sk-container-id-23 div.sk-parallel-item::before {content: \"\";position: absolute;border-left: 1px solid gray;box-sizing: border-box;top: 0;bottom: 0;left: 50%;z-index: -1;}#sk-container-id-23 div.sk-parallel-item {display: flex;flex-direction: column;z-index: 1;position: relative;background-color: white;}#sk-container-id-23 div.sk-parallel-item:first-child::after {align-self: flex-end;width: 50%;}#sk-container-id-23 div.sk-parallel-item:last-child::after {align-self: flex-start;width: 50%;}#sk-container-id-23 div.sk-parallel-item:only-child::after {width: 0;}#sk-container-id-23 div.sk-dashed-wrapped {border: 1px dashed gray;margin: 0 0.4em 0.5em 0.4em;box-sizing: border-box;padding-bottom: 0.4em;background-color: white;}#sk-container-id-23 div.sk-label label {font-family: monospace;font-weight: bold;display: inline-block;line-height: 1.2em;}#sk-container-id-23 div.sk-label-container {text-align: center;}#sk-container-id-23 div.sk-container {/* jupyter's `normalize.less` sets `[hidden] { display: none; }` but bootstrap.min.css set `[hidden] { display: none !important; }` so we also need the `!important` here to be able to override the default hidden behavior on the sphinx rendered scikit-learn.org. See: https://github.com/scikit-learn/scikit-learn/issues/21755 */display: inline-block !important;position: relative;}#sk-container-id-23 div.sk-text-repr-fallback {display: none;}</style><div id=\"sk-container-id-23\" class=\"sk-top-container\"><div class=\"sk-text-repr-fallback\"><pre>RandomForestClassifier()</pre><b>In a Jupyter environment, please rerun this cell to show the HTML representation or trust the notebook. <br />On GitHub, the HTML representation is unable to render, please try loading this page with nbviewer.org.</b></div><div class=\"sk-container\" hidden><div class=\"sk-item\"><div class=\"sk-estimator sk-toggleable\"><input class=\"sk-toggleable__control sk-hidden--visually\" id=\"sk-estimator-id-23\" type=\"checkbox\" checked><label for=\"sk-estimator-id-23\" class=\"sk-toggleable__label sk-toggleable__label-arrow\">RandomForestClassifier</label><div class=\"sk-toggleable__content\"><pre>RandomForestClassifier()</pre></div></div></div></div></div>"
      ],
      "text/plain": [
       "RandomForestClassifier()"
      ]
     },
     "execution_count": 199,
     "metadata": {},
     "output_type": "execute_result"
    }
   ],
   "source": [
    "model.fit(X_train, y_train)"
   ]
  },
  {
   "cell_type": "code",
   "execution_count": 200,
   "id": "34f96c82-74b0-4de1-8797-72d6c561ff8e",
   "metadata": {
    "execution": {
     "iopub.execute_input": "2025-06-23T06:08:13.087960Z",
     "iopub.status.busy": "2025-06-23T06:08:13.087678Z",
     "iopub.status.idle": "2025-06-23T06:08:13.104905Z",
     "shell.execute_reply": "2025-06-23T06:08:13.103796Z",
     "shell.execute_reply.started": "2025-06-23T06:08:13.087940Z"
    }
   },
   "outputs": [],
   "source": [
    "# evaluation metrics\n",
    "y_pred = model.predict(X_test)"
   ]
  },
  {
   "cell_type": "code",
   "execution_count": 201,
   "id": "03202dcf-39be-429d-9b2d-5b284fc99625",
   "metadata": {
    "execution": {
     "iopub.execute_input": "2025-06-23T06:08:13.106150Z",
     "iopub.status.busy": "2025-06-23T06:08:13.105894Z",
     "iopub.status.idle": "2025-06-23T06:08:13.132861Z",
     "shell.execute_reply": "2025-06-23T06:08:13.131875Z",
     "shell.execute_reply.started": "2025-06-23T06:08:13.106133Z"
    }
   },
   "outputs": [],
   "source": [
    "y_pred_train = model.predict(X_train)"
   ]
  },
  {
   "cell_type": "code",
   "execution_count": 202,
   "id": "0ccd5a7d-d89e-4061-bbb4-af97c1dd2aec",
   "metadata": {
    "execution": {
     "iopub.execute_input": "2025-06-23T06:08:13.134503Z",
     "iopub.status.busy": "2025-06-23T06:08:13.134159Z",
     "iopub.status.idle": "2025-06-23T06:08:13.152133Z",
     "shell.execute_reply": "2025-06-23T06:08:13.151180Z",
     "shell.execute_reply.started": "2025-06-23T06:08:13.134481Z"
    }
   },
   "outputs": [],
   "source": [
    "y_pred_proba = model.predict_proba(X_test)"
   ]
  },
  {
   "cell_type": "code",
   "execution_count": 203,
   "id": "27de94b5-b271-4567-9304-a72ff20f912a",
   "metadata": {
    "execution": {
     "iopub.execute_input": "2025-06-23T06:08:13.153287Z",
     "iopub.status.busy": "2025-06-23T06:08:13.152982Z",
     "iopub.status.idle": "2025-06-23T06:08:13.181071Z",
     "shell.execute_reply": "2025-06-23T06:08:13.180274Z",
     "shell.execute_reply.started": "2025-06-23T06:08:13.153266Z"
    }
   },
   "outputs": [],
   "source": [
    "y_pred_proba_train = model.predict_proba(X_train)"
   ]
  },
  {
   "cell_type": "code",
   "execution_count": 204,
   "id": "dde830c7-0386-4afe-b5f7-2a449bdece6d",
   "metadata": {
    "execution": {
     "iopub.execute_input": "2025-06-23T06:08:13.186823Z",
     "iopub.status.busy": "2025-06-23T06:08:13.186519Z",
     "iopub.status.idle": "2025-06-23T06:08:13.200043Z",
     "shell.execute_reply": "2025-06-23T06:08:13.199129Z",
     "shell.execute_reply.started": "2025-06-23T06:08:13.186803Z"
    }
   },
   "outputs": [
    {
     "data": {
      "text/plain": [
       "(array([5, 7, 5, 7, 4, 9, 3, 4, 5, 7, 8, 8, 9, 7, 4, 5, 5, 7, 7, 8, 5, 8,\n",
       "        8, 9, 4, 5, 7, 7, 5, 7, 9, 7, 7, 6, 8, 7, 7, 7, 7, 5, 8, 5, 7, 7,\n",
       "        8, 5, 9, 6, 5, 7, 7, 6, 4, 5, 7, 8, 6, 7, 8, 9, 4, 5, 6, 7, 6, 5,\n",
       "        8, 5, 8, 8, 7, 7, 5, 5, 4, 7, 5, 9, 7, 7, 7, 5, 8, 9, 8, 5, 7, 5,\n",
       "        8, 6, 5, 9, 8, 7, 4, 8, 5, 5, 7, 4, 5, 3, 5, 7, 5, 5, 8, 5, 8, 5,\n",
       "        7, 5, 5, 7, 8, 5, 8, 4, 4, 8, 7, 7, 9, 7, 7, 7, 8, 4, 3, 6, 8, 8,\n",
       "        4, 7, 7, 8, 4, 7, 8, 4, 5]),\n",
       " array([5, 8, 8, 9, 4, 6, 8, 6, 7, 7, 8, 9, 8, 5, 7, 9, 5, 7, 9, 7, 7, 8,\n",
       "        7, 8, 8, 7, 4, 7, 5, 9, 8, 7, 7, 9, 4, 7, 4, 5, 7, 6, 8, 8, 8, 7,\n",
       "        8, 4, 7, 4, 9, 7, 5, 7, 9, 5, 5, 6, 8, 9, 7, 5, 5, 6, 4, 7, 8, 3,\n",
       "        7, 5, 8, 6, 8, 9, 6, 8, 7, 7, 7, 5, 4, 6, 9, 7, 8, 7, 8, 4, 5, 6,\n",
       "        8, 3, 7, 9, 8, 7, 7, 5, 4, 4, 4, 7, 8, 8, 7, 6, 4, 3, 7, 8, 4, 8,\n",
       "        7, 5, 7, 8, 5, 5, 7, 5, 6, 5, 8, 6, 9, 5, 7, 5, 9, 7, 7, 6, 4, 5,\n",
       "        5, 4, 9, 7, 5, 7, 8, 8, 5, 8, 5, 6, 7, 7, 5, 8, 9, 8, 5, 6, 4, 7,\n",
       "        7, 7, 5, 4, 9, 5, 7, 7, 8, 8, 7, 8, 7, 8, 4, 9, 4, 7, 6, 6, 3, 5,\n",
       "        8, 8, 5, 5, 8, 6, 7, 7, 7, 8, 4, 9, 5, 7, 8, 7, 7, 7, 4, 3, 5, 4,\n",
       "        7, 9, 7, 7, 7, 6, 7, 6, 8, 3, 5, 7, 4, 4, 4, 8, 7, 6, 4, 4, 4, 5,\n",
       "        3, 8, 7, 6, 4, 9, 9, 7, 5, 5, 8, 4, 8, 7, 9, 5, 8, 5, 6, 9, 7, 4,\n",
       "        7, 5, 8, 3, 5, 7, 8, 4, 5, 4, 9, 5, 5, 8, 7, 6, 7, 5, 8, 4, 6, 4,\n",
       "        7, 9, 5, 7, 5, 4, 7, 7, 8, 9, 6, 5, 8, 9, 4, 8, 7, 5, 5, 5, 8, 7,\n",
       "        8, 9, 8, 7, 7, 5, 7, 8, 4, 8, 8, 7, 8, 6, 8, 5, 8, 4, 6, 6, 4, 5,\n",
       "        7, 8, 8, 8, 5, 8, 7, 8, 7, 7, 7, 6, 5, 6, 5, 6, 5, 7, 4, 6, 4, 5,\n",
       "        8, 7, 5, 7, 5, 5, 5, 8, 7, 4, 7, 8, 6, 7, 8, 6, 7, 7, 5, 6, 5, 8,\n",
       "        9, 5, 5, 8, 4, 8, 8, 7, 8, 8, 7, 6, 7, 7, 4, 5, 8, 7, 8, 7, 5, 8,\n",
       "        5, 6, 4, 7, 7, 8, 8, 7, 5, 5, 7, 9, 7, 6, 4, 5, 8, 7, 7, 8, 4, 9,\n",
       "        8, 6, 5, 4, 9, 5, 3, 5, 8, 8, 9, 7, 7, 5, 5, 6, 6, 9, 4, 3, 4, 8,\n",
       "        6, 7, 7, 8, 7, 7, 7, 8, 7, 6, 7, 7, 8, 7, 5, 8, 8, 8, 7, 6, 3, 5,\n",
       "        7, 6, 7, 5, 6, 7, 7, 7, 7, 8, 8, 7, 9, 9, 4, 8, 8, 5, 8, 7, 8, 5,\n",
       "        7, 5, 3, 5, 4, 8, 5, 7, 7, 4, 8, 7, 7, 3, 5, 7, 4, 6, 7, 7, 8, 4,\n",
       "        7, 4, 5, 4, 7, 7, 7, 8, 6, 7, 4, 9, 7, 7, 7, 3, 9, 5, 4, 7, 7, 8,\n",
       "        7, 4, 9, 7, 7, 7, 7, 7, 9, 5, 7, 7, 7, 7, 8, 5, 4, 5, 7, 5, 8, 4,\n",
       "        8, 7, 7, 7, 4, 7, 9, 4, 8, 7, 7, 9, 6, 7, 8, 4, 8, 9, 7, 5, 5, 8,\n",
       "        6, 4, 5, 7, 7, 9, 5, 8, 8, 5, 6, 5, 7, 7]),\n",
       " array([[0.  , 0.02, 0.98, 0.  , 0.  , 0.  , 0.  ],\n",
       "        [0.  , 0.  , 0.  , 0.01, 0.94, 0.05, 0.  ],\n",
       "        [0.  , 0.22, 0.74, 0.04, 0.  , 0.  , 0.  ],\n",
       "        [0.  , 0.  , 0.  , 0.04, 0.96, 0.  , 0.  ],\n",
       "        [0.  , 0.95, 0.05, 0.  , 0.  , 0.  , 0.  ],\n",
       "        [0.  , 0.  , 0.  , 0.  , 0.  , 0.11, 0.89],\n",
       "        [0.99, 0.01, 0.  , 0.  , 0.  , 0.  , 0.  ],\n",
       "        [0.04, 0.66, 0.3 , 0.  , 0.  , 0.  , 0.  ],\n",
       "        [0.  , 0.02, 0.97, 0.01, 0.  , 0.  , 0.  ],\n",
       "        [0.  , 0.  , 0.01, 0.  , 0.86, 0.12, 0.01],\n",
       "        [0.  , 0.  , 0.  , 0.  , 0.2 , 0.8 , 0.  ],\n",
       "        [0.  , 0.  , 0.  , 0.  , 0.08, 0.91, 0.01],\n",
       "        [0.  , 0.  , 0.  , 0.  , 0.  , 0.  , 1.  ],\n",
       "        [0.  , 0.  , 0.  , 0.  , 0.99, 0.01, 0.  ],\n",
       "        [0.  , 0.93, 0.07, 0.  , 0.  , 0.  , 0.  ],\n",
       "        [0.  , 0.11, 0.77, 0.11, 0.01, 0.  , 0.  ],\n",
       "        [0.  , 0.13, 0.84, 0.02, 0.  , 0.01, 0.  ],\n",
       "        [0.  , 0.  , 0.03, 0.07, 0.87, 0.03, 0.  ],\n",
       "        [0.  , 0.  , 0.  , 0.  , 0.99, 0.01, 0.  ],\n",
       "        [0.  , 0.  , 0.  , 0.03, 0.07, 0.9 , 0.  ],\n",
       "        [0.  , 0.04, 0.65, 0.27, 0.01, 0.03, 0.  ],\n",
       "        [0.  , 0.  , 0.  , 0.  , 0.04, 0.9 , 0.06],\n",
       "        [0.  , 0.  , 0.  , 0.  , 0.04, 0.94, 0.02],\n",
       "        [0.  , 0.  , 0.  , 0.  , 0.  , 0.03, 0.97],\n",
       "        [0.  , 0.9 , 0.09, 0.01, 0.  , 0.  , 0.  ],\n",
       "        [0.  , 0.04, 0.88, 0.07, 0.  , 0.  , 0.01],\n",
       "        [0.  , 0.  , 0.  , 0.01, 0.99, 0.  , 0.  ],\n",
       "        [0.  , 0.  , 0.  , 0.  , 0.94, 0.03, 0.03],\n",
       "        [0.  , 0.03, 0.96, 0.01, 0.  , 0.  , 0.  ],\n",
       "        [0.  , 0.  , 0.02, 0.01, 0.8 , 0.17, 0.  ],\n",
       "        [0.  , 0.  , 0.  , 0.  , 0.04, 0.43, 0.53],\n",
       "        [0.  , 0.  , 0.  , 0.07, 0.93, 0.  , 0.  ],\n",
       "        [0.  , 0.  , 0.  , 0.03, 0.97, 0.  , 0.  ],\n",
       "        [0.  , 0.  , 0.02, 0.94, 0.04, 0.  , 0.  ],\n",
       "        [0.  , 0.  , 0.  , 0.  , 0.02, 0.95, 0.03],\n",
       "        [0.  , 0.  , 0.01, 0.  , 0.98, 0.01, 0.  ],\n",
       "        [0.  , 0.  , 0.  , 0.  , 1.  , 0.  , 0.  ],\n",
       "        [0.  , 0.  , 0.  , 0.04, 0.96, 0.  , 0.  ],\n",
       "        [0.  , 0.  , 0.  , 0.1 , 0.81, 0.09, 0.  ],\n",
       "        [0.  , 0.  , 1.  , 0.  , 0.  , 0.  , 0.  ],\n",
       "        [0.  , 0.  , 0.  , 0.  , 0.01, 0.99, 0.  ],\n",
       "        [0.  , 0.05, 0.93, 0.02, 0.  , 0.  , 0.  ],\n",
       "        [0.  , 0.  , 0.  , 0.04, 0.96, 0.  , 0.  ],\n",
       "        [0.  , 0.  , 0.  , 0.05, 0.95, 0.  , 0.  ],\n",
       "        [0.  , 0.  , 0.  , 0.  , 0.  , 0.98, 0.02],\n",
       "        [0.  , 0.18, 0.81, 0.01, 0.  , 0.  , 0.  ],\n",
       "        [0.  , 0.  , 0.  , 0.  , 0.02, 0.14, 0.84],\n",
       "        [0.  , 0.  , 0.  , 0.88, 0.11, 0.01, 0.  ],\n",
       "        [0.  , 0.01, 0.96, 0.03, 0.  , 0.  , 0.  ],\n",
       "        [0.  , 0.  , 0.14, 0.01, 0.55, 0.29, 0.01],\n",
       "        [0.  , 0.  , 0.  , 0.01, 0.97, 0.02, 0.  ],\n",
       "        [0.  , 0.  , 0.  , 0.82, 0.17, 0.01, 0.  ],\n",
       "        [0.  , 1.  , 0.  , 0.  , 0.  , 0.  , 0.  ],\n",
       "        [0.  , 0.01, 0.96, 0.03, 0.  , 0.  , 0.  ],\n",
       "        [0.  , 0.  , 0.  , 0.02, 0.98, 0.  , 0.  ],\n",
       "        [0.  , 0.  , 0.  , 0.  , 0.05, 0.78, 0.17],\n",
       "        [0.  , 0.  , 0.  , 1.  , 0.  , 0.  , 0.  ],\n",
       "        [0.  , 0.  , 0.  , 0.01, 0.95, 0.04, 0.  ],\n",
       "        [0.  , 0.  , 0.  , 0.  , 0.  , 0.99, 0.01],\n",
       "        [0.  , 0.  , 0.  , 0.  , 0.04, 0.25, 0.71],\n",
       "        [0.01, 0.84, 0.09, 0.06, 0.  , 0.  , 0.  ],\n",
       "        [0.  , 0.01, 0.98, 0.01, 0.  , 0.  , 0.  ],\n",
       "        [0.  , 0.  , 0.  , 0.95, 0.05, 0.  , 0.  ],\n",
       "        [0.  , 0.  , 0.01, 0.  , 0.95, 0.02, 0.02],\n",
       "        [0.  , 0.  , 0.01, 0.93, 0.03, 0.02, 0.01],\n",
       "        [0.  , 0.04, 0.95, 0.  , 0.  , 0.  , 0.01],\n",
       "        [0.  , 0.  , 0.  , 0.  , 0.02, 0.91, 0.07],\n",
       "        [0.  , 0.01, 0.97, 0.02, 0.  , 0.  , 0.  ],\n",
       "        [0.  , 0.  , 0.  , 0.  , 0.05, 0.93, 0.02],\n",
       "        [0.  , 0.  , 0.  , 0.  , 0.06, 0.88, 0.06],\n",
       "        [0.  , 0.  , 0.  , 0.  , 0.95, 0.05, 0.  ],\n",
       "        [0.  , 0.  , 0.  , 0.02, 0.9 , 0.08, 0.  ],\n",
       "        [0.  , 0.02, 0.97, 0.  , 0.  , 0.  , 0.01],\n",
       "        [0.  , 0.01, 0.99, 0.  , 0.  , 0.  , 0.  ],\n",
       "        [0.04, 0.83, 0.13, 0.  , 0.  , 0.  , 0.  ],\n",
       "        [0.  , 0.  , 0.  , 0.  , 1.  , 0.  , 0.  ],\n",
       "        [0.01, 0.12, 0.82, 0.04, 0.  , 0.01, 0.  ],\n",
       "        [0.  , 0.  , 0.  , 0.  , 0.02, 0.34, 0.64],\n",
       "        [0.  , 0.  , 0.  , 0.02, 0.89, 0.09, 0.  ],\n",
       "        [0.  , 0.  , 0.  , 0.02, 0.95, 0.02, 0.01],\n",
       "        [0.  , 0.  , 0.  , 0.  , 1.  , 0.  , 0.  ],\n",
       "        [0.  , 0.02, 0.95, 0.01, 0.01, 0.01, 0.  ],\n",
       "        [0.  , 0.  , 0.  , 0.  , 0.03, 0.84, 0.13],\n",
       "        [0.  , 0.  , 0.  , 0.  , 0.02, 0.43, 0.55],\n",
       "        [0.  , 0.  , 0.  , 0.01, 0.1 , 0.89, 0.  ],\n",
       "        [0.  , 0.09, 0.9 , 0.01, 0.  , 0.  , 0.  ],\n",
       "        [0.  , 0.  , 0.  , 0.  , 0.97, 0.03, 0.  ],\n",
       "        [0.  , 0.03, 0.94, 0.01, 0.01, 0.01, 0.  ],\n",
       "        [0.  , 0.  , 0.  , 0.  , 0.08, 0.9 , 0.02],\n",
       "        [0.  , 0.  , 0.01, 0.9 , 0.09, 0.  , 0.  ],\n",
       "        [0.  , 0.05, 0.94, 0.01, 0.  , 0.  , 0.  ],\n",
       "        [0.  , 0.  , 0.  , 0.  , 0.02, 0.25, 0.73],\n",
       "        [0.  , 0.  , 0.  , 0.  , 0.04, 0.96, 0.  ],\n",
       "        [0.  , 0.  , 0.  , 0.03, 0.97, 0.  , 0.  ],\n",
       "        [0.05, 0.92, 0.03, 0.  , 0.  , 0.  , 0.  ],\n",
       "        [0.  , 0.  , 0.  , 0.  , 0.02, 0.97, 0.01],\n",
       "        [0.  , 0.03, 0.96, 0.  , 0.  , 0.01, 0.  ],\n",
       "        [0.  , 0.21, 0.69, 0.1 , 0.  , 0.  , 0.  ],\n",
       "        [0.  , 0.  , 0.  , 0.  , 0.93, 0.07, 0.  ],\n",
       "        [0.01, 0.96, 0.03, 0.  , 0.  , 0.  , 0.  ],\n",
       "        [0.  , 0.24, 0.74, 0.02, 0.  , 0.  , 0.  ],\n",
       "        [0.98, 0.02, 0.  , 0.  , 0.  , 0.  , 0.  ],\n",
       "        [0.02, 0.01, 0.89, 0.08, 0.  , 0.  , 0.  ],\n",
       "        [0.  , 0.  , 0.  , 0.02, 0.96, 0.02, 0.  ],\n",
       "        [0.  , 0.08, 0.91, 0.01, 0.  , 0.  , 0.  ],\n",
       "        [0.  , 0.04, 0.95, 0.  , 0.01, 0.  , 0.  ],\n",
       "        [0.  , 0.  , 0.  , 0.  , 0.  , 0.94, 0.06],\n",
       "        [0.  , 0.  , 0.99, 0.01, 0.  , 0.  , 0.  ],\n",
       "        [0.  , 0.  , 0.  , 0.  , 0.06, 0.82, 0.12],\n",
       "        [0.  , 0.01, 0.91, 0.03, 0.04, 0.01, 0.  ],\n",
       "        [0.  , 0.  , 0.  , 0.  , 0.93, 0.07, 0.  ],\n",
       "        [0.  , 0.01, 0.99, 0.  , 0.  , 0.  , 0.  ],\n",
       "        [0.  , 0.16, 0.72, 0.12, 0.  , 0.  , 0.  ],\n",
       "        [0.  , 0.  , 0.  , 0.01, 0.98, 0.01, 0.  ],\n",
       "        [0.  , 0.  , 0.  , 0.  , 0.01, 0.94, 0.05],\n",
       "        [0.  , 0.14, 0.71, 0.15, 0.  , 0.  , 0.  ],\n",
       "        [0.  , 0.  , 0.  , 0.  , 0.04, 0.91, 0.05],\n",
       "        [0.  , 0.83, 0.17, 0.  , 0.  , 0.  , 0.  ],\n",
       "        [0.09, 0.69, 0.22, 0.  , 0.  , 0.  , 0.  ],\n",
       "        [0.  , 0.  , 0.  , 0.  , 0.03, 0.96, 0.01],\n",
       "        [0.  , 0.  , 0.  , 0.02, 0.88, 0.1 , 0.  ],\n",
       "        [0.  , 0.  , 0.  , 0.01, 0.99, 0.  , 0.  ],\n",
       "        [0.  , 0.  , 0.  , 0.  , 0.01, 0.25, 0.74],\n",
       "        [0.  , 0.  , 0.  , 0.  , 0.97, 0.03, 0.  ],\n",
       "        [0.  , 0.  , 0.  , 0.  , 0.88, 0.12, 0.  ],\n",
       "        [0.  , 0.  , 0.02, 0.03, 0.91, 0.04, 0.  ],\n",
       "        [0.  , 0.  , 0.  , 0.  , 0.  , 0.94, 0.06],\n",
       "        [0.  , 0.95, 0.05, 0.  , 0.  , 0.  , 0.  ],\n",
       "        [0.51, 0.49, 0.  , 0.  , 0.  , 0.  , 0.  ],\n",
       "        [0.  , 0.03, 0.03, 0.94, 0.  , 0.  , 0.  ],\n",
       "        [0.  , 0.  , 0.  , 0.01, 0.1 , 0.87, 0.02],\n",
       "        [0.  , 0.  , 0.01, 0.  , 0.01, 0.95, 0.03],\n",
       "        [0.  , 1.  , 0.  , 0.  , 0.  , 0.  , 0.  ],\n",
       "        [0.  , 0.  , 0.  , 0.  , 0.94, 0.05, 0.01],\n",
       "        [0.  , 0.  , 0.  , 0.02, 0.97, 0.01, 0.  ],\n",
       "        [0.  , 0.  , 0.  , 0.  , 0.  , 0.55, 0.45],\n",
       "        [0.07, 0.86, 0.07, 0.  , 0.  , 0.  , 0.  ],\n",
       "        [0.  , 0.  , 0.  , 0.  , 0.94, 0.06, 0.  ],\n",
       "        [0.  , 0.  , 0.  , 0.  , 0.01, 0.83, 0.16],\n",
       "        [0.09, 0.76, 0.15, 0.  , 0.  , 0.  , 0.  ],\n",
       "        [0.  , 0.  , 0.98, 0.02, 0.  , 0.  , 0.  ]]),\n",
       " array([[0.  , 0.1 , 0.86, ..., 0.  , 0.  , 0.  ],\n",
       "        [0.  , 0.  , 0.01, ..., 0.11, 0.87, 0.  ],\n",
       "        [0.  , 0.  , 0.  , ..., 0.  , 0.99, 0.01],\n",
       "        ...,\n",
       "        [0.  , 0.02, 0.97, ..., 0.  , 0.  , 0.01],\n",
       "        [0.  , 0.  , 0.  , ..., 0.99, 0.  , 0.  ],\n",
       "        [0.  , 0.  , 0.01, ..., 0.96, 0.03, 0.  ]]))"
      ]
     },
     "execution_count": 204,
     "metadata": {},
     "output_type": "execute_result"
    }
   ],
   "source": [
    "y_pred, y_pred_train, y_pred_proba, y_pred_proba_train"
   ]
  },
  {
   "cell_type": "code",
   "execution_count": 205,
   "id": "d8233ec2-ed10-42c3-a668-b8a97c765b6f",
   "metadata": {
    "execution": {
     "iopub.execute_input": "2025-06-23T06:08:13.201297Z",
     "iopub.status.busy": "2025-06-23T06:08:13.200963Z",
     "iopub.status.idle": "2025-06-23T06:08:13.230064Z",
     "shell.execute_reply": "2025-06-23T06:08:13.229001Z",
     "shell.execute_reply.started": "2025-06-23T06:08:13.201271Z"
    }
   },
   "outputs": [],
   "source": [
    "accuracy = model.score(X_test, y_test)"
   ]
  },
  {
   "cell_type": "code",
   "execution_count": 206,
   "id": "01f5c9e9-60ff-4bb0-a59d-95c60e462f9c",
   "metadata": {
    "execution": {
     "iopub.execute_input": "2025-06-23T06:08:13.231826Z",
     "iopub.status.busy": "2025-06-23T06:08:13.231131Z",
     "iopub.status.idle": "2025-06-23T06:08:13.237735Z",
     "shell.execute_reply": "2025-06-23T06:08:13.236860Z",
     "shell.execute_reply.started": "2025-06-23T06:08:13.231796Z"
    }
   },
   "outputs": [
    {
     "data": {
      "text/plain": [
       "0.9858156028368794"
      ]
     },
     "execution_count": 206,
     "metadata": {},
     "output_type": "execute_result"
    }
   ],
   "source": [
    "accuracy"
   ]
  },
  {
   "cell_type": "code",
   "execution_count": 207,
   "id": "7af09b24-2b53-480f-a244-5dc7bbff7fe2",
   "metadata": {
    "execution": {
     "iopub.execute_input": "2025-06-23T06:08:13.239277Z",
     "iopub.status.busy": "2025-06-23T06:08:13.238936Z",
     "iopub.status.idle": "2025-06-23T06:08:14.238865Z",
     "shell.execute_reply": "2025-06-23T06:08:14.237956Z",
     "shell.execute_reply.started": "2025-06-23T06:08:13.239247Z"
    }
   },
   "outputs": [
    {
     "name": "stderr",
     "output_type": "stream",
     "text": [
      "/usr/local/lib/python3.11/dist-packages/sklearn/model_selection/_split.py:700: UserWarning: The least populated class in y has only 1 members, which is less than n_splits=5.\n",
      "  warnings.warn(\n"
     ]
    }
   ],
   "source": [
    "scores = cross_val_score(model, X_encoded, y, cv=5)"
   ]
  },
  {
   "cell_type": "code",
   "execution_count": 208,
   "id": "78150391-1f5e-42ef-a0f0-ebd5b53915bf",
   "metadata": {
    "execution": {
     "iopub.execute_input": "2025-06-23T06:08:14.239850Z",
     "iopub.status.busy": "2025-06-23T06:08:14.239623Z",
     "iopub.status.idle": "2025-06-23T06:08:14.245287Z",
     "shell.execute_reply": "2025-06-23T06:08:14.244258Z",
     "shell.execute_reply.started": "2025-06-23T06:08:14.239833Z"
    }
   },
   "outputs": [
    {
     "name": "stdout",
     "output_type": "stream",
     "text": [
      "[0.78723404 0.88652482 0.95035461 0.95744681 0.85106383]\n"
     ]
    }
   ],
   "source": [
    "# Each value in the list represents the accuracy score for one fold in 5-fold cross-validation\n",
    "print(scores)"
   ]
  },
  {
   "cell_type": "code",
   "execution_count": 209,
   "id": "2b3073ca-f588-4be6-968e-f88368faef2b",
   "metadata": {
    "execution": {
     "iopub.execute_input": "2025-06-23T06:08:14.246480Z",
     "iopub.status.busy": "2025-06-23T06:08:14.246177Z",
     "iopub.status.idle": "2025-06-23T06:08:14.266369Z",
     "shell.execute_reply": "2025-06-23T06:08:14.265335Z",
     "shell.execute_reply.started": "2025-06-23T06:08:14.246462Z"
    }
   },
   "outputs": [
    {
     "name": "stdout",
     "output_type": "stream",
     "text": [
      "Mean accuracy: 0.8865248226950355\n"
     ]
    }
   ],
   "source": [
    "print(\"Mean accuracy:\", scores.mean())\n"
   ]
  },
  {
   "cell_type": "code",
   "execution_count": 210,
   "id": "dbf5b346-da91-4696-a825-a0b3a898b61b",
   "metadata": {
    "execution": {
     "iopub.execute_input": "2025-06-23T06:08:14.268380Z",
     "iopub.status.busy": "2025-06-23T06:08:14.267390Z",
     "iopub.status.idle": "2025-06-23T06:08:14.286531Z",
     "shell.execute_reply": "2025-06-23T06:08:14.285470Z",
     "shell.execute_reply.started": "2025-06-23T06:08:14.268356Z"
    }
   },
   "outputs": [],
   "source": [
    "from sklearn.linear_model import Lasso, Ridge, ElasticNet\n",
    "\n",
    "model = ElasticNet(alpha=0.1, l1_ratio=0.7)   # Elastic Net"
   ]
  },
  {
   "cell_type": "code",
   "execution_count": 211,
   "id": "26494d91-601c-4c34-8ce6-8c33f7e7ab0f",
   "metadata": {
    "execution": {
     "iopub.execute_input": "2025-06-23T06:08:14.287871Z",
     "iopub.status.busy": "2025-06-23T06:08:14.287528Z",
     "iopub.status.idle": "2025-06-23T06:08:14.322126Z",
     "shell.execute_reply": "2025-06-23T06:08:14.321261Z",
     "shell.execute_reply.started": "2025-06-23T06:08:14.287843Z"
    }
   },
   "outputs": [
    {
     "data": {
      "text/html": [
       "<style>#sk-container-id-24 {color: black;background-color: white;}#sk-container-id-24 pre{padding: 0;}#sk-container-id-24 div.sk-toggleable {background-color: white;}#sk-container-id-24 label.sk-toggleable__label {cursor: pointer;display: block;width: 100%;margin-bottom: 0;padding: 0.3em;box-sizing: border-box;text-align: center;}#sk-container-id-24 label.sk-toggleable__label-arrow:before {content: \"▸\";float: left;margin-right: 0.25em;color: #696969;}#sk-container-id-24 label.sk-toggleable__label-arrow:hover:before {color: black;}#sk-container-id-24 div.sk-estimator:hover label.sk-toggleable__label-arrow:before {color: black;}#sk-container-id-24 div.sk-toggleable__content {max-height: 0;max-width: 0;overflow: hidden;text-align: left;background-color: #f0f8ff;}#sk-container-id-24 div.sk-toggleable__content pre {margin: 0.2em;color: black;border-radius: 0.25em;background-color: #f0f8ff;}#sk-container-id-24 input.sk-toggleable__control:checked~div.sk-toggleable__content {max-height: 200px;max-width: 100%;overflow: auto;}#sk-container-id-24 input.sk-toggleable__control:checked~label.sk-toggleable__label-arrow:before {content: \"▾\";}#sk-container-id-24 div.sk-estimator input.sk-toggleable__control:checked~label.sk-toggleable__label {background-color: #d4ebff;}#sk-container-id-24 div.sk-label input.sk-toggleable__control:checked~label.sk-toggleable__label {background-color: #d4ebff;}#sk-container-id-24 input.sk-hidden--visually {border: 0;clip: rect(1px 1px 1px 1px);clip: rect(1px, 1px, 1px, 1px);height: 1px;margin: -1px;overflow: hidden;padding: 0;position: absolute;width: 1px;}#sk-container-id-24 div.sk-estimator {font-family: monospace;background-color: #f0f8ff;border: 1px dotted black;border-radius: 0.25em;box-sizing: border-box;margin-bottom: 0.5em;}#sk-container-id-24 div.sk-estimator:hover {background-color: #d4ebff;}#sk-container-id-24 div.sk-parallel-item::after {content: \"\";width: 100%;border-bottom: 1px solid gray;flex-grow: 1;}#sk-container-id-24 div.sk-label:hover label.sk-toggleable__label {background-color: #d4ebff;}#sk-container-id-24 div.sk-serial::before {content: \"\";position: absolute;border-left: 1px solid gray;box-sizing: border-box;top: 0;bottom: 0;left: 50%;z-index: 0;}#sk-container-id-24 div.sk-serial {display: flex;flex-direction: column;align-items: center;background-color: white;padding-right: 0.2em;padding-left: 0.2em;position: relative;}#sk-container-id-24 div.sk-item {position: relative;z-index: 1;}#sk-container-id-24 div.sk-parallel {display: flex;align-items: stretch;justify-content: center;background-color: white;position: relative;}#sk-container-id-24 div.sk-item::before, #sk-container-id-24 div.sk-parallel-item::before {content: \"\";position: absolute;border-left: 1px solid gray;box-sizing: border-box;top: 0;bottom: 0;left: 50%;z-index: -1;}#sk-container-id-24 div.sk-parallel-item {display: flex;flex-direction: column;z-index: 1;position: relative;background-color: white;}#sk-container-id-24 div.sk-parallel-item:first-child::after {align-self: flex-end;width: 50%;}#sk-container-id-24 div.sk-parallel-item:last-child::after {align-self: flex-start;width: 50%;}#sk-container-id-24 div.sk-parallel-item:only-child::after {width: 0;}#sk-container-id-24 div.sk-dashed-wrapped {border: 1px dashed gray;margin: 0 0.4em 0.5em 0.4em;box-sizing: border-box;padding-bottom: 0.4em;background-color: white;}#sk-container-id-24 div.sk-label label {font-family: monospace;font-weight: bold;display: inline-block;line-height: 1.2em;}#sk-container-id-24 div.sk-label-container {text-align: center;}#sk-container-id-24 div.sk-container {/* jupyter's `normalize.less` sets `[hidden] { display: none; }` but bootstrap.min.css set `[hidden] { display: none !important; }` so we also need the `!important` here to be able to override the default hidden behavior on the sphinx rendered scikit-learn.org. See: https://github.com/scikit-learn/scikit-learn/issues/21755 */display: inline-block !important;position: relative;}#sk-container-id-24 div.sk-text-repr-fallback {display: none;}</style><div id=\"sk-container-id-24\" class=\"sk-top-container\"><div class=\"sk-text-repr-fallback\"><pre>ElasticNet(alpha=0.1, l1_ratio=0.7)</pre><b>In a Jupyter environment, please rerun this cell to show the HTML representation or trust the notebook. <br />On GitHub, the HTML representation is unable to render, please try loading this page with nbviewer.org.</b></div><div class=\"sk-container\" hidden><div class=\"sk-item\"><div class=\"sk-estimator sk-toggleable\"><input class=\"sk-toggleable__control sk-hidden--visually\" id=\"sk-estimator-id-24\" type=\"checkbox\" checked><label for=\"sk-estimator-id-24\" class=\"sk-toggleable__label sk-toggleable__label-arrow\">ElasticNet</label><div class=\"sk-toggleable__content\"><pre>ElasticNet(alpha=0.1, l1_ratio=0.7)</pre></div></div></div></div></div>"
      ],
      "text/plain": [
       "ElasticNet(alpha=0.1, l1_ratio=0.7)"
      ]
     },
     "execution_count": 211,
     "metadata": {},
     "output_type": "execute_result"
    }
   ],
   "source": [
    "model.fit(X_train, y_train)"
   ]
  },
  {
   "cell_type": "code",
   "execution_count": 212,
   "id": "f479ab2d-4f5b-4599-b062-87fc76e2d7f7",
   "metadata": {
    "execution": {
     "iopub.execute_input": "2025-06-23T06:08:14.323490Z",
     "iopub.status.busy": "2025-06-23T06:08:14.323139Z",
     "iopub.status.idle": "2025-06-23T06:08:14.335060Z",
     "shell.execute_reply": "2025-06-23T06:08:14.334291Z",
     "shell.execute_reply.started": "2025-06-23T06:08:14.323459Z"
    }
   },
   "outputs": [
    {
     "data": {
      "text/plain": [
       "0.9490024897182956"
      ]
     },
     "execution_count": 212,
     "metadata": {},
     "output_type": "execute_result"
    }
   ],
   "source": [
    "model.score(X_test, y_test)"
   ]
  },
  {
   "cell_type": "code",
   "execution_count": 213,
   "id": "485c412d-bde4-4ca0-9679-3987b273db47",
   "metadata": {
    "execution": {
     "iopub.execute_input": "2025-06-23T06:08:14.336364Z",
     "iopub.status.busy": "2025-06-23T06:08:14.336070Z",
     "iopub.status.idle": "2025-06-23T06:08:14.349657Z",
     "shell.execute_reply": "2025-06-23T06:08:14.348629Z",
     "shell.execute_reply.started": "2025-06-23T06:08:14.336343Z"
    }
   },
   "outputs": [],
   "source": [
    "model = Lasso(alpha=0.1)   # L1 regularization"
   ]
  },
  {
   "cell_type": "code",
   "execution_count": 214,
   "id": "b66fcecc-ec01-42b7-9287-3d06343015de",
   "metadata": {
    "execution": {
     "iopub.execute_input": "2025-06-23T06:08:14.351065Z",
     "iopub.status.busy": "2025-06-23T06:08:14.350720Z",
     "iopub.status.idle": "2025-06-23T06:08:14.379131Z",
     "shell.execute_reply": "2025-06-23T06:08:14.378253Z",
     "shell.execute_reply.started": "2025-06-23T06:08:14.351043Z"
    }
   },
   "outputs": [
    {
     "data": {
      "text/html": [
       "<style>#sk-container-id-25 {color: black;background-color: white;}#sk-container-id-25 pre{padding: 0;}#sk-container-id-25 div.sk-toggleable {background-color: white;}#sk-container-id-25 label.sk-toggleable__label {cursor: pointer;display: block;width: 100%;margin-bottom: 0;padding: 0.3em;box-sizing: border-box;text-align: center;}#sk-container-id-25 label.sk-toggleable__label-arrow:before {content: \"▸\";float: left;margin-right: 0.25em;color: #696969;}#sk-container-id-25 label.sk-toggleable__label-arrow:hover:before {color: black;}#sk-container-id-25 div.sk-estimator:hover label.sk-toggleable__label-arrow:before {color: black;}#sk-container-id-25 div.sk-toggleable__content {max-height: 0;max-width: 0;overflow: hidden;text-align: left;background-color: #f0f8ff;}#sk-container-id-25 div.sk-toggleable__content pre {margin: 0.2em;color: black;border-radius: 0.25em;background-color: #f0f8ff;}#sk-container-id-25 input.sk-toggleable__control:checked~div.sk-toggleable__content {max-height: 200px;max-width: 100%;overflow: auto;}#sk-container-id-25 input.sk-toggleable__control:checked~label.sk-toggleable__label-arrow:before {content: \"▾\";}#sk-container-id-25 div.sk-estimator input.sk-toggleable__control:checked~label.sk-toggleable__label {background-color: #d4ebff;}#sk-container-id-25 div.sk-label input.sk-toggleable__control:checked~label.sk-toggleable__label {background-color: #d4ebff;}#sk-container-id-25 input.sk-hidden--visually {border: 0;clip: rect(1px 1px 1px 1px);clip: rect(1px, 1px, 1px, 1px);height: 1px;margin: -1px;overflow: hidden;padding: 0;position: absolute;width: 1px;}#sk-container-id-25 div.sk-estimator {font-family: monospace;background-color: #f0f8ff;border: 1px dotted black;border-radius: 0.25em;box-sizing: border-box;margin-bottom: 0.5em;}#sk-container-id-25 div.sk-estimator:hover {background-color: #d4ebff;}#sk-container-id-25 div.sk-parallel-item::after {content: \"\";width: 100%;border-bottom: 1px solid gray;flex-grow: 1;}#sk-container-id-25 div.sk-label:hover label.sk-toggleable__label {background-color: #d4ebff;}#sk-container-id-25 div.sk-serial::before {content: \"\";position: absolute;border-left: 1px solid gray;box-sizing: border-box;top: 0;bottom: 0;left: 50%;z-index: 0;}#sk-container-id-25 div.sk-serial {display: flex;flex-direction: column;align-items: center;background-color: white;padding-right: 0.2em;padding-left: 0.2em;position: relative;}#sk-container-id-25 div.sk-item {position: relative;z-index: 1;}#sk-container-id-25 div.sk-parallel {display: flex;align-items: stretch;justify-content: center;background-color: white;position: relative;}#sk-container-id-25 div.sk-item::before, #sk-container-id-25 div.sk-parallel-item::before {content: \"\";position: absolute;border-left: 1px solid gray;box-sizing: border-box;top: 0;bottom: 0;left: 50%;z-index: -1;}#sk-container-id-25 div.sk-parallel-item {display: flex;flex-direction: column;z-index: 1;position: relative;background-color: white;}#sk-container-id-25 div.sk-parallel-item:first-child::after {align-self: flex-end;width: 50%;}#sk-container-id-25 div.sk-parallel-item:last-child::after {align-self: flex-start;width: 50%;}#sk-container-id-25 div.sk-parallel-item:only-child::after {width: 0;}#sk-container-id-25 div.sk-dashed-wrapped {border: 1px dashed gray;margin: 0 0.4em 0.5em 0.4em;box-sizing: border-box;padding-bottom: 0.4em;background-color: white;}#sk-container-id-25 div.sk-label label {font-family: monospace;font-weight: bold;display: inline-block;line-height: 1.2em;}#sk-container-id-25 div.sk-label-container {text-align: center;}#sk-container-id-25 div.sk-container {/* jupyter's `normalize.less` sets `[hidden] { display: none; }` but bootstrap.min.css set `[hidden] { display: none !important; }` so we also need the `!important` here to be able to override the default hidden behavior on the sphinx rendered scikit-learn.org. See: https://github.com/scikit-learn/scikit-learn/issues/21755 */display: inline-block !important;position: relative;}#sk-container-id-25 div.sk-text-repr-fallback {display: none;}</style><div id=\"sk-container-id-25\" class=\"sk-top-container\"><div class=\"sk-text-repr-fallback\"><pre>Lasso(alpha=0.1)</pre><b>In a Jupyter environment, please rerun this cell to show the HTML representation or trust the notebook. <br />On GitHub, the HTML representation is unable to render, please try loading this page with nbviewer.org.</b></div><div class=\"sk-container\" hidden><div class=\"sk-item\"><div class=\"sk-estimator sk-toggleable\"><input class=\"sk-toggleable__control sk-hidden--visually\" id=\"sk-estimator-id-25\" type=\"checkbox\" checked><label for=\"sk-estimator-id-25\" class=\"sk-toggleable__label sk-toggleable__label-arrow\">Lasso</label><div class=\"sk-toggleable__content\"><pre>Lasso(alpha=0.1)</pre></div></div></div></div></div>"
      ],
      "text/plain": [
       "Lasso(alpha=0.1)"
      ]
     },
     "execution_count": 214,
     "metadata": {},
     "output_type": "execute_result"
    }
   ],
   "source": [
    "model.fit(X_train, y_train)"
   ]
  },
  {
   "cell_type": "code",
   "execution_count": 215,
   "id": "c14d5192-3e98-4457-91a5-146e53cd57e1",
   "metadata": {
    "execution": {
     "iopub.execute_input": "2025-06-23T06:08:14.380301Z",
     "iopub.status.busy": "2025-06-23T06:08:14.380017Z",
     "iopub.status.idle": "2025-06-23T06:08:14.390898Z",
     "shell.execute_reply": "2025-06-23T06:08:14.389982Z",
     "shell.execute_reply.started": "2025-06-23T06:08:14.380282Z"
    }
   },
   "outputs": [
    {
     "data": {
      "text/plain": [
       "0.9452489591991577"
      ]
     },
     "execution_count": 215,
     "metadata": {},
     "output_type": "execute_result"
    }
   ],
   "source": [
    "model.score(X_test, y_test)"
   ]
  },
  {
   "cell_type": "code",
   "execution_count": 216,
   "id": "4f62fe60-12a3-4f8a-934b-334dea3aa447",
   "metadata": {
    "execution": {
     "iopub.execute_input": "2025-06-23T06:08:14.392147Z",
     "iopub.status.busy": "2025-06-23T06:08:14.391871Z",
     "iopub.status.idle": "2025-06-23T06:08:14.409365Z",
     "shell.execute_reply": "2025-06-23T06:08:14.408248Z",
     "shell.execute_reply.started": "2025-06-23T06:08:14.392128Z"
    }
   },
   "outputs": [],
   "source": [
    "model = Ridge(alpha=1.0)   # L2 regularization"
   ]
  },
  {
   "cell_type": "code",
   "execution_count": 217,
   "id": "f7f8cc85-cf2f-456b-a740-329183aea226",
   "metadata": {
    "execution": {
     "iopub.execute_input": "2025-06-23T06:08:14.410674Z",
     "iopub.status.busy": "2025-06-23T06:08:14.410309Z",
     "iopub.status.idle": "2025-06-23T06:08:14.439706Z",
     "shell.execute_reply": "2025-06-23T06:08:14.438894Z",
     "shell.execute_reply.started": "2025-06-23T06:08:14.410645Z"
    }
   },
   "outputs": [
    {
     "data": {
      "text/html": [
       "<style>#sk-container-id-26 {color: black;background-color: white;}#sk-container-id-26 pre{padding: 0;}#sk-container-id-26 div.sk-toggleable {background-color: white;}#sk-container-id-26 label.sk-toggleable__label {cursor: pointer;display: block;width: 100%;margin-bottom: 0;padding: 0.3em;box-sizing: border-box;text-align: center;}#sk-container-id-26 label.sk-toggleable__label-arrow:before {content: \"▸\";float: left;margin-right: 0.25em;color: #696969;}#sk-container-id-26 label.sk-toggleable__label-arrow:hover:before {color: black;}#sk-container-id-26 div.sk-estimator:hover label.sk-toggleable__label-arrow:before {color: black;}#sk-container-id-26 div.sk-toggleable__content {max-height: 0;max-width: 0;overflow: hidden;text-align: left;background-color: #f0f8ff;}#sk-container-id-26 div.sk-toggleable__content pre {margin: 0.2em;color: black;border-radius: 0.25em;background-color: #f0f8ff;}#sk-container-id-26 input.sk-toggleable__control:checked~div.sk-toggleable__content {max-height: 200px;max-width: 100%;overflow: auto;}#sk-container-id-26 input.sk-toggleable__control:checked~label.sk-toggleable__label-arrow:before {content: \"▾\";}#sk-container-id-26 div.sk-estimator input.sk-toggleable__control:checked~label.sk-toggleable__label {background-color: #d4ebff;}#sk-container-id-26 div.sk-label input.sk-toggleable__control:checked~label.sk-toggleable__label {background-color: #d4ebff;}#sk-container-id-26 input.sk-hidden--visually {border: 0;clip: rect(1px 1px 1px 1px);clip: rect(1px, 1px, 1px, 1px);height: 1px;margin: -1px;overflow: hidden;padding: 0;position: absolute;width: 1px;}#sk-container-id-26 div.sk-estimator {font-family: monospace;background-color: #f0f8ff;border: 1px dotted black;border-radius: 0.25em;box-sizing: border-box;margin-bottom: 0.5em;}#sk-container-id-26 div.sk-estimator:hover {background-color: #d4ebff;}#sk-container-id-26 div.sk-parallel-item::after {content: \"\";width: 100%;border-bottom: 1px solid gray;flex-grow: 1;}#sk-container-id-26 div.sk-label:hover label.sk-toggleable__label {background-color: #d4ebff;}#sk-container-id-26 div.sk-serial::before {content: \"\";position: absolute;border-left: 1px solid gray;box-sizing: border-box;top: 0;bottom: 0;left: 50%;z-index: 0;}#sk-container-id-26 div.sk-serial {display: flex;flex-direction: column;align-items: center;background-color: white;padding-right: 0.2em;padding-left: 0.2em;position: relative;}#sk-container-id-26 div.sk-item {position: relative;z-index: 1;}#sk-container-id-26 div.sk-parallel {display: flex;align-items: stretch;justify-content: center;background-color: white;position: relative;}#sk-container-id-26 div.sk-item::before, #sk-container-id-26 div.sk-parallel-item::before {content: \"\";position: absolute;border-left: 1px solid gray;box-sizing: border-box;top: 0;bottom: 0;left: 50%;z-index: -1;}#sk-container-id-26 div.sk-parallel-item {display: flex;flex-direction: column;z-index: 1;position: relative;background-color: white;}#sk-container-id-26 div.sk-parallel-item:first-child::after {align-self: flex-end;width: 50%;}#sk-container-id-26 div.sk-parallel-item:last-child::after {align-self: flex-start;width: 50%;}#sk-container-id-26 div.sk-parallel-item:only-child::after {width: 0;}#sk-container-id-26 div.sk-dashed-wrapped {border: 1px dashed gray;margin: 0 0.4em 0.5em 0.4em;box-sizing: border-box;padding-bottom: 0.4em;background-color: white;}#sk-container-id-26 div.sk-label label {font-family: monospace;font-weight: bold;display: inline-block;line-height: 1.2em;}#sk-container-id-26 div.sk-label-container {text-align: center;}#sk-container-id-26 div.sk-container {/* jupyter's `normalize.less` sets `[hidden] { display: none; }` but bootstrap.min.css set `[hidden] { display: none !important; }` so we also need the `!important` here to be able to override the default hidden behavior on the sphinx rendered scikit-learn.org. See: https://github.com/scikit-learn/scikit-learn/issues/21755 */display: inline-block !important;position: relative;}#sk-container-id-26 div.sk-text-repr-fallback {display: none;}</style><div id=\"sk-container-id-26\" class=\"sk-top-container\"><div class=\"sk-text-repr-fallback\"><pre>Ridge()</pre><b>In a Jupyter environment, please rerun this cell to show the HTML representation or trust the notebook. <br />On GitHub, the HTML representation is unable to render, please try loading this page with nbviewer.org.</b></div><div class=\"sk-container\" hidden><div class=\"sk-item\"><div class=\"sk-estimator sk-toggleable\"><input class=\"sk-toggleable__control sk-hidden--visually\" id=\"sk-estimator-id-26\" type=\"checkbox\" checked><label for=\"sk-estimator-id-26\" class=\"sk-toggleable__label sk-toggleable__label-arrow\">Ridge</label><div class=\"sk-toggleable__content\"><pre>Ridge()</pre></div></div></div></div></div>"
      ],
      "text/plain": [
       "Ridge()"
      ]
     },
     "execution_count": 217,
     "metadata": {},
     "output_type": "execute_result"
    }
   ],
   "source": [
    "model.fit(X_train, y_train)"
   ]
  },
  {
   "cell_type": "code",
   "execution_count": 218,
   "id": "2b13b49e-214b-438e-8e75-c84123c03228",
   "metadata": {
    "execution": {
     "iopub.execute_input": "2025-06-23T06:08:14.440645Z",
     "iopub.status.busy": "2025-06-23T06:08:14.440382Z",
     "iopub.status.idle": "2025-06-23T06:08:14.462965Z",
     "shell.execute_reply": "2025-06-23T06:08:14.462260Z",
     "shell.execute_reply.started": "2025-06-23T06:08:14.440623Z"
    }
   },
   "outputs": [
    {
     "data": {
      "text/plain": [
       "0.9771131105619747"
      ]
     },
     "execution_count": 218,
     "metadata": {},
     "output_type": "execute_result"
    }
   ],
   "source": [
    "model.score(X_test, y_test)"
   ]
  },
  {
   "cell_type": "code",
   "execution_count": 219,
   "id": "27397457-1a0f-439e-a2e0-40571fe3bf2c",
   "metadata": {
    "execution": {
     "iopub.execute_input": "2025-06-23T06:08:14.464532Z",
     "iopub.status.busy": "2025-06-23T06:08:14.463627Z",
     "iopub.status.idle": "2025-06-23T06:08:14.481606Z",
     "shell.execute_reply": "2025-06-23T06:08:14.480476Z",
     "shell.execute_reply.started": "2025-06-23T06:08:14.464509Z"
    }
   },
   "outputs": [],
   "source": [
    "from sklearn.linear_model import LinearRegression\n",
    "\n",
    "model = LinearRegression()   "
   ]
  },
  {
   "cell_type": "code",
   "execution_count": 220,
   "id": "ab39a6ad-a56f-41a1-99e1-31e81b823312",
   "metadata": {
    "execution": {
     "iopub.execute_input": "2025-06-23T06:08:14.482813Z",
     "iopub.status.busy": "2025-06-23T06:08:14.482533Z",
     "iopub.status.idle": "2025-06-23T06:08:14.518225Z",
     "shell.execute_reply": "2025-06-23T06:08:14.517259Z",
     "shell.execute_reply.started": "2025-06-23T06:08:14.482791Z"
    }
   },
   "outputs": [
    {
     "data": {
      "text/html": [
       "<style>#sk-container-id-27 {color: black;background-color: white;}#sk-container-id-27 pre{padding: 0;}#sk-container-id-27 div.sk-toggleable {background-color: white;}#sk-container-id-27 label.sk-toggleable__label {cursor: pointer;display: block;width: 100%;margin-bottom: 0;padding: 0.3em;box-sizing: border-box;text-align: center;}#sk-container-id-27 label.sk-toggleable__label-arrow:before {content: \"▸\";float: left;margin-right: 0.25em;color: #696969;}#sk-container-id-27 label.sk-toggleable__label-arrow:hover:before {color: black;}#sk-container-id-27 div.sk-estimator:hover label.sk-toggleable__label-arrow:before {color: black;}#sk-container-id-27 div.sk-toggleable__content {max-height: 0;max-width: 0;overflow: hidden;text-align: left;background-color: #f0f8ff;}#sk-container-id-27 div.sk-toggleable__content pre {margin: 0.2em;color: black;border-radius: 0.25em;background-color: #f0f8ff;}#sk-container-id-27 input.sk-toggleable__control:checked~div.sk-toggleable__content {max-height: 200px;max-width: 100%;overflow: auto;}#sk-container-id-27 input.sk-toggleable__control:checked~label.sk-toggleable__label-arrow:before {content: \"▾\";}#sk-container-id-27 div.sk-estimator input.sk-toggleable__control:checked~label.sk-toggleable__label {background-color: #d4ebff;}#sk-container-id-27 div.sk-label input.sk-toggleable__control:checked~label.sk-toggleable__label {background-color: #d4ebff;}#sk-container-id-27 input.sk-hidden--visually {border: 0;clip: rect(1px 1px 1px 1px);clip: rect(1px, 1px, 1px, 1px);height: 1px;margin: -1px;overflow: hidden;padding: 0;position: absolute;width: 1px;}#sk-container-id-27 div.sk-estimator {font-family: monospace;background-color: #f0f8ff;border: 1px dotted black;border-radius: 0.25em;box-sizing: border-box;margin-bottom: 0.5em;}#sk-container-id-27 div.sk-estimator:hover {background-color: #d4ebff;}#sk-container-id-27 div.sk-parallel-item::after {content: \"\";width: 100%;border-bottom: 1px solid gray;flex-grow: 1;}#sk-container-id-27 div.sk-label:hover label.sk-toggleable__label {background-color: #d4ebff;}#sk-container-id-27 div.sk-serial::before {content: \"\";position: absolute;border-left: 1px solid gray;box-sizing: border-box;top: 0;bottom: 0;left: 50%;z-index: 0;}#sk-container-id-27 div.sk-serial {display: flex;flex-direction: column;align-items: center;background-color: white;padding-right: 0.2em;padding-left: 0.2em;position: relative;}#sk-container-id-27 div.sk-item {position: relative;z-index: 1;}#sk-container-id-27 div.sk-parallel {display: flex;align-items: stretch;justify-content: center;background-color: white;position: relative;}#sk-container-id-27 div.sk-item::before, #sk-container-id-27 div.sk-parallel-item::before {content: \"\";position: absolute;border-left: 1px solid gray;box-sizing: border-box;top: 0;bottom: 0;left: 50%;z-index: -1;}#sk-container-id-27 div.sk-parallel-item {display: flex;flex-direction: column;z-index: 1;position: relative;background-color: white;}#sk-container-id-27 div.sk-parallel-item:first-child::after {align-self: flex-end;width: 50%;}#sk-container-id-27 div.sk-parallel-item:last-child::after {align-self: flex-start;width: 50%;}#sk-container-id-27 div.sk-parallel-item:only-child::after {width: 0;}#sk-container-id-27 div.sk-dashed-wrapped {border: 1px dashed gray;margin: 0 0.4em 0.5em 0.4em;box-sizing: border-box;padding-bottom: 0.4em;background-color: white;}#sk-container-id-27 div.sk-label label {font-family: monospace;font-weight: bold;display: inline-block;line-height: 1.2em;}#sk-container-id-27 div.sk-label-container {text-align: center;}#sk-container-id-27 div.sk-container {/* jupyter's `normalize.less` sets `[hidden] { display: none; }` but bootstrap.min.css set `[hidden] { display: none !important; }` so we also need the `!important` here to be able to override the default hidden behavior on the sphinx rendered scikit-learn.org. See: https://github.com/scikit-learn/scikit-learn/issues/21755 */display: inline-block !important;position: relative;}#sk-container-id-27 div.sk-text-repr-fallback {display: none;}</style><div id=\"sk-container-id-27\" class=\"sk-top-container\"><div class=\"sk-text-repr-fallback\"><pre>LinearRegression()</pre><b>In a Jupyter environment, please rerun this cell to show the HTML representation or trust the notebook. <br />On GitHub, the HTML representation is unable to render, please try loading this page with nbviewer.org.</b></div><div class=\"sk-container\" hidden><div class=\"sk-item\"><div class=\"sk-estimator sk-toggleable\"><input class=\"sk-toggleable__control sk-hidden--visually\" id=\"sk-estimator-id-27\" type=\"checkbox\" checked><label for=\"sk-estimator-id-27\" class=\"sk-toggleable__label sk-toggleable__label-arrow\">LinearRegression</label><div class=\"sk-toggleable__content\"><pre>LinearRegression()</pre></div></div></div></div></div>"
      ],
      "text/plain": [
       "LinearRegression()"
      ]
     },
     "execution_count": 220,
     "metadata": {},
     "output_type": "execute_result"
    }
   ],
   "source": [
    "model.fit(X_train, y_train)"
   ]
  },
  {
   "cell_type": "code",
   "execution_count": 221,
   "id": "01b94aae-9133-4b5b-939a-b1c274f50077",
   "metadata": {
    "execution": {
     "iopub.execute_input": "2025-06-23T06:08:14.519122Z",
     "iopub.status.busy": "2025-06-23T06:08:14.518865Z",
     "iopub.status.idle": "2025-06-23T06:08:14.540904Z",
     "shell.execute_reply": "2025-06-23T06:08:14.540239Z",
     "shell.execute_reply.started": "2025-06-23T06:08:14.519101Z"
    }
   },
   "outputs": [
    {
     "data": {
      "text/plain": [
       "0.9620251530481048"
      ]
     },
     "execution_count": 221,
     "metadata": {},
     "output_type": "execute_result"
    }
   ],
   "source": [
    "model.score(X_test, y_test)"
   ]
  },
  {
   "cell_type": "code",
   "execution_count": 222,
   "id": "d462ac9d-3180-456e-a4a4-cf4c73547dd1",
   "metadata": {
    "execution": {
     "iopub.execute_input": "2025-06-23T06:08:14.541816Z",
     "iopub.status.busy": "2025-06-23T06:08:14.541569Z",
     "iopub.status.idle": "2025-06-23T06:08:14.562291Z",
     "shell.execute_reply": "2025-06-23T06:08:14.561258Z",
     "shell.execute_reply.started": "2025-06-23T06:08:14.541796Z"
    }
   },
   "outputs": [],
   "source": [
    "from sklearn.tree import DecisionTreeClassifier\n",
    "\n",
    "model = DecisionTreeClassifier(max_depth=5) "
   ]
  },
  {
   "cell_type": "code",
   "execution_count": 223,
   "id": "905de087-2986-47a7-a0b8-15b479912ed6",
   "metadata": {
    "execution": {
     "iopub.execute_input": "2025-06-23T06:08:14.565421Z",
     "iopub.status.busy": "2025-06-23T06:08:14.564805Z",
     "iopub.status.idle": "2025-06-23T06:08:14.596985Z",
     "shell.execute_reply": "2025-06-23T06:08:14.596207Z",
     "shell.execute_reply.started": "2025-06-23T06:08:14.565393Z"
    }
   },
   "outputs": [
    {
     "data": {
      "text/html": [
       "<style>#sk-container-id-28 {color: black;background-color: white;}#sk-container-id-28 pre{padding: 0;}#sk-container-id-28 div.sk-toggleable {background-color: white;}#sk-container-id-28 label.sk-toggleable__label {cursor: pointer;display: block;width: 100%;margin-bottom: 0;padding: 0.3em;box-sizing: border-box;text-align: center;}#sk-container-id-28 label.sk-toggleable__label-arrow:before {content: \"▸\";float: left;margin-right: 0.25em;color: #696969;}#sk-container-id-28 label.sk-toggleable__label-arrow:hover:before {color: black;}#sk-container-id-28 div.sk-estimator:hover label.sk-toggleable__label-arrow:before {color: black;}#sk-container-id-28 div.sk-toggleable__content {max-height: 0;max-width: 0;overflow: hidden;text-align: left;background-color: #f0f8ff;}#sk-container-id-28 div.sk-toggleable__content pre {margin: 0.2em;color: black;border-radius: 0.25em;background-color: #f0f8ff;}#sk-container-id-28 input.sk-toggleable__control:checked~div.sk-toggleable__content {max-height: 200px;max-width: 100%;overflow: auto;}#sk-container-id-28 input.sk-toggleable__control:checked~label.sk-toggleable__label-arrow:before {content: \"▾\";}#sk-container-id-28 div.sk-estimator input.sk-toggleable__control:checked~label.sk-toggleable__label {background-color: #d4ebff;}#sk-container-id-28 div.sk-label input.sk-toggleable__control:checked~label.sk-toggleable__label {background-color: #d4ebff;}#sk-container-id-28 input.sk-hidden--visually {border: 0;clip: rect(1px 1px 1px 1px);clip: rect(1px, 1px, 1px, 1px);height: 1px;margin: -1px;overflow: hidden;padding: 0;position: absolute;width: 1px;}#sk-container-id-28 div.sk-estimator {font-family: monospace;background-color: #f0f8ff;border: 1px dotted black;border-radius: 0.25em;box-sizing: border-box;margin-bottom: 0.5em;}#sk-container-id-28 div.sk-estimator:hover {background-color: #d4ebff;}#sk-container-id-28 div.sk-parallel-item::after {content: \"\";width: 100%;border-bottom: 1px solid gray;flex-grow: 1;}#sk-container-id-28 div.sk-label:hover label.sk-toggleable__label {background-color: #d4ebff;}#sk-container-id-28 div.sk-serial::before {content: \"\";position: absolute;border-left: 1px solid gray;box-sizing: border-box;top: 0;bottom: 0;left: 50%;z-index: 0;}#sk-container-id-28 div.sk-serial {display: flex;flex-direction: column;align-items: center;background-color: white;padding-right: 0.2em;padding-left: 0.2em;position: relative;}#sk-container-id-28 div.sk-item {position: relative;z-index: 1;}#sk-container-id-28 div.sk-parallel {display: flex;align-items: stretch;justify-content: center;background-color: white;position: relative;}#sk-container-id-28 div.sk-item::before, #sk-container-id-28 div.sk-parallel-item::before {content: \"\";position: absolute;border-left: 1px solid gray;box-sizing: border-box;top: 0;bottom: 0;left: 50%;z-index: -1;}#sk-container-id-28 div.sk-parallel-item {display: flex;flex-direction: column;z-index: 1;position: relative;background-color: white;}#sk-container-id-28 div.sk-parallel-item:first-child::after {align-self: flex-end;width: 50%;}#sk-container-id-28 div.sk-parallel-item:last-child::after {align-self: flex-start;width: 50%;}#sk-container-id-28 div.sk-parallel-item:only-child::after {width: 0;}#sk-container-id-28 div.sk-dashed-wrapped {border: 1px dashed gray;margin: 0 0.4em 0.5em 0.4em;box-sizing: border-box;padding-bottom: 0.4em;background-color: white;}#sk-container-id-28 div.sk-label label {font-family: monospace;font-weight: bold;display: inline-block;line-height: 1.2em;}#sk-container-id-28 div.sk-label-container {text-align: center;}#sk-container-id-28 div.sk-container {/* jupyter's `normalize.less` sets `[hidden] { display: none; }` but bootstrap.min.css set `[hidden] { display: none !important; }` so we also need the `!important` here to be able to override the default hidden behavior on the sphinx rendered scikit-learn.org. See: https://github.com/scikit-learn/scikit-learn/issues/21755 */display: inline-block !important;position: relative;}#sk-container-id-28 div.sk-text-repr-fallback {display: none;}</style><div id=\"sk-container-id-28\" class=\"sk-top-container\"><div class=\"sk-text-repr-fallback\"><pre>DecisionTreeClassifier(max_depth=5)</pre><b>In a Jupyter environment, please rerun this cell to show the HTML representation or trust the notebook. <br />On GitHub, the HTML representation is unable to render, please try loading this page with nbviewer.org.</b></div><div class=\"sk-container\" hidden><div class=\"sk-item\"><div class=\"sk-estimator sk-toggleable\"><input class=\"sk-toggleable__control sk-hidden--visually\" id=\"sk-estimator-id-28\" type=\"checkbox\" checked><label for=\"sk-estimator-id-28\" class=\"sk-toggleable__label sk-toggleable__label-arrow\">DecisionTreeClassifier</label><div class=\"sk-toggleable__content\"><pre>DecisionTreeClassifier(max_depth=5)</pre></div></div></div></div></div>"
      ],
      "text/plain": [
       "DecisionTreeClassifier(max_depth=5)"
      ]
     },
     "execution_count": 223,
     "metadata": {},
     "output_type": "execute_result"
    }
   ],
   "source": [
    "model.fit(X_train, y_train)"
   ]
  },
  {
   "cell_type": "code",
   "execution_count": 224,
   "id": "24ad0844-455a-42ae-8a39-ef9654236e24",
   "metadata": {
    "execution": {
     "iopub.execute_input": "2025-06-23T06:08:14.599816Z",
     "iopub.status.busy": "2025-06-23T06:08:14.599507Z",
     "iopub.status.idle": "2025-06-23T06:08:14.624373Z",
     "shell.execute_reply": "2025-06-23T06:08:14.623367Z",
     "shell.execute_reply.started": "2025-06-23T06:08:14.599794Z"
    }
   },
   "outputs": [
    {
     "data": {
      "text/plain": [
       "0.9574468085106383"
      ]
     },
     "execution_count": 224,
     "metadata": {},
     "output_type": "execute_result"
    }
   ],
   "source": [
    "model.score(X_test, y_test)"
   ]
  },
  {
   "cell_type": "code",
   "execution_count": 225,
   "id": "861ed5f6-2c06-472d-8579-57528d7470ae",
   "metadata": {
    "execution": {
     "iopub.execute_input": "2025-06-23T06:08:14.626272Z",
     "iopub.status.busy": "2025-06-23T06:08:14.625974Z",
     "iopub.status.idle": "2025-06-23T06:08:14.639545Z",
     "shell.execute_reply": "2025-06-23T06:08:14.638593Z",
     "shell.execute_reply.started": "2025-06-23T06:08:14.626250Z"
    }
   },
   "outputs": [],
   "source": [
    "# ensemble method\n",
    "import xgboost as xgb\n",
    "from xgboost import XGBClassifier\n"
   ]
  },
  {
   "cell_type": "code",
   "execution_count": 226,
   "id": "fdfc970b-f460-41df-b7b6-88ada0fd668d",
   "metadata": {
    "execution": {
     "iopub.execute_input": "2025-06-23T06:08:14.640999Z",
     "iopub.status.busy": "2025-06-23T06:08:14.640751Z",
     "iopub.status.idle": "2025-06-23T06:08:14.658680Z",
     "shell.execute_reply": "2025-06-23T06:08:14.657748Z",
     "shell.execute_reply.started": "2025-06-23T06:08:14.640982Z"
    }
   },
   "outputs": [
    {
     "name": "stdout",
     "output_type": "stream",
     "text": [
      "(564, 139)\n",
      "(564,)\n"
     ]
    }
   ],
   "source": [
    "print(X_train.shape)  # should be (n, m)\n",
    "print(y_train.shape)  # should be (n,)\n"
   ]
  },
  {
   "cell_type": "code",
   "execution_count": 227,
   "id": "95f197df-86e3-482e-83dd-33f3687ad015",
   "metadata": {
    "execution": {
     "iopub.execute_input": "2025-06-23T06:08:14.659726Z",
     "iopub.status.busy": "2025-06-23T06:08:14.659502Z",
     "iopub.status.idle": "2025-06-23T06:08:14.678464Z",
     "shell.execute_reply": "2025-06-23T06:08:14.677397Z",
     "shell.execute_reply.started": "2025-06-23T06:08:14.659709Z"
    }
   },
   "outputs": [
    {
     "name": "stdout",
     "output_type": "stream",
     "text": [
      "705\n"
     ]
    }
   ],
   "source": [
    "le = LabelEncoder()\n",
    "y_encoded = le.fit_transform(df['Addicted_Score'])\n",
    "print(len(y_encoded))  # must be 564"
   ]
  },
  {
   "cell_type": "code",
   "execution_count": 228,
   "id": "87f419e8-08b3-411d-bff3-abc505ab01f0",
   "metadata": {
    "execution": {
     "iopub.execute_input": "2025-06-23T06:08:14.679689Z",
     "iopub.status.busy": "2025-06-23T06:08:14.679385Z",
     "iopub.status.idle": "2025-06-23T06:08:14.698743Z",
     "shell.execute_reply": "2025-06-23T06:08:14.697976Z",
     "shell.execute_reply.started": "2025-06-23T06:08:14.679661Z"
    }
   },
   "outputs": [
    {
     "name": "stdout",
     "output_type": "stream",
     "text": [
      "705\n"
     ]
    }
   ],
   "source": [
    "label_encoder = LabelEncoder()\n",
    "y_encoded = label_encoder.fit_transform(y)\n",
    "print(len(y_encoded))"
   ]
  },
  {
   "cell_type": "code",
   "execution_count": 229,
   "id": "e4b9d9b1-ca31-4c30-91c2-823b80ad8156",
   "metadata": {
    "execution": {
     "iopub.execute_input": "2025-06-23T06:08:14.699957Z",
     "iopub.status.busy": "2025-06-23T06:08:14.699645Z",
     "iopub.status.idle": "2025-06-23T06:08:14.719392Z",
     "shell.execute_reply": "2025-06-23T06:08:14.718282Z",
     "shell.execute_reply.started": "2025-06-23T06:08:14.699938Z"
    }
   },
   "outputs": [],
   "source": [
    "X_train, X_test, y_train, y_test = train_test_split(X, y_encoded, test_size=0.2)\n"
   ]
  },
  {
   "cell_type": "code",
   "execution_count": 230,
   "id": "a6dc2c45-a5c6-4c91-b056-0c6e88758579",
   "metadata": {
    "execution": {
     "iopub.execute_input": "2025-06-23T06:08:14.720767Z",
     "iopub.status.busy": "2025-06-23T06:08:14.720457Z",
     "iopub.status.idle": "2025-06-23T06:08:14.738640Z",
     "shell.execute_reply": "2025-06-23T06:08:14.737546Z",
     "shell.execute_reply.started": "2025-06-23T06:08:14.720738Z"
    }
   },
   "outputs": [
    {
     "name": "stdout",
     "output_type": "stream",
     "text": [
      "564 564\n",
      "141 141\n"
     ]
    }
   ],
   "source": [
    "print(len(X_train), len(y_train))  # both must be 564\n",
    "print(len(X_test), len(y_test))  # both must be 141"
   ]
  },
  {
   "cell_type": "code",
   "execution_count": 231,
   "id": "99195073-3bf2-4ce5-be91-c0522d2dfb2c",
   "metadata": {
    "execution": {
     "iopub.execute_input": "2025-06-23T06:08:14.740010Z",
     "iopub.status.busy": "2025-06-23T06:08:14.739707Z",
     "iopub.status.idle": "2025-06-23T06:08:14.759466Z",
     "shell.execute_reply": "2025-06-23T06:08:14.758520Z",
     "shell.execute_reply.started": "2025-06-23T06:08:14.739985Z"
    }
   },
   "outputs": [],
   "source": [
    "model = XGBClassifier()"
   ]
  },
  {
   "cell_type": "code",
   "execution_count": 232,
   "id": "f54c4bfe-41ac-4a66-a889-2e429223059c",
   "metadata": {
    "execution": {
     "iopub.execute_input": "2025-06-23T06:08:14.760619Z",
     "iopub.status.busy": "2025-06-23T06:08:14.760397Z",
     "iopub.status.idle": "2025-06-23T06:08:14.974522Z",
     "shell.execute_reply": "2025-06-23T06:08:14.973704Z",
     "shell.execute_reply.started": "2025-06-23T06:08:14.760603Z"
    }
   },
   "outputs": [
    {
     "data": {
      "text/html": [
       "<style>#sk-container-id-29 {color: black;background-color: white;}#sk-container-id-29 pre{padding: 0;}#sk-container-id-29 div.sk-toggleable {background-color: white;}#sk-container-id-29 label.sk-toggleable__label {cursor: pointer;display: block;width: 100%;margin-bottom: 0;padding: 0.3em;box-sizing: border-box;text-align: center;}#sk-container-id-29 label.sk-toggleable__label-arrow:before {content: \"▸\";float: left;margin-right: 0.25em;color: #696969;}#sk-container-id-29 label.sk-toggleable__label-arrow:hover:before {color: black;}#sk-container-id-29 div.sk-estimator:hover label.sk-toggleable__label-arrow:before {color: black;}#sk-container-id-29 div.sk-toggleable__content {max-height: 0;max-width: 0;overflow: hidden;text-align: left;background-color: #f0f8ff;}#sk-container-id-29 div.sk-toggleable__content pre {margin: 0.2em;color: black;border-radius: 0.25em;background-color: #f0f8ff;}#sk-container-id-29 input.sk-toggleable__control:checked~div.sk-toggleable__content {max-height: 200px;max-width: 100%;overflow: auto;}#sk-container-id-29 input.sk-toggleable__control:checked~label.sk-toggleable__label-arrow:before {content: \"▾\";}#sk-container-id-29 div.sk-estimator input.sk-toggleable__control:checked~label.sk-toggleable__label {background-color: #d4ebff;}#sk-container-id-29 div.sk-label input.sk-toggleable__control:checked~label.sk-toggleable__label {background-color: #d4ebff;}#sk-container-id-29 input.sk-hidden--visually {border: 0;clip: rect(1px 1px 1px 1px);clip: rect(1px, 1px, 1px, 1px);height: 1px;margin: -1px;overflow: hidden;padding: 0;position: absolute;width: 1px;}#sk-container-id-29 div.sk-estimator {font-family: monospace;background-color: #f0f8ff;border: 1px dotted black;border-radius: 0.25em;box-sizing: border-box;margin-bottom: 0.5em;}#sk-container-id-29 div.sk-estimator:hover {background-color: #d4ebff;}#sk-container-id-29 div.sk-parallel-item::after {content: \"\";width: 100%;border-bottom: 1px solid gray;flex-grow: 1;}#sk-container-id-29 div.sk-label:hover label.sk-toggleable__label {background-color: #d4ebff;}#sk-container-id-29 div.sk-serial::before {content: \"\";position: absolute;border-left: 1px solid gray;box-sizing: border-box;top: 0;bottom: 0;left: 50%;z-index: 0;}#sk-container-id-29 div.sk-serial {display: flex;flex-direction: column;align-items: center;background-color: white;padding-right: 0.2em;padding-left: 0.2em;position: relative;}#sk-container-id-29 div.sk-item {position: relative;z-index: 1;}#sk-container-id-29 div.sk-parallel {display: flex;align-items: stretch;justify-content: center;background-color: white;position: relative;}#sk-container-id-29 div.sk-item::before, #sk-container-id-29 div.sk-parallel-item::before {content: \"\";position: absolute;border-left: 1px solid gray;box-sizing: border-box;top: 0;bottom: 0;left: 50%;z-index: -1;}#sk-container-id-29 div.sk-parallel-item {display: flex;flex-direction: column;z-index: 1;position: relative;background-color: white;}#sk-container-id-29 div.sk-parallel-item:first-child::after {align-self: flex-end;width: 50%;}#sk-container-id-29 div.sk-parallel-item:last-child::after {align-self: flex-start;width: 50%;}#sk-container-id-29 div.sk-parallel-item:only-child::after {width: 0;}#sk-container-id-29 div.sk-dashed-wrapped {border: 1px dashed gray;margin: 0 0.4em 0.5em 0.4em;box-sizing: border-box;padding-bottom: 0.4em;background-color: white;}#sk-container-id-29 div.sk-label label {font-family: monospace;font-weight: bold;display: inline-block;line-height: 1.2em;}#sk-container-id-29 div.sk-label-container {text-align: center;}#sk-container-id-29 div.sk-container {/* jupyter's `normalize.less` sets `[hidden] { display: none; }` but bootstrap.min.css set `[hidden] { display: none !important; }` so we also need the `!important` here to be able to override the default hidden behavior on the sphinx rendered scikit-learn.org. See: https://github.com/scikit-learn/scikit-learn/issues/21755 */display: inline-block !important;position: relative;}#sk-container-id-29 div.sk-text-repr-fallback {display: none;}</style><div id=\"sk-container-id-29\" class=\"sk-top-container\"><div class=\"sk-text-repr-fallback\"><pre>XGBClassifier(base_score=None, booster=None, callbacks=None,\n",
       "              colsample_bylevel=None, colsample_bynode=None,\n",
       "              colsample_bytree=None, device=None, early_stopping_rounds=None,\n",
       "              enable_categorical=False, eval_metric=None, feature_types=None,\n",
       "              gamma=None, grow_policy=None, importance_type=None,\n",
       "              interaction_constraints=None, learning_rate=None, max_bin=None,\n",
       "              max_cat_threshold=None, max_cat_to_onehot=None,\n",
       "              max_delta_step=None, max_depth=None, max_leaves=None,\n",
       "              min_child_weight=None, missing=nan, monotone_constraints=None,\n",
       "              multi_strategy=None, n_estimators=None, n_jobs=None,\n",
       "              num_parallel_tree=None, objective=&#x27;multi:softprob&#x27;, ...)</pre><b>In a Jupyter environment, please rerun this cell to show the HTML representation or trust the notebook. <br />On GitHub, the HTML representation is unable to render, please try loading this page with nbviewer.org.</b></div><div class=\"sk-container\" hidden><div class=\"sk-item\"><div class=\"sk-estimator sk-toggleable\"><input class=\"sk-toggleable__control sk-hidden--visually\" id=\"sk-estimator-id-29\" type=\"checkbox\" checked><label for=\"sk-estimator-id-29\" class=\"sk-toggleable__label sk-toggleable__label-arrow\">XGBClassifier</label><div class=\"sk-toggleable__content\"><pre>XGBClassifier(base_score=None, booster=None, callbacks=None,\n",
       "              colsample_bylevel=None, colsample_bynode=None,\n",
       "              colsample_bytree=None, device=None, early_stopping_rounds=None,\n",
       "              enable_categorical=False, eval_metric=None, feature_types=None,\n",
       "              gamma=None, grow_policy=None, importance_type=None,\n",
       "              interaction_constraints=None, learning_rate=None, max_bin=None,\n",
       "              max_cat_threshold=None, max_cat_to_onehot=None,\n",
       "              max_delta_step=None, max_depth=None, max_leaves=None,\n",
       "              min_child_weight=None, missing=nan, monotone_constraints=None,\n",
       "              multi_strategy=None, n_estimators=None, n_jobs=None,\n",
       "              num_parallel_tree=None, objective=&#x27;multi:softprob&#x27;, ...)</pre></div></div></div></div></div>"
      ],
      "text/plain": [
       "XGBClassifier(base_score=None, booster=None, callbacks=None,\n",
       "              colsample_bylevel=None, colsample_bynode=None,\n",
       "              colsample_bytree=None, device=None, early_stopping_rounds=None,\n",
       "              enable_categorical=False, eval_metric=None, feature_types=None,\n",
       "              gamma=None, grow_policy=None, importance_type=None,\n",
       "              interaction_constraints=None, learning_rate=None, max_bin=None,\n",
       "              max_cat_threshold=None, max_cat_to_onehot=None,\n",
       "              max_delta_step=None, max_depth=None, max_leaves=None,\n",
       "              min_child_weight=None, missing=nan, monotone_constraints=None,\n",
       "              multi_strategy=None, n_estimators=None, n_jobs=None,\n",
       "              num_parallel_tree=None, objective='multi:softprob', ...)"
      ]
     },
     "execution_count": 232,
     "metadata": {},
     "output_type": "execute_result"
    }
   ],
   "source": [
    "model.fit(X_train, y_train)  # Correct\n"
   ]
  },
  {
   "cell_type": "code",
   "execution_count": 233,
   "id": "031a7ce4-7539-466a-8af7-72c2e83113b3",
   "metadata": {
    "execution": {
     "iopub.execute_input": "2025-06-23T06:08:14.975290Z",
     "iopub.status.busy": "2025-06-23T06:08:14.975066Z",
     "iopub.status.idle": "2025-06-23T06:08:14.987523Z",
     "shell.execute_reply": "2025-06-23T06:08:14.986383Z",
     "shell.execute_reply.started": "2025-06-23T06:08:14.975273Z"
    }
   },
   "outputs": [
    {
     "data": {
      "text/plain": [
       "0.9787234042553191"
      ]
     },
     "execution_count": 233,
     "metadata": {},
     "output_type": "execute_result"
    }
   ],
   "source": [
    "model.score(X_test, y_test)  # Correct"
   ]
  },
  {
   "cell_type": "code",
   "execution_count": 234,
   "id": "3b0465c0-ab1c-41fa-a50b-11fa0c12fb60",
   "metadata": {
    "execution": {
     "iopub.execute_input": "2025-06-23T06:08:14.989871Z",
     "iopub.status.busy": "2025-06-23T06:08:14.989278Z",
     "iopub.status.idle": "2025-06-23T06:08:15.014780Z",
     "shell.execute_reply": "2025-06-23T06:08:15.013658Z",
     "shell.execute_reply.started": "2025-06-23T06:08:14.989847Z"
    }
   },
   "outputs": [
    {
     "name": "stdout",
     "output_type": "stream",
     "text": [
      "          Predicted 0  Predicted 1  Predicted 2  Predicted 3  Predicted 4  \\\n",
      "Actual 0            0            0            0            1            0   \n",
      "Actual 1            0            0            0            0            7   \n",
      "Actual 2            0            0            1            3            5   \n",
      "Actual 3            0            0            0            1            3   \n",
      "Actual 4            0            0            2            5           10   \n",
      "Actual 5            0            0            0            5            6   \n",
      "Actual 6            0            0            0            0            4   \n",
      "Actual 7            0            0            0            0            0   \n",
      "Actual 8            0            0            0            0            0   \n",
      "\n",
      "          Predicted 5  Predicted 6  Predicted 7  Predicted 8  \n",
      "Actual 0            0            1            2            0  \n",
      "Actual 1            0            6            4            1  \n",
      "Actual 2            1            6            8            1  \n",
      "Actual 3            2            3            1            1  \n",
      "Actual 4            3           16            3            1  \n",
      "Actual 5            2            7            6            3  \n",
      "Actual 6            0            3            4            3  \n",
      "Actual 7            0            0            0            0  \n",
      "Actual 8            0            0            0            0  \n"
     ]
    }
   ],
   "source": [
    "# True labels and predicted labels\n",
    "cm = confusion_matrix(y_test, y_pred)\n",
    "\n",
    "# Display as DataFrame for better readability\n",
    "cm_df = pd.DataFrame(cm, index=[f\"Actual {i}\" for i in range(cm.shape[0])],\n",
    "                        columns=[f\"Predicted {i}\" for i in range(cm.shape[1])])\n",
    "\n",
    "print(cm_df)"
   ]
  },
  {
   "cell_type": "code",
   "execution_count": 235,
   "id": "f67db0ea-1f6b-4b16-b500-b306ce853de6",
   "metadata": {
    "execution": {
     "iopub.execute_input": "2025-06-23T06:08:15.015881Z",
     "iopub.status.busy": "2025-06-23T06:08:15.015632Z",
     "iopub.status.idle": "2025-06-23T06:08:15.039777Z",
     "shell.execute_reply": "2025-06-23T06:08:15.038994Z",
     "shell.execute_reply.started": "2025-06-23T06:08:15.015864Z"
    }
   },
   "outputs": [
    {
     "data": {
      "text/html": [
       "<style>#sk-container-id-30 {color: black;background-color: white;}#sk-container-id-30 pre{padding: 0;}#sk-container-id-30 div.sk-toggleable {background-color: white;}#sk-container-id-30 label.sk-toggleable__label {cursor: pointer;display: block;width: 100%;margin-bottom: 0;padding: 0.3em;box-sizing: border-box;text-align: center;}#sk-container-id-30 label.sk-toggleable__label-arrow:before {content: \"▸\";float: left;margin-right: 0.25em;color: #696969;}#sk-container-id-30 label.sk-toggleable__label-arrow:hover:before {color: black;}#sk-container-id-30 div.sk-estimator:hover label.sk-toggleable__label-arrow:before {color: black;}#sk-container-id-30 div.sk-toggleable__content {max-height: 0;max-width: 0;overflow: hidden;text-align: left;background-color: #f0f8ff;}#sk-container-id-30 div.sk-toggleable__content pre {margin: 0.2em;color: black;border-radius: 0.25em;background-color: #f0f8ff;}#sk-container-id-30 input.sk-toggleable__control:checked~div.sk-toggleable__content {max-height: 200px;max-width: 100%;overflow: auto;}#sk-container-id-30 input.sk-toggleable__control:checked~label.sk-toggleable__label-arrow:before {content: \"▾\";}#sk-container-id-30 div.sk-estimator input.sk-toggleable__control:checked~label.sk-toggleable__label {background-color: #d4ebff;}#sk-container-id-30 div.sk-label input.sk-toggleable__control:checked~label.sk-toggleable__label {background-color: #d4ebff;}#sk-container-id-30 input.sk-hidden--visually {border: 0;clip: rect(1px 1px 1px 1px);clip: rect(1px, 1px, 1px, 1px);height: 1px;margin: -1px;overflow: hidden;padding: 0;position: absolute;width: 1px;}#sk-container-id-30 div.sk-estimator {font-family: monospace;background-color: #f0f8ff;border: 1px dotted black;border-radius: 0.25em;box-sizing: border-box;margin-bottom: 0.5em;}#sk-container-id-30 div.sk-estimator:hover {background-color: #d4ebff;}#sk-container-id-30 div.sk-parallel-item::after {content: \"\";width: 100%;border-bottom: 1px solid gray;flex-grow: 1;}#sk-container-id-30 div.sk-label:hover label.sk-toggleable__label {background-color: #d4ebff;}#sk-container-id-30 div.sk-serial::before {content: \"\";position: absolute;border-left: 1px solid gray;box-sizing: border-box;top: 0;bottom: 0;left: 50%;z-index: 0;}#sk-container-id-30 div.sk-serial {display: flex;flex-direction: column;align-items: center;background-color: white;padding-right: 0.2em;padding-left: 0.2em;position: relative;}#sk-container-id-30 div.sk-item {position: relative;z-index: 1;}#sk-container-id-30 div.sk-parallel {display: flex;align-items: stretch;justify-content: center;background-color: white;position: relative;}#sk-container-id-30 div.sk-item::before, #sk-container-id-30 div.sk-parallel-item::before {content: \"\";position: absolute;border-left: 1px solid gray;box-sizing: border-box;top: 0;bottom: 0;left: 50%;z-index: -1;}#sk-container-id-30 div.sk-parallel-item {display: flex;flex-direction: column;z-index: 1;position: relative;background-color: white;}#sk-container-id-30 div.sk-parallel-item:first-child::after {align-self: flex-end;width: 50%;}#sk-container-id-30 div.sk-parallel-item:last-child::after {align-self: flex-start;width: 50%;}#sk-container-id-30 div.sk-parallel-item:only-child::after {width: 0;}#sk-container-id-30 div.sk-dashed-wrapped {border: 1px dashed gray;margin: 0 0.4em 0.5em 0.4em;box-sizing: border-box;padding-bottom: 0.4em;background-color: white;}#sk-container-id-30 div.sk-label label {font-family: monospace;font-weight: bold;display: inline-block;line-height: 1.2em;}#sk-container-id-30 div.sk-label-container {text-align: center;}#sk-container-id-30 div.sk-container {/* jupyter's `normalize.less` sets `[hidden] { display: none; }` but bootstrap.min.css set `[hidden] { display: none !important; }` so we also need the `!important` here to be able to override the default hidden behavior on the sphinx rendered scikit-learn.org. See: https://github.com/scikit-learn/scikit-learn/issues/21755 */display: inline-block !important;position: relative;}#sk-container-id-30 div.sk-text-repr-fallback {display: none;}</style><div id=\"sk-container-id-30\" class=\"sk-top-container\"><div class=\"sk-text-repr-fallback\"><pre>LabelEncoder()</pre><b>In a Jupyter environment, please rerun this cell to show the HTML representation or trust the notebook. <br />On GitHub, the HTML representation is unable to render, please try loading this page with nbviewer.org.</b></div><div class=\"sk-container\" hidden><div class=\"sk-item\"><div class=\"sk-estimator sk-toggleable\"><input class=\"sk-toggleable__control sk-hidden--visually\" id=\"sk-estimator-id-30\" type=\"checkbox\" checked><label for=\"sk-estimator-id-30\" class=\"sk-toggleable__label sk-toggleable__label-arrow\">LabelEncoder</label><div class=\"sk-toggleable__content\"><pre>LabelEncoder()</pre></div></div></div></div></div>"
      ],
      "text/plain": [
       "LabelEncoder()"
      ]
     },
     "execution_count": 235,
     "metadata": {},
     "output_type": "execute_result"
    }
   ],
   "source": [
    "le = LabelEncoder()\n",
    "le.fit(df_copy['Addicted_Score'])"
   ]
  },
  {
   "cell_type": "code",
   "execution_count": 236,
   "id": "21185770-8eaa-4582-9749-d245266ca54f",
   "metadata": {
    "execution": {
     "iopub.execute_input": "2025-06-23T06:08:15.040925Z",
     "iopub.status.busy": "2025-06-23T06:08:15.040668Z",
     "iopub.status.idle": "2025-06-23T06:08:15.059802Z",
     "shell.execute_reply": "2025-06-23T06:08:15.058769Z",
     "shell.execute_reply.started": "2025-06-23T06:08:15.040907Z"
    }
   },
   "outputs": [
    {
     "name": "stdout",
     "output_type": "stream",
     "text": [
      "0 → 2\n",
      "1 → 3\n",
      "2 → 4\n",
      "3 → 5\n",
      "4 → 6\n",
      "5 → 7\n",
      "6 → 8\n",
      "7 → 9\n"
     ]
    }
   ],
   "source": [
    "for idx, label in enumerate(le.classes_):\n",
    "    print(f\"{idx} → {label}\")\n"
   ]
  },
  {
   "cell_type": "code",
   "execution_count": 237,
   "id": "76a96df1-56a1-4746-b5e4-cc10ca7fe5aa",
   "metadata": {
    "execution": {
     "iopub.execute_input": "2025-06-23T06:08:15.061114Z",
     "iopub.status.busy": "2025-06-23T06:08:15.060771Z",
     "iopub.status.idle": "2025-06-23T06:08:15.081770Z",
     "shell.execute_reply": "2025-06-23T06:08:15.080741Z",
     "shell.execute_reply.started": "2025-06-23T06:08:15.061092Z"
    }
   },
   "outputs": [
    {
     "name": "stdout",
     "output_type": "stream",
     "text": [
      "Class 3 → TP: 1, FP: 2, TN: 114, FN: 24\n"
     ]
    }
   ],
   "source": [
    "# Select target class (e.g., class 3)\n",
    "target_class = 3\n",
    "\n",
    "# Convert to binary: 1 if class is target, else 0\n",
    "y_test_binary = (y_test == target_class).astype(int)\n",
    "y_pred_binary = (y_pred == target_class).astype(int)\n",
    "\n",
    "# Compute binary confusion matrix\n",
    "tn, fp, fn, tp = confusion_matrix(y_test_binary, y_pred_binary).ravel()\n",
    "\n",
    "print(f\"Class {target_class} → TP: {tp}, FP: {fp}, TN: {tn}, FN: {fn}\")"
   ]
  },
  {
   "cell_type": "code",
   "execution_count": 239,
   "id": "e1207190-c271-4e2c-8040-17d489a81c5b",
   "metadata": {
    "execution": {
     "iopub.execute_input": "2025-06-23T06:09:35.656432Z",
     "iopub.status.busy": "2025-06-23T06:09:35.656045Z",
     "iopub.status.idle": "2025-06-23T06:09:35.855299Z",
     "shell.execute_reply": "2025-06-23T06:09:35.854591Z",
     "shell.execute_reply.started": "2025-06-23T06:09:35.656407Z"
    }
   },
   "outputs": [
    {
     "name": "stdout",
     "output_type": "stream",
     "text": [
      "Accuracy     : 0.97\n",
      "Precision    : 0.97\n",
      "Recall       : 0.97\n",
      "F1 Score     : 0.97\n",
      "AUC (OVR)    : 1.00\n"
     ]
    }
   ],
   "source": [
    "# Load your dataframe (df_copy must be defined already)\n",
    "df = df_copy.copy()\n",
    "\n",
    "# Step 1: Filter out classes with < 2 samples\n",
    "value_counts = df_copy['Addicted_Score'].value_counts()\n",
    "valid_classes = value_counts[value_counts >= 2].index\n",
    "df_filtered = df_copy[df_copy['Addicted_Score'].isin(valid_classes)].copy()\n",
    "\n",
    "X = df_filtered.drop(['Addicted_Score', 'Student_ID'], axis=1)\n",
    "le = LabelEncoder()\n",
    "y = le.fit_transform(df_filtered['Addicted_Score'])\n",
    "\n",
    "X_train, X_test, y_train, y_test = train_test_split(\n",
    "    X, y, test_size=0.2, stratify=y, random_state=42\n",
    ")\n",
    "\n",
    "# Train the model\n",
    "model = XGBClassifier(use_label_encoder=False, eval_metric='mlogloss')\n",
    "model.fit(X_train, y_train)\n",
    "\n",
    "# Predict\n",
    "y_pred = model.predict(X_test)\n",
    "y_proba = model.predict_proba(X_test)\n",
    "\n",
    "# Metrics\n",
    "accuracy = accuracy_score(y_test, y_pred)\n",
    "precision = precision_score(y_test, y_pred, average='weighted', zero_division=0)\n",
    "recall = recall_score(y_test, y_pred, average='weighted', zero_division=0)\n",
    "f1 = f1_score(y_test, y_pred, average='weighted', zero_division=0)\n",
    "\n",
    "# Binarize y_test for AUC (multiclass)\n",
    "classes = np.unique(y)\n",
    "y_test_bin = label_binarize(y_test, classes=classes)\n",
    "\n",
    "# Compute AUC\n",
    "auc_score = roc_auc_score(y_test_bin, y_proba, multi_class='ovr', average='weighted')\n",
    "\n",
    "# Print all metrics\n",
    "print(f\"Accuracy     : {accuracy:.2f}\")\n",
    "print(f\"Precision    : {precision:.2f}\")\n",
    "print(f\"Recall       : {recall:.2f}\")\n",
    "print(f\"F1 Score     : {f1:.2f}\")\n",
    "print(f\"AUC (OVR)    : {auc_score:.2f}\")\n"
   ]
  },
  {
   "cell_type": "code",
   "execution_count": 240,
   "id": "60cf65be-d5de-474c-ad61-89fd94bf997f",
   "metadata": {
    "execution": {
     "iopub.execute_input": "2025-06-23T06:09:40.957285Z",
     "iopub.status.busy": "2025-06-23T06:09:40.956967Z",
     "iopub.status.idle": "2025-06-23T06:09:41.139658Z",
     "shell.execute_reply": "2025-06-23T06:09:41.138091Z",
     "shell.execute_reply.started": "2025-06-23T06:09:40.957266Z"
    }
   },
   "outputs": [
    {
     "name": "stdout",
     "output_type": "stream",
     "text": [
      "Multiclass AUC (OVR, weighted): 0.9988\n"
     ]
    }
   ],
   "source": [
    "# Train-test split with stratification\n",
    "X_train, X_test, y_train, y_test = train_test_split(\n",
    "    X, y, test_size=0.2, stratify=y, random_state=42\n",
    ")\n",
    "\n",
    "# Train model\n",
    "model = XGBClassifier(use_label_encoder=False, eval_metric='mlogloss')\n",
    "model.fit(X_train, y_train)\n",
    "\n",
    "# Predict probabilities\n",
    "y_proba = model.predict_proba(X_test)\n",
    "\n",
    "classes = np.unique(y_test)\n",
    "\n",
    "# Binarize labels for AUC\n",
    "y_test_bin = label_binarize(y_test, classes=classes)\n",
    "\n",
    "# Compute AUC\n",
    "auc_score = roc_auc_score(y_test_bin, y_proba, multi_class='ovr', average='weighted')\n",
    "print(f\"Multiclass AUC (OVR, weighted): {auc_score:.4f}\")\n"
   ]
  },
  {
   "cell_type": "code",
   "execution_count": 241,
   "id": "ab6a9d1f-0f55-42d8-bd74-b3128ead0f2d",
   "metadata": {
    "execution": {
     "iopub.execute_input": "2025-06-23T06:09:44.552449Z",
     "iopub.status.busy": "2025-06-23T06:09:44.552137Z",
     "iopub.status.idle": "2025-06-23T06:09:44.565994Z",
     "shell.execute_reply": "2025-06-23T06:09:44.565019Z",
     "shell.execute_reply.started": "2025-06-23T06:09:44.552431Z"
    }
   },
   "outputs": [
    {
     "name": "stdout",
     "output_type": "stream",
     "text": [
      "Accuracy: 0.97\n",
      "Precision: 0.97\n",
      "Recall: 0.97\n",
      "F1 Score: 0.97\n",
      "AUC: 1.00\n"
     ]
    }
   ],
   "source": [
    "# Accuracy\n",
    "acc = accuracy_score(y_test, y_pred)\n",
    "\n",
    "# Precision\n",
    "prec = precision_score(y_test, y_pred, average='weighted')\n",
    "\n",
    "# Recall\n",
    "rec = recall_score(y_test, y_pred, average='weighted')\n",
    "\n",
    "# F1 Score\n",
    "f1 = f1_score(y_test, y_pred, average='weighted')\n",
    "\n",
    "# Print all\n",
    "print(f\"Accuracy: {acc:.2f}\")\n",
    "print(f\"Precision: {prec:.2f}\")\n",
    "print(f\"Recall: {rec:.2f}\")\n",
    "print(f\"F1 Score: {f1:.2f}\")\n",
    "print(f\"AUC: {auc_score:.2f}\")"
   ]
  },
  {
   "cell_type": "code",
   "execution_count": 242,
   "id": "87f19bb6-9aff-4228-ad55-6854bd76ae34",
   "metadata": {
    "execution": {
     "iopub.execute_input": "2025-06-23T06:09:48.097160Z",
     "iopub.status.busy": "2025-06-23T06:09:48.096857Z",
     "iopub.status.idle": "2025-06-23T06:09:48.492966Z",
     "shell.execute_reply": "2025-06-23T06:09:48.492015Z",
     "shell.execute_reply.started": "2025-06-23T06:09:48.097143Z"
    }
   },
   "outputs": [
    {
     "data": {
      "image/png": "[encoded data removed]",
      "text/plain": [
       "<Figure size 800x600 with 1 Axes>"
      ]
     },
     "metadata": {},
     "output_type": "display_data"
    }
   ],
   "source": [
    "# Plot ROC Curve per class\n",
    "plt.figure(figsize=(8, 6))\n",
    "for i in range(len(classes)):\n",
    "    fpr, tpr, _ = roc_curve(y_test_bin[:, i], y_proba[:, i])\n",
    "    auc_score = auc(fpr, tpr)\n",
    "    plt.plot(fpr, tpr, label=f'Class {classes[i]} (AUC = {auc_score:.2f})')\n",
    "\n",
    "plt.plot([0, 1], [0, 1], 'k--')\n",
    "plt.xlabel('False Positive Rate')\n",
    "plt.ylabel('True Positive Rate')\n",
    "plt.title('Multiclass ROC Curve')\n",
    "plt.legend()\n",
    "plt.grid()\n",
    "plt.tight_layout()\n",
    "plt.show()"
   ]
  },
  {
   "cell_type": "code",
   "execution_count": null,
   "id": "20e1a162-ed7e-4e73-83b6-58d22a0439ba",
   "metadata": {},
   "outputs": [],
   "source": []
  }
 ],
 "metadata": {
  "kaggle": {
   "accelerator": "none",
   "dataSources": [
    {
     "datasetId": 7381156,
     "isSourceIdPinned": false,
     "sourceId": 11760664,
     "sourceType": "datasetVersion"
    }
   ],
   "dockerImageVersionId": 31040,
   "isGpuEnabled": false,
   "isInternetEnabled": true,
   "language": "python",
   "sourceType": "notebook"
  },
  "kernelspec": {
   "display_name": "Python 3 (ipykernel)",
   "language": "python",
   "name": "python3"
  },
  "language_info": {
   "codemirror_mode": {
    "name": "ipython",
    "version": 3
   },
   "file_extension": ".py",
   "mimetype": "text/x-python",
   "name": "python",
   "nbconvert_exporter": "python",
   "pygments_lexer": "ipython3",
   "version": "3.12.3"
  }
 },
 "nbformat": 4,
 "nbformat_minor": 5
}
