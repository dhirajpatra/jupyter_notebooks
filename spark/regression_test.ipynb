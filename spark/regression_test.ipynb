{
 "cells": [
  {
   "cell_type": "code",
   "execution_count": 165,
   "metadata": {},
   "outputs": [],
   "source": [
    "import pyspark\n",
    "from pyspark.ml.feature import Imputer\n",
    "import pyspark.sql.functions as F\n",
    "from pyspark.sql.functions import col, sum, mean, median, mode, concat_ws, col, split\n",
    "from pyspark.ml.regression import LinearRegression\n",
    "from pyspark.ml.feature import VectorAssembler\n",
    "from pyspark.ml.linalg import SparseVector, DenseVector, Vectors\n",
    "from pyspark.sql.functions import udf\n",
    "from pyspark.sql.types import ArrayType, DoubleType\n",
    "# handling categorical features\n",
    "from pyspark.ml.feature import StringIndexer\n",
    "from pyspark.sql import SparkSession\n",
    "from pyspark.sql.types import *"
   ]
  },
  {
   "cell_type": "code",
   "execution_count": 166,
   "metadata": {},
   "outputs": [],
   "source": [
    "import numpy as np\n",
    "import pandas as pd"
   ]
  },
  {
   "cell_type": "code",
   "execution_count": 167,
   "metadata": {},
   "outputs": [
    {
     "data": {
      "text/html": [
       "<div>\n",
       "<style scoped>\n",
       "    .dataframe tbody tr th:only-of-type {\n",
       "        vertical-align: middle;\n",
       "    }\n",
       "\n",
       "    .dataframe tbody tr th {\n",
       "        vertical-align: top;\n",
       "    }\n",
       "\n",
       "    .dataframe thead th {\n",
       "        text-align: right;\n",
       "    }\n",
       "</style>\n",
       "<table border=\"1\" class=\"dataframe\">\n",
       "  <thead>\n",
       "    <tr style=\"text-align: right;\">\n",
       "      <th></th>\n",
       "      <th>longitude</th>\n",
       "      <th>latitude</th>\n",
       "      <th>housing_median_age</th>\n",
       "      <th>total_rooms</th>\n",
       "      <th>total_bedrooms</th>\n",
       "      <th>population</th>\n",
       "      <th>households</th>\n",
       "      <th>median_income</th>\n",
       "      <th>median_house_value</th>\n",
       "      <th>ocean_proximity</th>\n",
       "    </tr>\n",
       "  </thead>\n",
       "  <tbody>\n",
       "    <tr>\n",
       "      <th>0</th>\n",
       "      <td>-122.23</td>\n",
       "      <td>37.88</td>\n",
       "      <td>41.0</td>\n",
       "      <td>880.0</td>\n",
       "      <td>129.0</td>\n",
       "      <td>322.0</td>\n",
       "      <td>126.0</td>\n",
       "      <td>8.3252</td>\n",
       "      <td>452600.0</td>\n",
       "      <td>NaN</td>\n",
       "    </tr>\n",
       "    <tr>\n",
       "      <th>1</th>\n",
       "      <td>-122.22</td>\n",
       "      <td>37.86</td>\n",
       "      <td>21.0</td>\n",
       "      <td>7099.0</td>\n",
       "      <td>1106.0</td>\n",
       "      <td>2401.0</td>\n",
       "      <td>1138.0</td>\n",
       "      <td>8.3014</td>\n",
       "      <td>358500.0</td>\n",
       "      <td>NaN</td>\n",
       "    </tr>\n",
       "    <tr>\n",
       "      <th>2</th>\n",
       "      <td>-122.24</td>\n",
       "      <td>37.85</td>\n",
       "      <td>52.0</td>\n",
       "      <td>1467.0</td>\n",
       "      <td>190.0</td>\n",
       "      <td>496.0</td>\n",
       "      <td>177.0</td>\n",
       "      <td>7.2574</td>\n",
       "      <td>352100.0</td>\n",
       "      <td>NaN</td>\n",
       "    </tr>\n",
       "    <tr>\n",
       "      <th>3</th>\n",
       "      <td>-122.25</td>\n",
       "      <td>37.85</td>\n",
       "      <td>52.0</td>\n",
       "      <td>1274.0</td>\n",
       "      <td>235.0</td>\n",
       "      <td>558.0</td>\n",
       "      <td>219.0</td>\n",
       "      <td>5.6431</td>\n",
       "      <td>341300.0</td>\n",
       "      <td>NaN</td>\n",
       "    </tr>\n",
       "    <tr>\n",
       "      <th>4</th>\n",
       "      <td>-122.25</td>\n",
       "      <td>37.85</td>\n",
       "      <td>52.0</td>\n",
       "      <td>1627.0</td>\n",
       "      <td>280.0</td>\n",
       "      <td>565.0</td>\n",
       "      <td>259.0</td>\n",
       "      <td>3.8462</td>\n",
       "      <td>342200.0</td>\n",
       "      <td>NaN</td>\n",
       "    </tr>\n",
       "    <tr>\n",
       "      <th>...</th>\n",
       "      <td>...</td>\n",
       "      <td>...</td>\n",
       "      <td>...</td>\n",
       "      <td>...</td>\n",
       "      <td>...</td>\n",
       "      <td>...</td>\n",
       "      <td>...</td>\n",
       "      <td>...</td>\n",
       "      <td>...</td>\n",
       "      <td>...</td>\n",
       "    </tr>\n",
       "    <tr>\n",
       "      <th>20635</th>\n",
       "      <td>-121.09</td>\n",
       "      <td>39.48</td>\n",
       "      <td>25.0</td>\n",
       "      <td>1665.0</td>\n",
       "      <td>374.0</td>\n",
       "      <td>845.0</td>\n",
       "      <td>330.0</td>\n",
       "      <td>1.5603</td>\n",
       "      <td>78100.0</td>\n",
       "      <td>NaN</td>\n",
       "    </tr>\n",
       "    <tr>\n",
       "      <th>20636</th>\n",
       "      <td>-121.21</td>\n",
       "      <td>39.49</td>\n",
       "      <td>18.0</td>\n",
       "      <td>697.0</td>\n",
       "      <td>150.0</td>\n",
       "      <td>356.0</td>\n",
       "      <td>114.0</td>\n",
       "      <td>2.5568</td>\n",
       "      <td>77100.0</td>\n",
       "      <td>NaN</td>\n",
       "    </tr>\n",
       "    <tr>\n",
       "      <th>20637</th>\n",
       "      <td>-121.22</td>\n",
       "      <td>39.43</td>\n",
       "      <td>17.0</td>\n",
       "      <td>2254.0</td>\n",
       "      <td>485.0</td>\n",
       "      <td>1007.0</td>\n",
       "      <td>433.0</td>\n",
       "      <td>1.7000</td>\n",
       "      <td>92300.0</td>\n",
       "      <td>NaN</td>\n",
       "    </tr>\n",
       "    <tr>\n",
       "      <th>20638</th>\n",
       "      <td>-121.32</td>\n",
       "      <td>39.43</td>\n",
       "      <td>18.0</td>\n",
       "      <td>1860.0</td>\n",
       "      <td>409.0</td>\n",
       "      <td>741.0</td>\n",
       "      <td>349.0</td>\n",
       "      <td>1.8672</td>\n",
       "      <td>84700.0</td>\n",
       "      <td>NaN</td>\n",
       "    </tr>\n",
       "    <tr>\n",
       "      <th>20639</th>\n",
       "      <td>-121.24</td>\n",
       "      <td>39.37</td>\n",
       "      <td>16.0</td>\n",
       "      <td>2785.0</td>\n",
       "      <td>616.0</td>\n",
       "      <td>1387.0</td>\n",
       "      <td>530.0</td>\n",
       "      <td>2.3886</td>\n",
       "      <td>89400.0</td>\n",
       "      <td>NaN</td>\n",
       "    </tr>\n",
       "  </tbody>\n",
       "</table>\n",
       "<p>20640 rows × 10 columns</p>\n",
       "</div>"
      ],
      "text/plain": [
       "       longitude  latitude  housing_median_age  total_rooms  total_bedrooms  \\\n",
       "0        -122.23     37.88                41.0        880.0           129.0   \n",
       "1        -122.22     37.86                21.0       7099.0          1106.0   \n",
       "2        -122.24     37.85                52.0       1467.0           190.0   \n",
       "3        -122.25     37.85                52.0       1274.0           235.0   \n",
       "4        -122.25     37.85                52.0       1627.0           280.0   \n",
       "...          ...       ...                 ...          ...             ...   \n",
       "20635    -121.09     39.48                25.0       1665.0           374.0   \n",
       "20636    -121.21     39.49                18.0        697.0           150.0   \n",
       "20637    -121.22     39.43                17.0       2254.0           485.0   \n",
       "20638    -121.32     39.43                18.0       1860.0           409.0   \n",
       "20639    -121.24     39.37                16.0       2785.0           616.0   \n",
       "\n",
       "       population  households  median_income  median_house_value  \\\n",
       "0           322.0       126.0         8.3252            452600.0   \n",
       "1          2401.0      1138.0         8.3014            358500.0   \n",
       "2           496.0       177.0         7.2574            352100.0   \n",
       "3           558.0       219.0         5.6431            341300.0   \n",
       "4           565.0       259.0         3.8462            342200.0   \n",
       "...           ...         ...            ...                 ...   \n",
       "20635       845.0       330.0         1.5603             78100.0   \n",
       "20636       356.0       114.0         2.5568             77100.0   \n",
       "20637      1007.0       433.0         1.7000             92300.0   \n",
       "20638       741.0       349.0         1.8672             84700.0   \n",
       "20639      1387.0       530.0         2.3886             89400.0   \n",
       "\n",
       "       ocean_proximity  \n",
       "0                  NaN  \n",
       "1                  NaN  \n",
       "2                  NaN  \n",
       "3                  NaN  \n",
       "4                  NaN  \n",
       "...                ...  \n",
       "20635              NaN  \n",
       "20636              NaN  \n",
       "20637              NaN  \n",
       "20638              NaN  \n",
       "20639              NaN  \n",
       "\n",
       "[20640 rows x 10 columns]"
      ]
     },
     "execution_count": 167,
     "metadata": {},
     "output_type": "execute_result"
    }
   ],
   "source": [
    "pd.read_csv(\"cal_housing.csv\")"
   ]
  },
  {
   "cell_type": "code",
   "execution_count": 168,
   "metadata": {},
   "outputs": [],
   "source": [
    "spark = SparkSession.builder.appName(\"Practice\").getOrCreate()"
   ]
  },
  {
   "cell_type": "code",
   "execution_count": 169,
   "metadata": {},
   "outputs": [
    {
     "data": {
      "text/html": [
       "\n",
       "            <div>\n",
       "                <p><b>SparkSession - in-memory</b></p>\n",
       "                \n",
       "        <div>\n",
       "            <p><b>SparkContext</b></p>\n",
       "\n",
       "            <p><a href=\"http://192.168.1.2:4041\">Spark UI</a></p>\n",
       "\n",
       "            <dl>\n",
       "              <dt>Version</dt>\n",
       "                <dd><code>v3.4.0</code></dd>\n",
       "              <dt>Master</dt>\n",
       "                <dd><code>local[*]</code></dd>\n",
       "              <dt>AppName</dt>\n",
       "                <dd><code>Practice</code></dd>\n",
       "            </dl>\n",
       "        </div>\n",
       "        \n",
       "            </div>\n",
       "        "
      ],
      "text/plain": [
       "<pyspark.sql.session.SparkSession at 0x149600730>"
      ]
     },
     "execution_count": 169,
     "metadata": {},
     "output_type": "execute_result"
    }
   ],
   "source": [
    "spark"
   ]
  },
  {
   "cell_type": "code",
   "execution_count": 170,
   "metadata": {},
   "outputs": [],
   "source": [
    "df_pyspark = spark.read.csv(\"customer_churn.csv\", header=True, inferSchema=True)"
   ]
  },
  {
   "cell_type": "code",
   "execution_count": 171,
   "metadata": {},
   "outputs": [
    {
     "name": "stdout",
     "output_type": "stream",
     "text": [
      "+----------+------+-------------+-------+----------+------+------------+----------------+---------------+-------------------+-------------------+-------------------+-------------------+-------------------+-------------------+--------------+----------------+--------------------+--------------+------------+-----+\n",
      "|customerID|gender|SeniorCitizen|Partner|Dependents|tenure|PhoneService|   MultipleLines|InternetService|     OnlineSecurity|       OnlineBackup|   DeviceProtection|        TechSupport|        StreamingTV|    StreamingMovies|      Contract|PaperlessBilling|       PaymentMethod|MonthlyCharges|TotalCharges|Churn|\n",
      "+----------+------+-------------+-------+----------+------+------------+----------------+---------------+-------------------+-------------------+-------------------+-------------------+-------------------+-------------------+--------------+----------------+--------------------+--------------+------------+-----+\n",
      "|7590-VHVEG|Female|            0|    Yes|        No|     1|          No|No phone service|            DSL|                 No|                Yes|                 No|                 No|                 No|                 No|Month-to-month|             Yes|    Electronic check|         29.85|       29.85|   No|\n",
      "|5575-GNVDE|  Male|            0|     No|        No|    34|         Yes|              No|            DSL|                Yes|                 No|                Yes|                 No|                 No|                 No|      One year|              No|        Mailed check|         56.95|      1889.5|   No|\n",
      "|3668-QPYBK|  Male|            0|     No|        No|     2|         Yes|              No|            DSL|                Yes|                Yes|                 No|                 No|                 No|                 No|Month-to-month|             Yes|        Mailed check|         53.85|      108.15|  Yes|\n",
      "|7795-CFOCW|  Male|            0|     No|        No|    45|          No|No phone service|            DSL|                Yes|                 No|                Yes|                Yes|                 No|                 No|      One year|              No|Bank transfer (au...|          42.3|     1840.75|   No|\n",
      "|9237-HQITU|Female|            0|     No|        No|     2|         Yes|              No|    Fiber optic|                 No|                 No|                 No|                 No|                 No|                 No|Month-to-month|             Yes|    Electronic check|          70.7|      151.65|  Yes|\n",
      "|9305-CDSKC|Female|            0|     No|        No|     8|         Yes|             Yes|    Fiber optic|                 No|                 No|                Yes|                 No|                Yes|                Yes|Month-to-month|             Yes|    Electronic check|         99.65|       820.5|  Yes|\n",
      "|1452-KIOVK|  Male|            0|     No|       Yes|    22|         Yes|             Yes|    Fiber optic|                 No|                Yes|                 No|                 No|                Yes|                 No|Month-to-month|             Yes|Credit card (auto...|          89.1|      1949.4|   No|\n",
      "|6713-OKOMC|Female|            0|     No|        No|    10|          No|No phone service|            DSL|                Yes|                 No|                 No|                 No|                 No|                 No|Month-to-month|              No|        Mailed check|         29.75|       301.9|   No|\n",
      "|7892-POOKP|Female|            0|    Yes|        No|    28|         Yes|             Yes|    Fiber optic|                 No|                 No|                Yes|                Yes|                Yes|                Yes|Month-to-month|             Yes|    Electronic check|         104.8|     3046.05|  Yes|\n",
      "|6388-TABGU|  Male|            0|     No|       Yes|    62|         Yes|              No|            DSL|                Yes|                Yes|                 No|                 No|                 No|                 No|      One year|              No|Bank transfer (au...|         56.15|     3487.95|   No|\n",
      "|9763-GRSKD|  Male|            0|    Yes|       Yes|    13|         Yes|              No|            DSL|                Yes|                 No|                 No|                 No|                 No|                 No|Month-to-month|             Yes|        Mailed check|         49.95|      587.45|   No|\n",
      "|7469-LKBCI|  Male|            0|     No|        No|    16|         Yes|              No|             No|No internet service|No internet service|No internet service|No internet service|No internet service|No internet service|      Two year|              No|Credit card (auto...|         18.95|       326.8|   No|\n",
      "|8091-TTVAX|  Male|            0|    Yes|        No|    58|         Yes|             Yes|    Fiber optic|                 No|                 No|                Yes|                 No|                Yes|                Yes|      One year|              No|Credit card (auto...|        100.35|      5681.1|   No|\n",
      "|0280-XJGEX|  Male|            0|     No|        No|    49|         Yes|             Yes|    Fiber optic|                 No|                Yes|                Yes|                 No|                Yes|                Yes|Month-to-month|             Yes|Bank transfer (au...|         103.7|      5036.3|  Yes|\n",
      "|5129-JLPIS|  Male|            0|     No|        No|    25|         Yes|              No|    Fiber optic|                Yes|                 No|                Yes|                Yes|                Yes|                Yes|Month-to-month|             Yes|    Electronic check|         105.5|     2686.05|   No|\n",
      "|3655-SNQYZ|Female|            0|    Yes|       Yes|    69|         Yes|             Yes|    Fiber optic|                Yes|                Yes|                Yes|                Yes|                Yes|                Yes|      Two year|              No|Credit card (auto...|        113.25|     7895.15|   No|\n",
      "|8191-XWSZG|Female|            0|     No|        No|    52|         Yes|              No|             No|No internet service|No internet service|No internet service|No internet service|No internet service|No internet service|      One year|              No|        Mailed check|         20.65|     1022.95|   No|\n",
      "|9959-WOFKT|  Male|            0|     No|       Yes|    71|         Yes|             Yes|    Fiber optic|                Yes|                 No|                Yes|                 No|                Yes|                Yes|      Two year|              No|Bank transfer (au...|         106.7|     7382.25|   No|\n",
      "|4190-MFLUW|Female|            0|    Yes|       Yes|    10|         Yes|              No|            DSL|                 No|                 No|                Yes|                Yes|                 No|                 No|Month-to-month|              No|Credit card (auto...|          55.2|      528.35|  Yes|\n",
      "|4183-MYFRB|Female|            0|     No|        No|    21|         Yes|              No|    Fiber optic|                 No|                Yes|                Yes|                 No|                 No|                Yes|Month-to-month|             Yes|    Electronic check|         90.05|      1862.9|   No|\n",
      "+----------+------+-------------+-------+----------+------+------------+----------------+---------------+-------------------+-------------------+-------------------+-------------------+-------------------+-------------------+--------------+----------------+--------------------+--------------+------------+-----+\n",
      "only showing top 20 rows\n",
      "\n"
     ]
    }
   ],
   "source": [
    "df_pyspark.show()"
   ]
  },
  {
   "cell_type": "code",
   "execution_count": 172,
   "metadata": {},
   "outputs": [
    {
     "name": "stdout",
     "output_type": "stream",
     "text": [
      "+----------+------+-------------+-------+----------+------+------------+----------------+---------------+-------------------+-------------------+-------------------+-------------------+-------------------+-------------------+--------------+----------------+--------------------+--------------+------------+-----+---------------+\n",
      "|customerID|gender|SeniorCitizen|Partner|Dependents|tenure|PhoneService|   MultipleLines|InternetService|     OnlineSecurity|       OnlineBackup|   DeviceProtection|        TechSupport|        StreamingTV|    StreamingMovies|      Contract|PaperlessBilling|       PaymentMethod|MonthlyCharges|TotalCharges|Churn|gender_category|\n",
      "+----------+------+-------------+-------+----------+------+------------+----------------+---------------+-------------------+-------------------+-------------------+-------------------+-------------------+-------------------+--------------+----------------+--------------------+--------------+------------+-----+---------------+\n",
      "|7590-VHVEG|Female|            0|    Yes|        No|     1|          No|No phone service|            DSL|                 No|                Yes|                 No|                 No|                 No|                 No|Month-to-month|             Yes|    Electronic check|         29.85|       29.85|   No|            1.0|\n",
      "|5575-GNVDE|  Male|            0|     No|        No|    34|         Yes|              No|            DSL|                Yes|                 No|                Yes|                 No|                 No|                 No|      One year|              No|        Mailed check|         56.95|      1889.5|   No|            0.0|\n",
      "|3668-QPYBK|  Male|            0|     No|        No|     2|         Yes|              No|            DSL|                Yes|                Yes|                 No|                 No|                 No|                 No|Month-to-month|             Yes|        Mailed check|         53.85|      108.15|  Yes|            0.0|\n",
      "|7795-CFOCW|  Male|            0|     No|        No|    45|          No|No phone service|            DSL|                Yes|                 No|                Yes|                Yes|                 No|                 No|      One year|              No|Bank transfer (au...|          42.3|     1840.75|   No|            0.0|\n",
      "|9237-HQITU|Female|            0|     No|        No|     2|         Yes|              No|    Fiber optic|                 No|                 No|                 No|                 No|                 No|                 No|Month-to-month|             Yes|    Electronic check|          70.7|      151.65|  Yes|            1.0|\n",
      "|9305-CDSKC|Female|            0|     No|        No|     8|         Yes|             Yes|    Fiber optic|                 No|                 No|                Yes|                 No|                Yes|                Yes|Month-to-month|             Yes|    Electronic check|         99.65|       820.5|  Yes|            1.0|\n",
      "|1452-KIOVK|  Male|            0|     No|       Yes|    22|         Yes|             Yes|    Fiber optic|                 No|                Yes|                 No|                 No|                Yes|                 No|Month-to-month|             Yes|Credit card (auto...|          89.1|      1949.4|   No|            0.0|\n",
      "|6713-OKOMC|Female|            0|     No|        No|    10|          No|No phone service|            DSL|                Yes|                 No|                 No|                 No|                 No|                 No|Month-to-month|              No|        Mailed check|         29.75|       301.9|   No|            1.0|\n",
      "|7892-POOKP|Female|            0|    Yes|        No|    28|         Yes|             Yes|    Fiber optic|                 No|                 No|                Yes|                Yes|                Yes|                Yes|Month-to-month|             Yes|    Electronic check|         104.8|     3046.05|  Yes|            1.0|\n",
      "|6388-TABGU|  Male|            0|     No|       Yes|    62|         Yes|              No|            DSL|                Yes|                Yes|                 No|                 No|                 No|                 No|      One year|              No|Bank transfer (au...|         56.15|     3487.95|   No|            0.0|\n",
      "|9763-GRSKD|  Male|            0|    Yes|       Yes|    13|         Yes|              No|            DSL|                Yes|                 No|                 No|                 No|                 No|                 No|Month-to-month|             Yes|        Mailed check|         49.95|      587.45|   No|            0.0|\n",
      "|7469-LKBCI|  Male|            0|     No|        No|    16|         Yes|              No|             No|No internet service|No internet service|No internet service|No internet service|No internet service|No internet service|      Two year|              No|Credit card (auto...|         18.95|       326.8|   No|            0.0|\n",
      "|8091-TTVAX|  Male|            0|    Yes|        No|    58|         Yes|             Yes|    Fiber optic|                 No|                 No|                Yes|                 No|                Yes|                Yes|      One year|              No|Credit card (auto...|        100.35|      5681.1|   No|            0.0|\n",
      "|0280-XJGEX|  Male|            0|     No|        No|    49|         Yes|             Yes|    Fiber optic|                 No|                Yes|                Yes|                 No|                Yes|                Yes|Month-to-month|             Yes|Bank transfer (au...|         103.7|      5036.3|  Yes|            0.0|\n",
      "|5129-JLPIS|  Male|            0|     No|        No|    25|         Yes|              No|    Fiber optic|                Yes|                 No|                Yes|                Yes|                Yes|                Yes|Month-to-month|             Yes|    Electronic check|         105.5|     2686.05|   No|            0.0|\n",
      "|3655-SNQYZ|Female|            0|    Yes|       Yes|    69|         Yes|             Yes|    Fiber optic|                Yes|                Yes|                Yes|                Yes|                Yes|                Yes|      Two year|              No|Credit card (auto...|        113.25|     7895.15|   No|            1.0|\n",
      "|8191-XWSZG|Female|            0|     No|        No|    52|         Yes|              No|             No|No internet service|No internet service|No internet service|No internet service|No internet service|No internet service|      One year|              No|        Mailed check|         20.65|     1022.95|   No|            1.0|\n",
      "|9959-WOFKT|  Male|            0|     No|       Yes|    71|         Yes|             Yes|    Fiber optic|                Yes|                 No|                Yes|                 No|                Yes|                Yes|      Two year|              No|Bank transfer (au...|         106.7|     7382.25|   No|            0.0|\n",
      "|4190-MFLUW|Female|            0|    Yes|       Yes|    10|         Yes|              No|            DSL|                 No|                 No|                Yes|                Yes|                 No|                 No|Month-to-month|              No|Credit card (auto...|          55.2|      528.35|  Yes|            1.0|\n",
      "|4183-MYFRB|Female|            0|     No|        No|    21|         Yes|              No|    Fiber optic|                 No|                Yes|                Yes|                 No|                 No|                Yes|Month-to-month|             Yes|    Electronic check|         90.05|      1862.9|   No|            1.0|\n",
      "+----------+------+-------------+-------+----------+------+------------+----------------+---------------+-------------------+-------------------+-------------------+-------------------+-------------------+-------------------+--------------+----------------+--------------------+--------------+------------+-----+---------------+\n",
      "only showing top 20 rows\n",
      "\n"
     ]
    }
   ],
   "source": [
    "indexer = StringIndexer(inputCol=\"gender\", outputCol=\"gender_category\")\n",
    "df_r = indexer.fit(df_pyspark).transform(df_pyspark)\n",
    "df_r.show()"
   ]
  },
  {
   "cell_type": "code",
   "execution_count": 173,
   "metadata": {},
   "outputs": [
    {
     "name": "stdout",
     "output_type": "stream",
     "text": [
      "+----------+------+-------------+-------+----------+------+------------+----------------+---------------+-------------------+-------------------+-------------------+-------------------+-------------------+-------------------+--------------+----------------+--------------------+--------------+------------+-----+---------------+----------------+-------------------+---------------------+----------------------+------------------------+-----------------------+---------------------+-------------------------+--------------------+--------------------+------------------------+-----------------+-------------------------+----------------------+--------------+\n",
      "|customerID|gender|SeniorCitizen|Partner|Dependents|tenure|PhoneService|   MultipleLines|InternetService|     OnlineSecurity|       OnlineBackup|   DeviceProtection|        TechSupport|        StreamingTV|    StreamingMovies|      Contract|PaperlessBilling|       PaymentMethod|MonthlyCharges|TotalCharges|Churn|gender_category|Partner_category|Dependents_category|PhoneService_category|MultipleLines_category|InternetService_category|OnlineSecurity_category|OnlineBackup_category|DeviceProtection_category|TechSupport_category|StreamingTV_category|StreamingMovies_category|Contract_category|PaperlessBilling_category|PaymentMethod_category|Churn_category|\n",
      "+----------+------+-------------+-------+----------+------+------------+----------------+---------------+-------------------+-------------------+-------------------+-------------------+-------------------+-------------------+--------------+----------------+--------------------+--------------+------------+-----+---------------+----------------+-------------------+---------------------+----------------------+------------------------+-----------------------+---------------------+-------------------------+--------------------+--------------------+------------------------+-----------------+-------------------------+----------------------+--------------+\n",
      "|7590-VHVEG|Female|            0|    Yes|        No|     1|          No|No phone service|            DSL|                 No|                Yes|                 No|                 No|                 No|                 No|Month-to-month|             Yes|    Electronic check|         29.85|       29.85|   No|            1.0|             1.0|                0.0|                  1.0|                   2.0|                     1.0|                    0.0|                  1.0|                      0.0|                 0.0|                 0.0|                     0.0|              0.0|                      0.0|                   0.0|           0.0|\n",
      "|5575-GNVDE|  Male|            0|     No|        No|    34|         Yes|              No|            DSL|                Yes|                 No|                Yes|                 No|                 No|                 No|      One year|              No|        Mailed check|         56.95|      1889.5|   No|            0.0|             0.0|                0.0|                  0.0|                   0.0|                     1.0|                    1.0|                  0.0|                      1.0|                 0.0|                 0.0|                     0.0|              2.0|                      1.0|                   1.0|           0.0|\n",
      "|3668-QPYBK|  Male|            0|     No|        No|     2|         Yes|              No|            DSL|                Yes|                Yes|                 No|                 No|                 No|                 No|Month-to-month|             Yes|        Mailed check|         53.85|      108.15|  Yes|            0.0|             0.0|                0.0|                  0.0|                   0.0|                     1.0|                    1.0|                  1.0|                      0.0|                 0.0|                 0.0|                     0.0|              0.0|                      0.0|                   1.0|           1.0|\n",
      "|7795-CFOCW|  Male|            0|     No|        No|    45|          No|No phone service|            DSL|                Yes|                 No|                Yes|                Yes|                 No|                 No|      One year|              No|Bank transfer (au...|          42.3|     1840.75|   No|            0.0|             0.0|                0.0|                  1.0|                   2.0|                     1.0|                    1.0|                  0.0|                      1.0|                 1.0|                 0.0|                     0.0|              2.0|                      1.0|                   2.0|           0.0|\n",
      "|9237-HQITU|Female|            0|     No|        No|     2|         Yes|              No|    Fiber optic|                 No|                 No|                 No|                 No|                 No|                 No|Month-to-month|             Yes|    Electronic check|          70.7|      151.65|  Yes|            1.0|             0.0|                0.0|                  0.0|                   0.0|                     0.0|                    0.0|                  0.0|                      0.0|                 0.0|                 0.0|                     0.0|              0.0|                      0.0|                   0.0|           1.0|\n",
      "|9305-CDSKC|Female|            0|     No|        No|     8|         Yes|             Yes|    Fiber optic|                 No|                 No|                Yes|                 No|                Yes|                Yes|Month-to-month|             Yes|    Electronic check|         99.65|       820.5|  Yes|            1.0|             0.0|                0.0|                  0.0|                   1.0|                     0.0|                    0.0|                  0.0|                      1.0|                 0.0|                 1.0|                     1.0|              0.0|                      0.0|                   0.0|           1.0|\n",
      "|1452-KIOVK|  Male|            0|     No|       Yes|    22|         Yes|             Yes|    Fiber optic|                 No|                Yes|                 No|                 No|                Yes|                 No|Month-to-month|             Yes|Credit card (auto...|          89.1|      1949.4|   No|            0.0|             0.0|                1.0|                  0.0|                   1.0|                     0.0|                    0.0|                  1.0|                      0.0|                 0.0|                 1.0|                     0.0|              0.0|                      0.0|                   3.0|           0.0|\n",
      "|6713-OKOMC|Female|            0|     No|        No|    10|          No|No phone service|            DSL|                Yes|                 No|                 No|                 No|                 No|                 No|Month-to-month|              No|        Mailed check|         29.75|       301.9|   No|            1.0|             0.0|                0.0|                  1.0|                   2.0|                     1.0|                    1.0|                  0.0|                      0.0|                 0.0|                 0.0|                     0.0|              0.0|                      1.0|                   1.0|           0.0|\n",
      "|7892-POOKP|Female|            0|    Yes|        No|    28|         Yes|             Yes|    Fiber optic|                 No|                 No|                Yes|                Yes|                Yes|                Yes|Month-to-month|             Yes|    Electronic check|         104.8|     3046.05|  Yes|            1.0|             1.0|                0.0|                  0.0|                   1.0|                     0.0|                    0.0|                  0.0|                      1.0|                 1.0|                 1.0|                     1.0|              0.0|                      0.0|                   0.0|           1.0|\n",
      "|6388-TABGU|  Male|            0|     No|       Yes|    62|         Yes|              No|            DSL|                Yes|                Yes|                 No|                 No|                 No|                 No|      One year|              No|Bank transfer (au...|         56.15|     3487.95|   No|            0.0|             0.0|                1.0|                  0.0|                   0.0|                     1.0|                    1.0|                  1.0|                      0.0|                 0.0|                 0.0|                     0.0|              2.0|                      1.0|                   2.0|           0.0|\n",
      "|9763-GRSKD|  Male|            0|    Yes|       Yes|    13|         Yes|              No|            DSL|                Yes|                 No|                 No|                 No|                 No|                 No|Month-to-month|             Yes|        Mailed check|         49.95|      587.45|   No|            0.0|             1.0|                1.0|                  0.0|                   0.0|                     1.0|                    1.0|                  0.0|                      0.0|                 0.0|                 0.0|                     0.0|              0.0|                      0.0|                   1.0|           0.0|\n",
      "|7469-LKBCI|  Male|            0|     No|        No|    16|         Yes|              No|             No|No internet service|No internet service|No internet service|No internet service|No internet service|No internet service|      Two year|              No|Credit card (auto...|         18.95|       326.8|   No|            0.0|             0.0|                0.0|                  0.0|                   0.0|                     2.0|                    2.0|                  2.0|                      2.0|                 2.0|                 2.0|                     2.0|              1.0|                      1.0|                   3.0|           0.0|\n",
      "|8091-TTVAX|  Male|            0|    Yes|        No|    58|         Yes|             Yes|    Fiber optic|                 No|                 No|                Yes|                 No|                Yes|                Yes|      One year|              No|Credit card (auto...|        100.35|      5681.1|   No|            0.0|             1.0|                0.0|                  0.0|                   1.0|                     0.0|                    0.0|                  0.0|                      1.0|                 0.0|                 1.0|                     1.0|              2.0|                      1.0|                   3.0|           0.0|\n",
      "|0280-XJGEX|  Male|            0|     No|        No|    49|         Yes|             Yes|    Fiber optic|                 No|                Yes|                Yes|                 No|                Yes|                Yes|Month-to-month|             Yes|Bank transfer (au...|         103.7|      5036.3|  Yes|            0.0|             0.0|                0.0|                  0.0|                   1.0|                     0.0|                    0.0|                  1.0|                      1.0|                 0.0|                 1.0|                     1.0|              0.0|                      0.0|                   2.0|           1.0|\n",
      "|5129-JLPIS|  Male|            0|     No|        No|    25|         Yes|              No|    Fiber optic|                Yes|                 No|                Yes|                Yes|                Yes|                Yes|Month-to-month|             Yes|    Electronic check|         105.5|     2686.05|   No|            0.0|             0.0|                0.0|                  0.0|                   0.0|                     0.0|                    1.0|                  0.0|                      1.0|                 1.0|                 1.0|                     1.0|              0.0|                      0.0|                   0.0|           0.0|\n",
      "|3655-SNQYZ|Female|            0|    Yes|       Yes|    69|         Yes|             Yes|    Fiber optic|                Yes|                Yes|                Yes|                Yes|                Yes|                Yes|      Two year|              No|Credit card (auto...|        113.25|     7895.15|   No|            1.0|             1.0|                1.0|                  0.0|                   1.0|                     0.0|                    1.0|                  1.0|                      1.0|                 1.0|                 1.0|                     1.0|              1.0|                      1.0|                   3.0|           0.0|\n",
      "|8191-XWSZG|Female|            0|     No|        No|    52|         Yes|              No|             No|No internet service|No internet service|No internet service|No internet service|No internet service|No internet service|      One year|              No|        Mailed check|         20.65|     1022.95|   No|            1.0|             0.0|                0.0|                  0.0|                   0.0|                     2.0|                    2.0|                  2.0|                      2.0|                 2.0|                 2.0|                     2.0|              2.0|                      1.0|                   1.0|           0.0|\n",
      "|9959-WOFKT|  Male|            0|     No|       Yes|    71|         Yes|             Yes|    Fiber optic|                Yes|                 No|                Yes|                 No|                Yes|                Yes|      Two year|              No|Bank transfer (au...|         106.7|     7382.25|   No|            0.0|             0.0|                1.0|                  0.0|                   1.0|                     0.0|                    1.0|                  0.0|                      1.0|                 0.0|                 1.0|                     1.0|              1.0|                      1.0|                   2.0|           0.0|\n",
      "|4190-MFLUW|Female|            0|    Yes|       Yes|    10|         Yes|              No|            DSL|                 No|                 No|                Yes|                Yes|                 No|                 No|Month-to-month|              No|Credit card (auto...|          55.2|      528.35|  Yes|            1.0|             1.0|                1.0|                  0.0|                   0.0|                     1.0|                    0.0|                  0.0|                      1.0|                 1.0|                 0.0|                     0.0|              0.0|                      1.0|                   3.0|           1.0|\n",
      "|4183-MYFRB|Female|            0|     No|        No|    21|         Yes|              No|    Fiber optic|                 No|                Yes|                Yes|                 No|                 No|                Yes|Month-to-month|             Yes|    Electronic check|         90.05|      1862.9|   No|            1.0|             0.0|                0.0|                  0.0|                   0.0|                     0.0|                    0.0|                  1.0|                      1.0|                 0.0|                 0.0|                     1.0|              0.0|                      0.0|                   0.0|           0.0|\n",
      "+----------+------+-------------+-------+----------+------+------------+----------------+---------------+-------------------+-------------------+-------------------+-------------------+-------------------+-------------------+--------------+----------------+--------------------+--------------+------------+-----+---------------+----------------+-------------------+---------------------+----------------------+------------------------+-----------------------+---------------------+-------------------------+--------------------+--------------------+------------------------+-----------------+-------------------------+----------------------+--------------+\n",
      "only showing top 20 rows\n",
      "\n"
     ]
    }
   ],
   "source": [
    "from pyspark.ml.feature import StringIndexer\n",
    "indexer = StringIndexer(inputCols=[\n",
    "    \"gender\",\n",
    "    \"Partner\", \n",
    "    \"Dependents\", \n",
    "    \"PhoneService\", \n",
    "    \"MultipleLines\", \n",
    "    \"InternetService\", \n",
    "    \"OnlineSecurity\", \n",
    "    \"OnlineBackup\", \n",
    "    \"DeviceProtection\", \n",
    "    \"TechSupport\", \n",
    "    \"StreamingTV\", \n",
    "    \"StreamingMovies\", \n",
    "    \"Contract\", \n",
    "    \"PaperlessBilling\", \n",
    "    \"PaymentMethod\",\n",
    "    \"Churn\"\n",
    "    ], \n",
    "    outputCols=[\n",
    "        \"gender_category\",\n",
    "        \"Partner_category\", \n",
    "        \"Dependents_category\", \n",
    "        \"PhoneService_category\", \n",
    "        \"MultipleLines_category\", \n",
    "        \"InternetService_category\", \n",
    "        \"OnlineSecurity_category\", \n",
    "        \"OnlineBackup_category\", \n",
    "        \"DeviceProtection_category\", \n",
    "        \"TechSupport_category\", \n",
    "        \"StreamingTV_category\", \n",
    "        \"StreamingMovies_category\",\n",
    "        \"Contract_category\",\n",
    "        \"PaperlessBilling_category\",\n",
    "        \"PaymentMethod_category\",\n",
    "        \"Churn_category\"\n",
    "        ])\n",
    "df_r = indexer.fit(df_pyspark).transform(df_pyspark)\n",
    "df_r.show()"
   ]
  },
  {
   "cell_type": "code",
   "execution_count": 174,
   "metadata": {},
   "outputs": [
    {
     "name": "stdout",
     "output_type": "stream",
     "text": [
      "+----------+---------------+----------------+-------------------+---------------------+----------------------+------------------------+-----------------------+---------------------+-------------------------+--------------------+--------------------+------------------------+-----------------+-------------------------+----------------------+--------------+------------+--------------+\n",
      "|customerID|gender_category|Partner_category|Dependents_category|PhoneService_category|MultipleLines_category|InternetService_category|OnlineSecurity_category|OnlineBackup_category|DeviceProtection_category|TechSupport_category|StreamingTV_category|StreamingMovies_category|Contract_category|PaperlessBilling_category|PaymentMethod_category|MonthlyCharges|TotalCharges|churn_category|\n",
      "+----------+---------------+----------------+-------------------+---------------------+----------------------+------------------------+-----------------------+---------------------+-------------------------+--------------------+--------------------+------------------------+-----------------+-------------------------+----------------------+--------------+------------+--------------+\n",
      "|7590-VHVEG|            1.0|             1.0|                0.0|                  1.0|                   2.0|                     1.0|                    0.0|                  1.0|                      0.0|                 0.0|                 0.0|                     0.0|              0.0|                      0.0|                   0.0|         29.85|       29.85|           0.0|\n",
      "|5575-GNVDE|            0.0|             0.0|                0.0|                  0.0|                   0.0|                     1.0|                    1.0|                  0.0|                      1.0|                 0.0|                 0.0|                     0.0|              2.0|                      1.0|                   1.0|         56.95|      1889.5|           0.0|\n",
      "|3668-QPYBK|            0.0|             0.0|                0.0|                  0.0|                   0.0|                     1.0|                    1.0|                  1.0|                      0.0|                 0.0|                 0.0|                     0.0|              0.0|                      0.0|                   1.0|         53.85|      108.15|           1.0|\n",
      "|7795-CFOCW|            0.0|             0.0|                0.0|                  1.0|                   2.0|                     1.0|                    1.0|                  0.0|                      1.0|                 1.0|                 0.0|                     0.0|              2.0|                      1.0|                   2.0|          42.3|     1840.75|           0.0|\n",
      "|9237-HQITU|            1.0|             0.0|                0.0|                  0.0|                   0.0|                     0.0|                    0.0|                  0.0|                      0.0|                 0.0|                 0.0|                     0.0|              0.0|                      0.0|                   0.0|          70.7|      151.65|           1.0|\n",
      "|9305-CDSKC|            1.0|             0.0|                0.0|                  0.0|                   1.0|                     0.0|                    0.0|                  0.0|                      1.0|                 0.0|                 1.0|                     1.0|              0.0|                      0.0|                   0.0|         99.65|       820.5|           1.0|\n",
      "|1452-KIOVK|            0.0|             0.0|                1.0|                  0.0|                   1.0|                     0.0|                    0.0|                  1.0|                      0.0|                 0.0|                 1.0|                     0.0|              0.0|                      0.0|                   3.0|          89.1|      1949.4|           0.0|\n",
      "|6713-OKOMC|            1.0|             0.0|                0.0|                  1.0|                   2.0|                     1.0|                    1.0|                  0.0|                      0.0|                 0.0|                 0.0|                     0.0|              0.0|                      1.0|                   1.0|         29.75|       301.9|           0.0|\n",
      "|7892-POOKP|            1.0|             1.0|                0.0|                  0.0|                   1.0|                     0.0|                    0.0|                  0.0|                      1.0|                 1.0|                 1.0|                     1.0|              0.0|                      0.0|                   0.0|         104.8|     3046.05|           1.0|\n",
      "|6388-TABGU|            0.0|             0.0|                1.0|                  0.0|                   0.0|                     1.0|                    1.0|                  1.0|                      0.0|                 0.0|                 0.0|                     0.0|              2.0|                      1.0|                   2.0|         56.15|     3487.95|           0.0|\n",
      "|9763-GRSKD|            0.0|             1.0|                1.0|                  0.0|                   0.0|                     1.0|                    1.0|                  0.0|                      0.0|                 0.0|                 0.0|                     0.0|              0.0|                      0.0|                   1.0|         49.95|      587.45|           0.0|\n",
      "|7469-LKBCI|            0.0|             0.0|                0.0|                  0.0|                   0.0|                     2.0|                    2.0|                  2.0|                      2.0|                 2.0|                 2.0|                     2.0|              1.0|                      1.0|                   3.0|         18.95|       326.8|           0.0|\n",
      "|8091-TTVAX|            0.0|             1.0|                0.0|                  0.0|                   1.0|                     0.0|                    0.0|                  0.0|                      1.0|                 0.0|                 1.0|                     1.0|              2.0|                      1.0|                   3.0|        100.35|      5681.1|           0.0|\n",
      "|0280-XJGEX|            0.0|             0.0|                0.0|                  0.0|                   1.0|                     0.0|                    0.0|                  1.0|                      1.0|                 0.0|                 1.0|                     1.0|              0.0|                      0.0|                   2.0|         103.7|      5036.3|           1.0|\n",
      "|5129-JLPIS|            0.0|             0.0|                0.0|                  0.0|                   0.0|                     0.0|                    1.0|                  0.0|                      1.0|                 1.0|                 1.0|                     1.0|              0.0|                      0.0|                   0.0|         105.5|     2686.05|           0.0|\n",
      "|3655-SNQYZ|            1.0|             1.0|                1.0|                  0.0|                   1.0|                     0.0|                    1.0|                  1.0|                      1.0|                 1.0|                 1.0|                     1.0|              1.0|                      1.0|                   3.0|        113.25|     7895.15|           0.0|\n",
      "|8191-XWSZG|            1.0|             0.0|                0.0|                  0.0|                   0.0|                     2.0|                    2.0|                  2.0|                      2.0|                 2.0|                 2.0|                     2.0|              2.0|                      1.0|                   1.0|         20.65|     1022.95|           0.0|\n",
      "|9959-WOFKT|            0.0|             0.0|                1.0|                  0.0|                   1.0|                     0.0|                    1.0|                  0.0|                      1.0|                 0.0|                 1.0|                     1.0|              1.0|                      1.0|                   2.0|         106.7|     7382.25|           0.0|\n",
      "|4190-MFLUW|            1.0|             1.0|                1.0|                  0.0|                   0.0|                     1.0|                    0.0|                  0.0|                      1.0|                 1.0|                 0.0|                     0.0|              0.0|                      1.0|                   3.0|          55.2|      528.35|           1.0|\n",
      "|4183-MYFRB|            1.0|             0.0|                0.0|                  0.0|                   0.0|                     0.0|                    0.0|                  1.0|                      1.0|                 0.0|                 0.0|                     1.0|              0.0|                      0.0|                   0.0|         90.05|      1862.9|           0.0|\n",
      "+----------+---------------+----------------+-------------------+---------------------+----------------------+------------------------+-----------------------+---------------------+-------------------------+--------------------+--------------------+------------------------+-----------------+-------------------------+----------------------+--------------+------------+--------------+\n",
      "only showing top 20 rows\n",
      "\n"
     ]
    }
   ],
   "source": [
    "df_r = df_r.select(\"customerID\", \n",
    "                   \"gender_category\",\n",
    "                    \"Partner_category\", \n",
    "                    \"Dependents_category\", \n",
    "                    \"PhoneService_category\", \n",
    "                    \"MultipleLines_category\", \n",
    "                    \"InternetService_category\", \n",
    "                    \"OnlineSecurity_category\", \n",
    "                    \"OnlineBackup_category\", \n",
    "                    \"DeviceProtection_category\", \n",
    "                    \"TechSupport_category\", \n",
    "                    \"StreamingTV_category\", \n",
    "                    \"StreamingMovies_category\",\n",
    "                    \"Contract_category\",\n",
    "                    \"PaperlessBilling_category\",\n",
    "                    \"PaymentMethod_category\",\n",
    "                    \"MonthlyCharges\",\n",
    "                    \"TotalCharges\",\n",
    "                    \"churn_category\")\n",
    "df_r.show()"
   ]
  },
  {
   "cell_type": "code",
   "execution_count": 175,
   "metadata": {},
   "outputs": [
    {
     "name": "stdout",
     "output_type": "stream",
     "text": [
      "+----------+---------------+----------------+-------------------+---------------------+----------------------+------------------------+-----------------------+---------------------+-------------------------+--------------------+--------------------+------------------------+-----------------+-------------------------+----------------------+--------------+------------+--------------+\n",
      "|customerID|gender_category|Partner_category|Dependents_category|PhoneService_category|MultipleLines_category|InternetService_category|OnlineSecurity_category|OnlineBackup_category|DeviceProtection_category|TechSupport_category|StreamingTV_category|StreamingMovies_category|Contract_category|PaperlessBilling_category|PaymentMethod_category|MonthlyCharges|TotalCharges|churn_category|\n",
      "+----------+---------------+----------------+-------------------+---------------------+----------------------+------------------------+-----------------------+---------------------+-------------------------+--------------------+--------------------+------------------------+-----------------+-------------------------+----------------------+--------------+------------+--------------+\n",
      "|null      |1.0            |1.0             |0.0                |1.0                  |2.0                   |1.0                     |0.0                    |1.0                  |0.0                      |0.0                 |0.0                 |0.0                     |0.0              |0.0                      |0.0                   |29.85         |29.85       |0.0           |\n",
      "|null      |0.0            |0.0             |0.0                |0.0                  |0.0                   |1.0                     |1.0                    |0.0                  |1.0                      |0.0                 |0.0                 |0.0                     |2.0              |1.0                      |1.0                   |56.95         |1889.5      |0.0           |\n",
      "|null      |0.0            |0.0             |0.0                |0.0                  |0.0                   |1.0                     |1.0                    |1.0                  |0.0                      |0.0                 |0.0                 |0.0                     |0.0              |0.0                      |1.0                   |53.85         |108.15      |1.0           |\n",
      "|null      |0.0            |0.0             |0.0                |1.0                  |2.0                   |1.0                     |1.0                    |0.0                  |1.0                      |1.0                 |0.0                 |0.0                     |2.0              |1.0                      |2.0                   |42.3          |1840.75     |0.0           |\n",
      "|null      |1.0            |0.0             |0.0                |0.0                  |0.0                   |0.0                     |0.0                    |0.0                  |0.0                      |0.0                 |0.0                 |0.0                     |0.0              |0.0                      |0.0                   |70.7          |151.65      |1.0           |\n",
      "|null      |1.0            |0.0             |0.0                |0.0                  |1.0                   |0.0                     |0.0                    |0.0                  |1.0                      |0.0                 |1.0                 |1.0                     |0.0              |0.0                      |0.0                   |99.65         |820.5       |1.0           |\n",
      "|null      |0.0            |0.0             |1.0                |0.0                  |1.0                   |0.0                     |0.0                    |1.0                  |0.0                      |0.0                 |1.0                 |0.0                     |0.0              |0.0                      |3.0                   |89.1          |1949.4      |0.0           |\n",
      "|null      |1.0            |0.0             |0.0                |1.0                  |2.0                   |1.0                     |1.0                    |0.0                  |0.0                      |0.0                 |0.0                 |0.0                     |0.0              |1.0                      |1.0                   |29.75         |301.9       |0.0           |\n",
      "|null      |1.0            |1.0             |0.0                |0.0                  |1.0                   |0.0                     |0.0                    |0.0                  |1.0                      |1.0                 |1.0                 |1.0                     |0.0              |0.0                      |0.0                   |104.8         |3046.05     |1.0           |\n",
      "|null      |0.0            |0.0             |1.0                |0.0                  |0.0                   |1.0                     |1.0                    |1.0                  |0.0                      |0.0                 |0.0                 |0.0                     |2.0              |1.0                      |2.0                   |56.15         |3487.95     |0.0           |\n",
      "|null      |0.0            |1.0             |1.0                |0.0                  |0.0                   |1.0                     |1.0                    |0.0                  |0.0                      |0.0                 |0.0                 |0.0                     |0.0              |0.0                      |1.0                   |49.95         |587.45      |0.0           |\n",
      "|null      |0.0            |0.0             |0.0                |0.0                  |0.0                   |2.0                     |2.0                    |2.0                  |2.0                      |2.0                 |2.0                 |2.0                     |1.0              |1.0                      |3.0                   |18.95         |326.8       |0.0           |\n",
      "|null      |0.0            |1.0             |0.0                |0.0                  |1.0                   |0.0                     |0.0                    |0.0                  |1.0                      |0.0                 |1.0                 |1.0                     |2.0              |1.0                      |3.0                   |100.35        |5681.1      |0.0           |\n",
      "|null      |0.0            |0.0             |0.0                |0.0                  |1.0                   |0.0                     |0.0                    |1.0                  |1.0                      |0.0                 |1.0                 |1.0                     |0.0              |0.0                      |2.0                   |103.7         |5036.3      |1.0           |\n",
      "|null      |0.0            |0.0             |0.0                |0.0                  |0.0                   |0.0                     |1.0                    |0.0                  |1.0                      |1.0                 |1.0                 |1.0                     |0.0              |0.0                      |0.0                   |105.5         |2686.05     |0.0           |\n",
      "|null      |1.0            |1.0             |1.0                |0.0                  |1.0                   |0.0                     |1.0                    |1.0                  |1.0                      |1.0                 |1.0                 |1.0                     |1.0              |1.0                      |3.0                   |113.25        |7895.15     |0.0           |\n",
      "|null      |1.0            |0.0             |0.0                |0.0                  |0.0                   |2.0                     |2.0                    |2.0                  |2.0                      |2.0                 |2.0                 |2.0                     |2.0              |1.0                      |1.0                   |20.65         |1022.95     |0.0           |\n",
      "|null      |0.0            |0.0             |1.0                |0.0                  |1.0                   |0.0                     |1.0                    |0.0                  |1.0                      |0.0                 |1.0                 |1.0                     |1.0              |1.0                      |2.0                   |106.7         |7382.25     |0.0           |\n",
      "|null      |1.0            |1.0             |1.0                |0.0                  |0.0                   |1.0                     |0.0                    |0.0                  |1.0                      |1.0                 |0.0                 |0.0                     |0.0              |1.0                      |3.0                   |55.2          |528.35      |1.0           |\n",
      "|null      |1.0            |0.0             |0.0                |0.0                  |0.0                   |0.0                     |0.0                    |1.0                  |1.0                      |0.0                 |0.0                 |1.0                     |0.0              |0.0                      |0.0                   |90.05         |1862.9      |0.0           |\n",
      "+----------+---------------+----------------+-------------------+---------------------+----------------------+------------------------+-----------------------+---------------------+-------------------------+--------------------+--------------------+------------------------+-----------------+-------------------------+----------------------+--------------+------------+--------------+\n",
      "only showing top 20 rows\n",
      "\n"
     ]
    }
   ],
   "source": [
    "# Get the list of column names\n",
    "columns = df_r.columns\n",
    "\n",
    "# Convert all columns to DoubleType\n",
    "df_r = df_r.select([col(column).cast(DoubleType()).alias(column) for column in columns])\n",
    "\n",
    "# Show the modified DataFrame\n",
    "df_r.show(truncate=False)\n",
    "\n",
    "# df_r['TotalCharges'] = df_r.select('TotalCharges').cast(DoubleType())"
   ]
  },
  {
   "cell_type": "code",
   "execution_count": 176,
   "metadata": {},
   "outputs": [],
   "source": [
    "# Check and convert column data types if necessary\n",
    "df_r = df_r.withColumn(\"MonthlyCharges\", df_r[\"MonthlyCharges\"].cast(\"double\"))\n",
    "df_r = df_r.withColumn(\"TotalCharges\", df_r[\"TotalCharges\"].cast(\"double\"))\n",
    "\n",
    "# Handle missing or null values if needed\n",
    "df_r = df_r.na.drop(subset=[\"MonthlyCharges\", \"TotalCharges\"])  # Remove rows with missing values\n",
    "\n",
    "# One-Hot Encoding if required\n",
    "# You can use the OneHotEncoder or StringIndexer to encode categorical variables\n",
    "\n",
    "# Create the VectorAssembler\n",
    "feature_assembler = VectorAssembler(\n",
    "    inputCols=[\"gender_category\", \"Partner_category\", \"Dependents_category\", \"PhoneService_category\",\n",
    "               \"MultipleLines_category\", \"InternetService_category\", \"OnlineSecurity_category\",\n",
    "               \"OnlineBackup_category\", \"DeviceProtection_category\", \"TechSupport_category\",\n",
    "               \"StreamingTV_category\", \"StreamingMovies_category\", \"Contract_category\",\n",
    "               \"PaperlessBilling_category\", \"PaymentMethod_category\", \"MonthlyCharges\", \"TotalCharges\"],\n",
    "    outputCol=\"independent_features\"\n",
    ")\n",
    "\n",
    "# Transform the DataFrame\n",
    "output = feature_assembler.transform(df_r)"
   ]
  },
  {
   "cell_type": "code",
   "execution_count": 177,
   "metadata": {},
   "outputs": [
    {
     "name": "stdout",
     "output_type": "stream",
     "text": [
      "+--------------------+\n",
      "|independent_features|\n",
      "+--------------------+\n",
      "|(17,[0,1,3,4,5,7,...|\n",
      "|(17,[5,6,8,12,13,...|\n",
      "|(17,[5,6,7,14,15,...|\n",
      "|[0.0,0.0,0.0,1.0,...|\n",
      "|(17,[0,15,16],[1....|\n",
      "|(17,[0,4,8,10,11,...|\n",
      "|(17,[2,4,7,10,14,...|\n",
      "|(17,[0,3,4,5,6,13...|\n",
      "|(17,[0,1,4,8,9,10...|\n",
      "|(17,[2,5,6,7,12,1...|\n",
      "|(17,[1,2,5,6,14,1...|\n",
      "|[0.0,0.0,0.0,0.0,...|\n",
      "|(17,[1,4,8,10,11,...|\n",
      "|(17,[4,7,8,10,11,...|\n",
      "|(17,[6,8,9,10,11,...|\n",
      "|[1.0,1.0,1.0,0.0,...|\n",
      "|[1.0,0.0,0.0,0.0,...|\n",
      "|[0.0,0.0,1.0,0.0,...|\n",
      "|(17,[0,1,2,5,8,9,...|\n",
      "|(17,[0,7,8,11,15,...|\n",
      "+--------------------+\n",
      "only showing top 20 rows\n",
      "\n"
     ]
    }
   ],
   "source": [
    "output.select(\"independent_features\").show()"
   ]
  },
  {
   "cell_type": "code",
   "execution_count": 178,
   "metadata": {},
   "outputs": [
    {
     "name": "stdout",
     "output_type": "stream",
     "text": [
      "+----------+---------------+----------------+-------------------+---------------------+----------------------+------------------------+-----------------------+---------------------+-------------------------+--------------------+--------------------+------------------------+-----------------+-------------------------+----------------------+--------------+------------+--------------+--------------------+\n",
      "|customerID|gender_category|Partner_category|Dependents_category|PhoneService_category|MultipleLines_category|InternetService_category|OnlineSecurity_category|OnlineBackup_category|DeviceProtection_category|TechSupport_category|StreamingTV_category|StreamingMovies_category|Contract_category|PaperlessBilling_category|PaymentMethod_category|MonthlyCharges|TotalCharges|churn_category|independent_features|\n",
      "+----------+---------------+----------------+-------------------+---------------------+----------------------+------------------------+-----------------------+---------------------+-------------------------+--------------------+--------------------+------------------------+-----------------+-------------------------+----------------------+--------------+------------+--------------+--------------------+\n",
      "|      null|            1.0|             1.0|                0.0|                  1.0|                   2.0|                     1.0|                    0.0|                  1.0|                      0.0|                 0.0|                 0.0|                     0.0|              0.0|                      0.0|                   0.0|         29.85|       29.85|           0.0|(17,[0,1,3,4,5,7,...|\n",
      "|      null|            0.0|             0.0|                0.0|                  0.0|                   0.0|                     1.0|                    1.0|                  0.0|                      1.0|                 0.0|                 0.0|                     0.0|              2.0|                      1.0|                   1.0|         56.95|      1889.5|           0.0|(17,[5,6,8,12,13,...|\n",
      "|      null|            0.0|             0.0|                0.0|                  0.0|                   0.0|                     1.0|                    1.0|                  1.0|                      0.0|                 0.0|                 0.0|                     0.0|              0.0|                      0.0|                   1.0|         53.85|      108.15|           1.0|(17,[5,6,7,14,15,...|\n",
      "|      null|            0.0|             0.0|                0.0|                  1.0|                   2.0|                     1.0|                    1.0|                  0.0|                      1.0|                 1.0|                 0.0|                     0.0|              2.0|                      1.0|                   2.0|          42.3|     1840.75|           0.0|[0.0,0.0,0.0,1.0,...|\n",
      "|      null|            1.0|             0.0|                0.0|                  0.0|                   0.0|                     0.0|                    0.0|                  0.0|                      0.0|                 0.0|                 0.0|                     0.0|              0.0|                      0.0|                   0.0|          70.7|      151.65|           1.0|(17,[0,15,16],[1....|\n",
      "|      null|            1.0|             0.0|                0.0|                  0.0|                   1.0|                     0.0|                    0.0|                  0.0|                      1.0|                 0.0|                 1.0|                     1.0|              0.0|                      0.0|                   0.0|         99.65|       820.5|           1.0|(17,[0,4,8,10,11,...|\n",
      "|      null|            0.0|             0.0|                1.0|                  0.0|                   1.0|                     0.0|                    0.0|                  1.0|                      0.0|                 0.0|                 1.0|                     0.0|              0.0|                      0.0|                   3.0|          89.1|      1949.4|           0.0|(17,[2,4,7,10,14,...|\n",
      "|      null|            1.0|             0.0|                0.0|                  1.0|                   2.0|                     1.0|                    1.0|                  0.0|                      0.0|                 0.0|                 0.0|                     0.0|              0.0|                      1.0|                   1.0|         29.75|       301.9|           0.0|(17,[0,3,4,5,6,13...|\n",
      "|      null|            1.0|             1.0|                0.0|                  0.0|                   1.0|                     0.0|                    0.0|                  0.0|                      1.0|                 1.0|                 1.0|                     1.0|              0.0|                      0.0|                   0.0|         104.8|     3046.05|           1.0|(17,[0,1,4,8,9,10...|\n",
      "|      null|            0.0|             0.0|                1.0|                  0.0|                   0.0|                     1.0|                    1.0|                  1.0|                      0.0|                 0.0|                 0.0|                     0.0|              2.0|                      1.0|                   2.0|         56.15|     3487.95|           0.0|(17,[2,5,6,7,12,1...|\n",
      "|      null|            0.0|             1.0|                1.0|                  0.0|                   0.0|                     1.0|                    1.0|                  0.0|                      0.0|                 0.0|                 0.0|                     0.0|              0.0|                      0.0|                   1.0|         49.95|      587.45|           0.0|(17,[1,2,5,6,14,1...|\n",
      "|      null|            0.0|             0.0|                0.0|                  0.0|                   0.0|                     2.0|                    2.0|                  2.0|                      2.0|                 2.0|                 2.0|                     2.0|              1.0|                      1.0|                   3.0|         18.95|       326.8|           0.0|[0.0,0.0,0.0,0.0,...|\n",
      "|      null|            0.0|             1.0|                0.0|                  0.0|                   1.0|                     0.0|                    0.0|                  0.0|                      1.0|                 0.0|                 1.0|                     1.0|              2.0|                      1.0|                   3.0|        100.35|      5681.1|           0.0|(17,[1,4,8,10,11,...|\n",
      "|      null|            0.0|             0.0|                0.0|                  0.0|                   1.0|                     0.0|                    0.0|                  1.0|                      1.0|                 0.0|                 1.0|                     1.0|              0.0|                      0.0|                   2.0|         103.7|      5036.3|           1.0|(17,[4,7,8,10,11,...|\n",
      "|      null|            0.0|             0.0|                0.0|                  0.0|                   0.0|                     0.0|                    1.0|                  0.0|                      1.0|                 1.0|                 1.0|                     1.0|              0.0|                      0.0|                   0.0|         105.5|     2686.05|           0.0|(17,[6,8,9,10,11,...|\n",
      "|      null|            1.0|             1.0|                1.0|                  0.0|                   1.0|                     0.0|                    1.0|                  1.0|                      1.0|                 1.0|                 1.0|                     1.0|              1.0|                      1.0|                   3.0|        113.25|     7895.15|           0.0|[1.0,1.0,1.0,0.0,...|\n",
      "|      null|            1.0|             0.0|                0.0|                  0.0|                   0.0|                     2.0|                    2.0|                  2.0|                      2.0|                 2.0|                 2.0|                     2.0|              2.0|                      1.0|                   1.0|         20.65|     1022.95|           0.0|[1.0,0.0,0.0,0.0,...|\n",
      "|      null|            0.0|             0.0|                1.0|                  0.0|                   1.0|                     0.0|                    1.0|                  0.0|                      1.0|                 0.0|                 1.0|                     1.0|              1.0|                      1.0|                   2.0|         106.7|     7382.25|           0.0|[0.0,0.0,1.0,0.0,...|\n",
      "|      null|            1.0|             1.0|                1.0|                  0.0|                   0.0|                     1.0|                    0.0|                  0.0|                      1.0|                 1.0|                 0.0|                     0.0|              0.0|                      1.0|                   3.0|          55.2|      528.35|           1.0|(17,[0,1,2,5,8,9,...|\n",
      "|      null|            1.0|             0.0|                0.0|                  0.0|                   0.0|                     0.0|                    0.0|                  1.0|                      1.0|                 0.0|                 0.0|                     1.0|              0.0|                      0.0|                   0.0|         90.05|      1862.9|           0.0|(17,[0,7,8,11,15,...|\n",
      "+----------+---------------+----------------+-------------------+---------------------+----------------------+------------------------+-----------------------+---------------------+-------------------------+--------------------+--------------------+------------------------+-----------------+-------------------------+----------------------+--------------+------------+--------------+--------------------+\n",
      "only showing top 20 rows\n",
      "\n"
     ]
    }
   ],
   "source": [
    "output.show()"
   ]
  },
  {
   "cell_type": "code",
   "execution_count": 179,
   "metadata": {},
   "outputs": [
    {
     "name": "stdout",
     "output_type": "stream",
     "text": [
      "+--------------------+--------------+\n",
      "|independent_features|Churn_category|\n",
      "+--------------------+--------------+\n",
      "|(17,[0,1,3,4,5,7,...|           0.0|\n",
      "|(17,[5,6,8,12,13,...|           0.0|\n",
      "|(17,[5,6,7,14,15,...|           1.0|\n",
      "|[0.0,0.0,0.0,1.0,...|           0.0|\n",
      "|(17,[0,15,16],[1....|           1.0|\n",
      "|(17,[0,4,8,10,11,...|           1.0|\n",
      "|(17,[2,4,7,10,14,...|           0.0|\n",
      "|(17,[0,3,4,5,6,13...|           0.0|\n",
      "|(17,[0,1,4,8,9,10...|           1.0|\n",
      "|(17,[2,5,6,7,12,1...|           0.0|\n",
      "|(17,[1,2,5,6,14,1...|           0.0|\n",
      "|[0.0,0.0,0.0,0.0,...|           0.0|\n",
      "|(17,[1,4,8,10,11,...|           0.0|\n",
      "|(17,[4,7,8,10,11,...|           1.0|\n",
      "|(17,[6,8,9,10,11,...|           0.0|\n",
      "|[1.0,1.0,1.0,0.0,...|           0.0|\n",
      "|[1.0,0.0,0.0,0.0,...|           0.0|\n",
      "|[0.0,0.0,1.0,0.0,...|           0.0|\n",
      "|(17,[0,1,2,5,8,9,...|           1.0|\n",
      "|(17,[0,7,8,11,15,...|           0.0|\n",
      "+--------------------+--------------+\n",
      "only showing top 20 rows\n",
      "\n"
     ]
    }
   ],
   "source": [
    "finalize_data = output.select(\"independent_features\", \"Churn_category\")\n",
    "finalize_data.show()"
   ]
  },
  {
   "cell_type": "code",
   "execution_count": 180,
   "metadata": {},
   "outputs": [],
   "source": [
    "train_data, test_data = finalize_data.randomSplit([0.75, 0.25])"
   ]
  },
  {
   "cell_type": "code",
   "execution_count": 181,
   "metadata": {},
   "outputs": [
    {
     "data": {
      "text/plain": [
       "LinearRegression_9523e55caca1"
      ]
     },
     "execution_count": 181,
     "metadata": {},
     "output_type": "execute_result"
    }
   ],
   "source": [
    "regressor = LinearRegression(featuresCol=\"independent_features\", labelCol=\"Churn_category\", regParam=0.1)\n",
    "regressor"
   ]
  },
  {
   "cell_type": "code",
   "execution_count": 182,
   "metadata": {},
   "outputs": [
    {
     "name": "stderr",
     "output_type": "stream",
     "text": [
      "23/06/18 19:28:10 WARN InstanceBuilder: Failed to load implementation from:dev.ludovic.netlib.blas.JNIBLAS\n",
      "23/06/18 19:28:10 WARN InstanceBuilder: Failed to load implementation from:dev.ludovic.netlib.blas.VectorBLAS\n",
      "23/06/18 19:28:10 WARN InstanceBuilder: Failed to load implementation from:dev.ludovic.netlib.lapack.JNILAPACK\n"
     ]
    }
   ],
   "source": [
    "regressor = regressor.fit(train_data)"
   ]
  },
  {
   "cell_type": "code",
   "execution_count": 183,
   "metadata": {},
   "outputs": [
    {
     "data": {
      "text/plain": [
       "DenseVector([0.0033, -0.0175, -0.0345, -0.0479, 0.0199, -0.0857, -0.0543, -0.0161, -0.0104, -0.0428, 0.0328, 0.032, -0.0737, -0.0493, -0.033, 0.0007, -0.0])"
      ]
     },
     "execution_count": 183,
     "metadata": {},
     "output_type": "execute_result"
    }
   ],
   "source": [
    "regressor.coefficients"
   ]
  },
  {
   "cell_type": "code",
   "execution_count": 184,
   "metadata": {},
   "outputs": [
    {
     "data": {
      "text/plain": [
       "0.540723805083816"
      ]
     },
     "execution_count": 184,
     "metadata": {},
     "output_type": "execute_result"
    }
   ],
   "source": [
    "regressor.intercept"
   ]
  },
  {
   "cell_type": "code",
   "execution_count": 185,
   "metadata": {},
   "outputs": [],
   "source": [
    "# prediction\n",
    "pred_result = regressor.evaluate(test_data)"
   ]
  },
  {
   "cell_type": "code",
   "execution_count": 186,
   "metadata": {},
   "outputs": [
    {
     "name": "stdout",
     "output_type": "stream",
     "text": [
      "+--------------------+--------------+-------------------+\n",
      "|independent_features|Churn_category|         prediction|\n",
      "+--------------------+--------------+-------------------+\n",
      "|(17,[0,1,2,3,4,5,...|           0.0|0.33323665879356235|\n",
      "|(17,[0,1,2,3,4,5,...|           0.0| 0.3645384764326631|\n",
      "|(17,[0,1,2,4,5,7,...|           0.0|0.25404660052313366|\n",
      "|(17,[0,1,2,4,5,8,...|           0.0|0.17731622248700873|\n",
      "|(17,[0,1,2,4,5,13...|           0.0|0.31943035962846905|\n",
      "|(17,[0,1,2,4,5,14...|           0.0| 0.3512325620918417|\n",
      "|(17,[0,1,2,4,6,9,...|           0.0| 0.1818259036294282|\n",
      "|(17,[0,1,2,4,7,8,...|           1.0| 0.3039724521137345|\n",
      "|(17,[0,1,2,4,7,8,...|           0.0| 0.1791509653303075|\n",
      "|(17,[0,1,2,4,7,8,...|           0.0| 0.1259197503631846|\n",
      "|(17,[0,1,2,4,7,8,...|           1.0| 0.5074581793491141|\n",
      "|(17,[0,1,2,4,7,10...|           0.0| 0.4209401914407275|\n",
      "|(17,[0,1,2,4,7,10...|           0.0|0.39133629235364226|\n",
      "|(17,[0,1,2,4,7,10...|           0.0| 0.4489892001339491|\n",
      "|(17,[0,1,2,4,7,11...|           1.0|0.46481326336083606|\n",
      "|(17,[0,1,2,4,8,10...|           1.0| 0.5075166523764002|\n",
      "|(17,[0,1,2,4,8,11...|           1.0| 0.4062006455194756|\n",
      "|(17,[0,1,2,4,8,11...|           1.0| 0.5427059787282985|\n",
      "|(17,[0,1,2,4,9,11...|           0.0|0.28006427928796357|\n",
      "|(17,[0,1,2,4,9,11...|           0.0| 0.3112347396040638|\n",
      "+--------------------+--------------+-------------------+\n",
      "only showing top 20 rows\n",
      "\n"
     ]
    }
   ],
   "source": [
    "pred_result.predictions.show()"
   ]
  }
 ],
 "metadata": {
  "kernelspec": {
   "display_name": "py38",
   "language": "python",
   "name": "python3"
  },
  "language_info": {
   "codemirror_mode": {
    "name": "ipython",
    "version": 3
   },
   "file_extension": ".py",
   "mimetype": "text/x-python",
   "name": "python",
   "nbconvert_exporter": "python",
   "pygments_lexer": "ipython3",
   "version": "3.8.16"
  },
  "orig_nbformat": 4
 },
 "nbformat": 4,
 "nbformat_minor": 2
}
