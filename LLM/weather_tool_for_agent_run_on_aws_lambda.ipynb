{
 "cells": [
  {
   "cell_type": "markdown",
   "id": "b1f43637-d4f3-405e-b9c7-c5f9f67215a2",
   "metadata": {},
   "source": [
    "Here's production-level code using LangChain + Pydantic to build a smart tool that can run on AWS Lambda (or any cloud function), with structured validation, tool agent, and OpenAI integration.\n",
    "\n",
    "✅ Use Case: Get Weather + Currency Conversion (2 Tools)"
   ]
  },
  {
   "cell_type": "code",
   "execution_count": null,
   "id": "4825eeb5-a93d-4288-9591-5a986d60f866",
   "metadata": {},
   "outputs": [],
   "source": [
    "!pip install langchain openai pydantic"
   ]
  },
  {
   "cell_type": "code",
   "execution_count": null,
   "id": "51b8cb8f-4cb3-46c1-86e5-dc5a0a1c0add",
   "metadata": {},
   "outputs": [],
   "source": [
    "import os\n",
    "from typing import Optional\n",
    "from pydantic import BaseModel, Field\n",
    "from langchain.tools import Tool\n",
    "from langchain.agents import initialize_agent, AgentType\n",
    "from langchain.llms import OpenAI\n",
    "from dotenv import load_dotenv\n",
    "\n",
    "load_dotenv()"
   ]
  },
  {
   "cell_type": "code",
   "execution_count": null,
   "id": "7ef1f601-b5ae-49d8-ada4-89af379d5f9a",
   "metadata": {},
   "outputs": [],
   "source": [
    "# Environment\n",
    "OPENAI_API_KEY = os.getenv(\"OPENAI_API_KEY\")\n",
    "\n",
    "# LLM Initialization\n",
    "llm = OpenAI(api_key=OPENAI_API_KEY, temperature=0)\n"
   ]
  },
  {
   "cell_type": "code",
   "execution_count": null,
   "id": "04cec54a-8d18-447f-9b56-510fa7a539bd",
   "metadata": {},
   "outputs": [],
   "source": [
    "# Tool 1: Weather (Mocked for demo)\n",
    "class WeatherInput(BaseModel):\n",
    "    location: str = Field(..., description=\"City name\")\n",
    "\n",
    "def get_weather(location: str) -> str:\n",
    "    return f\"Current weather in {location} is 30°C and sunny.\"\n"
   ]
  },
  {
   "cell_type": "code",
   "execution_count": null,
   "id": "b5a14890-2afc-4049-90f8-b7884cb47115",
   "metadata": {},
   "outputs": [],
   "source": [
    "weather_tool = Tool.from_function(\n",
    "    func=get_weather,\n",
    "    name=\"get_weather\",\n",
    "    description=\"Get current weather by location\",\n",
    "    args_schema=WeatherInput\n",
    ")"
   ]
  },
  {
   "cell_type": "code",
   "execution_count": null,
   "id": "7dc1e219-287f-4f25-99cd-b47267690eba",
   "metadata": {},
   "outputs": [],
   "source": [
    "# Tool 2: Currency Converter\n",
    "class CurrencyInput(BaseModel):\n",
    "    amount: float = Field(..., description=\"Amount to convert\")\n",
    "    from_currency: str = Field(..., description=\"Source currency code (e.g., USD)\")\n",
    "    to_currency: str = Field(..., description=\"Target currency code (e.g., INR)\")\n",
    "\n",
    "def convert_currency(amount: float, from_currency: str, to_currency: str) -> str:\n",
    "    rate = 83.0  # Mock conversion rate for demo\n",
    "    converted = amount * rate\n",
    "    return f\"{amount} {from_currency} = {converted:.2f} {to_currency}\"\n"
   ]
  },
  {
   "cell_type": "code",
   "execution_count": null,
   "id": "74b129a2-7e4a-43fb-8729-46ed45c1d509",
   "metadata": {},
   "outputs": [],
   "source": [
    "currency_tool = Tool.from_function(\n",
    "    func=convert_currency,\n",
    "    name=\"convert_currency\",\n",
    "    description=\"Convert currency between two types\",\n",
    "    args_schema=CurrencyInput\n",
    ")\n"
   ]
  },
  {
   "cell_type": "code",
   "execution_count": null,
   "id": "a7fee694-424d-4747-b77e-b2ddbcbb3e13",
   "metadata": {},
   "outputs": [],
   "source": [
    "# Initialize Agent\n",
    "tools = [weather_tool, currency_tool]\n",
    "\n",
    "agent = initialize_agent(\n",
    "    tools=tools,\n",
    "    llm=llm,\n",
    "    agent=AgentType.ZERO_SHOT_REACT_DESCRIPTION,\n",
    "    verbose=True\n",
    ")\n"
   ]
  },
  {
   "cell_type": "code",
   "execution_count": null,
   "id": "a90d02a2-5898-470a-b07c-ab4455126a4d",
   "metadata": {},
   "outputs": [],
   "source": [
    "# Handler Function (for AWS Lambda or Cloud Function)\n",
    "def lambda_handler(event: dict, context: Optional[dict] = None) -> dict:\n",
    "    query = event.get(\"query\") or \"What's the weather in Bangalore and convert 100 USD to INR?\"\n",
    "    result = agent.run(query)\n",
    "    return {\"response\": result}"
   ]
  }
 ],
 "metadata": {
  "kernelspec": {
   "display_name": "Python 3 (ipykernel)",
   "language": "python",
   "name": "python3"
  },
  "language_info": {
   "codemirror_mode": {
    "name": "ipython",
    "version": 3
   },
   "file_extension": ".py",
   "mimetype": "text/x-python",
   "name": "python",
   "nbconvert_exporter": "python",
   "pygments_lexer": "ipython3",
   "version": "3.12.3"
  }
 },
 "nbformat": 4,
 "nbformat_minor": 5
}
