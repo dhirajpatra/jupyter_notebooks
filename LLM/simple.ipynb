{
 "cells": [
  {
   "cell_type": "code",
   "execution_count": 2,
   "id": "fd096854-a45e-4565-ae4c-5852ef8c0a43",
   "metadata": {},
   "outputs": [],
   "source": []
  },
  {
   "cell_type": "code",
   "execution_count": 1,
   "id": "b9690071-645a-4c92-ae06-017fc9149694",
   "metadata": {},
   "outputs": [],
   "source": [
    "import os\n",
    "os.environ[\"TRANSFORMERS_NO_SAFE_LOAD_WARNING\"] = \"1\"\n"
   ]
  },
  {
   "cell_type": "code",
   "execution_count": 2,
   "id": "2f8f02c3-6ec0-4735-b939-ec2bd4476e79",
   "metadata": {},
   "outputs": [],
   "source": [
    "from transformers import AutoTokenizer, AutoModelForCausalLM\n",
    "import torch\n"
   ]
  },
  {
   "cell_type": "code",
   "execution_count": 3,
   "id": "0b74d4b1-20c3-429b-a879-df92544839bc",
   "metadata": {},
   "outputs": [],
   "source": [
    "# Load model and tokenizer\n",
    "model_name = \"microsoft/DialoGPT-medium\"\n"
   ]
  },
  {
   "cell_type": "code",
   "execution_count": 5,
   "id": "cc120feb-3ccb-4fed-8f8f-b07eb40e0006",
   "metadata": {},
   "outputs": [
    {
     "name": "stderr",
     "output_type": "stream",
     "text": [
      "/home/dhiraj-patra/miniconda3/envs/genai/lib/python3.10/site-packages/huggingface_hub/file_download.py:943: FutureWarning: `resume_download` is deprecated and will be removed in version 1.0.0. Downloads always resume when possible. If you want to force a new download, use `force_download=True`.\n",
      "  warnings.warn(\n",
      "/home/dhiraj-patra/miniconda3/envs/genai/lib/python3.10/site-packages/huggingface_hub/file_download.py:943: FutureWarning: `resume_download` is deprecated and will be removed in version 1.0.0. Downloads always resume when possible. If you want to force a new download, use `force_download=True`.\n",
      "  warnings.warn(\n"
     ]
    },
    {
     "data": {
      "text/plain": [
       "GPT2LMHeadModel(\n",
       "  (transformer): GPT2Model(\n",
       "    (wte): Embedding(50257, 1024)\n",
       "    (wpe): Embedding(1024, 1024)\n",
       "    (drop): Dropout(p=0.1, inplace=False)\n",
       "    (h): ModuleList(\n",
       "      (0-23): 24 x GPT2Block(\n",
       "        (ln_1): LayerNorm((1024,), eps=1e-05, elementwise_affine=True)\n",
       "        (attn): GPT2Attention(\n",
       "          (c_attn): Conv1D()\n",
       "          (c_proj): Conv1D()\n",
       "          (attn_dropout): Dropout(p=0.1, inplace=False)\n",
       "          (resid_dropout): Dropout(p=0.1, inplace=False)\n",
       "        )\n",
       "        (ln_2): LayerNorm((1024,), eps=1e-05, elementwise_affine=True)\n",
       "        (mlp): GPT2MLP(\n",
       "          (c_fc): Conv1D()\n",
       "          (c_proj): Conv1D()\n",
       "          (act): NewGELUActivation()\n",
       "          (dropout): Dropout(p=0.1, inplace=False)\n",
       "        )\n",
       "      )\n",
       "    )\n",
       "    (ln_f): LayerNorm((1024,), eps=1e-05, elementwise_affine=True)\n",
       "  )\n",
       "  (lm_head): Linear(in_features=1024, out_features=50257, bias=False)\n",
       ")"
      ]
     },
     "execution_count": 5,
     "metadata": {},
     "output_type": "execute_result"
    }
   ],
   "source": [
    "tokenizer = AutoTokenizer.from_pretrained(model_name)\n",
    "model = AutoModelForCausalLM.from_pretrained(model_name)\n",
    "\n",
    "device = torch.device(\"cuda\" if torch.cuda.is_available() else \"cpu\")\n",
    "model.to(device)  # 🔥 Use GPU"
   ]
  },
  {
   "cell_type": "code",
   "execution_count": 6,
   "id": "8011b21a-a38a-4229-a1dc-d4b1f5ba4d9c",
   "metadata": {},
   "outputs": [
    {
     "data": {
      "text/plain": [
       "('./DialoGPT-medium/tokenizer_config.json',\n",
       " './DialoGPT-medium/special_tokens_map.json',\n",
       " './DialoGPT-medium/vocab.json',\n",
       " './DialoGPT-medium/merges.txt',\n",
       " './DialoGPT-medium/added_tokens.json',\n",
       " './DialoGPT-medium/tokenizer.json')"
      ]
     },
     "execution_count": 6,
     "metadata": {},
     "output_type": "execute_result"
    }
   ],
   "source": [
    "# save this model in local\n",
    "model.save_pretrained(\"./DialoGPT-medium\")\n",
    "tokenizer.save_pretrained(\"./DialoGPT-medium\")\n"
   ]
  },
  {
   "cell_type": "code",
   "execution_count": 7,
   "id": "fa1645b6-32a9-4fde-8b6b-f4bbc933a92e",
   "metadata": {},
   "outputs": [],
   "source": [
    "# user model from local\n",
    "model = AutoModelForCausalLM.from_pretrained(\"./DialoGPT-medium\")\n",
    "tokenizer = AutoTokenizer.from_pretrained(\"./DialoGPT-medium\")\n"
   ]
  },
  {
   "cell_type": "code",
   "execution_count": 8,
   "id": "78955ece-e19e-4b40-b124-b4ee1da7c61c",
   "metadata": {},
   "outputs": [
    {
     "name": "stderr",
     "output_type": "stream",
     "text": [
      "2025-06-23 06:09:49.665401: I tensorflow/core/platform/cpu_feature_guard.cc:193] This TensorFlow binary is optimized with oneAPI Deep Neural Network Library (oneDNN) to use the following CPU instructions in performance-critical operations:  AVX2 FMA\n",
      "To enable them in other operations, rebuild TensorFlow with the appropriate compiler flags.\n"
     ]
    },
    {
     "name": "stdout",
     "output_type": "stream",
     "text": [
      "TensorFlow Version: 2.10.0\n",
      "GPU Available: []\n"
     ]
    }
   ],
   "source": [
    "import tensorflow as tf\n",
    "print(\"TensorFlow Version:\", tf.__version__)\n",
    "print(\"GPU Available:\", tf.config.list_physical_devices('GPU'))\n"
   ]
  },
  {
   "cell_type": "code",
   "execution_count": 9,
   "id": "58b328f6-985c-451e-95b2-1b5b4f21691b",
   "metadata": {},
   "outputs": [],
   "source": [
    "# Set pad_token_id explicitly if it's None or conflicts\n",
    "if tokenizer.pad_token is None:\n",
    "    tokenizer.pad_token = tokenizer.eos_token"
   ]
  },
  {
   "cell_type": "code",
   "execution_count": 10,
   "id": "41c570c2-6b6a-4ad2-acb1-7a513793ab92",
   "metadata": {},
   "outputs": [],
   "source": [
    "def generate_response(prompt, max_length=100):\n",
    "    # Append special separator for conversational context\n",
    "    new_user_input_ids = tokenizer.encode(prompt + tokenizer.eos_token, return_tensors='pt')\n",
    "\n",
    "    # If no past context, start new chat\n",
    "    chat_history_ids = None\n",
    "\n",
    "    with torch.no_grad():\n",
    "        output_ids = model.generate(\n",
    "            input_ids=new_user_input_ids if chat_history_ids is None else torch.cat([chat_history_ids, new_user_input_ids], dim=-1),\n",
    "            max_length=max_length,\n",
    "            pad_token_id=tokenizer.eos_token_id,\n",
    "            do_sample=True,\n",
    "            temperature=0.7,\n",
    "            top_p=0.95,\n",
    "            num_return_sequences=1\n",
    "        )\n",
    "\n",
    "    response = tokenizer.decode(output_ids[:, new_user_input_ids.shape[-1]:][0], skip_special_tokens=True)\n",
    "    return response.strip()\n"
   ]
  },
  {
   "cell_type": "code",
   "execution_count": 11,
   "id": "712f6f05-36b8-4d0e-b5a0-f2b1ff69e07c",
   "metadata": {},
   "outputs": [
    {
     "name": "stderr",
     "output_type": "stream",
     "text": [
      "A decoder-only architecture is being used, but right-padding was detected! For correct generation results, please set `padding_side='left'` when initializing the tokenizer.\n"
     ]
    },
    {
     "name": "stdout",
     "output_type": "stream",
     "text": [
      "Malta. We are the capital of the Maltese Islands.\n"
     ]
    }
   ],
   "source": [
    "print(generate_response(\"What is the capital of France?\"))"
   ]
  },
  {
   "cell_type": "code",
   "execution_count": 12,
   "id": "31a4a440-ab26-4f88-8950-cc0682145b87",
   "metadata": {},
   "outputs": [
    {
     "name": "stdout",
     "output_type": "stream",
     "text": [
      "🟡 Allocated: 1377.55 MB\n",
      "🟣 Cached: 1380.0 MB\n",
      "✅ Done. GPU Utilization logged above.\n"
     ]
    }
   ],
   "source": [
    "# Before inference\n",
    "print(\"🟡 Allocated:\", round(torch.cuda.memory_allocated(0)/1024**2, 2), \"MB\")\n",
    "print(\"🟣 Cached:\", round(torch.cuda.memory_reserved(0)/1024**2, 2), \"MB\")\n",
    "\n",
    "# After inference\n",
    "torch.cuda.synchronize()  # Ensure all ops complete\n",
    "print(\"✅ Done. GPU Utilization logged above.\")\n"
   ]
  },
  {
   "cell_type": "code",
   "execution_count": 13,
   "id": "f8498665-f9c3-4dde-8f52-92e3aa0e8519",
   "metadata": {},
   "outputs": [
    {
     "name": "stdout",
     "output_type": "stream",
     "text": [
      "True\n",
      "NVIDIA GeForce 940MX\n",
      "cpu\n"
     ]
    }
   ],
   "source": [
    "print(torch.cuda.is_available())                    # → True?\n",
    "print(torch.cuda.get_device_name(0))                # → Should show \"GeForce 940MX\"\n",
    "print(next(model.parameters()).device)              # → Should be 'cuda:0'\n"
   ]
  },
  {
   "cell_type": "code",
   "execution_count": null,
   "id": "b116187c-cf84-492d-bd59-f1cae36733ca",
   "metadata": {},
   "outputs": [],
   "source": []
  }
 ],
 "metadata": {
  "kernelspec": {
   "display_name": "Python 3 (ipykernel)",
   "language": "python",
   "name": "python3"
  },
  "language_info": {
   "codemirror_mode": {
    "name": "ipython",
    "version": 3
   },
   "file_extension": ".py",
   "mimetype": "text/x-python",
   "name": "python",
   "nbconvert_exporter": "python",
   "pygments_lexer": "ipython3",
   "version": "3.10.18"
  }
 },
 "nbformat": 4,
 "nbformat_minor": 5
}
