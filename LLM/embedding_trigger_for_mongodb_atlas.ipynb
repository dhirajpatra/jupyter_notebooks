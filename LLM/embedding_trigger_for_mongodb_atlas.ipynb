{
 "cells": [
  {
   "cell_type": "markdown",
   "id": "769d60c5-2ca4-4a01-b055-ad0dfff3723c",
   "metadata": {},
   "source": [
    "## We can trigger whenever new document added into collection or update any document from Atlas"
   ]
  },
  {
   "cell_type": "markdown",
   "id": "558765ef-c6b8-4137-9d43-7c8a9aef84e3",
   "metadata": {},
   "source": [
    "### Create a event trigger"
   ]
  },
  {
   "cell_type": "code",
   "execution_count": null,
   "id": "5b751186-af7a-4e6e-9596-79bac5845333",
   "metadata": {},
   "outputs": [],
   "source": [
    "exports = async function(changeEvent) {\n",
    "\n",
    "    const doc = changeEvent.fullDocument;\n",
    "\n",
    "    const url = 'https://api.openai.com/v1/embeddings';\n",
    "    \n",
    "    const openai_key = context.values.get(\"openAI_secret\");\n",
    "    try {\n",
    "        console.log(`Processing document with id: ${doc._id}`);\n",
    "\n",
    "        \n",
    "        let response = await context.http.post({\n",
    "            url: url,\n",
    "             headers: {\n",
    "                'Authorization': [`Bearer ${openai_key}`],\n",
    "                'Content-Type': ['application/json']\n",
    "            },\n",
    "            body: JSON.stringify({\n",
    "                \n",
    "                input: doc.plot,\n",
    "                model: context.values.get(\"model\")\n",
    "            })\n",
    "        });\n",
    "\n",
    "        \n",
    "        let responseData = EJSON.parse(response.body.text());\n",
    "\n",
    "        if(response.statusCode === 200) {\n",
    "            console.log(\"Successfully received embedding.\");\n",
    "\n",
    "            const embedding = responseData.data[0].embedding;\n",
    "\n",
    "            const collection = context.services.get(\"cluster0\").db(\"sample_mflix\").collection(\"movies\");\n",
    "\n",
    "            const result = await collection.updateOne(\n",
    "                { _id: doc._id },\n",
    "                { $set: { plot_embedding: embedding }}\n",
    "            );\n",
    "\n",
    "            if(result.modifiedCount === 1) {\n",
    "                console.log(\"Successfully updated the document.\");\n",
    "            } else {\n",
    "                console.log(\"Failed to update the document.\");\n",
    "            }\n",
    "        } else {\n",
    "            console.log(`Failed to receive embedding. Status code: ${response.statusCode}`);\n",
    "        }\n",
    "\n",
    "    } catch(err) {\n",
    "        console.error(err);\n",
    "    }\n",
    "};"
   ]
  },
  {
   "cell_type": "markdown",
   "id": "e449a8bf-9eb3-4982-99f6-a7a266abbe9f",
   "metadata": {},
   "source": [
    "### Create Vector Embeddings\n",
    "To create vector embeddings, use a function that makes an API request to the text embedding model of your choice. The text embedding model will create embeddings based on the text it receives."
   ]
  },
  {
   "cell_type": "code",
   "execution_count": null,
   "id": "206e3a48-2fac-4b50-adb2-c4e259e38125",
   "metadata": {},
   "outputs": [],
   "source": [
    "def get_embeddings(text, model, api_key):\n",
    "    url = \"https://api.openai.com/v1/embeddings\"\n",
    "    headers = {\"Content-Type\": \"application/json\", \"Authorization\": \"Bearer \" + api_key}\n",
    "    data = {\"input\": text, \"model\": model, \"options\": {\"wait_for_model\": True}}\n",
    "\n",
    "    response = requests.post(url, headers=headers, data=json.dumps(data))\n",
    "    responseData = response.json()\n",
    "\n",
    "    return responseData[\"data\"][0][\"embedding\"]"
   ]
  },
  {
   "cell_type": "code",
   "execution_count": null,
   "id": "68d4bef5-b9bb-46b8-ba77-db4d0b804ec5",
   "metadata": {},
   "outputs": [],
   "source": []
  }
 ],
 "metadata": {
  "kernelspec": {
   "display_name": "Python 3 (ipykernel)",
   "language": "python",
   "name": "python3"
  },
  "language_info": {
   "codemirror_mode": {
    "name": "ipython",
    "version": 3
   },
   "file_extension": ".py",
   "mimetype": "text/x-python",
   "name": "python",
   "nbconvert_exporter": "python",
   "pygments_lexer": "ipython3",
   "version": "3.11.9"
  }
 },
 "nbformat": 4,
 "nbformat_minor": 5
}
