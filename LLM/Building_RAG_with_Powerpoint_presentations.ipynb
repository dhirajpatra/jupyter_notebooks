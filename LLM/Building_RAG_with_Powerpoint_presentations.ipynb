{
  "nbformat": 4,
  "nbformat_minor": 0,
  "metadata": {
    "colab": {
      "provenance": [],
      "gpuType": "T4"
    },
    "kernelspec": {
      "name": "python3",
      "display_name": "Python 3"
    },
    "language_info": {
      "name": "python"
    },
    "accelerator": "GPU",
    "widgets": {
      "application/vnd.jupyter.widget-state+json": {
        "62807ad9c679457fbbac5b62798b6549": {
          "model_module": "@jupyter-widgets/controls",
          "model_name": "HBoxModel",
          "model_module_version": "1.5.0",
          "state": {
            "_dom_classes": [],
            "_model_module": "@jupyter-widgets/controls",
            "_model_module_version": "1.5.0",
            "_model_name": "HBoxModel",
            "_view_count": null,
            "_view_module": "@jupyter-widgets/controls",
            "_view_module_version": "1.5.0",
            "_view_name": "HBoxView",
            "box_style": "",
            "children": [
              "IPY_MODEL_3c20c9f5159c4a4a9ee61ed6de760cc3",
              "IPY_MODEL_1cbe219a6cc741da9f94cde5d7564a52",
              "IPY_MODEL_67e10d091c9a4020a6fbd4e58e26d5d1"
            ],
            "layout": "IPY_MODEL_e5350b0698f144988746cafd7f4be176"
          }
        },
        "3c20c9f5159c4a4a9ee61ed6de760cc3": {
          "model_module": "@jupyter-widgets/controls",
          "model_name": "HTMLModel",
          "model_module_version": "1.5.0",
          "state": {
            "_dom_classes": [],
            "_model_module": "@jupyter-widgets/controls",
            "_model_module_version": "1.5.0",
            "_model_name": "HTMLModel",
            "_view_count": null,
            "_view_module": "@jupyter-widgets/controls",
            "_view_module_version": "1.5.0",
            "_view_name": "HTMLView",
            "description": "",
            "description_tooltip": null,
            "layout": "IPY_MODEL_4bd29d94f8914b2e869eb7a9b9ee47c1",
            "placeholder": "​",
            "style": "IPY_MODEL_1a6a6be65bd0411abad145c1dfaeca56",
            "value": "Loading checkpoint shards: 100%"
          }
        },
        "1cbe219a6cc741da9f94cde5d7564a52": {
          "model_module": "@jupyter-widgets/controls",
          "model_name": "FloatProgressModel",
          "model_module_version": "1.5.0",
          "state": {
            "_dom_classes": [],
            "_model_module": "@jupyter-widgets/controls",
            "_model_module_version": "1.5.0",
            "_model_name": "FloatProgressModel",
            "_view_count": null,
            "_view_module": "@jupyter-widgets/controls",
            "_view_module_version": "1.5.0",
            "_view_name": "ProgressView",
            "bar_style": "success",
            "description": "",
            "description_tooltip": null,
            "layout": "IPY_MODEL_45fb310055234ffaa73ca75dd715710e",
            "max": 4,
            "min": 0,
            "orientation": "horizontal",
            "style": "IPY_MODEL_ab45a5bd10704853ad947586499fb0bb",
            "value": 4
          }
        },
        "67e10d091c9a4020a6fbd4e58e26d5d1": {
          "model_module": "@jupyter-widgets/controls",
          "model_name": "HTMLModel",
          "model_module_version": "1.5.0",
          "state": {
            "_dom_classes": [],
            "_model_module": "@jupyter-widgets/controls",
            "_model_module_version": "1.5.0",
            "_model_name": "HTMLModel",
            "_view_count": null,
            "_view_module": "@jupyter-widgets/controls",
            "_view_module_version": "1.5.0",
            "_view_name": "HTMLView",
            "description": "",
            "description_tooltip": null,
            "layout": "IPY_MODEL_5f1660f986554d00abaf67da4dad4e86",
            "placeholder": "​",
            "style": "IPY_MODEL_e74c8a8e816d423c89782fd9f7ebb404",
            "value": " 4/4 [01:15&lt;00:00, 16.30s/it]"
          }
        },
        "e5350b0698f144988746cafd7f4be176": {
          "model_module": "@jupyter-widgets/base",
          "model_name": "LayoutModel",
          "model_module_version": "1.2.0",
          "state": {
            "_model_module": "@jupyter-widgets/base",
            "_model_module_version": "1.2.0",
            "_model_name": "LayoutModel",
            "_view_count": null,
            "_view_module": "@jupyter-widgets/base",
            "_view_module_version": "1.2.0",
            "_view_name": "LayoutView",
            "align_content": null,
            "align_items": null,
            "align_self": null,
            "border": null,
            "bottom": null,
            "display": null,
            "flex": null,
            "flex_flow": null,
            "grid_area": null,
            "grid_auto_columns": null,
            "grid_auto_flow": null,
            "grid_auto_rows": null,
            "grid_column": null,
            "grid_gap": null,
            "grid_row": null,
            "grid_template_areas": null,
            "grid_template_columns": null,
            "grid_template_rows": null,
            "height": null,
            "justify_content": null,
            "justify_items": null,
            "left": null,
            "margin": null,
            "max_height": null,
            "max_width": null,
            "min_height": null,
            "min_width": null,
            "object_fit": null,
            "object_position": null,
            "order": null,
            "overflow": null,
            "overflow_x": null,
            "overflow_y": null,
            "padding": null,
            "right": null,
            "top": null,
            "visibility": null,
            "width": null
          }
        },
        "4bd29d94f8914b2e869eb7a9b9ee47c1": {
          "model_module": "@jupyter-widgets/base",
          "model_name": "LayoutModel",
          "model_module_version": "1.2.0",
          "state": {
            "_model_module": "@jupyter-widgets/base",
            "_model_module_version": "1.2.0",
            "_model_name": "LayoutModel",
            "_view_count": null,
            "_view_module": "@jupyter-widgets/base",
            "_view_module_version": "1.2.0",
            "_view_name": "LayoutView",
            "align_content": null,
            "align_items": null,
            "align_self": null,
            "border": null,
            "bottom": null,
            "display": null,
            "flex": null,
            "flex_flow": null,
            "grid_area": null,
            "grid_auto_columns": null,
            "grid_auto_flow": null,
            "grid_auto_rows": null,
            "grid_column": null,
            "grid_gap": null,
            "grid_row": null,
            "grid_template_areas": null,
            "grid_template_columns": null,
            "grid_template_rows": null,
            "height": null,
            "justify_content": null,
            "justify_items": null,
            "left": null,
            "margin": null,
            "max_height": null,
            "max_width": null,
            "min_height": null,
            "min_width": null,
            "object_fit": null,
            "object_position": null,
            "order": null,
            "overflow": null,
            "overflow_x": null,
            "overflow_y": null,
            "padding": null,
            "right": null,
            "top": null,
            "visibility": null,
            "width": null
          }
        },
        "1a6a6be65bd0411abad145c1dfaeca56": {
          "model_module": "@jupyter-widgets/controls",
          "model_name": "DescriptionStyleModel",
          "model_module_version": "1.5.0",
          "state": {
            "_model_module": "@jupyter-widgets/controls",
            "_model_module_version": "1.5.0",
            "_model_name": "DescriptionStyleModel",
            "_view_count": null,
            "_view_module": "@jupyter-widgets/base",
            "_view_module_version": "1.2.0",
            "_view_name": "StyleView",
            "description_width": ""
          }
        },
        "45fb310055234ffaa73ca75dd715710e": {
          "model_module": "@jupyter-widgets/base",
          "model_name": "LayoutModel",
          "model_module_version": "1.2.0",
          "state": {
            "_model_module": "@jupyter-widgets/base",
            "_model_module_version": "1.2.0",
            "_model_name": "LayoutModel",
            "_view_count": null,
            "_view_module": "@jupyter-widgets/base",
            "_view_module_version": "1.2.0",
            "_view_name": "LayoutView",
            "align_content": null,
            "align_items": null,
            "align_self": null,
            "border": null,
            "bottom": null,
            "display": null,
            "flex": null,
            "flex_flow": null,
            "grid_area": null,
            "grid_auto_columns": null,
            "grid_auto_flow": null,
            "grid_auto_rows": null,
            "grid_column": null,
            "grid_gap": null,
            "grid_row": null,
            "grid_template_areas": null,
            "grid_template_columns": null,
            "grid_template_rows": null,
            "height": null,
            "justify_content": null,
            "justify_items": null,
            "left": null,
            "margin": null,
            "max_height": null,
            "max_width": null,
            "min_height": null,
            "min_width": null,
            "object_fit": null,
            "object_position": null,
            "order": null,
            "overflow": null,
            "overflow_x": null,
            "overflow_y": null,
            "padding": null,
            "right": null,
            "top": null,
            "visibility": null,
            "width": null
          }
        },
        "ab45a5bd10704853ad947586499fb0bb": {
          "model_module": "@jupyter-widgets/controls",
          "model_name": "ProgressStyleModel",
          "model_module_version": "1.5.0",
          "state": {
            "_model_module": "@jupyter-widgets/controls",
            "_model_module_version": "1.5.0",
            "_model_name": "ProgressStyleModel",
            "_view_count": null,
            "_view_module": "@jupyter-widgets/base",
            "_view_module_version": "1.2.0",
            "_view_name": "StyleView",
            "bar_color": null,
            "description_width": ""
          }
        },
        "5f1660f986554d00abaf67da4dad4e86": {
          "model_module": "@jupyter-widgets/base",
          "model_name": "LayoutModel",
          "model_module_version": "1.2.0",
          "state": {
            "_model_module": "@jupyter-widgets/base",
            "_model_module_version": "1.2.0",
            "_model_name": "LayoutModel",
            "_view_count": null,
            "_view_module": "@jupyter-widgets/base",
            "_view_module_version": "1.2.0",
            "_view_name": "LayoutView",
            "align_content": null,
            "align_items": null,
            "align_self": null,
            "border": null,
            "bottom": null,
            "display": null,
            "flex": null,
            "flex_flow": null,
            "grid_area": null,
            "grid_auto_columns": null,
            "grid_auto_flow": null,
            "grid_auto_rows": null,
            "grid_column": null,
            "grid_gap": null,
            "grid_row": null,
            "grid_template_areas": null,
            "grid_template_columns": null,
            "grid_template_rows": null,
            "height": null,
            "justify_content": null,
            "justify_items": null,
            "left": null,
            "margin": null,
            "max_height": null,
            "max_width": null,
            "min_height": null,
            "min_width": null,
            "object_fit": null,
            "object_position": null,
            "order": null,
            "overflow": null,
            "overflow_x": null,
            "overflow_y": null,
            "padding": null,
            "right": null,
            "top": null,
            "visibility": null,
            "width": null
          }
        },
        "e74c8a8e816d423c89782fd9f7ebb404": {
          "model_module": "@jupyter-widgets/controls",
          "model_name": "DescriptionStyleModel",
          "model_module_version": "1.5.0",
          "state": {
            "_model_module": "@jupyter-widgets/controls",
            "_model_module_version": "1.5.0",
            "_model_name": "DescriptionStyleModel",
            "_view_count": null,
            "_view_module": "@jupyter-widgets/base",
            "_view_module_version": "1.2.0",
            "_view_name": "StyleView",
            "description_width": ""
          }
        }
      }
    }
  },
  "cells": [
    {
      "cell_type": "markdown",
      "source": [
        "# Use Powerpoint documents in your RAG system"
      ],
      "metadata": {
        "id": "nUNgmBMZXfqQ"
      }
    },
    {
      "cell_type": "markdown",
      "source": [
        "## Setup\n",
        "\n",
        "* Install the required libraries\n",
        "* Get an [Unstructured API key](https://unstructured.io/api-key-free), free tier will work (unless your powerpoint has more than 1000 pages)\n",
        "* Get your HuggingFace token (depending on a model you choose to use, you may not need it). You can get one in your [profile's settings](https://huggingface.co/settings/tokens)."
      ],
      "metadata": {
        "id": "xLmlo1aVIyEl"
      }
    },
    {
      "cell_type": "code",
      "execution_count": null,
      "metadata": {
        "id": "l6PrPFA_WdO1"
      },
      "outputs": [],
      "source": [
        "!pip install -q unstructured-client unstructured[all-docs] langchain accelerate bitsandbytes sentence-transformers chromadb"
      ]
    },
    {
      "cell_type": "code",
      "source": [
        "!pip install transformers --upgrade"
      ],
      "metadata": {
        "id": "VkH1fo8MFtqZ"
      },
      "execution_count": null,
      "outputs": []
    },
    {
      "cell_type": "code",
      "source": [
        "import os\n",
        "\n",
        "os.environ[\"UNSTRUCTURED_API_KEY\"] = \"YOUR_UNSTRUCTURED_API_KEY\""
      ],
      "metadata": {
        "id": "fzYnswNyfXQ_"
      },
      "execution_count": null,
      "outputs": []
    },
    {
      "cell_type": "code",
      "source": [
        "from huggingface_hub.hf_api import HfFolder\n",
        "\n",
        "HfFolder.save_token('YOUR_HF_TOKEN')"
      ],
      "metadata": {
        "id": "vAs3G1ZPIiSa"
      },
      "execution_count": null,
      "outputs": []
    },
    {
      "cell_type": "markdown",
      "source": [
        "## Preprocessing pptx file for RAG with Unstructured\n",
        "\n"
      ],
      "metadata": {
        "id": "7TmQF7McJmaB"
      }
    },
    {
      "cell_type": "code",
      "source": [
        "# The example powerpoint is from https://agsci.oregonstate.edu\n",
        "# search for Plant Identification, the powerpoint should be the first result\n",
        "# or upload your own .ppt or .pptx to Colab.\n",
        "\n",
        "path_to_pptx=\"/content/Plant Identification handout.ppt\""
      ],
      "metadata": {
        "id": "N45a-QGTJu86"
      },
      "execution_count": null,
      "outputs": []
    },
    {
      "cell_type": "code",
      "source": [
        "# set up Unstructured API Client to process the document\n",
        "\n",
        "from unstructured_client import UnstructuredClient\n",
        "from unstructured_client.models import shared\n",
        "from unstructured_client.models.errors import SDKError\n",
        "from unstructured.staging.base import dict_to_elements\n",
        "\n",
        "\n",
        "unstructured_api_key = os.environ.get(\"UNSTRUCTURED_API_KEY\")\n",
        "\n",
        "client = UnstructuredClient(\n",
        "    api_key_auth=unstructured_api_key,\n",
        "    # if using hosted API, provide your unique API URL:\n",
        "    # server_url=\"YOUR_API_URL\",\n",
        ")\n",
        "\n",
        "with open(path_to_pptx, \"rb\") as f:\n",
        "  files=shared.Files(\n",
        "      content=f.read(),\n",
        "      file_name=path_to_pptx,\n",
        "      )\n",
        "\n",
        "  req = shared.PartitionParameters(\n",
        "    files=files,\n",
        "    # By setting the chunking strategy here, we'll partition AND\n",
        "    # chunk the document in a single call\n",
        "    chunking_strategy=\"by_title\",\n",
        "    max_characters=512,\n",
        "  )\n",
        "\n",
        "  try:\n",
        "    resp = client.general.partition(req)\n",
        "  except SDKError as e:\n",
        "    print(e)\n",
        "\n",
        "elements = dict_to_elements(resp.elements)"
      ],
      "metadata": {
        "id": "Gky_AB5NfXqR"
      },
      "execution_count": null,
      "outputs": []
    },
    {
      "cell_type": "markdown",
      "source": [
        "## Retriever\n"
      ],
      "metadata": {
        "id": "eRvRAr-7KE3W"
      }
    },
    {
      "cell_type": "code",
      "source": [
        "from langchain_core.documents import Document\n",
        "from langchain_community.vectorstores import Chroma\n",
        "from langchain.vectorstores import utils as chromautils\n",
        "from langchain.embeddings import HuggingFaceEmbeddings\n",
        "\n",
        "documents = []\n",
        "for element in elements:\n",
        "    metadata = element.metadata.to_dict()\n",
        "    documents.append(Document(page_content=element.text, metadata=metadata))\n",
        "\n",
        "# Some metadata is too complex for ChromaDB, so we filter it out\n",
        "docs = chromautils.filter_complex_metadata(documents)\n",
        "\n",
        "db = Chroma.from_documents(docs, HuggingFaceEmbeddings(model_name=\"BAAI/bge-base-en-v1.5\"))\n",
        "retriever = db.as_retriever(search_type=\"similarity\", search_kwargs={\"k\": 4})"
      ],
      "metadata": {
        "id": "AJbO0Q5Vffz3"
      },
      "execution_count": null,
      "outputs": []
    },
    {
      "cell_type": "markdown",
      "source": [
        "## Set up your LLM of choice"
      ],
      "metadata": {
        "id": "_XdnRbCDKL9J"
      }
    },
    {
      "cell_type": "code",
      "source": [
        "import torch\n",
        "from transformers import AutoTokenizer, AutoModelForCausalLM, BitsAndBytesConfig\n",
        "\n",
        "# Here we use https://huggingface.co/NousResearch/Hermes-2-Pro-Llama-3-8B\n",
        "model_name = 'NousResearch/Hermes-2-Pro-Llama-3-8B'\n",
        "\n",
        "# Quantized version of the model can run on the free T4 in Colab\n",
        "bnb_config = BitsAndBytesConfig(\n",
        "    load_in_4bit=True,\n",
        "    nb_4bit_use_double_quant=True,\n",
        "    bnb_4bit_quant_type=\"nf4\",\n",
        "    bnb_4bit_compute_dtype=torch.bfloat16,\n",
        ")\n",
        "\n",
        "model = AutoModelForCausalLM.from_pretrained(model_name, quantization_config=bnb_config)\n",
        "tokenizer = AutoTokenizer.from_pretrained(model_name)"
      ],
      "metadata": {
        "colab": {
          "base_uri": "https://localhost:8080/",
          "height": 103,
          "referenced_widgets": [
            "62807ad9c679457fbbac5b62798b6549",
            "3c20c9f5159c4a4a9ee61ed6de760cc3",
            "1cbe219a6cc741da9f94cde5d7564a52",
            "67e10d091c9a4020a6fbd4e58e26d5d1",
            "e5350b0698f144988746cafd7f4be176",
            "4bd29d94f8914b2e869eb7a9b9ee47c1",
            "1a6a6be65bd0411abad145c1dfaeca56",
            "45fb310055234ffaa73ca75dd715710e",
            "ab45a5bd10704853ad947586499fb0bb",
            "5f1660f986554d00abaf67da4dad4e86",
            "e74c8a8e816d423c89782fd9f7ebb404"
          ]
        },
        "id": "OLJqPXdY_lwa",
        "outputId": "80d45153-189b-43f2-80a3-f6f287e59de4"
      },
      "execution_count": null,
      "outputs": [
        {
          "output_type": "stream",
          "name": "stderr",
          "text": [
            "Unused kwargs: ['nb_4bit_use_double_quant']. These kwargs are not used in <class 'transformers.utils.quantization_config.BitsAndBytesConfig'>.\n",
            "`low_cpu_mem_usage` was None, now set to True since model is quantized.\n"
          ]
        },
        {
          "output_type": "display_data",
          "data": {
            "text/plain": [
              "Loading checkpoint shards:   0%|          | 0/4 [00:00<?, ?it/s]"
            ],
            "application/vnd.jupyter.widget-view+json": {
              "version_major": 2,
              "version_minor": 0,
              "model_id": "62807ad9c679457fbbac5b62798b6549"
            }
          },
          "metadata": {}
        },
        {
          "output_type": "stream",
          "name": "stderr",
          "text": [
            "Special tokens have been added in the vocabulary, make sure the associated word embeddings are fine-tuned or trained.\n"
          ]
        }
      ]
    },
    {
      "cell_type": "markdown",
      "source": [
        "## Bringing all together wiht LangChain"
      ],
      "metadata": {
        "id": "2zG_9z7CKT1u"
      }
    },
    {
      "cell_type": "code",
      "source": [
        "from langchain.llms import HuggingFacePipeline\n",
        "from langchain.prompts import PromptTemplate\n",
        "from transformers import pipeline\n",
        "from langchain_core.output_parsers import StrOutputParser\n",
        "from langchain_core.runnables import RunnablePassthrough\n",
        "\n",
        "terminators = [\n",
        "    tokenizer.eos_token_id,\n",
        "    tokenizer.convert_tokens_to_ids(\"<|im_end|>\")\n",
        "]\n",
        "\n",
        "text_generation_pipeline = pipeline(\n",
        "    model=model,\n",
        "    tokenizer=tokenizer,\n",
        "    task=\"text-generation\",\n",
        "    temperature=0.2,\n",
        "    do_sample=True,\n",
        "    repetition_penalty=1.1,\n",
        "    return_full_text=False,\n",
        "    max_new_tokens=250,\n",
        "    eos_token_id=terminators,\n",
        ")\n",
        "\n",
        "llm = HuggingFacePipeline(pipeline=text_generation_pipeline)\n",
        "\n",
        "prompt_template = \"\"\"\n",
        "<|im_start|>system\n",
        "You are a helpful assistant.\n",
        "You are given relevant documents for context and a question. Provide a conversational answer.\n",
        "If you don't know the answer, just say \"I do not know.\" Don't make up an answer.\n",
        "Question: <|im_end|>\n",
        "<|im_start|>user\n",
        "{question}\n",
        "Context: {context} <|im_end|>\n",
        "\"\"\"\n",
        "\n",
        "prompt = PromptTemplate(\n",
        "    input_variables=[\"context\", \"question\"],\n",
        "    template=prompt_template,\n",
        ")\n",
        "\n",
        "def format_docs(docs):\n",
        "    return \"\\n\\n\".join(doc.page_content for doc in docs)\n",
        "\n",
        "rag_chain = (\n",
        "    {\"context\": retriever | format_docs, \"question\": RunnablePassthrough()}\n",
        "    | prompt\n",
        "    | llm\n",
        "    | StrOutputParser()\n",
        ")"
      ],
      "metadata": {
        "id": "q0kgiGQfDeVQ"
      },
      "execution_count": null,
      "outputs": []
    },
    {
      "cell_type": "code",
      "source": [
        "question = \"How can I identify what plant is in front of me?\"\n",
        "rag_chain.invoke(question)"
      ],
      "metadata": {
        "id": "Hsh7BJv8hV_m",
        "colab": {
          "base_uri": "https://localhost:8080/",
          "height": 143
        },
        "outputId": "0e875062-713c-416c-d9d8-ad96f03e60e6"
      },
      "execution_count": null,
      "outputs": [
        {
          "output_type": "execute_result",
          "data": {
            "text/plain": [
              "'To identify the plant in front of you, follow these steps:\\n\\n1. Visually inspect the plant\\'s characteristics such as its overall form, whether it is herbaceous or woody, and if it has simple or compound leaves.\\n\\n2. Take note of the specific features of the leaves, including their shape, size, arrangement, venation pattern, and margins. This will help narrow down the possibilities based on leaf morphology.\\n\\n3. Observe other parts of the plant, such as the stem, buds, flowers, and fruits, which may provide additional clues to its identity.\\n\\n4. Use photographic references and consult plant classification keys, which are available online or in books like \"Integrated Approach to Plant Identification\" by Amy Jo Detweiler, Jan McNeilan, and Gail Gredler from the Horticulture Department. These resources can guide you through the process of identifying the plant based on its various characteristics.\\n\\n5. If needed, seek expert advice from local garden centers, horticulturists, or botanic gardens. They may have more experience with local flora and can offer valuable insights.\\n\\nBy following these steps and collecting all the information you observe, you should be able to identify the plant in front of you accurately. Remember that'"
            ],
            "application/vnd.google.colaboratory.intrinsic+json": {
              "type": "string"
            }
          },
          "metadata": {},
          "execution_count": 15
        }
      ]
    },
    {
      "cell_type": "code",
      "source": [
        "# Let's see what we are getting from the retriever for the question\n",
        "\n",
        "retriever.invoke(question)"
      ],
      "metadata": {
        "colab": {
          "base_uri": "https://localhost:8080/"
        },
        "id": "D_a032vIH6xC",
        "outputId": "a5d7b210-a583-4037-f749-3002c0f9c42d"
      },
      "execution_count": null,
      "outputs": [
        {
          "output_type": "execute_result",
          "data": {
            "text/plain": [
              "[Document(page_content='Integrated Approach to Plant Identification\\n\\nVisual inspection of plant characteristics\\n\\nPhotographic references\\n\\nPlant classification keys\\n\\nExpert advice\\n\\nCollect information about what you see:\\n\\nHerbaceous, conifer, broadleaved evergreen, deciduous?\\n\\nCollect information about what you see:\\n\\nWhat is the overall form of the plant?\\n\\nCollect information about what you see:\\n\\nWhat are the characteristics of individual plant parts?\\n\\nLeaf type-simple leaf\\n\\nLeaf type-pinnately compound\\n\\nLeaf type\\n\\nLeaf type', metadata={'filename': 'Plant Identification handout.ppt', 'filetype': 'application/vnd.ms-powerpoint', 'orig_elements': 'eJztWE1vGzcQ/SuEzo5NLr9zKdqiQA0EhQ9BewgCY0gOpUX2C7uUaiPof++s4rRyqoPixjlYe5I0S81w3rx9nOG7jytssMWu3NZp9ZqtuNASsoeQkxaVzVCpCoI2lqPKYOzqgq1aLJCgAK3/uIpQcN2P97cJh7Ihk6AVuW7wNtUjxkKPZr9Xse8KhVk9PO2gxUP71U0DXWHXib7XuSavdd+xDXSp35bLYfjnj+V+2P8RhqF5WHa169JlP2B31za5H1so06s+kxNMfdzOyV0OI070uV/eNo9+zo4p9noLa5zI87sVduvVe7IOZLnttm3AkexS/0W2gndlDn9Nu16PlHtiPw7D2EPcsNKzY1nMAT7v+m1dGlyRoy9xD2A8zwEhpex0xVGLyK0MPpmoLZ6AO3+xuO9N41dw9LBQv9fTFhpWd9NAqMzJ9ZkN+6TjBkaIBcd6KnWcDuv0hkzXBdtjpZIIOqlsbFYqYMjZ+1ApwZ1LYLn1S6meWKqbTV96eqmGTR3ZiBnJUcST6xKd1SkDl6CEMNolZYVKKRkKFLKKS12eWpdPb0sD0/Rvfh/w/uTK2By1AAhcaee4CLGyNvmMPlBgsIu4PbUyv9wNOBYGaUf7OrUaKAOPSlXe5SiiUB7y/Ho4700OvlL/qcYLAP4QtEOcbmjZTyPCh2NAGY10FFdOmZQFYM5VcjbKANpHYbU+Y9qaQ0B/7puGsqMz9lPEebcQaK/szw0Udt9v2YT4+hD332Ck5qne4dvZxxHsScfBC8W9A2G51EZ5nwJqlEZ6r89ZzB9h/yuOASL22+mCUQo1HZoXLFA/mhqEHXWnuMNxPSJ2FyxhrNOWlv7wVaVY9GLRi//LWfvcesG9AJkt9eBBWKHRRx9ljI7adKeqeM5N+SPs/5gRridWNsh6kgZoGjbHnqei2bafjBZ9WPTh+3LUPbc+xFhpL20yThPoSTmkaQQUGuGN5DIv2B/oA80jezH44oJk1oi6S/WOughoHi5RaHgpS0PxPIKBiFlwZ4wLSdnKhkQDIfLogndBn9IEv9jLWH8I6BsEOr1oL6+muh0aZNT75pOuXRcqnkhF76QSXHHBE/Ev8opzIx2iqbLONsnzpaLix6k41F1HGDT3NJe1Q7/t0sLIb8lIC1WlTVQBQBoVuFbegxc5mZit9HDGjBRHGbnQb6Hfd6FftdDvG9Pv/d+c8Lir', 'page_number': 35}),\n",
              " Document(page_content='Plant Identification\\n\\nAmy Jo Detweiler, Jan McNeilan, Gail Gredler \\n\\nHorticulture Department\\n\\nList 6 reasons why plant identification is important\\n\\nHistory of Plant Nomenclature (naming of organisms)\\n\\nDates back to 200 B.C. to China and Egypt\\n\\nGreeks and Romans classified plants into 4 groups \\n\\nherbs\\n\\nundershrubs\\n\\nshrubs\\n\\ntrees\\n\\nListed plants using Latin terms, e.g. carnation would be\\n\\nAnother example:\\n\\nOriental ivy-leaved maple', metadata={'filename': 'Plant Identification handout.ppt', 'filetype': 'application/vnd.ms-powerpoint', 'orig_elements': 'eJztmN1v3DYMwP8V4Z42IL3oy5LVt7UduhZdVgx9K4qAkqg7I/6CLSc5FPvfS99lW64L0OuGvSR+OluSKfJHHknp4+cV1thgmy+ruHrOVsIZyZUSQgSFXNogORbB+wQqlQbM6oytGswQIQOt/7wKkHHTDbvLiH3e0pCgFamq8TJWA4ZMU7Pc89C1mbZZ3c220OD98fP3NbSZvYn0XKWKpFZdy7bQxm7K677/68O86/cfQt/Xd8vOr9u47npsb5s6dUMDeXzWJRKCsQvTbNy6H3Ck3/3ypj56nQXT3psJNjiS5I8rbDerTzTa08hlOzUeh9muP2go422ed39I21nQn9p9qHKNK/ria75l0rGURvlQmsLxZA2o0ugAVnhjIyx893x/anbsbcdeYb5BUmo4Y2+hZb+GC3qD9oy9hqpmrweMNMdOAq+is1oaq3goUWtvRNQ8hRgCYtCWL+D34H/phlyFqc7TgIS/hyE3d9Z9EzEqz4PW0pUpiCC0g+STDqVzJnkn9T8QPwKa99ndh/Selr0YEK4eAlW4JMFygz5yALTWegjaoQcBqFB9Oxb5I41FeZ/nu2rMzDCiOHbtyG62O9bvDaiODahGVjU9BS4cB+oFDAOtuMYPs8AlYP9DwBZUtIqAMpaiDE4Ip6L2QmPpCmP8CVXrsQasOkqeFLBkGesSOyh+0dE+oYZ9Nv2BrKvazTzbDRtoq7EZf/yueIVIhYp8UViByvGoqYLNKSNZKmohnFDDnoQbXpHVI6OUesVyxyTn7MX65Xp+frmtWmCkN/t5s+uPksWcbN5kbB7iHnUwkUhLH5PgvOBSFEFQn0ye0IBy4b7nTv0YXo17vL93DVDKptAfR9Ic4yFzU6JuyQ2abYZu6kd2qgOoXdZQQlkWwSmBIZRSW1VIS810IWJYHLB3wBYHP57K1HuRjJdaUPebnKdwLhzlkpCMEiHxJagPTKc24jBuh+l0so6Sg4laRTTG2VDaEpXkQJhDqZVJC9k92e+DKl0sOZ3eODgjqG3z0eskZQhF9KUxSwtygJopB5/MdOl/T+x/6WgmVRAQPNV7rguO3iKpoWC+VBBPuP7orw9sf5f6aZy73XckrmUZh2Y8Y7jerFmAoT0YctNNdWQel0Pb/xG0XKqEKIRJPCWOyMEX4IBbYbXRT/mqsTi6amy7TI0Tw1to+hqfn3abqIUuVIzJgkRhqTMFGY313IlYhKd8TX7E9rehmr+vWXW9e1YjXFN2aIAoL/eJ//6f/ukLiTu57g==', 'page_number': 1}),\n",
              " Document(page_content='Images, Identification, and Information\\n\\nVolume 1             Copyright, Oregon State University, 1999-2004 \\n\\nhttp://oregonstate.edu/dept/ldplants\\n\\nMore resources\\n\\nMore resources', metadata={'filename': 'Plant Identification handout.ppt', 'filetype': 'application/vnd.ms-powerpoint', 'orig_elements': 'eJztUz1v2zAQ/SuEZscSJeqDGdvJQ9EATboEgXEUj7ZQiSQoKogb9L/35LiF2mRIlg6pBQiiHo/vju/e3T4m2OOANm47nVyyBDmoDNDwigNCoYwAVFBiVZSK66ZNViwZMIKGCBT/mLQQcefCYavRxz1BnCJM1+NWdwHbSFszb9o6GylNctq1MOAST696sJFtNK070xFr5yzbg9Vuimvvfx+MB388CN73p7D03uq182gfht64MEAcL5whEtSunebLrX3Akb7H8KH/43cmpty7CXY4EvNtgnaX3BHqCdnaaVAYCK/zH4RFfIhz+s0wh6/+KnjFqGC2sU9VnMh/VXzdxR4TInmmedFCBkKbWohC6gJyURlVqZIjQAOv0Dx7t5ofofAGfy6b9NX1VArjbPl8dP4Qut0+rtjnQDJa9oWKQnZju3sMYxcPK8allBd5lgm2bOCNPQnffUd9Ped4oZm5kdzUZc3rvMpy0egaBdamRFXlWSHy8wA99WYfo79MU3dswTh3YI16SmcR0l77+TLjK6dHZa0QuWxMy1suJBhyRdtISUMkc/FM8Heg7VLIpUhXFPYhIHx7SajCSJnRW1ZZU2pTgSxMpRQ2BnlR5PgfO7NYCvqJPMmIxU2hxbMHzx78Nx4Ub/Lg3U9ChElY', 'page_number': 72}),\n",
              " Document(page_content='Leaf type\\n\\nLeaf type\\n\\nLeaf type\\n\\nLeaf Arrangement\\n\\nLeaf Arrangement\\n\\nLeaf Arrangement\\n\\nLeaf Arrangement\\n\\nTypes of Venation\\n\\nTypes of Venation\\n\\nTypes of Venation\\n\\nTypes of Venation\\n\\nLeaf margins\\n\\nStem and Bud\\n\\nOther i.d.features - fruit\\n\\nOther i.d.features – flower & fruit', metadata={'filename': 'Plant Identification handout.ppt', 'filetype': 'application/vnd.ms-powerpoint', 'orig_elements': 'eJzt2ctuEzEUBuBXsWbBiqa+j82O7pCQqETFplSRL+ekI+amiQdaVbw7TlRQQkEsaBtEvMrk2HPs+fVJicaXdxW00EGflk2sXpGqdpwrHaR3TmjpqZLWOssw6oC1sK56SaoOkosuuTz/rgouwWqYbpcRxnSdSyzPwKaFZWwmCCkPbfqehqFPeZnqfrR3HezWT89b1yfyJubrBpvctRl6cu36OMxpMY4/bky34/ZGN47t/bTTz31cDCP0N12Lw9S5tD4ZMDeBOIR583CLcYJ1/txO79q9r5vGee3V7Fawzp0vK+hX1VWujrmy7OfOw5TrUnzNtQQ3abP8W3BItnvZFO/3dNGkFqo87edUQXgapOTWYGCBSevQowzGWo3ecvkg1f8gwN20dkM6z9POJnCffhVU4fdbfrLwK/wOx08Vfk/Oz0gnlJEcUSCqyBnjHLSsdc0cZyYeMT/9gN/raco3buMrCovCZ1FYF4VF4cEVmqKwKDy4QlsUPpdCak0NkVkuNDXSGBa9CdxS5VmN3LPjVajobqAXeRtrMiD5kB/le5vCsDB8coasMCwMD8+QF4aF4eEZisLw2RgKFIIrapFq60SU3kejBOT/4zTUqOgRM3x4YtK5adX06yLwMQV6LoJVGqMMLAZUwTOhDVgmJCJnR3xoovYOTd4n6EjeHTmbYxH4mAJLUCWoElQJ6l8OCqXVgSqkxjOuZKDMU4gAtJa8rp053l9JvfcO7126hok0i7hAcGnO/cgJwWluyjvlR/WoHY2eGq5NNKL2FiWywGVwFJBGrY/YI/uDx48zp0wQbIcveehF0fm3Oq++AZenXog=', 'page_number': 43})]"
            ]
          },
          "metadata": {},
          "execution_count": 16
        }
      ]
    },
    {
      "cell_type": "code",
      "source": [],
      "metadata": {
        "id": "rk8BrOMzIJLn"
      },
      "execution_count": null,
      "outputs": []
    }
  ]
}