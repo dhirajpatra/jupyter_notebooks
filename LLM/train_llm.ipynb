{
 "cells": [
  {
   "cell_type": "code",
   "execution_count": null,
   "id": "6965d310-f510-490b-aa76-7bcf00c531ec",
   "metadata": {
    "tags": []
   },
   "outputs": [],
   "source": [
    "%%bash\n",
    "pip -q install trl\n",
    "pip -q install peft\n",
    "pip -q install torch\n",
    "pip -q install datasets\n",
    "pip -q install transformers\n"
   ]
  },
  {
   "cell_type": "code",
   "execution_count": 16,
   "id": "bd473ac1-4d8a-4a5c-a2d3-10f502b01c24",
   "metadata": {
    "tags": []
   },
   "outputs": [
    {
     "name": "stderr",
     "output_type": "stream",
     "text": [
      "/Users/macbook/opt/anaconda3/lib/python3.8/site-packages/trl/trainer/ppo_config.py:141: UserWarning: The `optimize_cuda_cache` arguement will be deprecated soon, please use `optimize_device_cache` instead.\n",
      "  warnings.warn(\n"
     ]
    }
   ],
   "source": [
    "# import all required libraries\n",
    "import torch\n",
    "from trl import SFTTrainer\n",
    "from datasets import load_dataset\n",
    "from peft import LoraConfig, get_peft_model, prepare_model_for_int8_training\n",
    "from transformers import AutoModelForCausalLM, AutoTokenizer, TrainingArguments"
   ]
  },
  {
   "cell_type": "code",
   "execution_count": 17,
   "id": "42c1c91c-90a2-48a1-a6ce-05d0c48ae55c",
   "metadata": {},
   "outputs": [
    {
     "name": "stdout",
     "output_type": "stream",
     "text": [
      "Dataset({\n",
      "    features: ['instruction', 'input', 'output', 'text'],\n",
      "    num_rows: 52002\n",
      "})\n"
     ]
    }
   ],
   "source": [
    "from datasets import load_dataset\n",
    "\n",
    "train_dataset = load_dataset(\"tatsu-lab/alpaca\", split=\"train\")\n",
    "print(train_dataset)\n"
   ]
  },
  {
   "cell_type": "code",
   "execution_count": 18,
   "id": "4913cd8d-21b9-4254-9187-18749921317e",
   "metadata": {
    "tags": []
   },
   "outputs": [
    {
     "data": {
      "text/html": [
       "<div>\n",
       "<style scoped>\n",
       "    .dataframe tbody tr th:only-of-type {\n",
       "        vertical-align: middle;\n",
       "    }\n",
       "\n",
       "    .dataframe tbody tr th {\n",
       "        vertical-align: top;\n",
       "    }\n",
       "\n",
       "    .dataframe thead th {\n",
       "        text-align: right;\n",
       "    }\n",
       "</style>\n",
       "<table border=\"1\" class=\"dataframe\">\n",
       "  <thead>\n",
       "    <tr style=\"text-align: right;\">\n",
       "      <th></th>\n",
       "      <th>instruction</th>\n",
       "      <th>input</th>\n",
       "      <th>output</th>\n",
       "      <th>text</th>\n",
       "    </tr>\n",
       "  </thead>\n",
       "  <tbody>\n",
       "    <tr>\n",
       "      <th>0</th>\n",
       "      <td>Give three tips for staying healthy.</td>\n",
       "      <td></td>\n",
       "      <td>1.Eat a balanced diet and make sure to include...</td>\n",
       "      <td>Below is an instruction that describes a task....</td>\n",
       "    </tr>\n",
       "    <tr>\n",
       "      <th>1</th>\n",
       "      <td>What are the three primary colors?</td>\n",
       "      <td></td>\n",
       "      <td>The three primary colors are red, blue, and ye...</td>\n",
       "      <td>Below is an instruction that describes a task....</td>\n",
       "    </tr>\n",
       "    <tr>\n",
       "      <th>2</th>\n",
       "      <td>Describe the structure of an atom.</td>\n",
       "      <td></td>\n",
       "      <td>An atom is made up of a nucleus, which contain...</td>\n",
       "      <td>Below is an instruction that describes a task....</td>\n",
       "    </tr>\n",
       "    <tr>\n",
       "      <th>3</th>\n",
       "      <td>How can we reduce air pollution?</td>\n",
       "      <td></td>\n",
       "      <td>There are a number of ways to reduce air pollu...</td>\n",
       "      <td>Below is an instruction that describes a task....</td>\n",
       "    </tr>\n",
       "    <tr>\n",
       "      <th>4</th>\n",
       "      <td>Describe a time when you had to make a difficu...</td>\n",
       "      <td></td>\n",
       "      <td>I had to make a difficult decision when I was ...</td>\n",
       "      <td>Below is an instruction that describes a task....</td>\n",
       "    </tr>\n",
       "  </tbody>\n",
       "</table>\n",
       "</div>"
      ],
      "text/plain": [
       "                                         instruction input  \\\n",
       "0               Give three tips for staying healthy.         \n",
       "1                 What are the three primary colors?         \n",
       "2                 Describe the structure of an atom.         \n",
       "3                   How can we reduce air pollution?         \n",
       "4  Describe a time when you had to make a difficu...         \n",
       "\n",
       "                                              output  \\\n",
       "0  1.Eat a balanced diet and make sure to include...   \n",
       "1  The three primary colors are red, blue, and ye...   \n",
       "2  An atom is made up of a nucleus, which contain...   \n",
       "3  There are a number of ways to reduce air pollu...   \n",
       "4  I had to make a difficult decision when I was ...   \n",
       "\n",
       "                                                text  \n",
       "0  Below is an instruction that describes a task....  \n",
       "1  Below is an instruction that describes a task....  \n",
       "2  Below is an instruction that describes a task....  \n",
       "3  Below is an instruction that describes a task....  \n",
       "4  Below is an instruction that describes a task....  "
      ]
     },
     "metadata": {},
     "output_type": "display_data"
    }
   ],
   "source": [
    "pandas_format = train_dataset.to_pandas()\n",
    "display(pandas_format.head())"
   ]
  },
  {
   "cell_type": "code",
   "execution_count": 19,
   "id": "3105e431-3a98-41e2-bbb6-b1d1f242f220",
   "metadata": {},
   "outputs": [],
   "source": [
    "import textwrap\n"
   ]
  },
  {
   "cell_type": "code",
   "execution_count": 20,
   "id": "7df8756c-86dc-47d6-a3c9-efd1b013218c",
   "metadata": {
    "tags": []
   },
   "outputs": [
    {
     "name": "stdout",
     "output_type": "stream",
     "text": [
      "---------------------------------------------\n",
      "Instruction: Give three tips for staying healthy.\n",
      "Output: 1.Eat a balanced diet and make sure to include\n",
      "plenty of fruits and vegetables.  2. Exercise\n",
      "regularly to keep your body active and strong.  3.\n",
      "Get enough sleep and maintain a consistent sleep\n",
      "schedule.\n",
      "Text: Below is an instruction that describes a task.\n",
      "Write a response that appropriately completes the\n",
      "request.  ### Instruction: Give three tips for\n",
      "staying healthy.  ### Response: 1.Eat a balanced\n",
      "diet and make sure to include plenty of fruits and\n",
      "vegetables.  2. Exercise regularly to keep your\n",
      "body active and strong.  3. Get enough sleep and\n",
      "maintain a consistent sleep schedule.\n",
      "---------------------------------------------\n",
      "Instruction: What are the three primary colors?\n",
      "Output: The three primary colors are red, blue, and\n",
      "yellow.\n",
      "Text: Below is an instruction that describes a task.\n",
      "Write a response that appropriately completes the\n",
      "request.  ### Instruction: What are the three\n",
      "primary colors?  ### Response: The three primary\n",
      "colors are red, blue, and yellow.\n",
      "---------------------------------------------\n",
      "Instruction: Describe the structure of an atom.\n",
      "Output: An atom is made up of a nucleus, which contains\n",
      "protons and neutrons, surrounded by electrons that\n",
      "travel in orbits around the nucleus. The protons\n",
      "and neutrons have a positive charge, while the\n",
      "electrons have a negative charge, resulting in an\n",
      "overall neutral atom. The number of each particle\n",
      "determines the atomic number and the type of atom.\n",
      "Text: Below is an instruction that describes a task.\n",
      "Write a response that appropriately completes the\n",
      "request.  ### Instruction: Describe the structure\n",
      "of an atom.  ### Response: An atom is made up of a\n",
      "nucleus, which contains protons and neutrons,\n",
      "surrounded by electrons that travel in orbits\n",
      "around the nucleus. The protons and neutrons have\n",
      "a positive charge, while the electrons have a\n",
      "negative charge, resulting in an overall neutral\n",
      "atom. The number of each particle determines the\n",
      "atomic number and the type of atom.\n"
     ]
    }
   ],
   "source": [
    "for index in range(3):\n",
    "   print(\"---\"*15)\n",
    "   print(\"Instruction: {}\".format(textwrap.fill(pandas_format.iloc[index][\"instruction\"], width=50)))\n",
    "   print(\"Output: {}\".format(textwrap.fill(pandas_format.iloc[index][\"output\"], width=50)))\n",
    "   print(\"Text: {}\".format(textwrap.fill(pandas_format.iloc[index][\"text\"], width=50)))\n",
    "    "
   ]
  },
  {
   "cell_type": "code",
   "execution_count": null,
   "id": "ba0b541e-1162-44b9-8b8d-7585c5993727",
   "metadata": {
    "tags": []
   },
   "outputs": [
    {
     "data": {
      "application/vnd.jupyter.widget-view+json": {
       "model_id": "e2b45908de4148169537cfe399440a5d",
       "version_major": 2,
       "version_minor": 0
      },
      "text/plain": [
       "config.json:   0%|          | 0.00/510 [00:00<?, ?B/s]"
      ]
     },
     "metadata": {},
     "output_type": "display_data"
    },
    {
     "data": {
      "application/vnd.jupyter.widget-view+json": {
       "model_id": "e01b27b0cce6477ea01cb46b5da0544b",
       "version_major": 2,
       "version_minor": 0
      },
      "text/plain": [
       "pytorch_model.bin.index.json:   0%|          | 0.00/26.8k [00:00<?, ?B/s]"
      ]
     },
     "metadata": {},
     "output_type": "display_data"
    },
    {
     "data": {
      "application/vnd.jupyter.widget-view+json": {
       "model_id": "a04797d5216a4488814a2b14b7cb8a5b",
       "version_major": 2,
       "version_minor": 0
      },
      "text/plain": [
       "Downloading shards:   0%|          | 0/3 [00:00<?, ?it/s]"
      ]
     },
     "metadata": {},
     "output_type": "display_data"
    },
    {
     "data": {
      "application/vnd.jupyter.widget-view+json": {
       "model_id": "0bafe9805f8e4e83b0a0a1a2203d4220",
       "version_major": 2,
       "version_minor": 0
      },
      "text/plain": [
       "pytorch_model-00001-of-00003.bin:   0%|          | 0.00/9.95G [00:00<?, ?B/s]"
      ]
     },
     "metadata": {},
     "output_type": "display_data"
    }
   ],
   "source": [
    "pretrained_model_name = \"Salesforce/xgen-7b-8k-base\"\n",
    "model = AutoModelForCausalLM.from_pretrained(pretrained_model_name, torch_dtype=torch.bfloat16)\n",
    "tokenizer = AutoTokenizer.from_pretrained(pretrained_model_name, trust_remote_code=True)"
   ]
  },
  {
   "cell_type": "code",
   "execution_count": null,
   "id": "bd9ee124-3cdf-44d1-9e9a-86872f32ea73",
   "metadata": {},
   "outputs": [],
   "source": [
    "model_training_args = TrainingArguments(\n",
    "       output_dir=\"xgen-7b-8k-base-fine-tuned\",\n",
    "       per_device_train_batch_size=4,\n",
    "       optim=\"adamw_torch\",\n",
    "       logging_steps=80,\n",
    "       learning_rate=2e-4,\n",
    "       warmup_ratio=0.1,\n",
    "       lr_scheduler_type=\"linear\",\n",
    "       num_train_epochs=1,\n",
    "       save_strategy=\"epoch\"\n",
    "   )"
   ]
  },
  {
   "cell_type": "code",
   "execution_count": null,
   "id": "7e9147da-ed63-40c9-8986-231a6e8e59da",
   "metadata": {},
   "outputs": [],
   "source": [
    "import matplotlib.pyplot as plt\n",
    "\n",
    "\n",
    "pandas_format['text_length'] = pandas_format['text'].apply(len)\n",
    "\n",
    "\n",
    "plt.figure(figsize=(10,6))\n",
    "plt.hist(pandas_format['text_length'], bins=50, alpha=0.5, color='g')\n",
    "plt.title('Distribution of Length of Text')\n",
    "plt.xlabel('Length of Text')\n",
    "plt.ylabel('Frequency')\n",
    "plt.grid(True)\n",
    "plt.show()"
   ]
  },
  {
   "cell_type": "code",
   "execution_count": null,
   "id": "6210e60c-7bbc-45fb-90fc-519838ce28c0",
   "metadata": {},
   "outputs": [],
   "source": [
    "mask = pandas_format['text_length'] > 1024\n",
    "percentage = (mask.sum() / pandas_format['text_length'].count()) * 100\n",
    "\n",
    "\n",
    "print(f\"The percentage of text documents with a length greater than 1024 is: {percentage}%\")\n"
   ]
  },
  {
   "cell_type": "code",
   "execution_count": null,
   "id": "01fd1f72-2775-4e8a-8f33-d096a37298e4",
   "metadata": {},
   "outputs": [],
   "source": [
    "SFT_trainer = SFTTrainer(\n",
    "       model=model,\n",
    "       train_dataset=train_dataset,\n",
    "       dataset_text_field=\"text\",\n",
    "       max_seq_length=1024,\n",
    "       tokenizer=tokenizer,\n",
    "       args=model_training_args,\n",
    "       packing=True,\n",
    "       peft_config=lora_peft_config,\n",
    "   )"
   ]
  },
  {
   "cell_type": "code",
   "execution_count": null,
   "id": "d409b410-519f-4f9c-8701-a07c2a6efa99",
   "metadata": {},
   "outputs": [],
   "source": [
    "tokenizer.pad_token = tokenizer.eos_token\n",
    "model.resize_token_embeddings(len(tokenizer))\n",
    "model = prepare_model_for_int8_training(model)\n",
    "model = get_peft_model(model, lora_peft_config)\n",
    "training_args = model_training_args\n",
    "trainer = SFT_trainer\n",
    "trainer.train()"
   ]
  },
  {
   "cell_type": "code",
   "execution_count": null,
   "id": "2f640ad8-9c96-47fc-bf30-4a07d0cdfd07",
   "metadata": {},
   "outputs": [],
   "source": []
  }
 ],
 "metadata": {
  "kernelspec": {
   "display_name": "Python 3 (ipykernel)",
   "language": "python",
   "name": "python3"
  },
  "language_info": {
   "codemirror_mode": {
    "name": "ipython",
    "version": 3
   },
   "file_extension": ".py",
   "mimetype": "text/x-python",
   "name": "python",
   "nbconvert_exporter": "python",
   "pygments_lexer": "ipython3",
   "version": "3.11.7"
  }
 },
 "nbformat": 4,
 "nbformat_minor": 5
}
