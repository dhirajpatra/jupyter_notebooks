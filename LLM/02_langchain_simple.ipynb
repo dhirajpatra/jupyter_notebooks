{
 "cells": [
  {
   "cell_type": "markdown",
   "id": "0ffa8e4f",
   "metadata": {},
   "source": [
    "# Q&A with LangChain\n",
    "\n",
    "This notebook demonstrates how to use LangChain to build a chatbot that references a custom knowledge-base. \n",
    "\n",
    "Suppose you have some text documents (PDF, blog, Notion pages, etc.) and want to ask questions related to the contents of those documents. LLMs, given their proficiency in understanding text, are a great tool for this. \n",
    "\n",
    "### [LangChain](https://python.langchain.com/docs/get_started/introduction)\n",
    "[**LangChain**](https://python.langchain.com/docs/get_started/introduction) provides a simple framework for connecting LLMs to your own data sources. Since LLMs are both only trained up to a fixed point in time and do not contain knowledge that is proprietary to an Enterprise, they can't answer questions about new or proprietary knowledge. LangChain solves this problem.\n",
    "\n",
    "<div class=\"alert alert-block alert-info\">\n",
    "    \n",
    "⚠️ The notebook after this one, `03_llama_index_simple.ipynb`, contains the same functionality as this notebook but uses LlamaIndex instead of LangChain. Ultimately, we recommend reading about LangChain vs. LlamaIndex and picking the software/components of the software that makes the most sense to you. \n",
    "\n",
    "</div>"
   ]
  },
  {
   "cell_type": "markdown",
   "id": "65082404",
   "metadata": {},
   "source": [
    "![data_connection](./imgs/data_connection_langchain.jpeg)"
   ]
  },
  {
   "cell_type": "markdown",
   "id": "b0ea695d",
   "metadata": {},
   "source": [
    "### Step 1: Integrate TensorRT-LLM to LangChain [*(Connector)*](https://docs.llamaindex.ai/en/stable/examples/llm/nvidia_tensorrt.html)"
   ]
  },
  {
   "cell_type": "code",
   "execution_count": null,
   "id": "9ea214dd-8d7c-473e-a563-95f542354833",
   "metadata": {},
   "outputs": [
    {
     "name": "stdout",
     "output_type": "stream",
     "text": [
      "Requirement already satisfied: langchain_nvidia_trt in c:\\users\\dhira\\anaconda3\\lib\\site-packages (0.0.1rc0)\n",
      "Requirement already satisfied: langchain-core>=0.0.12 in c:\\users\\dhira\\anaconda3\\lib\\site-packages (from langchain_nvidia_trt) (0.2.5)\n",
      "Requirement already satisfied: lint<2.0.0,>=1.2.1 in c:\\users\\dhira\\anaconda3\\lib\\site-packages (from langchain_nvidia_trt) (1.2.1)\n",
      "Collecting protobuf<4.0.0,>=3.5.0 (from langchain_nvidia_trt)\n",
      "  Using cached protobuf-3.20.3-py2.py3-none-any.whl.metadata (720 bytes)\n",
      "Requirement already satisfied: tritonclient<3.0.0,>=2.40.0 in c:\\users\\dhira\\anaconda3\\lib\\site-packages (from tritonclient[all]<3.0.0,>=2.40.0->langchain_nvidia_trt) (2.46.0)\n",
      "Requirement already satisfied: types-protobuf<5.0.0.0,>=4.24.0.4 in c:\\users\\dhira\\anaconda3\\lib\\site-packages (from langchain_nvidia_trt) (4.25.0.20240417)\n",
      "Requirement already satisfied: PyYAML>=5.3 in c:\\users\\dhira\\anaconda3\\lib\\site-packages (from langchain-core>=0.0.12->langchain_nvidia_trt) (6.0.1)\n",
      "Requirement already satisfied: jsonpatch<2.0,>=1.33 in c:\\users\\dhira\\anaconda3\\lib\\site-packages (from langchain-core>=0.0.12->langchain_nvidia_trt) (1.33)\n",
      "Requirement already satisfied: langsmith<0.2.0,>=0.1.66 in c:\\users\\dhira\\anaconda3\\lib\\site-packages (from langchain-core>=0.0.12->langchain_nvidia_trt) (0.1.77)\n",
      "Requirement already satisfied: packaging<24.0,>=23.2 in c:\\users\\dhira\\anaconda3\\lib\\site-packages (from langchain-core>=0.0.12->langchain_nvidia_trt) (23.2)\n",
      "Requirement already satisfied: pydantic<3,>=1 in c:\\users\\dhira\\anaconda3\\lib\\site-packages (from langchain-core>=0.0.12->langchain_nvidia_trt) (1.10.12)\n",
      "Requirement already satisfied: tenacity<9.0.0,>=8.1.0 in c:\\users\\dhira\\anaconda3\\lib\\site-packages (from langchain-core>=0.0.12->langchain_nvidia_trt) (8.3.0)\n",
      "Requirement already satisfied: gitpython in c:\\users\\dhira\\anaconda3\\lib\\site-packages (from lint<2.0.0,>=1.2.1->langchain_nvidia_trt) (3.1.37)\n",
      "Requirement already satisfied: pylint in c:\\users\\dhira\\anaconda3\\lib\\site-packages (from lint<2.0.0,>=1.2.1->langchain_nvidia_trt) (2.16.2)\n",
      "Requirement already satisfied: numpy>=1.19.1 in c:\\users\\dhira\\anaconda3\\lib\\site-packages (from tritonclient<3.0.0,>=2.40.0->tritonclient[all]<3.0.0,>=2.40.0->langchain_nvidia_trt) (1.26.4)\n",
      "Requirement already satisfied: python-rapidjson>=0.9.1 in c:\\users\\dhira\\anaconda3\\lib\\site-packages (from tritonclient<3.0.0,>=2.40.0->tritonclient[all]<3.0.0,>=2.40.0->langchain_nvidia_trt) (1.17)\n",
      "Requirement already satisfied: urllib3>=2.0.7 in c:\\users\\dhira\\anaconda3\\lib\\site-packages (from tritonclient<3.0.0,>=2.40.0->tritonclient[all]<3.0.0,>=2.40.0->langchain_nvidia_trt) (2.0.7)\n",
      "Requirement already satisfied: grpcio>=1.41.0 in c:\\users\\dhira\\anaconda3\\lib\\site-packages (from tritonclient[all]<3.0.0,>=2.40.0->langchain_nvidia_trt) (1.60.0)\n",
      "Requirement already satisfied: aiohttp<4.0.0,>=3.8.1 in c:\\users\\dhira\\anaconda3\\lib\\site-packages (from tritonclient[all]<3.0.0,>=2.40.0->langchain_nvidia_trt) (3.9.3)\n",
      "Requirement already satisfied: geventhttpclient<=2.0.2,>=1.4.4 in c:\\users\\dhira\\anaconda3\\lib\\site-packages (from tritonclient[all]<3.0.0,>=2.40.0->langchain_nvidia_trt) (2.0.2)\n",
      "Requirement already satisfied: cuda-python in c:\\users\\dhira\\anaconda3\\lib\\site-packages (from tritonclient[all]<3.0.0,>=2.40.0->langchain_nvidia_trt) (12.5.0)\n",
      "Requirement already satisfied: aiosignal>=1.1.2 in c:\\users\\dhira\\anaconda3\\lib\\site-packages (from aiohttp<4.0.0,>=3.8.1->tritonclient[all]<3.0.0,>=2.40.0->langchain_nvidia_trt) (1.2.0)\n",
      "Requirement already satisfied: attrs>=17.3.0 in c:\\users\\dhira\\anaconda3\\lib\\site-packages (from aiohttp<4.0.0,>=3.8.1->tritonclient[all]<3.0.0,>=2.40.0->langchain_nvidia_trt) (23.1.0)\n",
      "Requirement already satisfied: frozenlist>=1.1.1 in c:\\users\\dhira\\anaconda3\\lib\\site-packages (from aiohttp<4.0.0,>=3.8.1->tritonclient[all]<3.0.0,>=2.40.0->langchain_nvidia_trt) (1.4.0)\n",
      "Requirement already satisfied: multidict<7.0,>=4.5 in c:\\users\\dhira\\anaconda3\\lib\\site-packages (from aiohttp<4.0.0,>=3.8.1->tritonclient[all]<3.0.0,>=2.40.0->langchain_nvidia_trt) (6.0.4)\n",
      "Requirement already satisfied: yarl<2.0,>=1.0 in c:\\users\\dhira\\anaconda3\\lib\\site-packages (from aiohttp<4.0.0,>=3.8.1->tritonclient[all]<3.0.0,>=2.40.0->langchain_nvidia_trt) (1.9.3)\n",
      "Requirement already satisfied: gevent>=0.13 in c:\\users\\dhira\\anaconda3\\lib\\site-packages (from geventhttpclient<=2.0.2,>=1.4.4->tritonclient[all]<3.0.0,>=2.40.0->langchain_nvidia_trt) (24.2.1)\n",
      "Requirement already satisfied: certifi in c:\\users\\dhira\\anaconda3\\lib\\site-packages (from geventhttpclient<=2.0.2,>=1.4.4->tritonclient[all]<3.0.0,>=2.40.0->langchain_nvidia_trt) (2024.6.2)\n",
      "Requirement already satisfied: six in c:\\users\\dhira\\anaconda3\\lib\\site-packages (from geventhttpclient<=2.0.2,>=1.4.4->tritonclient[all]<3.0.0,>=2.40.0->langchain_nvidia_trt) (1.16.0)\n",
      "Requirement already satisfied: brotli in c:\\users\\dhira\\anaconda3\\lib\\site-packages (from geventhttpclient<=2.0.2,>=1.4.4->tritonclient[all]<3.0.0,>=2.40.0->langchain_nvidia_trt) (1.0.9)\n",
      "Requirement already satisfied: jsonpointer>=1.9 in c:\\users\\dhira\\anaconda3\\lib\\site-packages (from jsonpatch<2.0,>=1.33->langchain-core>=0.0.12->langchain_nvidia_trt) (2.1)\n",
      "Requirement already satisfied: orjson<4.0.0,>=3.9.14 in c:\\users\\dhira\\anaconda3\\lib\\site-packages (from langsmith<0.2.0,>=0.1.66->langchain-core>=0.0.12->langchain_nvidia_trt) (3.10.4)\n",
      "Requirement already satisfied: requests<3,>=2 in c:\\users\\dhira\\anaconda3\\lib\\site-packages (from langsmith<0.2.0,>=0.1.66->langchain-core>=0.0.12->langchain_nvidia_trt) (2.32.3)\n",
      "Requirement already satisfied: typing-extensions>=4.2.0 in c:\\users\\dhira\\anaconda3\\lib\\site-packages (from pydantic<3,>=1->langchain-core>=0.0.12->langchain_nvidia_trt) (4.9.0)\n",
      "Requirement already satisfied: gitdb<5,>=4.0.1 in c:\\users\\dhira\\anaconda3\\lib\\site-packages (from gitpython->lint<2.0.0,>=1.2.1->langchain_nvidia_trt) (4.0.7)\n",
      "Requirement already satisfied: platformdirs>=2.2.0 in c:\\users\\dhira\\anaconda3\\lib\\site-packages (from pylint->lint<2.0.0,>=1.2.1->langchain_nvidia_trt) (3.10.0)\n",
      "Requirement already satisfied: astroid<=2.16.0-dev0,>=2.14.2 in c:\\users\\dhira\\anaconda3\\lib\\site-packages (from pylint->lint<2.0.0,>=1.2.1->langchain_nvidia_trt) (2.14.2)\n",
      "Requirement already satisfied: isort<6,>=4.2.5 in c:\\users\\dhira\\anaconda3\\lib\\site-packages (from pylint->lint<2.0.0,>=1.2.1->langchain_nvidia_trt) (5.9.3)\n",
      "Requirement already satisfied: mccabe<0.8,>=0.6 in c:\\users\\dhira\\anaconda3\\lib\\site-packages (from pylint->lint<2.0.0,>=1.2.1->langchain_nvidia_trt) (0.7.0)\n",
      "Requirement already satisfied: tomlkit>=0.10.1 in c:\\users\\dhira\\anaconda3\\lib\\site-packages (from pylint->lint<2.0.0,>=1.2.1->langchain_nvidia_trt) (0.11.1)\n",
      "Requirement already satisfied: dill>=0.3.6 in c:\\users\\dhira\\anaconda3\\lib\\site-packages (from pylint->lint<2.0.0,>=1.2.1->langchain_nvidia_trt) (0.3.8)\n",
      "Requirement already satisfied: colorama>=0.4.5 in c:\\users\\dhira\\anaconda3\\lib\\site-packages (from pylint->lint<2.0.0,>=1.2.1->langchain_nvidia_trt) (0.4.6)\n",
      "Requirement already satisfied: lazy-object-proxy>=1.4.0 in c:\\users\\dhira\\anaconda3\\lib\\site-packages (from astroid<=2.16.0-dev0,>=2.14.2->pylint->lint<2.0.0,>=1.2.1->langchain_nvidia_trt) (1.6.0)\n",
      "Requirement already satisfied: wrapt<2,>=1.14 in c:\\users\\dhira\\anaconda3\\lib\\site-packages (from astroid<=2.16.0-dev0,>=2.14.2->pylint->lint<2.0.0,>=1.2.1->langchain_nvidia_trt) (1.14.1)\n",
      "Requirement already satisfied: zope.event in c:\\users\\dhira\\anaconda3\\lib\\site-packages (from gevent>=0.13->geventhttpclient<=2.0.2,>=1.4.4->tritonclient[all]<3.0.0,>=2.40.0->langchain_nvidia_trt) (5.0)\n",
      "Requirement already satisfied: zope.interface in c:\\users\\dhira\\anaconda3\\lib\\site-packages (from gevent>=0.13->geventhttpclient<=2.0.2,>=1.4.4->tritonclient[all]<3.0.0,>=2.40.0->langchain_nvidia_trt) (5.4.0)\n",
      "Requirement already satisfied: greenlet>=3.0rc3 in c:\\users\\dhira\\anaconda3\\lib\\site-packages (from gevent>=0.13->geventhttpclient<=2.0.2,>=1.4.4->tritonclient[all]<3.0.0,>=2.40.0->langchain_nvidia_trt) (3.0.1)\n",
      "Requirement already satisfied: cffi>=1.12.2 in c:\\users\\dhira\\anaconda3\\lib\\site-packages (from gevent>=0.13->geventhttpclient<=2.0.2,>=1.4.4->tritonclient[all]<3.0.0,>=2.40.0->langchain_nvidia_trt) (1.16.0)\n",
      "Requirement already satisfied: smmap<5,>=3.0.1 in c:\\users\\dhira\\anaconda3\\lib\\site-packages (from gitdb<5,>=4.0.1->gitpython->lint<2.0.0,>=1.2.1->langchain_nvidia_trt) (4.0.0)\n",
      "Requirement already satisfied: charset-normalizer<4,>=2 in c:\\users\\dhira\\anaconda3\\lib\\site-packages (from requests<3,>=2->langsmith<0.2.0,>=0.1.66->langchain-core>=0.0.12->langchain_nvidia_trt) (3.3.2)\n",
      "Requirement already satisfied: idna<4,>=2.5 in c:\\users\\dhira\\anaconda3\\lib\\site-packages (from requests<3,>=2->langsmith<0.2.0,>=0.1.66->langchain-core>=0.0.12->langchain_nvidia_trt) (3.4)\n",
      "Requirement already satisfied: pycparser in c:\\users\\dhira\\anaconda3\\lib\\site-packages (from cffi>=1.12.2->gevent>=0.13->geventhttpclient<=2.0.2,>=1.4.4->tritonclient[all]<3.0.0,>=2.40.0->langchain_nvidia_trt) (2.21)\n",
      "Requirement already satisfied: setuptools in c:\\users\\dhira\\anaconda3\\lib\\site-packages (from zope.event->gevent>=0.13->geventhttpclient<=2.0.2,>=1.4.4->tritonclient[all]<3.0.0,>=2.40.0->langchain_nvidia_trt) (68.2.2)\n",
      "Using cached protobuf-3.20.3-py2.py3-none-any.whl (162 kB)\n",
      "Installing collected packages: protobuf\n",
      "  Attempting uninstall: protobuf\n",
      "    Found existing installation: protobuf 4.25.3\n",
      "    Uninstalling protobuf-4.25.3:\n",
      "      Successfully uninstalled protobuf-4.25.3\n",
      "Successfully installed protobuf-3.20.3\n"
     ]
    },
    {
     "name": "stderr",
     "output_type": "stream",
     "text": [
      "  WARNING: Failed to remove contents in a temporary directory 'C:\\Users\\dhira\\anaconda3\\Lib\\site-packages\\google\\~upb'.\n",
      "  You can safely remove it manually.\n",
      "ERROR: pip's dependency resolver does not currently take into account all the packages that are installed. This behaviour is the source of the following dependency conflicts.\n",
      "grpcio-status 1.62.2 requires grpcio>=1.62.2, but you have grpcio 1.60.0 which is incompatible.\n",
      "grpcio-status 1.62.2 requires protobuf>=4.21.6, but you have protobuf 3.20.3 which is incompatible.\n"
     ]
    },
    {
     "name": "stdout",
     "output_type": "stream",
     "text": [
      "Requirement already satisfied: tqdm in c:\\users\\dhira\\anaconda3\\lib\\site-packages (4.65.0)\n",
      "Requirement already satisfied: transformers in c:\\users\\dhira\\anaconda3\\lib\\site-packages (4.41.2)\n",
      "Requirement already satisfied: spacy in c:\\users\\dhira\\anaconda3\\lib\\site-packages (3.7.5)\n",
      "Requirement already satisfied: datasets in c:\\users\\dhira\\anaconda3\\lib\\site-packages (2.19.2)\n",
      "Requirement already satisfied: langchain_text_splitters in c:\\users\\dhira\\anaconda3\\lib\\site-packages (0.2.1)\n",
      "Requirement already satisfied: langchain-chroma in c:\\users\\dhira\\anaconda3\\lib\\site-packages (0.1.1)\n",
      "Requirement already satisfied: sentence_transformers in c:\\users\\dhira\\anaconda3\\lib\\site-packages (3.0.1)\n",
      "Requirement already satisfied: colorama in c:\\users\\dhira\\anaconda3\\lib\\site-packages (from tqdm) (0.4.6)\n",
      "Requirement already satisfied: filelock in c:\\users\\dhira\\anaconda3\\lib\\site-packages (from transformers) (3.13.1)\n",
      "Requirement already satisfied: huggingface-hub<1.0,>=0.23.0 in c:\\users\\dhira\\anaconda3\\lib\\site-packages (from transformers) (0.23.3)\n",
      "Requirement already satisfied: numpy>=1.17 in c:\\users\\dhira\\anaconda3\\lib\\site-packages (from transformers) (1.26.4)\n",
      "Requirement already satisfied: packaging>=20.0 in c:\\users\\dhira\\anaconda3\\lib\\site-packages (from transformers) (23.2)\n",
      "Requirement already satisfied: pyyaml>=5.1 in c:\\users\\dhira\\anaconda3\\lib\\site-packages (from transformers) (6.0.1)\n",
      "Requirement already satisfied: regex!=2019.12.17 in c:\\users\\dhira\\anaconda3\\lib\\site-packages (from transformers) (2023.10.3)\n",
      "Requirement already satisfied: requests in c:\\users\\dhira\\anaconda3\\lib\\site-packages (from transformers) (2.32.3)\n",
      "Requirement already satisfied: tokenizers<0.20,>=0.19 in c:\\users\\dhira\\anaconda3\\lib\\site-packages (from transformers) (0.19.1)\n",
      "Requirement already satisfied: safetensors>=0.4.1 in c:\\users\\dhira\\anaconda3\\lib\\site-packages (from transformers) (0.4.3)\n",
      "Requirement already satisfied: spacy-legacy<3.1.0,>=3.0.11 in c:\\users\\dhira\\anaconda3\\lib\\site-packages (from spacy) (3.0.12)\n",
      "Requirement already satisfied: spacy-loggers<2.0.0,>=1.0.0 in c:\\users\\dhira\\anaconda3\\lib\\site-packages (from spacy) (1.0.5)\n",
      "Requirement already satisfied: murmurhash<1.1.0,>=0.28.0 in c:\\users\\dhira\\anaconda3\\lib\\site-packages (from spacy) (1.0.10)\n",
      "Requirement already satisfied: cymem<2.1.0,>=2.0.2 in c:\\users\\dhira\\anaconda3\\lib\\site-packages (from spacy) (2.0.8)\n",
      "Requirement already satisfied: preshed<3.1.0,>=3.0.2 in c:\\users\\dhira\\anaconda3\\lib\\site-packages (from spacy) (3.0.9)\n",
      "Requirement already satisfied: thinc<8.3.0,>=8.2.2 in c:\\users\\dhira\\anaconda3\\lib\\site-packages (from spacy) (8.2.4)\n",
      "Requirement already satisfied: wasabi<1.2.0,>=0.9.1 in c:\\users\\dhira\\anaconda3\\lib\\site-packages (from spacy) (1.1.3)\n",
      "Requirement already satisfied: srsly<3.0.0,>=2.4.3 in c:\\users\\dhira\\anaconda3\\lib\\site-packages (from spacy) (2.4.8)\n",
      "Requirement already satisfied: catalogue<2.1.0,>=2.0.6 in c:\\users\\dhira\\anaconda3\\lib\\site-packages (from spacy) (2.0.10)\n",
      "Requirement already satisfied: weasel<0.5.0,>=0.1.0 in c:\\users\\dhira\\anaconda3\\lib\\site-packages (from spacy) (0.4.1)\n",
      "Requirement already satisfied: typer<1.0.0,>=0.3.0 in c:\\users\\dhira\\anaconda3\\lib\\site-packages (from spacy) (0.12.3)\n",
      "Requirement already satisfied: pydantic!=1.8,!=1.8.1,<3.0.0,>=1.7.4 in c:\\users\\dhira\\anaconda3\\lib\\site-packages (from spacy) (1.10.12)\n",
      "Requirement already satisfied: jinja2 in c:\\users\\dhira\\anaconda3\\lib\\site-packages (from spacy) (3.1.3)\n",
      "Requirement already satisfied: setuptools in c:\\users\\dhira\\anaconda3\\lib\\site-packages (from spacy) (68.2.2)\n",
      "Requirement already satisfied: langcodes<4.0.0,>=3.2.0 in c:\\users\\dhira\\anaconda3\\lib\\site-packages (from spacy) (3.4.0)\n",
      "Requirement already satisfied: pyarrow>=12.0.0 in c:\\users\\dhira\\anaconda3\\lib\\site-packages (from datasets) (14.0.2)\n",
      "Requirement already satisfied: pyarrow-hotfix in c:\\users\\dhira\\anaconda3\\lib\\site-packages (from datasets) (0.6)\n",
      "Requirement already satisfied: dill<0.3.9,>=0.3.0 in c:\\users\\dhira\\anaconda3\\lib\\site-packages (from datasets) (0.3.8)\n",
      "Requirement already satisfied: pandas in c:\\users\\dhira\\anaconda3\\lib\\site-packages (from datasets) (2.1.4)\n",
      "Requirement already satisfied: xxhash in c:\\users\\dhira\\anaconda3\\lib\\site-packages (from datasets) (3.4.1)\n",
      "Requirement already satisfied: multiprocess in c:\\users\\dhira\\anaconda3\\lib\\site-packages (from datasets) (0.70.16)\n",
      "Requirement already satisfied: fsspec<=2024.3.1,>=2023.1.0 in c:\\users\\dhira\\anaconda3\\lib\\site-packages (from fsspec[http]<=2024.3.1,>=2023.1.0->datasets) (2023.10.0)\n",
      "Requirement already satisfied: aiohttp in c:\\users\\dhira\\anaconda3\\lib\\site-packages (from datasets) (3.9.3)\n",
      "Requirement already satisfied: langchain-core<0.3.0,>=0.2.0 in c:\\users\\dhira\\anaconda3\\lib\\site-packages (from langchain_text_splitters) (0.2.5)\n",
      "Requirement already satisfied: chromadb<0.6.0,>=0.4.0 in c:\\users\\dhira\\anaconda3\\lib\\site-packages (from langchain-chroma) (0.5.0)\n",
      "Requirement already satisfied: fastapi<1,>=0.95.2 in c:\\users\\dhira\\anaconda3\\lib\\site-packages (from langchain-chroma) (0.111.0)\n",
      "Requirement already satisfied: torch>=1.11.0 in c:\\users\\dhira\\anaconda3\\lib\\site-packages (from sentence_transformers) (2.3.1)\n",
      "Requirement already satisfied: scikit-learn in c:\\users\\dhira\\anaconda3\\lib\\site-packages (from sentence_transformers) (1.2.2)\n",
      "Requirement already satisfied: scipy in c:\\users\\dhira\\anaconda3\\lib\\site-packages (from sentence_transformers) (1.11.4)\n",
      "Requirement already satisfied: Pillow in c:\\users\\dhira\\anaconda3\\lib\\site-packages (from sentence_transformers) (10.2.0)\n",
      "Requirement already satisfied: build>=1.0.3 in c:\\users\\dhira\\anaconda3\\lib\\site-packages (from chromadb<0.6.0,>=0.4.0->langchain-chroma) (1.2.1)\n",
      "Requirement already satisfied: chroma-hnswlib==0.7.3 in c:\\users\\dhira\\anaconda3\\lib\\site-packages (from chromadb<0.6.0,>=0.4.0->langchain-chroma) (0.7.3)\n",
      "Requirement already satisfied: uvicorn>=0.18.3 in c:\\users\\dhira\\anaconda3\\lib\\site-packages (from uvicorn[standard]>=0.18.3->chromadb<0.6.0,>=0.4.0->langchain-chroma) (0.30.1)\n",
      "Requirement already satisfied: posthog>=2.4.0 in c:\\users\\dhira\\anaconda3\\lib\\site-packages (from chromadb<0.6.0,>=0.4.0->langchain-chroma) (3.5.0)\n",
      "Requirement already satisfied: typing-extensions>=4.5.0 in c:\\users\\dhira\\anaconda3\\lib\\site-packages (from chromadb<0.6.0,>=0.4.0->langchain-chroma) (4.9.0)\n",
      "Requirement already satisfied: onnxruntime>=1.14.1 in c:\\users\\dhira\\anaconda3\\lib\\site-packages (from chromadb<0.6.0,>=0.4.0->langchain-chroma) (1.18.0)\n",
      "Requirement already satisfied: opentelemetry-api>=1.2.0 in c:\\users\\dhira\\anaconda3\\lib\\site-packages (from chromadb<0.6.0,>=0.4.0->langchain-chroma) (1.25.0)\n",
      "Requirement already satisfied: opentelemetry-exporter-otlp-proto-grpc>=1.2.0 in c:\\users\\dhira\\anaconda3\\lib\\site-packages (from chromadb<0.6.0,>=0.4.0->langchain-chroma) (1.25.0)\n",
      "Requirement already satisfied: opentelemetry-instrumentation-fastapi>=0.41b0 in c:\\users\\dhira\\anaconda3\\lib\\site-packages (from chromadb<0.6.0,>=0.4.0->langchain-chroma) (0.46b0)\n",
      "Requirement already satisfied: opentelemetry-sdk>=1.2.0 in c:\\users\\dhira\\anaconda3\\lib\\site-packages (from chromadb<0.6.0,>=0.4.0->langchain-chroma) (1.25.0)\n",
      "Requirement already satisfied: pypika>=0.48.9 in c:\\users\\dhira\\anaconda3\\lib\\site-packages (from chromadb<0.6.0,>=0.4.0->langchain-chroma) (0.48.9)\n",
      "Requirement already satisfied: overrides>=7.3.1 in c:\\users\\dhira\\anaconda3\\lib\\site-packages (from chromadb<0.6.0,>=0.4.0->langchain-chroma) (7.4.0)\n",
      "Requirement already satisfied: importlib-resources in c:\\users\\dhira\\anaconda3\\lib\\site-packages (from chromadb<0.6.0,>=0.4.0->langchain-chroma) (6.4.0)\n",
      "Requirement already satisfied: grpcio>=1.58.0 in c:\\users\\dhira\\anaconda3\\lib\\site-packages (from chromadb<0.6.0,>=0.4.0->langchain-chroma) (1.60.0)\n",
      "Requirement already satisfied: bcrypt>=4.0.1 in c:\\users\\dhira\\anaconda3\\lib\\site-packages (from chromadb<0.6.0,>=0.4.0->langchain-chroma) (4.1.3)\n",
      "Requirement already satisfied: kubernetes>=28.1.0 in c:\\users\\dhira\\anaconda3\\lib\\site-packages (from chromadb<0.6.0,>=0.4.0->langchain-chroma) (30.1.0)\n",
      "Requirement already satisfied: tenacity>=8.2.3 in c:\\users\\dhira\\anaconda3\\lib\\site-packages (from chromadb<0.6.0,>=0.4.0->langchain-chroma) (8.3.0)\n",
      "Requirement already satisfied: mmh3>=4.0.1 in c:\\users\\dhira\\anaconda3\\lib\\site-packages (from chromadb<0.6.0,>=0.4.0->langchain-chroma) (4.1.0)\n",
      "Requirement already satisfied: orjson>=3.9.12 in c:\\users\\dhira\\anaconda3\\lib\\site-packages (from chromadb<0.6.0,>=0.4.0->langchain-chroma) (3.10.4)\n",
      "Requirement already satisfied: starlette<0.38.0,>=0.37.2 in c:\\users\\dhira\\anaconda3\\lib\\site-packages (from fastapi<1,>=0.95.2->langchain-chroma) (0.37.2)\n",
      "Requirement already satisfied: fastapi-cli>=0.0.2 in c:\\users\\dhira\\anaconda3\\lib\\site-packages (from fastapi<1,>=0.95.2->langchain-chroma) (0.0.4)\n",
      "Requirement already satisfied: httpx>=0.23.0 in c:\\users\\dhira\\anaconda3\\lib\\site-packages (from fastapi<1,>=0.95.2->langchain-chroma) (0.27.0)\n",
      "Requirement already satisfied: python-multipart>=0.0.7 in c:\\users\\dhira\\anaconda3\\lib\\site-packages (from fastapi<1,>=0.95.2->langchain-chroma) (0.0.9)\n",
      "Requirement already satisfied: ujson!=4.0.2,!=4.1.0,!=4.2.0,!=4.3.0,!=5.0.0,!=5.1.0,>=4.0.1 in c:\\users\\dhira\\anaconda3\\lib\\site-packages (from fastapi<1,>=0.95.2->langchain-chroma) (5.4.0)\n",
      "Requirement already satisfied: email_validator>=2.0.0 in c:\\users\\dhira\\anaconda3\\lib\\site-packages (from fastapi<1,>=0.95.2->langchain-chroma) (2.1.1)\n",
      "Requirement already satisfied: aiosignal>=1.1.2 in c:\\users\\dhira\\anaconda3\\lib\\site-packages (from aiohttp->datasets) (1.2.0)\n",
      "Requirement already satisfied: attrs>=17.3.0 in c:\\users\\dhira\\anaconda3\\lib\\site-packages (from aiohttp->datasets) (23.1.0)\n",
      "Requirement already satisfied: frozenlist>=1.1.1 in c:\\users\\dhira\\anaconda3\\lib\\site-packages (from aiohttp->datasets) (1.4.0)\n",
      "Requirement already satisfied: multidict<7.0,>=4.5 in c:\\users\\dhira\\anaconda3\\lib\\site-packages (from aiohttp->datasets) (6.0.4)\n",
      "Requirement already satisfied: yarl<2.0,>=1.0 in c:\\users\\dhira\\anaconda3\\lib\\site-packages (from aiohttp->datasets) (1.9.3)\n",
      "Requirement already satisfied: MarkupSafe>=2.0 in c:\\users\\dhira\\anaconda3\\lib\\site-packages (from jinja2->spacy) (2.1.3)\n",
      "Requirement already satisfied: jsonpatch<2.0,>=1.33 in c:\\users\\dhira\\anaconda3\\lib\\site-packages (from langchain-core<0.3.0,>=0.2.0->langchain_text_splitters) (1.33)\n",
      "Requirement already satisfied: langsmith<0.2.0,>=0.1.66 in c:\\users\\dhira\\anaconda3\\lib\\site-packages (from langchain-core<0.3.0,>=0.2.0->langchain_text_splitters) (0.1.77)\n",
      "Requirement already satisfied: language-data>=1.2 in c:\\users\\dhira\\anaconda3\\lib\\site-packages (from langcodes<4.0.0,>=3.2.0->spacy) (1.2.0)\n",
      "Requirement already satisfied: charset-normalizer<4,>=2 in c:\\users\\dhira\\anaconda3\\lib\\site-packages (from requests->transformers) (3.3.2)\n",
      "Requirement already satisfied: idna<4,>=2.5 in c:\\users\\dhira\\anaconda3\\lib\\site-packages (from requests->transformers) (3.4)\n",
      "Requirement already satisfied: urllib3<3,>=1.21.1 in c:\\users\\dhira\\anaconda3\\lib\\site-packages (from requests->transformers) (2.0.7)\n",
      "Requirement already satisfied: certifi>=2017.4.17 in c:\\users\\dhira\\anaconda3\\lib\\site-packages (from requests->transformers) (2024.6.2)\n",
      "Requirement already satisfied: blis<0.8.0,>=0.7.8 in c:\\users\\dhira\\anaconda3\\lib\\site-packages (from thinc<8.3.0,>=8.2.2->spacy) (0.7.11)\n",
      "Requirement already satisfied: confection<1.0.0,>=0.0.1 in c:\\users\\dhira\\anaconda3\\lib\\site-packages (from thinc<8.3.0,>=8.2.2->spacy) (0.1.5)\n",
      "Requirement already satisfied: sympy in c:\\users\\dhira\\anaconda3\\lib\\site-packages (from torch>=1.11.0->sentence_transformers) (1.12)\n",
      "Requirement already satisfied: networkx in c:\\users\\dhira\\anaconda3\\lib\\site-packages (from torch>=1.11.0->sentence_transformers) (3.1)\n",
      "Requirement already satisfied: mkl<=2021.4.0,>=2021.1.1 in c:\\users\\dhira\\anaconda3\\lib\\site-packages (from torch>=1.11.0->sentence_transformers) (2021.4.0)\n",
      "Requirement already satisfied: click>=8.0.0 in c:\\users\\dhira\\anaconda3\\lib\\site-packages (from typer<1.0.0,>=0.3.0->spacy) (8.1.7)\n",
      "Requirement already satisfied: shellingham>=1.3.0 in c:\\users\\dhira\\anaconda3\\lib\\site-packages (from typer<1.0.0,>=0.3.0->spacy) (1.5.4)\n",
      "Requirement already satisfied: rich>=10.11.0 in c:\\users\\dhira\\anaconda3\\lib\\site-packages (from typer<1.0.0,>=0.3.0->spacy) (13.3.5)\n",
      "Requirement already satisfied: cloudpathlib<1.0.0,>=0.7.0 in c:\\users\\dhira\\anaconda3\\lib\\site-packages (from weasel<0.5.0,>=0.1.0->spacy) (0.18.1)\n",
      "Requirement already satisfied: smart-open<8.0.0,>=5.2.1 in c:\\users\\dhira\\anaconda3\\lib\\site-packages (from weasel<0.5.0,>=0.1.0->spacy) (5.2.1)\n",
      "Requirement already satisfied: python-dateutil>=2.8.2 in c:\\users\\dhira\\anaconda3\\lib\\site-packages (from pandas->datasets) (2.8.2)\n",
      "Requirement already satisfied: pytz>=2020.1 in c:\\users\\dhira\\anaconda3\\lib\\site-packages (from pandas->datasets) (2023.3.post1)\n",
      "Requirement already satisfied: tzdata>=2022.1 in c:\\users\\dhira\\anaconda3\\lib\\site-packages (from pandas->datasets) (2023.3)\n",
      "Requirement already satisfied: joblib>=1.1.1 in c:\\users\\dhira\\anaconda3\\lib\\site-packages (from scikit-learn->sentence_transformers) (1.2.0)\n",
      "Requirement already satisfied: threadpoolctl>=2.0.0 in c:\\users\\dhira\\anaconda3\\lib\\site-packages (from scikit-learn->sentence_transformers) (2.2.0)\n",
      "Requirement already satisfied: pyproject_hooks in c:\\users\\dhira\\anaconda3\\lib\\site-packages (from build>=1.0.3->chromadb<0.6.0,>=0.4.0->langchain-chroma) (1.1.0)\n",
      "Requirement already satisfied: dnspython>=2.0.0 in c:\\users\\dhira\\anaconda3\\lib\\site-packages (from email_validator>=2.0.0->fastapi<1,>=0.95.2->langchain-chroma) (2.6.1)\n",
      "Requirement already satisfied: anyio in c:\\users\\dhira\\anaconda3\\lib\\site-packages (from httpx>=0.23.0->fastapi<1,>=0.95.2->langchain-chroma) (4.2.0)\n",
      "Requirement already satisfied: httpcore==1.* in c:\\users\\dhira\\anaconda3\\lib\\site-packages (from httpx>=0.23.0->fastapi<1,>=0.95.2->langchain-chroma) (1.0.5)\n",
      "Requirement already satisfied: sniffio in c:\\users\\dhira\\anaconda3\\lib\\site-packages (from httpx>=0.23.0->fastapi<1,>=0.95.2->langchain-chroma) (1.3.0)\n",
      "Requirement already satisfied: h11<0.15,>=0.13 in c:\\users\\dhira\\anaconda3\\lib\\site-packages (from httpcore==1.*->httpx>=0.23.0->fastapi<1,>=0.95.2->langchain-chroma) (0.14.0)\n",
      "Requirement already satisfied: jsonpointer>=1.9 in c:\\users\\dhira\\anaconda3\\lib\\site-packages (from jsonpatch<2.0,>=1.33->langchain-core<0.3.0,>=0.2.0->langchain_text_splitters) (2.1)\n",
      "Requirement already satisfied: six>=1.9.0 in c:\\users\\dhira\\anaconda3\\lib\\site-packages (from kubernetes>=28.1.0->chromadb<0.6.0,>=0.4.0->langchain-chroma) (1.16.0)\n",
      "Requirement already satisfied: google-auth>=1.0.1 in c:\\users\\dhira\\anaconda3\\lib\\site-packages (from kubernetes>=28.1.0->chromadb<0.6.0,>=0.4.0->langchain-chroma) (2.30.0)\n",
      "Requirement already satisfied: websocket-client!=0.40.0,!=0.41.*,!=0.42.*,>=0.32.0 in c:\\users\\dhira\\anaconda3\\lib\\site-packages (from kubernetes>=28.1.0->chromadb<0.6.0,>=0.4.0->langchain-chroma) (0.58.0)\n",
      "Requirement already satisfied: requests-oauthlib in c:\\users\\dhira\\anaconda3\\lib\\site-packages (from kubernetes>=28.1.0->chromadb<0.6.0,>=0.4.0->langchain-chroma) (2.0.0)\n",
      "Requirement already satisfied: oauthlib>=3.2.2 in c:\\users\\dhira\\anaconda3\\lib\\site-packages (from kubernetes>=28.1.0->chromadb<0.6.0,>=0.4.0->langchain-chroma) (3.2.2)\n",
      "Requirement already satisfied: marisa-trie>=0.7.7 in c:\\users\\dhira\\anaconda3\\lib\\site-packages (from language-data>=1.2->langcodes<4.0.0,>=3.2.0->spacy) (1.2.0)\n",
      "Requirement already satisfied: intel-openmp==2021.* in c:\\users\\dhira\\anaconda3\\lib\\site-packages (from mkl<=2021.4.0,>=2021.1.1->torch>=1.11.0->sentence_transformers) (2021.4.0)\n",
      "Requirement already satisfied: tbb==2021.* in c:\\users\\dhira\\anaconda3\\lib\\site-packages (from mkl<=2021.4.0,>=2021.1.1->torch>=1.11.0->sentence_transformers) (2021.12.0)\n",
      "Requirement already satisfied: coloredlogs in c:\\users\\dhira\\anaconda3\\lib\\site-packages (from onnxruntime>=1.14.1->chromadb<0.6.0,>=0.4.0->langchain-chroma) (15.0.1)\n",
      "Requirement already satisfied: flatbuffers in c:\\users\\dhira\\anaconda3\\lib\\site-packages (from onnxruntime>=1.14.1->chromadb<0.6.0,>=0.4.0->langchain-chroma) (24.3.25)\n",
      "Requirement already satisfied: protobuf in c:\\users\\dhira\\anaconda3\\lib\\site-packages (from onnxruntime>=1.14.1->chromadb<0.6.0,>=0.4.0->langchain-chroma) (3.20.3)\n",
      "Requirement already satisfied: deprecated>=1.2.6 in c:\\users\\dhira\\anaconda3\\lib\\site-packages (from opentelemetry-api>=1.2.0->chromadb<0.6.0,>=0.4.0->langchain-chroma) (1.2.14)\n",
      "Requirement already satisfied: importlib-metadata<=7.1,>=6.0 in c:\\users\\dhira\\anaconda3\\lib\\site-packages (from opentelemetry-api>=1.2.0->chromadb<0.6.0,>=0.4.0->langchain-chroma) (7.0.1)\n",
      "Requirement already satisfied: googleapis-common-protos~=1.52 in c:\\users\\dhira\\anaconda3\\lib\\site-packages (from opentelemetry-exporter-otlp-proto-grpc>=1.2.0->chromadb<0.6.0,>=0.4.0->langchain-chroma) (1.63.1)\n",
      "Requirement already satisfied: opentelemetry-exporter-otlp-proto-common==1.25.0 in c:\\users\\dhira\\anaconda3\\lib\\site-packages (from opentelemetry-exporter-otlp-proto-grpc>=1.2.0->chromadb<0.6.0,>=0.4.0->langchain-chroma) (1.25.0)\n",
      "Requirement already satisfied: opentelemetry-proto==1.25.0 in c:\\users\\dhira\\anaconda3\\lib\\site-packages (from opentelemetry-exporter-otlp-proto-grpc>=1.2.0->chromadb<0.6.0,>=0.4.0->langchain-chroma) (1.25.0)\n",
      "Requirement already satisfied: opentelemetry-instrumentation-asgi==0.46b0 in c:\\users\\dhira\\anaconda3\\lib\\site-packages (from opentelemetry-instrumentation-fastapi>=0.41b0->chromadb<0.6.0,>=0.4.0->langchain-chroma) (0.46b0)\n",
      "Requirement already satisfied: opentelemetry-instrumentation==0.46b0 in c:\\users\\dhira\\anaconda3\\lib\\site-packages (from opentelemetry-instrumentation-fastapi>=0.41b0->chromadb<0.6.0,>=0.4.0->langchain-chroma) (0.46b0)\n",
      "Requirement already satisfied: opentelemetry-semantic-conventions==0.46b0 in c:\\users\\dhira\\anaconda3\\lib\\site-packages (from opentelemetry-instrumentation-fastapi>=0.41b0->chromadb<0.6.0,>=0.4.0->langchain-chroma) (0.46b0)\n",
      "Requirement already satisfied: opentelemetry-util-http==0.46b0 in c:\\users\\dhira\\anaconda3\\lib\\site-packages (from opentelemetry-instrumentation-fastapi>=0.41b0->chromadb<0.6.0,>=0.4.0->langchain-chroma) (0.46b0)\n",
      "Requirement already satisfied: wrapt<2.0.0,>=1.0.0 in c:\\users\\dhira\\anaconda3\\lib\\site-packages (from opentelemetry-instrumentation==0.46b0->opentelemetry-instrumentation-fastapi>=0.41b0->chromadb<0.6.0,>=0.4.0->langchain-chroma) (1.14.1)\n",
      "Requirement already satisfied: asgiref~=3.0 in c:\\users\\dhira\\anaconda3\\lib\\site-packages (from opentelemetry-instrumentation-asgi==0.46b0->opentelemetry-instrumentation-fastapi>=0.41b0->chromadb<0.6.0,>=0.4.0->langchain-chroma) (3.8.1)\n",
      "Requirement already satisfied: monotonic>=1.5 in c:\\users\\dhira\\anaconda3\\lib\\site-packages (from posthog>=2.4.0->chromadb<0.6.0,>=0.4.0->langchain-chroma) (1.6)\n",
      "Requirement already satisfied: backoff>=1.10.0 in c:\\users\\dhira\\anaconda3\\lib\\site-packages (from posthog>=2.4.0->chromadb<0.6.0,>=0.4.0->langchain-chroma) (2.2.1)\n",
      "Requirement already satisfied: markdown-it-py<3.0.0,>=2.2.0 in c:\\users\\dhira\\anaconda3\\lib\\site-packages (from rich>=10.11.0->typer<1.0.0,>=0.3.0->spacy) (2.2.0)\n",
      "Requirement already satisfied: pygments<3.0.0,>=2.13.0 in c:\\users\\dhira\\anaconda3\\lib\\site-packages (from rich>=10.11.0->typer<1.0.0,>=0.3.0->spacy) (2.15.1)\n",
      "Requirement already satisfied: httptools>=0.5.0 in c:\\users\\dhira\\anaconda3\\lib\\site-packages (from uvicorn[standard]>=0.18.3->chromadb<0.6.0,>=0.4.0->langchain-chroma) (0.6.1)\n",
      "Requirement already satisfied: python-dotenv>=0.13 in c:\\users\\dhira\\anaconda3\\lib\\site-packages (from uvicorn[standard]>=0.18.3->chromadb<0.6.0,>=0.4.0->langchain-chroma) (0.21.0)\n",
      "Requirement already satisfied: watchfiles>=0.13 in c:\\users\\dhira\\anaconda3\\lib\\site-packages (from uvicorn[standard]>=0.18.3->chromadb<0.6.0,>=0.4.0->langchain-chroma) (0.22.0)\n",
      "Requirement already satisfied: websockets>=10.4 in c:\\users\\dhira\\anaconda3\\lib\\site-packages (from uvicorn[standard]>=0.18.3->chromadb<0.6.0,>=0.4.0->langchain-chroma) (12.0)\n",
      "Requirement already satisfied: mpmath>=0.19 in c:\\users\\dhira\\anaconda3\\lib\\site-packages (from sympy->torch>=1.11.0->sentence_transformers) (1.3.0)\n",
      "Requirement already satisfied: cachetools<6.0,>=2.0.0 in c:\\users\\dhira\\anaconda3\\lib\\site-packages (from google-auth>=1.0.1->kubernetes>=28.1.0->chromadb<0.6.0,>=0.4.0->langchain-chroma) (4.2.2)\n",
      "Requirement already satisfied: pyasn1-modules>=0.2.1 in c:\\users\\dhira\\anaconda3\\lib\\site-packages (from google-auth>=1.0.1->kubernetes>=28.1.0->chromadb<0.6.0,>=0.4.0->langchain-chroma) (0.2.8)\n",
      "Requirement already satisfied: rsa<5,>=3.1.4 in c:\\users\\dhira\\anaconda3\\lib\\site-packages (from google-auth>=1.0.1->kubernetes>=28.1.0->chromadb<0.6.0,>=0.4.0->langchain-chroma) (4.9)\n",
      "Requirement already satisfied: zipp>=0.5 in c:\\users\\dhira\\anaconda3\\lib\\site-packages (from importlib-metadata<=7.1,>=6.0->opentelemetry-api>=1.2.0->chromadb<0.6.0,>=0.4.0->langchain-chroma) (3.17.0)\n",
      "Requirement already satisfied: mdurl~=0.1 in c:\\users\\dhira\\anaconda3\\lib\\site-packages (from markdown-it-py<3.0.0,>=2.2.0->rich>=10.11.0->typer<1.0.0,>=0.3.0->spacy) (0.1.0)\n",
      "Requirement already satisfied: humanfriendly>=9.1 in c:\\users\\dhira\\anaconda3\\lib\\site-packages (from coloredlogs->onnxruntime>=1.14.1->chromadb<0.6.0,>=0.4.0->langchain-chroma) (10.0)\n",
      "Requirement already satisfied: pyreadline3 in c:\\users\\dhira\\anaconda3\\lib\\site-packages (from humanfriendly>=9.1->coloredlogs->onnxruntime>=1.14.1->chromadb<0.6.0,>=0.4.0->langchain-chroma) (3.4.1)\n",
      "Requirement already satisfied: pyasn1<0.5.0,>=0.4.6 in c:\\users\\dhira\\anaconda3\\lib\\site-packages (from pyasn1-modules>=0.2.1->google-auth>=1.0.1->kubernetes>=28.1.0->chromadb<0.6.0,>=0.4.0->langchain-chroma) (0.4.8)\n",
      "Requirement already satisfied: langchain in c:\\users\\dhira\\anaconda3\\lib\\site-packages (0.2.3)\n",
      "Requirement already satisfied: langchain_community in c:\\users\\dhira\\anaconda3\\lib\\site-packages (0.2.4)\n",
      "Requirement already satisfied: transformers in c:\\users\\dhira\\anaconda3\\lib\\site-packages (4.41.2)\n",
      "Requirement already satisfied: PyYAML>=5.3 in c:\\users\\dhira\\anaconda3\\lib\\site-packages (from langchain) (6.0.1)\n",
      "Requirement already satisfied: SQLAlchemy<3,>=1.4 in c:\\users\\dhira\\anaconda3\\lib\\site-packages (from langchain) (2.0.25)\n",
      "Requirement already satisfied: aiohttp<4.0.0,>=3.8.3 in c:\\users\\dhira\\anaconda3\\lib\\site-packages (from langchain) (3.9.3)\n",
      "Requirement already satisfied: langchain-core<0.3.0,>=0.2.0 in c:\\users\\dhira\\anaconda3\\lib\\site-packages (from langchain) (0.2.5)\n",
      "Requirement already satisfied: langchain-text-splitters<0.3.0,>=0.2.0 in c:\\users\\dhira\\anaconda3\\lib\\site-packages (from langchain) (0.2.1)\n",
      "Requirement already satisfied: langsmith<0.2.0,>=0.1.17 in c:\\users\\dhira\\anaconda3\\lib\\site-packages (from langchain) (0.1.77)\n",
      "Requirement already satisfied: numpy<2,>=1 in c:\\users\\dhira\\anaconda3\\lib\\site-packages (from langchain) (1.26.4)\n",
      "Requirement already satisfied: pydantic<3,>=1 in c:\\users\\dhira\\anaconda3\\lib\\site-packages (from langchain) (1.10.12)\n",
      "Requirement already satisfied: requests<3,>=2 in c:\\users\\dhira\\anaconda3\\lib\\site-packages (from langchain) (2.32.3)\n",
      "Requirement already satisfied: tenacity<9.0.0,>=8.1.0 in c:\\users\\dhira\\anaconda3\\lib\\site-packages (from langchain) (8.3.0)\n",
      "Requirement already satisfied: dataclasses-json<0.7,>=0.5.7 in c:\\users\\dhira\\anaconda3\\lib\\site-packages (from langchain_community) (0.6.7)\n",
      "Requirement already satisfied: filelock in c:\\users\\dhira\\anaconda3\\lib\\site-packages (from transformers) (3.13.1)\n",
      "Requirement already satisfied: huggingface-hub<1.0,>=0.23.0 in c:\\users\\dhira\\anaconda3\\lib\\site-packages (from transformers) (0.23.3)\n",
      "Requirement already satisfied: packaging>=20.0 in c:\\users\\dhira\\anaconda3\\lib\\site-packages (from transformers) (23.2)\n",
      "Requirement already satisfied: regex!=2019.12.17 in c:\\users\\dhira\\anaconda3\\lib\\site-packages (from transformers) (2023.10.3)\n",
      "Requirement already satisfied: tokenizers<0.20,>=0.19 in c:\\users\\dhira\\anaconda3\\lib\\site-packages (from transformers) (0.19.1)\n",
      "Requirement already satisfied: safetensors>=0.4.1 in c:\\users\\dhira\\anaconda3\\lib\\site-packages (from transformers) (0.4.3)\n",
      "Requirement already satisfied: tqdm>=4.27 in c:\\users\\dhira\\anaconda3\\lib\\site-packages (from transformers) (4.65.0)\n",
      "Requirement already satisfied: aiosignal>=1.1.2 in c:\\users\\dhira\\anaconda3\\lib\\site-packages (from aiohttp<4.0.0,>=3.8.3->langchain) (1.2.0)\n",
      "Requirement already satisfied: attrs>=17.3.0 in c:\\users\\dhira\\anaconda3\\lib\\site-packages (from aiohttp<4.0.0,>=3.8.3->langchain) (23.1.0)\n",
      "Requirement already satisfied: frozenlist>=1.1.1 in c:\\users\\dhira\\anaconda3\\lib\\site-packages (from aiohttp<4.0.0,>=3.8.3->langchain) (1.4.0)\n",
      "Requirement already satisfied: multidict<7.0,>=4.5 in c:\\users\\dhira\\anaconda3\\lib\\site-packages (from aiohttp<4.0.0,>=3.8.3->langchain) (6.0.4)\n",
      "Requirement already satisfied: yarl<2.0,>=1.0 in c:\\users\\dhira\\anaconda3\\lib\\site-packages (from aiohttp<4.0.0,>=3.8.3->langchain) (1.9.3)\n",
      "Requirement already satisfied: marshmallow<4.0.0,>=3.18.0 in c:\\users\\dhira\\anaconda3\\lib\\site-packages (from dataclasses-json<0.7,>=0.5.7->langchain_community) (3.21.3)\n",
      "Requirement already satisfied: typing-inspect<1,>=0.4.0 in c:\\users\\dhira\\anaconda3\\lib\\site-packages (from dataclasses-json<0.7,>=0.5.7->langchain_community) (0.9.0)\n",
      "Requirement already satisfied: fsspec>=2023.5.0 in c:\\users\\dhira\\anaconda3\\lib\\site-packages (from huggingface-hub<1.0,>=0.23.0->transformers) (2023.10.0)\n",
      "Requirement already satisfied: typing-extensions>=3.7.4.3 in c:\\users\\dhira\\anaconda3\\lib\\site-packages (from huggingface-hub<1.0,>=0.23.0->transformers) (4.9.0)\n",
      "Requirement already satisfied: jsonpatch<2.0,>=1.33 in c:\\users\\dhira\\anaconda3\\lib\\site-packages (from langchain-core<0.3.0,>=0.2.0->langchain) (1.33)\n",
      "Requirement already satisfied: orjson<4.0.0,>=3.9.14 in c:\\users\\dhira\\anaconda3\\lib\\site-packages (from langsmith<0.2.0,>=0.1.17->langchain) (3.10.4)\n",
      "Requirement already satisfied: charset-normalizer<4,>=2 in c:\\users\\dhira\\anaconda3\\lib\\site-packages (from requests<3,>=2->langchain) (3.3.2)\n",
      "Requirement already satisfied: idna<4,>=2.5 in c:\\users\\dhira\\anaconda3\\lib\\site-packages (from requests<3,>=2->langchain) (3.4)\n",
      "Requirement already satisfied: urllib3<3,>=1.21.1 in c:\\users\\dhira\\anaconda3\\lib\\site-packages (from requests<3,>=2->langchain) (2.0.7)\n",
      "Requirement already satisfied: certifi>=2017.4.17 in c:\\users\\dhira\\anaconda3\\lib\\site-packages (from requests<3,>=2->langchain) (2024.6.2)\n",
      "Requirement already satisfied: greenlet!=0.4.17 in c:\\users\\dhira\\anaconda3\\lib\\site-packages (from SQLAlchemy<3,>=1.4->langchain) (3.0.1)\n",
      "Requirement already satisfied: colorama in c:\\users\\dhira\\anaconda3\\lib\\site-packages (from tqdm>=4.27->transformers) (0.4.6)\n",
      "Requirement already satisfied: jsonpointer>=1.9 in c:\\users\\dhira\\anaconda3\\lib\\site-packages (from jsonpatch<2.0,>=1.33->langchain-core<0.3.0,>=0.2.0->langchain) (2.1)\n",
      "Requirement already satisfied: mypy-extensions>=0.3.0 in c:\\users\\dhira\\anaconda3\\lib\\site-packages (from typing-inspect<1,>=0.4.0->dataclasses-json<0.7,>=0.5.7->langchain_community) (1.0.0)\n",
      "Requirement already satisfied: datasets in c:\\users\\dhira\\anaconda3\\lib\\site-packages (2.19.2)\n",
      "Requirement already satisfied: filelock in c:\\users\\dhira\\anaconda3\\lib\\site-packages (from datasets) (3.13.1)\n",
      "Requirement already satisfied: numpy>=1.17 in c:\\users\\dhira\\anaconda3\\lib\\site-packages (from datasets) (1.26.4)\n",
      "Requirement already satisfied: pyarrow>=12.0.0 in c:\\users\\dhira\\anaconda3\\lib\\site-packages (from datasets) (14.0.2)\n",
      "Requirement already satisfied: pyarrow-hotfix in c:\\users\\dhira\\anaconda3\\lib\\site-packages (from datasets) (0.6)\n",
      "Requirement already satisfied: dill<0.3.9,>=0.3.0 in c:\\users\\dhira\\anaconda3\\lib\\site-packages (from datasets) (0.3.8)\n",
      "Requirement already satisfied: pandas in c:\\users\\dhira\\anaconda3\\lib\\site-packages (from datasets) (2.1.4)\n",
      "Requirement already satisfied: requests>=2.32.1 in c:\\users\\dhira\\anaconda3\\lib\\site-packages (from datasets) (2.32.3)\n",
      "Requirement already satisfied: tqdm>=4.62.1 in c:\\users\\dhira\\anaconda3\\lib\\site-packages (from datasets) (4.65.0)\n",
      "Requirement already satisfied: xxhash in c:\\users\\dhira\\anaconda3\\lib\\site-packages (from datasets) (3.4.1)\n",
      "Requirement already satisfied: multiprocess in c:\\users\\dhira\\anaconda3\\lib\\site-packages (from datasets) (0.70.16)\n",
      "Requirement already satisfied: fsspec<=2024.3.1,>=2023.1.0 in c:\\users\\dhira\\anaconda3\\lib\\site-packages (from fsspec[http]<=2024.3.1,>=2023.1.0->datasets) (2023.10.0)\n",
      "Requirement already satisfied: aiohttp in c:\\users\\dhira\\anaconda3\\lib\\site-packages (from datasets) (3.9.3)\n",
      "Requirement already satisfied: huggingface-hub>=0.21.2 in c:\\users\\dhira\\anaconda3\\lib\\site-packages (from datasets) (0.23.3)\n",
      "Requirement already satisfied: packaging in c:\\users\\dhira\\anaconda3\\lib\\site-packages (from datasets) (23.2)\n",
      "Requirement already satisfied: pyyaml>=5.1 in c:\\users\\dhira\\anaconda3\\lib\\site-packages (from datasets) (6.0.1)\n",
      "Requirement already satisfied: aiosignal>=1.1.2 in c:\\users\\dhira\\anaconda3\\lib\\site-packages (from aiohttp->datasets) (1.2.0)\n",
      "Requirement already satisfied: attrs>=17.3.0 in c:\\users\\dhira\\anaconda3\\lib\\site-packages (from aiohttp->datasets) (23.1.0)\n",
      "Requirement already satisfied: frozenlist>=1.1.1 in c:\\users\\dhira\\anaconda3\\lib\\site-packages (from aiohttp->datasets) (1.4.0)\n",
      "Requirement already satisfied: multidict<7.0,>=4.5 in c:\\users\\dhira\\anaconda3\\lib\\site-packages (from aiohttp->datasets) (6.0.4)\n",
      "Requirement already satisfied: yarl<2.0,>=1.0 in c:\\users\\dhira\\anaconda3\\lib\\site-packages (from aiohttp->datasets) (1.9.3)\n",
      "Requirement already satisfied: typing-extensions>=3.7.4.3 in c:\\users\\dhira\\anaconda3\\lib\\site-packages (from huggingface-hub>=0.21.2->datasets) (4.9.0)\n",
      "Requirement already satisfied: charset-normalizer<4,>=2 in c:\\users\\dhira\\anaconda3\\lib\\site-packages (from requests>=2.32.1->datasets) (3.3.2)\n",
      "Requirement already satisfied: idna<4,>=2.5 in c:\\users\\dhira\\anaconda3\\lib\\site-packages (from requests>=2.32.1->datasets) (3.4)\n",
      "Requirement already satisfied: urllib3<3,>=1.21.1 in c:\\users\\dhira\\anaconda3\\lib\\site-packages (from requests>=2.32.1->datasets) (2.0.7)\n",
      "Requirement already satisfied: certifi>=2017.4.17 in c:\\users\\dhira\\anaconda3\\lib\\site-packages (from requests>=2.32.1->datasets) (2024.6.2)\n",
      "Requirement already satisfied: colorama in c:\\users\\dhira\\anaconda3\\lib\\site-packages (from tqdm>=4.62.1->datasets) (0.4.6)\n",
      "Requirement already satisfied: python-dateutil>=2.8.2 in c:\\users\\dhira\\anaconda3\\lib\\site-packages (from pandas->datasets) (2.8.2)\n",
      "Requirement already satisfied: pytz>=2020.1 in c:\\users\\dhira\\anaconda3\\lib\\site-packages (from pandas->datasets) (2023.3.post1)\n",
      "Requirement already satisfied: tzdata>=2022.1 in c:\\users\\dhira\\anaconda3\\lib\\site-packages (from pandas->datasets) (2023.3)\n",
      "Requirement already satisfied: six>=1.5 in c:\\users\\dhira\\anaconda3\\lib\\site-packages (from python-dateutil>=2.8.2->pandas->datasets) (1.16.0)\n",
      "Requirement already satisfied: unstructured[pdf] in c:\\users\\dhira\\anaconda3\\lib\\site-packages (0.14.5)\n",
      "Requirement already satisfied: chardet in c:\\users\\dhira\\anaconda3\\lib\\site-packages (from unstructured[pdf]) (4.0.0)\n",
      "Requirement already satisfied: filetype in c:\\users\\dhira\\anaconda3\\lib\\site-packages (from unstructured[pdf]) (1.2.0)\n",
      "Requirement already satisfied: python-magic in c:\\users\\dhira\\anaconda3\\lib\\site-packages (from unstructured[pdf]) (0.4.27)\n",
      "Requirement already satisfied: lxml in c:\\users\\dhira\\anaconda3\\lib\\site-packages (from unstructured[pdf]) (4.9.3)\n",
      "Requirement already satisfied: nltk in c:\\users\\dhira\\anaconda3\\lib\\site-packages (from unstructured[pdf]) (3.8.1)\n",
      "Requirement already satisfied: tabulate in c:\\users\\dhira\\anaconda3\\lib\\site-packages (from unstructured[pdf]) (0.9.0)\n",
      "Requirement already satisfied: requests in c:\\users\\dhira\\anaconda3\\lib\\site-packages (from unstructured[pdf]) (2.32.3)\n",
      "Requirement already satisfied: beautifulsoup4 in c:\\users\\dhira\\anaconda3\\lib\\site-packages (from unstructured[pdf]) (4.12.2)\n",
      "Requirement already satisfied: emoji in c:\\users\\dhira\\anaconda3\\lib\\site-packages (from unstructured[pdf]) (2.12.1)\n",
      "Requirement already satisfied: dataclasses-json in c:\\users\\dhira\\anaconda3\\lib\\site-packages (from unstructured[pdf]) (0.6.7)\n",
      "Requirement already satisfied: python-iso639 in c:\\users\\dhira\\anaconda3\\lib\\site-packages (from unstructured[pdf]) (2024.4.27)\n",
      "Requirement already satisfied: langdetect in c:\\users\\dhira\\anaconda3\\lib\\site-packages (from unstructured[pdf]) (1.0.9)\n",
      "Requirement already satisfied: numpy in c:\\users\\dhira\\anaconda3\\lib\\site-packages (from unstructured[pdf]) (1.26.4)\n",
      "Requirement already satisfied: rapidfuzz in c:\\users\\dhira\\anaconda3\\lib\\site-packages (from unstructured[pdf]) (3.9.3)\n",
      "Requirement already satisfied: backoff in c:\\users\\dhira\\anaconda3\\lib\\site-packages (from unstructured[pdf]) (2.2.1)\n",
      "Requirement already satisfied: typing-extensions in c:\\users\\dhira\\anaconda3\\lib\\site-packages (from unstructured[pdf]) (4.9.0)\n",
      "Requirement already satisfied: unstructured-client in c:\\users\\dhira\\anaconda3\\lib\\site-packages (from unstructured[pdf]) (0.23.3)\n",
      "Requirement already satisfied: wrapt in c:\\users\\dhira\\anaconda3\\lib\\site-packages (from unstructured[pdf]) (1.14.1)\n",
      "Requirement already satisfied: onnx in c:\\users\\dhira\\anaconda3\\lib\\site-packages (from unstructured[pdf]) (1.16.1)\n",
      "Requirement already satisfied: pdf2image in c:\\users\\dhira\\anaconda3\\lib\\site-packages (from unstructured[pdf]) (1.17.0)\n",
      "Requirement already satisfied: pdfminer.six in c:\\users\\dhira\\anaconda3\\lib\\site-packages (from unstructured[pdf]) (20231228)\n",
      "Requirement already satisfied: pikepdf in c:\\users\\dhira\\anaconda3\\lib\\site-packages (from unstructured[pdf]) (9.0.0)\n",
      "Requirement already satisfied: pillow-heif in c:\\users\\dhira\\anaconda3\\lib\\site-packages (from unstructured[pdf]) (0.16.0)\n",
      "Requirement already satisfied: pypdf in c:\\users\\dhira\\anaconda3\\lib\\site-packages (from unstructured[pdf]) (4.2.0)\n",
      "Requirement already satisfied: pytesseract in c:\\users\\dhira\\anaconda3\\lib\\site-packages (from unstructured[pdf]) (0.3.10)\n",
      "Requirement already satisfied: google-cloud-vision in c:\\users\\dhira\\anaconda3\\lib\\site-packages (from unstructured[pdf]) (3.7.2)\n",
      "Requirement already satisfied: effdet in c:\\users\\dhira\\anaconda3\\lib\\site-packages (from unstructured[pdf]) (0.4.1)\n",
      "Requirement already satisfied: unstructured-inference==0.7.33 in c:\\users\\dhira\\anaconda3\\lib\\site-packages (from unstructured[pdf]) (0.7.33)\n",
      "Requirement already satisfied: unstructured.pytesseract>=0.3.12 in c:\\users\\dhira\\anaconda3\\lib\\site-packages (from unstructured[pdf]) (0.3.12)\n",
      "Requirement already satisfied: layoutparser in c:\\users\\dhira\\anaconda3\\lib\\site-packages (from unstructured-inference==0.7.33->unstructured[pdf]) (0.3.4)\n",
      "Requirement already satisfied: python-multipart in c:\\users\\dhira\\anaconda3\\lib\\site-packages (from unstructured-inference==0.7.33->unstructured[pdf]) (0.0.9)\n",
      "Requirement already satisfied: huggingface-hub in c:\\users\\dhira\\anaconda3\\lib\\site-packages (from unstructured-inference==0.7.33->unstructured[pdf]) (0.23.3)\n",
      "Requirement already satisfied: opencv-python!=4.7.0.68 in c:\\users\\dhira\\anaconda3\\lib\\site-packages (from unstructured-inference==0.7.33->unstructured[pdf]) (4.10.0.82)\n",
      "Requirement already satisfied: onnxruntime>=1.17.0 in c:\\users\\dhira\\anaconda3\\lib\\site-packages (from unstructured-inference==0.7.33->unstructured[pdf]) (1.18.0)\n",
      "Requirement already satisfied: matplotlib in c:\\users\\dhira\\anaconda3\\lib\\site-packages (from unstructured-inference==0.7.33->unstructured[pdf]) (3.8.0)\n",
      "Requirement already satisfied: torch in c:\\users\\dhira\\anaconda3\\lib\\site-packages (from unstructured-inference==0.7.33->unstructured[pdf]) (2.3.1)\n",
      "Requirement already satisfied: timm in c:\\users\\dhira\\anaconda3\\lib\\site-packages (from unstructured-inference==0.7.33->unstructured[pdf]) (1.0.3)\n",
      "Requirement already satisfied: transformers>=4.25.1 in c:\\users\\dhira\\anaconda3\\lib\\site-packages (from unstructured-inference==0.7.33->unstructured[pdf]) (4.41.2)\n",
      "Requirement already satisfied: packaging>=21.3 in c:\\users\\dhira\\anaconda3\\lib\\site-packages (from unstructured.pytesseract>=0.3.12->unstructured[pdf]) (23.2)\n",
      "Requirement already satisfied: Pillow>=8.0.0 in c:\\users\\dhira\\anaconda3\\lib\\site-packages (from unstructured.pytesseract>=0.3.12->unstructured[pdf]) (10.2.0)\n",
      "Requirement already satisfied: soupsieve>1.2 in c:\\users\\dhira\\anaconda3\\lib\\site-packages (from beautifulsoup4->unstructured[pdf]) (2.5)\n",
      "Requirement already satisfied: marshmallow<4.0.0,>=3.18.0 in c:\\users\\dhira\\anaconda3\\lib\\site-packages (from dataclasses-json->unstructured[pdf]) (3.21.3)\n",
      "Requirement already satisfied: typing-inspect<1,>=0.4.0 in c:\\users\\dhira\\anaconda3\\lib\\site-packages (from dataclasses-json->unstructured[pdf]) (0.9.0)\n",
      "Requirement already satisfied: torchvision in c:\\users\\dhira\\anaconda3\\lib\\site-packages (from effdet->unstructured[pdf]) (0.18.1)\n",
      "Requirement already satisfied: pycocotools>=2.0.2 in c:\\users\\dhira\\anaconda3\\lib\\site-packages (from effdet->unstructured[pdf]) (2.0.7)\n",
      "Requirement already satisfied: omegaconf>=2.0 in c:\\users\\dhira\\anaconda3\\lib\\site-packages (from effdet->unstructured[pdf]) (2.3.0)\n",
      "Requirement already satisfied: google-api-core!=2.0.*,!=2.1.*,!=2.10.*,!=2.2.*,!=2.3.*,!=2.4.*,!=2.5.*,!=2.6.*,!=2.7.*,!=2.8.*,!=2.9.*,<3.0.0dev,>=1.34.1 in c:\\users\\dhira\\anaconda3\\lib\\site-packages (from google-api-core[grpc]!=2.0.*,!=2.1.*,!=2.10.*,!=2.2.*,!=2.3.*,!=2.4.*,!=2.5.*,!=2.6.*,!=2.7.*,!=2.8.*,!=2.9.*,<3.0.0dev,>=1.34.1->google-cloud-vision->unstructured[pdf]) (2.19.0)\n",
      "Requirement already satisfied: google-auth!=2.24.0,!=2.25.0,<3.0.0dev,>=2.14.1 in c:\\users\\dhira\\anaconda3\\lib\\site-packages (from google-cloud-vision->unstructured[pdf]) (2.30.0)\n",
      "Requirement already satisfied: proto-plus<2.0.0dev,>=1.22.3 in c:\\users\\dhira\\anaconda3\\lib\\site-packages (from google-cloud-vision->unstructured[pdf]) (1.23.0)\n",
      "Requirement already satisfied: protobuf!=3.20.0,!=3.20.1,!=4.21.0,!=4.21.1,!=4.21.2,!=4.21.3,!=4.21.4,!=4.21.5,<5.0.0dev,>=3.19.5 in c:\\users\\dhira\\anaconda3\\lib\\site-packages (from google-cloud-vision->unstructured[pdf]) (3.20.3)\n",
      "Requirement already satisfied: six in c:\\users\\dhira\\anaconda3\\lib\\site-packages (from langdetect->unstructured[pdf]) (1.16.0)\n",
      "Requirement already satisfied: click in c:\\users\\dhira\\anaconda3\\lib\\site-packages (from nltk->unstructured[pdf]) (8.1.7)\n",
      "Requirement already satisfied: joblib in c:\\users\\dhira\\anaconda3\\lib\\site-packages (from nltk->unstructured[pdf]) (1.2.0)\n",
      "Requirement already satisfied: regex>=2021.8.3 in c:\\users\\dhira\\anaconda3\\lib\\site-packages (from nltk->unstructured[pdf]) (2023.10.3)\n",
      "Requirement already satisfied: tqdm in c:\\users\\dhira\\anaconda3\\lib\\site-packages (from nltk->unstructured[pdf]) (4.65.0)\n",
      "Requirement already satisfied: charset-normalizer>=2.0.0 in c:\\users\\dhira\\anaconda3\\lib\\site-packages (from pdfminer.six->unstructured[pdf]) (3.3.2)\n",
      "Requirement already satisfied: cryptography>=36.0.0 in c:\\users\\dhira\\anaconda3\\lib\\site-packages (from pdfminer.six->unstructured[pdf]) (42.0.2)\n",
      "Requirement already satisfied: Deprecated in c:\\users\\dhira\\anaconda3\\lib\\site-packages (from pikepdf->unstructured[pdf]) (1.2.14)\n",
      "Requirement already satisfied: idna<4,>=2.5 in c:\\users\\dhira\\anaconda3\\lib\\site-packages (from requests->unstructured[pdf]) (3.4)\n",
      "Requirement already satisfied: urllib3<3,>=1.21.1 in c:\\users\\dhira\\anaconda3\\lib\\site-packages (from requests->unstructured[pdf]) (2.0.7)\n",
      "Requirement already satisfied: certifi>=2017.4.17 in c:\\users\\dhira\\anaconda3\\lib\\site-packages (from requests->unstructured[pdf]) (2024.6.2)\n",
      "Requirement already satisfied: deepdiff>=6.0 in c:\\users\\dhira\\anaconda3\\lib\\site-packages (from unstructured-client->unstructured[pdf]) (7.0.1)\n",
      "Requirement already satisfied: httpx>=0.27.0 in c:\\users\\dhira\\anaconda3\\lib\\site-packages (from unstructured-client->unstructured[pdf]) (0.27.0)\n",
      "Requirement already satisfied: jsonpath-python>=1.0.6 in c:\\users\\dhira\\anaconda3\\lib\\site-packages (from unstructured-client->unstructured[pdf]) (1.0.6)\n",
      "Requirement already satisfied: mypy-extensions>=1.0.0 in c:\\users\\dhira\\anaconda3\\lib\\site-packages (from unstructured-client->unstructured[pdf]) (1.0.0)\n",
      "Requirement already satisfied: nest-asyncio>=1.6.0 in c:\\users\\dhira\\anaconda3\\lib\\site-packages (from unstructured-client->unstructured[pdf]) (1.6.0)\n",
      "Requirement already satisfied: python-dateutil>=2.8.2 in c:\\users\\dhira\\anaconda3\\lib\\site-packages (from unstructured-client->unstructured[pdf]) (2.8.2)\n",
      "Requirement already satisfied: requests-toolbelt>=1.0.0 in c:\\users\\dhira\\anaconda3\\lib\\site-packages (from unstructured-client->unstructured[pdf]) (1.0.0)\n",
      "Requirement already satisfied: cffi>=1.12 in c:\\users\\dhira\\anaconda3\\lib\\site-packages (from cryptography>=36.0.0->pdfminer.six->unstructured[pdf]) (1.16.0)\n",
      "Requirement already satisfied: ordered-set<4.2.0,>=4.1.0 in c:\\users\\dhira\\anaconda3\\lib\\site-packages (from deepdiff>=6.0->unstructured-client->unstructured[pdf]) (4.1.0)\n",
      "Requirement already satisfied: googleapis-common-protos<2.0.dev0,>=1.56.2 in c:\\users\\dhira\\anaconda3\\lib\\site-packages (from google-api-core!=2.0.*,!=2.1.*,!=2.10.*,!=2.2.*,!=2.3.*,!=2.4.*,!=2.5.*,!=2.6.*,!=2.7.*,!=2.8.*,!=2.9.*,<3.0.0dev,>=1.34.1->google-api-core[grpc]!=2.0.*,!=2.1.*,!=2.10.*,!=2.2.*,!=2.3.*,!=2.4.*,!=2.5.*,!=2.6.*,!=2.7.*,!=2.8.*,!=2.9.*,<3.0.0dev,>=1.34.1->google-cloud-vision->unstructured[pdf]) (1.63.1)\n",
      "Requirement already satisfied: grpcio<2.0dev,>=1.33.2 in c:\\users\\dhira\\anaconda3\\lib\\site-packages (from google-api-core[grpc]!=2.0.*,!=2.1.*,!=2.10.*,!=2.2.*,!=2.3.*,!=2.4.*,!=2.5.*,!=2.6.*,!=2.7.*,!=2.8.*,!=2.9.*,<3.0.0dev,>=1.34.1->google-cloud-vision->unstructured[pdf]) (1.60.0)\n",
      "Requirement already satisfied: grpcio-status<2.0.dev0,>=1.33.2 in c:\\users\\dhira\\anaconda3\\lib\\site-packages (from google-api-core[grpc]!=2.0.*,!=2.1.*,!=2.10.*,!=2.2.*,!=2.3.*,!=2.4.*,!=2.5.*,!=2.6.*,!=2.7.*,!=2.8.*,!=2.9.*,<3.0.0dev,>=1.34.1->google-cloud-vision->unstructured[pdf]) (1.62.2)\n",
      "Requirement already satisfied: cachetools<6.0,>=2.0.0 in c:\\users\\dhira\\anaconda3\\lib\\site-packages (from google-auth!=2.24.0,!=2.25.0,<3.0.0dev,>=2.14.1->google-cloud-vision->unstructured[pdf]) (4.2.2)\n",
      "Requirement already satisfied: pyasn1-modules>=0.2.1 in c:\\users\\dhira\\anaconda3\\lib\\site-packages (from google-auth!=2.24.0,!=2.25.0,<3.0.0dev,>=2.14.1->google-cloud-vision->unstructured[pdf]) (0.2.8)\n",
      "Requirement already satisfied: rsa<5,>=3.1.4 in c:\\users\\dhira\\anaconda3\\lib\\site-packages (from google-auth!=2.24.0,!=2.25.0,<3.0.0dev,>=2.14.1->google-cloud-vision->unstructured[pdf]) (4.9)\n",
      "Requirement already satisfied: anyio in c:\\users\\dhira\\anaconda3\\lib\\site-packages (from httpx>=0.27.0->unstructured-client->unstructured[pdf]) (4.2.0)\n",
      "Requirement already satisfied: httpcore==1.* in c:\\users\\dhira\\anaconda3\\lib\\site-packages (from httpx>=0.27.0->unstructured-client->unstructured[pdf]) (1.0.5)\n",
      "Requirement already satisfied: sniffio in c:\\users\\dhira\\anaconda3\\lib\\site-packages (from httpx>=0.27.0->unstructured-client->unstructured[pdf]) (1.3.0)\n",
      "Requirement already satisfied: h11<0.15,>=0.13 in c:\\users\\dhira\\anaconda3\\lib\\site-packages (from httpcore==1.*->httpx>=0.27.0->unstructured-client->unstructured[pdf]) (0.14.0)\n",
      "Requirement already satisfied: antlr4-python3-runtime==4.9.* in c:\\users\\dhira\\anaconda3\\lib\\site-packages (from omegaconf>=2.0->effdet->unstructured[pdf]) (4.9.3)\n",
      "Requirement already satisfied: PyYAML>=5.1.0 in c:\\users\\dhira\\anaconda3\\lib\\site-packages (from omegaconf>=2.0->effdet->unstructured[pdf]) (6.0.1)\n",
      "Requirement already satisfied: coloredlogs in c:\\users\\dhira\\anaconda3\\lib\\site-packages (from onnxruntime>=1.17.0->unstructured-inference==0.7.33->unstructured[pdf]) (15.0.1)\n",
      "Requirement already satisfied: flatbuffers in c:\\users\\dhira\\anaconda3\\lib\\site-packages (from onnxruntime>=1.17.0->unstructured-inference==0.7.33->unstructured[pdf]) (24.3.25)\n",
      "Requirement already satisfied: sympy in c:\\users\\dhira\\anaconda3\\lib\\site-packages (from onnxruntime>=1.17.0->unstructured-inference==0.7.33->unstructured[pdf]) (1.12)\n",
      "Requirement already satisfied: contourpy>=1.0.1 in c:\\users\\dhira\\anaconda3\\lib\\site-packages (from matplotlib->unstructured-inference==0.7.33->unstructured[pdf]) (1.2.0)\n",
      "Requirement already satisfied: cycler>=0.10 in c:\\users\\dhira\\anaconda3\\lib\\site-packages (from matplotlib->unstructured-inference==0.7.33->unstructured[pdf]) (0.11.0)\n",
      "Requirement already satisfied: fonttools>=4.22.0 in c:\\users\\dhira\\anaconda3\\lib\\site-packages (from matplotlib->unstructured-inference==0.7.33->unstructured[pdf]) (4.25.0)\n",
      "Requirement already satisfied: kiwisolver>=1.0.1 in c:\\users\\dhira\\anaconda3\\lib\\site-packages (from matplotlib->unstructured-inference==0.7.33->unstructured[pdf]) (1.4.4)\n",
      "Requirement already satisfied: pyparsing>=2.3.1 in c:\\users\\dhira\\anaconda3\\lib\\site-packages (from matplotlib->unstructured-inference==0.7.33->unstructured[pdf]) (3.0.9)\n",
      "Requirement already satisfied: safetensors in c:\\users\\dhira\\anaconda3\\lib\\site-packages (from timm->unstructured-inference==0.7.33->unstructured[pdf]) (0.4.3)\n",
      "Requirement already satisfied: filelock in c:\\users\\dhira\\anaconda3\\lib\\site-packages (from torch->unstructured-inference==0.7.33->unstructured[pdf]) (3.13.1)\n",
      "Requirement already satisfied: networkx in c:\\users\\dhira\\anaconda3\\lib\\site-packages (from torch->unstructured-inference==0.7.33->unstructured[pdf]) (3.1)\n",
      "Requirement already satisfied: jinja2 in c:\\users\\dhira\\anaconda3\\lib\\site-packages (from torch->unstructured-inference==0.7.33->unstructured[pdf]) (3.1.3)\n",
      "Requirement already satisfied: fsspec in c:\\users\\dhira\\anaconda3\\lib\\site-packages (from torch->unstructured-inference==0.7.33->unstructured[pdf]) (2023.10.0)\n",
      "Requirement already satisfied: mkl<=2021.4.0,>=2021.1.1 in c:\\users\\dhira\\anaconda3\\lib\\site-packages (from torch->unstructured-inference==0.7.33->unstructured[pdf]) (2021.4.0)\n",
      "Requirement already satisfied: tokenizers<0.20,>=0.19 in c:\\users\\dhira\\anaconda3\\lib\\site-packages (from transformers>=4.25.1->unstructured-inference==0.7.33->unstructured[pdf]) (0.19.1)\n",
      "Requirement already satisfied: colorama in c:\\users\\dhira\\anaconda3\\lib\\site-packages (from tqdm->nltk->unstructured[pdf]) (0.4.6)\n",
      "Requirement already satisfied: scipy in c:\\users\\dhira\\anaconda3\\lib\\site-packages (from layoutparser->unstructured-inference==0.7.33->unstructured[pdf]) (1.11.4)\n",
      "Requirement already satisfied: pandas in c:\\users\\dhira\\anaconda3\\lib\\site-packages (from layoutparser->unstructured-inference==0.7.33->unstructured[pdf]) (2.1.4)\n",
      "Requirement already satisfied: iopath in c:\\users\\dhira\\anaconda3\\lib\\site-packages (from layoutparser->unstructured-inference==0.7.33->unstructured[pdf]) (0.1.10)\n",
      "Requirement already satisfied: pdfplumber in c:\\users\\dhira\\anaconda3\\lib\\site-packages (from layoutparser->unstructured-inference==0.7.33->unstructured[pdf]) (0.11.1)\n",
      "Requirement already satisfied: pycparser in c:\\users\\dhira\\anaconda3\\lib\\site-packages (from cffi>=1.12->cryptography>=36.0.0->pdfminer.six->unstructured[pdf]) (2.21)\n",
      "Collecting protobuf!=3.20.0,!=3.20.1,!=4.21.0,!=4.21.1,!=4.21.2,!=4.21.3,!=4.21.4,!=4.21.5,<5.0.0dev,>=3.19.5 (from google-cloud-vision->unstructured[pdf])\n",
      "  Using cached protobuf-4.25.3-cp310-abi3-win_amd64.whl.metadata (541 bytes)\n",
      "Collecting grpcio<2.0dev,>=1.33.2 (from google-api-core[grpc]!=2.0.*,!=2.1.*,!=2.10.*,!=2.2.*,!=2.3.*,!=2.4.*,!=2.5.*,!=2.6.*,!=2.7.*,!=2.8.*,!=2.9.*,<3.0.0dev,>=1.34.1->google-cloud-vision->unstructured[pdf])\n",
      "  Using cached grpcio-1.64.1-cp311-cp311-win_amd64.whl.metadata (3.4 kB)\n",
      "Requirement already satisfied: intel-openmp==2021.* in c:\\users\\dhira\\anaconda3\\lib\\site-packages (from mkl<=2021.4.0,>=2021.1.1->torch->unstructured-inference==0.7.33->unstructured[pdf]) (2021.4.0)\n",
      "Requirement already satisfied: tbb==2021.* in c:\\users\\dhira\\anaconda3\\lib\\site-packages (from mkl<=2021.4.0,>=2021.1.1->torch->unstructured-inference==0.7.33->unstructured[pdf]) (2021.12.0)\n",
      "Requirement already satisfied: pyasn1<0.5.0,>=0.4.6 in c:\\users\\dhira\\anaconda3\\lib\\site-packages (from pyasn1-modules>=0.2.1->google-auth!=2.24.0,!=2.25.0,<3.0.0dev,>=2.14.1->google-cloud-vision->unstructured[pdf]) (0.4.8)\n",
      "Requirement already satisfied: humanfriendly>=9.1 in c:\\users\\dhira\\anaconda3\\lib\\site-packages (from coloredlogs->onnxruntime>=1.17.0->unstructured-inference==0.7.33->unstructured[pdf]) (10.0)\n",
      "Requirement already satisfied: portalocker in c:\\users\\dhira\\anaconda3\\lib\\site-packages (from iopath->layoutparser->unstructured-inference==0.7.33->unstructured[pdf]) (2.8.2)\n",
      "Requirement already satisfied: MarkupSafe>=2.0 in c:\\users\\dhira\\anaconda3\\lib\\site-packages (from jinja2->torch->unstructured-inference==0.7.33->unstructured[pdf]) (2.1.3)\n",
      "Requirement already satisfied: pytz>=2020.1 in c:\\users\\dhira\\anaconda3\\lib\\site-packages (from pandas->layoutparser->unstructured-inference==0.7.33->unstructured[pdf]) (2023.3.post1)\n",
      "Requirement already satisfied: tzdata>=2022.1 in c:\\users\\dhira\\anaconda3\\lib\\site-packages (from pandas->layoutparser->unstructured-inference==0.7.33->unstructured[pdf]) (2023.3)\n",
      "Requirement already satisfied: pypdfium2>=4.18.0 in c:\\users\\dhira\\anaconda3\\lib\\site-packages (from pdfplumber->layoutparser->unstructured-inference==0.7.33->unstructured[pdf]) (4.30.0)\n",
      "Requirement already satisfied: mpmath>=0.19 in c:\\users\\dhira\\anaconda3\\lib\\site-packages (from sympy->onnxruntime>=1.17.0->unstructured-inference==0.7.33->unstructured[pdf]) (1.3.0)\n",
      "Requirement already satisfied: pyreadline3 in c:\\users\\dhira\\anaconda3\\lib\\site-packages (from humanfriendly>=9.1->coloredlogs->onnxruntime>=1.17.0->unstructured-inference==0.7.33->unstructured[pdf]) (3.4.1)\n",
      "Requirement already satisfied: pywin32>=226 in c:\\users\\dhira\\anaconda3\\lib\\site-packages (from portalocker->iopath->layoutparser->unstructured-inference==0.7.33->unstructured[pdf]) (305.1)\n",
      "Using cached protobuf-4.25.3-cp310-abi3-win_amd64.whl (413 kB)\n",
      "Using cached grpcio-1.64.1-cp311-cp311-win_amd64.whl (4.1 MB)\n",
      "Installing collected packages: protobuf, grpcio\n",
      "  Attempting uninstall: protobuf\n",
      "    Found existing installation: protobuf 3.20.3\n",
      "    Uninstalling protobuf-3.20.3:\n",
      "      Successfully uninstalled protobuf-3.20.3\n",
      "  Attempting uninstall: grpcio\n",
      "    Found existing installation: grpcio 1.60.0\n",
      "    Uninstalling grpcio-1.60.0:\n",
      "      Successfully uninstalled grpcio-1.60.0\n",
      "Successfully installed grpcio-1.64.1 protobuf-4.25.3\n"
     ]
    },
    {
     "name": "stderr",
     "output_type": "stream",
     "text": [
      "  WARNING: Failed to remove contents in a temporary directory 'C:\\Users\\dhira\\anaconda3\\Lib\\site-packages\\~-pc'.\n",
      "  You can safely remove it manually.\n",
      "ERROR: pip's dependency resolver does not currently take into account all the packages that are installed. This behaviour is the source of the following dependency conflicts.\n",
      "langchain-nvidia-trt 0.0.1rc0 requires protobuf<4.0.0,>=3.5.0, but you have protobuf 4.25.3 which is incompatible.\n",
      "pymilvus 2.4.1 requires grpcio<=1.60.0,>=1.49.1, but you have grpcio 1.64.1 which is incompatible.\n"
     ]
    }
   ],
   "source": [
    "!pip install langchain_nvidia_trt\n",
    "!pip install tqdm transformers spacy datasets langchain_text_splitters langchain-chroma sentence_transformers\n",
    "!pip install langchain langchain_community transformers\n",
    "!pip install datasets \n",
    "!pip install \"unstructured[pdf]\"\n",
    "!pip install nltk\n",
    "!pip install pymilvus"
   ]
  },
  {
   "cell_type": "code",
   "execution_count": null,
   "id": "f878600a",
   "metadata": {},
   "outputs": [],
   "source": [
    "from langchain_nvidia_trt.llms import TritonTensorRTLLM\n",
    "\n",
    "# Connect to the TRT-LLM Llama-2 model running on the Triton server at the url below\n",
    "# Replace \"llm\" with the url of the system where llama2 is hosted\n",
    "triton_url = \"llm:8001\"\n",
    "pload = {\n",
    "            'tokens':500,\n",
    "            'server_url': triton_url,\n",
    "            'model_name': \"ensemble\"\n",
    "}\n",
    "llm = TritonTensorRTLLM(**pload)"
   ]
  },
  {
   "cell_type": "markdown",
   "id": "d4ea84ce",
   "metadata": {},
   "source": [
    "#### Note: Follow this step for nemotron models\n",
    "1. In case you have deployed a trt-llm optimized nemotron model following steps [here](../RetrievalAugmentedGeneration/README.md#6-qa-chatbot----nemotron-model), execute the cell below by uncommenting the lines. Here we use a custom wrapper for talking with the model server."
   ]
  },
  {
   "cell_type": "code",
   "execution_count": 25,
   "id": "f1b35872",
   "metadata": {},
   "outputs": [],
   "source": [
    "# from triton_trt_llm import TensorRTLLM\n",
    "# llm = TensorRTLLM(server_url =\"llm:8000\", model_name=\"ensemble\", tokens=500, streaming=False)"
   ]
  },
  {
   "cell_type": "markdown",
   "id": "da50462b",
   "metadata": {},
   "source": [
    "### Step 2: Create a Prompt Template [*(Model I/O)*](https://python.langchain.com/docs/modules/model_io/)\n",
    "\n",
    "A [**prompt template**](https://python.langchain.com/docs/modules/model_io/prompts/prompt_templates/) is a common paradigm in LLM development. \n",
    "\n",
    "They are a pre-defined set of instructions provided to the LLM and guide the output produced by the model. They can contain few shot examples and guidance and are a quick way to engineer the responses from the LLM. Llama 2 accepts the [prompt format](https://huggingface.co/blog/llama2#how-to-prompt-llama-2) shown in `LLAMA_PROMPT_TEMPLATE`, which we manipulate to be constructed with:\n",
    "- The system prompt\n",
    "- The context\n",
    "- The user's question\n",
    "\n",
    "Langchain allows you to [create custom wrappers for your LLM](https://python.langchain.com/docs/modules/model_io/models/llms/custom_llm) in case you want to use your own LLM or a different wrapper than the one that is supported in LangChain. Since we are using a custom Llama2 model hosted on Triton with TRT-LLM, we have written a custom wrapper for our LLM. "
   ]
  },
  {
   "cell_type": "code",
   "execution_count": 26,
   "id": "4d22c1c7",
   "metadata": {},
   "outputs": [],
   "source": [
    "from langchain.prompts import PromptTemplate\n",
    "\n",
    "LLAMA_PROMPT_TEMPLATE = (\n",
    " \"<s>[INST] <<SYS>>\"\n",
    " \"Use the following context to answer the user's question. If you don't know the answer, just say that you don't know, don't try to make up an answer.\"\n",
    " \"<</SYS>>\"\n",
    " \"<s>[INST] Context: {context} Question: {question} Only return the helpful answer below and nothing else. Helpful answer:[/INST]\"\n",
    ")\n",
    "\n",
    "LLAMA_PROMPT = PromptTemplate.from_template(LLAMA_PROMPT_TEMPLATE)"
   ]
  },
  {
   "cell_type": "markdown",
   "id": "be6f97af",
   "metadata": {},
   "source": [
    "### Step 3: Load Documents [*(Retrieval)*](https://python.langchain.com/docs/modules/data_connection/)\n",
    "LangChain provides a variety of [document loaders](https://python.langchain.com/docs/integrations/document_loaders) that load various types of documents (HTML, PDF, code) from many different sources and locations (private s3 buckets, public websites).\n",
    "\n",
    "Document loaders load data from a source as **Documents**. A **Document** is a piece of text (the page_content) and associated metadata. Document loaders provide a ``load`` method for loading data as documents from a configured source. \n",
    "\n",
    "In this example, we use a LangChain [`UnstructuredFileLoader`](https://python.langchain.com/docs/integrations/document_loaders/unstructured_file) to load a research paper about Llama2 from Meta.\n",
    "\n",
    "[Here](https://python.langchain.com/docs/integrations/document_loaders) are some of the other document loaders available from LangChain."
   ]
  },
  {
   "cell_type": "code",
   "execution_count": 27,
   "id": "a1377c60",
   "metadata": {},
   "outputs": [
    {
     "name": "stdout",
     "output_type": "stream",
     "text": [
      "File downloaded successfully!\n"
     ]
    }
   ],
   "source": [
    "# ! wget -O \"llama2_paper.pdf\" -nc --user-agent=\"Mozilla\" https://arxiv.org/pdf/2307.09288.pdf\n",
    "import requests \n",
    "\n",
    "url = \"https://arxiv.org/pdf/2307.09288.pdf\"  # Replace with the actual URL\n",
    "response = requests.get(url)\n",
    "\n",
    "# Check if the download was successful\n",
    "if response.status_code == 200:\n",
    "    with open(\"llama2_paper.pdf\", \"wb\") as f:  # Replace \"file.txt\" with the desired filename\n",
    "        f.write(response.content)\n",
    "    print(\"File downloaded successfully!\")\n",
    "else:\n",
    "    print(f\"Error downloading file: {response.status_code}\")\n"
   ]
  },
  {
   "cell_type": "code",
   "execution_count": 35,
   "id": "be053f41",
   "metadata": {},
   "outputs": [],
   "source": [
    "from langchain.document_loaders import PyPDFLoader\n",
    "\n",
    "loader = PyPDFLoader(\"llama2_paper.pdf\")\n",
    "data = loader.load()\n"
   ]
  },
  {
   "cell_type": "markdown",
   "id": "b909dd82",
   "metadata": {},
   "source": [
    "### Step 4: Transform Documents [*(Retrieval)*](https://python.langchain.com/docs/modules/data_connection/)\n",
    "Once documents have been loaded, they are often transformed. One method of transformation is known as **chunking**, which breaks down large pieces of text, for example, a long document, into smaller segments. This technique is valuable because it helps [optimize the relevance of the content returned from the vector database](https://www.pinecone.io/learn/chunking-strategies/). \n",
    "\n",
    "LangChain provides a [variety of document transformers](https://python.langchain.com/docs/integrations/document_transformers/), such as text splitters. In this example, we use a [``SentenceTransformersTokenTextSplitter``](https://api.python.langchain.com/en/latest/sentence_transformers/langchain_text_splitters.sentence_transformers.SentenceTransformersTokenTextSplitter.html). The ``SentenceTransformersTokenTextSplitter`` is a specialized text splitter for use with the sentence-transformer models. The default behaviour is to split the text into chunks that fit the token window of the sentence transformer model that you would like to use. This sentence transformer model is used to generate the embeddings from documents. \n",
    "\n",
    "There are some nuanced complexities to text splitting since semantically related text, in theory, should be kept together. "
   ]
  },
  {
   "cell_type": "code",
   "execution_count": 39,
   "id": "bfab1d35",
   "metadata": {},
   "outputs": [
    {
     "name": "stderr",
     "output_type": "stream",
     "text": [
      "C:\\Users\\dhira\\anaconda3\\Lib\\site-packages\\sentence_transformers\\cross_encoder\\CrossEncoder.py:11: TqdmExperimentalWarning: Using `tqdm.autonotebook.tqdm` in notebook mode. Use `tqdm.tqdm` instead to force console mode (e.g. in jupyter console)\n",
      "  from tqdm.autonotebook import tqdm, trange\n"
     ]
    },
    {
     "data": {
      "application/vnd.jupyter.widget-view+json": {
       "model_id": "11699e097f9e4ada9a45ea1e48bc4040",
       "version_major": 2,
       "version_minor": 0
      },
      "text/plain": [
       "modules.json:   0%|          | 0.00/387 [00:00<?, ?B/s]"
      ]
     },
     "metadata": {},
     "output_type": "display_data"
    },
    {
     "data": {
      "application/vnd.jupyter.widget-view+json": {
       "model_id": "b746026fecb746a18238ab77832a4d02",
       "version_major": 2,
       "version_minor": 0
      },
      "text/plain": [
       "README.md:   0%|          | 0.00/67.8k [00:00<?, ?B/s]"
      ]
     },
     "metadata": {},
     "output_type": "display_data"
    },
    {
     "data": {
      "application/vnd.jupyter.widget-view+json": {
       "model_id": "bb466f3dcf424f81885498b103dae839",
       "version_major": 2,
       "version_minor": 0
      },
      "text/plain": [
       "sentence_bert_config.json:   0%|          | 0.00/57.0 [00:00<?, ?B/s]"
      ]
     },
     "metadata": {},
     "output_type": "display_data"
    },
    {
     "name": "stderr",
     "output_type": "stream",
     "text": [
      "C:\\Users\\dhira\\anaconda3\\Lib\\site-packages\\huggingface_hub\\file_download.py:1132: FutureWarning: `resume_download` is deprecated and will be removed in version 1.0.0. Downloads always resume when possible. If you want to force a new download, use `force_download=True`.\n",
      "  warnings.warn(\n"
     ]
    },
    {
     "data": {
      "application/vnd.jupyter.widget-view+json": {
       "model_id": "18fde5ac46e340e69dd34d1ca56110ea",
       "version_major": 2,
       "version_minor": 0
      },
      "text/plain": [
       "config.json:   0%|          | 0.00/616 [00:00<?, ?B/s]"
      ]
     },
     "metadata": {},
     "output_type": "display_data"
    },
    {
     "data": {
      "application/vnd.jupyter.widget-view+json": {
       "model_id": "a1ec52fa651e4dba972d2fd138e7f0d4",
       "version_major": 2,
       "version_minor": 0
      },
      "text/plain": [
       "model.safetensors:   0%|          | 0.00/1.34G [00:00<?, ?B/s]"
      ]
     },
     "metadata": {},
     "output_type": "display_data"
    },
    {
     "data": {
      "application/vnd.jupyter.widget-view+json": {
       "model_id": "45dea64f9d31418fb5b4e6429011eebb",
       "version_major": 2,
       "version_minor": 0
      },
      "text/plain": [
       "tokenizer_config.json:   0%|          | 0.00/314 [00:00<?, ?B/s]"
      ]
     },
     "metadata": {},
     "output_type": "display_data"
    },
    {
     "data": {
      "application/vnd.jupyter.widget-view+json": {
       "model_id": "8affd5a011244f8a8635da38238bfc1c",
       "version_major": 2,
       "version_minor": 0
      },
      "text/plain": [
       "vocab.txt:   0%|          | 0.00/232k [00:00<?, ?B/s]"
      ]
     },
     "metadata": {},
     "output_type": "display_data"
    },
    {
     "data": {
      "application/vnd.jupyter.widget-view+json": {
       "model_id": "d3e9312c99414a05b34f3dcb63e6a044",
       "version_major": 2,
       "version_minor": 0
      },
      "text/plain": [
       "tokenizer.json:   0%|          | 0.00/711k [00:00<?, ?B/s]"
      ]
     },
     "metadata": {},
     "output_type": "display_data"
    },
    {
     "data": {
      "application/vnd.jupyter.widget-view+json": {
       "model_id": "29aea613311449e7b9a33ad2a95f891a",
       "version_major": 2,
       "version_minor": 0
      },
      "text/plain": [
       "special_tokens_map.json:   0%|          | 0.00/125 [00:00<?, ?B/s]"
      ]
     },
     "metadata": {},
     "output_type": "display_data"
    },
    {
     "data": {
      "application/vnd.jupyter.widget-view+json": {
       "model_id": "60b191a584ef4821b2d034baeba549c4",
       "version_major": 2,
       "version_minor": 0
      },
      "text/plain": [
       "1_Pooling/config.json:   0%|          | 0.00/201 [00:00<?, ?B/s]"
      ]
     },
     "metadata": {},
     "output_type": "display_data"
    },
    {
     "name": "stdout",
     "output_type": "stream",
     "text": [
      "--- 2.60556960105896 seconds ---\n"
     ]
    }
   ],
   "source": [
    "import time\n",
    "from langchain.text_splitter import SentenceTransformersTokenTextSplitter\n",
    "\n",
    "TEXT_SPLITTER_MODEL = \"intfloat/e5-large-v2\"\n",
    "TEXT_SPLITTER_TOKENS_PER_CHUNK = 510\n",
    "TEXT_SPLITTER_CHUNCK_OVERLAP = 200\n",
    "\n",
    "text_splitter = SentenceTransformersTokenTextSplitter(\n",
    "    model_name=TEXT_SPLITTER_MODEL,\n",
    "    tokens_per_chunk=TEXT_SPLITTER_TOKENS_PER_CHUNK,\n",
    "    chunk_overlap=TEXT_SPLITTER_CHUNCK_OVERLAP,\n",
    ")\n",
    "start_time = time.time()\n",
    "documents = text_splitter.split_documents(data)\n",
    "print(f\"--- {time.time() - start_time} seconds ---\")"
   ]
  },
  {
   "cell_type": "code",
   "execution_count": 40,
   "id": "09726554-1c27-4209-bff8-26c47e5e02f8",
   "metadata": {},
   "outputs": [],
   "source": [
    "# import time\n",
    "# from nltk.tokenize import sent_tokenize\n",
    "\n",
    "# TEXT_SPLITTER_TOKENS_PER_CHUNK = 510\n",
    "# TEXT_SPLITTER_CHUNCK_OVERLAP = 200\n",
    "\n",
    "# def split_by_sentences(data, max_sentences=5):\n",
    "#   \"\"\"Splits text into chunks with a maximum number of sentences.\"\"\"\n",
    "#   chunks = []\n",
    "#   current_chunk = []\n",
    "#   sentences = sent_tokenize(data)\n",
    "#   for sentence in sentences:\n",
    "#     current_chunk.append(sentence)\n",
    "#     if len(current_chunk) >= max_sentences:\n",
    "#       chunks.append(\" \".join(current_chunk))\n",
    "#       current_chunk = []\n",
    "#   # Add the last chunk (if any)\n",
    "#   if current_chunk:\n",
    "#     chunks.append(\" \".join(current_chunk))\n",
    "#   return chunks\n",
    "\n",
    "# start_time = time.time()\n",
    "# documents = split_by_sentences(data, max_sentences=TEXT_SPLITTER_TOKENS_PER_CHUNK//3)  # Adjust as needed\n",
    "# print(f\"--- {time.time() - start_time} seconds ---\")\n"
   ]
  },
  {
   "cell_type": "markdown",
   "id": "cbe64e4e",
   "metadata": {},
   "source": [
    "Let's view a sample of content that is chunked together in the documents."
   ]
  },
  {
   "cell_type": "code",
   "execution_count": 41,
   "id": "4b48d697",
   "metadata": {},
   "outputs": [
    {
     "data": {
      "text/plain": [
       "'##ze. during this phase, we seek to optimize the following objective : arg max [UNK], [UNK] [ r ( g | p ) ] ( 3 ) we iteratively improve the policy by sampling prompts pfrom our dataset dand generations gfrom the policy πand use the ppo algorithm and loss function to achieve this objective. the final reward function we use during optimization, r ( g | p ) = [UNK] ( g | p ) −βdkl ( πθ ( g | p ) [UNK] ( g | p ) ) ( 4 ) contains a penalty term for diverging from the original policy π0. as was observed in other works ( stiennon et al., 2020 ; ouyang et al., 2022 ), we find this constraint is useful for training stability, and to reduce reward hackingwherebywewouldachievehighscoresfromtherewardmodelbutlowscoresfromhumanevaluation. we define rcto be a piecewise combination of the safety ( rs ) and helpfulness ( rh ) reward models. we havetaggedpromptsinourdatasetthatmightelicitpotentiallyunsaferesponsesandprioritizethescores from the safety model. the threshold of 0. 15is chosen for filtering unsafe responses, corresponding to a precisionof 0. 89andarecallof 0. 55evaluatedonthemetasafetytestset. wealsofinditimportanttowhiten the final linear scores ( shown here by reversing the sigmoid with the logit function ) in order to increase stability and balance properly with the kl penalty term ( β ) above. rc ( g | p ) = rs ( g | p ) ifis _ safety ( p ) orrs ( g | p ) < 0. 15 rh ( g | p ) otherwise [UNK] ( g | p ) = whiten ( logit ( rc ( g | p ) ) ) for all models, we use the adamw optimizer ( loshchilov and hutter, 2017 ), with β1 = 0. 9, β2 = 0. 95, eps = 10−5. weuseaweightdecayof 0. 1, gradientclippingof 1. 0, andaconstantlearningrateof 10−6. foreach ppoiterationweuseabatchsize'"
      ]
     },
     "execution_count": 41,
     "metadata": {},
     "output_type": "execute_result"
    }
   ],
   "source": [
    "documents[40].page_content"
   ]
  },
  {
   "cell_type": "markdown",
   "id": "0243c9b5",
   "metadata": {},
   "source": [
    "### Step 5: Generate Embeddings and Store Embeddings in the Vector Store [*(Retrieval)*](https://python.langchain.com/docs/modules/data_connection/)\n",
    "\n",
    "#### a) Generate Embeddings\n",
    "[Embeddings](https://python.langchain.com/docs/modules/data_connection/text_embedding/) for documents are created by vectorizing the document text; this vectorization captures the semantic meaning of the text. This allows you to quickly and efficiently find other pieces of text that are similar. The embedding model used below is [intfloat/e5-large-v2](https://huggingface.co/intfloat/e5-large-v2).\n",
    "\n",
    "LangChain provides a wide variety of [embedding models](https://python.langchain.com/docs/integrations/text_embedding) from many providers and makes it simple to swap out the models. \n",
    "\n",
    "When a user sends in their query, the query is also embedded using the same embedding model that was used to embed the documents. As explained earlier, this allows to find similar (relevant) documents to the user's query. \n",
    "\n",
    "#### b) Store Document Embeddings in the Vector Store\n",
    "Once the document embeddings are generated, they are stored in a vector store so that at query time we can:\n",
    "1) Embed the user query and\n",
    "2) Retrieve the embedding vectors that are most similar to the embedding query.\n",
    "\n",
    "A vector store takes care of storing the embedded data and performing a vector search.\n",
    "\n",
    "LangChain provides support for a [great selection of vector stores](https://python.langchain.com/docs/integrations/vectorstores/). \n",
    "\n",
    "<div class=\"alert alert-block alert-info\">\n",
    "    \n",
    "⚠️ For this workflow, [Milvus](https://milvus.io/) vector database is running as a microservice. \n",
    "\n",
    "</div>"
   ]
  },
  {
   "cell_type": "code",
   "execution_count": 46,
   "id": "88520151",
   "metadata": {},
   "outputs": [
    {
     "name": "stdout",
     "output_type": "stream",
     "text": [
      "Error connecting to Milvus: [Errno 2] No such file or directory: 'c:\\\\users\\\\dhira\\\\anaconda3\\\\lib\\\\site-packages\\\\packaging-23.1.dist-info\\\\METADATA'\n",
      "--- 11.593196868896484 seconds ---\n"
     ]
    }
   ],
   "source": [
    "from langchain.embeddings import HuggingFaceEmbeddings\n",
    "from langchain.vectorstores import Milvus\n",
    "import torch\n",
    "import time\n",
    "\n",
    "\n",
    "# Running the model on CPU as we want to conserve GPU memory.\n",
    "# In the production deployment (API server shown as part of the 5th notebook) we run the model on GPU\n",
    "model_name = \"intfloat/e5-large-v2\"\n",
    "model_kwargs = {\"device\": \"cpu\"}\n",
    "encode_kwargs = {\"normalize_embeddings\": False}  # Optional optimization\n",
    "\n",
    "hf_embeddings = HuggingFaceEmbeddings(\n",
    "    model_name=model_name,\n",
    "    model_kwargs=model_kwargs,\n",
    "    encode_kwargs=encode_kwargs,\n",
    ")\n",
    "\n",
    "start_time = time.time()\n",
    "\n",
    "try:\n",
    "  vectorstore = Milvus.from_documents(\n",
    "      documents=documents, embedding=hf_embeddings, connection_args={\"host\": \"milvus\", \"port\": 19530}\n",
    "  )\n",
    "except Exception as e:\n",
    "  print(f\"Error connecting to Milvus: {e}\")\n",
    "\n",
    "print(f\"--- {time.time() - start_time} seconds ---\")\n"
   ]
  },
  {
   "cell_type": "code",
   "execution_count": null,
   "id": "59e4764f",
   "metadata": {
    "scrolled": true
   },
   "outputs": [],
   "source": [
    "# Simple Example: Retrieve Documents from the Vector Database\n",
    "# note: this is just for demonstration purposes of a similarity search\n",
    "question = \"Can you talk about safety evaluation of llama2 chat?\"\n",
    "docs = vectorstore.similarity_search(question)\n",
    "print(docs[2].page_content)"
   ]
  },
  {
   "cell_type": "markdown",
   "id": "352708d2",
   "metadata": {},
   "source": [
    " > ### Simple Example: Retrieve Documents from the Vector Database [*(Retrieval)*](https://python.langchain.com/docs/modules/data_connection/)\n",
    ">Given a user query, relevant splits for the question are returned through a **similarity search**. This is also known as a semantic search, and it is done with meaning. It is different from a lexical search, where the search engine looks for literal matches of the query words or variants of them, without understanding the overall meaning of the query. A semantic search tends to generate more relevant results than a lexical search.\n",
    "![vector_stores.jpeg](./imgs/vector_stores.jpeg)"
   ]
  },
  {
   "cell_type": "markdown",
   "id": "50d81f63",
   "metadata": {},
   "source": [
    "### Step 6: Compose a streamed answer using a Chain\n",
    "We have already integrated the Llama2 TRT LLM with the help of LangChain connector, loaded and transformed documents, and generated and stored document embeddings in a vector database. To finish the pipeline, we need to add a few more LangChain components and combine all the components together with a [chain](https://python.langchain.com/docs/modules/chains/).\n",
    "\n",
    "A [LangChain chain](https://python.langchain.com/docs/modules/chains/) combines components together. In this case, we use  [Langchain Expression Language](https://python.langchain.com/docs/expression_language/why) to build a chain.\n",
    "\n",
    "We formulate the prompt placeholders (context and question) and pipe it to our trt-llm connector as shown below and finally stream the result."
   ]
  },
  {
   "cell_type": "code",
   "execution_count": null,
   "id": "8bdb143b",
   "metadata": {},
   "outputs": [],
   "source": [
    "from langchain_core.runnables import RunnablePassthrough\n",
    "import time\n",
    "\n",
    "chain = (\n",
    "    {\"context\": vectorstore.as_retriever(), \"question\": RunnablePassthrough()}\n",
    "    | LLAMA_PROMPT\n",
    "    | llm\n",
    ")\n",
    "start_time = time.time()\n",
    "for token in chain.stream(question):\n",
    "    print(token, end=\"\", flush=True)\n",
    "print(f\"\\n--- {time.time() - start_time} seconds ---\")"
   ]
  }
 ],
 "metadata": {
  "kernelspec": {
   "display_name": "Python 3 (ipykernel)",
   "language": "python",
   "name": "python3"
  },
  "language_info": {
   "codemirror_mode": {
    "name": "ipython",
    "version": 3
   },
   "file_extension": ".py",
   "mimetype": "text/x-python",
   "name": "python",
   "nbconvert_exporter": "python",
   "pygments_lexer": "ipython3",
   "version": "3.11.7"
  }
 },
 "nbformat": 4,
 "nbformat_minor": 5
}
