{
 "cells": [
  {
   "cell_type": "code",
   "execution_count": null,
   "id": "56058083-0b22-469c-a41a-41352b1b3569",
   "metadata": {},
   "outputs": [],
   "source": [
    "import torch\n",
    "from transformers import (\n",
    "    AutoModelForSeq2SeqLM,\n",
    "    AutoTokenizer,\n",
    "    BeamSearchDecoder,\n",
    ")\n"
   ]
  },
  {
   "cell_type": "code",
   "execution_count": null,
   "id": "8ce50282-0c89-41df-9994-1c32ccb518e6",
   "metadata": {},
   "outputs": [],
   "source": [
    "# Model and tokenizer selection (replace with appropriate names)\n",
    "model_name = \"microsoft/phi-3-mini-128k-instruct\"\n",
    "tokenizer = AutoTokenizer.from_pretrained(model_name)\n",
    "model = AutoModelForSeq2SeqLM.from_pretrained(model_name)\n"
   ]
  },
  {
   "cell_type": "code",
   "execution_count": null,
   "id": "13d4922c-62d2-4179-8b2a-5292502b482c",
   "metadata": {},
   "outputs": [],
   "source": [
    "# Beam search decoder for generating multiple continuations\n",
    "decoder = BeamSearchDecoder(model.decoder)\n"
   ]
  },
  {
   "cell_type": "code",
   "execution_count": null,
   "id": "334f25a6-fa86-4021-98b7-230e45ac8641",
   "metadata": {},
   "outputs": [],
   "source": [
    "def question_answer_continue(question, context=None, max_length=512, num_beams=5):\n",
    "  \"\"\"\n",
    "  Performs question answering and continuation using the PyTorch model.\n",
    "\n",
    "  Args:\n",
    "      question: The user's question as a string.\n",
    "      context: Optional context to provide additional information (string).\n",
    "      max_length: Maximum length of the generated response (integer).\n",
    "      num_beams: Number of beams for beam search decoding (integer).\n",
    "\n",
    "  Returns:\n",
    "      answer: The generated answer as a string.\n",
    "      continuation: A potential continuation of the conversation (string).\n",
    "  \"\"\"\n",
    "\n",
    "  # Preprocess input\n",
    "  input_ids = tokenizer(question, return_tensors=\"pt\")[\"input_ids\"]\n",
    "\n",
    "  # Generate answer with the model\n",
    "  with torch.no_grad():\n",
    "    outputs = model.generate(\n",
    "        input_ids=input_ids,\n",
    "        max_length=max_length,\n",
    "        num_beams=num_beams,\n",
    "        early_stopping=True,\n",
    "    )\n",
    "\n",
    "  # Extract top answer and continuation\n",
    "  decoded_sequences = tokenizer.batch_decode(outputs, skip_special_tokens=True)\n",
    "  answer, continuation = decoded_sequences[0].split(\" [SEP] \", 1)\n",
    "\n",
    "  return answer, continuation\n",
    "    "
   ]
  },
  {
   "cell_type": "code",
   "execution_count": null,
   "id": "cb4967df-74f7-4c07-9458-fc6d6eefa536",
   "metadata": {},
   "outputs": [],
   "source": [
    "# Example usage\n",
    "question = \"What is the capital of France?\"\n",
    "answer, continuation = question_answer_continue(question)\n",
    "print(f\"Answer: {answer}\")\n",
    "print(f\"Continuation: {continuation}\")"
   ]
  }
 ],
 "metadata": {
  "kernelspec": {
   "display_name": "Python 3 (ipykernel)",
   "language": "python",
   "name": "python3"
  },
  "language_info": {
   "codemirror_mode": {
    "name": "ipython",
    "version": 3
   },
   "file_extension": ".py",
   "mimetype": "text/x-python",
   "name": "python",
   "nbconvert_exporter": "python",
   "pygments_lexer": "ipython3",
   "version": "3.11.5"
  }
 },
 "nbformat": 4,
 "nbformat_minor": 5
}
