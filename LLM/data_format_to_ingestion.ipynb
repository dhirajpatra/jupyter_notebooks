{
 "cells": [
  {
   "cell_type": "code",
   "execution_count": null,
   "id": "3db3cac4-4861-4bb2-b91e-b65fb6013efd",
   "metadata": {},
   "outputs": [],
   "source": [
    "pip3 install pymupdf pandas tabulate"
   ]
  },
  {
   "cell_type": "code",
   "execution_count": null,
   "id": "cf3bc766-3953-453e-a25e-b26b44035db6",
   "metadata": {},
   "outputs": [],
   "source": [
    "\"\"\"Script to identify and format tables in a PDF file using PyMuPDF.\"\"\"\n",
    "\n",
    "\n",
    "import os\n",
    "import pymupdf  # import package PyMuPDF\n",
    "\n",
    "\n",
    "# get the path of the script\n",
    "script_path = os.path.dirname(os.path.abspath(__file__))\n",
    "\n",
    "\n",
    "# construct the path to the PDF file\n",
    "pdf_path = os.path.join(script_path, \"Sales_Report.pdf\")\n",
    "\n",
    "\n",
    "# open the pdf file\n",
    "pdf = pymupdf.open(pdf_path)\n",
    "\n",
    "\n",
    "# get the first page\n",
    "page = pdf[0]\n",
    "\n",
    "\n",
    "# get the tables in the page\n",
    "tables = page.find_tables()\n",
    "\n",
    "\n",
    "# get the first table\n",
    "table = tables[0]\n",
    "\n",
    "\n",
    "# convert the table to pandas dataframe\n",
    "df = table.to_pandas()\n",
    "\n",
    "\n",
    "# format the dataframe to markdown\n",
    "markdown_table = df.to_markdown()\n",
    "\n",
    "\n",
    "# print the markdown table\n",
    "print(markdown_table)"
   ]
  }
 ],
 "metadata": {
  "kernelspec": {
   "display_name": "Python 3 (ipykernel)",
   "language": "python",
   "name": "python3"
  },
  "language_info": {
   "codemirror_mode": {
    "name": "ipython",
    "version": 3
   },
   "file_extension": ".py",
   "mimetype": "text/x-python",
   "name": "python",
   "nbconvert_exporter": "python",
   "pygments_lexer": "ipython3",
   "version": "3.11.9"
  }
 },
 "nbformat": 4,
 "nbformat_minor": 5
}
