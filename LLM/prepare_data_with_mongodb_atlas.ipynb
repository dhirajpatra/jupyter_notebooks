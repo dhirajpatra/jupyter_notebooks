{
 "cells": [
  {
   "cell_type": "code",
   "execution_count": null,
   "id": "099ea6c2-8e6e-4de1-abbb-641b084c0430",
   "metadata": {},
   "outputs": [],
   "source": [
    "pip3 install langchain langchain_community langchain_core langchain_openai langchain_mongodb pymongo pypdf\n",
    "pip3 install pymupdf pandas tabulate"
   ]
  },
  {
   "cell_type": "code",
   "execution_count": null,
   "id": "1b818d60-a2be-4bed-985c-d3d286fd025d",
   "metadata": {},
   "outputs": [],
   "source": [
    "MONGODB_URI=<your_atlas_connection_string>\n",
    "LLM_API_KEY=<your_llm_api_key>"
   ]
  },
  {
   "cell_type": "code",
   "execution_count": null,
   "id": "b332cd02-686e-41fd-9fce-c922030c260c",
   "metadata": {},
   "outputs": [],
   "source": [
    "from pymongo import MongoClient\n",
    "from langchain_openai import OpenAIEmbeddings, ChatOpenAI\n",
    "from langchain_community.vectorstores import MongoDBAtlasVectorSearch\n",
    "from langchain_community.document_loaders import PyPDFLoader\n",
    "from langchain.text_splitter import RecursiveCharacterTextSplitter\n",
    "from langchain_community.document_transformers.openai_functions import (\n",
    "    create_metadata_tagger,\n",
    ")\n",
    "\n",
    "import key_param\n",
    "\n"
   ]
  },
  {
   "cell_type": "code",
   "execution_count": null,
   "id": "90c1f6bc-f235-4db1-bf5f-a6f6a2e6e54d",
   "metadata": {},
   "outputs": [],
   "source": [
    "# Set the MongoDB URI, DB, Collection Names\n",
    "\n",
    "client = MongoClient(key_param.MONGODB_URI)\n",
    "dbName = \"book_mongodb_chunks\"\n",
    "collectionName = \"chunked_data\"\n",
    "collection = client[dbName][collectionName]\n",
    "\n",
    "loader = PyPDFLoader(\".\\sample_files\\mongodb.pdf\")\n",
    "pages = loader.load()\n",
    "cleaned_pages = []\n",
    "\n",
    "for page in pages:\n",
    "    if len(page.page_content.split(\" \")) > 20:\n",
    "        cleaned_pages.append(page)\n",
    "\n"
   ]
  },
  {
   "cell_type": "code",
   "execution_count": null,
   "id": "5bb1542c-9aa7-461c-a816-54ae61adc4f1",
   "metadata": {},
   "outputs": [],
   "source": [
    "text_splitter = RecursiveCharacterTextSplitter(chunk_size=500, chunk_overlap=150)\n",
    "\n",
    "schema = {\n",
    "    \"properties\": {\n",
    "        \"title\": {\"type\": \"string\"},\n",
    "        \"keywords\": {\"type\": \"array\", \"items\": {\"type\": \"string\"}},\n",
    "        \"hasCode\": {\"type\": \"boolean\"},\n",
    "    },\n",
    "    \"required\": [\"title\", \"keywords\", \"hasCode\"],\n",
    "}\n",
    "\n"
   ]
  },
  {
   "cell_type": "code",
   "execution_count": null,
   "id": "326ecaaf-55e7-4443-aee2-0bd6d00e3f30",
   "metadata": {},
   "outputs": [],
   "source": [
    "llm = ChatOpenAI(\n",
    "    openai_api_key=key_param.LLM_API_KEY, temperature=0, model=\"gpt-3.5-turbo\"\n",
    ")\n",
    "\n"
   ]
  },
  {
   "cell_type": "code",
   "execution_count": null,
   "id": "b9a6201e-5772-4604-abf8-1a520b3fbaac",
   "metadata": {},
   "outputs": [],
   "source": [
    "document_transformer = create_metadata_tagger(metadata_schema=schema, llm=llm)\n",
    "\n",
    "docs = document_transformer.transform_documents(cleaned_pages)\n",
    "\n"
   ]
  },
  {
   "cell_type": "code",
   "execution_count": null,
   "id": "477056a4-77fd-4c39-8f52-cdfa909e0313",
   "metadata": {},
   "outputs": [],
   "source": [
    "split_docs = text_splitter.split_documents(docs)\n",
    "\n"
   ]
  },
  {
   "cell_type": "code",
   "execution_count": null,
   "id": "5318fcbf-e972-444d-a2d2-e8dbe40c5c5e",
   "metadata": {},
   "outputs": [],
   "source": [
    "embeddings = OpenAIEmbeddings(openai_api_key=key_param.LLM_API_KEY)\n"
   ]
  },
  {
   "cell_type": "code",
   "execution_count": null,
   "id": "9e10a120-4cf1-4ea9-b859-34f6c62875a4",
   "metadata": {},
   "outputs": [],
   "source": [
    "vectorStore = MongoDBAtlasVectorSearch.from_documents(\n",
    "    split_docs, embeddings, collection=collection\n",
    ")"
   ]
  }
 ],
 "metadata": {
  "kernelspec": {
   "display_name": "Python 3 (ipykernel)",
   "language": "python",
   "name": "python3"
  },
  "language_info": {
   "codemirror_mode": {
    "name": "ipython",
    "version": 3
   },
   "file_extension": ".py",
   "mimetype": "text/x-python",
   "name": "python",
   "nbconvert_exporter": "python",
   "pygments_lexer": "ipython3",
   "version": "3.11.9"
  }
 },
 "nbformat": 4,
 "nbformat_minor": 5
}
