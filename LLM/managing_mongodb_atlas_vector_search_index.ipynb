{
 "cells": [
  {
   "cell_type": "markdown",
   "id": "39176532-cfda-49fb-97bd-b860800bc6f5",
   "metadata": {},
   "source": [
    "Define the Vector Search Index in a JSON file:\n",
    "\n",
    "Define the data and collection you want to index. Designate the type as vectorSearch and create a name that allows you to easily identify the purpose of the index. Finally, define the fields being indexed, and specify the type, number of dimensions, and similarity."
   ]
  },
  {
   "cell_type": "code",
   "execution_count": null,
   "id": "5781dff5-b15e-4659-b402-8a534be3f1ff",
   "metadata": {},
   "outputs": [],
   "source": [
    "{\n",
    "  \"database\": \"sample_mflix\",\n",
    "  \"collectionName\": \"movies\",\n",
    "  \"type\": \"vectorSearch\",\n",
    "  \"name\": \"movies_vector_index\",\n",
    "  \"fields\": [\n",
    "    {\n",
    "      \"type\": \"vector\",\n",
    "      \"path\": \"embedding\",\n",
    "      \"numDimensions\": 1536,\n",
    "      \"similarity\": \"cosine\"\n",
    "    }\n",
    "  ]\n",
    "}"
   ]
  },
  {
   "cell_type": "markdown",
   "id": "39c30318-f398-4d06-bfe1-f7720d279efc",
   "metadata": {},
   "source": [
    "### Create the Index:\n",
    "\n",
    "Use atlas clusters search indexes create to create the index using a JSON file like the example above. You’ll need to pass in the name of the cluster and the path to the file. Note that depending on how you authenticate, you may need to first specify the appropriate projectID."
   ]
  },
  {
   "cell_type": "code",
   "execution_count": null,
   "id": "7ece9abb-c473-4904-a5a1-23698369384c",
   "metadata": {},
   "outputs": [],
   "source": [
    "atlas clusters search indexes create \\\n",
    "    --clusterName vector \\\n",
    "    --file index.json<?code>"
   ]
  },
  {
   "cell_type": "markdown",
   "id": "10e45755-6b03-42ae-8df1-f9fe0b64cfc0",
   "metadata": {},
   "source": [
    "### Checking Your Indexes:\n",
    "\n",
    "To check on the status of an index (or multiple indexes) you can use the atlas clusters search indexes list command. You’ll need to specify the names of the cluster, database, and collection for the index. In this example, we are requesting that the output be formatted in JSON.\n",
    "\n"
   ]
  },
  {
   "cell_type": "code",
   "execution_count": null,
   "id": "00bf2ecc-e831-4e55-8290-4de059a7cd16",
   "metadata": {},
   "outputs": [],
   "source": [
    "atlas clusters search indexes list \\\n",
    "    --clusterName vector \\\n",
    "    --db test_mflix \\\n",
    "    --collection movies \\\n",
    "    --output json"
   ]
  },
  {
   "cell_type": "markdown",
   "id": "d3f6db70-61ca-40c8-8f6b-eb60721aa67e",
   "metadata": {},
   "source": [
    "```\n",
    "[\n",
    "  {\n",
    "    \"collectionName\": \"movies\",\n",
    "    \"database\": \"test_mflix\",\n",
    "    \"indexID\": \"66720dec75b489672353910b\",\n",
    "    \"name\": \"movies_vector_index\",\n",
    "    \"status\": \"STEADY\",\n",
    "    \"type\": \"vectorSearch\",\n",
    "    \"fields\": [\n",
    "      {\n",
    "        \"numDimensions\": 1536,\n",
    "        \"path\": \"embedding\",\n",
    "        \"similarity\": \"cosine\",\n",
    "        \"type\": \"vector\"\n",
    "      }\n",
    "    ]\n",
    "  }\n",
    "]"
   ]
  },
  {
   "cell_type": "markdown",
   "id": "5d63d1c0-d608-47e8-8be1-40b2850600c5",
   "metadata": {},
   "source": [
    "### Looking Up a Specific Index\n",
    "\n",
    "To see information for a specific index, you can use the atlas clusters search indexes describe command and pass in the index ID, like so:"
   ]
  },
  {
   "cell_type": "code",
   "execution_count": null,
   "id": "259a7690-c62a-4670-876a-7416bfdc286f",
   "metadata": {},
   "outputs": [],
   "source": [
    "atlas clusters search indexes describe <id_placeholder> \\\n",
    "    --clusterName vector \\\n",
    "    --output json"
   ]
  },
  {
   "cell_type": "markdown",
   "id": "7dee870f-656e-4fe4-9caf-ca871c5c1fb7",
   "metadata": {},
   "source": [
    "```\n",
    "{\n",
    "  \"collectionName\": \"movies\",\n",
    "  \"database\": \"test_mflix\",\n",
    "  \"indexID\": \"66720dec75b489672353910b\",\n",
    "  \"name\": \"movies_vector_index\",\n",
    "  \"status\": \"STEADY\",\n",
    "  \"type\": \"vectorSearch\",\n",
    "  \"fields\": [\n",
    "    {\n",
    "      \"numDimensions\": 1536,\n",
    "      \"path\": \"embedding\",\n",
    "      \"similarity\": \"cosine\",\n",
    "      \"type\": \"vector\"\n",
    "    }\n",
    "  ]\n",
    "}"
   ]
  },
  {
   "cell_type": "markdown",
   "id": "da7a9350-fe2a-47b8-be7f-4442a807b22a",
   "metadata": {},
   "source": [
    "### Updating an Existing Index:\n",
    "\n",
    "Here, we’ve added a filter to the index definition JSON file:"
   ]
  },
  {
   "cell_type": "code",
   "execution_count": null,
   "id": "b0f2132f-24d1-46b8-970c-197f34ba3e21",
   "metadata": {},
   "outputs": [],
   "source": [
    "atlas clusters search indexes update <id_placeholder> \\\n",
    "    --clusterName vector \\\n",
    "    --file index.json \\\n",
    "    --output json"
   ]
  },
  {
   "cell_type": "markdown",
   "id": "18270555-7663-4b6b-b447-e3c7ebab3680",
   "metadata": {},
   "source": [
    "```\n",
    "{\n",
    "  \"collectionName\": \"movies\",\n",
    "  \"database\": \"test_mflix\",\n",
    "  \"indexID\": \"66720dec75b489672353910b\",\n",
    "  \"name\": \"movies_vector_index\",\n",
    "  \"status\": \"IN_PROGRESS\",\n",
    "  \"type\": \"vectorSearch\",\n",
    "  \"fields\": [\n",
    "    {\n",
    "      \"numDimensions\": 1536,\n",
    "      \"path\": \"embedding\",\n",
    "      \"similarity\": \"cosine\",\n",
    "      \"type\": \"vector\"\n",
    "    },\n",
    "    {\n",
    "      \"path\": \"year\",\n",
    "      \"type\": \"filter\"\n",
    "    }\n",
    "  ]\n",
    "}"
   ]
  },
  {
   "cell_type": "markdown",
   "id": "3b0397ec-7d15-4b2d-b0a2-fc5423749827",
   "metadata": {},
   "source": [
    "### Deleting an Index:\n",
    "\n",
    "To delete an index use the atlas clusters search indexes delete command. You’ll need to specify the indexID and the name of the cluster the index resides on."
   ]
  },
  {
   "cell_type": "code",
   "execution_count": null,
   "id": "57325e8e-5e3a-4c67-bd4f-f816ffea183c",
   "metadata": {},
   "outputs": [],
   "source": [
    "atlas clusters search indexes delete <id_placeholder> \\\n",
    "    --clusterName vector"
   ]
  },
  {
   "cell_type": "code",
   "execution_count": null,
   "id": "28d5fb1f-fc27-4f51-9f24-ce658e374530",
   "metadata": {},
   "outputs": [],
   "source": [
    "atlas clusters search indexes list \\\n",
    "    --clusterName vector \\\n",
    "    --db test_mflix \\\n",
    "    --collection movies \\\n",
    "    --output json"
   ]
  },
  {
   "cell_type": "code",
   "execution_count": null,
   "id": "3a213b9a-0082-4f3d-94d8-a64bd15d452d",
   "metadata": {},
   "outputs": [],
   "source": []
  }
 ],
 "metadata": {
  "kernelspec": {
   "display_name": "Python 3 (ipykernel)",
   "language": "python",
   "name": "python3"
  },
  "language_info": {
   "codemirror_mode": {
    "name": "ipython",
    "version": 3
   },
   "file_extension": ".py",
   "mimetype": "text/x-python",
   "name": "python",
   "nbconvert_exporter": "python",
   "pygments_lexer": "ipython3",
   "version": "3.11.9"
  }
 },
 "nbformat": 4,
 "nbformat_minor": 5
}
