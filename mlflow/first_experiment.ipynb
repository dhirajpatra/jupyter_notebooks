{
 "cells": [
  {
   "cell_type": "code",
   "execution_count": 2,
   "id": "5f05cdda",
   "metadata": {},
   "outputs": [],
   "source": [
    "import numpy as np\n",
    "from sklearn.datasets import make_classification\n",
    "from sklearn.model_selection import train_test_split\n",
    "from sklearn.linear_model import LogisticRegression\n",
    "from sklearn.ensemble import RandomForestClassifier\n",
    "from xgboost import XGBClassifier\n",
    "from sklearn.metrics import classification_report\n",
    "import warnings\n",
    "warnings.filterwarnings('ignore')"
   ]
  },
  {
   "cell_type": "code",
   "execution_count": 3,
   "id": "56014f75",
   "metadata": {},
   "outputs": [
    {
     "data": {
      "text/plain": [
       "(array([0, 1]), array([900, 100], dtype=int64))"
      ]
     },
     "execution_count": 3,
     "metadata": {},
     "output_type": "execute_result"
    }
   ],
   "source": [
    "# Step 1: Create an imbalanced binary classification dataset\n",
    "X, y = make_classification(n_samples=1000, n_features=10, n_informative=2, n_redundant=8, \n",
    "                           weights=[0.9, 0.1], flip_y=0, random_state=42)\n",
    "\n",
    "np.unique(y, return_counts=True)"
   ]
  },
  {
   "cell_type": "code",
   "execution_count": 5,
   "id": "e94ae830",
   "metadata": {},
   "outputs": [],
   "source": [
    "# Split the dataset into training and testing sets\n",
    "X_train, X_test, y_train, y_test = train_test_split(X, y, test_size=0.3, stratify=y, random_state=42)"
   ]
  },
  {
   "cell_type": "code",
   "execution_count": 13,
   "id": "f7d21a3c",
   "metadata": {},
   "outputs": [
    {
     "name": "stdout",
     "output_type": "stream",
     "text": [
      "              precision    recall  f1-score   support\n",
      "\n",
      "           0       0.95      0.97      0.96       270\n",
      "           1       0.62      0.50      0.56        30\n",
      "\n",
      "    accuracy                           0.92       300\n",
      "   macro avg       0.79      0.73      0.76       300\n",
      "weighted avg       0.91      0.92      0.92       300\n",
      "\n"
     ]
    }
   ],
   "source": [
    "# Define the model hyperparameters\n",
    "params = {\n",
    "    \"solver\": \"lbfgs\",\n",
    "    \"max_iter\": 1000,\n",
    "    \"multi_class\": \"auto\",\n",
    "    \"random_state\": 8888,\n",
    "}\n",
    "\n",
    "# Train the model\n",
    "lr = LogisticRegression(**params)\n",
    "lr.fit(X_train, y_train)\n",
    "\n",
    "# Predict on the test set\n",
    "y_pred = lr.predict(X_test)\n",
    "\n",
    "report = classification_report(y_test, y_pred)\n",
    "print(report)"
   ]
  },
  {
   "cell_type": "code",
   "execution_count": 15,
   "id": "c37eb3c8",
   "metadata": {},
   "outputs": [
    {
     "data": {
      "text/plain": [
       "{'0': {'precision': 0.9456521739130435,\n",
       "  'recall': 0.9666666666666667,\n",
       "  'f1-score': 0.956043956043956,\n",
       "  'support': 270.0},\n",
       " '1': {'precision': 0.625,\n",
       "  'recall': 0.5,\n",
       "  'f1-score': 0.5555555555555556,\n",
       "  'support': 30.0},\n",
       " 'accuracy': 0.92,\n",
       " 'macro avg': {'precision': 0.7853260869565217,\n",
       "  'recall': 0.7333333333333334,\n",
       "  'f1-score': 0.7557997557997558,\n",
       "  'support': 300.0},\n",
       " 'weighted avg': {'precision': 0.9135869565217392,\n",
       "  'recall': 0.92,\n",
       "  'f1-score': 0.915995115995116,\n",
       "  'support': 300.0}}"
      ]
     },
     "execution_count": 15,
     "metadata": {},
     "output_type": "execute_result"
    }
   ],
   "source": [
    "report_dict = classification_report(y_test, y_pred, output_dict=True)\n",
    "report_dict"
   ]
  },
  {
   "cell_type": "code",
   "execution_count": 7,
   "id": "66f89a13",
   "metadata": {},
   "outputs": [],
   "source": [
    "import mlflow"
   ]
  },
  {
   "cell_type": "code",
   "execution_count": 23,
   "id": "f380ca75",
   "metadata": {},
   "outputs": [
    {
     "name": "stderr",
     "output_type": "stream",
     "text": [
      "2024/07/29 13:57:02 INFO mlflow.tracking.fluent: Experiment with name 'First Experiment' does not exist. Creating a new experiment.\n",
      "Registered model 'tracking-quickstart' already exists. Creating a new version of this model...\n",
      "2024/07/29 13:57:04 INFO mlflow.store.model_registry.abstract_store: Waiting up to 300 seconds for model version to finish creation. Model name: tracking-quickstart, version 2\n",
      "Created version '2' of model 'tracking-quickstart'.\n"
     ]
    }
   ],
   "source": [
    "mlflow.set_experiment(\"First Experiment\")\n",
    "mlflow.set_tracking_uri(uri=\"http://127.0.0.1:5000/\")\n",
    "\n",
    "with mlflow.start_run():\n",
    "    mlflow.log_params(params)\n",
    "    mlflow.log_metrics({\n",
    "        'accuracy': report_dict['accuracy'],\n",
    "        'recall_class_0': report_dict['0']['recall'],\n",
    "        'recall_class_1': report_dict['1']['recall'],\n",
    "        'f1_score_macro': report_dict['macro avg']['f1-score']\n",
    "    })\n",
    "    mlflow.sklearn.log_model(lr, \"Logistic Regression\")  "
   ]
  },
  {
   "cell_type": "markdown",
   "id": "99875078-e695-4000-9d64-71e763c8d085",
   "metadata": {},
   "source": [
    "Here’s a clear breakdown of the **classification report metrics**:\n",
    "\n",
    "---\n",
    "\n",
    "### ✅ **Per-Class Metrics**\n",
    "\n",
    "#### **Class 0 (majority class)**:\n",
    "\n",
    "```json\n",
    "'0': {\n",
    "  'precision': 0.9457,\n",
    "  'recall': 0.9667,\n",
    "  'f1-score': 0.9560,\n",
    "  'support': 270.0\n",
    "}\n",
    "```\n",
    "\n",
    "* **Precision**: 94.57% → Of all predicted class 0, \\~94.57% were correct.\n",
    "* **Recall**: 96.67% → Of all actual class 0, \\~96.67% were correctly identified.\n",
    "* **F1-score**: 95.60% → Harmonic mean of precision and recall.\n",
    "* **Support**: 270 samples of class 0 in the test data.\n",
    "\n",
    "---\n",
    "\n",
    "#### **Class 1 (minority class)**:\n",
    "\n",
    "```json\n",
    "'1': {\n",
    "  'precision': 0.625,\n",
    "  'recall': 0.5,\n",
    "  'f1-score': 0.5556,\n",
    "  'support': 30.0\n",
    "}\n",
    "```\n",
    "\n",
    "* **Precision**: 62.5% → Of all predicted class 1, only 62.5% were correct.\n",
    "* **Recall**: 50% → Only 50% of actual class 1 were detected.\n",
    "* **F1-score**: 55.56% → Low performance due to lower recall and small support.\n",
    "* **Support**: 30 samples of class 1 in test data.\n",
    "\n",
    "---\n",
    "\n",
    "### ✅ **Overall Metrics**\n",
    "\n",
    "#### **Accuracy**:\n",
    "\n",
    "```json\n",
    "'accuracy': 0.92\n",
    "```\n",
    "\n",
    "* **92% of total predictions were correct** (regardless of class balance).\n",
    "\n",
    "---\n",
    "\n",
    "### ✅ **Macro Average**:\n",
    "\n",
    "```json\n",
    "'macro avg': {\n",
    "  'precision': 0.7853,\n",
    "  'recall': 0.7333,\n",
    "  'f1-score': 0.7558,\n",
    "  'support': 300.0\n",
    "}\n",
    "```\n",
    "\n",
    "* **Simple average across classes**, treating each class equally.\n",
    "* Penalizes poor performance on minority class.\n",
    "\n",
    "---\n",
    "\n",
    "### ✅ **Weighted Average**:\n",
    "\n",
    "```json\n",
    "'weighted avg': {\n",
    "  'precision': 0.9136,\n",
    "  'recall': 0.92,\n",
    "  'f1-score': 0.9160,\n",
    "  'support': 300.0\n",
    "}\n",
    "```\n",
    "\n",
    "* **Takes class imbalance into account** (weighted by support).\n",
    "* Skewed toward class 0 because it has more samples.\n",
    "\n",
    "---\n",
    "\n",
    "### 🔍 Interpretation\n",
    "\n",
    "* High overall accuracy (92%) hides the **poor recall on class 1**.\n",
    "* Model is **biased toward class 0** (due to imbalance: 270 vs 30).\n",
    "* **Consider using techniques like:**\n",
    "\n",
    "  * Oversampling class 1 (SMOTE)\n",
    "  * Class weights in model (`class_weight='balanced'`)\n",
    "  * Different threshold tuning\n"
   ]
  },
  {
   "cell_type": "code",
   "execution_count": 2,
   "id": "0071d36b-cac1-48e6-9e07-5842d8995c14",
   "metadata": {},
   "outputs": [
    {
     "data": {
      "image/png": "[encoded data removed]",
      "text/plain": [
       "<Figure size 1000x600 with 1 Axes>"
      ]
     },
     "metadata": {},
     "output_type": "display_data"
    }
   ],
   "source": [
    "import matplotlib.pyplot as plt\n",
    "import numpy as np\n",
    "\n",
    "# Labels and values\n",
    "labels = ['Precision', 'Recall', 'F1-Score']\n",
    "class_0 = [0.9457, 0.9667, 0.9560]\n",
    "class_1 = [0.6250, 0.5000, 0.5556]\n",
    "macro_avg = [0.7853, 0.7333, 0.7558]\n",
    "weighted_avg = [0.9136, 0.9200, 0.9160]\n",
    "\n",
    "x = np.arange(len(labels))\n",
    "width = 0.2\n",
    "\n",
    "# Plot bars\n",
    "fig, ax = plt.subplots(figsize=(10, 6))\n",
    "ax.bar(x - 1.5*width, class_0, width, label='Class 0', color='skyblue')\n",
    "ax.bar(x - 0.5*width, class_1, width, label='Class 1', color='salmon')\n",
    "ax.bar(x + 0.5*width, macro_avg, width, label='Macro Avg', color='lightgreen')\n",
    "ax.bar(x + 1.5*width, weighted_avg, width, label='Weighted Avg', color='orange')\n",
    "\n",
    "# Labels and legends\n",
    "ax.set_ylabel('Score')\n",
    "ax.set_title('Classification Report Metrics Comparison')\n",
    "ax.set_xticks(x)\n",
    "ax.set_xticklabels(labels)\n",
    "ax.set_ylim([0, 1.1])\n",
    "ax.legend()\n",
    "plt.grid(axis='y', linestyle='--', alpha=0.7)\n",
    "plt.tight_layout()\n",
    "plt.show()\n"
   ]
  },
  {
   "cell_type": "code",
   "execution_count": null,
   "id": "6b1ed623-a1f1-43ac-bd97-cbccd94cf8ac",
   "metadata": {},
   "outputs": [],
   "source": []
  }
 ],
 "metadata": {
  "kernelspec": {
   "display_name": "Python 3 (ipykernel)",
   "language": "python",
   "name": "python3"
  },
  "language_info": {
   "codemirror_mode": {
    "name": "ipython",
    "version": 3
   },
   "file_extension": ".py",
   "mimetype": "text/x-python",
   "name": "python",
   "nbconvert_exporter": "python",
   "pygments_lexer": "ipython3",
   "version": "3.12.3"
  }
 },
 "nbformat": 4,
 "nbformat_minor": 5
}
