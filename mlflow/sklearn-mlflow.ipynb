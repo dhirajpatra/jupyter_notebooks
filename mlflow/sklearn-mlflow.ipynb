{
 "cells": [
  {
   "cell_type": "code",
   "execution_count": 22,
   "id": "76e04ea0-9814-43d8-a1a4-ac9de4496f3b",
   "metadata": {},
   "outputs": [
    {
     "name": "stdout",
     "output_type": "stream",
     "text": [
      "660696925410320420 — Diabetes\n",
      "160373978290524396 — Default\n"
     ]
    },
    {
     "data": {
      "text/plain": [
       "<Experiment: artifact_location='file:///home/dhiraj-patra/mlruns/660696925410320420', creation_time=1753104452339, experiment_id='660696925410320420', last_update_time=1753104452339, lifecycle_stage='active', name='Diabetes', tags={}>"
      ]
     },
     "execution_count": 22,
     "metadata": {},
     "output_type": "execute_result"
    }
   ],
   "source": [
    "import mlflow\n",
    "import os\n",
    "\n",
    "mlflow.set_tracking_uri(\"file://\" + os.path.expanduser(\"~/mlruns\"))\n",
    "\n",
    "# remove all existing experiments\n",
    "experiments = mlflow.search_experiments()\n",
    "for exp in experiments:\n",
    "    print(f\"{exp.experiment_id} — {exp.name}\")\n",
    "\n",
    "# Create experiment if not exists\n",
    "if not mlflow.get_experiment_by_name(\"Default\"):\n",
    "    mlflow.create_experiment(\"Default\")\n",
    "\n",
    "mlflow.set_experiment(\"Diabetes\")  # Will ensure it uses or creates Default\n"
   ]
  },
  {
   "cell_type": "code",
   "execution_count": 23,
   "id": "4c7bee94-2c57-4b6c-8d1d-4eaf658eda2b",
   "metadata": {},
   "outputs": [],
   "source": [
    "import mlflow.sklearn\n",
    "from sklearn.ensemble import RandomForestRegressor\n",
    "from sklearn.metrics import mean_squared_error\n",
    "from sklearn.model_selection import train_test_split\n",
    "from sklearn.datasets import load_diabetes\n",
    "import pandas as pd"
   ]
  },
  {
   "cell_type": "code",
   "execution_count": 24,
   "id": "172062b9-a58d-4f15-bfca-5146f212ffbe",
   "metadata": {},
   "outputs": [],
   "source": [
    "# load data\n",
    "data = load_diabetes()\n",
    "column_names = data.feature_names"
   ]
  },
  {
   "cell_type": "code",
   "execution_count": 25,
   "id": "f7428474-e91b-48c4-8fb1-a665dfab845a",
   "metadata": {},
   "outputs": [],
   "source": [
    "X_train, x_test, Y_train, y_test = train_test_split(data.data, data.target, test_size=0.2, random_state=42)"
   ]
  },
  {
   "cell_type": "code",
   "execution_count": 26,
   "id": "3695db9b-3e79-49e9-bcd2-a16b8c88505b",
   "metadata": {},
   "outputs": [
    {
     "name": "stdout",
     "output_type": "stream",
     "text": [
      "Logged model with mse: 2829.249463\n"
     ]
    },
    {
     "name": "stderr",
     "output_type": "stream",
     "text": [
      "Registered model 'sk-learn-random-forest-reg-model' already exists. Creating a new version of this model...\n",
      "Created version '2' of model 'sk-learn-random-forest-reg-model'.\n"
     ]
    }
   ],
   "source": [
    "# start mlflow run\n",
    "with mlflow.start_run():\n",
    "    # train model\n",
    "    n_estimators = 100\n",
    "    model = RandomForestRegressor(n_estimators=n_estimators, max_depth=6, max_features=3)\n",
    "\n",
    "    # train model\n",
    "    model.fit(X_train, Y_train)\n",
    "\n",
    "    # predict model\n",
    "    predictions = model.predict(x_test)\n",
    "\n",
    "    input_example = pd.DataFrame(x_test[:1], columns=column_names)\n",
    "    signature = mlflow.models.infer_signature(x_test, predictions)\n",
    "\n",
    "    # evaluate model\n",
    "    mse = mean_squared_error(y_test, predictions)\n",
    "\n",
    "    # log\n",
    "    mlflow.log_metric(\"mse\", mse)\n",
    "    mlflow.sklearn.log_model(\n",
    "        model,\n",
    "        name=\"random_forest_model\",\n",
    "        input_example=input_example,\n",
    "        signature=signature,\n",
    "        registered_model_name=\"sk-learn-random-forest-reg-model\"\n",
    "    )\n",
    "    print(\"Logged model with mse: %f\" % mse)"
   ]
  },
  {
   "cell_type": "markdown",
   "id": "354590d0-149f-4cbf-8f59-d75611078412",
   "metadata": {},
   "source": [
    "### now run in terminal and follow the instruction\n",
    "mlflow ui"
   ]
  },
  {
   "cell_type": "code",
   "execution_count": null,
   "id": "14886037-b048-41c8-a8a6-5b8ddb2665c0",
   "metadata": {},
   "outputs": [],
   "source": []
  }
 ],
 "metadata": {
  "kernelspec": {
   "display_name": "Python 3 (ipykernel)",
   "language": "python",
   "name": "python3"
  },
  "language_info": {
   "codemirror_mode": {
    "name": "ipython",
    "version": 3
   },
   "file_extension": ".py",
   "mimetype": "text/x-python",
   "name": "python",
   "nbconvert_exporter": "python",
   "pygments_lexer": "ipython3",
   "version": "3.10.13"
  }
 },
 "nbformat": 4,
 "nbformat_minor": 5
}
