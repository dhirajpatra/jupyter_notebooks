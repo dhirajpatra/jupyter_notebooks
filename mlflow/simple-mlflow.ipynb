{
 "cells": [
  {
   "cell_type": "code",
   "execution_count": 9,
   "id": "044522a4-521d-453b-887c-8a646c74110f",
   "metadata": {},
   "outputs": [],
   "source": [
    "import mlflow\n",
    "import mlflow.sklearn\n",
    "from sklearn.ensemble import RandomForestClassifier\n",
    "from sklearn.model_selection import train_test_split\n",
    "from sklearn.metrics import accuracy_score\n",
    "from sklearn.datasets import load_iris"
   ]
  },
  {
   "cell_type": "code",
   "execution_count": 13,
   "id": "344e0e28-f0c4-4622-bdf2-304e534f4253",
   "metadata": {},
   "outputs": [
    {
     "name": "stderr",
     "output_type": "stream",
     "text": [
      "2025/06/26 20:52:40 WARNING mlflow.models.model: `artifact_path` is deprecated. Please use `name` instead.\n",
      "\u001b[31m2025/06/26 20:52:43 WARNING mlflow.models.model: Model logged without a signature and input example. Please set `input_example` parameter when logging the model to auto infer the model signature.\u001b[0m\n",
      "Successfully registered model 'fraud_detection_model'.\n",
      "2025/06/26 20:52:43 INFO mlflow.store.model_registry.abstract_store: Waiting up to 300 seconds for model version to finish creation. Model name: fraud_detection_model, version 1\n"
     ]
    },
    {
     "name": "stdout",
     "output_type": "stream",
     "text": [
      "Accuracy: 1.0\n",
      "Model registered\n",
      "🏃 View run silent-carp-680 at: http://localhost:5000/#/experiments/611179691761261335/runs/a52ddd5683e14b92bef84de2740d936f\n",
      "🧪 View experiment at: http://localhost:5000/#/experiments/611179691761261335\n"
     ]
    },
    {
     "name": "stderr",
     "output_type": "stream",
     "text": [
      "Created version '1' of model 'fraud_detection_model'.\n"
     ]
    }
   ],
   "source": [
    "X, y = load_iris(return_X_y=True)\n",
    "X_train, X_test, y_train, y_test = train_test_split(X, y, test_size=0.2, random_state=42)\n",
    "\n",
    "mlflow.set_experiment(\"Simple Experiment\")\n",
    "mlflow.set_tracking_uri(uri=\"http://localhost:5000\")\n",
    "\n",
    "with mlflow.start_run():\n",
    "    # long param\n",
    "    mlflow.log_param(\"n_estimator\", 100)\n",
    "    mlflow.log_param(\"max_depth\", 5)\n",
    "\n",
    "    # train model\n",
    "    model = RandomForestClassifier(n_estimators=100, max_depth=5)\n",
    "    model.fit(X_train, y_train)\n",
    "\n",
    "    # accuracy\n",
    "    accuracy = model.score(X_test, y_test)\n",
    "    mlflow.log_metric(\"accuracy\", accuracy)\n",
    "    \n",
    "    # log model    \n",
    "    model_info = mlflow.sklearn.log_model(model, \"random_forest_model\")\n",
    "    print(f\"Accuracy: {accuracy}\")\n",
    "\n",
    "    # model register\n",
    "    model_uri = model_info.model_uri\n",
    "    mlflow.register_model(model_uri, \"fraud_detection_model\")\n",
    "    print(\"Model registered\")"
   ]
  },
  {
   "cell_type": "code",
   "execution_count": 17,
   "id": "60e6167e-adba-42b6-a2cf-626dec87bf96",
   "metadata": {},
   "outputs": [
    {
     "name": "stderr",
     "output_type": "stream",
     "text": [
      "Downloading artifacts: 100%|██████████████████████████████████████████████████████████████████████████████████| 5/5 [00:00<00:00, 96.12it/s]\n"
     ]
    }
   ],
   "source": [
    "model = mlflow.sklearn.load_model(\"models:/fraud_detection_model/1\")"
   ]
  },
  {
   "cell_type": "code",
   "execution_count": 18,
   "id": "45bfad87-7f31-43be-a841-ae80b685529b",
   "metadata": {},
   "outputs": [],
   "source": [
    "y_predict = model.predict(X_test)"
   ]
  },
  {
   "cell_type": "code",
   "execution_count": 19,
   "id": "1ccd9290-1513-4138-8ac8-674a6f0338ee",
   "metadata": {},
   "outputs": [],
   "source": [
    "accuracy = accuracy_score(y_test, y_predict)"
   ]
  },
  {
   "cell_type": "code",
   "execution_count": 20,
   "id": "a38b99c8-9387-4bce-811d-de598f8a4d7f",
   "metadata": {},
   "outputs": [
    {
     "data": {
      "text/plain": [
       "1.0"
      ]
     },
     "execution_count": 20,
     "metadata": {},
     "output_type": "execute_result"
    }
   ],
   "source": [
    "accuracy"
   ]
  },
  {
   "cell_type": "code",
   "execution_count": null,
   "id": "9d393046-27ff-4a2f-858a-0d823bc3b835",
   "metadata": {},
   "outputs": [],
   "source": []
  }
 ],
 "metadata": {
  "kernelspec": {
   "display_name": "Python 3 (ipykernel)",
   "language": "python",
   "name": "python3"
  },
  "language_info": {
   "codemirror_mode": {
    "name": "ipython",
    "version": 3
   },
   "file_extension": ".py",
   "mimetype": "text/x-python",
   "name": "python",
   "nbconvert_exporter": "python",
   "pygments_lexer": "ipython3",
   "version": "3.12.3"
  }
 },
 "nbformat": 4,
 "nbformat_minor": 5
}
