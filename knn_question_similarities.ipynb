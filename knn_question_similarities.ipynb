{
 "cells": [
  {
   "cell_type": "markdown",
   "metadata": {
    "id": "58aHQ8YSlleP"
   },
   "source": [
    "In the development of our chatbot application, we encountered a common challenge: the recurring expense of calling the OpenAI API every time a user poses a question. Despite the exceptional capabilities of OpenAI and other language processing services, the cost incurred by frequent API calls can become prohibitive, especially as the user base and question volume grow.\n",
    "\n",
    "To address this challenge, we devised a solution that leverages the power of Redis cache coupled with a custom-built similarity model. Our objective was twofold: reduce costs associated with API calls and enhance response time for users.\n",
    "\n",
    "Here's how our solution works:\n",
    "\n",
    "1. **Cost Optimization**: Recognizing the financial implications of frequent API calls, we integrated Redis cache into our chatbot infrastructure. Redis serves as a repository where previously asked questions and their corresponding answers are stored. This way, instead of fetching responses from the API each time, we first check if a similar question has been posed before and retrieve the pre-computed answer from Redis, drastically reducing the need for expensive API calls.\n",
    "\n",
    "2. **Enhanced Response Time**: Alongside the Redis cache implementation, we developed a custom similarity model utilizing nearest neighbor algorithms. This model analyzes incoming user questions and identifies the most similar questions from the dataset stored in Redis. By retrieving the best two similar questions from the cache, we expedite the process of finding relevant answers, further improving response time for users.\n",
    "\n",
    "3. **Streamlined Workflow**: With our solution in place, the chatbot application now follows a streamlined workflow. Upon receiving a user question, the model first checks if similar questions exist in the Redis cache. If matches are found, it retrieves the corresponding answers directly from the cache, eliminating the need for costly API calls. In the absence of exact matches, the application seamlessly falls back to the OpenAI API, ensuring a comprehensive response strategy while minimizing expenses.\n",
    "\n",
    "By implementing this innovative approach, we've not only mitigated the financial burden associated with API usage but also optimized the overall user experience by delivering prompt and accurate responses through intelligent caching and similarity analysis."
   ]
  },
  {
   "cell_type": "code",
   "execution_count": null,
   "metadata": {
    "id": "rJzo2W0alhiG"
   },
   "outputs": [],
   "source": [
    "from sklearn.neighbors import KNeighborsClassifier, NearestNeighbors\n",
    "from sklearn.feature_extraction.text import TfidfVectorizer\n",
    "from sklearn.model_selection import train_test_split\n",
    "from gensim.models import Word2Vec\n",
    "from numpy import array\n",
    "import numpy as np\n",
    "# from sklearn.metrics.pairwise import cosine_similarity"
   ]
  },
  {
   "cell_type": "code",
   "execution_count": null,
   "metadata": {
    "id": "Dqz6umfVfJqN"
   },
   "outputs": [],
   "source": [
    "# Sample Questions\n",
    "questions = [\n",
    "\"What is the capital of France?\",\n",
    "\"Where is the Louvre Museum located?\",\n",
    "\"Where is the Eiffel Tower located?\",\n",
    "\"Where can I find the Louvre Museum?\",\n",
    "\"Which city is home to the Eiffel Tower?\",\n",
    "\"What is the tallest structure in Paris?\",\n",
    "\"Where can I see the Mona Lisa?\",\n",
    "\"What city serves as the capital of France?\",\n",
    "\"Which landmark is situated in Paris?\",\n",
    "\"What is the main city in France?\",\n",
    "\"Where is the famous glass pyramid located?\",\n",
    "\"Where is the Seine River located?\",\n",
    "\"What is the forecast for tomorrow?\",\n",
    "\"Will it rain this weekend?\",\n",
    "\"What are the latest smartphone features?\",\n",
    "\"How does artificial intelligence impact daily life?\",\n",
    "\"Who won the latest football match?\",\n",
    "\"What are the rules of cricket?\",\n",
    "\"What are the must-visit attractions in New York City?\",\n",
    "\"How do I apply for a tourist visa?\",\n",
    "\"What are some popular Italian dishes?\",\n",
    "\"How do you make a classic spaghetti carbonara?\",\n",
    "\"What are the symptoms of the common cold?\",\n",
    "\"How can I improve my sleep quality?\",\n",
    "\"What are the benefits of online learning?\",\n",
    "\"How can I prepare for standardized tests effectively?\",\n",
    "\"What events led to World War II?\",\n",
    "\"Who were the key figures in the American Civil Rights Movement?\",\n",
    "\"What are some tips for managing personal finances?\",\n",
    "\"How does the stock market work?\",\n",
    "\"What are the top-rated movies of all time?\",\n",
    "\"Who won the latest Grammy Awards?\",\n",
    "\"What is the history of the French Revolution?\",\n",
    "\"Can you tell me about the tallest building in the world?\",\n",
    "\"How tall is Burj Khalifa?\",\n",
    "\"What is the population of Tokyo?\",\n",
    "\"Where is the Great Wall of China located?\",\n",
    "\"Can you explain the theory of relativity?\",\n",
    "\"How deep is the Mariana Trench?\",\n",
    "\"What is the capital of Brazil?\",\n",
    "\"Where can I find the Statue of Liberty?\",\n",
    "\"How trees make their food and create oxygen?\",\n",
    "\"How many continents are there in the world?\",\n",
    "\"What is the diameter of the Earth?\",\n",
    "\"Which one is the most populous city in the USA?\",\n",
    "\"Where is Mount Everest situated?\",\n",
    "\"Can you explain the concept of natural selection?\",\n",
    "\"How long is the Nile River?\",\n",
    "\"What is the currency of Japan?\",\n",
    "\"Where is the Colosseum located?\",\n",
    "\"Where are the pyrimids located?\",\n",
    "\"Can you define the term 'global warming'?\",\n",
    "\"How many bones are there in the human body?\",\n",
    "\"What is the main export of Australia?\",\n",
    "\"Where is the Amazon Rainforest located?\",\n",
    "\"Can you explain the process of cellular respiration?\",\n",
    "\"How tall is the Empire State Building?\",\n",
    "\"What is the capital of India?\",\n",
    "\"Where is the Taj Mahal situated?\",\n",
    "\"Can you describe the structure of an atom?\",\n",
    "\"How many time zones are there in the world?\",\n",
    "\"What is the largest desert in the world?\",\n",
    "\"Where is the Vatican City located?\",\n",
    "\"Can you explain the concept of gravity?\",\n",
    "\"How many planets are there in the solar system?\",\n",
    "\"What is the currency of the United Kingdom?\",\n",
    "\"Where can I find the Mona Lisa?\"\n",
    "]\n"
   ]
  },
  {
   "cell_type": "code",
   "execution_count": null,
   "metadata": {
    "id": "1fyLRWznfS3N"
   },
   "outputs": [],
   "source": [
    "# Preprocessing (replace with your cleaning pipeline)\n",
    "def preprocess(text):\n",
    "    text = text.lower()  # Convert to lowercase\n",
    "    text = \"\".join([char for char in text if char.isalnum() or char.isspace()])  # Remove punctuation\n",
    "    # Initialize and train the Word2Vec model\n",
    "    word2vec_model = Word2Vec([text.split()], min_count=1)\n",
    "    return \" \".join([word for word in text.split() if word in word2vec_model.wv.key_to_index.keys()])  # Filter out-of-vocabulary words\n"
   ]
  },
  {
   "cell_type": "code",
   "execution_count": null,
   "metadata": {
    "id": "BhfZOos3fYTv"
   },
   "outputs": [],
   "source": [
    "processed_questions = [preprocess(q) for q in questions]\n"
   ]
  },
  {
   "cell_type": "code",
   "execution_count": null,
   "metadata": {
    "id": "78daIefoC2EW"
   },
   "outputs": [],
   "source": [
    "# Feature Engineering (Word2Vec)\n",
    "question_word_lists = [question.split() for question in processed_questions]\n",
    "word2vec_model = Word2Vec(question_word_lists, min_count=1)\n",
    "question_vectors = np.array([word2vec_model.wv[words].mean(axis=0) for words in question_word_lists])"
   ]
  },
  {
   "cell_type": "code",
   "execution_count": null,
   "metadata": {
    "id": "Ifpr_ToLozOU"
   },
   "outputs": [],
   "source": [
    "# Option 2: Tf-idf\n",
    "vectorizer = TfidfVectorizer()\n",
    "question_vectors = vectorizer.fit_transform(processed_questions).toarray()"
   ]
  },
  {
   "cell_type": "code",
   "execution_count": null,
   "metadata": {
    "id": "flumgPKsfgQQ"
   },
   "outputs": [],
   "source": [
    "# Train-Test Split\n",
    "X_train, X_test, y_train, y_test = train_test_split(question_vectors, np.arange(len(questions)), test_size=0.2)  # Dummy target (not used for KNN)\n"
   ]
  },
  {
   "cell_type": "code",
   "execution_count": null,
   "metadata": {
    "colab": {
     "base_uri": "https://localhost:8080/",
     "height": 75
    },
    "id": "VhOlovHTfidy",
    "outputId": "7b01df45-7e6d-466d-a0c9-cc09d82ecc90"
   },
   "outputs": [],
   "source": [
    "# KNN Model\n",
    "model = NearestNeighbors(n_neighbors=2, algorithm='auto')\n",
    "model.fit(X_train, y_train)\n"
   ]
  },
  {
   "cell_type": "code",
   "execution_count": null,
   "metadata": {
    "colab": {
     "base_uri": "https://localhost:8080/",
     "height": 75
    },
    "id": "osds9B_yrrq7",
    "outputId": "288b1e30-b343-49db-cf37-deec35c96b8a"
   },
   "outputs": [],
   "source": [
    "# K-nearest neighbors classifier model\n",
    "knn_model = KNeighborsClassifier(n_neighbors=2, metric='euclidean')\n",
    "knn_model.fit(question_vectors, np.arange(len(questions)))  # Dummy labels\n"
   ]
  },
  {
   "cell_type": "code",
   "execution_count": null,
   "metadata": {
    "id": "igS9cvBYfo3X"
   },
   "outputs": [],
   "source": [
    "# New Question Example\n",
    "new_question = \"Which country's currency is Yuan?\"\n",
    "new_question_processed = preprocess(new_question)\n",
    "new_question_vector = vectorizer.transform([new_question_processed]).toarray()  # Convert new question to vector using Tf-idf"
   ]
  },
  {
   "cell_type": "code",
   "execution_count": null,
   "metadata": {
    "id": "HKXsyGO2Dg-4"
   },
   "outputs": [],
   "source": [
    "# Convert new question to vector using Tf-idf\n",
    "knn_new_question_vector = vectorizer.transform([new_question_processed]).toarray()\n",
    "\n",
    "# Reshape knn_new_question_vector (if necessary)\n",
    "if knn_new_question_vector.shape[1] != question_vectors.shape[1]:  # Check for matching feature size\n",
    "  knn_new_question_vector = knn_new_question_vector.reshape(1, -1)\n"
   ]
  },
  {
   "cell_type": "code",
   "execution_count": null,
   "metadata": {
    "id": "_tbZaUbmfq8v"
   },
   "outputs": [],
   "source": [
    "# Find Similar Questions\n",
    "distances, neighbors = model.kneighbors(new_question_vector)\n",
    "\n",
    "# Check if the number of features matches the expected number\n",
    "expected_num_features = len(knn_new_question_vector[0])  # Assuming knn_new_question_vector is a list of vectors\n",
    "if knn_new_question_vector.shape[1] != expected_num_features:\n",
    "    print(\"The number of features in knn_new_question_vector does not match the expected number of features.\")\n",
    "else:\n",
    "    # Find Similar Questions\n",
    "    knn_distances, knn_neighbors = knn_model.kneighbors(knn_new_question_vector)\n"
   ]
  },
  {
   "cell_type": "code",
   "execution_count": null,
   "metadata": {
    "colab": {
     "base_uri": "https://localhost:8080/"
    },
    "id": "eAic5Ts_2roA",
    "outputId": "c1587797-18da-46d4-fa84-06dce7481c82"
   },
   "outputs": [],
   "source": [
    "print(distances)\n",
    "print(neighbors)\n"
   ]
  },
  {
   "cell_type": "code",
   "execution_count": null,
   "metadata": {
    "colab": {
     "base_uri": "https://localhost:8080/"
    },
    "id": "OOZG7YErOn6E",
    "outputId": "5747f50f-6f79-4993-b99d-df0ed2867619"
   },
   "outputs": [],
   "source": [
    "print(knn_distances)\n",
    "print(knn_neighbors)"
   ]
  },
  {
   "cell_type": "code",
   "execution_count": null,
   "metadata": {
    "colab": {
     "base_uri": "https://localhost:8080/"
    },
    "id": "Rwn_u6qQfs8x",
    "outputId": "366e902a-793b-459c-9196-100545646132"
   },
   "outputs": [],
   "source": [
    "# Print similar questions from training data based on their indices in neighbors\n",
    "for i, neighbor_index in enumerate(neighbors[0]):\n",
    "    print(f\"Similar Question: {questions[neighbor_index]} (Distance: {distances[0][i]})\")\n"
   ]
  },
  {
   "cell_type": "code",
   "execution_count": null,
   "metadata": {
    "colab": {
     "base_uri": "https://localhost:8080/"
    },
    "id": "YUQaoWtPrXOC",
    "outputId": "ec1faed8-9574-4a4b-eb65-1ef526a8050b"
   },
   "outputs": [],
   "source": [
    "# Print similar questions from training data based on their indices in knn_neighbors\n",
    "for i, knn_neighbor_index in enumerate(knn_neighbors[0]):\n",
    "    print(f\"Similar Question {i+1}: {questions[knn_neighbor_index]} (Distance: {knn_distances[0][i]})\")"
   ]
  },
  {
   "cell_type": "code",
   "execution_count": null,
   "metadata": {
    "id": "sMVkBVLQPoPQ"
   },
   "outputs": [],
   "source": []
  }
 ],
 "metadata": {
  "colab": {
   "provenance": []
  },
  "kernelspec": {
   "display_name": "Python 3",
   "name": "python3"
  },
  "language_info": {
   "name": "python"
  }
 },
 "nbformat": 4,
 "nbformat_minor": 0
}
