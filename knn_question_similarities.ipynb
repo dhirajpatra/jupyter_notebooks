{
  "nbformat": 4,
  "nbformat_minor": 0,
  "metadata": {
    "colab": {
      "provenance": []
    },
    "kernelspec": {
      "name": "python3",
      "display_name": "Python 3"
    },
    "language_info": {
      "name": "python"
    }
  },
  "cells": [
    {
      "cell_type": "markdown",
      "source": [
        "In the development of our chatbot application, we encountered a common challenge: the recurring expense of calling the OpenAI API every time a user poses a question. Despite the exceptional capabilities of OpenAI and other language processing services, the cost incurred by frequent API calls can become prohibitive, especially as the user base and question volume grow.\n",
        "\n",
        "To address this challenge, we devised a solution that leverages the power of Redis cache coupled with a custom-built similarity model. Our objective was twofold: reduce costs associated with API calls and enhance response time for users.\n",
        "\n",
        "Here's how our solution works:\n",
        "\n",
        "1. **Cost Optimization**: Recognizing the financial implications of frequent API calls, we integrated Redis cache into our chatbot infrastructure. Redis serves as a repository where previously asked questions and their corresponding answers are stored. This way, instead of fetching responses from the API each time, we first check if a similar question has been posed before and retrieve the pre-computed answer from Redis, drastically reducing the need for expensive API calls.\n",
        "\n",
        "2. **Enhanced Response Time**: Alongside the Redis cache implementation, we developed a custom similarity model utilizing nearest neighbor algorithms. This model analyzes incoming user questions and identifies the most similar questions from the dataset stored in Redis. By retrieving the best two similar questions from the cache, we expedite the process of finding relevant answers, further improving response time for users.\n",
        "\n",
        "3. **Streamlined Workflow**: With our solution in place, the chatbot application now follows a streamlined workflow. Upon receiving a user question, the model first checks if similar questions exist in the Redis cache. If matches are found, it retrieves the corresponding answers directly from the cache, eliminating the need for costly API calls. In the absence of exact matches, the application seamlessly falls back to the OpenAI API, ensuring a comprehensive response strategy while minimizing expenses.\n",
        "\n",
        "By implementing this innovative approach, we've not only mitigated the financial burden associated with API usage but also optimized the overall user experience by delivering prompt and accurate responses through intelligent caching and similarity analysis."
      ],
      "metadata": {
        "id": "58aHQ8YSlleP"
      }
    },
    {
      "cell_type": "code",
      "source": [
        "from sklearn.neighbors import KNeighborsClassifier, NearestNeighbors\n",
        "from sklearn.feature_extraction.text import TfidfVectorizer\n",
        "from sklearn.model_selection import train_test_split\n",
        "from gensim.models import Word2Vec\n",
        "from numpy import array\n",
        "import numpy as np\n",
        "# from sklearn.metrics.pairwise import cosine_similarity"
      ],
      "metadata": {
        "id": "rJzo2W0alhiG"
      },
      "execution_count": 121,
      "outputs": []
    },
    {
      "cell_type": "code",
      "source": [
        "# Sample Questions\n",
        "questions = [\n",
        "\"What is the capital of France?\",\n",
        "\"Where is the Louvre Museum located?\",\n",
        "\"Where is the Eiffel Tower located?\",\n",
        "\"Where can I find the Louvre Museum?\",\n",
        "\"Which city is home to the Eiffel Tower?\",\n",
        "\"What is the tallest structure in Paris?\",\n",
        "\"Where can I see the Mona Lisa?\",\n",
        "\"What city serves as the capital of France?\",\n",
        "\"Which landmark is situated in Paris?\",\n",
        "\"What is the main city in France?\",\n",
        "\"Where is the famous glass pyramid located?\",\n",
        "\"Where is the Seine River located?\",\n",
        "\"What is the forecast for tomorrow?\",\n",
        "\"Will it rain this weekend?\",\n",
        "\"What are the latest smartphone features?\",\n",
        "\"How does artificial intelligence impact daily life?\",\n",
        "\"Who won the latest football match?\",\n",
        "\"What are the rules of cricket?\",\n",
        "\"What are the must-visit attractions in New York City?\",\n",
        "\"How do I apply for a tourist visa?\",\n",
        "\"What are some popular Italian dishes?\",\n",
        "\"How do you make a classic spaghetti carbonara?\",\n",
        "\"What are the symptoms of the common cold?\",\n",
        "\"How can I improve my sleep quality?\",\n",
        "\"What are the benefits of online learning?\",\n",
        "\"How can I prepare for standardized tests effectively?\",\n",
        "\"What events led to World War II?\",\n",
        "\"Who were the key figures in the American Civil Rights Movement?\",\n",
        "\"What are some tips for managing personal finances?\",\n",
        "\"How does the stock market work?\",\n",
        "\"What are the top-rated movies of all time?\",\n",
        "\"Who won the latest Grammy Awards?\",\n",
        "\"What is the history of the French Revolution?\",\n",
        "\"Can you tell me about the tallest building in the world?\",\n",
        "\"How tall is Burj Khalifa?\",\n",
        "\"What is the population of Tokyo?\",\n",
        "\"Where is the Great Wall of China located?\",\n",
        "\"Can you explain the theory of relativity?\",\n",
        "\"How deep is the Mariana Trench?\",\n",
        "\"What is the capital of Brazil?\",\n",
        "\"Where can I find the Statue of Liberty?\",\n",
        "\"How trees make their food and create oxygen?\",\n",
        "\"How many continents are there in the world?\",\n",
        "\"What is the diameter of the Earth?\",\n",
        "\"Which one is the most populous city in the USA?\",\n",
        "\"Where is Mount Everest situated?\",\n",
        "\"Can you explain the concept of natural selection?\",\n",
        "\"How long is the Nile River?\",\n",
        "\"What is the currency of Japan?\",\n",
        "\"Where is the Colosseum located?\",\n",
        "\"Where are the pyrimids located?\",\n",
        "\"Can you define the term 'global warming'?\",\n",
        "\"How many bones are there in the human body?\",\n",
        "\"What is the main export of Australia?\",\n",
        "\"Where is the Amazon Rainforest located?\",\n",
        "\"Can you explain the process of cellular respiration?\",\n",
        "\"How tall is the Empire State Building?\",\n",
        "\"What is the capital of India?\",\n",
        "\"Where is the Taj Mahal situated?\",\n",
        "\"Can you describe the structure of an atom?\",\n",
        "\"How many time zones are there in the world?\",\n",
        "\"What is the largest desert in the world?\",\n",
        "\"Where is the Vatican City located?\",\n",
        "\"Can you explain the concept of gravity?\",\n",
        "\"How many planets are there in the solar system?\",\n",
        "\"What is the currency of the United Kingdom?\",\n",
        "\"Where can I find the Mona Lisa?\"\n",
        "]\n"
      ],
      "metadata": {
        "id": "Dqz6umfVfJqN"
      },
      "execution_count": 122,
      "outputs": []
    },
    {
      "cell_type": "code",
      "source": [
        "# Preprocessing (replace with your cleaning pipeline)\n",
        "def preprocess(text):\n",
        "    text = text.lower()  # Convert to lowercase\n",
        "    text = \"\".join([char for char in text if char.isalnum() or char.isspace()])  # Remove punctuation\n",
        "    # Initialize and train the Word2Vec model\n",
        "    word2vec_model = Word2Vec([text.split()], min_count=1)\n",
        "    return \" \".join([word for word in text.split() if word in word2vec_model.wv.key_to_index.keys()])  # Filter out-of-vocabulary words\n"
      ],
      "metadata": {
        "id": "1fyLRWznfS3N"
      },
      "execution_count": 123,
      "outputs": []
    },
    {
      "cell_type": "code",
      "source": [
        "processed_questions = [preprocess(q) for q in questions]\n"
      ],
      "metadata": {
        "id": "BhfZOos3fYTv"
      },
      "execution_count": 124,
      "outputs": []
    },
    {
      "cell_type": "code",
      "source": [
        "# Feature Engineering (Word2Vec)\n",
        "question_word_lists = [question.split() for question in processed_questions]\n",
        "word2vec_model = Word2Vec(question_word_lists, min_count=1)\n",
        "question_vectors = np.array([word2vec_model.wv[words].mean(axis=0) for words in question_word_lists])"
      ],
      "metadata": {
        "id": "78daIefoC2EW"
      },
      "execution_count": 125,
      "outputs": []
    },
    {
      "cell_type": "code",
      "source": [
        "# Option 2: Tf-idf\n",
        "vectorizer = TfidfVectorizer()\n",
        "question_vectors = vectorizer.fit_transform(processed_questions).toarray()"
      ],
      "metadata": {
        "id": "Ifpr_ToLozOU"
      },
      "execution_count": 126,
      "outputs": []
    },
    {
      "cell_type": "code",
      "source": [
        "# Train-Test Split\n",
        "X_train, X_test, y_train, y_test = train_test_split(question_vectors, np.arange(len(questions)), test_size=0.2)  # Dummy target (not used for KNN)\n"
      ],
      "metadata": {
        "id": "flumgPKsfgQQ"
      },
      "execution_count": 127,
      "outputs": []
    },
    {
      "cell_type": "code",
      "source": [
        "# KNN Model\n",
        "model = NearestNeighbors(n_neighbors=2, algorithm='auto')\n",
        "model.fit(X_train, y_train)\n"
      ],
      "metadata": {
        "id": "VhOlovHTfidy",
        "colab": {
          "base_uri": "https://localhost:8080/",
          "height": 75
        },
        "outputId": "7b01df45-7e6d-466d-a0c9-cc09d82ecc90"
      },
      "execution_count": 128,
      "outputs": [
        {
          "output_type": "execute_result",
          "data": {
            "text/plain": [
              "NearestNeighbors(n_neighbors=2)"
            ],
            "text/html": [
              "<style>#sk-container-id-13 {color: black;background-color: white;}#sk-container-id-13 pre{padding: 0;}#sk-container-id-13 div.sk-toggleable {background-color: white;}#sk-container-id-13 label.sk-toggleable__label {cursor: pointer;display: block;width: 100%;margin-bottom: 0;padding: 0.3em;box-sizing: border-box;text-align: center;}#sk-container-id-13 label.sk-toggleable__label-arrow:before {content: \"▸\";float: left;margin-right: 0.25em;color: #696969;}#sk-container-id-13 label.sk-toggleable__label-arrow:hover:before {color: black;}#sk-container-id-13 div.sk-estimator:hover label.sk-toggleable__label-arrow:before {color: black;}#sk-container-id-13 div.sk-toggleable__content {max-height: 0;max-width: 0;overflow: hidden;text-align: left;background-color: #f0f8ff;}#sk-container-id-13 div.sk-toggleable__content pre {margin: 0.2em;color: black;border-radius: 0.25em;background-color: #f0f8ff;}#sk-container-id-13 input.sk-toggleable__control:checked~div.sk-toggleable__content {max-height: 200px;max-width: 100%;overflow: auto;}#sk-container-id-13 input.sk-toggleable__control:checked~label.sk-toggleable__label-arrow:before {content: \"▾\";}#sk-container-id-13 div.sk-estimator input.sk-toggleable__control:checked~label.sk-toggleable__label {background-color: #d4ebff;}#sk-container-id-13 div.sk-label input.sk-toggleable__control:checked~label.sk-toggleable__label {background-color: #d4ebff;}#sk-container-id-13 input.sk-hidden--visually {border: 0;clip: rect(1px 1px 1px 1px);clip: rect(1px, 1px, 1px, 1px);height: 1px;margin: -1px;overflow: hidden;padding: 0;position: absolute;width: 1px;}#sk-container-id-13 div.sk-estimator {font-family: monospace;background-color: #f0f8ff;border: 1px dotted black;border-radius: 0.25em;box-sizing: border-box;margin-bottom: 0.5em;}#sk-container-id-13 div.sk-estimator:hover {background-color: #d4ebff;}#sk-container-id-13 div.sk-parallel-item::after {content: \"\";width: 100%;border-bottom: 1px solid gray;flex-grow: 1;}#sk-container-id-13 div.sk-label:hover label.sk-toggleable__label {background-color: #d4ebff;}#sk-container-id-13 div.sk-serial::before {content: \"\";position: absolute;border-left: 1px solid gray;box-sizing: border-box;top: 0;bottom: 0;left: 50%;z-index: 0;}#sk-container-id-13 div.sk-serial {display: flex;flex-direction: column;align-items: center;background-color: white;padding-right: 0.2em;padding-left: 0.2em;position: relative;}#sk-container-id-13 div.sk-item {position: relative;z-index: 1;}#sk-container-id-13 div.sk-parallel {display: flex;align-items: stretch;justify-content: center;background-color: white;position: relative;}#sk-container-id-13 div.sk-item::before, #sk-container-id-13 div.sk-parallel-item::before {content: \"\";position: absolute;border-left: 1px solid gray;box-sizing: border-box;top: 0;bottom: 0;left: 50%;z-index: -1;}#sk-container-id-13 div.sk-parallel-item {display: flex;flex-direction: column;z-index: 1;position: relative;background-color: white;}#sk-container-id-13 div.sk-parallel-item:first-child::after {align-self: flex-end;width: 50%;}#sk-container-id-13 div.sk-parallel-item:last-child::after {align-self: flex-start;width: 50%;}#sk-container-id-13 div.sk-parallel-item:only-child::after {width: 0;}#sk-container-id-13 div.sk-dashed-wrapped {border: 1px dashed gray;margin: 0 0.4em 0.5em 0.4em;box-sizing: border-box;padding-bottom: 0.4em;background-color: white;}#sk-container-id-13 div.sk-label label {font-family: monospace;font-weight: bold;display: inline-block;line-height: 1.2em;}#sk-container-id-13 div.sk-label-container {text-align: center;}#sk-container-id-13 div.sk-container {/* jupyter's `normalize.less` sets `[hidden] { display: none; }` but bootstrap.min.css set `[hidden] { display: none !important; }` so we also need the `!important` here to be able to override the default hidden behavior on the sphinx rendered scikit-learn.org. See: https://github.com/scikit-learn/scikit-learn/issues/21755 */display: inline-block !important;position: relative;}#sk-container-id-13 div.sk-text-repr-fallback {display: none;}</style><div id=\"sk-container-id-13\" class=\"sk-top-container\"><div class=\"sk-text-repr-fallback\"><pre>NearestNeighbors(n_neighbors=2)</pre><b>In a Jupyter environment, please rerun this cell to show the HTML representation or trust the notebook. <br />On GitHub, the HTML representation is unable to render, please try loading this page with nbviewer.org.</b></div><div class=\"sk-container\" hidden><div class=\"sk-item\"><div class=\"sk-estimator sk-toggleable\"><input class=\"sk-toggleable__control sk-hidden--visually\" id=\"sk-estimator-id-13\" type=\"checkbox\" checked><label for=\"sk-estimator-id-13\" class=\"sk-toggleable__label sk-toggleable__label-arrow\">NearestNeighbors</label><div class=\"sk-toggleable__content\"><pre>NearestNeighbors(n_neighbors=2)</pre></div></div></div></div></div>"
            ]
          },
          "metadata": {},
          "execution_count": 128
        }
      ]
    },
    {
      "cell_type": "code",
      "source": [
        "# K-nearest neighbors classifier model\n",
        "knn_model = KNeighborsClassifier(n_neighbors=2, metric='euclidean')\n",
        "knn_model.fit(question_vectors, np.arange(len(questions)))  # Dummy labels\n"
      ],
      "metadata": {
        "id": "osds9B_yrrq7",
        "colab": {
          "base_uri": "https://localhost:8080/",
          "height": 75
        },
        "outputId": "288b1e30-b343-49db-cf37-deec35c96b8a"
      },
      "execution_count": 129,
      "outputs": [
        {
          "output_type": "execute_result",
          "data": {
            "text/plain": [
              "KNeighborsClassifier(metric='euclidean', n_neighbors=2)"
            ],
            "text/html": [
              "<style>#sk-container-id-14 {color: black;background-color: white;}#sk-container-id-14 pre{padding: 0;}#sk-container-id-14 div.sk-toggleable {background-color: white;}#sk-container-id-14 label.sk-toggleable__label {cursor: pointer;display: block;width: 100%;margin-bottom: 0;padding: 0.3em;box-sizing: border-box;text-align: center;}#sk-container-id-14 label.sk-toggleable__label-arrow:before {content: \"▸\";float: left;margin-right: 0.25em;color: #696969;}#sk-container-id-14 label.sk-toggleable__label-arrow:hover:before {color: black;}#sk-container-id-14 div.sk-estimator:hover label.sk-toggleable__label-arrow:before {color: black;}#sk-container-id-14 div.sk-toggleable__content {max-height: 0;max-width: 0;overflow: hidden;text-align: left;background-color: #f0f8ff;}#sk-container-id-14 div.sk-toggleable__content pre {margin: 0.2em;color: black;border-radius: 0.25em;background-color: #f0f8ff;}#sk-container-id-14 input.sk-toggleable__control:checked~div.sk-toggleable__content {max-height: 200px;max-width: 100%;overflow: auto;}#sk-container-id-14 input.sk-toggleable__control:checked~label.sk-toggleable__label-arrow:before {content: \"▾\";}#sk-container-id-14 div.sk-estimator input.sk-toggleable__control:checked~label.sk-toggleable__label {background-color: #d4ebff;}#sk-container-id-14 div.sk-label input.sk-toggleable__control:checked~label.sk-toggleable__label {background-color: #d4ebff;}#sk-container-id-14 input.sk-hidden--visually {border: 0;clip: rect(1px 1px 1px 1px);clip: rect(1px, 1px, 1px, 1px);height: 1px;margin: -1px;overflow: hidden;padding: 0;position: absolute;width: 1px;}#sk-container-id-14 div.sk-estimator {font-family: monospace;background-color: #f0f8ff;border: 1px dotted black;border-radius: 0.25em;box-sizing: border-box;margin-bottom: 0.5em;}#sk-container-id-14 div.sk-estimator:hover {background-color: #d4ebff;}#sk-container-id-14 div.sk-parallel-item::after {content: \"\";width: 100%;border-bottom: 1px solid gray;flex-grow: 1;}#sk-container-id-14 div.sk-label:hover label.sk-toggleable__label {background-color: #d4ebff;}#sk-container-id-14 div.sk-serial::before {content: \"\";position: absolute;border-left: 1px solid gray;box-sizing: border-box;top: 0;bottom: 0;left: 50%;z-index: 0;}#sk-container-id-14 div.sk-serial {display: flex;flex-direction: column;align-items: center;background-color: white;padding-right: 0.2em;padding-left: 0.2em;position: relative;}#sk-container-id-14 div.sk-item {position: relative;z-index: 1;}#sk-container-id-14 div.sk-parallel {display: flex;align-items: stretch;justify-content: center;background-color: white;position: relative;}#sk-container-id-14 div.sk-item::before, #sk-container-id-14 div.sk-parallel-item::before {content: \"\";position: absolute;border-left: 1px solid gray;box-sizing: border-box;top: 0;bottom: 0;left: 50%;z-index: -1;}#sk-container-id-14 div.sk-parallel-item {display: flex;flex-direction: column;z-index: 1;position: relative;background-color: white;}#sk-container-id-14 div.sk-parallel-item:first-child::after {align-self: flex-end;width: 50%;}#sk-container-id-14 div.sk-parallel-item:last-child::after {align-self: flex-start;width: 50%;}#sk-container-id-14 div.sk-parallel-item:only-child::after {width: 0;}#sk-container-id-14 div.sk-dashed-wrapped {border: 1px dashed gray;margin: 0 0.4em 0.5em 0.4em;box-sizing: border-box;padding-bottom: 0.4em;background-color: white;}#sk-container-id-14 div.sk-label label {font-family: monospace;font-weight: bold;display: inline-block;line-height: 1.2em;}#sk-container-id-14 div.sk-label-container {text-align: center;}#sk-container-id-14 div.sk-container {/* jupyter's `normalize.less` sets `[hidden] { display: none; }` but bootstrap.min.css set `[hidden] { display: none !important; }` so we also need the `!important` here to be able to override the default hidden behavior on the sphinx rendered scikit-learn.org. See: https://github.com/scikit-learn/scikit-learn/issues/21755 */display: inline-block !important;position: relative;}#sk-container-id-14 div.sk-text-repr-fallback {display: none;}</style><div id=\"sk-container-id-14\" class=\"sk-top-container\"><div class=\"sk-text-repr-fallback\"><pre>KNeighborsClassifier(metric=&#x27;euclidean&#x27;, n_neighbors=2)</pre><b>In a Jupyter environment, please rerun this cell to show the HTML representation or trust the notebook. <br />On GitHub, the HTML representation is unable to render, please try loading this page with nbviewer.org.</b></div><div class=\"sk-container\" hidden><div class=\"sk-item\"><div class=\"sk-estimator sk-toggleable\"><input class=\"sk-toggleable__control sk-hidden--visually\" id=\"sk-estimator-id-14\" type=\"checkbox\" checked><label for=\"sk-estimator-id-14\" class=\"sk-toggleable__label sk-toggleable__label-arrow\">KNeighborsClassifier</label><div class=\"sk-toggleable__content\"><pre>KNeighborsClassifier(metric=&#x27;euclidean&#x27;, n_neighbors=2)</pre></div></div></div></div></div>"
            ]
          },
          "metadata": {},
          "execution_count": 129
        }
      ]
    },
    {
      "cell_type": "code",
      "source": [
        "# New Question Example\n",
        "new_question = \"Which country's currency is Yuan?\"\n",
        "new_question_processed = preprocess(new_question)\n",
        "new_question_vector = vectorizer.transform([new_question_processed]).toarray()  # Convert new question to vector using Tf-idf"
      ],
      "metadata": {
        "id": "igS9cvBYfo3X"
      },
      "execution_count": 130,
      "outputs": []
    },
    {
      "cell_type": "code",
      "source": [
        "# Convert new question to vector using Tf-idf\n",
        "knn_new_question_vector = vectorizer.transform([new_question_processed]).toarray()\n",
        "\n",
        "# Reshape knn_new_question_vector (if necessary)\n",
        "if knn_new_question_vector.shape[1] != question_vectors.shape[1]:  # Check for matching feature size\n",
        "  knn_new_question_vector = knn_new_question_vector.reshape(1, -1)\n"
      ],
      "metadata": {
        "id": "HKXsyGO2Dg-4"
      },
      "execution_count": 131,
      "outputs": []
    },
    {
      "cell_type": "code",
      "source": [
        "# Find Similar Questions\n",
        "distances, neighbors = model.kneighbors(new_question_vector)\n",
        "\n",
        "# Check if the number of features matches the expected number\n",
        "expected_num_features = len(knn_new_question_vector[0])  # Assuming knn_new_question_vector is a list of vectors\n",
        "if knn_new_question_vector.shape[1] != expected_num_features:\n",
        "    print(\"The number of features in knn_new_question_vector does not match the expected number of features.\")\n",
        "else:\n",
        "    # Find Similar Questions\n",
        "    knn_distances, knn_neighbors = knn_model.kneighbors(knn_new_question_vector)\n"
      ],
      "metadata": {
        "id": "_tbZaUbmfq8v"
      },
      "execution_count": 132,
      "outputs": []
    },
    {
      "cell_type": "code",
      "source": [
        "print(distances)\n",
        "print(neighbors)\n"
      ],
      "metadata": {
        "id": "eAic5Ts_2roA",
        "colab": {
          "base_uri": "https://localhost:8080/"
        },
        "outputId": "c1587797-18da-46d4-fa84-06dce7481c82"
      },
      "execution_count": 133,
      "outputs": [
        {
          "output_type": "stream",
          "name": "stdout",
          "text": [
            "[[1.02062876 1.14462216]]\n",
            "[[46 52]]\n"
          ]
        }
      ]
    },
    {
      "cell_type": "code",
      "source": [
        "print(knn_distances)\n",
        "print(knn_neighbors)"
      ],
      "metadata": {
        "id": "OOZG7YErOn6E",
        "colab": {
          "base_uri": "https://localhost:8080/"
        },
        "outputId": "5747f50f-6f79-4993-b99d-df0ed2867619"
      },
      "execution_count": 134,
      "outputs": [
        {
          "output_type": "stream",
          "name": "stdout",
          "text": [
            "[[1.02062876 1.10221298]]\n",
            "[[48 65]]\n"
          ]
        }
      ]
    },
    {
      "cell_type": "code",
      "source": [
        "# Print similar questions from training data based on their indices in neighbors\n",
        "for i, neighbor_index in enumerate(neighbors[0]):\n",
        "    print(f\"Similar Question: {questions[neighbor_index]} (Distance: {distances[0][i]})\")\n"
      ],
      "metadata": {
        "id": "Rwn_u6qQfs8x",
        "colab": {
          "base_uri": "https://localhost:8080/"
        },
        "outputId": "366e902a-793b-459c-9196-100545646132"
      },
      "execution_count": 135,
      "outputs": [
        {
          "output_type": "stream",
          "name": "stdout",
          "text": [
            "Similar Question: Can you explain the concept of natural selection? (Distance: 1.020628759718866)\n",
            "Similar Question: How many bones are there in the human body? (Distance: 1.144622161134244)\n"
          ]
        }
      ]
    },
    {
      "cell_type": "code",
      "source": [
        "# Print similar questions from training data based on their indices in knn_neighbors\n",
        "for i, knn_neighbor_index in enumerate(knn_neighbors[0]):\n",
        "    print(f\"Similar Question {i+1}: {questions[knn_neighbor_index]} (Distance: {knn_distances[0][i]})\")"
      ],
      "metadata": {
        "id": "YUQaoWtPrXOC",
        "colab": {
          "base_uri": "https://localhost:8080/"
        },
        "outputId": "ec1faed8-9574-4a4b-eb65-1ef526a8050b"
      },
      "execution_count": 136,
      "outputs": [
        {
          "output_type": "stream",
          "name": "stdout",
          "text": [
            "Similar Question 1: What is the currency of Japan? (Distance: 1.020628759718866)\n",
            "Similar Question 2: What is the currency of the United Kingdom? (Distance: 1.1022129785319008)\n"
          ]
        }
      ]
    },
    {
      "cell_type": "code",
      "source": [],
      "metadata": {
        "id": "sMVkBVLQPoPQ"
      },
      "execution_count": 136,
      "outputs": []
    }
  ]
}