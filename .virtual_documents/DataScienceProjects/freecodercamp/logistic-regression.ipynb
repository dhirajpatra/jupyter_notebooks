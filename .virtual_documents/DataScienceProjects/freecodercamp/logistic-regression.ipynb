import numpy as np
import matplotlib.pyplot as plt
from sklearn.linear_model import LogisticRegression
from sklearn.metrics import accuracy_score



# sample data
pages = np.array([100, 150, 200, 250, 300, 350, 400, 450, 500]).reshape(-1, 1)
likes = np.array([0, 1, 1, 1, 0, 0, 0, 0, 0]) # 1 like and 0 dislike


# Creating a logisting regression mode
model = LogisticRegression()


# training the mmodel
model.fit(pages, likes)


# prediction
predict_book_pages = 210
predicted_like = model.predict([[predict_book_pages]])


# plotting
plt.scatter(pages, likes, color='forestgreen')
plt.plot(model.predict_proba(pages)[:, 1], color='darkred')
plt.title('Pages Like/Dislike')
plt.xlabel('Number of Pages')
plt.ylabel('Liklihood of Liking')
plt.axvline(x=predict_book_pages, color='green', linestyle='--')
plt.axhline(y=0.5, color='grey', linestyle='--')
plt.show()


# display prediction
print(f"Jenny will {'like' if predicted_like[0] == 1 else 'not like'} a book of {predict_book_pages} pages.")



