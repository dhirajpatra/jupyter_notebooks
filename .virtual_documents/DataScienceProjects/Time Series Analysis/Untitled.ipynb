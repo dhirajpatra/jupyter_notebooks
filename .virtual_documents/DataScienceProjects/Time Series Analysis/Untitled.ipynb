# Import necessary libraries
import pandas as pd
import numpy as np
import matplotlib.pyplot as plt
import seaborn as sns
from statsmodels.tsa.arima.model import ARIMA


data = pd.read_csv("HistoricalPricesEuroInINR.csv")
data.head()


data.info()


data.describe()


col_names = data.columns
print(col_names)


df = data.rename(columns=lambda x: x.replace(" ", "").lower())  # Replace spaces with underscores
df.columns


df


# Convert 'date' to datetime with explicit format and frequency
df['date'] = pd.to_datetime(df['date'], format='%m/%d/%y')
df.set_index('date', inplace=True)


if df.index.freq == None:
    df = df.fillna(method='ffill')  # Forward fill to fill missing values with the last available value

# Set the frequency to daily ('D')
df = df.asfreq('D')

# Check the frequency again
print(df.index.freq)  # This should print 'D'



df.head()


df.index


df.info()


df.head()


# Visualize the time series data
plt.figure(figsize=(10, 6))
plt.plot(df.index, df['close'], label='Euro to INR Exchange Rates')
plt.title('Euro to INR Exchange Rates Over Time')
plt.xlabel('Date')
plt.ylabel('Exchange Rate')
plt.legend()
plt.show()


# Correlation Analysis
correlation_matrix = df.corr()
plt.figure(figsize=(8, 6))
sns.heatmap(correlation_matrix, annot=True, cmap='coolwarm', fmt=".2f")
plt.title('Correlation Matrix')
plt.show()


# Handling Missing Data
missing_data = data.isnull().sum()
print("\nMissing Data:")
print(missing_data)


# Feature Engineering (Extracting Month and Year from Date)
df['month'] = df.index.month
df['year'] = df.index.year
df['day'] = df.index.day


df.head()


# Visualization of Monthly Mean Close Prices
monthly_mean = df.groupby('month')['close'].mean()
plt.figure(figsize=(10, 6))
plt.plot(monthly_mean.index, monthly_mean.values, marker='o', linestyle='-', color='orange')
plt.title('Monthly Mean Close Prices')
plt.xlabel('Month')
plt.ylabel('Mean Close Price')
plt.show()


# Outlier Detection (Boxplot)
plt.figure(figsize=(8, 6))
sns.boxplot(x=df['close'])
plt.title('Boxplot of Close Prices')
plt.show()


# Data Split - Assuming last 10% of data as the test set
split_index = int(0.9 * len(df))
train_data = df.iloc[:split_index]
test_data = df.iloc[split_index:]


df.info()


df.index


# Fit ARIMA model on training data
model = ARIMA(train_data['close'], order=(1, 1, 1))
results = model.fit()
results


# Function to predict Euro to INR exchange rate for a future date
def predict_future_exchange_rate(model, data, steps=1):
    forecast = results.get_prediction(start=len(data), end=len(data) + steps - 1)
    forecast_ci = forecast.conf_int()
    return forecast.predicted_mean[-1], forecast_ci.iloc[-1, 0], forecast_ci.iloc[-1, 1]




# Example: Predict for the first date in the test set
future_date = test_data.index[0]
predicted_rate, lower_ci, upper_ci = predict_future_exchange_rate(model, data, steps=1)



# Visualize the forecast for the future date
plt.figure(figsize=(10, 6))
plt.plot(df.index, df['close'], label='Actual Exchange Rates')  # Use df.index for 'x'
plt.plot(pd.date_range(start=df.index.max(), periods=2, freq='D')[1:], [df['close'].iloc[-1], predicted_rate], color='red', label='Forecast for Future Date')
plt.fill_between(pd.date_range(start=df.index.max(), periods=2, freq='D')[1:], [lower_ci, upper_ci], color='pink', alpha=0.2, label='Confidence Interval')
plt.title('Euro to INR Exchange Rate Forecast with ARIMA for Future Date')
plt.xlabel('Date')
plt.ylabel('Exchange Rate')
plt.legend()
plt.show()



# Display the predicted value and confidence interval for the future date
print(f'\nPredicted Euro to INR Exchange Rate for {future_date}: {predicted_rate:.2f} (CI: {lower_ci:.2f} - {upper_ci:.2f})')




