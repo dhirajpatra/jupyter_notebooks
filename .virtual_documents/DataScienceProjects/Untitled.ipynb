import numpy as np
import pandas as pd
import matplotlib.pyplot as plt
from sklearn.model_selection import train_test_split
import xgboost as xgb
from sklearn.metrics import mean_squared_error



