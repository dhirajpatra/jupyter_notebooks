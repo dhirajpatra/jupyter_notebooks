{
 "cells": [
  {
   "cell_type": "markdown",
   "id": "e635509c",
   "metadata": {},
   "source": [
    "# Daily Dose of Data Science\n",
    "\n",
    "[Create a Moving Bubbles Chart in Python](https://blog.dailydoseofds.com/p/create-a-moving-bubbles-chart)"
   ]
  },
  {
   "cell_type": "code",
   "execution_count": null,
   "id": "b668df78",
   "metadata": {},
   "outputs": [],
   "source": [
    "!pip install d3blocks"
   ]
  },
  {
   "cell_type": "code",
   "execution_count": null,
   "id": "46008fa2",
   "metadata": {},
   "outputs": [],
   "source": [
    "import pandas as pd\n",
    "\n",
    "from d3blocks import D3Blocks"
   ]
  },
  {
   "cell_type": "code",
   "execution_count": null,
   "id": "6becb199",
   "metadata": {},
   "outputs": [],
   "source": [
    "# Initialize\n",
    "\n",
    "d3 = D3Blocks()"
   ]
  },
  {
   "cell_type": "code",
   "execution_count": null,
   "id": "c273672d",
   "metadata": {},
   "outputs": [],
   "source": [
    "# Import example\n",
    "\n",
    "df = d3.import_example('random_time', \n",
    "                       n=10000, \n",
    "                       c=300, \n",
    "                       date_start=\"1-1-2000 00:10:05\", \n",
    "                       date_stop=\"1-1-2000 23:59:59\")\n",
    "\n",
    "df.head()"
   ]
  },
  {
   "cell_type": "code",
   "execution_count": null,
   "id": "c05a486c",
   "metadata": {},
   "outputs": [],
   "source": [
    "# Create moving bubbles plot\n",
    "\n",
    "d3.movingbubbles(df,\n",
    "                 datetime='datetime',\n",
    "                 sample_id='sample_id',\n",
    "                 state='state',\n",
    "                 filepath='./movingbubbles.svg')"
   ]
  },
  {
   "cell_type": "code",
   "execution_count": null,
   "id": "f030d2a5",
   "metadata": {},
   "outputs": [],
   "source": [
    "# Open movingbubbles.html file now"
   ]
  }
 ],
 "metadata": {
  "kernelspec": {
   "display_name": "Python 3 (ipykernel)",
   "language": "python",
   "name": "python3"
  },
  "language_info": {
   "codemirror_mode": {
    "name": "ipython",
    "version": 3
   },
   "file_extension": ".py",
   "mimetype": "text/x-python",
   "name": "python",
   "nbconvert_exporter": "python",
   "pygments_lexer": "ipython3",
   "version": "3.9.13"
  },
  "toc": {
   "base_numbering": 1,
   "nav_menu": {},
   "number_sections": true,
   "sideBar": true,
   "skip_h1_title": false,
   "title_cell": "Table of Contents",
   "title_sidebar": "Contents",
   "toc_cell": false,
   "toc_position": {},
   "toc_section_display": true,
   "toc_window_display": false
  }
 },
 "nbformat": 4,
 "nbformat_minor": 5
}
