{
 "cells": [
  {
   "cell_type": "code",
   "execution_count": 1,
   "id": "4ed6ed32",
   "metadata": {},
   "outputs": [],
   "source": [
    "import datetime\n",
    "import matplotlib.pyplot as plt\n",
    "from matplotlib.dates import DayLocator, HourLocator, DateFormatter, drange\n",
    "import numpy as np"
   ]
  },
  {
   "cell_type": "code",
   "execution_count": 2,
   "id": "08888ada",
   "metadata": {},
   "outputs": [
    {
     "data": {
      "image/png": "[encoded data removed]",
      "text/plain": [
       "<Figure size 432x288 with 1 Axes>"
      ]
     },
     "metadata": {
      "needs_background": "light"
     },
     "output_type": "display_data"
    }
   ],
   "source": [
    "date1 = datetime.datetime(2000, 3, 2)\n",
    "date2 = datetime.datetime(2000, 3, 6)\n",
    "delta = datetime.timedelta(hours=6)\n",
    "dates = drange(date1, date2, delta)\n",
    "\n",
    "y = np.arange(len(dates))\n",
    "\n",
    "fig, ax = plt.subplots()\n",
    "ax.plot_date(dates, y ** 2)\n",
    "\n",
    "# this is superfluous, since the autoscaler should get it right, but\n",
    "# use date2num and num2date to convert between dates and floats if\n",
    "# you want; both date2num and num2date convert an instance or sequence\n",
    "ax.set_xlim(dates[0], dates[-1])\n",
    "\n",
    "# The hour locator takes the hour or sequence of hours you want to\n",
    "# tick, not the base multiple\n",
    "\n",
    "ax.xaxis.set_major_locator(DayLocator())\n",
    "ax.xaxis.set_minor_locator(HourLocator(range(0, 25, 6)))\n",
    "ax.xaxis.set_major_formatter(DateFormatter('%Y-%m-%d'))\n",
    "\n",
    "ax.fmt_xdata = DateFormatter('%Y-%m-%d %H:%M:%S')\n",
    "fig.autofmt_xdate()\n",
    "\n",
    "plt.show()"
   ]
  }
 ],
 "metadata": {
  "kernelspec": {
   "display_name": "Python 3",
   "language": "python",
   "name": "python3"
  },
  "language_info": {
   "codemirror_mode": {
    "name": "ipython",
    "version": 3
   },
   "file_extension": ".py",
   "mimetype": "text/x-python",
   "name": "python",
   "nbconvert_exporter": "python",
   "pygments_lexer": "ipython3",
   "version": "3.8.8"
  }
 },
 "nbformat": 4,
 "nbformat_minor": 5
}
