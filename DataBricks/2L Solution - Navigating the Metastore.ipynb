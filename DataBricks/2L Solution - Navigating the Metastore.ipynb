{
 "cells": [
  {
   "cell_type": "markdown",
   "metadata": {
    "application/vnd.databricks.v1+cell": {
     "cellMetadata": {},
     "inputWidgets": {},
     "nuid": "4ccc5eb3-7876-43f7-915f-efd886815403",
     "showTitle": false,
     "tableResultSettingsMap": {},
     "title": ""
    }
   },
   "source": [
    "\n",
    "<div style=\"text-align: center; line-height: 0; padding-top: 9px;\">\n",
    "  <img src=\"https://databricks.com/wp-content/uploads/2018/03/db-academy-rgb-1200px.png\" alt=\"Databricks Learning\">\n",
    "</div>\n"
   ]
  },
  {
   "cell_type": "markdown",
   "metadata": {
    "application/vnd.databricks.v1+cell": {
     "cellMetadata": {},
     "inputWidgets": {},
     "nuid": "e66f95c0-2411-49fe-8126-4c2da490ca84",
     "showTitle": false,
     "tableResultSettingsMap": {},
     "title": ""
    }
   },
   "source": [
    "# Lab: Navigating the Metastore\n",
    "In this demo, we'll explore the structure and functionality of a metastore, delving into its various components like catalogs, schemas, and tables. We'll employ SQL commands such as SHOW and DESCRIBE to inspect and analyze these elements, enhancing our understanding of the metastore's configuration and the properties of different data objects. \n",
    "\n",
    "Additionally, we'll examine the roles of system catalogs and information_schema in metadata management, and highlight the importance of data lineage in data governance. This hands-on demonstration will equip participants with the knowledge to effectively navigate and utilize metastores in a cloud environment."
   ]
  },
  {
   "cell_type": "markdown",
   "metadata": {
    "application/vnd.databricks.v1+cell": {
     "cellMetadata": {},
     "inputWidgets": {},
     "nuid": "4930daaf-4ef4-457d-ad14-d1c3e0d40ff3",
     "showTitle": false,
     "tableResultSettingsMap": {},
     "title": ""
    }
   },
   "source": [
    "### Learning Objectives\n",
    "By the end of this demo, you will be able to:\n",
    "1. Discuss the structure and function of a metastore, including its different components such as catalogs, schemas, and tables.\n",
    "2. Apply SQL commands like `SHOW` and `DESCRIBE` to inspect and explore different elements within the metastore, such as catalogs, schemas, tables, user-defined functions, and privileges.\n",
    "3. Analyze and interpret the configuration of the metastore and the properties of various data objects.\n",
    "4. Evaluate the roles of the system catalog and the information_schema in managing and accessing metadata.\n",
    "5. Identify and explain the importance of data lineage as part of data governance.\n"
   ]
  },
  {
   "cell_type": "markdown",
   "metadata": {
    "application/vnd.databricks.v1+cell": {
     "cellMetadata": {},
     "inputWidgets": {},
     "nuid": "85b0609e-1fae-483d-be36-3386d2d332d6",
     "showTitle": false,
     "tableResultSettingsMap": {},
     "title": ""
    }
   },
   "source": [
    "## REQUIRED - SELECT CLASSIC COMPUTE\n",
    "\n",
    "Before executing cells in this notebook, please select your classic compute cluster in the lab. Be aware that **Serverless** is enabled by default.\n",
    "\n",
    "Follow these steps to select the classic compute cluster:\n",
    "\n",
    "\n",
    "1. Navigate to the top-right of this notebook and click the drop-down menu to select your cluster. By default, the notebook will use **Serverless**.\n",
    "\n",
    "2. If your cluster is available, select it and continue to the next cell. If the cluster is not shown:\n",
    "\n",
    "   - Click **More** in the drop-down.\n",
    "\n",
    "   - In the **Attach to an existing compute resource** window, use the first drop-down to select your unique cluster.\n",
    "\n",
    "**NOTE:** If your cluster has terminated, you might need to restart it in order to select it. To do this:\n",
    "\n",
    "1. Right-click on **Compute** in the left navigation pane and select *Open in new tab*.\n",
    "\n",
    "2. Find the triangle icon to the right of your compute cluster name and click it.\n",
    "\n",
    "3. Wait a few minutes for the cluster to start.\n",
    "\n",
    "4. Once the cluster is running, complete the steps above to select your cluster."
   ]
  },
  {
   "cell_type": "markdown",
   "metadata": {
    "application/vnd.databricks.v1+cell": {
     "cellMetadata": {},
     "inputWidgets": {},
     "nuid": "4c9286e5-4db6-48ae-899b-b513b5b8983a",
     "showTitle": false,
     "tableResultSettingsMap": {},
     "title": ""
    }
   },
   "source": [
    "## Classroom Setup\n",
    "\n",
    "Run the following cell to configure your working environment for this course. It will also set your default catalog to your specific catalog and the schema to the schema name shown below using the `USE` statements.\n",
    "<br></br>\n",
    "\n",
    "\n",
    "```\n",
    "USE CATALOG <your catalog>;\n",
    "USE SCHEMA <your catalog>.<schema>;\n",
    "```\n",
    "\n",
    "**NOTE:** The `DA` object is only used in Databricks Academy courses and is not available outside of these courses. It will dynamically reference the information needed to run the course."
   ]
  },
  {
   "cell_type": "code",
   "execution_count": 0,
   "metadata": {
    "application/vnd.databricks.v1+cell": {
     "cellMetadata": {
      "byteLimit": 2048000,
      "rowLimit": 10000
     },
     "inputWidgets": {},
     "nuid": "fbce9b65-f4ea-445f-ba67-6ef4277244f1",
     "showTitle": false,
     "tableResultSettingsMap": {},
     "title": ""
    }
   },
   "outputs": [
    {
     "output_type": "stream",
     "name": "stdout",
     "output_type": "stream",
     "text": [
      "\u001B[43mNote: you may need to restart the kernel using %restart_python or dbutils.library.restartPython() to use updated packages.\u001B[0m\n"
     ]
    },
    {
     "output_type": "stream",
     "name": "stdout",
     "output_type": "stream",
     "text": [
      "Created the silver table and vw_gold view in your catalog labuser11086062_1754358966 with the example schema.\nSet the default catalog to labuser11086062_1754358966.\nSet the default schema to example.\n"
     ]
    },
    {
     "output_type": "display_data",
     "data": {
      "text/html": [
       "<table style=\"width:100%\">\n",
       "            <tr>\n",
       "                <td style=\"white-space:nowrap; width:1em\">Your Unity Catalog name:</td>\n",
       "                <td><input type=\"text\" value=\"labuser11086062_1754358966\" style=\"width: 100%\"></td></tr>\n",
       "            <tr>\n",
       "                <td style=\"white-space:nowrap; width:1em\">Your Schema Name:</td>\n",
       "                <td><input type=\"text\" value=\"example\" style=\"width: 100%\"></td></tr></table>"
      ]
     },
     "metadata": {},
     "output_type": "display_data"
    }
   ],
   "source": [
    "%run ./Includes/Classroom-Setup-2"
   ]
  },
  {
   "cell_type": "markdown",
   "metadata": {
    "application/vnd.databricks.v1+cell": {
     "cellMetadata": {},
     "inputWidgets": {},
     "nuid": "903a8402-1b24-4624-9411-cff83c74dc07",
     "showTitle": false,
     "tableResultSettingsMap": {},
     "title": ""
    }
   },
   "source": [
    "## A. Analyze Data Objects in Classroom Setup\n",
    "Let us analyze the current data objects and their components during the classroom setup."
   ]
  },
  {
   "cell_type": "markdown",
   "metadata": {
    "application/vnd.databricks.v1+cell": {
     "cellMetadata": {},
     "inputWidgets": {},
     "nuid": "79b6dcd9-d665-4edc-8b7a-06593bacd5a7",
     "showTitle": false,
     "tableResultSettingsMap": {},
     "title": ""
    }
   },
   "source": [
    "### A1. Analyze the Current Catalog\n",
    "\n",
    "1. Run code to view your current default catalog. Confirm that the catalog name displayed above is your current catalog.\n"
   ]
  },
  {
   "cell_type": "code",
   "execution_count": 0,
   "metadata": {
    "application/vnd.databricks.v1+cell": {
     "cellMetadata": {
      "byteLimit": 2048000,
      "rowLimit": 10000
     },
     "inputWidgets": {},
     "nuid": "d8c6074f-84a6-41f1-9d67-03c687956abc",
     "showTitle": false,
     "tableResultSettingsMap": {},
     "title": ""
    }
   },
   "outputs": [
    {
     "output_type": "display_data",
     "data": {
      "text/html": [
       "<style scoped>\n",
       "  .table-result-container {\n",
       "    max-height: 300px;\n",
       "    overflow: auto;\n",
       "  }\n",
       "  table, th, td {\n",
       "    border: 1px solid black;\n",
       "    border-collapse: collapse;\n",
       "  }\n",
       "  th, td {\n",
       "    padding: 5px;\n",
       "  }\n",
       "  th {\n",
       "    text-align: left;\n",
       "  }\n",
       "</style><div class='table-result-container'><table class='table-result'><thead style='background-color: white'><tr><th>current_catalog()</th></tr></thead><tbody><tr><td>labuser11086062_1754358966</td></tr></tbody></table></div>"
      ]
     },
     "metadata": {
      "application/vnd.databricks.v1+output": {
       "addedWidgets": {},
       "aggData": [],
       "aggError": "",
       "aggOverflow": false,
       "aggSchema": [],
       "aggSeriesLimitReached": false,
       "aggType": "",
       "arguments": {},
       "columnCustomDisplayInfos": {},
       "data": [
        [
         "labuser11086062_1754358966"
        ]
       ],
       "datasetInfos": [],
       "dbfsResultPath": null,
       "isJsonSchema": true,
       "metadata": {
        "isDbfsCommandResult": false
       },
       "overflow": false,
       "plotOptions": {
        "customPlotOptions": {},
        "displayType": "table",
        "pivotAggregation": null,
        "pivotColumns": null,
        "xColumns": null,
        "yColumns": null
       },
       "removedWidgets": [],
       "schema": [
        {
         "metadata": "{\"__autoGeneratedAlias\":\"true\"}",
         "name": "current_catalog()",
         "type": "\"string\""
        }
       ],
       "type": "table"
      }
     },
     "output_type": "display_data"
    }
   ],
   "source": [
    "SELECT current_catalog();"
   ]
  },
  {
   "cell_type": "markdown",
   "metadata": {
    "application/vnd.databricks.v1+cell": {
     "cellMetadata": {},
     "inputWidgets": {},
     "nuid": "a6784e16-26dc-4084-bd54-124ef9524b4c",
     "showTitle": false,
     "tableResultSettingsMap": {},
     "title": ""
    }
   },
   "source": [
    "### A2. Analyze the Current Schema\n",
    "\n",
    "1. Run code to view your current default schema. Confirm that your current schema is **example**.\n"
   ]
  },
  {
   "cell_type": "code",
   "execution_count": 0,
   "metadata": {
    "application/vnd.databricks.v1+cell": {
     "cellMetadata": {
      "byteLimit": 2048000,
      "rowLimit": 10000
     },
     "inputWidgets": {},
     "nuid": "d2278d3e-8cde-4609-b973-4ef70cfa7b3c",
     "showTitle": false,
     "tableResultSettingsMap": {},
     "title": ""
    }
   },
   "outputs": [
    {
     "output_type": "display_data",
     "data": {
      "text/html": [
       "<style scoped>\n",
       "  .table-result-container {\n",
       "    max-height: 300px;\n",
       "    overflow: auto;\n",
       "  }\n",
       "  table, th, td {\n",
       "    border: 1px solid black;\n",
       "    border-collapse: collapse;\n",
       "  }\n",
       "  th, td {\n",
       "    padding: 5px;\n",
       "  }\n",
       "  th {\n",
       "    text-align: left;\n",
       "  }\n",
       "</style><div class='table-result-container'><table class='table-result'><thead style='background-color: white'><tr><th>current_schema()</th></tr></thead><tbody><tr><td>example</td></tr></tbody></table></div>"
      ]
     },
     "metadata": {
      "application/vnd.databricks.v1+output": {
       "addedWidgets": {},
       "aggData": [],
       "aggError": "",
       "aggOverflow": false,
       "aggSchema": [],
       "aggSeriesLimitReached": false,
       "aggType": "",
       "arguments": {},
       "columnCustomDisplayInfos": {},
       "data": [
        [
         "example"
        ]
       ],
       "datasetInfos": [],
       "dbfsResultPath": null,
       "isJsonSchema": true,
       "metadata": {
        "isDbfsCommandResult": false
       },
       "overflow": false,
       "plotOptions": {
        "customPlotOptions": {},
        "displayType": "table",
        "pivotAggregation": null,
        "pivotColumns": null,
        "xColumns": null,
        "yColumns": null
       },
       "removedWidgets": [],
       "schema": [
        {
         "metadata": "{\"__autoGeneratedAlias\":\"true\"}",
         "name": "current_schema()",
         "type": "\"string\""
        }
       ],
       "type": "table"
      }
     },
     "output_type": "display_data"
    }
   ],
   "source": [
    "SELECT current_schema();"
   ]
  },
  {
   "cell_type": "markdown",
   "metadata": {
    "application/vnd.databricks.v1+cell": {
     "cellMetadata": {},
     "inputWidgets": {},
     "nuid": "224a0789-f06d-4de7-b664-12e471b04eff",
     "showTitle": false,
     "tableResultSettingsMap": {},
     "title": ""
    }
   },
   "source": [
    "### A3. Analyze the List of Available Tables and Views in the Custom Schema\n",
    "\n",
    "1. Let us analyze your **example** schema to display a list of tables and views. Confirm that the schema contains the **silver** table and the **vw_gold** view.\n"
   ]
  },
  {
   "cell_type": "code",
   "execution_count": 0,
   "metadata": {
    "application/vnd.databricks.v1+cell": {
     "cellMetadata": {
      "byteLimit": 2048000,
      "rowLimit": 10000
     },
     "inputWidgets": {},
     "nuid": "640871a9-0264-4091-8edd-06c59611b872",
     "showTitle": false,
     "tableResultSettingsMap": {},
     "title": ""
    }
   },
   "outputs": [
    {
     "output_type": "display_data",
     "data": {
      "text/html": [
       "<style scoped>\n",
       "  .table-result-container {\n",
       "    max-height: 300px;\n",
       "    overflow: auto;\n",
       "  }\n",
       "  table, th, td {\n",
       "    border: 1px solid black;\n",
       "    border-collapse: collapse;\n",
       "  }\n",
       "  th, td {\n",
       "    padding: 5px;\n",
       "  }\n",
       "  th {\n",
       "    text-align: left;\n",
       "  }\n",
       "</style><div class='table-result-container'><table class='table-result'><thead style='background-color: white'><tr><th>database</th><th>tableName</th><th>isTemporary</th></tr></thead><tbody><tr><td>example</td><td>silver</td><td>false</td></tr><tr><td>example</td><td>vw_gold</td><td>false</td></tr></tbody></table></div>"
      ]
     },
     "metadata": {
      "application/vnd.databricks.v1+output": {
       "addedWidgets": {},
       "aggData": [],
       "aggError": "",
       "aggOverflow": false,
       "aggSchema": [],
       "aggSeriesLimitReached": false,
       "aggType": "",
       "arguments": {},
       "columnCustomDisplayInfos": {},
       "data": [
        [
         "example",
         "silver",
         false
        ],
        [
         "example",
         "vw_gold",
         false
        ]
       ],
       "datasetInfos": [],
       "dbfsResultPath": null,
       "isJsonSchema": true,
       "metadata": {
        "isDbfsCommandResult": false
       },
       "overflow": false,
       "plotOptions": {
        "customPlotOptions": {},
        "displayType": "table",
        "pivotAggregation": null,
        "pivotColumns": null,
        "xColumns": null,
        "yColumns": null
       },
       "removedWidgets": [],
       "schema": [
        {
         "metadata": "{}",
         "name": "database",
         "type": "\"string\""
        },
        {
         "metadata": "{}",
         "name": "tableName",
         "type": "\"string\""
        },
        {
         "metadata": "{}",
         "name": "isTemporary",
         "type": "\"boolean\""
        }
       ],
       "type": "table"
      }
     },
     "output_type": "display_data"
    }
   ],
   "source": [
    "SHOW TABLES FROM example;"
   ]
  },
  {
   "cell_type": "markdown",
   "metadata": {
    "application/vnd.databricks.v1+cell": {
     "cellMetadata": {},
     "inputWidgets": {},
     "nuid": "11ce019d-7757-4408-ba93-9adccf187365",
     "showTitle": false,
     "tableResultSettingsMap": {},
     "title": ""
    }
   },
   "source": [
    "2. Display the available views in your current schema. Confirm the schema contains the view **vw_gold**."
   ]
  },
  {
   "cell_type": "code",
   "execution_count": 0,
   "metadata": {
    "application/vnd.databricks.v1+cell": {
     "cellMetadata": {
      "byteLimit": 2048000,
      "rowLimit": 10000
     },
     "inputWidgets": {},
     "nuid": "57959f3e-afc4-49de-a642-6694b7ec0979",
     "showTitle": false,
     "tableResultSettingsMap": {},
     "title": ""
    }
   },
   "outputs": [
    {
     "output_type": "display_data",
     "data": {
      "text/html": [
       "<style scoped>\n",
       "  .table-result-container {\n",
       "    max-height: 300px;\n",
       "    overflow: auto;\n",
       "  }\n",
       "  table, th, td {\n",
       "    border: 1px solid black;\n",
       "    border-collapse: collapse;\n",
       "  }\n",
       "  th, td {\n",
       "    padding: 5px;\n",
       "  }\n",
       "  th {\n",
       "    text-align: left;\n",
       "  }\n",
       "</style><div class='table-result-container'><table class='table-result'><thead style='background-color: white'><tr><th>namespace</th><th>viewName</th><th>isTemporary</th><th>isMaterialized</th><th>isMetric</th></tr></thead><tbody><tr><td>example</td><td>vw_gold</td><td>false</td><td>false</td><td>false</td></tr></tbody></table></div>"
      ]
     },
     "metadata": {
      "application/vnd.databricks.v1+output": {
       "addedWidgets": {},
       "aggData": [],
       "aggError": "",
       "aggOverflow": false,
       "aggSchema": [],
       "aggSeriesLimitReached": false,
       "aggType": "",
       "arguments": {},
       "columnCustomDisplayInfos": {},
       "data": [
        [
         "example",
         "vw_gold",
         false,
         false,
         false
        ]
       ],
       "datasetInfos": [],
       "dbfsResultPath": null,
       "isJsonSchema": true,
       "metadata": {
        "isDbfsCommandResult": false
       },
       "overflow": false,
       "plotOptions": {
        "customPlotOptions": {},
        "displayType": "table",
        "pivotAggregation": null,
        "pivotColumns": null,
        "xColumns": null,
        "yColumns": null
       },
       "removedWidgets": [],
       "schema": [
        {
         "metadata": "{}",
         "name": "namespace",
         "type": "\"string\""
        },
        {
         "metadata": "{}",
         "name": "viewName",
         "type": "\"string\""
        },
        {
         "metadata": "{}",
         "name": "isTemporary",
         "type": "\"boolean\""
        },
        {
         "metadata": "{}",
         "name": "isMaterialized",
         "type": "\"boolean\""
        },
        {
         "metadata": "{}",
         "name": "isMetric",
         "type": "\"boolean\""
        }
       ],
       "type": "table"
      }
     },
     "output_type": "display_data"
    }
   ],
   "source": [
    "SHOW VIEWS;"
   ]
  },
  {
   "cell_type": "markdown",
   "metadata": {
    "application/vnd.databricks.v1+cell": {
     "cellMetadata": {},
     "inputWidgets": {},
     "nuid": "001cbe2b-6dad-411b-94dd-d178622a6036",
     "showTitle": false,
     "tableResultSettingsMap": {},
     "title": ""
    }
   },
   "source": [
    "**NOTE:** `SHOW TABLES` will display both tables and views, and `SHOW VIEWS` will only show views. From the above observation, there are the following tables and views in the custom schema:\n",
    "1. Table\\(s\\): **silver**\n",
    "2. View\\(s\\): **vw_gold**"
   ]
  },
  {
   "cell_type": "markdown",
   "metadata": {
    "application/vnd.databricks.v1+cell": {
     "cellMetadata": {},
     "inputWidgets": {},
     "nuid": "ab3ac24a-4449-4b18-9972-10ccd02ab900",
     "showTitle": false,
     "tableResultSettingsMap": {},
     "title": ""
    }
   },
   "source": [
    "\n",
    "## B. Exploring the Metastore\n",
    "\n",
    "In this section, let's explore our metastore and its data objects.\n",
    "\n",
    "\n",
    "### Using SQL: Inspect Elements with SQL `SHOW` Command\n",
    "Let's explore objects using the SQL commands. Though we embed them in a notebook here, you can easily port them over for execution in the DBSQL environment as well.\n",
    "\n",
    "We use the SQL `SHOW` command to inspect elements at various levels in the hierarchy.\n",
    "\n",
    "For syntax references, check out the [SQL language reference - DDL statements](https://docs.databricks.com/en/sql/language-manual/index.html#ddl-statements)"
   ]
  },
  {
   "cell_type": "markdown",
   "metadata": {
    "application/vnd.databricks.v1+cell": {
     "cellMetadata": {},
     "inputWidgets": {},
     "nuid": "4718fda5-4c0b-4bcb-a249-c910b141c275",
     "showTitle": false,
     "tableResultSettingsMap": {},
     "title": ""
    }
   },
   "source": [
    "#### B1. Inspect Catalogs\n",
    "1. Let's start by displaying all available catalogs in the metastore with the `SHOW` statement. Confirm a variety of catalogs exist."
   ]
  },
  {
   "cell_type": "code",
   "execution_count": 0,
   "metadata": {
    "application/vnd.databricks.v1+cell": {
     "cellMetadata": {
      "byteLimit": 2048000,
      "rowLimit": 10000
     },
     "inputWidgets": {},
     "nuid": "9a3021aa-d5e9-449c-a068-344e6ffa54e4",
     "showTitle": false,
     "tableResultSettingsMap": {},
     "title": ""
    }
   },
   "outputs": [
    {
     "output_type": "display_data",
     "data": {
      "text/html": [
       "<style scoped>\n",
       "  .table-result-container {\n",
       "    max-height: 300px;\n",
       "    overflow: auto;\n",
       "  }\n",
       "  table, th, td {\n",
       "    border: 1px solid black;\n",
       "    border-collapse: collapse;\n",
       "  }\n",
       "  th, td {\n",
       "    padding: 5px;\n",
       "  }\n",
       "  th {\n",
       "    text-align: left;\n",
       "  }\n",
       "</style><div class='table-result-container'><table class='table-result'><thead style='background-color: white'><tr><th>catalog</th></tr></thead><tbody><tr><td>dbacademy</td></tr><tr><td>dbacademy_movies</td></tr><tr><td>dbacademy_retail</td></tr><tr><td>hive_metastore</td></tr><tr><td>labuser11086062_1754358966</td></tr><tr><td>main</td></tr><tr><td>samples</td></tr><tr><td>system</td></tr></tbody></table></div>"
      ]
     },
     "metadata": {
      "application/vnd.databricks.v1+output": {
       "addedWidgets": {},
       "aggData": [],
       "aggError": "",
       "aggOverflow": false,
       "aggSchema": [],
       "aggSeriesLimitReached": false,
       "aggType": "",
       "arguments": {},
       "columnCustomDisplayInfos": {},
       "data": [
        [
         "dbacademy"
        ],
        [
         "dbacademy_movies"
        ],
        [
         "dbacademy_retail"
        ],
        [
         "hive_metastore"
        ],
        [
         "labuser11086062_1754358966"
        ],
        [
         "main"
        ],
        [
         "samples"
        ],
        [
         "system"
        ]
       ],
       "datasetInfos": [],
       "dbfsResultPath": null,
       "isJsonSchema": true,
       "metadata": {
        "isDbfsCommandResult": false
       },
       "overflow": false,
       "plotOptions": {
        "customPlotOptions": {},
        "displayType": "table",
        "pivotAggregation": null,
        "pivotColumns": null,
        "xColumns": null,
        "yColumns": null
       },
       "removedWidgets": [],
       "schema": [
        {
         "metadata": "{}",
         "name": "catalog",
         "type": "\"string\""
        }
       ],
       "type": "table"
      }
     },
     "output_type": "display_data"
    }
   ],
   "source": [
    "SHOW CATALOGS;"
   ]
  },
  {
   "cell_type": "markdown",
   "metadata": {
    "application/vnd.databricks.v1+cell": {
     "cellMetadata": {},
     "inputWidgets": {},
     "nuid": "d4e5b37a-09bc-4353-9a75-c4bda7762f29",
     "showTitle": false,
     "tableResultSettingsMap": {},
     "title": ""
    }
   },
   "source": [
    "Do any of these entries surprise you? You should definitely see a catalog beginning with your user name as the prefix, which is the one we created earlier. But there may be more, depending on the activity in your metastore, and how your workspace is configured. In addition to catalogs others have created, you will also see some special catalogs:\n",
    "* **hive_metastore**. This is not actually a catalog. Rather, it's Unity Catalog's way of making the workspace local Hive metastore seamlessly accessible through the three-level namespace.\n",
    "* **main**: this catalog is created by default with each new metastore, though you can remove it from your metastore if desired (it isn't used by the system)\n",
    "* **samples**: this references a cloud container containing sample datasets hosted by Databricks.\n",
    "* **system**: this catalog provides an interface to the system tables - a collection of tables that return information about objects across all catalogs in the metastore.\n"
   ]
  },
  {
   "cell_type": "markdown",
   "metadata": {
    "application/vnd.databricks.v1+cell": {
     "cellMetadata": {},
     "inputWidgets": {},
     "nuid": "b898a966-aa17-4feb-ac5b-e641fb07ac97",
     "showTitle": false,
     "tableResultSettingsMap": {},
     "title": ""
    }
   },
   "source": [
    "#### B2. Inspect Schemas\n",
    "1. Now let's take a look at the schemas contained in your specific catalog (your default catalog). Remember that we have a default catalog selected so we needn't specify it in our query. Confirm the schemas **default**, **dmguc**, **example** and **information_schema** exist."
   ]
  },
  {
   "cell_type": "code",
   "execution_count": 0,
   "metadata": {
    "application/vnd.databricks.v1+cell": {
     "cellMetadata": {
      "byteLimit": 2048000,
      "rowLimit": 10000
     },
     "inputWidgets": {},
     "nuid": "344adc10-5f5e-49e6-8657-dc8870e92fb0",
     "showTitle": false,
     "tableResultSettingsMap": {},
     "title": ""
    }
   },
   "outputs": [
    {
     "output_type": "display_data",
     "data": {
      "text/html": [
       "<style scoped>\n",
       "  .table-result-container {\n",
       "    max-height: 300px;\n",
       "    overflow: auto;\n",
       "  }\n",
       "  table, th, td {\n",
       "    border: 1px solid black;\n",
       "    border-collapse: collapse;\n",
       "  }\n",
       "  th, td {\n",
       "    padding: 5px;\n",
       "  }\n",
       "  th {\n",
       "    text-align: left;\n",
       "  }\n",
       "</style><div class='table-result-container'><table class='table-result'><thead style='background-color: white'><tr><th>databaseName</th></tr></thead><tbody><tr><td>default</td></tr><tr><td>example</td></tr><tr><td>information_schema</td></tr></tbody></table></div>"
      ]
     },
     "metadata": {
      "application/vnd.databricks.v1+output": {
       "addedWidgets": {},
       "aggData": [],
       "aggError": "",
       "aggOverflow": false,
       "aggSchema": [],
       "aggSeriesLimitReached": false,
       "aggType": "",
       "arguments": {},
       "columnCustomDisplayInfos": {},
       "data": [
        [
         "default"
        ],
        [
         "example"
        ],
        [
         "information_schema"
        ]
       ],
       "datasetInfos": [],
       "dbfsResultPath": null,
       "isJsonSchema": true,
       "metadata": {
        "isDbfsCommandResult": false
       },
       "overflow": false,
       "plotOptions": {
        "customPlotOptions": {},
        "displayType": "table",
        "pivotAggregation": null,
        "pivotColumns": null,
        "xColumns": null,
        "yColumns": null
       },
       "removedWidgets": [],
       "schema": [
        {
         "metadata": "{}",
         "name": "databaseName",
         "type": "\"string\""
        }
       ],
       "type": "table"
      }
     },
     "output_type": "display_data"
    }
   ],
   "source": [
    "SHOW SCHEMAS;"
   ]
  },
  {
   "cell_type": "markdown",
   "metadata": {
    "application/vnd.databricks.v1+cell": {
     "cellMetadata": {},
     "inputWidgets": {},
     "nuid": "f072f536-8bbc-4a81-a023-9996359b96c2",
     "showTitle": false,
     "tableResultSettingsMap": {},
     "title": ""
    }
   },
   "source": [
    "The **example** schema, of course, is the one we created earlier but there are a couple additional entries you maybe weren't expecting:\n",
    "* **default**: this schema is created by default with each new catalog.\n",
    "* **information_schema**: this schema is also created by default with each new catalog and provides a set of views describing the objects in the catalog."
   ]
  },
  {
   "cell_type": "markdown",
   "metadata": {
    "application/vnd.databricks.v1+cell": {
     "cellMetadata": {},
     "inputWidgets": {},
     "nuid": "d4db0432-a6c9-492c-897c-af83e6263147",
     "showTitle": false,
     "tableResultSettingsMap": {},
     "title": ""
    }
   },
   "source": [
    "2. As a sidenote, if we want to inspect schemas in a catalog that isn't the default, we specify it as follows `SHOW SCHEMAS IN catalog-name`. Run code to view available schemas in the **samples** catalog. Confirm multiple schemas exist."
   ]
  },
  {
   "cell_type": "code",
   "execution_count": 0,
   "metadata": {
    "application/vnd.databricks.v1+cell": {
     "cellMetadata": {
      "byteLimit": 2048000,
      "rowLimit": 10000
     },
     "inputWidgets": {},
     "nuid": "48841cf7-a6a5-421e-9259-38f0825bb448",
     "showTitle": false,
     "tableResultSettingsMap": {},
     "title": ""
    }
   },
   "outputs": [
    {
     "output_type": "display_data",
     "data": {
      "text/html": [
       "<style scoped>\n",
       "  .table-result-container {\n",
       "    max-height: 300px;\n",
       "    overflow: auto;\n",
       "  }\n",
       "  table, th, td {\n",
       "    border: 1px solid black;\n",
       "    border-collapse: collapse;\n",
       "  }\n",
       "  th, td {\n",
       "    padding: 5px;\n",
       "  }\n",
       "  th {\n",
       "    text-align: left;\n",
       "  }\n",
       "</style><div class='table-result-container'><table class='table-result'><thead style='background-color: white'><tr><th>databaseName</th></tr></thead><tbody><tr><td>accuweather</td></tr><tr><td>bakehouse</td></tr><tr><td>healthverity</td></tr><tr><td>information_schema</td></tr><tr><td>nyctaxi</td></tr><tr><td>tpcds_sf1</td></tr><tr><td>tpcds_sf1000</td></tr><tr><td>tpch</td></tr></tbody></table></div>"
      ]
     },
     "metadata": {
      "application/vnd.databricks.v1+output": {
       "addedWidgets": {},
       "aggData": [],
       "aggError": "",
       "aggOverflow": false,
       "aggSchema": [],
       "aggSeriesLimitReached": false,
       "aggType": "",
       "arguments": {},
       "columnCustomDisplayInfos": {},
       "data": [
        [
         "accuweather"
        ],
        [
         "bakehouse"
        ],
        [
         "healthverity"
        ],
        [
         "information_schema"
        ],
        [
         "nyctaxi"
        ],
        [
         "tpcds_sf1"
        ],
        [
         "tpcds_sf1000"
        ],
        [
         "tpch"
        ]
       ],
       "datasetInfos": [],
       "dbfsResultPath": null,
       "isJsonSchema": true,
       "metadata": {
        "isDbfsCommandResult": false
       },
       "overflow": false,
       "plotOptions": {
        "customPlotOptions": {},
        "displayType": "table",
        "pivotAggregation": null,
        "pivotColumns": null,
        "xColumns": null,
        "yColumns": null
       },
       "removedWidgets": [],
       "schema": [
        {
         "metadata": "{}",
         "name": "databaseName",
         "type": "\"string\""
        }
       ],
       "type": "table"
      }
     },
     "output_type": "display_data"
    }
   ],
   "source": [
    "SHOW SCHEMAS IN samples;"
   ]
  },
  {
   "cell_type": "markdown",
   "metadata": {
    "application/vnd.databricks.v1+cell": {
     "cellMetadata": {},
     "inputWidgets": {},
     "nuid": "ecd02cea-782a-432d-b770-d7a2cb5506d5",
     "showTitle": false,
     "tableResultSettingsMap": {},
     "title": ""
    }
   },
   "source": [
    "#### B3. Inspect Tables\n",
    "1. Now let's take a look at the tables contained our  **example** schema within our course catalog. Again, we don't need to specify schema or catalog since we're referencing the defaults. Confirm the **silver** table and **vw_gold** view exist."
   ]
  },
  {
   "cell_type": "code",
   "execution_count": 0,
   "metadata": {
    "application/vnd.databricks.v1+cell": {
     "cellMetadata": {
      "byteLimit": 2048000,
      "rowLimit": 10000
     },
     "inputWidgets": {},
     "nuid": "8d5f6ecb-af27-496d-8dde-52c7885788a3",
     "showTitle": false,
     "tableResultSettingsMap": {},
     "title": ""
    }
   },
   "outputs": [
    {
     "output_type": "display_data",
     "data": {
      "text/html": [
       "<style scoped>\n",
       "  .table-result-container {\n",
       "    max-height: 300px;\n",
       "    overflow: auto;\n",
       "  }\n",
       "  table, th, td {\n",
       "    border: 1px solid black;\n",
       "    border-collapse: collapse;\n",
       "  }\n",
       "  th, td {\n",
       "    padding: 5px;\n",
       "  }\n",
       "  th {\n",
       "    text-align: left;\n",
       "  }\n",
       "</style><div class='table-result-container'><table class='table-result'><thead style='background-color: white'><tr><th>database</th><th>tableName</th><th>isTemporary</th></tr></thead><tbody><tr><td>example</td><td>silver</td><td>false</td></tr><tr><td>example</td><td>vw_gold</td><td>false</td></tr></tbody></table></div>"
      ]
     },
     "metadata": {
      "application/vnd.databricks.v1+output": {
       "addedWidgets": {},
       "aggData": [],
       "aggError": "",
       "aggOverflow": false,
       "aggSchema": [],
       "aggSeriesLimitReached": false,
       "aggType": "",
       "arguments": {},
       "columnCustomDisplayInfos": {},
       "data": [
        [
         "example",
         "silver",
         false
        ],
        [
         "example",
         "vw_gold",
         false
        ]
       ],
       "datasetInfos": [],
       "dbfsResultPath": null,
       "isJsonSchema": true,
       "metadata": {
        "isDbfsCommandResult": false
       },
       "overflow": false,
       "plotOptions": {
        "customPlotOptions": {},
        "displayType": "table",
        "pivotAggregation": null,
        "pivotColumns": null,
        "xColumns": null,
        "yColumns": null
       },
       "removedWidgets": [],
       "schema": [
        {
         "metadata": "{}",
         "name": "database",
         "type": "\"string\""
        },
        {
         "metadata": "{}",
         "name": "tableName",
         "type": "\"string\""
        },
        {
         "metadata": "{}",
         "name": "isTemporary",
         "type": "\"boolean\""
        }
       ],
       "type": "table"
      }
     },
     "output_type": "display_data"
    }
   ],
   "source": [
    "SHOW TABLES;"
   ]
  },
  {
   "cell_type": "markdown",
   "metadata": {
    "application/vnd.databricks.v1+cell": {
     "cellMetadata": {},
     "inputWidgets": {},
     "nuid": "1c1a3b8c-d82a-4fcb-87d4-a6b0ae306cdc",
     "showTitle": false,
     "tableResultSettingsMap": {},
     "title": ""
    }
   },
   "source": [
    "2. If you want to inspect elsewhere, you can explicitly override the default catalog and schema as follows: `SHOW TABLES IN catalog-name.schema-name`. \n",
    "\n",
    "   View the available tables in the **samples** catalog within the **tpch** schema. Confirm that a variety of tables are available."
   ]
  },
  {
   "cell_type": "code",
   "execution_count": 0,
   "metadata": {
    "application/vnd.databricks.v1+cell": {
     "cellMetadata": {
      "byteLimit": 2048000,
      "rowLimit": 10000
     },
     "inputWidgets": {},
     "nuid": "e19e6f52-8782-4436-b84f-31e0679c793b",
     "showTitle": false,
     "tableResultSettingsMap": {},
     "title": ""
    }
   },
   "outputs": [
    {
     "output_type": "display_data",
     "data": {
      "text/html": [
       "<style scoped>\n",
       "  .table-result-container {\n",
       "    max-height: 300px;\n",
       "    overflow: auto;\n",
       "  }\n",
       "  table, th, td {\n",
       "    border: 1px solid black;\n",
       "    border-collapse: collapse;\n",
       "  }\n",
       "  th, td {\n",
       "    padding: 5px;\n",
       "  }\n",
       "  th {\n",
       "    text-align: left;\n",
       "  }\n",
       "</style><div class='table-result-container'><table class='table-result'><thead style='background-color: white'><tr><th>database</th><th>tableName</th><th>isTemporary</th></tr></thead><tbody><tr><td>tpch</td><td>customer</td><td>false</td></tr><tr><td>tpch</td><td>lineitem</td><td>false</td></tr><tr><td>tpch</td><td>nation</td><td>false</td></tr><tr><td>tpch</td><td>orders</td><td>false</td></tr><tr><td>tpch</td><td>part</td><td>false</td></tr><tr><td>tpch</td><td>partsupp</td><td>false</td></tr><tr><td>tpch</td><td>region</td><td>false</td></tr><tr><td>tpch</td><td>supplier</td><td>false</td></tr></tbody></table></div>"
      ]
     },
     "metadata": {
      "application/vnd.databricks.v1+output": {
       "addedWidgets": {},
       "aggData": [],
       "aggError": "",
       "aggOverflow": false,
       "aggSchema": [],
       "aggSeriesLimitReached": false,
       "aggType": "",
       "arguments": {},
       "columnCustomDisplayInfos": {},
       "data": [
        [
         "tpch",
         "customer",
         false
        ],
        [
         "tpch",
         "lineitem",
         false
        ],
        [
         "tpch",
         "nation",
         false
        ],
        [
         "tpch",
         "orders",
         false
        ],
        [
         "tpch",
         "part",
         false
        ],
        [
         "tpch",
         "partsupp",
         false
        ],
        [
         "tpch",
         "region",
         false
        ],
        [
         "tpch",
         "supplier",
         false
        ]
       ],
       "datasetInfos": [],
       "dbfsResultPath": null,
       "isJsonSchema": true,
       "metadata": {
        "isDbfsCommandResult": false
       },
       "overflow": false,
       "plotOptions": {
        "customPlotOptions": {},
        "displayType": "table",
        "pivotAggregation": null,
        "pivotColumns": null,
        "xColumns": null,
        "yColumns": null
       },
       "removedWidgets": [],
       "schema": [
        {
         "metadata": "{}",
         "name": "database",
         "type": "\"string\""
        },
        {
         "metadata": "{}",
         "name": "tableName",
         "type": "\"string\""
        },
        {
         "metadata": "{}",
         "name": "isTemporary",
         "type": "\"boolean\""
        }
       ],
       "type": "table"
      }
     },
     "output_type": "display_data"
    }
   ],
   "source": [
    "SHOW TABLES IN samples.tpch;"
   ]
  },
  {
   "cell_type": "markdown",
   "metadata": {
    "application/vnd.databricks.v1+cell": {
     "cellMetadata": {},
     "inputWidgets": {},
     "nuid": "674b6725-5774-438e-8dc6-ad577725bd6f",
     "showTitle": false,
     "tableResultSettingsMap": {},
     "title": ""
    }
   },
   "source": [
    "#### B4. Inspect User-Defined Functions\n",
    "1. There's a command available for exploring all the different object types. For example, display the available user-defined functions in your default schema (**examples**). Confirm that the `dbacademy_mask` function is available.\n",
    "\n",
    "    [SHOW FUNCTIONS](https://docs.databricks.com/en/sql/language-manual/sql-ref-syntax-aux-show-functions.html)\n"
   ]
  },
  {
   "cell_type": "code",
   "execution_count": 0,
   "metadata": {
    "application/vnd.databricks.v1+cell": {
     "cellMetadata": {
      "byteLimit": 2048000,
      "rowLimit": 10000
     },
     "inputWidgets": {},
     "nuid": "56deef9e-78fd-4a6d-bd0e-ace49ab1b7f5",
     "showTitle": false,
     "tableResultSettingsMap": {},
     "title": ""
    }
   },
   "outputs": [
    {
     "output_type": "display_data",
     "data": {
      "text/html": [
       "<style scoped>\n",
       "  .table-result-container {\n",
       "    max-height: 300px;\n",
       "    overflow: auto;\n",
       "  }\n",
       "  table, th, td {\n",
       "    border: 1px solid black;\n",
       "    border-collapse: collapse;\n",
       "  }\n",
       "  th, td {\n",
       "    padding: 5px;\n",
       "  }\n",
       "  th {\n",
       "    text-align: left;\n",
       "  }\n",
       "</style><div class='table-result-container'><table class='table-result'><thead style='background-color: white'><tr><th>function</th></tr></thead><tbody><tr><td>getargument</td></tr><tr><td>labuser11086062_1754358966.example.dbacademy_mask</td></tr></tbody></table></div>"
      ]
     },
     "metadata": {
      "application/vnd.databricks.v1+output": {
       "addedWidgets": {},
       "aggData": [],
       "aggError": "",
       "aggOverflow": false,
       "aggSchema": [],
       "aggSeriesLimitReached": false,
       "aggType": "",
       "arguments": {},
       "columnCustomDisplayInfos": {},
       "data": [
        [
         "getargument"
        ],
        [
         "labuser11086062_1754358966.example.dbacademy_mask"
        ]
       ],
       "datasetInfos": [],
       "dbfsResultPath": null,
       "isJsonSchema": true,
       "metadata": {
        "isDbfsCommandResult": false
       },
       "overflow": false,
       "plotOptions": {
        "customPlotOptions": {},
        "displayType": "table",
        "pivotAggregation": null,
        "pivotColumns": null,
        "xColumns": null,
        "yColumns": null
       },
       "removedWidgets": [],
       "schema": [
        {
         "metadata": "{}",
         "name": "function",
         "type": "\"string\""
        }
       ],
       "type": "table"
      }
     },
     "output_type": "display_data"
    }
   ],
   "source": [
    "SHOW USER FUNCTIONS;"
   ]
  },
  {
   "cell_type": "markdown",
   "metadata": {
    "application/vnd.databricks.v1+cell": {
     "cellMetadata": {},
     "inputWidgets": {},
     "nuid": "51cc0016-7a82-4d24-8407-7914a57c5135",
     "showTitle": false,
     "tableResultSettingsMap": {},
     "title": ""
    }
   },
   "source": [
    "#### B5. Inspect Privileges Granted on Data Objects\n",
    "We can also use `SHOW` to see privileges granted on data objects.\n",
    "\n",
    "For syntax references, check out the [SQL language reference - Security statements](https://docs.databricks.com/en/sql/language-manual/index.html#security-statements) documentation.\n",
    "\n",
    "1. Display all privileges (inherited, denied, and granted) on your **silver** table in the **examples** schema (default schema). Confirm that *ALL PRIVILEGES* are available to your user account.\n",
    "\n",
    "\n",
    "\n",
    "**HINT:** `SHOW GRANTS ON`"
   ]
  },
  {
   "cell_type": "code",
   "execution_count": 0,
   "metadata": {
    "application/vnd.databricks.v1+cell": {
     "cellMetadata": {
      "byteLimit": 2048000,
      "rowLimit": 10000
     },
     "inputWidgets": {},
     "nuid": "c53dd421-1588-4f45-b122-48a12c2ab628",
     "showTitle": false,
     "tableResultSettingsMap": {},
     "title": ""
    }
   },
   "outputs": [
    {
     "output_type": "display_data",
     "data": {
      "text/html": [
       "<style scoped>\n",
       "  .table-result-container {\n",
       "    max-height: 300px;\n",
       "    overflow: auto;\n",
       "  }\n",
       "  table, th, td {\n",
       "    border: 1px solid black;\n",
       "    border-collapse: collapse;\n",
       "  }\n",
       "  th, td {\n",
       "    padding: 5px;\n",
       "  }\n",
       "  th {\n",
       "    text-align: left;\n",
       "  }\n",
       "</style><div class='table-result-container'><table class='table-result'><thead style='background-color: white'><tr><th>Principal</th><th>ActionType</th><th>ObjectType</th><th>ObjectKey</th></tr></thead><tbody><tr><td>labuser11086062_1754358966@vocareum.com</td><td>ALL PRIVILEGES</td><td>CATALOG</td><td>labuser11086062_1754358966</td></tr></tbody></table></div>"
      ]
     },
     "metadata": {
      "application/vnd.databricks.v1+output": {
       "addedWidgets": {},
       "aggData": [],
       "aggError": "",
       "aggOverflow": false,
       "aggSchema": [],
       "aggSeriesLimitReached": false,
       "aggType": "",
       "arguments": {},
       "columnCustomDisplayInfos": {},
       "data": [
        [
         "labuser11086062_1754358966@vocareum.com",
         "ALL PRIVILEGES",
         "CATALOG",
         "labuser11086062_1754358966"
        ]
       ],
       "datasetInfos": [],
       "dbfsResultPath": null,
       "isJsonSchema": true,
       "metadata": {
        "isDbfsCommandResult": false
       },
       "overflow": false,
       "plotOptions": {
        "customPlotOptions": {},
        "displayType": "table",
        "pivotAggregation": null,
        "pivotColumns": null,
        "xColumns": null,
        "yColumns": null
       },
       "removedWidgets": [],
       "schema": [
        {
         "metadata": "{}",
         "name": "Principal",
         "type": "\"string\""
        },
        {
         "metadata": "{}",
         "name": "ActionType",
         "type": "\"string\""
        },
        {
         "metadata": "{}",
         "name": "ObjectType",
         "type": "\"string\""
        },
        {
         "metadata": "{}",
         "name": "ObjectKey",
         "type": "\"string\""
        }
       ],
       "type": "table"
      }
     },
     "output_type": "display_data"
    }
   ],
   "source": [
    "SHOW GRANTS ON TABLE silver;"
   ]
  },
  {
   "cell_type": "markdown",
   "metadata": {
    "application/vnd.databricks.v1+cell": {
     "cellMetadata": {},
     "inputWidgets": {},
     "nuid": "63d89562-1e5f-4d21-aceb-f5c3ae4a3477",
     "showTitle": false,
     "tableResultSettingsMap": {},
     "title": ""
    }
   },
   "source": [
    "Since there are no grants on this table yet, no results are returned. That means that only you, the data owner, can access this table. We'll get to granting privileges shortly."
   ]
  },
  {
   "cell_type": "markdown",
   "metadata": {
    "application/vnd.databricks.v1+cell": {
     "cellMetadata": {},
     "inputWidgets": {},
     "nuid": "6105f668-c172-4ecb-b637-4fb9e288e11d",
     "showTitle": false,
     "tableResultSettingsMap": {},
     "title": ""
    }
   },
   "source": [
    "## C. Analyze Additional Information with SQL `DESCRIBE` Command\n",
    "\n",
    "We also have `DESCRIBE` at our disposal, to provide additional information about a specific object.\n",
    "\n",
    "For syntax references, check out the [SQL language reference](https://docs.databricks.com/en/sql/language-manual/index.html#sql-language-reference) documentation."
   ]
  },
  {
   "cell_type": "markdown",
   "metadata": {
    "application/vnd.databricks.v1+cell": {
     "cellMetadata": {},
     "inputWidgets": {},
     "nuid": "d56ce92f-9128-4712-a517-a6b567361cb4",
     "showTitle": false,
     "tableResultSettingsMap": {},
     "title": ""
    }
   },
   "source": [
    "### C1. Analyze Tables\n",
    "1. Let us analyze the information about a few tables. \n",
    "\n",
    "    Use the `DESCRIBE TABLE EXTENDED` statement on your **silver** table to display detailed information about the specified columns, including the column statistics collected by the command, and additional metadata information (such as schema qualifier, owner, and access time)."
   ]
  },
  {
   "cell_type": "code",
   "execution_count": 0,
   "metadata": {
    "application/vnd.databricks.v1+cell": {
     "cellMetadata": {
      "byteLimit": 2048000,
      "rowLimit": 10000
     },
     "inputWidgets": {},
     "nuid": "97b9ceff-a807-453e-a76b-f3a276732f9f",
     "showTitle": false,
     "tableResultSettingsMap": {},
     "title": ""
    }
   },
   "outputs": [
    {
     "output_type": "display_data",
     "data": {
      "text/html": [
       "<style scoped>\n",
       "  .table-result-container {\n",
       "    max-height: 300px;\n",
       "    overflow: auto;\n",
       "  }\n",
       "  table, th, td {\n",
       "    border: 1px solid black;\n",
       "    border-collapse: collapse;\n",
       "  }\n",
       "  th, td {\n",
       "    padding: 5px;\n",
       "  }\n",
       "  th {\n",
       "    text-align: left;\n",
       "  }\n",
       "</style><div class='table-result-container'><table class='table-result'><thead style='background-color: white'><tr><th>col_name</th><th>data_type</th><th>comment</th></tr></thead><tbody><tr><td>device_id</td><td>int</td><td>null</td></tr><tr><td>mrn</td><td>string</td><td>null</td></tr><tr><td>name</td><td>string</td><td>null</td></tr><tr><td>time</td><td>timestamp</td><td>null</td></tr><tr><td>heartrate</td><td>double</td><td>null</td></tr><tr><td></td><td></td><td></td></tr><tr><td># Delta Statistics Columns</td><td></td><td></td></tr><tr><td>Column Names</td><td>device_id, name, time, mrn, heartrate</td><td></td></tr><tr><td>Column Selection Method</td><td>first-32</td><td></td></tr><tr><td></td><td></td><td></td></tr><tr><td># Detailed Table Information</td><td></td><td></td></tr><tr><td>Catalog</td><td>labuser11086062_1754358966</td><td></td></tr><tr><td>Database</td><td>example</td><td></td></tr><tr><td>Table</td><td>silver</td><td></td></tr><tr><td>Created Time</td><td>Tue Aug 05 02:08:28 UTC 2025</td><td></td></tr><tr><td>Last Access</td><td>UNKNOWN</td><td></td></tr><tr><td>Created By</td><td>Spark </td><td></td></tr><tr><td>Type</td><td>MANAGED</td><td></td></tr><tr><td>Location</td><td>s3://unity-catalogs-us-west-2/metastore/3686620-root/2990c72a-8f73-4f8a-bbf2-ff31d04c016f/tables/d00ae295-587e-4039-921e-3564a48a542e</td><td></td></tr><tr><td>Provider</td><td>delta</td><td></td></tr><tr><td>Owner</td><td>labuser11086062_1754358966@vocareum.com</td><td></td></tr><tr><td>Is_managed_location</td><td>true</td><td></td></tr><tr><td>Predictive Optimization</td><td>ENABLE (inherited from METASTORE 3686620-us-west-2)</td><td></td></tr><tr><td>Table Properties</td><td>[delta.enableDeletionVectors=true,delta.feature.appendOnly=supported,delta.feature.deletionVectors=supported,delta.feature.invariants=supported,delta.minReaderVersion=3,delta.minWriterVersion=7]</td><td></td></tr></tbody></table></div>"
      ]
     },
     "metadata": {
      "application/vnd.databricks.v1+output": {
       "addedWidgets": {},
       "aggData": [],
       "aggError": "",
       "aggOverflow": false,
       "aggSchema": [],
       "aggSeriesLimitReached": false,
       "aggType": "",
       "arguments": {},
       "columnCustomDisplayInfos": {},
       "data": [
        [
         "device_id",
         "int",
         null
        ],
        [
         "mrn",
         "string",
         null
        ],
        [
         "name",
         "string",
         null
        ],
        [
         "time",
         "timestamp",
         null
        ],
        [
         "heartrate",
         "double",
         null
        ],
        [
         "",
         "",
         ""
        ],
        [
         "# Delta Statistics Columns",
         "",
         ""
        ],
        [
         "Column Names",
         "device_id, name, time, mrn, heartrate",
         ""
        ],
        [
         "Column Selection Method",
         "first-32",
         ""
        ],
        [
         "",
         "",
         ""
        ],
        [
         "# Detailed Table Information",
         "",
         ""
        ],
        [
         "Catalog",
         "labuser11086062_1754358966",
         ""
        ],
        [
         "Database",
         "example",
         ""
        ],
        [
         "Table",
         "silver",
         ""
        ],
        [
         "Created Time",
         "Tue Aug 05 02:08:28 UTC 2025",
         ""
        ],
        [
         "Last Access",
         "UNKNOWN",
         ""
        ],
        [
         "Created By",
         "Spark ",
         ""
        ],
        [
         "Type",
         "MANAGED",
         ""
        ],
        [
         "Location",
         "s3://unity-catalogs-us-west-2/metastore/3686620-root/2990c72a-8f73-4f8a-bbf2-ff31d04c016f/tables/d00ae295-587e-4039-921e-3564a48a542e",
         ""
        ],
        [
         "Provider",
         "delta",
         ""
        ],
        [
         "Owner",
         "labuser11086062_1754358966@vocareum.com",
         ""
        ],
        [
         "Is_managed_location",
         "true",
         ""
        ],
        [
         "Predictive Optimization",
         "ENABLE (inherited from METASTORE 3686620-us-west-2)",
         ""
        ],
        [
         "Table Properties",
         "[delta.enableDeletionVectors=true,delta.feature.appendOnly=supported,delta.feature.deletionVectors=supported,delta.feature.invariants=supported,delta.minReaderVersion=3,delta.minWriterVersion=7]",
         ""
        ]
       ],
       "datasetInfos": [],
       "dbfsResultPath": null,
       "isJsonSchema": true,
       "metadata": {
        "isDbfsCommandResult": false
       },
       "overflow": false,
       "plotOptions": {
        "customPlotOptions": {},
        "displayType": "table",
        "pivotAggregation": null,
        "pivotColumns": null,
        "xColumns": null,
        "yColumns": null
       },
       "removedWidgets": [],
       "schema": [
        {
         "metadata": "{\"comment\":\"name of the column\"}",
         "name": "col_name",
         "type": "\"string\""
        },
        {
         "metadata": "{\"comment\":\"data type of the column\"}",
         "name": "data_type",
         "type": "\"string\""
        },
        {
         "metadata": "{\"comment\":\"comment of the column\"}",
         "name": "comment",
         "type": "\"string\""
        }
       ],
       "type": "table"
      }
     },
     "output_type": "display_data"
    }
   ],
   "source": [
    "DESCRIBE TABLE EXTENDED silver;"
   ]
  },
  {
   "cell_type": "markdown",
   "metadata": {
    "application/vnd.databricks.v1+cell": {
     "cellMetadata": {},
     "inputWidgets": {},
     "nuid": "97251c14-68b8-4199-bed6-e41b3e4881db",
     "showTitle": false,
     "tableResultSettingsMap": {},
     "title": ""
    }
   },
   "source": [
    "2. Use the same statement as above to view information about your **vw_gold** view. In the results, scroll down to the *View Text* value in the **col_name** column. Notice that you can view the SQL text for the view.\n"
   ]
  },
  {
   "cell_type": "code",
   "execution_count": 0,
   "metadata": {
    "application/vnd.databricks.v1+cell": {
     "cellMetadata": {
      "byteLimit": 2048000,
      "rowLimit": 10000
     },
     "inputWidgets": {},
     "nuid": "98ea06b1-bb49-46d4-90c4-1df002b85821",
     "showTitle": false,
     "tableResultSettingsMap": {},
     "title": ""
    }
   },
   "outputs": [
    {
     "output_type": "display_data",
     "data": {
      "text/html": [
       "<style scoped>\n",
       "  .table-result-container {\n",
       "    max-height: 300px;\n",
       "    overflow: auto;\n",
       "  }\n",
       "  table, th, td {\n",
       "    border: 1px solid black;\n",
       "    border-collapse: collapse;\n",
       "  }\n",
       "  th, td {\n",
       "    padding: 5px;\n",
       "  }\n",
       "  th {\n",
       "    text-align: left;\n",
       "  }\n",
       "</style><div class='table-result-container'><table class='table-result'><thead style='background-color: white'><tr><th>col_name</th><th>data_type</th><th>comment</th></tr></thead><tbody><tr><td>mrn</td><td>string</td><td>null</td></tr><tr><td>name</td><td>string</td><td>null</td></tr><tr><td>avg_heartrate</td><td>double</td><td>null</td></tr><tr><td>date</td><td>timestamp</td><td>null</td></tr><tr><td></td><td></td><td></td></tr><tr><td># Detailed Table Information</td><td></td><td></td></tr><tr><td>Catalog</td><td>labuser11086062_1754358966</td><td></td></tr><tr><td>Database</td><td>example</td><td></td></tr><tr><td>Table</td><td>vw_gold</td><td></td></tr><tr><td>Owner</td><td>labuser11086062_1754358966@vocareum.com</td><td></td></tr><tr><td>Created Time</td><td>Tue Aug 05 02:15:53 UTC 2025</td><td></td></tr><tr><td>Last Access</td><td>UNKNOWN</td><td></td></tr><tr><td>Created By</td><td>Spark </td><td></td></tr><tr><td>Type</td><td>VIEW</td><td></td></tr><tr><td>Use Remote Filtering</td><td>false</td><td></td></tr><tr><td>View Text</td><td>(\n",
       "        SELECT \n",
       "            mrn, \n",
       "            name, \n",
       "            MEAN(heartrate) \n",
       "            avg_heartrate, \n",
       "            DATE_TRUNC(\"DD\", time) AS date\n",
       "        FROM silver\n",
       "        GROUP BY mrn, name, DATE_TRUNC(\"DD\", time)\n",
       "        )</td><td></td></tr><tr><td>View Schema Mode</td><td>COMPENSATION</td><td></td></tr><tr><td>View Catalog and Namespace</td><td>labuser11086062_1754358966.example</td><td></td></tr><tr><td>View Query Output Columns</td><td>[`mrn`, `name`, `avg_heartrate`, `date`]</td><td></td></tr></tbody></table></div>"
      ]
     },
     "metadata": {
      "application/vnd.databricks.v1+output": {
       "addedWidgets": {},
       "aggData": [],
       "aggError": "",
       "aggOverflow": false,
       "aggSchema": [],
       "aggSeriesLimitReached": false,
       "aggType": "",
       "arguments": {},
       "columnCustomDisplayInfos": {},
       "data": [
        [
         "mrn",
         "string",
         null
        ],
        [
         "name",
         "string",
         null
        ],
        [
         "avg_heartrate",
         "double",
         null
        ],
        [
         "date",
         "timestamp",
         null
        ],
        [
         "",
         "",
         ""
        ],
        [
         "# Detailed Table Information",
         "",
         ""
        ],
        [
         "Catalog",
         "labuser11086062_1754358966",
         ""
        ],
        [
         "Database",
         "example",
         ""
        ],
        [
         "Table",
         "vw_gold",
         ""
        ],
        [
         "Owner",
         "labuser11086062_1754358966@vocareum.com",
         ""
        ],
        [
         "Created Time",
         "Tue Aug 05 02:15:53 UTC 2025",
         ""
        ],
        [
         "Last Access",
         "UNKNOWN",
         ""
        ],
        [
         "Created By",
         "Spark ",
         ""
        ],
        [
         "Type",
         "VIEW",
         ""
        ],
        [
         "Use Remote Filtering",
         "false",
         ""
        ],
        [
         "View Text",
         "(\n        SELECT \n            mrn, \n            name, \n            MEAN(heartrate) \n            avg_heartrate, \n            DATE_TRUNC(\"DD\", time) AS date\n        FROM silver\n        GROUP BY mrn, name, DATE_TRUNC(\"DD\", time)\n        )",
         ""
        ],
        [
         "View Schema Mode",
         "COMPENSATION",
         ""
        ],
        [
         "View Catalog and Namespace",
         "labuser11086062_1754358966.example",
         ""
        ],
        [
         "View Query Output Columns",
         "[`mrn`, `name`, `avg_heartrate`, `date`]",
         ""
        ]
       ],
       "datasetInfos": [],
       "dbfsResultPath": null,
       "isJsonSchema": true,
       "metadata": {
        "isDbfsCommandResult": false
       },
       "overflow": false,
       "plotOptions": {
        "customPlotOptions": {},
        "displayType": "table",
        "pivotAggregation": null,
        "pivotColumns": null,
        "xColumns": null,
        "yColumns": null
       },
       "removedWidgets": [],
       "schema": [
        {
         "metadata": "{\"comment\":\"name of the column\"}",
         "name": "col_name",
         "type": "\"string\""
        },
        {
         "metadata": "{\"comment\":\"data type of the column\"}",
         "name": "data_type",
         "type": "\"string\""
        },
        {
         "metadata": "{\"comment\":\"comment of the column\"}",
         "name": "comment",
         "type": "\"string\""
        }
       ],
       "type": "table"
      }
     },
     "output_type": "display_data"
    }
   ],
   "source": [
    "DESCRIBE TABLE EXTENDED vw_gold;"
   ]
  },
  {
   "cell_type": "markdown",
   "metadata": {
    "application/vnd.databricks.v1+cell": {
     "cellMetadata": {},
     "inputWidgets": {},
     "nuid": "98916706-f3a4-40d9-8f65-8fc9e99c39c0",
     "showTitle": false,
     "tableResultSettingsMap": {},
     "title": ""
    }
   },
   "source": [
    "### C2. Analyze User-Defined Functions\n",
    "1. Let us analyze the information about the **dbacademy_mask** user-defined function in the **example** schema. Use the `DESCRIBE FUNCTION EXTENDED` statement to view detailed information about the function."
   ]
  },
  {
   "cell_type": "code",
   "execution_count": 0,
   "metadata": {
    "application/vnd.databricks.v1+cell": {
     "cellMetadata": {
      "byteLimit": 2048000,
      "rowLimit": 10000
     },
     "inputWidgets": {},
     "nuid": "d3f25a41-2ad6-49a7-9319-db598fe1f131",
     "showTitle": false,
     "tableResultSettingsMap": {},
     "title": ""
    }
   },
   "outputs": [
    {
     "output_type": "display_data",
     "data": {
      "text/html": [
       "<style scoped>\n",
       "  .table-result-container {\n",
       "    max-height: 300px;\n",
       "    overflow: auto;\n",
       "  }\n",
       "  table, th, td {\n",
       "    border: 1px solid black;\n",
       "    border-collapse: collapse;\n",
       "  }\n",
       "  th, td {\n",
       "    padding: 5px;\n",
       "  }\n",
       "  th {\n",
       "    text-align: left;\n",
       "  }\n",
       "</style><div class='table-result-container'><table class='table-result'><thead style='background-color: white'><tr><th>function_desc</th></tr></thead><tbody><tr><td>Function:      labuser11086062_1754358966.example.dbacademy_mask</td></tr><tr><td>Type:          SCALAR</td></tr><tr><td>Input:         x STRING</td></tr><tr><td>Returns:       STRING</td></tr><tr><td>Deterministic: true</td></tr><tr><td>Data Access:   CONTAINS SQL</td></tr><tr><td>Configs:       spark.databricks.docingest.client.v2.enabled=true</td></tr><tr><td>               spark.databricks.sql.expression.aiFunctions.repartition=0</td></tr><tr><td>               spark.databricks.sql.functions.aiForecast.enabled=false</td></tr><tr><td>               spark.databricks.sql.functions.aiFunctions.adaptiveThreadPool.clusterSizeBasedGlobalParallelism.scaleFactor=512.0</td></tr><tr><td>               spark.databricks.sql.functions.aiFunctions.adaptiveThreadPool.debugLogEnabled=true</td></tr><tr><td>               spark.databricks.sql.functions.aiFunctions.adaptiveThreadPool.dynamicPoolSizeEnabled=false</td></tr><tr><td>               spark.databricks.sql.functions.aiFunctions.adaptiveThreadPool.enabled=true</td></tr><tr><td>               spark.databricks.sql.functions.aiFunctions.adaptiveThreadPool.maxPoolSize=2048</td></tr><tr><td>               spark.databricks.sql.functions.aiFunctions.adaptiveThreadPool.scaleUpThresholdCurrentQpsIncreaseRatio=0.0</td></tr><tr><td>               spark.databricks.sql.functions.aiFunctions.adaptiveThreadPool.scaleUpThresholdSuccessRatio=0.95</td></tr><tr><td>               spark.databricks.sql.functions.aiFunctions.adaptiveThreadPool.scaleUpThresholdTotalQpsIncreaseRatio=0.0</td></tr><tr><td>               spark.databricks.sql.functions.aiFunctions.adaptiveThreadPool.taskWaitTimeInSeconds=1000</td></tr><tr><td>               spark.databricks.sql.functions.aiFunctions.adaptiveThreadPool.threadKeepAliveTimeInSeconds=600</td></tr><tr><td>               spark.databricks.sql.functions.aiFunctions.adaptiveThreadPool.useDynamicTaskQueueExecutor=false</td></tr><tr><td>               spark.databricks.sql.functions.aiFunctions.batch.aiQuery.embedding.request.size=40</td></tr><tr><td>               spark.databricks.sql.functions.aiFunctions.batch.execution.size=2048</td></tr><tr><td>               spark.databricks.sql.functions.aiFunctions.batchInferenceApi.enabled=true</td></tr><tr><td>               spark.databricks.sql.functions.aiFunctions.batchSession.enabled=true</td></tr><tr><td>               spark.databricks.sql.functions.aiFunctions.batchSession.terminate.enabled=true</td></tr><tr><td>               spark.databricks.sql.functions.aiFunctions.decimal.dataType.enabled=true</td></tr><tr><td>               spark.databricks.sql.functions.aiFunctions.embeddingsEndpointName=databricks-gte-large-en</td></tr><tr><td>               spark.databricks.sql.functions.aiFunctions.extract.tileMetadata.enabled=true</td></tr><tr><td>               spark.databricks.sql.functions.aiFunctions.model.parameters.enabled=true</td></tr><tr><td>               spark.databricks.sql.functions.aiFunctions.modelEndpointTypeParsing.enabled=true</td></tr><tr><td>               spark.databricks.sql.functions.aiFunctions.purposeBuiltFunctions.batch.execution.enabled=true</td></tr><tr><td>               spark.databricks.sql.functions.aiFunctions.purposeBuiltFunctions.translate.instruction=### Instruction\n",
       "\n",
       "Translate the provided text to %s, and output only the translated text\n",
       "in the target language in this format: <DBSQLAI>translated text</DBSQLAI>.\n",
       "\n",
       "If the text is already in the target language, output the provided text.\n",
       "\n",
       "### Text\n",
       "\n",
       "%s</td></tr><tr><td>               spark.databricks.sql.functions.aiFunctions.remoteHttpClient.maxConnections=2048</td></tr><tr><td>               spark.databricks.sql.functions.aiFunctions.remoteHttpClient.timeoutInSeconds=360</td></tr><tr><td>               spark.databricks.sql.functions.aiFunctions.safe.inference.enabled=true</td></tr><tr><td>               spark.databricks.sql.functions.aiFunctions.useDedicatedHttpClient=true</td></tr><tr><td>               spark.databricks.sql.functions.aiFunctions.vectorSearch.initialRetryIntervalMillis=1000</td></tr><tr><td>               spark.databricks.sql.functions.aiFunctions.vectorSearch.maxRetryInterval=120000</td></tr><tr><td>               spark.databricks.sql.functions.aiFunctions.vectorSearch.retryIntervalMultiplierFactor=2.0</td></tr><tr><td>               spark.databricks.sql.functions.aiGen.endpointName=databricks-meta-llama-3-3-70b-instruct</td></tr><tr><td>               spark.databricks.sql.functions.vectorSearch.enabled=true</td></tr><tr><td>               spark.databricks.sql.functions.vectorSearch.use.indexIdentifierOnly=true</td></tr><tr><td>               spark.databricks.sql.rowColumnAccess.implicitPoliciesNew.enabled=true</td></tr><tr><td>               spark.sql.functions.remoteHttpClient.retryOn400TimeoutError=true</td></tr><tr><td>               spark.sql.hive.convertCTAS=true</td></tr><tr><td>               spark.sql.legacy.codingErrorAction=true</td></tr><tr><td>               spark.sql.legacy.createHiveTableByDefault=false</td></tr><tr><td>               spark.sql.parquet.compression.codec=snappy</td></tr><tr><td>               spark.sql.scripting.enabled=true</td></tr><tr><td>               spark.sql.sources.commitProtocolClass=com.databricks.sql.transaction.directory.DirectoryAtomicCommitProtocol</td></tr><tr><td>               spark.sql.sources.default=delta</td></tr><tr><td>               spark.sql.streaming.stopTimeout=15s</td></tr><tr><td>Owner:         labuser11086062_1754358966@vocareum.com</td></tr><tr><td>Create Time:   Tue Aug 05 02:15:53 UTC 2025</td></tr><tr><td>Body:          CONCAT(LEFT(x, 2) , REPEAT(\"*\", LENGTH(x) - 2))</td></tr></tbody></table></div>"
      ]
     },
     "metadata": {
      "application/vnd.databricks.v1+output": {
       "addedWidgets": {},
       "aggData": [],
       "aggError": "",
       "aggOverflow": false,
       "aggSchema": [],
       "aggSeriesLimitReached": false,
       "aggType": "",
       "arguments": {},
       "columnCustomDisplayInfos": {},
       "data": [
        [
         "Function:      labuser11086062_1754358966.example.dbacademy_mask"
        ],
        [
         "Type:          SCALAR"
        ],
        [
         "Input:         x STRING"
        ],
        [
         "Returns:       STRING"
        ],
        [
         "Deterministic: true"
        ],
        [
         "Data Access:   CONTAINS SQL"
        ],
        [
         "Configs:       spark.databricks.docingest.client.v2.enabled=true"
        ],
        [
         "               spark.databricks.sql.expression.aiFunctions.repartition=0"
        ],
        [
         "               spark.databricks.sql.functions.aiForecast.enabled=false"
        ],
        [
         "               spark.databricks.sql.functions.aiFunctions.adaptiveThreadPool.clusterSizeBasedGlobalParallelism.scaleFactor=512.0"
        ],
        [
         "               spark.databricks.sql.functions.aiFunctions.adaptiveThreadPool.debugLogEnabled=true"
        ],
        [
         "               spark.databricks.sql.functions.aiFunctions.adaptiveThreadPool.dynamicPoolSizeEnabled=false"
        ],
        [
         "               spark.databricks.sql.functions.aiFunctions.adaptiveThreadPool.enabled=true"
        ],
        [
         "               spark.databricks.sql.functions.aiFunctions.adaptiveThreadPool.maxPoolSize=2048"
        ],
        [
         "               spark.databricks.sql.functions.aiFunctions.adaptiveThreadPool.scaleUpThresholdCurrentQpsIncreaseRatio=0.0"
        ],
        [
         "               spark.databricks.sql.functions.aiFunctions.adaptiveThreadPool.scaleUpThresholdSuccessRatio=0.95"
        ],
        [
         "               spark.databricks.sql.functions.aiFunctions.adaptiveThreadPool.scaleUpThresholdTotalQpsIncreaseRatio=0.0"
        ],
        [
         "               spark.databricks.sql.functions.aiFunctions.adaptiveThreadPool.taskWaitTimeInSeconds=1000"
        ],
        [
         "               spark.databricks.sql.functions.aiFunctions.adaptiveThreadPool.threadKeepAliveTimeInSeconds=600"
        ],
        [
         "               spark.databricks.sql.functions.aiFunctions.adaptiveThreadPool.useDynamicTaskQueueExecutor=false"
        ],
        [
         "               spark.databricks.sql.functions.aiFunctions.batch.aiQuery.embedding.request.size=40"
        ],
        [
         "               spark.databricks.sql.functions.aiFunctions.batch.execution.size=2048"
        ],
        [
         "               spark.databricks.sql.functions.aiFunctions.batchInferenceApi.enabled=true"
        ],
        [
         "               spark.databricks.sql.functions.aiFunctions.batchSession.enabled=true"
        ],
        [
         "               spark.databricks.sql.functions.aiFunctions.batchSession.terminate.enabled=true"
        ],
        [
         "               spark.databricks.sql.functions.aiFunctions.decimal.dataType.enabled=true"
        ],
        [
         "               spark.databricks.sql.functions.aiFunctions.embeddingsEndpointName=databricks-gte-large-en"
        ],
        [
         "               spark.databricks.sql.functions.aiFunctions.extract.tileMetadata.enabled=true"
        ],
        [
         "               spark.databricks.sql.functions.aiFunctions.model.parameters.enabled=true"
        ],
        [
         "               spark.databricks.sql.functions.aiFunctions.modelEndpointTypeParsing.enabled=true"
        ],
        [
         "               spark.databricks.sql.functions.aiFunctions.purposeBuiltFunctions.batch.execution.enabled=true"
        ],
        [
         "               spark.databricks.sql.functions.aiFunctions.purposeBuiltFunctions.translate.instruction=### Instruction\n\nTranslate the provided text to %s, and output only the translated text\nin the target language in this format: <DBSQLAI>translated text</DBSQLAI>.\n\nIf the text is already in the target language, output the provided text.\n\n### Text\n\n%s"
        ],
        [
         "               spark.databricks.sql.functions.aiFunctions.remoteHttpClient.maxConnections=2048"
        ],
        [
         "               spark.databricks.sql.functions.aiFunctions.remoteHttpClient.timeoutInSeconds=360"
        ],
        [
         "               spark.databricks.sql.functions.aiFunctions.safe.inference.enabled=true"
        ],
        [
         "               spark.databricks.sql.functions.aiFunctions.useDedicatedHttpClient=true"
        ],
        [
         "               spark.databricks.sql.functions.aiFunctions.vectorSearch.initialRetryIntervalMillis=1000"
        ],
        [
         "               spark.databricks.sql.functions.aiFunctions.vectorSearch.maxRetryInterval=120000"
        ],
        [
         "               spark.databricks.sql.functions.aiFunctions.vectorSearch.retryIntervalMultiplierFactor=2.0"
        ],
        [
         "               spark.databricks.sql.functions.aiGen.endpointName=databricks-meta-llama-3-3-70b-instruct"
        ],
        [
         "               spark.databricks.sql.functions.vectorSearch.enabled=true"
        ],
        [
         "               spark.databricks.sql.functions.vectorSearch.use.indexIdentifierOnly=true"
        ],
        [
         "               spark.databricks.sql.rowColumnAccess.implicitPoliciesNew.enabled=true"
        ],
        [
         "               spark.sql.functions.remoteHttpClient.retryOn400TimeoutError=true"
        ],
        [
         "               spark.sql.hive.convertCTAS=true"
        ],
        [
         "               spark.sql.legacy.codingErrorAction=true"
        ],
        [
         "               spark.sql.legacy.createHiveTableByDefault=false"
        ],
        [
         "               spark.sql.parquet.compression.codec=snappy"
        ],
        [
         "               spark.sql.scripting.enabled=true"
        ],
        [
         "               spark.sql.sources.commitProtocolClass=com.databricks.sql.transaction.directory.DirectoryAtomicCommitProtocol"
        ],
        [
         "               spark.sql.sources.default=delta"
        ],
        [
         "               spark.sql.streaming.stopTimeout=15s"
        ],
        [
         "Owner:         labuser11086062_1754358966@vocareum.com"
        ],
        [
         "Create Time:   Tue Aug 05 02:15:53 UTC 2025"
        ],
        [
         "Body:          CONCAT(LEFT(x, 2) , REPEAT(\"*\", LENGTH(x) - 2))"
        ]
       ],
       "datasetInfos": [],
       "dbfsResultPath": null,
       "isJsonSchema": true,
       "metadata": {
        "isDbfsCommandResult": false
       },
       "overflow": false,
       "plotOptions": {
        "customPlotOptions": {},
        "displayType": "table",
        "pivotAggregation": null,
        "pivotColumns": null,
        "xColumns": null,
        "yColumns": null
       },
       "removedWidgets": [],
       "schema": [
        {
         "metadata": "{}",
         "name": "function_desc",
         "type": "\"string\""
        }
       ],
       "type": "table"
      }
     },
     "output_type": "display_data"
    }
   ],
   "source": [
    "DESCRIBE FUNCTION EXTENDED dbacademy_mask;"
   ]
  },
  {
   "cell_type": "markdown",
   "metadata": {
    "application/vnd.databricks.v1+cell": {
     "cellMetadata": {},
     "inputWidgets": {},
     "nuid": "f39431ed-9c87-4d23-aa8c-231b972567a6",
     "showTitle": false,
     "tableResultSettingsMap": {},
     "title": ""
    }
   },
   "source": [
    "## D. Analyze Other Data Objects\n",
    "We can also analyze other data objects in the metastore."
   ]
  },
  {
   "cell_type": "markdown",
   "metadata": {
    "application/vnd.databricks.v1+cell": {
     "cellMetadata": {},
     "inputWidgets": {},
     "nuid": "457919cc-bd21-470d-a3a4-92b403264798",
     "showTitle": false,
     "tableResultSettingsMap": {},
     "title": ""
    }
   },
   "source": [
    "### D1. System Catalog\n",
    "The *system* catalog provides an interface to the system tables; that is a collection of views whose purpose is to provide a SQL-based, self-describing API to the metadata related to objects across all catalogs in the metastore. This exposes a host of information useful for administration and housekeeping and there are a lot of applications for this.\n",
    "\n"
   ]
  },
  {
   "cell_type": "markdown",
   "metadata": {
    "application/vnd.databricks.v1+cell": {
     "cellMetadata": {},
     "inputWidgets": {},
     "nuid": "1dea9375-3d7b-4f9d-abee-bf99ca94c1de",
     "showTitle": false,
     "tableResultSettingsMap": {},
     "title": ""
    }
   },
   "source": [
    "1. Run the following cell to view tables in the **system** catalog's **information_schema** schema. Notice that a variety of system tables are available.\n",
    "\n",
    "**NOTE:** System tables are a Databricks-hosted analytical store of your account’s operational data found in the system catalog. These tables can be used for historical observability across your account.\n",
    "\n",
    "For more information, check out the [Monitor usage with system tables](https://docs.databricks.com/en/admin/system-tables/index.html#monitor-usage-with-system-tables) documentation.\n"
   ]
  },
  {
   "cell_type": "code",
   "execution_count": 0,
   "metadata": {
    "application/vnd.databricks.v1+cell": {
     "cellMetadata": {
      "byteLimit": 2048000,
      "rowLimit": 10000
     },
     "inputWidgets": {},
     "nuid": "21538143-fbf0-4cd8-860b-f9ee7a9843b2",
     "showTitle": false,
     "tableResultSettingsMap": {},
     "title": ""
    }
   },
   "outputs": [
    {
     "output_type": "display_data",
     "data": {
      "text/html": [
       "<style scoped>\n",
       "  .table-result-container {\n",
       "    max-height: 300px;\n",
       "    overflow: auto;\n",
       "  }\n",
       "  table, th, td {\n",
       "    border: 1px solid black;\n",
       "    border-collapse: collapse;\n",
       "  }\n",
       "  th, td {\n",
       "    padding: 5px;\n",
       "  }\n",
       "  th {\n",
       "    text-align: left;\n",
       "  }\n",
       "</style><div class='table-result-container'><table class='table-result'><thead style='background-color: white'><tr><th>database</th><th>tableName</th><th>isTemporary</th></tr></thead><tbody><tr><td>information_schema</td><td>catalog_privileges</td><td>false</td></tr><tr><td>information_schema</td><td>catalog_provider_share_usage</td><td>false</td></tr><tr><td>information_schema</td><td>catalog_tags</td><td>false</td></tr><tr><td>information_schema</td><td>catalogs</td><td>false</td></tr><tr><td>information_schema</td><td>check_constraints</td><td>false</td></tr><tr><td>information_schema</td><td>column_masks</td><td>false</td></tr><tr><td>information_schema</td><td>column_tags</td><td>false</td></tr><tr><td>information_schema</td><td>columns</td><td>false</td></tr><tr><td>information_schema</td><td>connection_privileges</td><td>false</td></tr><tr><td>information_schema</td><td>connections</td><td>false</td></tr><tr><td>information_schema</td><td>constraint_column_usage</td><td>false</td></tr><tr><td>information_schema</td><td>constraint_table_usage</td><td>false</td></tr><tr><td>information_schema</td><td>credential_privileges</td><td>false</td></tr><tr><td>information_schema</td><td>credentials</td><td>false</td></tr><tr><td>information_schema</td><td>external_location_privileges</td><td>false</td></tr><tr><td>information_schema</td><td>external_locations</td><td>false</td></tr><tr><td>information_schema</td><td>information_schema_catalog_name</td><td>false</td></tr><tr><td>information_schema</td><td>key_column_usage</td><td>false</td></tr><tr><td>information_schema</td><td>metastore_privileges</td><td>false</td></tr><tr><td>information_schema</td><td>metastores</td><td>false</td></tr><tr><td>information_schema</td><td>parameters</td><td>false</td></tr><tr><td>information_schema</td><td>providers</td><td>false</td></tr><tr><td>information_schema</td><td>recipient_allowed_ip_ranges</td><td>false</td></tr><tr><td>information_schema</td><td>recipient_tokens</td><td>false</td></tr><tr><td>information_schema</td><td>recipients</td><td>false</td></tr><tr><td>information_schema</td><td>referential_constraints</td><td>false</td></tr><tr><td>information_schema</td><td>routine_columns</td><td>false</td></tr><tr><td>information_schema</td><td>routine_privileges</td><td>false</td></tr><tr><td>information_schema</td><td>routines</td><td>false</td></tr><tr><td>information_schema</td><td>row_filters</td><td>false</td></tr><tr><td>information_schema</td><td>schema_privileges</td><td>false</td></tr><tr><td>information_schema</td><td>schema_share_usage</td><td>false</td></tr><tr><td>information_schema</td><td>schema_tags</td><td>false</td></tr><tr><td>information_schema</td><td>schemata</td><td>false</td></tr><tr><td>information_schema</td><td>share_recipient_privileges</td><td>false</td></tr><tr><td>information_schema</td><td>shares</td><td>false</td></tr><tr><td>information_schema</td><td>storage_credential_privileges</td><td>false</td></tr><tr><td>information_schema</td><td>storage_credentials</td><td>false</td></tr><tr><td>information_schema</td><td>table_constraints</td><td>false</td></tr><tr><td>information_schema</td><td>table_privileges</td><td>false</td></tr><tr><td>information_schema</td><td>table_share_usage</td><td>false</td></tr><tr><td>information_schema</td><td>table_tags</td><td>false</td></tr><tr><td>information_schema</td><td>tables</td><td>false</td></tr><tr><td>information_schema</td><td>views</td><td>false</td></tr><tr><td>information_schema</td><td>volume_privileges</td><td>false</td></tr><tr><td>information_schema</td><td>volume_tags</td><td>false</td></tr><tr><td>information_schema</td><td>volumes</td><td>false</td></tr></tbody></table></div>"
      ]
     },
     "metadata": {
      "application/vnd.databricks.v1+output": {
       "addedWidgets": {},
       "aggData": [],
       "aggError": "",
       "aggOverflow": false,
       "aggSchema": [],
       "aggSeriesLimitReached": false,
       "aggType": "",
       "arguments": {},
       "columnCustomDisplayInfos": {},
       "data": [
        [
         "information_schema",
         "catalog_privileges",
         false
        ],
        [
         "information_schema",
         "catalog_provider_share_usage",
         false
        ],
        [
         "information_schema",
         "catalog_tags",
         false
        ],
        [
         "information_schema",
         "catalogs",
         false
        ],
        [
         "information_schema",
         "check_constraints",
         false
        ],
        [
         "information_schema",
         "column_masks",
         false
        ],
        [
         "information_schema",
         "column_tags",
         false
        ],
        [
         "information_schema",
         "columns",
         false
        ],
        [
         "information_schema",
         "connection_privileges",
         false
        ],
        [
         "information_schema",
         "connections",
         false
        ],
        [
         "information_schema",
         "constraint_column_usage",
         false
        ],
        [
         "information_schema",
         "constraint_table_usage",
         false
        ],
        [
         "information_schema",
         "credential_privileges",
         false
        ],
        [
         "information_schema",
         "credentials",
         false
        ],
        [
         "information_schema",
         "external_location_privileges",
         false
        ],
        [
         "information_schema",
         "external_locations",
         false
        ],
        [
         "information_schema",
         "information_schema_catalog_name",
         false
        ],
        [
         "information_schema",
         "key_column_usage",
         false
        ],
        [
         "information_schema",
         "metastore_privileges",
         false
        ],
        [
         "information_schema",
         "metastores",
         false
        ],
        [
         "information_schema",
         "parameters",
         false
        ],
        [
         "information_schema",
         "providers",
         false
        ],
        [
         "information_schema",
         "recipient_allowed_ip_ranges",
         false
        ],
        [
         "information_schema",
         "recipient_tokens",
         false
        ],
        [
         "information_schema",
         "recipients",
         false
        ],
        [
         "information_schema",
         "referential_constraints",
         false
        ],
        [
         "information_schema",
         "routine_columns",
         false
        ],
        [
         "information_schema",
         "routine_privileges",
         false
        ],
        [
         "information_schema",
         "routines",
         false
        ],
        [
         "information_schema",
         "row_filters",
         false
        ],
        [
         "information_schema",
         "schema_privileges",
         false
        ],
        [
         "information_schema",
         "schema_share_usage",
         false
        ],
        [
         "information_schema",
         "schema_tags",
         false
        ],
        [
         "information_schema",
         "schemata",
         false
        ],
        [
         "information_schema",
         "share_recipient_privileges",
         false
        ],
        [
         "information_schema",
         "shares",
         false
        ],
        [
         "information_schema",
         "storage_credential_privileges",
         false
        ],
        [
         "information_schema",
         "storage_credentials",
         false
        ],
        [
         "information_schema",
         "table_constraints",
         false
        ],
        [
         "information_schema",
         "table_privileges",
         false
        ],
        [
         "information_schema",
         "table_share_usage",
         false
        ],
        [
         "information_schema",
         "table_tags",
         false
        ],
        [
         "information_schema",
         "tables",
         false
        ],
        [
         "information_schema",
         "views",
         false
        ],
        [
         "information_schema",
         "volume_privileges",
         false
        ],
        [
         "information_schema",
         "volume_tags",
         false
        ],
        [
         "information_schema",
         "volumes",
         false
        ]
       ],
       "datasetInfos": [],
       "dbfsResultPath": null,
       "isJsonSchema": true,
       "metadata": {
        "isDbfsCommandResult": false
       },
       "overflow": false,
       "plotOptions": {
        "customPlotOptions": {},
        "displayType": "table",
        "pivotAggregation": null,
        "pivotColumns": null,
        "xColumns": null,
        "yColumns": null
       },
       "removedWidgets": [],
       "schema": [
        {
         "metadata": "{}",
         "name": "database",
         "type": "\"string\""
        },
        {
         "metadata": "{}",
         "name": "tableName",
         "type": "\"string\""
        },
        {
         "metadata": "{}",
         "name": "isTemporary",
         "type": "\"boolean\""
        }
       ],
       "type": "table"
      }
     },
     "output_type": "display_data"
    }
   ],
   "source": [
    "SHOW TABLES in system.information_schema;"
   ]
  },
  {
   "cell_type": "markdown",
   "metadata": {
    "application/vnd.databricks.v1+cell": {
     "cellMetadata": {},
     "inputWidgets": {},
     "nuid": "4c36c341-7612-47d3-af0f-f0b1db9272a4",
     "showTitle": false,
     "tableResultSettingsMap": {},
     "title": ""
    }
   },
   "source": [
    "2. Let's consider the following query, which shows all tables that have been modified in the last *24 hours* using the **system** catalog.\n",
    "\n",
    "**NOTE:** In addition to demonstrating how to leverage this information, the query also demonstrates a Unity Catalog three-level namespace reference."
   ]
  },
  {
   "cell_type": "code",
   "execution_count": 0,
   "metadata": {
    "application/vnd.databricks.v1+cell": {
     "cellMetadata": {
      "byteLimit": 2048000,
      "rowLimit": 10000
     },
     "inputWidgets": {},
     "nuid": "103858fb-8810-4c57-8242-eb68c8639712",
     "showTitle": false,
     "tableResultSettingsMap": {},
     "title": ""
    }
   },
   "outputs": [
    {
     "output_type": "display_data",
     "data": {
      "text/html": [
       "<style scoped>\n",
       "  .table-result-container {\n",
       "    max-height: 300px;\n",
       "    overflow: auto;\n",
       "  }\n",
       "  table, th, td {\n",
       "    border: 1px solid black;\n",
       "    border-collapse: collapse;\n",
       "  }\n",
       "  th, td {\n",
       "    padding: 5px;\n",
       "  }\n",
       "  th {\n",
       "    text-align: left;\n",
       "  }\n",
       "</style><div class='table-result-container'><table class='table-result'><thead style='background-color: white'><tr><th>table_name</th><th>table_owner</th><th>created_by</th><th>last_altered</th><th>last_altered_by</th><th>table_catalog</th></tr></thead><tbody><tr><td>table_tags</td><td>System user</td><td>System user</td><td>2025-08-05T01:57:06.075Z</td><td>System user</td><td>labuser11086062_1754358966</td></tr><tr><td>schemata</td><td>System user</td><td>System user</td><td>2025-08-05T01:57:05.727Z</td><td>System user</td><td>labuser11086062_1754358966</td></tr><tr><td>routine_columns</td><td>System user</td><td>System user</td><td>2025-08-05T01:57:05.621Z</td><td>System user</td><td>labuser11086062_1754358966</td></tr><tr><td>table_constraints</td><td>System user</td><td>System user</td><td>2025-08-05T01:57:05.753Z</td><td>System user</td><td>labuser11086062_1754358966</td></tr><tr><td>row_filters</td><td>System user</td><td>System user</td><td>2025-08-05T01:57:05.926Z</td><td>System user</td><td>labuser11086062_1754358966</td></tr><tr><td>volume_privileges</td><td>System user</td><td>System user</td><td>2025-08-05T01:57:06Z</td><td>System user</td><td>labuser11086062_1754358966</td></tr><tr><td>column_masks</td><td>System user</td><td>System user</td><td>2025-08-05T01:57:05.95Z</td><td>System user</td><td>labuser11086062_1754358966</td></tr><tr><td>tables</td><td>System user</td><td>System user</td><td>2025-08-05T01:57:05.873Z</td><td>System user</td><td>labuser11086062_1754358966</td></tr><tr><td>referential_constraints</td><td>System user</td><td>System user</td><td>2025-08-05T01:57:05.56Z</td><td>System user</td><td>labuser11086062_1754358966</td></tr><tr><td>parameters</td><td>System user</td><td>System user</td><td>2025-08-05T01:57:05.648Z</td><td>System user</td><td>labuser11086062_1754358966</td></tr><tr><td>constraint_column_usage</td><td>System user</td><td>System user</td><td>2025-08-05T01:57:05.802Z</td><td>System user</td><td>labuser11086062_1754358966</td></tr><tr><td>column_tags</td><td>System user</td><td>System user</td><td>2025-08-05T01:57:06.099Z</td><td>System user</td><td>labuser11086062_1754358966</td></tr><tr><td>views</td><td>System user</td><td>System user</td><td>2025-08-05T01:57:05.901Z</td><td>System user</td><td>labuser11086062_1754358966</td></tr><tr><td>routines</td><td>System user</td><td>System user</td><td>2025-08-05T01:57:05.589Z</td><td>System user</td><td>labuser11086062_1754358966</td></tr><tr><td>columns</td><td>System user</td><td>System user</td><td>2025-08-05T01:57:05.502Z</td><td>System user</td><td>labuser11086062_1754358966</td></tr><tr><td>catalog_privileges</td><td>System user</td><td>System user</td><td>2025-08-05T01:57:05.425Z</td><td>System user</td><td>labuser11086062_1754358966</td></tr><tr><td>volume_tags</td><td>System user</td><td>System user</td><td>2025-08-05T01:57:06.123Z</td><td>System user</td><td>labuser11086062_1754358966</td></tr><tr><td>schema_tags</td><td>System user</td><td>System user</td><td>2025-08-05T01:57:06.05Z</td><td>System user</td><td>labuser11086062_1754358966</td></tr><tr><td>check_constraints</td><td>System user</td><td>System user</td><td>2025-08-05T01:57:05.477Z</td><td>System user</td><td>labuser11086062_1754358966</td></tr><tr><td>catalogs</td><td>System user</td><td>System user</td><td>2025-08-05T01:57:05.453Z</td><td>System user</td><td>labuser11086062_1754358966</td></tr><tr><td>table_privileges</td><td>System user</td><td>System user</td><td>2025-08-05T01:57:05.849Z</td><td>System user</td><td>labuser11086062_1754358966</td></tr><tr><td>catalog_tags</td><td>System user</td><td>System user</td><td>2025-08-05T01:57:06.025Z</td><td>System user</td><td>labuser11086062_1754358966</td></tr><tr><td>vw_gold</td><td>labuser11086062_1754358966@vocareum.com</td><td>labuser11086062_1754358966@vocareum.com</td><td>2025-08-05T02:15:53.129Z</td><td>labuser11086062_1754358966@vocareum.com</td><td>labuser11086062_1754358966</td></tr><tr><td>information_schema_catalog_name</td><td>System user</td><td>System user</td><td>2025-08-05T01:57:05.535Z</td><td>System user</td><td>labuser11086062_1754358966</td></tr><tr><td>volumes</td><td>System user</td><td>System user</td><td>2025-08-05T01:57:05.974Z</td><td>System user</td><td>labuser11086062_1754358966</td></tr><tr><td>routine_privileges</td><td>System user</td><td>System user</td><td>2025-08-05T01:57:05.678Z</td><td>System user</td><td>labuser11086062_1754358966</td></tr><tr><td>silver</td><td>labuser11086062_1754358966@vocareum.com</td><td>labuser11086062_1754358966@vocareum.com</td><td>2025-08-05T02:15:51.137Z</td><td>labuser11086062_1754358966@vocareum.com</td><td>labuser11086062_1754358966</td></tr><tr><td>schema_privileges</td><td>System user</td><td>System user</td><td>2025-08-05T01:57:05.704Z</td><td>System user</td><td>labuser11086062_1754358966</td></tr><tr><td>key_column_usage</td><td>System user</td><td>System user</td><td>2025-08-05T01:57:05.778Z</td><td>System user</td><td>labuser11086062_1754358966</td></tr><tr><td>constraint_table_usage</td><td>System user</td><td>System user</td><td>2025-08-05T01:57:05.825Z</td><td>System user</td><td>labuser11086062_1754358966</td></tr></tbody></table></div>"
      ]
     },
     "metadata": {
      "application/vnd.databricks.v1+output": {
       "addedWidgets": {},
       "aggData": [],
       "aggError": "",
       "aggOverflow": false,
       "aggSchema": [],
       "aggSeriesLimitReached": false,
       "aggType": "",
       "arguments": {},
       "columnCustomDisplayInfos": {},
       "data": [
        [
         "table_tags",
         "System user",
         "System user",
         "2025-08-05T01:57:06.075Z",
         "System user",
         "labuser11086062_1754358966"
        ],
        [
         "schemata",
         "System user",
         "System user",
         "2025-08-05T01:57:05.727Z",
         "System user",
         "labuser11086062_1754358966"
        ],
        [
         "routine_columns",
         "System user",
         "System user",
         "2025-08-05T01:57:05.621Z",
         "System user",
         "labuser11086062_1754358966"
        ],
        [
         "table_constraints",
         "System user",
         "System user",
         "2025-08-05T01:57:05.753Z",
         "System user",
         "labuser11086062_1754358966"
        ],
        [
         "row_filters",
         "System user",
         "System user",
         "2025-08-05T01:57:05.926Z",
         "System user",
         "labuser11086062_1754358966"
        ],
        [
         "volume_privileges",
         "System user",
         "System user",
         "2025-08-05T01:57:06Z",
         "System user",
         "labuser11086062_1754358966"
        ],
        [
         "column_masks",
         "System user",
         "System user",
         "2025-08-05T01:57:05.95Z",
         "System user",
         "labuser11086062_1754358966"
        ],
        [
         "tables",
         "System user",
         "System user",
         "2025-08-05T01:57:05.873Z",
         "System user",
         "labuser11086062_1754358966"
        ],
        [
         "referential_constraints",
         "System user",
         "System user",
         "2025-08-05T01:57:05.56Z",
         "System user",
         "labuser11086062_1754358966"
        ],
        [
         "parameters",
         "System user",
         "System user",
         "2025-08-05T01:57:05.648Z",
         "System user",
         "labuser11086062_1754358966"
        ],
        [
         "constraint_column_usage",
         "System user",
         "System user",
         "2025-08-05T01:57:05.802Z",
         "System user",
         "labuser11086062_1754358966"
        ],
        [
         "column_tags",
         "System user",
         "System user",
         "2025-08-05T01:57:06.099Z",
         "System user",
         "labuser11086062_1754358966"
        ],
        [
         "views",
         "System user",
         "System user",
         "2025-08-05T01:57:05.901Z",
         "System user",
         "labuser11086062_1754358966"
        ],
        [
         "routines",
         "System user",
         "System user",
         "2025-08-05T01:57:05.589Z",
         "System user",
         "labuser11086062_1754358966"
        ],
        [
         "columns",
         "System user",
         "System user",
         "2025-08-05T01:57:05.502Z",
         "System user",
         "labuser11086062_1754358966"
        ],
        [
         "catalog_privileges",
         "System user",
         "System user",
         "2025-08-05T01:57:05.425Z",
         "System user",
         "labuser11086062_1754358966"
        ],
        [
         "volume_tags",
         "System user",
         "System user",
         "2025-08-05T01:57:06.123Z",
         "System user",
         "labuser11086062_1754358966"
        ],
        [
         "schema_tags",
         "System user",
         "System user",
         "2025-08-05T01:57:06.05Z",
         "System user",
         "labuser11086062_1754358966"
        ],
        [
         "check_constraints",
         "System user",
         "System user",
         "2025-08-05T01:57:05.477Z",
         "System user",
         "labuser11086062_1754358966"
        ],
        [
         "catalogs",
         "System user",
         "System user",
         "2025-08-05T01:57:05.453Z",
         "System user",
         "labuser11086062_1754358966"
        ],
        [
         "table_privileges",
         "System user",
         "System user",
         "2025-08-05T01:57:05.849Z",
         "System user",
         "labuser11086062_1754358966"
        ],
        [
         "catalog_tags",
         "System user",
         "System user",
         "2025-08-05T01:57:06.025Z",
         "System user",
         "labuser11086062_1754358966"
        ],
        [
         "vw_gold",
         "labuser11086062_1754358966@vocareum.com",
         "labuser11086062_1754358966@vocareum.com",
         "2025-08-05T02:15:53.129Z",
         "labuser11086062_1754358966@vocareum.com",
         "labuser11086062_1754358966"
        ],
        [
         "information_schema_catalog_name",
         "System user",
         "System user",
         "2025-08-05T01:57:05.535Z",
         "System user",
         "labuser11086062_1754358966"
        ],
        [
         "volumes",
         "System user",
         "System user",
         "2025-08-05T01:57:05.974Z",
         "System user",
         "labuser11086062_1754358966"
        ],
        [
         "routine_privileges",
         "System user",
         "System user",
         "2025-08-05T01:57:05.678Z",
         "System user",
         "labuser11086062_1754358966"
        ],
        [
         "silver",
         "labuser11086062_1754358966@vocareum.com",
         "labuser11086062_1754358966@vocareum.com",
         "2025-08-05T02:15:51.137Z",
         "labuser11086062_1754358966@vocareum.com",
         "labuser11086062_1754358966"
        ],
        [
         "schema_privileges",
         "System user",
         "System user",
         "2025-08-05T01:57:05.704Z",
         "System user",
         "labuser11086062_1754358966"
        ],
        [
         "key_column_usage",
         "System user",
         "System user",
         "2025-08-05T01:57:05.778Z",
         "System user",
         "labuser11086062_1754358966"
        ],
        [
         "constraint_table_usage",
         "System user",
         "System user",
         "2025-08-05T01:57:05.825Z",
         "System user",
         "labuser11086062_1754358966"
        ]
       ],
       "datasetInfos": [],
       "dbfsResultPath": null,
       "isJsonSchema": true,
       "metadata": {
        "isDbfsCommandResult": false
       },
       "overflow": false,
       "plotOptions": {
        "customPlotOptions": {},
        "displayType": "table",
        "pivotAggregation": null,
        "pivotColumns": null,
        "xColumns": null,
        "yColumns": null
       },
       "removedWidgets": [],
       "schema": [
        {
         "metadata": "{\"comment\":\"Name of the relation.\"}",
         "name": "table_name",
         "type": "\"string\""
        },
        {
         "metadata": "{\"comment\":\"User or group (principal) currently owning the relation.\"}",
         "name": "table_owner",
         "type": "\"string\""
        },
        {
         "metadata": "{\"comment\":\"Principal which created the relation.\"}",
         "name": "created_by",
         "type": "\"string\""
        },
        {
         "metadata": "{\"comment\":\"Timestamp when the relation definition was last altered in any way.\"}",
         "name": "last_altered",
         "type": "\"timestamp\""
        },
        {
         "metadata": "{\"comment\":\"Principal which last altered the relation.\"}",
         "name": "last_altered_by",
         "type": "\"string\""
        },
        {
         "metadata": "{\"comment\":\"Catalog that contains the relation.\"}",
         "name": "table_catalog",
         "type": "\"string\""
        }
       ],
       "type": "table"
      }
     },
     "output_type": "display_data"
    }
   ],
   "source": [
    "SELECT \n",
    "    table_name, \n",
    "    table_owner, \n",
    "    created_by, \n",
    "    last_altered, \n",
    "    last_altered_by, \n",
    "    table_catalog\n",
    "FROM system.information_schema.tables\n",
    "WHERE  datediff(now(), last_altered) < 1;"
   ]
  },
  {
   "cell_type": "markdown",
   "metadata": {
    "application/vnd.databricks.v1+cell": {
     "cellMetadata": {},
     "inputWidgets": {},
     "nuid": "67e8c6ea-01f1-4789-8228-b4f8db9df398",
     "showTitle": false,
     "tableResultSettingsMap": {},
     "title": ""
    }
   },
   "source": [
    "### D2. Information Schema\n",
    "\n",
    "The *information_schema* is automatically created with each catalog and contains a collection of views whose purpose is to provide a SQL-based, self-describing API to the metadata related to the elements contained within the catalog.\n",
    "\n",
    "The relations found in this schema are documented <a href=\"https://docs.databricks.com/sql/language-manual/sql-ref-information-schema.html\" target=\"_blank\">here</a>. \n",
    "\n",
    "1. As a basic example, let's see all of your available tables in your default catalog. Note that since we only specify two levels here, we're referencing the default catalog selected earlier."
   ]
  },
  {
   "cell_type": "code",
   "execution_count": 0,
   "metadata": {
    "application/vnd.databricks.v1+cell": {
     "cellMetadata": {
      "byteLimit": 2048000,
      "rowLimit": 10000
     },
     "inputWidgets": {},
     "nuid": "732777b2-a40f-44f7-90c1-faa7ba9cdbcb",
     "showTitle": false,
     "tableResultSettingsMap": {},
     "title": ""
    }
   },
   "outputs": [
    {
     "output_type": "display_data",
     "data": {
      "text/html": [
       "<style scoped>\n",
       "  .table-result-container {\n",
       "    max-height: 300px;\n",
       "    overflow: auto;\n",
       "  }\n",
       "  table, th, td {\n",
       "    border: 1px solid black;\n",
       "    border-collapse: collapse;\n",
       "  }\n",
       "  th, td {\n",
       "    padding: 5px;\n",
       "  }\n",
       "  th {\n",
       "    text-align: left;\n",
       "  }\n",
       "</style><div class='table-result-container'><table class='table-result'><thead style='background-color: white'><tr><th>table_catalog</th><th>table_schema</th><th>table_name</th><th>table_type</th><th>is_insertable_into</th><th>commit_action</th><th>table_owner</th><th>comment</th><th>created</th><th>created_by</th><th>last_altered</th><th>last_altered_by</th><th>data_source_format</th><th>storage_sub_directory</th><th>storage_path</th></tr></thead><tbody><tr><td>labuser11086062_1754358966</td><td>information_schema</td><td>table_tags</td><td>VIEW</td><td>NO</td><td>PRESERVE</td><td>System user</td><td>null</td><td>2025-08-05T01:57:06.075Z</td><td>System user</td><td>2025-08-05T01:57:06.075Z</td><td>System user</td><td>UNKNOWN_DATA_SOURCE_FORMAT</td><td>null</td><td>null</td></tr><tr><td>labuser11086062_1754358966</td><td>information_schema</td><td>schemata</td><td>VIEW</td><td>NO</td><td>PRESERVE</td><td>System user</td><td>Describes schemas within the catalog.</td><td>2025-08-05T01:57:05.727Z</td><td>System user</td><td>2025-08-05T01:57:05.727Z</td><td>System user</td><td>UNKNOWN_DATA_SOURCE_FORMAT</td><td>null</td><td>null</td></tr><tr><td>labuser11086062_1754358966</td><td>information_schema</td><td>routine_columns</td><td>VIEW</td><td>NO</td><td>PRESERVE</td><td>System user</td><td>Describes result columns of table valued functions.</td><td>2025-08-05T01:57:05.621Z</td><td>System user</td><td>2025-08-05T01:57:05.621Z</td><td>System user</td><td>UNKNOWN_DATA_SOURCE_FORMAT</td><td>null</td><td>null</td></tr><tr><td>labuser11086062_1754358966</td><td>information_schema</td><td>table_constraints</td><td>VIEW</td><td>NO</td><td>PRESERVE</td><td>System user</td><td>Describes metadata for all primary and foreign key constraints within the catalog.</td><td>2025-08-05T01:57:05.753Z</td><td>System user</td><td>2025-08-05T01:57:05.753Z</td><td>System user</td><td>UNKNOWN_DATA_SOURCE_FORMAT</td><td>null</td><td>null</td></tr><tr><td>labuser11086062_1754358966</td><td>information_schema</td><td>row_filters</td><td>VIEW</td><td>NO</td><td>PRESERVE</td><td>System user</td><td>null</td><td>2025-08-05T01:57:05.926Z</td><td>System user</td><td>2025-08-05T01:57:05.926Z</td><td>System user</td><td>UNKNOWN_DATA_SOURCE_FORMAT</td><td>null</td><td>null</td></tr><tr><td>labuser11086062_1754358966</td><td>information_schema</td><td>volume_privileges</td><td>VIEW</td><td>NO</td><td>PRESERVE</td><td>System user</td><td>null</td><td>2025-08-05T01:57:06Z</td><td>System user</td><td>2025-08-05T01:57:06Z</td><td>System user</td><td>UNKNOWN_DATA_SOURCE_FORMAT</td><td>null</td><td>null</td></tr><tr><td>labuser11086062_1754358966</td><td>information_schema</td><td>column_masks</td><td>VIEW</td><td>NO</td><td>PRESERVE</td><td>System user</td><td>null</td><td>2025-08-05T01:57:05.95Z</td><td>System user</td><td>2025-08-05T01:57:05.95Z</td><td>System user</td><td>UNKNOWN_DATA_SOURCE_FORMAT</td><td>null</td><td>null</td></tr><tr><td>labuser11086062_1754358966</td><td>information_schema</td><td>tables</td><td>VIEW</td><td>NO</td><td>PRESERVE</td><td>System user</td><td>Describes tables and views defined within the catalog.</td><td>2025-08-05T01:57:05.873Z</td><td>System user</td><td>2025-08-05T01:57:05.873Z</td><td>System user</td><td>UNKNOWN_DATA_SOURCE_FORMAT</td><td>null</td><td>null</td></tr><tr><td>labuser11086062_1754358966</td><td>information_schema</td><td>referential_constraints</td><td>VIEW</td><td>NO</td><td>PRESERVE</td><td>System user</td><td>Describes referential (foreign key) constraints defined in the catalog.</td><td>2025-08-05T01:57:05.56Z</td><td>System user</td><td>2025-08-05T01:57:05.56Z</td><td>System user</td><td>UNKNOWN_DATA_SOURCE_FORMAT</td><td>null</td><td>null</td></tr><tr><td>labuser11086062_1754358966</td><td>information_schema</td><td>parameters</td><td>VIEW</td><td>NO</td><td>PRESERVE</td><td>System user</td><td>Describes parameters of routines (functions) in the catalog.</td><td>2025-08-05T01:57:05.648Z</td><td>System user</td><td>2025-08-05T01:57:05.648Z</td><td>System user</td><td>UNKNOWN_DATA_SOURCE_FORMAT</td><td>null</td><td>null</td></tr><tr><td>labuser11086062_1754358966</td><td>information_schema</td><td>constraint_column_usage</td><td>VIEW</td><td>NO</td><td>PRESERVE</td><td>System user</td><td>Describes the constraints referencing columns in the catalog.</td><td>2025-08-05T01:57:05.802Z</td><td>System user</td><td>2025-08-05T01:57:05.802Z</td><td>System user</td><td>UNKNOWN_DATA_SOURCE_FORMAT</td><td>null</td><td>null</td></tr><tr><td>labuser11086062_1754358966</td><td>information_schema</td><td>column_tags</td><td>VIEW</td><td>NO</td><td>PRESERVE</td><td>System user</td><td>null</td><td>2025-08-05T01:57:06.099Z</td><td>System user</td><td>2025-08-05T01:57:06.099Z</td><td>System user</td><td>UNKNOWN_DATA_SOURCE_FORMAT</td><td>null</td><td>null</td></tr><tr><td>labuser11086062_1754358966</td><td>information_schema</td><td>views</td><td>VIEW</td><td>NO</td><td>PRESERVE</td><td>System user</td><td>Describes view specific information about the views in the catalog.</td><td>2025-08-05T01:57:05.901Z</td><td>System user</td><td>2025-08-05T01:57:05.901Z</td><td>System user</td><td>UNKNOWN_DATA_SOURCE_FORMAT</td><td>null</td><td>null</td></tr><tr><td>labuser11086062_1754358966</td><td>information_schema</td><td>routines</td><td>VIEW</td><td>NO</td><td>PRESERVE</td><td>System user</td><td>Describes routines (functions) in the catalog.</td><td>2025-08-05T01:57:05.589Z</td><td>System user</td><td>2025-08-05T01:57:05.589Z</td><td>System user</td><td>UNKNOWN_DATA_SOURCE_FORMAT</td><td>null</td><td>null</td></tr><tr><td>labuser11086062_1754358966</td><td>information_schema</td><td>columns</td><td>VIEW</td><td>NO</td><td>PRESERVE</td><td>System user</td><td>Describes columns of tables and views in the catalog.</td><td>2025-08-05T01:57:05.502Z</td><td>System user</td><td>2025-08-05T01:57:05.502Z</td><td>System user</td><td>UNKNOWN_DATA_SOURCE_FORMAT</td><td>null</td><td>null</td></tr><tr><td>labuser11086062_1754358966</td><td>information_schema</td><td>catalog_privileges</td><td>VIEW</td><td>NO</td><td>PRESERVE</td><td>System user</td><td>Lists principals that have privileges on the catalogs.</td><td>2025-08-05T01:57:05.425Z</td><td>System user</td><td>2025-08-05T01:57:05.425Z</td><td>System user</td><td>UNKNOWN_DATA_SOURCE_FORMAT</td><td>null</td><td>null</td></tr><tr><td>labuser11086062_1754358966</td><td>information_schema</td><td>volume_tags</td><td>VIEW</td><td>NO</td><td>PRESERVE</td><td>System user</td><td>null</td><td>2025-08-05T01:57:06.123Z</td><td>System user</td><td>2025-08-05T01:57:06.123Z</td><td>System user</td><td>UNKNOWN_DATA_SOURCE_FORMAT</td><td>null</td><td>null</td></tr><tr><td>labuser11086062_1754358966</td><td>information_schema</td><td>schema_tags</td><td>VIEW</td><td>NO</td><td>PRESERVE</td><td>System user</td><td>null</td><td>2025-08-05T01:57:06.05Z</td><td>System user</td><td>2025-08-05T01:57:06.05Z</td><td>System user</td><td>UNKNOWN_DATA_SOURCE_FORMAT</td><td>null</td><td>null</td></tr><tr><td>labuser11086062_1754358966</td><td>information_schema</td><td>check_constraints</td><td>VIEW</td><td>NO</td><td>PRESERVE</td><td>System user</td><td>Reserved for future use.</td><td>2025-08-05T01:57:05.477Z</td><td>System user</td><td>2025-08-05T01:57:05.477Z</td><td>System user</td><td>UNKNOWN_DATA_SOURCE_FORMAT</td><td>null</td><td>null</td></tr><tr><td>labuser11086062_1754358966</td><td>information_schema</td><td>catalogs</td><td>VIEW</td><td>NO</td><td>PRESERVE</td><td>System user</td><td>Describes catalogs.</td><td>2025-08-05T01:57:05.453Z</td><td>System user</td><td>2025-08-05T01:57:05.453Z</td><td>System user</td><td>UNKNOWN_DATA_SOURCE_FORMAT</td><td>null</td><td>null</td></tr><tr><td>labuser11086062_1754358966</td><td>information_schema</td><td>table_privileges</td><td>VIEW</td><td>NO</td><td>PRESERVE</td><td>System user</td><td>Lists principals that have privileges on the tables and views in the catalog.</td><td>2025-08-05T01:57:05.849Z</td><td>System user</td><td>2025-08-05T01:57:05.849Z</td><td>System user</td><td>UNKNOWN_DATA_SOURCE_FORMAT</td><td>null</td><td>null</td></tr><tr><td>labuser11086062_1754358966</td><td>information_schema</td><td>catalog_tags</td><td>VIEW</td><td>NO</td><td>PRESERVE</td><td>System user</td><td>null</td><td>2025-08-05T01:57:06.025Z</td><td>System user</td><td>2025-08-05T01:57:06.025Z</td><td>System user</td><td>UNKNOWN_DATA_SOURCE_FORMAT</td><td>null</td><td>null</td></tr><tr><td>labuser11086062_1754358966</td><td>example</td><td>vw_gold</td><td>VIEW</td><td>NO</td><td>PRESERVE</td><td>labuser11086062_1754358966@vocareum.com</td><td>null</td><td>2025-08-05T02:15:53.129Z</td><td>labuser11086062_1754358966@vocareum.com</td><td>2025-08-05T02:15:53.129Z</td><td>labuser11086062_1754358966@vocareum.com</td><td>UNKNOWN_DATA_SOURCE_FORMAT</td><td>null</td><td>null</td></tr><tr><td>labuser11086062_1754358966</td><td>information_schema</td><td>information_schema_catalog_name</td><td>VIEW</td><td>NO</td><td>PRESERVE</td><td>System user</td><td>Returns the name of this information schema’s catalog.</td><td>2025-08-05T01:57:05.535Z</td><td>System user</td><td>2025-08-05T01:57:05.535Z</td><td>System user</td><td>UNKNOWN_DATA_SOURCE_FORMAT</td><td>null</td><td>null</td></tr><tr><td>labuser11086062_1754358966</td><td>information_schema</td><td>volumes</td><td>VIEW</td><td>NO</td><td>PRESERVE</td><td>System user</td><td>null</td><td>2025-08-05T01:57:05.974Z</td><td>System user</td><td>2025-08-05T01:57:05.974Z</td><td>System user</td><td>UNKNOWN_DATA_SOURCE_FORMAT</td><td>null</td><td>null</td></tr><tr><td>labuser11086062_1754358966</td><td>information_schema</td><td>routine_privileges</td><td>VIEW</td><td>NO</td><td>PRESERVE</td><td>System user</td><td>Lists principals that have privileges on the routines in the catalog.</td><td>2025-08-05T01:57:05.678Z</td><td>System user</td><td>2025-08-05T01:57:05.678Z</td><td>System user</td><td>UNKNOWN_DATA_SOURCE_FORMAT</td><td>null</td><td>null</td></tr><tr><td>labuser11086062_1754358966</td><td>example</td><td>silver</td><td>MANAGED</td><td>YES</td><td>PRESERVE</td><td>labuser11086062_1754358966@vocareum.com</td><td>null</td><td>2025-08-05T02:08:28.503Z</td><td>labuser11086062_1754358966@vocareum.com</td><td>2025-08-05T02:15:51.137Z</td><td>labuser11086062_1754358966@vocareum.com</td><td>DELTA</td><td>tables/d00ae295-587e-4039-921e-3564a48a542e</td><td>s3://unity-catalogs-us-west-2/metastore/3686620-root/2990c72a-8f73-4f8a-bbf2-ff31d04c016f/tables/d00ae295-587e-4039-921e-3564a48a542e</td></tr><tr><td>labuser11086062_1754358966</td><td>information_schema</td><td>schema_privileges</td><td>VIEW</td><td>NO</td><td>PRESERVE</td><td>System user</td><td>Lists principals that have privileges on the schemas in the catalog.</td><td>2025-08-05T01:57:05.704Z</td><td>System user</td><td>2025-08-05T01:57:05.704Z</td><td>System user</td><td>UNKNOWN_DATA_SOURCE_FORMAT</td><td>null</td><td>null</td></tr><tr><td>labuser11086062_1754358966</td><td>information_schema</td><td>key_column_usage</td><td>VIEW</td><td>NO</td><td>PRESERVE</td><td>System user</td><td>Lists the columns of the primary or foreign key constraints within the catalog.</td><td>2025-08-05T01:57:05.778Z</td><td>System user</td><td>2025-08-05T01:57:05.778Z</td><td>System user</td><td>UNKNOWN_DATA_SOURCE_FORMAT</td><td>null</td><td>null</td></tr><tr><td>labuser11086062_1754358966</td><td>information_schema</td><td>constraint_table_usage</td><td>VIEW</td><td>NO</td><td>PRESERVE</td><td>System user</td><td>Describes the constraints referencing tables in the catalog.</td><td>2025-08-05T01:57:05.825Z</td><td>System user</td><td>2025-08-05T01:57:05.825Z</td><td>System user</td><td>UNKNOWN_DATA_SOURCE_FORMAT</td><td>null</td><td>null</td></tr></tbody></table></div>"
      ]
     },
     "metadata": {
      "application/vnd.databricks.v1+output": {
       "addedWidgets": {},
       "aggData": [],
       "aggError": "",
       "aggOverflow": false,
       "aggSchema": [],
       "aggSeriesLimitReached": false,
       "aggType": "",
       "arguments": {},
       "columnCustomDisplayInfos": {},
       "data": [
        [
         "labuser11086062_1754358966",
         "information_schema",
         "table_tags",
         "VIEW",
         "NO",
         "PRESERVE",
         "System user",
         null,
         "2025-08-05T01:57:06.075Z",
         "System user",
         "2025-08-05T01:57:06.075Z",
         "System user",
         "UNKNOWN_DATA_SOURCE_FORMAT",
         null,
         null
        ],
        [
         "labuser11086062_1754358966",
         "information_schema",
         "schemata",
         "VIEW",
         "NO",
         "PRESERVE",
         "System user",
         "Describes schemas within the catalog.",
         "2025-08-05T01:57:05.727Z",
         "System user",
         "2025-08-05T01:57:05.727Z",
         "System user",
         "UNKNOWN_DATA_SOURCE_FORMAT",
         null,
         null
        ],
        [
         "labuser11086062_1754358966",
         "information_schema",
         "routine_columns",
         "VIEW",
         "NO",
         "PRESERVE",
         "System user",
         "Describes result columns of table valued functions.",
         "2025-08-05T01:57:05.621Z",
         "System user",
         "2025-08-05T01:57:05.621Z",
         "System user",
         "UNKNOWN_DATA_SOURCE_FORMAT",
         null,
         null
        ],
        [
         "labuser11086062_1754358966",
         "information_schema",
         "table_constraints",
         "VIEW",
         "NO",
         "PRESERVE",
         "System user",
         "Describes metadata for all primary and foreign key constraints within the catalog.",
         "2025-08-05T01:57:05.753Z",
         "System user",
         "2025-08-05T01:57:05.753Z",
         "System user",
         "UNKNOWN_DATA_SOURCE_FORMAT",
         null,
         null
        ],
        [
         "labuser11086062_1754358966",
         "information_schema",
         "row_filters",
         "VIEW",
         "NO",
         "PRESERVE",
         "System user",
         null,
         "2025-08-05T01:57:05.926Z",
         "System user",
         "2025-08-05T01:57:05.926Z",
         "System user",
         "UNKNOWN_DATA_SOURCE_FORMAT",
         null,
         null
        ],
        [
         "labuser11086062_1754358966",
         "information_schema",
         "volume_privileges",
         "VIEW",
         "NO",
         "PRESERVE",
         "System user",
         null,
         "2025-08-05T01:57:06Z",
         "System user",
         "2025-08-05T01:57:06Z",
         "System user",
         "UNKNOWN_DATA_SOURCE_FORMAT",
         null,
         null
        ],
        [
         "labuser11086062_1754358966",
         "information_schema",
         "column_masks",
         "VIEW",
         "NO",
         "PRESERVE",
         "System user",
         null,
         "2025-08-05T01:57:05.95Z",
         "System user",
         "2025-08-05T01:57:05.95Z",
         "System user",
         "UNKNOWN_DATA_SOURCE_FORMAT",
         null,
         null
        ],
        [
         "labuser11086062_1754358966",
         "information_schema",
         "tables",
         "VIEW",
         "NO",
         "PRESERVE",
         "System user",
         "Describes tables and views defined within the catalog.",
         "2025-08-05T01:57:05.873Z",
         "System user",
         "2025-08-05T01:57:05.873Z",
         "System user",
         "UNKNOWN_DATA_SOURCE_FORMAT",
         null,
         null
        ],
        [
         "labuser11086062_1754358966",
         "information_schema",
         "referential_constraints",
         "VIEW",
         "NO",
         "PRESERVE",
         "System user",
         "Describes referential (foreign key) constraints defined in the catalog.",
         "2025-08-05T01:57:05.56Z",
         "System user",
         "2025-08-05T01:57:05.56Z",
         "System user",
         "UNKNOWN_DATA_SOURCE_FORMAT",
         null,
         null
        ],
        [
         "labuser11086062_1754358966",
         "information_schema",
         "parameters",
         "VIEW",
         "NO",
         "PRESERVE",
         "System user",
         "Describes parameters of routines (functions) in the catalog.",
         "2025-08-05T01:57:05.648Z",
         "System user",
         "2025-08-05T01:57:05.648Z",
         "System user",
         "UNKNOWN_DATA_SOURCE_FORMAT",
         null,
         null
        ],
        [
         "labuser11086062_1754358966",
         "information_schema",
         "constraint_column_usage",
         "VIEW",
         "NO",
         "PRESERVE",
         "System user",
         "Describes the constraints referencing columns in the catalog.",
         "2025-08-05T01:57:05.802Z",
         "System user",
         "2025-08-05T01:57:05.802Z",
         "System user",
         "UNKNOWN_DATA_SOURCE_FORMAT",
         null,
         null
        ],
        [
         "labuser11086062_1754358966",
         "information_schema",
         "column_tags",
         "VIEW",
         "NO",
         "PRESERVE",
         "System user",
         null,
         "2025-08-05T01:57:06.099Z",
         "System user",
         "2025-08-05T01:57:06.099Z",
         "System user",
         "UNKNOWN_DATA_SOURCE_FORMAT",
         null,
         null
        ],
        [
         "labuser11086062_1754358966",
         "information_schema",
         "views",
         "VIEW",
         "NO",
         "PRESERVE",
         "System user",
         "Describes view specific information about the views in the catalog.",
         "2025-08-05T01:57:05.901Z",
         "System user",
         "2025-08-05T01:57:05.901Z",
         "System user",
         "UNKNOWN_DATA_SOURCE_FORMAT",
         null,
         null
        ],
        [
         "labuser11086062_1754358966",
         "information_schema",
         "routines",
         "VIEW",
         "NO",
         "PRESERVE",
         "System user",
         "Describes routines (functions) in the catalog.",
         "2025-08-05T01:57:05.589Z",
         "System user",
         "2025-08-05T01:57:05.589Z",
         "System user",
         "UNKNOWN_DATA_SOURCE_FORMAT",
         null,
         null
        ],
        [
         "labuser11086062_1754358966",
         "information_schema",
         "columns",
         "VIEW",
         "NO",
         "PRESERVE",
         "System user",
         "Describes columns of tables and views in the catalog.",
         "2025-08-05T01:57:05.502Z",
         "System user",
         "2025-08-05T01:57:05.502Z",
         "System user",
         "UNKNOWN_DATA_SOURCE_FORMAT",
         null,
         null
        ],
        [
         "labuser11086062_1754358966",
         "information_schema",
         "catalog_privileges",
         "VIEW",
         "NO",
         "PRESERVE",
         "System user",
         "Lists principals that have privileges on the catalogs.",
         "2025-08-05T01:57:05.425Z",
         "System user",
         "2025-08-05T01:57:05.425Z",
         "System user",
         "UNKNOWN_DATA_SOURCE_FORMAT",
         null,
         null
        ],
        [
         "labuser11086062_1754358966",
         "information_schema",
         "volume_tags",
         "VIEW",
         "NO",
         "PRESERVE",
         "System user",
         null,
         "2025-08-05T01:57:06.123Z",
         "System user",
         "2025-08-05T01:57:06.123Z",
         "System user",
         "UNKNOWN_DATA_SOURCE_FORMAT",
         null,
         null
        ],
        [
         "labuser11086062_1754358966",
         "information_schema",
         "schema_tags",
         "VIEW",
         "NO",
         "PRESERVE",
         "System user",
         null,
         "2025-08-05T01:57:06.05Z",
         "System user",
         "2025-08-05T01:57:06.05Z",
         "System user",
         "UNKNOWN_DATA_SOURCE_FORMAT",
         null,
         null
        ],
        [
         "labuser11086062_1754358966",
         "information_schema",
         "check_constraints",
         "VIEW",
         "NO",
         "PRESERVE",
         "System user",
         "Reserved for future use.",
         "2025-08-05T01:57:05.477Z",
         "System user",
         "2025-08-05T01:57:05.477Z",
         "System user",
         "UNKNOWN_DATA_SOURCE_FORMAT",
         null,
         null
        ],
        [
         "labuser11086062_1754358966",
         "information_schema",
         "catalogs",
         "VIEW",
         "NO",
         "PRESERVE",
         "System user",
         "Describes catalogs.",
         "2025-08-05T01:57:05.453Z",
         "System user",
         "2025-08-05T01:57:05.453Z",
         "System user",
         "UNKNOWN_DATA_SOURCE_FORMAT",
         null,
         null
        ],
        [
         "labuser11086062_1754358966",
         "information_schema",
         "table_privileges",
         "VIEW",
         "NO",
         "PRESERVE",
         "System user",
         "Lists principals that have privileges on the tables and views in the catalog.",
         "2025-08-05T01:57:05.849Z",
         "System user",
         "2025-08-05T01:57:05.849Z",
         "System user",
         "UNKNOWN_DATA_SOURCE_FORMAT",
         null,
         null
        ],
        [
         "labuser11086062_1754358966",
         "information_schema",
         "catalog_tags",
         "VIEW",
         "NO",
         "PRESERVE",
         "System user",
         null,
         "2025-08-05T01:57:06.025Z",
         "System user",
         "2025-08-05T01:57:06.025Z",
         "System user",
         "UNKNOWN_DATA_SOURCE_FORMAT",
         null,
         null
        ],
        [
         "labuser11086062_1754358966",
         "example",
         "vw_gold",
         "VIEW",
         "NO",
         "PRESERVE",
         "labuser11086062_1754358966@vocareum.com",
         null,
         "2025-08-05T02:15:53.129Z",
         "labuser11086062_1754358966@vocareum.com",
         "2025-08-05T02:15:53.129Z",
         "labuser11086062_1754358966@vocareum.com",
         "UNKNOWN_DATA_SOURCE_FORMAT",
         null,
         null
        ],
        [
         "labuser11086062_1754358966",
         "information_schema",
         "information_schema_catalog_name",
         "VIEW",
         "NO",
         "PRESERVE",
         "System user",
         "Returns the name of this information schema’s catalog.",
         "2025-08-05T01:57:05.535Z",
         "System user",
         "2025-08-05T01:57:05.535Z",
         "System user",
         "UNKNOWN_DATA_SOURCE_FORMAT",
         null,
         null
        ],
        [
         "labuser11086062_1754358966",
         "information_schema",
         "volumes",
         "VIEW",
         "NO",
         "PRESERVE",
         "System user",
         null,
         "2025-08-05T01:57:05.974Z",
         "System user",
         "2025-08-05T01:57:05.974Z",
         "System user",
         "UNKNOWN_DATA_SOURCE_FORMAT",
         null,
         null
        ],
        [
         "labuser11086062_1754358966",
         "information_schema",
         "routine_privileges",
         "VIEW",
         "NO",
         "PRESERVE",
         "System user",
         "Lists principals that have privileges on the routines in the catalog.",
         "2025-08-05T01:57:05.678Z",
         "System user",
         "2025-08-05T01:57:05.678Z",
         "System user",
         "UNKNOWN_DATA_SOURCE_FORMAT",
         null,
         null
        ],
        [
         "labuser11086062_1754358966",
         "example",
         "silver",
         "MANAGED",
         "YES",
         "PRESERVE",
         "labuser11086062_1754358966@vocareum.com",
         null,
         "2025-08-05T02:08:28.503Z",
         "labuser11086062_1754358966@vocareum.com",
         "2025-08-05T02:15:51.137Z",
         "labuser11086062_1754358966@vocareum.com",
         "DELTA",
         "tables/d00ae295-587e-4039-921e-3564a48a542e",
         "s3://unity-catalogs-us-west-2/metastore/3686620-root/2990c72a-8f73-4f8a-bbf2-ff31d04c016f/tables/d00ae295-587e-4039-921e-3564a48a542e"
        ],
        [
         "labuser11086062_1754358966",
         "information_schema",
         "schema_privileges",
         "VIEW",
         "NO",
         "PRESERVE",
         "System user",
         "Lists principals that have privileges on the schemas in the catalog.",
         "2025-08-05T01:57:05.704Z",
         "System user",
         "2025-08-05T01:57:05.704Z",
         "System user",
         "UNKNOWN_DATA_SOURCE_FORMAT",
         null,
         null
        ],
        [
         "labuser11086062_1754358966",
         "information_schema",
         "key_column_usage",
         "VIEW",
         "NO",
         "PRESERVE",
         "System user",
         "Lists the columns of the primary or foreign key constraints within the catalog.",
         "2025-08-05T01:57:05.778Z",
         "System user",
         "2025-08-05T01:57:05.778Z",
         "System user",
         "UNKNOWN_DATA_SOURCE_FORMAT",
         null,
         null
        ],
        [
         "labuser11086062_1754358966",
         "information_schema",
         "constraint_table_usage",
         "VIEW",
         "NO",
         "PRESERVE",
         "System user",
         "Describes the constraints referencing tables in the catalog.",
         "2025-08-05T01:57:05.825Z",
         "System user",
         "2025-08-05T01:57:05.825Z",
         "System user",
         "UNKNOWN_DATA_SOURCE_FORMAT",
         null,
         null
        ]
       ],
       "datasetInfos": [],
       "dbfsResultPath": null,
       "isJsonSchema": true,
       "metadata": {},
       "overflow": false,
       "plotOptions": {
        "customPlotOptions": {},
        "displayType": "table",
        "pivotAggregation": null,
        "pivotColumns": null,
        "xColumns": null,
        "yColumns": null
       },
       "removedWidgets": [],
       "schema": [
        {
         "metadata": "{\"comment\":\"Catalog that contains the relation.\"}",
         "name": "table_catalog",
         "type": "\"string\""
        },
        {
         "metadata": "{\"comment\":\"Schema that contains the relation.\"}",
         "name": "table_schema",
         "type": "\"string\""
        },
        {
         "metadata": "{\"comment\":\"Name of the relation.\"}",
         "name": "table_name",
         "type": "\"string\""
        },
        {
         "metadata": "{\"comment\":\"Type of the table such as 'MANAGED', 'FOREIGN', 'VIEW', etc.\"}",
         "name": "table_type",
         "type": "\"string\""
        },
        {
         "metadata": "{\"comment\":\"'YES' if the relation can be inserted into, 'NO' otherwise.\"}",
         "name": "is_insertable_into",
         "type": "\"string\""
        },
        {
         "metadata": "{\"comment\":\"Always 'PRESERVE'. Reserved for future use.\"}",
         "name": "commit_action",
         "type": "\"string\""
        },
        {
         "metadata": "{\"comment\":\"User or group (principal) currently owning the relation.\"}",
         "name": "table_owner",
         "type": "\"string\""
        },
        {
         "metadata": "{\"comment\":\"An optional comment that describes the relation.\"}",
         "name": "comment",
         "type": "\"string\""
        },
        {
         "metadata": "{\"comment\":\"Timestamp when the relation was created.\"}",
         "name": "created",
         "type": "\"timestamp\""
        },
        {
         "metadata": "{\"comment\":\"Principal which created the relation.\"}",
         "name": "created_by",
         "type": "\"string\""
        },
        {
         "metadata": "{\"comment\":\"Timestamp when the relation definition was last altered in any way.\"}",
         "name": "last_altered",
         "type": "\"timestamp\""
        },
        {
         "metadata": "{\"comment\":\"Principal which last altered the relation.\"}",
         "name": "last_altered_by",
         "type": "\"string\""
        },
        {
         "metadata": "{\"comment\":\"Format of the data source such as PARQUET, or CSV.\"}",
         "name": "data_source_format",
         "type": "\"string\""
        },
        {
         "metadata": "{\"comment\":\"Path to the storage of an external table, NULL otherwise.\"}",
         "name": "storage_sub_directory",
         "type": "\"string\""
        },
        {
         "metadata": "{}",
         "name": "storage_path",
         "type": "\"string\""
        }
       ],
       "type": "table"
      }
     },
     "output_type": "display_data"
    }
   ],
   "source": [
    "SELECT * \n",
    "FROM information_schema.tables;"
   ]
  },
  {
   "cell_type": "markdown",
   "metadata": {
    "application/vnd.databricks.v1+cell": {
     "cellMetadata": {},
     "inputWidgets": {},
     "nuid": "9dbc342e-2ae0-44b6-8e9c-99320ecd6076",
     "showTitle": false,
     "tableResultSettingsMap": {},
     "title": ""
    }
   },
   "source": [
    "## E. Catalog Explorer\n"
   ]
  },
  {
   "cell_type": "markdown",
   "metadata": {
    "application/vnd.databricks.v1+cell": {
     "cellMetadata": {},
     "inputWidgets": {},
     "nuid": "1dc790d8-16a1-4266-addc-ffa65005ec4b",
     "showTitle": false,
     "tableResultSettingsMap": {},
     "title": ""
    }
   },
   "source": [
    "### E1. Open the Catalog Explorer\n",
    "1. Right-click on **Catalog** in the left sidebar to explore the metastore using the Catalog Explorer user interface.\n",
    "   \n",
    "   - Observe the catalogs listed in the **Catalog** pane and select *Open Link in New Tab*.\n",
    "\n",
    "   - The items in this list resemble those from the `SHOW CATALOGS` SQL statement we executed earlier.\n",
    "\n",
    "   - Expand your unique catalog name, then expand **example**. This displays a list of tables, views, and functions.\n",
    "   \n",
    "   - Expand **tables**, then select **vw_gold** to see detailed information regarding the view. \n",
    "   \n",
    "   - From here, you can view the schema, sample data, details, and permissions (which we'll get to shortly).\n"
   ]
  },
  {
   "cell_type": "markdown",
   "metadata": {
    "application/vnd.databricks.v1+cell": {
     "cellMetadata": {},
     "inputWidgets": {},
     "nuid": "c1fb95b9-b27e-42b9-a311-9ace6743838b",
     "showTitle": false,
     "tableResultSettingsMap": {},
     "title": ""
    }
   },
   "source": [
    "### E2. Lineage\n",
    "\n",
    "Data lineage is a key pillar of any data governance solution.\n",
    "\n",
    "1. Select the **Lineage** tab.\n",
    "\n",
    "2. In the **Lineage** tab, you can identify elements related to the selected object.\n",
    "\n",
    "3. Select the **See lineage graph** button in the upper left corner.\n",
    "\n",
    "4. The lineage graph provides a visualization of the lineage relationships.\n"
   ]
  },
  {
   "cell_type": "markdown",
   "metadata": {
    "application/vnd.databricks.v1+cell": {
     "cellMetadata": {},
     "inputWidgets": {},
     "nuid": "94bd7725-3129-40d0-ba83-8047c5bf89f3",
     "showTitle": false,
     "tableResultSettingsMap": {},
     "title": ""
    }
   },
   "source": [
    "## Conclusion\n",
    "In this demo, we explored the structure and functionality of a metastore through practical exercises, enhancing our understanding of data organization and metadata management. We learned how to navigate and inspect various components such as catalogs, schemas, tables, and user-defined functions using SQL commands like SHOW and DESCRIBE. Additionally, we delved into the roles of the system catalog and information_schema, gaining insights into their importance in metadata access and management. The demo also highlighted the significance of data lineage for robust data governance, enabling us to trace data origins and impacts effectively. Overall, this hands-on approach has equipped us with essential skills to manage and analyze metadata within a metastore efficiently."
   ]
  },
  {
   "cell_type": "markdown",
   "metadata": {
    "application/vnd.databricks.v1+cell": {
     "cellMetadata": {},
     "inputWidgets": {},
     "nuid": "1e71bc6e-1fe0-435f-89f9-1bd6df21a268",
     "showTitle": false,
     "tableResultSettingsMap": {},
     "title": ""
    }
   },
   "source": [
    "\n",
    "&copy; 2025 Databricks, Inc. All rights reserved. Apache, Apache Spark, Spark, the Spark Logo, Apache Iceberg, Iceberg, and the Apache Iceberg logo are trademarks of the <a href=\"https://www.apache.org/\" target=\"blank\">Apache Software Foundation</a>.<br/>\n",
    "<br/><a href=\"https://databricks.com/privacy-policy\" target=\"blank\">Privacy Policy</a> | \n",
    "<a href=\"https://databricks.com/terms-of-use\" target=\"blank\">Terms of Use</a> | \n",
    "<a href=\"https://help.databricks.com/\" target=\"blank\">Support</a>\n"
   ]
  }
 ],
 "metadata": {
  "application/vnd.databricks.v1+notebook": {
   "computePreferences": null,
   "dashboards": [],
   "environmentMetadata": null,
   "inputWidgetPreferences": null,
   "language": "sql",
   "notebookMetadata": {
    "pythonIndentUnit": 4
   },
   "notebookName": "2L Solution - Navigating the Metastore",
   "widgets": {}
  },
  "language_info": {
   "name": "sql"
  }
 },
 "nbformat": 4,
 "nbformat_minor": 0
}