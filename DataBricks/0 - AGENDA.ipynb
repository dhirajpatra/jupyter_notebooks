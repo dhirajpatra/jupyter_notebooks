{
 "cells": [
  {
   "cell_type": "markdown",
   "metadata": {
    "application/vnd.databricks.v1+cell": {
     "cellMetadata": {},
     "inputWidgets": {},
     "nuid": "884806e4-b97c-45dc-8693-e4478aebcca9",
     "showTitle": false,
     "tableResultSettingsMap": {},
     "title": ""
    }
   },
   "source": [
    "\n",
    "<div style=\"text-align: center; line-height: 0; padding-top: 9px;\">\n",
    "  <img src=\"https://databricks.com/wp-content/uploads/2018/03/db-academy-rgb-1200px.png\" alt=\"Databricks Learning\">\n",
    "</div>\n"
   ]
  },
  {
   "cell_type": "markdown",
   "metadata": {
    "application/vnd.databricks.v1+cell": {
     "cellMetadata": {},
     "inputWidgets": {},
     "nuid": "085d0c20-cacd-4617-a397-f0cf144e4bea",
     "showTitle": false,
     "tableResultSettingsMap": {},
     "title": ""
    }
   },
   "source": [
    "## Data Management and Governance with Unity Catalog\n",
    "In this Data Governance with Unity Catalog session, you'll learn concepts and perform labs that showcase workflows using Unity Catalog - Databricks’ solution to data governance. We'll start off with a brief introduction to Unity Catalog, discuss fundamental data governance concepts, and then dive into a variety of topics including using Unity Catalog for data access control, managing external storage and tables, data segregation, and more. \n",
    "\n",
    "---\n",
    "\n",
    "### Prerequisites\n",
    "Content was developed for participants with these skills/knowledge/abilities:\n",
    "- Familiarity with the Databricks Lakehouse completion (`completion of the course Fundamentals of the Databricks Data Intelligence Platform V2`)\n",
    "- Familiarity with data governance topics\n",
    "\n",
    "---\n",
    "\n",
    "### Course Agenda\n",
    "The following modules are part of the **Data Engineer Learning** Path by Databricks Academy.\n",
    "| # | Notebook Name |\n",
    "| --- | --- |\n",
    "| 1 | [Populating the Metastore]($./1 - Populating the Metastore) |\n",
    "| 2L | [Navigating the Metastore]($./2L - Navigating the Metastore) |\n",
    "| 3 | [Upgrading Tables to Unity Catalog]($./3 - Upgrading Tables to Unity Catalog) |\n",
    "| 4 | [Controlling Access to Data]($./4 - Controlling Access to Data) |\n",
    "| 5L | [Securing Data in Unity Catalog]($./5L - Securing Data in Unity Catalog) |\n",
    "| 6 | [BONUS - Lakehouse Monitoring]($./6 BONUS - Lakehouse Monitoring) |\n",
    "\n",
    "---\n",
    "\n",
    "### Requirements\n",
    "\n",
    "Please review the following requirements before starting the lesson:\n",
    "\n",
    "- Use Databricks Runtime version: **`16.4.x-scala2.12`** to run all demo and lab notebooks.\n",
    "\n"
   ]
  },
  {
   "cell_type": "markdown",
   "metadata": {
    "application/vnd.databricks.v1+cell": {
     "cellMetadata": {},
     "inputWidgets": {},
     "nuid": "78369c5c-130d-4c4f-901d-bb306291dd6e",
     "showTitle": false,
     "tableResultSettingsMap": {},
     "title": ""
    }
   },
   "source": [
    "\n",
    "&copy; 2025 Databricks, Inc. All rights reserved. Apache, Apache Spark, Spark, the Spark Logo, Apache Iceberg, Iceberg, and the Apache Iceberg logo are trademarks of the <a href=\"https://www.apache.org/\" target=\"blank\">Apache Software Foundation</a>.<br/>\n",
    "<br/><a href=\"https://databricks.com/privacy-policy\" target=\"blank\">Privacy Policy</a> | \n",
    "<a href=\"https://databricks.com/terms-of-use\" target=\"blank\">Terms of Use</a> | \n",
    "<a href=\"https://help.databricks.com/\" target=\"blank\">Support</a>\n"
   ]
  }
 ],
 "metadata": {
  "application/vnd.databricks.v1+notebook": {
   "computePreferences": null,
   "dashboards": [],
   "environmentMetadata": null,
   "inputWidgetPreferences": null,
   "language": "python",
   "notebookMetadata": {
    "pythonIndentUnit": 4
   },
   "notebookName": "0 - AGENDA",
   "widgets": {}
  },
  "language_info": {
   "name": "python"
  }
 },
 "nbformat": 4,
 "nbformat_minor": 0
}