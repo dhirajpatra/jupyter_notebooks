{
 "cells": [
  {
   "cell_type": "markdown",
   "metadata": {
    "application/vnd.databricks.v1+cell": {
     "cellMetadata": {},
     "inputWidgets": {},
     "nuid": "8249a285-d149-4f50-9a45-6598705b3141",
     "showTitle": false,
     "tableResultSettingsMap": {},
     "title": ""
    }
   },
   "source": [
    "\n",
    "<div style=\"text-align: center; line-height: 0; padding-top: 9px;\">\n",
    "  <img src=\"https://databricks.com/wp-content/uploads/2018/03/db-academy-rgb-1200px.png\" alt=\"Databricks Learning\">\n",
    "</div>\n"
   ]
  },
  {
   "cell_type": "markdown",
   "metadata": {
    "application/vnd.databricks.v1+cell": {
     "cellMetadata": {},
     "inputWidgets": {},
     "nuid": "169b43ff-2479-4ea3-86c6-aa64feaf7045",
     "showTitle": false,
     "tableResultSettingsMap": {},
     "title": ""
    }
   },
   "source": [
    "# 5 - Deploying a Pipeline to Production\n",
    "\n",
    "In this demonstration, we will begin by adding an additional data source to our pipeline and performing a join with our streaming tables. Then, we will focus on productionalizing the pipeline by adding comments and table properties to the objects we create, scheduling the pipeline, and creating an event log to monitor the pipeline.\n",
    "\n",
    "### Learning Objectives\n",
    "\n",
    "By the end of this lesson, you will be able to:\n",
    "- Apply the appropriate comment syntax and table properties to pipeline objects to enhance readability.\n",
    "- Demonstrate how to perform a join between two streaming tables using a materialized view to optimize data processing.\n",
    "- Execute the scheduling of a pipeline using trigger or continuous modes to ensure timely processing.\n",
    "- Explore the event log to monitor a production Lakeflow Declarative Pipeline."
   ]
  },
  {
   "cell_type": "markdown",
   "metadata": {
    "application/vnd.databricks.v1+cell": {
     "cellMetadata": {},
     "inputWidgets": {},
     "nuid": "0b2d8851-07a7-4743-95fb-077cfa2034f6",
     "showTitle": false,
     "tableResultSettingsMap": {},
     "title": ""
    }
   },
   "source": [
    "## REQUIRED - SELECT CLASSIC COMPUTE\n",
    "\n",
    "Before executing cells in this notebook, please select your classic compute cluster in the lab. Be aware that **Serverless** is enabled by default.\n",
    "\n",
    "Follow these steps to select the classic compute cluster:\n",
    "\n",
    "1. Navigate to the top-right of this notebook and click the drop-down menu to select your cluster. By default, the notebook will use **Serverless**.\n",
    "\n",
    "1. If your cluster is available, select it and continue to the next cell. If the cluster is not shown:\n",
    "\n",
    "    - In the drop-down, select **More**.\n",
    "\n",
    "    - In the **Attach to an existing compute resource** pop-up, select the first drop-down. You will see a unique cluster name in that drop-down. Please select that cluster.\n",
    "\n",
    "**NOTE:** If your cluster has terminated, you might need to restart it in order to select it. To do this:\n",
    "\n",
    "1. Right-click on **Compute** in the left navigation pane and select *Open in new tab*.\n",
    "\n",
    "1. Find the triangle icon to the right of your compute cluster name and click it.\n",
    "\n",
    "1. Wait a few minutes for the cluster to start.\n",
    "\n",
    "1. Once the cluster is running, complete the steps above to select your cluster."
   ]
  },
  {
   "cell_type": "markdown",
   "metadata": {
    "application/vnd.databricks.v1+cell": {
     "cellMetadata": {},
     "inputWidgets": {},
     "nuid": "e60e4ff8-84c1-4453-b191-36437af4de3c",
     "showTitle": false,
     "tableResultSettingsMap": {},
     "title": ""
    }
   },
   "source": [
    "## A. Classroom Setup\n",
    "\n",
    "Run the following cell to configure your working environment for this course.\n",
    "\n",
    "This cell will also reset your `/Volumes/dbacademy/ops/labuser/` volume with the JSON files to the starting point, with one JSON file in each volume.\n",
    "\n",
    "**NOTE:** The `DA` object is only used in Databricks Academy courses and is not available outside of these courses. It will dynamically create and reference the information needed to run the course."
   ]
  },
  {
   "cell_type": "code",
   "execution_count": 0,
   "metadata": {
    "application/vnd.databricks.v1+cell": {
     "cellMetadata": {
      "byteLimit": 2048000,
      "implicitDf": true,
      "rowLimit": 10000
     },
     "inputWidgets": {},
     "nuid": "b5ea29ff-03f8-4ebc-97e6-4ca56a259ea7",
     "showTitle": false,
     "tableResultSettingsMap": {},
     "title": ""
    }
   },
   "outputs": [
    {
     "output_type": "stream",
     "name": "stdout",
     "output_type": "stream",
     "text": [
      "\u001B[43mNote: you may need to restart the kernel using %restart_python or dbutils.library.restartPython() to use updated packages.\u001B[0m\n"
     ]
    },
    {
     "output_type": "display_data",
     "data": {
      "text/html": [
       "<style scoped>\n",
       "  .table-result-container {\n",
       "    max-height: 300px;\n",
       "    overflow: auto;\n",
       "  }\n",
       "  table, th, td {\n",
       "    border: 1px solid black;\n",
       "    border-collapse: collapse;\n",
       "  }\n",
       "  th, td {\n",
       "    padding: 5px;\n",
       "  }\n",
       "  th {\n",
       "    text-align: left;\n",
       "  }\n",
       "</style><div class='table-result-container'><table class='table-result'><thead style='background-color: white'><tr></tr></thead><tbody></tbody></table></div>"
      ]
     },
     "metadata": {
      "application/vnd.databricks.v1+output": {
       "addedWidgets": {},
       "aggData": [],
       "aggError": "",
       "aggOverflow": false,
       "aggSchema": [],
       "aggSeriesLimitReached": false,
       "aggType": "",
       "arguments": {},
       "columnCustomDisplayInfos": {},
       "data": [],
       "datasetInfos": [],
       "dbfsResultPath": null,
       "isJsonSchema": true,
       "metadata": {},
       "overflow": false,
       "plotOptions": {
        "customPlotOptions": {},
        "displayType": "table",
        "pivotAggregation": null,
        "pivotColumns": null,
        "xColumns": null,
        "yColumns": null
       },
       "removedWidgets": [],
       "schema": [],
       "type": "table"
      }
     },
     "output_type": "display_data"
    },
    {
     "output_type": "stream",
     "name": "stdout",
     "output_type": "stream",
     "text": [
      "Schema labuser11058730_1754017152.1_bronze_db already exists. No action taken.\nSchema labuser11058730_1754017152.2_silver_db already exists. No action taken.\nSchema labuser11058730_1754017152.3_gold_db already exists. No action taken.\n----------------------------------------------------------------------------------------\nDirectory /Volumes/dbacademy/ops/labuser11058730_1754017152@vocareum_com/customers already exists. No action taken.\nDirectory /Volumes/dbacademy/ops/labuser11058730_1754017152@vocareum_com/orders already exists. No action taken.\nDirectory /Volumes/dbacademy/ops/labuser11058730_1754017152@vocareum_com/status already exists. No action taken.\n----------------------------------------------------------------------------------------\n\n\nSearching for files in /Volumes/dbacademy/ops/labuser11058730_1754017152@vocareum_com/customers/ volume to delete prior to creating files...\nDeleting file: /Volumes/dbacademy/ops/labuser11058730_1754017152@vocareum_com/customers/00.json\n\nSearching for files in /Volumes/dbacademy/ops/labuser11058730_1754017152@vocareum_com/orders/ volume to delete prior to creating files...\nDeleting file: /Volumes/dbacademy/ops/labuser11058730_1754017152@vocareum_com/orders/00.json\n\nSearching for files in /Volumes/dbacademy/ops/labuser11058730_1754017152@vocareum_com/status/ volume to delete prior to creating files...\nDeleting file: /Volumes/dbacademy/ops/labuser11058730_1754017152@vocareum_com/status/00.json\n\n----------------Loading files to user's volume: '/Volumes/dbacademy/ops/labuser11058730_1754017152@vocareum_com/customers'----------------\nFile number 1 - Copying file /Volumes/dbacademy_retail/v01/retail-pipeline/customers/stream_json/00.json --> /Volumes/dbacademy/ops/labuser11058730_1754017152@vocareum_com/customers/00.json.\n\n----------------Loading files to user's volume: '/Volumes/dbacademy/ops/labuser11058730_1754017152@vocareum_com/orders'----------------\nFile number 1 - Copying file /Volumes/dbacademy_retail/v01/retail-pipeline/orders/stream_json/00.json --> /Volumes/dbacademy/ops/labuser11058730_1754017152@vocareum_com/orders/00.json.\n\n----------------Loading files to user's volume: '/Volumes/dbacademy/ops/labuser11058730_1754017152@vocareum_com/status'----------------\nFile number 1 - Copying file /Volumes/dbacademy_retail/v01/retail-pipeline/status/stream_json/00.json --> /Volumes/dbacademy/ops/labuser11058730_1754017152@vocareum_com/status/00.json.\n\n\n\n------------------------------------------------------------------------------\nSETUP COMPLETE!\n------------------------------------------------------------------------------\n"
     ]
    },
    {
     "output_type": "stream",
     "name": "stdout",
     "output_type": "stream",
     "text": [
      "Schemas are available, lab check passed: ['1_bronze_db', '2_silver_db', '3_gold_db'].\n"
     ]
    },
    {
     "output_type": "display_data",
     "data": {
      "text/html": [
       "<table style=\"width:100%\">\n",
       "        <tr>\n",
       "            <td style=\"white-space:nowrap; width:1em\">Your catalog name variable reference: DA.catalog_name:</td>\n",
       "            <td><input type=\"text\" value=\"labuser11058730_1754017152\" style=\"width: 100%\"></td></tr>\n",
       "        <tr>\n",
       "            <td style=\"white-space:nowrap; width:1em\">Variable reference to your source files (Python - DA.paths.working_dir, SQL - DA.paths_working_dir):</td>\n",
       "            <td><input type=\"text\" value=\"/Volumes/dbacademy/ops/labuser11058730_1754017152@vocareum_com\" style=\"width: 100%\"></td></tr></table>"
      ]
     },
     "metadata": {},
     "output_type": "display_data"
    }
   ],
   "source": [
    "%run ./Includes/Classroom-Setup-5"
   ]
  },
  {
   "cell_type": "markdown",
   "metadata": {
    "application/vnd.databricks.v1+cell": {
     "cellMetadata": {},
     "inputWidgets": {},
     "nuid": "d93fd45d-5f80-4129-a010-9d1bb2c4c68f",
     "showTitle": false,
     "tableResultSettingsMap": {},
     "title": ""
    }
   },
   "source": [
    "## B. Explore the Orders and Status JSON Files"
   ]
  },
  {
   "cell_type": "markdown",
   "metadata": {
    "application/vnd.databricks.v1+cell": {
     "cellMetadata": {},
     "inputWidgets": {},
     "nuid": "544ed572-0cf3-4ad7-8a5b-e0bd197e187a",
     "showTitle": false,
     "tableResultSettingsMap": {},
     "title": ""
    }
   },
   "source": [
    "1. Explore the raw data located in the `/Volumes/dbacademy/ops/our-lab-user/orders/` volume. This is the data we have been working with throughout the course demonstrations.\n",
    "\n",
    "   Run the cell below to view the results. Notice that the orders JSON file(s) contains information about when each order was placed."
   ]
  },
  {
   "cell_type": "code",
   "execution_count": 0,
   "metadata": {
    "application/vnd.databricks.v1+cell": {
     "cellMetadata": {
      "byteLimit": 2048000,
      "rowLimit": 10000
     },
     "inputWidgets": {},
     "nuid": "f7a3fa33-1733-4bcc-98e5-e15f9afd1939",
     "showTitle": true,
     "tableResultSettingsMap": {},
     "title": "Preview the orders data source files"
    }
   },
   "outputs": [
    {
     "output_type": "display_data",
     "data": {
      "text/html": [
       "<style scoped>\n",
       "  .table-result-container {\n",
       "    max-height: 300px;\n",
       "    overflow: auto;\n",
       "  }\n",
       "  table, th, td {\n",
       "    border: 1px solid black;\n",
       "    border-collapse: collapse;\n",
       "  }\n",
       "  th, td {\n",
       "    padding: 5px;\n",
       "  }\n",
       "  th {\n",
       "    text-align: left;\n",
       "  }\n",
       "</style><div class='table-result-container'><table class='table-result'><thead style='background-color: white'><tr><th>customer_id</th><th>notifications</th><th>order_id</th><th>order_timestamp</th><th>_rescued_data</th></tr></thead><tbody><tr><td>23094</td><td>Y</td><td>75123</td><td>1640392092</td><td>null</td></tr><tr><td>23457</td><td>N</td><td>75124</td><td>1640392500</td><td>null</td></tr><tr><td>23564</td><td>Y</td><td>75125</td><td>1640394862</td><td>null</td></tr><tr><td>23392</td><td>N</td><td>75126</td><td>1640396067</td><td>null</td></tr><tr><td>23101</td><td>Y</td><td>75127</td><td>1640399066</td><td>null</td></tr><tr><td>23466</td><td>N</td><td>75128</td><td>1640404853</td><td>null</td></tr><tr><td>23834</td><td>Y</td><td>75129</td><td>1640407272</td><td>null</td></tr><tr><td>23852</td><td>Y</td><td>75130</td><td>1640419989</td><td>null</td></tr><tr><td>23483</td><td>Y</td><td>75131</td><td>1640422131</td><td>null</td></tr><tr><td>23821</td><td>N</td><td>75132</td><td>1640423697</td><td>null</td></tr></tbody></table></div>"
      ]
     },
     "metadata": {
      "application/vnd.databricks.v1+output": {
       "addedWidgets": {},
       "aggData": [],
       "aggError": "",
       "aggOverflow": false,
       "aggSchema": [],
       "aggSeriesLimitReached": false,
       "aggType": "",
       "arguments": {},
       "columnCustomDisplayInfos": {},
       "data": [
        [
         23094,
         "Y",
         75123,
         1640392092,
         null
        ],
        [
         23457,
         "N",
         75124,
         1640392500,
         null
        ],
        [
         23564,
         "Y",
         75125,
         1640394862,
         null
        ],
        [
         23392,
         "N",
         75126,
         1640396067,
         null
        ],
        [
         23101,
         "Y",
         75127,
         1640399066,
         null
        ],
        [
         23466,
         "N",
         75128,
         1640404853,
         null
        ],
        [
         23834,
         "Y",
         75129,
         1640407272,
         null
        ],
        [
         23852,
         "Y",
         75130,
         1640419989,
         null
        ],
        [
         23483,
         "Y",
         75131,
         1640422131,
         null
        ],
        [
         23821,
         "N",
         75132,
         1640423697,
         null
        ]
       ],
       "datasetInfos": [],
       "dbfsResultPath": null,
       "isJsonSchema": true,
       "metadata": {
        "isDbfsCommandResult": false
       },
       "overflow": false,
       "plotOptions": {
        "customPlotOptions": {},
        "displayType": "table",
        "pivotAggregation": null,
        "pivotColumns": null,
        "xColumns": null,
        "yColumns": null
       },
       "removedWidgets": [],
       "schema": [
        {
         "metadata": "{}",
         "name": "customer_id",
         "type": "\"long\""
        },
        {
         "metadata": "{}",
         "name": "notifications",
         "type": "\"string\""
        },
        {
         "metadata": "{}",
         "name": "order_id",
         "type": "\"long\""
        },
        {
         "metadata": "{}",
         "name": "order_timestamp",
         "type": "\"long\""
        },
        {
         "metadata": "{}",
         "name": "_rescued_data",
         "type": "\"string\""
        }
       ],
       "type": "table"
      }
     },
     "output_type": "display_data"
    }
   ],
   "source": [
    "SELECT *\n",
    "FROM read_files(\n",
    "  DA.paths_working_dir || '/orders/',\n",
    "  format => 'JSON'\n",
    ")\n",
    "LIMIT 10;"
   ]
  },
  {
   "cell_type": "markdown",
   "metadata": {
    "application/vnd.databricks.v1+cell": {
     "cellMetadata": {},
     "inputWidgets": {},
     "nuid": "fcd8b82a-a135-4922-9888-07c68e0315bf",
     "showTitle": false,
     "tableResultSettingsMap": {},
     "title": ""
    }
   },
   "source": [
    "2. Explore the **status** raw data located in the `/Volumes/dbacademy/ops/your-lab-user/status/` volume and filter for the specific **order_id** *75123*.\n",
    "\n",
    "   Run the cell below to view the results. Notice that the status JSON file(s) contain **order_status** information for each order.  \n",
    "   \n",
    "   **NOTE:** The **order_status** can include multiple rows per order and may be any of the following:\n",
    "   \n",
    "   - on the way  \n",
    "   - canceled  \n",
    "   - return canceled  \n",
    "   - reported shipping error  \n",
    "   - delivered  \n",
    "   - return processed  \n",
    "   - return picked up  \n",
    "   - placed  \n",
    "   - preparing  \n",
    "   - return requested\n"
   ]
  },
  {
   "cell_type": "code",
   "execution_count": 0,
   "metadata": {
    "application/vnd.databricks.v1+cell": {
     "cellMetadata": {
      "byteLimit": 2048000,
      "rowLimit": 10000
     },
     "inputWidgets": {},
     "nuid": "eded5431-a27c-4e86-b711-e4c385fc107b",
     "showTitle": true,
     "tableResultSettingsMap": {},
     "title": "Preview the status data source files"
    }
   },
   "outputs": [
    {
     "output_type": "display_data",
     "data": {
      "text/html": [
       "<style scoped>\n",
       "  .table-result-container {\n",
       "    max-height: 300px;\n",
       "    overflow: auto;\n",
       "  }\n",
       "  table, th, td {\n",
       "    border: 1px solid black;\n",
       "    border-collapse: collapse;\n",
       "  }\n",
       "  th, td {\n",
       "    padding: 5px;\n",
       "  }\n",
       "  th {\n",
       "    text-align: left;\n",
       "  }\n",
       "</style><div class='table-result-container'><table class='table-result'><thead style='background-color: white'><tr><th>order_id</th><th>order_status</th><th>status_timestamp</th><th>_rescued_data</th></tr></thead><tbody><tr><td>75123</td><td>placed</td><td>1640392092</td><td>null</td></tr><tr><td>75123</td><td>preparing</td><td>1640733966</td><td>null</td></tr><tr><td>75123</td><td>on the way</td><td>1640549318</td><td>null</td></tr><tr><td>75123</td><td>delivered</td><td>1640604626</td><td>null</td></tr></tbody></table></div>"
      ]
     },
     "metadata": {
      "application/vnd.databricks.v1+output": {
       "addedWidgets": {},
       "aggData": [],
       "aggError": "",
       "aggOverflow": false,
       "aggSchema": [],
       "aggSeriesLimitReached": false,
       "aggType": "",
       "arguments": {},
       "columnCustomDisplayInfos": {},
       "data": [
        [
         75123,
         "placed",
         1640392092,
         null
        ],
        [
         75123,
         "preparing",
         1640733966,
         null
        ],
        [
         75123,
         "on the way",
         1640549318,
         null
        ],
        [
         75123,
         "delivered",
         1640604626,
         null
        ]
       ],
       "datasetInfos": [],
       "dbfsResultPath": null,
       "isJsonSchema": true,
       "metadata": {
        "isDbfsCommandResult": false
       },
       "overflow": false,
       "plotOptions": {
        "customPlotOptions": {},
        "displayType": "table",
        "pivotAggregation": null,
        "pivotColumns": null,
        "xColumns": null,
        "yColumns": null
       },
       "removedWidgets": [],
       "schema": [
        {
         "metadata": "{}",
         "name": "order_id",
         "type": "\"long\""
        },
        {
         "metadata": "{}",
         "name": "order_status",
         "type": "\"string\""
        },
        {
         "metadata": "{}",
         "name": "status_timestamp",
         "type": "\"long\""
        },
        {
         "metadata": "{}",
         "name": "_rescued_data",
         "type": "\"string\""
        }
       ],
       "type": "table"
      }
     },
     "output_type": "display_data"
    }
   ],
   "source": [
    "SELECT *\n",
    "FROM read_files(\n",
    "  DA.paths_working_dir || '/status/',\n",
    "  format => 'JSON'\n",
    ")\n",
    "WHERE order_id = 75123;"
   ]
  },
  {
   "cell_type": "markdown",
   "metadata": {
    "application/vnd.databricks.v1+cell": {
     "cellMetadata": {},
     "inputWidgets": {},
     "nuid": "72155965-2390-4e21-acf5-2f73797ce826",
     "showTitle": false,
     "tableResultSettingsMap": {},
     "title": ""
    }
   },
   "source": [
    "3. One of our objectives is to join the **orders** data with the order **status** data.  \n",
    "\n",
    "    The query below demonstrates what the result of the final join in the Lakeflow Declarative Pipeline will look like after the data has been incrementally ingested and cleaned when we create the pipeline. Run the cell and review the output.\n",
    "\n",
    "    Notice that after joining the tables, we can see each **order_id** along with its original **order_timestamp** and the **order_status** at specific points in time.\n",
    "\n",
    "**NOTE:** The data used in this demo is artificially generated, so the **order_status_timestamps** may not reflect realistic timing."
   ]
  },
  {
   "cell_type": "code",
   "execution_count": 0,
   "metadata": {
    "application/vnd.databricks.v1+cell": {
     "cellMetadata": {
      "byteLimit": 2048000,
      "rowLimit": 10000
     },
     "inputWidgets": {},
     "nuid": "0b2428e8-7cbc-4128-b6f7-1d402d413f25",
     "showTitle": true,
     "tableResultSettingsMap": {},
     "title": "Perform a join to preview the desired result"
    }
   },
   "outputs": [
    {
     "output_type": "display_data",
     "data": {
      "text/html": [
       "<style scoped>\n",
       "  .table-result-container {\n",
       "    max-height: 300px;\n",
       "    overflow: auto;\n",
       "  }\n",
       "  table, th, td {\n",
       "    border: 1px solid black;\n",
       "    border-collapse: collapse;\n",
       "  }\n",
       "  th, td {\n",
       "    padding: 5px;\n",
       "  }\n",
       "  th {\n",
       "    text-align: left;\n",
       "  }\n",
       "</style><div class='table-result-container'><table class='table-result'><thead style='background-color: white'><tr><th>order_id</th><th>order_timestamp</th><th>order_status</th><th>order_status_timestamp</th></tr></thead><tbody><tr><td>75123</td><td>2021-12-25T00:28:12Z</td><td>placed</td><td>2021-12-25T00:28:12Z</td></tr><tr><td>75123</td><td>2021-12-25T00:28:12Z</td><td>on the way</td><td>2021-12-26T20:08:38Z</td></tr><tr><td>75123</td><td>2021-12-25T00:28:12Z</td><td>delivered</td><td>2021-12-27T11:30:26Z</td></tr><tr><td>75123</td><td>2021-12-25T00:28:12Z</td><td>preparing</td><td>2021-12-28T23:26:06Z</td></tr><tr><td>75124</td><td>2021-12-25T00:35:00Z</td><td>placed</td><td>2021-12-25T00:35:00Z</td></tr><tr><td>75124</td><td>2021-12-25T00:35:00Z</td><td>preparing</td><td>2021-12-27T13:20:27Z</td></tr><tr><td>75124</td><td>2021-12-25T00:35:00Z</td><td>on the way</td><td>2021-12-27T14:11:48Z</td></tr><tr><td>75124</td><td>2021-12-25T00:35:00Z</td><td>delivered</td><td>2021-12-27T15:53:42Z</td></tr><tr><td>75125</td><td>2021-12-25T01:14:22Z</td><td>placed</td><td>2021-12-25T01:14:22Z</td></tr><tr><td>75125</td><td>2021-12-25T01:14:22Z</td><td>delivered</td><td>2021-12-26T20:37:20Z</td></tr><tr><td>75125</td><td>2021-12-25T01:14:22Z</td><td>on the way</td><td>2021-12-27T06:04:12Z</td></tr><tr><td>75125</td><td>2021-12-25T01:14:22Z</td><td>preparing</td><td>2021-12-28T00:03:04Z</td></tr><tr><td>75126</td><td>2021-12-25T01:34:27Z</td><td>placed</td><td>2021-12-25T01:34:27Z</td></tr><tr><td>75126</td><td>2021-12-25T01:34:27Z</td><td>preparing</td><td>2021-12-26T14:05:35Z</td></tr><tr><td>75126</td><td>2021-12-25T01:34:27Z</td><td>delivered</td><td>2021-12-28T11:32:03Z</td></tr><tr><td>75126</td><td>2021-12-25T01:34:27Z</td><td>on the way</td><td>2021-12-28T15:18:03Z</td></tr><tr><td>75127</td><td>2021-12-25T02:24:26Z</td><td>placed</td><td>2021-12-25T02:24:26Z</td></tr><tr><td>75127</td><td>2021-12-25T02:24:26Z</td><td>on the way</td><td>2021-12-26T03:52:46Z</td></tr><tr><td>75127</td><td>2021-12-25T02:24:26Z</td><td>delivered</td><td>2021-12-27T16:22:54Z</td></tr><tr><td>75127</td><td>2021-12-25T02:24:26Z</td><td>preparing</td><td>2021-12-29T06:02:46Z</td></tr><tr><td>75128</td><td>2021-12-25T04:00:53Z</td><td>placed</td><td>2021-12-25T04:00:53Z</td></tr><tr><td>75128</td><td>2021-12-25T04:00:53Z</td><td>delivered</td><td>2021-12-26T17:58:44Z</td></tr><tr><td>75128</td><td>2021-12-25T04:00:53Z</td><td>on the way</td><td>2021-12-27T07:51:56Z</td></tr><tr><td>75128</td><td>2021-12-25T04:00:53Z</td><td>preparing</td><td>2021-12-28T12:31:36Z</td></tr><tr><td>75129</td><td>2021-12-25T04:41:12Z</td><td>placed</td><td>2021-12-25T04:41:12Z</td></tr><tr><td>75129</td><td>2021-12-25T04:41:12Z</td><td>return requested</td><td>2021-12-26T13:48:00Z</td></tr><tr><td>75129</td><td>2021-12-25T04:41:12Z</td><td>return processed</td><td>2021-12-26T20:50:50Z</td></tr><tr><td>75129</td><td>2021-12-25T04:41:12Z</td><td>on the way</td><td>2021-12-26T22:44:20Z</td></tr><tr><td>75129</td><td>2021-12-25T04:41:12Z</td><td>delivered</td><td>2021-12-27T06:25:54Z</td></tr><tr><td>75129</td><td>2021-12-25T04:41:12Z</td><td>preparing</td><td>2021-12-27T12:11:27Z</td></tr><tr><td>75129</td><td>2021-12-25T04:41:12Z</td><td>return picked up</td><td>2021-12-28T08:14:26Z</td></tr><tr><td>75130</td><td>2021-12-25T08:13:09Z</td><td>placed</td><td>2021-12-25T08:13:09Z</td></tr><tr><td>75130</td><td>2021-12-25T08:13:09Z</td><td>preparing</td><td>2021-12-26T23:25:00Z</td></tr><tr><td>75130</td><td>2021-12-25T08:13:09Z</td><td>delivered</td><td>2021-12-27T00:04:47Z</td></tr><tr><td>75130</td><td>2021-12-25T08:13:09Z</td><td>on the way</td><td>2021-12-28T10:01:13Z</td></tr><tr><td>75131</td><td>2021-12-25T08:48:51Z</td><td>placed</td><td>2021-12-25T08:48:51Z</td></tr><tr><td>75131</td><td>2021-12-25T08:48:51Z</td><td>preparing</td><td>2021-12-27T18:24:06Z</td></tr><tr><td>75131</td><td>2021-12-25T08:48:51Z</td><td>delivered</td><td>2021-12-28T01:37:30Z</td></tr><tr><td>75131</td><td>2021-12-25T08:48:51Z</td><td>on the way</td><td>2021-12-28T02:29:05Z</td></tr><tr><td>75132</td><td>2021-12-25T09:14:57Z</td><td>placed</td><td>2021-12-25T09:14:57Z</td></tr><tr><td>75132</td><td>2021-12-25T09:14:57Z</td><td>delivered</td><td>2021-12-26T10:09:53Z</td></tr><tr><td>75132</td><td>2021-12-25T09:14:57Z</td><td>on the way</td><td>2021-12-26T16:26:36Z</td></tr><tr><td>75132</td><td>2021-12-25T09:14:57Z</td><td>preparing</td><td>2021-12-27T00:12:38Z</td></tr><tr><td>75133</td><td>2021-12-25T10:21:27Z</td><td>placed</td><td>2021-12-25T10:21:27Z</td></tr><tr><td>75133</td><td>2021-12-25T10:21:27Z</td><td>delivered</td><td>2021-12-27T09:09:35Z</td></tr><tr><td>75133</td><td>2021-12-25T10:21:27Z</td><td>preparing</td><td>2021-12-28T15:51:28Z</td></tr><tr><td>75133</td><td>2021-12-25T10:21:27Z</td><td>on the way</td><td>2021-12-29T21:27:37Z</td></tr><tr><td>75134</td><td>2021-12-25T10:23:33Z</td><td>placed</td><td>2021-12-25T10:23:33Z</td></tr><tr><td>75134</td><td>2021-12-25T10:23:33Z</td><td>preparing</td><td>2021-12-26T12:36:25Z</td></tr><tr><td>75134</td><td>2021-12-25T10:23:33Z</td><td>delivered</td><td>2021-12-27T05:44:14Z</td></tr><tr><td>75134</td><td>2021-12-25T10:23:33Z</td><td>on the way</td><td>2021-12-28T11:59:39Z</td></tr><tr><td>75135</td><td>2021-12-25T11:41:39Z</td><td>placed</td><td>2021-12-25T11:41:39Z</td></tr><tr><td>75135</td><td>2021-12-25T11:41:39Z</td><td>on the way</td><td>2021-12-26T16:43:52Z</td></tr><tr><td>75135</td><td>2021-12-25T11:41:39Z</td><td>preparing</td><td>2021-12-27T01:13:16Z</td></tr><tr><td>75135</td><td>2021-12-25T11:41:39Z</td><td>return canceled</td><td>2021-12-27T07:42:09Z</td></tr><tr><td>75135</td><td>2021-12-25T11:41:39Z</td><td>return requested</td><td>2021-12-28T23:24:01Z</td></tr><tr><td>75135</td><td>2021-12-25T11:41:39Z</td><td>delivered</td><td>2021-12-29T09:33:25Z</td></tr><tr><td>75136</td><td>2021-12-25T12:00:29Z</td><td>placed</td><td>2021-12-25T12:00:29Z</td></tr><tr><td>75136</td><td>2021-12-25T12:00:29Z</td><td>preparing</td><td>2021-12-26T15:28:06Z</td></tr><tr><td>75136</td><td>2021-12-25T12:00:29Z</td><td>canceled</td><td>2021-12-29T12:00:59Z</td></tr><tr><td>75137</td><td>2021-12-25T12:21:47Z</td><td>placed</td><td>2021-12-25T12:21:47Z</td></tr><tr><td>75137</td><td>2021-12-25T12:21:47Z</td><td>on the way</td><td>2021-12-26T17:47:59Z</td></tr><tr><td>75137</td><td>2021-12-25T12:21:47Z</td><td>preparing</td><td>2021-12-27T00:09:23Z</td></tr><tr><td>75137</td><td>2021-12-25T12:21:47Z</td><td>delivered</td><td>2021-12-28T03:29:54Z</td></tr><tr><td>75138</td><td>2021-12-25T13:23:19Z</td><td>placed</td><td>2021-12-25T13:23:19Z</td></tr><tr><td>75138</td><td>2021-12-25T13:23:19Z</td><td>preparing</td><td>2021-12-27T06:25:19Z</td></tr><tr><td>75138</td><td>2021-12-25T13:23:19Z</td><td>on the way</td><td>2021-12-27T20:41:37Z</td></tr><tr><td>75138</td><td>2021-12-25T13:23:19Z</td><td>return requested</td><td>2021-12-27T22:04:58Z</td></tr><tr><td>75138</td><td>2021-12-25T13:23:19Z</td><td>delivered</td><td>2021-12-28T06:18:32Z</td></tr><tr><td>75138</td><td>2021-12-25T13:23:19Z</td><td>reported shipping error</td><td>2021-12-28T07:59:13Z</td></tr><tr><td>75138</td><td>2021-12-25T13:23:19Z</td><td>return picked up</td><td>2021-12-28T22:11:16Z</td></tr><tr><td>75139</td><td>2021-12-25T14:05:08Z</td><td>placed</td><td>2021-12-25T14:05:08Z</td></tr><tr><td>75139</td><td>2021-12-25T14:05:08Z</td><td>return canceled</td><td>2021-12-27T06:21:29Z</td></tr><tr><td>75139</td><td>2021-12-25T14:05:08Z</td><td>preparing</td><td>2021-12-27T20:51:55Z</td></tr><tr><td>75139</td><td>2021-12-25T14:05:08Z</td><td>on the way</td><td>2021-12-27T22:34:22Z</td></tr><tr><td>75139</td><td>2021-12-25T14:05:08Z</td><td>return requested</td><td>2021-12-28T04:20:35Z</td></tr><tr><td>75139</td><td>2021-12-25T14:05:08Z</td><td>delivered</td><td>2021-12-28T19:40:52Z</td></tr><tr><td>75140</td><td>2021-12-25T14:32:08Z</td><td>placed</td><td>2021-12-25T14:32:08Z</td></tr><tr><td>75140</td><td>2021-12-25T14:32:08Z</td><td>return requested</td><td>2021-12-26T19:03:51Z</td></tr><tr><td>75140</td><td>2021-12-25T14:32:08Z</td><td>return canceled</td><td>2021-12-26T21:41:50Z</td></tr><tr><td>75140</td><td>2021-12-25T14:32:08Z</td><td>delivered</td><td>2021-12-27T10:32:38Z</td></tr><tr><td>75140</td><td>2021-12-25T14:32:08Z</td><td>preparing</td><td>2021-12-27T16:22:02Z</td></tr><tr><td>75140</td><td>2021-12-25T14:32:08Z</td><td>on the way</td><td>2021-12-29T12:00:26Z</td></tr><tr><td>75141</td><td>2021-12-25T14:36:22Z</td><td>placed</td><td>2021-12-25T14:36:22Z</td></tr><tr><td>75141</td><td>2021-12-25T14:36:22Z</td><td>preparing</td><td>2021-12-26T17:48:22Z</td></tr><tr><td>75141</td><td>2021-12-25T14:36:22Z</td><td>delivered</td><td>2021-12-27T23:06:07Z</td></tr><tr><td>75141</td><td>2021-12-25T14:36:22Z</td><td>on the way</td><td>2021-12-31T09:54:01Z</td></tr><tr><td>75142</td><td>2021-12-25T14:58:09Z</td><td>placed</td><td>2021-12-25T14:58:09Z</td></tr><tr><td>75142</td><td>2021-12-25T14:58:09Z</td><td>on the way</td><td>2021-12-27T10:58:52Z</td></tr><tr><td>75142</td><td>2021-12-25T14:58:09Z</td><td>delivered</td><td>2021-12-27T12:14:51Z</td></tr><tr><td>75142</td><td>2021-12-25T14:58:09Z</td><td>preparing</td><td>2021-12-28T20:32:34Z</td></tr><tr><td>75143</td><td>2021-12-25T15:05:35Z</td><td>placed</td><td>2021-12-25T15:05:35Z</td></tr><tr><td>75143</td><td>2021-12-25T15:05:35Z</td><td>delivered</td><td>2021-12-26T15:25:37Z</td></tr><tr><td>75143</td><td>2021-12-25T15:05:35Z</td><td>preparing</td><td>2021-12-26T18:19:40Z</td></tr><tr><td>75143</td><td>2021-12-25T15:05:35Z</td><td>on the way</td><td>2021-12-29T09:43:14Z</td></tr><tr><td>75144</td><td>2021-12-25T17:32:36Z</td><td>placed</td><td>2021-12-25T17:32:36Z</td></tr><tr><td>75144</td><td>2021-12-25T17:32:36Z</td><td>delivered</td><td>2021-12-27T00:35:14Z</td></tr><tr><td>75144</td><td>2021-12-25T17:32:36Z</td><td>preparing</td><td>2021-12-27T09:33:58Z</td></tr><tr><td>75144</td><td>2021-12-25T17:32:36Z</td><td>on the way</td><td>2021-12-29T02:01:15Z</td></tr><tr><td>75145</td><td>2021-12-25T17:40:27Z</td><td>placed</td><td>2021-12-25T17:40:27Z</td></tr><tr><td>75145</td><td>2021-12-25T17:40:27Z</td><td>on the way</td><td>2021-12-26T21:43:00Z</td></tr><tr><td>75145</td><td>2021-12-25T17:40:27Z</td><td>delivered</td><td>2021-12-27T22:51:07Z</td></tr><tr><td>75145</td><td>2021-12-25T17:40:27Z</td><td>preparing</td><td>2021-12-29T23:36:02Z</td></tr><tr><td>75146</td><td>2021-12-25T22:00:17Z</td><td>placed</td><td>2021-12-25T22:00:17Z</td></tr><tr><td>75146</td><td>2021-12-25T22:00:17Z</td><td>preparing</td><td>2021-12-27T15:01:05Z</td></tr><tr><td>75146</td><td>2021-12-25T22:00:17Z</td><td>on the way</td><td>2021-12-28T01:45:47Z</td></tr><tr><td>75146</td><td>2021-12-25T22:00:17Z</td><td>reported shipping error</td><td>2021-12-29T07:32:09Z</td></tr><tr><td>75147</td><td>2021-12-25T22:04:09Z</td><td>placed</td><td>2021-12-25T22:04:09Z</td></tr><tr><td>75147</td><td>2021-12-25T22:04:09Z</td><td>delivered</td><td>2021-12-27T03:57:00Z</td></tr><tr><td>75147</td><td>2021-12-25T22:04:09Z</td><td>on the way</td><td>2021-12-27T09:01:19Z</td></tr><tr><td>75147</td><td>2021-12-25T22:04:09Z</td><td>preparing</td><td>2021-12-29T19:01:43Z</td></tr><tr><td>75148</td><td>2021-12-25T22:15:11Z</td><td>placed</td><td>2021-12-25T22:15:11Z</td></tr><tr><td>75148</td><td>2021-12-25T22:15:11Z</td><td>delivered</td><td>2021-12-28T08:37:41Z</td></tr><tr><td>75148</td><td>2021-12-25T22:15:11Z</td><td>preparing</td><td>2021-12-28T16:58:27Z</td></tr><tr><td>75148</td><td>2021-12-25T22:15:11Z</td><td>on the way</td><td>2021-12-29T10:53:42Z</td></tr><tr><td>75149</td><td>2021-12-26T00:01:05Z</td><td>placed</td><td>2021-12-26T00:01:05Z</td></tr><tr><td>75149</td><td>2021-12-26T00:01:05Z</td><td>preparing</td><td>2021-12-27T05:39:14Z</td></tr><tr><td>75149</td><td>2021-12-26T00:01:05Z</td><td>on the way</td><td>2021-12-28T08:51:52Z</td></tr><tr><td>75149</td><td>2021-12-26T00:01:05Z</td><td>delivered</td><td>2021-12-28T19:49:10Z</td></tr><tr><td>75150</td><td>2021-12-26T00:52:17Z</td><td>placed</td><td>2021-12-26T00:52:17Z</td></tr><tr><td>75150</td><td>2021-12-26T00:52:17Z</td><td>preparing</td><td>2021-12-28T13:59:40Z</td></tr><tr><td>75150</td><td>2021-12-26T00:52:17Z</td><td>delivered</td><td>2021-12-28T17:53:34Z</td></tr><tr><td>75150</td><td>2021-12-26T00:52:17Z</td><td>on the way</td><td>2021-12-28T21:12:58Z</td></tr><tr><td>75151</td><td>2021-12-26T01:04:02Z</td><td>placed</td><td>2021-12-26T01:04:02Z</td></tr><tr><td>75151</td><td>2021-12-26T01:04:02Z</td><td>preparing</td><td>2021-12-27T01:08:32Z</td></tr><tr><td>75151</td><td>2021-12-26T01:04:02Z</td><td>on the way</td><td>2021-12-27T10:39:28Z</td></tr><tr><td>75151</td><td>2021-12-26T01:04:02Z</td><td>return processed</td><td>2021-12-27T18:42:20Z</td></tr><tr><td>75151</td><td>2021-12-26T01:04:02Z</td><td>delivered</td><td>2021-12-28T15:42:11Z</td></tr><tr><td>75151</td><td>2021-12-26T01:04:02Z</td><td>return requested</td><td>2021-12-29T22:31:26Z</td></tr><tr><td>75151</td><td>2021-12-26T01:04:02Z</td><td>return picked up</td><td>2021-12-30T16:53:28Z</td></tr><tr><td>75152</td><td>2021-12-26T03:28:37Z</td><td>placed</td><td>2021-12-26T03:28:37Z</td></tr><tr><td>75152</td><td>2021-12-26T03:28:37Z</td><td>preparing</td><td>2021-12-27T22:22:01Z</td></tr><tr><td>75152</td><td>2021-12-26T03:28:37Z</td><td>delivered</td><td>2021-12-28T00:01:49Z</td></tr><tr><td>75152</td><td>2021-12-26T03:28:37Z</td><td>on the way</td><td>2021-12-28T00:19:32Z</td></tr><tr><td>75153</td><td>2021-12-26T03:51:01Z</td><td>placed</td><td>2021-12-26T03:51:01Z</td></tr><tr><td>75153</td><td>2021-12-26T03:51:01Z</td><td>preparing</td><td>2021-12-27T19:33:58Z</td></tr><tr><td>75153</td><td>2021-12-26T03:51:01Z</td><td>on the way</td><td>2021-12-29T06:21:48Z</td></tr><tr><td>75153</td><td>2021-12-26T03:51:01Z</td><td>delivered</td><td>2021-12-30T11:30:33Z</td></tr><tr><td>75154</td><td>2021-12-26T04:12:33Z</td><td>placed</td><td>2021-12-26T04:12:33Z</td></tr><tr><td>75154</td><td>2021-12-26T04:12:33Z</td><td>preparing</td><td>2021-12-28T03:04:13Z</td></tr><tr><td>75154</td><td>2021-12-26T04:12:33Z</td><td>on the way</td><td>2021-12-28T10:28:36Z</td></tr><tr><td>75154</td><td>2021-12-26T04:12:33Z</td><td>delivered</td><td>2021-12-30T02:35:11Z</td></tr><tr><td>75155</td><td>2021-12-26T06:40:20Z</td><td>placed</td><td>2021-12-26T06:40:20Z</td></tr><tr><td>75155</td><td>2021-12-26T06:40:20Z</td><td>on the way</td><td>2021-12-27T10:33:43Z</td></tr><tr><td>75155</td><td>2021-12-26T06:40:20Z</td><td>preparing</td><td>2021-12-27T20:30:10Z</td></tr><tr><td>75155</td><td>2021-12-26T06:40:20Z</td><td>delivered</td><td>2021-12-28T00:51:32Z</td></tr><tr><td>75156</td><td>2021-12-26T08:19:28Z</td><td>placed</td><td>2021-12-26T08:19:28Z</td></tr><tr><td>75156</td><td>2021-12-26T08:19:28Z</td><td>delivered</td><td>2021-12-27T14:06:02Z</td></tr><tr><td>75156</td><td>2021-12-26T08:19:28Z</td><td>preparing</td><td>2021-12-29T17:08:19Z</td></tr><tr><td>75156</td><td>2021-12-26T08:19:28Z</td><td>on the way</td><td>2021-12-29T23:22:47Z</td></tr><tr><td>75157</td><td>2021-12-26T10:33:36Z</td><td>placed</td><td>2021-12-26T10:33:36Z</td></tr><tr><td>75157</td><td>2021-12-26T10:33:36Z</td><td>preparing</td><td>2021-12-28T10:49:12Z</td></tr><tr><td>75157</td><td>2021-12-26T10:33:36Z</td><td>delivered</td><td>2021-12-29T14:32:18Z</td></tr><tr><td>75157</td><td>2021-12-26T10:33:36Z</td><td>on the way</td><td>2021-12-30T07:02:08Z</td></tr><tr><td>75158</td><td>2021-12-26T11:07:47Z</td><td>placed</td><td>2021-12-26T11:07:47Z</td></tr><tr><td>75158</td><td>2021-12-26T11:07:47Z</td><td>preparing</td><td>2021-12-27T19:31:44Z</td></tr><tr><td>75158</td><td>2021-12-26T11:07:47Z</td><td>delivered</td><td>2021-12-28T02:24:38Z</td></tr><tr><td>75158</td><td>2021-12-26T11:07:47Z</td><td>on the way</td><td>2021-12-28T22:37:49Z</td></tr><tr><td>75159</td><td>2021-12-26T11:08:33Z</td><td>placed</td><td>2021-12-26T11:08:33Z</td></tr><tr><td>75159</td><td>2021-12-26T11:08:33Z</td><td>delivered</td><td>2021-12-28T00:46:08Z</td></tr><tr><td>75159</td><td>2021-12-26T11:08:33Z</td><td>on the way</td><td>2021-12-28T23:23:26Z</td></tr><tr><td>75159</td><td>2021-12-26T11:08:33Z</td><td>preparing</td><td>2021-12-29T03:29:20Z</td></tr><tr><td>75160</td><td>2021-12-26T11:18:12Z</td><td>placed</td><td>2021-12-26T11:18:12Z</td></tr><tr><td>75160</td><td>2021-12-26T11:18:12Z</td><td>delivered</td><td>2021-12-28T01:56:14Z</td></tr><tr><td>75160</td><td>2021-12-26T11:18:12Z</td><td>preparing</td><td>2021-12-28T21:42:47Z</td></tr><tr><td>75160</td><td>2021-12-26T11:18:12Z</td><td>on the way</td><td>2021-12-28T23:09:48Z</td></tr><tr><td>75161</td><td>2021-12-26T12:21:34Z</td><td>placed</td><td>2021-12-26T12:21:34Z</td></tr><tr><td>75161</td><td>2021-12-26T12:21:34Z</td><td>on the way</td><td>2021-12-27T18:24:27Z</td></tr><tr><td>75161</td><td>2021-12-26T12:21:34Z</td><td>delivered</td><td>2021-12-27T18:30:30Z</td></tr><tr><td>75161</td><td>2021-12-26T12:21:34Z</td><td>preparing</td><td>2021-12-28T01:00:42Z</td></tr><tr><td>75162</td><td>2021-12-26T13:47:45Z</td><td>placed</td><td>2021-12-26T13:47:45Z</td></tr><tr><td>75162</td><td>2021-12-26T13:47:45Z</td><td>preparing</td><td>2021-12-29T01:36:07Z</td></tr><tr><td>75162</td><td>2021-12-26T13:47:45Z</td><td>canceled</td><td>2021-12-30T11:07:43Z</td></tr><tr><td>75163</td><td>2021-12-26T13:48:05Z</td><td>placed</td><td>2021-12-26T13:48:05Z</td></tr><tr><td>75163</td><td>2021-12-26T13:48:05Z</td><td>delivered</td><td>2021-12-28T04:28:17Z</td></tr><tr><td>75163</td><td>2021-12-26T13:48:05Z</td><td>preparing</td><td>2021-12-28T14:52:00Z</td></tr><tr><td>75163</td><td>2021-12-26T13:48:05Z</td><td>on the way</td><td>2021-12-30T19:31:20Z</td></tr><tr><td>75164</td><td>2021-12-26T13:54:20Z</td><td>placed</td><td>2021-12-26T13:54:20Z</td></tr><tr><td>75164</td><td>2021-12-26T13:54:20Z</td><td>on the way</td><td>2021-12-28T17:44:29Z</td></tr><tr><td>75164</td><td>2021-12-26T13:54:20Z</td><td>preparing</td><td>2021-12-29T09:11:20Z</td></tr><tr><td>75164</td><td>2021-12-26T13:54:20Z</td><td>delivered</td><td>2021-12-30T08:27:21Z</td></tr><tr><td>75165</td><td>2021-12-26T15:33:04Z</td><td>placed</td><td>2021-12-26T15:33:04Z</td></tr><tr><td>75165</td><td>2021-12-26T15:33:04Z</td><td>on the way</td><td>2021-12-27T19:43:50Z</td></tr><tr><td>75165</td><td>2021-12-26T15:33:04Z</td><td>preparing</td><td>2021-12-27T22:03:22Z</td></tr><tr><td>75165</td><td>2021-12-26T15:33:04Z</td><td>delivered</td><td>2021-12-29T03:33:14Z</td></tr><tr><td>75166</td><td>2021-12-26T15:53:20Z</td><td>placed</td><td>2021-12-26T15:53:20Z</td></tr><tr><td>75166</td><td>2021-12-26T15:53:20Z</td><td>return processed</td><td>2021-12-27T17:52:04Z</td></tr><tr><td>75166</td><td>2021-12-26T15:53:20Z</td><td>return requested</td><td>2021-12-27T22:09:11Z</td></tr><tr><td>75166</td><td>2021-12-26T15:53:20Z</td><td>preparing</td><td>2021-12-28T06:16:23Z</td></tr><tr><td>75166</td><td>2021-12-26T15:53:20Z</td><td>delivered</td><td>2021-12-29T20:05:15Z</td></tr><tr><td>75166</td><td>2021-12-26T15:53:20Z</td><td>on the way</td><td>2021-12-30T21:27:18Z</td></tr><tr><td>75166</td><td>2021-12-26T15:53:20Z</td><td>return picked up</td><td>2021-12-31T18:32:42Z</td></tr><tr><td>75167</td><td>2021-12-26T16:05:21Z</td><td>placed</td><td>2021-12-26T16:05:21Z</td></tr><tr><td>75167</td><td>2021-12-26T16:05:21Z</td><td>preparing</td><td>2021-12-28T10:04:15Z</td></tr><tr><td>75167</td><td>2021-12-26T16:05:21Z</td><td>delivered</td><td>2021-12-30T21:23:59Z</td></tr><tr><td>75167</td><td>2021-12-26T16:05:21Z</td><td>on the way</td><td>2021-12-30T22:51:44Z</td></tr><tr><td>75168</td><td>2021-12-26T19:47:33Z</td><td>placed</td><td>2021-12-26T19:47:33Z</td></tr><tr><td>75168</td><td>2021-12-26T19:47:33Z</td><td>preparing</td><td>2021-12-28T07:14:03Z</td></tr><tr><td>75168</td><td>2021-12-26T19:47:33Z</td><td>delivered</td><td>2021-12-29T16:03:23Z</td></tr><tr><td>75168</td><td>2021-12-26T19:47:33Z</td><td>on the way</td><td>2021-12-29T23:25:51Z</td></tr><tr><td>75169</td><td>2021-12-26T19:56:50Z</td><td>placed</td><td>2021-12-26T19:56:50Z</td></tr><tr><td>75169</td><td>2021-12-26T19:56:50Z</td><td>on the way</td><td>2021-12-29T04:52:32Z</td></tr><tr><td>75169</td><td>2021-12-26T19:56:50Z</td><td>preparing</td><td>2021-12-29T17:23:10Z</td></tr><tr><td>75169</td><td>2021-12-26T19:56:50Z</td><td>delivered</td><td>2021-12-31T09:14:50Z</td></tr><tr><td>75170</td><td>2021-12-26T20:00:46Z</td><td>placed</td><td>2021-12-26T20:00:46Z</td></tr><tr><td>75170</td><td>2021-12-26T20:00:46Z</td><td>preparing</td><td>2021-12-30T14:09:07Z</td></tr><tr><td>75170</td><td>2021-12-26T20:00:46Z</td><td>canceled</td><td>2021-12-30T16:53:26Z</td></tr><tr><td>75171</td><td>2021-12-26T20:54:03Z</td><td>placed</td><td>2021-12-26T20:54:03Z</td></tr><tr><td>75171</td><td>2021-12-26T20:54:03Z</td><td>return picked up</td><td>2021-12-28T14:15:03Z</td></tr><tr><td>75171</td><td>2021-12-26T20:54:03Z</td><td>return processed</td><td>2021-12-28T16:27:30Z</td></tr><tr><td>75171</td><td>2021-12-26T20:54:03Z</td><td>return requested</td><td>2021-12-28T19:34:56Z</td></tr><tr><td>75171</td><td>2021-12-26T20:54:03Z</td><td>delivered</td><td>2021-12-29T01:47:01Z</td></tr><tr><td>75171</td><td>2021-12-26T20:54:03Z</td><td>on the way</td><td>2021-12-29T05:48:47Z</td></tr><tr><td>75171</td><td>2021-12-26T20:54:03Z</td><td>preparing</td><td>2021-12-30T19:43:45Z</td></tr><tr><td>75172</td><td>2021-12-26T20:55:12Z</td><td>placed</td><td>2021-12-26T20:55:12Z</td></tr><tr><td>75172</td><td>2021-12-26T20:55:12Z</td><td>preparing</td><td>2021-12-27T23:57:02Z</td></tr><tr><td>75172</td><td>2021-12-26T20:55:12Z</td><td>on the way</td><td>2021-12-29T22:08:34Z</td></tr><tr><td>75172</td><td>2021-12-26T20:55:12Z</td><td>delivered</td><td>2021-12-30T13:13:12Z</td></tr><tr><td>75173</td><td>2021-12-26T21:26:21Z</td><td>placed</td><td>2021-12-26T21:26:21Z</td></tr><tr><td>75173</td><td>2021-12-26T21:26:21Z</td><td>preparing</td><td>2021-12-27T23:22:36Z</td></tr><tr><td>75173</td><td>2021-12-26T21:26:21Z</td><td>return requested</td><td>2021-12-28T11:44:34Z</td></tr><tr><td>75173</td><td>2021-12-26T21:26:21Z</td><td>delivered</td><td>2021-12-29T01:41:49Z</td></tr><tr><td>75173</td><td>2021-12-26T21:26:21Z</td><td>return processed</td><td>2021-12-29T14:12:17Z</td></tr><tr><td>75173</td><td>2021-12-26T21:26:21Z</td><td>on the way</td><td>2021-12-30T02:45:17Z</td></tr><tr><td>75173</td><td>2021-12-26T21:26:21Z</td><td>return picked up</td><td>2021-12-30T23:39:26Z</td></tr><tr><td>75174</td><td>2021-12-27T00:14:40Z</td><td>placed</td><td>2021-12-27T00:14:40Z</td></tr><tr><td>75174</td><td>2021-12-27T00:14:40Z</td><td>preparing</td><td>2021-12-29T19:01:52Z</td></tr><tr><td>75174</td><td>2021-12-27T00:14:40Z</td><td>on the way</td><td>2021-12-30T08:31:20Z</td></tr><tr><td>75174</td><td>2021-12-27T00:14:40Z</td><td>delivered</td><td>2021-12-31T08:56:13Z</td></tr><tr><td>75175</td><td>2021-12-27T01:17:27Z</td><td>placed</td><td>2021-12-27T01:17:27Z</td></tr><tr><td>75175</td><td>2021-12-27T01:17:27Z</td><td>delivered</td><td>2021-12-29T04:33:29Z</td></tr><tr><td>75175</td><td>2021-12-27T01:17:27Z</td><td>preparing</td><td>2021-12-29T07:28:04Z</td></tr><tr><td>75175</td><td>2021-12-27T01:17:27Z</td><td>on the way</td><td>2021-12-29T22:27:36Z</td></tr><tr><td>75176</td><td>2021-12-27T01:37:40Z</td><td>placed</td><td>2021-12-27T01:37:40Z</td></tr><tr><td>75176</td><td>2021-12-27T01:37:40Z</td><td>canceled</td><td>2021-12-28T19:12:49Z</td></tr><tr><td>75176</td><td>2021-12-27T01:37:40Z</td><td>preparing</td><td>2021-12-30T13:19:28Z</td></tr><tr><td>75177</td><td>2021-12-27T03:09:13Z</td><td>placed</td><td>2021-12-27T03:09:13Z</td></tr><tr><td>75177</td><td>2021-12-27T03:09:13Z</td><td>preparing</td><td>2021-12-29T10:46:39Z</td></tr><tr><td>75177</td><td>2021-12-27T03:09:13Z</td><td>on the way</td><td>2021-12-29T19:52:51Z</td></tr><tr><td>75177</td><td>2021-12-27T03:09:13Z</td><td>delivered</td><td>2021-12-30T06:49:45Z</td></tr><tr><td>75178</td><td>2021-12-27T03:21:14Z</td><td>placed</td><td>2021-12-27T03:21:14Z</td></tr><tr><td>75178</td><td>2021-12-27T03:21:14Z</td><td>delivered</td><td>2021-12-29T00:08:49Z</td></tr><tr><td>75178</td><td>2021-12-27T03:21:14Z</td><td>on the way</td><td>2021-12-29T11:31:07Z</td></tr><tr><td>75178</td><td>2021-12-27T03:21:14Z</td><td>preparing</td><td>2021-12-30T09:51:45Z</td></tr><tr><td>75179</td><td>2021-12-27T03:32:42Z</td><td>placed</td><td>2021-12-27T03:32:42Z</td></tr><tr><td>75179</td><td>2021-12-27T03:32:42Z</td><td>delivered</td><td>2021-12-28T12:05:17Z</td></tr><tr><td>75179</td><td>2021-12-27T03:32:42Z</td><td>preparing</td><td>2021-12-28T15:35:29Z</td></tr><tr><td>75179</td><td>2021-12-27T03:32:42Z</td><td>on the way</td><td>2021-12-30T09:04:38Z</td></tr><tr><td>75180</td><td>2021-12-27T04:40:49Z</td><td>placed</td><td>2021-12-27T04:40:49Z</td></tr><tr><td>75180</td><td>2021-12-27T04:40:49Z</td><td>reported shipping error</td><td>2021-12-28T22:52:32Z</td></tr><tr><td>75180</td><td>2021-12-27T04:40:49Z</td><td>preparing</td><td>2021-12-29T13:35:49Z</td></tr><tr><td>75180</td><td>2021-12-27T04:40:49Z</td><td>on the way</td><td>2021-12-30T12:46:54Z</td></tr><tr><td>75181</td><td>2021-12-27T05:15:40Z</td><td>placed</td><td>2021-12-27T05:15:40Z</td></tr><tr><td>75181</td><td>2021-12-27T05:15:40Z</td><td>delivered</td><td>2021-12-28T16:49:12Z</td></tr><tr><td>75181</td><td>2021-12-27T05:15:40Z</td><td>on the way</td><td>2021-12-29T18:17:18Z</td></tr><tr><td>75181</td><td>2021-12-27T05:15:40Z</td><td>preparing</td><td>2021-12-30T03:46:25Z</td></tr><tr><td>75182</td><td>2021-12-27T06:45:36Z</td><td>placed</td><td>2021-12-27T06:45:36Z</td></tr><tr><td>75182</td><td>2021-12-27T06:45:36Z</td><td>preparing</td><td>2021-12-29T12:13:14Z</td></tr><tr><td>75182</td><td>2021-12-27T06:45:36Z</td><td>delivered</td><td>2021-12-30T12:05:41Z</td></tr><tr><td>75183</td><td>2021-12-27T08:33:37Z</td><td>placed</td><td>2021-12-27T08:33:37Z</td></tr><tr><td>75183</td><td>2021-12-27T08:33:37Z</td><td>delivered</td><td>2021-12-28T16:53:22Z</td></tr><tr><td>75183</td><td>2021-12-27T08:33:37Z</td><td>preparing</td><td>2021-12-28T18:40:11Z</td></tr><tr><td>75183</td><td>2021-12-27T08:33:37Z</td><td>on the way</td><td>2021-12-29T17:46:47Z</td></tr><tr><td>75184</td><td>2021-12-27T11:07:28Z</td><td>placed</td><td>2021-12-27T11:07:28Z</td></tr><tr><td>75184</td><td>2021-12-27T11:07:28Z</td><td>delivered</td><td>2021-12-29T07:48:26Z</td></tr><tr><td>75184</td><td>2021-12-27T11:07:28Z</td><td>preparing</td><td>2021-12-31T09:51:04Z</td></tr><tr><td>75185</td><td>2021-12-27T13:26:31Z</td><td>placed</td><td>2021-12-27T13:26:31Z</td></tr><tr><td>75185</td><td>2021-12-27T13:26:31Z</td><td>delivered</td><td>2021-12-28T21:34:53Z</td></tr><tr><td>75185</td><td>2021-12-27T13:26:31Z</td><td>return requested</td><td>2021-12-29T19:28:28Z</td></tr><tr><td>75185</td><td>2021-12-27T13:26:31Z</td><td>return canceled</td><td>2021-12-29T20:17:03Z</td></tr><tr><td>75185</td><td>2021-12-27T13:26:31Z</td><td>preparing</td><td>2021-12-30T06:34:54Z</td></tr><tr><td>75185</td><td>2021-12-27T13:26:31Z</td><td>on the way</td><td>2021-12-30T17:51:39Z</td></tr><tr><td>75186</td><td>2021-12-27T13:50:10Z</td><td>placed</td><td>2021-12-27T13:50:10Z</td></tr><tr><td>75186</td><td>2021-12-27T13:50:10Z</td><td>delivered</td><td>2021-12-28T23:51:01Z</td></tr><tr><td>75186</td><td>2021-12-27T13:50:10Z</td><td>on the way</td><td>2021-12-31T00:32:24Z</td></tr><tr><td>75186</td><td>2021-12-27T13:50:10Z</td><td>preparing</td><td>2021-12-31T01:45:27Z</td></tr><tr><td>75187</td><td>2021-12-27T15:29:36Z</td><td>placed</td><td>2021-12-27T15:29:36Z</td></tr><tr><td>75187</td><td>2021-12-27T15:29:36Z</td><td>return canceled</td><td>2021-12-28T20:50:34Z</td></tr><tr><td>75187</td><td>2021-12-27T15:29:36Z</td><td>on the way</td><td>2021-12-29T18:09:44Z</td></tr><tr><td>75187</td><td>2021-12-27T15:29:36Z</td><td>return requested</td><td>2021-12-29T22:20:02Z</td></tr><tr><td>75187</td><td>2021-12-27T15:29:36Z</td><td>preparing</td><td>2021-12-29T22:46:55Z</td></tr><tr><td>75187</td><td>2021-12-27T15:29:36Z</td><td>delivered</td><td>2021-12-30T03:49:02Z</td></tr><tr><td>75188</td><td>2021-12-27T16:00:53Z</td><td>placed</td><td>2021-12-27T16:00:53Z</td></tr><tr><td>75188</td><td>2021-12-27T16:00:53Z</td><td>on the way</td><td>2021-12-29T08:51:56Z</td></tr><tr><td>75188</td><td>2021-12-27T16:00:53Z</td><td>delivered</td><td>2021-12-29T19:25:31Z</td></tr><tr><td>75188</td><td>2021-12-27T16:00:53Z</td><td>preparing</td><td>2021-12-30T02:56:22Z</td></tr><tr><td>75189</td><td>2021-12-27T17:13:34Z</td><td>placed</td><td>2021-12-27T17:13:34Z</td></tr><tr><td>75189</td><td>2021-12-27T17:13:34Z</td><td>preparing</td><td>2021-12-29T04:35:06Z</td></tr><tr><td>75189</td><td>2021-12-27T17:13:34Z</td><td>on the way</td><td>2021-12-30T06:14:23Z</td></tr><tr><td>75189</td><td>2021-12-27T17:13:34Z</td><td>delivered</td><td>2021-12-31T02:46:22Z</td></tr><tr><td>75190</td><td>2021-12-27T17:15:22Z</td><td>placed</td><td>2021-12-27T17:15:22Z</td></tr><tr><td>75190</td><td>2021-12-27T17:15:22Z</td><td>delivered</td><td>2021-12-28T23:53:36Z</td></tr><tr><td>75190</td><td>2021-12-27T17:15:22Z</td><td>on the way</td><td>2021-12-29T14:07:04Z</td></tr><tr><td>75190</td><td>2021-12-27T17:15:22Z</td><td>preparing</td><td>2021-12-30T02:26:10Z</td></tr><tr><td>75191</td><td>2021-12-27T17:19:57Z</td><td>placed</td><td>2021-12-27T17:19:57Z</td></tr><tr><td>75191</td><td>2021-12-27T17:19:57Z</td><td>preparing</td><td>2021-12-28T22:15:05Z</td></tr><tr><td>75191</td><td>2021-12-27T17:19:57Z</td><td>canceled</td><td>2021-12-30T22:03:40Z</td></tr><tr><td>75192</td><td>2021-12-27T19:03:51Z</td><td>placed</td><td>2021-12-27T19:03:51Z</td></tr><tr><td>75192</td><td>2021-12-27T19:03:51Z</td><td>delivered</td><td>2021-12-28T21:05:53Z</td></tr><tr><td>75192</td><td>2021-12-27T19:03:51Z</td><td>return processed</td><td>2021-12-29T05:27:37Z</td></tr><tr><td>75192</td><td>2021-12-27T19:03:51Z</td><td>return picked up</td><td>2021-12-29T14:43:17Z</td></tr><tr><td>75192</td><td>2021-12-27T19:03:51Z</td><td>preparing</td><td>2021-12-29T15:22:48Z</td></tr><tr><td>75192</td><td>2021-12-27T19:03:51Z</td><td>on the way</td><td>2021-12-30T00:34:25Z</td></tr><tr><td>75192</td><td>2021-12-27T19:03:51Z</td><td>return requested</td><td>2021-12-30T15:26:28Z</td></tr><tr><td>75193</td><td>2021-12-27T19:04:09Z</td><td>placed</td><td>2021-12-27T19:04:09Z</td></tr><tr><td>75193</td><td>2021-12-27T19:04:09Z</td><td>delivered</td><td>2021-12-30T06:34:13Z</td></tr><tr><td>75193</td><td>2021-12-27T19:04:09Z</td><td>preparing</td><td>2021-12-30T08:38:16Z</td></tr><tr><td>75193</td><td>2021-12-27T19:04:09Z</td><td>on the way</td><td>2021-12-30T14:58:22Z</td></tr><tr><td>75194</td><td>2021-12-27T19:29:37Z</td><td>placed</td><td>2021-12-27T19:29:37Z</td></tr><tr><td>75194</td><td>2021-12-27T19:29:37Z</td><td>preparing</td><td>2021-12-29T23:28:11Z</td></tr><tr><td>75194</td><td>2021-12-27T19:29:37Z</td><td>on the way</td><td>2021-12-31T12:58:10Z</td></tr><tr><td>75195</td><td>2021-12-27T20:39:48Z</td><td>placed</td><td>2021-12-27T20:39:48Z</td></tr><tr><td>75195</td><td>2021-12-27T20:39:48Z</td><td>on the way</td><td>2021-12-29T05:34:41Z</td></tr><tr><td>75195</td><td>2021-12-27T20:39:48Z</td><td>preparing</td><td>2021-12-29T06:10:59Z</td></tr><tr><td>75195</td><td>2021-12-27T20:39:48Z</td><td>delivered</td><td>2021-12-29T07:45:01Z</td></tr><tr><td>75196</td><td>2021-12-27T22:07:22Z</td><td>placed</td><td>2021-12-27T22:07:22Z</td></tr><tr><td>75196</td><td>2021-12-27T22:07:22Z</td><td>on the way</td><td>2021-12-29T04:19:31Z</td></tr><tr><td>75196</td><td>2021-12-27T22:07:22Z</td><td>delivered</td><td>2021-12-30T00:17:11Z</td></tr><tr><td>75196</td><td>2021-12-27T22:07:22Z</td><td>return requested</td><td>2021-12-30T22:21:54Z</td></tr><tr><td>75196</td><td>2021-12-27T22:07:22Z</td><td>preparing</td><td>2021-12-31T14:01:44Z</td></tr><tr><td>75196</td><td>2021-12-27T22:07:22Z</td><td>return processed</td><td>2021-12-31T15:22:38Z</td></tr><tr><td>75196</td><td>2021-12-27T22:07:22Z</td><td>return picked up</td><td>2021-12-31T17:12:58Z</td></tr><tr><td>75197</td><td>2021-12-27T22:13:44Z</td><td>placed</td><td>2021-12-27T22:13:44Z</td></tr><tr><td>75197</td><td>2021-12-27T22:13:44Z</td><td>preparing</td><td>2021-12-28T23:09:59Z</td></tr><tr><td>75197</td><td>2021-12-27T22:13:44Z</td><td>delivered</td><td>2021-12-29T13:18:28Z</td></tr><tr><td>75197</td><td>2021-12-27T22:13:44Z</td><td>on the way</td><td>2021-12-30T19:31:07Z</td></tr><tr><td>75198</td><td>2021-12-27T22:22:01Z</td><td>placed</td><td>2021-12-27T22:22:01Z</td></tr><tr><td>75198</td><td>2021-12-27T22:22:01Z</td><td>delivered</td><td>2021-12-29T02:36:11Z</td></tr><tr><td>75198</td><td>2021-12-27T22:22:01Z</td><td>preparing</td><td>2021-12-30T00:48:13Z</td></tr><tr><td>75198</td><td>2021-12-27T22:22:01Z</td><td>on the way</td><td>2021-12-30T20:33:16Z</td></tr><tr><td>75199</td><td>2021-12-28T01:04:41Z</td><td>placed</td><td>2021-12-28T01:04:41Z</td></tr><tr><td>75199</td><td>2021-12-28T01:04:41Z</td><td>delivered</td><td>2021-12-29T01:55:39Z</td></tr><tr><td>75199</td><td>2021-12-28T01:04:41Z</td><td>preparing</td><td>2021-12-29T16:49:51Z</td></tr><tr><td>75199</td><td>2021-12-28T01:04:41Z</td><td>on the way</td><td>2021-12-30T02:06:07Z</td></tr><tr><td>75200</td><td>2021-12-28T03:04:21Z</td><td>placed</td><td>2021-12-28T03:04:21Z</td></tr><tr><td>75200</td><td>2021-12-28T03:04:21Z</td><td>preparing</td><td>2021-12-29T03:12:43Z</td></tr><tr><td>75200</td><td>2021-12-28T03:04:21Z</td><td>delivered</td><td>2021-12-29T09:29:01Z</td></tr><tr><td>75200</td><td>2021-12-28T03:04:21Z</td><td>on the way</td><td>2021-12-29T19:25:21Z</td></tr><tr><td>75201</td><td>2021-12-28T04:17:09Z</td><td>placed</td><td>2021-12-28T04:17:09Z</td></tr><tr><td>75201</td><td>2021-12-28T04:17:09Z</td><td>preparing</td><td>2021-12-29T13:58:54Z</td></tr><tr><td>75201</td><td>2021-12-28T04:17:09Z</td><td>on the way</td><td>2021-12-30T10:00:45Z</td></tr><tr><td>75202</td><td>2021-12-28T04:31:08Z</td><td>placed</td><td>2021-12-28T04:31:08Z</td></tr><tr><td>75202</td><td>2021-12-28T04:31:08Z</td><td>canceled</td><td>2021-12-29T18:06:08Z</td></tr><tr><td>75202</td><td>2021-12-28T04:31:08Z</td><td>preparing</td><td>2021-12-30T09:39:44Z</td></tr><tr><td>75203</td><td>2021-12-28T04:32:51Z</td><td>placed</td><td>2021-12-28T04:32:51Z</td></tr><tr><td>75203</td><td>2021-12-28T04:32:51Z</td><td>canceled</td><td>2021-12-29T19:43:27Z</td></tr><tr><td>75204</td><td>2021-12-28T06:00:32Z</td><td>placed</td><td>2021-12-28T06:00:32Z</td></tr><tr><td>75204</td><td>2021-12-28T06:00:32Z</td><td>preparing</td><td>2021-12-29T16:42:20Z</td></tr><tr><td>75204</td><td>2021-12-28T06:00:32Z</td><td>on the way</td><td>2021-12-29T16:57:12Z</td></tr><tr><td>75204</td><td>2021-12-28T06:00:32Z</td><td>delivered</td><td>2021-12-30T22:06:17Z</td></tr><tr><td>75205</td><td>2021-12-28T06:14:23Z</td><td>placed</td><td>2021-12-28T06:14:23Z</td></tr><tr><td>75205</td><td>2021-12-28T06:14:23Z</td><td>delivered</td><td>2021-12-29T20:34:37Z</td></tr><tr><td>75205</td><td>2021-12-28T06:14:23Z</td><td>preparing</td><td>2021-12-30T01:02:44Z</td></tr><tr><td>75206</td><td>2021-12-28T07:14:27Z</td><td>placed</td><td>2021-12-28T07:14:27Z</td></tr><tr><td>75206</td><td>2021-12-28T07:14:27Z</td><td>on the way</td><td>2021-12-29T21:15:40Z</td></tr><tr><td>75206</td><td>2021-12-28T07:14:27Z</td><td>delivered</td><td>2021-12-31T03:54:00Z</td></tr><tr><td>75206</td><td>2021-12-28T07:14:27Z</td><td>preparing</td><td>2021-12-31T19:48:38Z</td></tr><tr><td>75207</td><td>2021-12-28T07:14:47Z</td><td>placed</td><td>2021-12-28T07:14:47Z</td></tr><tr><td>75207</td><td>2021-12-28T07:14:47Z</td><td>delivered</td><td>2021-12-30T10:27:21Z</td></tr><tr><td>75207</td><td>2021-12-28T07:14:47Z</td><td>preparing</td><td>2021-12-30T22:56:48Z</td></tr><tr><td>75208</td><td>2021-12-28T07:54:46Z</td><td>placed</td><td>2021-12-28T07:54:46Z</td></tr><tr><td>75208</td><td>2021-12-28T07:54:46Z</td><td>on the way</td><td>2021-12-30T12:48:32Z</td></tr><tr><td>75208</td><td>2021-12-28T07:54:46Z</td><td>preparing</td><td>2021-12-30T20:14:12Z</td></tr><tr><td>75208</td><td>2021-12-28T07:54:46Z</td><td>delivered</td><td>2021-12-31T16:27:02Z</td></tr><tr><td>75209</td><td>2021-12-28T08:44:24Z</td><td>placed</td><td>2021-12-28T08:44:24Z</td></tr><tr><td>75209</td><td>2021-12-28T08:44:24Z</td><td>on the way</td><td>2021-12-29T12:34:35Z</td></tr><tr><td>75209</td><td>2021-12-28T08:44:24Z</td><td>delivered</td><td>2021-12-30T05:43:15Z</td></tr><tr><td>75210</td><td>2021-12-28T09:14:40Z</td><td>placed</td><td>2021-12-28T09:14:40Z</td></tr><tr><td>75210</td><td>2021-12-28T09:14:40Z</td><td>on the way</td><td>2021-12-31T01:40:06Z</td></tr><tr><td>75210</td><td>2021-12-28T09:14:40Z</td><td>preparing</td><td>2021-12-31T04:26:20Z</td></tr><tr><td>75211</td><td>2021-12-28T09:49:04Z</td><td>placed</td><td>2021-12-28T09:49:04Z</td></tr><tr><td>75211</td><td>2021-12-28T09:49:04Z</td><td>on the way</td><td>2021-12-31T07:17:45Z</td></tr><tr><td>75212</td><td>2021-12-28T11:25:06Z</td><td>placed</td><td>2021-12-28T11:25:06Z</td></tr><tr><td>75212</td><td>2021-12-28T11:25:06Z</td><td>reported shipping error</td><td>2021-12-30T18:16:29Z</td></tr><tr><td>75212</td><td>2021-12-28T11:25:06Z</td><td>preparing</td><td>2021-12-30T18:31:46Z</td></tr><tr><td>75212</td><td>2021-12-28T11:25:06Z</td><td>on the way</td><td>2021-12-31T19:32:45Z</td></tr><tr><td>75213</td><td>2021-12-28T11:36:08Z</td><td>placed</td><td>2021-12-28T11:36:08Z</td></tr><tr><td>75213</td><td>2021-12-28T11:36:08Z</td><td>delivered</td><td>2021-12-29T19:45:06Z</td></tr><tr><td>75213</td><td>2021-12-28T11:36:08Z</td><td>preparing</td><td>2021-12-31T06:32:35Z</td></tr><tr><td>75213</td><td>2021-12-28T11:36:08Z</td><td>on the way</td><td>2021-12-31T18:37:15Z</td></tr><tr><td>75214</td><td>2021-12-28T11:40:34Z</td><td>placed</td><td>2021-12-28T11:40:34Z</td></tr><tr><td>75214</td><td>2021-12-28T11:40:34Z</td><td>on the way</td><td>2021-12-29T14:42:30Z</td></tr><tr><td>75214</td><td>2021-12-28T11:40:34Z</td><td>return requested</td><td>2021-12-30T06:25:40Z</td></tr><tr><td>75214</td><td>2021-12-28T11:40:34Z</td><td>preparing</td><td>2021-12-30T13:45:30Z</td></tr><tr><td>75214</td><td>2021-12-28T11:40:34Z</td><td>return canceled</td><td>2021-12-31T18:18:04Z</td></tr><tr><td>75215</td><td>2021-12-28T13:01:05Z</td><td>placed</td><td>2021-12-28T13:01:05Z</td></tr><tr><td>75215</td><td>2021-12-28T13:01:05Z</td><td>return picked up</td><td>2021-12-29T21:25:44Z</td></tr><tr><td>75215</td><td>2021-12-28T13:01:05Z</td><td>on the way</td><td>2021-12-30T11:23:22Z</td></tr><tr><td>75215</td><td>2021-12-28T13:01:05Z</td><td>return processed</td><td>2021-12-31T05:58:24Z</td></tr><tr><td>75215</td><td>2021-12-28T13:01:05Z</td><td>return requested</td><td>2021-12-31T09:48:46Z</td></tr><tr><td>75216</td><td>2021-12-28T15:52:48Z</td><td>placed</td><td>2021-12-28T15:52:48Z</td></tr><tr><td>75216</td><td>2021-12-28T15:52:48Z</td><td>delivered</td><td>2021-12-29T15:53:23Z</td></tr><tr><td>75217</td><td>2021-12-28T18:53:25Z</td><td>placed</td><td>2021-12-28T18:53:25Z</td></tr><tr><td>75217</td><td>2021-12-28T18:53:25Z</td><td>preparing</td><td>2021-12-30T07:14:31Z</td></tr><tr><td>75217</td><td>2021-12-28T18:53:25Z</td><td>reported shipping error</td><td>2021-12-30T10:34:21Z</td></tr><tr><td>75217</td><td>2021-12-28T18:53:25Z</td><td>on the way</td><td>2021-12-30T20:06:29Z</td></tr><tr><td>75218</td><td>2021-12-28T20:05:08Z</td><td>placed</td><td>2021-12-28T20:05:08Z</td></tr><tr><td>75218</td><td>2021-12-28T20:05:08Z</td><td>delivered</td><td>2021-12-30T04:21:37Z</td></tr><tr><td>75218</td><td>2021-12-28T20:05:08Z</td><td>preparing</td><td>2021-12-31T09:38:47Z</td></tr><tr><td>75218</td><td>2021-12-28T20:05:08Z</td><td>on the way</td><td>2021-12-31T13:48:50Z</td></tr><tr><td>75219</td><td>2021-12-28T21:06:06Z</td><td>placed</td><td>2021-12-28T21:06:06Z</td></tr><tr><td>75219</td><td>2021-12-28T21:06:06Z</td><td>preparing</td><td>2021-12-30T11:59:39Z</td></tr><tr><td>75219</td><td>2021-12-28T21:06:06Z</td><td>on the way</td><td>2021-12-30T21:21:30Z</td></tr><tr><td>75219</td><td>2021-12-28T21:06:06Z</td><td>delivered</td><td>2021-12-31T03:29:12Z</td></tr><tr><td>75220</td><td>2021-12-28T21:28:17Z</td><td>placed</td><td>2021-12-28T21:28:17Z</td></tr><tr><td>75220</td><td>2021-12-28T21:28:17Z</td><td>on the way</td><td>2021-12-30T16:21:30Z</td></tr><tr><td>75220</td><td>2021-12-28T21:28:17Z</td><td>preparing</td><td>2021-12-31T04:24:25Z</td></tr><tr><td>75221</td><td>2021-12-28T22:34:41Z</td><td>placed</td><td>2021-12-28T22:34:41Z</td></tr><tr><td>75221</td><td>2021-12-28T22:34:41Z</td><td>on the way</td><td>2021-12-31T06:24:35Z</td></tr><tr><td>75221</td><td>2021-12-28T22:34:41Z</td><td>delivered</td><td>2021-12-31T20:29:34Z</td></tr><tr><td>75222</td><td>2021-12-28T22:44:03Z</td><td>placed</td><td>2021-12-28T22:44:03Z</td></tr><tr><td>75222</td><td>2021-12-28T22:44:03Z</td><td>on the way</td><td>2021-12-29T23:33:30Z</td></tr><tr><td>75222</td><td>2021-12-28T22:44:03Z</td><td>delivered</td><td>2021-12-30T01:57:20Z</td></tr><tr><td>75222</td><td>2021-12-28T22:44:03Z</td><td>preparing</td><td>2021-12-31T10:41:26Z</td></tr><tr><td>75223</td><td>2021-12-28T22:58:01Z</td><td>placed</td><td>2021-12-28T22:58:01Z</td></tr><tr><td>75223</td><td>2021-12-28T22:58:01Z</td><td>on the way</td><td>2021-12-31T09:11:24Z</td></tr><tr><td>75224</td><td>2021-12-29T00:31:51Z</td><td>placed</td><td>2021-12-29T00:31:51Z</td></tr><tr><td>75224</td><td>2021-12-29T00:31:51Z</td><td>delivered</td><td>2021-12-31T10:10:25Z</td></tr><tr><td>75224</td><td>2021-12-29T00:31:51Z</td><td>preparing</td><td>2021-12-31T17:48:02Z</td></tr><tr><td>75224</td><td>2021-12-29T00:31:51Z</td><td>on the way</td><td>2021-12-31T19:46:13Z</td></tr><tr><td>75225</td><td>2021-12-29T01:37:39Z</td><td>placed</td><td>2021-12-29T01:37:39Z</td></tr><tr><td>75225</td><td>2021-12-29T01:37:39Z</td><td>delivered</td><td>2021-12-31T09:24:53Z</td></tr><tr><td>75225</td><td>2021-12-29T01:37:39Z</td><td>on the way</td><td>2021-12-31T14:26:50Z</td></tr><tr><td>75226</td><td>2021-12-29T02:04:21Z</td><td>placed</td><td>2021-12-29T02:04:21Z</td></tr><tr><td>75226</td><td>2021-12-29T02:04:21Z</td><td>canceled</td><td>2021-12-31T21:15:59Z</td></tr><tr><td>75227</td><td>2021-12-29T02:15:38Z</td><td>placed</td><td>2021-12-29T02:15:38Z</td></tr><tr><td>75227</td><td>2021-12-29T02:15:38Z</td><td>preparing</td><td>2021-12-30T04:05:15Z</td></tr><tr><td>75227</td><td>2021-12-29T02:15:38Z</td><td>on the way</td><td>2021-12-30T22:27:48Z</td></tr><tr><td>75228</td><td>2021-12-29T02:38:56Z</td><td>placed</td><td>2021-12-29T02:38:56Z</td></tr><tr><td>75228</td><td>2021-12-29T02:38:56Z</td><td>on the way</td><td>2021-12-31T03:12:50Z</td></tr><tr><td>75228</td><td>2021-12-29T02:38:56Z</td><td>delivered</td><td>2021-12-31T16:54:54Z</td></tr><tr><td>75229</td><td>2021-12-29T02:45:39Z</td><td>placed</td><td>2021-12-29T02:45:39Z</td></tr><tr><td>75229</td><td>2021-12-29T02:45:39Z</td><td>preparing</td><td>2021-12-30T06:31:43Z</td></tr><tr><td>75229</td><td>2021-12-29T02:45:39Z</td><td>on the way</td><td>2021-12-30T16:28:37Z</td></tr><tr><td>75229</td><td>2021-12-29T02:45:39Z</td><td>delivered</td><td>2021-12-31T08:57:11Z</td></tr><tr><td>75230</td><td>2021-12-29T04:23:09Z</td><td>placed</td><td>2021-12-29T04:23:09Z</td></tr><tr><td>75230</td><td>2021-12-29T04:23:09Z</td><td>preparing</td><td>2021-12-30T21:54:53Z</td></tr><tr><td>75231</td><td>2021-12-29T04:54:46Z</td><td>placed</td><td>2021-12-29T04:54:46Z</td></tr><tr><td>75231</td><td>2021-12-29T04:54:46Z</td><td>delivered</td><td>2021-12-30T15:48:09Z</td></tr><tr><td>75231</td><td>2021-12-29T04:54:46Z</td><td>preparing</td><td>2021-12-31T05:20:05Z</td></tr><tr><td>75231</td><td>2021-12-29T04:54:46Z</td><td>on the way</td><td>2021-12-31T07:05:13Z</td></tr><tr><td>75232</td><td>2021-12-29T05:15:06Z</td><td>placed</td><td>2021-12-29T05:15:06Z</td></tr><tr><td>75232</td><td>2021-12-29T05:15:06Z</td><td>preparing</td><td>2021-12-30T17:29:32Z</td></tr><tr><td>75232</td><td>2021-12-29T05:15:06Z</td><td>delivered</td><td>2021-12-30T18:06:49Z</td></tr><tr><td>75232</td><td>2021-12-29T05:15:06Z</td><td>on the way</td><td>2021-12-30T20:37:12Z</td></tr><tr><td>75233</td><td>2021-12-29T05:23:29Z</td><td>placed</td><td>2021-12-29T05:23:29Z</td></tr><tr><td>75233</td><td>2021-12-29T05:23:29Z</td><td>preparing</td><td>2021-12-30T14:52:11Z</td></tr><tr><td>75233</td><td>2021-12-29T05:23:29Z</td><td>on the way</td><td>2021-12-31T11:45:48Z</td></tr><tr><td>75234</td><td>2021-12-29T05:32:01Z</td><td>placed</td><td>2021-12-29T05:32:01Z</td></tr><tr><td>75234</td><td>2021-12-29T05:32:01Z</td><td>on the way</td><td>2021-12-30T06:20:27Z</td></tr><tr><td>75234</td><td>2021-12-29T05:32:01Z</td><td>delivered</td><td>2021-12-30T21:01:25Z</td></tr><tr><td>75234</td><td>2021-12-29T05:32:01Z</td><td>preparing</td><td>2021-12-31T06:47:14Z</td></tr><tr><td>75235</td><td>2021-12-29T06:17:30Z</td><td>placed</td><td>2021-12-29T06:17:30Z</td></tr><tr><td>75236</td><td>2021-12-29T07:31:52Z</td><td>placed</td><td>2021-12-29T07:31:52Z</td></tr><tr><td>75236</td><td>2021-12-29T07:31:52Z</td><td>on the way</td><td>2021-12-31T00:58:24Z</td></tr><tr><td>75236</td><td>2021-12-29T07:31:52Z</td><td>preparing</td><td>2021-12-31T23:06:48Z</td></tr><tr><td>75237</td><td>2021-12-29T12:42:27Z</td><td>placed</td><td>2021-12-29T12:42:27Z</td></tr><tr><td>75237</td><td>2021-12-29T12:42:27Z</td><td>preparing</td><td>2021-12-30T22:47:32Z</td></tr><tr><td>75238</td><td>2021-12-29T15:04:13Z</td><td>placed</td><td>2021-12-29T15:04:13Z</td></tr><tr><td>75238</td><td>2021-12-29T15:04:13Z</td><td>on the way</td><td>2021-12-31T11:51:00Z</td></tr><tr><td>75239</td><td>2021-12-29T17:32:26Z</td><td>placed</td><td>2021-12-29T17:32:26Z</td></tr><tr><td>75239</td><td>2021-12-29T17:32:26Z</td><td>preparing</td><td>2021-12-30T19:52:19Z</td></tr><tr><td>75240</td><td>2021-12-29T17:46:05Z</td><td>placed</td><td>2021-12-29T17:46:05Z</td></tr><tr><td>75240</td><td>2021-12-29T17:46:05Z</td><td>delivered</td><td>2021-12-30T23:30:21Z</td></tr><tr><td>75241</td><td>2021-12-29T17:50:37Z</td><td>placed</td><td>2021-12-29T17:50:37Z</td></tr><tr><td>75241</td><td>2021-12-29T17:50:37Z</td><td>on the way</td><td>2021-12-31T13:09:02Z</td></tr><tr><td>75241</td><td>2021-12-29T17:50:37Z</td><td>preparing</td><td>2021-12-31T20:35:59Z</td></tr><tr><td>75242</td><td>2021-12-29T18:37:07Z</td><td>placed</td><td>2021-12-29T18:37:07Z</td></tr><tr><td>75243</td><td>2021-12-29T19:15:15Z</td><td>placed</td><td>2021-12-29T19:15:15Z</td></tr><tr><td>75244</td><td>2021-12-29T20:02:16Z</td><td>placed</td><td>2021-12-29T20:02:16Z</td></tr><tr><td>75244</td><td>2021-12-29T20:02:16Z</td><td>preparing</td><td>2021-12-30T21:34:47Z</td></tr><tr><td>75245</td><td>2021-12-29T20:24:41Z</td><td>placed</td><td>2021-12-29T20:24:41Z</td></tr><tr><td>75245</td><td>2021-12-29T20:24:41Z</td><td>delivered</td><td>2021-12-31T01:40:03Z</td></tr><tr><td>75245</td><td>2021-12-29T20:24:41Z</td><td>on the way</td><td>2021-12-31T15:44:07Z</td></tr><tr><td>75246</td><td>2021-12-29T20:37:07Z</td><td>placed</td><td>2021-12-29T20:37:07Z</td></tr><tr><td>75247</td><td>2021-12-29T21:11:43Z</td><td>placed</td><td>2021-12-29T21:11:43Z</td></tr><tr><td>75248</td><td>2021-12-29T22:01:05Z</td><td>placed</td><td>2021-12-29T22:01:05Z</td></tr><tr><td>75248</td><td>2021-12-29T22:01:05Z</td><td>on the way</td><td>2021-12-31T17:32:37Z</td></tr><tr><td>75249</td><td>2021-12-30T01:40:20Z</td><td>placed</td><td>2021-12-30T01:40:20Z</td></tr><tr><td>75250</td><td>2021-12-30T02:20:27Z</td><td>placed</td><td>2021-12-30T02:20:27Z</td></tr><tr><td>75250</td><td>2021-12-30T02:20:27Z</td><td>on the way</td><td>2021-12-31T02:27:48Z</td></tr><tr><td>75250</td><td>2021-12-30T02:20:27Z</td><td>reported shipping error</td><td>2021-12-31T03:59:14Z</td></tr><tr><td>75251</td><td>2021-12-30T04:03:45Z</td><td>placed</td><td>2021-12-30T04:03:45Z</td></tr><tr><td>75252</td><td>2021-12-30T04:08:10Z</td><td>placed</td><td>2021-12-30T04:08:10Z</td></tr><tr><td>75252</td><td>2021-12-30T04:08:10Z</td><td>preparing</td><td>2021-12-31T19:31:14Z</td></tr><tr><td>75253</td><td>2021-12-30T04:08:22Z</td><td>placed</td><td>2021-12-30T04:08:22Z</td></tr><tr><td>75254</td><td>2021-12-30T08:14:44Z</td><td>placed</td><td>2021-12-30T08:14:44Z</td></tr><tr><td>75254</td><td>2021-12-30T08:14:44Z</td><td>delivered</td><td>2021-12-31T12:02:09Z</td></tr><tr><td>75254</td><td>2021-12-30T08:14:44Z</td><td>preparing</td><td>2021-12-31T22:18:01Z</td></tr><tr><td>75255</td><td>2021-12-30T09:41:39Z</td><td>placed</td><td>2021-12-30T09:41:39Z</td></tr><tr><td>75256</td><td>2021-12-30T09:54:37Z</td><td>placed</td><td>2021-12-30T09:54:37Z</td></tr><tr><td>75257</td><td>2021-12-30T10:22:38Z</td><td>placed</td><td>2021-12-30T10:22:38Z</td></tr><tr><td>75257</td><td>2021-12-30T10:22:38Z</td><td>delivered</td><td>2021-12-31T19:36:26Z</td></tr><tr><td>75258</td><td>2021-12-30T11:08:19Z</td><td>placed</td><td>2021-12-30T11:08:19Z</td></tr><tr><td>75259</td><td>2021-12-30T11:44:06Z</td><td>placed</td><td>2021-12-30T11:44:06Z</td></tr><tr><td>75260</td><td>2021-12-30T12:26:33Z</td><td>placed</td><td>2021-12-30T12:26:33Z</td></tr><tr><td>75261</td><td>2021-12-30T12:57:24Z</td><td>placed</td><td>2021-12-30T12:57:24Z</td></tr><tr><td>75261</td><td>2021-12-30T12:57:24Z</td><td>on the way</td><td>2021-12-31T14:40:32Z</td></tr><tr><td>75261</td><td>2021-12-30T12:57:24Z</td><td>delivered</td><td>2021-12-31T15:54:26Z</td></tr><tr><td>75262</td><td>2021-12-30T13:05:35Z</td><td>placed</td><td>2021-12-30T13:05:35Z</td></tr><tr><td>75263</td><td>2021-12-30T13:07:13Z</td><td>placed</td><td>2021-12-30T13:07:13Z</td></tr><tr><td>75263</td><td>2021-12-30T13:07:13Z</td><td>on the way</td><td>2021-12-31T15:35:01Z</td></tr><tr><td>75264</td><td>2021-12-30T17:55:12Z</td><td>placed</td><td>2021-12-30T17:55:12Z</td></tr><tr><td>75265</td><td>2021-12-30T18:26:43Z</td><td>placed</td><td>2021-12-30T18:26:43Z</td></tr><tr><td>75266</td><td>2021-12-30T18:38:44Z</td><td>placed</td><td>2021-12-30T18:38:44Z</td></tr><tr><td>75267</td><td>2021-12-30T18:42:32Z</td><td>placed</td><td>2021-12-30T18:42:32Z</td></tr><tr><td>75268</td><td>2021-12-30T19:48:13Z</td><td>placed</td><td>2021-12-30T19:48:13Z</td></tr><tr><td>75269</td><td>2021-12-30T20:25:38Z</td><td>placed</td><td>2021-12-30T20:25:38Z</td></tr><tr><td>75269</td><td>2021-12-30T20:25:38Z</td><td>on the way</td><td>2021-12-31T22:31:57Z</td></tr><tr><td>75270</td><td>2021-12-30T21:06:03Z</td><td>placed</td><td>2021-12-30T21:06:03Z</td></tr><tr><td>75271</td><td>2021-12-30T22:15:31Z</td><td>placed</td><td>2021-12-30T22:15:31Z</td></tr><tr><td>75272</td><td>2021-12-30T22:56:08Z</td><td>placed</td><td>2021-12-30T22:56:08Z</td></tr><tr><td>75273</td><td>2021-12-31T00:16:03Z</td><td>placed</td><td>2021-12-31T00:16:03Z</td></tr><tr><td>75274</td><td>2021-12-31T00:40:44Z</td><td>placed</td><td>2021-12-31T00:40:44Z</td></tr><tr><td>75275</td><td>2021-12-31T00:42:04Z</td><td>placed</td><td>2021-12-31T00:42:04Z</td></tr><tr><td>75276</td><td>2021-12-31T01:32:30Z</td><td>placed</td><td>2021-12-31T01:32:30Z</td></tr><tr><td>75277</td><td>2021-12-31T03:42:17Z</td><td>placed</td><td>2021-12-31T03:42:17Z</td></tr><tr><td>75278</td><td>2021-12-31T06:43:53Z</td><td>placed</td><td>2021-12-31T06:43:53Z</td></tr><tr><td>75279</td><td>2021-12-31T06:52:30Z</td><td>placed</td><td>2021-12-31T06:52:30Z</td></tr><tr><td>75280</td><td>2021-12-31T06:54:13Z</td><td>placed</td><td>2021-12-31T06:54:13Z</td></tr><tr><td>75281</td><td>2021-12-31T07:17:39Z</td><td>placed</td><td>2021-12-31T07:17:39Z</td></tr><tr><td>75282</td><td>2021-12-31T07:18:26Z</td><td>placed</td><td>2021-12-31T07:18:26Z</td></tr><tr><td>75283</td><td>2021-12-31T09:03:15Z</td><td>placed</td><td>2021-12-31T09:03:15Z</td></tr><tr><td>75284</td><td>2021-12-31T11:05:02Z</td><td>placed</td><td>2021-12-31T11:05:02Z</td></tr><tr><td>75285</td><td>2021-12-31T11:39:50Z</td><td>placed</td><td>2021-12-31T11:39:50Z</td></tr><tr><td>75286</td><td>2021-12-31T12:27:00Z</td><td>placed</td><td>2021-12-31T12:27:00Z</td></tr><tr><td>75287</td><td>2021-12-31T12:31:57Z</td><td>placed</td><td>2021-12-31T12:31:57Z</td></tr><tr><td>75288</td><td>2021-12-31T13:43:05Z</td><td>placed</td><td>2021-12-31T13:43:05Z</td></tr><tr><td>75289</td><td>2021-12-31T14:18:41Z</td><td>placed</td><td>2021-12-31T14:18:41Z</td></tr><tr><td>75290</td><td>2021-12-31T15:04:17Z</td><td>placed</td><td>2021-12-31T15:04:17Z</td></tr><tr><td>75291</td><td>2021-12-31T17:31:36Z</td><td>placed</td><td>2021-12-31T17:31:36Z</td></tr><tr><td>75292</td><td>2021-12-31T18:13:01Z</td><td>placed</td><td>2021-12-31T18:13:01Z</td></tr><tr><td>75293</td><td>2021-12-31T20:53:49Z</td><td>placed</td><td>2021-12-31T20:53:49Z</td></tr><tr><td>75294</td><td>2021-12-31T21:46:58Z</td><td>placed</td><td>2021-12-31T21:46:58Z</td></tr><tr><td>75295</td><td>2021-12-31T21:52:07Z</td><td>placed</td><td>2021-12-31T21:52:07Z</td></tr><tr><td>75296</td><td>2021-12-31T22:44:34Z</td><td>placed</td><td>2021-12-31T22:44:34Z</td></tr></tbody></table></div>"
      ]
     },
     "metadata": {
      "application/vnd.databricks.v1+output": {
       "addedWidgets": {},
       "aggData": [],
       "aggError": "",
       "aggOverflow": false,
       "aggSchema": [],
       "aggSeriesLimitReached": false,
       "aggType": "",
       "arguments": {},
       "columnCustomDisplayInfos": {},
       "data": [
        [
         75123,
         "2021-12-25T00:28:12Z",
         "placed",
         "2021-12-25T00:28:12Z"
        ],
        [
         75123,
         "2021-12-25T00:28:12Z",
         "on the way",
         "2021-12-26T20:08:38Z"
        ],
        [
         75123,
         "2021-12-25T00:28:12Z",
         "delivered",
         "2021-12-27T11:30:26Z"
        ],
        [
         75123,
         "2021-12-25T00:28:12Z",
         "preparing",
         "2021-12-28T23:26:06Z"
        ],
        [
         75124,
         "2021-12-25T00:35:00Z",
         "placed",
         "2021-12-25T00:35:00Z"
        ],
        [
         75124,
         "2021-12-25T00:35:00Z",
         "preparing",
         "2021-12-27T13:20:27Z"
        ],
        [
         75124,
         "2021-12-25T00:35:00Z",
         "on the way",
         "2021-12-27T14:11:48Z"
        ],
        [
         75124,
         "2021-12-25T00:35:00Z",
         "delivered",
         "2021-12-27T15:53:42Z"
        ],
        [
         75125,
         "2021-12-25T01:14:22Z",
         "placed",
         "2021-12-25T01:14:22Z"
        ],
        [
         75125,
         "2021-12-25T01:14:22Z",
         "delivered",
         "2021-12-26T20:37:20Z"
        ],
        [
         75125,
         "2021-12-25T01:14:22Z",
         "on the way",
         "2021-12-27T06:04:12Z"
        ],
        [
         75125,
         "2021-12-25T01:14:22Z",
         "preparing",
         "2021-12-28T00:03:04Z"
        ],
        [
         75126,
         "2021-12-25T01:34:27Z",
         "placed",
         "2021-12-25T01:34:27Z"
        ],
        [
         75126,
         "2021-12-25T01:34:27Z",
         "preparing",
         "2021-12-26T14:05:35Z"
        ],
        [
         75126,
         "2021-12-25T01:34:27Z",
         "delivered",
         "2021-12-28T11:32:03Z"
        ],
        [
         75126,
         "2021-12-25T01:34:27Z",
         "on the way",
         "2021-12-28T15:18:03Z"
        ],
        [
         75127,
         "2021-12-25T02:24:26Z",
         "placed",
         "2021-12-25T02:24:26Z"
        ],
        [
         75127,
         "2021-12-25T02:24:26Z",
         "on the way",
         "2021-12-26T03:52:46Z"
        ],
        [
         75127,
         "2021-12-25T02:24:26Z",
         "delivered",
         "2021-12-27T16:22:54Z"
        ],
        [
         75127,
         "2021-12-25T02:24:26Z",
         "preparing",
         "2021-12-29T06:02:46Z"
        ],
        [
         75128,
         "2021-12-25T04:00:53Z",
         "placed",
         "2021-12-25T04:00:53Z"
        ],
        [
         75128,
         "2021-12-25T04:00:53Z",
         "delivered",
         "2021-12-26T17:58:44Z"
        ],
        [
         75128,
         "2021-12-25T04:00:53Z",
         "on the way",
         "2021-12-27T07:51:56Z"
        ],
        [
         75128,
         "2021-12-25T04:00:53Z",
         "preparing",
         "2021-12-28T12:31:36Z"
        ],
        [
         75129,
         "2021-12-25T04:41:12Z",
         "placed",
         "2021-12-25T04:41:12Z"
        ],
        [
         75129,
         "2021-12-25T04:41:12Z",
         "return requested",
         "2021-12-26T13:48:00Z"
        ],
        [
         75129,
         "2021-12-25T04:41:12Z",
         "return processed",
         "2021-12-26T20:50:50Z"
        ],
        [
         75129,
         "2021-12-25T04:41:12Z",
         "on the way",
         "2021-12-26T22:44:20Z"
        ],
        [
         75129,
         "2021-12-25T04:41:12Z",
         "delivered",
         "2021-12-27T06:25:54Z"
        ],
        [
         75129,
         "2021-12-25T04:41:12Z",
         "preparing",
         "2021-12-27T12:11:27Z"
        ],
        [
         75129,
         "2021-12-25T04:41:12Z",
         "return picked up",
         "2021-12-28T08:14:26Z"
        ],
        [
         75130,
         "2021-12-25T08:13:09Z",
         "placed",
         "2021-12-25T08:13:09Z"
        ],
        [
         75130,
         "2021-12-25T08:13:09Z",
         "preparing",
         "2021-12-26T23:25:00Z"
        ],
        [
         75130,
         "2021-12-25T08:13:09Z",
         "delivered",
         "2021-12-27T00:04:47Z"
        ],
        [
         75130,
         "2021-12-25T08:13:09Z",
         "on the way",
         "2021-12-28T10:01:13Z"
        ],
        [
         75131,
         "2021-12-25T08:48:51Z",
         "placed",
         "2021-12-25T08:48:51Z"
        ],
        [
         75131,
         "2021-12-25T08:48:51Z",
         "preparing",
         "2021-12-27T18:24:06Z"
        ],
        [
         75131,
         "2021-12-25T08:48:51Z",
         "delivered",
         "2021-12-28T01:37:30Z"
        ],
        [
         75131,
         "2021-12-25T08:48:51Z",
         "on the way",
         "2021-12-28T02:29:05Z"
        ],
        [
         75132,
         "2021-12-25T09:14:57Z",
         "placed",
         "2021-12-25T09:14:57Z"
        ],
        [
         75132,
         "2021-12-25T09:14:57Z",
         "delivered",
         "2021-12-26T10:09:53Z"
        ],
        [
         75132,
         "2021-12-25T09:14:57Z",
         "on the way",
         "2021-12-26T16:26:36Z"
        ],
        [
         75132,
         "2021-12-25T09:14:57Z",
         "preparing",
         "2021-12-27T00:12:38Z"
        ],
        [
         75133,
         "2021-12-25T10:21:27Z",
         "placed",
         "2021-12-25T10:21:27Z"
        ],
        [
         75133,
         "2021-12-25T10:21:27Z",
         "delivered",
         "2021-12-27T09:09:35Z"
        ],
        [
         75133,
         "2021-12-25T10:21:27Z",
         "preparing",
         "2021-12-28T15:51:28Z"
        ],
        [
         75133,
         "2021-12-25T10:21:27Z",
         "on the way",
         "2021-12-29T21:27:37Z"
        ],
        [
         75134,
         "2021-12-25T10:23:33Z",
         "placed",
         "2021-12-25T10:23:33Z"
        ],
        [
         75134,
         "2021-12-25T10:23:33Z",
         "preparing",
         "2021-12-26T12:36:25Z"
        ],
        [
         75134,
         "2021-12-25T10:23:33Z",
         "delivered",
         "2021-12-27T05:44:14Z"
        ],
        [
         75134,
         "2021-12-25T10:23:33Z",
         "on the way",
         "2021-12-28T11:59:39Z"
        ],
        [
         75135,
         "2021-12-25T11:41:39Z",
         "placed",
         "2021-12-25T11:41:39Z"
        ],
        [
         75135,
         "2021-12-25T11:41:39Z",
         "on the way",
         "2021-12-26T16:43:52Z"
        ],
        [
         75135,
         "2021-12-25T11:41:39Z",
         "preparing",
         "2021-12-27T01:13:16Z"
        ],
        [
         75135,
         "2021-12-25T11:41:39Z",
         "return canceled",
         "2021-12-27T07:42:09Z"
        ],
        [
         75135,
         "2021-12-25T11:41:39Z",
         "return requested",
         "2021-12-28T23:24:01Z"
        ],
        [
         75135,
         "2021-12-25T11:41:39Z",
         "delivered",
         "2021-12-29T09:33:25Z"
        ],
        [
         75136,
         "2021-12-25T12:00:29Z",
         "placed",
         "2021-12-25T12:00:29Z"
        ],
        [
         75136,
         "2021-12-25T12:00:29Z",
         "preparing",
         "2021-12-26T15:28:06Z"
        ],
        [
         75136,
         "2021-12-25T12:00:29Z",
         "canceled",
         "2021-12-29T12:00:59Z"
        ],
        [
         75137,
         "2021-12-25T12:21:47Z",
         "placed",
         "2021-12-25T12:21:47Z"
        ],
        [
         75137,
         "2021-12-25T12:21:47Z",
         "on the way",
         "2021-12-26T17:47:59Z"
        ],
        [
         75137,
         "2021-12-25T12:21:47Z",
         "preparing",
         "2021-12-27T00:09:23Z"
        ],
        [
         75137,
         "2021-12-25T12:21:47Z",
         "delivered",
         "2021-12-28T03:29:54Z"
        ],
        [
         75138,
         "2021-12-25T13:23:19Z",
         "placed",
         "2021-12-25T13:23:19Z"
        ],
        [
         75138,
         "2021-12-25T13:23:19Z",
         "preparing",
         "2021-12-27T06:25:19Z"
        ],
        [
         75138,
         "2021-12-25T13:23:19Z",
         "on the way",
         "2021-12-27T20:41:37Z"
        ],
        [
         75138,
         "2021-12-25T13:23:19Z",
         "return requested",
         "2021-12-27T22:04:58Z"
        ],
        [
         75138,
         "2021-12-25T13:23:19Z",
         "delivered",
         "2021-12-28T06:18:32Z"
        ],
        [
         75138,
         "2021-12-25T13:23:19Z",
         "reported shipping error",
         "2021-12-28T07:59:13Z"
        ],
        [
         75138,
         "2021-12-25T13:23:19Z",
         "return picked up",
         "2021-12-28T22:11:16Z"
        ],
        [
         75139,
         "2021-12-25T14:05:08Z",
         "placed",
         "2021-12-25T14:05:08Z"
        ],
        [
         75139,
         "2021-12-25T14:05:08Z",
         "return canceled",
         "2021-12-27T06:21:29Z"
        ],
        [
         75139,
         "2021-12-25T14:05:08Z",
         "preparing",
         "2021-12-27T20:51:55Z"
        ],
        [
         75139,
         "2021-12-25T14:05:08Z",
         "on the way",
         "2021-12-27T22:34:22Z"
        ],
        [
         75139,
         "2021-12-25T14:05:08Z",
         "return requested",
         "2021-12-28T04:20:35Z"
        ],
        [
         75139,
         "2021-12-25T14:05:08Z",
         "delivered",
         "2021-12-28T19:40:52Z"
        ],
        [
         75140,
         "2021-12-25T14:32:08Z",
         "placed",
         "2021-12-25T14:32:08Z"
        ],
        [
         75140,
         "2021-12-25T14:32:08Z",
         "return requested",
         "2021-12-26T19:03:51Z"
        ],
        [
         75140,
         "2021-12-25T14:32:08Z",
         "return canceled",
         "2021-12-26T21:41:50Z"
        ],
        [
         75140,
         "2021-12-25T14:32:08Z",
         "delivered",
         "2021-12-27T10:32:38Z"
        ],
        [
         75140,
         "2021-12-25T14:32:08Z",
         "preparing",
         "2021-12-27T16:22:02Z"
        ],
        [
         75140,
         "2021-12-25T14:32:08Z",
         "on the way",
         "2021-12-29T12:00:26Z"
        ],
        [
         75141,
         "2021-12-25T14:36:22Z",
         "placed",
         "2021-12-25T14:36:22Z"
        ],
        [
         75141,
         "2021-12-25T14:36:22Z",
         "preparing",
         "2021-12-26T17:48:22Z"
        ],
        [
         75141,
         "2021-12-25T14:36:22Z",
         "delivered",
         "2021-12-27T23:06:07Z"
        ],
        [
         75141,
         "2021-12-25T14:36:22Z",
         "on the way",
         "2021-12-31T09:54:01Z"
        ],
        [
         75142,
         "2021-12-25T14:58:09Z",
         "placed",
         "2021-12-25T14:58:09Z"
        ],
        [
         75142,
         "2021-12-25T14:58:09Z",
         "on the way",
         "2021-12-27T10:58:52Z"
        ],
        [
         75142,
         "2021-12-25T14:58:09Z",
         "delivered",
         "2021-12-27T12:14:51Z"
        ],
        [
         75142,
         "2021-12-25T14:58:09Z",
         "preparing",
         "2021-12-28T20:32:34Z"
        ],
        [
         75143,
         "2021-12-25T15:05:35Z",
         "placed",
         "2021-12-25T15:05:35Z"
        ],
        [
         75143,
         "2021-12-25T15:05:35Z",
         "delivered",
         "2021-12-26T15:25:37Z"
        ],
        [
         75143,
         "2021-12-25T15:05:35Z",
         "preparing",
         "2021-12-26T18:19:40Z"
        ],
        [
         75143,
         "2021-12-25T15:05:35Z",
         "on the way",
         "2021-12-29T09:43:14Z"
        ],
        [
         75144,
         "2021-12-25T17:32:36Z",
         "placed",
         "2021-12-25T17:32:36Z"
        ],
        [
         75144,
         "2021-12-25T17:32:36Z",
         "delivered",
         "2021-12-27T00:35:14Z"
        ],
        [
         75144,
         "2021-12-25T17:32:36Z",
         "preparing",
         "2021-12-27T09:33:58Z"
        ],
        [
         75144,
         "2021-12-25T17:32:36Z",
         "on the way",
         "2021-12-29T02:01:15Z"
        ],
        [
         75145,
         "2021-12-25T17:40:27Z",
         "placed",
         "2021-12-25T17:40:27Z"
        ],
        [
         75145,
         "2021-12-25T17:40:27Z",
         "on the way",
         "2021-12-26T21:43:00Z"
        ],
        [
         75145,
         "2021-12-25T17:40:27Z",
         "delivered",
         "2021-12-27T22:51:07Z"
        ],
        [
         75145,
         "2021-12-25T17:40:27Z",
         "preparing",
         "2021-12-29T23:36:02Z"
        ],
        [
         75146,
         "2021-12-25T22:00:17Z",
         "placed",
         "2021-12-25T22:00:17Z"
        ],
        [
         75146,
         "2021-12-25T22:00:17Z",
         "preparing",
         "2021-12-27T15:01:05Z"
        ],
        [
         75146,
         "2021-12-25T22:00:17Z",
         "on the way",
         "2021-12-28T01:45:47Z"
        ],
        [
         75146,
         "2021-12-25T22:00:17Z",
         "reported shipping error",
         "2021-12-29T07:32:09Z"
        ],
        [
         75147,
         "2021-12-25T22:04:09Z",
         "placed",
         "2021-12-25T22:04:09Z"
        ],
        [
         75147,
         "2021-12-25T22:04:09Z",
         "delivered",
         "2021-12-27T03:57:00Z"
        ],
        [
         75147,
         "2021-12-25T22:04:09Z",
         "on the way",
         "2021-12-27T09:01:19Z"
        ],
        [
         75147,
         "2021-12-25T22:04:09Z",
         "preparing",
         "2021-12-29T19:01:43Z"
        ],
        [
         75148,
         "2021-12-25T22:15:11Z",
         "placed",
         "2021-12-25T22:15:11Z"
        ],
        [
         75148,
         "2021-12-25T22:15:11Z",
         "delivered",
         "2021-12-28T08:37:41Z"
        ],
        [
         75148,
         "2021-12-25T22:15:11Z",
         "preparing",
         "2021-12-28T16:58:27Z"
        ],
        [
         75148,
         "2021-12-25T22:15:11Z",
         "on the way",
         "2021-12-29T10:53:42Z"
        ],
        [
         75149,
         "2021-12-26T00:01:05Z",
         "placed",
         "2021-12-26T00:01:05Z"
        ],
        [
         75149,
         "2021-12-26T00:01:05Z",
         "preparing",
         "2021-12-27T05:39:14Z"
        ],
        [
         75149,
         "2021-12-26T00:01:05Z",
         "on the way",
         "2021-12-28T08:51:52Z"
        ],
        [
         75149,
         "2021-12-26T00:01:05Z",
         "delivered",
         "2021-12-28T19:49:10Z"
        ],
        [
         75150,
         "2021-12-26T00:52:17Z",
         "placed",
         "2021-12-26T00:52:17Z"
        ],
        [
         75150,
         "2021-12-26T00:52:17Z",
         "preparing",
         "2021-12-28T13:59:40Z"
        ],
        [
         75150,
         "2021-12-26T00:52:17Z",
         "delivered",
         "2021-12-28T17:53:34Z"
        ],
        [
         75150,
         "2021-12-26T00:52:17Z",
         "on the way",
         "2021-12-28T21:12:58Z"
        ],
        [
         75151,
         "2021-12-26T01:04:02Z",
         "placed",
         "2021-12-26T01:04:02Z"
        ],
        [
         75151,
         "2021-12-26T01:04:02Z",
         "preparing",
         "2021-12-27T01:08:32Z"
        ],
        [
         75151,
         "2021-12-26T01:04:02Z",
         "on the way",
         "2021-12-27T10:39:28Z"
        ],
        [
         75151,
         "2021-12-26T01:04:02Z",
         "return processed",
         "2021-12-27T18:42:20Z"
        ],
        [
         75151,
         "2021-12-26T01:04:02Z",
         "delivered",
         "2021-12-28T15:42:11Z"
        ],
        [
         75151,
         "2021-12-26T01:04:02Z",
         "return requested",
         "2021-12-29T22:31:26Z"
        ],
        [
         75151,
         "2021-12-26T01:04:02Z",
         "return picked up",
         "2021-12-30T16:53:28Z"
        ],
        [
         75152,
         "2021-12-26T03:28:37Z",
         "placed",
         "2021-12-26T03:28:37Z"
        ],
        [
         75152,
         "2021-12-26T03:28:37Z",
         "preparing",
         "2021-12-27T22:22:01Z"
        ],
        [
         75152,
         "2021-12-26T03:28:37Z",
         "delivered",
         "2021-12-28T00:01:49Z"
        ],
        [
         75152,
         "2021-12-26T03:28:37Z",
         "on the way",
         "2021-12-28T00:19:32Z"
        ],
        [
         75153,
         "2021-12-26T03:51:01Z",
         "placed",
         "2021-12-26T03:51:01Z"
        ],
        [
         75153,
         "2021-12-26T03:51:01Z",
         "preparing",
         "2021-12-27T19:33:58Z"
        ],
        [
         75153,
         "2021-12-26T03:51:01Z",
         "on the way",
         "2021-12-29T06:21:48Z"
        ],
        [
         75153,
         "2021-12-26T03:51:01Z",
         "delivered",
         "2021-12-30T11:30:33Z"
        ],
        [
         75154,
         "2021-12-26T04:12:33Z",
         "placed",
         "2021-12-26T04:12:33Z"
        ],
        [
         75154,
         "2021-12-26T04:12:33Z",
         "preparing",
         "2021-12-28T03:04:13Z"
        ],
        [
         75154,
         "2021-12-26T04:12:33Z",
         "on the way",
         "2021-12-28T10:28:36Z"
        ],
        [
         75154,
         "2021-12-26T04:12:33Z",
         "delivered",
         "2021-12-30T02:35:11Z"
        ],
        [
         75155,
         "2021-12-26T06:40:20Z",
         "placed",
         "2021-12-26T06:40:20Z"
        ],
        [
         75155,
         "2021-12-26T06:40:20Z",
         "on the way",
         "2021-12-27T10:33:43Z"
        ],
        [
         75155,
         "2021-12-26T06:40:20Z",
         "preparing",
         "2021-12-27T20:30:10Z"
        ],
        [
         75155,
         "2021-12-26T06:40:20Z",
         "delivered",
         "2021-12-28T00:51:32Z"
        ],
        [
         75156,
         "2021-12-26T08:19:28Z",
         "placed",
         "2021-12-26T08:19:28Z"
        ],
        [
         75156,
         "2021-12-26T08:19:28Z",
         "delivered",
         "2021-12-27T14:06:02Z"
        ],
        [
         75156,
         "2021-12-26T08:19:28Z",
         "preparing",
         "2021-12-29T17:08:19Z"
        ],
        [
         75156,
         "2021-12-26T08:19:28Z",
         "on the way",
         "2021-12-29T23:22:47Z"
        ],
        [
         75157,
         "2021-12-26T10:33:36Z",
         "placed",
         "2021-12-26T10:33:36Z"
        ],
        [
         75157,
         "2021-12-26T10:33:36Z",
         "preparing",
         "2021-12-28T10:49:12Z"
        ],
        [
         75157,
         "2021-12-26T10:33:36Z",
         "delivered",
         "2021-12-29T14:32:18Z"
        ],
        [
         75157,
         "2021-12-26T10:33:36Z",
         "on the way",
         "2021-12-30T07:02:08Z"
        ],
        [
         75158,
         "2021-12-26T11:07:47Z",
         "placed",
         "2021-12-26T11:07:47Z"
        ],
        [
         75158,
         "2021-12-26T11:07:47Z",
         "preparing",
         "2021-12-27T19:31:44Z"
        ],
        [
         75158,
         "2021-12-26T11:07:47Z",
         "delivered",
         "2021-12-28T02:24:38Z"
        ],
        [
         75158,
         "2021-12-26T11:07:47Z",
         "on the way",
         "2021-12-28T22:37:49Z"
        ],
        [
         75159,
         "2021-12-26T11:08:33Z",
         "placed",
         "2021-12-26T11:08:33Z"
        ],
        [
         75159,
         "2021-12-26T11:08:33Z",
         "delivered",
         "2021-12-28T00:46:08Z"
        ],
        [
         75159,
         "2021-12-26T11:08:33Z",
         "on the way",
         "2021-12-28T23:23:26Z"
        ],
        [
         75159,
         "2021-12-26T11:08:33Z",
         "preparing",
         "2021-12-29T03:29:20Z"
        ],
        [
         75160,
         "2021-12-26T11:18:12Z",
         "placed",
         "2021-12-26T11:18:12Z"
        ],
        [
         75160,
         "2021-12-26T11:18:12Z",
         "delivered",
         "2021-12-28T01:56:14Z"
        ],
        [
         75160,
         "2021-12-26T11:18:12Z",
         "preparing",
         "2021-12-28T21:42:47Z"
        ],
        [
         75160,
         "2021-12-26T11:18:12Z",
         "on the way",
         "2021-12-28T23:09:48Z"
        ],
        [
         75161,
         "2021-12-26T12:21:34Z",
         "placed",
         "2021-12-26T12:21:34Z"
        ],
        [
         75161,
         "2021-12-26T12:21:34Z",
         "on the way",
         "2021-12-27T18:24:27Z"
        ],
        [
         75161,
         "2021-12-26T12:21:34Z",
         "delivered",
         "2021-12-27T18:30:30Z"
        ],
        [
         75161,
         "2021-12-26T12:21:34Z",
         "preparing",
         "2021-12-28T01:00:42Z"
        ],
        [
         75162,
         "2021-12-26T13:47:45Z",
         "placed",
         "2021-12-26T13:47:45Z"
        ],
        [
         75162,
         "2021-12-26T13:47:45Z",
         "preparing",
         "2021-12-29T01:36:07Z"
        ],
        [
         75162,
         "2021-12-26T13:47:45Z",
         "canceled",
         "2021-12-30T11:07:43Z"
        ],
        [
         75163,
         "2021-12-26T13:48:05Z",
         "placed",
         "2021-12-26T13:48:05Z"
        ],
        [
         75163,
         "2021-12-26T13:48:05Z",
         "delivered",
         "2021-12-28T04:28:17Z"
        ],
        [
         75163,
         "2021-12-26T13:48:05Z",
         "preparing",
         "2021-12-28T14:52:00Z"
        ],
        [
         75163,
         "2021-12-26T13:48:05Z",
         "on the way",
         "2021-12-30T19:31:20Z"
        ],
        [
         75164,
         "2021-12-26T13:54:20Z",
         "placed",
         "2021-12-26T13:54:20Z"
        ],
        [
         75164,
         "2021-12-26T13:54:20Z",
         "on the way",
         "2021-12-28T17:44:29Z"
        ],
        [
         75164,
         "2021-12-26T13:54:20Z",
         "preparing",
         "2021-12-29T09:11:20Z"
        ],
        [
         75164,
         "2021-12-26T13:54:20Z",
         "delivered",
         "2021-12-30T08:27:21Z"
        ],
        [
         75165,
         "2021-12-26T15:33:04Z",
         "placed",
         "2021-12-26T15:33:04Z"
        ],
        [
         75165,
         "2021-12-26T15:33:04Z",
         "on the way",
         "2021-12-27T19:43:50Z"
        ],
        [
         75165,
         "2021-12-26T15:33:04Z",
         "preparing",
         "2021-12-27T22:03:22Z"
        ],
        [
         75165,
         "2021-12-26T15:33:04Z",
         "delivered",
         "2021-12-29T03:33:14Z"
        ],
        [
         75166,
         "2021-12-26T15:53:20Z",
         "placed",
         "2021-12-26T15:53:20Z"
        ],
        [
         75166,
         "2021-12-26T15:53:20Z",
         "return processed",
         "2021-12-27T17:52:04Z"
        ],
        [
         75166,
         "2021-12-26T15:53:20Z",
         "return requested",
         "2021-12-27T22:09:11Z"
        ],
        [
         75166,
         "2021-12-26T15:53:20Z",
         "preparing",
         "2021-12-28T06:16:23Z"
        ],
        [
         75166,
         "2021-12-26T15:53:20Z",
         "delivered",
         "2021-12-29T20:05:15Z"
        ],
        [
         75166,
         "2021-12-26T15:53:20Z",
         "on the way",
         "2021-12-30T21:27:18Z"
        ],
        [
         75166,
         "2021-12-26T15:53:20Z",
         "return picked up",
         "2021-12-31T18:32:42Z"
        ],
        [
         75167,
         "2021-12-26T16:05:21Z",
         "placed",
         "2021-12-26T16:05:21Z"
        ],
        [
         75167,
         "2021-12-26T16:05:21Z",
         "preparing",
         "2021-12-28T10:04:15Z"
        ],
        [
         75167,
         "2021-12-26T16:05:21Z",
         "delivered",
         "2021-12-30T21:23:59Z"
        ],
        [
         75167,
         "2021-12-26T16:05:21Z",
         "on the way",
         "2021-12-30T22:51:44Z"
        ],
        [
         75168,
         "2021-12-26T19:47:33Z",
         "placed",
         "2021-12-26T19:47:33Z"
        ],
        [
         75168,
         "2021-12-26T19:47:33Z",
         "preparing",
         "2021-12-28T07:14:03Z"
        ],
        [
         75168,
         "2021-12-26T19:47:33Z",
         "delivered",
         "2021-12-29T16:03:23Z"
        ],
        [
         75168,
         "2021-12-26T19:47:33Z",
         "on the way",
         "2021-12-29T23:25:51Z"
        ],
        [
         75169,
         "2021-12-26T19:56:50Z",
         "placed",
         "2021-12-26T19:56:50Z"
        ],
        [
         75169,
         "2021-12-26T19:56:50Z",
         "on the way",
         "2021-12-29T04:52:32Z"
        ],
        [
         75169,
         "2021-12-26T19:56:50Z",
         "preparing",
         "2021-12-29T17:23:10Z"
        ],
        [
         75169,
         "2021-12-26T19:56:50Z",
         "delivered",
         "2021-12-31T09:14:50Z"
        ],
        [
         75170,
         "2021-12-26T20:00:46Z",
         "placed",
         "2021-12-26T20:00:46Z"
        ],
        [
         75170,
         "2021-12-26T20:00:46Z",
         "preparing",
         "2021-12-30T14:09:07Z"
        ],
        [
         75170,
         "2021-12-26T20:00:46Z",
         "canceled",
         "2021-12-30T16:53:26Z"
        ],
        [
         75171,
         "2021-12-26T20:54:03Z",
         "placed",
         "2021-12-26T20:54:03Z"
        ],
        [
         75171,
         "2021-12-26T20:54:03Z",
         "return picked up",
         "2021-12-28T14:15:03Z"
        ],
        [
         75171,
         "2021-12-26T20:54:03Z",
         "return processed",
         "2021-12-28T16:27:30Z"
        ],
        [
         75171,
         "2021-12-26T20:54:03Z",
         "return requested",
         "2021-12-28T19:34:56Z"
        ],
        [
         75171,
         "2021-12-26T20:54:03Z",
         "delivered",
         "2021-12-29T01:47:01Z"
        ],
        [
         75171,
         "2021-12-26T20:54:03Z",
         "on the way",
         "2021-12-29T05:48:47Z"
        ],
        [
         75171,
         "2021-12-26T20:54:03Z",
         "preparing",
         "2021-12-30T19:43:45Z"
        ],
        [
         75172,
         "2021-12-26T20:55:12Z",
         "placed",
         "2021-12-26T20:55:12Z"
        ],
        [
         75172,
         "2021-12-26T20:55:12Z",
         "preparing",
         "2021-12-27T23:57:02Z"
        ],
        [
         75172,
         "2021-12-26T20:55:12Z",
         "on the way",
         "2021-12-29T22:08:34Z"
        ],
        [
         75172,
         "2021-12-26T20:55:12Z",
         "delivered",
         "2021-12-30T13:13:12Z"
        ],
        [
         75173,
         "2021-12-26T21:26:21Z",
         "placed",
         "2021-12-26T21:26:21Z"
        ],
        [
         75173,
         "2021-12-26T21:26:21Z",
         "preparing",
         "2021-12-27T23:22:36Z"
        ],
        [
         75173,
         "2021-12-26T21:26:21Z",
         "return requested",
         "2021-12-28T11:44:34Z"
        ],
        [
         75173,
         "2021-12-26T21:26:21Z",
         "delivered",
         "2021-12-29T01:41:49Z"
        ],
        [
         75173,
         "2021-12-26T21:26:21Z",
         "return processed",
         "2021-12-29T14:12:17Z"
        ],
        [
         75173,
         "2021-12-26T21:26:21Z",
         "on the way",
         "2021-12-30T02:45:17Z"
        ],
        [
         75173,
         "2021-12-26T21:26:21Z",
         "return picked up",
         "2021-12-30T23:39:26Z"
        ],
        [
         75174,
         "2021-12-27T00:14:40Z",
         "placed",
         "2021-12-27T00:14:40Z"
        ],
        [
         75174,
         "2021-12-27T00:14:40Z",
         "preparing",
         "2021-12-29T19:01:52Z"
        ],
        [
         75174,
         "2021-12-27T00:14:40Z",
         "on the way",
         "2021-12-30T08:31:20Z"
        ],
        [
         75174,
         "2021-12-27T00:14:40Z",
         "delivered",
         "2021-12-31T08:56:13Z"
        ],
        [
         75175,
         "2021-12-27T01:17:27Z",
         "placed",
         "2021-12-27T01:17:27Z"
        ],
        [
         75175,
         "2021-12-27T01:17:27Z",
         "delivered",
         "2021-12-29T04:33:29Z"
        ],
        [
         75175,
         "2021-12-27T01:17:27Z",
         "preparing",
         "2021-12-29T07:28:04Z"
        ],
        [
         75175,
         "2021-12-27T01:17:27Z",
         "on the way",
         "2021-12-29T22:27:36Z"
        ],
        [
         75176,
         "2021-12-27T01:37:40Z",
         "placed",
         "2021-12-27T01:37:40Z"
        ],
        [
         75176,
         "2021-12-27T01:37:40Z",
         "canceled",
         "2021-12-28T19:12:49Z"
        ],
        [
         75176,
         "2021-12-27T01:37:40Z",
         "preparing",
         "2021-12-30T13:19:28Z"
        ],
        [
         75177,
         "2021-12-27T03:09:13Z",
         "placed",
         "2021-12-27T03:09:13Z"
        ],
        [
         75177,
         "2021-12-27T03:09:13Z",
         "preparing",
         "2021-12-29T10:46:39Z"
        ],
        [
         75177,
         "2021-12-27T03:09:13Z",
         "on the way",
         "2021-12-29T19:52:51Z"
        ],
        [
         75177,
         "2021-12-27T03:09:13Z",
         "delivered",
         "2021-12-30T06:49:45Z"
        ],
        [
         75178,
         "2021-12-27T03:21:14Z",
         "placed",
         "2021-12-27T03:21:14Z"
        ],
        [
         75178,
         "2021-12-27T03:21:14Z",
         "delivered",
         "2021-12-29T00:08:49Z"
        ],
        [
         75178,
         "2021-12-27T03:21:14Z",
         "on the way",
         "2021-12-29T11:31:07Z"
        ],
        [
         75178,
         "2021-12-27T03:21:14Z",
         "preparing",
         "2021-12-30T09:51:45Z"
        ],
        [
         75179,
         "2021-12-27T03:32:42Z",
         "placed",
         "2021-12-27T03:32:42Z"
        ],
        [
         75179,
         "2021-12-27T03:32:42Z",
         "delivered",
         "2021-12-28T12:05:17Z"
        ],
        [
         75179,
         "2021-12-27T03:32:42Z",
         "preparing",
         "2021-12-28T15:35:29Z"
        ],
        [
         75179,
         "2021-12-27T03:32:42Z",
         "on the way",
         "2021-12-30T09:04:38Z"
        ],
        [
         75180,
         "2021-12-27T04:40:49Z",
         "placed",
         "2021-12-27T04:40:49Z"
        ],
        [
         75180,
         "2021-12-27T04:40:49Z",
         "reported shipping error",
         "2021-12-28T22:52:32Z"
        ],
        [
         75180,
         "2021-12-27T04:40:49Z",
         "preparing",
         "2021-12-29T13:35:49Z"
        ],
        [
         75180,
         "2021-12-27T04:40:49Z",
         "on the way",
         "2021-12-30T12:46:54Z"
        ],
        [
         75181,
         "2021-12-27T05:15:40Z",
         "placed",
         "2021-12-27T05:15:40Z"
        ],
        [
         75181,
         "2021-12-27T05:15:40Z",
         "delivered",
         "2021-12-28T16:49:12Z"
        ],
        [
         75181,
         "2021-12-27T05:15:40Z",
         "on the way",
         "2021-12-29T18:17:18Z"
        ],
        [
         75181,
         "2021-12-27T05:15:40Z",
         "preparing",
         "2021-12-30T03:46:25Z"
        ],
        [
         75182,
         "2021-12-27T06:45:36Z",
         "placed",
         "2021-12-27T06:45:36Z"
        ],
        [
         75182,
         "2021-12-27T06:45:36Z",
         "preparing",
         "2021-12-29T12:13:14Z"
        ],
        [
         75182,
         "2021-12-27T06:45:36Z",
         "delivered",
         "2021-12-30T12:05:41Z"
        ],
        [
         75183,
         "2021-12-27T08:33:37Z",
         "placed",
         "2021-12-27T08:33:37Z"
        ],
        [
         75183,
         "2021-12-27T08:33:37Z",
         "delivered",
         "2021-12-28T16:53:22Z"
        ],
        [
         75183,
         "2021-12-27T08:33:37Z",
         "preparing",
         "2021-12-28T18:40:11Z"
        ],
        [
         75183,
         "2021-12-27T08:33:37Z",
         "on the way",
         "2021-12-29T17:46:47Z"
        ],
        [
         75184,
         "2021-12-27T11:07:28Z",
         "placed",
         "2021-12-27T11:07:28Z"
        ],
        [
         75184,
         "2021-12-27T11:07:28Z",
         "delivered",
         "2021-12-29T07:48:26Z"
        ],
        [
         75184,
         "2021-12-27T11:07:28Z",
         "preparing",
         "2021-12-31T09:51:04Z"
        ],
        [
         75185,
         "2021-12-27T13:26:31Z",
         "placed",
         "2021-12-27T13:26:31Z"
        ],
        [
         75185,
         "2021-12-27T13:26:31Z",
         "delivered",
         "2021-12-28T21:34:53Z"
        ],
        [
         75185,
         "2021-12-27T13:26:31Z",
         "return requested",
         "2021-12-29T19:28:28Z"
        ],
        [
         75185,
         "2021-12-27T13:26:31Z",
         "return canceled",
         "2021-12-29T20:17:03Z"
        ],
        [
         75185,
         "2021-12-27T13:26:31Z",
         "preparing",
         "2021-12-30T06:34:54Z"
        ],
        [
         75185,
         "2021-12-27T13:26:31Z",
         "on the way",
         "2021-12-30T17:51:39Z"
        ],
        [
         75186,
         "2021-12-27T13:50:10Z",
         "placed",
         "2021-12-27T13:50:10Z"
        ],
        [
         75186,
         "2021-12-27T13:50:10Z",
         "delivered",
         "2021-12-28T23:51:01Z"
        ],
        [
         75186,
         "2021-12-27T13:50:10Z",
         "on the way",
         "2021-12-31T00:32:24Z"
        ],
        [
         75186,
         "2021-12-27T13:50:10Z",
         "preparing",
         "2021-12-31T01:45:27Z"
        ],
        [
         75187,
         "2021-12-27T15:29:36Z",
         "placed",
         "2021-12-27T15:29:36Z"
        ],
        [
         75187,
         "2021-12-27T15:29:36Z",
         "return canceled",
         "2021-12-28T20:50:34Z"
        ],
        [
         75187,
         "2021-12-27T15:29:36Z",
         "on the way",
         "2021-12-29T18:09:44Z"
        ],
        [
         75187,
         "2021-12-27T15:29:36Z",
         "return requested",
         "2021-12-29T22:20:02Z"
        ],
        [
         75187,
         "2021-12-27T15:29:36Z",
         "preparing",
         "2021-12-29T22:46:55Z"
        ],
        [
         75187,
         "2021-12-27T15:29:36Z",
         "delivered",
         "2021-12-30T03:49:02Z"
        ],
        [
         75188,
         "2021-12-27T16:00:53Z",
         "placed",
         "2021-12-27T16:00:53Z"
        ],
        [
         75188,
         "2021-12-27T16:00:53Z",
         "on the way",
         "2021-12-29T08:51:56Z"
        ],
        [
         75188,
         "2021-12-27T16:00:53Z",
         "delivered",
         "2021-12-29T19:25:31Z"
        ],
        [
         75188,
         "2021-12-27T16:00:53Z",
         "preparing",
         "2021-12-30T02:56:22Z"
        ],
        [
         75189,
         "2021-12-27T17:13:34Z",
         "placed",
         "2021-12-27T17:13:34Z"
        ],
        [
         75189,
         "2021-12-27T17:13:34Z",
         "preparing",
         "2021-12-29T04:35:06Z"
        ],
        [
         75189,
         "2021-12-27T17:13:34Z",
         "on the way",
         "2021-12-30T06:14:23Z"
        ],
        [
         75189,
         "2021-12-27T17:13:34Z",
         "delivered",
         "2021-12-31T02:46:22Z"
        ],
        [
         75190,
         "2021-12-27T17:15:22Z",
         "placed",
         "2021-12-27T17:15:22Z"
        ],
        [
         75190,
         "2021-12-27T17:15:22Z",
         "delivered",
         "2021-12-28T23:53:36Z"
        ],
        [
         75190,
         "2021-12-27T17:15:22Z",
         "on the way",
         "2021-12-29T14:07:04Z"
        ],
        [
         75190,
         "2021-12-27T17:15:22Z",
         "preparing",
         "2021-12-30T02:26:10Z"
        ],
        [
         75191,
         "2021-12-27T17:19:57Z",
         "placed",
         "2021-12-27T17:19:57Z"
        ],
        [
         75191,
         "2021-12-27T17:19:57Z",
         "preparing",
         "2021-12-28T22:15:05Z"
        ],
        [
         75191,
         "2021-12-27T17:19:57Z",
         "canceled",
         "2021-12-30T22:03:40Z"
        ],
        [
         75192,
         "2021-12-27T19:03:51Z",
         "placed",
         "2021-12-27T19:03:51Z"
        ],
        [
         75192,
         "2021-12-27T19:03:51Z",
         "delivered",
         "2021-12-28T21:05:53Z"
        ],
        [
         75192,
         "2021-12-27T19:03:51Z",
         "return processed",
         "2021-12-29T05:27:37Z"
        ],
        [
         75192,
         "2021-12-27T19:03:51Z",
         "return picked up",
         "2021-12-29T14:43:17Z"
        ],
        [
         75192,
         "2021-12-27T19:03:51Z",
         "preparing",
         "2021-12-29T15:22:48Z"
        ],
        [
         75192,
         "2021-12-27T19:03:51Z",
         "on the way",
         "2021-12-30T00:34:25Z"
        ],
        [
         75192,
         "2021-12-27T19:03:51Z",
         "return requested",
         "2021-12-30T15:26:28Z"
        ],
        [
         75193,
         "2021-12-27T19:04:09Z",
         "placed",
         "2021-12-27T19:04:09Z"
        ],
        [
         75193,
         "2021-12-27T19:04:09Z",
         "delivered",
         "2021-12-30T06:34:13Z"
        ],
        [
         75193,
         "2021-12-27T19:04:09Z",
         "preparing",
         "2021-12-30T08:38:16Z"
        ],
        [
         75193,
         "2021-12-27T19:04:09Z",
         "on the way",
         "2021-12-30T14:58:22Z"
        ],
        [
         75194,
         "2021-12-27T19:29:37Z",
         "placed",
         "2021-12-27T19:29:37Z"
        ],
        [
         75194,
         "2021-12-27T19:29:37Z",
         "preparing",
         "2021-12-29T23:28:11Z"
        ],
        [
         75194,
         "2021-12-27T19:29:37Z",
         "on the way",
         "2021-12-31T12:58:10Z"
        ],
        [
         75195,
         "2021-12-27T20:39:48Z",
         "placed",
         "2021-12-27T20:39:48Z"
        ],
        [
         75195,
         "2021-12-27T20:39:48Z",
         "on the way",
         "2021-12-29T05:34:41Z"
        ],
        [
         75195,
         "2021-12-27T20:39:48Z",
         "preparing",
         "2021-12-29T06:10:59Z"
        ],
        [
         75195,
         "2021-12-27T20:39:48Z",
         "delivered",
         "2021-12-29T07:45:01Z"
        ],
        [
         75196,
         "2021-12-27T22:07:22Z",
         "placed",
         "2021-12-27T22:07:22Z"
        ],
        [
         75196,
         "2021-12-27T22:07:22Z",
         "on the way",
         "2021-12-29T04:19:31Z"
        ],
        [
         75196,
         "2021-12-27T22:07:22Z",
         "delivered",
         "2021-12-30T00:17:11Z"
        ],
        [
         75196,
         "2021-12-27T22:07:22Z",
         "return requested",
         "2021-12-30T22:21:54Z"
        ],
        [
         75196,
         "2021-12-27T22:07:22Z",
         "preparing",
         "2021-12-31T14:01:44Z"
        ],
        [
         75196,
         "2021-12-27T22:07:22Z",
         "return processed",
         "2021-12-31T15:22:38Z"
        ],
        [
         75196,
         "2021-12-27T22:07:22Z",
         "return picked up",
         "2021-12-31T17:12:58Z"
        ],
        [
         75197,
         "2021-12-27T22:13:44Z",
         "placed",
         "2021-12-27T22:13:44Z"
        ],
        [
         75197,
         "2021-12-27T22:13:44Z",
         "preparing",
         "2021-12-28T23:09:59Z"
        ],
        [
         75197,
         "2021-12-27T22:13:44Z",
         "delivered",
         "2021-12-29T13:18:28Z"
        ],
        [
         75197,
         "2021-12-27T22:13:44Z",
         "on the way",
         "2021-12-30T19:31:07Z"
        ],
        [
         75198,
         "2021-12-27T22:22:01Z",
         "placed",
         "2021-12-27T22:22:01Z"
        ],
        [
         75198,
         "2021-12-27T22:22:01Z",
         "delivered",
         "2021-12-29T02:36:11Z"
        ],
        [
         75198,
         "2021-12-27T22:22:01Z",
         "preparing",
         "2021-12-30T00:48:13Z"
        ],
        [
         75198,
         "2021-12-27T22:22:01Z",
         "on the way",
         "2021-12-30T20:33:16Z"
        ],
        [
         75199,
         "2021-12-28T01:04:41Z",
         "placed",
         "2021-12-28T01:04:41Z"
        ],
        [
         75199,
         "2021-12-28T01:04:41Z",
         "delivered",
         "2021-12-29T01:55:39Z"
        ],
        [
         75199,
         "2021-12-28T01:04:41Z",
         "preparing",
         "2021-12-29T16:49:51Z"
        ],
        [
         75199,
         "2021-12-28T01:04:41Z",
         "on the way",
         "2021-12-30T02:06:07Z"
        ],
        [
         75200,
         "2021-12-28T03:04:21Z",
         "placed",
         "2021-12-28T03:04:21Z"
        ],
        [
         75200,
         "2021-12-28T03:04:21Z",
         "preparing",
         "2021-12-29T03:12:43Z"
        ],
        [
         75200,
         "2021-12-28T03:04:21Z",
         "delivered",
         "2021-12-29T09:29:01Z"
        ],
        [
         75200,
         "2021-12-28T03:04:21Z",
         "on the way",
         "2021-12-29T19:25:21Z"
        ],
        [
         75201,
         "2021-12-28T04:17:09Z",
         "placed",
         "2021-12-28T04:17:09Z"
        ],
        [
         75201,
         "2021-12-28T04:17:09Z",
         "preparing",
         "2021-12-29T13:58:54Z"
        ],
        [
         75201,
         "2021-12-28T04:17:09Z",
         "on the way",
         "2021-12-30T10:00:45Z"
        ],
        [
         75202,
         "2021-12-28T04:31:08Z",
         "placed",
         "2021-12-28T04:31:08Z"
        ],
        [
         75202,
         "2021-12-28T04:31:08Z",
         "canceled",
         "2021-12-29T18:06:08Z"
        ],
        [
         75202,
         "2021-12-28T04:31:08Z",
         "preparing",
         "2021-12-30T09:39:44Z"
        ],
        [
         75203,
         "2021-12-28T04:32:51Z",
         "placed",
         "2021-12-28T04:32:51Z"
        ],
        [
         75203,
         "2021-12-28T04:32:51Z",
         "canceled",
         "2021-12-29T19:43:27Z"
        ],
        [
         75204,
         "2021-12-28T06:00:32Z",
         "placed",
         "2021-12-28T06:00:32Z"
        ],
        [
         75204,
         "2021-12-28T06:00:32Z",
         "preparing",
         "2021-12-29T16:42:20Z"
        ],
        [
         75204,
         "2021-12-28T06:00:32Z",
         "on the way",
         "2021-12-29T16:57:12Z"
        ],
        [
         75204,
         "2021-12-28T06:00:32Z",
         "delivered",
         "2021-12-30T22:06:17Z"
        ],
        [
         75205,
         "2021-12-28T06:14:23Z",
         "placed",
         "2021-12-28T06:14:23Z"
        ],
        [
         75205,
         "2021-12-28T06:14:23Z",
         "delivered",
         "2021-12-29T20:34:37Z"
        ],
        [
         75205,
         "2021-12-28T06:14:23Z",
         "preparing",
         "2021-12-30T01:02:44Z"
        ],
        [
         75206,
         "2021-12-28T07:14:27Z",
         "placed",
         "2021-12-28T07:14:27Z"
        ],
        [
         75206,
         "2021-12-28T07:14:27Z",
         "on the way",
         "2021-12-29T21:15:40Z"
        ],
        [
         75206,
         "2021-12-28T07:14:27Z",
         "delivered",
         "2021-12-31T03:54:00Z"
        ],
        [
         75206,
         "2021-12-28T07:14:27Z",
         "preparing",
         "2021-12-31T19:48:38Z"
        ],
        [
         75207,
         "2021-12-28T07:14:47Z",
         "placed",
         "2021-12-28T07:14:47Z"
        ],
        [
         75207,
         "2021-12-28T07:14:47Z",
         "delivered",
         "2021-12-30T10:27:21Z"
        ],
        [
         75207,
         "2021-12-28T07:14:47Z",
         "preparing",
         "2021-12-30T22:56:48Z"
        ],
        [
         75208,
         "2021-12-28T07:54:46Z",
         "placed",
         "2021-12-28T07:54:46Z"
        ],
        [
         75208,
         "2021-12-28T07:54:46Z",
         "on the way",
         "2021-12-30T12:48:32Z"
        ],
        [
         75208,
         "2021-12-28T07:54:46Z",
         "preparing",
         "2021-12-30T20:14:12Z"
        ],
        [
         75208,
         "2021-12-28T07:54:46Z",
         "delivered",
         "2021-12-31T16:27:02Z"
        ],
        [
         75209,
         "2021-12-28T08:44:24Z",
         "placed",
         "2021-12-28T08:44:24Z"
        ],
        [
         75209,
         "2021-12-28T08:44:24Z",
         "on the way",
         "2021-12-29T12:34:35Z"
        ],
        [
         75209,
         "2021-12-28T08:44:24Z",
         "delivered",
         "2021-12-30T05:43:15Z"
        ],
        [
         75210,
         "2021-12-28T09:14:40Z",
         "placed",
         "2021-12-28T09:14:40Z"
        ],
        [
         75210,
         "2021-12-28T09:14:40Z",
         "on the way",
         "2021-12-31T01:40:06Z"
        ],
        [
         75210,
         "2021-12-28T09:14:40Z",
         "preparing",
         "2021-12-31T04:26:20Z"
        ],
        [
         75211,
         "2021-12-28T09:49:04Z",
         "placed",
         "2021-12-28T09:49:04Z"
        ],
        [
         75211,
         "2021-12-28T09:49:04Z",
         "on the way",
         "2021-12-31T07:17:45Z"
        ],
        [
         75212,
         "2021-12-28T11:25:06Z",
         "placed",
         "2021-12-28T11:25:06Z"
        ],
        [
         75212,
         "2021-12-28T11:25:06Z",
         "reported shipping error",
         "2021-12-30T18:16:29Z"
        ],
        [
         75212,
         "2021-12-28T11:25:06Z",
         "preparing",
         "2021-12-30T18:31:46Z"
        ],
        [
         75212,
         "2021-12-28T11:25:06Z",
         "on the way",
         "2021-12-31T19:32:45Z"
        ],
        [
         75213,
         "2021-12-28T11:36:08Z",
         "placed",
         "2021-12-28T11:36:08Z"
        ],
        [
         75213,
         "2021-12-28T11:36:08Z",
         "delivered",
         "2021-12-29T19:45:06Z"
        ],
        [
         75213,
         "2021-12-28T11:36:08Z",
         "preparing",
         "2021-12-31T06:32:35Z"
        ],
        [
         75213,
         "2021-12-28T11:36:08Z",
         "on the way",
         "2021-12-31T18:37:15Z"
        ],
        [
         75214,
         "2021-12-28T11:40:34Z",
         "placed",
         "2021-12-28T11:40:34Z"
        ],
        [
         75214,
         "2021-12-28T11:40:34Z",
         "on the way",
         "2021-12-29T14:42:30Z"
        ],
        [
         75214,
         "2021-12-28T11:40:34Z",
         "return requested",
         "2021-12-30T06:25:40Z"
        ],
        [
         75214,
         "2021-12-28T11:40:34Z",
         "preparing",
         "2021-12-30T13:45:30Z"
        ],
        [
         75214,
         "2021-12-28T11:40:34Z",
         "return canceled",
         "2021-12-31T18:18:04Z"
        ],
        [
         75215,
         "2021-12-28T13:01:05Z",
         "placed",
         "2021-12-28T13:01:05Z"
        ],
        [
         75215,
         "2021-12-28T13:01:05Z",
         "return picked up",
         "2021-12-29T21:25:44Z"
        ],
        [
         75215,
         "2021-12-28T13:01:05Z",
         "on the way",
         "2021-12-30T11:23:22Z"
        ],
        [
         75215,
         "2021-12-28T13:01:05Z",
         "return processed",
         "2021-12-31T05:58:24Z"
        ],
        [
         75215,
         "2021-12-28T13:01:05Z",
         "return requested",
         "2021-12-31T09:48:46Z"
        ],
        [
         75216,
         "2021-12-28T15:52:48Z",
         "placed",
         "2021-12-28T15:52:48Z"
        ],
        [
         75216,
         "2021-12-28T15:52:48Z",
         "delivered",
         "2021-12-29T15:53:23Z"
        ],
        [
         75217,
         "2021-12-28T18:53:25Z",
         "placed",
         "2021-12-28T18:53:25Z"
        ],
        [
         75217,
         "2021-12-28T18:53:25Z",
         "preparing",
         "2021-12-30T07:14:31Z"
        ],
        [
         75217,
         "2021-12-28T18:53:25Z",
         "reported shipping error",
         "2021-12-30T10:34:21Z"
        ],
        [
         75217,
         "2021-12-28T18:53:25Z",
         "on the way",
         "2021-12-30T20:06:29Z"
        ],
        [
         75218,
         "2021-12-28T20:05:08Z",
         "placed",
         "2021-12-28T20:05:08Z"
        ],
        [
         75218,
         "2021-12-28T20:05:08Z",
         "delivered",
         "2021-12-30T04:21:37Z"
        ],
        [
         75218,
         "2021-12-28T20:05:08Z",
         "preparing",
         "2021-12-31T09:38:47Z"
        ],
        [
         75218,
         "2021-12-28T20:05:08Z",
         "on the way",
         "2021-12-31T13:48:50Z"
        ],
        [
         75219,
         "2021-12-28T21:06:06Z",
         "placed",
         "2021-12-28T21:06:06Z"
        ],
        [
         75219,
         "2021-12-28T21:06:06Z",
         "preparing",
         "2021-12-30T11:59:39Z"
        ],
        [
         75219,
         "2021-12-28T21:06:06Z",
         "on the way",
         "2021-12-30T21:21:30Z"
        ],
        [
         75219,
         "2021-12-28T21:06:06Z",
         "delivered",
         "2021-12-31T03:29:12Z"
        ],
        [
         75220,
         "2021-12-28T21:28:17Z",
         "placed",
         "2021-12-28T21:28:17Z"
        ],
        [
         75220,
         "2021-12-28T21:28:17Z",
         "on the way",
         "2021-12-30T16:21:30Z"
        ],
        [
         75220,
         "2021-12-28T21:28:17Z",
         "preparing",
         "2021-12-31T04:24:25Z"
        ],
        [
         75221,
         "2021-12-28T22:34:41Z",
         "placed",
         "2021-12-28T22:34:41Z"
        ],
        [
         75221,
         "2021-12-28T22:34:41Z",
         "on the way",
         "2021-12-31T06:24:35Z"
        ],
        [
         75221,
         "2021-12-28T22:34:41Z",
         "delivered",
         "2021-12-31T20:29:34Z"
        ],
        [
         75222,
         "2021-12-28T22:44:03Z",
         "placed",
         "2021-12-28T22:44:03Z"
        ],
        [
         75222,
         "2021-12-28T22:44:03Z",
         "on the way",
         "2021-12-29T23:33:30Z"
        ],
        [
         75222,
         "2021-12-28T22:44:03Z",
         "delivered",
         "2021-12-30T01:57:20Z"
        ],
        [
         75222,
         "2021-12-28T22:44:03Z",
         "preparing",
         "2021-12-31T10:41:26Z"
        ],
        [
         75223,
         "2021-12-28T22:58:01Z",
         "placed",
         "2021-12-28T22:58:01Z"
        ],
        [
         75223,
         "2021-12-28T22:58:01Z",
         "on the way",
         "2021-12-31T09:11:24Z"
        ],
        [
         75224,
         "2021-12-29T00:31:51Z",
         "placed",
         "2021-12-29T00:31:51Z"
        ],
        [
         75224,
         "2021-12-29T00:31:51Z",
         "delivered",
         "2021-12-31T10:10:25Z"
        ],
        [
         75224,
         "2021-12-29T00:31:51Z",
         "preparing",
         "2021-12-31T17:48:02Z"
        ],
        [
         75224,
         "2021-12-29T00:31:51Z",
         "on the way",
         "2021-12-31T19:46:13Z"
        ],
        [
         75225,
         "2021-12-29T01:37:39Z",
         "placed",
         "2021-12-29T01:37:39Z"
        ],
        [
         75225,
         "2021-12-29T01:37:39Z",
         "delivered",
         "2021-12-31T09:24:53Z"
        ],
        [
         75225,
         "2021-12-29T01:37:39Z",
         "on the way",
         "2021-12-31T14:26:50Z"
        ],
        [
         75226,
         "2021-12-29T02:04:21Z",
         "placed",
         "2021-12-29T02:04:21Z"
        ],
        [
         75226,
         "2021-12-29T02:04:21Z",
         "canceled",
         "2021-12-31T21:15:59Z"
        ],
        [
         75227,
         "2021-12-29T02:15:38Z",
         "placed",
         "2021-12-29T02:15:38Z"
        ],
        [
         75227,
         "2021-12-29T02:15:38Z",
         "preparing",
         "2021-12-30T04:05:15Z"
        ],
        [
         75227,
         "2021-12-29T02:15:38Z",
         "on the way",
         "2021-12-30T22:27:48Z"
        ],
        [
         75228,
         "2021-12-29T02:38:56Z",
         "placed",
         "2021-12-29T02:38:56Z"
        ],
        [
         75228,
         "2021-12-29T02:38:56Z",
         "on the way",
         "2021-12-31T03:12:50Z"
        ],
        [
         75228,
         "2021-12-29T02:38:56Z",
         "delivered",
         "2021-12-31T16:54:54Z"
        ],
        [
         75229,
         "2021-12-29T02:45:39Z",
         "placed",
         "2021-12-29T02:45:39Z"
        ],
        [
         75229,
         "2021-12-29T02:45:39Z",
         "preparing",
         "2021-12-30T06:31:43Z"
        ],
        [
         75229,
         "2021-12-29T02:45:39Z",
         "on the way",
         "2021-12-30T16:28:37Z"
        ],
        [
         75229,
         "2021-12-29T02:45:39Z",
         "delivered",
         "2021-12-31T08:57:11Z"
        ],
        [
         75230,
         "2021-12-29T04:23:09Z",
         "placed",
         "2021-12-29T04:23:09Z"
        ],
        [
         75230,
         "2021-12-29T04:23:09Z",
         "preparing",
         "2021-12-30T21:54:53Z"
        ],
        [
         75231,
         "2021-12-29T04:54:46Z",
         "placed",
         "2021-12-29T04:54:46Z"
        ],
        [
         75231,
         "2021-12-29T04:54:46Z",
         "delivered",
         "2021-12-30T15:48:09Z"
        ],
        [
         75231,
         "2021-12-29T04:54:46Z",
         "preparing",
         "2021-12-31T05:20:05Z"
        ],
        [
         75231,
         "2021-12-29T04:54:46Z",
         "on the way",
         "2021-12-31T07:05:13Z"
        ],
        [
         75232,
         "2021-12-29T05:15:06Z",
         "placed",
         "2021-12-29T05:15:06Z"
        ],
        [
         75232,
         "2021-12-29T05:15:06Z",
         "preparing",
         "2021-12-30T17:29:32Z"
        ],
        [
         75232,
         "2021-12-29T05:15:06Z",
         "delivered",
         "2021-12-30T18:06:49Z"
        ],
        [
         75232,
         "2021-12-29T05:15:06Z",
         "on the way",
         "2021-12-30T20:37:12Z"
        ],
        [
         75233,
         "2021-12-29T05:23:29Z",
         "placed",
         "2021-12-29T05:23:29Z"
        ],
        [
         75233,
         "2021-12-29T05:23:29Z",
         "preparing",
         "2021-12-30T14:52:11Z"
        ],
        [
         75233,
         "2021-12-29T05:23:29Z",
         "on the way",
         "2021-12-31T11:45:48Z"
        ],
        [
         75234,
         "2021-12-29T05:32:01Z",
         "placed",
         "2021-12-29T05:32:01Z"
        ],
        [
         75234,
         "2021-12-29T05:32:01Z",
         "on the way",
         "2021-12-30T06:20:27Z"
        ],
        [
         75234,
         "2021-12-29T05:32:01Z",
         "delivered",
         "2021-12-30T21:01:25Z"
        ],
        [
         75234,
         "2021-12-29T05:32:01Z",
         "preparing",
         "2021-12-31T06:47:14Z"
        ],
        [
         75235,
         "2021-12-29T06:17:30Z",
         "placed",
         "2021-12-29T06:17:30Z"
        ],
        [
         75236,
         "2021-12-29T07:31:52Z",
         "placed",
         "2021-12-29T07:31:52Z"
        ],
        [
         75236,
         "2021-12-29T07:31:52Z",
         "on the way",
         "2021-12-31T00:58:24Z"
        ],
        [
         75236,
         "2021-12-29T07:31:52Z",
         "preparing",
         "2021-12-31T23:06:48Z"
        ],
        [
         75237,
         "2021-12-29T12:42:27Z",
         "placed",
         "2021-12-29T12:42:27Z"
        ],
        [
         75237,
         "2021-12-29T12:42:27Z",
         "preparing",
         "2021-12-30T22:47:32Z"
        ],
        [
         75238,
         "2021-12-29T15:04:13Z",
         "placed",
         "2021-12-29T15:04:13Z"
        ],
        [
         75238,
         "2021-12-29T15:04:13Z",
         "on the way",
         "2021-12-31T11:51:00Z"
        ],
        [
         75239,
         "2021-12-29T17:32:26Z",
         "placed",
         "2021-12-29T17:32:26Z"
        ],
        [
         75239,
         "2021-12-29T17:32:26Z",
         "preparing",
         "2021-12-30T19:52:19Z"
        ],
        [
         75240,
         "2021-12-29T17:46:05Z",
         "placed",
         "2021-12-29T17:46:05Z"
        ],
        [
         75240,
         "2021-12-29T17:46:05Z",
         "delivered",
         "2021-12-30T23:30:21Z"
        ],
        [
         75241,
         "2021-12-29T17:50:37Z",
         "placed",
         "2021-12-29T17:50:37Z"
        ],
        [
         75241,
         "2021-12-29T17:50:37Z",
         "on the way",
         "2021-12-31T13:09:02Z"
        ],
        [
         75241,
         "2021-12-29T17:50:37Z",
         "preparing",
         "2021-12-31T20:35:59Z"
        ],
        [
         75242,
         "2021-12-29T18:37:07Z",
         "placed",
         "2021-12-29T18:37:07Z"
        ],
        [
         75243,
         "2021-12-29T19:15:15Z",
         "placed",
         "2021-12-29T19:15:15Z"
        ],
        [
         75244,
         "2021-12-29T20:02:16Z",
         "placed",
         "2021-12-29T20:02:16Z"
        ],
        [
         75244,
         "2021-12-29T20:02:16Z",
         "preparing",
         "2021-12-30T21:34:47Z"
        ],
        [
         75245,
         "2021-12-29T20:24:41Z",
         "placed",
         "2021-12-29T20:24:41Z"
        ],
        [
         75245,
         "2021-12-29T20:24:41Z",
         "delivered",
         "2021-12-31T01:40:03Z"
        ],
        [
         75245,
         "2021-12-29T20:24:41Z",
         "on the way",
         "2021-12-31T15:44:07Z"
        ],
        [
         75246,
         "2021-12-29T20:37:07Z",
         "placed",
         "2021-12-29T20:37:07Z"
        ],
        [
         75247,
         "2021-12-29T21:11:43Z",
         "placed",
         "2021-12-29T21:11:43Z"
        ],
        [
         75248,
         "2021-12-29T22:01:05Z",
         "placed",
         "2021-12-29T22:01:05Z"
        ],
        [
         75248,
         "2021-12-29T22:01:05Z",
         "on the way",
         "2021-12-31T17:32:37Z"
        ],
        [
         75249,
         "2021-12-30T01:40:20Z",
         "placed",
         "2021-12-30T01:40:20Z"
        ],
        [
         75250,
         "2021-12-30T02:20:27Z",
         "placed",
         "2021-12-30T02:20:27Z"
        ],
        [
         75250,
         "2021-12-30T02:20:27Z",
         "on the way",
         "2021-12-31T02:27:48Z"
        ],
        [
         75250,
         "2021-12-30T02:20:27Z",
         "reported shipping error",
         "2021-12-31T03:59:14Z"
        ],
        [
         75251,
         "2021-12-30T04:03:45Z",
         "placed",
         "2021-12-30T04:03:45Z"
        ],
        [
         75252,
         "2021-12-30T04:08:10Z",
         "placed",
         "2021-12-30T04:08:10Z"
        ],
        [
         75252,
         "2021-12-30T04:08:10Z",
         "preparing",
         "2021-12-31T19:31:14Z"
        ],
        [
         75253,
         "2021-12-30T04:08:22Z",
         "placed",
         "2021-12-30T04:08:22Z"
        ],
        [
         75254,
         "2021-12-30T08:14:44Z",
         "placed",
         "2021-12-30T08:14:44Z"
        ],
        [
         75254,
         "2021-12-30T08:14:44Z",
         "delivered",
         "2021-12-31T12:02:09Z"
        ],
        [
         75254,
         "2021-12-30T08:14:44Z",
         "preparing",
         "2021-12-31T22:18:01Z"
        ],
        [
         75255,
         "2021-12-30T09:41:39Z",
         "placed",
         "2021-12-30T09:41:39Z"
        ],
        [
         75256,
         "2021-12-30T09:54:37Z",
         "placed",
         "2021-12-30T09:54:37Z"
        ],
        [
         75257,
         "2021-12-30T10:22:38Z",
         "placed",
         "2021-12-30T10:22:38Z"
        ],
        [
         75257,
         "2021-12-30T10:22:38Z",
         "delivered",
         "2021-12-31T19:36:26Z"
        ],
        [
         75258,
         "2021-12-30T11:08:19Z",
         "placed",
         "2021-12-30T11:08:19Z"
        ],
        [
         75259,
         "2021-12-30T11:44:06Z",
         "placed",
         "2021-12-30T11:44:06Z"
        ],
        [
         75260,
         "2021-12-30T12:26:33Z",
         "placed",
         "2021-12-30T12:26:33Z"
        ],
        [
         75261,
         "2021-12-30T12:57:24Z",
         "placed",
         "2021-12-30T12:57:24Z"
        ],
        [
         75261,
         "2021-12-30T12:57:24Z",
         "on the way",
         "2021-12-31T14:40:32Z"
        ],
        [
         75261,
         "2021-12-30T12:57:24Z",
         "delivered",
         "2021-12-31T15:54:26Z"
        ],
        [
         75262,
         "2021-12-30T13:05:35Z",
         "placed",
         "2021-12-30T13:05:35Z"
        ],
        [
         75263,
         "2021-12-30T13:07:13Z",
         "placed",
         "2021-12-30T13:07:13Z"
        ],
        [
         75263,
         "2021-12-30T13:07:13Z",
         "on the way",
         "2021-12-31T15:35:01Z"
        ],
        [
         75264,
         "2021-12-30T17:55:12Z",
         "placed",
         "2021-12-30T17:55:12Z"
        ],
        [
         75265,
         "2021-12-30T18:26:43Z",
         "placed",
         "2021-12-30T18:26:43Z"
        ],
        [
         75266,
         "2021-12-30T18:38:44Z",
         "placed",
         "2021-12-30T18:38:44Z"
        ],
        [
         75267,
         "2021-12-30T18:42:32Z",
         "placed",
         "2021-12-30T18:42:32Z"
        ],
        [
         75268,
         "2021-12-30T19:48:13Z",
         "placed",
         "2021-12-30T19:48:13Z"
        ],
        [
         75269,
         "2021-12-30T20:25:38Z",
         "placed",
         "2021-12-30T20:25:38Z"
        ],
        [
         75269,
         "2021-12-30T20:25:38Z",
         "on the way",
         "2021-12-31T22:31:57Z"
        ],
        [
         75270,
         "2021-12-30T21:06:03Z",
         "placed",
         "2021-12-30T21:06:03Z"
        ],
        [
         75271,
         "2021-12-30T22:15:31Z",
         "placed",
         "2021-12-30T22:15:31Z"
        ],
        [
         75272,
         "2021-12-30T22:56:08Z",
         "placed",
         "2021-12-30T22:56:08Z"
        ],
        [
         75273,
         "2021-12-31T00:16:03Z",
         "placed",
         "2021-12-31T00:16:03Z"
        ],
        [
         75274,
         "2021-12-31T00:40:44Z",
         "placed",
         "2021-12-31T00:40:44Z"
        ],
        [
         75275,
         "2021-12-31T00:42:04Z",
         "placed",
         "2021-12-31T00:42:04Z"
        ],
        [
         75276,
         "2021-12-31T01:32:30Z",
         "placed",
         "2021-12-31T01:32:30Z"
        ],
        [
         75277,
         "2021-12-31T03:42:17Z",
         "placed",
         "2021-12-31T03:42:17Z"
        ],
        [
         75278,
         "2021-12-31T06:43:53Z",
         "placed",
         "2021-12-31T06:43:53Z"
        ],
        [
         75279,
         "2021-12-31T06:52:30Z",
         "placed",
         "2021-12-31T06:52:30Z"
        ],
        [
         75280,
         "2021-12-31T06:54:13Z",
         "placed",
         "2021-12-31T06:54:13Z"
        ],
        [
         75281,
         "2021-12-31T07:17:39Z",
         "placed",
         "2021-12-31T07:17:39Z"
        ],
        [
         75282,
         "2021-12-31T07:18:26Z",
         "placed",
         "2021-12-31T07:18:26Z"
        ],
        [
         75283,
         "2021-12-31T09:03:15Z",
         "placed",
         "2021-12-31T09:03:15Z"
        ],
        [
         75284,
         "2021-12-31T11:05:02Z",
         "placed",
         "2021-12-31T11:05:02Z"
        ],
        [
         75285,
         "2021-12-31T11:39:50Z",
         "placed",
         "2021-12-31T11:39:50Z"
        ],
        [
         75286,
         "2021-12-31T12:27:00Z",
         "placed",
         "2021-12-31T12:27:00Z"
        ],
        [
         75287,
         "2021-12-31T12:31:57Z",
         "placed",
         "2021-12-31T12:31:57Z"
        ],
        [
         75288,
         "2021-12-31T13:43:05Z",
         "placed",
         "2021-12-31T13:43:05Z"
        ],
        [
         75289,
         "2021-12-31T14:18:41Z",
         "placed",
         "2021-12-31T14:18:41Z"
        ],
        [
         75290,
         "2021-12-31T15:04:17Z",
         "placed",
         "2021-12-31T15:04:17Z"
        ],
        [
         75291,
         "2021-12-31T17:31:36Z",
         "placed",
         "2021-12-31T17:31:36Z"
        ],
        [
         75292,
         "2021-12-31T18:13:01Z",
         "placed",
         "2021-12-31T18:13:01Z"
        ],
        [
         75293,
         "2021-12-31T20:53:49Z",
         "placed",
         "2021-12-31T20:53:49Z"
        ],
        [
         75294,
         "2021-12-31T21:46:58Z",
         "placed",
         "2021-12-31T21:46:58Z"
        ],
        [
         75295,
         "2021-12-31T21:52:07Z",
         "placed",
         "2021-12-31T21:52:07Z"
        ],
        [
         75296,
         "2021-12-31T22:44:34Z",
         "placed",
         "2021-12-31T22:44:34Z"
        ]
       ],
       "datasetInfos": [],
       "dbfsResultPath": null,
       "isJsonSchema": true,
       "metadata": {},
       "overflow": false,
       "plotOptions": {
        "customPlotOptions": {},
        "displayType": "table",
        "pivotAggregation": null,
        "pivotColumns": null,
        "xColumns": null,
        "yColumns": null
       },
       "removedWidgets": [],
       "schema": [
        {
         "metadata": "{}",
         "name": "order_id",
         "type": "\"long\""
        },
        {
         "metadata": "{}",
         "name": "order_timestamp",
         "type": "\"timestamp\""
        },
        {
         "metadata": "{}",
         "name": "order_status",
         "type": "\"string\""
        },
        {
         "metadata": "{}",
         "name": "order_status_timestamp",
         "type": "\"timestamp\""
        }
       ],
       "type": "table"
      }
     },
     "output_type": "display_data"
    }
   ],
   "source": [
    "WITH orders AS (\n",
    "  SELECT *\n",
    "  FROM read_files(\n",
    "        DA.paths_working_dir || '/orders/',\n",
    "        format => 'JSON'\n",
    "  )\n",
    "),\n",
    "status AS (\n",
    "  SELECT *\n",
    "  FROM read_files(\n",
    "        DA.paths_working_dir || '/status/',\n",
    "        format => 'JSON'\n",
    "  )\n",
    ")\n",
    "-- Join the views to get the order history with status\n",
    "SELECT\n",
    "  orders.order_id,\n",
    "  timestamp(orders.order_timestamp) AS order_timestamp,\n",
    "  status.order_status,\n",
    "  timestamp(status.status_timestamp) AS order_status_timestamp\n",
    "FROM orders\n",
    "  INNER JOIN status \n",
    "  ON orders.order_id = status.order_id\n",
    "ORDER BY order_id, order_status_timestamp;"
   ]
  },
  {
   "cell_type": "markdown",
   "metadata": {
    "application/vnd.databricks.v1+cell": {
     "cellMetadata": {},
     "inputWidgets": {},
     "nuid": "3b021b60-02b2-4c7b-8d6e-503f4faa479f",
     "showTitle": false,
     "tableResultSettingsMap": {},
     "title": ""
    }
   },
   "source": [
    "## C. Putting a Pipeline in Production\n",
    "\n",
    "This course includes a complete Lakeflow Declarative Pipeline project that has already been created.  In this section, you'll explore the Lakeflow Declarative Pipeline modify its settings for production use.\n"
   ]
  },
  {
   "cell_type": "markdown",
   "metadata": {
    "application/vnd.databricks.v1+cell": {
     "cellMetadata": {},
     "inputWidgets": {},
     "nuid": "c0f9cc7e-9817-4b26-9748-42a18dbf025e",
     "showTitle": false,
     "tableResultSettingsMap": {},
     "title": ""
    }
   },
   "source": [
    "1. The screenshot below shows what the final Lakeflow Declarative Pipeline will look like when ingesting a single JSON file from the data sources:  \n",
    "![Final Demo 6 Pipeline](./Includes/images/demo6_pipeline_image.png)\n",
    "\n",
    "    **Note:** Depending on the number of files you've ingested, the row count may vary."
   ]
  },
  {
   "cell_type": "markdown",
   "metadata": {
    "application/vnd.databricks.v1+cell": {
     "cellMetadata": {},
     "inputWidgets": {},
     "nuid": "0d16668a-db77-4838-82de-bec0babf8937",
     "showTitle": false,
     "tableResultSettingsMap": {},
     "title": ""
    }
   },
   "source": [
    "2. Run the cell below to create your starter Lakeflow Declarative Pipeline for this demonstration. The pipeline will set the following for you:\n",
    "    - Your default catalog: `labuser`\n",
    "    - Your configuration parameter: `source` = `/Volumes/dbacademy/ops/your-labuser-name`\n",
    "\n",
    "    **NOTE:** If the pipeline already exists, an error will be returned. In that case, you'll need to delete the existing pipeline and rerun this cell.\n",
    "\n",
    "    To delete the pipeline:\n",
    "\n",
    "    a. Select **Jobs and Pipelines** from the far-left navigation bar.  \n",
    "\n",
    "    b. Find the pipeline you want to delete.  \n",
    "\n",
    "    c. Click the three-dot menu ![ellipsis icon](./Includes/images/ellipsis_icon.png).  \n",
    "\n",
    "    d. Select **Delete**.\n",
    "\n",
    "**NOTE:**  The `create_declarative_pipeline` function is a custom function built for this course to create the sample pipeline using the Databricks REST API. This avoids manually creating the pipeline and referencing the pipeline assets."
   ]
  },
  {
   "cell_type": "code",
   "execution_count": 0,
   "metadata": {
    "application/vnd.databricks.v1+cell": {
     "cellMetadata": {
      "byteLimit": 2048000,
      "rowLimit": 10000
     },
     "inputWidgets": {},
     "nuid": "d1f777bb-fa6a-49b3-9628-994f3fbdbe79",
     "showTitle": true,
     "tableResultSettingsMap": {},
     "title": "Create pipeline 5"
    }
   },
   "outputs": [
    {
     "output_type": "stream",
     "name": "stdout",
     "output_type": "stream",
     "text": [
      "Creating the Lakeflow Declarative Pipeline '5 - Deploying a Pipeline to Production Project - labuser11058730_1754017152'...\nRoot folder path: /Workspace/Users/labuser11058730_1754017152@vocareum.com/build-data-pipelines-with-lakeflow-declarative-pipelines-3.0.2/Build Data Pipelines with Lakeflow Declarative Pipelines/5 - Deploying a Pipeline to Production Project\nSource folder path(s): [{'glob': {'include': '/Workspace/Users/labuser11058730_1754017152@vocareum.com/build-data-pipelines-with-lakeflow-declarative-pipelines-3.0.2/Build Data Pipelines with Lakeflow Declarative Pipelines/5 - Deploying a Pipeline to Production Project/orders/**'}}, {'glob': {'include': '/Workspace/Users/labuser11058730_1754017152@vocareum.com/build-data-pipelines-with-lakeflow-declarative-pipelines-3.0.2/Build Data Pipelines with Lakeflow Declarative Pipelines/5 - Deploying a Pipeline to Production Project/status/**'}}]\n\nLakeflow Declarative Pipeline Creation '5 - Deploying a Pipeline to Production Project - labuser11058730_1754017152' Complete!\n"
     ]
    }
   ],
   "source": [
    "%python\n",
    "create_declarative_pipeline(pipeline_name=f'5 - Deploying a Pipeline to Production Project - {DA.catalog_name}', \n",
    "                            root_path_folder_name='5 - Deploying a Pipeline to Production Project',\n",
    "                            catalog_name = DA.catalog_name,\n",
    "                            schema_name = 'default',\n",
    "                            source_folder_names=['orders', 'status'],\n",
    "                            configuration = {'source':DA.paths.working_dir})"
   ]
  },
  {
   "cell_type": "markdown",
   "metadata": {
    "application/vnd.databricks.v1+cell": {
     "cellMetadata": {},
     "inputWidgets": {},
     "nuid": "760635be-e84d-4215-94c1-fcf3992d29ee",
     "showTitle": false,
     "tableResultSettingsMap": {},
     "title": ""
    }
   },
   "source": [
    "3. Complete the following steps to open the starter Lakeflow Declarative Pipeline project for this demonstration:\n",
    "\n",
    "   a. Click the folder icon ![Folder](./Includes/images/folder_icon.png) in the left navigation panel.\n",
    "\n",
    "   b. In the **Build Data Pipelines with Lakeflow Declarative Pipelines** folder, find the **5 - Deploying a Pipeline to Production Project** folder. \n",
    "   \n",
    "   c. Right-click and select **Open in a new tab**.\n",
    "\n",
    "   d. In the new tab you should see three folders: **explorations**, **orders**, and **status** (plus the extra **python_excluded** folder that contains the Python version). \n",
    "\n",
    "   e. Continue to step 4 and 5 below.\n",
    "\n",
    "#### IMPORTANT\n",
    "   **NOTE:** If you open the **orders_pipeline.sql** file and it does not open up the pipeline editor, that is because that folder is not associated with a pipeline. Please make sure to run the previous cell to associate the folder with the pipeline and try again.\n",
    "\n",
    "   **WARNING:** If you get the following warning when opening the **orders_pipeline.sql** file: \n",
    "\n",
    "   ```pipeline you are trying to access does not exist or is inaccessible. Please verify the pipeline ID, request access or detach this file from the pipeline.``` \n",
    "\n",
    "   Simply refresh the page and/or reselect the notebook."
   ]
  },
  {
   "cell_type": "markdown",
   "metadata": {
    "application/vnd.databricks.v1+cell": {
     "cellMetadata": {},
     "inputWidgets": {},
     "nuid": "dd11ebaf-d4c3-42f0-96b3-cbc6ac8d5050",
     "showTitle": false,
     "tableResultSettingsMap": {},
     "title": ""
    }
   },
   "source": [
    "##### Explore the code in the `orders/orders_pipeline.sql` file\n",
    "\n",
    "4. In the new tab select the **orders** folder. It contains the same **orders_pipeline.sql** pipeline you've been working with.  Follow the instructional comments in the file to proceed.\n",
    "\n"
   ]
  },
  {
   "cell_type": "markdown",
   "metadata": {
    "application/vnd.databricks.v1+cell": {
     "cellMetadata": {},
     "inputWidgets": {},
     "nuid": "bdc2a66c-cb3f-4c21-bc33-4fc3024ef39f",
     "showTitle": false,
     "tableResultSettingsMap": {},
     "title": ""
    }
   },
   "source": [
    "##### Explore the code in the `status/status_pipeline` notebook\n",
    "\n",
    "5. After reviewing the **orders_pipeline.sql** file, you'll be directed to explore the **status/status_pipeline.sql** notebook. This notebook processes new data and adds it to the pipeline. Follow the instructions provided in the notebook's markdown cells.\n",
    "\n",
    "    **NOTE:** The **status/status_pipeline.sql**  notebook will go through setting up the pipeline settings, scheduling and running the production pipeline."
   ]
  },
  {
   "cell_type": "markdown",
   "metadata": {
    "application/vnd.databricks.v1+cell": {
     "cellMetadata": {},
     "inputWidgets": {},
     "nuid": "b5f4ce13-db6d-418e-90de-abd883f497d8",
     "showTitle": false,
     "tableResultSettingsMap": {},
     "title": ""
    }
   },
   "source": [
    "## D. Land More Data to Your Data Source Volume"
   ]
  },
  {
   "cell_type": "markdown",
   "metadata": {
    "application/vnd.databricks.v1+cell": {
     "cellMetadata": {},
     "inputWidgets": {},
     "nuid": "589581c5-767f-48cd-b39d-51733ce84092",
     "showTitle": false,
     "tableResultSettingsMap": {},
     "title": ""
    }
   },
   "source": [
    "1. Run the cell below to add **4** more JSON files to your **orders** and **status** volume."
   ]
  },
  {
   "cell_type": "code",
   "execution_count": 0,
   "metadata": {
    "application/vnd.databricks.v1+cell": {
     "cellMetadata": {
      "byteLimit": 2048000,
      "rowLimit": 10000
     },
     "inputWidgets": {},
     "nuid": "522821be-1e73-4592-bcb1-5224fc382542",
     "showTitle": true,
     "tableResultSettingsMap": {},
     "title": "Copy files into the data source volumes"
    }
   },
   "outputs": [
    {
     "output_type": "stream",
     "name": "stdout",
     "output_type": "stream",
     "text": [
      "\n----------------Loading files to user's volume: '/Volumes/dbacademy/ops/labuser11058730_1754017152@vocareum_com/orders'----------------\nFile number 1 - 00.json is already in the source volume \"/Volumes/dbacademy/ops/labuser11058730_1754017152@vocareum_com/orders\". Skipping file.\nFile number 2 - Copying file /Volumes/dbacademy_retail/v01/retail-pipeline/orders/stream_json/01.json --> /Volumes/dbacademy/ops/labuser11058730_1754017152@vocareum_com/orders/01.json.\nFile number 3 - Copying file /Volumes/dbacademy_retail/v01/retail-pipeline/orders/stream_json/02.json --> /Volumes/dbacademy/ops/labuser11058730_1754017152@vocareum_com/orders/02.json.\nFile number 4 - Copying file /Volumes/dbacademy_retail/v01/retail-pipeline/orders/stream_json/03.json --> /Volumes/dbacademy/ops/labuser11058730_1754017152@vocareum_com/orders/03.json.\nFile number 5 - Copying file /Volumes/dbacademy_retail/v01/retail-pipeline/orders/stream_json/04.json --> /Volumes/dbacademy/ops/labuser11058730_1754017152@vocareum_com/orders/04.json.\n\n----------------Loading files to user's volume: '/Volumes/dbacademy/ops/labuser11058730_1754017152@vocareum_com/status'----------------\nFile number 1 - 00.json is already in the source volume \"/Volumes/dbacademy/ops/labuser11058730_1754017152@vocareum_com/status\". Skipping file.\nFile number 2 - Copying file /Volumes/dbacademy_retail/v01/retail-pipeline/status/stream_json/01.json --> /Volumes/dbacademy/ops/labuser11058730_1754017152@vocareum_com/status/01.json.\nFile number 3 - Copying file /Volumes/dbacademy_retail/v01/retail-pipeline/status/stream_json/02.json --> /Volumes/dbacademy/ops/labuser11058730_1754017152@vocareum_com/status/02.json.\nFile number 4 - Copying file /Volumes/dbacademy_retail/v01/retail-pipeline/status/stream_json/03.json --> /Volumes/dbacademy/ops/labuser11058730_1754017152@vocareum_com/status/03.json.\nFile number 5 - Copying file /Volumes/dbacademy_retail/v01/retail-pipeline/status/stream_json/04.json --> /Volumes/dbacademy/ops/labuser11058730_1754017152@vocareum_com/status/04.json.\n"
     ]
    }
   ],
   "source": [
    "%python\n",
    "copy_files(copy_from = '/Volumes/dbacademy_retail/v01/retail-pipeline/orders/stream_json', \n",
    "           copy_to = f'{DA.paths.working_dir}/orders', \n",
    "           n = 5)\n",
    "\n",
    "copy_files(copy_from = '/Volumes/dbacademy_retail/v01/retail-pipeline/status/stream_json', \n",
    "           copy_to = f'{DA.paths.working_dir}/status', \n",
    "           n = 5)"
   ]
  },
  {
   "cell_type": "markdown",
   "metadata": {
    "application/vnd.databricks.v1+cell": {
     "cellMetadata": {},
     "inputWidgets": {},
     "nuid": "d3dd7a94-2835-452b-8bd8-eb7abeb9b068",
     "showTitle": false,
     "tableResultSettingsMap": {},
     "title": ""
    }
   },
   "source": [
    "2. Complete the follow to confirm new JSON files were added to your volume:\n",
    "\n",
    "   a. Select the **Catalog** icon ![Catalog Icon](./Includes/images/catalog_icon.png) in the left navigation bar.\n",
    "\n",
    "   b. Expand the **dbacademy** catalog.\n",
    "\n",
    "   c. Expand the **ops** schema.\n",
    "\n",
    "   d. Expand your **labuser** volume. You should notice that your volume contains three folders:\n",
    "   - **customers**\n",
    "   - **orders**\n",
    "   - **status**\n",
    "\n",
    "   e. Expand the **orders** and **status** folders.\n",
    "\n",
    "   f. Notice that we have landed new data in our data source for the pipeline. You should have a total of **5** JSON files in each."
   ]
  },
  {
   "cell_type": "markdown",
   "metadata": {
    "application/vnd.databricks.v1+cell": {
     "cellMetadata": {},
     "inputWidgets": {},
     "nuid": "584e9ee8-14c8-4bd7-930f-0c5208225c9a",
     "showTitle": false,
     "tableResultSettingsMap": {},
     "title": ""
    }
   },
   "source": [
    "3. Navigate back to your pipeline and select **Run pipeline** to process the new landed files."
   ]
  },
  {
   "cell_type": "markdown",
   "metadata": {
    "application/vnd.databricks.v1+cell": {
     "cellMetadata": {},
     "inputWidgets": {},
     "nuid": "49fd12ee-e330-4689-8a14-fe0f5490df17",
     "showTitle": false,
     "tableResultSettingsMap": {},
     "title": ""
    }
   },
   "source": [
    "## E. Introduction to the Pipeline Event Log (Advanced Topic)\n",
    "\n",
    "After running your pipeline and successfully publishing the event log as a table named **event_log_demo_5** in your **labuser.default** schema (database), begin exploring the event log. \n",
    "\n",
    "Here we will quickly introduce the event log. **To process the event log you will need knowledge of parsing JSON formatted strings.**\n",
    "\n",
    "  - [Monitor Lakeflow Declarative Pipelines](https://docs.databricks.com/aws/en/dlt/observability) documentation\n",
    "\n",
    "**TROUBLESHOOT:** \n",
    "- **REQUIRED:** If you did not run the pipeline and publish the event log, the code below will not run. Please make sure to complete all steps before starting this section.\n",
    "\n",
    "- **HIDDEN EVENT LOG:** By default, Lakeflow Declarative Pipelines writes the event log to a hidden Delta table in the default catalog and schema configured for the pipeline. While hidden, the table can still be queried by all sufficiently privileged users. By default, only the owner of the pipeline can query the event log table. By default, the name for the hidden event log is formatted as:  \n",
    "  - `catalog.schema.event_log_{pipeline_id}` – where the pipeline ID is the system-assigned UUID with dashes replaced by underscores.  \n",
    "  - [Query the Event Log](https://docs.databricks.com/aws/en/dlt/observability#query-the-event-log)"
   ]
  },
  {
   "cell_type": "markdown",
   "metadata": {
    "application/vnd.databricks.v1+cell": {
     "cellMetadata": {},
     "inputWidgets": {},
     "nuid": "042ca4b0-c4e8-4b11-9ada-86cce620fa0d",
     "showTitle": false,
     "tableResultSettingsMap": {},
     "title": ""
    }
   },
   "source": [
    "1. Complete the following steps to view the **labuser.default.event_log_demo_5** event log in your catalog:\n",
    "\n",
    "   a. Select the catalog icon ![Catalog Icon](./Includes/images/catalog_icon.png) from the left navigation pane.\n",
    "\n",
    "   b. Expand your **labuser** catalog.\n",
    "\n",
    "   c. Expand the following schemas (databases):\n",
    "      - **1_bronze_db**\n",
    "      - **2_silver_db**\n",
    "      - **3_gold_db**\n",
    "      - **default**\n",
    "\n",
    "   d. Notice the following:\n",
    "      - In the **1_bronze_db**, **2_silver_db**, and **3_gold_db** schemas, the pipeline streaming tables and materialized views were created (they end with **demo5**).\n",
    "      - In the **default** schema, the pipeline has published the event log as a table named **event_log_demo_5**.\n",
    "\n",
    "**NOTE:** You might need to refresh the catalogs to view the streaming tables, materialized views, and event log.\n"
   ]
  },
  {
   "cell_type": "markdown",
   "metadata": {
    "application/vnd.databricks.v1+cell": {
     "cellMetadata": {},
     "inputWidgets": {},
     "nuid": "e81b87aa-358a-44e9-8aae-9589d7bded88",
     "showTitle": false,
     "tableResultSettingsMap": {},
     "title": ""
    }
   },
   "source": [
    "2. Query your **labuser.default.event_log_demo_5** table to see what the event log looks like.\n",
    "\n",
    "   Notice that it contains all events within the pipeline as **STRING** columns (typically JSON-formatted strings) or **STRUCT** columns. Databricks supports the `:` (colon) operator to parse JSON fields. See the [`:` operator documentation](https://docs.databricks.com/) for more details.\n",
    "\n",
    "   The following table describes the event log schema. Some fields contain JSON data—such as the **details** field—which must be parsed to perform certain queries."
   ]
  },
  {
   "cell_type": "code",
   "execution_count": 0,
   "metadata": {
    "application/vnd.databricks.v1+cell": {
     "cellMetadata": {
      "byteLimit": 2048000,
      "rowLimit": 10000
     },
     "inputWidgets": {},
     "nuid": "525810d5-c8ca-4023-9108-23a3d8e84d46",
     "showTitle": true,
     "tableResultSettingsMap": {},
     "title": "View the event log"
    }
   },
   "outputs": [
    {
     "output_type": "display_data",
     "data": {
      "text/html": [
       "<style scoped>\n",
       "  .table-result-container {\n",
       "    max-height: 300px;\n",
       "    overflow: auto;\n",
       "  }\n",
       "  table, th, td {\n",
       "    border: 1px solid black;\n",
       "    border-collapse: collapse;\n",
       "  }\n",
       "  th, td {\n",
       "    padding: 5px;\n",
       "  }\n",
       "  th {\n",
       "    text-align: left;\n",
       "  }\n",
       "</style><div class='table-result-container'><table class='table-result'><thead style='background-color: white'><tr><th>id</th><th>sequence</th><th>origin</th><th>timestamp</th><th>message</th><th>level</th><th>maturity_level</th><th>error</th><th>details</th><th>event_type</th></tr></thead><tbody><tr><td>3bb55e50-6ea0-11f0-a268-aa11d67e9c2a</td><td>List(List(execution, 1754029489000001), null)</td><td>List(AWS, us-west-2, 3622490971720, null, 6ce1fdf2-b7dd-4ed3-844e-1d170666cadb, WORKSPACE, 5 - Deploying a Pipeline to Production Project - labuser11058730_1754017152, 0801-062429-la5rq55-v2n, e994a5ed-09c2-41af-90f3-9d8c34773039, null, null, null, null, null, null, e994a5ed-09c2-41af-90f3-9d8c34773039, null, null, null, null, null, null, null, null, null, null, null, null)</td><td>2025-08-01T06:24:52.405Z</td><td>Update e994a5 is INITIALIZING.</td><td>INFO</td><td>STABLE</td><td>null</td><td>{\"update_progress\":{\"state\":\"INITIALIZING\"}}</td><td>update_progress</td></tr><tr><td>aa824e80-6e9e-11f0-b947-8acb90f2812d</td><td>List(List(execution, 1754029489000003), 1754028819305001)</td><td>List(AWS, us-west-2, 3622490971720, null, 6ce1fdf2-b7dd-4ed3-844e-1d170666cadb, WORKSPACE, 5 - Deploying a Pipeline to Production Project - labuser11058730_1754017152, null, null, null, null, null, null, null, null, null, null, null, null, null, null, null, null, null, null, null, null, null)</td><td>2025-08-01T06:13:39.304Z</td><td>User labuser11058730_1754017152@vocareum.com created pipeline.</td><td>INFO</td><td>STABLE</td><td>null</td><td>{\"user_action\":{\"action\":\"CREATE\",\"user_name\":\"labuser11058730_1754017152@vocareum.com\",\"user_id\":70949121692270,\"request\":{\"create_request\":{\"id\":\"6ce1fdf2-b7dd-4ed3-844e-1d170666cadb\",\"pipeline_type\":\"WORKSPACE\",\"name\":\"5 - Deploying a Pipeline to Production Project - labuser11058730_1754017152\",\"configuration\":{\"source\":\"/Volumes/dbacademy/ops/labuser11058730_1754017152@vocareum_com\"},\"libraries\":[{\"glob\":{\"include\":\"/Workspace/Users/labuser11058730_1754017152@vocareum.com/build-data-pipelines-with-lakeflow-declarative-pipelines-3.0.2/Build Data Pipelines with Lakeflow Declarative Pipelines/5 - Deploying a Pipeline to Production Project/orders/**\"}},{\"glob\":{\"include\":\"/Workspace/Users/labuser11058730_1754017152@vocareum.com/build-data-pipelines-with-lakeflow-declarative-pipelines-3.0.2/Build Data Pipelines with Lakeflow Declarative Pipelines/5 - Deploying a Pipeline to Production Project/status/**\"}}],\"schema\":\"default\",\"continuous\":false,\"development\":true,\"photon\":true,\"channel\":\"PREVIEW\",\"catalog\":\"labuser11058730_1754017152\",\"serverless\":true,\"root_path\":\"/Workspace/Users/labuser11058730_1754017152@vocareum.com/build-data-pipelines-with-lakeflow-declarative-pipelines-3.0.2/Build Data Pipelines with Lakeflow Declarative Pipelines/5 - Deploying a Pipeline to Production Project\"}}}}</td><td>user_action</td></tr><tr><td>1b0fd310-6ea0-11f0-b947-8acb90f2812d</td><td>List(List(execution, 1754029489000004), 1754029437634001)</td><td>List(AWS, us-west-2, 3622490971720, null, 6ce1fdf2-b7dd-4ed3-844e-1d170666cadb, WORKSPACE, 5 - Deploying a Pipeline to Production Project - labuser11058730_1754017152, null, null, null, null, null, null, null, null, null, null, null, null, null, null, null, null, null, null, null, null, null)</td><td>2025-08-01T06:23:57.633Z</td><td>User labuser11058730_1754017152@vocareum.com edited pipeline settings.</td><td>INFO</td><td>STABLE</td><td>null</td><td>{\"user_action\":{\"action\":\"EDIT\",\"user_name\":\"labuser11058730_1754017152@vocareum.com\",\"user_id\":70949121692270,\"request\":{\"edit_request\":{\"id\":\"6ce1fdf2-b7dd-4ed3-844e-1d170666cadb\",\"pipeline_type\":\"WORKSPACE\",\"name\":\"5 - Deploying a Pipeline to Production Project - labuser11058730_1754017152\",\"configuration\":{\"source\":\"/Volumes/dbacademy/ops/labuser11058730_1754017152@vocareum_com\"},\"libraries\":[{\"glob\":{\"include\":\"/Workspace/Users/labuser11058730_1754017152@vocareum.com/build-data-pipelines-with-lakeflow-declarative-pipelines-3.0.2/Build Data Pipelines with Lakeflow Declarative Pipelines/5 - Deploying a Pipeline to Production Project/orders/**\"}},{\"glob\":{\"include\":\"/Workspace/Users/labuser11058730_1754017152@vocareum.com/build-data-pipelines-with-lakeflow-declarative-pipelines-3.0.2/Build Data Pipelines with Lakeflow Declarative Pipelines/5 - Deploying a Pipeline to Production Project/status/**\"}}],\"schema\":\"default\",\"continuous\":false,\"development\":false,\"photon\":true,\"channel\":\"PREVIEW\",\"catalog\":\"labuser11058730_1754017152\",\"serverless\":true,\"event_log\":{\"name\":\"event_log_demo_5\",\"schema\":\"default\",\"catalog\":\"labuser11058730_1754017152\"},\"root_path\":\"/Workspace/Users/labuser11058730_1754017152@vocareum.com/build-data-pipelines-with-lakeflow-declarative-pipelines-3.0.2/Build Data Pipelines with Lakeflow Declarative Pipelines/5 - Deploying a Pipeline to Production Project\"}}}}</td><td>user_action</td></tr><tr><td>2db4c610-6ea0-11f0-9ef4-eac102c20cdd</td><td>List(List(execution, 1754029489000005), 1754029468915001)</td><td>List(AWS, us-west-2, 3622490971720, null, 6ce1fdf2-b7dd-4ed3-844e-1d170666cadb, WORKSPACE, 5 - Deploying a Pipeline to Production Project - labuser11058730_1754017152, null, e994a5ed-09c2-41af-90f3-9d8c34773039, null, null, null, null, null, null, e994a5ed-09c2-41af-90f3-9d8c34773039, null, null, null, null, null, null, null, null, null, null, null, null)</td><td>2025-08-01T06:24:28.913Z</td><td>User labuser11058730_1754017152@vocareum.com started an update.</td><td>INFO</td><td>STABLE</td><td>null</td><td>{\"user_action\":{\"action\":\"START\",\"user_name\":\"labuser11058730_1754017152@vocareum.com\",\"user_id\":70949121692270,\"request\":{\"start_request\":{\"full_refresh\":false,\"validate_only\":false,\"explore_only\":false,\"development\":true}}}}</td><td>user_action</td></tr><tr><td>2dbc4020-6ea0-11f0-9ef4-eac102c20cdd</td><td>List(List(execution, 1754029489000007), 1754029468964001)</td><td>List(AWS, us-west-2, 3622490971720, null, 6ce1fdf2-b7dd-4ed3-844e-1d170666cadb, WORKSPACE, 5 - Deploying a Pipeline to Production Project - labuser11058730_1754017152, null, e994a5ed-09c2-41af-90f3-9d8c34773039, null, null, null, null, null, null, e994a5ed-09c2-41af-90f3-9d8c34773039, null, null, null, null, null, null, null, null, null, null, null, null)</td><td>2025-08-01T06:24:28.962Z</td><td>Update e994a5 started by USER_ACTION.</td><td>INFO</td><td>STABLE</td><td>null</td><td>{\"create_update\":{\"cause\":\"USER_ACTION\",\"config\":{\"id\":\"6ce1fdf2-b7dd-4ed3-844e-1d170666cadb\",\"pipeline_type\":\"WORKSPACE\",\"name\":\"5 - Deploying a Pipeline to Production Project - labuser11058730_1754017152\",\"configuration\":{\"pipelines.acfsProcessorVersion\":\"1\",\"pipelines.allowClearingTableComment\":\"true\",\"pipelines.allowPrivateToNonPrivateAltersWithCustomSchemaPreview\":\"true\",\"pipelines.alterExistingMvSt\":\"true\",\"pipelines.alterViewsInHMS.enabled\":\"true\",\"pipelines.alterableMetadataBehavior\":\"preserve\",\"pipelines.analysis.allowSqlFlowWithConfParallelResolution\":\"true\",\"pipelines.analysis.maybeResolveFlowsParallely\":\"true\",\"pipelines.analysis.maybeResolvePureSQLPipelinesParallely\":\"true\",\"pipelines.analysis.pruneUnresolvedFromJsonDependents\":\"true\",\"pipelines.applyChanges.Type2IgnoreNullPersistentStateChange\":\"false\",\"pipelines.applyChanges.applyChangesMultiflowIgnoreNullOffFix.enabled\":\"false\",\"pipelines.applyChanges.applyChangesMultiflowLatestDeleteVersion.enabled\":\"false\",\"pipelines.applyChanges.dynamicFilePruning.enabled\":\"true\",\"pipelines.applyChanges.dynamicPartitionPruning.enabled\":\"true\",\"pipelines.applyChanges.viewMetrics.enabled\":\"true\",\"pipelines.applyChangesFromSnapshot.analyzeLambdaSourceWithoutPipelineContext\":\"true\",\"pipelines.applyChangesFromSnapshot.castSnapshotToTargetSchema\":\"true\",\"pipelines.applyChangesFromSnapshot.stateStoreFormat\":\"proto\",\"pipelines.attachEnzymeExpectationsUsingTransformDF\":\"true\",\"pipelines.attachExpectationWithFunctionResult\":\"true\",\"pipelines.attachExpectationsUsingTransformDF\":\"true\",\"pipelines.autoscaling.maxDecommissioningTimeoutInSecondsDefaultValue\":\"14400\",\"pipelines.blockDuplicatedUseOfFromJsonSchemaLocationKey\":\"true\",\"pipelines.cdc.enableCdcSnapshotProgress\":\"true\",\"pipelines.cdc.enableGatewayErrorPropagation\":\"true\",\"pipelines.cdc.skipCdcSnapshotFlowAfterCommitted\":\"true\",\"pipelines.cdc.stagingDataGCDryRunMode\":\"false\",\"pipelines.cdc.stagingDataRetentionDays\":\"25\",\"pipelines.cdcApplier.enableCommunicationVersioning\":\"true\",\"pipelines.cdcApplier.useUpstreamCommunicationLibrary\":\"true\",\"pipelines.cdcApplierEnableColumnUOID\":\"false\",\"pipelines.cdcApplierStagingTablePartitionedByDate\":\"true\",\"pipelines.changeDataFeed.enabled\":\"true\",\"pipelines.checkImplicitDeletionReason\":\"true\",\"pipelines.cleanupOrphanedBackingTables\":\"true\",\"pipelines.copyFlowFuncResultWithDecomposition\":\"true\",\"pipelines.createMvStEntryBeforeBackingTable\":\"true\",\"pipelines.dataPlaneStructuredLogging.enabled\":\"true\",\"pipelines.decomposition.enableOnSnapshotFlow\":\"true\",\"pipelines.decomposition.enabled\":\"true\",\"pipelines.disableClearingIncrementalOnVirtualize\":\"true\",\"pipelines.disablePredictiveOptimization\":\"true\",\"pipelines.disallowFlowExecutionRetryForSchemaChangeExceptionsInTriggeredMode\":\"true\",\"pipelines.disallowTableMutationsDuringMaintenance\":\"true\",\"pipelines.dltDebugger.enableNodeStatusReporter\":\"true\",\"pipelines.dropAndRecreateBadBackingTables\":\"true\",\"pipelines.dropInactiveTables\":\"false\",\"pipelines.earlyStagingTableCleanupEnabled\":\"true\",\"pipelines.emitDeprecationEventForCustomSchemaUsage\":\"true\",\"pipelines.emitSinkDefinition\":\"true\",\"pipelines.enableApplyChangeSCD1Materialization\":\"false\",\"pipelines.enableApplyChangesLineage.enabled\":\"true\",\"pipelines.enableBatchTokenOnUpdateId\":\"false\",\"pipelines.enableBlockListReconciliationQueryDefinition\":\"true\",\"pipelines.enableCoalesceApplyChangesType2Duplicates\":\"true\",\"pipelines.enableConduitUCConnectionTypeValidation\":\"false\",\"pipelines.enableContinuousPipelineTriggerValidation\":\"false\",\"pipelines.enableCyclicDependencyDetection\":\"true\",\"pipelines.enableDataflowV2ForFromJsonSchemaReset\":\"true\",\"pipelines.enableDbrFlowAnalysisContext\":\"false\",\"pipelines.enableDeltaReadClone\":\"false\",\"pipelines.enableEventLogPicker\":\"true\",\"pipelines.enableEventLogTableIdWrites\":\"true\",\"pipelines.enableExistingEventLogRetrievalById\":\"true\",\"pipelines.enableFromJsonBatchSchemaEvolution\":\"true\",\"pipelines.enableHistoryIntegrationForContinuous\":\"true\",\"pipelines.enableLiveSchemaUsageValidation\":\"true\",\"pipelines.enableNewFlowTypes\":\"true\",\"pipelines.enableNonVirtualNodeInNodeProcessorUpdate\":\"false\",\"pipelines.enablePersistedViewSyntaxForPipeline\":\"true\",\"pipelines.enablePredictiveOptimizationRollout\":\"true\",\"pipelines.enableRunningAddRowIdAsEnabler\":\"true\",\"pipelines.enableSharepointConnectorV2\":\"false\",\"pipelines.enableStreamQueryListenerMetricsInEventlog\":\"false\",\"pipelines.enableSysPathSetupUsingCmdCtx\":\"true\",\"pipelines.enableUpdateWarmPoolManager\":\"true\",\"pipelines.enableViewFirstClassRefactor\":\"true\",\"pipelines.enzyme.autoCorrectionForLongRunningQueries\":\"true\",\"pipelines.enzyme.autoCorrectionForLongRunningQueries.dryRun\":\"true\",\"pipelines.enzyme.changesetRatioUpperBound\":\"2.1\",\"pipelines.enzyme.checkComposableAggOperatorNestingInDecomposer\":\"true\",\"pipelines.enzyme.classic.action\":\"Block\",\"pipelines.enzyme.composableAggKeyOperatorNestingThreshold\":\"4\",\"pipelines.enzyme.decomposeAggExpr.enabled\":\"true\",\"pipelines.enzyme.defaultBroadcastThreshold\":\"128MB\",\"pipelines.enzyme.disableFingerprintNormalizerForEnzymeBasic\":\"true\",\"pipelines.enzyme.enableAggOverJoin\":\"true\",\"pipelines.enzyme.enableAggOverJoinFallback\":\"true\",\"pipelines.enzyme.enableBroadcastableChangesetSizeThreshold\":\"true\",\"pipelines.enzyme.enableComposableGenericAgg\":\"true\",\"pipelines.enzyme.enableExplicitDFP\":\"false\",\"pipelines.enzyme.enableExplicitDPPScheduling\":\"false\",\"pipelines.enzyme.enableJoinComposition\":\"true\",\"pipelines.enzyme.enableLeftEquiJoinOptimization\":\"false\",\"pipelines.enzyme.enableRowId\":\"true\",\"pipelines.enzyme.enableSPUJFullOuterJoinIncrementalization\":\"true\",\"pipelines.enzyme.enableSPUJIncrementalization\":\"true\",\"pipelines.enzyme.enableSPUJInnerJoinIncrementalization\":\"true\",\"pipelines.enzyme.enableSPUJLeftAntiJoinIncrementalization\":\"true\",\"pipelines.enzyme.enableSPUJLeftJoinIncrementalization\":\"true\",\"pipelines.enzyme.enableSPUJRightJoinIncrementalization\":\"true\",\"pipelines.enzyme.enableSmallTableSizeThreshold\":\"true\",\"pipelines.enzyme.enableTableChangeSizeV3\":\"true\",\"pipelines.enzyme.enableWindowBlockBasedIncChecker\":\"true\",\"pipelines.enzyme.enableWindowComposition\":\"true\",\"pipelines.enzyme.enableWindowFunctionWithDiffPartitioning\":\"true\",\"pipelines.enzyme.enabled\":\"true\",\"pipelines.enzyme.enzymeEnableTableChangeSizeV2\":\"true\",\"pipelines.enzyme.expectation.enable\":\"true\",\"pipelines.enzyme.expectation.fallbackToClassic\":\"true\",\"pipelines.enzyme.expectation.fallbackToClassicPerFlow\":\"true\",\"pipelines.enzyme.expectation.useSimpleWrite\":\"true\",\"pipelines.enzyme.explicitlyScheduleBloomFilters\":\"false\",\"pipelines.enzyme.fileActionPruningInCdf.enabled\":\"true\",\"pipelines.enzyme.forceTrivialIncrementalFlows\":\"true\",\"pipelines.enzyme.genericAggregationTechnique.enabled\":\"true\",\"pipelines.enzyme.historyBasedCosting.enabled\":\"true\",\"pipelines.enzyme.logDetailedChangeInformation\":\"true\",\"pipelines.enzyme.makeCollectListCollectSetDeterministic.enabled\":\"true\",\"pipelines.enzyme.mode\":\"Advanced\",\"pipelines.enzyme.overrideMaxBloomSizeBits\":\"-1\",\"pipelines.enzyme.overrideMinBloomSizeBits\":\"-1\",\"pipelines.enzyme.prePostNormalizationBatches.enabled\":\"true\",\"pipelines.enzyme.removeTopLevelSort.enabled\":\"true\",\"pipelines.enzyme.spujTableSizeThresholdForNonJoin\":\"1000TB\",\"pipelines.enzyme.spujoinTableSizeThreshold\":\"1000TB\",\"pipelines.enzyme.temporalFilters.enabled\":\"true\",\"pipelines.enzyme.transformFirstLastAnyValueToMin.enabled\":\"true\",\"pipelines.enzyme.useInExpressionForPartitionOverwrite\":\"true\",\"pipelines.enzyme.windowFunctionTechniqueEnabled.enabled\":\"true\",\"pipelines.enzyme.writeHistoryStats.enabled\":\"true\",\"pipelines.eventLevelDataFrameCollectUsage\":\"warn\",\"pipelines.eventLevelDataFrameSaveAsTableUsage\":\"warn\",\"pipelines.eventLevelDataFrameSaveUsage\":\"warn\",\"pipelines.eventLevelDataStreamWriterStartUsage\":\"warn\",\"pipelines.eventLevelPivotUsage\":\"warn\",\"pipelines.eventPlatformMetricsReporterEnabled\":\"true\",\"pipelines.events.enableEventTimeMetric\":\"true\",\"pipelines.events.enableSourceCodePosition\":\"true\",\"pipelines.exposeExecutorCountFromStateManager\":\"false\",\"pipelines.failPipelineForExpectationWithACFS\":\"true\",\"pipelines.forceRecomputeMVIfPartitioningChanged\":\"true\",\"pipelines.fromJson.enforceRootLevelStructTypeForInferredSchema\":\"true\",\"pipelines.fullyQualifyExternalSinkIdentifiers\":\"true\",\"pipelines.fullyQualifyTableReferencesInForeignKeyConstraintsInDPM\":\"true\",\"pipelines.gateway.extractAsciiIrTypesAsUnicodeStream\":\"false\",\"pipelines.gateway.realtime.extractor.sqlServerUseCommandIdForCDCTables\":\"true\",\"pipelines.gateway.realtime.extractor.sqlServerVerifyCommandIdExistsForCDCTables\":\"false\",\"pipelines.gateway.runOptimizedFetchSchema\":\"false\",\"pipelines.gateway.tableSchemasDirectUpload\":\"false\",\"pipelines.gateway.useNewReplicationReconfigurationFlow\":\"false\",\"pipelines.gateway.useUpstreamCommunicationLibrary\":\"false\",\"pipelines.gatewaySendMessagesToEventLog\":\"true\",\"pipelines.ignoreDropInactiveTablesForWorkspacePipelines\":\"false\",\"pipelines.ignoredSuffixForSourceIncludes\":\"__pycache__/,.egg-info/,.txt,.md,.csv,.json\",\"pipelines.ingestionPipelineConnectorFetchProgressEventEnabled\":\"true\",\"pipelines.ingestionPipelineSalesforceApiVersion\":\"v63.0\",\"pipelines.ingestionPipelineServiceNowEmptyCursorFetchEnabled\":\"true\",\"pipelines.ingestionPipelinesTempViewNameV2\":\"false\",\"pipelines.initResourceAllocationBeforeEventLog\":\"true\",\"pipelines.instrumentLoadInSparkReader\":\"true\",\"pipelines.lazyInitializeUpdateWarmPoolManager\":\"true\",\"pipelines.lineageEmission.enabled\":\"true\",\"pipelines.materialization.writeResetSchemaString\":\"true\",\"pipelines.materializedView.dropOtherViewDependencies\":\"true\",\"pipelines.maxDatasetsPerPipeline\":\"1000\",\"pipelines.maximumSourceFileNumberInLibraries\":\"300\",\"pipelines.mergeExternalMetadataIntoTablesBeforeDecomp\":\"true\",\"pipelines.mesa.enableCatalogTableCLTCValidations\":\"true\",\"pipelines.mesa.enableGetCLTCFromCatalogTable\":\"true\",\"pipelines.mesa.updateUCPipelineWithTopLevelViewUpdate\":\"true\",\"pipelines.metrics.clusterResources.enabled\":\"true\",\"pipelines.metrics.flowProgressAdditionalBacklogMetricsEnabled\":\"true\",\"pipelines.metrics.flowProgressSourceLevelMetricsEnabled\":\"true\",\"pipelines.metrics.flowTimeReporter.enabled\":\"true\",\"pipelines.multiflowExpectations.enabled\":\"false\",\"pipelines.mv.partitionUpdate.enabled\":\"true\",\"pipelines.numPythonREPLsToWarmPerUpdate\":\"1\",\"pipelines.operationProgress.listingMetrics.enabled\":\"false\",\"pipelines.parallelNormalizationBeforeDecomposition\":\"true\",\"pipelines.parallelPythonReplInitialization\":\"true\",\"pipelines.parallelUCContextInitialization\":\"true\",\"pipelines.parallelizeCreateMatzPaths\":\"true\",\"pipelines.parallelizeMaterializeTables\":\"true\",\"pipelines.partitioning.clusterBy.enabled\":\"true\",\"pipelines.partitioning.clusterByAuto.enabled\":\"true\",\"pipelines.pipelineEnvironment.enabled\":\"true\",\"pipelines.preloadDeltaAndUCCacheForUpdate\":\"true\",\"pipelines.preserveColumnMasksField\":\"true\",\"pipelines.preserveRowFilterField\":\"true\",\"pipelines.preview.multiChangeFlowInCurrent.enable\":\"true\",\"pipelines.publishPrivateTableInOldArchitecture\":\"true\",\"pipelines.reAnalyzeVirtualFlowsAfterMaterialization\":\"true\",\"pipelines.rememberUCObjectIdsAcrossRuns\":\"true\",\"pipelines.removeAllGenerationExpressionKey\":\"true\",\"pipelines.removeGeneratedColumnMetadataFromViewSchema\":\"true\",\"pipelines.removeVirtualGraphUsageOnGraphDefns\":\"true\",\"pipelines.replaceRealInputReadsWithVirtualBeforeDecomposer\":\"true\",\"pipelines.respectAlterableMetadataBehavior\":\"true\",\"pipelines.scalaReplWarmPool.enabled\":\"true\",\"pipelines.scd1ApplyChangesUseAllFlowsSchema.enabled\":\"false\",\"pipelines.schemaInferenceForVirtualBackingTables.enabled\":\"true\",\"pipelines.schemaStorageLocations.enabled\":\"true\",\"pipelines.sendOneGraphToTableManager\":\"true\",\"pipelines.setMigrationHints\":\"true\",\"pipelines.setParentTableIdForBackingTables\":\"true\",\"pipelines.shouldUseOCCToUpdateTopLevelEntry\":\"true\",\"pipelines.suggestDropForInactivePrivateTable\":\"true\",\"pipelines.tableManager.failOnCycleOfForeignKeyConstraints\":\"true\",\"pipelines.tableManager.orderSettingUpTablesByForeignKeyConstraints\":\"true\",\"pipelines.throwOnUnexpectedMaterializationCreation\":\"true\",\"pipelines.topologicalOrderForStreamingFlowsUponFullRefresh.enabled\":\"true\",\"pipelines.undropPreviouslyExistingTables\":\"true\",\"pipelines.updateSnapshot.enabled\":\"true\",\"pipelines.updateSnapshot.incrementalEventSummaries.enabled\":\"true\",\"pipelines.updateSnapshot.incrementalTimeSeries.enabled\":\"true\",\"pipelines.updateSnapshot.timeSeriesSummaryFlowMetricsEnabled\":\"true\",\"pipelines.updateSnapshot.timeSeriesSummaryGeneratorEnabled\":\"true\",\"pipelines.updateSnapshot.timeSeriesSummarySourceMetricsEnabled\":\"true\",\"pipelines.updateTableCacheAndInactiveStatusEarly\":\"true\",\"pipelines.updateWarmPoolManagerSize\":\"1\",\"pipelines.useCacheForMVPlanning.enabled\":\"true\",\"pipelines.useConfigDefaultsInQueryFingerprint\":\"true\",\"pipelines.useDataflowV2\":\"true\",\"pipelines.useGraphCachePersistence\":\"true\",\"pipelines.useNewOCCPrimitive\":\"true\",\"pipelines.useNewReadInputApi\":\"true\",\"pipelines.useTempDirForEventHookManagerCheckpoints\":\"false\",\"pipelines.useTempDirForEventHookManagerCheckpointsInHms\":\"true\",\"pipelines.useUCBackdoorToDropColumnMasks\":\"true\",\"pipelines.useUCCacheAcrossQueries\":\"true\",\"pipelines.useUCMetadataCache\":\"true\",\"pipelines.useUCMetadataCacheDuringUpdate\":\"true\",\"pipelines.useUpdateWarmPoolManagerForAllUpdates\":\"true\",\"pipelines.useUuidPrefixForExpectations\":\"true\",\"pipelines.useViewsInReconciliationFlowQueries\":\"true\",\"pipelines.verticalAutoscaling.pipelineEnabled\":\"true\",\"source\":\"/Volumes/dbacademy/ops/labuser11058730_1754017152@vocareum_com\",\"spark.databricks.cloudFiles.recordEventChanges\":\"false\",\"spark.databricks.dataLineage.mergeIntoV2Enabled\":\"false\",\"spark.databricks.photon.scan.minBatchSize\":\"256\",\"spark.databricks.sql.rowColumnAccess.mvst.enabled\":\"true\",\"spark.databricks.sqlservice.history.liveQueryProfile.enabled\":\"true\",\"spark.databricks.sqlservice.history.multiBatchProfileEnabled\":\"true\",\"spark.databricks.streaming.dynamicAdmissionControl.cloudFiles.enabled\":\"true\",\"spark.databricks.unityCatalog.glue.federation.enabled\":\"true\",\"spark.databricks.unityCatalog.hms.federation.enableDbfsSupport\":\"true\",\"spark.databricks.unityCatalog.hms.federation.enabled\":\"true\",\"spark.databricks.unityCatalog.lakehouseFederation.writes.enabled\":\"true\",\"spark.sql.optimizer.optimizeCsvJsonExprs.useSchemaField\":\"false\",\"pipelines.predictiveOptimization.enabled\":\"true\",\"pipelines.maintenance.disabled\":\"true\",\"pipelines.maxFlowRetryAttempts\":\"0\"},\"libraries\":[{\"glob\":{\"include\":\"/Workspace/Users/labuser11058730_1754017152@vocareum.com/build-data-pipelines-with-lakeflow-declarative-pipelines-3.0.2/Build Data Pipelines with Lakeflow Declarative Pipelines/5 - Deploying a Pipeline to Production Project/orders/**\"}},{\"glob\":{\"include\":\"/Workspace/Users/labuser11058730_1754017152@vocareum.com/build-data-pipelines-with-lakeflow-declarative-pipelines-3.0.2/Build Data Pipelines with Lakeflow Declarative Pipelines/5 - Deploying a Pipeline to Production Project/status/**\"}}],\"schema\":\"default\",\"continuous\":false,\"development\":false,\"photon\":true,\"edition\":\"ADVANCED\",\"channel\":\"PREVIEW\",\"catalog\":\"labuser11058730_1754017152\",\"serverless\":true,\"event_log\":{\"name\":\"event_log_demo_5\",\"schema\":\"default\",\"catalog\":\"labuser11058730_1754017152\"},\"root_path\":\"/Workspace/Users/labuser11058730_1754017152@vocareum.com/build-data-pipelines-with-lakeflow-declarative-pipelines-3.0.2/Build Data Pipelines with Lakeflow Declarative Pipelines/5 - Deploying a Pipeline to Production Project\"},\"failed_attempts\":0,\"full_refresh\":false,\"run_as_user_id\":70949121692270,\"runtime_version\":{\"dbr_version\":\"16.4\",\"universe_commit\":\"a34e2cdbeb8f369536e943c361d892db7d6f590b\",\"runtime_commit\":\"c72685e185325c58372a549382c10d183f3b626c\",\"channel\":\"PREVIEW\",\"image_key\":\"dlt:16.4.4-delta-pipelines-photon-dlt-release-dp-nightly-2025.29.thu.05.27-rc0-commit-e1fadf8-image-dc141cf\"},\"validate_only\":false,\"development\":true,\"explore_only\":false}}</td><td>create_update</td></tr><tr><td>2e305eb1-6ea0-11f0-862f-dea3e0feb822</td><td>List(List(execution, 1754029489000009), 1754029469725001)</td><td>List(AWS, us-west-2, 3622490971720, null, 6ce1fdf2-b7dd-4ed3-844e-1d170666cadb, WORKSPACE, 5 - Deploying a Pipeline to Production Project - labuser11058730_1754017152, 0801-062429-la5rq55-v2n, e994a5ed-09c2-41af-90f3-9d8c34773039, null, null, null, null, null, null, e994a5ed-09c2-41af-90f3-9d8c34773039, null, null, null, null, null, null, null, null, null, null, null, null)</td><td>2025-08-01T06:24:29.723Z</td><td>Update e994a5 is WAITING_FOR_RESOURCES.</td><td>INFO</td><td>STABLE</td><td>null</td><td>{\"update_progress\":{\"state\":\"WAITING_FOR_RESOURCES\"}}</td><td>update_progress</td></tr><tr><td>432e5ce0-6ea0-11f0-a268-aa11d67e9c2a</td><td>List(List(execution, 1754029489000010), null)</td><td>List(AWS, us-west-2, 3622490971720, null, 6ce1fdf2-b7dd-4ed3-844e-1d170666cadb, WORKSPACE, 5 - Deploying a Pipeline to Production Project - labuser11058730_1754017152, 0801-062429-la5rq55-v2n, e994a5ed-09c2-41af-90f3-9d8c34773039, null, null, null, null, null, null, e994a5ed-09c2-41af-90f3-9d8c34773039, null, null, null, null, null, null, null, null, null, null, null, null)</td><td>2025-08-01T06:25:04.942Z</td><td>Update e994a5 is SETTING_UP_TABLES.</td><td>INFO</td><td>STABLE</td><td>null</td><td>{\"update_progress\":{\"state\":\"SETTING_UP_TABLES\"}}</td><td>update_progress</td></tr><tr><td>43d09050-6ea0-11f0-a268-aa11d67e9c2a</td><td>List(List(execution, 1754029489000011), null)</td><td>List(AWS, us-west-2, 3622490971720, null, 6ce1fdf2-b7dd-4ed3-844e-1d170666cadb, WORKSPACE, 5 - Deploying a Pipeline to Production Project - labuser11058730_1754017152, 0801-062429-la5rq55-v2n, e994a5ed-09c2-41af-90f3-9d8c34773039, null, null, null, null, null, null, e994a5ed-09c2-41af-90f3-9d8c34773039, null, labuser11058730_1754017152.2_silver_db.status_silver_demo5, null, null, null, null, null, null, null, null, null, null)</td><td>2025-08-01T06:25:06.005Z</td><td>STREAMING_TABLE `labuser11058730_1754017152`.`2_silver_db`.`status_silver_demo5` has been created.</td><td>INFO</td><td>EVOLVING</td><td>null</td><td>{\"dataset_life_cycle\":{\"state\":\"CREATED\",\"dataset_type\":\"STREAMING_TABLE\"}}</td><td>dataset_life_cycle</td></tr><tr><td>43f110a0-6ea0-11f0-a268-aa11d67e9c2a</td><td>List(List(execution, 1754029489000012), null)</td><td>List(AWS, us-west-2, 3622490971720, null, 6ce1fdf2-b7dd-4ed3-844e-1d170666cadb, WORKSPACE, 5 - Deploying a Pipeline to Production Project - labuser11058730_1754017152, 0801-062429-la5rq55-v2n, e994a5ed-09c2-41af-90f3-9d8c34773039, null, null, null, null, null, null, e994a5ed-09c2-41af-90f3-9d8c34773039, null, labuser11058730_1754017152.1_bronze_db.orders_bronze_demo5, null, null, null, null, null, null, null, null, null, null)</td><td>2025-08-01T06:25:06.218Z</td><td>STREAMING_TABLE `labuser11058730_1754017152`.`1_bronze_db`.`orders_bronze_demo5` has been created.</td><td>INFO</td><td>EVOLVING</td><td>null</td><td>{\"dataset_life_cycle\":{\"state\":\"CREATED\",\"dataset_type\":\"STREAMING_TABLE\"}}</td><td>dataset_life_cycle</td></tr><tr><td>441adfc0-6ea0-11f0-a268-aa11d67e9c2a</td><td>List(List(execution, 1754029489000013), null)</td><td>List(AWS, us-west-2, 3622490971720, null, 6ce1fdf2-b7dd-4ed3-844e-1d170666cadb, WORKSPACE, 5 - Deploying a Pipeline to Production Project - labuser11058730_1754017152, 0801-062429-la5rq55-v2n, e994a5ed-09c2-41af-90f3-9d8c34773039, null, null, null, null, null, null, e994a5ed-09c2-41af-90f3-9d8c34773039, null, labuser11058730_1754017152.1_bronze_db.status_bronze_demo5, null, null, null, null, null, null, null, null, null, null)</td><td>2025-08-01T06:25:06.492Z</td><td>STREAMING_TABLE `labuser11058730_1754017152`.`1_bronze_db`.`status_bronze_demo5` has been created.</td><td>INFO</td><td>EVOLVING</td><td>null</td><td>{\"dataset_life_cycle\":{\"state\":\"CREATED\",\"dataset_type\":\"STREAMING_TABLE\"}}</td><td>dataset_life_cycle</td></tr><tr><td>444e99f0-6ea0-11f0-a268-aa11d67e9c2a</td><td>List(List(execution, 1754029489000014), null)</td><td>List(AWS, us-west-2, 3622490971720, null, 6ce1fdf2-b7dd-4ed3-844e-1d170666cadb, WORKSPACE, 5 - Deploying a Pipeline to Production Project - labuser11058730_1754017152, 0801-062429-la5rq55-v2n, e994a5ed-09c2-41af-90f3-9d8c34773039, null, null, null, null, null, null, e994a5ed-09c2-41af-90f3-9d8c34773039, null, labuser11058730_1754017152.2_silver_db.orders_silver_demo5, null, null, null, null, null, null, null, null, null, null)</td><td>2025-08-01T06:25:06.831Z</td><td>STREAMING_TABLE `labuser11058730_1754017152`.`2_silver_db`.`orders_silver_demo5` has been created.</td><td>INFO</td><td>EVOLVING</td><td>null</td><td>{\"dataset_life_cycle\":{\"state\":\"CREATED\",\"dataset_type\":\"STREAMING_TABLE\"}}</td><td>dataset_life_cycle</td></tr><tr><td>494e0d00-6ea0-11f0-a268-aa11d67e9c2a</td><td>List(List(execution, 1754029489000023), null)</td><td>List(AWS, us-west-2, 3622490971720, null, 6ce1fdf2-b7dd-4ed3-844e-1d170666cadb, WORKSPACE, 5 - Deploying a Pipeline to Production Project - labuser11058730_1754017152, 0801-062429-la5rq55-v2n, e994a5ed-09c2-41af-90f3-9d8c34773039, null, null, null, null, labuser11058730_1754017152.1_bronze_db.orders_bronze_demo5, null, e994a5ed-09c2-41af-90f3-9d8c34773039, null, null, null, null, null, null, null, null, null, null, null, null)</td><td>2025-08-01T06:25:15.216Z</td><td>Flow `labuser11058730_1754017152`.`1_bronze_db`.`orders_bronze_demo5` defined as APPEND.</td><td>INFO</td><td>STABLE</td><td>null</td><td>{\"flow_definition\":{\"output_dataset\":\"labuser11058730_1754017152.1_bronze_db.orders_bronze_demo5\",\"explain_text\":\"'Project [*, 'current_timestamp() AS processing_time#10469, '_metadata.file_name AS source_file#10470]\",\"schema_json\":\"{\\\"type\\\":\\\"struct\\\",\\\"fields\\\":[{\\\"name\\\":\\\"customer_id\\\",\\\"type\\\":\\\"long\\\",\\\"nullable\\\":true,\\\"metadata\\\":{}},{\\\"name\\\":\\\"notifications\\\",\\\"type\\\":\\\"string\\\",\\\"nullable\\\":true,\\\"metadata\\\":{}},{\\\"name\\\":\\\"order_id\\\",\\\"type\\\":\\\"long\\\",\\\"nullable\\\":true,\\\"metadata\\\":{}},{\\\"name\\\":\\\"order_timestamp\\\",\\\"type\\\":\\\"long\\\",\\\"nullable\\\":true,\\\"metadata\\\":{}},{\\\"name\\\":\\\"_rescued_data\\\",\\\"type\\\":\\\"string\\\",\\\"nullable\\\":true,\\\"metadata\\\":{}},{\\\"name\\\":\\\"processing_time\\\",\\\"type\\\":\\\"timestamp\\\",\\\"nullable\\\":false,\\\"metadata\\\":{}},{\\\"name\\\":\\\"source_file\\\",\\\"type\\\":\\\"string\\\",\\\"nullable\\\":false,\\\"metadata\\\":{}}]}\",\"schema\":[{\"name\":\"customer_id\",\"path\":[\"customer_id\"],\"data_type\":\"LONG\"},{\"name\":\"notifications\",\"path\":[\"notifications\"],\"data_type\":\"STRING\"},{\"name\":\"order_id\",\"path\":[\"order_id\"],\"data_type\":\"LONG\"},{\"name\":\"order_timestamp\",\"path\":[\"order_timestamp\"],\"data_type\":\"LONG\"},{\"name\":\"_rescued_data\",\"path\":[\"_rescued_data\"],\"data_type\":\"STRING\"},{\"name\":\"processing_time\",\"path\":[\"processing_time\"],\"data_type\":\"TIMESTAMP\"},{\"name\":\"source_file\",\"path\":[\"source_file\"],\"data_type\":\"STRING\"}],\"flow_type\":\"APPEND\",\"comment\":\"Ingest order JSON files from cloud storage\",\"language\":\"SQL\",\"notebook_path\":\"/Workspace/Users/labuser11058730_1754017152@vocareum.com/build-data-pipelines-with-lakeflow-declarative-pipelines-3.0.2/Build Data Pipelines with Lakeflow Declarative Pipelines/5 - Deploying a Pipeline to Production Project/orders/orders_pipeline.sql\",\"once\":false}}</td><td>flow_definition</td></tr><tr><td>49544e90-6ea0-11f0-a268-aa11d67e9c2a</td><td>List(List(execution, 1754029489000024), null)</td><td>List(AWS, us-west-2, 3622490971720, null, 6ce1fdf2-b7dd-4ed3-844e-1d170666cadb, WORKSPACE, 5 - Deploying a Pipeline to Production Project - labuser11058730_1754017152, 0801-062429-la5rq55-v2n, e994a5ed-09c2-41af-90f3-9d8c34773039, null, null, null, null, labuser11058730_1754017152.1_bronze_db.status_bronze_demo5, null, e994a5ed-09c2-41af-90f3-9d8c34773039, null, null, null, null, null, null, null, null, null, null, null, null)</td><td>2025-08-01T06:25:15.257Z</td><td>Flow `labuser11058730_1754017152`.`1_bronze_db`.`status_bronze_demo5` defined as APPEND.</td><td>INFO</td><td>STABLE</td><td>null</td><td>{\"flow_definition\":{\"output_dataset\":\"labuser11058730_1754017152.1_bronze_db.status_bronze_demo5\",\"explain_text\":\"'Project [*, 'current_timestamp() AS processing_time#10459, '_metadata.file_name AS source_file#10460]\",\"schema_json\":\"{\\\"type\\\":\\\"struct\\\",\\\"fields\\\":[{\\\"name\\\":\\\"order_id\\\",\\\"type\\\":\\\"long\\\",\\\"nullable\\\":true,\\\"metadata\\\":{}},{\\\"name\\\":\\\"order_status\\\",\\\"type\\\":\\\"string\\\",\\\"nullable\\\":true,\\\"metadata\\\":{}},{\\\"name\\\":\\\"status_timestamp\\\",\\\"type\\\":\\\"long\\\",\\\"nullable\\\":true,\\\"metadata\\\":{}},{\\\"name\\\":\\\"_rescued_data\\\",\\\"type\\\":\\\"string\\\",\\\"nullable\\\":true,\\\"metadata\\\":{}},{\\\"name\\\":\\\"processing_time\\\",\\\"type\\\":\\\"timestamp\\\",\\\"nullable\\\":false,\\\"metadata\\\":{}},{\\\"name\\\":\\\"source_file\\\",\\\"type\\\":\\\"string\\\",\\\"nullable\\\":false,\\\"metadata\\\":{}}]}\",\"schema\":[{\"name\":\"order_id\",\"path\":[\"order_id\"],\"data_type\":\"LONG\"},{\"name\":\"order_status\",\"path\":[\"order_status\"],\"data_type\":\"STRING\"},{\"name\":\"status_timestamp\",\"path\":[\"status_timestamp\"],\"data_type\":\"LONG\"},{\"name\":\"_rescued_data\",\"path\":[\"_rescued_data\"],\"data_type\":\"STRING\"},{\"name\":\"processing_time\",\"path\":[\"processing_time\"],\"data_type\":\"TIMESTAMP\"},{\"name\":\"source_file\",\"path\":[\"source_file\"],\"data_type\":\"STRING\"}],\"flow_type\":\"APPEND\",\"comment\":\"Ingest raw JSON order status files from cloud storage\",\"language\":\"SQL\",\"notebook_path\":\"/Workspace/Users/labuser11058730_1754017152@vocareum.com/build-data-pipelines-with-lakeflow-declarative-pipelines-3.0.2/Build Data Pipelines with Lakeflow Declarative Pipelines/5 - Deploying a Pipeline to Production Project/status/status_pipeline.sql\",\"once\":false}}</td><td>flow_definition</td></tr><tr><td>4954c3c0-6ea0-11f0-a268-aa11d67e9c2a</td><td>List(List(execution, 1754029489000025), null)</td><td>List(AWS, us-west-2, 3622490971720, null, 6ce1fdf2-b7dd-4ed3-844e-1d170666cadb, WORKSPACE, 5 - Deploying a Pipeline to Production Project - labuser11058730_1754017152, 0801-062429-la5rq55-v2n, e994a5ed-09c2-41af-90f3-9d8c34773039, null, null, null, null, labuser11058730_1754017152.2_silver_db.status_silver_demo5, null, e994a5ed-09c2-41af-90f3-9d8c34773039, null, null, null, null, null, null, null, null, null, null, null, null)</td><td>2025-08-01T06:25:15.26Z</td><td>Flow `labuser11058730_1754017152`.`2_silver_db`.`status_silver_demo5` defined as APPEND.</td><td>INFO</td><td>STABLE</td><td>null</td><td>{\"flow_definition\":{\"input_datasets\":[\"labuser11058730_1754017152.1_bronze_db.status_bronze_demo5\"],\"output_dataset\":\"labuser11058730_1754017152.2_silver_db.status_silver_demo5\",\"explain_text\":\"'Project ['order_id, 'order_status, 'timestamp('status_timestamp) AS order_status_timestamp#10462]\",\"schema_json\":\"{\\\"type\\\":\\\"struct\\\",\\\"fields\\\":[{\\\"name\\\":\\\"order_id\\\",\\\"type\\\":\\\"long\\\",\\\"nullable\\\":true,\\\"metadata\\\":{}},{\\\"name\\\":\\\"order_status\\\",\\\"type\\\":\\\"string\\\",\\\"nullable\\\":true,\\\"metadata\\\":{}},{\\\"name\\\":\\\"order_status_timestamp\\\",\\\"type\\\":\\\"timestamp\\\",\\\"nullable\\\":true,\\\"metadata\\\":{}}]}\",\"schema\":[{\"name\":\"order_id\",\"path\":[\"order_id\"],\"data_type\":\"LONG\"},{\"name\":\"order_status\",\"path\":[\"order_status\"],\"data_type\":\"STRING\"},{\"name\":\"order_status_timestamp\",\"path\":[\"order_status_timestamp\"],\"data_type\":\"TIMESTAMP\"}],\"flow_type\":\"APPEND\",\"comment\":\"Order with each status and timestamp\",\"language\":\"SQL\",\"notebook_path\":\"/Workspace/Users/labuser11058730_1754017152@vocareum.com/build-data-pipelines-with-lakeflow-declarative-pipelines-3.0.2/Build Data Pipelines with Lakeflow Declarative Pipelines/5 - Deploying a Pipeline to Production Project/status/status_pipeline.sql\",\"once\":false}}</td><td>flow_definition</td></tr><tr><td>495511e0-6ea0-11f0-a268-aa11d67e9c2a</td><td>List(List(execution, 1754029489000026), null)</td><td>List(AWS, us-west-2, 3622490971720, null, 6ce1fdf2-b7dd-4ed3-844e-1d170666cadb, WORKSPACE, 5 - Deploying a Pipeline to Production Project - labuser11058730_1754017152, 0801-062429-la5rq55-v2n, e994a5ed-09c2-41af-90f3-9d8c34773039, null, null, null, null, labuser11058730_1754017152.2_silver_db.orders_silver_demo5, null, e994a5ed-09c2-41af-90f3-9d8c34773039, null, null, null, null, null, null, null, null, null, null, null, null)</td><td>2025-08-01T06:25:15.262Z</td><td>Flow `labuser11058730_1754017152`.`2_silver_db`.`orders_silver_demo5` defined as APPEND.</td><td>INFO</td><td>STABLE</td><td>null</td><td>{\"flow_definition\":{\"input_datasets\":[\"labuser11058730_1754017152.1_bronze_db.orders_bronze_demo5\"],\"output_dataset\":\"labuser11058730_1754017152.2_silver_db.orders_silver_demo5\",\"explain_text\":\"'Project ['order_id, 'timestamp('order_timestamp) AS order_timestamp#10472, 'customer_id, 'notifications]\",\"schema_json\":\"{\\\"type\\\":\\\"struct\\\",\\\"fields\\\":[{\\\"name\\\":\\\"order_id\\\",\\\"type\\\":\\\"long\\\",\\\"nullable\\\":true,\\\"metadata\\\":{}},{\\\"name\\\":\\\"order_timestamp\\\",\\\"type\\\":\\\"timestamp\\\",\\\"nullable\\\":true,\\\"metadata\\\":{}},{\\\"name\\\":\\\"customer_id\\\",\\\"type\\\":\\\"long\\\",\\\"nullable\\\":true,\\\"metadata\\\":{}},{\\\"name\\\":\\\"notifications\\\",\\\"type\\\":\\\"string\\\",\\\"nullable\\\":true,\\\"metadata\\\":{}}]}\",\"schema\":[{\"name\":\"order_id\",\"path\":[\"order_id\"],\"data_type\":\"LONG\"},{\"name\":\"order_timestamp\",\"path\":[\"order_timestamp\"],\"data_type\":\"TIMESTAMP\"},{\"name\":\"customer_id\",\"path\":[\"customer_id\"],\"data_type\":\"LONG\"},{\"name\":\"notifications\",\"path\":[\"notifications\"],\"data_type\":\"STRING\"}],\"flow_type\":\"APPEND\",\"comment\":\"Silver clean orders table\",\"language\":\"SQL\",\"notebook_path\":\"/Workspace/Users/labuser11058730_1754017152@vocareum.com/build-data-pipelines-with-lakeflow-declarative-pipelines-3.0.2/Build Data Pipelines with Lakeflow Declarative Pipelines/5 - Deploying a Pipeline to Production Project/orders/orders_pipeline.sql\",\"once\":false}}</td><td>flow_definition</td></tr><tr><td>4955ae20-6ea0-11f0-a268-aa11d67e9c2a</td><td>List(List(execution, 1754029489000027), null)</td><td>List(AWS, us-west-2, 3622490971720, null, 6ce1fdf2-b7dd-4ed3-844e-1d170666cadb, WORKSPACE, 5 - Deploying a Pipeline to Production Project - labuser11058730_1754017152, 0801-062429-la5rq55-v2n, e994a5ed-09c2-41af-90f3-9d8c34773039, null, null, null, null, labuser11058730_1754017152.3_gold_db.gold_orders_by_date_demo5, null, e994a5ed-09c2-41af-90f3-9d8c34773039, null, null, null, null, null, null, null, null, null, null, null, null)</td><td>2025-08-01T06:25:15.266Z</td><td>Flow `labuser11058730_1754017152`.`3_gold_db`.`gold_orders_by_date_demo5` defined as MATERIALIZED_VIEW.</td><td>INFO</td><td>STABLE</td><td>null</td><td>{\"flow_definition\":{\"input_datasets\":[\"labuser11058730_1754017152.2_silver_db.orders_silver_demo5\"],\"output_dataset\":\"labuser11058730_1754017152.3_gold_db.gold_orders_by_date_demo5\",\"explain_text\":\"'Aggregate ['date('order_timestamp)], ['date('order_timestamp) AS order_date#10474, 'count(1) AS total_daily_orders#10475]\",\"schema_json\":\"{\\\"type\\\":\\\"struct\\\",\\\"fields\\\":[{\\\"name\\\":\\\"order_date\\\",\\\"type\\\":\\\"date\\\",\\\"nullable\\\":true,\\\"metadata\\\":{}},{\\\"name\\\":\\\"total_daily_orders\\\",\\\"type\\\":\\\"long\\\",\\\"nullable\\\":false,\\\"metadata\\\":{}}]}\",\"schema\":[{\"name\":\"order_date\",\"path\":[\"order_date\"],\"data_type\":\"DATE\"},{\"name\":\"total_daily_orders\",\"path\":[\"total_daily_orders\"],\"data_type\":\"LONG\"}],\"flow_type\":\"MATERIALIZED_VIEW\",\"comment\":\"Aggregate gold data for downstream analysis\",\"language\":\"SQL\",\"notebook_path\":\"/Workspace/Users/labuser11058730_1754017152@vocareum.com/build-data-pipelines-with-lakeflow-declarative-pipelines-3.0.2/Build Data Pipelines with Lakeflow Declarative Pipelines/5 - Deploying a Pipeline to Production Project/orders/orders_pipeline.sql\",\"once\":false}}</td><td>flow_definition</td></tr><tr><td>49567170-6ea0-11f0-a268-aa11d67e9c2a</td><td>List(List(execution, 1754029489000028), null)</td><td>List(AWS, us-west-2, 3622490971720, null, 6ce1fdf2-b7dd-4ed3-844e-1d170666cadb, WORKSPACE, 5 - Deploying a Pipeline to Production Project - labuser11058730_1754017152, 0801-062429-la5rq55-v2n, e994a5ed-09c2-41af-90f3-9d8c34773039, null, null, null, null, labuser11058730_1754017152.3_gold_db.full_order_info_gold_demo5, null, e994a5ed-09c2-41af-90f3-9d8c34773039, null, null, null, null, null, null, null, null, null, null, null, null)</td><td>2025-08-01T06:25:15.271Z</td><td>Flow `labuser11058730_1754017152`.`3_gold_db`.`full_order_info_gold_demo5` defined as MATERIALIZED_VIEW.</td><td>INFO</td><td>STABLE</td><td>null</td><td>{\"flow_definition\":{\"input_datasets\":[\"labuser11058730_1754017152.2_silver_db.status_silver_demo5\",\"labuser11058730_1754017152.2_silver_db.orders_silver_demo5\"],\"output_dataset\":\"labuser11058730_1754017152.3_gold_db.full_order_info_gold_demo5\",\"explain_text\":\"'Project ['orders.order_id, 'orders.order_timestamp, 'status.order_status, 'status.order_status_timestamp]\",\"schema_json\":\"{\\\"type\\\":\\\"struct\\\",\\\"fields\\\":[{\\\"name\\\":\\\"order_id\\\",\\\"type\\\":\\\"long\\\",\\\"nullable\\\":true,\\\"metadata\\\":{}},{\\\"name\\\":\\\"order_timestamp\\\",\\\"type\\\":\\\"timestamp\\\",\\\"nullable\\\":true,\\\"metadata\\\":{}},{\\\"name\\\":\\\"order_status\\\",\\\"type\\\":\\\"string\\\",\\\"nullable\\\":true,\\\"metadata\\\":{}},{\\\"name\\\":\\\"order_status_timestamp\\\",\\\"type\\\":\\\"timestamp\\\",\\\"nullable\\\":true,\\\"metadata\\\":{}}]}\",\"schema\":[{\"name\":\"order_id\",\"path\":[\"order_id\"],\"data_type\":\"LONG\"},{\"name\":\"order_timestamp\",\"path\":[\"order_timestamp\"],\"data_type\":\"TIMESTAMP\"},{\"name\":\"order_status\",\"path\":[\"order_status\"],\"data_type\":\"STRING\"},{\"name\":\"order_status_timestamp\",\"path\":[\"order_status_timestamp\"],\"data_type\":\"TIMESTAMP\"}],\"flow_type\":\"MATERIALIZED_VIEW\",\"comment\":\"Joining the orders and order status silver tables to view all orders with each individual status per order\",\"language\":\"SQL\",\"notebook_path\":\"/Workspace/Users/labuser11058730_1754017152@vocareum.com/build-data-pipelines-with-lakeflow-declarative-pipelines-3.0.2/Build Data Pipelines with Lakeflow Declarative Pipelines/5 - Deploying a Pipeline to Production Project/status/status_pipeline.sql\",\"once\":false}}</td><td>flow_definition</td></tr><tr><td>4956bf90-6ea0-11f0-a268-aa11d67e9c2a</td><td>List(List(execution, 1754029489000029), null)</td><td>List(AWS, us-west-2, 3622490971720, null, 6ce1fdf2-b7dd-4ed3-844e-1d170666cadb, WORKSPACE, 5 - Deploying a Pipeline to Production Project - labuser11058730_1754017152, 0801-062429-la5rq55-v2n, e994a5ed-09c2-41af-90f3-9d8c34773039, null, null, null, null, labuser11058730_1754017152.3_gold_db.delivered_orders_gold_demo5, null, e994a5ed-09c2-41af-90f3-9d8c34773039, null, null, null, null, null, null, null, null, null, null, null, null)</td><td>2025-08-01T06:25:15.273Z</td><td>Flow `labuser11058730_1754017152`.`3_gold_db`.`delivered_orders_gold_demo5` defined as MATERIALIZED_VIEW.</td><td>INFO</td><td>STABLE</td><td>null</td><td>{\"flow_definition\":{\"input_datasets\":[\"labuser11058730_1754017152.3_gold_db.full_order_info_gold_demo5\"],\"output_dataset\":\"labuser11058730_1754017152.3_gold_db.delivered_orders_gold_demo5\",\"explain_text\":\"'Project ['order_id, 'order_timestamp, 'order_status, 'order_status_timestamp, timestampdiff(DAY, 'order_timestamp, 'order_status_timestamp, None) AS days_to_delivery#10465]\",\"schema_json\":\"{\\\"type\\\":\\\"struct\\\",\\\"fields\\\":[{\\\"name\\\":\\\"order_id\\\",\\\"type\\\":\\\"long\\\",\\\"nullable\\\":true,\\\"metadata\\\":{}},{\\\"name\\\":\\\"order_timestamp\\\",\\\"type\\\":\\\"timestamp\\\",\\\"nullable\\\":true,\\\"metadata\\\":{}},{\\\"name\\\":\\\"order_status\\\",\\\"type\\\":\\\"string\\\",\\\"nullable\\\":true,\\\"metadata\\\":{}},{\\\"name\\\":\\\"order_status_timestamp\\\",\\\"type\\\":\\\"timestamp\\\",\\\"nullable\\\":true,\\\"metadata\\\":{}},{\\\"name\\\":\\\"days_to_delivery\\\",\\\"type\\\":\\\"long\\\",\\\"nullable\\\":true,\\\"metadata\\\":{}}]}\",\"schema\":[{\"name\":\"order_id\",\"path\":[\"order_id\"],\"data_type\":\"LONG\"},{\"name\":\"order_timestamp\",\"path\":[\"order_timestamp\"],\"data_type\":\"TIMESTAMP\"},{\"name\":\"order_status\",\"path\":[\"order_status\"],\"data_type\":\"STRING\"},{\"name\":\"order_status_timestamp\",\"path\":[\"order_status_timestamp\"],\"data_type\":\"TIMESTAMP\"},{\"name\":\"days_to_delivery\",\"path\":[\"days_to_delivery\"],\"data_type\":\"LONG\"}],\"flow_type\":\"MATERIALIZED_VIEW\",\"comment\":\"All delivered orders\",\"language\":\"SQL\",\"notebook_path\":\"/Workspace/Users/labuser11058730_1754017152@vocareum.com/build-data-pipelines-with-lakeflow-declarative-pipelines-3.0.2/Build Data Pipelines with Lakeflow Declarative Pipelines/5 - Deploying a Pipeline to Production Project/status/status_pipeline.sql\",\"once\":false}}</td><td>flow_definition</td></tr><tr><td>49570db0-6ea0-11f0-a268-aa11d67e9c2a</td><td>List(List(execution, 1754029489000030), null)</td><td>List(AWS, us-west-2, 3622490971720, null, 6ce1fdf2-b7dd-4ed3-844e-1d170666cadb, WORKSPACE, 5 - Deploying a Pipeline to Production Project - labuser11058730_1754017152, 0801-062429-la5rq55-v2n, e994a5ed-09c2-41af-90f3-9d8c34773039, null, null, null, null, labuser11058730_1754017152.3_gold_db.cancelled_orders_gold_demo5, null, e994a5ed-09c2-41af-90f3-9d8c34773039, null, null, null, null, null, null, null, null, null, null, null, null)</td><td>2025-08-01T06:25:15.275Z</td><td>Flow `labuser11058730_1754017152`.`3_gold_db`.`cancelled_orders_gold_demo5` defined as MATERIALIZED_VIEW.</td><td>INFO</td><td>STABLE</td><td>null</td><td>{\"flow_definition\":{\"input_datasets\":[\"labuser11058730_1754017152.3_gold_db.full_order_info_gold_demo5\"],\"output_dataset\":\"labuser11058730_1754017152.3_gold_db.cancelled_orders_gold_demo5\",\"explain_text\":\"'Project ['order_id, 'order_timestamp, 'order_status, 'order_status_timestamp, timestampdiff(DAY, 'order_timestamp, 'order_status_timestamp, None) AS days_to_cancel#10464]\",\"schema_json\":\"{\\\"type\\\":\\\"struct\\\",\\\"fields\\\":[{\\\"name\\\":\\\"order_id\\\",\\\"type\\\":\\\"long\\\",\\\"nullable\\\":true,\\\"metadata\\\":{}},{\\\"name\\\":\\\"order_timestamp\\\",\\\"type\\\":\\\"timestamp\\\",\\\"nullable\\\":true,\\\"metadata\\\":{}},{\\\"name\\\":\\\"order_status\\\",\\\"type\\\":\\\"string\\\",\\\"nullable\\\":true,\\\"metadata\\\":{}},{\\\"name\\\":\\\"order_status_timestamp\\\",\\\"type\\\":\\\"timestamp\\\",\\\"nullable\\\":true,\\\"metadata\\\":{}},{\\\"name\\\":\\\"days_to_cancel\\\",\\\"type\\\":\\\"long\\\",\\\"nullable\\\":true,\\\"metadata\\\":{}}]}\",\"schema\":[{\"name\":\"order_id\",\"path\":[\"order_id\"],\"data_type\":\"LONG\"},{\"name\":\"order_timestamp\",\"path\":[\"order_timestamp\"],\"data_type\":\"TIMESTAMP\"},{\"name\":\"order_status\",\"path\":[\"order_status\"],\"data_type\":\"STRING\"},{\"name\":\"order_status_timestamp\",\"path\":[\"order_status_timestamp\"],\"data_type\":\"TIMESTAMP\"},{\"name\":\"days_to_cancel\",\"path\":[\"days_to_cancel\"],\"data_type\":\"LONG\"}],\"flow_type\":\"MATERIALIZED_VIEW\",\"comment\":\"All cancelled orders\",\"language\":\"SQL\",\"notebook_path\":\"/Workspace/Users/labuser11058730_1754017152@vocareum.com/build-data-pipelines-with-lakeflow-declarative-pipelines-3.0.2/Build Data Pipelines with Lakeflow Declarative Pipelines/5 - Deploying a Pipeline to Production Project/status/status_pipeline.sql\",\"once\":false}}</td><td>flow_definition</td></tr><tr><td>49590980-6ea0-11f0-a268-aa11d67e9c2a</td><td>List(List(execution, 1754029489000031), null)</td><td>List(AWS, us-west-2, 3622490971720, null, 6ce1fdf2-b7dd-4ed3-844e-1d170666cadb, WORKSPACE, 5 - Deploying a Pipeline to Production Project - labuser11058730_1754017152, 0801-062429-la5rq55-v2n, e994a5ed-09c2-41af-90f3-9d8c34773039, null, null, null, null, null, null, e994a5ed-09c2-41af-90f3-9d8c34773039, null, labuser11058730_1754017152.1_bronze_db.orders_bronze_demo5, null, null, null, null, null, null, null, null, null, null)</td><td>2025-08-01T06:25:15.288Z</td><td>Dataset `labuser11058730_1754017152`.`1_bronze_db`.`orders_bronze_demo5` defined as STREAMING_TABLE.</td><td>INFO</td><td>STABLE</td><td>null</td><td>{\"dataset_definition\":{\"dataset_type\":\"STREAMING_TABLE\",\"table_properties\":[{\"key\":\"quality\",\"value\":\"bronze\"},{\"key\":\"pipelines.reset.allowed\",\"value\":\"false\"}],\"schema_json\":\"{\\\"type\\\":\\\"struct\\\",\\\"fields\\\":[{\\\"name\\\":\\\"customer_id\\\",\\\"type\\\":\\\"long\\\",\\\"nullable\\\":true,\\\"metadata\\\":{}},{\\\"name\\\":\\\"notifications\\\",\\\"type\\\":\\\"string\\\",\\\"nullable\\\":true,\\\"metadata\\\":{}},{\\\"name\\\":\\\"order_id\\\",\\\"type\\\":\\\"long\\\",\\\"nullable\\\":true,\\\"metadata\\\":{}},{\\\"name\\\":\\\"order_timestamp\\\",\\\"type\\\":\\\"long\\\",\\\"nullable\\\":true,\\\"metadata\\\":{}},{\\\"name\\\":\\\"_rescued_data\\\",\\\"type\\\":\\\"string\\\",\\\"nullable\\\":true,\\\"metadata\\\":{}},{\\\"name\\\":\\\"processing_time\\\",\\\"type\\\":\\\"timestamp\\\",\\\"nullable\\\":true,\\\"metadata\\\":{}},{\\\"name\\\":\\\"source_file\\\",\\\"type\\\":\\\"string\\\",\\\"nullable\\\":true,\\\"metadata\\\":{}}]}\",\"schema\":[{\"name\":\"customer_id\",\"path\":[\"customer_id\"],\"data_type\":\"LONG\"},{\"name\":\"notifications\",\"path\":[\"notifications\"],\"data_type\":\"STRING\"},{\"name\":\"order_id\",\"path\":[\"order_id\"],\"data_type\":\"LONG\"},{\"name\":\"order_timestamp\",\"path\":[\"order_timestamp\"],\"data_type\":\"LONG\"},{\"name\":\"_rescued_data\",\"path\":[\"_rescued_data\"],\"data_type\":\"STRING\"},{\"name\":\"processing_time\",\"path\":[\"processing_time\"],\"data_type\":\"TIMESTAMP\"},{\"name\":\"source_file\",\"path\":[\"source_file\"],\"data_type\":\"STRING\"}],\"comment\":\"Ingest order JSON files from cloud storage\",\"metastore_name\":\"`labuser11058730_1754017152`.`1_bronze_db`.`orders_bronze_demo5`\",\"language\":\"SQL\",\"notebook_path\":\"/Workspace/Users/labuser11058730_1754017152@vocareum.com/build-data-pipelines-with-lakeflow-declarative-pipelines-3.0.2/Build Data Pipelines with Lakeflow Declarative Pipelines/5 - Deploying a Pipeline to Production Project/orders/orders_pipeline.sql\",\"num_flows\":1,\"is_private\":true}}</td><td>dataset_definition</td></tr><tr><td>495d2830-6ea0-11f0-a268-aa11d67e9c2a</td><td>List(List(execution, 1754029489000032), null)</td><td>List(AWS, us-west-2, 3622490971720, null, 6ce1fdf2-b7dd-4ed3-844e-1d170666cadb, WORKSPACE, 5 - Deploying a Pipeline to Production Project - labuser11058730_1754017152, 0801-062429-la5rq55-v2n, e994a5ed-09c2-41af-90f3-9d8c34773039, null, null, null, null, null, null, e994a5ed-09c2-41af-90f3-9d8c34773039, null, labuser11058730_1754017152.3_gold_db.delivered_orders_gold_demo5, null, null, null, null, null, null, null, null, null, null)</td><td>2025-08-01T06:25:15.315Z</td><td>Dataset `labuser11058730_1754017152`.`3_gold_db`.`delivered_orders_gold_demo5` defined as MATERIALIZED_VIEW.</td><td>INFO</td><td>STABLE</td><td>null</td><td>{\"dataset_definition\":{\"dataset_type\":\"MATERIALIZED_VIEW\",\"table_properties\":[{\"key\":\"quality\",\"value\":\"gold\"}],\"schema_json\":\"{\\\"type\\\":\\\"struct\\\",\\\"fields\\\":[{\\\"name\\\":\\\"order_id\\\",\\\"type\\\":\\\"long\\\",\\\"nullable\\\":true,\\\"metadata\\\":{}},{\\\"name\\\":\\\"order_timestamp\\\",\\\"type\\\":\\\"timestamp\\\",\\\"nullable\\\":true,\\\"metadata\\\":{}},{\\\"name\\\":\\\"order_status\\\",\\\"type\\\":\\\"string\\\",\\\"nullable\\\":true,\\\"metadata\\\":{}},{\\\"name\\\":\\\"order_status_timestamp\\\",\\\"type\\\":\\\"timestamp\\\",\\\"nullable\\\":true,\\\"metadata\\\":{}},{\\\"name\\\":\\\"days_to_delivery\\\",\\\"type\\\":\\\"long\\\",\\\"nullable\\\":true,\\\"metadata\\\":{}}]}\",\"schema\":[{\"name\":\"order_id\",\"path\":[\"order_id\"],\"data_type\":\"LONG\"},{\"name\":\"order_timestamp\",\"path\":[\"order_timestamp\"],\"data_type\":\"TIMESTAMP\"},{\"name\":\"order_status\",\"path\":[\"order_status\"],\"data_type\":\"STRING\"},{\"name\":\"order_status_timestamp\",\"path\":[\"order_status_timestamp\"],\"data_type\":\"TIMESTAMP\"},{\"name\":\"days_to_delivery\",\"path\":[\"days_to_delivery\"],\"data_type\":\"LONG\"}],\"comment\":\"All delivered orders\",\"metastore_name\":\"`labuser11058730_1754017152`.`3_gold_db`.`delivered_orders_gold_demo5`\",\"language\":\"SQL\",\"notebook_path\":\"/Workspace/Users/labuser11058730_1754017152@vocareum.com/build-data-pipelines-with-lakeflow-declarative-pipelines-3.0.2/Build Data Pipelines with Lakeflow Declarative Pipelines/5 - Deploying a Pipeline to Production Project/status/status_pipeline.sql\",\"num_flows\":1,\"is_private\":true}}</td><td>dataset_definition</td></tr><tr><td>495e39a0-6ea0-11f0-a268-aa11d67e9c2a</td><td>List(List(execution, 1754029489000033), null)</td><td>List(AWS, us-west-2, 3622490971720, null, 6ce1fdf2-b7dd-4ed3-844e-1d170666cadb, WORKSPACE, 5 - Deploying a Pipeline to Production Project - labuser11058730_1754017152, 0801-062429-la5rq55-v2n, e994a5ed-09c2-41af-90f3-9d8c34773039, null, null, null, null, null, null, e994a5ed-09c2-41af-90f3-9d8c34773039, null, labuser11058730_1754017152.2_silver_db.orders_silver_demo5, null, null, null, null, null, null, null, null, null, null)</td><td>2025-08-01T06:25:15.322Z</td><td>Dataset `labuser11058730_1754017152`.`2_silver_db`.`orders_silver_demo5` defined as STREAMING_TABLE.</td><td>INFO</td><td>STABLE</td><td>null</td><td>{\"dataset_definition\":{\"dataset_type\":\"STREAMING_TABLE\",\"table_properties\":[{\"key\":\"quality\",\"value\":\"silver\"}],\"schema_json\":\"{\\\"type\\\":\\\"struct\\\",\\\"fields\\\":[{\\\"name\\\":\\\"order_id\\\",\\\"type\\\":\\\"long\\\",\\\"nullable\\\":true,\\\"metadata\\\":{}},{\\\"name\\\":\\\"order_timestamp\\\",\\\"type\\\":\\\"timestamp\\\",\\\"nullable\\\":true,\\\"metadata\\\":{}},{\\\"name\\\":\\\"customer_id\\\",\\\"type\\\":\\\"long\\\",\\\"nullable\\\":true,\\\"metadata\\\":{}},{\\\"name\\\":\\\"notifications\\\",\\\"type\\\":\\\"string\\\",\\\"nullable\\\":true,\\\"metadata\\\":{}}]}\",\"schema\":[{\"name\":\"order_id\",\"path\":[\"order_id\"],\"data_type\":\"LONG\"},{\"name\":\"order_timestamp\",\"path\":[\"order_timestamp\"],\"data_type\":\"TIMESTAMP\"},{\"name\":\"customer_id\",\"path\":[\"customer_id\"],\"data_type\":\"LONG\"},{\"name\":\"notifications\",\"path\":[\"notifications\"],\"data_type\":\"STRING\"}],\"comment\":\"Silver clean orders table\",\"expectations\":[{\"name\":\"valid_notifications\",\"action\":\"ALLOW\"},{\"name\":\"valid_date\",\"action\":\"DROP\"},{\"name\":\"valid_id\",\"action\":\"FAIL\"}],\"metastore_name\":\"`labuser11058730_1754017152`.`2_silver_db`.`orders_silver_demo5`\",\"language\":\"SQL\",\"notebook_path\":\"/Workspace/Users/labuser11058730_1754017152@vocareum.com/build-data-pipelines-with-lakeflow-declarative-pipelines-3.0.2/Build Data Pipelines with Lakeflow Declarative Pipelines/5 - Deploying a Pipeline to Production Project/orders/orders_pipeline.sql\",\"num_flows\":1,\"is_private\":true}}</td><td>dataset_definition</td></tr><tr><td>4960f8c0-6ea0-11f0-a268-aa11d67e9c2a</td><td>List(List(execution, 1754029489000034), null)</td><td>List(AWS, us-west-2, 3622490971720, null, 6ce1fdf2-b7dd-4ed3-844e-1d170666cadb, WORKSPACE, 5 - Deploying a Pipeline to Production Project - labuser11058730_1754017152, 0801-062429-la5rq55-v2n, e994a5ed-09c2-41af-90f3-9d8c34773039, null, null, null, null, null, null, e994a5ed-09c2-41af-90f3-9d8c34773039, null, labuser11058730_1754017152.1_bronze_db.status_bronze_demo5, null, null, null, null, null, null, null, null, null, null)</td><td>2025-08-01T06:25:15.34Z</td><td>Dataset `labuser11058730_1754017152`.`1_bronze_db`.`status_bronze_demo5` defined as STREAMING_TABLE.</td><td>INFO</td><td>STABLE</td><td>null</td><td>{\"dataset_definition\":{\"dataset_type\":\"STREAMING_TABLE\",\"table_properties\":[{\"key\":\"quality\",\"value\":\"bronze\"},{\"key\":\"pipelines.reset.allowed\",\"value\":\"false\"}],\"schema_json\":\"{\\\"type\\\":\\\"struct\\\",\\\"fields\\\":[{\\\"name\\\":\\\"order_id\\\",\\\"type\\\":\\\"long\\\",\\\"nullable\\\":true,\\\"metadata\\\":{}},{\\\"name\\\":\\\"order_status\\\",\\\"type\\\":\\\"string\\\",\\\"nullable\\\":true,\\\"metadata\\\":{}},{\\\"name\\\":\\\"status_timestamp\\\",\\\"type\\\":\\\"long\\\",\\\"nullable\\\":true,\\\"metadata\\\":{}},{\\\"name\\\":\\\"_rescued_data\\\",\\\"type\\\":\\\"string\\\",\\\"nullable\\\":true,\\\"metadata\\\":{}},{\\\"name\\\":\\\"processing_time\\\",\\\"type\\\":\\\"timestamp\\\",\\\"nullable\\\":true,\\\"metadata\\\":{}},{\\\"name\\\":\\\"source_file\\\",\\\"type\\\":\\\"string\\\",\\\"nullable\\\":true,\\\"metadata\\\":{}}]}\",\"schema\":[{\"name\":\"order_id\",\"path\":[\"order_id\"],\"data_type\":\"LONG\"},{\"name\":\"order_status\",\"path\":[\"order_status\"],\"data_type\":\"STRING\"},{\"name\":\"status_timestamp\",\"path\":[\"status_timestamp\"],\"data_type\":\"LONG\"},{\"name\":\"_rescued_data\",\"path\":[\"_rescued_data\"],\"data_type\":\"STRING\"},{\"name\":\"processing_time\",\"path\":[\"processing_time\"],\"data_type\":\"TIMESTAMP\"},{\"name\":\"source_file\",\"path\":[\"source_file\"],\"data_type\":\"STRING\"}],\"comment\":\"Ingest raw JSON order status files from cloud storage\",\"metastore_name\":\"`labuser11058730_1754017152`.`1_bronze_db`.`status_bronze_demo5`\",\"language\":\"SQL\",\"notebook_path\":\"/Workspace/Users/labuser11058730_1754017152@vocareum.com/build-data-pipelines-with-lakeflow-declarative-pipelines-3.0.2/Build Data Pipelines with Lakeflow Declarative Pipelines/5 - Deploying a Pipeline to Production Project/status/status_pipeline.sql\",\"num_flows\":1,\"is_private\":true}}</td><td>dataset_definition</td></tr><tr><td>4961bc10-6ea0-11f0-a268-aa11d67e9c2a</td><td>List(List(execution, 1754029489000035), null)</td><td>List(AWS, us-west-2, 3622490971720, null, 6ce1fdf2-b7dd-4ed3-844e-1d170666cadb, WORKSPACE, 5 - Deploying a Pipeline to Production Project - labuser11058730_1754017152, 0801-062429-la5rq55-v2n, e994a5ed-09c2-41af-90f3-9d8c34773039, null, null, null, null, null, null, e994a5ed-09c2-41af-90f3-9d8c34773039, null, labuser11058730_1754017152.2_silver_db.status_silver_demo5, null, null, null, null, null, null, null, null, null, null)</td><td>2025-08-01T06:25:15.345Z</td><td>Dataset `labuser11058730_1754017152`.`2_silver_db`.`status_silver_demo5` defined as STREAMING_TABLE.</td><td>INFO</td><td>STABLE</td><td>null</td><td>{\"dataset_definition\":{\"dataset_type\":\"STREAMING_TABLE\",\"table_properties\":[{\"key\":\"quality\",\"value\":\"silver\"}],\"schema_json\":\"{\\\"type\\\":\\\"struct\\\",\\\"fields\\\":[{\\\"name\\\":\\\"order_id\\\",\\\"type\\\":\\\"long\\\",\\\"nullable\\\":true,\\\"metadata\\\":{}},{\\\"name\\\":\\\"order_status\\\",\\\"type\\\":\\\"string\\\",\\\"nullable\\\":true,\\\"metadata\\\":{}},{\\\"name\\\":\\\"order_status_timestamp\\\",\\\"type\\\":\\\"timestamp\\\",\\\"nullable\\\":true,\\\"metadata\\\":{}}]}\",\"schema\":[{\"name\":\"order_id\",\"path\":[\"order_id\"],\"data_type\":\"LONG\"},{\"name\":\"order_status\",\"path\":[\"order_status\"],\"data_type\":\"STRING\"},{\"name\":\"order_status_timestamp\",\"path\":[\"order_status_timestamp\"],\"data_type\":\"TIMESTAMP\"}],\"comment\":\"Order with each status and timestamp\",\"expectations\":[{\"name\":\"valid_timestamp\",\"action\":\"DROP\"},{\"name\":\"valid_order_status\",\"action\":\"ALLOW\"}],\"metastore_name\":\"`labuser11058730_1754017152`.`2_silver_db`.`status_silver_demo5`\",\"language\":\"SQL\",\"notebook_path\":\"/Workspace/Users/labuser11058730_1754017152@vocareum.com/build-data-pipelines-with-lakeflow-declarative-pipelines-3.0.2/Build Data Pipelines with Lakeflow Declarative Pipelines/5 - Deploying a Pipeline to Production Project/status/status_pipeline.sql\",\"num_flows\":1,\"is_private\":true}}</td><td>dataset_definition</td></tr><tr><td>49627f60-6ea0-11f0-a268-aa11d67e9c2a</td><td>List(List(execution, 1754029489000036), null)</td><td>List(AWS, us-west-2, 3622490971720, null, 6ce1fdf2-b7dd-4ed3-844e-1d170666cadb, WORKSPACE, 5 - Deploying a Pipeline to Production Project - labuser11058730_1754017152, 0801-062429-la5rq55-v2n, e994a5ed-09c2-41af-90f3-9d8c34773039, null, null, null, null, null, null, e994a5ed-09c2-41af-90f3-9d8c34773039, null, labuser11058730_1754017152.3_gold_db.gold_orders_by_date_demo5, null, null, null, null, null, null, null, null, null, null)</td><td>2025-08-01T06:25:15.35Z</td><td>Dataset `labuser11058730_1754017152`.`3_gold_db`.`gold_orders_by_date_demo5` defined as MATERIALIZED_VIEW.</td><td>INFO</td><td>STABLE</td><td>null</td><td>{\"dataset_definition\":{\"dataset_type\":\"MATERIALIZED_VIEW\",\"table_properties\":[{\"key\":\"quality\",\"value\":\"gold\"}],\"schema_json\":\"{\\\"type\\\":\\\"struct\\\",\\\"fields\\\":[{\\\"name\\\":\\\"order_date\\\",\\\"type\\\":\\\"date\\\",\\\"nullable\\\":true,\\\"metadata\\\":{}},{\\\"name\\\":\\\"total_daily_orders\\\",\\\"type\\\":\\\"long\\\",\\\"nullable\\\":true,\\\"metadata\\\":{}}]}\",\"schema\":[{\"name\":\"order_date\",\"path\":[\"order_date\"],\"data_type\":\"DATE\"},{\"name\":\"total_daily_orders\",\"path\":[\"total_daily_orders\"],\"data_type\":\"LONG\"}],\"comment\":\"Aggregate gold data for downstream analysis\",\"metastore_name\":\"`labuser11058730_1754017152`.`3_gold_db`.`gold_orders_by_date_demo5`\",\"language\":\"SQL\",\"notebook_path\":\"/Workspace/Users/labuser11058730_1754017152@vocareum.com/build-data-pipelines-with-lakeflow-declarative-pipelines-3.0.2/Build Data Pipelines with Lakeflow Declarative Pipelines/5 - Deploying a Pipeline to Production Project/orders/orders_pipeline.sql\",\"num_flows\":1,\"is_private\":true}}</td><td>dataset_definition</td></tr><tr><td>496342b0-6ea0-11f0-a268-aa11d67e9c2a</td><td>List(List(execution, 1754029489000037), null)</td><td>List(AWS, us-west-2, 3622490971720, null, 6ce1fdf2-b7dd-4ed3-844e-1d170666cadb, WORKSPACE, 5 - Deploying a Pipeline to Production Project - labuser11058730_1754017152, 0801-062429-la5rq55-v2n, e994a5ed-09c2-41af-90f3-9d8c34773039, null, null, null, null, null, null, e994a5ed-09c2-41af-90f3-9d8c34773039, null, labuser11058730_1754017152.3_gold_db.cancelled_orders_gold_demo5, null, null, null, null, null, null, null, null, null, null)</td><td>2025-08-01T06:25:15.355Z</td><td>Dataset `labuser11058730_1754017152`.`3_gold_db`.`cancelled_orders_gold_demo5` defined as MATERIALIZED_VIEW.</td><td>INFO</td><td>STABLE</td><td>null</td><td>{\"dataset_definition\":{\"dataset_type\":\"MATERIALIZED_VIEW\",\"table_properties\":[{\"key\":\"quality\",\"value\":\"gold\"}],\"schema_json\":\"{\\\"type\\\":\\\"struct\\\",\\\"fields\\\":[{\\\"name\\\":\\\"order_id\\\",\\\"type\\\":\\\"long\\\",\\\"nullable\\\":true,\\\"metadata\\\":{}},{\\\"name\\\":\\\"order_timestamp\\\",\\\"type\\\":\\\"timestamp\\\",\\\"nullable\\\":true,\\\"metadata\\\":{}},{\\\"name\\\":\\\"order_status\\\",\\\"type\\\":\\\"string\\\",\\\"nullable\\\":true,\\\"metadata\\\":{}},{\\\"name\\\":\\\"order_status_timestamp\\\",\\\"type\\\":\\\"timestamp\\\",\\\"nullable\\\":true,\\\"metadata\\\":{}},{\\\"name\\\":\\\"days_to_cancel\\\",\\\"type\\\":\\\"long\\\",\\\"nullable\\\":true,\\\"metadata\\\":{}}]}\",\"schema\":[{\"name\":\"order_id\",\"path\":[\"order_id\"],\"data_type\":\"LONG\"},{\"name\":\"order_timestamp\",\"path\":[\"order_timestamp\"],\"data_type\":\"TIMESTAMP\"},{\"name\":\"order_status\",\"path\":[\"order_status\"],\"data_type\":\"STRING\"},{\"name\":\"order_status_timestamp\",\"path\":[\"order_status_timestamp\"],\"data_type\":\"TIMESTAMP\"},{\"name\":\"days_to_cancel\",\"path\":[\"days_to_cancel\"],\"data_type\":\"LONG\"}],\"comment\":\"All cancelled orders\",\"metastore_name\":\"`labuser11058730_1754017152`.`3_gold_db`.`cancelled_orders_gold_demo5`\",\"language\":\"SQL\",\"notebook_path\":\"/Workspace/Users/labuser11058730_1754017152@vocareum.com/build-data-pipelines-with-lakeflow-declarative-pipelines-3.0.2/Build Data Pipelines with Lakeflow Declarative Pipelines/5 - Deploying a Pipeline to Production Project/status/status_pipeline.sql\",\"num_flows\":1,\"is_private\":true}}</td><td>dataset_definition</td></tr><tr><td>49647b30-6ea0-11f0-a268-aa11d67e9c2a</td><td>List(List(execution, 1754029489000038), null)</td><td>List(AWS, us-west-2, 3622490971720, null, 6ce1fdf2-b7dd-4ed3-844e-1d170666cadb, WORKSPACE, 5 - Deploying a Pipeline to Production Project - labuser11058730_1754017152, 0801-062429-la5rq55-v2n, e994a5ed-09c2-41af-90f3-9d8c34773039, null, null, null, null, null, null, e994a5ed-09c2-41af-90f3-9d8c34773039, null, labuser11058730_1754017152.3_gold_db.full_order_info_gold_demo5, null, null, null, null, null, null, null, null, null, null)</td><td>2025-08-01T06:25:15.363Z</td><td>Dataset `labuser11058730_1754017152`.`3_gold_db`.`full_order_info_gold_demo5` defined as MATERIALIZED_VIEW.</td><td>INFO</td><td>STABLE</td><td>null</td><td>{\"dataset_definition\":{\"dataset_type\":\"MATERIALIZED_VIEW\",\"table_properties\":[{\"key\":\"quality\",\"value\":\"gold\"}],\"schema_json\":\"{\\\"type\\\":\\\"struct\\\",\\\"fields\\\":[{\\\"name\\\":\\\"order_id\\\",\\\"type\\\":\\\"long\\\",\\\"nullable\\\":true,\\\"metadata\\\":{}},{\\\"name\\\":\\\"order_timestamp\\\",\\\"type\\\":\\\"timestamp\\\",\\\"nullable\\\":true,\\\"metadata\\\":{}},{\\\"name\\\":\\\"order_status\\\",\\\"type\\\":\\\"string\\\",\\\"nullable\\\":true,\\\"metadata\\\":{}},{\\\"name\\\":\\\"order_status_timestamp\\\",\\\"type\\\":\\\"timestamp\\\",\\\"nullable\\\":true,\\\"metadata\\\":{}}]}\",\"schema\":[{\"name\":\"order_id\",\"path\":[\"order_id\"],\"data_type\":\"LONG\"},{\"name\":\"order_timestamp\",\"path\":[\"order_timestamp\"],\"data_type\":\"TIMESTAMP\"},{\"name\":\"order_status\",\"path\":[\"order_status\"],\"data_type\":\"STRING\"},{\"name\":\"order_status_timestamp\",\"path\":[\"order_status_timestamp\"],\"data_type\":\"TIMESTAMP\"}],\"comment\":\"Joining the orders and order status silver tables to view all orders with each individual status per order\",\"metastore_name\":\"`labuser11058730_1754017152`.`3_gold_db`.`full_order_info_gold_demo5`\",\"language\":\"SQL\",\"notebook_path\":\"/Workspace/Users/labuser11058730_1754017152@vocareum.com/build-data-pipelines-with-lakeflow-declarative-pipelines-3.0.2/Build Data Pipelines with Lakeflow Declarative Pipelines/5 - Deploying a Pipeline to Production Project/status/status_pipeline.sql\",\"num_flows\":1,\"is_private\":true}}</td><td>dataset_definition</td></tr><tr><td>49ae0750-6ea0-11f0-a268-aa11d67e9c2a</td><td>List(List(execution, 1754029489000039), null)</td><td>List(AWS, us-west-2, 3622490971720, null, 6ce1fdf2-b7dd-4ed3-844e-1d170666cadb, WORKSPACE, 5 - Deploying a Pipeline to Production Project - labuser11058730_1754017152, 0801-062429-la5rq55-v2n, e994a5ed-09c2-41af-90f3-9d8c34773039, null, null, null, null, null, null, e994a5ed-09c2-41af-90f3-9d8c34773039, null, null, null, null, null, null, null, null, null, null, null, null)</td><td>2025-08-01T06:25:15.845Z</td><td>Dataflow graph successfully loaded.</td><td>INFO</td><td>STABLE</td><td>null</td><td>{\"graph_created\":{}}</td><td>graph_created</td></tr><tr><td>49b09f60-6ea0-11f0-a268-aa11d67e9c2a</td><td>List(List(execution, 1754029489000040), null)</td><td>List(AWS, us-west-2, 3622490971720, null, 6ce1fdf2-b7dd-4ed3-844e-1d170666cadb, WORKSPACE, 5 - Deploying a Pipeline to Production Project - labuser11058730_1754017152, 0801-062429-la5rq55-v2n, e994a5ed-09c2-41af-90f3-9d8c34773039, null, null, null, null, null, null, e994a5ed-09c2-41af-90f3-9d8c34773039, null, null, null, null, null, null, null, null, null, null, null, null)</td><td>2025-08-01T06:25:15.862Z</td><td>Update e994a5 is RUNNING.</td><td>INFO</td><td>STABLE</td><td>null</td><td>{\"update_progress\":{\"state\":\"RUNNING\"}}</td><td>update_progress</td></tr><tr><td>49b33770-6ea0-11f0-a268-aa11d67e9c2a</td><td>List(List(execution, 1754029489000041), null)</td><td>List(AWS, us-west-2, 3622490971720, null, 6ce1fdf2-b7dd-4ed3-844e-1d170666cadb, WORKSPACE, 5 - Deploying a Pipeline to Production Project - labuser11058730_1754017152, 0801-062429-la5rq55-v2n, e994a5ed-09c2-41af-90f3-9d8c34773039, null, null, null, null, labuser11058730_1754017152.3_gold_db.gold_orders_by_date_demo5, null, e994a5ed-09c2-41af-90f3-9d8c34773039, null, null, null, null, null, labuser11058730_1754017152.3_gold_db.__materialization_mat_6ce1fdf2_b7dd_4ed3_844e_1d170666cadb_gold_orders_by_date_demo5_1, null, null, null, null, null, null)</td><td>2025-08-01T06:25:15.879Z</td><td>Flow 'labuser11058730_1754017152.3_gold_db.gold_orders_by_date_demo5' is QUEUED.</td><td>INFO</td><td>STABLE</td><td>null</td><td>{\"flow_progress\":{\"status\":\"QUEUED\"}}</td><td>flow_progress</td></tr><tr><td>49b66bc0-6ea0-11f0-a268-aa11d67e9c2a</td><td>List(List(execution, 1754029489000042), null)</td><td>List(AWS, us-west-2, 3622490971720, null, 6ce1fdf2-b7dd-4ed3-844e-1d170666cadb, WORKSPACE, 5 - Deploying a Pipeline to Production Project - labuser11058730_1754017152, 0801-062429-la5rq55-v2n, e994a5ed-09c2-41af-90f3-9d8c34773039, null, null, null, null, labuser11058730_1754017152.3_gold_db.full_order_info_gold_demo5, null, e994a5ed-09c2-41af-90f3-9d8c34773039, null, null, null, null, null, labuser11058730_1754017152.3_gold_db.__materialization_mat_6ce1fdf2_b7dd_4ed3_844e_1d170666cadb_full_order_info_gold_demo5_1, null, null, null, null, null, null)</td><td>2025-08-01T06:25:15.9Z</td><td>Flow 'labuser11058730_1754017152.3_gold_db.full_order_info_gold_demo5' is QUEUED.</td><td>INFO</td><td>STABLE</td><td>null</td><td>{\"flow_progress\":{\"status\":\"QUEUED\"}}</td><td>flow_progress</td></tr><tr><td>49b6b9e0-6ea0-11f0-a268-aa11d67e9c2a</td><td>List(List(execution, 1754029489000043), null)</td><td>List(AWS, us-west-2, 3622490971720, null, 6ce1fdf2-b7dd-4ed3-844e-1d170666cadb, WORKSPACE, 5 - Deploying a Pipeline to Production Project - labuser11058730_1754017152, 0801-062429-la5rq55-v2n, e994a5ed-09c2-41af-90f3-9d8c34773039, null, null, null, null, labuser11058730_1754017152.3_gold_db.delivered_orders_gold_demo5, null, e994a5ed-09c2-41af-90f3-9d8c34773039, null, null, null, null, null, labuser11058730_1754017152.3_gold_db.__materialization_mat_6ce1fdf2_b7dd_4ed3_844e_1d170666cadb_delivered_orders_gold_demo5_1, null, null, null, null, null, null)</td><td>2025-08-01T06:25:15.902Z</td><td>Flow 'labuser11058730_1754017152.3_gold_db.delivered_orders_gold_demo5' is QUEUED.</td><td>INFO</td><td>STABLE</td><td>null</td><td>{\"flow_progress\":{\"status\":\"QUEUED\"}}</td><td>flow_progress</td></tr><tr><td>49b70800-6ea0-11f0-a268-aa11d67e9c2a</td><td>List(List(execution, 1754029489000044), null)</td><td>List(AWS, us-west-2, 3622490971720, null, 6ce1fdf2-b7dd-4ed3-844e-1d170666cadb, WORKSPACE, 5 - Deploying a Pipeline to Production Project - labuser11058730_1754017152, 0801-062429-la5rq55-v2n, e994a5ed-09c2-41af-90f3-9d8c34773039, null, null, null, null, labuser11058730_1754017152.2_silver_db.status_silver_demo5, null, e994a5ed-09c2-41af-90f3-9d8c34773039, null, null, null, null, null, labuser11058730_1754017152.2_silver_db.__materialization_mat_6ce1fdf2_b7dd_4ed3_844e_1d170666cadb_status_silver_demo5_1, null, null, null, null, null, null)</td><td>2025-08-01T06:25:15.904Z</td><td>Flow 'labuser11058730_1754017152.2_silver_db.status_silver_demo5' is QUEUED.</td><td>INFO</td><td>STABLE</td><td>null</td><td>{\"flow_progress\":{\"status\":\"QUEUED\"}}</td><td>flow_progress</td></tr><tr><td>49b75620-6ea0-11f0-a268-aa11d67e9c2a</td><td>List(List(execution, 1754029489000045), null)</td><td>List(AWS, us-west-2, 3622490971720, null, 6ce1fdf2-b7dd-4ed3-844e-1d170666cadb, WORKSPACE, 5 - Deploying a Pipeline to Production Project - labuser11058730_1754017152, 0801-062429-la5rq55-v2n, e994a5ed-09c2-41af-90f3-9d8c34773039, null, null, null, null, labuser11058730_1754017152.3_gold_db.cancelled_orders_gold_demo5, null, e994a5ed-09c2-41af-90f3-9d8c34773039, null, null, null, null, null, labuser11058730_1754017152.3_gold_db.__materialization_mat_6ce1fdf2_b7dd_4ed3_844e_1d170666cadb_cancelled_orders_gold_demo5_1, null, null, null, null, null, null)</td><td>2025-08-01T06:25:15.906Z</td><td>Flow 'labuser11058730_1754017152.3_gold_db.cancelled_orders_gold_demo5' is QUEUED.</td><td>INFO</td><td>STABLE</td><td>null</td><td>{\"flow_progress\":{\"status\":\"QUEUED\"}}</td><td>flow_progress</td></tr><tr><td>49b77d30-6ea0-11f0-a268-aa11d67e9c2a</td><td>List(List(execution, 1754029489000046), null)</td><td>List(AWS, us-west-2, 3622490971720, null, 6ce1fdf2-b7dd-4ed3-844e-1d170666cadb, WORKSPACE, 5 - Deploying a Pipeline to Production Project - labuser11058730_1754017152, 0801-062429-la5rq55-v2n, e994a5ed-09c2-41af-90f3-9d8c34773039, null, null, null, null, labuser11058730_1754017152.1_bronze_db.orders_bronze_demo5, null, e994a5ed-09c2-41af-90f3-9d8c34773039, null, null, null, null, null, labuser11058730_1754017152.1_bronze_db.__materialization_mat_6ce1fdf2_b7dd_4ed3_844e_1d170666cadb_orders_bronze_demo5_1, null, null, null, null, null, null)</td><td>2025-08-01T06:25:15.907Z</td><td>Flow 'labuser11058730_1754017152.1_bronze_db.orders_bronze_demo5' is QUEUED.</td><td>INFO</td><td>STABLE</td><td>null</td><td>{\"flow_progress\":{\"status\":\"QUEUED\"}}</td><td>flow_progress</td></tr><tr><td>49b7cb50-6ea0-11f0-a268-aa11d67e9c2a</td><td>List(List(execution, 1754029489000047), null)</td><td>List(AWS, us-west-2, 3622490971720, null, 6ce1fdf2-b7dd-4ed3-844e-1d170666cadb, WORKSPACE, 5 - Deploying a Pipeline to Production Project - labuser11058730_1754017152, 0801-062429-la5rq55-v2n, e994a5ed-09c2-41af-90f3-9d8c34773039, null, null, null, null, labuser11058730_1754017152.1_bronze_db.status_bronze_demo5, null, e994a5ed-09c2-41af-90f3-9d8c34773039, null, null, null, null, null, labuser11058730_1754017152.1_bronze_db.__materialization_mat_6ce1fdf2_b7dd_4ed3_844e_1d170666cadb_status_bronze_demo5_1, null, null, null, null, null, null)</td><td>2025-08-01T06:25:15.909Z</td><td>Flow 'labuser11058730_1754017152.1_bronze_db.status_bronze_demo5' is QUEUED.</td><td>INFO</td><td>STABLE</td><td>null</td><td>{\"flow_progress\":{\"status\":\"QUEUED\"}}</td><td>flow_progress</td></tr><tr><td>49b7f260-6ea0-11f0-a268-aa11d67e9c2a</td><td>List(List(execution, 1754029489000048), null)</td><td>List(AWS, us-west-2, 3622490971720, null, 6ce1fdf2-b7dd-4ed3-844e-1d170666cadb, WORKSPACE, 5 - Deploying a Pipeline to Production Project - labuser11058730_1754017152, 0801-062429-la5rq55-v2n, e994a5ed-09c2-41af-90f3-9d8c34773039, null, null, null, null, labuser11058730_1754017152.2_silver_db.orders_silver_demo5, null, e994a5ed-09c2-41af-90f3-9d8c34773039, null, null, null, null, null, labuser11058730_1754017152.2_silver_db.__materialization_mat_6ce1fdf2_b7dd_4ed3_844e_1d170666cadb_orders_silver_demo5_1, null, null, null, null, null, null)</td><td>2025-08-01T06:25:15.91Z</td><td>Flow 'labuser11058730_1754017152.2_silver_db.orders_silver_demo5' is QUEUED.</td><td>INFO</td><td>STABLE</td><td>null</td><td>{\"flow_progress\":{\"status\":\"QUEUED\"}}</td><td>flow_progress</td></tr><tr><td>49d16dd0-6ea0-11f0-a268-aa11d67e9c2a</td><td>List(List(execution, 1754029489000049), null)</td><td>List(AWS, us-west-2, 3622490971720, null, 6ce1fdf2-b7dd-4ed3-844e-1d170666cadb, WORKSPACE, 5 - Deploying a Pipeline to Production Project - labuser11058730_1754017152, 0801-062429-la5rq55-v2n, e994a5ed-09c2-41af-90f3-9d8c34773039, null, null, null, null, labuser11058730_1754017152.1_bronze_db.status_bronze_demo5, null, e994a5ed-09c2-41af-90f3-9d8c34773039, null, null, null, null, null, labuser11058730_1754017152.1_bronze_db.__materialization_mat_6ce1fdf2_b7dd_4ed3_844e_1d170666cadb_status_bronze_demo5_1, null, null, null, null, null, null)</td><td>2025-08-01T06:25:16.077Z</td><td>Flow 'labuser11058730_1754017152.1_bronze_db.status_bronze_demo5' is STARTING.</td><td>INFO</td><td>STABLE</td><td>null</td><td>{\"flow_progress\":{\"status\":\"STARTING\"}}</td><td>flow_progress</td></tr><tr><td>4a0771f0-6ea0-11f0-a268-aa11d67e9c2a</td><td>List(List(execution, 1754029489000050), null)</td><td>List(AWS, us-west-2, 3622490971720, null, 6ce1fdf2-b7dd-4ed3-844e-1d170666cadb, WORKSPACE, 5 - Deploying a Pipeline to Production Project - labuser11058730_1754017152, 0801-062429-la5rq55-v2n, e994a5ed-09c2-41af-90f3-9d8c34773039, null, null, null, e8b6d4ed-72d7-42b9-98bd-2cc614f46d33, labuser11058730_1754017152.1_bronze_db.status_bronze_demo5, null, e994a5ed-09c2-41af-90f3-9d8c34773039, null, null, null, null, null, labuser11058730_1754017152.1_bronze_db.__materialization_mat_6ce1fdf2_b7dd_4ed3_844e_1d170666cadb_status_bronze_demo5_1, null, null, null, null, null, null)</td><td>2025-08-01T06:25:16.431Z</td><td>Flow 'labuser11058730_1754017152.1_bronze_db.status_bronze_demo5' is RUNNING.</td><td>INFO</td><td>STABLE</td><td>null</td><td>{\"flow_progress\":{\"status\":\"RUNNING\",\"metrics\":{}}}</td><td>flow_progress</td></tr><tr><td>4a408350-6ea0-11f0-a268-aa11d67e9c2a</td><td>List(List(execution, 1754029489000051), null)</td><td>List(AWS, us-west-2, 3622490971720, null, 6ce1fdf2-b7dd-4ed3-844e-1d170666cadb, WORKSPACE, 5 - Deploying a Pipeline to Production Project - labuser11058730_1754017152, 0801-062429-la5rq55-v2n, e994a5ed-09c2-41af-90f3-9d8c34773039, null, null, null, null, labuser11058730_1754017152.1_bronze_db.orders_bronze_demo5, null, e994a5ed-09c2-41af-90f3-9d8c34773039, null, null, null, null, null, labuser11058730_1754017152.1_bronze_db.__materialization_mat_6ce1fdf2_b7dd_4ed3_844e_1d170666cadb_orders_bronze_demo5_1, null, null, null, null, null, null)</td><td>2025-08-01T06:25:16.805Z</td><td>Flow 'labuser11058730_1754017152.1_bronze_db.orders_bronze_demo5' is STARTING.</td><td>INFO</td><td>STABLE</td><td>null</td><td>{\"flow_progress\":{\"status\":\"STARTING\"}}</td><td>flow_progress</td></tr><tr><td>4a659780-6ea0-11f0-a268-aa11d67e9c2a</td><td>List(List(execution, 1754029489000052), null)</td><td>List(AWS, us-west-2, 3622490971720, null, 6ce1fdf2-b7dd-4ed3-844e-1d170666cadb, WORKSPACE, 5 - Deploying a Pipeline to Production Project - labuser11058730_1754017152, 0801-062429-la5rq55-v2n, e994a5ed-09c2-41af-90f3-9d8c34773039, null, null, null, c057f148-ee4d-44bc-81ca-de3b84b00bf8, labuser11058730_1754017152.1_bronze_db.orders_bronze_demo5, null, e994a5ed-09c2-41af-90f3-9d8c34773039, null, null, null, null, null, labuser11058730_1754017152.1_bronze_db.__materialization_mat_6ce1fdf2_b7dd_4ed3_844e_1d170666cadb_orders_bronze_demo5_1, null, null, null, null, null, null)</td><td>2025-08-01T06:25:17.048Z</td><td>Flow 'labuser11058730_1754017152.1_bronze_db.orders_bronze_demo5' is RUNNING.</td><td>INFO</td><td>STABLE</td><td>null</td><td>{\"flow_progress\":{\"status\":\"RUNNING\",\"metrics\":{}}}</td><td>flow_progress</td></tr><tr><td>4edc79a0-6ea0-11f0-a268-aa11d67e9c2a</td><td>List(List(execution, 1754029489000053), null)</td><td>List(AWS, us-west-2, 3622490971720, null, 6ce1fdf2-b7dd-4ed3-844e-1d170666cadb, WORKSPACE, 5 - Deploying a Pipeline to Production Project - labuser11058730_1754017152, 0801-062429-la5rq55-v2n, e994a5ed-09c2-41af-90f3-9d8c34773039, null, null, null, e8b6d4ed-72d7-42b9-98bd-2cc614f46d33, labuser11058730_1754017152.1_bronze_db.status_bronze_demo5, null, e994a5ed-09c2-41af-90f3-9d8c34773039, null, null, null, null, null, labuser11058730_1754017152.1_bronze_db.__materialization_mat_6ce1fdf2_b7dd_4ed3_844e_1d170666cadb_status_bronze_demo5_1, null, null, null, null, null, null)</td><td>2025-08-01T06:25:24.538Z</td><td>Completed a streaming update of 'labuser11058730_1754017152.1_bronze_db.status_bronze_demo5'.</td><td>INFO</td><td>STABLE</td><td>null</td><td>{\"flow_progress\":{\"status\":\"RUNNING\",\"metrics\":{\"num_output_rows\":536,\"backlog_bytes\":0,\"backlog_files\":0,\"source_metrics\":[{\"source_name\":\"CloudFilesSource[/Volumes/dbacademy/ops/labuser11058730_1754017152@vocareum_com/status]\",\"backlog_bytes\":0,\"backlog_files\":0}]},\"data_quality\":{\"dropped_records\":0},\"streaming_metrics\":{\"event_time\":{}}}}</td><td>flow_progress</td></tr><tr><td>4ef42050-6ea0-11f0-a268-aa11d67e9c2a</td><td>List(List(execution, 1754029489000054), null)</td><td>List(AWS, us-west-2, 3622490971720, null, 6ce1fdf2-b7dd-4ed3-844e-1d170666cadb, WORKSPACE, 5 - Deploying a Pipeline to Production Project - labuser11058730_1754017152, 0801-062429-la5rq55-v2n, e994a5ed-09c2-41af-90f3-9d8c34773039, null, null, null, c057f148-ee4d-44bc-81ca-de3b84b00bf8, labuser11058730_1754017152.1_bronze_db.orders_bronze_demo5, null, e994a5ed-09c2-41af-90f3-9d8c34773039, null, null, null, null, null, labuser11058730_1754017152.1_bronze_db.__materialization_mat_6ce1fdf2_b7dd_4ed3_844e_1d170666cadb_orders_bronze_demo5_1, null, null, null, null, null, null)</td><td>2025-08-01T06:25:24.693Z</td><td>Completed a streaming update of 'labuser11058730_1754017152.1_bronze_db.orders_bronze_demo5'.</td><td>INFO</td><td>STABLE</td><td>null</td><td>{\"flow_progress\":{\"status\":\"RUNNING\",\"metrics\":{\"num_output_rows\":174,\"backlog_bytes\":0,\"backlog_files\":0,\"source_metrics\":[{\"source_name\":\"CloudFilesSource[/Volumes/dbacademy/ops/labuser11058730_1754017152@vocareum_com/orders]\",\"backlog_bytes\":0,\"backlog_files\":0}]},\"data_quality\":{\"dropped_records\":0},\"streaming_metrics\":{\"event_time\":{}}}}</td><td>flow_progress</td></tr><tr><td>4ef5ce00-6ea0-11f0-a268-aa11d67e9c2a</td><td>List(List(execution, 1754029489000055), null)</td><td>List(AWS, us-west-2, 3622490971720, null, 6ce1fdf2-b7dd-4ed3-844e-1d170666cadb, WORKSPACE, 5 - Deploying a Pipeline to Production Project - labuser11058730_1754017152, 0801-062429-la5rq55-v2n, e994a5ed-09c2-41af-90f3-9d8c34773039, null, null, null, c057f148-ee4d-44bc-81ca-de3b84b00bf8, labuser11058730_1754017152.1_bronze_db.orders_bronze_demo5, null, e994a5ed-09c2-41af-90f3-9d8c34773039, null, null, null, null, null, labuser11058730_1754017152.1_bronze_db.__materialization_mat_6ce1fdf2_b7dd_4ed3_844e_1d170666cadb_orders_bronze_demo5_1, null, null, null, null, null, null)</td><td>2025-08-01T06:25:24.704Z</td><td>Flow 'labuser11058730_1754017152.1_bronze_db.orders_bronze_demo5' has COMPLETED.</td><td>INFO</td><td>STABLE</td><td>null</td><td>{\"flow_progress\":{\"status\":\"COMPLETED\"}}</td><td>flow_progress</td></tr><tr><td>4efcabd0-6ea0-11f0-a268-aa11d67e9c2a</td><td>List(List(execution, 1754029489000056), null)</td><td>List(AWS, us-west-2, 3622490971720, null, 6ce1fdf2-b7dd-4ed3-844e-1d170666cadb, WORKSPACE, 5 - Deploying a Pipeline to Production Project - labuser11058730_1754017152, 0801-062429-la5rq55-v2n, e994a5ed-09c2-41af-90f3-9d8c34773039, null, null, null, e8b6d4ed-72d7-42b9-98bd-2cc614f46d33, labuser11058730_1754017152.1_bronze_db.status_bronze_demo5, null, e994a5ed-09c2-41af-90f3-9d8c34773039, null, null, null, null, null, labuser11058730_1754017152.1_bronze_db.__materialization_mat_6ce1fdf2_b7dd_4ed3_844e_1d170666cadb_status_bronze_demo5_1, null, null, null, null, null, null)</td><td>2025-08-01T06:25:24.749Z</td><td>Flow 'labuser11058730_1754017152.1_bronze_db.status_bronze_demo5' has COMPLETED.</td><td>INFO</td><td>STABLE</td><td>null</td><td>{\"flow_progress\":{\"status\":\"COMPLETED\"}}</td><td>flow_progress</td></tr><tr><td>4fe05510-6ea0-11f0-a268-aa11d67e9c2a</td><td>List(List(execution, 1754029489000057), null)</td><td>List(AWS, us-west-2, 3622490971720, null, 6ce1fdf2-b7dd-4ed3-844e-1d170666cadb, WORKSPACE, 5 - Deploying a Pipeline to Production Project - labuser11058730_1754017152, 0801-062429-la5rq55-v2n, e994a5ed-09c2-41af-90f3-9d8c34773039, null, null, null, null, labuser11058730_1754017152.2_silver_db.orders_silver_demo5, null, e994a5ed-09c2-41af-90f3-9d8c34773039, null, null, null, null, null, labuser11058730_1754017152.2_silver_db.__materialization_mat_6ce1fdf2_b7dd_4ed3_844e_1d170666cadb_orders_silver_demo5_1, null, null, null, null, null, null)</td><td>2025-08-01T06:25:26.241Z</td><td>Flow 'labuser11058730_1754017152.2_silver_db.orders_silver_demo5' is STARTING.</td><td>INFO</td><td>STABLE</td><td>null</td><td>{\"flow_progress\":{\"status\":\"STARTING\"}}</td><td>flow_progress</td></tr><tr><td>503579f0-6ea0-11f0-a268-aa11d67e9c2a</td><td>List(List(execution, 1754029489000058), null)</td><td>List(AWS, us-west-2, 3622490971720, null, 6ce1fdf2-b7dd-4ed3-844e-1d170666cadb, WORKSPACE, 5 - Deploying a Pipeline to Production Project - labuser11058730_1754017152, 0801-062429-la5rq55-v2n, e994a5ed-09c2-41af-90f3-9d8c34773039, null, null, null, 6d70c58b-9fa1-4b9c-933f-bb2179baa33a, labuser11058730_1754017152.2_silver_db.orders_silver_demo5, null, e994a5ed-09c2-41af-90f3-9d8c34773039, null, null, null, null, null, labuser11058730_1754017152.2_silver_db.__materialization_mat_6ce1fdf2_b7dd_4ed3_844e_1d170666cadb_orders_silver_demo5_1, null, null, null, null, null, null)</td><td>2025-08-01T06:25:26.799Z</td><td>Flow 'labuser11058730_1754017152.2_silver_db.orders_silver_demo5' is RUNNING.</td><td>INFO</td><td>STABLE</td><td>null</td><td>{\"flow_progress\":{\"status\":\"RUNNING\",\"metrics\":{}}}</td><td>flow_progress</td></tr><tr><td>506d52d0-6ea0-11f0-a268-aa11d67e9c2a</td><td>List(List(execution, 1754029489000059), null)</td><td>List(AWS, us-west-2, 3622490971720, null, 6ce1fdf2-b7dd-4ed3-844e-1d170666cadb, WORKSPACE, 5 - Deploying a Pipeline to Production Project - labuser11058730_1754017152, 0801-062429-la5rq55-v2n, e994a5ed-09c2-41af-90f3-9d8c34773039, null, null, null, null, labuser11058730_1754017152.2_silver_db.status_silver_demo5, null, e994a5ed-09c2-41af-90f3-9d8c34773039, null, null, null, null, null, labuser11058730_1754017152.2_silver_db.__materialization_mat_6ce1fdf2_b7dd_4ed3_844e_1d170666cadb_status_silver_demo5_1, null, null, null, null, null, null)</td><td>2025-08-01T06:25:27.165Z</td><td>Flow 'labuser11058730_1754017152.2_silver_db.status_silver_demo5' is STARTING.</td><td>INFO</td><td>STABLE</td><td>null</td><td>{\"flow_progress\":{\"status\":\"STARTING\"}}</td><td>flow_progress</td></tr><tr><td>50a504a0-6ea0-11f0-a268-aa11d67e9c2a</td><td>List(List(execution, 1754029489000060), null)</td><td>List(AWS, us-west-2, 3622490971720, null, 6ce1fdf2-b7dd-4ed3-844e-1d170666cadb, WORKSPACE, 5 - Deploying a Pipeline to Production Project - labuser11058730_1754017152, 0801-062429-la5rq55-v2n, e994a5ed-09c2-41af-90f3-9d8c34773039, null, null, null, 0d3ddee0-cd08-4c32-9568-4299cecedac4, labuser11058730_1754017152.2_silver_db.status_silver_demo5, null, e994a5ed-09c2-41af-90f3-9d8c34773039, null, null, null, null, null, labuser11058730_1754017152.2_silver_db.__materialization_mat_6ce1fdf2_b7dd_4ed3_844e_1d170666cadb_status_silver_demo5_1, null, null, null, null, null, null)</td><td>2025-08-01T06:25:27.53Z</td><td>Flow 'labuser11058730_1754017152.2_silver_db.status_silver_demo5' is RUNNING.</td><td>INFO</td><td>STABLE</td><td>null</td><td>{\"flow_progress\":{\"status\":\"RUNNING\",\"metrics\":{}}}</td><td>flow_progress</td></tr><tr><td>520f4300-6ea0-11f0-a268-aa11d67e9c2a</td><td>List(List(execution, 1754029489000061), null)</td><td>List(AWS, us-west-2, 3622490971720, null, 6ce1fdf2-b7dd-4ed3-844e-1d170666cadb, WORKSPACE, 5 - Deploying a Pipeline to Production Project - labuser11058730_1754017152, 0801-062429-la5rq55-v2n, e994a5ed-09c2-41af-90f3-9d8c34773039, null, null, null, 0d3ddee0-cd08-4c32-9568-4299cecedac4, labuser11058730_1754017152.2_silver_db.status_silver_demo5, null, e994a5ed-09c2-41af-90f3-9d8c34773039, null, null, null, null, null, labuser11058730_1754017152.2_silver_db.__materialization_mat_6ce1fdf2_b7dd_4ed3_844e_1d170666cadb_status_silver_demo5_1, null, null, null, null, null, null)</td><td>2025-08-01T06:25:29.904Z</td><td>Completed a streaming update of 'labuser11058730_1754017152.2_silver_db.status_silver_demo5'.</td><td>INFO</td><td>STABLE</td><td>null</td><td>{\"flow_progress\":{\"status\":\"RUNNING\",\"metrics\":{\"num_output_rows\":536,\"backlog_bytes\":0,\"backlog_files\":0,\"source_metrics\":[{\"source_name\":\"DeltaSource[labuser11058730_1754017152.1_bronze_db.status_bronze_demo5]\",\"backlog_bytes\":0,\"backlog_files\":0}]},\"data_quality\":{\"dropped_records\":0,\"expectations\":[{\"name\":\"valid_timestamp\",\"dataset\":\"labuser11058730_1754017152.2_silver_db.status_silver_demo5\",\"passed_records\":536,\"failed_records\":0},{\"name\":\"valid_order_status\",\"dataset\":\"labuser11058730_1754017152.2_silver_db.status_silver_demo5\",\"passed_records\":506,\"failed_records\":30}]},\"streaming_metrics\":{\"event_time\":{}}}}</td><td>flow_progress</td></tr><tr><td>52120220-6ea0-11f0-a268-aa11d67e9c2a</td><td>List(List(execution, 1754029489000062), null)</td><td>List(AWS, us-west-2, 3622490971720, null, 6ce1fdf2-b7dd-4ed3-844e-1d170666cadb, WORKSPACE, 5 - Deploying a Pipeline to Production Project - labuser11058730_1754017152, 0801-062429-la5rq55-v2n, e994a5ed-09c2-41af-90f3-9d8c34773039, null, null, null, 0d3ddee0-cd08-4c32-9568-4299cecedac4, labuser11058730_1754017152.2_silver_db.status_silver_demo5, null, e994a5ed-09c2-41af-90f3-9d8c34773039, null, null, null, null, null, labuser11058730_1754017152.2_silver_db.__materialization_mat_6ce1fdf2_b7dd_4ed3_844e_1d170666cadb_status_silver_demo5_1, null, null, null, null, null, null)</td><td>2025-08-01T06:25:29.922Z</td><td>Flow 'labuser11058730_1754017152.2_silver_db.status_silver_demo5' has COMPLETED.</td><td>INFO</td><td>STABLE</td><td>null</td><td>{\"flow_progress\":{\"status\":\"COMPLETED\"}}</td><td>flow_progress</td></tr><tr><td>521bed30-6ea0-11f0-a268-aa11d67e9c2a</td><td>List(List(execution, 1754029489000063), null)</td><td>List(AWS, us-west-2, 3622490971720, null, 6ce1fdf2-b7dd-4ed3-844e-1d170666cadb, WORKSPACE, 5 - Deploying a Pipeline to Production Project - labuser11058730_1754017152, 0801-062429-la5rq55-v2n, e994a5ed-09c2-41af-90f3-9d8c34773039, null, null, null, 6d70c58b-9fa1-4b9c-933f-bb2179baa33a, labuser11058730_1754017152.2_silver_db.orders_silver_demo5, null, e994a5ed-09c2-41af-90f3-9d8c34773039, null, null, null, null, null, labuser11058730_1754017152.2_silver_db.__materialization_mat_6ce1fdf2_b7dd_4ed3_844e_1d170666cadb_orders_silver_demo5_1, null, null, null, null, null, null)</td><td>2025-08-01T06:25:29.987Z</td><td>Completed a streaming update of 'labuser11058730_1754017152.2_silver_db.orders_silver_demo5'.</td><td>INFO</td><td>STABLE</td><td>null</td><td>{\"flow_progress\":{\"status\":\"RUNNING\",\"metrics\":{\"num_output_rows\":174,\"backlog_bytes\":0,\"backlog_files\":0,\"source_metrics\":[{\"source_name\":\"DeltaSource[labuser11058730_1754017152.1_bronze_db.orders_bronze_demo5]\",\"backlog_bytes\":0,\"backlog_files\":0}]},\"data_quality\":{\"dropped_records\":0,\"expectations\":[{\"name\":\"valid_notifications\",\"dataset\":\"labuser11058730_1754017152.2_silver_db.orders_silver_demo5\",\"passed_records\":174,\"failed_records\":0},{\"name\":\"valid_id\",\"dataset\":\"labuser11058730_1754017152.2_silver_db.orders_silver_demo5\",\"passed_records\":174,\"failed_records\":0},{\"name\":\"valid_date\",\"dataset\":\"labuser11058730_1754017152.2_silver_db.orders_silver_demo5\",\"passed_records\":174,\"failed_records\":0}]},\"streaming_metrics\":{\"event_time\":{}}}}</td><td>flow_progress</td></tr><tr><td>521ed360-6ea0-11f0-a268-aa11d67e9c2a</td><td>List(List(execution, 1754029489000064), null)</td><td>List(AWS, us-west-2, 3622490971720, null, 6ce1fdf2-b7dd-4ed3-844e-1d170666cadb, WORKSPACE, 5 - Deploying a Pipeline to Production Project - labuser11058730_1754017152, 0801-062429-la5rq55-v2n, e994a5ed-09c2-41af-90f3-9d8c34773039, null, null, null, 6d70c58b-9fa1-4b9c-933f-bb2179baa33a, labuser11058730_1754017152.2_silver_db.orders_silver_demo5, null, e994a5ed-09c2-41af-90f3-9d8c34773039, null, null, null, null, null, labuser11058730_1754017152.2_silver_db.__materialization_mat_6ce1fdf2_b7dd_4ed3_844e_1d170666cadb_orders_silver_demo5_1, null, null, null, null, null, null)</td><td>2025-08-01T06:25:30.006Z</td><td>Flow 'labuser11058730_1754017152.2_silver_db.orders_silver_demo5' has COMPLETED.</td><td>INFO</td><td>STABLE</td><td>null</td><td>{\"flow_progress\":{\"status\":\"COMPLETED\"}}</td><td>flow_progress</td></tr><tr><td>5345a020-6ea0-11f0-a268-aa11d67e9c2a</td><td>List(List(execution, 1754029489000065), null)</td><td>List(AWS, us-west-2, 3622490971720, null, 6ce1fdf2-b7dd-4ed3-844e-1d170666cadb, WORKSPACE, 5 - Deploying a Pipeline to Production Project - labuser11058730_1754017152, 0801-062429-la5rq55-v2n, e994a5ed-09c2-41af-90f3-9d8c34773039, null, null, null, null, labuser11058730_1754017152.3_gold_db.gold_orders_by_date_demo5, 0, e994a5ed-09c2-41af-90f3-9d8c34773039, null, null, null, null, null, labuser11058730_1754017152.3_gold_db.__materialization_mat_6ce1fdf2_b7dd_4ed3_844e_1d170666cadb_gold_orders_by_date_demo5_1, null, null, null, null, null, null)</td><td>2025-08-01T06:25:31.938Z</td><td>Flow 'labuser11058730_1754017152.3_gold_db.gold_orders_by_date_demo5' is PLANNING.</td><td>INFO</td><td>STABLE</td><td>null</td><td>{\"flow_progress\":{\"status\":\"PLANNING\"}}</td><td>flow_progress</td></tr><tr><td>53ec8e80-6ea0-11f0-a268-aa11d67e9c2a</td><td>List(List(execution, 1754029489000066), null)</td><td>List(AWS, us-west-2, 3622490971720, null, 6ce1fdf2-b7dd-4ed3-844e-1d170666cadb, WORKSPACE, 5 - Deploying a Pipeline to Production Project - labuser11058730_1754017152, 0801-062429-la5rq55-v2n, e994a5ed-09c2-41af-90f3-9d8c34773039, null, null, null, 9ddde4ce-4586-4fde-8bf9-b285c49a523b, labuser11058730_1754017152.3_gold_db.gold_orders_by_date_demo5, 0, e994a5ed-09c2-41af-90f3-9d8c34773039, null, null, null, null, null, labuser11058730_1754017152.3_gold_db.__materialization_mat_6ce1fdf2_b7dd_4ed3_844e_1d170666cadb_gold_orders_by_date_demo5_1, null, null, null, null, null, null)</td><td>2025-08-01T06:25:33.032Z</td><td>Flow 'labuser11058730_1754017152.3_gold_db.gold_orders_by_date_demo5' has been planned in DLT to be executed as COMPLETE_RECOMPUTE.</td><td>INFO</td><td>EVOLVING</td><td>null</td><td>{\"planning_information\":{\"technique_information\":[{\"incrementalization_issues\":[{\"issue_type\":\"CHANGE_SET_MISSING\",\"prevent_incrementalization\":true}]},{\"maintenance_type\":\"MAINTENANCE_TYPE_COMPLETE_RECOMPUTE\",\"is_chosen\":true,\"is_applicable\":true,\"cost\":1585.0}],\"source_table_information\":[{\"table_id\":\"d5f7414c-d9fe-49b9-965f-1af66e757836\",\"full_size\":4124.0,\"num_rows\":174,\"num_files\":1,\"is_size_after_pruning\":true,\"is_row_id_enabled\":true,\"is_cdf_enabled\":true,\"is_deletion_vector_enabled\":true}],\"target_table_information\":{\"table_name\":\"`labuser11058730_1754017152`.`3_gold_db`.`gold_orders_by_date_demo5`\",\"table_id\":\"200c3af9-0c63-487b-9665-5f72a2b6926e\",\"full_size\":0.0,\"is_row_id_enabled\":true,\"is_cdf_enabled\":true,\"is_deletion_vector_enabled\":true},\"planning_wall_time_ms\":987}}</td><td>planning_information</td></tr><tr><td>53f8c380-6ea0-11f0-a268-aa11d67e9c2a</td><td>List(List(execution, 1754029489000067), null)</td><td>List(AWS, us-west-2, 3622490971720, null, 6ce1fdf2-b7dd-4ed3-844e-1d170666cadb, WORKSPACE, 5 - Deploying a Pipeline to Production Project - labuser11058730_1754017152, 0801-062429-la5rq55-v2n, e994a5ed-09c2-41af-90f3-9d8c34773039, null, null, null, 9ddde4ce-4586-4fde-8bf9-b285c49a523b, labuser11058730_1754017152.3_gold_db.gold_orders_by_date_demo5, 0, e994a5ed-09c2-41af-90f3-9d8c34773039, null, null, null, null, null, labuser11058730_1754017152.3_gold_db.__materialization_mat_6ce1fdf2_b7dd_4ed3_844e_1d170666cadb_gold_orders_by_date_demo5_1, null, null, null, null, null, null)</td><td>2025-08-01T06:25:33.112Z</td><td>Flow 'labuser11058730_1754017152.3_gold_db.gold_orders_by_date_demo5' is STARTING.</td><td>INFO</td><td>STABLE</td><td>null</td><td>{\"flow_progress\":{\"status\":\"STARTING\"}}</td><td>flow_progress</td></tr><tr><td>53f9fc00-6ea0-11f0-a268-aa11d67e9c2a</td><td>List(List(execution, 1754029489000068), null)</td><td>List(AWS, us-west-2, 3622490971720, null, 6ce1fdf2-b7dd-4ed3-844e-1d170666cadb, WORKSPACE, 5 - Deploying a Pipeline to Production Project - labuser11058730_1754017152, 0801-062429-la5rq55-v2n, e994a5ed-09c2-41af-90f3-9d8c34773039, null, null, null, null, labuser11058730_1754017152.3_gold_db.full_order_info_gold_demo5, 0, e994a5ed-09c2-41af-90f3-9d8c34773039, null, null, null, null, null, labuser11058730_1754017152.3_gold_db.__materialization_mat_6ce1fdf2_b7dd_4ed3_844e_1d170666cadb_full_order_info_gold_demo5_1, null, null, null, null, null, null)</td><td>2025-08-01T06:25:33.12Z</td><td>Flow 'labuser11058730_1754017152.3_gold_db.full_order_info_gold_demo5' is PLANNING.</td><td>INFO</td><td>STABLE</td><td>null</td><td>{\"flow_progress\":{\"status\":\"PLANNING\"}}</td><td>flow_progress</td></tr><tr><td>53fd3050-6ea0-11f0-a268-aa11d67e9c2a</td><td>List(List(execution, 1754029489000069), null)</td><td>List(AWS, us-west-2, 3622490971720, null, 6ce1fdf2-b7dd-4ed3-844e-1d170666cadb, WORKSPACE, 5 - Deploying a Pipeline to Production Project - labuser11058730_1754017152, 0801-062429-la5rq55-v2n, e994a5ed-09c2-41af-90f3-9d8c34773039, null, null, null, 9ddde4ce-4586-4fde-8bf9-b285c49a523b, labuser11058730_1754017152.3_gold_db.gold_orders_by_date_demo5, 0, e994a5ed-09c2-41af-90f3-9d8c34773039, null, null, null, null, null, labuser11058730_1754017152.3_gold_db.__materialization_mat_6ce1fdf2_b7dd_4ed3_844e_1d170666cadb_gold_orders_by_date_demo5_1, null, null, null, null, null, null)</td><td>2025-08-01T06:25:33.141Z</td><td>Flow 'labuser11058730_1754017152.3_gold_db.gold_orders_by_date_demo5' is RUNNING.</td><td>INFO</td><td>STABLE</td><td>null</td><td>{\"flow_progress\":{\"status\":\"RUNNING\",\"metrics\":{\"backlog_bytes\":4124,\"backlog_files\":1}}}</td><td>flow_progress</td></tr><tr><td>5447cde0-6ea0-11f0-a268-aa11d67e9c2a</td><td>List(List(execution, 1754029489000070), null)</td><td>List(AWS, us-west-2, 3622490971720, null, 6ce1fdf2-b7dd-4ed3-844e-1d170666cadb, WORKSPACE, 5 - Deploying a Pipeline to Production Project - labuser11058730_1754017152, 0801-062429-la5rq55-v2n, e994a5ed-09c2-41af-90f3-9d8c34773039, null, null, null, 7c1a49fa-fcb5-45f6-bf24-4a292ac2140b, labuser11058730_1754017152.3_gold_db.full_order_info_gold_demo5, 0, e994a5ed-09c2-41af-90f3-9d8c34773039, null, null, null, null, null, labuser11058730_1754017152.3_gold_db.__materialization_mat_6ce1fdf2_b7dd_4ed3_844e_1d170666cadb_full_order_info_gold_demo5_1, null, null, null, null, null, null)</td><td>2025-08-01T06:25:33.63Z</td><td>Flow 'labuser11058730_1754017152.3_gold_db.full_order_info_gold_demo5' has been planned in DLT to be executed as COMPLETE_RECOMPUTE.</td><td>INFO</td><td>EVOLVING</td><td>null</td><td>{\"planning_information\":{\"technique_information\":[{\"incrementalization_issues\":[{\"issue_type\":\"CHANGE_SET_MISSING\",\"prevent_incrementalization\":true}]},{\"maintenance_type\":\"MAINTENANCE_TYPE_COMPLETE_RECOMPUTE\",\"is_chosen\":true,\"is_applicable\":true,\"cost\":372091.0}],\"source_table_information\":[{\"table_id\":\"4f59ae67-2d5e-4523-8700-f788e4855363\",\"full_size\":6859.0,\"num_rows\":536,\"num_files\":1,\"is_size_after_pruning\":true,\"is_row_id_enabled\":true,\"is_cdf_enabled\":true,\"is_deletion_vector_enabled\":true},{\"table_id\":\"d5f7414c-d9fe-49b9-965f-1af66e757836\",\"full_size\":4124.0,\"num_rows\":174,\"num_files\":1,\"is_size_after_pruning\":true,\"is_row_id_enabled\":true,\"is_cdf_enabled\":true,\"is_deletion_vector_enabled\":true}],\"target_table_information\":{\"table_name\":\"`labuser11058730_1754017152`.`3_gold_db`.`full_order_info_gold_demo5`\",\"table_id\":\"0eabdda1-f3f9-4614-a4af-cbf7916be303\",\"full_size\":0.0,\"is_row_id_enabled\":true,\"is_cdf_enabled\":true,\"is_deletion_vector_enabled\":true},\"planning_wall_time_ms\":383}}</td><td>planning_information</td></tr><tr><td>54486a20-6ea0-11f0-a268-aa11d67e9c2a</td><td>List(List(execution, 1754029489000071), null)</td><td>List(AWS, us-west-2, 3622490971720, null, 6ce1fdf2-b7dd-4ed3-844e-1d170666cadb, WORKSPACE, 5 - Deploying a Pipeline to Production Project - labuser11058730_1754017152, 0801-062429-la5rq55-v2n, e994a5ed-09c2-41af-90f3-9d8c34773039, null, null, null, 7c1a49fa-fcb5-45f6-bf24-4a292ac2140b, labuser11058730_1754017152.3_gold_db.full_order_info_gold_demo5, 0, e994a5ed-09c2-41af-90f3-9d8c34773039, null, null, null, null, null, labuser11058730_1754017152.3_gold_db.__materialization_mat_6ce1fdf2_b7dd_4ed3_844e_1d170666cadb_full_order_info_gold_demo5_1, null, null, null, null, null, null)</td><td>2025-08-01T06:25:33.634Z</td><td>Flow 'labuser11058730_1754017152.3_gold_db.full_order_info_gold_demo5' is STARTING.</td><td>INFO</td><td>STABLE</td><td>null</td><td>{\"flow_progress\":{\"status\":\"STARTING\"}}</td><td>flow_progress</td></tr><tr><td>545402e0-6ea0-11f0-a268-aa11d67e9c2a</td><td>List(List(execution, 1754029489000072), null)</td><td>List(AWS, us-west-2, 3622490971720, null, 6ce1fdf2-b7dd-4ed3-844e-1d170666cadb, WORKSPACE, 5 - Deploying a Pipeline to Production Project - labuser11058730_1754017152, 0801-062429-la5rq55-v2n, e994a5ed-09c2-41af-90f3-9d8c34773039, null, null, null, 7c1a49fa-fcb5-45f6-bf24-4a292ac2140b, labuser11058730_1754017152.3_gold_db.full_order_info_gold_demo5, 0, e994a5ed-09c2-41af-90f3-9d8c34773039, null, null, null, null, null, labuser11058730_1754017152.3_gold_db.__materialization_mat_6ce1fdf2_b7dd_4ed3_844e_1d170666cadb_full_order_info_gold_demo5_1, null, null, null, null, null, null)</td><td>2025-08-01T06:25:33.71Z</td><td>Flow 'labuser11058730_1754017152.3_gold_db.full_order_info_gold_demo5' is RUNNING.</td><td>INFO</td><td>STABLE</td><td>null</td><td>{\"flow_progress\":{\"status\":\"RUNNING\",\"metrics\":{\"backlog_bytes\":10983,\"backlog_files\":2}}}</td><td>flow_progress</td></tr><tr><td>54e23920-6ea0-11f0-a268-aa11d67e9c2a</td><td>List(List(execution, 1754029489000074), null)</td><td>List(AWS, us-west-2, 3622490971720, null, 6ce1fdf2-b7dd-4ed3-844e-1d170666cadb, WORKSPACE, 5 - Deploying a Pipeline to Production Project - labuser11058730_1754017152, 0801-062429-la5rq55-v2n, e994a5ed-09c2-41af-90f3-9d8c34773039, null, null, null, 9ddde4ce-4586-4fde-8bf9-b285c49a523b, labuser11058730_1754017152.3_gold_db.gold_orders_by_date_demo5, 0, e994a5ed-09c2-41af-90f3-9d8c34773039, null, null, null, null, null, labuser11058730_1754017152.3_gold_db.__materialization_mat_6ce1fdf2_b7dd_4ed3_844e_1d170666cadb_gold_orders_by_date_demo5_1, null, null, null, null, null, null)</td><td>2025-08-01T06:25:34.642Z</td><td>`labuser11058730_1754017152`.`3_gold_db`.`__materialization_mat_6ce1fdf2_b7dd_4ed3_844e_1d170666cadb_gold_orders_by_date_demo5_1` finished with executor time 0 ms and executor CPU time 0 ms.</td><td>METRICS</td><td>EVOLVING</td><td>null</td><td>{\"aggregated_flow_metrics\":{\"executor_time_ms\":0,\"executor_cpu_time_ms\":0}}</td><td>aggregated_flow_metrics</td></tr><tr><td>554a49c0-6ea0-11f0-a268-aa11d67e9c2a</td><td>List(List(execution, 1754029489000076), null)</td><td>List(AWS, us-west-2, 3622490971720, null, 6ce1fdf2-b7dd-4ed3-844e-1d170666cadb, WORKSPACE, 5 - Deploying a Pipeline to Production Project - labuser11058730_1754017152, 0801-062429-la5rq55-v2n, e994a5ed-09c2-41af-90f3-9d8c34773039, null, null, null, 7c1a49fa-fcb5-45f6-bf24-4a292ac2140b, labuser11058730_1754017152.3_gold_db.full_order_info_gold_demo5, 0, e994a5ed-09c2-41af-90f3-9d8c34773039, null, null, null, null, null, labuser11058730_1754017152.3_gold_db.__materialization_mat_6ce1fdf2_b7dd_4ed3_844e_1d170666cadb_full_order_info_gold_demo5_1, null, null, null, null, null, null)</td><td>2025-08-01T06:25:35.324Z</td><td>`labuser11058730_1754017152`.`3_gold_db`.`__materialization_mat_6ce1fdf2_b7dd_4ed3_844e_1d170666cadb_full_order_info_gold_demo5_1` finished with executor time 0 ms and executor CPU time 0 ms.</td><td>METRICS</td><td>EVOLVING</td><td>null</td><td>{\"aggregated_flow_metrics\":{\"executor_time_ms\":0,\"executor_cpu_time_ms\":0}}</td><td>aggregated_flow_metrics</td></tr><tr><td>56916fc0-6ea0-11f0-a268-aa11d67e9c2a</td><td>List(List(execution, 1754029489000077), null)</td><td>List(AWS, us-west-2, 3622490971720, null, 6ce1fdf2-b7dd-4ed3-844e-1d170666cadb, WORKSPACE, 5 - Deploying a Pipeline to Production Project - labuser11058730_1754017152, 0801-062429-la5rq55-v2n, e994a5ed-09c2-41af-90f3-9d8c34773039, null, null, null, null, null, null, e994a5ed-09c2-41af-90f3-9d8c34773039, null, labuser11058730_1754017152.3_gold_db.gold_orders_by_date_demo5, null, null, null, null, null, null, null, 4c4eff44-7b7f-4f7a-b178-4273966755e8, null, null)</td><td>2025-08-01T06:25:37.468Z</td><td>Materialized View `labuser11058730_1754017152`.`3_gold_db`.`gold_orders_by_date_demo5` has been created.</td><td>INFO</td><td>EVOLVING</td><td>null</td><td>{\"dataset_life_cycle\":{\"state\":\"CREATED\",\"dataset_type\":\"MATERIALIZED_VIEW\"}}</td><td>dataset_life_cycle</td></tr><tr><td>569455f0-6ea0-11f0-a268-aa11d67e9c2a</td><td>List(List(execution, 1754029489000078), null)</td><td>List(AWS, us-west-2, 3622490971720, null, 6ce1fdf2-b7dd-4ed3-844e-1d170666cadb, WORKSPACE, 5 - Deploying a Pipeline to Production Project - labuser11058730_1754017152, 0801-062429-la5rq55-v2n, e994a5ed-09c2-41af-90f3-9d8c34773039, null, null, null, 9ddde4ce-4586-4fde-8bf9-b285c49a523b, labuser11058730_1754017152.3_gold_db.gold_orders_by_date_demo5, 0, e994a5ed-09c2-41af-90f3-9d8c34773039, null, null, null, null, null, null, null, null, null, null, null, null)</td><td>2025-08-01T06:25:37.487Z</td><td>Flow 'labuser11058730_1754017152.3_gold_db.gold_orders_by_date_demo5' has COMPLETED.</td><td>INFO</td><td>STABLE</td><td>null</td><td>{\"flow_progress\":{\"status\":\"COMPLETED\",\"metrics\":{\"num_output_rows\":7},\"data_quality\":{\"dropped_records\":0}}}</td><td>flow_progress</td></tr><tr><td>573f6300-6ea0-11f0-a268-aa11d67e9c2a</td><td>List(List(execution, 1754029489000079), null)</td><td>List(AWS, us-west-2, 3622490971720, null, 6ce1fdf2-b7dd-4ed3-844e-1d170666cadb, WORKSPACE, 5 - Deploying a Pipeline to Production Project - labuser11058730_1754017152, 0801-062429-la5rq55-v2n, e994a5ed-09c2-41af-90f3-9d8c34773039, null, null, null, null, null, null, e994a5ed-09c2-41af-90f3-9d8c34773039, null, labuser11058730_1754017152.3_gold_db.full_order_info_gold_demo5, null, null, null, null, null, null, null, 2aa2066f-7d88-4ad3-9408-1ac01244b77f, null, null)</td><td>2025-08-01T06:25:38.608Z</td><td>Materialized View `labuser11058730_1754017152`.`3_gold_db`.`full_order_info_gold_demo5` has been created.</td><td>INFO</td><td>EVOLVING</td><td>null</td><td>{\"dataset_life_cycle\":{\"state\":\"CREATED\",\"dataset_type\":\"MATERIALIZED_VIEW\"}}</td><td>dataset_life_cycle</td></tr><tr><td>57407470-6ea0-11f0-a268-aa11d67e9c2a</td><td>List(List(execution, 1754029489000080), null)</td><td>List(AWS, us-west-2, 3622490971720, null, 6ce1fdf2-b7dd-4ed3-844e-1d170666cadb, WORKSPACE, 5 - Deploying a Pipeline to Production Project - labuser11058730_1754017152, 0801-062429-la5rq55-v2n, e994a5ed-09c2-41af-90f3-9d8c34773039, null, null, null, 7c1a49fa-fcb5-45f6-bf24-4a292ac2140b, labuser11058730_1754017152.3_gold_db.full_order_info_gold_demo5, 0, e994a5ed-09c2-41af-90f3-9d8c34773039, null, null, null, null, null, null, null, null, null, null, null, null)</td><td>2025-08-01T06:25:38.615Z</td><td>Flow 'labuser11058730_1754017152.3_gold_db.full_order_info_gold_demo5' has COMPLETED.</td><td>INFO</td><td>STABLE</td><td>null</td><td>{\"flow_progress\":{\"status\":\"COMPLETED\",\"metrics\":{\"num_output_rows\":536},\"data_quality\":{\"dropped_records\":0}}}</td><td>flow_progress</td></tr><tr><td>57782640-6ea0-11f0-a268-aa11d67e9c2a</td><td>List(List(execution, 1754029489000081), null)</td><td>List(AWS, us-west-2, 3622490971720, null, 6ce1fdf2-b7dd-4ed3-844e-1d170666cadb, WORKSPACE, 5 - Deploying a Pipeline to Production Project - labuser11058730_1754017152, 0801-062429-la5rq55-v2n, e994a5ed-09c2-41af-90f3-9d8c34773039, null, null, null, null, labuser11058730_1754017152.3_gold_db.cancelled_orders_gold_demo5, 0, e994a5ed-09c2-41af-90f3-9d8c34773039, null, null, null, null, null, labuser11058730_1754017152.3_gold_db.__materialization_mat_6ce1fdf2_b7dd_4ed3_844e_1d170666cadb_cancelled_orders_gold_demo5_1, null, null, null, null, null, null)</td><td>2025-08-01T06:25:38.98Z</td><td>Flow 'labuser11058730_1754017152.3_gold_db.cancelled_orders_gold_demo5' is PLANNING.</td><td>INFO</td><td>STABLE</td><td>null</td><td>{\"flow_progress\":{\"status\":\"PLANNING\"}}</td><td>flow_progress</td></tr><tr><td>57a773a0-6ea0-11f0-a268-aa11d67e9c2a</td><td>List(List(execution, 1754029489000082), null)</td><td>List(AWS, us-west-2, 3622490971720, null, 6ce1fdf2-b7dd-4ed3-844e-1d170666cadb, WORKSPACE, 5 - Deploying a Pipeline to Production Project - labuser11058730_1754017152, 0801-062429-la5rq55-v2n, e994a5ed-09c2-41af-90f3-9d8c34773039, null, null, null, 83501d35-62f4-4f92-9ca5-8413928a1319, labuser11058730_1754017152.3_gold_db.cancelled_orders_gold_demo5, 0, e994a5ed-09c2-41af-90f3-9d8c34773039, null, null, null, null, null, labuser11058730_1754017152.3_gold_db.__materialization_mat_6ce1fdf2_b7dd_4ed3_844e_1d170666cadb_cancelled_orders_gold_demo5_1, null, null, null, null, null, null)</td><td>2025-08-01T06:25:39.29Z</td><td>Flow 'labuser11058730_1754017152.3_gold_db.cancelled_orders_gold_demo5' has been planned in DLT to be executed as COMPLETE_RECOMPUTE.</td><td>INFO</td><td>EVOLVING</td><td>null</td><td>{\"planning_information\":{\"technique_information\":[{\"incrementalization_issues\":[{\"issue_type\":\"CHANGE_SET_MISSING\",\"prevent_incrementalization\":true}]},{\"maintenance_type\":\"MAINTENANCE_TYPE_COMPLETE_RECOMPUTE\",\"is_chosen\":true,\"is_applicable\":true,\"cost\":7389.0}],\"source_table_information\":[{\"table_name\":\"`labuser11058730_1754017152`.`3_gold_db`.`full_order_info_gold_demo5`\",\"table_id\":\"0eabdda1-f3f9-4614-a4af-cbf7916be303\",\"catalog_table_type\":\"MATERIALIZED_VIEW\",\"full_size\":9997.0,\"num_rows\":536,\"num_files\":1,\"is_size_after_pruning\":true,\"is_row_id_enabled\":true,\"is_cdf_enabled\":true,\"is_deletion_vector_enabled\":true}],\"target_table_information\":{\"table_name\":\"`labuser11058730_1754017152`.`3_gold_db`.`cancelled_orders_gold_demo5`\",\"table_id\":\"cadc933b-69aa-44fd-97f3-18a891588e27\",\"full_size\":0.0,\"is_row_id_enabled\":true,\"is_cdf_enabled\":true,\"is_deletion_vector_enabled\":true},\"planning_wall_time_ms\":217}}</td><td>planning_information</td></tr><tr><td>57a7e8d0-6ea0-11f0-a268-aa11d67e9c2a</td><td>List(List(execution, 1754029489000083), null)</td><td>List(AWS, us-west-2, 3622490971720, null, 6ce1fdf2-b7dd-4ed3-844e-1d170666cadb, WORKSPACE, 5 - Deploying a Pipeline to Production Project - labuser11058730_1754017152, 0801-062429-la5rq55-v2n, e994a5ed-09c2-41af-90f3-9d8c34773039, null, null, null, 83501d35-62f4-4f92-9ca5-8413928a1319, labuser11058730_1754017152.3_gold_db.cancelled_orders_gold_demo5, 0, e994a5ed-09c2-41af-90f3-9d8c34773039, null, null, null, null, null, labuser11058730_1754017152.3_gold_db.__materialization_mat_6ce1fdf2_b7dd_4ed3_844e_1d170666cadb_cancelled_orders_gold_demo5_1, null, null, null, null, null, null)</td><td>2025-08-01T06:25:39.293Z</td><td>Flow 'labuser11058730_1754017152.3_gold_db.cancelled_orders_gold_demo5' is STARTING.</td><td>INFO</td><td>STABLE</td><td>null</td><td>{\"flow_progress\":{\"status\":\"STARTING\"}}</td><td>flow_progress</td></tr><tr><td>57a88510-6ea0-11f0-a268-aa11d67e9c2a</td><td>List(List(execution, 1754029489000084), null)</td><td>List(AWS, us-west-2, 3622490971720, null, 6ce1fdf2-b7dd-4ed3-844e-1d170666cadb, WORKSPACE, 5 - Deploying a Pipeline to Production Project - labuser11058730_1754017152, 0801-062429-la5rq55-v2n, e994a5ed-09c2-41af-90f3-9d8c34773039, null, null, null, null, labuser11058730_1754017152.3_gold_db.delivered_orders_gold_demo5, 0, e994a5ed-09c2-41af-90f3-9d8c34773039, null, null, null, null, null, labuser11058730_1754017152.3_gold_db.__materialization_mat_6ce1fdf2_b7dd_4ed3_844e_1d170666cadb_delivered_orders_gold_demo5_1, null, null, null, null, null, null)</td><td>2025-08-01T06:25:39.297Z</td><td>Flow 'labuser11058730_1754017152.3_gold_db.delivered_orders_gold_demo5' is PLANNING.</td><td>INFO</td><td>STABLE</td><td>null</td><td>{\"flow_progress\":{\"status\":\"PLANNING\"}}</td><td>flow_progress</td></tr><tr><td>57ab1d20-6ea0-11f0-a268-aa11d67e9c2a</td><td>List(List(execution, 1754029489000085), null)</td><td>List(AWS, us-west-2, 3622490971720, null, 6ce1fdf2-b7dd-4ed3-844e-1d170666cadb, WORKSPACE, 5 - Deploying a Pipeline to Production Project - labuser11058730_1754017152, 0801-062429-la5rq55-v2n, e994a5ed-09c2-41af-90f3-9d8c34773039, null, null, null, 83501d35-62f4-4f92-9ca5-8413928a1319, labuser11058730_1754017152.3_gold_db.cancelled_orders_gold_demo5, 0, e994a5ed-09c2-41af-90f3-9d8c34773039, null, null, null, null, null, labuser11058730_1754017152.3_gold_db.__materialization_mat_6ce1fdf2_b7dd_4ed3_844e_1d170666cadb_cancelled_orders_gold_demo5_1, null, null, null, null, null, null)</td><td>2025-08-01T06:25:39.314Z</td><td>Flow 'labuser11058730_1754017152.3_gold_db.cancelled_orders_gold_demo5' is RUNNING.</td><td>INFO</td><td>STABLE</td><td>null</td><td>{\"flow_progress\":{\"status\":\"RUNNING\",\"metrics\":{\"backlog_bytes\":0,\"backlog_files\":0}}}</td><td>flow_progress</td></tr><tr><td>57e16f60-6ea0-11f0-a268-aa11d67e9c2a</td><td>List(List(execution, 1754029489000086), null)</td><td>List(AWS, us-west-2, 3622490971720, null, 6ce1fdf2-b7dd-4ed3-844e-1d170666cadb, WORKSPACE, 5 - Deploying a Pipeline to Production Project - labuser11058730_1754017152, 0801-062429-la5rq55-v2n, e994a5ed-09c2-41af-90f3-9d8c34773039, null, null, null, 4ebc0471-bf9d-4ffb-8f66-c6797d12540d, labuser11058730_1754017152.3_gold_db.delivered_orders_gold_demo5, 0, e994a5ed-09c2-41af-90f3-9d8c34773039, null, null, null, null, null, labuser11058730_1754017152.3_gold_db.__materialization_mat_6ce1fdf2_b7dd_4ed3_844e_1d170666cadb_delivered_orders_gold_demo5_1, null, null, null, null, null, null)</td><td>2025-08-01T06:25:39.67Z</td><td>Flow 'labuser11058730_1754017152.3_gold_db.delivered_orders_gold_demo5' has been planned in DLT to be executed as COMPLETE_RECOMPUTE.</td><td>INFO</td><td>EVOLVING</td><td>null</td><td>{\"planning_information\":{\"technique_information\":[{\"incrementalization_issues\":[{\"issue_type\":\"CHANGE_SET_MISSING\",\"prevent_incrementalization\":true}]},{\"maintenance_type\":\"MAINTENANCE_TYPE_COMPLETE_RECOMPUTE\",\"is_chosen\":true,\"is_applicable\":true,\"cost\":7389.0}],\"source_table_information\":[{\"table_name\":\"`labuser11058730_1754017152`.`3_gold_db`.`full_order_info_gold_demo5`\",\"table_id\":\"0eabdda1-f3f9-4614-a4af-cbf7916be303\",\"catalog_table_type\":\"MATERIALIZED_VIEW\",\"full_size\":9997.0,\"num_rows\":536,\"num_files\":1,\"is_size_after_pruning\":true,\"is_row_id_enabled\":true,\"is_cdf_enabled\":true,\"is_deletion_vector_enabled\":true}],\"target_table_information\":{\"table_name\":\"`labuser11058730_1754017152`.`3_gold_db`.`delivered_orders_gold_demo5`\",\"table_id\":\"2fc9af5c-295c-4569-9905-9dd40863f71a\",\"full_size\":0.0,\"is_row_id_enabled\":true,\"is_cdf_enabled\":true,\"is_deletion_vector_enabled\":true},\"planning_wall_time_ms\":253}}</td><td>planning_information</td></tr><tr><td>57e1e490-6ea0-11f0-a268-aa11d67e9c2a</td><td>List(List(execution, 1754029489000087), null)</td><td>List(AWS, us-west-2, 3622490971720, null, 6ce1fdf2-b7dd-4ed3-844e-1d170666cadb, WORKSPACE, 5 - Deploying a Pipeline to Production Project - labuser11058730_1754017152, 0801-062429-la5rq55-v2n, e994a5ed-09c2-41af-90f3-9d8c34773039, null, null, null, 4ebc0471-bf9d-4ffb-8f66-c6797d12540d, labuser11058730_1754017152.3_gold_db.delivered_orders_gold_demo5, 0, e994a5ed-09c2-41af-90f3-9d8c34773039, null, null, null, null, null, labuser11058730_1754017152.3_gold_db.__materialization_mat_6ce1fdf2_b7dd_4ed3_844e_1d170666cadb_delivered_orders_gold_demo5_1, null, null, null, null, null, null)</td><td>2025-08-01T06:25:39.673Z</td><td>Flow 'labuser11058730_1754017152.3_gold_db.delivered_orders_gold_demo5' is STARTING.</td><td>INFO</td><td>STABLE</td><td>null</td><td>{\"flow_progress\":{\"status\":\"STARTING\"}}</td><td>flow_progress</td></tr><tr><td>57e47ca0-6ea0-11f0-a268-aa11d67e9c2a</td><td>List(List(execution, 1754029489000088), null)</td><td>List(AWS, us-west-2, 3622490971720, null, 6ce1fdf2-b7dd-4ed3-844e-1d170666cadb, WORKSPACE, 5 - Deploying a Pipeline to Production Project - labuser11058730_1754017152, 0801-062429-la5rq55-v2n, e994a5ed-09c2-41af-90f3-9d8c34773039, null, null, null, 4ebc0471-bf9d-4ffb-8f66-c6797d12540d, labuser11058730_1754017152.3_gold_db.delivered_orders_gold_demo5, 0, e994a5ed-09c2-41af-90f3-9d8c34773039, null, null, null, null, null, labuser11058730_1754017152.3_gold_db.__materialization_mat_6ce1fdf2_b7dd_4ed3_844e_1d170666cadb_delivered_orders_gold_demo5_1, null, null, null, null, null, null)</td><td>2025-08-01T06:25:39.69Z</td><td>Flow 'labuser11058730_1754017152.3_gold_db.delivered_orders_gold_demo5' is RUNNING.</td><td>INFO</td><td>STABLE</td><td>null</td><td>{\"flow_progress\":{\"status\":\"RUNNING\",\"metrics\":{\"backlog_bytes\":0,\"backlog_files\":0}}}</td><td>flow_progress</td></tr><tr><td>5868eee0-6ea0-11f0-a268-aa11d67e9c2a</td><td>List(List(execution, 1754029489000090), null)</td><td>List(AWS, us-west-2, 3622490971720, null, 6ce1fdf2-b7dd-4ed3-844e-1d170666cadb, WORKSPACE, 5 - Deploying a Pipeline to Production Project - labuser11058730_1754017152, 0801-062429-la5rq55-v2n, e994a5ed-09c2-41af-90f3-9d8c34773039, null, null, null, 83501d35-62f4-4f92-9ca5-8413928a1319, labuser11058730_1754017152.3_gold_db.cancelled_orders_gold_demo5, 0, e994a5ed-09c2-41af-90f3-9d8c34773039, null, null, null, null, null, labuser11058730_1754017152.3_gold_db.__materialization_mat_6ce1fdf2_b7dd_4ed3_844e_1d170666cadb_cancelled_orders_gold_demo5_1, null, null, null, null, null, null)</td><td>2025-08-01T06:25:40.558Z</td><td>`labuser11058730_1754017152`.`3_gold_db`.`__materialization_mat_6ce1fdf2_b7dd_4ed3_844e_1d170666cadb_cancelled_orders_gold_demo5_1` finished with executor time 0 ms and executor CPU time 0 ms.</td><td>METRICS</td><td>EVOLVING</td><td>null</td><td>{\"aggregated_flow_metrics\":{\"executor_time_ms\":0,\"executor_cpu_time_ms\":0}}</td><td>aggregated_flow_metrics</td></tr><tr><td>58896f30-6ea0-11f0-a268-aa11d67e9c2a</td><td>List(List(execution, 1754029489000092), null)</td><td>List(AWS, us-west-2, 3622490971720, null, 6ce1fdf2-b7dd-4ed3-844e-1d170666cadb, WORKSPACE, 5 - Deploying a Pipeline to Production Project - labuser11058730_1754017152, 0801-062429-la5rq55-v2n, e994a5ed-09c2-41af-90f3-9d8c34773039, null, null, null, 4ebc0471-bf9d-4ffb-8f66-c6797d12540d, labuser11058730_1754017152.3_gold_db.delivered_orders_gold_demo5, 0, e994a5ed-09c2-41af-90f3-9d8c34773039, null, null, null, null, null, labuser11058730_1754017152.3_gold_db.__materialization_mat_6ce1fdf2_b7dd_4ed3_844e_1d170666cadb_delivered_orders_gold_demo5_1, null, null, null, null, null, null)</td><td>2025-08-01T06:25:40.771Z</td><td>`labuser11058730_1754017152`.`3_gold_db`.`__materialization_mat_6ce1fdf2_b7dd_4ed3_844e_1d170666cadb_delivered_orders_gold_demo5_1` finished with executor time 0 ms and executor CPU time 0 ms.</td><td>METRICS</td><td>EVOLVING</td><td>null</td><td>{\"aggregated_flow_metrics\":{\"executor_time_ms\":0,\"executor_cpu_time_ms\":0}}</td><td>aggregated_flow_metrics</td></tr><tr><td>5a371f30-6ea0-11f0-a268-aa11d67e9c2a</td><td>List(List(execution, 1754029489000093), null)</td><td>List(AWS, us-west-2, 3622490971720, null, 6ce1fdf2-b7dd-4ed3-844e-1d170666cadb, WORKSPACE, 5 - Deploying a Pipeline to Production Project - labuser11058730_1754017152, 0801-062429-la5rq55-v2n, e994a5ed-09c2-41af-90f3-9d8c34773039, null, null, null, null, null, null, e994a5ed-09c2-41af-90f3-9d8c34773039, null, labuser11058730_1754017152.3_gold_db.cancelled_orders_gold_demo5, null, null, null, null, null, null, null, e281df85-1123-4c69-a63b-8651c115c3f2, null, null)</td><td>2025-08-01T06:25:43.587Z</td><td>Materialized View `labuser11058730_1754017152`.`3_gold_db`.`cancelled_orders_gold_demo5` has been created.</td><td>INFO</td><td>EVOLVING</td><td>null</td><td>{\"dataset_life_cycle\":{\"state\":\"CREATED\",\"dataset_type\":\"MATERIALIZED_VIEW\"}}</td><td>dataset_life_cycle</td></tr><tr><td>5a380990-6ea0-11f0-a268-aa11d67e9c2a</td><td>List(List(execution, 1754029489000094), null)</td><td>List(AWS, us-west-2, 3622490971720, null, 6ce1fdf2-b7dd-4ed3-844e-1d170666cadb, WORKSPACE, 5 - Deploying a Pipeline to Production Project - labuser11058730_1754017152, 0801-062429-la5rq55-v2n, e994a5ed-09c2-41af-90f3-9d8c34773039, null, null, null, 83501d35-62f4-4f92-9ca5-8413928a1319, labuser11058730_1754017152.3_gold_db.cancelled_orders_gold_demo5, 0, e994a5ed-09c2-41af-90f3-9d8c34773039, null, null, null, null, null, null, null, null, null, null, null, null)</td><td>2025-08-01T06:25:43.593Z</td><td>Flow 'labuser11058730_1754017152.3_gold_db.cancelled_orders_gold_demo5' has COMPLETED.</td><td>INFO</td><td>STABLE</td><td>null</td><td>{\"flow_progress\":{\"status\":\"COMPLETED\",\"metrics\":{\"num_output_rows\":8},\"data_quality\":{\"dropped_records\":0}}}</td><td>flow_progress</td></tr><tr><td>5a6bead0-6ea0-11f0-a268-aa11d67e9c2a</td><td>List(List(execution, 1754029489000095), null)</td><td>List(AWS, us-west-2, 3622490971720, null, 6ce1fdf2-b7dd-4ed3-844e-1d170666cadb, WORKSPACE, 5 - Deploying a Pipeline to Production Project - labuser11058730_1754017152, 0801-062429-la5rq55-v2n, e994a5ed-09c2-41af-90f3-9d8c34773039, null, null, null, null, null, null, e994a5ed-09c2-41af-90f3-9d8c34773039, null, labuser11058730_1754017152.3_gold_db.delivered_orders_gold_demo5, null, null, null, null, null, null, null, 9ae2d1a2-eada-4c89-b5a5-a0c2a2df56c8, null, null)</td><td>2025-08-01T06:25:43.933Z</td><td>Materialized View `labuser11058730_1754017152`.`3_gold_db`.`delivered_orders_gold_demo5` has been created.</td><td>INFO</td><td>EVOLVING</td><td>null</td><td>{\"dataset_life_cycle\":{\"state\":\"CREATED\",\"dataset_type\":\"MATERIALIZED_VIEW\"}}</td><td>dataset_life_cycle</td></tr><tr><td>5a6cfc40-6ea0-11f0-a268-aa11d67e9c2a</td><td>List(List(execution, 1754029489000096), null)</td><td>List(AWS, us-west-2, 3622490971720, null, 6ce1fdf2-b7dd-4ed3-844e-1d170666cadb, WORKSPACE, 5 - Deploying a Pipeline to Production Project - labuser11058730_1754017152, 0801-062429-la5rq55-v2n, e994a5ed-09c2-41af-90f3-9d8c34773039, null, null, null, 4ebc0471-bf9d-4ffb-8f66-c6797d12540d, labuser11058730_1754017152.3_gold_db.delivered_orders_gold_demo5, 0, e994a5ed-09c2-41af-90f3-9d8c34773039, null, null, null, null, null, null, null, null, null, null, null, null)</td><td>2025-08-01T06:25:43.94Z</td><td>Flow 'labuser11058730_1754017152.3_gold_db.delivered_orders_gold_demo5' has COMPLETED.</td><td>INFO</td><td>STABLE</td><td>null</td><td>{\"flow_progress\":{\"status\":\"COMPLETED\",\"metrics\":{\"num_output_rows\":94},\"data_quality\":{\"dropped_records\":0}}}</td><td>flow_progress</td></tr><tr><td>5b0fa4e0-6ea0-11f0-a268-aa11d67e9c2a</td><td>List(List(execution, 1754029489000099), null)</td><td>List(AWS, us-west-2, 3622490971720, null, 6ce1fdf2-b7dd-4ed3-844e-1d170666cadb, WORKSPACE, 5 - Deploying a Pipeline to Production Project - labuser11058730_1754017152, 0801-062429-la5rq55-v2n, e994a5ed-09c2-41af-90f3-9d8c34773039, null, null, null, null, labuser11058730_1754017152.1_bronze_db.status_bronze_demo5, null, e994a5ed-09c2-41af-90f3-9d8c34773039, null, null, null, null, null, null, null, null, null, null, null, null)</td><td>2025-08-01T06:25:45.006Z</td><td>Reported flow time metrics for flowName: 'labuser11058730_1754017152.1_bronze_db.status_bronze_demo5'.</td><td>METRICS</td><td>STABLE</td><td>null</td><td>{\"flow_progress\":{\"metrics\":{\"executor_time_ms\":2151,\"executor_cpu_time_ms\":801}}}</td><td>flow_progress</td></tr><tr><td>5b0ff300-6ea0-11f0-a268-aa11d67e9c2a</td><td>List(List(execution, 1754029489000100), null)</td><td>List(AWS, us-west-2, 3622490971720, null, 6ce1fdf2-b7dd-4ed3-844e-1d170666cadb, WORKSPACE, 5 - Deploying a Pipeline to Production Project - labuser11058730_1754017152, 0801-062429-la5rq55-v2n, e994a5ed-09c2-41af-90f3-9d8c34773039, null, null, null, 4ebc0471-bf9d-4ffb-8f66-c6797d12540d, labuser11058730_1754017152.3_gold_db.delivered_orders_gold_demo5, 0, e994a5ed-09c2-41af-90f3-9d8c34773039, null, null, null, null, null, null, null, null, null, null, null, null)</td><td>2025-08-01T06:25:45.008Z</td><td>Reported flow time metrics for flowName: 'labuser11058730_1754017152.3_gold_db.delivered_orders_gold_demo5'.</td><td>METRICS</td><td>STABLE</td><td>null</td><td>{\"flow_progress\":{\"metrics\":{\"executor_time_ms\":268,\"executor_cpu_time_ms\":126}}}</td><td>flow_progress</td></tr><tr><td>5b101a10-6ea0-11f0-a268-aa11d67e9c2a</td><td>List(List(execution, 1754029489000101), null)</td><td>List(AWS, us-west-2, 3622490971720, null, 6ce1fdf2-b7dd-4ed3-844e-1d170666cadb, WORKSPACE, 5 - Deploying a Pipeline to Production Project - labuser11058730_1754017152, 0801-062429-la5rq55-v2n, e994a5ed-09c2-41af-90f3-9d8c34773039, null, null, null, 7c1a49fa-fcb5-45f6-bf24-4a292ac2140b, labuser11058730_1754017152.3_gold_db.full_order_info_gold_demo5, 0, e994a5ed-09c2-41af-90f3-9d8c34773039, null, null, null, null, null, null, null, null, null, null, null, null)</td><td>2025-08-01T06:25:45.009Z</td><td>Reported flow time metrics for flowName: 'labuser11058730_1754017152.3_gold_db.full_order_info_gold_demo5'.</td><td>METRICS</td><td>STABLE</td><td>null</td><td>{\"flow_progress\":{\"metrics\":{\"executor_time_ms\":412,\"executor_cpu_time_ms\":164}}}</td><td>flow_progress</td></tr><tr><td>5b104120-6ea0-11f0-a268-aa11d67e9c2a</td><td>List(List(execution, 1754029489000102), null)</td><td>List(AWS, us-west-2, 3622490971720, null, 6ce1fdf2-b7dd-4ed3-844e-1d170666cadb, WORKSPACE, 5 - Deploying a Pipeline to Production Project - labuser11058730_1754017152, 0801-062429-la5rq55-v2n, e994a5ed-09c2-41af-90f3-9d8c34773039, null, null, null, 9ddde4ce-4586-4fde-8bf9-b285c49a523b, labuser11058730_1754017152.3_gold_db.gold_orders_by_date_demo5, 0, e994a5ed-09c2-41af-90f3-9d8c34773039, null, null, null, null, null, null, null, null, null, null, null, null)</td><td>2025-08-01T06:25:45.01Z</td><td>Reported flow time metrics for flowName: 'labuser11058730_1754017152.3_gold_db.gold_orders_by_date_demo5'.</td><td>METRICS</td><td>STABLE</td><td>null</td><td>{\"flow_progress\":{\"metrics\":{\"executor_time_ms\":296,\"executor_cpu_time_ms\":155}}}</td><td>flow_progress</td></tr><tr><td>5b106830-6ea0-11f0-a268-aa11d67e9c2a</td><td>List(List(execution, 1754029489000103), null)</td><td>List(AWS, us-west-2, 3622490971720, null, 6ce1fdf2-b7dd-4ed3-844e-1d170666cadb, WORKSPACE, 5 - Deploying a Pipeline to Production Project - labuser11058730_1754017152, 0801-062429-la5rq55-v2n, e994a5ed-09c2-41af-90f3-9d8c34773039, null, null, null, 83501d35-62f4-4f92-9ca5-8413928a1319, labuser11058730_1754017152.3_gold_db.cancelled_orders_gold_demo5, 0, e994a5ed-09c2-41af-90f3-9d8c34773039, null, null, null, null, null, null, null, null, null, null, null, null)</td><td>2025-08-01T06:25:45.011Z</td><td>Reported flow time metrics for flowName: 'labuser11058730_1754017152.3_gold_db.cancelled_orders_gold_demo5'.</td><td>METRICS</td><td>STABLE</td><td>null</td><td>{\"flow_progress\":{\"metrics\":{\"executor_time_ms\":327,\"executor_cpu_time_ms\":139}}}</td><td>flow_progress</td></tr><tr><td>5b108f40-6ea0-11f0-a268-aa11d67e9c2a</td><td>List(List(execution, 1754029489000104), null)</td><td>List(AWS, us-west-2, 3622490971720, null, 6ce1fdf2-b7dd-4ed3-844e-1d170666cadb, WORKSPACE, 5 - Deploying a Pipeline to Production Project - labuser11058730_1754017152, 0801-062429-la5rq55-v2n, e994a5ed-09c2-41af-90f3-9d8c34773039, null, null, null, null, labuser11058730_1754017152.1_bronze_db.orders_bronze_demo5, null, e994a5ed-09c2-41af-90f3-9d8c34773039, null, null, null, null, null, null, null, null, null, null, null, null)</td><td>2025-08-01T06:25:45.012Z</td><td>Reported flow time metrics for flowName: 'labuser11058730_1754017152.1_bronze_db.orders_bronze_demo5'.</td><td>METRICS</td><td>STABLE</td><td>null</td><td>{\"flow_progress\":{\"metrics\":{\"executor_time_ms\":2145,\"executor_cpu_time_ms\":550}}}</td><td>flow_progress</td></tr><tr><td>5b10b650-6ea0-11f0-a268-aa11d67e9c2a</td><td>List(List(execution, 1754029489000105), null)</td><td>List(AWS, us-west-2, 3622490971720, null, 6ce1fdf2-b7dd-4ed3-844e-1d170666cadb, WORKSPACE, 5 - Deploying a Pipeline to Production Project - labuser11058730_1754017152, 0801-062429-la5rq55-v2n, e994a5ed-09c2-41af-90f3-9d8c34773039, null, null, null, null, labuser11058730_1754017152.2_silver_db.status_silver_demo5, null, e994a5ed-09c2-41af-90f3-9d8c34773039, null, null, null, null, null, null, null, null, null, null, null, null)</td><td>2025-08-01T06:25:45.013Z</td><td>Reported flow time metrics for flowName: 'labuser11058730_1754017152.2_silver_db.status_silver_demo5'.</td><td>METRICS</td><td>STABLE</td><td>null</td><td>{\"flow_progress\":{\"metrics\":{\"executor_time_ms\":379,\"executor_cpu_time_ms\":178}}}</td><td>flow_progress</td></tr><tr><td>5b10dd60-6ea0-11f0-a268-aa11d67e9c2a</td><td>List(List(execution, 1754029489000106), null)</td><td>List(AWS, us-west-2, 3622490971720, null, 6ce1fdf2-b7dd-4ed3-844e-1d170666cadb, WORKSPACE, 5 - Deploying a Pipeline to Production Project - labuser11058730_1754017152, 0801-062429-la5rq55-v2n, e994a5ed-09c2-41af-90f3-9d8c34773039, null, null, null, null, labuser11058730_1754017152.2_silver_db.orders_silver_demo5, null, e994a5ed-09c2-41af-90f3-9d8c34773039, null, null, null, null, null, null, null, null, null, null, null, null)</td><td>2025-08-01T06:25:45.014Z</td><td>Reported flow time metrics for flowName: 'labuser11058730_1754017152.2_silver_db.orders_silver_demo5'.</td><td>METRICS</td><td>STABLE</td><td>null</td><td>{\"flow_progress\":{\"metrics\":{\"executor_time_ms\":456,\"executor_cpu_time_ms\":284}}}</td><td>flow_progress</td></tr><tr><td>5b112b80-6ea0-11f0-a268-aa11d67e9c2a</td><td>List(List(execution, 1754029489000107), null)</td><td>List(AWS, us-west-2, 3622490971720, null, 6ce1fdf2-b7dd-4ed3-844e-1d170666cadb, WORKSPACE, 5 - Deploying a Pipeline to Production Project - labuser11058730_1754017152, 0801-062429-la5rq55-v2n, e994a5ed-09c2-41af-90f3-9d8c34773039, null, null, null, null, pipelines.flowTimeMetrics.missingFlowName, null, e994a5ed-09c2-41af-90f3-9d8c34773039, null, null, null, null, null, null, null, null, null, null, null, null)</td><td>2025-08-01T06:25:45.016Z</td><td>Reported flow time metrics for flowName: 'pipelines.flowTimeMetrics.missingFlowName'.</td><td>METRICS</td><td>STABLE</td><td>null</td><td>{\"flow_progress\":{\"metrics\":{\"executor_time_ms\":5845,\"executor_cpu_time_ms\":2063}}}</td><td>flow_progress</td></tr><tr><td>5b115290-6ea0-11f0-a268-aa11d67e9c2a</td><td>List(List(execution, 1754029489000108), null)</td><td>List(AWS, us-west-2, 3622490971720, null, 6ce1fdf2-b7dd-4ed3-844e-1d170666cadb, WORKSPACE, 5 - Deploying a Pipeline to Production Project - labuser11058730_1754017152, 0801-062429-la5rq55-v2n, e994a5ed-09c2-41af-90f3-9d8c34773039, null, null, null, null, null, null, e994a5ed-09c2-41af-90f3-9d8c34773039, null, null, null, null, null, null, null, null, null, null, null, null)</td><td>2025-08-01T06:25:45.017Z</td><td>Update e994a5 is COMPLETED.</td><td>INFO</td><td>STABLE</td><td>null</td><td>{\"update_progress\":{\"state\":\"COMPLETED\"}}</td><td>update_progress</td></tr></tbody></table></div>"
      ]
     },
     "metadata": {
      "application/vnd.databricks.v1+output": {
       "addedWidgets": {},
       "aggData": [],
       "aggError": "",
       "aggOverflow": false,
       "aggSchema": [],
       "aggSeriesLimitReached": false,
       "aggType": "",
       "arguments": {},
       "columnCustomDisplayInfos": {},
       "data": [
        [
         "3bb55e50-6ea0-11f0-a268-aa11d67e9c2a",
         [
          [
           "execution",
           1754029489000001
          ],
          null
         ],
         [
          "AWS",
          "us-west-2",
          3622490971720,
          null,
          "6ce1fdf2-b7dd-4ed3-844e-1d170666cadb",
          "WORKSPACE",
          "5 - Deploying a Pipeline to Production Project - labuser11058730_1754017152",
          "0801-062429-la5rq55-v2n",
          "e994a5ed-09c2-41af-90f3-9d8c34773039",
          null,
          null,
          null,
          null,
          null,
          null,
          "e994a5ed-09c2-41af-90f3-9d8c34773039",
          null,
          null,
          null,
          null,
          null,
          null,
          null,
          null,
          null,
          null,
          null,
          null
         ],
         "2025-08-01T06:24:52.405Z",
         "Update e994a5 is INITIALIZING.",
         "INFO",
         "STABLE",
         null,
         "{\"update_progress\":{\"state\":\"INITIALIZING\"}}",
         "update_progress"
        ],
        [
         "aa824e80-6e9e-11f0-b947-8acb90f2812d",
         [
          [
           "execution",
           1754029489000003
          ],
          1754028819305001
         ],
         [
          "AWS",
          "us-west-2",
          3622490971720,
          null,
          "6ce1fdf2-b7dd-4ed3-844e-1d170666cadb",
          "WORKSPACE",
          "5 - Deploying a Pipeline to Production Project - labuser11058730_1754017152",
          null,
          null,
          null,
          null,
          null,
          null,
          null,
          null,
          null,
          null,
          null,
          null,
          null,
          null,
          null,
          null,
          null,
          null,
          null,
          null,
          null
         ],
         "2025-08-01T06:13:39.304Z",
         "User labuser11058730_1754017152@vocareum.com created pipeline.",
         "INFO",
         "STABLE",
         null,
         "{\"user_action\":{\"action\":\"CREATE\",\"user_name\":\"labuser11058730_1754017152@vocareum.com\",\"user_id\":70949121692270,\"request\":{\"create_request\":{\"id\":\"6ce1fdf2-b7dd-4ed3-844e-1d170666cadb\",\"pipeline_type\":\"WORKSPACE\",\"name\":\"5 - Deploying a Pipeline to Production Project - labuser11058730_1754017152\",\"configuration\":{\"source\":\"/Volumes/dbacademy/ops/labuser11058730_1754017152@vocareum_com\"},\"libraries\":[{\"glob\":{\"include\":\"/Workspace/Users/labuser11058730_1754017152@vocareum.com/build-data-pipelines-with-lakeflow-declarative-pipelines-3.0.2/Build Data Pipelines with Lakeflow Declarative Pipelines/5 - Deploying a Pipeline to Production Project/orders/**\"}},{\"glob\":{\"include\":\"/Workspace/Users/labuser11058730_1754017152@vocareum.com/build-data-pipelines-with-lakeflow-declarative-pipelines-3.0.2/Build Data Pipelines with Lakeflow Declarative Pipelines/5 - Deploying a Pipeline to Production Project/status/**\"}}],\"schema\":\"default\",\"continuous\":false,\"development\":true,\"photon\":true,\"channel\":\"PREVIEW\",\"catalog\":\"labuser11058730_1754017152\",\"serverless\":true,\"root_path\":\"/Workspace/Users/labuser11058730_1754017152@vocareum.com/build-data-pipelines-with-lakeflow-declarative-pipelines-3.0.2/Build Data Pipelines with Lakeflow Declarative Pipelines/5 - Deploying a Pipeline to Production Project\"}}}}",
         "user_action"
        ],
        [
         "1b0fd310-6ea0-11f0-b947-8acb90f2812d",
         [
          [
           "execution",
           1754029489000004
          ],
          1754029437634001
         ],
         [
          "AWS",
          "us-west-2",
          3622490971720,
          null,
          "6ce1fdf2-b7dd-4ed3-844e-1d170666cadb",
          "WORKSPACE",
          "5 - Deploying a Pipeline to Production Project - labuser11058730_1754017152",
          null,
          null,
          null,
          null,
          null,
          null,
          null,
          null,
          null,
          null,
          null,
          null,
          null,
          null,
          null,
          null,
          null,
          null,
          null,
          null,
          null
         ],
         "2025-08-01T06:23:57.633Z",
         "User labuser11058730_1754017152@vocareum.com edited pipeline settings.",
         "INFO",
         "STABLE",
         null,
         "{\"user_action\":{\"action\":\"EDIT\",\"user_name\":\"labuser11058730_1754017152@vocareum.com\",\"user_id\":70949121692270,\"request\":{\"edit_request\":{\"id\":\"6ce1fdf2-b7dd-4ed3-844e-1d170666cadb\",\"pipeline_type\":\"WORKSPACE\",\"name\":\"5 - Deploying a Pipeline to Production Project - labuser11058730_1754017152\",\"configuration\":{\"source\":\"/Volumes/dbacademy/ops/labuser11058730_1754017152@vocareum_com\"},\"libraries\":[{\"glob\":{\"include\":\"/Workspace/Users/labuser11058730_1754017152@vocareum.com/build-data-pipelines-with-lakeflow-declarative-pipelines-3.0.2/Build Data Pipelines with Lakeflow Declarative Pipelines/5 - Deploying a Pipeline to Production Project/orders/**\"}},{\"glob\":{\"include\":\"/Workspace/Users/labuser11058730_1754017152@vocareum.com/build-data-pipelines-with-lakeflow-declarative-pipelines-3.0.2/Build Data Pipelines with Lakeflow Declarative Pipelines/5 - Deploying a Pipeline to Production Project/status/**\"}}],\"schema\":\"default\",\"continuous\":false,\"development\":false,\"photon\":true,\"channel\":\"PREVIEW\",\"catalog\":\"labuser11058730_1754017152\",\"serverless\":true,\"event_log\":{\"name\":\"event_log_demo_5\",\"schema\":\"default\",\"catalog\":\"labuser11058730_1754017152\"},\"root_path\":\"/Workspace/Users/labuser11058730_1754017152@vocareum.com/build-data-pipelines-with-lakeflow-declarative-pipelines-3.0.2/Build Data Pipelines with Lakeflow Declarative Pipelines/5 - Deploying a Pipeline to Production Project\"}}}}",
         "user_action"
        ],
        [
         "2db4c610-6ea0-11f0-9ef4-eac102c20cdd",
         [
          [
           "execution",
           1754029489000005
          ],
          1754029468915001
         ],
         [
          "AWS",
          "us-west-2",
          3622490971720,
          null,
          "6ce1fdf2-b7dd-4ed3-844e-1d170666cadb",
          "WORKSPACE",
          "5 - Deploying a Pipeline to Production Project - labuser11058730_1754017152",
          null,
          "e994a5ed-09c2-41af-90f3-9d8c34773039",
          null,
          null,
          null,
          null,
          null,
          null,
          "e994a5ed-09c2-41af-90f3-9d8c34773039",
          null,
          null,
          null,
          null,
          null,
          null,
          null,
          null,
          null,
          null,
          null,
          null
         ],
         "2025-08-01T06:24:28.913Z",
         "User labuser11058730_1754017152@vocareum.com started an update.",
         "INFO",
         "STABLE",
         null,
         "{\"user_action\":{\"action\":\"START\",\"user_name\":\"labuser11058730_1754017152@vocareum.com\",\"user_id\":70949121692270,\"request\":{\"start_request\":{\"full_refresh\":false,\"validate_only\":false,\"explore_only\":false,\"development\":true}}}}",
         "user_action"
        ],
        [
         "2dbc4020-6ea0-11f0-9ef4-eac102c20cdd",
         [
          [
           "execution",
           1754029489000007
          ],
          1754029468964001
         ],
         [
          "AWS",
          "us-west-2",
          3622490971720,
          null,
          "6ce1fdf2-b7dd-4ed3-844e-1d170666cadb",
          "WORKSPACE",
          "5 - Deploying a Pipeline to Production Project - labuser11058730_1754017152",
          null,
          "e994a5ed-09c2-41af-90f3-9d8c34773039",
          null,
          null,
          null,
          null,
          null,
          null,
          "e994a5ed-09c2-41af-90f3-9d8c34773039",
          null,
          null,
          null,
          null,
          null,
          null,
          null,
          null,
          null,
          null,
          null,
          null
         ],
         "2025-08-01T06:24:28.962Z",
         "Update e994a5 started by USER_ACTION.",
         "INFO",
         "STABLE",
         null,
         "{\"create_update\":{\"cause\":\"USER_ACTION\",\"config\":{\"id\":\"6ce1fdf2-b7dd-4ed3-844e-1d170666cadb\",\"pipeline_type\":\"WORKSPACE\",\"name\":\"5 - Deploying a Pipeline to Production Project - labuser11058730_1754017152\",\"configuration\":{\"pipelines.acfsProcessorVersion\":\"1\",\"pipelines.allowClearingTableComment\":\"true\",\"pipelines.allowPrivateToNonPrivateAltersWithCustomSchemaPreview\":\"true\",\"pipelines.alterExistingMvSt\":\"true\",\"pipelines.alterViewsInHMS.enabled\":\"true\",\"pipelines.alterableMetadataBehavior\":\"preserve\",\"pipelines.analysis.allowSqlFlowWithConfParallelResolution\":\"true\",\"pipelines.analysis.maybeResolveFlowsParallely\":\"true\",\"pipelines.analysis.maybeResolvePureSQLPipelinesParallely\":\"true\",\"pipelines.analysis.pruneUnresolvedFromJsonDependents\":\"true\",\"pipelines.applyChanges.Type2IgnoreNullPersistentStateChange\":\"false\",\"pipelines.applyChanges.applyChangesMultiflowIgnoreNullOffFix.enabled\":\"false\",\"pipelines.applyChanges.applyChangesMultiflowLatestDeleteVersion.enabled\":\"false\",\"pipelines.applyChanges.dynamicFilePruning.enabled\":\"true\",\"pipelines.applyChanges.dynamicPartitionPruning.enabled\":\"true\",\"pipelines.applyChanges.viewMetrics.enabled\":\"true\",\"pipelines.applyChangesFromSnapshot.analyzeLambdaSourceWithoutPipelineContext\":\"true\",\"pipelines.applyChangesFromSnapshot.castSnapshotToTargetSchema\":\"true\",\"pipelines.applyChangesFromSnapshot.stateStoreFormat\":\"proto\",\"pipelines.attachEnzymeExpectationsUsingTransformDF\":\"true\",\"pipelines.attachExpectationWithFunctionResult\":\"true\",\"pipelines.attachExpectationsUsingTransformDF\":\"true\",\"pipelines.autoscaling.maxDecommissioningTimeoutInSecondsDefaultValue\":\"14400\",\"pipelines.blockDuplicatedUseOfFromJsonSchemaLocationKey\":\"true\",\"pipelines.cdc.enableCdcSnapshotProgress\":\"true\",\"pipelines.cdc.enableGatewayErrorPropagation\":\"true\",\"pipelines.cdc.skipCdcSnapshotFlowAfterCommitted\":\"true\",\"pipelines.cdc.stagingDataGCDryRunMode\":\"false\",\"pipelines.cdc.stagingDataRetentionDays\":\"25\",\"pipelines.cdcApplier.enableCommunicationVersioning\":\"true\",\"pipelines.cdcApplier.useUpstreamCommunicationLibrary\":\"true\",\"pipelines.cdcApplierEnableColumnUOID\":\"false\",\"pipelines.cdcApplierStagingTablePartitionedByDate\":\"true\",\"pipelines.changeDataFeed.enabled\":\"true\",\"pipelines.checkImplicitDeletionReason\":\"true\",\"pipelines.cleanupOrphanedBackingTables\":\"true\",\"pipelines.copyFlowFuncResultWithDecomposition\":\"true\",\"pipelines.createMvStEntryBeforeBackingTable\":\"true\",\"pipelines.dataPlaneStructuredLogging.enabled\":\"true\",\"pipelines.decomposition.enableOnSnapshotFlow\":\"true\",\"pipelines.decomposition.enabled\":\"true\",\"pipelines.disableClearingIncrementalOnVirtualize\":\"true\",\"pipelines.disablePredictiveOptimization\":\"true\",\"pipelines.disallowFlowExecutionRetryForSchemaChangeExceptionsInTriggeredMode\":\"true\",\"pipelines.disallowTableMutationsDuringMaintenance\":\"true\",\"pipelines.dltDebugger.enableNodeStatusReporter\":\"true\",\"pipelines.dropAndRecreateBadBackingTables\":\"true\",\"pipelines.dropInactiveTables\":\"false\",\"pipelines.earlyStagingTableCleanupEnabled\":\"true\",\"pipelines.emitDeprecationEventForCustomSchemaUsage\":\"true\",\"pipelines.emitSinkDefinition\":\"true\",\"pipelines.enableApplyChangeSCD1Materialization\":\"false\",\"pipelines.enableApplyChangesLineage.enabled\":\"true\",\"pipelines.enableBatchTokenOnUpdateId\":\"false\",\"pipelines.enableBlockListReconciliationQueryDefinition\":\"true\",\"pipelines.enableCoalesceApplyChangesType2Duplicates\":\"true\",\"pipelines.enableConduitUCConnectionTypeValidation\":\"false\",\"pipelines.enableContinuousPipelineTriggerValidation\":\"false\",\"pipelines.enableCyclicDependencyDetection\":\"true\",\"pipelines.enableDataflowV2ForFromJsonSchemaReset\":\"true\",\"pipelines.enableDbrFlowAnalysisContext\":\"false\",\"pipelines.enableDeltaReadClone\":\"false\",\"pipelines.enableEventLogPicker\":\"true\",\"pipelines.enableEventLogTableIdWrites\":\"true\",\"pipelines.enableExistingEventLogRetrievalById\":\"true\",\"pipelines.enableFromJsonBatchSchemaEvolution\":\"true\",\"pipelines.enableHistoryIntegrationForContinuous\":\"true\",\"pipelines.enableLiveSchemaUsageValidation\":\"true\",\"pipelines.enableNewFlowTypes\":\"true\",\"pipelines.enableNonVirtualNodeInNodeProcessorUpdate\":\"false\",\"pipelines.enablePersistedViewSyntaxForPipeline\":\"true\",\"pipelines.enablePredictiveOptimizationRollout\":\"true\",\"pipelines.enableRunningAddRowIdAsEnabler\":\"true\",\"pipelines.enableSharepointConnectorV2\":\"false\",\"pipelines.enableStreamQueryListenerMetricsInEventlog\":\"false\",\"pipelines.enableSysPathSetupUsingCmdCtx\":\"true\",\"pipelines.enableUpdateWarmPoolManager\":\"true\",\"pipelines.enableViewFirstClassRefactor\":\"true\",\"pipelines.enzyme.autoCorrectionForLongRunningQueries\":\"true\",\"pipelines.enzyme.autoCorrectionForLongRunningQueries.dryRun\":\"true\",\"pipelines.enzyme.changesetRatioUpperBound\":\"2.1\",\"pipelines.enzyme.checkComposableAggOperatorNestingInDecomposer\":\"true\",\"pipelines.enzyme.classic.action\":\"Block\",\"pipelines.enzyme.composableAggKeyOperatorNestingThreshold\":\"4\",\"pipelines.enzyme.decomposeAggExpr.enabled\":\"true\",\"pipelines.enzyme.defaultBroadcastThreshold\":\"128MB\",\"pipelines.enzyme.disableFingerprintNormalizerForEnzymeBasic\":\"true\",\"pipelines.enzyme.enableAggOverJoin\":\"true\",\"pipelines.enzyme.enableAggOverJoinFallback\":\"true\",\"pipelines.enzyme.enableBroadcastableChangesetSizeThreshold\":\"true\",\"pipelines.enzyme.enableComposableGenericAgg\":\"true\",\"pipelines.enzyme.enableExplicitDFP\":\"false\",\"pipelines.enzyme.enableExplicitDPPScheduling\":\"false\",\"pipelines.enzyme.enableJoinComposition\":\"true\",\"pipelines.enzyme.enableLeftEquiJoinOptimization\":\"false\",\"pipelines.enzyme.enableRowId\":\"true\",\"pipelines.enzyme.enableSPUJFullOuterJoinIncrementalization\":\"true\",\"pipelines.enzyme.enableSPUJIncrementalization\":\"true\",\"pipelines.enzyme.enableSPUJInnerJoinIncrementalization\":\"true\",\"pipelines.enzyme.enableSPUJLeftAntiJoinIncrementalization\":\"true\",\"pipelines.enzyme.enableSPUJLeftJoinIncrementalization\":\"true\",\"pipelines.enzyme.enableSPUJRightJoinIncrementalization\":\"true\",\"pipelines.enzyme.enableSmallTableSizeThreshold\":\"true\",\"pipelines.enzyme.enableTableChangeSizeV3\":\"true\",\"pipelines.enzyme.enableWindowBlockBasedIncChecker\":\"true\",\"pipelines.enzyme.enableWindowComposition\":\"true\",\"pipelines.enzyme.enableWindowFunctionWithDiffPartitioning\":\"true\",\"pipelines.enzyme.enabled\":\"true\",\"pipelines.enzyme.enzymeEnableTableChangeSizeV2\":\"true\",\"pipelines.enzyme.expectation.enable\":\"true\",\"pipelines.enzyme.expectation.fallbackToClassic\":\"true\",\"pipelines.enzyme.expectation.fallbackToClassicPerFlow\":\"true\",\"pipelines.enzyme.expectation.useSimpleWrite\":\"true\",\"pipelines.enzyme.explicitlyScheduleBloomFilters\":\"false\",\"pipelines.enzyme.fileActionPruningInCdf.enabled\":\"true\",\"pipelines.enzyme.forceTrivialIncrementalFlows\":\"true\",\"pipelines.enzyme.genericAggregationTechnique.enabled\":\"true\",\"pipelines.enzyme.historyBasedCosting.enabled\":\"true\",\"pipelines.enzyme.logDetailedChangeInformation\":\"true\",\"pipelines.enzyme.makeCollectListCollectSetDeterministic.enabled\":\"true\",\"pipelines.enzyme.mode\":\"Advanced\",\"pipelines.enzyme.overrideMaxBloomSizeBits\":\"-1\",\"pipelines.enzyme.overrideMinBloomSizeBits\":\"-1\",\"pipelines.enzyme.prePostNormalizationBatches.enabled\":\"true\",\"pipelines.enzyme.removeTopLevelSort.enabled\":\"true\",\"pipelines.enzyme.spujTableSizeThresholdForNonJoin\":\"1000TB\",\"pipelines.enzyme.spujoinTableSizeThreshold\":\"1000TB\",\"pipelines.enzyme.temporalFilters.enabled\":\"true\",\"pipelines.enzyme.transformFirstLastAnyValueToMin.enabled\":\"true\",\"pipelines.enzyme.useInExpressionForPartitionOverwrite\":\"true\",\"pipelines.enzyme.windowFunctionTechniqueEnabled.enabled\":\"true\",\"pipelines.enzyme.writeHistoryStats.enabled\":\"true\",\"pipelines.eventLevelDataFrameCollectUsage\":\"warn\",\"pipelines.eventLevelDataFrameSaveAsTableUsage\":\"warn\",\"pipelines.eventLevelDataFrameSaveUsage\":\"warn\",\"pipelines.eventLevelDataStreamWriterStartUsage\":\"warn\",\"pipelines.eventLevelPivotUsage\":\"warn\",\"pipelines.eventPlatformMetricsReporterEnabled\":\"true\",\"pipelines.events.enableEventTimeMetric\":\"true\",\"pipelines.events.enableSourceCodePosition\":\"true\",\"pipelines.exposeExecutorCountFromStateManager\":\"false\",\"pipelines.failPipelineForExpectationWithACFS\":\"true\",\"pipelines.forceRecomputeMVIfPartitioningChanged\":\"true\",\"pipelines.fromJson.enforceRootLevelStructTypeForInferredSchema\":\"true\",\"pipelines.fullyQualifyExternalSinkIdentifiers\":\"true\",\"pipelines.fullyQualifyTableReferencesInForeignKeyConstraintsInDPM\":\"true\",\"pipelines.gateway.extractAsciiIrTypesAsUnicodeStream\":\"false\",\"pipelines.gateway.realtime.extractor.sqlServerUseCommandIdForCDCTables\":\"true\",\"pipelines.gateway.realtime.extractor.sqlServerVerifyCommandIdExistsForCDCTables\":\"false\",\"pipelines.gateway.runOptimizedFetchSchema\":\"false\",\"pipelines.gateway.tableSchemasDirectUpload\":\"false\",\"pipelines.gateway.useNewReplicationReconfigurationFlow\":\"false\",\"pipelines.gateway.useUpstreamCommunicationLibrary\":\"false\",\"pipelines.gatewaySendMessagesToEventLog\":\"true\",\"pipelines.ignoreDropInactiveTablesForWorkspacePipelines\":\"false\",\"pipelines.ignoredSuffixForSourceIncludes\":\"__pycache__/,.egg-info/,.txt,.md,.csv,.json\",\"pipelines.ingestionPipelineConnectorFetchProgressEventEnabled\":\"true\",\"pipelines.ingestionPipelineSalesforceApiVersion\":\"v63.0\",\"pipelines.ingestionPipelineServiceNowEmptyCursorFetchEnabled\":\"true\",\"pipelines.ingestionPipelinesTempViewNameV2\":\"false\",\"pipelines.initResourceAllocationBeforeEventLog\":\"true\",\"pipelines.instrumentLoadInSparkReader\":\"true\",\"pipelines.lazyInitializeUpdateWarmPoolManager\":\"true\",\"pipelines.lineageEmission.enabled\":\"true\",\"pipelines.materialization.writeResetSchemaString\":\"true\",\"pipelines.materializedView.dropOtherViewDependencies\":\"true\",\"pipelines.maxDatasetsPerPipeline\":\"1000\",\"pipelines.maximumSourceFileNumberInLibraries\":\"300\",\"pipelines.mergeExternalMetadataIntoTablesBeforeDecomp\":\"true\",\"pipelines.mesa.enableCatalogTableCLTCValidations\":\"true\",\"pipelines.mesa.enableGetCLTCFromCatalogTable\":\"true\",\"pipelines.mesa.updateUCPipelineWithTopLevelViewUpdate\":\"true\",\"pipelines.metrics.clusterResources.enabled\":\"true\",\"pipelines.metrics.flowProgressAdditionalBacklogMetricsEnabled\":\"true\",\"pipelines.metrics.flowProgressSourceLevelMetricsEnabled\":\"true\",\"pipelines.metrics.flowTimeReporter.enabled\":\"true\",\"pipelines.multiflowExpectations.enabled\":\"false\",\"pipelines.mv.partitionUpdate.enabled\":\"true\",\"pipelines.numPythonREPLsToWarmPerUpdate\":\"1\",\"pipelines.operationProgress.listingMetrics.enabled\":\"false\",\"pipelines.parallelNormalizationBeforeDecomposition\":\"true\",\"pipelines.parallelPythonReplInitialization\":\"true\",\"pipelines.parallelUCContextInitialization\":\"true\",\"pipelines.parallelizeCreateMatzPaths\":\"true\",\"pipelines.parallelizeMaterializeTables\":\"true\",\"pipelines.partitioning.clusterBy.enabled\":\"true\",\"pipelines.partitioning.clusterByAuto.enabled\":\"true\",\"pipelines.pipelineEnvironment.enabled\":\"true\",\"pipelines.preloadDeltaAndUCCacheForUpdate\":\"true\",\"pipelines.preserveColumnMasksField\":\"true\",\"pipelines.preserveRowFilterField\":\"true\",\"pipelines.preview.multiChangeFlowInCurrent.enable\":\"true\",\"pipelines.publishPrivateTableInOldArchitecture\":\"true\",\"pipelines.reAnalyzeVirtualFlowsAfterMaterialization\":\"true\",\"pipelines.rememberUCObjectIdsAcrossRuns\":\"true\",\"pipelines.removeAllGenerationExpressionKey\":\"true\",\"pipelines.removeGeneratedColumnMetadataFromViewSchema\":\"true\",\"pipelines.removeVirtualGraphUsageOnGraphDefns\":\"true\",\"pipelines.replaceRealInputReadsWithVirtualBeforeDecomposer\":\"true\",\"pipelines.respectAlterableMetadataBehavior\":\"true\",\"pipelines.scalaReplWarmPool.enabled\":\"true\",\"pipelines.scd1ApplyChangesUseAllFlowsSchema.enabled\":\"false\",\"pipelines.schemaInferenceForVirtualBackingTables.enabled\":\"true\",\"pipelines.schemaStorageLocations.enabled\":\"true\",\"pipelines.sendOneGraphToTableManager\":\"true\",\"pipelines.setMigrationHints\":\"true\",\"pipelines.setParentTableIdForBackingTables\":\"true\",\"pipelines.shouldUseOCCToUpdateTopLevelEntry\":\"true\",\"pipelines.suggestDropForInactivePrivateTable\":\"true\",\"pipelines.tableManager.failOnCycleOfForeignKeyConstraints\":\"true\",\"pipelines.tableManager.orderSettingUpTablesByForeignKeyConstraints\":\"true\",\"pipelines.throwOnUnexpectedMaterializationCreation\":\"true\",\"pipelines.topologicalOrderForStreamingFlowsUponFullRefresh.enabled\":\"true\",\"pipelines.undropPreviouslyExistingTables\":\"true\",\"pipelines.updateSnapshot.enabled\":\"true\",\"pipelines.updateSnapshot.incrementalEventSummaries.enabled\":\"true\",\"pipelines.updateSnapshot.incrementalTimeSeries.enabled\":\"true\",\"pipelines.updateSnapshot.timeSeriesSummaryFlowMetricsEnabled\":\"true\",\"pipelines.updateSnapshot.timeSeriesSummaryGeneratorEnabled\":\"true\",\"pipelines.updateSnapshot.timeSeriesSummarySourceMetricsEnabled\":\"true\",\"pipelines.updateTableCacheAndInactiveStatusEarly\":\"true\",\"pipelines.updateWarmPoolManagerSize\":\"1\",\"pipelines.useCacheForMVPlanning.enabled\":\"true\",\"pipelines.useConfigDefaultsInQueryFingerprint\":\"true\",\"pipelines.useDataflowV2\":\"true\",\"pipelines.useGraphCachePersistence\":\"true\",\"pipelines.useNewOCCPrimitive\":\"true\",\"pipelines.useNewReadInputApi\":\"true\",\"pipelines.useTempDirForEventHookManagerCheckpoints\":\"false\",\"pipelines.useTempDirForEventHookManagerCheckpointsInHms\":\"true\",\"pipelines.useUCBackdoorToDropColumnMasks\":\"true\",\"pipelines.useUCCacheAcrossQueries\":\"true\",\"pipelines.useUCMetadataCache\":\"true\",\"pipelines.useUCMetadataCacheDuringUpdate\":\"true\",\"pipelines.useUpdateWarmPoolManagerForAllUpdates\":\"true\",\"pipelines.useUuidPrefixForExpectations\":\"true\",\"pipelines.useViewsInReconciliationFlowQueries\":\"true\",\"pipelines.verticalAutoscaling.pipelineEnabled\":\"true\",\"source\":\"/Volumes/dbacademy/ops/labuser11058730_1754017152@vocareum_com\",\"spark.databricks.cloudFiles.recordEventChanges\":\"false\",\"spark.databricks.dataLineage.mergeIntoV2Enabled\":\"false\",\"spark.databricks.photon.scan.minBatchSize\":\"256\",\"spark.databricks.sql.rowColumnAccess.mvst.enabled\":\"true\",\"spark.databricks.sqlservice.history.liveQueryProfile.enabled\":\"true\",\"spark.databricks.sqlservice.history.multiBatchProfileEnabled\":\"true\",\"spark.databricks.streaming.dynamicAdmissionControl.cloudFiles.enabled\":\"true\",\"spark.databricks.unityCatalog.glue.federation.enabled\":\"true\",\"spark.databricks.unityCatalog.hms.federation.enableDbfsSupport\":\"true\",\"spark.databricks.unityCatalog.hms.federation.enabled\":\"true\",\"spark.databricks.unityCatalog.lakehouseFederation.writes.enabled\":\"true\",\"spark.sql.optimizer.optimizeCsvJsonExprs.useSchemaField\":\"false\",\"pipelines.predictiveOptimization.enabled\":\"true\",\"pipelines.maintenance.disabled\":\"true\",\"pipelines.maxFlowRetryAttempts\":\"0\"},\"libraries\":[{\"glob\":{\"include\":\"/Workspace/Users/labuser11058730_1754017152@vocareum.com/build-data-pipelines-with-lakeflow-declarative-pipelines-3.0.2/Build Data Pipelines with Lakeflow Declarative Pipelines/5 - Deploying a Pipeline to Production Project/orders/**\"}},{\"glob\":{\"include\":\"/Workspace/Users/labuser11058730_1754017152@vocareum.com/build-data-pipelines-with-lakeflow-declarative-pipelines-3.0.2/Build Data Pipelines with Lakeflow Declarative Pipelines/5 - Deploying a Pipeline to Production Project/status/**\"}}],\"schema\":\"default\",\"continuous\":false,\"development\":false,\"photon\":true,\"edition\":\"ADVANCED\",\"channel\":\"PREVIEW\",\"catalog\":\"labuser11058730_1754017152\",\"serverless\":true,\"event_log\":{\"name\":\"event_log_demo_5\",\"schema\":\"default\",\"catalog\":\"labuser11058730_1754017152\"},\"root_path\":\"/Workspace/Users/labuser11058730_1754017152@vocareum.com/build-data-pipelines-with-lakeflow-declarative-pipelines-3.0.2/Build Data Pipelines with Lakeflow Declarative Pipelines/5 - Deploying a Pipeline to Production Project\"},\"failed_attempts\":0,\"full_refresh\":false,\"run_as_user_id\":70949121692270,\"runtime_version\":{\"dbr_version\":\"16.4\",\"universe_commit\":\"a34e2cdbeb8f369536e943c361d892db7d6f590b\",\"runtime_commit\":\"c72685e185325c58372a549382c10d183f3b626c\",\"channel\":\"PREVIEW\",\"image_key\":\"dlt:16.4.4-delta-pipelines-photon-dlt-release-dp-nightly-2025.29.thu.05.27-rc0-commit-e1fadf8-image-dc141cf\"},\"validate_only\":false,\"development\":true,\"explore_only\":false}}",
         "create_update"
        ],
        [
         "2e305eb1-6ea0-11f0-862f-dea3e0feb822",
         [
          [
           "execution",
           1754029489000009
          ],
          1754029469725001
         ],
         [
          "AWS",
          "us-west-2",
          3622490971720,
          null,
          "6ce1fdf2-b7dd-4ed3-844e-1d170666cadb",
          "WORKSPACE",
          "5 - Deploying a Pipeline to Production Project - labuser11058730_1754017152",
          "0801-062429-la5rq55-v2n",
          "e994a5ed-09c2-41af-90f3-9d8c34773039",
          null,
          null,
          null,
          null,
          null,
          null,
          "e994a5ed-09c2-41af-90f3-9d8c34773039",
          null,
          null,
          null,
          null,
          null,
          null,
          null,
          null,
          null,
          null,
          null,
          null
         ],
         "2025-08-01T06:24:29.723Z",
         "Update e994a5 is WAITING_FOR_RESOURCES.",
         "INFO",
         "STABLE",
         null,
         "{\"update_progress\":{\"state\":\"WAITING_FOR_RESOURCES\"}}",
         "update_progress"
        ],
        [
         "432e5ce0-6ea0-11f0-a268-aa11d67e9c2a",
         [
          [
           "execution",
           1754029489000010
          ],
          null
         ],
         [
          "AWS",
          "us-west-2",
          3622490971720,
          null,
          "6ce1fdf2-b7dd-4ed3-844e-1d170666cadb",
          "WORKSPACE",
          "5 - Deploying a Pipeline to Production Project - labuser11058730_1754017152",
          "0801-062429-la5rq55-v2n",
          "e994a5ed-09c2-41af-90f3-9d8c34773039",
          null,
          null,
          null,
          null,
          null,
          null,
          "e994a5ed-09c2-41af-90f3-9d8c34773039",
          null,
          null,
          null,
          null,
          null,
          null,
          null,
          null,
          null,
          null,
          null,
          null
         ],
         "2025-08-01T06:25:04.942Z",
         "Update e994a5 is SETTING_UP_TABLES.",
         "INFO",
         "STABLE",
         null,
         "{\"update_progress\":{\"state\":\"SETTING_UP_TABLES\"}}",
         "update_progress"
        ],
        [
         "43d09050-6ea0-11f0-a268-aa11d67e9c2a",
         [
          [
           "execution",
           1754029489000011
          ],
          null
         ],
         [
          "AWS",
          "us-west-2",
          3622490971720,
          null,
          "6ce1fdf2-b7dd-4ed3-844e-1d170666cadb",
          "WORKSPACE",
          "5 - Deploying a Pipeline to Production Project - labuser11058730_1754017152",
          "0801-062429-la5rq55-v2n",
          "e994a5ed-09c2-41af-90f3-9d8c34773039",
          null,
          null,
          null,
          null,
          null,
          null,
          "e994a5ed-09c2-41af-90f3-9d8c34773039",
          null,
          "labuser11058730_1754017152.2_silver_db.status_silver_demo5",
          null,
          null,
          null,
          null,
          null,
          null,
          null,
          null,
          null,
          null
         ],
         "2025-08-01T06:25:06.005Z",
         "STREAMING_TABLE `labuser11058730_1754017152`.`2_silver_db`.`status_silver_demo5` has been created.",
         "INFO",
         "EVOLVING",
         null,
         "{\"dataset_life_cycle\":{\"state\":\"CREATED\",\"dataset_type\":\"STREAMING_TABLE\"}}",
         "dataset_life_cycle"
        ],
        [
         "43f110a0-6ea0-11f0-a268-aa11d67e9c2a",
         [
          [
           "execution",
           1754029489000012
          ],
          null
         ],
         [
          "AWS",
          "us-west-2",
          3622490971720,
          null,
          "6ce1fdf2-b7dd-4ed3-844e-1d170666cadb",
          "WORKSPACE",
          "5 - Deploying a Pipeline to Production Project - labuser11058730_1754017152",
          "0801-062429-la5rq55-v2n",
          "e994a5ed-09c2-41af-90f3-9d8c34773039",
          null,
          null,
          null,
          null,
          null,
          null,
          "e994a5ed-09c2-41af-90f3-9d8c34773039",
          null,
          "labuser11058730_1754017152.1_bronze_db.orders_bronze_demo5",
          null,
          null,
          null,
          null,
          null,
          null,
          null,
          null,
          null,
          null
         ],
         "2025-08-01T06:25:06.218Z",
         "STREAMING_TABLE `labuser11058730_1754017152`.`1_bronze_db`.`orders_bronze_demo5` has been created.",
         "INFO",
         "EVOLVING",
         null,
         "{\"dataset_life_cycle\":{\"state\":\"CREATED\",\"dataset_type\":\"STREAMING_TABLE\"}}",
         "dataset_life_cycle"
        ],
        [
         "441adfc0-6ea0-11f0-a268-aa11d67e9c2a",
         [
          [
           "execution",
           1754029489000013
          ],
          null
         ],
         [
          "AWS",
          "us-west-2",
          3622490971720,
          null,
          "6ce1fdf2-b7dd-4ed3-844e-1d170666cadb",
          "WORKSPACE",
          "5 - Deploying a Pipeline to Production Project - labuser11058730_1754017152",
          "0801-062429-la5rq55-v2n",
          "e994a5ed-09c2-41af-90f3-9d8c34773039",
          null,
          null,
          null,
          null,
          null,
          null,
          "e994a5ed-09c2-41af-90f3-9d8c34773039",
          null,
          "labuser11058730_1754017152.1_bronze_db.status_bronze_demo5",
          null,
          null,
          null,
          null,
          null,
          null,
          null,
          null,
          null,
          null
         ],
         "2025-08-01T06:25:06.492Z",
         "STREAMING_TABLE `labuser11058730_1754017152`.`1_bronze_db`.`status_bronze_demo5` has been created.",
         "INFO",
         "EVOLVING",
         null,
         "{\"dataset_life_cycle\":{\"state\":\"CREATED\",\"dataset_type\":\"STREAMING_TABLE\"}}",
         "dataset_life_cycle"
        ],
        [
         "444e99f0-6ea0-11f0-a268-aa11d67e9c2a",
         [
          [
           "execution",
           1754029489000014
          ],
          null
         ],
         [
          "AWS",
          "us-west-2",
          3622490971720,
          null,
          "6ce1fdf2-b7dd-4ed3-844e-1d170666cadb",
          "WORKSPACE",
          "5 - Deploying a Pipeline to Production Project - labuser11058730_1754017152",
          "0801-062429-la5rq55-v2n",
          "e994a5ed-09c2-41af-90f3-9d8c34773039",
          null,
          null,
          null,
          null,
          null,
          null,
          "e994a5ed-09c2-41af-90f3-9d8c34773039",
          null,
          "labuser11058730_1754017152.2_silver_db.orders_silver_demo5",
          null,
          null,
          null,
          null,
          null,
          null,
          null,
          null,
          null,
          null
         ],
         "2025-08-01T06:25:06.831Z",
         "STREAMING_TABLE `labuser11058730_1754017152`.`2_silver_db`.`orders_silver_demo5` has been created.",
         "INFO",
         "EVOLVING",
         null,
         "{\"dataset_life_cycle\":{\"state\":\"CREATED\",\"dataset_type\":\"STREAMING_TABLE\"}}",
         "dataset_life_cycle"
        ],
        [
         "494e0d00-6ea0-11f0-a268-aa11d67e9c2a",
         [
          [
           "execution",
           1754029489000023
          ],
          null
         ],
         [
          "AWS",
          "us-west-2",
          3622490971720,
          null,
          "6ce1fdf2-b7dd-4ed3-844e-1d170666cadb",
          "WORKSPACE",
          "5 - Deploying a Pipeline to Production Project - labuser11058730_1754017152",
          "0801-062429-la5rq55-v2n",
          "e994a5ed-09c2-41af-90f3-9d8c34773039",
          null,
          null,
          null,
          null,
          "labuser11058730_1754017152.1_bronze_db.orders_bronze_demo5",
          null,
          "e994a5ed-09c2-41af-90f3-9d8c34773039",
          null,
          null,
          null,
          null,
          null,
          null,
          null,
          null,
          null,
          null,
          null,
          null
         ],
         "2025-08-01T06:25:15.216Z",
         "Flow `labuser11058730_1754017152`.`1_bronze_db`.`orders_bronze_demo5` defined as APPEND.",
         "INFO",
         "STABLE",
         null,
         "{\"flow_definition\":{\"output_dataset\":\"labuser11058730_1754017152.1_bronze_db.orders_bronze_demo5\",\"explain_text\":\"'Project [*, 'current_timestamp() AS processing_time#10469, '_metadata.file_name AS source_file#10470]\",\"schema_json\":\"{\\\"type\\\":\\\"struct\\\",\\\"fields\\\":[{\\\"name\\\":\\\"customer_id\\\",\\\"type\\\":\\\"long\\\",\\\"nullable\\\":true,\\\"metadata\\\":{}},{\\\"name\\\":\\\"notifications\\\",\\\"type\\\":\\\"string\\\",\\\"nullable\\\":true,\\\"metadata\\\":{}},{\\\"name\\\":\\\"order_id\\\",\\\"type\\\":\\\"long\\\",\\\"nullable\\\":true,\\\"metadata\\\":{}},{\\\"name\\\":\\\"order_timestamp\\\",\\\"type\\\":\\\"long\\\",\\\"nullable\\\":true,\\\"metadata\\\":{}},{\\\"name\\\":\\\"_rescued_data\\\",\\\"type\\\":\\\"string\\\",\\\"nullable\\\":true,\\\"metadata\\\":{}},{\\\"name\\\":\\\"processing_time\\\",\\\"type\\\":\\\"timestamp\\\",\\\"nullable\\\":false,\\\"metadata\\\":{}},{\\\"name\\\":\\\"source_file\\\",\\\"type\\\":\\\"string\\\",\\\"nullable\\\":false,\\\"metadata\\\":{}}]}\",\"schema\":[{\"name\":\"customer_id\",\"path\":[\"customer_id\"],\"data_type\":\"LONG\"},{\"name\":\"notifications\",\"path\":[\"notifications\"],\"data_type\":\"STRING\"},{\"name\":\"order_id\",\"path\":[\"order_id\"],\"data_type\":\"LONG\"},{\"name\":\"order_timestamp\",\"path\":[\"order_timestamp\"],\"data_type\":\"LONG\"},{\"name\":\"_rescued_data\",\"path\":[\"_rescued_data\"],\"data_type\":\"STRING\"},{\"name\":\"processing_time\",\"path\":[\"processing_time\"],\"data_type\":\"TIMESTAMP\"},{\"name\":\"source_file\",\"path\":[\"source_file\"],\"data_type\":\"STRING\"}],\"flow_type\":\"APPEND\",\"comment\":\"Ingest order JSON files from cloud storage\",\"language\":\"SQL\",\"notebook_path\":\"/Workspace/Users/labuser11058730_1754017152@vocareum.com/build-data-pipelines-with-lakeflow-declarative-pipelines-3.0.2/Build Data Pipelines with Lakeflow Declarative Pipelines/5 - Deploying a Pipeline to Production Project/orders/orders_pipeline.sql\",\"once\":false}}",
         "flow_definition"
        ],
        [
         "49544e90-6ea0-11f0-a268-aa11d67e9c2a",
         [
          [
           "execution",
           1754029489000024
          ],
          null
         ],
         [
          "AWS",
          "us-west-2",
          3622490971720,
          null,
          "6ce1fdf2-b7dd-4ed3-844e-1d170666cadb",
          "WORKSPACE",
          "5 - Deploying a Pipeline to Production Project - labuser11058730_1754017152",
          "0801-062429-la5rq55-v2n",
          "e994a5ed-09c2-41af-90f3-9d8c34773039",
          null,
          null,
          null,
          null,
          "labuser11058730_1754017152.1_bronze_db.status_bronze_demo5",
          null,
          "e994a5ed-09c2-41af-90f3-9d8c34773039",
          null,
          null,
          null,
          null,
          null,
          null,
          null,
          null,
          null,
          null,
          null,
          null
         ],
         "2025-08-01T06:25:15.257Z",
         "Flow `labuser11058730_1754017152`.`1_bronze_db`.`status_bronze_demo5` defined as APPEND.",
         "INFO",
         "STABLE",
         null,
         "{\"flow_definition\":{\"output_dataset\":\"labuser11058730_1754017152.1_bronze_db.status_bronze_demo5\",\"explain_text\":\"'Project [*, 'current_timestamp() AS processing_time#10459, '_metadata.file_name AS source_file#10460]\",\"schema_json\":\"{\\\"type\\\":\\\"struct\\\",\\\"fields\\\":[{\\\"name\\\":\\\"order_id\\\",\\\"type\\\":\\\"long\\\",\\\"nullable\\\":true,\\\"metadata\\\":{}},{\\\"name\\\":\\\"order_status\\\",\\\"type\\\":\\\"string\\\",\\\"nullable\\\":true,\\\"metadata\\\":{}},{\\\"name\\\":\\\"status_timestamp\\\",\\\"type\\\":\\\"long\\\",\\\"nullable\\\":true,\\\"metadata\\\":{}},{\\\"name\\\":\\\"_rescued_data\\\",\\\"type\\\":\\\"string\\\",\\\"nullable\\\":true,\\\"metadata\\\":{}},{\\\"name\\\":\\\"processing_time\\\",\\\"type\\\":\\\"timestamp\\\",\\\"nullable\\\":false,\\\"metadata\\\":{}},{\\\"name\\\":\\\"source_file\\\",\\\"type\\\":\\\"string\\\",\\\"nullable\\\":false,\\\"metadata\\\":{}}]}\",\"schema\":[{\"name\":\"order_id\",\"path\":[\"order_id\"],\"data_type\":\"LONG\"},{\"name\":\"order_status\",\"path\":[\"order_status\"],\"data_type\":\"STRING\"},{\"name\":\"status_timestamp\",\"path\":[\"status_timestamp\"],\"data_type\":\"LONG\"},{\"name\":\"_rescued_data\",\"path\":[\"_rescued_data\"],\"data_type\":\"STRING\"},{\"name\":\"processing_time\",\"path\":[\"processing_time\"],\"data_type\":\"TIMESTAMP\"},{\"name\":\"source_file\",\"path\":[\"source_file\"],\"data_type\":\"STRING\"}],\"flow_type\":\"APPEND\",\"comment\":\"Ingest raw JSON order status files from cloud storage\",\"language\":\"SQL\",\"notebook_path\":\"/Workspace/Users/labuser11058730_1754017152@vocareum.com/build-data-pipelines-with-lakeflow-declarative-pipelines-3.0.2/Build Data Pipelines with Lakeflow Declarative Pipelines/5 - Deploying a Pipeline to Production Project/status/status_pipeline.sql\",\"once\":false}}",
         "flow_definition"
        ],
        [
         "4954c3c0-6ea0-11f0-a268-aa11d67e9c2a",
         [
          [
           "execution",
           1754029489000025
          ],
          null
         ],
         [
          "AWS",
          "us-west-2",
          3622490971720,
          null,
          "6ce1fdf2-b7dd-4ed3-844e-1d170666cadb",
          "WORKSPACE",
          "5 - Deploying a Pipeline to Production Project - labuser11058730_1754017152",
          "0801-062429-la5rq55-v2n",
          "e994a5ed-09c2-41af-90f3-9d8c34773039",
          null,
          null,
          null,
          null,
          "labuser11058730_1754017152.2_silver_db.status_silver_demo5",
          null,
          "e994a5ed-09c2-41af-90f3-9d8c34773039",
          null,
          null,
          null,
          null,
          null,
          null,
          null,
          null,
          null,
          null,
          null,
          null
         ],
         "2025-08-01T06:25:15.26Z",
         "Flow `labuser11058730_1754017152`.`2_silver_db`.`status_silver_demo5` defined as APPEND.",
         "INFO",
         "STABLE",
         null,
         "{\"flow_definition\":{\"input_datasets\":[\"labuser11058730_1754017152.1_bronze_db.status_bronze_demo5\"],\"output_dataset\":\"labuser11058730_1754017152.2_silver_db.status_silver_demo5\",\"explain_text\":\"'Project ['order_id, 'order_status, 'timestamp('status_timestamp) AS order_status_timestamp#10462]\",\"schema_json\":\"{\\\"type\\\":\\\"struct\\\",\\\"fields\\\":[{\\\"name\\\":\\\"order_id\\\",\\\"type\\\":\\\"long\\\",\\\"nullable\\\":true,\\\"metadata\\\":{}},{\\\"name\\\":\\\"order_status\\\",\\\"type\\\":\\\"string\\\",\\\"nullable\\\":true,\\\"metadata\\\":{}},{\\\"name\\\":\\\"order_status_timestamp\\\",\\\"type\\\":\\\"timestamp\\\",\\\"nullable\\\":true,\\\"metadata\\\":{}}]}\",\"schema\":[{\"name\":\"order_id\",\"path\":[\"order_id\"],\"data_type\":\"LONG\"},{\"name\":\"order_status\",\"path\":[\"order_status\"],\"data_type\":\"STRING\"},{\"name\":\"order_status_timestamp\",\"path\":[\"order_status_timestamp\"],\"data_type\":\"TIMESTAMP\"}],\"flow_type\":\"APPEND\",\"comment\":\"Order with each status and timestamp\",\"language\":\"SQL\",\"notebook_path\":\"/Workspace/Users/labuser11058730_1754017152@vocareum.com/build-data-pipelines-with-lakeflow-declarative-pipelines-3.0.2/Build Data Pipelines with Lakeflow Declarative Pipelines/5 - Deploying a Pipeline to Production Project/status/status_pipeline.sql\",\"once\":false}}",
         "flow_definition"
        ],
        [
         "495511e0-6ea0-11f0-a268-aa11d67e9c2a",
         [
          [
           "execution",
           1754029489000026
          ],
          null
         ],
         [
          "AWS",
          "us-west-2",
          3622490971720,
          null,
          "6ce1fdf2-b7dd-4ed3-844e-1d170666cadb",
          "WORKSPACE",
          "5 - Deploying a Pipeline to Production Project - labuser11058730_1754017152",
          "0801-062429-la5rq55-v2n",
          "e994a5ed-09c2-41af-90f3-9d8c34773039",
          null,
          null,
          null,
          null,
          "labuser11058730_1754017152.2_silver_db.orders_silver_demo5",
          null,
          "e994a5ed-09c2-41af-90f3-9d8c34773039",
          null,
          null,
          null,
          null,
          null,
          null,
          null,
          null,
          null,
          null,
          null,
          null
         ],
         "2025-08-01T06:25:15.262Z",
         "Flow `labuser11058730_1754017152`.`2_silver_db`.`orders_silver_demo5` defined as APPEND.",
         "INFO",
         "STABLE",
         null,
         "{\"flow_definition\":{\"input_datasets\":[\"labuser11058730_1754017152.1_bronze_db.orders_bronze_demo5\"],\"output_dataset\":\"labuser11058730_1754017152.2_silver_db.orders_silver_demo5\",\"explain_text\":\"'Project ['order_id, 'timestamp('order_timestamp) AS order_timestamp#10472, 'customer_id, 'notifications]\",\"schema_json\":\"{\\\"type\\\":\\\"struct\\\",\\\"fields\\\":[{\\\"name\\\":\\\"order_id\\\",\\\"type\\\":\\\"long\\\",\\\"nullable\\\":true,\\\"metadata\\\":{}},{\\\"name\\\":\\\"order_timestamp\\\",\\\"type\\\":\\\"timestamp\\\",\\\"nullable\\\":true,\\\"metadata\\\":{}},{\\\"name\\\":\\\"customer_id\\\",\\\"type\\\":\\\"long\\\",\\\"nullable\\\":true,\\\"metadata\\\":{}},{\\\"name\\\":\\\"notifications\\\",\\\"type\\\":\\\"string\\\",\\\"nullable\\\":true,\\\"metadata\\\":{}}]}\",\"schema\":[{\"name\":\"order_id\",\"path\":[\"order_id\"],\"data_type\":\"LONG\"},{\"name\":\"order_timestamp\",\"path\":[\"order_timestamp\"],\"data_type\":\"TIMESTAMP\"},{\"name\":\"customer_id\",\"path\":[\"customer_id\"],\"data_type\":\"LONG\"},{\"name\":\"notifications\",\"path\":[\"notifications\"],\"data_type\":\"STRING\"}],\"flow_type\":\"APPEND\",\"comment\":\"Silver clean orders table\",\"language\":\"SQL\",\"notebook_path\":\"/Workspace/Users/labuser11058730_1754017152@vocareum.com/build-data-pipelines-with-lakeflow-declarative-pipelines-3.0.2/Build Data Pipelines with Lakeflow Declarative Pipelines/5 - Deploying a Pipeline to Production Project/orders/orders_pipeline.sql\",\"once\":false}}",
         "flow_definition"
        ],
        [
         "4955ae20-6ea0-11f0-a268-aa11d67e9c2a",
         [
          [
           "execution",
           1754029489000027
          ],
          null
         ],
         [
          "AWS",
          "us-west-2",
          3622490971720,
          null,
          "6ce1fdf2-b7dd-4ed3-844e-1d170666cadb",
          "WORKSPACE",
          "5 - Deploying a Pipeline to Production Project - labuser11058730_1754017152",
          "0801-062429-la5rq55-v2n",
          "e994a5ed-09c2-41af-90f3-9d8c34773039",
          null,
          null,
          null,
          null,
          "labuser11058730_1754017152.3_gold_db.gold_orders_by_date_demo5",
          null,
          "e994a5ed-09c2-41af-90f3-9d8c34773039",
          null,
          null,
          null,
          null,
          null,
          null,
          null,
          null,
          null,
          null,
          null,
          null
         ],
         "2025-08-01T06:25:15.266Z",
         "Flow `labuser11058730_1754017152`.`3_gold_db`.`gold_orders_by_date_demo5` defined as MATERIALIZED_VIEW.",
         "INFO",
         "STABLE",
         null,
         "{\"flow_definition\":{\"input_datasets\":[\"labuser11058730_1754017152.2_silver_db.orders_silver_demo5\"],\"output_dataset\":\"labuser11058730_1754017152.3_gold_db.gold_orders_by_date_demo5\",\"explain_text\":\"'Aggregate ['date('order_timestamp)], ['date('order_timestamp) AS order_date#10474, 'count(1) AS total_daily_orders#10475]\",\"schema_json\":\"{\\\"type\\\":\\\"struct\\\",\\\"fields\\\":[{\\\"name\\\":\\\"order_date\\\",\\\"type\\\":\\\"date\\\",\\\"nullable\\\":true,\\\"metadata\\\":{}},{\\\"name\\\":\\\"total_daily_orders\\\",\\\"type\\\":\\\"long\\\",\\\"nullable\\\":false,\\\"metadata\\\":{}}]}\",\"schema\":[{\"name\":\"order_date\",\"path\":[\"order_date\"],\"data_type\":\"DATE\"},{\"name\":\"total_daily_orders\",\"path\":[\"total_daily_orders\"],\"data_type\":\"LONG\"}],\"flow_type\":\"MATERIALIZED_VIEW\",\"comment\":\"Aggregate gold data for downstream analysis\",\"language\":\"SQL\",\"notebook_path\":\"/Workspace/Users/labuser11058730_1754017152@vocareum.com/build-data-pipelines-with-lakeflow-declarative-pipelines-3.0.2/Build Data Pipelines with Lakeflow Declarative Pipelines/5 - Deploying a Pipeline to Production Project/orders/orders_pipeline.sql\",\"once\":false}}",
         "flow_definition"
        ],
        [
         "49567170-6ea0-11f0-a268-aa11d67e9c2a",
         [
          [
           "execution",
           1754029489000028
          ],
          null
         ],
         [
          "AWS",
          "us-west-2",
          3622490971720,
          null,
          "6ce1fdf2-b7dd-4ed3-844e-1d170666cadb",
          "WORKSPACE",
          "5 - Deploying a Pipeline to Production Project - labuser11058730_1754017152",
          "0801-062429-la5rq55-v2n",
          "e994a5ed-09c2-41af-90f3-9d8c34773039",
          null,
          null,
          null,
          null,
          "labuser11058730_1754017152.3_gold_db.full_order_info_gold_demo5",
          null,
          "e994a5ed-09c2-41af-90f3-9d8c34773039",
          null,
          null,
          null,
          null,
          null,
          null,
          null,
          null,
          null,
          null,
          null,
          null
         ],
         "2025-08-01T06:25:15.271Z",
         "Flow `labuser11058730_1754017152`.`3_gold_db`.`full_order_info_gold_demo5` defined as MATERIALIZED_VIEW.",
         "INFO",
         "STABLE",
         null,
         "{\"flow_definition\":{\"input_datasets\":[\"labuser11058730_1754017152.2_silver_db.status_silver_demo5\",\"labuser11058730_1754017152.2_silver_db.orders_silver_demo5\"],\"output_dataset\":\"labuser11058730_1754017152.3_gold_db.full_order_info_gold_demo5\",\"explain_text\":\"'Project ['orders.order_id, 'orders.order_timestamp, 'status.order_status, 'status.order_status_timestamp]\",\"schema_json\":\"{\\\"type\\\":\\\"struct\\\",\\\"fields\\\":[{\\\"name\\\":\\\"order_id\\\",\\\"type\\\":\\\"long\\\",\\\"nullable\\\":true,\\\"metadata\\\":{}},{\\\"name\\\":\\\"order_timestamp\\\",\\\"type\\\":\\\"timestamp\\\",\\\"nullable\\\":true,\\\"metadata\\\":{}},{\\\"name\\\":\\\"order_status\\\",\\\"type\\\":\\\"string\\\",\\\"nullable\\\":true,\\\"metadata\\\":{}},{\\\"name\\\":\\\"order_status_timestamp\\\",\\\"type\\\":\\\"timestamp\\\",\\\"nullable\\\":true,\\\"metadata\\\":{}}]}\",\"schema\":[{\"name\":\"order_id\",\"path\":[\"order_id\"],\"data_type\":\"LONG\"},{\"name\":\"order_timestamp\",\"path\":[\"order_timestamp\"],\"data_type\":\"TIMESTAMP\"},{\"name\":\"order_status\",\"path\":[\"order_status\"],\"data_type\":\"STRING\"},{\"name\":\"order_status_timestamp\",\"path\":[\"order_status_timestamp\"],\"data_type\":\"TIMESTAMP\"}],\"flow_type\":\"MATERIALIZED_VIEW\",\"comment\":\"Joining the orders and order status silver tables to view all orders with each individual status per order\",\"language\":\"SQL\",\"notebook_path\":\"/Workspace/Users/labuser11058730_1754017152@vocareum.com/build-data-pipelines-with-lakeflow-declarative-pipelines-3.0.2/Build Data Pipelines with Lakeflow Declarative Pipelines/5 - Deploying a Pipeline to Production Project/status/status_pipeline.sql\",\"once\":false}}",
         "flow_definition"
        ],
        [
         "4956bf90-6ea0-11f0-a268-aa11d67e9c2a",
         [
          [
           "execution",
           1754029489000029
          ],
          null
         ],
         [
          "AWS",
          "us-west-2",
          3622490971720,
          null,
          "6ce1fdf2-b7dd-4ed3-844e-1d170666cadb",
          "WORKSPACE",
          "5 - Deploying a Pipeline to Production Project - labuser11058730_1754017152",
          "0801-062429-la5rq55-v2n",
          "e994a5ed-09c2-41af-90f3-9d8c34773039",
          null,
          null,
          null,
          null,
          "labuser11058730_1754017152.3_gold_db.delivered_orders_gold_demo5",
          null,
          "e994a5ed-09c2-41af-90f3-9d8c34773039",
          null,
          null,
          null,
          null,
          null,
          null,
          null,
          null,
          null,
          null,
          null,
          null
         ],
         "2025-08-01T06:25:15.273Z",
         "Flow `labuser11058730_1754017152`.`3_gold_db`.`delivered_orders_gold_demo5` defined as MATERIALIZED_VIEW.",
         "INFO",
         "STABLE",
         null,
         "{\"flow_definition\":{\"input_datasets\":[\"labuser11058730_1754017152.3_gold_db.full_order_info_gold_demo5\"],\"output_dataset\":\"labuser11058730_1754017152.3_gold_db.delivered_orders_gold_demo5\",\"explain_text\":\"'Project ['order_id, 'order_timestamp, 'order_status, 'order_status_timestamp, timestampdiff(DAY, 'order_timestamp, 'order_status_timestamp, None) AS days_to_delivery#10465]\",\"schema_json\":\"{\\\"type\\\":\\\"struct\\\",\\\"fields\\\":[{\\\"name\\\":\\\"order_id\\\",\\\"type\\\":\\\"long\\\",\\\"nullable\\\":true,\\\"metadata\\\":{}},{\\\"name\\\":\\\"order_timestamp\\\",\\\"type\\\":\\\"timestamp\\\",\\\"nullable\\\":true,\\\"metadata\\\":{}},{\\\"name\\\":\\\"order_status\\\",\\\"type\\\":\\\"string\\\",\\\"nullable\\\":true,\\\"metadata\\\":{}},{\\\"name\\\":\\\"order_status_timestamp\\\",\\\"type\\\":\\\"timestamp\\\",\\\"nullable\\\":true,\\\"metadata\\\":{}},{\\\"name\\\":\\\"days_to_delivery\\\",\\\"type\\\":\\\"long\\\",\\\"nullable\\\":true,\\\"metadata\\\":{}}]}\",\"schema\":[{\"name\":\"order_id\",\"path\":[\"order_id\"],\"data_type\":\"LONG\"},{\"name\":\"order_timestamp\",\"path\":[\"order_timestamp\"],\"data_type\":\"TIMESTAMP\"},{\"name\":\"order_status\",\"path\":[\"order_status\"],\"data_type\":\"STRING\"},{\"name\":\"order_status_timestamp\",\"path\":[\"order_status_timestamp\"],\"data_type\":\"TIMESTAMP\"},{\"name\":\"days_to_delivery\",\"path\":[\"days_to_delivery\"],\"data_type\":\"LONG\"}],\"flow_type\":\"MATERIALIZED_VIEW\",\"comment\":\"All delivered orders\",\"language\":\"SQL\",\"notebook_path\":\"/Workspace/Users/labuser11058730_1754017152@vocareum.com/build-data-pipelines-with-lakeflow-declarative-pipelines-3.0.2/Build Data Pipelines with Lakeflow Declarative Pipelines/5 - Deploying a Pipeline to Production Project/status/status_pipeline.sql\",\"once\":false}}",
         "flow_definition"
        ],
        [
         "49570db0-6ea0-11f0-a268-aa11d67e9c2a",
         [
          [
           "execution",
           1754029489000030
          ],
          null
         ],
         [
          "AWS",
          "us-west-2",
          3622490971720,
          null,
          "6ce1fdf2-b7dd-4ed3-844e-1d170666cadb",
          "WORKSPACE",
          "5 - Deploying a Pipeline to Production Project - labuser11058730_1754017152",
          "0801-062429-la5rq55-v2n",
          "e994a5ed-09c2-41af-90f3-9d8c34773039",
          null,
          null,
          null,
          null,
          "labuser11058730_1754017152.3_gold_db.cancelled_orders_gold_demo5",
          null,
          "e994a5ed-09c2-41af-90f3-9d8c34773039",
          null,
          null,
          null,
          null,
          null,
          null,
          null,
          null,
          null,
          null,
          null,
          null
         ],
         "2025-08-01T06:25:15.275Z",
         "Flow `labuser11058730_1754017152`.`3_gold_db`.`cancelled_orders_gold_demo5` defined as MATERIALIZED_VIEW.",
         "INFO",
         "STABLE",
         null,
         "{\"flow_definition\":{\"input_datasets\":[\"labuser11058730_1754017152.3_gold_db.full_order_info_gold_demo5\"],\"output_dataset\":\"labuser11058730_1754017152.3_gold_db.cancelled_orders_gold_demo5\",\"explain_text\":\"'Project ['order_id, 'order_timestamp, 'order_status, 'order_status_timestamp, timestampdiff(DAY, 'order_timestamp, 'order_status_timestamp, None) AS days_to_cancel#10464]\",\"schema_json\":\"{\\\"type\\\":\\\"struct\\\",\\\"fields\\\":[{\\\"name\\\":\\\"order_id\\\",\\\"type\\\":\\\"long\\\",\\\"nullable\\\":true,\\\"metadata\\\":{}},{\\\"name\\\":\\\"order_timestamp\\\",\\\"type\\\":\\\"timestamp\\\",\\\"nullable\\\":true,\\\"metadata\\\":{}},{\\\"name\\\":\\\"order_status\\\",\\\"type\\\":\\\"string\\\",\\\"nullable\\\":true,\\\"metadata\\\":{}},{\\\"name\\\":\\\"order_status_timestamp\\\",\\\"type\\\":\\\"timestamp\\\",\\\"nullable\\\":true,\\\"metadata\\\":{}},{\\\"name\\\":\\\"days_to_cancel\\\",\\\"type\\\":\\\"long\\\",\\\"nullable\\\":true,\\\"metadata\\\":{}}]}\",\"schema\":[{\"name\":\"order_id\",\"path\":[\"order_id\"],\"data_type\":\"LONG\"},{\"name\":\"order_timestamp\",\"path\":[\"order_timestamp\"],\"data_type\":\"TIMESTAMP\"},{\"name\":\"order_status\",\"path\":[\"order_status\"],\"data_type\":\"STRING\"},{\"name\":\"order_status_timestamp\",\"path\":[\"order_status_timestamp\"],\"data_type\":\"TIMESTAMP\"},{\"name\":\"days_to_cancel\",\"path\":[\"days_to_cancel\"],\"data_type\":\"LONG\"}],\"flow_type\":\"MATERIALIZED_VIEW\",\"comment\":\"All cancelled orders\",\"language\":\"SQL\",\"notebook_path\":\"/Workspace/Users/labuser11058730_1754017152@vocareum.com/build-data-pipelines-with-lakeflow-declarative-pipelines-3.0.2/Build Data Pipelines with Lakeflow Declarative Pipelines/5 - Deploying a Pipeline to Production Project/status/status_pipeline.sql\",\"once\":false}}",
         "flow_definition"
        ],
        [
         "49590980-6ea0-11f0-a268-aa11d67e9c2a",
         [
          [
           "execution",
           1754029489000031
          ],
          null
         ],
         [
          "AWS",
          "us-west-2",
          3622490971720,
          null,
          "6ce1fdf2-b7dd-4ed3-844e-1d170666cadb",
          "WORKSPACE",
          "5 - Deploying a Pipeline to Production Project - labuser11058730_1754017152",
          "0801-062429-la5rq55-v2n",
          "e994a5ed-09c2-41af-90f3-9d8c34773039",
          null,
          null,
          null,
          null,
          null,
          null,
          "e994a5ed-09c2-41af-90f3-9d8c34773039",
          null,
          "labuser11058730_1754017152.1_bronze_db.orders_bronze_demo5",
          null,
          null,
          null,
          null,
          null,
          null,
          null,
          null,
          null,
          null
         ],
         "2025-08-01T06:25:15.288Z",
         "Dataset `labuser11058730_1754017152`.`1_bronze_db`.`orders_bronze_demo5` defined as STREAMING_TABLE.",
         "INFO",
         "STABLE",
         null,
         "{\"dataset_definition\":{\"dataset_type\":\"STREAMING_TABLE\",\"table_properties\":[{\"key\":\"quality\",\"value\":\"bronze\"},{\"key\":\"pipelines.reset.allowed\",\"value\":\"false\"}],\"schema_json\":\"{\\\"type\\\":\\\"struct\\\",\\\"fields\\\":[{\\\"name\\\":\\\"customer_id\\\",\\\"type\\\":\\\"long\\\",\\\"nullable\\\":true,\\\"metadata\\\":{}},{\\\"name\\\":\\\"notifications\\\",\\\"type\\\":\\\"string\\\",\\\"nullable\\\":true,\\\"metadata\\\":{}},{\\\"name\\\":\\\"order_id\\\",\\\"type\\\":\\\"long\\\",\\\"nullable\\\":true,\\\"metadata\\\":{}},{\\\"name\\\":\\\"order_timestamp\\\",\\\"type\\\":\\\"long\\\",\\\"nullable\\\":true,\\\"metadata\\\":{}},{\\\"name\\\":\\\"_rescued_data\\\",\\\"type\\\":\\\"string\\\",\\\"nullable\\\":true,\\\"metadata\\\":{}},{\\\"name\\\":\\\"processing_time\\\",\\\"type\\\":\\\"timestamp\\\",\\\"nullable\\\":true,\\\"metadata\\\":{}},{\\\"name\\\":\\\"source_file\\\",\\\"type\\\":\\\"string\\\",\\\"nullable\\\":true,\\\"metadata\\\":{}}]}\",\"schema\":[{\"name\":\"customer_id\",\"path\":[\"customer_id\"],\"data_type\":\"LONG\"},{\"name\":\"notifications\",\"path\":[\"notifications\"],\"data_type\":\"STRING\"},{\"name\":\"order_id\",\"path\":[\"order_id\"],\"data_type\":\"LONG\"},{\"name\":\"order_timestamp\",\"path\":[\"order_timestamp\"],\"data_type\":\"LONG\"},{\"name\":\"_rescued_data\",\"path\":[\"_rescued_data\"],\"data_type\":\"STRING\"},{\"name\":\"processing_time\",\"path\":[\"processing_time\"],\"data_type\":\"TIMESTAMP\"},{\"name\":\"source_file\",\"path\":[\"source_file\"],\"data_type\":\"STRING\"}],\"comment\":\"Ingest order JSON files from cloud storage\",\"metastore_name\":\"`labuser11058730_1754017152`.`1_bronze_db`.`orders_bronze_demo5`\",\"language\":\"SQL\",\"notebook_path\":\"/Workspace/Users/labuser11058730_1754017152@vocareum.com/build-data-pipelines-with-lakeflow-declarative-pipelines-3.0.2/Build Data Pipelines with Lakeflow Declarative Pipelines/5 - Deploying a Pipeline to Production Project/orders/orders_pipeline.sql\",\"num_flows\":1,\"is_private\":true}}",
         "dataset_definition"
        ],
        [
         "495d2830-6ea0-11f0-a268-aa11d67e9c2a",
         [
          [
           "execution",
           1754029489000032
          ],
          null
         ],
         [
          "AWS",
          "us-west-2",
          3622490971720,
          null,
          "6ce1fdf2-b7dd-4ed3-844e-1d170666cadb",
          "WORKSPACE",
          "5 - Deploying a Pipeline to Production Project - labuser11058730_1754017152",
          "0801-062429-la5rq55-v2n",
          "e994a5ed-09c2-41af-90f3-9d8c34773039",
          null,
          null,
          null,
          null,
          null,
          null,
          "e994a5ed-09c2-41af-90f3-9d8c34773039",
          null,
          "labuser11058730_1754017152.3_gold_db.delivered_orders_gold_demo5",
          null,
          null,
          null,
          null,
          null,
          null,
          null,
          null,
          null,
          null
         ],
         "2025-08-01T06:25:15.315Z",
         "Dataset `labuser11058730_1754017152`.`3_gold_db`.`delivered_orders_gold_demo5` defined as MATERIALIZED_VIEW.",
         "INFO",
         "STABLE",
         null,
         "{\"dataset_definition\":{\"dataset_type\":\"MATERIALIZED_VIEW\",\"table_properties\":[{\"key\":\"quality\",\"value\":\"gold\"}],\"schema_json\":\"{\\\"type\\\":\\\"struct\\\",\\\"fields\\\":[{\\\"name\\\":\\\"order_id\\\",\\\"type\\\":\\\"long\\\",\\\"nullable\\\":true,\\\"metadata\\\":{}},{\\\"name\\\":\\\"order_timestamp\\\",\\\"type\\\":\\\"timestamp\\\",\\\"nullable\\\":true,\\\"metadata\\\":{}},{\\\"name\\\":\\\"order_status\\\",\\\"type\\\":\\\"string\\\",\\\"nullable\\\":true,\\\"metadata\\\":{}},{\\\"name\\\":\\\"order_status_timestamp\\\",\\\"type\\\":\\\"timestamp\\\",\\\"nullable\\\":true,\\\"metadata\\\":{}},{\\\"name\\\":\\\"days_to_delivery\\\",\\\"type\\\":\\\"long\\\",\\\"nullable\\\":true,\\\"metadata\\\":{}}]}\",\"schema\":[{\"name\":\"order_id\",\"path\":[\"order_id\"],\"data_type\":\"LONG\"},{\"name\":\"order_timestamp\",\"path\":[\"order_timestamp\"],\"data_type\":\"TIMESTAMP\"},{\"name\":\"order_status\",\"path\":[\"order_status\"],\"data_type\":\"STRING\"},{\"name\":\"order_status_timestamp\",\"path\":[\"order_status_timestamp\"],\"data_type\":\"TIMESTAMP\"},{\"name\":\"days_to_delivery\",\"path\":[\"days_to_delivery\"],\"data_type\":\"LONG\"}],\"comment\":\"All delivered orders\",\"metastore_name\":\"`labuser11058730_1754017152`.`3_gold_db`.`delivered_orders_gold_demo5`\",\"language\":\"SQL\",\"notebook_path\":\"/Workspace/Users/labuser11058730_1754017152@vocareum.com/build-data-pipelines-with-lakeflow-declarative-pipelines-3.0.2/Build Data Pipelines with Lakeflow Declarative Pipelines/5 - Deploying a Pipeline to Production Project/status/status_pipeline.sql\",\"num_flows\":1,\"is_private\":true}}",
         "dataset_definition"
        ],
        [
         "495e39a0-6ea0-11f0-a268-aa11d67e9c2a",
         [
          [
           "execution",
           1754029489000033
          ],
          null
         ],
         [
          "AWS",
          "us-west-2",
          3622490971720,
          null,
          "6ce1fdf2-b7dd-4ed3-844e-1d170666cadb",
          "WORKSPACE",
          "5 - Deploying a Pipeline to Production Project - labuser11058730_1754017152",
          "0801-062429-la5rq55-v2n",
          "e994a5ed-09c2-41af-90f3-9d8c34773039",
          null,
          null,
          null,
          null,
          null,
          null,
          "e994a5ed-09c2-41af-90f3-9d8c34773039",
          null,
          "labuser11058730_1754017152.2_silver_db.orders_silver_demo5",
          null,
          null,
          null,
          null,
          null,
          null,
          null,
          null,
          null,
          null
         ],
         "2025-08-01T06:25:15.322Z",
         "Dataset `labuser11058730_1754017152`.`2_silver_db`.`orders_silver_demo5` defined as STREAMING_TABLE.",
         "INFO",
         "STABLE",
         null,
         "{\"dataset_definition\":{\"dataset_type\":\"STREAMING_TABLE\",\"table_properties\":[{\"key\":\"quality\",\"value\":\"silver\"}],\"schema_json\":\"{\\\"type\\\":\\\"struct\\\",\\\"fields\\\":[{\\\"name\\\":\\\"order_id\\\",\\\"type\\\":\\\"long\\\",\\\"nullable\\\":true,\\\"metadata\\\":{}},{\\\"name\\\":\\\"order_timestamp\\\",\\\"type\\\":\\\"timestamp\\\",\\\"nullable\\\":true,\\\"metadata\\\":{}},{\\\"name\\\":\\\"customer_id\\\",\\\"type\\\":\\\"long\\\",\\\"nullable\\\":true,\\\"metadata\\\":{}},{\\\"name\\\":\\\"notifications\\\",\\\"type\\\":\\\"string\\\",\\\"nullable\\\":true,\\\"metadata\\\":{}}]}\",\"schema\":[{\"name\":\"order_id\",\"path\":[\"order_id\"],\"data_type\":\"LONG\"},{\"name\":\"order_timestamp\",\"path\":[\"order_timestamp\"],\"data_type\":\"TIMESTAMP\"},{\"name\":\"customer_id\",\"path\":[\"customer_id\"],\"data_type\":\"LONG\"},{\"name\":\"notifications\",\"path\":[\"notifications\"],\"data_type\":\"STRING\"}],\"comment\":\"Silver clean orders table\",\"expectations\":[{\"name\":\"valid_notifications\",\"action\":\"ALLOW\"},{\"name\":\"valid_date\",\"action\":\"DROP\"},{\"name\":\"valid_id\",\"action\":\"FAIL\"}],\"metastore_name\":\"`labuser11058730_1754017152`.`2_silver_db`.`orders_silver_demo5`\",\"language\":\"SQL\",\"notebook_path\":\"/Workspace/Users/labuser11058730_1754017152@vocareum.com/build-data-pipelines-with-lakeflow-declarative-pipelines-3.0.2/Build Data Pipelines with Lakeflow Declarative Pipelines/5 - Deploying a Pipeline to Production Project/orders/orders_pipeline.sql\",\"num_flows\":1,\"is_private\":true}}",
         "dataset_definition"
        ],
        [
         "4960f8c0-6ea0-11f0-a268-aa11d67e9c2a",
         [
          [
           "execution",
           1754029489000034
          ],
          null
         ],
         [
          "AWS",
          "us-west-2",
          3622490971720,
          null,
          "6ce1fdf2-b7dd-4ed3-844e-1d170666cadb",
          "WORKSPACE",
          "5 - Deploying a Pipeline to Production Project - labuser11058730_1754017152",
          "0801-062429-la5rq55-v2n",
          "e994a5ed-09c2-41af-90f3-9d8c34773039",
          null,
          null,
          null,
          null,
          null,
          null,
          "e994a5ed-09c2-41af-90f3-9d8c34773039",
          null,
          "labuser11058730_1754017152.1_bronze_db.status_bronze_demo5",
          null,
          null,
          null,
          null,
          null,
          null,
          null,
          null,
          null,
          null
         ],
         "2025-08-01T06:25:15.34Z",
         "Dataset `labuser11058730_1754017152`.`1_bronze_db`.`status_bronze_demo5` defined as STREAMING_TABLE.",
         "INFO",
         "STABLE",
         null,
         "{\"dataset_definition\":{\"dataset_type\":\"STREAMING_TABLE\",\"table_properties\":[{\"key\":\"quality\",\"value\":\"bronze\"},{\"key\":\"pipelines.reset.allowed\",\"value\":\"false\"}],\"schema_json\":\"{\\\"type\\\":\\\"struct\\\",\\\"fields\\\":[{\\\"name\\\":\\\"order_id\\\",\\\"type\\\":\\\"long\\\",\\\"nullable\\\":true,\\\"metadata\\\":{}},{\\\"name\\\":\\\"order_status\\\",\\\"type\\\":\\\"string\\\",\\\"nullable\\\":true,\\\"metadata\\\":{}},{\\\"name\\\":\\\"status_timestamp\\\",\\\"type\\\":\\\"long\\\",\\\"nullable\\\":true,\\\"metadata\\\":{}},{\\\"name\\\":\\\"_rescued_data\\\",\\\"type\\\":\\\"string\\\",\\\"nullable\\\":true,\\\"metadata\\\":{}},{\\\"name\\\":\\\"processing_time\\\",\\\"type\\\":\\\"timestamp\\\",\\\"nullable\\\":true,\\\"metadata\\\":{}},{\\\"name\\\":\\\"source_file\\\",\\\"type\\\":\\\"string\\\",\\\"nullable\\\":true,\\\"metadata\\\":{}}]}\",\"schema\":[{\"name\":\"order_id\",\"path\":[\"order_id\"],\"data_type\":\"LONG\"},{\"name\":\"order_status\",\"path\":[\"order_status\"],\"data_type\":\"STRING\"},{\"name\":\"status_timestamp\",\"path\":[\"status_timestamp\"],\"data_type\":\"LONG\"},{\"name\":\"_rescued_data\",\"path\":[\"_rescued_data\"],\"data_type\":\"STRING\"},{\"name\":\"processing_time\",\"path\":[\"processing_time\"],\"data_type\":\"TIMESTAMP\"},{\"name\":\"source_file\",\"path\":[\"source_file\"],\"data_type\":\"STRING\"}],\"comment\":\"Ingest raw JSON order status files from cloud storage\",\"metastore_name\":\"`labuser11058730_1754017152`.`1_bronze_db`.`status_bronze_demo5`\",\"language\":\"SQL\",\"notebook_path\":\"/Workspace/Users/labuser11058730_1754017152@vocareum.com/build-data-pipelines-with-lakeflow-declarative-pipelines-3.0.2/Build Data Pipelines with Lakeflow Declarative Pipelines/5 - Deploying a Pipeline to Production Project/status/status_pipeline.sql\",\"num_flows\":1,\"is_private\":true}}",
         "dataset_definition"
        ],
        [
         "4961bc10-6ea0-11f0-a268-aa11d67e9c2a",
         [
          [
           "execution",
           1754029489000035
          ],
          null
         ],
         [
          "AWS",
          "us-west-2",
          3622490971720,
          null,
          "6ce1fdf2-b7dd-4ed3-844e-1d170666cadb",
          "WORKSPACE",
          "5 - Deploying a Pipeline to Production Project - labuser11058730_1754017152",
          "0801-062429-la5rq55-v2n",
          "e994a5ed-09c2-41af-90f3-9d8c34773039",
          null,
          null,
          null,
          null,
          null,
          null,
          "e994a5ed-09c2-41af-90f3-9d8c34773039",
          null,
          "labuser11058730_1754017152.2_silver_db.status_silver_demo5",
          null,
          null,
          null,
          null,
          null,
          null,
          null,
          null,
          null,
          null
         ],
         "2025-08-01T06:25:15.345Z",
         "Dataset `labuser11058730_1754017152`.`2_silver_db`.`status_silver_demo5` defined as STREAMING_TABLE.",
         "INFO",
         "STABLE",
         null,
         "{\"dataset_definition\":{\"dataset_type\":\"STREAMING_TABLE\",\"table_properties\":[{\"key\":\"quality\",\"value\":\"silver\"}],\"schema_json\":\"{\\\"type\\\":\\\"struct\\\",\\\"fields\\\":[{\\\"name\\\":\\\"order_id\\\",\\\"type\\\":\\\"long\\\",\\\"nullable\\\":true,\\\"metadata\\\":{}},{\\\"name\\\":\\\"order_status\\\",\\\"type\\\":\\\"string\\\",\\\"nullable\\\":true,\\\"metadata\\\":{}},{\\\"name\\\":\\\"order_status_timestamp\\\",\\\"type\\\":\\\"timestamp\\\",\\\"nullable\\\":true,\\\"metadata\\\":{}}]}\",\"schema\":[{\"name\":\"order_id\",\"path\":[\"order_id\"],\"data_type\":\"LONG\"},{\"name\":\"order_status\",\"path\":[\"order_status\"],\"data_type\":\"STRING\"},{\"name\":\"order_status_timestamp\",\"path\":[\"order_status_timestamp\"],\"data_type\":\"TIMESTAMP\"}],\"comment\":\"Order with each status and timestamp\",\"expectations\":[{\"name\":\"valid_timestamp\",\"action\":\"DROP\"},{\"name\":\"valid_order_status\",\"action\":\"ALLOW\"}],\"metastore_name\":\"`labuser11058730_1754017152`.`2_silver_db`.`status_silver_demo5`\",\"language\":\"SQL\",\"notebook_path\":\"/Workspace/Users/labuser11058730_1754017152@vocareum.com/build-data-pipelines-with-lakeflow-declarative-pipelines-3.0.2/Build Data Pipelines with Lakeflow Declarative Pipelines/5 - Deploying a Pipeline to Production Project/status/status_pipeline.sql\",\"num_flows\":1,\"is_private\":true}}",
         "dataset_definition"
        ],
        [
         "49627f60-6ea0-11f0-a268-aa11d67e9c2a",
         [
          [
           "execution",
           1754029489000036
          ],
          null
         ],
         [
          "AWS",
          "us-west-2",
          3622490971720,
          null,
          "6ce1fdf2-b7dd-4ed3-844e-1d170666cadb",
          "WORKSPACE",
          "5 - Deploying a Pipeline to Production Project - labuser11058730_1754017152",
          "0801-062429-la5rq55-v2n",
          "e994a5ed-09c2-41af-90f3-9d8c34773039",
          null,
          null,
          null,
          null,
          null,
          null,
          "e994a5ed-09c2-41af-90f3-9d8c34773039",
          null,
          "labuser11058730_1754017152.3_gold_db.gold_orders_by_date_demo5",
          null,
          null,
          null,
          null,
          null,
          null,
          null,
          null,
          null,
          null
         ],
         "2025-08-01T06:25:15.35Z",
         "Dataset `labuser11058730_1754017152`.`3_gold_db`.`gold_orders_by_date_demo5` defined as MATERIALIZED_VIEW.",
         "INFO",
         "STABLE",
         null,
         "{\"dataset_definition\":{\"dataset_type\":\"MATERIALIZED_VIEW\",\"table_properties\":[{\"key\":\"quality\",\"value\":\"gold\"}],\"schema_json\":\"{\\\"type\\\":\\\"struct\\\",\\\"fields\\\":[{\\\"name\\\":\\\"order_date\\\",\\\"type\\\":\\\"date\\\",\\\"nullable\\\":true,\\\"metadata\\\":{}},{\\\"name\\\":\\\"total_daily_orders\\\",\\\"type\\\":\\\"long\\\",\\\"nullable\\\":true,\\\"metadata\\\":{}}]}\",\"schema\":[{\"name\":\"order_date\",\"path\":[\"order_date\"],\"data_type\":\"DATE\"},{\"name\":\"total_daily_orders\",\"path\":[\"total_daily_orders\"],\"data_type\":\"LONG\"}],\"comment\":\"Aggregate gold data for downstream analysis\",\"metastore_name\":\"`labuser11058730_1754017152`.`3_gold_db`.`gold_orders_by_date_demo5`\",\"language\":\"SQL\",\"notebook_path\":\"/Workspace/Users/labuser11058730_1754017152@vocareum.com/build-data-pipelines-with-lakeflow-declarative-pipelines-3.0.2/Build Data Pipelines with Lakeflow Declarative Pipelines/5 - Deploying a Pipeline to Production Project/orders/orders_pipeline.sql\",\"num_flows\":1,\"is_private\":true}}",
         "dataset_definition"
        ],
        [
         "496342b0-6ea0-11f0-a268-aa11d67e9c2a",
         [
          [
           "execution",
           1754029489000037
          ],
          null
         ],
         [
          "AWS",
          "us-west-2",
          3622490971720,
          null,
          "6ce1fdf2-b7dd-4ed3-844e-1d170666cadb",
          "WORKSPACE",
          "5 - Deploying a Pipeline to Production Project - labuser11058730_1754017152",
          "0801-062429-la5rq55-v2n",
          "e994a5ed-09c2-41af-90f3-9d8c34773039",
          null,
          null,
          null,
          null,
          null,
          null,
          "e994a5ed-09c2-41af-90f3-9d8c34773039",
          null,
          "labuser11058730_1754017152.3_gold_db.cancelled_orders_gold_demo5",
          null,
          null,
          null,
          null,
          null,
          null,
          null,
          null,
          null,
          null
         ],
         "2025-08-01T06:25:15.355Z",
         "Dataset `labuser11058730_1754017152`.`3_gold_db`.`cancelled_orders_gold_demo5` defined as MATERIALIZED_VIEW.",
         "INFO",
         "STABLE",
         null,
         "{\"dataset_definition\":{\"dataset_type\":\"MATERIALIZED_VIEW\",\"table_properties\":[{\"key\":\"quality\",\"value\":\"gold\"}],\"schema_json\":\"{\\\"type\\\":\\\"struct\\\",\\\"fields\\\":[{\\\"name\\\":\\\"order_id\\\",\\\"type\\\":\\\"long\\\",\\\"nullable\\\":true,\\\"metadata\\\":{}},{\\\"name\\\":\\\"order_timestamp\\\",\\\"type\\\":\\\"timestamp\\\",\\\"nullable\\\":true,\\\"metadata\\\":{}},{\\\"name\\\":\\\"order_status\\\",\\\"type\\\":\\\"string\\\",\\\"nullable\\\":true,\\\"metadata\\\":{}},{\\\"name\\\":\\\"order_status_timestamp\\\",\\\"type\\\":\\\"timestamp\\\",\\\"nullable\\\":true,\\\"metadata\\\":{}},{\\\"name\\\":\\\"days_to_cancel\\\",\\\"type\\\":\\\"long\\\",\\\"nullable\\\":true,\\\"metadata\\\":{}}]}\",\"schema\":[{\"name\":\"order_id\",\"path\":[\"order_id\"],\"data_type\":\"LONG\"},{\"name\":\"order_timestamp\",\"path\":[\"order_timestamp\"],\"data_type\":\"TIMESTAMP\"},{\"name\":\"order_status\",\"path\":[\"order_status\"],\"data_type\":\"STRING\"},{\"name\":\"order_status_timestamp\",\"path\":[\"order_status_timestamp\"],\"data_type\":\"TIMESTAMP\"},{\"name\":\"days_to_cancel\",\"path\":[\"days_to_cancel\"],\"data_type\":\"LONG\"}],\"comment\":\"All cancelled orders\",\"metastore_name\":\"`labuser11058730_1754017152`.`3_gold_db`.`cancelled_orders_gold_demo5`\",\"language\":\"SQL\",\"notebook_path\":\"/Workspace/Users/labuser11058730_1754017152@vocareum.com/build-data-pipelines-with-lakeflow-declarative-pipelines-3.0.2/Build Data Pipelines with Lakeflow Declarative Pipelines/5 - Deploying a Pipeline to Production Project/status/status_pipeline.sql\",\"num_flows\":1,\"is_private\":true}}",
         "dataset_definition"
        ],
        [
         "49647b30-6ea0-11f0-a268-aa11d67e9c2a",
         [
          [
           "execution",
           1754029489000038
          ],
          null
         ],
         [
          "AWS",
          "us-west-2",
          3622490971720,
          null,
          "6ce1fdf2-b7dd-4ed3-844e-1d170666cadb",
          "WORKSPACE",
          "5 - Deploying a Pipeline to Production Project - labuser11058730_1754017152",
          "0801-062429-la5rq55-v2n",
          "e994a5ed-09c2-41af-90f3-9d8c34773039",
          null,
          null,
          null,
          null,
          null,
          null,
          "e994a5ed-09c2-41af-90f3-9d8c34773039",
          null,
          "labuser11058730_1754017152.3_gold_db.full_order_info_gold_demo5",
          null,
          null,
          null,
          null,
          null,
          null,
          null,
          null,
          null,
          null
         ],
         "2025-08-01T06:25:15.363Z",
         "Dataset `labuser11058730_1754017152`.`3_gold_db`.`full_order_info_gold_demo5` defined as MATERIALIZED_VIEW.",
         "INFO",
         "STABLE",
         null,
         "{\"dataset_definition\":{\"dataset_type\":\"MATERIALIZED_VIEW\",\"table_properties\":[{\"key\":\"quality\",\"value\":\"gold\"}],\"schema_json\":\"{\\\"type\\\":\\\"struct\\\",\\\"fields\\\":[{\\\"name\\\":\\\"order_id\\\",\\\"type\\\":\\\"long\\\",\\\"nullable\\\":true,\\\"metadata\\\":{}},{\\\"name\\\":\\\"order_timestamp\\\",\\\"type\\\":\\\"timestamp\\\",\\\"nullable\\\":true,\\\"metadata\\\":{}},{\\\"name\\\":\\\"order_status\\\",\\\"type\\\":\\\"string\\\",\\\"nullable\\\":true,\\\"metadata\\\":{}},{\\\"name\\\":\\\"order_status_timestamp\\\",\\\"type\\\":\\\"timestamp\\\",\\\"nullable\\\":true,\\\"metadata\\\":{}}]}\",\"schema\":[{\"name\":\"order_id\",\"path\":[\"order_id\"],\"data_type\":\"LONG\"},{\"name\":\"order_timestamp\",\"path\":[\"order_timestamp\"],\"data_type\":\"TIMESTAMP\"},{\"name\":\"order_status\",\"path\":[\"order_status\"],\"data_type\":\"STRING\"},{\"name\":\"order_status_timestamp\",\"path\":[\"order_status_timestamp\"],\"data_type\":\"TIMESTAMP\"}],\"comment\":\"Joining the orders and order status silver tables to view all orders with each individual status per order\",\"metastore_name\":\"`labuser11058730_1754017152`.`3_gold_db`.`full_order_info_gold_demo5`\",\"language\":\"SQL\",\"notebook_path\":\"/Workspace/Users/labuser11058730_1754017152@vocareum.com/build-data-pipelines-with-lakeflow-declarative-pipelines-3.0.2/Build Data Pipelines with Lakeflow Declarative Pipelines/5 - Deploying a Pipeline to Production Project/status/status_pipeline.sql\",\"num_flows\":1,\"is_private\":true}}",
         "dataset_definition"
        ],
        [
         "49ae0750-6ea0-11f0-a268-aa11d67e9c2a",
         [
          [
           "execution",
           1754029489000039
          ],
          null
         ],
         [
          "AWS",
          "us-west-2",
          3622490971720,
          null,
          "6ce1fdf2-b7dd-4ed3-844e-1d170666cadb",
          "WORKSPACE",
          "5 - Deploying a Pipeline to Production Project - labuser11058730_1754017152",
          "0801-062429-la5rq55-v2n",
          "e994a5ed-09c2-41af-90f3-9d8c34773039",
          null,
          null,
          null,
          null,
          null,
          null,
          "e994a5ed-09c2-41af-90f3-9d8c34773039",
          null,
          null,
          null,
          null,
          null,
          null,
          null,
          null,
          null,
          null,
          null,
          null
         ],
         "2025-08-01T06:25:15.845Z",
         "Dataflow graph successfully loaded.",
         "INFO",
         "STABLE",
         null,
         "{\"graph_created\":{}}",
         "graph_created"
        ],
        [
         "49b09f60-6ea0-11f0-a268-aa11d67e9c2a",
         [
          [
           "execution",
           1754029489000040
          ],
          null
         ],
         [
          "AWS",
          "us-west-2",
          3622490971720,
          null,
          "6ce1fdf2-b7dd-4ed3-844e-1d170666cadb",
          "WORKSPACE",
          "5 - Deploying a Pipeline to Production Project - labuser11058730_1754017152",
          "0801-062429-la5rq55-v2n",
          "e994a5ed-09c2-41af-90f3-9d8c34773039",
          null,
          null,
          null,
          null,
          null,
          null,
          "e994a5ed-09c2-41af-90f3-9d8c34773039",
          null,
          null,
          null,
          null,
          null,
          null,
          null,
          null,
          null,
          null,
          null,
          null
         ],
         "2025-08-01T06:25:15.862Z",
         "Update e994a5 is RUNNING.",
         "INFO",
         "STABLE",
         null,
         "{\"update_progress\":{\"state\":\"RUNNING\"}}",
         "update_progress"
        ],
        [
         "49b33770-6ea0-11f0-a268-aa11d67e9c2a",
         [
          [
           "execution",
           1754029489000041
          ],
          null
         ],
         [
          "AWS",
          "us-west-2",
          3622490971720,
          null,
          "6ce1fdf2-b7dd-4ed3-844e-1d170666cadb",
          "WORKSPACE",
          "5 - Deploying a Pipeline to Production Project - labuser11058730_1754017152",
          "0801-062429-la5rq55-v2n",
          "e994a5ed-09c2-41af-90f3-9d8c34773039",
          null,
          null,
          null,
          null,
          "labuser11058730_1754017152.3_gold_db.gold_orders_by_date_demo5",
          null,
          "e994a5ed-09c2-41af-90f3-9d8c34773039",
          null,
          null,
          null,
          null,
          null,
          "labuser11058730_1754017152.3_gold_db.__materialization_mat_6ce1fdf2_b7dd_4ed3_844e_1d170666cadb_gold_orders_by_date_demo5_1",
          null,
          null,
          null,
          null,
          null,
          null
         ],
         "2025-08-01T06:25:15.879Z",
         "Flow 'labuser11058730_1754017152.3_gold_db.gold_orders_by_date_demo5' is QUEUED.",
         "INFO",
         "STABLE",
         null,
         "{\"flow_progress\":{\"status\":\"QUEUED\"}}",
         "flow_progress"
        ],
        [
         "49b66bc0-6ea0-11f0-a268-aa11d67e9c2a",
         [
          [
           "execution",
           1754029489000042
          ],
          null
         ],
         [
          "AWS",
          "us-west-2",
          3622490971720,
          null,
          "6ce1fdf2-b7dd-4ed3-844e-1d170666cadb",
          "WORKSPACE",
          "5 - Deploying a Pipeline to Production Project - labuser11058730_1754017152",
          "0801-062429-la5rq55-v2n",
          "e994a5ed-09c2-41af-90f3-9d8c34773039",
          null,
          null,
          null,
          null,
          "labuser11058730_1754017152.3_gold_db.full_order_info_gold_demo5",
          null,
          "e994a5ed-09c2-41af-90f3-9d8c34773039",
          null,
          null,
          null,
          null,
          null,
          "labuser11058730_1754017152.3_gold_db.__materialization_mat_6ce1fdf2_b7dd_4ed3_844e_1d170666cadb_full_order_info_gold_demo5_1",
          null,
          null,
          null,
          null,
          null,
          null
         ],
         "2025-08-01T06:25:15.9Z",
         "Flow 'labuser11058730_1754017152.3_gold_db.full_order_info_gold_demo5' is QUEUED.",
         "INFO",
         "STABLE",
         null,
         "{\"flow_progress\":{\"status\":\"QUEUED\"}}",
         "flow_progress"
        ],
        [
         "49b6b9e0-6ea0-11f0-a268-aa11d67e9c2a",
         [
          [
           "execution",
           1754029489000043
          ],
          null
         ],
         [
          "AWS",
          "us-west-2",
          3622490971720,
          null,
          "6ce1fdf2-b7dd-4ed3-844e-1d170666cadb",
          "WORKSPACE",
          "5 - Deploying a Pipeline to Production Project - labuser11058730_1754017152",
          "0801-062429-la5rq55-v2n",
          "e994a5ed-09c2-41af-90f3-9d8c34773039",
          null,
          null,
          null,
          null,
          "labuser11058730_1754017152.3_gold_db.delivered_orders_gold_demo5",
          null,
          "e994a5ed-09c2-41af-90f3-9d8c34773039",
          null,
          null,
          null,
          null,
          null,
          "labuser11058730_1754017152.3_gold_db.__materialization_mat_6ce1fdf2_b7dd_4ed3_844e_1d170666cadb_delivered_orders_gold_demo5_1",
          null,
          null,
          null,
          null,
          null,
          null
         ],
         "2025-08-01T06:25:15.902Z",
         "Flow 'labuser11058730_1754017152.3_gold_db.delivered_orders_gold_demo5' is QUEUED.",
         "INFO",
         "STABLE",
         null,
         "{\"flow_progress\":{\"status\":\"QUEUED\"}}",
         "flow_progress"
        ],
        [
         "49b70800-6ea0-11f0-a268-aa11d67e9c2a",
         [
          [
           "execution",
           1754029489000044
          ],
          null
         ],
         [
          "AWS",
          "us-west-2",
          3622490971720,
          null,
          "6ce1fdf2-b7dd-4ed3-844e-1d170666cadb",
          "WORKSPACE",
          "5 - Deploying a Pipeline to Production Project - labuser11058730_1754017152",
          "0801-062429-la5rq55-v2n",
          "e994a5ed-09c2-41af-90f3-9d8c34773039",
          null,
          null,
          null,
          null,
          "labuser11058730_1754017152.2_silver_db.status_silver_demo5",
          null,
          "e994a5ed-09c2-41af-90f3-9d8c34773039",
          null,
          null,
          null,
          null,
          null,
          "labuser11058730_1754017152.2_silver_db.__materialization_mat_6ce1fdf2_b7dd_4ed3_844e_1d170666cadb_status_silver_demo5_1",
          null,
          null,
          null,
          null,
          null,
          null
         ],
         "2025-08-01T06:25:15.904Z",
         "Flow 'labuser11058730_1754017152.2_silver_db.status_silver_demo5' is QUEUED.",
         "INFO",
         "STABLE",
         null,
         "{\"flow_progress\":{\"status\":\"QUEUED\"}}",
         "flow_progress"
        ],
        [
         "49b75620-6ea0-11f0-a268-aa11d67e9c2a",
         [
          [
           "execution",
           1754029489000045
          ],
          null
         ],
         [
          "AWS",
          "us-west-2",
          3622490971720,
          null,
          "6ce1fdf2-b7dd-4ed3-844e-1d170666cadb",
          "WORKSPACE",
          "5 - Deploying a Pipeline to Production Project - labuser11058730_1754017152",
          "0801-062429-la5rq55-v2n",
          "e994a5ed-09c2-41af-90f3-9d8c34773039",
          null,
          null,
          null,
          null,
          "labuser11058730_1754017152.3_gold_db.cancelled_orders_gold_demo5",
          null,
          "e994a5ed-09c2-41af-90f3-9d8c34773039",
          null,
          null,
          null,
          null,
          null,
          "labuser11058730_1754017152.3_gold_db.__materialization_mat_6ce1fdf2_b7dd_4ed3_844e_1d170666cadb_cancelled_orders_gold_demo5_1",
          null,
          null,
          null,
          null,
          null,
          null
         ],
         "2025-08-01T06:25:15.906Z",
         "Flow 'labuser11058730_1754017152.3_gold_db.cancelled_orders_gold_demo5' is QUEUED.",
         "INFO",
         "STABLE",
         null,
         "{\"flow_progress\":{\"status\":\"QUEUED\"}}",
         "flow_progress"
        ],
        [
         "49b77d30-6ea0-11f0-a268-aa11d67e9c2a",
         [
          [
           "execution",
           1754029489000046
          ],
          null
         ],
         [
          "AWS",
          "us-west-2",
          3622490971720,
          null,
          "6ce1fdf2-b7dd-4ed3-844e-1d170666cadb",
          "WORKSPACE",
          "5 - Deploying a Pipeline to Production Project - labuser11058730_1754017152",
          "0801-062429-la5rq55-v2n",
          "e994a5ed-09c2-41af-90f3-9d8c34773039",
          null,
          null,
          null,
          null,
          "labuser11058730_1754017152.1_bronze_db.orders_bronze_demo5",
          null,
          "e994a5ed-09c2-41af-90f3-9d8c34773039",
          null,
          null,
          null,
          null,
          null,
          "labuser11058730_1754017152.1_bronze_db.__materialization_mat_6ce1fdf2_b7dd_4ed3_844e_1d170666cadb_orders_bronze_demo5_1",
          null,
          null,
          null,
          null,
          null,
          null
         ],
         "2025-08-01T06:25:15.907Z",
         "Flow 'labuser11058730_1754017152.1_bronze_db.orders_bronze_demo5' is QUEUED.",
         "INFO",
         "STABLE",
         null,
         "{\"flow_progress\":{\"status\":\"QUEUED\"}}",
         "flow_progress"
        ],
        [
         "49b7cb50-6ea0-11f0-a268-aa11d67e9c2a",
         [
          [
           "execution",
           1754029489000047
          ],
          null
         ],
         [
          "AWS",
          "us-west-2",
          3622490971720,
          null,
          "6ce1fdf2-b7dd-4ed3-844e-1d170666cadb",
          "WORKSPACE",
          "5 - Deploying a Pipeline to Production Project - labuser11058730_1754017152",
          "0801-062429-la5rq55-v2n",
          "e994a5ed-09c2-41af-90f3-9d8c34773039",
          null,
          null,
          null,
          null,
          "labuser11058730_1754017152.1_bronze_db.status_bronze_demo5",
          null,
          "e994a5ed-09c2-41af-90f3-9d8c34773039",
          null,
          null,
          null,
          null,
          null,
          "labuser11058730_1754017152.1_bronze_db.__materialization_mat_6ce1fdf2_b7dd_4ed3_844e_1d170666cadb_status_bronze_demo5_1",
          null,
          null,
          null,
          null,
          null,
          null
         ],
         "2025-08-01T06:25:15.909Z",
         "Flow 'labuser11058730_1754017152.1_bronze_db.status_bronze_demo5' is QUEUED.",
         "INFO",
         "STABLE",
         null,
         "{\"flow_progress\":{\"status\":\"QUEUED\"}}",
         "flow_progress"
        ],
        [
         "49b7f260-6ea0-11f0-a268-aa11d67e9c2a",
         [
          [
           "execution",
           1754029489000048
          ],
          null
         ],
         [
          "AWS",
          "us-west-2",
          3622490971720,
          null,
          "6ce1fdf2-b7dd-4ed3-844e-1d170666cadb",
          "WORKSPACE",
          "5 - Deploying a Pipeline to Production Project - labuser11058730_1754017152",
          "0801-062429-la5rq55-v2n",
          "e994a5ed-09c2-41af-90f3-9d8c34773039",
          null,
          null,
          null,
          null,
          "labuser11058730_1754017152.2_silver_db.orders_silver_demo5",
          null,
          "e994a5ed-09c2-41af-90f3-9d8c34773039",
          null,
          null,
          null,
          null,
          null,
          "labuser11058730_1754017152.2_silver_db.__materialization_mat_6ce1fdf2_b7dd_4ed3_844e_1d170666cadb_orders_silver_demo5_1",
          null,
          null,
          null,
          null,
          null,
          null
         ],
         "2025-08-01T06:25:15.91Z",
         "Flow 'labuser11058730_1754017152.2_silver_db.orders_silver_demo5' is QUEUED.",
         "INFO",
         "STABLE",
         null,
         "{\"flow_progress\":{\"status\":\"QUEUED\"}}",
         "flow_progress"
        ],
        [
         "49d16dd0-6ea0-11f0-a268-aa11d67e9c2a",
         [
          [
           "execution",
           1754029489000049
          ],
          null
         ],
         [
          "AWS",
          "us-west-2",
          3622490971720,
          null,
          "6ce1fdf2-b7dd-4ed3-844e-1d170666cadb",
          "WORKSPACE",
          "5 - Deploying a Pipeline to Production Project - labuser11058730_1754017152",
          "0801-062429-la5rq55-v2n",
          "e994a5ed-09c2-41af-90f3-9d8c34773039",
          null,
          null,
          null,
          null,
          "labuser11058730_1754017152.1_bronze_db.status_bronze_demo5",
          null,
          "e994a5ed-09c2-41af-90f3-9d8c34773039",
          null,
          null,
          null,
          null,
          null,
          "labuser11058730_1754017152.1_bronze_db.__materialization_mat_6ce1fdf2_b7dd_4ed3_844e_1d170666cadb_status_bronze_demo5_1",
          null,
          null,
          null,
          null,
          null,
          null
         ],
         "2025-08-01T06:25:16.077Z",
         "Flow 'labuser11058730_1754017152.1_bronze_db.status_bronze_demo5' is STARTING.",
         "INFO",
         "STABLE",
         null,
         "{\"flow_progress\":{\"status\":\"STARTING\"}}",
         "flow_progress"
        ],
        [
         "4a0771f0-6ea0-11f0-a268-aa11d67e9c2a",
         [
          [
           "execution",
           1754029489000050
          ],
          null
         ],
         [
          "AWS",
          "us-west-2",
          3622490971720,
          null,
          "6ce1fdf2-b7dd-4ed3-844e-1d170666cadb",
          "WORKSPACE",
          "5 - Deploying a Pipeline to Production Project - labuser11058730_1754017152",
          "0801-062429-la5rq55-v2n",
          "e994a5ed-09c2-41af-90f3-9d8c34773039",
          null,
          null,
          null,
          "e8b6d4ed-72d7-42b9-98bd-2cc614f46d33",
          "labuser11058730_1754017152.1_bronze_db.status_bronze_demo5",
          null,
          "e994a5ed-09c2-41af-90f3-9d8c34773039",
          null,
          null,
          null,
          null,
          null,
          "labuser11058730_1754017152.1_bronze_db.__materialization_mat_6ce1fdf2_b7dd_4ed3_844e_1d170666cadb_status_bronze_demo5_1",
          null,
          null,
          null,
          null,
          null,
          null
         ],
         "2025-08-01T06:25:16.431Z",
         "Flow 'labuser11058730_1754017152.1_bronze_db.status_bronze_demo5' is RUNNING.",
         "INFO",
         "STABLE",
         null,
         "{\"flow_progress\":{\"status\":\"RUNNING\",\"metrics\":{}}}",
         "flow_progress"
        ],
        [
         "4a408350-6ea0-11f0-a268-aa11d67e9c2a",
         [
          [
           "execution",
           1754029489000051
          ],
          null
         ],
         [
          "AWS",
          "us-west-2",
          3622490971720,
          null,
          "6ce1fdf2-b7dd-4ed3-844e-1d170666cadb",
          "WORKSPACE",
          "5 - Deploying a Pipeline to Production Project - labuser11058730_1754017152",
          "0801-062429-la5rq55-v2n",
          "e994a5ed-09c2-41af-90f3-9d8c34773039",
          null,
          null,
          null,
          null,
          "labuser11058730_1754017152.1_bronze_db.orders_bronze_demo5",
          null,
          "e994a5ed-09c2-41af-90f3-9d8c34773039",
          null,
          null,
          null,
          null,
          null,
          "labuser11058730_1754017152.1_bronze_db.__materialization_mat_6ce1fdf2_b7dd_4ed3_844e_1d170666cadb_orders_bronze_demo5_1",
          null,
          null,
          null,
          null,
          null,
          null
         ],
         "2025-08-01T06:25:16.805Z",
         "Flow 'labuser11058730_1754017152.1_bronze_db.orders_bronze_demo5' is STARTING.",
         "INFO",
         "STABLE",
         null,
         "{\"flow_progress\":{\"status\":\"STARTING\"}}",
         "flow_progress"
        ],
        [
         "4a659780-6ea0-11f0-a268-aa11d67e9c2a",
         [
          [
           "execution",
           1754029489000052
          ],
          null
         ],
         [
          "AWS",
          "us-west-2",
          3622490971720,
          null,
          "6ce1fdf2-b7dd-4ed3-844e-1d170666cadb",
          "WORKSPACE",
          "5 - Deploying a Pipeline to Production Project - labuser11058730_1754017152",
          "0801-062429-la5rq55-v2n",
          "e994a5ed-09c2-41af-90f3-9d8c34773039",
          null,
          null,
          null,
          "c057f148-ee4d-44bc-81ca-de3b84b00bf8",
          "labuser11058730_1754017152.1_bronze_db.orders_bronze_demo5",
          null,
          "e994a5ed-09c2-41af-90f3-9d8c34773039",
          null,
          null,
          null,
          null,
          null,
          "labuser11058730_1754017152.1_bronze_db.__materialization_mat_6ce1fdf2_b7dd_4ed3_844e_1d170666cadb_orders_bronze_demo5_1",
          null,
          null,
          null,
          null,
          null,
          null
         ],
         "2025-08-01T06:25:17.048Z",
         "Flow 'labuser11058730_1754017152.1_bronze_db.orders_bronze_demo5' is RUNNING.",
         "INFO",
         "STABLE",
         null,
         "{\"flow_progress\":{\"status\":\"RUNNING\",\"metrics\":{}}}",
         "flow_progress"
        ],
        [
         "4edc79a0-6ea0-11f0-a268-aa11d67e9c2a",
         [
          [
           "execution",
           1754029489000053
          ],
          null
         ],
         [
          "AWS",
          "us-west-2",
          3622490971720,
          null,
          "6ce1fdf2-b7dd-4ed3-844e-1d170666cadb",
          "WORKSPACE",
          "5 - Deploying a Pipeline to Production Project - labuser11058730_1754017152",
          "0801-062429-la5rq55-v2n",
          "e994a5ed-09c2-41af-90f3-9d8c34773039",
          null,
          null,
          null,
          "e8b6d4ed-72d7-42b9-98bd-2cc614f46d33",
          "labuser11058730_1754017152.1_bronze_db.status_bronze_demo5",
          null,
          "e994a5ed-09c2-41af-90f3-9d8c34773039",
          null,
          null,
          null,
          null,
          null,
          "labuser11058730_1754017152.1_bronze_db.__materialization_mat_6ce1fdf2_b7dd_4ed3_844e_1d170666cadb_status_bronze_demo5_1",
          null,
          null,
          null,
          null,
          null,
          null
         ],
         "2025-08-01T06:25:24.538Z",
         "Completed a streaming update of 'labuser11058730_1754017152.1_bronze_db.status_bronze_demo5'.",
         "INFO",
         "STABLE",
         null,
         "{\"flow_progress\":{\"status\":\"RUNNING\",\"metrics\":{\"num_output_rows\":536,\"backlog_bytes\":0,\"backlog_files\":0,\"source_metrics\":[{\"source_name\":\"CloudFilesSource[/Volumes/dbacademy/ops/labuser11058730_1754017152@vocareum_com/status]\",\"backlog_bytes\":0,\"backlog_files\":0}]},\"data_quality\":{\"dropped_records\":0},\"streaming_metrics\":{\"event_time\":{}}}}",
         "flow_progress"
        ],
        [
         "4ef42050-6ea0-11f0-a268-aa11d67e9c2a",
         [
          [
           "execution",
           1754029489000054
          ],
          null
         ],
         [
          "AWS",
          "us-west-2",
          3622490971720,
          null,
          "6ce1fdf2-b7dd-4ed3-844e-1d170666cadb",
          "WORKSPACE",
          "5 - Deploying a Pipeline to Production Project - labuser11058730_1754017152",
          "0801-062429-la5rq55-v2n",
          "e994a5ed-09c2-41af-90f3-9d8c34773039",
          null,
          null,
          null,
          "c057f148-ee4d-44bc-81ca-de3b84b00bf8",
          "labuser11058730_1754017152.1_bronze_db.orders_bronze_demo5",
          null,
          "e994a5ed-09c2-41af-90f3-9d8c34773039",
          null,
          null,
          null,
          null,
          null,
          "labuser11058730_1754017152.1_bronze_db.__materialization_mat_6ce1fdf2_b7dd_4ed3_844e_1d170666cadb_orders_bronze_demo5_1",
          null,
          null,
          null,
          null,
          null,
          null
         ],
         "2025-08-01T06:25:24.693Z",
         "Completed a streaming update of 'labuser11058730_1754017152.1_bronze_db.orders_bronze_demo5'.",
         "INFO",
         "STABLE",
         null,
         "{\"flow_progress\":{\"status\":\"RUNNING\",\"metrics\":{\"num_output_rows\":174,\"backlog_bytes\":0,\"backlog_files\":0,\"source_metrics\":[{\"source_name\":\"CloudFilesSource[/Volumes/dbacademy/ops/labuser11058730_1754017152@vocareum_com/orders]\",\"backlog_bytes\":0,\"backlog_files\":0}]},\"data_quality\":{\"dropped_records\":0},\"streaming_metrics\":{\"event_time\":{}}}}",
         "flow_progress"
        ],
        [
         "4ef5ce00-6ea0-11f0-a268-aa11d67e9c2a",
         [
          [
           "execution",
           1754029489000055
          ],
          null
         ],
         [
          "AWS",
          "us-west-2",
          3622490971720,
          null,
          "6ce1fdf2-b7dd-4ed3-844e-1d170666cadb",
          "WORKSPACE",
          "5 - Deploying a Pipeline to Production Project - labuser11058730_1754017152",
          "0801-062429-la5rq55-v2n",
          "e994a5ed-09c2-41af-90f3-9d8c34773039",
          null,
          null,
          null,
          "c057f148-ee4d-44bc-81ca-de3b84b00bf8",
          "labuser11058730_1754017152.1_bronze_db.orders_bronze_demo5",
          null,
          "e994a5ed-09c2-41af-90f3-9d8c34773039",
          null,
          null,
          null,
          null,
          null,
          "labuser11058730_1754017152.1_bronze_db.__materialization_mat_6ce1fdf2_b7dd_4ed3_844e_1d170666cadb_orders_bronze_demo5_1",
          null,
          null,
          null,
          null,
          null,
          null
         ],
         "2025-08-01T06:25:24.704Z",
         "Flow 'labuser11058730_1754017152.1_bronze_db.orders_bronze_demo5' has COMPLETED.",
         "INFO",
         "STABLE",
         null,
         "{\"flow_progress\":{\"status\":\"COMPLETED\"}}",
         "flow_progress"
        ],
        [
         "4efcabd0-6ea0-11f0-a268-aa11d67e9c2a",
         [
          [
           "execution",
           1754029489000056
          ],
          null
         ],
         [
          "AWS",
          "us-west-2",
          3622490971720,
          null,
          "6ce1fdf2-b7dd-4ed3-844e-1d170666cadb",
          "WORKSPACE",
          "5 - Deploying a Pipeline to Production Project - labuser11058730_1754017152",
          "0801-062429-la5rq55-v2n",
          "e994a5ed-09c2-41af-90f3-9d8c34773039",
          null,
          null,
          null,
          "e8b6d4ed-72d7-42b9-98bd-2cc614f46d33",
          "labuser11058730_1754017152.1_bronze_db.status_bronze_demo5",
          null,
          "e994a5ed-09c2-41af-90f3-9d8c34773039",
          null,
          null,
          null,
          null,
          null,
          "labuser11058730_1754017152.1_bronze_db.__materialization_mat_6ce1fdf2_b7dd_4ed3_844e_1d170666cadb_status_bronze_demo5_1",
          null,
          null,
          null,
          null,
          null,
          null
         ],
         "2025-08-01T06:25:24.749Z",
         "Flow 'labuser11058730_1754017152.1_bronze_db.status_bronze_demo5' has COMPLETED.",
         "INFO",
         "STABLE",
         null,
         "{\"flow_progress\":{\"status\":\"COMPLETED\"}}",
         "flow_progress"
        ],
        [
         "4fe05510-6ea0-11f0-a268-aa11d67e9c2a",
         [
          [
           "execution",
           1754029489000057
          ],
          null
         ],
         [
          "AWS",
          "us-west-2",
          3622490971720,
          null,
          "6ce1fdf2-b7dd-4ed3-844e-1d170666cadb",
          "WORKSPACE",
          "5 - Deploying a Pipeline to Production Project - labuser11058730_1754017152",
          "0801-062429-la5rq55-v2n",
          "e994a5ed-09c2-41af-90f3-9d8c34773039",
          null,
          null,
          null,
          null,
          "labuser11058730_1754017152.2_silver_db.orders_silver_demo5",
          null,
          "e994a5ed-09c2-41af-90f3-9d8c34773039",
          null,
          null,
          null,
          null,
          null,
          "labuser11058730_1754017152.2_silver_db.__materialization_mat_6ce1fdf2_b7dd_4ed3_844e_1d170666cadb_orders_silver_demo5_1",
          null,
          null,
          null,
          null,
          null,
          null
         ],
         "2025-08-01T06:25:26.241Z",
         "Flow 'labuser11058730_1754017152.2_silver_db.orders_silver_demo5' is STARTING.",
         "INFO",
         "STABLE",
         null,
         "{\"flow_progress\":{\"status\":\"STARTING\"}}",
         "flow_progress"
        ],
        [
         "503579f0-6ea0-11f0-a268-aa11d67e9c2a",
         [
          [
           "execution",
           1754029489000058
          ],
          null
         ],
         [
          "AWS",
          "us-west-2",
          3622490971720,
          null,
          "6ce1fdf2-b7dd-4ed3-844e-1d170666cadb",
          "WORKSPACE",
          "5 - Deploying a Pipeline to Production Project - labuser11058730_1754017152",
          "0801-062429-la5rq55-v2n",
          "e994a5ed-09c2-41af-90f3-9d8c34773039",
          null,
          null,
          null,
          "6d70c58b-9fa1-4b9c-933f-bb2179baa33a",
          "labuser11058730_1754017152.2_silver_db.orders_silver_demo5",
          null,
          "e994a5ed-09c2-41af-90f3-9d8c34773039",
          null,
          null,
          null,
          null,
          null,
          "labuser11058730_1754017152.2_silver_db.__materialization_mat_6ce1fdf2_b7dd_4ed3_844e_1d170666cadb_orders_silver_demo5_1",
          null,
          null,
          null,
          null,
          null,
          null
         ],
         "2025-08-01T06:25:26.799Z",
         "Flow 'labuser11058730_1754017152.2_silver_db.orders_silver_demo5' is RUNNING.",
         "INFO",
         "STABLE",
         null,
         "{\"flow_progress\":{\"status\":\"RUNNING\",\"metrics\":{}}}",
         "flow_progress"
        ],
        [
         "506d52d0-6ea0-11f0-a268-aa11d67e9c2a",
         [
          [
           "execution",
           1754029489000059
          ],
          null
         ],
         [
          "AWS",
          "us-west-2",
          3622490971720,
          null,
          "6ce1fdf2-b7dd-4ed3-844e-1d170666cadb",
          "WORKSPACE",
          "5 - Deploying a Pipeline to Production Project - labuser11058730_1754017152",
          "0801-062429-la5rq55-v2n",
          "e994a5ed-09c2-41af-90f3-9d8c34773039",
          null,
          null,
          null,
          null,
          "labuser11058730_1754017152.2_silver_db.status_silver_demo5",
          null,
          "e994a5ed-09c2-41af-90f3-9d8c34773039",
          null,
          null,
          null,
          null,
          null,
          "labuser11058730_1754017152.2_silver_db.__materialization_mat_6ce1fdf2_b7dd_4ed3_844e_1d170666cadb_status_silver_demo5_1",
          null,
          null,
          null,
          null,
          null,
          null
         ],
         "2025-08-01T06:25:27.165Z",
         "Flow 'labuser11058730_1754017152.2_silver_db.status_silver_demo5' is STARTING.",
         "INFO",
         "STABLE",
         null,
         "{\"flow_progress\":{\"status\":\"STARTING\"}}",
         "flow_progress"
        ],
        [
         "50a504a0-6ea0-11f0-a268-aa11d67e9c2a",
         [
          [
           "execution",
           1754029489000060
          ],
          null
         ],
         [
          "AWS",
          "us-west-2",
          3622490971720,
          null,
          "6ce1fdf2-b7dd-4ed3-844e-1d170666cadb",
          "WORKSPACE",
          "5 - Deploying a Pipeline to Production Project - labuser11058730_1754017152",
          "0801-062429-la5rq55-v2n",
          "e994a5ed-09c2-41af-90f3-9d8c34773039",
          null,
          null,
          null,
          "0d3ddee0-cd08-4c32-9568-4299cecedac4",
          "labuser11058730_1754017152.2_silver_db.status_silver_demo5",
          null,
          "e994a5ed-09c2-41af-90f3-9d8c34773039",
          null,
          null,
          null,
          null,
          null,
          "labuser11058730_1754017152.2_silver_db.__materialization_mat_6ce1fdf2_b7dd_4ed3_844e_1d170666cadb_status_silver_demo5_1",
          null,
          null,
          null,
          null,
          null,
          null
         ],
         "2025-08-01T06:25:27.53Z",
         "Flow 'labuser11058730_1754017152.2_silver_db.status_silver_demo5' is RUNNING.",
         "INFO",
         "STABLE",
         null,
         "{\"flow_progress\":{\"status\":\"RUNNING\",\"metrics\":{}}}",
         "flow_progress"
        ],
        [
         "520f4300-6ea0-11f0-a268-aa11d67e9c2a",
         [
          [
           "execution",
           1754029489000061
          ],
          null
         ],
         [
          "AWS",
          "us-west-2",
          3622490971720,
          null,
          "6ce1fdf2-b7dd-4ed3-844e-1d170666cadb",
          "WORKSPACE",
          "5 - Deploying a Pipeline to Production Project - labuser11058730_1754017152",
          "0801-062429-la5rq55-v2n",
          "e994a5ed-09c2-41af-90f3-9d8c34773039",
          null,
          null,
          null,
          "0d3ddee0-cd08-4c32-9568-4299cecedac4",
          "labuser11058730_1754017152.2_silver_db.status_silver_demo5",
          null,
          "e994a5ed-09c2-41af-90f3-9d8c34773039",
          null,
          null,
          null,
          null,
          null,
          "labuser11058730_1754017152.2_silver_db.__materialization_mat_6ce1fdf2_b7dd_4ed3_844e_1d170666cadb_status_silver_demo5_1",
          null,
          null,
          null,
          null,
          null,
          null
         ],
         "2025-08-01T06:25:29.904Z",
         "Completed a streaming update of 'labuser11058730_1754017152.2_silver_db.status_silver_demo5'.",
         "INFO",
         "STABLE",
         null,
         "{\"flow_progress\":{\"status\":\"RUNNING\",\"metrics\":{\"num_output_rows\":536,\"backlog_bytes\":0,\"backlog_files\":0,\"source_metrics\":[{\"source_name\":\"DeltaSource[labuser11058730_1754017152.1_bronze_db.status_bronze_demo5]\",\"backlog_bytes\":0,\"backlog_files\":0}]},\"data_quality\":{\"dropped_records\":0,\"expectations\":[{\"name\":\"valid_timestamp\",\"dataset\":\"labuser11058730_1754017152.2_silver_db.status_silver_demo5\",\"passed_records\":536,\"failed_records\":0},{\"name\":\"valid_order_status\",\"dataset\":\"labuser11058730_1754017152.2_silver_db.status_silver_demo5\",\"passed_records\":506,\"failed_records\":30}]},\"streaming_metrics\":{\"event_time\":{}}}}",
         "flow_progress"
        ],
        [
         "52120220-6ea0-11f0-a268-aa11d67e9c2a",
         [
          [
           "execution",
           1754029489000062
          ],
          null
         ],
         [
          "AWS",
          "us-west-2",
          3622490971720,
          null,
          "6ce1fdf2-b7dd-4ed3-844e-1d170666cadb",
          "WORKSPACE",
          "5 - Deploying a Pipeline to Production Project - labuser11058730_1754017152",
          "0801-062429-la5rq55-v2n",
          "e994a5ed-09c2-41af-90f3-9d8c34773039",
          null,
          null,
          null,
          "0d3ddee0-cd08-4c32-9568-4299cecedac4",
          "labuser11058730_1754017152.2_silver_db.status_silver_demo5",
          null,
          "e994a5ed-09c2-41af-90f3-9d8c34773039",
          null,
          null,
          null,
          null,
          null,
          "labuser11058730_1754017152.2_silver_db.__materialization_mat_6ce1fdf2_b7dd_4ed3_844e_1d170666cadb_status_silver_demo5_1",
          null,
          null,
          null,
          null,
          null,
          null
         ],
         "2025-08-01T06:25:29.922Z",
         "Flow 'labuser11058730_1754017152.2_silver_db.status_silver_demo5' has COMPLETED.",
         "INFO",
         "STABLE",
         null,
         "{\"flow_progress\":{\"status\":\"COMPLETED\"}}",
         "flow_progress"
        ],
        [
         "521bed30-6ea0-11f0-a268-aa11d67e9c2a",
         [
          [
           "execution",
           1754029489000063
          ],
          null
         ],
         [
          "AWS",
          "us-west-2",
          3622490971720,
          null,
          "6ce1fdf2-b7dd-4ed3-844e-1d170666cadb",
          "WORKSPACE",
          "5 - Deploying a Pipeline to Production Project - labuser11058730_1754017152",
          "0801-062429-la5rq55-v2n",
          "e994a5ed-09c2-41af-90f3-9d8c34773039",
          null,
          null,
          null,
          "6d70c58b-9fa1-4b9c-933f-bb2179baa33a",
          "labuser11058730_1754017152.2_silver_db.orders_silver_demo5",
          null,
          "e994a5ed-09c2-41af-90f3-9d8c34773039",
          null,
          null,
          null,
          null,
          null,
          "labuser11058730_1754017152.2_silver_db.__materialization_mat_6ce1fdf2_b7dd_4ed3_844e_1d170666cadb_orders_silver_demo5_1",
          null,
          null,
          null,
          null,
          null,
          null
         ],
         "2025-08-01T06:25:29.987Z",
         "Completed a streaming update of 'labuser11058730_1754017152.2_silver_db.orders_silver_demo5'.",
         "INFO",
         "STABLE",
         null,
         "{\"flow_progress\":{\"status\":\"RUNNING\",\"metrics\":{\"num_output_rows\":174,\"backlog_bytes\":0,\"backlog_files\":0,\"source_metrics\":[{\"source_name\":\"DeltaSource[labuser11058730_1754017152.1_bronze_db.orders_bronze_demo5]\",\"backlog_bytes\":0,\"backlog_files\":0}]},\"data_quality\":{\"dropped_records\":0,\"expectations\":[{\"name\":\"valid_notifications\",\"dataset\":\"labuser11058730_1754017152.2_silver_db.orders_silver_demo5\",\"passed_records\":174,\"failed_records\":0},{\"name\":\"valid_id\",\"dataset\":\"labuser11058730_1754017152.2_silver_db.orders_silver_demo5\",\"passed_records\":174,\"failed_records\":0},{\"name\":\"valid_date\",\"dataset\":\"labuser11058730_1754017152.2_silver_db.orders_silver_demo5\",\"passed_records\":174,\"failed_records\":0}]},\"streaming_metrics\":{\"event_time\":{}}}}",
         "flow_progress"
        ],
        [
         "521ed360-6ea0-11f0-a268-aa11d67e9c2a",
         [
          [
           "execution",
           1754029489000064
          ],
          null
         ],
         [
          "AWS",
          "us-west-2",
          3622490971720,
          null,
          "6ce1fdf2-b7dd-4ed3-844e-1d170666cadb",
          "WORKSPACE",
          "5 - Deploying a Pipeline to Production Project - labuser11058730_1754017152",
          "0801-062429-la5rq55-v2n",
          "e994a5ed-09c2-41af-90f3-9d8c34773039",
          null,
          null,
          null,
          "6d70c58b-9fa1-4b9c-933f-bb2179baa33a",
          "labuser11058730_1754017152.2_silver_db.orders_silver_demo5",
          null,
          "e994a5ed-09c2-41af-90f3-9d8c34773039",
          null,
          null,
          null,
          null,
          null,
          "labuser11058730_1754017152.2_silver_db.__materialization_mat_6ce1fdf2_b7dd_4ed3_844e_1d170666cadb_orders_silver_demo5_1",
          null,
          null,
          null,
          null,
          null,
          null
         ],
         "2025-08-01T06:25:30.006Z",
         "Flow 'labuser11058730_1754017152.2_silver_db.orders_silver_demo5' has COMPLETED.",
         "INFO",
         "STABLE",
         null,
         "{\"flow_progress\":{\"status\":\"COMPLETED\"}}",
         "flow_progress"
        ],
        [
         "5345a020-6ea0-11f0-a268-aa11d67e9c2a",
         [
          [
           "execution",
           1754029489000065
          ],
          null
         ],
         [
          "AWS",
          "us-west-2",
          3622490971720,
          null,
          "6ce1fdf2-b7dd-4ed3-844e-1d170666cadb",
          "WORKSPACE",
          "5 - Deploying a Pipeline to Production Project - labuser11058730_1754017152",
          "0801-062429-la5rq55-v2n",
          "e994a5ed-09c2-41af-90f3-9d8c34773039",
          null,
          null,
          null,
          null,
          "labuser11058730_1754017152.3_gold_db.gold_orders_by_date_demo5",
          0,
          "e994a5ed-09c2-41af-90f3-9d8c34773039",
          null,
          null,
          null,
          null,
          null,
          "labuser11058730_1754017152.3_gold_db.__materialization_mat_6ce1fdf2_b7dd_4ed3_844e_1d170666cadb_gold_orders_by_date_demo5_1",
          null,
          null,
          null,
          null,
          null,
          null
         ],
         "2025-08-01T06:25:31.938Z",
         "Flow 'labuser11058730_1754017152.3_gold_db.gold_orders_by_date_demo5' is PLANNING.",
         "INFO",
         "STABLE",
         null,
         "{\"flow_progress\":{\"status\":\"PLANNING\"}}",
         "flow_progress"
        ],
        [
         "53ec8e80-6ea0-11f0-a268-aa11d67e9c2a",
         [
          [
           "execution",
           1754029489000066
          ],
          null
         ],
         [
          "AWS",
          "us-west-2",
          3622490971720,
          null,
          "6ce1fdf2-b7dd-4ed3-844e-1d170666cadb",
          "WORKSPACE",
          "5 - Deploying a Pipeline to Production Project - labuser11058730_1754017152",
          "0801-062429-la5rq55-v2n",
          "e994a5ed-09c2-41af-90f3-9d8c34773039",
          null,
          null,
          null,
          "9ddde4ce-4586-4fde-8bf9-b285c49a523b",
          "labuser11058730_1754017152.3_gold_db.gold_orders_by_date_demo5",
          0,
          "e994a5ed-09c2-41af-90f3-9d8c34773039",
          null,
          null,
          null,
          null,
          null,
          "labuser11058730_1754017152.3_gold_db.__materialization_mat_6ce1fdf2_b7dd_4ed3_844e_1d170666cadb_gold_orders_by_date_demo5_1",
          null,
          null,
          null,
          null,
          null,
          null
         ],
         "2025-08-01T06:25:33.032Z",
         "Flow 'labuser11058730_1754017152.3_gold_db.gold_orders_by_date_demo5' has been planned in DLT to be executed as COMPLETE_RECOMPUTE.",
         "INFO",
         "EVOLVING",
         null,
         "{\"planning_information\":{\"technique_information\":[{\"incrementalization_issues\":[{\"issue_type\":\"CHANGE_SET_MISSING\",\"prevent_incrementalization\":true}]},{\"maintenance_type\":\"MAINTENANCE_TYPE_COMPLETE_RECOMPUTE\",\"is_chosen\":true,\"is_applicable\":true,\"cost\":1585.0}],\"source_table_information\":[{\"table_id\":\"d5f7414c-d9fe-49b9-965f-1af66e757836\",\"full_size\":4124.0,\"num_rows\":174,\"num_files\":1,\"is_size_after_pruning\":true,\"is_row_id_enabled\":true,\"is_cdf_enabled\":true,\"is_deletion_vector_enabled\":true}],\"target_table_information\":{\"table_name\":\"`labuser11058730_1754017152`.`3_gold_db`.`gold_orders_by_date_demo5`\",\"table_id\":\"200c3af9-0c63-487b-9665-5f72a2b6926e\",\"full_size\":0.0,\"is_row_id_enabled\":true,\"is_cdf_enabled\":true,\"is_deletion_vector_enabled\":true},\"planning_wall_time_ms\":987}}",
         "planning_information"
        ],
        [
         "53f8c380-6ea0-11f0-a268-aa11d67e9c2a",
         [
          [
           "execution",
           1754029489000067
          ],
          null
         ],
         [
          "AWS",
          "us-west-2",
          3622490971720,
          null,
          "6ce1fdf2-b7dd-4ed3-844e-1d170666cadb",
          "WORKSPACE",
          "5 - Deploying a Pipeline to Production Project - labuser11058730_1754017152",
          "0801-062429-la5rq55-v2n",
          "e994a5ed-09c2-41af-90f3-9d8c34773039",
          null,
          null,
          null,
          "9ddde4ce-4586-4fde-8bf9-b285c49a523b",
          "labuser11058730_1754017152.3_gold_db.gold_orders_by_date_demo5",
          0,
          "e994a5ed-09c2-41af-90f3-9d8c34773039",
          null,
          null,
          null,
          null,
          null,
          "labuser11058730_1754017152.3_gold_db.__materialization_mat_6ce1fdf2_b7dd_4ed3_844e_1d170666cadb_gold_orders_by_date_demo5_1",
          null,
          null,
          null,
          null,
          null,
          null
         ],
         "2025-08-01T06:25:33.112Z",
         "Flow 'labuser11058730_1754017152.3_gold_db.gold_orders_by_date_demo5' is STARTING.",
         "INFO",
         "STABLE",
         null,
         "{\"flow_progress\":{\"status\":\"STARTING\"}}",
         "flow_progress"
        ],
        [
         "53f9fc00-6ea0-11f0-a268-aa11d67e9c2a",
         [
          [
           "execution",
           1754029489000068
          ],
          null
         ],
         [
          "AWS",
          "us-west-2",
          3622490971720,
          null,
          "6ce1fdf2-b7dd-4ed3-844e-1d170666cadb",
          "WORKSPACE",
          "5 - Deploying a Pipeline to Production Project - labuser11058730_1754017152",
          "0801-062429-la5rq55-v2n",
          "e994a5ed-09c2-41af-90f3-9d8c34773039",
          null,
          null,
          null,
          null,
          "labuser11058730_1754017152.3_gold_db.full_order_info_gold_demo5",
          0,
          "e994a5ed-09c2-41af-90f3-9d8c34773039",
          null,
          null,
          null,
          null,
          null,
          "labuser11058730_1754017152.3_gold_db.__materialization_mat_6ce1fdf2_b7dd_4ed3_844e_1d170666cadb_full_order_info_gold_demo5_1",
          null,
          null,
          null,
          null,
          null,
          null
         ],
         "2025-08-01T06:25:33.12Z",
         "Flow 'labuser11058730_1754017152.3_gold_db.full_order_info_gold_demo5' is PLANNING.",
         "INFO",
         "STABLE",
         null,
         "{\"flow_progress\":{\"status\":\"PLANNING\"}}",
         "flow_progress"
        ],
        [
         "53fd3050-6ea0-11f0-a268-aa11d67e9c2a",
         [
          [
           "execution",
           1754029489000069
          ],
          null
         ],
         [
          "AWS",
          "us-west-2",
          3622490971720,
          null,
          "6ce1fdf2-b7dd-4ed3-844e-1d170666cadb",
          "WORKSPACE",
          "5 - Deploying a Pipeline to Production Project - labuser11058730_1754017152",
          "0801-062429-la5rq55-v2n",
          "e994a5ed-09c2-41af-90f3-9d8c34773039",
          null,
          null,
          null,
          "9ddde4ce-4586-4fde-8bf9-b285c49a523b",
          "labuser11058730_1754017152.3_gold_db.gold_orders_by_date_demo5",
          0,
          "e994a5ed-09c2-41af-90f3-9d8c34773039",
          null,
          null,
          null,
          null,
          null,
          "labuser11058730_1754017152.3_gold_db.__materialization_mat_6ce1fdf2_b7dd_4ed3_844e_1d170666cadb_gold_orders_by_date_demo5_1",
          null,
          null,
          null,
          null,
          null,
          null
         ],
         "2025-08-01T06:25:33.141Z",
         "Flow 'labuser11058730_1754017152.3_gold_db.gold_orders_by_date_demo5' is RUNNING.",
         "INFO",
         "STABLE",
         null,
         "{\"flow_progress\":{\"status\":\"RUNNING\",\"metrics\":{\"backlog_bytes\":4124,\"backlog_files\":1}}}",
         "flow_progress"
        ],
        [
         "5447cde0-6ea0-11f0-a268-aa11d67e9c2a",
         [
          [
           "execution",
           1754029489000070
          ],
          null
         ],
         [
          "AWS",
          "us-west-2",
          3622490971720,
          null,
          "6ce1fdf2-b7dd-4ed3-844e-1d170666cadb",
          "WORKSPACE",
          "5 - Deploying a Pipeline to Production Project - labuser11058730_1754017152",
          "0801-062429-la5rq55-v2n",
          "e994a5ed-09c2-41af-90f3-9d8c34773039",
          null,
          null,
          null,
          "7c1a49fa-fcb5-45f6-bf24-4a292ac2140b",
          "labuser11058730_1754017152.3_gold_db.full_order_info_gold_demo5",
          0,
          "e994a5ed-09c2-41af-90f3-9d8c34773039",
          null,
          null,
          null,
          null,
          null,
          "labuser11058730_1754017152.3_gold_db.__materialization_mat_6ce1fdf2_b7dd_4ed3_844e_1d170666cadb_full_order_info_gold_demo5_1",
          null,
          null,
          null,
          null,
          null,
          null
         ],
         "2025-08-01T06:25:33.63Z",
         "Flow 'labuser11058730_1754017152.3_gold_db.full_order_info_gold_demo5' has been planned in DLT to be executed as COMPLETE_RECOMPUTE.",
         "INFO",
         "EVOLVING",
         null,
         "{\"planning_information\":{\"technique_information\":[{\"incrementalization_issues\":[{\"issue_type\":\"CHANGE_SET_MISSING\",\"prevent_incrementalization\":true}]},{\"maintenance_type\":\"MAINTENANCE_TYPE_COMPLETE_RECOMPUTE\",\"is_chosen\":true,\"is_applicable\":true,\"cost\":372091.0}],\"source_table_information\":[{\"table_id\":\"4f59ae67-2d5e-4523-8700-f788e4855363\",\"full_size\":6859.0,\"num_rows\":536,\"num_files\":1,\"is_size_after_pruning\":true,\"is_row_id_enabled\":true,\"is_cdf_enabled\":true,\"is_deletion_vector_enabled\":true},{\"table_id\":\"d5f7414c-d9fe-49b9-965f-1af66e757836\",\"full_size\":4124.0,\"num_rows\":174,\"num_files\":1,\"is_size_after_pruning\":true,\"is_row_id_enabled\":true,\"is_cdf_enabled\":true,\"is_deletion_vector_enabled\":true}],\"target_table_information\":{\"table_name\":\"`labuser11058730_1754017152`.`3_gold_db`.`full_order_info_gold_demo5`\",\"table_id\":\"0eabdda1-f3f9-4614-a4af-cbf7916be303\",\"full_size\":0.0,\"is_row_id_enabled\":true,\"is_cdf_enabled\":true,\"is_deletion_vector_enabled\":true},\"planning_wall_time_ms\":383}}",
         "planning_information"
        ],
        [
         "54486a20-6ea0-11f0-a268-aa11d67e9c2a",
         [
          [
           "execution",
           1754029489000071
          ],
          null
         ],
         [
          "AWS",
          "us-west-2",
          3622490971720,
          null,
          "6ce1fdf2-b7dd-4ed3-844e-1d170666cadb",
          "WORKSPACE",
          "5 - Deploying a Pipeline to Production Project - labuser11058730_1754017152",
          "0801-062429-la5rq55-v2n",
          "e994a5ed-09c2-41af-90f3-9d8c34773039",
          null,
          null,
          null,
          "7c1a49fa-fcb5-45f6-bf24-4a292ac2140b",
          "labuser11058730_1754017152.3_gold_db.full_order_info_gold_demo5",
          0,
          "e994a5ed-09c2-41af-90f3-9d8c34773039",
          null,
          null,
          null,
          null,
          null,
          "labuser11058730_1754017152.3_gold_db.__materialization_mat_6ce1fdf2_b7dd_4ed3_844e_1d170666cadb_full_order_info_gold_demo5_1",
          null,
          null,
          null,
          null,
          null,
          null
         ],
         "2025-08-01T06:25:33.634Z",
         "Flow 'labuser11058730_1754017152.3_gold_db.full_order_info_gold_demo5' is STARTING.",
         "INFO",
         "STABLE",
         null,
         "{\"flow_progress\":{\"status\":\"STARTING\"}}",
         "flow_progress"
        ],
        [
         "545402e0-6ea0-11f0-a268-aa11d67e9c2a",
         [
          [
           "execution",
           1754029489000072
          ],
          null
         ],
         [
          "AWS",
          "us-west-2",
          3622490971720,
          null,
          "6ce1fdf2-b7dd-4ed3-844e-1d170666cadb",
          "WORKSPACE",
          "5 - Deploying a Pipeline to Production Project - labuser11058730_1754017152",
          "0801-062429-la5rq55-v2n",
          "e994a5ed-09c2-41af-90f3-9d8c34773039",
          null,
          null,
          null,
          "7c1a49fa-fcb5-45f6-bf24-4a292ac2140b",
          "labuser11058730_1754017152.3_gold_db.full_order_info_gold_demo5",
          0,
          "e994a5ed-09c2-41af-90f3-9d8c34773039",
          null,
          null,
          null,
          null,
          null,
          "labuser11058730_1754017152.3_gold_db.__materialization_mat_6ce1fdf2_b7dd_4ed3_844e_1d170666cadb_full_order_info_gold_demo5_1",
          null,
          null,
          null,
          null,
          null,
          null
         ],
         "2025-08-01T06:25:33.71Z",
         "Flow 'labuser11058730_1754017152.3_gold_db.full_order_info_gold_demo5' is RUNNING.",
         "INFO",
         "STABLE",
         null,
         "{\"flow_progress\":{\"status\":\"RUNNING\",\"metrics\":{\"backlog_bytes\":10983,\"backlog_files\":2}}}",
         "flow_progress"
        ],
        [
         "54e23920-6ea0-11f0-a268-aa11d67e9c2a",
         [
          [
           "execution",
           1754029489000074
          ],
          null
         ],
         [
          "AWS",
          "us-west-2",
          3622490971720,
          null,
          "6ce1fdf2-b7dd-4ed3-844e-1d170666cadb",
          "WORKSPACE",
          "5 - Deploying a Pipeline to Production Project - labuser11058730_1754017152",
          "0801-062429-la5rq55-v2n",
          "e994a5ed-09c2-41af-90f3-9d8c34773039",
          null,
          null,
          null,
          "9ddde4ce-4586-4fde-8bf9-b285c49a523b",
          "labuser11058730_1754017152.3_gold_db.gold_orders_by_date_demo5",
          0,
          "e994a5ed-09c2-41af-90f3-9d8c34773039",
          null,
          null,
          null,
          null,
          null,
          "labuser11058730_1754017152.3_gold_db.__materialization_mat_6ce1fdf2_b7dd_4ed3_844e_1d170666cadb_gold_orders_by_date_demo5_1",
          null,
          null,
          null,
          null,
          null,
          null
         ],
         "2025-08-01T06:25:34.642Z",
         "`labuser11058730_1754017152`.`3_gold_db`.`__materialization_mat_6ce1fdf2_b7dd_4ed3_844e_1d170666cadb_gold_orders_by_date_demo5_1` finished with executor time 0 ms and executor CPU time 0 ms.",
         "METRICS",
         "EVOLVING",
         null,
         "{\"aggregated_flow_metrics\":{\"executor_time_ms\":0,\"executor_cpu_time_ms\":0}}",
         "aggregated_flow_metrics"
        ],
        [
         "554a49c0-6ea0-11f0-a268-aa11d67e9c2a",
         [
          [
           "execution",
           1754029489000076
          ],
          null
         ],
         [
          "AWS",
          "us-west-2",
          3622490971720,
          null,
          "6ce1fdf2-b7dd-4ed3-844e-1d170666cadb",
          "WORKSPACE",
          "5 - Deploying a Pipeline to Production Project - labuser11058730_1754017152",
          "0801-062429-la5rq55-v2n",
          "e994a5ed-09c2-41af-90f3-9d8c34773039",
          null,
          null,
          null,
          "7c1a49fa-fcb5-45f6-bf24-4a292ac2140b",
          "labuser11058730_1754017152.3_gold_db.full_order_info_gold_demo5",
          0,
          "e994a5ed-09c2-41af-90f3-9d8c34773039",
          null,
          null,
          null,
          null,
          null,
          "labuser11058730_1754017152.3_gold_db.__materialization_mat_6ce1fdf2_b7dd_4ed3_844e_1d170666cadb_full_order_info_gold_demo5_1",
          null,
          null,
          null,
          null,
          null,
          null
         ],
         "2025-08-01T06:25:35.324Z",
         "`labuser11058730_1754017152`.`3_gold_db`.`__materialization_mat_6ce1fdf2_b7dd_4ed3_844e_1d170666cadb_full_order_info_gold_demo5_1` finished with executor time 0 ms and executor CPU time 0 ms.",
         "METRICS",
         "EVOLVING",
         null,
         "{\"aggregated_flow_metrics\":{\"executor_time_ms\":0,\"executor_cpu_time_ms\":0}}",
         "aggregated_flow_metrics"
        ],
        [
         "56916fc0-6ea0-11f0-a268-aa11d67e9c2a",
         [
          [
           "execution",
           1754029489000077
          ],
          null
         ],
         [
          "AWS",
          "us-west-2",
          3622490971720,
          null,
          "6ce1fdf2-b7dd-4ed3-844e-1d170666cadb",
          "WORKSPACE",
          "5 - Deploying a Pipeline to Production Project - labuser11058730_1754017152",
          "0801-062429-la5rq55-v2n",
          "e994a5ed-09c2-41af-90f3-9d8c34773039",
          null,
          null,
          null,
          null,
          null,
          null,
          "e994a5ed-09c2-41af-90f3-9d8c34773039",
          null,
          "labuser11058730_1754017152.3_gold_db.gold_orders_by_date_demo5",
          null,
          null,
          null,
          null,
          null,
          null,
          null,
          "4c4eff44-7b7f-4f7a-b178-4273966755e8",
          null,
          null
         ],
         "2025-08-01T06:25:37.468Z",
         "Materialized View `labuser11058730_1754017152`.`3_gold_db`.`gold_orders_by_date_demo5` has been created.",
         "INFO",
         "EVOLVING",
         null,
         "{\"dataset_life_cycle\":{\"state\":\"CREATED\",\"dataset_type\":\"MATERIALIZED_VIEW\"}}",
         "dataset_life_cycle"
        ],
        [
         "569455f0-6ea0-11f0-a268-aa11d67e9c2a",
         [
          [
           "execution",
           1754029489000078
          ],
          null
         ],
         [
          "AWS",
          "us-west-2",
          3622490971720,
          null,
          "6ce1fdf2-b7dd-4ed3-844e-1d170666cadb",
          "WORKSPACE",
          "5 - Deploying a Pipeline to Production Project - labuser11058730_1754017152",
          "0801-062429-la5rq55-v2n",
          "e994a5ed-09c2-41af-90f3-9d8c34773039",
          null,
          null,
          null,
          "9ddde4ce-4586-4fde-8bf9-b285c49a523b",
          "labuser11058730_1754017152.3_gold_db.gold_orders_by_date_demo5",
          0,
          "e994a5ed-09c2-41af-90f3-9d8c34773039",
          null,
          null,
          null,
          null,
          null,
          null,
          null,
          null,
          null,
          null,
          null,
          null
         ],
         "2025-08-01T06:25:37.487Z",
         "Flow 'labuser11058730_1754017152.3_gold_db.gold_orders_by_date_demo5' has COMPLETED.",
         "INFO",
         "STABLE",
         null,
         "{\"flow_progress\":{\"status\":\"COMPLETED\",\"metrics\":{\"num_output_rows\":7},\"data_quality\":{\"dropped_records\":0}}}",
         "flow_progress"
        ],
        [
         "573f6300-6ea0-11f0-a268-aa11d67e9c2a",
         [
          [
           "execution",
           1754029489000079
          ],
          null
         ],
         [
          "AWS",
          "us-west-2",
          3622490971720,
          null,
          "6ce1fdf2-b7dd-4ed3-844e-1d170666cadb",
          "WORKSPACE",
          "5 - Deploying a Pipeline to Production Project - labuser11058730_1754017152",
          "0801-062429-la5rq55-v2n",
          "e994a5ed-09c2-41af-90f3-9d8c34773039",
          null,
          null,
          null,
          null,
          null,
          null,
          "e994a5ed-09c2-41af-90f3-9d8c34773039",
          null,
          "labuser11058730_1754017152.3_gold_db.full_order_info_gold_demo5",
          null,
          null,
          null,
          null,
          null,
          null,
          null,
          "2aa2066f-7d88-4ad3-9408-1ac01244b77f",
          null,
          null
         ],
         "2025-08-01T06:25:38.608Z",
         "Materialized View `labuser11058730_1754017152`.`3_gold_db`.`full_order_info_gold_demo5` has been created.",
         "INFO",
         "EVOLVING",
         null,
         "{\"dataset_life_cycle\":{\"state\":\"CREATED\",\"dataset_type\":\"MATERIALIZED_VIEW\"}}",
         "dataset_life_cycle"
        ],
        [
         "57407470-6ea0-11f0-a268-aa11d67e9c2a",
         [
          [
           "execution",
           1754029489000080
          ],
          null
         ],
         [
          "AWS",
          "us-west-2",
          3622490971720,
          null,
          "6ce1fdf2-b7dd-4ed3-844e-1d170666cadb",
          "WORKSPACE",
          "5 - Deploying a Pipeline to Production Project - labuser11058730_1754017152",
          "0801-062429-la5rq55-v2n",
          "e994a5ed-09c2-41af-90f3-9d8c34773039",
          null,
          null,
          null,
          "7c1a49fa-fcb5-45f6-bf24-4a292ac2140b",
          "labuser11058730_1754017152.3_gold_db.full_order_info_gold_demo5",
          0,
          "e994a5ed-09c2-41af-90f3-9d8c34773039",
          null,
          null,
          null,
          null,
          null,
          null,
          null,
          null,
          null,
          null,
          null,
          null
         ],
         "2025-08-01T06:25:38.615Z",
         "Flow 'labuser11058730_1754017152.3_gold_db.full_order_info_gold_demo5' has COMPLETED.",
         "INFO",
         "STABLE",
         null,
         "{\"flow_progress\":{\"status\":\"COMPLETED\",\"metrics\":{\"num_output_rows\":536},\"data_quality\":{\"dropped_records\":0}}}",
         "flow_progress"
        ],
        [
         "57782640-6ea0-11f0-a268-aa11d67e9c2a",
         [
          [
           "execution",
           1754029489000081
          ],
          null
         ],
         [
          "AWS",
          "us-west-2",
          3622490971720,
          null,
          "6ce1fdf2-b7dd-4ed3-844e-1d170666cadb",
          "WORKSPACE",
          "5 - Deploying a Pipeline to Production Project - labuser11058730_1754017152",
          "0801-062429-la5rq55-v2n",
          "e994a5ed-09c2-41af-90f3-9d8c34773039",
          null,
          null,
          null,
          null,
          "labuser11058730_1754017152.3_gold_db.cancelled_orders_gold_demo5",
          0,
          "e994a5ed-09c2-41af-90f3-9d8c34773039",
          null,
          null,
          null,
          null,
          null,
          "labuser11058730_1754017152.3_gold_db.__materialization_mat_6ce1fdf2_b7dd_4ed3_844e_1d170666cadb_cancelled_orders_gold_demo5_1",
          null,
          null,
          null,
          null,
          null,
          null
         ],
         "2025-08-01T06:25:38.98Z",
         "Flow 'labuser11058730_1754017152.3_gold_db.cancelled_orders_gold_demo5' is PLANNING.",
         "INFO",
         "STABLE",
         null,
         "{\"flow_progress\":{\"status\":\"PLANNING\"}}",
         "flow_progress"
        ],
        [
         "57a773a0-6ea0-11f0-a268-aa11d67e9c2a",
         [
          [
           "execution",
           1754029489000082
          ],
          null
         ],
         [
          "AWS",
          "us-west-2",
          3622490971720,
          null,
          "6ce1fdf2-b7dd-4ed3-844e-1d170666cadb",
          "WORKSPACE",
          "5 - Deploying a Pipeline to Production Project - labuser11058730_1754017152",
          "0801-062429-la5rq55-v2n",
          "e994a5ed-09c2-41af-90f3-9d8c34773039",
          null,
          null,
          null,
          "83501d35-62f4-4f92-9ca5-8413928a1319",
          "labuser11058730_1754017152.3_gold_db.cancelled_orders_gold_demo5",
          0,
          "e994a5ed-09c2-41af-90f3-9d8c34773039",
          null,
          null,
          null,
          null,
          null,
          "labuser11058730_1754017152.3_gold_db.__materialization_mat_6ce1fdf2_b7dd_4ed3_844e_1d170666cadb_cancelled_orders_gold_demo5_1",
          null,
          null,
          null,
          null,
          null,
          null
         ],
         "2025-08-01T06:25:39.29Z",
         "Flow 'labuser11058730_1754017152.3_gold_db.cancelled_orders_gold_demo5' has been planned in DLT to be executed as COMPLETE_RECOMPUTE.",
         "INFO",
         "EVOLVING",
         null,
         "{\"planning_information\":{\"technique_information\":[{\"incrementalization_issues\":[{\"issue_type\":\"CHANGE_SET_MISSING\",\"prevent_incrementalization\":true}]},{\"maintenance_type\":\"MAINTENANCE_TYPE_COMPLETE_RECOMPUTE\",\"is_chosen\":true,\"is_applicable\":true,\"cost\":7389.0}],\"source_table_information\":[{\"table_name\":\"`labuser11058730_1754017152`.`3_gold_db`.`full_order_info_gold_demo5`\",\"table_id\":\"0eabdda1-f3f9-4614-a4af-cbf7916be303\",\"catalog_table_type\":\"MATERIALIZED_VIEW\",\"full_size\":9997.0,\"num_rows\":536,\"num_files\":1,\"is_size_after_pruning\":true,\"is_row_id_enabled\":true,\"is_cdf_enabled\":true,\"is_deletion_vector_enabled\":true}],\"target_table_information\":{\"table_name\":\"`labuser11058730_1754017152`.`3_gold_db`.`cancelled_orders_gold_demo5`\",\"table_id\":\"cadc933b-69aa-44fd-97f3-18a891588e27\",\"full_size\":0.0,\"is_row_id_enabled\":true,\"is_cdf_enabled\":true,\"is_deletion_vector_enabled\":true},\"planning_wall_time_ms\":217}}",
         "planning_information"
        ],
        [
         "57a7e8d0-6ea0-11f0-a268-aa11d67e9c2a",
         [
          [
           "execution",
           1754029489000083
          ],
          null
         ],
         [
          "AWS",
          "us-west-2",
          3622490971720,
          null,
          "6ce1fdf2-b7dd-4ed3-844e-1d170666cadb",
          "WORKSPACE",
          "5 - Deploying a Pipeline to Production Project - labuser11058730_1754017152",
          "0801-062429-la5rq55-v2n",
          "e994a5ed-09c2-41af-90f3-9d8c34773039",
          null,
          null,
          null,
          "83501d35-62f4-4f92-9ca5-8413928a1319",
          "labuser11058730_1754017152.3_gold_db.cancelled_orders_gold_demo5",
          0,
          "e994a5ed-09c2-41af-90f3-9d8c34773039",
          null,
          null,
          null,
          null,
          null,
          "labuser11058730_1754017152.3_gold_db.__materialization_mat_6ce1fdf2_b7dd_4ed3_844e_1d170666cadb_cancelled_orders_gold_demo5_1",
          null,
          null,
          null,
          null,
          null,
          null
         ],
         "2025-08-01T06:25:39.293Z",
         "Flow 'labuser11058730_1754017152.3_gold_db.cancelled_orders_gold_demo5' is STARTING.",
         "INFO",
         "STABLE",
         null,
         "{\"flow_progress\":{\"status\":\"STARTING\"}}",
         "flow_progress"
        ],
        [
         "57a88510-6ea0-11f0-a268-aa11d67e9c2a",
         [
          [
           "execution",
           1754029489000084
          ],
          null
         ],
         [
          "AWS",
          "us-west-2",
          3622490971720,
          null,
          "6ce1fdf2-b7dd-4ed3-844e-1d170666cadb",
          "WORKSPACE",
          "5 - Deploying a Pipeline to Production Project - labuser11058730_1754017152",
          "0801-062429-la5rq55-v2n",
          "e994a5ed-09c2-41af-90f3-9d8c34773039",
          null,
          null,
          null,
          null,
          "labuser11058730_1754017152.3_gold_db.delivered_orders_gold_demo5",
          0,
          "e994a5ed-09c2-41af-90f3-9d8c34773039",
          null,
          null,
          null,
          null,
          null,
          "labuser11058730_1754017152.3_gold_db.__materialization_mat_6ce1fdf2_b7dd_4ed3_844e_1d170666cadb_delivered_orders_gold_demo5_1",
          null,
          null,
          null,
          null,
          null,
          null
         ],
         "2025-08-01T06:25:39.297Z",
         "Flow 'labuser11058730_1754017152.3_gold_db.delivered_orders_gold_demo5' is PLANNING.",
         "INFO",
         "STABLE",
         null,
         "{\"flow_progress\":{\"status\":\"PLANNING\"}}",
         "flow_progress"
        ],
        [
         "57ab1d20-6ea0-11f0-a268-aa11d67e9c2a",
         [
          [
           "execution",
           1754029489000085
          ],
          null
         ],
         [
          "AWS",
          "us-west-2",
          3622490971720,
          null,
          "6ce1fdf2-b7dd-4ed3-844e-1d170666cadb",
          "WORKSPACE",
          "5 - Deploying a Pipeline to Production Project - labuser11058730_1754017152",
          "0801-062429-la5rq55-v2n",
          "e994a5ed-09c2-41af-90f3-9d8c34773039",
          null,
          null,
          null,
          "83501d35-62f4-4f92-9ca5-8413928a1319",
          "labuser11058730_1754017152.3_gold_db.cancelled_orders_gold_demo5",
          0,
          "e994a5ed-09c2-41af-90f3-9d8c34773039",
          null,
          null,
          null,
          null,
          null,
          "labuser11058730_1754017152.3_gold_db.__materialization_mat_6ce1fdf2_b7dd_4ed3_844e_1d170666cadb_cancelled_orders_gold_demo5_1",
          null,
          null,
          null,
          null,
          null,
          null
         ],
         "2025-08-01T06:25:39.314Z",
         "Flow 'labuser11058730_1754017152.3_gold_db.cancelled_orders_gold_demo5' is RUNNING.",
         "INFO",
         "STABLE",
         null,
         "{\"flow_progress\":{\"status\":\"RUNNING\",\"metrics\":{\"backlog_bytes\":0,\"backlog_files\":0}}}",
         "flow_progress"
        ],
        [
         "57e16f60-6ea0-11f0-a268-aa11d67e9c2a",
         [
          [
           "execution",
           1754029489000086
          ],
          null
         ],
         [
          "AWS",
          "us-west-2",
          3622490971720,
          null,
          "6ce1fdf2-b7dd-4ed3-844e-1d170666cadb",
          "WORKSPACE",
          "5 - Deploying a Pipeline to Production Project - labuser11058730_1754017152",
          "0801-062429-la5rq55-v2n",
          "e994a5ed-09c2-41af-90f3-9d8c34773039",
          null,
          null,
          null,
          "4ebc0471-bf9d-4ffb-8f66-c6797d12540d",
          "labuser11058730_1754017152.3_gold_db.delivered_orders_gold_demo5",
          0,
          "e994a5ed-09c2-41af-90f3-9d8c34773039",
          null,
          null,
          null,
          null,
          null,
          "labuser11058730_1754017152.3_gold_db.__materialization_mat_6ce1fdf2_b7dd_4ed3_844e_1d170666cadb_delivered_orders_gold_demo5_1",
          null,
          null,
          null,
          null,
          null,
          null
         ],
         "2025-08-01T06:25:39.67Z",
         "Flow 'labuser11058730_1754017152.3_gold_db.delivered_orders_gold_demo5' has been planned in DLT to be executed as COMPLETE_RECOMPUTE.",
         "INFO",
         "EVOLVING",
         null,
         "{\"planning_information\":{\"technique_information\":[{\"incrementalization_issues\":[{\"issue_type\":\"CHANGE_SET_MISSING\",\"prevent_incrementalization\":true}]},{\"maintenance_type\":\"MAINTENANCE_TYPE_COMPLETE_RECOMPUTE\",\"is_chosen\":true,\"is_applicable\":true,\"cost\":7389.0}],\"source_table_information\":[{\"table_name\":\"`labuser11058730_1754017152`.`3_gold_db`.`full_order_info_gold_demo5`\",\"table_id\":\"0eabdda1-f3f9-4614-a4af-cbf7916be303\",\"catalog_table_type\":\"MATERIALIZED_VIEW\",\"full_size\":9997.0,\"num_rows\":536,\"num_files\":1,\"is_size_after_pruning\":true,\"is_row_id_enabled\":true,\"is_cdf_enabled\":true,\"is_deletion_vector_enabled\":true}],\"target_table_information\":{\"table_name\":\"`labuser11058730_1754017152`.`3_gold_db`.`delivered_orders_gold_demo5`\",\"table_id\":\"2fc9af5c-295c-4569-9905-9dd40863f71a\",\"full_size\":0.0,\"is_row_id_enabled\":true,\"is_cdf_enabled\":true,\"is_deletion_vector_enabled\":true},\"planning_wall_time_ms\":253}}",
         "planning_information"
        ],
        [
         "57e1e490-6ea0-11f0-a268-aa11d67e9c2a",
         [
          [
           "execution",
           1754029489000087
          ],
          null
         ],
         [
          "AWS",
          "us-west-2",
          3622490971720,
          null,
          "6ce1fdf2-b7dd-4ed3-844e-1d170666cadb",
          "WORKSPACE",
          "5 - Deploying a Pipeline to Production Project - labuser11058730_1754017152",
          "0801-062429-la5rq55-v2n",
          "e994a5ed-09c2-41af-90f3-9d8c34773039",
          null,
          null,
          null,
          "4ebc0471-bf9d-4ffb-8f66-c6797d12540d",
          "labuser11058730_1754017152.3_gold_db.delivered_orders_gold_demo5",
          0,
          "e994a5ed-09c2-41af-90f3-9d8c34773039",
          null,
          null,
          null,
          null,
          null,
          "labuser11058730_1754017152.3_gold_db.__materialization_mat_6ce1fdf2_b7dd_4ed3_844e_1d170666cadb_delivered_orders_gold_demo5_1",
          null,
          null,
          null,
          null,
          null,
          null
         ],
         "2025-08-01T06:25:39.673Z",
         "Flow 'labuser11058730_1754017152.3_gold_db.delivered_orders_gold_demo5' is STARTING.",
         "INFO",
         "STABLE",
         null,
         "{\"flow_progress\":{\"status\":\"STARTING\"}}",
         "flow_progress"
        ],
        [
         "57e47ca0-6ea0-11f0-a268-aa11d67e9c2a",
         [
          [
           "execution",
           1754029489000088
          ],
          null
         ],
         [
          "AWS",
          "us-west-2",
          3622490971720,
          null,
          "6ce1fdf2-b7dd-4ed3-844e-1d170666cadb",
          "WORKSPACE",
          "5 - Deploying a Pipeline to Production Project - labuser11058730_1754017152",
          "0801-062429-la5rq55-v2n",
          "e994a5ed-09c2-41af-90f3-9d8c34773039",
          null,
          null,
          null,
          "4ebc0471-bf9d-4ffb-8f66-c6797d12540d",
          "labuser11058730_1754017152.3_gold_db.delivered_orders_gold_demo5",
          0,
          "e994a5ed-09c2-41af-90f3-9d8c34773039",
          null,
          null,
          null,
          null,
          null,
          "labuser11058730_1754017152.3_gold_db.__materialization_mat_6ce1fdf2_b7dd_4ed3_844e_1d170666cadb_delivered_orders_gold_demo5_1",
          null,
          null,
          null,
          null,
          null,
          null
         ],
         "2025-08-01T06:25:39.69Z",
         "Flow 'labuser11058730_1754017152.3_gold_db.delivered_orders_gold_demo5' is RUNNING.",
         "INFO",
         "STABLE",
         null,
         "{\"flow_progress\":{\"status\":\"RUNNING\",\"metrics\":{\"backlog_bytes\":0,\"backlog_files\":0}}}",
         "flow_progress"
        ],
        [
         "5868eee0-6ea0-11f0-a268-aa11d67e9c2a",
         [
          [
           "execution",
           1754029489000090
          ],
          null
         ],
         [
          "AWS",
          "us-west-2",
          3622490971720,
          null,
          "6ce1fdf2-b7dd-4ed3-844e-1d170666cadb",
          "WORKSPACE",
          "5 - Deploying a Pipeline to Production Project - labuser11058730_1754017152",
          "0801-062429-la5rq55-v2n",
          "e994a5ed-09c2-41af-90f3-9d8c34773039",
          null,
          null,
          null,
          "83501d35-62f4-4f92-9ca5-8413928a1319",
          "labuser11058730_1754017152.3_gold_db.cancelled_orders_gold_demo5",
          0,
          "e994a5ed-09c2-41af-90f3-9d8c34773039",
          null,
          null,
          null,
          null,
          null,
          "labuser11058730_1754017152.3_gold_db.__materialization_mat_6ce1fdf2_b7dd_4ed3_844e_1d170666cadb_cancelled_orders_gold_demo5_1",
          null,
          null,
          null,
          null,
          null,
          null
         ],
         "2025-08-01T06:25:40.558Z",
         "`labuser11058730_1754017152`.`3_gold_db`.`__materialization_mat_6ce1fdf2_b7dd_4ed3_844e_1d170666cadb_cancelled_orders_gold_demo5_1` finished with executor time 0 ms and executor CPU time 0 ms.",
         "METRICS",
         "EVOLVING",
         null,
         "{\"aggregated_flow_metrics\":{\"executor_time_ms\":0,\"executor_cpu_time_ms\":0}}",
         "aggregated_flow_metrics"
        ],
        [
         "58896f30-6ea0-11f0-a268-aa11d67e9c2a",
         [
          [
           "execution",
           1754029489000092
          ],
          null
         ],
         [
          "AWS",
          "us-west-2",
          3622490971720,
          null,
          "6ce1fdf2-b7dd-4ed3-844e-1d170666cadb",
          "WORKSPACE",
          "5 - Deploying a Pipeline to Production Project - labuser11058730_1754017152",
          "0801-062429-la5rq55-v2n",
          "e994a5ed-09c2-41af-90f3-9d8c34773039",
          null,
          null,
          null,
          "4ebc0471-bf9d-4ffb-8f66-c6797d12540d",
          "labuser11058730_1754017152.3_gold_db.delivered_orders_gold_demo5",
          0,
          "e994a5ed-09c2-41af-90f3-9d8c34773039",
          null,
          null,
          null,
          null,
          null,
          "labuser11058730_1754017152.3_gold_db.__materialization_mat_6ce1fdf2_b7dd_4ed3_844e_1d170666cadb_delivered_orders_gold_demo5_1",
          null,
          null,
          null,
          null,
          null,
          null
         ],
         "2025-08-01T06:25:40.771Z",
         "`labuser11058730_1754017152`.`3_gold_db`.`__materialization_mat_6ce1fdf2_b7dd_4ed3_844e_1d170666cadb_delivered_orders_gold_demo5_1` finished with executor time 0 ms and executor CPU time 0 ms.",
         "METRICS",
         "EVOLVING",
         null,
         "{\"aggregated_flow_metrics\":{\"executor_time_ms\":0,\"executor_cpu_time_ms\":0}}",
         "aggregated_flow_metrics"
        ],
        [
         "5a371f30-6ea0-11f0-a268-aa11d67e9c2a",
         [
          [
           "execution",
           1754029489000093
          ],
          null
         ],
         [
          "AWS",
          "us-west-2",
          3622490971720,
          null,
          "6ce1fdf2-b7dd-4ed3-844e-1d170666cadb",
          "WORKSPACE",
          "5 - Deploying a Pipeline to Production Project - labuser11058730_1754017152",
          "0801-062429-la5rq55-v2n",
          "e994a5ed-09c2-41af-90f3-9d8c34773039",
          null,
          null,
          null,
          null,
          null,
          null,
          "e994a5ed-09c2-41af-90f3-9d8c34773039",
          null,
          "labuser11058730_1754017152.3_gold_db.cancelled_orders_gold_demo5",
          null,
          null,
          null,
          null,
          null,
          null,
          null,
          "e281df85-1123-4c69-a63b-8651c115c3f2",
          null,
          null
         ],
         "2025-08-01T06:25:43.587Z",
         "Materialized View `labuser11058730_1754017152`.`3_gold_db`.`cancelled_orders_gold_demo5` has been created.",
         "INFO",
         "EVOLVING",
         null,
         "{\"dataset_life_cycle\":{\"state\":\"CREATED\",\"dataset_type\":\"MATERIALIZED_VIEW\"}}",
         "dataset_life_cycle"
        ],
        [
         "5a380990-6ea0-11f0-a268-aa11d67e9c2a",
         [
          [
           "execution",
           1754029489000094
          ],
          null
         ],
         [
          "AWS",
          "us-west-2",
          3622490971720,
          null,
          "6ce1fdf2-b7dd-4ed3-844e-1d170666cadb",
          "WORKSPACE",
          "5 - Deploying a Pipeline to Production Project - labuser11058730_1754017152",
          "0801-062429-la5rq55-v2n",
          "e994a5ed-09c2-41af-90f3-9d8c34773039",
          null,
          null,
          null,
          "83501d35-62f4-4f92-9ca5-8413928a1319",
          "labuser11058730_1754017152.3_gold_db.cancelled_orders_gold_demo5",
          0,
          "e994a5ed-09c2-41af-90f3-9d8c34773039",
          null,
          null,
          null,
          null,
          null,
          null,
          null,
          null,
          null,
          null,
          null,
          null
         ],
         "2025-08-01T06:25:43.593Z",
         "Flow 'labuser11058730_1754017152.3_gold_db.cancelled_orders_gold_demo5' has COMPLETED.",
         "INFO",
         "STABLE",
         null,
         "{\"flow_progress\":{\"status\":\"COMPLETED\",\"metrics\":{\"num_output_rows\":8},\"data_quality\":{\"dropped_records\":0}}}",
         "flow_progress"
        ],
        [
         "5a6bead0-6ea0-11f0-a268-aa11d67e9c2a",
         [
          [
           "execution",
           1754029489000095
          ],
          null
         ],
         [
          "AWS",
          "us-west-2",
          3622490971720,
          null,
          "6ce1fdf2-b7dd-4ed3-844e-1d170666cadb",
          "WORKSPACE",
          "5 - Deploying a Pipeline to Production Project - labuser11058730_1754017152",
          "0801-062429-la5rq55-v2n",
          "e994a5ed-09c2-41af-90f3-9d8c34773039",
          null,
          null,
          null,
          null,
          null,
          null,
          "e994a5ed-09c2-41af-90f3-9d8c34773039",
          null,
          "labuser11058730_1754017152.3_gold_db.delivered_orders_gold_demo5",
          null,
          null,
          null,
          null,
          null,
          null,
          null,
          "9ae2d1a2-eada-4c89-b5a5-a0c2a2df56c8",
          null,
          null
         ],
         "2025-08-01T06:25:43.933Z",
         "Materialized View `labuser11058730_1754017152`.`3_gold_db`.`delivered_orders_gold_demo5` has been created.",
         "INFO",
         "EVOLVING",
         null,
         "{\"dataset_life_cycle\":{\"state\":\"CREATED\",\"dataset_type\":\"MATERIALIZED_VIEW\"}}",
         "dataset_life_cycle"
        ],
        [
         "5a6cfc40-6ea0-11f0-a268-aa11d67e9c2a",
         [
          [
           "execution",
           1754029489000096
          ],
          null
         ],
         [
          "AWS",
          "us-west-2",
          3622490971720,
          null,
          "6ce1fdf2-b7dd-4ed3-844e-1d170666cadb",
          "WORKSPACE",
          "5 - Deploying a Pipeline to Production Project - labuser11058730_1754017152",
          "0801-062429-la5rq55-v2n",
          "e994a5ed-09c2-41af-90f3-9d8c34773039",
          null,
          null,
          null,
          "4ebc0471-bf9d-4ffb-8f66-c6797d12540d",
          "labuser11058730_1754017152.3_gold_db.delivered_orders_gold_demo5",
          0,
          "e994a5ed-09c2-41af-90f3-9d8c34773039",
          null,
          null,
          null,
          null,
          null,
          null,
          null,
          null,
          null,
          null,
          null,
          null
         ],
         "2025-08-01T06:25:43.94Z",
         "Flow 'labuser11058730_1754017152.3_gold_db.delivered_orders_gold_demo5' has COMPLETED.",
         "INFO",
         "STABLE",
         null,
         "{\"flow_progress\":{\"status\":\"COMPLETED\",\"metrics\":{\"num_output_rows\":94},\"data_quality\":{\"dropped_records\":0}}}",
         "flow_progress"
        ],
        [
         "5b0fa4e0-6ea0-11f0-a268-aa11d67e9c2a",
         [
          [
           "execution",
           1754029489000099
          ],
          null
         ],
         [
          "AWS",
          "us-west-2",
          3622490971720,
          null,
          "6ce1fdf2-b7dd-4ed3-844e-1d170666cadb",
          "WORKSPACE",
          "5 - Deploying a Pipeline to Production Project - labuser11058730_1754017152",
          "0801-062429-la5rq55-v2n",
          "e994a5ed-09c2-41af-90f3-9d8c34773039",
          null,
          null,
          null,
          null,
          "labuser11058730_1754017152.1_bronze_db.status_bronze_demo5",
          null,
          "e994a5ed-09c2-41af-90f3-9d8c34773039",
          null,
          null,
          null,
          null,
          null,
          null,
          null,
          null,
          null,
          null,
          null,
          null
         ],
         "2025-08-01T06:25:45.006Z",
         "Reported flow time metrics for flowName: 'labuser11058730_1754017152.1_bronze_db.status_bronze_demo5'.",
         "METRICS",
         "STABLE",
         null,
         "{\"flow_progress\":{\"metrics\":{\"executor_time_ms\":2151,\"executor_cpu_time_ms\":801}}}",
         "flow_progress"
        ],
        [
         "5b0ff300-6ea0-11f0-a268-aa11d67e9c2a",
         [
          [
           "execution",
           1754029489000100
          ],
          null
         ],
         [
          "AWS",
          "us-west-2",
          3622490971720,
          null,
          "6ce1fdf2-b7dd-4ed3-844e-1d170666cadb",
          "WORKSPACE",
          "5 - Deploying a Pipeline to Production Project - labuser11058730_1754017152",
          "0801-062429-la5rq55-v2n",
          "e994a5ed-09c2-41af-90f3-9d8c34773039",
          null,
          null,
          null,
          "4ebc0471-bf9d-4ffb-8f66-c6797d12540d",
          "labuser11058730_1754017152.3_gold_db.delivered_orders_gold_demo5",
          0,
          "e994a5ed-09c2-41af-90f3-9d8c34773039",
          null,
          null,
          null,
          null,
          null,
          null,
          null,
          null,
          null,
          null,
          null,
          null
         ],
         "2025-08-01T06:25:45.008Z",
         "Reported flow time metrics for flowName: 'labuser11058730_1754017152.3_gold_db.delivered_orders_gold_demo5'.",
         "METRICS",
         "STABLE",
         null,
         "{\"flow_progress\":{\"metrics\":{\"executor_time_ms\":268,\"executor_cpu_time_ms\":126}}}",
         "flow_progress"
        ],
        [
         "5b101a10-6ea0-11f0-a268-aa11d67e9c2a",
         [
          [
           "execution",
           1754029489000101
          ],
          null
         ],
         [
          "AWS",
          "us-west-2",
          3622490971720,
          null,
          "6ce1fdf2-b7dd-4ed3-844e-1d170666cadb",
          "WORKSPACE",
          "5 - Deploying a Pipeline to Production Project - labuser11058730_1754017152",
          "0801-062429-la5rq55-v2n",
          "e994a5ed-09c2-41af-90f3-9d8c34773039",
          null,
          null,
          null,
          "7c1a49fa-fcb5-45f6-bf24-4a292ac2140b",
          "labuser11058730_1754017152.3_gold_db.full_order_info_gold_demo5",
          0,
          "e994a5ed-09c2-41af-90f3-9d8c34773039",
          null,
          null,
          null,
          null,
          null,
          null,
          null,
          null,
          null,
          null,
          null,
          null
         ],
         "2025-08-01T06:25:45.009Z",
         "Reported flow time metrics for flowName: 'labuser11058730_1754017152.3_gold_db.full_order_info_gold_demo5'.",
         "METRICS",
         "STABLE",
         null,
         "{\"flow_progress\":{\"metrics\":{\"executor_time_ms\":412,\"executor_cpu_time_ms\":164}}}",
         "flow_progress"
        ],
        [
         "5b104120-6ea0-11f0-a268-aa11d67e9c2a",
         [
          [
           "execution",
           1754029489000102
          ],
          null
         ],
         [
          "AWS",
          "us-west-2",
          3622490971720,
          null,
          "6ce1fdf2-b7dd-4ed3-844e-1d170666cadb",
          "WORKSPACE",
          "5 - Deploying a Pipeline to Production Project - labuser11058730_1754017152",
          "0801-062429-la5rq55-v2n",
          "e994a5ed-09c2-41af-90f3-9d8c34773039",
          null,
          null,
          null,
          "9ddde4ce-4586-4fde-8bf9-b285c49a523b",
          "labuser11058730_1754017152.3_gold_db.gold_orders_by_date_demo5",
          0,
          "e994a5ed-09c2-41af-90f3-9d8c34773039",
          null,
          null,
          null,
          null,
          null,
          null,
          null,
          null,
          null,
          null,
          null,
          null
         ],
         "2025-08-01T06:25:45.01Z",
         "Reported flow time metrics for flowName: 'labuser11058730_1754017152.3_gold_db.gold_orders_by_date_demo5'.",
         "METRICS",
         "STABLE",
         null,
         "{\"flow_progress\":{\"metrics\":{\"executor_time_ms\":296,\"executor_cpu_time_ms\":155}}}",
         "flow_progress"
        ],
        [
         "5b106830-6ea0-11f0-a268-aa11d67e9c2a",
         [
          [
           "execution",
           1754029489000103
          ],
          null
         ],
         [
          "AWS",
          "us-west-2",
          3622490971720,
          null,
          "6ce1fdf2-b7dd-4ed3-844e-1d170666cadb",
          "WORKSPACE",
          "5 - Deploying a Pipeline to Production Project - labuser11058730_1754017152",
          "0801-062429-la5rq55-v2n",
          "e994a5ed-09c2-41af-90f3-9d8c34773039",
          null,
          null,
          null,
          "83501d35-62f4-4f92-9ca5-8413928a1319",
          "labuser11058730_1754017152.3_gold_db.cancelled_orders_gold_demo5",
          0,
          "e994a5ed-09c2-41af-90f3-9d8c34773039",
          null,
          null,
          null,
          null,
          null,
          null,
          null,
          null,
          null,
          null,
          null,
          null
         ],
         "2025-08-01T06:25:45.011Z",
         "Reported flow time metrics for flowName: 'labuser11058730_1754017152.3_gold_db.cancelled_orders_gold_demo5'.",
         "METRICS",
         "STABLE",
         null,
         "{\"flow_progress\":{\"metrics\":{\"executor_time_ms\":327,\"executor_cpu_time_ms\":139}}}",
         "flow_progress"
        ],
        [
         "5b108f40-6ea0-11f0-a268-aa11d67e9c2a",
         [
          [
           "execution",
           1754029489000104
          ],
          null
         ],
         [
          "AWS",
          "us-west-2",
          3622490971720,
          null,
          "6ce1fdf2-b7dd-4ed3-844e-1d170666cadb",
          "WORKSPACE",
          "5 - Deploying a Pipeline to Production Project - labuser11058730_1754017152",
          "0801-062429-la5rq55-v2n",
          "e994a5ed-09c2-41af-90f3-9d8c34773039",
          null,
          null,
          null,
          null,
          "labuser11058730_1754017152.1_bronze_db.orders_bronze_demo5",
          null,
          "e994a5ed-09c2-41af-90f3-9d8c34773039",
          null,
          null,
          null,
          null,
          null,
          null,
          null,
          null,
          null,
          null,
          null,
          null
         ],
         "2025-08-01T06:25:45.012Z",
         "Reported flow time metrics for flowName: 'labuser11058730_1754017152.1_bronze_db.orders_bronze_demo5'.",
         "METRICS",
         "STABLE",
         null,
         "{\"flow_progress\":{\"metrics\":{\"executor_time_ms\":2145,\"executor_cpu_time_ms\":550}}}",
         "flow_progress"
        ],
        [
         "5b10b650-6ea0-11f0-a268-aa11d67e9c2a",
         [
          [
           "execution",
           1754029489000105
          ],
          null
         ],
         [
          "AWS",
          "us-west-2",
          3622490971720,
          null,
          "6ce1fdf2-b7dd-4ed3-844e-1d170666cadb",
          "WORKSPACE",
          "5 - Deploying a Pipeline to Production Project - labuser11058730_1754017152",
          "0801-062429-la5rq55-v2n",
          "e994a5ed-09c2-41af-90f3-9d8c34773039",
          null,
          null,
          null,
          null,
          "labuser11058730_1754017152.2_silver_db.status_silver_demo5",
          null,
          "e994a5ed-09c2-41af-90f3-9d8c34773039",
          null,
          null,
          null,
          null,
          null,
          null,
          null,
          null,
          null,
          null,
          null,
          null
         ],
         "2025-08-01T06:25:45.013Z",
         "Reported flow time metrics for flowName: 'labuser11058730_1754017152.2_silver_db.status_silver_demo5'.",
         "METRICS",
         "STABLE",
         null,
         "{\"flow_progress\":{\"metrics\":{\"executor_time_ms\":379,\"executor_cpu_time_ms\":178}}}",
         "flow_progress"
        ],
        [
         "5b10dd60-6ea0-11f0-a268-aa11d67e9c2a",
         [
          [
           "execution",
           1754029489000106
          ],
          null
         ],
         [
          "AWS",
          "us-west-2",
          3622490971720,
          null,
          "6ce1fdf2-b7dd-4ed3-844e-1d170666cadb",
          "WORKSPACE",
          "5 - Deploying a Pipeline to Production Project - labuser11058730_1754017152",
          "0801-062429-la5rq55-v2n",
          "e994a5ed-09c2-41af-90f3-9d8c34773039",
          null,
          null,
          null,
          null,
          "labuser11058730_1754017152.2_silver_db.orders_silver_demo5",
          null,
          "e994a5ed-09c2-41af-90f3-9d8c34773039",
          null,
          null,
          null,
          null,
          null,
          null,
          null,
          null,
          null,
          null,
          null,
          null
         ],
         "2025-08-01T06:25:45.014Z",
         "Reported flow time metrics for flowName: 'labuser11058730_1754017152.2_silver_db.orders_silver_demo5'.",
         "METRICS",
         "STABLE",
         null,
         "{\"flow_progress\":{\"metrics\":{\"executor_time_ms\":456,\"executor_cpu_time_ms\":284}}}",
         "flow_progress"
        ],
        [
         "5b112b80-6ea0-11f0-a268-aa11d67e9c2a",
         [
          [
           "execution",
           1754029489000107
          ],
          null
         ],
         [
          "AWS",
          "us-west-2",
          3622490971720,
          null,
          "6ce1fdf2-b7dd-4ed3-844e-1d170666cadb",
          "WORKSPACE",
          "5 - Deploying a Pipeline to Production Project - labuser11058730_1754017152",
          "0801-062429-la5rq55-v2n",
          "e994a5ed-09c2-41af-90f3-9d8c34773039",
          null,
          null,
          null,
          null,
          "pipelines.flowTimeMetrics.missingFlowName",
          null,
          "e994a5ed-09c2-41af-90f3-9d8c34773039",
          null,
          null,
          null,
          null,
          null,
          null,
          null,
          null,
          null,
          null,
          null,
          null
         ],
         "2025-08-01T06:25:45.016Z",
         "Reported flow time metrics for flowName: 'pipelines.flowTimeMetrics.missingFlowName'.",
         "METRICS",
         "STABLE",
         null,
         "{\"flow_progress\":{\"metrics\":{\"executor_time_ms\":5845,\"executor_cpu_time_ms\":2063}}}",
         "flow_progress"
        ],
        [
         "5b115290-6ea0-11f0-a268-aa11d67e9c2a",
         [
          [
           "execution",
           1754029489000108
          ],
          null
         ],
         [
          "AWS",
          "us-west-2",
          3622490971720,
          null,
          "6ce1fdf2-b7dd-4ed3-844e-1d170666cadb",
          "WORKSPACE",
          "5 - Deploying a Pipeline to Production Project - labuser11058730_1754017152",
          "0801-062429-la5rq55-v2n",
          "e994a5ed-09c2-41af-90f3-9d8c34773039",
          null,
          null,
          null,
          null,
          null,
          null,
          "e994a5ed-09c2-41af-90f3-9d8c34773039",
          null,
          null,
          null,
          null,
          null,
          null,
          null,
          null,
          null,
          null,
          null,
          null
         ],
         "2025-08-01T06:25:45.017Z",
         "Update e994a5 is COMPLETED.",
         "INFO",
         "STABLE",
         null,
         "{\"update_progress\":{\"state\":\"COMPLETED\"}}",
         "update_progress"
        ]
       ],
       "datasetInfos": [],
       "dbfsResultPath": null,
       "isJsonSchema": true,
       "metadata": {},
       "overflow": false,
       "plotOptions": {
        "customPlotOptions": {},
        "displayType": "table",
        "pivotAggregation": null,
        "pivotColumns": null,
        "xColumns": null,
        "yColumns": null
       },
       "removedWidgets": [],
       "schema": [
        {
         "metadata": "{}",
         "name": "id",
         "type": "\"string\""
        },
        {
         "metadata": "{}",
         "name": "sequence",
         "type": "{\"type\":\"struct\",\"fields\":[{\"name\":\"data_plane_id\",\"type\":{\"type\":\"struct\",\"fields\":[{\"name\":\"instance\",\"type\":\"string\",\"nullable\":true,\"metadata\":{}},{\"name\":\"seq_no\",\"type\":\"long\",\"nullable\":true,\"metadata\":{}}]},\"nullable\":true,\"metadata\":{}},{\"name\":\"control_plane_seq_no\",\"type\":\"long\",\"nullable\":true,\"metadata\":{}}]}"
        },
        {
         "metadata": "{}",
         "name": "origin",
         "type": "{\"type\":\"struct\",\"fields\":[{\"name\":\"cloud\",\"type\":\"string\",\"nullable\":true,\"metadata\":{}},{\"name\":\"region\",\"type\":\"string\",\"nullable\":true,\"metadata\":{}},{\"name\":\"org_id\",\"type\":\"long\",\"nullable\":true,\"metadata\":{}},{\"name\":\"user_id\",\"type\":\"long\",\"nullable\":true,\"metadata\":{}},{\"name\":\"pipeline_id\",\"type\":\"string\",\"nullable\":true,\"metadata\":{}},{\"name\":\"pipeline_type\",\"type\":\"string\",\"nullable\":true,\"metadata\":{}},{\"name\":\"pipeline_name\",\"type\":\"string\",\"nullable\":true,\"metadata\":{}},{\"name\":\"cluster_id\",\"type\":\"string\",\"nullable\":true,\"metadata\":{}},{\"name\":\"update_id\",\"type\":\"string\",\"nullable\":true,\"metadata\":{}},{\"name\":\"maintenance_id\",\"type\":\"string\",\"nullable\":true,\"metadata\":{}},{\"name\":\"table_id\",\"type\":\"string\",\"nullable\":true,\"metadata\":{}},{\"name\":\"table_name\",\"type\":\"string\",\"nullable\":true,\"metadata\":{}},{\"name\":\"flow_id\",\"type\":\"string\",\"nullable\":true,\"metadata\":{}},{\"name\":\"flow_name\",\"type\":\"string\",\"nullable\":true,\"metadata\":{}},{\"name\":\"batch_id\",\"type\":\"long\",\"nullable\":true,\"metadata\":{}},{\"name\":\"request_id\",\"type\":\"string\",\"nullable\":true,\"metadata\":{}},{\"name\":\"uc_resource_id\",\"type\":\"string\",\"nullable\":true,\"metadata\":{}},{\"name\":\"dataset_name\",\"type\":\"string\",\"nullable\":true,\"metadata\":{}},{\"name\":\"sink_name\",\"type\":\"string\",\"nullable\":true,\"metadata\":{}},{\"name\":\"catalog_name\",\"type\":\"string\",\"nullable\":true,\"metadata\":{}},{\"name\":\"schema_name\",\"type\":\"string\",\"nullable\":true,\"metadata\":{}},{\"name\":\"materialization_name\",\"type\":\"string\",\"nullable\":true,\"metadata\":{}},{\"name\":\"operation_id\",\"type\":\"string\",\"nullable\":true,\"metadata\":{}},{\"name\":\"flow_attempt_id\",\"type\":\"string\",\"nullable\":true,\"metadata\":{}},{\"name\":\"source_name\",\"type\":\"string\",\"nullable\":true,\"metadata\":{}},{\"name\":\"uc_table_id\",\"type\":\"string\",\"nullable\":true,\"metadata\":{}},{\"name\":\"ingestion_source_type\",\"type\":\"string\",\"nullable\":true,\"metadata\":{}},{\"name\":\"uc_parent_table_id\",\"type\":\"string\",\"nullable\":true,\"metadata\":{}}]}"
        },
        {
         "metadata": "{}",
         "name": "timestamp",
         "type": "\"timestamp\""
        },
        {
         "metadata": "{}",
         "name": "message",
         "type": "\"string\""
        },
        {
         "metadata": "{}",
         "name": "level",
         "type": "\"string\""
        },
        {
         "metadata": "{}",
         "name": "maturity_level",
         "type": "\"string\""
        },
        {
         "metadata": "{}",
         "name": "error",
         "type": "{\"type\":\"struct\",\"fields\":[{\"name\":\"fatal\",\"type\":\"boolean\",\"nullable\":true,\"metadata\":{}},{\"name\":\"exceptions\",\"type\":{\"type\":\"array\",\"elementType\":{\"type\":\"struct\",\"fields\":[{\"name\":\"class_name\",\"type\":\"string\",\"nullable\":true,\"metadata\":{}},{\"name\":\"message\",\"type\":\"string\",\"nullable\":true,\"metadata\":{}},{\"name\":\"stack\",\"type\":{\"type\":\"array\",\"elementType\":{\"type\":\"struct\",\"fields\":[{\"name\":\"declaring_class\",\"type\":\"string\",\"nullable\":true,\"metadata\":{}},{\"name\":\"method_name\",\"type\":\"string\",\"nullable\":true,\"metadata\":{}},{\"name\":\"file_name\",\"type\":\"string\",\"nullable\":true,\"metadata\":{}},{\"name\":\"line_number\",\"type\":\"long\",\"nullable\":true,\"metadata\":{}}]},\"containsNull\":true},\"nullable\":true,\"metadata\":{}}]},\"containsNull\":true},\"nullable\":true,\"metadata\":{}}]}"
        },
        {
         "metadata": "{}",
         "name": "details",
         "type": "\"string\""
        },
        {
         "metadata": "{}",
         "name": "event_type",
         "type": "\"string\""
        }
       ],
       "type": "table"
      }
     },
     "output_type": "display_data"
    }
   ],
   "source": [
    "SELECT *\n",
    "FROM default.event_log_demo_5;"
   ]
  },
  {
   "cell_type": "markdown",
   "metadata": {
    "application/vnd.databricks.v1+cell": {
     "cellMetadata": {},
     "inputWidgets": {},
     "nuid": "ffc54bfb-4bf2-4ba2-aeaa-1474c3f3c858",
     "showTitle": false,
     "tableResultSettingsMap": {},
     "title": ""
    }
   },
   "source": [
    "| Field          | Description |\n",
    "|----------------|-------------|\n",
    "| `id`           | A unique identifier for the event log record. |\n",
    "| `sequence`     | A JSON document containing metadata to identify and order events. |\n",
    "| `origin`       | A JSON document containing metadata for the origin of the event, for example, the cloud provider, the cloud provider region, user_id, pipeline_id, or pipeline_type to show where the pipeline was created, either DBSQL or WORKSPACE. |\n",
    "| `timestamp`    | The time the event was recorded. |\n",
    "| `message`      | A human-readable message describing the event. |\n",
    "| `level`        | The event type, for example, INFO, WARN, ERROR, or METRICS. |\n",
    "| `maturity_level` | The stability of the event schema. The possible values are:<br><br>- **STABLE**: The schema is stable and will not change.<br>- **NULL**: The schema is stable and will not change. The value may be NULL if the record was created before the maturity_level field was added (release 2022.37).<br>- **EVOLVING**: The schema is not stable and may change.<br>- **DEPRECATED**: The schema is deprecated and the pipeline runtime may stop producing this event at any time. |\n",
    "| `error`        | If an error occurred, details describing the error. |\n",
    "| `details`      | A JSON document containing structured details of the event. This is the primary field used for analyzing events. |\n",
    "| `event_type`   | The event type. |\n",
    "\n",
    "**[Event Log Schema](https://docs.databricks.com/aws/en/dlt/observability#event-log-schema)**"
   ]
  },
  {
   "cell_type": "markdown",
   "metadata": {
    "application/vnd.databricks.v1+cell": {
     "cellMetadata": {},
     "inputWidgets": {},
     "nuid": "cff7f66b-883c-401e-93d5-118da875fc9b",
     "showTitle": false,
     "tableResultSettingsMap": {},
     "title": ""
    }
   },
   "source": [
    "3. The majority of the detailed information you will want from the event log is located in the **details** column, which is a JSON-formatted string. You will need to parse this column.\n",
    "\n",
    "   You can find more information in the Databricks documentation on how to [query JSON strings](https://docs.databricks.com/aws/en/semi-structured/json).\n",
    "\n",
    "   The code below will:\n",
    "\n",
    "   - Return the **event_type** column.\n",
    "\n",
    "   - Return the entire **details** JSON-formatted string.\n",
    "\n",
    "   - Parse out the **flow_progress** values from the **details** JSON-formatted string, if they exist.\n",
    "   \n",
    "   - Parse out the **user_action** values from the **details** JSON-formatted string, if they exist.\n"
   ]
  },
  {
   "cell_type": "code",
   "execution_count": 0,
   "metadata": {
    "application/vnd.databricks.v1+cell": {
     "cellMetadata": {
      "byteLimit": 2048000,
      "rowLimit": 10000
     },
     "inputWidgets": {},
     "nuid": "f5dc688e-9972-484e-a8a2-275abdc44ef5",
     "showTitle": false,
     "tableResultSettingsMap": {},
     "title": ""
    }
   },
   "outputs": [
    {
     "output_type": "display_data",
     "data": {
      "text/html": [
       "<style scoped>\n",
       "  .table-result-container {\n",
       "    max-height: 300px;\n",
       "    overflow: auto;\n",
       "  }\n",
       "  table, th, td {\n",
       "    border: 1px solid black;\n",
       "    border-collapse: collapse;\n",
       "  }\n",
       "  th, td {\n",
       "    padding: 5px;\n",
       "  }\n",
       "  th {\n",
       "    text-align: left;\n",
       "  }\n",
       "</style><div class='table-result-container'><table class='table-result'><thead style='background-color: white'><tr><th>id</th><th>event_type</th><th>details</th><th>flow_progress</th><th>user_action</th></tr></thead><tbody><tr><td>ccdb9250-6ea0-11f0-a268-aa11d67e9c2a</td><td>update_progress</td><td>{\"update_progress\":{\"state\":\"INITIALIZING\"}}</td><td>null</td><td>null</td></tr><tr><td>cc133940-6ea0-11f0-a6b2-02a90fbeb9b7</td><td>user_action</td><td>{\"user_action\":{\"action\":\"START\",\"user_name\":\"labuser11058730_1754017152@vocareum.com\",\"user_id\":70949121692270,\"request\":{\"start_request\":{\"full_refresh\":false,\"validate_only\":false,\"explore_only\":false,\"development\":true}}}}</td><td>null</td><td>{\"action\":\"START\",\"user_name\":\"labuser11058730_1754017152@vocareum.com\",\"user_id\":70949121692270,\"request\":{\"start_request\":{\"full_refresh\":false,\"validate_only\":false,\"explore_only\":false,\"development\":true}}}</td></tr><tr><td>cc1e0eb0-6ea0-11f0-a6b2-02a90fbeb9b7</td><td>create_update</td><td>{\"create_update\":{\"cause\":\"USER_ACTION\",\"config\":{\"id\":\"6ce1fdf2-b7dd-4ed3-844e-1d170666cadb\",\"pipeline_type\":\"WORKSPACE\",\"name\":\"5 - Deploying a Pipeline to Production Project - labuser11058730_1754017152\",\"configuration\":{\"pipelines.acfsProcessorVersion\":\"1\",\"pipelines.allowClearingTableComment\":\"true\",\"pipelines.allowPrivateToNonPrivateAltersWithCustomSchemaPreview\":\"true\",\"pipelines.alterExistingMvSt\":\"true\",\"pipelines.alterViewsInHMS.enabled\":\"true\",\"pipelines.alterableMetadataBehavior\":\"preserve\",\"pipelines.analysis.allowSqlFlowWithConfParallelResolution\":\"true\",\"pipelines.analysis.maybeResolveFlowsParallely\":\"true\",\"pipelines.analysis.maybeResolvePureSQLPipelinesParallely\":\"true\",\"pipelines.analysis.pruneUnresolvedFromJsonDependents\":\"true\",\"pipelines.applyChanges.Type2IgnoreNullPersistentStateChange\":\"false\",\"pipelines.applyChanges.applyChangesMultiflowIgnoreNullOffFix.enabled\":\"false\",\"pipelines.applyChanges.applyChangesMultiflowLatestDeleteVersion.enabled\":\"false\",\"pipelines.applyChanges.dynamicFilePruning.enabled\":\"true\",\"pipelines.applyChanges.dynamicPartitionPruning.enabled\":\"true\",\"pipelines.applyChanges.viewMetrics.enabled\":\"true\",\"pipelines.applyChangesFromSnapshot.analyzeLambdaSourceWithoutPipelineContext\":\"true\",\"pipelines.applyChangesFromSnapshot.castSnapshotToTargetSchema\":\"true\",\"pipelines.applyChangesFromSnapshot.stateStoreFormat\":\"proto\",\"pipelines.attachEnzymeExpectationsUsingTransformDF\":\"true\",\"pipelines.attachExpectationWithFunctionResult\":\"true\",\"pipelines.attachExpectationsUsingTransformDF\":\"true\",\"pipelines.autoscaling.maxDecommissioningTimeoutInSecondsDefaultValue\":\"14400\",\"pipelines.blockDuplicatedUseOfFromJsonSchemaLocationKey\":\"true\",\"pipelines.cdc.enableCdcSnapshotProgress\":\"true\",\"pipelines.cdc.enableGatewayErrorPropagation\":\"true\",\"pipelines.cdc.skipCdcSnapshotFlowAfterCommitted\":\"true\",\"pipelines.cdc.stagingDataGCDryRunMode\":\"false\",\"pipelines.cdc.stagingDataRetentionDays\":\"25\",\"pipelines.cdcApplier.enableCommunicationVersioning\":\"true\",\"pipelines.cdcApplier.useUpstreamCommunicationLibrary\":\"true\",\"pipelines.cdcApplierEnableColumnUOID\":\"false\",\"pipelines.cdcApplierStagingTablePartitionedByDate\":\"true\",\"pipelines.changeDataFeed.enabled\":\"true\",\"pipelines.checkImplicitDeletionReason\":\"true\",\"pipelines.cleanupOrphanedBackingTables\":\"true\",\"pipelines.copyFlowFuncResultWithDecomposition\":\"true\",\"pipelines.createMvStEntryBeforeBackingTable\":\"true\",\"pipelines.dataPlaneStructuredLogging.enabled\":\"true\",\"pipelines.decomposition.enableOnSnapshotFlow\":\"true\",\"pipelines.decomposition.enabled\":\"true\",\"pipelines.disableClearingIncrementalOnVirtualize\":\"true\",\"pipelines.disablePredictiveOptimization\":\"true\",\"pipelines.disallowFlowExecutionRetryForSchemaChangeExceptionsInTriggeredMode\":\"true\",\"pipelines.disallowTableMutationsDuringMaintenance\":\"true\",\"pipelines.dltDebugger.enableNodeStatusReporter\":\"true\",\"pipelines.dropAndRecreateBadBackingTables\":\"true\",\"pipelines.dropInactiveTables\":\"false\",\"pipelines.earlyStagingTableCleanupEnabled\":\"true\",\"pipelines.emitDeprecationEventForCustomSchemaUsage\":\"true\",\"pipelines.emitSinkDefinition\":\"true\",\"pipelines.enableApplyChangeSCD1Materialization\":\"false\",\"pipelines.enableApplyChangesLineage.enabled\":\"true\",\"pipelines.enableBatchTokenOnUpdateId\":\"false\",\"pipelines.enableBlockListReconciliationQueryDefinition\":\"true\",\"pipelines.enableCoalesceApplyChangesType2Duplicates\":\"true\",\"pipelines.enableConduitUCConnectionTypeValidation\":\"false\",\"pipelines.enableContinuousPipelineTriggerValidation\":\"false\",\"pipelines.enableCyclicDependencyDetection\":\"true\",\"pipelines.enableDataflowV2ForFromJsonSchemaReset\":\"true\",\"pipelines.enableDbrFlowAnalysisContext\":\"false\",\"pipelines.enableDeltaReadClone\":\"false\",\"pipelines.enableEventLogPicker\":\"true\",\"pipelines.enableEventLogTableIdWrites\":\"true\",\"pipelines.enableExistingEventLogRetrievalById\":\"true\",\"pipelines.enableFromJsonBatchSchemaEvolution\":\"true\",\"pipelines.enableHistoryIntegrationForContinuous\":\"true\",\"pipelines.enableLiveSchemaUsageValidation\":\"true\",\"pipelines.enableNewFlowTypes\":\"true\",\"pipelines.enableNonVirtualNodeInNodeProcessorUpdate\":\"false\",\"pipelines.enablePersistedViewSyntaxForPipeline\":\"true\",\"pipelines.enablePredictiveOptimizationRollout\":\"true\",\"pipelines.enableRunningAddRowIdAsEnabler\":\"true\",\"pipelines.enableSharepointConnectorV2\":\"false\",\"pipelines.enableStreamQueryListenerMetricsInEventlog\":\"false\",\"pipelines.enableSysPathSetupUsingCmdCtx\":\"true\",\"pipelines.enableUpdateWarmPoolManager\":\"true\",\"pipelines.enableViewFirstClassRefactor\":\"true\",\"pipelines.enzyme.autoCorrectionForLongRunningQueries\":\"true\",\"pipelines.enzyme.autoCorrectionForLongRunningQueries.dryRun\":\"true\",\"pipelines.enzyme.changesetRatioUpperBound\":\"2.1\",\"pipelines.enzyme.checkComposableAggOperatorNestingInDecomposer\":\"true\",\"pipelines.enzyme.classic.action\":\"Block\",\"pipelines.enzyme.composableAggKeyOperatorNestingThreshold\":\"4\",\"pipelines.enzyme.decomposeAggExpr.enabled\":\"true\",\"pipelines.enzyme.defaultBroadcastThreshold\":\"128MB\",\"pipelines.enzyme.disableFingerprintNormalizerForEnzymeBasic\":\"true\",\"pipelines.enzyme.enableAggOverJoin\":\"true\",\"pipelines.enzyme.enableAggOverJoinFallback\":\"true\",\"pipelines.enzyme.enableBroadcastableChangesetSizeThreshold\":\"true\",\"pipelines.enzyme.enableComposableGenericAgg\":\"true\",\"pipelines.enzyme.enableExplicitDFP\":\"false\",\"pipelines.enzyme.enableExplicitDPPScheduling\":\"false\",\"pipelines.enzyme.enableJoinComposition\":\"true\",\"pipelines.enzyme.enableLeftEquiJoinOptimization\":\"false\",\"pipelines.enzyme.enableRowId\":\"true\",\"pipelines.enzyme.enableSPUJFullOuterJoinIncrementalization\":\"true\",\"pipelines.enzyme.enableSPUJIncrementalization\":\"true\",\"pipelines.enzyme.enableSPUJInnerJoinIncrementalization\":\"true\",\"pipelines.enzyme.enableSPUJLeftAntiJoinIncrementalization\":\"true\",\"pipelines.enzyme.enableSPUJLeftJoinIncrementalization\":\"true\",\"pipelines.enzyme.enableSPUJRightJoinIncrementalization\":\"true\",\"pipelines.enzyme.enableSmallTableSizeThreshold\":\"true\",\"pipelines.enzyme.enableTableChangeSizeV3\":\"true\",\"pipelines.enzyme.enableWindowBlockBasedIncChecker\":\"true\",\"pipelines.enzyme.enableWindowComposition\":\"true\",\"pipelines.enzyme.enableWindowFunctionWithDiffPartitioning\":\"true\",\"pipelines.enzyme.enabled\":\"true\",\"pipelines.enzyme.enzymeEnableTableChangeSizeV2\":\"true\",\"pipelines.enzyme.expectation.enable\":\"true\",\"pipelines.enzyme.expectation.fallbackToClassic\":\"true\",\"pipelines.enzyme.expectation.fallbackToClassicPerFlow\":\"true\",\"pipelines.enzyme.expectation.useSimpleWrite\":\"true\",\"pipelines.enzyme.explicitlyScheduleBloomFilters\":\"false\",\"pipelines.enzyme.fileActionPruningInCdf.enabled\":\"true\",\"pipelines.enzyme.forceTrivialIncrementalFlows\":\"true\",\"pipelines.enzyme.genericAggregationTechnique.enabled\":\"true\",\"pipelines.enzyme.historyBasedCosting.enabled\":\"true\",\"pipelines.enzyme.logDetailedChangeInformation\":\"true\",\"pipelines.enzyme.makeCollectListCollectSetDeterministic.enabled\":\"true\",\"pipelines.enzyme.mode\":\"Advanced\",\"pipelines.enzyme.overrideMaxBloomSizeBits\":\"-1\",\"pipelines.enzyme.overrideMinBloomSizeBits\":\"-1\",\"pipelines.enzyme.prePostNormalizationBatches.enabled\":\"true\",\"pipelines.enzyme.removeTopLevelSort.enabled\":\"true\",\"pipelines.enzyme.spujTableSizeThresholdForNonJoin\":\"1000TB\",\"pipelines.enzyme.spujoinTableSizeThreshold\":\"1000TB\",\"pipelines.enzyme.temporalFilters.enabled\":\"true\",\"pipelines.enzyme.transformFirstLastAnyValueToMin.enabled\":\"true\",\"pipelines.enzyme.useInExpressionForPartitionOverwrite\":\"true\",\"pipelines.enzyme.windowFunctionTechniqueEnabled.enabled\":\"true\",\"pipelines.enzyme.writeHistoryStats.enabled\":\"true\",\"pipelines.eventLevelDataFrameCollectUsage\":\"warn\",\"pipelines.eventLevelDataFrameSaveAsTableUsage\":\"warn\",\"pipelines.eventLevelDataFrameSaveUsage\":\"warn\",\"pipelines.eventLevelDataStreamWriterStartUsage\":\"warn\",\"pipelines.eventLevelPivotUsage\":\"warn\",\"pipelines.eventPlatformMetricsReporterEnabled\":\"true\",\"pipelines.events.enableEventTimeMetric\":\"true\",\"pipelines.events.enableSourceCodePosition\":\"true\",\"pipelines.exposeExecutorCountFromStateManager\":\"false\",\"pipelines.failPipelineForExpectationWithACFS\":\"true\",\"pipelines.forceRecomputeMVIfPartitioningChanged\":\"true\",\"pipelines.fromJson.enforceRootLevelStructTypeForInferredSchema\":\"true\",\"pipelines.fullyQualifyExternalSinkIdentifiers\":\"true\",\"pipelines.fullyQualifyTableReferencesInForeignKeyConstraintsInDPM\":\"true\",\"pipelines.gateway.extractAsciiIrTypesAsUnicodeStream\":\"false\",\"pipelines.gateway.realtime.extractor.sqlServerUseCommandIdForCDCTables\":\"true\",\"pipelines.gateway.realtime.extractor.sqlServerVerifyCommandIdExistsForCDCTables\":\"false\",\"pipelines.gateway.runOptimizedFetchSchema\":\"false\",\"pipelines.gateway.tableSchemasDirectUpload\":\"false\",\"pipelines.gateway.useNewReplicationReconfigurationFlow\":\"false\",\"pipelines.gateway.useUpstreamCommunicationLibrary\":\"false\",\"pipelines.gatewaySendMessagesToEventLog\":\"true\",\"pipelines.ignoreDropInactiveTablesForWorkspacePipelines\":\"false\",\"pipelines.ignoredSuffixForSourceIncludes\":\"__pycache__/,.egg-info/,.txt,.md,.csv,.json\",\"pipelines.ingestionPipelineConnectorFetchProgressEventEnabled\":\"true\",\"pipelines.ingestionPipelineSalesforceApiVersion\":\"v63.0\",\"pipelines.ingestionPipelineServiceNowEmptyCursorFetchEnabled\":\"true\",\"pipelines.ingestionPipelinesTempViewNameV2\":\"false\",\"pipelines.initResourceAllocationBeforeEventLog\":\"true\",\"pipelines.instrumentLoadInSparkReader\":\"true\",\"pipelines.lazyInitializeUpdateWarmPoolManager\":\"true\",\"pipelines.lineageEmission.enabled\":\"true\",\"pipelines.materialization.writeResetSchemaString\":\"true\",\"pipelines.materializedView.dropOtherViewDependencies\":\"true\",\"pipelines.maxDatasetsPerPipeline\":\"1000\",\"pipelines.maximumSourceFileNumberInLibraries\":\"300\",\"pipelines.mergeExternalMetadataIntoTablesBeforeDecomp\":\"true\",\"pipelines.mesa.enableCatalogTableCLTCValidations\":\"true\",\"pipelines.mesa.enableGetCLTCFromCatalogTable\":\"true\",\"pipelines.mesa.updateUCPipelineWithTopLevelViewUpdate\":\"true\",\"pipelines.metrics.clusterResources.enabled\":\"true\",\"pipelines.metrics.flowProgressAdditionalBacklogMetricsEnabled\":\"true\",\"pipelines.metrics.flowProgressSourceLevelMetricsEnabled\":\"true\",\"pipelines.metrics.flowTimeReporter.enabled\":\"true\",\"pipelines.multiflowExpectations.enabled\":\"false\",\"pipelines.mv.partitionUpdate.enabled\":\"true\",\"pipelines.numPythonREPLsToWarmPerUpdate\":\"1\",\"pipelines.operationProgress.listingMetrics.enabled\":\"false\",\"pipelines.parallelNormalizationBeforeDecomposition\":\"true\",\"pipelines.parallelPythonReplInitialization\":\"true\",\"pipelines.parallelUCContextInitialization\":\"true\",\"pipelines.parallelizeCreateMatzPaths\":\"true\",\"pipelines.parallelizeMaterializeTables\":\"true\",\"pipelines.partitioning.clusterBy.enabled\":\"true\",\"pipelines.partitioning.clusterByAuto.enabled\":\"true\",\"pipelines.pipelineEnvironment.enabled\":\"true\",\"pipelines.preloadDeltaAndUCCacheForUpdate\":\"true\",\"pipelines.preserveColumnMasksField\":\"true\",\"pipelines.preserveRowFilterField\":\"true\",\"pipelines.preview.multiChangeFlowInCurrent.enable\":\"true\",\"pipelines.publishPrivateTableInOldArchitecture\":\"true\",\"pipelines.reAnalyzeVirtualFlowsAfterMaterialization\":\"true\",\"pipelines.rememberUCObjectIdsAcrossRuns\":\"true\",\"pipelines.removeAllGenerationExpressionKey\":\"true\",\"pipelines.removeGeneratedColumnMetadataFromViewSchema\":\"true\",\"pipelines.removeVirtualGraphUsageOnGraphDefns\":\"true\",\"pipelines.replaceRealInputReadsWithVirtualBeforeDecomposer\":\"true\",\"pipelines.respectAlterableMetadataBehavior\":\"true\",\"pipelines.scalaReplWarmPool.enabled\":\"true\",\"pipelines.scd1ApplyChangesUseAllFlowsSchema.enabled\":\"false\",\"pipelines.schemaInferenceForVirtualBackingTables.enabled\":\"true\",\"pipelines.schemaStorageLocations.enabled\":\"true\",\"pipelines.sendOneGraphToTableManager\":\"true\",\"pipelines.setMigrationHints\":\"true\",\"pipelines.setParentTableIdForBackingTables\":\"true\",\"pipelines.shouldUseOCCToUpdateTopLevelEntry\":\"true\",\"pipelines.suggestDropForInactivePrivateTable\":\"true\",\"pipelines.tableManager.failOnCycleOfForeignKeyConstraints\":\"true\",\"pipelines.tableManager.orderSettingUpTablesByForeignKeyConstraints\":\"true\",\"pipelines.throwOnUnexpectedMaterializationCreation\":\"true\",\"pipelines.topologicalOrderForStreamingFlowsUponFullRefresh.enabled\":\"true\",\"pipelines.undropPreviouslyExistingTables\":\"true\",\"pipelines.updateSnapshot.enabled\":\"true\",\"pipelines.updateSnapshot.incrementalEventSummaries.enabled\":\"true\",\"pipelines.updateSnapshot.incrementalTimeSeries.enabled\":\"true\",\"pipelines.updateSnapshot.timeSeriesSummaryFlowMetricsEnabled\":\"true\",\"pipelines.updateSnapshot.timeSeriesSummaryGeneratorEnabled\":\"true\",\"pipelines.updateSnapshot.timeSeriesSummarySourceMetricsEnabled\":\"true\",\"pipelines.updateTableCacheAndInactiveStatusEarly\":\"true\",\"pipelines.updateWarmPoolManagerSize\":\"1\",\"pipelines.useCacheForMVPlanning.enabled\":\"true\",\"pipelines.useConfigDefaultsInQueryFingerprint\":\"true\",\"pipelines.useDataflowV2\":\"true\",\"pipelines.useGraphCachePersistence\":\"true\",\"pipelines.useNewOCCPrimitive\":\"true\",\"pipelines.useNewReadInputApi\":\"true\",\"pipelines.useTempDirForEventHookManagerCheckpoints\":\"false\",\"pipelines.useTempDirForEventHookManagerCheckpointsInHms\":\"true\",\"pipelines.useUCBackdoorToDropColumnMasks\":\"true\",\"pipelines.useUCCacheAcrossQueries\":\"true\",\"pipelines.useUCMetadataCache\":\"true\",\"pipelines.useUCMetadataCacheDuringUpdate\":\"true\",\"pipelines.useUpdateWarmPoolManagerForAllUpdates\":\"true\",\"pipelines.useUuidPrefixForExpectations\":\"true\",\"pipelines.useViewsInReconciliationFlowQueries\":\"true\",\"pipelines.verticalAutoscaling.pipelineEnabled\":\"true\",\"source\":\"/Volumes/dbacademy/ops/labuser11058730_1754017152@vocareum_com\",\"spark.databricks.cloudFiles.recordEventChanges\":\"false\",\"spark.databricks.dataLineage.mergeIntoV2Enabled\":\"false\",\"spark.databricks.photon.scan.minBatchSize\":\"256\",\"spark.databricks.sql.rowColumnAccess.mvst.enabled\":\"true\",\"spark.databricks.sqlservice.history.liveQueryProfile.enabled\":\"true\",\"spark.databricks.sqlservice.history.multiBatchProfileEnabled\":\"true\",\"spark.databricks.streaming.dynamicAdmissionControl.cloudFiles.enabled\":\"true\",\"spark.databricks.unityCatalog.glue.federation.enabled\":\"true\",\"spark.databricks.unityCatalog.hms.federation.enableDbfsSupport\":\"true\",\"spark.databricks.unityCatalog.hms.federation.enabled\":\"true\",\"spark.databricks.unityCatalog.lakehouseFederation.writes.enabled\":\"true\",\"spark.sql.optimizer.optimizeCsvJsonExprs.useSchemaField\":\"false\",\"pipelines.predictiveOptimization.enabled\":\"true\",\"pipelines.maintenance.disabled\":\"true\",\"pipelines.maxFlowRetryAttempts\":\"0\"},\"libraries\":[{\"glob\":{\"include\":\"/Workspace/Users/labuser11058730_1754017152@vocareum.com/build-data-pipelines-with-lakeflow-declarative-pipelines-3.0.2/Build Data Pipelines with Lakeflow Declarative Pipelines/5 - Deploying a Pipeline to Production Project/orders/**\"}},{\"glob\":{\"include\":\"/Workspace/Users/labuser11058730_1754017152@vocareum.com/build-data-pipelines-with-lakeflow-declarative-pipelines-3.0.2/Build Data Pipelines with Lakeflow Declarative Pipelines/5 - Deploying a Pipeline to Production Project/status/**\"}}],\"schema\":\"default\",\"continuous\":false,\"development\":false,\"photon\":true,\"edition\":\"ADVANCED\",\"channel\":\"PREVIEW\",\"catalog\":\"labuser11058730_1754017152\",\"serverless\":true,\"event_log\":{\"name\":\"event_log_demo_5\",\"schema\":\"default\",\"catalog\":\"labuser11058730_1754017152\"},\"root_path\":\"/Workspace/Users/labuser11058730_1754017152@vocareum.com/build-data-pipelines-with-lakeflow-declarative-pipelines-3.0.2/Build Data Pipelines with Lakeflow Declarative Pipelines/5 - Deploying a Pipeline to Production Project\"},\"failed_attempts\":0,\"full_refresh\":false,\"run_as_user_id\":70949121692270,\"runtime_version\":{\"dbr_version\":\"16.4\",\"universe_commit\":\"a34e2cdbeb8f369536e943c361d892db7d6f590b\",\"runtime_commit\":\"c72685e185325c58372a549382c10d183f3b626c\",\"channel\":\"PREVIEW\",\"image_key\":\"dlt:16.4.4-delta-pipelines-photon-dlt-release-dp-nightly-2025.29.thu.05.27-rc0-commit-e1fadf8-image-dc141cf\"},\"validate_only\":false,\"development\":true,\"explore_only\":false}}</td><td>null</td><td>null</td></tr><tr><td>d00d4a40-6ea0-11f0-a268-aa11d67e9c2a</td><td>update_progress</td><td>{\"update_progress\":{\"state\":\"SETTING_UP_TABLES\"}}</td><td>null</td><td>null</td></tr><tr><td>d095b420-6ea0-11f0-a268-aa11d67e9c2a</td><td>dataset_life_cycle</td><td>{\"dataset_life_cycle\":{\"state\":\"ACTIVE\",\"dataset_type\":\"STREAMING_TABLE\"}}</td><td>null</td><td>null</td></tr><tr><td>d09f7820-6ea0-11f0-a268-aa11d67e9c2a</td><td>dataset_life_cycle</td><td>{\"dataset_life_cycle\":{\"state\":\"ACTIVE\",\"dataset_type\":\"STREAMING_TABLE\"}}</td><td>null</td><td>null</td></tr><tr><td>d0ab5f00-6ea0-11f0-a268-aa11d67e9c2a</td><td>dataset_life_cycle</td><td>{\"dataset_life_cycle\":{\"state\":\"ACTIVE\",\"dataset_type\":\"STREAMING_TABLE\"}}</td><td>null</td><td>null</td></tr><tr><td>d0bbd9c0-6ea0-11f0-a268-aa11d67e9c2a</td><td>dataset_life_cycle</td><td>{\"dataset_life_cycle\":{\"state\":\"ACTIVE\",\"dataset_type\":\"MATERIALIZED_VIEW\"}}</td><td>null</td><td>null</td></tr><tr><td>d0ca0a90-6ea0-11f0-a268-aa11d67e9c2a</td><td>dataset_life_cycle</td><td>{\"dataset_life_cycle\":{\"state\":\"ACTIVE\",\"dataset_type\":\"STREAMING_TABLE\"}}</td><td>null</td><td>null</td></tr><tr><td>d0d5a350-6ea0-11f0-a268-aa11d67e9c2a</td><td>dataset_life_cycle</td><td>{\"dataset_life_cycle\":{\"state\":\"ACTIVE\",\"dataset_type\":\"MATERIALIZED_VIEW\"}}</td><td>null</td><td>null</td></tr><tr><td>d0e8b620-6ea0-11f0-a268-aa11d67e9c2a</td><td>dataset_life_cycle</td><td>{\"dataset_life_cycle\":{\"state\":\"ACTIVE\",\"dataset_type\":\"MATERIALIZED_VIEW\"}}</td><td>null</td><td>null</td></tr><tr><td>d0f7aa40-6ea0-11f0-a268-aa11d67e9c2a</td><td>dataset_life_cycle</td><td>{\"dataset_life_cycle\":{\"state\":\"ACTIVE\",\"dataset_type\":\"MATERIALIZED_VIEW\"}}</td><td>null</td><td>null</td></tr><tr><td>d25ae3c0-6ea0-11f0-a268-aa11d67e9c2a</td><td>flow_definition</td><td>{\"flow_definition\":{\"output_dataset\":\"labuser11058730_1754017152.1_bronze_db.status_bronze_demo5\",\"explain_text\":\"'Project [*, 'current_timestamp() AS processing_time#14847, '_metadata.file_name AS source_file#14848]\",\"schema_json\":\"{\\\"type\\\":\\\"struct\\\",\\\"fields\\\":[{\\\"name\\\":\\\"order_id\\\",\\\"type\\\":\\\"long\\\",\\\"nullable\\\":true,\\\"metadata\\\":{}},{\\\"name\\\":\\\"order_status\\\",\\\"type\\\":\\\"string\\\",\\\"nullable\\\":true,\\\"metadata\\\":{}},{\\\"name\\\":\\\"status_timestamp\\\",\\\"type\\\":\\\"long\\\",\\\"nullable\\\":true,\\\"metadata\\\":{}},{\\\"name\\\":\\\"_rescued_data\\\",\\\"type\\\":\\\"string\\\",\\\"nullable\\\":true,\\\"metadata\\\":{}},{\\\"name\\\":\\\"processing_time\\\",\\\"type\\\":\\\"timestamp\\\",\\\"nullable\\\":false,\\\"metadata\\\":{}},{\\\"name\\\":\\\"source_file\\\",\\\"type\\\":\\\"string\\\",\\\"nullable\\\":false,\\\"metadata\\\":{}}]}\",\"schema\":[{\"name\":\"order_id\",\"path\":[\"order_id\"],\"data_type\":\"LONG\"},{\"name\":\"order_status\",\"path\":[\"order_status\"],\"data_type\":\"STRING\"},{\"name\":\"status_timestamp\",\"path\":[\"status_timestamp\"],\"data_type\":\"LONG\"},{\"name\":\"_rescued_data\",\"path\":[\"_rescued_data\"],\"data_type\":\"STRING\"},{\"name\":\"processing_time\",\"path\":[\"processing_time\"],\"data_type\":\"TIMESTAMP\"},{\"name\":\"source_file\",\"path\":[\"source_file\"],\"data_type\":\"STRING\"}],\"flow_type\":\"APPEND\",\"comment\":\"Ingest raw JSON order status files from cloud storage\",\"language\":\"SQL\",\"notebook_path\":\"/Workspace/Users/labuser11058730_1754017152@vocareum.com/build-data-pipelines-with-lakeflow-declarative-pipelines-3.0.2/Build Data Pipelines with Lakeflow Declarative Pipelines/5 - Deploying a Pipeline to Production Project/status/status_pipeline.sql\",\"once\":false}}</td><td>null</td><td>null</td></tr><tr><td>d25b58f0-6ea0-11f0-a268-aa11d67e9c2a</td><td>flow_definition</td><td>{\"flow_definition\":{\"output_dataset\":\"labuser11058730_1754017152.1_bronze_db.orders_bronze_demo5\",\"explain_text\":\"'Project [*, 'current_timestamp() AS processing_time#14857, '_metadata.file_name AS source_file#14858]\",\"schema_json\":\"{\\\"type\\\":\\\"struct\\\",\\\"fields\\\":[{\\\"name\\\":\\\"customer_id\\\",\\\"type\\\":\\\"long\\\",\\\"nullable\\\":true,\\\"metadata\\\":{}},{\\\"name\\\":\\\"notifications\\\",\\\"type\\\":\\\"string\\\",\\\"nullable\\\":true,\\\"metadata\\\":{}},{\\\"name\\\":\\\"order_id\\\",\\\"type\\\":\\\"long\\\",\\\"nullable\\\":true,\\\"metadata\\\":{}},{\\\"name\\\":\\\"order_timestamp\\\",\\\"type\\\":\\\"long\\\",\\\"nullable\\\":true,\\\"metadata\\\":{}},{\\\"name\\\":\\\"_rescued_data\\\",\\\"type\\\":\\\"string\\\",\\\"nullable\\\":true,\\\"metadata\\\":{}},{\\\"name\\\":\\\"processing_time\\\",\\\"type\\\":\\\"timestamp\\\",\\\"nullable\\\":false,\\\"metadata\\\":{}},{\\\"name\\\":\\\"source_file\\\",\\\"type\\\":\\\"string\\\",\\\"nullable\\\":false,\\\"metadata\\\":{}}]}\",\"schema\":[{\"name\":\"customer_id\",\"path\":[\"customer_id\"],\"data_type\":\"LONG\"},{\"name\":\"notifications\",\"path\":[\"notifications\"],\"data_type\":\"STRING\"},{\"name\":\"order_id\",\"path\":[\"order_id\"],\"data_type\":\"LONG\"},{\"name\":\"order_timestamp\",\"path\":[\"order_timestamp\"],\"data_type\":\"LONG\"},{\"name\":\"_rescued_data\",\"path\":[\"_rescued_data\"],\"data_type\":\"STRING\"},{\"name\":\"processing_time\",\"path\":[\"processing_time\"],\"data_type\":\"TIMESTAMP\"},{\"name\":\"source_file\",\"path\":[\"source_file\"],\"data_type\":\"STRING\"}],\"flow_type\":\"APPEND\",\"comment\":\"Ingest order JSON files from cloud storage\",\"language\":\"SQL\",\"notebook_path\":\"/Workspace/Users/labuser11058730_1754017152@vocareum.com/build-data-pipelines-with-lakeflow-declarative-pipelines-3.0.2/Build Data Pipelines with Lakeflow Declarative Pipelines/5 - Deploying a Pipeline to Production Project/orders/orders_pipeline.sql\",\"once\":false}}</td><td>null</td><td>null</td></tr><tr><td>d25ba710-6ea0-11f0-a268-aa11d67e9c2a</td><td>flow_definition</td><td>{\"flow_definition\":{\"input_datasets\":[\"labuser11058730_1754017152.1_bronze_db.orders_bronze_demo5\"],\"output_dataset\":\"labuser11058730_1754017152.2_silver_db.orders_silver_demo5\",\"explain_text\":\"'Project ['order_id, 'timestamp('order_timestamp) AS order_timestamp#14860, 'customer_id, 'notifications]\",\"schema_json\":\"{\\\"type\\\":\\\"struct\\\",\\\"fields\\\":[{\\\"name\\\":\\\"order_id\\\",\\\"type\\\":\\\"long\\\",\\\"nullable\\\":true,\\\"metadata\\\":{}},{\\\"name\\\":\\\"order_timestamp\\\",\\\"type\\\":\\\"timestamp\\\",\\\"nullable\\\":true,\\\"metadata\\\":{}},{\\\"name\\\":\\\"customer_id\\\",\\\"type\\\":\\\"long\\\",\\\"nullable\\\":true,\\\"metadata\\\":{}},{\\\"name\\\":\\\"notifications\\\",\\\"type\\\":\\\"string\\\",\\\"nullable\\\":true,\\\"metadata\\\":{}}]}\",\"schema\":[{\"name\":\"order_id\",\"path\":[\"order_id\"],\"data_type\":\"LONG\"},{\"name\":\"order_timestamp\",\"path\":[\"order_timestamp\"],\"data_type\":\"TIMESTAMP\"},{\"name\":\"customer_id\",\"path\":[\"customer_id\"],\"data_type\":\"LONG\"},{\"name\":\"notifications\",\"path\":[\"notifications\"],\"data_type\":\"STRING\"}],\"flow_type\":\"APPEND\",\"comment\":\"Silver clean orders table\",\"language\":\"SQL\",\"notebook_path\":\"/Workspace/Users/labuser11058730_1754017152@vocareum.com/build-data-pipelines-with-lakeflow-declarative-pipelines-3.0.2/Build Data Pipelines with Lakeflow Declarative Pipelines/5 - Deploying a Pipeline to Production Project/orders/orders_pipeline.sql\",\"once\":false}}</td><td>null</td><td>null</td></tr><tr><td>d25bf530-6ea0-11f0-a268-aa11d67e9c2a</td><td>flow_definition</td><td>{\"flow_definition\":{\"input_datasets\":[\"labuser11058730_1754017152.1_bronze_db.status_bronze_demo5\"],\"output_dataset\":\"labuser11058730_1754017152.2_silver_db.status_silver_demo5\",\"explain_text\":\"'Project ['order_id, 'order_status, 'timestamp('status_timestamp) AS order_status_timestamp#14850]\",\"schema_json\":\"{\\\"type\\\":\\\"struct\\\",\\\"fields\\\":[{\\\"name\\\":\\\"order_id\\\",\\\"type\\\":\\\"long\\\",\\\"nullable\\\":true,\\\"metadata\\\":{}},{\\\"name\\\":\\\"order_status\\\",\\\"type\\\":\\\"string\\\",\\\"nullable\\\":true,\\\"metadata\\\":{}},{\\\"name\\\":\\\"order_status_timestamp\\\",\\\"type\\\":\\\"timestamp\\\",\\\"nullable\\\":true,\\\"metadata\\\":{}}]}\",\"schema\":[{\"name\":\"order_id\",\"path\":[\"order_id\"],\"data_type\":\"LONG\"},{\"name\":\"order_status\",\"path\":[\"order_status\"],\"data_type\":\"STRING\"},{\"name\":\"order_status_timestamp\",\"path\":[\"order_status_timestamp\"],\"data_type\":\"TIMESTAMP\"}],\"flow_type\":\"APPEND\",\"comment\":\"Order with each status and timestamp\",\"language\":\"SQL\",\"notebook_path\":\"/Workspace/Users/labuser11058730_1754017152@vocareum.com/build-data-pipelines-with-lakeflow-declarative-pipelines-3.0.2/Build Data Pipelines with Lakeflow Declarative Pipelines/5 - Deploying a Pipeline to Production Project/status/status_pipeline.sql\",\"once\":false}}</td><td>null</td><td>null</td></tr><tr><td>d25c4350-6ea0-11f0-a268-aa11d67e9c2a</td><td>flow_definition</td><td>{\"flow_definition\":{\"input_datasets\":[\"labuser11058730_1754017152.2_silver_db.orders_silver_demo5\"],\"output_dataset\":\"labuser11058730_1754017152.3_gold_db.gold_orders_by_date_demo5\",\"explain_text\":\"'Aggregate ['date('order_timestamp)], ['date('order_timestamp) AS order_date#14862, 'count(1) AS total_daily_orders#14863]\",\"schema_json\":\"{\\\"type\\\":\\\"struct\\\",\\\"fields\\\":[{\\\"name\\\":\\\"order_date\\\",\\\"type\\\":\\\"date\\\",\\\"nullable\\\":true,\\\"metadata\\\":{}},{\\\"name\\\":\\\"total_daily_orders\\\",\\\"type\\\":\\\"long\\\",\\\"nullable\\\":false,\\\"metadata\\\":{}}]}\",\"schema\":[{\"name\":\"order_date\",\"path\":[\"order_date\"],\"data_type\":\"DATE\"},{\"name\":\"total_daily_orders\",\"path\":[\"total_daily_orders\"],\"data_type\":\"LONG\"}],\"flow_type\":\"MATERIALIZED_VIEW\",\"comment\":\"Aggregate gold data for downstream analysis\",\"language\":\"SQL\",\"notebook_path\":\"/Workspace/Users/labuser11058730_1754017152@vocareum.com/build-data-pipelines-with-lakeflow-declarative-pipelines-3.0.2/Build Data Pipelines with Lakeflow Declarative Pipelines/5 - Deploying a Pipeline to Production Project/orders/orders_pipeline.sql\",\"once\":false}}</td><td>null</td><td>null</td></tr><tr><td>d25c9170-6ea0-11f0-a268-aa11d67e9c2a</td><td>flow_definition</td><td>{\"flow_definition\":{\"input_datasets\":[\"labuser11058730_1754017152.2_silver_db.orders_silver_demo5\",\"labuser11058730_1754017152.2_silver_db.status_silver_demo5\"],\"output_dataset\":\"labuser11058730_1754017152.3_gold_db.full_order_info_gold_demo5\",\"explain_text\":\"'Project ['orders.order_id, 'orders.order_timestamp, 'status.order_status, 'status.order_status_timestamp]\",\"schema_json\":\"{\\\"type\\\":\\\"struct\\\",\\\"fields\\\":[{\\\"name\\\":\\\"order_id\\\",\\\"type\\\":\\\"long\\\",\\\"nullable\\\":true,\\\"metadata\\\":{}},{\\\"name\\\":\\\"order_timestamp\\\",\\\"type\\\":\\\"timestamp\\\",\\\"nullable\\\":true,\\\"metadata\\\":{}},{\\\"name\\\":\\\"order_status\\\",\\\"type\\\":\\\"string\\\",\\\"nullable\\\":true,\\\"metadata\\\":{}},{\\\"name\\\":\\\"order_status_timestamp\\\",\\\"type\\\":\\\"timestamp\\\",\\\"nullable\\\":true,\\\"metadata\\\":{}}]}\",\"schema\":[{\"name\":\"order_id\",\"path\":[\"order_id\"],\"data_type\":\"LONG\"},{\"name\":\"order_timestamp\",\"path\":[\"order_timestamp\"],\"data_type\":\"TIMESTAMP\"},{\"name\":\"order_status\",\"path\":[\"order_status\"],\"data_type\":\"STRING\"},{\"name\":\"order_status_timestamp\",\"path\":[\"order_status_timestamp\"],\"data_type\":\"TIMESTAMP\"}],\"flow_type\":\"MATERIALIZED_VIEW\",\"comment\":\"Joining the orders and order status silver tables to view all orders with each individual status per order\",\"language\":\"SQL\",\"notebook_path\":\"/Workspace/Users/labuser11058730_1754017152@vocareum.com/build-data-pipelines-with-lakeflow-declarative-pipelines-3.0.2/Build Data Pipelines with Lakeflow Declarative Pipelines/5 - Deploying a Pipeline to Production Project/status/status_pipeline.sql\",\"once\":false}}</td><td>null</td><td>null</td></tr><tr><td>d25cb880-6ea0-11f0-a268-aa11d67e9c2a</td><td>flow_definition</td><td>{\"flow_definition\":{\"input_datasets\":[\"labuser11058730_1754017152.3_gold_db.full_order_info_gold_demo5\"],\"output_dataset\":\"labuser11058730_1754017152.3_gold_db.delivered_orders_gold_demo5\",\"explain_text\":\"'Project ['order_id, 'order_timestamp, 'order_status, 'order_status_timestamp, timestampdiff(DAY, 'order_timestamp, 'order_status_timestamp, None) AS days_to_delivery#14853]\",\"schema_json\":\"{\\\"type\\\":\\\"struct\\\",\\\"fields\\\":[{\\\"name\\\":\\\"order_id\\\",\\\"type\\\":\\\"long\\\",\\\"nullable\\\":true,\\\"metadata\\\":{}},{\\\"name\\\":\\\"order_timestamp\\\",\\\"type\\\":\\\"timestamp\\\",\\\"nullable\\\":true,\\\"metadata\\\":{}},{\\\"name\\\":\\\"order_status\\\",\\\"type\\\":\\\"string\\\",\\\"nullable\\\":true,\\\"metadata\\\":{}},{\\\"name\\\":\\\"order_status_timestamp\\\",\\\"type\\\":\\\"timestamp\\\",\\\"nullable\\\":true,\\\"metadata\\\":{}},{\\\"name\\\":\\\"days_to_delivery\\\",\\\"type\\\":\\\"long\\\",\\\"nullable\\\":true,\\\"metadata\\\":{}}]}\",\"schema\":[{\"name\":\"order_id\",\"path\":[\"order_id\"],\"data_type\":\"LONG\"},{\"name\":\"order_timestamp\",\"path\":[\"order_timestamp\"],\"data_type\":\"TIMESTAMP\"},{\"name\":\"order_status\",\"path\":[\"order_status\"],\"data_type\":\"STRING\"},{\"name\":\"order_status_timestamp\",\"path\":[\"order_status_timestamp\"],\"data_type\":\"TIMESTAMP\"},{\"name\":\"days_to_delivery\",\"path\":[\"days_to_delivery\"],\"data_type\":\"LONG\"}],\"flow_type\":\"MATERIALIZED_VIEW\",\"comment\":\"All delivered orders\",\"language\":\"SQL\",\"notebook_path\":\"/Workspace/Users/labuser11058730_1754017152@vocareum.com/build-data-pipelines-with-lakeflow-declarative-pipelines-3.0.2/Build Data Pipelines with Lakeflow Declarative Pipelines/5 - Deploying a Pipeline to Production Project/status/status_pipeline.sql\",\"once\":false}}</td><td>null</td><td>null</td></tr><tr><td>d25d06a0-6ea0-11f0-a268-aa11d67e9c2a</td><td>flow_definition</td><td>{\"flow_definition\":{\"input_datasets\":[\"labuser11058730_1754017152.3_gold_db.full_order_info_gold_demo5\"],\"output_dataset\":\"labuser11058730_1754017152.3_gold_db.cancelled_orders_gold_demo5\",\"explain_text\":\"'Project ['order_id, 'order_timestamp, 'order_status, 'order_status_timestamp, timestampdiff(DAY, 'order_timestamp, 'order_status_timestamp, None) AS days_to_cancel#14852]\",\"schema_json\":\"{\\\"type\\\":\\\"struct\\\",\\\"fields\\\":[{\\\"name\\\":\\\"order_id\\\",\\\"type\\\":\\\"long\\\",\\\"nullable\\\":true,\\\"metadata\\\":{}},{\\\"name\\\":\\\"order_timestamp\\\",\\\"type\\\":\\\"timestamp\\\",\\\"nullable\\\":true,\\\"metadata\\\":{}},{\\\"name\\\":\\\"order_status\\\",\\\"type\\\":\\\"string\\\",\\\"nullable\\\":true,\\\"metadata\\\":{}},{\\\"name\\\":\\\"order_status_timestamp\\\",\\\"type\\\":\\\"timestamp\\\",\\\"nullable\\\":true,\\\"metadata\\\":{}},{\\\"name\\\":\\\"days_to_cancel\\\",\\\"type\\\":\\\"long\\\",\\\"nullable\\\":true,\\\"metadata\\\":{}}]}\",\"schema\":[{\"name\":\"order_id\",\"path\":[\"order_id\"],\"data_type\":\"LONG\"},{\"name\":\"order_timestamp\",\"path\":[\"order_timestamp\"],\"data_type\":\"TIMESTAMP\"},{\"name\":\"order_status\",\"path\":[\"order_status\"],\"data_type\":\"STRING\"},{\"name\":\"order_status_timestamp\",\"path\":[\"order_status_timestamp\"],\"data_type\":\"TIMESTAMP\"},{\"name\":\"days_to_cancel\",\"path\":[\"days_to_cancel\"],\"data_type\":\"LONG\"}],\"flow_type\":\"MATERIALIZED_VIEW\",\"comment\":\"All cancelled orders\",\"language\":\"SQL\",\"notebook_path\":\"/Workspace/Users/labuser11058730_1754017152@vocareum.com/build-data-pipelines-with-lakeflow-declarative-pipelines-3.0.2/Build Data Pipelines with Lakeflow Declarative Pipelines/5 - Deploying a Pipeline to Production Project/status/status_pipeline.sql\",\"once\":false}}</td><td>null</td><td>null</td></tr><tr><td>d25dc9f0-6ea0-11f0-a268-aa11d67e9c2a</td><td>dataset_definition</td><td>{\"dataset_definition\":{\"dataset_type\":\"STREAMING_TABLE\",\"table_properties\":[{\"key\":\"quality\",\"value\":\"bronze\"},{\"key\":\"pipelines.reset.allowed\",\"value\":\"false\"}],\"schema_json\":\"{\\\"type\\\":\\\"struct\\\",\\\"fields\\\":[{\\\"name\\\":\\\"customer_id\\\",\\\"type\\\":\\\"long\\\",\\\"nullable\\\":true,\\\"metadata\\\":{}},{\\\"name\\\":\\\"notifications\\\",\\\"type\\\":\\\"string\\\",\\\"nullable\\\":true,\\\"metadata\\\":{}},{\\\"name\\\":\\\"order_id\\\",\\\"type\\\":\\\"long\\\",\\\"nullable\\\":true,\\\"metadata\\\":{}},{\\\"name\\\":\\\"order_timestamp\\\",\\\"type\\\":\\\"long\\\",\\\"nullable\\\":true,\\\"metadata\\\":{}},{\\\"name\\\":\\\"_rescued_data\\\",\\\"type\\\":\\\"string\\\",\\\"nullable\\\":true,\\\"metadata\\\":{}},{\\\"name\\\":\\\"processing_time\\\",\\\"type\\\":\\\"timestamp\\\",\\\"nullable\\\":true,\\\"metadata\\\":{}},{\\\"name\\\":\\\"source_file\\\",\\\"type\\\":\\\"string\\\",\\\"nullable\\\":true,\\\"metadata\\\":{}}]}\",\"schema\":[{\"name\":\"customer_id\",\"path\":[\"customer_id\"],\"data_type\":\"LONG\"},{\"name\":\"notifications\",\"path\":[\"notifications\"],\"data_type\":\"STRING\"},{\"name\":\"order_id\",\"path\":[\"order_id\"],\"data_type\":\"LONG\"},{\"name\":\"order_timestamp\",\"path\":[\"order_timestamp\"],\"data_type\":\"LONG\"},{\"name\":\"_rescued_data\",\"path\":[\"_rescued_data\"],\"data_type\":\"STRING\"},{\"name\":\"processing_time\",\"path\":[\"processing_time\"],\"data_type\":\"TIMESTAMP\"},{\"name\":\"source_file\",\"path\":[\"source_file\"],\"data_type\":\"STRING\"}],\"comment\":\"Ingest order JSON files from cloud storage\",\"metastore_name\":\"`labuser11058730_1754017152`.`1_bronze_db`.`orders_bronze_demo5`\",\"language\":\"SQL\",\"notebook_path\":\"/Workspace/Users/labuser11058730_1754017152@vocareum.com/build-data-pipelines-with-lakeflow-declarative-pipelines-3.0.2/Build Data Pipelines with Lakeflow Declarative Pipelines/5 - Deploying a Pipeline to Production Project/orders/orders_pipeline.sql\",\"num_flows\":1,\"is_private\":true}}</td><td>null</td><td>null</td></tr><tr><td>d25e6630-6ea0-11f0-a268-aa11d67e9c2a</td><td>dataset_definition</td><td>{\"dataset_definition\":{\"dataset_type\":\"MATERIALIZED_VIEW\",\"table_properties\":[{\"key\":\"quality\",\"value\":\"gold\"}],\"schema_json\":\"{\\\"type\\\":\\\"struct\\\",\\\"fields\\\":[{\\\"name\\\":\\\"order_id\\\",\\\"type\\\":\\\"long\\\",\\\"nullable\\\":true,\\\"metadata\\\":{}},{\\\"name\\\":\\\"order_timestamp\\\",\\\"type\\\":\\\"timestamp\\\",\\\"nullable\\\":true,\\\"metadata\\\":{}},{\\\"name\\\":\\\"order_status\\\",\\\"type\\\":\\\"string\\\",\\\"nullable\\\":true,\\\"metadata\\\":{}},{\\\"name\\\":\\\"order_status_timestamp\\\",\\\"type\\\":\\\"timestamp\\\",\\\"nullable\\\":true,\\\"metadata\\\":{}},{\\\"name\\\":\\\"days_to_delivery\\\",\\\"type\\\":\\\"long\\\",\\\"nullable\\\":true,\\\"metadata\\\":{}}]}\",\"schema\":[{\"name\":\"order_id\",\"path\":[\"order_id\"],\"data_type\":\"LONG\"},{\"name\":\"order_timestamp\",\"path\":[\"order_timestamp\"],\"data_type\":\"TIMESTAMP\"},{\"name\":\"order_status\",\"path\":[\"order_status\"],\"data_type\":\"STRING\"},{\"name\":\"order_status_timestamp\",\"path\":[\"order_status_timestamp\"],\"data_type\":\"TIMESTAMP\"},{\"name\":\"days_to_delivery\",\"path\":[\"days_to_delivery\"],\"data_type\":\"LONG\"}],\"comment\":\"All delivered orders\",\"metastore_name\":\"`labuser11058730_1754017152`.`3_gold_db`.`delivered_orders_gold_demo5`\",\"language\":\"SQL\",\"notebook_path\":\"/Workspace/Users/labuser11058730_1754017152@vocareum.com/build-data-pipelines-with-lakeflow-declarative-pipelines-3.0.2/Build Data Pipelines with Lakeflow Declarative Pipelines/5 - Deploying a Pipeline to Production Project/status/status_pipeline.sql\",\"num_flows\":1,\"is_private\":true}}</td><td>null</td><td>null</td></tr><tr><td>d25f2980-6ea0-11f0-a268-aa11d67e9c2a</td><td>dataset_definition</td><td>{\"dataset_definition\":{\"dataset_type\":\"STREAMING_TABLE\",\"table_properties\":[{\"key\":\"quality\",\"value\":\"silver\"}],\"schema_json\":\"{\\\"type\\\":\\\"struct\\\",\\\"fields\\\":[{\\\"name\\\":\\\"order_id\\\",\\\"type\\\":\\\"long\\\",\\\"nullable\\\":true,\\\"metadata\\\":{}},{\\\"name\\\":\\\"order_timestamp\\\",\\\"type\\\":\\\"timestamp\\\",\\\"nullable\\\":true,\\\"metadata\\\":{}},{\\\"name\\\":\\\"customer_id\\\",\\\"type\\\":\\\"long\\\",\\\"nullable\\\":true,\\\"metadata\\\":{}},{\\\"name\\\":\\\"notifications\\\",\\\"type\\\":\\\"string\\\",\\\"nullable\\\":true,\\\"metadata\\\":{}}]}\",\"schema\":[{\"name\":\"order_id\",\"path\":[\"order_id\"],\"data_type\":\"LONG\"},{\"name\":\"order_timestamp\",\"path\":[\"order_timestamp\"],\"data_type\":\"TIMESTAMP\"},{\"name\":\"customer_id\",\"path\":[\"customer_id\"],\"data_type\":\"LONG\"},{\"name\":\"notifications\",\"path\":[\"notifications\"],\"data_type\":\"STRING\"}],\"comment\":\"Silver clean orders table\",\"expectations\":[{\"name\":\"valid_notifications\",\"action\":\"ALLOW\"},{\"name\":\"valid_date\",\"action\":\"DROP\"},{\"name\":\"valid_id\",\"action\":\"FAIL\"}],\"metastore_name\":\"`labuser11058730_1754017152`.`2_silver_db`.`orders_silver_demo5`\",\"language\":\"SQL\",\"notebook_path\":\"/Workspace/Users/labuser11058730_1754017152@vocareum.com/build-data-pipelines-with-lakeflow-declarative-pipelines-3.0.2/Build Data Pipelines with Lakeflow Declarative Pipelines/5 - Deploying a Pipeline to Production Project/orders/orders_pipeline.sql\",\"num_flows\":1,\"is_private\":true}}</td><td>null</td><td>null</td></tr><tr><td>d25fc5c0-6ea0-11f0-a268-aa11d67e9c2a</td><td>dataset_definition</td><td>{\"dataset_definition\":{\"dataset_type\":\"STREAMING_TABLE\",\"table_properties\":[{\"key\":\"quality\",\"value\":\"bronze\"},{\"key\":\"pipelines.reset.allowed\",\"value\":\"false\"}],\"schema_json\":\"{\\\"type\\\":\\\"struct\\\",\\\"fields\\\":[{\\\"name\\\":\\\"order_id\\\",\\\"type\\\":\\\"long\\\",\\\"nullable\\\":true,\\\"metadata\\\":{}},{\\\"name\\\":\\\"order_status\\\",\\\"type\\\":\\\"string\\\",\\\"nullable\\\":true,\\\"metadata\\\":{}},{\\\"name\\\":\\\"status_timestamp\\\",\\\"type\\\":\\\"long\\\",\\\"nullable\\\":true,\\\"metadata\\\":{}},{\\\"name\\\":\\\"_rescued_data\\\",\\\"type\\\":\\\"string\\\",\\\"nullable\\\":true,\\\"metadata\\\":{}},{\\\"name\\\":\\\"processing_time\\\",\\\"type\\\":\\\"timestamp\\\",\\\"nullable\\\":true,\\\"metadata\\\":{}},{\\\"name\\\":\\\"source_file\\\",\\\"type\\\":\\\"string\\\",\\\"nullable\\\":true,\\\"metadata\\\":{}}]}\",\"schema\":[{\"name\":\"order_id\",\"path\":[\"order_id\"],\"data_type\":\"LONG\"},{\"name\":\"order_status\",\"path\":[\"order_status\"],\"data_type\":\"STRING\"},{\"name\":\"status_timestamp\",\"path\":[\"status_timestamp\"],\"data_type\":\"LONG\"},{\"name\":\"_rescued_data\",\"path\":[\"_rescued_data\"],\"data_type\":\"STRING\"},{\"name\":\"processing_time\",\"path\":[\"processing_time\"],\"data_type\":\"TIMESTAMP\"},{\"name\":\"source_file\",\"path\":[\"source_file\"],\"data_type\":\"STRING\"}],\"comment\":\"Ingest raw JSON order status files from cloud storage\",\"metastore_name\":\"`labuser11058730_1754017152`.`1_bronze_db`.`status_bronze_demo5`\",\"language\":\"SQL\",\"notebook_path\":\"/Workspace/Users/labuser11058730_1754017152@vocareum.com/build-data-pipelines-with-lakeflow-declarative-pipelines-3.0.2/Build Data Pipelines with Lakeflow Declarative Pipelines/5 - Deploying a Pipeline to Production Project/status/status_pipeline.sql\",\"num_flows\":1,\"is_private\":true}}</td><td>null</td><td>null</td></tr><tr><td>d2608910-6ea0-11f0-a268-aa11d67e9c2a</td><td>dataset_definition</td><td>{\"dataset_definition\":{\"dataset_type\":\"STREAMING_TABLE\",\"table_properties\":[{\"key\":\"quality\",\"value\":\"silver\"}],\"schema_json\":\"{\\\"type\\\":\\\"struct\\\",\\\"fields\\\":[{\\\"name\\\":\\\"order_id\\\",\\\"type\\\":\\\"long\\\",\\\"nullable\\\":true,\\\"metadata\\\":{}},{\\\"name\\\":\\\"order_status\\\",\\\"type\\\":\\\"string\\\",\\\"nullable\\\":true,\\\"metadata\\\":{}},{\\\"name\\\":\\\"order_status_timestamp\\\",\\\"type\\\":\\\"timestamp\\\",\\\"nullable\\\":true,\\\"metadata\\\":{}}]}\",\"schema\":[{\"name\":\"order_id\",\"path\":[\"order_id\"],\"data_type\":\"LONG\"},{\"name\":\"order_status\",\"path\":[\"order_status\"],\"data_type\":\"STRING\"},{\"name\":\"order_status_timestamp\",\"path\":[\"order_status_timestamp\"],\"data_type\":\"TIMESTAMP\"}],\"comment\":\"Order with each status and timestamp\",\"expectations\":[{\"name\":\"valid_timestamp\",\"action\":\"DROP\"},{\"name\":\"valid_order_status\",\"action\":\"ALLOW\"}],\"metastore_name\":\"`labuser11058730_1754017152`.`2_silver_db`.`status_silver_demo5`\",\"language\":\"SQL\",\"notebook_path\":\"/Workspace/Users/labuser11058730_1754017152@vocareum.com/build-data-pipelines-with-lakeflow-declarative-pipelines-3.0.2/Build Data Pipelines with Lakeflow Declarative Pipelines/5 - Deploying a Pipeline to Production Project/status/status_pipeline.sql\",\"num_flows\":1,\"is_private\":true}}</td><td>null</td><td>null</td></tr><tr><td>d2612550-6ea0-11f0-a268-aa11d67e9c2a</td><td>dataset_definition</td><td>{\"dataset_definition\":{\"dataset_type\":\"MATERIALIZED_VIEW\",\"table_properties\":[{\"key\":\"quality\",\"value\":\"gold\"}],\"schema_json\":\"{\\\"type\\\":\\\"struct\\\",\\\"fields\\\":[{\\\"name\\\":\\\"order_date\\\",\\\"type\\\":\\\"date\\\",\\\"nullable\\\":true,\\\"metadata\\\":{}},{\\\"name\\\":\\\"total_daily_orders\\\",\\\"type\\\":\\\"long\\\",\\\"nullable\\\":true,\\\"metadata\\\":{}}]}\",\"schema\":[{\"name\":\"order_date\",\"path\":[\"order_date\"],\"data_type\":\"DATE\"},{\"name\":\"total_daily_orders\",\"path\":[\"total_daily_orders\"],\"data_type\":\"LONG\"}],\"comment\":\"Aggregate gold data for downstream analysis\",\"metastore_name\":\"`labuser11058730_1754017152`.`3_gold_db`.`gold_orders_by_date_demo5`\",\"language\":\"SQL\",\"notebook_path\":\"/Workspace/Users/labuser11058730_1754017152@vocareum.com/build-data-pipelines-with-lakeflow-declarative-pipelines-3.0.2/Build Data Pipelines with Lakeflow Declarative Pipelines/5 - Deploying a Pipeline to Production Project/orders/orders_pipeline.sql\",\"num_flows\":1,\"is_private\":true}}</td><td>null</td><td>null</td></tr><tr><td>d261c190-6ea0-11f0-a268-aa11d67e9c2a</td><td>dataset_definition</td><td>{\"dataset_definition\":{\"dataset_type\":\"MATERIALIZED_VIEW\",\"table_properties\":[{\"key\":\"quality\",\"value\":\"gold\"}],\"schema_json\":\"{\\\"type\\\":\\\"struct\\\",\\\"fields\\\":[{\\\"name\\\":\\\"order_id\\\",\\\"type\\\":\\\"long\\\",\\\"nullable\\\":true,\\\"metadata\\\":{}},{\\\"name\\\":\\\"order_timestamp\\\",\\\"type\\\":\\\"timestamp\\\",\\\"nullable\\\":true,\\\"metadata\\\":{}},{\\\"name\\\":\\\"order_status\\\",\\\"type\\\":\\\"string\\\",\\\"nullable\\\":true,\\\"metadata\\\":{}},{\\\"name\\\":\\\"order_status_timestamp\\\",\\\"type\\\":\\\"timestamp\\\",\\\"nullable\\\":true,\\\"metadata\\\":{}},{\\\"name\\\":\\\"days_to_cancel\\\",\\\"type\\\":\\\"long\\\",\\\"nullable\\\":true,\\\"metadata\\\":{}}]}\",\"schema\":[{\"name\":\"order_id\",\"path\":[\"order_id\"],\"data_type\":\"LONG\"},{\"name\":\"order_timestamp\",\"path\":[\"order_timestamp\"],\"data_type\":\"TIMESTAMP\"},{\"name\":\"order_status\",\"path\":[\"order_status\"],\"data_type\":\"STRING\"},{\"name\":\"order_status_timestamp\",\"path\":[\"order_status_timestamp\"],\"data_type\":\"TIMESTAMP\"},{\"name\":\"days_to_cancel\",\"path\":[\"days_to_cancel\"],\"data_type\":\"LONG\"}],\"comment\":\"All cancelled orders\",\"metastore_name\":\"`labuser11058730_1754017152`.`3_gold_db`.`cancelled_orders_gold_demo5`\",\"language\":\"SQL\",\"notebook_path\":\"/Workspace/Users/labuser11058730_1754017152@vocareum.com/build-data-pipelines-with-lakeflow-declarative-pipelines-3.0.2/Build Data Pipelines with Lakeflow Declarative Pipelines/5 - Deploying a Pipeline to Production Project/status/status_pipeline.sql\",\"num_flows\":1,\"is_private\":true}}</td><td>null</td><td>null</td></tr><tr><td>d2625dd0-6ea0-11f0-a268-aa11d67e9c2a</td><td>dataset_definition</td><td>{\"dataset_definition\":{\"dataset_type\":\"MATERIALIZED_VIEW\",\"table_properties\":[{\"key\":\"quality\",\"value\":\"gold\"}],\"schema_json\":\"{\\\"type\\\":\\\"struct\\\",\\\"fields\\\":[{\\\"name\\\":\\\"order_id\\\",\\\"type\\\":\\\"long\\\",\\\"nullable\\\":true,\\\"metadata\\\":{}},{\\\"name\\\":\\\"order_timestamp\\\",\\\"type\\\":\\\"timestamp\\\",\\\"nullable\\\":true,\\\"metadata\\\":{}},{\\\"name\\\":\\\"order_status\\\",\\\"type\\\":\\\"string\\\",\\\"nullable\\\":true,\\\"metadata\\\":{}},{\\\"name\\\":\\\"order_status_timestamp\\\",\\\"type\\\":\\\"timestamp\\\",\\\"nullable\\\":true,\\\"metadata\\\":{}}]}\",\"schema\":[{\"name\":\"order_id\",\"path\":[\"order_id\"],\"data_type\":\"LONG\"},{\"name\":\"order_timestamp\",\"path\":[\"order_timestamp\"],\"data_type\":\"TIMESTAMP\"},{\"name\":\"order_status\",\"path\":[\"order_status\"],\"data_type\":\"STRING\"},{\"name\":\"order_status_timestamp\",\"path\":[\"order_status_timestamp\"],\"data_type\":\"TIMESTAMP\"}],\"comment\":\"Joining the orders and order status silver tables to view all orders with each individual status per order\",\"metastore_name\":\"`labuser11058730_1754017152`.`3_gold_db`.`full_order_info_gold_demo5`\",\"language\":\"SQL\",\"notebook_path\":\"/Workspace/Users/labuser11058730_1754017152@vocareum.com/build-data-pipelines-with-lakeflow-declarative-pipelines-3.0.2/Build Data Pipelines with Lakeflow Declarative Pipelines/5 - Deploying a Pipeline to Production Project/status/status_pipeline.sql\",\"num_flows\":1,\"is_private\":true}}</td><td>null</td><td>null</td></tr><tr><td>d2801f00-6ea0-11f0-a268-aa11d67e9c2a</td><td>graph_created</td><td>{\"graph_created\":{}}</td><td>null</td><td>null</td></tr><tr><td>d2809430-6ea0-11f0-a268-aa11d67e9c2a</td><td>update_progress</td><td>{\"update_progress\":{\"state\":\"RUNNING\"}}</td><td>null</td><td>null</td></tr><tr><td>d2821ad0-6ea0-11f0-a268-aa11d67e9c2a</td><td>flow_progress</td><td>{\"flow_progress\":{\"status\":\"QUEUED\"}}</td><td>{\"status\":\"QUEUED\"}</td><td>null</td></tr><tr><td>d28268f0-6ea0-11f0-a268-aa11d67e9c2a</td><td>flow_progress</td><td>{\"flow_progress\":{\"status\":\"QUEUED\"}}</td><td>{\"status\":\"QUEUED\"}</td><td>null</td></tr><tr><td>d2829000-6ea0-11f0-a268-aa11d67e9c2a</td><td>flow_progress</td><td>{\"flow_progress\":{\"status\":\"QUEUED\"}}</td><td>{\"status\":\"QUEUED\"}</td><td>null</td></tr><tr><td>d283a170-6ea0-11f0-a268-aa11d67e9c2a</td><td>flow_progress</td><td>{\"flow_progress\":{\"status\":\"QUEUED\"}}</td><td>{\"status\":\"QUEUED\"}</td><td>null</td></tr><tr><td>d283ef90-6ea0-11f0-a268-aa11d67e9c2a</td><td>flow_progress</td><td>{\"flow_progress\":{\"status\":\"QUEUED\"}}</td><td>{\"status\":\"QUEUED\"}</td><td>null</td></tr><tr><td>d28416a0-6ea0-11f0-a268-aa11d67e9c2a</td><td>flow_progress</td><td>{\"flow_progress\":{\"status\":\"QUEUED\"}}</td><td>{\"status\":\"QUEUED\"}</td><td>null</td></tr><tr><td>d28464c0-6ea0-11f0-a268-aa11d67e9c2a</td><td>flow_progress</td><td>{\"flow_progress\":{\"status\":\"QUEUED\"}}</td><td>{\"status\":\"QUEUED\"}</td><td>null</td></tr><tr><td>d2848bd0-6ea0-11f0-a268-aa11d67e9c2a</td><td>flow_progress</td><td>{\"flow_progress\":{\"status\":\"QUEUED\"}}</td><td>{\"status\":\"QUEUED\"}</td><td>null</td></tr><tr><td>d2a162a0-6ea0-11f0-a268-aa11d67e9c2a</td><td>flow_progress</td><td>{\"flow_progress\":{\"status\":\"STARTING\"}}</td><td>{\"status\":\"STARTING\"}</td><td>null</td></tr><tr><td>d2c98410-6ea0-11f0-a268-aa11d67e9c2a</td><td>flow_progress</td><td>{\"flow_progress\":{\"status\":\"RUNNING\",\"metrics\":{}}}</td><td>{\"status\":\"RUNNING\",\"metrics\":{}}</td><td>null</td></tr><tr><td>d2e8a4d0-6ea0-11f0-a268-aa11d67e9c2a</td><td>flow_progress</td><td>{\"flow_progress\":{\"status\":\"STARTING\"}}</td><td>{\"status\":\"STARTING\"}</td><td>null</td></tr><tr><td>d3181940-6ea0-11f0-a268-aa11d67e9c2a</td><td>flow_progress</td><td>{\"flow_progress\":{\"status\":\"RUNNING\",\"metrics\":{}}}</td><td>{\"status\":\"RUNNING\",\"metrics\":{}}</td><td>null</td></tr><tr><td>d5787770-6ea0-11f0-a268-aa11d67e9c2a</td><td>flow_progress</td><td>{\"flow_progress\":{\"status\":\"RUNNING\",\"metrics\":{\"num_output_rows\":410,\"backlog_bytes\":0,\"backlog_files\":0,\"source_metrics\":[{\"source_name\":\"CloudFilesSource[/Volumes/dbacademy/ops/labuser11058730_1754017152@vocareum_com/status]\",\"backlog_bytes\":0,\"backlog_files\":0}]},\"data_quality\":{\"dropped_records\":0},\"streaming_metrics\":{\"event_time\":{}}}}</td><td>{\"status\":\"RUNNING\",\"metrics\":{\"num_output_rows\":410,\"backlog_bytes\":0,\"backlog_files\":0,\"source_metrics\":[{\"source_name\":\"CloudFilesSource[/Volumes/dbacademy/ops/labuser11058730_1754017152@vocareum_com/status]\",\"backlog_bytes\":0,\"backlog_files\":0}]},\"data_quality\":{\"dropped_records\":0},\"streaming_metrics\":{\"event_time\":{}}}</td><td>null</td></tr><tr><td>d57961d0-6ea0-11f0-a268-aa11d67e9c2a</td><td>flow_progress</td><td>{\"flow_progress\":{\"status\":\"RUNNING\",\"metrics\":{\"num_output_rows\":98,\"backlog_bytes\":0,\"backlog_files\":0,\"source_metrics\":[{\"source_name\":\"CloudFilesSource[/Volumes/dbacademy/ops/labuser11058730_1754017152@vocareum_com/orders]\",\"backlog_bytes\":0,\"backlog_files\":0}]},\"data_quality\":{\"dropped_records\":0},\"streaming_metrics\":{\"event_time\":{}}}}</td><td>{\"status\":\"RUNNING\",\"metrics\":{\"num_output_rows\":98,\"backlog_bytes\":0,\"backlog_files\":0,\"source_metrics\":[{\"source_name\":\"CloudFilesSource[/Volumes/dbacademy/ops/labuser11058730_1754017152@vocareum_com/orders]\",\"backlog_bytes\":0,\"backlog_files\":0}]},\"data_quality\":{\"dropped_records\":0},\"streaming_metrics\":{\"event_time\":{}}}</td><td>null</td></tr><tr><td>d57c4800-6ea0-11f0-a268-aa11d67e9c2a</td><td>flow_progress</td><td>{\"flow_progress\":{\"status\":\"COMPLETED\"}}</td><td>{\"status\":\"COMPLETED\"}</td><td>null</td></tr><tr><td>d57d0b50-6ea0-11f0-a268-aa11d67e9c2a</td><td>flow_progress</td><td>{\"flow_progress\":{\"status\":\"COMPLETED\"}}</td><td>{\"status\":\"COMPLETED\"}</td><td>null</td></tr><tr><td>d663c1d0-6ea0-11f0-a268-aa11d67e9c2a</td><td>flow_progress</td><td>{\"flow_progress\":{\"status\":\"STARTING\"}}</td><td>{\"status\":\"STARTING\"}</td><td>null</td></tr><tr><td>d6855390-6ea0-11f0-a268-aa11d67e9c2a</td><td>flow_progress</td><td>{\"flow_progress\":{\"status\":\"RUNNING\",\"metrics\":{}}}</td><td>{\"status\":\"RUNNING\",\"metrics\":{}}</td><td>null</td></tr><tr><td>d6a51090-6ea0-11f0-a268-aa11d67e9c2a</td><td>flow_progress</td><td>{\"flow_progress\":{\"status\":\"STARTING\"}}</td><td>{\"status\":\"STARTING\"}</td><td>null</td></tr><tr><td>d6cd8020-6ea0-11f0-a268-aa11d67e9c2a</td><td>flow_progress</td><td>{\"flow_progress\":{\"status\":\"RUNNING\",\"metrics\":{}}}</td><td>{\"status\":\"RUNNING\",\"metrics\":{}}</td><td>null</td></tr><tr><td>d7f4c210-6ea0-11f0-a268-aa11d67e9c2a</td><td>flow_progress</td><td>{\"flow_progress\":{\"status\":\"RUNNING\",\"metrics\":{\"num_output_rows\":98,\"backlog_bytes\":0,\"backlog_files\":0,\"source_metrics\":[{\"source_name\":\"DeltaSource[labuser11058730_1754017152.1_bronze_db.orders_bronze_demo5]\",\"backlog_bytes\":0,\"backlog_files\":0}]},\"data_quality\":{\"dropped_records\":0,\"expectations\":[{\"name\":\"valid_notifications\",\"dataset\":\"labuser11058730_1754017152.2_silver_db.orders_silver_demo5\",\"passed_records\":98,\"failed_records\":0},{\"name\":\"valid_id\",\"dataset\":\"labuser11058730_1754017152.2_silver_db.orders_silver_demo5\",\"passed_records\":98,\"failed_records\":0},{\"name\":\"valid_date\",\"dataset\":\"labuser11058730_1754017152.2_silver_db.orders_silver_demo5\",\"passed_records\":98,\"failed_records\":0}]},\"streaming_metrics\":{\"event_time\":{}}}}</td><td>{\"status\":\"RUNNING\",\"metrics\":{\"num_output_rows\":98,\"backlog_bytes\":0,\"backlog_files\":0,\"source_metrics\":[{\"source_name\":\"DeltaSource[labuser11058730_1754017152.1_bronze_db.orders_bronze_demo5]\",\"backlog_bytes\":0,\"backlog_files\":0}]},\"data_quality\":{\"dropped_records\":0,\"expectations\":[{\"name\":\"valid_notifications\",\"dataset\":\"labuser11058730_1754017152.2_silver_db.orders_silver_demo5\",\"passed_records\":98,\"failed_records\":0},{\"name\":\"valid_id\",\"dataset\":\"labuser11058730_1754017152.2_silver_db.orders_silver_demo5\",\"passed_records\":98,\"failed_records\":0},{\"name\":\"valid_date\",\"dataset\":\"labuser11058730_1754017152.2_silver_db.orders_silver_demo5\",\"passed_records\":98,\"failed_records\":0}]},\"streaming_metrics\":{\"event_time\":{}}}</td><td>null</td></tr><tr><td>d7f5fa90-6ea0-11f0-a268-aa11d67e9c2a</td><td>flow_progress</td><td>{\"flow_progress\":{\"status\":\"COMPLETED\"}}</td><td>{\"status\":\"COMPLETED\"}</td><td>null</td></tr><tr><td>d8301d60-6ea0-11f0-a268-aa11d67e9c2a</td><td>flow_progress</td><td>{\"flow_progress\":{\"status\":\"RUNNING\",\"metrics\":{\"num_output_rows\":410,\"backlog_bytes\":0,\"backlog_files\":0,\"source_metrics\":[{\"source_name\":\"DeltaSource[labuser11058730_1754017152.1_bronze_db.status_bronze_demo5]\",\"backlog_bytes\":0,\"backlog_files\":0}]},\"data_quality\":{\"dropped_records\":0,\"expectations\":[{\"name\":\"valid_timestamp\",\"dataset\":\"labuser11058730_1754017152.2_silver_db.status_silver_demo5\",\"passed_records\":410,\"failed_records\":0},{\"name\":\"valid_order_status\",\"dataset\":\"labuser11058730_1754017152.2_silver_db.status_silver_demo5\",\"passed_records\":379,\"failed_records\":31}]},\"streaming_metrics\":{\"event_time\":{}}}}</td><td>{\"status\":\"RUNNING\",\"metrics\":{\"num_output_rows\":410,\"backlog_bytes\":0,\"backlog_files\":0,\"source_metrics\":[{\"source_name\":\"DeltaSource[labuser11058730_1754017152.1_bronze_db.status_bronze_demo5]\",\"backlog_bytes\":0,\"backlog_files\":0}]},\"data_quality\":{\"dropped_records\":0,\"expectations\":[{\"name\":\"valid_timestamp\",\"dataset\":\"labuser11058730_1754017152.2_silver_db.status_silver_demo5\",\"passed_records\":410,\"failed_records\":0},{\"name\":\"valid_order_status\",\"dataset\":\"labuser11058730_1754017152.2_silver_db.status_silver_demo5\",\"passed_records\":379,\"failed_records\":31}]},\"streaming_metrics\":{\"event_time\":{}}}</td><td>null</td></tr><tr><td>d8312ed0-6ea0-11f0-a268-aa11d67e9c2a</td><td>flow_progress</td><td>{\"flow_progress\":{\"status\":\"COMPLETED\"}}</td><td>{\"status\":\"COMPLETED\"}</td><td>null</td></tr><tr><td>d8d229c0-6ea0-11f0-a268-aa11d67e9c2a</td><td>flow_progress</td><td>{\"flow_progress\":{\"status\":\"PLANNING\"}}</td><td>{\"status\":\"PLANNING\"}</td><td>null</td></tr><tr><td>db74c110-6ea0-11f0-a268-aa11d67e9c2a</td><td>planning_information</td><td>{\"planning_information\":{\"technique_information\":[{\"maintenance_type\":\"MAINTENANCE_TYPE_NO_OP\",\"incrementalization_issues\":[{\"issue_type\":\"DATA_HAS_CHANGED\",\"prevent_incrementalization\":true}]},{\"maintenance_type\":\"MAINTENANCE_TYPE_COMPLETE_RECOMPUTE\",\"is_chosen\":false,\"is_applicable\":true,\"cost\":2708.0},{\"maintenance_type\":\"MAINTENANCE_TYPE_GROUP_AGGREGATE\",\"is_chosen\":true,\"is_applicable\":true}],\"source_table_information\":[{\"table_id\":\"d5f7414c-d9fe-49b9-965f-1af66e757836\",\"full_size\":7042.0,\"num_rows\":272,\"num_files\":2,\"change_size\":2918.0,\"num_changed_rows\":98,\"num_rows_in_changed_files\":98,\"num_changed_files\":1,\"change_file_read_size\":2918.0,\"is_size_after_pruning\":true,\"is_row_id_enabled\":true,\"is_cdf_enabled\":true,\"is_deletion_vector_enabled\":true,\"is_change_from_legacy_cdf\":false}],\"target_table_information\":{\"table_name\":\"`labuser11058730_1754017152`.`3_gold_db`.`gold_orders_by_date_demo5`\",\"table_id\":\"200c3af9-0c63-487b-9665-5f72a2b6926e\",\"full_size\":984.0,\"is_row_id_enabled\":true,\"is_cdf_enabled\":true,\"is_deletion_vector_enabled\":true},\"planning_wall_time_ms\":4333}}</td><td>null</td><td>null</td></tr><tr><td>3bb55e50-6ea0-11f0-a268-aa11d67e9c2a</td><td>update_progress</td><td>{\"update_progress\":{\"state\":\"INITIALIZING\"}}</td><td>null</td><td>null</td></tr><tr><td>aa824e80-6e9e-11f0-b947-8acb90f2812d</td><td>user_action</td><td>{\"user_action\":{\"action\":\"CREATE\",\"user_name\":\"labuser11058730_1754017152@vocareum.com\",\"user_id\":70949121692270,\"request\":{\"create_request\":{\"id\":\"6ce1fdf2-b7dd-4ed3-844e-1d170666cadb\",\"pipeline_type\":\"WORKSPACE\",\"name\":\"5 - Deploying a Pipeline to Production Project - labuser11058730_1754017152\",\"configuration\":{\"source\":\"/Volumes/dbacademy/ops/labuser11058730_1754017152@vocareum_com\"},\"libraries\":[{\"glob\":{\"include\":\"/Workspace/Users/labuser11058730_1754017152@vocareum.com/build-data-pipelines-with-lakeflow-declarative-pipelines-3.0.2/Build Data Pipelines with Lakeflow Declarative Pipelines/5 - Deploying a Pipeline to Production Project/orders/**\"}},{\"glob\":{\"include\":\"/Workspace/Users/labuser11058730_1754017152@vocareum.com/build-data-pipelines-with-lakeflow-declarative-pipelines-3.0.2/Build Data Pipelines with Lakeflow Declarative Pipelines/5 - Deploying a Pipeline to Production Project/status/**\"}}],\"schema\":\"default\",\"continuous\":false,\"development\":true,\"photon\":true,\"channel\":\"PREVIEW\",\"catalog\":\"labuser11058730_1754017152\",\"serverless\":true,\"root_path\":\"/Workspace/Users/labuser11058730_1754017152@vocareum.com/build-data-pipelines-with-lakeflow-declarative-pipelines-3.0.2/Build Data Pipelines with Lakeflow Declarative Pipelines/5 - Deploying a Pipeline to Production Project\"}}}}</td><td>null</td><td>{\"action\":\"CREATE\",\"user_name\":\"labuser11058730_1754017152@vocareum.com\",\"user_id\":70949121692270,\"request\":{\"create_request\":{\"id\":\"6ce1fdf2-b7dd-4ed3-844e-1d170666cadb\",\"pipeline_type\":\"WORKSPACE\",\"name\":\"5 - Deploying a Pipeline to Production Project - labuser11058730_1754017152\",\"configuration\":{\"source\":\"/Volumes/dbacademy/ops/labuser11058730_1754017152@vocareum_com\"},\"libraries\":[{\"glob\":{\"include\":\"/Workspace/Users/labuser11058730_1754017152@vocareum.com/build-data-pipelines-with-lakeflow-declarative-pipelines-3.0.2/Build Data Pipelines with Lakeflow Declarative Pipelines/5 - Deploying a Pipeline to Production Project/orders/**\"}},{\"glob\":{\"include\":\"/Workspace/Users/labuser11058730_1754017152@vocareum.com/build-data-pipelines-with-lakeflow-declarative-pipelines-3.0.2/Build Data Pipelines with Lakeflow Declarative Pipelines/5 - Deploying a Pipeline to Production Project/status/**\"}}],\"schema\":\"default\",\"continuous\":false,\"development\":true,\"photon\":true,\"channel\":\"PREVIEW\",\"catalog\":\"labuser11058730_1754017152\",\"serverless\":true,\"root_path\":\"/Workspace/Users/labuser11058730_1754017152@vocareum.com/build-data-pipelines-with-lakeflow-declarative-pipelines-3.0.2/Build Data Pipelines with Lakeflow Declarative Pipelines/5 - Deploying a Pipeline to Production Project\"}}}</td></tr><tr><td>1b0fd310-6ea0-11f0-b947-8acb90f2812d</td><td>user_action</td><td>{\"user_action\":{\"action\":\"EDIT\",\"user_name\":\"labuser11058730_1754017152@vocareum.com\",\"user_id\":70949121692270,\"request\":{\"edit_request\":{\"id\":\"6ce1fdf2-b7dd-4ed3-844e-1d170666cadb\",\"pipeline_type\":\"WORKSPACE\",\"name\":\"5 - Deploying a Pipeline to Production Project - labuser11058730_1754017152\",\"configuration\":{\"source\":\"/Volumes/dbacademy/ops/labuser11058730_1754017152@vocareum_com\"},\"libraries\":[{\"glob\":{\"include\":\"/Workspace/Users/labuser11058730_1754017152@vocareum.com/build-data-pipelines-with-lakeflow-declarative-pipelines-3.0.2/Build Data Pipelines with Lakeflow Declarative Pipelines/5 - Deploying a Pipeline to Production Project/orders/**\"}},{\"glob\":{\"include\":\"/Workspace/Users/labuser11058730_1754017152@vocareum.com/build-data-pipelines-with-lakeflow-declarative-pipelines-3.0.2/Build Data Pipelines with Lakeflow Declarative Pipelines/5 - Deploying a Pipeline to Production Project/status/**\"}}],\"schema\":\"default\",\"continuous\":false,\"development\":false,\"photon\":true,\"channel\":\"PREVIEW\",\"catalog\":\"labuser11058730_1754017152\",\"serverless\":true,\"event_log\":{\"name\":\"event_log_demo_5\",\"schema\":\"default\",\"catalog\":\"labuser11058730_1754017152\"},\"root_path\":\"/Workspace/Users/labuser11058730_1754017152@vocareum.com/build-data-pipelines-with-lakeflow-declarative-pipelines-3.0.2/Build Data Pipelines with Lakeflow Declarative Pipelines/5 - Deploying a Pipeline to Production Project\"}}}}</td><td>null</td><td>{\"action\":\"EDIT\",\"user_name\":\"labuser11058730_1754017152@vocareum.com\",\"user_id\":70949121692270,\"request\":{\"edit_request\":{\"id\":\"6ce1fdf2-b7dd-4ed3-844e-1d170666cadb\",\"pipeline_type\":\"WORKSPACE\",\"name\":\"5 - Deploying a Pipeline to Production Project - labuser11058730_1754017152\",\"configuration\":{\"source\":\"/Volumes/dbacademy/ops/labuser11058730_1754017152@vocareum_com\"},\"libraries\":[{\"glob\":{\"include\":\"/Workspace/Users/labuser11058730_1754017152@vocareum.com/build-data-pipelines-with-lakeflow-declarative-pipelines-3.0.2/Build Data Pipelines with Lakeflow Declarative Pipelines/5 - Deploying a Pipeline to Production Project/orders/**\"}},{\"glob\":{\"include\":\"/Workspace/Users/labuser11058730_1754017152@vocareum.com/build-data-pipelines-with-lakeflow-declarative-pipelines-3.0.2/Build Data Pipelines with Lakeflow Declarative Pipelines/5 - Deploying a Pipeline to Production Project/status/**\"}}],\"schema\":\"default\",\"continuous\":false,\"development\":false,\"photon\":true,\"channel\":\"PREVIEW\",\"catalog\":\"labuser11058730_1754017152\",\"serverless\":true,\"event_log\":{\"name\":\"event_log_demo_5\",\"schema\":\"default\",\"catalog\":\"labuser11058730_1754017152\"},\"root_path\":\"/Workspace/Users/labuser11058730_1754017152@vocareum.com/build-data-pipelines-with-lakeflow-declarative-pipelines-3.0.2/Build Data Pipelines with Lakeflow Declarative Pipelines/5 - Deploying a Pipeline to Production Project\"}}}</td></tr><tr><td>2db4c610-6ea0-11f0-9ef4-eac102c20cdd</td><td>user_action</td><td>{\"user_action\":{\"action\":\"START\",\"user_name\":\"labuser11058730_1754017152@vocareum.com\",\"user_id\":70949121692270,\"request\":{\"start_request\":{\"full_refresh\":false,\"validate_only\":false,\"explore_only\":false,\"development\":true}}}}</td><td>null</td><td>{\"action\":\"START\",\"user_name\":\"labuser11058730_1754017152@vocareum.com\",\"user_id\":70949121692270,\"request\":{\"start_request\":{\"full_refresh\":false,\"validate_only\":false,\"explore_only\":false,\"development\":true}}}</td></tr><tr><td>2dbc4020-6ea0-11f0-9ef4-eac102c20cdd</td><td>create_update</td><td>{\"create_update\":{\"cause\":\"USER_ACTION\",\"config\":{\"id\":\"6ce1fdf2-b7dd-4ed3-844e-1d170666cadb\",\"pipeline_type\":\"WORKSPACE\",\"name\":\"5 - Deploying a Pipeline to Production Project - labuser11058730_1754017152\",\"configuration\":{\"pipelines.acfsProcessorVersion\":\"1\",\"pipelines.allowClearingTableComment\":\"true\",\"pipelines.allowPrivateToNonPrivateAltersWithCustomSchemaPreview\":\"true\",\"pipelines.alterExistingMvSt\":\"true\",\"pipelines.alterViewsInHMS.enabled\":\"true\",\"pipelines.alterableMetadataBehavior\":\"preserve\",\"pipelines.analysis.allowSqlFlowWithConfParallelResolution\":\"true\",\"pipelines.analysis.maybeResolveFlowsParallely\":\"true\",\"pipelines.analysis.maybeResolvePureSQLPipelinesParallely\":\"true\",\"pipelines.analysis.pruneUnresolvedFromJsonDependents\":\"true\",\"pipelines.applyChanges.Type2IgnoreNullPersistentStateChange\":\"false\",\"pipelines.applyChanges.applyChangesMultiflowIgnoreNullOffFix.enabled\":\"false\",\"pipelines.applyChanges.applyChangesMultiflowLatestDeleteVersion.enabled\":\"false\",\"pipelines.applyChanges.dynamicFilePruning.enabled\":\"true\",\"pipelines.applyChanges.dynamicPartitionPruning.enabled\":\"true\",\"pipelines.applyChanges.viewMetrics.enabled\":\"true\",\"pipelines.applyChangesFromSnapshot.analyzeLambdaSourceWithoutPipelineContext\":\"true\",\"pipelines.applyChangesFromSnapshot.castSnapshotToTargetSchema\":\"true\",\"pipelines.applyChangesFromSnapshot.stateStoreFormat\":\"proto\",\"pipelines.attachEnzymeExpectationsUsingTransformDF\":\"true\",\"pipelines.attachExpectationWithFunctionResult\":\"true\",\"pipelines.attachExpectationsUsingTransformDF\":\"true\",\"pipelines.autoscaling.maxDecommissioningTimeoutInSecondsDefaultValue\":\"14400\",\"pipelines.blockDuplicatedUseOfFromJsonSchemaLocationKey\":\"true\",\"pipelines.cdc.enableCdcSnapshotProgress\":\"true\",\"pipelines.cdc.enableGatewayErrorPropagation\":\"true\",\"pipelines.cdc.skipCdcSnapshotFlowAfterCommitted\":\"true\",\"pipelines.cdc.stagingDataGCDryRunMode\":\"false\",\"pipelines.cdc.stagingDataRetentionDays\":\"25\",\"pipelines.cdcApplier.enableCommunicationVersioning\":\"true\",\"pipelines.cdcApplier.useUpstreamCommunicationLibrary\":\"true\",\"pipelines.cdcApplierEnableColumnUOID\":\"false\",\"pipelines.cdcApplierStagingTablePartitionedByDate\":\"true\",\"pipelines.changeDataFeed.enabled\":\"true\",\"pipelines.checkImplicitDeletionReason\":\"true\",\"pipelines.cleanupOrphanedBackingTables\":\"true\",\"pipelines.copyFlowFuncResultWithDecomposition\":\"true\",\"pipelines.createMvStEntryBeforeBackingTable\":\"true\",\"pipelines.dataPlaneStructuredLogging.enabled\":\"true\",\"pipelines.decomposition.enableOnSnapshotFlow\":\"true\",\"pipelines.decomposition.enabled\":\"true\",\"pipelines.disableClearingIncrementalOnVirtualize\":\"true\",\"pipelines.disablePredictiveOptimization\":\"true\",\"pipelines.disallowFlowExecutionRetryForSchemaChangeExceptionsInTriggeredMode\":\"true\",\"pipelines.disallowTableMutationsDuringMaintenance\":\"true\",\"pipelines.dltDebugger.enableNodeStatusReporter\":\"true\",\"pipelines.dropAndRecreateBadBackingTables\":\"true\",\"pipelines.dropInactiveTables\":\"false\",\"pipelines.earlyStagingTableCleanupEnabled\":\"true\",\"pipelines.emitDeprecationEventForCustomSchemaUsage\":\"true\",\"pipelines.emitSinkDefinition\":\"true\",\"pipelines.enableApplyChangeSCD1Materialization\":\"false\",\"pipelines.enableApplyChangesLineage.enabled\":\"true\",\"pipelines.enableBatchTokenOnUpdateId\":\"false\",\"pipelines.enableBlockListReconciliationQueryDefinition\":\"true\",\"pipelines.enableCoalesceApplyChangesType2Duplicates\":\"true\",\"pipelines.enableConduitUCConnectionTypeValidation\":\"false\",\"pipelines.enableContinuousPipelineTriggerValidation\":\"false\",\"pipelines.enableCyclicDependencyDetection\":\"true\",\"pipelines.enableDataflowV2ForFromJsonSchemaReset\":\"true\",\"pipelines.enableDbrFlowAnalysisContext\":\"false\",\"pipelines.enableDeltaReadClone\":\"false\",\"pipelines.enableEventLogPicker\":\"true\",\"pipelines.enableEventLogTableIdWrites\":\"true\",\"pipelines.enableExistingEventLogRetrievalById\":\"true\",\"pipelines.enableFromJsonBatchSchemaEvolution\":\"true\",\"pipelines.enableHistoryIntegrationForContinuous\":\"true\",\"pipelines.enableLiveSchemaUsageValidation\":\"true\",\"pipelines.enableNewFlowTypes\":\"true\",\"pipelines.enableNonVirtualNodeInNodeProcessorUpdate\":\"false\",\"pipelines.enablePersistedViewSyntaxForPipeline\":\"true\",\"pipelines.enablePredictiveOptimizationRollout\":\"true\",\"pipelines.enableRunningAddRowIdAsEnabler\":\"true\",\"pipelines.enableSharepointConnectorV2\":\"false\",\"pipelines.enableStreamQueryListenerMetricsInEventlog\":\"false\",\"pipelines.enableSysPathSetupUsingCmdCtx\":\"true\",\"pipelines.enableUpdateWarmPoolManager\":\"true\",\"pipelines.enableViewFirstClassRefactor\":\"true\",\"pipelines.enzyme.autoCorrectionForLongRunningQueries\":\"true\",\"pipelines.enzyme.autoCorrectionForLongRunningQueries.dryRun\":\"true\",\"pipelines.enzyme.changesetRatioUpperBound\":\"2.1\",\"pipelines.enzyme.checkComposableAggOperatorNestingInDecomposer\":\"true\",\"pipelines.enzyme.classic.action\":\"Block\",\"pipelines.enzyme.composableAggKeyOperatorNestingThreshold\":\"4\",\"pipelines.enzyme.decomposeAggExpr.enabled\":\"true\",\"pipelines.enzyme.defaultBroadcastThreshold\":\"128MB\",\"pipelines.enzyme.disableFingerprintNormalizerForEnzymeBasic\":\"true\",\"pipelines.enzyme.enableAggOverJoin\":\"true\",\"pipelines.enzyme.enableAggOverJoinFallback\":\"true\",\"pipelines.enzyme.enableBroadcastableChangesetSizeThreshold\":\"true\",\"pipelines.enzyme.enableComposableGenericAgg\":\"true\",\"pipelines.enzyme.enableExplicitDFP\":\"false\",\"pipelines.enzyme.enableExplicitDPPScheduling\":\"false\",\"pipelines.enzyme.enableJoinComposition\":\"true\",\"pipelines.enzyme.enableLeftEquiJoinOptimization\":\"false\",\"pipelines.enzyme.enableRowId\":\"true\",\"pipelines.enzyme.enableSPUJFullOuterJoinIncrementalization\":\"true\",\"pipelines.enzyme.enableSPUJIncrementalization\":\"true\",\"pipelines.enzyme.enableSPUJInnerJoinIncrementalization\":\"true\",\"pipelines.enzyme.enableSPUJLeftAntiJoinIncrementalization\":\"true\",\"pipelines.enzyme.enableSPUJLeftJoinIncrementalization\":\"true\",\"pipelines.enzyme.enableSPUJRightJoinIncrementalization\":\"true\",\"pipelines.enzyme.enableSmallTableSizeThreshold\":\"true\",\"pipelines.enzyme.enableTableChangeSizeV3\":\"true\",\"pipelines.enzyme.enableWindowBlockBasedIncChecker\":\"true\",\"pipelines.enzyme.enableWindowComposition\":\"true\",\"pipelines.enzyme.enableWindowFunctionWithDiffPartitioning\":\"true\",\"pipelines.enzyme.enabled\":\"true\",\"pipelines.enzyme.enzymeEnableTableChangeSizeV2\":\"true\",\"pipelines.enzyme.expectation.enable\":\"true\",\"pipelines.enzyme.expectation.fallbackToClassic\":\"true\",\"pipelines.enzyme.expectation.fallbackToClassicPerFlow\":\"true\",\"pipelines.enzyme.expectation.useSimpleWrite\":\"true\",\"pipelines.enzyme.explicitlyScheduleBloomFilters\":\"false\",\"pipelines.enzyme.fileActionPruningInCdf.enabled\":\"true\",\"pipelines.enzyme.forceTrivialIncrementalFlows\":\"true\",\"pipelines.enzyme.genericAggregationTechnique.enabled\":\"true\",\"pipelines.enzyme.historyBasedCosting.enabled\":\"true\",\"pipelines.enzyme.logDetailedChangeInformation\":\"true\",\"pipelines.enzyme.makeCollectListCollectSetDeterministic.enabled\":\"true\",\"pipelines.enzyme.mode\":\"Advanced\",\"pipelines.enzyme.overrideMaxBloomSizeBits\":\"-1\",\"pipelines.enzyme.overrideMinBloomSizeBits\":\"-1\",\"pipelines.enzyme.prePostNormalizationBatches.enabled\":\"true\",\"pipelines.enzyme.removeTopLevelSort.enabled\":\"true\",\"pipelines.enzyme.spujTableSizeThresholdForNonJoin\":\"1000TB\",\"pipelines.enzyme.spujoinTableSizeThreshold\":\"1000TB\",\"pipelines.enzyme.temporalFilters.enabled\":\"true\",\"pipelines.enzyme.transformFirstLastAnyValueToMin.enabled\":\"true\",\"pipelines.enzyme.useInExpressionForPartitionOverwrite\":\"true\",\"pipelines.enzyme.windowFunctionTechniqueEnabled.enabled\":\"true\",\"pipelines.enzyme.writeHistoryStats.enabled\":\"true\",\"pipelines.eventLevelDataFrameCollectUsage\":\"warn\",\"pipelines.eventLevelDataFrameSaveAsTableUsage\":\"warn\",\"pipelines.eventLevelDataFrameSaveUsage\":\"warn\",\"pipelines.eventLevelDataStreamWriterStartUsage\":\"warn\",\"pipelines.eventLevelPivotUsage\":\"warn\",\"pipelines.eventPlatformMetricsReporterEnabled\":\"true\",\"pipelines.events.enableEventTimeMetric\":\"true\",\"pipelines.events.enableSourceCodePosition\":\"true\",\"pipelines.exposeExecutorCountFromStateManager\":\"false\",\"pipelines.failPipelineForExpectationWithACFS\":\"true\",\"pipelines.forceRecomputeMVIfPartitioningChanged\":\"true\",\"pipelines.fromJson.enforceRootLevelStructTypeForInferredSchema\":\"true\",\"pipelines.fullyQualifyExternalSinkIdentifiers\":\"true\",\"pipelines.fullyQualifyTableReferencesInForeignKeyConstraintsInDPM\":\"true\",\"pipelines.gateway.extractAsciiIrTypesAsUnicodeStream\":\"false\",\"pipelines.gateway.realtime.extractor.sqlServerUseCommandIdForCDCTables\":\"true\",\"pipelines.gateway.realtime.extractor.sqlServerVerifyCommandIdExistsForCDCTables\":\"false\",\"pipelines.gateway.runOptimizedFetchSchema\":\"false\",\"pipelines.gateway.tableSchemasDirectUpload\":\"false\",\"pipelines.gateway.useNewReplicationReconfigurationFlow\":\"false\",\"pipelines.gateway.useUpstreamCommunicationLibrary\":\"false\",\"pipelines.gatewaySendMessagesToEventLog\":\"true\",\"pipelines.ignoreDropInactiveTablesForWorkspacePipelines\":\"false\",\"pipelines.ignoredSuffixForSourceIncludes\":\"__pycache__/,.egg-info/,.txt,.md,.csv,.json\",\"pipelines.ingestionPipelineConnectorFetchProgressEventEnabled\":\"true\",\"pipelines.ingestionPipelineSalesforceApiVersion\":\"v63.0\",\"pipelines.ingestionPipelineServiceNowEmptyCursorFetchEnabled\":\"true\",\"pipelines.ingestionPipelinesTempViewNameV2\":\"false\",\"pipelines.initResourceAllocationBeforeEventLog\":\"true\",\"pipelines.instrumentLoadInSparkReader\":\"true\",\"pipelines.lazyInitializeUpdateWarmPoolManager\":\"true\",\"pipelines.lineageEmission.enabled\":\"true\",\"pipelines.materialization.writeResetSchemaString\":\"true\",\"pipelines.materializedView.dropOtherViewDependencies\":\"true\",\"pipelines.maxDatasetsPerPipeline\":\"1000\",\"pipelines.maximumSourceFileNumberInLibraries\":\"300\",\"pipelines.mergeExternalMetadataIntoTablesBeforeDecomp\":\"true\",\"pipelines.mesa.enableCatalogTableCLTCValidations\":\"true\",\"pipelines.mesa.enableGetCLTCFromCatalogTable\":\"true\",\"pipelines.mesa.updateUCPipelineWithTopLevelViewUpdate\":\"true\",\"pipelines.metrics.clusterResources.enabled\":\"true\",\"pipelines.metrics.flowProgressAdditionalBacklogMetricsEnabled\":\"true\",\"pipelines.metrics.flowProgressSourceLevelMetricsEnabled\":\"true\",\"pipelines.metrics.flowTimeReporter.enabled\":\"true\",\"pipelines.multiflowExpectations.enabled\":\"false\",\"pipelines.mv.partitionUpdate.enabled\":\"true\",\"pipelines.numPythonREPLsToWarmPerUpdate\":\"1\",\"pipelines.operationProgress.listingMetrics.enabled\":\"false\",\"pipelines.parallelNormalizationBeforeDecomposition\":\"true\",\"pipelines.parallelPythonReplInitialization\":\"true\",\"pipelines.parallelUCContextInitialization\":\"true\",\"pipelines.parallelizeCreateMatzPaths\":\"true\",\"pipelines.parallelizeMaterializeTables\":\"true\",\"pipelines.partitioning.clusterBy.enabled\":\"true\",\"pipelines.partitioning.clusterByAuto.enabled\":\"true\",\"pipelines.pipelineEnvironment.enabled\":\"true\",\"pipelines.preloadDeltaAndUCCacheForUpdate\":\"true\",\"pipelines.preserveColumnMasksField\":\"true\",\"pipelines.preserveRowFilterField\":\"true\",\"pipelines.preview.multiChangeFlowInCurrent.enable\":\"true\",\"pipelines.publishPrivateTableInOldArchitecture\":\"true\",\"pipelines.reAnalyzeVirtualFlowsAfterMaterialization\":\"true\",\"pipelines.rememberUCObjectIdsAcrossRuns\":\"true\",\"pipelines.removeAllGenerationExpressionKey\":\"true\",\"pipelines.removeGeneratedColumnMetadataFromViewSchema\":\"true\",\"pipelines.removeVirtualGraphUsageOnGraphDefns\":\"true\",\"pipelines.replaceRealInputReadsWithVirtualBeforeDecomposer\":\"true\",\"pipelines.respectAlterableMetadataBehavior\":\"true\",\"pipelines.scalaReplWarmPool.enabled\":\"true\",\"pipelines.scd1ApplyChangesUseAllFlowsSchema.enabled\":\"false\",\"pipelines.schemaInferenceForVirtualBackingTables.enabled\":\"true\",\"pipelines.schemaStorageLocations.enabled\":\"true\",\"pipelines.sendOneGraphToTableManager\":\"true\",\"pipelines.setMigrationHints\":\"true\",\"pipelines.setParentTableIdForBackingTables\":\"true\",\"pipelines.shouldUseOCCToUpdateTopLevelEntry\":\"true\",\"pipelines.suggestDropForInactivePrivateTable\":\"true\",\"pipelines.tableManager.failOnCycleOfForeignKeyConstraints\":\"true\",\"pipelines.tableManager.orderSettingUpTablesByForeignKeyConstraints\":\"true\",\"pipelines.throwOnUnexpectedMaterializationCreation\":\"true\",\"pipelines.topologicalOrderForStreamingFlowsUponFullRefresh.enabled\":\"true\",\"pipelines.undropPreviouslyExistingTables\":\"true\",\"pipelines.updateSnapshot.enabled\":\"true\",\"pipelines.updateSnapshot.incrementalEventSummaries.enabled\":\"true\",\"pipelines.updateSnapshot.incrementalTimeSeries.enabled\":\"true\",\"pipelines.updateSnapshot.timeSeriesSummaryFlowMetricsEnabled\":\"true\",\"pipelines.updateSnapshot.timeSeriesSummaryGeneratorEnabled\":\"true\",\"pipelines.updateSnapshot.timeSeriesSummarySourceMetricsEnabled\":\"true\",\"pipelines.updateTableCacheAndInactiveStatusEarly\":\"true\",\"pipelines.updateWarmPoolManagerSize\":\"1\",\"pipelines.useCacheForMVPlanning.enabled\":\"true\",\"pipelines.useConfigDefaultsInQueryFingerprint\":\"true\",\"pipelines.useDataflowV2\":\"true\",\"pipelines.useGraphCachePersistence\":\"true\",\"pipelines.useNewOCCPrimitive\":\"true\",\"pipelines.useNewReadInputApi\":\"true\",\"pipelines.useTempDirForEventHookManagerCheckpoints\":\"false\",\"pipelines.useTempDirForEventHookManagerCheckpointsInHms\":\"true\",\"pipelines.useUCBackdoorToDropColumnMasks\":\"true\",\"pipelines.useUCCacheAcrossQueries\":\"true\",\"pipelines.useUCMetadataCache\":\"true\",\"pipelines.useUCMetadataCacheDuringUpdate\":\"true\",\"pipelines.useUpdateWarmPoolManagerForAllUpdates\":\"true\",\"pipelines.useUuidPrefixForExpectations\":\"true\",\"pipelines.useViewsInReconciliationFlowQueries\":\"true\",\"pipelines.verticalAutoscaling.pipelineEnabled\":\"true\",\"source\":\"/Volumes/dbacademy/ops/labuser11058730_1754017152@vocareum_com\",\"spark.databricks.cloudFiles.recordEventChanges\":\"false\",\"spark.databricks.dataLineage.mergeIntoV2Enabled\":\"false\",\"spark.databricks.photon.scan.minBatchSize\":\"256\",\"spark.databricks.sql.rowColumnAccess.mvst.enabled\":\"true\",\"spark.databricks.sqlservice.history.liveQueryProfile.enabled\":\"true\",\"spark.databricks.sqlservice.history.multiBatchProfileEnabled\":\"true\",\"spark.databricks.streaming.dynamicAdmissionControl.cloudFiles.enabled\":\"true\",\"spark.databricks.unityCatalog.glue.federation.enabled\":\"true\",\"spark.databricks.unityCatalog.hms.federation.enableDbfsSupport\":\"true\",\"spark.databricks.unityCatalog.hms.federation.enabled\":\"true\",\"spark.databricks.unityCatalog.lakehouseFederation.writes.enabled\":\"true\",\"spark.sql.optimizer.optimizeCsvJsonExprs.useSchemaField\":\"false\",\"pipelines.predictiveOptimization.enabled\":\"true\",\"pipelines.maintenance.disabled\":\"true\",\"pipelines.maxFlowRetryAttempts\":\"0\"},\"libraries\":[{\"glob\":{\"include\":\"/Workspace/Users/labuser11058730_1754017152@vocareum.com/build-data-pipelines-with-lakeflow-declarative-pipelines-3.0.2/Build Data Pipelines with Lakeflow Declarative Pipelines/5 - Deploying a Pipeline to Production Project/orders/**\"}},{\"glob\":{\"include\":\"/Workspace/Users/labuser11058730_1754017152@vocareum.com/build-data-pipelines-with-lakeflow-declarative-pipelines-3.0.2/Build Data Pipelines with Lakeflow Declarative Pipelines/5 - Deploying a Pipeline to Production Project/status/**\"}}],\"schema\":\"default\",\"continuous\":false,\"development\":false,\"photon\":true,\"edition\":\"ADVANCED\",\"channel\":\"PREVIEW\",\"catalog\":\"labuser11058730_1754017152\",\"serverless\":true,\"event_log\":{\"name\":\"event_log_demo_5\",\"schema\":\"default\",\"catalog\":\"labuser11058730_1754017152\"},\"root_path\":\"/Workspace/Users/labuser11058730_1754017152@vocareum.com/build-data-pipelines-with-lakeflow-declarative-pipelines-3.0.2/Build Data Pipelines with Lakeflow Declarative Pipelines/5 - Deploying a Pipeline to Production Project\"},\"failed_attempts\":0,\"full_refresh\":false,\"run_as_user_id\":70949121692270,\"runtime_version\":{\"dbr_version\":\"16.4\",\"universe_commit\":\"a34e2cdbeb8f369536e943c361d892db7d6f590b\",\"runtime_commit\":\"c72685e185325c58372a549382c10d183f3b626c\",\"channel\":\"PREVIEW\",\"image_key\":\"dlt:16.4.4-delta-pipelines-photon-dlt-release-dp-nightly-2025.29.thu.05.27-rc0-commit-e1fadf8-image-dc141cf\"},\"validate_only\":false,\"development\":true,\"explore_only\":false}}</td><td>null</td><td>null</td></tr><tr><td>2e305eb1-6ea0-11f0-862f-dea3e0feb822</td><td>update_progress</td><td>{\"update_progress\":{\"state\":\"WAITING_FOR_RESOURCES\"}}</td><td>null</td><td>null</td></tr><tr><td>432e5ce0-6ea0-11f0-a268-aa11d67e9c2a</td><td>update_progress</td><td>{\"update_progress\":{\"state\":\"SETTING_UP_TABLES\"}}</td><td>null</td><td>null</td></tr><tr><td>43d09050-6ea0-11f0-a268-aa11d67e9c2a</td><td>dataset_life_cycle</td><td>{\"dataset_life_cycle\":{\"state\":\"CREATED\",\"dataset_type\":\"STREAMING_TABLE\"}}</td><td>null</td><td>null</td></tr><tr><td>43f110a0-6ea0-11f0-a268-aa11d67e9c2a</td><td>dataset_life_cycle</td><td>{\"dataset_life_cycle\":{\"state\":\"CREATED\",\"dataset_type\":\"STREAMING_TABLE\"}}</td><td>null</td><td>null</td></tr><tr><td>441adfc0-6ea0-11f0-a268-aa11d67e9c2a</td><td>dataset_life_cycle</td><td>{\"dataset_life_cycle\":{\"state\":\"CREATED\",\"dataset_type\":\"STREAMING_TABLE\"}}</td><td>null</td><td>null</td></tr><tr><td>444e99f0-6ea0-11f0-a268-aa11d67e9c2a</td><td>dataset_life_cycle</td><td>{\"dataset_life_cycle\":{\"state\":\"CREATED\",\"dataset_type\":\"STREAMING_TABLE\"}}</td><td>null</td><td>null</td></tr><tr><td>494e0d00-6ea0-11f0-a268-aa11d67e9c2a</td><td>flow_definition</td><td>{\"flow_definition\":{\"output_dataset\":\"labuser11058730_1754017152.1_bronze_db.orders_bronze_demo5\",\"explain_text\":\"'Project [*, 'current_timestamp() AS processing_time#10469, '_metadata.file_name AS source_file#10470]\",\"schema_json\":\"{\\\"type\\\":\\\"struct\\\",\\\"fields\\\":[{\\\"name\\\":\\\"customer_id\\\",\\\"type\\\":\\\"long\\\",\\\"nullable\\\":true,\\\"metadata\\\":{}},{\\\"name\\\":\\\"notifications\\\",\\\"type\\\":\\\"string\\\",\\\"nullable\\\":true,\\\"metadata\\\":{}},{\\\"name\\\":\\\"order_id\\\",\\\"type\\\":\\\"long\\\",\\\"nullable\\\":true,\\\"metadata\\\":{}},{\\\"name\\\":\\\"order_timestamp\\\",\\\"type\\\":\\\"long\\\",\\\"nullable\\\":true,\\\"metadata\\\":{}},{\\\"name\\\":\\\"_rescued_data\\\",\\\"type\\\":\\\"string\\\",\\\"nullable\\\":true,\\\"metadata\\\":{}},{\\\"name\\\":\\\"processing_time\\\",\\\"type\\\":\\\"timestamp\\\",\\\"nullable\\\":false,\\\"metadata\\\":{}},{\\\"name\\\":\\\"source_file\\\",\\\"type\\\":\\\"string\\\",\\\"nullable\\\":false,\\\"metadata\\\":{}}]}\",\"schema\":[{\"name\":\"customer_id\",\"path\":[\"customer_id\"],\"data_type\":\"LONG\"},{\"name\":\"notifications\",\"path\":[\"notifications\"],\"data_type\":\"STRING\"},{\"name\":\"order_id\",\"path\":[\"order_id\"],\"data_type\":\"LONG\"},{\"name\":\"order_timestamp\",\"path\":[\"order_timestamp\"],\"data_type\":\"LONG\"},{\"name\":\"_rescued_data\",\"path\":[\"_rescued_data\"],\"data_type\":\"STRING\"},{\"name\":\"processing_time\",\"path\":[\"processing_time\"],\"data_type\":\"TIMESTAMP\"},{\"name\":\"source_file\",\"path\":[\"source_file\"],\"data_type\":\"STRING\"}],\"flow_type\":\"APPEND\",\"comment\":\"Ingest order JSON files from cloud storage\",\"language\":\"SQL\",\"notebook_path\":\"/Workspace/Users/labuser11058730_1754017152@vocareum.com/build-data-pipelines-with-lakeflow-declarative-pipelines-3.0.2/Build Data Pipelines with Lakeflow Declarative Pipelines/5 - Deploying a Pipeline to Production Project/orders/orders_pipeline.sql\",\"once\":false}}</td><td>null</td><td>null</td></tr><tr><td>49544e90-6ea0-11f0-a268-aa11d67e9c2a</td><td>flow_definition</td><td>{\"flow_definition\":{\"output_dataset\":\"labuser11058730_1754017152.1_bronze_db.status_bronze_demo5\",\"explain_text\":\"'Project [*, 'current_timestamp() AS processing_time#10459, '_metadata.file_name AS source_file#10460]\",\"schema_json\":\"{\\\"type\\\":\\\"struct\\\",\\\"fields\\\":[{\\\"name\\\":\\\"order_id\\\",\\\"type\\\":\\\"long\\\",\\\"nullable\\\":true,\\\"metadata\\\":{}},{\\\"name\\\":\\\"order_status\\\",\\\"type\\\":\\\"string\\\",\\\"nullable\\\":true,\\\"metadata\\\":{}},{\\\"name\\\":\\\"status_timestamp\\\",\\\"type\\\":\\\"long\\\",\\\"nullable\\\":true,\\\"metadata\\\":{}},{\\\"name\\\":\\\"_rescued_data\\\",\\\"type\\\":\\\"string\\\",\\\"nullable\\\":true,\\\"metadata\\\":{}},{\\\"name\\\":\\\"processing_time\\\",\\\"type\\\":\\\"timestamp\\\",\\\"nullable\\\":false,\\\"metadata\\\":{}},{\\\"name\\\":\\\"source_file\\\",\\\"type\\\":\\\"string\\\",\\\"nullable\\\":false,\\\"metadata\\\":{}}]}\",\"schema\":[{\"name\":\"order_id\",\"path\":[\"order_id\"],\"data_type\":\"LONG\"},{\"name\":\"order_status\",\"path\":[\"order_status\"],\"data_type\":\"STRING\"},{\"name\":\"status_timestamp\",\"path\":[\"status_timestamp\"],\"data_type\":\"LONG\"},{\"name\":\"_rescued_data\",\"path\":[\"_rescued_data\"],\"data_type\":\"STRING\"},{\"name\":\"processing_time\",\"path\":[\"processing_time\"],\"data_type\":\"TIMESTAMP\"},{\"name\":\"source_file\",\"path\":[\"source_file\"],\"data_type\":\"STRING\"}],\"flow_type\":\"APPEND\",\"comment\":\"Ingest raw JSON order status files from cloud storage\",\"language\":\"SQL\",\"notebook_path\":\"/Workspace/Users/labuser11058730_1754017152@vocareum.com/build-data-pipelines-with-lakeflow-declarative-pipelines-3.0.2/Build Data Pipelines with Lakeflow Declarative Pipelines/5 - Deploying a Pipeline to Production Project/status/status_pipeline.sql\",\"once\":false}}</td><td>null</td><td>null</td></tr><tr><td>4954c3c0-6ea0-11f0-a268-aa11d67e9c2a</td><td>flow_definition</td><td>{\"flow_definition\":{\"input_datasets\":[\"labuser11058730_1754017152.1_bronze_db.status_bronze_demo5\"],\"output_dataset\":\"labuser11058730_1754017152.2_silver_db.status_silver_demo5\",\"explain_text\":\"'Project ['order_id, 'order_status, 'timestamp('status_timestamp) AS order_status_timestamp#10462]\",\"schema_json\":\"{\\\"type\\\":\\\"struct\\\",\\\"fields\\\":[{\\\"name\\\":\\\"order_id\\\",\\\"type\\\":\\\"long\\\",\\\"nullable\\\":true,\\\"metadata\\\":{}},{\\\"name\\\":\\\"order_status\\\",\\\"type\\\":\\\"string\\\",\\\"nullable\\\":true,\\\"metadata\\\":{}},{\\\"name\\\":\\\"order_status_timestamp\\\",\\\"type\\\":\\\"timestamp\\\",\\\"nullable\\\":true,\\\"metadata\\\":{}}]}\",\"schema\":[{\"name\":\"order_id\",\"path\":[\"order_id\"],\"data_type\":\"LONG\"},{\"name\":\"order_status\",\"path\":[\"order_status\"],\"data_type\":\"STRING\"},{\"name\":\"order_status_timestamp\",\"path\":[\"order_status_timestamp\"],\"data_type\":\"TIMESTAMP\"}],\"flow_type\":\"APPEND\",\"comment\":\"Order with each status and timestamp\",\"language\":\"SQL\",\"notebook_path\":\"/Workspace/Users/labuser11058730_1754017152@vocareum.com/build-data-pipelines-with-lakeflow-declarative-pipelines-3.0.2/Build Data Pipelines with Lakeflow Declarative Pipelines/5 - Deploying a Pipeline to Production Project/status/status_pipeline.sql\",\"once\":false}}</td><td>null</td><td>null</td></tr><tr><td>495511e0-6ea0-11f0-a268-aa11d67e9c2a</td><td>flow_definition</td><td>{\"flow_definition\":{\"input_datasets\":[\"labuser11058730_1754017152.1_bronze_db.orders_bronze_demo5\"],\"output_dataset\":\"labuser11058730_1754017152.2_silver_db.orders_silver_demo5\",\"explain_text\":\"'Project ['order_id, 'timestamp('order_timestamp) AS order_timestamp#10472, 'customer_id, 'notifications]\",\"schema_json\":\"{\\\"type\\\":\\\"struct\\\",\\\"fields\\\":[{\\\"name\\\":\\\"order_id\\\",\\\"type\\\":\\\"long\\\",\\\"nullable\\\":true,\\\"metadata\\\":{}},{\\\"name\\\":\\\"order_timestamp\\\",\\\"type\\\":\\\"timestamp\\\",\\\"nullable\\\":true,\\\"metadata\\\":{}},{\\\"name\\\":\\\"customer_id\\\",\\\"type\\\":\\\"long\\\",\\\"nullable\\\":true,\\\"metadata\\\":{}},{\\\"name\\\":\\\"notifications\\\",\\\"type\\\":\\\"string\\\",\\\"nullable\\\":true,\\\"metadata\\\":{}}]}\",\"schema\":[{\"name\":\"order_id\",\"path\":[\"order_id\"],\"data_type\":\"LONG\"},{\"name\":\"order_timestamp\",\"path\":[\"order_timestamp\"],\"data_type\":\"TIMESTAMP\"},{\"name\":\"customer_id\",\"path\":[\"customer_id\"],\"data_type\":\"LONG\"},{\"name\":\"notifications\",\"path\":[\"notifications\"],\"data_type\":\"STRING\"}],\"flow_type\":\"APPEND\",\"comment\":\"Silver clean orders table\",\"language\":\"SQL\",\"notebook_path\":\"/Workspace/Users/labuser11058730_1754017152@vocareum.com/build-data-pipelines-with-lakeflow-declarative-pipelines-3.0.2/Build Data Pipelines with Lakeflow Declarative Pipelines/5 - Deploying a Pipeline to Production Project/orders/orders_pipeline.sql\",\"once\":false}}</td><td>null</td><td>null</td></tr><tr><td>4955ae20-6ea0-11f0-a268-aa11d67e9c2a</td><td>flow_definition</td><td>{\"flow_definition\":{\"input_datasets\":[\"labuser11058730_1754017152.2_silver_db.orders_silver_demo5\"],\"output_dataset\":\"labuser11058730_1754017152.3_gold_db.gold_orders_by_date_demo5\",\"explain_text\":\"'Aggregate ['date('order_timestamp)], ['date('order_timestamp) AS order_date#10474, 'count(1) AS total_daily_orders#10475]\",\"schema_json\":\"{\\\"type\\\":\\\"struct\\\",\\\"fields\\\":[{\\\"name\\\":\\\"order_date\\\",\\\"type\\\":\\\"date\\\",\\\"nullable\\\":true,\\\"metadata\\\":{}},{\\\"name\\\":\\\"total_daily_orders\\\",\\\"type\\\":\\\"long\\\",\\\"nullable\\\":false,\\\"metadata\\\":{}}]}\",\"schema\":[{\"name\":\"order_date\",\"path\":[\"order_date\"],\"data_type\":\"DATE\"},{\"name\":\"total_daily_orders\",\"path\":[\"total_daily_orders\"],\"data_type\":\"LONG\"}],\"flow_type\":\"MATERIALIZED_VIEW\",\"comment\":\"Aggregate gold data for downstream analysis\",\"language\":\"SQL\",\"notebook_path\":\"/Workspace/Users/labuser11058730_1754017152@vocareum.com/build-data-pipelines-with-lakeflow-declarative-pipelines-3.0.2/Build Data Pipelines with Lakeflow Declarative Pipelines/5 - Deploying a Pipeline to Production Project/orders/orders_pipeline.sql\",\"once\":false}}</td><td>null</td><td>null</td></tr><tr><td>49567170-6ea0-11f0-a268-aa11d67e9c2a</td><td>flow_definition</td><td>{\"flow_definition\":{\"input_datasets\":[\"labuser11058730_1754017152.2_silver_db.status_silver_demo5\",\"labuser11058730_1754017152.2_silver_db.orders_silver_demo5\"],\"output_dataset\":\"labuser11058730_1754017152.3_gold_db.full_order_info_gold_demo5\",\"explain_text\":\"'Project ['orders.order_id, 'orders.order_timestamp, 'status.order_status, 'status.order_status_timestamp]\",\"schema_json\":\"{\\\"type\\\":\\\"struct\\\",\\\"fields\\\":[{\\\"name\\\":\\\"order_id\\\",\\\"type\\\":\\\"long\\\",\\\"nullable\\\":true,\\\"metadata\\\":{}},{\\\"name\\\":\\\"order_timestamp\\\",\\\"type\\\":\\\"timestamp\\\",\\\"nullable\\\":true,\\\"metadata\\\":{}},{\\\"name\\\":\\\"order_status\\\",\\\"type\\\":\\\"string\\\",\\\"nullable\\\":true,\\\"metadata\\\":{}},{\\\"name\\\":\\\"order_status_timestamp\\\",\\\"type\\\":\\\"timestamp\\\",\\\"nullable\\\":true,\\\"metadata\\\":{}}]}\",\"schema\":[{\"name\":\"order_id\",\"path\":[\"order_id\"],\"data_type\":\"LONG\"},{\"name\":\"order_timestamp\",\"path\":[\"order_timestamp\"],\"data_type\":\"TIMESTAMP\"},{\"name\":\"order_status\",\"path\":[\"order_status\"],\"data_type\":\"STRING\"},{\"name\":\"order_status_timestamp\",\"path\":[\"order_status_timestamp\"],\"data_type\":\"TIMESTAMP\"}],\"flow_type\":\"MATERIALIZED_VIEW\",\"comment\":\"Joining the orders and order status silver tables to view all orders with each individual status per order\",\"language\":\"SQL\",\"notebook_path\":\"/Workspace/Users/labuser11058730_1754017152@vocareum.com/build-data-pipelines-with-lakeflow-declarative-pipelines-3.0.2/Build Data Pipelines with Lakeflow Declarative Pipelines/5 - Deploying a Pipeline to Production Project/status/status_pipeline.sql\",\"once\":false}}</td><td>null</td><td>null</td></tr><tr><td>4956bf90-6ea0-11f0-a268-aa11d67e9c2a</td><td>flow_definition</td><td>{\"flow_definition\":{\"input_datasets\":[\"labuser11058730_1754017152.3_gold_db.full_order_info_gold_demo5\"],\"output_dataset\":\"labuser11058730_1754017152.3_gold_db.delivered_orders_gold_demo5\",\"explain_text\":\"'Project ['order_id, 'order_timestamp, 'order_status, 'order_status_timestamp, timestampdiff(DAY, 'order_timestamp, 'order_status_timestamp, None) AS days_to_delivery#10465]\",\"schema_json\":\"{\\\"type\\\":\\\"struct\\\",\\\"fields\\\":[{\\\"name\\\":\\\"order_id\\\",\\\"type\\\":\\\"long\\\",\\\"nullable\\\":true,\\\"metadata\\\":{}},{\\\"name\\\":\\\"order_timestamp\\\",\\\"type\\\":\\\"timestamp\\\",\\\"nullable\\\":true,\\\"metadata\\\":{}},{\\\"name\\\":\\\"order_status\\\",\\\"type\\\":\\\"string\\\",\\\"nullable\\\":true,\\\"metadata\\\":{}},{\\\"name\\\":\\\"order_status_timestamp\\\",\\\"type\\\":\\\"timestamp\\\",\\\"nullable\\\":true,\\\"metadata\\\":{}},{\\\"name\\\":\\\"days_to_delivery\\\",\\\"type\\\":\\\"long\\\",\\\"nullable\\\":true,\\\"metadata\\\":{}}]}\",\"schema\":[{\"name\":\"order_id\",\"path\":[\"order_id\"],\"data_type\":\"LONG\"},{\"name\":\"order_timestamp\",\"path\":[\"order_timestamp\"],\"data_type\":\"TIMESTAMP\"},{\"name\":\"order_status\",\"path\":[\"order_status\"],\"data_type\":\"STRING\"},{\"name\":\"order_status_timestamp\",\"path\":[\"order_status_timestamp\"],\"data_type\":\"TIMESTAMP\"},{\"name\":\"days_to_delivery\",\"path\":[\"days_to_delivery\"],\"data_type\":\"LONG\"}],\"flow_type\":\"MATERIALIZED_VIEW\",\"comment\":\"All delivered orders\",\"language\":\"SQL\",\"notebook_path\":\"/Workspace/Users/labuser11058730_1754017152@vocareum.com/build-data-pipelines-with-lakeflow-declarative-pipelines-3.0.2/Build Data Pipelines with Lakeflow Declarative Pipelines/5 - Deploying a Pipeline to Production Project/status/status_pipeline.sql\",\"once\":false}}</td><td>null</td><td>null</td></tr><tr><td>49570db0-6ea0-11f0-a268-aa11d67e9c2a</td><td>flow_definition</td><td>{\"flow_definition\":{\"input_datasets\":[\"labuser11058730_1754017152.3_gold_db.full_order_info_gold_demo5\"],\"output_dataset\":\"labuser11058730_1754017152.3_gold_db.cancelled_orders_gold_demo5\",\"explain_text\":\"'Project ['order_id, 'order_timestamp, 'order_status, 'order_status_timestamp, timestampdiff(DAY, 'order_timestamp, 'order_status_timestamp, None) AS days_to_cancel#10464]\",\"schema_json\":\"{\\\"type\\\":\\\"struct\\\",\\\"fields\\\":[{\\\"name\\\":\\\"order_id\\\",\\\"type\\\":\\\"long\\\",\\\"nullable\\\":true,\\\"metadata\\\":{}},{\\\"name\\\":\\\"order_timestamp\\\",\\\"type\\\":\\\"timestamp\\\",\\\"nullable\\\":true,\\\"metadata\\\":{}},{\\\"name\\\":\\\"order_status\\\",\\\"type\\\":\\\"string\\\",\\\"nullable\\\":true,\\\"metadata\\\":{}},{\\\"name\\\":\\\"order_status_timestamp\\\",\\\"type\\\":\\\"timestamp\\\",\\\"nullable\\\":true,\\\"metadata\\\":{}},{\\\"name\\\":\\\"days_to_cancel\\\",\\\"type\\\":\\\"long\\\",\\\"nullable\\\":true,\\\"metadata\\\":{}}]}\",\"schema\":[{\"name\":\"order_id\",\"path\":[\"order_id\"],\"data_type\":\"LONG\"},{\"name\":\"order_timestamp\",\"path\":[\"order_timestamp\"],\"data_type\":\"TIMESTAMP\"},{\"name\":\"order_status\",\"path\":[\"order_status\"],\"data_type\":\"STRING\"},{\"name\":\"order_status_timestamp\",\"path\":[\"order_status_timestamp\"],\"data_type\":\"TIMESTAMP\"},{\"name\":\"days_to_cancel\",\"path\":[\"days_to_cancel\"],\"data_type\":\"LONG\"}],\"flow_type\":\"MATERIALIZED_VIEW\",\"comment\":\"All cancelled orders\",\"language\":\"SQL\",\"notebook_path\":\"/Workspace/Users/labuser11058730_1754017152@vocareum.com/build-data-pipelines-with-lakeflow-declarative-pipelines-3.0.2/Build Data Pipelines with Lakeflow Declarative Pipelines/5 - Deploying a Pipeline to Production Project/status/status_pipeline.sql\",\"once\":false}}</td><td>null</td><td>null</td></tr><tr><td>49590980-6ea0-11f0-a268-aa11d67e9c2a</td><td>dataset_definition</td><td>{\"dataset_definition\":{\"dataset_type\":\"STREAMING_TABLE\",\"table_properties\":[{\"key\":\"quality\",\"value\":\"bronze\"},{\"key\":\"pipelines.reset.allowed\",\"value\":\"false\"}],\"schema_json\":\"{\\\"type\\\":\\\"struct\\\",\\\"fields\\\":[{\\\"name\\\":\\\"customer_id\\\",\\\"type\\\":\\\"long\\\",\\\"nullable\\\":true,\\\"metadata\\\":{}},{\\\"name\\\":\\\"notifications\\\",\\\"type\\\":\\\"string\\\",\\\"nullable\\\":true,\\\"metadata\\\":{}},{\\\"name\\\":\\\"order_id\\\",\\\"type\\\":\\\"long\\\",\\\"nullable\\\":true,\\\"metadata\\\":{}},{\\\"name\\\":\\\"order_timestamp\\\",\\\"type\\\":\\\"long\\\",\\\"nullable\\\":true,\\\"metadata\\\":{}},{\\\"name\\\":\\\"_rescued_data\\\",\\\"type\\\":\\\"string\\\",\\\"nullable\\\":true,\\\"metadata\\\":{}},{\\\"name\\\":\\\"processing_time\\\",\\\"type\\\":\\\"timestamp\\\",\\\"nullable\\\":true,\\\"metadata\\\":{}},{\\\"name\\\":\\\"source_file\\\",\\\"type\\\":\\\"string\\\",\\\"nullable\\\":true,\\\"metadata\\\":{}}]}\",\"schema\":[{\"name\":\"customer_id\",\"path\":[\"customer_id\"],\"data_type\":\"LONG\"},{\"name\":\"notifications\",\"path\":[\"notifications\"],\"data_type\":\"STRING\"},{\"name\":\"order_id\",\"path\":[\"order_id\"],\"data_type\":\"LONG\"},{\"name\":\"order_timestamp\",\"path\":[\"order_timestamp\"],\"data_type\":\"LONG\"},{\"name\":\"_rescued_data\",\"path\":[\"_rescued_data\"],\"data_type\":\"STRING\"},{\"name\":\"processing_time\",\"path\":[\"processing_time\"],\"data_type\":\"TIMESTAMP\"},{\"name\":\"source_file\",\"path\":[\"source_file\"],\"data_type\":\"STRING\"}],\"comment\":\"Ingest order JSON files from cloud storage\",\"metastore_name\":\"`labuser11058730_1754017152`.`1_bronze_db`.`orders_bronze_demo5`\",\"language\":\"SQL\",\"notebook_path\":\"/Workspace/Users/labuser11058730_1754017152@vocareum.com/build-data-pipelines-with-lakeflow-declarative-pipelines-3.0.2/Build Data Pipelines with Lakeflow Declarative Pipelines/5 - Deploying a Pipeline to Production Project/orders/orders_pipeline.sql\",\"num_flows\":1,\"is_private\":true}}</td><td>null</td><td>null</td></tr><tr><td>495d2830-6ea0-11f0-a268-aa11d67e9c2a</td><td>dataset_definition</td><td>{\"dataset_definition\":{\"dataset_type\":\"MATERIALIZED_VIEW\",\"table_properties\":[{\"key\":\"quality\",\"value\":\"gold\"}],\"schema_json\":\"{\\\"type\\\":\\\"struct\\\",\\\"fields\\\":[{\\\"name\\\":\\\"order_id\\\",\\\"type\\\":\\\"long\\\",\\\"nullable\\\":true,\\\"metadata\\\":{}},{\\\"name\\\":\\\"order_timestamp\\\",\\\"type\\\":\\\"timestamp\\\",\\\"nullable\\\":true,\\\"metadata\\\":{}},{\\\"name\\\":\\\"order_status\\\",\\\"type\\\":\\\"string\\\",\\\"nullable\\\":true,\\\"metadata\\\":{}},{\\\"name\\\":\\\"order_status_timestamp\\\",\\\"type\\\":\\\"timestamp\\\",\\\"nullable\\\":true,\\\"metadata\\\":{}},{\\\"name\\\":\\\"days_to_delivery\\\",\\\"type\\\":\\\"long\\\",\\\"nullable\\\":true,\\\"metadata\\\":{}}]}\",\"schema\":[{\"name\":\"order_id\",\"path\":[\"order_id\"],\"data_type\":\"LONG\"},{\"name\":\"order_timestamp\",\"path\":[\"order_timestamp\"],\"data_type\":\"TIMESTAMP\"},{\"name\":\"order_status\",\"path\":[\"order_status\"],\"data_type\":\"STRING\"},{\"name\":\"order_status_timestamp\",\"path\":[\"order_status_timestamp\"],\"data_type\":\"TIMESTAMP\"},{\"name\":\"days_to_delivery\",\"path\":[\"days_to_delivery\"],\"data_type\":\"LONG\"}],\"comment\":\"All delivered orders\",\"metastore_name\":\"`labuser11058730_1754017152`.`3_gold_db`.`delivered_orders_gold_demo5`\",\"language\":\"SQL\",\"notebook_path\":\"/Workspace/Users/labuser11058730_1754017152@vocareum.com/build-data-pipelines-with-lakeflow-declarative-pipelines-3.0.2/Build Data Pipelines with Lakeflow Declarative Pipelines/5 - Deploying a Pipeline to Production Project/status/status_pipeline.sql\",\"num_flows\":1,\"is_private\":true}}</td><td>null</td><td>null</td></tr><tr><td>495e39a0-6ea0-11f0-a268-aa11d67e9c2a</td><td>dataset_definition</td><td>{\"dataset_definition\":{\"dataset_type\":\"STREAMING_TABLE\",\"table_properties\":[{\"key\":\"quality\",\"value\":\"silver\"}],\"schema_json\":\"{\\\"type\\\":\\\"struct\\\",\\\"fields\\\":[{\\\"name\\\":\\\"order_id\\\",\\\"type\\\":\\\"long\\\",\\\"nullable\\\":true,\\\"metadata\\\":{}},{\\\"name\\\":\\\"order_timestamp\\\",\\\"type\\\":\\\"timestamp\\\",\\\"nullable\\\":true,\\\"metadata\\\":{}},{\\\"name\\\":\\\"customer_id\\\",\\\"type\\\":\\\"long\\\",\\\"nullable\\\":true,\\\"metadata\\\":{}},{\\\"name\\\":\\\"notifications\\\",\\\"type\\\":\\\"string\\\",\\\"nullable\\\":true,\\\"metadata\\\":{}}]}\",\"schema\":[{\"name\":\"order_id\",\"path\":[\"order_id\"],\"data_type\":\"LONG\"},{\"name\":\"order_timestamp\",\"path\":[\"order_timestamp\"],\"data_type\":\"TIMESTAMP\"},{\"name\":\"customer_id\",\"path\":[\"customer_id\"],\"data_type\":\"LONG\"},{\"name\":\"notifications\",\"path\":[\"notifications\"],\"data_type\":\"STRING\"}],\"comment\":\"Silver clean orders table\",\"expectations\":[{\"name\":\"valid_notifications\",\"action\":\"ALLOW\"},{\"name\":\"valid_date\",\"action\":\"DROP\"},{\"name\":\"valid_id\",\"action\":\"FAIL\"}],\"metastore_name\":\"`labuser11058730_1754017152`.`2_silver_db`.`orders_silver_demo5`\",\"language\":\"SQL\",\"notebook_path\":\"/Workspace/Users/labuser11058730_1754017152@vocareum.com/build-data-pipelines-with-lakeflow-declarative-pipelines-3.0.2/Build Data Pipelines with Lakeflow Declarative Pipelines/5 - Deploying a Pipeline to Production Project/orders/orders_pipeline.sql\",\"num_flows\":1,\"is_private\":true}}</td><td>null</td><td>null</td></tr><tr><td>4960f8c0-6ea0-11f0-a268-aa11d67e9c2a</td><td>dataset_definition</td><td>{\"dataset_definition\":{\"dataset_type\":\"STREAMING_TABLE\",\"table_properties\":[{\"key\":\"quality\",\"value\":\"bronze\"},{\"key\":\"pipelines.reset.allowed\",\"value\":\"false\"}],\"schema_json\":\"{\\\"type\\\":\\\"struct\\\",\\\"fields\\\":[{\\\"name\\\":\\\"order_id\\\",\\\"type\\\":\\\"long\\\",\\\"nullable\\\":true,\\\"metadata\\\":{}},{\\\"name\\\":\\\"order_status\\\",\\\"type\\\":\\\"string\\\",\\\"nullable\\\":true,\\\"metadata\\\":{}},{\\\"name\\\":\\\"status_timestamp\\\",\\\"type\\\":\\\"long\\\",\\\"nullable\\\":true,\\\"metadata\\\":{}},{\\\"name\\\":\\\"_rescued_data\\\",\\\"type\\\":\\\"string\\\",\\\"nullable\\\":true,\\\"metadata\\\":{}},{\\\"name\\\":\\\"processing_time\\\",\\\"type\\\":\\\"timestamp\\\",\\\"nullable\\\":true,\\\"metadata\\\":{}},{\\\"name\\\":\\\"source_file\\\",\\\"type\\\":\\\"string\\\",\\\"nullable\\\":true,\\\"metadata\\\":{}}]}\",\"schema\":[{\"name\":\"order_id\",\"path\":[\"order_id\"],\"data_type\":\"LONG\"},{\"name\":\"order_status\",\"path\":[\"order_status\"],\"data_type\":\"STRING\"},{\"name\":\"status_timestamp\",\"path\":[\"status_timestamp\"],\"data_type\":\"LONG\"},{\"name\":\"_rescued_data\",\"path\":[\"_rescued_data\"],\"data_type\":\"STRING\"},{\"name\":\"processing_time\",\"path\":[\"processing_time\"],\"data_type\":\"TIMESTAMP\"},{\"name\":\"source_file\",\"path\":[\"source_file\"],\"data_type\":\"STRING\"}],\"comment\":\"Ingest raw JSON order status files from cloud storage\",\"metastore_name\":\"`labuser11058730_1754017152`.`1_bronze_db`.`status_bronze_demo5`\",\"language\":\"SQL\",\"notebook_path\":\"/Workspace/Users/labuser11058730_1754017152@vocareum.com/build-data-pipelines-with-lakeflow-declarative-pipelines-3.0.2/Build Data Pipelines with Lakeflow Declarative Pipelines/5 - Deploying a Pipeline to Production Project/status/status_pipeline.sql\",\"num_flows\":1,\"is_private\":true}}</td><td>null</td><td>null</td></tr><tr><td>4961bc10-6ea0-11f0-a268-aa11d67e9c2a</td><td>dataset_definition</td><td>{\"dataset_definition\":{\"dataset_type\":\"STREAMING_TABLE\",\"table_properties\":[{\"key\":\"quality\",\"value\":\"silver\"}],\"schema_json\":\"{\\\"type\\\":\\\"struct\\\",\\\"fields\\\":[{\\\"name\\\":\\\"order_id\\\",\\\"type\\\":\\\"long\\\",\\\"nullable\\\":true,\\\"metadata\\\":{}},{\\\"name\\\":\\\"order_status\\\",\\\"type\\\":\\\"string\\\",\\\"nullable\\\":true,\\\"metadata\\\":{}},{\\\"name\\\":\\\"order_status_timestamp\\\",\\\"type\\\":\\\"timestamp\\\",\\\"nullable\\\":true,\\\"metadata\\\":{}}]}\",\"schema\":[{\"name\":\"order_id\",\"path\":[\"order_id\"],\"data_type\":\"LONG\"},{\"name\":\"order_status\",\"path\":[\"order_status\"],\"data_type\":\"STRING\"},{\"name\":\"order_status_timestamp\",\"path\":[\"order_status_timestamp\"],\"data_type\":\"TIMESTAMP\"}],\"comment\":\"Order with each status and timestamp\",\"expectations\":[{\"name\":\"valid_timestamp\",\"action\":\"DROP\"},{\"name\":\"valid_order_status\",\"action\":\"ALLOW\"}],\"metastore_name\":\"`labuser11058730_1754017152`.`2_silver_db`.`status_silver_demo5`\",\"language\":\"SQL\",\"notebook_path\":\"/Workspace/Users/labuser11058730_1754017152@vocareum.com/build-data-pipelines-with-lakeflow-declarative-pipelines-3.0.2/Build Data Pipelines with Lakeflow Declarative Pipelines/5 - Deploying a Pipeline to Production Project/status/status_pipeline.sql\",\"num_flows\":1,\"is_private\":true}}</td><td>null</td><td>null</td></tr><tr><td>49627f60-6ea0-11f0-a268-aa11d67e9c2a</td><td>dataset_definition</td><td>{\"dataset_definition\":{\"dataset_type\":\"MATERIALIZED_VIEW\",\"table_properties\":[{\"key\":\"quality\",\"value\":\"gold\"}],\"schema_json\":\"{\\\"type\\\":\\\"struct\\\",\\\"fields\\\":[{\\\"name\\\":\\\"order_date\\\",\\\"type\\\":\\\"date\\\",\\\"nullable\\\":true,\\\"metadata\\\":{}},{\\\"name\\\":\\\"total_daily_orders\\\",\\\"type\\\":\\\"long\\\",\\\"nullable\\\":true,\\\"metadata\\\":{}}]}\",\"schema\":[{\"name\":\"order_date\",\"path\":[\"order_date\"],\"data_type\":\"DATE\"},{\"name\":\"total_daily_orders\",\"path\":[\"total_daily_orders\"],\"data_type\":\"LONG\"}],\"comment\":\"Aggregate gold data for downstream analysis\",\"metastore_name\":\"`labuser11058730_1754017152`.`3_gold_db`.`gold_orders_by_date_demo5`\",\"language\":\"SQL\",\"notebook_path\":\"/Workspace/Users/labuser11058730_1754017152@vocareum.com/build-data-pipelines-with-lakeflow-declarative-pipelines-3.0.2/Build Data Pipelines with Lakeflow Declarative Pipelines/5 - Deploying a Pipeline to Production Project/orders/orders_pipeline.sql\",\"num_flows\":1,\"is_private\":true}}</td><td>null</td><td>null</td></tr><tr><td>496342b0-6ea0-11f0-a268-aa11d67e9c2a</td><td>dataset_definition</td><td>{\"dataset_definition\":{\"dataset_type\":\"MATERIALIZED_VIEW\",\"table_properties\":[{\"key\":\"quality\",\"value\":\"gold\"}],\"schema_json\":\"{\\\"type\\\":\\\"struct\\\",\\\"fields\\\":[{\\\"name\\\":\\\"order_id\\\",\\\"type\\\":\\\"long\\\",\\\"nullable\\\":true,\\\"metadata\\\":{}},{\\\"name\\\":\\\"order_timestamp\\\",\\\"type\\\":\\\"timestamp\\\",\\\"nullable\\\":true,\\\"metadata\\\":{}},{\\\"name\\\":\\\"order_status\\\",\\\"type\\\":\\\"string\\\",\\\"nullable\\\":true,\\\"metadata\\\":{}},{\\\"name\\\":\\\"order_status_timestamp\\\",\\\"type\\\":\\\"timestamp\\\",\\\"nullable\\\":true,\\\"metadata\\\":{}},{\\\"name\\\":\\\"days_to_cancel\\\",\\\"type\\\":\\\"long\\\",\\\"nullable\\\":true,\\\"metadata\\\":{}}]}\",\"schema\":[{\"name\":\"order_id\",\"path\":[\"order_id\"],\"data_type\":\"LONG\"},{\"name\":\"order_timestamp\",\"path\":[\"order_timestamp\"],\"data_type\":\"TIMESTAMP\"},{\"name\":\"order_status\",\"path\":[\"order_status\"],\"data_type\":\"STRING\"},{\"name\":\"order_status_timestamp\",\"path\":[\"order_status_timestamp\"],\"data_type\":\"TIMESTAMP\"},{\"name\":\"days_to_cancel\",\"path\":[\"days_to_cancel\"],\"data_type\":\"LONG\"}],\"comment\":\"All cancelled orders\",\"metastore_name\":\"`labuser11058730_1754017152`.`3_gold_db`.`cancelled_orders_gold_demo5`\",\"language\":\"SQL\",\"notebook_path\":\"/Workspace/Users/labuser11058730_1754017152@vocareum.com/build-data-pipelines-with-lakeflow-declarative-pipelines-3.0.2/Build Data Pipelines with Lakeflow Declarative Pipelines/5 - Deploying a Pipeline to Production Project/status/status_pipeline.sql\",\"num_flows\":1,\"is_private\":true}}</td><td>null</td><td>null</td></tr><tr><td>49647b30-6ea0-11f0-a268-aa11d67e9c2a</td><td>dataset_definition</td><td>{\"dataset_definition\":{\"dataset_type\":\"MATERIALIZED_VIEW\",\"table_properties\":[{\"key\":\"quality\",\"value\":\"gold\"}],\"schema_json\":\"{\\\"type\\\":\\\"struct\\\",\\\"fields\\\":[{\\\"name\\\":\\\"order_id\\\",\\\"type\\\":\\\"long\\\",\\\"nullable\\\":true,\\\"metadata\\\":{}},{\\\"name\\\":\\\"order_timestamp\\\",\\\"type\\\":\\\"timestamp\\\",\\\"nullable\\\":true,\\\"metadata\\\":{}},{\\\"name\\\":\\\"order_status\\\",\\\"type\\\":\\\"string\\\",\\\"nullable\\\":true,\\\"metadata\\\":{}},{\\\"name\\\":\\\"order_status_timestamp\\\",\\\"type\\\":\\\"timestamp\\\",\\\"nullable\\\":true,\\\"metadata\\\":{}}]}\",\"schema\":[{\"name\":\"order_id\",\"path\":[\"order_id\"],\"data_type\":\"LONG\"},{\"name\":\"order_timestamp\",\"path\":[\"order_timestamp\"],\"data_type\":\"TIMESTAMP\"},{\"name\":\"order_status\",\"path\":[\"order_status\"],\"data_type\":\"STRING\"},{\"name\":\"order_status_timestamp\",\"path\":[\"order_status_timestamp\"],\"data_type\":\"TIMESTAMP\"}],\"comment\":\"Joining the orders and order status silver tables to view all orders with each individual status per order\",\"metastore_name\":\"`labuser11058730_1754017152`.`3_gold_db`.`full_order_info_gold_demo5`\",\"language\":\"SQL\",\"notebook_path\":\"/Workspace/Users/labuser11058730_1754017152@vocareum.com/build-data-pipelines-with-lakeflow-declarative-pipelines-3.0.2/Build Data Pipelines with Lakeflow Declarative Pipelines/5 - Deploying a Pipeline to Production Project/status/status_pipeline.sql\",\"num_flows\":1,\"is_private\":true}}</td><td>null</td><td>null</td></tr><tr><td>49ae0750-6ea0-11f0-a268-aa11d67e9c2a</td><td>graph_created</td><td>{\"graph_created\":{}}</td><td>null</td><td>null</td></tr><tr><td>49b09f60-6ea0-11f0-a268-aa11d67e9c2a</td><td>update_progress</td><td>{\"update_progress\":{\"state\":\"RUNNING\"}}</td><td>null</td><td>null</td></tr><tr><td>49b33770-6ea0-11f0-a268-aa11d67e9c2a</td><td>flow_progress</td><td>{\"flow_progress\":{\"status\":\"QUEUED\"}}</td><td>{\"status\":\"QUEUED\"}</td><td>null</td></tr><tr><td>49b66bc0-6ea0-11f0-a268-aa11d67e9c2a</td><td>flow_progress</td><td>{\"flow_progress\":{\"status\":\"QUEUED\"}}</td><td>{\"status\":\"QUEUED\"}</td><td>null</td></tr><tr><td>49b6b9e0-6ea0-11f0-a268-aa11d67e9c2a</td><td>flow_progress</td><td>{\"flow_progress\":{\"status\":\"QUEUED\"}}</td><td>{\"status\":\"QUEUED\"}</td><td>null</td></tr><tr><td>49b70800-6ea0-11f0-a268-aa11d67e9c2a</td><td>flow_progress</td><td>{\"flow_progress\":{\"status\":\"QUEUED\"}}</td><td>{\"status\":\"QUEUED\"}</td><td>null</td></tr><tr><td>49b75620-6ea0-11f0-a268-aa11d67e9c2a</td><td>flow_progress</td><td>{\"flow_progress\":{\"status\":\"QUEUED\"}}</td><td>{\"status\":\"QUEUED\"}</td><td>null</td></tr><tr><td>49b77d30-6ea0-11f0-a268-aa11d67e9c2a</td><td>flow_progress</td><td>{\"flow_progress\":{\"status\":\"QUEUED\"}}</td><td>{\"status\":\"QUEUED\"}</td><td>null</td></tr><tr><td>49b7cb50-6ea0-11f0-a268-aa11d67e9c2a</td><td>flow_progress</td><td>{\"flow_progress\":{\"status\":\"QUEUED\"}}</td><td>{\"status\":\"QUEUED\"}</td><td>null</td></tr><tr><td>49b7f260-6ea0-11f0-a268-aa11d67e9c2a</td><td>flow_progress</td><td>{\"flow_progress\":{\"status\":\"QUEUED\"}}</td><td>{\"status\":\"QUEUED\"}</td><td>null</td></tr><tr><td>49d16dd0-6ea0-11f0-a268-aa11d67e9c2a</td><td>flow_progress</td><td>{\"flow_progress\":{\"status\":\"STARTING\"}}</td><td>{\"status\":\"STARTING\"}</td><td>null</td></tr><tr><td>4a0771f0-6ea0-11f0-a268-aa11d67e9c2a</td><td>flow_progress</td><td>{\"flow_progress\":{\"status\":\"RUNNING\",\"metrics\":{}}}</td><td>{\"status\":\"RUNNING\",\"metrics\":{}}</td><td>null</td></tr><tr><td>4a408350-6ea0-11f0-a268-aa11d67e9c2a</td><td>flow_progress</td><td>{\"flow_progress\":{\"status\":\"STARTING\"}}</td><td>{\"status\":\"STARTING\"}</td><td>null</td></tr><tr><td>4a659780-6ea0-11f0-a268-aa11d67e9c2a</td><td>flow_progress</td><td>{\"flow_progress\":{\"status\":\"RUNNING\",\"metrics\":{}}}</td><td>{\"status\":\"RUNNING\",\"metrics\":{}}</td><td>null</td></tr><tr><td>4edc79a0-6ea0-11f0-a268-aa11d67e9c2a</td><td>flow_progress</td><td>{\"flow_progress\":{\"status\":\"RUNNING\",\"metrics\":{\"num_output_rows\":536,\"backlog_bytes\":0,\"backlog_files\":0,\"source_metrics\":[{\"source_name\":\"CloudFilesSource[/Volumes/dbacademy/ops/labuser11058730_1754017152@vocareum_com/status]\",\"backlog_bytes\":0,\"backlog_files\":0}]},\"data_quality\":{\"dropped_records\":0},\"streaming_metrics\":{\"event_time\":{}}}}</td><td>{\"status\":\"RUNNING\",\"metrics\":{\"num_output_rows\":536,\"backlog_bytes\":0,\"backlog_files\":0,\"source_metrics\":[{\"source_name\":\"CloudFilesSource[/Volumes/dbacademy/ops/labuser11058730_1754017152@vocareum_com/status]\",\"backlog_bytes\":0,\"backlog_files\":0}]},\"data_quality\":{\"dropped_records\":0},\"streaming_metrics\":{\"event_time\":{}}}</td><td>null</td></tr><tr><td>4ef42050-6ea0-11f0-a268-aa11d67e9c2a</td><td>flow_progress</td><td>{\"flow_progress\":{\"status\":\"RUNNING\",\"metrics\":{\"num_output_rows\":174,\"backlog_bytes\":0,\"backlog_files\":0,\"source_metrics\":[{\"source_name\":\"CloudFilesSource[/Volumes/dbacademy/ops/labuser11058730_1754017152@vocareum_com/orders]\",\"backlog_bytes\":0,\"backlog_files\":0}]},\"data_quality\":{\"dropped_records\":0},\"streaming_metrics\":{\"event_time\":{}}}}</td><td>{\"status\":\"RUNNING\",\"metrics\":{\"num_output_rows\":174,\"backlog_bytes\":0,\"backlog_files\":0,\"source_metrics\":[{\"source_name\":\"CloudFilesSource[/Volumes/dbacademy/ops/labuser11058730_1754017152@vocareum_com/orders]\",\"backlog_bytes\":0,\"backlog_files\":0}]},\"data_quality\":{\"dropped_records\":0},\"streaming_metrics\":{\"event_time\":{}}}</td><td>null</td></tr><tr><td>4ef5ce00-6ea0-11f0-a268-aa11d67e9c2a</td><td>flow_progress</td><td>{\"flow_progress\":{\"status\":\"COMPLETED\"}}</td><td>{\"status\":\"COMPLETED\"}</td><td>null</td></tr><tr><td>4efcabd0-6ea0-11f0-a268-aa11d67e9c2a</td><td>flow_progress</td><td>{\"flow_progress\":{\"status\":\"COMPLETED\"}}</td><td>{\"status\":\"COMPLETED\"}</td><td>null</td></tr><tr><td>4fe05510-6ea0-11f0-a268-aa11d67e9c2a</td><td>flow_progress</td><td>{\"flow_progress\":{\"status\":\"STARTING\"}}</td><td>{\"status\":\"STARTING\"}</td><td>null</td></tr><tr><td>503579f0-6ea0-11f0-a268-aa11d67e9c2a</td><td>flow_progress</td><td>{\"flow_progress\":{\"status\":\"RUNNING\",\"metrics\":{}}}</td><td>{\"status\":\"RUNNING\",\"metrics\":{}}</td><td>null</td></tr><tr><td>506d52d0-6ea0-11f0-a268-aa11d67e9c2a</td><td>flow_progress</td><td>{\"flow_progress\":{\"status\":\"STARTING\"}}</td><td>{\"status\":\"STARTING\"}</td><td>null</td></tr><tr><td>50a504a0-6ea0-11f0-a268-aa11d67e9c2a</td><td>flow_progress</td><td>{\"flow_progress\":{\"status\":\"RUNNING\",\"metrics\":{}}}</td><td>{\"status\":\"RUNNING\",\"metrics\":{}}</td><td>null</td></tr><tr><td>520f4300-6ea0-11f0-a268-aa11d67e9c2a</td><td>flow_progress</td><td>{\"flow_progress\":{\"status\":\"RUNNING\",\"metrics\":{\"num_output_rows\":536,\"backlog_bytes\":0,\"backlog_files\":0,\"source_metrics\":[{\"source_name\":\"DeltaSource[labuser11058730_1754017152.1_bronze_db.status_bronze_demo5]\",\"backlog_bytes\":0,\"backlog_files\":0}]},\"data_quality\":{\"dropped_records\":0,\"expectations\":[{\"name\":\"valid_timestamp\",\"dataset\":\"labuser11058730_1754017152.2_silver_db.status_silver_demo5\",\"passed_records\":536,\"failed_records\":0},{\"name\":\"valid_order_status\",\"dataset\":\"labuser11058730_1754017152.2_silver_db.status_silver_demo5\",\"passed_records\":506,\"failed_records\":30}]},\"streaming_metrics\":{\"event_time\":{}}}}</td><td>{\"status\":\"RUNNING\",\"metrics\":{\"num_output_rows\":536,\"backlog_bytes\":0,\"backlog_files\":0,\"source_metrics\":[{\"source_name\":\"DeltaSource[labuser11058730_1754017152.1_bronze_db.status_bronze_demo5]\",\"backlog_bytes\":0,\"backlog_files\":0}]},\"data_quality\":{\"dropped_records\":0,\"expectations\":[{\"name\":\"valid_timestamp\",\"dataset\":\"labuser11058730_1754017152.2_silver_db.status_silver_demo5\",\"passed_records\":536,\"failed_records\":0},{\"name\":\"valid_order_status\",\"dataset\":\"labuser11058730_1754017152.2_silver_db.status_silver_demo5\",\"passed_records\":506,\"failed_records\":30}]},\"streaming_metrics\":{\"event_time\":{}}}</td><td>null</td></tr><tr><td>52120220-6ea0-11f0-a268-aa11d67e9c2a</td><td>flow_progress</td><td>{\"flow_progress\":{\"status\":\"COMPLETED\"}}</td><td>{\"status\":\"COMPLETED\"}</td><td>null</td></tr><tr><td>521bed30-6ea0-11f0-a268-aa11d67e9c2a</td><td>flow_progress</td><td>{\"flow_progress\":{\"status\":\"RUNNING\",\"metrics\":{\"num_output_rows\":174,\"backlog_bytes\":0,\"backlog_files\":0,\"source_metrics\":[{\"source_name\":\"DeltaSource[labuser11058730_1754017152.1_bronze_db.orders_bronze_demo5]\",\"backlog_bytes\":0,\"backlog_files\":0}]},\"data_quality\":{\"dropped_records\":0,\"expectations\":[{\"name\":\"valid_notifications\",\"dataset\":\"labuser11058730_1754017152.2_silver_db.orders_silver_demo5\",\"passed_records\":174,\"failed_records\":0},{\"name\":\"valid_id\",\"dataset\":\"labuser11058730_1754017152.2_silver_db.orders_silver_demo5\",\"passed_records\":174,\"failed_records\":0},{\"name\":\"valid_date\",\"dataset\":\"labuser11058730_1754017152.2_silver_db.orders_silver_demo5\",\"passed_records\":174,\"failed_records\":0}]},\"streaming_metrics\":{\"event_time\":{}}}}</td><td>{\"status\":\"RUNNING\",\"metrics\":{\"num_output_rows\":174,\"backlog_bytes\":0,\"backlog_files\":0,\"source_metrics\":[{\"source_name\":\"DeltaSource[labuser11058730_1754017152.1_bronze_db.orders_bronze_demo5]\",\"backlog_bytes\":0,\"backlog_files\":0}]},\"data_quality\":{\"dropped_records\":0,\"expectations\":[{\"name\":\"valid_notifications\",\"dataset\":\"labuser11058730_1754017152.2_silver_db.orders_silver_demo5\",\"passed_records\":174,\"failed_records\":0},{\"name\":\"valid_id\",\"dataset\":\"labuser11058730_1754017152.2_silver_db.orders_silver_demo5\",\"passed_records\":174,\"failed_records\":0},{\"name\":\"valid_date\",\"dataset\":\"labuser11058730_1754017152.2_silver_db.orders_silver_demo5\",\"passed_records\":174,\"failed_records\":0}]},\"streaming_metrics\":{\"event_time\":{}}}</td><td>null</td></tr><tr><td>521ed360-6ea0-11f0-a268-aa11d67e9c2a</td><td>flow_progress</td><td>{\"flow_progress\":{\"status\":\"COMPLETED\"}}</td><td>{\"status\":\"COMPLETED\"}</td><td>null</td></tr><tr><td>5345a020-6ea0-11f0-a268-aa11d67e9c2a</td><td>flow_progress</td><td>{\"flow_progress\":{\"status\":\"PLANNING\"}}</td><td>{\"status\":\"PLANNING\"}</td><td>null</td></tr><tr><td>53ec8e80-6ea0-11f0-a268-aa11d67e9c2a</td><td>planning_information</td><td>{\"planning_information\":{\"technique_information\":[{\"incrementalization_issues\":[{\"issue_type\":\"CHANGE_SET_MISSING\",\"prevent_incrementalization\":true}]},{\"maintenance_type\":\"MAINTENANCE_TYPE_COMPLETE_RECOMPUTE\",\"is_chosen\":true,\"is_applicable\":true,\"cost\":1585.0}],\"source_table_information\":[{\"table_id\":\"d5f7414c-d9fe-49b9-965f-1af66e757836\",\"full_size\":4124.0,\"num_rows\":174,\"num_files\":1,\"is_size_after_pruning\":true,\"is_row_id_enabled\":true,\"is_cdf_enabled\":true,\"is_deletion_vector_enabled\":true}],\"target_table_information\":{\"table_name\":\"`labuser11058730_1754017152`.`3_gold_db`.`gold_orders_by_date_demo5`\",\"table_id\":\"200c3af9-0c63-487b-9665-5f72a2b6926e\",\"full_size\":0.0,\"is_row_id_enabled\":true,\"is_cdf_enabled\":true,\"is_deletion_vector_enabled\":true},\"planning_wall_time_ms\":987}}</td><td>null</td><td>null</td></tr><tr><td>53f8c380-6ea0-11f0-a268-aa11d67e9c2a</td><td>flow_progress</td><td>{\"flow_progress\":{\"status\":\"STARTING\"}}</td><td>{\"status\":\"STARTING\"}</td><td>null</td></tr><tr><td>53f9fc00-6ea0-11f0-a268-aa11d67e9c2a</td><td>flow_progress</td><td>{\"flow_progress\":{\"status\":\"PLANNING\"}}</td><td>{\"status\":\"PLANNING\"}</td><td>null</td></tr><tr><td>53fd3050-6ea0-11f0-a268-aa11d67e9c2a</td><td>flow_progress</td><td>{\"flow_progress\":{\"status\":\"RUNNING\",\"metrics\":{\"backlog_bytes\":4124,\"backlog_files\":1}}}</td><td>{\"status\":\"RUNNING\",\"metrics\":{\"backlog_bytes\":4124,\"backlog_files\":1}}</td><td>null</td></tr><tr><td>5447cde0-6ea0-11f0-a268-aa11d67e9c2a</td><td>planning_information</td><td>{\"planning_information\":{\"technique_information\":[{\"incrementalization_issues\":[{\"issue_type\":\"CHANGE_SET_MISSING\",\"prevent_incrementalization\":true}]},{\"maintenance_type\":\"MAINTENANCE_TYPE_COMPLETE_RECOMPUTE\",\"is_chosen\":true,\"is_applicable\":true,\"cost\":372091.0}],\"source_table_information\":[{\"table_id\":\"4f59ae67-2d5e-4523-8700-f788e4855363\",\"full_size\":6859.0,\"num_rows\":536,\"num_files\":1,\"is_size_after_pruning\":true,\"is_row_id_enabled\":true,\"is_cdf_enabled\":true,\"is_deletion_vector_enabled\":true},{\"table_id\":\"d5f7414c-d9fe-49b9-965f-1af66e757836\",\"full_size\":4124.0,\"num_rows\":174,\"num_files\":1,\"is_size_after_pruning\":true,\"is_row_id_enabled\":true,\"is_cdf_enabled\":true,\"is_deletion_vector_enabled\":true}],\"target_table_information\":{\"table_name\":\"`labuser11058730_1754017152`.`3_gold_db`.`full_order_info_gold_demo5`\",\"table_id\":\"0eabdda1-f3f9-4614-a4af-cbf7916be303\",\"full_size\":0.0,\"is_row_id_enabled\":true,\"is_cdf_enabled\":true,\"is_deletion_vector_enabled\":true},\"planning_wall_time_ms\":383}}</td><td>null</td><td>null</td></tr><tr><td>54486a20-6ea0-11f0-a268-aa11d67e9c2a</td><td>flow_progress</td><td>{\"flow_progress\":{\"status\":\"STARTING\"}}</td><td>{\"status\":\"STARTING\"}</td><td>null</td></tr><tr><td>545402e0-6ea0-11f0-a268-aa11d67e9c2a</td><td>flow_progress</td><td>{\"flow_progress\":{\"status\":\"RUNNING\",\"metrics\":{\"backlog_bytes\":10983,\"backlog_files\":2}}}</td><td>{\"status\":\"RUNNING\",\"metrics\":{\"backlog_bytes\":10983,\"backlog_files\":2}}</td><td>null</td></tr><tr><td>54e23920-6ea0-11f0-a268-aa11d67e9c2a</td><td>aggregated_flow_metrics</td><td>{\"aggregated_flow_metrics\":{\"executor_time_ms\":0,\"executor_cpu_time_ms\":0}}</td><td>null</td><td>null</td></tr><tr><td>554a49c0-6ea0-11f0-a268-aa11d67e9c2a</td><td>aggregated_flow_metrics</td><td>{\"aggregated_flow_metrics\":{\"executor_time_ms\":0,\"executor_cpu_time_ms\":0}}</td><td>null</td><td>null</td></tr><tr><td>56916fc0-6ea0-11f0-a268-aa11d67e9c2a</td><td>dataset_life_cycle</td><td>{\"dataset_life_cycle\":{\"state\":\"CREATED\",\"dataset_type\":\"MATERIALIZED_VIEW\"}}</td><td>null</td><td>null</td></tr><tr><td>569455f0-6ea0-11f0-a268-aa11d67e9c2a</td><td>flow_progress</td><td>{\"flow_progress\":{\"status\":\"COMPLETED\",\"metrics\":{\"num_output_rows\":7},\"data_quality\":{\"dropped_records\":0}}}</td><td>{\"status\":\"COMPLETED\",\"metrics\":{\"num_output_rows\":7},\"data_quality\":{\"dropped_records\":0}}</td><td>null</td></tr><tr><td>573f6300-6ea0-11f0-a268-aa11d67e9c2a</td><td>dataset_life_cycle</td><td>{\"dataset_life_cycle\":{\"state\":\"CREATED\",\"dataset_type\":\"MATERIALIZED_VIEW\"}}</td><td>null</td><td>null</td></tr><tr><td>57407470-6ea0-11f0-a268-aa11d67e9c2a</td><td>flow_progress</td><td>{\"flow_progress\":{\"status\":\"COMPLETED\",\"metrics\":{\"num_output_rows\":536},\"data_quality\":{\"dropped_records\":0}}}</td><td>{\"status\":\"COMPLETED\",\"metrics\":{\"num_output_rows\":536},\"data_quality\":{\"dropped_records\":0}}</td><td>null</td></tr><tr><td>57782640-6ea0-11f0-a268-aa11d67e9c2a</td><td>flow_progress</td><td>{\"flow_progress\":{\"status\":\"PLANNING\"}}</td><td>{\"status\":\"PLANNING\"}</td><td>null</td></tr><tr><td>57a773a0-6ea0-11f0-a268-aa11d67e9c2a</td><td>planning_information</td><td>{\"planning_information\":{\"technique_information\":[{\"incrementalization_issues\":[{\"issue_type\":\"CHANGE_SET_MISSING\",\"prevent_incrementalization\":true}]},{\"maintenance_type\":\"MAINTENANCE_TYPE_COMPLETE_RECOMPUTE\",\"is_chosen\":true,\"is_applicable\":true,\"cost\":7389.0}],\"source_table_information\":[{\"table_name\":\"`labuser11058730_1754017152`.`3_gold_db`.`full_order_info_gold_demo5`\",\"table_id\":\"0eabdda1-f3f9-4614-a4af-cbf7916be303\",\"catalog_table_type\":\"MATERIALIZED_VIEW\",\"full_size\":9997.0,\"num_rows\":536,\"num_files\":1,\"is_size_after_pruning\":true,\"is_row_id_enabled\":true,\"is_cdf_enabled\":true,\"is_deletion_vector_enabled\":true}],\"target_table_information\":{\"table_name\":\"`labuser11058730_1754017152`.`3_gold_db`.`cancelled_orders_gold_demo5`\",\"table_id\":\"cadc933b-69aa-44fd-97f3-18a891588e27\",\"full_size\":0.0,\"is_row_id_enabled\":true,\"is_cdf_enabled\":true,\"is_deletion_vector_enabled\":true},\"planning_wall_time_ms\":217}}</td><td>null</td><td>null</td></tr><tr><td>57a7e8d0-6ea0-11f0-a268-aa11d67e9c2a</td><td>flow_progress</td><td>{\"flow_progress\":{\"status\":\"STARTING\"}}</td><td>{\"status\":\"STARTING\"}</td><td>null</td></tr><tr><td>57a88510-6ea0-11f0-a268-aa11d67e9c2a</td><td>flow_progress</td><td>{\"flow_progress\":{\"status\":\"PLANNING\"}}</td><td>{\"status\":\"PLANNING\"}</td><td>null</td></tr><tr><td>57ab1d20-6ea0-11f0-a268-aa11d67e9c2a</td><td>flow_progress</td><td>{\"flow_progress\":{\"status\":\"RUNNING\",\"metrics\":{\"backlog_bytes\":0,\"backlog_files\":0}}}</td><td>{\"status\":\"RUNNING\",\"metrics\":{\"backlog_bytes\":0,\"backlog_files\":0}}</td><td>null</td></tr><tr><td>57e16f60-6ea0-11f0-a268-aa11d67e9c2a</td><td>planning_information</td><td>{\"planning_information\":{\"technique_information\":[{\"incrementalization_issues\":[{\"issue_type\":\"CHANGE_SET_MISSING\",\"prevent_incrementalization\":true}]},{\"maintenance_type\":\"MAINTENANCE_TYPE_COMPLETE_RECOMPUTE\",\"is_chosen\":true,\"is_applicable\":true,\"cost\":7389.0}],\"source_table_information\":[{\"table_name\":\"`labuser11058730_1754017152`.`3_gold_db`.`full_order_info_gold_demo5`\",\"table_id\":\"0eabdda1-f3f9-4614-a4af-cbf7916be303\",\"catalog_table_type\":\"MATERIALIZED_VIEW\",\"full_size\":9997.0,\"num_rows\":536,\"num_files\":1,\"is_size_after_pruning\":true,\"is_row_id_enabled\":true,\"is_cdf_enabled\":true,\"is_deletion_vector_enabled\":true}],\"target_table_information\":{\"table_name\":\"`labuser11058730_1754017152`.`3_gold_db`.`delivered_orders_gold_demo5`\",\"table_id\":\"2fc9af5c-295c-4569-9905-9dd40863f71a\",\"full_size\":0.0,\"is_row_id_enabled\":true,\"is_cdf_enabled\":true,\"is_deletion_vector_enabled\":true},\"planning_wall_time_ms\":253}}</td><td>null</td><td>null</td></tr><tr><td>57e1e490-6ea0-11f0-a268-aa11d67e9c2a</td><td>flow_progress</td><td>{\"flow_progress\":{\"status\":\"STARTING\"}}</td><td>{\"status\":\"STARTING\"}</td><td>null</td></tr><tr><td>57e47ca0-6ea0-11f0-a268-aa11d67e9c2a</td><td>flow_progress</td><td>{\"flow_progress\":{\"status\":\"RUNNING\",\"metrics\":{\"backlog_bytes\":0,\"backlog_files\":0}}}</td><td>{\"status\":\"RUNNING\",\"metrics\":{\"backlog_bytes\":0,\"backlog_files\":0}}</td><td>null</td></tr><tr><td>5868eee0-6ea0-11f0-a268-aa11d67e9c2a</td><td>aggregated_flow_metrics</td><td>{\"aggregated_flow_metrics\":{\"executor_time_ms\":0,\"executor_cpu_time_ms\":0}}</td><td>null</td><td>null</td></tr><tr><td>58896f30-6ea0-11f0-a268-aa11d67e9c2a</td><td>aggregated_flow_metrics</td><td>{\"aggregated_flow_metrics\":{\"executor_time_ms\":0,\"executor_cpu_time_ms\":0}}</td><td>null</td><td>null</td></tr><tr><td>5a371f30-6ea0-11f0-a268-aa11d67e9c2a</td><td>dataset_life_cycle</td><td>{\"dataset_life_cycle\":{\"state\":\"CREATED\",\"dataset_type\":\"MATERIALIZED_VIEW\"}}</td><td>null</td><td>null</td></tr><tr><td>5a380990-6ea0-11f0-a268-aa11d67e9c2a</td><td>flow_progress</td><td>{\"flow_progress\":{\"status\":\"COMPLETED\",\"metrics\":{\"num_output_rows\":8},\"data_quality\":{\"dropped_records\":0}}}</td><td>{\"status\":\"COMPLETED\",\"metrics\":{\"num_output_rows\":8},\"data_quality\":{\"dropped_records\":0}}</td><td>null</td></tr><tr><td>5a6bead0-6ea0-11f0-a268-aa11d67e9c2a</td><td>dataset_life_cycle</td><td>{\"dataset_life_cycle\":{\"state\":\"CREATED\",\"dataset_type\":\"MATERIALIZED_VIEW\"}}</td><td>null</td><td>null</td></tr><tr><td>5a6cfc40-6ea0-11f0-a268-aa11d67e9c2a</td><td>flow_progress</td><td>{\"flow_progress\":{\"status\":\"COMPLETED\",\"metrics\":{\"num_output_rows\":94},\"data_quality\":{\"dropped_records\":0}}}</td><td>{\"status\":\"COMPLETED\",\"metrics\":{\"num_output_rows\":94},\"data_quality\":{\"dropped_records\":0}}</td><td>null</td></tr><tr><td>5b0fa4e0-6ea0-11f0-a268-aa11d67e9c2a</td><td>flow_progress</td><td>{\"flow_progress\":{\"metrics\":{\"executor_time_ms\":2151,\"executor_cpu_time_ms\":801}}}</td><td>{\"metrics\":{\"executor_time_ms\":2151,\"executor_cpu_time_ms\":801}}</td><td>null</td></tr><tr><td>5b0ff300-6ea0-11f0-a268-aa11d67e9c2a</td><td>flow_progress</td><td>{\"flow_progress\":{\"metrics\":{\"executor_time_ms\":268,\"executor_cpu_time_ms\":126}}}</td><td>{\"metrics\":{\"executor_time_ms\":268,\"executor_cpu_time_ms\":126}}</td><td>null</td></tr><tr><td>5b101a10-6ea0-11f0-a268-aa11d67e9c2a</td><td>flow_progress</td><td>{\"flow_progress\":{\"metrics\":{\"executor_time_ms\":412,\"executor_cpu_time_ms\":164}}}</td><td>{\"metrics\":{\"executor_time_ms\":412,\"executor_cpu_time_ms\":164}}</td><td>null</td></tr><tr><td>5b104120-6ea0-11f0-a268-aa11d67e9c2a</td><td>flow_progress</td><td>{\"flow_progress\":{\"metrics\":{\"executor_time_ms\":296,\"executor_cpu_time_ms\":155}}}</td><td>{\"metrics\":{\"executor_time_ms\":296,\"executor_cpu_time_ms\":155}}</td><td>null</td></tr><tr><td>5b106830-6ea0-11f0-a268-aa11d67e9c2a</td><td>flow_progress</td><td>{\"flow_progress\":{\"metrics\":{\"executor_time_ms\":327,\"executor_cpu_time_ms\":139}}}</td><td>{\"metrics\":{\"executor_time_ms\":327,\"executor_cpu_time_ms\":139}}</td><td>null</td></tr><tr><td>5b108f40-6ea0-11f0-a268-aa11d67e9c2a</td><td>flow_progress</td><td>{\"flow_progress\":{\"metrics\":{\"executor_time_ms\":2145,\"executor_cpu_time_ms\":550}}}</td><td>{\"metrics\":{\"executor_time_ms\":2145,\"executor_cpu_time_ms\":550}}</td><td>null</td></tr><tr><td>5b10b650-6ea0-11f0-a268-aa11d67e9c2a</td><td>flow_progress</td><td>{\"flow_progress\":{\"metrics\":{\"executor_time_ms\":379,\"executor_cpu_time_ms\":178}}}</td><td>{\"metrics\":{\"executor_time_ms\":379,\"executor_cpu_time_ms\":178}}</td><td>null</td></tr><tr><td>5b10dd60-6ea0-11f0-a268-aa11d67e9c2a</td><td>flow_progress</td><td>{\"flow_progress\":{\"metrics\":{\"executor_time_ms\":456,\"executor_cpu_time_ms\":284}}}</td><td>{\"metrics\":{\"executor_time_ms\":456,\"executor_cpu_time_ms\":284}}</td><td>null</td></tr><tr><td>5b112b80-6ea0-11f0-a268-aa11d67e9c2a</td><td>flow_progress</td><td>{\"flow_progress\":{\"metrics\":{\"executor_time_ms\":5845,\"executor_cpu_time_ms\":2063}}}</td><td>{\"metrics\":{\"executor_time_ms\":5845,\"executor_cpu_time_ms\":2063}}</td><td>null</td></tr><tr><td>5b115290-6ea0-11f0-a268-aa11d67e9c2a</td><td>update_progress</td><td>{\"update_progress\":{\"state\":\"COMPLETED\"}}</td><td>null</td><td>null</td></tr><tr><td>db7620a0-6ea0-11f0-a268-aa11d67e9c2a</td><td>flow_progress</td><td>{\"flow_progress\":{\"status\":\"STARTING\"}}</td><td>{\"status\":\"STARTING\"}</td><td>null</td></tr><tr><td>dba260c0-6ea0-11f0-a268-aa11d67e9c2a</td><td>flow_progress</td><td>{\"flow_progress\":{\"status\":\"RUNNING\",\"metrics\":{\"backlog_bytes\":0,\"backlog_files\":0}}}</td><td>{\"status\":\"RUNNING\",\"metrics\":{\"backlog_bytes\":0,\"backlog_files\":0}}</td><td>null</td></tr><tr><td>dc0fefa0-6ea0-11f0-a268-aa11d67e9c2a</td><td>flow_progress</td><td>{\"flow_progress\":{\"status\":\"PLANNING\"}}</td><td>{\"status\":\"PLANNING\"}</td><td>null</td></tr><tr><td>de249ed0-6ea0-11f0-a268-aa11d67e9c2a</td><td>aggregated_flow_metrics</td><td>{\"aggregated_flow_metrics\":{\"executor_time_ms\":0,\"executor_cpu_time_ms\":0}}</td><td>null</td><td>null</td></tr><tr><td>e0c95900-6ea0-11f0-a268-aa11d67e9c2a</td><td>planning_information</td><td>{\"planning_information\":{\"technique_information\":[{\"maintenance_type\":\"MAINTENANCE_TYPE_NO_OP\",\"incrementalization_issues\":[{\"issue_type\":\"DATA_HAS_CHANGED\",\"prevent_incrementalization\":true}]},{\"maintenance_type\":\"MAINTENANCE_TYPE_COMPLETE_RECOMPUTE\",\"is_chosen\":false,\"is_applicable\":true,\"cost\":1169855.0},{\"maintenance_type\":\"MAINTENANCE_TYPE_APPEND_ONLY\",\"is_chosen\":true,\"is_applicable\":true,\"cost\":797548.0}],\"source_table_information\":[{\"table_id\":\"4f59ae67-2d5e-4523-8700-f788e4855363\",\"full_size\":12626.0,\"num_rows\":946,\"num_files\":2,\"change_size\":5767.0,\"num_changed_rows\":410,\"num_rows_in_changed_files\":410,\"num_changed_files\":1,\"change_file_read_size\":5767.0,\"is_size_after_pruning\":true,\"is_row_id_enabled\":true,\"is_cdf_enabled\":true,\"is_deletion_vector_enabled\":true,\"is_change_from_legacy_cdf\":false},{\"table_id\":\"d5f7414c-d9fe-49b9-965f-1af66e757836\",\"full_size\":7042.0,\"num_rows\":272,\"num_files\":2,\"change_size\":2918.0,\"num_changed_rows\":98,\"num_rows_in_changed_files\":98,\"num_changed_files\":1,\"change_file_read_size\":2918.0,\"is_size_after_pruning\":true,\"is_row_id_enabled\":true,\"is_cdf_enabled\":true,\"is_deletion_vector_enabled\":true,\"is_change_from_legacy_cdf\":false}],\"target_table_information\":{\"table_name\":\"`labuser11058730_1754017152`.`3_gold_db`.`full_order_info_gold_demo5`\",\"table_id\":\"0eabdda1-f3f9-4614-a4af-cbf7916be303\",\"full_size\":9997.0,\"is_row_id_enabled\":true,\"is_cdf_enabled\":true,\"is_deletion_vector_enabled\":true},\"planning_wall_time_ms\":7762}}</td><td>null</td><td>null</td></tr><tr><td>e0ca1c50-6ea0-11f0-a268-aa11d67e9c2a</td><td>flow_progress</td><td>{\"flow_progress\":{\"status\":\"STARTING\"}}</td><td>{\"status\":\"STARTING\"}</td><td>null</td></tr><tr><td>e1072550-6ea0-11f0-a268-aa11d67e9c2a</td><td>flow_progress</td><td>{\"flow_progress\":{\"status\":\"RUNNING\",\"metrics\":{\"backlog_bytes\":22586,\"backlog_files\":5}}}</td><td>{\"status\":\"RUNNING\",\"metrics\":{\"backlog_bytes\":22586,\"backlog_files\":5}}</td><td>null</td></tr><tr><td>e20f94a0-6ea0-11f0-a268-aa11d67e9c2a</td><td>aggregated_flow_metrics</td><td>{\"aggregated_flow_metrics\":{\"executor_time_ms\":0,\"executor_cpu_time_ms\":0}}</td><td>null</td><td>null</td></tr><tr><td>e261ac40-6ea0-11f0-a268-aa11d67e9c2a</td><td>flow_progress</td><td>{\"flow_progress\":{\"status\":\"COMPLETED\",\"metrics\":{\"num_output_rows\":11},\"data_quality\":{\"dropped_records\":0}}}</td><td>{\"status\":\"COMPLETED\",\"metrics\":{\"num_output_rows\":11},\"data_quality\":{\"dropped_records\":0}}</td><td>null</td></tr><tr><td>e3a3f040-6ea0-11f0-a268-aa11d67e9c2a</td><td>flow_progress</td><td>{\"flow_progress\":{\"status\":\"COMPLETED\",\"metrics\":{\"num_output_rows\":946},\"data_quality\":{\"dropped_records\":0}}}</td><td>{\"status\":\"COMPLETED\",\"metrics\":{\"num_output_rows\":946},\"data_quality\":{\"dropped_records\":0}}</td><td>null</td></tr><tr><td>e4080940-6ea0-11f0-a268-aa11d67e9c2a</td><td>flow_progress</td><td>{\"flow_progress\":{\"status\":\"PLANNING\"}}</td><td>{\"status\":\"PLANNING\"}</td><td>null</td></tr><tr><td>e5ac1c50-6ea0-11f0-a268-aa11d67e9c2a</td><td>planning_information</td><td>{\"planning_information\":{\"technique_information\":[{\"maintenance_type\":\"MAINTENANCE_TYPE_NO_OP\",\"incrementalization_issues\":[{\"issue_type\":\"DATA_HAS_CHANGED\",\"prevent_incrementalization\":true}]},{\"maintenance_type\":\"MAINTENANCE_TYPE_COMPLETE_RECOMPUTE\",\"is_chosen\":false,\"is_applicable\":true,\"cost\":14308.0},{\"maintenance_type\":\"MAINTENANCE_TYPE_APPEND_ONLY\",\"is_chosen\":true,\"is_applicable\":true,\"cost\":6919.0}],\"source_table_information\":[{\"table_name\":\"`labuser11058730_1754017152`.`3_gold_db`.`full_order_info_gold_demo5`\",\"table_id\":\"0eabdda1-f3f9-4614-a4af-cbf7916be303\",\"catalog_table_type\":\"MATERIALIZED_VIEW\",\"full_size\":19358.0,\"num_rows\":946,\"num_files\":2,\"change_size\":9361.0,\"num_changed_rows\":410,\"num_rows_in_changed_files\":410,\"num_changed_files\":1,\"change_file_read_size\":9361.0,\"is_size_after_pruning\":true,\"is_row_id_enabled\":true,\"is_cdf_enabled\":true,\"is_deletion_vector_enabled\":true,\"is_change_from_legacy_cdf\":false}],\"target_table_information\":{\"table_name\":\"`labuser11058730_1754017152`.`3_gold_db`.`cancelled_orders_gold_demo5`\",\"table_id\":\"cadc933b-69aa-44fd-97f3-18a891588e27\",\"full_size\":2373.0,\"is_row_id_enabled\":true,\"is_cdf_enabled\":true,\"is_deletion_vector_enabled\":true},\"planning_wall_time_ms\":2663}}</td><td>null</td><td>null</td></tr><tr><td>e5ad06b0-6ea0-11f0-a268-aa11d67e9c2a</td><td>flow_progress</td><td>{\"flow_progress\":{\"status\":\"STARTING\"}}</td><td>{\"status\":\"STARTING\"}</td><td>null</td></tr><tr><td>e5ad54d0-6ea0-11f0-a268-aa11d67e9c2a</td><td>flow_progress</td><td>{\"flow_progress\":{\"status\":\"PLANNING\"}}</td><td>{\"status\":\"PLANNING\"}</td><td>null</td></tr><tr><td>e5afc5d0-6ea0-11f0-a268-aa11d67e9c2a</td><td>flow_progress</td><td>{\"flow_progress\":{\"status\":\"RUNNING\",\"metrics\":{\"backlog_bytes\":0,\"backlog_files\":0}}}</td><td>{\"status\":\"RUNNING\",\"metrics\":{\"backlog_bytes\":0,\"backlog_files\":0}}</td><td>null</td></tr><tr><td>e67a68d0-6ea0-11f0-a268-aa11d67e9c2a</td><td>aggregated_flow_metrics</td><td>{\"aggregated_flow_metrics\":{\"executor_time_ms\":0,\"executor_cpu_time_ms\":0}}</td><td>null</td><td>null</td></tr><tr><td>e7aa8460-6ea0-11f0-a268-aa11d67e9c2a</td><td>planning_information</td><td>{\"planning_information\":{\"technique_information\":[{\"maintenance_type\":\"MAINTENANCE_TYPE_NO_OP\",\"incrementalization_issues\":[{\"issue_type\":\"DATA_HAS_CHANGED\",\"prevent_incrementalization\":true}]},{\"maintenance_type\":\"MAINTENANCE_TYPE_COMPLETE_RECOMPUTE\",\"is_chosen\":false,\"is_applicable\":true,\"cost\":14308.0},{\"maintenance_type\":\"MAINTENANCE_TYPE_APPEND_ONLY\",\"is_chosen\":true,\"is_applicable\":true,\"cost\":6919.0}],\"source_table_information\":[{\"table_name\":\"`labuser11058730_1754017152`.`3_gold_db`.`full_order_info_gold_demo5`\",\"table_id\":\"0eabdda1-f3f9-4614-a4af-cbf7916be303\",\"catalog_table_type\":\"MATERIALIZED_VIEW\",\"full_size\":19358.0,\"num_rows\":946,\"num_files\":2,\"change_size\":9361.0,\"num_changed_rows\":410,\"num_rows_in_changed_files\":410,\"num_changed_files\":1,\"change_file_read_size\":9361.0,\"is_size_after_pruning\":true,\"is_row_id_enabled\":true,\"is_cdf_enabled\":true,\"is_deletion_vector_enabled\":true,\"is_change_from_legacy_cdf\":false}],\"target_table_information\":{\"table_name\":\"`labuser11058730_1754017152`.`3_gold_db`.`delivered_orders_gold_demo5`\",\"table_id\":\"2fc9af5c-295c-4569-9905-9dd40863f71a\",\"full_size\":4177.0,\"is_row_id_enabled\":true,\"is_cdf_enabled\":true,\"is_deletion_vector_enabled\":true},\"planning_wall_time_ms\":3222}}</td><td>null</td><td>null</td></tr><tr><td>e7aaf990-6ea0-11f0-a268-aa11d67e9c2a</td><td>flow_progress</td><td>{\"flow_progress\":{\"status\":\"STARTING\"}}</td><td>{\"status\":\"STARTING\"}</td><td>null</td></tr><tr><td>e7ac5920-6ea0-11f0-a268-aa11d67e9c2a</td><td>flow_progress</td><td>{\"flow_progress\":{\"status\":\"RUNNING\",\"metrics\":{\"backlog_bytes\":0,\"backlog_files\":0}}}</td><td>{\"status\":\"RUNNING\",\"metrics\":{\"backlog_bytes\":0,\"backlog_files\":0}}</td><td>null</td></tr><tr><td>e854ce20-6ea0-11f0-a268-aa11d67e9c2a</td><td>aggregated_flow_metrics</td><td>{\"aggregated_flow_metrics\":{\"executor_time_ms\":0,\"executor_cpu_time_ms\":0}}</td><td>null</td><td>null</td></tr><tr><td>e95c7a20-6ea0-11f0-a268-aa11d67e9c2a</td><td>flow_progress</td><td>{\"flow_progress\":{\"status\":\"COMPLETED\",\"metrics\":{\"num_output_rows\":21},\"data_quality\":{\"dropped_records\":0}}}</td><td>{\"status\":\"COMPLETED\",\"metrics\":{\"num_output_rows\":21},\"data_quality\":{\"dropped_records\":0}}</td><td>null</td></tr><tr><td>ea7e3dd0-6ea0-11f0-a268-aa11d67e9c2a</td><td>flow_progress</td><td>{\"flow_progress\":{\"status\":\"COMPLETED\",\"metrics\":{\"num_output_rows\":176},\"data_quality\":{\"dropped_records\":0}}}</td><td>{\"status\":\"COMPLETED\",\"metrics\":{\"num_output_rows\":176},\"data_quality\":{\"dropped_records\":0}}</td><td>null</td></tr><tr><td>eb7288e0-6ea0-11f0-a268-aa11d67e9c2a</td><td>flow_progress</td><td>{\"flow_progress\":{\"metrics\":{\"executor_time_ms\":542,\"executor_cpu_time_ms\":270}}}</td><td>{\"metrics\":{\"executor_time_ms\":542,\"executor_cpu_time_ms\":270}}</td><td>null</td></tr><tr><td>eb72aff0-6ea0-11f0-a268-aa11d67e9c2a</td><td>flow_progress</td><td>{\"flow_progress\":{\"metrics\":{\"executor_time_ms\":1227,\"executor_cpu_time_ms\":220}}}</td><td>{\"metrics\":{\"executor_time_ms\":1227,\"executor_cpu_time_ms\":220}}</td><td>null</td></tr><tr><td>eb72d700-6ea0-11f0-a268-aa11d67e9c2a</td><td>flow_progress</td><td>{\"flow_progress\":{\"metrics\":{\"executor_time_ms\":291,\"executor_cpu_time_ms\":121}}}</td><td>{\"metrics\":{\"executor_time_ms\":291,\"executor_cpu_time_ms\":121}}</td><td>null</td></tr><tr><td>eb72fe10-6ea0-11f0-a268-aa11d67e9c2a</td><td>flow_progress</td><td>{\"flow_progress\":{\"metrics\":{\"executor_time_ms\":381,\"executor_cpu_time_ms\":223}}}</td><td>{\"metrics\":{\"executor_time_ms\":381,\"executor_cpu_time_ms\":223}}</td><td>null</td></tr><tr><td>eb732520-6ea0-11f0-a268-aa11d67e9c2a</td><td>flow_progress</td><td>{\"flow_progress\":{\"metrics\":{\"executor_time_ms\":608,\"executor_cpu_time_ms\":215}}}</td><td>{\"metrics\":{\"executor_time_ms\":608,\"executor_cpu_time_ms\":215}}</td><td>null</td></tr><tr><td>eb734c30-6ea0-11f0-a268-aa11d67e9c2a</td><td>flow_progress</td><td>{\"flow_progress\":{\"metrics\":{\"executor_time_ms\":229,\"executor_cpu_time_ms\":75}}}</td><td>{\"metrics\":{\"executor_time_ms\":229,\"executor_cpu_time_ms\":75}}</td><td>null</td></tr><tr><td>eb737340-6ea0-11f0-a268-aa11d67e9c2a</td><td>flow_progress</td><td>{\"flow_progress\":{\"metrics\":{\"executor_time_ms\":221,\"executor_cpu_time_ms\":80}}}</td><td>{\"metrics\":{\"executor_time_ms\":221,\"executor_cpu_time_ms\":80}}</td><td>null</td></tr><tr><td>eb739a50-6ea0-11f0-a268-aa11d67e9c2a</td><td>flow_progress</td><td>{\"flow_progress\":{\"metrics\":{\"executor_time_ms\":269,\"executor_cpu_time_ms\":122}}}</td><td>{\"metrics\":{\"executor_time_ms\":269,\"executor_cpu_time_ms\":122}}</td><td>null</td></tr><tr><td>eb73c160-6ea0-11f0-a268-aa11d67e9c2a</td><td>flow_progress</td><td>{\"flow_progress\":{\"metrics\":{\"executor_time_ms\":2409,\"executor_cpu_time_ms\":1475}}}</td><td>{\"metrics\":{\"executor_time_ms\":2409,\"executor_cpu_time_ms\":1475}}</td><td>null</td></tr><tr><td>eb740f80-6ea0-11f0-a268-aa11d67e9c2a</td><td>update_progress</td><td>{\"update_progress\":{\"state\":\"COMPLETED\"}}</td><td>null</td><td>null</td></tr></tbody></table></div>"
      ]
     },
     "metadata": {
      "application/vnd.databricks.v1+output": {
       "addedWidgets": {},
       "aggData": [],
       "aggError": "",
       "aggOverflow": false,
       "aggSchema": [],
       "aggSeriesLimitReached": false,
       "aggType": "",
       "arguments": {},
       "columnCustomDisplayInfos": {},
       "data": [
        [
         "ccdb9250-6ea0-11f0-a268-aa11d67e9c2a",
         "update_progress",
         "{\"update_progress\":{\"state\":\"INITIALIZING\"}}",
         null,
         null
        ],
        [
         "cc133940-6ea0-11f0-a6b2-02a90fbeb9b7",
         "user_action",
         "{\"user_action\":{\"action\":\"START\",\"user_name\":\"labuser11058730_1754017152@vocareum.com\",\"user_id\":70949121692270,\"request\":{\"start_request\":{\"full_refresh\":false,\"validate_only\":false,\"explore_only\":false,\"development\":true}}}}",
         null,
         "{\"action\":\"START\",\"user_name\":\"labuser11058730_1754017152@vocareum.com\",\"user_id\":70949121692270,\"request\":{\"start_request\":{\"full_refresh\":false,\"validate_only\":false,\"explore_only\":false,\"development\":true}}}"
        ],
        [
         "cc1e0eb0-6ea0-11f0-a6b2-02a90fbeb9b7",
         "create_update",
         "{\"create_update\":{\"cause\":\"USER_ACTION\",\"config\":{\"id\":\"6ce1fdf2-b7dd-4ed3-844e-1d170666cadb\",\"pipeline_type\":\"WORKSPACE\",\"name\":\"5 - Deploying a Pipeline to Production Project - labuser11058730_1754017152\",\"configuration\":{\"pipelines.acfsProcessorVersion\":\"1\",\"pipelines.allowClearingTableComment\":\"true\",\"pipelines.allowPrivateToNonPrivateAltersWithCustomSchemaPreview\":\"true\",\"pipelines.alterExistingMvSt\":\"true\",\"pipelines.alterViewsInHMS.enabled\":\"true\",\"pipelines.alterableMetadataBehavior\":\"preserve\",\"pipelines.analysis.allowSqlFlowWithConfParallelResolution\":\"true\",\"pipelines.analysis.maybeResolveFlowsParallely\":\"true\",\"pipelines.analysis.maybeResolvePureSQLPipelinesParallely\":\"true\",\"pipelines.analysis.pruneUnresolvedFromJsonDependents\":\"true\",\"pipelines.applyChanges.Type2IgnoreNullPersistentStateChange\":\"false\",\"pipelines.applyChanges.applyChangesMultiflowIgnoreNullOffFix.enabled\":\"false\",\"pipelines.applyChanges.applyChangesMultiflowLatestDeleteVersion.enabled\":\"false\",\"pipelines.applyChanges.dynamicFilePruning.enabled\":\"true\",\"pipelines.applyChanges.dynamicPartitionPruning.enabled\":\"true\",\"pipelines.applyChanges.viewMetrics.enabled\":\"true\",\"pipelines.applyChangesFromSnapshot.analyzeLambdaSourceWithoutPipelineContext\":\"true\",\"pipelines.applyChangesFromSnapshot.castSnapshotToTargetSchema\":\"true\",\"pipelines.applyChangesFromSnapshot.stateStoreFormat\":\"proto\",\"pipelines.attachEnzymeExpectationsUsingTransformDF\":\"true\",\"pipelines.attachExpectationWithFunctionResult\":\"true\",\"pipelines.attachExpectationsUsingTransformDF\":\"true\",\"pipelines.autoscaling.maxDecommissioningTimeoutInSecondsDefaultValue\":\"14400\",\"pipelines.blockDuplicatedUseOfFromJsonSchemaLocationKey\":\"true\",\"pipelines.cdc.enableCdcSnapshotProgress\":\"true\",\"pipelines.cdc.enableGatewayErrorPropagation\":\"true\",\"pipelines.cdc.skipCdcSnapshotFlowAfterCommitted\":\"true\",\"pipelines.cdc.stagingDataGCDryRunMode\":\"false\",\"pipelines.cdc.stagingDataRetentionDays\":\"25\",\"pipelines.cdcApplier.enableCommunicationVersioning\":\"true\",\"pipelines.cdcApplier.useUpstreamCommunicationLibrary\":\"true\",\"pipelines.cdcApplierEnableColumnUOID\":\"false\",\"pipelines.cdcApplierStagingTablePartitionedByDate\":\"true\",\"pipelines.changeDataFeed.enabled\":\"true\",\"pipelines.checkImplicitDeletionReason\":\"true\",\"pipelines.cleanupOrphanedBackingTables\":\"true\",\"pipelines.copyFlowFuncResultWithDecomposition\":\"true\",\"pipelines.createMvStEntryBeforeBackingTable\":\"true\",\"pipelines.dataPlaneStructuredLogging.enabled\":\"true\",\"pipelines.decomposition.enableOnSnapshotFlow\":\"true\",\"pipelines.decomposition.enabled\":\"true\",\"pipelines.disableClearingIncrementalOnVirtualize\":\"true\",\"pipelines.disablePredictiveOptimization\":\"true\",\"pipelines.disallowFlowExecutionRetryForSchemaChangeExceptionsInTriggeredMode\":\"true\",\"pipelines.disallowTableMutationsDuringMaintenance\":\"true\",\"pipelines.dltDebugger.enableNodeStatusReporter\":\"true\",\"pipelines.dropAndRecreateBadBackingTables\":\"true\",\"pipelines.dropInactiveTables\":\"false\",\"pipelines.earlyStagingTableCleanupEnabled\":\"true\",\"pipelines.emitDeprecationEventForCustomSchemaUsage\":\"true\",\"pipelines.emitSinkDefinition\":\"true\",\"pipelines.enableApplyChangeSCD1Materialization\":\"false\",\"pipelines.enableApplyChangesLineage.enabled\":\"true\",\"pipelines.enableBatchTokenOnUpdateId\":\"false\",\"pipelines.enableBlockListReconciliationQueryDefinition\":\"true\",\"pipelines.enableCoalesceApplyChangesType2Duplicates\":\"true\",\"pipelines.enableConduitUCConnectionTypeValidation\":\"false\",\"pipelines.enableContinuousPipelineTriggerValidation\":\"false\",\"pipelines.enableCyclicDependencyDetection\":\"true\",\"pipelines.enableDataflowV2ForFromJsonSchemaReset\":\"true\",\"pipelines.enableDbrFlowAnalysisContext\":\"false\",\"pipelines.enableDeltaReadClone\":\"false\",\"pipelines.enableEventLogPicker\":\"true\",\"pipelines.enableEventLogTableIdWrites\":\"true\",\"pipelines.enableExistingEventLogRetrievalById\":\"true\",\"pipelines.enableFromJsonBatchSchemaEvolution\":\"true\",\"pipelines.enableHistoryIntegrationForContinuous\":\"true\",\"pipelines.enableLiveSchemaUsageValidation\":\"true\",\"pipelines.enableNewFlowTypes\":\"true\",\"pipelines.enableNonVirtualNodeInNodeProcessorUpdate\":\"false\",\"pipelines.enablePersistedViewSyntaxForPipeline\":\"true\",\"pipelines.enablePredictiveOptimizationRollout\":\"true\",\"pipelines.enableRunningAddRowIdAsEnabler\":\"true\",\"pipelines.enableSharepointConnectorV2\":\"false\",\"pipelines.enableStreamQueryListenerMetricsInEventlog\":\"false\",\"pipelines.enableSysPathSetupUsingCmdCtx\":\"true\",\"pipelines.enableUpdateWarmPoolManager\":\"true\",\"pipelines.enableViewFirstClassRefactor\":\"true\",\"pipelines.enzyme.autoCorrectionForLongRunningQueries\":\"true\",\"pipelines.enzyme.autoCorrectionForLongRunningQueries.dryRun\":\"true\",\"pipelines.enzyme.changesetRatioUpperBound\":\"2.1\",\"pipelines.enzyme.checkComposableAggOperatorNestingInDecomposer\":\"true\",\"pipelines.enzyme.classic.action\":\"Block\",\"pipelines.enzyme.composableAggKeyOperatorNestingThreshold\":\"4\",\"pipelines.enzyme.decomposeAggExpr.enabled\":\"true\",\"pipelines.enzyme.defaultBroadcastThreshold\":\"128MB\",\"pipelines.enzyme.disableFingerprintNormalizerForEnzymeBasic\":\"true\",\"pipelines.enzyme.enableAggOverJoin\":\"true\",\"pipelines.enzyme.enableAggOverJoinFallback\":\"true\",\"pipelines.enzyme.enableBroadcastableChangesetSizeThreshold\":\"true\",\"pipelines.enzyme.enableComposableGenericAgg\":\"true\",\"pipelines.enzyme.enableExplicitDFP\":\"false\",\"pipelines.enzyme.enableExplicitDPPScheduling\":\"false\",\"pipelines.enzyme.enableJoinComposition\":\"true\",\"pipelines.enzyme.enableLeftEquiJoinOptimization\":\"false\",\"pipelines.enzyme.enableRowId\":\"true\",\"pipelines.enzyme.enableSPUJFullOuterJoinIncrementalization\":\"true\",\"pipelines.enzyme.enableSPUJIncrementalization\":\"true\",\"pipelines.enzyme.enableSPUJInnerJoinIncrementalization\":\"true\",\"pipelines.enzyme.enableSPUJLeftAntiJoinIncrementalization\":\"true\",\"pipelines.enzyme.enableSPUJLeftJoinIncrementalization\":\"true\",\"pipelines.enzyme.enableSPUJRightJoinIncrementalization\":\"true\",\"pipelines.enzyme.enableSmallTableSizeThreshold\":\"true\",\"pipelines.enzyme.enableTableChangeSizeV3\":\"true\",\"pipelines.enzyme.enableWindowBlockBasedIncChecker\":\"true\",\"pipelines.enzyme.enableWindowComposition\":\"true\",\"pipelines.enzyme.enableWindowFunctionWithDiffPartitioning\":\"true\",\"pipelines.enzyme.enabled\":\"true\",\"pipelines.enzyme.enzymeEnableTableChangeSizeV2\":\"true\",\"pipelines.enzyme.expectation.enable\":\"true\",\"pipelines.enzyme.expectation.fallbackToClassic\":\"true\",\"pipelines.enzyme.expectation.fallbackToClassicPerFlow\":\"true\",\"pipelines.enzyme.expectation.useSimpleWrite\":\"true\",\"pipelines.enzyme.explicitlyScheduleBloomFilters\":\"false\",\"pipelines.enzyme.fileActionPruningInCdf.enabled\":\"true\",\"pipelines.enzyme.forceTrivialIncrementalFlows\":\"true\",\"pipelines.enzyme.genericAggregationTechnique.enabled\":\"true\",\"pipelines.enzyme.historyBasedCosting.enabled\":\"true\",\"pipelines.enzyme.logDetailedChangeInformation\":\"true\",\"pipelines.enzyme.makeCollectListCollectSetDeterministic.enabled\":\"true\",\"pipelines.enzyme.mode\":\"Advanced\",\"pipelines.enzyme.overrideMaxBloomSizeBits\":\"-1\",\"pipelines.enzyme.overrideMinBloomSizeBits\":\"-1\",\"pipelines.enzyme.prePostNormalizationBatches.enabled\":\"true\",\"pipelines.enzyme.removeTopLevelSort.enabled\":\"true\",\"pipelines.enzyme.spujTableSizeThresholdForNonJoin\":\"1000TB\",\"pipelines.enzyme.spujoinTableSizeThreshold\":\"1000TB\",\"pipelines.enzyme.temporalFilters.enabled\":\"true\",\"pipelines.enzyme.transformFirstLastAnyValueToMin.enabled\":\"true\",\"pipelines.enzyme.useInExpressionForPartitionOverwrite\":\"true\",\"pipelines.enzyme.windowFunctionTechniqueEnabled.enabled\":\"true\",\"pipelines.enzyme.writeHistoryStats.enabled\":\"true\",\"pipelines.eventLevelDataFrameCollectUsage\":\"warn\",\"pipelines.eventLevelDataFrameSaveAsTableUsage\":\"warn\",\"pipelines.eventLevelDataFrameSaveUsage\":\"warn\",\"pipelines.eventLevelDataStreamWriterStartUsage\":\"warn\",\"pipelines.eventLevelPivotUsage\":\"warn\",\"pipelines.eventPlatformMetricsReporterEnabled\":\"true\",\"pipelines.events.enableEventTimeMetric\":\"true\",\"pipelines.events.enableSourceCodePosition\":\"true\",\"pipelines.exposeExecutorCountFromStateManager\":\"false\",\"pipelines.failPipelineForExpectationWithACFS\":\"true\",\"pipelines.forceRecomputeMVIfPartitioningChanged\":\"true\",\"pipelines.fromJson.enforceRootLevelStructTypeForInferredSchema\":\"true\",\"pipelines.fullyQualifyExternalSinkIdentifiers\":\"true\",\"pipelines.fullyQualifyTableReferencesInForeignKeyConstraintsInDPM\":\"true\",\"pipelines.gateway.extractAsciiIrTypesAsUnicodeStream\":\"false\",\"pipelines.gateway.realtime.extractor.sqlServerUseCommandIdForCDCTables\":\"true\",\"pipelines.gateway.realtime.extractor.sqlServerVerifyCommandIdExistsForCDCTables\":\"false\",\"pipelines.gateway.runOptimizedFetchSchema\":\"false\",\"pipelines.gateway.tableSchemasDirectUpload\":\"false\",\"pipelines.gateway.useNewReplicationReconfigurationFlow\":\"false\",\"pipelines.gateway.useUpstreamCommunicationLibrary\":\"false\",\"pipelines.gatewaySendMessagesToEventLog\":\"true\",\"pipelines.ignoreDropInactiveTablesForWorkspacePipelines\":\"false\",\"pipelines.ignoredSuffixForSourceIncludes\":\"__pycache__/,.egg-info/,.txt,.md,.csv,.json\",\"pipelines.ingestionPipelineConnectorFetchProgressEventEnabled\":\"true\",\"pipelines.ingestionPipelineSalesforceApiVersion\":\"v63.0\",\"pipelines.ingestionPipelineServiceNowEmptyCursorFetchEnabled\":\"true\",\"pipelines.ingestionPipelinesTempViewNameV2\":\"false\",\"pipelines.initResourceAllocationBeforeEventLog\":\"true\",\"pipelines.instrumentLoadInSparkReader\":\"true\",\"pipelines.lazyInitializeUpdateWarmPoolManager\":\"true\",\"pipelines.lineageEmission.enabled\":\"true\",\"pipelines.materialization.writeResetSchemaString\":\"true\",\"pipelines.materializedView.dropOtherViewDependencies\":\"true\",\"pipelines.maxDatasetsPerPipeline\":\"1000\",\"pipelines.maximumSourceFileNumberInLibraries\":\"300\",\"pipelines.mergeExternalMetadataIntoTablesBeforeDecomp\":\"true\",\"pipelines.mesa.enableCatalogTableCLTCValidations\":\"true\",\"pipelines.mesa.enableGetCLTCFromCatalogTable\":\"true\",\"pipelines.mesa.updateUCPipelineWithTopLevelViewUpdate\":\"true\",\"pipelines.metrics.clusterResources.enabled\":\"true\",\"pipelines.metrics.flowProgressAdditionalBacklogMetricsEnabled\":\"true\",\"pipelines.metrics.flowProgressSourceLevelMetricsEnabled\":\"true\",\"pipelines.metrics.flowTimeReporter.enabled\":\"true\",\"pipelines.multiflowExpectations.enabled\":\"false\",\"pipelines.mv.partitionUpdate.enabled\":\"true\",\"pipelines.numPythonREPLsToWarmPerUpdate\":\"1\",\"pipelines.operationProgress.listingMetrics.enabled\":\"false\",\"pipelines.parallelNormalizationBeforeDecomposition\":\"true\",\"pipelines.parallelPythonReplInitialization\":\"true\",\"pipelines.parallelUCContextInitialization\":\"true\",\"pipelines.parallelizeCreateMatzPaths\":\"true\",\"pipelines.parallelizeMaterializeTables\":\"true\",\"pipelines.partitioning.clusterBy.enabled\":\"true\",\"pipelines.partitioning.clusterByAuto.enabled\":\"true\",\"pipelines.pipelineEnvironment.enabled\":\"true\",\"pipelines.preloadDeltaAndUCCacheForUpdate\":\"true\",\"pipelines.preserveColumnMasksField\":\"true\",\"pipelines.preserveRowFilterField\":\"true\",\"pipelines.preview.multiChangeFlowInCurrent.enable\":\"true\",\"pipelines.publishPrivateTableInOldArchitecture\":\"true\",\"pipelines.reAnalyzeVirtualFlowsAfterMaterialization\":\"true\",\"pipelines.rememberUCObjectIdsAcrossRuns\":\"true\",\"pipelines.removeAllGenerationExpressionKey\":\"true\",\"pipelines.removeGeneratedColumnMetadataFromViewSchema\":\"true\",\"pipelines.removeVirtualGraphUsageOnGraphDefns\":\"true\",\"pipelines.replaceRealInputReadsWithVirtualBeforeDecomposer\":\"true\",\"pipelines.respectAlterableMetadataBehavior\":\"true\",\"pipelines.scalaReplWarmPool.enabled\":\"true\",\"pipelines.scd1ApplyChangesUseAllFlowsSchema.enabled\":\"false\",\"pipelines.schemaInferenceForVirtualBackingTables.enabled\":\"true\",\"pipelines.schemaStorageLocations.enabled\":\"true\",\"pipelines.sendOneGraphToTableManager\":\"true\",\"pipelines.setMigrationHints\":\"true\",\"pipelines.setParentTableIdForBackingTables\":\"true\",\"pipelines.shouldUseOCCToUpdateTopLevelEntry\":\"true\",\"pipelines.suggestDropForInactivePrivateTable\":\"true\",\"pipelines.tableManager.failOnCycleOfForeignKeyConstraints\":\"true\",\"pipelines.tableManager.orderSettingUpTablesByForeignKeyConstraints\":\"true\",\"pipelines.throwOnUnexpectedMaterializationCreation\":\"true\",\"pipelines.topologicalOrderForStreamingFlowsUponFullRefresh.enabled\":\"true\",\"pipelines.undropPreviouslyExistingTables\":\"true\",\"pipelines.updateSnapshot.enabled\":\"true\",\"pipelines.updateSnapshot.incrementalEventSummaries.enabled\":\"true\",\"pipelines.updateSnapshot.incrementalTimeSeries.enabled\":\"true\",\"pipelines.updateSnapshot.timeSeriesSummaryFlowMetricsEnabled\":\"true\",\"pipelines.updateSnapshot.timeSeriesSummaryGeneratorEnabled\":\"true\",\"pipelines.updateSnapshot.timeSeriesSummarySourceMetricsEnabled\":\"true\",\"pipelines.updateTableCacheAndInactiveStatusEarly\":\"true\",\"pipelines.updateWarmPoolManagerSize\":\"1\",\"pipelines.useCacheForMVPlanning.enabled\":\"true\",\"pipelines.useConfigDefaultsInQueryFingerprint\":\"true\",\"pipelines.useDataflowV2\":\"true\",\"pipelines.useGraphCachePersistence\":\"true\",\"pipelines.useNewOCCPrimitive\":\"true\",\"pipelines.useNewReadInputApi\":\"true\",\"pipelines.useTempDirForEventHookManagerCheckpoints\":\"false\",\"pipelines.useTempDirForEventHookManagerCheckpointsInHms\":\"true\",\"pipelines.useUCBackdoorToDropColumnMasks\":\"true\",\"pipelines.useUCCacheAcrossQueries\":\"true\",\"pipelines.useUCMetadataCache\":\"true\",\"pipelines.useUCMetadataCacheDuringUpdate\":\"true\",\"pipelines.useUpdateWarmPoolManagerForAllUpdates\":\"true\",\"pipelines.useUuidPrefixForExpectations\":\"true\",\"pipelines.useViewsInReconciliationFlowQueries\":\"true\",\"pipelines.verticalAutoscaling.pipelineEnabled\":\"true\",\"source\":\"/Volumes/dbacademy/ops/labuser11058730_1754017152@vocareum_com\",\"spark.databricks.cloudFiles.recordEventChanges\":\"false\",\"spark.databricks.dataLineage.mergeIntoV2Enabled\":\"false\",\"spark.databricks.photon.scan.minBatchSize\":\"256\",\"spark.databricks.sql.rowColumnAccess.mvst.enabled\":\"true\",\"spark.databricks.sqlservice.history.liveQueryProfile.enabled\":\"true\",\"spark.databricks.sqlservice.history.multiBatchProfileEnabled\":\"true\",\"spark.databricks.streaming.dynamicAdmissionControl.cloudFiles.enabled\":\"true\",\"spark.databricks.unityCatalog.glue.federation.enabled\":\"true\",\"spark.databricks.unityCatalog.hms.federation.enableDbfsSupport\":\"true\",\"spark.databricks.unityCatalog.hms.federation.enabled\":\"true\",\"spark.databricks.unityCatalog.lakehouseFederation.writes.enabled\":\"true\",\"spark.sql.optimizer.optimizeCsvJsonExprs.useSchemaField\":\"false\",\"pipelines.predictiveOptimization.enabled\":\"true\",\"pipelines.maintenance.disabled\":\"true\",\"pipelines.maxFlowRetryAttempts\":\"0\"},\"libraries\":[{\"glob\":{\"include\":\"/Workspace/Users/labuser11058730_1754017152@vocareum.com/build-data-pipelines-with-lakeflow-declarative-pipelines-3.0.2/Build Data Pipelines with Lakeflow Declarative Pipelines/5 - Deploying a Pipeline to Production Project/orders/**\"}},{\"glob\":{\"include\":\"/Workspace/Users/labuser11058730_1754017152@vocareum.com/build-data-pipelines-with-lakeflow-declarative-pipelines-3.0.2/Build Data Pipelines with Lakeflow Declarative Pipelines/5 - Deploying a Pipeline to Production Project/status/**\"}}],\"schema\":\"default\",\"continuous\":false,\"development\":false,\"photon\":true,\"edition\":\"ADVANCED\",\"channel\":\"PREVIEW\",\"catalog\":\"labuser11058730_1754017152\",\"serverless\":true,\"event_log\":{\"name\":\"event_log_demo_5\",\"schema\":\"default\",\"catalog\":\"labuser11058730_1754017152\"},\"root_path\":\"/Workspace/Users/labuser11058730_1754017152@vocareum.com/build-data-pipelines-with-lakeflow-declarative-pipelines-3.0.2/Build Data Pipelines with Lakeflow Declarative Pipelines/5 - Deploying a Pipeline to Production Project\"},\"failed_attempts\":0,\"full_refresh\":false,\"run_as_user_id\":70949121692270,\"runtime_version\":{\"dbr_version\":\"16.4\",\"universe_commit\":\"a34e2cdbeb8f369536e943c361d892db7d6f590b\",\"runtime_commit\":\"c72685e185325c58372a549382c10d183f3b626c\",\"channel\":\"PREVIEW\",\"image_key\":\"dlt:16.4.4-delta-pipelines-photon-dlt-release-dp-nightly-2025.29.thu.05.27-rc0-commit-e1fadf8-image-dc141cf\"},\"validate_only\":false,\"development\":true,\"explore_only\":false}}",
         null,
         null
        ],
        [
         "d00d4a40-6ea0-11f0-a268-aa11d67e9c2a",
         "update_progress",
         "{\"update_progress\":{\"state\":\"SETTING_UP_TABLES\"}}",
         null,
         null
        ],
        [
         "d095b420-6ea0-11f0-a268-aa11d67e9c2a",
         "dataset_life_cycle",
         "{\"dataset_life_cycle\":{\"state\":\"ACTIVE\",\"dataset_type\":\"STREAMING_TABLE\"}}",
         null,
         null
        ],
        [
         "d09f7820-6ea0-11f0-a268-aa11d67e9c2a",
         "dataset_life_cycle",
         "{\"dataset_life_cycle\":{\"state\":\"ACTIVE\",\"dataset_type\":\"STREAMING_TABLE\"}}",
         null,
         null
        ],
        [
         "d0ab5f00-6ea0-11f0-a268-aa11d67e9c2a",
         "dataset_life_cycle",
         "{\"dataset_life_cycle\":{\"state\":\"ACTIVE\",\"dataset_type\":\"STREAMING_TABLE\"}}",
         null,
         null
        ],
        [
         "d0bbd9c0-6ea0-11f0-a268-aa11d67e9c2a",
         "dataset_life_cycle",
         "{\"dataset_life_cycle\":{\"state\":\"ACTIVE\",\"dataset_type\":\"MATERIALIZED_VIEW\"}}",
         null,
         null
        ],
        [
         "d0ca0a90-6ea0-11f0-a268-aa11d67e9c2a",
         "dataset_life_cycle",
         "{\"dataset_life_cycle\":{\"state\":\"ACTIVE\",\"dataset_type\":\"STREAMING_TABLE\"}}",
         null,
         null
        ],
        [
         "d0d5a350-6ea0-11f0-a268-aa11d67e9c2a",
         "dataset_life_cycle",
         "{\"dataset_life_cycle\":{\"state\":\"ACTIVE\",\"dataset_type\":\"MATERIALIZED_VIEW\"}}",
         null,
         null
        ],
        [
         "d0e8b620-6ea0-11f0-a268-aa11d67e9c2a",
         "dataset_life_cycle",
         "{\"dataset_life_cycle\":{\"state\":\"ACTIVE\",\"dataset_type\":\"MATERIALIZED_VIEW\"}}",
         null,
         null
        ],
        [
         "d0f7aa40-6ea0-11f0-a268-aa11d67e9c2a",
         "dataset_life_cycle",
         "{\"dataset_life_cycle\":{\"state\":\"ACTIVE\",\"dataset_type\":\"MATERIALIZED_VIEW\"}}",
         null,
         null
        ],
        [
         "d25ae3c0-6ea0-11f0-a268-aa11d67e9c2a",
         "flow_definition",
         "{\"flow_definition\":{\"output_dataset\":\"labuser11058730_1754017152.1_bronze_db.status_bronze_demo5\",\"explain_text\":\"'Project [*, 'current_timestamp() AS processing_time#14847, '_metadata.file_name AS source_file#14848]\",\"schema_json\":\"{\\\"type\\\":\\\"struct\\\",\\\"fields\\\":[{\\\"name\\\":\\\"order_id\\\",\\\"type\\\":\\\"long\\\",\\\"nullable\\\":true,\\\"metadata\\\":{}},{\\\"name\\\":\\\"order_status\\\",\\\"type\\\":\\\"string\\\",\\\"nullable\\\":true,\\\"metadata\\\":{}},{\\\"name\\\":\\\"status_timestamp\\\",\\\"type\\\":\\\"long\\\",\\\"nullable\\\":true,\\\"metadata\\\":{}},{\\\"name\\\":\\\"_rescued_data\\\",\\\"type\\\":\\\"string\\\",\\\"nullable\\\":true,\\\"metadata\\\":{}},{\\\"name\\\":\\\"processing_time\\\",\\\"type\\\":\\\"timestamp\\\",\\\"nullable\\\":false,\\\"metadata\\\":{}},{\\\"name\\\":\\\"source_file\\\",\\\"type\\\":\\\"string\\\",\\\"nullable\\\":false,\\\"metadata\\\":{}}]}\",\"schema\":[{\"name\":\"order_id\",\"path\":[\"order_id\"],\"data_type\":\"LONG\"},{\"name\":\"order_status\",\"path\":[\"order_status\"],\"data_type\":\"STRING\"},{\"name\":\"status_timestamp\",\"path\":[\"status_timestamp\"],\"data_type\":\"LONG\"},{\"name\":\"_rescued_data\",\"path\":[\"_rescued_data\"],\"data_type\":\"STRING\"},{\"name\":\"processing_time\",\"path\":[\"processing_time\"],\"data_type\":\"TIMESTAMP\"},{\"name\":\"source_file\",\"path\":[\"source_file\"],\"data_type\":\"STRING\"}],\"flow_type\":\"APPEND\",\"comment\":\"Ingest raw JSON order status files from cloud storage\",\"language\":\"SQL\",\"notebook_path\":\"/Workspace/Users/labuser11058730_1754017152@vocareum.com/build-data-pipelines-with-lakeflow-declarative-pipelines-3.0.2/Build Data Pipelines with Lakeflow Declarative Pipelines/5 - Deploying a Pipeline to Production Project/status/status_pipeline.sql\",\"once\":false}}",
         null,
         null
        ],
        [
         "d25b58f0-6ea0-11f0-a268-aa11d67e9c2a",
         "flow_definition",
         "{\"flow_definition\":{\"output_dataset\":\"labuser11058730_1754017152.1_bronze_db.orders_bronze_demo5\",\"explain_text\":\"'Project [*, 'current_timestamp() AS processing_time#14857, '_metadata.file_name AS source_file#14858]\",\"schema_json\":\"{\\\"type\\\":\\\"struct\\\",\\\"fields\\\":[{\\\"name\\\":\\\"customer_id\\\",\\\"type\\\":\\\"long\\\",\\\"nullable\\\":true,\\\"metadata\\\":{}},{\\\"name\\\":\\\"notifications\\\",\\\"type\\\":\\\"string\\\",\\\"nullable\\\":true,\\\"metadata\\\":{}},{\\\"name\\\":\\\"order_id\\\",\\\"type\\\":\\\"long\\\",\\\"nullable\\\":true,\\\"metadata\\\":{}},{\\\"name\\\":\\\"order_timestamp\\\",\\\"type\\\":\\\"long\\\",\\\"nullable\\\":true,\\\"metadata\\\":{}},{\\\"name\\\":\\\"_rescued_data\\\",\\\"type\\\":\\\"string\\\",\\\"nullable\\\":true,\\\"metadata\\\":{}},{\\\"name\\\":\\\"processing_time\\\",\\\"type\\\":\\\"timestamp\\\",\\\"nullable\\\":false,\\\"metadata\\\":{}},{\\\"name\\\":\\\"source_file\\\",\\\"type\\\":\\\"string\\\",\\\"nullable\\\":false,\\\"metadata\\\":{}}]}\",\"schema\":[{\"name\":\"customer_id\",\"path\":[\"customer_id\"],\"data_type\":\"LONG\"},{\"name\":\"notifications\",\"path\":[\"notifications\"],\"data_type\":\"STRING\"},{\"name\":\"order_id\",\"path\":[\"order_id\"],\"data_type\":\"LONG\"},{\"name\":\"order_timestamp\",\"path\":[\"order_timestamp\"],\"data_type\":\"LONG\"},{\"name\":\"_rescued_data\",\"path\":[\"_rescued_data\"],\"data_type\":\"STRING\"},{\"name\":\"processing_time\",\"path\":[\"processing_time\"],\"data_type\":\"TIMESTAMP\"},{\"name\":\"source_file\",\"path\":[\"source_file\"],\"data_type\":\"STRING\"}],\"flow_type\":\"APPEND\",\"comment\":\"Ingest order JSON files from cloud storage\",\"language\":\"SQL\",\"notebook_path\":\"/Workspace/Users/labuser11058730_1754017152@vocareum.com/build-data-pipelines-with-lakeflow-declarative-pipelines-3.0.2/Build Data Pipelines with Lakeflow Declarative Pipelines/5 - Deploying a Pipeline to Production Project/orders/orders_pipeline.sql\",\"once\":false}}",
         null,
         null
        ],
        [
         "d25ba710-6ea0-11f0-a268-aa11d67e9c2a",
         "flow_definition",
         "{\"flow_definition\":{\"input_datasets\":[\"labuser11058730_1754017152.1_bronze_db.orders_bronze_demo5\"],\"output_dataset\":\"labuser11058730_1754017152.2_silver_db.orders_silver_demo5\",\"explain_text\":\"'Project ['order_id, 'timestamp('order_timestamp) AS order_timestamp#14860, 'customer_id, 'notifications]\",\"schema_json\":\"{\\\"type\\\":\\\"struct\\\",\\\"fields\\\":[{\\\"name\\\":\\\"order_id\\\",\\\"type\\\":\\\"long\\\",\\\"nullable\\\":true,\\\"metadata\\\":{}},{\\\"name\\\":\\\"order_timestamp\\\",\\\"type\\\":\\\"timestamp\\\",\\\"nullable\\\":true,\\\"metadata\\\":{}},{\\\"name\\\":\\\"customer_id\\\",\\\"type\\\":\\\"long\\\",\\\"nullable\\\":true,\\\"metadata\\\":{}},{\\\"name\\\":\\\"notifications\\\",\\\"type\\\":\\\"string\\\",\\\"nullable\\\":true,\\\"metadata\\\":{}}]}\",\"schema\":[{\"name\":\"order_id\",\"path\":[\"order_id\"],\"data_type\":\"LONG\"},{\"name\":\"order_timestamp\",\"path\":[\"order_timestamp\"],\"data_type\":\"TIMESTAMP\"},{\"name\":\"customer_id\",\"path\":[\"customer_id\"],\"data_type\":\"LONG\"},{\"name\":\"notifications\",\"path\":[\"notifications\"],\"data_type\":\"STRING\"}],\"flow_type\":\"APPEND\",\"comment\":\"Silver clean orders table\",\"language\":\"SQL\",\"notebook_path\":\"/Workspace/Users/labuser11058730_1754017152@vocareum.com/build-data-pipelines-with-lakeflow-declarative-pipelines-3.0.2/Build Data Pipelines with Lakeflow Declarative Pipelines/5 - Deploying a Pipeline to Production Project/orders/orders_pipeline.sql\",\"once\":false}}",
         null,
         null
        ],
        [
         "d25bf530-6ea0-11f0-a268-aa11d67e9c2a",
         "flow_definition",
         "{\"flow_definition\":{\"input_datasets\":[\"labuser11058730_1754017152.1_bronze_db.status_bronze_demo5\"],\"output_dataset\":\"labuser11058730_1754017152.2_silver_db.status_silver_demo5\",\"explain_text\":\"'Project ['order_id, 'order_status, 'timestamp('status_timestamp) AS order_status_timestamp#14850]\",\"schema_json\":\"{\\\"type\\\":\\\"struct\\\",\\\"fields\\\":[{\\\"name\\\":\\\"order_id\\\",\\\"type\\\":\\\"long\\\",\\\"nullable\\\":true,\\\"metadata\\\":{}},{\\\"name\\\":\\\"order_status\\\",\\\"type\\\":\\\"string\\\",\\\"nullable\\\":true,\\\"metadata\\\":{}},{\\\"name\\\":\\\"order_status_timestamp\\\",\\\"type\\\":\\\"timestamp\\\",\\\"nullable\\\":true,\\\"metadata\\\":{}}]}\",\"schema\":[{\"name\":\"order_id\",\"path\":[\"order_id\"],\"data_type\":\"LONG\"},{\"name\":\"order_status\",\"path\":[\"order_status\"],\"data_type\":\"STRING\"},{\"name\":\"order_status_timestamp\",\"path\":[\"order_status_timestamp\"],\"data_type\":\"TIMESTAMP\"}],\"flow_type\":\"APPEND\",\"comment\":\"Order with each status and timestamp\",\"language\":\"SQL\",\"notebook_path\":\"/Workspace/Users/labuser11058730_1754017152@vocareum.com/build-data-pipelines-with-lakeflow-declarative-pipelines-3.0.2/Build Data Pipelines with Lakeflow Declarative Pipelines/5 - Deploying a Pipeline to Production Project/status/status_pipeline.sql\",\"once\":false}}",
         null,
         null
        ],
        [
         "d25c4350-6ea0-11f0-a268-aa11d67e9c2a",
         "flow_definition",
         "{\"flow_definition\":{\"input_datasets\":[\"labuser11058730_1754017152.2_silver_db.orders_silver_demo5\"],\"output_dataset\":\"labuser11058730_1754017152.3_gold_db.gold_orders_by_date_demo5\",\"explain_text\":\"'Aggregate ['date('order_timestamp)], ['date('order_timestamp) AS order_date#14862, 'count(1) AS total_daily_orders#14863]\",\"schema_json\":\"{\\\"type\\\":\\\"struct\\\",\\\"fields\\\":[{\\\"name\\\":\\\"order_date\\\",\\\"type\\\":\\\"date\\\",\\\"nullable\\\":true,\\\"metadata\\\":{}},{\\\"name\\\":\\\"total_daily_orders\\\",\\\"type\\\":\\\"long\\\",\\\"nullable\\\":false,\\\"metadata\\\":{}}]}\",\"schema\":[{\"name\":\"order_date\",\"path\":[\"order_date\"],\"data_type\":\"DATE\"},{\"name\":\"total_daily_orders\",\"path\":[\"total_daily_orders\"],\"data_type\":\"LONG\"}],\"flow_type\":\"MATERIALIZED_VIEW\",\"comment\":\"Aggregate gold data for downstream analysis\",\"language\":\"SQL\",\"notebook_path\":\"/Workspace/Users/labuser11058730_1754017152@vocareum.com/build-data-pipelines-with-lakeflow-declarative-pipelines-3.0.2/Build Data Pipelines with Lakeflow Declarative Pipelines/5 - Deploying a Pipeline to Production Project/orders/orders_pipeline.sql\",\"once\":false}}",
         null,
         null
        ],
        [
         "d25c9170-6ea0-11f0-a268-aa11d67e9c2a",
         "flow_definition",
         "{\"flow_definition\":{\"input_datasets\":[\"labuser11058730_1754017152.2_silver_db.orders_silver_demo5\",\"labuser11058730_1754017152.2_silver_db.status_silver_demo5\"],\"output_dataset\":\"labuser11058730_1754017152.3_gold_db.full_order_info_gold_demo5\",\"explain_text\":\"'Project ['orders.order_id, 'orders.order_timestamp, 'status.order_status, 'status.order_status_timestamp]\",\"schema_json\":\"{\\\"type\\\":\\\"struct\\\",\\\"fields\\\":[{\\\"name\\\":\\\"order_id\\\",\\\"type\\\":\\\"long\\\",\\\"nullable\\\":true,\\\"metadata\\\":{}},{\\\"name\\\":\\\"order_timestamp\\\",\\\"type\\\":\\\"timestamp\\\",\\\"nullable\\\":true,\\\"metadata\\\":{}},{\\\"name\\\":\\\"order_status\\\",\\\"type\\\":\\\"string\\\",\\\"nullable\\\":true,\\\"metadata\\\":{}},{\\\"name\\\":\\\"order_status_timestamp\\\",\\\"type\\\":\\\"timestamp\\\",\\\"nullable\\\":true,\\\"metadata\\\":{}}]}\",\"schema\":[{\"name\":\"order_id\",\"path\":[\"order_id\"],\"data_type\":\"LONG\"},{\"name\":\"order_timestamp\",\"path\":[\"order_timestamp\"],\"data_type\":\"TIMESTAMP\"},{\"name\":\"order_status\",\"path\":[\"order_status\"],\"data_type\":\"STRING\"},{\"name\":\"order_status_timestamp\",\"path\":[\"order_status_timestamp\"],\"data_type\":\"TIMESTAMP\"}],\"flow_type\":\"MATERIALIZED_VIEW\",\"comment\":\"Joining the orders and order status silver tables to view all orders with each individual status per order\",\"language\":\"SQL\",\"notebook_path\":\"/Workspace/Users/labuser11058730_1754017152@vocareum.com/build-data-pipelines-with-lakeflow-declarative-pipelines-3.0.2/Build Data Pipelines with Lakeflow Declarative Pipelines/5 - Deploying a Pipeline to Production Project/status/status_pipeline.sql\",\"once\":false}}",
         null,
         null
        ],
        [
         "d25cb880-6ea0-11f0-a268-aa11d67e9c2a",
         "flow_definition",
         "{\"flow_definition\":{\"input_datasets\":[\"labuser11058730_1754017152.3_gold_db.full_order_info_gold_demo5\"],\"output_dataset\":\"labuser11058730_1754017152.3_gold_db.delivered_orders_gold_demo5\",\"explain_text\":\"'Project ['order_id, 'order_timestamp, 'order_status, 'order_status_timestamp, timestampdiff(DAY, 'order_timestamp, 'order_status_timestamp, None) AS days_to_delivery#14853]\",\"schema_json\":\"{\\\"type\\\":\\\"struct\\\",\\\"fields\\\":[{\\\"name\\\":\\\"order_id\\\",\\\"type\\\":\\\"long\\\",\\\"nullable\\\":true,\\\"metadata\\\":{}},{\\\"name\\\":\\\"order_timestamp\\\",\\\"type\\\":\\\"timestamp\\\",\\\"nullable\\\":true,\\\"metadata\\\":{}},{\\\"name\\\":\\\"order_status\\\",\\\"type\\\":\\\"string\\\",\\\"nullable\\\":true,\\\"metadata\\\":{}},{\\\"name\\\":\\\"order_status_timestamp\\\",\\\"type\\\":\\\"timestamp\\\",\\\"nullable\\\":true,\\\"metadata\\\":{}},{\\\"name\\\":\\\"days_to_delivery\\\",\\\"type\\\":\\\"long\\\",\\\"nullable\\\":true,\\\"metadata\\\":{}}]}\",\"schema\":[{\"name\":\"order_id\",\"path\":[\"order_id\"],\"data_type\":\"LONG\"},{\"name\":\"order_timestamp\",\"path\":[\"order_timestamp\"],\"data_type\":\"TIMESTAMP\"},{\"name\":\"order_status\",\"path\":[\"order_status\"],\"data_type\":\"STRING\"},{\"name\":\"order_status_timestamp\",\"path\":[\"order_status_timestamp\"],\"data_type\":\"TIMESTAMP\"},{\"name\":\"days_to_delivery\",\"path\":[\"days_to_delivery\"],\"data_type\":\"LONG\"}],\"flow_type\":\"MATERIALIZED_VIEW\",\"comment\":\"All delivered orders\",\"language\":\"SQL\",\"notebook_path\":\"/Workspace/Users/labuser11058730_1754017152@vocareum.com/build-data-pipelines-with-lakeflow-declarative-pipelines-3.0.2/Build Data Pipelines with Lakeflow Declarative Pipelines/5 - Deploying a Pipeline to Production Project/status/status_pipeline.sql\",\"once\":false}}",
         null,
         null
        ],
        [
         "d25d06a0-6ea0-11f0-a268-aa11d67e9c2a",
         "flow_definition",
         "{\"flow_definition\":{\"input_datasets\":[\"labuser11058730_1754017152.3_gold_db.full_order_info_gold_demo5\"],\"output_dataset\":\"labuser11058730_1754017152.3_gold_db.cancelled_orders_gold_demo5\",\"explain_text\":\"'Project ['order_id, 'order_timestamp, 'order_status, 'order_status_timestamp, timestampdiff(DAY, 'order_timestamp, 'order_status_timestamp, None) AS days_to_cancel#14852]\",\"schema_json\":\"{\\\"type\\\":\\\"struct\\\",\\\"fields\\\":[{\\\"name\\\":\\\"order_id\\\",\\\"type\\\":\\\"long\\\",\\\"nullable\\\":true,\\\"metadata\\\":{}},{\\\"name\\\":\\\"order_timestamp\\\",\\\"type\\\":\\\"timestamp\\\",\\\"nullable\\\":true,\\\"metadata\\\":{}},{\\\"name\\\":\\\"order_status\\\",\\\"type\\\":\\\"string\\\",\\\"nullable\\\":true,\\\"metadata\\\":{}},{\\\"name\\\":\\\"order_status_timestamp\\\",\\\"type\\\":\\\"timestamp\\\",\\\"nullable\\\":true,\\\"metadata\\\":{}},{\\\"name\\\":\\\"days_to_cancel\\\",\\\"type\\\":\\\"long\\\",\\\"nullable\\\":true,\\\"metadata\\\":{}}]}\",\"schema\":[{\"name\":\"order_id\",\"path\":[\"order_id\"],\"data_type\":\"LONG\"},{\"name\":\"order_timestamp\",\"path\":[\"order_timestamp\"],\"data_type\":\"TIMESTAMP\"},{\"name\":\"order_status\",\"path\":[\"order_status\"],\"data_type\":\"STRING\"},{\"name\":\"order_status_timestamp\",\"path\":[\"order_status_timestamp\"],\"data_type\":\"TIMESTAMP\"},{\"name\":\"days_to_cancel\",\"path\":[\"days_to_cancel\"],\"data_type\":\"LONG\"}],\"flow_type\":\"MATERIALIZED_VIEW\",\"comment\":\"All cancelled orders\",\"language\":\"SQL\",\"notebook_path\":\"/Workspace/Users/labuser11058730_1754017152@vocareum.com/build-data-pipelines-with-lakeflow-declarative-pipelines-3.0.2/Build Data Pipelines with Lakeflow Declarative Pipelines/5 - Deploying a Pipeline to Production Project/status/status_pipeline.sql\",\"once\":false}}",
         null,
         null
        ],
        [
         "d25dc9f0-6ea0-11f0-a268-aa11d67e9c2a",
         "dataset_definition",
         "{\"dataset_definition\":{\"dataset_type\":\"STREAMING_TABLE\",\"table_properties\":[{\"key\":\"quality\",\"value\":\"bronze\"},{\"key\":\"pipelines.reset.allowed\",\"value\":\"false\"}],\"schema_json\":\"{\\\"type\\\":\\\"struct\\\",\\\"fields\\\":[{\\\"name\\\":\\\"customer_id\\\",\\\"type\\\":\\\"long\\\",\\\"nullable\\\":true,\\\"metadata\\\":{}},{\\\"name\\\":\\\"notifications\\\",\\\"type\\\":\\\"string\\\",\\\"nullable\\\":true,\\\"metadata\\\":{}},{\\\"name\\\":\\\"order_id\\\",\\\"type\\\":\\\"long\\\",\\\"nullable\\\":true,\\\"metadata\\\":{}},{\\\"name\\\":\\\"order_timestamp\\\",\\\"type\\\":\\\"long\\\",\\\"nullable\\\":true,\\\"metadata\\\":{}},{\\\"name\\\":\\\"_rescued_data\\\",\\\"type\\\":\\\"string\\\",\\\"nullable\\\":true,\\\"metadata\\\":{}},{\\\"name\\\":\\\"processing_time\\\",\\\"type\\\":\\\"timestamp\\\",\\\"nullable\\\":true,\\\"metadata\\\":{}},{\\\"name\\\":\\\"source_file\\\",\\\"type\\\":\\\"string\\\",\\\"nullable\\\":true,\\\"metadata\\\":{}}]}\",\"schema\":[{\"name\":\"customer_id\",\"path\":[\"customer_id\"],\"data_type\":\"LONG\"},{\"name\":\"notifications\",\"path\":[\"notifications\"],\"data_type\":\"STRING\"},{\"name\":\"order_id\",\"path\":[\"order_id\"],\"data_type\":\"LONG\"},{\"name\":\"order_timestamp\",\"path\":[\"order_timestamp\"],\"data_type\":\"LONG\"},{\"name\":\"_rescued_data\",\"path\":[\"_rescued_data\"],\"data_type\":\"STRING\"},{\"name\":\"processing_time\",\"path\":[\"processing_time\"],\"data_type\":\"TIMESTAMP\"},{\"name\":\"source_file\",\"path\":[\"source_file\"],\"data_type\":\"STRING\"}],\"comment\":\"Ingest order JSON files from cloud storage\",\"metastore_name\":\"`labuser11058730_1754017152`.`1_bronze_db`.`orders_bronze_demo5`\",\"language\":\"SQL\",\"notebook_path\":\"/Workspace/Users/labuser11058730_1754017152@vocareum.com/build-data-pipelines-with-lakeflow-declarative-pipelines-3.0.2/Build Data Pipelines with Lakeflow Declarative Pipelines/5 - Deploying a Pipeline to Production Project/orders/orders_pipeline.sql\",\"num_flows\":1,\"is_private\":true}}",
         null,
         null
        ],
        [
         "d25e6630-6ea0-11f0-a268-aa11d67e9c2a",
         "dataset_definition",
         "{\"dataset_definition\":{\"dataset_type\":\"MATERIALIZED_VIEW\",\"table_properties\":[{\"key\":\"quality\",\"value\":\"gold\"}],\"schema_json\":\"{\\\"type\\\":\\\"struct\\\",\\\"fields\\\":[{\\\"name\\\":\\\"order_id\\\",\\\"type\\\":\\\"long\\\",\\\"nullable\\\":true,\\\"metadata\\\":{}},{\\\"name\\\":\\\"order_timestamp\\\",\\\"type\\\":\\\"timestamp\\\",\\\"nullable\\\":true,\\\"metadata\\\":{}},{\\\"name\\\":\\\"order_status\\\",\\\"type\\\":\\\"string\\\",\\\"nullable\\\":true,\\\"metadata\\\":{}},{\\\"name\\\":\\\"order_status_timestamp\\\",\\\"type\\\":\\\"timestamp\\\",\\\"nullable\\\":true,\\\"metadata\\\":{}},{\\\"name\\\":\\\"days_to_delivery\\\",\\\"type\\\":\\\"long\\\",\\\"nullable\\\":true,\\\"metadata\\\":{}}]}\",\"schema\":[{\"name\":\"order_id\",\"path\":[\"order_id\"],\"data_type\":\"LONG\"},{\"name\":\"order_timestamp\",\"path\":[\"order_timestamp\"],\"data_type\":\"TIMESTAMP\"},{\"name\":\"order_status\",\"path\":[\"order_status\"],\"data_type\":\"STRING\"},{\"name\":\"order_status_timestamp\",\"path\":[\"order_status_timestamp\"],\"data_type\":\"TIMESTAMP\"},{\"name\":\"days_to_delivery\",\"path\":[\"days_to_delivery\"],\"data_type\":\"LONG\"}],\"comment\":\"All delivered orders\",\"metastore_name\":\"`labuser11058730_1754017152`.`3_gold_db`.`delivered_orders_gold_demo5`\",\"language\":\"SQL\",\"notebook_path\":\"/Workspace/Users/labuser11058730_1754017152@vocareum.com/build-data-pipelines-with-lakeflow-declarative-pipelines-3.0.2/Build Data Pipelines with Lakeflow Declarative Pipelines/5 - Deploying a Pipeline to Production Project/status/status_pipeline.sql\",\"num_flows\":1,\"is_private\":true}}",
         null,
         null
        ],
        [
         "d25f2980-6ea0-11f0-a268-aa11d67e9c2a",
         "dataset_definition",
         "{\"dataset_definition\":{\"dataset_type\":\"STREAMING_TABLE\",\"table_properties\":[{\"key\":\"quality\",\"value\":\"silver\"}],\"schema_json\":\"{\\\"type\\\":\\\"struct\\\",\\\"fields\\\":[{\\\"name\\\":\\\"order_id\\\",\\\"type\\\":\\\"long\\\",\\\"nullable\\\":true,\\\"metadata\\\":{}},{\\\"name\\\":\\\"order_timestamp\\\",\\\"type\\\":\\\"timestamp\\\",\\\"nullable\\\":true,\\\"metadata\\\":{}},{\\\"name\\\":\\\"customer_id\\\",\\\"type\\\":\\\"long\\\",\\\"nullable\\\":true,\\\"metadata\\\":{}},{\\\"name\\\":\\\"notifications\\\",\\\"type\\\":\\\"string\\\",\\\"nullable\\\":true,\\\"metadata\\\":{}}]}\",\"schema\":[{\"name\":\"order_id\",\"path\":[\"order_id\"],\"data_type\":\"LONG\"},{\"name\":\"order_timestamp\",\"path\":[\"order_timestamp\"],\"data_type\":\"TIMESTAMP\"},{\"name\":\"customer_id\",\"path\":[\"customer_id\"],\"data_type\":\"LONG\"},{\"name\":\"notifications\",\"path\":[\"notifications\"],\"data_type\":\"STRING\"}],\"comment\":\"Silver clean orders table\",\"expectations\":[{\"name\":\"valid_notifications\",\"action\":\"ALLOW\"},{\"name\":\"valid_date\",\"action\":\"DROP\"},{\"name\":\"valid_id\",\"action\":\"FAIL\"}],\"metastore_name\":\"`labuser11058730_1754017152`.`2_silver_db`.`orders_silver_demo5`\",\"language\":\"SQL\",\"notebook_path\":\"/Workspace/Users/labuser11058730_1754017152@vocareum.com/build-data-pipelines-with-lakeflow-declarative-pipelines-3.0.2/Build Data Pipelines with Lakeflow Declarative Pipelines/5 - Deploying a Pipeline to Production Project/orders/orders_pipeline.sql\",\"num_flows\":1,\"is_private\":true}}",
         null,
         null
        ],
        [
         "d25fc5c0-6ea0-11f0-a268-aa11d67e9c2a",
         "dataset_definition",
         "{\"dataset_definition\":{\"dataset_type\":\"STREAMING_TABLE\",\"table_properties\":[{\"key\":\"quality\",\"value\":\"bronze\"},{\"key\":\"pipelines.reset.allowed\",\"value\":\"false\"}],\"schema_json\":\"{\\\"type\\\":\\\"struct\\\",\\\"fields\\\":[{\\\"name\\\":\\\"order_id\\\",\\\"type\\\":\\\"long\\\",\\\"nullable\\\":true,\\\"metadata\\\":{}},{\\\"name\\\":\\\"order_status\\\",\\\"type\\\":\\\"string\\\",\\\"nullable\\\":true,\\\"metadata\\\":{}},{\\\"name\\\":\\\"status_timestamp\\\",\\\"type\\\":\\\"long\\\",\\\"nullable\\\":true,\\\"metadata\\\":{}},{\\\"name\\\":\\\"_rescued_data\\\",\\\"type\\\":\\\"string\\\",\\\"nullable\\\":true,\\\"metadata\\\":{}},{\\\"name\\\":\\\"processing_time\\\",\\\"type\\\":\\\"timestamp\\\",\\\"nullable\\\":true,\\\"metadata\\\":{}},{\\\"name\\\":\\\"source_file\\\",\\\"type\\\":\\\"string\\\",\\\"nullable\\\":true,\\\"metadata\\\":{}}]}\",\"schema\":[{\"name\":\"order_id\",\"path\":[\"order_id\"],\"data_type\":\"LONG\"},{\"name\":\"order_status\",\"path\":[\"order_status\"],\"data_type\":\"STRING\"},{\"name\":\"status_timestamp\",\"path\":[\"status_timestamp\"],\"data_type\":\"LONG\"},{\"name\":\"_rescued_data\",\"path\":[\"_rescued_data\"],\"data_type\":\"STRING\"},{\"name\":\"processing_time\",\"path\":[\"processing_time\"],\"data_type\":\"TIMESTAMP\"},{\"name\":\"source_file\",\"path\":[\"source_file\"],\"data_type\":\"STRING\"}],\"comment\":\"Ingest raw JSON order status files from cloud storage\",\"metastore_name\":\"`labuser11058730_1754017152`.`1_bronze_db`.`status_bronze_demo5`\",\"language\":\"SQL\",\"notebook_path\":\"/Workspace/Users/labuser11058730_1754017152@vocareum.com/build-data-pipelines-with-lakeflow-declarative-pipelines-3.0.2/Build Data Pipelines with Lakeflow Declarative Pipelines/5 - Deploying a Pipeline to Production Project/status/status_pipeline.sql\",\"num_flows\":1,\"is_private\":true}}",
         null,
         null
        ],
        [
         "d2608910-6ea0-11f0-a268-aa11d67e9c2a",
         "dataset_definition",
         "{\"dataset_definition\":{\"dataset_type\":\"STREAMING_TABLE\",\"table_properties\":[{\"key\":\"quality\",\"value\":\"silver\"}],\"schema_json\":\"{\\\"type\\\":\\\"struct\\\",\\\"fields\\\":[{\\\"name\\\":\\\"order_id\\\",\\\"type\\\":\\\"long\\\",\\\"nullable\\\":true,\\\"metadata\\\":{}},{\\\"name\\\":\\\"order_status\\\",\\\"type\\\":\\\"string\\\",\\\"nullable\\\":true,\\\"metadata\\\":{}},{\\\"name\\\":\\\"order_status_timestamp\\\",\\\"type\\\":\\\"timestamp\\\",\\\"nullable\\\":true,\\\"metadata\\\":{}}]}\",\"schema\":[{\"name\":\"order_id\",\"path\":[\"order_id\"],\"data_type\":\"LONG\"},{\"name\":\"order_status\",\"path\":[\"order_status\"],\"data_type\":\"STRING\"},{\"name\":\"order_status_timestamp\",\"path\":[\"order_status_timestamp\"],\"data_type\":\"TIMESTAMP\"}],\"comment\":\"Order with each status and timestamp\",\"expectations\":[{\"name\":\"valid_timestamp\",\"action\":\"DROP\"},{\"name\":\"valid_order_status\",\"action\":\"ALLOW\"}],\"metastore_name\":\"`labuser11058730_1754017152`.`2_silver_db`.`status_silver_demo5`\",\"language\":\"SQL\",\"notebook_path\":\"/Workspace/Users/labuser11058730_1754017152@vocareum.com/build-data-pipelines-with-lakeflow-declarative-pipelines-3.0.2/Build Data Pipelines with Lakeflow Declarative Pipelines/5 - Deploying a Pipeline to Production Project/status/status_pipeline.sql\",\"num_flows\":1,\"is_private\":true}}",
         null,
         null
        ],
        [
         "d2612550-6ea0-11f0-a268-aa11d67e9c2a",
         "dataset_definition",
         "{\"dataset_definition\":{\"dataset_type\":\"MATERIALIZED_VIEW\",\"table_properties\":[{\"key\":\"quality\",\"value\":\"gold\"}],\"schema_json\":\"{\\\"type\\\":\\\"struct\\\",\\\"fields\\\":[{\\\"name\\\":\\\"order_date\\\",\\\"type\\\":\\\"date\\\",\\\"nullable\\\":true,\\\"metadata\\\":{}},{\\\"name\\\":\\\"total_daily_orders\\\",\\\"type\\\":\\\"long\\\",\\\"nullable\\\":true,\\\"metadata\\\":{}}]}\",\"schema\":[{\"name\":\"order_date\",\"path\":[\"order_date\"],\"data_type\":\"DATE\"},{\"name\":\"total_daily_orders\",\"path\":[\"total_daily_orders\"],\"data_type\":\"LONG\"}],\"comment\":\"Aggregate gold data for downstream analysis\",\"metastore_name\":\"`labuser11058730_1754017152`.`3_gold_db`.`gold_orders_by_date_demo5`\",\"language\":\"SQL\",\"notebook_path\":\"/Workspace/Users/labuser11058730_1754017152@vocareum.com/build-data-pipelines-with-lakeflow-declarative-pipelines-3.0.2/Build Data Pipelines with Lakeflow Declarative Pipelines/5 - Deploying a Pipeline to Production Project/orders/orders_pipeline.sql\",\"num_flows\":1,\"is_private\":true}}",
         null,
         null
        ],
        [
         "d261c190-6ea0-11f0-a268-aa11d67e9c2a",
         "dataset_definition",
         "{\"dataset_definition\":{\"dataset_type\":\"MATERIALIZED_VIEW\",\"table_properties\":[{\"key\":\"quality\",\"value\":\"gold\"}],\"schema_json\":\"{\\\"type\\\":\\\"struct\\\",\\\"fields\\\":[{\\\"name\\\":\\\"order_id\\\",\\\"type\\\":\\\"long\\\",\\\"nullable\\\":true,\\\"metadata\\\":{}},{\\\"name\\\":\\\"order_timestamp\\\",\\\"type\\\":\\\"timestamp\\\",\\\"nullable\\\":true,\\\"metadata\\\":{}},{\\\"name\\\":\\\"order_status\\\",\\\"type\\\":\\\"string\\\",\\\"nullable\\\":true,\\\"metadata\\\":{}},{\\\"name\\\":\\\"order_status_timestamp\\\",\\\"type\\\":\\\"timestamp\\\",\\\"nullable\\\":true,\\\"metadata\\\":{}},{\\\"name\\\":\\\"days_to_cancel\\\",\\\"type\\\":\\\"long\\\",\\\"nullable\\\":true,\\\"metadata\\\":{}}]}\",\"schema\":[{\"name\":\"order_id\",\"path\":[\"order_id\"],\"data_type\":\"LONG\"},{\"name\":\"order_timestamp\",\"path\":[\"order_timestamp\"],\"data_type\":\"TIMESTAMP\"},{\"name\":\"order_status\",\"path\":[\"order_status\"],\"data_type\":\"STRING\"},{\"name\":\"order_status_timestamp\",\"path\":[\"order_status_timestamp\"],\"data_type\":\"TIMESTAMP\"},{\"name\":\"days_to_cancel\",\"path\":[\"days_to_cancel\"],\"data_type\":\"LONG\"}],\"comment\":\"All cancelled orders\",\"metastore_name\":\"`labuser11058730_1754017152`.`3_gold_db`.`cancelled_orders_gold_demo5`\",\"language\":\"SQL\",\"notebook_path\":\"/Workspace/Users/labuser11058730_1754017152@vocareum.com/build-data-pipelines-with-lakeflow-declarative-pipelines-3.0.2/Build Data Pipelines with Lakeflow Declarative Pipelines/5 - Deploying a Pipeline to Production Project/status/status_pipeline.sql\",\"num_flows\":1,\"is_private\":true}}",
         null,
         null
        ],
        [
         "d2625dd0-6ea0-11f0-a268-aa11d67e9c2a",
         "dataset_definition",
         "{\"dataset_definition\":{\"dataset_type\":\"MATERIALIZED_VIEW\",\"table_properties\":[{\"key\":\"quality\",\"value\":\"gold\"}],\"schema_json\":\"{\\\"type\\\":\\\"struct\\\",\\\"fields\\\":[{\\\"name\\\":\\\"order_id\\\",\\\"type\\\":\\\"long\\\",\\\"nullable\\\":true,\\\"metadata\\\":{}},{\\\"name\\\":\\\"order_timestamp\\\",\\\"type\\\":\\\"timestamp\\\",\\\"nullable\\\":true,\\\"metadata\\\":{}},{\\\"name\\\":\\\"order_status\\\",\\\"type\\\":\\\"string\\\",\\\"nullable\\\":true,\\\"metadata\\\":{}},{\\\"name\\\":\\\"order_status_timestamp\\\",\\\"type\\\":\\\"timestamp\\\",\\\"nullable\\\":true,\\\"metadata\\\":{}}]}\",\"schema\":[{\"name\":\"order_id\",\"path\":[\"order_id\"],\"data_type\":\"LONG\"},{\"name\":\"order_timestamp\",\"path\":[\"order_timestamp\"],\"data_type\":\"TIMESTAMP\"},{\"name\":\"order_status\",\"path\":[\"order_status\"],\"data_type\":\"STRING\"},{\"name\":\"order_status_timestamp\",\"path\":[\"order_status_timestamp\"],\"data_type\":\"TIMESTAMP\"}],\"comment\":\"Joining the orders and order status silver tables to view all orders with each individual status per order\",\"metastore_name\":\"`labuser11058730_1754017152`.`3_gold_db`.`full_order_info_gold_demo5`\",\"language\":\"SQL\",\"notebook_path\":\"/Workspace/Users/labuser11058730_1754017152@vocareum.com/build-data-pipelines-with-lakeflow-declarative-pipelines-3.0.2/Build Data Pipelines with Lakeflow Declarative Pipelines/5 - Deploying a Pipeline to Production Project/status/status_pipeline.sql\",\"num_flows\":1,\"is_private\":true}}",
         null,
         null
        ],
        [
         "d2801f00-6ea0-11f0-a268-aa11d67e9c2a",
         "graph_created",
         "{\"graph_created\":{}}",
         null,
         null
        ],
        [
         "d2809430-6ea0-11f0-a268-aa11d67e9c2a",
         "update_progress",
         "{\"update_progress\":{\"state\":\"RUNNING\"}}",
         null,
         null
        ],
        [
         "d2821ad0-6ea0-11f0-a268-aa11d67e9c2a",
         "flow_progress",
         "{\"flow_progress\":{\"status\":\"QUEUED\"}}",
         "{\"status\":\"QUEUED\"}",
         null
        ],
        [
         "d28268f0-6ea0-11f0-a268-aa11d67e9c2a",
         "flow_progress",
         "{\"flow_progress\":{\"status\":\"QUEUED\"}}",
         "{\"status\":\"QUEUED\"}",
         null
        ],
        [
         "d2829000-6ea0-11f0-a268-aa11d67e9c2a",
         "flow_progress",
         "{\"flow_progress\":{\"status\":\"QUEUED\"}}",
         "{\"status\":\"QUEUED\"}",
         null
        ],
        [
         "d283a170-6ea0-11f0-a268-aa11d67e9c2a",
         "flow_progress",
         "{\"flow_progress\":{\"status\":\"QUEUED\"}}",
         "{\"status\":\"QUEUED\"}",
         null
        ],
        [
         "d283ef90-6ea0-11f0-a268-aa11d67e9c2a",
         "flow_progress",
         "{\"flow_progress\":{\"status\":\"QUEUED\"}}",
         "{\"status\":\"QUEUED\"}",
         null
        ],
        [
         "d28416a0-6ea0-11f0-a268-aa11d67e9c2a",
         "flow_progress",
         "{\"flow_progress\":{\"status\":\"QUEUED\"}}",
         "{\"status\":\"QUEUED\"}",
         null
        ],
        [
         "d28464c0-6ea0-11f0-a268-aa11d67e9c2a",
         "flow_progress",
         "{\"flow_progress\":{\"status\":\"QUEUED\"}}",
         "{\"status\":\"QUEUED\"}",
         null
        ],
        [
         "d2848bd0-6ea0-11f0-a268-aa11d67e9c2a",
         "flow_progress",
         "{\"flow_progress\":{\"status\":\"QUEUED\"}}",
         "{\"status\":\"QUEUED\"}",
         null
        ],
        [
         "d2a162a0-6ea0-11f0-a268-aa11d67e9c2a",
         "flow_progress",
         "{\"flow_progress\":{\"status\":\"STARTING\"}}",
         "{\"status\":\"STARTING\"}",
         null
        ],
        [
         "d2c98410-6ea0-11f0-a268-aa11d67e9c2a",
         "flow_progress",
         "{\"flow_progress\":{\"status\":\"RUNNING\",\"metrics\":{}}}",
         "{\"status\":\"RUNNING\",\"metrics\":{}}",
         null
        ],
        [
         "d2e8a4d0-6ea0-11f0-a268-aa11d67e9c2a",
         "flow_progress",
         "{\"flow_progress\":{\"status\":\"STARTING\"}}",
         "{\"status\":\"STARTING\"}",
         null
        ],
        [
         "d3181940-6ea0-11f0-a268-aa11d67e9c2a",
         "flow_progress",
         "{\"flow_progress\":{\"status\":\"RUNNING\",\"metrics\":{}}}",
         "{\"status\":\"RUNNING\",\"metrics\":{}}",
         null
        ],
        [
         "d5787770-6ea0-11f0-a268-aa11d67e9c2a",
         "flow_progress",
         "{\"flow_progress\":{\"status\":\"RUNNING\",\"metrics\":{\"num_output_rows\":410,\"backlog_bytes\":0,\"backlog_files\":0,\"source_metrics\":[{\"source_name\":\"CloudFilesSource[/Volumes/dbacademy/ops/labuser11058730_1754017152@vocareum_com/status]\",\"backlog_bytes\":0,\"backlog_files\":0}]},\"data_quality\":{\"dropped_records\":0},\"streaming_metrics\":{\"event_time\":{}}}}",
         "{\"status\":\"RUNNING\",\"metrics\":{\"num_output_rows\":410,\"backlog_bytes\":0,\"backlog_files\":0,\"source_metrics\":[{\"source_name\":\"CloudFilesSource[/Volumes/dbacademy/ops/labuser11058730_1754017152@vocareum_com/status]\",\"backlog_bytes\":0,\"backlog_files\":0}]},\"data_quality\":{\"dropped_records\":0},\"streaming_metrics\":{\"event_time\":{}}}",
         null
        ],
        [
         "d57961d0-6ea0-11f0-a268-aa11d67e9c2a",
         "flow_progress",
         "{\"flow_progress\":{\"status\":\"RUNNING\",\"metrics\":{\"num_output_rows\":98,\"backlog_bytes\":0,\"backlog_files\":0,\"source_metrics\":[{\"source_name\":\"CloudFilesSource[/Volumes/dbacademy/ops/labuser11058730_1754017152@vocareum_com/orders]\",\"backlog_bytes\":0,\"backlog_files\":0}]},\"data_quality\":{\"dropped_records\":0},\"streaming_metrics\":{\"event_time\":{}}}}",
         "{\"status\":\"RUNNING\",\"metrics\":{\"num_output_rows\":98,\"backlog_bytes\":0,\"backlog_files\":0,\"source_metrics\":[{\"source_name\":\"CloudFilesSource[/Volumes/dbacademy/ops/labuser11058730_1754017152@vocareum_com/orders]\",\"backlog_bytes\":0,\"backlog_files\":0}]},\"data_quality\":{\"dropped_records\":0},\"streaming_metrics\":{\"event_time\":{}}}",
         null
        ],
        [
         "d57c4800-6ea0-11f0-a268-aa11d67e9c2a",
         "flow_progress",
         "{\"flow_progress\":{\"status\":\"COMPLETED\"}}",
         "{\"status\":\"COMPLETED\"}",
         null
        ],
        [
         "d57d0b50-6ea0-11f0-a268-aa11d67e9c2a",
         "flow_progress",
         "{\"flow_progress\":{\"status\":\"COMPLETED\"}}",
         "{\"status\":\"COMPLETED\"}",
         null
        ],
        [
         "d663c1d0-6ea0-11f0-a268-aa11d67e9c2a",
         "flow_progress",
         "{\"flow_progress\":{\"status\":\"STARTING\"}}",
         "{\"status\":\"STARTING\"}",
         null
        ],
        [
         "d6855390-6ea0-11f0-a268-aa11d67e9c2a",
         "flow_progress",
         "{\"flow_progress\":{\"status\":\"RUNNING\",\"metrics\":{}}}",
         "{\"status\":\"RUNNING\",\"metrics\":{}}",
         null
        ],
        [
         "d6a51090-6ea0-11f0-a268-aa11d67e9c2a",
         "flow_progress",
         "{\"flow_progress\":{\"status\":\"STARTING\"}}",
         "{\"status\":\"STARTING\"}",
         null
        ],
        [
         "d6cd8020-6ea0-11f0-a268-aa11d67e9c2a",
         "flow_progress",
         "{\"flow_progress\":{\"status\":\"RUNNING\",\"metrics\":{}}}",
         "{\"status\":\"RUNNING\",\"metrics\":{}}",
         null
        ],
        [
         "d7f4c210-6ea0-11f0-a268-aa11d67e9c2a",
         "flow_progress",
         "{\"flow_progress\":{\"status\":\"RUNNING\",\"metrics\":{\"num_output_rows\":98,\"backlog_bytes\":0,\"backlog_files\":0,\"source_metrics\":[{\"source_name\":\"DeltaSource[labuser11058730_1754017152.1_bronze_db.orders_bronze_demo5]\",\"backlog_bytes\":0,\"backlog_files\":0}]},\"data_quality\":{\"dropped_records\":0,\"expectations\":[{\"name\":\"valid_notifications\",\"dataset\":\"labuser11058730_1754017152.2_silver_db.orders_silver_demo5\",\"passed_records\":98,\"failed_records\":0},{\"name\":\"valid_id\",\"dataset\":\"labuser11058730_1754017152.2_silver_db.orders_silver_demo5\",\"passed_records\":98,\"failed_records\":0},{\"name\":\"valid_date\",\"dataset\":\"labuser11058730_1754017152.2_silver_db.orders_silver_demo5\",\"passed_records\":98,\"failed_records\":0}]},\"streaming_metrics\":{\"event_time\":{}}}}",
         "{\"status\":\"RUNNING\",\"metrics\":{\"num_output_rows\":98,\"backlog_bytes\":0,\"backlog_files\":0,\"source_metrics\":[{\"source_name\":\"DeltaSource[labuser11058730_1754017152.1_bronze_db.orders_bronze_demo5]\",\"backlog_bytes\":0,\"backlog_files\":0}]},\"data_quality\":{\"dropped_records\":0,\"expectations\":[{\"name\":\"valid_notifications\",\"dataset\":\"labuser11058730_1754017152.2_silver_db.orders_silver_demo5\",\"passed_records\":98,\"failed_records\":0},{\"name\":\"valid_id\",\"dataset\":\"labuser11058730_1754017152.2_silver_db.orders_silver_demo5\",\"passed_records\":98,\"failed_records\":0},{\"name\":\"valid_date\",\"dataset\":\"labuser11058730_1754017152.2_silver_db.orders_silver_demo5\",\"passed_records\":98,\"failed_records\":0}]},\"streaming_metrics\":{\"event_time\":{}}}",
         null
        ],
        [
         "d7f5fa90-6ea0-11f0-a268-aa11d67e9c2a",
         "flow_progress",
         "{\"flow_progress\":{\"status\":\"COMPLETED\"}}",
         "{\"status\":\"COMPLETED\"}",
         null
        ],
        [
         "d8301d60-6ea0-11f0-a268-aa11d67e9c2a",
         "flow_progress",
         "{\"flow_progress\":{\"status\":\"RUNNING\",\"metrics\":{\"num_output_rows\":410,\"backlog_bytes\":0,\"backlog_files\":0,\"source_metrics\":[{\"source_name\":\"DeltaSource[labuser11058730_1754017152.1_bronze_db.status_bronze_demo5]\",\"backlog_bytes\":0,\"backlog_files\":0}]},\"data_quality\":{\"dropped_records\":0,\"expectations\":[{\"name\":\"valid_timestamp\",\"dataset\":\"labuser11058730_1754017152.2_silver_db.status_silver_demo5\",\"passed_records\":410,\"failed_records\":0},{\"name\":\"valid_order_status\",\"dataset\":\"labuser11058730_1754017152.2_silver_db.status_silver_demo5\",\"passed_records\":379,\"failed_records\":31}]},\"streaming_metrics\":{\"event_time\":{}}}}",
         "{\"status\":\"RUNNING\",\"metrics\":{\"num_output_rows\":410,\"backlog_bytes\":0,\"backlog_files\":0,\"source_metrics\":[{\"source_name\":\"DeltaSource[labuser11058730_1754017152.1_bronze_db.status_bronze_demo5]\",\"backlog_bytes\":0,\"backlog_files\":0}]},\"data_quality\":{\"dropped_records\":0,\"expectations\":[{\"name\":\"valid_timestamp\",\"dataset\":\"labuser11058730_1754017152.2_silver_db.status_silver_demo5\",\"passed_records\":410,\"failed_records\":0},{\"name\":\"valid_order_status\",\"dataset\":\"labuser11058730_1754017152.2_silver_db.status_silver_demo5\",\"passed_records\":379,\"failed_records\":31}]},\"streaming_metrics\":{\"event_time\":{}}}",
         null
        ],
        [
         "d8312ed0-6ea0-11f0-a268-aa11d67e9c2a",
         "flow_progress",
         "{\"flow_progress\":{\"status\":\"COMPLETED\"}}",
         "{\"status\":\"COMPLETED\"}",
         null
        ],
        [
         "d8d229c0-6ea0-11f0-a268-aa11d67e9c2a",
         "flow_progress",
         "{\"flow_progress\":{\"status\":\"PLANNING\"}}",
         "{\"status\":\"PLANNING\"}",
         null
        ],
        [
         "db74c110-6ea0-11f0-a268-aa11d67e9c2a",
         "planning_information",
         "{\"planning_information\":{\"technique_information\":[{\"maintenance_type\":\"MAINTENANCE_TYPE_NO_OP\",\"incrementalization_issues\":[{\"issue_type\":\"DATA_HAS_CHANGED\",\"prevent_incrementalization\":true}]},{\"maintenance_type\":\"MAINTENANCE_TYPE_COMPLETE_RECOMPUTE\",\"is_chosen\":false,\"is_applicable\":true,\"cost\":2708.0},{\"maintenance_type\":\"MAINTENANCE_TYPE_GROUP_AGGREGATE\",\"is_chosen\":true,\"is_applicable\":true}],\"source_table_information\":[{\"table_id\":\"d5f7414c-d9fe-49b9-965f-1af66e757836\",\"full_size\":7042.0,\"num_rows\":272,\"num_files\":2,\"change_size\":2918.0,\"num_changed_rows\":98,\"num_rows_in_changed_files\":98,\"num_changed_files\":1,\"change_file_read_size\":2918.0,\"is_size_after_pruning\":true,\"is_row_id_enabled\":true,\"is_cdf_enabled\":true,\"is_deletion_vector_enabled\":true,\"is_change_from_legacy_cdf\":false}],\"target_table_information\":{\"table_name\":\"`labuser11058730_1754017152`.`3_gold_db`.`gold_orders_by_date_demo5`\",\"table_id\":\"200c3af9-0c63-487b-9665-5f72a2b6926e\",\"full_size\":984.0,\"is_row_id_enabled\":true,\"is_cdf_enabled\":true,\"is_deletion_vector_enabled\":true},\"planning_wall_time_ms\":4333}}",
         null,
         null
        ],
        [
         "3bb55e50-6ea0-11f0-a268-aa11d67e9c2a",
         "update_progress",
         "{\"update_progress\":{\"state\":\"INITIALIZING\"}}",
         null,
         null
        ],
        [
         "aa824e80-6e9e-11f0-b947-8acb90f2812d",
         "user_action",
         "{\"user_action\":{\"action\":\"CREATE\",\"user_name\":\"labuser11058730_1754017152@vocareum.com\",\"user_id\":70949121692270,\"request\":{\"create_request\":{\"id\":\"6ce1fdf2-b7dd-4ed3-844e-1d170666cadb\",\"pipeline_type\":\"WORKSPACE\",\"name\":\"5 - Deploying a Pipeline to Production Project - labuser11058730_1754017152\",\"configuration\":{\"source\":\"/Volumes/dbacademy/ops/labuser11058730_1754017152@vocareum_com\"},\"libraries\":[{\"glob\":{\"include\":\"/Workspace/Users/labuser11058730_1754017152@vocareum.com/build-data-pipelines-with-lakeflow-declarative-pipelines-3.0.2/Build Data Pipelines with Lakeflow Declarative Pipelines/5 - Deploying a Pipeline to Production Project/orders/**\"}},{\"glob\":{\"include\":\"/Workspace/Users/labuser11058730_1754017152@vocareum.com/build-data-pipelines-with-lakeflow-declarative-pipelines-3.0.2/Build Data Pipelines with Lakeflow Declarative Pipelines/5 - Deploying a Pipeline to Production Project/status/**\"}}],\"schema\":\"default\",\"continuous\":false,\"development\":true,\"photon\":true,\"channel\":\"PREVIEW\",\"catalog\":\"labuser11058730_1754017152\",\"serverless\":true,\"root_path\":\"/Workspace/Users/labuser11058730_1754017152@vocareum.com/build-data-pipelines-with-lakeflow-declarative-pipelines-3.0.2/Build Data Pipelines with Lakeflow Declarative Pipelines/5 - Deploying a Pipeline to Production Project\"}}}}",
         null,
         "{\"action\":\"CREATE\",\"user_name\":\"labuser11058730_1754017152@vocareum.com\",\"user_id\":70949121692270,\"request\":{\"create_request\":{\"id\":\"6ce1fdf2-b7dd-4ed3-844e-1d170666cadb\",\"pipeline_type\":\"WORKSPACE\",\"name\":\"5 - Deploying a Pipeline to Production Project - labuser11058730_1754017152\",\"configuration\":{\"source\":\"/Volumes/dbacademy/ops/labuser11058730_1754017152@vocareum_com\"},\"libraries\":[{\"glob\":{\"include\":\"/Workspace/Users/labuser11058730_1754017152@vocareum.com/build-data-pipelines-with-lakeflow-declarative-pipelines-3.0.2/Build Data Pipelines with Lakeflow Declarative Pipelines/5 - Deploying a Pipeline to Production Project/orders/**\"}},{\"glob\":{\"include\":\"/Workspace/Users/labuser11058730_1754017152@vocareum.com/build-data-pipelines-with-lakeflow-declarative-pipelines-3.0.2/Build Data Pipelines with Lakeflow Declarative Pipelines/5 - Deploying a Pipeline to Production Project/status/**\"}}],\"schema\":\"default\",\"continuous\":false,\"development\":true,\"photon\":true,\"channel\":\"PREVIEW\",\"catalog\":\"labuser11058730_1754017152\",\"serverless\":true,\"root_path\":\"/Workspace/Users/labuser11058730_1754017152@vocareum.com/build-data-pipelines-with-lakeflow-declarative-pipelines-3.0.2/Build Data Pipelines with Lakeflow Declarative Pipelines/5 - Deploying a Pipeline to Production Project\"}}}"
        ],
        [
         "1b0fd310-6ea0-11f0-b947-8acb90f2812d",
         "user_action",
         "{\"user_action\":{\"action\":\"EDIT\",\"user_name\":\"labuser11058730_1754017152@vocareum.com\",\"user_id\":70949121692270,\"request\":{\"edit_request\":{\"id\":\"6ce1fdf2-b7dd-4ed3-844e-1d170666cadb\",\"pipeline_type\":\"WORKSPACE\",\"name\":\"5 - Deploying a Pipeline to Production Project - labuser11058730_1754017152\",\"configuration\":{\"source\":\"/Volumes/dbacademy/ops/labuser11058730_1754017152@vocareum_com\"},\"libraries\":[{\"glob\":{\"include\":\"/Workspace/Users/labuser11058730_1754017152@vocareum.com/build-data-pipelines-with-lakeflow-declarative-pipelines-3.0.2/Build Data Pipelines with Lakeflow Declarative Pipelines/5 - Deploying a Pipeline to Production Project/orders/**\"}},{\"glob\":{\"include\":\"/Workspace/Users/labuser11058730_1754017152@vocareum.com/build-data-pipelines-with-lakeflow-declarative-pipelines-3.0.2/Build Data Pipelines with Lakeflow Declarative Pipelines/5 - Deploying a Pipeline to Production Project/status/**\"}}],\"schema\":\"default\",\"continuous\":false,\"development\":false,\"photon\":true,\"channel\":\"PREVIEW\",\"catalog\":\"labuser11058730_1754017152\",\"serverless\":true,\"event_log\":{\"name\":\"event_log_demo_5\",\"schema\":\"default\",\"catalog\":\"labuser11058730_1754017152\"},\"root_path\":\"/Workspace/Users/labuser11058730_1754017152@vocareum.com/build-data-pipelines-with-lakeflow-declarative-pipelines-3.0.2/Build Data Pipelines with Lakeflow Declarative Pipelines/5 - Deploying a Pipeline to Production Project\"}}}}",
         null,
         "{\"action\":\"EDIT\",\"user_name\":\"labuser11058730_1754017152@vocareum.com\",\"user_id\":70949121692270,\"request\":{\"edit_request\":{\"id\":\"6ce1fdf2-b7dd-4ed3-844e-1d170666cadb\",\"pipeline_type\":\"WORKSPACE\",\"name\":\"5 - Deploying a Pipeline to Production Project - labuser11058730_1754017152\",\"configuration\":{\"source\":\"/Volumes/dbacademy/ops/labuser11058730_1754017152@vocareum_com\"},\"libraries\":[{\"glob\":{\"include\":\"/Workspace/Users/labuser11058730_1754017152@vocareum.com/build-data-pipelines-with-lakeflow-declarative-pipelines-3.0.2/Build Data Pipelines with Lakeflow Declarative Pipelines/5 - Deploying a Pipeline to Production Project/orders/**\"}},{\"glob\":{\"include\":\"/Workspace/Users/labuser11058730_1754017152@vocareum.com/build-data-pipelines-with-lakeflow-declarative-pipelines-3.0.2/Build Data Pipelines with Lakeflow Declarative Pipelines/5 - Deploying a Pipeline to Production Project/status/**\"}}],\"schema\":\"default\",\"continuous\":false,\"development\":false,\"photon\":true,\"channel\":\"PREVIEW\",\"catalog\":\"labuser11058730_1754017152\",\"serverless\":true,\"event_log\":{\"name\":\"event_log_demo_5\",\"schema\":\"default\",\"catalog\":\"labuser11058730_1754017152\"},\"root_path\":\"/Workspace/Users/labuser11058730_1754017152@vocareum.com/build-data-pipelines-with-lakeflow-declarative-pipelines-3.0.2/Build Data Pipelines with Lakeflow Declarative Pipelines/5 - Deploying a Pipeline to Production Project\"}}}"
        ],
        [
         "2db4c610-6ea0-11f0-9ef4-eac102c20cdd",
         "user_action",
         "{\"user_action\":{\"action\":\"START\",\"user_name\":\"labuser11058730_1754017152@vocareum.com\",\"user_id\":70949121692270,\"request\":{\"start_request\":{\"full_refresh\":false,\"validate_only\":false,\"explore_only\":false,\"development\":true}}}}",
         null,
         "{\"action\":\"START\",\"user_name\":\"labuser11058730_1754017152@vocareum.com\",\"user_id\":70949121692270,\"request\":{\"start_request\":{\"full_refresh\":false,\"validate_only\":false,\"explore_only\":false,\"development\":true}}}"
        ],
        [
         "2dbc4020-6ea0-11f0-9ef4-eac102c20cdd",
         "create_update",
         "{\"create_update\":{\"cause\":\"USER_ACTION\",\"config\":{\"id\":\"6ce1fdf2-b7dd-4ed3-844e-1d170666cadb\",\"pipeline_type\":\"WORKSPACE\",\"name\":\"5 - Deploying a Pipeline to Production Project - labuser11058730_1754017152\",\"configuration\":{\"pipelines.acfsProcessorVersion\":\"1\",\"pipelines.allowClearingTableComment\":\"true\",\"pipelines.allowPrivateToNonPrivateAltersWithCustomSchemaPreview\":\"true\",\"pipelines.alterExistingMvSt\":\"true\",\"pipelines.alterViewsInHMS.enabled\":\"true\",\"pipelines.alterableMetadataBehavior\":\"preserve\",\"pipelines.analysis.allowSqlFlowWithConfParallelResolution\":\"true\",\"pipelines.analysis.maybeResolveFlowsParallely\":\"true\",\"pipelines.analysis.maybeResolvePureSQLPipelinesParallely\":\"true\",\"pipelines.analysis.pruneUnresolvedFromJsonDependents\":\"true\",\"pipelines.applyChanges.Type2IgnoreNullPersistentStateChange\":\"false\",\"pipelines.applyChanges.applyChangesMultiflowIgnoreNullOffFix.enabled\":\"false\",\"pipelines.applyChanges.applyChangesMultiflowLatestDeleteVersion.enabled\":\"false\",\"pipelines.applyChanges.dynamicFilePruning.enabled\":\"true\",\"pipelines.applyChanges.dynamicPartitionPruning.enabled\":\"true\",\"pipelines.applyChanges.viewMetrics.enabled\":\"true\",\"pipelines.applyChangesFromSnapshot.analyzeLambdaSourceWithoutPipelineContext\":\"true\",\"pipelines.applyChangesFromSnapshot.castSnapshotToTargetSchema\":\"true\",\"pipelines.applyChangesFromSnapshot.stateStoreFormat\":\"proto\",\"pipelines.attachEnzymeExpectationsUsingTransformDF\":\"true\",\"pipelines.attachExpectationWithFunctionResult\":\"true\",\"pipelines.attachExpectationsUsingTransformDF\":\"true\",\"pipelines.autoscaling.maxDecommissioningTimeoutInSecondsDefaultValue\":\"14400\",\"pipelines.blockDuplicatedUseOfFromJsonSchemaLocationKey\":\"true\",\"pipelines.cdc.enableCdcSnapshotProgress\":\"true\",\"pipelines.cdc.enableGatewayErrorPropagation\":\"true\",\"pipelines.cdc.skipCdcSnapshotFlowAfterCommitted\":\"true\",\"pipelines.cdc.stagingDataGCDryRunMode\":\"false\",\"pipelines.cdc.stagingDataRetentionDays\":\"25\",\"pipelines.cdcApplier.enableCommunicationVersioning\":\"true\",\"pipelines.cdcApplier.useUpstreamCommunicationLibrary\":\"true\",\"pipelines.cdcApplierEnableColumnUOID\":\"false\",\"pipelines.cdcApplierStagingTablePartitionedByDate\":\"true\",\"pipelines.changeDataFeed.enabled\":\"true\",\"pipelines.checkImplicitDeletionReason\":\"true\",\"pipelines.cleanupOrphanedBackingTables\":\"true\",\"pipelines.copyFlowFuncResultWithDecomposition\":\"true\",\"pipelines.createMvStEntryBeforeBackingTable\":\"true\",\"pipelines.dataPlaneStructuredLogging.enabled\":\"true\",\"pipelines.decomposition.enableOnSnapshotFlow\":\"true\",\"pipelines.decomposition.enabled\":\"true\",\"pipelines.disableClearingIncrementalOnVirtualize\":\"true\",\"pipelines.disablePredictiveOptimization\":\"true\",\"pipelines.disallowFlowExecutionRetryForSchemaChangeExceptionsInTriggeredMode\":\"true\",\"pipelines.disallowTableMutationsDuringMaintenance\":\"true\",\"pipelines.dltDebugger.enableNodeStatusReporter\":\"true\",\"pipelines.dropAndRecreateBadBackingTables\":\"true\",\"pipelines.dropInactiveTables\":\"false\",\"pipelines.earlyStagingTableCleanupEnabled\":\"true\",\"pipelines.emitDeprecationEventForCustomSchemaUsage\":\"true\",\"pipelines.emitSinkDefinition\":\"true\",\"pipelines.enableApplyChangeSCD1Materialization\":\"false\",\"pipelines.enableApplyChangesLineage.enabled\":\"true\",\"pipelines.enableBatchTokenOnUpdateId\":\"false\",\"pipelines.enableBlockListReconciliationQueryDefinition\":\"true\",\"pipelines.enableCoalesceApplyChangesType2Duplicates\":\"true\",\"pipelines.enableConduitUCConnectionTypeValidation\":\"false\",\"pipelines.enableContinuousPipelineTriggerValidation\":\"false\",\"pipelines.enableCyclicDependencyDetection\":\"true\",\"pipelines.enableDataflowV2ForFromJsonSchemaReset\":\"true\",\"pipelines.enableDbrFlowAnalysisContext\":\"false\",\"pipelines.enableDeltaReadClone\":\"false\",\"pipelines.enableEventLogPicker\":\"true\",\"pipelines.enableEventLogTableIdWrites\":\"true\",\"pipelines.enableExistingEventLogRetrievalById\":\"true\",\"pipelines.enableFromJsonBatchSchemaEvolution\":\"true\",\"pipelines.enableHistoryIntegrationForContinuous\":\"true\",\"pipelines.enableLiveSchemaUsageValidation\":\"true\",\"pipelines.enableNewFlowTypes\":\"true\",\"pipelines.enableNonVirtualNodeInNodeProcessorUpdate\":\"false\",\"pipelines.enablePersistedViewSyntaxForPipeline\":\"true\",\"pipelines.enablePredictiveOptimizationRollout\":\"true\",\"pipelines.enableRunningAddRowIdAsEnabler\":\"true\",\"pipelines.enableSharepointConnectorV2\":\"false\",\"pipelines.enableStreamQueryListenerMetricsInEventlog\":\"false\",\"pipelines.enableSysPathSetupUsingCmdCtx\":\"true\",\"pipelines.enableUpdateWarmPoolManager\":\"true\",\"pipelines.enableViewFirstClassRefactor\":\"true\",\"pipelines.enzyme.autoCorrectionForLongRunningQueries\":\"true\",\"pipelines.enzyme.autoCorrectionForLongRunningQueries.dryRun\":\"true\",\"pipelines.enzyme.changesetRatioUpperBound\":\"2.1\",\"pipelines.enzyme.checkComposableAggOperatorNestingInDecomposer\":\"true\",\"pipelines.enzyme.classic.action\":\"Block\",\"pipelines.enzyme.composableAggKeyOperatorNestingThreshold\":\"4\",\"pipelines.enzyme.decomposeAggExpr.enabled\":\"true\",\"pipelines.enzyme.defaultBroadcastThreshold\":\"128MB\",\"pipelines.enzyme.disableFingerprintNormalizerForEnzymeBasic\":\"true\",\"pipelines.enzyme.enableAggOverJoin\":\"true\",\"pipelines.enzyme.enableAggOverJoinFallback\":\"true\",\"pipelines.enzyme.enableBroadcastableChangesetSizeThreshold\":\"true\",\"pipelines.enzyme.enableComposableGenericAgg\":\"true\",\"pipelines.enzyme.enableExplicitDFP\":\"false\",\"pipelines.enzyme.enableExplicitDPPScheduling\":\"false\",\"pipelines.enzyme.enableJoinComposition\":\"true\",\"pipelines.enzyme.enableLeftEquiJoinOptimization\":\"false\",\"pipelines.enzyme.enableRowId\":\"true\",\"pipelines.enzyme.enableSPUJFullOuterJoinIncrementalization\":\"true\",\"pipelines.enzyme.enableSPUJIncrementalization\":\"true\",\"pipelines.enzyme.enableSPUJInnerJoinIncrementalization\":\"true\",\"pipelines.enzyme.enableSPUJLeftAntiJoinIncrementalization\":\"true\",\"pipelines.enzyme.enableSPUJLeftJoinIncrementalization\":\"true\",\"pipelines.enzyme.enableSPUJRightJoinIncrementalization\":\"true\",\"pipelines.enzyme.enableSmallTableSizeThreshold\":\"true\",\"pipelines.enzyme.enableTableChangeSizeV3\":\"true\",\"pipelines.enzyme.enableWindowBlockBasedIncChecker\":\"true\",\"pipelines.enzyme.enableWindowComposition\":\"true\",\"pipelines.enzyme.enableWindowFunctionWithDiffPartitioning\":\"true\",\"pipelines.enzyme.enabled\":\"true\",\"pipelines.enzyme.enzymeEnableTableChangeSizeV2\":\"true\",\"pipelines.enzyme.expectation.enable\":\"true\",\"pipelines.enzyme.expectation.fallbackToClassic\":\"true\",\"pipelines.enzyme.expectation.fallbackToClassicPerFlow\":\"true\",\"pipelines.enzyme.expectation.useSimpleWrite\":\"true\",\"pipelines.enzyme.explicitlyScheduleBloomFilters\":\"false\",\"pipelines.enzyme.fileActionPruningInCdf.enabled\":\"true\",\"pipelines.enzyme.forceTrivialIncrementalFlows\":\"true\",\"pipelines.enzyme.genericAggregationTechnique.enabled\":\"true\",\"pipelines.enzyme.historyBasedCosting.enabled\":\"true\",\"pipelines.enzyme.logDetailedChangeInformation\":\"true\",\"pipelines.enzyme.makeCollectListCollectSetDeterministic.enabled\":\"true\",\"pipelines.enzyme.mode\":\"Advanced\",\"pipelines.enzyme.overrideMaxBloomSizeBits\":\"-1\",\"pipelines.enzyme.overrideMinBloomSizeBits\":\"-1\",\"pipelines.enzyme.prePostNormalizationBatches.enabled\":\"true\",\"pipelines.enzyme.removeTopLevelSort.enabled\":\"true\",\"pipelines.enzyme.spujTableSizeThresholdForNonJoin\":\"1000TB\",\"pipelines.enzyme.spujoinTableSizeThreshold\":\"1000TB\",\"pipelines.enzyme.temporalFilters.enabled\":\"true\",\"pipelines.enzyme.transformFirstLastAnyValueToMin.enabled\":\"true\",\"pipelines.enzyme.useInExpressionForPartitionOverwrite\":\"true\",\"pipelines.enzyme.windowFunctionTechniqueEnabled.enabled\":\"true\",\"pipelines.enzyme.writeHistoryStats.enabled\":\"true\",\"pipelines.eventLevelDataFrameCollectUsage\":\"warn\",\"pipelines.eventLevelDataFrameSaveAsTableUsage\":\"warn\",\"pipelines.eventLevelDataFrameSaveUsage\":\"warn\",\"pipelines.eventLevelDataStreamWriterStartUsage\":\"warn\",\"pipelines.eventLevelPivotUsage\":\"warn\",\"pipelines.eventPlatformMetricsReporterEnabled\":\"true\",\"pipelines.events.enableEventTimeMetric\":\"true\",\"pipelines.events.enableSourceCodePosition\":\"true\",\"pipelines.exposeExecutorCountFromStateManager\":\"false\",\"pipelines.failPipelineForExpectationWithACFS\":\"true\",\"pipelines.forceRecomputeMVIfPartitioningChanged\":\"true\",\"pipelines.fromJson.enforceRootLevelStructTypeForInferredSchema\":\"true\",\"pipelines.fullyQualifyExternalSinkIdentifiers\":\"true\",\"pipelines.fullyQualifyTableReferencesInForeignKeyConstraintsInDPM\":\"true\",\"pipelines.gateway.extractAsciiIrTypesAsUnicodeStream\":\"false\",\"pipelines.gateway.realtime.extractor.sqlServerUseCommandIdForCDCTables\":\"true\",\"pipelines.gateway.realtime.extractor.sqlServerVerifyCommandIdExistsForCDCTables\":\"false\",\"pipelines.gateway.runOptimizedFetchSchema\":\"false\",\"pipelines.gateway.tableSchemasDirectUpload\":\"false\",\"pipelines.gateway.useNewReplicationReconfigurationFlow\":\"false\",\"pipelines.gateway.useUpstreamCommunicationLibrary\":\"false\",\"pipelines.gatewaySendMessagesToEventLog\":\"true\",\"pipelines.ignoreDropInactiveTablesForWorkspacePipelines\":\"false\",\"pipelines.ignoredSuffixForSourceIncludes\":\"__pycache__/,.egg-info/,.txt,.md,.csv,.json\",\"pipelines.ingestionPipelineConnectorFetchProgressEventEnabled\":\"true\",\"pipelines.ingestionPipelineSalesforceApiVersion\":\"v63.0\",\"pipelines.ingestionPipelineServiceNowEmptyCursorFetchEnabled\":\"true\",\"pipelines.ingestionPipelinesTempViewNameV2\":\"false\",\"pipelines.initResourceAllocationBeforeEventLog\":\"true\",\"pipelines.instrumentLoadInSparkReader\":\"true\",\"pipelines.lazyInitializeUpdateWarmPoolManager\":\"true\",\"pipelines.lineageEmission.enabled\":\"true\",\"pipelines.materialization.writeResetSchemaString\":\"true\",\"pipelines.materializedView.dropOtherViewDependencies\":\"true\",\"pipelines.maxDatasetsPerPipeline\":\"1000\",\"pipelines.maximumSourceFileNumberInLibraries\":\"300\",\"pipelines.mergeExternalMetadataIntoTablesBeforeDecomp\":\"true\",\"pipelines.mesa.enableCatalogTableCLTCValidations\":\"true\",\"pipelines.mesa.enableGetCLTCFromCatalogTable\":\"true\",\"pipelines.mesa.updateUCPipelineWithTopLevelViewUpdate\":\"true\",\"pipelines.metrics.clusterResources.enabled\":\"true\",\"pipelines.metrics.flowProgressAdditionalBacklogMetricsEnabled\":\"true\",\"pipelines.metrics.flowProgressSourceLevelMetricsEnabled\":\"true\",\"pipelines.metrics.flowTimeReporter.enabled\":\"true\",\"pipelines.multiflowExpectations.enabled\":\"false\",\"pipelines.mv.partitionUpdate.enabled\":\"true\",\"pipelines.numPythonREPLsToWarmPerUpdate\":\"1\",\"pipelines.operationProgress.listingMetrics.enabled\":\"false\",\"pipelines.parallelNormalizationBeforeDecomposition\":\"true\",\"pipelines.parallelPythonReplInitialization\":\"true\",\"pipelines.parallelUCContextInitialization\":\"true\",\"pipelines.parallelizeCreateMatzPaths\":\"true\",\"pipelines.parallelizeMaterializeTables\":\"true\",\"pipelines.partitioning.clusterBy.enabled\":\"true\",\"pipelines.partitioning.clusterByAuto.enabled\":\"true\",\"pipelines.pipelineEnvironment.enabled\":\"true\",\"pipelines.preloadDeltaAndUCCacheForUpdate\":\"true\",\"pipelines.preserveColumnMasksField\":\"true\",\"pipelines.preserveRowFilterField\":\"true\",\"pipelines.preview.multiChangeFlowInCurrent.enable\":\"true\",\"pipelines.publishPrivateTableInOldArchitecture\":\"true\",\"pipelines.reAnalyzeVirtualFlowsAfterMaterialization\":\"true\",\"pipelines.rememberUCObjectIdsAcrossRuns\":\"true\",\"pipelines.removeAllGenerationExpressionKey\":\"true\",\"pipelines.removeGeneratedColumnMetadataFromViewSchema\":\"true\",\"pipelines.removeVirtualGraphUsageOnGraphDefns\":\"true\",\"pipelines.replaceRealInputReadsWithVirtualBeforeDecomposer\":\"true\",\"pipelines.respectAlterableMetadataBehavior\":\"true\",\"pipelines.scalaReplWarmPool.enabled\":\"true\",\"pipelines.scd1ApplyChangesUseAllFlowsSchema.enabled\":\"false\",\"pipelines.schemaInferenceForVirtualBackingTables.enabled\":\"true\",\"pipelines.schemaStorageLocations.enabled\":\"true\",\"pipelines.sendOneGraphToTableManager\":\"true\",\"pipelines.setMigrationHints\":\"true\",\"pipelines.setParentTableIdForBackingTables\":\"true\",\"pipelines.shouldUseOCCToUpdateTopLevelEntry\":\"true\",\"pipelines.suggestDropForInactivePrivateTable\":\"true\",\"pipelines.tableManager.failOnCycleOfForeignKeyConstraints\":\"true\",\"pipelines.tableManager.orderSettingUpTablesByForeignKeyConstraints\":\"true\",\"pipelines.throwOnUnexpectedMaterializationCreation\":\"true\",\"pipelines.topologicalOrderForStreamingFlowsUponFullRefresh.enabled\":\"true\",\"pipelines.undropPreviouslyExistingTables\":\"true\",\"pipelines.updateSnapshot.enabled\":\"true\",\"pipelines.updateSnapshot.incrementalEventSummaries.enabled\":\"true\",\"pipelines.updateSnapshot.incrementalTimeSeries.enabled\":\"true\",\"pipelines.updateSnapshot.timeSeriesSummaryFlowMetricsEnabled\":\"true\",\"pipelines.updateSnapshot.timeSeriesSummaryGeneratorEnabled\":\"true\",\"pipelines.updateSnapshot.timeSeriesSummarySourceMetricsEnabled\":\"true\",\"pipelines.updateTableCacheAndInactiveStatusEarly\":\"true\",\"pipelines.updateWarmPoolManagerSize\":\"1\",\"pipelines.useCacheForMVPlanning.enabled\":\"true\",\"pipelines.useConfigDefaultsInQueryFingerprint\":\"true\",\"pipelines.useDataflowV2\":\"true\",\"pipelines.useGraphCachePersistence\":\"true\",\"pipelines.useNewOCCPrimitive\":\"true\",\"pipelines.useNewReadInputApi\":\"true\",\"pipelines.useTempDirForEventHookManagerCheckpoints\":\"false\",\"pipelines.useTempDirForEventHookManagerCheckpointsInHms\":\"true\",\"pipelines.useUCBackdoorToDropColumnMasks\":\"true\",\"pipelines.useUCCacheAcrossQueries\":\"true\",\"pipelines.useUCMetadataCache\":\"true\",\"pipelines.useUCMetadataCacheDuringUpdate\":\"true\",\"pipelines.useUpdateWarmPoolManagerForAllUpdates\":\"true\",\"pipelines.useUuidPrefixForExpectations\":\"true\",\"pipelines.useViewsInReconciliationFlowQueries\":\"true\",\"pipelines.verticalAutoscaling.pipelineEnabled\":\"true\",\"source\":\"/Volumes/dbacademy/ops/labuser11058730_1754017152@vocareum_com\",\"spark.databricks.cloudFiles.recordEventChanges\":\"false\",\"spark.databricks.dataLineage.mergeIntoV2Enabled\":\"false\",\"spark.databricks.photon.scan.minBatchSize\":\"256\",\"spark.databricks.sql.rowColumnAccess.mvst.enabled\":\"true\",\"spark.databricks.sqlservice.history.liveQueryProfile.enabled\":\"true\",\"spark.databricks.sqlservice.history.multiBatchProfileEnabled\":\"true\",\"spark.databricks.streaming.dynamicAdmissionControl.cloudFiles.enabled\":\"true\",\"spark.databricks.unityCatalog.glue.federation.enabled\":\"true\",\"spark.databricks.unityCatalog.hms.federation.enableDbfsSupport\":\"true\",\"spark.databricks.unityCatalog.hms.federation.enabled\":\"true\",\"spark.databricks.unityCatalog.lakehouseFederation.writes.enabled\":\"true\",\"spark.sql.optimizer.optimizeCsvJsonExprs.useSchemaField\":\"false\",\"pipelines.predictiveOptimization.enabled\":\"true\",\"pipelines.maintenance.disabled\":\"true\",\"pipelines.maxFlowRetryAttempts\":\"0\"},\"libraries\":[{\"glob\":{\"include\":\"/Workspace/Users/labuser11058730_1754017152@vocareum.com/build-data-pipelines-with-lakeflow-declarative-pipelines-3.0.2/Build Data Pipelines with Lakeflow Declarative Pipelines/5 - Deploying a Pipeline to Production Project/orders/**\"}},{\"glob\":{\"include\":\"/Workspace/Users/labuser11058730_1754017152@vocareum.com/build-data-pipelines-with-lakeflow-declarative-pipelines-3.0.2/Build Data Pipelines with Lakeflow Declarative Pipelines/5 - Deploying a Pipeline to Production Project/status/**\"}}],\"schema\":\"default\",\"continuous\":false,\"development\":false,\"photon\":true,\"edition\":\"ADVANCED\",\"channel\":\"PREVIEW\",\"catalog\":\"labuser11058730_1754017152\",\"serverless\":true,\"event_log\":{\"name\":\"event_log_demo_5\",\"schema\":\"default\",\"catalog\":\"labuser11058730_1754017152\"},\"root_path\":\"/Workspace/Users/labuser11058730_1754017152@vocareum.com/build-data-pipelines-with-lakeflow-declarative-pipelines-3.0.2/Build Data Pipelines with Lakeflow Declarative Pipelines/5 - Deploying a Pipeline to Production Project\"},\"failed_attempts\":0,\"full_refresh\":false,\"run_as_user_id\":70949121692270,\"runtime_version\":{\"dbr_version\":\"16.4\",\"universe_commit\":\"a34e2cdbeb8f369536e943c361d892db7d6f590b\",\"runtime_commit\":\"c72685e185325c58372a549382c10d183f3b626c\",\"channel\":\"PREVIEW\",\"image_key\":\"dlt:16.4.4-delta-pipelines-photon-dlt-release-dp-nightly-2025.29.thu.05.27-rc0-commit-e1fadf8-image-dc141cf\"},\"validate_only\":false,\"development\":true,\"explore_only\":false}}",
         null,
         null
        ],
        [
         "2e305eb1-6ea0-11f0-862f-dea3e0feb822",
         "update_progress",
         "{\"update_progress\":{\"state\":\"WAITING_FOR_RESOURCES\"}}",
         null,
         null
        ],
        [
         "432e5ce0-6ea0-11f0-a268-aa11d67e9c2a",
         "update_progress",
         "{\"update_progress\":{\"state\":\"SETTING_UP_TABLES\"}}",
         null,
         null
        ],
        [
         "43d09050-6ea0-11f0-a268-aa11d67e9c2a",
         "dataset_life_cycle",
         "{\"dataset_life_cycle\":{\"state\":\"CREATED\",\"dataset_type\":\"STREAMING_TABLE\"}}",
         null,
         null
        ],
        [
         "43f110a0-6ea0-11f0-a268-aa11d67e9c2a",
         "dataset_life_cycle",
         "{\"dataset_life_cycle\":{\"state\":\"CREATED\",\"dataset_type\":\"STREAMING_TABLE\"}}",
         null,
         null
        ],
        [
         "441adfc0-6ea0-11f0-a268-aa11d67e9c2a",
         "dataset_life_cycle",
         "{\"dataset_life_cycle\":{\"state\":\"CREATED\",\"dataset_type\":\"STREAMING_TABLE\"}}",
         null,
         null
        ],
        [
         "444e99f0-6ea0-11f0-a268-aa11d67e9c2a",
         "dataset_life_cycle",
         "{\"dataset_life_cycle\":{\"state\":\"CREATED\",\"dataset_type\":\"STREAMING_TABLE\"}}",
         null,
         null
        ],
        [
         "494e0d00-6ea0-11f0-a268-aa11d67e9c2a",
         "flow_definition",
         "{\"flow_definition\":{\"output_dataset\":\"labuser11058730_1754017152.1_bronze_db.orders_bronze_demo5\",\"explain_text\":\"'Project [*, 'current_timestamp() AS processing_time#10469, '_metadata.file_name AS source_file#10470]\",\"schema_json\":\"{\\\"type\\\":\\\"struct\\\",\\\"fields\\\":[{\\\"name\\\":\\\"customer_id\\\",\\\"type\\\":\\\"long\\\",\\\"nullable\\\":true,\\\"metadata\\\":{}},{\\\"name\\\":\\\"notifications\\\",\\\"type\\\":\\\"string\\\",\\\"nullable\\\":true,\\\"metadata\\\":{}},{\\\"name\\\":\\\"order_id\\\",\\\"type\\\":\\\"long\\\",\\\"nullable\\\":true,\\\"metadata\\\":{}},{\\\"name\\\":\\\"order_timestamp\\\",\\\"type\\\":\\\"long\\\",\\\"nullable\\\":true,\\\"metadata\\\":{}},{\\\"name\\\":\\\"_rescued_data\\\",\\\"type\\\":\\\"string\\\",\\\"nullable\\\":true,\\\"metadata\\\":{}},{\\\"name\\\":\\\"processing_time\\\",\\\"type\\\":\\\"timestamp\\\",\\\"nullable\\\":false,\\\"metadata\\\":{}},{\\\"name\\\":\\\"source_file\\\",\\\"type\\\":\\\"string\\\",\\\"nullable\\\":false,\\\"metadata\\\":{}}]}\",\"schema\":[{\"name\":\"customer_id\",\"path\":[\"customer_id\"],\"data_type\":\"LONG\"},{\"name\":\"notifications\",\"path\":[\"notifications\"],\"data_type\":\"STRING\"},{\"name\":\"order_id\",\"path\":[\"order_id\"],\"data_type\":\"LONG\"},{\"name\":\"order_timestamp\",\"path\":[\"order_timestamp\"],\"data_type\":\"LONG\"},{\"name\":\"_rescued_data\",\"path\":[\"_rescued_data\"],\"data_type\":\"STRING\"},{\"name\":\"processing_time\",\"path\":[\"processing_time\"],\"data_type\":\"TIMESTAMP\"},{\"name\":\"source_file\",\"path\":[\"source_file\"],\"data_type\":\"STRING\"}],\"flow_type\":\"APPEND\",\"comment\":\"Ingest order JSON files from cloud storage\",\"language\":\"SQL\",\"notebook_path\":\"/Workspace/Users/labuser11058730_1754017152@vocareum.com/build-data-pipelines-with-lakeflow-declarative-pipelines-3.0.2/Build Data Pipelines with Lakeflow Declarative Pipelines/5 - Deploying a Pipeline to Production Project/orders/orders_pipeline.sql\",\"once\":false}}",
         null,
         null
        ],
        [
         "49544e90-6ea0-11f0-a268-aa11d67e9c2a",
         "flow_definition",
         "{\"flow_definition\":{\"output_dataset\":\"labuser11058730_1754017152.1_bronze_db.status_bronze_demo5\",\"explain_text\":\"'Project [*, 'current_timestamp() AS processing_time#10459, '_metadata.file_name AS source_file#10460]\",\"schema_json\":\"{\\\"type\\\":\\\"struct\\\",\\\"fields\\\":[{\\\"name\\\":\\\"order_id\\\",\\\"type\\\":\\\"long\\\",\\\"nullable\\\":true,\\\"metadata\\\":{}},{\\\"name\\\":\\\"order_status\\\",\\\"type\\\":\\\"string\\\",\\\"nullable\\\":true,\\\"metadata\\\":{}},{\\\"name\\\":\\\"status_timestamp\\\",\\\"type\\\":\\\"long\\\",\\\"nullable\\\":true,\\\"metadata\\\":{}},{\\\"name\\\":\\\"_rescued_data\\\",\\\"type\\\":\\\"string\\\",\\\"nullable\\\":true,\\\"metadata\\\":{}},{\\\"name\\\":\\\"processing_time\\\",\\\"type\\\":\\\"timestamp\\\",\\\"nullable\\\":false,\\\"metadata\\\":{}},{\\\"name\\\":\\\"source_file\\\",\\\"type\\\":\\\"string\\\",\\\"nullable\\\":false,\\\"metadata\\\":{}}]}\",\"schema\":[{\"name\":\"order_id\",\"path\":[\"order_id\"],\"data_type\":\"LONG\"},{\"name\":\"order_status\",\"path\":[\"order_status\"],\"data_type\":\"STRING\"},{\"name\":\"status_timestamp\",\"path\":[\"status_timestamp\"],\"data_type\":\"LONG\"},{\"name\":\"_rescued_data\",\"path\":[\"_rescued_data\"],\"data_type\":\"STRING\"},{\"name\":\"processing_time\",\"path\":[\"processing_time\"],\"data_type\":\"TIMESTAMP\"},{\"name\":\"source_file\",\"path\":[\"source_file\"],\"data_type\":\"STRING\"}],\"flow_type\":\"APPEND\",\"comment\":\"Ingest raw JSON order status files from cloud storage\",\"language\":\"SQL\",\"notebook_path\":\"/Workspace/Users/labuser11058730_1754017152@vocareum.com/build-data-pipelines-with-lakeflow-declarative-pipelines-3.0.2/Build Data Pipelines with Lakeflow Declarative Pipelines/5 - Deploying a Pipeline to Production Project/status/status_pipeline.sql\",\"once\":false}}",
         null,
         null
        ],
        [
         "4954c3c0-6ea0-11f0-a268-aa11d67e9c2a",
         "flow_definition",
         "{\"flow_definition\":{\"input_datasets\":[\"labuser11058730_1754017152.1_bronze_db.status_bronze_demo5\"],\"output_dataset\":\"labuser11058730_1754017152.2_silver_db.status_silver_demo5\",\"explain_text\":\"'Project ['order_id, 'order_status, 'timestamp('status_timestamp) AS order_status_timestamp#10462]\",\"schema_json\":\"{\\\"type\\\":\\\"struct\\\",\\\"fields\\\":[{\\\"name\\\":\\\"order_id\\\",\\\"type\\\":\\\"long\\\",\\\"nullable\\\":true,\\\"metadata\\\":{}},{\\\"name\\\":\\\"order_status\\\",\\\"type\\\":\\\"string\\\",\\\"nullable\\\":true,\\\"metadata\\\":{}},{\\\"name\\\":\\\"order_status_timestamp\\\",\\\"type\\\":\\\"timestamp\\\",\\\"nullable\\\":true,\\\"metadata\\\":{}}]}\",\"schema\":[{\"name\":\"order_id\",\"path\":[\"order_id\"],\"data_type\":\"LONG\"},{\"name\":\"order_status\",\"path\":[\"order_status\"],\"data_type\":\"STRING\"},{\"name\":\"order_status_timestamp\",\"path\":[\"order_status_timestamp\"],\"data_type\":\"TIMESTAMP\"}],\"flow_type\":\"APPEND\",\"comment\":\"Order with each status and timestamp\",\"language\":\"SQL\",\"notebook_path\":\"/Workspace/Users/labuser11058730_1754017152@vocareum.com/build-data-pipelines-with-lakeflow-declarative-pipelines-3.0.2/Build Data Pipelines with Lakeflow Declarative Pipelines/5 - Deploying a Pipeline to Production Project/status/status_pipeline.sql\",\"once\":false}}",
         null,
         null
        ],
        [
         "495511e0-6ea0-11f0-a268-aa11d67e9c2a",
         "flow_definition",
         "{\"flow_definition\":{\"input_datasets\":[\"labuser11058730_1754017152.1_bronze_db.orders_bronze_demo5\"],\"output_dataset\":\"labuser11058730_1754017152.2_silver_db.orders_silver_demo5\",\"explain_text\":\"'Project ['order_id, 'timestamp('order_timestamp) AS order_timestamp#10472, 'customer_id, 'notifications]\",\"schema_json\":\"{\\\"type\\\":\\\"struct\\\",\\\"fields\\\":[{\\\"name\\\":\\\"order_id\\\",\\\"type\\\":\\\"long\\\",\\\"nullable\\\":true,\\\"metadata\\\":{}},{\\\"name\\\":\\\"order_timestamp\\\",\\\"type\\\":\\\"timestamp\\\",\\\"nullable\\\":true,\\\"metadata\\\":{}},{\\\"name\\\":\\\"customer_id\\\",\\\"type\\\":\\\"long\\\",\\\"nullable\\\":true,\\\"metadata\\\":{}},{\\\"name\\\":\\\"notifications\\\",\\\"type\\\":\\\"string\\\",\\\"nullable\\\":true,\\\"metadata\\\":{}}]}\",\"schema\":[{\"name\":\"order_id\",\"path\":[\"order_id\"],\"data_type\":\"LONG\"},{\"name\":\"order_timestamp\",\"path\":[\"order_timestamp\"],\"data_type\":\"TIMESTAMP\"},{\"name\":\"customer_id\",\"path\":[\"customer_id\"],\"data_type\":\"LONG\"},{\"name\":\"notifications\",\"path\":[\"notifications\"],\"data_type\":\"STRING\"}],\"flow_type\":\"APPEND\",\"comment\":\"Silver clean orders table\",\"language\":\"SQL\",\"notebook_path\":\"/Workspace/Users/labuser11058730_1754017152@vocareum.com/build-data-pipelines-with-lakeflow-declarative-pipelines-3.0.2/Build Data Pipelines with Lakeflow Declarative Pipelines/5 - Deploying a Pipeline to Production Project/orders/orders_pipeline.sql\",\"once\":false}}",
         null,
         null
        ],
        [
         "4955ae20-6ea0-11f0-a268-aa11d67e9c2a",
         "flow_definition",
         "{\"flow_definition\":{\"input_datasets\":[\"labuser11058730_1754017152.2_silver_db.orders_silver_demo5\"],\"output_dataset\":\"labuser11058730_1754017152.3_gold_db.gold_orders_by_date_demo5\",\"explain_text\":\"'Aggregate ['date('order_timestamp)], ['date('order_timestamp) AS order_date#10474, 'count(1) AS total_daily_orders#10475]\",\"schema_json\":\"{\\\"type\\\":\\\"struct\\\",\\\"fields\\\":[{\\\"name\\\":\\\"order_date\\\",\\\"type\\\":\\\"date\\\",\\\"nullable\\\":true,\\\"metadata\\\":{}},{\\\"name\\\":\\\"total_daily_orders\\\",\\\"type\\\":\\\"long\\\",\\\"nullable\\\":false,\\\"metadata\\\":{}}]}\",\"schema\":[{\"name\":\"order_date\",\"path\":[\"order_date\"],\"data_type\":\"DATE\"},{\"name\":\"total_daily_orders\",\"path\":[\"total_daily_orders\"],\"data_type\":\"LONG\"}],\"flow_type\":\"MATERIALIZED_VIEW\",\"comment\":\"Aggregate gold data for downstream analysis\",\"language\":\"SQL\",\"notebook_path\":\"/Workspace/Users/labuser11058730_1754017152@vocareum.com/build-data-pipelines-with-lakeflow-declarative-pipelines-3.0.2/Build Data Pipelines with Lakeflow Declarative Pipelines/5 - Deploying a Pipeline to Production Project/orders/orders_pipeline.sql\",\"once\":false}}",
         null,
         null
        ],
        [
         "49567170-6ea0-11f0-a268-aa11d67e9c2a",
         "flow_definition",
         "{\"flow_definition\":{\"input_datasets\":[\"labuser11058730_1754017152.2_silver_db.status_silver_demo5\",\"labuser11058730_1754017152.2_silver_db.orders_silver_demo5\"],\"output_dataset\":\"labuser11058730_1754017152.3_gold_db.full_order_info_gold_demo5\",\"explain_text\":\"'Project ['orders.order_id, 'orders.order_timestamp, 'status.order_status, 'status.order_status_timestamp]\",\"schema_json\":\"{\\\"type\\\":\\\"struct\\\",\\\"fields\\\":[{\\\"name\\\":\\\"order_id\\\",\\\"type\\\":\\\"long\\\",\\\"nullable\\\":true,\\\"metadata\\\":{}},{\\\"name\\\":\\\"order_timestamp\\\",\\\"type\\\":\\\"timestamp\\\",\\\"nullable\\\":true,\\\"metadata\\\":{}},{\\\"name\\\":\\\"order_status\\\",\\\"type\\\":\\\"string\\\",\\\"nullable\\\":true,\\\"metadata\\\":{}},{\\\"name\\\":\\\"order_status_timestamp\\\",\\\"type\\\":\\\"timestamp\\\",\\\"nullable\\\":true,\\\"metadata\\\":{}}]}\",\"schema\":[{\"name\":\"order_id\",\"path\":[\"order_id\"],\"data_type\":\"LONG\"},{\"name\":\"order_timestamp\",\"path\":[\"order_timestamp\"],\"data_type\":\"TIMESTAMP\"},{\"name\":\"order_status\",\"path\":[\"order_status\"],\"data_type\":\"STRING\"},{\"name\":\"order_status_timestamp\",\"path\":[\"order_status_timestamp\"],\"data_type\":\"TIMESTAMP\"}],\"flow_type\":\"MATERIALIZED_VIEW\",\"comment\":\"Joining the orders and order status silver tables to view all orders with each individual status per order\",\"language\":\"SQL\",\"notebook_path\":\"/Workspace/Users/labuser11058730_1754017152@vocareum.com/build-data-pipelines-with-lakeflow-declarative-pipelines-3.0.2/Build Data Pipelines with Lakeflow Declarative Pipelines/5 - Deploying a Pipeline to Production Project/status/status_pipeline.sql\",\"once\":false}}",
         null,
         null
        ],
        [
         "4956bf90-6ea0-11f0-a268-aa11d67e9c2a",
         "flow_definition",
         "{\"flow_definition\":{\"input_datasets\":[\"labuser11058730_1754017152.3_gold_db.full_order_info_gold_demo5\"],\"output_dataset\":\"labuser11058730_1754017152.3_gold_db.delivered_orders_gold_demo5\",\"explain_text\":\"'Project ['order_id, 'order_timestamp, 'order_status, 'order_status_timestamp, timestampdiff(DAY, 'order_timestamp, 'order_status_timestamp, None) AS days_to_delivery#10465]\",\"schema_json\":\"{\\\"type\\\":\\\"struct\\\",\\\"fields\\\":[{\\\"name\\\":\\\"order_id\\\",\\\"type\\\":\\\"long\\\",\\\"nullable\\\":true,\\\"metadata\\\":{}},{\\\"name\\\":\\\"order_timestamp\\\",\\\"type\\\":\\\"timestamp\\\",\\\"nullable\\\":true,\\\"metadata\\\":{}},{\\\"name\\\":\\\"order_status\\\",\\\"type\\\":\\\"string\\\",\\\"nullable\\\":true,\\\"metadata\\\":{}},{\\\"name\\\":\\\"order_status_timestamp\\\",\\\"type\\\":\\\"timestamp\\\",\\\"nullable\\\":true,\\\"metadata\\\":{}},{\\\"name\\\":\\\"days_to_delivery\\\",\\\"type\\\":\\\"long\\\",\\\"nullable\\\":true,\\\"metadata\\\":{}}]}\",\"schema\":[{\"name\":\"order_id\",\"path\":[\"order_id\"],\"data_type\":\"LONG\"},{\"name\":\"order_timestamp\",\"path\":[\"order_timestamp\"],\"data_type\":\"TIMESTAMP\"},{\"name\":\"order_status\",\"path\":[\"order_status\"],\"data_type\":\"STRING\"},{\"name\":\"order_status_timestamp\",\"path\":[\"order_status_timestamp\"],\"data_type\":\"TIMESTAMP\"},{\"name\":\"days_to_delivery\",\"path\":[\"days_to_delivery\"],\"data_type\":\"LONG\"}],\"flow_type\":\"MATERIALIZED_VIEW\",\"comment\":\"All delivered orders\",\"language\":\"SQL\",\"notebook_path\":\"/Workspace/Users/labuser11058730_1754017152@vocareum.com/build-data-pipelines-with-lakeflow-declarative-pipelines-3.0.2/Build Data Pipelines with Lakeflow Declarative Pipelines/5 - Deploying a Pipeline to Production Project/status/status_pipeline.sql\",\"once\":false}}",
         null,
         null
        ],
        [
         "49570db0-6ea0-11f0-a268-aa11d67e9c2a",
         "flow_definition",
         "{\"flow_definition\":{\"input_datasets\":[\"labuser11058730_1754017152.3_gold_db.full_order_info_gold_demo5\"],\"output_dataset\":\"labuser11058730_1754017152.3_gold_db.cancelled_orders_gold_demo5\",\"explain_text\":\"'Project ['order_id, 'order_timestamp, 'order_status, 'order_status_timestamp, timestampdiff(DAY, 'order_timestamp, 'order_status_timestamp, None) AS days_to_cancel#10464]\",\"schema_json\":\"{\\\"type\\\":\\\"struct\\\",\\\"fields\\\":[{\\\"name\\\":\\\"order_id\\\",\\\"type\\\":\\\"long\\\",\\\"nullable\\\":true,\\\"metadata\\\":{}},{\\\"name\\\":\\\"order_timestamp\\\",\\\"type\\\":\\\"timestamp\\\",\\\"nullable\\\":true,\\\"metadata\\\":{}},{\\\"name\\\":\\\"order_status\\\",\\\"type\\\":\\\"string\\\",\\\"nullable\\\":true,\\\"metadata\\\":{}},{\\\"name\\\":\\\"order_status_timestamp\\\",\\\"type\\\":\\\"timestamp\\\",\\\"nullable\\\":true,\\\"metadata\\\":{}},{\\\"name\\\":\\\"days_to_cancel\\\",\\\"type\\\":\\\"long\\\",\\\"nullable\\\":true,\\\"metadata\\\":{}}]}\",\"schema\":[{\"name\":\"order_id\",\"path\":[\"order_id\"],\"data_type\":\"LONG\"},{\"name\":\"order_timestamp\",\"path\":[\"order_timestamp\"],\"data_type\":\"TIMESTAMP\"},{\"name\":\"order_status\",\"path\":[\"order_status\"],\"data_type\":\"STRING\"},{\"name\":\"order_status_timestamp\",\"path\":[\"order_status_timestamp\"],\"data_type\":\"TIMESTAMP\"},{\"name\":\"days_to_cancel\",\"path\":[\"days_to_cancel\"],\"data_type\":\"LONG\"}],\"flow_type\":\"MATERIALIZED_VIEW\",\"comment\":\"All cancelled orders\",\"language\":\"SQL\",\"notebook_path\":\"/Workspace/Users/labuser11058730_1754017152@vocareum.com/build-data-pipelines-with-lakeflow-declarative-pipelines-3.0.2/Build Data Pipelines with Lakeflow Declarative Pipelines/5 - Deploying a Pipeline to Production Project/status/status_pipeline.sql\",\"once\":false}}",
         null,
         null
        ],
        [
         "49590980-6ea0-11f0-a268-aa11d67e9c2a",
         "dataset_definition",
         "{\"dataset_definition\":{\"dataset_type\":\"STREAMING_TABLE\",\"table_properties\":[{\"key\":\"quality\",\"value\":\"bronze\"},{\"key\":\"pipelines.reset.allowed\",\"value\":\"false\"}],\"schema_json\":\"{\\\"type\\\":\\\"struct\\\",\\\"fields\\\":[{\\\"name\\\":\\\"customer_id\\\",\\\"type\\\":\\\"long\\\",\\\"nullable\\\":true,\\\"metadata\\\":{}},{\\\"name\\\":\\\"notifications\\\",\\\"type\\\":\\\"string\\\",\\\"nullable\\\":true,\\\"metadata\\\":{}},{\\\"name\\\":\\\"order_id\\\",\\\"type\\\":\\\"long\\\",\\\"nullable\\\":true,\\\"metadata\\\":{}},{\\\"name\\\":\\\"order_timestamp\\\",\\\"type\\\":\\\"long\\\",\\\"nullable\\\":true,\\\"metadata\\\":{}},{\\\"name\\\":\\\"_rescued_data\\\",\\\"type\\\":\\\"string\\\",\\\"nullable\\\":true,\\\"metadata\\\":{}},{\\\"name\\\":\\\"processing_time\\\",\\\"type\\\":\\\"timestamp\\\",\\\"nullable\\\":true,\\\"metadata\\\":{}},{\\\"name\\\":\\\"source_file\\\",\\\"type\\\":\\\"string\\\",\\\"nullable\\\":true,\\\"metadata\\\":{}}]}\",\"schema\":[{\"name\":\"customer_id\",\"path\":[\"customer_id\"],\"data_type\":\"LONG\"},{\"name\":\"notifications\",\"path\":[\"notifications\"],\"data_type\":\"STRING\"},{\"name\":\"order_id\",\"path\":[\"order_id\"],\"data_type\":\"LONG\"},{\"name\":\"order_timestamp\",\"path\":[\"order_timestamp\"],\"data_type\":\"LONG\"},{\"name\":\"_rescued_data\",\"path\":[\"_rescued_data\"],\"data_type\":\"STRING\"},{\"name\":\"processing_time\",\"path\":[\"processing_time\"],\"data_type\":\"TIMESTAMP\"},{\"name\":\"source_file\",\"path\":[\"source_file\"],\"data_type\":\"STRING\"}],\"comment\":\"Ingest order JSON files from cloud storage\",\"metastore_name\":\"`labuser11058730_1754017152`.`1_bronze_db`.`orders_bronze_demo5`\",\"language\":\"SQL\",\"notebook_path\":\"/Workspace/Users/labuser11058730_1754017152@vocareum.com/build-data-pipelines-with-lakeflow-declarative-pipelines-3.0.2/Build Data Pipelines with Lakeflow Declarative Pipelines/5 - Deploying a Pipeline to Production Project/orders/orders_pipeline.sql\",\"num_flows\":1,\"is_private\":true}}",
         null,
         null
        ],
        [
         "495d2830-6ea0-11f0-a268-aa11d67e9c2a",
         "dataset_definition",
         "{\"dataset_definition\":{\"dataset_type\":\"MATERIALIZED_VIEW\",\"table_properties\":[{\"key\":\"quality\",\"value\":\"gold\"}],\"schema_json\":\"{\\\"type\\\":\\\"struct\\\",\\\"fields\\\":[{\\\"name\\\":\\\"order_id\\\",\\\"type\\\":\\\"long\\\",\\\"nullable\\\":true,\\\"metadata\\\":{}},{\\\"name\\\":\\\"order_timestamp\\\",\\\"type\\\":\\\"timestamp\\\",\\\"nullable\\\":true,\\\"metadata\\\":{}},{\\\"name\\\":\\\"order_status\\\",\\\"type\\\":\\\"string\\\",\\\"nullable\\\":true,\\\"metadata\\\":{}},{\\\"name\\\":\\\"order_status_timestamp\\\",\\\"type\\\":\\\"timestamp\\\",\\\"nullable\\\":true,\\\"metadata\\\":{}},{\\\"name\\\":\\\"days_to_delivery\\\",\\\"type\\\":\\\"long\\\",\\\"nullable\\\":true,\\\"metadata\\\":{}}]}\",\"schema\":[{\"name\":\"order_id\",\"path\":[\"order_id\"],\"data_type\":\"LONG\"},{\"name\":\"order_timestamp\",\"path\":[\"order_timestamp\"],\"data_type\":\"TIMESTAMP\"},{\"name\":\"order_status\",\"path\":[\"order_status\"],\"data_type\":\"STRING\"},{\"name\":\"order_status_timestamp\",\"path\":[\"order_status_timestamp\"],\"data_type\":\"TIMESTAMP\"},{\"name\":\"days_to_delivery\",\"path\":[\"days_to_delivery\"],\"data_type\":\"LONG\"}],\"comment\":\"All delivered orders\",\"metastore_name\":\"`labuser11058730_1754017152`.`3_gold_db`.`delivered_orders_gold_demo5`\",\"language\":\"SQL\",\"notebook_path\":\"/Workspace/Users/labuser11058730_1754017152@vocareum.com/build-data-pipelines-with-lakeflow-declarative-pipelines-3.0.2/Build Data Pipelines with Lakeflow Declarative Pipelines/5 - Deploying a Pipeline to Production Project/status/status_pipeline.sql\",\"num_flows\":1,\"is_private\":true}}",
         null,
         null
        ],
        [
         "495e39a0-6ea0-11f0-a268-aa11d67e9c2a",
         "dataset_definition",
         "{\"dataset_definition\":{\"dataset_type\":\"STREAMING_TABLE\",\"table_properties\":[{\"key\":\"quality\",\"value\":\"silver\"}],\"schema_json\":\"{\\\"type\\\":\\\"struct\\\",\\\"fields\\\":[{\\\"name\\\":\\\"order_id\\\",\\\"type\\\":\\\"long\\\",\\\"nullable\\\":true,\\\"metadata\\\":{}},{\\\"name\\\":\\\"order_timestamp\\\",\\\"type\\\":\\\"timestamp\\\",\\\"nullable\\\":true,\\\"metadata\\\":{}},{\\\"name\\\":\\\"customer_id\\\",\\\"type\\\":\\\"long\\\",\\\"nullable\\\":true,\\\"metadata\\\":{}},{\\\"name\\\":\\\"notifications\\\",\\\"type\\\":\\\"string\\\",\\\"nullable\\\":true,\\\"metadata\\\":{}}]}\",\"schema\":[{\"name\":\"order_id\",\"path\":[\"order_id\"],\"data_type\":\"LONG\"},{\"name\":\"order_timestamp\",\"path\":[\"order_timestamp\"],\"data_type\":\"TIMESTAMP\"},{\"name\":\"customer_id\",\"path\":[\"customer_id\"],\"data_type\":\"LONG\"},{\"name\":\"notifications\",\"path\":[\"notifications\"],\"data_type\":\"STRING\"}],\"comment\":\"Silver clean orders table\",\"expectations\":[{\"name\":\"valid_notifications\",\"action\":\"ALLOW\"},{\"name\":\"valid_date\",\"action\":\"DROP\"},{\"name\":\"valid_id\",\"action\":\"FAIL\"}],\"metastore_name\":\"`labuser11058730_1754017152`.`2_silver_db`.`orders_silver_demo5`\",\"language\":\"SQL\",\"notebook_path\":\"/Workspace/Users/labuser11058730_1754017152@vocareum.com/build-data-pipelines-with-lakeflow-declarative-pipelines-3.0.2/Build Data Pipelines with Lakeflow Declarative Pipelines/5 - Deploying a Pipeline to Production Project/orders/orders_pipeline.sql\",\"num_flows\":1,\"is_private\":true}}",
         null,
         null
        ],
        [
         "4960f8c0-6ea0-11f0-a268-aa11d67e9c2a",
         "dataset_definition",
         "{\"dataset_definition\":{\"dataset_type\":\"STREAMING_TABLE\",\"table_properties\":[{\"key\":\"quality\",\"value\":\"bronze\"},{\"key\":\"pipelines.reset.allowed\",\"value\":\"false\"}],\"schema_json\":\"{\\\"type\\\":\\\"struct\\\",\\\"fields\\\":[{\\\"name\\\":\\\"order_id\\\",\\\"type\\\":\\\"long\\\",\\\"nullable\\\":true,\\\"metadata\\\":{}},{\\\"name\\\":\\\"order_status\\\",\\\"type\\\":\\\"string\\\",\\\"nullable\\\":true,\\\"metadata\\\":{}},{\\\"name\\\":\\\"status_timestamp\\\",\\\"type\\\":\\\"long\\\",\\\"nullable\\\":true,\\\"metadata\\\":{}},{\\\"name\\\":\\\"_rescued_data\\\",\\\"type\\\":\\\"string\\\",\\\"nullable\\\":true,\\\"metadata\\\":{}},{\\\"name\\\":\\\"processing_time\\\",\\\"type\\\":\\\"timestamp\\\",\\\"nullable\\\":true,\\\"metadata\\\":{}},{\\\"name\\\":\\\"source_file\\\",\\\"type\\\":\\\"string\\\",\\\"nullable\\\":true,\\\"metadata\\\":{}}]}\",\"schema\":[{\"name\":\"order_id\",\"path\":[\"order_id\"],\"data_type\":\"LONG\"},{\"name\":\"order_status\",\"path\":[\"order_status\"],\"data_type\":\"STRING\"},{\"name\":\"status_timestamp\",\"path\":[\"status_timestamp\"],\"data_type\":\"LONG\"},{\"name\":\"_rescued_data\",\"path\":[\"_rescued_data\"],\"data_type\":\"STRING\"},{\"name\":\"processing_time\",\"path\":[\"processing_time\"],\"data_type\":\"TIMESTAMP\"},{\"name\":\"source_file\",\"path\":[\"source_file\"],\"data_type\":\"STRING\"}],\"comment\":\"Ingest raw JSON order status files from cloud storage\",\"metastore_name\":\"`labuser11058730_1754017152`.`1_bronze_db`.`status_bronze_demo5`\",\"language\":\"SQL\",\"notebook_path\":\"/Workspace/Users/labuser11058730_1754017152@vocareum.com/build-data-pipelines-with-lakeflow-declarative-pipelines-3.0.2/Build Data Pipelines with Lakeflow Declarative Pipelines/5 - Deploying a Pipeline to Production Project/status/status_pipeline.sql\",\"num_flows\":1,\"is_private\":true}}",
         null,
         null
        ],
        [
         "4961bc10-6ea0-11f0-a268-aa11d67e9c2a",
         "dataset_definition",
         "{\"dataset_definition\":{\"dataset_type\":\"STREAMING_TABLE\",\"table_properties\":[{\"key\":\"quality\",\"value\":\"silver\"}],\"schema_json\":\"{\\\"type\\\":\\\"struct\\\",\\\"fields\\\":[{\\\"name\\\":\\\"order_id\\\",\\\"type\\\":\\\"long\\\",\\\"nullable\\\":true,\\\"metadata\\\":{}},{\\\"name\\\":\\\"order_status\\\",\\\"type\\\":\\\"string\\\",\\\"nullable\\\":true,\\\"metadata\\\":{}},{\\\"name\\\":\\\"order_status_timestamp\\\",\\\"type\\\":\\\"timestamp\\\",\\\"nullable\\\":true,\\\"metadata\\\":{}}]}\",\"schema\":[{\"name\":\"order_id\",\"path\":[\"order_id\"],\"data_type\":\"LONG\"},{\"name\":\"order_status\",\"path\":[\"order_status\"],\"data_type\":\"STRING\"},{\"name\":\"order_status_timestamp\",\"path\":[\"order_status_timestamp\"],\"data_type\":\"TIMESTAMP\"}],\"comment\":\"Order with each status and timestamp\",\"expectations\":[{\"name\":\"valid_timestamp\",\"action\":\"DROP\"},{\"name\":\"valid_order_status\",\"action\":\"ALLOW\"}],\"metastore_name\":\"`labuser11058730_1754017152`.`2_silver_db`.`status_silver_demo5`\",\"language\":\"SQL\",\"notebook_path\":\"/Workspace/Users/labuser11058730_1754017152@vocareum.com/build-data-pipelines-with-lakeflow-declarative-pipelines-3.0.2/Build Data Pipelines with Lakeflow Declarative Pipelines/5 - Deploying a Pipeline to Production Project/status/status_pipeline.sql\",\"num_flows\":1,\"is_private\":true}}",
         null,
         null
        ],
        [
         "49627f60-6ea0-11f0-a268-aa11d67e9c2a",
         "dataset_definition",
         "{\"dataset_definition\":{\"dataset_type\":\"MATERIALIZED_VIEW\",\"table_properties\":[{\"key\":\"quality\",\"value\":\"gold\"}],\"schema_json\":\"{\\\"type\\\":\\\"struct\\\",\\\"fields\\\":[{\\\"name\\\":\\\"order_date\\\",\\\"type\\\":\\\"date\\\",\\\"nullable\\\":true,\\\"metadata\\\":{}},{\\\"name\\\":\\\"total_daily_orders\\\",\\\"type\\\":\\\"long\\\",\\\"nullable\\\":true,\\\"metadata\\\":{}}]}\",\"schema\":[{\"name\":\"order_date\",\"path\":[\"order_date\"],\"data_type\":\"DATE\"},{\"name\":\"total_daily_orders\",\"path\":[\"total_daily_orders\"],\"data_type\":\"LONG\"}],\"comment\":\"Aggregate gold data for downstream analysis\",\"metastore_name\":\"`labuser11058730_1754017152`.`3_gold_db`.`gold_orders_by_date_demo5`\",\"language\":\"SQL\",\"notebook_path\":\"/Workspace/Users/labuser11058730_1754017152@vocareum.com/build-data-pipelines-with-lakeflow-declarative-pipelines-3.0.2/Build Data Pipelines with Lakeflow Declarative Pipelines/5 - Deploying a Pipeline to Production Project/orders/orders_pipeline.sql\",\"num_flows\":1,\"is_private\":true}}",
         null,
         null
        ],
        [
         "496342b0-6ea0-11f0-a268-aa11d67e9c2a",
         "dataset_definition",
         "{\"dataset_definition\":{\"dataset_type\":\"MATERIALIZED_VIEW\",\"table_properties\":[{\"key\":\"quality\",\"value\":\"gold\"}],\"schema_json\":\"{\\\"type\\\":\\\"struct\\\",\\\"fields\\\":[{\\\"name\\\":\\\"order_id\\\",\\\"type\\\":\\\"long\\\",\\\"nullable\\\":true,\\\"metadata\\\":{}},{\\\"name\\\":\\\"order_timestamp\\\",\\\"type\\\":\\\"timestamp\\\",\\\"nullable\\\":true,\\\"metadata\\\":{}},{\\\"name\\\":\\\"order_status\\\",\\\"type\\\":\\\"string\\\",\\\"nullable\\\":true,\\\"metadata\\\":{}},{\\\"name\\\":\\\"order_status_timestamp\\\",\\\"type\\\":\\\"timestamp\\\",\\\"nullable\\\":true,\\\"metadata\\\":{}},{\\\"name\\\":\\\"days_to_cancel\\\",\\\"type\\\":\\\"long\\\",\\\"nullable\\\":true,\\\"metadata\\\":{}}]}\",\"schema\":[{\"name\":\"order_id\",\"path\":[\"order_id\"],\"data_type\":\"LONG\"},{\"name\":\"order_timestamp\",\"path\":[\"order_timestamp\"],\"data_type\":\"TIMESTAMP\"},{\"name\":\"order_status\",\"path\":[\"order_status\"],\"data_type\":\"STRING\"},{\"name\":\"order_status_timestamp\",\"path\":[\"order_status_timestamp\"],\"data_type\":\"TIMESTAMP\"},{\"name\":\"days_to_cancel\",\"path\":[\"days_to_cancel\"],\"data_type\":\"LONG\"}],\"comment\":\"All cancelled orders\",\"metastore_name\":\"`labuser11058730_1754017152`.`3_gold_db`.`cancelled_orders_gold_demo5`\",\"language\":\"SQL\",\"notebook_path\":\"/Workspace/Users/labuser11058730_1754017152@vocareum.com/build-data-pipelines-with-lakeflow-declarative-pipelines-3.0.2/Build Data Pipelines with Lakeflow Declarative Pipelines/5 - Deploying a Pipeline to Production Project/status/status_pipeline.sql\",\"num_flows\":1,\"is_private\":true}}",
         null,
         null
        ],
        [
         "49647b30-6ea0-11f0-a268-aa11d67e9c2a",
         "dataset_definition",
         "{\"dataset_definition\":{\"dataset_type\":\"MATERIALIZED_VIEW\",\"table_properties\":[{\"key\":\"quality\",\"value\":\"gold\"}],\"schema_json\":\"{\\\"type\\\":\\\"struct\\\",\\\"fields\\\":[{\\\"name\\\":\\\"order_id\\\",\\\"type\\\":\\\"long\\\",\\\"nullable\\\":true,\\\"metadata\\\":{}},{\\\"name\\\":\\\"order_timestamp\\\",\\\"type\\\":\\\"timestamp\\\",\\\"nullable\\\":true,\\\"metadata\\\":{}},{\\\"name\\\":\\\"order_status\\\",\\\"type\\\":\\\"string\\\",\\\"nullable\\\":true,\\\"metadata\\\":{}},{\\\"name\\\":\\\"order_status_timestamp\\\",\\\"type\\\":\\\"timestamp\\\",\\\"nullable\\\":true,\\\"metadata\\\":{}}]}\",\"schema\":[{\"name\":\"order_id\",\"path\":[\"order_id\"],\"data_type\":\"LONG\"},{\"name\":\"order_timestamp\",\"path\":[\"order_timestamp\"],\"data_type\":\"TIMESTAMP\"},{\"name\":\"order_status\",\"path\":[\"order_status\"],\"data_type\":\"STRING\"},{\"name\":\"order_status_timestamp\",\"path\":[\"order_status_timestamp\"],\"data_type\":\"TIMESTAMP\"}],\"comment\":\"Joining the orders and order status silver tables to view all orders with each individual status per order\",\"metastore_name\":\"`labuser11058730_1754017152`.`3_gold_db`.`full_order_info_gold_demo5`\",\"language\":\"SQL\",\"notebook_path\":\"/Workspace/Users/labuser11058730_1754017152@vocareum.com/build-data-pipelines-with-lakeflow-declarative-pipelines-3.0.2/Build Data Pipelines with Lakeflow Declarative Pipelines/5 - Deploying a Pipeline to Production Project/status/status_pipeline.sql\",\"num_flows\":1,\"is_private\":true}}",
         null,
         null
        ],
        [
         "49ae0750-6ea0-11f0-a268-aa11d67e9c2a",
         "graph_created",
         "{\"graph_created\":{}}",
         null,
         null
        ],
        [
         "49b09f60-6ea0-11f0-a268-aa11d67e9c2a",
         "update_progress",
         "{\"update_progress\":{\"state\":\"RUNNING\"}}",
         null,
         null
        ],
        [
         "49b33770-6ea0-11f0-a268-aa11d67e9c2a",
         "flow_progress",
         "{\"flow_progress\":{\"status\":\"QUEUED\"}}",
         "{\"status\":\"QUEUED\"}",
         null
        ],
        [
         "49b66bc0-6ea0-11f0-a268-aa11d67e9c2a",
         "flow_progress",
         "{\"flow_progress\":{\"status\":\"QUEUED\"}}",
         "{\"status\":\"QUEUED\"}",
         null
        ],
        [
         "49b6b9e0-6ea0-11f0-a268-aa11d67e9c2a",
         "flow_progress",
         "{\"flow_progress\":{\"status\":\"QUEUED\"}}",
         "{\"status\":\"QUEUED\"}",
         null
        ],
        [
         "49b70800-6ea0-11f0-a268-aa11d67e9c2a",
         "flow_progress",
         "{\"flow_progress\":{\"status\":\"QUEUED\"}}",
         "{\"status\":\"QUEUED\"}",
         null
        ],
        [
         "49b75620-6ea0-11f0-a268-aa11d67e9c2a",
         "flow_progress",
         "{\"flow_progress\":{\"status\":\"QUEUED\"}}",
         "{\"status\":\"QUEUED\"}",
         null
        ],
        [
         "49b77d30-6ea0-11f0-a268-aa11d67e9c2a",
         "flow_progress",
         "{\"flow_progress\":{\"status\":\"QUEUED\"}}",
         "{\"status\":\"QUEUED\"}",
         null
        ],
        [
         "49b7cb50-6ea0-11f0-a268-aa11d67e9c2a",
         "flow_progress",
         "{\"flow_progress\":{\"status\":\"QUEUED\"}}",
         "{\"status\":\"QUEUED\"}",
         null
        ],
        [
         "49b7f260-6ea0-11f0-a268-aa11d67e9c2a",
         "flow_progress",
         "{\"flow_progress\":{\"status\":\"QUEUED\"}}",
         "{\"status\":\"QUEUED\"}",
         null
        ],
        [
         "49d16dd0-6ea0-11f0-a268-aa11d67e9c2a",
         "flow_progress",
         "{\"flow_progress\":{\"status\":\"STARTING\"}}",
         "{\"status\":\"STARTING\"}",
         null
        ],
        [
         "4a0771f0-6ea0-11f0-a268-aa11d67e9c2a",
         "flow_progress",
         "{\"flow_progress\":{\"status\":\"RUNNING\",\"metrics\":{}}}",
         "{\"status\":\"RUNNING\",\"metrics\":{}}",
         null
        ],
        [
         "4a408350-6ea0-11f0-a268-aa11d67e9c2a",
         "flow_progress",
         "{\"flow_progress\":{\"status\":\"STARTING\"}}",
         "{\"status\":\"STARTING\"}",
         null
        ],
        [
         "4a659780-6ea0-11f0-a268-aa11d67e9c2a",
         "flow_progress",
         "{\"flow_progress\":{\"status\":\"RUNNING\",\"metrics\":{}}}",
         "{\"status\":\"RUNNING\",\"metrics\":{}}",
         null
        ],
        [
         "4edc79a0-6ea0-11f0-a268-aa11d67e9c2a",
         "flow_progress",
         "{\"flow_progress\":{\"status\":\"RUNNING\",\"metrics\":{\"num_output_rows\":536,\"backlog_bytes\":0,\"backlog_files\":0,\"source_metrics\":[{\"source_name\":\"CloudFilesSource[/Volumes/dbacademy/ops/labuser11058730_1754017152@vocareum_com/status]\",\"backlog_bytes\":0,\"backlog_files\":0}]},\"data_quality\":{\"dropped_records\":0},\"streaming_metrics\":{\"event_time\":{}}}}",
         "{\"status\":\"RUNNING\",\"metrics\":{\"num_output_rows\":536,\"backlog_bytes\":0,\"backlog_files\":0,\"source_metrics\":[{\"source_name\":\"CloudFilesSource[/Volumes/dbacademy/ops/labuser11058730_1754017152@vocareum_com/status]\",\"backlog_bytes\":0,\"backlog_files\":0}]},\"data_quality\":{\"dropped_records\":0},\"streaming_metrics\":{\"event_time\":{}}}",
         null
        ],
        [
         "4ef42050-6ea0-11f0-a268-aa11d67e9c2a",
         "flow_progress",
         "{\"flow_progress\":{\"status\":\"RUNNING\",\"metrics\":{\"num_output_rows\":174,\"backlog_bytes\":0,\"backlog_files\":0,\"source_metrics\":[{\"source_name\":\"CloudFilesSource[/Volumes/dbacademy/ops/labuser11058730_1754017152@vocareum_com/orders]\",\"backlog_bytes\":0,\"backlog_files\":0}]},\"data_quality\":{\"dropped_records\":0},\"streaming_metrics\":{\"event_time\":{}}}}",
         "{\"status\":\"RUNNING\",\"metrics\":{\"num_output_rows\":174,\"backlog_bytes\":0,\"backlog_files\":0,\"source_metrics\":[{\"source_name\":\"CloudFilesSource[/Volumes/dbacademy/ops/labuser11058730_1754017152@vocareum_com/orders]\",\"backlog_bytes\":0,\"backlog_files\":0}]},\"data_quality\":{\"dropped_records\":0},\"streaming_metrics\":{\"event_time\":{}}}",
         null
        ],
        [
         "4ef5ce00-6ea0-11f0-a268-aa11d67e9c2a",
         "flow_progress",
         "{\"flow_progress\":{\"status\":\"COMPLETED\"}}",
         "{\"status\":\"COMPLETED\"}",
         null
        ],
        [
         "4efcabd0-6ea0-11f0-a268-aa11d67e9c2a",
         "flow_progress",
         "{\"flow_progress\":{\"status\":\"COMPLETED\"}}",
         "{\"status\":\"COMPLETED\"}",
         null
        ],
        [
         "4fe05510-6ea0-11f0-a268-aa11d67e9c2a",
         "flow_progress",
         "{\"flow_progress\":{\"status\":\"STARTING\"}}",
         "{\"status\":\"STARTING\"}",
         null
        ],
        [
         "503579f0-6ea0-11f0-a268-aa11d67e9c2a",
         "flow_progress",
         "{\"flow_progress\":{\"status\":\"RUNNING\",\"metrics\":{}}}",
         "{\"status\":\"RUNNING\",\"metrics\":{}}",
         null
        ],
        [
         "506d52d0-6ea0-11f0-a268-aa11d67e9c2a",
         "flow_progress",
         "{\"flow_progress\":{\"status\":\"STARTING\"}}",
         "{\"status\":\"STARTING\"}",
         null
        ],
        [
         "50a504a0-6ea0-11f0-a268-aa11d67e9c2a",
         "flow_progress",
         "{\"flow_progress\":{\"status\":\"RUNNING\",\"metrics\":{}}}",
         "{\"status\":\"RUNNING\",\"metrics\":{}}",
         null
        ],
        [
         "520f4300-6ea0-11f0-a268-aa11d67e9c2a",
         "flow_progress",
         "{\"flow_progress\":{\"status\":\"RUNNING\",\"metrics\":{\"num_output_rows\":536,\"backlog_bytes\":0,\"backlog_files\":0,\"source_metrics\":[{\"source_name\":\"DeltaSource[labuser11058730_1754017152.1_bronze_db.status_bronze_demo5]\",\"backlog_bytes\":0,\"backlog_files\":0}]},\"data_quality\":{\"dropped_records\":0,\"expectations\":[{\"name\":\"valid_timestamp\",\"dataset\":\"labuser11058730_1754017152.2_silver_db.status_silver_demo5\",\"passed_records\":536,\"failed_records\":0},{\"name\":\"valid_order_status\",\"dataset\":\"labuser11058730_1754017152.2_silver_db.status_silver_demo5\",\"passed_records\":506,\"failed_records\":30}]},\"streaming_metrics\":{\"event_time\":{}}}}",
         "{\"status\":\"RUNNING\",\"metrics\":{\"num_output_rows\":536,\"backlog_bytes\":0,\"backlog_files\":0,\"source_metrics\":[{\"source_name\":\"DeltaSource[labuser11058730_1754017152.1_bronze_db.status_bronze_demo5]\",\"backlog_bytes\":0,\"backlog_files\":0}]},\"data_quality\":{\"dropped_records\":0,\"expectations\":[{\"name\":\"valid_timestamp\",\"dataset\":\"labuser11058730_1754017152.2_silver_db.status_silver_demo5\",\"passed_records\":536,\"failed_records\":0},{\"name\":\"valid_order_status\",\"dataset\":\"labuser11058730_1754017152.2_silver_db.status_silver_demo5\",\"passed_records\":506,\"failed_records\":30}]},\"streaming_metrics\":{\"event_time\":{}}}",
         null
        ],
        [
         "52120220-6ea0-11f0-a268-aa11d67e9c2a",
         "flow_progress",
         "{\"flow_progress\":{\"status\":\"COMPLETED\"}}",
         "{\"status\":\"COMPLETED\"}",
         null
        ],
        [
         "521bed30-6ea0-11f0-a268-aa11d67e9c2a",
         "flow_progress",
         "{\"flow_progress\":{\"status\":\"RUNNING\",\"metrics\":{\"num_output_rows\":174,\"backlog_bytes\":0,\"backlog_files\":0,\"source_metrics\":[{\"source_name\":\"DeltaSource[labuser11058730_1754017152.1_bronze_db.orders_bronze_demo5]\",\"backlog_bytes\":0,\"backlog_files\":0}]},\"data_quality\":{\"dropped_records\":0,\"expectations\":[{\"name\":\"valid_notifications\",\"dataset\":\"labuser11058730_1754017152.2_silver_db.orders_silver_demo5\",\"passed_records\":174,\"failed_records\":0},{\"name\":\"valid_id\",\"dataset\":\"labuser11058730_1754017152.2_silver_db.orders_silver_demo5\",\"passed_records\":174,\"failed_records\":0},{\"name\":\"valid_date\",\"dataset\":\"labuser11058730_1754017152.2_silver_db.orders_silver_demo5\",\"passed_records\":174,\"failed_records\":0}]},\"streaming_metrics\":{\"event_time\":{}}}}",
         "{\"status\":\"RUNNING\",\"metrics\":{\"num_output_rows\":174,\"backlog_bytes\":0,\"backlog_files\":0,\"source_metrics\":[{\"source_name\":\"DeltaSource[labuser11058730_1754017152.1_bronze_db.orders_bronze_demo5]\",\"backlog_bytes\":0,\"backlog_files\":0}]},\"data_quality\":{\"dropped_records\":0,\"expectations\":[{\"name\":\"valid_notifications\",\"dataset\":\"labuser11058730_1754017152.2_silver_db.orders_silver_demo5\",\"passed_records\":174,\"failed_records\":0},{\"name\":\"valid_id\",\"dataset\":\"labuser11058730_1754017152.2_silver_db.orders_silver_demo5\",\"passed_records\":174,\"failed_records\":0},{\"name\":\"valid_date\",\"dataset\":\"labuser11058730_1754017152.2_silver_db.orders_silver_demo5\",\"passed_records\":174,\"failed_records\":0}]},\"streaming_metrics\":{\"event_time\":{}}}",
         null
        ],
        [
         "521ed360-6ea0-11f0-a268-aa11d67e9c2a",
         "flow_progress",
         "{\"flow_progress\":{\"status\":\"COMPLETED\"}}",
         "{\"status\":\"COMPLETED\"}",
         null
        ],
        [
         "5345a020-6ea0-11f0-a268-aa11d67e9c2a",
         "flow_progress",
         "{\"flow_progress\":{\"status\":\"PLANNING\"}}",
         "{\"status\":\"PLANNING\"}",
         null
        ],
        [
         "53ec8e80-6ea0-11f0-a268-aa11d67e9c2a",
         "planning_information",
         "{\"planning_information\":{\"technique_information\":[{\"incrementalization_issues\":[{\"issue_type\":\"CHANGE_SET_MISSING\",\"prevent_incrementalization\":true}]},{\"maintenance_type\":\"MAINTENANCE_TYPE_COMPLETE_RECOMPUTE\",\"is_chosen\":true,\"is_applicable\":true,\"cost\":1585.0}],\"source_table_information\":[{\"table_id\":\"d5f7414c-d9fe-49b9-965f-1af66e757836\",\"full_size\":4124.0,\"num_rows\":174,\"num_files\":1,\"is_size_after_pruning\":true,\"is_row_id_enabled\":true,\"is_cdf_enabled\":true,\"is_deletion_vector_enabled\":true}],\"target_table_information\":{\"table_name\":\"`labuser11058730_1754017152`.`3_gold_db`.`gold_orders_by_date_demo5`\",\"table_id\":\"200c3af9-0c63-487b-9665-5f72a2b6926e\",\"full_size\":0.0,\"is_row_id_enabled\":true,\"is_cdf_enabled\":true,\"is_deletion_vector_enabled\":true},\"planning_wall_time_ms\":987}}",
         null,
         null
        ],
        [
         "53f8c380-6ea0-11f0-a268-aa11d67e9c2a",
         "flow_progress",
         "{\"flow_progress\":{\"status\":\"STARTING\"}}",
         "{\"status\":\"STARTING\"}",
         null
        ],
        [
         "53f9fc00-6ea0-11f0-a268-aa11d67e9c2a",
         "flow_progress",
         "{\"flow_progress\":{\"status\":\"PLANNING\"}}",
         "{\"status\":\"PLANNING\"}",
         null
        ],
        [
         "53fd3050-6ea0-11f0-a268-aa11d67e9c2a",
         "flow_progress",
         "{\"flow_progress\":{\"status\":\"RUNNING\",\"metrics\":{\"backlog_bytes\":4124,\"backlog_files\":1}}}",
         "{\"status\":\"RUNNING\",\"metrics\":{\"backlog_bytes\":4124,\"backlog_files\":1}}",
         null
        ],
        [
         "5447cde0-6ea0-11f0-a268-aa11d67e9c2a",
         "planning_information",
         "{\"planning_information\":{\"technique_information\":[{\"incrementalization_issues\":[{\"issue_type\":\"CHANGE_SET_MISSING\",\"prevent_incrementalization\":true}]},{\"maintenance_type\":\"MAINTENANCE_TYPE_COMPLETE_RECOMPUTE\",\"is_chosen\":true,\"is_applicable\":true,\"cost\":372091.0}],\"source_table_information\":[{\"table_id\":\"4f59ae67-2d5e-4523-8700-f788e4855363\",\"full_size\":6859.0,\"num_rows\":536,\"num_files\":1,\"is_size_after_pruning\":true,\"is_row_id_enabled\":true,\"is_cdf_enabled\":true,\"is_deletion_vector_enabled\":true},{\"table_id\":\"d5f7414c-d9fe-49b9-965f-1af66e757836\",\"full_size\":4124.0,\"num_rows\":174,\"num_files\":1,\"is_size_after_pruning\":true,\"is_row_id_enabled\":true,\"is_cdf_enabled\":true,\"is_deletion_vector_enabled\":true}],\"target_table_information\":{\"table_name\":\"`labuser11058730_1754017152`.`3_gold_db`.`full_order_info_gold_demo5`\",\"table_id\":\"0eabdda1-f3f9-4614-a4af-cbf7916be303\",\"full_size\":0.0,\"is_row_id_enabled\":true,\"is_cdf_enabled\":true,\"is_deletion_vector_enabled\":true},\"planning_wall_time_ms\":383}}",
         null,
         null
        ],
        [
         "54486a20-6ea0-11f0-a268-aa11d67e9c2a",
         "flow_progress",
         "{\"flow_progress\":{\"status\":\"STARTING\"}}",
         "{\"status\":\"STARTING\"}",
         null
        ],
        [
         "545402e0-6ea0-11f0-a268-aa11d67e9c2a",
         "flow_progress",
         "{\"flow_progress\":{\"status\":\"RUNNING\",\"metrics\":{\"backlog_bytes\":10983,\"backlog_files\":2}}}",
         "{\"status\":\"RUNNING\",\"metrics\":{\"backlog_bytes\":10983,\"backlog_files\":2}}",
         null
        ],
        [
         "54e23920-6ea0-11f0-a268-aa11d67e9c2a",
         "aggregated_flow_metrics",
         "{\"aggregated_flow_metrics\":{\"executor_time_ms\":0,\"executor_cpu_time_ms\":0}}",
         null,
         null
        ],
        [
         "554a49c0-6ea0-11f0-a268-aa11d67e9c2a",
         "aggregated_flow_metrics",
         "{\"aggregated_flow_metrics\":{\"executor_time_ms\":0,\"executor_cpu_time_ms\":0}}",
         null,
         null
        ],
        [
         "56916fc0-6ea0-11f0-a268-aa11d67e9c2a",
         "dataset_life_cycle",
         "{\"dataset_life_cycle\":{\"state\":\"CREATED\",\"dataset_type\":\"MATERIALIZED_VIEW\"}}",
         null,
         null
        ],
        [
         "569455f0-6ea0-11f0-a268-aa11d67e9c2a",
         "flow_progress",
         "{\"flow_progress\":{\"status\":\"COMPLETED\",\"metrics\":{\"num_output_rows\":7},\"data_quality\":{\"dropped_records\":0}}}",
         "{\"status\":\"COMPLETED\",\"metrics\":{\"num_output_rows\":7},\"data_quality\":{\"dropped_records\":0}}",
         null
        ],
        [
         "573f6300-6ea0-11f0-a268-aa11d67e9c2a",
         "dataset_life_cycle",
         "{\"dataset_life_cycle\":{\"state\":\"CREATED\",\"dataset_type\":\"MATERIALIZED_VIEW\"}}",
         null,
         null
        ],
        [
         "57407470-6ea0-11f0-a268-aa11d67e9c2a",
         "flow_progress",
         "{\"flow_progress\":{\"status\":\"COMPLETED\",\"metrics\":{\"num_output_rows\":536},\"data_quality\":{\"dropped_records\":0}}}",
         "{\"status\":\"COMPLETED\",\"metrics\":{\"num_output_rows\":536},\"data_quality\":{\"dropped_records\":0}}",
         null
        ],
        [
         "57782640-6ea0-11f0-a268-aa11d67e9c2a",
         "flow_progress",
         "{\"flow_progress\":{\"status\":\"PLANNING\"}}",
         "{\"status\":\"PLANNING\"}",
         null
        ],
        [
         "57a773a0-6ea0-11f0-a268-aa11d67e9c2a",
         "planning_information",
         "{\"planning_information\":{\"technique_information\":[{\"incrementalization_issues\":[{\"issue_type\":\"CHANGE_SET_MISSING\",\"prevent_incrementalization\":true}]},{\"maintenance_type\":\"MAINTENANCE_TYPE_COMPLETE_RECOMPUTE\",\"is_chosen\":true,\"is_applicable\":true,\"cost\":7389.0}],\"source_table_information\":[{\"table_name\":\"`labuser11058730_1754017152`.`3_gold_db`.`full_order_info_gold_demo5`\",\"table_id\":\"0eabdda1-f3f9-4614-a4af-cbf7916be303\",\"catalog_table_type\":\"MATERIALIZED_VIEW\",\"full_size\":9997.0,\"num_rows\":536,\"num_files\":1,\"is_size_after_pruning\":true,\"is_row_id_enabled\":true,\"is_cdf_enabled\":true,\"is_deletion_vector_enabled\":true}],\"target_table_information\":{\"table_name\":\"`labuser11058730_1754017152`.`3_gold_db`.`cancelled_orders_gold_demo5`\",\"table_id\":\"cadc933b-69aa-44fd-97f3-18a891588e27\",\"full_size\":0.0,\"is_row_id_enabled\":true,\"is_cdf_enabled\":true,\"is_deletion_vector_enabled\":true},\"planning_wall_time_ms\":217}}",
         null,
         null
        ],
        [
         "57a7e8d0-6ea0-11f0-a268-aa11d67e9c2a",
         "flow_progress",
         "{\"flow_progress\":{\"status\":\"STARTING\"}}",
         "{\"status\":\"STARTING\"}",
         null
        ],
        [
         "57a88510-6ea0-11f0-a268-aa11d67e9c2a",
         "flow_progress",
         "{\"flow_progress\":{\"status\":\"PLANNING\"}}",
         "{\"status\":\"PLANNING\"}",
         null
        ],
        [
         "57ab1d20-6ea0-11f0-a268-aa11d67e9c2a",
         "flow_progress",
         "{\"flow_progress\":{\"status\":\"RUNNING\",\"metrics\":{\"backlog_bytes\":0,\"backlog_files\":0}}}",
         "{\"status\":\"RUNNING\",\"metrics\":{\"backlog_bytes\":0,\"backlog_files\":0}}",
         null
        ],
        [
         "57e16f60-6ea0-11f0-a268-aa11d67e9c2a",
         "planning_information",
         "{\"planning_information\":{\"technique_information\":[{\"incrementalization_issues\":[{\"issue_type\":\"CHANGE_SET_MISSING\",\"prevent_incrementalization\":true}]},{\"maintenance_type\":\"MAINTENANCE_TYPE_COMPLETE_RECOMPUTE\",\"is_chosen\":true,\"is_applicable\":true,\"cost\":7389.0}],\"source_table_information\":[{\"table_name\":\"`labuser11058730_1754017152`.`3_gold_db`.`full_order_info_gold_demo5`\",\"table_id\":\"0eabdda1-f3f9-4614-a4af-cbf7916be303\",\"catalog_table_type\":\"MATERIALIZED_VIEW\",\"full_size\":9997.0,\"num_rows\":536,\"num_files\":1,\"is_size_after_pruning\":true,\"is_row_id_enabled\":true,\"is_cdf_enabled\":true,\"is_deletion_vector_enabled\":true}],\"target_table_information\":{\"table_name\":\"`labuser11058730_1754017152`.`3_gold_db`.`delivered_orders_gold_demo5`\",\"table_id\":\"2fc9af5c-295c-4569-9905-9dd40863f71a\",\"full_size\":0.0,\"is_row_id_enabled\":true,\"is_cdf_enabled\":true,\"is_deletion_vector_enabled\":true},\"planning_wall_time_ms\":253}}",
         null,
         null
        ],
        [
         "57e1e490-6ea0-11f0-a268-aa11d67e9c2a",
         "flow_progress",
         "{\"flow_progress\":{\"status\":\"STARTING\"}}",
         "{\"status\":\"STARTING\"}",
         null
        ],
        [
         "57e47ca0-6ea0-11f0-a268-aa11d67e9c2a",
         "flow_progress",
         "{\"flow_progress\":{\"status\":\"RUNNING\",\"metrics\":{\"backlog_bytes\":0,\"backlog_files\":0}}}",
         "{\"status\":\"RUNNING\",\"metrics\":{\"backlog_bytes\":0,\"backlog_files\":0}}",
         null
        ],
        [
         "5868eee0-6ea0-11f0-a268-aa11d67e9c2a",
         "aggregated_flow_metrics",
         "{\"aggregated_flow_metrics\":{\"executor_time_ms\":0,\"executor_cpu_time_ms\":0}}",
         null,
         null
        ],
        [
         "58896f30-6ea0-11f0-a268-aa11d67e9c2a",
         "aggregated_flow_metrics",
         "{\"aggregated_flow_metrics\":{\"executor_time_ms\":0,\"executor_cpu_time_ms\":0}}",
         null,
         null
        ],
        [
         "5a371f30-6ea0-11f0-a268-aa11d67e9c2a",
         "dataset_life_cycle",
         "{\"dataset_life_cycle\":{\"state\":\"CREATED\",\"dataset_type\":\"MATERIALIZED_VIEW\"}}",
         null,
         null
        ],
        [
         "5a380990-6ea0-11f0-a268-aa11d67e9c2a",
         "flow_progress",
         "{\"flow_progress\":{\"status\":\"COMPLETED\",\"metrics\":{\"num_output_rows\":8},\"data_quality\":{\"dropped_records\":0}}}",
         "{\"status\":\"COMPLETED\",\"metrics\":{\"num_output_rows\":8},\"data_quality\":{\"dropped_records\":0}}",
         null
        ],
        [
         "5a6bead0-6ea0-11f0-a268-aa11d67e9c2a",
         "dataset_life_cycle",
         "{\"dataset_life_cycle\":{\"state\":\"CREATED\",\"dataset_type\":\"MATERIALIZED_VIEW\"}}",
         null,
         null
        ],
        [
         "5a6cfc40-6ea0-11f0-a268-aa11d67e9c2a",
         "flow_progress",
         "{\"flow_progress\":{\"status\":\"COMPLETED\",\"metrics\":{\"num_output_rows\":94},\"data_quality\":{\"dropped_records\":0}}}",
         "{\"status\":\"COMPLETED\",\"metrics\":{\"num_output_rows\":94},\"data_quality\":{\"dropped_records\":0}}",
         null
        ],
        [
         "5b0fa4e0-6ea0-11f0-a268-aa11d67e9c2a",
         "flow_progress",
         "{\"flow_progress\":{\"metrics\":{\"executor_time_ms\":2151,\"executor_cpu_time_ms\":801}}}",
         "{\"metrics\":{\"executor_time_ms\":2151,\"executor_cpu_time_ms\":801}}",
         null
        ],
        [
         "5b0ff300-6ea0-11f0-a268-aa11d67e9c2a",
         "flow_progress",
         "{\"flow_progress\":{\"metrics\":{\"executor_time_ms\":268,\"executor_cpu_time_ms\":126}}}",
         "{\"metrics\":{\"executor_time_ms\":268,\"executor_cpu_time_ms\":126}}",
         null
        ],
        [
         "5b101a10-6ea0-11f0-a268-aa11d67e9c2a",
         "flow_progress",
         "{\"flow_progress\":{\"metrics\":{\"executor_time_ms\":412,\"executor_cpu_time_ms\":164}}}",
         "{\"metrics\":{\"executor_time_ms\":412,\"executor_cpu_time_ms\":164}}",
         null
        ],
        [
         "5b104120-6ea0-11f0-a268-aa11d67e9c2a",
         "flow_progress",
         "{\"flow_progress\":{\"metrics\":{\"executor_time_ms\":296,\"executor_cpu_time_ms\":155}}}",
         "{\"metrics\":{\"executor_time_ms\":296,\"executor_cpu_time_ms\":155}}",
         null
        ],
        [
         "5b106830-6ea0-11f0-a268-aa11d67e9c2a",
         "flow_progress",
         "{\"flow_progress\":{\"metrics\":{\"executor_time_ms\":327,\"executor_cpu_time_ms\":139}}}",
         "{\"metrics\":{\"executor_time_ms\":327,\"executor_cpu_time_ms\":139}}",
         null
        ],
        [
         "5b108f40-6ea0-11f0-a268-aa11d67e9c2a",
         "flow_progress",
         "{\"flow_progress\":{\"metrics\":{\"executor_time_ms\":2145,\"executor_cpu_time_ms\":550}}}",
         "{\"metrics\":{\"executor_time_ms\":2145,\"executor_cpu_time_ms\":550}}",
         null
        ],
        [
         "5b10b650-6ea0-11f0-a268-aa11d67e9c2a",
         "flow_progress",
         "{\"flow_progress\":{\"metrics\":{\"executor_time_ms\":379,\"executor_cpu_time_ms\":178}}}",
         "{\"metrics\":{\"executor_time_ms\":379,\"executor_cpu_time_ms\":178}}",
         null
        ],
        [
         "5b10dd60-6ea0-11f0-a268-aa11d67e9c2a",
         "flow_progress",
         "{\"flow_progress\":{\"metrics\":{\"executor_time_ms\":456,\"executor_cpu_time_ms\":284}}}",
         "{\"metrics\":{\"executor_time_ms\":456,\"executor_cpu_time_ms\":284}}",
         null
        ],
        [
         "5b112b80-6ea0-11f0-a268-aa11d67e9c2a",
         "flow_progress",
         "{\"flow_progress\":{\"metrics\":{\"executor_time_ms\":5845,\"executor_cpu_time_ms\":2063}}}",
         "{\"metrics\":{\"executor_time_ms\":5845,\"executor_cpu_time_ms\":2063}}",
         null
        ],
        [
         "5b115290-6ea0-11f0-a268-aa11d67e9c2a",
         "update_progress",
         "{\"update_progress\":{\"state\":\"COMPLETED\"}}",
         null,
         null
        ],
        [
         "db7620a0-6ea0-11f0-a268-aa11d67e9c2a",
         "flow_progress",
         "{\"flow_progress\":{\"status\":\"STARTING\"}}",
         "{\"status\":\"STARTING\"}",
         null
        ],
        [
         "dba260c0-6ea0-11f0-a268-aa11d67e9c2a",
         "flow_progress",
         "{\"flow_progress\":{\"status\":\"RUNNING\",\"metrics\":{\"backlog_bytes\":0,\"backlog_files\":0}}}",
         "{\"status\":\"RUNNING\",\"metrics\":{\"backlog_bytes\":0,\"backlog_files\":0}}",
         null
        ],
        [
         "dc0fefa0-6ea0-11f0-a268-aa11d67e9c2a",
         "flow_progress",
         "{\"flow_progress\":{\"status\":\"PLANNING\"}}",
         "{\"status\":\"PLANNING\"}",
         null
        ],
        [
         "de249ed0-6ea0-11f0-a268-aa11d67e9c2a",
         "aggregated_flow_metrics",
         "{\"aggregated_flow_metrics\":{\"executor_time_ms\":0,\"executor_cpu_time_ms\":0}}",
         null,
         null
        ],
        [
         "e0c95900-6ea0-11f0-a268-aa11d67e9c2a",
         "planning_information",
         "{\"planning_information\":{\"technique_information\":[{\"maintenance_type\":\"MAINTENANCE_TYPE_NO_OP\",\"incrementalization_issues\":[{\"issue_type\":\"DATA_HAS_CHANGED\",\"prevent_incrementalization\":true}]},{\"maintenance_type\":\"MAINTENANCE_TYPE_COMPLETE_RECOMPUTE\",\"is_chosen\":false,\"is_applicable\":true,\"cost\":1169855.0},{\"maintenance_type\":\"MAINTENANCE_TYPE_APPEND_ONLY\",\"is_chosen\":true,\"is_applicable\":true,\"cost\":797548.0}],\"source_table_information\":[{\"table_id\":\"4f59ae67-2d5e-4523-8700-f788e4855363\",\"full_size\":12626.0,\"num_rows\":946,\"num_files\":2,\"change_size\":5767.0,\"num_changed_rows\":410,\"num_rows_in_changed_files\":410,\"num_changed_files\":1,\"change_file_read_size\":5767.0,\"is_size_after_pruning\":true,\"is_row_id_enabled\":true,\"is_cdf_enabled\":true,\"is_deletion_vector_enabled\":true,\"is_change_from_legacy_cdf\":false},{\"table_id\":\"d5f7414c-d9fe-49b9-965f-1af66e757836\",\"full_size\":7042.0,\"num_rows\":272,\"num_files\":2,\"change_size\":2918.0,\"num_changed_rows\":98,\"num_rows_in_changed_files\":98,\"num_changed_files\":1,\"change_file_read_size\":2918.0,\"is_size_after_pruning\":true,\"is_row_id_enabled\":true,\"is_cdf_enabled\":true,\"is_deletion_vector_enabled\":true,\"is_change_from_legacy_cdf\":false}],\"target_table_information\":{\"table_name\":\"`labuser11058730_1754017152`.`3_gold_db`.`full_order_info_gold_demo5`\",\"table_id\":\"0eabdda1-f3f9-4614-a4af-cbf7916be303\",\"full_size\":9997.0,\"is_row_id_enabled\":true,\"is_cdf_enabled\":true,\"is_deletion_vector_enabled\":true},\"planning_wall_time_ms\":7762}}",
         null,
         null
        ],
        [
         "e0ca1c50-6ea0-11f0-a268-aa11d67e9c2a",
         "flow_progress",
         "{\"flow_progress\":{\"status\":\"STARTING\"}}",
         "{\"status\":\"STARTING\"}",
         null
        ],
        [
         "e1072550-6ea0-11f0-a268-aa11d67e9c2a",
         "flow_progress",
         "{\"flow_progress\":{\"status\":\"RUNNING\",\"metrics\":{\"backlog_bytes\":22586,\"backlog_files\":5}}}",
         "{\"status\":\"RUNNING\",\"metrics\":{\"backlog_bytes\":22586,\"backlog_files\":5}}",
         null
        ],
        [
         "e20f94a0-6ea0-11f0-a268-aa11d67e9c2a",
         "aggregated_flow_metrics",
         "{\"aggregated_flow_metrics\":{\"executor_time_ms\":0,\"executor_cpu_time_ms\":0}}",
         null,
         null
        ],
        [
         "e261ac40-6ea0-11f0-a268-aa11d67e9c2a",
         "flow_progress",
         "{\"flow_progress\":{\"status\":\"COMPLETED\",\"metrics\":{\"num_output_rows\":11},\"data_quality\":{\"dropped_records\":0}}}",
         "{\"status\":\"COMPLETED\",\"metrics\":{\"num_output_rows\":11},\"data_quality\":{\"dropped_records\":0}}",
         null
        ],
        [
         "e3a3f040-6ea0-11f0-a268-aa11d67e9c2a",
         "flow_progress",
         "{\"flow_progress\":{\"status\":\"COMPLETED\",\"metrics\":{\"num_output_rows\":946},\"data_quality\":{\"dropped_records\":0}}}",
         "{\"status\":\"COMPLETED\",\"metrics\":{\"num_output_rows\":946},\"data_quality\":{\"dropped_records\":0}}",
         null
        ],
        [
         "e4080940-6ea0-11f0-a268-aa11d67e9c2a",
         "flow_progress",
         "{\"flow_progress\":{\"status\":\"PLANNING\"}}",
         "{\"status\":\"PLANNING\"}",
         null
        ],
        [
         "e5ac1c50-6ea0-11f0-a268-aa11d67e9c2a",
         "planning_information",
         "{\"planning_information\":{\"technique_information\":[{\"maintenance_type\":\"MAINTENANCE_TYPE_NO_OP\",\"incrementalization_issues\":[{\"issue_type\":\"DATA_HAS_CHANGED\",\"prevent_incrementalization\":true}]},{\"maintenance_type\":\"MAINTENANCE_TYPE_COMPLETE_RECOMPUTE\",\"is_chosen\":false,\"is_applicable\":true,\"cost\":14308.0},{\"maintenance_type\":\"MAINTENANCE_TYPE_APPEND_ONLY\",\"is_chosen\":true,\"is_applicable\":true,\"cost\":6919.0}],\"source_table_information\":[{\"table_name\":\"`labuser11058730_1754017152`.`3_gold_db`.`full_order_info_gold_demo5`\",\"table_id\":\"0eabdda1-f3f9-4614-a4af-cbf7916be303\",\"catalog_table_type\":\"MATERIALIZED_VIEW\",\"full_size\":19358.0,\"num_rows\":946,\"num_files\":2,\"change_size\":9361.0,\"num_changed_rows\":410,\"num_rows_in_changed_files\":410,\"num_changed_files\":1,\"change_file_read_size\":9361.0,\"is_size_after_pruning\":true,\"is_row_id_enabled\":true,\"is_cdf_enabled\":true,\"is_deletion_vector_enabled\":true,\"is_change_from_legacy_cdf\":false}],\"target_table_information\":{\"table_name\":\"`labuser11058730_1754017152`.`3_gold_db`.`cancelled_orders_gold_demo5`\",\"table_id\":\"cadc933b-69aa-44fd-97f3-18a891588e27\",\"full_size\":2373.0,\"is_row_id_enabled\":true,\"is_cdf_enabled\":true,\"is_deletion_vector_enabled\":true},\"planning_wall_time_ms\":2663}}",
         null,
         null
        ],
        [
         "e5ad06b0-6ea0-11f0-a268-aa11d67e9c2a",
         "flow_progress",
         "{\"flow_progress\":{\"status\":\"STARTING\"}}",
         "{\"status\":\"STARTING\"}",
         null
        ],
        [
         "e5ad54d0-6ea0-11f0-a268-aa11d67e9c2a",
         "flow_progress",
         "{\"flow_progress\":{\"status\":\"PLANNING\"}}",
         "{\"status\":\"PLANNING\"}",
         null
        ],
        [
         "e5afc5d0-6ea0-11f0-a268-aa11d67e9c2a",
         "flow_progress",
         "{\"flow_progress\":{\"status\":\"RUNNING\",\"metrics\":{\"backlog_bytes\":0,\"backlog_files\":0}}}",
         "{\"status\":\"RUNNING\",\"metrics\":{\"backlog_bytes\":0,\"backlog_files\":0}}",
         null
        ],
        [
         "e67a68d0-6ea0-11f0-a268-aa11d67e9c2a",
         "aggregated_flow_metrics",
         "{\"aggregated_flow_metrics\":{\"executor_time_ms\":0,\"executor_cpu_time_ms\":0}}",
         null,
         null
        ],
        [
         "e7aa8460-6ea0-11f0-a268-aa11d67e9c2a",
         "planning_information",
         "{\"planning_information\":{\"technique_information\":[{\"maintenance_type\":\"MAINTENANCE_TYPE_NO_OP\",\"incrementalization_issues\":[{\"issue_type\":\"DATA_HAS_CHANGED\",\"prevent_incrementalization\":true}]},{\"maintenance_type\":\"MAINTENANCE_TYPE_COMPLETE_RECOMPUTE\",\"is_chosen\":false,\"is_applicable\":true,\"cost\":14308.0},{\"maintenance_type\":\"MAINTENANCE_TYPE_APPEND_ONLY\",\"is_chosen\":true,\"is_applicable\":true,\"cost\":6919.0}],\"source_table_information\":[{\"table_name\":\"`labuser11058730_1754017152`.`3_gold_db`.`full_order_info_gold_demo5`\",\"table_id\":\"0eabdda1-f3f9-4614-a4af-cbf7916be303\",\"catalog_table_type\":\"MATERIALIZED_VIEW\",\"full_size\":19358.0,\"num_rows\":946,\"num_files\":2,\"change_size\":9361.0,\"num_changed_rows\":410,\"num_rows_in_changed_files\":410,\"num_changed_files\":1,\"change_file_read_size\":9361.0,\"is_size_after_pruning\":true,\"is_row_id_enabled\":true,\"is_cdf_enabled\":true,\"is_deletion_vector_enabled\":true,\"is_change_from_legacy_cdf\":false}],\"target_table_information\":{\"table_name\":\"`labuser11058730_1754017152`.`3_gold_db`.`delivered_orders_gold_demo5`\",\"table_id\":\"2fc9af5c-295c-4569-9905-9dd40863f71a\",\"full_size\":4177.0,\"is_row_id_enabled\":true,\"is_cdf_enabled\":true,\"is_deletion_vector_enabled\":true},\"planning_wall_time_ms\":3222}}",
         null,
         null
        ],
        [
         "e7aaf990-6ea0-11f0-a268-aa11d67e9c2a",
         "flow_progress",
         "{\"flow_progress\":{\"status\":\"STARTING\"}}",
         "{\"status\":\"STARTING\"}",
         null
        ],
        [
         "e7ac5920-6ea0-11f0-a268-aa11d67e9c2a",
         "flow_progress",
         "{\"flow_progress\":{\"status\":\"RUNNING\",\"metrics\":{\"backlog_bytes\":0,\"backlog_files\":0}}}",
         "{\"status\":\"RUNNING\",\"metrics\":{\"backlog_bytes\":0,\"backlog_files\":0}}",
         null
        ],
        [
         "e854ce20-6ea0-11f0-a268-aa11d67e9c2a",
         "aggregated_flow_metrics",
         "{\"aggregated_flow_metrics\":{\"executor_time_ms\":0,\"executor_cpu_time_ms\":0}}",
         null,
         null
        ],
        [
         "e95c7a20-6ea0-11f0-a268-aa11d67e9c2a",
         "flow_progress",
         "{\"flow_progress\":{\"status\":\"COMPLETED\",\"metrics\":{\"num_output_rows\":21},\"data_quality\":{\"dropped_records\":0}}}",
         "{\"status\":\"COMPLETED\",\"metrics\":{\"num_output_rows\":21},\"data_quality\":{\"dropped_records\":0}}",
         null
        ],
        [
         "ea7e3dd0-6ea0-11f0-a268-aa11d67e9c2a",
         "flow_progress",
         "{\"flow_progress\":{\"status\":\"COMPLETED\",\"metrics\":{\"num_output_rows\":176},\"data_quality\":{\"dropped_records\":0}}}",
         "{\"status\":\"COMPLETED\",\"metrics\":{\"num_output_rows\":176},\"data_quality\":{\"dropped_records\":0}}",
         null
        ],
        [
         "eb7288e0-6ea0-11f0-a268-aa11d67e9c2a",
         "flow_progress",
         "{\"flow_progress\":{\"metrics\":{\"executor_time_ms\":542,\"executor_cpu_time_ms\":270}}}",
         "{\"metrics\":{\"executor_time_ms\":542,\"executor_cpu_time_ms\":270}}",
         null
        ],
        [
         "eb72aff0-6ea0-11f0-a268-aa11d67e9c2a",
         "flow_progress",
         "{\"flow_progress\":{\"metrics\":{\"executor_time_ms\":1227,\"executor_cpu_time_ms\":220}}}",
         "{\"metrics\":{\"executor_time_ms\":1227,\"executor_cpu_time_ms\":220}}",
         null
        ],
        [
         "eb72d700-6ea0-11f0-a268-aa11d67e9c2a",
         "flow_progress",
         "{\"flow_progress\":{\"metrics\":{\"executor_time_ms\":291,\"executor_cpu_time_ms\":121}}}",
         "{\"metrics\":{\"executor_time_ms\":291,\"executor_cpu_time_ms\":121}}",
         null
        ],
        [
         "eb72fe10-6ea0-11f0-a268-aa11d67e9c2a",
         "flow_progress",
         "{\"flow_progress\":{\"metrics\":{\"executor_time_ms\":381,\"executor_cpu_time_ms\":223}}}",
         "{\"metrics\":{\"executor_time_ms\":381,\"executor_cpu_time_ms\":223}}",
         null
        ],
        [
         "eb732520-6ea0-11f0-a268-aa11d67e9c2a",
         "flow_progress",
         "{\"flow_progress\":{\"metrics\":{\"executor_time_ms\":608,\"executor_cpu_time_ms\":215}}}",
         "{\"metrics\":{\"executor_time_ms\":608,\"executor_cpu_time_ms\":215}}",
         null
        ],
        [
         "eb734c30-6ea0-11f0-a268-aa11d67e9c2a",
         "flow_progress",
         "{\"flow_progress\":{\"metrics\":{\"executor_time_ms\":229,\"executor_cpu_time_ms\":75}}}",
         "{\"metrics\":{\"executor_time_ms\":229,\"executor_cpu_time_ms\":75}}",
         null
        ],
        [
         "eb737340-6ea0-11f0-a268-aa11d67e9c2a",
         "flow_progress",
         "{\"flow_progress\":{\"metrics\":{\"executor_time_ms\":221,\"executor_cpu_time_ms\":80}}}",
         "{\"metrics\":{\"executor_time_ms\":221,\"executor_cpu_time_ms\":80}}",
         null
        ],
        [
         "eb739a50-6ea0-11f0-a268-aa11d67e9c2a",
         "flow_progress",
         "{\"flow_progress\":{\"metrics\":{\"executor_time_ms\":269,\"executor_cpu_time_ms\":122}}}",
         "{\"metrics\":{\"executor_time_ms\":269,\"executor_cpu_time_ms\":122}}",
         null
        ],
        [
         "eb73c160-6ea0-11f0-a268-aa11d67e9c2a",
         "flow_progress",
         "{\"flow_progress\":{\"metrics\":{\"executor_time_ms\":2409,\"executor_cpu_time_ms\":1475}}}",
         "{\"metrics\":{\"executor_time_ms\":2409,\"executor_cpu_time_ms\":1475}}",
         null
        ],
        [
         "eb740f80-6ea0-11f0-a268-aa11d67e9c2a",
         "update_progress",
         "{\"update_progress\":{\"state\":\"COMPLETED\"}}",
         null,
         null
        ]
       ],
       "datasetInfos": [],
       "dbfsResultPath": null,
       "isJsonSchema": true,
       "metadata": {},
       "overflow": false,
       "plotOptions": {
        "customPlotOptions": {},
        "displayType": "table",
        "pivotAggregation": null,
        "pivotColumns": null,
        "xColumns": null,
        "yColumns": null
       },
       "removedWidgets": [],
       "schema": [
        {
         "metadata": "{}",
         "name": "id",
         "type": "\"string\""
        },
        {
         "metadata": "{}",
         "name": "event_type",
         "type": "\"string\""
        },
        {
         "metadata": "{}",
         "name": "details",
         "type": "\"string\""
        },
        {
         "metadata": "{}",
         "name": "flow_progress",
         "type": "\"string\""
        },
        {
         "metadata": "{}",
         "name": "user_action",
         "type": "\"string\""
        }
       ],
       "type": "table"
      }
     },
     "output_type": "display_data"
    }
   ],
   "source": [
    "SELECT\n",
    "  id,\n",
    "  event_type,\n",
    "  details,\n",
    "  details:flow_progress,\n",
    "  details:user_action\n",
    "FROM default.event_log_demo_5"
   ]
  },
  {
   "cell_type": "markdown",
   "metadata": {
    "application/vnd.databricks.v1+cell": {
     "cellMetadata": {},
     "inputWidgets": {},
     "nuid": "b7b0c874-54f4-4c42-b975-3f636d09ac32",
     "showTitle": false,
     "tableResultSettingsMap": {},
     "title": ""
    }
   },
   "source": [
    "4. One use case for the event log is to examine data quality metrics for all runs of your pipeline. These metrics provide valuable insights into your pipeline, both in the short term and long term. Metrics are captured for each constraint throughout the entire lifetime of the table.\n",
    "\n",
    "   Below is an example query to obtain those metrics. We won’t dive into the JSON parsing code here. This example simply demonstrates what’s possible with the **event_log**.\n",
    "\n",
    "   Run the cell and observe the results. Notice the following:\n",
    "   - The **passing_records** for each constraint are displayed.\n",
    "   - The **failing_records** (WARN) for each constraint are displayed.\n",
    "\n",
    "**NOTE:** If you have selected **Run pipeline with full table refresh** at any time during your pipeline, your results will include metrics from previous runs as well as from the full refresh. Additional logic is required to isolate results after the full table refresh. This is outside the scope of this course.\n"
   ]
  },
  {
   "cell_type": "code",
   "execution_count": 0,
   "metadata": {
    "application/vnd.databricks.v1+cell": {
     "cellMetadata": {
      "byteLimit": 2048000,
      "rowLimit": 10000
     },
     "inputWidgets": {},
     "nuid": "e708b09e-6ce9-41d2-85e4-69cc1f6923fb",
     "showTitle": false,
     "tableResultSettingsMap": {},
     "title": ""
    }
   },
   "outputs": [
    {
     "output_type": "display_data",
     "data": {
      "text/html": [
       "<style scoped>\n",
       "  .table-result-container {\n",
       "    max-height: 300px;\n",
       "    overflow: auto;\n",
       "  }\n",
       "  table, th, td {\n",
       "    border: 1px solid black;\n",
       "    border-collapse: collapse;\n",
       "  }\n",
       "  th, td {\n",
       "    padding: 5px;\n",
       "  }\n",
       "  th {\n",
       "    text-align: left;\n",
       "  }\n",
       "</style><div class='table-result-container'><table class='table-result'><thead style='background-color: white'><tr><th>dataset</th><th>expectation</th><th>passing_records</th><th>warnings_records</th></tr></thead><tbody><tr><td>labuser11058730_1754017152.2_silver_db.orders_silver_demo5</td><td>valid_date</td><td>272</td><td>0</td></tr><tr><td>labuser11058730_1754017152.2_silver_db.orders_silver_demo5</td><td>valid_id</td><td>272</td><td>0</td></tr><tr><td>labuser11058730_1754017152.2_silver_db.orders_silver_demo5</td><td>valid_notifications</td><td>272</td><td>0</td></tr><tr><td>labuser11058730_1754017152.2_silver_db.status_silver_demo5</td><td>valid_order_status</td><td>885</td><td>61</td></tr><tr><td>labuser11058730_1754017152.2_silver_db.status_silver_demo5</td><td>valid_timestamp</td><td>946</td><td>0</td></tr></tbody></table></div>"
      ]
     },
     "metadata": {
      "application/vnd.databricks.v1+output": {
       "addedWidgets": {},
       "aggData": [],
       "aggError": "",
       "aggOverflow": false,
       "aggSchema": [],
       "aggSeriesLimitReached": false,
       "aggType": "",
       "arguments": {},
       "columnCustomDisplayInfos": {},
       "data": [
        [
         "labuser11058730_1754017152.2_silver_db.orders_silver_demo5",
         "valid_date",
         272,
         0
        ],
        [
         "labuser11058730_1754017152.2_silver_db.orders_silver_demo5",
         "valid_id",
         272,
         0
        ],
        [
         "labuser11058730_1754017152.2_silver_db.orders_silver_demo5",
         "valid_notifications",
         272,
         0
        ],
        [
         "labuser11058730_1754017152.2_silver_db.status_silver_demo5",
         "valid_order_status",
         885,
         61
        ],
        [
         "labuser11058730_1754017152.2_silver_db.status_silver_demo5",
         "valid_timestamp",
         946,
         0
        ]
       ],
       "datasetInfos": [],
       "dbfsResultPath": null,
       "isJsonSchema": true,
       "metadata": {
        "isDbfsCommandResult": false
       },
       "overflow": false,
       "plotOptions": {
        "customPlotOptions": {},
        "displayType": "table",
        "pivotAggregation": null,
        "pivotColumns": null,
        "xColumns": null,
        "yColumns": null
       },
       "removedWidgets": [],
       "schema": [
        {
         "metadata": "{}",
         "name": "dataset",
         "type": "\"string\""
        },
        {
         "metadata": "{}",
         "name": "expectation",
         "type": "\"string\""
        },
        {
         "metadata": "{}",
         "name": "passing_records",
         "type": "\"long\""
        },
        {
         "metadata": "{}",
         "name": "warnings_records",
         "type": "\"long\""
        }
       ],
       "type": "table"
      }
     },
     "output_type": "display_data"
    }
   ],
   "source": [
    "CREATE OR REPLACE TEMPORARY VIEW dq_source_vw AS\n",
    "SELECT explode(\n",
    "            from_json(details:flow_progress:data_quality:expectations,\n",
    "                      \"array<struct<name: string, dataset: string, passed_records: int, failed_records: int>>\")\n",
    "          ) AS row_expectations\n",
    "   FROM default.event_log_demo_5\n",
    "   WHERE event_type = 'flow_progress';\n",
    "\n",
    "\n",
    "-- View the data\n",
    "SELECT \n",
    "  row_expectations.dataset as dataset,\n",
    "  row_expectations.name as expectation,\n",
    "  SUM(row_expectations.passed_records) as passing_records,\n",
    "  SUM(row_expectations.failed_records) as warnings_records\n",
    "FROM dq_source_vw\n",
    "GROUP BY row_expectations.dataset, row_expectations.name\n",
    "ORDER BY dataset;"
   ]
  },
  {
   "cell_type": "markdown",
   "metadata": {
    "application/vnd.databricks.v1+cell": {
     "cellMetadata": {},
     "inputWidgets": {},
     "nuid": "e3179196-eacb-4a59-8c56-93056d5cec83",
     "showTitle": false,
     "tableResultSettingsMap": {},
     "title": ""
    }
   },
   "source": [
    "### Summary\n",
    "\n",
    "This was a quick introduction to the pipeline **event_log**. With the **event_log**, you can investigate all aspects of your pipeline runs to explore the runs as well as create overall reports. Feel free to investigate the **event_log** further on your own."
   ]
  },
  {
   "cell_type": "markdown",
   "metadata": {
    "application/vnd.databricks.v1+cell": {
     "cellMetadata": {},
     "inputWidgets": {},
     "nuid": "3ca7788e-6eed-4063-bbd3-07297f1e2051",
     "showTitle": false,
     "tableResultSettingsMap": {},
     "title": ""
    }
   },
   "source": [
    "## Additional Resources\n",
    "\n",
    "- [Lakeflow Declarative Pipelines properties reference](https://docs.databricks.com/aws/en/dlt/properties#dlt-table-properties)\n",
    "\n",
    "- [Table properties and table options](https://docs.databricks.com/aws/en/sql/language-manual/sql-ref-syntax-ddl-tblproperties)\n",
    "\n",
    "- [Triggered vs. continuous pipeline mode](https://docs.databricks.com/aws/en/dlt/pipeline-mode)\n",
    "\n",
    "- [Development and production modes](https://docs.databricks.com/aws/en/dlt/updates#development-and-production-modes)\n",
    "\n",
    "- [Monitor Lakeflow Declarative Pipelines](https://docs.databricks.com/aws/en/dlt/observability)\n",
    "\n",
    "- **Materialized views include built-in optimizations where applicable:**\n",
    "  - [Incremental refresh for materialized views](https://docs.databricks.com/aws/en/optimizations/incremental-refresh)\n",
    "  - [Delta Live Tables Announces New Capabilities and Performance Optimizations](https://www.databricks.com/blog/2022/06/29/delta-live-tables-announces-new-capabilities-and-performance-optimizations.html)\n",
    "  - [Cost-effective, incremental ETL with serverless compute for Delta Live Tables pipelines](https://www.databricks.com/blog/cost-effective-incremental-etl-serverless-compute-delta-live-tables-pipelines)\n",
    "\n",
    "- **Stateful joins:** For stateful joins in pipelines (i.e., joining incrementally as data is ingested), refer to the [Optimize stateful processing in Lakeflow Declarative Pipelines with watermarks](https://docs.databricks.com/aws/en/dlt/stateful-processing) documentation. **Stateful joins are an advanced topic and outside the scope of this course.**"
   ]
  },
  {
   "cell_type": "markdown",
   "metadata": {
    "application/vnd.databricks.v1+cell": {
     "cellMetadata": {},
     "inputWidgets": {},
     "nuid": "10d62e42-16a3-4985-bda6-e157508385da",
     "showTitle": false,
     "tableResultSettingsMap": {},
     "title": ""
    }
   },
   "source": [
    "\n",
    "&copy; 2025 Databricks, Inc. All rights reserved. Apache, Apache Spark, Spark, the Spark Logo, Apache Iceberg, Iceberg, and the Apache Iceberg logo are trademarks of the <a href=\"https://www.apache.org/\" target=\"blank\">Apache Software Foundation</a>.<br/>\n",
    "<br/><a href=\"https://databricks.com/privacy-policy\" target=\"blank\">Privacy Policy</a> | \n",
    "<a href=\"https://databricks.com/terms-of-use\" target=\"blank\">Terms of Use</a> | \n",
    "<a href=\"https://help.databricks.com/\" target=\"blank\">Support</a>"
   ]
  }
 ],
 "metadata": {
  "application/vnd.databricks.v1+notebook": {
   "computePreferences": null,
   "dashboards": [],
   "environmentMetadata": null,
   "inputWidgetPreferences": null,
   "language": "sql",
   "notebookMetadata": {
    "mostRecentlyExecutedCommandWithImplicitDF": {
     "commandId": 841731085777085,
     "dataframes": [
      "_sqldf"
     ]
    },
    "pythonIndentUnit": 4
   },
   "notebookName": "5 - Deploying a Pipeline to Production",
   "widgets": {}
  },
  "language_info": {
   "name": "sql"
  }
 },
 "nbformat": 4,
 "nbformat_minor": 0
}