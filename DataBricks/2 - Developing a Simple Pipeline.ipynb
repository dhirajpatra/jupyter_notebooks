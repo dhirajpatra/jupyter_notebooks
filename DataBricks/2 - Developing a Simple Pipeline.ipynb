{
 "cells": [
  {
   "cell_type": "markdown",
   "metadata": {
    "application/vnd.databricks.v1+cell": {
     "cellMetadata": {},
     "inputWidgets": {},
     "nuid": "6d5989ef-1c8a-4542-9cc3-1df85ad26575",
     "showTitle": false,
     "tableResultSettingsMap": {},
     "title": ""
    }
   },
   "source": [
    "\n",
    "<div style=\"text-align: center; line-height: 0; padding-top: 9px;\">\n",
    "  <img src=\"https://databricks.com/wp-content/uploads/2018/03/db-academy-rgb-1200px.png\" alt=\"Databricks Learning\">\n",
    "</div>\n"
   ]
  },
  {
   "cell_type": "markdown",
   "metadata": {
    "application/vnd.databricks.v1+cell": {
     "cellMetadata": {},
     "inputWidgets": {},
     "nuid": "022e1b0c-3549-4e6c-b27e-60c0e64f362c",
     "showTitle": false,
     "tableResultSettingsMap": {},
     "title": ""
    }
   },
   "source": [
    "# 2 - Developing a Simple Pipeline\n",
    "\n",
    "In this demonstration, we will create a simple Lakeflow Declarative Pipeline project using the new **ETL Pipeline multi-file editor** with declarative SQL.\n",
    "\n",
    "\n",
    "### Learning Objectives\n",
    "\n",
    "By the end of this lesson, you will be able to:\n",
    "- Describe the SQL syntax used to create a Lakeflow Declarative Pipeline.\n",
    "- Navigate the Lakeflow Declarative Pipeline ETL Pipeline multi-file editor to modify pipeline settings and ingest the raw data source file(s).\n",
    "- Create, execute and monitor a Lakeflow Declarative Pipeline."
   ]
  },
  {
   "cell_type": "markdown",
   "metadata": {
    "application/vnd.databricks.v1+cell": {
     "cellMetadata": {},
     "inputWidgets": {},
     "nuid": "cd02482f-18c3-4846-9f4f-0e642ecccb7b",
     "showTitle": false,
     "tableResultSettingsMap": {},
     "title": ""
    }
   },
   "source": [
    "## REQUIRED - SELECT CLASSIC COMPUTE\n",
    "\n",
    "Before executing cells in this notebook, please select your classic compute cluster in the lab. Be aware that **Serverless** is enabled by default.\n",
    "\n",
    "Follow these steps to select the classic compute cluster:\n",
    "\n",
    "1. Navigate to the top-right of this notebook and click the drop-down menu to select your cluster. By default, the notebook will use **Serverless**.\n",
    "\n",
    "1. If your cluster is available, select it and continue to the next cell. If the cluster is not shown:\n",
    "\n",
    "    - In the drop-down, select **More**.\n",
    "\n",
    "    - In the **Attach to an existing compute resource** pop-up, select the first drop-down. You will see a unique cluster name in that drop-down. Please select that cluster.\n",
    "\n",
    "**NOTE:** If your cluster has terminated, you might need to restart it in order to select it. To do this:\n",
    "\n",
    "1. Right-click on **Compute** in the left navigation pane and select *Open in new tab*.\n",
    "\n",
    "1. Find the triangle icon to the right of your compute cluster name and click it.\n",
    "\n",
    "1. Wait a few minutes for the cluster to start.\n",
    "\n",
    "1. Once the cluster is running, complete the steps above to select your cluster."
   ]
  },
  {
   "cell_type": "markdown",
   "metadata": {
    "application/vnd.databricks.v1+cell": {
     "cellMetadata": {},
     "inputWidgets": {},
     "nuid": "5d4e1dbe-4c75-46d1-9a0b-58f32fbc2c5d",
     "showTitle": false,
     "tableResultSettingsMap": {},
     "title": ""
    }
   },
   "source": [
    "## A. Classroom Setup\n",
    "\n",
    "Run the following cell to configure your working environment for this course.\n",
    "\n",
    "This cell will also reset your `/Volumes/dbacademy/ops/labuser/` volume with the JSON files to the starting point, with one JSON file in each volume.\n",
    "\n",
    "**NOTE:** The `DA` object is only used in Databricks Academy courses and is not available outside of these courses. It will dynamically create and reference the information needed to run the course."
   ]
  },
  {
   "cell_type": "code",
   "execution_count": 0,
   "metadata": {
    "application/vnd.databricks.v1+cell": {
     "cellMetadata": {
      "byteLimit": 2048000,
      "implicitDf": true,
      "rowLimit": 10000
     },
     "inputWidgets": {},
     "nuid": "44694a12-0c62-4f3b-ab9e-d0951dd83613",
     "showTitle": false,
     "tableResultSettingsMap": {},
     "title": ""
    }
   },
   "outputs": [
    {
     "output_type": "stream",
     "name": "stdout",
     "output_type": "stream",
     "text": [
      "\u001B[43mNote: you may need to restart the kernel using %restart_python or dbutils.library.restartPython() to use updated packages.\u001B[0m\n"
     ]
    },
    {
     "output_type": "display_data",
     "data": {
      "text/html": [
       "<style scoped>\n",
       "  .table-result-container {\n",
       "    max-height: 300px;\n",
       "    overflow: auto;\n",
       "  }\n",
       "  table, th, td {\n",
       "    border: 1px solid black;\n",
       "    border-collapse: collapse;\n",
       "  }\n",
       "  th, td {\n",
       "    padding: 5px;\n",
       "  }\n",
       "  th {\n",
       "    text-align: left;\n",
       "  }\n",
       "</style><div class='table-result-container'><table class='table-result'><thead style='background-color: white'><tr></tr></thead><tbody></tbody></table></div>"
      ]
     },
     "metadata": {
      "application/vnd.databricks.v1+output": {
       "addedWidgets": {},
       "aggData": [],
       "aggError": "",
       "aggOverflow": false,
       "aggSchema": [],
       "aggSeriesLimitReached": false,
       "aggType": "",
       "arguments": {},
       "columnCustomDisplayInfos": {},
       "data": [],
       "datasetInfos": [],
       "dbfsResultPath": null,
       "isJsonSchema": true,
       "metadata": {},
       "overflow": false,
       "plotOptions": {
        "customPlotOptions": {},
        "displayType": "table",
        "pivotAggregation": null,
        "pivotColumns": null,
        "xColumns": null,
        "yColumns": null
       },
       "removedWidgets": [],
       "schema": [],
       "type": "table"
      }
     },
     "output_type": "display_data"
    },
    {
     "output_type": "stream",
     "name": "stdout",
     "output_type": "stream",
     "text": [
      "Schema labuser11058730_1754017152.1_bronze_db already exists. No action taken.\nSchema labuser11058730_1754017152.2_silver_db already exists. No action taken.\nSchema labuser11058730_1754017152.3_gold_db already exists. No action taken.\n----------------------------------------------------------------------------------------\nDirectory /Volumes/dbacademy/ops/labuser11058730_1754017152@vocareum_com/customers already exists. No action taken.\nDirectory /Volumes/dbacademy/ops/labuser11058730_1754017152@vocareum_com/orders already exists. No action taken.\nDirectory /Volumes/dbacademy/ops/labuser11058730_1754017152@vocareum_com/status already exists. No action taken.\n----------------------------------------------------------------------------------------\n\n\nSearching for files in /Volumes/dbacademy/ops/labuser11058730_1754017152@vocareum_com/customers/ volume to delete prior to creating files...\nDeleting file: /Volumes/dbacademy/ops/labuser11058730_1754017152@vocareum_com/customers/00.json\n\nSearching for files in /Volumes/dbacademy/ops/labuser11058730_1754017152@vocareum_com/orders/ volume to delete prior to creating files...\nDeleting file: /Volumes/dbacademy/ops/labuser11058730_1754017152@vocareum_com/orders/00.json\n\nSearching for files in /Volumes/dbacademy/ops/labuser11058730_1754017152@vocareum_com/status/ volume to delete prior to creating files...\nDeleting file: /Volumes/dbacademy/ops/labuser11058730_1754017152@vocareum_com/status/00.json\n\n----------------Loading files to user's volume: '/Volumes/dbacademy/ops/labuser11058730_1754017152@vocareum_com/customers'----------------\nFile number 1 - Copying file /Volumes/dbacademy_retail/v01/retail-pipeline/customers/stream_json/00.json --> /Volumes/dbacademy/ops/labuser11058730_1754017152@vocareum_com/customers/00.json.\n\n----------------Loading files to user's volume: '/Volumes/dbacademy/ops/labuser11058730_1754017152@vocareum_com/orders'----------------\nFile number 1 - Copying file /Volumes/dbacademy_retail/v01/retail-pipeline/orders/stream_json/00.json --> /Volumes/dbacademy/ops/labuser11058730_1754017152@vocareum_com/orders/00.json.\n\n----------------Loading files to user's volume: '/Volumes/dbacademy/ops/labuser11058730_1754017152@vocareum_com/status'----------------\nFile number 1 - Copying file /Volumes/dbacademy_retail/v01/retail-pipeline/status/stream_json/00.json --> /Volumes/dbacademy/ops/labuser11058730_1754017152@vocareum_com/status/00.json.\n\n\n\n------------------------------------------------------------------------------\nSETUP COMPLETE!\n------------------------------------------------------------------------------\n"
     ]
    },
    {
     "output_type": "stream",
     "name": "stdout",
     "output_type": "stream",
     "text": [
      "Schemas are available, lab check passed: ['1_bronze_db', '2_silver_db', '3_gold_db'].\n"
     ]
    },
    {
     "output_type": "display_data",
     "data": {
      "text/html": [
       "<table style=\"width:100%\">\n",
       "        <tr>\n",
       "            <td style=\"white-space:nowrap; width:1em\">Your catalog name variable reference: DA.catalog_name:</td>\n",
       "            <td><input type=\"text\" value=\"labuser11058730_1754017152\" style=\"width: 100%\"></td></tr>\n",
       "        <tr>\n",
       "            <td style=\"white-space:nowrap; width:1em\">Variable reference to your source files (Python - DA.paths.working_dir, SQL - DA.paths_working_dir):</td>\n",
       "            <td><input type=\"text\" value=\"/Volumes/dbacademy/ops/labuser11058730_1754017152@vocareum_com\" style=\"width: 100%\"></td></tr></table>"
      ]
     },
     "metadata": {},
     "output_type": "display_data"
    }
   ],
   "source": [
    "%run ./Includes/Classroom-Setup-2"
   ]
  },
  {
   "cell_type": "markdown",
   "metadata": {
    "application/vnd.databricks.v1+cell": {
     "cellMetadata": {},
     "inputWidgets": {},
     "nuid": "d69482a9-eab6-47d8-bfce-d2d2894280e4",
     "showTitle": false,
     "tableResultSettingsMap": {},
     "title": ""
    }
   },
   "source": [
    "## B. Developing and Running a Lakeflow Declarative  Pipeline with the ETL Pipeline Multi-File Editor\n",
    "\n",
    "This course includes a simple, pre-configured Lakeflow Declarative Pipeline to explore and modify. In this section, we will:\n",
    "\n",
    "- Explore the ETL Pipeline multi-file editor and the declarative SQL syntax  \n",
    "- Modify pipeline settings  \n",
    "- Run the Lakeflow Declarative Pipeline and explore the streaming tables and materialized view."
   ]
  },
  {
   "cell_type": "markdown",
   "metadata": {
    "application/vnd.databricks.v1+cell": {
     "cellMetadata": {},
     "inputWidgets": {},
     "nuid": "f591bd43-429f-4baa-a97d-c01d3951d5ce",
     "showTitle": false,
     "tableResultSettingsMap": {},
     "title": ""
    }
   },
   "source": [
    "1. Run the cell below and **copy the path** from the output cell to your **dbacademy.ops.labuser** volume. You will need this path when modifying your pipeline settings. \n",
    "\n",
    "   This volume path contains the **orders**, **status** and **customer** directories, which contain the raw JSON files.\n",
    "\n",
    "   **EXAMPLE PATH**: `/Volumes/dbacademy/ops/labuser1234_5678@vocareum.com`"
   ]
  },
  {
   "cell_type": "code",
   "execution_count": 0,
   "metadata": {
    "application/vnd.databricks.v1+cell": {
     "cellMetadata": {
      "byteLimit": 2048000,
      "rowLimit": 10000
     },
     "inputWidgets": {},
     "nuid": "c4c19db7-116c-4cb5-9b43-93734dfe85f2",
     "showTitle": true,
     "tableResultSettingsMap": {},
     "title": "Path to data source files"
    }
   },
   "outputs": [
    {
     "output_type": "stream",
     "name": "stdout",
     "output_type": "stream",
     "text": [
      "/Volumes/dbacademy/ops/labuser11058730_1754017152@vocareum_com\n"
     ]
    }
   ],
   "source": [
    "%python\n",
    "print(DA.paths.working_dir)"
   ]
  },
  {
   "cell_type": "markdown",
   "metadata": {
    "application/vnd.databricks.v1+cell": {
     "cellMetadata": {},
     "inputWidgets": {},
     "nuid": "403f2b9a-07c5-49e6-9451-0e5b21445bca",
     "showTitle": false,
     "tableResultSettingsMap": {},
     "title": ""
    }
   },
   "source": [
    "2. In this course we have starter files for you to use in your pipeline. This demonstration uses the folder **2 - Developing a Simple Pipeline Project**. To create a pipeline and add existing assets to associate it with code files already available in your Workspace (including Git folders) complete the following:\n",
    "\n",
    "   a. In the left navigation bar, select the **Folder** ![Folder Icon](./Includes/images/folder_icon.png) icon to open the Workspace navigation.\n",
    "\n",
    "   b. Navigate to the **Build Data Pipelines with Lakeflow Declarative Pipelines** folder (you may already be there).\n",
    "\n",
    "   c. **(PLEASE READ)** For ease of use, open this same notebook in a separate tab:\n",
    "\n",
    "    - Right-click the notebook in the left navigation.\n",
    "\n",
    "    - Select **Open in a New Tab**.\n",
    "\n",
    "   d. In the new tab, click the **three-dot (ellipsis) icon** ![Ellipsis Icon](./Includes/images/ellipsis_icon.png) in the folder navigation bar.\n",
    "\n",
    "   e. Select **Create** → **ETL Pipeline**.\n",
    "\n",
    "   f. Complete the pipeline creation page with the following:\n",
    "\n",
    "    - **Name**: `Name-your-pipeline-using-this-notebook-name-add-your-first-name` \n",
    "    - **Default catalog**: Select your **labuser** catalog  \n",
    "    - **Default schema**: Select your **default** schema (database)\n",
    "\n",
    "   g. Select **Add existing assets**. In the popup, complete the following:\n",
    "\n",
    "    - **Pipeline root folder**: Select the **2 - Developing a Simple DLT Pipeline Project** folder (`/Workspace/Users/your-lab-user-name/build-data-pipelines-with-lakeflow-declarative-pipelines-3.0.0/Build Data Pipelines with Lakeflow Declarative Pipelines/2 - Developing a Simple DLT Pipeline Project`)\n",
    "\n",
    "    - **Source code paths**: Within the same root folder as above, select the **orders** folder (`/Workspace/Users/your-lab-user-name/build-data-pipelines-with-lakeflow-declarative-pipelines-3.0.0/Build Data Pipelines with Lakeflow Declarative Pipelines/2 - Developing a Simple DLT Pipeline Project/orders`)\n",
    "\n",
    "   h. Click **Add**, This will create a pipeline and associate the correct files for this demonstration.\n",
    "\n",
    "**Example**\n",
    "\n",
    "![Example Demo 2](./Includes/images/demo02_existing_assets.png)"
   ]
  },
  {
   "cell_type": "markdown",
   "metadata": {
    "application/vnd.databricks.v1+cell": {
     "cellMetadata": {},
     "inputWidgets": {},
     "nuid": "5b281d98-79ca-4358-b8fa-837a28a1cd7c",
     "showTitle": false,
     "tableResultSettingsMap": {},
     "title": ""
    }
   },
   "source": [
    "3. In the new window, select the **orders_pipeline.sql** file and follow the instructions in the file. Leave this notebook as you will use it later.\n",
    "\n",
    "![Orders File Directions](./Includes/images/demo02_select_orders_sql_file.png)"
   ]
  },
  {
   "cell_type": "markdown",
   "metadata": {
    "application/vnd.databricks.v1+cell": {
     "cellMetadata": {},
     "inputWidgets": {},
     "nuid": "b612969d-17e8-4b58-8025-e8972cdabc63",
     "showTitle": false,
     "tableResultSettingsMap": {},
     "title": ""
    }
   },
   "source": [
    "## C. Add a New File to Cloud Storage\n",
    "\n",
    "1. After exploring and executing the pipeline by following the instructions in the **`orders_pipeline.sql`** file, run the cell below to add a new JSON file (**01.json**) to your volume at:  `/Volumes/dbacademy/ops/labuser-your-id/orders`.\n",
    "\n",
    "   **NOTE:** If you receive the error `name 'DA' is not defined`, you will need to rerun the classroom setup script at the top of this notebook to create the `DA` object. This is required to correctly reference the path and successfully copy the file."
   ]
  },
  {
   "cell_type": "code",
   "execution_count": 0,
   "metadata": {
    "application/vnd.databricks.v1+cell": {
     "cellMetadata": {
      "byteLimit": 2048000,
      "rowLimit": 10000
     },
     "inputWidgets": {},
     "nuid": "3a1d8679-cc44-4a2d-8634-a2cbe626a27b",
     "showTitle": true,
     "tableResultSettingsMap": {},
     "title": "Add a new JSON file to the data source"
    }
   },
   "outputs": [
    {
     "output_type": "stream",
     "name": "stdout",
     "output_type": "stream",
     "text": [
      "\n----------------Loading files to user's volume: '/Volumes/dbacademy/ops/labuser11058730_1754017152@vocareum_com/orders'----------------\nFile number 1 - 00.json is already in the source volume \"/Volumes/dbacademy/ops/labuser11058730_1754017152@vocareum_com/orders\". Skipping file.\nFile number 2 - Copying file /Volumes/dbacademy_retail/v01/retail-pipeline/orders/stream_json/01.json --> /Volumes/dbacademy/ops/labuser11058730_1754017152@vocareum_com/orders/01.json.\n"
     ]
    }
   ],
   "source": [
    "%python\n",
    "copy_files('/Volumes/dbacademy_retail/v01/retail-pipeline/orders/stream_json', \n",
    "           f'{DA.paths.working_dir}/orders', \n",
    "           n = 2)"
   ]
  },
  {
   "cell_type": "markdown",
   "metadata": {
    "application/vnd.databricks.v1+cell": {
     "cellMetadata": {},
     "inputWidgets": {},
     "nuid": "ba00a449-c0c2-46de-ab37-3f013094ce83",
     "showTitle": false,
     "tableResultSettingsMap": {},
     "title": ""
    }
   },
   "source": [
    "2. Complete the following steps to view the new file in your volume:\n",
    "\n",
    "   a. Select the **Catalog** icon ![Catalog Icon](./Includes/images/catalog_icon.png) from the left navigation pane.  \n",
    "   \n",
    "   b. Expand your **dbacademy.ops.labuser** volume.  \n",
    "   \n",
    "   c. Expand the **orders** directory. You should see two files in your volume: **00.json** and **01.json**."
   ]
  },
  {
   "cell_type": "markdown",
   "metadata": {
    "application/vnd.databricks.v1+cell": {
     "cellMetadata": {},
     "inputWidgets": {},
     "nuid": "4866a142-c7a6-4f7a-bc89-6a464326effe",
     "showTitle": false,
     "tableResultSettingsMap": {},
     "title": ""
    }
   },
   "source": [
    "3. Run the cell below to view the data in the new **/orders/01.json** file. Notice the following:\n",
    "\n",
    "   - The **01.json** file contains new orders.  \n",
    "   - The **01.json** file has 25 rows.\n"
   ]
  },
  {
   "cell_type": "code",
   "execution_count": 0,
   "metadata": {
    "application/vnd.databricks.v1+cell": {
     "cellMetadata": {
      "byteLimit": 2048000,
      "rowLimit": 10000
     },
     "inputWidgets": {},
     "nuid": "9ce1f8e5-1bb0-4d67-919e-c24777b84553",
     "showTitle": true,
     "tableResultSettingsMap": {},
     "title": "Preview the 01.json file"
    }
   },
   "outputs": [
    {
     "output_type": "display_data",
     "data": {
      "text/html": [
       "<style scoped>\n",
       "  .table-result-container {\n",
       "    max-height: 300px;\n",
       "    overflow: auto;\n",
       "  }\n",
       "  table, th, td {\n",
       "    border: 1px solid black;\n",
       "    border-collapse: collapse;\n",
       "  }\n",
       "  th, td {\n",
       "    padding: 5px;\n",
       "  }\n",
       "  th {\n",
       "    text-align: left;\n",
       "  }\n",
       "</style><div class='table-result-container'><table class='table-result'><thead style='background-color: white'><tr><th>customer_id</th><th>notifications</th><th>order_id</th><th>order_timestamp</th></tr></thead><tbody><tr><td>23180</td><td>Y</td><td>75297</td><td>1640996822</td></tr><tr><td>23082</td><td>Y</td><td>75298</td><td>1641000470</td></tr><tr><td>23550</td><td>Y</td><td>75299</td><td>1641000707</td></tr><tr><td>23362</td><td>Y</td><td>75300</td><td>1641002550</td></tr><tr><td>23210</td><td>N</td><td>75301</td><td>1641003380</td></tr><tr><td>23489</td><td>N</td><td>75302</td><td>1641004093</td></tr><tr><td>23328</td><td>Y</td><td>75303</td><td>1641004638</td></tr><tr><td>23954</td><td>Y</td><td>75304</td><td>1641009857</td></tr><tr><td>23648</td><td>Y</td><td>75305</td><td>1641011274</td></tr><tr><td>23310</td><td>Y</td><td>75306</td><td>1641015380</td></tr><tr><td>23103</td><td>Y</td><td>75307</td><td>1641019649</td></tr><tr><td>23520</td><td>Y</td><td>75308</td><td>1641024875</td></tr><tr><td>23525</td><td>Y</td><td>75309</td><td>1641027378</td></tr><tr><td>23701</td><td>Y</td><td>75310</td><td>1641030683</td></tr><tr><td>23581</td><td>Y</td><td>75311</td><td>1641030689</td></tr><tr><td>22843</td><td>N</td><td>75312</td><td>1641031735</td></tr><tr><td>23697</td><td>N</td><td>75313</td><td>1641031941</td></tr><tr><td>22266</td><td>N</td><td>75314</td><td>1641046002</td></tr><tr><td>22448</td><td>Y</td><td>75315</td><td>1641054983</td></tr><tr><td>22447</td><td>N</td><td>75316</td><td>1641057356</td></tr><tr><td>23288</td><td>Y</td><td>75317</td><td>1641058714</td></tr><tr><td>23542</td><td>Y</td><td>75318</td><td>1641059215</td></tr><tr><td>23344</td><td>Y</td><td>75319</td><td>1641064749</td></tr><tr><td>23980</td><td>Y</td><td>75320</td><td>1641067354</td></tr><tr><td>23804</td><td>Y</td><td>75321</td><td>1641068705</td></tr></tbody></table></div>"
      ]
     },
     "metadata": {
      "application/vnd.databricks.v1+output": {
       "addedWidgets": {},
       "aggData": [],
       "aggError": "",
       "aggOverflow": false,
       "aggSchema": [],
       "aggSeriesLimitReached": false,
       "aggType": "",
       "arguments": {},
       "columnCustomDisplayInfos": {},
       "data": [
        [
         23180,
         "Y",
         75297,
         1640996822
        ],
        [
         23082,
         "Y",
         75298,
         1641000470
        ],
        [
         23550,
         "Y",
         75299,
         1641000707
        ],
        [
         23362,
         "Y",
         75300,
         1641002550
        ],
        [
         23210,
         "N",
         75301,
         1641003380
        ],
        [
         23489,
         "N",
         75302,
         1641004093
        ],
        [
         23328,
         "Y",
         75303,
         1641004638
        ],
        [
         23954,
         "Y",
         75304,
         1641009857
        ],
        [
         23648,
         "Y",
         75305,
         1641011274
        ],
        [
         23310,
         "Y",
         75306,
         1641015380
        ],
        [
         23103,
         "Y",
         75307,
         1641019649
        ],
        [
         23520,
         "Y",
         75308,
         1641024875
        ],
        [
         23525,
         "Y",
         75309,
         1641027378
        ],
        [
         23701,
         "Y",
         75310,
         1641030683
        ],
        [
         23581,
         "Y",
         75311,
         1641030689
        ],
        [
         22843,
         "N",
         75312,
         1641031735
        ],
        [
         23697,
         "N",
         75313,
         1641031941
        ],
        [
         22266,
         "N",
         75314,
         1641046002
        ],
        [
         22448,
         "Y",
         75315,
         1641054983
        ],
        [
         22447,
         "N",
         75316,
         1641057356
        ],
        [
         23288,
         "Y",
         75317,
         1641058714
        ],
        [
         23542,
         "Y",
         75318,
         1641059215
        ],
        [
         23344,
         "Y",
         75319,
         1641064749
        ],
        [
         23980,
         "Y",
         75320,
         1641067354
        ],
        [
         23804,
         "Y",
         75321,
         1641068705
        ]
       ],
       "datasetInfos": [],
       "dbfsResultPath": null,
       "isJsonSchema": true,
       "metadata": {},
       "overflow": false,
       "plotOptions": {
        "customPlotOptions": {},
        "displayType": "table",
        "pivotAggregation": null,
        "pivotColumns": null,
        "xColumns": null,
        "yColumns": null
       },
       "removedWidgets": [],
       "schema": [
        {
         "metadata": "{}",
         "name": "customer_id",
         "type": "\"long\""
        },
        {
         "metadata": "{}",
         "name": "notifications",
         "type": "\"string\""
        },
        {
         "metadata": "{}",
         "name": "order_id",
         "type": "\"long\""
        },
        {
         "metadata": "{}",
         "name": "order_timestamp",
         "type": "\"long\""
        }
       ],
       "type": "table"
      }
     },
     "output_type": "display_data"
    }
   ],
   "source": [
    "%python\n",
    "spark.sql(f'''\n",
    "  SELECT *\n",
    "  FROM json.`{DA.paths.working_dir}/orders/01.json`\n",
    "''').display()"
   ]
  },
  {
   "cell_type": "markdown",
   "metadata": {
    "application/vnd.databricks.v1+cell": {
     "cellMetadata": {},
     "inputWidgets": {},
     "nuid": "bffda0f9-cc9f-4361-b62d-696bedd66352",
     "showTitle": false,
     "tableResultSettingsMap": {},
     "title": ""
    }
   },
   "source": [
    "4. Go back to the **orders_pipeline.sql** file and select **Run Pipeline** to execute your ETL pipeline again with the new file (Step 13).  \n",
    "\n",
    "   Watch the pipeline run and notice only 25 rows are added to the bronze and silver tables. \n",
    "   \n",
    "   This happens because the pipeline has already processed the first **00.json** file (174 rows), and it is now only reading the new **01.json** file (25 rows), appending the rows to the streaming tables, and recomputing the materialized view with the latest data."
   ]
  },
  {
   "cell_type": "markdown",
   "metadata": {
    "application/vnd.databricks.v1+cell": {
     "cellMetadata": {},
     "inputWidgets": {},
     "nuid": "7af9caba-1cbc-4460-b6f7-d1d53116b52f",
     "showTitle": false,
     "tableResultSettingsMap": {},
     "title": ""
    }
   },
   "source": [
    "## D. Exploring Your Streaming Tables"
   ]
  },
  {
   "cell_type": "markdown",
   "metadata": {
    "application/vnd.databricks.v1+cell": {
     "cellMetadata": {},
     "inputWidgets": {},
     "nuid": "3490028a-138e-4da4-940c-d6904b93b50f",
     "showTitle": false,
     "tableResultSettingsMap": {},
     "title": ""
    }
   },
   "source": [
    "1. View the new streaming tables and materialized view in your catalog. Complete the following:\n",
    "\n",
    "   a. Select the catalog icon ![Catalog Icon](./Includes/images/catalog_icon.png) in the left navigation pane.\n",
    "\n",
    "   b. Expand your **labuser** catalog.\n",
    "\n",
    "   c. Expand the schemas **1_bronze_db**, **2_silver_db**, and **3_gold_db**. Notice that the two streaming tables and materialized view are correctly placed in your schemas.\n",
    "\n",
    "      - **labuser.1_bronze_db.orders_bronze_demo2**\n",
    "\n",
    "      - **labuser.2_silver_db.orders_silver_demo2**\n",
    "\n",
    "      - **labuser.3_gold_db.orders_by_date_gold_demo2**"
   ]
  },
  {
   "cell_type": "markdown",
   "metadata": {
    "application/vnd.databricks.v1+cell": {
     "cellMetadata": {},
     "inputWidgets": {},
     "nuid": "075fd791-cb1d-419f-9808-7b08d2014b65",
     "showTitle": false,
     "tableResultSettingsMap": {},
     "title": ""
    }
   },
   "source": [
    "2. Run the cell below to view the data in the **labuser.1_bronze_db.orders_bronze_demo2** table. Before you run the cell, how many rows should this streaming table have?\n",
    "\n",
    "   Notice that the following:\n",
    "      - The table contains 199 rows (**00.json** had 174 rows, and **01.json** had 25 rows).\n",
    "      - In the **source_file** column you can see the exact file the rows were ingested from.\n",
    "      - In the **processing_time** column you can see the exact time the rows were ingested."
   ]
  },
  {
   "cell_type": "code",
   "execution_count": 0,
   "metadata": {
    "application/vnd.databricks.v1+cell": {
     "cellMetadata": {
      "byteLimit": 2048000,
      "rowLimit": 10000
     },
     "inputWidgets": {},
     "nuid": "fbe8b9c3-05a5-4f5c-ac2f-8f78b0a740ac",
     "showTitle": true,
     "tableResultSettingsMap": {},
     "title": "View the streaming table"
    }
   },
   "outputs": [
    {
     "output_type": "display_data",
     "data": {
      "text/html": [
       "<style scoped>\n",
       "  .table-result-container {\n",
       "    max-height: 300px;\n",
       "    overflow: auto;\n",
       "  }\n",
       "  table, th, td {\n",
       "    border: 1px solid black;\n",
       "    border-collapse: collapse;\n",
       "  }\n",
       "  th, td {\n",
       "    padding: 5px;\n",
       "  }\n",
       "  th {\n",
       "    text-align: left;\n",
       "  }\n",
       "</style><div class='table-result-container'><table class='table-result'><thead style='background-color: white'><tr><th>customer_id</th><th>notifications</th><th>order_id</th><th>order_timestamp</th><th>_rescued_data</th><th>processing_time</th><th>source_file</th></tr></thead><tbody><tr><td>23094</td><td>Y</td><td>75123</td><td>1640392092</td><td>null</td><td>2025-08-01T05:32:46.26Z</td><td>00.json</td></tr><tr><td>23457</td><td>N</td><td>75124</td><td>1640392500</td><td>null</td><td>2025-08-01T05:32:46.26Z</td><td>00.json</td></tr><tr><td>23564</td><td>Y</td><td>75125</td><td>1640394862</td><td>null</td><td>2025-08-01T05:32:46.26Z</td><td>00.json</td></tr><tr><td>23392</td><td>N</td><td>75126</td><td>1640396067</td><td>null</td><td>2025-08-01T05:32:46.26Z</td><td>00.json</td></tr><tr><td>23101</td><td>Y</td><td>75127</td><td>1640399066</td><td>null</td><td>2025-08-01T05:32:46.26Z</td><td>00.json</td></tr><tr><td>23466</td><td>N</td><td>75128</td><td>1640404853</td><td>null</td><td>2025-08-01T05:32:46.26Z</td><td>00.json</td></tr><tr><td>23834</td><td>Y</td><td>75129</td><td>1640407272</td><td>null</td><td>2025-08-01T05:32:46.26Z</td><td>00.json</td></tr><tr><td>23852</td><td>Y</td><td>75130</td><td>1640419989</td><td>null</td><td>2025-08-01T05:32:46.26Z</td><td>00.json</td></tr><tr><td>23483</td><td>Y</td><td>75131</td><td>1640422131</td><td>null</td><td>2025-08-01T05:32:46.26Z</td><td>00.json</td></tr><tr><td>23821</td><td>N</td><td>75132</td><td>1640423697</td><td>null</td><td>2025-08-01T05:32:46.26Z</td><td>00.json</td></tr><tr><td>23907</td><td>Y</td><td>75133</td><td>1640427687</td><td>null</td><td>2025-08-01T05:32:46.26Z</td><td>00.json</td></tr><tr><td>23088</td><td>Y</td><td>75134</td><td>1640427813</td><td>null</td><td>2025-08-01T05:32:46.26Z</td><td>00.json</td></tr><tr><td>23327</td><td>Y</td><td>75135</td><td>1640432499</td><td>null</td><td>2025-08-01T05:32:46.26Z</td><td>00.json</td></tr><tr><td>23154</td><td>Y</td><td>75136</td><td>1640433629</td><td>null</td><td>2025-08-01T05:32:46.26Z</td><td>00.json</td></tr><tr><td>23818</td><td>Y</td><td>75137</td><td>1640434907</td><td>null</td><td>2025-08-01T05:32:46.26Z</td><td>00.json</td></tr><tr><td>23568</td><td>Y</td><td>75138</td><td>1640438599</td><td>null</td><td>2025-08-01T05:32:46.26Z</td><td>00.json</td></tr><tr><td>23599</td><td>Y</td><td>75139</td><td>1640441108</td><td>null</td><td>2025-08-01T05:32:46.26Z</td><td>00.json</td></tr><tr><td>23646</td><td>Y</td><td>75140</td><td>1640442728</td><td>null</td><td>2025-08-01T05:32:46.26Z</td><td>00.json</td></tr><tr><td>23447</td><td>Y</td><td>75141</td><td>1640442982</td><td>null</td><td>2025-08-01T05:32:46.26Z</td><td>00.json</td></tr><tr><td>22196</td><td>N</td><td>75142</td><td>1640444289</td><td>null</td><td>2025-08-01T05:32:46.26Z</td><td>00.json</td></tr><tr><td>23004</td><td>Y</td><td>75143</td><td>1640444735</td><td>null</td><td>2025-08-01T05:32:46.26Z</td><td>00.json</td></tr><tr><td>22457</td><td>Y</td><td>75144</td><td>1640453556</td><td>null</td><td>2025-08-01T05:32:46.26Z</td><td>00.json</td></tr><tr><td>23560</td><td>N</td><td>75145</td><td>1640454027</td><td>null</td><td>2025-08-01T05:32:46.26Z</td><td>00.json</td></tr><tr><td>23892</td><td>Y</td><td>75146</td><td>1640469617</td><td>null</td><td>2025-08-01T05:32:46.26Z</td><td>00.json</td></tr><tr><td>23270</td><td>N</td><td>75147</td><td>1640469849</td><td>null</td><td>2025-08-01T05:32:46.26Z</td><td>00.json</td></tr><tr><td>23318</td><td>Y</td><td>75148</td><td>1640470511</td><td>null</td><td>2025-08-01T05:32:46.26Z</td><td>00.json</td></tr><tr><td>23134</td><td>Y</td><td>75149</td><td>1640476865</td><td>null</td><td>2025-08-01T05:32:46.26Z</td><td>00.json</td></tr><tr><td>23631</td><td>Y</td><td>75150</td><td>1640479937</td><td>null</td><td>2025-08-01T05:32:46.26Z</td><td>00.json</td></tr><tr><td>23447</td><td>Y</td><td>75151</td><td>1640480642</td><td>null</td><td>2025-08-01T05:32:46.26Z</td><td>00.json</td></tr><tr><td>22980</td><td>Y</td><td>75152</td><td>1640489317</td><td>null</td><td>2025-08-01T05:32:46.26Z</td><td>00.json</td></tr><tr><td>23662</td><td>Y</td><td>75153</td><td>1640490661</td><td>null</td><td>2025-08-01T05:32:46.26Z</td><td>00.json</td></tr><tr><td>23128</td><td>Y</td><td>75154</td><td>1640491953</td><td>null</td><td>2025-08-01T05:32:46.26Z</td><td>00.json</td></tr><tr><td>23305</td><td>Y</td><td>75155</td><td>1640500820</td><td>null</td><td>2025-08-01T05:32:46.26Z</td><td>00.json</td></tr><tr><td>23790</td><td>Y</td><td>75156</td><td>1640506768</td><td>null</td><td>2025-08-01T05:32:46.26Z</td><td>00.json</td></tr><tr><td>23673</td><td>Y</td><td>75157</td><td>1640514816</td><td>null</td><td>2025-08-01T05:32:46.26Z</td><td>00.json</td></tr><tr><td>22447</td><td>Y</td><td>75158</td><td>1640516867</td><td>null</td><td>2025-08-01T05:32:46.26Z</td><td>00.json</td></tr><tr><td>22600</td><td>Y</td><td>75159</td><td>1640516913</td><td>null</td><td>2025-08-01T05:32:46.26Z</td><td>00.json</td></tr><tr><td>23598</td><td>Y</td><td>75160</td><td>1640517492</td><td>null</td><td>2025-08-01T05:32:46.26Z</td><td>00.json</td></tr><tr><td>23453</td><td>N</td><td>75161</td><td>1640521294</td><td>null</td><td>2025-08-01T05:32:46.26Z</td><td>00.json</td></tr><tr><td>22477</td><td>N</td><td>75162</td><td>1640526465</td><td>null</td><td>2025-08-01T05:32:46.26Z</td><td>00.json</td></tr><tr><td>23863</td><td>Y</td><td>75163</td><td>1640526485</td><td>null</td><td>2025-08-01T05:32:46.26Z</td><td>00.json</td></tr><tr><td>22485</td><td>N</td><td>75164</td><td>1640526860</td><td>null</td><td>2025-08-01T05:32:46.26Z</td><td>00.json</td></tr><tr><td>23786</td><td>N</td><td>75165</td><td>1640532784</td><td>null</td><td>2025-08-01T05:32:46.26Z</td><td>00.json</td></tr><tr><td>23833</td><td>N</td><td>75166</td><td>1640534000</td><td>null</td><td>2025-08-01T05:32:46.26Z</td><td>00.json</td></tr><tr><td>23242</td><td>N</td><td>75167</td><td>1640534721</td><td>null</td><td>2025-08-01T05:32:46.26Z</td><td>00.json</td></tr><tr><td>23120</td><td>Y</td><td>75168</td><td>1640548053</td><td>null</td><td>2025-08-01T05:32:46.26Z</td><td>00.json</td></tr><tr><td>23815</td><td>Y</td><td>75169</td><td>1640548610</td><td>null</td><td>2025-08-01T05:32:46.26Z</td><td>00.json</td></tr><tr><td>22757</td><td>Y</td><td>75170</td><td>1640548846</td><td>null</td><td>2025-08-01T05:32:46.26Z</td><td>00.json</td></tr><tr><td>23748</td><td>N</td><td>75171</td><td>1640552043</td><td>null</td><td>2025-08-01T05:32:46.26Z</td><td>00.json</td></tr><tr><td>23416</td><td>Y</td><td>75172</td><td>1640552112</td><td>null</td><td>2025-08-01T05:32:46.26Z</td><td>00.json</td></tr><tr><td>23218</td><td>N</td><td>75173</td><td>1640553981</td><td>null</td><td>2025-08-01T05:32:46.26Z</td><td>00.json</td></tr><tr><td>23867</td><td>Y</td><td>75174</td><td>1640564080</td><td>null</td><td>2025-08-01T05:32:46.26Z</td><td>00.json</td></tr><tr><td>23259</td><td>N</td><td>75175</td><td>1640567847</td><td>null</td><td>2025-08-01T05:32:46.26Z</td><td>00.json</td></tr><tr><td>22757</td><td>N</td><td>75176</td><td>1640569060</td><td>null</td><td>2025-08-01T05:32:46.26Z</td><td>00.json</td></tr><tr><td>22599</td><td>Y</td><td>75177</td><td>1640574553</td><td>null</td><td>2025-08-01T05:32:46.26Z</td><td>00.json</td></tr><tr><td>23606</td><td>Y</td><td>75178</td><td>1640575274</td><td>null</td><td>2025-08-01T05:32:46.26Z</td><td>00.json</td></tr><tr><td>23493</td><td>N</td><td>75179</td><td>1640575962</td><td>null</td><td>2025-08-01T05:32:46.26Z</td><td>00.json</td></tr><tr><td>22467</td><td>Y</td><td>75180</td><td>1640580049</td><td>null</td><td>2025-08-01T05:32:46.26Z</td><td>00.json</td></tr><tr><td>23828</td><td>Y</td><td>75181</td><td>1640582140</td><td>null</td><td>2025-08-01T05:32:46.26Z</td><td>00.json</td></tr><tr><td>22316</td><td>Y</td><td>75182</td><td>1640587536</td><td>null</td><td>2025-08-01T05:32:46.26Z</td><td>00.json</td></tr><tr><td>23061</td><td>Y</td><td>75183</td><td>1640594017</td><td>null</td><td>2025-08-01T05:32:46.26Z</td><td>00.json</td></tr><tr><td>23813</td><td>Y</td><td>75184</td><td>1640603248</td><td>null</td><td>2025-08-01T05:32:46.26Z</td><td>00.json</td></tr><tr><td>23358</td><td>Y</td><td>75185</td><td>1640611591</td><td>null</td><td>2025-08-01T05:32:46.26Z</td><td>00.json</td></tr><tr><td>23778</td><td>Y</td><td>75186</td><td>1640613010</td><td>null</td><td>2025-08-01T05:32:46.26Z</td><td>00.json</td></tr><tr><td>23477</td><td>Y</td><td>75187</td><td>1640618976</td><td>null</td><td>2025-08-01T05:32:46.26Z</td><td>00.json</td></tr><tr><td>23179</td><td>Y</td><td>75188</td><td>1640620853</td><td>null</td><td>2025-08-01T05:32:46.26Z</td><td>00.json</td></tr><tr><td>23769</td><td>Y</td><td>75189</td><td>1640625214</td><td>null</td><td>2025-08-01T05:32:46.26Z</td><td>00.json</td></tr><tr><td>23836</td><td>N</td><td>75190</td><td>1640625322</td><td>null</td><td>2025-08-01T05:32:46.26Z</td><td>00.json</td></tr><tr><td>22557</td><td>Y</td><td>75191</td><td>1640625597</td><td>null</td><td>2025-08-01T05:32:46.26Z</td><td>00.json</td></tr><tr><td>23359</td><td>Y</td><td>75192</td><td>1640631831</td><td>null</td><td>2025-08-01T05:32:46.26Z</td><td>00.json</td></tr><tr><td>23768</td><td>Y</td><td>75193</td><td>1640631849</td><td>null</td><td>2025-08-01T05:32:46.26Z</td><td>00.json</td></tr><tr><td>23669</td><td>Y</td><td>75194</td><td>1640633377</td><td>null</td><td>2025-08-01T05:32:46.26Z</td><td>00.json</td></tr><tr><td>23823</td><td>Y</td><td>75195</td><td>1640637588</td><td>null</td><td>2025-08-01T05:32:46.26Z</td><td>00.json</td></tr><tr><td>22296</td><td>Y</td><td>75196</td><td>1640642842</td><td>null</td><td>2025-08-01T05:32:46.26Z</td><td>00.json</td></tr><tr><td>23318</td><td>Y</td><td>75197</td><td>1640643224</td><td>null</td><td>2025-08-01T05:32:46.26Z</td><td>00.json</td></tr><tr><td>23219</td><td>N</td><td>75198</td><td>1640643721</td><td>null</td><td>2025-08-01T05:32:46.26Z</td><td>00.json</td></tr><tr><td>23072</td><td>Y</td><td>75199</td><td>1640653481</td><td>null</td><td>2025-08-01T05:32:46.26Z</td><td>00.json</td></tr><tr><td>23910</td><td>Y</td><td>75200</td><td>1640660661</td><td>null</td><td>2025-08-01T05:32:46.26Z</td><td>00.json</td></tr><tr><td>23833</td><td>Y</td><td>75201</td><td>1640665029</td><td>null</td><td>2025-08-01T05:32:46.26Z</td><td>00.json</td></tr><tr><td>23696</td><td>Y</td><td>75202</td><td>1640665868</td><td>null</td><td>2025-08-01T05:32:46.26Z</td><td>00.json</td></tr><tr><td>23815</td><td>Y</td><td>75203</td><td>1640665971</td><td>null</td><td>2025-08-01T05:32:46.26Z</td><td>00.json</td></tr><tr><td>23195</td><td>N</td><td>75204</td><td>1640671232</td><td>null</td><td>2025-08-01T05:32:46.26Z</td><td>00.json</td></tr><tr><td>23183</td><td>Y</td><td>75205</td><td>1640672063</td><td>null</td><td>2025-08-01T05:32:46.26Z</td><td>00.json</td></tr><tr><td>23367</td><td>N</td><td>75206</td><td>1640675667</td><td>null</td><td>2025-08-01T05:32:46.26Z</td><td>00.json</td></tr><tr><td>23088</td><td>Y</td><td>75207</td><td>1640675687</td><td>null</td><td>2025-08-01T05:32:46.26Z</td><td>00.json</td></tr><tr><td>22752</td><td>Y</td><td>75208</td><td>1640678086</td><td>null</td><td>2025-08-01T05:32:46.26Z</td><td>00.json</td></tr><tr><td>23326</td><td>Y</td><td>75209</td><td>1640681064</td><td>null</td><td>2025-08-01T05:32:46.26Z</td><td>00.json</td></tr><tr><td>23212</td><td>Y</td><td>75210</td><td>1640682880</td><td>null</td><td>2025-08-01T05:32:46.26Z</td><td>00.json</td></tr><tr><td>23524</td><td>Y</td><td>75211</td><td>1640684944</td><td>null</td><td>2025-08-01T05:32:46.26Z</td><td>00.json</td></tr><tr><td>23151</td><td>Y</td><td>75212</td><td>1640690706</td><td>null</td><td>2025-08-01T05:32:46.26Z</td><td>00.json</td></tr><tr><td>23582</td><td>Y</td><td>75213</td><td>1640691368</td><td>null</td><td>2025-08-01T05:32:46.26Z</td><td>00.json</td></tr><tr><td>23182</td><td>Y</td><td>75214</td><td>1640691634</td><td>null</td><td>2025-08-01T05:32:46.26Z</td><td>00.json</td></tr><tr><td>22826</td><td>Y</td><td>75215</td><td>1640696465</td><td>null</td><td>2025-08-01T05:32:46.26Z</td><td>00.json</td></tr><tr><td>23158</td><td>Y</td><td>75216</td><td>1640706768</td><td>null</td><td>2025-08-01T05:32:46.26Z</td><td>00.json</td></tr><tr><td>23343</td><td>Y</td><td>75217</td><td>1640717605</td><td>null</td><td>2025-08-01T05:32:46.26Z</td><td>00.json</td></tr><tr><td>23390</td><td>Y</td><td>75218</td><td>1640721908</td><td>null</td><td>2025-08-01T05:32:46.26Z</td><td>00.json</td></tr><tr><td>23574</td><td>Y</td><td>75219</td><td>1640725566</td><td>null</td><td>2025-08-01T05:32:46.26Z</td><td>00.json</td></tr><tr><td>23282</td><td>Y</td><td>75220</td><td>1640726897</td><td>null</td><td>2025-08-01T05:32:46.26Z</td><td>00.json</td></tr><tr><td>23206</td><td>N</td><td>75221</td><td>1640730881</td><td>null</td><td>2025-08-01T05:32:46.26Z</td><td>00.json</td></tr><tr><td>23811</td><td>Y</td><td>75222</td><td>1640731443</td><td>null</td><td>2025-08-01T05:32:46.26Z</td><td>00.json</td></tr><tr><td>23734</td><td>Y</td><td>75223</td><td>1640732281</td><td>null</td><td>2025-08-01T05:32:46.26Z</td><td>00.json</td></tr><tr><td>23284</td><td>N</td><td>75224</td><td>1640737911</td><td>null</td><td>2025-08-01T05:32:46.26Z</td><td>00.json</td></tr><tr><td>23397</td><td>Y</td><td>75225</td><td>1640741859</td><td>null</td><td>2025-08-01T05:32:46.26Z</td><td>00.json</td></tr><tr><td>23285</td><td>Y</td><td>75226</td><td>1640743461</td><td>null</td><td>2025-08-01T05:32:46.26Z</td><td>00.json</td></tr><tr><td>23443</td><td>Y</td><td>75227</td><td>1640744138</td><td>null</td><td>2025-08-01T05:32:46.26Z</td><td>00.json</td></tr><tr><td>23841</td><td>Y</td><td>75228</td><td>1640745536</td><td>null</td><td>2025-08-01T05:32:46.26Z</td><td>00.json</td></tr><tr><td>23489</td><td>Y</td><td>75229</td><td>1640745939</td><td>null</td><td>2025-08-01T05:32:46.26Z</td><td>00.json</td></tr><tr><td>23377</td><td>Y</td><td>75230</td><td>1640751789</td><td>null</td><td>2025-08-01T05:32:46.26Z</td><td>00.json</td></tr><tr><td>23519</td><td>Y</td><td>75231</td><td>1640753686</td><td>null</td><td>2025-08-01T05:32:46.26Z</td><td>00.json</td></tr><tr><td>23273</td><td>Y</td><td>75232</td><td>1640754906</td><td>null</td><td>2025-08-01T05:32:46.26Z</td><td>00.json</td></tr><tr><td>23942</td><td>Y</td><td>75233</td><td>1640755409</td><td>null</td><td>2025-08-01T05:32:46.26Z</td><td>00.json</td></tr><tr><td>23714</td><td>Y</td><td>75234</td><td>1640755921</td><td>null</td><td>2025-08-01T05:32:46.26Z</td><td>00.json</td></tr><tr><td>22959</td><td>N</td><td>75235</td><td>1640758650</td><td>null</td><td>2025-08-01T05:32:46.26Z</td><td>00.json</td></tr><tr><td>23642</td><td>Y</td><td>75236</td><td>1640763112</td><td>null</td><td>2025-08-01T05:32:46.26Z</td><td>00.json</td></tr><tr><td>23277</td><td>N</td><td>75237</td><td>1640781747</td><td>null</td><td>2025-08-01T05:32:46.26Z</td><td>00.json</td></tr><tr><td>23777</td><td>Y</td><td>75238</td><td>1640790253</td><td>null</td><td>2025-08-01T05:32:46.26Z</td><td>00.json</td></tr><tr><td>23748</td><td>N</td><td>75239</td><td>1640799146</td><td>null</td><td>2025-08-01T05:32:46.26Z</td><td>00.json</td></tr><tr><td>23511</td><td>Y</td><td>75240</td><td>1640799965</td><td>null</td><td>2025-08-01T05:32:46.26Z</td><td>00.json</td></tr><tr><td>23964</td><td>N</td><td>75241</td><td>1640800237</td><td>null</td><td>2025-08-01T05:32:46.26Z</td><td>00.json</td></tr><tr><td>23542</td><td>Y</td><td>75242</td><td>1640803027</td><td>null</td><td>2025-08-01T05:32:46.26Z</td><td>00.json</td></tr><tr><td>23842</td><td>Y</td><td>75243</td><td>1640805315</td><td>null</td><td>2025-08-01T05:32:46.26Z</td><td>00.json</td></tr><tr><td>23371</td><td>Y</td><td>75244</td><td>1640808136</td><td>null</td><td>2025-08-01T05:32:46.26Z</td><td>00.json</td></tr><tr><td>22895</td><td>Y</td><td>75245</td><td>1640809481</td><td>null</td><td>2025-08-01T05:32:46.26Z</td><td>00.json</td></tr><tr><td>23885</td><td>Y</td><td>75246</td><td>1640810227</td><td>null</td><td>2025-08-01T05:32:46.26Z</td><td>00.json</td></tr><tr><td>23875</td><td>Y</td><td>75247</td><td>1640812303</td><td>null</td><td>2025-08-01T05:32:46.26Z</td><td>00.json</td></tr><tr><td>23331</td><td>Y</td><td>75248</td><td>1640815265</td><td>null</td><td>2025-08-01T05:32:46.26Z</td><td>00.json</td></tr><tr><td>23218</td><td>N</td><td>75249</td><td>1640828420</td><td>null</td><td>2025-08-01T05:32:46.26Z</td><td>00.json</td></tr><tr><td>23779</td><td>N</td><td>75250</td><td>1640830827</td><td>null</td><td>2025-08-01T05:32:46.26Z</td><td>00.json</td></tr><tr><td>23187</td><td>N</td><td>75251</td><td>1640837025</td><td>null</td><td>2025-08-01T05:32:46.26Z</td><td>00.json</td></tr><tr><td>23435</td><td>Y</td><td>75252</td><td>1640837290</td><td>null</td><td>2025-08-01T05:32:46.26Z</td><td>00.json</td></tr><tr><td>23124</td><td>Y</td><td>75253</td><td>1640837302</td><td>null</td><td>2025-08-01T05:32:46.26Z</td><td>00.json</td></tr><tr><td>23215</td><td>N</td><td>75254</td><td>1640852084</td><td>null</td><td>2025-08-01T05:32:46.26Z</td><td>00.json</td></tr><tr><td>23863</td><td>Y</td><td>75255</td><td>1640857299</td><td>null</td><td>2025-08-01T05:32:46.26Z</td><td>00.json</td></tr><tr><td>23800</td><td>Y</td><td>75256</td><td>1640858077</td><td>null</td><td>2025-08-01T05:32:46.26Z</td><td>00.json</td></tr><tr><td>23503</td><td>N</td><td>75257</td><td>1640859758</td><td>null</td><td>2025-08-01T05:32:46.26Z</td><td>00.json</td></tr><tr><td>23755</td><td>Y</td><td>75258</td><td>1640862499</td><td>null</td><td>2025-08-01T05:32:46.26Z</td><td>00.json</td></tr><tr><td>23509</td><td>Y</td><td>75259</td><td>1640864646</td><td>null</td><td>2025-08-01T05:32:46.26Z</td><td>00.json</td></tr><tr><td>22338</td><td>N</td><td>75260</td><td>1640867193</td><td>null</td><td>2025-08-01T05:32:46.26Z</td><td>00.json</td></tr><tr><td>22935</td><td>Y</td><td>75261</td><td>1640869044</td><td>null</td><td>2025-08-01T05:32:46.26Z</td><td>00.json</td></tr><tr><td>23311</td><td>Y</td><td>75262</td><td>1640869535</td><td>null</td><td>2025-08-01T05:32:46.26Z</td><td>00.json</td></tr><tr><td>23819</td><td>Y</td><td>75263</td><td>1640869633</td><td>null</td><td>2025-08-01T05:32:46.26Z</td><td>00.json</td></tr><tr><td>23312</td><td>Y</td><td>75264</td><td>1640886912</td><td>null</td><td>2025-08-01T05:32:46.26Z</td><td>00.json</td></tr><tr><td>23484</td><td>Y</td><td>75265</td><td>1640888803</td><td>null</td><td>2025-08-01T05:32:46.26Z</td><td>00.json</td></tr><tr><td>23290</td><td>Y</td><td>75266</td><td>1640889524</td><td>null</td><td>2025-08-01T05:32:46.26Z</td><td>00.json</td></tr><tr><td>23558</td><td>Y</td><td>75267</td><td>1640889752</td><td>null</td><td>2025-08-01T05:32:46.26Z</td><td>00.json</td></tr><tr><td>23086</td><td>Y</td><td>75268</td><td>1640893693</td><td>null</td><td>2025-08-01T05:32:46.26Z</td><td>00.json</td></tr><tr><td>23822</td><td>Y</td><td>75269</td><td>1640895938</td><td>null</td><td>2025-08-01T05:32:46.26Z</td><td>00.json</td></tr><tr><td>23212</td><td>Y</td><td>75270</td><td>1640898363</td><td>null</td><td>2025-08-01T05:32:46.26Z</td><td>00.json</td></tr><tr><td>23715</td><td>Y</td><td>75271</td><td>1640902531</td><td>null</td><td>2025-08-01T05:32:46.26Z</td><td>00.json</td></tr><tr><td>22161</td><td>Y</td><td>75272</td><td>1640904968</td><td>null</td><td>2025-08-01T05:32:46.26Z</td><td>00.json</td></tr><tr><td>23882</td><td>Y</td><td>75273</td><td>1640909763</td><td>null</td><td>2025-08-01T05:32:46.26Z</td><td>00.json</td></tr><tr><td>23147</td><td>Y</td><td>75274</td><td>1640911244</td><td>null</td><td>2025-08-01T05:32:46.26Z</td><td>00.json</td></tr><tr><td>23577</td><td>Y</td><td>75275</td><td>1640911324</td><td>null</td><td>2025-08-01T05:32:46.26Z</td><td>00.json</td></tr><tr><td>23888</td><td>Y</td><td>75276</td><td>1640914350</td><td>null</td><td>2025-08-01T05:32:46.26Z</td><td>00.json</td></tr><tr><td>22815</td><td>Y</td><td>75277</td><td>1640922137</td><td>null</td><td>2025-08-01T05:32:46.26Z</td><td>00.json</td></tr><tr><td>23521</td><td>Y</td><td>75278</td><td>1640933033</td><td>null</td><td>2025-08-01T05:32:46.26Z</td><td>00.json</td></tr><tr><td>23887</td><td>Y</td><td>75279</td><td>1640933550</td><td>null</td><td>2025-08-01T05:32:46.26Z</td><td>00.json</td></tr><tr><td>23551</td><td>N</td><td>75280</td><td>1640933653</td><td>null</td><td>2025-08-01T05:32:46.26Z</td><td>00.json</td></tr><tr><td>23886</td><td>Y</td><td>75281</td><td>1640935059</td><td>null</td><td>2025-08-01T05:32:46.26Z</td><td>00.json</td></tr><tr><td>23376</td><td>Y</td><td>75282</td><td>1640935106</td><td>null</td><td>2025-08-01T05:32:46.26Z</td><td>00.json</td></tr><tr><td>23911</td><td>N</td><td>75283</td><td>1640941395</td><td>null</td><td>2025-08-01T05:32:46.26Z</td><td>00.json</td></tr><tr><td>23310</td><td>Y</td><td>75284</td><td>1640948702</td><td>null</td><td>2025-08-01T05:32:46.26Z</td><td>00.json</td></tr><tr><td>23109</td><td>N</td><td>75285</td><td>1640950790</td><td>null</td><td>2025-08-01T05:32:46.26Z</td><td>00.json</td></tr><tr><td>23291</td><td>Y</td><td>75286</td><td>1640953620</td><td>null</td><td>2025-08-01T05:32:46.26Z</td><td>00.json</td></tr><tr><td>23556</td><td>Y</td><td>75287</td><td>1640953917</td><td>null</td><td>2025-08-01T05:32:46.26Z</td><td>00.json</td></tr><tr><td>23581</td><td>Y</td><td>75288</td><td>1640958185</td><td>null</td><td>2025-08-01T05:32:46.26Z</td><td>00.json</td></tr><tr><td>23621</td><td>Y</td><td>75289</td><td>1640960321</td><td>null</td><td>2025-08-01T05:32:46.26Z</td><td>00.json</td></tr><tr><td>23365</td><td>Y</td><td>75290</td><td>1640963057</td><td>null</td><td>2025-08-01T05:32:46.26Z</td><td>00.json</td></tr><tr><td>23716</td><td>N</td><td>75291</td><td>1640971896</td><td>null</td><td>2025-08-01T05:32:46.26Z</td><td>00.json</td></tr><tr><td>23206</td><td>Y</td><td>75292</td><td>1640974381</td><td>null</td><td>2025-08-01T05:32:46.26Z</td><td>00.json</td></tr><tr><td>23027</td><td>Y</td><td>75293</td><td>1640984029</td><td>null</td><td>2025-08-01T05:32:46.26Z</td><td>00.json</td></tr><tr><td>23380</td><td>N</td><td>75294</td><td>1640987218</td><td>null</td><td>2025-08-01T05:32:46.26Z</td><td>00.json</td></tr><tr><td>22701</td><td>Y</td><td>75295</td><td>1640987527</td><td>null</td><td>2025-08-01T05:32:46.26Z</td><td>00.json</td></tr><tr><td>23766</td><td>Y</td><td>75296</td><td>1640990674</td><td>null</td><td>2025-08-01T05:32:46.26Z</td><td>00.json</td></tr><tr><td>23180</td><td>Y</td><td>75297</td><td>1640996822</td><td>null</td><td>2025-08-01T05:36:28.213Z</td><td>01.json</td></tr><tr><td>23082</td><td>Y</td><td>75298</td><td>1641000470</td><td>null</td><td>2025-08-01T05:36:28.213Z</td><td>01.json</td></tr><tr><td>23550</td><td>Y</td><td>75299</td><td>1641000707</td><td>null</td><td>2025-08-01T05:36:28.213Z</td><td>01.json</td></tr><tr><td>23362</td><td>Y</td><td>75300</td><td>1641002550</td><td>null</td><td>2025-08-01T05:36:28.213Z</td><td>01.json</td></tr><tr><td>23210</td><td>N</td><td>75301</td><td>1641003380</td><td>null</td><td>2025-08-01T05:36:28.213Z</td><td>01.json</td></tr><tr><td>23489</td><td>N</td><td>75302</td><td>1641004093</td><td>null</td><td>2025-08-01T05:36:28.213Z</td><td>01.json</td></tr><tr><td>23328</td><td>Y</td><td>75303</td><td>1641004638</td><td>null</td><td>2025-08-01T05:36:28.213Z</td><td>01.json</td></tr><tr><td>23954</td><td>Y</td><td>75304</td><td>1641009857</td><td>null</td><td>2025-08-01T05:36:28.213Z</td><td>01.json</td></tr><tr><td>23648</td><td>Y</td><td>75305</td><td>1641011274</td><td>null</td><td>2025-08-01T05:36:28.213Z</td><td>01.json</td></tr><tr><td>23310</td><td>Y</td><td>75306</td><td>1641015380</td><td>null</td><td>2025-08-01T05:36:28.213Z</td><td>01.json</td></tr><tr><td>23103</td><td>Y</td><td>75307</td><td>1641019649</td><td>null</td><td>2025-08-01T05:36:28.213Z</td><td>01.json</td></tr><tr><td>23520</td><td>Y</td><td>75308</td><td>1641024875</td><td>null</td><td>2025-08-01T05:36:28.213Z</td><td>01.json</td></tr><tr><td>23525</td><td>Y</td><td>75309</td><td>1641027378</td><td>null</td><td>2025-08-01T05:36:28.213Z</td><td>01.json</td></tr><tr><td>23701</td><td>Y</td><td>75310</td><td>1641030683</td><td>null</td><td>2025-08-01T05:36:28.213Z</td><td>01.json</td></tr><tr><td>23581</td><td>Y</td><td>75311</td><td>1641030689</td><td>null</td><td>2025-08-01T05:36:28.213Z</td><td>01.json</td></tr><tr><td>22843</td><td>N</td><td>75312</td><td>1641031735</td><td>null</td><td>2025-08-01T05:36:28.213Z</td><td>01.json</td></tr><tr><td>23697</td><td>N</td><td>75313</td><td>1641031941</td><td>null</td><td>2025-08-01T05:36:28.213Z</td><td>01.json</td></tr><tr><td>22266</td><td>N</td><td>75314</td><td>1641046002</td><td>null</td><td>2025-08-01T05:36:28.213Z</td><td>01.json</td></tr><tr><td>22448</td><td>Y</td><td>75315</td><td>1641054983</td><td>null</td><td>2025-08-01T05:36:28.213Z</td><td>01.json</td></tr><tr><td>22447</td><td>N</td><td>75316</td><td>1641057356</td><td>null</td><td>2025-08-01T05:36:28.213Z</td><td>01.json</td></tr><tr><td>23288</td><td>Y</td><td>75317</td><td>1641058714</td><td>null</td><td>2025-08-01T05:36:28.213Z</td><td>01.json</td></tr><tr><td>23542</td><td>Y</td><td>75318</td><td>1641059215</td><td>null</td><td>2025-08-01T05:36:28.213Z</td><td>01.json</td></tr><tr><td>23344</td><td>Y</td><td>75319</td><td>1641064749</td><td>null</td><td>2025-08-01T05:36:28.213Z</td><td>01.json</td></tr><tr><td>23980</td><td>Y</td><td>75320</td><td>1641067354</td><td>null</td><td>2025-08-01T05:36:28.213Z</td><td>01.json</td></tr><tr><td>23804</td><td>Y</td><td>75321</td><td>1641068705</td><td>null</td><td>2025-08-01T05:36:28.213Z</td><td>01.json</td></tr></tbody></table></div>"
      ]
     },
     "metadata": {
      "application/vnd.databricks.v1+output": {
       "addedWidgets": {},
       "aggData": [],
       "aggError": "",
       "aggOverflow": false,
       "aggSchema": [],
       "aggSeriesLimitReached": false,
       "aggType": "",
       "arguments": {},
       "columnCustomDisplayInfos": {},
       "data": [
        [
         23094,
         "Y",
         75123,
         1640392092,
         null,
         "2025-08-01T05:32:46.26Z",
         "00.json"
        ],
        [
         23457,
         "N",
         75124,
         1640392500,
         null,
         "2025-08-01T05:32:46.26Z",
         "00.json"
        ],
        [
         23564,
         "Y",
         75125,
         1640394862,
         null,
         "2025-08-01T05:32:46.26Z",
         "00.json"
        ],
        [
         23392,
         "N",
         75126,
         1640396067,
         null,
         "2025-08-01T05:32:46.26Z",
         "00.json"
        ],
        [
         23101,
         "Y",
         75127,
         1640399066,
         null,
         "2025-08-01T05:32:46.26Z",
         "00.json"
        ],
        [
         23466,
         "N",
         75128,
         1640404853,
         null,
         "2025-08-01T05:32:46.26Z",
         "00.json"
        ],
        [
         23834,
         "Y",
         75129,
         1640407272,
         null,
         "2025-08-01T05:32:46.26Z",
         "00.json"
        ],
        [
         23852,
         "Y",
         75130,
         1640419989,
         null,
         "2025-08-01T05:32:46.26Z",
         "00.json"
        ],
        [
         23483,
         "Y",
         75131,
         1640422131,
         null,
         "2025-08-01T05:32:46.26Z",
         "00.json"
        ],
        [
         23821,
         "N",
         75132,
         1640423697,
         null,
         "2025-08-01T05:32:46.26Z",
         "00.json"
        ],
        [
         23907,
         "Y",
         75133,
         1640427687,
         null,
         "2025-08-01T05:32:46.26Z",
         "00.json"
        ],
        [
         23088,
         "Y",
         75134,
         1640427813,
         null,
         "2025-08-01T05:32:46.26Z",
         "00.json"
        ],
        [
         23327,
         "Y",
         75135,
         1640432499,
         null,
         "2025-08-01T05:32:46.26Z",
         "00.json"
        ],
        [
         23154,
         "Y",
         75136,
         1640433629,
         null,
         "2025-08-01T05:32:46.26Z",
         "00.json"
        ],
        [
         23818,
         "Y",
         75137,
         1640434907,
         null,
         "2025-08-01T05:32:46.26Z",
         "00.json"
        ],
        [
         23568,
         "Y",
         75138,
         1640438599,
         null,
         "2025-08-01T05:32:46.26Z",
         "00.json"
        ],
        [
         23599,
         "Y",
         75139,
         1640441108,
         null,
         "2025-08-01T05:32:46.26Z",
         "00.json"
        ],
        [
         23646,
         "Y",
         75140,
         1640442728,
         null,
         "2025-08-01T05:32:46.26Z",
         "00.json"
        ],
        [
         23447,
         "Y",
         75141,
         1640442982,
         null,
         "2025-08-01T05:32:46.26Z",
         "00.json"
        ],
        [
         22196,
         "N",
         75142,
         1640444289,
         null,
         "2025-08-01T05:32:46.26Z",
         "00.json"
        ],
        [
         23004,
         "Y",
         75143,
         1640444735,
         null,
         "2025-08-01T05:32:46.26Z",
         "00.json"
        ],
        [
         22457,
         "Y",
         75144,
         1640453556,
         null,
         "2025-08-01T05:32:46.26Z",
         "00.json"
        ],
        [
         23560,
         "N",
         75145,
         1640454027,
         null,
         "2025-08-01T05:32:46.26Z",
         "00.json"
        ],
        [
         23892,
         "Y",
         75146,
         1640469617,
         null,
         "2025-08-01T05:32:46.26Z",
         "00.json"
        ],
        [
         23270,
         "N",
         75147,
         1640469849,
         null,
         "2025-08-01T05:32:46.26Z",
         "00.json"
        ],
        [
         23318,
         "Y",
         75148,
         1640470511,
         null,
         "2025-08-01T05:32:46.26Z",
         "00.json"
        ],
        [
         23134,
         "Y",
         75149,
         1640476865,
         null,
         "2025-08-01T05:32:46.26Z",
         "00.json"
        ],
        [
         23631,
         "Y",
         75150,
         1640479937,
         null,
         "2025-08-01T05:32:46.26Z",
         "00.json"
        ],
        [
         23447,
         "Y",
         75151,
         1640480642,
         null,
         "2025-08-01T05:32:46.26Z",
         "00.json"
        ],
        [
         22980,
         "Y",
         75152,
         1640489317,
         null,
         "2025-08-01T05:32:46.26Z",
         "00.json"
        ],
        [
         23662,
         "Y",
         75153,
         1640490661,
         null,
         "2025-08-01T05:32:46.26Z",
         "00.json"
        ],
        [
         23128,
         "Y",
         75154,
         1640491953,
         null,
         "2025-08-01T05:32:46.26Z",
         "00.json"
        ],
        [
         23305,
         "Y",
         75155,
         1640500820,
         null,
         "2025-08-01T05:32:46.26Z",
         "00.json"
        ],
        [
         23790,
         "Y",
         75156,
         1640506768,
         null,
         "2025-08-01T05:32:46.26Z",
         "00.json"
        ],
        [
         23673,
         "Y",
         75157,
         1640514816,
         null,
         "2025-08-01T05:32:46.26Z",
         "00.json"
        ],
        [
         22447,
         "Y",
         75158,
         1640516867,
         null,
         "2025-08-01T05:32:46.26Z",
         "00.json"
        ],
        [
         22600,
         "Y",
         75159,
         1640516913,
         null,
         "2025-08-01T05:32:46.26Z",
         "00.json"
        ],
        [
         23598,
         "Y",
         75160,
         1640517492,
         null,
         "2025-08-01T05:32:46.26Z",
         "00.json"
        ],
        [
         23453,
         "N",
         75161,
         1640521294,
         null,
         "2025-08-01T05:32:46.26Z",
         "00.json"
        ],
        [
         22477,
         "N",
         75162,
         1640526465,
         null,
         "2025-08-01T05:32:46.26Z",
         "00.json"
        ],
        [
         23863,
         "Y",
         75163,
         1640526485,
         null,
         "2025-08-01T05:32:46.26Z",
         "00.json"
        ],
        [
         22485,
         "N",
         75164,
         1640526860,
         null,
         "2025-08-01T05:32:46.26Z",
         "00.json"
        ],
        [
         23786,
         "N",
         75165,
         1640532784,
         null,
         "2025-08-01T05:32:46.26Z",
         "00.json"
        ],
        [
         23833,
         "N",
         75166,
         1640534000,
         null,
         "2025-08-01T05:32:46.26Z",
         "00.json"
        ],
        [
         23242,
         "N",
         75167,
         1640534721,
         null,
         "2025-08-01T05:32:46.26Z",
         "00.json"
        ],
        [
         23120,
         "Y",
         75168,
         1640548053,
         null,
         "2025-08-01T05:32:46.26Z",
         "00.json"
        ],
        [
         23815,
         "Y",
         75169,
         1640548610,
         null,
         "2025-08-01T05:32:46.26Z",
         "00.json"
        ],
        [
         22757,
         "Y",
         75170,
         1640548846,
         null,
         "2025-08-01T05:32:46.26Z",
         "00.json"
        ],
        [
         23748,
         "N",
         75171,
         1640552043,
         null,
         "2025-08-01T05:32:46.26Z",
         "00.json"
        ],
        [
         23416,
         "Y",
         75172,
         1640552112,
         null,
         "2025-08-01T05:32:46.26Z",
         "00.json"
        ],
        [
         23218,
         "N",
         75173,
         1640553981,
         null,
         "2025-08-01T05:32:46.26Z",
         "00.json"
        ],
        [
         23867,
         "Y",
         75174,
         1640564080,
         null,
         "2025-08-01T05:32:46.26Z",
         "00.json"
        ],
        [
         23259,
         "N",
         75175,
         1640567847,
         null,
         "2025-08-01T05:32:46.26Z",
         "00.json"
        ],
        [
         22757,
         "N",
         75176,
         1640569060,
         null,
         "2025-08-01T05:32:46.26Z",
         "00.json"
        ],
        [
         22599,
         "Y",
         75177,
         1640574553,
         null,
         "2025-08-01T05:32:46.26Z",
         "00.json"
        ],
        [
         23606,
         "Y",
         75178,
         1640575274,
         null,
         "2025-08-01T05:32:46.26Z",
         "00.json"
        ],
        [
         23493,
         "N",
         75179,
         1640575962,
         null,
         "2025-08-01T05:32:46.26Z",
         "00.json"
        ],
        [
         22467,
         "Y",
         75180,
         1640580049,
         null,
         "2025-08-01T05:32:46.26Z",
         "00.json"
        ],
        [
         23828,
         "Y",
         75181,
         1640582140,
         null,
         "2025-08-01T05:32:46.26Z",
         "00.json"
        ],
        [
         22316,
         "Y",
         75182,
         1640587536,
         null,
         "2025-08-01T05:32:46.26Z",
         "00.json"
        ],
        [
         23061,
         "Y",
         75183,
         1640594017,
         null,
         "2025-08-01T05:32:46.26Z",
         "00.json"
        ],
        [
         23813,
         "Y",
         75184,
         1640603248,
         null,
         "2025-08-01T05:32:46.26Z",
         "00.json"
        ],
        [
         23358,
         "Y",
         75185,
         1640611591,
         null,
         "2025-08-01T05:32:46.26Z",
         "00.json"
        ],
        [
         23778,
         "Y",
         75186,
         1640613010,
         null,
         "2025-08-01T05:32:46.26Z",
         "00.json"
        ],
        [
         23477,
         "Y",
         75187,
         1640618976,
         null,
         "2025-08-01T05:32:46.26Z",
         "00.json"
        ],
        [
         23179,
         "Y",
         75188,
         1640620853,
         null,
         "2025-08-01T05:32:46.26Z",
         "00.json"
        ],
        [
         23769,
         "Y",
         75189,
         1640625214,
         null,
         "2025-08-01T05:32:46.26Z",
         "00.json"
        ],
        [
         23836,
         "N",
         75190,
         1640625322,
         null,
         "2025-08-01T05:32:46.26Z",
         "00.json"
        ],
        [
         22557,
         "Y",
         75191,
         1640625597,
         null,
         "2025-08-01T05:32:46.26Z",
         "00.json"
        ],
        [
         23359,
         "Y",
         75192,
         1640631831,
         null,
         "2025-08-01T05:32:46.26Z",
         "00.json"
        ],
        [
         23768,
         "Y",
         75193,
         1640631849,
         null,
         "2025-08-01T05:32:46.26Z",
         "00.json"
        ],
        [
         23669,
         "Y",
         75194,
         1640633377,
         null,
         "2025-08-01T05:32:46.26Z",
         "00.json"
        ],
        [
         23823,
         "Y",
         75195,
         1640637588,
         null,
         "2025-08-01T05:32:46.26Z",
         "00.json"
        ],
        [
         22296,
         "Y",
         75196,
         1640642842,
         null,
         "2025-08-01T05:32:46.26Z",
         "00.json"
        ],
        [
         23318,
         "Y",
         75197,
         1640643224,
         null,
         "2025-08-01T05:32:46.26Z",
         "00.json"
        ],
        [
         23219,
         "N",
         75198,
         1640643721,
         null,
         "2025-08-01T05:32:46.26Z",
         "00.json"
        ],
        [
         23072,
         "Y",
         75199,
         1640653481,
         null,
         "2025-08-01T05:32:46.26Z",
         "00.json"
        ],
        [
         23910,
         "Y",
         75200,
         1640660661,
         null,
         "2025-08-01T05:32:46.26Z",
         "00.json"
        ],
        [
         23833,
         "Y",
         75201,
         1640665029,
         null,
         "2025-08-01T05:32:46.26Z",
         "00.json"
        ],
        [
         23696,
         "Y",
         75202,
         1640665868,
         null,
         "2025-08-01T05:32:46.26Z",
         "00.json"
        ],
        [
         23815,
         "Y",
         75203,
         1640665971,
         null,
         "2025-08-01T05:32:46.26Z",
         "00.json"
        ],
        [
         23195,
         "N",
         75204,
         1640671232,
         null,
         "2025-08-01T05:32:46.26Z",
         "00.json"
        ],
        [
         23183,
         "Y",
         75205,
         1640672063,
         null,
         "2025-08-01T05:32:46.26Z",
         "00.json"
        ],
        [
         23367,
         "N",
         75206,
         1640675667,
         null,
         "2025-08-01T05:32:46.26Z",
         "00.json"
        ],
        [
         23088,
         "Y",
         75207,
         1640675687,
         null,
         "2025-08-01T05:32:46.26Z",
         "00.json"
        ],
        [
         22752,
         "Y",
         75208,
         1640678086,
         null,
         "2025-08-01T05:32:46.26Z",
         "00.json"
        ],
        [
         23326,
         "Y",
         75209,
         1640681064,
         null,
         "2025-08-01T05:32:46.26Z",
         "00.json"
        ],
        [
         23212,
         "Y",
         75210,
         1640682880,
         null,
         "2025-08-01T05:32:46.26Z",
         "00.json"
        ],
        [
         23524,
         "Y",
         75211,
         1640684944,
         null,
         "2025-08-01T05:32:46.26Z",
         "00.json"
        ],
        [
         23151,
         "Y",
         75212,
         1640690706,
         null,
         "2025-08-01T05:32:46.26Z",
         "00.json"
        ],
        [
         23582,
         "Y",
         75213,
         1640691368,
         null,
         "2025-08-01T05:32:46.26Z",
         "00.json"
        ],
        [
         23182,
         "Y",
         75214,
         1640691634,
         null,
         "2025-08-01T05:32:46.26Z",
         "00.json"
        ],
        [
         22826,
         "Y",
         75215,
         1640696465,
         null,
         "2025-08-01T05:32:46.26Z",
         "00.json"
        ],
        [
         23158,
         "Y",
         75216,
         1640706768,
         null,
         "2025-08-01T05:32:46.26Z",
         "00.json"
        ],
        [
         23343,
         "Y",
         75217,
         1640717605,
         null,
         "2025-08-01T05:32:46.26Z",
         "00.json"
        ],
        [
         23390,
         "Y",
         75218,
         1640721908,
         null,
         "2025-08-01T05:32:46.26Z",
         "00.json"
        ],
        [
         23574,
         "Y",
         75219,
         1640725566,
         null,
         "2025-08-01T05:32:46.26Z",
         "00.json"
        ],
        [
         23282,
         "Y",
         75220,
         1640726897,
         null,
         "2025-08-01T05:32:46.26Z",
         "00.json"
        ],
        [
         23206,
         "N",
         75221,
         1640730881,
         null,
         "2025-08-01T05:32:46.26Z",
         "00.json"
        ],
        [
         23811,
         "Y",
         75222,
         1640731443,
         null,
         "2025-08-01T05:32:46.26Z",
         "00.json"
        ],
        [
         23734,
         "Y",
         75223,
         1640732281,
         null,
         "2025-08-01T05:32:46.26Z",
         "00.json"
        ],
        [
         23284,
         "N",
         75224,
         1640737911,
         null,
         "2025-08-01T05:32:46.26Z",
         "00.json"
        ],
        [
         23397,
         "Y",
         75225,
         1640741859,
         null,
         "2025-08-01T05:32:46.26Z",
         "00.json"
        ],
        [
         23285,
         "Y",
         75226,
         1640743461,
         null,
         "2025-08-01T05:32:46.26Z",
         "00.json"
        ],
        [
         23443,
         "Y",
         75227,
         1640744138,
         null,
         "2025-08-01T05:32:46.26Z",
         "00.json"
        ],
        [
         23841,
         "Y",
         75228,
         1640745536,
         null,
         "2025-08-01T05:32:46.26Z",
         "00.json"
        ],
        [
         23489,
         "Y",
         75229,
         1640745939,
         null,
         "2025-08-01T05:32:46.26Z",
         "00.json"
        ],
        [
         23377,
         "Y",
         75230,
         1640751789,
         null,
         "2025-08-01T05:32:46.26Z",
         "00.json"
        ],
        [
         23519,
         "Y",
         75231,
         1640753686,
         null,
         "2025-08-01T05:32:46.26Z",
         "00.json"
        ],
        [
         23273,
         "Y",
         75232,
         1640754906,
         null,
         "2025-08-01T05:32:46.26Z",
         "00.json"
        ],
        [
         23942,
         "Y",
         75233,
         1640755409,
         null,
         "2025-08-01T05:32:46.26Z",
         "00.json"
        ],
        [
         23714,
         "Y",
         75234,
         1640755921,
         null,
         "2025-08-01T05:32:46.26Z",
         "00.json"
        ],
        [
         22959,
         "N",
         75235,
         1640758650,
         null,
         "2025-08-01T05:32:46.26Z",
         "00.json"
        ],
        [
         23642,
         "Y",
         75236,
         1640763112,
         null,
         "2025-08-01T05:32:46.26Z",
         "00.json"
        ],
        [
         23277,
         "N",
         75237,
         1640781747,
         null,
         "2025-08-01T05:32:46.26Z",
         "00.json"
        ],
        [
         23777,
         "Y",
         75238,
         1640790253,
         null,
         "2025-08-01T05:32:46.26Z",
         "00.json"
        ],
        [
         23748,
         "N",
         75239,
         1640799146,
         null,
         "2025-08-01T05:32:46.26Z",
         "00.json"
        ],
        [
         23511,
         "Y",
         75240,
         1640799965,
         null,
         "2025-08-01T05:32:46.26Z",
         "00.json"
        ],
        [
         23964,
         "N",
         75241,
         1640800237,
         null,
         "2025-08-01T05:32:46.26Z",
         "00.json"
        ],
        [
         23542,
         "Y",
         75242,
         1640803027,
         null,
         "2025-08-01T05:32:46.26Z",
         "00.json"
        ],
        [
         23842,
         "Y",
         75243,
         1640805315,
         null,
         "2025-08-01T05:32:46.26Z",
         "00.json"
        ],
        [
         23371,
         "Y",
         75244,
         1640808136,
         null,
         "2025-08-01T05:32:46.26Z",
         "00.json"
        ],
        [
         22895,
         "Y",
         75245,
         1640809481,
         null,
         "2025-08-01T05:32:46.26Z",
         "00.json"
        ],
        [
         23885,
         "Y",
         75246,
         1640810227,
         null,
         "2025-08-01T05:32:46.26Z",
         "00.json"
        ],
        [
         23875,
         "Y",
         75247,
         1640812303,
         null,
         "2025-08-01T05:32:46.26Z",
         "00.json"
        ],
        [
         23331,
         "Y",
         75248,
         1640815265,
         null,
         "2025-08-01T05:32:46.26Z",
         "00.json"
        ],
        [
         23218,
         "N",
         75249,
         1640828420,
         null,
         "2025-08-01T05:32:46.26Z",
         "00.json"
        ],
        [
         23779,
         "N",
         75250,
         1640830827,
         null,
         "2025-08-01T05:32:46.26Z",
         "00.json"
        ],
        [
         23187,
         "N",
         75251,
         1640837025,
         null,
         "2025-08-01T05:32:46.26Z",
         "00.json"
        ],
        [
         23435,
         "Y",
         75252,
         1640837290,
         null,
         "2025-08-01T05:32:46.26Z",
         "00.json"
        ],
        [
         23124,
         "Y",
         75253,
         1640837302,
         null,
         "2025-08-01T05:32:46.26Z",
         "00.json"
        ],
        [
         23215,
         "N",
         75254,
         1640852084,
         null,
         "2025-08-01T05:32:46.26Z",
         "00.json"
        ],
        [
         23863,
         "Y",
         75255,
         1640857299,
         null,
         "2025-08-01T05:32:46.26Z",
         "00.json"
        ],
        [
         23800,
         "Y",
         75256,
         1640858077,
         null,
         "2025-08-01T05:32:46.26Z",
         "00.json"
        ],
        [
         23503,
         "N",
         75257,
         1640859758,
         null,
         "2025-08-01T05:32:46.26Z",
         "00.json"
        ],
        [
         23755,
         "Y",
         75258,
         1640862499,
         null,
         "2025-08-01T05:32:46.26Z",
         "00.json"
        ],
        [
         23509,
         "Y",
         75259,
         1640864646,
         null,
         "2025-08-01T05:32:46.26Z",
         "00.json"
        ],
        [
         22338,
         "N",
         75260,
         1640867193,
         null,
         "2025-08-01T05:32:46.26Z",
         "00.json"
        ],
        [
         22935,
         "Y",
         75261,
         1640869044,
         null,
         "2025-08-01T05:32:46.26Z",
         "00.json"
        ],
        [
         23311,
         "Y",
         75262,
         1640869535,
         null,
         "2025-08-01T05:32:46.26Z",
         "00.json"
        ],
        [
         23819,
         "Y",
         75263,
         1640869633,
         null,
         "2025-08-01T05:32:46.26Z",
         "00.json"
        ],
        [
         23312,
         "Y",
         75264,
         1640886912,
         null,
         "2025-08-01T05:32:46.26Z",
         "00.json"
        ],
        [
         23484,
         "Y",
         75265,
         1640888803,
         null,
         "2025-08-01T05:32:46.26Z",
         "00.json"
        ],
        [
         23290,
         "Y",
         75266,
         1640889524,
         null,
         "2025-08-01T05:32:46.26Z",
         "00.json"
        ],
        [
         23558,
         "Y",
         75267,
         1640889752,
         null,
         "2025-08-01T05:32:46.26Z",
         "00.json"
        ],
        [
         23086,
         "Y",
         75268,
         1640893693,
         null,
         "2025-08-01T05:32:46.26Z",
         "00.json"
        ],
        [
         23822,
         "Y",
         75269,
         1640895938,
         null,
         "2025-08-01T05:32:46.26Z",
         "00.json"
        ],
        [
         23212,
         "Y",
         75270,
         1640898363,
         null,
         "2025-08-01T05:32:46.26Z",
         "00.json"
        ],
        [
         23715,
         "Y",
         75271,
         1640902531,
         null,
         "2025-08-01T05:32:46.26Z",
         "00.json"
        ],
        [
         22161,
         "Y",
         75272,
         1640904968,
         null,
         "2025-08-01T05:32:46.26Z",
         "00.json"
        ],
        [
         23882,
         "Y",
         75273,
         1640909763,
         null,
         "2025-08-01T05:32:46.26Z",
         "00.json"
        ],
        [
         23147,
         "Y",
         75274,
         1640911244,
         null,
         "2025-08-01T05:32:46.26Z",
         "00.json"
        ],
        [
         23577,
         "Y",
         75275,
         1640911324,
         null,
         "2025-08-01T05:32:46.26Z",
         "00.json"
        ],
        [
         23888,
         "Y",
         75276,
         1640914350,
         null,
         "2025-08-01T05:32:46.26Z",
         "00.json"
        ],
        [
         22815,
         "Y",
         75277,
         1640922137,
         null,
         "2025-08-01T05:32:46.26Z",
         "00.json"
        ],
        [
         23521,
         "Y",
         75278,
         1640933033,
         null,
         "2025-08-01T05:32:46.26Z",
         "00.json"
        ],
        [
         23887,
         "Y",
         75279,
         1640933550,
         null,
         "2025-08-01T05:32:46.26Z",
         "00.json"
        ],
        [
         23551,
         "N",
         75280,
         1640933653,
         null,
         "2025-08-01T05:32:46.26Z",
         "00.json"
        ],
        [
         23886,
         "Y",
         75281,
         1640935059,
         null,
         "2025-08-01T05:32:46.26Z",
         "00.json"
        ],
        [
         23376,
         "Y",
         75282,
         1640935106,
         null,
         "2025-08-01T05:32:46.26Z",
         "00.json"
        ],
        [
         23911,
         "N",
         75283,
         1640941395,
         null,
         "2025-08-01T05:32:46.26Z",
         "00.json"
        ],
        [
         23310,
         "Y",
         75284,
         1640948702,
         null,
         "2025-08-01T05:32:46.26Z",
         "00.json"
        ],
        [
         23109,
         "N",
         75285,
         1640950790,
         null,
         "2025-08-01T05:32:46.26Z",
         "00.json"
        ],
        [
         23291,
         "Y",
         75286,
         1640953620,
         null,
         "2025-08-01T05:32:46.26Z",
         "00.json"
        ],
        [
         23556,
         "Y",
         75287,
         1640953917,
         null,
         "2025-08-01T05:32:46.26Z",
         "00.json"
        ],
        [
         23581,
         "Y",
         75288,
         1640958185,
         null,
         "2025-08-01T05:32:46.26Z",
         "00.json"
        ],
        [
         23621,
         "Y",
         75289,
         1640960321,
         null,
         "2025-08-01T05:32:46.26Z",
         "00.json"
        ],
        [
         23365,
         "Y",
         75290,
         1640963057,
         null,
         "2025-08-01T05:32:46.26Z",
         "00.json"
        ],
        [
         23716,
         "N",
         75291,
         1640971896,
         null,
         "2025-08-01T05:32:46.26Z",
         "00.json"
        ],
        [
         23206,
         "Y",
         75292,
         1640974381,
         null,
         "2025-08-01T05:32:46.26Z",
         "00.json"
        ],
        [
         23027,
         "Y",
         75293,
         1640984029,
         null,
         "2025-08-01T05:32:46.26Z",
         "00.json"
        ],
        [
         23380,
         "N",
         75294,
         1640987218,
         null,
         "2025-08-01T05:32:46.26Z",
         "00.json"
        ],
        [
         22701,
         "Y",
         75295,
         1640987527,
         null,
         "2025-08-01T05:32:46.26Z",
         "00.json"
        ],
        [
         23766,
         "Y",
         75296,
         1640990674,
         null,
         "2025-08-01T05:32:46.26Z",
         "00.json"
        ],
        [
         23180,
         "Y",
         75297,
         1640996822,
         null,
         "2025-08-01T05:36:28.213Z",
         "01.json"
        ],
        [
         23082,
         "Y",
         75298,
         1641000470,
         null,
         "2025-08-01T05:36:28.213Z",
         "01.json"
        ],
        [
         23550,
         "Y",
         75299,
         1641000707,
         null,
         "2025-08-01T05:36:28.213Z",
         "01.json"
        ],
        [
         23362,
         "Y",
         75300,
         1641002550,
         null,
         "2025-08-01T05:36:28.213Z",
         "01.json"
        ],
        [
         23210,
         "N",
         75301,
         1641003380,
         null,
         "2025-08-01T05:36:28.213Z",
         "01.json"
        ],
        [
         23489,
         "N",
         75302,
         1641004093,
         null,
         "2025-08-01T05:36:28.213Z",
         "01.json"
        ],
        [
         23328,
         "Y",
         75303,
         1641004638,
         null,
         "2025-08-01T05:36:28.213Z",
         "01.json"
        ],
        [
         23954,
         "Y",
         75304,
         1641009857,
         null,
         "2025-08-01T05:36:28.213Z",
         "01.json"
        ],
        [
         23648,
         "Y",
         75305,
         1641011274,
         null,
         "2025-08-01T05:36:28.213Z",
         "01.json"
        ],
        [
         23310,
         "Y",
         75306,
         1641015380,
         null,
         "2025-08-01T05:36:28.213Z",
         "01.json"
        ],
        [
         23103,
         "Y",
         75307,
         1641019649,
         null,
         "2025-08-01T05:36:28.213Z",
         "01.json"
        ],
        [
         23520,
         "Y",
         75308,
         1641024875,
         null,
         "2025-08-01T05:36:28.213Z",
         "01.json"
        ],
        [
         23525,
         "Y",
         75309,
         1641027378,
         null,
         "2025-08-01T05:36:28.213Z",
         "01.json"
        ],
        [
         23701,
         "Y",
         75310,
         1641030683,
         null,
         "2025-08-01T05:36:28.213Z",
         "01.json"
        ],
        [
         23581,
         "Y",
         75311,
         1641030689,
         null,
         "2025-08-01T05:36:28.213Z",
         "01.json"
        ],
        [
         22843,
         "N",
         75312,
         1641031735,
         null,
         "2025-08-01T05:36:28.213Z",
         "01.json"
        ],
        [
         23697,
         "N",
         75313,
         1641031941,
         null,
         "2025-08-01T05:36:28.213Z",
         "01.json"
        ],
        [
         22266,
         "N",
         75314,
         1641046002,
         null,
         "2025-08-01T05:36:28.213Z",
         "01.json"
        ],
        [
         22448,
         "Y",
         75315,
         1641054983,
         null,
         "2025-08-01T05:36:28.213Z",
         "01.json"
        ],
        [
         22447,
         "N",
         75316,
         1641057356,
         null,
         "2025-08-01T05:36:28.213Z",
         "01.json"
        ],
        [
         23288,
         "Y",
         75317,
         1641058714,
         null,
         "2025-08-01T05:36:28.213Z",
         "01.json"
        ],
        [
         23542,
         "Y",
         75318,
         1641059215,
         null,
         "2025-08-01T05:36:28.213Z",
         "01.json"
        ],
        [
         23344,
         "Y",
         75319,
         1641064749,
         null,
         "2025-08-01T05:36:28.213Z",
         "01.json"
        ],
        [
         23980,
         "Y",
         75320,
         1641067354,
         null,
         "2025-08-01T05:36:28.213Z",
         "01.json"
        ],
        [
         23804,
         "Y",
         75321,
         1641068705,
         null,
         "2025-08-01T05:36:28.213Z",
         "01.json"
        ]
       ],
       "datasetInfos": [],
       "dbfsResultPath": null,
       "isJsonSchema": true,
       "metadata": {},
       "overflow": false,
       "plotOptions": {
        "customPlotOptions": {},
        "displayType": "table",
        "pivotAggregation": null,
        "pivotColumns": null,
        "xColumns": null,
        "yColumns": null
       },
       "removedWidgets": [],
       "schema": [
        {
         "metadata": "{}",
         "name": "customer_id",
         "type": "\"long\""
        },
        {
         "metadata": "{}",
         "name": "notifications",
         "type": "\"string\""
        },
        {
         "metadata": "{}",
         "name": "order_id",
         "type": "\"long\""
        },
        {
         "metadata": "{}",
         "name": "order_timestamp",
         "type": "\"long\""
        },
        {
         "metadata": "{}",
         "name": "_rescued_data",
         "type": "\"string\""
        },
        {
         "metadata": "{}",
         "name": "processing_time",
         "type": "\"timestamp\""
        },
        {
         "metadata": "{}",
         "name": "source_file",
         "type": "\"string\""
        }
       ],
       "type": "table"
      }
     },
     "output_type": "display_data"
    }
   ],
   "source": [
    "SELECT *\n",
    "FROM 1_bronze_db.orders_bronze_demo2;"
   ]
  },
  {
   "cell_type": "markdown",
   "metadata": {
    "application/vnd.databricks.v1+cell": {
     "cellMetadata": {},
     "inputWidgets": {},
     "nuid": "cc09934a-2bbd-4ee4-a9cb-888d1824ea57",
     "showTitle": false,
     "tableResultSettingsMap": {},
     "title": ""
    }
   },
   "source": [
    "3. Complete the following steps to view the history of the **orders_bronze_demo2** streaming table:\n",
    "\n",
    "   a. Select the **Catalog** icon ![Catalog Icon](./Includes/images/catalog_icon.png) in the left navigation pane.  \n",
    "   \n",
    "   b. Expand the **labuser.01_bronze_db** schema.  \n",
    "   \n",
    "   c. Click the three-dot (ellipsis) icon next to the **orders_bronze_demo2** table.  \n",
    "   \n",
    "   d. Select **Open in Catalog Explorer**.  \n",
    "   \n",
    "   e. In the Catalog Explorer, select the **History** tab. Notice an error is returned because viewing the history of a streaming table requires **SHARED_COMPUTE**. In our labs we use a **DEDICATED (formerly single user)** cluster.\n",
    "\n",
    "   f. Above your catalogs on the left select your compute cluster and change it to the provided **shared_warehouse**.\n",
    "\n",
    "   ![Change Compute](./Includes/images/change_compute.png)  \n",
    "   \n",
    "   g. Go back and look at the last two versions of the table. Notice the following:  \n",
    "   \n",
    "      - In the **Operation** column, the last two updates were **STREAMING UPDATE**.  \n",
    "      \n",
    "      - Expand the **Operation Parameters** values for the last two updates. Notice both use `\"outputMode\": \"Append\"`.  \n",
    "      \n",
    "      - Find the **Operation Metrics** column. Expand the values for the last two updates. Observe the following:\n",
    "      \n",
    "         - It displays various metrics for the streaming update: **numRemovedFiles, numOutputRows, numOutputBytes, and numAddedFiles**.  \n",
    "         \n",
    "         - In the `numOutputRows` values, 174 rows were added in the first update, and 25 rows in the second.\n",
    "   \n",
    "   h. Close the Catalog Explorer."
   ]
  },
  {
   "cell_type": "markdown",
   "metadata": {
    "application/vnd.databricks.v1+cell": {
     "cellMetadata": {},
     "inputWidgets": {},
     "nuid": "46ab651f-1e25-40a9-9bf9-a475692a71be",
     "showTitle": false,
     "tableResultSettingsMap": {},
     "title": ""
    }
   },
   "source": [
    "## E. Viewing Lakeflow Declarative Pipelines with the Pipelines UI\n",
    "\n",
    "After exploring and creating your pipeline using the **orders_pipeline.sql** file in the steps above, you can view the pipeline(s) you created in your workspace via the **Pipelines** UI."
   ]
  },
  {
   "cell_type": "markdown",
   "metadata": {
    "application/vnd.databricks.v1+cell": {
     "cellMetadata": {},
     "inputWidgets": {},
     "nuid": "88dc1d29-3c22-43de-b8ea-6475404cce5e",
     "showTitle": false,
     "tableResultSettingsMap": {},
     "title": ""
    }
   },
   "source": [
    "1. Complete the following steps to view the pipeline you created:\n",
    "\n",
    "   a. In the main applications navigation pane on the far left (you may need to expand it by selecting the ![Expand Navigation Pane](./Includes/images/expand_main_navigation.png) icon at the top left of your workspace) right-click on **Pipelines** and select **Open Link in a New Tab**.\n",
    "\n",
    "   b. This should take you to the pipelines you have created. You should see your **2 - Developing a Simple Pipeline Project - labuser** pipeline.\n",
    "\n",
    "   c. Select your **2 - Developing a Simple Pipeline Project - labuser**. Here, you can use the UI to modify the pipeline.\n",
    "\n",
    "   d. Select the **Settings** button at the top. This will take you to the settings within the UI.\n",
    "\n",
    "   e. Select **Schedule** to schedule the pipeline. Select **Cancel**, we will learn how to schedule the pipeline later.\n",
    "\n",
    "   f. Under your pipeline name, select the drop-down with the time date stamp. Here you can view the **Pipeline graph** and other metrics for each run of the pipeline.\n",
    "\n",
    "   g. Close the pipeline UI tab you opened."
   ]
  },
  {
   "cell_type": "markdown",
   "metadata": {
    "application/vnd.databricks.v1+cell": {
     "cellMetadata": {},
     "inputWidgets": {},
     "nuid": "e4999ce0-efce-4673-b2af-eff44dbf7959",
     "showTitle": false,
     "tableResultSettingsMap": {},
     "title": ""
    }
   },
   "source": [
    "## Additional Resources\n",
    "\n",
    "- [Lakeflow Declarative Pipelines](https://docs.databricks.com/aws/en/dlt/) documentation."
   ]
  },
  {
   "cell_type": "markdown",
   "metadata": {
    "application/vnd.databricks.v1+cell": {
     "cellMetadata": {},
     "inputWidgets": {},
     "nuid": "05b161d9-c3f6-424d-aaf1-8e6c3169307a",
     "showTitle": false,
     "tableResultSettingsMap": {},
     "title": ""
    }
   },
   "source": [
    "\n",
    "&copy; 2025 Databricks, Inc. All rights reserved. Apache, Apache Spark, Spark, the Spark Logo, Apache Iceberg, Iceberg, and the Apache Iceberg logo are trademarks of the <a href=\"https://www.apache.org/\" target=\"blank\">Apache Software Foundation</a>.<br/>\n",
    "<br/><a href=\"https://databricks.com/privacy-policy\" target=\"blank\">Privacy Policy</a> | \n",
    "<a href=\"https://databricks.com/terms-of-use\" target=\"blank\">Terms of Use</a> | \n",
    "<a href=\"https://help.databricks.com/\" target=\"blank\">Support</a>"
   ]
  }
 ],
 "metadata": {
  "application/vnd.databricks.v1+notebook": {
   "computePreferences": null,
   "dashboards": [],
   "environmentMetadata": null,
   "inputWidgetPreferences": null,
   "language": "sql",
   "notebookMetadata": {
    "mostRecentlyExecutedCommandWithImplicitDF": {
     "commandId": 841731085777149,
     "dataframes": [
      "_sqldf"
     ]
    },
    "pythonIndentUnit": 4
   },
   "notebookName": "2 - Developing a Simple Pipeline",
   "widgets": {}
  },
  "language_info": {
   "name": "sql"
  }
 },
 "nbformat": 4,
 "nbformat_minor": 0
}