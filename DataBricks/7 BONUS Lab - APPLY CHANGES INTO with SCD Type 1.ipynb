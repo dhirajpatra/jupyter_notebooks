{
 "cells": [
  {
   "cell_type": "markdown",
   "metadata": {
    "application/vnd.databricks.v1+cell": {
     "cellMetadata": {},
     "inputWidgets": {},
     "nuid": "4b1cfb3d-c2b6-4487-9624-c9cab9330cfc",
     "showTitle": false,
     "tableResultSettingsMap": {},
     "title": ""
    }
   },
   "source": [
    "\n",
    "<div style=\"text-align: center; line-height: 0; padding-top: 9px;\">\n",
    "  <img src=\"https://databricks.com/wp-content/uploads/2018/03/db-academy-rgb-1200px.png\" alt=\"Databricks Learning\">\n",
    "</div>\n"
   ]
  },
  {
   "cell_type": "markdown",
   "metadata": {
    "application/vnd.databricks.v1+cell": {
     "cellMetadata": {},
     "inputWidgets": {},
     "nuid": "423d4fa3-7819-4dcf-b89f-bd3f5a60a15e",
     "showTitle": false,
     "tableResultSettingsMap": {},
     "title": ""
    }
   },
   "source": [
    "# 7 Bonus Lab - APPLY CHANGES INTO with SCD Type 1\n",
    "\n",
    "### Estimated Duration: ~15-20 minutes\n",
    "\n",
    "#### This is an optional lab that can be completed after class if you're interested in practicing CDC.\n",
    "\n",
    "\n",
    "In this demonstration you will use Change Data Capture (CDC) to detect changes and apply them using SCD Type 1 logic (overwrite, no historical records).\n",
    "\n",
    "### Learning Objectives\n",
    "\n",
    "By the end of this lesson, you will be able to:\n",
    "- Use `APPLY CHANGES INTO` to perform Change Data Capture (CDC) using SCD Type 1."
   ]
  },
  {
   "cell_type": "markdown",
   "metadata": {
    "application/vnd.databricks.v1+cell": {
     "cellMetadata": {},
     "inputWidgets": {},
     "nuid": "ba299d91-91c9-4ca1-874c-60f1c8a70a40",
     "showTitle": false,
     "tableResultSettingsMap": {},
     "title": ""
    }
   },
   "source": [
    "## REQUIRED - SELECT CLASSIC COMPUTE\n",
    "\n",
    "Before executing cells in this notebook, please select your classic compute cluster in the lab. Be aware that **Serverless** is enabled by default.\n",
    "\n",
    "Follow these steps to select the classic compute cluster:\n",
    "\n",
    "1. Navigate to the top-right of this notebook and click the drop-down menu to select your cluster. By default, the notebook will use **Serverless**.\n",
    "\n",
    "1. If your cluster is available, select it and continue to the next cell. If the cluster is not shown:\n",
    "\n",
    "    - In the drop-down, select **More**.\n",
    "\n",
    "    - In the **Attach to an existing compute resource** pop-up, select the first drop-down. You will see a unique cluster name in that drop-down. Please select that cluster.\n",
    "\n",
    "**NOTE:** If your cluster has terminated, you might need to restart it in order to select it. To do this:\n",
    "\n",
    "1. Right-click on **Compute** in the left navigation pane and select *Open in new tab*.\n",
    "\n",
    "1. Find the triangle icon to the right of your compute cluster name and click it.\n",
    "\n",
    "1. Wait a few minutes for the cluster to start.\n",
    "\n",
    "1. Once the cluster is running, complete the steps above to select your cluster."
   ]
  },
  {
   "cell_type": "markdown",
   "metadata": {
    "application/vnd.databricks.v1+cell": {
     "cellMetadata": {},
     "inputWidgets": {},
     "nuid": "6322795f-73a8-4f29-924f-77863d2189a6",
     "showTitle": false,
     "tableResultSettingsMap": {},
     "title": ""
    }
   },
   "source": [
    "%md\n",
    "## A. Classroom Setup\n",
    "\n",
    "Run the following cell to configure your working environment for this course.\n",
    "\n",
    "**NOTE:** The `DA` object is only used in Databricks Academy courses and is not available outside of these courses. It will dynamically create and reference the information needed to run the course."
   ]
  },
  {
   "cell_type": "code",
   "execution_count": 0,
   "metadata": {
    "application/vnd.databricks.v1+cell": {
     "cellMetadata": {},
     "inputWidgets": {},
     "nuid": "c5c7e9cf-3e6a-45b2-ae5c-d99aaa87a252",
     "showTitle": false,
     "tableResultSettingsMap": {},
     "title": ""
    }
   },
   "outputs": [],
   "source": [
    "%run ./Includes/Classroom-Setup-7"
   ]
  },
  {
   "cell_type": "markdown",
   "metadata": {
    "application/vnd.databricks.v1+cell": {
     "cellMetadata": {},
     "inputWidgets": {},
     "nuid": "d6a8b5ad-1b05-4d6d-97e8-43712a5d4014",
     "showTitle": false,
     "tableResultSettingsMap": {},
     "title": ""
    }
   },
   "source": [
    "## B. SCENARIO\n",
    "\n",
    "Your data engineering team wants to build a Lakeflow Declarative Pipeline to maintain a record of current employees without keeping historical data (SCD Type 1). The project has been started, but the final step is to update the silver table with the current employee records that have not yet been completed. \n",
    "\n",
    "There are already two files in a cloud storage location that contain information about employees and employee updates.\n",
    "\n",
    "### REQUIREMENTS:\n",
    "It’s your job to complete the Lakeflow Declarative Pipeline by adding the `APPLY CHANGES INTO` statement to perform SCD Type 1.\n",
    "\n",
    "Follow the steps below to complete your task."
   ]
  },
  {
   "cell_type": "markdown",
   "metadata": {
    "application/vnd.databricks.v1+cell": {
     "cellMetadata": {},
     "inputWidgets": {},
     "nuid": "d971593b-1919-4fcd-963a-a7855d6410e9",
     "showTitle": false,
     "tableResultSettingsMap": {},
     "title": ""
    }
   },
   "source": [
    "## C. Explore the Raw Data Source Files"
   ]
  },
  {
   "cell_type": "markdown",
   "metadata": {
    "application/vnd.databricks.v1+cell": {
     "cellMetadata": {},
     "inputWidgets": {},
     "nuid": "6799b008-9f9a-4bb1-897a-ab33fcdf95fa",
     "showTitle": false,
     "tableResultSettingsMap": {},
     "title": ""
    }
   },
   "source": [
    "1. Run the cell below to programmatically view the files in your `/Volumes/your-lab-catalog-name/default/lab_files` volume. Confirm that you see **employees_1.csv** and **employees_2.csv**.\n",
    "\n",
    "**NOTE:** You can also manually navigate to your **labuser.default.lab_files** volume and view the files in the volume.\n"
   ]
  },
  {
   "cell_type": "code",
   "execution_count": 0,
   "metadata": {
    "application/vnd.databricks.v1+cell": {
     "cellMetadata": {},
     "inputWidgets": {},
     "nuid": "09e3272f-75a8-4d12-8a4e-d5b452910a05",
     "showTitle": true,
     "tableResultSettingsMap": {},
     "title": "View files in the lab_files volume"
    }
   },
   "outputs": [],
   "source": [
    "%python\n",
    "spark.sql(f'LIST \"/Volumes/{DA.catalog_name}/default/lab_files\"').display()"
   ]
  },
  {
   "cell_type": "markdown",
   "metadata": {
    "application/vnd.databricks.v1+cell": {
     "cellMetadata": {},
     "inputWidgets": {},
     "nuid": "b1b19de2-03b3-4a24-a92b-ec6d233726a1",
     "showTitle": false,
     "tableResultSettingsMap": {},
     "title": ""
    }
   },
   "source": [
    "2. Query the 2 CSV files in that volume. Notice the following:\n",
    "\n",
    "   - The files contain a list of employees.\n",
    "\n",
    "   - The **employees_1.csv** contains the initial employees.  \n",
    "   \n",
    "   - The **employees_2.csv** contains an update, a delete, and a new employee.\n",
    "\n",
    "   - The **Operation** column provides information about the action for each record (new employee, update employee information, or delete employee).\n",
    "\n",
    "   - The **ProcessDate** column indicates when the records were processed (acts as a sequence column).\n",
    "\n",
    "   - In total, there are 10 rows.\n",
    "\n",
    "      - There are two duplicate **EmployeeID** values:\n",
    "        - **EmployeeID 1** – Sophia was an employee, then should be deleted.\n",
    "        - **EmployeeID 3** – Liam received a bonus, and his **Salary** needs to be updated.\n",
    "        \n",
    "      - **Employee 6 & 7** - New employees from the **employees_2.csv** file."
   ]
  },
  {
   "cell_type": "code",
   "execution_count": 0,
   "metadata": {
    "application/vnd.databricks.v1+cell": {
     "cellMetadata": {},
     "inputWidgets": {},
     "nuid": "740c60bd-bfd8-423c-a7a6-dd5f524da7a2",
     "showTitle": true,
     "tableResultSettingsMap": {},
     "title": "View the volume CSV files"
    }
   },
   "outputs": [],
   "source": [
    "SELECT \n",
    "  *,\n",
    "  _metadata.file_name as source_file\n",
    "FROM read_files(\n",
    "  '/Volumes/' || DA.catalog_name || '/default/lab_files',\n",
    "  format => 'CSV'\n",
    ")\n",
    "ORDER BY EmployeeID, ProcessDate DESC;"
   ]
  },
  {
   "cell_type": "markdown",
   "metadata": {
    "application/vnd.databricks.v1+cell": {
     "cellMetadata": {},
     "inputWidgets": {},
     "nuid": "1c9ffafe-3458-4213-9041-e6ed99c8f0a1",
     "showTitle": false,
     "tableResultSettingsMap": {},
     "title": ""
    }
   },
   "source": [
    "3. Looking at the output from above, our final table after applying SCD Type 1 on the two files should:\n",
    "\n",
    "   - Contain 6 rows of data:\n",
    "      - remove the **EmployeeID** with a `null` value (removed with a data quality expectation)\n",
    "      - delete **EmployeeID** 1\n",
    "\n",
    "   - **EmployeeID 3** should have a current salary of 100,000 and only one row of data.\n",
    "\n",
    "   - **EmployeeID 5 & 6** are new employees from **employees_2.csv** file.\n",
    "\n",
    "   - No historical data should be tracked.\n",
    "\n",
    "<br></br>\n",
    "\n",
    "**FINAL TABLE OUTPUT**\n",
    "| EmployeeID | FirstName | Country | Department | Salary | HireDate   | ProcessDate |\n",
    "|------------|-----------|---------|------------|--------|------------|-------------|\n",
    "| 2          | Nikos     | GR      | IT         | 55000  | 2025-04-10 | 2025-06-05  |\n",
    "| 3          | Liam      | US      | Sales      | **100000** | 2025-05-03 | **2025-06-22**  |\n",
    "| 4          | Elena     | GR      | IT         | 53000  | 2025-06-04 | 2025-06-05  |\n",
    "| 5          | James     | US      | IT         | 60000  | 2025-06-05 | 2025-06-05  |\n",
    "| 6          | Emily     | US      | Enablement | 80000  | 2025-06-09 | **2025-06-22**  |\n",
    "| 7          | Yannis    | GR      | HR         | 70000  | 2025-06-20 | **2025-06-22**  |\n"
   ]
  },
  {
   "cell_type": "markdown",
   "metadata": {
    "application/vnd.databricks.v1+cell": {
     "cellMetadata": {},
     "inputWidgets": {},
     "nuid": "dcb813dc-8c87-4f5a-b753-fc2df84bf8da",
     "showTitle": false,
     "tableResultSettingsMap": {},
     "title": ""
    }
   },
   "source": [
    "## D. TO DO: Complete the Pipeline with SCD Type 1"
   ]
  },
  {
   "cell_type": "markdown",
   "metadata": {
    "application/vnd.databricks.v1+cell": {
     "cellMetadata": {},
     "inputWidgets": {},
     "nuid": "d2b07ae8-8bb8-4989-bb19-440302c1b6c3",
     "showTitle": false,
     "tableResultSettingsMap": {},
     "title": ""
    }
   },
   "source": [
    "1. Run the cell below to create your starter Lakeflow Declarative Pipeline for this lab. The pipeline will set the following for you:\n",
    "    - Your default catalog: `labuser`\n",
    "    - Your configuration parameter: `source` = `/Volumes/dbacademy/ops/your-labuser-name`\n",
    "\n",
    "    **NOTE:** If the pipeline already exists, an error will be returned. In that case, you'll need to delete the existing pipeline and rerun this cell.\n",
    "\n",
    "    To delete the pipeline:\n",
    "\n",
    "    a. Select **Jobs and Pipelines** from the far-left navigation bar.  \n",
    "\n",
    "    b. Find the pipeline you want to delete.  \n",
    "\n",
    "    c. Click the three-dot menu ![ellipsis icon](./Includes/images/ellipsis_icon.png).  \n",
    "\n",
    "    d. Select **Delete**.\n",
    "\n",
    "**NOTE:**  The `create_declarative_pipeline` function is a custom function built for this course to create the sample pipeline using the Databricks REST API. This avoids manually creating the pipeline and referencing the pipeline assets."
   ]
  },
  {
   "cell_type": "code",
   "execution_count": 0,
   "metadata": {
    "application/vnd.databricks.v1+cell": {
     "cellMetadata": {},
     "inputWidgets": {},
     "nuid": "7e47fe3e-834e-454f-9c4c-9d0d5c9e308e",
     "showTitle": false,
     "tableResultSettingsMap": {},
     "title": ""
    }
   },
   "outputs": [],
   "source": [
    "%python\n",
    "create_declarative_pipeline(pipeline_name=f'7 - CDC Lab Starter Project - {DA.catalog_name}', \n",
    "                            root_path_folder_name='7 - CDC Lab Starter Project',\n",
    "                            catalog_name = DA.catalog_name,\n",
    "                            schema_name = 'default',\n",
    "                            source_folder_names=['cdc_type_1_pipeline'],\n",
    "                            configuration = {'source':f'/Volumes/{DA.catalog_name}/default/lab_files'})"
   ]
  },
  {
   "cell_type": "markdown",
   "metadata": {
    "application/vnd.databricks.v1+cell": {
     "cellMetadata": {},
     "inputWidgets": {},
     "nuid": "7f0f78fd-2cbf-4b8a-82b5-a52bd12e01b4",
     "showTitle": false,
     "tableResultSettingsMap": {},
     "title": ""
    }
   },
   "source": [
    "2. Complete the following steps to open the starter Lakeflow Declarative Pipeline project for this lab:\n",
    "\n",
    "   a. Click the folder icon ![Folder](./Includes/images/folder_icon.png) in the left navigation panel.\n",
    "\n",
    "   b. In the **Build Data Pipelines with Lakeflow Declarative Pipelines** folder, find the **7 - CDC Lab Starter Project** folder. \n",
    "   \n",
    "   c. Right-click and select **Open in a new tab**.\n",
    "\n",
    "   d. In the new tab you should see the folder: **cdc_type_1_pipeline**. \n",
    "\n",
    "   e. Open the **cdc_type_1_pipeline** folder and select the **cdc_employees.sql** notebook."
   ]
  },
  {
   "cell_type": "markdown",
   "metadata": {
    "application/vnd.databricks.v1+cell": {
     "cellMetadata": {},
     "inputWidgets": {},
     "nuid": "c0636586-6452-4dea-b610-2733e89eabee",
     "showTitle": false,
     "tableResultSettingsMap": {},
     "title": ""
    }
   },
   "source": [
    "#### TO DO: Review the code in the cdc_employees.sql file and complete the `APPLY CHANGES INTO STATEMENT` to perform SCD Type 1.\n",
    "   \n",
    "   - For simplicity in training, all code for the pipeline is in one file **cdc_employees.sql**.\n",
    "\n",
    "   - Walk through the **cdc_employees.sql** file and read the comments.\n",
    "\n",
    "   - The **bronze** and **silver** table code is completed for you. You just need to complete the `APPLY CHANGES INTO STATEMENT`.\n",
    "\n",
    "   - If you need the solution to the pipeline you can view it in the **7 - CDC Lab Solution Project** folder."
   ]
  },
  {
   "cell_type": "markdown",
   "metadata": {
    "application/vnd.databricks.v1+cell": {
     "cellMetadata": {},
     "inputWidgets": {},
     "nuid": "7838eef7-eea4-4c65-9ac1-3015be4f7ffd",
     "showTitle": false,
     "tableResultSettingsMap": {},
     "title": ""
    }
   },
   "source": [
    "##### TROUBLESHOOT\n",
    "   **NOTE:** If you open the **cdc_employees.sql** file and it does not open up the new editor, that is because that folder is not associated with a Lakeflow Declarative Pipeline. Please make sure to run the previous cell to associate the folder with a pipeline and try again.\n",
    "\n",
    "   **WARNING:** If you get the following warning when opening the **cdc_employees.sql** file: \n",
    "\n",
    "   ```pipeline you are trying to access does not exist or is inaccessible. Please verify the pipeline ID, request access or detach this file from the pipeline.``` \n",
    "\n",
    "   Simply refresh the page and/or reselect the notebook."
   ]
  },
  {
   "cell_type": "markdown",
   "metadata": {
    "application/vnd.databricks.v1+cell": {
     "cellMetadata": {},
     "inputWidgets": {},
     "nuid": "36e07191-2812-4f95-b525-8b92cbf075cb",
     "showTitle": false,
     "tableResultSettingsMap": {},
     "title": ""
    }
   },
   "source": [
    "## E. Explore Your CDC SCD Type 1 Streaming Table\n",
    "\n",
    "After you have completed the `APPLY CHANGES INTO` statement in the **cdc_employees.sql** file, compare your results to the solution image below.\n",
    "\n",
    "**FINAL PIPELINE RUN**\n",
    "\n",
    "![Lab 7 Pipeline Run](./Includes/images/lab_7_pipeline_run.png)"
   ]
  },
  {
   "cell_type": "markdown",
   "metadata": {
    "application/vnd.databricks.v1+cell": {
     "cellMetadata": {},
     "inputWidgets": {},
     "nuid": "4e753cfe-660c-4b53-b73d-a1a4cf368007",
     "showTitle": false,
     "tableResultSettingsMap": {},
     "title": ""
    }
   },
   "source": [
    "1. Run the cell below to view the data in your **lab_2_silver_db.current_employees_silver_demo7** streaming table that applied SCD Type 1, and compare it to the solution below.\n",
    "\n",
    "    Notice with SCD Type 1 no historical data is kept.\n",
    "\n",
    "**FINAL TABLE SOLUTION**\n",
    "| EmployeeID | FirstName | Country | Department | Salary | HireDate   | ProcessDate |\n",
    "|------------|-----------|---------|------------|--------|------------|-------------|\n",
    "| 2          | Nikos     | GR      | IT         | 55000  | 2025-04-10 | 2025-06-05  |\n",
    "| 3          | Liam      | US      | Sales      | **100000** | 2025-05-03 | **2025-06-22**  |\n",
    "| 4          | Elena     | GR      | IT         | 53000  | 2025-06-04 | 2025-06-05  |\n",
    "| 5          | James     | US      | IT         | 60000  | 2025-06-05 | 2025-06-05  |\n",
    "| 6          | Emily     | US      | Enablement | 80000  | 2025-06-09 | **2025-06-22**  |\n",
    "| 7          | Yannis    | GR      | HR         | 70000  | 2025-06-20 | **2025-06-22**  |\n",
    "\n",
    "**NOTE**: If you ran the solution pipeline, the streaming table is named **current_employees_silver_demo7_solution**"
   ]
  },
  {
   "cell_type": "code",
   "execution_count": 0,
   "metadata": {
    "application/vnd.databricks.v1+cell": {
     "cellMetadata": {},
     "inputWidgets": {},
     "nuid": "a405f9a7-0591-4ee5-a45c-1e3e669f5902",
     "showTitle": false,
     "tableResultSettingsMap": {},
     "title": ""
    }
   },
   "outputs": [],
   "source": [
    "SELECT *\n",
    "FROM lab_2_silver_db.current_employees_silver_demo7\n",
    "ORDER BY EmployeeID"
   ]
  },
  {
   "cell_type": "markdown",
   "metadata": {
    "application/vnd.databricks.v1+cell": {
     "cellMetadata": {},
     "inputWidgets": {},
     "nuid": "858d08a4-d400-44c2-ad6c-27a663244c02",
     "showTitle": false,
     "tableResultSettingsMap": {},
     "title": ""
    }
   },
   "source": [
    "## F. Lab Solution (OPTIONAL)\n",
    "If you want to run the solution, you can execute the cell below to create a pipeline using the **7 - CDC Lab Solution Project** project folder.\n",
    "\n",
    "Each table in this solution pipeline will end with **_solution**."
   ]
  },
  {
   "cell_type": "code",
   "execution_count": 0,
   "metadata": {
    "application/vnd.databricks.v1+cell": {
     "cellMetadata": {},
     "inputWidgets": {},
     "nuid": "af60fcc6-ad2f-4cc8-84b0-08b1e0f0d408",
     "showTitle": false,
     "tableResultSettingsMap": {},
     "title": ""
    }
   },
   "outputs": [],
   "source": [
    "%python\n",
    "create_declarative_pipeline(pipeline_name=f'7 - CDC Lab Solution Project - {DA.catalog_name}', \n",
    "                            root_path_folder_name='7 - CDC Lab Solution Project',\n",
    "                            catalog_name = DA.catalog_name,\n",
    "                            schema_name = 'default',\n",
    "                            source_folder_names=['cdc_type_1_pipeline'],\n",
    "                            configuration = {'source':f'/Volumes/{DA.catalog_name}/default/lab_files'})"
   ]
  },
  {
   "cell_type": "markdown",
   "metadata": {
    "application/vnd.databricks.v1+cell": {
     "cellMetadata": {},
     "inputWidgets": {},
     "nuid": "76ca312d-cfe2-405b-9cd4-b3f494d23507",
     "showTitle": false,
     "tableResultSettingsMap": {},
     "title": ""
    }
   },
   "source": [
    "## G. CHALLENGE SCENARIO\n",
    "### Duration: ~10 minutes\n",
    "\n",
    "**NOTE:** *If you finish early in a live class, feel free to complete the challenge below. The challenge is optional and most likely won't be completed during the live class. Only continue if your Lakeflow Declarative Pipeline pipeline was set up correctly in the previous section by comparing your pipeline to the solution image.*\n",
    "\n",
    "**SCENARIO:** In the challenge, you will land a new CSV file in your **lab_files** cloud storage volume and rerun the pipeline to watch the Lakeflow Declarative Pipeline perform CDC SCD Type 1 on the new data."
   ]
  },
  {
   "cell_type": "markdown",
   "metadata": {
    "application/vnd.databricks.v1+cell": {
     "cellMetadata": {},
     "inputWidgets": {},
     "nuid": "4aa4f533-46aa-4d17-9d01-954f1e9b6519",
     "showTitle": false,
     "tableResultSettingsMap": {},
     "title": ""
    }
   },
   "source": [
    "1. Run the cell below to land another file in your **lab_files** cloud storage location."
   ]
  },
  {
   "cell_type": "code",
   "execution_count": 0,
   "metadata": {
    "application/vnd.databricks.v1+cell": {
     "cellMetadata": {},
     "inputWidgets": {},
     "nuid": "71f45e32-eed1-4644-a539-1fff9207b109",
     "showTitle": false,
     "tableResultSettingsMap": {},
     "title": ""
    }
   },
   "outputs": [],
   "source": [
    "%python\n",
    "LabSetup.copy_file(copy_file = 'employees_3.csv', \n",
    "                   to_target_volume = f'/Volumes/{DA.catalog_name}/default/lab_files')"
   ]
  },
  {
   "cell_type": "markdown",
   "metadata": {
    "application/vnd.databricks.v1+cell": {
     "cellMetadata": {},
     "inputWidgets": {},
     "nuid": "091358e2-c574-4036-abb5-78740e77cc2b",
     "showTitle": false,
     "tableResultSettingsMap": {},
     "title": ""
    }
   },
   "source": [
    "2. Query the **employees_3.csv** file. Notice the following:\n",
    "\n",
    "   - **EmployeeID** values **2** and **6** need to be removed.\n",
    "\n",
    "   - **EmployeeID 8** is a new employee in our company.\n"
   ]
  },
  {
   "cell_type": "code",
   "execution_count": 0,
   "metadata": {
    "application/vnd.databricks.v1+cell": {
     "cellMetadata": {},
     "inputWidgets": {},
     "nuid": "cc5a91a7-a4df-468d-8784-a4dd31487a63",
     "showTitle": false,
     "tableResultSettingsMap": {},
     "title": ""
    }
   },
   "outputs": [],
   "source": [
    "SELECT \n",
    "  *,\n",
    "  _metadata.file_name as source_file\n",
    "FROM read_files(\n",
    "  '/Volumes/' || DA.catalog_name || '/default/lab_files/employees_3.csv',\n",
    "  format => 'CSV'\n",
    ");"
   ]
  },
  {
   "cell_type": "markdown",
   "metadata": {
    "application/vnd.databricks.v1+cell": {
     "cellMetadata": {},
     "inputWidgets": {},
     "nuid": "d6f36778-7cf9-4fe9-a620-89f3422260ad",
     "showTitle": false,
     "tableResultSettingsMap": {},
     "title": ""
    }
   },
   "source": [
    "3. Go back to your pipeline and select **Run pipeline**. Examine the pipeline run. Confirm it shows the following:\n",
    "\n",
    "![Lab 7 Challenge Run](./Includes/images/lab_7_challenge_solution.png)\n",
    "![Lab 7 Challenge Run](./Includes/images/lab4_challenge_metrics.png)\n"
   ]
  },
  {
   "cell_type": "markdown",
   "metadata": {
    "application/vnd.databricks.v1+cell": {
     "cellMetadata": {},
     "inputWidgets": {},
     "nuid": "420b813b-df2e-463a-a222-9fd0035f2310",
     "showTitle": false,
     "tableResultSettingsMap": {},
     "title": ""
    }
   },
   "source": [
    "4. Run the cell below to query the table **lab_2_silver_db.current_employees_silver_demo7** and view the results. Notice that:\n",
    "\n",
    "   - The two employees (**EmployeeID** 2 and 6) were deleted.\n",
    "\n",
    "   - **EmployeeID 8** was added.\n",
    "\n",
    "   - No historical data is kept with SCD Type 1.\n",
    "\n",
    "    **NOTE:** If you ran the solution pipeline, the streaming table is named **lab_2_silver_db.current_employees_silver_demo7_solution**.\n",
    "\n",
    "\n",
    "    **FINAL TABLE**\n",
    "| EmployeeID | FirstName  | Country | Department | Salary  | HireDate   | ProcessDate |\n",
    "|------------|------------|---------|------------|---------|------------|-------------|\n",
    "| 3          | Liam       | US      | Sales      | 100000  | 2025-05-03 | 2025-06-22  |\n",
    "| 4          | Elena      | GR      | IT         | 53000   | 2025-06-04 | 2025-06-05  |\n",
    "| 5          | James      | US      | IT         | 60000   | 2025-06-05 | 2025-06-05  |\n",
    "| 7          | Yannis     | GR      | HR         | 70000   | 2025-06-20 | 2025-06-22  |\n",
    "| 8          | Panagiotis | GR      | Enablement | 90000   | 2025-07-01 | 2025-07-22  |"
   ]
  },
  {
   "cell_type": "code",
   "execution_count": 0,
   "metadata": {
    "application/vnd.databricks.v1+cell": {
     "cellMetadata": {},
     "inputWidgets": {},
     "nuid": "a5443914-2628-4dfc-a2aa-242a39e231b2",
     "showTitle": false,
     "tableResultSettingsMap": {},
     "title": ""
    }
   },
   "outputs": [],
   "source": [
    "SELECT *\n",
    "FROM lab_2_silver_db.current_employees_silver_demo7\n",
    "ORDER BY EmployeeID;"
   ]
  },
  {
   "cell_type": "markdown",
   "metadata": {
    "application/vnd.databricks.v1+cell": {
     "cellMetadata": {},
     "inputWidgets": {},
     "nuid": "8269ab60-9d80-43eb-8392-3485801a3fbd",
     "showTitle": false,
     "tableResultSettingsMap": {},
     "title": ""
    }
   },
   "source": [
    "\n",
    "&copy; 2025 Databricks, Inc. All rights reserved. Apache, Apache Spark, Spark, the Spark Logo, Apache Iceberg, Iceberg, and the Apache Iceberg logo are trademarks of the <a href=\"https://www.apache.org/\" target=\"blank\">Apache Software Foundation</a>.<br/>\n",
    "<br/><a href=\"https://databricks.com/privacy-policy\" target=\"blank\">Privacy Policy</a> | \n",
    "<a href=\"https://databricks.com/terms-of-use\" target=\"blank\">Terms of Use</a> | \n",
    "<a href=\"https://help.databricks.com/\" target=\"blank\">Support</a>"
   ]
  }
 ],
 "metadata": {
  "application/vnd.databricks.v1+notebook": {
   "computePreferences": null,
   "dashboards": [],
   "environmentMetadata": null,
   "inputWidgetPreferences": null,
   "language": "sql",
   "notebookMetadata": {},
   "notebookName": "7 BONUS Lab - APPLY CHANGES INTO with SCD Type 1",
   "widgets": {}
  },
  "language_info": {
   "name": "sql"
  }
 },
 "nbformat": 4,
 "nbformat_minor": 0
}