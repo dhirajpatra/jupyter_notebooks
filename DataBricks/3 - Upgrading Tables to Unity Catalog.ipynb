{
 "cells": [
  {
   "cell_type": "markdown",
   "metadata": {
    "application/vnd.databricks.v1+cell": {
     "cellMetadata": {},
     "inputWidgets": {},
     "nuid": "91e87215-25db-4d16-8954-142d801a6d02",
     "showTitle": false,
     "tableResultSettingsMap": {},
     "title": ""
    }
   },
   "source": [
    "\n",
    "<div style=\"text-align: center; line-height: 0; padding-top: 9px;\">\n",
    "  <img src=\"https://databricks.com/wp-content/uploads/2018/03/db-academy-rgb-1200px.png\" alt=\"Databricks Learning\">\n",
    "</div>\n"
   ]
  },
  {
   "cell_type": "markdown",
   "metadata": {
    "application/vnd.databricks.v1+cell": {
     "cellMetadata": {},
     "inputWidgets": {},
     "nuid": "4f185497-638a-41ad-9be0-716c26983d28",
     "showTitle": false,
     "tableResultSettingsMap": {},
     "title": ""
    }
   },
   "source": [
    "# Upgrading Tables to Unity Catalog\n",
    "\n",
    "In this demo, you will learn essential techniques for upgrading tables to the Unity Catalog, a pivotal step in efficient data management. This demo will cover various aspects, including analyzing existing data structures, applying migration techniques, evaluating transformation options, and upgrading metadata without moving data. Both SQL commands and user interface (UI) tools will be utilized for seamless upgrades."
   ]
  },
  {
   "cell_type": "markdown",
   "metadata": {
    "application/vnd.databricks.v1+cell": {
     "cellMetadata": {},
     "inputWidgets": {},
     "nuid": "aa00a183-65ef-4204-be25-62a4b676bb72",
     "showTitle": false,
     "tableResultSettingsMap": {},
     "title": ""
    }
   },
   "source": [
    "### Learning Objectives\n",
    "By the end of this demo, you will be able to:\n",
    "1. Analyze the current catalog, schema, and table structures in your data environment.\n",
    "2. Execute methods to move data from Hive metastore to Unity Catalog, including cloning and Create Table As Select \\(CTAS\\).\n",
    "3. Assess and apply necessary data transformations during the migration process.\n",
    "4. Utilize methods to upgrade table metadata while keeping data in its original location.\n",
    "5. Perform table upgrades using both SQL commands and user interface tools for efficient data management."
   ]
  },
  {
   "cell_type": "markdown",
   "metadata": {
    "application/vnd.databricks.v1+cell": {
     "cellMetadata": {},
     "inputWidgets": {},
     "nuid": "e3673b6e-1c84-456e-83ab-89e2a07f7ea0",
     "showTitle": false,
     "tableResultSettingsMap": {},
     "title": ""
    }
   },
   "source": [
    "## Prerequisites\n",
    "In order to follow along with this demo, you will need:\n",
    "* Account administrator capabilities\n",
    "* Cloud resources to support the metastore\n",
    "* Have metastore admin capability in order to create and manage a catalog"
   ]
  },
  {
   "cell_type": "markdown",
   "metadata": {
    "application/vnd.databricks.v1+cell": {
     "cellMetadata": {},
     "inputWidgets": {},
     "nuid": "f53d97ef-42c0-4ef9-814d-b3d4c53f6220",
     "showTitle": false,
     "tableResultSettingsMap": {},
     "title": ""
    }
   },
   "source": [
    "## REQUIRED - SELECT CLASSIC COMPUTE\n",
    "### ---SERVERLESS COMPUTE WILL NOT WORK WITH THE HIVE_METASTORE---\n",
    "\n",
    "Before executing cells in this notebook, please select your classic compute cluster in the lab. Be aware that **Serverless** is enabled by default.\n",
    "\n",
    "Follow these steps to select the classic compute cluster:\n",
    "\n",
    "\n",
    "1. Navigate to the top-right of this notebook and click the drop-down menu to select your cluster. By default, the notebook will use **Serverless**.\n",
    "\n",
    "2. If your cluster is available, select it and continue to the next cell. If the cluster is not shown:\n",
    "\n",
    "   - Click **More** in the drop-down.\n",
    "\n",
    "   - In the **Attach to an existing compute resource** window, use the first drop-down to select your unique cluster.\n",
    "\n",
    "**NOTE:** If your cluster has terminated, you might need to restart it in order to select it. To do this:\n",
    "\n",
    "1. Right-click on **Compute** in the left navigation pane and select *Open in new tab*.\n",
    "\n",
    "2. Find the triangle icon to the right of your compute cluster name and click it.\n",
    "\n",
    "3. Wait a few minutes for the cluster to start.\n",
    "\n",
    "4. Once the cluster is running, complete the steps above to select your cluster."
   ]
  },
  {
   "cell_type": "markdown",
   "metadata": {
    "application/vnd.databricks.v1+cell": {
     "cellMetadata": {},
     "inputWidgets": {},
     "nuid": "003d5083-b316-4fe1-8b44-907dab27bedb",
     "showTitle": false,
     "tableResultSettingsMap": {},
     "title": ""
    }
   },
   "source": [
    "## A. Classroom Setup\n",
    "\n",
    "Run the following cell to configure your working environment for this course. It will also set your default catalog to your specific catalog and the schema to the schema name shown below using the `USE` statements.\n",
    "<br></br>\n",
    "\n",
    "\n",
    "```\n",
    "USE CATALOG <your catalog>;\n",
    "USE SCHEMA <your catalog>.<schema>;\n",
    "```\n",
    "\n",
    "**NOTE:** The `DA` object is only used in Databricks Academy courses and is not available outside of these courses. It will dynamically reference the information needed to run the course."
   ]
  },
  {
   "cell_type": "code",
   "execution_count": 0,
   "metadata": {
    "application/vnd.databricks.v1+cell": {
     "cellMetadata": {
      "byteLimit": 2048000,
      "rowLimit": 10000
     },
     "inputWidgets": {},
     "nuid": "fee0b71c-d6a5-47c4-9abe-e2397ed89440",
     "showTitle": false,
     "tableResultSettingsMap": {},
     "title": ""
    }
   },
   "outputs": [
    {
     "output_type": "stream",
     "name": "stdout",
     "output_type": "stream",
     "text": [
      "\u001B[43mNote: you may need to restart the kernel using %restart_python or dbutils.library.restartPython() to use updated packages.\u001B[0m\n"
     ]
    },
    {
     "output_type": "stream",
     "name": "stdout",
     "output_type": "stream",
     "text": [
      "Created the silver table and vw_gold view in your catalog labuser11086062_1754032747 with the example schema.\nSet the default catalog to labuser11086062_1754032747.\nSet the default schema to example.\nCreated a schema in the hive_metastore named labuser11086062_1754032747 for the user and populated it with the movies table.\n"
     ]
    },
    {
     "output_type": "display_data",
     "data": {
      "text/html": [
       "<table style=\"width:100%\">\n",
       "            <tr>\n",
       "                <td style=\"white-space:nowrap; width:1em\">Your Unity Catalog name:</td>\n",
       "                <td><input type=\"text\" value=\"labuser11086062_1754032747\" style=\"width: 100%\"></td></tr>\n",
       "            <tr>\n",
       "                <td style=\"white-space:nowrap; width:1em\">Your Default Schema:</td>\n",
       "                <td><input type=\"text\" value=\"example\" style=\"width: 100%\"></td></tr>\n",
       "            <tr>\n",
       "                <td style=\"white-space:nowrap; width:1em\">Your Schema in the hive_metastore catalog:</td>\n",
       "                <td><input type=\"text\" value=\"hive_metastore.labuser11086062_1754032747\" style=\"width: 100%\"></td></tr></table>"
      ]
     },
     "metadata": {},
     "output_type": "display_data"
    }
   ],
   "source": [
    "%run ./Includes/Classroom-Setup-3"
   ]
  },
  {
   "cell_type": "markdown",
   "metadata": {
    "application/vnd.databricks.v1+cell": {
     "cellMetadata": {},
     "inputWidgets": {},
     "nuid": "86e411fe-cefc-4c8c-8267-6fae6b983ef5",
     "showTitle": false,
     "tableResultSettingsMap": {},
     "title": ""
    }
   },
   "source": [
    "### B. Analyze the List of Available Table and Views in the Custom Schema\n",
    "1. Let us analyze the **example** schema within your catalog for the list of tables and views. This has already been set up for you using the setup script. Take note of the tables in your schema.\n"
   ]
  },
  {
   "cell_type": "code",
   "execution_count": 0,
   "metadata": {
    "application/vnd.databricks.v1+cell": {
     "cellMetadata": {
      "byteLimit": 2048000,
      "rowLimit": 10000
     },
     "inputWidgets": {},
     "nuid": "81e33e57-c013-4ed2-ab24-4d8a1fb2f7ca",
     "showTitle": false,
     "tableResultSettingsMap": {},
     "title": ""
    }
   },
   "outputs": [
    {
     "output_type": "display_data",
     "data": {
      "text/html": [
       "<style scoped>\n",
       "  .table-result-container {\n",
       "    max-height: 300px;\n",
       "    overflow: auto;\n",
       "  }\n",
       "  table, th, td {\n",
       "    border: 1px solid black;\n",
       "    border-collapse: collapse;\n",
       "  }\n",
       "  th, td {\n",
       "    padding: 5px;\n",
       "  }\n",
       "  th {\n",
       "    text-align: left;\n",
       "  }\n",
       "</style><div class='table-result-container'><table class='table-result'><thead style='background-color: white'><tr><th>current_catalog()</th><th>current_schema()</th></tr></thead><tbody><tr><td>labuser11086062_1754032747</td><td>example</td></tr></tbody></table></div>"
      ]
     },
     "metadata": {
      "application/vnd.databricks.v1+output": {
       "addedWidgets": {},
       "aggData": [],
       "aggError": "",
       "aggOverflow": false,
       "aggSchema": [],
       "aggSeriesLimitReached": false,
       "aggType": "",
       "arguments": {},
       "columnCustomDisplayInfos": {},
       "data": [
        [
         "labuser11086062_1754032747",
         "example"
        ]
       ],
       "datasetInfos": [],
       "dbfsResultPath": null,
       "isJsonSchema": true,
       "metadata": {
        "isDbfsCommandResult": false
       },
       "overflow": false,
       "plotOptions": {
        "customPlotOptions": {},
        "displayType": "table",
        "pivotAggregation": null,
        "pivotColumns": null,
        "xColumns": null,
        "yColumns": null
       },
       "removedWidgets": [],
       "schema": [
        {
         "metadata": "{\"__autoGeneratedAlias\":\"true\"}",
         "name": "current_catalog()",
         "type": "\"string\""
        },
        {
         "metadata": "{\"__autoGeneratedAlias\":\"true\"}",
         "name": "current_schema()",
         "type": "\"string\""
        }
       ],
       "type": "table"
      }
     },
     "output_type": "display_data"
    }
   ],
   "source": [
    "SELECT current_catalog(), current_schema();"
   ]
  },
  {
   "cell_type": "code",
   "execution_count": 0,
   "metadata": {
    "application/vnd.databricks.v1+cell": {
     "cellMetadata": {
      "byteLimit": 2048000,
      "rowLimit": 10000
     },
     "inputWidgets": {},
     "nuid": "a8f3b83f-1d66-4a62-83bc-efcbfa1fdf8e",
     "showTitle": false,
     "tableResultSettingsMap": {},
     "title": ""
    }
   },
   "outputs": [
    {
     "output_type": "display_data",
     "data": {
      "text/html": [
       "<style scoped>\n",
       "  .table-result-container {\n",
       "    max-height: 300px;\n",
       "    overflow: auto;\n",
       "  }\n",
       "  table, th, td {\n",
       "    border: 1px solid black;\n",
       "    border-collapse: collapse;\n",
       "  }\n",
       "  th, td {\n",
       "    padding: 5px;\n",
       "  }\n",
       "  th {\n",
       "    text-align: left;\n",
       "  }\n",
       "</style><div class='table-result-container'><table class='table-result'><thead style='background-color: white'><tr><th>database</th><th>tableName</th><th>isTemporary</th></tr></thead><tbody><tr><td>example</td><td>silver</td><td>false</td></tr><tr><td>example</td><td>vw_gold</td><td>false</td></tr></tbody></table></div>"
      ]
     },
     "metadata": {
      "application/vnd.databricks.v1+output": {
       "addedWidgets": {},
       "aggData": [],
       "aggError": "",
       "aggOverflow": false,
       "aggSchema": [],
       "aggSeriesLimitReached": false,
       "aggType": "",
       "arguments": {},
       "columnCustomDisplayInfos": {},
       "data": [
        [
         "example",
         "silver",
         false
        ],
        [
         "example",
         "vw_gold",
         false
        ]
       ],
       "datasetInfos": [],
       "dbfsResultPath": null,
       "isJsonSchema": true,
       "metadata": {
        "isDbfsCommandResult": false
       },
       "overflow": false,
       "plotOptions": {
        "customPlotOptions": {},
        "displayType": "table",
        "pivotAggregation": null,
        "pivotColumns": null,
        "xColumns": null,
        "yColumns": null
       },
       "removedWidgets": [],
       "schema": [
        {
         "metadata": "{}",
         "name": "database",
         "type": "\"string\""
        },
        {
         "metadata": "{}",
         "name": "tableName",
         "type": "\"string\""
        },
        {
         "metadata": "{}",
         "name": "isTemporary",
         "type": "\"boolean\""
        }
       ],
       "type": "table"
      }
     },
     "output_type": "display_data"
    }
   ],
   "source": [
    "-- Show the list of tables within the custom schema\n",
    "SHOW TABLES FROM example;"
   ]
  },
  {
   "cell_type": "markdown",
   "metadata": {
    "application/vnd.databricks.v1+cell": {
     "cellMetadata": {},
     "inputWidgets": {},
     "nuid": "73bbb0bd-efb0-4a75-bc54-116edab4150c",
     "showTitle": false,
     "tableResultSettingsMap": {},
     "title": ""
    }
   },
   "source": [
    "2. Display a list of views in your **example** schema. Take note of the view(s) in your schema.\n"
   ]
  },
  {
   "cell_type": "code",
   "execution_count": 0,
   "metadata": {
    "application/vnd.databricks.v1+cell": {
     "cellMetadata": {
      "byteLimit": 2048000,
      "rowLimit": 10000
     },
     "inputWidgets": {},
     "nuid": "4da08a57-eaa7-4733-8c1a-63a92c3a790d",
     "showTitle": false,
     "tableResultSettingsMap": {},
     "title": ""
    }
   },
   "outputs": [
    {
     "output_type": "display_data",
     "data": {
      "text/html": [
       "<style scoped>\n",
       "  .table-result-container {\n",
       "    max-height: 300px;\n",
       "    overflow: auto;\n",
       "  }\n",
       "  table, th, td {\n",
       "    border: 1px solid black;\n",
       "    border-collapse: collapse;\n",
       "  }\n",
       "  th, td {\n",
       "    padding: 5px;\n",
       "  }\n",
       "  th {\n",
       "    text-align: left;\n",
       "  }\n",
       "</style><div class='table-result-container'><table class='table-result'><thead style='background-color: white'><tr><th>namespace</th><th>viewName</th><th>isTemporary</th><th>isMaterialized</th><th>isMetric</th></tr></thead><tbody><tr><td>example</td><td>vw_gold</td><td>false</td><td>false</td><td>false</td></tr></tbody></table></div>"
      ]
     },
     "metadata": {
      "application/vnd.databricks.v1+output": {
       "addedWidgets": {},
       "aggData": [],
       "aggError": "",
       "aggOverflow": false,
       "aggSchema": [],
       "aggSeriesLimitReached": false,
       "aggType": "",
       "arguments": {},
       "columnCustomDisplayInfos": {},
       "data": [
        [
         "example",
         "vw_gold",
         false,
         false,
         false
        ]
       ],
       "datasetInfos": [],
       "dbfsResultPath": null,
       "isJsonSchema": true,
       "metadata": {
        "isDbfsCommandResult": false
       },
       "overflow": false,
       "plotOptions": {
        "customPlotOptions": {},
        "displayType": "table",
        "pivotAggregation": null,
        "pivotColumns": null,
        "xColumns": null,
        "yColumns": null
       },
       "removedWidgets": [],
       "schema": [
        {
         "metadata": "{}",
         "name": "namespace",
         "type": "\"string\""
        },
        {
         "metadata": "{}",
         "name": "viewName",
         "type": "\"string\""
        },
        {
         "metadata": "{}",
         "name": "isTemporary",
         "type": "\"boolean\""
        },
        {
         "metadata": "{}",
         "name": "isMaterialized",
         "type": "\"boolean\""
        },
        {
         "metadata": "{}",
         "name": "isMetric",
         "type": "\"boolean\""
        }
       ],
       "type": "table"
      }
     },
     "output_type": "display_data"
    }
   ],
   "source": [
    "-- Show the list of views within the custom schema\n",
    "SHOW VIEWS FROM example;"
   ]
  },
  {
   "cell_type": "markdown",
   "metadata": {
    "application/vnd.databricks.v1+cell": {
     "cellMetadata": {},
     "inputWidgets": {},
     "nuid": "9083e2c0-8745-4e59-97d2-17c872c63dec",
     "showTitle": false,
     "tableResultSettingsMap": {},
     "title": ""
    }
   },
   "source": [
    "### C. Exploring the Hive Metastore Source Table\n",
    "\n",
    "As part of the setup, we now have a table called *movies*, residing in a user-specific schema of the Hive metastore. To make things easier, the schema name in the hive_metastore stored in a variable named `user_hive_schema` that was created in the classroom setup script."
   ]
  },
  {
   "cell_type": "code",
   "execution_count": 0,
   "metadata": {
    "application/vnd.databricks.v1+cell": {
     "cellMetadata": {
      "byteLimit": 2048000,
      "rowLimit": 10000
     },
     "inputWidgets": {},
     "nuid": "678b7696-34f4-4cb8-8d64-15e7308102a9",
     "showTitle": false,
     "tableResultSettingsMap": {},
     "title": ""
    }
   },
   "outputs": [
    {
     "output_type": "display_data",
     "data": {
      "text/html": [
       "<style scoped>\n",
       "  .table-result-container {\n",
       "    max-height: 300px;\n",
       "    overflow: auto;\n",
       "  }\n",
       "  table, th, td {\n",
       "    border: 1px solid black;\n",
       "    border-collapse: collapse;\n",
       "  }\n",
       "  th, td {\n",
       "    padding: 5px;\n",
       "  }\n",
       "  th {\n",
       "    text-align: left;\n",
       "  }\n",
       "</style><div class='table-result-container'><table class='table-result'><thead style='background-color: white'><tr><th>user_hive_schema</th></tr></thead><tbody><tr><td>labuser11086062_1754032747</td></tr></tbody></table></div>"
      ]
     },
     "metadata": {
      "application/vnd.databricks.v1+output": {
       "addedWidgets": {},
       "aggData": [],
       "aggError": "",
       "aggOverflow": false,
       "aggSchema": [],
       "aggSeriesLimitReached": false,
       "aggType": "",
       "arguments": {},
       "columnCustomDisplayInfos": {},
       "data": [
        [
         "labuser11086062_1754032747"
        ]
       ],
       "datasetInfos": [],
       "dbfsResultPath": null,
       "isJsonSchema": true,
       "metadata": {
        "isDbfsCommandResult": false
       },
       "overflow": false,
       "plotOptions": {
        "customPlotOptions": {},
        "displayType": "table",
        "pivotAggregation": null,
        "pivotColumns": null,
        "xColumns": null,
        "yColumns": null
       },
       "removedWidgets": [],
       "schema": [
        {
         "metadata": "{}",
         "name": "user_hive_schema",
         "type": "\"string\""
        }
       ],
       "type": "table"
      }
     },
     "output_type": "display_data"
    }
   ],
   "source": [
    "-- View the value of the user_hive_schema SQL variable\n",
    "SELECT user_hive_schema;"
   ]
  },
  {
   "cell_type": "markdown",
   "metadata": {
    "application/vnd.databricks.v1+cell": {
     "cellMetadata": {},
     "inputWidgets": {},
     "nuid": "92754af3-2d74-42b5-a040-175225501918",
     "showTitle": false,
     "tableResultSettingsMap": {},
     "title": ""
    }
   },
   "source": [
    "1. Let's preview the data stored in this table using that variable. Notice how the three-level namespaces makes referencing data objects in the Hive metastore seamless.\n",
    "\n",
    "    Here we will use the `IDENTIFIER()` clause which enables SQL injection safe parameterization of SQL statements and enables you to interprets a constant string as a:\n",
    "    - table or view name\n",
    "    - function name\n",
    "    - column name\n",
    "    - field name\n",
    "\n",
    "    View the [documentation](https://docs.databricks.com/en/sql/language-manual/sql-ref-names-identifier-clause.html#identifier-clause) for more information."
   ]
  },
  {
   "cell_type": "code",
   "execution_count": 0,
   "metadata": {
    "application/vnd.databricks.v1+cell": {
     "cellMetadata": {
      "byteLimit": 2048000,
      "rowLimit": 10000
     },
     "inputWidgets": {},
     "nuid": "bfa004d8-3b8d-41de-a7d3-5f4dc95df2f7",
     "showTitle": false,
     "tableResultSettingsMap": {},
     "title": ""
    }
   },
   "outputs": [
    {
     "output_type": "display_data",
     "data": {
      "text/html": [
       "<style scoped>\n",
       "  .table-result-container {\n",
       "    max-height: 300px;\n",
       "    overflow: auto;\n",
       "  }\n",
       "  table, th, td {\n",
       "    border: 1px solid black;\n",
       "    border-collapse: collapse;\n",
       "  }\n",
       "  th, td {\n",
       "    padding: 5px;\n",
       "  }\n",
       "  th {\n",
       "    text-align: left;\n",
       "  }\n",
       "</style><div class='table-result-container'><table class='table-result'><thead style='background-color: white'><tr><th>id</th><th>title</th><th>genres</th><th>original_language</th><th>overview</th><th>popularity</th><th>production_companies</th><th>release_date</th><th>budget</th><th>revenue</th><th>runtime</th><th>status</th><th>tagline</th><th>vote_average</th><th>vote_count</th><th>credits</th><th>keywords</th><th>poster_path</th><th>backdrop_path</th><th>recommendations</th></tr></thead><tbody><tr><td>615656</td><td>Meg 2: The Trench</td><td>Action-Science Fiction-Horror</td><td>en</td><td>An exploratory dive into the deepest depths of the ocean of a daring research team spirals into chaos when a malevolent mining operation threatens their mission and forces them into a high-stakes battle for survival.</td><td>8763.998</td><td>Apelles Entertainment-Warner Bros. Pictures-di Bonaventura Pictures-CMC Pictures-Gravity Pictures-China Film Group Corporation</td><td>2023-08-02</td><td>1.29E8</td><td>3.52056482E8</td><td>116.0</td><td>Released</td><td>Back for seconds.</td><td>7.079</td><td>1365.0</td><td>Jason Statham-Wu Jing-Shuya Sophia Cai-Sergio Peris-Mencheta-Skyler Samuels-Cliff Curtis-Page Kennedy-Sienna Guillory-Melissanthi Mahut-Kiran Sonia Sawar-Felix Mayr-Whoopie van Raam-Guo Tao-Robin Hill-Dai Lele-Sui Fong Ivy Tsui-Stewart Alexander-Li Xin-Billy Clements-Ron Smoorenburg-Rui Shang-Sara Dee-Jonny James-Bai Narisu-Kenneth Won-Able Wanamakok</td><td>based on novel or book-sequel-kaiju</td><td>/4m1Au3YkjqsxF8iwQy0fPYSxE0h.jpg</td><td>/qlxy8yo5bcgUw2KAmmojUKp4rHd.jpg</td><td>1006462-298618-569094-1061181-346698-1076487-616747-1083862-614930-1003581-980489-614479-1040148-872585-57084-667538-1149381-457332-724209-884605</td></tr><tr><td>758323</td><td>The Pope's Exorcist</td><td>Horror-Mystery-Thriller</td><td>en</td><td>Father Gabriele Amorth Chief Exorcist of the Vatican investigates a young boy's terrifying possession and ends up uncovering a centuries-old conspiracy the Vatican has desperately tried to keep hidden.</td><td>5953.227</td><td>Screen Gems-2.0 Entertainment-Jesus & Mary-Worldwide Katz-Loyola Productions-FFILME.RO</td><td>2023-04-05</td><td>1.8E7</td><td>6.5675816E7</td><td>103.0</td><td>Released</td><td>Inspired by the actual files of Father Gabriele Amorth, Chief Exorcist of the Vatican.</td><td>7.433</td><td>545.0</td><td>Russell Crowe-Daniel Zovatto-Alex Essoe-Franco Nero-Peter DeSouza-Feighoney-Laurel Marsden-Cornell John-Ryan O'Grady-Bianca Bardoe-Santi Bayón-Paloma Bloyd-Alessandro Gruttadauria-River Hawkins-Jordi Collet-Carrie Munro-Marc Velasco-Edward Harper-Jones-Matthew Sim-Victor Solé-Tom Bonington-Andrea Dugoni-Ed White-Laila Barwick-Gennaro Diana-Pablo Raybould-Ralph Ineson-Derek Carroll-Ella Cannon</td><td>spain-rome italy-vatican-pope-pig-possession-conspiracy-devil-exorcist-skepticism-catholic priest-1980s-supernatural horror</td><td>/9JBEPLTPSm0d1mbEcLxULjJq9Eh.jpg</td><td>/hiHGRbyTcbZoLsYYkO4QiCLYe34.jpg</td><td>713704-296271-502356-1076605-1084225-1008005-916224-1023313-1033219-980078-842945-943822-816904-804150-638974-649609-603692-849869-809787-776835-1104040</td></tr><tr><td>667538</td><td>Transformers: Rise of the Beasts</td><td>Action-Adventure-Science Fiction</td><td>en</td><td>When a new threat capable of destroying the entire planet emerges Optimus Prime and the Autobots must team up with a powerful faction known as the Maximals. With the fate of humanity hanging in the balance humans Noah and Elena will do whatever it takes to help the Transformers as they engage in the ultimate battle to save Earth.</td><td>5409.104</td><td>Skydance-Paramount-di Bonaventura Pictures-Bay Films-New Republic Pictures-Tom DeSanto/Don Murphy Production-Hasbro</td><td>2023-06-06</td><td>2.0E8</td><td>4.07045464E8</td><td>127.0</td><td>Released</td><td>Unite or fall.</td><td>7.34</td><td>1007.0</td><td>Anthony Ramos-Dominique Fishback-Luna Lauren Velez-Dean Scott Vazquez-Tobe Nwigwe-Sarah Stiles-Leni Parker-Frank Marrs-Aidan Devine-Kerwin Jackson-Mike Chute-Tyler Hall-Sean Tucker-Jay Farrar-Lucas Huarancca-Amiel Cayo-Santusa Cutipa-Yesenia Inquillay-Sumac T'Ika-Josue Sallo-Mellissa Alvarez-Gloria Cusi-Michael Kelly-Jason D. Avalos-Lesley Stahl-Peter Cullen-Ron Perlman-Peter Dinklage-Michelle Yeoh-Pete Davidson-Liza Koshy-John DiMaggio-David Sobolov-Michaela Jaé Rodriguez-Colman Domingo-Cristo Fernández-Tongayi Chirisa-Luke Jones</td><td>peru-alien-end of the world-based on cartoon-based on toy-robot-duringcreditsstinger-1990s-brother brother relationship</td><td>/gPbM0MK8CP8A174rmUwGsADNYKD.jpg</td><td>/woJbg7ZqidhpvqFGGMRhWQNoxwa.jpg</td><td>496450-569094-298618-385687-877100-598331-462883-979296-536437-532408-976573-447277-697843-603692-763261-9281-886563-324857-129120-980372-412117</td></tr><tr><td>640146</td><td>Ant-Man and the Wasp: Quantumania</td><td>Action-Adventure-Science Fiction</td><td>en</td><td>Super-Hero partners Scott Lang and Hope van Dyne along with with Hope's parents Janet van Dyne and Hank Pym and Scott's daughter Cassie Lang find themselves exploring the Quantum Realm interacting with strange new creatures and embarking on an adventure that will push them beyond the limits of what they thought possible.</td><td>4425.387</td><td>Marvel Studios-Kevin Feige Productions</td><td>2023-02-15</td><td>2.0E8</td><td>4.75766228E8</td><td>125.0</td><td>Released</td><td>Witness the beginning of a new dynasty.</td><td>6.507</td><td>2811.0</td><td>Paul Rudd-Evangeline Lilly-Jonathan Majors-Kathryn Newton-Michelle Pfeiffer-Michael Douglas-Corey Stoll-Bill Murray-William Jackson Harper-David Dastmalchian-Jamie Andrew Cutler-Katy O'Brian-Mark Weinman-Randall Park-Ross Mullan-Tom Clark-Leon Cooke-Nathan Blees-Durassie Kiangangu-Liran Nathan-Sam Symons-Grahame Fox-Nicola Peluso-Harrison Daniels-Brahmdeo Shannon Ramana-Russell Balogh-Leonardo Taiwo-Osian Roberts-Lucas Gerstel-Mia Gerstel-Tracy Jeffrey-Dinah Jeffrey-Judy Jeffrey-John Nayagam-Greta Nayagam-Cathy Chan-Adam Sai-Jamie Sai-Jakari Fraser-Patricia Belcher-Mark Oliver Everett-Ruben Rabasa-Melanie Garcia-Gregg Turkington-Sierra Katow-Ryan Bergara-Marielle Scott-Jake Millgard-Dey Young-Briza Covarrubias-Tess Aubert-David J. Castillo-Sir Cornwell-Alan Heitz-Esther McAuley-Aisling Maria Andreica-Milton Lopes-Roger Craig Smith-Matthew Wood-Loveday Smith-John Townsend-Tom Hiddleston-Owen Wilson-Abby Ryder Fortson</td><td>hero-ant-sequel-superhero-based on comic-family-superhero team-aftercreditsstinger-duringcreditsstinger-marvel cinematic universe (mcu)</td><td>/qnqGbB22YJ7dSs4o6M7exTpNxPz.jpg</td><td>/m8JTwHFwX7I7JY5fPe4SjqejWag.jpg</td><td>823999-676841-868759-734048-267805-965839-1033219-1035806-946310-811948-842942-772515-1058949-1105283-938992-1077280-76600-677179-802401-461191-980078</td></tr><tr><td>677179</td><td>Creed III</td><td>Drama-Action</td><td>en</td><td>After dominating the boxing world Adonis Creed has been thriving in both his career and family life. When a childhood friend and former boxing prodigy Damien Anderson resurfaces after serving a long sentence in prison he is eager to prove that he deserves his shot in the ring. The face-off between former friends is more than just a fight. To settle the score Adonis must put his future on the line to battle Damien — a fighter who has nothing to lose.</td><td>3994.342</td><td>Metro-Goldwyn-Mayer-Proximity Media-Balboa Productions-Outlier Society Productions-Chartoff-Winkler Productions</td><td>2023-03-01</td><td>7.5E7</td><td>2.69E8</td><td>116.0</td><td>Released</td><td>You can't run from your past.</td><td>7.262</td><td>1129.0</td><td>Michael B. Jordan-Tessa Thompson-Jonathan Majors-Wood Harris-Phylicia Rashād-Mila Davis-Kent-José Benavidez Jr.-Selenis Leyva-Florian Munteanu-Thaddeus J. Mixson-Spence Moore II-Tony Bellew-Patrice Harris-Ann Najjar-Jacob 'Stitch' Duran-Terence Crawford-Bobby Hernandez-Yahya McClain-Lamont Lankford-Corey Calliet-Kenny Bayless-Todd Grisham-Jessica McCaskill-Maya Page-Jimmy Lennon Jr.-Russell Mora-Al Bernstein-Mauro Ranallo-Brianna Valeria Gonzalez Vazquez-Shayra Medal-Kimberly Dawn Davis-David Diamante-Tony Weeks-Chris Mannix-Andreia Gibau-Soraya Yd-Stephen A. Smith-Barry Pepper-Jessica Holmes-Canelo Álvarez-Fernanda Gomez-Kehlani-Jeremy Lee Stone-Aaron D. Alexander-Brian Neal-Corey Hibbert-James Harden-Jove Edmond-Engle Files-Michael A. Jordan-Natasha Ofili-Rose Eshay-Alan Boell-Eli Joshua Adé-Butch Locsin-Stefni Valencia-Bella Dee-Anastasia Wilson-Beth Scherr-Michelle Davidson-Leah Haile-Teófimo López-Pete Penuel</td><td>philadelphia pennsylvania-husband wife relationship-deaf-sports-sequel-orphan-former best friend-ex-con-childhood friends-juvenile detention center-boxing-prodigy</td><td>/cvsXj3I9Q2iyyIo95AecSd1tad7.jpg</td><td>/5i6SjyDbDWqyun8klUuCxrlFbyw.jpg</td><td>965839-267805-943822-842942-1035806-823999-1077280-1058949-772515-937278-640146-758009-536554-1011679-315162-934433-785084-631842-82856-100088-436270</td></tr><tr><td>385687</td><td>Fast X</td><td>Action-Crime-Thriller</td><td>en</td><td>Over many missions and against impossible odds Dom Toretto and his family have outsmarted out-nerved and outdriven every foe in their path. Now they confront the most lethal opponent they've ever faced: A terrifying threat emerging from the shadows of the past who's fueled by blood revenge and who is determined to shatter this family and destroy everything—and everyone—that Dom loves forever.</td><td>3583.861</td><td>Universal Pictures-Original Film-One Race-Perfect Storm Entertainment</td><td>2023-05-17</td><td>3.4E8</td><td>7.0470966E8</td><td>142.0</td><td>Released</td><td>The end of the road begins.</td><td>7.275</td><td>3694.0</td><td>Vin Diesel-Michelle Rodriguez-Tyrese Gibson-Ludacris-John Cena-Nathalie Emmanuel-Jordana Brewster-Sung Kang-Jason Momoa-Scott Eastwood-Daniela Melchior-Alan Ritchson-Helen Mirren-Brie Larson-Jason Statham-Charlize Theron-Rita Moreno-Joaquim de Almeida-Leo A. Perry-Luis Da Silva Jr.-Jaz Hutchins-Luka Hays-Alexander Capon-Pete Davidson-Shadrach Agozino-Ludmilla-Miraj Grbić-Meadow Walker Thornton-Allan-Michael Irby-Shahir Figueira-Ben-Hur Santos-Debby Ryan-Josh Dun-Dwayne Johnson-Gal Gadot-Paul Walker-Ali Baddou</td><td>sequel-revenge-racing-family-cliffhanger-cars</td><td>/fiVW06jE7z9YnO4trhaMEdclSiC.jpg</td><td>/4XM8DUTQb3lhLemJC51Jx4a2EuA.jpg</td><td>19603-445954-781009-603692-697843-502356-298618-747355-1061181-569094-640146-447365-346698-121342-1076487-447277-325358-960033-667538-3-12354</td></tr><tr><td>614479</td><td>Insidious: The Red Door</td><td>Horror-Mystery-Thriller</td><td>en</td><td>To put their demons to rest once and for all Josh Lambert and a college-aged Dalton Lambert must go deeper into The Further than ever before facing their family's dark past and a host of new and more horrifying terrors that lurk behind the red door.</td><td>3512.648</td><td>Blumhouse Productions-Stage 6 Films-Screen Gems-Atomic Monster-Oren Peli Productions</td><td>2023-07-05</td><td>1.6E7</td><td>1.75582093E8</td><td>107.0</td><td>Released</td><td>It ends where it all began.</td><td>6.75</td><td>564.0</td><td>Ty Simpkins-Patrick Wilson-Sinclair Daniel-Rose Byrne-Lin Shaye-Hiam Abbass-Andrew Astor-Juliana Davies-Steve Coulter-Peter Dager-Joseph Bishara-Angus Sampson-Leigh Whannell-Justin Sturgis-David Call-Stephen Gray-Robin S. Walker-Bridget Kim-Logan Wilson-Kasjan Wilson-Mary Looram-Adrian Acosta-AJ Dyer-Kalin Wilson-E. Roger Mitchell-Dagmara Domińczyk-Tom Toland-Elaine Apruzzese-Suki Úna Rae-Desi Ramos-Victorya Danylko-Petrovskaya-Tom Fitzpatrick-Barbara Hershey</td><td>sequel-demon-franchise-insidious-supernatural horror-evil spirits-directorial debut-fifth part</td><td>/azTC5osYiqei1ofw6Z3GmUrxQbi.jpg</td><td>/i2GVEvltEu3BXn5crBSxgKuTaca.jpg</td><td>681435-644937-448085-980848-1101547-988355-561529-1084119-1070136-843275-147696-302252-847802-705862-699014-446106-13200-629524-621557-860964-647201</td></tr><tr><td>346698</td><td>Barbie</td><td>Comedy-Adventure-Fantasy</td><td>en</td><td>Barbie and Ken are having the time of their lives in the colorful and seemingly perfect world of Barbie Land. However when they get a chance to go to the real world they soon discover the joys and perils of living among humans.</td><td>3303.401</td><td>LuckyChap Entertainment-Heyday Films-NB/GG Pictures-Mattel</td><td>2023-07-19</td><td>1.45E8</td><td>1.031481E9</td><td>114.0</td><td>Released</td><td>She's everything. He's just Ken.</td><td>7.495</td><td>2406.0</td><td>Margot Robbie-Ryan Gosling-America Ferrera-Kate McKinnon-Ariana Greenblatt-Michael Cera-Will Ferrell-Issa Rae-Alexandra Shipp-Emma Mackey-Hari Nef-Helen Mirren-Rhea Perlman-Simu Liu-Kingsley Ben-Adir-Ncuti Gatwa-Connor Swindells-Emerald Fennell-Sharon Rooney-Ritu Arya-Ana Kayne-Nicola Coughlan-Lucy Boynton-Marisa Abela-Dua Lipa-John Cena-Scott Evans-Jamie Demetriou-Andrew Leung-Will Merrick-Zheng Xi Yong-Asim Chaudhry-Ray Fearon-Erica Ford-Hannah Khalique-Brown-Mette Towley-Rob Brydon-Tom Stourton-Chris Taylor-David Mumeni-Olivia Brody-Isla Ashworth-Eire Farrell-Daisy Duczmal-Genvieve Toussaint-Isabella Nightingale-Manuela Mora-Aida Sexton-Millie-Rose Crossley-Anvita Nehru-Kayla-Mai Alvares-Luke Mullen-Patrick Luwis-Mac Brandt-Paul Jurewicz-Oraldo Austin-Benjamin Arthur-Carlos Jacott-Adam Ray-George Basil-Ptolemy Slocum-Deb Hiett-James Leon-Oliver Vaquer-Tony Noto-Christopher T. Wood-Ann Roth-Annie Mumolo-Elise Gallup-McKenna Roberts-Brylee Hsu-Sasha Milstein-Lauren Holt-Sterling Jones-Ryan Piers Williams-Jamaal Lewis-Kathryn Akin-Grace Jabbari-Ira Mandela Siobhan-Lisa Spencer-Naomi Weijand-Tom Clark-Ireanne Abenoja-Davide Albonetti-Charlotte Anderson-Michael Anderson-Rico Bakker-James Bamford-William John Banks-Callum Bell-Adam Blaug-Mason Boyce-Taylor Bradshaw-Alex Brown-Miekaile Browne-Lewis Calcutt-Nikkita Chadha-Oliver Chapman-Megan Charles-Callum Clack-Danny Coburn-Kat Collings-Adam Crossley-Sia Dauda-Gustave Die-Grace Durkin-Joelle Dyson-Lewis Easter-Onyemachi Ejimofor-Cameron Everitt-Luke Field-Wright-Sasha Flesch-Adam Fogarty-Mikey French-Anna-Kay Gayle-Charlie Goddard-Marlie Goddard-Ellis Harman-Yasmin Harrison-Josh Hawkins-James Healy-Tim Hodges-Mira Jebari-Beccy Jones-Thomas Kalek-Lily Laight-Maiya Leeke-Cristian Liberti-Prodromos Marneros-Nahum McLean-Jordan Melchor-Ramzan Miah-Andy Monaghan-Florivaldo Mossi-Hannah Nazareth-Grant Neal-Freja Nicole-Shaun Niles-Ella Nonini-Jack William Parry-Josie Pocock-Barnaby Quarendon-Redmand Rance-Zara Richards-Liam Riddick-Alana Rixon-Adam Paul Robertson-Kingdom Sibanda-Sebastian Skov-Aaron J. Smith-Joshua Smith-Lucia-Rose Sokolowski-Janine Somcio-Callum Sterling-Todd Talbot-Charles Tatman-Grant Thresh-Connor Tidman-Wahchi Vong-Jerry Wan-Sasha Wareham-Stan West-Oliver Wheeler-Josh Wild-Joe Wolstenholme-Richard Womersley-Ashley Young-Alex Sturman</td><td>feminism-patriarchy-satire-based on toy-female protagonist-doll-fantasy world-motherhood-existentialism-woman director-mother daughter relationship</td><td>/iuFNMS8U5cb6xfzi51Dbkovj7vM.jpg</td><td>/nHf61UzkfFno5X1ofIhugCPus2R.jpg</td><td>null</td></tr><tr><td>298618</td><td>The Flash</td><td>Action-Adventure-Science Fiction</td><td>en</td><td>When his attempt to save his family inadvertently alters the future Barry Allen becomes trapped in a reality in which General Zod has returned and there are no Super Heroes to turn to. In order to save the world that he is in and return to the future that he knows Barry's only hope is to race for his life. But will making the ultimate sacrifice be enough to reset the universe?</td><td>2768.382</td><td>Warner Bros. Pictures-Double Dream-The Disco Factory-DC Films</td><td>2023-06-13</td><td>1.9E8</td><td>2.68375616E8</td><td>144.0</td><td>Released</td><td>Worlds collide.</td><td>6.947</td><td>1979.0</td><td>Ezra Miller-Sasha Calle-Michael Keaton-Michael Shannon-Ron Livingston-Maribel Verdú-Kiersey Clemons-Antje Traue-Saoirse-Monica Jackson-Rudy Mancuso-Ed Wade-Jeremy Irons-Temuera Morrison-Sanjeev Bhaskar-Sean Rogers-Kieran Hodgson-Luke Brandon Field-Ian Loh-Karl Collins-Nikolaj Coster-Waldau-Poppy Shepherd-Nina Barker-Francis-Ava Hamada-Maurice Chung-Florence Wright-Bastian Antonio Fuentes-Andoni Gracia-Alex Hank-Miki Muschietti-Rebecca Hiller-Rob Hunt-Jonny Stockwell-Michael Byrch-Bret Jones-Sue Maund-Alex Batareanu-Andrei Nova-Gabriel Constantin-Oleg Mirochnikov-Katia Elizarova-Denis Khoroshko-Zsuzsa Magyar-Michael Lerman-Rosie Ede-Andy Muschietti-Ellie Rawnsley-Greg Lockett-Chelsea Leigh Macleod-Leslie Soo-Freya Evans-Sue Moore-Lynn Farleigh-Martin Pemberton-Sarah Lawn-David Calvitto-Ben Affleck-Gal Gadot-Nicolas Cage-George Clooney-Jason Momoa</td><td>secret identity-hero-superhero-based on comic-superhuman-super power-aftercreditsstinger-butterfly effect-dc extended universe (dceu)-superhuman abilities-loss of mother</td><td>/rktDFPbfHfUbArZ6OOOKsXcv0Bm.jpg</td><td>/yF1eOkaYvwiORauRCPWznV9xVvi.jpg</td><td>3556-667538-346698-114472-71915-872585-447277-459003-447365-385687-457332-569094-1083862-976573-697843-455476-1005364-1115710-335977-1076487</td></tr><tr><td>646389</td><td>Plane</td><td>Action-Adventure-Thriller</td><td>en</td><td>After a heroic job of successfully landing his storm-damaged aircraft in a war zone a fearless pilot finds himself between the agendas of multiple militias planning to take the plane and its passengers hostage.</td><td>2618.646</td><td>MadRiver Pictures-Di Bonaventura Pictures-G-BASE-Olive Hill Media-Riverstone Pictures</td><td>2023-01-12</td><td>2.5E7</td><td>5.1E7</td><td>107.0</td><td>Released</td><td>Survive together or die alone.</td><td>6.901</td><td>785.0</td><td>Gerard Butler-Mike Colter-Yoson An-Tony Goldwyn-Daniella Pineda-Paul Ben-Victor-Remi Adeleke-Joey Slotnick-Evan Dane Taylor-Claro de los Reyes-Kelly Gale-Haleigh Hekking-Lilly Krug-Oliver Trevena-Tara Westwood-Mark Labella-Quinn McPherson-Kate Rachesky-Amber Rivera-Otis Winston-Modesto Lacen-Jeff Francisco-Jeffrey Holsman-Ariel Felix-Rose Eshay-Jessica Nam-Thomas A. Curran-Ricky Robles Cruz-Matthew Valeña-Natalia Román García-Ángel Fabián Rivera-Heather Seiffert-Kate Bisset</td><td>pilot-airplane-philippines-held hostage-plane crash</td><td>/qi9r5xBgcc9KTxlOLjssEbDgO0J.jpg</td><td>/9Rq14Eyrf7Tu1xk0Pl7VcNbNh1n.jpg</td><td>505642-758769-864692-631842-1058949-925943-758009-315162-615777-707610-922830-1013870-536554-1035806-58087-996727</td></tr></tbody></table></div>"
      ]
     },
     "metadata": {
      "application/vnd.databricks.v1+output": {
       "addedWidgets": {},
       "aggData": [],
       "aggError": "",
       "aggOverflow": false,
       "aggSchema": [],
       "aggSeriesLimitReached": false,
       "aggType": "",
       "arguments": {},
       "columnCustomDisplayInfos": {},
       "data": [
        [
         615656,
         "Meg 2: The Trench",
         "Action-Science Fiction-Horror",
         "en",
         "An exploratory dive into the deepest depths of the ocean of a daring research team spirals into chaos when a malevolent mining operation threatens their mission and forces them into a high-stakes battle for survival.",
         8763.998,
         "Apelles Entertainment-Warner Bros. Pictures-di Bonaventura Pictures-CMC Pictures-Gravity Pictures-China Film Group Corporation",
         "2023-08-02",
         1.29E8,
         3.52056482E8,
         116.0,
         "Released",
         "Back for seconds.",
         7.079,
         1365.0,
         "Jason Statham-Wu Jing-Shuya Sophia Cai-Sergio Peris-Mencheta-Skyler Samuels-Cliff Curtis-Page Kennedy-Sienna Guillory-Melissanthi Mahut-Kiran Sonia Sawar-Felix Mayr-Whoopie van Raam-Guo Tao-Robin Hill-Dai Lele-Sui Fong Ivy Tsui-Stewart Alexander-Li Xin-Billy Clements-Ron Smoorenburg-Rui Shang-Sara Dee-Jonny James-Bai Narisu-Kenneth Won-Able Wanamakok",
         "based on novel or book-sequel-kaiju",
         "/4m1Au3YkjqsxF8iwQy0fPYSxE0h.jpg",
         "/qlxy8yo5bcgUw2KAmmojUKp4rHd.jpg",
         "1006462-298618-569094-1061181-346698-1076487-616747-1083862-614930-1003581-980489-614479-1040148-872585-57084-667538-1149381-457332-724209-884605"
        ],
        [
         758323,
         "The Pope's Exorcist",
         "Horror-Mystery-Thriller",
         "en",
         "Father Gabriele Amorth Chief Exorcist of the Vatican investigates a young boy's terrifying possession and ends up uncovering a centuries-old conspiracy the Vatican has desperately tried to keep hidden.",
         5953.227,
         "Screen Gems-2.0 Entertainment-Jesus & Mary-Worldwide Katz-Loyola Productions-FFILME.RO",
         "2023-04-05",
         1.8E7,
         6.5675816E7,
         103.0,
         "Released",
         "Inspired by the actual files of Father Gabriele Amorth, Chief Exorcist of the Vatican.",
         7.433,
         545.0,
         "Russell Crowe-Daniel Zovatto-Alex Essoe-Franco Nero-Peter DeSouza-Feighoney-Laurel Marsden-Cornell John-Ryan O'Grady-Bianca Bardoe-Santi Bayón-Paloma Bloyd-Alessandro Gruttadauria-River Hawkins-Jordi Collet-Carrie Munro-Marc Velasco-Edward Harper-Jones-Matthew Sim-Victor Solé-Tom Bonington-Andrea Dugoni-Ed White-Laila Barwick-Gennaro Diana-Pablo Raybould-Ralph Ineson-Derek Carroll-Ella Cannon",
         "spain-rome italy-vatican-pope-pig-possession-conspiracy-devil-exorcist-skepticism-catholic priest-1980s-supernatural horror",
         "/9JBEPLTPSm0d1mbEcLxULjJq9Eh.jpg",
         "/hiHGRbyTcbZoLsYYkO4QiCLYe34.jpg",
         "713704-296271-502356-1076605-1084225-1008005-916224-1023313-1033219-980078-842945-943822-816904-804150-638974-649609-603692-849869-809787-776835-1104040"
        ],
        [
         667538,
         "Transformers: Rise of the Beasts",
         "Action-Adventure-Science Fiction",
         "en",
         "When a new threat capable of destroying the entire planet emerges Optimus Prime and the Autobots must team up with a powerful faction known as the Maximals. With the fate of humanity hanging in the balance humans Noah and Elena will do whatever it takes to help the Transformers as they engage in the ultimate battle to save Earth.",
         5409.104,
         "Skydance-Paramount-di Bonaventura Pictures-Bay Films-New Republic Pictures-Tom DeSanto/Don Murphy Production-Hasbro",
         "2023-06-06",
         2.0E8,
         4.07045464E8,
         127.0,
         "Released",
         "Unite or fall.",
         7.34,
         1007.0,
         "Anthony Ramos-Dominique Fishback-Luna Lauren Velez-Dean Scott Vazquez-Tobe Nwigwe-Sarah Stiles-Leni Parker-Frank Marrs-Aidan Devine-Kerwin Jackson-Mike Chute-Tyler Hall-Sean Tucker-Jay Farrar-Lucas Huarancca-Amiel Cayo-Santusa Cutipa-Yesenia Inquillay-Sumac T'Ika-Josue Sallo-Mellissa Alvarez-Gloria Cusi-Michael Kelly-Jason D. Avalos-Lesley Stahl-Peter Cullen-Ron Perlman-Peter Dinklage-Michelle Yeoh-Pete Davidson-Liza Koshy-John DiMaggio-David Sobolov-Michaela Jaé Rodriguez-Colman Domingo-Cristo Fernández-Tongayi Chirisa-Luke Jones",
         "peru-alien-end of the world-based on cartoon-based on toy-robot-duringcreditsstinger-1990s-brother brother relationship",
         "/gPbM0MK8CP8A174rmUwGsADNYKD.jpg",
         "/woJbg7ZqidhpvqFGGMRhWQNoxwa.jpg",
         "496450-569094-298618-385687-877100-598331-462883-979296-536437-532408-976573-447277-697843-603692-763261-9281-886563-324857-129120-980372-412117"
        ],
        [
         640146,
         "Ant-Man and the Wasp: Quantumania",
         "Action-Adventure-Science Fiction",
         "en",
         "Super-Hero partners Scott Lang and Hope van Dyne along with with Hope's parents Janet van Dyne and Hank Pym and Scott's daughter Cassie Lang find themselves exploring the Quantum Realm interacting with strange new creatures and embarking on an adventure that will push them beyond the limits of what they thought possible.",
         4425.387,
         "Marvel Studios-Kevin Feige Productions",
         "2023-02-15",
         2.0E8,
         4.75766228E8,
         125.0,
         "Released",
         "Witness the beginning of a new dynasty.",
         6.507,
         2811.0,
         "Paul Rudd-Evangeline Lilly-Jonathan Majors-Kathryn Newton-Michelle Pfeiffer-Michael Douglas-Corey Stoll-Bill Murray-William Jackson Harper-David Dastmalchian-Jamie Andrew Cutler-Katy O'Brian-Mark Weinman-Randall Park-Ross Mullan-Tom Clark-Leon Cooke-Nathan Blees-Durassie Kiangangu-Liran Nathan-Sam Symons-Grahame Fox-Nicola Peluso-Harrison Daniels-Brahmdeo Shannon Ramana-Russell Balogh-Leonardo Taiwo-Osian Roberts-Lucas Gerstel-Mia Gerstel-Tracy Jeffrey-Dinah Jeffrey-Judy Jeffrey-John Nayagam-Greta Nayagam-Cathy Chan-Adam Sai-Jamie Sai-Jakari Fraser-Patricia Belcher-Mark Oliver Everett-Ruben Rabasa-Melanie Garcia-Gregg Turkington-Sierra Katow-Ryan Bergara-Marielle Scott-Jake Millgard-Dey Young-Briza Covarrubias-Tess Aubert-David J. Castillo-Sir Cornwell-Alan Heitz-Esther McAuley-Aisling Maria Andreica-Milton Lopes-Roger Craig Smith-Matthew Wood-Loveday Smith-John Townsend-Tom Hiddleston-Owen Wilson-Abby Ryder Fortson",
         "hero-ant-sequel-superhero-based on comic-family-superhero team-aftercreditsstinger-duringcreditsstinger-marvel cinematic universe (mcu)",
         "/qnqGbB22YJ7dSs4o6M7exTpNxPz.jpg",
         "/m8JTwHFwX7I7JY5fPe4SjqejWag.jpg",
         "823999-676841-868759-734048-267805-965839-1033219-1035806-946310-811948-842942-772515-1058949-1105283-938992-1077280-76600-677179-802401-461191-980078"
        ],
        [
         677179,
         "Creed III",
         "Drama-Action",
         "en",
         "After dominating the boxing world Adonis Creed has been thriving in both his career and family life. When a childhood friend and former boxing prodigy Damien Anderson resurfaces after serving a long sentence in prison he is eager to prove that he deserves his shot in the ring. The face-off between former friends is more than just a fight. To settle the score Adonis must put his future on the line to battle Damien — a fighter who has nothing to lose.",
         3994.342,
         "Metro-Goldwyn-Mayer-Proximity Media-Balboa Productions-Outlier Society Productions-Chartoff-Winkler Productions",
         "2023-03-01",
         7.5E7,
         2.69E8,
         116.0,
         "Released",
         "You can't run from your past.",
         7.262,
         1129.0,
         "Michael B. Jordan-Tessa Thompson-Jonathan Majors-Wood Harris-Phylicia Rashād-Mila Davis-Kent-José Benavidez Jr.-Selenis Leyva-Florian Munteanu-Thaddeus J. Mixson-Spence Moore II-Tony Bellew-Patrice Harris-Ann Najjar-Jacob 'Stitch' Duran-Terence Crawford-Bobby Hernandez-Yahya McClain-Lamont Lankford-Corey Calliet-Kenny Bayless-Todd Grisham-Jessica McCaskill-Maya Page-Jimmy Lennon Jr.-Russell Mora-Al Bernstein-Mauro Ranallo-Brianna Valeria Gonzalez Vazquez-Shayra Medal-Kimberly Dawn Davis-David Diamante-Tony Weeks-Chris Mannix-Andreia Gibau-Soraya Yd-Stephen A. Smith-Barry Pepper-Jessica Holmes-Canelo Álvarez-Fernanda Gomez-Kehlani-Jeremy Lee Stone-Aaron D. Alexander-Brian Neal-Corey Hibbert-James Harden-Jove Edmond-Engle Files-Michael A. Jordan-Natasha Ofili-Rose Eshay-Alan Boell-Eli Joshua Adé-Butch Locsin-Stefni Valencia-Bella Dee-Anastasia Wilson-Beth Scherr-Michelle Davidson-Leah Haile-Teófimo López-Pete Penuel",
         "philadelphia pennsylvania-husband wife relationship-deaf-sports-sequel-orphan-former best friend-ex-con-childhood friends-juvenile detention center-boxing-prodigy",
         "/cvsXj3I9Q2iyyIo95AecSd1tad7.jpg",
         "/5i6SjyDbDWqyun8klUuCxrlFbyw.jpg",
         "965839-267805-943822-842942-1035806-823999-1077280-1058949-772515-937278-640146-758009-536554-1011679-315162-934433-785084-631842-82856-100088-436270"
        ],
        [
         385687,
         "Fast X",
         "Action-Crime-Thriller",
         "en",
         "Over many missions and against impossible odds Dom Toretto and his family have outsmarted out-nerved and outdriven every foe in their path. Now they confront the most lethal opponent they've ever faced: A terrifying threat emerging from the shadows of the past who's fueled by blood revenge and who is determined to shatter this family and destroy everything—and everyone—that Dom loves forever.",
         3583.861,
         "Universal Pictures-Original Film-One Race-Perfect Storm Entertainment",
         "2023-05-17",
         3.4E8,
         7.0470966E8,
         142.0,
         "Released",
         "The end of the road begins.",
         7.275,
         3694.0,
         "Vin Diesel-Michelle Rodriguez-Tyrese Gibson-Ludacris-John Cena-Nathalie Emmanuel-Jordana Brewster-Sung Kang-Jason Momoa-Scott Eastwood-Daniela Melchior-Alan Ritchson-Helen Mirren-Brie Larson-Jason Statham-Charlize Theron-Rita Moreno-Joaquim de Almeida-Leo A. Perry-Luis Da Silva Jr.-Jaz Hutchins-Luka Hays-Alexander Capon-Pete Davidson-Shadrach Agozino-Ludmilla-Miraj Grbić-Meadow Walker Thornton-Allan-Michael Irby-Shahir Figueira-Ben-Hur Santos-Debby Ryan-Josh Dun-Dwayne Johnson-Gal Gadot-Paul Walker-Ali Baddou",
         "sequel-revenge-racing-family-cliffhanger-cars",
         "/fiVW06jE7z9YnO4trhaMEdclSiC.jpg",
         "/4XM8DUTQb3lhLemJC51Jx4a2EuA.jpg",
         "19603-445954-781009-603692-697843-502356-298618-747355-1061181-569094-640146-447365-346698-121342-1076487-447277-325358-960033-667538-3-12354"
        ],
        [
         614479,
         "Insidious: The Red Door",
         "Horror-Mystery-Thriller",
         "en",
         "To put their demons to rest once and for all Josh Lambert and a college-aged Dalton Lambert must go deeper into The Further than ever before facing their family's dark past and a host of new and more horrifying terrors that lurk behind the red door.",
         3512.648,
         "Blumhouse Productions-Stage 6 Films-Screen Gems-Atomic Monster-Oren Peli Productions",
         "2023-07-05",
         1.6E7,
         1.75582093E8,
         107.0,
         "Released",
         "It ends where it all began.",
         6.75,
         564.0,
         "Ty Simpkins-Patrick Wilson-Sinclair Daniel-Rose Byrne-Lin Shaye-Hiam Abbass-Andrew Astor-Juliana Davies-Steve Coulter-Peter Dager-Joseph Bishara-Angus Sampson-Leigh Whannell-Justin Sturgis-David Call-Stephen Gray-Robin S. Walker-Bridget Kim-Logan Wilson-Kasjan Wilson-Mary Looram-Adrian Acosta-AJ Dyer-Kalin Wilson-E. Roger Mitchell-Dagmara Domińczyk-Tom Toland-Elaine Apruzzese-Suki Úna Rae-Desi Ramos-Victorya Danylko-Petrovskaya-Tom Fitzpatrick-Barbara Hershey",
         "sequel-demon-franchise-insidious-supernatural horror-evil spirits-directorial debut-fifth part",
         "/azTC5osYiqei1ofw6Z3GmUrxQbi.jpg",
         "/i2GVEvltEu3BXn5crBSxgKuTaca.jpg",
         "681435-644937-448085-980848-1101547-988355-561529-1084119-1070136-843275-147696-302252-847802-705862-699014-446106-13200-629524-621557-860964-647201"
        ],
        [
         346698,
         "Barbie",
         "Comedy-Adventure-Fantasy",
         "en",
         "Barbie and Ken are having the time of their lives in the colorful and seemingly perfect world of Barbie Land. However when they get a chance to go to the real world they soon discover the joys and perils of living among humans.",
         3303.401,
         "LuckyChap Entertainment-Heyday Films-NB/GG Pictures-Mattel",
         "2023-07-19",
         1.45E8,
         1.031481E9,
         114.0,
         "Released",
         "She's everything. He's just Ken.",
         7.495,
         2406.0,
         "Margot Robbie-Ryan Gosling-America Ferrera-Kate McKinnon-Ariana Greenblatt-Michael Cera-Will Ferrell-Issa Rae-Alexandra Shipp-Emma Mackey-Hari Nef-Helen Mirren-Rhea Perlman-Simu Liu-Kingsley Ben-Adir-Ncuti Gatwa-Connor Swindells-Emerald Fennell-Sharon Rooney-Ritu Arya-Ana Kayne-Nicola Coughlan-Lucy Boynton-Marisa Abela-Dua Lipa-John Cena-Scott Evans-Jamie Demetriou-Andrew Leung-Will Merrick-Zheng Xi Yong-Asim Chaudhry-Ray Fearon-Erica Ford-Hannah Khalique-Brown-Mette Towley-Rob Brydon-Tom Stourton-Chris Taylor-David Mumeni-Olivia Brody-Isla Ashworth-Eire Farrell-Daisy Duczmal-Genvieve Toussaint-Isabella Nightingale-Manuela Mora-Aida Sexton-Millie-Rose Crossley-Anvita Nehru-Kayla-Mai Alvares-Luke Mullen-Patrick Luwis-Mac Brandt-Paul Jurewicz-Oraldo Austin-Benjamin Arthur-Carlos Jacott-Adam Ray-George Basil-Ptolemy Slocum-Deb Hiett-James Leon-Oliver Vaquer-Tony Noto-Christopher T. Wood-Ann Roth-Annie Mumolo-Elise Gallup-McKenna Roberts-Brylee Hsu-Sasha Milstein-Lauren Holt-Sterling Jones-Ryan Piers Williams-Jamaal Lewis-Kathryn Akin-Grace Jabbari-Ira Mandela Siobhan-Lisa Spencer-Naomi Weijand-Tom Clark-Ireanne Abenoja-Davide Albonetti-Charlotte Anderson-Michael Anderson-Rico Bakker-James Bamford-William John Banks-Callum Bell-Adam Blaug-Mason Boyce-Taylor Bradshaw-Alex Brown-Miekaile Browne-Lewis Calcutt-Nikkita Chadha-Oliver Chapman-Megan Charles-Callum Clack-Danny Coburn-Kat Collings-Adam Crossley-Sia Dauda-Gustave Die-Grace Durkin-Joelle Dyson-Lewis Easter-Onyemachi Ejimofor-Cameron Everitt-Luke Field-Wright-Sasha Flesch-Adam Fogarty-Mikey French-Anna-Kay Gayle-Charlie Goddard-Marlie Goddard-Ellis Harman-Yasmin Harrison-Josh Hawkins-James Healy-Tim Hodges-Mira Jebari-Beccy Jones-Thomas Kalek-Lily Laight-Maiya Leeke-Cristian Liberti-Prodromos Marneros-Nahum McLean-Jordan Melchor-Ramzan Miah-Andy Monaghan-Florivaldo Mossi-Hannah Nazareth-Grant Neal-Freja Nicole-Shaun Niles-Ella Nonini-Jack William Parry-Josie Pocock-Barnaby Quarendon-Redmand Rance-Zara Richards-Liam Riddick-Alana Rixon-Adam Paul Robertson-Kingdom Sibanda-Sebastian Skov-Aaron J. Smith-Joshua Smith-Lucia-Rose Sokolowski-Janine Somcio-Callum Sterling-Todd Talbot-Charles Tatman-Grant Thresh-Connor Tidman-Wahchi Vong-Jerry Wan-Sasha Wareham-Stan West-Oliver Wheeler-Josh Wild-Joe Wolstenholme-Richard Womersley-Ashley Young-Alex Sturman",
         "feminism-patriarchy-satire-based on toy-female protagonist-doll-fantasy world-motherhood-existentialism-woman director-mother daughter relationship",
         "/iuFNMS8U5cb6xfzi51Dbkovj7vM.jpg",
         "/nHf61UzkfFno5X1ofIhugCPus2R.jpg",
         null
        ],
        [
         298618,
         "The Flash",
         "Action-Adventure-Science Fiction",
         "en",
         "When his attempt to save his family inadvertently alters the future Barry Allen becomes trapped in a reality in which General Zod has returned and there are no Super Heroes to turn to. In order to save the world that he is in and return to the future that he knows Barry's only hope is to race for his life. But will making the ultimate sacrifice be enough to reset the universe?",
         2768.382,
         "Warner Bros. Pictures-Double Dream-The Disco Factory-DC Films",
         "2023-06-13",
         1.9E8,
         2.68375616E8,
         144.0,
         "Released",
         "Worlds collide.",
         6.947,
         1979.0,
         "Ezra Miller-Sasha Calle-Michael Keaton-Michael Shannon-Ron Livingston-Maribel Verdú-Kiersey Clemons-Antje Traue-Saoirse-Monica Jackson-Rudy Mancuso-Ed Wade-Jeremy Irons-Temuera Morrison-Sanjeev Bhaskar-Sean Rogers-Kieran Hodgson-Luke Brandon Field-Ian Loh-Karl Collins-Nikolaj Coster-Waldau-Poppy Shepherd-Nina Barker-Francis-Ava Hamada-Maurice Chung-Florence Wright-Bastian Antonio Fuentes-Andoni Gracia-Alex Hank-Miki Muschietti-Rebecca Hiller-Rob Hunt-Jonny Stockwell-Michael Byrch-Bret Jones-Sue Maund-Alex Batareanu-Andrei Nova-Gabriel Constantin-Oleg Mirochnikov-Katia Elizarova-Denis Khoroshko-Zsuzsa Magyar-Michael Lerman-Rosie Ede-Andy Muschietti-Ellie Rawnsley-Greg Lockett-Chelsea Leigh Macleod-Leslie Soo-Freya Evans-Sue Moore-Lynn Farleigh-Martin Pemberton-Sarah Lawn-David Calvitto-Ben Affleck-Gal Gadot-Nicolas Cage-George Clooney-Jason Momoa",
         "secret identity-hero-superhero-based on comic-superhuman-super power-aftercreditsstinger-butterfly effect-dc extended universe (dceu)-superhuman abilities-loss of mother",
         "/rktDFPbfHfUbArZ6OOOKsXcv0Bm.jpg",
         "/yF1eOkaYvwiORauRCPWznV9xVvi.jpg",
         "3556-667538-346698-114472-71915-872585-447277-459003-447365-385687-457332-569094-1083862-976573-697843-455476-1005364-1115710-335977-1076487"
        ],
        [
         646389,
         "Plane",
         "Action-Adventure-Thriller",
         "en",
         "After a heroic job of successfully landing his storm-damaged aircraft in a war zone a fearless pilot finds himself between the agendas of multiple militias planning to take the plane and its passengers hostage.",
         2618.646,
         "MadRiver Pictures-Di Bonaventura Pictures-G-BASE-Olive Hill Media-Riverstone Pictures",
         "2023-01-12",
         2.5E7,
         5.1E7,
         107.0,
         "Released",
         "Survive together or die alone.",
         6.901,
         785.0,
         "Gerard Butler-Mike Colter-Yoson An-Tony Goldwyn-Daniella Pineda-Paul Ben-Victor-Remi Adeleke-Joey Slotnick-Evan Dane Taylor-Claro de los Reyes-Kelly Gale-Haleigh Hekking-Lilly Krug-Oliver Trevena-Tara Westwood-Mark Labella-Quinn McPherson-Kate Rachesky-Amber Rivera-Otis Winston-Modesto Lacen-Jeff Francisco-Jeffrey Holsman-Ariel Felix-Rose Eshay-Jessica Nam-Thomas A. Curran-Ricky Robles Cruz-Matthew Valeña-Natalia Román García-Ángel Fabián Rivera-Heather Seiffert-Kate Bisset",
         "pilot-airplane-philippines-held hostage-plane crash",
         "/qi9r5xBgcc9KTxlOLjssEbDgO0J.jpg",
         "/9Rq14Eyrf7Tu1xk0Pl7VcNbNh1n.jpg",
         "505642-758769-864692-631842-1058949-925943-758009-315162-615777-707610-922830-1013870-536554-1035806-58087-996727"
        ]
       ],
       "datasetInfos": [],
       "dbfsResultPath": null,
       "isJsonSchema": true,
       "metadata": {},
       "overflow": false,
       "plotOptions": {
        "customPlotOptions": {},
        "displayType": "table",
        "pivotAggregation": null,
        "pivotColumns": null,
        "xColumns": null,
        "yColumns": null
       },
       "removedWidgets": [],
       "schema": [
        {
         "metadata": "{}",
         "name": "id",
         "type": "\"long\""
        },
        {
         "metadata": "{}",
         "name": "title",
         "type": "\"string\""
        },
        {
         "metadata": "{}",
         "name": "genres",
         "type": "\"string\""
        },
        {
         "metadata": "{}",
         "name": "original_language",
         "type": "\"string\""
        },
        {
         "metadata": "{}",
         "name": "overview",
         "type": "\"string\""
        },
        {
         "metadata": "{}",
         "name": "popularity",
         "type": "\"double\""
        },
        {
         "metadata": "{}",
         "name": "production_companies",
         "type": "\"string\""
        },
        {
         "metadata": "{\"__detected_date_formats\":\"yyyy-M-d\"}",
         "name": "release_date",
         "type": "\"date\""
        },
        {
         "metadata": "{}",
         "name": "budget",
         "type": "\"double\""
        },
        {
         "metadata": "{}",
         "name": "revenue",
         "type": "\"double\""
        },
        {
         "metadata": "{}",
         "name": "runtime",
         "type": "\"double\""
        },
        {
         "metadata": "{}",
         "name": "status",
         "type": "\"string\""
        },
        {
         "metadata": "{}",
         "name": "tagline",
         "type": "\"string\""
        },
        {
         "metadata": "{}",
         "name": "vote_average",
         "type": "\"double\""
        },
        {
         "metadata": "{}",
         "name": "vote_count",
         "type": "\"double\""
        },
        {
         "metadata": "{}",
         "name": "credits",
         "type": "\"string\""
        },
        {
         "metadata": "{}",
         "name": "keywords",
         "type": "\"string\""
        },
        {
         "metadata": "{}",
         "name": "poster_path",
         "type": "\"string\""
        },
        {
         "metadata": "{}",
         "name": "backdrop_path",
         "type": "\"string\""
        },
        {
         "metadata": "{}",
         "name": "recommendations",
         "type": "\"string\""
        }
       ],
       "type": "table"
      }
     },
     "output_type": "display_data"
    }
   ],
   "source": [
    "--  Show the first 10 rows from the movies table residing in the user-specific schema of the Hive metastore\n",
    "\n",
    "SELECT * \n",
    "FROM IDENTIFIER('hive_metastore.' || user_hive_schema || '.movies')\n",
    "LIMIT 10"
   ]
  },
  {
   "cell_type": "markdown",
   "metadata": {
    "application/vnd.databricks.v1+cell": {
     "cellMetadata": {},
     "inputWidgets": {},
     "nuid": "a85dbf3e-a7b9-4d1a-a7b4-21d8dbb9664b",
     "showTitle": false,
     "tableResultSettingsMap": {},
     "title": ""
    }
   },
   "source": [
    "## D. Overview of Upgrade Methods\n",
    "\n",
    "There are a few different ways to upgrade a table, but the method you choose will be driven primarily by how you want to treat the table data. If you wish to leave the table data in place, then the resulting upgraded table will be an external table. If you wish to move the table data into your Unity Catalog metastore, then the resulting table will be a managed table. Consult [this page](https://docs.databricks.com/en/data-governance/unity-catalog/index.html#managed-versus-external-tables-and-volumes) for tips on whether to choose a managed or external table."
   ]
  },
  {
   "cell_type": "markdown",
   "metadata": {
    "application/vnd.databricks.v1+cell": {
     "cellMetadata": {},
     "inputWidgets": {},
     "nuid": "8ac242cb-efe7-4de3-9a40-ee6dee5f6c3a",
     "showTitle": false,
     "tableResultSettingsMap": {},
     "title": ""
    }
   },
   "source": [
    "### D1. Moving Table Data into the Unity Catalog Metastore\n",
    "\n",
    "In this approach, table data will be copied from wherever it resides into the managed data storage area for the destination schema, catalog or metastore. The result will be a managed Delta table in your Unity Catalog metastore. \n",
    "\n",
    "This approach has two main advantages:\n",
    "* Managed tables in Unity Catalog can benefit from product optimization features that may not work well (if at all) on tables that aren't managed\n",
    "* Moving the data also gives you the opportunity to restructure your tables, in case you want to make any changes\n",
    "\n",
    "The main disadvantage to this approach is, particularly for large datasets, the time and cost associated with copying the data.\n",
    "\n",
    "In this section, we cover two different options that will move table data into the Unity Catalog metastore."
   ]
  },
  {
   "cell_type": "markdown",
   "metadata": {
    "application/vnd.databricks.v1+cell": {
     "cellMetadata": {},
     "inputWidgets": {},
     "nuid": "3ae4609e-669e-49c2-825b-950781e4e07a",
     "showTitle": false,
     "tableResultSettingsMap": {},
     "title": ""
    }
   },
   "source": [
    "#### D1.1 Cloning a Table\n",
    "\n",
    "Cloning a table is optimal when the source table is Delta (see <a href=\"https://docs.databricks.com/delta/clone.html\" target=\"_blank\">documentation</a> for a full explanation). It's simple to use, it will copy metadata, and it gives you the option of copying data (deep clone) or optionally leaving it in place (shallow clone). Shallow clones can be useful in some use cases.\n",
    "\n",
    "1. Run the following cell to check the format of the source table. View the results. Notice the following:\n",
    "\n",
    "    - Referring to the *Provider* row, we see the source is a Delta table. \n",
    "    - Referring to the *Location* row, we see that the table is stored in DBFS."
   ]
  },
  {
   "cell_type": "code",
   "execution_count": 0,
   "metadata": {
    "application/vnd.databricks.v1+cell": {
     "cellMetadata": {
      "byteLimit": 2048000,
      "rowLimit": 10000
     },
     "inputWidgets": {},
     "nuid": "bcdf37c5-6d48-4758-ae1d-0fe8ac5f0b2b",
     "showTitle": false,
     "tableResultSettingsMap": {},
     "title": ""
    }
   },
   "outputs": [
    {
     "output_type": "display_data",
     "data": {
      "text/html": [
       "<style scoped>\n",
       "  .table-result-container {\n",
       "    max-height: 300px;\n",
       "    overflow: auto;\n",
       "  }\n",
       "  table, th, td {\n",
       "    border: 1px solid black;\n",
       "    border-collapse: collapse;\n",
       "  }\n",
       "  th, td {\n",
       "    padding: 5px;\n",
       "  }\n",
       "  th {\n",
       "    text-align: left;\n",
       "  }\n",
       "</style><div class='table-result-container'><table class='table-result'><thead style='background-color: white'><tr><th>col_name</th><th>data_type</th><th>comment</th></tr></thead><tbody><tr><td>id</td><td>bigint</td><td>null</td></tr><tr><td>title</td><td>string</td><td>null</td></tr><tr><td>genres</td><td>string</td><td>null</td></tr><tr><td>original_language</td><td>string</td><td>null</td></tr><tr><td>overview</td><td>string</td><td>null</td></tr><tr><td>popularity</td><td>double</td><td>null</td></tr><tr><td>production_companies</td><td>string</td><td>null</td></tr><tr><td>release_date</td><td>date</td><td>null</td></tr><tr><td>budget</td><td>double</td><td>null</td></tr><tr><td>revenue</td><td>double</td><td>null</td></tr><tr><td>runtime</td><td>double</td><td>null</td></tr><tr><td>status</td><td>string</td><td>null</td></tr><tr><td>tagline</td><td>string</td><td>null</td></tr><tr><td>vote_average</td><td>double</td><td>null</td></tr><tr><td>vote_count</td><td>double</td><td>null</td></tr><tr><td>credits</td><td>string</td><td>null</td></tr><tr><td>keywords</td><td>string</td><td>null</td></tr><tr><td>poster_path</td><td>string</td><td>null</td></tr><tr><td>backdrop_path</td><td>string</td><td>null</td></tr><tr><td>recommendations</td><td>string</td><td>null</td></tr><tr><td></td><td></td><td></td></tr><tr><td># Delta Statistics Columns</td><td></td><td></td></tr><tr><td>Column Names</td><td>popularity, tagline, original_language, vote_count, credits, vote_average, id, release_date, status, revenue, genres, overview, budget, keywords, production_companies, title, recommendations, poster_path, runtime, backdrop_path</td><td></td></tr><tr><td>Column Selection Method</td><td>first-32</td><td></td></tr><tr><td></td><td></td><td></td></tr><tr><td># Detailed Table Information</td><td></td><td></td></tr><tr><td>Catalog</td><td>hive_metastore</td><td></td></tr><tr><td>Database</td><td>labuser11086062_1754032747</td><td></td></tr><tr><td>Table</td><td>movies</td><td></td></tr><tr><td>Created Time</td><td>Fri Aug 01 07:47:59 UTC 2025</td><td></td></tr><tr><td>Last Access</td><td>UNKNOWN</td><td></td></tr><tr><td>Created By</td><td>Spark 3.5.2</td><td></td></tr><tr><td>Type</td><td>MANAGED</td><td></td></tr><tr><td>Location</td><td>dbfs:/user/hive/warehouse/labuser11086062_1754032747.db/movies</td><td></td></tr><tr><td>Provider</td><td>delta</td><td></td></tr><tr><td>Owner</td><td>root</td><td></td></tr><tr><td>Is_managed_location</td><td>true</td><td></td></tr><tr><td>Table Properties</td><td>[delta.enableDeletionVectors=true,delta.feature.appendOnly=supported,delta.feature.deletionVectors=supported,delta.feature.invariants=supported,delta.minReaderVersion=3,delta.minWriterVersion=7]</td><td></td></tr></tbody></table></div>"
      ]
     },
     "metadata": {
      "application/vnd.databricks.v1+output": {
       "addedWidgets": {},
       "aggData": [],
       "aggError": "",
       "aggOverflow": false,
       "aggSchema": [],
       "aggSeriesLimitReached": false,
       "aggType": "",
       "arguments": {},
       "columnCustomDisplayInfos": {},
       "data": [
        [
         "id",
         "bigint",
         null
        ],
        [
         "title",
         "string",
         null
        ],
        [
         "genres",
         "string",
         null
        ],
        [
         "original_language",
         "string",
         null
        ],
        [
         "overview",
         "string",
         null
        ],
        [
         "popularity",
         "double",
         null
        ],
        [
         "production_companies",
         "string",
         null
        ],
        [
         "release_date",
         "date",
         null
        ],
        [
         "budget",
         "double",
         null
        ],
        [
         "revenue",
         "double",
         null
        ],
        [
         "runtime",
         "double",
         null
        ],
        [
         "status",
         "string",
         null
        ],
        [
         "tagline",
         "string",
         null
        ],
        [
         "vote_average",
         "double",
         null
        ],
        [
         "vote_count",
         "double",
         null
        ],
        [
         "credits",
         "string",
         null
        ],
        [
         "keywords",
         "string",
         null
        ],
        [
         "poster_path",
         "string",
         null
        ],
        [
         "backdrop_path",
         "string",
         null
        ],
        [
         "recommendations",
         "string",
         null
        ],
        [
         "",
         "",
         ""
        ],
        [
         "# Delta Statistics Columns",
         "",
         ""
        ],
        [
         "Column Names",
         "popularity, tagline, original_language, vote_count, credits, vote_average, id, release_date, status, revenue, genres, overview, budget, keywords, production_companies, title, recommendations, poster_path, runtime, backdrop_path",
         ""
        ],
        [
         "Column Selection Method",
         "first-32",
         ""
        ],
        [
         "",
         "",
         ""
        ],
        [
         "# Detailed Table Information",
         "",
         ""
        ],
        [
         "Catalog",
         "hive_metastore",
         ""
        ],
        [
         "Database",
         "labuser11086062_1754032747",
         ""
        ],
        [
         "Table",
         "movies",
         ""
        ],
        [
         "Created Time",
         "Fri Aug 01 07:47:59 UTC 2025",
         ""
        ],
        [
         "Last Access",
         "UNKNOWN",
         ""
        ],
        [
         "Created By",
         "Spark 3.5.2",
         ""
        ],
        [
         "Type",
         "MANAGED",
         ""
        ],
        [
         "Location",
         "dbfs:/user/hive/warehouse/labuser11086062_1754032747.db/movies",
         ""
        ],
        [
         "Provider",
         "delta",
         ""
        ],
        [
         "Owner",
         "root",
         ""
        ],
        [
         "Is_managed_location",
         "true",
         ""
        ],
        [
         "Table Properties",
         "[delta.enableDeletionVectors=true,delta.feature.appendOnly=supported,delta.feature.deletionVectors=supported,delta.feature.invariants=supported,delta.minReaderVersion=3,delta.minWriterVersion=7]",
         ""
        ]
       ],
       "datasetInfos": [],
       "dbfsResultPath": null,
       "isJsonSchema": true,
       "metadata": {
        "isDbfsCommandResult": false
       },
       "overflow": false,
       "plotOptions": {
        "customPlotOptions": {},
        "displayType": "table",
        "pivotAggregation": null,
        "pivotColumns": null,
        "xColumns": null,
        "yColumns": null
       },
       "removedWidgets": [],
       "schema": [
        {
         "metadata": "{\"comment\":\"name of the column\"}",
         "name": "col_name",
         "type": "\"string\""
        },
        {
         "metadata": "{\"comment\":\"data type of the column\"}",
         "name": "data_type",
         "type": "\"string\""
        },
        {
         "metadata": "{\"comment\":\"comment of the column\"}",
         "name": "comment",
         "type": "\"string\""
        }
       ],
       "type": "table"
      }
     },
     "output_type": "display_data"
    }
   ],
   "source": [
    "-- Describe the properties of the \"movies\" table in the user-specific schema of the Hive metastore using the extended option for more details.\n",
    "-- DESCRIBE EXTENDED hive_metastore.yourschema.movies\n",
    "\n",
    "DESCRIBE EXTENDED IDENTIFIER('hive_metastore.' || user_hive_schema || '.movies')"
   ]
  },
  {
   "cell_type": "markdown",
   "metadata": {
    "application/vnd.databricks.v1+cell": {
     "cellMetadata": {},
     "inputWidgets": {},
     "nuid": "e55490e4-f738-460e-b787-2152272fad0e",
     "showTitle": false,
     "tableResultSettingsMap": {},
     "title": ""
    }
   },
   "source": [
    "2. Let's perform a deep clone operation to copy the table from the hive metastore, creating a destination table named *movies_clone* in the **example** schema with your catalog."
   ]
  },
  {
   "cell_type": "code",
   "execution_count": 0,
   "metadata": {
    "application/vnd.databricks.v1+cell": {
     "cellMetadata": {
      "byteLimit": 2048000,
      "rowLimit": 10000
     },
     "inputWidgets": {},
     "nuid": "52a2d2fc-ade3-4682-97f0-2a3dde7a5d5c",
     "showTitle": false,
     "tableResultSettingsMap": {},
     "title": ""
    }
   },
   "outputs": [
    {
     "output_type": "display_data",
     "data": {
      "text/html": [
       "<style scoped>\n",
       "  .table-result-container {\n",
       "    max-height: 300px;\n",
       "    overflow: auto;\n",
       "  }\n",
       "  table, th, td {\n",
       "    border: 1px solid black;\n",
       "    border-collapse: collapse;\n",
       "  }\n",
       "  th, td {\n",
       "    padding: 5px;\n",
       "  }\n",
       "  th {\n",
       "    text-align: left;\n",
       "  }\n",
       "</style><div class='table-result-container'><table class='table-result'><thead style='background-color: white'><tr><th>source_table_size</th><th>source_num_of_files</th><th>num_of_synced_transactions</th><th>num_removed_files</th><th>num_copied_files</th><th>removed_files_size</th><th>copied_files_size</th></tr></thead><tbody><tr><td>837350</td><td>1</td><td>null</td><td>0</td><td>1</td><td>0</td><td>837350</td></tr></tbody></table></div>"
      ]
     },
     "metadata": {
      "application/vnd.databricks.v1+output": {
       "addedWidgets": {},
       "aggData": [],
       "aggError": "",
       "aggOverflow": false,
       "aggSchema": [],
       "aggSeriesLimitReached": false,
       "aggType": "",
       "arguments": {},
       "columnCustomDisplayInfos": {},
       "data": [
        [
         837350,
         1,
         null,
         0,
         1,
         0,
         837350
        ]
       ],
       "datasetInfos": [],
       "dbfsResultPath": null,
       "isJsonSchema": true,
       "metadata": {},
       "overflow": false,
       "plotOptions": {
        "customPlotOptions": {},
        "displayType": "table",
        "pivotAggregation": null,
        "pivotColumns": null,
        "xColumns": null,
        "yColumns": null
       },
       "removedWidgets": [],
       "schema": [
        {
         "metadata": "{}",
         "name": "source_table_size",
         "type": "\"long\""
        },
        {
         "metadata": "{}",
         "name": "source_num_of_files",
         "type": "\"long\""
        },
        {
         "metadata": "{}",
         "name": "num_of_synced_transactions",
         "type": "\"long\""
        },
        {
         "metadata": "{}",
         "name": "num_removed_files",
         "type": "\"long\""
        },
        {
         "metadata": "{}",
         "name": "num_copied_files",
         "type": "\"long\""
        },
        {
         "metadata": "{}",
         "name": "removed_files_size",
         "type": "\"long\""
        },
        {
         "metadata": "{}",
         "name": "copied_files_size",
         "type": "\"long\""
        }
       ],
       "type": "table"
      }
     },
     "output_type": "display_data"
    }
   ],
   "source": [
    "%python\n",
    "## Deep clone the \"movies\" table from the user-specific schema of the Hive metastore to create a new table named \"movies_clone\" in the user-specific catalog of the example schema.\n",
    "\n",
    "results = spark.sql(f'''\n",
    "CREATE OR REPLACE TABLE movies_clone \n",
    "DEEP CLONE hive_metastore.{DA.user_hive_schema}.movies\n",
    "''')\n",
    "\n",
    "display(results)"
   ]
  },
  {
   "cell_type": "markdown",
   "metadata": {
    "application/vnd.databricks.v1+cell": {
     "cellMetadata": {},
     "inputWidgets": {},
     "nuid": "359052cc-26b6-4dac-bae9-ffae90470c00",
     "showTitle": false,
     "tableResultSettingsMap": {},
     "title": ""
    }
   },
   "source": [
    "3. Let's manually view our **example** schema within our catalog.\n",
    "    - Select the catalog icon on the left. \n",
    "\n",
    "    - Expand your unique catalog name.\n",
    "\n",
    "    - Expand the **example** schema.\n",
    "\n",
    "    - Expand **Tables**.\n",
    "\n",
    "    - Notice that the **movies** table from the hive metastore has been cloned into your schema as **movies_clone**."
   ]
  },
  {
   "cell_type": "markdown",
   "metadata": {
    "application/vnd.databricks.v1+cell": {
     "cellMetadata": {},
     "inputWidgets": {},
     "nuid": "044972f9-a8ad-45a5-8b84-f9861b03bea9",
     "showTitle": false,
     "tableResultSettingsMap": {},
     "title": ""
    }
   },
   "source": [
    "#### D1.2 Create Table As Select (CTAS)\n",
    "\n",
    "Using CTAS is a universally applicable technique that simply creates a new table based on the output of a **`SELECT`** statement. This will always copy the data, and no metadata will be copied.\n",
    "\n",
    "1. Let's copy the table from the hive metastore using this approach, creating a destination table named *movies_ctas* in our catalog within the **example** schema."
   ]
  },
  {
   "cell_type": "code",
   "execution_count": 0,
   "metadata": {
    "application/vnd.databricks.v1+cell": {
     "cellMetadata": {
      "byteLimit": 2048000,
      "rowLimit": 10000
     },
     "inputWidgets": {},
     "nuid": "2fb5fdf6-2dc1-4f38-b0d6-fe393cad6bd5",
     "showTitle": false,
     "tableResultSettingsMap": {},
     "title": ""
    }
   },
   "outputs": [
    {
     "output_type": "display_data",
     "data": {
      "text/html": [
       "<style scoped>\n",
       "  .table-result-container {\n",
       "    max-height: 300px;\n",
       "    overflow: auto;\n",
       "  }\n",
       "  table, th, td {\n",
       "    border: 1px solid black;\n",
       "    border-collapse: collapse;\n",
       "  }\n",
       "  th, td {\n",
       "    padding: 5px;\n",
       "  }\n",
       "  th {\n",
       "    text-align: left;\n",
       "  }\n",
       "</style><div class='table-result-container'><table class='table-result'><thead style='background-color: white'><tr><th>num_affected_rows</th><th>num_inserted_rows</th></tr></thead><tbody></tbody></table></div>"
      ]
     },
     "metadata": {
      "application/vnd.databricks.v1+output": {
       "addedWidgets": {},
       "aggData": [],
       "aggError": "",
       "aggOverflow": false,
       "aggSchema": [],
       "aggSeriesLimitReached": false,
       "aggType": "",
       "arguments": {},
       "columnCustomDisplayInfos": {},
       "data": [],
       "datasetInfos": [],
       "dbfsResultPath": null,
       "isJsonSchema": true,
       "metadata": {
        "isDbfsCommandResult": false
       },
       "overflow": false,
       "plotOptions": {
        "customPlotOptions": {},
        "displayType": "table",
        "pivotAggregation": null,
        "pivotColumns": null,
        "xColumns": null,
        "yColumns": null
       },
       "removedWidgets": [],
       "schema": [
        {
         "metadata": "{}",
         "name": "num_affected_rows",
         "type": "\"long\""
        },
        {
         "metadata": "{}",
         "name": "num_inserted_rows",
         "type": "\"long\""
        }
       ],
       "type": "table"
      }
     },
     "output_type": "display_data"
    }
   ],
   "source": [
    "-- Copy the \"movies\" table from the user-specific schema of the Hive metastore to create \"movies_ctas\" in the user-specific catalog's example schema using CTAS (Create Table As Select)\n",
    "\n",
    "CREATE OR REPLACE TABLE movies_ctas AS \n",
    "SELECT * \n",
    "FROM IDENTIFIER('hive_metastore.' || user_hive_schema || '.movies');"
   ]
  },
  {
   "cell_type": "markdown",
   "metadata": {
    "application/vnd.databricks.v1+cell": {
     "cellMetadata": {},
     "inputWidgets": {},
     "nuid": "0e06860b-96e6-43e0-9a5f-93ef6d75714c",
     "showTitle": false,
     "tableResultSettingsMap": {},
     "title": ""
    }
   },
   "source": [
    "2. Run the `SHOW TABLES` statement to view tables in your **example** schema. Notice that the **movies_ctas** table was created in your catalog from the **movies** table from the hive metastore."
   ]
  },
  {
   "cell_type": "code",
   "execution_count": 0,
   "metadata": {
    "application/vnd.databricks.v1+cell": {
     "cellMetadata": {
      "byteLimit": 2048000,
      "rowLimit": 10000
     },
     "inputWidgets": {},
     "nuid": "498a3995-ff2b-4544-b931-20f896dc0584",
     "showTitle": false,
     "tableResultSettingsMap": {},
     "title": ""
    }
   },
   "outputs": [
    {
     "output_type": "display_data",
     "data": {
      "text/html": [
       "<style scoped>\n",
       "  .table-result-container {\n",
       "    max-height: 300px;\n",
       "    overflow: auto;\n",
       "  }\n",
       "  table, th, td {\n",
       "    border: 1px solid black;\n",
       "    border-collapse: collapse;\n",
       "  }\n",
       "  th, td {\n",
       "    padding: 5px;\n",
       "  }\n",
       "  th {\n",
       "    text-align: left;\n",
       "  }\n",
       "</style><div class='table-result-container'><table class='table-result'><thead style='background-color: white'><tr><th>database</th><th>tableName</th><th>isTemporary</th></tr></thead><tbody><tr><td>example</td><td>movies_clone</td><td>false</td></tr><tr><td>example</td><td>movies_ctas</td><td>false</td></tr><tr><td>example</td><td>silver</td><td>false</td></tr><tr><td>example</td><td>vw_gold</td><td>false</td></tr></tbody></table></div>"
      ]
     },
     "metadata": {
      "application/vnd.databricks.v1+output": {
       "addedWidgets": {},
       "aggData": [],
       "aggError": "",
       "aggOverflow": false,
       "aggSchema": [],
       "aggSeriesLimitReached": false,
       "aggType": "",
       "arguments": {},
       "columnCustomDisplayInfos": {},
       "data": [
        [
         "example",
         "movies_clone",
         false
        ],
        [
         "example",
         "movies_ctas",
         false
        ],
        [
         "example",
         "silver",
         false
        ],
        [
         "example",
         "vw_gold",
         false
        ]
       ],
       "datasetInfos": [],
       "dbfsResultPath": null,
       "isJsonSchema": true,
       "metadata": {
        "isDbfsCommandResult": false
       },
       "overflow": false,
       "plotOptions": {
        "customPlotOptions": {},
        "displayType": "table",
        "pivotAggregation": null,
        "pivotColumns": null,
        "xColumns": null,
        "yColumns": null
       },
       "removedWidgets": [],
       "schema": [
        {
         "metadata": "{}",
         "name": "database",
         "type": "\"string\""
        },
        {
         "metadata": "{}",
         "name": "tableName",
         "type": "\"string\""
        },
        {
         "metadata": "{}",
         "name": "isTemporary",
         "type": "\"boolean\""
        }
       ],
       "type": "table"
      }
     },
     "output_type": "display_data"
    }
   ],
   "source": [
    "SHOW TABLES IN example;"
   ]
  },
  {
   "cell_type": "markdown",
   "metadata": {
    "application/vnd.databricks.v1+cell": {
     "cellMetadata": {},
     "inputWidgets": {},
     "nuid": "0b316311-7701-4c37-bb61-5ff8eac93427",
     "showTitle": false,
     "tableResultSettingsMap": {},
     "title": ""
    }
   },
   "source": [
    "#### D1.3 Applying Transformations during the Upgrade\n",
    "\n",
    "CTAS offers an option that other methods do not: the ability to transform the data while copying it.\n",
    "\n",
    "When migrating your tables to Unity Catalog, it's a great time to consider your table structures and whether they still address your organization's business requirements that may have changed over time.\n",
    "\n",
    "Cloning, and the CTAS operation we just saw, takes an exact copy of the source table. But CTAS can be easily adapted to perform any transformations during the upgrade.\n",
    "\n",
    "For example, you could modify the table when migrating it from the hive metastore to Unity Catalog."
   ]
  },
  {
   "cell_type": "code",
   "execution_count": 0,
   "metadata": {
    "application/vnd.databricks.v1+cell": {
     "cellMetadata": {
      "byteLimit": 2048000,
      "rowLimit": 10000
     },
     "inputWidgets": {},
     "nuid": "56a72679-e355-4374-863e-68287e1f8279",
     "showTitle": false,
     "tableResultSettingsMap": {},
     "title": ""
    }
   },
   "outputs": [
    {
     "output_type": "display_data",
     "data": {
      "text/html": [
       "<style scoped>\n",
       "  .table-result-container {\n",
       "    max-height: 300px;\n",
       "    overflow: auto;\n",
       "  }\n",
       "  table, th, td {\n",
       "    border: 1px solid black;\n",
       "    border-collapse: collapse;\n",
       "  }\n",
       "  th, td {\n",
       "    padding: 5px;\n",
       "  }\n",
       "  th {\n",
       "    text-align: left;\n",
       "  }\n",
       "</style><div class='table-result-container'><table class='table-result'><thead style='background-color: white'><tr><th>num_affected_rows</th><th>num_inserted_rows</th></tr></thead><tbody></tbody></table></div>"
      ]
     },
     "metadata": {
      "application/vnd.databricks.v1+output": {
       "addedWidgets": {},
       "aggData": [],
       "aggError": "",
       "aggOverflow": false,
       "aggSchema": [],
       "aggSeriesLimitReached": false,
       "aggType": "",
       "arguments": {},
       "columnCustomDisplayInfos": {},
       "data": [],
       "datasetInfos": [],
       "dbfsResultPath": null,
       "isJsonSchema": true,
       "metadata": {
        "isDbfsCommandResult": false
       },
       "overflow": false,
       "plotOptions": {
        "customPlotOptions": {},
        "displayType": "table",
        "pivotAggregation": null,
        "pivotColumns": null,
        "xColumns": null,
        "yColumns": null
       },
       "removedWidgets": [],
       "schema": [
        {
         "metadata": "{}",
         "name": "num_affected_rows",
         "type": "\"long\""
        },
        {
         "metadata": "{}",
         "name": "num_inserted_rows",
         "type": "\"long\""
        }
       ],
       "type": "table"
      }
     },
     "output_type": "display_data"
    }
   ],
   "source": [
    "-- Copy the \"movies\" table from Hive metastore to create \"movies_transformed\" in the user-specific catalog using CTAS with the required transformations\n",
    "CREATE OR REPLACE TABLE movies_transformed AS \n",
    "SELECT\n",
    "  id AS Movie_ID,\n",
    "  title AS Movie_Title,\n",
    "  genres AS Genres,\n",
    "  upper(original_language) AS Original_Language,\n",
    "  vote_average AS Vote_Average\n",
    "FROM IDENTIFIER('hive_metastore.' || user_hive_schema || '.movies');"
   ]
  },
  {
   "cell_type": "code",
   "execution_count": 0,
   "metadata": {
    "application/vnd.databricks.v1+cell": {
     "cellMetadata": {
      "byteLimit": 2048000,
      "rowLimit": 10000
     },
     "inputWidgets": {},
     "nuid": "c795209a-79be-4db5-bd91-65d39d34f191",
     "showTitle": false,
     "tableResultSettingsMap": {},
     "title": ""
    }
   },
   "outputs": [
    {
     "output_type": "display_data",
     "data": {
      "text/html": [
       "<style scoped>\n",
       "  .table-result-container {\n",
       "    max-height: 300px;\n",
       "    overflow: auto;\n",
       "  }\n",
       "  table, th, td {\n",
       "    border: 1px solid black;\n",
       "    border-collapse: collapse;\n",
       "  }\n",
       "  th, td {\n",
       "    padding: 5px;\n",
       "  }\n",
       "  th {\n",
       "    text-align: left;\n",
       "  }\n",
       "</style><div class='table-result-container'><table class='table-result'><thead style='background-color: white'><tr><th>Movie_ID</th><th>Movie_Title</th><th>Genres</th><th>Original_Language</th><th>Vote_Average</th></tr></thead><tbody><tr><td>615656</td><td>Meg 2: The Trench</td><td>Action-Science Fiction-Horror</td><td>EN</td><td>7.079</td></tr><tr><td>758323</td><td>The Pope's Exorcist</td><td>Horror-Mystery-Thriller</td><td>EN</td><td>7.433</td></tr><tr><td>667538</td><td>Transformers: Rise of the Beasts</td><td>Action-Adventure-Science Fiction</td><td>EN</td><td>7.34</td></tr><tr><td>640146</td><td>Ant-Man and the Wasp: Quantumania</td><td>Action-Adventure-Science Fiction</td><td>EN</td><td>6.507</td></tr><tr><td>677179</td><td>Creed III</td><td>Drama-Action</td><td>EN</td><td>7.262</td></tr><tr><td>385687</td><td>Fast X</td><td>Action-Crime-Thriller</td><td>EN</td><td>7.275</td></tr><tr><td>614479</td><td>Insidious: The Red Door</td><td>Horror-Mystery-Thriller</td><td>EN</td><td>6.75</td></tr><tr><td>346698</td><td>Barbie</td><td>Comedy-Adventure-Fantasy</td><td>EN</td><td>7.495</td></tr><tr><td>298618</td><td>The Flash</td><td>Action-Adventure-Science Fiction</td><td>EN</td><td>6.947</td></tr><tr><td>646389</td><td>Plane</td><td>Action-Adventure-Thriller</td><td>EN</td><td>6.901</td></tr><tr><td>569094</td><td>Spider-Man: Across the Spider-Verse</td><td>Action-Adventure-Animation-Science Fiction</td><td>EN</td><td>8.64</td></tr><tr><td>934433</td><td>Scream VI</td><td>Horror-Mystery-Thriller</td><td>EN</td><td>7.4</td></tr><tr><td>956101</td><td>The Eighth Clause</td><td>Thriller</td><td>LA</td><td>4.6</td></tr><tr><td>447277</td><td>The Little Mermaid</td><td>Adventure-Family-Fantasy-Romance</td><td>EN</td><td>5.957</td></tr><tr><td>594767</td><td>Shazam! Fury of the Gods</td><td>Action-Comedy-Fantasy-Adventure</td><td>EN</td><td>6.781</td></tr><tr><td>455476</td><td>Knights of the Zodiac</td><td>Fantasy-Action-Adventure</td><td>EN</td><td>6.561</td></tr><tr><td>968051</td><td>The Nun II</td><td>Horror-Mystery-Thriller</td><td>EN</td><td>7.046</td></tr><tr><td>965839</td><td>Lord of the Streets</td><td>Action</td><td>EN</td><td>4.9</td></tr><tr><td>772515</td><td>Huesera: The Bone Woman</td><td>Drama-Horror-Mystery</td><td>ES</td><td>6.58</td></tr><tr><td>619930</td><td>Narvik</td><td>War-Drama-History-Action</td><td>NO</td><td>7.0</td></tr><tr><td>868759</td><td>Ghosted</td><td>Romance-Action-Comedy</td><td>EN</td><td>7.272</td></tr><tr><td>823999</td><td>Diabolik - Ginko all'attacco!</td><td>Crime-Action</td><td>IT</td><td>5.7</td></tr><tr><td>697843</td><td>Extraction 2</td><td>Action-Thriller</td><td>EN</td><td>7.616</td></tr><tr><td>758009</td><td>Shotgun Wedding</td><td>Action-Romance-Comedy</td><td>EN</td><td>6.334</td></tr><tr><td>575264</td><td>Mission: Impossible - Dead Reckoning Part One</td><td>Action-Adventure-Thriller</td><td>EN</td><td>8.012</td></tr><tr><td>447365</td><td>Guardians of the Galaxy Vol. 3</td><td>Action-Science Fiction-Adventure</td><td>EN</td><td>8.053</td></tr><tr><td>842544</td><td>Transfusion</td><td>Crime-Thriller-Drama</td><td>EN</td><td>6.602</td></tr><tr><td>420808</td><td>Peter Pan & Wendy</td><td>Family-Fantasy-Action-Adventure</td><td>EN</td><td>5.826</td></tr><tr><td>315162</td><td>Puss in Boots: The Last Wish</td><td>Animation-Family-Fantasy-Adventure-Comedy</td><td>EN</td><td>8.284</td></tr><tr><td>267805</td><td>There Are No Saints</td><td>Action</td><td>EN</td><td>5.6</td></tr><tr><td>635910</td><td>The Last Voyage of the Demeter</td><td>Horror-Fantasy</td><td>EN</td><td>7.33</td></tr><tr><td>882569</td><td>Guy Ritchie's The Covenant</td><td>War-Action-Thriller</td><td>EN</td><td>7.662</td></tr><tr><td>892070</td><td>Padre no hay más que uno 3</td><td>Comedy-Family</td><td>ES</td><td>8.5</td></tr><tr><td>770509</td><td>The Nights Belong to Monsters</td><td>Fantasy-Drama</td><td>ES</td><td>2.0</td></tr><tr><td>614930</td><td>Teenage Mutant Ninja Turtles: Mutant Mayhem</td><td>Animation-Comedy-Action</td><td>EN</td><td>7.248</td></tr><tr><td>565770</td><td>Blue Beetle</td><td>Action-Science Fiction</td><td>EN</td><td>7.464</td></tr><tr><td>843794</td><td>JUNG_E</td><td>Science Fiction-Action-Adventure</td><td>KO</td><td>6.301</td></tr><tr><td>840326</td><td>Sisu</td><td>Action-War</td><td>FI</td><td>7.428</td></tr><tr><td>603692</td><td>John Wick: Chapter 4</td><td>Action-Thriller-Crime</td><td>EN</td><td>7.827</td></tr><tr><td>862553</td><td>Bar Fight</td><td>Comedy</td><td>EN</td><td>7.3</td></tr><tr><td>502356</td><td>The Super Mario Bros. Movie</td><td>Animation-Family-Adventure-Fantasy-Comedy</td><td>EN</td><td>7.795</td></tr><tr><td>713704</td><td>Evil Dead Rise</td><td>Thriller-Horror</td><td>EN</td><td>7.038</td></tr><tr><td>872585</td><td>Oppenheimer</td><td>Drama-History</td><td>EN</td><td>8.3</td></tr><tr><td>941520</td><td>Alien Sniperess</td><td>Action-Science Fiction-Fantasy</td><td>EN</td><td>3.9</td></tr><tr><td>845885</td><td>Dark Blood</td><td>Crime-Drama</td><td>EN</td><td>4.9</td></tr><tr><td>852096</td><td>We Have a Ghost</td><td>Fantasy-Family-Comedy-Adventure</td><td>EN</td><td>6.587</td></tr><tr><td>668482</td><td>Roald Dahl's Matilda the Musical</td><td>Family-Comedy-Fantasy</td><td>EN</td><td>6.917</td></tr><tr><td>587092</td><td>Unicorn Wars</td><td>Action-Animation-Comedy-Fantasy-Horror-War</td><td>ES</td><td>6.4</td></tr><tr><td>736526</td><td>Troll</td><td>Fantasy-Action-Adventure-Thriller</td><td>NO</td><td>6.736</td></tr><tr><td>676547</td><td>Prey for the Devil</td><td>Horror-Thriller</td><td>EN</td><td>7.209</td></tr><tr><td>838484</td><td>Choose or Die</td><td>Horror-Thriller-Science Fiction</td><td>EN</td><td>5.371</td></tr><tr><td>931954</td><td>Venus</td><td>Drama-Horror-Thriller</td><td>ES</td><td>5.602</td></tr><tr><td>746524</td><td>Blood</td><td>Thriller-Horror</td><td>EN</td><td>5.9</td></tr><tr><td>663210</td><td>Lecciones para canallas</td><td>Comedy-Crime</td><td>ES</td><td>4.375</td></tr><tr><td>287003</td><td>Avatar: Scene Deconstruction</td><td>Documentary</td><td>EN</td><td>7.8</td></tr><tr><td>283995</td><td>Guardians of the Galaxy Vol. 2</td><td>Adventure-Action-Science Fiction</td><td>EN</td><td>7.623</td></tr><tr><td>812225</td><td>Black Clover: Sword of the Wizard King</td><td>Animation-Fantasy-Action-Adventure</td><td>JA</td><td>8.428</td></tr><tr><td>788752</td><td>Viking Wolf</td><td>Horror-Thriller-Mystery</td><td>NO</td><td>5.686</td></tr><tr><td>800815</td><td>The Pale Blue Eye</td><td>Mystery-Crime-Horror</td><td>EN</td><td>7.005</td></tr><tr><td>947938</td><td>Dolphin Boy</td><td>Animation-Adventure-Fantasy-Comedy</td><td>RU</td><td>6.2</td></tr><tr><td>635302</td><td>Demon Slayer -Kimetsu no Yaiba- The Movie: Mugen Train</td><td>Animation-Action-Adventure-Fantasy-Thriller</td><td>JA</td><td>8.281</td></tr><tr><td>943221</td><td>Evil Eye</td><td>Horror</td><td>ES</td><td>6.8</td></tr><tr><td>700391</td><td>65</td><td>Science Fiction-Adventure-Thriller</td><td>EN</td><td>6.229</td></tr><tr><td>599019</td><td>Big Trip 2: Special Delivery</td><td>Animation-Family-Adventure-Comedy</td><td>RU</td><td>6.556</td></tr><tr><td>661374</td><td>Glass Onion: A Knives Out Mystery</td><td>Comedy-Crime-Mystery</td><td>EN</td><td>7.095</td></tr><tr><td>842942</td><td>Bandit</td><td>Crime-Drama-Thriller</td><td>EN</td><td>6.2</td></tr><tr><td>966220</td><td>Sniper: The White Raven</td><td>War-Action-Drama</td><td>UK</td><td>7.604</td></tr><tr><td>899112</td><td>Violent Night</td><td>Action-Comedy-Crime-Thriller</td><td>EN</td><td>7.576</td></tr><tr><td>818422</td><td>Ritual</td><td>Thriller</td><td>NL</td><td>7.0</td></tr><tr><td>724495</td><td>The Woman King</td><td>Action-Drama-History</td><td>EN</td><td>7.798</td></tr><tr><td>884605</td><td>No Hard Feelings</td><td>Comedy-Romance</td><td>EN</td><td>6.889</td></tr><tr><td>616037</td><td>Thor: Love and Thunder</td><td>Fantasy-Action-Comedy</td><td>EN</td><td>6.625</td></tr><tr><td>385128</td><td>F9</td><td>Action-Adventure-Crime-Thriller</td><td>EN</td><td>7.179</td></tr><tr><td>869112</td><td>Somebody I Used to Know</td><td>Romance-Comedy-Drama</td><td>EN</td><td>6.231</td></tr><tr><td>828899</td><td>Metalocalypse: Army of the Doomstar</td><td>Animation-Comedy-Music</td><td>EN</td><td>6.8</td></tr><tr><td>961323</td><td>Nimona</td><td>Animation-Adventure-Fantasy</td><td>EN</td><td>7.932</td></tr><tr><td>943822</td><td>Prizefighter: The Life of Jem Belcher</td><td>Drama-Action</td><td>EN</td><td>6.5</td></tr><tr><td>325358</td><td>Superfast!</td><td>Comedy-Action</td><td>EN</td><td>5.0</td></tr><tr><td>551271</td><td>Medieval</td><td>History-Action-Drama</td><td>EN</td><td>7.209</td></tr><tr><td>873126</td><td>My Name Is Vendetta</td><td>Action-Crime-Thriller</td><td>IT</td><td>6.9</td></tr><tr><td>545611</td><td>Everything Everywhere All at Once</td><td>Action-Adventure-Science Fiction</td><td>EN</td><td>7.892</td></tr><tr><td>555604</td><td>Guillermo del Toro's Pinocchio</td><td>Animation-Fantasy-Drama-Music</td><td>EN</td><td>8.249</td></tr><tr><td>542196</td><td>Wolf Hound</td><td>War-Action</td><td>EN</td><td>6.643</td></tr><tr><td>839738</td><td>Me contro Te: Il film - Persi nel tempo</td><td>Family-Fantasy</td><td>IT</td><td>7.8</td></tr><tr><td>802401</td><td>Demon Slayer: Kimetsu no Yaiba Mt. Natagumo Arc</td><td>Action-Animation-Drama-Fantasy</td><td>JA</td><td>8.725</td></tr><tr><td>663712</td><td>Terrifier 2</td><td>Horror</td><td>EN</td><td>6.966</td></tr><tr><td>573171</td><td>A Frozen Rooster</td><td>Animation-Adventure-Comedy-Family</td><td>ES</td><td>8.0</td></tr><tr><td>833950</td><td>Little Lies</td><td>Comedy-Romance-Thriller</td><td>ES</td><td>7.889</td></tr><tr><td>785521</td><td>Battle: Freestyle</td><td>Romance-Drama</td><td>NO</td><td>5.1</td></tr><tr><td>912826</td><td>Rubius X</td><td>Documentary</td><td>ES</td><td>8.535</td></tr><tr><td>480530</td><td>Creed II</td><td>Drama</td><td>EN</td><td>6.99</td></tr><tr><td>507086</td><td>Jurassic World Dominion</td><td>Adventure-Action-Science Fiction</td><td>EN</td><td>6.9</td></tr><tr><td>929562</td><td>In the Forest</td><td>Horror-Thriller</td><td>EN</td><td>6.1</td></tr><tr><td>810693</td><td>Jujutsu Kaisen 0</td><td>Animation-Action-Fantasy</td><td>JA</td><td>8.224</td></tr><tr><td>312221</td><td>Creed</td><td>Drama</td><td>EN</td><td>7.405</td></tr><tr><td>877269</td><td>Strange World</td><td>Animation-Family-Adventure-Science Fiction</td><td>EN</td><td>6.513</td></tr><tr><td>877703</td><td>Teen Wolf: The Movie</td><td>Action-Fantasy-TV Movie</td><td>EN</td><td>7.899</td></tr><tr><td>760741</td><td>Beast</td><td>Thriller</td><td>EN</td><td>6.9</td></tr><tr><td>505642</td><td>Black Panther: Wakanda Forever</td><td>Action-Adventure-Science Fiction</td><td>EN</td><td>7.226</td></tr><tr><td>111332</td><td>Avatar: Creating the World of Pandora</td><td>Documentary</td><td>EN</td><td>7.2</td></tr><tr><td>768362</td><td>Missing</td><td>Drama-Mystery-Thriller</td><td>EN</td><td>7.684</td></tr><tr><td>949218</td><td>S.O.S. Mamis: La película</td><td>Comedy</td><td>ES</td><td>5.9</td></tr><tr><td>897192</td><td>Diary of a Wimpy Kid: Rodrick Rules</td><td>Animation-Comedy-Family</td><td>EN</td><td>6.8</td></tr><tr><td>610150</td><td>Dragon Ball Super: Super Hero</td><td>Animation-Science Fiction-Action</td><td>JA</td><td>7.95</td></tr><tr><td>718930</td><td>Bullet Train</td><td>Action-Comedy-Thriller</td><td>EN</td><td>7.495</td></tr><tr><td>899579</td><td>There's Something Wrong with the Children</td><td>Horror-Mystery-Thriller</td><td>EN</td><td>6.0</td></tr><tr><td>76600</td><td>Avatar: The Way of Water</td><td>Science Fiction-Adventure-Action</td><td>EN</td><td>7.656</td></tr><tr><td>675353</td><td>Sonic the Hedgehog 2</td><td>Action-Adventure-Family-Comedy</td><td>EN</td><td>7.599</td></tr><tr><td>361743</td><td>Top Gun: Maverick</td><td>Action-Drama</td><td>EN</td><td>8.273</td></tr><tr><td>740441</td><td>Unlocked</td><td>Thriller-Mystery</td><td>KO</td><td>7.531</td></tr><tr><td>19995</td><td>Avatar</td><td>Action-Adventure-Fantasy-Science Fiction</td><td>EN</td><td>7.569</td></tr><tr><td>338958</td><td>Disenchanted</td><td>Comedy-Family-Fantasy</td><td>EN</td><td>7.0</td></tr><tr><td>811948</td><td>Demon Slayer: Kimetsu no Yaiba the Hashira Meeting Arc</td><td>Animation-Fantasy</td><td>JA</td><td>8.5</td></tr><tr><td>740952</td><td>Savage Salvation</td><td>Action-Mystery-Thriller-Crime</td><td>EN</td><td>6.585</td></tr><tr><td>836988</td><td>Chasing Love Time Machine</td><td>Drama-Romance</td><td>ZH</td><td>0.0</td></tr><tr><td>880841</td><td>Abandoned</td><td>Horror-Mystery-Thriller</td><td>EN</td><td>6.4</td></tr><tr><td>916224</td><td>Suzume</td><td>Animation-Drama-Adventure-Fantasy</td><td>JA</td><td>7.977</td></tr><tr><td>568124</td><td>Encanto</td><td>Animation-Comedy-Family-Fantasy</td><td>EN</td><td>7.654</td></tr><tr><td>945729</td><td>A Haunting in Venice</td><td>Mystery-Drama-Crime</td><td>EN</td><td>6.824</td></tr><tr><td>370455</td><td>One Punch Man: Road to Hero</td><td>Action-Animation</td><td>JA</td><td>8.025</td></tr><tr><td>760204</td><td>The Lair</td><td>Horror-Action</td><td>EN</td><td>5.9</td></tr><tr><td>324786</td><td>Hacksaw Ridge</td><td>Drama-History-War</td><td>EN</td><td>8.189</td></tr><tr><td>703451</td><td>Your Place or Mine</td><td>Romance-Comedy</td><td>EN</td><td>6.4</td></tr><tr><td>575322</td><td>Project Gemini</td><td>Science Fiction-Horror</td><td>EN</td><td>5.7</td></tr><tr><td>438148</td><td>Minions: The Rise of Gru</td><td>Animation-Comedy-Family</td><td>EN</td><td>7.465</td></tr><tr><td>287004</td><td>Avatar: Production Materials</td><td>null</td><td>EN</td><td>6.0</td></tr><tr><td>766507</td><td>Prey</td><td>Thriller-Action-Science Fiction</td><td>EN</td><td>7.798</td></tr><tr><td>829358</td><td>Queen of Spades</td><td>Horror</td><td>EN</td><td>6.553</td></tr><tr><td>880313</td><td>The Wrath of God</td><td>Thriller-Drama</td><td>ES</td><td>6.433</td></tr><tr><td>937337</td><td>What a Father!</td><td>Comedy-Family-Romance</td><td>ES</td><td>8.3</td></tr><tr><td>944864</td><td>The Takeover</td><td>Action-Crime-Thriller</td><td>NL</td><td>5.8</td></tr><tr><td>436270</td><td>Black Adam</td><td>Action-Adventure-Science Fiction</td><td>EN</td><td>7.054</td></tr><tr><td>899294</td><td>Frank and Penelope</td><td>Thriller-Horror-Crime</td><td>EN</td><td>7.7</td></tr><tr><td>762430</td><td>Retribution</td><td>Thriller-Action-Crime</td><td>EN</td><td>6.436</td></tr><tr><td>928769</td><td>AI Love You</td><td>Comedy-Romance-Science Fiction</td><td>TH</td><td>5.5</td></tr><tr><td>448387</td><td>Doctor Strange: The Fabric of Reality</td><td>Documentary</td><td>EN</td><td>9.5</td></tr><tr><td>736769</td><td>They Cloned Tyrone</td><td>Comedy-Science Fiction-Mystery</td><td>EN</td><td>7.059</td></tr><tr><td>871832</td><td>Visitor</td><td>Horror</td><td>ES</td><td>6.1</td></tr><tr><td>508947</td><td>Turning Red</td><td>Animation-Family-Comedy-Fantasy</td><td>EN</td><td>7.49</td></tr><tr><td>683328</td><td>The Big 4</td><td>Action-Comedy-Crime</td><td>ID</td><td>7.1</td></tr><tr><td>792775</td><td>Cop Secret</td><td>Comedy-Action-Thriller</td><td>IS</td><td>6.2</td></tr><tr><td>715931</td><td>Emancipation</td><td>Action-Drama-Thriller</td><td>EN</td><td>8.06</td></tr><tr><td>536554</td><td>M3GAN</td><td>Science Fiction-Horror</td><td>EN</td><td>7.308</td></tr><tr><td>924482</td><td>The Ledge</td><td>Thriller-Adventure</td><td>EN</td><td>6.476</td></tr><tr><td>453395</td><td>Doctor Strange in the Multiverse of Madness</td><td>Fantasy-Action-Adventure</td><td>EN</td><td>7.38</td></tr><tr><td>844396</td><td>The Friendship Game</td><td>Science Fiction-Horror</td><td>EN</td><td>5.7</td></tr><tr><td>893723</td><td>PAW Patrol: The Mighty Movie</td><td>Animation-Family-Comedy-Action-Science Fiction</td><td>EN</td><td>7.75</td></tr><tr><td>785521</td><td>Battle: Freestyle</td><td>Romance-Drama</td><td>NO</td><td>5.1</td></tr><tr><td>335977</td><td>Indiana Jones and the Dial of Destiny</td><td>Adventure-Action-Fantasy</td><td>EN</td><td>6.606</td></tr><tr><td>580489</td><td>Venom: Let There Be Carnage</td><td>Science Fiction-Action-Adventure</td><td>EN</td><td>6.873</td></tr><tr><td>717980</td><td>Sharper</td><td>Thriller-Crime-Drama</td><td>EN</td><td>7.127</td></tr><tr><td>787752</td><td>Fresh</td><td>Horror-Thriller-Comedy</td><td>EN</td><td>7.015</td></tr><tr><td>638974</td><td>Murder Mystery 2</td><td>Comedy-Mystery-Action</td><td>EN</td><td>6.714</td></tr><tr><td>782936</td><td>Nocebo</td><td>Mystery-Thriller-Horror</td><td>EN</td><td>6.5</td></tr><tr><td>882598</td><td>Smile</td><td>Horror-Mystery-Thriller</td><td>EN</td><td>6.787</td></tr><tr><td>8869</td><td>Eight Legged Freaks</td><td>Action-Comedy-Horror-Thriller</td><td>EN</td><td>5.741</td></tr><tr><td>820067</td><td>The Quintessential Quintuplets Movie</td><td>Animation-Comedy-Romance</td><td>JA</td><td>8.6</td></tr><tr><td>717728</td><td>Jeepers Creepers: Reborn</td><td>Horror-Thriller-Mystery</td><td>EN</td><td>5.775</td></tr><tr><td>949218</td><td>S.O.S. Mamis: La película</td><td>Comedy</td><td>ES</td><td>5.9</td></tr><tr><td>807172</td><td>The Exorcist: Believer</td><td>Horror</td><td>EN</td><td>6.6</td></tr><tr><td>928769</td><td>AI Love You</td><td>Comedy-Romance-Science Fiction</td><td>TH</td><td>5.4</td></tr><tr><td>118340</td><td>Guardians of the Galaxy</td><td>Action-Science Fiction-Adventure</td><td>EN</td><td>7.904</td></tr><tr><td>846778</td><td>Margaux</td><td>Horror-Science Fiction</td><td>EN</td><td>6.9</td></tr><tr><td>856245</td><td>To Kill the Beast</td><td>Mystery-Fantasy-Thriller</td><td>ES</td><td>5.7</td></tr><tr><td>806929</td><td>The Immaculate Room</td><td>Mystery-Thriller-Drama-Science Fiction</td><td>EN</td><td>5.7</td></tr><tr><td>585511</td><td>Luck</td><td>Animation-Adventure-Comedy-Fantasy</td><td>EN</td><td>7.9</td></tr><tr><td>539681</td><td>DC League of Super-Pets</td><td>Animation-Action-Family-Comedy-Science Fiction</td><td>EN</td><td>7.423</td></tr><tr><td>878183</td><td>The Independent</td><td>Thriller-Drama</td><td>EN</td><td>7.345</td></tr><tr><td>937013</td><td>The Mystic Nine: Begonia from Qingshan</td><td>Action-Mystery-Adventure</td><td>ZH</td><td>4.4</td></tr><tr><td>634649</td><td>Spider-Man: No Way Home</td><td>Action-Adventure-Science Fiction</td><td>EN</td><td>7.992</td></tr><tr><td>831223</td><td>Gone Mom: The Disappearance of Jennifer Dulos</td><td>TV Movie-Thriller-Crime</td><td>EN</td><td>7.7</td></tr><tr><td>848278</td><td>Jurassic Hunt</td><td>Action-Science Fiction-Thriller</td><td>EN</td><td>5.1</td></tr><tr><td>751741</td><td>Night at the Museum: Kahmunrah Rises Again</td><td>Animation-Comedy-Family-Fantasy</td><td>EN</td><td>6.9</td></tr><tr><td>785521</td><td>Battle: Freestyle</td><td>Romance-Drama</td><td>NO</td><td>5.1</td></tr><tr><td>960258</td><td>Shark Bait</td><td>Horror-Thriller-Action-Adventure</td><td>EN</td><td>5.9</td></tr><tr><td>934287</td><td>The Last Client</td><td>Thriller-Crime</td><td>DA</td><td>7.8</td></tr><tr><td>960704</td><td>Fullmetal Alchemist: The Final Alchemy</td><td>Action-Adventure-Fantasy</td><td>JA</td><td>6.335</td></tr><tr><td>850028</td><td>Alice, Darling</td><td>Drama-Thriller</td><td>EN</td><td>6.1</td></tr><tr><td>808</td><td>Shrek</td><td>Animation-Comedy-Fantasy-Adventure-Family</td><td>EN</td><td>7.716</td></tr><tr><td>791155</td><td>Secret Headquarters</td><td>Science Fiction-Family-Action-Adventure</td><td>EN</td><td>6.8</td></tr><tr><td>852046</td><td>Athena</td><td>Drama</td><td>FR</td><td>6.7</td></tr><tr><td>836225</td><td>The Exorcism of God</td><td>Horror</td><td>EN</td><td>7.2</td></tr><tr><td>960096</td><td>The Bush</td><td>Thriller</td><td>ES</td><td>5.0</td></tr><tr><td>299534</td><td>Avengers: Endgame</td><td>Adventure-Science Fiction-Action</td><td>EN</td><td>8.268</td></tr><tr><td>831223</td><td>Gone Mom: The Disappearance of Jennifer Dulos</td><td>TV Movie-Thriller-Crime</td><td>EN</td><td>7.7</td></tr><tr><td>937046</td><td>L'oubliée d'Amboise</td><td>Crime-TV Movie</td><td>FR</td><td>6.3</td></tr><tr><td>91314</td><td>Transformers: Age of Extinction</td><td>Science Fiction-Action-Adventure</td><td>EN</td><td>5.9</td></tr><tr><td>832502</td><td>The Monkey King</td><td>Animation-Fantasy-Adventure-Family-Comedy</td><td>EN</td><td>6.9</td></tr><tr><td>338947</td><td>Hellraiser</td><td>Horror-Mystery</td><td>EN</td><td>6.464</td></tr><tr><td>671318</td><td>¿Y cómo es él?</td><td>Comedy</td><td>ES</td><td>7.5</td></tr><tr><td>438695</td><td>Sing 2</td><td>Animation-Adventure-Comedy-Family</td><td>EN</td><td>8.0</td></tr><tr><td>805359</td><td>Onsen jôwa: Yubune de momi gaeri</td><td>Drama</td><td>JA</td><td>1.5</td></tr><tr><td>768744</td><td>My Hero Academia: World Heroes' Mission</td><td>Animation-Action-Adventure-Science Fiction</td><td>JA</td><td>7.6</td></tr><tr><td>935819</td><td>¿Nos casamos? Sí, mi amor</td><td>Comedy-Romance</td><td>ES</td><td>2.0</td></tr><tr><td>809363</td><td>La novia de América</td><td>Comedy-Romance</td><td>ES</td><td>0.0</td></tr><tr><td>676701</td><td>Tad, the Lost Explorer and the Emerald Tablet</td><td>Animation-Adventure-Comedy-Family-Fantasy</td><td>ES</td><td>7.7</td></tr><tr><td>851644</td><td>20th Century Girl</td><td>Romance-Drama</td><td>KO</td><td>8.319</td></tr><tr><td>338953</td><td>Fantastic Beasts: The Secrets of Dumbledore</td><td>Fantasy-Adventure-Action</td><td>EN</td><td>6.8</td></tr><tr><td>855440</td><td>Polar</td><td>Action-Adventure-Thriller</td><td>ES</td><td>6.7</td></tr><tr><td>299536</td><td>Avengers: Infinity War</td><td>Adventure-Action-Science Fiction</td><td>EN</td><td>8.255</td></tr><tr><td>337167</td><td>Fifty Shades Freed</td><td>Drama-Romance</td><td>EN</td><td>6.699</td></tr><tr><td>1267</td><td>Meet the Robinsons</td><td>Animation-Comedy-Family</td><td>EN</td><td>6.889</td></tr><tr><td>616747</td><td>Haunted Mansion</td><td>Comedy-Fantasy</td><td>EN</td><td>7.064</td></tr><tr><td>744276</td><td>After Ever Happy</td><td>Romance-Drama</td><td>EN</td><td>6.881</td></tr><tr><td>452251</td><td>Beauty Salon: Special Service</td><td>Romance-Drama</td><td>KO</td><td>5.9</td></tr><tr><td>447362</td><td>Life in a Year</td><td>Drama-Romance</td><td>EN</td><td>8.292</td></tr><tr><td>829799</td><td>Paradise City</td><td>Action-Crime-Thriller</td><td>EN</td><td>5.7</td></tr><tr><td>928015</td><td>Dracula: The Original Living Vampire</td><td>Horror-Fantasy-Thriller</td><td>EN</td><td>5.6</td></tr><tr><td>845659</td><td>Perfect Addiction</td><td>Romance-Drama</td><td>EN</td><td>4.5</td></tr><tr><td>839436</td><td>Dragon Fury</td><td>Horror-Fantasy-Mystery</td><td>EN</td><td>6.2</td></tr><tr><td>854239</td><td>Till</td><td>Drama-History</td><td>EN</td><td>7.523</td></tr><tr><td>708471</td><td>The Last Zombie</td><td>Horror</td><td>ES</td><td>5.7</td></tr><tr><td>874705</td><td>Ash & Dust</td><td>Crime-Thriller</td><td>EN</td><td>4.0</td></tr><tr><td>585083</td><td>Hotel Transylvania: Transformania</td><td>Animation-Comedy-Family-Fantasy-Adventure</td><td>EN</td><td>7.1</td></tr><tr><td>821489</td><td>All My Friends Hate Me</td><td>Comedy-Thriller-Horror</td><td>EN</td><td>6.1</td></tr><tr><td>820232</td><td>Demon Slayer: Kimetsu no Yaiba Sibling's Bond</td><td>Action-Animation-Fantasy</td><td>JA</td><td>8.348</td></tr><tr><td>760161</td><td>Orphan: First Kill</td><td>Horror-Thriller</td><td>EN</td><td>6.8</td></tr><tr><td>829560</td><td>The Next 365 Days</td><td>Romance-Drama</td><td>PL</td><td>6.6</td></tr><tr><td>912908</td><td>Strays</td><td>Comedy</td><td>EN</td><td>6.2</td></tr><tr><td>448387</td><td>Doctor Strange: The Fabric of Reality</td><td>Documentary</td><td>EN</td><td>9.5</td></tr><tr><td>948276</td><td>Lost Bullet 2</td><td>Action-Drama-Thriller</td><td>FR</td><td>6.569</td></tr><tr><td>934641</td><td>The Minute You Wake Up Dead</td><td>Thriller-Crime</td><td>EN</td><td>5.6</td></tr><tr><td>284329</td><td>The Last of Us: One Night Live</td><td>Drama</td><td>EN</td><td>7.5</td></tr><tr><td>804150</td><td>Cocaine Bear</td><td>Thriller-Comedy-Crime</td><td>EN</td><td>6.219</td></tr><tr><td>772446</td><td>Don't Open the Door</td><td>Horror</td><td>ES</td><td>7.0</td></tr><tr><td>928773</td><td>Whisper</td><td>Horror-Thriller</td><td>EN</td><td>6.3</td></tr><tr><td>860407</td><td>人妻性奴隶：美人妻调教日记</td><td>null</td><td>ZH</td><td>0.0</td></tr><tr><td>772436</td><td>Matando Cabos 2: La Máscara del Máscara</td><td>Action-Comedy-Adventure</td><td>ES</td><td>7.8</td></tr><tr><td>397243</td><td>The Autopsy of Jane Doe</td><td>Horror-Mystery</td><td>EN</td><td>6.733</td></tr><tr><td>785084</td><td>The Whale</td><td>Drama</td><td>EN</td><td>8.008</td></tr><tr><td>597</td><td>Titanic</td><td>Drama-Romance</td><td>EN</td><td>7.89</td></tr><tr><td>807200</td><td>El mundo es vuestro</td><td>Comedy</td><td>ES</td><td>5.9</td></tr><tr><td>414906</td><td>The Batman</td><td>Crime-Mystery-Thriller</td><td>EN</td><td>7.714</td></tr><tr><td>872177</td><td>Corrective Measures</td><td>Action-Science Fiction</td><td>EN</td><td>5.3</td></tr><tr><td>526896</td><td>Morbius</td><td>Action-Science Fiction-Fantasy</td><td>EN</td><td>6.181</td></tr><tr><td>772436</td><td>Matando Cabos 2: La Máscara del Máscara</td><td>Action-Comedy-Adventure</td><td>ES</td><td>7.8</td></tr><tr><td>86328</td><td>Terrifier</td><td>Horror</td><td>EN</td><td>6.5</td></tr><tr><td>756999</td><td>The Black Phone</td><td>Horror-Thriller</td><td>EN</td><td>7.777</td></tr><tr><td>961484</td><td>Last Seen Alive</td><td>Action-Thriller</td><td>EN</td><td>6.596</td></tr><tr><td>752623</td><td>The Lost City</td><td>Action-Adventure-Comedy</td><td>EN</td><td>6.654</td></tr><tr><td>951491</td><td>Saw X</td><td>Crime-Horror-Thriller</td><td>EN</td><td>6.5</td></tr><tr><td>952374</td><td>The Aviary</td><td>Thriller</td><td>EN</td><td>5.9</td></tr><tr><td>848058</td><td>Piggy</td><td>Thriller-Drama-Horror</td><td>ES</td><td>6.6</td></tr><tr><td>859041</td><td>Crazy Fist</td><td>Action</td><td>ZH</td><td>6.941</td></tr><tr><td>566466</td><td>Laid-Back Camp The Movie</td><td>Animation-Comedy</td><td>JA</td><td>7.7</td></tr><tr><td>943934</td><td>Dragonflies</td><td>Drama</td><td>ES</td><td>5.8</td></tr><tr><td>799379</td><td>Project Wolf Hunting</td><td>Action-Thriller-Horror</td><td>KO</td><td>6.5</td></tr><tr><td>811656</td><td>Potworny</td><td>Horror-Mystery-Thriller</td><td>EN</td><td>6.1</td></tr><tr><td>816904</td><td>Mummies</td><td>Adventure-Animation-Comedy-Family-Fantasy</td><td>ES</td><td>6.0</td></tr><tr><td>50014</td><td>The Help</td><td>Drama</td><td>EN</td><td>8.2</td></tr><tr><td>739405</td><td>Operation Fortune: Ruse de Guerre</td><td>Action-Thriller-Comedy</td><td>EN</td><td>6.876</td></tr><tr><td>439157</td><td>Dragon Ball Z: Resurrection 'F - Future Trunks Special Edition</td><td>Animation</td><td>JA</td><td>7.5</td></tr><tr><td>930094</td><td>Red, White & Royal Blue</td><td>Comedy-Romance-Drama</td><td>EN</td><td>8.404</td></tr><tr><td>774825</td><td>The Ice Age Adventures of Buck Wild</td><td>Animation-Comedy-Adventure-Family</td><td>EN</td><td>6.701</td></tr><tr><td>922955</td><td>Prisoner of Love</td><td>Thriller-TV Movie-Drama</td><td>EN</td><td>5.5</td></tr><tr><td>926393</td><td>The Equalizer 3</td><td>Action-Thriller-Crime</td><td>EN</td><td>8.0</td></tr><tr><td>809</td><td>Shrek 2</td><td>Animation-Family-Comedy-Fantasy-Adventure-Romance</td><td>EN</td><td>7.2</td></tr><tr><td>566525</td><td>Shang-Chi and the Legend of the Ten Rings</td><td>Action-Adventure-Fantasy</td><td>EN</td><td>7.6</td></tr><tr><td>939210</td><td>Blue's Big City Adventure</td><td>Family-Adventure-Music-Animation</td><td>EN</td><td>7.4</td></tr><tr><td>839706</td><td>BTS Japan Official Fanmeeting Vol.3: Reaching You</td><td>null</td><td>JA</td><td>0.0</td></tr><tr><td>854467</td><td>Indemnity</td><td>Action-Thriller-Crime</td><td>EN</td><td>6.9</td></tr><tr><td>901908</td><td>The Key Game</td><td>Comedy</td><td>ES</td><td>6.1</td></tr><tr><td>668461</td><td>Slumberland</td><td>Family-Fantasy-Adventure-Drama</td><td>EN</td><td>7.6</td></tr><tr><td>876792</td><td>That Time I Got Reincarnated as a Slime the Movie: Scarlet Bond</td><td>Animation-Fantasy-Adventure</td><td>JA</td><td>7.659</td></tr><tr><td>157336</td><td>Interstellar</td><td>Adventure-Drama-Science Fiction</td><td>EN</td><td>8.391</td></tr><tr><td>163733</td><td>The Night Parade</td><td>Romance</td><td>FR</td><td>6.5</td></tr><tr><td>928123</td><td>The Battle at Lake Changjin: Water Gate Bridge</td><td>War-History-Action-Drama</td><td>ZH</td><td>7.0</td></tr><tr><td>818397</td><td>Memory</td><td>Action-Thriller-Crime</td><td>EN</td><td>7.0</td></tr><tr><td>798544</td><td>Summer Ghost</td><td>Animation-Drama-Mystery-Fantasy</td><td>JA</td><td>7.6</td></tr><tr><td>335787</td><td>Uncharted</td><td>Action-Adventure</td><td>EN</td><td>7.043</td></tr><tr><td>423108</td><td>The Conjuring: The Devil Made Me Do It</td><td>Horror-Mystery-Thriller</td><td>EN</td><td>7.5</td></tr><tr><td>802699</td><td>The Girl from the Other Side</td><td>Animation-Drama-Mystery-Fantasy</td><td>JA</td><td>6.8</td></tr><tr><td>816952</td><td>My Best Friend's Exorcism</td><td>Horror-Comedy</td><td>EN</td><td>6.15</td></tr><tr><td>47964</td><td>A Good Day to Die Hard</td><td>Action-Thriller</td><td>EN</td><td>5.319</td></tr><tr><td>354912</td><td>Coco</td><td>Family-Animation-Fantasy-Music-Comedy-Adventure</td><td>EN</td><td>8.2</td></tr><tr><td>436969</td><td>The Suicide Squad</td><td>Action-Comedy-Adventure</td><td>EN</td><td>7.594</td></tr><tr><td>297270</td><td>Tinker Bell and the Legend of the NeverBeast</td><td>Adventure-Animation-Family</td><td>EN</td><td>7.2</td></tr><tr><td>629176</td><td>Samaritan</td><td>Action-Crime-Science Fiction</td><td>EN</td><td>6.823</td></tr><tr><td>829280</td><td>Enola Holmes 2</td><td>Mystery-Adventure-Comedy-Crime</td><td>EN</td><td>7.6</td></tr><tr><td>543504</td><td>Detective vs. Sleuths</td><td>Action-Crime-Mystery-Thriller</td><td>CN</td><td>6.704</td></tr><tr><td>639933</td><td>The Northman</td><td>Action-Adventure-Fantasy</td><td>EN</td><td>7.112</td></tr><tr><td>493529</td><td>Dungeons & Dragons: Honor Among Thieves</td><td>Adventure-Fantasy-Comedy</td><td>EN</td><td>7.5</td></tr><tr><td>593643</td><td>The Menu</td><td>Horror-Thriller</td><td>EN</td><td>7.233</td></tr><tr><td>10192</td><td>Shrek Forever After</td><td>Comedy-Adventure-Fantasy-Animation-Family</td><td>EN</td><td>6.3</td></tr><tr><td>285</td><td>Pirates of the Caribbean: At World's End</td><td>Adventure-Fantasy-Action</td><td>EN</td><td>7.237</td></tr><tr><td>448383</td><td>Doctor Strange: The Score-Cerer Supreme</td><td>Documentary</td><td>EN</td><td>8.9</td></tr><tr><td>814757</td><td>Empire of Light</td><td>Drama-Romance</td><td>EN</td><td>6.614</td></tr><tr><td>820511</td><td>Ripper Untold</td><td>Horror</td><td>EN</td><td>6.2</td></tr><tr><td>7445</td><td>Brothers</td><td>Drama-Thriller-War</td><td>EN</td><td>7.292</td></tr><tr><td>772436</td><td>Matando Cabos 2: La Máscara del Máscara</td><td>Action-Comedy-Adventure</td><td>ES</td><td>7.8</td></tr><tr><td>537915</td><td>After</td><td>Romance-Drama</td><td>EN</td><td>7.16</td></tr><tr><td>853163</td><td>Dumb & Dahmer</td><td>Comedy-Horror</td><td>EN</td><td>0.0</td></tr><tr><td>646385</td><td>Scream</td><td>Horror-Mystery-Thriller</td><td>EN</td><td>6.727</td></tr><tr><td>8587</td><td>The Lion King</td><td>Family-Animation-Drama</td><td>EN</td><td>8.3</td></tr><tr><td>1865</td><td>Pirates of the Caribbean: On Stranger Tides</td><td>Adventure-Action-Fantasy</td><td>EN</td><td>6.528</td></tr><tr><td>675445</td><td>PAW Patrol: The Movie</td><td>Animation-Family-Adventure-Comedy</td><td>EN</td><td>7.4</td></tr><tr><td>829557</td><td>365 Days: This Day</td><td>Romance-Drama</td><td>PL</td><td>5.878</td></tr><tr><td>11688</td><td>The Emperor's New Groove</td><td>Adventure-Animation-Comedy-Family-Fantasy</td><td>EN</td><td>7.5</td></tr><tr><td>626735</td><td>Dog</td><td>Drama-Comedy</td><td>EN</td><td>7.363</td></tr><tr><td>938567</td><td>Teasing Master Takagi-san: The Movie</td><td>Animation-Comedy-Romance</td><td>JA</td><td>8.527</td></tr><tr><td>782054</td><td>Doraemon: Nobita's Little Star Wars 2021</td><td>Animation-Science Fiction-Adventure</td><td>JA</td><td>5.8</td></tr><tr><td>632065</td><td>House Party</td><td>Comedy</td><td>EN</td><td>6.7</td></tr><tr><td>497828</td><td>Triangle of Sadness</td><td>Comedy-Drama</td><td>EN</td><td>7.275</td></tr><tr><td>37165</td><td>The Truman Show</td><td>Comedy-Drama</td><td>EN</td><td>8.1</td></tr><tr><td>335988</td><td>Transformers: The Last Knight</td><td>Action-Adventure-Science Fiction</td><td>EN</td><td>6.1</td></tr><tr><td>862965</td><td>Emily the Criminal</td><td>Crime-Drama-Thriller</td><td>EN</td><td>6.8</td></tr><tr><td>868985</td><td>¡Que Viva México!</td><td>Comedy</td><td>ES</td><td>0.0</td></tr><tr><td>665142</td><td>Young Aunt 3</td><td>Romance</td><td>KO</td><td>6.7</td></tr><tr><td>755679</td><td>Fast X: Part 2</td><td>Action-Crime</td><td>EN</td><td>0.0</td></tr><tr><td>138843</td><td>The Conjuring</td><td>Horror-Thriller</td><td>EN</td><td>7.537</td></tr><tr><td>508943</td><td>Luca</td><td>Animation-Comedy-Family-Fantasy-Action-Adventure</td><td>EN</td><td>7.9</td></tr><tr><td>485470</td><td>Nice Sister-In-Law 2</td><td>Romance</td><td>KO</td><td>5.2</td></tr><tr><td>642885</td><td>Hocus Pocus 2</td><td>Fantasy-Comedy-Family</td><td>EN</td><td>7.4</td></tr><tr><td>774752</td><td>The Guardians of the Galaxy Holiday Special</td><td>Comedy-Science Fiction-Adventure</td><td>EN</td><td>7.332</td></tr><tr><td>420818</td><td>The Lion King</td><td>Adventure-Drama-Family</td><td>EN</td><td>7.131</td></tr><tr><td>335984</td><td>Blade Runner 2049</td><td>Science Fiction-Drama</td><td>EN</td><td>7.525</td></tr><tr><td>384018</td><td>Fast & Furious Presents: Hobbs & Shaw</td><td>Action-Adventure-Comedy</td><td>EN</td><td>6.865</td></tr><tr><td>779112</td><td>BTS World Tour 'Love Yourself - Speak Yourself' London</td><td>Music</td><td>EN</td><td>8.8</td></tr><tr><td>670292</td><td>The Creator</td><td>Science Fiction-Action-Thriller</td><td>EN</td><td>7.3</td></tr><tr><td>913673</td><td>Nefarious</td><td>Horror-Thriller</td><td>EN</td><td>6.847</td></tr><tr><td>919609</td><td>ODDTAXI in the Woods</td><td>Animation-Comedy-Mystery</td><td>JA</td><td>6.5</td></tr><tr><td>417859</td><td>Puss in Boots</td><td>Action-Animation-Adventure-Comedy-Family</td><td>EN</td><td>6.521</td></tr><tr><td>706972</td><td>Narco Sub</td><td>Action-Drama-Crime</td><td>EN</td><td>6.7</td></tr><tr><td>22</td><td>Pirates of the Caribbean: The Curse of the Black Pearl</td><td>Adventure-Fantasy-Action</td><td>EN</td><td>7.789</td></tr><tr><td>960700</td><td>Fullmetal Alchemist: The Revenge of Scar</td><td>Fantasy-Action-Adventure</td><td>JA</td><td>6.8</td></tr><tr><td>814338</td><td>Lady Chatterley's Lover</td><td>Romance-Drama</td><td>EN</td><td>6.748</td></tr><tr><td>744275</td><td>After We Fell</td><td>Romance-Drama</td><td>EN</td><td>7.13</td></tr><tr><td>877957</td><td>Drifting Home</td><td>Animation-Drama-Fantasy-Adventure</td><td>JA</td><td>7.663</td></tr><tr><td>637649</td><td>Wrath of Man</td><td>Action-Crime-Thriller</td><td>EN</td><td>7.682</td></tr><tr><td>807356</td><td>Watcher</td><td>Mystery-Thriller-Horror</td><td>EN</td><td>6.585</td></tr><tr><td>775943</td><td>Tarumama</td><td>Horror-Drama</td><td>ES</td><td>4.5</td></tr><tr><td>709195</td><td>Legions</td><td>Fantasy-Horror-Comedy</td><td>ES</td><td>6.5</td></tr><tr><td>159211</td><td>The Haunting of Helena</td><td>Horror-Thriller</td><td>EN</td><td>5.5</td></tr><tr><td>40172</td><td>Man, Woman & the Wall</td><td>Drama-Romance-Thriller</td><td>JA</td><td>6.3</td></tr><tr><td>777350</td><td>Dory's Reef Cam</td><td>Family-Animation-Comedy-Adventure</td><td>EN</td><td>6.0</td></tr><tr><td>613504</td><td>After We Collided</td><td>Romance-Drama</td><td>EN</td><td>7.221</td></tr><tr><td>2062</td><td>Ratatouille</td><td>Animation-Comedy-Family-Fantasy</td><td>EN</td><td>7.794</td></tr><tr><td>429473</td><td>Lou</td><td>Action-Thriller-Drama</td><td>EN</td><td>6.632</td></tr><tr><td>767304</td><td>Redemption Day</td><td>Action</td><td>EN</td><td>6.2</td></tr><tr><td>777350</td><td>Dory's Reef Cam</td><td>Family-Animation-Comedy-Adventure</td><td>EN</td><td>6.0</td></tr><tr><td>335795</td><td>Monster High: The Movie</td><td>Family-Fantasy-Comedy-Adventure-Music-TV Movie</td><td>EN</td><td>7.0</td></tr><tr><td>238</td><td>The Godfather</td><td>Drama-Crime</td><td>EN</td><td>8.71</td></tr><tr><td>698779</td><td>Room Salon College Girls 3</td><td>Romance-Action</td><td>KO</td><td>5.0</td></tr><tr><td>648579</td><td>The Unbearable Weight of Massive Talent</td><td>Action-Comedy-Crime</td><td>EN</td><td>6.777</td></tr><tr><td>168259</td><td>Furious 7</td><td>Action-Thriller-Crime</td><td>EN</td><td>7.239</td></tr><tr><td>848932</td><td>Why Women Cheat</td><td>Romance</td><td>EN</td><td>3.3</td></tr><tr><td>624860</td><td>The Matrix Resurrections</td><td>Science Fiction-Action-Adventure</td><td>EN</td><td>6.5</td></tr><tr><td>777350</td><td>Dory's Reef Cam</td><td>Family-Animation-Comedy-Adventure</td><td>EN</td><td>6.0</td></tr><tr><td>102382</td><td>The Amazing Spider-Man 2</td><td>Action-Adventure-Fantasy</td><td>EN</td><td>6.488</td></tr><tr><td>747803</td><td>One Way</td><td>Crime-Thriller</td><td>EN</td><td>6.4</td></tr><tr><td>453071</td><td>The Day Naruto Became Hokage</td><td>Comedy-Animation-Action-Adventure</td><td>JA</td><td>7.6</td></tr><tr><td>102899</td><td>Ant-Man</td><td>Science Fiction-Action-Adventure</td><td>EN</td><td>7.083</td></tr><tr><td>916719</td><td>Code Name Banshee</td><td>Thriller-Action</td><td>EN</td><td>5.2</td></tr><tr><td>801071</td><td>The Jack in the Box: Awakening</td><td>Horror</td><td>EN</td><td>6.431</td></tr><tr><td>919355</td><td>Dragon Knight</td><td>Fantasy-Adventure-Action</td><td>EN</td><td>6.778</td></tr><tr><td>601796</td><td>Alienoid</td><td>Science Fiction-Action-Fantasy-Adventure</td><td>KO</td><td>7.163</td></tr><tr><td>629542</td><td>The Bad Guys</td><td>Animation-Action-Adventure-Crime-Comedy</td><td>EN</td><td>7.7</td></tr><tr><td>894246</td><td>Ride Above</td><td>Drama-Comedy-Family</td><td>FR</td><td>6.9</td></tr><tr><td>45491</td><td>Sex and Zen</td><td>Drama-Adventure-Comedy-Romance</td><td>CN</td><td>5.8</td></tr><tr><td>960875</td><td>The Chalk Line</td><td>Horror-Thriller-Mystery</td><td>ES</td><td>6.4</td></tr><tr><td>691777</td><td>Jesus</td><td>Family-History-Music</td><td>EN</td><td>7.5</td></tr><tr><td>18785</td><td>The Hangover</td><td>Comedy</td><td>EN</td><td>7.309</td></tr><tr><td>860623</td><td>Last Man Down</td><td>Action-Thriller</td><td>EN</td><td>5.636</td></tr><tr><td>315635</td><td>Spider-Man: Homecoming</td><td>Action-Adventure-Science Fiction-Drama</td><td>EN</td><td>7.345</td></tr><tr><td>798286</td><td>Beau Is Afraid</td><td>Comedy-Adventure-Fantasy</td><td>EN</td><td>7.0</td></tr><tr><td>59440</td><td>Warrior</td><td>Drama-Action</td><td>EN</td><td>7.84</td></tr><tr><td>744</td><td>Top Gun</td><td>Action-Drama</td><td>EN</td><td>7.027</td></tr><tr><td>1726</td><td>Iron Man</td><td>Action-Science Fiction-Adventure</td><td>EN</td><td>7.6</td></tr><tr><td>895006</td><td>Demon Slayer: Kimetsu no Yaiba - Tsuzumi Mansion Arc</td><td>Animation-Action-Fantasy</td><td>JA</td><td>7.6</td></tr><tr><td>532639</td><td>Pinocchio</td><td>Fantasy-Adventure-Family</td><td>EN</td><td>6.549</td></tr><tr><td>967493</td><td>Inside The Walking Dead Season 11 (Part 1)</td><td>null</td><td>EN</td><td>10.0</td></tr><tr><td>70981</td><td>Prometheus</td><td>Science Fiction-Adventure-Mystery</td><td>EN</td><td>6.5</td></tr><tr><td>106646</td><td>The Wolf of Wall Street</td><td>Crime-Drama-Comedy</td><td>EN</td><td>8.036</td></tr><tr><td>818648</td><td>Love at First Kiss</td><td>Romance-Comedy</td><td>ES</td><td>6.074</td></tr><tr><td>758336</td><td>Love Again</td><td>Romance-Drama-Comedy</td><td>EN</td><td>6.392</td></tr><tr><td>120</td><td>The Lord of the Rings: The Fellowship of the Ring</td><td>Adventure-Fantasy-Action</td><td>EN</td><td>8.402</td></tr><tr><td>779112</td><td>BTS World Tour 'Love Yourself - Speak Yourself' London</td><td>Music</td><td>EN</td><td>8.8</td></tr><tr><td>76338</td><td>Thor: The Dark World</td><td>Action-Adventure-Fantasy</td><td>EN</td><td>6.552</td></tr><tr><td>761898</td><td>Sword Art Online the Movie -Progressive- Aria of a Starless Night</td><td>Animation-Action-Fantasy-Science Fiction</td><td>JA</td><td>8.1</td></tr><tr><td>964980</td><td>Air</td><td>Drama-History</td><td>EN</td><td>7.418</td></tr><tr><td>116322</td><td>The Legend of La Llorona</td><td>Family-Animation-Fantasy</td><td>ES</td><td>7.8</td></tr><tr><td>848932</td><td>Why Women Cheat</td><td>Romance</td><td>EN</td><td>3.3</td></tr><tr><td>471707</td><td>Corpus Christi</td><td>Drama</td><td>PL</td><td>7.7</td></tr><tr><td>886396</td><td>Batman and Superman: Battle of the Super Sons</td><td>Animation-Action-Science Fiction</td><td>EN</td><td>7.9</td></tr><tr><td>330457</td><td>Frozen II</td><td>Family-Animation-Adventure-Comedy-Fantasy</td><td>EN</td><td>7.281</td></tr><tr><td>896485</td><td>Overdose</td><td>Action-Crime-Thriller</td><td>FR</td><td>6.575</td></tr><tr><td>228150</td><td>Fury</td><td>War-Drama-Action</td><td>EN</td><td>7.5</td></tr><tr><td>502235</td><td>Purpose of Reunion 3</td><td>Drama-Romance</td><td>KO</td><td>3.5</td></tr><tr><td>810171</td><td>The Valet</td><td>Comedy-Romance</td><td>EN</td><td>7.739</td></tr><tr><td>862</td><td>Toy Story</td><td>Animation-Adventure-Family-Comedy</td><td>EN</td><td>7.966</td></tr><tr><td>269149</td><td>Zootopia</td><td>Animation-Adventure-Family-Comedy</td><td>EN</td><td>7.746</td></tr><tr><td>39254</td><td>Real Steel</td><td>Action-Science Fiction-Drama</td><td>EN</td><td>6.955</td></tr><tr><td>303857</td><td>Dragon Ball Z: Resurrection 'F'</td><td>Action-Animation-Science Fiction</td><td>JA</td><td>6.8</td></tr><tr><td>337339</td><td>The Fate of the Furious</td><td>Action-Crime-Thriller</td><td>EN</td><td>6.892</td></tr><tr><td>10144</td><td>The Little Mermaid</td><td>Animation-Family-Fantasy</td><td>EN</td><td>7.3</td></tr><tr><td>579974</td><td>RRR</td><td>Action-Drama</td><td>TE</td><td>7.845</td></tr><tr><td>460465</td><td>Mortal Kombat</td><td>Action-Fantasy-Adventure</td><td>EN</td><td>7.1</td></tr><tr><td>337404</td><td>Cruella</td><td>Comedy-Crime</td><td>EN</td><td>8.083</td></tr><tr><td>691777</td><td>Jesus</td><td>Family-History-Music</td><td>EN</td><td>7.5</td></tr><tr><td>843241</td><td>The Seven Deadly Sins: Cursed by Light</td><td>Animation-Fantasy</td><td>JA</td><td>7.8</td></tr><tr><td>527774</td><td>Raya and the Last Dragon</td><td>Animation-Family-Fantasy-Action-Adventure</td><td>EN</td><td>7.937</td></tr><tr><td>871964</td><td>Nobody Sleeps in the Woods Tonight 2</td><td>Horror-Thriller-Comedy</td><td>PL</td><td>4.1</td></tr><tr><td>879538</td><td>Crawlspace</td><td>Thriller</td><td>EN</td><td>6.6</td></tr><tr><td>425</td><td>Ice Age</td><td>Animation-Comedy-Family-Adventure</td><td>EN</td><td>7.34</td></tr><tr><td>290271</td><td>One Piece \"3D2Y\": Overcome Ace's Death! Luffy's Vow to his Friends</td><td>Action-Animation-Adventure-Comedy-Fantasy</td><td>JA</td><td>7.4</td></tr><tr><td>10198</td><td>The Princess and the Frog</td><td>Romance-Family-Animation</td><td>EN</td><td>7.2</td></tr><tr><td>10138</td><td>Iron Man 2</td><td>Adventure-Action-Science Fiction</td><td>EN</td><td>6.835</td></tr><tr><td>324857</td><td>Spider-Man: Into the Spider-Verse</td><td>Action-Adventure-Animation-Science Fiction</td><td>EN</td><td>8.406</td></tr><tr><td>524434</td><td>Eternals</td><td>Science Fiction-Action-Adventure</td><td>EN</td><td>6.969</td></tr><tr><td>723347</td><td>Robots</td><td>Romance-Science Fiction-Fantasy-Comedy</td><td>EN</td><td>6.5</td></tr><tr><td>477462</td><td>The Twin</td><td>Horror-Mystery</td><td>EN</td><td>6.0</td></tr><tr><td>379686</td><td>Space Jam: A New Legacy</td><td>Family-Animation-Comedy-Science Fiction</td><td>EN</td><td>6.9</td></tr><tr><td>913991</td><td>Prison 77</td><td>Drama</td><td>ES</td><td>7.5</td></tr><tr><td>800279</td><td>Corner Office</td><td>Comedy-Drama</td><td>EN</td><td>6.545</td></tr><tr><td>460458</td><td>Resident Evil: Welcome to Raccoon City</td><td>Horror-Science Fiction-Action</td><td>EN</td><td>6.1</td></tr><tr><td>653851</td><td>Devotion</td><td>War-Drama-Action</td><td>EN</td><td>7.249</td></tr><tr><td>438631</td><td>Dune</td><td>Science Fiction-Adventure</td><td>EN</td><td>7.744</td></tr><tr><td>729097</td><td>Young Mother 5</td><td>Drama-Romance</td><td>KO</td><td>5.1</td></tr><tr><td>1366</td><td>Rocky</td><td>Drama-Romance</td><td>EN</td><td>7.782</td></tr><tr><td>260514</td><td>Cars 3</td><td>Animation-Adventure-Comedy-Family</td><td>EN</td><td>6.8</td></tr><tr><td>665899</td><td>Topside</td><td>Drama</td><td>EN</td><td>7.6</td></tr><tr><td>518896</td><td>Warriors of Future</td><td>Drama-Action-Science Fiction</td><td>ZH</td><td>7.304</td></tr><tr><td>512195</td><td>Red Notice</td><td>Action-Comedy-Crime-Thriller</td><td>EN</td><td>6.795</td></tr><tr><td>585245</td><td>Clifford the Big Red Dog</td><td>Family-Adventure-Comedy-Fantasy</td><td>EN</td><td>7.3</td></tr><tr><td>585</td><td>Monsters, Inc.</td><td>Animation-Comedy-Family</td><td>EN</td><td>7.831</td></tr><tr><td>728366</td><td>Borrego</td><td>Crime-Thriller</td><td>EN</td><td>5.9</td></tr><tr><td>883083</td><td>You Won't Be Alone</td><td>Horror-Drama</td><td>MK</td><td>6.624</td></tr><tr><td>843269</td><td>Eureka: Eureka Seven Hi-Evolution</td><td>Animation-Drama-Adventure-Science Fiction</td><td>JA</td><td>7.3</td></tr><tr><td>11224</td><td>Cinderella</td><td>Family-Fantasy-Animation-Romance</td><td>EN</td><td>7.036</td></tr><tr><td>284052</td><td>Doctor Strange</td><td>Action-Adventure-Fantasy</td><td>EN</td><td>7.425</td></tr><tr><td>755812</td><td>Miraculous World: New York, United HeroeZ</td><td>Animation-TV Movie-Fantasy-Action</td><td>FR</td><td>8.2</td></tr><tr><td>348893</td><td>Boyka: Undisputed IV</td><td>Action-Drama</td><td>EN</td><td>7.1</td></tr><tr><td>135397</td><td>Jurassic World</td><td>Action-Adventure-Science Fiction-Thriller</td><td>EN</td><td>6.678</td></tr><tr><td>155</td><td>The Dark Knight</td><td>Drama-Action-Crime-Thriller</td><td>EN</td><td>8.508</td></tr><tr><td>615457</td><td>Nobody</td><td>Action-Crime-Thriller</td><td>EN</td><td>8.077</td></tr><tr><td>649609</td><td>Renfield</td><td>Comedy-Horror-Fantasy-Action</td><td>EN</td><td>6.759</td></tr><tr><td>864101</td><td>Mira</td><td>Drama-Adventure-Science Fiction-Family</td><td>RU</td><td>6.8</td></tr><tr><td>10195</td><td>Thor</td><td>Adventure-Fantasy-Action</td><td>EN</td><td>6.767</td></tr><tr><td>1930</td><td>The Amazing Spider-Man</td><td>Action-Adventure-Fantasy</td><td>EN</td><td>6.682</td></tr><tr><td>884363</td><td>Togo</td><td>Crime-Drama</td><td>ES</td><td>6.6</td></tr><tr><td>560057</td><td>The Sea Beast</td><td>Animation-Adventure-Family-Fantasy</td><td>EN</td><td>7.5</td></tr><tr><td>936061</td><td>Under Wraps 2</td><td>Family-Comedy-Fantasy-TV Movie</td><td>EN</td><td>6.8</td></tr><tr><td>644124</td><td>Dampyr</td><td>Horror-Fantasy-Action</td><td>IT</td><td>6.5</td></tr><tr><td>589761</td><td>Chernobyl: Abyss</td><td>Drama-History-Adventure-Action-Fantasy-Mystery</td><td>RU</td><td>6.2</td></tr><tr><td>259693</td><td>The Conjuring 2</td><td>Horror-Thriller</td><td>EN</td><td>7.288</td></tr><tr><td>810</td><td>Shrek the Third</td><td>Fantasy-Adventure-Animation-Comedy-Family</td><td>EN</td><td>6.281</td></tr><tr><td>507250</td><td>Dead Shot</td><td>Action-Thriller</td><td>EN</td><td>0.0</td></tr><tr><td>812488</td><td>Don't Come Back Alive</td><td>Thriller-Fantasy-Horror</td><td>ES</td><td>6.1</td></tr><tr><td>420809</td><td>Maleficent: Mistress of Evil</td><td>Family-Fantasy-Adventure-Action</td><td>EN</td><td>7.345</td></tr><tr><td>284053</td><td>Thor: Ragnarok</td><td>Action-Adventure-Fantasy-Science Fiction-Comedy</td><td>EN</td><td>7.6</td></tr><tr><td>911916</td><td>Spider-Man: Beyond the Spider-Verse</td><td>Animation-Action-Adventure-Science Fiction</td><td>EN</td><td>0.0</td></tr><tr><td>942951</td><td>Snake Island Python</td><td>Drama</td><td>ZH</td><td>7.5</td></tr><tr><td>937278</td><td>A Man Called Otto</td><td>Comedy-Drama</td><td>EN</td><td>7.885</td></tr><tr><td>552688</td><td>The Mother</td><td>Action-Thriller</td><td>EN</td><td>6.7</td></tr><tr><td>940077</td><td>Jurassic World Dominion: Prologue</td><td>Science Fiction-Action</td><td>EN</td><td>4.5</td></tr><tr><td>24428</td><td>The Avengers</td><td>Science Fiction-Action-Adventure</td><td>EN</td><td>7.71</td></tr><tr><td>901563</td><td>Close</td><td>Drama</td><td>FR</td><td>7.843</td></tr><tr><td>639721</td><td>The Addams Family 2</td><td>Animation-Adventure-Comedy-Family-Fantasy-Horror</td><td>EN</td><td>7.097</td></tr><tr><td>87101</td><td>Terminator Genisys</td><td>Science Fiction-Action-Thriller-Adventure</td><td>EN</td><td>5.921</td></tr><tr><td>821133</td><td>HollyBlood</td><td>Comedy-Fantasy-Romance</td><td>ES</td><td>5.733</td></tr><tr><td>429617</td><td>Spider-Man: Far From Home</td><td>Action-Adventure-Science Fiction</td><td>EN</td><td>7.5</td></tr><tr><td>691777</td><td>Jesus</td><td>Family-History-Music</td><td>EN</td><td>7.5</td></tr><tr><td>801857</td><td>Toscana</td><td>Comedy</td><td>ES</td><td>5.8</td></tr><tr><td>14836</td><td>Coraline</td><td>Animation-Family-Fantasy</td><td>EN</td><td>7.8</td></tr><tr><td>941959</td><td>An Argentinian Crime</td><td>Thriller</td><td>ES</td><td>6.3</td></tr><tr><td>592350</td><td>My Hero Academia: Heroes Rising</td><td>Animation-Action-Fantasy-Adventure</td><td>JA</td><td>8.2</td></tr><tr><td>962232</td><td>Beyond the Universe</td><td>Romance-Drama-Comedy</td><td>PT</td><td>8.078</td></tr><tr><td>895003</td><td>Demon Slayer: Kimetsu no Yaiba - Asakusa Arc</td><td>Animation-Fantasy</td><td>JA</td><td>8.583</td></tr><tr><td>324552</td><td>John Wick: Chapter 2</td><td>Action-Thriller-Crime</td><td>EN</td><td>7.325</td></tr><tr><td>921360</td><td>Wire Room</td><td>Action-Crime-Thriller</td><td>EN</td><td>6.742</td></tr><tr><td>508442</td><td>Soul</td><td>Animation-Family-Comedy-Fantasy-Drama</td><td>EN</td><td>8.161</td></tr><tr><td>532067</td><td>KonoSuba: God's Blessing on this Wonderful World! Legend of Crimson</td><td>Animation-Adventure-Comedy-Fantasy</td><td>JA</td><td>8.2</td></tr><tr><td>39456</td><td>Women in Fury</td><td>Action-Drama</td><td>IT</td><td>6.4</td></tr><tr><td>118</td><td>Charlie and the Chocolate Factory</td><td>Adventure-Comedy-Family-Fantasy</td><td>EN</td><td>7.037</td></tr><tr><td>626872</td><td>Emergency Declaration</td><td>Action-Drama-Mystery-Thriller</td><td>KO</td><td>7.9</td></tr><tr><td>278</td><td>The Shawshank Redemption</td><td>Drama-Crime</td><td>EN</td><td>8.702</td></tr><tr><td>726684</td><td>Miraculous World: Shanghai – The Legend of Ladydragon</td><td>Animation-Fantasy-Action-TV Movie</td><td>FR</td><td>7.9</td></tr><tr><td>919689</td><td>War of the Worlds: Annihilation</td><td>Science Fiction-Action</td><td>EN</td><td>5.2</td></tr><tr><td>351286</td><td>Jurassic World: Fallen Kingdom</td><td>Action-Adventure-Science Fiction-Thriller</td><td>EN</td><td>6.6</td></tr><tr><td>177572</td><td>Big Hero 6</td><td>Adventure-Family-Animation-Action-Comedy</td><td>EN</td><td>7.741</td></tr><tr><td>759175</td><td>The Princess</td><td>Fantasy-Action</td><td>EN</td><td>6.9</td></tr><tr><td>529106</td><td>Major Grom: Plague Doctor</td><td>Action-Adventure</td><td>RU</td><td>6.7</td></tr><tr><td>818647</td><td>Through My Window</td><td>Drama-Romance</td><td>ES</td><td>7.453</td></tr><tr><td>1364</td><td>Sex and Lucía</td><td>Drama-Romance</td><td>ES</td><td>6.7</td></tr><tr><td>109445</td><td>Frozen</td><td>Animation-Family-Adventure-Fantasy</td><td>EN</td><td>7.25</td></tr><tr><td>507089</td><td>Five Nights at Freddy's</td><td>Horror-Thriller-Fantasy</td><td>EN</td><td>0.0</td></tr><tr><td>126963</td><td>Dragon Ball Z: Battle of Gods</td><td>Animation-Action-Science Fiction</td><td>JA</td><td>6.793</td></tr><tr><td>725201</td><td>The Gray Man</td><td>Action-Thriller</td><td>EN</td><td>7.011</td></tr><tr><td>505262</td><td>My Hero Academia: Two Heroes</td><td>Animation-Action-Adventure-Fantasy</td><td>JA</td><td>7.921</td></tr><tr><td>293660</td><td>Deadpool</td><td>Action-Adventure-Comedy</td><td>EN</td><td>7.604</td></tr><tr><td>295830</td><td>Attack on Titan</td><td>Horror-Fantasy-Action-Science Fiction</td><td>JA</td><td>6.039</td></tr><tr><td>188070</td><td>Dream 9 Toriko & One Piece & Dragon Ball Z Super Collaboration Special!!</td><td>Action-Adventure-Comedy-Fantasy-Animation</td><td>JA</td><td>7.4</td></tr><tr><td>68726</td><td>Pacific Rim</td><td>Action-Science Fiction-Adventure</td><td>EN</td><td>6.863</td></tr><tr><td>804095</td><td>The Fabelmans</td><td>Drama</td><td>EN</td><td>7.945</td></tr><tr><td>667739</td><td>The Man from Toronto</td><td>Action-Comedy</td><td>EN</td><td>6.853</td></tr><tr><td>9820</td><td>The Parent Trap</td><td>Comedy-Family</td><td>EN</td><td>7.1</td></tr><tr><td>11</td><td>Star Wars</td><td>Adventure-Action-Science Fiction</td><td>EN</td><td>8.2</td></tr><tr><td>863</td><td>Toy Story 2</td><td>Animation-Comedy-Family</td><td>EN</td><td>7.583</td></tr><tr><td>58</td><td>Pirates of the Caribbean: Dead Man's Chest</td><td>Adventure-Fantasy-Action</td><td>EN</td><td>7.337</td></tr><tr><td>928391</td><td>The Red Book Ritual</td><td>Horror</td><td>EN</td><td>5.5</td></tr><tr><td>927341</td><td>Hunting Ava Bravo</td><td>Thriller-Action</td><td>EN</td><td>6.5</td></tr><tr><td>616851</td><td>Untitled 'The Walking Dead' Film</td><td>Adventure-Drama-Horror-Science Fiction</td><td>EN</td><td>0.0</td></tr><tr><td>904039</td><td>Madagascar: A Little Wild Holiday Goose Chase</td><td>Animation-Comedy</td><td>EN</td><td>6.3</td></tr><tr><td>49013</td><td>Cars 2</td><td>Animation-Family-Adventure-Comedy</td><td>EN</td><td>6.0</td></tr><tr><td>98566</td><td>Teenage Mutant Ninja Turtles</td><td>Science Fiction-Action-Adventure-Comedy</td><td>EN</td><td>5.9</td></tr><tr><td>347201</td><td>Boruto: Naruto the Movie</td><td>Animation-Action-Comedy</td><td>JA</td><td>7.634</td></tr><tr><td>610133</td><td>The World of Dragon Ball Z</td><td>Action</td><td>EN</td><td>6.0</td></tr><tr><td>833425</td><td>No Exit</td><td>Horror-Thriller-Mystery</td><td>EN</td><td>6.979</td></tr><tr><td>122917</td><td>The Hobbit: The Battle of the Five Armies</td><td>Action-Adventure-Fantasy</td><td>EN</td><td>7.3</td></tr><tr><td>20982</td><td>Naruto Shippuden the Movie</td><td>Animation-Action-Fantasy</td><td>JA</td><td>7.339</td></tr><tr><td>848123</td><td>Black Site</td><td>Action-Thriller</td><td>EN</td><td>6.8</td></tr><tr><td>588228</td><td>The Tomorrow War</td><td>Action-Science Fiction-Adventure</td><td>EN</td><td>7.9</td></tr><tr><td>674324</td><td>The Banshees of Inisherin</td><td>Drama-Comedy</td><td>EN</td><td>7.541</td></tr><tr><td>774301</td><td>American Murderer</td><td>Crime-Thriller-Drama</td><td>EN</td><td>6.4</td></tr><tr><td>4247</td><td>Scary Movie</td><td>Comedy</td><td>EN</td><td>6.322</td></tr><tr><td>485811</td><td>Redcon-1</td><td>Action-Horror-Science Fiction</td><td>EN</td><td>5.6</td></tr><tr><td>557</td><td>Spider-Man</td><td>Fantasy-Action</td><td>EN</td><td>7.264</td></tr><tr><td>696806</td><td>The Adam Project</td><td>Adventure-Science Fiction</td><td>EN</td><td>7.067</td></tr><tr><td>366672</td><td>Paws of Fury: The Legend of Hank</td><td>Animation-Action-Adventure-Comedy-Family-Western</td><td>EN</td><td>6.822</td></tr><tr><td>939979</td><td>Paradise Highway</td><td>Thriller-Crime-Drama</td><td>EN</td><td>5.926</td></tr><tr><td>341174</td><td>Fifty Shades Darker</td><td>Drama-Romance</td><td>EN</td><td>6.5</td></tr><tr><td>156022</td><td>The Equalizer</td><td>Thriller-Action-Crime</td><td>EN</td><td>7.2</td></tr><tr><td>514999</td><td>Murder Mystery</td><td>Comedy-Mystery</td><td>EN</td><td>6.261</td></tr><tr><td>906221</td><td>Magic Mike's Last Dance</td><td>Comedy-Drama-Romance</td><td>EN</td><td>7.1</td></tr><tr><td>14160</td><td>Up</td><td>Animation-Comedy-Family-Adventure</td><td>EN</td><td>7.942</td></tr><tr><td>529203</td><td>The Croods: A New Age</td><td>Animation-Family-Adventure-Fantasy-Comedy</td><td>EN</td><td>7.5</td></tr><tr><td>748501</td><td>Hot Hair Salon</td><td>Drama-Romance</td><td>KO</td><td>5.2</td></tr><tr><td>889080</td><td>What We Leave Behind</td><td>Documentary</td><td>EN</td><td>6.0</td></tr><tr><td>800345</td><td>Carter</td><td>Action-Thriller</td><td>KO</td><td>6.2</td></tr><tr><td>616820</td><td>Halloween Ends</td><td>Horror-Thriller</td><td>EN</td><td>6.344</td></tr><tr><td>447332</td><td>A Quiet Place</td><td>Horror-Drama-Science Fiction</td><td>EN</td><td>7.396</td></tr><tr><td>166428</td><td>How to Train Your Dragon: The Hidden World</td><td>Animation-Family-Adventure</td><td>EN</td><td>7.8</td></tr><tr><td>648964</td><td>Ninja Escapades: Creation of Akatsuki, The Two Uchiha, The Far Reaches of Hope</td><td>Animation-Action-Adventure-Fantasy-Comedy</td><td>JA</td><td>6.9</td></tr><tr><td>475557</td><td>Joker</td><td>Crime-Thriller-Drama</td><td>EN</td><td>8.17</td></tr><tr><td>578701</td><td>Those Who Wish Me Dead</td><td>Thriller-Action</td><td>EN</td><td>6.7</td></tr><tr><td>44918</td><td>Titanic II</td><td>Action-Adventure-Thriller</td><td>EN</td><td>4.9</td></tr><tr><td>25769</td><td>Carriers</td><td>Action-Drama-Horror-Science Fiction-Thriller</td><td>EN</td><td>6.1</td></tr><tr><td>466420</td><td>Killers of the Flower Moon</td><td>Crime-Drama-Thriller</td><td>EN</td><td>0.0</td></tr><tr><td>190859</td><td>American Sniper</td><td>War-Action</td><td>EN</td><td>7.434</td></tr><tr><td>353081</td><td>Mission: Impossible - Fallout</td><td>Action-Adventure</td><td>EN</td><td>7.414</td></tr><tr><td>811061</td><td>So Cold the River</td><td>Horror-Thriller</td><td>EN</td><td>5.672</td></tr><tr><td>589754</td><td>The Last Warrior: Root of Evil</td><td>Fantasy-Adventure-Comedy</td><td>RU</td><td>7.0</td></tr><tr><td>370172</td><td>No Time to Die</td><td>Adventure-Action-Thriller</td><td>EN</td><td>7.4</td></tr><tr><td>4258</td><td>Scary Movie 5</td><td>Comedy</td><td>EN</td><td>4.815</td></tr><tr><td>464052</td><td>Wonder Woman 1984</td><td>Action-Adventure-Fantasy</td><td>EN</td><td>6.51</td></tr><tr><td>961707</td><td>Hawa</td><td>Drama-Comedy</td><td>FR</td><td>6.8</td></tr><tr><td>296096</td><td>Me Before You</td><td>Drama-Romance</td><td>EN</td><td>7.905</td></tr><tr><td>772450</td><td>Presences</td><td>Horror</td><td>ES</td><td>6.9</td></tr><tr><td>739986</td><td>True Spirit</td><td>Adventure-Drama-Family</td><td>EN</td><td>7.044</td></tr><tr><td>890541</td><td>7 Women and a Murder</td><td>Mystery-Comedy</td><td>IT</td><td>5.617</td></tr><tr><td>34433</td><td>Dragon Ball Z: Broly – The Legendary Super Saiyan</td><td>Animation-Science Fiction-Action</td><td>JA</td><td>7.268</td></tr><tr><td>82690</td><td>Wreck-It Ralph</td><td>Family-Animation-Comedy-Adventure</td><td>EN</td><td>7.3</td></tr><tr><td>718789</td><td>Lightyear</td><td>Animation-Action-Adventure-Family-Science Fiction</td><td>EN</td><td>7.082</td></tr><tr><td>776797</td><td>The Sadness</td><td>Horror-Thriller</td><td>ZH</td><td>6.744</td></tr><tr><td>383498</td><td>Deadpool 2</td><td>Action-Comedy-Adventure</td><td>EN</td><td>7.494</td></tr><tr><td>898308</td><td>Darby and the Dead</td><td>Comedy-Fantasy</td><td>EN</td><td>6.1</td></tr><tr><td>550988</td><td>Free Guy</td><td>Comedy-Adventure-Science Fiction</td><td>EN</td><td>7.59</td></tr><tr><td>619433</td><td>I Don't Like Younger Men 4</td><td>Romance</td><td>KO</td><td>5.5</td></tr><tr><td>214756</td><td>Ted 2</td><td>Comedy-Fantasy</td><td>EN</td><td>6.3</td></tr><tr><td>572802</td><td>Aquaman and the Lost Kingdom</td><td>Action-Adventure-Fantasy</td><td>EN</td><td>0.0</td></tr><tr><td>297802</td><td>Aquaman</td><td>Action-Adventure-Fantasy</td><td>EN</td><td>6.898</td></tr><tr><td>876262</td><td>Garota da Moto</td><td>Action</td><td>PT</td><td>4.889</td></tr><tr><td>838197</td><td>...Watch Out, We're Mad</td><td>Comedy-Action</td><td>IT</td><td>5.4</td></tr><tr><td>724209</td><td>Heart of Stone</td><td>Thriller-Action</td><td>EN</td><td>0.0</td></tr><tr><td>355651</td><td>The Student</td><td>Drama</td><td>NL</td><td>4.9</td></tr><tr><td>99861</td><td>Avengers: Age of Ultron</td><td>Action-Adventure-Science Fiction</td><td>EN</td><td>7.277</td></tr><tr><td>759507</td><td>Blackout</td><td>Action-Adventure-Thriller</td><td>EN</td><td>5.464</td></tr><tr><td>615173</td><td>The Witch: Part 2. The Other One</td><td>Action-Mystery-Thriller-Science Fiction</td><td>KO</td><td>7.1</td></tr><tr><td>150540</td><td>Inside Out</td><td>Animation-Family-Adventure-Drama-Comedy</td><td>EN</td><td>7.92</td></tr><tr><td>890980</td><td>God's Crooked Lines</td><td>Drama-Mystery-Thriller</td><td>ES</td><td>7.4</td></tr><tr><td>857</td><td>Saving Private Ryan</td><td>Drama-History-War</td><td>EN</td><td>8.204</td></tr><tr><td>11970</td><td>Hercules</td><td>Animation-Family-Fantasy-Adventure-Comedy-Romance</td><td>EN</td><td>7.507</td></tr><tr><td>830788</td><td>The Invitation</td><td>Horror-Thriller</td><td>EN</td><td>6.339</td></tr><tr><td>72190</td><td>World War Z</td><td>Action-Drama-Horror-Science Fiction-Thriller</td><td>EN</td><td>6.8</td></tr><tr><td>507903</td><td>Spoiler Alert</td><td>Comedy-Drama-Romance</td><td>EN</td><td>7.5</td></tr><tr><td>634528</td><td>The Marksman</td><td>Action-Drama</td><td>EN</td><td>6.9</td></tr><tr><td>728767</td><td>Solar Impact</td><td>Action-Fantasy-Thriller</td><td>EN</td><td>2.7</td></tr><tr><td>747188</td><td>Asteroid City</td><td>Comedy-Drama</td><td>EN</td><td>6.654</td></tr><tr><td>531219</td><td>Roald Dahl's The Witches</td><td>Adventure-Fantasy-Comedy-Family-Horror</td><td>EN</td><td>6.4</td></tr><tr><td>492999</td><td>Attack on Titan: The Roar of Awakening</td><td>Animation-Action-Adventure-Fantasy</td><td>JA</td><td>8.348</td></tr><tr><td>9502</td><td>Kung Fu Panda</td><td>Action-Adventure-Animation-Family-Comedy</td><td>EN</td><td>7.221</td></tr><tr><td>781099</td><td>Inexorable</td><td>Thriller</td><td>FR</td><td>5.9</td></tr><tr><td>166426</td><td>Pirates of the Caribbean: Dead Men Tell No Tales</td><td>Adventure-Action-Fantasy</td><td>EN</td><td>6.646</td></tr><tr><td>7347</td><td>Elite Squad</td><td>Drama-Action-Crime</td><td>PT</td><td>8.061</td></tr><tr><td>615777</td><td>Babylon</td><td>Drama-Comedy</td><td>EN</td><td>7.489</td></tr><tr><td>454286</td><td>God's Not Dead: A Light in Darkness</td><td>Drama</td><td>EN</td><td>7.0</td></tr><tr><td>834734</td><td>Psychosexual</td><td>Thriller</td><td>ES</td><td>2.0</td></tr><tr><td>785976</td><td>Pelé</td><td>Documentary</td><td>PT</td><td>7.5</td></tr><tr><td>791373</td><td>Zack Snyder's Justice League</td><td>Action-Adventure-Fantasy</td><td>EN</td><td>8.2</td></tr><tr><td>620705</td><td>Crater</td><td>Science Fiction-Action-Adventure-Family</td><td>EN</td><td>7.0</td></tr><tr><td>406759</td><td>Moonfall</td><td>Science Fiction-Adventure-Action</td><td>EN</td><td>6.4</td></tr><tr><td>564</td><td>The Mummy</td><td>Adventure-Action-Fantasy</td><td>EN</td><td>6.882</td></tr><tr><td>728754</td><td>Stand by Me Doraemon 2</td><td>Animation-Family-Science Fiction</td><td>JA</td><td>7.7</td></tr><tr><td>340382</td><td>Attack on Titan II: End of the World</td><td>Horror-Science Fiction-Action-Fantasy</td><td>JA</td><td>6.033</td></tr><tr><td>38757</td><td>Tangled</td><td>Animation-Family</td><td>EN</td><td>7.6</td></tr><tr><td>13186</td><td>Wrong Turn 2: Dead End</td><td>Horror-Thriller</td><td>EN</td><td>6.0</td></tr><tr><td>58428</td><td>The Innkeepers</td><td>Horror-Thriller</td><td>EN</td><td>5.4</td></tr><tr><td>536628</td><td>Megan</td><td>Action-Science Fiction</td><td>EN</td><td>6.0</td></tr><tr><td>367401</td><td>With Aunt It's Not a Sin</td><td>Comedy</td><td>IT</td><td>6.3</td></tr><tr><td>474350</td><td>It Chapter Two</td><td>Horror-Fantasy</td><td>EN</td><td>6.9</td></tr><tr><td>254128</td><td>San Andreas</td><td>Action-Drama-Thriller</td><td>EN</td><td>6.207</td></tr><tr><td>458156</td><td>John Wick: Chapter 3 - Parabellum</td><td>Action-Thriller-Crime</td><td>EN</td><td>7.446</td></tr><tr><td>888838</td><td>The Long Dark Trail</td><td>Horror</td><td>EN</td><td>4.7</td></tr><tr><td>898278</td><td>The Middle Ages</td><td>Comedy-Drama</td><td>ES</td><td>6.0</td></tr><tr><td>762504</td><td>Nope</td><td>Horror-Mystery-Science Fiction-Thriller</td><td>EN</td><td>6.928</td></tr><tr><td>522938</td><td>Rambo: Last Blood</td><td>Action-Thriller-Drama</td><td>EN</td><td>6.518</td></tr><tr><td>846993</td><td>Goodbye, Don Glees!</td><td>Animation-Adventure-Fantasy</td><td>JA</td><td>5.714</td></tr><tr><td>198184</td><td>Chappie</td><td>Crime-Action-Science Fiction</td><td>EN</td><td>6.778</td></tr><tr><td>762975</td><td>Purple Hearts</td><td>Romance-Drama</td><td>EN</td><td>8.233</td></tr><tr><td>130925</td><td>Partysaurus Rex</td><td>Family-Animation-Comedy</td><td>EN</td><td>7.2</td></tr><tr><td>581726</td><td>Infinite</td><td>Science Fiction-Action-Thriller</td><td>EN</td><td>6.649</td></tr><tr><td>830784</td><td>Lyle, Lyle, Crocodile</td><td>Comedy-Family-Music</td><td>EN</td><td>7.3</td></tr><tr><td>497698</td><td>Black Widow</td><td>Action-Adventure-Science Fiction</td><td>EN</td><td>7.32</td></tr><tr><td>9902</td><td>Wrong Turn</td><td>Horror-Thriller</td><td>EN</td><td>6.341</td></tr><tr><td>886912</td><td>Counting Sheep</td><td>Comedy-Crime</td><td>ES</td><td>7.0</td></tr><tr><td>807862</td><td>Peter von Kant</td><td>Drama-Romance</td><td>FR</td><td>5.583</td></tr><tr><td>496276</td><td>Jurassic Park: Island Survival</td><td>Adventure-Action</td><td>EN</td><td>0.0</td></tr><tr><td>49530</td><td>In Time</td><td>Action-Thriller-Science Fiction</td><td>EN</td><td>6.95</td></tr><tr><td>209112</td><td>Batman v Superman: Dawn of Justice</td><td>Action-Adventure-Fantasy</td><td>EN</td><td>5.951</td></tr><tr><td>950044</td><td>Wakanda</td><td>Music</td><td>FR</td><td>8.0</td></tr><tr><td>122</td><td>The Lord of the Rings: The Return of the King</td><td>Adventure-Fantasy-Action</td><td>EN</td><td>8.5</td></tr><tr><td>372058</td><td>Your Name.</td><td>Romance-Animation-Drama</td><td>JA</td><td>8.519</td></tr><tr><td>10020</td><td>Beauty and the Beast</td><td>Romance-Family-Animation-Fantasy</td><td>EN</td><td>7.732</td></tr><tr><td>795514</td><td>The Fallout</td><td>Drama</td><td>EN</td><td>7.703</td></tr><tr><td>23823</td><td>Wrong Turn 3: Left for Dead</td><td>Horror-Thriller</td><td>EN</td><td>5.6</td></tr><tr><td>49051</td><td>The Hobbit: An Unexpected Journey</td><td>Adventure-Fantasy-Action</td><td>EN</td><td>7.323</td></tr><tr><td>454626</td><td>Sonic the Hedgehog</td><td>Action-Science Fiction-Comedy-Family</td><td>EN</td><td>7.352</td></tr><tr><td>413518</td><td>Pinocchio</td><td>Drama-Family-Fantasy</td><td>IT</td><td>6.6</td></tr><tr><td>439079</td><td>The Nun</td><td>Horror-Mystery-Thriller</td><td>EN</td><td>5.9</td></tr><tr><td>9637</td><td>Scooby-Doo</td><td>Mystery-Adventure-Comedy</td><td>EN</td><td>6.05</td></tr><tr><td>550</td><td>Fight Club</td><td>Drama-Thriller-Comedy</td><td>EN</td><td>8.431</td></tr><tr><td>346364</td><td>It</td><td>Horror-Fantasy</td><td>EN</td><td>7.236</td></tr><tr><td>82702</td><td>How to Train Your Dragon 2</td><td>Fantasy-Action-Adventure-Animation-Comedy-Family</td><td>EN</td><td>7.7</td></tr><tr><td>335797</td><td>Sing</td><td>Animation-Comedy-Family-Music</td><td>EN</td><td>7.115</td></tr><tr><td>779112</td><td>BTS World Tour 'Love Yourself - Speak Yourself' London</td><td>Music</td><td>EN</td><td>8.8</td></tr><tr><td>207703</td><td>Kingsman: The Secret Service</td><td>Crime-Comedy-Action-Adventure</td><td>EN</td><td>7.637</td></tr><tr><td>522518</td><td>A Dog's Journey</td><td>Family-Adventure-Drama</td><td>EN</td><td>8.0</td></tr><tr><td>47971</td><td>xXx: Return of Xander Cage</td><td>Action-Adventure-Crime</td><td>EN</td><td>6.131</td></tr><tr><td>345938</td><td>The Shack</td><td>Drama-Fantasy</td><td>EN</td><td>7.5</td></tr><tr><td>399566</td><td>Godzilla vs. Kong</td><td>Action-Fantasy-Science Fiction</td><td>EN</td><td>7.676</td></tr><tr><td>299054</td><td>Expend4bles</td><td>Action-Adventure-Thriller</td><td>EN</td><td>9.5</td></tr><tr><td>4234</td><td>Scream 3</td><td>Horror-Mystery</td><td>EN</td><td>5.964</td></tr><tr><td>12153</td><td>White Chicks</td><td>Comedy-Crime</td><td>EN</td><td>6.915</td></tr><tr><td>271110</td><td>Captain America: Civil War</td><td>Adventure-Action-Science Fiction</td><td>EN</td><td>7.443</td></tr><tr><td>934601</td><td>Jethica</td><td>Comedy-Drama-Fantasy-Horror</td><td>EN</td><td>5.0</td></tr><tr><td>676845</td><td>Come Play With Me</td><td>Horror</td><td>ES</td><td>6.9</td></tr><tr><td>270946</td><td>Penguins of Madagascar</td><td>Family-Animation-Adventure-Comedy</td><td>EN</td><td>6.514</td></tr><tr><td>27205</td><td>Inception</td><td>Action-Science Fiction-Adventure</td><td>EN</td><td>8.361</td></tr><tr><td>400160</td><td>The SpongeBob Movie: Sponge on the Run</td><td>Family-Animation-Fantasy-Adventure-Comedy</td><td>EN</td><td>7.545</td></tr><tr><td>38700</td><td>Bad Boys for Life</td><td>Thriller-Action-Crime</td><td>EN</td><td>7.2</td></tr><tr><td>38365</td><td>Grown Ups</td><td>Comedy</td><td>EN</td><td>6.352</td></tr><tr><td>7555</td><td>Rambo</td><td>Action-Thriller</td><td>EN</td><td>6.6</td></tr><tr><td>848791</td><td>The Stranger</td><td>Crime-Drama-Mystery-Thriller</td><td>EN</td><td>6.184</td></tr><tr><td>926980</td><td>The Privilege</td><td>Horror</td><td>DE</td><td>5.105</td></tr><tr><td>497</td><td>The Green Mile</td><td>Fantasy-Drama-Crime</td><td>EN</td><td>8.507</td></tr><tr><td>778552</td><td>The Penitent Thief</td><td>Drama</td><td>EN</td><td>6.158</td></tr><tr><td>842675</td><td>The Wandering Earth II</td><td>Science Fiction-Action-Drama</td><td>ZH</td><td>7.7</td></tr><tr><td>1374</td><td>Rocky IV</td><td>Drama</td><td>EN</td><td>7.067</td></tr><tr><td>39108</td><td>Dragon Ball Z: Wrath of the Dragon</td><td>Animation-Action-Science Fiction</td><td>JA</td><td>7.2</td></tr><tr><td>18240</td><td>The Proposal</td><td>Comedy-Romance-Drama</td><td>EN</td><td>7.1</td></tr><tr><td>696157</td><td>Whitney Houston: I Wanna Dance with Somebody</td><td>Music-History-Drama</td><td>EN</td><td>7.0</td></tr><tr><td>481848</td><td>The Call of the Wild</td><td>Adventure-Family-Drama</td><td>EN</td><td>7.6</td></tr><tr><td>257344</td><td>Pixels</td><td>Action-Comedy-Science Fiction</td><td>EN</td><td>5.705</td></tr><tr><td>929170</td><td>Honor Society</td><td>Comedy</td><td>EN</td><td>7.9</td></tr><tr><td>685833</td><td>What Happened at the Carpenter's Shop</td><td>Romance</td><td>KO</td><td>4.3</td></tr><tr><td>49026</td><td>The Dark Knight Rises</td><td>Action-Crime-Drama-Thriller</td><td>EN</td><td>7.774</td></tr><tr><td>871875</td><td>Escape the Undertaker</td><td>Horror-Mystery-Family</td><td>EN</td><td>5.3</td></tr><tr><td>522402</td><td>Finch</td><td>Science Fiction-Drama-Adventure</td><td>EN</td><td>7.99</td></tr><tr><td>298312</td><td>The Visit</td><td>Mystery-Thriller-Horror</td><td>EN</td><td>6.3</td></tr><tr><td>951368</td><td>Your Boyfriend Is Mine</td><td>Thriller-TV Movie-Action</td><td>EN</td><td>6.6</td></tr><tr><td>38234</td><td>Undisputed III: Redemption</td><td>Action-Thriller</td><td>EN</td><td>7.6</td></tr><tr><td>791348</td><td>Constantine: The House of Mystery</td><td>Animation-Action-Adventure-Horror</td><td>EN</td><td>7.2</td></tr><tr><td>6479</td><td>I Am Legend</td><td>Drama-Science Fiction-Thriller</td><td>EN</td><td>7.194</td></tr><tr><td>539885</td><td>Ava</td><td>Action-Crime-Drama-Adventure-Thriller</td><td>EN</td><td>5.8</td></tr><tr><td>140300</td><td>Kung Fu Panda 3</td><td>Action-Adventure-Animation-Comedy-Family</td><td>EN</td><td>6.861</td></tr><tr><td>721656</td><td>Happy Halloween, Scooby-Doo!</td><td>Family-Animation-Mystery-Comedy</td><td>EN</td><td>7.9</td></tr><tr><td>938008</td><td>The Killer</td><td>Action-Crime</td><td>KO</td><td>7.984</td></tr><tr><td>4233</td><td>Scream 2</td><td>Horror-Mystery</td><td>EN</td><td>6.452</td></tr><tr><td>102651</td><td>Maleficent</td><td>Fantasy-Adventure-Action-Family-Romance</td><td>EN</td><td>7.09</td></tr><tr><td>72545</td><td>Journey 2: The Mysterious Island</td><td>Adventure-Action-Science Fiction</td><td>EN</td><td>6.1</td></tr><tr><td>129</td><td>Spirited Away</td><td>Animation-Family-Fantasy</td><td>JA</td><td>8.541</td></tr><tr><td>953</td><td>Madagascar</td><td>Family-Animation-Adventure-Comedy</td><td>EN</td><td>6.882</td></tr><tr><td>615469</td><td>Spiderhead</td><td>Science Fiction-Thriller</td><td>EN</td><td>5.8</td></tr><tr><td>955644</td><td>Mia and Me: The Hero of Centopia</td><td>Animation-Fantasy-Adventure</td><td>EN</td><td>7.2</td></tr><tr><td>559</td><td>Spider-Man 3</td><td>Fantasy-Action-Adventure</td><td>EN</td><td>6.382</td></tr><tr><td>764835</td><td>The Desperate Hour</td><td>Thriller</td><td>EN</td><td>6.096</td></tr><tr><td>9567</td><td>Tears of the Sun</td><td>War-Action-Drama</td><td>EN</td><td>6.803</td></tr><tr><td>147441</td><td>Exodus: Gods and Kings</td><td>Adventure-Drama-Action</td><td>EN</td><td>5.8</td></tr><tr><td>77877</td><td>The Lucky One</td><td>Drama-Romance</td><td>EN</td><td>7.104</td></tr><tr><td>41446</td><td>Scream 4</td><td>Horror-Mystery</td><td>EN</td><td>6.413</td></tr><tr><td>4248</td><td>Scary Movie 2</td><td>Comedy</td><td>EN</td><td>5.779</td></tr><tr><td>630586</td><td>Wrong Turn</td><td>Horror-Thriller-Drama</td><td>EN</td><td>6.0</td></tr><tr><td>268896</td><td>Pacific Rim: Uprising</td><td>Action-Fantasy-Science Fiction-Adventure</td><td>EN</td><td>6.1</td></tr><tr><td>955991</td><td>The Offering</td><td>Drama-Horror</td><td>EN</td><td>5.701</td></tr><tr><td>75258</td><td>Secret of the Wings</td><td>Animation-Family-Fantasy-Adventure</td><td>EN</td><td>7.164</td></tr><tr><td>150689</td><td>Cinderella</td><td>Romance-Fantasy-Family-Drama</td><td>EN</td><td>6.8</td></tr><tr><td>788905</td><td>A un paso de mí</td><td>Adventure-Comedy-Drama</td><td>ES</td><td>7.0</td></tr><tr><td>495764</td><td>Birds of Prey (and the Fantabulous Emancipation of One Harley Quinn)</td><td>Action-Crime</td><td>EN</td><td>6.981</td></tr><tr><td>9487</td><td>A Bug's Life</td><td>Adventure-Animation-Comedy-Family</td><td>EN</td><td>6.967</td></tr><tr><td>301804</td><td>Before I Wake</td><td>Drama-Fantasy-Horror-Thriller</td><td>EN</td><td>6.446</td></tr><tr><td>121</td><td>The Lord of the Rings: The Two Towers</td><td>Adventure-Fantasy-Action</td><td>EN</td><td>8.384</td></tr><tr><td>49444</td><td>Kung Fu Panda 2</td><td>Animation-Family</td><td>EN</td><td>6.9</td></tr><tr><td>397567</td><td>Along with the Gods: The Two Worlds</td><td>Drama-Fantasy-Action</td><td>KO</td><td>8.1</td></tr><tr><td>545609</td><td>Extraction</td><td>Drama-Action-Thriller</td><td>EN</td><td>7.346</td></tr><tr><td>667216</td><td>Infinity Pool</td><td>Horror-Science Fiction-Thriller</td><td>EN</td><td>6.5</td></tr><tr><td>381288</td><td>Split</td><td>Horror-Thriller</td><td>EN</td><td>7.331</td></tr><tr><td>12</td><td>Finding Nemo</td><td>Animation-Family</td><td>EN</td><td>7.823</td></tr><tr><td>616851</td><td>Untitled 'The Walking Dead' Film</td><td>Adventure-Drama-Horror-Science Fiction</td><td>EN</td><td>0.0</td></tr><tr><td>723072</td><td>Host</td><td>Horror-Thriller-Mystery</td><td>EN</td><td>6.5</td></tr><tr><td>525660</td><td>Dynasty Warriors</td><td>Action-Adventure-Fantasy</td><td>CN</td><td>6.2</td></tr><tr><td>57214</td><td>Project X</td><td>Comedy</td><td>EN</td><td>6.807</td></tr><tr><td>870096</td><td>Restart The Earth</td><td>Science Fiction-Horror-Action</td><td>ZH</td><td>6.9</td></tr><tr><td>760926</td><td>Gold</td><td>Horror-Drama</td><td>EN</td><td>6.256</td></tr><tr><td>732459</td><td>Blade of the 47 Ronin</td><td>Fantasy</td><td>EN</td><td>6.6</td></tr><tr><td>550205</td><td>Wish Dragon</td><td>Animation-Family-Comedy-Fantasy</td><td>EN</td><td>8.003</td></tr><tr><td>280</td><td>Terminator 2: Judgment Day</td><td>Action-Thriller-Science Fiction</td><td>EN</td><td>8.095</td></tr><tr><td>871875</td><td>Escape the Undertaker</td><td>Horror-Mystery-Family</td><td>EN</td><td>5.2</td></tr><tr><td>22894</td><td>Legion</td><td>Horror-Action-Fantasy</td><td>EN</td><td>5.813</td></tr><tr><td>259316</td><td>Fantastic Beasts and Where to Find Them</td><td>Action-Adventure-Fantasy</td><td>EN</td><td>7.341</td></tr><tr><td>605886</td><td>To Catch a Killer</td><td>Action-Crime-Thriller-Mystery</td><td>EN</td><td>7.077</td></tr><tr><td>238636</td><td>The Purge: Anarchy</td><td>Horror-Thriller</td><td>EN</td><td>6.66</td></tr><tr><td>44251</td><td>Dragon Ball Z: Broly – Second Coming</td><td>Animation-Action-Science Fiction</td><td>JA</td><td>6.7</td></tr><tr><td>10607</td><td>Don't Be a Menace to South Central While Drinking Your Juice in the Hood</td><td>Comedy</td><td>EN</td><td>6.976</td></tr><tr><td>476669</td><td>The King's Man</td><td>Action-Adventure-Thriller-War-Mystery</td><td>EN</td><td>6.824</td></tr><tr><td>894205</td><td>Werewolf by Night</td><td>Action-Fantasy-Horror-TV Movie</td><td>EN</td><td>7.1</td></tr><tr><td>840789</td><td>Matadero</td><td>Drama</td><td>ES</td><td>3.0</td></tr><tr><td>803114</td><td>The Requin</td><td>Thriller-Horror</td><td>EN</td><td>5.0</td></tr><tr><td>900667</td><td>One Piece Film Red</td><td>Animation-Adventure-Action-Fantasy</td><td>JA</td><td>7.414</td></tr><tr><td>10191</td><td>How to Train Your Dragon</td><td>Fantasy-Adventure-Animation-Family</td><td>EN</td><td>7.8</td></tr><tr><td>800510</td><td>Kimi</td><td>Thriller</td><td>EN</td><td>6.2</td></tr><tr><td>643215</td><td>Asterix & Obelix: The Middle Kingdom</td><td>Comedy-Adventure-Family</td><td>FR</td><td>4.894</td></tr><tr><td>372519</td><td>The Ten Commandments: The Movie</td><td>Drama</td><td>PT</td><td>7.2</td></tr><tr><td>420821</td><td>Chip 'n Dale: Rescue Rangers</td><td>Animation-Family-Comedy-Adventure-Mystery</td><td>EN</td><td>7.0</td></tr><tr><td>343668</td><td>Kingsman: The Golden Circle</td><td>Action-Adventure-Comedy</td><td>EN</td><td>6.979</td></tr><tr><td>943533</td><td>Stalked by a Prince</td><td>Thriller-TV Movie</td><td>EN</td><td>4.0</td></tr><tr><td>14161</td><td>2012</td><td>Action-Adventure-Science Fiction</td><td>EN</td><td>5.808</td></tr><tr><td>141052</td><td>Justice League</td><td>Action-Adventure-Science Fiction</td><td>EN</td><td>6.101</td></tr><tr><td>823625</td><td>Blacklight</td><td>Action-Thriller</td><td>EN</td><td>6.3</td></tr><tr><td>293167</td><td>Kong: Skull Island</td><td>Action-Adventure-Fantasy</td><td>EN</td><td>6.508</td></tr><tr><td>458576</td><td>Monster Hunter</td><td>Action-Fantasy-Adventure</td><td>EN</td><td>6.7</td></tr><tr><td>606402</td><td>Yaksha: Ruthless Operations</td><td>Action-Adventure-Crime-Thriller</td><td>KO</td><td>6.4</td></tr><tr><td>632727</td><td>Texas Chainsaw Massacre</td><td>Horror-Thriller</td><td>EN</td><td>5.2</td></tr><tr><td>843633</td><td>White Elephant</td><td>Action-Crime-Thriller</td><td>EN</td><td>6.4</td></tr><tr><td>920</td><td>Cars</td><td>Animation-Adventure-Comedy-Family</td><td>EN</td><td>6.9</td></tr><tr><td>260346</td><td>Taken 3</td><td>Thriller-Action</td><td>EN</td><td>6.229</td></tr><tr><td>35</td><td>The Simpsons Movie</td><td>Animation-Comedy-Family</td><td>EN</td><td>6.995</td></tr><tr><td>9023</td><td>Spirit: Stallion of the Cimarron</td><td>Western-Animation-Adventure-Comedy-Family-Drama</td><td>EN</td><td>7.692</td></tr><tr><td>897424</td><td>Dark Cloud</td><td>Science Fiction-Horror-Mystery-Thriller</td><td>EN</td><td>6.5</td></tr><tr><td>109418</td><td>Grown Ups 2</td><td>Comedy</td><td>EN</td><td>6.107</td></tr><tr><td>575249</td><td>Dragon Ball Z: The Real 4-D at Super Tenkaichi Budokai</td><td>Action-Animation-Adventure</td><td>JA</td><td>6.5</td></tr><tr><td>83201</td><td>Puss in Boots: The Three Diablos</td><td>Adventure-Animation-Comedy-Family</td><td>EN</td><td>6.571</td></tr><tr><td>80321</td><td>Madagascar 3: Europe's Most Wanted</td><td>Animation-Family-Comedy-Adventure</td><td>EN</td><td>6.6</td></tr><tr><td>109439</td><td>The Hangover Part III</td><td>Comedy</td><td>EN</td><td>6.213</td></tr><tr><td>555285</td><td>Are You There God? It's Me, Margaret.</td><td>Comedy-Drama</td><td>EN</td><td>7.1</td></tr><tr><td>695568</td><td>Finding Grace</td><td>Drama</td><td>EN</td><td>6.3</td></tr><tr><td>667276</td><td>Legend Quest: The Origin</td><td>Animation-Comedy-Fantasy-Adventure-Family</td><td>ES</td><td>8.3</td></tr><tr><td>298094</td><td>Hidden Desire</td><td>Romance-Drama</td><td>CN</td><td>4.0</td></tr><tr><td>181808</td><td>Star Wars: The Last Jedi</td><td>Adventure-Action-Science Fiction</td><td>EN</td><td>6.842</td></tr><tr><td>39323</td><td>Dragon Ball Z: Bardock - The Father of Goku</td><td>Animation-Action-Science Fiction-Drama-Fantasy</td><td>JA</td><td>7.5</td></tr><tr><td>337401</td><td>Mulan</td><td>Adventure-Fantasy-Drama-Action</td><td>EN</td><td>6.915</td></tr><tr><td>60898</td><td>Erotic Ghost Story</td><td>Fantasy-Drama-Horror</td><td>CN</td><td>5.9</td></tr><tr><td>916605</td><td>The Infernal Machine</td><td>Thriller-Mystery</td><td>EN</td><td>6.5</td></tr><tr><td>193893</td><td>Let's Be Cops</td><td>Comedy</td><td>EN</td><td>6.5</td></tr><tr><td>49521</td><td>Man of Steel</td><td>Action-Adventure-Science Fiction</td><td>EN</td><td>6.608</td></tr><tr><td>10193</td><td>Toy Story 3</td><td>Animation-Family-Comedy</td><td>EN</td><td>7.791</td></tr><tr><td>619778</td><td>Malignant</td><td>Horror-Mystery-Thriller</td><td>EN</td><td>6.865</td></tr><tr><td>301528</td><td>Toy Story 4</td><td>Family-Adventure-Animation-Comedy-Fantasy</td><td>EN</td><td>7.536</td></tr><tr><td>842033</td><td>Ghost Mansion</td><td>Horror</td><td>KO</td><td>7.429</td></tr><tr><td>82675</td><td>Taken 2</td><td>Action-Crime-Thriller</td><td>EN</td><td>6.331</td></tr><tr><td>848526</td><td>Family Game</td><td>Thriller-Drama</td><td>FR</td><td>5.5</td></tr><tr><td>722149</td><td>Luther: The Fallen Sun</td><td>Thriller-Crime-Action-Drama</td><td>EN</td><td>7.129</td></tr><tr><td>263115</td><td>Logan</td><td>Action-Drama-Science Fiction</td><td>EN</td><td>7.815</td></tr><tr><td>806368</td><td>The Son</td><td>Drama</td><td>EN</td><td>6.599</td></tr><tr><td>427641</td><td>Rampage</td><td>Action-Adventure-Science Fiction</td><td>EN</td><td>6.4</td></tr><tr><td>758724</td><td>The Cellar</td><td>Horror-Mystery</td><td>EN</td><td>6.7</td></tr><tr><td>245891</td><td>John Wick</td><td>Action-Thriller</td><td>EN</td><td>7.418</td></tr><tr><td>105</td><td>Back to the Future</td><td>Adventure-Comedy-Science Fiction</td><td>EN</td><td>8.309</td></tr><tr><td>15092</td><td>Crank: High Voltage</td><td>Action-Thriller-Crime</td><td>EN</td><td>6.033</td></tr><tr><td>932430</td><td>Prom Pact</td><td>Romance-Comedy</td><td>EN</td><td>7.379</td></tr><tr><td>3170</td><td>Bambi</td><td>Animation-Drama-Family</td><td>EN</td><td>7.003</td></tr><tr><td>451048</td><td>Jungle Cruise</td><td>Action-Adventure-Fantasy</td><td>EN</td><td>7.442</td></tr><tr><td>43549</td><td>The Experiment</td><td>Thriller-Drama</td><td>EN</td><td>6.4</td></tr><tr><td>8363</td><td>Superbad</td><td>Comedy</td><td>EN</td><td>7.206</td></tr><tr><td>852606</td><td>WWE WrestleMania 39 Sunday</td><td>Action-Family</td><td>EN</td><td>7.2</td></tr><tr><td>18095</td><td>Dragon Ball GT: A Hero's Legacy</td><td>Animation-Family-Fantasy</td><td>JA</td><td>6.746</td></tr><tr><td>378064</td><td>A Silent Voice: The Movie</td><td>Animation-Drama</td><td>JA</td><td>8.4</td></tr><tr><td>848326</td><td>Rebel Moon Part One: A Child of Fire</td><td>Action-Science Fiction-Adventure</td><td>EN</td><td>0.0</td></tr><tr><td>640</td><td>Catch Me If You Can</td><td>Drama-Crime</td><td>EN</td><td>7.966</td></tr><tr><td>892068</td><td>The Kids Are Alright 2</td><td>Comedy-Family</td><td>ES</td><td>7.8</td></tr><tr><td>43552</td><td>Vanishing on 7th Street</td><td>Mystery-Horror-Thriller</td><td>EN</td><td>5.327</td></tr><tr><td>111</td><td>Scarface</td><td>Action-Crime-Drama</td><td>EN</td><td>8.165</td></tr><tr><td>825808</td><td>See for Me</td><td>Thriller</td><td>EN</td><td>6.2</td></tr><tr><td>242</td><td>The Godfather Part III</td><td>Crime-Drama-Thriller</td><td>EN</td><td>7.4</td></tr><tr><td>772071</td><td>Cuando Sea Joven</td><td>Comedy-Fantasy</td><td>ES</td><td>8.834</td></tr><tr><td>809314</td><td>Trigger Point</td><td>Action-Thriller</td><td>EN</td><td>6.4</td></tr><tr><td>680</td><td>Pulp Fiction</td><td>Thriller-Crime</td><td>EN</td><td>8.489</td></tr><tr><td>588108</td><td>Hansan: Rising Dragon</td><td>History-Action-Drama-War</td><td>KO</td><td>7.2</td></tr><tr><td>1359</td><td>American Psycho</td><td>Thriller-Drama-Crime</td><td>EN</td><td>7.39</td></tr><tr><td>512200</td><td>Jumanji: The Next Level</td><td>Adventure-Comedy-Fantasy</td><td>EN</td><td>6.9</td></tr><tr><td>12429</td><td>Ponyo</td><td>Animation-Fantasy-Family</td><td>JA</td><td>7.7</td></tr><tr><td>71672</td><td>Wrong Turn 4: Bloody Beginnings</td><td>Horror-Thriller</td><td>EN</td><td>5.731</td></tr><tr><td>814608</td><td>The Belly of the Sea</td><td>Drama</td><td>ES</td><td>4.0</td></tr><tr><td>934957</td><td>The Darker the Lake</td><td>Crime-Thriller-Mystery</td><td>EN</td><td>5.5</td></tr><tr><td>812</td><td>Aladdin</td><td>Animation-Family-Adventure-Fantasy-Romance</td><td>EN</td><td>7.645</td></tr><tr><td>335983</td><td>Venom</td><td>Science Fiction-Action</td><td>EN</td><td>6.827</td></tr><tr><td>49529</td><td>John Carter</td><td>Action-Adventure-Science Fiction</td><td>EN</td><td>6.3</td></tr><tr><td>571891</td><td>Pokemon the Movie: Mewtwo Strikes Back - Evolution</td><td>Animation-Adventure-Fantasy-Action-Family</td><td>JA</td><td>6.68</td></tr><tr><td>769466</td><td>One Year, One Night</td><td>Drama</td><td>FR</td><td>6.6</td></tr><tr><td>68718</td><td>Django Unchained</td><td>Drama-Western</td><td>EN</td><td>8.161</td></tr><tr><td>1369</td><td>Rambo: First Blood Part II</td><td>Action-Adventure-Thriller-War</td><td>EN</td><td>6.6</td></tr><tr><td>37135</td><td>Tarzan</td><td>Family-Adventure-Animation-Drama</td><td>EN</td><td>7.4</td></tr><tr><td>849177</td><td>Seasons</td><td>Drama-Romance</td><td>TL</td><td>8.5</td></tr><tr><td>45243</td><td>The Hangover Part II</td><td>Comedy</td><td>EN</td><td>6.456</td></tr><tr><td>452607</td><td>Sonic Maskarada</td><td>Family-Animation</td><td>PL</td><td>10.0</td></tr><tr><td>489150</td><td>Young Sister-in-Law 3</td><td>Romance</td><td>KO</td><td>1.0</td></tr><tr><td>62177</td><td>Brave</td><td>Animation-Adventure-Comedy-Family-Action-Fantasy</td><td>EN</td><td>7.006</td></tr><tr><td>862551</td><td>Me Time</td><td>Comedy</td><td>EN</td><td>5.968</td></tr><tr><td>603</td><td>The Matrix</td><td>Action-Science Fiction</td><td>EN</td><td>8.202</td></tr><tr><td>949</td><td>Heat</td><td>Action-Crime-Drama-Thriller</td><td>EN</td><td>7.903</td></tr><tr><td>647250</td><td>The Machine</td><td>Comedy-Action-Crime</td><td>EN</td><td>6.167</td></tr><tr><td>126889</td><td>Alien: Covenant</td><td>Science Fiction-Horror-Mystery</td><td>EN</td><td>6.1</td></tr><tr><td>805320</td><td>Bird Box Barcelona</td><td>Thriller-Horror</td><td>ES</td><td>0.0</td></tr><tr><td>705861</td><td>Hustle</td><td>Drama-Comedy</td><td>EN</td><td>7.823</td></tr><tr><td>887357</td><td>Green Lantern: Beware My Power</td><td>Animation-Action-Science Fiction</td><td>EN</td><td>7.0</td></tr><tr><td>16869</td><td>Inglourious Basterds</td><td>Drama-Thriller-War</td><td>EN</td><td>8.216</td></tr><tr><td>721173</td><td>Good Mother 3</td><td>Romance</td><td>KO</td><td>3.5</td></tr><tr><td>49519</td><td>The Croods</td><td>Animation-Adventure-Family-Fantasy-Comedy-Action</td><td>EN</td><td>6.915</td></tr><tr><td>1734</td><td>The Mummy Returns</td><td>Adventure-Action-Fantasy</td><td>EN</td><td>6.328</td></tr><tr><td>814608</td><td>The Belly of the Sea</td><td>Drama</td><td>ES</td><td>4.0</td></tr><tr><td>9732</td><td>The Lion King II: Simba's Pride</td><td>Family-Adventure-Animation-Action</td><td>EN</td><td>6.9</td></tr><tr><td>404250</td><td>Zatch Bell! 101st Devil</td><td>Comedy-Animation-Adventure-Action</td><td>JA</td><td>7.205</td></tr><tr><td>366799</td><td>Exorcismo Documentado</td><td>Horror</td><td>ES</td><td>7.1</td></tr><tr><td>9806</td><td>The Incredibles</td><td>Action-Adventure-Animation-Family</td><td>EN</td><td>7.7</td></tr><tr><td>554751</td><td>Chief of Chiefs</td><td>Documentary</td><td>ES</td><td>7.6</td></tr><tr><td>177677</td><td>Mission: Impossible - Rogue Nation</td><td>Action-Adventure</td><td>EN</td><td>7.189</td></tr><tr><td>409502</td><td>I'm Not Ashamed</td><td>Drama</td><td>EN</td><td>7.5</td></tr><tr><td>632357</td><td>The Unholy</td><td>Horror-Mystery</td><td>EN</td><td>6.718</td></tr><tr><td>892527</td><td>King</td><td>Adventure-Comedy-Family</td><td>FR</td><td>6.6</td></tr><tr><td>648990</td><td>La Casa</td><td>Horror</td><td>ES</td><td>6.3</td></tr><tr><td>50546</td><td>Just Go with It</td><td>Comedy-Romance</td><td>EN</td><td>6.668</td></tr><tr><td>893338</td><td>Gatlopp: Hell of a Game</td><td>Comedy-Horror</td><td>EN</td><td>5.643</td></tr><tr><td>568091</td><td>Fractured</td><td>Thriller</td><td>EN</td><td>6.716</td></tr><tr><td>421892</td><td>Shrek 5</td><td>Animation-Family-Comedy-Fantasy</td><td>EN</td><td>0.0</td></tr><tr><td>424</td><td>Schindler's List</td><td>Drama-History-War</td><td>EN</td><td>8.572</td></tr><tr><td>85</td><td>Raiders of the Lost Ark</td><td>Adventure-Action</td><td>EN</td><td>7.922</td></tr><tr><td>763285</td><td>Ambulance</td><td>Thriller</td><td>EN</td><td>6.8</td></tr><tr><td>175112</td><td>Tinker Bell and the Pirate Fairy</td><td>Animation-Family</td><td>EN</td><td>6.885</td></tr><tr><td>788905</td><td>A un paso de mí</td><td>Adventure-Comedy-Drama</td><td>ES</td><td>7.0</td></tr><tr><td>118406</td><td>Road to Ninja: Naruto the Movie</td><td>Animation-Fantasy-Action</td><td>JA</td><td>7.6</td></tr><tr><td>532408</td><td>The Boogeyman</td><td>Horror-Mystery</td><td>EN</td><td>6.0</td></tr><tr><td>956</td><td>Mission: Impossible III</td><td>Adventure-Action-Thriller</td><td>EN</td><td>6.707</td></tr><tr><td>10527</td><td>Madagascar: Escape 2 Africa</td><td>Family-Adventure-Animation-Comedy</td><td>EN</td><td>6.471</td></tr><tr><td>4705</td><td>The Sensuous Nurse</td><td>Comedy</td><td>IT</td><td>5.6</td></tr><tr><td>57158</td><td>The Hobbit: The Desolation of Smaug</td><td>Fantasy-Adventure-Action</td><td>EN</td><td>7.569</td></tr><tr><td>20352</td><td>Despicable Me</td><td>Family-Animation-Comedy-Crime</td><td>EN</td><td>7.225</td></tr><tr><td>457332</td><td>Hidden Strike</td><td>Action-Adventure-Thriller</td><td>EN</td><td>0.0</td></tr><tr><td>46195</td><td>Rio</td><td>Animation-Adventure-Comedy-Family</td><td>EN</td><td>6.7</td></tr><tr><td>602223</td><td>The Forever Purge</td><td>Horror-Action-Thriller</td><td>EN</td><td>7.116</td></tr><tr><td>1367</td><td>Rocky II</td><td>Drama</td><td>EN</td><td>7.2</td></tr><tr><td>293863</td><td>The Age of Adaline</td><td>Romance-Fantasy-Drama</td><td>EN</td><td>7.5</td></tr><tr><td>704264</td><td>Primal: Tales of Savagery</td><td>Action-Adventure-Animation-Drama</td><td>EN</td><td>8.383</td></tr><tr><td>805411</td><td>Descendants: The Royal Wedding</td><td>Animation-TV Movie-Comedy-Family-Drama</td><td>EN</td><td>6.9</td></tr><tr><td>773975</td><td>End of the Road</td><td>Thriller-Drama-Crime</td><td>EN</td><td>6.2</td></tr><tr><td>754934</td><td>Son</td><td>Horror-Thriller</td><td>EN</td><td>6.1</td></tr><tr><td>404368</td><td>Ralph Breaks the Internet</td><td>Family-Animation-Comedy-Adventure</td><td>EN</td><td>7.214</td></tr><tr><td>72331</td><td>Abraham Lincoln: Vampire Hunter</td><td>Action-Fantasy-Horror</td><td>EN</td><td>5.675</td></tr><tr><td>546554</td><td>Knives Out</td><td>Comedy-Crime-Mystery</td><td>EN</td><td>7.853</td></tr><tr><td>829920</td><td>Fate/Grand Order Final Singularity – Grand Temple of Time: Solomon</td><td>Animation-Action-Adventure-Fantasy</td><td>JA</td><td>6.9</td></tr><tr><td>843906</td><td>Straight Outta Nowhere: Scooby-Doo! Meets Courage the Cowardly Dog</td><td>Animation-Comedy-Mystery-Family-Fantasy</td><td>EN</td><td>8.0</td></tr><tr><td>835739</td><td>Super Monsters: Once Upon a Rhyme</td><td>Animation</td><td>EN</td><td>6.3</td></tr><tr><td>297762</td><td>Wonder Woman</td><td>Action-Adventure-Fantasy</td><td>EN</td><td>7.24</td></tr><tr><td>307081</td><td>Southpaw</td><td>Action-Drama</td><td>EN</td><td>7.356</td></tr><tr><td>72105</td><td>Ted</td><td>Comedy-Fantasy</td><td>EN</td><td>6.392</td></tr><tr><td>13179</td><td>Tinker Bell</td><td>Animation-Family-Adventure-Fantasy</td><td>EN</td><td>6.8</td></tr><tr><td>423204</td><td>Angel Has Fallen</td><td>Action-Thriller</td><td>EN</td><td>6.536</td></tr><tr><td>800741</td><td>She's the One</td><td>Comedy-Romance-Fantasy</td><td>IT</td><td>6.0</td></tr><tr><td>106</td><td>Predator</td><td>Science Fiction-Action-Adventure-Thriller</td><td>EN</td><td>7.492</td></tr><tr><td>185665</td><td>Secretary Rope Discipline</td><td>Drama</td><td>JA</td><td>1.5</td></tr><tr><td>14199</td><td>The Adventures of Sharkboy and Lavagirl</td><td>Adventure-Family-Science Fiction</td><td>EN</td><td>5.128</td></tr><tr><td>926899</td><td>The House</td><td>Animation-Drama-Comedy-Horror-Fantasy</td><td>EN</td><td>7.1</td></tr><tr><td>412117</td><td>The Secret Life of Pets 2</td><td>Adventure-Animation-Comedy-Family</td><td>EN</td><td>7.0</td></tr><tr><td>864370</td><td>Incantation</td><td>Horror</td><td>ZH</td><td>6.921</td></tr><tr><td>140607</td><td>Star Wars: The Force Awakens</td><td>Adventure-Action-Science Fiction-Fantasy</td><td>EN</td><td>7.303</td></tr><tr><td>61791</td><td>Rise of the Planet of the Apes</td><td>Thriller-Action-Drama-Science Fiction</td><td>EN</td><td>7.3</td></tr><tr><td>452073</td><td>Young Sister-In-Law 2</td><td>Romance</td><td>KO</td><td>5.3</td></tr><tr><td>886755</td><td>The Substitute</td><td>Drama-Crime</td><td>ES</td><td>6.6</td></tr><tr><td>481084</td><td>The Addams Family</td><td>Family-Animation-Comedy-Fantasy-Horror</td><td>EN</td><td>6.6</td></tr><tr><td>210577</td><td>Gone Girl</td><td>Mystery-Thriller-Drama</td><td>EN</td><td>7.892</td></tr><tr><td>57800</td><td>Ice Age: Continental Drift</td><td>Animation-Comedy-Adventure-Family</td><td>EN</td><td>6.3</td></tr><tr><td>112355</td><td>What the Peeper Saw</td><td>Horror-Drama-Thriller</td><td>IT</td><td>5.9</td></tr><tr><td>568620</td><td>Snake Eyes: G.I. Joe Origins</td><td>Action-Adventure</td><td>EN</td><td>6.6</td></tr><tr><td>662708</td><td>Pokémon the Movie: Secrets of the Jungle</td><td>Animation-Adventure-Family-Science Fiction-Action-Fantasy</td><td>JA</td><td>7.034</td></tr><tr><td>77338</td><td>The Intouchables</td><td>Drama-Comedy</td><td>FR</td><td>8.275</td></tr><tr><td>506574</td><td>Descendants 3</td><td>Family-TV Movie-Music-Adventure-Fantasy</td><td>EN</td><td>7.785</td></tr><tr><td>643274</td><td>Beauty Salon: Special Service 3</td><td>Romance</td><td>KO</td><td>6.7</td></tr><tr><td>240</td><td>The Godfather Part II</td><td>Drama-Crime</td><td>EN</td><td>8.598</td></tr><tr><td>396535</td><td>Train to Busan</td><td>Horror-Thriller-Adventure-Action</td><td>KO</td><td>7.761</td></tr><tr><td>9479</td><td>The Nightmare Before Christmas</td><td>Fantasy-Animation-Family</td><td>EN</td><td>7.839</td></tr><tr><td>11351</td><td>Jeepers Creepers 2</td><td>Horror</td><td>EN</td><td>6.1</td></tr><tr><td>15165</td><td>Barbie as The Princess & the Pauper</td><td>Animation-Family-Comedy</td><td>EN</td><td>7.5</td></tr><tr><td>637</td><td>Life Is Beautiful</td><td>Comedy-Drama</td><td>IT</td><td>8.456</td></tr><tr><td>890656</td><td>Fistful of Vengeance</td><td>Action-Fantasy</td><td>EN</td><td>5.623</td></tr><tr><td>720026</td><td>Butchers</td><td>Horror</td><td>EN</td><td>4.977</td></tr><tr><td>850871</td><td>Sayen</td><td>Thriller-Action</td><td>ES</td><td>6.375</td></tr><tr><td>718867</td><td>The Larva Island Movie</td><td>Animation-Family</td><td>EN</td><td>7.2</td></tr><tr><td>527641</td><td>Five Feet Apart</td><td>Romance-Drama</td><td>EN</td><td>8.302</td></tr><tr><td>801335</td><td>Girl in the Basement</td><td>Crime-Thriller-TV Movie</td><td>EN</td><td>7.823</td></tr><tr><td>22832</td><td>Ninja Assassin</td><td>Action-Thriller</td><td>EN</td><td>6.53</td></tr><tr><td>425909</td><td>Ghostbusters: Afterlife</td><td>Fantasy-Comedy-Adventure</td><td>EN</td><td>7.503</td></tr><tr><td>595172</td><td>The Pilgrim's Progress</td><td>Animation-Adventure</td><td>EN</td><td>7.7</td></tr><tr><td>259694</td><td>How to Be Single</td><td>Comedy-Romance</td><td>EN</td><td>6.2</td></tr><tr><td>698320</td><td>The Mad Hatter</td><td>Horror-Thriller</td><td>EN</td><td>5.8</td></tr><tr><td>611812</td><td>Delicious Room Salon Service</td><td>Romance</td><td>KO</td><td>6.0</td></tr><tr><td>791333</td><td>Four's a Crowd</td><td>Comedy</td><td>ES</td><td>4.0</td></tr><tr><td>714339</td><td>On the Fringe</td><td>Drama</td><td>ES</td><td>7.2</td></tr><tr><td>705996</td><td>Decision to Leave</td><td>Thriller-Crime-Mystery-Drama-Romance</td><td>KO</td><td>7.412</td></tr><tr><td>558144</td><td>Deadpool: No Good Deed</td><td>Action-Comedy-Crime</td><td>EN</td><td>7.2</td></tr><tr><td>481880</td><td>Trial by Fire</td><td>Drama-Crime</td><td>EN</td><td>6.8</td></tr><tr><td>260513</td><td>Incredibles 2</td><td>Action-Adventure-Animation-Family</td><td>EN</td><td>7.491</td></tr><tr><td>81774</td><td>Exploits of a Young Don Juan</td><td>Comedy-Drama</td><td>FR</td><td>5.7</td></tr><tr><td>489430</td><td>Terrified</td><td>Horror</td><td>ES</td><td>6.6</td></tr><tr><td>109428</td><td>Evil Dead</td><td>Horror</td><td>EN</td><td>6.5</td></tr><tr><td>559800</td><td>Dragon Ball Z: The Real 4-D</td><td>Adventure-Animation-Comedy</td><td>JA</td><td>7.7</td></tr><tr><td>587807</td><td>Tom & Jerry</td><td>Comedy-Family-Animation</td><td>EN</td><td>6.9</td></tr><tr><td>2758</td><td>Addams Family Values</td><td>Comedy-Family-Fantasy</td><td>EN</td><td>6.9</td></tr><tr><td>698320</td><td>The Mad Hatter</td><td>Horror-Thriller</td><td>EN</td><td>5.8</td></tr><tr><td>576925</td><td>My Sweet Monster</td><td>Animation-Adventure-Family</td><td>RU</td><td>6.5</td></tr><tr><td>846094</td><td>The Womb</td><td>Drama-Horror-Mystery</td><td>ID</td><td>6.9</td></tr><tr><td>894169</td><td>Vendetta</td><td>Action</td><td>EN</td><td>6.2</td></tr><tr><td>561</td><td>Constantine</td><td>Fantasy-Action-Horror</td><td>EN</td><td>7.0</td></tr><tr><td>913205</td><td>Teen Titans Go! & DC Super Hero Girls: Mayhem in the Multiverse</td><td>Animation-Action-Comedy</td><td>EN</td><td>6.9</td></tr><tr><td>10009</td><td>Brother Bear</td><td>Adventure-Animation-Family</td><td>EN</td><td>7.254</td></tr><tr><td>299963</td><td>Dragon Ball Z: Gather Together! Goku's World</td><td>Action-Animation-Adventure</td><td>JA</td><td>7.2</td></tr><tr><td>62211</td><td>Monsters University</td><td>Animation-Family</td><td>EN</td><td>7.0</td></tr><tr><td>628878</td><td>Panama</td><td>Thriller</td><td>EN</td><td>5.4</td></tr><tr><td>760099</td><td>Living</td><td>Drama</td><td>EN</td><td>7.118</td></tr><tr><td>128785</td><td>Calendar Girl, Cop, Killer? The Bambi Bembenek Story</td><td>null</td><td>EN</td><td>2.0</td></tr><tr><td>24752</td><td>Dragon Ball Z: Cooler's Revenge</td><td>Action-Animation-Science Fiction</td><td>JA</td><td>6.9</td></tr><tr><td>296099</td><td>Vacation</td><td>Comedy</td><td>EN</td><td>6.3</td></tr><tr><td>11249</td><td>Seed of Chucky</td><td>Comedy-Horror-Thriller</td><td>EN</td><td>5.423</td></tr><tr><td>10681</td><td>WALL·E</td><td>Animation-Family-Science Fiction</td><td>EN</td><td>8.075</td></tr><tr><td>373571</td><td>Godzilla: King of the Monsters</td><td>Science Fiction-Action</td><td>EN</td><td>6.667</td></tr><tr><td>630004</td><td>The Vault</td><td>Crime-Action-Thriller</td><td>EN</td><td>6.9</td></tr><tr><td>346672</td><td>Underworld: Blood Wars</td><td>Fantasy-Action-Thriller-Horror</td><td>EN</td><td>5.8</td></tr><tr><td>11036</td><td>The Notebook</td><td>Romance-Drama</td><td>EN</td><td>7.9</td></tr><tr><td>489</td><td>Good Will Hunting</td><td>Drama</td><td>EN</td><td>8.146</td></tr><tr><td>821881</td><td>The Swimmers</td><td>Drama-History</td><td>EN</td><td>7.536</td></tr><tr><td>629015</td><td>Shut In</td><td>Thriller-Horror-Drama</td><td>EN</td><td>7.1</td></tr><tr><td>9325</td><td>The Jungle Book</td><td>Family-Animation-Adventure</td><td>EN</td><td>7.282</td></tr><tr><td>855</td><td>Black Hawk Down</td><td>Action-History-War</td><td>EN</td><td>7.369</td></tr><tr><td>189349</td><td>Chunin Exam on Fire! and Naruto vs. Konohamaru!</td><td>Animation-Action</td><td>JA</td><td>6.9</td></tr><tr><td>959112</td><td>Neige</td><td>Crime-Thriller-TV Movie</td><td>FR</td><td>5.625</td></tr><tr><td>741074</td><td>Once Upon a Snowman</td><td>Animation-Family-Comedy-Fantasy</td><td>EN</td><td>6.9</td></tr><tr><td>679</td><td>Aliens</td><td>Action-Thriller-Science Fiction</td><td>EN</td><td>7.9</td></tr><tr><td>823766</td><td>The Wonder</td><td>Drama-Mystery</td><td>EN</td><td>6.661</td></tr><tr><td>8922</td><td>Jeepers Creepers</td><td>Horror-Thriller</td><td>EN</td><td>6.444</td></tr><tr><td>496243</td><td>Parasite</td><td>Comedy-Thriller-Drama</td><td>KO</td><td>8.5</td></tr><tr><td>1579</td><td>Apocalypto</td><td>Action-Drama-History</td><td>EN</td><td>7.548</td></tr><tr><td>785985</td><td>The Takedown</td><td>Comedy-Action</td><td>FR</td><td>6.1</td></tr><tr><td>44912</td><td>Green Lantern</td><td>Adventure-Action-Thriller-Science Fiction</td><td>EN</td><td>5.2</td></tr><tr><td>78049</td><td>The Scorpion King 3: Battle for Redemption</td><td>Action-Adventure-Fantasy-Drama</td><td>EN</td><td>4.546</td></tr><tr><td>4256</td><td>Scary Movie 3</td><td>Comedy</td><td>EN</td><td>5.986</td></tr><tr><td>764</td><td>The Evil Dead</td><td>Horror</td><td>EN</td><td>7.304</td></tr><tr><td>672322</td><td>Rurouni Kenshin: The Beginning</td><td>Action-Adventure-Drama</td><td>JA</td><td>7.688</td></tr><tr><td>1724</td><td>The Incredible Hulk</td><td>Science Fiction-Action-Adventure</td><td>EN</td><td>6.204</td></tr><tr><td>771709</td><td>Cuando te veo palpito</td><td>null</td><td>ES</td><td>5.0</td></tr><tr><td>39103</td><td>Dragon Ball Z: The Return of Cooler</td><td>Action-Animation-Science Fiction</td><td>JA</td><td>6.623</td></tr><tr><td>18823</td><td>Clash of the Titans</td><td>Adventure-Fantasy-Action</td><td>EN</td><td>5.9</td></tr><tr><td>950</td><td>Ice Age: The Meltdown</td><td>Animation-Family-Comedy-Adventure</td><td>EN</td><td>6.7</td></tr><tr><td>232672</td><td>Blended</td><td>Comedy</td><td>EN</td><td>6.853</td></tr><tr><td>714888</td><td>Argentina, 1985</td><td>Drama-History</td><td>ES</td><td>8.073</td></tr><tr><td>521029</td><td>Annabelle Comes Home</td><td>Horror-Mystery-Thriller</td><td>EN</td><td>6.433</td></tr><tr><td>300671</td><td>13 Hours: The Secret Soldiers of Benghazi</td><td>War-Action-History-Drama</td><td>EN</td><td>7.3</td></tr><tr><td>400928</td><td>Gifted</td><td>Drama-Comedy</td><td>EN</td><td>8.0</td></tr><tr><td>589082</td><td>Twilight</td><td>Animation-Drama</td><td>JA</td><td>6.5</td></tr><tr><td>893246</td><td>El tiempo del no tiempo</td><td>Documentary</td><td>ES</td><td>2.0</td></tr><tr><td>8960</td><td>Hancock</td><td>Fantasy-Action</td><td>EN</td><td>6.343</td></tr><tr><td>290098</td><td>The Handmaiden</td><td>Thriller-Drama-Romance</td><td>KO</td><td>8.245</td></tr><tr><td>172385</td><td>Rio 2</td><td>Adventure-Animation-Comedy-Family</td><td>EN</td><td>6.5</td></tr><tr><td>619730</td><td>Don't Worry Darling</td><td>Thriller-Mystery-Science Fiction</td><td>EN</td><td>6.858</td></tr><tr><td>332562</td><td>A Star Is Born</td><td>Music-Drama-Romance</td><td>EN</td><td>7.505</td></tr><tr><td>9552</td><td>The Exorcist</td><td>Horror</td><td>EN</td><td>7.7</td></tr><tr><td>391757</td><td>Never Back Down: No Surrender</td><td>Drama-Action</td><td>EN</td><td>7.0</td></tr><tr><td>638134</td><td>Pets United</td><td>Animation-Family-Adventure-Comedy</td><td>EN</td><td>5.9</td></tr><tr><td>619803</td><td>The Roundup</td><td>Action-Crime</td><td>KO</td><td>7.2</td></tr><tr><td>71676</td><td>Ghost Rider: Spirit of Vengeance</td><td>Action-Fantasy-Thriller</td><td>EN</td><td>5.007</td></tr><tr><td>783675</td><td>The First Slam Dunk</td><td>Animation-Comedy-Drama</td><td>JA</td><td>8.106</td></tr><tr><td>518068</td><td>Along with the Gods: The Last 49 Days</td><td>Fantasy-Action-Adventure</td><td>KO</td><td>8.226</td></tr><tr><td>6844</td><td>The Ten Commandments</td><td>Drama-History</td><td>EN</td><td>7.7</td></tr><tr><td>893941</td><td>Misfit</td><td>Comedy-Romance</td><td>ES</td><td>8.1</td></tr><tr><td>554596</td><td>No Manches Frida 2</td><td>Comedy</td><td>ES</td><td>8.0</td></tr><tr><td>60304</td><td>Hansel & Gretel: Witch Hunters</td><td>Fantasy-Horror-Action</td><td>EN</td><td>6.014</td></tr><tr><td>345940</td><td>The Meg</td><td>Action-Science Fiction-Horror</td><td>EN</td><td>6.211</td></tr><tr><td>8355</td><td>Ice Age: Dawn of the Dinosaurs</td><td>Animation-Comedy-Family-Adventure</td><td>EN</td><td>6.735</td></tr><tr><td>296271</td><td>The Devil Conspiracy</td><td>Horror-Thriller</td><td>EN</td><td>6.5</td></tr><tr><td>843380</td><td>Dead for a Dollar</td><td>Western-Thriller</td><td>EN</td><td>5.7</td></tr><tr><td>21208</td><td>Orphan</td><td>Horror-Thriller-Mystery</td><td>EN</td><td>6.994</td></tr><tr><td>11430</td><td>The Lion King 1½</td><td>Family-Animation-Comedy-Action</td><td>EN</td><td>6.6</td></tr><tr><td>1265</td><td>Bridge to Terabithia</td><td>Adventure-Drama-Family</td><td>EN</td><td>7.28</td></tr><tr><td>788905</td><td>A un paso de mí</td><td>Adventure-Comedy-Drama</td><td>ES</td><td>7.0</td></tr></tbody></table></div>"
      ]
     },
     "metadata": {
      "application/vnd.databricks.v1+output": {
       "addedWidgets": {},
       "aggData": [],
       "aggError": "",
       "aggOverflow": false,
       "aggSchema": [],
       "aggSeriesLimitReached": false,
       "aggType": "",
       "arguments": {},
       "columnCustomDisplayInfos": {},
       "data": [
        [
         615656,
         "Meg 2: The Trench",
         "Action-Science Fiction-Horror",
         "EN",
         7.079
        ],
        [
         758323,
         "The Pope's Exorcist",
         "Horror-Mystery-Thriller",
         "EN",
         7.433
        ],
        [
         667538,
         "Transformers: Rise of the Beasts",
         "Action-Adventure-Science Fiction",
         "EN",
         7.34
        ],
        [
         640146,
         "Ant-Man and the Wasp: Quantumania",
         "Action-Adventure-Science Fiction",
         "EN",
         6.507
        ],
        [
         677179,
         "Creed III",
         "Drama-Action",
         "EN",
         7.262
        ],
        [
         385687,
         "Fast X",
         "Action-Crime-Thriller",
         "EN",
         7.275
        ],
        [
         614479,
         "Insidious: The Red Door",
         "Horror-Mystery-Thriller",
         "EN",
         6.75
        ],
        [
         346698,
         "Barbie",
         "Comedy-Adventure-Fantasy",
         "EN",
         7.495
        ],
        [
         298618,
         "The Flash",
         "Action-Adventure-Science Fiction",
         "EN",
         6.947
        ],
        [
         646389,
         "Plane",
         "Action-Adventure-Thriller",
         "EN",
         6.901
        ],
        [
         569094,
         "Spider-Man: Across the Spider-Verse",
         "Action-Adventure-Animation-Science Fiction",
         "EN",
         8.64
        ],
        [
         934433,
         "Scream VI",
         "Horror-Mystery-Thriller",
         "EN",
         7.4
        ],
        [
         956101,
         "The Eighth Clause",
         "Thriller",
         "LA",
         4.6
        ],
        [
         447277,
         "The Little Mermaid",
         "Adventure-Family-Fantasy-Romance",
         "EN",
         5.957
        ],
        [
         594767,
         "Shazam! Fury of the Gods",
         "Action-Comedy-Fantasy-Adventure",
         "EN",
         6.781
        ],
        [
         455476,
         "Knights of the Zodiac",
         "Fantasy-Action-Adventure",
         "EN",
         6.561
        ],
        [
         968051,
         "The Nun II",
         "Horror-Mystery-Thriller",
         "EN",
         7.046
        ],
        [
         965839,
         "Lord of the Streets",
         "Action",
         "EN",
         4.9
        ],
        [
         772515,
         "Huesera: The Bone Woman",
         "Drama-Horror-Mystery",
         "ES",
         6.58
        ],
        [
         619930,
         "Narvik",
         "War-Drama-History-Action",
         "NO",
         7.0
        ],
        [
         868759,
         "Ghosted",
         "Romance-Action-Comedy",
         "EN",
         7.272
        ],
        [
         823999,
         "Diabolik - Ginko all'attacco!",
         "Crime-Action",
         "IT",
         5.7
        ],
        [
         697843,
         "Extraction 2",
         "Action-Thriller",
         "EN",
         7.616
        ],
        [
         758009,
         "Shotgun Wedding",
         "Action-Romance-Comedy",
         "EN",
         6.334
        ],
        [
         575264,
         "Mission: Impossible - Dead Reckoning Part One",
         "Action-Adventure-Thriller",
         "EN",
         8.012
        ],
        [
         447365,
         "Guardians of the Galaxy Vol. 3",
         "Action-Science Fiction-Adventure",
         "EN",
         8.053
        ],
        [
         842544,
         "Transfusion",
         "Crime-Thriller-Drama",
         "EN",
         6.602
        ],
        [
         420808,
         "Peter Pan & Wendy",
         "Family-Fantasy-Action-Adventure",
         "EN",
         5.826
        ],
        [
         315162,
         "Puss in Boots: The Last Wish",
         "Animation-Family-Fantasy-Adventure-Comedy",
         "EN",
         8.284
        ],
        [
         267805,
         "There Are No Saints",
         "Action",
         "EN",
         5.6
        ],
        [
         635910,
         "The Last Voyage of the Demeter",
         "Horror-Fantasy",
         "EN",
         7.33
        ],
        [
         882569,
         "Guy Ritchie's The Covenant",
         "War-Action-Thriller",
         "EN",
         7.662
        ],
        [
         892070,
         "Padre no hay más que uno 3",
         "Comedy-Family",
         "ES",
         8.5
        ],
        [
         770509,
         "The Nights Belong to Monsters",
         "Fantasy-Drama",
         "ES",
         2.0
        ],
        [
         614930,
         "Teenage Mutant Ninja Turtles: Mutant Mayhem",
         "Animation-Comedy-Action",
         "EN",
         7.248
        ],
        [
         565770,
         "Blue Beetle",
         "Action-Science Fiction",
         "EN",
         7.464
        ],
        [
         843794,
         "JUNG_E",
         "Science Fiction-Action-Adventure",
         "KO",
         6.301
        ],
        [
         840326,
         "Sisu",
         "Action-War",
         "FI",
         7.428
        ],
        [
         603692,
         "John Wick: Chapter 4",
         "Action-Thriller-Crime",
         "EN",
         7.827
        ],
        [
         862553,
         "Bar Fight",
         "Comedy",
         "EN",
         7.3
        ],
        [
         502356,
         "The Super Mario Bros. Movie",
         "Animation-Family-Adventure-Fantasy-Comedy",
         "EN",
         7.795
        ],
        [
         713704,
         "Evil Dead Rise",
         "Thriller-Horror",
         "EN",
         7.038
        ],
        [
         872585,
         "Oppenheimer",
         "Drama-History",
         "EN",
         8.3
        ],
        [
         941520,
         "Alien Sniperess",
         "Action-Science Fiction-Fantasy",
         "EN",
         3.9
        ],
        [
         845885,
         "Dark Blood",
         "Crime-Drama",
         "EN",
         4.9
        ],
        [
         852096,
         "We Have a Ghost",
         "Fantasy-Family-Comedy-Adventure",
         "EN",
         6.587
        ],
        [
         668482,
         "Roald Dahl's Matilda the Musical",
         "Family-Comedy-Fantasy",
         "EN",
         6.917
        ],
        [
         587092,
         "Unicorn Wars",
         "Action-Animation-Comedy-Fantasy-Horror-War",
         "ES",
         6.4
        ],
        [
         736526,
         "Troll",
         "Fantasy-Action-Adventure-Thriller",
         "NO",
         6.736
        ],
        [
         676547,
         "Prey for the Devil",
         "Horror-Thriller",
         "EN",
         7.209
        ],
        [
         838484,
         "Choose or Die",
         "Horror-Thriller-Science Fiction",
         "EN",
         5.371
        ],
        [
         931954,
         "Venus",
         "Drama-Horror-Thriller",
         "ES",
         5.602
        ],
        [
         746524,
         "Blood",
         "Thriller-Horror",
         "EN",
         5.9
        ],
        [
         663210,
         "Lecciones para canallas",
         "Comedy-Crime",
         "ES",
         4.375
        ],
        [
         287003,
         "Avatar: Scene Deconstruction",
         "Documentary",
         "EN",
         7.8
        ],
        [
         283995,
         "Guardians of the Galaxy Vol. 2",
         "Adventure-Action-Science Fiction",
         "EN",
         7.623
        ],
        [
         812225,
         "Black Clover: Sword of the Wizard King",
         "Animation-Fantasy-Action-Adventure",
         "JA",
         8.428
        ],
        [
         788752,
         "Viking Wolf",
         "Horror-Thriller-Mystery",
         "NO",
         5.686
        ],
        [
         800815,
         "The Pale Blue Eye",
         "Mystery-Crime-Horror",
         "EN",
         7.005
        ],
        [
         947938,
         "Dolphin Boy",
         "Animation-Adventure-Fantasy-Comedy",
         "RU",
         6.2
        ],
        [
         635302,
         "Demon Slayer -Kimetsu no Yaiba- The Movie: Mugen Train",
         "Animation-Action-Adventure-Fantasy-Thriller",
         "JA",
         8.281
        ],
        [
         943221,
         "Evil Eye",
         "Horror",
         "ES",
         6.8
        ],
        [
         700391,
         "65",
         "Science Fiction-Adventure-Thriller",
         "EN",
         6.229
        ],
        [
         599019,
         "Big Trip 2: Special Delivery",
         "Animation-Family-Adventure-Comedy",
         "RU",
         6.556
        ],
        [
         661374,
         "Glass Onion: A Knives Out Mystery",
         "Comedy-Crime-Mystery",
         "EN",
         7.095
        ],
        [
         842942,
         "Bandit",
         "Crime-Drama-Thriller",
         "EN",
         6.2
        ],
        [
         966220,
         "Sniper: The White Raven",
         "War-Action-Drama",
         "UK",
         7.604
        ],
        [
         899112,
         "Violent Night",
         "Action-Comedy-Crime-Thriller",
         "EN",
         7.576
        ],
        [
         818422,
         "Ritual",
         "Thriller",
         "NL",
         7.0
        ],
        [
         724495,
         "The Woman King",
         "Action-Drama-History",
         "EN",
         7.798
        ],
        [
         884605,
         "No Hard Feelings",
         "Comedy-Romance",
         "EN",
         6.889
        ],
        [
         616037,
         "Thor: Love and Thunder",
         "Fantasy-Action-Comedy",
         "EN",
         6.625
        ],
        [
         385128,
         "F9",
         "Action-Adventure-Crime-Thriller",
         "EN",
         7.179
        ],
        [
         869112,
         "Somebody I Used to Know",
         "Romance-Comedy-Drama",
         "EN",
         6.231
        ],
        [
         828899,
         "Metalocalypse: Army of the Doomstar",
         "Animation-Comedy-Music",
         "EN",
         6.8
        ],
        [
         961323,
         "Nimona",
         "Animation-Adventure-Fantasy",
         "EN",
         7.932
        ],
        [
         943822,
         "Prizefighter: The Life of Jem Belcher",
         "Drama-Action",
         "EN",
         6.5
        ],
        [
         325358,
         "Superfast!",
         "Comedy-Action",
         "EN",
         5.0
        ],
        [
         551271,
         "Medieval",
         "History-Action-Drama",
         "EN",
         7.209
        ],
        [
         873126,
         "My Name Is Vendetta",
         "Action-Crime-Thriller",
         "IT",
         6.9
        ],
        [
         545611,
         "Everything Everywhere All at Once",
         "Action-Adventure-Science Fiction",
         "EN",
         7.892
        ],
        [
         555604,
         "Guillermo del Toro's Pinocchio",
         "Animation-Fantasy-Drama-Music",
         "EN",
         8.249
        ],
        [
         542196,
         "Wolf Hound",
         "War-Action",
         "EN",
         6.643
        ],
        [
         839738,
         "Me contro Te: Il film - Persi nel tempo",
         "Family-Fantasy",
         "IT",
         7.8
        ],
        [
         802401,
         "Demon Slayer: Kimetsu no Yaiba Mt. Natagumo Arc",
         "Action-Animation-Drama-Fantasy",
         "JA",
         8.725
        ],
        [
         663712,
         "Terrifier 2",
         "Horror",
         "EN",
         6.966
        ],
        [
         573171,
         "A Frozen Rooster",
         "Animation-Adventure-Comedy-Family",
         "ES",
         8.0
        ],
        [
         833950,
         "Little Lies",
         "Comedy-Romance-Thriller",
         "ES",
         7.889
        ],
        [
         785521,
         "Battle: Freestyle",
         "Romance-Drama",
         "NO",
         5.1
        ],
        [
         912826,
         "Rubius X",
         "Documentary",
         "ES",
         8.535
        ],
        [
         480530,
         "Creed II",
         "Drama",
         "EN",
         6.99
        ],
        [
         507086,
         "Jurassic World Dominion",
         "Adventure-Action-Science Fiction",
         "EN",
         6.9
        ],
        [
         929562,
         "In the Forest",
         "Horror-Thriller",
         "EN",
         6.1
        ],
        [
         810693,
         "Jujutsu Kaisen 0",
         "Animation-Action-Fantasy",
         "JA",
         8.224
        ],
        [
         312221,
         "Creed",
         "Drama",
         "EN",
         7.405
        ],
        [
         877269,
         "Strange World",
         "Animation-Family-Adventure-Science Fiction",
         "EN",
         6.513
        ],
        [
         877703,
         "Teen Wolf: The Movie",
         "Action-Fantasy-TV Movie",
         "EN",
         7.899
        ],
        [
         760741,
         "Beast",
         "Thriller",
         "EN",
         6.9
        ],
        [
         505642,
         "Black Panther: Wakanda Forever",
         "Action-Adventure-Science Fiction",
         "EN",
         7.226
        ],
        [
         111332,
         "Avatar: Creating the World of Pandora",
         "Documentary",
         "EN",
         7.2
        ],
        [
         768362,
         "Missing",
         "Drama-Mystery-Thriller",
         "EN",
         7.684
        ],
        [
         949218,
         "S.O.S. Mamis: La película",
         "Comedy",
         "ES",
         5.9
        ],
        [
         897192,
         "Diary of a Wimpy Kid: Rodrick Rules",
         "Animation-Comedy-Family",
         "EN",
         6.8
        ],
        [
         610150,
         "Dragon Ball Super: Super Hero",
         "Animation-Science Fiction-Action",
         "JA",
         7.95
        ],
        [
         718930,
         "Bullet Train",
         "Action-Comedy-Thriller",
         "EN",
         7.495
        ],
        [
         899579,
         "There's Something Wrong with the Children",
         "Horror-Mystery-Thriller",
         "EN",
         6.0
        ],
        [
         76600,
         "Avatar: The Way of Water",
         "Science Fiction-Adventure-Action",
         "EN",
         7.656
        ],
        [
         675353,
         "Sonic the Hedgehog 2",
         "Action-Adventure-Family-Comedy",
         "EN",
         7.599
        ],
        [
         361743,
         "Top Gun: Maverick",
         "Action-Drama",
         "EN",
         8.273
        ],
        [
         740441,
         "Unlocked",
         "Thriller-Mystery",
         "KO",
         7.531
        ],
        [
         19995,
         "Avatar",
         "Action-Adventure-Fantasy-Science Fiction",
         "EN",
         7.569
        ],
        [
         338958,
         "Disenchanted",
         "Comedy-Family-Fantasy",
         "EN",
         7.0
        ],
        [
         811948,
         "Demon Slayer: Kimetsu no Yaiba the Hashira Meeting Arc",
         "Animation-Fantasy",
         "JA",
         8.5
        ],
        [
         740952,
         "Savage Salvation",
         "Action-Mystery-Thriller-Crime",
         "EN",
         6.585
        ],
        [
         836988,
         "Chasing Love Time Machine",
         "Drama-Romance",
         "ZH",
         0.0
        ],
        [
         880841,
         "Abandoned",
         "Horror-Mystery-Thriller",
         "EN",
         6.4
        ],
        [
         916224,
         "Suzume",
         "Animation-Drama-Adventure-Fantasy",
         "JA",
         7.977
        ],
        [
         568124,
         "Encanto",
         "Animation-Comedy-Family-Fantasy",
         "EN",
         7.654
        ],
        [
         945729,
         "A Haunting in Venice",
         "Mystery-Drama-Crime",
         "EN",
         6.824
        ],
        [
         370455,
         "One Punch Man: Road to Hero",
         "Action-Animation",
         "JA",
         8.025
        ],
        [
         760204,
         "The Lair",
         "Horror-Action",
         "EN",
         5.9
        ],
        [
         324786,
         "Hacksaw Ridge",
         "Drama-History-War",
         "EN",
         8.189
        ],
        [
         703451,
         "Your Place or Mine",
         "Romance-Comedy",
         "EN",
         6.4
        ],
        [
         575322,
         "Project Gemini",
         "Science Fiction-Horror",
         "EN",
         5.7
        ],
        [
         438148,
         "Minions: The Rise of Gru",
         "Animation-Comedy-Family",
         "EN",
         7.465
        ],
        [
         287004,
         "Avatar: Production Materials",
         null,
         "EN",
         6.0
        ],
        [
         766507,
         "Prey",
         "Thriller-Action-Science Fiction",
         "EN",
         7.798
        ],
        [
         829358,
         "Queen of Spades",
         "Horror",
         "EN",
         6.553
        ],
        [
         880313,
         "The Wrath of God",
         "Thriller-Drama",
         "ES",
         6.433
        ],
        [
         937337,
         "What a Father!",
         "Comedy-Family-Romance",
         "ES",
         8.3
        ],
        [
         944864,
         "The Takeover",
         "Action-Crime-Thriller",
         "NL",
         5.8
        ],
        [
         436270,
         "Black Adam",
         "Action-Adventure-Science Fiction",
         "EN",
         7.054
        ],
        [
         899294,
         "Frank and Penelope",
         "Thriller-Horror-Crime",
         "EN",
         7.7
        ],
        [
         762430,
         "Retribution",
         "Thriller-Action-Crime",
         "EN",
         6.436
        ],
        [
         928769,
         "AI Love You",
         "Comedy-Romance-Science Fiction",
         "TH",
         5.5
        ],
        [
         448387,
         "Doctor Strange: The Fabric of Reality",
         "Documentary",
         "EN",
         9.5
        ],
        [
         736769,
         "They Cloned Tyrone",
         "Comedy-Science Fiction-Mystery",
         "EN",
         7.059
        ],
        [
         871832,
         "Visitor",
         "Horror",
         "ES",
         6.1
        ],
        [
         508947,
         "Turning Red",
         "Animation-Family-Comedy-Fantasy",
         "EN",
         7.49
        ],
        [
         683328,
         "The Big 4",
         "Action-Comedy-Crime",
         "ID",
         7.1
        ],
        [
         792775,
         "Cop Secret",
         "Comedy-Action-Thriller",
         "IS",
         6.2
        ],
        [
         715931,
         "Emancipation",
         "Action-Drama-Thriller",
         "EN",
         8.06
        ],
        [
         536554,
         "M3GAN",
         "Science Fiction-Horror",
         "EN",
         7.308
        ],
        [
         924482,
         "The Ledge",
         "Thriller-Adventure",
         "EN",
         6.476
        ],
        [
         453395,
         "Doctor Strange in the Multiverse of Madness",
         "Fantasy-Action-Adventure",
         "EN",
         7.38
        ],
        [
         844396,
         "The Friendship Game",
         "Science Fiction-Horror",
         "EN",
         5.7
        ],
        [
         893723,
         "PAW Patrol: The Mighty Movie",
         "Animation-Family-Comedy-Action-Science Fiction",
         "EN",
         7.75
        ],
        [
         785521,
         "Battle: Freestyle",
         "Romance-Drama",
         "NO",
         5.1
        ],
        [
         335977,
         "Indiana Jones and the Dial of Destiny",
         "Adventure-Action-Fantasy",
         "EN",
         6.606
        ],
        [
         580489,
         "Venom: Let There Be Carnage",
         "Science Fiction-Action-Adventure",
         "EN",
         6.873
        ],
        [
         717980,
         "Sharper",
         "Thriller-Crime-Drama",
         "EN",
         7.127
        ],
        [
         787752,
         "Fresh",
         "Horror-Thriller-Comedy",
         "EN",
         7.015
        ],
        [
         638974,
         "Murder Mystery 2",
         "Comedy-Mystery-Action",
         "EN",
         6.714
        ],
        [
         782936,
         "Nocebo",
         "Mystery-Thriller-Horror",
         "EN",
         6.5
        ],
        [
         882598,
         "Smile",
         "Horror-Mystery-Thriller",
         "EN",
         6.787
        ],
        [
         8869,
         "Eight Legged Freaks",
         "Action-Comedy-Horror-Thriller",
         "EN",
         5.741
        ],
        [
         820067,
         "The Quintessential Quintuplets Movie",
         "Animation-Comedy-Romance",
         "JA",
         8.6
        ],
        [
         717728,
         "Jeepers Creepers: Reborn",
         "Horror-Thriller-Mystery",
         "EN",
         5.775
        ],
        [
         949218,
         "S.O.S. Mamis: La película",
         "Comedy",
         "ES",
         5.9
        ],
        [
         807172,
         "The Exorcist: Believer",
         "Horror",
         "EN",
         6.6
        ],
        [
         928769,
         "AI Love You",
         "Comedy-Romance-Science Fiction",
         "TH",
         5.4
        ],
        [
         118340,
         "Guardians of the Galaxy",
         "Action-Science Fiction-Adventure",
         "EN",
         7.904
        ],
        [
         846778,
         "Margaux",
         "Horror-Science Fiction",
         "EN",
         6.9
        ],
        [
         856245,
         "To Kill the Beast",
         "Mystery-Fantasy-Thriller",
         "ES",
         5.7
        ],
        [
         806929,
         "The Immaculate Room",
         "Mystery-Thriller-Drama-Science Fiction",
         "EN",
         5.7
        ],
        [
         585511,
         "Luck",
         "Animation-Adventure-Comedy-Fantasy",
         "EN",
         7.9
        ],
        [
         539681,
         "DC League of Super-Pets",
         "Animation-Action-Family-Comedy-Science Fiction",
         "EN",
         7.423
        ],
        [
         878183,
         "The Independent",
         "Thriller-Drama",
         "EN",
         7.345
        ],
        [
         937013,
         "The Mystic Nine: Begonia from Qingshan",
         "Action-Mystery-Adventure",
         "ZH",
         4.4
        ],
        [
         634649,
         "Spider-Man: No Way Home",
         "Action-Adventure-Science Fiction",
         "EN",
         7.992
        ],
        [
         831223,
         "Gone Mom: The Disappearance of Jennifer Dulos",
         "TV Movie-Thriller-Crime",
         "EN",
         7.7
        ],
        [
         848278,
         "Jurassic Hunt",
         "Action-Science Fiction-Thriller",
         "EN",
         5.1
        ],
        [
         751741,
         "Night at the Museum: Kahmunrah Rises Again",
         "Animation-Comedy-Family-Fantasy",
         "EN",
         6.9
        ],
        [
         785521,
         "Battle: Freestyle",
         "Romance-Drama",
         "NO",
         5.1
        ],
        [
         960258,
         "Shark Bait",
         "Horror-Thriller-Action-Adventure",
         "EN",
         5.9
        ],
        [
         934287,
         "The Last Client",
         "Thriller-Crime",
         "DA",
         7.8
        ],
        [
         960704,
         "Fullmetal Alchemist: The Final Alchemy",
         "Action-Adventure-Fantasy",
         "JA",
         6.335
        ],
        [
         850028,
         "Alice, Darling",
         "Drama-Thriller",
         "EN",
         6.1
        ],
        [
         808,
         "Shrek",
         "Animation-Comedy-Fantasy-Adventure-Family",
         "EN",
         7.716
        ],
        [
         791155,
         "Secret Headquarters",
         "Science Fiction-Family-Action-Adventure",
         "EN",
         6.8
        ],
        [
         852046,
         "Athena",
         "Drama",
         "FR",
         6.7
        ],
        [
         836225,
         "The Exorcism of God",
         "Horror",
         "EN",
         7.2
        ],
        [
         960096,
         "The Bush",
         "Thriller",
         "ES",
         5.0
        ],
        [
         299534,
         "Avengers: Endgame",
         "Adventure-Science Fiction-Action",
         "EN",
         8.268
        ],
        [
         831223,
         "Gone Mom: The Disappearance of Jennifer Dulos",
         "TV Movie-Thriller-Crime",
         "EN",
         7.7
        ],
        [
         937046,
         "L'oubliée d'Amboise",
         "Crime-TV Movie",
         "FR",
         6.3
        ],
        [
         91314,
         "Transformers: Age of Extinction",
         "Science Fiction-Action-Adventure",
         "EN",
         5.9
        ],
        [
         832502,
         "The Monkey King",
         "Animation-Fantasy-Adventure-Family-Comedy",
         "EN",
         6.9
        ],
        [
         338947,
         "Hellraiser",
         "Horror-Mystery",
         "EN",
         6.464
        ],
        [
         671318,
         "¿Y cómo es él?",
         "Comedy",
         "ES",
         7.5
        ],
        [
         438695,
         "Sing 2",
         "Animation-Adventure-Comedy-Family",
         "EN",
         8.0
        ],
        [
         805359,
         "Onsen jôwa: Yubune de momi gaeri",
         "Drama",
         "JA",
         1.5
        ],
        [
         768744,
         "My Hero Academia: World Heroes' Mission",
         "Animation-Action-Adventure-Science Fiction",
         "JA",
         7.6
        ],
        [
         935819,
         "¿Nos casamos? Sí, mi amor",
         "Comedy-Romance",
         "ES",
         2.0
        ],
        [
         809363,
         "La novia de América",
         "Comedy-Romance",
         "ES",
         0.0
        ],
        [
         676701,
         "Tad, the Lost Explorer and the Emerald Tablet",
         "Animation-Adventure-Comedy-Family-Fantasy",
         "ES",
         7.7
        ],
        [
         851644,
         "20th Century Girl",
         "Romance-Drama",
         "KO",
         8.319
        ],
        [
         338953,
         "Fantastic Beasts: The Secrets of Dumbledore",
         "Fantasy-Adventure-Action",
         "EN",
         6.8
        ],
        [
         855440,
         "Polar",
         "Action-Adventure-Thriller",
         "ES",
         6.7
        ],
        [
         299536,
         "Avengers: Infinity War",
         "Adventure-Action-Science Fiction",
         "EN",
         8.255
        ],
        [
         337167,
         "Fifty Shades Freed",
         "Drama-Romance",
         "EN",
         6.699
        ],
        [
         1267,
         "Meet the Robinsons",
         "Animation-Comedy-Family",
         "EN",
         6.889
        ],
        [
         616747,
         "Haunted Mansion",
         "Comedy-Fantasy",
         "EN",
         7.064
        ],
        [
         744276,
         "After Ever Happy",
         "Romance-Drama",
         "EN",
         6.881
        ],
        [
         452251,
         "Beauty Salon: Special Service",
         "Romance-Drama",
         "KO",
         5.9
        ],
        [
         447362,
         "Life in a Year",
         "Drama-Romance",
         "EN",
         8.292
        ],
        [
         829799,
         "Paradise City",
         "Action-Crime-Thriller",
         "EN",
         5.7
        ],
        [
         928015,
         "Dracula: The Original Living Vampire",
         "Horror-Fantasy-Thriller",
         "EN",
         5.6
        ],
        [
         845659,
         "Perfect Addiction",
         "Romance-Drama",
         "EN",
         4.5
        ],
        [
         839436,
         "Dragon Fury",
         "Horror-Fantasy-Mystery",
         "EN",
         6.2
        ],
        [
         854239,
         "Till",
         "Drama-History",
         "EN",
         7.523
        ],
        [
         708471,
         "The Last Zombie",
         "Horror",
         "ES",
         5.7
        ],
        [
         874705,
         "Ash & Dust",
         "Crime-Thriller",
         "EN",
         4.0
        ],
        [
         585083,
         "Hotel Transylvania: Transformania",
         "Animation-Comedy-Family-Fantasy-Adventure",
         "EN",
         7.1
        ],
        [
         821489,
         "All My Friends Hate Me",
         "Comedy-Thriller-Horror",
         "EN",
         6.1
        ],
        [
         820232,
         "Demon Slayer: Kimetsu no Yaiba Sibling's Bond",
         "Action-Animation-Fantasy",
         "JA",
         8.348
        ],
        [
         760161,
         "Orphan: First Kill",
         "Horror-Thriller",
         "EN",
         6.8
        ],
        [
         829560,
         "The Next 365 Days",
         "Romance-Drama",
         "PL",
         6.6
        ],
        [
         912908,
         "Strays",
         "Comedy",
         "EN",
         6.2
        ],
        [
         448387,
         "Doctor Strange: The Fabric of Reality",
         "Documentary",
         "EN",
         9.5
        ],
        [
         948276,
         "Lost Bullet 2",
         "Action-Drama-Thriller",
         "FR",
         6.569
        ],
        [
         934641,
         "The Minute You Wake Up Dead",
         "Thriller-Crime",
         "EN",
         5.6
        ],
        [
         284329,
         "The Last of Us: One Night Live",
         "Drama",
         "EN",
         7.5
        ],
        [
         804150,
         "Cocaine Bear",
         "Thriller-Comedy-Crime",
         "EN",
         6.219
        ],
        [
         772446,
         "Don't Open the Door",
         "Horror",
         "ES",
         7.0
        ],
        [
         928773,
         "Whisper",
         "Horror-Thriller",
         "EN",
         6.3
        ],
        [
         860407,
         "人妻性奴隶：美人妻调教日记",
         null,
         "ZH",
         0.0
        ],
        [
         772436,
         "Matando Cabos 2: La Máscara del Máscara",
         "Action-Comedy-Adventure",
         "ES",
         7.8
        ],
        [
         397243,
         "The Autopsy of Jane Doe",
         "Horror-Mystery",
         "EN",
         6.733
        ],
        [
         785084,
         "The Whale",
         "Drama",
         "EN",
         8.008
        ],
        [
         597,
         "Titanic",
         "Drama-Romance",
         "EN",
         7.89
        ],
        [
         807200,
         "El mundo es vuestro",
         "Comedy",
         "ES",
         5.9
        ],
        [
         414906,
         "The Batman",
         "Crime-Mystery-Thriller",
         "EN",
         7.714
        ],
        [
         872177,
         "Corrective Measures",
         "Action-Science Fiction",
         "EN",
         5.3
        ],
        [
         526896,
         "Morbius",
         "Action-Science Fiction-Fantasy",
         "EN",
         6.181
        ],
        [
         772436,
         "Matando Cabos 2: La Máscara del Máscara",
         "Action-Comedy-Adventure",
         "ES",
         7.8
        ],
        [
         86328,
         "Terrifier",
         "Horror",
         "EN",
         6.5
        ],
        [
         756999,
         "The Black Phone",
         "Horror-Thriller",
         "EN",
         7.777
        ],
        [
         961484,
         "Last Seen Alive",
         "Action-Thriller",
         "EN",
         6.596
        ],
        [
         752623,
         "The Lost City",
         "Action-Adventure-Comedy",
         "EN",
         6.654
        ],
        [
         951491,
         "Saw X",
         "Crime-Horror-Thriller",
         "EN",
         6.5
        ],
        [
         952374,
         "The Aviary",
         "Thriller",
         "EN",
         5.9
        ],
        [
         848058,
         "Piggy",
         "Thriller-Drama-Horror",
         "ES",
         6.6
        ],
        [
         859041,
         "Crazy Fist",
         "Action",
         "ZH",
         6.941
        ],
        [
         566466,
         "Laid-Back Camp The Movie",
         "Animation-Comedy",
         "JA",
         7.7
        ],
        [
         943934,
         "Dragonflies",
         "Drama",
         "ES",
         5.8
        ],
        [
         799379,
         "Project Wolf Hunting",
         "Action-Thriller-Horror",
         "KO",
         6.5
        ],
        [
         811656,
         "Potworny",
         "Horror-Mystery-Thriller",
         "EN",
         6.1
        ],
        [
         816904,
         "Mummies",
         "Adventure-Animation-Comedy-Family-Fantasy",
         "ES",
         6.0
        ],
        [
         50014,
         "The Help",
         "Drama",
         "EN",
         8.2
        ],
        [
         739405,
         "Operation Fortune: Ruse de Guerre",
         "Action-Thriller-Comedy",
         "EN",
         6.876
        ],
        [
         439157,
         "Dragon Ball Z: Resurrection 'F - Future Trunks Special Edition",
         "Animation",
         "JA",
         7.5
        ],
        [
         930094,
         "Red, White & Royal Blue",
         "Comedy-Romance-Drama",
         "EN",
         8.404
        ],
        [
         774825,
         "The Ice Age Adventures of Buck Wild",
         "Animation-Comedy-Adventure-Family",
         "EN",
         6.701
        ],
        [
         922955,
         "Prisoner of Love",
         "Thriller-TV Movie-Drama",
         "EN",
         5.5
        ],
        [
         926393,
         "The Equalizer 3",
         "Action-Thriller-Crime",
         "EN",
         8.0
        ],
        [
         809,
         "Shrek 2",
         "Animation-Family-Comedy-Fantasy-Adventure-Romance",
         "EN",
         7.2
        ],
        [
         566525,
         "Shang-Chi and the Legend of the Ten Rings",
         "Action-Adventure-Fantasy",
         "EN",
         7.6
        ],
        [
         939210,
         "Blue's Big City Adventure",
         "Family-Adventure-Music-Animation",
         "EN",
         7.4
        ],
        [
         839706,
         "BTS Japan Official Fanmeeting Vol.3: Reaching You",
         null,
         "JA",
         0.0
        ],
        [
         854467,
         "Indemnity",
         "Action-Thriller-Crime",
         "EN",
         6.9
        ],
        [
         901908,
         "The Key Game",
         "Comedy",
         "ES",
         6.1
        ],
        [
         668461,
         "Slumberland",
         "Family-Fantasy-Adventure-Drama",
         "EN",
         7.6
        ],
        [
         876792,
         "That Time I Got Reincarnated as a Slime the Movie: Scarlet Bond",
         "Animation-Fantasy-Adventure",
         "JA",
         7.659
        ],
        [
         157336,
         "Interstellar",
         "Adventure-Drama-Science Fiction",
         "EN",
         8.391
        ],
        [
         163733,
         "The Night Parade",
         "Romance",
         "FR",
         6.5
        ],
        [
         928123,
         "The Battle at Lake Changjin: Water Gate Bridge",
         "War-History-Action-Drama",
         "ZH",
         7.0
        ],
        [
         818397,
         "Memory",
         "Action-Thriller-Crime",
         "EN",
         7.0
        ],
        [
         798544,
         "Summer Ghost",
         "Animation-Drama-Mystery-Fantasy",
         "JA",
         7.6
        ],
        [
         335787,
         "Uncharted",
         "Action-Adventure",
         "EN",
         7.043
        ],
        [
         423108,
         "The Conjuring: The Devil Made Me Do It",
         "Horror-Mystery-Thriller",
         "EN",
         7.5
        ],
        [
         802699,
         "The Girl from the Other Side",
         "Animation-Drama-Mystery-Fantasy",
         "JA",
         6.8
        ],
        [
         816952,
         "My Best Friend's Exorcism",
         "Horror-Comedy",
         "EN",
         6.15
        ],
        [
         47964,
         "A Good Day to Die Hard",
         "Action-Thriller",
         "EN",
         5.319
        ],
        [
         354912,
         "Coco",
         "Family-Animation-Fantasy-Music-Comedy-Adventure",
         "EN",
         8.2
        ],
        [
         436969,
         "The Suicide Squad",
         "Action-Comedy-Adventure",
         "EN",
         7.594
        ],
        [
         297270,
         "Tinker Bell and the Legend of the NeverBeast",
         "Adventure-Animation-Family",
         "EN",
         7.2
        ],
        [
         629176,
         "Samaritan",
         "Action-Crime-Science Fiction",
         "EN",
         6.823
        ],
        [
         829280,
         "Enola Holmes 2",
         "Mystery-Adventure-Comedy-Crime",
         "EN",
         7.6
        ],
        [
         543504,
         "Detective vs. Sleuths",
         "Action-Crime-Mystery-Thriller",
         "CN",
         6.704
        ],
        [
         639933,
         "The Northman",
         "Action-Adventure-Fantasy",
         "EN",
         7.112
        ],
        [
         493529,
         "Dungeons & Dragons: Honor Among Thieves",
         "Adventure-Fantasy-Comedy",
         "EN",
         7.5
        ],
        [
         593643,
         "The Menu",
         "Horror-Thriller",
         "EN",
         7.233
        ],
        [
         10192,
         "Shrek Forever After",
         "Comedy-Adventure-Fantasy-Animation-Family",
         "EN",
         6.3
        ],
        [
         285,
         "Pirates of the Caribbean: At World's End",
         "Adventure-Fantasy-Action",
         "EN",
         7.237
        ],
        [
         448383,
         "Doctor Strange: The Score-Cerer Supreme",
         "Documentary",
         "EN",
         8.9
        ],
        [
         814757,
         "Empire of Light",
         "Drama-Romance",
         "EN",
         6.614
        ],
        [
         820511,
         "Ripper Untold",
         "Horror",
         "EN",
         6.2
        ],
        [
         7445,
         "Brothers",
         "Drama-Thriller-War",
         "EN",
         7.292
        ],
        [
         772436,
         "Matando Cabos 2: La Máscara del Máscara",
         "Action-Comedy-Adventure",
         "ES",
         7.8
        ],
        [
         537915,
         "After",
         "Romance-Drama",
         "EN",
         7.16
        ],
        [
         853163,
         "Dumb & Dahmer",
         "Comedy-Horror",
         "EN",
         0.0
        ],
        [
         646385,
         "Scream",
         "Horror-Mystery-Thriller",
         "EN",
         6.727
        ],
        [
         8587,
         "The Lion King",
         "Family-Animation-Drama",
         "EN",
         8.3
        ],
        [
         1865,
         "Pirates of the Caribbean: On Stranger Tides",
         "Adventure-Action-Fantasy",
         "EN",
         6.528
        ],
        [
         675445,
         "PAW Patrol: The Movie",
         "Animation-Family-Adventure-Comedy",
         "EN",
         7.4
        ],
        [
         829557,
         "365 Days: This Day",
         "Romance-Drama",
         "PL",
         5.878
        ],
        [
         11688,
         "The Emperor's New Groove",
         "Adventure-Animation-Comedy-Family-Fantasy",
         "EN",
         7.5
        ],
        [
         626735,
         "Dog",
         "Drama-Comedy",
         "EN",
         7.363
        ],
        [
         938567,
         "Teasing Master Takagi-san: The Movie",
         "Animation-Comedy-Romance",
         "JA",
         8.527
        ],
        [
         782054,
         "Doraemon: Nobita's Little Star Wars 2021",
         "Animation-Science Fiction-Adventure",
         "JA",
         5.8
        ],
        [
         632065,
         "House Party",
         "Comedy",
         "EN",
         6.7
        ],
        [
         497828,
         "Triangle of Sadness",
         "Comedy-Drama",
         "EN",
         7.275
        ],
        [
         37165,
         "The Truman Show",
         "Comedy-Drama",
         "EN",
         8.1
        ],
        [
         335988,
         "Transformers: The Last Knight",
         "Action-Adventure-Science Fiction",
         "EN",
         6.1
        ],
        [
         862965,
         "Emily the Criminal",
         "Crime-Drama-Thriller",
         "EN",
         6.8
        ],
        [
         868985,
         "¡Que Viva México!",
         "Comedy",
         "ES",
         0.0
        ],
        [
         665142,
         "Young Aunt 3",
         "Romance",
         "KO",
         6.7
        ],
        [
         755679,
         "Fast X: Part 2",
         "Action-Crime",
         "EN",
         0.0
        ],
        [
         138843,
         "The Conjuring",
         "Horror-Thriller",
         "EN",
         7.537
        ],
        [
         508943,
         "Luca",
         "Animation-Comedy-Family-Fantasy-Action-Adventure",
         "EN",
         7.9
        ],
        [
         485470,
         "Nice Sister-In-Law 2",
         "Romance",
         "KO",
         5.2
        ],
        [
         642885,
         "Hocus Pocus 2",
         "Fantasy-Comedy-Family",
         "EN",
         7.4
        ],
        [
         774752,
         "The Guardians of the Galaxy Holiday Special",
         "Comedy-Science Fiction-Adventure",
         "EN",
         7.332
        ],
        [
         420818,
         "The Lion King",
         "Adventure-Drama-Family",
         "EN",
         7.131
        ],
        [
         335984,
         "Blade Runner 2049",
         "Science Fiction-Drama",
         "EN",
         7.525
        ],
        [
         384018,
         "Fast & Furious Presents: Hobbs & Shaw",
         "Action-Adventure-Comedy",
         "EN",
         6.865
        ],
        [
         779112,
         "BTS World Tour 'Love Yourself - Speak Yourself' London",
         "Music",
         "EN",
         8.8
        ],
        [
         670292,
         "The Creator",
         "Science Fiction-Action-Thriller",
         "EN",
         7.3
        ],
        [
         913673,
         "Nefarious",
         "Horror-Thriller",
         "EN",
         6.847
        ],
        [
         919609,
         "ODDTAXI in the Woods",
         "Animation-Comedy-Mystery",
         "JA",
         6.5
        ],
        [
         417859,
         "Puss in Boots",
         "Action-Animation-Adventure-Comedy-Family",
         "EN",
         6.521
        ],
        [
         706972,
         "Narco Sub",
         "Action-Drama-Crime",
         "EN",
         6.7
        ],
        [
         22,
         "Pirates of the Caribbean: The Curse of the Black Pearl",
         "Adventure-Fantasy-Action",
         "EN",
         7.789
        ],
        [
         960700,
         "Fullmetal Alchemist: The Revenge of Scar",
         "Fantasy-Action-Adventure",
         "JA",
         6.8
        ],
        [
         814338,
         "Lady Chatterley's Lover",
         "Romance-Drama",
         "EN",
         6.748
        ],
        [
         744275,
         "After We Fell",
         "Romance-Drama",
         "EN",
         7.13
        ],
        [
         877957,
         "Drifting Home",
         "Animation-Drama-Fantasy-Adventure",
         "JA",
         7.663
        ],
        [
         637649,
         "Wrath of Man",
         "Action-Crime-Thriller",
         "EN",
         7.682
        ],
        [
         807356,
         "Watcher",
         "Mystery-Thriller-Horror",
         "EN",
         6.585
        ],
        [
         775943,
         "Tarumama",
         "Horror-Drama",
         "ES",
         4.5
        ],
        [
         709195,
         "Legions",
         "Fantasy-Horror-Comedy",
         "ES",
         6.5
        ],
        [
         159211,
         "The Haunting of Helena",
         "Horror-Thriller",
         "EN",
         5.5
        ],
        [
         40172,
         "Man, Woman & the Wall",
         "Drama-Romance-Thriller",
         "JA",
         6.3
        ],
        [
         777350,
         "Dory's Reef Cam",
         "Family-Animation-Comedy-Adventure",
         "EN",
         6.0
        ],
        [
         613504,
         "After We Collided",
         "Romance-Drama",
         "EN",
         7.221
        ],
        [
         2062,
         "Ratatouille",
         "Animation-Comedy-Family-Fantasy",
         "EN",
         7.794
        ],
        [
         429473,
         "Lou",
         "Action-Thriller-Drama",
         "EN",
         6.632
        ],
        [
         767304,
         "Redemption Day",
         "Action",
         "EN",
         6.2
        ],
        [
         777350,
         "Dory's Reef Cam",
         "Family-Animation-Comedy-Adventure",
         "EN",
         6.0
        ],
        [
         335795,
         "Monster High: The Movie",
         "Family-Fantasy-Comedy-Adventure-Music-TV Movie",
         "EN",
         7.0
        ],
        [
         238,
         "The Godfather",
         "Drama-Crime",
         "EN",
         8.71
        ],
        [
         698779,
         "Room Salon College Girls 3",
         "Romance-Action",
         "KO",
         5.0
        ],
        [
         648579,
         "The Unbearable Weight of Massive Talent",
         "Action-Comedy-Crime",
         "EN",
         6.777
        ],
        [
         168259,
         "Furious 7",
         "Action-Thriller-Crime",
         "EN",
         7.239
        ],
        [
         848932,
         "Why Women Cheat",
         "Romance",
         "EN",
         3.3
        ],
        [
         624860,
         "The Matrix Resurrections",
         "Science Fiction-Action-Adventure",
         "EN",
         6.5
        ],
        [
         777350,
         "Dory's Reef Cam",
         "Family-Animation-Comedy-Adventure",
         "EN",
         6.0
        ],
        [
         102382,
         "The Amazing Spider-Man 2",
         "Action-Adventure-Fantasy",
         "EN",
         6.488
        ],
        [
         747803,
         "One Way",
         "Crime-Thriller",
         "EN",
         6.4
        ],
        [
         453071,
         "The Day Naruto Became Hokage",
         "Comedy-Animation-Action-Adventure",
         "JA",
         7.6
        ],
        [
         102899,
         "Ant-Man",
         "Science Fiction-Action-Adventure",
         "EN",
         7.083
        ],
        [
         916719,
         "Code Name Banshee",
         "Thriller-Action",
         "EN",
         5.2
        ],
        [
         801071,
         "The Jack in the Box: Awakening",
         "Horror",
         "EN",
         6.431
        ],
        [
         919355,
         "Dragon Knight",
         "Fantasy-Adventure-Action",
         "EN",
         6.778
        ],
        [
         601796,
         "Alienoid",
         "Science Fiction-Action-Fantasy-Adventure",
         "KO",
         7.163
        ],
        [
         629542,
         "The Bad Guys",
         "Animation-Action-Adventure-Crime-Comedy",
         "EN",
         7.7
        ],
        [
         894246,
         "Ride Above",
         "Drama-Comedy-Family",
         "FR",
         6.9
        ],
        [
         45491,
         "Sex and Zen",
         "Drama-Adventure-Comedy-Romance",
         "CN",
         5.8
        ],
        [
         960875,
         "The Chalk Line",
         "Horror-Thriller-Mystery",
         "ES",
         6.4
        ],
        [
         691777,
         "Jesus",
         "Family-History-Music",
         "EN",
         7.5
        ],
        [
         18785,
         "The Hangover",
         "Comedy",
         "EN",
         7.309
        ],
        [
         860623,
         "Last Man Down",
         "Action-Thriller",
         "EN",
         5.636
        ],
        [
         315635,
         "Spider-Man: Homecoming",
         "Action-Adventure-Science Fiction-Drama",
         "EN",
         7.345
        ],
        [
         798286,
         "Beau Is Afraid",
         "Comedy-Adventure-Fantasy",
         "EN",
         7.0
        ],
        [
         59440,
         "Warrior",
         "Drama-Action",
         "EN",
         7.84
        ],
        [
         744,
         "Top Gun",
         "Action-Drama",
         "EN",
         7.027
        ],
        [
         1726,
         "Iron Man",
         "Action-Science Fiction-Adventure",
         "EN",
         7.6
        ],
        [
         895006,
         "Demon Slayer: Kimetsu no Yaiba - Tsuzumi Mansion Arc",
         "Animation-Action-Fantasy",
         "JA",
         7.6
        ],
        [
         532639,
         "Pinocchio",
         "Fantasy-Adventure-Family",
         "EN",
         6.549
        ],
        [
         967493,
         "Inside The Walking Dead Season 11 (Part 1)",
         null,
         "EN",
         10.0
        ],
        [
         70981,
         "Prometheus",
         "Science Fiction-Adventure-Mystery",
         "EN",
         6.5
        ],
        [
         106646,
         "The Wolf of Wall Street",
         "Crime-Drama-Comedy",
         "EN",
         8.036
        ],
        [
         818648,
         "Love at First Kiss",
         "Romance-Comedy",
         "ES",
         6.074
        ],
        [
         758336,
         "Love Again",
         "Romance-Drama-Comedy",
         "EN",
         6.392
        ],
        [
         120,
         "The Lord of the Rings: The Fellowship of the Ring",
         "Adventure-Fantasy-Action",
         "EN",
         8.402
        ],
        [
         779112,
         "BTS World Tour 'Love Yourself - Speak Yourself' London",
         "Music",
         "EN",
         8.8
        ],
        [
         76338,
         "Thor: The Dark World",
         "Action-Adventure-Fantasy",
         "EN",
         6.552
        ],
        [
         761898,
         "Sword Art Online the Movie -Progressive- Aria of a Starless Night",
         "Animation-Action-Fantasy-Science Fiction",
         "JA",
         8.1
        ],
        [
         964980,
         "Air",
         "Drama-History",
         "EN",
         7.418
        ],
        [
         116322,
         "The Legend of La Llorona",
         "Family-Animation-Fantasy",
         "ES",
         7.8
        ],
        [
         848932,
         "Why Women Cheat",
         "Romance",
         "EN",
         3.3
        ],
        [
         471707,
         "Corpus Christi",
         "Drama",
         "PL",
         7.7
        ],
        [
         886396,
         "Batman and Superman: Battle of the Super Sons",
         "Animation-Action-Science Fiction",
         "EN",
         7.9
        ],
        [
         330457,
         "Frozen II",
         "Family-Animation-Adventure-Comedy-Fantasy",
         "EN",
         7.281
        ],
        [
         896485,
         "Overdose",
         "Action-Crime-Thriller",
         "FR",
         6.575
        ],
        [
         228150,
         "Fury",
         "War-Drama-Action",
         "EN",
         7.5
        ],
        [
         502235,
         "Purpose of Reunion 3",
         "Drama-Romance",
         "KO",
         3.5
        ],
        [
         810171,
         "The Valet",
         "Comedy-Romance",
         "EN",
         7.739
        ],
        [
         862,
         "Toy Story",
         "Animation-Adventure-Family-Comedy",
         "EN",
         7.966
        ],
        [
         269149,
         "Zootopia",
         "Animation-Adventure-Family-Comedy",
         "EN",
         7.746
        ],
        [
         39254,
         "Real Steel",
         "Action-Science Fiction-Drama",
         "EN",
         6.955
        ],
        [
         303857,
         "Dragon Ball Z: Resurrection 'F'",
         "Action-Animation-Science Fiction",
         "JA",
         6.8
        ],
        [
         337339,
         "The Fate of the Furious",
         "Action-Crime-Thriller",
         "EN",
         6.892
        ],
        [
         10144,
         "The Little Mermaid",
         "Animation-Family-Fantasy",
         "EN",
         7.3
        ],
        [
         579974,
         "RRR",
         "Action-Drama",
         "TE",
         7.845
        ],
        [
         460465,
         "Mortal Kombat",
         "Action-Fantasy-Adventure",
         "EN",
         7.1
        ],
        [
         337404,
         "Cruella",
         "Comedy-Crime",
         "EN",
         8.083
        ],
        [
         691777,
         "Jesus",
         "Family-History-Music",
         "EN",
         7.5
        ],
        [
         843241,
         "The Seven Deadly Sins: Cursed by Light",
         "Animation-Fantasy",
         "JA",
         7.8
        ],
        [
         527774,
         "Raya and the Last Dragon",
         "Animation-Family-Fantasy-Action-Adventure",
         "EN",
         7.937
        ],
        [
         871964,
         "Nobody Sleeps in the Woods Tonight 2",
         "Horror-Thriller-Comedy",
         "PL",
         4.1
        ],
        [
         879538,
         "Crawlspace",
         "Thriller",
         "EN",
         6.6
        ],
        [
         425,
         "Ice Age",
         "Animation-Comedy-Family-Adventure",
         "EN",
         7.34
        ],
        [
         290271,
         "One Piece \"3D2Y\": Overcome Ace's Death! Luffy's Vow to his Friends",
         "Action-Animation-Adventure-Comedy-Fantasy",
         "JA",
         7.4
        ],
        [
         10198,
         "The Princess and the Frog",
         "Romance-Family-Animation",
         "EN",
         7.2
        ],
        [
         10138,
         "Iron Man 2",
         "Adventure-Action-Science Fiction",
         "EN",
         6.835
        ],
        [
         324857,
         "Spider-Man: Into the Spider-Verse",
         "Action-Adventure-Animation-Science Fiction",
         "EN",
         8.406
        ],
        [
         524434,
         "Eternals",
         "Science Fiction-Action-Adventure",
         "EN",
         6.969
        ],
        [
         723347,
         "Robots",
         "Romance-Science Fiction-Fantasy-Comedy",
         "EN",
         6.5
        ],
        [
         477462,
         "The Twin",
         "Horror-Mystery",
         "EN",
         6.0
        ],
        [
         379686,
         "Space Jam: A New Legacy",
         "Family-Animation-Comedy-Science Fiction",
         "EN",
         6.9
        ],
        [
         913991,
         "Prison 77",
         "Drama",
         "ES",
         7.5
        ],
        [
         800279,
         "Corner Office",
         "Comedy-Drama",
         "EN",
         6.545
        ],
        [
         460458,
         "Resident Evil: Welcome to Raccoon City",
         "Horror-Science Fiction-Action",
         "EN",
         6.1
        ],
        [
         653851,
         "Devotion",
         "War-Drama-Action",
         "EN",
         7.249
        ],
        [
         438631,
         "Dune",
         "Science Fiction-Adventure",
         "EN",
         7.744
        ],
        [
         729097,
         "Young Mother 5",
         "Drama-Romance",
         "KO",
         5.1
        ],
        [
         1366,
         "Rocky",
         "Drama-Romance",
         "EN",
         7.782
        ],
        [
         260514,
         "Cars 3",
         "Animation-Adventure-Comedy-Family",
         "EN",
         6.8
        ],
        [
         665899,
         "Topside",
         "Drama",
         "EN",
         7.6
        ],
        [
         518896,
         "Warriors of Future",
         "Drama-Action-Science Fiction",
         "ZH",
         7.304
        ],
        [
         512195,
         "Red Notice",
         "Action-Comedy-Crime-Thriller",
         "EN",
         6.795
        ],
        [
         585245,
         "Clifford the Big Red Dog",
         "Family-Adventure-Comedy-Fantasy",
         "EN",
         7.3
        ],
        [
         585,
         "Monsters, Inc.",
         "Animation-Comedy-Family",
         "EN",
         7.831
        ],
        [
         728366,
         "Borrego",
         "Crime-Thriller",
         "EN",
         5.9
        ],
        [
         883083,
         "You Won't Be Alone",
         "Horror-Drama",
         "MK",
         6.624
        ],
        [
         843269,
         "Eureka: Eureka Seven Hi-Evolution",
         "Animation-Drama-Adventure-Science Fiction",
         "JA",
         7.3
        ],
        [
         11224,
         "Cinderella",
         "Family-Fantasy-Animation-Romance",
         "EN",
         7.036
        ],
        [
         284052,
         "Doctor Strange",
         "Action-Adventure-Fantasy",
         "EN",
         7.425
        ],
        [
         755812,
         "Miraculous World: New York, United HeroeZ",
         "Animation-TV Movie-Fantasy-Action",
         "FR",
         8.2
        ],
        [
         348893,
         "Boyka: Undisputed IV",
         "Action-Drama",
         "EN",
         7.1
        ],
        [
         135397,
         "Jurassic World",
         "Action-Adventure-Science Fiction-Thriller",
         "EN",
         6.678
        ],
        [
         155,
         "The Dark Knight",
         "Drama-Action-Crime-Thriller",
         "EN",
         8.508
        ],
        [
         615457,
         "Nobody",
         "Action-Crime-Thriller",
         "EN",
         8.077
        ],
        [
         649609,
         "Renfield",
         "Comedy-Horror-Fantasy-Action",
         "EN",
         6.759
        ],
        [
         864101,
         "Mira",
         "Drama-Adventure-Science Fiction-Family",
         "RU",
         6.8
        ],
        [
         10195,
         "Thor",
         "Adventure-Fantasy-Action",
         "EN",
         6.767
        ],
        [
         1930,
         "The Amazing Spider-Man",
         "Action-Adventure-Fantasy",
         "EN",
         6.682
        ],
        [
         884363,
         "Togo",
         "Crime-Drama",
         "ES",
         6.6
        ],
        [
         560057,
         "The Sea Beast",
         "Animation-Adventure-Family-Fantasy",
         "EN",
         7.5
        ],
        [
         936061,
         "Under Wraps 2",
         "Family-Comedy-Fantasy-TV Movie",
         "EN",
         6.8
        ],
        [
         644124,
         "Dampyr",
         "Horror-Fantasy-Action",
         "IT",
         6.5
        ],
        [
         589761,
         "Chernobyl: Abyss",
         "Drama-History-Adventure-Action-Fantasy-Mystery",
         "RU",
         6.2
        ],
        [
         259693,
         "The Conjuring 2",
         "Horror-Thriller",
         "EN",
         7.288
        ],
        [
         810,
         "Shrek the Third",
         "Fantasy-Adventure-Animation-Comedy-Family",
         "EN",
         6.281
        ],
        [
         507250,
         "Dead Shot",
         "Action-Thriller",
         "EN",
         0.0
        ],
        [
         812488,
         "Don't Come Back Alive",
         "Thriller-Fantasy-Horror",
         "ES",
         6.1
        ],
        [
         420809,
         "Maleficent: Mistress of Evil",
         "Family-Fantasy-Adventure-Action",
         "EN",
         7.345
        ],
        [
         284053,
         "Thor: Ragnarok",
         "Action-Adventure-Fantasy-Science Fiction-Comedy",
         "EN",
         7.6
        ],
        [
         911916,
         "Spider-Man: Beyond the Spider-Verse",
         "Animation-Action-Adventure-Science Fiction",
         "EN",
         0.0
        ],
        [
         942951,
         "Snake Island Python",
         "Drama",
         "ZH",
         7.5
        ],
        [
         937278,
         "A Man Called Otto",
         "Comedy-Drama",
         "EN",
         7.885
        ],
        [
         552688,
         "The Mother",
         "Action-Thriller",
         "EN",
         6.7
        ],
        [
         940077,
         "Jurassic World Dominion: Prologue",
         "Science Fiction-Action",
         "EN",
         4.5
        ],
        [
         24428,
         "The Avengers",
         "Science Fiction-Action-Adventure",
         "EN",
         7.71
        ],
        [
         901563,
         "Close",
         "Drama",
         "FR",
         7.843
        ],
        [
         639721,
         "The Addams Family 2",
         "Animation-Adventure-Comedy-Family-Fantasy-Horror",
         "EN",
         7.097
        ],
        [
         87101,
         "Terminator Genisys",
         "Science Fiction-Action-Thriller-Adventure",
         "EN",
         5.921
        ],
        [
         821133,
         "HollyBlood",
         "Comedy-Fantasy-Romance",
         "ES",
         5.733
        ],
        [
         429617,
         "Spider-Man: Far From Home",
         "Action-Adventure-Science Fiction",
         "EN",
         7.5
        ],
        [
         691777,
         "Jesus",
         "Family-History-Music",
         "EN",
         7.5
        ],
        [
         801857,
         "Toscana",
         "Comedy",
         "ES",
         5.8
        ],
        [
         14836,
         "Coraline",
         "Animation-Family-Fantasy",
         "EN",
         7.8
        ],
        [
         941959,
         "An Argentinian Crime",
         "Thriller",
         "ES",
         6.3
        ],
        [
         592350,
         "My Hero Academia: Heroes Rising",
         "Animation-Action-Fantasy-Adventure",
         "JA",
         8.2
        ],
        [
         962232,
         "Beyond the Universe",
         "Romance-Drama-Comedy",
         "PT",
         8.078
        ],
        [
         895003,
         "Demon Slayer: Kimetsu no Yaiba - Asakusa Arc",
         "Animation-Fantasy",
         "JA",
         8.583
        ],
        [
         324552,
         "John Wick: Chapter 2",
         "Action-Thriller-Crime",
         "EN",
         7.325
        ],
        [
         921360,
         "Wire Room",
         "Action-Crime-Thriller",
         "EN",
         6.742
        ],
        [
         508442,
         "Soul",
         "Animation-Family-Comedy-Fantasy-Drama",
         "EN",
         8.161
        ],
        [
         532067,
         "KonoSuba: God's Blessing on this Wonderful World! Legend of Crimson",
         "Animation-Adventure-Comedy-Fantasy",
         "JA",
         8.2
        ],
        [
         39456,
         "Women in Fury",
         "Action-Drama",
         "IT",
         6.4
        ],
        [
         118,
         "Charlie and the Chocolate Factory",
         "Adventure-Comedy-Family-Fantasy",
         "EN",
         7.037
        ],
        [
         626872,
         "Emergency Declaration",
         "Action-Drama-Mystery-Thriller",
         "KO",
         7.9
        ],
        [
         278,
         "The Shawshank Redemption",
         "Drama-Crime",
         "EN",
         8.702
        ],
        [
         726684,
         "Miraculous World: Shanghai – The Legend of Ladydragon",
         "Animation-Fantasy-Action-TV Movie",
         "FR",
         7.9
        ],
        [
         919689,
         "War of the Worlds: Annihilation",
         "Science Fiction-Action",
         "EN",
         5.2
        ],
        [
         351286,
         "Jurassic World: Fallen Kingdom",
         "Action-Adventure-Science Fiction-Thriller",
         "EN",
         6.6
        ],
        [
         177572,
         "Big Hero 6",
         "Adventure-Family-Animation-Action-Comedy",
         "EN",
         7.741
        ],
        [
         759175,
         "The Princess",
         "Fantasy-Action",
         "EN",
         6.9
        ],
        [
         529106,
         "Major Grom: Plague Doctor",
         "Action-Adventure",
         "RU",
         6.7
        ],
        [
         818647,
         "Through My Window",
         "Drama-Romance",
         "ES",
         7.453
        ],
        [
         1364,
         "Sex and Lucía",
         "Drama-Romance",
         "ES",
         6.7
        ],
        [
         109445,
         "Frozen",
         "Animation-Family-Adventure-Fantasy",
         "EN",
         7.25
        ],
        [
         507089,
         "Five Nights at Freddy's",
         "Horror-Thriller-Fantasy",
         "EN",
         0.0
        ],
        [
         126963,
         "Dragon Ball Z: Battle of Gods",
         "Animation-Action-Science Fiction",
         "JA",
         6.793
        ],
        [
         725201,
         "The Gray Man",
         "Action-Thriller",
         "EN",
         7.011
        ],
        [
         505262,
         "My Hero Academia: Two Heroes",
         "Animation-Action-Adventure-Fantasy",
         "JA",
         7.921
        ],
        [
         293660,
         "Deadpool",
         "Action-Adventure-Comedy",
         "EN",
         7.604
        ],
        [
         295830,
         "Attack on Titan",
         "Horror-Fantasy-Action-Science Fiction",
         "JA",
         6.039
        ],
        [
         188070,
         "Dream 9 Toriko & One Piece & Dragon Ball Z Super Collaboration Special!!",
         "Action-Adventure-Comedy-Fantasy-Animation",
         "JA",
         7.4
        ],
        [
         68726,
         "Pacific Rim",
         "Action-Science Fiction-Adventure",
         "EN",
         6.863
        ],
        [
         804095,
         "The Fabelmans",
         "Drama",
         "EN",
         7.945
        ],
        [
         667739,
         "The Man from Toronto",
         "Action-Comedy",
         "EN",
         6.853
        ],
        [
         9820,
         "The Parent Trap",
         "Comedy-Family",
         "EN",
         7.1
        ],
        [
         11,
         "Star Wars",
         "Adventure-Action-Science Fiction",
         "EN",
         8.2
        ],
        [
         863,
         "Toy Story 2",
         "Animation-Comedy-Family",
         "EN",
         7.583
        ],
        [
         58,
         "Pirates of the Caribbean: Dead Man's Chest",
         "Adventure-Fantasy-Action",
         "EN",
         7.337
        ],
        [
         928391,
         "The Red Book Ritual",
         "Horror",
         "EN",
         5.5
        ],
        [
         927341,
         "Hunting Ava Bravo",
         "Thriller-Action",
         "EN",
         6.5
        ],
        [
         616851,
         "Untitled 'The Walking Dead' Film",
         "Adventure-Drama-Horror-Science Fiction",
         "EN",
         0.0
        ],
        [
         904039,
         "Madagascar: A Little Wild Holiday Goose Chase",
         "Animation-Comedy",
         "EN",
         6.3
        ],
        [
         49013,
         "Cars 2",
         "Animation-Family-Adventure-Comedy",
         "EN",
         6.0
        ],
        [
         98566,
         "Teenage Mutant Ninja Turtles",
         "Science Fiction-Action-Adventure-Comedy",
         "EN",
         5.9
        ],
        [
         347201,
         "Boruto: Naruto the Movie",
         "Animation-Action-Comedy",
         "JA",
         7.634
        ],
        [
         610133,
         "The World of Dragon Ball Z",
         "Action",
         "EN",
         6.0
        ],
        [
         833425,
         "No Exit",
         "Horror-Thriller-Mystery",
         "EN",
         6.979
        ],
        [
         122917,
         "The Hobbit: The Battle of the Five Armies",
         "Action-Adventure-Fantasy",
         "EN",
         7.3
        ],
        [
         20982,
         "Naruto Shippuden the Movie",
         "Animation-Action-Fantasy",
         "JA",
         7.339
        ],
        [
         848123,
         "Black Site",
         "Action-Thriller",
         "EN",
         6.8
        ],
        [
         588228,
         "The Tomorrow War",
         "Action-Science Fiction-Adventure",
         "EN",
         7.9
        ],
        [
         674324,
         "The Banshees of Inisherin",
         "Drama-Comedy",
         "EN",
         7.541
        ],
        [
         774301,
         "American Murderer",
         "Crime-Thriller-Drama",
         "EN",
         6.4
        ],
        [
         4247,
         "Scary Movie",
         "Comedy",
         "EN",
         6.322
        ],
        [
         485811,
         "Redcon-1",
         "Action-Horror-Science Fiction",
         "EN",
         5.6
        ],
        [
         557,
         "Spider-Man",
         "Fantasy-Action",
         "EN",
         7.264
        ],
        [
         696806,
         "The Adam Project",
         "Adventure-Science Fiction",
         "EN",
         7.067
        ],
        [
         366672,
         "Paws of Fury: The Legend of Hank",
         "Animation-Action-Adventure-Comedy-Family-Western",
         "EN",
         6.822
        ],
        [
         939979,
         "Paradise Highway",
         "Thriller-Crime-Drama",
         "EN",
         5.926
        ],
        [
         341174,
         "Fifty Shades Darker",
         "Drama-Romance",
         "EN",
         6.5
        ],
        [
         156022,
         "The Equalizer",
         "Thriller-Action-Crime",
         "EN",
         7.2
        ],
        [
         514999,
         "Murder Mystery",
         "Comedy-Mystery",
         "EN",
         6.261
        ],
        [
         906221,
         "Magic Mike's Last Dance",
         "Comedy-Drama-Romance",
         "EN",
         7.1
        ],
        [
         14160,
         "Up",
         "Animation-Comedy-Family-Adventure",
         "EN",
         7.942
        ],
        [
         529203,
         "The Croods: A New Age",
         "Animation-Family-Adventure-Fantasy-Comedy",
         "EN",
         7.5
        ],
        [
         748501,
         "Hot Hair Salon",
         "Drama-Romance",
         "KO",
         5.2
        ],
        [
         889080,
         "What We Leave Behind",
         "Documentary",
         "EN",
         6.0
        ],
        [
         800345,
         "Carter",
         "Action-Thriller",
         "KO",
         6.2
        ],
        [
         616820,
         "Halloween Ends",
         "Horror-Thriller",
         "EN",
         6.344
        ],
        [
         447332,
         "A Quiet Place",
         "Horror-Drama-Science Fiction",
         "EN",
         7.396
        ],
        [
         166428,
         "How to Train Your Dragon: The Hidden World",
         "Animation-Family-Adventure",
         "EN",
         7.8
        ],
        [
         648964,
         "Ninja Escapades: Creation of Akatsuki, The Two Uchiha, The Far Reaches of Hope",
         "Animation-Action-Adventure-Fantasy-Comedy",
         "JA",
         6.9
        ],
        [
         475557,
         "Joker",
         "Crime-Thriller-Drama",
         "EN",
         8.17
        ],
        [
         578701,
         "Those Who Wish Me Dead",
         "Thriller-Action",
         "EN",
         6.7
        ],
        [
         44918,
         "Titanic II",
         "Action-Adventure-Thriller",
         "EN",
         4.9
        ],
        [
         25769,
         "Carriers",
         "Action-Drama-Horror-Science Fiction-Thriller",
         "EN",
         6.1
        ],
        [
         466420,
         "Killers of the Flower Moon",
         "Crime-Drama-Thriller",
         "EN",
         0.0
        ],
        [
         190859,
         "American Sniper",
         "War-Action",
         "EN",
         7.434
        ],
        [
         353081,
         "Mission: Impossible - Fallout",
         "Action-Adventure",
         "EN",
         7.414
        ],
        [
         811061,
         "So Cold the River",
         "Horror-Thriller",
         "EN",
         5.672
        ],
        [
         589754,
         "The Last Warrior: Root of Evil",
         "Fantasy-Adventure-Comedy",
         "RU",
         7.0
        ],
        [
         370172,
         "No Time to Die",
         "Adventure-Action-Thriller",
         "EN",
         7.4
        ],
        [
         4258,
         "Scary Movie 5",
         "Comedy",
         "EN",
         4.815
        ],
        [
         464052,
         "Wonder Woman 1984",
         "Action-Adventure-Fantasy",
         "EN",
         6.51
        ],
        [
         961707,
         "Hawa",
         "Drama-Comedy",
         "FR",
         6.8
        ],
        [
         296096,
         "Me Before You",
         "Drama-Romance",
         "EN",
         7.905
        ],
        [
         772450,
         "Presences",
         "Horror",
         "ES",
         6.9
        ],
        [
         739986,
         "True Spirit",
         "Adventure-Drama-Family",
         "EN",
         7.044
        ],
        [
         890541,
         "7 Women and a Murder",
         "Mystery-Comedy",
         "IT",
         5.617
        ],
        [
         34433,
         "Dragon Ball Z: Broly – The Legendary Super Saiyan",
         "Animation-Science Fiction-Action",
         "JA",
         7.268
        ],
        [
         82690,
         "Wreck-It Ralph",
         "Family-Animation-Comedy-Adventure",
         "EN",
         7.3
        ],
        [
         718789,
         "Lightyear",
         "Animation-Action-Adventure-Family-Science Fiction",
         "EN",
         7.082
        ],
        [
         776797,
         "The Sadness",
         "Horror-Thriller",
         "ZH",
         6.744
        ],
        [
         383498,
         "Deadpool 2",
         "Action-Comedy-Adventure",
         "EN",
         7.494
        ],
        [
         898308,
         "Darby and the Dead",
         "Comedy-Fantasy",
         "EN",
         6.1
        ],
        [
         550988,
         "Free Guy",
         "Comedy-Adventure-Science Fiction",
         "EN",
         7.59
        ],
        [
         619433,
         "I Don't Like Younger Men 4",
         "Romance",
         "KO",
         5.5
        ],
        [
         214756,
         "Ted 2",
         "Comedy-Fantasy",
         "EN",
         6.3
        ],
        [
         572802,
         "Aquaman and the Lost Kingdom",
         "Action-Adventure-Fantasy",
         "EN",
         0.0
        ],
        [
         297802,
         "Aquaman",
         "Action-Adventure-Fantasy",
         "EN",
         6.898
        ],
        [
         876262,
         "Garota da Moto",
         "Action",
         "PT",
         4.889
        ],
        [
         838197,
         "...Watch Out, We're Mad",
         "Comedy-Action",
         "IT",
         5.4
        ],
        [
         724209,
         "Heart of Stone",
         "Thriller-Action",
         "EN",
         0.0
        ],
        [
         355651,
         "The Student",
         "Drama",
         "NL",
         4.9
        ],
        [
         99861,
         "Avengers: Age of Ultron",
         "Action-Adventure-Science Fiction",
         "EN",
         7.277
        ],
        [
         759507,
         "Blackout",
         "Action-Adventure-Thriller",
         "EN",
         5.464
        ],
        [
         615173,
         "The Witch: Part 2. The Other One",
         "Action-Mystery-Thriller-Science Fiction",
         "KO",
         7.1
        ],
        [
         150540,
         "Inside Out",
         "Animation-Family-Adventure-Drama-Comedy",
         "EN",
         7.92
        ],
        [
         890980,
         "God's Crooked Lines",
         "Drama-Mystery-Thriller",
         "ES",
         7.4
        ],
        [
         857,
         "Saving Private Ryan",
         "Drama-History-War",
         "EN",
         8.204
        ],
        [
         11970,
         "Hercules",
         "Animation-Family-Fantasy-Adventure-Comedy-Romance",
         "EN",
         7.507
        ],
        [
         830788,
         "The Invitation",
         "Horror-Thriller",
         "EN",
         6.339
        ],
        [
         72190,
         "World War Z",
         "Action-Drama-Horror-Science Fiction-Thriller",
         "EN",
         6.8
        ],
        [
         507903,
         "Spoiler Alert",
         "Comedy-Drama-Romance",
         "EN",
         7.5
        ],
        [
         634528,
         "The Marksman",
         "Action-Drama",
         "EN",
         6.9
        ],
        [
         728767,
         "Solar Impact",
         "Action-Fantasy-Thriller",
         "EN",
         2.7
        ],
        [
         747188,
         "Asteroid City",
         "Comedy-Drama",
         "EN",
         6.654
        ],
        [
         531219,
         "Roald Dahl's The Witches",
         "Adventure-Fantasy-Comedy-Family-Horror",
         "EN",
         6.4
        ],
        [
         492999,
         "Attack on Titan: The Roar of Awakening",
         "Animation-Action-Adventure-Fantasy",
         "JA",
         8.348
        ],
        [
         9502,
         "Kung Fu Panda",
         "Action-Adventure-Animation-Family-Comedy",
         "EN",
         7.221
        ],
        [
         781099,
         "Inexorable",
         "Thriller",
         "FR",
         5.9
        ],
        [
         166426,
         "Pirates of the Caribbean: Dead Men Tell No Tales",
         "Adventure-Action-Fantasy",
         "EN",
         6.646
        ],
        [
         7347,
         "Elite Squad",
         "Drama-Action-Crime",
         "PT",
         8.061
        ],
        [
         615777,
         "Babylon",
         "Drama-Comedy",
         "EN",
         7.489
        ],
        [
         454286,
         "God's Not Dead: A Light in Darkness",
         "Drama",
         "EN",
         7.0
        ],
        [
         834734,
         "Psychosexual",
         "Thriller",
         "ES",
         2.0
        ],
        [
         785976,
         "Pelé",
         "Documentary",
         "PT",
         7.5
        ],
        [
         791373,
         "Zack Snyder's Justice League",
         "Action-Adventure-Fantasy",
         "EN",
         8.2
        ],
        [
         620705,
         "Crater",
         "Science Fiction-Action-Adventure-Family",
         "EN",
         7.0
        ],
        [
         406759,
         "Moonfall",
         "Science Fiction-Adventure-Action",
         "EN",
         6.4
        ],
        [
         564,
         "The Mummy",
         "Adventure-Action-Fantasy",
         "EN",
         6.882
        ],
        [
         728754,
         "Stand by Me Doraemon 2",
         "Animation-Family-Science Fiction",
         "JA",
         7.7
        ],
        [
         340382,
         "Attack on Titan II: End of the World",
         "Horror-Science Fiction-Action-Fantasy",
         "JA",
         6.033
        ],
        [
         38757,
         "Tangled",
         "Animation-Family",
         "EN",
         7.6
        ],
        [
         13186,
         "Wrong Turn 2: Dead End",
         "Horror-Thriller",
         "EN",
         6.0
        ],
        [
         58428,
         "The Innkeepers",
         "Horror-Thriller",
         "EN",
         5.4
        ],
        [
         536628,
         "Megan",
         "Action-Science Fiction",
         "EN",
         6.0
        ],
        [
         367401,
         "With Aunt It's Not a Sin",
         "Comedy",
         "IT",
         6.3
        ],
        [
         474350,
         "It Chapter Two",
         "Horror-Fantasy",
         "EN",
         6.9
        ],
        [
         254128,
         "San Andreas",
         "Action-Drama-Thriller",
         "EN",
         6.207
        ],
        [
         458156,
         "John Wick: Chapter 3 - Parabellum",
         "Action-Thriller-Crime",
         "EN",
         7.446
        ],
        [
         888838,
         "The Long Dark Trail",
         "Horror",
         "EN",
         4.7
        ],
        [
         898278,
         "The Middle Ages",
         "Comedy-Drama",
         "ES",
         6.0
        ],
        [
         762504,
         "Nope",
         "Horror-Mystery-Science Fiction-Thriller",
         "EN",
         6.928
        ],
        [
         522938,
         "Rambo: Last Blood",
         "Action-Thriller-Drama",
         "EN",
         6.518
        ],
        [
         846993,
         "Goodbye, Don Glees!",
         "Animation-Adventure-Fantasy",
         "JA",
         5.714
        ],
        [
         198184,
         "Chappie",
         "Crime-Action-Science Fiction",
         "EN",
         6.778
        ],
        [
         762975,
         "Purple Hearts",
         "Romance-Drama",
         "EN",
         8.233
        ],
        [
         130925,
         "Partysaurus Rex",
         "Family-Animation-Comedy",
         "EN",
         7.2
        ],
        [
         581726,
         "Infinite",
         "Science Fiction-Action-Thriller",
         "EN",
         6.649
        ],
        [
         830784,
         "Lyle, Lyle, Crocodile",
         "Comedy-Family-Music",
         "EN",
         7.3
        ],
        [
         497698,
         "Black Widow",
         "Action-Adventure-Science Fiction",
         "EN",
         7.32
        ],
        [
         9902,
         "Wrong Turn",
         "Horror-Thriller",
         "EN",
         6.341
        ],
        [
         886912,
         "Counting Sheep",
         "Comedy-Crime",
         "ES",
         7.0
        ],
        [
         807862,
         "Peter von Kant",
         "Drama-Romance",
         "FR",
         5.583
        ],
        [
         496276,
         "Jurassic Park: Island Survival",
         "Adventure-Action",
         "EN",
         0.0
        ],
        [
         49530,
         "In Time",
         "Action-Thriller-Science Fiction",
         "EN",
         6.95
        ],
        [
         209112,
         "Batman v Superman: Dawn of Justice",
         "Action-Adventure-Fantasy",
         "EN",
         5.951
        ],
        [
         950044,
         "Wakanda",
         "Music",
         "FR",
         8.0
        ],
        [
         122,
         "The Lord of the Rings: The Return of the King",
         "Adventure-Fantasy-Action",
         "EN",
         8.5
        ],
        [
         372058,
         "Your Name.",
         "Romance-Animation-Drama",
         "JA",
         8.519
        ],
        [
         10020,
         "Beauty and the Beast",
         "Romance-Family-Animation-Fantasy",
         "EN",
         7.732
        ],
        [
         795514,
         "The Fallout",
         "Drama",
         "EN",
         7.703
        ],
        [
         23823,
         "Wrong Turn 3: Left for Dead",
         "Horror-Thriller",
         "EN",
         5.6
        ],
        [
         49051,
         "The Hobbit: An Unexpected Journey",
         "Adventure-Fantasy-Action",
         "EN",
         7.323
        ],
        [
         454626,
         "Sonic the Hedgehog",
         "Action-Science Fiction-Comedy-Family",
         "EN",
         7.352
        ],
        [
         413518,
         "Pinocchio",
         "Drama-Family-Fantasy",
         "IT",
         6.6
        ],
        [
         439079,
         "The Nun",
         "Horror-Mystery-Thriller",
         "EN",
         5.9
        ],
        [
         9637,
         "Scooby-Doo",
         "Mystery-Adventure-Comedy",
         "EN",
         6.05
        ],
        [
         550,
         "Fight Club",
         "Drama-Thriller-Comedy",
         "EN",
         8.431
        ],
        [
         346364,
         "It",
         "Horror-Fantasy",
         "EN",
         7.236
        ],
        [
         82702,
         "How to Train Your Dragon 2",
         "Fantasy-Action-Adventure-Animation-Comedy-Family",
         "EN",
         7.7
        ],
        [
         335797,
         "Sing",
         "Animation-Comedy-Family-Music",
         "EN",
         7.115
        ],
        [
         779112,
         "BTS World Tour 'Love Yourself - Speak Yourself' London",
         "Music",
         "EN",
         8.8
        ],
        [
         207703,
         "Kingsman: The Secret Service",
         "Crime-Comedy-Action-Adventure",
         "EN",
         7.637
        ],
        [
         522518,
         "A Dog's Journey",
         "Family-Adventure-Drama",
         "EN",
         8.0
        ],
        [
         47971,
         "xXx: Return of Xander Cage",
         "Action-Adventure-Crime",
         "EN",
         6.131
        ],
        [
         345938,
         "The Shack",
         "Drama-Fantasy",
         "EN",
         7.5
        ],
        [
         399566,
         "Godzilla vs. Kong",
         "Action-Fantasy-Science Fiction",
         "EN",
         7.676
        ],
        [
         299054,
         "Expend4bles",
         "Action-Adventure-Thriller",
         "EN",
         9.5
        ],
        [
         4234,
         "Scream 3",
         "Horror-Mystery",
         "EN",
         5.964
        ],
        [
         12153,
         "White Chicks",
         "Comedy-Crime",
         "EN",
         6.915
        ],
        [
         271110,
         "Captain America: Civil War",
         "Adventure-Action-Science Fiction",
         "EN",
         7.443
        ],
        [
         934601,
         "Jethica",
         "Comedy-Drama-Fantasy-Horror",
         "EN",
         5.0
        ],
        [
         676845,
         "Come Play With Me",
         "Horror",
         "ES",
         6.9
        ],
        [
         270946,
         "Penguins of Madagascar",
         "Family-Animation-Adventure-Comedy",
         "EN",
         6.514
        ],
        [
         27205,
         "Inception",
         "Action-Science Fiction-Adventure",
         "EN",
         8.361
        ],
        [
         400160,
         "The SpongeBob Movie: Sponge on the Run",
         "Family-Animation-Fantasy-Adventure-Comedy",
         "EN",
         7.545
        ],
        [
         38700,
         "Bad Boys for Life",
         "Thriller-Action-Crime",
         "EN",
         7.2
        ],
        [
         38365,
         "Grown Ups",
         "Comedy",
         "EN",
         6.352
        ],
        [
         7555,
         "Rambo",
         "Action-Thriller",
         "EN",
         6.6
        ],
        [
         848791,
         "The Stranger",
         "Crime-Drama-Mystery-Thriller",
         "EN",
         6.184
        ],
        [
         926980,
         "The Privilege",
         "Horror",
         "DE",
         5.105
        ],
        [
         497,
         "The Green Mile",
         "Fantasy-Drama-Crime",
         "EN",
         8.507
        ],
        [
         778552,
         "The Penitent Thief",
         "Drama",
         "EN",
         6.158
        ],
        [
         842675,
         "The Wandering Earth II",
         "Science Fiction-Action-Drama",
         "ZH",
         7.7
        ],
        [
         1374,
         "Rocky IV",
         "Drama",
         "EN",
         7.067
        ],
        [
         39108,
         "Dragon Ball Z: Wrath of the Dragon",
         "Animation-Action-Science Fiction",
         "JA",
         7.2
        ],
        [
         18240,
         "The Proposal",
         "Comedy-Romance-Drama",
         "EN",
         7.1
        ],
        [
         696157,
         "Whitney Houston: I Wanna Dance with Somebody",
         "Music-History-Drama",
         "EN",
         7.0
        ],
        [
         481848,
         "The Call of the Wild",
         "Adventure-Family-Drama",
         "EN",
         7.6
        ],
        [
         257344,
         "Pixels",
         "Action-Comedy-Science Fiction",
         "EN",
         5.705
        ],
        [
         929170,
         "Honor Society",
         "Comedy",
         "EN",
         7.9
        ],
        [
         685833,
         "What Happened at the Carpenter's Shop",
         "Romance",
         "KO",
         4.3
        ],
        [
         49026,
         "The Dark Knight Rises",
         "Action-Crime-Drama-Thriller",
         "EN",
         7.774
        ],
        [
         871875,
         "Escape the Undertaker",
         "Horror-Mystery-Family",
         "EN",
         5.3
        ],
        [
         522402,
         "Finch",
         "Science Fiction-Drama-Adventure",
         "EN",
         7.99
        ],
        [
         298312,
         "The Visit",
         "Mystery-Thriller-Horror",
         "EN",
         6.3
        ],
        [
         951368,
         "Your Boyfriend Is Mine",
         "Thriller-TV Movie-Action",
         "EN",
         6.6
        ],
        [
         38234,
         "Undisputed III: Redemption",
         "Action-Thriller",
         "EN",
         7.6
        ],
        [
         791348,
         "Constantine: The House of Mystery",
         "Animation-Action-Adventure-Horror",
         "EN",
         7.2
        ],
        [
         6479,
         "I Am Legend",
         "Drama-Science Fiction-Thriller",
         "EN",
         7.194
        ],
        [
         539885,
         "Ava",
         "Action-Crime-Drama-Adventure-Thriller",
         "EN",
         5.8
        ],
        [
         140300,
         "Kung Fu Panda 3",
         "Action-Adventure-Animation-Comedy-Family",
         "EN",
         6.861
        ],
        [
         721656,
         "Happy Halloween, Scooby-Doo!",
         "Family-Animation-Mystery-Comedy",
         "EN",
         7.9
        ],
        [
         938008,
         "The Killer",
         "Action-Crime",
         "KO",
         7.984
        ],
        [
         4233,
         "Scream 2",
         "Horror-Mystery",
         "EN",
         6.452
        ],
        [
         102651,
         "Maleficent",
         "Fantasy-Adventure-Action-Family-Romance",
         "EN",
         7.09
        ],
        [
         72545,
         "Journey 2: The Mysterious Island",
         "Adventure-Action-Science Fiction",
         "EN",
         6.1
        ],
        [
         129,
         "Spirited Away",
         "Animation-Family-Fantasy",
         "JA",
         8.541
        ],
        [
         953,
         "Madagascar",
         "Family-Animation-Adventure-Comedy",
         "EN",
         6.882
        ],
        [
         615469,
         "Spiderhead",
         "Science Fiction-Thriller",
         "EN",
         5.8
        ],
        [
         955644,
         "Mia and Me: The Hero of Centopia",
         "Animation-Fantasy-Adventure",
         "EN",
         7.2
        ],
        [
         559,
         "Spider-Man 3",
         "Fantasy-Action-Adventure",
         "EN",
         6.382
        ],
        [
         764835,
         "The Desperate Hour",
         "Thriller",
         "EN",
         6.096
        ],
        [
         9567,
         "Tears of the Sun",
         "War-Action-Drama",
         "EN",
         6.803
        ],
        [
         147441,
         "Exodus: Gods and Kings",
         "Adventure-Drama-Action",
         "EN",
         5.8
        ],
        [
         77877,
         "The Lucky One",
         "Drama-Romance",
         "EN",
         7.104
        ],
        [
         41446,
         "Scream 4",
         "Horror-Mystery",
         "EN",
         6.413
        ],
        [
         4248,
         "Scary Movie 2",
         "Comedy",
         "EN",
         5.779
        ],
        [
         630586,
         "Wrong Turn",
         "Horror-Thriller-Drama",
         "EN",
         6.0
        ],
        [
         268896,
         "Pacific Rim: Uprising",
         "Action-Fantasy-Science Fiction-Adventure",
         "EN",
         6.1
        ],
        [
         955991,
         "The Offering",
         "Drama-Horror",
         "EN",
         5.701
        ],
        [
         75258,
         "Secret of the Wings",
         "Animation-Family-Fantasy-Adventure",
         "EN",
         7.164
        ],
        [
         150689,
         "Cinderella",
         "Romance-Fantasy-Family-Drama",
         "EN",
         6.8
        ],
        [
         788905,
         "A un paso de mí",
         "Adventure-Comedy-Drama",
         "ES",
         7.0
        ],
        [
         495764,
         "Birds of Prey (and the Fantabulous Emancipation of One Harley Quinn)",
         "Action-Crime",
         "EN",
         6.981
        ],
        [
         9487,
         "A Bug's Life",
         "Adventure-Animation-Comedy-Family",
         "EN",
         6.967
        ],
        [
         301804,
         "Before I Wake",
         "Drama-Fantasy-Horror-Thriller",
         "EN",
         6.446
        ],
        [
         121,
         "The Lord of the Rings: The Two Towers",
         "Adventure-Fantasy-Action",
         "EN",
         8.384
        ],
        [
         49444,
         "Kung Fu Panda 2",
         "Animation-Family",
         "EN",
         6.9
        ],
        [
         397567,
         "Along with the Gods: The Two Worlds",
         "Drama-Fantasy-Action",
         "KO",
         8.1
        ],
        [
         545609,
         "Extraction",
         "Drama-Action-Thriller",
         "EN",
         7.346
        ],
        [
         667216,
         "Infinity Pool",
         "Horror-Science Fiction-Thriller",
         "EN",
         6.5
        ],
        [
         381288,
         "Split",
         "Horror-Thriller",
         "EN",
         7.331
        ],
        [
         12,
         "Finding Nemo",
         "Animation-Family",
         "EN",
         7.823
        ],
        [
         616851,
         "Untitled 'The Walking Dead' Film",
         "Adventure-Drama-Horror-Science Fiction",
         "EN",
         0.0
        ],
        [
         723072,
         "Host",
         "Horror-Thriller-Mystery",
         "EN",
         6.5
        ],
        [
         525660,
         "Dynasty Warriors",
         "Action-Adventure-Fantasy",
         "CN",
         6.2
        ],
        [
         57214,
         "Project X",
         "Comedy",
         "EN",
         6.807
        ],
        [
         870096,
         "Restart The Earth",
         "Science Fiction-Horror-Action",
         "ZH",
         6.9
        ],
        [
         760926,
         "Gold",
         "Horror-Drama",
         "EN",
         6.256
        ],
        [
         732459,
         "Blade of the 47 Ronin",
         "Fantasy",
         "EN",
         6.6
        ],
        [
         550205,
         "Wish Dragon",
         "Animation-Family-Comedy-Fantasy",
         "EN",
         8.003
        ],
        [
         280,
         "Terminator 2: Judgment Day",
         "Action-Thriller-Science Fiction",
         "EN",
         8.095
        ],
        [
         871875,
         "Escape the Undertaker",
         "Horror-Mystery-Family",
         "EN",
         5.2
        ],
        [
         22894,
         "Legion",
         "Horror-Action-Fantasy",
         "EN",
         5.813
        ],
        [
         259316,
         "Fantastic Beasts and Where to Find Them",
         "Action-Adventure-Fantasy",
         "EN",
         7.341
        ],
        [
         605886,
         "To Catch a Killer",
         "Action-Crime-Thriller-Mystery",
         "EN",
         7.077
        ],
        [
         238636,
         "The Purge: Anarchy",
         "Horror-Thriller",
         "EN",
         6.66
        ],
        [
         44251,
         "Dragon Ball Z: Broly – Second Coming",
         "Animation-Action-Science Fiction",
         "JA",
         6.7
        ],
        [
         10607,
         "Don't Be a Menace to South Central While Drinking Your Juice in the Hood",
         "Comedy",
         "EN",
         6.976
        ],
        [
         476669,
         "The King's Man",
         "Action-Adventure-Thriller-War-Mystery",
         "EN",
         6.824
        ],
        [
         894205,
         "Werewolf by Night",
         "Action-Fantasy-Horror-TV Movie",
         "EN",
         7.1
        ],
        [
         840789,
         "Matadero",
         "Drama",
         "ES",
         3.0
        ],
        [
         803114,
         "The Requin",
         "Thriller-Horror",
         "EN",
         5.0
        ],
        [
         900667,
         "One Piece Film Red",
         "Animation-Adventure-Action-Fantasy",
         "JA",
         7.414
        ],
        [
         10191,
         "How to Train Your Dragon",
         "Fantasy-Adventure-Animation-Family",
         "EN",
         7.8
        ],
        [
         800510,
         "Kimi",
         "Thriller",
         "EN",
         6.2
        ],
        [
         643215,
         "Asterix & Obelix: The Middle Kingdom",
         "Comedy-Adventure-Family",
         "FR",
         4.894
        ],
        [
         372519,
         "The Ten Commandments: The Movie",
         "Drama",
         "PT",
         7.2
        ],
        [
         420821,
         "Chip 'n Dale: Rescue Rangers",
         "Animation-Family-Comedy-Adventure-Mystery",
         "EN",
         7.0
        ],
        [
         343668,
         "Kingsman: The Golden Circle",
         "Action-Adventure-Comedy",
         "EN",
         6.979
        ],
        [
         943533,
         "Stalked by a Prince",
         "Thriller-TV Movie",
         "EN",
         4.0
        ],
        [
         14161,
         "2012",
         "Action-Adventure-Science Fiction",
         "EN",
         5.808
        ],
        [
         141052,
         "Justice League",
         "Action-Adventure-Science Fiction",
         "EN",
         6.101
        ],
        [
         823625,
         "Blacklight",
         "Action-Thriller",
         "EN",
         6.3
        ],
        [
         293167,
         "Kong: Skull Island",
         "Action-Adventure-Fantasy",
         "EN",
         6.508
        ],
        [
         458576,
         "Monster Hunter",
         "Action-Fantasy-Adventure",
         "EN",
         6.7
        ],
        [
         606402,
         "Yaksha: Ruthless Operations",
         "Action-Adventure-Crime-Thriller",
         "KO",
         6.4
        ],
        [
         632727,
         "Texas Chainsaw Massacre",
         "Horror-Thriller",
         "EN",
         5.2
        ],
        [
         843633,
         "White Elephant",
         "Action-Crime-Thriller",
         "EN",
         6.4
        ],
        [
         920,
         "Cars",
         "Animation-Adventure-Comedy-Family",
         "EN",
         6.9
        ],
        [
         260346,
         "Taken 3",
         "Thriller-Action",
         "EN",
         6.229
        ],
        [
         35,
         "The Simpsons Movie",
         "Animation-Comedy-Family",
         "EN",
         6.995
        ],
        [
         9023,
         "Spirit: Stallion of the Cimarron",
         "Western-Animation-Adventure-Comedy-Family-Drama",
         "EN",
         7.692
        ],
        [
         897424,
         "Dark Cloud",
         "Science Fiction-Horror-Mystery-Thriller",
         "EN",
         6.5
        ],
        [
         109418,
         "Grown Ups 2",
         "Comedy",
         "EN",
         6.107
        ],
        [
         575249,
         "Dragon Ball Z: The Real 4-D at Super Tenkaichi Budokai",
         "Action-Animation-Adventure",
         "JA",
         6.5
        ],
        [
         83201,
         "Puss in Boots: The Three Diablos",
         "Adventure-Animation-Comedy-Family",
         "EN",
         6.571
        ],
        [
         80321,
         "Madagascar 3: Europe's Most Wanted",
         "Animation-Family-Comedy-Adventure",
         "EN",
         6.6
        ],
        [
         109439,
         "The Hangover Part III",
         "Comedy",
         "EN",
         6.213
        ],
        [
         555285,
         "Are You There God? It's Me, Margaret.",
         "Comedy-Drama",
         "EN",
         7.1
        ],
        [
         695568,
         "Finding Grace",
         "Drama",
         "EN",
         6.3
        ],
        [
         667276,
         "Legend Quest: The Origin",
         "Animation-Comedy-Fantasy-Adventure-Family",
         "ES",
         8.3
        ],
        [
         298094,
         "Hidden Desire",
         "Romance-Drama",
         "CN",
         4.0
        ],
        [
         181808,
         "Star Wars: The Last Jedi",
         "Adventure-Action-Science Fiction",
         "EN",
         6.842
        ],
        [
         39323,
         "Dragon Ball Z: Bardock - The Father of Goku",
         "Animation-Action-Science Fiction-Drama-Fantasy",
         "JA",
         7.5
        ],
        [
         337401,
         "Mulan",
         "Adventure-Fantasy-Drama-Action",
         "EN",
         6.915
        ],
        [
         60898,
         "Erotic Ghost Story",
         "Fantasy-Drama-Horror",
         "CN",
         5.9
        ],
        [
         916605,
         "The Infernal Machine",
         "Thriller-Mystery",
         "EN",
         6.5
        ],
        [
         193893,
         "Let's Be Cops",
         "Comedy",
         "EN",
         6.5
        ],
        [
         49521,
         "Man of Steel",
         "Action-Adventure-Science Fiction",
         "EN",
         6.608
        ],
        [
         10193,
         "Toy Story 3",
         "Animation-Family-Comedy",
         "EN",
         7.791
        ],
        [
         619778,
         "Malignant",
         "Horror-Mystery-Thriller",
         "EN",
         6.865
        ],
        [
         301528,
         "Toy Story 4",
         "Family-Adventure-Animation-Comedy-Fantasy",
         "EN",
         7.536
        ],
        [
         842033,
         "Ghost Mansion",
         "Horror",
         "KO",
         7.429
        ],
        [
         82675,
         "Taken 2",
         "Action-Crime-Thriller",
         "EN",
         6.331
        ],
        [
         848526,
         "Family Game",
         "Thriller-Drama",
         "FR",
         5.5
        ],
        [
         722149,
         "Luther: The Fallen Sun",
         "Thriller-Crime-Action-Drama",
         "EN",
         7.129
        ],
        [
         263115,
         "Logan",
         "Action-Drama-Science Fiction",
         "EN",
         7.815
        ],
        [
         806368,
         "The Son",
         "Drama",
         "EN",
         6.599
        ],
        [
         427641,
         "Rampage",
         "Action-Adventure-Science Fiction",
         "EN",
         6.4
        ],
        [
         758724,
         "The Cellar",
         "Horror-Mystery",
         "EN",
         6.7
        ],
        [
         245891,
         "John Wick",
         "Action-Thriller",
         "EN",
         7.418
        ],
        [
         105,
         "Back to the Future",
         "Adventure-Comedy-Science Fiction",
         "EN",
         8.309
        ],
        [
         15092,
         "Crank: High Voltage",
         "Action-Thriller-Crime",
         "EN",
         6.033
        ],
        [
         932430,
         "Prom Pact",
         "Romance-Comedy",
         "EN",
         7.379
        ],
        [
         3170,
         "Bambi",
         "Animation-Drama-Family",
         "EN",
         7.003
        ],
        [
         451048,
         "Jungle Cruise",
         "Action-Adventure-Fantasy",
         "EN",
         7.442
        ],
        [
         43549,
         "The Experiment",
         "Thriller-Drama",
         "EN",
         6.4
        ],
        [
         8363,
         "Superbad",
         "Comedy",
         "EN",
         7.206
        ],
        [
         852606,
         "WWE WrestleMania 39 Sunday",
         "Action-Family",
         "EN",
         7.2
        ],
        [
         18095,
         "Dragon Ball GT: A Hero's Legacy",
         "Animation-Family-Fantasy",
         "JA",
         6.746
        ],
        [
         378064,
         "A Silent Voice: The Movie",
         "Animation-Drama",
         "JA",
         8.4
        ],
        [
         848326,
         "Rebel Moon Part One: A Child of Fire",
         "Action-Science Fiction-Adventure",
         "EN",
         0.0
        ],
        [
         640,
         "Catch Me If You Can",
         "Drama-Crime",
         "EN",
         7.966
        ],
        [
         892068,
         "The Kids Are Alright 2",
         "Comedy-Family",
         "ES",
         7.8
        ],
        [
         43552,
         "Vanishing on 7th Street",
         "Mystery-Horror-Thriller",
         "EN",
         5.327
        ],
        [
         111,
         "Scarface",
         "Action-Crime-Drama",
         "EN",
         8.165
        ],
        [
         825808,
         "See for Me",
         "Thriller",
         "EN",
         6.2
        ],
        [
         242,
         "The Godfather Part III",
         "Crime-Drama-Thriller",
         "EN",
         7.4
        ],
        [
         772071,
         "Cuando Sea Joven",
         "Comedy-Fantasy",
         "ES",
         8.834
        ],
        [
         809314,
         "Trigger Point",
         "Action-Thriller",
         "EN",
         6.4
        ],
        [
         680,
         "Pulp Fiction",
         "Thriller-Crime",
         "EN",
         8.489
        ],
        [
         588108,
         "Hansan: Rising Dragon",
         "History-Action-Drama-War",
         "KO",
         7.2
        ],
        [
         1359,
         "American Psycho",
         "Thriller-Drama-Crime",
         "EN",
         7.39
        ],
        [
         512200,
         "Jumanji: The Next Level",
         "Adventure-Comedy-Fantasy",
         "EN",
         6.9
        ],
        [
         12429,
         "Ponyo",
         "Animation-Fantasy-Family",
         "JA",
         7.7
        ],
        [
         71672,
         "Wrong Turn 4: Bloody Beginnings",
         "Horror-Thriller",
         "EN",
         5.731
        ],
        [
         814608,
         "The Belly of the Sea",
         "Drama",
         "ES",
         4.0
        ],
        [
         934957,
         "The Darker the Lake",
         "Crime-Thriller-Mystery",
         "EN",
         5.5
        ],
        [
         812,
         "Aladdin",
         "Animation-Family-Adventure-Fantasy-Romance",
         "EN",
         7.645
        ],
        [
         335983,
         "Venom",
         "Science Fiction-Action",
         "EN",
         6.827
        ],
        [
         49529,
         "John Carter",
         "Action-Adventure-Science Fiction",
         "EN",
         6.3
        ],
        [
         571891,
         "Pokemon the Movie: Mewtwo Strikes Back - Evolution",
         "Animation-Adventure-Fantasy-Action-Family",
         "JA",
         6.68
        ],
        [
         769466,
         "One Year, One Night",
         "Drama",
         "FR",
         6.6
        ],
        [
         68718,
         "Django Unchained",
         "Drama-Western",
         "EN",
         8.161
        ],
        [
         1369,
         "Rambo: First Blood Part II",
         "Action-Adventure-Thriller-War",
         "EN",
         6.6
        ],
        [
         37135,
         "Tarzan",
         "Family-Adventure-Animation-Drama",
         "EN",
         7.4
        ],
        [
         849177,
         "Seasons",
         "Drama-Romance",
         "TL",
         8.5
        ],
        [
         45243,
         "The Hangover Part II",
         "Comedy",
         "EN",
         6.456
        ],
        [
         452607,
         "Sonic Maskarada",
         "Family-Animation",
         "PL",
         10.0
        ],
        [
         489150,
         "Young Sister-in-Law 3",
         "Romance",
         "KO",
         1.0
        ],
        [
         62177,
         "Brave",
         "Animation-Adventure-Comedy-Family-Action-Fantasy",
         "EN",
         7.006
        ],
        [
         862551,
         "Me Time",
         "Comedy",
         "EN",
         5.968
        ],
        [
         603,
         "The Matrix",
         "Action-Science Fiction",
         "EN",
         8.202
        ],
        [
         949,
         "Heat",
         "Action-Crime-Drama-Thriller",
         "EN",
         7.903
        ],
        [
         647250,
         "The Machine",
         "Comedy-Action-Crime",
         "EN",
         6.167
        ],
        [
         126889,
         "Alien: Covenant",
         "Science Fiction-Horror-Mystery",
         "EN",
         6.1
        ],
        [
         805320,
         "Bird Box Barcelona",
         "Thriller-Horror",
         "ES",
         0.0
        ],
        [
         705861,
         "Hustle",
         "Drama-Comedy",
         "EN",
         7.823
        ],
        [
         887357,
         "Green Lantern: Beware My Power",
         "Animation-Action-Science Fiction",
         "EN",
         7.0
        ],
        [
         16869,
         "Inglourious Basterds",
         "Drama-Thriller-War",
         "EN",
         8.216
        ],
        [
         721173,
         "Good Mother 3",
         "Romance",
         "KO",
         3.5
        ],
        [
         49519,
         "The Croods",
         "Animation-Adventure-Family-Fantasy-Comedy-Action",
         "EN",
         6.915
        ],
        [
         1734,
         "The Mummy Returns",
         "Adventure-Action-Fantasy",
         "EN",
         6.328
        ],
        [
         814608,
         "The Belly of the Sea",
         "Drama",
         "ES",
         4.0
        ],
        [
         9732,
         "The Lion King II: Simba's Pride",
         "Family-Adventure-Animation-Action",
         "EN",
         6.9
        ],
        [
         404250,
         "Zatch Bell! 101st Devil",
         "Comedy-Animation-Adventure-Action",
         "JA",
         7.205
        ],
        [
         366799,
         "Exorcismo Documentado",
         "Horror",
         "ES",
         7.1
        ],
        [
         9806,
         "The Incredibles",
         "Action-Adventure-Animation-Family",
         "EN",
         7.7
        ],
        [
         554751,
         "Chief of Chiefs",
         "Documentary",
         "ES",
         7.6
        ],
        [
         177677,
         "Mission: Impossible - Rogue Nation",
         "Action-Adventure",
         "EN",
         7.189
        ],
        [
         409502,
         "I'm Not Ashamed",
         "Drama",
         "EN",
         7.5
        ],
        [
         632357,
         "The Unholy",
         "Horror-Mystery",
         "EN",
         6.718
        ],
        [
         892527,
         "King",
         "Adventure-Comedy-Family",
         "FR",
         6.6
        ],
        [
         648990,
         "La Casa",
         "Horror",
         "ES",
         6.3
        ],
        [
         50546,
         "Just Go with It",
         "Comedy-Romance",
         "EN",
         6.668
        ],
        [
         893338,
         "Gatlopp: Hell of a Game",
         "Comedy-Horror",
         "EN",
         5.643
        ],
        [
         568091,
         "Fractured",
         "Thriller",
         "EN",
         6.716
        ],
        [
         421892,
         "Shrek 5",
         "Animation-Family-Comedy-Fantasy",
         "EN",
         0.0
        ],
        [
         424,
         "Schindler's List",
         "Drama-History-War",
         "EN",
         8.572
        ],
        [
         85,
         "Raiders of the Lost Ark",
         "Adventure-Action",
         "EN",
         7.922
        ],
        [
         763285,
         "Ambulance",
         "Thriller",
         "EN",
         6.8
        ],
        [
         175112,
         "Tinker Bell and the Pirate Fairy",
         "Animation-Family",
         "EN",
         6.885
        ],
        [
         788905,
         "A un paso de mí",
         "Adventure-Comedy-Drama",
         "ES",
         7.0
        ],
        [
         118406,
         "Road to Ninja: Naruto the Movie",
         "Animation-Fantasy-Action",
         "JA",
         7.6
        ],
        [
         532408,
         "The Boogeyman",
         "Horror-Mystery",
         "EN",
         6.0
        ],
        [
         956,
         "Mission: Impossible III",
         "Adventure-Action-Thriller",
         "EN",
         6.707
        ],
        [
         10527,
         "Madagascar: Escape 2 Africa",
         "Family-Adventure-Animation-Comedy",
         "EN",
         6.471
        ],
        [
         4705,
         "The Sensuous Nurse",
         "Comedy",
         "IT",
         5.6
        ],
        [
         57158,
         "The Hobbit: The Desolation of Smaug",
         "Fantasy-Adventure-Action",
         "EN",
         7.569
        ],
        [
         20352,
         "Despicable Me",
         "Family-Animation-Comedy-Crime",
         "EN",
         7.225
        ],
        [
         457332,
         "Hidden Strike",
         "Action-Adventure-Thriller",
         "EN",
         0.0
        ],
        [
         46195,
         "Rio",
         "Animation-Adventure-Comedy-Family",
         "EN",
         6.7
        ],
        [
         602223,
         "The Forever Purge",
         "Horror-Action-Thriller",
         "EN",
         7.116
        ],
        [
         1367,
         "Rocky II",
         "Drama",
         "EN",
         7.2
        ],
        [
         293863,
         "The Age of Adaline",
         "Romance-Fantasy-Drama",
         "EN",
         7.5
        ],
        [
         704264,
         "Primal: Tales of Savagery",
         "Action-Adventure-Animation-Drama",
         "EN",
         8.383
        ],
        [
         805411,
         "Descendants: The Royal Wedding",
         "Animation-TV Movie-Comedy-Family-Drama",
         "EN",
         6.9
        ],
        [
         773975,
         "End of the Road",
         "Thriller-Drama-Crime",
         "EN",
         6.2
        ],
        [
         754934,
         "Son",
         "Horror-Thriller",
         "EN",
         6.1
        ],
        [
         404368,
         "Ralph Breaks the Internet",
         "Family-Animation-Comedy-Adventure",
         "EN",
         7.214
        ],
        [
         72331,
         "Abraham Lincoln: Vampire Hunter",
         "Action-Fantasy-Horror",
         "EN",
         5.675
        ],
        [
         546554,
         "Knives Out",
         "Comedy-Crime-Mystery",
         "EN",
         7.853
        ],
        [
         829920,
         "Fate/Grand Order Final Singularity – Grand Temple of Time: Solomon",
         "Animation-Action-Adventure-Fantasy",
         "JA",
         6.9
        ],
        [
         843906,
         "Straight Outta Nowhere: Scooby-Doo! Meets Courage the Cowardly Dog",
         "Animation-Comedy-Mystery-Family-Fantasy",
         "EN",
         8.0
        ],
        [
         835739,
         "Super Monsters: Once Upon a Rhyme",
         "Animation",
         "EN",
         6.3
        ],
        [
         297762,
         "Wonder Woman",
         "Action-Adventure-Fantasy",
         "EN",
         7.24
        ],
        [
         307081,
         "Southpaw",
         "Action-Drama",
         "EN",
         7.356
        ],
        [
         72105,
         "Ted",
         "Comedy-Fantasy",
         "EN",
         6.392
        ],
        [
         13179,
         "Tinker Bell",
         "Animation-Family-Adventure-Fantasy",
         "EN",
         6.8
        ],
        [
         423204,
         "Angel Has Fallen",
         "Action-Thriller",
         "EN",
         6.536
        ],
        [
         800741,
         "She's the One",
         "Comedy-Romance-Fantasy",
         "IT",
         6.0
        ],
        [
         106,
         "Predator",
         "Science Fiction-Action-Adventure-Thriller",
         "EN",
         7.492
        ],
        [
         185665,
         "Secretary Rope Discipline",
         "Drama",
         "JA",
         1.5
        ],
        [
         14199,
         "The Adventures of Sharkboy and Lavagirl",
         "Adventure-Family-Science Fiction",
         "EN",
         5.128
        ],
        [
         926899,
         "The House",
         "Animation-Drama-Comedy-Horror-Fantasy",
         "EN",
         7.1
        ],
        [
         412117,
         "The Secret Life of Pets 2",
         "Adventure-Animation-Comedy-Family",
         "EN",
         7.0
        ],
        [
         864370,
         "Incantation",
         "Horror",
         "ZH",
         6.921
        ],
        [
         140607,
         "Star Wars: The Force Awakens",
         "Adventure-Action-Science Fiction-Fantasy",
         "EN",
         7.303
        ],
        [
         61791,
         "Rise of the Planet of the Apes",
         "Thriller-Action-Drama-Science Fiction",
         "EN",
         7.3
        ],
        [
         452073,
         "Young Sister-In-Law 2",
         "Romance",
         "KO",
         5.3
        ],
        [
         886755,
         "The Substitute",
         "Drama-Crime",
         "ES",
         6.6
        ],
        [
         481084,
         "The Addams Family",
         "Family-Animation-Comedy-Fantasy-Horror",
         "EN",
         6.6
        ],
        [
         210577,
         "Gone Girl",
         "Mystery-Thriller-Drama",
         "EN",
         7.892
        ],
        [
         57800,
         "Ice Age: Continental Drift",
         "Animation-Comedy-Adventure-Family",
         "EN",
         6.3
        ],
        [
         112355,
         "What the Peeper Saw",
         "Horror-Drama-Thriller",
         "IT",
         5.9
        ],
        [
         568620,
         "Snake Eyes: G.I. Joe Origins",
         "Action-Adventure",
         "EN",
         6.6
        ],
        [
         662708,
         "Pokémon the Movie: Secrets of the Jungle",
         "Animation-Adventure-Family-Science Fiction-Action-Fantasy",
         "JA",
         7.034
        ],
        [
         77338,
         "The Intouchables",
         "Drama-Comedy",
         "FR",
         8.275
        ],
        [
         506574,
         "Descendants 3",
         "Family-TV Movie-Music-Adventure-Fantasy",
         "EN",
         7.785
        ],
        [
         643274,
         "Beauty Salon: Special Service 3",
         "Romance",
         "KO",
         6.7
        ],
        [
         240,
         "The Godfather Part II",
         "Drama-Crime",
         "EN",
         8.598
        ],
        [
         396535,
         "Train to Busan",
         "Horror-Thriller-Adventure-Action",
         "KO",
         7.761
        ],
        [
         9479,
         "The Nightmare Before Christmas",
         "Fantasy-Animation-Family",
         "EN",
         7.839
        ],
        [
         11351,
         "Jeepers Creepers 2",
         "Horror",
         "EN",
         6.1
        ],
        [
         15165,
         "Barbie as The Princess & the Pauper",
         "Animation-Family-Comedy",
         "EN",
         7.5
        ],
        [
         637,
         "Life Is Beautiful",
         "Comedy-Drama",
         "IT",
         8.456
        ],
        [
         890656,
         "Fistful of Vengeance",
         "Action-Fantasy",
         "EN",
         5.623
        ],
        [
         720026,
         "Butchers",
         "Horror",
         "EN",
         4.977
        ],
        [
         850871,
         "Sayen",
         "Thriller-Action",
         "ES",
         6.375
        ],
        [
         718867,
         "The Larva Island Movie",
         "Animation-Family",
         "EN",
         7.2
        ],
        [
         527641,
         "Five Feet Apart",
         "Romance-Drama",
         "EN",
         8.302
        ],
        [
         801335,
         "Girl in the Basement",
         "Crime-Thriller-TV Movie",
         "EN",
         7.823
        ],
        [
         22832,
         "Ninja Assassin",
         "Action-Thriller",
         "EN",
         6.53
        ],
        [
         425909,
         "Ghostbusters: Afterlife",
         "Fantasy-Comedy-Adventure",
         "EN",
         7.503
        ],
        [
         595172,
         "The Pilgrim's Progress",
         "Animation-Adventure",
         "EN",
         7.7
        ],
        [
         259694,
         "How to Be Single",
         "Comedy-Romance",
         "EN",
         6.2
        ],
        [
         698320,
         "The Mad Hatter",
         "Horror-Thriller",
         "EN",
         5.8
        ],
        [
         611812,
         "Delicious Room Salon Service",
         "Romance",
         "KO",
         6.0
        ],
        [
         791333,
         "Four's a Crowd",
         "Comedy",
         "ES",
         4.0
        ],
        [
         714339,
         "On the Fringe",
         "Drama",
         "ES",
         7.2
        ],
        [
         705996,
         "Decision to Leave",
         "Thriller-Crime-Mystery-Drama-Romance",
         "KO",
         7.412
        ],
        [
         558144,
         "Deadpool: No Good Deed",
         "Action-Comedy-Crime",
         "EN",
         7.2
        ],
        [
         481880,
         "Trial by Fire",
         "Drama-Crime",
         "EN",
         6.8
        ],
        [
         260513,
         "Incredibles 2",
         "Action-Adventure-Animation-Family",
         "EN",
         7.491
        ],
        [
         81774,
         "Exploits of a Young Don Juan",
         "Comedy-Drama",
         "FR",
         5.7
        ],
        [
         489430,
         "Terrified",
         "Horror",
         "ES",
         6.6
        ],
        [
         109428,
         "Evil Dead",
         "Horror",
         "EN",
         6.5
        ],
        [
         559800,
         "Dragon Ball Z: The Real 4-D",
         "Adventure-Animation-Comedy",
         "JA",
         7.7
        ],
        [
         587807,
         "Tom & Jerry",
         "Comedy-Family-Animation",
         "EN",
         6.9
        ],
        [
         2758,
         "Addams Family Values",
         "Comedy-Family-Fantasy",
         "EN",
         6.9
        ],
        [
         698320,
         "The Mad Hatter",
         "Horror-Thriller",
         "EN",
         5.8
        ],
        [
         576925,
         "My Sweet Monster",
         "Animation-Adventure-Family",
         "RU",
         6.5
        ],
        [
         846094,
         "The Womb",
         "Drama-Horror-Mystery",
         "ID",
         6.9
        ],
        [
         894169,
         "Vendetta",
         "Action",
         "EN",
         6.2
        ],
        [
         561,
         "Constantine",
         "Fantasy-Action-Horror",
         "EN",
         7.0
        ],
        [
         913205,
         "Teen Titans Go! & DC Super Hero Girls: Mayhem in the Multiverse",
         "Animation-Action-Comedy",
         "EN",
         6.9
        ],
        [
         10009,
         "Brother Bear",
         "Adventure-Animation-Family",
         "EN",
         7.254
        ],
        [
         299963,
         "Dragon Ball Z: Gather Together! Goku's World",
         "Action-Animation-Adventure",
         "JA",
         7.2
        ],
        [
         62211,
         "Monsters University",
         "Animation-Family",
         "EN",
         7.0
        ],
        [
         628878,
         "Panama",
         "Thriller",
         "EN",
         5.4
        ],
        [
         760099,
         "Living",
         "Drama",
         "EN",
         7.118
        ],
        [
         128785,
         "Calendar Girl, Cop, Killer? The Bambi Bembenek Story",
         null,
         "EN",
         2.0
        ],
        [
         24752,
         "Dragon Ball Z: Cooler's Revenge",
         "Action-Animation-Science Fiction",
         "JA",
         6.9
        ],
        [
         296099,
         "Vacation",
         "Comedy",
         "EN",
         6.3
        ],
        [
         11249,
         "Seed of Chucky",
         "Comedy-Horror-Thriller",
         "EN",
         5.423
        ],
        [
         10681,
         "WALL·E",
         "Animation-Family-Science Fiction",
         "EN",
         8.075
        ],
        [
         373571,
         "Godzilla: King of the Monsters",
         "Science Fiction-Action",
         "EN",
         6.667
        ],
        [
         630004,
         "The Vault",
         "Crime-Action-Thriller",
         "EN",
         6.9
        ],
        [
         346672,
         "Underworld: Blood Wars",
         "Fantasy-Action-Thriller-Horror",
         "EN",
         5.8
        ],
        [
         11036,
         "The Notebook",
         "Romance-Drama",
         "EN",
         7.9
        ],
        [
         489,
         "Good Will Hunting",
         "Drama",
         "EN",
         8.146
        ],
        [
         821881,
         "The Swimmers",
         "Drama-History",
         "EN",
         7.536
        ],
        [
         629015,
         "Shut In",
         "Thriller-Horror-Drama",
         "EN",
         7.1
        ],
        [
         9325,
         "The Jungle Book",
         "Family-Animation-Adventure",
         "EN",
         7.282
        ],
        [
         855,
         "Black Hawk Down",
         "Action-History-War",
         "EN",
         7.369
        ],
        [
         189349,
         "Chunin Exam on Fire! and Naruto vs. Konohamaru!",
         "Animation-Action",
         "JA",
         6.9
        ],
        [
         959112,
         "Neige",
         "Crime-Thriller-TV Movie",
         "FR",
         5.625
        ],
        [
         741074,
         "Once Upon a Snowman",
         "Animation-Family-Comedy-Fantasy",
         "EN",
         6.9
        ],
        [
         679,
         "Aliens",
         "Action-Thriller-Science Fiction",
         "EN",
         7.9
        ],
        [
         823766,
         "The Wonder",
         "Drama-Mystery",
         "EN",
         6.661
        ],
        [
         8922,
         "Jeepers Creepers",
         "Horror-Thriller",
         "EN",
         6.444
        ],
        [
         496243,
         "Parasite",
         "Comedy-Thriller-Drama",
         "KO",
         8.5
        ],
        [
         1579,
         "Apocalypto",
         "Action-Drama-History",
         "EN",
         7.548
        ],
        [
         785985,
         "The Takedown",
         "Comedy-Action",
         "FR",
         6.1
        ],
        [
         44912,
         "Green Lantern",
         "Adventure-Action-Thriller-Science Fiction",
         "EN",
         5.2
        ],
        [
         78049,
         "The Scorpion King 3: Battle for Redemption",
         "Action-Adventure-Fantasy-Drama",
         "EN",
         4.546
        ],
        [
         4256,
         "Scary Movie 3",
         "Comedy",
         "EN",
         5.986
        ],
        [
         764,
         "The Evil Dead",
         "Horror",
         "EN",
         7.304
        ],
        [
         672322,
         "Rurouni Kenshin: The Beginning",
         "Action-Adventure-Drama",
         "JA",
         7.688
        ],
        [
         1724,
         "The Incredible Hulk",
         "Science Fiction-Action-Adventure",
         "EN",
         6.204
        ],
        [
         771709,
         "Cuando te veo palpito",
         null,
         "ES",
         5.0
        ],
        [
         39103,
         "Dragon Ball Z: The Return of Cooler",
         "Action-Animation-Science Fiction",
         "JA",
         6.623
        ],
        [
         18823,
         "Clash of the Titans",
         "Adventure-Fantasy-Action",
         "EN",
         5.9
        ],
        [
         950,
         "Ice Age: The Meltdown",
         "Animation-Family-Comedy-Adventure",
         "EN",
         6.7
        ],
        [
         232672,
         "Blended",
         "Comedy",
         "EN",
         6.853
        ],
        [
         714888,
         "Argentina, 1985",
         "Drama-History",
         "ES",
         8.073
        ],
        [
         521029,
         "Annabelle Comes Home",
         "Horror-Mystery-Thriller",
         "EN",
         6.433
        ],
        [
         300671,
         "13 Hours: The Secret Soldiers of Benghazi",
         "War-Action-History-Drama",
         "EN",
         7.3
        ],
        [
         400928,
         "Gifted",
         "Drama-Comedy",
         "EN",
         8.0
        ],
        [
         589082,
         "Twilight",
         "Animation-Drama",
         "JA",
         6.5
        ],
        [
         893246,
         "El tiempo del no tiempo",
         "Documentary",
         "ES",
         2.0
        ],
        [
         8960,
         "Hancock",
         "Fantasy-Action",
         "EN",
         6.343
        ],
        [
         290098,
         "The Handmaiden",
         "Thriller-Drama-Romance",
         "KO",
         8.245
        ],
        [
         172385,
         "Rio 2",
         "Adventure-Animation-Comedy-Family",
         "EN",
         6.5
        ],
        [
         619730,
         "Don't Worry Darling",
         "Thriller-Mystery-Science Fiction",
         "EN",
         6.858
        ],
        [
         332562,
         "A Star Is Born",
         "Music-Drama-Romance",
         "EN",
         7.505
        ],
        [
         9552,
         "The Exorcist",
         "Horror",
         "EN",
         7.7
        ],
        [
         391757,
         "Never Back Down: No Surrender",
         "Drama-Action",
         "EN",
         7.0
        ],
        [
         638134,
         "Pets United",
         "Animation-Family-Adventure-Comedy",
         "EN",
         5.9
        ],
        [
         619803,
         "The Roundup",
         "Action-Crime",
         "KO",
         7.2
        ],
        [
         71676,
         "Ghost Rider: Spirit of Vengeance",
         "Action-Fantasy-Thriller",
         "EN",
         5.007
        ],
        [
         783675,
         "The First Slam Dunk",
         "Animation-Comedy-Drama",
         "JA",
         8.106
        ],
        [
         518068,
         "Along with the Gods: The Last 49 Days",
         "Fantasy-Action-Adventure",
         "KO",
         8.226
        ],
        [
         6844,
         "The Ten Commandments",
         "Drama-History",
         "EN",
         7.7
        ],
        [
         893941,
         "Misfit",
         "Comedy-Romance",
         "ES",
         8.1
        ],
        [
         554596,
         "No Manches Frida 2",
         "Comedy",
         "ES",
         8.0
        ],
        [
         60304,
         "Hansel & Gretel: Witch Hunters",
         "Fantasy-Horror-Action",
         "EN",
         6.014
        ],
        [
         345940,
         "The Meg",
         "Action-Science Fiction-Horror",
         "EN",
         6.211
        ],
        [
         8355,
         "Ice Age: Dawn of the Dinosaurs",
         "Animation-Comedy-Family-Adventure",
         "EN",
         6.735
        ],
        [
         296271,
         "The Devil Conspiracy",
         "Horror-Thriller",
         "EN",
         6.5
        ],
        [
         843380,
         "Dead for a Dollar",
         "Western-Thriller",
         "EN",
         5.7
        ],
        [
         21208,
         "Orphan",
         "Horror-Thriller-Mystery",
         "EN",
         6.994
        ],
        [
         11430,
         "The Lion King 1½",
         "Family-Animation-Comedy-Action",
         "EN",
         6.6
        ],
        [
         1265,
         "Bridge to Terabithia",
         "Adventure-Drama-Family",
         "EN",
         7.28
        ],
        [
         788905,
         "A un paso de mí",
         "Adventure-Comedy-Drama",
         "ES",
         7.0
        ]
       ],
       "datasetInfos": [],
       "dbfsResultPath": null,
       "isJsonSchema": true,
       "metadata": {},
       "overflow": false,
       "plotOptions": {
        "customPlotOptions": {},
        "displayType": "table",
        "pivotAggregation": null,
        "pivotColumns": null,
        "xColumns": null,
        "yColumns": null
       },
       "removedWidgets": [],
       "schema": [
        {
         "metadata": "{}",
         "name": "Movie_ID",
         "type": "\"long\""
        },
        {
         "metadata": "{}",
         "name": "Movie_Title",
         "type": "\"string\""
        },
        {
         "metadata": "{}",
         "name": "Genres",
         "type": "\"string\""
        },
        {
         "metadata": "{}",
         "name": "Original_Language",
         "type": "\"string\""
        },
        {
         "metadata": "{}",
         "name": "Vote_Average",
         "type": "\"double\""
        }
       ],
       "type": "table"
      }
     },
     "output_type": "display_data"
    }
   ],
   "source": [
    "-- Display the contents of the \"movies_transformed\" table from the user-specific catalog of the example schema\n",
    "SELECT * \n",
    "FROM movies_transformed;"
   ]
  },
  {
   "cell_type": "markdown",
   "metadata": {
    "application/vnd.databricks.v1+cell": {
     "cellMetadata": {},
     "inputWidgets": {},
     "nuid": "beeeeaa5-87ae-43c8-b0b3-567e1653de2d",
     "showTitle": false,
     "tableResultSettingsMap": {},
     "title": ""
    }
   },
   "source": [
    "\n",
    "### D2 Upgrade External Tables in Hive Metastore to External Tables in Unity Catalog\n",
    "\n",
    "**NOTE: This lab environment does not have access to external tables. This is an example of what you can do in your environment.**\n",
    "\n",
    "We have seen approaches that involve moving table data from wherever it is currently to the Unity Catalog metastore. However, in upgrading external tables, some use cases may call for leaving the data in place. For example:\n",
    "* Data location is dictated by an internal or regulatory requirement of some sort\n",
    "* Cannot change the data format to Delta\n",
    "* Outside writers must be able to modify the data\n",
    "* Avoiding time and/or cost of moving large datasets\n",
    "\n",
    "Note the following constraints for this approach:\n",
    "\n",
    "* Source table must be an external table\n",
    "* There must be a storage credential referencing the storage container where the source table data resides\n",
    "\n",
    "In this section, we cover two different options that will upgrade to an external table without moving any table data."
   ]
  },
  {
   "cell_type": "markdown",
   "metadata": {
    "application/vnd.databricks.v1+cell": {
     "cellMetadata": {},
     "inputWidgets": {},
     "nuid": "b1f28ecb-688b-4ee5-8829-18f682443577",
     "showTitle": false,
     "tableResultSettingsMap": {},
     "title": ""
    }
   },
   "source": [
    "#### D2.1 Using SYNC to Export Hive External Tables to Unity Catalog\n",
    "\n",
    "The **`SYNC`** SQL command allows us to upgrade **external tables** in Hive Metastore to **external tables** in Unity Catalog.\n",
    "\n",
    "For more information on the [SYNC statement](https://docs.databricks.com/en/sql/language-manual/sql-ref-syntax-aux-sync.html#sync) view the documentation.\n",
    "\n",
    "**NOTE:** This lab workspace does not enable you to create external tables."
   ]
  },
  {
   "cell_type": "markdown",
   "metadata": {
    "application/vnd.databricks.v1+cell": {
     "cellMetadata": {},
     "inputWidgets": {},
     "nuid": "419a77f8-e475-4444-b6a7-eeb2b22d3b42",
     "showTitle": false,
     "tableResultSettingsMap": {},
     "title": ""
    }
   },
   "source": [
    "#### D2.2 Using Catalog Explorer to Upgrade Tables to Unity Catalog from the Hive Metastore\n",
    "\n",
    "Let's try upgrading the table using the Catalog Explorer user interface.\n",
    "\n",
    "1. Select the catalog icon on the left.\n",
    "\n",
    "1. Expand the **hive_metastore**.\n",
    "\n",
    "1. Expand your schema name in the hive metastore.\n",
    "\n",
    "1. Right click on your schema name and select **Open in Catalog Explorer**.\n",
    "\n",
    "1. Select the **movies** table \\(it can be any available table\\).\n",
    "\n",
    "1. Click **Upgrade**.\n",
    "\n",
    "1. Select your destination catalog and schema. \n",
    "\n",
    "1. For **Select catalog** select your unique catalog name.\n",
    "\n",
    "1. For **Select schema** select the **example** schema.\n",
    "\n",
    "1. For this example, let's leave owner set to the default (your username).\n",
    "\n",
    "1. Click **Next**.\n",
    "\n",
    "From here you can run the upgrade, or open a notebook containing the upgrade operations that you can run interactively. For the purpose of the exercise, you don't need to actually run the upgrade since it uses `SYNC` behind the scenes."
   ]
  },
  {
   "cell_type": "markdown",
   "metadata": {
    "application/vnd.databricks.v1+cell": {
     "cellMetadata": {},
     "inputWidgets": {},
     "nuid": "3d0cbe56-67e0-4315-9faa-71cd70996acf",
     "showTitle": false,
     "tableResultSettingsMap": {},
     "title": ""
    }
   },
   "source": [
    "## CleanUp\n",
    "Lets quickly clean up the data in hive metastore by running below command."
   ]
  },
  {
   "cell_type": "code",
   "execution_count": 0,
   "metadata": {
    "application/vnd.databricks.v1+cell": {
     "cellMetadata": {
      "byteLimit": 2048000,
      "rowLimit": 10000
     },
     "inputWidgets": {},
     "nuid": "aa2546ff-64f7-4a71-ae30-39fff9915180",
     "showTitle": false,
     "tableResultSettingsMap": {},
     "title": ""
    }
   },
   "outputs": [
    {
     "output_type": "stream",
     "name": "stdout",
     "output_type": "stream",
     "text": [
      "Dropping Schema: labuser11086062_1754032747 in hive_metastore.\n"
     ]
    }
   ],
   "source": [
    "%py\n",
    "DA.cleanup_hive_metastore()"
   ]
  },
  {
   "cell_type": "markdown",
   "metadata": {
    "application/vnd.databricks.v1+cell": {
     "cellMetadata": {},
     "inputWidgets": {},
     "nuid": "256b4348-d559-4f08-b947-afdaadfd23b6",
     "showTitle": false,
     "tableResultSettingsMap": {},
     "title": ""
    }
   },
   "source": [
    "## Conclusion\n",
    "In this demo, we explored crucial techniques for upgrading tables to the Unity Catalog, focusing on efficient data management. We learned to analyze existing data structures, apply migration techniques, evaluate transformation options, and upgrade metadata without moving data. Through SQL commands and user interface tools, we seamlessly executed upgrades, considering the treatment of table data as either external or managed within the Unity Catalog. With a thorough understanding of these methods, you are now equipped to optimize your data management processes effectively."
   ]
  },
  {
   "cell_type": "markdown",
   "metadata": {
    "application/vnd.databricks.v1+cell": {
     "cellMetadata": {},
     "inputWidgets": {},
     "nuid": "fcea2836-d885-4cab-a94d-6df0d1b2bb08",
     "showTitle": false,
     "tableResultSettingsMap": {},
     "title": ""
    }
   },
   "source": [
    "\n",
    "&copy; 2025 Databricks, Inc. All rights reserved. Apache, Apache Spark, Spark, the Spark Logo, Apache Iceberg, Iceberg, and the Apache Iceberg logo are trademarks of the <a href=\"https://www.apache.org/\" target=\"blank\">Apache Software Foundation</a>.<br/>\n",
    "<br/><a href=\"https://databricks.com/privacy-policy\" target=\"blank\">Privacy Policy</a> | \n",
    "<a href=\"https://databricks.com/terms-of-use\" target=\"blank\">Terms of Use</a> | \n",
    "<a href=\"https://help.databricks.com/\" target=\"blank\">Support</a>\n"
   ]
  }
 ],
 "metadata": {
  "application/vnd.databricks.v1+notebook": {
   "computePreferences": null,
   "dashboards": [],
   "environmentMetadata": null,
   "inputWidgetPreferences": null,
   "language": "sql",
   "notebookMetadata": {
    "pythonIndentUnit": 4
   },
   "notebookName": "3 - Upgrading Tables to Unity Catalog",
   "widgets": {}
  },
  "language_info": {
   "name": "sql"
  }
 },
 "nbformat": 4,
 "nbformat_minor": 0
}