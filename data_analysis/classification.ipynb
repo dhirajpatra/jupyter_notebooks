{
 "cells": [
  {
   "cell_type": "code",
   "execution_count": 4227,
   "id": "4015f37c",
   "metadata": {},
   "outputs": [
    {
     "data": {
      "text/html": [
       "<style>.container { font-size: 14px; font-family: Fira Code, Arial, sans-serif; color: #ffffff; } </style>"
      ],
      "text/plain": [
       "<IPython.core.display.HTML object>"
      ]
     },
     "execution_count": 4227,
     "metadata": {},
     "output_type": "execute_result"
    }
   ],
   "source": [
    "import pandas as pd\n",
    "import numpy as np\n",
    "import seaborn as sns\n",
    "import matplotlib.pyplot as plt\n",
    "from sklearn.model_selection import train_test_split\n",
    "from sklearn.linear_model import LogisticRegression, LinearRegression\n",
    "from sklearn.preprocessing import LabelEncoder, StandardScaler\n",
    "from sklearn.metrics import confusion_matrix, accuracy_score, mean_squared_error\n",
    "sns.set_style(\"darkgrid\")\n",
    "import re\n",
    "from IPython.core.display import HTML\n",
    "HTML(\"<style>.container { font-size: 14px; font-family: Fira Code, Arial, sans-serif; color: #ffffff; } </style>\")"
   ]
  },
  {
   "cell_type": "code",
   "execution_count": 4228,
   "id": "ef382ce0",
   "metadata": {},
   "outputs": [],
   "source": [
    "data_income = pd.read_csv('data/income.csv')"
   ]
  },
  {
   "cell_type": "code",
   "execution_count": 4229,
   "id": "c2c2b87f",
   "metadata": {},
   "outputs": [],
   "source": [
    "data = data_income.copy(deep=True)"
   ]
  },
  {
   "cell_type": "code",
   "execution_count": 4230,
   "id": "fefba0d7",
   "metadata": {},
   "outputs": [
    {
     "data": {
      "text/html": [
       "<div>\n",
       "<style scoped>\n",
       "    .dataframe tbody tr th:only-of-type {\n",
       "        vertical-align: middle;\n",
       "    }\n",
       "\n",
       "    .dataframe tbody tr th {\n",
       "        vertical-align: top;\n",
       "    }\n",
       "\n",
       "    .dataframe thead th {\n",
       "        text-align: right;\n",
       "    }\n",
       "</style>\n",
       "<table border=\"1\" class=\"dataframe\">\n",
       "  <thead>\n",
       "    <tr style=\"text-align: right;\">\n",
       "      <th></th>\n",
       "      <th>INCOME</th>\n",
       "      <th>SEX</th>\n",
       "      <th>MARITAL.STATUS</th>\n",
       "      <th>AGE</th>\n",
       "      <th>EDUCATION</th>\n",
       "      <th>OCCUPATION</th>\n",
       "      <th>AREA</th>\n",
       "      <th>DUAL.INCOMES</th>\n",
       "      <th>HOUSEHOLD.SIZE</th>\n",
       "      <th>UNDER18</th>\n",
       "      <th>HOUSEHOLDER</th>\n",
       "      <th>HOME.TYPE</th>\n",
       "      <th>ETHNIC.CLASS</th>\n",
       "      <th>LANGUAGE</th>\n",
       "    </tr>\n",
       "  </thead>\n",
       "  <tbody>\n",
       "    <tr>\n",
       "      <th>0</th>\n",
       "      <td>[75.000-</td>\n",
       "      <td>F</td>\n",
       "      <td>Married</td>\n",
       "      <td>45-54</td>\n",
       "      <td>1 to 3 years of college</td>\n",
       "      <td>Homemaker</td>\n",
       "      <td>10+ years</td>\n",
       "      <td>No</td>\n",
       "      <td>Three</td>\n",
       "      <td>None</td>\n",
       "      <td>Own</td>\n",
       "      <td>House</td>\n",
       "      <td>White</td>\n",
       "      <td>NaN</td>\n",
       "    </tr>\n",
       "    <tr>\n",
       "      <th>1</th>\n",
       "      <td>[75.000-</td>\n",
       "      <td>M</td>\n",
       "      <td>Married</td>\n",
       "      <td>45-54</td>\n",
       "      <td>College graduate</td>\n",
       "      <td>Homemaker</td>\n",
       "      <td>10+ years</td>\n",
       "      <td>No</td>\n",
       "      <td>Five</td>\n",
       "      <td>Two</td>\n",
       "      <td>Own</td>\n",
       "      <td>House</td>\n",
       "      <td>White</td>\n",
       "      <td>English</td>\n",
       "    </tr>\n",
       "    <tr>\n",
       "      <th>2</th>\n",
       "      <td>[75.000-</td>\n",
       "      <td>F</td>\n",
       "      <td>Married</td>\n",
       "      <td>25-34</td>\n",
       "      <td>College graduate</td>\n",
       "      <td>Professional/Managerial</td>\n",
       "      <td>10+ years</td>\n",
       "      <td>Yes</td>\n",
       "      <td>Three</td>\n",
       "      <td>One</td>\n",
       "      <td>Rent</td>\n",
       "      <td>Apartment</td>\n",
       "      <td>White</td>\n",
       "      <td>English</td>\n",
       "    </tr>\n",
       "    <tr>\n",
       "      <th>3</th>\n",
       "      <td>-10.000)</td>\n",
       "      <td>F</td>\n",
       "      <td>Single</td>\n",
       "      <td>14-17</td>\n",
       "      <td>Grades 9 to 11</td>\n",
       "      <td>Student, HS or College</td>\n",
       "      <td>10+ years</td>\n",
       "      <td>Not Married</td>\n",
       "      <td>Four</td>\n",
       "      <td>Two</td>\n",
       "      <td>Family</td>\n",
       "      <td>House</td>\n",
       "      <td>White</td>\n",
       "      <td>English</td>\n",
       "    </tr>\n",
       "    <tr>\n",
       "      <th>4</th>\n",
       "      <td>-10.000)</td>\n",
       "      <td>F</td>\n",
       "      <td>Single</td>\n",
       "      <td>14-17</td>\n",
       "      <td>Grades 9 to 11</td>\n",
       "      <td>Student, HS or College</td>\n",
       "      <td>4-6 years</td>\n",
       "      <td>Not Married</td>\n",
       "      <td>Four</td>\n",
       "      <td>Two</td>\n",
       "      <td>Family</td>\n",
       "      <td>House</td>\n",
       "      <td>White</td>\n",
       "      <td>English</td>\n",
       "    </tr>\n",
       "  </tbody>\n",
       "</table>\n",
       "</div>"
      ],
      "text/plain": [
       "     INCOME SEX MARITAL.STATUS    AGE                EDUCATION  \\\n",
       "0  [75.000-   F        Married  45-54  1 to 3 years of college   \n",
       "1  [75.000-   M        Married  45-54         College graduate   \n",
       "2  [75.000-   F        Married  25-34         College graduate   \n",
       "3  -10.000)   F         Single  14-17           Grades 9 to 11   \n",
       "4  -10.000)   F         Single  14-17           Grades 9 to 11   \n",
       "\n",
       "                OCCUPATION       AREA DUAL.INCOMES HOUSEHOLD.SIZE UNDER18  \\\n",
       "0                Homemaker  10+ years           No          Three    None   \n",
       "1                Homemaker  10+ years           No           Five     Two   \n",
       "2  Professional/Managerial  10+ years          Yes          Three     One   \n",
       "3   Student, HS or College  10+ years  Not Married           Four     Two   \n",
       "4   Student, HS or College  4-6 years  Not Married           Four     Two   \n",
       "\n",
       "  HOUSEHOLDER  HOME.TYPE ETHNIC.CLASS LANGUAGE  \n",
       "0         Own      House        White      NaN  \n",
       "1         Own      House        White  English  \n",
       "2        Rent  Apartment        White  English  \n",
       "3      Family      House        White  English  \n",
       "4      Family      House        White  English  "
      ]
     },
     "execution_count": 4230,
     "metadata": {},
     "output_type": "execute_result"
    }
   ],
   "source": [
    "data.head()"
   ]
  },
  {
   "cell_type": "code",
   "execution_count": 4231,
   "id": "474e8065",
   "metadata": {},
   "outputs": [],
   "source": [
    "data.drop(columns=['LANGUAGE', 'ETHNIC.CLASS', 'HOUSEHOLDER', 'HOUSEHOLD.SIZE', 'UNDER18', 'HOME.TYPE', 'AREA'], inplace=True)"
   ]
  },
  {
   "cell_type": "code",
   "execution_count": 4232,
   "id": "2dc8ba21",
   "metadata": {},
   "outputs": [
    {
     "data": {
      "text/plain": [
       "RangeIndex(start=0, stop=8993, step=1)"
      ]
     },
     "execution_count": 4232,
     "metadata": {},
     "output_type": "execute_result"
    }
   ],
   "source": [
    "data.index"
   ]
  },
  {
   "cell_type": "code",
   "execution_count": 4233,
   "id": "6d96818c",
   "metadata": {},
   "outputs": [
    {
     "data": {
      "text/plain": [
       "Index(['INCOME', 'SEX', 'MARITAL.STATUS', 'AGE', 'EDUCATION', 'OCCUPATION',\n",
       "       'DUAL.INCOMES'],\n",
       "      dtype='object')"
      ]
     },
     "execution_count": 4233,
     "metadata": {},
     "output_type": "execute_result"
    }
   ],
   "source": [
    "data.columns"
   ]
  },
  {
   "cell_type": "code",
   "execution_count": 4234,
   "id": "8709c489",
   "metadata": {},
   "outputs": [
    {
     "data": {
      "text/plain": [
       "62951"
      ]
     },
     "execution_count": 4234,
     "metadata": {},
     "output_type": "execute_result"
    }
   ],
   "source": [
    "data.size"
   ]
  },
  {
   "cell_type": "code",
   "execution_count": 4235,
   "id": "cbc64118",
   "metadata": {},
   "outputs": [
    {
     "data": {
      "text/plain": [
       "(8993, 7)"
      ]
     },
     "execution_count": 4235,
     "metadata": {},
     "output_type": "execute_result"
    }
   ],
   "source": [
    "data.shape"
   ]
  },
  {
   "cell_type": "code",
   "execution_count": 4236,
   "id": "cc7fa690",
   "metadata": {},
   "outputs": [
    {
     "data": {
      "text/plain": [
       "<bound method DataFrame.memory_usage of                INCOME SEX MARITAL.STATUS    AGE                EDUCATION  \\\n",
       "0            [75.000-   F        Married  45-54  1 to 3 years of college   \n",
       "1            [75.000-   M        Married  45-54         College graduate   \n",
       "2            [75.000-   F        Married  25-34         College graduate   \n",
       "3            -10.000)   F         Single  14-17           Grades 9 to 11   \n",
       "4            -10.000)   F         Single  14-17           Grades 9 to 11   \n",
       "...               ...  ..            ...    ...                      ...   \n",
       "8988         -10.000)   F         Single  14-17          Grade 8 or less   \n",
       "8989  [10.000-15.000)   M         Single  18-24  1 to 3 years of college   \n",
       "8990         -10.000)   F         Single  14-17           Grades 9 to 11   \n",
       "8991  [20.000-25.000)   M        Married  55-64  1 to 3 years of college   \n",
       "8992  [30.000-40.000)   M         Single  25-34  1 to 3 years of college   \n",
       "\n",
       "                         OCCUPATION DUAL.INCOMES  \n",
       "0                         Homemaker           No  \n",
       "1                         Homemaker           No  \n",
       "2           Professional/Managerial          Yes  \n",
       "3            Student, HS or College  Not Married  \n",
       "4            Student, HS or College  Not Married  \n",
       "...                             ...          ...  \n",
       "8988                   Sales Worker  Not Married  \n",
       "8989        Professional/Managerial  Not Married  \n",
       "8990        Professional/Managerial  Not Married  \n",
       "8991  Factory Worker/Laborer/Driver          Yes  \n",
       "8992        Professional/Managerial  Not Married  \n",
       "\n",
       "[8993 rows x 7 columns]>"
      ]
     },
     "execution_count": 4236,
     "metadata": {},
     "output_type": "execute_result"
    }
   ],
   "source": [
    "data.memory_usage"
   ]
  },
  {
   "cell_type": "code",
   "execution_count": 4237,
   "id": "9f13fc14",
   "metadata": {},
   "outputs": [
    {
     "data": {
      "text/html": [
       "<div>\n",
       "<style scoped>\n",
       "    .dataframe tbody tr th:only-of-type {\n",
       "        vertical-align: middle;\n",
       "    }\n",
       "\n",
       "    .dataframe tbody tr th {\n",
       "        vertical-align: top;\n",
       "    }\n",
       "\n",
       "    .dataframe thead th {\n",
       "        text-align: right;\n",
       "    }\n",
       "</style>\n",
       "<table border=\"1\" class=\"dataframe\">\n",
       "  <thead>\n",
       "    <tr style=\"text-align: right;\">\n",
       "      <th></th>\n",
       "      <th>INCOME</th>\n",
       "      <th>SEX</th>\n",
       "      <th>MARITAL.STATUS</th>\n",
       "      <th>AGE</th>\n",
       "      <th>EDUCATION</th>\n",
       "      <th>OCCUPATION</th>\n",
       "      <th>DUAL.INCOMES</th>\n",
       "    </tr>\n",
       "  </thead>\n",
       "  <tbody>\n",
       "    <tr>\n",
       "      <th>count</th>\n",
       "      <td>8993</td>\n",
       "      <td>8993</td>\n",
       "      <td>8833</td>\n",
       "      <td>8993</td>\n",
       "      <td>8907</td>\n",
       "      <td>8857</td>\n",
       "      <td>8993</td>\n",
       "    </tr>\n",
       "    <tr>\n",
       "      <th>unique</th>\n",
       "      <td>9</td>\n",
       "      <td>2</td>\n",
       "      <td>5</td>\n",
       "      <td>7</td>\n",
       "      <td>6</td>\n",
       "      <td>9</td>\n",
       "      <td>3</td>\n",
       "    </tr>\n",
       "    <tr>\n",
       "      <th>top</th>\n",
       "      <td>-10.000)</td>\n",
       "      <td>F</td>\n",
       "      <td>Single</td>\n",
       "      <td>25-34</td>\n",
       "      <td>1 to 3 years of college</td>\n",
       "      <td>Professional/Managerial</td>\n",
       "      <td>Not Married</td>\n",
       "    </tr>\n",
       "    <tr>\n",
       "      <th>freq</th>\n",
       "      <td>1745</td>\n",
       "      <td>4918</td>\n",
       "      <td>3654</td>\n",
       "      <td>2249</td>\n",
       "      <td>3066</td>\n",
       "      <td>2820</td>\n",
       "      <td>5438</td>\n",
       "    </tr>\n",
       "  </tbody>\n",
       "</table>\n",
       "</div>"
      ],
      "text/plain": [
       "          INCOME   SEX MARITAL.STATUS    AGE                EDUCATION  \\\n",
       "count       8993  8993           8833   8993                     8907   \n",
       "unique         9     2              5      7                        6   \n",
       "top     -10.000)     F         Single  25-34  1 to 3 years of college   \n",
       "freq        1745  4918           3654   2249                     3066   \n",
       "\n",
       "                     OCCUPATION DUAL.INCOMES  \n",
       "count                      8857         8993  \n",
       "unique                        9            3  \n",
       "top     Professional/Managerial  Not Married  \n",
       "freq                       2820         5438  "
      ]
     },
     "execution_count": 4237,
     "metadata": {},
     "output_type": "execute_result"
    }
   ],
   "source": [
    "data.describe()"
   ]
  },
  {
   "cell_type": "code",
   "execution_count": 4238,
   "id": "07d906da",
   "metadata": {},
   "outputs": [
    {
     "data": {
      "text/plain": [
       "INCOME            object\n",
       "SEX               object\n",
       "MARITAL.STATUS    object\n",
       "AGE               object\n",
       "EDUCATION         object\n",
       "OCCUPATION        object\n",
       "DUAL.INCOMES      object\n",
       "dtype: object"
      ]
     },
     "execution_count": 4238,
     "metadata": {},
     "output_type": "execute_result"
    }
   ],
   "source": [
    "data.dtypes"
   ]
  },
  {
   "cell_type": "code",
   "execution_count": 4239,
   "id": "352fe493",
   "metadata": {},
   "outputs": [
    {
     "data": {
      "text/plain": [
       "INCOME              0\n",
       "SEX                 0\n",
       "MARITAL.STATUS    160\n",
       "AGE                 0\n",
       "EDUCATION          86\n",
       "OCCUPATION        136\n",
       "DUAL.INCOMES        0\n",
       "dtype: int64"
      ]
     },
     "execution_count": 4239,
     "metadata": {},
     "output_type": "execute_result"
    }
   ],
   "source": [
    "data.isnull().sum()"
   ]
  },
  {
   "cell_type": "code",
   "execution_count": 4240,
   "id": "1a1d3cbb",
   "metadata": {},
   "outputs": [
    {
     "data": {
      "text/html": [
       "<div>\n",
       "<style scoped>\n",
       "    .dataframe tbody tr th:only-of-type {\n",
       "        vertical-align: middle;\n",
       "    }\n",
       "\n",
       "    .dataframe tbody tr th {\n",
       "        vertical-align: top;\n",
       "    }\n",
       "\n",
       "    .dataframe thead th {\n",
       "        text-align: right;\n",
       "    }\n",
       "</style>\n",
       "<table border=\"1\" class=\"dataframe\">\n",
       "  <thead>\n",
       "    <tr style=\"text-align: right;\">\n",
       "      <th></th>\n",
       "      <th>INCOME</th>\n",
       "      <th>SEX</th>\n",
       "      <th>MARITAL.STATUS</th>\n",
       "      <th>AGE</th>\n",
       "      <th>EDUCATION</th>\n",
       "      <th>OCCUPATION</th>\n",
       "      <th>DUAL.INCOMES</th>\n",
       "    </tr>\n",
       "  </thead>\n",
       "  <tbody>\n",
       "    <tr>\n",
       "      <th>14</th>\n",
       "      <td>[20.000-25.000)</td>\n",
       "      <td>M</td>\n",
       "      <td>Widowed</td>\n",
       "      <td>55-64</td>\n",
       "      <td>Graduated High Scool</td>\n",
       "      <td>NaN</td>\n",
       "      <td>Not Married</td>\n",
       "    </tr>\n",
       "    <tr>\n",
       "      <th>80</th>\n",
       "      <td>[30.000-40.000)</td>\n",
       "      <td>F</td>\n",
       "      <td>NaN</td>\n",
       "      <td>35-44</td>\n",
       "      <td>College graduate</td>\n",
       "      <td>Homemaker</td>\n",
       "      <td>No</td>\n",
       "    </tr>\n",
       "    <tr>\n",
       "      <th>100</th>\n",
       "      <td>[20.000-25.000)</td>\n",
       "      <td>F</td>\n",
       "      <td>NaN</td>\n",
       "      <td>35-44</td>\n",
       "      <td>1 to 3 years of college</td>\n",
       "      <td>Professional/Managerial</td>\n",
       "      <td>Not Married</td>\n",
       "    </tr>\n",
       "    <tr>\n",
       "      <th>114</th>\n",
       "      <td>[25.000-30.000)</td>\n",
       "      <td>F</td>\n",
       "      <td>NaN</td>\n",
       "      <td>65+</td>\n",
       "      <td>Graduated High Scool</td>\n",
       "      <td>Retired</td>\n",
       "      <td>Not Married</td>\n",
       "    </tr>\n",
       "    <tr>\n",
       "      <th>128</th>\n",
       "      <td>[40.000-50.000)</td>\n",
       "      <td>F</td>\n",
       "      <td>NaN</td>\n",
       "      <td>35-44</td>\n",
       "      <td>Graduated High Scool</td>\n",
       "      <td>NaN</td>\n",
       "      <td>No</td>\n",
       "    </tr>\n",
       "    <tr>\n",
       "      <th>...</th>\n",
       "      <td>...</td>\n",
       "      <td>...</td>\n",
       "      <td>...</td>\n",
       "      <td>...</td>\n",
       "      <td>...</td>\n",
       "      <td>...</td>\n",
       "      <td>...</td>\n",
       "    </tr>\n",
       "    <tr>\n",
       "      <th>8730</th>\n",
       "      <td>[20.000-25.000)</td>\n",
       "      <td>F</td>\n",
       "      <td>Married</td>\n",
       "      <td>35-44</td>\n",
       "      <td>Grad Study</td>\n",
       "      <td>NaN</td>\n",
       "      <td>Yes</td>\n",
       "    </tr>\n",
       "    <tr>\n",
       "      <th>8816</th>\n",
       "      <td>-10.000)</td>\n",
       "      <td>M</td>\n",
       "      <td>Single</td>\n",
       "      <td>14-17</td>\n",
       "      <td>Grades 9 to 11</td>\n",
       "      <td>NaN</td>\n",
       "      <td>Not Married</td>\n",
       "    </tr>\n",
       "    <tr>\n",
       "      <th>8851</th>\n",
       "      <td>[40.000-50.000)</td>\n",
       "      <td>F</td>\n",
       "      <td>NaN</td>\n",
       "      <td>25-34</td>\n",
       "      <td>1 to 3 years of college</td>\n",
       "      <td>Clerical/Service Worker</td>\n",
       "      <td>Yes</td>\n",
       "    </tr>\n",
       "    <tr>\n",
       "      <th>8858</th>\n",
       "      <td>-10.000)</td>\n",
       "      <td>M</td>\n",
       "      <td>NaN</td>\n",
       "      <td>14-17</td>\n",
       "      <td>Grades 9 to 11</td>\n",
       "      <td>Student, HS or College</td>\n",
       "      <td>Not Married</td>\n",
       "    </tr>\n",
       "    <tr>\n",
       "      <th>8965</th>\n",
       "      <td>[75.000-</td>\n",
       "      <td>M</td>\n",
       "      <td>NaN</td>\n",
       "      <td>45-54</td>\n",
       "      <td>Grad Study</td>\n",
       "      <td>Professional/Managerial</td>\n",
       "      <td>Yes</td>\n",
       "    </tr>\n",
       "  </tbody>\n",
       "</table>\n",
       "<p>363 rows × 7 columns</p>\n",
       "</div>"
      ],
      "text/plain": [
       "               INCOME SEX MARITAL.STATUS    AGE                EDUCATION  \\\n",
       "14    [20.000-25.000)   M        Widowed  55-64     Graduated High Scool   \n",
       "80    [30.000-40.000)   F            NaN  35-44         College graduate   \n",
       "100   [20.000-25.000)   F            NaN  35-44  1 to 3 years of college   \n",
       "114   [25.000-30.000)   F            NaN    65+     Graduated High Scool   \n",
       "128   [40.000-50.000)   F            NaN  35-44     Graduated High Scool   \n",
       "...               ...  ..            ...    ...                      ...   \n",
       "8730  [20.000-25.000)   F        Married  35-44               Grad Study   \n",
       "8816         -10.000)   M         Single  14-17           Grades 9 to 11   \n",
       "8851  [40.000-50.000)   F            NaN  25-34  1 to 3 years of college   \n",
       "8858         -10.000)   M            NaN  14-17           Grades 9 to 11   \n",
       "8965         [75.000-   M            NaN  45-54               Grad Study   \n",
       "\n",
       "                   OCCUPATION DUAL.INCOMES  \n",
       "14                        NaN  Not Married  \n",
       "80                  Homemaker           No  \n",
       "100   Professional/Managerial  Not Married  \n",
       "114                   Retired  Not Married  \n",
       "128                       NaN           No  \n",
       "...                       ...          ...  \n",
       "8730                      NaN          Yes  \n",
       "8816                      NaN  Not Married  \n",
       "8851  Clerical/Service Worker          Yes  \n",
       "8858   Student, HS or College  Not Married  \n",
       "8965  Professional/Managerial          Yes  \n",
       "\n",
       "[363 rows x 7 columns]"
      ]
     },
     "execution_count": 4240,
     "metadata": {},
     "output_type": "execute_result"
    }
   ],
   "source": [
    "missing = data[data.isnull().any(axis=1)]\n",
    "missing"
   ]
  },
  {
   "cell_type": "code",
   "execution_count": 4241,
   "id": "0285b954",
   "metadata": {},
   "outputs": [],
   "source": [
    "data_income_visual = data.copy(deep=True)\n",
    "data_income_visual.dropna(inplace=True)"
   ]
  },
  {
   "cell_type": "code",
   "execution_count": 4242,
   "id": "a78f48c3",
   "metadata": {},
   "outputs": [
    {
     "data": {
      "text/html": [
       "<div>\n",
       "<style scoped>\n",
       "    .dataframe tbody tr th:only-of-type {\n",
       "        vertical-align: middle;\n",
       "    }\n",
       "\n",
       "    .dataframe tbody tr th {\n",
       "        vertical-align: top;\n",
       "    }\n",
       "\n",
       "    .dataframe thead th {\n",
       "        text-align: right;\n",
       "    }\n",
       "</style>\n",
       "<table border=\"1\" class=\"dataframe\">\n",
       "  <thead>\n",
       "    <tr style=\"text-align: right;\">\n",
       "      <th></th>\n",
       "      <th>INCOME</th>\n",
       "      <th>SEX</th>\n",
       "      <th>MARITAL.STATUS</th>\n",
       "      <th>AGE</th>\n",
       "      <th>EDUCATION</th>\n",
       "      <th>OCCUPATION</th>\n",
       "      <th>DUAL.INCOMES</th>\n",
       "    </tr>\n",
       "  </thead>\n",
       "  <tbody>\n",
       "    <tr>\n",
       "      <th>0</th>\n",
       "      <td>[75.000-</td>\n",
       "      <td>F</td>\n",
       "      <td>Married</td>\n",
       "      <td>45-54</td>\n",
       "      <td>1 to 3 years of college</td>\n",
       "      <td>Homemaker</td>\n",
       "      <td>No</td>\n",
       "    </tr>\n",
       "    <tr>\n",
       "      <th>1</th>\n",
       "      <td>[75.000-</td>\n",
       "      <td>M</td>\n",
       "      <td>Married</td>\n",
       "      <td>45-54</td>\n",
       "      <td>College graduate</td>\n",
       "      <td>Homemaker</td>\n",
       "      <td>No</td>\n",
       "    </tr>\n",
       "    <tr>\n",
       "      <th>2</th>\n",
       "      <td>[75.000-</td>\n",
       "      <td>F</td>\n",
       "      <td>Married</td>\n",
       "      <td>25-34</td>\n",
       "      <td>College graduate</td>\n",
       "      <td>Professional/Managerial</td>\n",
       "      <td>Yes</td>\n",
       "    </tr>\n",
       "    <tr>\n",
       "      <th>3</th>\n",
       "      <td>-10.000)</td>\n",
       "      <td>F</td>\n",
       "      <td>Single</td>\n",
       "      <td>14-17</td>\n",
       "      <td>Grades 9 to 11</td>\n",
       "      <td>Student, HS or College</td>\n",
       "      <td>Not Married</td>\n",
       "    </tr>\n",
       "    <tr>\n",
       "      <th>4</th>\n",
       "      <td>-10.000)</td>\n",
       "      <td>F</td>\n",
       "      <td>Single</td>\n",
       "      <td>14-17</td>\n",
       "      <td>Grades 9 to 11</td>\n",
       "      <td>Student, HS or College</td>\n",
       "      <td>Not Married</td>\n",
       "    </tr>\n",
       "    <tr>\n",
       "      <th>...</th>\n",
       "      <td>...</td>\n",
       "      <td>...</td>\n",
       "      <td>...</td>\n",
       "      <td>...</td>\n",
       "      <td>...</td>\n",
       "      <td>...</td>\n",
       "      <td>...</td>\n",
       "    </tr>\n",
       "    <tr>\n",
       "      <th>8988</th>\n",
       "      <td>-10.000)</td>\n",
       "      <td>F</td>\n",
       "      <td>Single</td>\n",
       "      <td>14-17</td>\n",
       "      <td>Grade 8 or less</td>\n",
       "      <td>Sales Worker</td>\n",
       "      <td>Not Married</td>\n",
       "    </tr>\n",
       "    <tr>\n",
       "      <th>8989</th>\n",
       "      <td>[10.000-15.000)</td>\n",
       "      <td>M</td>\n",
       "      <td>Single</td>\n",
       "      <td>18-24</td>\n",
       "      <td>1 to 3 years of college</td>\n",
       "      <td>Professional/Managerial</td>\n",
       "      <td>Not Married</td>\n",
       "    </tr>\n",
       "    <tr>\n",
       "      <th>8990</th>\n",
       "      <td>-10.000)</td>\n",
       "      <td>F</td>\n",
       "      <td>Single</td>\n",
       "      <td>14-17</td>\n",
       "      <td>Grades 9 to 11</td>\n",
       "      <td>Professional/Managerial</td>\n",
       "      <td>Not Married</td>\n",
       "    </tr>\n",
       "    <tr>\n",
       "      <th>8991</th>\n",
       "      <td>[20.000-25.000)</td>\n",
       "      <td>M</td>\n",
       "      <td>Married</td>\n",
       "      <td>55-64</td>\n",
       "      <td>1 to 3 years of college</td>\n",
       "      <td>Factory Worker/Laborer/Driver</td>\n",
       "      <td>Yes</td>\n",
       "    </tr>\n",
       "    <tr>\n",
       "      <th>8992</th>\n",
       "      <td>[30.000-40.000)</td>\n",
       "      <td>M</td>\n",
       "      <td>Single</td>\n",
       "      <td>25-34</td>\n",
       "      <td>1 to 3 years of college</td>\n",
       "      <td>Professional/Managerial</td>\n",
       "      <td>Not Married</td>\n",
       "    </tr>\n",
       "  </tbody>\n",
       "</table>\n",
       "<p>8630 rows × 7 columns</p>\n",
       "</div>"
      ],
      "text/plain": [
       "               INCOME SEX MARITAL.STATUS    AGE                EDUCATION  \\\n",
       "0            [75.000-   F        Married  45-54  1 to 3 years of college   \n",
       "1            [75.000-   M        Married  45-54         College graduate   \n",
       "2            [75.000-   F        Married  25-34         College graduate   \n",
       "3            -10.000)   F         Single  14-17           Grades 9 to 11   \n",
       "4            -10.000)   F         Single  14-17           Grades 9 to 11   \n",
       "...               ...  ..            ...    ...                      ...   \n",
       "8988         -10.000)   F         Single  14-17          Grade 8 or less   \n",
       "8989  [10.000-15.000)   M         Single  18-24  1 to 3 years of college   \n",
       "8990         -10.000)   F         Single  14-17           Grades 9 to 11   \n",
       "8991  [20.000-25.000)   M        Married  55-64  1 to 3 years of college   \n",
       "8992  [30.000-40.000)   M         Single  25-34  1 to 3 years of college   \n",
       "\n",
       "                         OCCUPATION DUAL.INCOMES  \n",
       "0                         Homemaker           No  \n",
       "1                         Homemaker           No  \n",
       "2           Professional/Managerial          Yes  \n",
       "3            Student, HS or College  Not Married  \n",
       "4            Student, HS or College  Not Married  \n",
       "...                             ...          ...  \n",
       "8988                   Sales Worker  Not Married  \n",
       "8989        Professional/Managerial  Not Married  \n",
       "8990        Professional/Managerial  Not Married  \n",
       "8991  Factory Worker/Laborer/Driver          Yes  \n",
       "8992        Professional/Managerial  Not Married  \n",
       "\n",
       "[8630 rows x 7 columns]"
      ]
     },
     "execution_count": 4242,
     "metadata": {},
     "output_type": "execute_result"
    }
   ],
   "source": [
    "data_income = data.dropna(axis=0).copy(deep=True)\n",
    "data_income"
   ]
  },
  {
   "cell_type": "code",
   "execution_count": 4243,
   "id": "8f33e1c3",
   "metadata": {},
   "outputs": [
    {
     "data": {
      "text/plain": [
       "F    4727\n",
       "M    3903\n",
       "Name: SEX, dtype: int64"
      ]
     },
     "execution_count": 4243,
     "metadata": {},
     "output_type": "execute_result"
    }
   ],
   "source": [
    "data_income['SEX'].value_counts()"
   ]
  },
  {
   "cell_type": "code",
   "execution_count": 4244,
   "id": "43fa1b5f",
   "metadata": {},
   "outputs": [
    {
     "data": {
      "text/plain": [
       "array(['F', 'M'], dtype=object)"
      ]
     },
     "execution_count": 4244,
     "metadata": {},
     "output_type": "execute_result"
    }
   ],
   "source": [
    "np.unique(data_income['SEX'])"
   ]
  },
  {
   "cell_type": "code",
   "execution_count": 4245,
   "id": "9c984e2a",
   "metadata": {},
   "outputs": [
    {
     "data": {
      "text/plain": [
       "8646"
      ]
     },
     "execution_count": 4245,
     "metadata": {},
     "output_type": "execute_result"
    }
   ],
   "source": [
    "data_income['SEX'].astype('category').nbytes"
   ]
  },
  {
   "cell_type": "code",
   "execution_count": 4246,
   "id": "2b1a9781",
   "metadata": {},
   "outputs": [],
   "source": [
    "# data_income['SEX'].replace('F', 1, inplace=True)"
   ]
  },
  {
   "cell_type": "code",
   "execution_count": 4247,
   "id": "28cd7b53",
   "metadata": {},
   "outputs": [],
   "source": [
    "# data_income['SEX'].replace('M', 2, inplace=True)"
   ]
  },
  {
   "cell_type": "code",
   "execution_count": 4248,
   "id": "2f777889",
   "metadata": {},
   "outputs": [],
   "source": [
    "# data_income['SEX'].astype('int64')"
   ]
  },
  {
   "cell_type": "code",
   "execution_count": 4249,
   "id": "0f84fc65",
   "metadata": {},
   "outputs": [
    {
     "data": {
      "text/plain": [
       "array(['No', 'Not Married', 'Yes'], dtype=object)"
      ]
     },
     "execution_count": 4249,
     "metadata": {},
     "output_type": "execute_result"
    }
   ],
   "source": [
    "np.unique(data_income['DUAL.INCOMES'])"
   ]
  },
  {
   "cell_type": "code",
   "execution_count": 4250,
   "id": "4c34d52d",
   "metadata": {},
   "outputs": [],
   "source": [
    "data_income['DUAL.INCOMES'].replace('No', 0, inplace=True)"
   ]
  },
  {
   "cell_type": "code",
   "execution_count": 4251,
   "id": "b458d94f",
   "metadata": {},
   "outputs": [],
   "source": [
    "data_income['DUAL.INCOMES'].replace('Yes', 1, inplace=True)"
   ]
  },
  {
   "cell_type": "code",
   "execution_count": 4252,
   "id": "26ee9e7a",
   "metadata": {},
   "outputs": [],
   "source": [
    "data_income['DUAL.INCOMES'].replace('Not Married', 2, inplace=True)"
   ]
  },
  {
   "cell_type": "code",
   "execution_count": 4253,
   "id": "8fee3f13",
   "metadata": {},
   "outputs": [
    {
     "data": {
      "text/plain": [
       "0       0\n",
       "1       0\n",
       "2       1\n",
       "3       2\n",
       "4       2\n",
       "       ..\n",
       "8988    2\n",
       "8989    2\n",
       "8990    2\n",
       "8991    1\n",
       "8992    2\n",
       "Name: DUAL.INCOMES, Length: 8630, dtype: int64"
      ]
     },
     "execution_count": 4253,
     "metadata": {},
     "output_type": "execute_result"
    }
   ],
   "source": [
    "data_income['DUAL.INCOMES'].astype('int64')"
   ]
  },
  {
   "cell_type": "code",
   "execution_count": 4254,
   "id": "73f00117",
   "metadata": {},
   "outputs": [
    {
     "data": {
      "text/plain": [
       "array(['Divorced', 'Married', 'Single', 'Together', 'Widowed'],\n",
       "      dtype=object)"
      ]
     },
     "execution_count": 4254,
     "metadata": {},
     "output_type": "execute_result"
    }
   ],
   "source": [
    "mar_stat = np.unique(data_income['MARITAL.STATUS'])\n",
    "mar_stat"
   ]
  },
  {
   "cell_type": "code",
   "execution_count": 4255,
   "id": "df1b3d7e",
   "metadata": {},
   "outputs": [],
   "source": [
    "i = 0\n",
    "for item in mar_stat:\n",
    "    data_income['MARITAL.STATUS'].replace(item, i, inplace=True)\n",
    "    i += 1"
   ]
  },
  {
   "cell_type": "code",
   "execution_count": 4256,
   "id": "9bf9073e",
   "metadata": {},
   "outputs": [
    {
     "data": {
      "text/plain": [
       "0       1\n",
       "1       1\n",
       "2       1\n",
       "3       2\n",
       "4       2\n",
       "       ..\n",
       "8988    2\n",
       "8989    2\n",
       "8990    2\n",
       "8991    1\n",
       "8992    2\n",
       "Name: MARITAL.STATUS, Length: 8630, dtype: int64"
      ]
     },
     "execution_count": 4256,
     "metadata": {},
     "output_type": "execute_result"
    }
   ],
   "source": [
    "data_income['MARITAL.STATUS'].astype('int64')"
   ]
  },
  {
   "cell_type": "code",
   "execution_count": 4257,
   "id": "5d197bd0",
   "metadata": {},
   "outputs": [],
   "source": [
    "data_income['INCOME'] = data_income['INCOME'].str.extract('(\\d+)').astype(float)*1000"
   ]
  },
  {
   "cell_type": "code",
   "execution_count": 4258,
   "id": "b9c14450",
   "metadata": {},
   "outputs": [],
   "source": [
    "data_income['AGE'] = data_income['AGE'].str.split('-')\n",
    "data_income['AGE'] = data_income['AGE'].apply(lambda x: pd.Series(re.findall(r'\\d+', x[0])).astype(int) + 5)\n",
    "# data_income[['col1', 'col2']] = data_income['AGE'].apply(lambda x: pd.Series(re.findall(r'\\d+', x[0]), re.findall(r'\\d+', x[1])).astype(float))\n",
    "# average = (df['col1'].mean() + df['col2'].mean()) / 2\n",
    "# data_income['AGE'] = average"
   ]
  },
  {
   "cell_type": "code",
   "execution_count": 4259,
   "id": "27dcafae",
   "metadata": {},
   "outputs": [
    {
     "data": {
      "text/plain": [
       "array(['Clerical/Service Worker', 'Factory Worker/Laborer/Driver',\n",
       "       'Homemaker', 'Military', 'Professional/Managerial', 'Retired',\n",
       "       'Sales Worker', 'Student, HS or College', 'Unemployed'],\n",
       "      dtype=object)"
      ]
     },
     "execution_count": 4259,
     "metadata": {},
     "output_type": "execute_result"
    }
   ],
   "source": [
    "np.unique(data_income['OCCUPATION'])"
   ]
  },
  {
   "cell_type": "code",
   "execution_count": 4260,
   "id": "b3a1ebde",
   "metadata": {},
   "outputs": [],
   "source": [
    "scaler = StandardScaler()"
   ]
  },
  {
   "cell_type": "code",
   "execution_count": 4261,
   "id": "c66a4437",
   "metadata": {},
   "outputs": [],
   "source": [
    "le = LabelEncoder()"
   ]
  },
  {
   "cell_type": "code",
   "execution_count": 4262,
   "id": "14d08cf2",
   "metadata": {},
   "outputs": [],
   "source": [
    "data_income['OCCUPATION'] = le.fit_transform(data_income['OCCUPATION'])"
   ]
  },
  {
   "cell_type": "code",
   "execution_count": 4263,
   "id": "380c7aca",
   "metadata": {},
   "outputs": [],
   "source": [
    "# data_income['OCCUPATION'].replace('Clerical/Service Worker', 0, inplace=True)"
   ]
  },
  {
   "cell_type": "code",
   "execution_count": 4264,
   "id": "b3a70c5d",
   "metadata": {},
   "outputs": [],
   "source": [
    "# data_income['OCCUPATION'].replace('Professional/Managerial', 'Professional', inplace=True)"
   ]
  },
  {
   "cell_type": "code",
   "execution_count": 4265,
   "id": "65444c96",
   "metadata": {},
   "outputs": [],
   "source": [
    "# data_income['OCCUPATION'].replace('Student, HS or College', 'Student', inplace=True)"
   ]
  },
  {
   "cell_type": "code",
   "execution_count": 4266,
   "id": "430167a0",
   "metadata": {},
   "outputs": [],
   "source": [
    "data_income['EDUCATION'] = le.fit_transform(data_income['EDUCATION'])"
   ]
  },
  {
   "cell_type": "code",
   "execution_count": 4267,
   "id": "09cc14a7",
   "metadata": {},
   "outputs": [
    {
     "data": {
      "text/html": [
       "<div>\n",
       "<style scoped>\n",
       "    .dataframe tbody tr th:only-of-type {\n",
       "        vertical-align: middle;\n",
       "    }\n",
       "\n",
       "    .dataframe tbody tr th {\n",
       "        vertical-align: top;\n",
       "    }\n",
       "\n",
       "    .dataframe thead th {\n",
       "        text-align: right;\n",
       "    }\n",
       "</style>\n",
       "<table border=\"1\" class=\"dataframe\">\n",
       "  <thead>\n",
       "    <tr style=\"text-align: right;\">\n",
       "      <th></th>\n",
       "      <th>INCOME</th>\n",
       "      <th>SEX</th>\n",
       "      <th>MARITAL.STATUS</th>\n",
       "      <th>AGE</th>\n",
       "      <th>EDUCATION</th>\n",
       "      <th>OCCUPATION</th>\n",
       "      <th>DUAL.INCOMES</th>\n",
       "    </tr>\n",
       "  </thead>\n",
       "  <tbody>\n",
       "    <tr>\n",
       "      <th>0</th>\n",
       "      <td>75000.0</td>\n",
       "      <td>F</td>\n",
       "      <td>1</td>\n",
       "      <td>50</td>\n",
       "      <td>0</td>\n",
       "      <td>2</td>\n",
       "      <td>0</td>\n",
       "    </tr>\n",
       "    <tr>\n",
       "      <th>1</th>\n",
       "      <td>75000.0</td>\n",
       "      <td>M</td>\n",
       "      <td>1</td>\n",
       "      <td>50</td>\n",
       "      <td>1</td>\n",
       "      <td>2</td>\n",
       "      <td>0</td>\n",
       "    </tr>\n",
       "    <tr>\n",
       "      <th>2</th>\n",
       "      <td>75000.0</td>\n",
       "      <td>F</td>\n",
       "      <td>1</td>\n",
       "      <td>30</td>\n",
       "      <td>1</td>\n",
       "      <td>4</td>\n",
       "      <td>1</td>\n",
       "    </tr>\n",
       "    <tr>\n",
       "      <th>3</th>\n",
       "      <td>10000.0</td>\n",
       "      <td>F</td>\n",
       "      <td>2</td>\n",
       "      <td>19</td>\n",
       "      <td>4</td>\n",
       "      <td>7</td>\n",
       "      <td>2</td>\n",
       "    </tr>\n",
       "    <tr>\n",
       "      <th>4</th>\n",
       "      <td>10000.0</td>\n",
       "      <td>F</td>\n",
       "      <td>2</td>\n",
       "      <td>19</td>\n",
       "      <td>4</td>\n",
       "      <td>7</td>\n",
       "      <td>2</td>\n",
       "    </tr>\n",
       "  </tbody>\n",
       "</table>\n",
       "</div>"
      ],
      "text/plain": [
       "    INCOME SEX  MARITAL.STATUS  AGE  EDUCATION  OCCUPATION  DUAL.INCOMES\n",
       "0  75000.0   F               1   50          0           2             0\n",
       "1  75000.0   M               1   50          1           2             0\n",
       "2  75000.0   F               1   30          1           4             1\n",
       "3  10000.0   F               2   19          4           7             2\n",
       "4  10000.0   F               2   19          4           7             2"
      ]
     },
     "execution_count": 4267,
     "metadata": {},
     "output_type": "execute_result"
    }
   ],
   "source": [
    "data_income.head()"
   ]
  },
  {
   "cell_type": "code",
   "execution_count": 4268,
   "id": "ccdeaf5a",
   "metadata": {},
   "outputs": [
    {
     "data": {
      "text/html": [
       "<div>\n",
       "<style scoped>\n",
       "    .dataframe tbody tr th:only-of-type {\n",
       "        vertical-align: middle;\n",
       "    }\n",
       "\n",
       "    .dataframe tbody tr th {\n",
       "        vertical-align: top;\n",
       "    }\n",
       "\n",
       "    .dataframe thead th {\n",
       "        text-align: right;\n",
       "    }\n",
       "</style>\n",
       "<table border=\"1\" class=\"dataframe\">\n",
       "  <thead>\n",
       "    <tr style=\"text-align: right;\">\n",
       "      <th></th>\n",
       "      <th>INCOME</th>\n",
       "      <th>MARITAL.STATUS</th>\n",
       "      <th>AGE</th>\n",
       "      <th>EDUCATION</th>\n",
       "      <th>OCCUPATION</th>\n",
       "      <th>DUAL.INCOMES</th>\n",
       "    </tr>\n",
       "  </thead>\n",
       "  <tbody>\n",
       "    <tr>\n",
       "      <th>INCOME</th>\n",
       "      <td>1.000000</td>\n",
       "      <td>-0.223011</td>\n",
       "      <td>0.285443</td>\n",
       "      <td>-0.204366</td>\n",
       "      <td>-0.110818</td>\n",
       "      <td>-0.347984</td>\n",
       "    </tr>\n",
       "    <tr>\n",
       "      <th>MARITAL.STATUS</th>\n",
       "      <td>-0.223011</td>\n",
       "      <td>1.000000</td>\n",
       "      <td>-0.216091</td>\n",
       "      <td>0.070302</td>\n",
       "      <td>0.165729</td>\n",
       "      <td>0.363341</td>\n",
       "    </tr>\n",
       "    <tr>\n",
       "      <th>AGE</th>\n",
       "      <td>0.285443</td>\n",
       "      <td>-0.216091</td>\n",
       "      <td>1.000000</td>\n",
       "      <td>-0.116923</td>\n",
       "      <td>-0.175942</td>\n",
       "      <td>-0.417958</td>\n",
       "    </tr>\n",
       "    <tr>\n",
       "      <th>EDUCATION</th>\n",
       "      <td>-0.204366</td>\n",
       "      <td>0.070302</td>\n",
       "      <td>-0.116923</td>\n",
       "      <td>1.000000</td>\n",
       "      <td>0.056025</td>\n",
       "      <td>0.062215</td>\n",
       "    </tr>\n",
       "    <tr>\n",
       "      <th>OCCUPATION</th>\n",
       "      <td>-0.110818</td>\n",
       "      <td>0.165729</td>\n",
       "      <td>-0.175942</td>\n",
       "      <td>0.056025</td>\n",
       "      <td>1.000000</td>\n",
       "      <td>0.182428</td>\n",
       "    </tr>\n",
       "    <tr>\n",
       "      <th>DUAL.INCOMES</th>\n",
       "      <td>-0.347984</td>\n",
       "      <td>0.363341</td>\n",
       "      <td>-0.417958</td>\n",
       "      <td>0.062215</td>\n",
       "      <td>0.182428</td>\n",
       "      <td>1.000000</td>\n",
       "    </tr>\n",
       "  </tbody>\n",
       "</table>\n",
       "</div>"
      ],
      "text/plain": [
       "                  INCOME  MARITAL.STATUS       AGE  EDUCATION  OCCUPATION  \\\n",
       "INCOME          1.000000       -0.223011  0.285443  -0.204366   -0.110818   \n",
       "MARITAL.STATUS -0.223011        1.000000 -0.216091   0.070302    0.165729   \n",
       "AGE             0.285443       -0.216091  1.000000  -0.116923   -0.175942   \n",
       "EDUCATION      -0.204366        0.070302 -0.116923   1.000000    0.056025   \n",
       "OCCUPATION     -0.110818        0.165729 -0.175942   0.056025    1.000000   \n",
       "DUAL.INCOMES   -0.347984        0.363341 -0.417958   0.062215    0.182428   \n",
       "\n",
       "                DUAL.INCOMES  \n",
       "INCOME             -0.347984  \n",
       "MARITAL.STATUS      0.363341  \n",
       "AGE                -0.417958  \n",
       "EDUCATION           0.062215  \n",
       "OCCUPATION          0.182428  \n",
       "DUAL.INCOMES        1.000000  "
      ]
     },
     "execution_count": 4268,
     "metadata": {},
     "output_type": "execute_result"
    }
   ],
   "source": [
    "correlation = data_income.corr()\n",
    "correlation"
   ]
  },
  {
   "cell_type": "code",
   "execution_count": 4269,
   "id": "d9654e8a",
   "metadata": {},
   "outputs": [
    {
     "data": {
      "text/html": [
       "<div>\n",
       "<style scoped>\n",
       "    .dataframe tbody tr th:only-of-type {\n",
       "        vertical-align: middle;\n",
       "    }\n",
       "\n",
       "    .dataframe tbody tr th {\n",
       "        vertical-align: top;\n",
       "    }\n",
       "\n",
       "    .dataframe thead th {\n",
       "        text-align: right;\n",
       "    }\n",
       "</style>\n",
       "<table border=\"1\" class=\"dataframe\">\n",
       "  <thead>\n",
       "    <tr style=\"text-align: right;\">\n",
       "      <th>col_0</th>\n",
       "      <th>count</th>\n",
       "    </tr>\n",
       "    <tr>\n",
       "      <th>SEX</th>\n",
       "      <th></th>\n",
       "    </tr>\n",
       "  </thead>\n",
       "  <tbody>\n",
       "    <tr>\n",
       "      <th>F</th>\n",
       "      <td>0.54774</td>\n",
       "    </tr>\n",
       "    <tr>\n",
       "      <th>M</th>\n",
       "      <td>0.45226</td>\n",
       "    </tr>\n",
       "  </tbody>\n",
       "</table>\n",
       "</div>"
      ],
      "text/plain": [
       "col_0    count\n",
       "SEX           \n",
       "F      0.54774\n",
       "M      0.45226"
      ]
     },
     "execution_count": 4269,
     "metadata": {},
     "output_type": "execute_result"
    }
   ],
   "source": [
    "gender = pd.crosstab(index = data_income['SEX'], columns='count', normalize=True)\n",
    "gender"
   ]
  },
  {
   "cell_type": "code",
   "execution_count": 4270,
   "id": "1861afc3",
   "metadata": {},
   "outputs": [
    {
     "data": {
      "text/html": [
       "<div>\n",
       "<style scoped>\n",
       "    .dataframe tbody tr th:only-of-type {\n",
       "        vertical-align: middle;\n",
       "    }\n",
       "\n",
       "    .dataframe tbody tr th {\n",
       "        vertical-align: top;\n",
       "    }\n",
       "\n",
       "    .dataframe thead th {\n",
       "        text-align: right;\n",
       "    }\n",
       "</style>\n",
       "<table border=\"1\" class=\"dataframe\">\n",
       "  <thead>\n",
       "    <tr style=\"text-align: right;\">\n",
       "      <th>INCOME</th>\n",
       "      <th>10000.0</th>\n",
       "      <th>15000.0</th>\n",
       "      <th>20000.0</th>\n",
       "      <th>25000.0</th>\n",
       "      <th>30000.0</th>\n",
       "      <th>40000.0</th>\n",
       "      <th>50000.0</th>\n",
       "      <th>75000.0</th>\n",
       "    </tr>\n",
       "    <tr>\n",
       "      <th>SEX</th>\n",
       "      <th></th>\n",
       "      <th></th>\n",
       "      <th></th>\n",
       "      <th></th>\n",
       "      <th></th>\n",
       "      <th></th>\n",
       "      <th></th>\n",
       "      <th></th>\n",
       "    </tr>\n",
       "  </thead>\n",
       "  <tbody>\n",
       "    <tr>\n",
       "      <th>F</th>\n",
       "      <td>0.292998</td>\n",
       "      <td>0.074043</td>\n",
       "      <td>0.090544</td>\n",
       "      <td>0.075312</td>\n",
       "      <td>0.118468</td>\n",
       "      <td>0.104929</td>\n",
       "      <td>0.151682</td>\n",
       "      <td>0.092025</td>\n",
       "    </tr>\n",
       "    <tr>\n",
       "      <th>M</th>\n",
       "      <td>0.255701</td>\n",
       "      <td>0.075583</td>\n",
       "      <td>0.088137</td>\n",
       "      <td>0.085831</td>\n",
       "      <td>0.129900</td>\n",
       "      <td>0.112990</td>\n",
       "      <td>0.142455</td>\n",
       "      <td>0.109403</td>\n",
       "    </tr>\n",
       "    <tr>\n",
       "      <th>All</th>\n",
       "      <td>0.276130</td>\n",
       "      <td>0.074739</td>\n",
       "      <td>0.089455</td>\n",
       "      <td>0.080070</td>\n",
       "      <td>0.123638</td>\n",
       "      <td>0.108575</td>\n",
       "      <td>0.147509</td>\n",
       "      <td>0.099884</td>\n",
       "    </tr>\n",
       "  </tbody>\n",
       "</table>\n",
       "</div>"
      ],
      "text/plain": [
       "INCOME   10000.0   15000.0   20000.0   25000.0   30000.0   40000.0   50000.0  \\\n",
       "SEX                                                                            \n",
       "F       0.292998  0.074043  0.090544  0.075312  0.118468  0.104929  0.151682   \n",
       "M       0.255701  0.075583  0.088137  0.085831  0.129900  0.112990  0.142455   \n",
       "All     0.276130  0.074739  0.089455  0.080070  0.123638  0.108575  0.147509   \n",
       "\n",
       "INCOME   75000.0  \n",
       "SEX               \n",
       "F       0.092025  \n",
       "M       0.109403  \n",
       "All     0.099884  "
      ]
     },
     "execution_count": 4270,
     "metadata": {},
     "output_type": "execute_result"
    }
   ],
   "source": [
    "gender_income_stat = pd.crosstab(index = data_income['SEX'], columns=data_income['INCOME'], margins=True, normalize='index')\n",
    "gender_income_stat"
   ]
  },
  {
   "cell_type": "code",
   "execution_count": 4271,
   "id": "6f8bff61",
   "metadata": {},
   "outputs": [
    {
     "name": "stderr",
     "output_type": "stream",
     "text": [
      "/Users/Admin/opt/anaconda3/lib/python3.9/site-packages/seaborn/_decorators.py:36: FutureWarning: Pass the following variable as a keyword arg: x. From version 0.12, the only valid positional argument will be `data`, and passing other arguments without an explicit keyword will result in an error or misinterpretation.\n",
      "  warnings.warn(\n"
     ]
    },
    {
     "data": {
      "image/png": "[encoded data removed]",
      "text/plain": [
       "<Figure size 432x288 with 1 Axes>"
      ]
     },
     "metadata": {},
     "output_type": "display_data"
    }
   ],
   "source": [
    "income_stat = sns.countplot(data_income['INCOME'])"
   ]
  },
  {
   "cell_type": "code",
   "execution_count": 4272,
   "id": "567571c5",
   "metadata": {},
   "outputs": [
    {
     "data": {
      "text/plain": [
       "<seaborn.axisgrid.FacetGrid at 0x7fbd94564e50>"
      ]
     },
     "execution_count": 4272,
     "metadata": {},
     "output_type": "execute_result"
    },
    {
     "data": {
      "image/png": "[encoded data removed]",
      "text/plain": [
       "<Figure size 360x360 with 1 Axes>"
      ]
     },
     "metadata": {},
     "output_type": "display_data"
    }
   ],
   "source": [
    "sns.displot(data_income['AGE'], bins=10, kde=False)"
   ]
  },
  {
   "cell_type": "code",
   "execution_count": 4273,
   "id": "f25cb9d6",
   "metadata": {},
   "outputs": [
    {
     "name": "stderr",
     "output_type": "stream",
     "text": [
      "/Users/Admin/opt/anaconda3/lib/python3.9/site-packages/seaborn/_decorators.py:36: FutureWarning: Pass the following variables as keyword args: x, y. From version 0.12, the only valid positional argument will be `data`, and passing other arguments without an explicit keyword will result in an error or misinterpretation.\n",
      "  warnings.warn(\n"
     ]
    },
    {
     "data": {
      "text/plain": [
       "<AxesSubplot:xlabel='INCOME', ylabel='AGE'>"
      ]
     },
     "execution_count": 4273,
     "metadata": {},
     "output_type": "execute_result"
    },
    {
     "data": {
      "image/png": "[encoded data removed]",
      "text/plain": [
       "<Figure size 432x288 with 1 Axes>"
      ]
     },
     "metadata": {},
     "output_type": "display_data"
    }
   ],
   "source": [
    "sns.boxplot('INCOME', 'AGE', data=data_income)"
   ]
  },
  {
   "cell_type": "code",
   "execution_count": 4274,
   "id": "0c294642",
   "metadata": {},
   "outputs": [
    {
     "data": {
      "text/plain": [
       "INCOME\n",
       "10000.0    23.0\n",
       "15000.0    30.0\n",
       "20000.0    30.0\n",
       "25000.0    30.0\n",
       "30000.0    40.0\n",
       "40000.0    40.0\n",
       "50000.0    40.0\n",
       "75000.0    40.0\n",
       "Name: AGE, dtype: float64"
      ]
     },
     "execution_count": 4274,
     "metadata": {},
     "output_type": "execute_result"
    }
   ],
   "source": [
    "# median income age wise\n",
    "data_income.groupby('INCOME')['AGE'].median()"
   ]
  },
  {
   "cell_type": "markdown",
   "id": "1ee6617f",
   "metadata": {},
   "source": [
    "### Exploratory Data Analysis"
   ]
  },
  {
   "cell_type": "markdown",
   "id": "a90b7fba",
   "metadata": {},
   "source": [
    "__Job Type vs Income Status__"
   ]
  },
  {
   "cell_type": "code",
   "execution_count": 4275,
   "id": "29d9cd3d",
   "metadata": {},
   "outputs": [
    {
     "data": {
      "text/plain": [
       "(8630, 7)"
      ]
     },
     "execution_count": 4275,
     "metadata": {},
     "output_type": "execute_result"
    }
   ],
   "source": [
    "data_income_visual.shape"
   ]
  },
  {
   "cell_type": "code",
   "execution_count": 4276,
   "id": "2fa1149f",
   "metadata": {},
   "outputs": [
    {
     "name": "stdout",
     "output_type": "stream",
     "text": [
      "<class 'pandas.core.frame.DataFrame'>\n",
      "Int64Index: 8630 entries, 0 to 8992\n",
      "Data columns (total 7 columns):\n",
      " #   Column          Non-Null Count  Dtype \n",
      "---  ------          --------------  ----- \n",
      " 0   INCOME          8630 non-null   object\n",
      " 1   SEX             8630 non-null   object\n",
      " 2   MARITAL.STATUS  8630 non-null   object\n",
      " 3   AGE             8630 non-null   object\n",
      " 4   EDUCATION       8630 non-null   object\n",
      " 5   OCCUPATION      8630 non-null   object\n",
      " 6   DUAL.INCOMES    8630 non-null   object\n",
      "dtypes: object(7)\n",
      "memory usage: 539.4+ KB\n"
     ]
    }
   ],
   "source": [
    "data_income_visual.info()"
   ]
  },
  {
   "cell_type": "code",
   "execution_count": 4277,
   "id": "831a762a",
   "metadata": {},
   "outputs": [
    {
     "data": {
      "text/html": [
       "<div>\n",
       "<style scoped>\n",
       "    .dataframe tbody tr th:only-of-type {\n",
       "        vertical-align: middle;\n",
       "    }\n",
       "\n",
       "    .dataframe tbody tr th {\n",
       "        vertical-align: top;\n",
       "    }\n",
       "\n",
       "    .dataframe thead th {\n",
       "        text-align: right;\n",
       "    }\n",
       "</style>\n",
       "<table border=\"1\" class=\"dataframe\">\n",
       "  <thead>\n",
       "    <tr style=\"text-align: right;\">\n",
       "      <th></th>\n",
       "      <th>INCOME</th>\n",
       "      <th>SEX</th>\n",
       "      <th>MARITAL.STATUS</th>\n",
       "      <th>AGE</th>\n",
       "      <th>EDUCATION</th>\n",
       "      <th>OCCUPATION</th>\n",
       "      <th>DUAL.INCOMES</th>\n",
       "    </tr>\n",
       "  </thead>\n",
       "  <tbody>\n",
       "    <tr>\n",
       "      <th>count</th>\n",
       "      <td>8630</td>\n",
       "      <td>8630</td>\n",
       "      <td>8630</td>\n",
       "      <td>8630</td>\n",
       "      <td>8630</td>\n",
       "      <td>8630</td>\n",
       "      <td>8630</td>\n",
       "    </tr>\n",
       "    <tr>\n",
       "      <th>unique</th>\n",
       "      <td>9</td>\n",
       "      <td>2</td>\n",
       "      <td>5</td>\n",
       "      <td>7</td>\n",
       "      <td>6</td>\n",
       "      <td>9</td>\n",
       "      <td>3</td>\n",
       "    </tr>\n",
       "    <tr>\n",
       "      <th>top</th>\n",
       "      <td>-10.000)</td>\n",
       "      <td>F</td>\n",
       "      <td>Single</td>\n",
       "      <td>25-34</td>\n",
       "      <td>1 to 3 years of college</td>\n",
       "      <td>Professional/Managerial</td>\n",
       "      <td>Not Married</td>\n",
       "    </tr>\n",
       "    <tr>\n",
       "      <th>freq</th>\n",
       "      <td>1645</td>\n",
       "      <td>4727</td>\n",
       "      <td>3565</td>\n",
       "      <td>2175</td>\n",
       "      <td>2997</td>\n",
       "      <td>2773</td>\n",
       "      <td>5229</td>\n",
       "    </tr>\n",
       "  </tbody>\n",
       "</table>\n",
       "</div>"
      ],
      "text/plain": [
       "          INCOME   SEX MARITAL.STATUS    AGE                EDUCATION  \\\n",
       "count       8630  8630           8630   8630                     8630   \n",
       "unique         9     2              5      7                        6   \n",
       "top     -10.000)     F         Single  25-34  1 to 3 years of college   \n",
       "freq        1645  4727           3565   2175                     2997   \n",
       "\n",
       "                     OCCUPATION DUAL.INCOMES  \n",
       "count                      8630         8630  \n",
       "unique                        9            3  \n",
       "top     Professional/Managerial  Not Married  \n",
       "freq                       2773         5229  "
      ]
     },
     "execution_count": 4277,
     "metadata": {},
     "output_type": "execute_result"
    }
   ],
   "source": [
    "data_income_visual.describe()"
   ]
  },
  {
   "cell_type": "code",
   "execution_count": 4278,
   "id": "e2062a01",
   "metadata": {},
   "outputs": [],
   "source": [
    "# data_income_visual['OCCUPATION'] = le.inverse_transform(data_income_visual['OCCUPATION'])\n",
    "# data_income_visual['EDUCATION'] = le.inverse_transform(data_income_visual['EDUCATION'])"
   ]
  },
  {
   "cell_type": "code",
   "execution_count": 4279,
   "id": "3b8c02c1",
   "metadata": {},
   "outputs": [],
   "source": [
    "data_income_visual['INCOME'] = data_income['INCOME']\n",
    "data_income_visual['SEX'] = data_income['SEX']\n",
    "data_income_visual['AGE'] = data_income['AGE']"
   ]
  },
  {
   "cell_type": "code",
   "execution_count": 4280,
   "id": "43ede228",
   "metadata": {},
   "outputs": [
    {
     "data": {
      "text/plain": [
       "0       0\n",
       "1       1\n",
       "2       0\n",
       "3       0\n",
       "4       0\n",
       "       ..\n",
       "8988    0\n",
       "8989    1\n",
       "8990    0\n",
       "8991    1\n",
       "8992    1\n",
       "Name: SEX, Length: 8630, dtype: int64"
      ]
     },
     "execution_count": 4280,
     "metadata": {},
     "output_type": "execute_result"
    }
   ],
   "source": [
    "data_income_visual['SEX'].replace('F', 0, inplace=True)\n",
    "data_income_visual['SEX'].replace('M', 1, inplace=True)\n",
    "data_income_visual['SEX'].astype('int64')"
   ]
  },
  {
   "cell_type": "code",
   "execution_count": 4281,
   "id": "e82f7bc9",
   "metadata": {},
   "outputs": [
    {
     "data": {
      "image/png": "[encoded data removed]",
      "text/plain": [
       "<Figure size 432x288 with 1 Axes>"
      ]
     },
     "metadata": {},
     "output_type": "display_data"
    },
    {
     "data": {
      "text/plain": [
       "<Figure size 720x1440 with 0 Axes>"
      ]
     },
     "metadata": {},
     "output_type": "display_data"
    }
   ],
   "source": [
    "sns.barplot(x='INCOME', y='OCCUPATION', data=data_income_visual)\n",
    "# Create figure with specific size\n",
    "fig = plt.figure(figsize=(10, 20))\n",
    "plt.show()"
   ]
  },
  {
   "cell_type": "code",
   "execution_count": 4282,
   "id": "a2377d26",
   "metadata": {},
   "outputs": [
    {
     "data": {
      "image/png": "[encoded data removed]",
      "text/plain": [
       "<Figure size 432x288 with 1 Axes>"
      ]
     },
     "metadata": {},
     "output_type": "display_data"
    },
    {
     "data": {
      "text/plain": [
       "<Figure size 720x1440 with 0 Axes>"
      ]
     },
     "metadata": {},
     "output_type": "display_data"
    }
   ],
   "source": [
    "sns.barplot(x='INCOME', y='EDUCATION', data=data_income_visual)\n",
    "# Create figure with specific size\n",
    "fig = plt.figure(figsize=(10, 20))\n",
    "plt.show()"
   ]
  },
  {
   "cell_type": "markdown",
   "id": "de1822d9",
   "metadata": {},
   "source": [
    "### Logistic Regression"
   ]
  },
  {
   "cell_type": "code",
   "execution_count": 4283,
   "id": "24d05e72",
   "metadata": {},
   "outputs": [],
   "source": [
    "column_list = list(data_income_visual.columns)"
   ]
  },
  {
   "cell_type": "code",
   "execution_count": 4284,
   "id": "e4265c61",
   "metadata": {},
   "outputs": [
    {
     "data": {
      "text/plain": [
       "['INCOME',\n",
       " 'SEX',\n",
       " 'MARITAL.STATUS',\n",
       " 'AGE',\n",
       " 'EDUCATION',\n",
       " 'OCCUPATION',\n",
       " 'DUAL.INCOMES']"
      ]
     },
     "execution_count": 4284,
     "metadata": {},
     "output_type": "execute_result"
    }
   ],
   "source": [
    "column_list"
   ]
  },
  {
   "cell_type": "code",
   "execution_count": 4285,
   "id": "e45b5358",
   "metadata": {},
   "outputs": [],
   "source": [
    "# transform categorical data into int\n",
    "data_income_visual['OCCUPATION'] = le.fit_transform(data_income_visual['OCCUPATION'])\n",
    "data_income_visual['EDUCATION'] = le.fit_transform(data_income_visual['EDUCATION'])\n",
    "data_income_visual['MARITAL.STATUS'] = le.fit_transform(data_income_visual['MARITAL.STATUS'])\n",
    "data_income_visual['DUAL.INCOMES'] = le.fit_transform(data_income_visual['DUAL.INCOMES'])"
   ]
  },
  {
   "cell_type": "code",
   "execution_count": 4286,
   "id": "1faf579c",
   "metadata": {},
   "outputs": [],
   "source": [
    "features = list(set(column_list) - set(['INCOME', 'DUAL.INCOMES', 'MARITAL.STATUS', 'OCCUPATION', 'AGE']))"
   ]
  },
  {
   "cell_type": "code",
   "execution_count": 4287,
   "id": "791da7b8",
   "metadata": {},
   "outputs": [
    {
     "data": {
      "text/plain": [
       "['EDUCATION', 'SEX']"
      ]
     },
     "execution_count": 4287,
     "metadata": {},
     "output_type": "execute_result"
    }
   ],
   "source": [
    "features"
   ]
  },
  {
   "cell_type": "code",
   "execution_count": 4288,
   "id": "30dcdf7c",
   "metadata": {},
   "outputs": [],
   "source": [
    "y = data_income['INCOME'].values"
   ]
  },
  {
   "cell_type": "code",
   "execution_count": 4289,
   "id": "0e581693",
   "metadata": {},
   "outputs": [
    {
     "data": {
      "text/plain": [
       "array([75000., 75000., 75000., ..., 10000., 20000., 30000.])"
      ]
     },
     "execution_count": 4289,
     "metadata": {},
     "output_type": "execute_result"
    }
   ],
   "source": [
    "y"
   ]
  },
  {
   "cell_type": "code",
   "execution_count": 4290,
   "id": "f44c2a8f",
   "metadata": {},
   "outputs": [],
   "source": [
    "x = data_income_visual[features].values"
   ]
  },
  {
   "cell_type": "code",
   "execution_count": 4291,
   "id": "f253a001",
   "metadata": {},
   "outputs": [
    {
     "data": {
      "text/plain": [
       "array([[0, 0],\n",
       "       [1, 1],\n",
       "       [1, 0],\n",
       "       ...,\n",
       "       [4, 0],\n",
       "       [0, 1],\n",
       "       [0, 1]])"
      ]
     },
     "execution_count": 4291,
     "metadata": {},
     "output_type": "execute_result"
    }
   ],
   "source": [
    "x"
   ]
  },
  {
   "cell_type": "code",
   "execution_count": 4292,
   "id": "c187e4a9",
   "metadata": {},
   "outputs": [
    {
     "data": {
      "text/plain": [
       "(8630, 6)"
      ]
     },
     "execution_count": 4292,
     "metadata": {},
     "output_type": "execute_result"
    }
   ],
   "source": [
    "s.shape"
   ]
  },
  {
   "cell_type": "code",
   "execution_count": 4293,
   "id": "d13be786",
   "metadata": {},
   "outputs": [
    {
     "data": {
      "text/plain": [
       "['EDUCATION', 'SEX']"
      ]
     },
     "execution_count": 4293,
     "metadata": {},
     "output_type": "execute_result"
    }
   ],
   "source": [
    "features"
   ]
  },
  {
   "cell_type": "code",
   "execution_count": null,
   "id": "2bfe4b87",
   "metadata": {},
   "outputs": [],
   "source": []
  },
  {
   "cell_type": "code",
   "execution_count": 4294,
   "id": "d62c9907",
   "metadata": {},
   "outputs": [],
   "source": [
    "x_scaled = scaler.fit_transform(x)"
   ]
  },
  {
   "cell_type": "code",
   "execution_count": 4295,
   "id": "a65ede54",
   "metadata": {},
   "outputs": [],
   "source": [
    "train_x, test_x, train_y, test_y = train_test_split(x, y, test_size=0.3, random_state=0)"
   ]
  },
  {
   "cell_type": "code",
   "execution_count": 4296,
   "id": "f9647083",
   "metadata": {},
   "outputs": [],
   "source": [
    "# model = LogisticRegression()"
   ]
  },
  {
   "cell_type": "code",
   "execution_count": 4297,
   "id": "efe2852f",
   "metadata": {},
   "outputs": [],
   "source": [
    "model = LinearRegression()"
   ]
  },
  {
   "cell_type": "markdown",
   "id": "c0ce1bb9",
   "metadata": {},
   "source": [
    "#### fitting the values for x and y"
   ]
  },
  {
   "cell_type": "code",
   "execution_count": 4298,
   "id": "cd7e38a1",
   "metadata": {},
   "outputs": [
    {
     "data": {
      "text/html": [
       "<style>#sk-container-id-16 {color: black;background-color: white;}#sk-container-id-16 pre{padding: 0;}#sk-container-id-16 div.sk-toggleable {background-color: white;}#sk-container-id-16 label.sk-toggleable__label {cursor: pointer;display: block;width: 100%;margin-bottom: 0;padding: 0.3em;box-sizing: border-box;text-align: center;}#sk-container-id-16 label.sk-toggleable__label-arrow:before {content: \"▸\";float: left;margin-right: 0.25em;color: #696969;}#sk-container-id-16 label.sk-toggleable__label-arrow:hover:before {color: black;}#sk-container-id-16 div.sk-estimator:hover label.sk-toggleable__label-arrow:before {color: black;}#sk-container-id-16 div.sk-toggleable__content {max-height: 0;max-width: 0;overflow: hidden;text-align: left;background-color: #f0f8ff;}#sk-container-id-16 div.sk-toggleable__content pre {margin: 0.2em;color: black;border-radius: 0.25em;background-color: #f0f8ff;}#sk-container-id-16 input.sk-toggleable__control:checked~div.sk-toggleable__content {max-height: 200px;max-width: 100%;overflow: auto;}#sk-container-id-16 input.sk-toggleable__control:checked~label.sk-toggleable__label-arrow:before {content: \"▾\";}#sk-container-id-16 div.sk-estimator input.sk-toggleable__control:checked~label.sk-toggleable__label {background-color: #d4ebff;}#sk-container-id-16 div.sk-label input.sk-toggleable__control:checked~label.sk-toggleable__label {background-color: #d4ebff;}#sk-container-id-16 input.sk-hidden--visually {border: 0;clip: rect(1px 1px 1px 1px);clip: rect(1px, 1px, 1px, 1px);height: 1px;margin: -1px;overflow: hidden;padding: 0;position: absolute;width: 1px;}#sk-container-id-16 div.sk-estimator {font-family: monospace;background-color: #f0f8ff;border: 1px dotted black;border-radius: 0.25em;box-sizing: border-box;margin-bottom: 0.5em;}#sk-container-id-16 div.sk-estimator:hover {background-color: #d4ebff;}#sk-container-id-16 div.sk-parallel-item::after {content: \"\";width: 100%;border-bottom: 1px solid gray;flex-grow: 1;}#sk-container-id-16 div.sk-label:hover label.sk-toggleable__label {background-color: #d4ebff;}#sk-container-id-16 div.sk-serial::before {content: \"\";position: absolute;border-left: 1px solid gray;box-sizing: border-box;top: 0;bottom: 0;left: 50%;z-index: 0;}#sk-container-id-16 div.sk-serial {display: flex;flex-direction: column;align-items: center;background-color: white;padding-right: 0.2em;padding-left: 0.2em;position: relative;}#sk-container-id-16 div.sk-item {position: relative;z-index: 1;}#sk-container-id-16 div.sk-parallel {display: flex;align-items: stretch;justify-content: center;background-color: white;position: relative;}#sk-container-id-16 div.sk-item::before, #sk-container-id-16 div.sk-parallel-item::before {content: \"\";position: absolute;border-left: 1px solid gray;box-sizing: border-box;top: 0;bottom: 0;left: 50%;z-index: -1;}#sk-container-id-16 div.sk-parallel-item {display: flex;flex-direction: column;z-index: 1;position: relative;background-color: white;}#sk-container-id-16 div.sk-parallel-item:first-child::after {align-self: flex-end;width: 50%;}#sk-container-id-16 div.sk-parallel-item:last-child::after {align-self: flex-start;width: 50%;}#sk-container-id-16 div.sk-parallel-item:only-child::after {width: 0;}#sk-container-id-16 div.sk-dashed-wrapped {border: 1px dashed gray;margin: 0 0.4em 0.5em 0.4em;box-sizing: border-box;padding-bottom: 0.4em;background-color: white;}#sk-container-id-16 div.sk-label label {font-family: monospace;font-weight: bold;display: inline-block;line-height: 1.2em;}#sk-container-id-16 div.sk-label-container {text-align: center;}#sk-container-id-16 div.sk-container {/* jupyter's `normalize.less` sets `[hidden] { display: none; }` but bootstrap.min.css set `[hidden] { display: none !important; }` so we also need the `!important` here to be able to override the default hidden behavior on the sphinx rendered scikit-learn.org. See: https://github.com/scikit-learn/scikit-learn/issues/21755 */display: inline-block !important;position: relative;}#sk-container-id-16 div.sk-text-repr-fallback {display: none;}</style><div id=\"sk-container-id-16\" class=\"sk-top-container\"><div class=\"sk-text-repr-fallback\"><pre>LinearRegression()</pre><b>In a Jupyter environment, please rerun this cell to show the HTML representation or trust the notebook. <br />On GitHub, the HTML representation is unable to render, please try loading this page with nbviewer.org.</b></div><div class=\"sk-container\" hidden><div class=\"sk-item\"><div class=\"sk-estimator sk-toggleable\"><input class=\"sk-toggleable__control sk-hidden--visually\" id=\"sk-estimator-id-16\" type=\"checkbox\" checked><label for=\"sk-estimator-id-16\" class=\"sk-toggleable__label sk-toggleable__label-arrow\">LinearRegression</label><div class=\"sk-toggleable__content\"><pre>LinearRegression()</pre></div></div></div></div></div>"
      ],
      "text/plain": [
       "LinearRegression()"
      ]
     },
     "execution_count": 4298,
     "metadata": {},
     "output_type": "execute_result"
    }
   ],
   "source": [
    "model.fit(train_x, train_y)"
   ]
  },
  {
   "cell_type": "code",
   "execution_count": 4299,
   "id": "5f01a07f",
   "metadata": {},
   "outputs": [
    {
     "data": {
      "text/plain": [
       "array([-2010.66871432,  1202.36934299])"
      ]
     },
     "execution_count": 4299,
     "metadata": {},
     "output_type": "execute_result"
    }
   ],
   "source": [
    "model.coef_"
   ]
  },
  {
   "cell_type": "code",
   "execution_count": 4300,
   "id": "a78c8724",
   "metadata": {},
   "outputs": [
    {
     "data": {
      "text/plain": [
       "34300.90607524979"
      ]
     },
     "execution_count": 4300,
     "metadata": {},
     "output_type": "execute_result"
    }
   ],
   "source": [
    "model.intercept_"
   ]
  },
  {
   "cell_type": "markdown",
   "id": "999ce336",
   "metadata": {},
   "source": [
    "#### Prediction from test data"
   ]
  },
  {
   "cell_type": "code",
   "execution_count": 4301,
   "id": "c394e86e",
   "metadata": {},
   "outputs": [],
   "source": [
    "prediction = model.predict(test_x)"
   ]
  },
  {
   "cell_type": "code",
   "execution_count": 4302,
   "id": "3ab53b93",
   "metadata": {},
   "outputs": [
    {
     "data": {
      "text/plain": [
       "array([32290.23736093, 34300.90607525, 32290.23736093, ...,\n",
       "       24247.56250366, 34300.90607525, 31481.9379896 ])"
      ]
     },
     "execution_count": 4302,
     "metadata": {},
     "output_type": "execute_result"
    }
   ],
   "source": [
    "prediction"
   ]
  },
  {
   "cell_type": "markdown",
   "id": "a698ed86",
   "metadata": {},
   "source": [
    "#### Confusion matrix"
   ]
  },
  {
   "cell_type": "code",
   "execution_count": 4303,
   "id": "65b6fea5",
   "metadata": {},
   "outputs": [],
   "source": [
    "# confution_matrix_result = confusion_matrix(test_y, prediction)"
   ]
  },
  {
   "cell_type": "code",
   "execution_count": 4304,
   "id": "fe549a27",
   "metadata": {},
   "outputs": [],
   "source": [
    "# confution_matrix_result"
   ]
  },
  {
   "cell_type": "code",
   "execution_count": 4305,
   "id": "fe0ee40e",
   "metadata": {},
   "outputs": [
    {
     "data": {
      "text/plain": [
       "(8630,)"
      ]
     },
     "execution_count": 4305,
     "metadata": {},
     "output_type": "execute_result"
    }
   ],
   "source": [
    "y.shape"
   ]
  },
  {
   "cell_type": "code",
   "execution_count": 4306,
   "id": "22209948",
   "metadata": {},
   "outputs": [
    {
     "data": {
      "text/plain": [
       "(2589,)"
      ]
     },
     "execution_count": 4306,
     "metadata": {},
     "output_type": "execute_result"
    }
   ],
   "source": [
    "prediction.shape"
   ]
  },
  {
   "cell_type": "code",
   "execution_count": null,
   "id": "37e42166",
   "metadata": {},
   "outputs": [],
   "source": []
  },
  {
   "cell_type": "code",
   "execution_count": 4307,
   "id": "aa260154",
   "metadata": {},
   "outputs": [
    {
     "ename": "AssertionError",
     "evalue": "Found input variables with inconsistent numbers of samples",
     "output_type": "error",
     "traceback": [
      "\u001b[0;31m---------------------------------------------------------------------------\u001b[0m",
      "\u001b[0;31mAssertionError\u001b[0m                            Traceback (most recent call last)",
      "\u001b[0;32m/var/folders/7p/nhr_8mz933v_4r1mwyd3_jg40000gp/T/ipykernel_73742/4176909016.py\u001b[0m in \u001b[0;36m<cell line: 2>\u001b[0;34m()\u001b[0m\n\u001b[1;32m      1\u001b[0m \u001b[0;31m# Ensure that the number of samples in y and prediction are equal\u001b[0m\u001b[0;34m\u001b[0m\u001b[0;34m\u001b[0m\u001b[0m\n\u001b[0;32m----> 2\u001b[0;31m \u001b[0;32massert\u001b[0m \u001b[0my\u001b[0m\u001b[0;34m.\u001b[0m\u001b[0mshape\u001b[0m \u001b[0;34m==\u001b[0m \u001b[0mprediction\u001b[0m\u001b[0;34m.\u001b[0m\u001b[0mshape\u001b[0m\u001b[0;34m,\u001b[0m \u001b[0;34m\"Found input variables with inconsistent numbers of samples\"\u001b[0m\u001b[0;34m\u001b[0m\u001b[0;34m\u001b[0m\u001b[0m\n\u001b[0m",
      "\u001b[0;31mAssertionError\u001b[0m: Found input variables with inconsistent numbers of samples"
     ]
    }
   ],
   "source": [
    "# Ensure that the number of samples in y and prediction are equal\n",
    "assert y.shape == prediction.shape, \"Found input variables with inconsistent numbers of samples\""
   ]
  },
  {
   "cell_type": "code",
   "execution_count": null,
   "id": "a6f3deb5",
   "metadata": {},
   "outputs": [],
   "source": [
    "# Calculate mean squared error\n",
    "mse = mean_squared_error(y, prediction)"
   ]
  },
  {
   "cell_type": "code",
   "execution_count": null,
   "id": "66f5f6d0",
   "metadata": {},
   "outputs": [],
   "source": []
  },
  {
   "cell_type": "markdown",
   "id": "5f33ceeb",
   "metadata": {},
   "source": [
    "#### Calculate the accurecy"
   ]
  },
  {
   "cell_type": "code",
   "execution_count": null,
   "id": "0be9d391",
   "metadata": {},
   "outputs": [],
   "source": [
    "accuracy_score_result = accuracy_score(test_y, prediction)"
   ]
  },
  {
   "cell_type": "code",
   "execution_count": null,
   "id": "0a3ec715",
   "metadata": {},
   "outputs": [],
   "source": [
    "accuracy_score_result"
   ]
  },
  {
   "cell_type": "markdown",
   "id": "0815f00e",
   "metadata": {},
   "source": [
    "#### printing misclassified value from prediction"
   ]
  },
  {
   "cell_type": "code",
   "execution_count": null,
   "id": "ea6746ee",
   "metadata": {},
   "outputs": [],
   "source": [
    "print('misclassified values %d' % (test_y != prediction).sum() )"
   ]
  },
  {
   "cell_type": "code",
   "execution_count": null,
   "id": "d68c7755",
   "metadata": {},
   "outputs": [],
   "source": []
  },
  {
   "cell_type": "code",
   "execution_count": null,
   "id": "5a0abe2f",
   "metadata": {},
   "outputs": [],
   "source": []
  }
 ],
 "metadata": {
  "kernelspec": {
   "display_name": "Python 3 (ipykernel)",
   "language": "python",
   "name": "python3"
  },
  "language_info": {
   "codemirror_mode": {
    "name": "ipython",
    "version": 3
   },
   "file_extension": ".py",
   "mimetype": "text/x-python",
   "name": "python",
   "nbconvert_exporter": "python",
   "pygments_lexer": "ipython3",
   "version": "3.8.16"
  }
 },
 "nbformat": 4,
 "nbformat_minor": 5
}
