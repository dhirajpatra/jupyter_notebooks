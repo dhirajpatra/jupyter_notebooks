{
 "cells": [
  {
   "cell_type": "code",
   "execution_count": 77,
   "id": "ce53868d",
   "metadata": {},
   "outputs": [],
   "source": [
    "import numpy as np\n",
    "import pandas as pd\n",
    "from matplotlib import pyplot as plt\n",
    "import seaborn as sns\n",
    "import datetime\n",
    "\n",
    "import warnings\n",
    "\n",
    "warnings.filterwarnings(\"ignore\", category=FutureWarning)"
   ]
  },
  {
   "cell_type": "code",
   "execution_count": 78,
   "id": "09a8f044",
   "metadata": {},
   "outputs": [],
   "source": [
    "cars_data = pd.read_csv('data/car_data.csv')"
   ]
  },
  {
   "cell_type": "code",
   "execution_count": 79,
   "id": "97e6b7fb",
   "metadata": {},
   "outputs": [
    {
     "data": {
      "text/html": [
       "<div>\n",
       "<style scoped>\n",
       "    .dataframe tbody tr th:only-of-type {\n",
       "        vertical-align: middle;\n",
       "    }\n",
       "\n",
       "    .dataframe tbody tr th {\n",
       "        vertical-align: top;\n",
       "    }\n",
       "\n",
       "    .dataframe thead th {\n",
       "        text-align: right;\n",
       "    }\n",
       "</style>\n",
       "<table border=\"1\" class=\"dataframe\">\n",
       "  <thead>\n",
       "    <tr style=\"text-align: right;\">\n",
       "      <th></th>\n",
       "      <th>Car_Name</th>\n",
       "      <th>Year</th>\n",
       "      <th>Selling_Price</th>\n",
       "      <th>Present_Price</th>\n",
       "      <th>Kms_Driven</th>\n",
       "      <th>Fuel_Type</th>\n",
       "      <th>Seller_Type</th>\n",
       "      <th>Transmission</th>\n",
       "      <th>Owner</th>\n",
       "    </tr>\n",
       "  </thead>\n",
       "  <tbody>\n",
       "    <tr>\n",
       "      <th>0</th>\n",
       "      <td>ritz</td>\n",
       "      <td>2014</td>\n",
       "      <td>3.35</td>\n",
       "      <td>5.59</td>\n",
       "      <td>27000</td>\n",
       "      <td>Petrol</td>\n",
       "      <td>Dealer</td>\n",
       "      <td>Manual</td>\n",
       "      <td>0</td>\n",
       "    </tr>\n",
       "    <tr>\n",
       "      <th>1</th>\n",
       "      <td>sx4</td>\n",
       "      <td>2013</td>\n",
       "      <td>4.75</td>\n",
       "      <td>9.54</td>\n",
       "      <td>43000</td>\n",
       "      <td>Diesel</td>\n",
       "      <td>Dealer</td>\n",
       "      <td>Manual</td>\n",
       "      <td>0</td>\n",
       "    </tr>\n",
       "    <tr>\n",
       "      <th>2</th>\n",
       "      <td>ciaz</td>\n",
       "      <td>2017</td>\n",
       "      <td>7.25</td>\n",
       "      <td>9.85</td>\n",
       "      <td>6900</td>\n",
       "      <td>Petrol</td>\n",
       "      <td>Dealer</td>\n",
       "      <td>Manual</td>\n",
       "      <td>0</td>\n",
       "    </tr>\n",
       "    <tr>\n",
       "      <th>3</th>\n",
       "      <td>wagon r</td>\n",
       "      <td>2011</td>\n",
       "      <td>2.85</td>\n",
       "      <td>4.15</td>\n",
       "      <td>5200</td>\n",
       "      <td>Petrol</td>\n",
       "      <td>Dealer</td>\n",
       "      <td>Manual</td>\n",
       "      <td>0</td>\n",
       "    </tr>\n",
       "    <tr>\n",
       "      <th>4</th>\n",
       "      <td>swift</td>\n",
       "      <td>2014</td>\n",
       "      <td>4.60</td>\n",
       "      <td>6.87</td>\n",
       "      <td>42450</td>\n",
       "      <td>Diesel</td>\n",
       "      <td>Dealer</td>\n",
       "      <td>Manual</td>\n",
       "      <td>0</td>\n",
       "    </tr>\n",
       "  </tbody>\n",
       "</table>\n",
       "</div>"
      ],
      "text/plain": [
       "  Car_Name  Year  Selling_Price  Present_Price  Kms_Driven Fuel_Type  \\\n",
       "0     ritz  2014           3.35           5.59       27000    Petrol   \n",
       "1      sx4  2013           4.75           9.54       43000    Diesel   \n",
       "2     ciaz  2017           7.25           9.85        6900    Petrol   \n",
       "3  wagon r  2011           2.85           4.15        5200    Petrol   \n",
       "4    swift  2014           4.60           6.87       42450    Diesel   \n",
       "\n",
       "  Seller_Type Transmission  Owner  \n",
       "0      Dealer       Manual      0  \n",
       "1      Dealer       Manual      0  \n",
       "2      Dealer       Manual      0  \n",
       "3      Dealer       Manual      0  \n",
       "4      Dealer       Manual      0  "
      ]
     },
     "execution_count": 79,
     "metadata": {},
     "output_type": "execute_result"
    }
   ],
   "source": [
    "cars_data.head()"
   ]
  },
  {
   "cell_type": "code",
   "execution_count": 80,
   "id": "942974a0",
   "metadata": {},
   "outputs": [
    {
     "data": {
      "text/html": [
       "<div>\n",
       "<style scoped>\n",
       "    .dataframe tbody tr th:only-of-type {\n",
       "        vertical-align: middle;\n",
       "    }\n",
       "\n",
       "    .dataframe tbody tr th {\n",
       "        vertical-align: top;\n",
       "    }\n",
       "\n",
       "    .dataframe thead th {\n",
       "        text-align: right;\n",
       "    }\n",
       "</style>\n",
       "<table border=\"1\" class=\"dataframe\">\n",
       "  <thead>\n",
       "    <tr style=\"text-align: right;\">\n",
       "      <th></th>\n",
       "      <th>Car_Name</th>\n",
       "      <th>Year</th>\n",
       "      <th>Selling_Price</th>\n",
       "      <th>Present_Price</th>\n",
       "      <th>Kms_Driven</th>\n",
       "      <th>Fuel_Type</th>\n",
       "      <th>Seller_Type</th>\n",
       "      <th>Transmission</th>\n",
       "      <th>Owner</th>\n",
       "    </tr>\n",
       "  </thead>\n",
       "  <tbody>\n",
       "    <tr>\n",
       "      <th>0</th>\n",
       "      <td>ritz</td>\n",
       "      <td>2014</td>\n",
       "      <td>3.35</td>\n",
       "      <td>5.59</td>\n",
       "      <td>27000</td>\n",
       "      <td>Petrol</td>\n",
       "      <td>Dealer</td>\n",
       "      <td>Manual</td>\n",
       "      <td>0</td>\n",
       "    </tr>\n",
       "    <tr>\n",
       "      <th>1</th>\n",
       "      <td>sx4</td>\n",
       "      <td>2013</td>\n",
       "      <td>4.75</td>\n",
       "      <td>9.54</td>\n",
       "      <td>43000</td>\n",
       "      <td>Diesel</td>\n",
       "      <td>Dealer</td>\n",
       "      <td>Manual</td>\n",
       "      <td>0</td>\n",
       "    </tr>\n",
       "    <tr>\n",
       "      <th>2</th>\n",
       "      <td>ciaz</td>\n",
       "      <td>2017</td>\n",
       "      <td>7.25</td>\n",
       "      <td>9.85</td>\n",
       "      <td>6900</td>\n",
       "      <td>Petrol</td>\n",
       "      <td>Dealer</td>\n",
       "      <td>Manual</td>\n",
       "      <td>0</td>\n",
       "    </tr>\n",
       "    <tr>\n",
       "      <th>3</th>\n",
       "      <td>wagon r</td>\n",
       "      <td>2011</td>\n",
       "      <td>2.85</td>\n",
       "      <td>4.15</td>\n",
       "      <td>5200</td>\n",
       "      <td>Petrol</td>\n",
       "      <td>Dealer</td>\n",
       "      <td>Manual</td>\n",
       "      <td>0</td>\n",
       "    </tr>\n",
       "    <tr>\n",
       "      <th>4</th>\n",
       "      <td>swift</td>\n",
       "      <td>2014</td>\n",
       "      <td>4.60</td>\n",
       "      <td>6.87</td>\n",
       "      <td>42450</td>\n",
       "      <td>Diesel</td>\n",
       "      <td>Dealer</td>\n",
       "      <td>Manual</td>\n",
       "      <td>0</td>\n",
       "    </tr>\n",
       "    <tr>\n",
       "      <th>...</th>\n",
       "      <td>...</td>\n",
       "      <td>...</td>\n",
       "      <td>...</td>\n",
       "      <td>...</td>\n",
       "      <td>...</td>\n",
       "      <td>...</td>\n",
       "      <td>...</td>\n",
       "      <td>...</td>\n",
       "      <td>...</td>\n",
       "    </tr>\n",
       "    <tr>\n",
       "      <th>296</th>\n",
       "      <td>city</td>\n",
       "      <td>2016</td>\n",
       "      <td>9.50</td>\n",
       "      <td>11.60</td>\n",
       "      <td>33988</td>\n",
       "      <td>Diesel</td>\n",
       "      <td>Dealer</td>\n",
       "      <td>Manual</td>\n",
       "      <td>0</td>\n",
       "    </tr>\n",
       "    <tr>\n",
       "      <th>297</th>\n",
       "      <td>brio</td>\n",
       "      <td>2015</td>\n",
       "      <td>4.00</td>\n",
       "      <td>5.90</td>\n",
       "      <td>60000</td>\n",
       "      <td>Petrol</td>\n",
       "      <td>Dealer</td>\n",
       "      <td>Manual</td>\n",
       "      <td>0</td>\n",
       "    </tr>\n",
       "    <tr>\n",
       "      <th>298</th>\n",
       "      <td>city</td>\n",
       "      <td>2009</td>\n",
       "      <td>3.35</td>\n",
       "      <td>11.00</td>\n",
       "      <td>87934</td>\n",
       "      <td>Petrol</td>\n",
       "      <td>Dealer</td>\n",
       "      <td>Manual</td>\n",
       "      <td>0</td>\n",
       "    </tr>\n",
       "    <tr>\n",
       "      <th>299</th>\n",
       "      <td>city</td>\n",
       "      <td>2017</td>\n",
       "      <td>11.50</td>\n",
       "      <td>12.50</td>\n",
       "      <td>9000</td>\n",
       "      <td>Diesel</td>\n",
       "      <td>Dealer</td>\n",
       "      <td>Manual</td>\n",
       "      <td>0</td>\n",
       "    </tr>\n",
       "    <tr>\n",
       "      <th>300</th>\n",
       "      <td>brio</td>\n",
       "      <td>2016</td>\n",
       "      <td>5.30</td>\n",
       "      <td>5.90</td>\n",
       "      <td>5464</td>\n",
       "      <td>Petrol</td>\n",
       "      <td>Dealer</td>\n",
       "      <td>Manual</td>\n",
       "      <td>0</td>\n",
       "    </tr>\n",
       "  </tbody>\n",
       "</table>\n",
       "<p>301 rows × 9 columns</p>\n",
       "</div>"
      ],
      "text/plain": [
       "    Car_Name  Year  Selling_Price  Present_Price  Kms_Driven Fuel_Type  \\\n",
       "0       ritz  2014           3.35           5.59       27000    Petrol   \n",
       "1        sx4  2013           4.75           9.54       43000    Diesel   \n",
       "2       ciaz  2017           7.25           9.85        6900    Petrol   \n",
       "3    wagon r  2011           2.85           4.15        5200    Petrol   \n",
       "4      swift  2014           4.60           6.87       42450    Diesel   \n",
       "..       ...   ...            ...            ...         ...       ...   \n",
       "296     city  2016           9.50          11.60       33988    Diesel   \n",
       "297     brio  2015           4.00           5.90       60000    Petrol   \n",
       "298     city  2009           3.35          11.00       87934    Petrol   \n",
       "299     city  2017          11.50          12.50        9000    Diesel   \n",
       "300     brio  2016           5.30           5.90        5464    Petrol   \n",
       "\n",
       "    Seller_Type Transmission  Owner  \n",
       "0        Dealer       Manual      0  \n",
       "1        Dealer       Manual      0  \n",
       "2        Dealer       Manual      0  \n",
       "3        Dealer       Manual      0  \n",
       "4        Dealer       Manual      0  \n",
       "..          ...          ...    ...  \n",
       "296      Dealer       Manual      0  \n",
       "297      Dealer       Manual      0  \n",
       "298      Dealer       Manual      0  \n",
       "299      Dealer       Manual      0  \n",
       "300      Dealer       Manual      0  \n",
       "\n",
       "[301 rows x 9 columns]"
      ]
     },
     "execution_count": 80,
     "metadata": {},
     "output_type": "execute_result"
    }
   ],
   "source": [
    "# reference to cars_data\n",
    "samp = cars_data.copy(deep=False)\n",
    "samp"
   ]
  },
  {
   "cell_type": "code",
   "execution_count": 81,
   "id": "fb11df0d",
   "metadata": {},
   "outputs": [
    {
     "name": "stdout",
     "output_type": "stream",
     "text": [
      "Outlier Indices: (array([ 37,  39,  51,  58,  59,  59,  62,  63,  63,  64,  64,  77,  82,\n",
      "        84,  85,  86,  86,  93,  96, 106, 179, 184, 191, 192, 193, 196,\n",
      "       198, 201, 205, 241]), array([8, 8, 6, 3, 4, 6, 4, 4, 6, 4, 6, 8, 6, 2, 3, 4, 6, 6, 6, 3, 2, 3,\n",
      "       3, 3, 3, 2, 3, 3, 3, 3]))\n"
     ]
    }
   ],
   "source": [
    "# Calculate the z-score for each data point\n",
    "z_scores = np.abs((samp - samp.mean(numeric_only=True)) / samp.std(numeric_only=True))\n",
    "\n",
    "# Set a threshold for identifying outliers (e.g., z-score greater than 3)\n",
    "threshold = 3\n",
    "\n",
    "# Find the indices of outliers\n",
    "outlier_indices = np.where(z_scores > threshold)\n",
    "\n",
    "# Print the indices of outliers\n",
    "print(\"Outlier Indices:\", outlier_indices)\n"
   ]
  },
  {
   "cell_type": "code",
   "execution_count": 82,
   "id": "23b7e0cb",
   "metadata": {},
   "outputs": [
    {
     "name": "stdout",
     "output_type": "stream",
     "text": [
      "Cleaned DataFrame:     Car_Name  Year  Selling_Price  Present_Price  Kms_Driven Fuel_Type  \\\n",
      "0       ritz  2014           3.35           5.59       27000    Petrol   \n",
      "1        sx4  2013           4.75           9.54       43000    Diesel   \n",
      "2       ciaz  2017           7.25           9.85        6900    Petrol   \n",
      "3    wagon r  2011           2.85           4.15        5200    Petrol   \n",
      "4      swift  2014           4.60           6.87       42450    Diesel   \n",
      "..       ...   ...            ...            ...         ...       ...   \n",
      "296     city  2016           9.50          11.60       33988    Diesel   \n",
      "297     brio  2015           4.00           5.90       60000    Petrol   \n",
      "298     city  2009           3.35          11.00       87934    Petrol   \n",
      "299     city  2017          11.50          12.50        9000    Diesel   \n",
      "300     brio  2016           5.30           5.90        5464    Petrol   \n",
      "\n",
      "    Seller_Type Transmission  Owner  \n",
      "0        Dealer       Manual      0  \n",
      "1        Dealer       Manual      0  \n",
      "2        Dealer       Manual      0  \n",
      "3        Dealer       Manual      0  \n",
      "4        Dealer       Manual      0  \n",
      "..          ...          ...    ...  \n",
      "296      Dealer       Manual      0  \n",
      "297      Dealer       Manual      0  \n",
      "298      Dealer       Manual      0  \n",
      "299      Dealer       Manual      0  \n",
      "300      Dealer       Manual      0  \n",
      "\n",
      "[275 rows x 9 columns]\n"
     ]
    }
   ],
   "source": [
    "# Remove the rows containing outliers\n",
    "df_cleaned = samp.drop(outlier_indices[0])\n",
    "\n",
    "# Print the cleaned DataFrame\n",
    "print(\"Cleaned DataFrame:\", df_cleaned)\n"
   ]
  },
  {
   "cell_type": "code",
   "execution_count": 83,
   "id": "25ad554a",
   "metadata": {},
   "outputs": [
    {
     "data": {
      "text/html": [
       "<div>\n",
       "<style scoped>\n",
       "    .dataframe tbody tr th:only-of-type {\n",
       "        vertical-align: middle;\n",
       "    }\n",
       "\n",
       "    .dataframe tbody tr th {\n",
       "        vertical-align: top;\n",
       "    }\n",
       "\n",
       "    .dataframe thead th {\n",
       "        text-align: right;\n",
       "    }\n",
       "</style>\n",
       "<table border=\"1\" class=\"dataframe\">\n",
       "  <thead>\n",
       "    <tr style=\"text-align: right;\">\n",
       "      <th></th>\n",
       "      <th>Car_Name</th>\n",
       "      <th>Year</th>\n",
       "      <th>Selling_Price</th>\n",
       "      <th>Present_Price</th>\n",
       "      <th>Kms_Driven</th>\n",
       "      <th>Fuel_Type</th>\n",
       "      <th>Seller_Type</th>\n",
       "      <th>Transmission</th>\n",
       "      <th>Owner</th>\n",
       "    </tr>\n",
       "  </thead>\n",
       "  <tbody>\n",
       "    <tr>\n",
       "      <th>0</th>\n",
       "      <td>ritz</td>\n",
       "      <td>2014</td>\n",
       "      <td>3.35</td>\n",
       "      <td>5.59</td>\n",
       "      <td>27000</td>\n",
       "      <td>Petrol</td>\n",
       "      <td>Dealer</td>\n",
       "      <td>Manual</td>\n",
       "      <td>0</td>\n",
       "    </tr>\n",
       "    <tr>\n",
       "      <th>1</th>\n",
       "      <td>sx4</td>\n",
       "      <td>2013</td>\n",
       "      <td>4.75</td>\n",
       "      <td>9.54</td>\n",
       "      <td>43000</td>\n",
       "      <td>Diesel</td>\n",
       "      <td>Dealer</td>\n",
       "      <td>Manual</td>\n",
       "      <td>0</td>\n",
       "    </tr>\n",
       "    <tr>\n",
       "      <th>2</th>\n",
       "      <td>ciaz</td>\n",
       "      <td>2017</td>\n",
       "      <td>7.25</td>\n",
       "      <td>9.85</td>\n",
       "      <td>6900</td>\n",
       "      <td>Petrol</td>\n",
       "      <td>Dealer</td>\n",
       "      <td>Manual</td>\n",
       "      <td>0</td>\n",
       "    </tr>\n",
       "    <tr>\n",
       "      <th>3</th>\n",
       "      <td>wagon r</td>\n",
       "      <td>2011</td>\n",
       "      <td>2.85</td>\n",
       "      <td>4.15</td>\n",
       "      <td>5200</td>\n",
       "      <td>Petrol</td>\n",
       "      <td>Dealer</td>\n",
       "      <td>Manual</td>\n",
       "      <td>0</td>\n",
       "    </tr>\n",
       "    <tr>\n",
       "      <th>4</th>\n",
       "      <td>swift</td>\n",
       "      <td>2014</td>\n",
       "      <td>4.60</td>\n",
       "      <td>6.87</td>\n",
       "      <td>42450</td>\n",
       "      <td>Diesel</td>\n",
       "      <td>Dealer</td>\n",
       "      <td>Manual</td>\n",
       "      <td>0</td>\n",
       "    </tr>\n",
       "    <tr>\n",
       "      <th>...</th>\n",
       "      <td>...</td>\n",
       "      <td>...</td>\n",
       "      <td>...</td>\n",
       "      <td>...</td>\n",
       "      <td>...</td>\n",
       "      <td>...</td>\n",
       "      <td>...</td>\n",
       "      <td>...</td>\n",
       "      <td>...</td>\n",
       "    </tr>\n",
       "    <tr>\n",
       "      <th>296</th>\n",
       "      <td>city</td>\n",
       "      <td>2016</td>\n",
       "      <td>9.50</td>\n",
       "      <td>11.60</td>\n",
       "      <td>33988</td>\n",
       "      <td>Diesel</td>\n",
       "      <td>Dealer</td>\n",
       "      <td>Manual</td>\n",
       "      <td>0</td>\n",
       "    </tr>\n",
       "    <tr>\n",
       "      <th>297</th>\n",
       "      <td>brio</td>\n",
       "      <td>2015</td>\n",
       "      <td>4.00</td>\n",
       "      <td>5.90</td>\n",
       "      <td>60000</td>\n",
       "      <td>Petrol</td>\n",
       "      <td>Dealer</td>\n",
       "      <td>Manual</td>\n",
       "      <td>0</td>\n",
       "    </tr>\n",
       "    <tr>\n",
       "      <th>298</th>\n",
       "      <td>city</td>\n",
       "      <td>2009</td>\n",
       "      <td>3.35</td>\n",
       "      <td>11.00</td>\n",
       "      <td>87934</td>\n",
       "      <td>Petrol</td>\n",
       "      <td>Dealer</td>\n",
       "      <td>Manual</td>\n",
       "      <td>0</td>\n",
       "    </tr>\n",
       "    <tr>\n",
       "      <th>299</th>\n",
       "      <td>city</td>\n",
       "      <td>2017</td>\n",
       "      <td>11.50</td>\n",
       "      <td>12.50</td>\n",
       "      <td>9000</td>\n",
       "      <td>Diesel</td>\n",
       "      <td>Dealer</td>\n",
       "      <td>Manual</td>\n",
       "      <td>0</td>\n",
       "    </tr>\n",
       "    <tr>\n",
       "      <th>300</th>\n",
       "      <td>brio</td>\n",
       "      <td>2016</td>\n",
       "      <td>5.30</td>\n",
       "      <td>5.90</td>\n",
       "      <td>5464</td>\n",
       "      <td>Petrol</td>\n",
       "      <td>Dealer</td>\n",
       "      <td>Manual</td>\n",
       "      <td>0</td>\n",
       "    </tr>\n",
       "  </tbody>\n",
       "</table>\n",
       "<p>275 rows × 9 columns</p>\n",
       "</div>"
      ],
      "text/plain": [
       "    Car_Name  Year  Selling_Price  Present_Price  Kms_Driven Fuel_Type  \\\n",
       "0       ritz  2014           3.35           5.59       27000    Petrol   \n",
       "1        sx4  2013           4.75           9.54       43000    Diesel   \n",
       "2       ciaz  2017           7.25           9.85        6900    Petrol   \n",
       "3    wagon r  2011           2.85           4.15        5200    Petrol   \n",
       "4      swift  2014           4.60           6.87       42450    Diesel   \n",
       "..       ...   ...            ...            ...         ...       ...   \n",
       "296     city  2016           9.50          11.60       33988    Diesel   \n",
       "297     brio  2015           4.00           5.90       60000    Petrol   \n",
       "298     city  2009           3.35          11.00       87934    Petrol   \n",
       "299     city  2017          11.50          12.50        9000    Diesel   \n",
       "300     brio  2016           5.30           5.90        5464    Petrol   \n",
       "\n",
       "    Seller_Type Transmission  Owner  \n",
       "0        Dealer       Manual      0  \n",
       "1        Dealer       Manual      0  \n",
       "2        Dealer       Manual      0  \n",
       "3        Dealer       Manual      0  \n",
       "4        Dealer       Manual      0  \n",
       "..          ...          ...    ...  \n",
       "296      Dealer       Manual      0  \n",
       "297      Dealer       Manual      0  \n",
       "298      Dealer       Manual      0  \n",
       "299      Dealer       Manual      0  \n",
       "300      Dealer       Manual      0  \n",
       "\n",
       "[275 rows x 9 columns]"
      ]
     },
     "execution_count": 83,
     "metadata": {},
     "output_type": "execute_result"
    }
   ],
   "source": [
    "# new obj\n",
    "cars_data2 = df_cleaned.copy(deep=True)\n",
    "cars_data2"
   ]
  },
  {
   "cell_type": "code",
   "execution_count": 84,
   "id": "37a74d70",
   "metadata": {},
   "outputs": [
    {
     "data": {
      "text/plain": [
       "RangeIndex(start=0, stop=301, step=1)"
      ]
     },
     "execution_count": 84,
     "metadata": {},
     "output_type": "execute_result"
    }
   ],
   "source": [
    "cars_data.index"
   ]
  },
  {
   "cell_type": "code",
   "execution_count": 85,
   "id": "1c6b856b",
   "metadata": {},
   "outputs": [
    {
     "data": {
      "text/plain": [
       "Index(['Car_Name', 'Year', 'Selling_Price', 'Present_Price', 'Kms_Driven',\n",
       "       'Fuel_Type', 'Seller_Type', 'Transmission', 'Owner'],\n",
       "      dtype='object')"
      ]
     },
     "execution_count": 85,
     "metadata": {},
     "output_type": "execute_result"
    }
   ],
   "source": [
    "cars_data.columns"
   ]
  },
  {
   "cell_type": "code",
   "execution_count": 86,
   "id": "f8552b19",
   "metadata": {},
   "outputs": [
    {
     "data": {
      "text/plain": [
       "2709"
      ]
     },
     "execution_count": 86,
     "metadata": {},
     "output_type": "execute_result"
    }
   ],
   "source": [
    "cars_data.size"
   ]
  },
  {
   "cell_type": "code",
   "execution_count": 87,
   "id": "6326ff3f",
   "metadata": {},
   "outputs": [
    {
     "data": {
      "text/plain": [
       "(301, 9)"
      ]
     },
     "execution_count": 87,
     "metadata": {},
     "output_type": "execute_result"
    }
   ],
   "source": [
    "cars_data.shape"
   ]
  },
  {
   "cell_type": "code",
   "execution_count": 88,
   "id": "fd62752a",
   "metadata": {},
   "outputs": [
    {
     "data": {
      "text/plain": [
       "Index             128\n",
       "Car_Name         2408\n",
       "Year             2408\n",
       "Selling_Price    2408\n",
       "Present_Price    2408\n",
       "Kms_Driven       2408\n",
       "Fuel_Type        2408\n",
       "Seller_Type      2408\n",
       "Transmission     2408\n",
       "Owner            2408\n",
       "dtype: int64"
      ]
     },
     "execution_count": 88,
     "metadata": {},
     "output_type": "execute_result"
    }
   ],
   "source": [
    "cars_data.memory_usage()"
   ]
  },
  {
   "cell_type": "code",
   "execution_count": 89,
   "id": "7b0ec8ab",
   "metadata": {},
   "outputs": [
    {
     "data": {
      "text/plain": [
       "2"
      ]
     },
     "execution_count": 89,
     "metadata": {},
     "output_type": "execute_result"
    }
   ],
   "source": [
    "cars_data.ndim"
   ]
  },
  {
   "cell_type": "code",
   "execution_count": 61,
   "id": "ea789779",
   "metadata": {},
   "outputs": [
    {
     "data": {
      "text/html": [
       "<div>\n",
       "<style scoped>\n",
       "    .dataframe tbody tr th:only-of-type {\n",
       "        vertical-align: middle;\n",
       "    }\n",
       "\n",
       "    .dataframe tbody tr th {\n",
       "        vertical-align: top;\n",
       "    }\n",
       "\n",
       "    .dataframe thead th {\n",
       "        text-align: right;\n",
       "    }\n",
       "</style>\n",
       "<table border=\"1\" class=\"dataframe\">\n",
       "  <thead>\n",
       "    <tr style=\"text-align: right;\">\n",
       "      <th></th>\n",
       "      <th>vehicle_year</th>\n",
       "      <th>vehicle_make</th>\n",
       "      <th>vehicle_model</th>\n",
       "      <th>vehicle_vin</th>\n",
       "    </tr>\n",
       "  </thead>\n",
       "  <tbody>\n",
       "    <tr>\n",
       "      <th>394</th>\n",
       "      <td>1997</td>\n",
       "      <td>JAGUAR</td>\n",
       "      <td>XK8</td>\n",
       "      <td>SAJGX2744VC012979</td>\n",
       "    </tr>\n",
       "    <tr>\n",
       "      <th>395</th>\n",
       "      <td>1997</td>\n",
       "      <td>PONTIAC</td>\n",
       "      <td>GRAND PRIX</td>\n",
       "      <td>1G2WP12K8VF218495</td>\n",
       "    </tr>\n",
       "    <tr>\n",
       "      <th>396</th>\n",
       "      <td>1997</td>\n",
       "      <td>TOYOTA</td>\n",
       "      <td>TACOMA</td>\n",
       "      <td>4TANL42N5VZ291591</td>\n",
       "    </tr>\n",
       "    <tr>\n",
       "      <th>397</th>\n",
       "      <td>1997</td>\n",
       "      <td>CHEVROLET</td>\n",
       "      <td>SUBURBAN</td>\n",
       "      <td>3GNEC16R0VG133859</td>\n",
       "    </tr>\n",
       "    <tr>\n",
       "      <th>398</th>\n",
       "      <td>1997</td>\n",
       "      <td>HONDA</td>\n",
       "      <td>ACCORD</td>\n",
       "      <td>1HGCD726XVA025289</td>\n",
       "    </tr>\n",
       "  </tbody>\n",
       "</table>\n",
       "</div>"
      ],
      "text/plain": [
       "     vehicle_year vehicle_make vehicle_model        vehicle_vin\n",
       "394          1997       JAGUAR           XK8  SAJGX2744VC012979\n",
       "395          1997      PONTIAC    GRAND PRIX  1G2WP12K8VF218495\n",
       "396          1997       TOYOTA        TACOMA  4TANL42N5VZ291591\n",
       "397          1997    CHEVROLET      SUBURBAN  3GNEC16R0VG133859\n",
       "398          1997        HONDA        ACCORD  1HGCD726XVA025289"
      ]
     },
     "execution_count": 61,
     "metadata": {},
     "output_type": "execute_result"
    }
   ],
   "source": [
    "cars_data.tail(5)"
   ]
  },
  {
   "cell_type": "code",
   "execution_count": 90,
   "id": "8d5672a6",
   "metadata": {},
   "outputs": [
    {
     "data": {
      "text/plain": [
       "'Diesel'"
      ]
     },
     "execution_count": 90,
     "metadata": {},
     "output_type": "execute_result"
    }
   ],
   "source": [
    "cars_data.at[4, 'Fuel_Type']"
   ]
  },
  {
   "cell_type": "code",
   "execution_count": 91,
   "id": "f360f241",
   "metadata": {},
   "outputs": [
    {
     "data": {
      "text/plain": [
       "6.87"
      ]
     },
     "execution_count": 91,
     "metadata": {},
     "output_type": "execute_result"
    }
   ],
   "source": [
    "cars_data.iat[4, 3]"
   ]
  },
  {
   "cell_type": "code",
   "execution_count": 92,
   "id": "28bb6847",
   "metadata": {},
   "outputs": [
    {
     "data": {
      "text/plain": [
       "0      Petrol\n",
       "1      Diesel\n",
       "2      Petrol\n",
       "3      Petrol\n",
       "4      Diesel\n",
       "        ...  \n",
       "296    Diesel\n",
       "297    Petrol\n",
       "298    Petrol\n",
       "299    Diesel\n",
       "300    Petrol\n",
       "Name: Fuel_Type, Length: 301, dtype: object"
      ]
     },
     "execution_count": 92,
     "metadata": {},
     "output_type": "execute_result"
    }
   ],
   "source": [
    "cars_data.loc[:, 'Fuel_Type']"
   ]
  },
  {
   "cell_type": "code",
   "execution_count": 93,
   "id": "fdec3c96",
   "metadata": {},
   "outputs": [
    {
     "data": {
      "text/plain": [
       "Car_Name          object\n",
       "Year               int64\n",
       "Selling_Price    float64\n",
       "Present_Price    float64\n",
       "Kms_Driven         int64\n",
       "Fuel_Type         object\n",
       "Seller_Type       object\n",
       "Transmission      object\n",
       "Owner              int64\n",
       "dtype: object"
      ]
     },
     "execution_count": 93,
     "metadata": {},
     "output_type": "execute_result"
    }
   ],
   "source": [
    "cars_data.dtypes"
   ]
  },
  {
   "cell_type": "code",
   "execution_count": 94,
   "id": "dbed275b",
   "metadata": {},
   "outputs": [
    {
     "name": "stdout",
     "output_type": "stream",
     "text": [
      "<class 'pandas.core.frame.DataFrame'>\n",
      "RangeIndex: 301 entries, 0 to 300\n",
      "Data columns (total 9 columns):\n",
      " #   Column         Non-Null Count  Dtype  \n",
      "---  ------         --------------  -----  \n",
      " 0   Car_Name       301 non-null    object \n",
      " 1   Year           301 non-null    int64  \n",
      " 2   Selling_Price  301 non-null    float64\n",
      " 3   Present_Price  301 non-null    float64\n",
      " 4   Kms_Driven     301 non-null    int64  \n",
      " 5   Fuel_Type      301 non-null    object \n",
      " 6   Seller_Type    301 non-null    object \n",
      " 7   Transmission   301 non-null    object \n",
      " 8   Owner          301 non-null    int64  \n",
      "dtypes: float64(2), int64(3), object(4)\n",
      "memory usage: 21.3+ KB\n"
     ]
    }
   ],
   "source": [
    "cars_data.info()"
   ]
  },
  {
   "cell_type": "markdown",
   "id": "41f6ecf7",
   "metadata": {},
   "source": [
    "### Replace all categorical data into int "
   ]
  },
  {
   "cell_type": "code",
   "execution_count": 95,
   "id": "4e382890",
   "metadata": {},
   "outputs": [
    {
     "data": {
      "text/plain": [
       "array(['CNG', 'Diesel', 'Petrol'], dtype=object)"
      ]
     },
     "execution_count": 95,
     "metadata": {},
     "output_type": "execute_result"
    }
   ],
   "source": [
    "np.unique(cars_data['Fuel_Type'])"
   ]
  },
  {
   "cell_type": "code",
   "execution_count": 96,
   "id": "51f891c6",
   "metadata": {},
   "outputs": [
    {
     "data": {
      "text/plain": [
       "array(['Dealer', 'Individual'], dtype=object)"
      ]
     },
     "execution_count": 96,
     "metadata": {},
     "output_type": "execute_result"
    }
   ],
   "source": [
    "np.unique(cars_data['Seller_Type'])"
   ]
  },
  {
   "cell_type": "code",
   "execution_count": 97,
   "id": "e7e91e40",
   "metadata": {},
   "outputs": [
    {
     "data": {
      "text/plain": [
       "array(['Automatic', 'Manual'], dtype=object)"
      ]
     },
     "execution_count": 97,
     "metadata": {},
     "output_type": "execute_result"
    }
   ],
   "source": [
    "np.unique(cars_data['Transmission'])"
   ]
  },
  {
   "cell_type": "code",
   "execution_count": 98,
   "id": "060795e5",
   "metadata": {},
   "outputs": [
    {
     "data": {
      "text/plain": [
       "0    Petrol\n",
       "1    Diesel\n",
       "2    Petrol\n",
       "3    Petrol\n",
       "4    Diesel\n",
       "Name: Fuel_Type, dtype: object"
      ]
     },
     "execution_count": 98,
     "metadata": {},
     "output_type": "execute_result"
    }
   ],
   "source": [
    "cars_data['Fuel_Type'].head()"
   ]
  },
  {
   "cell_type": "markdown",
   "id": "7003f434",
   "metadata": {},
   "source": [
    "Fuel_Type as category:\n",
    "1. Petrol\n",
    "2. Diesel\n",
    "3. CNG"
   ]
  },
  {
   "cell_type": "code",
   "execution_count": 99,
   "id": "13f8edcb",
   "metadata": {},
   "outputs": [
    {
     "data": {
      "text/plain": [
       "2408"
      ]
     },
     "execution_count": 99,
     "metadata": {},
     "output_type": "execute_result"
    }
   ],
   "source": [
    "cars_data['Fuel_Type'].nbytes"
   ]
  },
  {
   "cell_type": "code",
   "execution_count": 100,
   "id": "afd6de1b",
   "metadata": {},
   "outputs": [
    {
     "data": {
      "text/plain": [
       "325"
      ]
     },
     "execution_count": 100,
     "metadata": {},
     "output_type": "execute_result"
    }
   ],
   "source": [
    "cars_data['Fuel_Type'].astype('category').nbytes"
   ]
  },
  {
   "cell_type": "code",
   "execution_count": 111,
   "id": "ac4558c5",
   "metadata": {},
   "outputs": [],
   "source": [
    "cars_data['Fuel_Type'].replace('Petrol', 1, inplace=True)"
   ]
  },
  {
   "cell_type": "code",
   "execution_count": 112,
   "id": "5afc3b3c",
   "metadata": {},
   "outputs": [],
   "source": [
    "cars_data['Fuel_Type'].replace('Diesel', 2, inplace=True)"
   ]
  },
  {
   "cell_type": "code",
   "execution_count": 113,
   "id": "655b2962",
   "metadata": {},
   "outputs": [],
   "source": [
    "cars_data['Fuel_Type'].replace('CNG', 3, inplace=True)"
   ]
  },
  {
   "cell_type": "code",
   "execution_count": 114,
   "id": "9f2279f8",
   "metadata": {},
   "outputs": [
    {
     "data": {
      "text/plain": [
       "0      1\n",
       "1      2\n",
       "2      1\n",
       "3      1\n",
       "4      2\n",
       "      ..\n",
       "296    2\n",
       "297    1\n",
       "298    1\n",
       "299    2\n",
       "300    1\n",
       "Name: Fuel_Type, Length: 301, dtype: int64"
      ]
     },
     "execution_count": 114,
     "metadata": {},
     "output_type": "execute_result"
    }
   ],
   "source": [
    "cars_data['Fuel_Type'].astype('int64')"
   ]
  },
  {
   "cell_type": "code",
   "execution_count": 115,
   "id": "e5060a78",
   "metadata": {},
   "outputs": [
    {
     "data": {
      "text/plain": [
       "0    1\n",
       "1    2\n",
       "2    1\n",
       "3    1\n",
       "4    2\n",
       "Name: Fuel_Type, dtype: int64"
      ]
     },
     "execution_count": 115,
     "metadata": {},
     "output_type": "execute_result"
    }
   ],
   "source": [
    "cars_data['Fuel_Type'].head()"
   ]
  },
  {
   "cell_type": "code",
   "execution_count": 116,
   "id": "f301eacd",
   "metadata": {},
   "outputs": [
    {
     "data": {
      "text/plain": [
       "2408"
      ]
     },
     "execution_count": 116,
     "metadata": {},
     "output_type": "execute_result"
    }
   ],
   "source": [
    "cars_data['Seller_Type'].nbytes"
   ]
  },
  {
   "cell_type": "code",
   "execution_count": 117,
   "id": "d90c1b78",
   "metadata": {},
   "outputs": [
    {
     "data": {
      "text/plain": [
       "317"
      ]
     },
     "execution_count": 117,
     "metadata": {},
     "output_type": "execute_result"
    }
   ],
   "source": [
    "cars_data['Seller_Type'].astype('category').nbytes"
   ]
  },
  {
   "cell_type": "code",
   "execution_count": 118,
   "id": "331af129",
   "metadata": {},
   "outputs": [],
   "source": [
    "cars_data['Seller_Type'].replace('Dealer', 1, inplace=True)"
   ]
  },
  {
   "cell_type": "code",
   "execution_count": 119,
   "id": "d145702f",
   "metadata": {},
   "outputs": [],
   "source": [
    "cars_data['Seller_Type'].replace('Individual', 2, inplace=True)"
   ]
  },
  {
   "cell_type": "code",
   "execution_count": 120,
   "id": "c83b7060",
   "metadata": {},
   "outputs": [
    {
     "data": {
      "text/plain": [
       "0      1\n",
       "1      1\n",
       "2      1\n",
       "3      1\n",
       "4      1\n",
       "      ..\n",
       "296    1\n",
       "297    1\n",
       "298    1\n",
       "299    1\n",
       "300    1\n",
       "Name: Seller_Type, Length: 301, dtype: int64"
      ]
     },
     "execution_count": 120,
     "metadata": {},
     "output_type": "execute_result"
    }
   ],
   "source": [
    "cars_data['Seller_Type'].astype('int64')"
   ]
  },
  {
   "cell_type": "markdown",
   "id": "d2417aa9",
   "metadata": {},
   "source": [
    "Transmission as category:\n",
    "1. Automatic\n",
    "2. Manual"
   ]
  },
  {
   "cell_type": "code",
   "execution_count": 121,
   "id": "81564f43",
   "metadata": {},
   "outputs": [
    {
     "data": {
      "text/plain": [
       "2408"
      ]
     },
     "execution_count": 121,
     "metadata": {},
     "output_type": "execute_result"
    }
   ],
   "source": [
    "cars_data['Transmission'].nbytes"
   ]
  },
  {
   "cell_type": "code",
   "execution_count": 122,
   "id": "843493b1",
   "metadata": {},
   "outputs": [
    {
     "data": {
      "text/plain": [
       "317"
      ]
     },
     "execution_count": 122,
     "metadata": {},
     "output_type": "execute_result"
    }
   ],
   "source": [
    "cars_data['Transmission'].astype('category').nbytes"
   ]
  },
  {
   "cell_type": "code",
   "execution_count": 123,
   "id": "4c4672ab",
   "metadata": {},
   "outputs": [],
   "source": [
    "cars_data['Transmission'].replace('Automatic', 1, inplace=True)"
   ]
  },
  {
   "cell_type": "code",
   "execution_count": 124,
   "id": "016bfb46",
   "metadata": {},
   "outputs": [],
   "source": [
    "cars_data['Transmission'].replace('Manual', 2, inplace=True)"
   ]
  },
  {
   "cell_type": "code",
   "execution_count": 125,
   "id": "774ceaec",
   "metadata": {},
   "outputs": [
    {
     "data": {
      "text/plain": [
       "0      2\n",
       "1      2\n",
       "2      2\n",
       "3      2\n",
       "4      2\n",
       "      ..\n",
       "296    2\n",
       "297    2\n",
       "298    2\n",
       "299    2\n",
       "300    2\n",
       "Name: Transmission, Length: 301, dtype: int64"
      ]
     },
     "execution_count": 125,
     "metadata": {},
     "output_type": "execute_result"
    }
   ],
   "source": [
    "cars_data['Transmission'].astype('int64')"
   ]
  },
  {
   "cell_type": "code",
   "execution_count": 127,
   "id": "b470e6e1",
   "metadata": {},
   "outputs": [
    {
     "data": {
      "text/html": [
       "<div>\n",
       "<style scoped>\n",
       "    .dataframe tbody tr th:only-of-type {\n",
       "        vertical-align: middle;\n",
       "    }\n",
       "\n",
       "    .dataframe tbody tr th {\n",
       "        vertical-align: top;\n",
       "    }\n",
       "\n",
       "    .dataframe thead th {\n",
       "        text-align: right;\n",
       "    }\n",
       "</style>\n",
       "<table border=\"1\" class=\"dataframe\">\n",
       "  <thead>\n",
       "    <tr style=\"text-align: right;\">\n",
       "      <th></th>\n",
       "      <th>Car_Name</th>\n",
       "      <th>Year</th>\n",
       "      <th>Selling_Price</th>\n",
       "      <th>Present_Price</th>\n",
       "      <th>Kms_Driven</th>\n",
       "      <th>Fuel_Type</th>\n",
       "      <th>Seller_Type</th>\n",
       "      <th>Transmission</th>\n",
       "      <th>Owner</th>\n",
       "    </tr>\n",
       "  </thead>\n",
       "  <tbody>\n",
       "    <tr>\n",
       "      <th>186</th>\n",
       "      <td>TVS Wego</td>\n",
       "      <td>2010</td>\n",
       "      <td>0.25</td>\n",
       "      <td>0.52</td>\n",
       "      <td>22000</td>\n",
       "      <td>1</td>\n",
       "      <td>2</td>\n",
       "      <td>1</td>\n",
       "      <td>0</td>\n",
       "    </tr>\n",
       "    <tr>\n",
       "      <th>155</th>\n",
       "      <td>Honda Activa 4G</td>\n",
       "      <td>2017</td>\n",
       "      <td>0.48</td>\n",
       "      <td>0.51</td>\n",
       "      <td>4300</td>\n",
       "      <td>1</td>\n",
       "      <td>2</td>\n",
       "      <td>1</td>\n",
       "      <td>0</td>\n",
       "    </tr>\n",
       "    <tr>\n",
       "      <th>246</th>\n",
       "      <td>i20</td>\n",
       "      <td>2012</td>\n",
       "      <td>3.75</td>\n",
       "      <td>6.79</td>\n",
       "      <td>35000</td>\n",
       "      <td>1</td>\n",
       "      <td>1</td>\n",
       "      <td>2</td>\n",
       "      <td>0</td>\n",
       "    </tr>\n",
       "    <tr>\n",
       "      <th>203</th>\n",
       "      <td>i10</td>\n",
       "      <td>2011</td>\n",
       "      <td>2.95</td>\n",
       "      <td>4.60</td>\n",
       "      <td>53460</td>\n",
       "      <td>1</td>\n",
       "      <td>1</td>\n",
       "      <td>2</td>\n",
       "      <td>0</td>\n",
       "    </tr>\n",
       "    <tr>\n",
       "      <th>222</th>\n",
       "      <td>i20</td>\n",
       "      <td>2014</td>\n",
       "      <td>6.00</td>\n",
       "      <td>7.60</td>\n",
       "      <td>77632</td>\n",
       "      <td>2</td>\n",
       "      <td>1</td>\n",
       "      <td>2</td>\n",
       "      <td>0</td>\n",
       "    </tr>\n",
       "  </tbody>\n",
       "</table>\n",
       "</div>"
      ],
      "text/plain": [
       "            Car_Name  Year  Selling_Price  Present_Price  Kms_Driven  \\\n",
       "186         TVS Wego  2010           0.25           0.52       22000   \n",
       "155  Honda Activa 4G  2017           0.48           0.51        4300   \n",
       "246              i20  2012           3.75           6.79       35000   \n",
       "203              i10  2011           2.95           4.60       53460   \n",
       "222              i20  2014           6.00           7.60       77632   \n",
       "\n",
       "     Fuel_Type  Seller_Type  Transmission  Owner  \n",
       "186          1            2             1      0  \n",
       "155          1            2             1      0  \n",
       "246          1            1             2      0  \n",
       "203          1            1             2      0  \n",
       "222          2            1             2      0  "
      ]
     },
     "execution_count": 127,
     "metadata": {},
     "output_type": "execute_result"
    }
   ],
   "source": [
    "# display random sample data\n",
    "cars_data.sample(5)"
   ]
  },
  {
   "cell_type": "markdown",
   "id": "a82b29ec",
   "metadata": {},
   "source": [
    "### check null data if any"
   ]
  },
  {
   "cell_type": "code",
   "execution_count": 128,
   "id": "acdfec55",
   "metadata": {},
   "outputs": [
    {
     "data": {
      "text/plain": [
       "Car_Name         0\n",
       "Year             0\n",
       "Selling_Price    0\n",
       "Present_Price    0\n",
       "Kms_Driven       0\n",
       "Fuel_Type        0\n",
       "Seller_Type      0\n",
       "Transmission     0\n",
       "Owner            0\n",
       "dtype: int64"
      ]
     },
     "execution_count": 128,
     "metadata": {},
     "output_type": "execute_result"
    }
   ],
   "source": [
    "cars_data.isnull().sum()"
   ]
  },
  {
   "cell_type": "code",
   "execution_count": 129,
   "id": "06dbdf96",
   "metadata": {},
   "outputs": [
    {
     "data": {
      "text/html": [
       "<div>\n",
       "<style scoped>\n",
       "    .dataframe tbody tr th:only-of-type {\n",
       "        vertical-align: middle;\n",
       "    }\n",
       "\n",
       "    .dataframe tbody tr th {\n",
       "        vertical-align: top;\n",
       "    }\n",
       "\n",
       "    .dataframe thead th {\n",
       "        text-align: right;\n",
       "    }\n",
       "</style>\n",
       "<table border=\"1\" class=\"dataframe\">\n",
       "  <thead>\n",
       "    <tr style=\"text-align: right;\">\n",
       "      <th></th>\n",
       "      <th>Car_Name</th>\n",
       "      <th>Year</th>\n",
       "      <th>Selling_Price</th>\n",
       "      <th>Present_Price</th>\n",
       "      <th>Kms_Driven</th>\n",
       "      <th>Fuel_Type</th>\n",
       "      <th>Seller_Type</th>\n",
       "      <th>Transmission</th>\n",
       "      <th>Owner</th>\n",
       "    </tr>\n",
       "  </thead>\n",
       "  <tbody>\n",
       "    <tr>\n",
       "      <th>0</th>\n",
       "      <td>ritz</td>\n",
       "      <td>2014</td>\n",
       "      <td>3.35</td>\n",
       "      <td>5.59</td>\n",
       "      <td>27000</td>\n",
       "      <td>Petrol</td>\n",
       "      <td>Dealer</td>\n",
       "      <td>Manual</td>\n",
       "      <td>0</td>\n",
       "    </tr>\n",
       "    <tr>\n",
       "      <th>1</th>\n",
       "      <td>sx4</td>\n",
       "      <td>2013</td>\n",
       "      <td>4.75</td>\n",
       "      <td>9.54</td>\n",
       "      <td>43000</td>\n",
       "      <td>Diesel</td>\n",
       "      <td>Dealer</td>\n",
       "      <td>Manual</td>\n",
       "      <td>0</td>\n",
       "    </tr>\n",
       "    <tr>\n",
       "      <th>2</th>\n",
       "      <td>ciaz</td>\n",
       "      <td>2017</td>\n",
       "      <td>7.25</td>\n",
       "      <td>9.85</td>\n",
       "      <td>6900</td>\n",
       "      <td>Petrol</td>\n",
       "      <td>Dealer</td>\n",
       "      <td>Manual</td>\n",
       "      <td>0</td>\n",
       "    </tr>\n",
       "    <tr>\n",
       "      <th>3</th>\n",
       "      <td>wagon r</td>\n",
       "      <td>2011</td>\n",
       "      <td>2.85</td>\n",
       "      <td>4.15</td>\n",
       "      <td>5200</td>\n",
       "      <td>Petrol</td>\n",
       "      <td>Dealer</td>\n",
       "      <td>Manual</td>\n",
       "      <td>0</td>\n",
       "    </tr>\n",
       "    <tr>\n",
       "      <th>4</th>\n",
       "      <td>swift</td>\n",
       "      <td>2014</td>\n",
       "      <td>4.60</td>\n",
       "      <td>6.87</td>\n",
       "      <td>42450</td>\n",
       "      <td>Diesel</td>\n",
       "      <td>Dealer</td>\n",
       "      <td>Manual</td>\n",
       "      <td>0</td>\n",
       "    </tr>\n",
       "  </tbody>\n",
       "</table>\n",
       "</div>"
      ],
      "text/plain": [
       "  Car_Name  Year  Selling_Price  Present_Price  Kms_Driven Fuel_Type  \\\n",
       "0     ritz  2014           3.35           5.59       27000    Petrol   \n",
       "1      sx4  2013           4.75           9.54       43000    Diesel   \n",
       "2     ciaz  2017           7.25           9.85        6900    Petrol   \n",
       "3  wagon r  2011           2.85           4.15        5200    Petrol   \n",
       "4    swift  2014           4.60           6.87       42450    Diesel   \n",
       "\n",
       "  Seller_Type Transmission  Owner  \n",
       "0      Dealer       Manual      0  \n",
       "1      Dealer       Manual      0  \n",
       "2      Dealer       Manual      0  \n",
       "3      Dealer       Manual      0  \n",
       "4      Dealer       Manual      0  "
      ]
     },
     "execution_count": 129,
     "metadata": {},
     "output_type": "execute_result"
    }
   ],
   "source": [
    "cars_data2.head()"
   ]
  },
  {
   "cell_type": "markdown",
   "id": "957d4f38",
   "metadata": {},
   "source": [
    "### crosstab caluclation\n",
    "* to compute a cross tabulation of factors\n",
    "* by default computes a frequency table of factors "
   ]
  },
  {
   "cell_type": "code",
   "execution_count": null,
   "id": "9054351d",
   "metadata": {},
   "outputs": [],
   "source": [
    "pd.crosstab(index=cars_data2['Fuel_Type'], columns='count', dropna=True)"
   ]
  },
  {
   "cell_type": "code",
   "execution_count": null,
   "id": "0fca8f04",
   "metadata": {},
   "outputs": [],
   "source": [
    "pd.crosstab(index=cars_data2['Transmission'], columns=cars_data2['Fuel_Type'], dropna=True)"
   ]
  },
  {
   "cell_type": "code",
   "execution_count": null,
   "id": "70494b14",
   "metadata": {},
   "outputs": [],
   "source": [
    "pd.crosstab(index=cars_data2['Transmission'], columns=cars_data2['Fuel_Type'], normalize=True, dropna=True)"
   ]
  },
  {
   "cell_type": "markdown",
   "id": "8b4f9860",
   "metadata": {},
   "source": [
    "#### joint probability is the likelihood of two independent event occuring same time\n",
    "By converting the table values from numbers to proportion you will get a\n",
    "joint probability values you will get the joint probability values that is also using the\n",
    "same function crosstab"
   ]
  },
  {
   "cell_type": "code",
   "execution_count": null,
   "id": "ae1585ff",
   "metadata": {},
   "outputs": [],
   "source": [
    "pd.crosstab(cars_data2['Transmission'], columns=cars_data2['Fuel_Type'], margins=True, dropna=True, normalize=True)"
   ]
  },
  {
   "cell_type": "markdown",
   "id": "9d11a1f1",
   "metadata": {},
   "source": [
    "Transmission type Automatic total 13% while Manual 87% many more information evolving with the above crosstab or joint probability"
   ]
  },
  {
   "cell_type": "markdown",
   "id": "a79f199f",
   "metadata": {},
   "source": [
    "### Two way tables - conditional probability\n",
    "* conditional probability is the probability of an event (A), given that another event (B) has already occured \n",
    "* given the type of transmission, probability of different fuel type"
   ]
  },
  {
   "cell_type": "code",
   "execution_count": null,
   "id": "ed3919e9",
   "metadata": {},
   "outputs": [],
   "source": [
    "conditional_probability = pd.crosstab(index=cars_data2['Transmission'], columns=cars_data2['Fuel_Type'], margins=True, dropna=True, normalize='index')"
   ]
  },
  {
   "cell_type": "code",
   "execution_count": null,
   "id": "3d8e0816",
   "metadata": {},
   "outputs": [],
   "source": [
    "conditional_probability"
   ]
  },
  {
   "cell_type": "code",
   "execution_count": null,
   "id": "b54f1512",
   "metadata": {},
   "outputs": [],
   "source": [
    "conditional_probability['Total'] = conditional_probability['CNG'] + conditional_probability['Diesel'] + conditional_probability['Petrol']\n",
    "conditional_probability"
   ]
  },
  {
   "cell_type": "markdown",
   "id": "2d1fe66b",
   "metadata": {},
   "source": [
    "#### we can see total probability be always 1"
   ]
  },
  {
   "cell_type": "markdown",
   "id": "71a9cf8d",
   "metadata": {},
   "source": [
    "### Correlation\n",
    "\n",
    "* Correlation: the strength of association between two variables\n",
    "* visual reprensentation of correlation: Scatter plots\n",
    "\n",
    "If you want to interpret from the correlation measured in terms of numbers then the correlation value will be bounded between - 1 to + 1. 0 represents there is no correlation at all between any two numerical variables. And closer to 1 represents there is a strong correlation between two variables positively."
   ]
  },
  {
   "cell_type": "markdown",
   "id": "93918b3a",
   "metadata": {},
   "source": [
    "* to compute pairewise correlation of columns excluding NA/null values\n",
    "* excluding the categorical variables to find the __Pearson's__ correlation"
   ]
  },
  {
   "cell_type": "code",
   "execution_count": null,
   "id": "83c1bb8f",
   "metadata": {},
   "outputs": [],
   "source": [
    "numerical_data = cars_data2.select_dtypes(exclude=[object])"
   ]
  },
  {
   "cell_type": "code",
   "execution_count": null,
   "id": "f9310418",
   "metadata": {},
   "outputs": [],
   "source": [
    "numerical_data.shape"
   ]
  },
  {
   "cell_type": "code",
   "execution_count": null,
   "id": "932fa659",
   "metadata": {},
   "outputs": [],
   "source": [
    "# self and method='pearson'\n",
    "correlation_matrix = numerical_data.corr()"
   ]
  },
  {
   "cell_type": "code",
   "execution_count": null,
   "id": "0d0c9a14",
   "metadata": {},
   "outputs": [],
   "source": [
    "correlation_matrix"
   ]
  },
  {
   "cell_type": "markdown",
   "id": "a9ba70ac",
   "metadata": {},
   "source": [
    "### Data visualization\n",
    "* data visualization allows us to quickly interpret the data and adjust different variables to see their effect\n",
    "__why visualization__\n",
    "* observe the patterns\n",
    "* identify extreme values that could be anomalies\n",
    "* easy interpretaion"
   ]
  },
  {
   "cell_type": "code",
   "execution_count": null,
   "id": "b46acc1d",
   "metadata": {},
   "outputs": [],
   "source": [
    "today = datetime.date.today()\n",
    "cars_data2['Age'] = today.year - cars_data2['Year']"
   ]
  },
  {
   "cell_type": "code",
   "execution_count": null,
   "id": "68f90964",
   "metadata": {},
   "outputs": [],
   "source": [
    "cars_data2.head()"
   ]
  },
  {
   "cell_type": "code",
   "execution_count": null,
   "id": "c871068b",
   "metadata": {},
   "outputs": [],
   "source": [
    "plt.scatter(cars_data2['Age'], cars_data2['Selling_Price'], c='red')\n",
    "plt.title('Scatter Plot of Price and Age of the Cars')\n",
    "plt.xlabel('Age')\n",
    "plt.ylabel('Price')\n",
    "plt.show()"
   ]
  },
  {
   "cell_type": "markdown",
   "id": "31870087",
   "metadata": {},
   "source": [
    "### Histogram\n",
    "Histograms groups numbers into ranges and the height of each bar depicts the frequency of each range or bin.\n",
    "To show the frequency distribution of numerical data"
   ]
  },
  {
   "cell_type": "code",
   "execution_count": null,
   "id": "8effdf45",
   "metadata": {},
   "outputs": [],
   "source": [
    "plt.hist(cars_data2['Kms_Driven'], color='green', edgecolor='white', bins=5)\n",
    "plt.title('Histogram of KM')\n",
    "plt.xlabel('Kilometer')\n",
    "plt.ylabel('Frequency')\n",
    "plt.show()"
   ]
  },
  {
   "cell_type": "markdown",
   "id": "51f73f2e",
   "metadata": {},
   "source": [
    "### Bar plot"
   ]
  },
  {
   "cell_type": "code",
   "execution_count": null,
   "id": "9d00624f",
   "metadata": {},
   "outputs": [],
   "source": [
    "fuel_types = cars_data2['Fuel_Type'].unique()\n",
    "fuel_types"
   ]
  },
  {
   "cell_type": "code",
   "execution_count": null,
   "id": "9cb2f7c3",
   "metadata": {},
   "outputs": [],
   "source": [
    "counts = cars_data2['Fuel_Type'].value_counts().values\n",
    "counts"
   ]
  },
  {
   "cell_type": "code",
   "execution_count": null,
   "id": "b9884788",
   "metadata": {},
   "outputs": [],
   "source": [
    "index = len(fuel_types)\n",
    "index"
   ]
  },
  {
   "cell_type": "code",
   "execution_count": null,
   "id": "8fc466f3",
   "metadata": {},
   "outputs": [],
   "source": [
    "# create a sample dataframe\n",
    "data = {'Fruit': ['Apple', 'Banana', 'Cherry', 'Date'],\n",
    "        'Count': [10, 20, 30, 40]}\n",
    "df = pd.DataFrame(data)\n",
    "\n",
    "# create bar plot\n",
    "df.plot.bar(x='Fruit', y='Count', color='red')\n",
    "\n",
    "# add labels and title\n",
    "plt.xlabel('Fruit')\n",
    "plt.ylabel('Count')\n",
    "plt.title('Fruit Counts')\n",
    "\n",
    "# show plot\n",
    "plt.show()"
   ]
  },
  {
   "cell_type": "code",
   "execution_count": null,
   "id": "31f34dca",
   "metadata": {},
   "outputs": [],
   "source": [
    "plt.bar(fuel_types, counts, color=['red', 'blue', 'green'])\n",
    "plt.title('Bar plot of fuel types')\n",
    "plt.xlabel('Fuel types')\n",
    "plt.ylabel('Frequency')\n",
    "plt.xticks(fuel_types, fuel_types, rotation=90)\n",
    "plt.show()"
   ]
  },
  {
   "cell_type": "code",
   "execution_count": null,
   "id": "246df474",
   "metadata": {},
   "outputs": [],
   "source": [
    "sns.set_style(\"dark\")"
   ]
  },
  {
   "cell_type": "code",
   "execution_count": null,
   "id": "9f7ac30e",
   "metadata": {},
   "outputs": [],
   "source": [
    "sns.regplot(x=cars_data2['Age'], y=cars_data2['Selling_Price'], fit_reg=True)"
   ]
  },
  {
   "cell_type": "code",
   "execution_count": null,
   "id": "4cfb2756",
   "metadata": {},
   "outputs": [],
   "source": [
    "sns.regplot(x=cars_data2['Age'], y=cars_data2['Selling_Price'], fit_reg=False)"
   ]
  },
  {
   "cell_type": "code",
   "execution_count": null,
   "id": "2b56700b",
   "metadata": {},
   "outputs": [],
   "source": [
    "sns.regplot(x=cars_data2['Age'], y=cars_data2['Selling_Price'], marker=\"*\", fit_reg=False)"
   ]
  },
  {
   "cell_type": "code",
   "execution_count": null,
   "id": "7f2ed34e",
   "metadata": {},
   "outputs": [],
   "source": [
    "sns.lmplot(x='Age', y='Selling_Price', data=cars_data2, fit_reg=False, hue='Fuel_Type', legend=True, palette='Set1')"
   ]
  },
  {
   "cell_type": "code",
   "execution_count": null,
   "id": "68bfd397",
   "metadata": {},
   "outputs": [],
   "source": [
    "sns.histplot(cars_data2['Age'], kde=True)"
   ]
  },
  {
   "cell_type": "markdown",
   "id": "a375c804",
   "metadata": {},
   "source": [
    "### CDF \n",
    "example"
   ]
  },
  {
   "cell_type": "code",
   "execution_count": null,
   "id": "ac0aa8fe",
   "metadata": {},
   "outputs": [],
   "source": [
    "# create a sample dataframe\n",
    "data = {'Value': [1, 2, 3, 4, 5, 6, 7, 8, 9, 10]}\n",
    "df = pd.DataFrame(data)\n",
    "\n",
    "print(df['Value'])\n",
    "print(df['Value'].value_counts())\n",
    "print(df['Value'].value_counts().sort_index())\n",
    "print(df['Value'].shape[0])\n",
    "\n",
    "# calculate the cumulative sum of the column\n",
    "cdf = np.cumsum(df['Value'].value_counts().sort_index() / df['Value'].shape[0])\n",
    "\n",
    "# plot the CDF\n",
    "plt.plot(cdf.index, cdf)\n",
    "\n",
    "# add labels and title\n",
    "plt.xlabel('Value')\n",
    "plt.ylabel('CDF')\n",
    "plt.title('Cumulative Distribution Function')\n",
    "\n",
    "# show plot\n",
    "plt.show()"
   ]
  },
  {
   "cell_type": "code",
   "execution_count": null,
   "id": "0ee1f24c",
   "metadata": {},
   "outputs": [],
   "source": [
    "sns.displot(cars_data2['Age'], kde=False, bins=5)"
   ]
  },
  {
   "cell_type": "code",
   "execution_count": null,
   "id": "3d35aa92",
   "metadata": {},
   "outputs": [],
   "source": [
    "sns.countplot(x='Fuel_Type', data=cars_data2)"
   ]
  },
  {
   "cell_type": "code",
   "execution_count": null,
   "id": "fb40580e",
   "metadata": {},
   "outputs": [],
   "source": [
    "sns.countplot(x='Fuel_Type', data=cars_data2, hue='Transmission')"
   ]
  },
  {
   "cell_type": "code",
   "execution_count": null,
   "id": "7e9ce09d",
   "metadata": {},
   "outputs": [],
   "source": [
    "sns.boxplot(y=cars_data2['Selling_Price'])"
   ]
  },
  {
   "cell_type": "code",
   "execution_count": null,
   "id": "d30b6920",
   "metadata": {},
   "outputs": [],
   "source": [
    "# box and whisker for numerical vs categorical values\n",
    "sns.boxplot(x=cars_data2['Fuel_Type'], y=cars_data2['Selling_Price'])"
   ]
  },
  {
   "cell_type": "code",
   "execution_count": null,
   "id": "054ddbad",
   "metadata": {},
   "outputs": [],
   "source": [
    "sns.boxplot(x='Fuel_Type', y=cars_data2['Selling_Price'], hue='Transmission', data=cars_data2)"
   ]
  },
  {
   "cell_type": "code",
   "execution_count": null,
   "id": "057295b8",
   "metadata": {},
   "outputs": [],
   "source": [
    "f, (ax_box, ax_hist)=plt.subplots(2, gridspec_kw={\"height_ratios\": (.15, .85)})"
   ]
  },
  {
   "cell_type": "code",
   "execution_count": null,
   "id": "b275cdcd",
   "metadata": {},
   "outputs": [],
   "source": [
    "sns.boxplot(cars_data2['Selling_Price'], ax=ax_box)\n",
    "sns.displot(cars_data2['Selling_Price'], ax=ax_hist, kde=False)"
   ]
  },
  {
   "cell_type": "code",
   "execution_count": null,
   "id": "79f64815",
   "metadata": {},
   "outputs": [],
   "source": [
    "sns.pairplot(cars_data2, kind='scatter', hue='Fuel_Type')\n",
    "plt.show()"
   ]
  },
  {
   "cell_type": "markdown",
   "id": "0a0c2ac5",
   "metadata": {},
   "source": [
    "### Identifyling Missing Values"
   ]
  },
  {
   "cell_type": "code",
   "execution_count": null,
   "id": "b0e7b0c9",
   "metadata": {},
   "outputs": [],
   "source": [
    "cars_data2.sample(5)"
   ]
  },
  {
   "cell_type": "code",
   "execution_count": null,
   "id": "cb157bac",
   "metadata": {},
   "outputs": [],
   "source": [
    "cars_data2['Fuel_Type'] = cars_data2['Fuel_Type'].mask(np.random.random(cars_data2.shape[0]) < 0.1, np.nan)"
   ]
  },
  {
   "cell_type": "code",
   "execution_count": null,
   "id": "2671b207",
   "metadata": {},
   "outputs": [],
   "source": [
    "cars_data2['Selling_Price'] = cars_data2['Selling_Price'].mask(np.random.random(cars_data2.shape[0]) < 0.1, np.nan)"
   ]
  },
  {
   "cell_type": "code",
   "execution_count": null,
   "id": "82bfc738",
   "metadata": {},
   "outputs": [],
   "source": [
    "idx = np.random.choice(cars_data2.index, int(0.1 * cars_data2.shape[0]), replace=False)\n",
    "cars_data2.loc[idx, 'Kms_Driven'] = np.nan"
   ]
  },
  {
   "cell_type": "code",
   "execution_count": null,
   "id": "883df8cf",
   "metadata": {},
   "outputs": [],
   "source": [
    "cars_data2.isna().sum()"
   ]
  },
  {
   "cell_type": "code",
   "execution_count": null,
   "id": "6b661624",
   "metadata": {},
   "outputs": [],
   "source": [
    "cars_data2.isnull().sum()"
   ]
  },
  {
   "cell_type": "code",
   "execution_count": null,
   "id": "70af3b5b",
   "metadata": {},
   "outputs": [],
   "source": [
    "missing = cars_data2[cars_data2.isnull().any(axis=1)]\n",
    "missing"
   ]
  },
  {
   "cell_type": "code",
   "execution_count": null,
   "id": "2748382e",
   "metadata": {},
   "outputs": [],
   "source": [
    "cars_data2.describe()"
   ]
  },
  {
   "cell_type": "code",
   "execution_count": null,
   "id": "9dbd3e87",
   "metadata": {},
   "outputs": [],
   "source": [
    "missing = cars_data2[cars_data2['Selling_Price'].isnull()]\n",
    "missing"
   ]
  },
  {
   "cell_type": "code",
   "execution_count": null,
   "id": "e37a41c5",
   "metadata": {},
   "outputs": [],
   "source": [
    "grouped_year = cars_data2.groupby(['Year', 'Fuel_Type', 'Present_Price', 'Kms_Driven']).mean()\n",
    "grouped_year"
   ]
  },
  {
   "cell_type": "code",
   "execution_count": null,
   "id": "7d09b50a",
   "metadata": {},
   "outputs": [],
   "source": [
    "cars_data2['Selling_Price'].fillna(cars_data2['Selling_Price'].mean(), inplace=True)"
   ]
  },
  {
   "cell_type": "code",
   "execution_count": null,
   "id": "b763281c",
   "metadata": {},
   "outputs": [],
   "source": [
    "cars_data2['Kms_Driven'].fillna(cars_data2['Kms_Driven'].median(), inplace=True)"
   ]
  },
  {
   "cell_type": "code",
   "execution_count": null,
   "id": "2089b990",
   "metadata": {},
   "outputs": [],
   "source": [
    "cars_data2['Fuel_Type'].value_counts()"
   ]
  },
  {
   "cell_type": "code",
   "execution_count": null,
   "id": "48b525a3",
   "metadata": {},
   "outputs": [],
   "source": [
    "cars_data2['Fuel_Type'].fillna(cars_data2['Fuel_Type'].value_counts().index[0], inplace=True)"
   ]
  },
  {
   "cell_type": "code",
   "execution_count": null,
   "id": "67c51742",
   "metadata": {},
   "outputs": [],
   "source": [
    "cars_data2.isnull().sum()"
   ]
  },
  {
   "cell_type": "code",
   "execution_count": null,
   "id": "f34c6509",
   "metadata": {},
   "outputs": [],
   "source": []
  },
  {
   "cell_type": "code",
   "execution_count": null,
   "id": "d2faa77b",
   "metadata": {},
   "outputs": [],
   "source": []
  }
 ],
 "metadata": {
  "kernelspec": {
   "display_name": "Python 3 (ipykernel)",
   "language": "python",
   "name": "python3"
  },
  "language_info": {
   "codemirror_mode": {
    "name": "ipython",
    "version": 3
   },
   "file_extension": ".py",
   "mimetype": "text/x-python",
   "name": "python",
   "nbconvert_exporter": "python",
   "pygments_lexer": "ipython3",
   "version": "3.8.16"
  }
 },
 "nbformat": 4,
 "nbformat_minor": 5
}
