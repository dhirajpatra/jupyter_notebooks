{
 "cells": [
  {
   "cell_type": "markdown",
   "metadata": {},
   "source": [
    "<a href=\"https://colab.research.google.com/github/https-deeplearning-ai/tensorflow-1-public/blob/main/C4/W3/ungraded_labs/C4_W3_Lab_2_LSTM.ipynb\" target=\"_parent\"><img src=\"https://colab.research.google.com/assets/colab-badge.svg\" alt=\"Open In Colab\"/></a>"
   ]
  },
  {
   "cell_type": "markdown",
   "metadata": {
    "id": "sV_nvXSQGJPK"
   },
   "source": [
    "# Ungraded Lab: Using a multi-layer LSTM for forecasting\n",
    "\n",
    "In this lab, you will use the same RNN architecure in the first lab but will instead stack [LSTM](https://www.tensorflow.org/api_docs/python/tf/keras/layers/LSTM) layers instead of `SimpleRNN`."
   ]
  },
  {
   "cell_type": "markdown",
   "metadata": {
    "id": "3IMbAWETGOWD"
   },
   "source": [
    "## Imports"
   ]
  },
  {
   "cell_type": "code",
   "execution_count": 1,
   "metadata": {
    "id": "BOjujz601HcS"
   },
   "outputs": [],
   "source": [
    "import tensorflow as tf\n",
    "import numpy as np\n",
    "import matplotlib.pyplot as plt"
   ]
  },
  {
   "cell_type": "markdown",
   "metadata": {
    "id": "kD7RQQ0xGQVH"
   },
   "source": [
    "## Utilities"
   ]
  },
  {
   "cell_type": "code",
   "execution_count": 2,
   "metadata": {
    "id": "Zswl7jRtGzkk"
   },
   "outputs": [],
   "source": [
    "def plot_series(time, series, format=\"-\", start=0, end=None):\n",
    "    \"\"\"\n",
    "    Visualizes time series data\n",
    "\n",
    "    Args:\n",
    "      time (array of int) - contains the time steps\n",
    "      series (array of int) - contains the measurements for each time step\n",
    "      format - line style when plotting the graph\n",
    "      start - first time step to plot\n",
    "      end - last time step to plot\n",
    "    \"\"\"\n",
    "\n",
    "    # Setup dimensions of the graph figure\n",
    "    plt.figure(figsize=(10, 6))\n",
    "    \n",
    "    if type(series) is tuple:\n",
    "\n",
    "      for series_num in series:\n",
    "        # Plot the time series data\n",
    "        plt.plot(time[start:end], series_num[start:end], format)\n",
    "\n",
    "    else:\n",
    "      # Plot the time series data\n",
    "      plt.plot(time[start:end], series[start:end], format)\n",
    "\n",
    "    # Label the x-axis\n",
    "    plt.xlabel(\"Time\")\n",
    "\n",
    "    # Label the y-axis\n",
    "    plt.ylabel(\"Value\")\n",
    "\n",
    "    # Overlay a grid on the graph\n",
    "    plt.grid(True)\n",
    "\n",
    "    # Draw the graph on screen\n",
    "    plt.show()\n",
    "\n",
    "def trend(time, slope=0):\n",
    "    \"\"\"\n",
    "    Generates synthetic data that follows a straight line given a slope value.\n",
    "\n",
    "    Args:\n",
    "      time (array of int) - contains the time steps\n",
    "      slope (float) - determines the direction and steepness of the line\n",
    "\n",
    "    Returns:\n",
    "      series (array of float) - measurements that follow a straight line\n",
    "    \"\"\"\n",
    "\n",
    "    # Compute the linear series given the slope\n",
    "    series = slope * time\n",
    "\n",
    "    return series\n",
    "\n",
    "def seasonal_pattern(season_time):\n",
    "    \"\"\"\n",
    "    Just an arbitrary pattern, you can change it if you wish\n",
    "    \n",
    "    Args:\n",
    "      season_time (array of float) - contains the measurements per time step\n",
    "\n",
    "    Returns:\n",
    "      data_pattern (array of float) -  contains revised measurement values according \n",
    "                                  to the defined pattern\n",
    "    \"\"\"\n",
    "\n",
    "    # Generate the values using an arbitrary pattern\n",
    "    data_pattern = np.where(season_time < 0.4,\n",
    "                    np.cos(season_time * 2 * np.pi),\n",
    "                    1 / np.exp(3 * season_time))\n",
    "    \n",
    "    return data_pattern\n",
    "\n",
    "def seasonality(time, period, amplitude=1, phase=0):\n",
    "    \"\"\"\n",
    "    Repeats the same pattern at each period\n",
    "\n",
    "    Args:\n",
    "      time (array of int) - contains the time steps\n",
    "      period (int) - number of time steps before the pattern repeats\n",
    "      amplitude (int) - peak measured value in a period\n",
    "      phase (int) - number of time steps to shift the measured values\n",
    "\n",
    "    Returns:\n",
    "      data_pattern (array of float) - seasonal data scaled by the defined amplitude\n",
    "    \"\"\"\n",
    "    \n",
    "    # Define the measured values per period\n",
    "    season_time = ((time + phase) % period) / period\n",
    "\n",
    "    # Generates the seasonal data scaled by the defined amplitude\n",
    "    data_pattern = amplitude * seasonal_pattern(season_time)\n",
    "\n",
    "    return data_pattern\n",
    "\n",
    "def noise(time, noise_level=1, seed=None):\n",
    "    \"\"\"Generates a normally distributed noisy signal\n",
    "\n",
    "    Args:\n",
    "      time (array of int) - contains the time steps\n",
    "      noise_level (float) - scaling factor for the generated signal\n",
    "      seed (int) - number generator seed for repeatability\n",
    "\n",
    "    Returns:\n",
    "      noise (array of float) - the noisy signal\n",
    "    \"\"\"\n",
    "\n",
    "    # Initialize the random number generator\n",
    "    rnd = np.random.RandomState(seed)\n",
    "\n",
    "    # Generate a random number for each time step and scale by the noise level\n",
    "    noise = rnd.randn(len(time)) * noise_level\n",
    "    \n",
    "    return noise"
   ]
  },
  {
   "cell_type": "markdown",
   "metadata": {
    "id": "yxNyeFWjGSdj"
   },
   "source": [
    "## Generate the Synthetic Data"
   ]
  },
  {
   "cell_type": "code",
   "execution_count": 3,
   "metadata": {
    "id": "KYEUfDbdpHPm"
   },
   "outputs": [
    {
     "data": {
      "image/png": "[encoded data removed]",
      "text/plain": [
       "<Figure size 1000x600 with 1 Axes>"
      ]
     },
     "metadata": {},
     "output_type": "display_data"
    }
   ],
   "source": [
    "# Parameters\n",
    "time = np.arange(4 * 365 + 1, dtype=\"float32\")\n",
    "baseline = 10\n",
    "amplitude = 40\n",
    "slope = 0.05\n",
    "noise_level = 5\n",
    "\n",
    "# Create the series\n",
    "series = baseline + trend(time, slope) + seasonality(time, period=365, amplitude=amplitude)\n",
    "\n",
    "# Update with noise\n",
    "series += noise(time, noise_level, seed=42)\n",
    "\n",
    "# Plot the results\n",
    "plot_series(time, series)"
   ]
  },
  {
   "cell_type": "markdown",
   "metadata": {
    "id": "MYKCvv-eGWRc"
   },
   "source": [
    "## Split the Dataset"
   ]
  },
  {
   "cell_type": "code",
   "execution_count": 4,
   "metadata": {
    "id": "hpp0slenpKVD"
   },
   "outputs": [],
   "source": [
    "# Define the split time\n",
    "split_time = 1000\n",
    "\n",
    "# Get the train set \n",
    "time_train = time[:split_time]\n",
    "x_train = series[:split_time]\n",
    "\n",
    "# Get the validation set\n",
    "time_valid = time[split_time:]\n",
    "x_valid = series[split_time:]"
   ]
  },
  {
   "cell_type": "markdown",
   "metadata": {
    "id": "cktHz9aOGYtV"
   },
   "source": [
    "## Prepare Features and Labels"
   ]
  },
  {
   "cell_type": "code",
   "execution_count": 5,
   "metadata": {
    "id": "G_j_2_Mqwn7-"
   },
   "outputs": [],
   "source": [
    "# Parameters\n",
    "window_size = 20\n",
    "batch_size = 32\n",
    "shuffle_buffer_size = 1000"
   ]
  },
  {
   "cell_type": "code",
   "execution_count": 6,
   "metadata": {
    "id": "4sTTIOCbyShY"
   },
   "outputs": [],
   "source": [
    "def windowed_dataset(series, window_size, batch_size, shuffle_buffer):\n",
    "    \"\"\"Generates dataset windows\n",
    "\n",
    "    Args:\n",
    "      series (array of float) - contains the values of the time series\n",
    "      window_size (int) - the number of time steps to include in the feature\n",
    "      batch_size (int) - the batch size\n",
    "      shuffle_buffer(int) - buffer size to use for the shuffle method\n",
    "\n",
    "    Returns:\n",
    "      dataset (TF Dataset) - TF Dataset containing time windows\n",
    "    \"\"\"\n",
    "  \n",
    "    # Generate a TF Dataset from the series values\n",
    "    dataset = tf.data.Dataset.from_tensor_slices(series)\n",
    "    \n",
    "    # Window the data but only take those with the specified size\n",
    "    dataset = dataset.window(window_size + 1, shift=1, drop_remainder=True)\n",
    "    \n",
    "    # Flatten the windows by putting its elements in a single batch\n",
    "    dataset = dataset.flat_map(lambda window: window.batch(window_size + 1))\n",
    "\n",
    "    # Create tuples with features and labels \n",
    "    dataset = dataset.map(lambda window: (window[:-1], window[-1]))\n",
    "\n",
    "    # Shuffle the windows\n",
    "    dataset = dataset.shuffle(shuffle_buffer)\n",
    "    \n",
    "    # Create batches of windows\n",
    "    dataset = dataset.batch(batch_size).prefetch(1)\n",
    "    \n",
    "    return dataset"
   ]
  },
  {
   "cell_type": "code",
   "execution_count": 7,
   "metadata": {
    "id": "vGj5-InSwtQQ"
   },
   "outputs": [
    {
     "name": "stdout",
     "output_type": "stream",
     "text": [
      "WARNING:tensorflow:From /opt/homebrew/Caskroom/miniconda/base/envs/py38/lib/python3.8/site-packages/tensorflow/python/autograph/pyct/static_analysis/liveness.py:83: Analyzer.lamba_check (from tensorflow.python.autograph.pyct.static_analysis.liveness) is deprecated and will be removed after 2023-09-23.\n",
      "Instructions for updating:\n",
      "Lambda fuctions will be no more assumed to be used in the statement where they are used, or at least in the same block. https://github.com/tensorflow/tensorflow/issues/56089\n"
     ]
    }
   ],
   "source": [
    "# Generate the dataset windows\n",
    "dataset = windowed_dataset(x_train, window_size, batch_size, shuffle_buffer_size)"
   ]
  },
  {
   "cell_type": "markdown",
   "metadata": {
    "id": "p9-Ke8ZaGcjd"
   },
   "source": [
    "## Build the Model\n",
    "\n",
    "As mentioned, you will swap `SimpleRNN` for `LSTM` in this lab. It is also set as bidirectional below but feel free to revise later and see what results you get. LSTMs are much more complex in their internal architecture than simpleRNNs. It implements a cell state that allows it to remember sequences better than simple implementations. This added complexity results in a bigger set of parameters to train and you'll see that when you print the model summary below."
   ]
  },
  {
   "cell_type": "code",
   "execution_count": 8,
   "metadata": {
    "id": "A1Hl39rklkLm"
   },
   "outputs": [
    {
     "name": "stdout",
     "output_type": "stream",
     "text": [
      "Model: \"sequential\"\n",
      "_________________________________________________________________\n",
      " Layer (type)                Output Shape              Param #   \n",
      "=================================================================\n",
      " lambda (Lambda)             (None, 20, 1)             0         \n",
      "                                                                 \n",
      " bidirectional (Bidirectiona  (None, 20, 64)           8704      \n",
      " l)                                                              \n",
      "                                                                 \n",
      " bidirectional_1 (Bidirectio  (None, 64)               24832     \n",
      " nal)                                                            \n",
      "                                                                 \n",
      " dense (Dense)               (None, 1)                 65        \n",
      "                                                                 \n",
      " lambda_1 (Lambda)           (None, 1)                 0         \n",
      "                                                                 \n",
      "=================================================================\n",
      "Total params: 33,601\n",
      "Trainable params: 33,601\n",
      "Non-trainable params: 0\n",
      "_________________________________________________________________\n"
     ]
    }
   ],
   "source": [
    "# Build the Model\n",
    "model_tune = tf.keras.models.Sequential([\n",
    "  tf.keras.layers.Lambda(lambda x: tf.expand_dims(x, axis=-1),\n",
    "                      input_shape=[window_size]),\n",
    "    tf.keras.layers.Bidirectional(tf.keras.layers.LSTM(32, return_sequences=True)),\n",
    "  tf.keras.layers.Bidirectional(tf.keras.layers.LSTM(32)),\n",
    "  tf.keras.layers.Dense(1),\n",
    "  tf.keras.layers.Lambda(lambda x: x * 100.0)\n",
    "])\n",
    "\n",
    "# Print the model summary\n",
    "model_tune.summary()"
   ]
  },
  {
   "cell_type": "markdown",
   "metadata": {
    "id": "FHaFblbwq0GV"
   },
   "source": [
    "## Tune the Learning Rate\n",
    "\n",
    "As usual, you will pick a learning rate by running the tuning code below."
   ]
  },
  {
   "cell_type": "code",
   "execution_count": 9,
   "metadata": {
    "id": "qE7al18qw48G"
   },
   "outputs": [
    {
     "name": "stdout",
     "output_type": "stream",
     "text": [
      "Epoch 1/100\n"
     ]
    },
    {
     "name": "stderr",
     "output_type": "stream",
     "text": [
      "2023-04-20 19:53:56.597589: W tensorflow/tsl/platform/profile_utils/cpu_utils.cc:128] Failed to get CPU frequency: 0 Hz\n"
     ]
    },
    {
     "name": "stdout",
     "output_type": "stream",
     "text": [
      "31/31 [==============================] - 4s 26ms/step - loss: 51.6374 - lr: 1.0000e-08\n",
      "Epoch 2/100\n",
      "31/31 [==============================] - 0s 8ms/step - loss: 49.7737 - lr: 1.1220e-08\n",
      "Epoch 3/100\n",
      "31/31 [==============================] - 0s 8ms/step - loss: 47.3067 - lr: 1.2589e-08\n",
      "Epoch 4/100\n",
      "31/31 [==============================] - 0s 8ms/step - loss: 44.1349 - lr: 1.4125e-08\n",
      "Epoch 5/100\n",
      "31/31 [==============================] - 0s 8ms/step - loss: 39.9844 - lr: 1.5849e-08\n",
      "Epoch 6/100\n",
      "31/31 [==============================] - 0s 8ms/step - loss: 34.8206 - lr: 1.7783e-08\n",
      "Epoch 7/100\n",
      "31/31 [==============================] - 0s 7ms/step - loss: 29.4427 - lr: 1.9953e-08\n",
      "Epoch 8/100\n",
      "31/31 [==============================] - 0s 8ms/step - loss: 24.8056 - lr: 2.2387e-08\n",
      "Epoch 9/100\n",
      "31/31 [==============================] - 0s 8ms/step - loss: 20.9712 - lr: 2.5119e-08\n",
      "Epoch 10/100\n",
      "31/31 [==============================] - 0s 8ms/step - loss: 18.0883 - lr: 2.8184e-08\n",
      "Epoch 11/100\n",
      "31/31 [==============================] - 0s 8ms/step - loss: 16.0644 - lr: 3.1623e-08\n",
      "Epoch 12/100\n",
      "31/31 [==============================] - 0s 8ms/step - loss: 14.7832 - lr: 3.5481e-08\n",
      "Epoch 13/100\n",
      "31/31 [==============================] - 0s 8ms/step - loss: 13.8695 - lr: 3.9811e-08\n",
      "Epoch 14/100\n",
      "31/31 [==============================] - 0s 8ms/step - loss: 13.0804 - lr: 4.4668e-08\n",
      "Epoch 15/100\n",
      "31/31 [==============================] - 0s 8ms/step - loss: 11.9229 - lr: 5.0119e-08\n",
      "Epoch 16/100\n",
      "31/31 [==============================] - 0s 8ms/step - loss: 10.7541 - lr: 5.6234e-08\n",
      "Epoch 17/100\n",
      "31/31 [==============================] - 0s 8ms/step - loss: 10.0057 - lr: 6.3096e-08\n",
      "Epoch 18/100\n",
      "31/31 [==============================] - 0s 8ms/step - loss: 9.3985 - lr: 7.0795e-08\n",
      "Epoch 19/100\n",
      "31/31 [==============================] - 0s 8ms/step - loss: 8.9177 - lr: 7.9433e-08\n",
      "Epoch 20/100\n",
      "31/31 [==============================] - 0s 8ms/step - loss: 8.5641 - lr: 8.9125e-08\n",
      "Epoch 21/100\n",
      "31/31 [==============================] - 0s 8ms/step - loss: 8.3063 - lr: 1.0000e-07\n",
      "Epoch 22/100\n",
      "31/31 [==============================] - 0s 8ms/step - loss: 8.1264 - lr: 1.1220e-07\n",
      "Epoch 23/100\n",
      "31/31 [==============================] - 0s 8ms/step - loss: 7.9187 - lr: 1.2589e-07\n",
      "Epoch 24/100\n",
      "31/31 [==============================] - 0s 8ms/step - loss: 7.7055 - lr: 1.4125e-07\n",
      "Epoch 25/100\n",
      "31/31 [==============================] - 0s 8ms/step - loss: 7.6406 - lr: 1.5849e-07\n",
      "Epoch 26/100\n",
      "31/31 [==============================] - 0s 8ms/step - loss: 7.5230 - lr: 1.7783e-07\n",
      "Epoch 27/100\n",
      "31/31 [==============================] - 0s 8ms/step - loss: 7.3342 - lr: 1.9953e-07\n",
      "Epoch 28/100\n",
      "31/31 [==============================] - 0s 8ms/step - loss: 7.2096 - lr: 2.2387e-07\n",
      "Epoch 29/100\n",
      "31/31 [==============================] - 0s 8ms/step - loss: 7.1269 - lr: 2.5119e-07\n",
      "Epoch 30/100\n",
      "31/31 [==============================] - 0s 8ms/step - loss: 7.2602 - lr: 2.8184e-07\n",
      "Epoch 31/100\n",
      "31/31 [==============================] - 0s 8ms/step - loss: 7.1184 - lr: 3.1623e-07\n",
      "Epoch 32/100\n",
      "31/31 [==============================] - 0s 8ms/step - loss: 7.0743 - lr: 3.5481e-07\n",
      "Epoch 33/100\n",
      "31/31 [==============================] - 0s 8ms/step - loss: 7.1097 - lr: 3.9811e-07\n",
      "Epoch 34/100\n",
      "31/31 [==============================] - 0s 8ms/step - loss: 7.2057 - lr: 4.4668e-07\n",
      "Epoch 35/100\n",
      "31/31 [==============================] - 0s 8ms/step - loss: 6.8982 - lr: 5.0119e-07\n",
      "Epoch 36/100\n",
      "31/31 [==============================] - 0s 8ms/step - loss: 6.7137 - lr: 5.6234e-07\n",
      "Epoch 37/100\n",
      "31/31 [==============================] - 0s 8ms/step - loss: 6.8717 - lr: 6.3096e-07\n",
      "Epoch 38/100\n",
      "31/31 [==============================] - 0s 8ms/step - loss: 7.4198 - lr: 7.0795e-07\n",
      "Epoch 39/100\n",
      "31/31 [==============================] - 0s 8ms/step - loss: 6.8746 - lr: 7.9433e-07\n",
      "Epoch 40/100\n",
      "31/31 [==============================] - 0s 8ms/step - loss: 6.9648 - lr: 8.9125e-07\n",
      "Epoch 41/100\n",
      "31/31 [==============================] - 0s 8ms/step - loss: 6.6289 - lr: 1.0000e-06\n",
      "Epoch 42/100\n",
      "31/31 [==============================] - 0s 8ms/step - loss: 6.7976 - lr: 1.1220e-06\n",
      "Epoch 43/100\n",
      "31/31 [==============================] - 0s 8ms/step - loss: 6.5747 - lr: 1.2589e-06\n",
      "Epoch 44/100\n",
      "31/31 [==============================] - 0s 8ms/step - loss: 6.4043 - lr: 1.4125e-06\n",
      "Epoch 45/100\n",
      "31/31 [==============================] - 0s 8ms/step - loss: 7.5580 - lr: 1.5849e-06\n",
      "Epoch 46/100\n",
      "31/31 [==============================] - 0s 8ms/step - loss: 6.1488 - lr: 1.7783e-06\n",
      "Epoch 47/100\n",
      "31/31 [==============================] - 0s 8ms/step - loss: 7.0866 - lr: 1.9953e-06\n",
      "Epoch 48/100\n",
      "31/31 [==============================] - 0s 8ms/step - loss: 6.5163 - lr: 2.2387e-06\n",
      "Epoch 49/100\n",
      "31/31 [==============================] - 0s 8ms/step - loss: 6.3460 - lr: 2.5119e-06\n",
      "Epoch 50/100\n",
      "31/31 [==============================] - 0s 7ms/step - loss: 6.2282 - lr: 2.8184e-06\n",
      "Epoch 51/100\n",
      "31/31 [==============================] - 0s 8ms/step - loss: 5.8000 - lr: 3.1623e-06\n",
      "Epoch 52/100\n",
      "31/31 [==============================] - 0s 8ms/step - loss: 5.6345 - lr: 3.5481e-06\n",
      "Epoch 53/100\n",
      "31/31 [==============================] - 0s 8ms/step - loss: 5.5527 - lr: 3.9811e-06\n",
      "Epoch 54/100\n",
      "31/31 [==============================] - 0s 8ms/step - loss: 5.5937 - lr: 4.4668e-06\n",
      "Epoch 55/100\n",
      "31/31 [==============================] - 0s 8ms/step - loss: 5.2386 - lr: 5.0119e-06\n",
      "Epoch 56/100\n",
      "31/31 [==============================] - 0s 8ms/step - loss: 5.3090 - lr: 5.6234e-06\n",
      "Epoch 57/100\n",
      "31/31 [==============================] - 0s 8ms/step - loss: 5.1105 - lr: 6.3096e-06\n",
      "Epoch 58/100\n",
      "31/31 [==============================] - 0s 8ms/step - loss: 5.0288 - lr: 7.0795e-06\n",
      "Epoch 59/100\n",
      "31/31 [==============================] - 0s 9ms/step - loss: 5.1783 - lr: 7.9433e-06\n",
      "Epoch 60/100\n",
      "31/31 [==============================] - 0s 8ms/step - loss: 5.0620 - lr: 8.9125e-06\n",
      "Epoch 61/100\n",
      "31/31 [==============================] - 0s 8ms/step - loss: 5.2029 - lr: 1.0000e-05\n",
      "Epoch 62/100\n",
      "31/31 [==============================] - 0s 8ms/step - loss: 4.8609 - lr: 1.1220e-05\n",
      "Epoch 63/100\n",
      "31/31 [==============================] - 0s 8ms/step - loss: 5.3173 - lr: 1.2589e-05\n",
      "Epoch 64/100\n",
      "31/31 [==============================] - 0s 8ms/step - loss: 5.2013 - lr: 1.4125e-05\n",
      "Epoch 65/100\n",
      "31/31 [==============================] - 0s 8ms/step - loss: 5.5753 - lr: 1.5849e-05\n",
      "Epoch 66/100\n",
      "31/31 [==============================] - 0s 8ms/step - loss: 5.2003 - lr: 1.7783e-05\n",
      "Epoch 67/100\n",
      "31/31 [==============================] - 0s 8ms/step - loss: 5.6646 - lr: 1.9953e-05\n",
      "Epoch 68/100\n",
      "31/31 [==============================] - 0s 8ms/step - loss: 5.4192 - lr: 2.2387e-05\n",
      "Epoch 69/100\n",
      "31/31 [==============================] - 0s 8ms/step - loss: 5.8990 - lr: 2.5119e-05\n",
      "Epoch 70/100\n",
      "31/31 [==============================] - 0s 8ms/step - loss: 5.0855 - lr: 2.8184e-05\n",
      "Epoch 71/100\n",
      "31/31 [==============================] - 0s 8ms/step - loss: 6.2701 - lr: 3.1623e-05\n",
      "Epoch 72/100\n",
      "31/31 [==============================] - 0s 8ms/step - loss: 5.1271 - lr: 3.5481e-05\n",
      "Epoch 73/100\n",
      "31/31 [==============================] - 0s 8ms/step - loss: 5.1326 - lr: 3.9811e-05\n",
      "Epoch 74/100\n",
      "31/31 [==============================] - 0s 8ms/step - loss: 5.0101 - lr: 4.4668e-05\n",
      "Epoch 75/100\n",
      "31/31 [==============================] - 0s 8ms/step - loss: 5.2872 - lr: 5.0119e-05\n",
      "Epoch 76/100\n",
      "31/31 [==============================] - 0s 8ms/step - loss: 5.6699 - lr: 5.6234e-05\n",
      "Epoch 77/100\n",
      "31/31 [==============================] - 0s 8ms/step - loss: 6.0615 - lr: 6.3096e-05\n",
      "Epoch 78/100\n",
      "31/31 [==============================] - 0s 8ms/step - loss: 6.0526 - lr: 7.0795e-05\n",
      "Epoch 79/100\n",
      "31/31 [==============================] - 0s 8ms/step - loss: 6.5582 - lr: 7.9433e-05\n",
      "Epoch 80/100\n",
      "31/31 [==============================] - 0s 8ms/step - loss: 5.5092 - lr: 8.9125e-05\n",
      "Epoch 81/100\n",
      "31/31 [==============================] - 0s 8ms/step - loss: 6.1919 - lr: 1.0000e-04\n",
      "Epoch 82/100\n",
      "31/31 [==============================] - 0s 8ms/step - loss: 8.1929 - lr: 1.1220e-04\n",
      "Epoch 83/100\n",
      "31/31 [==============================] - 0s 8ms/step - loss: 7.1831 - lr: 1.2589e-04\n",
      "Epoch 84/100\n",
      "31/31 [==============================] - 0s 8ms/step - loss: 7.0309 - lr: 1.4125e-04\n",
      "Epoch 85/100\n",
      "31/31 [==============================] - 0s 8ms/step - loss: 7.2215 - lr: 1.5849e-04\n",
      "Epoch 86/100\n",
      "31/31 [==============================] - 0s 8ms/step - loss: 8.5340 - lr: 1.7783e-04\n",
      "Epoch 87/100\n",
      "31/31 [==============================] - 0s 8ms/step - loss: 6.9859 - lr: 1.9953e-04\n",
      "Epoch 88/100\n",
      "31/31 [==============================] - 0s 8ms/step - loss: 7.3298 - lr: 2.2387e-04\n",
      "Epoch 89/100\n",
      "31/31 [==============================] - 0s 8ms/step - loss: 6.7582 - lr: 2.5119e-04\n",
      "Epoch 90/100\n",
      "31/31 [==============================] - 0s 8ms/step - loss: 6.7600 - lr: 2.8184e-04\n",
      "Epoch 91/100\n",
      "31/31 [==============================] - 0s 8ms/step - loss: 8.6788 - lr: 3.1623e-04\n",
      "Epoch 92/100\n",
      "31/31 [==============================] - 0s 8ms/step - loss: 7.3276 - lr: 3.5481e-04\n",
      "Epoch 93/100\n",
      "31/31 [==============================] - 0s 8ms/step - loss: 7.6451 - lr: 3.9811e-04\n",
      "Epoch 94/100\n",
      "31/31 [==============================] - 0s 8ms/step - loss: 8.4233 - lr: 4.4668e-04\n",
      "Epoch 95/100\n",
      "31/31 [==============================] - 0s 8ms/step - loss: 8.9741 - lr: 5.0119e-04\n",
      "Epoch 96/100\n",
      "31/31 [==============================] - 0s 8ms/step - loss: 7.6393 - lr: 5.6234e-04\n",
      "Epoch 97/100\n",
      "31/31 [==============================] - 0s 8ms/step - loss: 12.0298 - lr: 6.3096e-04\n",
      "Epoch 98/100\n",
      "31/31 [==============================] - 0s 8ms/step - loss: 8.2390 - lr: 7.0795e-04\n",
      "Epoch 99/100\n",
      "31/31 [==============================] - 0s 8ms/step - loss: 10.8325 - lr: 7.9433e-04\n",
      "Epoch 100/100\n",
      "31/31 [==============================] - 0s 8ms/step - loss: 10.5332 - lr: 8.9125e-04\n"
     ]
    }
   ],
   "source": [
    "# Set the learning rate scheduler\n",
    "lr_schedule = tf.keras.callbacks.LearningRateScheduler(\n",
    "    lambda epoch: 1e-8 * 10**(epoch / 20))\n",
    "\n",
    "# Initialize the optimizer\n",
    "optimizer = tf.keras.optimizers.SGD(momentum=0.9)\n",
    "\n",
    "# Set the training parameters\n",
    "model_tune.compile(loss=tf.keras.losses.Huber(), optimizer=optimizer)\n",
    "\n",
    "# Train the model\n",
    "history = model_tune.fit(dataset, epochs=100, callbacks=[lr_schedule])"
   ]
  },
  {
   "cell_type": "code",
   "execution_count": 10,
   "metadata": {
    "id": "AkBsrsXMzoWR"
   },
   "outputs": [
    {
     "data": {
      "text/plain": [
       "(1e-08, 0.001, 0.0, 30.0)"
      ]
     },
     "execution_count": 10,
     "metadata": {},
     "output_type": "execute_result"
    },
    {
     "data": {
      "image/png": "[encoded data removed]",
      "text/plain": [
       "<Figure size 1000x600 with 1 Axes>"
      ]
     },
     "metadata": {},
     "output_type": "display_data"
    }
   ],
   "source": [
    "# Define the learning rate array\n",
    "lrs = 1e-8 * (10 ** (np.arange(100) / 20))\n",
    "\n",
    "# Set the figure size\n",
    "plt.figure(figsize=(10, 6))\n",
    "\n",
    "# Set the grid\n",
    "plt.grid(True)\n",
    "\n",
    "# Plot the loss in log scale\n",
    "plt.semilogx(lrs, history.history[\"loss\"])\n",
    "\n",
    "# Increase the tickmarks size\n",
    "plt.tick_params('both', length=10, width=1, which='both')\n",
    "\n",
    "# Set the plot boundaries\n",
    "plt.axis([1e-8, 1e-3, 0, 30])"
   ]
  },
  {
   "cell_type": "markdown",
   "metadata": {
    "id": "i-lKNp4pq_w8"
   },
   "source": [
    "## Train the Model\n",
    "\n",
    "You can then proceed to train the model with your chosen learning rate. \n",
    "\n",
    "*Tip: When experimenting and you find yourself running different iterations of a model, you may want to use the [`clear_session()`](https://www.tensorflow.org/api_docs/python/tf/keras/backend/clear_session) method to declutter memory used by Keras. This is added in the first line below.*\n"
   ]
  },
  {
   "cell_type": "code",
   "execution_count": 11,
   "metadata": {
    "id": "4uh-97bpLZCA"
   },
   "outputs": [
    {
     "name": "stdout",
     "output_type": "stream",
     "text": [
      "Epoch 1/100\n",
      "31/31 [==============================] - 4s 9ms/step - loss: 22.1839 - mae: 22.6780\n",
      "Epoch 2/100\n",
      "31/31 [==============================] - 0s 8ms/step - loss: 9.5121 - mae: 9.9985\n",
      "Epoch 3/100\n",
      "31/31 [==============================] - 0s 8ms/step - loss: 7.2666 - mae: 7.7514\n",
      "Epoch 4/100\n",
      "31/31 [==============================] - 0s 8ms/step - loss: 6.6011 - mae: 7.0788\n",
      "Epoch 5/100\n",
      "31/31 [==============================] - 0s 8ms/step - loss: 6.3092 - mae: 6.7877\n",
      "Epoch 6/100\n",
      "31/31 [==============================] - 0s 8ms/step - loss: 6.1872 - mae: 6.6694\n",
      "Epoch 7/100\n",
      "31/31 [==============================] - 0s 8ms/step - loss: 6.0911 - mae: 6.5700\n",
      "Epoch 8/100\n",
      "31/31 [==============================] - 0s 8ms/step - loss: 6.0387 - mae: 6.5229\n",
      "Epoch 9/100\n",
      "31/31 [==============================] - 0s 8ms/step - loss: 5.9118 - mae: 6.3929\n",
      "Epoch 10/100\n",
      "31/31 [==============================] - 0s 8ms/step - loss: 5.8199 - mae: 6.2981\n",
      "Epoch 11/100\n",
      "31/31 [==============================] - 0s 8ms/step - loss: 5.7502 - mae: 6.2322\n",
      "Epoch 12/100\n",
      "31/31 [==============================] - 0s 8ms/step - loss: 5.6705 - mae: 6.1499\n",
      "Epoch 13/100\n",
      "31/31 [==============================] - 0s 8ms/step - loss: 5.6329 - mae: 6.1134\n",
      "Epoch 14/100\n",
      "31/31 [==============================] - 0s 8ms/step - loss: 5.6084 - mae: 6.0903\n",
      "Epoch 15/100\n",
      "31/31 [==============================] - 0s 8ms/step - loss: 5.4989 - mae: 5.9803\n",
      "Epoch 16/100\n",
      "31/31 [==============================] - 0s 8ms/step - loss: 5.4852 - mae: 5.9625\n",
      "Epoch 17/100\n",
      "31/31 [==============================] - 0s 8ms/step - loss: 5.4229 - mae: 5.9043\n",
      "Epoch 18/100\n",
      "31/31 [==============================] - 0s 8ms/step - loss: 5.4748 - mae: 5.9577\n",
      "Epoch 19/100\n",
      "31/31 [==============================] - 0s 8ms/step - loss: 5.4306 - mae: 5.9099\n",
      "Epoch 20/100\n",
      "31/31 [==============================] - 0s 8ms/step - loss: 5.3815 - mae: 5.8595\n",
      "Epoch 21/100\n",
      "31/31 [==============================] - 0s 8ms/step - loss: 5.3534 - mae: 5.8333\n",
      "Epoch 22/100\n",
      "31/31 [==============================] - 0s 8ms/step - loss: 5.2375 - mae: 5.7132\n",
      "Epoch 23/100\n",
      "31/31 [==============================] - 0s 8ms/step - loss: 5.1929 - mae: 5.6663\n",
      "Epoch 24/100\n",
      "31/31 [==============================] - 0s 8ms/step - loss: 5.2683 - mae: 5.7475\n",
      "Epoch 25/100\n",
      "31/31 [==============================] - 0s 8ms/step - loss: 5.1957 - mae: 5.6735\n",
      "Epoch 26/100\n",
      "31/31 [==============================] - 0s 8ms/step - loss: 5.1294 - mae: 5.6088\n",
      "Epoch 27/100\n",
      "31/31 [==============================] - 0s 8ms/step - loss: 5.1186 - mae: 5.5984\n",
      "Epoch 28/100\n",
      "31/31 [==============================] - 0s 8ms/step - loss: 5.0793 - mae: 5.5597\n",
      "Epoch 29/100\n",
      "31/31 [==============================] - 0s 8ms/step - loss: 5.0389 - mae: 5.5145\n",
      "Epoch 30/100\n",
      "31/31 [==============================] - 0s 8ms/step - loss: 5.0304 - mae: 5.5096\n",
      "Epoch 31/100\n",
      "31/31 [==============================] - 0s 8ms/step - loss: 4.9869 - mae: 5.4618\n",
      "Epoch 32/100\n",
      "31/31 [==============================] - 0s 8ms/step - loss: 4.9546 - mae: 5.4280\n",
      "Epoch 33/100\n",
      "31/31 [==============================] - 0s 8ms/step - loss: 4.9543 - mae: 5.4310\n",
      "Epoch 34/100\n",
      "31/31 [==============================] - 0s 8ms/step - loss: 4.9221 - mae: 5.3997\n",
      "Epoch 35/100\n",
      "31/31 [==============================] - 0s 8ms/step - loss: 4.9125 - mae: 5.3871\n",
      "Epoch 36/100\n",
      "31/31 [==============================] - 0s 8ms/step - loss: 4.8637 - mae: 5.3400\n",
      "Epoch 37/100\n",
      "31/31 [==============================] - 0s 8ms/step - loss: 4.8452 - mae: 5.3200\n",
      "Epoch 38/100\n",
      "31/31 [==============================] - 0s 8ms/step - loss: 4.8555 - mae: 5.3328\n",
      "Epoch 39/100\n",
      "31/31 [==============================] - 0s 8ms/step - loss: 4.8887 - mae: 5.3682\n",
      "Epoch 40/100\n",
      "31/31 [==============================] - 0s 8ms/step - loss: 4.8207 - mae: 5.3001\n",
      "Epoch 41/100\n",
      "31/31 [==============================] - 0s 8ms/step - loss: 4.8631 - mae: 5.3371\n",
      "Epoch 42/100\n",
      "31/31 [==============================] - 0s 8ms/step - loss: 4.7809 - mae: 5.2584\n",
      "Epoch 43/100\n",
      "31/31 [==============================] - 0s 8ms/step - loss: 4.7640 - mae: 5.2393\n",
      "Epoch 44/100\n",
      "31/31 [==============================] - 0s 8ms/step - loss: 4.7477 - mae: 5.2240\n",
      "Epoch 45/100\n",
      "31/31 [==============================] - 0s 8ms/step - loss: 4.7395 - mae: 5.2169\n",
      "Epoch 46/100\n",
      "31/31 [==============================] - 0s 8ms/step - loss: 4.7048 - mae: 5.1844\n",
      "Epoch 47/100\n",
      "31/31 [==============================] - 0s 8ms/step - loss: 4.7225 - mae: 5.1991\n",
      "Epoch 48/100\n",
      "31/31 [==============================] - 0s 8ms/step - loss: 4.7050 - mae: 5.1792\n",
      "Epoch 49/100\n",
      "31/31 [==============================] - 0s 8ms/step - loss: 4.6915 - mae: 5.1681\n",
      "Epoch 50/100\n",
      "31/31 [==============================] - 0s 8ms/step - loss: 4.6551 - mae: 5.1312\n",
      "Epoch 51/100\n",
      "31/31 [==============================] - 0s 8ms/step - loss: 4.7006 - mae: 5.1788\n",
      "Epoch 52/100\n",
      "31/31 [==============================] - 0s 8ms/step - loss: 4.6587 - mae: 5.1348\n",
      "Epoch 53/100\n",
      "31/31 [==============================] - 0s 8ms/step - loss: 4.6800 - mae: 5.1576\n",
      "Epoch 54/100\n",
      "31/31 [==============================] - 0s 8ms/step - loss: 4.6428 - mae: 5.1175\n",
      "Epoch 55/100\n",
      "31/31 [==============================] - 0s 8ms/step - loss: 4.6919 - mae: 5.1715\n",
      "Epoch 56/100\n",
      "31/31 [==============================] - 0s 8ms/step - loss: 4.6151 - mae: 5.0939\n",
      "Epoch 57/100\n",
      "31/31 [==============================] - 0s 8ms/step - loss: 4.7113 - mae: 5.1876\n",
      "Epoch 58/100\n",
      "31/31 [==============================] - 0s 8ms/step - loss: 4.6731 - mae: 5.1507\n",
      "Epoch 59/100\n",
      "31/31 [==============================] - 0s 8ms/step - loss: 4.7323 - mae: 5.2047\n",
      "Epoch 60/100\n",
      "31/31 [==============================] - 0s 8ms/step - loss: 4.7721 - mae: 5.2467\n",
      "Epoch 61/100\n",
      "31/31 [==============================] - 0s 8ms/step - loss: 4.6801 - mae: 5.1608\n",
      "Epoch 62/100\n",
      "31/31 [==============================] - 0s 8ms/step - loss: 4.6203 - mae: 5.0964\n",
      "Epoch 63/100\n",
      "31/31 [==============================] - 0s 8ms/step - loss: 4.6584 - mae: 5.1344\n",
      "Epoch 64/100\n",
      "31/31 [==============================] - 0s 8ms/step - loss: 4.7430 - mae: 5.2196\n",
      "Epoch 65/100\n",
      "31/31 [==============================] - 0s 8ms/step - loss: 4.6101 - mae: 5.0881\n",
      "Epoch 66/100\n",
      "31/31 [==============================] - 0s 8ms/step - loss: 4.7110 - mae: 5.1877\n",
      "Epoch 67/100\n",
      "31/31 [==============================] - 0s 8ms/step - loss: 4.7186 - mae: 5.1966\n",
      "Epoch 68/100\n",
      "31/31 [==============================] - 0s 8ms/step - loss: 4.5756 - mae: 5.0509\n",
      "Epoch 69/100\n",
      "31/31 [==============================] - 0s 8ms/step - loss: 4.5906 - mae: 5.0652\n",
      "Epoch 70/100\n",
      "31/31 [==============================] - 0s 8ms/step - loss: 4.6169 - mae: 5.0907\n",
      "Epoch 71/100\n",
      "31/31 [==============================] - 0s 8ms/step - loss: 4.5610 - mae: 5.0397\n",
      "Epoch 72/100\n",
      "31/31 [==============================] - 0s 8ms/step - loss: 4.5890 - mae: 5.0627\n",
      "Epoch 73/100\n",
      "31/31 [==============================] - 0s 8ms/step - loss: 4.6161 - mae: 5.0892\n",
      "Epoch 74/100\n",
      "31/31 [==============================] - 0s 8ms/step - loss: 4.7254 - mae: 5.1972\n",
      "Epoch 75/100\n",
      "31/31 [==============================] - 0s 8ms/step - loss: 4.5708 - mae: 5.0463\n",
      "Epoch 76/100\n",
      "31/31 [==============================] - 0s 8ms/step - loss: 4.5580 - mae: 5.0330\n",
      "Epoch 77/100\n",
      "31/31 [==============================] - 0s 8ms/step - loss: 4.5461 - mae: 5.0222\n",
      "Epoch 78/100\n",
      "31/31 [==============================] - 0s 8ms/step - loss: 4.5941 - mae: 5.0701\n",
      "Epoch 79/100\n",
      "31/31 [==============================] - 0s 8ms/step - loss: 4.5387 - mae: 5.0139\n",
      "Epoch 80/100\n",
      "31/31 [==============================] - 0s 8ms/step - loss: 4.5639 - mae: 5.0371\n",
      "Epoch 81/100\n",
      "31/31 [==============================] - 0s 8ms/step - loss: 4.5564 - mae: 5.0341\n",
      "Epoch 82/100\n",
      "31/31 [==============================] - 0s 8ms/step - loss: 4.5222 - mae: 5.0023\n",
      "Epoch 83/100\n",
      "31/31 [==============================] - 0s 8ms/step - loss: 4.6152 - mae: 5.0909\n",
      "Epoch 84/100\n",
      "31/31 [==============================] - 0s 8ms/step - loss: 4.5055 - mae: 4.9814\n",
      "Epoch 85/100\n",
      "31/31 [==============================] - 0s 8ms/step - loss: 4.5385 - mae: 5.0133\n",
      "Epoch 86/100\n",
      "31/31 [==============================] - 0s 9ms/step - loss: 4.5176 - mae: 4.9923\n",
      "Epoch 87/100\n",
      "31/31 [==============================] - 0s 8ms/step - loss: 4.5200 - mae: 4.9944\n",
      "Epoch 88/100\n",
      "31/31 [==============================] - 0s 8ms/step - loss: 4.5947 - mae: 5.0757\n",
      "Epoch 89/100\n",
      "31/31 [==============================] - 0s 8ms/step - loss: 4.5034 - mae: 4.9779\n",
      "Epoch 90/100\n",
      "31/31 [==============================] - 0s 8ms/step - loss: 4.5454 - mae: 5.0223\n",
      "Epoch 91/100\n",
      "31/31 [==============================] - 0s 8ms/step - loss: 4.5051 - mae: 4.9845\n",
      "Epoch 92/100\n",
      "31/31 [==============================] - 0s 8ms/step - loss: 4.5088 - mae: 4.9853\n",
      "Epoch 93/100\n",
      "31/31 [==============================] - 0s 8ms/step - loss: 4.5023 - mae: 4.9805\n",
      "Epoch 94/100\n",
      "31/31 [==============================] - 0s 8ms/step - loss: 4.5327 - mae: 5.0103\n",
      "Epoch 95/100\n",
      "31/31 [==============================] - 0s 8ms/step - loss: 4.5537 - mae: 5.0294\n",
      "Epoch 96/100\n",
      "31/31 [==============================] - 0s 8ms/step - loss: 4.5550 - mae: 5.0328\n",
      "Epoch 97/100\n",
      "31/31 [==============================] - 0s 8ms/step - loss: 4.5151 - mae: 4.9911\n",
      "Epoch 98/100\n",
      "31/31 [==============================] - 0s 8ms/step - loss: 4.5262 - mae: 5.0007\n",
      "Epoch 99/100\n",
      "31/31 [==============================] - 0s 8ms/step - loss: 4.5362 - mae: 5.0136\n",
      "Epoch 100/100\n",
      "31/31 [==============================] - 0s 8ms/step - loss: 4.4822 - mae: 4.9603\n"
     ]
    }
   ],
   "source": [
    "# Reset states generated by Keras\n",
    "tf.keras.backend.clear_session()\n",
    "\n",
    "# Build the model\n",
    "model = tf.keras.models.Sequential([\n",
    "  tf.keras.layers.Lambda(lambda x: tf.expand_dims(x, axis=-1),\n",
    "                      input_shape=[None]),\n",
    "   tf.keras.layers.Bidirectional(tf.keras.layers.LSTM(32, return_sequences=True)),\n",
    "  tf.keras.layers.Bidirectional(tf.keras.layers.LSTM(32)),\n",
    "  tf.keras.layers.Dense(1),\n",
    "  tf.keras.layers.Lambda(lambda x: x * 100.0)\n",
    "])\n",
    "\n",
    "# Set the learning rate\n",
    "learning_rate = 2e-6\n",
    "\n",
    "# Set the optimizer \n",
    "optimizer = tf.keras.optimizers.SGD(learning_rate=learning_rate, momentum=0.9)\n",
    "\n",
    "# Set the training parameters\n",
    "model.compile(loss=tf.keras.losses.Huber(),\n",
    "              optimizer=optimizer,\n",
    "              metrics=[\"mae\"])\n",
    "\n",
    "# Train the model\n",
    "history = model.fit(dataset,epochs=100)"
   ]
  },
  {
   "cell_type": "markdown",
   "metadata": {
    "id": "RjP4kbGiI7cw"
   },
   "source": [
    "## Model Prediction\n",
    "\n",
    "You will then generate batches of windows to generate predictions that align with the validation set."
   ]
  },
  {
   "cell_type": "code",
   "execution_count": 12,
   "metadata": {
    "id": "QO8cfKwKBBG6"
   },
   "outputs": [],
   "source": [
    "def model_forecast(model, series, window_size, batch_size):\n",
    "    \"\"\"Uses an input model to generate predictions on data windows\n",
    "\n",
    "    Args:\n",
    "      model (TF Keras Model) - model that accepts data windows\n",
    "      series (array of float) - contains the values of the time series\n",
    "      window_size (int) - the number of time steps to include in the window\n",
    "      batch_size (int) - the batch size\n",
    "\n",
    "    Returns:\n",
    "      forecast (numpy array) - array containing predictions\n",
    "    \"\"\"\n",
    "\n",
    "    # Generate a TF Dataset from the series values\n",
    "    dataset = tf.data.Dataset.from_tensor_slices(series)\n",
    "\n",
    "    # Window the data but only take those with the specified size\n",
    "    dataset = dataset.window(window_size, shift=1, drop_remainder=True)\n",
    "\n",
    "    # Flatten the windows by putting its elements in a single batch\n",
    "    dataset = dataset.flat_map(lambda w: w.batch(window_size))\n",
    "    \n",
    "    # Create batches of windows\n",
    "    dataset = dataset.batch(batch_size).prefetch(1)\n",
    "    \n",
    "    # Get predictions on the entire dataset\n",
    "    forecast = model.predict(dataset)\n",
    "    \n",
    "    return forecast"
   ]
  },
  {
   "cell_type": "code",
   "execution_count": 13,
   "metadata": {
    "id": "_plB3UseBD8o"
   },
   "outputs": [
    {
     "name": "stdout",
     "output_type": "stream",
     "text": [
      "15/15 [==============================] - 1s 3ms/step\n"
     ]
    },
    {
     "data": {
      "image/png": "[encoded data removed]",
      "text/plain": [
       "<Figure size 1000x600 with 1 Axes>"
      ]
     },
     "metadata": {},
     "output_type": "display_data"
    }
   ],
   "source": [
    "# Reduce the original series\n",
    "forecast_series = series[split_time-window_size:-1]\n",
    "\n",
    "# Use helper function to generate predictions\n",
    "forecast = model_forecast(model, forecast_series, window_size, batch_size)\n",
    "\n",
    "# Drop single dimensional axis\n",
    "results = forecast.squeeze()\n",
    "\n",
    "# Plot the results\n",
    "plot_series(time_valid, (x_valid, results))"
   ]
  },
  {
   "cell_type": "markdown",
   "metadata": {
    "id": "Nn8iSQkZtaRC"
   },
   "source": [
    "You can then generate the metrics to evaluate the model's performance."
   ]
  },
  {
   "cell_type": "code",
   "execution_count": 14,
   "metadata": {
    "id": "-IKhueZaBGID"
   },
   "outputs": [
    {
     "name": "stdout",
     "output_type": "stream",
     "text": [
      "77.706955\n",
      "6.3494773\n"
     ]
    }
   ],
   "source": [
    "# Compute the MSE and MAE\n",
    "print(tf.keras.metrics.mean_squared_error(x_valid, results).numpy())\n",
    "print(tf.keras.metrics.mean_absolute_error(x_valid, results).numpy())"
   ]
  },
  {
   "cell_type": "markdown",
   "metadata": {
    "id": "bzPIqeMWvbPy"
   },
   "source": [
    "## Wrap Up\n",
    "\n",
    "This concludes this short exercise on using LSTMs for time series forecasting. Next week, you will build upon this and add convolutions. Then, you will start to move away from synthetic data and use real-world datasets. See you there!"
   ]
  },
  {
   "cell_type": "markdown",
   "metadata": {
    "id": "U5PqTePGHeMH"
   },
   "source": [
    "## Optional: Including a Validation Set while Training\n",
    "\n",
    "Back in the first course of this specialization, you saw how you can also monitor the performance of your model against a validation set while training. You can also do that for this lab. \n",
    "\n",
    "First, you need to generate a `val_set` which are data windows and labels that your model can accept. You can simply reuse the `windowed_dataset` function for that and you can pass in the `x_valid` points to generate the windows."
   ]
  },
  {
   "cell_type": "code",
   "execution_count": 15,
   "metadata": {
    "id": "kvFVwL3PC4iX"
   },
   "outputs": [],
   "source": [
    "# Generate data windows of the validation set\n",
    "val_set = windowed_dataset(x_valid, window_size, batch_size, shuffle_buffer_size)"
   ]
  },
  {
   "cell_type": "markdown",
   "metadata": {
    "id": "p68j6XxEvP9K"
   },
   "source": [
    "You can then do the same training as before but pass in the `val_set` to the `validation_data` parameter of the `fit()` method."
   ]
  },
  {
   "cell_type": "code",
   "execution_count": 16,
   "metadata": {
    "id": "wujKz6tXDSn0"
   },
   "outputs": [
    {
     "name": "stdout",
     "output_type": "stream",
     "text": [
      "Epoch 1/100\n",
      "31/31 [==============================] - 4s 35ms/step - loss: 21.0488 - mae: 21.5456 - val_loss: 27.7395 - val_mae: 28.2367\n",
      "Epoch 2/100\n",
      "31/31 [==============================] - 0s 10ms/step - loss: 11.0183 - mae: 11.5073 - val_loss: 22.9542 - val_mae: 23.4534\n",
      "Epoch 3/100\n",
      "31/31 [==============================] - 0s 10ms/step - loss: 7.8344 - mae: 8.3176 - val_loss: 17.6295 - val_mae: 18.1252\n",
      "Epoch 4/100\n",
      "31/31 [==============================] - 0s 10ms/step - loss: 6.9396 - mae: 7.4224 - val_loss: 14.2151 - val_mae: 14.7084\n",
      "Epoch 5/100\n",
      "31/31 [==============================] - 0s 10ms/step - loss: 6.5432 - mae: 7.0221 - val_loss: 13.1402 - val_mae: 13.6307\n",
      "Epoch 6/100\n",
      "31/31 [==============================] - 0s 10ms/step - loss: 6.3827 - mae: 6.8642 - val_loss: 11.0872 - val_mae: 11.5764\n",
      "Epoch 7/100\n",
      "31/31 [==============================] - 0s 10ms/step - loss: 6.1653 - mae: 6.6462 - val_loss: 11.1938 - val_mae: 11.6871\n",
      "Epoch 8/100\n",
      "31/31 [==============================] - 0s 10ms/step - loss: 6.0988 - mae: 6.5789 - val_loss: 9.6286 - val_mae: 10.1196\n",
      "Epoch 9/100\n",
      "31/31 [==============================] - 0s 10ms/step - loss: 5.9181 - mae: 6.3963 - val_loss: 9.9651 - val_mae: 10.4521\n",
      "Epoch 10/100\n",
      "31/31 [==============================] - 0s 10ms/step - loss: 5.8688 - mae: 6.3474 - val_loss: 9.8488 - val_mae: 10.3396\n",
      "Epoch 11/100\n",
      "31/31 [==============================] - 0s 10ms/step - loss: 5.7181 - mae: 6.1981 - val_loss: 9.8368 - val_mae: 10.3292\n",
      "Epoch 12/100\n",
      "31/31 [==============================] - 0s 10ms/step - loss: 5.6343 - mae: 6.1128 - val_loss: 8.6712 - val_mae: 9.1557\n",
      "Epoch 13/100\n",
      "31/31 [==============================] - 0s 10ms/step - loss: 5.5521 - mae: 6.0319 - val_loss: 8.1613 - val_mae: 8.6467\n",
      "Epoch 14/100\n",
      "31/31 [==============================] - 0s 10ms/step - loss: 5.4850 - mae: 5.9603 - val_loss: 8.6869 - val_mae: 9.1713\n",
      "Epoch 15/100\n",
      "31/31 [==============================] - 0s 10ms/step - loss: 5.4035 - mae: 5.8808 - val_loss: 7.8686 - val_mae: 8.3549\n",
      "Epoch 16/100\n",
      "31/31 [==============================] - 0s 10ms/step - loss: 5.3645 - mae: 5.8435 - val_loss: 8.0149 - val_mae: 8.4989\n",
      "Epoch 17/100\n",
      "31/31 [==============================] - 0s 10ms/step - loss: 5.3169 - mae: 5.7960 - val_loss: 8.1141 - val_mae: 8.5984\n",
      "Epoch 18/100\n",
      "31/31 [==============================] - 0s 10ms/step - loss: 5.3220 - mae: 5.8008 - val_loss: 6.8945 - val_mae: 7.3808\n",
      "Epoch 19/100\n",
      "31/31 [==============================] - 0s 10ms/step - loss: 5.2455 - mae: 5.7217 - val_loss: 7.7544 - val_mae: 8.2371\n",
      "Epoch 20/100\n",
      "31/31 [==============================] - 0s 10ms/step - loss: 5.1600 - mae: 5.6315 - val_loss: 7.5030 - val_mae: 7.9845\n",
      "Epoch 21/100\n",
      "31/31 [==============================] - 0s 10ms/step - loss: 5.0696 - mae: 5.5475 - val_loss: 7.4854 - val_mae: 7.9677\n",
      "Epoch 22/100\n",
      "31/31 [==============================] - 0s 10ms/step - loss: 5.0172 - mae: 5.4982 - val_loss: 7.6495 - val_mae: 8.1325\n",
      "Epoch 23/100\n",
      "31/31 [==============================] - 0s 10ms/step - loss: 5.0477 - mae: 5.5248 - val_loss: 6.7682 - val_mae: 7.2558\n",
      "Epoch 24/100\n",
      "31/31 [==============================] - 0s 10ms/step - loss: 4.9937 - mae: 5.4694 - val_loss: 6.8149 - val_mae: 7.3024\n",
      "Epoch 25/100\n",
      "31/31 [==============================] - 0s 10ms/step - loss: 4.9410 - mae: 5.4214 - val_loss: 6.7707 - val_mae: 7.2569\n",
      "Epoch 26/100\n",
      "31/31 [==============================] - 0s 10ms/step - loss: 4.9701 - mae: 5.4463 - val_loss: 6.8126 - val_mae: 7.2930\n",
      "Epoch 27/100\n",
      "31/31 [==============================] - 0s 10ms/step - loss: 4.9947 - mae: 5.4701 - val_loss: 7.0258 - val_mae: 7.5085\n",
      "Epoch 28/100\n",
      "31/31 [==============================] - 0s 10ms/step - loss: 4.8593 - mae: 5.3313 - val_loss: 6.7043 - val_mae: 7.1853\n",
      "Epoch 29/100\n",
      "31/31 [==============================] - 0s 10ms/step - loss: 4.8405 - mae: 5.3199 - val_loss: 6.8956 - val_mae: 7.3760\n",
      "Epoch 30/100\n",
      "31/31 [==============================] - 0s 10ms/step - loss: 4.8071 - mae: 5.2854 - val_loss: 6.8831 - val_mae: 7.3637\n",
      "Epoch 31/100\n",
      "31/31 [==============================] - 0s 10ms/step - loss: 4.7997 - mae: 5.2786 - val_loss: 6.4723 - val_mae: 6.9545\n",
      "Epoch 32/100\n",
      "31/31 [==============================] - 0s 10ms/step - loss: 4.8354 - mae: 5.3128 - val_loss: 7.4562 - val_mae: 7.9384\n",
      "Epoch 33/100\n",
      "31/31 [==============================] - 0s 10ms/step - loss: 4.7731 - mae: 5.2473 - val_loss: 6.1722 - val_mae: 6.6589\n",
      "Epoch 34/100\n",
      "31/31 [==============================] - 0s 10ms/step - loss: 4.7440 - mae: 5.2203 - val_loss: 6.2893 - val_mae: 6.7700\n",
      "Epoch 35/100\n",
      "31/31 [==============================] - 0s 10ms/step - loss: 4.7296 - mae: 5.2088 - val_loss: 6.7832 - val_mae: 7.2643\n",
      "Epoch 36/100\n",
      "31/31 [==============================] - 0s 10ms/step - loss: 4.7662 - mae: 5.2415 - val_loss: 6.6098 - val_mae: 7.0899\n",
      "Epoch 37/100\n",
      "31/31 [==============================] - 0s 10ms/step - loss: 4.7338 - mae: 5.2112 - val_loss: 6.0755 - val_mae: 6.5623\n",
      "Epoch 38/100\n",
      "31/31 [==============================] - 0s 10ms/step - loss: 4.6793 - mae: 5.1569 - val_loss: 6.4293 - val_mae: 6.9091\n",
      "Epoch 39/100\n",
      "31/31 [==============================] - 0s 10ms/step - loss: 4.7001 - mae: 5.1764 - val_loss: 6.1522 - val_mae: 6.6330\n",
      "Epoch 40/100\n",
      "31/31 [==============================] - 0s 10ms/step - loss: 4.6786 - mae: 5.1528 - val_loss: 5.7438 - val_mae: 6.2252\n",
      "Epoch 41/100\n",
      "31/31 [==============================] - 0s 10ms/step - loss: 4.6468 - mae: 5.1215 - val_loss: 5.9195 - val_mae: 6.4068\n",
      "Epoch 42/100\n",
      "31/31 [==============================] - 0s 10ms/step - loss: 4.6534 - mae: 5.1242 - val_loss: 6.7522 - val_mae: 7.2355\n",
      "Epoch 43/100\n",
      "31/31 [==============================] - 0s 10ms/step - loss: 4.6617 - mae: 5.1394 - val_loss: 5.8363 - val_mae: 6.3217\n",
      "Epoch 44/100\n",
      "31/31 [==============================] - 0s 10ms/step - loss: 4.6415 - mae: 5.1136 - val_loss: 6.5646 - val_mae: 7.0451\n",
      "Epoch 45/100\n",
      "31/31 [==============================] - 0s 10ms/step - loss: 4.6432 - mae: 5.1143 - val_loss: 6.6690 - val_mae: 7.1493\n",
      "Epoch 46/100\n",
      "31/31 [==============================] - 0s 10ms/step - loss: 4.6472 - mae: 5.1250 - val_loss: 6.2036 - val_mae: 6.6813\n",
      "Epoch 47/100\n",
      "31/31 [==============================] - 0s 10ms/step - loss: 4.6044 - mae: 5.0787 - val_loss: 7.0440 - val_mae: 7.5264\n",
      "Epoch 48/100\n",
      "31/31 [==============================] - 0s 10ms/step - loss: 4.6062 - mae: 5.0790 - val_loss: 6.0330 - val_mae: 6.5116\n",
      "Epoch 49/100\n",
      "31/31 [==============================] - 0s 10ms/step - loss: 4.6227 - mae: 5.0998 - val_loss: 5.7986 - val_mae: 6.2854\n",
      "Epoch 50/100\n",
      "31/31 [==============================] - 0s 10ms/step - loss: 4.6284 - mae: 5.1059 - val_loss: 6.1108 - val_mae: 6.5895\n",
      "Epoch 51/100\n",
      "31/31 [==============================] - 0s 10ms/step - loss: 4.6578 - mae: 5.1337 - val_loss: 5.9227 - val_mae: 6.4051\n",
      "Epoch 52/100\n",
      "31/31 [==============================] - 0s 10ms/step - loss: 4.6040 - mae: 5.0819 - val_loss: 5.5882 - val_mae: 6.0665\n",
      "Epoch 53/100\n",
      "31/31 [==============================] - 0s 10ms/step - loss: 4.6441 - mae: 5.1203 - val_loss: 5.7302 - val_mae: 6.2175\n",
      "Epoch 54/100\n",
      "31/31 [==============================] - 0s 10ms/step - loss: 4.6190 - mae: 5.0937 - val_loss: 5.7481 - val_mae: 6.2330\n",
      "Epoch 55/100\n",
      "31/31 [==============================] - 0s 10ms/step - loss: 4.5834 - mae: 5.0562 - val_loss: 6.1573 - val_mae: 6.6334\n",
      "Epoch 56/100\n",
      "31/31 [==============================] - 0s 10ms/step - loss: 4.6393 - mae: 5.1108 - val_loss: 6.0154 - val_mae: 6.4945\n",
      "Epoch 57/100\n",
      "31/31 [==============================] - 0s 10ms/step - loss: 4.5321 - mae: 5.0064 - val_loss: 6.1499 - val_mae: 6.6263\n",
      "Epoch 58/100\n",
      "31/31 [==============================] - 0s 10ms/step - loss: 4.5921 - mae: 5.0698 - val_loss: 6.2847 - val_mae: 6.7638\n",
      "Epoch 59/100\n",
      "31/31 [==============================] - 0s 10ms/step - loss: 4.6537 - mae: 5.1299 - val_loss: 7.1072 - val_mae: 7.5888\n",
      "Epoch 60/100\n",
      "31/31 [==============================] - 0s 10ms/step - loss: 4.6369 - mae: 5.1109 - val_loss: 7.4089 - val_mae: 7.8934\n",
      "Epoch 61/100\n",
      "31/31 [==============================] - 0s 10ms/step - loss: 4.6416 - mae: 5.1117 - val_loss: 5.9031 - val_mae: 6.3837\n",
      "Epoch 62/100\n",
      "31/31 [==============================] - 0s 10ms/step - loss: 4.6052 - mae: 5.0790 - val_loss: 6.9200 - val_mae: 7.4037\n",
      "Epoch 63/100\n",
      "31/31 [==============================] - 0s 10ms/step - loss: 4.6070 - mae: 5.0814 - val_loss: 5.3773 - val_mae: 5.8544\n",
      "Epoch 64/100\n",
      "31/31 [==============================] - 0s 10ms/step - loss: 4.6666 - mae: 5.1385 - val_loss: 6.2305 - val_mae: 6.7084\n",
      "Epoch 65/100\n",
      "31/31 [==============================] - 0s 10ms/step - loss: 4.5262 - mae: 4.9996 - val_loss: 5.8307 - val_mae: 6.3126\n",
      "Epoch 66/100\n",
      "31/31 [==============================] - 0s 10ms/step - loss: 4.5546 - mae: 5.0285 - val_loss: 5.8590 - val_mae: 6.3392\n",
      "Epoch 67/100\n",
      "31/31 [==============================] - 0s 10ms/step - loss: 4.5178 - mae: 4.9959 - val_loss: 5.3617 - val_mae: 5.8430\n",
      "Epoch 68/100\n",
      "31/31 [==============================] - 0s 10ms/step - loss: 4.5114 - mae: 4.9827 - val_loss: 6.2471 - val_mae: 6.7281\n",
      "Epoch 69/100\n",
      "31/31 [==============================] - 0s 10ms/step - loss: 4.5433 - mae: 5.0185 - val_loss: 6.0055 - val_mae: 6.4852\n",
      "Epoch 70/100\n",
      "31/31 [==============================] - 0s 10ms/step - loss: 4.5118 - mae: 4.9841 - val_loss: 6.1485 - val_mae: 6.6277\n",
      "Epoch 71/100\n",
      "31/31 [==============================] - 0s 10ms/step - loss: 4.5045 - mae: 4.9763 - val_loss: 5.4077 - val_mae: 5.8882\n",
      "Epoch 72/100\n",
      "31/31 [==============================] - 0s 10ms/step - loss: 4.4977 - mae: 4.9747 - val_loss: 5.6425 - val_mae: 6.1252\n",
      "Epoch 73/100\n",
      "31/31 [==============================] - 0s 10ms/step - loss: 4.5222 - mae: 4.9925 - val_loss: 5.2824 - val_mae: 5.7632\n",
      "Epoch 74/100\n",
      "31/31 [==============================] - 0s 10ms/step - loss: 4.5347 - mae: 5.0100 - val_loss: 5.5578 - val_mae: 6.0405\n",
      "Epoch 75/100\n",
      "31/31 [==============================] - 0s 10ms/step - loss: 4.5688 - mae: 5.0438 - val_loss: 5.2535 - val_mae: 5.7308\n",
      "Epoch 76/100\n",
      "31/31 [==============================] - 0s 10ms/step - loss: 4.6535 - mae: 5.1272 - val_loss: 5.7547 - val_mae: 6.2352\n",
      "Epoch 77/100\n",
      "31/31 [==============================] - 0s 10ms/step - loss: 4.4903 - mae: 4.9630 - val_loss: 5.3428 - val_mae: 5.8228\n",
      "Epoch 78/100\n",
      "31/31 [==============================] - 0s 10ms/step - loss: 4.5128 - mae: 4.9858 - val_loss: 5.8195 - val_mae: 6.3003\n",
      "Epoch 79/100\n",
      "31/31 [==============================] - 0s 10ms/step - loss: 4.5132 - mae: 4.9873 - val_loss: 5.2689 - val_mae: 5.7502\n",
      "Epoch 80/100\n",
      "31/31 [==============================] - 0s 10ms/step - loss: 4.5504 - mae: 5.0195 - val_loss: 6.2487 - val_mae: 6.7294\n",
      "Epoch 81/100\n",
      "31/31 [==============================] - 0s 10ms/step - loss: 4.5030 - mae: 4.9787 - val_loss: 6.3543 - val_mae: 6.8355\n",
      "Epoch 82/100\n",
      "31/31 [==============================] - 0s 10ms/step - loss: 4.5221 - mae: 4.9963 - val_loss: 5.3622 - val_mae: 5.8394\n",
      "Epoch 83/100\n",
      "31/31 [==============================] - 0s 10ms/step - loss: 4.4843 - mae: 4.9572 - val_loss: 5.7075 - val_mae: 6.1901\n",
      "Epoch 84/100\n",
      "31/31 [==============================] - 0s 10ms/step - loss: 4.4523 - mae: 4.9221 - val_loss: 5.6951 - val_mae: 6.1771\n",
      "Epoch 85/100\n",
      "31/31 [==============================] - 0s 10ms/step - loss: 4.4527 - mae: 4.9251 - val_loss: 5.1511 - val_mae: 5.6234\n",
      "Epoch 86/100\n",
      "31/31 [==============================] - 0s 10ms/step - loss: 4.5506 - mae: 5.0202 - val_loss: 5.1529 - val_mae: 5.6269\n",
      "Epoch 87/100\n",
      "31/31 [==============================] - 0s 10ms/step - loss: 4.4623 - mae: 4.9412 - val_loss: 5.6645 - val_mae: 6.1476\n",
      "Epoch 88/100\n",
      "31/31 [==============================] - 0s 10ms/step - loss: 4.4494 - mae: 4.9235 - val_loss: 5.1242 - val_mae: 5.5943\n",
      "Epoch 89/100\n",
      "31/31 [==============================] - 0s 10ms/step - loss: 4.5166 - mae: 4.9937 - val_loss: 5.4128 - val_mae: 5.8981\n",
      "Epoch 90/100\n",
      "31/31 [==============================] - 0s 10ms/step - loss: 4.4628 - mae: 4.9350 - val_loss: 5.2198 - val_mae: 5.7009\n",
      "Epoch 91/100\n",
      "31/31 [==============================] - 0s 10ms/step - loss: 4.4837 - mae: 4.9582 - val_loss: 5.2208 - val_mae: 5.7022\n",
      "Epoch 92/100\n",
      "31/31 [==============================] - 0s 10ms/step - loss: 4.5184 - mae: 4.9966 - val_loss: 5.4124 - val_mae: 5.8995\n",
      "Epoch 93/100\n",
      "31/31 [==============================] - 0s 10ms/step - loss: 4.5123 - mae: 4.9804 - val_loss: 5.4200 - val_mae: 5.9021\n",
      "Epoch 94/100\n",
      "31/31 [==============================] - 0s 10ms/step - loss: 4.4132 - mae: 4.8878 - val_loss: 6.0446 - val_mae: 6.5253\n",
      "Epoch 95/100\n",
      "31/31 [==============================] - 0s 10ms/step - loss: 4.4324 - mae: 4.9101 - val_loss: 5.7758 - val_mae: 6.2571\n",
      "Epoch 96/100\n",
      "31/31 [==============================] - 0s 10ms/step - loss: 4.4529 - mae: 4.9336 - val_loss: 5.3789 - val_mae: 5.8583\n",
      "Epoch 97/100\n",
      "31/31 [==============================] - 0s 10ms/step - loss: 4.4172 - mae: 4.8936 - val_loss: 5.1930 - val_mae: 5.6726\n",
      "Epoch 98/100\n",
      "31/31 [==============================] - 0s 10ms/step - loss: 4.4528 - mae: 4.9287 - val_loss: 5.0494 - val_mae: 5.5234\n",
      "Epoch 99/100\n",
      "31/31 [==============================] - 0s 10ms/step - loss: 4.4539 - mae: 4.9341 - val_loss: 5.7726 - val_mae: 6.2542\n",
      "Epoch 100/100\n",
      "31/31 [==============================] - 0s 10ms/step - loss: 4.4291 - mae: 4.9102 - val_loss: 5.5507 - val_mae: 6.0335\n"
     ]
    }
   ],
   "source": [
    "# Reset states generated by Keras\n",
    "tf.keras.backend.clear_session()\n",
    "\n",
    "# Build the model\n",
    "model = tf.keras.models.Sequential([\n",
    "  tf.keras.layers.Lambda(lambda x: tf.expand_dims(x, axis=-1),\n",
    "                      input_shape=[None]),\n",
    "   tf.keras.layers.Bidirectional(tf.keras.layers.LSTM(32, return_sequences=True)),\n",
    "  tf.keras.layers.Bidirectional(tf.keras.layers.LSTM(32)),\n",
    "  tf.keras.layers.Dense(1),\n",
    "  tf.keras.layers.Lambda(lambda x: x * 100.0)\n",
    "])\n",
    "\n",
    "# Set the learning rate\n",
    "learning_rate = 2e-6\n",
    "\n",
    "# Set the optimizer \n",
    "optimizer = tf.keras.optimizers.SGD(learning_rate=learning_rate, momentum=0.9)\n",
    "\n",
    "# Set the training parameters\n",
    "model.compile(loss=tf.keras.losses.Huber(),\n",
    "              optimizer=optimizer,\n",
    "              metrics=[\"mae\"])\n",
    "\n",
    "# Train the model\n",
    "history = model.fit(dataset,epochs=100, validation_data=val_set)"
   ]
  },
  {
   "cell_type": "code",
   "execution_count": null,
   "metadata": {},
   "outputs": [],
   "source": []
  }
 ],
 "metadata": {
  "accelerator": "GPU",
  "colab": {
   "collapsed_sections": [],
   "name": "C4_W3_Lab_2_LSTM.ipynb",
   "private_outputs": true,
   "provenance": []
  },
  "kernelspec": {
   "display_name": "Python 3 (ipykernel)",
   "language": "python",
   "name": "python3"
  },
  "language_info": {
   "codemirror_mode": {
    "name": "ipython",
    "version": 3
   },
   "file_extension": ".py",
   "mimetype": "text/x-python",
   "name": "python",
   "nbconvert_exporter": "python",
   "pygments_lexer": "ipython3",
   "version": "3.8.16"
  }
 },
 "nbformat": 4,
 "nbformat_minor": 4
}
