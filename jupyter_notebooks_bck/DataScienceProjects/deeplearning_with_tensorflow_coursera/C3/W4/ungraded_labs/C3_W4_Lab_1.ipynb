{
 "cells": [
  {
   "cell_type": "markdown",
   "metadata": {},
   "source": [
    "<a href=\"https://colab.research.google.com/github/https-deeplearning-ai/tensorflow-1-public/blob/master/C3/W4/ungraded_labs/C3_W4_Lab_1.ipynb\" target=\"_parent\"><img src=\"https://colab.research.google.com/assets/colab-badge.svg\" alt=\"Open In Colab\"/></a>"
   ]
  },
  {
   "cell_type": "markdown",
   "metadata": {
    "id": "4VKWPfcBiYZO"
   },
   "source": [
    "# Ungraded Lab: Generating Text with Neural Networks\n",
    "\n",
    "For this week, you will look at techniques to prepare data and build models for text generation. You will train a neural network with lyrics from an Irish song then let it make a new song for you. Though this might sound like a more complex application, you'll soon see that the process is very similar to the ones you've been using in the previous weeks. Only minor modifications are needed. Let's see what these are in the next sections."
   ]
  },
  {
   "cell_type": "markdown",
   "metadata": {
    "id": "SgasH2Bvzds6"
   },
   "source": [
    "## Imports\n",
    "\n",
    "First, you will import the required libraries. You've used all of these already in the previous labs."
   ]
  },
  {
   "cell_type": "code",
   "execution_count": 1,
   "metadata": {
    "id": "BOwsuGQQY9OL"
   },
   "outputs": [],
   "source": [
    "import tensorflow as tf\n",
    "import numpy as np \n",
    "from tensorflow.keras.layers import Embedding, LSTM, Dense, Bidirectional\n",
    "from tensorflow.keras.models import Sequential\n",
    "from tensorflow.keras.preprocessing.text import Tokenizer\n",
    "from tensorflow.keras.preprocessing.sequence import pad_sequences"
   ]
  },
  {
   "cell_type": "markdown",
   "metadata": {
    "id": "nqSrSYWD0CxU"
   },
   "source": [
    "## Building the Word Vocabulary\n",
    "\n",
    "The dataset is the lyrics of [*Lanigan's Ball*](https://en.wikipedia.org/wiki/Lanigan%27s_Ball), a traditional Irish song. You will split it per line then use the `Tokenizer` class to build the word index dictionary."
   ]
  },
  {
   "cell_type": "code",
   "execution_count": 2,
   "metadata": {
    "id": "doUCQnYfvsmA"
   },
   "outputs": [
    {
     "name": "stdout",
     "output_type": "stream",
     "text": [
      "['in the town of athy one jeremy lanigan ', ' battered away til he hadnt a pound. ', 'his father died and made him a man again ', ' left him a farm and ten acres of ground. ', 'he gave a grand party for friends and relations ', 'who didnt forget him when come to the wall, ', 'and if youll but listen ill make your eyes glisten ', 'of the rows and the ructions of lanigans ball. ', 'myself to be sure got free invitation, ', 'for all the nice girls and boys i might ask, ', 'and just in a minute both friends and relations ', 'were dancing round merry as bees round a cask. ', 'judy odaly, that nice little milliner, ', 'she tipped me a wink for to give her a call, ', 'and i soon arrived with peggy mcgilligan ', 'just in time for lanigans ball. ', 'there were lashings of punch and wine for the ladies, ', 'potatoes and cakes; there was bacon and tea, ', 'there were the nolans, dolans, ogradys ', 'courting the girls and dancing away. ', 'songs they went round as plenty as water, ', 'the harp that once sounded in taras old hall,', 'sweet nelly gray and the rat catchers daughter,', 'all singing together at lanigans ball. ', 'they were doing all kinds of nonsensical polkas ', 'all round the room in a whirligig. ', 'julia and i, we banished their nonsense ', 'and tipped them the twist of a reel and a jig. ', 'ach mavrone, how the girls got all mad at me ', 'danced til youd think the ceiling would fall. ', 'for i spent three weeks at brooks academy ', 'learning new steps for lanigans ball. ', 'three long weeks i spent up in dublin, ', 'three long weeks to learn nothing at all,', ' three long weeks i spent up in dublin, ', 'learning new steps for lanigans ball. ', 'she stepped out and i stepped in again, ', 'i stepped out and she stepped in again, ', 'she stepped out and i stepped in again, ', 'learning new steps for lanigans ball. ', 'boys were all merry and the girls they were hearty ', 'and danced all around in couples and groups, ', 'til an accident happened, young terrance mccarthy ', 'put his right leg through miss finnertys hoops. ', 'poor creature fainted and cried meelia murther, ', 'called for her brothers and gathered them all. ', 'carmody swore that hed go no further ', 'til he had satisfaction at lanigans ball. ', 'in the midst of the row miss kerrigan fainted, ', 'her cheeks at the same time as red as a rose. ', 'some of the lads declared she was painted, ', 'she took a small drop too much, i suppose. ', 'her sweetheart, ned morgan, so powerful and able, ', 'when he saw his fair colleen stretched out by the wall, ', 'tore the left leg from under the table ', 'and smashed all the chaneys at lanigans ball. ', 'boys, oh boys, twas then there were runctions. ', 'myself got a lick from big phelim mchugh. ', 'i soon replied to his introduction ', 'and kicked up a terrible hullabaloo. ', 'old casey, the piper, was near being strangled. ', 'they squeezed up his pipes, bellows, chanters and all. ', 'the girls, in their ribbons, they got all entangled ', 'and that put an end to lanigans ball.']\n"
     ]
    }
   ],
   "source": [
    "# Define the lyrics of the song\n",
    "data=\"In the town of Athy one Jeremy Lanigan \\n Battered away til he hadnt a pound. \\nHis father died and made him a man again \\n Left him a farm and ten acres of ground. \\nHe gave a grand party for friends and relations \\nWho didnt forget him when come to the wall, \\nAnd if youll but listen Ill make your eyes glisten \\nOf the rows and the ructions of Lanigans Ball. \\nMyself to be sure got free invitation, \\nFor all the nice girls and boys I might ask, \\nAnd just in a minute both friends and relations \\nWere dancing round merry as bees round a cask. \\nJudy ODaly, that nice little milliner, \\nShe tipped me a wink for to give her a call, \\nAnd I soon arrived with Peggy McGilligan \\nJust in time for Lanigans Ball. \\nThere were lashings of punch and wine for the ladies, \\nPotatoes and cakes; there was bacon and tea, \\nThere were the Nolans, Dolans, OGradys \\nCourting the girls and dancing away. \\nSongs they went round as plenty as water, \\nThe harp that once sounded in Taras old hall,\\nSweet Nelly Gray and The Rat Catchers Daughter,\\nAll singing together at Lanigans Ball. \\nThey were doing all kinds of nonsensical polkas \\nAll round the room in a whirligig. \\nJulia and I, we banished their nonsense \\nAnd tipped them the twist of a reel and a jig. \\nAch mavrone, how the girls got all mad at me \\nDanced til youd think the ceiling would fall. \\nFor I spent three weeks at Brooks Academy \\nLearning new steps for Lanigans Ball. \\nThree long weeks I spent up in Dublin, \\nThree long weeks to learn nothing at all,\\n Three long weeks I spent up in Dublin, \\nLearning new steps for Lanigans Ball. \\nShe stepped out and I stepped in again, \\nI stepped out and she stepped in again, \\nShe stepped out and I stepped in again, \\nLearning new steps for Lanigans Ball. \\nBoys were all merry and the girls they were hearty \\nAnd danced all around in couples and groups, \\nTil an accident happened, young Terrance McCarthy \\nPut his right leg through miss Finnertys hoops. \\nPoor creature fainted and cried Meelia murther, \\nCalled for her brothers and gathered them all. \\nCarmody swore that hed go no further \\nTil he had satisfaction at Lanigans Ball. \\nIn the midst of the row miss Kerrigan fainted, \\nHer cheeks at the same time as red as a rose. \\nSome of the lads declared she was painted, \\nShe took a small drop too much, I suppose. \\nHer sweetheart, Ned Morgan, so powerful and able, \\nWhen he saw his fair colleen stretched out by the wall, \\nTore the left leg from under the table \\nAnd smashed all the Chaneys at Lanigans Ball. \\nBoys, oh boys, twas then there were runctions. \\nMyself got a lick from big Phelim McHugh. \\nI soon replied to his introduction \\nAnd kicked up a terrible hullabaloo. \\nOld Casey, the piper, was near being strangled. \\nThey squeezed up his pipes, bellows, chanters and all. \\nThe girls, in their ribbons, they got all entangled \\nAnd that put an end to Lanigans Ball.\"\n",
    "\n",
    "# Split the long string per line and put in a list\n",
    "corpus = data.lower().split(\"\\n\")\n",
    "\n",
    "# Preview the result\n",
    "print(corpus)"
   ]
  },
  {
   "cell_type": "code",
   "execution_count": 3,
   "metadata": {
    "id": "PRnDnCW-Z7qv"
   },
   "outputs": [
    {
     "name": "stdout",
     "output_type": "stream",
     "text": [
      "word index dictionary: {'and': 1, 'the': 2, 'a': 3, 'in': 4, 'all': 5, 'i': 6, 'for': 7, 'of': 8, 'lanigans': 9, 'ball': 10, 'were': 11, 'at': 12, 'to': 13, 'she': 14, 'stepped': 15, 'his': 16, 'girls': 17, 'as': 18, 'they': 19, 'til': 20, 'he': 21, 'again': 22, 'got': 23, 'boys': 24, 'round': 25, 'that': 26, 'her': 27, 'there': 28, 'three': 29, 'weeks': 30, 'up': 31, 'out': 32, 'him': 33, 'was': 34, 'spent': 35, 'learning': 36, 'new': 37, 'steps': 38, 'long': 39, 'away': 40, 'left': 41, 'friends': 42, 'relations': 43, 'when': 44, 'wall': 45, 'myself': 46, 'nice': 47, 'just': 48, 'dancing': 49, 'merry': 50, 'tipped': 51, 'me': 52, 'soon': 53, 'time': 54, 'old': 55, 'their': 56, 'them': 57, 'danced': 58, 'dublin': 59, 'an': 60, 'put': 61, 'leg': 62, 'miss': 63, 'fainted': 64, 'from': 65, 'town': 66, 'athy': 67, 'one': 68, 'jeremy': 69, 'lanigan': 70, 'battered': 71, 'hadnt': 72, 'pound': 73, 'father': 74, 'died': 75, 'made': 76, 'man': 77, 'farm': 78, 'ten': 79, 'acres': 80, 'ground': 81, 'gave': 82, 'grand': 83, 'party': 84, 'who': 85, 'didnt': 86, 'forget': 87, 'come': 88, 'if': 89, 'youll': 90, 'but': 91, 'listen': 92, 'ill': 93, 'make': 94, 'your': 95, 'eyes': 96, 'glisten': 97, 'rows': 98, 'ructions': 99, 'be': 100, 'sure': 101, 'free': 102, 'invitation': 103, 'might': 104, 'ask': 105, 'minute': 106, 'both': 107, 'bees': 108, 'cask': 109, 'judy': 110, 'odaly': 111, 'little': 112, 'milliner': 113, 'wink': 114, 'give': 115, 'call': 116, 'arrived': 117, 'with': 118, 'peggy': 119, 'mcgilligan': 120, 'lashings': 121, 'punch': 122, 'wine': 123, 'ladies': 124, 'potatoes': 125, 'cakes': 126, 'bacon': 127, 'tea': 128, 'nolans': 129, 'dolans': 130, 'ogradys': 131, 'courting': 132, 'songs': 133, 'went': 134, 'plenty': 135, 'water': 136, 'harp': 137, 'once': 138, 'sounded': 139, 'taras': 140, 'hall': 141, 'sweet': 142, 'nelly': 143, 'gray': 144, 'rat': 145, 'catchers': 146, 'daughter': 147, 'singing': 148, 'together': 149, 'doing': 150, 'kinds': 151, 'nonsensical': 152, 'polkas': 153, 'room': 154, 'whirligig': 155, 'julia': 156, 'we': 157, 'banished': 158, 'nonsense': 159, 'twist': 160, 'reel': 161, 'jig': 162, 'ach': 163, 'mavrone': 164, 'how': 165, 'mad': 166, 'youd': 167, 'think': 168, 'ceiling': 169, 'would': 170, 'fall': 171, 'brooks': 172, 'academy': 173, 'learn': 174, 'nothing': 175, 'hearty': 176, 'around': 177, 'couples': 178, 'groups': 179, 'accident': 180, 'happened': 181, 'young': 182, 'terrance': 183, 'mccarthy': 184, 'right': 185, 'through': 186, 'finnertys': 187, 'hoops': 188, 'poor': 189, 'creature': 190, 'cried': 191, 'meelia': 192, 'murther': 193, 'called': 194, 'brothers': 195, 'gathered': 196, 'carmody': 197, 'swore': 198, 'hed': 199, 'go': 200, 'no': 201, 'further': 202, 'had': 203, 'satisfaction': 204, 'midst': 205, 'row': 206, 'kerrigan': 207, 'cheeks': 208, 'same': 209, 'red': 210, 'rose': 211, 'some': 212, 'lads': 213, 'declared': 214, 'painted': 215, 'took': 216, 'small': 217, 'drop': 218, 'too': 219, 'much': 220, 'suppose': 221, 'sweetheart': 222, 'ned': 223, 'morgan': 224, 'so': 225, 'powerful': 226, 'able': 227, 'saw': 228, 'fair': 229, 'colleen': 230, 'stretched': 231, 'by': 232, 'tore': 233, 'under': 234, 'table': 235, 'smashed': 236, 'chaneys': 237, 'oh': 238, 'twas': 239, 'then': 240, 'runctions': 241, 'lick': 242, 'big': 243, 'phelim': 244, 'mchugh': 245, 'replied': 246, 'introduction': 247, 'kicked': 248, 'terrible': 249, 'hullabaloo': 250, 'casey': 251, 'piper': 252, 'near': 253, 'being': 254, 'strangled': 255, 'squeezed': 256, 'pipes': 257, 'bellows': 258, 'chanters': 259, 'ribbons': 260, 'entangled': 261, 'end': 262}\n",
      "total words: 263\n"
     ]
    }
   ],
   "source": [
    "# Initialize the Tokenizer class\n",
    "tokenizer = Tokenizer()\n",
    "\n",
    "# Generate the word index dictionary\n",
    "tokenizer.fit_on_texts(corpus)\n",
    "\n",
    "# Define the total words. You add 1 for the index `0` which is just the padding token.\n",
    "total_words = len(tokenizer.word_index) + 1\n",
    "\n",
    "print(f'word index dictionary: {tokenizer.word_index}')\n",
    "print(f'total words: {total_words}')"
   ]
  },
  {
   "cell_type": "markdown",
   "metadata": {
    "id": "mBE10Hx_0PA_"
   },
   "source": [
    "## Preprocessing the Dataset\n",
    "\n",
    "Next, you will be generating the training sequences and their labels. As discussed in the lectures, you will take each line of the song and generate inputs and labels from it. For example, if you only have one sentence: \"I am using Tensorflow\", you want the model to learn the next word given any subphrase of this sentence:\n",
    "\n",
    "```\n",
    "INPUT              LABEL\n",
    "-----------------------------\n",
    "I             ---> am\n",
    "I am          ---> using\n",
    "I am using    ---> Tensorflow\n",
    "```\n",
    "\n",
    "The next cell shows how to implement this concept in code. The result would be inputs as padded sequences, and labels as one-hot encoded arrays."
   ]
  },
  {
   "cell_type": "code",
   "execution_count": 4,
   "metadata": {
    "id": "soPGVheskaQP"
   },
   "outputs": [],
   "source": [
    "# Initialize the sequences list\n",
    "input_sequences = []\n",
    "\n",
    "# Loop over every line\n",
    "for line in corpus:\n",
    "\n",
    "\t# Tokenize the current line\n",
    "\ttoken_list = tokenizer.texts_to_sequences([line])[0]\n",
    "\n",
    "\t# Loop over the line several times to generate the subphrases\n",
    "\tfor i in range(1, len(token_list)):\n",
    "\t\t\n",
    "\t\t# Generate the subphrase\n",
    "\t\tn_gram_sequence = token_list[:i+1]\n",
    "\n",
    "\t\t# Append the subphrase to the sequences list\n",
    "\t\tinput_sequences.append(n_gram_sequence)\n",
    "\n",
    "# Get the length of the longest line\n",
    "max_sequence_len = max([len(x) for x in input_sequences])\n",
    "\n",
    "# Pad all sequences\n",
    "input_sequences = np.array(pad_sequences(input_sequences, maxlen=max_sequence_len, padding='pre'))\n",
    "\n",
    "# Create inputs and label by splitting the last token in the subphrases\n",
    "xs, labels = input_sequences[:,:-1],input_sequences[:,-1]\n",
    "\n",
    "# Convert the label into one-hot arrays\n",
    "ys = tf.keras.utils.to_categorical(labels, num_classes=total_words)"
   ]
  },
  {
   "cell_type": "markdown",
   "metadata": {
    "id": "ipaZBkMa9C2Y"
   },
   "source": [
    "Let's see the result for the first line of the song. The particular line and the expected token sequence is shown in the cell below:"
   ]
  },
  {
   "cell_type": "code",
   "execution_count": 5,
   "metadata": {
    "id": "pJtwVB2NbOAP"
   },
   "outputs": [
    {
     "name": "stdout",
     "output_type": "stream",
     "text": [
      "sample sentence: ['in', 'the', 'town', 'of', 'athy', 'one', 'jeremy', 'lanigan']\n",
      "[4, 2, 66, 8, 67, 68, 69, 70]\n"
     ]
    }
   ],
   "source": [
    "# Get sample sentence\n",
    "sentence = corpus[0].split()\n",
    "print(f'sample sentence: {sentence}')\n",
    "\n",
    "# Initialize token list\n",
    "token_list = []\n",
    "\n",
    "# Look up the indices of each word and append to the list\n",
    "for word in sentence: \n",
    "  token_list.append(tokenizer.word_index[word])\n",
    "\n",
    "# Print the token list\n",
    "print(token_list)"
   ]
  },
  {
   "cell_type": "markdown",
   "metadata": {
    "id": "qJHHJAt99Y6P"
   },
   "source": [
    "Since there are 8 tokens here, you can expect to find this particular line in the first 7 elements of the `xs` that you generated earlier. If we get the longest subphrase generated, that should be found in `xs[6]`. See the padded token sequence below:"
   ]
  },
  {
   "cell_type": "code",
   "execution_count": 6,
   "metadata": {
    "id": "49Cv68JOakwv"
   },
   "outputs": [
    {
     "name": "stdout",
     "output_type": "stream",
     "text": [
      "token list: [ 0  0  0  4  2 66  8 67 68 69]\n",
      "decoded to text: ['in the town of athy one jeremy']\n"
     ]
    }
   ],
   "source": [
    "# Pick element\n",
    "elem_number = 6\n",
    "\n",
    "# Print token list and phrase\n",
    "print(f'token list: {xs[elem_number]}')\n",
    "print(f'decoded to text: {tokenizer.sequences_to_texts([xs[elem_number]])}')\n"
   ]
  },
  {
   "cell_type": "markdown",
   "metadata": {
    "id": "1_Ih_j6L_xFD"
   },
   "source": [
    "If you print out the label, it should show `70` because that is the next word in the phrase (i.e. `lanigan`). See the one-hot encoded form below. You can use the [`np.argmax()`](https://numpy.org/doc/stable/reference/generated/numpy.argmax.html) method to get the index of the 'hot' label."
   ]
  },
  {
   "cell_type": "code",
   "execution_count": 7,
   "metadata": {
    "id": "iY-jwvfgbEF8"
   },
   "outputs": [
    {
     "name": "stdout",
     "output_type": "stream",
     "text": [
      "one-hot label: [0. 0. 0. 0. 0. 0. 0. 0. 0. 0. 0. 0. 0. 0. 0. 0. 0. 0. 0. 0. 0. 0. 0. 0.\n",
      " 0. 0. 0. 0. 0. 0. 0. 0. 0. 0. 0. 0. 0. 0. 0. 0. 0. 0. 0. 0. 0. 0. 0. 0.\n",
      " 0. 0. 0. 0. 0. 0. 0. 0. 0. 0. 0. 0. 0. 0. 0. 0. 0. 0. 0. 0. 0. 0. 1. 0.\n",
      " 0. 0. 0. 0. 0. 0. 0. 0. 0. 0. 0. 0. 0. 0. 0. 0. 0. 0. 0. 0. 0. 0. 0. 0.\n",
      " 0. 0. 0. 0. 0. 0. 0. 0. 0. 0. 0. 0. 0. 0. 0. 0. 0. 0. 0. 0. 0. 0. 0. 0.\n",
      " 0. 0. 0. 0. 0. 0. 0. 0. 0. 0. 0. 0. 0. 0. 0. 0. 0. 0. 0. 0. 0. 0. 0. 0.\n",
      " 0. 0. 0. 0. 0. 0. 0. 0. 0. 0. 0. 0. 0. 0. 0. 0. 0. 0. 0. 0. 0. 0. 0. 0.\n",
      " 0. 0. 0. 0. 0. 0. 0. 0. 0. 0. 0. 0. 0. 0. 0. 0. 0. 0. 0. 0. 0. 0. 0. 0.\n",
      " 0. 0. 0. 0. 0. 0. 0. 0. 0. 0. 0. 0. 0. 0. 0. 0. 0. 0. 0. 0. 0. 0. 0. 0.\n",
      " 0. 0. 0. 0. 0. 0. 0. 0. 0. 0. 0. 0. 0. 0. 0. 0. 0. 0. 0. 0. 0. 0. 0. 0.\n",
      " 0. 0. 0. 0. 0. 0. 0. 0. 0. 0. 0. 0. 0. 0. 0. 0. 0. 0. 0. 0. 0. 0. 0.]\n",
      "index of label: 70\n"
     ]
    }
   ],
   "source": [
    "# Print label\n",
    "print(f'one-hot label: {ys[elem_number]}')\n",
    "print(f'index of label: {np.argmax(ys[elem_number])}')"
   ]
  },
  {
   "cell_type": "markdown",
   "metadata": {
    "id": "qOMge9xdAmjg"
   },
   "source": [
    "If you pick the element before that, you will see the same subphrase as above minus one word:"
   ]
  },
  {
   "cell_type": "code",
   "execution_count": 8,
   "metadata": {
    "id": "wtzlUMYadhKt"
   },
   "outputs": [
    {
     "name": "stdout",
     "output_type": "stream",
     "text": [
      "token list: [ 0  0  0  0  4  2 66  8 67 68]\n",
      "decoded to text: ['in the town of athy one']\n",
      "one-hot label: [0. 0. 0. 0. 0. 0. 0. 0. 0. 0. 0. 0. 0. 0. 0. 0. 0. 0. 0. 0. 0. 0. 0. 0.\n",
      " 0. 0. 0. 0. 0. 0. 0. 0. 0. 0. 0. 0. 0. 0. 0. 0. 0. 0. 0. 0. 0. 0. 0. 0.\n",
      " 0. 0. 0. 0. 0. 0. 0. 0. 0. 0. 0. 0. 0. 0. 0. 0. 0. 0. 0. 0. 0. 1. 0. 0.\n",
      " 0. 0. 0. 0. 0. 0. 0. 0. 0. 0. 0. 0. 0. 0. 0. 0. 0. 0. 0. 0. 0. 0. 0. 0.\n",
      " 0. 0. 0. 0. 0. 0. 0. 0. 0. 0. 0. 0. 0. 0. 0. 0. 0. 0. 0. 0. 0. 0. 0. 0.\n",
      " 0. 0. 0. 0. 0. 0. 0. 0. 0. 0. 0. 0. 0. 0. 0. 0. 0. 0. 0. 0. 0. 0. 0. 0.\n",
      " 0. 0. 0. 0. 0. 0. 0. 0. 0. 0. 0. 0. 0. 0. 0. 0. 0. 0. 0. 0. 0. 0. 0. 0.\n",
      " 0. 0. 0. 0. 0. 0. 0. 0. 0. 0. 0. 0. 0. 0. 0. 0. 0. 0. 0. 0. 0. 0. 0. 0.\n",
      " 0. 0. 0. 0. 0. 0. 0. 0. 0. 0. 0. 0. 0. 0. 0. 0. 0. 0. 0. 0. 0. 0. 0. 0.\n",
      " 0. 0. 0. 0. 0. 0. 0. 0. 0. 0. 0. 0. 0. 0. 0. 0. 0. 0. 0. 0. 0. 0. 0. 0.\n",
      " 0. 0. 0. 0. 0. 0. 0. 0. 0. 0. 0. 0. 0. 0. 0. 0. 0. 0. 0. 0. 0. 0. 0.]\n",
      "index of label: 69\n"
     ]
    }
   ],
   "source": [
    "# Pick element\n",
    "elem_number = 5\n",
    "\n",
    "# Print token list and phrase\n",
    "print(f'token list: {xs[elem_number]}')\n",
    "print(f'decoded to text: {tokenizer.sequences_to_texts([xs[elem_number]])}')\n",
    "\n",
    "# Print label\n",
    "print(f'one-hot label: {ys[elem_number]}')\n",
    "print(f'index of label: {np.argmax(ys[elem_number])}')"
   ]
  },
  {
   "cell_type": "markdown",
   "metadata": {
    "id": "c6w_I9OUA2D3"
   },
   "source": [
    "## Build the Model\n",
    "\n",
    "Next, you will build the model with basically the same layers as before. The main difference is you will remove the sigmoid output and use a softmax activated `Dense` layer instead. This output layer will have one neuron for each word in the vocabulary. So given an input token list, the output array of the final layer will have the probabilities for each word."
   ]
  },
  {
   "cell_type": "code",
   "execution_count": 9,
   "metadata": {
    "id": "w9vH8Y59ajYL"
   },
   "outputs": [
    {
     "name": "stdout",
     "output_type": "stream",
     "text": [
      "Model: \"sequential\"\n",
      "_________________________________________________________________\n",
      " Layer (type)                Output Shape              Param #   \n",
      "=================================================================\n",
      " embedding (Embedding)       (None, 10, 64)            16832     \n",
      "                                                                 \n",
      " bidirectional (Bidirectiona  (None, 40)               13600     \n",
      " l)                                                              \n",
      "                                                                 \n",
      " dense (Dense)               (None, 263)               10783     \n",
      "                                                                 \n",
      "=================================================================\n",
      "Total params: 41,215\n",
      "Trainable params: 41,215\n",
      "Non-trainable params: 0\n",
      "_________________________________________________________________\n"
     ]
    }
   ],
   "source": [
    "# Build the model\n",
    "model = Sequential([\n",
    "          Embedding(total_words, 64, input_length=max_sequence_len-1),\n",
    "          Bidirectional(LSTM(20)),\n",
    "          Dense(total_words, activation='softmax')\n",
    "])\n",
    "\n",
    "# Use categorical crossentropy because this is a multi-class problem\n",
    "model.compile(loss='categorical_crossentropy', optimizer='adam', metrics=['accuracy'])\n",
    "\n",
    "# Print the model summary\n",
    "model.summary()"
   ]
  },
  {
   "cell_type": "markdown",
   "metadata": {
    "id": "0Xnb6i2WC_sy"
   },
   "source": [
    "## Train the model\n",
    "\n",
    "You can now train the model. We have a relatively small vocabulary so it will only take a couple of minutes to complete 500 epochs."
   ]
  },
  {
   "cell_type": "code",
   "execution_count": 10,
   "metadata": {
    "id": "mF2k2nD9vgsD"
   },
   "outputs": [
    {
     "name": "stdout",
     "output_type": "stream",
     "text": [
      "Epoch 1/200\n"
     ]
    },
    {
     "name": "stderr",
     "output_type": "stream",
     "text": [
      "2023-04-10 08:39:42.408661: W tensorflow/tsl/platform/profile_utils/cpu_utils.cc:128] Failed to get CPU frequency: 0 Hz\n"
     ]
    },
    {
     "name": "stdout",
     "output_type": "stream",
     "text": [
      "15/15 [==============================] - 2s 4ms/step - loss: 5.5681 - accuracy: 0.0331\n",
      "Epoch 2/200\n",
      "15/15 [==============================] - 0s 3ms/step - loss: 5.5449 - accuracy: 0.0486\n",
      "Epoch 3/200\n",
      "15/15 [==============================] - 0s 3ms/step - loss: 5.4914 - accuracy: 0.0486\n",
      "Epoch 4/200\n",
      "15/15 [==============================] - 0s 3ms/step - loss: 5.3218 - accuracy: 0.0486\n",
      "Epoch 5/200\n",
      "15/15 [==============================] - 0s 3ms/step - loss: 5.1259 - accuracy: 0.0508\n",
      "Epoch 6/200\n",
      "15/15 [==============================] - 0s 3ms/step - loss: 5.0636 - accuracy: 0.0419\n",
      "Epoch 7/200\n",
      "15/15 [==============================] - 0s 3ms/step - loss: 5.0258 - accuracy: 0.0552\n",
      "Epoch 8/200\n",
      "15/15 [==============================] - 0s 3ms/step - loss: 4.9951 - accuracy: 0.0552\n",
      "Epoch 9/200\n",
      "15/15 [==============================] - 0s 3ms/step - loss: 4.9621 - accuracy: 0.0596\n",
      "Epoch 10/200\n",
      "15/15 [==============================] - 0s 3ms/step - loss: 4.9282 - accuracy: 0.0552\n",
      "Epoch 11/200\n",
      "15/15 [==============================] - 0s 3ms/step - loss: 4.8928 - accuracy: 0.0574\n",
      "Epoch 12/200\n",
      "15/15 [==============================] - 0s 3ms/step - loss: 4.8466 - accuracy: 0.0596\n",
      "Epoch 13/200\n",
      "15/15 [==============================] - 0s 3ms/step - loss: 4.7990 - accuracy: 0.0596\n",
      "Epoch 14/200\n",
      "15/15 [==============================] - 0s 3ms/step - loss: 4.7483 - accuracy: 0.0596\n",
      "Epoch 15/200\n",
      "15/15 [==============================] - 0s 3ms/step - loss: 4.6977 - accuracy: 0.0706\n",
      "Epoch 16/200\n",
      "15/15 [==============================] - 0s 3ms/step - loss: 4.6481 - accuracy: 0.0596\n",
      "Epoch 17/200\n",
      "15/15 [==============================] - 0s 3ms/step - loss: 4.5974 - accuracy: 0.0662\n",
      "Epoch 18/200\n",
      "15/15 [==============================] - 0s 3ms/step - loss: 4.5458 - accuracy: 0.0662\n",
      "Epoch 19/200\n",
      "15/15 [==============================] - 0s 3ms/step - loss: 4.4914 - accuracy: 0.0706\n",
      "Epoch 20/200\n",
      "15/15 [==============================] - 0s 3ms/step - loss: 4.4506 - accuracy: 0.0773\n",
      "Epoch 21/200\n",
      "15/15 [==============================] - 0s 3ms/step - loss: 4.4026 - accuracy: 0.0728\n",
      "Epoch 22/200\n",
      "15/15 [==============================] - 0s 3ms/step - loss: 4.3577 - accuracy: 0.0728\n",
      "Epoch 23/200\n",
      "15/15 [==============================] - 0s 3ms/step - loss: 4.3215 - accuracy: 0.0993\n",
      "Epoch 24/200\n",
      "15/15 [==============================] - 0s 3ms/step - loss: 4.2688 - accuracy: 0.0993\n",
      "Epoch 25/200\n",
      "15/15 [==============================] - 0s 3ms/step - loss: 4.2382 - accuracy: 0.1060\n",
      "Epoch 26/200\n",
      "15/15 [==============================] - 0s 3ms/step - loss: 4.1966 - accuracy: 0.0993\n",
      "Epoch 27/200\n",
      "15/15 [==============================] - 0s 3ms/step - loss: 4.1584 - accuracy: 0.1148\n",
      "Epoch 28/200\n",
      "15/15 [==============================] - 0s 3ms/step - loss: 4.1082 - accuracy: 0.1038\n",
      "Epoch 29/200\n",
      "15/15 [==============================] - 0s 3ms/step - loss: 4.0687 - accuracy: 0.1126\n",
      "Epoch 30/200\n",
      "15/15 [==============================] - 0s 3ms/step - loss: 4.0275 - accuracy: 0.1325\n",
      "Epoch 31/200\n",
      "15/15 [==============================] - 0s 3ms/step - loss: 3.9811 - accuracy: 0.1214\n",
      "Epoch 32/200\n",
      "15/15 [==============================] - 0s 3ms/step - loss: 3.9442 - accuracy: 0.1391\n",
      "Epoch 33/200\n",
      "15/15 [==============================] - 0s 3ms/step - loss: 3.9166 - accuracy: 0.1413\n",
      "Epoch 34/200\n",
      "15/15 [==============================] - 0s 3ms/step - loss: 3.8721 - accuracy: 0.1611\n",
      "Epoch 35/200\n",
      "15/15 [==============================] - 0s 3ms/step - loss: 3.8278 - accuracy: 0.1567\n",
      "Epoch 36/200\n",
      "15/15 [==============================] - 0s 3ms/step - loss: 3.7941 - accuracy: 0.1656\n",
      "Epoch 37/200\n",
      "15/15 [==============================] - 0s 3ms/step - loss: 3.7535 - accuracy: 0.1766\n",
      "Epoch 38/200\n",
      "15/15 [==============================] - 0s 3ms/step - loss: 3.7128 - accuracy: 0.1876\n",
      "Epoch 39/200\n",
      "15/15 [==============================] - 0s 3ms/step - loss: 3.6747 - accuracy: 0.1965\n",
      "Epoch 40/200\n",
      "15/15 [==============================] - 0s 3ms/step - loss: 3.6429 - accuracy: 0.1965\n",
      "Epoch 41/200\n",
      "15/15 [==============================] - 0s 3ms/step - loss: 3.6148 - accuracy: 0.2075\n",
      "Epoch 42/200\n",
      "15/15 [==============================] - 0s 3ms/step - loss: 3.5833 - accuracy: 0.2185\n",
      "Epoch 43/200\n",
      "15/15 [==============================] - 0s 3ms/step - loss: 3.5346 - accuracy: 0.2296\n",
      "Epoch 44/200\n",
      "15/15 [==============================] - 0s 3ms/step - loss: 3.4926 - accuracy: 0.2605\n",
      "Epoch 45/200\n",
      "15/15 [==============================] - 0s 3ms/step - loss: 3.4520 - accuracy: 0.2715\n",
      "Epoch 46/200\n",
      "15/15 [==============================] - 0s 3ms/step - loss: 3.4215 - accuracy: 0.2715\n",
      "Epoch 47/200\n",
      "15/15 [==============================] - 0s 3ms/step - loss: 3.3837 - accuracy: 0.2870\n",
      "Epoch 48/200\n",
      "15/15 [==============================] - 0s 3ms/step - loss: 3.3447 - accuracy: 0.2958\n",
      "Epoch 49/200\n",
      "15/15 [==============================] - 0s 3ms/step - loss: 3.3182 - accuracy: 0.3046\n",
      "Epoch 50/200\n",
      "15/15 [==============================] - 0s 3ms/step - loss: 3.2864 - accuracy: 0.3157\n",
      "Epoch 51/200\n",
      "15/15 [==============================] - 0s 3ms/step - loss: 3.2658 - accuracy: 0.3135\n",
      "Epoch 52/200\n",
      "15/15 [==============================] - 0s 3ms/step - loss: 3.2225 - accuracy: 0.3223\n",
      "Epoch 53/200\n",
      "15/15 [==============================] - 0s 3ms/step - loss: 3.1882 - accuracy: 0.3157\n",
      "Epoch 54/200\n",
      "15/15 [==============================] - 0s 3ms/step - loss: 3.1476 - accuracy: 0.3466\n",
      "Epoch 55/200\n",
      "15/15 [==============================] - 0s 3ms/step - loss: 3.1230 - accuracy: 0.3400\n",
      "Epoch 56/200\n",
      "15/15 [==============================] - 0s 3ms/step - loss: 3.1103 - accuracy: 0.3466\n",
      "Epoch 57/200\n",
      "15/15 [==============================] - 0s 3ms/step - loss: 3.0673 - accuracy: 0.3576\n",
      "Epoch 58/200\n",
      "15/15 [==============================] - 0s 3ms/step - loss: 3.0449 - accuracy: 0.3841\n",
      "Epoch 59/200\n",
      "15/15 [==============================] - 0s 3ms/step - loss: 2.9868 - accuracy: 0.3731\n",
      "Epoch 60/200\n",
      "15/15 [==============================] - 0s 3ms/step - loss: 2.9466 - accuracy: 0.3951\n",
      "Epoch 61/200\n",
      "15/15 [==============================] - 0s 3ms/step - loss: 2.9114 - accuracy: 0.3885\n",
      "Epoch 62/200\n",
      "15/15 [==============================] - 0s 3ms/step - loss: 2.8802 - accuracy: 0.4084\n",
      "Epoch 63/200\n",
      "15/15 [==============================] - 0s 3ms/step - loss: 2.8362 - accuracy: 0.4128\n",
      "Epoch 64/200\n",
      "15/15 [==============================] - 0s 3ms/step - loss: 2.8031 - accuracy: 0.4260\n",
      "Epoch 65/200\n",
      "15/15 [==============================] - 0s 3ms/step - loss: 2.7689 - accuracy: 0.4305\n",
      "Epoch 66/200\n",
      "15/15 [==============================] - 0s 3ms/step - loss: 2.7464 - accuracy: 0.4305\n",
      "Epoch 67/200\n",
      "15/15 [==============================] - 0s 3ms/step - loss: 2.7210 - accuracy: 0.4349\n",
      "Epoch 68/200\n",
      "15/15 [==============================] - 0s 3ms/step - loss: 2.6804 - accuracy: 0.4614\n",
      "Epoch 69/200\n",
      "15/15 [==============================] - 0s 3ms/step - loss: 2.6504 - accuracy: 0.4702\n",
      "Epoch 70/200\n",
      "15/15 [==============================] - 0s 3ms/step - loss: 2.6236 - accuracy: 0.4658\n",
      "Epoch 71/200\n",
      "15/15 [==============================] - 0s 3ms/step - loss: 2.5930 - accuracy: 0.4790\n",
      "Epoch 72/200\n",
      "15/15 [==============================] - 0s 3ms/step - loss: 2.5849 - accuracy: 0.4834\n",
      "Epoch 73/200\n",
      "15/15 [==============================] - 0s 3ms/step - loss: 2.5334 - accuracy: 0.5077\n",
      "Epoch 74/200\n",
      "15/15 [==============================] - 0s 3ms/step - loss: 2.5094 - accuracy: 0.5166\n",
      "Epoch 75/200\n",
      "15/15 [==============================] - 0s 3ms/step - loss: 2.4677 - accuracy: 0.5298\n",
      "Epoch 76/200\n",
      "15/15 [==============================] - 0s 3ms/step - loss: 2.4437 - accuracy: 0.5430\n",
      "Epoch 77/200\n",
      "15/15 [==============================] - 0s 3ms/step - loss: 2.4277 - accuracy: 0.5497\n",
      "Epoch 78/200\n",
      "15/15 [==============================] - 0s 3ms/step - loss: 2.3918 - accuracy: 0.5453\n",
      "Epoch 79/200\n",
      "15/15 [==============================] - 0s 3ms/step - loss: 2.3584 - accuracy: 0.5717\n",
      "Epoch 80/200\n",
      "15/15 [==============================] - 0s 3ms/step - loss: 2.3308 - accuracy: 0.5717\n",
      "Epoch 81/200\n",
      "15/15 [==============================] - 0s 3ms/step - loss: 2.3351 - accuracy: 0.5585\n",
      "Epoch 82/200\n",
      "15/15 [==============================] - 0s 3ms/step - loss: 2.3074 - accuracy: 0.5695\n",
      "Epoch 83/200\n",
      "15/15 [==============================] - 0s 3ms/step - loss: 2.2636 - accuracy: 0.5872\n",
      "Epoch 84/200\n",
      "15/15 [==============================] - 0s 3ms/step - loss: 2.2265 - accuracy: 0.5960\n",
      "Epoch 85/200\n",
      "15/15 [==============================] - 0s 3ms/step - loss: 2.1980 - accuracy: 0.6115\n",
      "Epoch 86/200\n",
      "15/15 [==============================] - 0s 3ms/step - loss: 2.1587 - accuracy: 0.6093\n",
      "Epoch 87/200\n",
      "15/15 [==============================] - 0s 3ms/step - loss: 2.1398 - accuracy: 0.6225\n",
      "Epoch 88/200\n",
      "15/15 [==============================] - 0s 3ms/step - loss: 2.1223 - accuracy: 0.6225\n",
      "Epoch 89/200\n",
      "15/15 [==============================] - 0s 3ms/step - loss: 2.0862 - accuracy: 0.6358\n",
      "Epoch 90/200\n",
      "15/15 [==============================] - 0s 3ms/step - loss: 2.0642 - accuracy: 0.6358\n",
      "Epoch 91/200\n",
      "15/15 [==============================] - 0s 3ms/step - loss: 2.0331 - accuracy: 0.6667\n",
      "Epoch 92/200\n",
      "15/15 [==============================] - 0s 3ms/step - loss: 2.0046 - accuracy: 0.6689\n",
      "Epoch 93/200\n",
      "15/15 [==============================] - 0s 3ms/step - loss: 1.9700 - accuracy: 0.6865\n",
      "Epoch 94/200\n",
      "15/15 [==============================] - 0s 3ms/step - loss: 1.9497 - accuracy: 0.6821\n",
      "Epoch 95/200\n",
      "15/15 [==============================] - 0s 3ms/step - loss: 1.9324 - accuracy: 0.6887\n",
      "Epoch 96/200\n",
      "15/15 [==============================] - 0s 3ms/step - loss: 1.9091 - accuracy: 0.6909\n",
      "Epoch 97/200\n",
      "15/15 [==============================] - 0s 3ms/step - loss: 1.8783 - accuracy: 0.7042\n",
      "Epoch 98/200\n",
      "15/15 [==============================] - 0s 3ms/step - loss: 1.8561 - accuracy: 0.7020\n",
      "Epoch 99/200\n",
      "15/15 [==============================] - 0s 3ms/step - loss: 1.8307 - accuracy: 0.7130\n",
      "Epoch 100/200\n",
      "15/15 [==============================] - 0s 3ms/step - loss: 1.8121 - accuracy: 0.7152\n",
      "Epoch 101/200\n",
      "15/15 [==============================] - 0s 3ms/step - loss: 1.7903 - accuracy: 0.7219\n",
      "Epoch 102/200\n",
      "15/15 [==============================] - 0s 3ms/step - loss: 1.7660 - accuracy: 0.7152\n",
      "Epoch 103/200\n",
      "15/15 [==============================] - 0s 3ms/step - loss: 1.7451 - accuracy: 0.7219\n",
      "Epoch 104/200\n",
      "15/15 [==============================] - 0s 3ms/step - loss: 1.7273 - accuracy: 0.7219\n",
      "Epoch 105/200\n",
      "15/15 [==============================] - 0s 3ms/step - loss: 1.7060 - accuracy: 0.7285\n",
      "Epoch 106/200\n",
      "15/15 [==============================] - 0s 3ms/step - loss: 1.6813 - accuracy: 0.7373\n",
      "Epoch 107/200\n",
      "15/15 [==============================] - 0s 3ms/step - loss: 1.6591 - accuracy: 0.7351\n",
      "Epoch 108/200\n",
      "15/15 [==============================] - 0s 3ms/step - loss: 1.6391 - accuracy: 0.7417\n",
      "Epoch 109/200\n",
      "15/15 [==============================] - 0s 3ms/step - loss: 1.6165 - accuracy: 0.7395\n",
      "Epoch 110/200\n",
      "15/15 [==============================] - 0s 3ms/step - loss: 1.5991 - accuracy: 0.7594\n",
      "Epoch 111/200\n",
      "15/15 [==============================] - 0s 3ms/step - loss: 1.5795 - accuracy: 0.7616\n",
      "Epoch 112/200\n",
      "15/15 [==============================] - 0s 3ms/step - loss: 1.5609 - accuracy: 0.7616\n",
      "Epoch 113/200\n",
      "15/15 [==============================] - 0s 3ms/step - loss: 1.5431 - accuracy: 0.7726\n",
      "Epoch 114/200\n",
      "15/15 [==============================] - 0s 3ms/step - loss: 1.5355 - accuracy: 0.7682\n",
      "Epoch 115/200\n",
      "15/15 [==============================] - 0s 3ms/step - loss: 1.5206 - accuracy: 0.7748\n",
      "Epoch 116/200\n",
      "15/15 [==============================] - 0s 3ms/step - loss: 1.5051 - accuracy: 0.7770\n",
      "Epoch 117/200\n",
      "15/15 [==============================] - 0s 3ms/step - loss: 1.4777 - accuracy: 0.7770\n",
      "Epoch 118/200\n",
      "15/15 [==============================] - 0s 4ms/step - loss: 1.4619 - accuracy: 0.7726\n",
      "Epoch 119/200\n",
      "15/15 [==============================] - 0s 3ms/step - loss: 1.4501 - accuracy: 0.7903\n",
      "Epoch 120/200\n",
      "15/15 [==============================] - 0s 3ms/step - loss: 1.4510 - accuracy: 0.7792\n",
      "Epoch 121/200\n",
      "15/15 [==============================] - 0s 3ms/step - loss: 1.4771 - accuracy: 0.7638\n",
      "Epoch 122/200\n",
      "15/15 [==============================] - 0s 3ms/step - loss: 1.4496 - accuracy: 0.7748\n",
      "Epoch 123/200\n",
      "15/15 [==============================] - 0s 3ms/step - loss: 1.4218 - accuracy: 0.7792\n",
      "Epoch 124/200\n",
      "15/15 [==============================] - 0s 3ms/step - loss: 1.3819 - accuracy: 0.8079\n",
      "Epoch 125/200\n",
      "15/15 [==============================] - 0s 3ms/step - loss: 1.3615 - accuracy: 0.8013\n",
      "Epoch 126/200\n",
      "15/15 [==============================] - 0s 3ms/step - loss: 1.3395 - accuracy: 0.8035\n",
      "Epoch 127/200\n",
      "15/15 [==============================] - 0s 3ms/step - loss: 1.3586 - accuracy: 0.7947\n",
      "Epoch 128/200\n",
      "15/15 [==============================] - 0s 3ms/step - loss: 1.3803 - accuracy: 0.8013\n",
      "Epoch 129/200\n",
      "15/15 [==============================] - 0s 4ms/step - loss: 1.3394 - accuracy: 0.8124\n",
      "Epoch 130/200\n",
      "15/15 [==============================] - 0s 3ms/step - loss: 1.2955 - accuracy: 0.8212\n",
      "Epoch 131/200\n",
      "15/15 [==============================] - 0s 3ms/step - loss: 1.2569 - accuracy: 0.8366\n",
      "Epoch 132/200\n",
      "15/15 [==============================] - 0s 3ms/step - loss: 1.2450 - accuracy: 0.8300\n",
      "Epoch 133/200\n",
      "15/15 [==============================] - 0s 3ms/step - loss: 1.2308 - accuracy: 0.8433\n",
      "Epoch 134/200\n",
      "15/15 [==============================] - 0s 3ms/step - loss: 1.2093 - accuracy: 0.8411\n",
      "Epoch 135/200\n",
      "15/15 [==============================] - 0s 3ms/step - loss: 1.2018 - accuracy: 0.8344\n",
      "Epoch 136/200\n",
      "15/15 [==============================] - 0s 3ms/step - loss: 1.1794 - accuracy: 0.8411\n",
      "Epoch 137/200\n",
      "15/15 [==============================] - 0s 3ms/step - loss: 1.1623 - accuracy: 0.8411\n",
      "Epoch 138/200\n",
      "15/15 [==============================] - 0s 3ms/step - loss: 1.1471 - accuracy: 0.8366\n",
      "Epoch 139/200\n",
      "15/15 [==============================] - 0s 3ms/step - loss: 1.1326 - accuracy: 0.8389\n",
      "Epoch 140/200\n",
      "15/15 [==============================] - 0s 3ms/step - loss: 1.1228 - accuracy: 0.8433\n",
      "Epoch 141/200\n",
      "15/15 [==============================] - 0s 3ms/step - loss: 1.1061 - accuracy: 0.8675\n",
      "Epoch 142/200\n",
      "15/15 [==============================] - 0s 3ms/step - loss: 1.0937 - accuracy: 0.8720\n",
      "Epoch 143/200\n",
      "15/15 [==============================] - 0s 3ms/step - loss: 1.0799 - accuracy: 0.8675\n",
      "Epoch 144/200\n",
      "15/15 [==============================] - 0s 3ms/step - loss: 1.0651 - accuracy: 0.8720\n",
      "Epoch 145/200\n",
      "15/15 [==============================] - 0s 3ms/step - loss: 1.0560 - accuracy: 0.8720\n",
      "Epoch 146/200\n",
      "15/15 [==============================] - 0s 3ms/step - loss: 1.0435 - accuracy: 0.8742\n",
      "Epoch 147/200\n",
      "15/15 [==============================] - 0s 3ms/step - loss: 1.0366 - accuracy: 0.8720\n",
      "Epoch 148/200\n",
      "15/15 [==============================] - 0s 3ms/step - loss: 1.0453 - accuracy: 0.8609\n",
      "Epoch 149/200\n",
      "15/15 [==============================] - 0s 3ms/step - loss: 1.0370 - accuracy: 0.8631\n",
      "Epoch 150/200\n",
      "15/15 [==============================] - 0s 3ms/step - loss: 1.0042 - accuracy: 0.8675\n",
      "Epoch 151/200\n",
      "15/15 [==============================] - 0s 3ms/step - loss: 0.9875 - accuracy: 0.8720\n",
      "Epoch 152/200\n",
      "15/15 [==============================] - 0s 3ms/step - loss: 0.9737 - accuracy: 0.8742\n",
      "Epoch 153/200\n",
      "15/15 [==============================] - 0s 3ms/step - loss: 0.9633 - accuracy: 0.8896\n",
      "Epoch 154/200\n",
      "15/15 [==============================] - 0s 3ms/step - loss: 0.9513 - accuracy: 0.8874\n",
      "Epoch 155/200\n",
      "15/15 [==============================] - 0s 3ms/step - loss: 0.9398 - accuracy: 0.8852\n",
      "Epoch 156/200\n",
      "15/15 [==============================] - 0s 3ms/step - loss: 0.9330 - accuracy: 0.8874\n",
      "Epoch 157/200\n",
      "15/15 [==============================] - 0s 3ms/step - loss: 0.9236 - accuracy: 0.8896\n",
      "Epoch 158/200\n",
      "15/15 [==============================] - 0s 3ms/step - loss: 0.9122 - accuracy: 0.8896\n",
      "Epoch 159/200\n",
      "15/15 [==============================] - 0s 3ms/step - loss: 0.9043 - accuracy: 0.8918\n",
      "Epoch 160/200\n",
      "15/15 [==============================] - 0s 3ms/step - loss: 0.8923 - accuracy: 0.8918\n",
      "Epoch 161/200\n",
      "15/15 [==============================] - 0s 3ms/step - loss: 0.8816 - accuracy: 0.8962\n",
      "Epoch 162/200\n",
      "15/15 [==============================] - 0s 3ms/step - loss: 0.8752 - accuracy: 0.8896\n",
      "Epoch 163/200\n",
      "15/15 [==============================] - 0s 3ms/step - loss: 0.8756 - accuracy: 0.8940\n",
      "Epoch 164/200\n",
      "15/15 [==============================] - 0s 3ms/step - loss: 0.8632 - accuracy: 0.8896\n",
      "Epoch 165/200\n",
      "15/15 [==============================] - 0s 3ms/step - loss: 0.8599 - accuracy: 0.8940\n",
      "Epoch 166/200\n",
      "15/15 [==============================] - 0s 3ms/step - loss: 0.8534 - accuracy: 0.8985\n",
      "Epoch 167/200\n",
      "15/15 [==============================] - 0s 3ms/step - loss: 0.8429 - accuracy: 0.8962\n",
      "Epoch 168/200\n",
      "15/15 [==============================] - 0s 3ms/step - loss: 0.8463 - accuracy: 0.8962\n",
      "Epoch 169/200\n",
      "15/15 [==============================] - 0s 3ms/step - loss: 0.8305 - accuracy: 0.9029\n",
      "Epoch 170/200\n",
      "15/15 [==============================] - 0s 3ms/step - loss: 0.8288 - accuracy: 0.8896\n",
      "Epoch 171/200\n",
      "15/15 [==============================] - 0s 3ms/step - loss: 0.8136 - accuracy: 0.8940\n",
      "Epoch 172/200\n",
      "15/15 [==============================] - 0s 3ms/step - loss: 0.8000 - accuracy: 0.9007\n",
      "Epoch 173/200\n",
      "15/15 [==============================] - 0s 3ms/step - loss: 0.7791 - accuracy: 0.9117\n",
      "Epoch 174/200\n",
      "15/15 [==============================] - 0s 3ms/step - loss: 0.7634 - accuracy: 0.9161\n",
      "Epoch 175/200\n",
      "15/15 [==============================] - 0s 3ms/step - loss: 0.7541 - accuracy: 0.9117\n",
      "Epoch 176/200\n",
      "15/15 [==============================] - 0s 3ms/step - loss: 0.7443 - accuracy: 0.9139\n",
      "Epoch 177/200\n",
      "15/15 [==============================] - 0s 3ms/step - loss: 0.7358 - accuracy: 0.9161\n",
      "Epoch 178/200\n",
      "15/15 [==============================] - 0s 3ms/step - loss: 0.7274 - accuracy: 0.9139\n",
      "Epoch 179/200\n",
      "15/15 [==============================] - 0s 3ms/step - loss: 0.7210 - accuracy: 0.9227\n",
      "Epoch 180/200\n",
      "15/15 [==============================] - 0s 3ms/step - loss: 0.7113 - accuracy: 0.9227\n",
      "Epoch 181/200\n",
      "15/15 [==============================] - 0s 3ms/step - loss: 0.7071 - accuracy: 0.9205\n",
      "Epoch 182/200\n",
      "15/15 [==============================] - 0s 3ms/step - loss: 0.6970 - accuracy: 0.9227\n",
      "Epoch 183/200\n",
      "15/15 [==============================] - 0s 3ms/step - loss: 0.6940 - accuracy: 0.9272\n",
      "Epoch 184/200\n",
      "15/15 [==============================] - 0s 3ms/step - loss: 0.6836 - accuracy: 0.9227\n",
      "Epoch 185/200\n",
      "15/15 [==============================] - 0s 3ms/step - loss: 0.6808 - accuracy: 0.9272\n",
      "Epoch 186/200\n",
      "15/15 [==============================] - 0s 3ms/step - loss: 0.6758 - accuracy: 0.9294\n",
      "Epoch 187/200\n",
      "15/15 [==============================] - 0s 3ms/step - loss: 0.6675 - accuracy: 0.9272\n",
      "Epoch 188/200\n",
      "15/15 [==============================] - 0s 3ms/step - loss: 0.6636 - accuracy: 0.9360\n",
      "Epoch 189/200\n",
      "15/15 [==============================] - 0s 3ms/step - loss: 0.6520 - accuracy: 0.9294\n",
      "Epoch 190/200\n",
      "15/15 [==============================] - 0s 3ms/step - loss: 0.6460 - accuracy: 0.9338\n",
      "Epoch 191/200\n",
      "15/15 [==============================] - 0s 3ms/step - loss: 0.6399 - accuracy: 0.9316\n",
      "Epoch 192/200\n",
      "15/15 [==============================] - 0s 3ms/step - loss: 0.6321 - accuracy: 0.9316\n",
      "Epoch 193/200\n",
      "15/15 [==============================] - 0s 3ms/step - loss: 0.6255 - accuracy: 0.9316\n",
      "Epoch 194/200\n",
      "15/15 [==============================] - 0s 3ms/step - loss: 0.6162 - accuracy: 0.9338\n",
      "Epoch 195/200\n",
      "15/15 [==============================] - 0s 3ms/step - loss: 0.6076 - accuracy: 0.9338\n",
      "Epoch 196/200\n",
      "15/15 [==============================] - 0s 3ms/step - loss: 0.6014 - accuracy: 0.9338\n",
      "Epoch 197/200\n",
      "15/15 [==============================] - 0s 3ms/step - loss: 0.5958 - accuracy: 0.9382\n",
      "Epoch 198/200\n",
      "15/15 [==============================] - 0s 3ms/step - loss: 0.5885 - accuracy: 0.9360\n",
      "Epoch 199/200\n",
      "15/15 [==============================] - 0s 3ms/step - loss: 0.5823 - accuracy: 0.9360\n",
      "Epoch 200/200\n",
      "15/15 [==============================] - 0s 3ms/step - loss: 0.5765 - accuracy: 0.9338\n"
     ]
    }
   ],
   "source": [
    "# Train the model\n",
    "history = model.fit(xs, ys, epochs=200)"
   ]
  },
  {
   "cell_type": "markdown",
   "metadata": {
    "id": "hRwgZjJxDTqh"
   },
   "source": [
    "You can visualize the results with the utility below. With the default settings, you should see around 95% accuracy after 500 epochs."
   ]
  },
  {
   "cell_type": "code",
   "execution_count": 11,
   "metadata": {
    "id": "3YXGelKThoTT"
   },
   "outputs": [
    {
     "data": {
      "image/png": "[encoded data removed]",
      "text/plain": [
       "<Figure size 640x480 with 1 Axes>"
      ]
     },
     "metadata": {},
     "output_type": "display_data"
    }
   ],
   "source": [
    "import matplotlib.pyplot as plt\n",
    "\n",
    "# Plot utility\n",
    "def plot_graphs(history, string):\n",
    "  plt.plot(history.history[string])\n",
    "  plt.xlabel(\"Epochs\")\n",
    "  plt.ylabel(string)\n",
    "  plt.show()\n",
    "\n",
    "# Visualize the accuracy\n",
    "plot_graphs(history, 'accuracy')"
   ]
  },
  {
   "cell_type": "markdown",
   "metadata": {
    "id": "NUmA472NDn_v"
   },
   "source": [
    "## Generating Text\n",
    "\n",
    "With the model trained, you can now use it to make its own song! The process would look like:\n",
    "\n",
    "1. Feed a seed text to initiate the process.\n",
    "2. Model predicts the index of the most probable next word.\n",
    "3. Look up the index in the reverse word index dictionary\n",
    "4. Append the next word to the seed text.\n",
    "5. Feed the result to the model again.\n",
    "\n",
    "Steps 2 to 5 will repeat until the desired length of the song is reached. See how it is implemented in the code below:"
   ]
  },
  {
   "cell_type": "code",
   "execution_count": 12,
   "metadata": {
    "id": "6Vc6PHgxa6Hm"
   },
   "outputs": [
    {
     "name": "stdout",
     "output_type": "stream",
     "text": [
      "1/1 [==============================] - 0s 476ms/step\n",
      "1/1 [==============================] - 0s 9ms/step\n",
      "1/1 [==============================] - 0s 9ms/step\n",
      "1/1 [==============================] - 0s 10ms/step\n",
      "1/1 [==============================] - 0s 10ms/step\n",
      "1/1 [==============================] - 0s 9ms/step\n",
      "1/1 [==============================] - 0s 9ms/step\n",
      "1/1 [==============================] - 0s 9ms/step\n",
      "1/1 [==============================] - 0s 9ms/step\n",
      "1/1 [==============================] - 0s 9ms/step\n",
      "1/1 [==============================] - 0s 9ms/step\n",
      "1/1 [==============================] - 0s 9ms/step\n",
      "1/1 [==============================] - 0s 9ms/step\n",
      "1/1 [==============================] - 0s 9ms/step\n",
      "1/1 [==============================] - 0s 9ms/step\n",
      "1/1 [==============================] - 0s 9ms/step\n",
      "1/1 [==============================] - 0s 9ms/step\n",
      "1/1 [==============================] - 0s 9ms/step\n",
      "1/1 [==============================] - 0s 9ms/step\n",
      "1/1 [==============================] - 0s 9ms/step\n",
      "1/1 [==============================] - 0s 9ms/step\n",
      "1/1 [==============================] - 0s 9ms/step\n",
      "1/1 [==============================] - 0s 9ms/step\n",
      "1/1 [==============================] - 0s 10ms/step\n",
      "1/1 [==============================] - 0s 9ms/step\n",
      "1/1 [==============================] - 0s 9ms/step\n",
      "1/1 [==============================] - 0s 9ms/step\n",
      "1/1 [==============================] - 0s 9ms/step\n",
      "1/1 [==============================] - 0s 9ms/step\n",
      "1/1 [==============================] - 0s 9ms/step\n",
      "1/1 [==============================] - 0s 9ms/step\n",
      "1/1 [==============================] - 0s 9ms/step\n",
      "1/1 [==============================] - 0s 9ms/step\n",
      "1/1 [==============================] - 0s 9ms/step\n",
      "1/1 [==============================] - 0s 9ms/step\n",
      "1/1 [==============================] - 0s 9ms/step\n",
      "1/1 [==============================] - 0s 9ms/step\n",
      "1/1 [==============================] - 0s 9ms/step\n",
      "1/1 [==============================] - 0s 9ms/step\n",
      "1/1 [==============================] - 0s 9ms/step\n",
      "1/1 [==============================] - 0s 9ms/step\n",
      "1/1 [==============================] - 0s 9ms/step\n",
      "1/1 [==============================] - 0s 9ms/step\n",
      "1/1 [==============================] - 0s 9ms/step\n",
      "1/1 [==============================] - 0s 9ms/step\n",
      "1/1 [==============================] - 0s 9ms/step\n",
      "1/1 [==============================] - 0s 9ms/step\n",
      "1/1 [==============================] - 0s 9ms/step\n",
      "1/1 [==============================] - 0s 10ms/step\n",
      "1/1 [==============================] - 0s 9ms/step\n",
      "1/1 [==============================] - 0s 9ms/step\n",
      "1/1 [==============================] - 0s 9ms/step\n",
      "1/1 [==============================] - 0s 9ms/step\n",
      "1/1 [==============================] - 0s 10ms/step\n",
      "1/1 [==============================] - 0s 9ms/step\n",
      "1/1 [==============================] - 0s 9ms/step\n",
      "1/1 [==============================] - 0s 9ms/step\n",
      "1/1 [==============================] - 0s 9ms/step\n",
      "1/1 [==============================] - 0s 9ms/step\n",
      "1/1 [==============================] - 0s 9ms/step\n",
      "1/1 [==============================] - 0s 9ms/step\n",
      "1/1 [==============================] - 0s 9ms/step\n",
      "1/1 [==============================] - 0s 9ms/step\n",
      "1/1 [==============================] - 0s 9ms/step\n",
      "1/1 [==============================] - 0s 9ms/step\n",
      "1/1 [==============================] - 0s 9ms/step\n",
      "1/1 [==============================] - 0s 9ms/step\n",
      "1/1 [==============================] - 0s 9ms/step\n",
      "1/1 [==============================] - 0s 9ms/step\n",
      "1/1 [==============================] - 0s 9ms/step\n",
      "1/1 [==============================] - 0s 9ms/step\n",
      "1/1 [==============================] - 0s 9ms/step\n",
      "1/1 [==============================] - 0s 9ms/step\n",
      "1/1 [==============================] - 0s 9ms/step\n",
      "1/1 [==============================] - 0s 9ms/step\n",
      "1/1 [==============================] - 0s 9ms/step\n",
      "1/1 [==============================] - 0s 9ms/step\n",
      "1/1 [==============================] - 0s 9ms/step\n",
      "1/1 [==============================] - 0s 9ms/step\n",
      "1/1 [==============================] - 0s 9ms/step\n",
      "1/1 [==============================] - 0s 9ms/step\n",
      "1/1 [==============================] - 0s 9ms/step\n",
      "1/1 [==============================] - 0s 9ms/step\n",
      "1/1 [==============================] - 0s 9ms/step\n",
      "1/1 [==============================] - 0s 9ms/step\n",
      "1/1 [==============================] - 0s 9ms/step\n",
      "1/1 [==============================] - 0s 9ms/step\n",
      "1/1 [==============================] - 0s 9ms/step\n",
      "1/1 [==============================] - 0s 9ms/step\n",
      "1/1 [==============================] - 0s 9ms/step\n",
      "1/1 [==============================] - 0s 9ms/step\n",
      "1/1 [==============================] - 0s 9ms/step\n",
      "1/1 [==============================] - 0s 9ms/step\n",
      "1/1 [==============================] - 0s 10ms/step\n",
      "1/1 [==============================] - 0s 10ms/step\n",
      "1/1 [==============================] - 0s 9ms/step\n",
      "1/1 [==============================] - 0s 9ms/step\n",
      "1/1 [==============================] - 0s 9ms/step\n",
      "1/1 [==============================] - 0s 9ms/step\n",
      "1/1 [==============================] - 0s 9ms/step\n",
      "Laurence went to Dublin round a cask cask party and relations relations relations relations relations away at me entangled lanigans ball ball relations relations relations relations relations relations away round ball got suppose swore relations relations relations relations relations relations me relations lanigans ball ball ball relations relations relations relations relations away round ball relations relations relations relations relations relations relations relations relations relations relations relations relations relations relations relations relations relations relations relations relations relations relations relations relations relations relations relations relations relations relations relations relations relations relations relations relations relations relations relations relations relations relations relations relations relations relations relations relations relations\n"
     ]
    }
   ],
   "source": [
    "# Define seed text\n",
    "seed_text = \"Laurence went to Dublin\"\n",
    "\n",
    "# Define total words to predict\n",
    "next_words = 100\n",
    "\n",
    "# Loop until desired length is reached\n",
    "for _ in range(next_words):\n",
    "\n",
    "\t# Convert the seed text to a token sequence\n",
    "\ttoken_list = tokenizer.texts_to_sequences([seed_text])[0]\n",
    "\n",
    "\t# Pad the sequence\n",
    "\ttoken_list = pad_sequences([token_list], maxlen=max_sequence_len-1, padding='pre')\n",
    "\t\n",
    "\t# Feed to the model and get the probabilities for each index\n",
    "\tprobabilities = model.predict(token_list)\n",
    "\n",
    "\t# Get the index with the highest probability\n",
    "\tpredicted = np.argmax(probabilities, axis=-1)[0]\n",
    "\n",
    "\t# Ignore if index is 0 because that is just the padding.\n",
    "\tif predicted != 0:\n",
    "\t\t\n",
    "\t\t# Look up the word associated with the index. \n",
    "\t\toutput_word = tokenizer.index_word[predicted]\n",
    "\n",
    "\t\t# Combine with the seed text\n",
    "\t\tseed_text += \" \" + output_word\n",
    "\n",
    "# Print the result\t\n",
    "print(seed_text)"
   ]
  },
  {
   "cell_type": "markdown",
   "metadata": {
    "id": "HU7eZOKiFydr"
   },
   "source": [
    "In the output above, you might notice frequent repetition of words the longer the sentence gets. There are ways to get around it and the next cell shows one. Basically, instead of getting the index with max probability, you will get the top three indices and choose one at random. See if the output text makes more sense with this approach. This is not the most time efficient solution because it is always sorting the entire array even if you only need the top three. Feel free to improve it and of course, you can also develop your own method of picking the next word."
   ]
  },
  {
   "cell_type": "code",
   "execution_count": 13,
   "metadata": {
    "id": "JZqJKIpgkiYt"
   },
   "outputs": [
    {
     "name": "stdout",
     "output_type": "stream",
     "text": [
      "1/1 [==============================] - 0s 9ms/step\n",
      "1/1 [==============================] - 0s 9ms/step\n",
      "1/1 [==============================] - 0s 9ms/step\n",
      "1/1 [==============================] - 0s 9ms/step\n",
      "1/1 [==============================] - 0s 9ms/step\n",
      "1/1 [==============================] - 0s 9ms/step\n",
      "1/1 [==============================] - 0s 9ms/step\n",
      "1/1 [==============================] - 0s 9ms/step\n",
      "1/1 [==============================] - 0s 9ms/step\n",
      "1/1 [==============================] - 0s 10ms/step\n",
      "1/1 [==============================] - 0s 9ms/step\n",
      "1/1 [==============================] - 0s 9ms/step\n",
      "1/1 [==============================] - 0s 9ms/step\n",
      "1/1 [==============================] - 0s 9ms/step\n",
      "1/1 [==============================] - 0s 9ms/step\n",
      "1/1 [==============================] - 0s 9ms/step\n",
      "1/1 [==============================] - 0s 9ms/step\n",
      "1/1 [==============================] - 0s 9ms/step\n",
      "1/1 [==============================] - 0s 9ms/step\n",
      "1/1 [==============================] - 0s 9ms/step\n",
      "1/1 [==============================] - 0s 9ms/step\n",
      "1/1 [==============================] - 0s 9ms/step\n",
      "1/1 [==============================] - 0s 9ms/step\n",
      "1/1 [==============================] - 0s 9ms/step\n",
      "1/1 [==============================] - 0s 9ms/step\n",
      "1/1 [==============================] - 0s 9ms/step\n",
      "1/1 [==============================] - 0s 9ms/step\n",
      "1/1 [==============================] - 0s 9ms/step\n",
      "1/1 [==============================] - 0s 9ms/step\n",
      "1/1 [==============================] - 0s 9ms/step\n",
      "1/1 [==============================] - 0s 9ms/step\n",
      "1/1 [==============================] - 0s 9ms/step\n",
      "1/1 [==============================] - 0s 9ms/step\n",
      "1/1 [==============================] - 0s 9ms/step\n",
      "1/1 [==============================] - 0s 9ms/step\n",
      "1/1 [==============================] - 0s 9ms/step\n",
      "1/1 [==============================] - 0s 9ms/step\n",
      "1/1 [==============================] - 0s 9ms/step\n",
      "1/1 [==============================] - 0s 9ms/step\n",
      "1/1 [==============================] - 0s 9ms/step\n",
      "1/1 [==============================] - 0s 9ms/step\n",
      "1/1 [==============================] - 0s 9ms/step\n",
      "1/1 [==============================] - 0s 9ms/step\n",
      "1/1 [==============================] - 0s 9ms/step\n",
      "1/1 [==============================] - 0s 9ms/step\n",
      "1/1 [==============================] - 0s 9ms/step\n",
      "1/1 [==============================] - 0s 9ms/step\n",
      "1/1 [==============================] - 0s 9ms/step\n",
      "1/1 [==============================] - 0s 9ms/step\n",
      "1/1 [==============================] - 0s 9ms/step\n",
      "1/1 [==============================] - 0s 9ms/step\n",
      "1/1 [==============================] - 0s 9ms/step\n",
      "1/1 [==============================] - 0s 9ms/step\n",
      "1/1 [==============================] - 0s 9ms/step\n",
      "1/1 [==============================] - 0s 10ms/step\n",
      "1/1 [==============================] - 0s 9ms/step\n",
      "1/1 [==============================] - 0s 9ms/step\n",
      "1/1 [==============================] - 0s 9ms/step\n",
      "1/1 [==============================] - 0s 9ms/step\n",
      "1/1 [==============================] - 0s 9ms/step\n",
      "1/1 [==============================] - 0s 9ms/step\n",
      "1/1 [==============================] - 0s 9ms/step\n",
      "1/1 [==============================] - 0s 9ms/step\n",
      "1/1 [==============================] - 0s 9ms/step\n",
      "1/1 [==============================] - 0s 9ms/step\n",
      "1/1 [==============================] - 0s 9ms/step\n",
      "1/1 [==============================] - 0s 9ms/step\n",
      "1/1 [==============================] - 0s 9ms/step\n",
      "1/1 [==============================] - 0s 9ms/step\n",
      "1/1 [==============================] - 0s 9ms/step\n",
      "1/1 [==============================] - 0s 10ms/step\n",
      "1/1 [==============================] - 0s 10ms/step\n",
      "1/1 [==============================] - 0s 9ms/step\n",
      "1/1 [==============================] - 0s 9ms/step\n",
      "1/1 [==============================] - 0s 9ms/step\n",
      "1/1 [==============================] - 0s 9ms/step\n",
      "1/1 [==============================] - 0s 9ms/step\n",
      "1/1 [==============================] - 0s 9ms/step\n",
      "1/1 [==============================] - 0s 9ms/step\n",
      "1/1 [==============================] - 0s 9ms/step\n",
      "1/1 [==============================] - 0s 9ms/step\n",
      "1/1 [==============================] - 0s 9ms/step\n",
      "1/1 [==============================] - 0s 9ms/step\n",
      "1/1 [==============================] - 0s 9ms/step\n",
      "1/1 [==============================] - 0s 9ms/step\n",
      "1/1 [==============================] - 0s 9ms/step\n",
      "1/1 [==============================] - 0s 9ms/step\n",
      "1/1 [==============================] - 0s 9ms/step\n",
      "1/1 [==============================] - 0s 9ms/step\n",
      "1/1 [==============================] - 0s 9ms/step\n",
      "1/1 [==============================] - 0s 9ms/step\n",
      "1/1 [==============================] - 0s 9ms/step\n",
      "1/1 [==============================] - 0s 9ms/step\n",
      "1/1 [==============================] - 0s 9ms/step\n",
      "1/1 [==============================] - 0s 9ms/step\n",
      "1/1 [==============================] - 0s 9ms/step\n",
      "1/1 [==============================] - 0s 9ms/step\n",
      "1/1 [==============================] - 0s 9ms/step\n",
      "1/1 [==============================] - 0s 9ms/step\n",
      "1/1 [==============================] - 0s 9ms/step\n",
      "Laurence went to Dublin got free no no mcgilligan phelim further eyes lanigan lanigan lanigan eyes lanigan ask twist ball relations got nonsensical relations eyes mccarthy groups water groups glisten boys them them boys boys all them all the might jig rose jig glisten might daughter glisten ask ask relations relations them relations all entangled them relations relations all ball ground relations relations a rose ask ask fainted got swore relations swore girls got relations swore me entangled relations relations me were glisten fainted relations and water fainted relations round they them of ground hearty suppose relations a rose call rose call eyes fainted\n"
     ]
    }
   ],
   "source": [
    "# Define seed text\n",
    "seed_text = \"Laurence went to Dublin\"\n",
    "\n",
    "# Define total words to predict\n",
    "next_words = 100\n",
    "\n",
    "# Loop until desired length is reached\n",
    "for _ in range(next_words):\n",
    "\n",
    "\t# Convert the seed text to a token sequence\n",
    "  token_list = tokenizer.texts_to_sequences([seed_text])[0]\n",
    "\n",
    "\t# Pad the sequence\n",
    "  token_list = pad_sequences([token_list], maxlen=max_sequence_len-1, padding='pre')\n",
    "\t\n",
    "\t# Feed to the model and get the probabilities for each index\n",
    "  probabilities = model.predict(token_list)\n",
    "\n",
    "  # Pick a random number from [1,2,3]\n",
    "  choice = np.random.choice([1,2,3])\n",
    "\t\n",
    "  # Sort the probabilities in ascending order \n",
    "  # and get the random choice from the end of the array\n",
    "  predicted = np.argsort(probabilities)[0][-choice]\n",
    "\n",
    "\t# Ignore if index is 0 because that is just the padding.\n",
    "  if predicted != 0:\n",
    "\t\t\n",
    "\t\t# Look up the word associated with the index. \n",
    "\t  output_word = tokenizer.index_word[predicted]\n",
    "\n",
    "\t\t# Combine with the seed text\n",
    "\t  seed_text += \" \" + output_word\n",
    "\n",
    "# Print the result\t\n",
    "print(seed_text)"
   ]
  },
  {
   "cell_type": "markdown",
   "metadata": {
    "id": "dXg6aEu5dKiV"
   },
   "source": [
    "## Wrap Up\n",
    "\n",
    "In this lab, you got a first look at preparing data and building a model for text generation. The corpus is fairly small in this particular exercise and in the next lessons, you will be building one from a larger body of text. See you there!"
   ]
  }
 ],
 "metadata": {
  "colab": {
   "collapsed_sections": [],
   "name": "C3_W4_Lab_1.ipynb",
   "private_outputs": true,
   "provenance": [],
   "toc_visible": true
  },
  "kernelspec": {
   "display_name": "Python 3 (ipykernel)",
   "language": "python",
   "name": "python3"
  },
  "language_info": {
   "codemirror_mode": {
    "name": "ipython",
    "version": 3
   },
   "file_extension": ".py",
   "mimetype": "text/x-python",
   "name": "python",
   "nbconvert_exporter": "python",
   "pygments_lexer": "ipython3",
   "version": "3.8.16"
  }
 },
 "nbformat": 4,
 "nbformat_minor": 4
}
