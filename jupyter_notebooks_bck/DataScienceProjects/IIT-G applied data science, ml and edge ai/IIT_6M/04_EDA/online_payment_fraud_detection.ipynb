{
 "cells": [
  {
   "cell_type": "code",
   "execution_count": 87,
   "id": "45a61d92-efed-42b1-be73-7df6f9a9ad38",
   "metadata": {},
   "outputs": [],
   "source": [
    "import pandas as pd\n",
    "import numpy as np\n",
    "import matplotlib.pyplot as plt \n",
    "import seaborn as sb "
   ]
  },
  {
   "cell_type": "code",
   "execution_count": 88,
   "id": "122e408d-564b-4460-be3f-ab9403b08b8c",
   "metadata": {},
   "outputs": [
    {
     "data": {
      "text/html": [
       "<div>\n",
       "<style scoped>\n",
       "    .dataframe tbody tr th:only-of-type {\n",
       "        vertical-align: middle;\n",
       "    }\n",
       "\n",
       "    .dataframe tbody tr th {\n",
       "        vertical-align: top;\n",
       "    }\n",
       "\n",
       "    .dataframe thead th {\n",
       "        text-align: right;\n",
       "    }\n",
       "</style>\n",
       "<table border=\"1\" class=\"dataframe\">\n",
       "  <thead>\n",
       "    <tr style=\"text-align: right;\">\n",
       "      <th></th>\n",
       "      <th>step</th>\n",
       "      <th>type</th>\n",
       "      <th>amount</th>\n",
       "      <th>nameOrig</th>\n",
       "      <th>oldbalanceOrg</th>\n",
       "      <th>newbalanceOrig</th>\n",
       "      <th>nameDest</th>\n",
       "      <th>oldbalanceDest</th>\n",
       "      <th>newbalanceDest</th>\n",
       "      <th>isFraud</th>\n",
       "      <th>isFlaggedFraud</th>\n",
       "    </tr>\n",
       "  </thead>\n",
       "  <tbody>\n",
       "    <tr>\n",
       "      <th>0</th>\n",
       "      <td>1</td>\n",
       "      <td>PAYMENT</td>\n",
       "      <td>9839.64</td>\n",
       "      <td>C1231006815</td>\n",
       "      <td>170136.0</td>\n",
       "      <td>160296.36</td>\n",
       "      <td>M1979787155</td>\n",
       "      <td>0.0</td>\n",
       "      <td>0.0</td>\n",
       "      <td>0</td>\n",
       "      <td>0</td>\n",
       "    </tr>\n",
       "    <tr>\n",
       "      <th>1</th>\n",
       "      <td>1</td>\n",
       "      <td>PAYMENT</td>\n",
       "      <td>1864.28</td>\n",
       "      <td>C1666544295</td>\n",
       "      <td>21249.0</td>\n",
       "      <td>19384.72</td>\n",
       "      <td>M2044282225</td>\n",
       "      <td>0.0</td>\n",
       "      <td>0.0</td>\n",
       "      <td>0</td>\n",
       "      <td>0</td>\n",
       "    </tr>\n",
       "    <tr>\n",
       "      <th>2</th>\n",
       "      <td>1</td>\n",
       "      <td>TRANSFER</td>\n",
       "      <td>181.00</td>\n",
       "      <td>C1305486145</td>\n",
       "      <td>181.0</td>\n",
       "      <td>0.00</td>\n",
       "      <td>C553264065</td>\n",
       "      <td>0.0</td>\n",
       "      <td>0.0</td>\n",
       "      <td>1</td>\n",
       "      <td>0</td>\n",
       "    </tr>\n",
       "    <tr>\n",
       "      <th>3</th>\n",
       "      <td>1</td>\n",
       "      <td>CASH_OUT</td>\n",
       "      <td>181.00</td>\n",
       "      <td>C840083671</td>\n",
       "      <td>181.0</td>\n",
       "      <td>0.00</td>\n",
       "      <td>C38997010</td>\n",
       "      <td>21182.0</td>\n",
       "      <td>0.0</td>\n",
       "      <td>1</td>\n",
       "      <td>0</td>\n",
       "    </tr>\n",
       "    <tr>\n",
       "      <th>4</th>\n",
       "      <td>1</td>\n",
       "      <td>PAYMENT</td>\n",
       "      <td>11668.14</td>\n",
       "      <td>C2048537720</td>\n",
       "      <td>41554.0</td>\n",
       "      <td>29885.86</td>\n",
       "      <td>M1230701703</td>\n",
       "      <td>0.0</td>\n",
       "      <td>0.0</td>\n",
       "      <td>0</td>\n",
       "      <td>0</td>\n",
       "    </tr>\n",
       "  </tbody>\n",
       "</table>\n",
       "</div>"
      ],
      "text/plain": [
       "   step      type    amount     nameOrig  oldbalanceOrg  newbalanceOrig  \\\n",
       "0     1   PAYMENT   9839.64  C1231006815       170136.0       160296.36   \n",
       "1     1   PAYMENT   1864.28  C1666544295        21249.0        19384.72   \n",
       "2     1  TRANSFER    181.00  C1305486145          181.0            0.00   \n",
       "3     1  CASH_OUT    181.00   C840083671          181.0            0.00   \n",
       "4     1   PAYMENT  11668.14  C2048537720        41554.0        29885.86   \n",
       "\n",
       "      nameDest  oldbalanceDest  newbalanceDest  isFraud  isFlaggedFraud  \n",
       "0  M1979787155             0.0             0.0        0               0  \n",
       "1  M2044282225             0.0             0.0        0               0  \n",
       "2   C553264065             0.0             0.0        1               0  \n",
       "3    C38997010         21182.0             0.0        1               0  \n",
       "4  M1230701703             0.0             0.0        0               0  "
      ]
     },
     "execution_count": 88,
     "metadata": {},
     "output_type": "execute_result"
    }
   ],
   "source": [
    "data = pd.read_csv('../onlinefraud.csv')\n",
    "data.head()"
   ]
  },
  {
   "cell_type": "code",
   "execution_count": 89,
   "id": "20111a83-da00-40c9-9bd7-1213edbbfa29",
   "metadata": {},
   "outputs": [
    {
     "name": "stdout",
     "output_type": "stream",
     "text": [
      "<class 'pandas.core.frame.DataFrame'>\n",
      "RangeIndex: 6362620 entries, 0 to 6362619\n",
      "Data columns (total 11 columns):\n",
      " #   Column          Dtype  \n",
      "---  ------          -----  \n",
      " 0   step            int64  \n",
      " 1   type            object \n",
      " 2   amount          float64\n",
      " 3   nameOrig        object \n",
      " 4   oldbalanceOrg   float64\n",
      " 5   newbalanceOrig  float64\n",
      " 6   nameDest        object \n",
      " 7   oldbalanceDest  float64\n",
      " 8   newbalanceDest  float64\n",
      " 9   isFraud         int64  \n",
      " 10  isFlaggedFraud  int64  \n",
      "dtypes: float64(5), int64(3), object(3)\n",
      "memory usage: 534.0+ MB\n"
     ]
    }
   ],
   "source": [
    "data.info()"
   ]
  },
  {
   "cell_type": "code",
   "execution_count": 90,
   "id": "99a8aff4-7933-42e5-954f-630309daf961",
   "metadata": {},
   "outputs": [
    {
     "data": {
      "text/plain": [
       "(6362620, 11)"
      ]
     },
     "execution_count": 90,
     "metadata": {},
     "output_type": "execute_result"
    }
   ],
   "source": [
    "data.shape"
   ]
  },
  {
   "cell_type": "code",
   "execution_count": 91,
   "id": "e9a437ea-6ce2-4e05-91d2-edb3b6ab0f75",
   "metadata": {},
   "outputs": [
    {
     "data": {
      "text/html": [
       "<div>\n",
       "<style scoped>\n",
       "    .dataframe tbody tr th:only-of-type {\n",
       "        vertical-align: middle;\n",
       "    }\n",
       "\n",
       "    .dataframe tbody tr th {\n",
       "        vertical-align: top;\n",
       "    }\n",
       "\n",
       "    .dataframe thead th {\n",
       "        text-align: right;\n",
       "    }\n",
       "</style>\n",
       "<table border=\"1\" class=\"dataframe\">\n",
       "  <thead>\n",
       "    <tr style=\"text-align: right;\">\n",
       "      <th></th>\n",
       "      <th>step</th>\n",
       "      <th>type</th>\n",
       "      <th>amount</th>\n",
       "      <th>nameOrig</th>\n",
       "      <th>oldbalanceOrg</th>\n",
       "      <th>newbalanceOrig</th>\n",
       "      <th>nameDest</th>\n",
       "      <th>oldbalanceDest</th>\n",
       "      <th>newbalanceDest</th>\n",
       "      <th>isFraud</th>\n",
       "      <th>isFlaggedFraud</th>\n",
       "    </tr>\n",
       "  </thead>\n",
       "  <tbody>\n",
       "    <tr>\n",
       "      <th>0</th>\n",
       "      <td>1</td>\n",
       "      <td>PAYMENT</td>\n",
       "      <td>9839.64</td>\n",
       "      <td>C1231006815</td>\n",
       "      <td>170136.0</td>\n",
       "      <td>160296.36</td>\n",
       "      <td>M1979787155</td>\n",
       "      <td>0.0</td>\n",
       "      <td>0.0</td>\n",
       "      <td>0</td>\n",
       "      <td>0</td>\n",
       "    </tr>\n",
       "  </tbody>\n",
       "</table>\n",
       "</div>"
      ],
      "text/plain": [
       "   step     type   amount     nameOrig  oldbalanceOrg  newbalanceOrig  \\\n",
       "0     1  PAYMENT  9839.64  C1231006815       170136.0       160296.36   \n",
       "\n",
       "      nameDest  oldbalanceDest  newbalanceDest  isFraud  isFlaggedFraud  \n",
       "0  M1979787155             0.0             0.0        0               0  "
      ]
     },
     "execution_count": 91,
     "metadata": {},
     "output_type": "execute_result"
    }
   ],
   "source": [
    "data.iloc[0:1]"
   ]
  },
  {
   "cell_type": "code",
   "execution_count": 92,
   "id": "5005be56-f1f8-474a-8341-437fffad9c93",
   "metadata": {},
   "outputs": [
    {
     "data": {
      "text/plain": [
       "step              0\n",
       "type              0\n",
       "amount            0\n",
       "nameOrig          0\n",
       "oldbalanceOrg     0\n",
       "newbalanceOrig    0\n",
       "nameDest          0\n",
       "oldbalanceDest    0\n",
       "newbalanceDest    0\n",
       "isFraud           0\n",
       "isFlaggedFraud    0\n",
       "dtype: int64"
      ]
     },
     "execution_count": 92,
     "metadata": {},
     "output_type": "execute_result"
    }
   ],
   "source": [
    "data.isna().sum()"
   ]
  },
  {
   "cell_type": "code",
   "execution_count": 93,
   "id": "21b08a3d-9517-41bc-a0e9-641318b75c80",
   "metadata": {},
   "outputs": [
    {
     "data": {
      "text/plain": [
       "0"
      ]
     },
     "execution_count": 93,
     "metadata": {},
     "output_type": "execute_result"
    }
   ],
   "source": [
    "data.duplicated().sum()"
   ]
  },
  {
   "cell_type": "code",
   "execution_count": 94,
   "id": "77a0f5d9-3b6b-4b4e-89c7-dbd3fd6b635e",
   "metadata": {},
   "outputs": [
    {
     "data": {
      "image/png": "[encoded data removed]",
      "text/plain": [
       "<Figure size 640x480 with 1 Axes>"
      ]
     },
     "metadata": {},
     "output_type": "display_data"
    }
   ],
   "source": [
    "sb.boxplot(data.oldbalanceOrg)\n",
    "plt.show()"
   ]
  },
  {
   "cell_type": "code",
   "execution_count": 95,
   "id": "cb2c3ed8-ad74-4e48-b678-2368de8b58fd",
   "metadata": {},
   "outputs": [
    {
     "name": "stdout",
     "output_type": "stream",
     "text": [
      "<class 'pandas.core.frame.DataFrame'>\n",
      "RangeIndex: 6362620 entries, 0 to 6362619\n",
      "Data columns (total 11 columns):\n",
      " #   Column          Dtype  \n",
      "---  ------          -----  \n",
      " 0   step            int64  \n",
      " 1   type            object \n",
      " 2   amount          float64\n",
      " 3   nameOrig        object \n",
      " 4   oldbalanceOrg   float64\n",
      " 5   newbalanceOrig  float64\n",
      " 6   nameDest        object \n",
      " 7   oldbalanceDest  float64\n",
      " 8   newbalanceDest  float64\n",
      " 9   isFraud         int64  \n",
      " 10  isFlaggedFraud  int64  \n",
      "dtypes: float64(5), int64(3), object(3)\n",
      "memory usage: 534.0+ MB\n"
     ]
    }
   ],
   "source": [
    "data.info()"
   ]
  },
  {
   "cell_type": "code",
   "execution_count": 96,
   "id": "fc2c7117-aa05-41c5-981d-3c154afa5807",
   "metadata": {},
   "outputs": [
    {
     "data": {
      "image/png": "[encoded data removed]",
      "text/plain": [
       "<Figure size 640x480 with 1 Axes>"
      ]
     },
     "metadata": {},
     "output_type": "display_data"
    }
   ],
   "source": [
    "sb.boxplot(data['newbalanceDest'])\n",
    "plt.show()"
   ]
  },
  {
   "cell_type": "code",
   "execution_count": 97,
   "id": "754085a7-cf17-4b28-bff0-8e5fb9378fa0",
   "metadata": {},
   "outputs": [
    {
     "name": "stderr",
     "output_type": "stream",
     "text": [
      "/var/folders/7p/nhr_8mz933v_4r1mwyd3_jg40000gp/T/ipykernel_67224/2627137660.py:1: FutureWarning: The default value of numeric_only in DataFrame.corr is deprecated. In a future version, it will default to False. Select only valid columns or specify the value of numeric_only to silence this warning.\n",
      "  data.corr()\n"
     ]
    },
    {
     "data": {
      "text/html": [
       "<div>\n",
       "<style scoped>\n",
       "    .dataframe tbody tr th:only-of-type {\n",
       "        vertical-align: middle;\n",
       "    }\n",
       "\n",
       "    .dataframe tbody tr th {\n",
       "        vertical-align: top;\n",
       "    }\n",
       "\n",
       "    .dataframe thead th {\n",
       "        text-align: right;\n",
       "    }\n",
       "</style>\n",
       "<table border=\"1\" class=\"dataframe\">\n",
       "  <thead>\n",
       "    <tr style=\"text-align: right;\">\n",
       "      <th></th>\n",
       "      <th>step</th>\n",
       "      <th>amount</th>\n",
       "      <th>oldbalanceOrg</th>\n",
       "      <th>newbalanceOrig</th>\n",
       "      <th>oldbalanceDest</th>\n",
       "      <th>newbalanceDest</th>\n",
       "      <th>isFraud</th>\n",
       "      <th>isFlaggedFraud</th>\n",
       "    </tr>\n",
       "  </thead>\n",
       "  <tbody>\n",
       "    <tr>\n",
       "      <th>step</th>\n",
       "      <td>1.000000</td>\n",
       "      <td>0.022373</td>\n",
       "      <td>-0.010058</td>\n",
       "      <td>-0.010299</td>\n",
       "      <td>0.027665</td>\n",
       "      <td>0.025888</td>\n",
       "      <td>0.031578</td>\n",
       "      <td>0.003277</td>\n",
       "    </tr>\n",
       "    <tr>\n",
       "      <th>amount</th>\n",
       "      <td>0.022373</td>\n",
       "      <td>1.000000</td>\n",
       "      <td>-0.002762</td>\n",
       "      <td>-0.007861</td>\n",
       "      <td>0.294137</td>\n",
       "      <td>0.459304</td>\n",
       "      <td>0.076688</td>\n",
       "      <td>0.012295</td>\n",
       "    </tr>\n",
       "    <tr>\n",
       "      <th>oldbalanceOrg</th>\n",
       "      <td>-0.010058</td>\n",
       "      <td>-0.002762</td>\n",
       "      <td>1.000000</td>\n",
       "      <td>0.998803</td>\n",
       "      <td>0.066243</td>\n",
       "      <td>0.042029</td>\n",
       "      <td>0.010154</td>\n",
       "      <td>0.003835</td>\n",
       "    </tr>\n",
       "    <tr>\n",
       "      <th>newbalanceOrig</th>\n",
       "      <td>-0.010299</td>\n",
       "      <td>-0.007861</td>\n",
       "      <td>0.998803</td>\n",
       "      <td>1.000000</td>\n",
       "      <td>0.067812</td>\n",
       "      <td>0.041837</td>\n",
       "      <td>-0.008148</td>\n",
       "      <td>0.003776</td>\n",
       "    </tr>\n",
       "    <tr>\n",
       "      <th>oldbalanceDest</th>\n",
       "      <td>0.027665</td>\n",
       "      <td>0.294137</td>\n",
       "      <td>0.066243</td>\n",
       "      <td>0.067812</td>\n",
       "      <td>1.000000</td>\n",
       "      <td>0.976569</td>\n",
       "      <td>-0.005885</td>\n",
       "      <td>-0.000513</td>\n",
       "    </tr>\n",
       "    <tr>\n",
       "      <th>newbalanceDest</th>\n",
       "      <td>0.025888</td>\n",
       "      <td>0.459304</td>\n",
       "      <td>0.042029</td>\n",
       "      <td>0.041837</td>\n",
       "      <td>0.976569</td>\n",
       "      <td>1.000000</td>\n",
       "      <td>0.000535</td>\n",
       "      <td>-0.000529</td>\n",
       "    </tr>\n",
       "    <tr>\n",
       "      <th>isFraud</th>\n",
       "      <td>0.031578</td>\n",
       "      <td>0.076688</td>\n",
       "      <td>0.010154</td>\n",
       "      <td>-0.008148</td>\n",
       "      <td>-0.005885</td>\n",
       "      <td>0.000535</td>\n",
       "      <td>1.000000</td>\n",
       "      <td>0.044109</td>\n",
       "    </tr>\n",
       "    <tr>\n",
       "      <th>isFlaggedFraud</th>\n",
       "      <td>0.003277</td>\n",
       "      <td>0.012295</td>\n",
       "      <td>0.003835</td>\n",
       "      <td>0.003776</td>\n",
       "      <td>-0.000513</td>\n",
       "      <td>-0.000529</td>\n",
       "      <td>0.044109</td>\n",
       "      <td>1.000000</td>\n",
       "    </tr>\n",
       "  </tbody>\n",
       "</table>\n",
       "</div>"
      ],
      "text/plain": [
       "                    step    amount  oldbalanceOrg  newbalanceOrig  \\\n",
       "step            1.000000  0.022373      -0.010058       -0.010299   \n",
       "amount          0.022373  1.000000      -0.002762       -0.007861   \n",
       "oldbalanceOrg  -0.010058 -0.002762       1.000000        0.998803   \n",
       "newbalanceOrig -0.010299 -0.007861       0.998803        1.000000   \n",
       "oldbalanceDest  0.027665  0.294137       0.066243        0.067812   \n",
       "newbalanceDest  0.025888  0.459304       0.042029        0.041837   \n",
       "isFraud         0.031578  0.076688       0.010154       -0.008148   \n",
       "isFlaggedFraud  0.003277  0.012295       0.003835        0.003776   \n",
       "\n",
       "                oldbalanceDest  newbalanceDest   isFraud  isFlaggedFraud  \n",
       "step                  0.027665        0.025888  0.031578        0.003277  \n",
       "amount                0.294137        0.459304  0.076688        0.012295  \n",
       "oldbalanceOrg         0.066243        0.042029  0.010154        0.003835  \n",
       "newbalanceOrig        0.067812        0.041837 -0.008148        0.003776  \n",
       "oldbalanceDest        1.000000        0.976569 -0.005885       -0.000513  \n",
       "newbalanceDest        0.976569        1.000000  0.000535       -0.000529  \n",
       "isFraud              -0.005885        0.000535  1.000000        0.044109  \n",
       "isFlaggedFraud       -0.000513       -0.000529  0.044109        1.000000  "
      ]
     },
     "execution_count": 97,
     "metadata": {},
     "output_type": "execute_result"
    }
   ],
   "source": [
    "data.corr()"
   ]
  },
  {
   "cell_type": "code",
   "execution_count": 98,
   "id": "dbb86f39-66cc-40e4-b866-9ebcfa427e90",
   "metadata": {},
   "outputs": [
    {
     "data": {
      "image/png": "[encoded data removed]",
      "text/plain": [
       "<Figure size 640x480 with 1 Axes>"
      ]
     },
     "metadata": {},
     "output_type": "display_data"
    }
   ],
   "source": [
    "plt.scatter(data.oldbalanceOrg, data.newbalanceDest)\n",
    "plt.show()"
   ]
  },
  {
   "cell_type": "code",
   "execution_count": 99,
   "id": "b4a769d1-58d4-4581-b24a-53b30025db64",
   "metadata": {},
   "outputs": [
    {
     "name": "stderr",
     "output_type": "stream",
     "text": [
      "/var/folders/7p/nhr_8mz933v_4r1mwyd3_jg40000gp/T/ipykernel_67224/1218648810.py:1: DeprecationWarning: the `interpolation=` argument to percentile was renamed to `method=`, which has additional options.\n",
      "Users of the modes 'nearest', 'lower', 'higher', or 'midpoint' are encouraged to review the method they used. (Deprecated NumPy 1.22)\n",
      "  Q1 = np.percentile(data['amount'], 25,\n",
      "/var/folders/7p/nhr_8mz933v_4r1mwyd3_jg40000gp/T/ipykernel_67224/1218648810.py:4: DeprecationWarning: the `interpolation=` argument to percentile was renamed to `method=`, which has additional options.\n",
      "Users of the modes 'nearest', 'lower', 'higher', or 'midpoint' are encouraged to review the method they used. (Deprecated NumPy 1.22)\n",
      "  Q3 = np.percentile(data['amount'], 75,\n"
     ]
    }
   ],
   "source": [
    "Q1 = np.percentile(data['amount'], 25,\n",
    "                   interpolation = 'midpoint')\n",
    " \n",
    "Q3 = np.percentile(data['amount'], 75,\n",
    "                   interpolation = 'midpoint')\n",
    "IQR = Q3 - Q1"
   ]
  },
  {
   "cell_type": "code",
   "execution_count": 100,
   "id": "7e712207-623b-4478-8b5d-8421e617d7e0",
   "metadata": {},
   "outputs": [
    {
     "data": {
      "text/plain": [
       "195331.935"
      ]
     },
     "execution_count": 100,
     "metadata": {},
     "output_type": "execute_result"
    }
   ],
   "source": [
    "IQR"
   ]
  },
  {
   "cell_type": "code",
   "execution_count": 101,
   "id": "ad5bd192-b9e3-49f0-a5bd-bb97ac6ad542",
   "metadata": {},
   "outputs": [],
   "source": [
    "upper = Q3 +1.5*IQR\n",
    "lower = Q1 - 1.5*IQR"
   ]
  },
  {
   "cell_type": "code",
   "execution_count": 102,
   "id": "2910d232-82c1-47c7-b4e4-1b05332da65b",
   "metadata": {},
   "outputs": [],
   "source": [
    "upper = np.where(data['amount'] >= (Q3+1.5*IQR))\n",
    "lower = np.where(data['amount'] <= (Q1-1.5*IQR))"
   ]
  },
  {
   "cell_type": "code",
   "execution_count": 103,
   "id": "4ceb0a57-da61-4741-9722-52c85fbbba39",
   "metadata": {},
   "outputs": [],
   "source": [
    "data.drop(upper[0], inplace = True)\n",
    "data.drop(lower[0], inplace = True)"
   ]
  },
  {
   "cell_type": "code",
   "execution_count": 104,
   "id": "0df39aa1-f6c7-47b2-b605-c3e47b7dcfcc",
   "metadata": {},
   "outputs": [
    {
     "data": {
      "text/plain": [
       "0            1\n",
       "1            1\n",
       "2            1\n",
       "3            1\n",
       "4            1\n",
       "          ... \n",
       "6362609    742\n",
       "6362610    742\n",
       "6362611    742\n",
       "6362614    743\n",
       "6362615    743\n",
       "Name: step, Length: 6024543, dtype: int64"
      ]
     },
     "execution_count": 104,
     "metadata": {},
     "output_type": "execute_result"
    }
   ],
   "source": [
    "data.step"
   ]
  },
  {
   "cell_type": "code",
   "execution_count": 105,
   "id": "9ee72145-b7bd-427e-be65-8305702ebcf4",
   "metadata": {},
   "outputs": [
    {
     "data": {
      "text/plain": [
       "Index(['step', 'type', 'amount', 'nameOrig', 'oldbalanceOrg', 'newbalanceOrig',\n",
       "       'nameDest', 'oldbalanceDest', 'newbalanceDest', 'isFraud',\n",
       "       'isFlaggedFraud'],\n",
       "      dtype='object')"
      ]
     },
     "execution_count": 105,
     "metadata": {},
     "output_type": "execute_result"
    }
   ],
   "source": [
    "data.columns"
   ]
  },
  {
   "cell_type": "code",
   "execution_count": 106,
   "id": "976733b9-8f2e-4ac0-acb5-8dbbc8315cb6",
   "metadata": {},
   "outputs": [
    {
     "data": {
      "text/plain": [
       "0           PAYMENT\n",
       "1           PAYMENT\n",
       "2          TRANSFER\n",
       "3          CASH_OUT\n",
       "4           PAYMENT\n",
       "             ...   \n",
       "6362609    CASH_OUT\n",
       "6362610    TRANSFER\n",
       "6362611    CASH_OUT\n",
       "6362614    TRANSFER\n",
       "6362615    CASH_OUT\n",
       "Name: type, Length: 6024543, dtype: object"
      ]
     },
     "execution_count": 106,
     "metadata": {},
     "output_type": "execute_result"
    }
   ],
   "source": [
    "data.type"
   ]
  },
  {
   "cell_type": "code",
   "execution_count": 107,
   "id": "4293fa22-0577-43b0-a511-21e667bbe422",
   "metadata": {},
   "outputs": [
    {
     "data": {
      "text/plain": [
       "array(['PAYMENT', 'TRANSFER', 'CASH_OUT', 'DEBIT', 'CASH_IN'],\n",
       "      dtype=object)"
      ]
     },
     "execution_count": 107,
     "metadata": {},
     "output_type": "execute_result"
    }
   ],
   "source": [
    "data.type.unique()"
   ]
  },
  {
   "cell_type": "code",
   "execution_count": 108,
   "id": "fd9a8a0c-b21b-4e56-97b6-21d3597aef34",
   "metadata": {},
   "outputs": [
    {
     "data": {
      "text/plain": [
       "CASH_OUT    2185250\n",
       "PAYMENT     2151495\n",
       "CASH_IN     1373826\n",
       "TRANSFER     272542\n",
       "DEBIT         41430\n",
       "Name: type, dtype: int64"
      ]
     },
     "execution_count": 108,
     "metadata": {},
     "output_type": "execute_result"
    }
   ],
   "source": [
    "data.type.value_counts()"
   ]
  },
  {
   "cell_type": "code",
   "execution_count": 109,
   "id": "cd60b13d-4169-4b95-a34e-8c3e1b486193",
   "metadata": {},
   "outputs": [
    {
     "data": {
      "image/png": "[encoded data removed]",
      "text/plain": [
       "<Figure size 640x480 with 1 Axes>"
      ]
     },
     "metadata": {},
     "output_type": "display_data"
    }
   ],
   "source": [
    "sb.barplot(x = data.type.value_counts().index, y = data.type.value_counts().values)\n",
    "plt.show()"
   ]
  },
  {
   "cell_type": "code",
   "execution_count": 110,
   "id": "20909d21-edb7-44b8-b10c-cf8c51dfdb07",
   "metadata": {},
   "outputs": [
    {
     "data": {
      "text/html": [
       "<div>\n",
       "<style scoped>\n",
       "    .dataframe tbody tr th:only-of-type {\n",
       "        vertical-align: middle;\n",
       "    }\n",
       "\n",
       "    .dataframe tbody tr th {\n",
       "        vertical-align: top;\n",
       "    }\n",
       "\n",
       "    .dataframe thead th {\n",
       "        text-align: right;\n",
       "    }\n",
       "</style>\n",
       "<table border=\"1\" class=\"dataframe\">\n",
       "  <thead>\n",
       "    <tr style=\"text-align: right;\">\n",
       "      <th></th>\n",
       "      <th>step</th>\n",
       "      <th>amount</th>\n",
       "      <th>oldbalanceOrg</th>\n",
       "      <th>newbalanceOrig</th>\n",
       "      <th>oldbalanceDest</th>\n",
       "      <th>newbalanceDest</th>\n",
       "      <th>isFraud</th>\n",
       "      <th>isFlaggedFraud</th>\n",
       "    </tr>\n",
       "  </thead>\n",
       "  <tbody>\n",
       "    <tr>\n",
       "      <th>count</th>\n",
       "      <td>6.024543e+06</td>\n",
       "      <td>6.024543e+06</td>\n",
       "      <td>6.024543e+06</td>\n",
       "      <td>6.024543e+06</td>\n",
       "      <td>6.024543e+06</td>\n",
       "      <td>6.024543e+06</td>\n",
       "      <td>6.024543e+06</td>\n",
       "      <td>6.024543e+06</td>\n",
       "    </tr>\n",
       "    <tr>\n",
       "      <th>mean</th>\n",
       "      <td>2.433126e+02</td>\n",
       "      <td>1.115342e+05</td>\n",
       "      <td>8.619578e+05</td>\n",
       "      <td>8.859128e+05</td>\n",
       "      <td>9.871264e+05</td>\n",
       "      <td>1.037883e+06</td>\n",
       "      <td>7.235404e-04</td>\n",
       "      <td>3.319754e-07</td>\n",
       "    </tr>\n",
       "    <tr>\n",
       "      <th>std</th>\n",
       "      <td>1.422881e+02</td>\n",
       "      <td>1.203984e+05</td>\n",
       "      <td>2.933836e+06</td>\n",
       "      <td>2.969976e+06</td>\n",
       "      <td>3.031559e+06</td>\n",
       "      <td>3.055336e+06</td>\n",
       "      <td>2.688897e-02</td>\n",
       "      <td>5.761730e-04</td>\n",
       "    </tr>\n",
       "    <tr>\n",
       "      <th>min</th>\n",
       "      <td>1.000000e+00</td>\n",
       "      <td>0.000000e+00</td>\n",
       "      <td>0.000000e+00</td>\n",
       "      <td>0.000000e+00</td>\n",
       "      <td>0.000000e+00</td>\n",
       "      <td>0.000000e+00</td>\n",
       "      <td>0.000000e+00</td>\n",
       "      <td>0.000000e+00</td>\n",
       "    </tr>\n",
       "    <tr>\n",
       "      <th>25%</th>\n",
       "      <td>1.560000e+02</td>\n",
       "      <td>1.236855e+04</td>\n",
       "      <td>0.000000e+00</td>\n",
       "      <td>0.000000e+00</td>\n",
       "      <td>0.000000e+00</td>\n",
       "      <td>0.000000e+00</td>\n",
       "      <td>0.000000e+00</td>\n",
       "      <td>0.000000e+00</td>\n",
       "    </tr>\n",
       "    <tr>\n",
       "      <th>50%</th>\n",
       "      <td>2.380000e+02</td>\n",
       "      <td>6.317584e+04</td>\n",
       "      <td>1.514600e+04</td>\n",
       "      <td>0.000000e+00</td>\n",
       "      <td>1.027301e+05</td>\n",
       "      <td>1.683203e+05</td>\n",
       "      <td>0.000000e+00</td>\n",
       "      <td>0.000000e+00</td>\n",
       "    </tr>\n",
       "    <tr>\n",
       "      <th>75%</th>\n",
       "      <td>3.340000e+02</td>\n",
       "      <td>1.829338e+05</td>\n",
       "      <td>1.134380e+05</td>\n",
       "      <td>1.602874e+05</td>\n",
       "      <td>8.249873e+05</td>\n",
       "      <td>9.251457e+05</td>\n",
       "      <td>0.000000e+00</td>\n",
       "      <td>0.000000e+00</td>\n",
       "    </tr>\n",
       "    <tr>\n",
       "      <th>max</th>\n",
       "      <td>7.430000e+02</td>\n",
       "      <td>5.017194e+05</td>\n",
       "      <td>4.381886e+07</td>\n",
       "      <td>4.368662e+07</td>\n",
       "      <td>3.560159e+08</td>\n",
       "      <td>3.561793e+08</td>\n",
       "      <td>1.000000e+00</td>\n",
       "      <td>1.000000e+00</td>\n",
       "    </tr>\n",
       "  </tbody>\n",
       "</table>\n",
       "</div>"
      ],
      "text/plain": [
       "               step        amount  oldbalanceOrg  newbalanceOrig  \\\n",
       "count  6.024543e+06  6.024543e+06   6.024543e+06    6.024543e+06   \n",
       "mean   2.433126e+02  1.115342e+05   8.619578e+05    8.859128e+05   \n",
       "std    1.422881e+02  1.203984e+05   2.933836e+06    2.969976e+06   \n",
       "min    1.000000e+00  0.000000e+00   0.000000e+00    0.000000e+00   \n",
       "25%    1.560000e+02  1.236855e+04   0.000000e+00    0.000000e+00   \n",
       "50%    2.380000e+02  6.317584e+04   1.514600e+04    0.000000e+00   \n",
       "75%    3.340000e+02  1.829338e+05   1.134380e+05    1.602874e+05   \n",
       "max    7.430000e+02  5.017194e+05   4.381886e+07    4.368662e+07   \n",
       "\n",
       "       oldbalanceDest  newbalanceDest       isFraud  isFlaggedFraud  \n",
       "count    6.024543e+06    6.024543e+06  6.024543e+06    6.024543e+06  \n",
       "mean     9.871264e+05    1.037883e+06  7.235404e-04    3.319754e-07  \n",
       "std      3.031559e+06    3.055336e+06  2.688897e-02    5.761730e-04  \n",
       "min      0.000000e+00    0.000000e+00  0.000000e+00    0.000000e+00  \n",
       "25%      0.000000e+00    0.000000e+00  0.000000e+00    0.000000e+00  \n",
       "50%      1.027301e+05    1.683203e+05  0.000000e+00    0.000000e+00  \n",
       "75%      8.249873e+05    9.251457e+05  0.000000e+00    0.000000e+00  \n",
       "max      3.560159e+08    3.561793e+08  1.000000e+00    1.000000e+00  "
      ]
     },
     "execution_count": 110,
     "metadata": {},
     "output_type": "execute_result"
    }
   ],
   "source": [
    "data.describe()"
   ]
  },
  {
   "cell_type": "code",
   "execution_count": 111,
   "id": "ddd3585f-f6cb-48bc-b713-38b982d47951",
   "metadata": {},
   "outputs": [
    {
     "data": {
      "text/plain": [
       "0            9839.64\n",
       "1            1864.28\n",
       "2             181.00\n",
       "3             181.00\n",
       "4           11668.14\n",
       "             ...    \n",
       "6362609    258355.42\n",
       "6362610     63416.99\n",
       "6362611     63416.99\n",
       "6362614    339682.13\n",
       "6362615    339682.13\n",
       "Name: amount, Length: 6024543, dtype: float64"
      ]
     },
     "execution_count": 111,
     "metadata": {},
     "output_type": "execute_result"
    }
   ],
   "source": [
    "data.amount"
   ]
  },
  {
   "cell_type": "code",
   "execution_count": 112,
   "id": "8525e0cb-ca52-4054-9466-61d0e31bc2bf",
   "metadata": {},
   "outputs": [
    {
     "data": {
      "image/png": "[encoded data removed]",
      "text/plain": [
       "<Figure size 640x480 with 1 Axes>"
      ]
     },
     "metadata": {},
     "output_type": "display_data"
    }
   ],
   "source": [
    "sb.histplot(data.amount)\n",
    "plt.xlabel('the amount of money')\n",
    "plt.show()"
   ]
  },
  {
   "cell_type": "code",
   "execution_count": 113,
   "id": "7fed783a-e8a8-43f3-98a3-f907acb265ee",
   "metadata": {},
   "outputs": [
    {
     "data": {
      "text/html": [
       "<div>\n",
       "<style scoped>\n",
       "    .dataframe tbody tr th:only-of-type {\n",
       "        vertical-align: middle;\n",
       "    }\n",
       "\n",
       "    .dataframe tbody tr th {\n",
       "        vertical-align: top;\n",
       "    }\n",
       "\n",
       "    .dataframe thead th {\n",
       "        text-align: right;\n",
       "    }\n",
       "</style>\n",
       "<table border=\"1\" class=\"dataframe\">\n",
       "  <thead>\n",
       "    <tr style=\"text-align: right;\">\n",
       "      <th></th>\n",
       "      <th>step</th>\n",
       "      <th>type</th>\n",
       "      <th>amount</th>\n",
       "      <th>nameOrig</th>\n",
       "      <th>oldbalanceOrg</th>\n",
       "      <th>newbalanceOrig</th>\n",
       "      <th>nameDest</th>\n",
       "      <th>oldbalanceDest</th>\n",
       "      <th>newbalanceDest</th>\n",
       "      <th>isFraud</th>\n",
       "      <th>isFlaggedFraud</th>\n",
       "    </tr>\n",
       "  </thead>\n",
       "  <tbody>\n",
       "    <tr>\n",
       "      <th>1675737</th>\n",
       "      <td>159</td>\n",
       "      <td>CASH_OUT</td>\n",
       "      <td>501719.38</td>\n",
       "      <td>C1970677139</td>\n",
       "      <td>18653.00</td>\n",
       "      <td>0.00</td>\n",
       "      <td>C1619270798</td>\n",
       "      <td>235419.03</td>\n",
       "      <td>737138.41</td>\n",
       "      <td>0</td>\n",
       "      <td>0</td>\n",
       "    </tr>\n",
       "    <tr>\n",
       "      <th>1737199</th>\n",
       "      <td>161</td>\n",
       "      <td>CASH_OUT</td>\n",
       "      <td>501718.41</td>\n",
       "      <td>C1077569708</td>\n",
       "      <td>78605.00</td>\n",
       "      <td>0.00</td>\n",
       "      <td>C1924590813</td>\n",
       "      <td>697311.14</td>\n",
       "      <td>1199029.56</td>\n",
       "      <td>0</td>\n",
       "      <td>0</td>\n",
       "    </tr>\n",
       "    <tr>\n",
       "      <th>1082806</th>\n",
       "      <td>129</td>\n",
       "      <td>CASH_IN</td>\n",
       "      <td>501718.02</td>\n",
       "      <td>C970634468</td>\n",
       "      <td>20873140.30</td>\n",
       "      <td>21374858.32</td>\n",
       "      <td>C1091756447</td>\n",
       "      <td>5463193.08</td>\n",
       "      <td>5127569.29</td>\n",
       "      <td>0</td>\n",
       "      <td>0</td>\n",
       "    </tr>\n",
       "    <tr>\n",
       "      <th>2827303</th>\n",
       "      <td>226</td>\n",
       "      <td>CASH_OUT</td>\n",
       "      <td>501717.55</td>\n",
       "      <td>C855812747</td>\n",
       "      <td>121947.70</td>\n",
       "      <td>0.00</td>\n",
       "      <td>C914557298</td>\n",
       "      <td>1379104.08</td>\n",
       "      <td>1880821.63</td>\n",
       "      <td>0</td>\n",
       "      <td>0</td>\n",
       "    </tr>\n",
       "    <tr>\n",
       "      <th>2069077</th>\n",
       "      <td>181</td>\n",
       "      <td>CASH_IN</td>\n",
       "      <td>501717.33</td>\n",
       "      <td>C897630635</td>\n",
       "      <td>5120317.65</td>\n",
       "      <td>5622034.98</td>\n",
       "      <td>C1830915224</td>\n",
       "      <td>1314756.05</td>\n",
       "      <td>813038.72</td>\n",
       "      <td>0</td>\n",
       "      <td>0</td>\n",
       "    </tr>\n",
       "    <tr>\n",
       "      <th>5280111</th>\n",
       "      <td>372</td>\n",
       "      <td>CASH_OUT</td>\n",
       "      <td>501715.41</td>\n",
       "      <td>C555809067</td>\n",
       "      <td>96128.79</td>\n",
       "      <td>0.00</td>\n",
       "      <td>C1185830080</td>\n",
       "      <td>664493.22</td>\n",
       "      <td>1166208.64</td>\n",
       "      <td>0</td>\n",
       "      <td>0</td>\n",
       "    </tr>\n",
       "    <tr>\n",
       "      <th>2984534</th>\n",
       "      <td>231</td>\n",
       "      <td>CASH_IN</td>\n",
       "      <td>501715.19</td>\n",
       "      <td>C1586580516</td>\n",
       "      <td>4122.00</td>\n",
       "      <td>505837.19</td>\n",
       "      <td>C1796738748</td>\n",
       "      <td>0.00</td>\n",
       "      <td>0.00</td>\n",
       "      <td>0</td>\n",
       "      <td>0</td>\n",
       "    </tr>\n",
       "    <tr>\n",
       "      <th>1638216</th>\n",
       "      <td>157</td>\n",
       "      <td>CASH_IN</td>\n",
       "      <td>501710.64</td>\n",
       "      <td>C843040970</td>\n",
       "      <td>430.00</td>\n",
       "      <td>502140.64</td>\n",
       "      <td>C1864097021</td>\n",
       "      <td>0.00</td>\n",
       "      <td>0.00</td>\n",
       "      <td>0</td>\n",
       "      <td>0</td>\n",
       "    </tr>\n",
       "    <tr>\n",
       "      <th>2025441</th>\n",
       "      <td>180</td>\n",
       "      <td>CASH_IN</td>\n",
       "      <td>501710.41</td>\n",
       "      <td>C1109167155</td>\n",
       "      <td>14682491.62</td>\n",
       "      <td>15184202.03</td>\n",
       "      <td>C145739790</td>\n",
       "      <td>6008879.39</td>\n",
       "      <td>5507168.98</td>\n",
       "      <td>0</td>\n",
       "      <td>0</td>\n",
       "    </tr>\n",
       "    <tr>\n",
       "      <th>823098</th>\n",
       "      <td>41</td>\n",
       "      <td>TRANSFER</td>\n",
       "      <td>501709.63</td>\n",
       "      <td>C585977042</td>\n",
       "      <td>9846.00</td>\n",
       "      <td>0.00</td>\n",
       "      <td>C876306094</td>\n",
       "      <td>5932706.69</td>\n",
       "      <td>6434416.32</td>\n",
       "      <td>0</td>\n",
       "      <td>0</td>\n",
       "    </tr>\n",
       "  </tbody>\n",
       "</table>\n",
       "</div>"
      ],
      "text/plain": [
       "         step      type     amount     nameOrig  oldbalanceOrg  \\\n",
       "1675737   159  CASH_OUT  501719.38  C1970677139       18653.00   \n",
       "1737199   161  CASH_OUT  501718.41  C1077569708       78605.00   \n",
       "1082806   129   CASH_IN  501718.02   C970634468    20873140.30   \n",
       "2827303   226  CASH_OUT  501717.55   C855812747      121947.70   \n",
       "2069077   181   CASH_IN  501717.33   C897630635     5120317.65   \n",
       "5280111   372  CASH_OUT  501715.41   C555809067       96128.79   \n",
       "2984534   231   CASH_IN  501715.19  C1586580516        4122.00   \n",
       "1638216   157   CASH_IN  501710.64   C843040970         430.00   \n",
       "2025441   180   CASH_IN  501710.41  C1109167155    14682491.62   \n",
       "823098     41  TRANSFER  501709.63   C585977042        9846.00   \n",
       "\n",
       "         newbalanceOrig     nameDest  oldbalanceDest  newbalanceDest  isFraud  \\\n",
       "1675737            0.00  C1619270798       235419.03       737138.41        0   \n",
       "1737199            0.00  C1924590813       697311.14      1199029.56        0   \n",
       "1082806     21374858.32  C1091756447      5463193.08      5127569.29        0   \n",
       "2827303            0.00   C914557298      1379104.08      1880821.63        0   \n",
       "2069077      5622034.98  C1830915224      1314756.05       813038.72        0   \n",
       "5280111            0.00  C1185830080       664493.22      1166208.64        0   \n",
       "2984534       505837.19  C1796738748            0.00            0.00        0   \n",
       "1638216       502140.64  C1864097021            0.00            0.00        0   \n",
       "2025441     15184202.03   C145739790      6008879.39      5507168.98        0   \n",
       "823098             0.00   C876306094      5932706.69      6434416.32        0   \n",
       "\n",
       "         isFlaggedFraud  \n",
       "1675737               0  \n",
       "1737199               0  \n",
       "1082806               0  \n",
       "2827303               0  \n",
       "2069077               0  \n",
       "5280111               0  \n",
       "2984534               0  \n",
       "1638216               0  \n",
       "2025441               0  \n",
       "823098                0  "
      ]
     },
     "execution_count": 113,
     "metadata": {},
     "output_type": "execute_result"
    }
   ],
   "source": [
    "data.nlargest(10, 'amount')"
   ]
  },
  {
   "cell_type": "code",
   "execution_count": 114,
   "id": "c42e6bc7-5f76-4caf-8d6e-d23e07103a4d",
   "metadata": {},
   "outputs": [],
   "source": [
    "x = data.nlargest(10, 'amount').type\n",
    "  \n",
    "def unique(li):\n",
    "    value_counts = []\n",
    "    for i in li:\n",
    "        c = li.count(i)\n",
    "        value_counts.append((i,c))\n",
    "    return value_counts"
   ]
  },
  {
   "cell_type": "code",
   "execution_count": 115,
   "id": "94914c4b-d36c-4587-bf5a-6126f7ca91d4",
   "metadata": {},
   "outputs": [
    {
     "data": {
      "text/plain": [
       "1675737    CASH_OUT\n",
       "1737199    CASH_OUT\n",
       "1082806     CASH_IN\n",
       "2827303    CASH_OUT\n",
       "2069077     CASH_IN\n",
       "5280111    CASH_OUT\n",
       "2984534     CASH_IN\n",
       "1638216     CASH_IN\n",
       "2025441     CASH_IN\n",
       "823098     TRANSFER\n",
       "Name: type, dtype: object"
      ]
     },
     "execution_count": 115,
     "metadata": {},
     "output_type": "execute_result"
    }
   ],
   "source": [
    "x"
   ]
  },
  {
   "cell_type": "code",
   "execution_count": 116,
   "id": "84034faf-0332-448e-a4ea-5ce406914d12",
   "metadata": {},
   "outputs": [
    {
     "data": {
      "text/plain": [
       "Counter({'CASH_OUT': 4, 'CASH_IN': 5, 'TRANSFER': 1})"
      ]
     },
     "execution_count": 116,
     "metadata": {},
     "output_type": "execute_result"
    }
   ],
   "source": [
    "from collections import Counter\n",
    "Counter(x)"
   ]
  },
  {
   "cell_type": "code",
   "execution_count": 117,
   "id": "bfa100cc-16e9-4898-b1c4-a27c7e61f2d7",
   "metadata": {},
   "outputs": [
    {
     "data": {
      "text/plain": [
       "1675737    0\n",
       "1737199    0\n",
       "1082806    0\n",
       "2827303    0\n",
       "2069077    0\n",
       "5280111    0\n",
       "2984534    0\n",
       "1638216    0\n",
       "2025441    0\n",
       "823098     0\n",
       "Name: isFraud, dtype: int64"
      ]
     },
     "execution_count": 117,
     "metadata": {},
     "output_type": "execute_result"
    }
   ],
   "source": [
    "data.nlargest(10, 'amount').isFraud"
   ]
  },
  {
   "cell_type": "code",
   "execution_count": 118,
   "id": "3393e5d9-d51e-4298-868a-34b02d78050a",
   "metadata": {},
   "outputs": [
    {
     "data": {
      "text/plain": [
       "Counter({'CASH_OUT': 45, 'CASH_IN': 22, 'TRANSFER': 33})"
      ]
     },
     "execution_count": 118,
     "metadata": {},
     "output_type": "execute_result"
    }
   ],
   "source": [
    "Counter(data.nlargest(100, 'amount').type)"
   ]
  },
  {
   "cell_type": "code",
   "execution_count": 119,
   "id": "e269a47b-1ff3-4898-9aae-ec9baa8f4a9d",
   "metadata": {},
   "outputs": [
    {
     "data": {
      "text/plain": [
       "0"
      ]
     },
     "execution_count": 119,
     "metadata": {},
     "output_type": "execute_result"
    }
   ],
   "source": [
    "x = data.nlargest(100, 'amount').isFraud\n",
    "counter = 0\n",
    "if 1 in x.values:\n",
    "    counter +=1\n",
    "counter"
   ]
  },
  {
   "cell_type": "code",
   "execution_count": 120,
   "id": "437d0706-cefb-4cbf-bad2-88a651b784df",
   "metadata": {},
   "outputs": [
    {
     "data": {
      "image/png": "[encoded data removed]",
      "text/plain": [
       "<Figure size 640x480 with 2 Axes>"
      ]
     },
     "metadata": {},
     "output_type": "display_data"
    }
   ],
   "source": [
    "plt.hist2d(data= data, x = 'step', y = 'amount', cmin = 0.5,\n",
    "    cmap = 'viridis_r' )\n",
    "plt.colorbar()\n",
    "plt.xlabel('step')\n",
    "plt.ylabel('the amount')\n",
    "plt.show()"
   ]
  },
  {
   "cell_type": "code",
   "execution_count": 121,
   "id": "1aa8e319-7cd3-43e0-b94e-421449b8a211",
   "metadata": {},
   "outputs": [
    {
     "data": {
      "image/png": "[encoded data removed]",
      "text/plain": [
       "<Figure size 640x480 with 1 Axes>"
      ]
     },
     "metadata": {},
     "output_type": "display_data"
    }
   ],
   "source": [
    "step_amount_avg = data[data.amount >= 500000]['step']\n",
    "plt.hist(step_amount_avg, color = 'black')\n",
    "plt.axvline(step_amount_avg.mean(), color = 'red')\n",
    "plt.axvline(step_amount_avg.median(), color = 'green')\n",
    "plt.xlabel('steps')\n",
    "plt.show()"
   ]
  },
  {
   "cell_type": "code",
   "execution_count": 122,
   "id": "ff9dfa1f-dd4b-4c65-80be-08eb1ef62a91",
   "metadata": {},
   "outputs": [
    {
     "name": "stderr",
     "output_type": "stream",
     "text": [
      "/var/folders/7p/nhr_8mz933v_4r1mwyd3_jg40000gp/T/ipykernel_67224/398313531.py:2: DeprecationWarning: Use of keyword argument `alpha` for method `interval` is deprecated. Use first positional argument or keyword argument `confidence` instead.\n",
      "  st.t.interval(alpha=0.90, df=len(step_amount_avg)-1,\n"
     ]
    },
    {
     "data": {
      "text/plain": [
       "(227.86889758368235, 237.97885955270186)"
      ]
     },
     "execution_count": 122,
     "metadata": {},
     "output_type": "execute_result"
    }
   ],
   "source": [
    "import scipy.stats as st\n",
    "st.t.interval(alpha=0.90, df=len(step_amount_avg)-1,\n",
    "              loc=np.mean(step_amount_avg),\n",
    "              scale=st.sem(step_amount_avg))"
   ]
  },
  {
   "cell_type": "code",
   "execution_count": 123,
   "id": "a3ae3e79-2c30-47f1-8e43-a4e4de22bef9",
   "metadata": {},
   "outputs": [
    {
     "name": "stdout",
     "output_type": "stream",
     "text": [
      "<class 'pandas.core.frame.DataFrame'>\n",
      "Int64Index: 6024543 entries, 0 to 6362615\n",
      "Data columns (total 11 columns):\n",
      " #   Column          Dtype  \n",
      "---  ------          -----  \n",
      " 0   step            int64  \n",
      " 1   type            object \n",
      " 2   amount          float64\n",
      " 3   nameOrig        object \n",
      " 4   oldbalanceOrg   float64\n",
      " 5   newbalanceOrig  float64\n",
      " 6   nameDest        object \n",
      " 7   oldbalanceDest  float64\n",
      " 8   newbalanceDest  float64\n",
      " 9   isFraud         int64  \n",
      " 10  isFlaggedFraud  int64  \n",
      "dtypes: float64(5), int64(3), object(3)\n",
      "memory usage: 551.6+ MB\n"
     ]
    }
   ],
   "source": [
    "data.info()"
   ]
  },
  {
   "cell_type": "code",
   "execution_count": 124,
   "id": "8fe7e646-6ef8-403b-a722-f9c86f7a8593",
   "metadata": {},
   "outputs": [
    {
     "name": "stdout",
     "output_type": "stream",
     "text": [
      "the number of unique values of nameOrig is : 99.86 %\n"
     ]
    }
   ],
   "source": [
    "print(f'the number of unique values of nameOrig is : {round((len(data.nameOrig.unique()) * 100) / data.shape[0], 2)} %')"
   ]
  },
  {
   "cell_type": "code",
   "execution_count": 125,
   "id": "09583e6e-f40f-41ac-8036-adabfb928852",
   "metadata": {},
   "outputs": [
    {
     "data": {
      "text/html": [
       "<div>\n",
       "<style scoped>\n",
       "    .dataframe tbody tr th:only-of-type {\n",
       "        vertical-align: middle;\n",
       "    }\n",
       "\n",
       "    .dataframe tbody tr th {\n",
       "        vertical-align: top;\n",
       "    }\n",
       "\n",
       "    .dataframe thead th {\n",
       "        text-align: right;\n",
       "    }\n",
       "</style>\n",
       "<table border=\"1\" class=\"dataframe\">\n",
       "  <thead>\n",
       "    <tr style=\"text-align: right;\">\n",
       "      <th></th>\n",
       "      <th>step</th>\n",
       "      <th>type</th>\n",
       "      <th>amount</th>\n",
       "      <th>nameOrig</th>\n",
       "      <th>oldbalanceOrg</th>\n",
       "      <th>newbalanceOrig</th>\n",
       "      <th>nameDest</th>\n",
       "      <th>oldbalanceDest</th>\n",
       "      <th>newbalanceDest</th>\n",
       "      <th>isFraud</th>\n",
       "      <th>isFlaggedFraud</th>\n",
       "    </tr>\n",
       "  </thead>\n",
       "  <tbody>\n",
       "    <tr>\n",
       "      <th>361126</th>\n",
       "      <td>17</td>\n",
       "      <td>PAYMENT</td>\n",
       "      <td>5530.99</td>\n",
       "      <td>C1065307291</td>\n",
       "      <td>819637.87</td>\n",
       "      <td>814106.88</td>\n",
       "      <td>M1175397032</td>\n",
       "      <td>0.0</td>\n",
       "      <td>0.0</td>\n",
       "      <td>0</td>\n",
       "      <td>0</td>\n",
       "    </tr>\n",
       "    <tr>\n",
       "      <th>1799163</th>\n",
       "      <td>162</td>\n",
       "      <td>CASH_IN</td>\n",
       "      <td>88230.47</td>\n",
       "      <td>C1065307291</td>\n",
       "      <td>38128.00</td>\n",
       "      <td>126358.47</td>\n",
       "      <td>C1154752493</td>\n",
       "      <td>0.0</td>\n",
       "      <td>0.0</td>\n",
       "      <td>0</td>\n",
       "      <td>0</td>\n",
       "    </tr>\n",
       "    <tr>\n",
       "      <th>4829222</th>\n",
       "      <td>347</td>\n",
       "      <td>PAYMENT</td>\n",
       "      <td>19717.82</td>\n",
       "      <td>C1065307291</td>\n",
       "      <td>0.00</td>\n",
       "      <td>0.00</td>\n",
       "      <td>M2131079968</td>\n",
       "      <td>0.0</td>\n",
       "      <td>0.0</td>\n",
       "      <td>0</td>\n",
       "      <td>0</td>\n",
       "    </tr>\n",
       "  </tbody>\n",
       "</table>\n",
       "</div>"
      ],
      "text/plain": [
       "         step     type    amount     nameOrig  oldbalanceOrg  newbalanceOrig  \\\n",
       "361126     17  PAYMENT   5530.99  C1065307291      819637.87       814106.88   \n",
       "1799163   162  CASH_IN  88230.47  C1065307291       38128.00       126358.47   \n",
       "4829222   347  PAYMENT  19717.82  C1065307291           0.00            0.00   \n",
       "\n",
       "            nameDest  oldbalanceDest  newbalanceDest  isFraud  isFlaggedFraud  \n",
       "361126   M1175397032             0.0             0.0        0               0  \n",
       "1799163  C1154752493             0.0             0.0        0               0  \n",
       "4829222  M2131079968             0.0             0.0        0               0  "
      ]
     },
     "execution_count": 125,
     "metadata": {},
     "output_type": "execute_result"
    }
   ],
   "source": [
    "data[data.nameOrig == 'C1065307291']"
   ]
  },
  {
   "cell_type": "code",
   "execution_count": 126,
   "id": "e1c833f8-fcdd-4821-83f1-9e36eea65748",
   "metadata": {},
   "outputs": [],
   "source": [
    "Messi = data.nameOrig.mode()"
   ]
  },
  {
   "cell_type": "code",
   "execution_count": 127,
   "id": "bdb01d1c-4796-46d0-a2dd-f5a88cb168db",
   "metadata": {},
   "outputs": [
    {
     "name": "stdout",
     "output_type": "stream",
     "text": [
      "('C1065307291', 3)\n",
      "('C1462946854', 3)\n",
      "('C1530544995', 3)\n",
      "('C1677795071', 3)\n",
      "('C1784010646', 3)\n",
      "('C1832548028', 3)\n",
      "('C1902386530', 3)\n",
      "('C1976208114', 3)\n",
      "('C1999539787', 3)\n",
      "('C2051359467', 3)\n",
      "('C2098525306', 3)\n",
      "('C363736674', 3)\n",
      "('C400299098', 3)\n",
      "('C724452879', 3)\n"
     ]
    }
   ],
   "source": [
    "original_name = []\n",
    "for i in Messi.values:\n",
    "    original_name.append((i,data[data.nameOrig == i].shape[0]))\n",
    "for j in original_name:\n",
    "    print(j)"
   ]
  },
  {
   "cell_type": "code",
   "execution_count": 128,
   "id": "0186738e-10bd-409a-b1a9-9e1edcdcea46",
   "metadata": {},
   "outputs": [],
   "source": [
    "data.nameOrig = data.nameOrig.str.replace('C','').astype('int')\n",
    "data.rename(columns = {'nameOrig': 'client_id'}, inplace = True)"
   ]
  },
  {
   "cell_type": "code",
   "execution_count": 129,
   "id": "4e2d5c40-9f93-4d9c-b36e-32562c977adb",
   "metadata": {},
   "outputs": [
    {
     "data": {
      "text/plain": [
       "0          1231006815\n",
       "1          1666544295\n",
       "2          1305486145\n",
       "3           840083671\n",
       "4          2048537720\n",
       "              ...    \n",
       "6362609    1113162093\n",
       "6362610     778071008\n",
       "6362611     994950684\n",
       "6362614    2013999242\n",
       "6362615     786484425\n",
       "Name: client_id, Length: 6024543, dtype: int64"
      ]
     },
     "execution_count": 129,
     "metadata": {},
     "output_type": "execute_result"
    }
   ],
   "source": [
    "data.client_id"
   ]
  },
  {
   "cell_type": "code",
   "execution_count": 130,
   "id": "b63aac70-6b71-4f13-94cd-00ceaac78e61",
   "metadata": {},
   "outputs": [
    {
     "data": {
      "text/plain": [
       "0          170136.00\n",
       "1           21249.00\n",
       "2             181.00\n",
       "3             181.00\n",
       "4           41554.00\n",
       "             ...    \n",
       "6362609    258355.42\n",
       "6362610     63416.99\n",
       "6362611     63416.99\n",
       "6362614    339682.13\n",
       "6362615    339682.13\n",
       "Name: oldbalanceOrg, Length: 6024543, dtype: float64"
      ]
     },
     "execution_count": 130,
     "metadata": {},
     "output_type": "execute_result"
    }
   ],
   "source": [
    "data.oldbalanceOrg"
   ]
  },
  {
   "cell_type": "code",
   "execution_count": 131,
   "id": "c2c3ccc3-f224-4fb0-ac92-c18565ab8fbd",
   "metadata": {},
   "outputs": [
    {
     "data": {
      "text/plain": [
       "count    6.024543e+06\n",
       "mean     8.619578e+05\n",
       "std      2.933836e+06\n",
       "min      0.000000e+00\n",
       "25%      0.000000e+00\n",
       "50%      1.514600e+04\n",
       "75%      1.134380e+05\n",
       "max      4.381886e+07\n",
       "Name: oldbalanceOrg, dtype: float64"
      ]
     },
     "execution_count": 131,
     "metadata": {},
     "output_type": "execute_result"
    }
   ],
   "source": [
    "data.oldbalanceOrg.describe()"
   ]
  },
  {
   "cell_type": "code",
   "execution_count": 132,
   "id": "1e5dac6b-b395-4732-8d6b-dd328bd5fafa",
   "metadata": {},
   "outputs": [
    {
     "data": {
      "image/png": "[encoded data removed]",
      "text/plain": [
       "<Figure size 1000x700 with 1 Axes>"
      ]
     },
     "metadata": {},
     "output_type": "display_data"
    }
   ],
   "source": [
    "plt.figure(figsize = [10,7])\n",
    "plt.hist(data.oldbalanceOrg, bins = 30)\n",
    "plt.title('the old balance distribution')\n",
    "plt.show()"
   ]
  },
  {
   "cell_type": "code",
   "execution_count": 133,
   "id": "a468435b-2239-40db-bf41-d98eaba4f9f3",
   "metadata": {},
   "outputs": [
    {
     "data": {
      "image/png": "[encoded data removed]",
      "text/plain": [
       "<Figure size 1000x700 with 1 Axes>"
      ]
     },
     "metadata": {},
     "output_type": "display_data"
    }
   ],
   "source": [
    "plt.figure(figsize = [10,7])\n",
    "plt.plot(data.oldbalanceOrg)\n",
    "plt.show()"
   ]
  },
  {
   "cell_type": "code",
   "execution_count": 134,
   "id": "cf293a0d-1df4-44a3-942e-65c35085fd91",
   "metadata": {},
   "outputs": [
    {
     "data": {
      "text/html": [
       "<div>\n",
       "<style scoped>\n",
       "    .dataframe tbody tr th:only-of-type {\n",
       "        vertical-align: middle;\n",
       "    }\n",
       "\n",
       "    .dataframe tbody tr th {\n",
       "        vertical-align: top;\n",
       "    }\n",
       "\n",
       "    .dataframe thead th {\n",
       "        text-align: right;\n",
       "    }\n",
       "</style>\n",
       "<table border=\"1\" class=\"dataframe\">\n",
       "  <thead>\n",
       "    <tr style=\"text-align: right;\">\n",
       "      <th></th>\n",
       "      <th>step</th>\n",
       "      <th>type</th>\n",
       "      <th>amount</th>\n",
       "      <th>client_id</th>\n",
       "      <th>oldbalanceOrg</th>\n",
       "      <th>newbalanceOrig</th>\n",
       "      <th>nameDest</th>\n",
       "      <th>oldbalanceDest</th>\n",
       "      <th>newbalanceDest</th>\n",
       "      <th>isFraud</th>\n",
       "      <th>isFlaggedFraud</th>\n",
       "    </tr>\n",
       "  </thead>\n",
       "  <tbody>\n",
       "    <tr>\n",
       "      <th>4203639</th>\n",
       "      <td>305</td>\n",
       "      <td>CASH_OUT</td>\n",
       "      <td>132238.97</td>\n",
       "      <td>559275248</td>\n",
       "      <td>43818855.30</td>\n",
       "      <td>43686616.33</td>\n",
       "      <td>C1114436169</td>\n",
       "      <td>5327024.57</td>\n",
       "      <td>5459263.54</td>\n",
       "      <td>0</td>\n",
       "      <td>0</td>\n",
       "    </tr>\n",
       "    <tr>\n",
       "      <th>4203640</th>\n",
       "      <td>305</td>\n",
       "      <td>PAYMENT</td>\n",
       "      <td>12814.12</td>\n",
       "      <td>2080486364</td>\n",
       "      <td>43686616.33</td>\n",
       "      <td>43673802.21</td>\n",
       "      <td>M928977012</td>\n",
       "      <td>0.00</td>\n",
       "      <td>0.00</td>\n",
       "      <td>0</td>\n",
       "      <td>0</td>\n",
       "    </tr>\n",
       "    <tr>\n",
       "      <th>4180200</th>\n",
       "      <td>304</td>\n",
       "      <td>PAYMENT</td>\n",
       "      <td>8301.85</td>\n",
       "      <td>1568160039</td>\n",
       "      <td>41699144.49</td>\n",
       "      <td>41690842.64</td>\n",
       "      <td>M1906748245</td>\n",
       "      <td>0.00</td>\n",
       "      <td>0.00</td>\n",
       "      <td>0</td>\n",
       "      <td>0</td>\n",
       "    </tr>\n",
       "    <tr>\n",
       "      <th>4180201</th>\n",
       "      <td>304</td>\n",
       "      <td>CASH_OUT</td>\n",
       "      <td>258483.17</td>\n",
       "      <td>438977024</td>\n",
       "      <td>41690842.64</td>\n",
       "      <td>41432359.46</td>\n",
       "      <td>C1162702437</td>\n",
       "      <td>6449276.06</td>\n",
       "      <td>6707759.23</td>\n",
       "      <td>0</td>\n",
       "      <td>0</td>\n",
       "    </tr>\n",
       "    <tr>\n",
       "      <th>100307</th>\n",
       "      <td>10</td>\n",
       "      <td>CASH_IN</td>\n",
       "      <td>6808.99</td>\n",
       "      <td>1841909664</td>\n",
       "      <td>38939424.03</td>\n",
       "      <td>38946233.02</td>\n",
       "      <td>C734236179</td>\n",
       "      <td>97006.33</td>\n",
       "      <td>90197.34</td>\n",
       "      <td>0</td>\n",
       "      <td>0</td>\n",
       "    </tr>\n",
       "    <tr>\n",
       "      <th>100306</th>\n",
       "      <td>10</td>\n",
       "      <td>CASH_IN</td>\n",
       "      <td>376022.62</td>\n",
       "      <td>1450387949</td>\n",
       "      <td>38563401.41</td>\n",
       "      <td>38939424.03</td>\n",
       "      <td>C1050374066</td>\n",
       "      <td>1812980.49</td>\n",
       "      <td>1720832.30</td>\n",
       "      <td>0</td>\n",
       "      <td>0</td>\n",
       "    </tr>\n",
       "    <tr>\n",
       "      <th>100305</th>\n",
       "      <td>10</td>\n",
       "      <td>CASH_IN</td>\n",
       "      <td>121569.82</td>\n",
       "      <td>1576842193</td>\n",
       "      <td>38441831.60</td>\n",
       "      <td>38563401.41</td>\n",
       "      <td>C1283626649</td>\n",
       "      <td>304887.13</td>\n",
       "      <td>263945.32</td>\n",
       "      <td>0</td>\n",
       "      <td>0</td>\n",
       "    </tr>\n",
       "    <tr>\n",
       "      <th>100304</th>\n",
       "      <td>10</td>\n",
       "      <td>CASH_IN</td>\n",
       "      <td>77083.57</td>\n",
       "      <td>1040382471</td>\n",
       "      <td>38364748.02</td>\n",
       "      <td>38441831.60</td>\n",
       "      <td>C1940815076</td>\n",
       "      <td>180735.97</td>\n",
       "      <td>103652.40</td>\n",
       "      <td>0</td>\n",
       "      <td>0</td>\n",
       "    </tr>\n",
       "    <tr>\n",
       "      <th>100303</th>\n",
       "      <td>10</td>\n",
       "      <td>CASH_IN</td>\n",
       "      <td>105150.78</td>\n",
       "      <td>1273896430</td>\n",
       "      <td>38259597.25</td>\n",
       "      <td>38364748.02</td>\n",
       "      <td>C1142840636</td>\n",
       "      <td>545669.97</td>\n",
       "      <td>25148.24</td>\n",
       "      <td>0</td>\n",
       "      <td>0</td>\n",
       "    </tr>\n",
       "    <tr>\n",
       "      <th>100302</th>\n",
       "      <td>10</td>\n",
       "      <td>CASH_IN</td>\n",
       "      <td>92897.18</td>\n",
       "      <td>1319675286</td>\n",
       "      <td>38166700.07</td>\n",
       "      <td>38259597.25</td>\n",
       "      <td>C734480558</td>\n",
       "      <td>98196.34</td>\n",
       "      <td>5299.16</td>\n",
       "      <td>0</td>\n",
       "      <td>0</td>\n",
       "    </tr>\n",
       "    <tr>\n",
       "      <th>100301</th>\n",
       "      <td>10</td>\n",
       "      <td>CASH_IN</td>\n",
       "      <td>216606.82</td>\n",
       "      <td>1548217173</td>\n",
       "      <td>37950093.25</td>\n",
       "      <td>38166700.07</td>\n",
       "      <td>C757493898</td>\n",
       "      <td>2343273.84</td>\n",
       "      <td>2694493.70</td>\n",
       "      <td>0</td>\n",
       "      <td>0</td>\n",
       "    </tr>\n",
       "    <tr>\n",
       "      <th>100300</th>\n",
       "      <td>10</td>\n",
       "      <td>CASH_IN</td>\n",
       "      <td>30276.77</td>\n",
       "      <td>1114046451</td>\n",
       "      <td>37919816.48</td>\n",
       "      <td>37950093.25</td>\n",
       "      <td>C1903512796</td>\n",
       "      <td>189879.48</td>\n",
       "      <td>126545.07</td>\n",
       "      <td>0</td>\n",
       "      <td>0</td>\n",
       "    </tr>\n",
       "    <tr>\n",
       "      <th>100299</th>\n",
       "      <td>10</td>\n",
       "      <td>CASH_IN</td>\n",
       "      <td>381811.59</td>\n",
       "      <td>697666271</td>\n",
       "      <td>37538004.89</td>\n",
       "      <td>37919816.48</td>\n",
       "      <td>C793460750</td>\n",
       "      <td>1582183.51</td>\n",
       "      <td>1553511.96</td>\n",
       "      <td>0</td>\n",
       "      <td>0</td>\n",
       "    </tr>\n",
       "    <tr>\n",
       "      <th>100298</th>\n",
       "      <td>10</td>\n",
       "      <td>CASH_IN</td>\n",
       "      <td>240542.27</td>\n",
       "      <td>1677602915</td>\n",
       "      <td>37297462.62</td>\n",
       "      <td>37538004.89</td>\n",
       "      <td>C1201831265</td>\n",
       "      <td>927861.45</td>\n",
       "      <td>764522.80</td>\n",
       "      <td>0</td>\n",
       "      <td>0</td>\n",
       "    </tr>\n",
       "    <tr>\n",
       "      <th>100296</th>\n",
       "      <td>10</td>\n",
       "      <td>CASH_IN</td>\n",
       "      <td>310949.65</td>\n",
       "      <td>291461366</td>\n",
       "      <td>36365351.05</td>\n",
       "      <td>36676300.71</td>\n",
       "      <td>C590624787</td>\n",
       "      <td>935920.50</td>\n",
       "      <td>376878.36</td>\n",
       "      <td>0</td>\n",
       "      <td>0</td>\n",
       "    </tr>\n",
       "    <tr>\n",
       "      <th>100295</th>\n",
       "      <td>10</td>\n",
       "      <td>CASH_IN</td>\n",
       "      <td>180633.56</td>\n",
       "      <td>328939348</td>\n",
       "      <td>36184717.49</td>\n",
       "      <td>36365351.05</td>\n",
       "      <td>C1501798121</td>\n",
       "      <td>380556.48</td>\n",
       "      <td>2043047.61</td>\n",
       "      <td>0</td>\n",
       "      <td>0</td>\n",
       "    </tr>\n",
       "    <tr>\n",
       "      <th>100294</th>\n",
       "      <td>10</td>\n",
       "      <td>CASH_IN</td>\n",
       "      <td>34874.43</td>\n",
       "      <td>510235666</td>\n",
       "      <td>36149843.06</td>\n",
       "      <td>36184717.49</td>\n",
       "      <td>C384735911</td>\n",
       "      <td>2267808.59</td>\n",
       "      <td>2986599.04</td>\n",
       "      <td>0</td>\n",
       "      <td>0</td>\n",
       "    </tr>\n",
       "    <tr>\n",
       "      <th>100293</th>\n",
       "      <td>10</td>\n",
       "      <td>CASH_IN</td>\n",
       "      <td>257404.12</td>\n",
       "      <td>445072303</td>\n",
       "      <td>35892438.93</td>\n",
       "      <td>36149843.06</td>\n",
       "      <td>C2012808675</td>\n",
       "      <td>1773724.07</td>\n",
       "      <td>1635321.98</td>\n",
       "      <td>0</td>\n",
       "      <td>0</td>\n",
       "    </tr>\n",
       "    <tr>\n",
       "      <th>100292</th>\n",
       "      <td>10</td>\n",
       "      <td>CASH_IN</td>\n",
       "      <td>136727.29</td>\n",
       "      <td>1839065962</td>\n",
       "      <td>35755711.64</td>\n",
       "      <td>35892438.93</td>\n",
       "      <td>C1606145069</td>\n",
       "      <td>1403795.36</td>\n",
       "      <td>1816751.51</td>\n",
       "      <td>0</td>\n",
       "      <td>0</td>\n",
       "    </tr>\n",
       "    <tr>\n",
       "      <th>100291</th>\n",
       "      <td>10</td>\n",
       "      <td>CASH_IN</td>\n",
       "      <td>379908.51</td>\n",
       "      <td>109146052</td>\n",
       "      <td>35375803.13</td>\n",
       "      <td>35755711.64</td>\n",
       "      <td>C1304046855</td>\n",
       "      <td>1501429.06</td>\n",
       "      <td>1121520.55</td>\n",
       "      <td>0</td>\n",
       "      <td>0</td>\n",
       "    </tr>\n",
       "  </tbody>\n",
       "</table>\n",
       "</div>"
      ],
      "text/plain": [
       "         step      type     amount   client_id  oldbalanceOrg  newbalanceOrig  \\\n",
       "4203639   305  CASH_OUT  132238.97   559275248    43818855.30     43686616.33   \n",
       "4203640   305   PAYMENT   12814.12  2080486364    43686616.33     43673802.21   \n",
       "4180200   304   PAYMENT    8301.85  1568160039    41699144.49     41690842.64   \n",
       "4180201   304  CASH_OUT  258483.17   438977024    41690842.64     41432359.46   \n",
       "100307     10   CASH_IN    6808.99  1841909664    38939424.03     38946233.02   \n",
       "100306     10   CASH_IN  376022.62  1450387949    38563401.41     38939424.03   \n",
       "100305     10   CASH_IN  121569.82  1576842193    38441831.60     38563401.41   \n",
       "100304     10   CASH_IN   77083.57  1040382471    38364748.02     38441831.60   \n",
       "100303     10   CASH_IN  105150.78  1273896430    38259597.25     38364748.02   \n",
       "100302     10   CASH_IN   92897.18  1319675286    38166700.07     38259597.25   \n",
       "100301     10   CASH_IN  216606.82  1548217173    37950093.25     38166700.07   \n",
       "100300     10   CASH_IN   30276.77  1114046451    37919816.48     37950093.25   \n",
       "100299     10   CASH_IN  381811.59   697666271    37538004.89     37919816.48   \n",
       "100298     10   CASH_IN  240542.27  1677602915    37297462.62     37538004.89   \n",
       "100296     10   CASH_IN  310949.65   291461366    36365351.05     36676300.71   \n",
       "100295     10   CASH_IN  180633.56   328939348    36184717.49     36365351.05   \n",
       "100294     10   CASH_IN   34874.43   510235666    36149843.06     36184717.49   \n",
       "100293     10   CASH_IN  257404.12   445072303    35892438.93     36149843.06   \n",
       "100292     10   CASH_IN  136727.29  1839065962    35755711.64     35892438.93   \n",
       "100291     10   CASH_IN  379908.51   109146052    35375803.13     35755711.64   \n",
       "\n",
       "            nameDest  oldbalanceDest  newbalanceDest  isFraud  isFlaggedFraud  \n",
       "4203639  C1114436169      5327024.57      5459263.54        0               0  \n",
       "4203640   M928977012            0.00            0.00        0               0  \n",
       "4180200  M1906748245            0.00            0.00        0               0  \n",
       "4180201  C1162702437      6449276.06      6707759.23        0               0  \n",
       "100307    C734236179        97006.33        90197.34        0               0  \n",
       "100306   C1050374066      1812980.49      1720832.30        0               0  \n",
       "100305   C1283626649       304887.13       263945.32        0               0  \n",
       "100304   C1940815076       180735.97       103652.40        0               0  \n",
       "100303   C1142840636       545669.97        25148.24        0               0  \n",
       "100302    C734480558        98196.34         5299.16        0               0  \n",
       "100301    C757493898      2343273.84      2694493.70        0               0  \n",
       "100300   C1903512796       189879.48       126545.07        0               0  \n",
       "100299    C793460750      1582183.51      1553511.96        0               0  \n",
       "100298   C1201831265       927861.45       764522.80        0               0  \n",
       "100296    C590624787       935920.50       376878.36        0               0  \n",
       "100295   C1501798121       380556.48      2043047.61        0               0  \n",
       "100294    C384735911      2267808.59      2986599.04        0               0  \n",
       "100293   C2012808675      1773724.07      1635321.98        0               0  \n",
       "100292   C1606145069      1403795.36      1816751.51        0               0  \n",
       "100291   C1304046855      1501429.06      1121520.55        0               0  "
      ]
     },
     "execution_count": 134,
     "metadata": {},
     "output_type": "execute_result"
    }
   ],
   "source": [
    "data.nlargest(20, 'oldbalanceOrg')"
   ]
  },
  {
   "cell_type": "code",
   "execution_count": 135,
   "id": "074ea2d0-c7d5-4314-b348-3f2365e13237",
   "metadata": {},
   "outputs": [
    {
     "data": {
      "image/png": "[encoded data removed]",
      "text/plain": [
       "<Figure size 1000x700 with 1 Axes>"
      ]
     },
     "metadata": {},
     "output_type": "display_data"
    }
   ],
   "source": [
    "plt.figure(figsize = [10,7])\n",
    "sb.barplot(x = data.nlargest(10, 'oldbalanceOrg').client_id, y = data.nlargest(10, 'oldbalanceOrg').oldbalanceOrg)\n",
    "plt.xticks(rotation = 17.5)\n",
    "plt.title('the largest 10 balances before transaction')\n",
    "plt.xlabel('Client Id')\n",
    "plt.ylabel('The Balance')\n",
    "plt.show()"
   ]
  },
  {
   "cell_type": "code",
   "execution_count": 136,
   "id": "6c0ed018-c87a-4e7d-9b61-18ce912405c2",
   "metadata": {},
   "outputs": [
    {
     "data": {
      "text/plain": [
       "0          160296.36\n",
       "1           19384.72\n",
       "2               0.00\n",
       "3               0.00\n",
       "4           29885.86\n",
       "             ...    \n",
       "6362609         0.00\n",
       "6362610         0.00\n",
       "6362611         0.00\n",
       "6362614         0.00\n",
       "6362615         0.00\n",
       "Name: newbalanceOrig, Length: 6024543, dtype: float64"
      ]
     },
     "execution_count": 136,
     "metadata": {},
     "output_type": "execute_result"
    }
   ],
   "source": [
    "data.newbalanceOrig"
   ]
  },
  {
   "cell_type": "code",
   "execution_count": 137,
   "id": "8622f8b2-78ee-4eac-971e-7aa113e44f8f",
   "metadata": {},
   "outputs": [
    {
     "data": {
      "text/plain": [
       "count    6.024543e+06\n",
       "mean     8.859128e+05\n",
       "std      2.969976e+06\n",
       "min      0.000000e+00\n",
       "25%      0.000000e+00\n",
       "50%      0.000000e+00\n",
       "75%      1.602874e+05\n",
       "max      4.368662e+07\n",
       "Name: newbalanceOrig, dtype: float64"
      ]
     },
     "execution_count": 137,
     "metadata": {},
     "output_type": "execute_result"
    }
   ],
   "source": [
    "data.newbalanceOrig.describe()"
   ]
  },
  {
   "cell_type": "code",
   "execution_count": 138,
   "id": "cfae02b0-b777-48a7-883b-ad96c6b6afda",
   "metadata": {},
   "outputs": [
    {
     "data": {
      "image/png": "[encoded data removed]",
      "text/plain": [
       "<Figure size 1000x700 with 1 Axes>"
      ]
     },
     "metadata": {},
     "output_type": "display_data"
    }
   ],
   "source": [
    "plt.figure(figsize = [10,7])\n",
    "plt.hist(data.newbalanceOrig, bins = 30)\n",
    "plt.title('the  balance after transaction distribution')\n",
    "plt.show()"
   ]
  },
  {
   "cell_type": "code",
   "execution_count": 139,
   "id": "4f65458b-fca7-40ea-978c-bceb910a2790",
   "metadata": {},
   "outputs": [
    {
     "data": {
      "image/png": "[encoded data removed]",
      "text/plain": [
       "<Figure size 1000x700 with 1 Axes>"
      ]
     },
     "metadata": {},
     "output_type": "display_data"
    }
   ],
   "source": [
    "plt.figure(figsize = [10,7])\n",
    "plt.plot(data.newbalanceOrig)\n",
    "plt.show()"
   ]
  },
  {
   "cell_type": "code",
   "execution_count": 140,
   "id": "37cede91-0402-4a27-8cb9-9533b8f8150c",
   "metadata": {},
   "outputs": [
    {
     "data": {
      "text/html": [
       "<div>\n",
       "<style scoped>\n",
       "    .dataframe tbody tr th:only-of-type {\n",
       "        vertical-align: middle;\n",
       "    }\n",
       "\n",
       "    .dataframe tbody tr th {\n",
       "        vertical-align: top;\n",
       "    }\n",
       "\n",
       "    .dataframe thead th {\n",
       "        text-align: right;\n",
       "    }\n",
       "</style>\n",
       "<table border=\"1\" class=\"dataframe\">\n",
       "  <thead>\n",
       "    <tr style=\"text-align: right;\">\n",
       "      <th></th>\n",
       "      <th>step</th>\n",
       "      <th>type</th>\n",
       "      <th>amount</th>\n",
       "      <th>client_id</th>\n",
       "      <th>oldbalanceOrg</th>\n",
       "      <th>newbalanceOrig</th>\n",
       "      <th>nameDest</th>\n",
       "      <th>oldbalanceDest</th>\n",
       "      <th>newbalanceDest</th>\n",
       "      <th>isFraud</th>\n",
       "      <th>isFlaggedFraud</th>\n",
       "    </tr>\n",
       "  </thead>\n",
       "  <tbody>\n",
       "    <tr>\n",
       "      <th>4203639</th>\n",
       "      <td>305</td>\n",
       "      <td>CASH_OUT</td>\n",
       "      <td>132238.97</td>\n",
       "      <td>559275248</td>\n",
       "      <td>43818855.30</td>\n",
       "      <td>43686616.33</td>\n",
       "      <td>C1114436169</td>\n",
       "      <td>5327024.57</td>\n",
       "      <td>5459263.54</td>\n",
       "      <td>0</td>\n",
       "      <td>0</td>\n",
       "    </tr>\n",
       "    <tr>\n",
       "      <th>4203640</th>\n",
       "      <td>305</td>\n",
       "      <td>PAYMENT</td>\n",
       "      <td>12814.12</td>\n",
       "      <td>2080486364</td>\n",
       "      <td>43686616.33</td>\n",
       "      <td>43673802.21</td>\n",
       "      <td>M928977012</td>\n",
       "      <td>0.00</td>\n",
       "      <td>0.00</td>\n",
       "      <td>0</td>\n",
       "      <td>0</td>\n",
       "    </tr>\n",
       "    <tr>\n",
       "      <th>4180200</th>\n",
       "      <td>304</td>\n",
       "      <td>PAYMENT</td>\n",
       "      <td>8301.85</td>\n",
       "      <td>1568160039</td>\n",
       "      <td>41699144.49</td>\n",
       "      <td>41690842.64</td>\n",
       "      <td>M1906748245</td>\n",
       "      <td>0.00</td>\n",
       "      <td>0.00</td>\n",
       "      <td>0</td>\n",
       "      <td>0</td>\n",
       "    </tr>\n",
       "    <tr>\n",
       "      <th>4180201</th>\n",
       "      <td>304</td>\n",
       "      <td>CASH_OUT</td>\n",
       "      <td>258483.17</td>\n",
       "      <td>438977024</td>\n",
       "      <td>41690842.64</td>\n",
       "      <td>41432359.46</td>\n",
       "      <td>C1162702437</td>\n",
       "      <td>6449276.06</td>\n",
       "      <td>6707759.23</td>\n",
       "      <td>0</td>\n",
       "      <td>0</td>\n",
       "    </tr>\n",
       "    <tr>\n",
       "      <th>100307</th>\n",
       "      <td>10</td>\n",
       "      <td>CASH_IN</td>\n",
       "      <td>6808.99</td>\n",
       "      <td>1841909664</td>\n",
       "      <td>38939424.03</td>\n",
       "      <td>38946233.02</td>\n",
       "      <td>C734236179</td>\n",
       "      <td>97006.33</td>\n",
       "      <td>90197.34</td>\n",
       "      <td>0</td>\n",
       "      <td>0</td>\n",
       "    </tr>\n",
       "    <tr>\n",
       "      <th>100306</th>\n",
       "      <td>10</td>\n",
       "      <td>CASH_IN</td>\n",
       "      <td>376022.62</td>\n",
       "      <td>1450387949</td>\n",
       "      <td>38563401.41</td>\n",
       "      <td>38939424.03</td>\n",
       "      <td>C1050374066</td>\n",
       "      <td>1812980.49</td>\n",
       "      <td>1720832.30</td>\n",
       "      <td>0</td>\n",
       "      <td>0</td>\n",
       "    </tr>\n",
       "    <tr>\n",
       "      <th>100305</th>\n",
       "      <td>10</td>\n",
       "      <td>CASH_IN</td>\n",
       "      <td>121569.82</td>\n",
       "      <td>1576842193</td>\n",
       "      <td>38441831.60</td>\n",
       "      <td>38563401.41</td>\n",
       "      <td>C1283626649</td>\n",
       "      <td>304887.13</td>\n",
       "      <td>263945.32</td>\n",
       "      <td>0</td>\n",
       "      <td>0</td>\n",
       "    </tr>\n",
       "    <tr>\n",
       "      <th>100304</th>\n",
       "      <td>10</td>\n",
       "      <td>CASH_IN</td>\n",
       "      <td>77083.57</td>\n",
       "      <td>1040382471</td>\n",
       "      <td>38364748.02</td>\n",
       "      <td>38441831.60</td>\n",
       "      <td>C1940815076</td>\n",
       "      <td>180735.97</td>\n",
       "      <td>103652.40</td>\n",
       "      <td>0</td>\n",
       "      <td>0</td>\n",
       "    </tr>\n",
       "    <tr>\n",
       "      <th>100303</th>\n",
       "      <td>10</td>\n",
       "      <td>CASH_IN</td>\n",
       "      <td>105150.78</td>\n",
       "      <td>1273896430</td>\n",
       "      <td>38259597.25</td>\n",
       "      <td>38364748.02</td>\n",
       "      <td>C1142840636</td>\n",
       "      <td>545669.97</td>\n",
       "      <td>25148.24</td>\n",
       "      <td>0</td>\n",
       "      <td>0</td>\n",
       "    </tr>\n",
       "    <tr>\n",
       "      <th>100302</th>\n",
       "      <td>10</td>\n",
       "      <td>CASH_IN</td>\n",
       "      <td>92897.18</td>\n",
       "      <td>1319675286</td>\n",
       "      <td>38166700.07</td>\n",
       "      <td>38259597.25</td>\n",
       "      <td>C734480558</td>\n",
       "      <td>98196.34</td>\n",
       "      <td>5299.16</td>\n",
       "      <td>0</td>\n",
       "      <td>0</td>\n",
       "    </tr>\n",
       "    <tr>\n",
       "      <th>100301</th>\n",
       "      <td>10</td>\n",
       "      <td>CASH_IN</td>\n",
       "      <td>216606.82</td>\n",
       "      <td>1548217173</td>\n",
       "      <td>37950093.25</td>\n",
       "      <td>38166700.07</td>\n",
       "      <td>C757493898</td>\n",
       "      <td>2343273.84</td>\n",
       "      <td>2694493.70</td>\n",
       "      <td>0</td>\n",
       "      <td>0</td>\n",
       "    </tr>\n",
       "    <tr>\n",
       "      <th>100300</th>\n",
       "      <td>10</td>\n",
       "      <td>CASH_IN</td>\n",
       "      <td>30276.77</td>\n",
       "      <td>1114046451</td>\n",
       "      <td>37919816.48</td>\n",
       "      <td>37950093.25</td>\n",
       "      <td>C1903512796</td>\n",
       "      <td>189879.48</td>\n",
       "      <td>126545.07</td>\n",
       "      <td>0</td>\n",
       "      <td>0</td>\n",
       "    </tr>\n",
       "    <tr>\n",
       "      <th>100299</th>\n",
       "      <td>10</td>\n",
       "      <td>CASH_IN</td>\n",
       "      <td>381811.59</td>\n",
       "      <td>697666271</td>\n",
       "      <td>37538004.89</td>\n",
       "      <td>37919816.48</td>\n",
       "      <td>C793460750</td>\n",
       "      <td>1582183.51</td>\n",
       "      <td>1553511.96</td>\n",
       "      <td>0</td>\n",
       "      <td>0</td>\n",
       "    </tr>\n",
       "    <tr>\n",
       "      <th>100298</th>\n",
       "      <td>10</td>\n",
       "      <td>CASH_IN</td>\n",
       "      <td>240542.27</td>\n",
       "      <td>1677602915</td>\n",
       "      <td>37297462.62</td>\n",
       "      <td>37538004.89</td>\n",
       "      <td>C1201831265</td>\n",
       "      <td>927861.45</td>\n",
       "      <td>764522.80</td>\n",
       "      <td>0</td>\n",
       "      <td>0</td>\n",
       "    </tr>\n",
       "    <tr>\n",
       "      <th>100296</th>\n",
       "      <td>10</td>\n",
       "      <td>CASH_IN</td>\n",
       "      <td>310949.65</td>\n",
       "      <td>291461366</td>\n",
       "      <td>36365351.05</td>\n",
       "      <td>36676300.71</td>\n",
       "      <td>C590624787</td>\n",
       "      <td>935920.50</td>\n",
       "      <td>376878.36</td>\n",
       "      <td>0</td>\n",
       "      <td>0</td>\n",
       "    </tr>\n",
       "    <tr>\n",
       "      <th>100295</th>\n",
       "      <td>10</td>\n",
       "      <td>CASH_IN</td>\n",
       "      <td>180633.56</td>\n",
       "      <td>328939348</td>\n",
       "      <td>36184717.49</td>\n",
       "      <td>36365351.05</td>\n",
       "      <td>C1501798121</td>\n",
       "      <td>380556.48</td>\n",
       "      <td>2043047.61</td>\n",
       "      <td>0</td>\n",
       "      <td>0</td>\n",
       "    </tr>\n",
       "    <tr>\n",
       "      <th>100294</th>\n",
       "      <td>10</td>\n",
       "      <td>CASH_IN</td>\n",
       "      <td>34874.43</td>\n",
       "      <td>510235666</td>\n",
       "      <td>36149843.06</td>\n",
       "      <td>36184717.49</td>\n",
       "      <td>C384735911</td>\n",
       "      <td>2267808.59</td>\n",
       "      <td>2986599.04</td>\n",
       "      <td>0</td>\n",
       "      <td>0</td>\n",
       "    </tr>\n",
       "    <tr>\n",
       "      <th>100293</th>\n",
       "      <td>10</td>\n",
       "      <td>CASH_IN</td>\n",
       "      <td>257404.12</td>\n",
       "      <td>445072303</td>\n",
       "      <td>35892438.93</td>\n",
       "      <td>36149843.06</td>\n",
       "      <td>C2012808675</td>\n",
       "      <td>1773724.07</td>\n",
       "      <td>1635321.98</td>\n",
       "      <td>0</td>\n",
       "      <td>0</td>\n",
       "    </tr>\n",
       "    <tr>\n",
       "      <th>100292</th>\n",
       "      <td>10</td>\n",
       "      <td>CASH_IN</td>\n",
       "      <td>136727.29</td>\n",
       "      <td>1839065962</td>\n",
       "      <td>35755711.64</td>\n",
       "      <td>35892438.93</td>\n",
       "      <td>C1606145069</td>\n",
       "      <td>1403795.36</td>\n",
       "      <td>1816751.51</td>\n",
       "      <td>0</td>\n",
       "      <td>0</td>\n",
       "    </tr>\n",
       "    <tr>\n",
       "      <th>100291</th>\n",
       "      <td>10</td>\n",
       "      <td>CASH_IN</td>\n",
       "      <td>379908.51</td>\n",
       "      <td>109146052</td>\n",
       "      <td>35375803.13</td>\n",
       "      <td>35755711.64</td>\n",
       "      <td>C1304046855</td>\n",
       "      <td>1501429.06</td>\n",
       "      <td>1121520.55</td>\n",
       "      <td>0</td>\n",
       "      <td>0</td>\n",
       "    </tr>\n",
       "  </tbody>\n",
       "</table>\n",
       "</div>"
      ],
      "text/plain": [
       "         step      type     amount   client_id  oldbalanceOrg  newbalanceOrig  \\\n",
       "4203639   305  CASH_OUT  132238.97   559275248    43818855.30     43686616.33   \n",
       "4203640   305   PAYMENT   12814.12  2080486364    43686616.33     43673802.21   \n",
       "4180200   304   PAYMENT    8301.85  1568160039    41699144.49     41690842.64   \n",
       "4180201   304  CASH_OUT  258483.17   438977024    41690842.64     41432359.46   \n",
       "100307     10   CASH_IN    6808.99  1841909664    38939424.03     38946233.02   \n",
       "100306     10   CASH_IN  376022.62  1450387949    38563401.41     38939424.03   \n",
       "100305     10   CASH_IN  121569.82  1576842193    38441831.60     38563401.41   \n",
       "100304     10   CASH_IN   77083.57  1040382471    38364748.02     38441831.60   \n",
       "100303     10   CASH_IN  105150.78  1273896430    38259597.25     38364748.02   \n",
       "100302     10   CASH_IN   92897.18  1319675286    38166700.07     38259597.25   \n",
       "100301     10   CASH_IN  216606.82  1548217173    37950093.25     38166700.07   \n",
       "100300     10   CASH_IN   30276.77  1114046451    37919816.48     37950093.25   \n",
       "100299     10   CASH_IN  381811.59   697666271    37538004.89     37919816.48   \n",
       "100298     10   CASH_IN  240542.27  1677602915    37297462.62     37538004.89   \n",
       "100296     10   CASH_IN  310949.65   291461366    36365351.05     36676300.71   \n",
       "100295     10   CASH_IN  180633.56   328939348    36184717.49     36365351.05   \n",
       "100294     10   CASH_IN   34874.43   510235666    36149843.06     36184717.49   \n",
       "100293     10   CASH_IN  257404.12   445072303    35892438.93     36149843.06   \n",
       "100292     10   CASH_IN  136727.29  1839065962    35755711.64     35892438.93   \n",
       "100291     10   CASH_IN  379908.51   109146052    35375803.13     35755711.64   \n",
       "\n",
       "            nameDest  oldbalanceDest  newbalanceDest  isFraud  isFlaggedFraud  \n",
       "4203639  C1114436169      5327024.57      5459263.54        0               0  \n",
       "4203640   M928977012            0.00            0.00        0               0  \n",
       "4180200  M1906748245            0.00            0.00        0               0  \n",
       "4180201  C1162702437      6449276.06      6707759.23        0               0  \n",
       "100307    C734236179        97006.33        90197.34        0               0  \n",
       "100306   C1050374066      1812980.49      1720832.30        0               0  \n",
       "100305   C1283626649       304887.13       263945.32        0               0  \n",
       "100304   C1940815076       180735.97       103652.40        0               0  \n",
       "100303   C1142840636       545669.97        25148.24        0               0  \n",
       "100302    C734480558        98196.34         5299.16        0               0  \n",
       "100301    C757493898      2343273.84      2694493.70        0               0  \n",
       "100300   C1903512796       189879.48       126545.07        0               0  \n",
       "100299    C793460750      1582183.51      1553511.96        0               0  \n",
       "100298   C1201831265       927861.45       764522.80        0               0  \n",
       "100296    C590624787       935920.50       376878.36        0               0  \n",
       "100295   C1501798121       380556.48      2043047.61        0               0  \n",
       "100294    C384735911      2267808.59      2986599.04        0               0  \n",
       "100293   C2012808675      1773724.07      1635321.98        0               0  \n",
       "100292   C1606145069      1403795.36      1816751.51        0               0  \n",
       "100291   C1304046855      1501429.06      1121520.55        0               0  "
      ]
     },
     "execution_count": 140,
     "metadata": {},
     "output_type": "execute_result"
    }
   ],
   "source": [
    "data.nlargest(20, 'newbalanceOrig')"
   ]
  },
  {
   "cell_type": "code",
   "execution_count": 141,
   "id": "63f8190f-2584-4b88-89d5-32b65ef33275",
   "metadata": {},
   "outputs": [
    {
     "data": {
      "image/png": "[encoded data removed]",
      "text/plain": [
       "<Figure size 1000x700 with 1 Axes>"
      ]
     },
     "metadata": {},
     "output_type": "display_data"
    }
   ],
   "source": [
    "plt.figure(figsize = [10,7])\n",
    "sb.barplot(x = data.nlargest(10, 'newbalanceOrig').client_id, y = data.nlargest(10, 'newbalanceOrig').newbalanceOrig)\n",
    "plt.xticks(rotation = 17.5)\n",
    "plt.title('the largest 10 balances after transaction')\n",
    "plt.xlabel('Client Id')\n",
    "plt.ylabel('The Balance')\n",
    "plt.show()"
   ]
  },
  {
   "cell_type": "code",
   "execution_count": 142,
   "id": "c58d1b03-a095-46d7-a53a-c99141963135",
   "metadata": {},
   "outputs": [],
   "source": [
    "num_of_samples = 10 / data.shape[0]"
   ]
  },
  {
   "cell_type": "code",
   "execution_count": 143,
   "id": "79d0841d-1f87-45f9-9c67-217838f54eb6",
   "metadata": {},
   "outputs": [
    {
     "data": {
      "text/plain": [
       "6024543"
      ]
     },
     "execution_count": 143,
     "metadata": {},
     "output_type": "execute_result"
    }
   ],
   "source": [
    "data.shape[0]"
   ]
  },
  {
   "cell_type": "code",
   "execution_count": 144,
   "id": "e9247d86-dbea-4cc2-88a2-004c0efc072f",
   "metadata": {},
   "outputs": [],
   "source": [
    "samp1 = data.sample(n = 600000)"
   ]
  },
  {
   "cell_type": "code",
   "execution_count": 145,
   "id": "d0a58d71-c381-499a-9879-428917768d32",
   "metadata": {},
   "outputs": [
    {
     "data": {
      "text/html": [
       "<div>\n",
       "<style scoped>\n",
       "    .dataframe tbody tr th:only-of-type {\n",
       "        vertical-align: middle;\n",
       "    }\n",
       "\n",
       "    .dataframe tbody tr th {\n",
       "        vertical-align: top;\n",
       "    }\n",
       "\n",
       "    .dataframe thead th {\n",
       "        text-align: right;\n",
       "    }\n",
       "</style>\n",
       "<table border=\"1\" class=\"dataframe\">\n",
       "  <thead>\n",
       "    <tr style=\"text-align: right;\">\n",
       "      <th></th>\n",
       "      <th>step</th>\n",
       "      <th>type</th>\n",
       "      <th>amount</th>\n",
       "      <th>client_id</th>\n",
       "      <th>oldbalanceOrg</th>\n",
       "      <th>newbalanceOrig</th>\n",
       "      <th>nameDest</th>\n",
       "      <th>oldbalanceDest</th>\n",
       "      <th>newbalanceDest</th>\n",
       "      <th>isFraud</th>\n",
       "      <th>isFlaggedFraud</th>\n",
       "    </tr>\n",
       "  </thead>\n",
       "  <tbody>\n",
       "    <tr>\n",
       "      <th>4814302</th>\n",
       "      <td>346</td>\n",
       "      <td>CASH_IN</td>\n",
       "      <td>24784.27</td>\n",
       "      <td>1185856227</td>\n",
       "      <td>37657.00</td>\n",
       "      <td>62441.27</td>\n",
       "      <td>C1960515353</td>\n",
       "      <td>230005.67</td>\n",
       "      <td>205221.41</td>\n",
       "      <td>0</td>\n",
       "      <td>0</td>\n",
       "    </tr>\n",
       "    <tr>\n",
       "      <th>1650999</th>\n",
       "      <td>158</td>\n",
       "      <td>CASH_OUT</td>\n",
       "      <td>203699.00</td>\n",
       "      <td>665964920</td>\n",
       "      <td>0.00</td>\n",
       "      <td>0.00</td>\n",
       "      <td>C1774959967</td>\n",
       "      <td>1045262.71</td>\n",
       "      <td>1248961.71</td>\n",
       "      <td>0</td>\n",
       "      <td>0</td>\n",
       "    </tr>\n",
       "    <tr>\n",
       "      <th>4856855</th>\n",
       "      <td>348</td>\n",
       "      <td>CASH_IN</td>\n",
       "      <td>111790.19</td>\n",
       "      <td>1321127481</td>\n",
       "      <td>6542699.61</td>\n",
       "      <td>6654489.80</td>\n",
       "      <td>C555913543</td>\n",
       "      <td>399132.35</td>\n",
       "      <td>287342.16</td>\n",
       "      <td>0</td>\n",
       "      <td>0</td>\n",
       "    </tr>\n",
       "    <tr>\n",
       "      <th>3711887</th>\n",
       "      <td>277</td>\n",
       "      <td>CASH_IN</td>\n",
       "      <td>19670.93</td>\n",
       "      <td>409792284</td>\n",
       "      <td>5366264.26</td>\n",
       "      <td>5385935.19</td>\n",
       "      <td>C482039655</td>\n",
       "      <td>190871.11</td>\n",
       "      <td>171200.19</td>\n",
       "      <td>0</td>\n",
       "      <td>0</td>\n",
       "    </tr>\n",
       "    <tr>\n",
       "      <th>1708496</th>\n",
       "      <td>160</td>\n",
       "      <td>PAYMENT</td>\n",
       "      <td>31180.87</td>\n",
       "      <td>1831400339</td>\n",
       "      <td>91427.64</td>\n",
       "      <td>60246.78</td>\n",
       "      <td>M612918570</td>\n",
       "      <td>0.00</td>\n",
       "      <td>0.00</td>\n",
       "      <td>0</td>\n",
       "      <td>0</td>\n",
       "    </tr>\n",
       "    <tr>\n",
       "      <th>...</th>\n",
       "      <td>...</td>\n",
       "      <td>...</td>\n",
       "      <td>...</td>\n",
       "      <td>...</td>\n",
       "      <td>...</td>\n",
       "      <td>...</td>\n",
       "      <td>...</td>\n",
       "      <td>...</td>\n",
       "      <td>...</td>\n",
       "      <td>...</td>\n",
       "      <td>...</td>\n",
       "    </tr>\n",
       "    <tr>\n",
       "      <th>5180984</th>\n",
       "      <td>359</td>\n",
       "      <td>PAYMENT</td>\n",
       "      <td>1545.28</td>\n",
       "      <td>1303187374</td>\n",
       "      <td>0.00</td>\n",
       "      <td>0.00</td>\n",
       "      <td>M1174560183</td>\n",
       "      <td>0.00</td>\n",
       "      <td>0.00</td>\n",
       "      <td>0</td>\n",
       "      <td>0</td>\n",
       "    </tr>\n",
       "    <tr>\n",
       "      <th>5151257</th>\n",
       "      <td>357</td>\n",
       "      <td>CASH_IN</td>\n",
       "      <td>136642.30</td>\n",
       "      <td>1088596644</td>\n",
       "      <td>958542.74</td>\n",
       "      <td>1095185.04</td>\n",
       "      <td>C1547538538</td>\n",
       "      <td>2258750.81</td>\n",
       "      <td>2122108.50</td>\n",
       "      <td>0</td>\n",
       "      <td>0</td>\n",
       "    </tr>\n",
       "    <tr>\n",
       "      <th>797245</th>\n",
       "      <td>40</td>\n",
       "      <td>PAYMENT</td>\n",
       "      <td>1717.19</td>\n",
       "      <td>402061998</td>\n",
       "      <td>469459.47</td>\n",
       "      <td>467742.27</td>\n",
       "      <td>M1919960641</td>\n",
       "      <td>0.00</td>\n",
       "      <td>0.00</td>\n",
       "      <td>0</td>\n",
       "      <td>0</td>\n",
       "    </tr>\n",
       "    <tr>\n",
       "      <th>5634096</th>\n",
       "      <td>395</td>\n",
       "      <td>PAYMENT</td>\n",
       "      <td>23237.98</td>\n",
       "      <td>994610710</td>\n",
       "      <td>0.00</td>\n",
       "      <td>0.00</td>\n",
       "      <td>M375471249</td>\n",
       "      <td>0.00</td>\n",
       "      <td>0.00</td>\n",
       "      <td>0</td>\n",
       "      <td>0</td>\n",
       "    </tr>\n",
       "    <tr>\n",
       "      <th>4962168</th>\n",
       "      <td>351</td>\n",
       "      <td>CASH_IN</td>\n",
       "      <td>238449.07</td>\n",
       "      <td>1918656674</td>\n",
       "      <td>145343.53</td>\n",
       "      <td>383792.60</td>\n",
       "      <td>C863178348</td>\n",
       "      <td>486479.87</td>\n",
       "      <td>248030.80</td>\n",
       "      <td>0</td>\n",
       "      <td>0</td>\n",
       "    </tr>\n",
       "  </tbody>\n",
       "</table>\n",
       "<p>600000 rows × 11 columns</p>\n",
       "</div>"
      ],
      "text/plain": [
       "         step      type     amount   client_id  oldbalanceOrg  newbalanceOrig  \\\n",
       "4814302   346   CASH_IN   24784.27  1185856227       37657.00        62441.27   \n",
       "1650999   158  CASH_OUT  203699.00   665964920           0.00            0.00   \n",
       "4856855   348   CASH_IN  111790.19  1321127481     6542699.61      6654489.80   \n",
       "3711887   277   CASH_IN   19670.93   409792284     5366264.26      5385935.19   \n",
       "1708496   160   PAYMENT   31180.87  1831400339       91427.64        60246.78   \n",
       "...       ...       ...        ...         ...            ...             ...   \n",
       "5180984   359   PAYMENT    1545.28  1303187374           0.00            0.00   \n",
       "5151257   357   CASH_IN  136642.30  1088596644      958542.74      1095185.04   \n",
       "797245     40   PAYMENT    1717.19   402061998      469459.47       467742.27   \n",
       "5634096   395   PAYMENT   23237.98   994610710           0.00            0.00   \n",
       "4962168   351   CASH_IN  238449.07  1918656674      145343.53       383792.60   \n",
       "\n",
       "            nameDest  oldbalanceDest  newbalanceDest  isFraud  isFlaggedFraud  \n",
       "4814302  C1960515353       230005.67       205221.41        0               0  \n",
       "1650999  C1774959967      1045262.71      1248961.71        0               0  \n",
       "4856855   C555913543       399132.35       287342.16        0               0  \n",
       "3711887   C482039655       190871.11       171200.19        0               0  \n",
       "1708496   M612918570            0.00            0.00        0               0  \n",
       "...              ...             ...             ...      ...             ...  \n",
       "5180984  M1174560183            0.00            0.00        0               0  \n",
       "5151257  C1547538538      2258750.81      2122108.50        0               0  \n",
       "797245   M1919960641            0.00            0.00        0               0  \n",
       "5634096   M375471249            0.00            0.00        0               0  \n",
       "4962168   C863178348       486479.87       248030.80        0               0  \n",
       "\n",
       "[600000 rows x 11 columns]"
      ]
     },
     "execution_count": 145,
     "metadata": {},
     "output_type": "execute_result"
    }
   ],
   "source": [
    "samp1"
   ]
  },
  {
   "cell_type": "code",
   "execution_count": 146,
   "id": "93d10f08-be5c-4705-8ea9-752889807b13",
   "metadata": {},
   "outputs": [
    {
     "data": {
      "image/png": "[encoded data removed]",
      "text/plain": [
       "<Figure size 640x480 with 1 Axes>"
      ]
     },
     "metadata": {},
     "output_type": "display_data"
    }
   ],
   "source": [
    "# Generate some random data\n",
    "x = np.random.normal(0, 1, size=100)\n",
    "y = np.random.normal(0, 1, size=100)\n",
    "\n",
    "# Create a scatter plot with jitter\n",
    "plt.scatter(x=x, y=y, alpha=0.5, edgecolors='none', s=40, c='blue', linewidth=0.5, rasterized=True)\n",
    "plt.xlabel('X Axis')\n",
    "plt.ylabel('Y Axis')\n",
    "plt.title('Scatter plot with jitter')\n",
    "plt.show()"
   ]
  },
  {
   "cell_type": "code",
   "execution_count": 147,
   "id": "07a7fd3b-6356-4a2f-82ad-9c8378cfd640",
   "metadata": {},
   "outputs": [
    {
     "data": {
      "text/html": [
       "<div>\n",
       "<style scoped>\n",
       "    .dataframe tbody tr th:only-of-type {\n",
       "        vertical-align: middle;\n",
       "    }\n",
       "\n",
       "    .dataframe tbody tr th {\n",
       "        vertical-align: top;\n",
       "    }\n",
       "\n",
       "    .dataframe thead th {\n",
       "        text-align: right;\n",
       "    }\n",
       "</style>\n",
       "<table border=\"1\" class=\"dataframe\">\n",
       "  <thead>\n",
       "    <tr style=\"text-align: right;\">\n",
       "      <th></th>\n",
       "      <th>oldbalanceOrg</th>\n",
       "      <th>newbalanceOrig</th>\n",
       "    </tr>\n",
       "  </thead>\n",
       "  <tbody>\n",
       "    <tr>\n",
       "      <th>oldbalanceOrg</th>\n",
       "      <td>1.000000</td>\n",
       "      <td>0.999514</td>\n",
       "    </tr>\n",
       "    <tr>\n",
       "      <th>newbalanceOrig</th>\n",
       "      <td>0.999514</td>\n",
       "      <td>1.000000</td>\n",
       "    </tr>\n",
       "  </tbody>\n",
       "</table>\n",
       "</div>"
      ],
      "text/plain": [
       "                oldbalanceOrg  newbalanceOrig\n",
       "oldbalanceOrg        1.000000        0.999514\n",
       "newbalanceOrig       0.999514        1.000000"
      ]
     },
     "execution_count": 147,
     "metadata": {},
     "output_type": "execute_result"
    }
   ],
   "source": [
    "data[['oldbalanceOrg', 'newbalanceOrig']].corr()"
   ]
  },
  {
   "cell_type": "code",
   "execution_count": 148,
   "id": "56e1a415-2261-4432-be5d-1379e484dc78",
   "metadata": {},
   "outputs": [],
   "source": [
    "data['balance_diff'] = data.oldbalanceOrg - data.newbalanceOrig"
   ]
  },
  {
   "cell_type": "code",
   "execution_count": 149,
   "id": "d837f26c-2699-40b9-a4d0-03c6382f9582",
   "metadata": {},
   "outputs": [
    {
     "data": {
      "text/plain": [
       "count    6.024543e+06\n",
       "mean    -2.395505e+04\n",
       "std      9.888992e+04\n",
       "min     -5.017180e+05\n",
       "25%      0.000000e+00\n",
       "50%      0.000000e+00\n",
       "75%      9.776675e+03\n",
       "max      5.016732e+05\n",
       "Name: balance_diff, dtype: float64"
      ]
     },
     "execution_count": 149,
     "metadata": {},
     "output_type": "execute_result"
    }
   ],
   "source": [
    "data.balance_diff.describe()"
   ]
  },
  {
   "cell_type": "code",
   "execution_count": 150,
   "id": "447d86b5-2b38-4f07-a51d-2f2ef5a0b72b",
   "metadata": {},
   "outputs": [
    {
     "data": {
      "image/png": "[encoded data removed]",
      "text/plain": [
       "<Figure size 1000x700 with 1 Axes>"
      ]
     },
     "metadata": {},
     "output_type": "display_data"
    }
   ],
   "source": [
    "plt.figure(figsize = [10,7])\n",
    "plt.hist(data.balance_diff, bins=50)\n",
    "plt.title('the  balance after transaction distribution')\n",
    "plt.show()"
   ]
  },
  {
   "cell_type": "code",
   "execution_count": 151,
   "id": "a8b56c18-9784-4775-9454-09744a370d0b",
   "metadata": {},
   "outputs": [
    {
     "data": {
      "image/png": "[encoded data removed]",
      "text/plain": [
       "<Figure size 1000x700 with 1 Axes>"
      ]
     },
     "metadata": {},
     "output_type": "display_data"
    }
   ],
   "source": [
    "plt.figure(figsize=[10,7])\n",
    "plt.plot(data.balance_diff)\n",
    "plt.title('the balance rate of change')\n",
    "plt.show()"
   ]
  },
  {
   "cell_type": "code",
   "execution_count": 152,
   "id": "5e21e9ee-b01b-4c0b-9442-2cb4c25858f0",
   "metadata": {},
   "outputs": [
    {
     "data": {
      "text/html": [
       "<div>\n",
       "<style scoped>\n",
       "    .dataframe tbody tr th:only-of-type {\n",
       "        vertical-align: middle;\n",
       "    }\n",
       "\n",
       "    .dataframe tbody tr th {\n",
       "        vertical-align: top;\n",
       "    }\n",
       "\n",
       "    .dataframe thead th {\n",
       "        text-align: right;\n",
       "    }\n",
       "</style>\n",
       "<table border=\"1\" class=\"dataframe\">\n",
       "  <thead>\n",
       "    <tr style=\"text-align: right;\">\n",
       "      <th></th>\n",
       "      <th>step</th>\n",
       "      <th>type</th>\n",
       "      <th>amount</th>\n",
       "      <th>client_id</th>\n",
       "      <th>oldbalanceOrg</th>\n",
       "      <th>newbalanceOrig</th>\n",
       "      <th>nameDest</th>\n",
       "      <th>oldbalanceDest</th>\n",
       "      <th>newbalanceDest</th>\n",
       "      <th>isFraud</th>\n",
       "      <th>isFlaggedFraud</th>\n",
       "      <th>balance_diff</th>\n",
       "    </tr>\n",
       "  </thead>\n",
       "  <tbody>\n",
       "    <tr>\n",
       "      <th>0</th>\n",
       "      <td>1</td>\n",
       "      <td>PAYMENT</td>\n",
       "      <td>9839.64</td>\n",
       "      <td>1231006815</td>\n",
       "      <td>170136.0</td>\n",
       "      <td>160296.36</td>\n",
       "      <td>M1979787155</td>\n",
       "      <td>0.0</td>\n",
       "      <td>0.0</td>\n",
       "      <td>0</td>\n",
       "      <td>0</td>\n",
       "      <td>9839.64</td>\n",
       "    </tr>\n",
       "    <tr>\n",
       "      <th>1</th>\n",
       "      <td>1</td>\n",
       "      <td>PAYMENT</td>\n",
       "      <td>1864.28</td>\n",
       "      <td>1666544295</td>\n",
       "      <td>21249.0</td>\n",
       "      <td>19384.72</td>\n",
       "      <td>M2044282225</td>\n",
       "      <td>0.0</td>\n",
       "      <td>0.0</td>\n",
       "      <td>0</td>\n",
       "      <td>0</td>\n",
       "      <td>1864.28</td>\n",
       "    </tr>\n",
       "    <tr>\n",
       "      <th>2</th>\n",
       "      <td>1</td>\n",
       "      <td>TRANSFER</td>\n",
       "      <td>181.00</td>\n",
       "      <td>1305486145</td>\n",
       "      <td>181.0</td>\n",
       "      <td>0.00</td>\n",
       "      <td>C553264065</td>\n",
       "      <td>0.0</td>\n",
       "      <td>0.0</td>\n",
       "      <td>1</td>\n",
       "      <td>0</td>\n",
       "      <td>181.00</td>\n",
       "    </tr>\n",
       "    <tr>\n",
       "      <th>3</th>\n",
       "      <td>1</td>\n",
       "      <td>CASH_OUT</td>\n",
       "      <td>181.00</td>\n",
       "      <td>840083671</td>\n",
       "      <td>181.0</td>\n",
       "      <td>0.00</td>\n",
       "      <td>C38997010</td>\n",
       "      <td>21182.0</td>\n",
       "      <td>0.0</td>\n",
       "      <td>1</td>\n",
       "      <td>0</td>\n",
       "      <td>181.00</td>\n",
       "    </tr>\n",
       "    <tr>\n",
       "      <th>4</th>\n",
       "      <td>1</td>\n",
       "      <td>PAYMENT</td>\n",
       "      <td>11668.14</td>\n",
       "      <td>2048537720</td>\n",
       "      <td>41554.0</td>\n",
       "      <td>29885.86</td>\n",
       "      <td>M1230701703</td>\n",
       "      <td>0.0</td>\n",
       "      <td>0.0</td>\n",
       "      <td>0</td>\n",
       "      <td>0</td>\n",
       "      <td>11668.14</td>\n",
       "    </tr>\n",
       "  </tbody>\n",
       "</table>\n",
       "</div>"
      ],
      "text/plain": [
       "   step      type    amount   client_id  oldbalanceOrg  newbalanceOrig  \\\n",
       "0     1   PAYMENT   9839.64  1231006815       170136.0       160296.36   \n",
       "1     1   PAYMENT   1864.28  1666544295        21249.0        19384.72   \n",
       "2     1  TRANSFER    181.00  1305486145          181.0            0.00   \n",
       "3     1  CASH_OUT    181.00   840083671          181.0            0.00   \n",
       "4     1   PAYMENT  11668.14  2048537720        41554.0        29885.86   \n",
       "\n",
       "      nameDest  oldbalanceDest  newbalanceDest  isFraud  isFlaggedFraud  \\\n",
       "0  M1979787155             0.0             0.0        0               0   \n",
       "1  M2044282225             0.0             0.0        0               0   \n",
       "2   C553264065             0.0             0.0        1               0   \n",
       "3    C38997010         21182.0             0.0        1               0   \n",
       "4  M1230701703             0.0             0.0        0               0   \n",
       "\n",
       "   balance_diff  \n",
       "0       9839.64  \n",
       "1       1864.28  \n",
       "2        181.00  \n",
       "3        181.00  \n",
       "4      11668.14  "
      ]
     },
     "execution_count": 152,
     "metadata": {},
     "output_type": "execute_result"
    }
   ],
   "source": [
    "data.head()\n"
   ]
  },
  {
   "cell_type": "code",
   "execution_count": 153,
   "id": "f608752e-dd6c-420b-956e-1d9a47397f60",
   "metadata": {},
   "outputs": [
    {
     "data": {
      "text/plain": [
       "count         6024543\n",
       "unique        2716238\n",
       "top       C1286084959\n",
       "freq               91\n",
       "Name: nameDest, dtype: object"
      ]
     },
     "execution_count": 153,
     "metadata": {},
     "output_type": "execute_result"
    }
   ],
   "source": [
    "data.nameDest.describe()"
   ]
  },
  {
   "cell_type": "code",
   "execution_count": 154,
   "id": "7635bc7b-f8e0-42f4-8128-b349b4600fd6",
   "metadata": {},
   "outputs": [
    {
     "data": {
      "text/plain": [
       "0    C1286084959\n",
       "Name: nameDest, dtype: object"
      ]
     },
     "execution_count": 154,
     "metadata": {},
     "output_type": "execute_result"
    }
   ],
   "source": [
    "data.nameDest.mode()"
   ]
  },
  {
   "cell_type": "code",
   "execution_count": 155,
   "id": "4135b6a5-9e85-44ce-b7d5-03c05e6c236b",
   "metadata": {},
   "outputs": [
    {
     "data": {
      "text/plain": [
       "C1286084959    91\n",
       "C985934102     87\n",
       "C977993101     86\n",
       "C2083562754    86\n",
       "C1360767589    82\n",
       "C1590550415    82\n",
       "C392292416     81\n",
       "C248609774     81\n",
       "C1789550256    81\n",
       "C451111351     80\n",
       "Name: nameDest, dtype: int64"
      ]
     },
     "execution_count": 155,
     "metadata": {},
     "output_type": "execute_result"
    }
   ],
   "source": [
    "# get top 10 most frequent client distination id\n",
    "n = 10\n",
    "data['nameDest'].value_counts()[:n]"
   ]
  },
  {
   "cell_type": "code",
   "execution_count": 156,
   "id": "28ed2d35-273e-452a-a900-9eaa7fa055da",
   "metadata": {},
   "outputs": [
    {
     "data": {
      "image/png": "[encoded data removed]",
      "text/plain": [
       "<Figure size 1000x700 with 1 Axes>"
      ]
     },
     "metadata": {},
     "output_type": "display_data"
    }
   ],
   "source": [
    "plt.figure(figsize = [10, 7])\n",
    "sb.barplot(x = data['nameDest'].value_counts()[:n].index, y = data['nameDest'].value_counts()[:n].values)\n",
    "plt.xticks(rotation = 20)\n",
    "plt.title('the most 10 frequent distination clients')\n",
    "plt.show()"
   ]
  },
  {
   "cell_type": "code",
   "execution_count": 157,
   "id": "a8243413-4632-4fec-aef6-61821b54a335",
   "metadata": {},
   "outputs": [
    {
     "data": {
      "text/html": [
       "<div>\n",
       "<style scoped>\n",
       "    .dataframe tbody tr th:only-of-type {\n",
       "        vertical-align: middle;\n",
       "    }\n",
       "\n",
       "    .dataframe tbody tr th {\n",
       "        vertical-align: top;\n",
       "    }\n",
       "\n",
       "    .dataframe thead th {\n",
       "        text-align: right;\n",
       "    }\n",
       "</style>\n",
       "<table border=\"1\" class=\"dataframe\">\n",
       "  <thead>\n",
       "    <tr style=\"text-align: right;\">\n",
       "      <th></th>\n",
       "      <th>step</th>\n",
       "      <th>type</th>\n",
       "      <th>amount</th>\n",
       "      <th>client_id</th>\n",
       "      <th>oldbalanceOrg</th>\n",
       "      <th>newbalanceOrig</th>\n",
       "      <th>nameDest</th>\n",
       "      <th>oldbalanceDest</th>\n",
       "      <th>newbalanceDest</th>\n",
       "      <th>isFraud</th>\n",
       "      <th>isFlaggedFraud</th>\n",
       "      <th>balance_diff</th>\n",
       "    </tr>\n",
       "  </thead>\n",
       "  <tbody>\n",
       "    <tr>\n",
       "      <th>367</th>\n",
       "      <td>1</td>\n",
       "      <td>TRANSFER</td>\n",
       "      <td>176334.26</td>\n",
       "      <td>169880779</td>\n",
       "      <td>45136.00</td>\n",
       "      <td>0.00</td>\n",
       "      <td>C1286084959</td>\n",
       "      <td>1251626.46</td>\n",
       "      <td>2107778.11</td>\n",
       "      <td>0</td>\n",
       "      <td>0</td>\n",
       "      <td>45136.00</td>\n",
       "    </tr>\n",
       "    <tr>\n",
       "      <th>388</th>\n",
       "      <td>1</td>\n",
       "      <td>CASH_OUT</td>\n",
       "      <td>373068.26</td>\n",
       "      <td>1047934137</td>\n",
       "      <td>20034.00</td>\n",
       "      <td>0.00</td>\n",
       "      <td>C1286084959</td>\n",
       "      <td>1427960.73</td>\n",
       "      <td>2107778.11</td>\n",
       "      <td>0</td>\n",
       "      <td>0</td>\n",
       "      <td>20034.00</td>\n",
       "    </tr>\n",
       "    <tr>\n",
       "      <th>471</th>\n",
       "      <td>1</td>\n",
       "      <td>CASH_IN</td>\n",
       "      <td>403418.39</td>\n",
       "      <td>848097505</td>\n",
       "      <td>3834666.95</td>\n",
       "      <td>4238085.34</td>\n",
       "      <td>C1286084959</td>\n",
       "      <td>1801028.99</td>\n",
       "      <td>2107778.11</td>\n",
       "      <td>0</td>\n",
       "      <td>0</td>\n",
       "      <td>-403418.39</td>\n",
       "    </tr>\n",
       "    <tr>\n",
       "      <th>642</th>\n",
       "      <td>1</td>\n",
       "      <td>CASH_IN</td>\n",
       "      <td>222126.95</td>\n",
       "      <td>870322840</td>\n",
       "      <td>6688712.64</td>\n",
       "      <td>6910839.59</td>\n",
       "      <td>C1286084959</td>\n",
       "      <td>1397610.60</td>\n",
       "      <td>2107778.11</td>\n",
       "      <td>0</td>\n",
       "      <td>0</td>\n",
       "      <td>-222126.95</td>\n",
       "    </tr>\n",
       "    <tr>\n",
       "      <th>659</th>\n",
       "      <td>1</td>\n",
       "      <td>CASH_IN</td>\n",
       "      <td>317393.38</td>\n",
       "      <td>1197721383</td>\n",
       "      <td>8906617.38</td>\n",
       "      <td>9224010.75</td>\n",
       "      <td>C1286084959</td>\n",
       "      <td>1175483.65</td>\n",
       "      <td>2107778.11</td>\n",
       "      <td>0</td>\n",
       "      <td>0</td>\n",
       "      <td>-317393.37</td>\n",
       "    </tr>\n",
       "    <tr>\n",
       "      <th>...</th>\n",
       "      <td>...</td>\n",
       "      <td>...</td>\n",
       "      <td>...</td>\n",
       "      <td>...</td>\n",
       "      <td>...</td>\n",
       "      <td>...</td>\n",
       "      <td>...</td>\n",
       "      <td>...</td>\n",
       "      <td>...</td>\n",
       "      <td>...</td>\n",
       "      <td>...</td>\n",
       "      <td>...</td>\n",
       "    </tr>\n",
       "    <tr>\n",
       "      <th>4810092</th>\n",
       "      <td>346</td>\n",
       "      <td>CASH_OUT</td>\n",
       "      <td>84205.39</td>\n",
       "      <td>86576996</td>\n",
       "      <td>0.00</td>\n",
       "      <td>0.00</td>\n",
       "      <td>C1286084959</td>\n",
       "      <td>61680519.75</td>\n",
       "      <td>61764725.14</td>\n",
       "      <td>0</td>\n",
       "      <td>0</td>\n",
       "      <td>0.00</td>\n",
       "    </tr>\n",
       "    <tr>\n",
       "      <th>4832993</th>\n",
       "      <td>347</td>\n",
       "      <td>CASH_OUT</td>\n",
       "      <td>235564.75</td>\n",
       "      <td>1068656420</td>\n",
       "      <td>0.00</td>\n",
       "      <td>0.00</td>\n",
       "      <td>C1286084959</td>\n",
       "      <td>61764725.14</td>\n",
       "      <td>62000289.89</td>\n",
       "      <td>0</td>\n",
       "      <td>0</td>\n",
       "      <td>0.00</td>\n",
       "    </tr>\n",
       "    <tr>\n",
       "      <th>5566959</th>\n",
       "      <td>393</td>\n",
       "      <td>CASH_IN</td>\n",
       "      <td>119568.31</td>\n",
       "      <td>1878371174</td>\n",
       "      <td>8348248.96</td>\n",
       "      <td>8467817.28</td>\n",
       "      <td>C1286084959</td>\n",
       "      <td>62000289.89</td>\n",
       "      <td>61880721.58</td>\n",
       "      <td>0</td>\n",
       "      <td>0</td>\n",
       "      <td>-119568.32</td>\n",
       "    </tr>\n",
       "    <tr>\n",
       "      <th>5596560</th>\n",
       "      <td>394</td>\n",
       "      <td>CASH_OUT</td>\n",
       "      <td>381887.53</td>\n",
       "      <td>1789981744</td>\n",
       "      <td>50447.00</td>\n",
       "      <td>0.00</td>\n",
       "      <td>C1286084959</td>\n",
       "      <td>61880721.58</td>\n",
       "      <td>62262609.11</td>\n",
       "      <td>0</td>\n",
       "      <td>0</td>\n",
       "      <td>50447.00</td>\n",
       "    </tr>\n",
       "    <tr>\n",
       "      <th>5792331</th>\n",
       "      <td>401</td>\n",
       "      <td>CASH_OUT</td>\n",
       "      <td>189251.84</td>\n",
       "      <td>1256632176</td>\n",
       "      <td>22224.00</td>\n",
       "      <td>0.00</td>\n",
       "      <td>C1286084959</td>\n",
       "      <td>62262609.11</td>\n",
       "      <td>62451860.94</td>\n",
       "      <td>0</td>\n",
       "      <td>0</td>\n",
       "      <td>22224.00</td>\n",
       "    </tr>\n",
       "  </tbody>\n",
       "</table>\n",
       "<p>91 rows × 12 columns</p>\n",
       "</div>"
      ],
      "text/plain": [
       "         step      type     amount   client_id  oldbalanceOrg  newbalanceOrig  \\\n",
       "367         1  TRANSFER  176334.26   169880779       45136.00            0.00   \n",
       "388         1  CASH_OUT  373068.26  1047934137       20034.00            0.00   \n",
       "471         1   CASH_IN  403418.39   848097505     3834666.95      4238085.34   \n",
       "642         1   CASH_IN  222126.95   870322840     6688712.64      6910839.59   \n",
       "659         1   CASH_IN  317393.38  1197721383     8906617.38      9224010.75   \n",
       "...       ...       ...        ...         ...            ...             ...   \n",
       "4810092   346  CASH_OUT   84205.39    86576996           0.00            0.00   \n",
       "4832993   347  CASH_OUT  235564.75  1068656420           0.00            0.00   \n",
       "5566959   393   CASH_IN  119568.31  1878371174     8348248.96      8467817.28   \n",
       "5596560   394  CASH_OUT  381887.53  1789981744       50447.00            0.00   \n",
       "5792331   401  CASH_OUT  189251.84  1256632176       22224.00            0.00   \n",
       "\n",
       "            nameDest  oldbalanceDest  newbalanceDest  isFraud  isFlaggedFraud  \\\n",
       "367      C1286084959      1251626.46      2107778.11        0               0   \n",
       "388      C1286084959      1427960.73      2107778.11        0               0   \n",
       "471      C1286084959      1801028.99      2107778.11        0               0   \n",
       "642      C1286084959      1397610.60      2107778.11        0               0   \n",
       "659      C1286084959      1175483.65      2107778.11        0               0   \n",
       "...              ...             ...             ...      ...             ...   \n",
       "4810092  C1286084959     61680519.75     61764725.14        0               0   \n",
       "4832993  C1286084959     61764725.14     62000289.89        0               0   \n",
       "5566959  C1286084959     62000289.89     61880721.58        0               0   \n",
       "5596560  C1286084959     61880721.58     62262609.11        0               0   \n",
       "5792331  C1286084959     62262609.11     62451860.94        0               0   \n",
       "\n",
       "         balance_diff  \n",
       "367          45136.00  \n",
       "388          20034.00  \n",
       "471        -403418.39  \n",
       "642        -222126.95  \n",
       "659        -317393.37  \n",
       "...               ...  \n",
       "4810092          0.00  \n",
       "4832993          0.00  \n",
       "5566959    -119568.32  \n",
       "5596560      50447.00  \n",
       "5792331      22224.00  \n",
       "\n",
       "[91 rows x 12 columns]"
      ]
     },
     "execution_count": 157,
     "metadata": {},
     "output_type": "execute_result"
    }
   ],
   "source": [
    "data[data.nameDest == 'C1286084959']"
   ]
  },
  {
   "cell_type": "code",
   "execution_count": 158,
   "id": "f080f95e-d138-4c44-b20c-c3671e179d1e",
   "metadata": {},
   "outputs": [
    {
     "data": {
      "text/html": [
       "<div>\n",
       "<style scoped>\n",
       "    .dataframe tbody tr th:only-of-type {\n",
       "        vertical-align: middle;\n",
       "    }\n",
       "\n",
       "    .dataframe tbody tr th {\n",
       "        vertical-align: top;\n",
       "    }\n",
       "\n",
       "    .dataframe thead th {\n",
       "        text-align: right;\n",
       "    }\n",
       "</style>\n",
       "<table border=\"1\" class=\"dataframe\">\n",
       "  <thead>\n",
       "    <tr style=\"text-align: right;\">\n",
       "      <th></th>\n",
       "      <th>step</th>\n",
       "      <th>amount</th>\n",
       "      <th>client_id</th>\n",
       "      <th>oldbalanceOrg</th>\n",
       "      <th>newbalanceOrig</th>\n",
       "      <th>oldbalanceDest</th>\n",
       "      <th>newbalanceDest</th>\n",
       "      <th>isFraud</th>\n",
       "      <th>isFlaggedFraud</th>\n",
       "      <th>balance_diff</th>\n",
       "    </tr>\n",
       "  </thead>\n",
       "  <tbody>\n",
       "    <tr>\n",
       "      <th>count</th>\n",
       "      <td>91.000000</td>\n",
       "      <td>91.000000</td>\n",
       "      <td>9.100000e+01</td>\n",
       "      <td>9.100000e+01</td>\n",
       "      <td>9.100000e+01</td>\n",
       "      <td>9.100000e+01</td>\n",
       "      <td>9.100000e+01</td>\n",
       "      <td>91.0</td>\n",
       "      <td>91.0</td>\n",
       "      <td>91.000000</td>\n",
       "    </tr>\n",
       "    <tr>\n",
       "      <th>mean</th>\n",
       "      <td>50.714286</td>\n",
       "      <td>206309.763297</td>\n",
       "      <td>1.002663e+09</td>\n",
       "      <td>1.892348e+06</td>\n",
       "      <td>1.953412e+06</td>\n",
       "      <td>1.362347e+07</td>\n",
       "      <td>1.437131e+07</td>\n",
       "      <td>0.0</td>\n",
       "      <td>0.0</td>\n",
       "      <td>-61064.217582</td>\n",
       "    </tr>\n",
       "    <tr>\n",
       "      <th>std</th>\n",
       "      <td>103.593145</td>\n",
       "      <td>132179.220078</td>\n",
       "      <td>6.406173e+08</td>\n",
       "      <td>2.819321e+06</td>\n",
       "      <td>2.907859e+06</td>\n",
       "      <td>1.564074e+07</td>\n",
       "      <td>1.545007e+07</td>\n",
       "      <td>0.0</td>\n",
       "      <td>0.0</td>\n",
       "      <td>140952.576098</td>\n",
       "    </tr>\n",
       "    <tr>\n",
       "      <th>min</th>\n",
       "      <td>1.000000</td>\n",
       "      <td>2373.110000</td>\n",
       "      <td>1.311740e+07</td>\n",
       "      <td>0.000000e+00</td>\n",
       "      <td>0.000000e+00</td>\n",
       "      <td>8.580903e+05</td>\n",
       "      <td>1.378570e+06</td>\n",
       "      <td>0.0</td>\n",
       "      <td>0.0</td>\n",
       "      <td>-425052.420000</td>\n",
       "    </tr>\n",
       "    <tr>\n",
       "      <th>25%</th>\n",
       "      <td>2.500000</td>\n",
       "      <td>98940.590000</td>\n",
       "      <td>5.029396e+08</td>\n",
       "      <td>0.000000e+00</td>\n",
       "      <td>0.000000e+00</td>\n",
       "      <td>2.584442e+06</td>\n",
       "      <td>2.107778e+06</td>\n",
       "      <td>0.0</td>\n",
       "      <td>0.0</td>\n",
       "      <td>-132708.380000</td>\n",
       "    </tr>\n",
       "    <tr>\n",
       "      <th>50%</th>\n",
       "      <td>8.000000</td>\n",
       "      <td>189251.840000</td>\n",
       "      <td>9.600608e+08</td>\n",
       "      <td>5.819826e+04</td>\n",
       "      <td>0.000000e+00</td>\n",
       "      <td>1.162832e+07</td>\n",
       "      <td>1.295976e+07</td>\n",
       "      <td>0.0</td>\n",
       "      <td>0.0</td>\n",
       "      <td>0.000000</td>\n",
       "    </tr>\n",
       "    <tr>\n",
       "      <th>75%</th>\n",
       "      <td>17.500000</td>\n",
       "      <td>288275.840000</td>\n",
       "      <td>1.641864e+09</td>\n",
       "      <td>3.664394e+06</td>\n",
       "      <td>3.997775e+06</td>\n",
       "      <td>1.874441e+07</td>\n",
       "      <td>1.889081e+07</td>\n",
       "      <td>0.0</td>\n",
       "      <td>0.0</td>\n",
       "      <td>0.000000</td>\n",
       "    </tr>\n",
       "    <tr>\n",
       "      <th>max</th>\n",
       "      <td>401.000000</td>\n",
       "      <td>483544.300000</td>\n",
       "      <td>2.112648e+09</td>\n",
       "      <td>1.092285e+07</td>\n",
       "      <td>1.104356e+07</td>\n",
       "      <td>6.226261e+07</td>\n",
       "      <td>6.245186e+07</td>\n",
       "      <td>0.0</td>\n",
       "      <td>0.0</td>\n",
       "      <td>274115.550000</td>\n",
       "    </tr>\n",
       "  </tbody>\n",
       "</table>\n",
       "</div>"
      ],
      "text/plain": [
       "             step         amount     client_id  oldbalanceOrg  newbalanceOrig  \\\n",
       "count   91.000000      91.000000  9.100000e+01   9.100000e+01    9.100000e+01   \n",
       "mean    50.714286  206309.763297  1.002663e+09   1.892348e+06    1.953412e+06   \n",
       "std    103.593145  132179.220078  6.406173e+08   2.819321e+06    2.907859e+06   \n",
       "min      1.000000    2373.110000  1.311740e+07   0.000000e+00    0.000000e+00   \n",
       "25%      2.500000   98940.590000  5.029396e+08   0.000000e+00    0.000000e+00   \n",
       "50%      8.000000  189251.840000  9.600608e+08   5.819826e+04    0.000000e+00   \n",
       "75%     17.500000  288275.840000  1.641864e+09   3.664394e+06    3.997775e+06   \n",
       "max    401.000000  483544.300000  2.112648e+09   1.092285e+07    1.104356e+07   \n",
       "\n",
       "       oldbalanceDest  newbalanceDest  isFraud  isFlaggedFraud   balance_diff  \n",
       "count    9.100000e+01    9.100000e+01     91.0            91.0      91.000000  \n",
       "mean     1.362347e+07    1.437131e+07      0.0             0.0  -61064.217582  \n",
       "std      1.564074e+07    1.545007e+07      0.0             0.0  140952.576098  \n",
       "min      8.580903e+05    1.378570e+06      0.0             0.0 -425052.420000  \n",
       "25%      2.584442e+06    2.107778e+06      0.0             0.0 -132708.380000  \n",
       "50%      1.162832e+07    1.295976e+07      0.0             0.0       0.000000  \n",
       "75%      1.874441e+07    1.889081e+07      0.0             0.0       0.000000  \n",
       "max      6.226261e+07    6.245186e+07      0.0             0.0  274115.550000  "
      ]
     },
     "execution_count": 158,
     "metadata": {},
     "output_type": "execute_result"
    }
   ],
   "source": [
    "totti = data[data.nameDest == 'C1286084959']\n",
    "totti.describe()"
   ]
  },
  {
   "cell_type": "code",
   "execution_count": 159,
   "id": "1b746707-b77c-428a-b2fd-3bdcd6caaa85",
   "metadata": {},
   "outputs": [
    {
     "data": {
      "text/html": [
       "<div>\n",
       "<style scoped>\n",
       "    .dataframe tbody tr th:only-of-type {\n",
       "        vertical-align: middle;\n",
       "    }\n",
       "\n",
       "    .dataframe tbody tr th {\n",
       "        vertical-align: top;\n",
       "    }\n",
       "\n",
       "    .dataframe thead th {\n",
       "        text-align: right;\n",
       "    }\n",
       "</style>\n",
       "<table border=\"1\" class=\"dataframe\">\n",
       "  <thead>\n",
       "    <tr style=\"text-align: right;\">\n",
       "      <th></th>\n",
       "      <th>step</th>\n",
       "      <th>type</th>\n",
       "      <th>amount</th>\n",
       "      <th>client_id</th>\n",
       "      <th>oldbalanceOrg</th>\n",
       "      <th>newbalanceOrig</th>\n",
       "      <th>nameDest</th>\n",
       "      <th>oldbalanceDest</th>\n",
       "      <th>newbalanceDest</th>\n",
       "      <th>isFraud</th>\n",
       "      <th>isFlaggedFraud</th>\n",
       "      <th>balance_diff</th>\n",
       "    </tr>\n",
       "  </thead>\n",
       "  <tbody>\n",
       "    <tr>\n",
       "      <th>5792331</th>\n",
       "      <td>401</td>\n",
       "      <td>CASH_OUT</td>\n",
       "      <td>189251.84</td>\n",
       "      <td>1256632176</td>\n",
       "      <td>22224.0</td>\n",
       "      <td>0.0</td>\n",
       "      <td>C1286084959</td>\n",
       "      <td>62262609.11</td>\n",
       "      <td>62451860.94</td>\n",
       "      <td>0</td>\n",
       "      <td>0</td>\n",
       "      <td>22224.0</td>\n",
       "    </tr>\n",
       "  </tbody>\n",
       "</table>\n",
       "</div>"
      ],
      "text/plain": [
       "         step      type     amount   client_id  oldbalanceOrg  newbalanceOrig  \\\n",
       "5792331   401  CASH_OUT  189251.84  1256632176        22224.0             0.0   \n",
       "\n",
       "            nameDest  oldbalanceDest  newbalanceDest  isFraud  isFlaggedFraud  \\\n",
       "5792331  C1286084959     62262609.11     62451860.94        0               0   \n",
       "\n",
       "         balance_diff  \n",
       "5792331       22224.0  "
      ]
     },
     "execution_count": 159,
     "metadata": {},
     "output_type": "execute_result"
    }
   ],
   "source": [
    "totti[totti.newbalanceDest == totti.newbalanceDest.max()]"
   ]
  },
  {
   "cell_type": "code",
   "execution_count": 160,
   "id": "622f7322-30a8-4c7e-b518-4ec8cd3b6cf5",
   "metadata": {},
   "outputs": [
    {
     "data": {
      "text/html": [
       "<div>\n",
       "<style scoped>\n",
       "    .dataframe tbody tr th:only-of-type {\n",
       "        vertical-align: middle;\n",
       "    }\n",
       "\n",
       "    .dataframe tbody tr th {\n",
       "        vertical-align: top;\n",
       "    }\n",
       "\n",
       "    .dataframe thead th {\n",
       "        text-align: right;\n",
       "    }\n",
       "</style>\n",
       "<table border=\"1\" class=\"dataframe\">\n",
       "  <thead>\n",
       "    <tr style=\"text-align: right;\">\n",
       "      <th></th>\n",
       "      <th>step</th>\n",
       "      <th>type</th>\n",
       "      <th>amount</th>\n",
       "      <th>client_id</th>\n",
       "      <th>oldbalanceOrg</th>\n",
       "      <th>newbalanceOrig</th>\n",
       "      <th>nameDest</th>\n",
       "      <th>oldbalanceDest</th>\n",
       "      <th>newbalanceDest</th>\n",
       "      <th>isFraud</th>\n",
       "      <th>isFlaggedFraud</th>\n",
       "      <th>balance_diff</th>\n",
       "    </tr>\n",
       "  </thead>\n",
       "  <tbody>\n",
       "  </tbody>\n",
       "</table>\n",
       "</div>"
      ],
      "text/plain": [
       "Empty DataFrame\n",
       "Columns: [step, type, amount, client_id, oldbalanceOrg, newbalanceOrig, nameDest, oldbalanceDest, newbalanceDest, isFraud, isFlaggedFraud, balance_diff]\n",
       "Index: []"
      ]
     },
     "execution_count": 160,
     "metadata": {},
     "output_type": "execute_result"
    }
   ],
   "source": [
    "totti[(totti.isFraud == 1) | (totti.isFlaggedFraud == 1)]"
   ]
  },
  {
   "cell_type": "code",
   "execution_count": 161,
   "id": "73c3f957-fdc1-4724-b210-83377dd5ee12",
   "metadata": {},
   "outputs": [
    {
     "data": {
      "text/html": [
       "<div>\n",
       "<style scoped>\n",
       "    .dataframe tbody tr th:only-of-type {\n",
       "        vertical-align: middle;\n",
       "    }\n",
       "\n",
       "    .dataframe tbody tr th {\n",
       "        vertical-align: top;\n",
       "    }\n",
       "\n",
       "    .dataframe thead th {\n",
       "        text-align: right;\n",
       "    }\n",
       "</style>\n",
       "<table border=\"1\" class=\"dataframe\">\n",
       "  <thead>\n",
       "    <tr style=\"text-align: right;\">\n",
       "      <th></th>\n",
       "      <th>step</th>\n",
       "      <th>type</th>\n",
       "      <th>amount</th>\n",
       "      <th>client_id</th>\n",
       "      <th>oldbalanceOrg</th>\n",
       "      <th>newbalanceOrig</th>\n",
       "      <th>nameDest</th>\n",
       "      <th>oldbalanceDest</th>\n",
       "      <th>newbalanceDest</th>\n",
       "      <th>isFraud</th>\n",
       "      <th>isFlaggedFraud</th>\n",
       "      <th>balance_diff</th>\n",
       "    </tr>\n",
       "  </thead>\n",
       "  <tbody>\n",
       "    <tr>\n",
       "      <th>2</th>\n",
       "      <td>1</td>\n",
       "      <td>TRANSFER</td>\n",
       "      <td>181.00</td>\n",
       "      <td>1305486145</td>\n",
       "      <td>181.00</td>\n",
       "      <td>0.0</td>\n",
       "      <td>C553264065</td>\n",
       "      <td>0.00</td>\n",
       "      <td>0.00</td>\n",
       "      <td>1</td>\n",
       "      <td>0</td>\n",
       "      <td>181.00</td>\n",
       "    </tr>\n",
       "    <tr>\n",
       "      <th>3</th>\n",
       "      <td>1</td>\n",
       "      <td>CASH_OUT</td>\n",
       "      <td>181.00</td>\n",
       "      <td>840083671</td>\n",
       "      <td>181.00</td>\n",
       "      <td>0.0</td>\n",
       "      <td>C38997010</td>\n",
       "      <td>21182.00</td>\n",
       "      <td>0.00</td>\n",
       "      <td>1</td>\n",
       "      <td>0</td>\n",
       "      <td>181.00</td>\n",
       "    </tr>\n",
       "    <tr>\n",
       "      <th>251</th>\n",
       "      <td>1</td>\n",
       "      <td>TRANSFER</td>\n",
       "      <td>2806.00</td>\n",
       "      <td>1420196421</td>\n",
       "      <td>2806.00</td>\n",
       "      <td>0.0</td>\n",
       "      <td>C972765878</td>\n",
       "      <td>0.00</td>\n",
       "      <td>0.00</td>\n",
       "      <td>1</td>\n",
       "      <td>0</td>\n",
       "      <td>2806.00</td>\n",
       "    </tr>\n",
       "    <tr>\n",
       "      <th>252</th>\n",
       "      <td>1</td>\n",
       "      <td>CASH_OUT</td>\n",
       "      <td>2806.00</td>\n",
       "      <td>2101527076</td>\n",
       "      <td>2806.00</td>\n",
       "      <td>0.0</td>\n",
       "      <td>C1007251739</td>\n",
       "      <td>26202.00</td>\n",
       "      <td>0.00</td>\n",
       "      <td>1</td>\n",
       "      <td>0</td>\n",
       "      <td>2806.00</td>\n",
       "    </tr>\n",
       "    <tr>\n",
       "      <th>680</th>\n",
       "      <td>1</td>\n",
       "      <td>TRANSFER</td>\n",
       "      <td>20128.00</td>\n",
       "      <td>137533655</td>\n",
       "      <td>20128.00</td>\n",
       "      <td>0.0</td>\n",
       "      <td>C1848415041</td>\n",
       "      <td>0.00</td>\n",
       "      <td>0.00</td>\n",
       "      <td>1</td>\n",
       "      <td>0</td>\n",
       "      <td>20128.00</td>\n",
       "    </tr>\n",
       "    <tr>\n",
       "      <th>...</th>\n",
       "      <td>...</td>\n",
       "      <td>...</td>\n",
       "      <td>...</td>\n",
       "      <td>...</td>\n",
       "      <td>...</td>\n",
       "      <td>...</td>\n",
       "      <td>...</td>\n",
       "      <td>...</td>\n",
       "      <td>...</td>\n",
       "      <td>...</td>\n",
       "      <td>...</td>\n",
       "      <td>...</td>\n",
       "    </tr>\n",
       "    <tr>\n",
       "      <th>6362609</th>\n",
       "      <td>742</td>\n",
       "      <td>CASH_OUT</td>\n",
       "      <td>258355.42</td>\n",
       "      <td>1113162093</td>\n",
       "      <td>258355.42</td>\n",
       "      <td>0.0</td>\n",
       "      <td>C797688696</td>\n",
       "      <td>25176.67</td>\n",
       "      <td>283532.09</td>\n",
       "      <td>1</td>\n",
       "      <td>0</td>\n",
       "      <td>258355.42</td>\n",
       "    </tr>\n",
       "    <tr>\n",
       "      <th>6362610</th>\n",
       "      <td>742</td>\n",
       "      <td>TRANSFER</td>\n",
       "      <td>63416.99</td>\n",
       "      <td>778071008</td>\n",
       "      <td>63416.99</td>\n",
       "      <td>0.0</td>\n",
       "      <td>C1812552860</td>\n",
       "      <td>0.00</td>\n",
       "      <td>0.00</td>\n",
       "      <td>1</td>\n",
       "      <td>0</td>\n",
       "      <td>63416.99</td>\n",
       "    </tr>\n",
       "    <tr>\n",
       "      <th>6362611</th>\n",
       "      <td>742</td>\n",
       "      <td>CASH_OUT</td>\n",
       "      <td>63416.99</td>\n",
       "      <td>994950684</td>\n",
       "      <td>63416.99</td>\n",
       "      <td>0.0</td>\n",
       "      <td>C1662241365</td>\n",
       "      <td>276433.18</td>\n",
       "      <td>339850.17</td>\n",
       "      <td>1</td>\n",
       "      <td>0</td>\n",
       "      <td>63416.99</td>\n",
       "    </tr>\n",
       "    <tr>\n",
       "      <th>6362614</th>\n",
       "      <td>743</td>\n",
       "      <td>TRANSFER</td>\n",
       "      <td>339682.13</td>\n",
       "      <td>2013999242</td>\n",
       "      <td>339682.13</td>\n",
       "      <td>0.0</td>\n",
       "      <td>C1850423904</td>\n",
       "      <td>0.00</td>\n",
       "      <td>0.00</td>\n",
       "      <td>1</td>\n",
       "      <td>0</td>\n",
       "      <td>339682.13</td>\n",
       "    </tr>\n",
       "    <tr>\n",
       "      <th>6362615</th>\n",
       "      <td>743</td>\n",
       "      <td>CASH_OUT</td>\n",
       "      <td>339682.13</td>\n",
       "      <td>786484425</td>\n",
       "      <td>339682.13</td>\n",
       "      <td>0.0</td>\n",
       "      <td>C776919290</td>\n",
       "      <td>0.00</td>\n",
       "      <td>339682.13</td>\n",
       "      <td>1</td>\n",
       "      <td>0</td>\n",
       "      <td>339682.13</td>\n",
       "    </tr>\n",
       "  </tbody>\n",
       "</table>\n",
       "<p>4359 rows × 12 columns</p>\n",
       "</div>"
      ],
      "text/plain": [
       "         step      type     amount   client_id  oldbalanceOrg  newbalanceOrig  \\\n",
       "2           1  TRANSFER     181.00  1305486145         181.00             0.0   \n",
       "3           1  CASH_OUT     181.00   840083671         181.00             0.0   \n",
       "251         1  TRANSFER    2806.00  1420196421        2806.00             0.0   \n",
       "252         1  CASH_OUT    2806.00  2101527076        2806.00             0.0   \n",
       "680         1  TRANSFER   20128.00   137533655       20128.00             0.0   \n",
       "...       ...       ...        ...         ...            ...             ...   \n",
       "6362609   742  CASH_OUT  258355.42  1113162093      258355.42             0.0   \n",
       "6362610   742  TRANSFER   63416.99   778071008       63416.99             0.0   \n",
       "6362611   742  CASH_OUT   63416.99   994950684       63416.99             0.0   \n",
       "6362614   743  TRANSFER  339682.13  2013999242      339682.13             0.0   \n",
       "6362615   743  CASH_OUT  339682.13   786484425      339682.13             0.0   \n",
       "\n",
       "            nameDest  oldbalanceDest  newbalanceDest  isFraud  isFlaggedFraud  \\\n",
       "2         C553264065            0.00            0.00        1               0   \n",
       "3          C38997010        21182.00            0.00        1               0   \n",
       "251       C972765878            0.00            0.00        1               0   \n",
       "252      C1007251739        26202.00            0.00        1               0   \n",
       "680      C1848415041            0.00            0.00        1               0   \n",
       "...              ...             ...             ...      ...             ...   \n",
       "6362609   C797688696        25176.67       283532.09        1               0   \n",
       "6362610  C1812552860            0.00            0.00        1               0   \n",
       "6362611  C1662241365       276433.18       339850.17        1               0   \n",
       "6362614  C1850423904            0.00            0.00        1               0   \n",
       "6362615   C776919290            0.00       339682.13        1               0   \n",
       "\n",
       "         balance_diff  \n",
       "2              181.00  \n",
       "3              181.00  \n",
       "251           2806.00  \n",
       "252           2806.00  \n",
       "680          20128.00  \n",
       "...               ...  \n",
       "6362609     258355.42  \n",
       "6362610      63416.99  \n",
       "6362611      63416.99  \n",
       "6362614     339682.13  \n",
       "6362615     339682.13  \n",
       "\n",
       "[4359 rows x 12 columns]"
      ]
     },
     "execution_count": 161,
     "metadata": {},
     "output_type": "execute_result"
    }
   ],
   "source": [
    "data[data.isFraud == 1]"
   ]
  },
  {
   "cell_type": "code",
   "execution_count": 162,
   "id": "2c3ea464-10af-48b5-ae19-753501804480",
   "metadata": {},
   "outputs": [
    {
     "data": {
      "text/html": [
       "<div>\n",
       "<style scoped>\n",
       "    .dataframe tbody tr th:only-of-type {\n",
       "        vertical-align: middle;\n",
       "    }\n",
       "\n",
       "    .dataframe tbody tr th {\n",
       "        vertical-align: top;\n",
       "    }\n",
       "\n",
       "    .dataframe thead th {\n",
       "        text-align: right;\n",
       "    }\n",
       "</style>\n",
       "<table border=\"1\" class=\"dataframe\">\n",
       "  <thead>\n",
       "    <tr style=\"text-align: right;\">\n",
       "      <th></th>\n",
       "      <th>step</th>\n",
       "      <th>type</th>\n",
       "      <th>amount</th>\n",
       "      <th>client_id</th>\n",
       "      <th>oldbalanceOrg</th>\n",
       "      <th>newbalanceOrig</th>\n",
       "      <th>nameDest</th>\n",
       "      <th>oldbalanceDest</th>\n",
       "      <th>newbalanceDest</th>\n",
       "      <th>isFraud</th>\n",
       "      <th>isFlaggedFraud</th>\n",
       "      <th>balance_diff</th>\n",
       "    </tr>\n",
       "  </thead>\n",
       "  <tbody>\n",
       "    <tr>\n",
       "      <th>6205439</th>\n",
       "      <td>586</td>\n",
       "      <td>TRANSFER</td>\n",
       "      <td>353874.22</td>\n",
       "      <td>1684585475</td>\n",
       "      <td>353874.22</td>\n",
       "      <td>353874.22</td>\n",
       "      <td>C1770418982</td>\n",
       "      <td>0.0</td>\n",
       "      <td>0.0</td>\n",
       "      <td>1</td>\n",
       "      <td>1</td>\n",
       "      <td>0.0</td>\n",
       "    </tr>\n",
       "    <tr>\n",
       "      <th>6281484</th>\n",
       "      <td>646</td>\n",
       "      <td>TRANSFER</td>\n",
       "      <td>399045.08</td>\n",
       "      <td>724693370</td>\n",
       "      <td>10399045.08</td>\n",
       "      <td>10399045.08</td>\n",
       "      <td>C1909486199</td>\n",
       "      <td>0.0</td>\n",
       "      <td>0.0</td>\n",
       "      <td>1</td>\n",
       "      <td>1</td>\n",
       "      <td>0.0</td>\n",
       "    </tr>\n",
       "  </tbody>\n",
       "</table>\n",
       "</div>"
      ],
      "text/plain": [
       "         step      type     amount   client_id  oldbalanceOrg  newbalanceOrig  \\\n",
       "6205439   586  TRANSFER  353874.22  1684585475      353874.22       353874.22   \n",
       "6281484   646  TRANSFER  399045.08   724693370    10399045.08     10399045.08   \n",
       "\n",
       "            nameDest  oldbalanceDest  newbalanceDest  isFraud  isFlaggedFraud  \\\n",
       "6205439  C1770418982             0.0             0.0        1               1   \n",
       "6281484  C1909486199             0.0             0.0        1               1   \n",
       "\n",
       "         balance_diff  \n",
       "6205439           0.0  \n",
       "6281484           0.0  "
      ]
     },
     "execution_count": 162,
     "metadata": {},
     "output_type": "execute_result"
    }
   ],
   "source": [
    "data[data.isFlaggedFraud == 1]"
   ]
  },
  {
   "cell_type": "code",
   "execution_count": 163,
   "id": "4b8babd3-601e-492e-8b6c-a82bdf88b752",
   "metadata": {},
   "outputs": [
    {
     "data": {
      "text/plain": [
       "C1325541393    2\n",
       "C505532836     2\n",
       "C410033330     2\n",
       "C935310781     2\n",
       "C200064275     2\n",
       "C475338087     2\n",
       "C1148781766    2\n",
       "C1656842502    2\n",
       "C1460854172    2\n",
       "C686334805     2\n",
       "Name: nameDest, dtype: int64"
      ]
     },
     "execution_count": 163,
     "metadata": {},
     "output_type": "execute_result"
    }
   ],
   "source": [
    "# get top 10 most frequent fraud distination clients\n",
    "x = data[data.isFraud == 1]\n",
    "n = 10\n",
    "Ramos = x['nameDest'].value_counts()[:n]\n",
    "Ramos"
   ]
  },
  {
   "cell_type": "code",
   "execution_count": 164,
   "id": "be3dea0f-dc68-4253-9120-994d161532c9",
   "metadata": {},
   "outputs": [],
   "source": [
    "for i in Ramos.index:\n",
    "    if i in data['nameDest'].value_counts()[:n].index:\n",
    "        print(i)"
   ]
  },
  {
   "cell_type": "code",
   "execution_count": 165,
   "id": "53477ddb-304b-4774-b984-b6cec4f09339",
   "metadata": {},
   "outputs": [],
   "source": [
    "data.nameDest = data.nameDest.replace('C','')\n",
    "data.nameDest = data.nameDest.replace('M','')\n",
    "data.rename(columns = {'nameDest' : 'distination_client_id'}, inplace = True)"
   ]
  },
  {
   "cell_type": "code",
   "execution_count": 166,
   "id": "c95a731a-0c90-47bc-bd7c-83fdc666b73c",
   "metadata": {},
   "outputs": [
    {
     "data": {
      "text/plain": [
       "0    6020184\n",
       "1       4359\n",
       "Name: isFraud, dtype: int64"
      ]
     },
     "execution_count": 166,
     "metadata": {},
     "output_type": "execute_result"
    }
   ],
   "source": [
    "data.isFraud.value_counts()"
   ]
  },
  {
   "cell_type": "code",
   "execution_count": 167,
   "id": "eb984da0-b2dc-4120-8761-548cd8110c3b",
   "metadata": {},
   "outputs": [
    {
     "data": {
      "image/png": "[encoded data removed]",
      "text/plain": [
       "<Figure size 640x480 with 1 Axes>"
      ]
     },
     "metadata": {},
     "output_type": "display_data"
    }
   ],
   "source": [
    "plt.pie(data.isFraud.value_counts(),\n",
    "        autopct='%1.1f%%', pctdistance=0.85)\n",
    "centre_circle = plt.Circle((0, 0), 0.70, fc='white')\n",
    "fig = plt.gcf()\n",
    "fig.gca().add_artist(centre_circle)\n",
    "plt.show()"
   ]
  },
  {
   "cell_type": "code",
   "execution_count": 168,
   "id": "cf145339-36e4-403a-8e7b-7f38a9e2cfae",
   "metadata": {},
   "outputs": [
    {
     "name": "stdout",
     "output_type": "stream",
     "text": [
      "class 0: (6020184, 12)\n",
      "class 1: (4359, 12)\n"
     ]
    }
   ],
   "source": [
    "# class count\n",
    "class_count_0, class_count_1 = data['isFraud'].value_counts()\n",
    "\n",
    "# Separate class\n",
    "class_0 = data[data['isFraud'] == 0]\n",
    "class_1 = data[data['isFraud'] == 1]# print the shape of the class\n",
    "print('class 0:', class_0.shape)\n",
    "print('class 1:', class_1.shape)"
   ]
  },
  {
   "cell_type": "code",
   "execution_count": 169,
   "id": "0a596008-73ab-451c-93c8-b335486876fb",
   "metadata": {},
   "outputs": [
    {
     "name": "stdout",
     "output_type": "stream",
     "text": [
      "total class of 1 and0: 0    4359\n",
      "1    4359\n",
      "Name: isFraud, dtype: int64\n"
     ]
    },
    {
     "data": {
      "text/plain": [
       "<AxesSubplot: title={'center': 'count (target)'}>"
      ]
     },
     "execution_count": 169,
     "metadata": {},
     "output_type": "execute_result"
    },
    {
     "data": {
      "image/png": "[encoded data removed]",
      "text/plain": [
       "<Figure size 640x480 with 1 Axes>"
      ]
     },
     "metadata": {},
     "output_type": "display_data"
    }
   ],
   "source": [
    "class_0_under = class_0.sample(class_count_1)\n",
    "\n",
    "balancing_data = pd.concat([class_0_under, class_1], axis=0)\n",
    "\n",
    "print(\"total class of 1 and0:\",balancing_data['isFraud'].value_counts())# plot the count after under-sampeling\n",
    "balancing_data['isFraud'].value_counts().plot(kind='bar', title='count (target)')"
   ]
  },
  {
   "cell_type": "code",
   "execution_count": 170,
   "id": "a7d600b0-f67f-41d2-b59a-8803293727e3",
   "metadata": {},
   "outputs": [
    {
     "data": {
      "text/html": [
       "<div>\n",
       "<style scoped>\n",
       "    .dataframe tbody tr th:only-of-type {\n",
       "        vertical-align: middle;\n",
       "    }\n",
       "\n",
       "    .dataframe tbody tr th {\n",
       "        vertical-align: top;\n",
       "    }\n",
       "\n",
       "    .dataframe thead th {\n",
       "        text-align: right;\n",
       "    }\n",
       "</style>\n",
       "<table border=\"1\" class=\"dataframe\">\n",
       "  <thead>\n",
       "    <tr style=\"text-align: right;\">\n",
       "      <th></th>\n",
       "      <th>step</th>\n",
       "      <th>type</th>\n",
       "      <th>amount</th>\n",
       "      <th>client_id</th>\n",
       "      <th>oldbalanceOrg</th>\n",
       "      <th>newbalanceOrig</th>\n",
       "      <th>distination_client_id</th>\n",
       "      <th>oldbalanceDest</th>\n",
       "      <th>newbalanceDest</th>\n",
       "      <th>isFraud</th>\n",
       "      <th>isFlaggedFraud</th>\n",
       "      <th>balance_diff</th>\n",
       "    </tr>\n",
       "  </thead>\n",
       "  <tbody>\n",
       "    <tr>\n",
       "      <th>3113471</th>\n",
       "      <td>235</td>\n",
       "      <td>CASH_OUT</td>\n",
       "      <td>278978.94</td>\n",
       "      <td>2108339125</td>\n",
       "      <td>0.00</td>\n",
       "      <td>0.00</td>\n",
       "      <td>C728846425</td>\n",
       "      <td>2299415.41</td>\n",
       "      <td>2578394.35</td>\n",
       "      <td>0</td>\n",
       "      <td>0</td>\n",
       "      <td>0.00</td>\n",
       "    </tr>\n",
       "    <tr>\n",
       "      <th>4625256</th>\n",
       "      <td>329</td>\n",
       "      <td>CASH_OUT</td>\n",
       "      <td>191879.87</td>\n",
       "      <td>1773808584</td>\n",
       "      <td>0.00</td>\n",
       "      <td>0.00</td>\n",
       "      <td>C1760197965</td>\n",
       "      <td>296637.50</td>\n",
       "      <td>488517.37</td>\n",
       "      <td>0</td>\n",
       "      <td>0</td>\n",
       "      <td>0.00</td>\n",
       "    </tr>\n",
       "    <tr>\n",
       "      <th>3939886</th>\n",
       "      <td>286</td>\n",
       "      <td>PAYMENT</td>\n",
       "      <td>13483.76</td>\n",
       "      <td>1959126178</td>\n",
       "      <td>22428.00</td>\n",
       "      <td>8944.24</td>\n",
       "      <td>M1522386786</td>\n",
       "      <td>0.00</td>\n",
       "      <td>0.00</td>\n",
       "      <td>0</td>\n",
       "      <td>0</td>\n",
       "      <td>13483.76</td>\n",
       "    </tr>\n",
       "    <tr>\n",
       "      <th>3590813</th>\n",
       "      <td>262</td>\n",
       "      <td>DEBIT</td>\n",
       "      <td>2536.60</td>\n",
       "      <td>1144629631</td>\n",
       "      <td>585973.00</td>\n",
       "      <td>583436.40</td>\n",
       "      <td>C157689208</td>\n",
       "      <td>93767.93</td>\n",
       "      <td>96304.53</td>\n",
       "      <td>0</td>\n",
       "      <td>0</td>\n",
       "      <td>2536.60</td>\n",
       "    </tr>\n",
       "    <tr>\n",
       "      <th>3592970</th>\n",
       "      <td>262</td>\n",
       "      <td>PAYMENT</td>\n",
       "      <td>3980.12</td>\n",
       "      <td>1182741349</td>\n",
       "      <td>304229.48</td>\n",
       "      <td>300249.37</td>\n",
       "      <td>M437803208</td>\n",
       "      <td>0.00</td>\n",
       "      <td>0.00</td>\n",
       "      <td>0</td>\n",
       "      <td>0</td>\n",
       "      <td>3980.11</td>\n",
       "    </tr>\n",
       "    <tr>\n",
       "      <th>...</th>\n",
       "      <td>...</td>\n",
       "      <td>...</td>\n",
       "      <td>...</td>\n",
       "      <td>...</td>\n",
       "      <td>...</td>\n",
       "      <td>...</td>\n",
       "      <td>...</td>\n",
       "      <td>...</td>\n",
       "      <td>...</td>\n",
       "      <td>...</td>\n",
       "      <td>...</td>\n",
       "      <td>...</td>\n",
       "    </tr>\n",
       "    <tr>\n",
       "      <th>6362609</th>\n",
       "      <td>742</td>\n",
       "      <td>CASH_OUT</td>\n",
       "      <td>258355.42</td>\n",
       "      <td>1113162093</td>\n",
       "      <td>258355.42</td>\n",
       "      <td>0.00</td>\n",
       "      <td>C797688696</td>\n",
       "      <td>25176.67</td>\n",
       "      <td>283532.09</td>\n",
       "      <td>1</td>\n",
       "      <td>0</td>\n",
       "      <td>258355.42</td>\n",
       "    </tr>\n",
       "    <tr>\n",
       "      <th>6362610</th>\n",
       "      <td>742</td>\n",
       "      <td>TRANSFER</td>\n",
       "      <td>63416.99</td>\n",
       "      <td>778071008</td>\n",
       "      <td>63416.99</td>\n",
       "      <td>0.00</td>\n",
       "      <td>C1812552860</td>\n",
       "      <td>0.00</td>\n",
       "      <td>0.00</td>\n",
       "      <td>1</td>\n",
       "      <td>0</td>\n",
       "      <td>63416.99</td>\n",
       "    </tr>\n",
       "    <tr>\n",
       "      <th>6362611</th>\n",
       "      <td>742</td>\n",
       "      <td>CASH_OUT</td>\n",
       "      <td>63416.99</td>\n",
       "      <td>994950684</td>\n",
       "      <td>63416.99</td>\n",
       "      <td>0.00</td>\n",
       "      <td>C1662241365</td>\n",
       "      <td>276433.18</td>\n",
       "      <td>339850.17</td>\n",
       "      <td>1</td>\n",
       "      <td>0</td>\n",
       "      <td>63416.99</td>\n",
       "    </tr>\n",
       "    <tr>\n",
       "      <th>6362614</th>\n",
       "      <td>743</td>\n",
       "      <td>TRANSFER</td>\n",
       "      <td>339682.13</td>\n",
       "      <td>2013999242</td>\n",
       "      <td>339682.13</td>\n",
       "      <td>0.00</td>\n",
       "      <td>C1850423904</td>\n",
       "      <td>0.00</td>\n",
       "      <td>0.00</td>\n",
       "      <td>1</td>\n",
       "      <td>0</td>\n",
       "      <td>339682.13</td>\n",
       "    </tr>\n",
       "    <tr>\n",
       "      <th>6362615</th>\n",
       "      <td>743</td>\n",
       "      <td>CASH_OUT</td>\n",
       "      <td>339682.13</td>\n",
       "      <td>786484425</td>\n",
       "      <td>339682.13</td>\n",
       "      <td>0.00</td>\n",
       "      <td>C776919290</td>\n",
       "      <td>0.00</td>\n",
       "      <td>339682.13</td>\n",
       "      <td>1</td>\n",
       "      <td>0</td>\n",
       "      <td>339682.13</td>\n",
       "    </tr>\n",
       "  </tbody>\n",
       "</table>\n",
       "<p>8718 rows × 12 columns</p>\n",
       "</div>"
      ],
      "text/plain": [
       "         step      type     amount   client_id  oldbalanceOrg  newbalanceOrig  \\\n",
       "3113471   235  CASH_OUT  278978.94  2108339125           0.00            0.00   \n",
       "4625256   329  CASH_OUT  191879.87  1773808584           0.00            0.00   \n",
       "3939886   286   PAYMENT   13483.76  1959126178       22428.00         8944.24   \n",
       "3590813   262     DEBIT    2536.60  1144629631      585973.00       583436.40   \n",
       "3592970   262   PAYMENT    3980.12  1182741349      304229.48       300249.37   \n",
       "...       ...       ...        ...         ...            ...             ...   \n",
       "6362609   742  CASH_OUT  258355.42  1113162093      258355.42            0.00   \n",
       "6362610   742  TRANSFER   63416.99   778071008       63416.99            0.00   \n",
       "6362611   742  CASH_OUT   63416.99   994950684       63416.99            0.00   \n",
       "6362614   743  TRANSFER  339682.13  2013999242      339682.13            0.00   \n",
       "6362615   743  CASH_OUT  339682.13   786484425      339682.13            0.00   \n",
       "\n",
       "        distination_client_id  oldbalanceDest  newbalanceDest  isFraud  \\\n",
       "3113471            C728846425      2299415.41      2578394.35        0   \n",
       "4625256           C1760197965       296637.50       488517.37        0   \n",
       "3939886           M1522386786            0.00            0.00        0   \n",
       "3590813            C157689208        93767.93        96304.53        0   \n",
       "3592970            M437803208            0.00            0.00        0   \n",
       "...                       ...             ...             ...      ...   \n",
       "6362609            C797688696        25176.67       283532.09        1   \n",
       "6362610           C1812552860            0.00            0.00        1   \n",
       "6362611           C1662241365       276433.18       339850.17        1   \n",
       "6362614           C1850423904            0.00            0.00        1   \n",
       "6362615            C776919290            0.00       339682.13        1   \n",
       "\n",
       "         isFlaggedFraud  balance_diff  \n",
       "3113471               0          0.00  \n",
       "4625256               0          0.00  \n",
       "3939886               0      13483.76  \n",
       "3590813               0       2536.60  \n",
       "3592970               0       3980.11  \n",
       "...                 ...           ...  \n",
       "6362609               0     258355.42  \n",
       "6362610               0      63416.99  \n",
       "6362611               0      63416.99  \n",
       "6362614               0     339682.13  \n",
       "6362615               0     339682.13  \n",
       "\n",
       "[8718 rows x 12 columns]"
      ]
     },
     "execution_count": 170,
     "metadata": {},
     "output_type": "execute_result"
    }
   ],
   "source": [
    "balancing_data"
   ]
  },
  {
   "cell_type": "code",
   "execution_count": 171,
   "id": "f6733b1c-8bf0-43cc-b78f-f6939a9f7747",
   "metadata": {},
   "outputs": [
    {
     "name": "stdout",
     "output_type": "stream",
     "text": [
      "<class 'pandas.core.frame.DataFrame'>\n",
      "Int64Index: 8718 entries, 3113471 to 6362615\n",
      "Data columns (total 12 columns):\n",
      " #   Column                 Non-Null Count  Dtype  \n",
      "---  ------                 --------------  -----  \n",
      " 0   step                   8718 non-null   int64  \n",
      " 1   type                   8718 non-null   object \n",
      " 2   amount                 8718 non-null   float64\n",
      " 3   client_id              8718 non-null   int64  \n",
      " 4   oldbalanceOrg          8718 non-null   float64\n",
      " 5   newbalanceOrig         8718 non-null   float64\n",
      " 6   distination_client_id  8718 non-null   object \n",
      " 7   oldbalanceDest         8718 non-null   float64\n",
      " 8   newbalanceDest         8718 non-null   float64\n",
      " 9   isFraud                8718 non-null   int64  \n",
      " 10  isFlaggedFraud         8718 non-null   int64  \n",
      " 11  balance_diff           8718 non-null   float64\n",
      "dtypes: float64(6), int64(4), object(2)\n",
      "memory usage: 885.4+ KB\n"
     ]
    }
   ],
   "source": [
    "balancing_data.info()"
   ]
  },
  {
   "cell_type": "code",
   "execution_count": 172,
   "id": "49e2356a-fbfb-4398-9b3f-2722f6152014",
   "metadata": {},
   "outputs": [
    {
     "data": {
      "text/plain": [
       "array(['CASH_OUT', 'PAYMENT', 'DEBIT', 'TRANSFER', 'CASH_IN'],\n",
       "      dtype=object)"
      ]
     },
     "execution_count": 172,
     "metadata": {},
     "output_type": "execute_result"
    }
   ],
   "source": [
    "balancing_data.type.unique()"
   ]
  },
  {
   "cell_type": "code",
   "execution_count": 173,
   "id": "73321287-ac98-4d1f-8b67-e9e742fc8f02",
   "metadata": {},
   "outputs": [],
   "source": [
    "balancing_data[\"type\"] = balancing_data[\"type\"].map({\"CASH_OUT\": 1, \"PAYMENT\": 2, \"CASH_IN\": 3, \"TRANSFER\": 4, \"DEBIT\": 5})"
   ]
  },
  {
   "cell_type": "code",
   "execution_count": 174,
   "id": "e5f0688d-ffa8-42a9-a084-6be4ecfc7084",
   "metadata": {},
   "outputs": [
    {
     "data": {
      "text/plain": [
       "dtype('int64')"
      ]
     },
     "execution_count": 174,
     "metadata": {},
     "output_type": "execute_result"
    }
   ],
   "source": [
    "balancing_data.type.dtype"
   ]
  },
  {
   "cell_type": "code",
   "execution_count": 175,
   "id": "634bf20b-9f67-4f0a-9c36-6ea97490d39a",
   "metadata": {},
   "outputs": [
    {
     "data": {
      "text/plain": [
       "Index(['step', 'type', 'amount', 'client_id', 'oldbalanceOrg',\n",
       "       'newbalanceOrig', 'distination_client_id', 'oldbalanceDest',\n",
       "       'newbalanceDest', 'isFraud', 'isFlaggedFraud', 'balance_diff'],\n",
       "      dtype='object')"
      ]
     },
     "execution_count": 175,
     "metadata": {},
     "output_type": "execute_result"
    }
   ],
   "source": [
    "balancing_data.columns"
   ]
  },
  {
   "cell_type": "code",
   "execution_count": 176,
   "id": "5ada99ef-7447-4e0a-9b8d-8f51703ded02",
   "metadata": {},
   "outputs": [],
   "source": [
    "X = balancing_data[['type', 'amount', 'oldbalanceOrg', 'newbalanceOrig', 'balance_diff']].values\n",
    "y = balancing_data.loc[:,'isFraud'].values"
   ]
  },
  {
   "cell_type": "code",
   "execution_count": 177,
   "id": "02bf62db-fdf0-454a-96fa-19432d134312",
   "metadata": {},
   "outputs": [
    {
     "data": {
      "text/html": [
       "<div>\n",
       "<style scoped>\n",
       "    .dataframe tbody tr th:only-of-type {\n",
       "        vertical-align: middle;\n",
       "    }\n",
       "\n",
       "    .dataframe tbody tr th {\n",
       "        vertical-align: top;\n",
       "    }\n",
       "\n",
       "    .dataframe thead th {\n",
       "        text-align: right;\n",
       "    }\n",
       "</style>\n",
       "<table border=\"1\" class=\"dataframe\">\n",
       "  <thead>\n",
       "    <tr style=\"text-align: right;\">\n",
       "      <th></th>\n",
       "      <th>step</th>\n",
       "      <th>type</th>\n",
       "      <th>amount</th>\n",
       "      <th>client_id</th>\n",
       "      <th>oldbalanceOrg</th>\n",
       "      <th>newbalanceOrig</th>\n",
       "      <th>nameDest</th>\n",
       "      <th>oldbalanceDest</th>\n",
       "      <th>newbalanceDest</th>\n",
       "      <th>isFraud</th>\n",
       "      <th>isFlaggedFraud</th>\n",
       "      <th>balance_diff</th>\n",
       "    </tr>\n",
       "  </thead>\n",
       "  <tbody>\n",
       "    <tr>\n",
       "      <th>2</th>\n",
       "      <td>1</td>\n",
       "      <td>TRANSFER</td>\n",
       "      <td>181.00</td>\n",
       "      <td>1305486145</td>\n",
       "      <td>181.00</td>\n",
       "      <td>0.0</td>\n",
       "      <td>C553264065</td>\n",
       "      <td>0.00</td>\n",
       "      <td>0.00</td>\n",
       "      <td>1</td>\n",
       "      <td>0</td>\n",
       "      <td>181.00</td>\n",
       "    </tr>\n",
       "    <tr>\n",
       "      <th>3</th>\n",
       "      <td>1</td>\n",
       "      <td>CASH_OUT</td>\n",
       "      <td>181.00</td>\n",
       "      <td>840083671</td>\n",
       "      <td>181.00</td>\n",
       "      <td>0.0</td>\n",
       "      <td>C38997010</td>\n",
       "      <td>21182.00</td>\n",
       "      <td>0.00</td>\n",
       "      <td>1</td>\n",
       "      <td>0</td>\n",
       "      <td>181.00</td>\n",
       "    </tr>\n",
       "    <tr>\n",
       "      <th>251</th>\n",
       "      <td>1</td>\n",
       "      <td>TRANSFER</td>\n",
       "      <td>2806.00</td>\n",
       "      <td>1420196421</td>\n",
       "      <td>2806.00</td>\n",
       "      <td>0.0</td>\n",
       "      <td>C972765878</td>\n",
       "      <td>0.00</td>\n",
       "      <td>0.00</td>\n",
       "      <td>1</td>\n",
       "      <td>0</td>\n",
       "      <td>2806.00</td>\n",
       "    </tr>\n",
       "    <tr>\n",
       "      <th>252</th>\n",
       "      <td>1</td>\n",
       "      <td>CASH_OUT</td>\n",
       "      <td>2806.00</td>\n",
       "      <td>2101527076</td>\n",
       "      <td>2806.00</td>\n",
       "      <td>0.0</td>\n",
       "      <td>C1007251739</td>\n",
       "      <td>26202.00</td>\n",
       "      <td>0.00</td>\n",
       "      <td>1</td>\n",
       "      <td>0</td>\n",
       "      <td>2806.00</td>\n",
       "    </tr>\n",
       "    <tr>\n",
       "      <th>680</th>\n",
       "      <td>1</td>\n",
       "      <td>TRANSFER</td>\n",
       "      <td>20128.00</td>\n",
       "      <td>137533655</td>\n",
       "      <td>20128.00</td>\n",
       "      <td>0.0</td>\n",
       "      <td>C1848415041</td>\n",
       "      <td>0.00</td>\n",
       "      <td>0.00</td>\n",
       "      <td>1</td>\n",
       "      <td>0</td>\n",
       "      <td>20128.00</td>\n",
       "    </tr>\n",
       "    <tr>\n",
       "      <th>...</th>\n",
       "      <td>...</td>\n",
       "      <td>...</td>\n",
       "      <td>...</td>\n",
       "      <td>...</td>\n",
       "      <td>...</td>\n",
       "      <td>...</td>\n",
       "      <td>...</td>\n",
       "      <td>...</td>\n",
       "      <td>...</td>\n",
       "      <td>...</td>\n",
       "      <td>...</td>\n",
       "      <td>...</td>\n",
       "    </tr>\n",
       "    <tr>\n",
       "      <th>6362609</th>\n",
       "      <td>742</td>\n",
       "      <td>CASH_OUT</td>\n",
       "      <td>258355.42</td>\n",
       "      <td>1113162093</td>\n",
       "      <td>258355.42</td>\n",
       "      <td>0.0</td>\n",
       "      <td>C797688696</td>\n",
       "      <td>25176.67</td>\n",
       "      <td>283532.09</td>\n",
       "      <td>1</td>\n",
       "      <td>0</td>\n",
       "      <td>258355.42</td>\n",
       "    </tr>\n",
       "    <tr>\n",
       "      <th>6362610</th>\n",
       "      <td>742</td>\n",
       "      <td>TRANSFER</td>\n",
       "      <td>63416.99</td>\n",
       "      <td>778071008</td>\n",
       "      <td>63416.99</td>\n",
       "      <td>0.0</td>\n",
       "      <td>C1812552860</td>\n",
       "      <td>0.00</td>\n",
       "      <td>0.00</td>\n",
       "      <td>1</td>\n",
       "      <td>0</td>\n",
       "      <td>63416.99</td>\n",
       "    </tr>\n",
       "    <tr>\n",
       "      <th>6362611</th>\n",
       "      <td>742</td>\n",
       "      <td>CASH_OUT</td>\n",
       "      <td>63416.99</td>\n",
       "      <td>994950684</td>\n",
       "      <td>63416.99</td>\n",
       "      <td>0.0</td>\n",
       "      <td>C1662241365</td>\n",
       "      <td>276433.18</td>\n",
       "      <td>339850.17</td>\n",
       "      <td>1</td>\n",
       "      <td>0</td>\n",
       "      <td>63416.99</td>\n",
       "    </tr>\n",
       "    <tr>\n",
       "      <th>6362614</th>\n",
       "      <td>743</td>\n",
       "      <td>TRANSFER</td>\n",
       "      <td>339682.13</td>\n",
       "      <td>2013999242</td>\n",
       "      <td>339682.13</td>\n",
       "      <td>0.0</td>\n",
       "      <td>C1850423904</td>\n",
       "      <td>0.00</td>\n",
       "      <td>0.00</td>\n",
       "      <td>1</td>\n",
       "      <td>0</td>\n",
       "      <td>339682.13</td>\n",
       "    </tr>\n",
       "    <tr>\n",
       "      <th>6362615</th>\n",
       "      <td>743</td>\n",
       "      <td>CASH_OUT</td>\n",
       "      <td>339682.13</td>\n",
       "      <td>786484425</td>\n",
       "      <td>339682.13</td>\n",
       "      <td>0.0</td>\n",
       "      <td>C776919290</td>\n",
       "      <td>0.00</td>\n",
       "      <td>339682.13</td>\n",
       "      <td>1</td>\n",
       "      <td>0</td>\n",
       "      <td>339682.13</td>\n",
       "    </tr>\n",
       "  </tbody>\n",
       "</table>\n",
       "<p>4359 rows × 12 columns</p>\n",
       "</div>"
      ],
      "text/plain": [
       "         step      type     amount   client_id  oldbalanceOrg  newbalanceOrig  \\\n",
       "2           1  TRANSFER     181.00  1305486145         181.00             0.0   \n",
       "3           1  CASH_OUT     181.00   840083671         181.00             0.0   \n",
       "251         1  TRANSFER    2806.00  1420196421        2806.00             0.0   \n",
       "252         1  CASH_OUT    2806.00  2101527076        2806.00             0.0   \n",
       "680         1  TRANSFER   20128.00   137533655       20128.00             0.0   \n",
       "...       ...       ...        ...         ...            ...             ...   \n",
       "6362609   742  CASH_OUT  258355.42  1113162093      258355.42             0.0   \n",
       "6362610   742  TRANSFER   63416.99   778071008       63416.99             0.0   \n",
       "6362611   742  CASH_OUT   63416.99   994950684       63416.99             0.0   \n",
       "6362614   743  TRANSFER  339682.13  2013999242      339682.13             0.0   \n",
       "6362615   743  CASH_OUT  339682.13   786484425      339682.13             0.0   \n",
       "\n",
       "            nameDest  oldbalanceDest  newbalanceDest  isFraud  isFlaggedFraud  \\\n",
       "2         C553264065            0.00            0.00        1               0   \n",
       "3          C38997010        21182.00            0.00        1               0   \n",
       "251       C972765878            0.00            0.00        1               0   \n",
       "252      C1007251739        26202.00            0.00        1               0   \n",
       "680      C1848415041            0.00            0.00        1               0   \n",
       "...              ...             ...             ...      ...             ...   \n",
       "6362609   C797688696        25176.67       283532.09        1               0   \n",
       "6362610  C1812552860            0.00            0.00        1               0   \n",
       "6362611  C1662241365       276433.18       339850.17        1               0   \n",
       "6362614  C1850423904            0.00            0.00        1               0   \n",
       "6362615   C776919290            0.00       339682.13        1               0   \n",
       "\n",
       "         balance_diff  \n",
       "2              181.00  \n",
       "3              181.00  \n",
       "251           2806.00  \n",
       "252           2806.00  \n",
       "680          20128.00  \n",
       "...               ...  \n",
       "6362609     258355.42  \n",
       "6362610      63416.99  \n",
       "6362611      63416.99  \n",
       "6362614     339682.13  \n",
       "6362615     339682.13  \n",
       "\n",
       "[4359 rows x 12 columns]"
      ]
     },
     "execution_count": 177,
     "metadata": {},
     "output_type": "execute_result"
    }
   ],
   "source": [
    "x"
   ]
  },
  {
   "cell_type": "code",
   "execution_count": 178,
   "id": "4c0c7756-0fad-451e-aa60-bf4e3dc6aad1",
   "metadata": {},
   "outputs": [
    {
     "data": {
      "text/plain": [
       "array([0, 0, 0, ..., 1, 1, 1])"
      ]
     },
     "execution_count": 178,
     "metadata": {},
     "output_type": "execute_result"
    }
   ],
   "source": [
    "y"
   ]
  },
  {
   "cell_type": "code",
   "execution_count": 179,
   "id": "37e526c2-176a-4f8e-9906-761b5f1845d2",
   "metadata": {},
   "outputs": [],
   "source": [
    "from sklearn.model_selection import train_test_split\n",
    "X_train, X_test, y_train, y_test = train_test_split(X, y, test_size=0.2, random_state=0)"
   ]
  },
  {
   "cell_type": "code",
   "execution_count": 180,
   "id": "7eb05f83-94c3-45ba-861b-d176e142f26a",
   "metadata": {},
   "outputs": [
    {
     "data": {
      "text/plain": [
       "((6974, 5), (1744, 5))"
      ]
     },
     "execution_count": 180,
     "metadata": {},
     "output_type": "execute_result"
    }
   ],
   "source": [
    "X_train.shape,X_test.shape"
   ]
  },
  {
   "cell_type": "code",
   "execution_count": 181,
   "id": "1555cd1e-d458-4bc3-b4ef-0f461c5bb2e2",
   "metadata": {},
   "outputs": [
    {
     "name": "stdout",
     "output_type": "stream",
     "text": [
      "[2.22827646e+00 1.44121501e+05 5.25110285e+05 4.49617197e+05\n",
      " 7.54930875e+04]\n"
     ]
    }
   ],
   "source": [
    "from sklearn.preprocessing import StandardScaler\n",
    "scaler= StandardScaler()\n",
    "scaler.fit(X_train)\n",
    "print(scaler.mean_)\n",
    "X_train = scaler.transform(X_train)\n",
    "X_test = scaler.transform(X_test)"
   ]
  },
  {
   "cell_type": "code",
   "execution_count": 182,
   "id": "eaf11749-95ec-4f80-a114-2fd066b54672",
   "metadata": {},
   "outputs": [],
   "source": [
    "from sklearn import preprocessing\n",
    "from sklearn import utils\n",
    "\n",
    "#convert y values to categorical values\n",
    "lab = preprocessing.LabelEncoder()\n",
    "y_train = lab.fit_transform(y_train)\n",
    "y_test = lab.fit_transform(y_test)"
   ]
  },
  {
   "cell_type": "code",
   "execution_count": 183,
   "id": "14ba289c-acec-40fc-9b5d-820778f951d8",
   "metadata": {},
   "outputs": [],
   "source": [
    "from sklearn.linear_model import LogisticRegression\n",
    "from sklearn.neighbors import KNeighborsClassifier\n",
    "from sklearn.svm import SVC\n",
    "from sklearn.naive_bayes import GaussianNB\n",
    "from sklearn.tree import DecisionTreeClassifier\n",
    "from sklearn.ensemble import RandomForestClassifier\n",
    "from xgboost import XGBClassifier\n",
    "from sklearn.metrics import confusion_matrix, accuracy_score, precision_score, recall_score, f1_score, fbeta_score"
   ]
  },
  {
   "cell_type": "code",
   "execution_count": 184,
   "id": "b6c84f3f-0509-4f21-aba4-366e98f6e25e",
   "metadata": {},
   "outputs": [],
   "source": [
    "models = {\n",
    "    \"LR\": LogisticRegression(),\n",
    "    \"KNN\": KNeighborsClassifier(),\n",
    "    \"DT\": DecisionTreeClassifier(),\n",
    "    \"RF\": RandomForestClassifier(),\n",
    "    \"XGB\": XGBClassifier(),\n",
    "    \"Naive Bayes\": GaussianNB(),\n",
    "    \"SVC\": SVC()\n",
    "\n",
    "}"
   ]
  },
  {
   "cell_type": "code",
   "execution_count": 185,
   "id": "d28097e3-f69a-42a3-acbf-8fa6e51200ad",
   "metadata": {},
   "outputs": [
    {
     "name": "stdout",
     "output_type": "stream",
     "text": [
      "Training Model LR \n",
      "--------------\n",
      "Training Accuracy: 0.9212790364209923\n",
      "Testing Accuracy: 0.9231651376146789\n",
      "Testing Confusion Matrix: \n",
      "[[847  30]\n",
      " [104 763]]\n",
      "Recall Score :  0.9231651376146789\n",
      "Precision Score :  0.9231651376146789\n",
      "Testing F-1: 0.9231651376146789\n",
      "Testing F-Beta: 0.9231651376146789\n",
      "------------------------------\n",
      "Training Model KNN \n",
      "--------------\n",
      "Training Accuracy: 0.9826498422712934\n",
      "Testing Accuracy: 0.981651376146789\n",
      "Testing Confusion Matrix: \n",
      "[[849  28]\n",
      " [  4 863]]\n",
      "Recall Score :  0.981651376146789\n",
      "Precision Score :  0.981651376146789\n",
      "Testing F-1: 0.981651376146789\n",
      "Testing F-Beta: 0.981651376146789\n",
      "------------------------------\n",
      "Training Model DT \n",
      "--------------\n",
      "Training Accuracy: 1.0\n",
      "Testing Accuracy: 0.9931192660550459\n",
      "Testing Confusion Matrix: \n",
      "[[869   8]\n",
      " [  4 863]]\n",
      "Recall Score :  0.9931192660550459\n",
      "Precision Score :  0.9931192660550459\n",
      "Testing F-1: 0.9931192660550459\n",
      "Testing F-Beta: 0.993119266055046\n",
      "------------------------------\n",
      "Training Model RF \n",
      "--------------\n"
     ]
    },
    {
     "name": "stderr",
     "output_type": "stream",
     "text": [
      "/opt/homebrew/Caskroom/miniconda/base/envs/py38/lib/python3.8/site-packages/sklearn/metrics/_classification.py:1396: UserWarning: Note that pos_label (set to 'positive') is ignored when average != 'binary' (got 'micro'). You may use labels=[pos_label] to specify a single positive class.\n",
      "  warnings.warn(\n",
      "/opt/homebrew/Caskroom/miniconda/base/envs/py38/lib/python3.8/site-packages/sklearn/metrics/_classification.py:1396: UserWarning: Note that pos_label (set to 'positive') is ignored when average != 'binary' (got 'micro'). You may use labels=[pos_label] to specify a single positive class.\n",
      "  warnings.warn(\n",
      "/opt/homebrew/Caskroom/miniconda/base/envs/py38/lib/python3.8/site-packages/sklearn/metrics/_classification.py:1396: UserWarning: Note that pos_label (set to 'positive') is ignored when average != 'binary' (got 'micro'). You may use labels=[pos_label] to specify a single positive class.\n",
      "  warnings.warn(\n",
      "/opt/homebrew/Caskroom/miniconda/base/envs/py38/lib/python3.8/site-packages/sklearn/metrics/_classification.py:1396: UserWarning: Note that pos_label (set to 'positive') is ignored when average != 'binary' (got 'micro'). You may use labels=[pos_label] to specify a single positive class.\n",
      "  warnings.warn(\n",
      "/opt/homebrew/Caskroom/miniconda/base/envs/py38/lib/python3.8/site-packages/sklearn/metrics/_classification.py:1396: UserWarning: Note that pos_label (set to 'positive') is ignored when average != 'binary' (got 'micro'). You may use labels=[pos_label] to specify a single positive class.\n",
      "  warnings.warn(\n",
      "/opt/homebrew/Caskroom/miniconda/base/envs/py38/lib/python3.8/site-packages/sklearn/metrics/_classification.py:1396: UserWarning: Note that pos_label (set to 'positive') is ignored when average != 'binary' (got 'micro'). You may use labels=[pos_label] to specify a single positive class.\n",
      "  warnings.warn(\n",
      "/opt/homebrew/Caskroom/miniconda/base/envs/py38/lib/python3.8/site-packages/sklearn/metrics/_classification.py:1396: UserWarning: Note that pos_label (set to 'positive') is ignored when average != 'binary' (got 'micro'). You may use labels=[pos_label] to specify a single positive class.\n",
      "  warnings.warn(\n",
      "/opt/homebrew/Caskroom/miniconda/base/envs/py38/lib/python3.8/site-packages/sklearn/metrics/_classification.py:1396: UserWarning: Note that pos_label (set to 'positive') is ignored when average != 'binary' (got 'micro'). You may use labels=[pos_label] to specify a single positive class.\n",
      "  warnings.warn(\n",
      "/opt/homebrew/Caskroom/miniconda/base/envs/py38/lib/python3.8/site-packages/sklearn/metrics/_classification.py:1396: UserWarning: Note that pos_label (set to 'positive') is ignored when average != 'binary' (got 'micro'). You may use labels=[pos_label] to specify a single positive class.\n",
      "  warnings.warn(\n",
      "/opt/homebrew/Caskroom/miniconda/base/envs/py38/lib/python3.8/site-packages/sklearn/metrics/_classification.py:1396: UserWarning: Note that pos_label (set to 'positive') is ignored when average != 'binary' (got 'micro'). You may use labels=[pos_label] to specify a single positive class.\n",
      "  warnings.warn(\n",
      "/opt/homebrew/Caskroom/miniconda/base/envs/py38/lib/python3.8/site-packages/sklearn/metrics/_classification.py:1396: UserWarning: Note that pos_label (set to 'positive') is ignored when average != 'binary' (got 'micro'). You may use labels=[pos_label] to specify a single positive class.\n",
      "  warnings.warn(\n",
      "/opt/homebrew/Caskroom/miniconda/base/envs/py38/lib/python3.8/site-packages/sklearn/metrics/_classification.py:1396: UserWarning: Note that pos_label (set to 'positive') is ignored when average != 'binary' (got 'micro'). You may use labels=[pos_label] to specify a single positive class.\n",
      "  warnings.warn(\n"
     ]
    },
    {
     "name": "stdout",
     "output_type": "stream",
     "text": [
      "Training Accuracy: 0.9998566102667049\n",
      "Testing Accuracy: 0.9919724770642202\n",
      "Testing Confusion Matrix: \n",
      "[[866  11]\n",
      " [  3 864]]\n",
      "Recall Score :  0.9919724770642202\n",
      "Precision Score :  0.9919724770642202\n",
      "Testing F-1: 0.9919724770642202\n",
      "Testing F-Beta: 0.9919724770642202\n",
      "------------------------------\n",
      "Training Model XGB \n",
      "--------------\n",
      "Training Accuracy: 0.9958416977344422\n",
      "Testing Accuracy: 0.9931192660550459\n",
      "Testing Confusion Matrix: \n",
      "[[869   8]\n",
      " [  4 863]]\n",
      "Recall Score :  0.9931192660550459\n"
     ]
    },
    {
     "name": "stderr",
     "output_type": "stream",
     "text": [
      "/opt/homebrew/Caskroom/miniconda/base/envs/py38/lib/python3.8/site-packages/sklearn/metrics/_classification.py:1396: UserWarning: Note that pos_label (set to 'positive') is ignored when average != 'binary' (got 'micro'). You may use labels=[pos_label] to specify a single positive class.\n",
      "  warnings.warn(\n",
      "/opt/homebrew/Caskroom/miniconda/base/envs/py38/lib/python3.8/site-packages/sklearn/metrics/_classification.py:1396: UserWarning: Note that pos_label (set to 'positive') is ignored when average != 'binary' (got 'micro'). You may use labels=[pos_label] to specify a single positive class.\n",
      "  warnings.warn(\n",
      "/opt/homebrew/Caskroom/miniconda/base/envs/py38/lib/python3.8/site-packages/sklearn/metrics/_classification.py:1396: UserWarning: Note that pos_label (set to 'positive') is ignored when average != 'binary' (got 'micro'). You may use labels=[pos_label] to specify a single positive class.\n",
      "  warnings.warn(\n",
      "/opt/homebrew/Caskroom/miniconda/base/envs/py38/lib/python3.8/site-packages/sklearn/metrics/_classification.py:1396: UserWarning: Note that pos_label (set to 'positive') is ignored when average != 'binary' (got 'micro'). You may use labels=[pos_label] to specify a single positive class.\n",
      "  warnings.warn(\n",
      "/opt/homebrew/Caskroom/miniconda/base/envs/py38/lib/python3.8/site-packages/sklearn/metrics/_classification.py:1396: UserWarning: Note that pos_label (set to 'positive') is ignored when average != 'binary' (got 'micro'). You may use labels=[pos_label] to specify a single positive class.\n",
      "  warnings.warn(\n",
      "/opt/homebrew/Caskroom/miniconda/base/envs/py38/lib/python3.8/site-packages/sklearn/metrics/_classification.py:1396: UserWarning: Note that pos_label (set to 'positive') is ignored when average != 'binary' (got 'micro'). You may use labels=[pos_label] to specify a single positive class.\n",
      "  warnings.warn(\n"
     ]
    },
    {
     "name": "stdout",
     "output_type": "stream",
     "text": [
      "Precision Score :  0.9931192660550459\n",
      "Testing F-1: 0.9931192660550459\n",
      "Testing F-Beta: 0.993119266055046\n",
      "------------------------------\n",
      "Training Model Naive Bayes \n",
      "--------------\n",
      "Training Accuracy: 0.5762833381129912\n",
      "Testing Accuracy: 0.5774082568807339\n",
      "Testing Confusion Matrix: \n",
      "[[140 737]\n",
      " [  0 867]]\n",
      "Recall Score :  0.5774082568807339\n",
      "Precision Score :  0.5774082568807339\n",
      "Testing F-1: 0.5774082568807339\n",
      "Testing F-Beta: 0.5774082568807339\n",
      "------------------------------\n",
      "Training Model SVC \n",
      "--------------\n"
     ]
    },
    {
     "name": "stderr",
     "output_type": "stream",
     "text": [
      "/opt/homebrew/Caskroom/miniconda/base/envs/py38/lib/python3.8/site-packages/sklearn/metrics/_classification.py:1396: UserWarning: Note that pos_label (set to 'positive') is ignored when average != 'binary' (got 'micro'). You may use labels=[pos_label] to specify a single positive class.\n",
      "  warnings.warn(\n",
      "/opt/homebrew/Caskroom/miniconda/base/envs/py38/lib/python3.8/site-packages/sklearn/metrics/_classification.py:1396: UserWarning: Note that pos_label (set to 'positive') is ignored when average != 'binary' (got 'micro'). You may use labels=[pos_label] to specify a single positive class.\n",
      "  warnings.warn(\n",
      "/opt/homebrew/Caskroom/miniconda/base/envs/py38/lib/python3.8/site-packages/sklearn/metrics/_classification.py:1396: UserWarning: Note that pos_label (set to 'positive') is ignored when average != 'binary' (got 'micro'). You may use labels=[pos_label] to specify a single positive class.\n",
      "  warnings.warn(\n",
      "/opt/homebrew/Caskroom/miniconda/base/envs/py38/lib/python3.8/site-packages/sklearn/metrics/_classification.py:1396: UserWarning: Note that pos_label (set to 'positive') is ignored when average != 'binary' (got 'micro'). You may use labels=[pos_label] to specify a single positive class.\n",
      "  warnings.warn(\n",
      "/opt/homebrew/Caskroom/miniconda/base/envs/py38/lib/python3.8/site-packages/sklearn/metrics/_classification.py:1396: UserWarning: Note that pos_label (set to 'positive') is ignored when average != 'binary' (got 'micro'). You may use labels=[pos_label] to specify a single positive class.\n",
      "  warnings.warn(\n",
      "/opt/homebrew/Caskroom/miniconda/base/envs/py38/lib/python3.8/site-packages/sklearn/metrics/_classification.py:1396: UserWarning: Note that pos_label (set to 'positive') is ignored when average != 'binary' (got 'micro'). You may use labels=[pos_label] to specify a single positive class.\n",
      "  warnings.warn(\n"
     ]
    },
    {
     "name": "stdout",
     "output_type": "stream",
     "text": [
      "Training Accuracy: 0.9561227416117006\n",
      "Testing Accuracy: 0.9610091743119266\n",
      "Testing Confusion Matrix: \n",
      "[[813  64]\n",
      " [  4 863]]\n",
      "Recall Score :  0.9610091743119266\n",
      "Precision Score :  0.9610091743119266\n",
      "Testing F-1: 0.9610091743119266\n",
      "Testing F-Beta: 0.9610091743119267\n",
      "------------------------------\n"
     ]
    },
    {
     "name": "stderr",
     "output_type": "stream",
     "text": [
      "/opt/homebrew/Caskroom/miniconda/base/envs/py38/lib/python3.8/site-packages/sklearn/metrics/_classification.py:1396: UserWarning: Note that pos_label (set to 'positive') is ignored when average != 'binary' (got 'micro'). You may use labels=[pos_label] to specify a single positive class.\n",
      "  warnings.warn(\n",
      "/opt/homebrew/Caskroom/miniconda/base/envs/py38/lib/python3.8/site-packages/sklearn/metrics/_classification.py:1396: UserWarning: Note that pos_label (set to 'positive') is ignored when average != 'binary' (got 'micro'). You may use labels=[pos_label] to specify a single positive class.\n",
      "  warnings.warn(\n",
      "/opt/homebrew/Caskroom/miniconda/base/envs/py38/lib/python3.8/site-packages/sklearn/metrics/_classification.py:1396: UserWarning: Note that pos_label (set to 'positive') is ignored when average != 'binary' (got 'micro'). You may use labels=[pos_label] to specify a single positive class.\n",
      "  warnings.warn(\n",
      "/opt/homebrew/Caskroom/miniconda/base/envs/py38/lib/python3.8/site-packages/sklearn/metrics/_classification.py:1396: UserWarning: Note that pos_label (set to 'positive') is ignored when average != 'binary' (got 'micro'). You may use labels=[pos_label] to specify a single positive class.\n",
      "  warnings.warn(\n"
     ]
    }
   ],
   "source": [
    "for name, model in models.items():\n",
    "    print(f'Training Model {name} \\n--------------')\n",
    "    model.fit(X_train, y_train)\n",
    "    y_pred = model.predict(X_test)\n",
    "    print(f'Training Accuracy: {accuracy_score(y_train, model.predict(X_train))}')\n",
    "    print(f'Testing Accuracy: {accuracy_score(y_test, y_pred)}')\n",
    "    print(f'Testing Confusion Matrix: \\n{confusion_matrix(y_test, y_pred)}')\n",
    "    print(\"Recall Score : \",recall_score(y_test, y_pred, pos_label='positive', average='micro'))    \n",
    "    print(\"Precision Score : \",precision_score(y_test, y_pred,  pos_label='positive',average='micro'))     \n",
    "    print(f\"Testing F-1:\", f1_score(y_test, y_pred, pos_label='positive', average='micro' )        )\n",
    "    print(f\"Testing F-Beta:\", fbeta_score(y_test, y_pred, beta=0.5, pos_label='positive', average='micro'))\n",
    "    print('-'*30)"
   ]
  },
  {
   "cell_type": "code",
   "execution_count": 186,
   "id": "ab75c0fc-bec1-4559-8702-b8fd9226a2eb",
   "metadata": {},
   "outputs": [
    {
     "name": "stdout",
     "output_type": "stream",
     "text": [
      "XGBClassifier(base_score=None, booster=None, callbacks=None,\n",
      "              colsample_bylevel=None, colsample_bynode=None,\n",
      "              colsample_bytree=None, early_stopping_rounds=None,\n",
      "              enable_categorical=False, eval_metric=None, feature_types=None,\n",
      "              gamma=None, gpu_id=None, grow_policy=None, importance_type=None,\n",
      "              interaction_constraints=None, learning_rate=None, max_bin=None,\n",
      "              max_cat_threshold=None, max_cat_to_onehot=None,\n",
      "              max_delta_step=None, max_depth=None, max_leaves=None,\n",
      "              min_child_weight=None, missing=nan, monotone_constraints=None,\n",
      "              n_estimators=100, n_jobs=None, num_parallel_tree=None,\n",
      "              predictor=None, random_state=None, ...)\n"
     ]
    }
   ],
   "source": [
    "model = XGBClassifier()\n",
    "model.fit(X_train, y_train)\n",
    "print(model)"
   ]
  },
  {
   "cell_type": "code",
   "execution_count": 187,
   "id": "55bab18b-4b8e-440e-8aca-95bc053538c3",
   "metadata": {},
   "outputs": [],
   "source": [
    "# make predictions for test data\n",
    "y_pred = model.predict(X_test)\n",
    "predictions = [round(value) for value in y_pred]"
   ]
  },
  {
   "cell_type": "code",
   "execution_count": 188,
   "id": "cc720242-f8b9-4265-8eb9-ebd211304eb0",
   "metadata": {},
   "outputs": [
    {
     "name": "stdout",
     "output_type": "stream",
     "text": [
      "Accuracy: 99.31%\n"
     ]
    }
   ],
   "source": [
    "# evaluate predictions\n",
    "accuracy = accuracy_score(y_test, predictions)\n",
    "print(\"Accuracy: %.2f%%\" % (accuracy * 100.0))"
   ]
  },
  {
   "cell_type": "code",
   "execution_count": 189,
   "id": "3312e396-ab60-4a44-bd52-c8f1b6dd9176",
   "metadata": {},
   "outputs": [
    {
     "data": {
      "text/plain": [
       "array([1, 0])"
      ]
     },
     "execution_count": 189,
     "metadata": {},
     "output_type": "execute_result"
    }
   ],
   "source": [
    "rounded_y = np.round(y_pred)\n",
    "unique_val = pd.DataFrame(y_test)\n",
    "unique_val[0].unique()"
   ]
  },
  {
   "cell_type": "code",
   "execution_count": 190,
   "id": "24c20134-a88b-4240-a3cb-ca7fe9e2aa57",
   "metadata": {},
   "outputs": [
    {
     "data": {
      "text/plain": [
       "array([[[869,   8],\n",
       "        [  4, 863]],\n",
       "\n",
       "       [[863,   4],\n",
       "        [  8, 869]]])"
      ]
     },
     "execution_count": 190,
     "metadata": {},
     "output_type": "execute_result"
    }
   ],
   "source": [
    "from sklearn.metrics import multilabel_confusion_matrix\n",
    "y_unique = unique_val[0].unique()\n",
    "mcm = multilabel_confusion_matrix(y_test, y_pred, labels = y_unique)\n",
    "mcm"
   ]
  },
  {
   "cell_type": "code",
   "execution_count": 191,
   "id": "b91a15a6-5f87-4d4d-b63c-c5a9ad4151fb",
   "metadata": {},
   "outputs": [
    {
     "data": {
      "text/html": [
       "<div>\n",
       "<style scoped>\n",
       "    .dataframe tbody tr th:only-of-type {\n",
       "        vertical-align: middle;\n",
       "    }\n",
       "\n",
       "    .dataframe tbody tr th {\n",
       "        vertical-align: top;\n",
       "    }\n",
       "\n",
       "    .dataframe thead th {\n",
       "        text-align: right;\n",
       "    }\n",
       "</style>\n",
       "<table border=\"1\" class=\"dataframe\">\n",
       "  <thead>\n",
       "    <tr style=\"text-align: right;\">\n",
       "      <th></th>\n",
       "      <th>step</th>\n",
       "      <th>type</th>\n",
       "      <th>amount</th>\n",
       "      <th>client_id</th>\n",
       "      <th>oldbalanceOrg</th>\n",
       "      <th>newbalanceOrig</th>\n",
       "      <th>distination_client_id</th>\n",
       "      <th>oldbalanceDest</th>\n",
       "      <th>newbalanceDest</th>\n",
       "      <th>isFraud</th>\n",
       "      <th>isFlaggedFraud</th>\n",
       "      <th>balance_diff</th>\n",
       "    </tr>\n",
       "  </thead>\n",
       "  <tbody>\n",
       "    <tr>\n",
       "      <th>0</th>\n",
       "      <td>1</td>\n",
       "      <td>PAYMENT</td>\n",
       "      <td>9839.64</td>\n",
       "      <td>1231006815</td>\n",
       "      <td>170136.0</td>\n",
       "      <td>160296.36</td>\n",
       "      <td>M1979787155</td>\n",
       "      <td>0.0</td>\n",
       "      <td>0.0</td>\n",
       "      <td>0</td>\n",
       "      <td>0</td>\n",
       "      <td>9839.64</td>\n",
       "    </tr>\n",
       "    <tr>\n",
       "      <th>1</th>\n",
       "      <td>1</td>\n",
       "      <td>PAYMENT</td>\n",
       "      <td>1864.28</td>\n",
       "      <td>1666544295</td>\n",
       "      <td>21249.0</td>\n",
       "      <td>19384.72</td>\n",
       "      <td>M2044282225</td>\n",
       "      <td>0.0</td>\n",
       "      <td>0.0</td>\n",
       "      <td>0</td>\n",
       "      <td>0</td>\n",
       "      <td>1864.28</td>\n",
       "    </tr>\n",
       "    <tr>\n",
       "      <th>2</th>\n",
       "      <td>1</td>\n",
       "      <td>TRANSFER</td>\n",
       "      <td>181.00</td>\n",
       "      <td>1305486145</td>\n",
       "      <td>181.0</td>\n",
       "      <td>0.00</td>\n",
       "      <td>C553264065</td>\n",
       "      <td>0.0</td>\n",
       "      <td>0.0</td>\n",
       "      <td>1</td>\n",
       "      <td>0</td>\n",
       "      <td>181.00</td>\n",
       "    </tr>\n",
       "    <tr>\n",
       "      <th>3</th>\n",
       "      <td>1</td>\n",
       "      <td>CASH_OUT</td>\n",
       "      <td>181.00</td>\n",
       "      <td>840083671</td>\n",
       "      <td>181.0</td>\n",
       "      <td>0.00</td>\n",
       "      <td>C38997010</td>\n",
       "      <td>21182.0</td>\n",
       "      <td>0.0</td>\n",
       "      <td>1</td>\n",
       "      <td>0</td>\n",
       "      <td>181.00</td>\n",
       "    </tr>\n",
       "    <tr>\n",
       "      <th>4</th>\n",
       "      <td>1</td>\n",
       "      <td>PAYMENT</td>\n",
       "      <td>11668.14</td>\n",
       "      <td>2048537720</td>\n",
       "      <td>41554.0</td>\n",
       "      <td>29885.86</td>\n",
       "      <td>M1230701703</td>\n",
       "      <td>0.0</td>\n",
       "      <td>0.0</td>\n",
       "      <td>0</td>\n",
       "      <td>0</td>\n",
       "      <td>11668.14</td>\n",
       "    </tr>\n",
       "  </tbody>\n",
       "</table>\n",
       "</div>"
      ],
      "text/plain": [
       "   step      type    amount   client_id  oldbalanceOrg  newbalanceOrig  \\\n",
       "0     1   PAYMENT   9839.64  1231006815       170136.0       160296.36   \n",
       "1     1   PAYMENT   1864.28  1666544295        21249.0        19384.72   \n",
       "2     1  TRANSFER    181.00  1305486145          181.0            0.00   \n",
       "3     1  CASH_OUT    181.00   840083671          181.0            0.00   \n",
       "4     1   PAYMENT  11668.14  2048537720        41554.0        29885.86   \n",
       "\n",
       "  distination_client_id  oldbalanceDest  newbalanceDest  isFraud  \\\n",
       "0           M1979787155             0.0             0.0        0   \n",
       "1           M2044282225             0.0             0.0        0   \n",
       "2            C553264065             0.0             0.0        1   \n",
       "3             C38997010         21182.0             0.0        1   \n",
       "4           M1230701703             0.0             0.0        0   \n",
       "\n",
       "   isFlaggedFraud  balance_diff  \n",
       "0               0       9839.64  \n",
       "1               0       1864.28  \n",
       "2               0        181.00  \n",
       "3               0        181.00  \n",
       "4               0      11668.14  "
      ]
     },
     "execution_count": 191,
     "metadata": {},
     "output_type": "execute_result"
    }
   ],
   "source": [
    "data.head()"
   ]
  },
  {
   "cell_type": "code",
   "execution_count": 192,
   "id": "d4f9bec1-b0f6-47f5-883e-5770c0294301",
   "metadata": {},
   "outputs": [
    {
     "name": "stdout",
     "output_type": "stream",
     "text": [
      "not Fraud\n"
     ]
    }
   ],
   "source": [
    "if  model.predict([[2,9839.64,170136.0,160296.36,9839.64]])[0] == 0:\n",
    "    print('not Fraud')\n",
    "else: print('is Fraud')"
   ]
  },
  {
   "cell_type": "code",
   "execution_count": null,
   "id": "23d5f961-36a6-4738-93fb-d0d26a1b5970",
   "metadata": {},
   "outputs": [],
   "source": []
  }
 ],
 "metadata": {
  "kernelspec": {
   "display_name": "Python 3 (ipykernel)",
   "language": "python",
   "name": "python3"
  },
  "language_info": {
   "codemirror_mode": {
    "name": "ipython",
    "version": 3
   },
   "file_extension": ".py",
   "mimetype": "text/x-python",
   "name": "python",
   "nbconvert_exporter": "python",
   "pygments_lexer": "ipython3",
   "version": "3.8.16"
  }
 },
 "nbformat": 4,
 "nbformat_minor": 5
}
