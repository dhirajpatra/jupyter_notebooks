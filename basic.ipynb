{
 "cells": [
  {
   "cell_type": "code",
<<<<<<< HEAD
   "execution_count": 1,
=======
   "execution_count": 2,
>>>>>>> d4da3f13070cd9d158b64ab3189ef6f5f310afb8
   "metadata": {},
   "outputs": [],
   "source": [
    "import numpy as np"
   ]
  },
  {
   "cell_type": "code",
<<<<<<< HEAD
   "execution_count": 2,
=======
   "execution_count": 3,
>>>>>>> d4da3f13070cd9d158b64ab3189ef6f5f310afb8
   "metadata": {},
   "outputs": [
    {
     "data": {
      "text/plain": [
       "array([[1],\n",
       "       [5],\n",
       "       [3]])"
      ]
     },
<<<<<<< HEAD
     "execution_count": 2,
=======
     "execution_count": 3,
>>>>>>> d4da3f13070cd9d158b64ab3189ef6f5f310afb8
     "metadata": {},
     "output_type": "execute_result"
    }
   ],
   "source": [
    "x = np.array([[1], [5], [3]])\n",
    "x"
   ]
  },
  {
   "cell_type": "code",
<<<<<<< HEAD
   "execution_count": 3,
=======
   "execution_count": 4,
>>>>>>> d4da3f13070cd9d158b64ab3189ef6f5f310afb8
   "metadata": {},
   "outputs": [
    {
     "data": {
      "text/plain": [
       "array([[1, 5, 3]])"
      ]
     },
<<<<<<< HEAD
     "execution_count": 3,
=======
     "execution_count": 4,
>>>>>>> d4da3f13070cd9d158b64ab3189ef6f5f310afb8
     "metadata": {},
     "output_type": "execute_result"
    }
   ],
   "source": [
    "y = x.T\n",
    "y"
   ]
  },
  {
   "cell_type": "code",
<<<<<<< HEAD
   "execution_count": 4,
=======
   "execution_count": 5,
>>>>>>> d4da3f13070cd9d158b64ab3189ef6f5f310afb8
   "metadata": {},
   "outputs": [
    {
     "data": {
      "text/plain": [
       "array([[ 1,  5,  3],\n",
       "       [ 5, 25, 15],\n",
       "       [ 3, 15,  9]])"
      ]
     },
<<<<<<< HEAD
     "execution_count": 4,
=======
     "execution_count": 5,
>>>>>>> d4da3f13070cd9d158b64ab3189ef6f5f310afb8
     "metadata": {},
     "output_type": "execute_result"
    }
   ],
   "source": [
    "x.dot(y)"
   ]
  },
  {
   "cell_type": "code",
<<<<<<< HEAD
   "execution_count": 5,
=======
   "execution_count": 6,
>>>>>>> d4da3f13070cd9d158b64ab3189ef6f5f310afb8
   "metadata": {},
   "outputs": [
    {
     "data": {
      "text/plain": [
       "array([[0, 1],\n",
       "       [2, 3],\n",
       "       [4, 5],\n",
       "       [6, 7]])"
      ]
     },
<<<<<<< HEAD
     "execution_count": 5,
=======
     "execution_count": 6,
>>>>>>> d4da3f13070cd9d158b64ab3189ef6f5f310afb8
     "metadata": {},
     "output_type": "execute_result"
    }
   ],
   "source": [
    "a = np.arange(8).reshape(4,2)\n",
    "a"
   ]
  },
  {
   "cell_type": "code",
<<<<<<< HEAD
   "execution_count": 6,
=======
   "execution_count": 7,
>>>>>>> d4da3f13070cd9d158b64ab3189ef6f5f310afb8
   "metadata": {},
   "outputs": [
    {
     "data": {
      "text/plain": [
       "array([[ 0,  1,  2],\n",
       "       [ 3,  4,  5],\n",
       "       [ 6,  7,  8],\n",
       "       [ 9, 10, 11]])"
      ]
     },
<<<<<<< HEAD
     "execution_count": 6,
=======
     "execution_count": 7,
>>>>>>> d4da3f13070cd9d158b64ab3189ef6f5f310afb8
     "metadata": {},
     "output_type": "execute_result"
    }
   ],
   "source": [
    "b = np.arange(12).reshape(4,3)\n",
    "b"
   ]
  },
  {
   "cell_type": "code",
<<<<<<< HEAD
   "execution_count": 7,
   "metadata": {},
   "outputs": [
    {
     "data": {
      "text/plain": [
       "(4, 1)"
      ]
     },
     "execution_count": 7,
     "metadata": {},
     "output_type": "execute_result"
=======
   "execution_count": 9,
   "metadata": {},
   "outputs": [
    {
     "ename": "ValueError",
     "evalue": "shapes (4,1) and (4,1) not aligned: 1 (dim 1) != 4 (dim 0)",
     "output_type": "error",
     "traceback": [
      "\u001b[0;31m---------------------------------------------------------------------------\u001b[0m",
      "\u001b[0;31mValueError\u001b[0m                                Traceback (most recent call last)",
      "\u001b[0;32m/tmp/ipykernel_660586/3333837176.py\u001b[0m in \u001b[0;36m<module>\u001b[0;34m\u001b[0m\n\u001b[1;32m      2\u001b[0m \u001b[0mc\u001b[0m\u001b[0;34m.\u001b[0m\u001b[0mshape\u001b[0m\u001b[0;34m\u001b[0m\u001b[0;34m\u001b[0m\u001b[0m\n\u001b[1;32m      3\u001b[0m \u001b[0;34m(\u001b[0m\u001b[0mc\u001b[0m \u001b[0;34m*\u001b[0m \u001b[0mc\u001b[0m\u001b[0;34m)\u001b[0m\u001b[0;34m.\u001b[0m\u001b[0mshape\u001b[0m\u001b[0;34m\u001b[0m\u001b[0;34m\u001b[0m\u001b[0m\n\u001b[0;32m----> 4\u001b[0;31m \u001b[0mnp\u001b[0m\u001b[0;34m.\u001b[0m\u001b[0mdot\u001b[0m\u001b[0;34m(\u001b[0m\u001b[0mc\u001b[0m\u001b[0;34m,\u001b[0m\u001b[0mc\u001b[0m\u001b[0;34m)\u001b[0m\u001b[0;34m\u001b[0m\u001b[0;34m\u001b[0m\u001b[0m\n\u001b[0m",
      "\u001b[0;32m<__array_function__ internals>\u001b[0m in \u001b[0;36mdot\u001b[0;34m(*args, **kwargs)\u001b[0m\n",
      "\u001b[0;31mValueError\u001b[0m: shapes (4,1) and (4,1) not aligned: 1 (dim 1) != 4 (dim 0)"
     ]
>>>>>>> d4da3f13070cd9d158b64ab3189ef6f5f310afb8
    }
   ],
   "source": [
    "c = np.arange(4).reshape(4,1)\n",
    "c.shape\n",
<<<<<<< HEAD
    "(c * c).shape"
   ]
  },
  {
   "cell_type": "code",
   "execution_count": 8,
   "metadata": {},
   "outputs": [
    {
     "name": "stdout",
     "output_type": "stream",
     "text": [
      "[[ 0  1  2]\n",
      " [ 3  4  5]\n",
      " [ 6  7  8]\n",
      " [99 99 99]]\n"
     ]
    },
    {
     "data": {
      "text/plain": [
       "array([[  2,   3,   4],\n",
       "       [  5,   6,   7],\n",
       "       [  8,   9,  10],\n",
       "       [101, 101, 101]])"
      ]
     },
     "execution_count": 8,
     "metadata": {},
     "output_type": "execute_result"
    }
   ],
   "source": [
    "temp = b\n",
    "temp[3] = 99\n",
    "print(temp)\n",
    "temp += 2\n",
    "temp"
   ]
  },
  {
   "cell_type": "code",
   "execution_count": 9,
   "metadata": {},
   "outputs": [
    {
     "data": {
      "text/plain": [
       "array([[  6,   9,  12],\n",
       "       [ 15,  18,  21],\n",
       "       [ 24,  27,  30],\n",
       "       [303, 303, 303]])"
      ]
     },
     "execution_count": 9,
     "metadata": {},
     "output_type": "execute_result"
    }
   ],
   "source": [
    "temp * 3"
=======
    "(c * c).shape\n",
    "np.dot(c,c)"
>>>>>>> d4da3f13070cd9d158b64ab3189ef6f5f310afb8
   ]
  },
  {
   "cell_type": "code",
   "execution_count": 10,
   "metadata": {},
   "outputs": [
    {
     "data": {
      "text/plain": [
<<<<<<< HEAD
       "array([[ 27,  33,  19],\n",
       "       [ 30,  36,  22],\n",
       "       [ 33,  39,  25],\n",
       "       [126, 131, 116]])"
      ]
     },
     "execution_count": 10,
     "metadata": {},
     "output_type": "execute_result"
    }
   ],
   "source": [
    "temp + np.array([25, 30, 15])"
   ]
  },
  {
   "cell_type": "code",
   "execution_count": 11,
   "metadata": {},
   "outputs": [
    {
     "data": {
      "text/plain": [
       "357"
      ]
     },
     "execution_count": 11,
     "metadata": {},
     "output_type": "execute_result"
    }
   ],
   "source": [
    "temp.sum()"
   ]
  },
  {
   "cell_type": "code",
   "execution_count": 12,
   "metadata": {},
   "outputs": [
    {
     "data": {
      "text/plain": [
       "29.75"
      ]
     },
     "execution_count": 12,
     "metadata": {},
     "output_type": "execute_result"
    }
   ],
   "source": [
    "temp.mean()"
   ]
  },
  {
   "cell_type": "code",
   "execution_count": 13,
   "metadata": {},
   "outputs": [
    {
     "data": {
      "text/plain": [
       "array([41.62331078, 41.19086671, 40.75843471])"
      ]
     },
     "execution_count": 13,
     "metadata": {},
     "output_type": "execute_result"
    }
   ],
   "source": [
    "temp.std(axis=0)"
   ]
  },
  {
   "cell_type": "code",
   "execution_count": 20,
   "metadata": {},
   "outputs": [
    {
     "data": {
      "text/plain": [
       "array([[False, False, False],\n",
       "       [False, False, False],\n",
       "       [False, False, False],\n",
       "       [ True,  True,  True]])"
      ]
     },
     "execution_count": 20,
     "metadata": {},
     "output_type": "execute_result"
    }
   ],
   "source": [
    "temp > 50"
   ]
  },
  {
   "cell_type": "code",
   "execution_count": 21,
   "metadata": {},
   "outputs": [
    {
     "data": {
      "text/plain": [
       "array([101, 101, 101])"
      ]
     },
     "execution_count": 21,
     "metadata": {},
     "output_type": "execute_result"
    }
   ],
   "source": [
    "temp[temp > 50]"
   ]
  },
  {
   "cell_type": "code",
   "execution_count": 15,
   "metadata": {},
   "outputs": [
    {
     "data": {
      "text/plain": [
       "array([[14]])"
      ]
     },
     "execution_count": 15,
=======
       "array([[14]])"
      ]
     },
     "execution_count": 10,
>>>>>>> d4da3f13070cd9d158b64ab3189ef6f5f310afb8
     "metadata": {},
     "output_type": "execute_result"
    }
   ],
   "source": [
    "np.dot(np.transpose(c), c)"
   ]
  },
  {
   "cell_type": "code",
<<<<<<< HEAD
   "execution_count": 16,
=======
   "execution_count": 11,
>>>>>>> d4da3f13070cd9d158b64ab3189ef6f5f310afb8
   "metadata": {},
   "outputs": [
    {
     "data": {
      "text/plain": [
       "(2, 3)"
      ]
     },
<<<<<<< HEAD
     "execution_count": 16,
=======
     "execution_count": 11,
>>>>>>> d4da3f13070cd9d158b64ab3189ef6f5f310afb8
     "metadata": {},
     "output_type": "execute_result"
    }
   ],
   "source": [
    "np.dot(a.T, b).shape"
   ]
  },
  {
   "cell_type": "code",
<<<<<<< HEAD
   "execution_count": 17,
=======
   "execution_count": 12,
>>>>>>> d4da3f13070cd9d158b64ab3189ef6f5f310afb8
   "metadata": {},
   "outputs": [
    {
     "data": {
      "text/plain": [
       "(3,)"
      ]
     },
<<<<<<< HEAD
     "execution_count": 17,
=======
     "execution_count": 12,
>>>>>>> d4da3f13070cd9d158b64ab3189ef6f5f310afb8
     "metadata": {},
     "output_type": "execute_result"
    }
   ],
   "source": [
    "D = np.array([1,2,3])\n",
    "D.shape"
   ]
  },
  {
   "cell_type": "code",
<<<<<<< HEAD
   "execution_count": 18,
   "metadata": {},
   "outputs": [
    {
     "data": {
      "text/plain": [
       "(4,)"
      ]
     },
     "execution_count": 18,
     "metadata": {},
     "output_type": "execute_result"
    }
   ],
=======
   "execution_count": null,
   "metadata": {},
   "outputs": [],
>>>>>>> d4da3f13070cd9d158b64ab3189ef6f5f310afb8
   "source": [
    "a[:,1].shape"
   ]
  },
  {
   "cell_type": "code",
<<<<<<< HEAD
   "execution_count": 19,
   "metadata": {},
   "outputs": [
    {
     "ename": "ValueError",
     "evalue": "shapes (4,2) and (4,3) not aligned: 2 (dim 1) != 4 (dim 0)",
     "output_type": "error",
     "traceback": [
      "\u001b[0;31m---------------------------------------------------------------------------\u001b[0m",
      "\u001b[0;31mValueError\u001b[0m                                Traceback (most recent call last)",
      "\u001b[0;32m/tmp/ipykernel_137404/3698194904.py\u001b[0m in \u001b[0;36m<module>\u001b[0;34m\u001b[0m\n\u001b[0;32m----> 1\u001b[0;31m \u001b[0mnp\u001b[0m\u001b[0;34m.\u001b[0m\u001b[0mdot\u001b[0m\u001b[0;34m(\u001b[0m\u001b[0ma\u001b[0m\u001b[0;34m,\u001b[0m\u001b[0mb\u001b[0m\u001b[0;34m)\u001b[0m\u001b[0;34m.\u001b[0m\u001b[0mshape\u001b[0m\u001b[0;34m\u001b[0m\u001b[0;34m\u001b[0m\u001b[0m\n\u001b[0m",
      "\u001b[0;32m<__array_function__ internals>\u001b[0m in \u001b[0;36mdot\u001b[0;34m(*args, **kwargs)\u001b[0m\n",
      "\u001b[0;31mValueError\u001b[0m: shapes (4,2) and (4,3) not aligned: 2 (dim 1) != 4 (dim 0)"
     ]
    }
   ],
=======
   "execution_count": null,
   "metadata": {},
   "outputs": [],
>>>>>>> d4da3f13070cd9d158b64ab3189ef6f5f310afb8
   "source": [
    "np.dot(a,b).shape"
   ]
  },
  {
   "cell_type": "code",
   "execution_count": null,
   "metadata": {},
   "outputs": [],
   "source": [
    "a[:,1:2].shape"
   ]
  },
  {
   "cell_type": "code",
   "execution_count": null,
   "metadata": {},
   "outputs": [],
   "source": [
    "value_list = list(range(10))\n",
    "value_list"
   ]
  },
  {
   "cell_type": "code",
   "execution_count": null,
   "metadata": {},
   "outputs": [],
   "source": [
    "sum_squared = np.square(value_list)\n",
    "# np.sum(col_v * col_v)**0.5\n",
    "result = np.sqrt(sum_squared)\n",
    "result"
   ]
  },
  {
   "cell_type": "code",
   "execution_count": null,
   "metadata": {},
   "outputs": [],
   "source": [
    "v = value_list\n",
    "result = v / (v**2).sum()**0.5"
   ]
  },
  {
   "cell_type": "code",
   "execution_count": null,
   "metadata": {},
   "outputs": [],
   "source": [
    "a[:,-1:]"
   ]
  },
  {
   "cell_type": "code",
   "execution_count": null,
   "metadata": {},
   "outputs": [],
   "source": [
    "data = np.array([\n",
    "[150, 5.8],\n",
    "[130, 5.5],\n",
    "[120, 5.3]])\n",
    "data"
   ]
  },
  {
   "cell_type": "code",
   "execution_count": null,
   "metadata": {},
   "outputs": [],
   "source": [
    "np.dot(data, np.array([[1], [1]]))"
   ]
  },
  {
   "cell_type": "code",
   "execution_count": null,
   "metadata": {},
   "outputs": [],
   "source": [
    "import json"
   ]
  },
  {
   "cell_type": "code",
   "execution_count": null,
   "metadata": {},
   "outputs": [],
   "source": [
    "d = '''[{\n",
    "  \"created_date\": \"2020-12-11\",\n",
    "  \"hash_of_file\": \"005b0b37f776ea85fe75037dc317b41e8c12d51c952d8bf59008d6a27324fa5d\",\n",
    "  \"info\": {\n",
    "    \"application_name\": \"test\",\n",
    "    \"application_type\": \"test\",\n",
    "    \"end_time\": \"1607684670512\",\n",
    "    \"file_name\": \"filenew-12dec-03pm-10MBi_1.txt.zip\",\n",
    "    \"file_save_time\": \"323\",\n",
    "    \"file_size\": \"7945930\",\n",
    "    \"mac\": \"00-60-2F-14-0C-AE\",\n",
    "    \"restaurant_code\": \"test123\",\n",
    "    \"s3_path\": \"https://presto-infra-staging-test-logs.s3-us-west-2.amazonaws.com/00-60-2F-14-0C-AE/filenew-12dec-03pm-10MBi_1.txt.zip\",\n",
    "    \"start_time\": \"1607684668276\",\n",
    "    \"task_id\": \"4cc6f1d0-8c66-43f5-8249-f5e3b2198d6c\"\n",
    "  }\n",
    "},\n",
    "{\n",
    "  \"created_date\": \"2020-12-11\",\n",
    "  \"hash_of_file\": \"00d8218f11a2c520c702cbeb6b3259ffae1448961c35338eece724bb330d5f73\",\n",
    "  \"info\": {\n",
    "    \"application_name\": \"test\",\n",
    "    \"application_type\": \"test\",\n",
    "    \"end_time\": \"1607706741395\",\n",
    "    \"file_name\": \"filenew-20201211-223746-10MBi_8.txt.zip\",\n",
    "    \"file_save_time\": \"156\",\n",
    "    \"file_size\": \"7945915\",\n",
    "    \"mac\": \"00-60-2F-5A-04-51\",\n",
    "    \"restaurant_code\": \"test123\",\n",
    "    \"s3_path\": \"https://presto-infra-staging-test-logs.s3-us-west-2.amazonaws.com/00-60-2F-5A-04-51/filenew-20201211-223746-10MBi_8.txt.zip\",\n",
    "    \"start_time\": \"1607706740590\",\n",
    "    \"task_id\": \"c4160b9f-1c00-4a6f-8a0c-36b9fda877ac\"\n",
    "  }\n",
    "}]'''  "
   ]
  },
  {
   "cell_type": "code",
   "execution_count": null,
   "metadata": {},
   "outputs": [],
   "source": [
    "def get_val(j, s, v=None):\n",
    "    for k in j:\n",
    "        if v == None and k == s:\n",
    "            return j[k]\n",
    "        elif v != None and k == s and v == j[k]:\n",
    "            return True\n",
    "        elif v != None and k == s and v != j[k]:\n",
    "            return False\n",
    "        elif isinstance(j[k], dict):\n",
    "            return get_val(j[k], s, v)"
   ]
  },
  {
   "cell_type": "code",
   "execution_count": null,
   "metadata": {},
   "outputs": [],
   "source": [
    "j = json.loads(d)"
   ]
  },
  {
   "cell_type": "code",
   "execution_count": null,
   "metadata": {},
   "outputs": [],
   "source": [
    "for l in j:\n",
    "    r = get_val(l, 'mac')\n",
    "    print(r)"
   ]
  },
  {
   "cell_type": "code",
   "execution_count": null,
   "metadata": {},
   "outputs": [],
   "source": [
    "for l in j:\n",
    "    r = get_val(l, 'mac', '00-60-2F-5A-04-51')\n",
    "    print(r)"
   ]
  },
  {
   "cell_type": "code",
   "execution_count": null,
   "metadata": {},
   "outputs": [],
   "source": []
  }
 ],
 "metadata": {
  "kernelspec": {
   "display_name": "Python 3 (ipykernel)",
   "language": "python",
   "name": "python3"
  },
  "language_info": {
   "codemirror_mode": {
    "name": "ipython",
    "version": 3
   },
   "file_extension": ".py",
   "mimetype": "text/x-python",
   "name": "python",
   "nbconvert_exporter": "python",
   "pygments_lexer": "ipython3",
   "version": "3.9.7"
  }
 },
 "nbformat": 4,
 "nbformat_minor": 4
}
