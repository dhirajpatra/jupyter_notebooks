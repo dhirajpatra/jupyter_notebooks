{
 "cells": [
  {
   "cell_type": "markdown",
   "id": "0",
   "metadata": {},
   "source": [
    "### How Do We Interface With External Resources?"
   ]
  },
  {
   "cell_type": "code",
   "execution_count": null,
   "id": "1",
   "metadata": {
    "height": 149
   },
   "outputs": [],
   "source": [
    "import requests\n",
    "\n",
    "url = \"https://v2.jokeapi.dev/joke/Any?safe-mode&type=twopart\"\n",
    "\n",
    "response = requests.get(url)\n",
    "\n",
    "print(response.json()[\"setup\"])\n",
    "print(response.json()[\"delivery\"])"
   ]
  },
  {
   "cell_type": "code",
   "execution_count": null,
   "id": "2",
   "metadata": {
    "height": 30
   },
   "outputs": [],
   "source": [
    "response.json()"
   ]
  },
  {
   "cell_type": "code",
   "execution_count": null,
   "id": "3",
   "metadata": {
    "height": 183
   },
   "outputs": [],
   "source": [
    "import requests\n",
    "def give_joke(category : str):\n",
    "    \"\"\"\n",
    "    Joke categories. Supports: Any, Misc, Programming, Pun, Spooky, Christmas.\n",
    "    \"\"\"\n",
    "\n",
    "    url = f\"https://v2.jokeapi.dev/joke/{category}?safe-mode&type=twopart\"\n",
    "    response = requests.get(url)\n",
    "    print(response.json()[\"setup\"])\n",
    "    print(response.json()[\"delivery\"])"
   ]
  },
  {
   "cell_type": "code",
   "execution_count": null,
   "id": "4",
   "metadata": {
    "height": 30
   },
   "outputs": [],
   "source": [
    "USER_QUERY = \"Hey! Can you get me a joke for this december?\""
   ]
  },
  {
   "cell_type": "code",
   "execution_count": null,
   "id": "5",
   "metadata": {
    "height": 217
   },
   "outputs": [],
   "source": [
    "from utils import query_raven\n",
    "\n",
    "raven_functions = \\\n",
    "f'''\n",
    "def give_joke(category : str):\n",
    "    \"\"\"\n",
    "    Joke categories. Supports: Any, Misc, Programming, Dark, Pun, Spooky, Christmas.\n",
    "    \"\"\"\n",
    "\n",
    "User Query: {USER_QUERY}<human_end>\n",
    "'''\n",
    "call = query_raven(raven_functions)"
   ]
  },
  {
   "cell_type": "code",
   "execution_count": null,
   "id": "6",
   "metadata": {
    "height": 30
   },
   "outputs": [],
   "source": [
    "exec(call)"
   ]
  },
  {
   "cell_type": "markdown",
   "id": "7",
   "metadata": {},
   "source": [
    "#### Writing A Tool That Uses OpenAPI APIs"
   ]
  },
  {
   "cell_type": "code",
   "execution_count": null,
   "id": "8",
   "metadata": {
    "height": 30
   },
   "outputs": [],
   "source": [
    "#!wget https://raw.githubusercontent.com/open-meteo/open-meteo/main/openapi.yml"
   ]
  },
  {
   "cell_type": "code",
   "execution_count": null,
   "id": "9",
   "metadata": {
    "height": 251
   },
   "outputs": [],
   "source": [
    "import yaml\n",
    "import json\n",
    "\n",
    "# Read the content of the file\n",
    "with open('openapi.yml', 'r') as file:\n",
    "    file_content = file.read()\n",
    "file_content = file_content.replace(\"int\\n\", \"number\\n\")\n",
    "file_content = file_content.replace(\"float\\n\", \"number\\n\")\n",
    "data = yaml.safe_load(file_content)\n",
    "\n",
    "data[\"servers\"] = [{\"url\":\"https://api.open-meteo.com\"}]\n",
    "\n",
    "with open('openapi.json', 'w') as file:\n",
    "    json_content = json.dump(data, file)"
   ]
  },
  {
   "cell_type": "code",
   "execution_count": null,
   "id": "10",
   "metadata": {
    "height": 30
   },
   "outputs": [],
   "source": [
    "!openapi-python-generator openapi.json ./api_specification_main/"
   ]
  },
  {
   "cell_type": "code",
   "execution_count": null,
   "id": "11",
   "metadata": {
    "height": 47
   },
   "outputs": [],
   "source": [
    "from api_specification_main.services.WeatherForecastAPIs_service\\\n",
    "    import get_v1forecast"
   ]
  },
  {
   "cell_type": "code",
   "execution_count": null,
   "id": "12",
   "metadata": {
    "height": 30
   },
   "outputs": [],
   "source": [
    "user_query = \"Hey how is the current weather and windspeed in New York?\""
   ]
  },
  {
   "cell_type": "code",
   "execution_count": null,
   "id": "13",
   "metadata": {
    "height": 319
   },
   "outputs": [],
   "source": [
    "import inspect\n",
    "signature = inspect.signature(get_v1forecast)\n",
    "docstring = \\\n",
    "'''\n",
    "Requires the latitude and longitude.\n",
    "Set current_weather to True to get the weather.\n",
    "Set hourly or daily based on preference.\n",
    "'''\n",
    "\n",
    "raven_prompt = \\\n",
    "f'''\n",
    "Function:\n",
    "{get_v1forecast.__name__}{signature}\n",
    "\"\"\"{docstring}\"\"\"\n",
    "\n",
    "User Query: {user_query}<human_end>'''\n",
    "\n",
    "print (raven_prompt)"
   ]
  },
  {
   "cell_type": "code",
   "execution_count": null,
   "id": "14",
   "metadata": {
    "height": 64
   },
   "outputs": [],
   "source": [
    "from utils import query_raven\n",
    "call = query_raven(raven_prompt)\n",
    "print (call)"
   ]
  },
  {
   "cell_type": "code",
   "execution_count": null,
   "id": "15",
   "metadata": {
    "height": 30
   },
   "outputs": [],
   "source": [
    "eval(call)"
   ]
  },
  {
   "cell_type": "code",
   "execution_count": null,
   "id": "16",
   "metadata": {
    "height": 30
   },
   "outputs": [],
   "source": []
  }
 ],
 "metadata": {
  "kernelspec": {
   "display_name": "Python 3 (ipykernel)",
   "language": "python",
   "name": "python3"
  },
  "language_info": {
   "codemirror_mode": {
    "name": "ipython",
    "version": 3
   },
   "file_extension": ".py",
   "mimetype": "text/x-python",
   "name": "python",
   "nbconvert_exporter": "python",
   "pygments_lexer": "ipython3",
   "version": "3.11.9"
  }
 },
 "nbformat": 4,
 "nbformat_minor": 5
}
