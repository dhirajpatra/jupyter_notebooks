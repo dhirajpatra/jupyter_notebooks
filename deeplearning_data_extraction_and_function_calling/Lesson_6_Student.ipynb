{
 "cells": [
  {
   "cell_type": "markdown",
   "id": "0",
   "metadata": {},
   "source": [
    "# Building A Dialogue Feature Extraction Pipeline Using Function Calling!"
   ]
  },
  {
   "cell_type": "code",
   "execution_count": null,
   "id": "1",
   "metadata": {
    "height": 47
   },
   "outputs": [],
   "source": [
    "sample_data = \\\n",
    "\"\"\"Agent: Thank you for calling BrownBox Customer Support. My name is Tom. How may I assist you today?\\nCustomer: Hi Tom, I'm trying to log in to my account to purchase an Oven Toaster Grill (OTG), but I'm unable to proceed as it's asking for mobile number or email verification. Can you help me with that?\\nAgent: Sure, I can assist you with that. May I know your registered mobile number or email address, please?\\nCustomer: My registered mobile number is +1 123-456-7890.\\nAgent: Thank you. Let me check that for you. I'm sorry to inform you that we don't have this number on our records. Can you please confirm if this is the correct number?\\nCustomer: Oh, I'm sorry. I might have registered with a different number. Can you please check with my email address instead? It's johndoe@email.com.\\nAgent: Sure, let me check that for you. (After a few moments) I see that we have your email address on our records. We'll be sending you a verification code shortly. Please check your email and let me know once you receive it. Customer: Okay, I received the code. What do I do with it?\\nAgent: Please enter the verification code in the field provided and click on 'Verify'. Once your email address is verified, you'll be able to proceed with your purchase.\\nCustomer: Okay, I entered the code, and it's verified now. Thank you for your help.\\nAgent: You're welcome. Is there anything else I can assist you with?\\nCustomer: No, that's all. Thank you.\\nAgent: You're welcome. Have a great day!\"\"\""
   ]
  },
  {
   "cell_type": "code",
   "execution_count": null,
   "id": "2",
   "metadata": {
    "height": 30
   },
   "outputs": [],
   "source": [
    "print (sample_data)"
   ]
  },
  {
   "cell_type": "markdown",
   "id": "3",
   "metadata": {},
   "source": [
    "### Defining What's Important"
   ]
  },
  {
   "cell_type": "code",
   "execution_count": null,
   "id": "4",
   "metadata": {
    "height": 115
   },
   "outputs": [],
   "source": [
    "from utils import query_raven\n",
    "from typing import List\n",
    "from dataclasses import dataclass\n",
    "# Warning control\n",
    "import warnings\n",
    "warnings.filterwarnings('ignore')"
   ]
  },
  {
   "cell_type": "code",
   "execution_count": null,
   "id": "5",
   "metadata": {
    "height": 302,
    "tags": []
   },
   "outputs": [],
   "source": [
    "from dataclasses import dataclass\n",
    "schema_id = (\"agent_name\", \"customer_email\", \\\n",
    "             \"customer_order\", \"customer_phone\", \"customer_sentiment\")\n",
    "\n",
    "dataclass_schema_representation = '''\n",
    "@dataclass\n",
    "class Record:\n",
    "    agent_name : str # The agent name\n",
    "    customer_email : str # customer email if provided, else ''\n",
    "    customer_order : str # The customer order number if provided, else ''\n",
    "    customer_phone : str # the customer phone number if provided, else ''\n",
    "    customer_sentiment : str # Overall customer sentiment, either 'frustrated', or 'happy'. Always MUST have a value.\n",
    "'''\n",
    "\n",
    "# Let's call exec to insert the dataclass into our python interpreter so it understands this. \n",
    "exec(dataclass_schema_representation)\n"
   ]
  },
  {
   "cell_type": "markdown",
   "id": "6",
   "metadata": {},
   "source": [
    "### Building The Database"
   ]
  },
  {
   "cell_type": "code",
   "execution_count": null,
   "id": "7",
   "metadata": {
    "height": 608,
    "tags": []
   },
   "outputs": [],
   "source": [
    "def initialize_db():\n",
    "    import sqlite3\n",
    "\n",
    "    # Connect to SQLite database (or create it if it doesn't exist)\n",
    "    conn = sqlite3.connect('extracted.db')\n",
    "    cursor = conn.cursor()\n",
    "\n",
    "    # Fixed table name\n",
    "    table_name = \"customer_information\"\n",
    "\n",
    "    # Fixed schema\n",
    "    columns = \"\"\"\n",
    "    id INTEGER PRIMARY KEY, \n",
    "    agent_name TEXT, \n",
    "    customer_email TEXT, \n",
    "    customer_order TEXT, \n",
    "    customer_phone TEXT, \n",
    "    customer_sentiment TEXT\n",
    "    \"\"\"\n",
    "\n",
    "    # Ensure the table name is enclosed in quotes if it contains special characters\n",
    "    quoted_table_name = f'\"{table_name}\"'\n",
    "\n",
    "    # Check if a table with the exact name already exists\n",
    "    cursor.execute(f\"SELECT name FROM sqlite_master WHERE type='table' AND name={quoted_table_name}\")\n",
    "    if cursor.fetchone():\n",
    "        print(f\"Table {table_name} already exists.\")\n",
    "    else:\n",
    "        # Create the new table with the fixed schema\n",
    "        cursor.execute(f'''CREATE TABLE {quoted_table_name} ({columns})''')\n",
    "        print(f\"Table {table_name} created successfully.\")\n",
    "\n",
    "    # Commit the transaction and close the connection\n",
    "    conn.commit()\n",
    "    conn.close()"
   ]
  },
  {
   "cell_type": "code",
   "execution_count": null,
   "id": "8",
   "metadata": {
    "height": 47,
    "tags": []
   },
   "outputs": [],
   "source": [
    "!rm extracted.db\n",
    "initialize_db()"
   ]
  },
  {
   "cell_type": "markdown",
   "id": "9",
   "metadata": {},
   "source": [
    "### Adding in Tools To Populate The Database"
   ]
  },
  {
   "cell_type": "code",
   "execution_count": null,
   "id": "10",
   "metadata": {
    "height": 574,
    "tags": []
   },
   "outputs": [],
   "source": [
    "from dataclasses import dataclass, fields\n",
    "def update_knowledge(results_list : List[Record]):\n",
    "    \"\"\"\n",
    "    Registers the information necessary\n",
    "    \"\"\"\n",
    "    import sqlite3\n",
    "    from sqlite3 import ProgrammingError\n",
    "\n",
    "    # Reconnect to the existing SQLite database\n",
    "    conn = sqlite3.connect('extracted.db')\n",
    "    cursor = conn.cursor()\n",
    "\n",
    "    # Fixed table name\n",
    "    table_name = \"customer_information\"\n",
    "\n",
    "    # Prepare SQL for inserting data with fixed column names\n",
    "    column_names = \"agent_name, customer_email, customer_order, customer_phone, customer_sentiment\"\n",
    "    placeholders = \", \".join([\"?\"] * 5) \n",
    "    sql = f\"INSERT INTO {table_name} ({column_names}) VALUES ({placeholders})\"\n",
    "\n",
    "    # Insert each record\n",
    "    for record in results_list:\n",
    "        try:\n",
    "            record_values = tuple(getattr(record, f.name) for f in fields(record))\n",
    "            cursor.execute(sql, record_values)\n",
    "        except ProgrammingError as e:\n",
    "            print(f\"Error with record. {e}\")\n",
    "            continue\n",
    "\n",
    "    # Commit the changes and close the connection\n",
    "    conn.commit()\n",
    "    conn.close()\n",
    "    print(\"Records inserted successfully.\")"
   ]
  },
  {
   "cell_type": "code",
   "execution_count": null,
   "id": "11",
   "metadata": {
    "height": 64,
    "tags": []
   },
   "outputs": [],
   "source": [
    "my_record = Record(agent_name = \"Agent Smith\", \\\n",
    "                   customer_email = \"\", customer_order = \"12346\", \\\n",
    "                   customer_phone = \"\", customer_sentiment = \"happy\")"
   ]
  },
  {
   "cell_type": "code",
   "execution_count": null,
   "id": "12",
   "metadata": {
    "height": 30,
    "tags": []
   },
   "outputs": [],
   "source": [
    "update_knowledge([my_record])"
   ]
  },
  {
   "cell_type": "markdown",
   "id": "13",
   "metadata": {},
   "source": [
    "### Building Tools To Pull Information Out"
   ]
  },
  {
   "cell_type": "code",
   "execution_count": null,
   "id": "14",
   "metadata": {
    "height": 438,
    "tags": []
   },
   "outputs": [],
   "source": [
    "import sqlite3\n",
    "def execute_sql(sql: str):\n",
    "    \"\"\" Runs SQL code for the given schema. Make sure to properly leverage the schema to answer the user's question in the best way possible. \"\"\"\n",
    "    # Fixed table name, assuming it's not dynamically generated anymore\n",
    "    table_name = \"customer_information\"\n",
    "\n",
    "    # Establish a connection to the database\n",
    "    conn = sqlite3.connect('extracted.db')\n",
    "    cursor = conn.cursor()\n",
    "\n",
    "    # Execute the SQL statement\n",
    "    cursor.execute(sql)\n",
    "\n",
    "    # Initialize an empty list to hold query results\n",
    "    results = []\n",
    "\n",
    "    results = cursor.fetchall()\n",
    "    print(\"Query operation executed successfully. Number of rows returned:\", len(results))\n",
    "\n",
    "    # Close the connection to the database\n",
    "    conn.close()\n",
    "\n",
    "    # Return the results for SELECT operations; otherwise, return an empty list\n",
    "    return results\n"
   ]
  },
  {
   "cell_type": "code",
   "execution_count": null,
   "id": "15",
   "metadata": {
    "height": 166,
    "tags": []
   },
   "outputs": [],
   "source": [
    "sql = '''\n",
    "    SELECT agent_name \n",
    "        FROM customer_information\n",
    "        WHERE customer_sentiment = \"happy\"\n",
    "    '''\n",
    "# Print the final SQL command for debugging\n",
    "print(\"Executing SQL:\", sql)\n",
    "\n",
    "execute_sql(sql)"
   ]
  },
  {
   "cell_type": "markdown",
   "id": "16",
   "metadata": {},
   "source": [
    "-----"
   ]
  },
  {
   "cell_type": "markdown",
   "id": "17",
   "metadata": {
    "tags": []
   },
   "source": [
    "## Building The Pipeline"
   ]
  },
  {
   "cell_type": "code",
   "execution_count": null,
   "id": "18",
   "metadata": {
    "height": 47,
    "tags": []
   },
   "outputs": [],
   "source": [
    "!rm extracted.db\n",
    "initialize_db()"
   ]
  },
  {
   "cell_type": "markdown",
   "id": "19",
   "metadata": {},
   "source": [
    "##### Attribution:\n",
    "We will be using a handful of samples (~10-15 samples) in this lesson from a publically-available customer_service_chatbot on HuggingFace.\n",
    "The link to the public dataset is here: https://huggingface.co/datasets/SantiagoPG/customer_service_chatbot"
   ]
  },
  {
   "cell_type": "code",
   "execution_count": null,
   "id": "20",
   "metadata": {
    "height": 98,
    "tags": []
   },
   "outputs": [],
   "source": [
    "from datasets import load_dataset\n",
    "import os\n",
    "\n",
    "cwd = os.getcwd()\n",
    "dialogue_data = load_dataset(cwd + \"/data/customer_service_chatbot\", cache_dir=\"./cache\")[\"train\"]"
   ]
  },
  {
   "cell_type": "code",
   "execution_count": null,
   "id": "21",
   "metadata": {
    "height": 64,
    "tags": []
   },
   "outputs": [],
   "source": [
    "sample_zero = dialogue_data[6]\n",
    "dialogue_string = sample_zero[\"conversation\"].replace(\"\\n\\n\", \"\\n\")\n",
    "print (dialogue_string)"
   ]
  },
  {
   "cell_type": "code",
   "execution_count": null,
   "id": "22",
   "metadata": {
    "height": 183,
    "tags": []
   },
   "outputs": [],
   "source": [
    "import inspect\n",
    "\n",
    "prompt = \"\\n\" + dialogue_string\n",
    "\n",
    "signature = inspect.signature(update_knowledge)\n",
    "signature = str(signature).replace(\"__main__.Record\", \"Record\")\n",
    "docstring = update_knowledge.__doc__\n",
    "\n",
    "raven_prompt = f'''{dataclass_schema_representation}\\nFunction:\\n{update_knowledge.__name__}{signature}\\n    \"\"\"{docstring}\"\"\"\\n\\n\\nUser Query:{prompt}<human_end>'''\n",
    "print (raven_prompt)"
   ]
  },
  {
   "cell_type": "code",
   "execution_count": null,
   "id": "23",
   "metadata": {
    "height": 47,
    "tags": []
   },
   "outputs": [],
   "source": [
    "raven_call = query_raven(raven_prompt)\n",
    "print (raven_call)"
   ]
  },
  {
   "cell_type": "code",
   "execution_count": null,
   "id": "24",
   "metadata": {
    "height": 30,
    "tags": []
   },
   "outputs": [],
   "source": [
    "exec(raven_call)"
   ]
  },
  {
   "cell_type": "code",
   "execution_count": null,
   "id": "25",
   "metadata": {
    "height": 251,
    "tags": []
   },
   "outputs": [],
   "source": [
    "import inspect\n",
    "\n",
    "sample_zero = dialogue_data[10]\n",
    "dialogue_string = sample_zero[\"conversation\"].replace(\"\\n\\n\", \"\\n\")\n",
    "\n",
    "prompt = \"\\n\" + dialogue_string\n",
    "signature = inspect.signature(update_knowledge)\n",
    "docstring = update_knowledge.__doc__\n",
    "raven_prompt = f'''{dataclass_schema_representation}\\nFunction:\\n{update_knowledge.__name__}{signature}\\n    \"\"\"{docstring}\"\"\"\\n\\n{prompt}<human_end>'''\n",
    "\n",
    "raven_call = query_raven(raven_prompt)\n",
    "print (raven_call)\n",
    "exec(raven_call)\n"
   ]
  },
  {
   "cell_type": "code",
   "execution_count": null,
   "id": "26",
   "metadata": {
    "height": 115,
    "tags": []
   },
   "outputs": [],
   "source": [
    "execute_sql(\n",
    "    '''\n",
    "    SELECT COUNT(customer_sentiment) \n",
    "    FROM customer_information\n",
    "    WHERE agent_name = \"John\" AND customer_sentiment = \"happy\"\n",
    "    ''')"
   ]
  },
  {
   "cell_type": "code",
   "execution_count": null,
   "id": "27",
   "metadata": {
    "height": 370,
    "tags": []
   },
   "outputs": [],
   "source": [
    "prompt = \"how many customers John has made happy.\"\n",
    "\n",
    "signature = inspect.signature(execute_sql)\n",
    "\n",
    "docstring = execute_sql.__doc__\n",
    "\n",
    "sql_schema_representation = \\\n",
    "\"\"\"\n",
    "CREATE TABLE customer_information (\n",
    "    id INTEGER PRIMARY KEY AUTOINCREMENT,\n",
    "    agent_name TEXT,\n",
    "    customer_email TEXT,\n",
    "    customer_order TEXT,\n",
    "    customer_phone TEXT,\n",
    "    customer_sentiment TEXT\n",
    ");\n",
    "\"\"\"\n",
    "\n",
    "raven_prompt = f'''{sql_schema_representation}\\nFunction:\\n{execute_sql.__name__}{signature}\\n    \"\"\"{docstring}\"\"\"\\n\\n\\nUser Query:{prompt}<human_end>'''\n",
    "\n",
    "print (raven_prompt)"
   ]
  },
  {
   "cell_type": "code",
   "execution_count": null,
   "id": "28",
   "metadata": {
    "height": 64,
    "tags": []
   },
   "outputs": [],
   "source": [
    "raven_call = query_raven(raven_prompt)\n",
    "\n",
    "print (raven_call)"
   ]
  },
  {
   "cell_type": "code",
   "execution_count": null,
   "id": "29",
   "metadata": {
    "height": 30,
    "tags": []
   },
   "outputs": [],
   "source": [
    "eval(raven_call)"
   ]
  },
  {
   "cell_type": "code",
   "execution_count": null,
   "id": "30",
   "metadata": {
    "height": 47,
    "tags": []
   },
   "outputs": [],
   "source": [
    "!rm extracted.db\n",
    "initialize_db()"
   ]
  },
  {
   "cell_type": "code",
   "execution_count": null,
   "id": "31",
   "metadata": {
    "height": 251,
    "tags": []
   },
   "outputs": [],
   "source": [
    "from tqdm import tqdm\n",
    "\n",
    "for i in tqdm(range(0, 10)):\n",
    "    data = dialogue_data[i]\n",
    "    dialogue_string = data[\"conversation\"].replace(\"\\n\\n\", \"\\n\")\n",
    "    \n",
    "    # Ask Raven to extract the information we want out of this dialogue. \n",
    "    prompt = \"\\n\" + dialogue_string\n",
    "    signature = inspect.signature(update_knowledge)\n",
    "    docstring = update_knowledge.__doc__\n",
    "    raven_prompt = f'''{dataclass_schema_representation}\\nFunction:\\n{update_knowledge.__name__}{signature}\\n    \"\"\"{docstring}\"\"\"\\n\\n\\nUser Query:{prompt}<human_end>'''\n",
    "    raven_call = query_raven(raven_prompt)\n",
    "    print (raven_call)\n",
    "    exec(raven_call)"
   ]
  },
  {
   "cell_type": "code",
   "execution_count": null,
   "id": "32",
   "metadata": {
    "height": 404,
    "tags": []
   },
   "outputs": [],
   "source": [
    "signature = inspect.signature(execute_sql)\n",
    "\n",
    "docstring = execute_sql.__doc__\n",
    "\n",
    "schema_representation = \\\n",
    "\"\"\"\n",
    "CREATE TABLE customer_information (\n",
    "    id INTEGER PRIMARY KEY AUTOINCREMENT,\n",
    "    agent_name TEXT,\n",
    "    customer_email TEXT,\n",
    "    customer_order TEXT,\n",
    "    customer_phone TEXT,\n",
    "    customer_sentiment TEXT\n",
    ");\n",
    "\"\"\"\n",
    "\n",
    "raven_prompt = f'''{schema_representation}\\nFunction:\\n{execute_sql.__name__}{signature}\\n    \"\"\"{docstring}\"\"\"\\n\\n\\n'''\n",
    "raven_prompt = raven_prompt + \"User Query: How many happy customers?<human_end>\"\n",
    "print (raven_prompt)\n",
    "raven_call = query_raven(raven_prompt)\n",
    "\n",
    "print (raven_call)\n",
    "eval(raven_call)"
   ]
  },
  {
   "cell_type": "code",
   "execution_count": null,
   "id": "33",
   "metadata": {
    "height": 183,
    "tags": []
   },
   "outputs": [],
   "source": [
    "raven_prompt = f'''{schema_representation}\\nFunction:\\n{execute_sql.__name__}{signature}\\n    \"\"\"{docstring}\"\"\"\\n\\n\\n'''\n",
    "raven_prompt = raven_prompt + \\\n",
    "\"User Query: Give me the names and phone numbers of the ones\"\\\n",
    "\"who are frustrated and the order numbers?<human_end>\"\n",
    "\n",
    "print (raven_prompt)\n",
    "raven_call = query_raven(raven_prompt)\n",
    "\n",
    "print (raven_call)\n",
    "eval(raven_call)"
   ]
  },
  {
   "cell_type": "code",
   "execution_count": null,
   "id": "34",
   "metadata": {
    "height": 30
   },
   "outputs": [],
   "source": []
  }
 ],
 "metadata": {
  "kernelspec": {
   "display_name": "Python 3 (ipykernel)",
   "language": "python",
   "name": "python3"
  },
  "language_info": {
   "codemirror_mode": {
    "name": "ipython",
    "version": 3
   },
   "file_extension": ".py",
   "mimetype": "text/x-python",
   "name": "python",
   "nbconvert_exporter": "python",
   "pygments_lexer": "ipython3",
   "version": "3.11.9"
  }
 },
 "nbformat": 4,
 "nbformat_minor": 5
}
