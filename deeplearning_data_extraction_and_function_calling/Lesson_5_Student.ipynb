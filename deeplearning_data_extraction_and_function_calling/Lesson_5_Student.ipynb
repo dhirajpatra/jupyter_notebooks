{
 "cells": [
  {
   "cell_type": "markdown",
   "id": "0",
   "metadata": {},
   "source": [
    "## Adding Web Search To Your LLM"
   ]
  },
  {
   "cell_type": "code",
   "execution_count": null,
   "id": "1",
   "metadata": {
    "height": 47
   },
   "outputs": [],
   "source": [
    "from dotenv import load_dotenv\n",
    "_ = load_dotenv()"
   ]
  },
  {
   "cell_type": "markdown",
   "id": "2",
   "metadata": {},
   "source": [
    "#### Asking Your LLM For The Latest Information"
   ]
  },
  {
   "cell_type": "code",
   "execution_count": null,
   "id": "3",
   "metadata": {
    "height": 149
   },
   "outputs": [],
   "source": [
    "from utils import query_raven\n",
    "question = \"Hey, can you tell me more about this R1 thing that was announced by Rabbit? \"\n",
    "\n",
    "no_function_calling_prompt = \\\n",
    "f\"\"\"\n",
    "<s> [INST] {question} [/INST]\n",
    "\"\"\"\n",
    "query_raven(no_function_calling_prompt)"
   ]
  },
  {
   "cell_type": "markdown",
   "id": "4",
   "metadata": {},
   "source": [
    "#### Providing Up To Date Information"
   ]
  },
  {
   "cell_type": "code",
   "execution_count": null,
   "id": "5",
   "metadata": {
    "height": 370
   },
   "outputs": [],
   "source": [
    "import os\n",
    "\n",
    "def do_web_search(full_user_prompt : str, num_results : int = 5):\n",
    "    API_URL = f'{os.getenv(\"DLAI_TAVILY_BASE_URL\", \"https://api.tavily.com\")}/search'\n",
    "    payload = \\\n",
    "    {\n",
    "      \"api_key\": os.environ[\"TAVILY_API_KEY\"],\n",
    "      \"query\": full_user_prompt,\n",
    "      \"search_depth\": \"basic\",\n",
    "      \"include_answer\": False,\n",
    "      \"include_images\": False,\n",
    "      \"include_raw_content\": False,\n",
    "      \"max_results\": num_results,\n",
    "      \"include_domains\": [],\n",
    "      \"exclude_domains\": []\n",
    "    }\n",
    "    import requests\n",
    "    response = requests.post(API_URL, json=payload)\n",
    "    response = response.json()\n",
    "    all_results = \"\\n\\n\".join(item[\"content\"] for item in response[\"results\"])\n",
    "    return all_results"
   ]
  },
  {
   "cell_type": "markdown",
   "id": "6",
   "metadata": {},
   "source": [
    "#### Calling Raven"
   ]
  },
  {
   "cell_type": "code",
   "execution_count": null,
   "id": "7",
   "metadata": {
    "height": 285
   },
   "outputs": [],
   "source": [
    "function_calling_prompt = \\\n",
    "\"\"\"\n",
    "Function:\n",
    "def do_web_search(full_user_prompt : str, num_results : int = 5):\n",
    "    '''\n",
    "    Searches the web for the user question.\n",
    "    '''\n",
    "\n",
    "Example:\n",
    "User Query: What is the oldest capital in the world?\n",
    "Call: do_web_search(full_user_prompt=\"oldest capital\")\n",
    "\n",
    "User Query: {query}<human_end>\n",
    "\"\"\"\n",
    "fc_result = query_raven(function_calling_prompt.format(query=question))\n",
    "print (fc_result)"
   ]
  },
  {
   "cell_type": "code",
   "execution_count": null,
   "id": "8",
   "metadata": {
    "height": 47
   },
   "outputs": [],
   "source": [
    "result = eval(fc_result)\n"
   ]
  },
  {
   "cell_type": "code",
   "execution_count": null,
   "id": "9",
   "metadata": {
    "height": 200
   },
   "outputs": [],
   "source": [
    "full_prompt = \\\n",
    "f\"\"\"\n",
    "<s> [INST]\n",
    "{result}\n",
    "\n",
    "Use the information above to answer the following question concisely.\n",
    "\n",
    "Question:\n",
    "{question} [/INST]\n",
    "\"\"\"\n"
   ]
  },
  {
   "cell_type": "code",
   "execution_count": null,
   "id": "10",
   "metadata": {
    "height": 47
   },
   "outputs": [],
   "source": [
    "grounded_response = query_raven(full_prompt.format(question = question))\n"
   ]
  },
  {
   "cell_type": "code",
   "execution_count": null,
   "id": "11",
   "metadata": {
    "height": 30
   },
   "outputs": [],
   "source": [
    "print (grounded_response)"
   ]
  },
  {
   "cell_type": "markdown",
   "id": "12",
   "metadata": {},
   "source": [
    "## Chatting With Your SQL Database\n",
    "> Note below: The database values are randomly generated so your values may differ from those in the video.\n"
   ]
  },
  {
   "cell_type": "code",
   "execution_count": null,
   "id": "13",
   "metadata": {
    "height": 47
   },
   "outputs": [],
   "source": [
    "from utils import create_random_database\n",
    "create_random_database()"
   ]
  },
  {
   "cell_type": "code",
   "execution_count": null,
   "id": "14",
   "metadata": {
    "height": 30
   },
   "outputs": [],
   "source": [
    "question = \"What is the most expensive item we currently sell?\""
   ]
  },
  {
   "cell_type": "code",
   "execution_count": null,
   "id": "15",
   "metadata": {
    "height": 455
   },
   "outputs": [],
   "source": [
    "from utils import execute_sql, query_raven\n",
    "\n",
    "schema = \\\n",
    "\"\"\"\n",
    "CREATE TABLE IF NOT EXISTS toys (\n",
    "    id INTEGER PRIMARY KEY,\n",
    "    name TEXT,\n",
    "    price REAL\n",
    ");\n",
    "\"\"\"\n",
    "\n",
    "raven_prompt = \\\n",
    "f'''\n",
    "Function:\n",
    "def execute_sql(sql_code : str):\n",
    "  \"\"\"\n",
    "  Runs sql code for a company internal database\n",
    "  \"\"\"\n",
    "\n",
    "Schema: {schema}\n",
    "User Query: {question}\n",
    "'''\n",
    "\n",
    "output = query_raven(raven_prompt)\n",
    "print (f\"LLM's function call: {output}\")\n",
    "database_result = eval(output)"
   ]
  },
  {
   "cell_type": "code",
   "execution_count": null,
   "id": "16",
   "metadata": {
    "height": 217
   },
   "outputs": [],
   "source": [
    "full_prompt = \\\n",
    "f\"\"\"\n",
    "<s> [INST]\n",
    "{database_result}\n",
    "\n",
    "Use the information above to answer the following question concisely.\n",
    "\n",
    "Question:\n",
    "{question} [/INST]\n",
    "\"\"\"\n",
    "grounded_response = query_raven(full_prompt)\n",
    "print (grounded_response)"
   ]
  },
  {
   "cell_type": "markdown",
   "id": "17",
   "metadata": {},
   "source": [
    "### Safer Interactions With Databases\n"
   ]
  },
  {
   "cell_type": "code",
   "execution_count": null,
   "id": "18",
   "metadata": {
    "height": 166
   },
   "outputs": [],
   "source": [
    "import sqlite3\n",
    "import random\n",
    "\n",
    "# Internal database name setting\n",
    "DB_NAME = 'toy_database.db'\n",
    "\n",
    "# Connect to the database\n",
    "def connect_db():\n",
    "    return sqlite3.connect(DB_NAME)"
   ]
  },
  {
   "cell_type": "code",
   "execution_count": null,
   "id": "19",
   "metadata": {
    "height": 115
   },
   "outputs": [],
   "source": [
    "# List all toys\n",
    "def list_all_toys():\n",
    "    with connect_db() as conn:\n",
    "        cursor = conn.execute('SELECT * FROM toys')\n",
    "        return cursor.fetchall()\n"
   ]
  },
  {
   "cell_type": "code",
   "execution_count": null,
   "id": "20",
   "metadata": {
    "height": 132
   },
   "outputs": [],
   "source": [
    "# Find toy by name prefix\n",
    "def find_toy_by_prefix(prefix):\n",
    "    with connect_db() as conn:\n",
    "        query = 'SELECT * FROM toys WHERE name LIKE ?'\n",
    "        cursor = conn.execute(query, (prefix + '%',))\n",
    "        return cursor.fetchall()\n"
   ]
  },
  {
   "cell_type": "code",
   "execution_count": null,
   "id": "21",
   "metadata": {
    "height": 115
   },
   "outputs": [],
   "source": [
    "# Find toys in a price range\n",
    "def find_toys_in_price_range(low_price, high_price):\n",
    "    with connect_db() as conn:\n",
    "        query = 'SELECT * FROM toys WHERE price BETWEEN ? AND ?'\n",
    "        cursor = conn.execute(query, (low_price, high_price))\n",
    "        return cursor.fetchall()"
   ]
  },
  {
   "cell_type": "code",
   "execution_count": null,
   "id": "22",
   "metadata": {
    "height": 115
   },
   "outputs": [],
   "source": [
    "# Get a random selection of toys\n",
    "def get_random_toys(count=5):\n",
    "    with connect_db() as conn:\n",
    "        cursor = conn.execute('SELECT * FROM toys')\n",
    "        all_toys = cursor.fetchall()\n",
    "        return random.sample(all_toys, min(count, len(all_toys)))"
   ]
  },
  {
   "cell_type": "code",
   "execution_count": null,
   "id": "23",
   "metadata": {
    "height": 115
   },
   "outputs": [],
   "source": [
    "# Function to get the most expensive toy\n",
    "def get_most_expensive_toy(count=1):\n",
    "    with connect_db() as conn:\n",
    "        cursor = conn.execute(f'SELECT * FROM toys ORDER BY price DESC LIMIT {count}')\n",
    "        return cursor.fetchone()\n"
   ]
  },
  {
   "cell_type": "code",
   "execution_count": null,
   "id": "24",
   "metadata": {
    "height": 98
   },
   "outputs": [],
   "source": [
    "# Function to get the cheapest toy\n",
    "def get_cheapest_toy(count=1):\n",
    "    with connect_db() as conn:\n",
    "        cursor = conn.execute('SELECT * FROM toys ORDER BY price ASC LIMIT {count}')\n",
    "        return cursor.fetchone()"
   ]
  },
  {
   "cell_type": "code",
   "execution_count": null,
   "id": "25",
   "metadata": {
    "height": 1050
   },
   "outputs": [],
   "source": [
    "raven_prompt = \\\n",
    "f'''\n",
    "Function:\n",
    "def list_all_toys():\n",
    "    \"\"\"\n",
    "    Retrieves a list of all toys from the database. This function does not take any parameters.\n",
    "    Returns: A list of tuples, where each tuple represents a toy with all its attributes (id, name, price).\n",
    "    \"\"\"\n",
    "\n",
    "Function:\n",
    "def find_toy_by_prefix(prefix):\n",
    "    \"\"\"\n",
    "    Searches for and retrieves toys whose names start with a specified prefix.\n",
    "    Parameters:\n",
    "    - prefix (str): The prefix to search for in toy names.\n",
    "    Returns: A list of tuples, where each tuple represents a toy that matches the prefix criteria.\n",
    "    \"\"\"\n",
    "\n",
    "Function:\n",
    "def find_toys_in_price_range(low_price, high_price):\n",
    "    \"\"\"\n",
    "    Finds and returns toys within a specified price range.\n",
    "    Parameters:\n",
    "    - low_price (float): The lower bound of the price range.\n",
    "    - high_price (float): The upper bound of the price range.\n",
    "    Returns: A list of tuples, each representing a toy whose price falls within the specified range.\n",
    "    \"\"\"\n",
    "\n",
    "Function:\n",
    "def get_random_toys():\n",
    "    \"\"\"\n",
    "    Selects and returns a random set of toys from the database, simulating a \"featured toys\" list.\n",
    "\n",
    "    Returns: A list of tuples, each representing a randomly selected toy. The number of toys returned is up to the specified count.\n",
    "    \"\"\"\n",
    "\n",
    "Function:\n",
    "def get_most_expensive_toy(count : int):\n",
    "    \"\"\"\n",
    "    Retrieves the most expensive toy from the database.\n",
    "    This function does not take any parameters.\n",
    "\n",
    "    Returns: A tuple representing the most expensive toy, including its id, name, and price.\n",
    "    \"\"\"\n",
    "\n",
    "Function:\n",
    "def get_cheapest_toy(count : int):\n",
    "    \"\"\"\n",
    "    Finds and retrieves the cheapest toy in the database.\n",
    "    This function does not take any parameters.\n",
    "\n",
    "    Returns: A tuple representing the cheapest toy, including its id, name, and price.\n",
    "    \"\"\"\n",
    "\n",
    "User Query: {question}<human_end>\n",
    "\n",
    "'''\n",
    "\n",
    "output = query_raven(raven_prompt)\n",
    "print (output)\n",
    "results = eval(output)"
   ]
  },
  {
   "cell_type": "code",
   "execution_count": null,
   "id": "26",
   "metadata": {
    "height": 217
   },
   "outputs": [],
   "source": [
    "full_prompt = \\\n",
    "f\"\"\"\n",
    "<s> [INST]\n",
    "{database_result}\n",
    "\n",
    "Use the information above to answer the following question in a single sentence.\n",
    "\n",
    "Question:\n",
    "{question} [/INST]\n",
    "\"\"\"\n",
    "grounded_response = query_raven(full_prompt)\n",
    "print (grounded_response)"
   ]
  },
  {
   "cell_type": "code",
   "execution_count": null,
   "id": "27",
   "metadata": {
    "height": 30
   },
   "outputs": [],
   "source": []
  }
 ],
 "metadata": {
  "kernelspec": {
   "display_name": "Python 3 (ipykernel)",
   "language": "python",
   "name": "python3"
  },
  "language_info": {
   "codemirror_mode": {
    "name": "ipython",
    "version": 3
   },
   "file_extension": ".py",
   "mimetype": "text/x-python",
   "name": "python",
   "nbconvert_exporter": "python",
   "pygments_lexer": "ipython3",
   "version": "3.11.9"
  }
 },
 "nbformat": 4,
 "nbformat_minor": 5
}
