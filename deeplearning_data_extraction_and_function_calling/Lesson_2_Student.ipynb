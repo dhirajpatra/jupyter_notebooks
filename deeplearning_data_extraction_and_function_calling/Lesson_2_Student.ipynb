{
 "cells": [
  {
   "cell_type": "markdown",
   "id": "0",
   "metadata": {
    "id": "YSPItBwWZQgO"
   },
   "source": [
    "# Function Calling"
   ]
  },
  {
   "cell_type": "markdown",
   "id": "1",
   "metadata": {},
   "source": [
    "### Housekeeping"
   ]
  },
  {
   "cell_type": "code",
   "execution_count": null,
   "id": "2",
   "metadata": {
    "height": 166
   },
   "outputs": [],
   "source": [
    "def afunction(arg1:int = 0, arg2:str = \"hello\", **kwargs)->int:\n",
    "    ''' this is a function definition\n",
    "        arg1 (int): an exemplary yet modest argument\n",
    "        arg2 (str): another nice argument\n",
    "        **kwargs : the rest of the rabble \n",
    "\n",
    "        returns arg1 incremented by one\n",
    "    '''\n",
    "    return(arg + 1)"
   ]
  },
  {
   "cell_type": "code",
   "execution_count": null,
   "id": "3",
   "metadata": {
    "height": 47
   },
   "outputs": [],
   "source": [
    "print(afunction.__name__)\n",
    "print(afunction.__doc__)"
   ]
  },
  {
   "cell_type": "code",
   "execution_count": null,
   "id": "4",
   "metadata": {
    "height": 47
   },
   "outputs": [],
   "source": [
    "import inspect\n",
    "print(inspect.signature(afunction))"
   ]
  },
  {
   "cell_type": "markdown",
   "id": "5",
   "metadata": {},
   "source": [
    "##### Building User Query\n",
    "> Note, the video shows how to access utils.py in Jupyter Notebook V7.   \n",
    "> You may be in Jupyter Notebook V6. To access it in this version, on the menu, choose File->Open. "
   ]
  },
  {
   "cell_type": "code",
   "execution_count": null,
   "id": "6",
   "metadata": {
    "height": 353
   },
   "outputs": [],
   "source": [
    "import inspect\n",
    "def build_raven_prompt(function_list, user_query):\n",
    "    raven_prompt = \"\"\n",
    "    for function in function_list:\n",
    "        signature = inspect.signature(function)\n",
    "        docstring = function.__doc__\n",
    "        prompt = \\\n",
    "f'''\n",
    "Function:\n",
    "def {function.__name__}{signature}\n",
    "    \"\"\"\n",
    "    {docstring.strip()}\n",
    "    \"\"\"\n",
    "    \n",
    "'''\n",
    "        raven_prompt += prompt\n",
    "        \n",
    "    raven_prompt += f\"User Query: {user_query}<human_end>\"\n",
    "    return raven_prompt\n"
   ]
  },
  {
   "cell_type": "code",
   "execution_count": null,
   "id": "7",
   "metadata": {
    "height": 30
   },
   "outputs": [],
   "source": [
    "print( build_raven_prompt([afunction], \"a query\"))"
   ]
  },
  {
   "cell_type": "markdown",
   "id": "8",
   "metadata": {
    "id": "6mX9gi3Ofj5r"
   },
   "source": [
    "### Concrete Example For Parallel Calls"
   ]
  },
  {
   "cell_type": "code",
   "execution_count": null,
   "id": "9",
   "metadata": {
    "height": 132
   },
   "outputs": [],
   "source": [
    "from utils import draw_clown_face\n",
    "\n",
    "raven_msg = \"Hey, can you build me two clowns.\" \\\n",
    "\"The first clown should be red faced, with a blue nose\" \\\n",
    "\"and a mouth from 0 to 180 degrees. The mouth should be black.\" \\\n",
    "\"The second clown should have a blue face and a green nose\" \\\n",
    "\"and a red mouth that's 180 to 360 degrees.\""
   ]
  },
  {
   "cell_type": "markdown",
   "id": "10",
   "metadata": {},
   "source": [
    "#### Building Raven Prompt"
   ]
  },
  {
   "cell_type": "code",
   "execution_count": null,
   "id": "11",
   "metadata": {
    "colab": {
     "base_uri": "https://localhost:8080/"
    },
    "height": 64,
    "id": "IThyr1tRfmey",
    "outputId": "79bc063a-3aef-4776-c71e-302e7e638121"
   },
   "outputs": [],
   "source": [
    "raven_prompt = build_raven_prompt([draw_clown_face], raven_msg)\n",
    "\n",
    "print (raven_prompt)"
   ]
  },
  {
   "cell_type": "code",
   "execution_count": null,
   "id": "12",
   "metadata": {
    "height": 81
   },
   "outputs": [],
   "source": [
    "from utils import query_raven\n",
    "raven_call = query_raven(raven_prompt)\n",
    "print (raven_call)\n",
    "exec(raven_call)"
   ]
  },
  {
   "cell_type": "markdown",
   "id": "13",
   "metadata": {},
   "source": [
    "### Using Multiple Functions!"
   ]
  },
  {
   "cell_type": "markdown",
   "id": "14",
   "metadata": {},
   "source": [
    "#### Building The Prompt"
   ]
  },
  {
   "cell_type": "code",
   "execution_count": null,
   "id": "15",
   "metadata": {
    "height": 81,
    "tags": []
   },
   "outputs": [],
   "source": [
    "from utils import draw_clown_face, draw_tie\n",
    "raven_msg = \"Hey draw a tie?\"\n",
    "raven_prompt = build_raven_prompt\\\n",
    "    ([draw_clown_face, draw_tie], raven_msg)"
   ]
  },
  {
   "cell_type": "code",
   "execution_count": null,
   "id": "16",
   "metadata": {
    "height": 30
   },
   "outputs": [],
   "source": [
    "print(raven_prompt)"
   ]
  },
  {
   "cell_type": "markdown",
   "id": "17",
   "metadata": {},
   "source": [
    "#### Getting The Call"
   ]
  },
  {
   "cell_type": "code",
   "execution_count": null,
   "id": "18",
   "metadata": {
    "height": 47,
    "tags": []
   },
   "outputs": [],
   "source": [
    "raven_call = query_raven(raven_prompt)\n",
    "print (raven_call)"
   ]
  },
  {
   "cell_type": "code",
   "execution_count": null,
   "id": "19",
   "metadata": {
    "height": 30,
    "tags": []
   },
   "outputs": [],
   "source": [
    "exec(raven_call)"
   ]
  },
  {
   "cell_type": "markdown",
   "id": "20",
   "metadata": {},
   "source": [
    "### Multiple Parallel Function Calling"
   ]
  },
  {
   "cell_type": "markdown",
   "id": "21",
   "metadata": {},
   "source": [
    "#### Build The Prompt"
   ]
  },
  {
   "cell_type": "code",
   "execution_count": null,
   "id": "22",
   "metadata": {
    "height": 30,
    "tags": []
   },
   "outputs": [],
   "source": [
    "raven_msg = \"Draw a clown and a tie?\""
   ]
  },
  {
   "cell_type": "code",
   "execution_count": null,
   "id": "23",
   "metadata": {
    "height": 47,
    "tags": []
   },
   "outputs": [],
   "source": [
    "raven_prompt = build_raven_prompt([draw_tie, draw_clown_face], raven_msg)\n",
    "raven_call = query_raven(raven_prompt)"
   ]
  },
  {
   "cell_type": "code",
   "execution_count": null,
   "id": "24",
   "metadata": {
    "height": 30,
    "tags": []
   },
   "outputs": [],
   "source": [
    "print (raven_call)"
   ]
  },
  {
   "cell_type": "code",
   "execution_count": null,
   "id": "25",
   "metadata": {
    "height": 30,
    "tags": []
   },
   "outputs": [],
   "source": [
    "exec(raven_call)"
   ]
  },
  {
   "cell_type": "markdown",
   "id": "26",
   "metadata": {},
   "source": [
    "### What is the significance of the docstrings?"
   ]
  },
  {
   "cell_type": "code",
   "execution_count": null,
   "id": "27",
   "metadata": {
    "height": 98,
    "tags": []
   },
   "outputs": [],
   "source": [
    "raven_msg = \"Draw me a sad one with green head\"\n",
    "raven_prompt = build_raven_prompt([draw_clown_face], raven_msg)\n",
    "raven_call = query_raven(raven_prompt)\n",
    "print (raven_call)\n",
    "exec(raven_call)"
   ]
  },
  {
   "cell_type": "markdown",
   "id": "28",
   "metadata": {},
   "source": [
    "#### Fixing The Function Docstring"
   ]
  },
  {
   "cell_type": "code",
   "execution_count": null,
   "id": "29",
   "metadata": {
    "height": 30,
    "tags": []
   },
   "outputs": [],
   "source": [
    "print (raven_prompt)"
   ]
  },
  {
   "cell_type": "code",
   "execution_count": null,
   "id": "30",
   "metadata": {
    "height": 489
   },
   "outputs": [],
   "source": [
    "raven_prompt_targeted = \\\n",
    "'''\n",
    "Function:\n",
    "def draw_clown_face(face_color='yellow', eye_color='black', nose_color='red', eye_size=0.05, mouth_size=(0.3, 0.1), mouth_color='black', eye_offset=(0.15, 0.15), mouth_theta=(200, 340))\n",
    "    \"\"\"\n",
    "    Draws a customizable, simplified clown face using matplotlib.\n",
    "\n",
    "    Parameters:\n",
    "    - face_color (str): Color of the clown's face. Default is 'yellow'.\n",
    "    - eye_color (str): Color of the clown's eyes. Default is 'black'.\n",
    "    - nose_color (str): Color of the clown's nose. Default is 'red'.\n",
    "    - eye_size (float): Radius of the clown's eyes. Default is 0.05.\n",
    "    - mouth_size (tuple): Width and height of the clown's mouth arc. Default is (0.3, 0.1).\n",
    "    - eye_offset (tuple): Horizontal and vertical offset for the eyes from the center. Default is (0.15, 0.15).\n",
    "    - mouth_theta (tuple): Controls the emotions of the clown. Starting and ending angles (in degrees) of the mouth arc. Default is (200, 340).\n",
    "\n",
    "    This function creates a plot displaying a simplified clown face, where essential facial features' size, position, and color can be customized. \n",
    "\n",
    "    Example usage:\n",
    "    draw_clown_face(face_color='lightblue', eye_color='green', nose_color='orange', \n",
    "                    eye_size=0.07, mouth_size=(0.4, 0.25), \n",
    "                    eye_offset=(0.2, 0.2), mouth_theta=(0, 180))\n",
    "\n",
    "    # This will draw a simplified clown face with a light blue face, green eyes, an orange nose, and a smiling mouth.\n",
    "    \"\"\"\n",
    "    \n",
    "User Query: Draw me a sad one with green head<human_end>\n",
    "'''"
   ]
  },
  {
   "cell_type": "code",
   "execution_count": null,
   "id": "31",
   "metadata": {
    "height": 64
   },
   "outputs": [],
   "source": [
    "raven_call = query_raven(raven_prompt_targeted)\n",
    "print (raven_call)\n",
    "exec(raven_call)"
   ]
  },
  {
   "cell_type": "markdown",
   "id": "32",
   "metadata": {
    "id": "yIK9qpfSacEE"
   },
   "source": [
    "### Concrete Example For Nested APIs"
   ]
  },
  {
   "cell_type": "code",
   "execution_count": null,
   "id": "33",
   "metadata": {
    "height": 81,
    "tags": []
   },
   "outputs": [],
   "source": [
    "raven_msg_nested = \"Hey draw me a clown with \"\\\n",
    "                    \"a red face, blue eyes, green nose, \"\\\n",
    "                    \"and a black mouth open from 0 to 360 \"\\\n",
    "                    \"degrees?\""
   ]
  },
  {
   "cell_type": "code",
   "execution_count": null,
   "id": "34",
   "metadata": {
    "height": 183,
    "id": "kcGq73hRYlwX"
   },
   "outputs": [],
   "source": [
    "from utils import draw_head, draw_eyes, \\\n",
    "    draw_nose, draw_mouth, \\\n",
    "    draw_clown_face_parts\n",
    "raven_function_nested = build_raven_prompt([draw_head, \\\n",
    "                                            draw_eyes, \\\n",
    "                                            draw_nose, \\\n",
    "                                            draw_mouth, \\\n",
    "                                            draw_clown_face_parts],\\\n",
    "                                            raven_msg_nested)\n",
    "raven_call = query_raven(raven_function_nested)"
   ]
  },
  {
   "cell_type": "code",
   "execution_count": null,
   "id": "35",
   "metadata": {
    "colab": {
     "base_uri": "https://localhost:8080/"
    },
    "height": 30,
    "id": "AeAzs29PeHAl",
    "outputId": "26ea8920-96e5-4f16-905f-a7203c42be9a"
   },
   "outputs": [],
   "source": [
    "print (raven_call)"
   ]
  },
  {
   "cell_type": "code",
   "execution_count": null,
   "id": "36",
   "metadata": {
    "height": 30,
    "tags": []
   },
   "outputs": [],
   "source": [
    "exec(raven_call)"
   ]
  },
  {
   "cell_type": "code",
   "execution_count": null,
   "id": "37",
   "metadata": {
    "height": 30
   },
   "outputs": [],
   "source": []
  }
 ],
 "metadata": {
  "kernelspec": {
   "display_name": "Python 3 (ipykernel)",
   "language": "python",
   "name": "python3"
  },
  "language_info": {
   "codemirror_mode": {
    "name": "ipython",
    "version": 3
   },
   "file_extension": ".py",
   "mimetype": "text/x-python",
   "name": "python",
   "nbconvert_exporter": "python",
   "pygments_lexer": "ipython3",
   "version": "3.11.9"
  }
 },
 "nbformat": 4,
 "nbformat_minor": 5
}
