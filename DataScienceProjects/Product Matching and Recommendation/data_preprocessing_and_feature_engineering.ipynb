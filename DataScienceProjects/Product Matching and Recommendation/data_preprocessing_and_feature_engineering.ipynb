{
 "cells": [
  {
   "cell_type": "code",
   "execution_count": 1,
   "id": "1a89dd3c-fcef-452f-b9a1-1bdeed029e2d",
   "metadata": {},
   "outputs": [],
   "source": [
    "import pandas as pd\n",
    "import numpy as np\n",
    "import json\n",
    "from sklearn.preprocessing import MinMaxScaler, OneHotEncoder"
   ]
  },
  {
   "cell_type": "code",
   "execution_count": 2,
   "id": "b5879530-063d-4e39-82a1-0313477088b9",
   "metadata": {},
   "outputs": [],
   "source": [
    "# Load dataset\n",
    "df = pd.read_csv(\"products.csv\")"
   ]
  },
  {
   "cell_type": "code",
   "execution_count": 3,
   "id": "78dbc047-4565-445d-82be-88f9dc53dc37",
   "metadata": {},
   "outputs": [],
   "source": [
    "# Parse JSON specifications into a structured DataFrame\n",
    "def parse_specs(spec_str):\n",
    "    try:\n",
    "        return json.loads(spec_str.replace(\"'\", '\"'))\n",
    "    except:\n",
    "        return {}"
   ]
  },
  {
   "cell_type": "code",
   "execution_count": 4,
   "id": "49d22e44-6710-42bd-8d15-a9a4a987c77f",
   "metadata": {},
   "outputs": [],
   "source": [
    "df['specs'] = df['specifications'].apply(parse_specs)\n",
    "specs_df = pd.json_normalize(df['specs'])\n",
    "df = pd.concat([df, specs_df], axis=1)"
   ]
  },
  {
   "cell_type": "code",
   "execution_count": 5,
   "id": "ed007173-ffc9-4edd-84d5-80e754fd9323",
   "metadata": {},
   "outputs": [
    {
     "data": {
      "text/html": [
       "<div>\n",
       "<style scoped>\n",
       "    .dataframe tbody tr th:only-of-type {\n",
       "        vertical-align: middle;\n",
       "    }\n",
       "\n",
       "    .dataframe tbody tr th {\n",
       "        vertical-align: top;\n",
       "    }\n",
       "\n",
       "    .dataframe thead th {\n",
       "        text-align: right;\n",
       "    }\n",
       "</style>\n",
       "<table border=\"1\" class=\"dataframe\">\n",
       "  <thead>\n",
       "    <tr style=\"text-align: right;\">\n",
       "      <th></th>\n",
       "      <th>product_id</th>\n",
       "      <th>product_name</th>\n",
       "      <th>category</th>\n",
       "      <th>specifications</th>\n",
       "      <th>specs</th>\n",
       "      <th>voltage_rating</th>\n",
       "      <th>width</th>\n",
       "      <th>color</th>\n",
       "      <th>temperature_range</th>\n",
       "      <th>voltage</th>\n",
       "      <th>...</th>\n",
       "      <th>cordless</th>\n",
       "      <th>max_wattage</th>\n",
       "      <th>smart_home_compatible</th>\n",
       "      <th>wattage</th>\n",
       "      <th>base_type</th>\n",
       "      <th>lumens</th>\n",
       "      <th>color_temp</th>\n",
       "      <th>max_torque</th>\n",
       "      <th>battery_type</th>\n",
       "      <th>weight</th>\n",
       "    </tr>\n",
       "  </thead>\n",
       "  <tbody>\n",
       "    <tr>\n",
       "      <th>0</th>\n",
       "      <td>P1001</td>\n",
       "      <td>3M 2.5mm Electrical Tape</td>\n",
       "      <td>Electrical Supplies</td>\n",
       "      <td>{'voltage_rating': '600V', 'width': '19mm', 'c...</td>\n",
       "      <td>{'voltage_rating': '600V', 'width': '19mm', 'c...</td>\n",
       "      <td>600V</td>\n",
       "      <td>19mm</td>\n",
       "      <td>Black</td>\n",
       "      <td>-18C to 105C</td>\n",
       "      <td>NaN</td>\n",
       "      <td>...</td>\n",
       "      <td>NaN</td>\n",
       "      <td>NaN</td>\n",
       "      <td>NaN</td>\n",
       "      <td>NaN</td>\n",
       "      <td>NaN</td>\n",
       "      <td>NaN</td>\n",
       "      <td>NaN</td>\n",
       "      <td>NaN</td>\n",
       "      <td>NaN</td>\n",
       "      <td>NaN</td>\n",
       "    </tr>\n",
       "    <tr>\n",
       "      <th>1</th>\n",
       "      <td>P1002</td>\n",
       "      <td>Hubbell 20A Duplex Receptacle</td>\n",
       "      <td>Electrical Supplies</td>\n",
       "      <td>{'voltage': '120V', 'current': '20A', 'color':...</td>\n",
       "      <td>{'voltage': '120V', 'current': '20A', 'color':...</td>\n",
       "      <td>NaN</td>\n",
       "      <td>NaN</td>\n",
       "      <td>White</td>\n",
       "      <td>NaN</td>\n",
       "      <td>120V</td>\n",
       "      <td>...</td>\n",
       "      <td>NaN</td>\n",
       "      <td>NaN</td>\n",
       "      <td>NaN</td>\n",
       "      <td>NaN</td>\n",
       "      <td>NaN</td>\n",
       "      <td>NaN</td>\n",
       "      <td>NaN</td>\n",
       "      <td>NaN</td>\n",
       "      <td>NaN</td>\n",
       "      <td>NaN</td>\n",
       "    </tr>\n",
       "    <tr>\n",
       "      <th>2</th>\n",
       "      <td>P1003</td>\n",
       "      <td>Southwire 12/2 NM-B Cable</td>\n",
       "      <td>Electrical Supplies</td>\n",
       "      <td>{'gauge': '12 AWG', 'conductor_material': 'Cop...</td>\n",
       "      <td>{'gauge': '12 AWG', 'conductor_material': 'Cop...</td>\n",
       "      <td>600V</td>\n",
       "      <td>NaN</td>\n",
       "      <td>NaN</td>\n",
       "      <td>NaN</td>\n",
       "      <td>NaN</td>\n",
       "      <td>...</td>\n",
       "      <td>NaN</td>\n",
       "      <td>NaN</td>\n",
       "      <td>NaN</td>\n",
       "      <td>NaN</td>\n",
       "      <td>NaN</td>\n",
       "      <td>NaN</td>\n",
       "      <td>NaN</td>\n",
       "      <td>NaN</td>\n",
       "      <td>NaN</td>\n",
       "      <td>NaN</td>\n",
       "    </tr>\n",
       "    <tr>\n",
       "      <th>3</th>\n",
       "      <td>P1004</td>\n",
       "      <td>Leviton Decora Smart Switch</td>\n",
       "      <td>Electrical Supplies</td>\n",
       "      <td>{'voltage': '120V', 'wifi': 'Yes', 'load_type'...</td>\n",
       "      <td>{'voltage': '120V', 'wifi': 'Yes', 'load_type'...</td>\n",
       "      <td>NaN</td>\n",
       "      <td>NaN</td>\n",
       "      <td>NaN</td>\n",
       "      <td>NaN</td>\n",
       "      <td>120V</td>\n",
       "      <td>...</td>\n",
       "      <td>NaN</td>\n",
       "      <td>NaN</td>\n",
       "      <td>NaN</td>\n",
       "      <td>NaN</td>\n",
       "      <td>NaN</td>\n",
       "      <td>NaN</td>\n",
       "      <td>NaN</td>\n",
       "      <td>NaN</td>\n",
       "      <td>NaN</td>\n",
       "      <td>NaN</td>\n",
       "    </tr>\n",
       "    <tr>\n",
       "      <th>4</th>\n",
       "      <td>P1005</td>\n",
       "      <td>Klein Tools Diagonal Cutters</td>\n",
       "      <td>Tools</td>\n",
       "      <td>{'length': '7 inch', 'material': 'High-carbon ...</td>\n",
       "      <td>{'length': '7 inch', 'material': 'High-carbon ...</td>\n",
       "      <td>NaN</td>\n",
       "      <td>NaN</td>\n",
       "      <td>NaN</td>\n",
       "      <td>NaN</td>\n",
       "      <td>NaN</td>\n",
       "      <td>...</td>\n",
       "      <td>NaN</td>\n",
       "      <td>NaN</td>\n",
       "      <td>NaN</td>\n",
       "      <td>NaN</td>\n",
       "      <td>NaN</td>\n",
       "      <td>NaN</td>\n",
       "      <td>NaN</td>\n",
       "      <td>NaN</td>\n",
       "      <td>NaN</td>\n",
       "      <td>NaN</td>\n",
       "    </tr>\n",
       "  </tbody>\n",
       "</table>\n",
       "<p>5 rows × 47 columns</p>\n",
       "</div>"
      ],
      "text/plain": [
       "  product_id                   product_name             category  \\\n",
       "0      P1001       3M 2.5mm Electrical Tape  Electrical Supplies   \n",
       "1      P1002  Hubbell 20A Duplex Receptacle  Electrical Supplies   \n",
       "2      P1003      Southwire 12/2 NM-B Cable  Electrical Supplies   \n",
       "3      P1004    Leviton Decora Smart Switch  Electrical Supplies   \n",
       "4      P1005   Klein Tools Diagonal Cutters                Tools   \n",
       "\n",
       "                                      specifications  \\\n",
       "0  {'voltage_rating': '600V', 'width': '19mm', 'c...   \n",
       "1  {'voltage': '120V', 'current': '20A', 'color':...   \n",
       "2  {'gauge': '12 AWG', 'conductor_material': 'Cop...   \n",
       "3  {'voltage': '120V', 'wifi': 'Yes', 'load_type'...   \n",
       "4  {'length': '7 inch', 'material': 'High-carbon ...   \n",
       "\n",
       "                                               specs voltage_rating width  \\\n",
       "0  {'voltage_rating': '600V', 'width': '19mm', 'c...           600V  19mm   \n",
       "1  {'voltage': '120V', 'current': '20A', 'color':...            NaN   NaN   \n",
       "2  {'gauge': '12 AWG', 'conductor_material': 'Cop...           600V   NaN   \n",
       "3  {'voltage': '120V', 'wifi': 'Yes', 'load_type'...            NaN   NaN   \n",
       "4  {'length': '7 inch', 'material': 'High-carbon ...            NaN   NaN   \n",
       "\n",
       "   color temperature_range voltage  ... cordless max_wattage  \\\n",
       "0  Black      -18C to 105C     NaN  ...      NaN         NaN   \n",
       "1  White               NaN    120V  ...      NaN         NaN   \n",
       "2    NaN               NaN     NaN  ...      NaN         NaN   \n",
       "3    NaN               NaN    120V  ...      NaN         NaN   \n",
       "4    NaN               NaN     NaN  ...      NaN         NaN   \n",
       "\n",
       "  smart_home_compatible wattage base_type lumens color_temp max_torque  \\\n",
       "0                   NaN     NaN       NaN    NaN        NaN        NaN   \n",
       "1                   NaN     NaN       NaN    NaN        NaN        NaN   \n",
       "2                   NaN     NaN       NaN    NaN        NaN        NaN   \n",
       "3                   NaN     NaN       NaN    NaN        NaN        NaN   \n",
       "4                   NaN     NaN       NaN    NaN        NaN        NaN   \n",
       "\n",
       "  battery_type weight  \n",
       "0          NaN    NaN  \n",
       "1          NaN    NaN  \n",
       "2          NaN    NaN  \n",
       "3          NaN    NaN  \n",
       "4          NaN    NaN  \n",
       "\n",
       "[5 rows x 47 columns]"
      ]
     },
     "execution_count": 5,
     "metadata": {},
     "output_type": "execute_result"
    }
   ],
   "source": [
    "df.head()"
   ]
  },
  {
   "cell_type": "markdown",
   "id": "9426360f-1174-46b6-9b31-a84f8f45c81c",
   "metadata": {},
   "source": [
    "## Handlish missing values & Normalize"
   ]
  },
  {
   "cell_type": "code",
   "execution_count": 7,
   "id": "a3004a5a-97d4-4dc0-b86c-8c6587dae0d7",
   "metadata": {},
   "outputs": [],
   "source": [
    "# Fill missing numerical specs with median\n",
    "num_cols = specs_df.select_dtypes(include=np.number).columns\n",
    "df[num_cols] = df[num_cols].fillna(df[num_cols].median())"
   ]
  },
  {
   "cell_type": "code",
   "execution_count": 8,
   "id": "b9bce423-816c-4e79-9677-d91e8590d3d3",
   "metadata": {},
   "outputs": [],
   "source": [
    "# Fill missing categorical specs with mode\n",
    "cat_cols = specs_df.select_dtypes(exclude=np.number).columns\n",
    "df[cat_cols] = df[cat_cols].fillna(df[cat_cols].mode().iloc[0])"
   ]
  },
  {
   "cell_type": "code",
   "execution_count": 9,
   "id": "5f6ce5a5-7362-4417-bc6d-7b878b92ae52",
   "metadata": {},
   "outputs": [
    {
     "ename": "ValueError",
     "evalue": "at least one array or dtype is required",
     "output_type": "error",
     "traceback": [
      "\u001b[31m---------------------------------------------------------------------------\u001b[39m",
      "\u001b[31mValueError\u001b[39m                                Traceback (most recent call last)",
      "\u001b[36mCell\u001b[39m\u001b[36m \u001b[39m\u001b[32mIn[9]\u001b[39m\u001b[32m, line 3\u001b[39m\n\u001b[32m      1\u001b[39m \u001b[38;5;66;03m# Normalize numerical features\u001b[39;00m\n\u001b[32m      2\u001b[39m scaler = MinMaxScaler()\n\u001b[32m----> \u001b[39m\u001b[32m3\u001b[39m df[num_cols] = \u001b[43mscaler\u001b[49m\u001b[43m.\u001b[49m\u001b[43mfit_transform\u001b[49m\u001b[43m(\u001b[49m\u001b[43mdf\u001b[49m\u001b[43m[\u001b[49m\u001b[43mnum_cols\u001b[49m\u001b[43m]\u001b[49m\u001b[43m)\u001b[49m\n",
      "\u001b[36mFile \u001b[39m\u001b[32m~/myenv/lib/python3.12/site-packages/sklearn/utils/_set_output.py:319\u001b[39m, in \u001b[36m_wrap_method_output.<locals>.wrapped\u001b[39m\u001b[34m(self, X, *args, **kwargs)\u001b[39m\n\u001b[32m    317\u001b[39m \u001b[38;5;129m@wraps\u001b[39m(f)\n\u001b[32m    318\u001b[39m \u001b[38;5;28;01mdef\u001b[39;00m\u001b[38;5;250m \u001b[39m\u001b[34mwrapped\u001b[39m(\u001b[38;5;28mself\u001b[39m, X, *args, **kwargs):\n\u001b[32m--> \u001b[39m\u001b[32m319\u001b[39m     data_to_wrap = \u001b[43mf\u001b[49m\u001b[43m(\u001b[49m\u001b[38;5;28;43mself\u001b[39;49m\u001b[43m,\u001b[49m\u001b[43m \u001b[49m\u001b[43mX\u001b[49m\u001b[43m,\u001b[49m\u001b[43m \u001b[49m\u001b[43m*\u001b[49m\u001b[43margs\u001b[49m\u001b[43m,\u001b[49m\u001b[43m \u001b[49m\u001b[43m*\u001b[49m\u001b[43m*\u001b[49m\u001b[43mkwargs\u001b[49m\u001b[43m)\u001b[49m\n\u001b[32m    320\u001b[39m     \u001b[38;5;28;01mif\u001b[39;00m \u001b[38;5;28misinstance\u001b[39m(data_to_wrap, \u001b[38;5;28mtuple\u001b[39m):\n\u001b[32m    321\u001b[39m         \u001b[38;5;66;03m# only wrap the first output for cross decomposition\u001b[39;00m\n\u001b[32m    322\u001b[39m         return_tuple = (\n\u001b[32m    323\u001b[39m             _wrap_data_with_container(method, data_to_wrap[\u001b[32m0\u001b[39m], X, \u001b[38;5;28mself\u001b[39m),\n\u001b[32m    324\u001b[39m             *data_to_wrap[\u001b[32m1\u001b[39m:],\n\u001b[32m    325\u001b[39m         )\n",
      "\u001b[36mFile \u001b[39m\u001b[32m~/myenv/lib/python3.12/site-packages/sklearn/base.py:918\u001b[39m, in \u001b[36mTransformerMixin.fit_transform\u001b[39m\u001b[34m(self, X, y, **fit_params)\u001b[39m\n\u001b[32m    903\u001b[39m         warnings.warn(\n\u001b[32m    904\u001b[39m             (\n\u001b[32m    905\u001b[39m                 \u001b[33mf\u001b[39m\u001b[33m\"\u001b[39m\u001b[33mThis object (\u001b[39m\u001b[38;5;132;01m{\u001b[39;00m\u001b[38;5;28mself\u001b[39m.\u001b[34m__class__\u001b[39m.\u001b[34m__name__\u001b[39m\u001b[38;5;132;01m}\u001b[39;00m\u001b[33m) has a `transform`\u001b[39m\u001b[33m\"\u001b[39m\n\u001b[32m   (...)\u001b[39m\u001b[32m    913\u001b[39m             \u001b[38;5;167;01mUserWarning\u001b[39;00m,\n\u001b[32m    914\u001b[39m         )\n\u001b[32m    916\u001b[39m \u001b[38;5;28;01mif\u001b[39;00m y \u001b[38;5;129;01mis\u001b[39;00m \u001b[38;5;28;01mNone\u001b[39;00m:\n\u001b[32m    917\u001b[39m     \u001b[38;5;66;03m# fit method of arity 1 (unsupervised transformation)\u001b[39;00m\n\u001b[32m--> \u001b[39m\u001b[32m918\u001b[39m     \u001b[38;5;28;01mreturn\u001b[39;00m \u001b[38;5;28;43mself\u001b[39;49m\u001b[43m.\u001b[49m\u001b[43mfit\u001b[49m\u001b[43m(\u001b[49m\u001b[43mX\u001b[49m\u001b[43m,\u001b[49m\u001b[43m \u001b[49m\u001b[43m*\u001b[49m\u001b[43m*\u001b[49m\u001b[43mfit_params\u001b[49m\u001b[43m)\u001b[49m.transform(X)\n\u001b[32m    919\u001b[39m \u001b[38;5;28;01melse\u001b[39;00m:\n\u001b[32m    920\u001b[39m     \u001b[38;5;66;03m# fit method of arity 2 (supervised transformation)\u001b[39;00m\n\u001b[32m    921\u001b[39m     \u001b[38;5;28;01mreturn\u001b[39;00m \u001b[38;5;28mself\u001b[39m.fit(X, y, **fit_params).transform(X)\n",
      "\u001b[36mFile \u001b[39m\u001b[32m~/myenv/lib/python3.12/site-packages/sklearn/preprocessing/_data.py:447\u001b[39m, in \u001b[36mMinMaxScaler.fit\u001b[39m\u001b[34m(self, X, y)\u001b[39m\n\u001b[32m    445\u001b[39m \u001b[38;5;66;03m# Reset internal state before fitting\u001b[39;00m\n\u001b[32m    446\u001b[39m \u001b[38;5;28mself\u001b[39m._reset()\n\u001b[32m--> \u001b[39m\u001b[32m447\u001b[39m \u001b[38;5;28;01mreturn\u001b[39;00m \u001b[38;5;28;43mself\u001b[39;49m\u001b[43m.\u001b[49m\u001b[43mpartial_fit\u001b[49m\u001b[43m(\u001b[49m\u001b[43mX\u001b[49m\u001b[43m,\u001b[49m\u001b[43m \u001b[49m\u001b[43my\u001b[49m\u001b[43m)\u001b[49m\n",
      "\u001b[36mFile \u001b[39m\u001b[32m~/myenv/lib/python3.12/site-packages/sklearn/base.py:1389\u001b[39m, in \u001b[36m_fit_context.<locals>.decorator.<locals>.wrapper\u001b[39m\u001b[34m(estimator, *args, **kwargs)\u001b[39m\n\u001b[32m   1382\u001b[39m     estimator._validate_params()\n\u001b[32m   1384\u001b[39m \u001b[38;5;28;01mwith\u001b[39;00m config_context(\n\u001b[32m   1385\u001b[39m     skip_parameter_validation=(\n\u001b[32m   1386\u001b[39m         prefer_skip_nested_validation \u001b[38;5;129;01mor\u001b[39;00m global_skip_validation\n\u001b[32m   1387\u001b[39m     )\n\u001b[32m   1388\u001b[39m ):\n\u001b[32m-> \u001b[39m\u001b[32m1389\u001b[39m     \u001b[38;5;28;01mreturn\u001b[39;00m \u001b[43mfit_method\u001b[49m\u001b[43m(\u001b[49m\u001b[43mestimator\u001b[49m\u001b[43m,\u001b[49m\u001b[43m \u001b[49m\u001b[43m*\u001b[49m\u001b[43margs\u001b[49m\u001b[43m,\u001b[49m\u001b[43m \u001b[49m\u001b[43m*\u001b[49m\u001b[43m*\u001b[49m\u001b[43mkwargs\u001b[49m\u001b[43m)\u001b[49m\n",
      "\u001b[36mFile \u001b[39m\u001b[32m~/myenv/lib/python3.12/site-packages/sklearn/preprocessing/_data.py:487\u001b[39m, in \u001b[36mMinMaxScaler.partial_fit\u001b[39m\u001b[34m(self, X, y)\u001b[39m\n\u001b[32m    484\u001b[39m xp, _ = get_namespace(X)\n\u001b[32m    486\u001b[39m first_pass = \u001b[38;5;129;01mnot\u001b[39;00m \u001b[38;5;28mhasattr\u001b[39m(\u001b[38;5;28mself\u001b[39m, \u001b[33m\"\u001b[39m\u001b[33mn_samples_seen_\u001b[39m\u001b[33m\"\u001b[39m)\n\u001b[32m--> \u001b[39m\u001b[32m487\u001b[39m X = \u001b[43mvalidate_data\u001b[49m\u001b[43m(\u001b[49m\n\u001b[32m    488\u001b[39m \u001b[43m    \u001b[49m\u001b[38;5;28;43mself\u001b[39;49m\u001b[43m,\u001b[49m\n\u001b[32m    489\u001b[39m \u001b[43m    \u001b[49m\u001b[43mX\u001b[49m\u001b[43m,\u001b[49m\n\u001b[32m    490\u001b[39m \u001b[43m    \u001b[49m\u001b[43mreset\u001b[49m\u001b[43m=\u001b[49m\u001b[43mfirst_pass\u001b[49m\u001b[43m,\u001b[49m\n\u001b[32m    491\u001b[39m \u001b[43m    \u001b[49m\u001b[43mdtype\u001b[49m\u001b[43m=\u001b[49m\u001b[43m_array_api\u001b[49m\u001b[43m.\u001b[49m\u001b[43msupported_float_dtypes\u001b[49m\u001b[43m(\u001b[49m\u001b[43mxp\u001b[49m\u001b[43m)\u001b[49m\u001b[43m,\u001b[49m\n\u001b[32m    492\u001b[39m \u001b[43m    \u001b[49m\u001b[43mensure_all_finite\u001b[49m\u001b[43m=\u001b[49m\u001b[33;43m\"\u001b[39;49m\u001b[33;43mallow-nan\u001b[39;49m\u001b[33;43m\"\u001b[39;49m\u001b[43m,\u001b[49m\n\u001b[32m    493\u001b[39m \u001b[43m\u001b[49m\u001b[43m)\u001b[49m\n\u001b[32m    495\u001b[39m data_min = _array_api._nanmin(X, axis=\u001b[32m0\u001b[39m, xp=xp)\n\u001b[32m    496\u001b[39m data_max = _array_api._nanmax(X, axis=\u001b[32m0\u001b[39m, xp=xp)\n",
      "\u001b[36mFile \u001b[39m\u001b[32m~/myenv/lib/python3.12/site-packages/sklearn/utils/validation.py:2944\u001b[39m, in \u001b[36mvalidate_data\u001b[39m\u001b[34m(_estimator, X, y, reset, validate_separately, skip_check_array, **check_params)\u001b[39m\n\u001b[32m   2942\u001b[39m         out = X, y\n\u001b[32m   2943\u001b[39m \u001b[38;5;28;01melif\u001b[39;00m \u001b[38;5;129;01mnot\u001b[39;00m no_val_X \u001b[38;5;129;01mand\u001b[39;00m no_val_y:\n\u001b[32m-> \u001b[39m\u001b[32m2944\u001b[39m     out = \u001b[43mcheck_array\u001b[49m\u001b[43m(\u001b[49m\u001b[43mX\u001b[49m\u001b[43m,\u001b[49m\u001b[43m \u001b[49m\u001b[43minput_name\u001b[49m\u001b[43m=\u001b[49m\u001b[33;43m\"\u001b[39;49m\u001b[33;43mX\u001b[39;49m\u001b[33;43m\"\u001b[39;49m\u001b[43m,\u001b[49m\u001b[43m \u001b[49m\u001b[43m*\u001b[49m\u001b[43m*\u001b[49m\u001b[43mcheck_params\u001b[49m\u001b[43m)\u001b[49m\n\u001b[32m   2945\u001b[39m \u001b[38;5;28;01melif\u001b[39;00m no_val_X \u001b[38;5;129;01mand\u001b[39;00m \u001b[38;5;129;01mnot\u001b[39;00m no_val_y:\n\u001b[32m   2946\u001b[39m     out = _check_y(y, **check_params)\n",
      "\u001b[36mFile \u001b[39m\u001b[32m~/myenv/lib/python3.12/site-packages/sklearn/utils/validation.py:931\u001b[39m, in \u001b[36mcheck_array\u001b[39m\u001b[34m(array, accept_sparse, accept_large_sparse, dtype, order, copy, force_writeable, force_all_finite, ensure_all_finite, ensure_non_negative, ensure_2d, allow_nd, ensure_min_samples, ensure_min_features, estimator, input_name)\u001b[39m\n\u001b[32m    927\u001b[39m pandas_requires_conversion = \u001b[38;5;28many\u001b[39m(\n\u001b[32m    928\u001b[39m     _pandas_dtype_needs_early_conversion(i) \u001b[38;5;28;01mfor\u001b[39;00m i \u001b[38;5;129;01min\u001b[39;00m dtypes_orig\n\u001b[32m    929\u001b[39m )\n\u001b[32m    930\u001b[39m \u001b[38;5;28;01mif\u001b[39;00m \u001b[38;5;28mall\u001b[39m(\u001b[38;5;28misinstance\u001b[39m(dtype_iter, np.dtype) \u001b[38;5;28;01mfor\u001b[39;00m dtype_iter \u001b[38;5;129;01min\u001b[39;00m dtypes_orig):\n\u001b[32m--> \u001b[39m\u001b[32m931\u001b[39m     dtype_orig = \u001b[43mnp\u001b[49m\u001b[43m.\u001b[49m\u001b[43mresult_type\u001b[49m\u001b[43m(\u001b[49m\u001b[43m*\u001b[49m\u001b[43mdtypes_orig\u001b[49m\u001b[43m)\u001b[49m\n\u001b[32m    932\u001b[39m \u001b[38;5;28;01melif\u001b[39;00m pandas_requires_conversion \u001b[38;5;129;01mand\u001b[39;00m \u001b[38;5;28many\u001b[39m(d == \u001b[38;5;28mobject\u001b[39m \u001b[38;5;28;01mfor\u001b[39;00m d \u001b[38;5;129;01min\u001b[39;00m dtypes_orig):\n\u001b[32m    933\u001b[39m     \u001b[38;5;66;03m# Force object if any of the dtypes is an object\u001b[39;00m\n\u001b[32m    934\u001b[39m     dtype_orig = \u001b[38;5;28mobject\u001b[39m\n",
      "\u001b[31mValueError\u001b[39m: at least one array or dtype is required"
     ]
    }
   ],
   "source": [
    "# Normalize numerical features\n",
    "scaler = MinMaxScaler()\n",
    "df[num_cols] = scaler.fit_transform(df[num_cols])"
   ]
  },
  {
   "cell_type": "markdown",
   "id": "0263cd0c-c3da-403d-a713-24028b59a413",
   "metadata": {},
   "source": [
    "## Featue Encoding"
   ]
  },
  {
   "cell_type": "code",
   "execution_count": null,
   "id": "12d7dcc9-f2b6-456c-92a7-467e852fc390",
   "metadata": {},
   "outputs": [],
   "source": [
    "# One-hot encode categorical features\n",
    "encoder = OneHotEncoder(sparse=False, handle_unknown='ignore')\n",
    "encoded_cats = encoder.fit_transform(df[cat_cols])\n",
    "encoded_cats_df = pd.DataFrame(encoded_cats, columns=encoder.get_feature_names_out(cat_cols))"
   ]
  },
  {
   "cell_type": "code",
   "execution_count": null,
   "id": "4146784a-f14f-45b2-809d-6d431fbd9d8a",
   "metadata": {},
   "outputs": [],
   "source": [
    "# Combine all features\n",
    "final_features = pd.concat([df[num_cols], encoded_cats_df], axis=1)"
   ]
  },
  {
   "cell_type": "markdown",
   "id": "75de4dba-39a5-4d9c-8637-80d91c7a6fff",
   "metadata": {},
   "source": [
    "## Product Matching Model - Cosine Similarity"
   ]
  },
  {
   "cell_type": "code",
   "execution_count": null,
   "id": "a4140532-e826-4001-b8cf-9ae8c57ab724",
   "metadata": {},
   "outputs": [],
   "source": [
    "from sklearn.metrics.pairwise import cosine_similarity"
   ]
  },
  {
   "cell_type": "code",
   "execution_count": null,
   "id": "53ece40f-e6cf-41b2-ba1c-327be1ba811d",
   "metadata": {},
   "outputs": [],
   "source": [
    "# Compute pairwise cosine similarity\n",
    "similarity_matrix = cosine_similarity(final_features)"
   ]
  },
  {
   "cell_type": "code",
   "execution_count": null,
   "id": "78ebad2b-63f6-4b3e-a97b-a442381e8ebf",
   "metadata": {},
   "outputs": [],
   "source": [
    "# Convert to DataFrame for easy lookup\n",
    "similarity_df = pd.DataFrame(\n",
    "    similarity_matrix,\n",
    "    index=df['product_id'],\n",
    "    columns=df['product_id']\n",
    ")"
   ]
  },
  {
   "cell_type": "markdown",
   "id": "6a172ac3-38ee-461d-99a5-925d4d26696b",
   "metadata": {},
   "source": [
    "## Implement Similar Product Finder"
   ]
  },
  {
   "cell_type": "code",
   "execution_count": null,
   "id": "8ccba51d-e268-4041-97f4-a7bf8b174239",
   "metadata": {},
   "outputs": [],
   "source": [
    "def find_similar_products(product_id, n=3):\n",
    "    \"\"\"Returns top n most similar products based on specs.\"\"\"\n",
    "    similar_products = (\n",
    "        similarity_df[product_id]\n",
    "        .sort_values(ascending=False)\n",
    "        .iloc[1:n+1]  # Skip self-match\n",
    "        .index\n",
    "        .tolist()\n",
    "    )\n",
    "    return similar_products"
   ]
  },
  {
   "cell_type": "markdown",
   "id": "365e5570-132d-489a-83d8-2ccdb89b8889",
   "metadata": {},
   "source": [
    "## Recommendation System"
   ]
  },
  {
   "cell_type": "code",
   "execution_count": null,
   "id": "187afe64-b061-44d2-bc8a-b51f8b2d0854",
   "metadata": {},
   "outputs": [],
   "source": [
    "from sklearn.feature_extraction.text import TfidfVectorizer"
   ]
  },
  {
   "cell_type": "code",
   "execution_count": null,
   "id": "38cfa6ca-655d-41d5-9568-c1597fdea197",
   "metadata": {},
   "outputs": [],
   "source": [
    "# Combine product name and specs into a text feature\n",
    "df['text_features'] = df['product_name'] + \" \" + df['specifications']"
   ]
  },
  {
   "cell_type": "code",
   "execution_count": null,
   "id": "eacc662b-4d07-4045-9aeb-8828e549ee8b",
   "metadata": {},
   "outputs": [],
   "source": [
    "# Vectorize text\n",
    "tfidf = TfidfVectorizer(stop_words='english')\n",
    "tfidf_matrix = tfidf.fit_transform(df['text_features'])"
   ]
  },
  {
   "cell_type": "code",
   "execution_count": null,
   "id": "5f778f94-ca07-489c-ac60-df6fc7bc026d",
   "metadata": {},
   "outputs": [],
   "source": [
    "# Compute similarity\n",
    "text_similarity = cosine_similarity(tfidf_matrix)\n",
    "\n",
    "def recommend_alternatives(product_id, n=3):\n",
    "    \"\"\"Recommends alternatives using product descriptions.\"\"\"\n",
    "    idx = df.index[df['product_id'] == product_id].tolist()[0]\n",
    "    sim_scores = list(enumerate(text_similarity[idx]))\n",
    "    sim_scores = sorted(sim_scores, key=lambda x: x[1], reverse=True)\n",
    "    sim_scores = sim_scores[1:n+1]  # Skip self-match\n",
    "    similar_products = [df.iloc[i[0]]['product_id'] for i in sim_scores]\n",
    "    return similar_products"
   ]
  },
  {
   "cell_type": "markdown",
   "id": "ed199eae-df6f-41a8-ad70-30501712de2e",
   "metadata": {},
   "source": [
    "## Hybrid Approaches (Specks + Categories)"
   ]
  },
  {
   "cell_type": "code",
   "execution_count": null,
   "id": "91f00ea8-6028-4393-be87-1035fba0c26c",
   "metadata": {},
   "outputs": [],
   "source": [
    "from sklearn.neighbors import NearestNeighbors"
   ]
  },
  {
   "cell_type": "code",
   "execution_count": null,
   "id": "77666657-3f84-4921-bec0-40704d2dc0cf",
   "metadata": {},
   "outputs": [],
   "source": [
    "# Combine numerical specs and encoded categories\n",
    "X = final_features.values"
   ]
  },
  {
   "cell_type": "code",
   "execution_count": null,
   "id": "129091c5-c797-48c6-b5dc-ce8f10ac85e3",
   "metadata": {},
   "outputs": [],
   "source": [
    "# Fit KNN model\n",
    "knn = NearestNeighbors(n_neighbors=4, metric='cosine')\n",
    "knn.fit(X)"
   ]
  },
  {
   "cell_type": "code",
   "execution_count": null,
   "id": "b324bd18-1437-4ffa-a14a-514156834a0e",
   "metadata": {},
   "outputs": [],
   "source": [
    "def recommend_alternatives(product_id, n=3):\n",
    "    \"\"\"Recommends alternatives using KNN on feature space.\"\"\"\n",
    "    idx = df.index[df['product_id'] == product_id].tolist()[0]\n",
    "    distances, indices = knn.kneighbors([X[idx]])\n",
    "    similar_products = df.iloc[indices[0][1:n+1]]['product_id'].tolist()\n",
    "    return similar_products"
   ]
  },
  {
   "cell_type": "code",
   "execution_count": null,
   "id": "b5d24b3c-0c74-412e-b2af-119ec5e1db46",
   "metadata": {},
   "outputs": [],
   "source": []
  },
  {
   "cell_type": "code",
   "execution_count": null,
   "id": "50a7ead8-2551-4a6e-87db-ad01f326654d",
   "metadata": {},
   "outputs": [],
   "source": []
  }
 ],
 "metadata": {
  "kernelspec": {
   "display_name": "Python 3 (ipykernel)",
   "language": "python",
   "name": "python3"
  },
  "language_info": {
   "codemirror_mode": {
    "name": "ipython",
    "version": 3
   },
   "file_extension": ".py",
   "mimetype": "text/x-python",
   "name": "python",
   "nbconvert_exporter": "python",
   "pygments_lexer": "ipython3",
   "version": "3.12.3"
  }
 },
 "nbformat": 4,
 "nbformat_minor": 5
}
