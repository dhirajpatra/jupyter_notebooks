{
 "cells": [
  {
   "cell_type": "code",
   "execution_count": 1,
   "metadata": {},
   "outputs": [],
   "source": [
    "# !pip install catboost\n",
    "# !pip install xgboost"
   ]
  },
  {
   "cell_type": "code",
   "execution_count": 2,
   "metadata": {},
   "outputs": [],
   "source": [
    "import numpy as np\n",
    "import pandas as pd\n",
    "import lightgbm\n",
    "\n",
    "df = pd.read_csv('LifeExpectancyData.csv')\n",
    "df = df [['Country','Year','Status','Life expectancy']]"
   ]
  },
  {
   "cell_type": "code",
   "execution_count": 3,
   "metadata": {},
   "outputs": [
    {
     "data": {
      "text/plain": [
       "(2938, 4)"
      ]
     },
     "execution_count": 3,
     "metadata": {},
     "output_type": "execute_result"
    }
   ],
   "source": [
    "df.shape"
   ]
  },
  {
   "cell_type": "code",
   "execution_count": 4,
   "metadata": {},
   "outputs": [
    {
     "data": {
      "text/html": [
       "<div>\n",
       "<style scoped>\n",
       "    .dataframe tbody tr th:only-of-type {\n",
       "        vertical-align: middle;\n",
       "    }\n",
       "\n",
       "    .dataframe tbody tr th {\n",
       "        vertical-align: top;\n",
       "    }\n",
       "\n",
       "    .dataframe thead th {\n",
       "        text-align: right;\n",
       "    }\n",
       "</style>\n",
       "<table border=\"1\" class=\"dataframe\">\n",
       "  <thead>\n",
       "    <tr style=\"text-align: right;\">\n",
       "      <th></th>\n",
       "      <th>Year</th>\n",
       "      <th>Life expectancy</th>\n",
       "    </tr>\n",
       "  </thead>\n",
       "  <tbody>\n",
       "    <tr>\n",
       "      <th>count</th>\n",
       "      <td>2938.000000</td>\n",
       "      <td>2928.000000</td>\n",
       "    </tr>\n",
       "    <tr>\n",
       "      <th>mean</th>\n",
       "      <td>2007.518720</td>\n",
       "      <td>69.224932</td>\n",
       "    </tr>\n",
       "    <tr>\n",
       "      <th>std</th>\n",
       "      <td>4.613841</td>\n",
       "      <td>9.523867</td>\n",
       "    </tr>\n",
       "    <tr>\n",
       "      <th>min</th>\n",
       "      <td>2000.000000</td>\n",
       "      <td>36.300000</td>\n",
       "    </tr>\n",
       "    <tr>\n",
       "      <th>25%</th>\n",
       "      <td>2004.000000</td>\n",
       "      <td>63.100000</td>\n",
       "    </tr>\n",
       "    <tr>\n",
       "      <th>50%</th>\n",
       "      <td>2008.000000</td>\n",
       "      <td>72.100000</td>\n",
       "    </tr>\n",
       "    <tr>\n",
       "      <th>75%</th>\n",
       "      <td>2012.000000</td>\n",
       "      <td>75.700000</td>\n",
       "    </tr>\n",
       "    <tr>\n",
       "      <th>max</th>\n",
       "      <td>2015.000000</td>\n",
       "      <td>89.000000</td>\n",
       "    </tr>\n",
       "  </tbody>\n",
       "</table>\n",
       "</div>"
      ],
      "text/plain": [
       "              Year  Life expectancy\n",
       "count  2938.000000      2928.000000\n",
       "mean   2007.518720        69.224932\n",
       "std       4.613841         9.523867\n",
       "min    2000.000000        36.300000\n",
       "25%    2004.000000        63.100000\n",
       "50%    2008.000000        72.100000\n",
       "75%    2012.000000        75.700000\n",
       "max    2015.000000        89.000000"
      ]
     },
     "execution_count": 4,
     "metadata": {},
     "output_type": "execute_result"
    }
   ],
   "source": [
    "df.describe()"
   ]
  },
  {
   "cell_type": "code",
   "execution_count": 5,
   "metadata": {},
   "outputs": [
    {
     "data": {
      "text/html": [
       "<div>\n",
       "<style scoped>\n",
       "    .dataframe tbody tr th:only-of-type {\n",
       "        vertical-align: middle;\n",
       "    }\n",
       "\n",
       "    .dataframe tbody tr th {\n",
       "        vertical-align: top;\n",
       "    }\n",
       "\n",
       "    .dataframe thead th {\n",
       "        text-align: right;\n",
       "    }\n",
       "</style>\n",
       "<table border=\"1\" class=\"dataframe\">\n",
       "  <thead>\n",
       "    <tr style=\"text-align: right;\">\n",
       "      <th></th>\n",
       "      <th>Country</th>\n",
       "      <th>Year</th>\n",
       "      <th>Status</th>\n",
       "      <th>Life expectancy</th>\n",
       "    </tr>\n",
       "  </thead>\n",
       "  <tbody>\n",
       "    <tr>\n",
       "      <th>0</th>\n",
       "      <td>Afghanistan</td>\n",
       "      <td>2015</td>\n",
       "      <td>Developing</td>\n",
       "      <td>65.0</td>\n",
       "    </tr>\n",
       "    <tr>\n",
       "      <th>1</th>\n",
       "      <td>Afghanistan</td>\n",
       "      <td>2014</td>\n",
       "      <td>Developing</td>\n",
       "      <td>59.9</td>\n",
       "    </tr>\n",
       "    <tr>\n",
       "      <th>2</th>\n",
       "      <td>Afghanistan</td>\n",
       "      <td>2013</td>\n",
       "      <td>Developing</td>\n",
       "      <td>59.9</td>\n",
       "    </tr>\n",
       "    <tr>\n",
       "      <th>3</th>\n",
       "      <td>Afghanistan</td>\n",
       "      <td>2012</td>\n",
       "      <td>Developing</td>\n",
       "      <td>59.5</td>\n",
       "    </tr>\n",
       "    <tr>\n",
       "      <th>4</th>\n",
       "      <td>Afghanistan</td>\n",
       "      <td>2011</td>\n",
       "      <td>Developing</td>\n",
       "      <td>59.2</td>\n",
       "    </tr>\n",
       "  </tbody>\n",
       "</table>\n",
       "</div>"
      ],
      "text/plain": [
       "       Country  Year      Status  Life expectancy\n",
       "0  Afghanistan  2015  Developing             65.0\n",
       "1  Afghanistan  2014  Developing             59.9\n",
       "2  Afghanistan  2013  Developing             59.9\n",
       "3  Afghanistan  2012  Developing             59.5\n",
       "4  Afghanistan  2011  Developing             59.2"
      ]
     },
     "execution_count": 5,
     "metadata": {},
     "output_type": "execute_result"
    }
   ],
   "source": [
    "df.head()"
   ]
  },
  {
   "cell_type": "code",
   "execution_count": 6,
   "metadata": {},
   "outputs": [
    {
     "data": {
      "text/html": [
       "<div>\n",
       "<style scoped>\n",
       "    .dataframe tbody tr th:only-of-type {\n",
       "        vertical-align: middle;\n",
       "    }\n",
       "\n",
       "    .dataframe tbody tr th {\n",
       "        vertical-align: top;\n",
       "    }\n",
       "\n",
       "    .dataframe thead th {\n",
       "        text-align: right;\n",
       "    }\n",
       "</style>\n",
       "<table border=\"1\" class=\"dataframe\">\n",
       "  <thead>\n",
       "    <tr style=\"text-align: right;\">\n",
       "      <th></th>\n",
       "      <th>Country</th>\n",
       "      <th>Year</th>\n",
       "      <th>Status</th>\n",
       "      <th>Life expectancy</th>\n",
       "    </tr>\n",
       "  </thead>\n",
       "  <tbody>\n",
       "    <tr>\n",
       "      <th>0</th>\n",
       "      <td>Afghanistan</td>\n",
       "      <td>2015</td>\n",
       "      <td>Developing</td>\n",
       "      <td>65.0</td>\n",
       "    </tr>\n",
       "    <tr>\n",
       "      <th>1</th>\n",
       "      <td>Afghanistan</td>\n",
       "      <td>2014</td>\n",
       "      <td>Developing</td>\n",
       "      <td>59.9</td>\n",
       "    </tr>\n",
       "    <tr>\n",
       "      <th>2</th>\n",
       "      <td>Afghanistan</td>\n",
       "      <td>2013</td>\n",
       "      <td>Developing</td>\n",
       "      <td>59.9</td>\n",
       "    </tr>\n",
       "    <tr>\n",
       "      <th>3</th>\n",
       "      <td>Afghanistan</td>\n",
       "      <td>2012</td>\n",
       "      <td>Developing</td>\n",
       "      <td>59.5</td>\n",
       "    </tr>\n",
       "    <tr>\n",
       "      <th>4</th>\n",
       "      <td>Afghanistan</td>\n",
       "      <td>2011</td>\n",
       "      <td>Developing</td>\n",
       "      <td>59.2</td>\n",
       "    </tr>\n",
       "  </tbody>\n",
       "</table>\n",
       "</div>"
      ],
      "text/plain": [
       "       Country  Year      Status  Life expectancy\n",
       "0  Afghanistan  2015  Developing             65.0\n",
       "1  Afghanistan  2014  Developing             59.9\n",
       "2  Afghanistan  2013  Developing             59.9\n",
       "3  Afghanistan  2012  Developing             59.5\n",
       "4  Afghanistan  2011  Developing             59.2"
      ]
     },
     "execution_count": 6,
     "metadata": {},
     "output_type": "execute_result"
    }
   ],
   "source": [
    "# check the status of the first 5 rows for developing countries life expectancy\n",
    "df[df[\"Status\"] == \"Developing\"].head().sort_index()"
   ]
  },
  {
   "cell_type": "code",
   "execution_count": 7,
   "metadata": {},
   "outputs": [
    {
     "name": "stdout",
     "output_type": "stream",
     "text": [
      "      Country   Year  Status  Life expectancy\n",
      "0       False  False   False            False\n",
      "1       False  False   False            False\n",
      "2       False  False   False            False\n",
      "3       False  False   False            False\n",
      "4       False  False   False            False\n",
      "...       ...    ...     ...              ...\n",
      "2933    False  False   False            False\n",
      "2934    False  False   False            False\n",
      "2935    False  False   False            False\n",
      "2936    False  False   False            False\n",
      "2937    False  False   False            False\n",
      "\n",
      "[2938 rows x 4 columns]\n",
      "Country             0\n",
      "Year                0\n",
      "Status              0\n",
      "Life expectancy    10\n",
      "dtype: int64\n",
      "True\n"
     ]
    }
   ],
   "source": [
    "# Check for NaN values using isnull()\n",
    "nan_df = df.isnull()\n",
    "\n",
    "# Check for NaN values using isna() (alternative to isnull())\n",
    "nan_df = df.isna()\n",
    "\n",
    "# Count the number of NaN values in each column\n",
    "nan_counts = nan_df.sum()\n",
    "\n",
    "# Check if any NaN values exist in the DataFrame\n",
    "any_nan = nan_df.any().any()\n",
    "\n",
    "# Display the DataFrame of NaN values\n",
    "print(nan_df)\n",
    "\n",
    "# Display the count of NaN values in each column\n",
    "print(nan_counts)\n",
    "\n",
    "# Display if any NaN values exist in the DataFrame\n",
    "print(any_nan)"
   ]
  },
  {
   "cell_type": "code",
   "execution_count": 8,
   "metadata": {},
   "outputs": [
    {
     "name": "stdout",
     "output_type": "stream",
     "text": [
      "69.22493169398908\n"
     ]
    }
   ],
   "source": [
    "# Calculate the mean value of the 'Life expectancy' column\n",
    "mean_value = df['Life expectancy'].mean()\n",
    "print(mean_value)\n",
    "# Replace NaN values in the 'Life expectancy' column with the mean value\n",
    "df['Life expectancy'].fillna(mean_value, inplace=True)"
   ]
  },
  {
   "cell_type": "code",
   "execution_count": 9,
   "metadata": {},
   "outputs": [],
   "source": [
    "from catboost import CatBoostRegressor, Pool\n",
    "\n",
    "# separating dependent and independent variables\n",
    "X = df.drop(columns='Life expectancy')\n",
    "y = df['Life expectancy']\n"
   ]
  },
  {
   "cell_type": "code",
   "execution_count": 10,
   "metadata": {},
   "outputs": [],
   "source": [
    "from sklearn.model_selection import train_test_split\n",
    "\n",
    "X_train, X_test, y_train, y_test = train_test_split(X, y, test_size=0.20, random_state=1)\n",
    "\n",
    "pool_train = Pool(X_train, y_train,\n",
    "                  cat_features = ['Country','Year','Status'])\n",
    "\n",
    "pool_test = Pool(X_test, cat_features = ['Country','Year','Status'])"
   ]
  },
  {
   "cell_type": "code",
   "execution_count": 11,
   "metadata": {},
   "outputs": [
    {
     "name": "stdout",
     "output_type": "stream",
     "text": [
      "[76.31329318 61.72198341 58.03753831 61.72198341 56.80452727 81.00392941\n",
      " 59.94671888 74.90687338 73.52453245 74.90687338 73.97812167 81.19683979\n",
      " 56.80452727 60.96839823 72.76448243 61.56149929 75.26188762 71.02266052\n",
      " 59.35361782 57.24737427 71.75527062 69.7160478  69.50757391 61.62764802\n",
      " 77.54863237 79.07819412 73.39014376 69.50966429 61.56149929 58.83105371\n",
      " 72.02477594 61.56149929 74.90687338 72.2252273  81.0982648  75.25727743\n",
      " 61.45015369 81.1025044  75.56745625 72.0496069  77.19228614 81.19683979\n",
      " 73.27134192 57.28395313 69.50966429 74.33022831 60.96839823 71.28770959\n",
      " 77.11898904 56.28196316 57.33704643 74.33022831 74.21145996 60.87406285\n",
      " 69.41323852 61.62764802 60.87406285 73.41501482 60.96839823 70.53099407\n",
      " 56.71485511 57.24737427 61.56149929 67.3066744  75.67366079 77.64296776\n",
      " 74.1176862  58.83105371 77.11898904 59.94671888 81.00392941 81.19683979\n",
      " 66.50326688 79.99741363 71.90802286 76.74293651 69.24667499 76.74293651\n",
      " 77.11898904 80.64891518 57.24737427 75.17221546 68.91632851 81.45461103\n",
      " 61.50042064 57.76570858 57.60853596 79.99741363 75.16294204 72.85415459\n",
      " 58.83105371 72.02477594 57.35871988 81.0249677  77.19228614 60.44583412\n",
      " 60.35149873 74.81720122 57.76570858 72.46679423 57.33704643 69.7160478\n",
      " 61.45015369 57.76570858 57.24737427 59.83537327 75.41122631 60.96839823\n",
      " 60.44583412 73.97812167 75.28491532 65.42986054 75.76333294 81.19683979\n",
      " 60.44583412 60.87406285 74.33022831 61.45015369 79.16786628 70.62532946\n",
      " 61.3558183  77.19228614 61.45015369 70.51398385 59.35361782 60.44583412\n",
      " 75.17221546 75.17221546 73.77668775 61.3558183  81.00392941 79.07819412\n",
      " 61.45015369 70.53099407 71.13039124 74.30113212 65.64897321 77.09795075\n",
      " 57.44839204 60.96839823 72.02477594 61.83975083 56.192291   57.24737427\n",
      " 69.4153289  57.33704643 73.86635991 60.107203   57.44839204 74.4245637\n",
      " 77.11898904 79.31720497 79.90307824 57.60853596 61.45015369 74.33178396\n",
      " 69.00600066 79.99741363 60.96839823 77.64296776 74.79656357 56.71485511\n",
      " 78.72317988 61.3558183  60.44583412 76.74293651 77.11898904 60.75834503\n",
      " 61.46716391 69.50966429 74.90687338 63.90941552 72.46679423 56.80452727\n",
      " 73.32067943 61.46716391 72.92789868 81.19683979 65.55930105 61.45015369\n",
      " 80.21927185 73.97812167 61.45015369 59.83537327 75.25727743 57.35871988\n",
      " 74.37304149 56.28196316 57.87705419 57.44839204 79.66931161 78.72317988\n",
      " 70.51398385 56.28196316 56.192291   74.07245706 56.192291   75.94112195\n",
      " 79.07819412 66.25159113 73.61697045 69.33179135 81.00392941 69.4153289\n",
      " 59.35361782 71.43734129 79.57963945 81.45461103 57.24737427 57.69820812\n",
      " 74.52113379 79.47343491 79.90307824 76.8372719  73.52453245 74.81720122\n",
      " 57.35871988 79.63581731 60.96839823 74.45158157 74.50071513 76.7668824\n",
      " 73.52453245 75.17221546 61.3558183  61.62764802 61.72198341 69.3962283\n",
      " 77.09795075 57.24737427 60.87406285 75.16294204 78.11743862 81.19683979\n",
      " 61.46716391 74.33022831 79.31720497 74.21145996 60.44583412 61.56149929\n",
      " 75.37925071 56.5991373  69.50757391 77.09795075 74.01131089 81.54894642\n",
      " 74.1176862  57.33704643 78.72317988 70.53099407 79.31720497 70.6215964\n",
      " 77.64296776 72.76448243 60.96839823 77.64296776 79.07819412 60.35149873\n",
      " 71.78944793 67.50769217 74.90687338 75.67366079 69.74931887 61.56149929\n",
      " 79.66931161 78.11743862 72.85415459 69.00600066 79.99741363 75.17221546\n",
      " 77.19652573 69.7160478  77.54863237 61.62764802 61.3558183  60.96839823\n",
      " 71.98942991 60.96839823 73.85044803 77.19228614 61.46716391 78.11743862\n",
      " 80.64891518 79.16786628 69.7160478  57.28395313 74.50071513 61.45015369\n",
      " 61.41074848 79.99741363 57.44839204 65.52419593 76.74293651 73.41596588\n",
      " 56.192291   73.3004716  69.64690909 60.87406285 57.60853596 79.66931161\n",
      " 73.07770805 60.44583412 73.81627072 71.46586727 81.0249677  61.56149929\n",
      " 60.87406285 76.8372719  60.96839823 73.30600618 75.26188762 61.3558183\n",
      " 77.54863237 61.56149929 57.69820812 77.19228614 61.62764802 73.27134192\n",
      " 61.62764802 77.19228614 76.74293651 67.41802001 61.3558183  57.76570858\n",
      " 69.33179135 74.11345009 74.81720122 76.8372719  75.76333294 57.24737427\n",
      " 78.81285204 57.69820812 73.86635991 57.76570858 57.87705419 61.72198341\n",
      " 60.35149873 75.94112195 73.85044803 69.50757391 61.62764802 71.8830546\n",
      " 61.3558183  60.85268042 57.33704643 72.2621301  75.25727743 61.3558183\n",
      " 72.98337266 61.45015369 79.22753281 65.67064666 57.44839204 58.83105371\n",
      " 57.87705419 59.94671888 61.45015369 80.21927185 76.18052027 71.99769502\n",
      " 75.16294204 58.03753831 81.0982648  70.62532946 69.01054905 73.20059887\n",
      " 57.35871988 74.35724618 77.64296776 61.62764802 59.83537327 61.46716391\n",
      " 79.66931161 69.41323852 61.45015369 57.44839204 61.45015369 60.87406285\n",
      " 57.60853596 57.33704643 79.90307824 76.8372719  67.50769217 72.0496069\n",
      " 77.11898904 75.17221546 72.85415459 74.45158157 60.87406285 56.28196316\n",
      " 80.21927185 70.62532946 76.74293651 72.42908032 70.62532946 71.95993475\n",
      " 61.62764802 61.72198341 81.00392941 60.107203   74.90687338 61.45015369\n",
      " 60.96839823 76.74293651 81.54894642 77.64296776 74.4245637  61.3558183\n",
      " 75.32155415 80.64891518 61.72198341 79.47343491 72.42908032 72.88645571\n",
      " 73.20059887 74.01131089 77.09795075 74.81720122 59.35361782 56.76138902\n",
      " 61.45015369 74.59505052 56.80452727 78.11743862 56.76138902 76.18052027\n",
      " 70.95890317 56.5991373  67.78144788 70.83498842 79.90307824 74.90687338\n",
      " 73.30600618 77.64296776 79.47343491 67.41802001 78.11743862 71.88792053\n",
      " 74.20981069 61.46716391 79.47343491 61.72198341 57.16823532 68.12646406\n",
      " 72.98337266 56.28196316 70.53192424 59.83537327 57.33704643 61.3558183\n",
      " 61.45015369 70.51398385 72.65246891 77.54863237 66.34126329 76.74293651\n",
      " 74.02335081 61.72198341 57.69820812 76.74293651 56.192291   57.87705419\n",
      " 76.8372719  76.09143496 69.50757391 59.83537327 74.21145996 74.1176862\n",
      " 81.19683979 57.44839204 61.46716391 61.72198341 56.5991373  69.50966429\n",
      " 57.44839204 67.41802001 57.24737427 66.25159113 81.1025044  61.56149929\n",
      " 61.45015369 60.96839823 80.74325056 57.33704643 79.63581731 76.31329318\n",
      " 81.19683979 74.75133443 75.25727743 57.44839204 61.3558183  61.62764802\n",
      " 77.09795075 77.64296776 60.87406285 73.07770805 73.61697045 61.46716391\n",
      " 80.67286107 58.03753831 76.74293651 75.67366079 56.76138902 56.28196316\n",
      " 58.83105371 66.17750615 73.07770805 79.31720497 72.0496069  71.77683416\n",
      " 61.62764802 60.75834503 61.56149929 74.57355485 77.11898904 77.19228614\n",
      " 60.87406285 79.63581731 71.68716201 68.05688747 79.16786628 75.37482441\n",
      " 81.1025044  78.81285204 75.76333294 69.01054905 60.107203   74.47921946\n",
      " 80.57428609 61.45015369 76.66830742 76.8372719  80.67286107 71.78944793\n",
      " 57.35871988 57.87705419 61.56149929 61.72198341 76.8372719  69.42146351\n",
      " 71.28675853 58.83105371 81.0982648  61.45015369 73.41501482 74.81720122\n",
      " 59.83537327 60.44583412 56.71485511 75.25727743 69.50757391 71.95993475\n",
      " 69.50757391 81.1025044  61.3558183  61.41074848 59.83537327 78.81285204\n",
      " 61.46716391 60.96839823 57.33704643 61.3558183  77.09795075 60.85268042\n",
      " 58.83105371 61.56149929 81.54894642 73.61697045 59.83537327 77.19228614\n",
      " 70.53099407 57.28395313 57.44839204 79.28080308 77.19228614 80.74325056\n",
      " 71.90802286 60.44583412 76.18052027 75.26188762 74.47921946 81.1025044\n",
      " 80.57428609 76.24170638 76.31329318 75.32155415 57.60853596 61.56149929]\n",
      "0.12682008743286133\n"
     ]
    }
   ],
   "source": [
    "#CatBoost\n",
    "\n",
    "import time\n",
    "\n",
    "start = time.time()\n",
    "\n",
    "cbr = CatBoostRegressor(iterations=100,max_depth=2)\n",
    "\n",
    "cbr.fit(pool_train, verbose=0)\n",
    "y_pred = cbr.predict(X_test)\n",
    "print(y_pred)\n",
    "\n",
    "end = time.time()\n",
    "\n",
    "print(end - start)\n"
   ]
  },
  {
   "cell_type": "code",
   "execution_count": 12,
   "metadata": {},
   "outputs": [
    {
     "name": "stdout",
     "output_type": "stream",
     "text": [
      "R Squared for CatBoost:  0.8804602153710083\n",
      "Execution time: 0.13175725936889648\n"
     ]
    }
   ],
   "source": [
    "from sklearn.metrics import r2_score as RSquared\n",
    "\n",
    "cb_rsquared = np.sqrt(RSquared(y_test, y_pred))\n",
    "print(\"R Squared for CatBoost: \", np.mean(cb_rsquared))\n",
    "\n",
    "end = time.time()\n",
    "diff = end - start\n",
    "print('Execution time:', diff)"
   ]
  },
  {
   "cell_type": "code",
   "execution_count": 13,
   "metadata": {},
   "outputs": [],
   "source": [
    "#XGBoost\n",
    "import xgboost as xgb\n",
    "from sklearn import preprocessing\n",
    "\n",
    "X = df.drop(columns='Life expectancy')\n",
    "y = df['Life expectancy']\n",
    "\n",
    "lbl = preprocessing.LabelEncoder()\n",
    "#Country','Year','Status\n",
    "X['Country'] = lbl.fit_transform(X['Country'].astype(str))\n",
    "X['Year'] = lbl.fit_transform(X['Year'].astype(str))\n",
    "X['Status'] = lbl.fit_transform(X['Status'].astype(str))"
   ]
  },
  {
   "cell_type": "code",
   "execution_count": 14,
   "metadata": {},
   "outputs": [
    {
     "name": "stdout",
     "output_type": "stream",
     "text": [
      "R Squared for XGBoost:  0.9749184122015732\n",
      "Execution time: 0.10914993286132812\n"
     ]
    }
   ],
   "source": [
    "from sklearn.model_selection import train_test_split\n",
    "X_train, X_test, y_train, y_test = train_test_split(X, y, test_size=0.20, \n",
    "                                                    random_state=1)\n",
    "\n",
    "start = time.time()\n",
    "#X_train[\"Species\"].astype(\"category\")\n",
    "xgbr = xgb.XGBRegressor()\n",
    "\n",
    "xgbr.fit(X_train, y_train)\n",
    "y_pred = xgbr.predict(X_test)\n",
    "\n",
    "xgb_rmse = np.sqrt(RSquared(y_test, y_pred))\n",
    "print(\"R Squared for XGBoost: \", np.mean(xgb_rmse))\n",
    "\n",
    "end = time.time()\n",
    "diff = end - start\n",
    "print('Execution time:', diff)"
   ]
  },
  {
   "cell_type": "code",
   "execution_count": 15,
   "metadata": {},
   "outputs": [
    {
     "name": "stdout",
     "output_type": "stream",
     "text": [
      "<module 'lightgbm' from '/opt/homebrew/Caskroom/miniconda/base/envs/py38/lib/python3.8/site-packages/lightgbm/__init__.py'>\n"
     ]
    }
   ],
   "source": [
    "# import lightgbm\n",
    "\n",
    "X = df.drop(columns='Life expectancy')\n",
    "y = df['Life expectancy']\n",
    "obj_feat = list(X.loc[:, X.dtypes == 'object'].columns.values)\n",
    "\n",
    "for feature in obj_feat:\n",
    "    X[feature] = pd.Series(X[feature], dtype=\"category\")\n",
    "\n",
    "start = time.time()\n",
    "\n",
    "lgbmr = lightgbm.LGBMRegressor()\n",
    "X_train, X_test, y_train, y_test = train_test_split(X, y, test_size=0.20, \n",
    "                                                    random_state=1)\n",
    "print(lightgbm)\n",
    "# below code crashes jupyter kernel\n",
    "# lightgbm.LGBMRegressor(verbose=1).fit(X_train, y_train)\n",
    "# y_pred = lgbmr.predict(X_test)\n",
    "\n",
    "# lgbm_rsquared = np.sqrt(RSquared(y_test, y_pred))\n",
    "# print()\n",
    "# print(\"R squared for LightGBM: \", np.mean(lgbm_rsquared))\n",
    "\n",
    "# end = time.time()\n",
    "# diff = end - start\n",
    "# print('Execution time:', diff)"
   ]
  },
  {
   "attachments": {},
   "cell_type": "markdown",
   "metadata": {},
   "source": [
    "### 1. Community support/Performance/Want to tune - XGBOOST\n",
    "### 2. Hurry to train/Performance/Dont want to tune - LightGBM\n",
    "### 3. More categorical, GPU, Large data - CatBoost"
   ]
  },
  {
   "cell_type": "code",
   "execution_count": null,
   "metadata": {},
   "outputs": [],
   "source": []
  }
 ],
 "metadata": {
  "kernelspec": {
   "display_name": "Python 3",
   "language": "python",
   "name": "python3"
  },
  "language_info": {
   "codemirror_mode": {
    "name": "ipython",
    "version": 3
   },
   "file_extension": ".py",
   "mimetype": "text/x-python",
   "name": "python",
   "nbconvert_exporter": "python",
   "pygments_lexer": "ipython3",
   "version": "3.8.16"
  }
 },
 "nbformat": 4,
 "nbformat_minor": 4
}
