{
 "cells": [
  {
   "cell_type": "markdown",
   "metadata": {},
   "source": [
    "# Frequency and Distribution"
   ]
  },
  {
   "cell_type": "code",
   "execution_count": 1,
   "metadata": {
    "collapsed": true
   },
   "outputs": [],
   "source": [
    "import pandas as pd\n",
    "import matplotlib.pyplot as plt\n",
    "%matplotlib inline"
   ]
  },
  {
   "cell_type": "code",
   "execution_count": 2,
   "metadata": {
    "collapsed": true
   },
   "outputs": [],
   "source": [
    "# To recall, this is the code to mimic the roll dice game for 50 times\n",
    "\n",
    "die = pd.DataFrame([1, 2, 3, 4, 5, 6])\n",
    "trial = 50\n",
    "results = [die.sample(2, replace=True).sum().loc[0] for i in range(trial)]"
   ]
  },
  {
   "cell_type": "code",
   "execution_count": 6,
   "metadata": {
    "scrolled": true
   },
   "outputs": [
    {
     "data": {
      "text/plain": [
       "7     13\n",
       "9      6\n",
       "3      6\n",
       "5      5\n",
       "6      4\n",
       "4      4\n",
       "2      4\n",
       "11     3\n",
       "10     3\n",
       "8      2\n",
       "Name: 0, dtype: int64"
      ]
     },
     "execution_count": 6,
     "metadata": {},
     "output_type": "execute_result"
    }
   ],
   "source": [
    "pd.DataFrame(results)[0].value_counts()"
   ]
  },
  {
   "cell_type": "code",
   "execution_count": 7,
   "metadata": {},
   "outputs": [
    {
     "name": "stdout",
     "output_type": "stream",
     "text": [
      "2      4\n",
      "3      6\n",
      "4      4\n",
      "5      5\n",
      "6      4\n",
      "7     13\n",
      "8      2\n",
      "9      6\n",
      "10     3\n",
      "11     3\n",
      "Name: 0, dtype: int64\n"
     ]
    }
   ],
   "source": [
    "# This is the code for summarizing the results of sum of faces by frequency\n",
    "\n",
    "freq = pd.DataFrame(results)[0].value_counts()\n",
    "sort_freq = freq.sort_index()\n",
    "print(sort_freq)"
   ]
  },
  {
   "cell_type": "code",
   "execution_count": 8,
   "metadata": {},
   "outputs": [
    {
     "data": {
      "text/plain": [
       "<matplotlib.axes._subplots.AxesSubplot at 0x7f5bac6ecb00>"
      ]
     },
     "execution_count": 8,
     "metadata": {},
     "output_type": "execute_result"
    },
    {
     "data": {
      "image/png": "[encoded data removed]",
      "text/plain": [
       "<matplotlib.figure.Figure at 0x7f5bac6ec5c0>"
      ]
     },
     "metadata": {},
     "output_type": "display_data"
    }
   ],
   "source": [
    "#plot the bar chart base on the result\n",
    "\n",
    "sort_freq.plot(kind='bar', color='blue', figsize=(15, 8))"
   ]
  },
  {
   "cell_type": "markdown",
   "metadata": {},
   "source": [
    "## Relative Frequency"
   ]
  },
  {
   "cell_type": "code",
   "execution_count": 5,
   "metadata": {},
   "outputs": [
    {
     "data": {
      "text/plain": [
       "<matplotlib.axes._subplots.AxesSubplot at 0x7efd2dbdabe0>"
      ]
     },
     "execution_count": 5,
     "metadata": {},
     "output_type": "execute_result"
    },
    {
     "data": {
      "image/png": "[encoded data removed]",
      "text/plain": [
       "<matplotlib.figure.Figure at 0x7efd2dc3f550>"
      ]
     },
     "metadata": {},
     "output_type": "display_data"
    }
   ],
   "source": [
    "# Using relative frequency, we can rescale the frequency so that we can compare results from different number of trials\n",
    "relative_freq = sort_freq/trial\n",
    "relative_freq.plot(kind='bar', color='blue', figsize=(15, 8))"
   ]
  },
  {
   "cell_type": "code",
   "execution_count": 6,
   "metadata": {},
   "outputs": [
    {
     "data": {
      "text/plain": [
       "<matplotlib.axes._subplots.AxesSubplot at 0x7efd2dc84828>"
      ]
     },
     "execution_count": 6,
     "metadata": {},
     "output_type": "execute_result"
    },
    {
     "data": {
      "image/png": "[encoded data removed]",
      "text/plain": [
       "<matplotlib.figure.Figure at 0x7efd2db71080>"
      ]
     },
     "metadata": {},
     "output_type": "display_data"
    }
   ],
   "source": [
    "# Let us try to increase the number of trials to 10000, and see what will happen...\n",
    "trial = 10000\n",
    "results = [die.sample(2, replace=True).sum().loc[0] for i in range(trial)]\n",
    "freq = pd.DataFrame(results)[0].value_counts()\n",
    "sort_freq = freq.sort_index()\n",
    "relative_freq = sort_freq/trial\n",
    "relative_freq.plot(kind='bar', color='blue', figsize=(15, 8))"
   ]
  },
  {
   "cell_type": "markdown",
   "metadata": {},
   "source": [
    "### We can see that with more trials, the result looks more and more stable, and this is very close to a probability distribution. Try increasing the number of \"trial\" further (but it may take some time for Jupyter Notebook to output the result)"
   ]
  },
  {
   "cell_type": "markdown",
   "metadata": {},
   "source": [
    "## Expectation and Variance of a distribution"
   ]
  },
  {
   "cell_type": "code",
   "execution_count": 15,
   "metadata": {},
   "outputs": [
    {
     "data": {
      "text/html": [
       "<div>\n",
       "<table border=\"1\" class=\"dataframe\">\n",
       "  <thead>\n",
       "    <tr style=\"text-align: right;\">\n",
       "      <th></th>\n",
       "      <th>Prob</th>\n",
       "    </tr>\n",
       "  </thead>\n",
       "  <tbody>\n",
       "    <tr>\n",
       "      <th>2</th>\n",
       "      <td>0.027778</td>\n",
       "    </tr>\n",
       "    <tr>\n",
       "      <th>3</th>\n",
       "      <td>0.055556</td>\n",
       "    </tr>\n",
       "    <tr>\n",
       "      <th>4</th>\n",
       "      <td>0.083333</td>\n",
       "    </tr>\n",
       "    <tr>\n",
       "      <th>5</th>\n",
       "      <td>0.111111</td>\n",
       "    </tr>\n",
       "    <tr>\n",
       "      <th>6</th>\n",
       "      <td>0.138889</td>\n",
       "    </tr>\n",
       "    <tr>\n",
       "      <th>7</th>\n",
       "      <td>0.166667</td>\n",
       "    </tr>\n",
       "    <tr>\n",
       "      <th>8</th>\n",
       "      <td>0.138889</td>\n",
       "    </tr>\n",
       "    <tr>\n",
       "      <th>9</th>\n",
       "      <td>0.111111</td>\n",
       "    </tr>\n",
       "    <tr>\n",
       "      <th>10</th>\n",
       "      <td>0.083333</td>\n",
       "    </tr>\n",
       "    <tr>\n",
       "      <th>11</th>\n",
       "      <td>0.055556</td>\n",
       "    </tr>\n",
       "    <tr>\n",
       "      <th>12</th>\n",
       "      <td>0.027778</td>\n",
       "    </tr>\n",
       "  </tbody>\n",
       "</table>\n",
       "</div>"
      ],
      "text/plain": [
       "        Prob\n",
       "2   0.027778\n",
       "3   0.055556\n",
       "4   0.083333\n",
       "5   0.111111\n",
       "6   0.138889\n",
       "7   0.166667\n",
       "8   0.138889\n",
       "9   0.111111\n",
       "10  0.083333\n",
       "11  0.055556\n",
       "12  0.027778"
      ]
     },
     "execution_count": 15,
     "metadata": {},
     "output_type": "execute_result"
    }
   ],
   "source": [
    "# assume that we have fair dice, which means all faces will be shown with equal probability\n",
    "# then we can say we know the 'Distribtuion' of the random variable - sum_of_dice\n",
    "\n",
    "X_distri = pd.DataFrame(index=[2, 3, 4, 5, 6, 7, 8, 9, 10, 11, 12])\n",
    "X_distri['Prob'] = [1, 2, 3, 4, 5, 6, 5, 4, 3, 2, 1]\n",
    "X_distri['Prob'] = X_distri['Prob']/36\n",
    "X_distri"
   ]
  },
  {
   "cell_type": "code",
   "execution_count": 20,
   "metadata": {
    "collapsed": true
   },
   "outputs": [],
   "source": [
    "mean = pd.Series(X_distri.index * X_distri['Prob']).sum()\n",
    "var = pd.Series(((X_distri.index - mean)**2)*X_distri['Prob']).sum()"
   ]
  },
  {
   "cell_type": "code",
   "execution_count": 21,
   "metadata": {},
   "outputs": [
    {
     "name": "stdout",
     "output_type": "stream",
     "text": [
      "6.999999999999999 5.833333333333334\n"
     ]
    }
   ],
   "source": [
    "#Output the mean and variance of the distribution. Mean and variance can be used to describe a distribution\n",
    "print(mean, var)"
   ]
  },
  {
   "cell_type": "markdown",
   "metadata": {},
   "source": [
    "## Empirical  mean and variance"
   ]
  },
  {
   "cell_type": "code",
   "execution_count": 22,
   "metadata": {
    "collapsed": true
   },
   "outputs": [],
   "source": [
    "# if we calculate mean and variance of outcomes (with high enough number of trials, eg 20000)...\n",
    "trial = 20000\n",
    "results = [die.sample(2, replace=True).sum().loc[0] for i in range(trial)]"
   ]
  },
  {
   "cell_type": "code",
   "execution_count": 23,
   "metadata": {},
   "outputs": [
    {
     "name": "stdout",
     "output_type": "stream",
     "text": [
      "6.99505 5.864618728436524\n"
     ]
    }
   ],
   "source": [
    "#print the mean and variance of the 20000 trials\n",
    "results = pd.Series(results)\n",
    "print(results.mean(), results.var())"
   ]
  }
 ],
 "metadata": {
  "kernelspec": {
   "display_name": "Python 3",
   "language": "python",
   "name": "python3"
  },
  "language_info": {
   "codemirror_mode": {
    "name": "ipython",
    "version": 3
   },
   "file_extension": ".py",
   "mimetype": "text/x-python",
   "name": "python",
   "nbconvert_exporter": "python",
   "pygments_lexer": "ipython3",
   "version": "3.6.2"
  }
 },
 "nbformat": 4,
 "nbformat_minor": 2
}
