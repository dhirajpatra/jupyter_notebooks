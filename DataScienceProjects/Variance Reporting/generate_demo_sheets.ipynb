{
 "cells": [
  {
   "cell_type": "code",
   "execution_count": 2,
   "id": "6fd2d07c-395d-4fe4-89b1-4f34f58589f9",
   "metadata": {},
   "outputs": [],
   "source": [
    "import pandas as pd\n",
    "import numpy as np"
   ]
  },
  {
   "cell_type": "code",
   "execution_count": 3,
   "id": "81de0b6f-7a9e-4831-9feb-da3afb1fd856",
   "metadata": {},
   "outputs": [],
   "source": [
    "# --- Configuration ---\n",
    "NUM_ROWS = 50\n",
    "ITEMS_PREFIX = ['Product', 'Service', 'Client', 'Region']\n",
    "DEPARTMENTS = ['Sales', 'Marketing', 'Operations', 'Finance', 'HR']\n",
    "CATEGORIES = ['Electronics', 'Software', 'Consulting', 'Logistics', 'Supplies', 'Others']"
   ]
  },
  {
   "cell_type": "code",
   "execution_count": 4,
   "id": "9fa41cc0-510f-44a0-896e-7e6577480f8f",
   "metadata": {},
   "outputs": [],
   "source": [
    "# --- Generate Data for Q1 (FY 2025-26) ---\n",
    "np.random.seed(42) # for reproducibility\n",
    "\n",
    "data_q1 = {\n",
    "    'Item': [f'{np.random.choice(ITEMS_PREFIX)} {i:03d}' for i in range(NUM_ROWS)],\n",
    "    'Department': np.random.choice(DEPARTMENTS, NUM_ROWS),\n",
    "    'Category': np.random.choice(CATEGORIES, NUM_ROWS),\n",
    "    'Revenue': np.random.randint(10000, 100000, NUM_ROWS).astype(float),\n",
    "    'Expenses': np.random.randint(3000, 40000, NUM_ROWS).astype(float),\n",
    "    'Units Sold': np.random.randint(50, 1000, NUM_ROWS),\n",
    "    'Customer Count': np.random.randint(10, 500, NUM_ROWS)\n",
    "}\n",
    "df_q1 = pd.DataFrame(data_q1)\n",
    "df_q1['Profit'] = df_q1['Revenue'] - df_q1['Expenses']\n"
   ]
  },
  {
   "cell_type": "code",
   "execution_count": 5,
   "id": "82110e13-c131-46ec-871b-8a2729b5f45f",
   "metadata": {},
   "outputs": [],
   "source": [
    "# Ensure 'Item' is unique, if duplicates happen due to random choice, regenerate or ensure uniqueness later\n",
    "df_q1 = df_q1.drop_duplicates(subset=['Item']).reset_index(drop=True)\n",
    "# If still less than NUM_ROWS, add more items (simple approach, for robustness handle complex item generation)\n",
    "while len(df_q1) < NUM_ROWS:\n",
    "    new_item = f'{np.random.choice(ITEMS_PREFIX)} {len(df_q1):03d}_new'\n",
    "    if new_item not in df_q1['Item'].values:\n",
    "        df_q1 = pd.concat([df_q1, pd.DataFrame([{\n",
    "            'Item': new_item,\n",
    "            'Department': np.random.choice(DEPARTMENTS),\n",
    "            'Category': np.random.choice(CATEGORIES),\n",
    "            'Revenue': np.random.randint(10000, 100000),\n",
    "            'Expenses': np.random.randint(3000, 40000),\n",
    "            'Units Sold': np.random.randint(50, 1000),\n",
    "            'Customer Count': np.random.randint(10, 500),\n",
    "            'Profit': np.random.randint(10000, 100000) - np.random.randint(3000, 40000)\n",
    "        }])], ignore_index=True)\n"
   ]
  },
  {
   "cell_type": "code",
   "execution_count": 6,
   "id": "97116d2e-a00d-4a2c-aa67-6287d36a46ab",
   "metadata": {},
   "outputs": [],
   "source": [
    "# --- Generate Data for Q2 (FY 2025-26) ---\n",
    "# We'll base Q2 data on Q1, introducing some realistic variances (up, down, stable)\n",
    "data_q2 = []\n",
    "for index, row in df_q1.iterrows():\n",
    "    item_name = row['Item']\n",
    "    \n",
    "    # Introduce some new items in Q2 (not in Q1)\n",
    "    if np.random.rand() < 0.1: # 10% chance to skip an old item and introduce a new one later\n",
    "        continue\n",
    "\n",
    "    q2_revenue = row['Revenue'] * (1 + np.random.uniform(-0.15, 0.25)) # -15% to +25% change\n",
    "    q2_expenses = row['Expenses'] * (1 + np.random.uniform(-0.10, 0.20)) # -10% to +20% change\n",
    "    q2_units_sold = int(row['Units Sold'] * (1 + np.random.uniform(-0.15, 0.25)))\n",
    "    q2_customer_count = int(row['Customer Count'] * (1 + np.random.uniform(-0.10, 0.20)))\n",
    "\n",
    "    data_q2.append({\n",
    "        'Item': item_name,\n",
    "        'Department': row['Department'], # Keep department same\n",
    "        'Category': row['Category'], # Keep category same\n",
    "        'Revenue': max(100, q2_revenue), # Ensure no negative values\n",
    "        'Expenses': max(50, q2_expenses),\n",
    "        'Units Sold': max(1, q2_units_sold),\n",
    "        'Customer Count': max(1, q2_customer_count)\n",
    "    })\n",
    "\n",
    "df_q2 = pd.DataFrame(data_q2)\n",
    "df_q2['Profit'] = df_q2['Revenue'] - df_q2['Expenses']"
   ]
  },
  {
   "cell_type": "code",
   "execution_count": 8,
   "id": "bdd54124-d98d-4b98-9b50-9eb0fee48281",
   "metadata": {},
   "outputs": [],
   "source": [
    "# Add some completely new items for Q2 that were not in Q1\n",
    "num_new_items_q2 = int(NUM_ROWS * 0.1) # e.g., 10% new items\n",
    "for i in range(num_new_items_q2):\n",
    "    new_item_name = f'New Item Q2 {i+1}'\n",
    "    df_q2 = pd.concat([df_q2, pd.DataFrame([{\n",
    "        'Item': new_item_name,\n",
    "        'Department': np.random.choice(DEPARTMENTS),\n",
    "        'Category': np.random.choice(CATEGORIES),\n",
    "        'Revenue': np.random.randint(5000, 80000),\n",
    "        'Expenses': np.random.randint(2000, 30000),\n",
    "        'Units Sold': np.random.randint(30, 800),\n",
    "        'Customer Count': np.random.randint(5, 400),\n",
    "        'Profit': np.random.randint(5000, 80000) - np.random.randint(2000, 30000)\n",
    "    }])], ignore_index=True)\n"
   ]
  },
  {
   "cell_type": "code",
   "execution_count": 9,
   "id": "74f36f3e-916d-4d22-bf67-5ade9738af49",
   "metadata": {},
   "outputs": [],
   "source": [
    "# Ensure Q2 has approximately NUM_ROWS, if items were skipped above\n",
    "while len(df_q2) < NUM_ROWS:\n",
    "    new_item = f'{np.random.choice(ITEMS_PREFIX)} {len(df_q2):03d}_fill'\n",
    "    if new_item not in df_q2['Item'].values and new_item not in df_q1['Item'].values: # ensure it's truly new\n",
    "         df_q2 = pd.concat([df_q2, pd.DataFrame([{\n",
    "            'Item': new_item,\n",
    "            'Department': np.random.choice(DEPARTMENTS),\n",
    "            'Category': np.random.choice(CATEGORIES),\n",
    "            'Revenue': np.random.randint(10000, 100000),\n",
    "            'Expenses': np.random.randint(3000, 40000),\n",
    "            'Units Sold': np.random.randint(50, 1000),\n",
    "            'Customer Count': np.random.randint(10, 500),\n",
    "            'Profit': np.random.randint(10000, 100000) - np.random.randint(3000, 40000)\n",
    "        }])], ignore_index=True)\n"
   ]
  },
  {
   "cell_type": "code",
   "execution_count": 10,
   "id": "63953b4b-b6f4-42aa-af1a-fc4be8302210",
   "metadata": {},
   "outputs": [],
   "source": [
    "# Trim or pad if necessary to ensure exactly NUM_ROWS (optional, for strict requirement)\n",
    "df_q1 = df_q1.head(NUM_ROWS) if len(df_q1) > NUM_ROWS else df_q1\n",
    "df_q2 = df_q2.head(NUM_ROWS) if len(df_q2) > NUM_ROWS else df_q2\n"
   ]
  },
  {
   "cell_type": "code",
   "execution_count": 14,
   "id": "67834eac-34fb-4ba2-9f27-32771933705f",
   "metadata": {},
   "outputs": [],
   "source": [
    "# --- Save to Excel ---\n",
    "output_q1_filename = 'quarter1_FY25-26.xlsx'\n",
    "output_q2_filename = 'quarter2_FY25-26.xlsx'"
   ]
  },
  {
   "cell_type": "code",
   "execution_count": 15,
   "id": "63e1bb6c-d9b7-43e8-ba9e-8169894e0719",
   "metadata": {},
   "outputs": [],
   "source": [
    "df_q1.to_excel(output_q1_filename, index=False, sheet_name='Q1_Data')\n",
    "df_q2.to_excel(output_q2_filename, index=False, sheet_name='Q2_Data')"
   ]
  },
  {
   "cell_type": "code",
   "execution_count": 16,
   "id": "1d3509f1-5f5f-4a36-9a9c-fc0d788d649c",
   "metadata": {},
   "outputs": [
    {
     "name": "stdout",
     "output_type": "stream",
     "text": [
      "Generated 'quarter1_FY25-26.xlsx' with 50 rows.\n",
      "Generated 'quarter2_FY25-26.xlsx' with 50 rows.\n",
      "\n",
      "Sample of Q1 Data:\n",
      "          Item  Department     Category  Revenue  Expenses  Units Sold  \\\n",
      "0   Client 000  Operations     Supplies  64268.0   20675.0         312   \n",
      "1   Region 001     Finance  Electronics  97939.0   26938.0         813   \n",
      "2  Product 002     Finance     Supplies  28141.0   26664.0         193   \n",
      "3   Client 003       Sales     Supplies  90356.0    4636.0         395   \n",
      "4   Client 004  Operations  Electronics  81910.0   23080.0         673   \n",
      "\n",
      "   Customer Count   Profit  \n",
      "0             217  43593.0  \n",
      "1             454  71001.0  \n",
      "2             178   1477.0  \n",
      "3             493  85720.0  \n",
      "4             170  58830.0  \n",
      "\n",
      "Sample of Q2 Data:\n",
      "          Item  Department     Category       Revenue      Expenses  \\\n",
      "0   Client 000  Operations     Supplies  59180.819658  24440.694369   \n",
      "1   Region 001     Finance  Electronics  83853.672226  31746.313632   \n",
      "2  Product 002     Finance     Supplies  33521.665635  26352.955577   \n",
      "3   Client 003       Sales     Supplies  82928.474648   4946.799196   \n",
      "4   Client 004  Operations  Electronics  72807.390642  25030.310038   \n",
      "\n",
      "   Units Sold  Customer Count        Profit  \n",
      "0         384             254  34740.125288  \n",
      "1         830             540  52107.358595  \n",
      "2         193             205   7168.710057  \n",
      "3         483             546  77981.675452  \n",
      "4         838             160  47777.080604  \n"
     ]
    }
   ],
   "source": [
    "print(f\"Generated '{output_q1_filename}' with {len(df_q1)} rows.\")\n",
    "print(f\"Generated '{output_q2_filename}' with {len(df_q2)} rows.\")\n",
    "print(\"\\nSample of Q1 Data:\")\n",
    "print(df_q1.head())\n",
    "print(\"\\nSample of Q2 Data:\")\n",
    "print(df_q2.head())"
   ]
  },
  {
   "cell_type": "code",
   "execution_count": null,
   "id": "e01c973f-df98-45f7-867b-ac6f645cc4cf",
   "metadata": {},
   "outputs": [],
   "source": []
  }
 ],
 "metadata": {
  "kernelspec": {
   "display_name": "Python 3 (ipykernel)",
   "language": "python",
   "name": "python3"
  },
  "language_info": {
   "codemirror_mode": {
    "name": "ipython",
    "version": 3
   },
   "file_extension": ".py",
   "mimetype": "text/x-python",
   "name": "python",
   "nbconvert_exporter": "python",
   "pygments_lexer": "ipython3",
   "version": "3.12.3"
  }
 },
 "nbformat": 4,
 "nbformat_minor": 5
}
