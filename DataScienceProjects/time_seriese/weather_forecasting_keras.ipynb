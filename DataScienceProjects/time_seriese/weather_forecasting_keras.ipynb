{
 "cells": [
  {
   "cell_type": "code",
   "execution_count": 433,
   "id": "f9b1208b-72f1-4535-a4a5-9791a0426762",
   "metadata": {},
   "outputs": [],
   "source": [
    "import numpy as np\n",
    "import pandas as pd\n",
    "from sklearn.preprocessing import MinMaxScaler\n",
    "from keras.models import Sequential\n",
    "from keras.layers import LSTM, Dense\n",
    "from sklearn.metrics import mean_squared_error\n",
    "import matplotlib.pyplot as plt"
   ]
  },
  {
   "cell_type": "code",
   "execution_count": 410,
   "id": "923bbd03-f56e-4401-8afe-1bbd4cb9e1b4",
   "metadata": {
    "tags": []
   },
   "outputs": [],
   "source": [
    "# Load the dataset\n",
    "df = pd.read_csv('weather_data/weather_data.csv', parse_dates=['Date'])\n"
   ]
  },
  {
   "cell_type": "code",
   "execution_count": 411,
   "id": "60356cf6-ec69-4aa3-9025-1190dcc0ca18",
   "metadata": {
    "tags": []
   },
   "outputs": [
    {
     "data": {
      "text/html": [
       "<div>\n",
       "<style scoped>\n",
       "    .dataframe tbody tr th:only-of-type {\n",
       "        vertical-align: middle;\n",
       "    }\n",
       "\n",
       "    .dataframe tbody tr th {\n",
       "        vertical-align: top;\n",
       "    }\n",
       "\n",
       "    .dataframe thead th {\n",
       "        text-align: right;\n",
       "    }\n",
       "</style>\n",
       "<table border=\"1\" class=\"dataframe\">\n",
       "  <thead>\n",
       "    <tr style=\"text-align: right;\">\n",
       "      <th></th>\n",
       "      <th>Date</th>\n",
       "      <th>Month</th>\n",
       "      <th>Week</th>\n",
       "      <th>Year</th>\n",
       "      <th>City</th>\n",
       "      <th>Code</th>\n",
       "      <th>Location</th>\n",
       "      <th>State</th>\n",
       "      <th>Avg_Temp</th>\n",
       "      <th>Max_Temp</th>\n",
       "      <th>Min_Temp</th>\n",
       "      <th>Wind_Direction</th>\n",
       "      <th>Wind_Speed</th>\n",
       "      <th>Precipitation</th>\n",
       "    </tr>\n",
       "  </thead>\n",
       "  <tbody>\n",
       "    <tr>\n",
       "      <th>156</th>\n",
       "      <td>2016-03-01</td>\n",
       "      <td>1</td>\n",
       "      <td>3</td>\n",
       "      <td>2016</td>\n",
       "      <td>Meridian</td>\n",
       "      <td>MEI</td>\n",
       "      <td>Meridian, MS</td>\n",
       "      <td>Mississippi</td>\n",
       "      <td>43</td>\n",
       "      <td>49</td>\n",
       "      <td>36</td>\n",
       "      <td>34</td>\n",
       "      <td>5.56</td>\n",
       "      <td>0.01</td>\n",
       "    </tr>\n",
       "    <tr>\n",
       "      <th>471</th>\n",
       "      <td>2016-10-01</td>\n",
       "      <td>1</td>\n",
       "      <td>10</td>\n",
       "      <td>2016</td>\n",
       "      <td>Meridian</td>\n",
       "      <td>MEI</td>\n",
       "      <td>Meridian, MS</td>\n",
       "      <td>Mississippi</td>\n",
       "      <td>45</td>\n",
       "      <td>53</td>\n",
       "      <td>33</td>\n",
       "      <td>13</td>\n",
       "      <td>5.37</td>\n",
       "      <td>0.10</td>\n",
       "    </tr>\n",
       "    <tr>\n",
       "      <th>786</th>\n",
       "      <td>2016-01-17</td>\n",
       "      <td>1</td>\n",
       "      <td>17</td>\n",
       "      <td>2016</td>\n",
       "      <td>Meridian</td>\n",
       "      <td>MEI</td>\n",
       "      <td>Meridian, MS</td>\n",
       "      <td>Mississippi</td>\n",
       "      <td>44</td>\n",
       "      <td>58</td>\n",
       "      <td>29</td>\n",
       "      <td>22</td>\n",
       "      <td>3.55</td>\n",
       "      <td>0.10</td>\n",
       "    </tr>\n",
       "    <tr>\n",
       "      <th>1101</th>\n",
       "      <td>2016-01-24</td>\n",
       "      <td>1</td>\n",
       "      <td>24</td>\n",
       "      <td>2016</td>\n",
       "      <td>Meridian</td>\n",
       "      <td>MEI</td>\n",
       "      <td>Meridian, MS</td>\n",
       "      <td>Mississippi</td>\n",
       "      <td>42</td>\n",
       "      <td>52</td>\n",
       "      <td>31</td>\n",
       "      <td>17</td>\n",
       "      <td>6.17</td>\n",
       "      <td>1.50</td>\n",
       "    </tr>\n",
       "    <tr>\n",
       "      <th>1416</th>\n",
       "      <td>2016-01-31</td>\n",
       "      <td>1</td>\n",
       "      <td>31</td>\n",
       "      <td>2016</td>\n",
       "      <td>Meridian</td>\n",
       "      <td>MEI</td>\n",
       "      <td>Meridian, MS</td>\n",
       "      <td>Mississippi</td>\n",
       "      <td>50</td>\n",
       "      <td>65</td>\n",
       "      <td>36</td>\n",
       "      <td>20</td>\n",
       "      <td>6.77</td>\n",
       "      <td>1.53</td>\n",
       "    </tr>\n",
       "  </tbody>\n",
       "</table>\n",
       "</div>"
      ],
      "text/plain": [
       "           Date  Month  Week  Year      City Code      Location        State  \\\n",
       "156  2016-03-01      1     3  2016  Meridian  MEI  Meridian, MS  Mississippi   \n",
       "471  2016-10-01      1    10  2016  Meridian  MEI  Meridian, MS  Mississippi   \n",
       "786  2016-01-17      1    17  2016  Meridian  MEI  Meridian, MS  Mississippi   \n",
       "1101 2016-01-24      1    24  2016  Meridian  MEI  Meridian, MS  Mississippi   \n",
       "1416 2016-01-31      1    31  2016  Meridian  MEI  Meridian, MS  Mississippi   \n",
       "\n",
       "      Avg_Temp  Max_Temp  Min_Temp  Wind_Direction  Wind_Speed  Precipitation  \n",
       "156         43        49        36              34        5.56           0.01  \n",
       "471         45        53        33              13        5.37           0.10  \n",
       "786         44        58        29              22        3.55           0.10  \n",
       "1101        42        52        31              17        6.17           1.50  \n",
       "1416        50        65        36              20        6.77           1.53  "
      ]
     },
     "execution_count": 411,
     "metadata": {},
     "output_type": "execute_result"
    }
   ],
   "source": [
    "# we have to take one city at a time\n",
    "df = df.query('City == \"Meridian\"')\n",
    "df.head()"
   ]
  },
  {
   "cell_type": "code",
   "execution_count": 412,
   "id": "72dedb9c-1e01-4fe4-a5d4-7f002ccd5bdc",
   "metadata": {
    "tags": []
   },
   "outputs": [],
   "source": [
    "df.set_index('Date', inplace=True)\n"
   ]
  },
  {
   "cell_type": "code",
   "execution_count": 413,
   "id": "af841036-ef39-44ee-aea9-1f7c394e2995",
   "metadata": {
    "tags": []
   },
   "outputs": [
    {
     "data": {
      "text/html": [
       "<div>\n",
       "<style scoped>\n",
       "    .dataframe tbody tr th:only-of-type {\n",
       "        vertical-align: middle;\n",
       "    }\n",
       "\n",
       "    .dataframe tbody tr th {\n",
       "        vertical-align: top;\n",
       "    }\n",
       "\n",
       "    .dataframe thead th {\n",
       "        text-align: right;\n",
       "    }\n",
       "</style>\n",
       "<table border=\"1\" class=\"dataframe\">\n",
       "  <thead>\n",
       "    <tr style=\"text-align: right;\">\n",
       "      <th></th>\n",
       "      <th>Precipitation</th>\n",
       "    </tr>\n",
       "    <tr>\n",
       "      <th>Date</th>\n",
       "      <th></th>\n",
       "    </tr>\n",
       "  </thead>\n",
       "  <tbody>\n",
       "    <tr>\n",
       "      <th>2016-03-01</th>\n",
       "      <td>0.01</td>\n",
       "    </tr>\n",
       "    <tr>\n",
       "      <th>2016-10-01</th>\n",
       "      <td>0.10</td>\n",
       "    </tr>\n",
       "    <tr>\n",
       "      <th>2016-01-17</th>\n",
       "      <td>0.10</td>\n",
       "    </tr>\n",
       "    <tr>\n",
       "      <th>2016-01-24</th>\n",
       "      <td>1.50</td>\n",
       "    </tr>\n",
       "    <tr>\n",
       "      <th>2016-01-31</th>\n",
       "      <td>1.53</td>\n",
       "    </tr>\n",
       "  </tbody>\n",
       "</table>\n",
       "</div>"
      ],
      "text/plain": [
       "            Precipitation\n",
       "Date                     \n",
       "2016-03-01           0.01\n",
       "2016-10-01           0.10\n",
       "2016-01-17           0.10\n",
       "2016-01-24           1.50\n",
       "2016-01-31           1.53"
      ]
     },
     "execution_count": 413,
     "metadata": {},
     "output_type": "execute_result"
    }
   ],
   "source": [
    "df.drop([\"Month\", \"Week\", \"Year\", \"City\", \"Code\", \"Location\", \"State\", \"Avg_Temp\", \"Max_Temp\", \"Min_Temp\", \"Wind_Direction\", \"Wind_Speed\"], axis=1, inplace=True)\n",
    "df.head()"
   ]
  },
  {
   "cell_type": "code",
   "execution_count": 414,
   "id": "84fb6bbe-e3bf-428a-a09d-d30248ce0d25",
   "metadata": {
    "tags": []
   },
   "outputs": [
    {
     "name": "stdout",
     "output_type": "stream",
     "text": [
      "<class 'pandas.core.frame.DataFrame'>\n",
      "DatetimeIndex: 53 entries, 2016-03-01 to 2017-01-01\n",
      "Data columns (total 1 columns):\n",
      " #   Column         Non-Null Count  Dtype  \n",
      "---  ------         --------------  -----  \n",
      " 0   Precipitation  53 non-null     float64\n",
      "dtypes: float64(1)\n",
      "memory usage: 848.0 bytes\n"
     ]
    }
   ],
   "source": [
    "df.info()"
   ]
  },
  {
   "cell_type": "code",
   "execution_count": 415,
   "id": "90bbb6bf-18fd-4581-8993-e66d52e34f8c",
   "metadata": {
    "tags": []
   },
   "outputs": [],
   "source": [
    "# Split the data into training and testing sets\n",
    "train_size = int(len(df) * 0.8)\n",
    "train_df = df[:train_size]\n",
    "test_df = df[train_size:]"
   ]
  },
  {
   "cell_type": "code",
   "execution_count": 416,
   "id": "1ae045dc-21ff-4d09-aab2-27a10cb6768d",
   "metadata": {
    "tags": []
   },
   "outputs": [
    {
     "data": {
      "text/html": [
       "<div>\n",
       "<style scoped>\n",
       "    .dataframe tbody tr th:only-of-type {\n",
       "        vertical-align: middle;\n",
       "    }\n",
       "\n",
       "    .dataframe tbody tr th {\n",
       "        vertical-align: top;\n",
       "    }\n",
       "\n",
       "    .dataframe thead th {\n",
       "        text-align: right;\n",
       "    }\n",
       "</style>\n",
       "<table border=\"1\" class=\"dataframe\">\n",
       "  <thead>\n",
       "    <tr style=\"text-align: right;\">\n",
       "      <th></th>\n",
       "      <th>Precipitation</th>\n",
       "    </tr>\n",
       "    <tr>\n",
       "      <th>Date</th>\n",
       "      <th></th>\n",
       "    </tr>\n",
       "  </thead>\n",
       "  <tbody>\n",
       "    <tr>\n",
       "      <th>2016-03-01</th>\n",
       "      <td>0.01</td>\n",
       "    </tr>\n",
       "    <tr>\n",
       "      <th>2016-10-01</th>\n",
       "      <td>0.10</td>\n",
       "    </tr>\n",
       "    <tr>\n",
       "      <th>2016-01-17</th>\n",
       "      <td>0.10</td>\n",
       "    </tr>\n",
       "    <tr>\n",
       "      <th>2016-01-24</th>\n",
       "      <td>1.50</td>\n",
       "    </tr>\n",
       "    <tr>\n",
       "      <th>2016-01-31</th>\n",
       "      <td>1.53</td>\n",
       "    </tr>\n",
       "  </tbody>\n",
       "</table>\n",
       "</div>"
      ],
      "text/plain": [
       "            Precipitation\n",
       "Date                     \n",
       "2016-03-01           0.01\n",
       "2016-10-01           0.10\n",
       "2016-01-17           0.10\n",
       "2016-01-24           1.50\n",
       "2016-01-31           1.53"
      ]
     },
     "execution_count": 416,
     "metadata": {},
     "output_type": "execute_result"
    }
   ],
   "source": [
    "train_df.head()"
   ]
  },
  {
   "cell_type": "code",
   "execution_count": 417,
   "id": "69f9dd20-48f2-4f9c-a452-8e3adfafb391",
   "metadata": {
    "tags": []
   },
   "outputs": [
    {
     "data": {
      "text/html": [
       "<div>\n",
       "<style scoped>\n",
       "    .dataframe tbody tr th:only-of-type {\n",
       "        vertical-align: middle;\n",
       "    }\n",
       "\n",
       "    .dataframe tbody tr th {\n",
       "        vertical-align: top;\n",
       "    }\n",
       "\n",
       "    .dataframe thead th {\n",
       "        text-align: right;\n",
       "    }\n",
       "</style>\n",
       "<table border=\"1\" class=\"dataframe\">\n",
       "  <thead>\n",
       "    <tr style=\"text-align: right;\">\n",
       "      <th></th>\n",
       "      <th>Precipitation</th>\n",
       "    </tr>\n",
       "    <tr>\n",
       "      <th>Date</th>\n",
       "      <th></th>\n",
       "    </tr>\n",
       "  </thead>\n",
       "  <tbody>\n",
       "    <tr>\n",
       "      <th>2016-10-23</th>\n",
       "      <td>0.00</td>\n",
       "    </tr>\n",
       "    <tr>\n",
       "      <th>2016-10-30</th>\n",
       "      <td>0.00</td>\n",
       "    </tr>\n",
       "    <tr>\n",
       "      <th>2016-06-11</th>\n",
       "      <td>0.00</td>\n",
       "    </tr>\n",
       "    <tr>\n",
       "      <th>2016-11-13</th>\n",
       "      <td>0.20</td>\n",
       "    </tr>\n",
       "    <tr>\n",
       "      <th>2016-11-20</th>\n",
       "      <td>0.01</td>\n",
       "    </tr>\n",
       "  </tbody>\n",
       "</table>\n",
       "</div>"
      ],
      "text/plain": [
       "            Precipitation\n",
       "Date                     \n",
       "2016-10-23           0.00\n",
       "2016-10-30           0.00\n",
       "2016-06-11           0.00\n",
       "2016-11-13           0.20\n",
       "2016-11-20           0.01"
      ]
     },
     "execution_count": 417,
     "metadata": {},
     "output_type": "execute_result"
    }
   ],
   "source": [
    "test_df.head()"
   ]
  },
  {
   "cell_type": "code",
   "execution_count": 418,
   "id": "f42cb639-d0b0-4c39-8bac-61c88fa2cfda",
   "metadata": {
    "tags": []
   },
   "outputs": [],
   "source": [
    "# Preprocess the data\n",
    "scaler = MinMaxScaler()"
   ]
  },
  {
   "cell_type": "code",
   "execution_count": 420,
   "id": "4df8cf59-f6a5-4777-8256-9a62687794e5",
   "metadata": {
    "tags": []
   },
   "outputs": [],
   "source": [
    "# Scale the numeric columns in your DataFrame\n",
    "numeric_columns = ['Precipitation']\n"
   ]
  },
  {
   "cell_type": "code",
   "execution_count": 421,
   "id": "b5accf71-1de8-4c5f-ab6f-d32ee3e539f6",
   "metadata": {
    "tags": []
   },
   "outputs": [],
   "source": [
    "scaled_train_data = scaler.fit_transform(train_df[numeric_columns])\n",
    "scaled_test_data = scaler.transform(test_df[numeric_columns])"
   ]
  },
  {
   "cell_type": "code",
   "execution_count": 422,
   "id": "3c9b080f-153c-44b4-9f6e-b920f1a65c2e",
   "metadata": {
    "tags": []
   },
   "outputs": [],
   "source": [
    "# Function to create sequences for LSTM\n",
    "def create_sequences(data, seq_length):\n",
    "    sequences = []\n",
    "    targets = []\n",
    "    for i in range(len(data) - seq_length):\n",
    "        sequences.append(data[i:i+seq_length])\n",
    "        targets.append(data[i+seq_length, -1])  # Target is the last column (Precipitation)\n",
    "    return np.array(sequences), np.array(targets)"
   ]
  },
  {
   "cell_type": "code",
   "execution_count": 423,
   "id": "40c71ee8-4e79-4402-938d-56d5d8d436ef",
   "metadata": {
    "tags": []
   },
   "outputs": [],
   "source": [
    "# Define sequence length (number of time steps to look back)\n",
    "seq_length = 5  # You can adjust this"
   ]
  },
  {
   "cell_type": "code",
   "execution_count": 424,
   "id": "6b246d5e-98ed-4862-b216-b06ae780c16b",
   "metadata": {
    "tags": []
   },
   "outputs": [],
   "source": [
    "# Create sequences and targets for training and testing data\n",
    "train_sequences, train_target = create_sequences(scaled_train_data, seq_length)\n",
    "test_sequences, test_target = create_sequences(scaled_test_data, seq_length)"
   ]
  },
  {
   "cell_type": "code",
   "execution_count": 425,
   "id": "51656704-fd01-4ff7-9de2-23d5fd0a3724",
   "metadata": {
    "tags": []
   },
   "outputs": [
    {
     "data": {
      "text/plain": [
       "((37, 5, 1), (37,))"
      ]
     },
     "execution_count": 425,
     "metadata": {},
     "output_type": "execute_result"
    }
   ],
   "source": [
    "train_sequences.shape, train_target.shape"
   ]
  },
  {
   "cell_type": "code",
   "execution_count": 426,
   "id": "9f4e0bf6-8d8b-4602-ae35-4d22d9ed4e43",
   "metadata": {
    "tags": []
   },
   "outputs": [
    {
     "data": {
      "text/plain": [
       "((6, 5, 1), (6,))"
      ]
     },
     "execution_count": 426,
     "metadata": {},
     "output_type": "execute_result"
    }
   ],
   "source": [
    "test_sequences.shape, test_target.shape"
   ]
  },
  {
   "cell_type": "code",
   "execution_count": 427,
   "id": "bfcf718b-56a2-455a-be2d-c93ce30d1f16",
   "metadata": {
    "tags": []
   },
   "outputs": [],
   "source": [
    "# Build the model\n",
    "model = Sequential()\n",
    "model.add(LSTM(50, input_shape=(seq_length, len(numeric_columns))))\n",
    "model.add(Dense(1))\n",
    "model.compile(loss='mean_squared_error', optimizer='adam')"
   ]
  },
  {
   "cell_type": "code",
   "execution_count": 428,
   "id": "a942c083-bb7c-4d96-aac3-d036adbfa28d",
   "metadata": {
    "tags": []
   },
   "outputs": [
    {
     "name": "stdout",
     "output_type": "stream",
     "text": [
      "Epoch 1/100\n",
      "2/2 - 1s - loss: 0.0502 - val_loss: 0.0127 - 1s/epoch - 527ms/step\n",
      "Epoch 2/100\n",
      "2/2 - 0s - loss: 0.0466 - val_loss: 0.0106 - 52ms/epoch - 26ms/step\n",
      "Epoch 3/100\n",
      "2/2 - 0s - loss: 0.0443 - val_loss: 0.0092 - 50ms/epoch - 25ms/step\n",
      "Epoch 4/100\n",
      "2/2 - 0s - loss: 0.0429 - val_loss: 0.0085 - 46ms/epoch - 23ms/step\n",
      "Epoch 5/100\n",
      "2/2 - 0s - loss: 0.0422 - val_loss: 0.0081 - 38ms/epoch - 19ms/step\n",
      "Epoch 6/100\n",
      "2/2 - 0s - loss: 0.0419 - val_loss: 0.0079 - 41ms/epoch - 21ms/step\n",
      "Epoch 7/100\n",
      "2/2 - 0s - loss: 0.0417 - val_loss: 0.0077 - 37ms/epoch - 19ms/step\n",
      "Epoch 8/100\n",
      "2/2 - 0s - loss: 0.0415 - val_loss: 0.0074 - 40ms/epoch - 20ms/step\n",
      "Epoch 9/100\n",
      "2/2 - 0s - loss: 0.0415 - val_loss: 0.0071 - 42ms/epoch - 21ms/step\n",
      "Epoch 10/100\n",
      "2/2 - 0s - loss: 0.0413 - val_loss: 0.0070 - 39ms/epoch - 19ms/step\n",
      "Epoch 11/100\n",
      "2/2 - 0s - loss: 0.0414 - val_loss: 0.0070 - 42ms/epoch - 21ms/step\n",
      "Epoch 12/100\n",
      "2/2 - 0s - loss: 0.0420 - val_loss: 0.0071 - 38ms/epoch - 19ms/step\n",
      "Epoch 13/100\n",
      "2/2 - 0s - loss: 0.0423 - val_loss: 0.0072 - 42ms/epoch - 21ms/step\n",
      "Epoch 14/100\n",
      "2/2 - 0s - loss: 0.0425 - val_loss: 0.0072 - 36ms/epoch - 18ms/step\n",
      "Epoch 15/100\n",
      "2/2 - 0s - loss: 0.0425 - val_loss: 0.0071 - 37ms/epoch - 18ms/step\n",
      "Epoch 16/100\n",
      "2/2 - 0s - loss: 0.0423 - val_loss: 0.0070 - 37ms/epoch - 19ms/step\n",
      "Epoch 17/100\n",
      "2/2 - 0s - loss: 0.0419 - val_loss: 0.0070 - 37ms/epoch - 19ms/step\n",
      "Epoch 18/100\n",
      "2/2 - 0s - loss: 0.0415 - val_loss: 0.0071 - 37ms/epoch - 18ms/step\n",
      "Epoch 19/100\n",
      "2/2 - 0s - loss: 0.0413 - val_loss: 0.0074 - 37ms/epoch - 18ms/step\n",
      "Epoch 20/100\n",
      "2/2 - 0s - loss: 0.0414 - val_loss: 0.0077 - 37ms/epoch - 18ms/step\n",
      "Epoch 21/100\n",
      "2/2 - 0s - loss: 0.0416 - val_loss: 0.0080 - 36ms/epoch - 18ms/step\n",
      "Epoch 22/100\n",
      "2/2 - 0s - loss: 0.0418 - val_loss: 0.0082 - 36ms/epoch - 18ms/step\n",
      "Epoch 23/100\n",
      "2/2 - 0s - loss: 0.0421 - val_loss: 0.0084 - 36ms/epoch - 18ms/step\n",
      "Epoch 24/100\n",
      "2/2 - 0s - loss: 0.0423 - val_loss: 0.0086 - 36ms/epoch - 18ms/step\n",
      "Epoch 25/100\n",
      "2/2 - 0s - loss: 0.0425 - val_loss: 0.0086 - 36ms/epoch - 18ms/step\n",
      "Epoch 26/100\n",
      "2/2 - 0s - loss: 0.0426 - val_loss: 0.0087 - 37ms/epoch - 18ms/step\n",
      "Epoch 27/100\n",
      "2/2 - 0s - loss: 0.0426 - val_loss: 0.0086 - 37ms/epoch - 19ms/step\n",
      "Epoch 28/100\n",
      "2/2 - 0s - loss: 0.0426 - val_loss: 0.0085 - 37ms/epoch - 19ms/step\n",
      "Epoch 29/100\n",
      "2/2 - 0s - loss: 0.0425 - val_loss: 0.0083 - 38ms/epoch - 19ms/step\n",
      "Epoch 30/100\n",
      "2/2 - 0s - loss: 0.0423 - val_loss: 0.0082 - 37ms/epoch - 19ms/step\n",
      "Epoch 31/100\n",
      "2/2 - 0s - loss: 0.0422 - val_loss: 0.0080 - 36ms/epoch - 18ms/step\n",
      "Epoch 32/100\n",
      "2/2 - 0s - loss: 0.0421 - val_loss: 0.0077 - 38ms/epoch - 19ms/step\n",
      "Epoch 33/100\n",
      "2/2 - 0s - loss: 0.0417 - val_loss: 0.0075 - 36ms/epoch - 18ms/step\n",
      "Epoch 34/100\n",
      "2/2 - 0s - loss: 0.0415 - val_loss: 0.0073 - 36ms/epoch - 18ms/step\n",
      "Epoch 35/100\n",
      "2/2 - 0s - loss: 0.0413 - val_loss: 0.0072 - 37ms/epoch - 19ms/step\n",
      "Epoch 36/100\n",
      "2/2 - 0s - loss: 0.0412 - val_loss: 0.0071 - 36ms/epoch - 18ms/step\n",
      "Epoch 37/100\n",
      "2/2 - 0s - loss: 0.0411 - val_loss: 0.0070 - 37ms/epoch - 18ms/step\n",
      "Epoch 38/100\n",
      "2/2 - 0s - loss: 0.0412 - val_loss: 0.0070 - 37ms/epoch - 18ms/step\n",
      "Epoch 39/100\n",
      "2/2 - 0s - loss: 0.0411 - val_loss: 0.0071 - 36ms/epoch - 18ms/step\n",
      "Epoch 40/100\n",
      "2/2 - 0s - loss: 0.0412 - val_loss: 0.0072 - 37ms/epoch - 19ms/step\n",
      "Epoch 41/100\n",
      "2/2 - 0s - loss: 0.0415 - val_loss: 0.0076 - 36ms/epoch - 18ms/step\n",
      "Epoch 42/100\n",
      "2/2 - 0s - loss: 0.0420 - val_loss: 0.0078 - 50ms/epoch - 25ms/step\n",
      "Epoch 43/100\n",
      "2/2 - 0s - loss: 0.0422 - val_loss: 0.0079 - 38ms/epoch - 19ms/step\n",
      "Epoch 44/100\n",
      "2/2 - 0s - loss: 0.0422 - val_loss: 0.0083 - 41ms/epoch - 21ms/step\n",
      "Epoch 45/100\n",
      "2/2 - 0s - loss: 0.0430 - val_loss: 0.0087 - 36ms/epoch - 18ms/step\n",
      "Epoch 46/100\n",
      "2/2 - 0s - loss: 0.0432 - val_loss: 0.0085 - 38ms/epoch - 19ms/step\n",
      "Epoch 47/100\n",
      "2/2 - 0s - loss: 0.0427 - val_loss: 0.0080 - 41ms/epoch - 20ms/step\n",
      "Epoch 48/100\n",
      "2/2 - 0s - loss: 0.0420 - val_loss: 0.0076 - 38ms/epoch - 19ms/step\n",
      "Epoch 49/100\n",
      "2/2 - 0s - loss: 0.0416 - val_loss: 0.0074 - 39ms/epoch - 19ms/step\n",
      "Epoch 50/100\n",
      "2/2 - 0s - loss: 0.0412 - val_loss: 0.0073 - 37ms/epoch - 18ms/step\n",
      "Epoch 51/100\n",
      "2/2 - 0s - loss: 0.0411 - val_loss: 0.0072 - 38ms/epoch - 19ms/step\n",
      "Epoch 52/100\n",
      "2/2 - 0s - loss: 0.0411 - val_loss: 0.0072 - 38ms/epoch - 19ms/step\n",
      "Epoch 53/100\n",
      "2/2 - 0s - loss: 0.0410 - val_loss: 0.0072 - 37ms/epoch - 19ms/step\n",
      "Epoch 54/100\n",
      "2/2 - 0s - loss: 0.0411 - val_loss: 0.0072 - 37ms/epoch - 19ms/step\n",
      "Epoch 55/100\n",
      "2/2 - 0s - loss: 0.0410 - val_loss: 0.0072 - 37ms/epoch - 18ms/step\n",
      "Epoch 56/100\n",
      "2/2 - 0s - loss: 0.0410 - val_loss: 0.0072 - 37ms/epoch - 18ms/step\n",
      "Epoch 57/100\n",
      "2/2 - 0s - loss: 0.0410 - val_loss: 0.0073 - 37ms/epoch - 18ms/step\n",
      "Epoch 58/100\n",
      "2/2 - 0s - loss: 0.0411 - val_loss: 0.0073 - 37ms/epoch - 18ms/step\n",
      "Epoch 59/100\n",
      "2/2 - 0s - loss: 0.0410 - val_loss: 0.0073 - 37ms/epoch - 19ms/step\n",
      "Epoch 60/100\n",
      "2/2 - 0s - loss: 0.0410 - val_loss: 0.0073 - 38ms/epoch - 19ms/step\n",
      "Epoch 61/100\n",
      "2/2 - 0s - loss: 0.0411 - val_loss: 0.0072 - 37ms/epoch - 19ms/step\n",
      "Epoch 62/100\n",
      "2/2 - 0s - loss: 0.0411 - val_loss: 0.0072 - 38ms/epoch - 19ms/step\n",
      "Epoch 63/100\n",
      "2/2 - 0s - loss: 0.0411 - val_loss: 0.0073 - 37ms/epoch - 19ms/step\n",
      "Epoch 64/100\n",
      "2/2 - 0s - loss: 0.0411 - val_loss: 0.0072 - 38ms/epoch - 19ms/step\n",
      "Epoch 65/100\n",
      "2/2 - 0s - loss: 0.0412 - val_loss: 0.0073 - 36ms/epoch - 18ms/step\n",
      "Epoch 66/100\n",
      "2/2 - 0s - loss: 0.0411 - val_loss: 0.0074 - 38ms/epoch - 19ms/step\n",
      "Epoch 67/100\n",
      "2/2 - 0s - loss: 0.0411 - val_loss: 0.0075 - 37ms/epoch - 19ms/step\n",
      "Epoch 68/100\n",
      "2/2 - 0s - loss: 0.0411 - val_loss: 0.0076 - 37ms/epoch - 19ms/step\n",
      "Epoch 69/100\n",
      "2/2 - 0s - loss: 0.0410 - val_loss: 0.0080 - 38ms/epoch - 19ms/step\n",
      "Epoch 70/100\n",
      "2/2 - 0s - loss: 0.0414 - val_loss: 0.0084 - 37ms/epoch - 19ms/step\n",
      "Epoch 71/100\n",
      "2/2 - 0s - loss: 0.0416 - val_loss: 0.0085 - 37ms/epoch - 18ms/step\n",
      "Epoch 72/100\n",
      "2/2 - 0s - loss: 0.0416 - val_loss: 0.0083 - 38ms/epoch - 19ms/step\n",
      "Epoch 73/100\n",
      "2/2 - 0s - loss: 0.0415 - val_loss: 0.0080 - 37ms/epoch - 19ms/step\n",
      "Epoch 74/100\n",
      "2/2 - 0s - loss: 0.0413 - val_loss: 0.0077 - 36ms/epoch - 18ms/step\n",
      "Epoch 75/100\n",
      "2/2 - 0s - loss: 0.0412 - val_loss: 0.0075 - 40ms/epoch - 20ms/step\n",
      "Epoch 76/100\n",
      "2/2 - 0s - loss: 0.0410 - val_loss: 0.0073 - 36ms/epoch - 18ms/step\n",
      "Epoch 77/100\n",
      "2/2 - 0s - loss: 0.0411 - val_loss: 0.0072 - 37ms/epoch - 19ms/step\n",
      "Epoch 78/100\n",
      "2/2 - 0s - loss: 0.0410 - val_loss: 0.0072 - 38ms/epoch - 19ms/step\n",
      "Epoch 79/100\n",
      "2/2 - 0s - loss: 0.0411 - val_loss: 0.0071 - 37ms/epoch - 18ms/step\n",
      "Epoch 80/100\n",
      "2/2 - 0s - loss: 0.0411 - val_loss: 0.0071 - 38ms/epoch - 19ms/step\n",
      "Epoch 81/100\n",
      "2/2 - 0s - loss: 0.0412 - val_loss: 0.0072 - 37ms/epoch - 18ms/step\n",
      "Epoch 82/100\n",
      "2/2 - 0s - loss: 0.0413 - val_loss: 0.0072 - 37ms/epoch - 18ms/step\n",
      "Epoch 83/100\n",
      "2/2 - 0s - loss: 0.0414 - val_loss: 0.0072 - 36ms/epoch - 18ms/step\n",
      "Epoch 84/100\n",
      "2/2 - 0s - loss: 0.0414 - val_loss: 0.0072 - 38ms/epoch - 19ms/step\n",
      "Epoch 85/100\n",
      "2/2 - 0s - loss: 0.0415 - val_loss: 0.0073 - 37ms/epoch - 19ms/step\n",
      "Epoch 86/100\n",
      "2/2 - 0s - loss: 0.0416 - val_loss: 0.0074 - 39ms/epoch - 19ms/step\n",
      "Epoch 87/100\n",
      "2/2 - 0s - loss: 0.0418 - val_loss: 0.0075 - 37ms/epoch - 19ms/step\n",
      "Epoch 88/100\n",
      "2/2 - 0s - loss: 0.0419 - val_loss: 0.0076 - 37ms/epoch - 19ms/step\n",
      "Epoch 89/100\n",
      "2/2 - 0s - loss: 0.0422 - val_loss: 0.0076 - 38ms/epoch - 19ms/step\n",
      "Epoch 90/100\n",
      "2/2 - 0s - loss: 0.0422 - val_loss: 0.0075 - 38ms/epoch - 19ms/step\n",
      "Epoch 91/100\n",
      "2/2 - 0s - loss: 0.0420 - val_loss: 0.0074 - 38ms/epoch - 19ms/step\n",
      "Epoch 92/100\n",
      "2/2 - 0s - loss: 0.0417 - val_loss: 0.0073 - 38ms/epoch - 19ms/step\n",
      "Epoch 93/100\n",
      "2/2 - 0s - loss: 0.0416 - val_loss: 0.0072 - 37ms/epoch - 18ms/step\n",
      "Epoch 94/100\n",
      "2/2 - 0s - loss: 0.0412 - val_loss: 0.0071 - 37ms/epoch - 18ms/step\n",
      "Epoch 95/100\n",
      "2/2 - 0s - loss: 0.0412 - val_loss: 0.0071 - 37ms/epoch - 19ms/step\n",
      "Epoch 96/100\n",
      "2/2 - 0s - loss: 0.0410 - val_loss: 0.0071 - 39ms/epoch - 19ms/step\n",
      "Epoch 97/100\n",
      "2/2 - 0s - loss: 0.0409 - val_loss: 0.0072 - 38ms/epoch - 19ms/step\n",
      "Epoch 98/100\n",
      "2/2 - 0s - loss: 0.0412 - val_loss: 0.0074 - 39ms/epoch - 19ms/step\n",
      "Epoch 99/100\n",
      "2/2 - 0s - loss: 0.0414 - val_loss: 0.0075 - 53ms/epoch - 27ms/step\n",
      "Epoch 100/100\n",
      "2/2 - 0s - loss: 0.0415 - val_loss: 0.0076 - 38ms/epoch - 19ms/step\n"
     ]
    }
   ],
   "source": [
    "# Train the model\n",
    "history = model.fit(train_sequences, train_target, epochs=100, batch_size=32, validation_data=(test_sequences, test_target), verbose=2)\n"
   ]
  },
  {
   "cell_type": "code",
   "execution_count": 429,
   "id": "7449bfcd-c0e5-4eed-80d6-3f157eda137b",
   "metadata": {
    "tags": []
   },
   "outputs": [
    {
     "name": "stdout",
     "output_type": "stream",
     "text": [
      "1/1 [==============================] - 0s 189ms/step\n"
     ]
    }
   ],
   "source": [
    "# Make predictions on the test set\n",
    "test_predictions = model.predict(test_sequences)"
   ]
  },
  {
   "cell_type": "code",
   "execution_count": 430,
   "id": "9154b16b-2ede-4af8-b292-679c3d4efd95",
   "metadata": {
    "tags": []
   },
   "outputs": [
    {
     "name": "stdout",
     "output_type": "stream",
     "text": [
      "[[0.        ]\n",
      " [0.        ]\n",
      " [0.        ]\n",
      " [0.03322259]\n",
      " [0.00166113]\n",
      " [0.00166113]\n",
      " [0.11627907]\n",
      " [0.12126246]\n",
      " [0.22093023]\n",
      " [0.        ]\n",
      " [0.18936877]]\n",
      "[[0.11495049]\n",
      " [0.11444807]\n",
      " [0.1259818 ]\n",
      " [0.1348385 ]\n",
      " [0.15058431]\n",
      " [0.14037865]]\n"
     ]
    }
   ],
   "source": [
    "print(f\"{scaled_test_data}\")\n",
    "print(f\"{test_predictions}\")"
   ]
  },
  {
   "cell_type": "code",
   "execution_count": 431,
   "id": "53e1e9b0-edcb-4cb7-87ce-099a90add1e2",
   "metadata": {
    "tags": []
   },
   "outputs": [],
   "source": [
    "# Inverse transform the predictions and target to the original scale\n",
    "test_predictions = scaler.inverse_transform(test_predictions)  # Exclude Precipitation column\n",
    "test_target_original = scaler.inverse_transform(test_target.reshape(-1, 1))\n"
   ]
  },
  {
   "cell_type": "code",
   "execution_count": 434,
   "id": "2c2f83f8-a6b4-4958-97e4-e1f0f2433327",
   "metadata": {},
   "outputs": [
    {
     "name": "stdout",
     "output_type": "stream",
     "text": [
      "Root Mean Squared Error (RMSE): 0.5233567222868267\n"
     ]
    }
   ],
   "source": [
    "# Calculate RMSE on the original scale\n",
    "rmse = np.sqrt(mean_squared_error(test_target_original, test_predictions))\n",
    "print(f\"Root Mean Squared Error (RMSE): {rmse}\")"
   ]
  },
  {
   "cell_type": "code",
   "execution_count": 435,
   "id": "acfd5943-c106-4b88-b393-b7e200c7fd17",
   "metadata": {
    "tags": []
   },
   "outputs": [
    {
     "data": {
      "image/png": "[encoded data removed]",
      "text/plain": [
       "<Figure size 640x480 with 1 Axes>"
      ]
     },
     "metadata": {},
     "output_type": "display_data"
    }
   ],
   "source": [
    "# Plot training & validation loss values\n",
    "plt.plot(history.history['loss'])\n",
    "plt.plot(history.history['val_loss'])\n",
    "plt.title('Model loss')\n",
    "plt.ylabel('Loss')\n",
    "plt.xlabel('Epoch')\n",
    "plt.legend(['Train', 'Test'], loc='upper right')\n",
    "plt.show()"
   ]
  },
  {
   "cell_type": "code",
   "execution_count": null,
   "id": "ef77b716-bf9a-480b-8463-c534497e00a4",
   "metadata": {},
   "outputs": [],
   "source": []
  }
 ],
 "metadata": {
  "kernelspec": {
   "display_name": "Python 3 (ipykernel)",
   "language": "python",
   "name": "python3"
  },
  "language_info": {
   "codemirror_mode": {
    "name": "ipython",
    "version": 3
   },
   "file_extension": ".py",
   "mimetype": "text/x-python",
   "name": "python",
   "nbconvert_exporter": "python",
   "pygments_lexer": "ipython3",
   "version": "3.9.18"
  }
 },
 "nbformat": 4,
 "nbformat_minor": 5
}
