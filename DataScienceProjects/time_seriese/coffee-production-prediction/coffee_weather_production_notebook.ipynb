{
 "cells": [
  {
   "cell_type": "markdown",
   "id": "0",
   "metadata": {},
   "source": [
    "# Coffee Production Forecast via Weather Data\n",
    "**Goal:** Fetch and visualize current-year weather (temperature, rainfall, anomalies) for major coffee-producing regions to estimate production trends.\n",
    "\n",
    "**Regions Covered:** Brazil, Vietnam, Colombia, India, Ethiopia, Honduras\n",
    "**Weather Variables:** Rainfall, Temperature (min, max), Solar Radiation, Soil Moisture\n",
    "**Data Sources:** NASA POWER API, NOAA, ERA5/ECMWF\n",
    "\n",
    "---"
   ]
  },
  {
   "cell_type": "code",
   "execution_count": null,
   "id": "1",
   "metadata": {},
   "outputs": [],
   "source": [
    "# Install required packages (uncomment if needed)\n",
    "# !pip install pandas numpy matplotlib seaborn requests xarray netCDF4 cartopy\n",
    "\n",
    "import pandas as pd\n",
    "import numpy as np\n",
    "import matplotlib.pyplot as plt\n",
    "import seaborn as sns\n",
    "import requests\n",
    "from datetime import date\n",
    "\n",
    "print('Packages imported. Ready to fetch weather data.')"
   ]
  },
  {
   "cell_type": "code",
   "execution_count": null,
   "id": "2",
   "metadata": {},
   "outputs": [],
   "source": [
    "# Define coffee-growing regions (approximate lat/lon bounding boxes)\n",
    "regions = {\n",
    "    'Brazil': {'lat_min': -25, 'lat_max': -5, 'lon_min': -55, 'lon_max': -35},\n",
    "    'Vietnam': {'lat_min': 10, 'lat_max': 23, 'lon_min': 102, 'lon_max': 110},\n",
    "    'Colombia': {'lat_min': -5, 'lat_max': 12, 'lon_min': -78, 'lon_max': -70},\n",
    "    'India': {'lat_min': 8, 'lat_max': 15, 'lon_min': 75, 'lon_max': 78},\n",
    "    'Ethiopia': {'lat_min': 5, 'lat_max': 15, 'lon_min': 33, 'lon_max': 48},\n",
    "    'Honduras': {'lat_min': 13, 'lat_max': 16, 'lon_min': -90, 'lon_max': -86},\n",
    "}\n",
    "print('Regions defined:', list(regions.keys()))"
   ]
  },
  {
   "cell_type": "code",
   "execution_count": null,
   "id": "3",
   "metadata": {},
   "outputs": [],
   "source": [
    "# Function to fetch daily weather data from NASA POWER API for a bounding box\n",
    "def fetch_nasa_power(region_name, start_date, end_date):\n",
    "    coords = regions[region_name]\n",
    "    base_url = 'https://power.larc.nasa.gov/api/temporal/daily/point'\n",
    "    # API requires single lat/lon; we take the center of region as proxy\n",
    "    lat = (coords['lat_min'] + coords['lat_max'])/2\n",
    "    lon = (coords['lon_min'] + coords['lon_max'])/2\n",
    "    parameters = 'T2M_MAX,T2M_MIN,PRECTOT'\n",
    "    url = f'{base_url}?parameters={parameters}&start={start_date}&end={end_date}&latitude={lat}&longitude={lon}&format=JSON'\n",
    "    response = requests.get(url)\n",
    "    if response.status_code == 200:\n",
    "        data = response.json()['properties']['parameter']\n",
    "        df = pd.DataFrame(data)\n",
    "        df.index = pd.to_datetime(df.index)\n",
    "        return df\n",
    "    else:\n",
    "        print('Error fetching data for', region_name)\n",
    "        return None\n",
    "\n",
    "# Example: fetch_nasa_power('Brazil', '20250101', '20250925')"
   ]
  },
  {
   "cell_type": "code",
   "execution_count": null,
   "id": "4",
   "metadata": {},
   "outputs": [],
   "source": [
    "# Compute anomalies vs historical average (example placeholder)\n",
    "def compute_anomaly(df, historical_mean):\n",
    "    # df and historical_mean must have same columns\n",
    "    anomaly = df - historical_mean\n",
    "    return anomaly\n",
    "\n",
    "# Example usage:\n",
    "# anomaly_df = compute_anomaly(current_year_df, historical_mean_df)"
   ]
  },
  {
   "cell_type": "code",
   "execution_count": null,
   "id": "5",
   "metadata": {},
   "outputs": [],
   "source": [
    "# Visualization example: rainfall anomaly over months\n",
    "def plot_rainfall_anomaly(df, region_name):\n",
    "    plt.figure(figsize=(10,4))\n",
    "    df['PRECTOT'].plot(kind='bar', color='teal')\n",
    "    plt.title(f'Rainfall anomaly - {region_name}')\n",
    "    plt.ylabel('mm/day anomaly')\n",
    "    plt.xlabel('Date')\n",
    "    plt.show()\n",
    "\n",
    "# Example usage:\n",
    "# plot_rainfall_anomaly(anomaly_df, 'Brazil')"
   ]
  },
  {
   "cell_type": "markdown",
   "id": "6",
   "metadata": {},
   "source": [
    "## Production Risk Index\n",
    "- Combine rainfall and temperature anomalies into a simple index:\n",
    "  - Positive rainfall/temperature anomaly → favorable\n",
    "  - Negative or extreme anomaly → risk of lower yield\n",
    "- Example formula (normalized 0-1):\n",
    "```python\n",
    "# risk_index = (abs(rain_anomaly) + abs(temp_anomaly)) / max_threshold\n",
    "```\n",
    "- Export index for each region as CSV for further ML modeling."
   ]
  },
  {
   "cell_type": "code",
   "execution_count": null,
   "id": "7",
   "metadata": {},
   "outputs": [],
   "source": [
    "# Export risk index / weather features to CSV\n",
    "# df_risk_index.to_csv('coffee_weather_risk_index.csv')\n",
    "print('Export ready.')"
   ]
  }
 ],
 "metadata": {},
 "nbformat": 4,
 "nbformat_minor": 5
}
