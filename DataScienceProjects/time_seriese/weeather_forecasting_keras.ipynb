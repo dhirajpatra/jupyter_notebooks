{
 "cells": [
  {
   "cell_type": "code",
   "execution_count": null,
   "id": "f9b1208b-72f1-4535-a4a5-9791a0426762",
   "metadata": {},
   "outputs": [],
   "source": [
    "import numpy as np\n",
    "import pandas as pd\n",
    "from sklearn.preprocessing import MinMaxScaler\n",
    "from keras.models import Sequential\n",
    "from keras.layers import LSTM, Dense\n",
    "# Load the dataset\n",
    "df = pd.read_csv('weather_data.csv')\n",
    "# Preprocess the data\n",
    "scaler = MinMaxScaler()\n",
    "df_scaled = scaler.fit_transform(df)\n",
    "# Split the data into training and testing sets\n",
    "train_size = int(len(df_scaled) * 0.8)\n",
    "train_df = df_scaled[:train_size]\n",
    "test_df = df_scaled[train_size:]\n",
    "# Build the model\n",
    "model = Sequential()\n",
    "model.add(LSTM(50, input_shape=(df_scaled.shape[1], 1)))\n",
    "model.add(Dense(1))\n",
    "model.compile(loss='mean_squared_error', optimizer='adam')\n",
    "# Train the model\n",
    "model.fit(train_df, epochs=100, batch_size=32)\n",
    "# Make predictions on the test set\n",
    "predictions = model.predict(test_df)\n",
    "# Evaluate the model\n",
    "mse = model.evaluate(test_df, verbose=0)\n",
    "print(f'MSE: {mse}')\n",
    "# Use the model to make forecasts\n",
    "forecasts = model.predict(np.array([[6.0, 4.0, 12.0, 7.0, 10.0]]))\n",
    "print(f'Forecast: {forecasts}')"
   ]
  }
 ],
 "metadata": {
  "kernelspec": {
   "display_name": "Python 3 (ipykernel)",
   "language": "python",
   "name": "python3"
  },
  "language_info": {
   "codemirror_mode": {
    "name": "ipython",
    "version": 3
   },
   "file_extension": ".py",
   "mimetype": "text/x-python",
   "name": "python",
   "nbconvert_exporter": "python",
   "pygments_lexer": "ipython3",
   "version": "3.9.18"
  }
 },
 "nbformat": 4,
 "nbformat_minor": 5
}
