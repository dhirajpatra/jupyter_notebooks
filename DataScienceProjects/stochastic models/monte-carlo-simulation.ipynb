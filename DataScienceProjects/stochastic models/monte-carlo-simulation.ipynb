{
 "cells": [
  {
   "cell_type": "code",
   "execution_count": null,
   "id": "0",
   "metadata": {},
   "outputs": [],
   "source": [
    "import numpy as np\n",
    "import matplotlib.pyplot as plt\n"
   ]
  },
  {
   "cell_type": "code",
   "execution_count": null,
   "id": "1",
   "metadata": {},
   "outputs": [],
   "source": [
    "def monte_carlo_stock_simulation(initial_price, drift, volatility, time_horizon_days, num_simulations):\n",
    "    \"\"\"\n",
    "    Simulates multiple stock price paths using a Monte Carlo simulation.\n",
    "\n",
    "    Args:\n",
    "        initial_price (float): The starting price of the stock.\n",
    "        drift (float): The average daily return (e.g., 0.0002 for 0.02%).\n",
    "        volatility (float): The daily standard deviation of returns.\n",
    "        time_horizon_days (int): The number of days to simulate.\n",
    "        num_simulations (int): The number of different price paths to generate.\n",
    "\n",
    "    Returns:\n",
    "        np.array: A 2D array where each row is a simulated price path.\n",
    "    \"\"\"\n",
    "    # Create an empty array to store the simulation results\n",
    "    price_paths = np.zeros((time_horizon_days, num_simulations))\n",
    "\n",
    "    # Set the first row of all simulations to the initial price\n",
    "    price_paths[0] = initial_price\n",
    "\n",
    "    # Generate daily returns for all simulations and all days\n",
    "    # The `np.random.normal` function creates random numbers from a normal distribution.\n",
    "    # We use the drift as the mean and volatility as the standard deviation.\n",
    "    # The size is (number of days - 1) because we already have the initial price.\n",
    "    daily_returns = np.random.normal(loc=drift, scale=volatility, size=(time_horizon_days - 1, num_simulations))\n",
    "\n",
    "    # Calculate the price for each day in each simulation\n",
    "    for t in range(1, time_horizon_days):\n",
    "        price_paths[t] = price_paths[t-1] * (1 + daily_returns[t-1])\n",
    "\n",
    "    return price_paths\n"
   ]
  },
  {
   "cell_type": "code",
   "execution_count": null,
   "id": "2",
   "metadata": {},
   "outputs": [],
   "source": [
    "# --- Simulation Parameters ---\n",
    "# The initial price of the stock (e.g., a stock trading at $100)\n",
    "S0 = 100\n",
    "\n",
    "# The average daily return. A 10% annual return is roughly 0.0004 per day.\n",
    "mu = 0.0004\n",
    "\n",
    "# The daily volatility (standard deviation). A 20% annual volatility is about 0.013 per day.\n",
    "sigma = 0.013\n",
    "\n",
    "# The number of days to simulate (e.g., 1 year of trading days)\n",
    "T = 252\n",
    "\n",
    "# The number of different scenarios (or \"drunkard's walks\") to simulate\n",
    "num_sims = 1000\n",
    "\n",
    "# Run the simulation\n",
    "simulated_paths = monte_carlo_stock_simulation(S0, mu, sigma, T, num_sims)\n"
   ]
  },
  {
   "cell_type": "code",
   "execution_count": null,
   "id": "3",
   "metadata": {},
   "outputs": [],
   "source": [
    "# --- Visualization ---\n",
    "plt.style.use('fivethirtyeight') # A clean plotting style\n",
    "plt.figure(figsize=(10, 6))\n",
    "\n",
    "# Plot each simulated price path\n",
    "for i in range(num_sims):\n",
    "    plt.plot(simulated_paths[:, i], alpha=0.3)\n",
    "\n",
    "# Plot the average path to show the general trend\n",
    "average_path = np.mean(simulated_paths, axis=1)\n",
    "plt.plot(average_path, color='blue', linewidth=3, label='Average Path')\n",
    "\n",
    "plt.title('Monte Carlo Simulation of Stock Price')\n",
    "plt.xlabel('Trading Days')\n",
    "plt.ylabel('Stock Price')\n",
    "plt.legend()\n",
    "plt.grid(True)\n",
    "plt.show()\n"
   ]
  },
  {
   "cell_type": "code",
   "execution_count": null,
   "id": "4",
   "metadata": {},
   "outputs": [],
   "source": [
    "print(f\"Initial Stock Price: ${S0:.2f}\")\n",
    "print(f\"Number of Simulated Paths: {num_sims}\")\n",
    "print(f\"Average final price: ${average_path[-1]:.2f}\")\n",
    "print(f\"Price range at the end of the simulation: ${simulated_paths[-1].min():.2f} to ${simulated_paths[-1].max():.2f}\")"
   ]
  },
  {
   "cell_type": "code",
   "execution_count": null,
   "id": "5",
   "metadata": {},
   "outputs": [],
   "source": []
  }
 ],
 "metadata": {
  "kernelspec": {
   "display_name": "Python 3 (ipykernel)",
   "language": "python",
   "name": "python3"
  },
  "language_info": {
   "codemirror_mode": {
    "name": "ipython",
    "version": 3
   },
   "file_extension": ".py",
   "mimetype": "text/x-python",
   "name": "python",
   "nbconvert_exporter": "python",
   "pygments_lexer": "ipython3",
   "version": "3.13.5"
  }
 },
 "nbformat": 4,
 "nbformat_minor": 5
}
