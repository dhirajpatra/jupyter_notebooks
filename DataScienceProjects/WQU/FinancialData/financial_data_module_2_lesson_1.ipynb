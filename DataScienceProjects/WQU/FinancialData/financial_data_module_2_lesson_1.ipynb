{
 "cells": [
  {
   "cell_type": "markdown",
   "metadata": {
    "id": "A_djuWRzMXkq"
   },
   "source": [
    "MODULE 2 | LESSON 1\n",
    "\n",
    "---\n"
   ]
  },
  {
   "cell_type": "markdown",
   "metadata": {
    "id": "Fi-OmvwW_t2z"
   },
   "source": [
    "# Financial Asset Data"
   ]
  },
  {
   "cell_type": "markdown",
   "metadata": {
    "id": "9PYOBbo8_t2z"
   },
   "source": [
    "|  |  |\n",
    "|:---|:---|\n",
    "|**Reading Time** |  60 minutes |\n",
    "|**Prior Knowledge** | Basic Python, Algebra|\n",
    "|**Keywords** | Stock, Bitcoin, Bond Prices, ETFs, Simple Returns, Analyzing and Charting Data in Python |\n",
    "\n",
    "---\n"
   ]
  },
  {
   "cell_type": "markdown",
   "metadata": {
    "id": "IjMXO9tB_t2z"
   },
   "source": [
    "*For the first lesson of this module, we will recap some of the concepts you learned during Financial Markets. We'll examine stocks, bonds, and cryptocurrency prices during this lesson. Finally, we will also demonstrate how to pull price data from Python and do some basic price analysis of equities, Bitcoin, and bond data. Then, we'll expand on what we learned with a few custom volatility metrics, along with how to program them in Python. We'll also focus on the risk, or volatility of returns, of financial assets.*"
   ]
  },
  {
   "cell_type": "code",
   "execution_count": 25,
   "metadata": {
    "id": "JKC_UqIi_t2z",
    "tags": []
   },
   "outputs": [],
   "source": [
    "import datetime\n",
    "import matplotlib.pyplot as plt\n",
    "import numpy as np\n",
    "import pandas as pd\n",
    "import seaborn as sns\n",
    "import yfinance as yfin\n",
    "\n",
    "from datetime import date\n",
    "\n",
    "pd.options.display.float_format = \"{:,.6f}\".format"
   ]
  },
  {
   "cell_type": "markdown",
   "metadata": {
    "id": "0HmLHlR9_t20"
   },
   "source": [
    "## **1. Pull Equities Data for Amazon and Ford, along with Bitcoin Data**\n",
    "\n",
    "The following code pulls five years of equity price data for Ford and Amazon along with the daily Bitcoin prices over the same time period. The reason we chose Ford and Amazon here is to give examples from different sectors. While Amazon has been around for a while now, it still represents a newer, popular tech stock while Ford is very much part of the old guard, trading publicly since 1956.\n",
    "\n",
    "This code snippet uses the `yfinance` library to download historical stock data for Amazon (AMZN), Ford (F), and Bitcoin (BTC-USD) and then adjusts the Amazon prices for the recent stock split.\n"
   ]
  },
  {
   "cell_type": "code",
   "execution_count": 26,
   "metadata": {
    "colab": {
     "base_uri": "https://localhost:8080/",
     "height": 472
    },
    "executionInfo": {
     "elapsed": 723,
     "status": "ok",
     "timestamp": 1729525405906,
     "user": {
      "displayName": "Tea Toradze",
      "userId": "13683888799925082799"
     },
     "user_tz": -60
    },
    "id": "3Oph2vkk_t20",
    "outputId": "ce3646ef-692d-43e4-aa86-747c4ae36d1e",
    "tags": []
   },
   "outputs": [
    {
     "name": "stderr",
     "output_type": "stream",
     "text": [
      "[*********************100%***********************]  3 of 3 completed\n"
     ]
    },
    {
     "data": {
      "text/html": [
       "<div>\n",
       "<style scoped>\n",
       "    .dataframe tbody tr th:only-of-type {\n",
       "        vertical-align: middle;\n",
       "    }\n",
       "\n",
       "    .dataframe tbody tr th {\n",
       "        vertical-align: top;\n",
       "    }\n",
       "\n",
       "    .dataframe thead th {\n",
       "        text-align: right;\n",
       "    }\n",
       "</style>\n",
       "<table border=\"1\" class=\"dataframe\">\n",
       "  <thead>\n",
       "    <tr style=\"text-align: right;\">\n",
       "      <th>Ticker</th>\n",
       "      <th>AMZN</th>\n",
       "      <th>BTC-USD</th>\n",
       "      <th>F</th>\n",
       "    </tr>\n",
       "    <tr>\n",
       "      <th>Date</th>\n",
       "      <th></th>\n",
       "      <th></th>\n",
       "      <th></th>\n",
       "    </tr>\n",
       "  </thead>\n",
       "  <tbody>\n",
       "    <tr>\n",
       "      <th>2019-08-01 00:00:00+00:00</th>\n",
       "      <td>1,855.319977</td>\n",
       "      <td>10,399.668945</td>\n",
       "      <td>7.107781</td>\n",
       "    </tr>\n",
       "    <tr>\n",
       "      <th>2019-08-02 00:00:00+00:00</th>\n",
       "      <td>1,823.240051</td>\n",
       "      <td>10,518.174805</td>\n",
       "      <td>7.084878</td>\n",
       "    </tr>\n",
       "    <tr>\n",
       "      <th>2019-08-03 00:00:00+00:00</th>\n",
       "      <td>NaN</td>\n",
       "      <td>10,821.726562</td>\n",
       "      <td>NaN</td>\n",
       "    </tr>\n",
       "    <tr>\n",
       "      <th>2019-08-04 00:00:00+00:00</th>\n",
       "      <td>NaN</td>\n",
       "      <td>10,970.184570</td>\n",
       "      <td>NaN</td>\n",
       "    </tr>\n",
       "    <tr>\n",
       "      <th>2019-08-05 00:00:00+00:00</th>\n",
       "      <td>1,765.130005</td>\n",
       "      <td>11,805.653320</td>\n",
       "      <td>7.046706</td>\n",
       "    </tr>\n",
       "    <tr>\n",
       "      <th>...</th>\n",
       "      <td>...</td>\n",
       "      <td>...</td>\n",
       "      <td>...</td>\n",
       "    </tr>\n",
       "    <tr>\n",
       "      <th>2024-07-27 00:00:00+00:00</th>\n",
       "      <td>NaN</td>\n",
       "      <td>67,813.335938</td>\n",
       "      <td>NaN</td>\n",
       "    </tr>\n",
       "    <tr>\n",
       "      <th>2024-07-28 00:00:00+00:00</th>\n",
       "      <td>NaN</td>\n",
       "      <td>68,255.867188</td>\n",
       "      <td>NaN</td>\n",
       "    </tr>\n",
       "    <tr>\n",
       "      <th>2024-07-29 00:00:00+00:00</th>\n",
       "      <td>183.199997</td>\n",
       "      <td>66,819.914062</td>\n",
       "      <td>10.357336</td>\n",
       "    </tr>\n",
       "    <tr>\n",
       "      <th>2024-07-30 00:00:00+00:00</th>\n",
       "      <td>181.710007</td>\n",
       "      <td>66,201.015625</td>\n",
       "      <td>10.197413</td>\n",
       "    </tr>\n",
       "    <tr>\n",
       "      <th>2024-07-31 00:00:00+00:00</th>\n",
       "      <td>186.979996</td>\n",
       "      <td>64,619.250000</td>\n",
       "      <td>10.178599</td>\n",
       "    </tr>\n",
       "  </tbody>\n",
       "</table>\n",
       "<p>1827 rows × 3 columns</p>\n",
       "</div>"
      ],
      "text/plain": [
       "Ticker                            AMZN       BTC-USD         F\n",
       "Date                                                          \n",
       "2019-08-01 00:00:00+00:00 1,855.319977 10,399.668945  7.107781\n",
       "2019-08-02 00:00:00+00:00 1,823.240051 10,518.174805  7.084878\n",
       "2019-08-03 00:00:00+00:00          NaN 10,821.726562       NaN\n",
       "2019-08-04 00:00:00+00:00          NaN 10,970.184570       NaN\n",
       "2019-08-05 00:00:00+00:00 1,765.130005 11,805.653320  7.046706\n",
       "...                                ...           ...       ...\n",
       "2024-07-27 00:00:00+00:00          NaN 67,813.335938       NaN\n",
       "2024-07-28 00:00:00+00:00          NaN 68,255.867188       NaN\n",
       "2024-07-29 00:00:00+00:00   183.199997 66,819.914062 10.357336\n",
       "2024-07-30 00:00:00+00:00   181.710007 66,201.015625 10.197413\n",
       "2024-07-31 00:00:00+00:00   186.979996 64,619.250000 10.178599\n",
       "\n",
       "[1827 rows x 3 columns]"
      ]
     },
     "execution_count": 26,
     "metadata": {},
     "output_type": "execute_result"
    }
   ],
   "source": [
    "# Starting and end dates\n",
    "start = datetime.date(2019, 8, 1)\n",
    "end = datetime.date(2024, 8, 1)\n",
    "\n",
    "# Get Amazon, Ford and Bitcoin data\n",
    "df = yfin.download([\"AMZN\", \"F\", \"BTC-USD\"], start, end, auto_adjust = False)[\"Adj Close\"]\n",
    "\n",
    "# Convert DataFrame index to timezone-aware (UTC)\n",
    "df.index = df.index.tz_localize('UTC')\n",
    "\n",
    "# Define split date as a timezone-aware timestamp\n",
    "split_date = pd.Timestamp(datetime.date(2022, 6, 6)).tz_localize('UTC')  # Date of the stock split\n",
    "split_ratio = 20\n",
    "\n",
    "# Adjust AMZN prices only before the split date\n",
    "for i in range(len(df[\"AMZN\"])):\n",
    "  if df[\"AMZN\"].index[i] < split_date:\n",
    "    df.loc[df[\"AMZN\"].index[i], \"AMZN\"] = df.loc[df[\"AMZN\"].index[i], \"AMZN\"] * split_ratio\n",
    "df"
   ]
  },
  {
   "cell_type": "markdown",
   "metadata": {
    "id": "kAyM3AId_t20"
   },
   "source": [
    "Please note that there are lines that specifically relate to the Amazon stock split that occurred on June 6, 2022.\n",
    "\n",
    " - `split_date = pd.Timestamp(datetime.date(2022, 6, 6)).tz_localize('UTC')`: This line stores the date when the Amazon stock split happened.\n",
    " - `split_ratio = 20`: This line stores the ratio of the stock split, which was 20-for-1 in this case.\n",
    "\n",
    "**What does a 20-for-1 stock split mean?**\n",
    "A stock split is when a company increases the number of outstanding shares of its stock by issuing more shares to current shareholders. In a 20-for-1 split, for every share an investor owns, they receive 19 additional shares. This doesn't change the total value of the investor's holdings, but it does decrease the price per share.\n",
    "\n",
    "**Why do we adjust for the stock split?**\n",
    "When analyzing historical stock data, it's important to adjust for stock splits to avoid inconsistencies. If we don't adjust, it would look like the stock price suddenly dropped on the split date, which could lead to inaccurate analysis.\n",
    "\n",
    "In the code, we use split_date and split_ratio to adjust the historical prices of Amazon before the split date. We divide the prices by the split ratio (20 in this case) to reflect the change in the number of shares. This ensures that the historical data is consistent and comparable across the entire date range.\n",
    "\n",
    "If you are analyzing a different stock or using a different dataset, make sure to check if any stock splits occurred and adjust the code accordingly.\n"
   ]
  },
  {
   "cell_type": "markdown",
   "metadata": {
    "id": "lIZ4KHow_t21",
    "tags": []
   },
   "source": [
    "### **1.1 Taking a Look at the Data**\n",
    "\n",
    "Unless you're extremely familiar with the dataset you're working with, it's almost always a good idea to look at the first few rows of data to get an idea of how it looks. We can accomplish this using the *head()* method. You can pass a numerical parameter in this (for example, 10), and it will return the top 10 rows of the data set. By default, it returns the first five."
   ]
  },
  {
   "cell_type": "code",
   "execution_count": 27,
   "metadata": {
    "colab": {
     "base_uri": "https://localhost:8080/",
     "height": 394
    },
    "executionInfo": {
     "elapsed": 243,
     "status": "ok",
     "timestamp": 1729525413847,
     "user": {
      "displayName": "Tea Toradze",
      "userId": "13683888799925082799"
     },
     "user_tz": -60
    },
    "id": "rD95kcmF_t21",
    "outputId": "448f4bea-e376-49bc-de54-2581f6228359",
    "tags": []
   },
   "outputs": [
    {
     "data": {
      "text/html": [
       "<div>\n",
       "<style scoped>\n",
       "    .dataframe tbody tr th:only-of-type {\n",
       "        vertical-align: middle;\n",
       "    }\n",
       "\n",
       "    .dataframe tbody tr th {\n",
       "        vertical-align: top;\n",
       "    }\n",
       "\n",
       "    .dataframe thead th {\n",
       "        text-align: right;\n",
       "    }\n",
       "</style>\n",
       "<table border=\"1\" class=\"dataframe\">\n",
       "  <thead>\n",
       "    <tr style=\"text-align: right;\">\n",
       "      <th>Ticker</th>\n",
       "      <th>AMZN</th>\n",
       "      <th>BTC-USD</th>\n",
       "      <th>F</th>\n",
       "    </tr>\n",
       "    <tr>\n",
       "      <th>Date</th>\n",
       "      <th></th>\n",
       "      <th></th>\n",
       "      <th></th>\n",
       "    </tr>\n",
       "  </thead>\n",
       "  <tbody>\n",
       "    <tr>\n",
       "      <th>2019-08-01 00:00:00+00:00</th>\n",
       "      <td>1,855.319977</td>\n",
       "      <td>10,399.668945</td>\n",
       "      <td>7.107781</td>\n",
       "    </tr>\n",
       "    <tr>\n",
       "      <th>2019-08-02 00:00:00+00:00</th>\n",
       "      <td>1,823.240051</td>\n",
       "      <td>10,518.174805</td>\n",
       "      <td>7.084878</td>\n",
       "    </tr>\n",
       "    <tr>\n",
       "      <th>2019-08-03 00:00:00+00:00</th>\n",
       "      <td>NaN</td>\n",
       "      <td>10,821.726562</td>\n",
       "      <td>NaN</td>\n",
       "    </tr>\n",
       "    <tr>\n",
       "      <th>2019-08-04 00:00:00+00:00</th>\n",
       "      <td>NaN</td>\n",
       "      <td>10,970.184570</td>\n",
       "      <td>NaN</td>\n",
       "    </tr>\n",
       "    <tr>\n",
       "      <th>2019-08-05 00:00:00+00:00</th>\n",
       "      <td>1,765.130005</td>\n",
       "      <td>11,805.653320</td>\n",
       "      <td>7.046706</td>\n",
       "    </tr>\n",
       "    <tr>\n",
       "      <th>2019-08-06 00:00:00+00:00</th>\n",
       "      <td>1,787.830048</td>\n",
       "      <td>11,478.168945</td>\n",
       "      <td>7.237567</td>\n",
       "    </tr>\n",
       "    <tr>\n",
       "      <th>2019-08-07 00:00:00+00:00</th>\n",
       "      <td>1,793.399963</td>\n",
       "      <td>11,941.968750</td>\n",
       "      <td>7.275742</td>\n",
       "    </tr>\n",
       "    <tr>\n",
       "      <th>2019-08-08 00:00:00+00:00</th>\n",
       "      <td>1,832.890015</td>\n",
       "      <td>11,966.407227</td>\n",
       "      <td>7.298647</td>\n",
       "    </tr>\n",
       "    <tr>\n",
       "      <th>2019-08-09 00:00:00+00:00</th>\n",
       "      <td>1,807.579956</td>\n",
       "      <td>11,862.936523</td>\n",
       "      <td>7.214666</td>\n",
       "    </tr>\n",
       "    <tr>\n",
       "      <th>2019-08-10 00:00:00+00:00</th>\n",
       "      <td>NaN</td>\n",
       "      <td>11,354.024414</td>\n",
       "      <td>NaN</td>\n",
       "    </tr>\n",
       "  </tbody>\n",
       "</table>\n",
       "</div>"
      ],
      "text/plain": [
       "Ticker                            AMZN       BTC-USD        F\n",
       "Date                                                         \n",
       "2019-08-01 00:00:00+00:00 1,855.319977 10,399.668945 7.107781\n",
       "2019-08-02 00:00:00+00:00 1,823.240051 10,518.174805 7.084878\n",
       "2019-08-03 00:00:00+00:00          NaN 10,821.726562      NaN\n",
       "2019-08-04 00:00:00+00:00          NaN 10,970.184570      NaN\n",
       "2019-08-05 00:00:00+00:00 1,765.130005 11,805.653320 7.046706\n",
       "2019-08-06 00:00:00+00:00 1,787.830048 11,478.168945 7.237567\n",
       "2019-08-07 00:00:00+00:00 1,793.399963 11,941.968750 7.275742\n",
       "2019-08-08 00:00:00+00:00 1,832.890015 11,966.407227 7.298647\n",
       "2019-08-09 00:00:00+00:00 1,807.579956 11,862.936523 7.214666\n",
       "2019-08-10 00:00:00+00:00          NaN 11,354.024414      NaN"
      ]
     },
     "execution_count": 27,
     "metadata": {},
     "output_type": "execute_result"
    }
   ],
   "source": [
    "df.head(10)"
   ]
  },
  {
   "cell_type": "markdown",
   "metadata": {
    "id": "2gM4CAi__t21"
   },
   "source": [
    "Other methods are `df.tail(n)` with an argument indicating the last `n` rows of dataset or just running the `df` command to get the first 5 rows and last 5 rows of the dataset.\n",
    "\n",
    "In our example above, right off the bat, we can see that it was a smart idea to take a look at this data first. Can you guess why we have null values here?\n",
    "\n",
    "The answer is that simple equities only trade Monday through Friday, which means there's no price data available on the weekends. Bitcoin does not have this same characteristic as it trades seven days a week, which is why 2019-08-03 and 2019-08-04 are populated in this case."
   ]
  },
  {
   "cell_type": "markdown",
   "metadata": {
    "id": "HKVyAdPL_t21"
   },
   "source": [
    "### **1.2 Digging a Little Deeper into the Data**\n",
    "\n",
    "We can use the pandas *describe()* method to show summary stats of our data. We can see that Bitcoin has a much higher number of observations (count) than our two stocks, which, as just discussed, is because stocks are not traded on weekends. The other summary stats are relatively basic, like mean and standard deviation along with showing minimum, maximum, and a few quantiles. This might be something you're interested in, but it is hard to compare these investments with this data alone since each asset had a different starting price five years ago. For a better comparison, we will have to examine returns in more depth in an upcoming lesson."
   ]
  },
  {
   "cell_type": "code",
   "execution_count": 28,
   "metadata": {
    "colab": {
     "base_uri": "https://localhost:8080/",
     "height": 300
    },
    "executionInfo": {
     "elapsed": 225,
     "status": "ok",
     "timestamp": 1729525469324,
     "user": {
      "displayName": "Tea Toradze",
      "userId": "13683888799925082799"
     },
     "user_tz": -60
    },
    "id": "O_ZbmZy__t23",
    "outputId": "6d658afe-0f43-41fe-e9ea-d1a3c040db09",
    "tags": []
   },
   "outputs": [
    {
     "data": {
      "text/html": [
       "<div>\n",
       "<style scoped>\n",
       "    .dataframe tbody tr th:only-of-type {\n",
       "        vertical-align: middle;\n",
       "    }\n",
       "\n",
       "    .dataframe tbody tr th {\n",
       "        vertical-align: top;\n",
       "    }\n",
       "\n",
       "    .dataframe thead th {\n",
       "        text-align: right;\n",
       "    }\n",
       "</style>\n",
       "<table border=\"1\" class=\"dataframe\">\n",
       "  <thead>\n",
       "    <tr style=\"text-align: right;\">\n",
       "      <th>Ticker</th>\n",
       "      <th>AMZN</th>\n",
       "      <th>BTC-USD</th>\n",
       "      <th>F</th>\n",
       "    </tr>\n",
       "  </thead>\n",
       "  <tbody>\n",
       "    <tr>\n",
       "      <th>count</th>\n",
       "      <td>1,258.000000</td>\n",
       "      <td>1,827.000000</td>\n",
       "      <td>1,258.000000</td>\n",
       "    </tr>\n",
       "    <tr>\n",
       "      <th>mean</th>\n",
       "      <td>1,660.568330</td>\n",
       "      <td>30,854.084965</td>\n",
       "      <td>9.823950</td>\n",
       "    </tr>\n",
       "    <tr>\n",
       "      <th>std</th>\n",
       "      <td>1,409.699586</td>\n",
       "      <td>18,350.840533</td>\n",
       "      <td>2.989040</td>\n",
       "    </tr>\n",
       "    <tr>\n",
       "      <th>min</th>\n",
       "      <td>81.820000</td>\n",
       "      <td>4,970.788086</td>\n",
       "      <td>3.164624</td>\n",
       "    </tr>\n",
       "    <tr>\n",
       "      <th>25%</th>\n",
       "      <td>135.307495</td>\n",
       "      <td>13,602.354004</td>\n",
       "      <td>7.132037</td>\n",
       "    </tr>\n",
       "    <tr>\n",
       "      <th>50%</th>\n",
       "      <td>1,807.709961</td>\n",
       "      <td>28,033.562500</td>\n",
       "      <td>10.371441</td>\n",
       "    </tr>\n",
       "    <tr>\n",
       "      <th>75%</th>\n",
       "      <td>3,161.874924</td>\n",
       "      <td>43,593.824219</td>\n",
       "      <td>11.503030</td>\n",
       "    </tr>\n",
       "    <tr>\n",
       "      <th>max</th>\n",
       "      <td>3,731.409912</td>\n",
       "      <td>73,083.500000</td>\n",
       "      <td>19.979620</td>\n",
       "    </tr>\n",
       "  </tbody>\n",
       "</table>\n",
       "</div>"
      ],
      "text/plain": [
       "Ticker         AMZN       BTC-USD            F\n",
       "count  1,258.000000  1,827.000000 1,258.000000\n",
       "mean   1,660.568330 30,854.084965     9.823950\n",
       "std    1,409.699586 18,350.840533     2.989040\n",
       "min       81.820000  4,970.788086     3.164624\n",
       "25%      135.307495 13,602.354004     7.132037\n",
       "50%    1,807.709961 28,033.562500    10.371441\n",
       "75%    3,161.874924 43,593.824219    11.503030\n",
       "max    3,731.409912 73,083.500000    19.979620"
      ]
     },
     "execution_count": 28,
     "metadata": {},
     "output_type": "execute_result"
    }
   ],
   "source": [
    "df.describe()"
   ]
  },
  {
   "cell_type": "markdown",
   "metadata": {
    "id": "aWVAxY9k_t23"
   },
   "source": [
    "### **1.3 Charting Prices over 2023**\n",
    "\n",
    "If we ever want to get a quick plot of the DataFrame's data, we can use the aptly named `plot()` method. As shown below, to chart the 2023 returns of these three assets:"
   ]
  },
  {
   "cell_type": "code",
   "execution_count": 29,
   "metadata": {
    "colab": {
     "base_uri": "https://localhost:8080/",
     "height": 635
    },
    "executionInfo": {
     "elapsed": 1546,
     "status": "ok",
     "timestamp": 1729525489063,
     "user": {
      "displayName": "Tea Toradze",
      "userId": "13683888799925082799"
     },
     "user_tz": -60
    },
    "id": "7BlDBeAS_t23",
    "outputId": "d044ad05-f30e-4af9-de6f-7ba04567cc4b",
    "tags": []
   },
   "outputs": [
    {
     "data": {
      "image/png": "[encoded data removed]",
      "text/plain": [
       "<Figure size 1300x700 with 3 Axes>"
      ]
     },
     "metadata": {},
     "output_type": "display_data"
    }
   ],
   "source": [
    "# Create the figure.\n",
    "# We want a plot where the three assets have the same index (x-axis) but different scale (y-axis)\n",
    "fig = plt.figure(figsize=(13, 7))\n",
    "ax1 = fig.add_subplot(111)\n",
    "ax2 = ax1.twinx()\n",
    "ax3 = ax1.twinx()\n",
    "\n",
    "# Plot the data\n",
    "df[\"2023-01-01\":\"2023-12-31\"].plot(ax=ax1, y='AMZN', legend=True)\n",
    "df[\"2023-01-01\":\"2023-12-31\"].plot(ax=ax2, y='BTC-USD', legend=True, color='g')\n",
    "df[\"2023-01-01\":\"2023-12-31\"].plot(ax=ax3, y='F', legend=True, color='r')\n",
    "\n",
    "# We set the labels to the axes\n",
    "ax1.set_ylabel('AMZN')\n",
    "ax2.set_ylabel('BTC-USD')\n",
    "ax3.set_ylabel('F')\n",
    "ax3.spines['right'].set_position(('outward', 60))\n",
    "\n",
    "# Set position of legends\n",
    "ax1.legend(['AMZN'], loc='upper left')\n",
    "ax2.legend(['BTC-USD'], loc='upper left', bbox_to_anchor=(0, 0.95))\n",
    "ax3.legend(['F'], loc='upper left', bbox_to_anchor=(0, 0.9))\n",
    "\n",
    "plt.show()\n"
   ]
  },
  {
   "cell_type": "markdown",
   "metadata": {
    "id": "li1kR7sR_t24"
   },
   "source": [
    "The above code and chart demonstrate how we can easily pass in a date range to the plot method in order to chart a subset of the data. If no date range is supplied, by default, the plot will encapsulate the entire dataset. This code snippet creates a figure with three subplots that share the same x-axis (date) but have different y-axes to plot the prices of Amazon (AMZN), Bitcoin (BTC-USD), and Ford (F) for the year 2023. This approach allows us to visualize the price trends of three different assets with varying scales on the same plot. However, the chart also illustrates why using price alone is not ideal for comparing two assets. The scale of Bitcoin's price versus a low-price stock like Ford makes it very hard to compare the two when deciding which stock is better to invest in.\n",
    "\n"
   ]
  },
  {
   "cell_type": "markdown",
   "metadata": {
    "id": "L6LsFY8v_t24"
   },
   "source": [
    "## **2. Calculating Return on Investment**\n",
    "\n",
    "If we invested **\\$1,000** into each of these assets five years ago, how much money would we have today? To answer this question, we first need to determine how many shares of each stock we could buy with **\\$1,000** at the start of our date range. For the purposes of this exercise, we will use **01/08/2019** as our starting point because i\n",
    "\n",
    "\n",
    "From our data above, we can see the starting prices of AMZN, F, and Bitcoin. We can also have the values of the first row for each ticker stored in individual variables, which we can then use for further calculations or analysis. We will do this in the following code. We also need to divide **\\$1,000** by each of these numbers to see how many shares we will have:"
   ]
  },
  {
   "cell_type": "code",
   "execution_count": 30,
   "metadata": {
    "colab": {
     "base_uri": "https://localhost:8080/"
    },
    "executionInfo": {
     "elapsed": 233,
     "status": "ok",
     "timestamp": 1729525524791,
     "user": {
      "displayName": "Tea Toradze",
      "userId": "13683888799925082799"
     },
     "user_tz": -60
    },
    "id": "tTnrVxZw_t24",
    "outputId": "f86ebe5b-c781-4d17-c2f5-bb50f5e1d759",
    "tags": []
   },
   "outputs": [
    {
     "name": "stdout",
     "output_type": "stream",
     "text": [
      "Purchase price of AMZN: 1855.32\n",
      "Purchase price of F: 7.108\n",
      "Purchase price of BTC-USD: 10399.669\n",
      " - - - - - - - - - -\n",
      "Number of shares of AMZN: 0.539\n",
      "Number of shares of F: 140.691\n",
      "Number of shares of BTC-USD: 0.096\n"
     ]
    }
   ],
   "source": [
    "# Access the first row of the DataFrame\n",
    "first_row = df.iloc[0]\n",
    "\n",
    "# Assign price values to variables\n",
    "amzn_price = first_row[\"AMZN\"]\n",
    "f_price = first_row[\"F\"]\n",
    "btc_price = first_row[\"BTC-USD\"]\n",
    "\n",
    "# Print price values\n",
    "print(\"Purchase price of AMZN:\", np.round(amzn_price, 3))\n",
    "print(\"Purchase price of F:\", np.round(f_price, 3))\n",
    "print(\"Purchase price of BTC-USD:\", np.round(btc_price, 3))\n",
    "print(\" - - - - - - - - - -\")\n",
    "\n",
    "# Divide $1,000 by each of price values to get number of shares\n",
    "amzn_shares = 1000 / amzn_price\n",
    "f_shares = 1000 / f_price\n",
    "btc_shares = 1000 / btc_price\n",
    "\n",
    "# Print number of shares for each ticker\n",
    "print(\"Number of shares of AMZN:\", np.round(amzn_shares, 3))\n",
    "print(\"Number of shares of F:\", np.round(f_shares, 3))\n",
    "print(\"Number of shares of BTC-USD:\", np.round(btc_shares, 3))\n"
   ]
  },
  {
   "cell_type": "markdown",
   "metadata": {
    "id": "oEjukDAL_t24"
   },
   "source": [
    "It's a relatively recent phenomenon that retail brokers offer fractional shares, but this tends to be the case nowadays for most commonly used brokers. For this exercise, we will assume we can have fractional shares.\n",
    "\n",
    "Now, to determine how much money we would have today, we look at the most recent date in our dataset (31/07/2024), get the prices of each asset, and multiply our number of shares by this number. We can find this by looking at the bottom of our dataset in using the *tail()* method. Alternatively, we can also program asset value computations:"
   ]
  },
  {
   "cell_type": "code",
   "execution_count": 31,
   "metadata": {
    "colab": {
     "base_uri": "https://localhost:8080/"
    },
    "executionInfo": {
     "elapsed": 232,
     "status": "ok",
     "timestamp": 1729525537518,
     "user": {
      "displayName": "Tea Toradze",
      "userId": "13683888799925082799"
     },
     "user_tz": -60
    },
    "id": "_xVIaezt_t24",
    "outputId": "ee56f75c-6678-4293-a30d-ecfbf9e87265"
   },
   "outputs": [
    {
     "name": "stdout",
     "output_type": "stream",
     "text": [
      "End price of AMZN: 186.98\n",
      "End price of F: 10.179\n",
      "End price of BTC-USD: 64619.25\n",
      " - - - - - - - - - -\n",
      "Holding value of AMZN: 2015.609\n",
      "Holding value of F: 1432.036\n",
      "Holding value of BTC-USD: 6213.587\n"
     ]
    }
   ],
   "source": [
    "# Get last date values from df\n",
    "last_row = df.iloc[-1]\n",
    "\n",
    "# Assign end date price values to variables\n",
    "amzn_price_end = last_row[\"AMZN\"]\n",
    "f_price_end = last_row[\"F\"]\n",
    "btc_price_end = last_row[\"BTC-USD\"]\n",
    "\n",
    "# Print end date prices\n",
    "print(\"End price of AMZN:\", np.round(amzn_price_end, 3))\n",
    "print(\"End price of F:\", np.round(f_price_end, 3))\n",
    "print(\"End price of BTC-USD:\", np.round(btc_price_end, 3))\n",
    "print(\" - - - - - - - - - -\")\n",
    "\n",
    "# Compute end date values for each ticker\n",
    "amzn_value = amzn_price_end * amzn_shares *20  # need 20 times multiple due to stock split\n",
    "f_value = f_price_end * f_shares\n",
    "btc_value = btc_price_end * btc_shares\n",
    "\n",
    "# Print end date values\n",
    "print(\"Holding value of AMZN:\", np.round(amzn_value, 3))\n",
    "print(\"Holding value of F:\", np.round(f_value, 3))\n",
    "print(\"Holding value of BTC-USD:\", np.round(btc_value, 3))\n"
   ]
  },
  {
   "cell_type": "markdown",
   "metadata": {
    "id": "Gm17Ygiu_t25"
   },
   "source": [
    "The investment spend was \\$1000 for each ticker. Now based on the computation results above, it seems that our investments have performed differently:\n",
    "\n",
    " - AMZN: Our Amazon investment has more than doubled, indicating a significant gain.\n",
    " - F: Our Ford investment has also grown, showing a decent return.\n",
    " - BTC-USD: Our Bitcoin investment has increased by more than six times, suggesting a substantial profit.\n",
    "\n",
    "However, it's important to remember that these are just the final values and don't tell the whole story. To get a clearer picture of investment performance, we need to consider:\n",
    " - Timeframe: We need to know the timeframe of this investment to assess the returns accurately. Short-term fluctuations are normal, while long-term trends are more indicative of overall performance.\n",
    " - External Factors: Market volatility, economic conditions, and company-specific news can significantly impact stock prices.\n",
    " - Investment Strategy: Your individual investment goals and risk tolerance should guide your decisions."
   ]
  },
  {
   "cell_type": "markdown",
   "metadata": {
    "id": "OQCRVFsM_t25"
   },
   "source": [
    "These assets were relatively easy to compare here since we started with \\\\$1,000 in each. If we had started with different values, we would need to calculate the returns for an apples-to-apples comparison. In a future lesson, we will go over simple and log returns, but for convenience, we will use simple returns:\n",
    "\n",
    "Simple Returns Formula\n",
    "\n",
    "$$R_{simple} = \\frac{p_{_1} - p_{_0}}{p_{_0}}$$\n",
    "\n",
    "where $p_{_1}$ = final value, $p_{_0}$ = initial value\n",
    "\n",
    "This will be easy in our case since \\$1,000 is the initial value in all three situations."
   ]
  },
  {
   "cell_type": "code",
   "execution_count": 32,
   "metadata": {
    "colab": {
     "base_uri": "https://localhost:8080/"
    },
    "executionInfo": {
     "elapsed": 217,
     "status": "ok",
     "timestamp": 1729525617563,
     "user": {
      "displayName": "Tea Toradze",
      "userId": "13683888799925082799"
     },
     "user_tz": -60
    },
    "id": "VDTWhyA__t25",
    "outputId": "282cd780-7664-4dc5-8a6f-0271de55f7ca"
   },
   "outputs": [
    {
     "name": "stdout",
     "output_type": "stream",
     "text": [
      "Simple return of AMZN: 101.561 %\n",
      "Simple return of F: 43.204 %\n",
      "Simple return of BTC-USD: 521.359 %\n"
     ]
    }
   ],
   "source": [
    "# Compute simple returns\n",
    "amzn_return = (amzn_value - 1000) / 1000\n",
    "f_return = (f_value - 1000) / 1000\n",
    "btc_return = (btc_value - 1000) / 1000\n",
    "\n",
    "# Print the returns\n",
    "print(\"Simple return of AMZN:\", np.round(amzn_return * 100, 3), \"%\")\n",
    "print(\"Simple return of F:\", np.round(f_return * 100, 3), \"%\")\n",
    "print(\"Simple return of BTC-USD:\", np.round(btc_return * 100, 3), \"%\")\n"
   ]
  },
  {
   "cell_type": "markdown",
   "metadata": {
    "id": "vQ0Gk8zV_t25"
   },
   "source": [
    "Bitcoin's return here is off the charts compared to the other two assets. Bitcoin is a relatively new — some would even say riskier — asset than the other two. Higher risk equals higher potential for rewards, and thus far, investing in Bitcoin has paid off handsomely.\n"
   ]
  },
  {
   "cell_type": "markdown",
   "metadata": {
    "id": "T2Xh9pLI_t26"
   },
   "source": [
    "##  **3. Comparing Equities and Bitcoin to Bonds**\n",
    "\n",
    "Let's introduce one more asset class here: bonds. As you recall from the Financial Markets class, bonds not only have the return of principal, but they also return a coupon, usually annually or quarterly. To simplify things, we will use an exchange-traded fund (ETF), which tracks bonds. The ETF is the Vanguard Long-Term Bond Index Fund ETF or BLV for short. This fund intends to track the performance of the Bloomberg Barclays U.S. Long Government/Credit Float Adjusted Index. This index includes investment grade corporate, U.S. government, and international dollar-denominated bonds that have maturities greater than 10 years. At least 80% of the fund's total assets will be invested in bonds held in the index mentioned above (Vanguard).\n",
    "\n",
    "The following code snippet will pull BLV data and join it with our current DataFrame, df."
   ]
  },
  {
   "cell_type": "code",
   "execution_count": 33,
   "metadata": {
    "colab": {
     "base_uri": "https://localhost:8080/",
     "height": 472
    },
    "executionInfo": {
     "elapsed": 262,
     "status": "ok",
     "timestamp": 1729525685968,
     "user": {
      "displayName": "Tea Toradze",
      "userId": "13683888799925082799"
     },
     "user_tz": -60
    },
    "id": "kT5txJPg_t26",
    "outputId": "6b9b4829-ecd4-45ac-c231-16a6c91c9570"
   },
   "outputs": [
    {
     "name": "stderr",
     "output_type": "stream",
     "text": [
      "[*********************100%***********************]  1 of 1 completed\n"
     ]
    },
    {
     "data": {
      "text/html": [
       "<div>\n",
       "<style scoped>\n",
       "    .dataframe tbody tr th:only-of-type {\n",
       "        vertical-align: middle;\n",
       "    }\n",
       "\n",
       "    .dataframe tbody tr th {\n",
       "        vertical-align: top;\n",
       "    }\n",
       "\n",
       "    .dataframe thead th {\n",
       "        text-align: right;\n",
       "    }\n",
       "</style>\n",
       "<table border=\"1\" class=\"dataframe\">\n",
       "  <thead>\n",
       "    <tr style=\"text-align: right;\">\n",
       "      <th>Ticker</th>\n",
       "      <th>AMZN</th>\n",
       "      <th>BTC-USD</th>\n",
       "      <th>F</th>\n",
       "      <th>BLV</th>\n",
       "    </tr>\n",
       "    <tr>\n",
       "      <th>Date</th>\n",
       "      <th></th>\n",
       "      <th></th>\n",
       "      <th></th>\n",
       "      <th></th>\n",
       "    </tr>\n",
       "  </thead>\n",
       "  <tbody>\n",
       "    <tr>\n",
       "      <th>2019-08-01 00:00:00+00:00</th>\n",
       "      <td>1,855.319977</td>\n",
       "      <td>10,399.668945</td>\n",
       "      <td>7.107781</td>\n",
       "      <td>77.323601</td>\n",
       "    </tr>\n",
       "    <tr>\n",
       "      <th>2019-08-02 00:00:00+00:00</th>\n",
       "      <td>1,823.240051</td>\n",
       "      <td>10,518.174805</td>\n",
       "      <td>7.084878</td>\n",
       "      <td>77.864983</td>\n",
       "    </tr>\n",
       "    <tr>\n",
       "      <th>2019-08-03 00:00:00+00:00</th>\n",
       "      <td>NaN</td>\n",
       "      <td>10,821.726562</td>\n",
       "      <td>NaN</td>\n",
       "      <td>NaN</td>\n",
       "    </tr>\n",
       "    <tr>\n",
       "      <th>2019-08-04 00:00:00+00:00</th>\n",
       "      <td>NaN</td>\n",
       "      <td>10,970.184570</td>\n",
       "      <td>NaN</td>\n",
       "      <td>NaN</td>\n",
       "    </tr>\n",
       "    <tr>\n",
       "      <th>2019-08-05 00:00:00+00:00</th>\n",
       "      <td>1,765.130005</td>\n",
       "      <td>11,805.653320</td>\n",
       "      <td>7.046706</td>\n",
       "      <td>78.531898</td>\n",
       "    </tr>\n",
       "    <tr>\n",
       "      <th>...</th>\n",
       "      <td>...</td>\n",
       "      <td>...</td>\n",
       "      <td>...</td>\n",
       "      <td>...</td>\n",
       "    </tr>\n",
       "    <tr>\n",
       "      <th>2024-07-27 00:00:00+00:00</th>\n",
       "      <td>NaN</td>\n",
       "      <td>67,813.335938</td>\n",
       "      <td>NaN</td>\n",
       "      <td>NaN</td>\n",
       "    </tr>\n",
       "    <tr>\n",
       "      <th>2024-07-28 00:00:00+00:00</th>\n",
       "      <td>NaN</td>\n",
       "      <td>68,255.867188</td>\n",
       "      <td>NaN</td>\n",
       "      <td>NaN</td>\n",
       "    </tr>\n",
       "    <tr>\n",
       "      <th>2024-07-29 00:00:00+00:00</th>\n",
       "      <td>183.199997</td>\n",
       "      <td>66,819.914062</td>\n",
       "      <td>10.357336</td>\n",
       "      <td>69.508568</td>\n",
       "    </tr>\n",
       "    <tr>\n",
       "      <th>2024-07-30 00:00:00+00:00</th>\n",
       "      <td>181.710007</td>\n",
       "      <td>66,201.015625</td>\n",
       "      <td>10.197413</td>\n",
       "      <td>69.654182</td>\n",
       "    </tr>\n",
       "    <tr>\n",
       "      <th>2024-07-31 00:00:00+00:00</th>\n",
       "      <td>186.979996</td>\n",
       "      <td>64,619.250000</td>\n",
       "      <td>10.178599</td>\n",
       "      <td>70.285202</td>\n",
       "    </tr>\n",
       "  </tbody>\n",
       "</table>\n",
       "<p>1827 rows × 4 columns</p>\n",
       "</div>"
      ],
      "text/plain": [
       "Ticker                            AMZN       BTC-USD         F       BLV\n",
       "Date                                                                    \n",
       "2019-08-01 00:00:00+00:00 1,855.319977 10,399.668945  7.107781 77.323601\n",
       "2019-08-02 00:00:00+00:00 1,823.240051 10,518.174805  7.084878 77.864983\n",
       "2019-08-03 00:00:00+00:00          NaN 10,821.726562       NaN       NaN\n",
       "2019-08-04 00:00:00+00:00          NaN 10,970.184570       NaN       NaN\n",
       "2019-08-05 00:00:00+00:00 1,765.130005 11,805.653320  7.046706 78.531898\n",
       "...                                ...           ...       ...       ...\n",
       "2024-07-27 00:00:00+00:00          NaN 67,813.335938       NaN       NaN\n",
       "2024-07-28 00:00:00+00:00          NaN 68,255.867188       NaN       NaN\n",
       "2024-07-29 00:00:00+00:00   183.199997 66,819.914062 10.357336 69.508568\n",
       "2024-07-30 00:00:00+00:00   181.710007 66,201.015625 10.197413 69.654182\n",
       "2024-07-31 00:00:00+00:00   186.979996 64,619.250000 10.178599 70.285202\n",
       "\n",
       "[1827 rows x 4 columns]"
      ]
     },
     "execution_count": 33,
     "metadata": {},
     "output_type": "execute_result"
    }
   ],
   "source": [
    "df = df.join(yfin.download([\"BLV\"], start, end, auto_adjust = False)[\"Adj Close\"].tz_localize('UTC'))\n",
    "#df.rename(columns={\"Adj Close\": \"BLV\"}, inplace=True)\n",
    "df"
   ]
  },
  {
   "cell_type": "markdown",
   "metadata": {
    "id": "JV7waBol_t26"
   },
   "source": [
    "### **3.1 Calculate Log Returns, Remove Unused Columns, and Drop Nulls**\n",
    "\n",
    "Before computing returns, we need to remove the nulls for the weekend dates."
   ]
  },
  {
   "cell_type": "code",
   "execution_count": 34,
   "metadata": {
    "colab": {
     "base_uri": "https://localhost:8080/",
     "height": 455
    },
    "executionInfo": {
     "elapsed": 482,
     "status": "ok",
     "timestamp": 1729525745668,
     "user": {
      "displayName": "Tea Toradze",
      "userId": "13683888799925082799"
     },
     "user_tz": -60
    },
    "id": "12rrAtm3_t26",
    "outputId": "c93e962e-b618-4b22-e6ab-bd937c9e92df"
   },
   "outputs": [
    {
     "data": {
      "text/html": [
       "<div>\n",
       "<style scoped>\n",
       "    .dataframe tbody tr th:only-of-type {\n",
       "        vertical-align: middle;\n",
       "    }\n",
       "\n",
       "    .dataframe tbody tr th {\n",
       "        vertical-align: top;\n",
       "    }\n",
       "\n",
       "    .dataframe thead th {\n",
       "        text-align: right;\n",
       "    }\n",
       "</style>\n",
       "<table border=\"1\" class=\"dataframe\">\n",
       "  <thead>\n",
       "    <tr style=\"text-align: right;\">\n",
       "      <th>Ticker</th>\n",
       "      <th>BTC-USD</th>\n",
       "      <th>AMZN</th>\n",
       "      <th>F</th>\n",
       "      <th>BLV</th>\n",
       "    </tr>\n",
       "    <tr>\n",
       "      <th>Date</th>\n",
       "      <th></th>\n",
       "      <th></th>\n",
       "      <th></th>\n",
       "      <th></th>\n",
       "    </tr>\n",
       "  </thead>\n",
       "  <tbody>\n",
       "    <tr>\n",
       "      <th>2019-08-02 00:00:00+00:00</th>\n",
       "      <td>0.011395</td>\n",
       "      <td>-0.017291</td>\n",
       "      <td>-0.003222</td>\n",
       "      <td>0.007002</td>\n",
       "    </tr>\n",
       "    <tr>\n",
       "      <th>2019-08-03 00:00:00+00:00</th>\n",
       "      <td>0.028860</td>\n",
       "      <td>NaN</td>\n",
       "      <td>NaN</td>\n",
       "      <td>NaN</td>\n",
       "    </tr>\n",
       "    <tr>\n",
       "      <th>2019-08-04 00:00:00+00:00</th>\n",
       "      <td>0.013719</td>\n",
       "      <td>NaN</td>\n",
       "      <td>NaN</td>\n",
       "      <td>NaN</td>\n",
       "    </tr>\n",
       "    <tr>\n",
       "      <th>2019-08-05 00:00:00+00:00</th>\n",
       "      <td>0.076158</td>\n",
       "      <td>-0.031872</td>\n",
       "      <td>-0.005388</td>\n",
       "      <td>0.008565</td>\n",
       "    </tr>\n",
       "    <tr>\n",
       "      <th>2019-08-06 00:00:00+00:00</th>\n",
       "      <td>-0.027740</td>\n",
       "      <td>0.012860</td>\n",
       "      <td>0.027085</td>\n",
       "      <td>0.006694</td>\n",
       "    </tr>\n",
       "    <tr>\n",
       "      <th>...</th>\n",
       "      <td>...</td>\n",
       "      <td>...</td>\n",
       "      <td>...</td>\n",
       "      <td>...</td>\n",
       "    </tr>\n",
       "    <tr>\n",
       "      <th>2024-07-27 00:00:00+00:00</th>\n",
       "      <td>-0.001454</td>\n",
       "      <td>NaN</td>\n",
       "      <td>NaN</td>\n",
       "      <td>NaN</td>\n",
       "    </tr>\n",
       "    <tr>\n",
       "      <th>2024-07-28 00:00:00+00:00</th>\n",
       "      <td>0.006526</td>\n",
       "      <td>NaN</td>\n",
       "      <td>NaN</td>\n",
       "      <td>NaN</td>\n",
       "    </tr>\n",
       "    <tr>\n",
       "      <th>2024-07-29 00:00:00+00:00</th>\n",
       "      <td>-0.021038</td>\n",
       "      <td>0.003836</td>\n",
       "      <td>-0.016086</td>\n",
       "      <td>0.003785</td>\n",
       "    </tr>\n",
       "    <tr>\n",
       "      <th>2024-07-30 00:00:00+00:00</th>\n",
       "      <td>-0.009262</td>\n",
       "      <td>-0.008133</td>\n",
       "      <td>-0.015441</td>\n",
       "      <td>0.002095</td>\n",
       "    </tr>\n",
       "    <tr>\n",
       "      <th>2024-07-31 00:00:00+00:00</th>\n",
       "      <td>-0.023893</td>\n",
       "      <td>0.029002</td>\n",
       "      <td>-0.001845</td>\n",
       "      <td>0.009059</td>\n",
       "    </tr>\n",
       "  </tbody>\n",
       "</table>\n",
       "<p>1826 rows × 4 columns</p>\n",
       "</div>"
      ],
      "text/plain": [
       "Ticker                      BTC-USD      AMZN         F      BLV\n",
       "Date                                                            \n",
       "2019-08-02 00:00:00+00:00  0.011395 -0.017291 -0.003222 0.007002\n",
       "2019-08-03 00:00:00+00:00  0.028860       NaN       NaN      NaN\n",
       "2019-08-04 00:00:00+00:00  0.013719       NaN       NaN      NaN\n",
       "2019-08-05 00:00:00+00:00  0.076158 -0.031872 -0.005388 0.008565\n",
       "2019-08-06 00:00:00+00:00 -0.027740  0.012860  0.027085 0.006694\n",
       "...                             ...       ...       ...      ...\n",
       "2024-07-27 00:00:00+00:00 -0.001454       NaN       NaN      NaN\n",
       "2024-07-28 00:00:00+00:00  0.006526       NaN       NaN      NaN\n",
       "2024-07-29 00:00:00+00:00 -0.021038  0.003836 -0.016086 0.003785\n",
       "2024-07-30 00:00:00+00:00 -0.009262 -0.008133 -0.015441 0.002095\n",
       "2024-07-31 00:00:00+00:00 -0.023893  0.029002 -0.001845 0.009059\n",
       "\n",
       "[1826 rows x 4 columns]"
      ]
     },
     "execution_count": 34,
     "metadata": {},
     "output_type": "execute_result"
    }
   ],
   "source": [
    "# In order to calculate the returns of the stocks, we need to drop the NA rows.\n",
    "returns_stocks_BLV = df[['AMZN', 'F', 'BLV']].dropna().pct_change()\n",
    "\n",
    "# Crypto is traded 24/7\n",
    "returns_BTC = df[['BTC-USD']].pct_change()\n",
    "\n",
    "# We broadcast the index of crypto on the stocks in order to join the datasets having NaN for weekends within stocks and BLV columns\n",
    "returns_stocks = returns_stocks_BLV.reindex(returns_BTC.index)\n",
    "returns = returns_BTC.join(returns_stocks_BLV, how = 'outer')[1:]\n",
    "returns\n"
   ]
  },
  {
   "cell_type": "markdown",
   "metadata": {
    "id": "mHtdBYKa_t26"
   },
   "source": [
    "### **3.2 Show Summary Stats for the Returns**"
   ]
  },
  {
   "cell_type": "code",
   "execution_count": 35,
   "metadata": {
    "colab": {
     "base_uri": "https://localhost:8080/",
     "height": 300
    },
    "executionInfo": {
     "elapsed": 257,
     "status": "ok",
     "timestamp": 1729525750457,
     "user": {
      "displayName": "Tea Toradze",
      "userId": "13683888799925082799"
     },
     "user_tz": -60
    },
    "id": "3QLWgni0_t26",
    "outputId": "0b3ca73a-ed32-44a2-cac9-1cd6529e91ee"
   },
   "outputs": [
    {
     "data": {
      "text/html": [
       "<div>\n",
       "<style scoped>\n",
       "    .dataframe tbody tr th:only-of-type {\n",
       "        vertical-align: middle;\n",
       "    }\n",
       "\n",
       "    .dataframe tbody tr th {\n",
       "        vertical-align: top;\n",
       "    }\n",
       "\n",
       "    .dataframe thead th {\n",
       "        text-align: right;\n",
       "    }\n",
       "</style>\n",
       "<table border=\"1\" class=\"dataframe\">\n",
       "  <thead>\n",
       "    <tr style=\"text-align: right;\">\n",
       "      <th>Ticker</th>\n",
       "      <th>BTC-USD</th>\n",
       "      <th>AMZN</th>\n",
       "      <th>F</th>\n",
       "      <th>BLV</th>\n",
       "    </tr>\n",
       "  </thead>\n",
       "  <tbody>\n",
       "    <tr>\n",
       "      <th>count</th>\n",
       "      <td>1,826.000000</td>\n",
       "      <td>1,257.000000</td>\n",
       "      <td>1,257.000000</td>\n",
       "      <td>1,257.000000</td>\n",
       "    </tr>\n",
       "    <tr>\n",
       "      <th>mean</th>\n",
       "      <td>0.001579</td>\n",
       "      <td>0.000032</td>\n",
       "      <td>0.000671</td>\n",
       "      <td>-0.000034</td>\n",
       "    </tr>\n",
       "    <tr>\n",
       "      <th>std</th>\n",
       "      <td>0.033707</td>\n",
       "      <td>0.034772</td>\n",
       "      <td>0.027760</td>\n",
       "      <td>0.009179</td>\n",
       "    </tr>\n",
       "    <tr>\n",
       "      <th>min</th>\n",
       "      <td>-0.371695</td>\n",
       "      <td>-0.949003</td>\n",
       "      <td>-0.183614</td>\n",
       "      <td>-0.075170</td>\n",
       "    </tr>\n",
       "    <tr>\n",
       "      <th>25%</th>\n",
       "      <td>-0.013480</td>\n",
       "      <td>-0.011077</td>\n",
       "      <td>-0.013606</td>\n",
       "      <td>-0.005253</td>\n",
       "    </tr>\n",
       "    <tr>\n",
       "      <th>50%</th>\n",
       "      <td>0.000234</td>\n",
       "      <td>0.000554</td>\n",
       "      <td>0.000000</td>\n",
       "      <td>0.000572</td>\n",
       "    </tr>\n",
       "    <tr>\n",
       "      <th>75%</th>\n",
       "      <td>0.015996</td>\n",
       "      <td>0.012220</td>\n",
       "      <td>0.014212</td>\n",
       "      <td>0.005206</td>\n",
       "    </tr>\n",
       "    <tr>\n",
       "      <th>max</th>\n",
       "      <td>0.187465</td>\n",
       "      <td>0.135359</td>\n",
       "      <td>0.234414</td>\n",
       "      <td>0.049138</td>\n",
       "    </tr>\n",
       "  </tbody>\n",
       "</table>\n",
       "</div>"
      ],
      "text/plain": [
       "Ticker      BTC-USD         AMZN            F          BLV\n",
       "count  1,826.000000 1,257.000000 1,257.000000 1,257.000000\n",
       "mean       0.001579     0.000032     0.000671    -0.000034\n",
       "std        0.033707     0.034772     0.027760     0.009179\n",
       "min       -0.371695    -0.949003    -0.183614    -0.075170\n",
       "25%       -0.013480    -0.011077    -0.013606    -0.005253\n",
       "50%        0.000234     0.000554     0.000000     0.000572\n",
       "75%        0.015996     0.012220     0.014212     0.005206\n",
       "max        0.187465     0.135359     0.234414     0.049138"
      ]
     },
     "execution_count": 35,
     "metadata": {},
     "output_type": "execute_result"
    }
   ],
   "source": [
    "returns.describe()"
   ]
  },
  {
   "cell_type": "markdown",
   "metadata": {
    "id": "qe6urUeQ_t27"
   },
   "source": [
    "### **3.3 Converting Daily Returns to Annual**"
   ]
  },
  {
   "cell_type": "code",
   "execution_count": 36,
   "metadata": {
    "colab": {
     "base_uri": "https://localhost:8080/",
     "height": 300
    },
    "executionInfo": {
     "elapsed": 269,
     "status": "ok",
     "timestamp": 1729525754975,
     "user": {
      "displayName": "Tea Toradze",
      "userId": "13683888799925082799"
     },
     "user_tz": -60
    },
    "id": "wWKMDzOw_t27",
    "outputId": "c671abbc-4cac-440d-a021-8a24d9e2021c"
   },
   "outputs": [
    {
     "data": {
      "text/html": [
       "<div>\n",
       "<style scoped>\n",
       "    .dataframe tbody tr th:only-of-type {\n",
       "        vertical-align: middle;\n",
       "    }\n",
       "\n",
       "    .dataframe tbody tr th {\n",
       "        vertical-align: top;\n",
       "    }\n",
       "\n",
       "    .dataframe thead th {\n",
       "        text-align: right;\n",
       "    }\n",
       "</style>\n",
       "<table border=\"1\" class=\"dataframe\">\n",
       "  <thead>\n",
       "    <tr style=\"text-align: right;\">\n",
       "      <th>Ticker</th>\n",
       "      <th>BTC-USD</th>\n",
       "      <th>F</th>\n",
       "    </tr>\n",
       "  </thead>\n",
       "  <tbody>\n",
       "    <tr>\n",
       "      <th>count</th>\n",
       "      <td>1,826.000000</td>\n",
       "      <td>1,257.000000</td>\n",
       "    </tr>\n",
       "    <tr>\n",
       "      <th>mean</th>\n",
       "      <td>0.001579</td>\n",
       "      <td>0.000671</td>\n",
       "    </tr>\n",
       "    <tr>\n",
       "      <th>std</th>\n",
       "      <td>0.033707</td>\n",
       "      <td>0.027760</td>\n",
       "    </tr>\n",
       "    <tr>\n",
       "      <th>min</th>\n",
       "      <td>-0.371695</td>\n",
       "      <td>-0.183614</td>\n",
       "    </tr>\n",
       "    <tr>\n",
       "      <th>25%</th>\n",
       "      <td>-0.013480</td>\n",
       "      <td>-0.013606</td>\n",
       "    </tr>\n",
       "    <tr>\n",
       "      <th>50%</th>\n",
       "      <td>0.000234</td>\n",
       "      <td>0.000000</td>\n",
       "    </tr>\n",
       "    <tr>\n",
       "      <th>75%</th>\n",
       "      <td>0.015996</td>\n",
       "      <td>0.014212</td>\n",
       "    </tr>\n",
       "    <tr>\n",
       "      <th>max</th>\n",
       "      <td>0.187465</td>\n",
       "      <td>0.234414</td>\n",
       "    </tr>\n",
       "  </tbody>\n",
       "</table>\n",
       "</div>"
      ],
      "text/plain": [
       "Ticker      BTC-USD            F\n",
       "count  1,826.000000 1,257.000000\n",
       "mean       0.001579     0.000671\n",
       "std        0.033707     0.027760\n",
       "min       -0.371695    -0.183614\n",
       "25%       -0.013480    -0.013606\n",
       "50%        0.000234     0.000000\n",
       "75%        0.015996     0.014212\n",
       "max        0.187465     0.234414"
      ]
     },
     "execution_count": 36,
     "metadata": {},
     "output_type": "execute_result"
    }
   ],
   "source": [
    "(returns.describe()[[\"BTC-USD\", \"F\"]])"
   ]
  },
  {
   "cell_type": "markdown",
   "metadata": {
    "id": "fG8qqiTD_t27"
   },
   "source": [
    "Since we are using simple returns, in order to properly annualize them, we will use the geometric mean:\n",
    "\n",
    "\n",
    "$$\n",
    "R_{\\text{Geom_Mean}} = \\left ( \\prod_{i=1}^{N} \\left ( 1  + r_{i} \\right ) \\right )^{\\frac{1}{N}}- 1\n",
    "$$\n",
    "\n",
    "Then, the annualized returns will be given by:\n",
    "\n",
    "$$\n",
    "R_{\\text{Annaulized_Returns}} = \\left ( R_{\\text{Geom_Mean}} + 1 \\right )^{252 \\text{ or } 365} - 1\n",
    "$$\n",
    "\n"
   ]
  },
  {
   "cell_type": "code",
   "execution_count": 37,
   "metadata": {
    "colab": {
     "base_uri": "https://localhost:8080/",
     "height": 115
    },
    "executionInfo": {
     "elapsed": 261,
     "status": "ok",
     "timestamp": 1729525763951,
     "user": {
      "displayName": "Tea Toradze",
      "userId": "13683888799925082799"
     },
     "user_tz": -60
    },
    "id": "X_xDYd-Z_t27",
    "outputId": "fadc87a3-f3a3-446e-ab6a-86ba3ea8c82f"
   },
   "outputs": [
    {
     "data": {
      "text/plain": [
       "Ticker\n",
       "BTC-USD   0.440439\n",
       "dtype: float64"
      ]
     },
     "execution_count": 37,
     "metadata": {},
     "output_type": "execute_result"
    }
   ],
   "source": [
    "#Annualize BTC-USD with 365 trading days\n",
    "(np.prod(returns_BTC + 1, axis=0) ** (1/len(returns_BTC))) ** (365) - 1\n"
   ]
  },
  {
   "cell_type": "code",
   "execution_count": 38,
   "metadata": {
    "colab": {
     "base_uri": "https://localhost:8080/",
     "height": 178
    },
    "executionInfo": {
     "elapsed": 235,
     "status": "ok",
     "timestamp": 1729525767374,
     "user": {
      "displayName": "Tea Toradze",
      "userId": "13683888799925082799"
     },
     "user_tz": -60
    },
    "id": "qJoYnxbE_t27",
    "outputId": "3603dd33-037c-4102-8ec9-15b00efd9125"
   },
   "outputs": [
    {
     "data": {
      "text/plain": [
       "Ticker\n",
       "AMZN   -0.368522\n",
       "F       0.074584\n",
       "BLV    -0.018936\n",
       "dtype: float64"
      ]
     },
     "execution_count": 38,
     "metadata": {},
     "output_type": "execute_result"
    }
   ],
   "source": [
    "#Annualize stocks with 252 trading days\n",
    "(np.prod(returns_stocks_BLV + 1, axis=0) ** (1/len(returns_stocks_BLV))) ** (252) - 1"
   ]
  },
  {
   "cell_type": "markdown",
   "metadata": {
    "id": "f7K4jmFn_t28"
   },
   "source": [
    "We can run the same analysis on BLV as we did on the above stocks to get the total simple return over a five-year period using a slightly different method. This time, we'll calculate the simple return rate and then just multiply \\$1,000 initial investment by 1 + `returnRate`."
   ]
  },
  {
   "cell_type": "code",
   "execution_count": 39,
   "metadata": {
    "colab": {
     "base_uri": "https://localhost:8080/"
    },
    "executionInfo": {
     "elapsed": 221,
     "status": "ok",
     "timestamp": 1729525793012,
     "user": {
      "displayName": "Tea Toradze",
      "userId": "13683888799925082799"
     },
     "user_tz": -60
    },
    "id": "dwD6cr90_t28",
    "outputId": "687f2fc9-93b6-4a39-bfcb-a4c62be97e34"
   },
   "outputs": [
    {
     "name": "stdout",
     "output_type": "stream",
     "text": [
      "Simple return rate of BLV: -9.103 %\n",
      "Total simple return of BLV: $ 908.975\n"
     ]
    }
   ],
   "source": [
    "# Get innitial and end prices from df\n",
    "blv_price = df.iloc[0][\"BLV\"]\n",
    "blv_price_end = df.iloc[-1][\"BLV\"]\n",
    "\n",
    "# Compute simple return rate\n",
    "blv_return_rate = (blv_price_end - blv_price) / blv_price\n",
    "print(\"Simple return rate of BLV:\", np.round(blv_return_rate * 100, 3), \"%\")\n",
    "\n",
    "# Compute total simple return\n",
    "total_simple_return = 1000 * (1 + blv_return_rate)\n",
    "print(\"Total simple return of BLV: $\", np.round(total_simple_return, 3))\n"
   ]
  },
  {
   "cell_type": "markdown",
   "metadata": {
    "id": "krkwWmGJ_t28"
   },
   "source": [
    "This output indicates that the investment in BLV has experienced a negative simple return of -9.103%. This means we've lost approximately 9.1% of our initial investment in BLV.\n",
    "\n",
    "If we started with 1,000 USD, after five years, we would've ended up with (1 - 9.103) * 1000 = 908.97 USD.\n",
    "\n",
    "This is a much lower return than what we would've gotten with Ford, Amazon, or Bitcoin. This is to be expected for the most part as bonds return a quarterly/annual coupon along with returning the principal. For this reason, bonds (especially government bonds) are considered safer assets than stocks or cryptocurrencies. One major thing to consider is if a company goes bankrupt, you may not get your principal back in a bond. That being said, the same goes for stocks. Bondholders also have less credit risk than stockholders: if you own a bond in Ford and your friend owns Ford stock, but Ford declares bankruptcy tomorrow, the bondholder will be paid off first in the bankruptcy proceedings and the equity owner will only get what's left over, making bonds a safer investment.\n",
    "\n",
    "The downside to this is that it's hard to achieve the level of total returns that a stock or cryptocurrency can achieve with a bond. There is a risk-reward tradeoff. Think back to the reading in this lesson for a moment. What we just discussed here is mentioned in the reading comparing a high-variance investment to a low-variance investment. What you choose is entirely up to your risk preferences. Always take into consideration the risk-reward tradeoff.\n",
    "\n",
    "Here are some points to consider:\n",
    "\n",
    " - **Time Horizon:** The simple return doesn't account for the investment timeframe. Short-term losses are not unusual, and it's important to evaluate investments over a longer period to get a more accurate picture of their performance.\n",
    " - **Benchmarking:** Compare the return of BLV to a relevant benchmark, such as a broad market index like the S&P 500, to assess its relative performance.\n",
    " - **Investment Strategy:** Consider your overall investment goals and risk tolerance when evaluating the performance of BLV.\n",
    "\n",
    "Remember that simple returns are just one way to measure investment performance. For a more comprehensive analysis, consider factors like dividends, taxes, liquidity, regulation, credit risk, volatility, and the time value of money."
   ]
  },
  {
   "cell_type": "markdown",
   "metadata": {
    "id": "S9uZCOvd_t28"
   },
   "source": [
    "## **4. Future Value of an Investment**\n",
    "\n",
    "The S&P 500 consists of 500 large-cap companies. The index calculates weights according to market capitalization. This weighting is different from that in the Dow Jones Industrial Average, which is price weighted. The companies that make up this index are chosen by a committee, but companies must fit specific criteria before being included (Standard & Poor's):\n",
    "\n",
    "* Market capitalization must be greater than or equal to \\\\$18 billion.\n",
    "* Annual dollar value traded to float-adjusted market capitalization is greater than 1.0.\n",
    "* The minimum monthly trading volume is 250,000 shares in each of the six months leading up to the evaluation date.\n",
    "* The company must be publicly listed on either the New York Stock Exchange (NYSE), including NYSE Arca or NYSE American, or NASDAQ (NASDAQ Global Select Market, NASDAQ Select Market or the NASDAQ Capital Market).\n",
    "* The company should be from the U.S.\n",
    "* Securities that are ineligible for inclusion in the index are limited partnerships, master limited partnerships and their investment trust units, OTC Bulletin Board issues, closed-end funds, exchange-traded funds, exchange-traded notes, royalty trusts, tracking stocks, preferred stock, unit trusts, equity warrants, convertible bonds, investment trusts, American depositary receipts, and American depositary shares.\n",
    "* Since 2017, companies with dual share classes, like Standard & Poor's, are not added to the index.\n",
    "\n",
    "This will be used as our proxy for large-cap stocks.\n",
    "\n",
    "The Russell 2000 is an index that contains 2,000 small-cap companies and is frequently used as a benchmark by small-cap mutual funds for comparison purposes. The Russell 2000 is constructed to provide a barometer for small-cap stocks. It's reconstituted annually to ensure companies from the previous year don't get too large and distort the characteristics of small-caps (Maginn 118).\n",
    "\n",
    "The Russell 2000 Index will be used as our proxy for small-cap companies.\n",
    "\n",
    "One way to compare two investment opportunities is to determine the future value of an investment. There are always risks and many assumptions that need to be made when determining future value, especially for a risky investment like a stock. We will begin by using the average daily rate of return of each index to determine expected return. This is a simple way of thinking because it's impossible to say the next 10 years will be the same as the past 10 years, but it is a starting point when comparing investments. We will delve further into more advanced comparison metrics as the course goes on.\n",
    "\n",
    "**The formula for compound interest is:**\n",
    "\n",
    "$$FV = PV (1+i)^n$$\n",
    "\n",
    "where\n",
    "\n",
    "$FV$ = Future value  </br>\n",
    "$PV$ = Present value  </br>\n",
    "$i$ = Periodic interest rate  </br>\n",
    "$n$ = Number of periods  </br>\n"
   ]
  },
  {
   "cell_type": "markdown",
   "metadata": {
    "id": "fL1E9Vxb_t28"
   },
   "source": [
    "### **4.1 Pull 5 years daily price data for S&P 500 and Russell 2000**\n",
    "\n",
    "We're going to dig deeper into specific equities asset classes and compare them as potential investments. We will start by comparing large cap to small cap stocks using S&P 500 and the Russell 2000 Index.\n",
    "\n",
    "Throughout this lesson we will build towards a function here which takes a date range and compares two series of returns.\n"
   ]
  },
  {
   "cell_type": "code",
   "execution_count": 40,
   "metadata": {
    "colab": {
     "base_uri": "https://localhost:8080/",
     "height": 318
    },
    "executionInfo": {
     "elapsed": 252,
     "status": "ok",
     "timestamp": 1729525981768,
     "user": {
      "displayName": "Tea Toradze",
      "userId": "13683888799925082799"
     },
     "user_tz": -60
    },
    "id": "qVYmFzsF_t29",
    "outputId": "2424861e-e097-4dfa-ca73-13c1b9424c74"
   },
   "outputs": [
    {
     "name": "stderr",
     "output_type": "stream",
     "text": [
      "[*********************100%***********************]  2 of 2 completed\n"
     ]
    },
    {
     "data": {
      "text/html": [
       "<div>\n",
       "<style scoped>\n",
       "    .dataframe tbody tr th:only-of-type {\n",
       "        vertical-align: middle;\n",
       "    }\n",
       "\n",
       "    .dataframe tbody tr th {\n",
       "        vertical-align: top;\n",
       "    }\n",
       "\n",
       "    .dataframe thead th {\n",
       "        text-align: right;\n",
       "    }\n",
       "</style>\n",
       "<table border=\"1\" class=\"dataframe\">\n",
       "  <thead>\n",
       "    <tr style=\"text-align: right;\">\n",
       "      <th>Ticker</th>\n",
       "      <th>SP500</th>\n",
       "      <th>Russell2000</th>\n",
       "    </tr>\n",
       "  </thead>\n",
       "  <tbody>\n",
       "    <tr>\n",
       "      <th>count</th>\n",
       "      <td>1,258.000000</td>\n",
       "      <td>1,258.000000</td>\n",
       "    </tr>\n",
       "    <tr>\n",
       "      <th>mean</th>\n",
       "      <td>4,028.833253</td>\n",
       "      <td>1,865.957234</td>\n",
       "    </tr>\n",
       "    <tr>\n",
       "      <th>std</th>\n",
       "      <td>685.682781</td>\n",
       "      <td>284.232353</td>\n",
       "    </tr>\n",
       "    <tr>\n",
       "      <th>min</th>\n",
       "      <td>2,237.399902</td>\n",
       "      <td>991.159973</td>\n",
       "    </tr>\n",
       "    <tr>\n",
       "      <th>25%</th>\n",
       "      <td>3,502.235046</td>\n",
       "      <td>1,674.337524</td>\n",
       "    </tr>\n",
       "    <tr>\n",
       "      <th>50%</th>\n",
       "      <td>4,110.745117</td>\n",
       "      <td>1,873.654968</td>\n",
       "    </tr>\n",
       "    <tr>\n",
       "      <th>75%</th>\n",
       "      <td>4,468.547485</td>\n",
       "      <td>2,067.780090</td>\n",
       "    </tr>\n",
       "    <tr>\n",
       "      <th>max</th>\n",
       "      <td>5,667.200195</td>\n",
       "      <td>2,442.739990</td>\n",
       "    </tr>\n",
       "  </tbody>\n",
       "</table>\n",
       "</div>"
      ],
      "text/plain": [
       "Ticker        SP500  Russell2000\n",
       "count  1,258.000000 1,258.000000\n",
       "mean   4,028.833253 1,865.957234\n",
       "std      685.682781   284.232353\n",
       "min    2,237.399902   991.159973\n",
       "25%    3,502.235046 1,674.337524\n",
       "50%    4,110.745117 1,873.654968\n",
       "75%    4,468.547485 2,067.780090\n",
       "max    5,667.200195 2,442.739990"
      ]
     },
     "execution_count": 40,
     "metadata": {},
     "output_type": "execute_result"
    }
   ],
   "source": [
    "# Uncomment the following lines to pull most recent data (optional)\n",
    "#start = datetime.date.today()-datetime.timedelta(365*10)\n",
    "#end = datetime.date.today()\n",
    "start = datetime.date(2019, 8, 1)\n",
    "end = datetime.date(2024, 8, 1)\n",
    "\n",
    "# Get data\n",
    "prices = yfin.download([\"^GSPC\", \"^RUT\"], start, end, auto_adjust = False)[\"Adj Close\"]\n",
    "\n",
    "# Rename column to make names more intuitive\n",
    "prices = prices.rename(columns={\"^GSPC\": \"SP500\", \"^RUT\": \"Russell2000\"})\n",
    "\n",
    "# Get dataset stats\n",
    "prices.describe()\n"
   ]
  },
  {
   "cell_type": "code",
   "execution_count": 41,
   "metadata": {
    "colab": {
     "base_uri": "https://localhost:8080/",
     "height": 238
    },
    "executionInfo": {
     "elapsed": 261,
     "status": "ok",
     "timestamp": 1729525988769,
     "user": {
      "displayName": "Tea Toradze",
      "userId": "13683888799925082799"
     },
     "user_tz": -60
    },
    "id": "jr3aHDf7x76X",
    "outputId": "57167e1d-81c5-49f9-90ac-94325b3ddb12"
   },
   "outputs": [
    {
     "data": {
      "text/html": [
       "<div>\n",
       "<style scoped>\n",
       "    .dataframe tbody tr th:only-of-type {\n",
       "        vertical-align: middle;\n",
       "    }\n",
       "\n",
       "    .dataframe tbody tr th {\n",
       "        vertical-align: top;\n",
       "    }\n",
       "\n",
       "    .dataframe thead th {\n",
       "        text-align: right;\n",
       "    }\n",
       "</style>\n",
       "<table border=\"1\" class=\"dataframe\">\n",
       "  <thead>\n",
       "    <tr style=\"text-align: right;\">\n",
       "      <th>Ticker</th>\n",
       "      <th>SP500</th>\n",
       "      <th>Russell2000</th>\n",
       "    </tr>\n",
       "    <tr>\n",
       "      <th>Date</th>\n",
       "      <th></th>\n",
       "      <th></th>\n",
       "    </tr>\n",
       "  </thead>\n",
       "  <tbody>\n",
       "    <tr>\n",
       "      <th>2019-08-01</th>\n",
       "      <td>2,953.560059</td>\n",
       "      <td>1,550.760010</td>\n",
       "    </tr>\n",
       "    <tr>\n",
       "      <th>2019-08-02</th>\n",
       "      <td>2,932.050049</td>\n",
       "      <td>1,533.660034</td>\n",
       "    </tr>\n",
       "    <tr>\n",
       "      <th>2019-08-05</th>\n",
       "      <td>2,844.739990</td>\n",
       "      <td>1,487.410034</td>\n",
       "    </tr>\n",
       "    <tr>\n",
       "      <th>2019-08-06</th>\n",
       "      <td>2,881.770020</td>\n",
       "      <td>1,502.089966</td>\n",
       "    </tr>\n",
       "    <tr>\n",
       "      <th>2019-08-07</th>\n",
       "      <td>2,883.979980</td>\n",
       "      <td>1,500.689941</td>\n",
       "    </tr>\n",
       "  </tbody>\n",
       "</table>\n",
       "</div>"
      ],
      "text/plain": [
       "Ticker            SP500  Russell2000\n",
       "Date                                \n",
       "2019-08-01 2,953.560059 1,550.760010\n",
       "2019-08-02 2,932.050049 1,533.660034\n",
       "2019-08-05 2,844.739990 1,487.410034\n",
       "2019-08-06 2,881.770020 1,502.089966\n",
       "2019-08-07 2,883.979980 1,500.689941"
      ]
     },
     "execution_count": 41,
     "metadata": {},
     "output_type": "execute_result"
    }
   ],
   "source": [
    "# Display first 5 rows\n",
    "prices.head()\n"
   ]
  },
  {
   "cell_type": "markdown",
   "metadata": {
    "id": "etMMX_cr_t29"
   },
   "source": [
    "Once again, we can see these datasets have different starting points, so the only way we can do a fair comparison is by comparing returns."
   ]
  },
  {
   "cell_type": "markdown",
   "metadata": {
    "id": "oPrrO60i_t29"
   },
   "source": [
    "### **4.2 Calculate Log Returns, Remove Unused Columns, and Drop Nulls**\n",
    "\n",
    "No nulls here for the weekend dates. Since the S&P 500 and the Russell 2000 Index are both stock indices, the weekends are automatically removed. The following code calculates the log returns of these financial assets:"
   ]
  },
  {
   "cell_type": "code",
   "execution_count": 42,
   "metadata": {
    "colab": {
     "base_uri": "https://localhost:8080/",
     "height": 238
    },
    "executionInfo": {
     "elapsed": 245,
     "status": "ok",
     "timestamp": 1729525997529,
     "user": {
      "displayName": "Tea Toradze",
      "userId": "13683888799925082799"
     },
     "user_tz": -60
    },
    "id": "OsDpPivi_t29",
    "outputId": "aa2c6b38-61e5-453e-c878-be76d93a0362"
   },
   "outputs": [
    {
     "data": {
      "text/html": [
       "<div>\n",
       "<style scoped>\n",
       "    .dataframe tbody tr th:only-of-type {\n",
       "        vertical-align: middle;\n",
       "    }\n",
       "\n",
       "    .dataframe tbody tr th {\n",
       "        vertical-align: top;\n",
       "    }\n",
       "\n",
       "    .dataframe thead th {\n",
       "        text-align: right;\n",
       "    }\n",
       "</style>\n",
       "<table border=\"1\" class=\"dataframe\">\n",
       "  <thead>\n",
       "    <tr style=\"text-align: right;\">\n",
       "      <th>Ticker</th>\n",
       "      <th>SP500</th>\n",
       "      <th>Russell2000</th>\n",
       "    </tr>\n",
       "    <tr>\n",
       "      <th>Date</th>\n",
       "      <th></th>\n",
       "      <th></th>\n",
       "    </tr>\n",
       "  </thead>\n",
       "  <tbody>\n",
       "    <tr>\n",
       "      <th>2019-08-02</th>\n",
       "      <td>-0.007309</td>\n",
       "      <td>-0.011088</td>\n",
       "    </tr>\n",
       "    <tr>\n",
       "      <th>2019-08-05</th>\n",
       "      <td>-0.030230</td>\n",
       "      <td>-0.030621</td>\n",
       "    </tr>\n",
       "    <tr>\n",
       "      <th>2019-08-06</th>\n",
       "      <td>0.012933</td>\n",
       "      <td>0.009821</td>\n",
       "    </tr>\n",
       "    <tr>\n",
       "      <th>2019-08-07</th>\n",
       "      <td>0.000767</td>\n",
       "      <td>-0.000932</td>\n",
       "    </tr>\n",
       "    <tr>\n",
       "      <th>2019-08-08</th>\n",
       "      <td>0.018588</td>\n",
       "      <td>0.020734</td>\n",
       "    </tr>\n",
       "  </tbody>\n",
       "</table>\n",
       "</div>"
      ],
      "text/plain": [
       "Ticker         SP500  Russell2000\n",
       "Date                             \n",
       "2019-08-02 -0.007309    -0.011088\n",
       "2019-08-05 -0.030230    -0.030621\n",
       "2019-08-06  0.012933     0.009821\n",
       "2019-08-07  0.000767    -0.000932\n",
       "2019-08-08  0.018588     0.020734"
      ]
     },
     "execution_count": 42,
     "metadata": {},
     "output_type": "execute_result"
    }
   ],
   "source": [
    "# Calculate log returns\n",
    "df = np.log(prices) - np.log(prices.shift(1))\n",
    "df = df.iloc[1:, 0:]\n",
    "df.head()\n"
   ]
  },
  {
   "cell_type": "markdown",
   "metadata": {
    "id": "0kzykZt4_t29"
   },
   "source": [
    "Log returns are often preferred over simple returns in financial analysis for several reasons:\n",
    "\n",
    " - Time additivity: Log returns can be easily added across time to calculate cumulative returns over longer periods.\n",
    " - Normality: Log returns tend to be more normally distributed than simple returns, which is a desirable property for statistical modeling.\n",
    " - Symmetry: Log returns offer better symmetry than simple returns, especially for smaller changes, which makes them more suitable for certain types of financial analysis.\n",
    "\n",
    "By calculating log returns, you can perform more sophisticated financial analysis and modeling."
   ]
  },
  {
   "cell_type": "markdown",
   "metadata": {
    "id": "RYuQqnCl_t29"
   },
   "source": [
    "### **4.3 Calculating Future Value of Each Index**\n",
    "\n",
    "In the following code snippet, we calculate the average annual return for each index using the mean of the daily returns multiplied by 252 (trading days per year). Then, we use these average returns to calculate future values.\n",
    "\n"
   ]
  },
  {
   "cell_type": "code",
   "execution_count": 43,
   "metadata": {
    "colab": {
     "base_uri": "https://localhost:8080/"
    },
    "executionInfo": {
     "elapsed": 251,
     "status": "ok",
     "timestamp": 1729526012457,
     "user": {
      "displayName": "Tea Toradze",
      "userId": "13683888799925082799"
     },
     "user_tz": -60
    },
    "id": "2y8GC_Jf_t2-",
    "outputId": "6d19505c-0f9b-4c30-9095-3e1799df9168"
   },
   "outputs": [
    {
     "name": "stdout",
     "output_type": "stream",
     "text": [
      "Future Value of SP500: 1872.5041981875975\n",
      "Future Value of Russell2000: 1455.0892174400194\n"
     ]
    }
   ],
   "source": [
    "# Calculate average annual return over the past 5 years\n",
    "avg_returns = df.mean() * 252\n",
    "\n",
    "# Calculate future value for each index\n",
    "future_value_sp500 = 1000 * np.exp(avg_returns[\"SP500\"] * 5)\n",
    "future_value_russell2000 = 1000 * np.exp(avg_returns[\"Russell2000\"] * 5)\n",
    "\n",
    "print(\"Future Value of SP500:\", future_value_sp500)\n",
    "print(\"Future Value of Russell2000:\", future_value_russell2000)\n"
   ]
  },
  {
   "cell_type": "markdown",
   "metadata": {
    "id": "qOVuZZP5_t2-"
   },
   "source": [
    "Remember that past performance is not indicative of future results. Using the average return of the past 5 years is just one approach, and you should consider other factors and potential risks when making investment decisions.\n",
    "\n",
    "In our specific case above, since we are calculating the future value over a 5-year period, using the average annual return is likely more suitable and efficient. However, if we were analyzing the short-term fluctuations or risk of the indices, daily returns would be more informative.\n",
    "\n",
    "Whether it's better to calculate the average daily return or the average annual return depends on the context and how we plan to use the results. Here's a breakdown of the considerations:\n",
    "\n",
    " - Comparability: If we want to compare the returns of different assets or investments with varying timeframes, annualized returns are generally more useful. Daily returns can be misleading if the investment periods are not the same.\n",
    " - Future Value Calculation: If we're specifically calculating future values, using the average annual return directly in the formula is more straightforward and avoids extra steps.\n",
    " - Volatility Analysis: If we're interested in analyzing the volatility or risk of an investment, daily returns might be more relevant as they provide more granular data."
   ]
  },
  {
   "cell_type": "markdown",
   "metadata": {
    "id": "u6NuAG50_t2-"
   },
   "source": [
    "Rewriting the previous code using daily returns is as follows:"
   ]
  },
  {
   "cell_type": "code",
   "execution_count": 44,
   "metadata": {
    "colab": {
     "base_uri": "https://localhost:8080/"
    },
    "executionInfo": {
     "elapsed": 237,
     "status": "ok",
     "timestamp": 1729526061533,
     "user": {
      "displayName": "Tea Toradze",
      "userId": "13683888799925082799"
     },
     "user_tz": -60
    },
    "id": "YC5vomvp_t2-",
    "outputId": "e5b5b1d0-474a-4199-8e55-48b9ac3b140c"
   },
   "outputs": [
    {
     "name": "stdout",
     "output_type": "stream",
     "text": [
      "Future Value of SP500: 1872.5041981875975\n",
      "Future Value of Russell2000: 1455.0892174400194\n"
     ]
    }
   ],
   "source": [
    "# Calculate average daily return over the past 5 years\n",
    "avg_daily_returns = df.mean()\n",
    "\n",
    "# Calculate future value for each index (using daily returns and 5 years)\n",
    "num_days = 252 * 5  # Number of trading days in 5 years\n",
    "future_value_sp500 = 1000 * np.exp(avg_daily_returns[\"SP500\"] * num_days)\n",
    "future_value_russell2000 = 1000 * np.exp(avg_daily_returns[\"Russell2000\"] * num_days)\n",
    "\n",
    "print(\"Future Value of SP500:\", future_value_sp500)\n",
    "print(\"Future Value of Russell2000:\", future_value_russell2000)\n"
   ]
  },
  {
   "cell_type": "markdown",
   "metadata": {
    "id": "riyWVJQj_t2-"
   },
   "source": [
    "This approach uses daily returns instead of annualized returns for the future value calculation. Remember that this assumes continuous compounding, which might not be entirely accurate for real-world investments.\n",
    "\n",
    "The output shows the future value of an initial investment of \\$1,000 in both the S&P 500 and Russell 2000 indices after 5 years, based on their average daily returns.\n",
    "\n",
    " - S&P500: The future value is approximately \\$1,872.50.\n",
    " - Russell2000: The future value is approximately \\$1,455.09.\n",
    "\n",
    "While future value is important when comparing investments, we also need to be concerned about how volatile these investment opportunities are. In the next section, we will discuss three different volatility metrics along with how to program them in Python."
   ]
  },
  {
   "cell_type": "markdown",
   "metadata": {
    "id": "tuClnWIY_t2-"
   },
   "source": [
    "## **5. Investment Opportunities: Volatility**\n",
    "\n",
    "### **5.1 Price Volatility: High-Low**\n",
    "\n",
    "We will be using the prices DataFrame again to show some simple ways to compare the volatility of certain investments. The first method is comparing the high and low of the index. For this, we use the `max()` and `min()` methods to get the high and low over the duration of the DataFrame by column. From here, we can subtract these from each other to get an idea of the potential volatility of each investment."
   ]
  },
  {
   "cell_type": "code",
   "execution_count": 45,
   "metadata": {
    "colab": {
     "base_uri": "https://localhost:8080/",
     "height": 178
    },
    "executionInfo": {
     "elapsed": 276,
     "status": "ok",
     "timestamp": 1729526082259,
     "user": {
      "displayName": "Tea Toradze",
      "userId": "13683888799925082799"
     },
     "user_tz": -60
    },
    "id": "wdE5i-JZ_t2-",
    "outputId": "903605af-c693-46d6-c685-9858e5b70841"
   },
   "outputs": [
    {
     "data": {
      "text/plain": [
       "Ticker\n",
       "SP500         5,667.200195\n",
       "Russell2000   2,442.739990\n",
       "dtype: float64"
      ]
     },
     "execution_count": 45,
     "metadata": {},
     "output_type": "execute_result"
    }
   ],
   "source": [
    "prices.max()"
   ]
  },
  {
   "cell_type": "code",
   "execution_count": 46,
   "metadata": {
    "colab": {
     "base_uri": "https://localhost:8080/",
     "height": 178
    },
    "executionInfo": {
     "elapsed": 268,
     "status": "ok",
     "timestamp": 1729526085450,
     "user": {
      "displayName": "Tea Toradze",
      "userId": "13683888799925082799"
     },
     "user_tz": -60
    },
    "id": "5PVgZBR2_t2_",
    "outputId": "9d2385b8-4618-4ccc-9339-16e407755e34"
   },
   "outputs": [
    {
     "data": {
      "text/plain": [
       "Ticker\n",
       "SP500         2,237.399902\n",
       "Russell2000     991.159973\n",
       "dtype: float64"
      ]
     },
     "execution_count": 46,
     "metadata": {},
     "output_type": "execute_result"
    }
   ],
   "source": [
    "prices.min()"
   ]
  },
  {
   "cell_type": "code",
   "execution_count": 47,
   "metadata": {
    "colab": {
     "base_uri": "https://localhost:8080/",
     "height": 178
    },
    "executionInfo": {
     "elapsed": 256,
     "status": "ok",
     "timestamp": 1729526088180,
     "user": {
      "displayName": "Tea Toradze",
      "userId": "13683888799925082799"
     },
     "user_tz": -60
    },
    "id": "4JNMvpcH_t2_",
    "outputId": "e302edc0-f8ba-45be-f6f7-473518d4d065"
   },
   "outputs": [
    {
     "data": {
      "text/plain": [
       "Ticker\n",
       "SP500         3,429.800293\n",
       "Russell2000   1,451.580017\n",
       "dtype: float64"
      ]
     },
     "execution_count": 47,
     "metadata": {},
     "output_type": "execute_result"
    }
   ],
   "source": [
    "prices.max() - prices.min()"
   ]
  },
  {
   "cell_type": "markdown",
   "metadata": {
    "id": "ANhFXprg_t2_"
   },
   "source": [
    "While some may find this useful, we definitely need to improve upon this metric to make it more useful when comparing different investments. How do you think we can do this? Let's try out two ideas.\n",
    "\n",
    "The first is changing the timeframe slightly. Above, we're looking at the last 5 years of data. Perhaps it would be more useful to analyze more recent data. For this, we will look at the same metric over the last year:"
   ]
  },
  {
   "cell_type": "code",
   "execution_count": 48,
   "metadata": {
    "colab": {
     "base_uri": "https://localhost:8080/",
     "height": 178
    },
    "executionInfo": {
     "elapsed": 234,
     "status": "ok",
     "timestamp": 1729526102350,
     "user": {
      "displayName": "Tea Toradze",
      "userId": "13683888799925082799"
     },
     "user_tz": -60
    },
    "id": "T-47biIy_t2_",
    "outputId": "1134bb6e-40e0-4c3b-a648-951ac1c2c1a6"
   },
   "outputs": [
    {
     "data": {
      "text/plain": [
       "Ticker\n",
       "SP500         1,549.830078\n",
       "Russell2000     626.729980\n",
       "dtype: float64"
      ]
     },
     "execution_count": 48,
     "metadata": {},
     "output_type": "execute_result"
    }
   ],
   "source": [
    "# Slice last year from prices data\n",
    "end = pd.Timestamp(end).tz_localize(None)  # Remove timezone info\n",
    "\n",
    "currYear = prices.loc[\n",
    "    pd.Timestamp(end - datetime.timedelta(365)) : end\n",
    "]\n",
    "\n",
    "# Calculate the difference between the maximum and minimum values in the currYear\n",
    "currYear.max() - currYear.min()\n"
   ]
  },
  {
   "cell_type": "markdown",
   "metadata": {
    "id": "3FEHbof__t2_"
   },
   "source": [
    "Even when comparing data over the last 365 days, it seems hard to do a comparison of these two datasets since they have different starting points. One final adjustment to this volatility metric could be to standardize it by dividing by the current price of the index:"
   ]
  },
  {
   "cell_type": "code",
   "execution_count": 49,
   "metadata": {
    "colab": {
     "base_uri": "https://localhost:8080/",
     "height": 178
    },
    "executionInfo": {
     "elapsed": 273,
     "status": "ok",
     "timestamp": 1729526113575,
     "user": {
      "displayName": "Tea Toradze",
      "userId": "13683888799925082799"
     },
     "user_tz": -60
    },
    "id": "zi9wM6CU_t2_",
    "outputId": "905e0be7-9d15-4b03-bcee-c86e5a4a0cbf"
   },
   "outputs": [
    {
     "data": {
      "text/plain": [
       "Ticker\n",
       "SP500         0.280649\n",
       "Russell2000   0.277993\n",
       "dtype: float64"
      ]
     },
     "execution_count": 49,
     "metadata": {},
     "output_type": "execute_result"
    }
   ],
   "source": [
    "(currYear.max() - currYear.min()) / prices.iloc[-1]"
   ]
  },
  {
   "cell_type": "markdown",
   "metadata": {
    "id": "DtSWnYH5_t3A"
   },
   "source": [
    "Volatility is a measure of the dispersion or fluctuation of returns. Higher volatility indicates greater price swings and potentially higher risk. Now that we have the data standardized by the current price, this high/low metric actually shows that we have similar daily volatility levels in both indices, with the S&P 500 being slightly more volatile than the Russell 2000.\n",
    "\n",
    "**Important Note:**\n",
    "\n",
    " - These values are based on historical data and may not reflect future volatility.\n",
    " - Volatility can be calculated using different methods and timeframes. Make sure you understand the specific calculation used to interpret the results accurately.\n",
    " - Understanding volatility is crucial for assessing investment risk and making informed decisions."
   ]
  },
  {
   "cell_type": "markdown",
   "metadata": {
    "id": "yL6urMa2_t3A"
   },
   "source": [
    "### **5.2 Moving Averages**"
   ]
  },
  {
   "cell_type": "markdown",
   "metadata": {
    "id": "-Tmw1y6b_t3A"
   },
   "source": [
    "We are going to create a volatility metric that compares each day's price to the moving average. The 50- and 200-day averages are commonly used when comparing investments. For our metric, we will use the 50-day average. Here's an example of how we can chart the S&P 500 along with its 50-day moving average:"
   ]
  },
  {
   "cell_type": "code",
   "execution_count": 50,
   "metadata": {
    "colab": {
     "base_uri": "https://localhost:8080/",
     "height": 619
    },
    "executionInfo": {
     "elapsed": 889,
     "status": "ok",
     "timestamp": 1729526438290,
     "user": {
      "displayName": "Tea Toradze",
      "userId": "13683888799925082799"
     },
     "user_tz": -60
    },
    "id": "fy2PGMjt_t3A",
    "outputId": "70ee8ddd-3d8d-46b0-cc89-b18635310a29"
   },
   "outputs": [
    {
     "data": {
      "image/png": "[encoded data removed]",
      "text/plain": [
       "<Figure size 1300x700 with 1 Axes>"
      ]
     },
     "metadata": {},
     "output_type": "display_data"
    }
   ],
   "source": [
    "# Calculate the 50-day rolling average of the \"SP500\" column\n",
    "prices[\"SP500 50 day_rolling_avg\"] = prices.SP500.rolling(50).mean()\n",
    "\n",
    "# set figure size and plot a simple time series plot using seaborn.lineplot()\n",
    "plt.figure(figsize=(13, 7))\n",
    "sns.lineplot(x=\"Date\", y=\"SP500\", data=prices, label=\"Daily S&P 500 Prices\")\n",
    "\n",
    "# plot rolling average\n",
    "sns.lineplot(x=\"Date\", y=\"SP500 50 day_rolling_avg\", data=prices, label=\"Rollingavg\", linewidth=2)\n",
    "plt.show()"
   ]
  },
  {
   "cell_type": "markdown",
   "metadata": {
    "id": "u63MFtV8_t3A"
   },
   "source": [
    "This visualization helps to smooth out short-term fluctuations in daily prices and highlight the longer-term trend of the S&P 500. The rolling average provides a clearer picture of the overall direction of the market.\n"
   ]
  },
  {
   "cell_type": "markdown",
   "metadata": {
    "id": "UKr8PVxn_t3A"
   },
   "source": [
    "#### **5.3 Rolling Distances**\n",
    "\n",
    "We can create a volatility metric here using this moving average. Let's imagine we're taking the distance between the moving average line and each data point from the S&P 500 chart. We can use this as a proxy for volatility. We also would want to treat the negative differences the same as the positive differences; otherwise, they may cancel each other out. As such, we will use the absolute value of each point. We will divide these differences by the prices in order to standardize these values, and finally, we'll take the average of those values. This can be programmed in Python with this simple line:"
   ]
  },
  {
   "cell_type": "code",
   "execution_count": 51,
   "metadata": {
    "colab": {
     "base_uri": "https://localhost:8080/",
     "height": 210
    },
    "executionInfo": {
     "elapsed": 278,
     "status": "ok",
     "timestamp": 1729526453109,
     "user": {
      "displayName": "Tea Toradze",
      "userId": "13683888799925082799"
     },
     "user_tz": -60
    },
    "id": "bY_0lhOI_t3B",
    "outputId": "129901d9-aea8-4df0-a18a-0a3e662e4647"
   },
   "outputs": [
    {
     "data": {
      "text/plain": [
       "Ticker\n",
       "SP500                      0.037068\n",
       "Russell2000                0.048725\n",
       "SP500 50 day_rolling_avg   0.028209\n",
       "dtype: float64"
      ]
     },
     "execution_count": 51,
     "metadata": {},
     "output_type": "execute_result"
    }
   ],
   "source": [
    "((abs(prices - prices.rolling(50).mean())) / prices).mean()"
   ]
  },
  {
   "cell_type": "markdown",
   "metadata": {
    "id": "3KyIswZl_t3B"
   },
   "source": [
    "The result of this calculation provides a measure of how much, on average, the daily prices deviate from their 50-day rolling average, expressed as a percentage. This can be a useful indicator of the volatility or stability of the asset. Higher values suggest greater fluctuations around the rolling average, while lower values indicate more stable prices.\n",
    "\n",
    "This is a different metric than the high/low metric we previously calculated, and it shows that the average deviation for the Russell 2000 is more volatile compared to the S&P 500. And the rolling average itself (SP500 50 day_rolling_avg) has an average deviation of 2.82%. This is expected as the rolling average is smoother than the daily prices.\n",
    "\n",
    "These values can be useful for understanding the relative volatility of different assets and how much daily prices tend to deviate from their longer-term trends.\n"
   ]
  },
  {
   "cell_type": "markdown",
   "metadata": {
    "id": "Mpeu-dDF_t3B"
   },
   "source": [
    "### **5.4 Price Volatility: Standard Deviations**\n",
    "\n",
    "Standard deviation is potentially the most popular volatility metric used when looking at an investment opportunity. It's as simple as calling the `std()` method on a DataFrame."
   ]
  },
  {
   "cell_type": "code",
   "execution_count": 52,
   "metadata": {
    "colab": {
     "base_uri": "https://localhost:8080/",
     "height": 210
    },
    "executionInfo": {
     "elapsed": 250,
     "status": "ok",
     "timestamp": 1729526949119,
     "user": {
      "displayName": "Tea Toradze",
      "userId": "13683888799925082799"
     },
     "user_tz": -60
    },
    "id": "Y-d5Fefy_t3B",
    "outputId": "77b886e5-96f4-480e-aa21-ab738e8e2231"
   },
   "outputs": [
    {
     "data": {
      "text/plain": [
       "Ticker\n",
       "SP500                      685.682781\n",
       "Russell2000                284.232353\n",
       "SP500 50 day_rolling_avg   635.644388\n",
       "dtype: float64"
      ]
     },
     "execution_count": 52,
     "metadata": {},
     "output_type": "execute_result"
    }
   ],
   "source": [
    "prices.std()"
   ]
  },
  {
   "cell_type": "markdown",
   "metadata": {
    "id": "qMNuz-rM_t3B"
   },
   "source": [
    "As mentioned before, calling this on the prices is not as intuitive as calling this on the returns since prices start at different points. For a better comparison, we will call this `std()` method on the daily returns of the last 5 years:"
   ]
  },
  {
   "cell_type": "code",
   "execution_count": 53,
   "metadata": {
    "colab": {
     "base_uri": "https://localhost:8080/",
     "height": 178
    },
    "executionInfo": {
     "elapsed": 281,
     "status": "ok",
     "timestamp": 1729526968393,
     "user": {
      "displayName": "Tea Toradze",
      "userId": "13683888799925082799"
     },
     "user_tz": -60
    },
    "id": "rC8Yx1nB_t3C",
    "outputId": "866a65b9-94da-47c5-8e22-862a625bb0d5"
   },
   "outputs": [
    {
     "data": {
      "text/plain": [
       "Ticker\n",
       "SP500         0.013458\n",
       "Russell2000   0.017503\n",
       "dtype: float64"
      ]
     },
     "execution_count": 53,
     "metadata": {},
     "output_type": "execute_result"
    }
   ],
   "source": [
    "df.std()"
   ]
  },
  {
   "cell_type": "markdown",
   "metadata": {
    "id": "lshdK2x6_t3D"
   },
   "source": [
    "Here again, the Russell 2000 has a slightly higher standard deviation than the S&P 500, suggesting that it has been more volatile over the last 5 years.\n"
   ]
  },
  {
   "cell_type": "markdown",
   "metadata": {
    "id": "g0Rhn_Nm_t3D"
   },
   "source": [
    "### **5.5 Writing a Volatility Comparison Function in Python**\n",
    "\n",
    "To tie it all together, we're going to take the three volatility metrics we've used up to this point, along with average daily return, and write a function, which takes:\n",
    "\n",
    "* `startTime` - `dateTime` format\n",
    "* `endTime` - `dateTime` format\n",
    "* `tickers` - a dictionary of values where the key is the yahoo ticker and the value is the display name i.e. {\"^GSPC\": \"SP500\", \"^RUT\": \"Russell2000\"}\n",
    "\n",
    "By writing a function like this, it allows our research to be reproducible and applicable to many different parameters. In our case, it will be a date range and dictionary of tickers. If you were writing a serious application, you would need to have lots of error handling in this function, such as guaranteeing that parameters passed in are of the correct type. In our case, we will assume the data types of parameters are correct and that the date range is longer than 365 days."
   ]
  },
  {
   "cell_type": "code",
   "execution_count": 54,
   "metadata": {
    "id": "QnHu2Gde_t3D"
   },
   "outputs": [],
   "source": [
    "def investCompare(startTime, endTime, tickers):\n",
    "    # pull price data from yahoo -- (list(tickers.keys())) = ['^GSPC','^RUT']\n",
    "    startTime = pd.Timestamp(startTime).tz_localize('UTC')\n",
    "    endTime = pd.Timestamp(endTime).tz_localize('UTC')\n",
    "    prices = yfin.download(list(tickers.keys()), startTime, endTime, auto_adjust = False)[\"Adj Close\"]\n",
    "    prices = prices.rename(columns=tickers)\n",
    "    returns = np.log(prices) - np.log(prices.shift(1))\n",
    "    returns = returns.iloc[1:, 0:]\n",
    "\n",
    "    # pull data into separate DataFrame to just look at the last 365 days of\n",
    "    # data for calculating our high/low metric\n",
    "    currYear = prices.loc[(endTime - datetime.timedelta(365)).tz_convert(prices.index.tz) : endTime.tz_convert(prices.index.tz)]\n",
    "\n",
    "    # High-Low\n",
    "    highLow = (currYear.max() - currYear.min()) / prices.iloc[-1]\n",
    "    highLow = pd.DataFrame(highLow, columns=[\"HighMinusLow\"])\n",
    "\n",
    "    # Moving average volatility\n",
    "    MA = pd.DataFrame(\n",
    "        ((abs(prices - prices.rolling(50).mean())) / prices).mean(),\n",
    "        columns=[\"MovingAverageVolatility\"],\n",
    "    )\n",
    "    investments = pd.merge(highLow, MA, left_index=True, right_index=True)\n",
    "\n",
    "    # Standard deviation\n",
    "    investments = pd.merge(\n",
    "        investments,\n",
    "        pd.DataFrame(returns.std(), columns=[\"StandardDeviation\"]),\n",
    "        left_index=True,\n",
    "        right_index=True,\n",
    "    )\n",
    "\n",
    "    # Daily return\n",
    "    investments = pd.merge(\n",
    "        investments,\n",
    "        pd.DataFrame(100 * returns.mean(), columns=[\"Daily Return Percentage\"]),\n",
    "        left_index=True,\n",
    "        right_index=True,\n",
    "    )\n",
    "\n",
    "    # Format columns:\n",
    "    # Hogh-Low column rounded to 5 decimal\n",
    "    investments[\"HighMinusLow\"] = investments[\"HighMinusLow\"].round(4).astype(str)\n",
    "\n",
    "    # MA, std and returns columns as percentage\n",
    "    columns = [\"MovingAverageVolatility\", \"StandardDeviation\", \"Daily Return Percentage\"]\n",
    "    for col in columns:\n",
    "      investments[col] = (investments[col] * 100).round(3).astype(str) + '%'\n",
    "\n",
    "    return investments"
   ]
  },
  {
   "cell_type": "markdown",
   "metadata": {
    "id": "hP5xLs8p81IF"
   },
   "source": [
    "Here we also format values: High-Low values are rounded to 4 decimal places and the values in the 'MovingAverageVolatility,' 'StandardDeviation,' and 'Daily Return Percentage' columns are formatted as percentages with 3 decimal rounding, which is good practice to facilitate comparison."
   ]
  },
  {
   "cell_type": "markdown",
   "metadata": {
    "id": "KOsk53rj_t3E"
   },
   "source": [
    "### **5.6 Running Our Volatility Function**\n",
    "\n",
    "We will start by calling our function with the two indices we've been examining thus far: the S&P 500 alongside the Russell 2000 Index. As we've seen, the three volatility metrics showed the Russell 2000 to be the more volatile investment. The average daily return is also higher for the S&P 500. Therefore, over the last 5 years, not only has the S&P 500 returned better than the Russell 2000, but it was also less volatile. Keep in mind that these different volatility metrics all calculate in some way how turbulently the stock has behaved in the past. This exercise was intended to demonstrate different ways of calculating volatility and how you can be a bit creative with it. This doesn't mean that volatility is constant or easily predictable, behaving the same way going forward; this exercise only reflects the past."
   ]
  },
  {
   "cell_type": "code",
   "execution_count": 55,
   "metadata": {
    "colab": {
     "base_uri": "https://localhost:8080/",
     "height": 161
    },
    "executionInfo": {
     "elapsed": 473,
     "status": "ok",
     "timestamp": 1729529029572,
     "user": {
      "displayName": "Tea Toradze",
      "userId": "13683888799925082799"
     },
     "user_tz": -60
    },
    "id": "gFPrIWGS_t3E",
    "outputId": "772b85c9-c20b-4851-9b45-5709e7299cd2"
   },
   "outputs": [
    {
     "name": "stderr",
     "output_type": "stream",
     "text": [
      "[*********************100%***********************]  2 of 2 completed\n"
     ]
    },
    {
     "data": {
      "text/html": [
       "<div>\n",
       "<style scoped>\n",
       "    .dataframe tbody tr th:only-of-type {\n",
       "        vertical-align: middle;\n",
       "    }\n",
       "\n",
       "    .dataframe tbody tr th {\n",
       "        vertical-align: top;\n",
       "    }\n",
       "\n",
       "    .dataframe thead th {\n",
       "        text-align: right;\n",
       "    }\n",
       "</style>\n",
       "<table border=\"1\" class=\"dataframe\">\n",
       "  <thead>\n",
       "    <tr style=\"text-align: right;\">\n",
       "      <th></th>\n",
       "      <th>HighMinusLow</th>\n",
       "      <th>MovingAverageVolatility</th>\n",
       "      <th>StandardDeviation</th>\n",
       "      <th>Daily Return Percentage</th>\n",
       "    </tr>\n",
       "    <tr>\n",
       "      <th>Ticker</th>\n",
       "      <th></th>\n",
       "      <th></th>\n",
       "      <th></th>\n",
       "      <th></th>\n",
       "    </tr>\n",
       "  </thead>\n",
       "  <tbody>\n",
       "    <tr>\n",
       "      <th>SP500</th>\n",
       "      <td>0.2806</td>\n",
       "      <td>3.707%</td>\n",
       "      <td>1.346%</td>\n",
       "      <td>4.978%</td>\n",
       "    </tr>\n",
       "    <tr>\n",
       "      <th>Russell2000</th>\n",
       "      <td>0.278</td>\n",
       "      <td>4.873%</td>\n",
       "      <td>1.75%</td>\n",
       "      <td>2.977%</td>\n",
       "    </tr>\n",
       "  </tbody>\n",
       "</table>\n",
       "</div>"
      ],
      "text/plain": [
       "            HighMinusLow MovingAverageVolatility StandardDeviation  \\\n",
       "Ticker                                                               \n",
       "SP500             0.2806                  3.707%            1.346%   \n",
       "Russell2000        0.278                  4.873%             1.75%   \n",
       "\n",
       "            Daily Return Percentage  \n",
       "Ticker                               \n",
       "SP500                        4.978%  \n",
       "Russell2000                  2.977%  "
      ]
     },
     "execution_count": 55,
     "metadata": {},
     "output_type": "execute_result"
    }
   ],
   "source": [
    "investCompare(\n",
    "    datetime.date(2019, 8, 1),\n",
    "    datetime.date(2024, 8, 1),\n",
    "    {\"^GSPC\": \"SP500\", \"^RUT\": \"Russell2000\"},\n",
    ")"
   ]
  },
  {
   "cell_type": "markdown",
   "metadata": {
    "id": "ip4nxOrn_t3E"
   },
   "source": [
    "This function gives us one clean space to compare investments in one line.\n",
    "\n",
    "We also want to show that we made the function flexible in order to add symbols in the future. In the example below, we added Apple to the DataFrame in order to compare it to the other two indices."
   ]
  },
  {
   "cell_type": "code",
   "execution_count": 56,
   "metadata": {
    "colab": {
     "base_uri": "https://localhost:8080/",
     "height": 192
    },
    "executionInfo": {
     "elapsed": 1181,
     "status": "ok",
     "timestamp": 1729529034395,
     "user": {
      "displayName": "Tea Toradze",
      "userId": "13683888799925082799"
     },
     "user_tz": -60
    },
    "id": "Z8TQbryi_t3E",
    "outputId": "30f4e9fb-cf86-42e4-bca6-832874345ad5"
   },
   "outputs": [
    {
     "name": "stderr",
     "output_type": "stream",
     "text": [
      "[*********************100%***********************]  3 of 3 completed\n"
     ]
    },
    {
     "data": {
      "text/html": [
       "<div>\n",
       "<style scoped>\n",
       "    .dataframe tbody tr th:only-of-type {\n",
       "        vertical-align: middle;\n",
       "    }\n",
       "\n",
       "    .dataframe tbody tr th {\n",
       "        vertical-align: top;\n",
       "    }\n",
       "\n",
       "    .dataframe thead th {\n",
       "        text-align: right;\n",
       "    }\n",
       "</style>\n",
       "<table border=\"1\" class=\"dataframe\">\n",
       "  <thead>\n",
       "    <tr style=\"text-align: right;\">\n",
       "      <th></th>\n",
       "      <th>HighMinusLow</th>\n",
       "      <th>MovingAverageVolatility</th>\n",
       "      <th>StandardDeviation</th>\n",
       "      <th>Daily Return Percentage</th>\n",
       "    </tr>\n",
       "    <tr>\n",
       "      <th>Ticker</th>\n",
       "      <th></th>\n",
       "      <th></th>\n",
       "      <th></th>\n",
       "      <th></th>\n",
       "    </tr>\n",
       "  </thead>\n",
       "  <tbody>\n",
       "    <tr>\n",
       "      <th>Apple</th>\n",
       "      <td>0.3154</td>\n",
       "      <td>6.462%</td>\n",
       "      <td>2.008%</td>\n",
       "      <td>11.816%</td>\n",
       "    </tr>\n",
       "    <tr>\n",
       "      <th>SP500</th>\n",
       "      <td>0.2806</td>\n",
       "      <td>3.707%</td>\n",
       "      <td>1.346%</td>\n",
       "      <td>4.978%</td>\n",
       "    </tr>\n",
       "    <tr>\n",
       "      <th>Russell2000</th>\n",
       "      <td>0.278</td>\n",
       "      <td>4.873%</td>\n",
       "      <td>1.75%</td>\n",
       "      <td>2.977%</td>\n",
       "    </tr>\n",
       "  </tbody>\n",
       "</table>\n",
       "</div>"
      ],
      "text/plain": [
       "            HighMinusLow MovingAverageVolatility StandardDeviation  \\\n",
       "Ticker                                                               \n",
       "Apple             0.3154                  6.462%            2.008%   \n",
       "SP500             0.2806                  3.707%            1.346%   \n",
       "Russell2000        0.278                  4.873%             1.75%   \n",
       "\n",
       "            Daily Return Percentage  \n",
       "Ticker                               \n",
       "Apple                       11.816%  \n",
       "SP500                        4.978%  \n",
       "Russell2000                  2.977%  "
      ]
     },
     "execution_count": 56,
     "metadata": {},
     "output_type": "execute_result"
    }
   ],
   "source": [
    "investCompare(\n",
    "    datetime.date(2019, 8, 1),\n",
    "    datetime.date(2024, 8, 1),\n",
    "    {\"^GSPC\": \"SP500\", \"^RUT\": \"Russell2000\", \"AAPL\": \"Apple\"},\n",
    ")"
   ]
  },
  {
   "cell_type": "markdown",
   "metadata": {
    "id": "52f7ZzVo_t3F"
   },
   "source": [
    "These metrics show Apple to be a better investment in terms of daily return, but they also show that Apple is significantly more volatile than the two indices. This is expected, since the indices represent vast baskets of stocks. With many stocks moving in different directions, you'd expect the indices to be less volatile than an individual stock, even a blue-chip stock like Apple."
   ]
  },
  {
   "cell_type": "markdown",
   "metadata": {
    "id": "51yvYuew_t3F"
   },
   "source": [
    "# **6. Comparing Growth vs. Value Stocks**\n",
    "\n",
    "We can continue using the function we just wrote to examine and compare different categories of investments, starting here with growth vs. value stocks. As a proxy for growth stocks, we will use the Vanguard Growth ETF (VUG). VUG is one of the biggest growth ETFs with around \\$87 billion in assets under management.\n",
    "\n",
    "For value stocks, we will use the Vanguard Value ETF (VTV). VTV is the most prominent value ETF with \\$88 billion in assets under management. As you may imagine by now, Vanguard is a popular purveyor of ETFs and has some of the lowest expense ratios in the industry."
   ]
  },
  {
   "cell_type": "code",
   "execution_count": 57,
   "metadata": {
    "colab": {
     "base_uri": "https://localhost:8080/",
     "height": 161
    },
    "executionInfo": {
     "elapsed": 452,
     "status": "ok",
     "timestamp": 1729529041511,
     "user": {
      "displayName": "Tea Toradze",
      "userId": "13683888799925082799"
     },
     "user_tz": -60
    },
    "id": "-ZElL9V1_t3F",
    "outputId": "178b2278-3f31-4c04-904e-a7efd3abccb6"
   },
   "outputs": [
    {
     "name": "stderr",
     "output_type": "stream",
     "text": [
      "[*********************100%***********************]  2 of 2 completed\n"
     ]
    },
    {
     "data": {
      "text/html": [
       "<div>\n",
       "<style scoped>\n",
       "    .dataframe tbody tr th:only-of-type {\n",
       "        vertical-align: middle;\n",
       "    }\n",
       "\n",
       "    .dataframe tbody tr th {\n",
       "        vertical-align: top;\n",
       "    }\n",
       "\n",
       "    .dataframe thead th {\n",
       "        text-align: right;\n",
       "    }\n",
       "</style>\n",
       "<table border=\"1\" class=\"dataframe\">\n",
       "  <thead>\n",
       "    <tr style=\"text-align: right;\">\n",
       "      <th></th>\n",
       "      <th>HighMinusLow</th>\n",
       "      <th>MovingAverageVolatility</th>\n",
       "      <th>StandardDeviation</th>\n",
       "      <th>Daily Return Percentage</th>\n",
       "    </tr>\n",
       "    <tr>\n",
       "      <th>Ticker</th>\n",
       "      <th></th>\n",
       "      <th></th>\n",
       "      <th></th>\n",
       "      <th></th>\n",
       "    </tr>\n",
       "  </thead>\n",
       "  <tbody>\n",
       "    <tr>\n",
       "      <th>Value</th>\n",
       "      <td>0.2306</td>\n",
       "      <td>2.546%</td>\n",
       "      <td>0.825%</td>\n",
       "      <td>4.955%</td>\n",
       "    </tr>\n",
       "    <tr>\n",
       "      <th>Growth</th>\n",
       "      <td>0.3582</td>\n",
       "      <td>4.083%</td>\n",
       "      <td>1.284%</td>\n",
       "      <td>7.796%</td>\n",
       "    </tr>\n",
       "  </tbody>\n",
       "</table>\n",
       "</div>"
      ],
      "text/plain": [
       "       HighMinusLow MovingAverageVolatility StandardDeviation  \\\n",
       "Ticker                                                          \n",
       "Value        0.2306                  2.546%            0.825%   \n",
       "Growth       0.3582                  4.083%            1.284%   \n",
       "\n",
       "       Daily Return Percentage  \n",
       "Ticker                          \n",
       "Value                   4.955%  \n",
       "Growth                  7.796%  "
      ]
     },
     "execution_count": 57,
     "metadata": {},
     "output_type": "execute_result"
    }
   ],
   "source": [
    "# Set start and end dates\n",
    "start = datetime.date(2022, 8, 1)\n",
    "end = datetime.date(2024, 8, 1)\n",
    "\n",
    "# Compute investments stats using investCompare() function\n",
    "investCompare(start, end, {\"VUG\": \"Growth\", \"VTV\": \"Value\"})\n"
   ]
  },
  {
   "cell_type": "markdown",
   "metadata": {
    "id": "_K29S0PE_t3F"
   },
   "source": [
    "Running `investCompare` over the last two years for these ETFs shows that growth stocks have clearly outperformed value stocks in terms of returns — but not without increased volatility.\n",
    "\n",
    "We need to keep in mind that timeframes have a large influence on our results here. Let's take a look at the data since 2010:"
   ]
  },
  {
   "cell_type": "code",
   "execution_count": 58,
   "metadata": {
    "colab": {
     "base_uri": "https://localhost:8080/",
     "height": 161
    },
    "executionInfo": {
     "elapsed": 506,
     "status": "ok",
     "timestamp": 1729529045522,
     "user": {
      "displayName": "Tea Toradze",
      "userId": "13683888799925082799"
     },
     "user_tz": -60
    },
    "id": "scohGOZJ_t3F",
    "outputId": "ed1708d8-028b-4452-cb67-ab2d96c952a7"
   },
   "outputs": [
    {
     "name": "stderr",
     "output_type": "stream",
     "text": [
      "[*********************100%***********************]  2 of 2 completed\n"
     ]
    },
    {
     "data": {
      "text/html": [
       "<div>\n",
       "<style scoped>\n",
       "    .dataframe tbody tr th:only-of-type {\n",
       "        vertical-align: middle;\n",
       "    }\n",
       "\n",
       "    .dataframe tbody tr th {\n",
       "        vertical-align: top;\n",
       "    }\n",
       "\n",
       "    .dataframe thead th {\n",
       "        text-align: right;\n",
       "    }\n",
       "</style>\n",
       "<table border=\"1\" class=\"dataframe\">\n",
       "  <thead>\n",
       "    <tr style=\"text-align: right;\">\n",
       "      <th></th>\n",
       "      <th>HighMinusLow</th>\n",
       "      <th>MovingAverageVolatility</th>\n",
       "      <th>StandardDeviation</th>\n",
       "      <th>Daily Return Percentage</th>\n",
       "    </tr>\n",
       "    <tr>\n",
       "      <th>Ticker</th>\n",
       "      <th></th>\n",
       "      <th></th>\n",
       "      <th></th>\n",
       "      <th></th>\n",
       "    </tr>\n",
       "  </thead>\n",
       "  <tbody>\n",
       "    <tr>\n",
       "      <th>Value</th>\n",
       "      <td>0.2306</td>\n",
       "      <td>2.753%</td>\n",
       "      <td>1.043%</td>\n",
       "      <td>4.544%</td>\n",
       "    </tr>\n",
       "    <tr>\n",
       "      <th>Growth</th>\n",
       "      <td>0.3582</td>\n",
       "      <td>3.435%</td>\n",
       "      <td>1.224%</td>\n",
       "      <td>5.908%</td>\n",
       "    </tr>\n",
       "  </tbody>\n",
       "</table>\n",
       "</div>"
      ],
      "text/plain": [
       "       HighMinusLow MovingAverageVolatility StandardDeviation  \\\n",
       "Ticker                                                          \n",
       "Value        0.2306                  2.753%            1.043%   \n",
       "Growth       0.3582                  3.435%            1.224%   \n",
       "\n",
       "       Daily Return Percentage  \n",
       "Ticker                          \n",
       "Value                   4.544%  \n",
       "Growth                  5.908%  "
      ]
     },
     "execution_count": 58,
     "metadata": {},
     "output_type": "execute_result"
    }
   ],
   "source": [
    "# Set start and end dates\n",
    "start = datetime.date(2010, 8, 1)\n",
    "end = datetime.date(2024, 8, 1)\n",
    "\n",
    "# Compute investments stats using investCompare() function\n",
    "investCompare(start, end, {\"VUG\": \"Growth\", \"VTV\": \"Value\"})\n"
   ]
  },
  {
   "cell_type": "markdown",
   "metadata": {
    "id": "eNZHBlgG_t3F"
   },
   "source": [
    "Interestingly, compared to the previous analysis over a shorter timeframe, the differences in volatility and returns between Growth and Value seem to have narrowed slightly over this longer period. This could be due to the fact that, over the long term, the risk-return profiles of these investment styles are more balanced.\n",
    "\n"
   ]
  },
  {
   "cell_type": "markdown",
   "metadata": {
    "id": "OkYuca5z_t3F"
   },
   "source": [
    "# **7. Comparing Domestic vs. Foreign Stocks**\n",
    "\n",
    "We will use the S&P 500 once again for U.S. stocks while finding an ETF for the foreign stocks. There are tons of options to choose from in this space.\n",
    "\n",
    "The first question you need to ask yourself is where do you want to invest? It could be emerging markets, Europe, China, etc. To make things simple, we will use one example that is specific to Europe, ETF: SPDR Portfolio Europe ETF (SPEU), and one example that is specific to China, ETF: SPDR S&P China ETF (GXC)."
   ]
  },
  {
   "cell_type": "code",
   "execution_count": 59,
   "metadata": {
    "colab": {
     "base_uri": "https://localhost:8080/",
     "height": 192
    },
    "executionInfo": {
     "elapsed": 242,
     "status": "ok",
     "timestamp": 1729529052421,
     "user": {
      "displayName": "Tea Toradze",
      "userId": "13683888799925082799"
     },
     "user_tz": -60
    },
    "id": "eEJjoz9C_t3G",
    "outputId": "2a82c664-8170-4bec-caa4-85f785086a0c"
   },
   "outputs": [
    {
     "name": "stderr",
     "output_type": "stream",
     "text": [
      "[*********************100%***********************]  3 of 3 completed\n"
     ]
    },
    {
     "data": {
      "text/html": [
       "<div>\n",
       "<style scoped>\n",
       "    .dataframe tbody tr th:only-of-type {\n",
       "        vertical-align: middle;\n",
       "    }\n",
       "\n",
       "    .dataframe tbody tr th {\n",
       "        vertical-align: top;\n",
       "    }\n",
       "\n",
       "    .dataframe thead th {\n",
       "        text-align: right;\n",
       "    }\n",
       "</style>\n",
       "<table border=\"1\" class=\"dataframe\">\n",
       "  <thead>\n",
       "    <tr style=\"text-align: right;\">\n",
       "      <th></th>\n",
       "      <th>HighMinusLow</th>\n",
       "      <th>MovingAverageVolatility</th>\n",
       "      <th>StandardDeviation</th>\n",
       "      <th>Daily Return Percentage</th>\n",
       "    </tr>\n",
       "    <tr>\n",
       "      <th>Ticker</th>\n",
       "      <th></th>\n",
       "      <th></th>\n",
       "      <th></th>\n",
       "      <th></th>\n",
       "    </tr>\n",
       "  </thead>\n",
       "  <tbody>\n",
       "    <tr>\n",
       "      <th>China ETF</th>\n",
       "      <td>0.2629</td>\n",
       "      <td>4.816%</td>\n",
       "      <td>1.633%</td>\n",
       "      <td>-2.54%</td>\n",
       "    </tr>\n",
       "    <tr>\n",
       "      <th>Europe ETF</th>\n",
       "      <td>0.2324</td>\n",
       "      <td>3.378%</td>\n",
       "      <td>1.051%</td>\n",
       "      <td>5.511%</td>\n",
       "    </tr>\n",
       "    <tr>\n",
       "      <th>SP500</th>\n",
       "      <td>0.2806</td>\n",
       "      <td>2.985%</td>\n",
       "      <td>0.98%</td>\n",
       "      <td>5.842%</td>\n",
       "    </tr>\n",
       "  </tbody>\n",
       "</table>\n",
       "</div>"
      ],
      "text/plain": [
       "           HighMinusLow MovingAverageVolatility StandardDeviation  \\\n",
       "Ticker                                                              \n",
       "China ETF        0.2629                  4.816%            1.633%   \n",
       "Europe ETF       0.2324                  3.378%            1.051%   \n",
       "SP500            0.2806                  2.985%             0.98%   \n",
       "\n",
       "           Daily Return Percentage  \n",
       "Ticker                              \n",
       "China ETF                   -2.54%  \n",
       "Europe ETF                  5.511%  \n",
       "SP500                       5.842%  "
      ]
     },
     "execution_count": 59,
     "metadata": {},
     "output_type": "execute_result"
    }
   ],
   "source": [
    "# Comparing Domestic vs. Foreign Stocks\n",
    "start = datetime.date(2022, 8, 1)\n",
    "end = datetime.date(2024, 8, 1)\n",
    "investCompare(start, end,{\"^GSPC\": \"SP500\", \"SPEU\": \"Europe ETF\", \"GXC\": \"China ETF\"})\n"
   ]
  },
  {
   "cell_type": "markdown",
   "metadata": {
    "id": "QisfbMpp_t3G"
   },
   "source": [
    "Key Takeaways:\n",
    "\n",
    " - The China ETF appears to be the most volatile and risky investment among the three, with a negative average daily return during this period.\n",
    " - The Europe ETF and the U.S. stocks show similar levels of volatility and positive returns, with the U.S. stocks having a slightly higher return.\n",
    "\n",
    "Now, let's zoom out and look at the data since 2010, and we'll see the following:"
   ]
  },
  {
   "cell_type": "code",
   "execution_count": 60,
   "metadata": {
    "colab": {
     "base_uri": "https://localhost:8080/",
     "height": 192
    },
    "executionInfo": {
     "elapsed": 890,
     "status": "ok",
     "timestamp": 1729529058749,
     "user": {
      "displayName": "Tea Toradze",
      "userId": "13683888799925082799"
     },
     "user_tz": -60
    },
    "id": "af7jUslL_t3G",
    "outputId": "0f76c028-6439-4906-d8e3-4895fdc70f59"
   },
   "outputs": [
    {
     "name": "stderr",
     "output_type": "stream",
     "text": [
      "[*********************100%***********************]  3 of 3 completed\n"
     ]
    },
    {
     "data": {
      "text/html": [
       "<div>\n",
       "<style scoped>\n",
       "    .dataframe tbody tr th:only-of-type {\n",
       "        vertical-align: middle;\n",
       "    }\n",
       "\n",
       "    .dataframe tbody tr th {\n",
       "        vertical-align: top;\n",
       "    }\n",
       "\n",
       "    .dataframe thead th {\n",
       "        text-align: right;\n",
       "    }\n",
       "</style>\n",
       "<table border=\"1\" class=\"dataframe\">\n",
       "  <thead>\n",
       "    <tr style=\"text-align: right;\">\n",
       "      <th></th>\n",
       "      <th>HighMinusLow</th>\n",
       "      <th>MovingAverageVolatility</th>\n",
       "      <th>StandardDeviation</th>\n",
       "      <th>Daily Return Percentage</th>\n",
       "    </tr>\n",
       "    <tr>\n",
       "      <th>Ticker</th>\n",
       "      <th></th>\n",
       "      <th></th>\n",
       "      <th></th>\n",
       "      <th></th>\n",
       "    </tr>\n",
       "  </thead>\n",
       "  <tbody>\n",
       "    <tr>\n",
       "      <th>China ETF</th>\n",
       "      <td>0.2629</td>\n",
       "      <td>4.521%</td>\n",
       "      <td>1.567%</td>\n",
       "      <td>0.583%</td>\n",
       "    </tr>\n",
       "    <tr>\n",
       "      <th>Europe ETF</th>\n",
       "      <td>0.2324</td>\n",
       "      <td>3.241%</td>\n",
       "      <td>1.233%</td>\n",
       "      <td>2.13%</td>\n",
       "    </tr>\n",
       "    <tr>\n",
       "      <th>SP500</th>\n",
       "      <td>0.2806</td>\n",
       "      <td>2.884%</td>\n",
       "      <td>1.085%</td>\n",
       "      <td>4.515%</td>\n",
       "    </tr>\n",
       "  </tbody>\n",
       "</table>\n",
       "</div>"
      ],
      "text/plain": [
       "           HighMinusLow MovingAverageVolatility StandardDeviation  \\\n",
       "Ticker                                                              \n",
       "China ETF        0.2629                  4.521%            1.567%   \n",
       "Europe ETF       0.2324                  3.241%            1.233%   \n",
       "SP500            0.2806                  2.884%            1.085%   \n",
       "\n",
       "           Daily Return Percentage  \n",
       "Ticker                              \n",
       "China ETF                   0.583%  \n",
       "Europe ETF                   2.13%  \n",
       "SP500                       4.515%  "
      ]
     },
     "execution_count": 60,
     "metadata": {},
     "output_type": "execute_result"
    }
   ],
   "source": [
    "# Comparing Domestic vs. Foreign Stocks\n",
    "start = datetime.date(2010, 8, 1)\n",
    "end = datetime.date(2024, 8, 1)\n",
    "investCompare(start, end,{\"^GSPC\": \"SP500\", \"SPEU\": \"Europe ETF\", \"GXC\": \"China ETF\"})\n"
   ]
  },
  {
   "cell_type": "markdown",
   "metadata": {
    "id": "Ou67Bg2V_t3G"
   },
   "source": [
    "**Key Takeaways:**\n",
    "\n",
    " - Over this longer period, the U.S. equities appear to have provided the highest returns, followed by the Europe ETF and then the China ETF.\n",
    " - The China ETF, while still showing higher volatility, has a positive average daily return over the long term, unlike the negative return observed in the shorter timeframe analysis.\n",
    "\n",
    "While considering longer timeframes is generally recommended for investment evaluation, it's not a universal rule and there are valid arguments against solely relying on long-term performance.\n",
    "\n",
    "Here are some points we could argue:\n",
    "\n",
    " - Changing Market Dynamics: Long-term historical data might not accurately reflect current or future market conditions. Economic shifts, technological disruptions, heightened regulation, and geopolitical events can significantly impact investment performance, making past trends less relevant.\n",
    " - Investment Goals and Time Horizon: An investor with a shorter time horizon (e.g., saving for a down payment) might prioritize short-term performance over long-term trends. Their investment strategy and risk tolerance would differ from someone with a longer-term goal (e.g., retirement).\n",
    " - Missed Opportunities: Focusing solely on long-term trends might lead to missed opportunities in the short term. Active investors or traders might capitalize on short-term market fluctuations to generate returns, even if the long-term outlook is uncertain.\n",
    " - Survivorship Bias: Long-term data often suffers from survivorship bias, meaning it only includes companies or investments that have survived over time. This can create a distorted view of historical performance, as failed investments are not included in the analysis.\n",
    "\n",
    "It's important to consider both short-term and long-term factors when evaluating investment performance. A balanced approach that incorporates your individual goals, risk tolerance, and the current market environment is crucial for making informed investment decisions."
   ]
  },
  {
   "cell_type": "markdown",
   "metadata": {
    "id": "5LUiE1Hl_t3G"
   },
   "source": [
    "# **8. Conclusion**\n",
    "\n",
    "This lesson was a starting point for pulling in and analyzing price data in Python. We went into some specifics on different types of stocks and compared them using similar methods. We have also compared returns of different investment opportunities, and we used Python to illustrate different ways of calculating the volatility of investments. Keep these lessons in mind as we delve deeper into the connection between volatility and return in the next lesson. Up next, we'll expand this analysis by also taking into account the returns of different investments."
   ]
  },
  {
   "cell_type": "markdown",
   "metadata": {
    "id": "KHWoMu2V_t3G"
   },
   "source": [
    "**References**\n",
    "\n",
    "- Maginn, John L. *Managing Investment Portfolios Workbook: A Dynamic Process*. John Wiley & Sons, Inc., 2007.\n",
    "\n",
    "- Standard & Poor's. *S&P U.S. Indices Methodology*. Nov. 2021, https://www.spglobal.com/spdji/en/documents/methodologies/methodology-sp-us-indices.pdf.\n",
    "\n",
    "- Vanguard. \"BLV Long-Term Bond ETF.\" https://institutional.vanguard.com/investments/product-details/fund/0927."
   ]
  },
  {
   "cell_type": "markdown",
   "metadata": {
    "deletable": false,
    "editable": false,
    "id": "Rnx3fBng_t3H"
   },
   "source": [
    "---\n",
    "Copyright 2024 WorldQuant University. This\n",
    "content is licensed solely for personal use. Redistribution or\n",
    "publication of this material is strictly prohibited.\n"
   ]
  }
 ],
 "metadata": {
  "colab": {
   "collapsed_sections": [
    "yL6urMa2_t3A",
    "UKr8PVxn_t3A",
    "Mpeu-dDF_t3B",
    "g0Rhn_Nm_t3D",
    "KOsk53rj_t3E",
    "51yvYuew_t3F",
    "OkYuca5z_t3F",
    "5LUiE1Hl_t3G"
   ],
   "provenance": []
  },
  "kernelspec": {
   "display_name": "Python 3 (ipykernel)",
   "language": "python",
   "name": "python3"
  },
  "language_info": {
   "codemirror_mode": {
    "name": "ipython",
    "version": 3
   },
   "file_extension": ".py",
   "mimetype": "text/x-python",
   "name": "python",
   "nbconvert_exporter": "python",
   "pygments_lexer": "ipython3",
   "version": "3.11.9"
  }
 },
 "nbformat": 4,
 "nbformat_minor": 4
}
