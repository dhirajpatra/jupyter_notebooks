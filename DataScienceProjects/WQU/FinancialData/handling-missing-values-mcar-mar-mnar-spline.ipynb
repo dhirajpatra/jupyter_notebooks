{
 "cells": [
  {
   "cell_type": "markdown",
   "id": "1ea0715c",
   "metadata": {
    "id": "YrAovfeo7qjO",
    "papermill": {
     "duration": 0.025894,
     "end_time": "2025-01-18T04:36:59.863610",
     "exception": false,
     "start_time": "2025-01-18T04:36:59.837716",
     "status": "completed"
    },
    "tags": []
   },
   "source": [
    "# **Introduction**"
   ]
  },
  {
   "cell_type": "markdown",
   "id": "6c1eb889",
   "metadata": {
    "id": "lx8-NmdT7sZn",
    "papermill": {
     "duration": 0.024655,
     "end_time": "2025-01-18T04:36:59.913345",
     "exception": false,
     "start_time": "2025-01-18T04:36:59.888690",
     "status": "completed"
    },
    "tags": []
   },
   "source": [
    "Missing values are a common challenge in machine learning datasets. At first glance, handling them might seem straightforward—dropping rows or columns or imputing missing values using simple techniques like mean, median, or mode. While these approaches can work in some cases, they often fail to capture the nuances of missing data. A deeper understanding of the types of missing data and their implications is crucial for building robust machine learning models.\n",
    "\n",
    "In general, missing data can be categorized into three types:\n",
    "\n",
    "1. **Missing Completely At Random (MCAR)**\n",
    " * **Definition:**\n",
    "\n",
    "    Data is considered Missing Completely At Random (MCAR) if the probability of a data point being missing is unrelated to either the observed data or the missing data itself. In other words, there is no discernible pattern or reason behind the missingness.\n",
    "\n",
    " * **Example:**\n",
    "\n",
    "    A survey where a random glitch in the system causes some responses to be lost, regardless of the respondent's answers or characteristics. During data entry, a technician accidentally skips random entries without any bias.\n",
    "\n",
    " * **Why & How it Occurs?**\n",
    "    \n",
    "    MCAR often occurs due to random, external factors such as:\n",
    "    - Technical errors in data collection (e.g., random network failures).\n",
    "    - Random accidents during manual data entry.\n",
    "\n",
    " * **How to Solve?**\n",
    "\n",
    "    If data is MCAR, the missingness is truly random, and analysis is less biased. Common approaches include:\n",
    "    - **Deletion Methods**: Remove rows or columns with missing data if the proportion of missingness is low.\n",
    "    - Example: If only 1-2% of data points are missing, deletion might be acceptable.\n",
    "    - **Imputation Techniques**:\n",
    "        - Use simple imputation methods like mean, median, or mode.\n",
    "        - Advanced methods: Predict the missing values using regression or machine learning models trained on the observed data.\n",
    "    - **Multiple Imputation**: Generate several plausible datasets by imputing missing values multiple times, analyze each dataset, and combine results for robustness.\n",
    "\n",
    "2. **Missing At Random (MAR)**\n",
    "\n",
    " * **Definition**\n",
    "    \n",
    "    Data is Missing At Random (MAR) when the probability of missingness depends on the observed data but not on the missing data itself. In simpler terms, the missingness is systematic and can be explained by other variables in the dataset.\n",
    "\n",
    " * **Example**\n",
    "    - In a medical survey, younger participants are less likely to disclose their income. The missingness of income data depends on the age variable, which is observed.\n",
    "    - Students with lower grades might be less likely to report their attendance, making missing attendance correlated with observed grades.\n",
    "\n",
    " * **Why & How it Occurs?**\n",
    "    \n",
    "    MAR typically arises due to relationships between observed variables and missingness:\n",
    "        - Certain subgroups or patterns influence the likelihood of missing data.\n",
    "        - Respondent behaviors or preferences are influenced by factors measured in the dataset.\n",
    "\n",
    " * **How to Solve?**\n",
    "\n",
    "    Handling MAR requires understanding and leveraging the relationships between variables:\n",
    "    - **Imputation Techniques**:\n",
    "        - Use **conditional imputation** based on observed variables. For example, impute income based on age, education, and occupation.\n",
    "        - **K-Nearest Neighbors (KNN)**: Impute missing values based on the most similar observations in the dataset.\n",
    "        - **Regression Imputation**: Use regression models to predict missing values based on correlated observed variables.\n",
    "    - **Multiple Imputation**:\n",
    "        - Generate multiple datasets using MAR assumptions, then analyze and pool results.\n",
    "    - **Inverse Probability Weighting**: Adjust the weights of observations during analysis to account for the likelihood of missingness.\n",
    "\n",
    "3. **Missing Not At Random (MNAR)**\n",
    "\n",
    " * **Definition**\n",
    "\n",
    "    Data is Missing Not At Random (MNAR) when the missingness depends on the value of the missing data itself. This introduces bias because the missing values are systematically different from the observed values.\n",
    "\n",
    " * **Example**\n",
    "\n",
    "    - High earners may be less likely to disclose their income, leading to an underrepresentation of high-income data.\n",
    "    - Patients experiencing severe side effects might drop out of a clinical trial, causing the dataset to miss critical information.\n",
    "\n",
    " * **Why & How it Occurs?**\n",
    "\n",
    "    MNAR arises due to:\n",
    "        - Self-selection bias: Respondents intentionally omit sensitive or stigmatized information.\n",
    "        - Behavioral biases or decisions influenced by the missing data.\n",
    "\n",
    " * **How to Solve?**\n",
    "\n",
    "    MNAR is the most challenging type to handle because the missingness cannot be explained by observed data alone:\n",
    "    - **Model-Based Approaches**:\n",
    "        - Use advanced statistical models to estimate and handle MNAR patterns. For example, mixed models or joint modeling approaches.\n",
    "    - **Sensitivity Analysis**:\n",
    "        - Test various scenarios and assumptions about the missing data to understand its impact on results.\n",
    "    - **Data Collection Improvements**:\n",
    "        - Attempt to reduce MNAR by redesigning data collection processes, such as anonymizing surveys or incentivizing responses.\n",
    "    - **Pattern Analysis**:\n",
    "        - Investigate patterns in missingness to hypothesize and test potential reasons for MNAR.\n",
    "\n",
    "**Key Takeaways**\n",
    "\n",
    "1. The choice of method to handle missing data depends on the type of missingness.\n",
    "2. Simple imputation methods (mean, median) might suffice for MCAR data but are less suitable for MAR or MNAR scenarios.\n",
    "3. Advanced techniques like regression imputation, multiple imputation, and sensitivity analysis provide better results for MAR and MNAR.\n",
    "4. Understanding why data is missing is as important as addressing the missingness.\n",
    "\n",
    "By carefully analyzing the nature of missing data and selecting appropriate methods, you can ensure that your machine learning models are more accurate, reliable, and robust."
   ]
  },
  {
   "cell_type": "markdown",
   "id": "364682ba",
   "metadata": {
    "id": "X_YDNgdYEmzh",
    "papermill": {
     "duration": 0.024144,
     "end_time": "2025-01-18T04:36:59.963514",
     "exception": false,
     "start_time": "2025-01-18T04:36:59.939370",
     "status": "completed"
    },
    "tags": []
   },
   "source": [
    "# **Set Up**"
   ]
  },
  {
   "cell_type": "code",
   "execution_count": 1,
   "id": "5e1ad50a",
   "metadata": {
    "execution": {
     "iopub.execute_input": "2025-01-18T04:37:00.015410Z",
     "iopub.status.busy": "2025-01-18T04:37:00.014915Z",
     "iopub.status.idle": "2025-01-18T04:37:28.090625Z",
     "shell.execute_reply": "2025-01-18T04:37:28.089565Z"
    },
    "id": "KVIfarTJ7dYg",
    "papermill": {
     "duration": 28.103807,
     "end_time": "2025-01-18T04:37:28.092654",
     "exception": false,
     "start_time": "2025-01-18T04:36:59.988847",
     "status": "completed"
    },
    "tags": []
   },
   "outputs": [
    {
     "name": "stdout",
     "output_type": "stream",
     "text": [
      "\u001b[2K   \u001b[90m━━━━━━━━━━━━━━━━━━━━━━━━━━━━━━━━━━━━━━━━\u001b[0m \u001b[32m251.6/251.6 kB\u001b[0m \u001b[31m5.4 MB/s\u001b[0m eta \u001b[36m0:00:00\u001b[0m\r\n",
      "\u001b[?25h  Preparing metadata (setup.py) ... \u001b[?25l\u001b[?25hdone\r\n",
      "  Preparing metadata (setup.py) ... \u001b[?25l\u001b[?25hdone\r\n",
      "  Building wheel for fancyimpute (setup.py) ... \u001b[?25l\u001b[?25hdone\r\n",
      "  Building wheel for knnimpute (setup.py) ... \u001b[?25l\u001b[?25hdone\r\n",
      "\u001b[2K   \u001b[90m━━━━━━━━━━━━━━━━━━━━━━━━━━━━━━━━━━━━━━━━\u001b[0m \u001b[32m40.3/40.3 kB\u001b[0m \u001b[31m2.1 MB/s\u001b[0m eta \u001b[36m0:00:00\u001b[0m\r\n",
      "\u001b[?25h"
     ]
    }
   ],
   "source": [
    "!pip install -q pykalman pyampute\n",
    "\n",
    "# Data Imports\n",
    "import os\n",
    "import kagglehub\n",
    "import numpy as np\n",
    "import pandas as pd\n",
    "\n",
    "# MCAR Test\n",
    "from pyampute.exploration.mcar_statistical_tests import MCARTest\n",
    "\n",
    "# Preprocessing\n",
    "from sklearn.preprocessing import LabelEncoder\n",
    "from sklearn.preprocessing import StandardScaler\n",
    "\n",
    "# Imputation Techniques\n",
    "from sklearn.impute import KNNImputer\n",
    "\n",
    "from sklearn.linear_model import LinearRegression\n",
    "\n",
    "from sklearn.experimental import enable_iterative_imputer\n",
    "from sklearn.impute import IterativeImputer\n",
    "\n",
    "!pip install fancyimpute -q\n",
    "from fancyimpute import IterativeImputer as FIterativeImputer\n",
    "\n",
    "!pip install miceforest -q\n",
    "import miceforest as mf\n",
    "\n",
    "# Time Series imputation\n",
    "from statsmodels.tsa.holtwinters import ExponentialSmoothing\n",
    "from statsmodels.tsa.arima.model import ARIMA\n",
    "from pykalman import KalmanFilter\n",
    "\n",
    "# Data Visualization\n",
    "import missingno as msno\n",
    "import plotly.express as px\n",
    "import matplotlib.pyplot as plt"
   ]
  },
  {
   "cell_type": "code",
   "execution_count": 2,
   "id": "2cadb182",
   "metadata": {
    "execution": {
     "iopub.execute_input": "2025-01-18T04:37:28.144030Z",
     "iopub.status.busy": "2025-01-18T04:37:28.143284Z",
     "iopub.status.idle": "2025-01-18T04:37:28.230609Z",
     "shell.execute_reply": "2025-01-18T04:37:28.229496Z"
    },
    "id": "0jAJOqq0FFzU",
    "outputId": "09b10775-2c7f-4a84-e789-6f00fc484439",
    "papermill": {
     "duration": 0.114544,
     "end_time": "2025-01-18T04:37:28.232159",
     "exception": false,
     "start_time": "2025-01-18T04:37:28.117615",
     "status": "completed"
    },
    "tags": []
   },
   "outputs": [
    {
     "data": {
      "text/html": [
       "<div>\n",
       "<style scoped>\n",
       "    .dataframe tbody tr th:only-of-type {\n",
       "        vertical-align: middle;\n",
       "    }\n",
       "\n",
       "    .dataframe tbody tr th {\n",
       "        vertical-align: top;\n",
       "    }\n",
       "\n",
       "    .dataframe thead th {\n",
       "        text-align: right;\n",
       "    }\n",
       "</style>\n",
       "<table border=\"1\" class=\"dataframe\">\n",
       "  <thead>\n",
       "    <tr style=\"text-align: right;\">\n",
       "      <th></th>\n",
       "      <th>HomePlanet</th>\n",
       "      <th>CryoSleep</th>\n",
       "      <th>Destination</th>\n",
       "      <th>Age</th>\n",
       "      <th>VIP</th>\n",
       "      <th>RoomService</th>\n",
       "      <th>FoodCourt</th>\n",
       "      <th>ShoppingMall</th>\n",
       "      <th>Spa</th>\n",
       "      <th>VRDeck</th>\n",
       "    </tr>\n",
       "  </thead>\n",
       "  <tbody>\n",
       "    <tr>\n",
       "      <th>0</th>\n",
       "      <td>Europa</td>\n",
       "      <td>False</td>\n",
       "      <td>TRAPPIST-1e</td>\n",
       "      <td>39.0</td>\n",
       "      <td>False</td>\n",
       "      <td>0.0</td>\n",
       "      <td>0.0</td>\n",
       "      <td>0.0</td>\n",
       "      <td>0.0</td>\n",
       "      <td>0.0</td>\n",
       "    </tr>\n",
       "    <tr>\n",
       "      <th>1</th>\n",
       "      <td>Earth</td>\n",
       "      <td>False</td>\n",
       "      <td>TRAPPIST-1e</td>\n",
       "      <td>24.0</td>\n",
       "      <td>False</td>\n",
       "      <td>109.0</td>\n",
       "      <td>9.0</td>\n",
       "      <td>25.0</td>\n",
       "      <td>549.0</td>\n",
       "      <td>44.0</td>\n",
       "    </tr>\n",
       "    <tr>\n",
       "      <th>2</th>\n",
       "      <td>Europa</td>\n",
       "      <td>False</td>\n",
       "      <td>TRAPPIST-1e</td>\n",
       "      <td>58.0</td>\n",
       "      <td>True</td>\n",
       "      <td>43.0</td>\n",
       "      <td>3576.0</td>\n",
       "      <td>0.0</td>\n",
       "      <td>6715.0</td>\n",
       "      <td>49.0</td>\n",
       "    </tr>\n",
       "    <tr>\n",
       "      <th>3</th>\n",
       "      <td>Europa</td>\n",
       "      <td>False</td>\n",
       "      <td>TRAPPIST-1e</td>\n",
       "      <td>33.0</td>\n",
       "      <td>False</td>\n",
       "      <td>0.0</td>\n",
       "      <td>1283.0</td>\n",
       "      <td>371.0</td>\n",
       "      <td>3329.0</td>\n",
       "      <td>193.0</td>\n",
       "    </tr>\n",
       "    <tr>\n",
       "      <th>4</th>\n",
       "      <td>Earth</td>\n",
       "      <td>False</td>\n",
       "      <td>TRAPPIST-1e</td>\n",
       "      <td>16.0</td>\n",
       "      <td>False</td>\n",
       "      <td>303.0</td>\n",
       "      <td>70.0</td>\n",
       "      <td>151.0</td>\n",
       "      <td>565.0</td>\n",
       "      <td>2.0</td>\n",
       "    </tr>\n",
       "  </tbody>\n",
       "</table>\n",
       "</div>"
      ],
      "text/plain": [
       "  HomePlanet CryoSleep  Destination   Age    VIP  RoomService  FoodCourt  \\\n",
       "0     Europa     False  TRAPPIST-1e  39.0  False          0.0        0.0   \n",
       "1      Earth     False  TRAPPIST-1e  24.0  False        109.0        9.0   \n",
       "2     Europa     False  TRAPPIST-1e  58.0   True         43.0     3576.0   \n",
       "3     Europa     False  TRAPPIST-1e  33.0  False          0.0     1283.0   \n",
       "4      Earth     False  TRAPPIST-1e  16.0  False        303.0       70.0   \n",
       "\n",
       "   ShoppingMall     Spa  VRDeck  \n",
       "0           0.0     0.0     0.0  \n",
       "1          25.0   549.0    44.0  \n",
       "2           0.0  6715.0    49.0  \n",
       "3         371.0  3329.0   193.0  \n",
       "4         151.0   565.0     2.0  "
      ]
     },
     "execution_count": 2,
     "metadata": {},
     "output_type": "execute_result"
    }
   ],
   "source": [
    "# Reproducibility\n",
    "SEED = 42\n",
    "np.random.seed(SEED)\n",
    "\n",
    "# Path Constants\n",
    "DATA_DIR = \"/kaggle/input/spaceship-titanic\"\n",
    "\n",
    "# Data Loading\n",
    "df = pd.read_csv(DATA_DIR + \"/train.csv\")\n",
    "\n",
    "# Remove unwanted columns\n",
    "df.drop(columns=[\"PassengerId\", \"Name\", \"Cabin\"], inplace=True)\n",
    "\n",
    "# Also drom taregt column as it is not needed\n",
    "df.drop(columns=[\"Transported\"], inplace=True)\n",
    "df.head()"
   ]
  },
  {
   "cell_type": "code",
   "execution_count": 3,
   "id": "1cd8d5bb",
   "metadata": {
    "execution": {
     "iopub.execute_input": "2025-01-18T04:37:28.282922Z",
     "iopub.status.busy": "2025-01-18T04:37:28.282595Z",
     "iopub.status.idle": "2025-01-18T04:37:28.286503Z",
     "shell.execute_reply": "2025-01-18T04:37:28.285534Z"
    },
    "id": "2HoS3hPo0UFc",
    "papermill": {
     "duration": 0.031164,
     "end_time": "2025-01-18T04:37:28.288158",
     "exception": false,
     "start_time": "2025-01-18T04:37:28.256994",
     "status": "completed"
    },
    "tags": []
   },
   "outputs": [],
   "source": [
    "# Ignore all warnings\n",
    "import warnings\n",
    "warnings.filterwarnings(\"ignore\")"
   ]
  },
  {
   "cell_type": "markdown",
   "id": "ac2950e8",
   "metadata": {
    "id": "KKNdH2yoFDra",
    "papermill": {
     "duration": 0.024531,
     "end_time": "2025-01-18T04:37:28.337775",
     "exception": false,
     "start_time": "2025-01-18T04:37:28.313244",
     "status": "completed"
    },
    "tags": []
   },
   "source": [
    "# **MCAR**"
   ]
  },
  {
   "cell_type": "markdown",
   "id": "09ad12fb",
   "metadata": {
    "id": "FDPvFFrrZUHI",
    "papermill": {
     "duration": 0.024793,
     "end_time": "2025-01-18T04:37:28.387306",
     "exception": false,
     "start_time": "2025-01-18T04:37:28.362513",
     "status": "completed"
    },
    "tags": []
   },
   "source": [
    "For explaination refer introduction."
   ]
  },
  {
   "cell_type": "markdown",
   "id": "165ac3c2",
   "metadata": {
    "id": "II_ODUuweL6b",
    "papermill": {
     "duration": 0.024637,
     "end_time": "2025-01-18T04:37:28.436790",
     "exception": false,
     "start_time": "2025-01-18T04:37:28.412153",
     "status": "completed"
    },
    "tags": []
   },
   "source": [
    "## **Detecting MCAR**"
   ]
  },
  {
   "cell_type": "markdown",
   "id": "fb97e4ff",
   "metadata": {
    "id": "1OmrU4-JSD0l",
    "papermill": {
     "duration": 0.024476,
     "end_time": "2025-01-18T04:37:28.486023",
     "exception": false,
     "start_time": "2025-01-18T04:37:28.461547",
     "status": "completed"
    },
    "tags": []
   },
   "source": [
    "Before we begin, we need to verify if our data contains any null values."
   ]
  },
  {
   "cell_type": "code",
   "execution_count": 4,
   "id": "d97a7089",
   "metadata": {
    "execution": {
     "iopub.execute_input": "2025-01-18T04:37:28.537016Z",
     "iopub.status.busy": "2025-01-18T04:37:28.536674Z",
     "iopub.status.idle": "2025-01-18T04:37:28.546879Z",
     "shell.execute_reply": "2025-01-18T04:37:28.545916Z"
    },
    "id": "K6PjRCCcSDtP",
    "outputId": "2a31c50b-31af-4fb2-c476-ded11a23eeb5",
    "papermill": {
     "duration": 0.037571,
     "end_time": "2025-01-18T04:37:28.548394",
     "exception": false,
     "start_time": "2025-01-18T04:37:28.510823",
     "status": "completed"
    },
    "tags": []
   },
   "outputs": [
    {
     "data": {
      "text/plain": [
       "HomePlanet      201\n",
       "CryoSleep       217\n",
       "Destination     182\n",
       "Age             179\n",
       "VIP             203\n",
       "RoomService     181\n",
       "FoodCourt       183\n",
       "ShoppingMall    208\n",
       "Spa             183\n",
       "VRDeck          188\n",
       "dtype: int64"
      ]
     },
     "execution_count": 4,
     "metadata": {},
     "output_type": "execute_result"
    }
   ],
   "source": [
    "# Check for null values\n",
    "df.isnull().sum()"
   ]
  },
  {
   "cell_type": "markdown",
   "id": "617933bf",
   "metadata": {
    "id": "Je4XknjgPbad",
    "papermill": {
     "duration": 0.078186,
     "end_time": "2025-01-18T04:37:28.651945",
     "exception": false,
     "start_time": "2025-01-18T04:37:28.573759",
     "status": "completed"
    },
    "tags": []
   },
   "source": [
    "Our dataset contains missing values. We can now check if these values are missing completely at random (MCAR) using Little's MCAR statistical test.\n",
    "\n",
    "---\n",
    "Little's MCAR Test is a statistical test devised by Roderick J.A. Little to determine if data are Missing Completely At Random (MCAR). The null hypothesis in this test is that the data is MCAR, meaning that the pattern of missing data in the dataset is independent of the observed and unobserved data values.\n",
    "\n",
    "Steps to Conduct Little's MCAR Test:\n",
    "\n",
    "1. **Formulate the Null Hypothesis (H₀):** The data is MCAR, which implies that the missing data pattern is completely random and not dependent on the values themselves.\n",
    "2. **Calculate the Test Statistic:** The test statistic is computed using the chi-square test. It encapsulates how the combination of missing and observed data deviates from randomness.\n",
    "3. **Determine the P-Value:** Compare the computed chi-square value against a chi-square distribution to obtain the p-value.\n",
    "    - If the p-value is greater than 0.05, we fail to reject the null hypothesis, suggesting that the data is MCAR.\n",
    "    - If the p-value is less than 0.05, we reject the null hypothesis, indicating that the missing data is not MCAR⁠—it is either Missing At Random (MAR) or not missing at random (NMAR or MNAR)."
   ]
  },
  {
   "cell_type": "code",
   "execution_count": 5,
   "id": "4fbbc6e7",
   "metadata": {
    "execution": {
     "iopub.execute_input": "2025-01-18T04:37:28.704023Z",
     "iopub.status.busy": "2025-01-18T04:37:28.703688Z",
     "iopub.status.idle": "2025-01-18T04:37:28.816172Z",
     "shell.execute_reply": "2025-01-18T04:37:28.814996Z"
    },
    "id": "s6d4S7_QgAAq",
    "outputId": "48f32cef-1bb9-4b0d-b7e2-b4ca43b6a145",
    "papermill": {
     "duration": 0.139901,
     "end_time": "2025-01-18T04:37:28.817870",
     "exception": false,
     "start_time": "2025-01-18T04:37:28.677969",
     "status": "completed"
    },
    "tags": []
   },
   "outputs": [
    {
     "name": "stdout",
     "output_type": "stream",
     "text": [
      "P-value: 0.7184771959900864\n",
      "Fail to reject the null hypothesis: The missing data is likely MCAR.\n"
     ]
    }
   ],
   "source": [
    "# Select only numerical features\n",
    "df_nums = df.select_dtypes(include=[np.number])\n",
    "\n",
    "# Initialize the MCAR test\n",
    "mt = MCARTest(method=\"little\")\n",
    "\n",
    "# Check for MCAR Value\n",
    "p_value = mt.little_mcar_test(df_nums)\n",
    "\n",
    "# Null Hypothesis: Missing data is MCAR\n",
    "alpha = 0.05                    # Significance level\n",
    "print(f\"P-value: {p_value}\")\n",
    "\n",
    "if p_value > alpha:\n",
    "    print(\"Fail to reject the null hypothesis: The missing data is likely MCAR.\")\n",
    "else:\n",
    "    print(\"Reject the null hypothesis: The missing data is NOT MCAR (it may be MAR or MNAR).\")"
   ]
  },
  {
   "cell_type": "markdown",
   "id": "465d7ea7",
   "metadata": {
    "id": "nugzaeT0aM-o",
    "papermill": {
     "duration": 0.025142,
     "end_time": "2025-01-18T04:37:28.868481",
     "exception": false,
     "start_time": "2025-01-18T04:37:28.843339",
     "status": "completed"
    },
    "tags": []
   },
   "source": [
    "\n",
    "In addition to Little's MCAR Test, you can also perform a visual analysis using the `missingno` library. This library enables you to create heatmaps or matrices that illustrate where the missing values are in your dataset. By examining these visualizations, you can determine whether the missing values follow a pattern, are missing completely at random, or are missing at random. This visual analysis serves as a complement to the statistical test, and should be considered before or after performing the statistical test. Always validate your visual findings with statistical confirmation.\n"
   ]
  },
  {
   "cell_type": "code",
   "execution_count": 6,
   "id": "df528c7a",
   "metadata": {
    "execution": {
     "iopub.execute_input": "2025-01-18T04:37:28.920796Z",
     "iopub.status.busy": "2025-01-18T04:37:28.920463Z",
     "iopub.status.idle": "2025-01-18T04:37:29.510184Z",
     "shell.execute_reply": "2025-01-18T04:37:29.509130Z"
    },
    "id": "IYF1hTA7aM5Y",
    "outputId": "decdc4cd-1251-47ce-a410-86bfae5f3c69",
    "papermill": {
     "duration": 0.617945,
     "end_time": "2025-01-18T04:37:29.512309",
     "exception": false,
     "start_time": "2025-01-18T04:37:28.894364",
     "status": "completed"
    },
    "tags": []
   },
   "outputs": [
    {
     "data": {
      "image/png": "[encoded data removed]",
      "text/plain": [
       "<Figure size 2500x1000 with 2 Axes>"
      ]
     },
     "metadata": {},
     "output_type": "display_data"
    }
   ],
   "source": [
    "msno.matrix(df)\n",
    "plt.show()"
   ]
  },
  {
   "cell_type": "markdown",
   "id": "ccef46fa",
   "metadata": {
    "id": "fsVy3_2thHs9",
    "papermill": {
     "duration": 0.026188,
     "end_time": "2025-01-18T04:37:29.565279",
     "exception": false,
     "start_time": "2025-01-18T04:37:29.539091",
     "status": "completed"
    },
    "tags": []
   },
   "source": [
    "## **Dealing with MCAR**"
   ]
  },
  {
   "cell_type": "markdown",
   "id": "7066261d",
   "metadata": {
    "id": "fXvMULskhnSn",
    "papermill": {
     "duration": 0.026281,
     "end_time": "2025-01-18T04:37:29.618767",
     "exception": false,
     "start_time": "2025-01-18T04:37:29.592486",
     "status": "completed"
    },
    "tags": []
   },
   "source": [
    "Handling Missing Completely At Random (MCAR) data is relatively straightforward, as the missing values are unrelated to the observed or unobserved data. Here are common approaches to manage MCAR data:"
   ]
  },
  {
   "cell_type": "markdown",
   "id": "c8c905fb",
   "metadata": {
    "id": "0vGqg6hoickU",
    "papermill": {
     "duration": 0.026284,
     "end_time": "2025-01-18T04:37:29.671357",
     "exception": false,
     "start_time": "2025-01-18T04:37:29.645073",
     "status": "completed"
    },
    "tags": []
   },
   "source": [
    "## **Delete Missing Data (Listwise Deletion)**\n"
   ]
  },
  {
   "cell_type": "markdown",
   "id": "00047c62",
   "metadata": {
    "id": "yNhoQEs3ifNj",
    "papermill": {
     "duration": 0.026208,
     "end_time": "2025-01-18T04:37:29.725763",
     "exception": false,
     "start_time": "2025-01-18T04:37:29.699555",
     "status": "completed"
    },
    "tags": []
   },
   "source": [
    "\n",
    "- **What**: Remove rows or columns with missing values.\n",
    "- **When to Use**:\n",
    "  - When the percentage of missing data is **very low** (e.g., < 5%).\n",
    "  - When deleting data does not lead to loss of critical information.\n",
    "- **Advantages**:\n",
    "  - Simple and easy to implement.\n",
    "  - No assumptions about the missingness mechanism.\n",
    "- **Disadvantages**:\n",
    "  - May reduce the dataset size and statistical power.\n",
    "  - Can introduce bias if the data was not actually MCAR."
   ]
  },
  {
   "cell_type": "code",
   "execution_count": 7,
   "id": "66dcbac7",
   "metadata": {
    "execution": {
     "iopub.execute_input": "2025-01-18T04:37:29.779714Z",
     "iopub.status.busy": "2025-01-18T04:37:29.779385Z",
     "iopub.status.idle": "2025-01-18T04:37:29.788674Z",
     "shell.execute_reply": "2025-01-18T04:37:29.787759Z"
    },
    "id": "4194v-rYfV8X",
    "outputId": "51e28314-d59e-49c6-8044-273d39fcc02f",
    "papermill": {
     "duration": 0.038268,
     "end_time": "2025-01-18T04:37:29.790271",
     "exception": false,
     "start_time": "2025-01-18T04:37:29.752003",
     "status": "completed"
    },
    "tags": []
   },
   "outputs": [
    {
     "name": "stdout",
     "output_type": "stream",
     "text": [
      "Total number of data sampels lost   : 1770\n",
      "Percentage of data lost             : 20.361%\n"
     ]
    }
   ],
   "source": [
    "# Size of the original data\n",
    "original_data_size = df.shape[0]\n",
    "\n",
    "# Data with removed null values\n",
    "removed_null = df.dropna()\n",
    "removed_null_data_size = removed_null.shape[0]\n",
    "\n",
    "# Percentage of data lost\n",
    "values_lost = original_data_size - removed_null_data_size\n",
    "percentage_lost = round((values_lost / original_data_size) * 100, 3)\n",
    "\n",
    "print(f\"Total number of data sampels lost   : {values_lost}\")\n",
    "print(f\"Percentage of data lost             : {percentage_lost}%\")"
   ]
  },
  {
   "cell_type": "markdown",
   "id": "1995a4db",
   "metadata": {
    "id": "8AXvs8KniHkz",
    "papermill": {
     "duration": 0.026205,
     "end_time": "2025-01-18T04:37:29.843132",
     "exception": false,
     "start_time": "2025-01-18T04:37:29.816927",
     "status": "completed"
    },
    "tags": []
   },
   "source": [
    "If we simply get rid of the entire missing data then we will technically loose around 24% of the data, this is something we would not like to do with the data.\n",
    "\n",
    "---\n",
    "\n",
    "You might wonder why we didn't remove the columns with missing data instead of the rows. The answer is straightforward: almost all columns contain some missing data, so removing them would result in losing nearly all of our data."
   ]
  },
  {
   "cell_type": "markdown",
   "id": "0215b95a",
   "metadata": {
    "id": "ZGlSa-ZCiloM",
    "papermill": {
     "duration": 0.026418,
     "end_time": "2025-01-18T04:37:29.896351",
     "exception": false,
     "start_time": "2025-01-18T04:37:29.869933",
     "status": "completed"
    },
    "tags": []
   },
   "source": [
    "### **Simple Imputation Techniques**"
   ]
  },
  {
   "cell_type": "markdown",
   "id": "4953f8c6",
   "metadata": {
    "id": "-sej_en0mMT4",
    "papermill": {
     "duration": 0.02636,
     "end_time": "2025-01-18T04:37:29.949871",
     "exception": false,
     "start_time": "2025-01-18T04:37:29.923511",
     "status": "completed"
    },
    "tags": []
   },
   "source": [
    "#### **Numerical Data - Mean & Median Imputation**"
   ]
  },
  {
   "cell_type": "markdown",
   "id": "56072e6d",
   "metadata": {
    "id": "qV2BEIrdinRr",
    "papermill": {
     "duration": 0.026528,
     "end_time": "2025-01-18T04:37:30.003326",
     "exception": false,
     "start_time": "2025-01-18T04:37:29.976798",
     "status": "completed"
    },
    "tags": []
   },
   "source": [
    "- Replace missing values with simple statistical measures such as:\n",
    "  - **Mean**: Suitable for continuous data.\n",
    "  - **Median**: Better for skewed continuous data.\n",
    "  - **Mode**: Suitable for categorical data.\n",
    "\n",
    "- **When to Use**:\n",
    "  - When missing values are randomly distributed (MCAR).\n",
    "  - When the percentage of missing data is moderate (e.g., 5–20%).\n",
    "\n",
    "---\n",
    "In order to use this we would like to know exactly what is the data type of the feature, not just numerical or categorical but we would like to know where it is discrete or continuous."
   ]
  },
  {
   "cell_type": "code",
   "execution_count": 8,
   "id": "711974cb",
   "metadata": {
    "execution": {
     "iopub.execute_input": "2025-01-18T04:37:30.058600Z",
     "iopub.status.busy": "2025-01-18T04:37:30.058255Z",
     "iopub.status.idle": "2025-01-18T04:37:30.063518Z",
     "shell.execute_reply": "2025-01-18T04:37:30.062606Z"
    },
    "id": "I-VFrlxCilib",
    "papermill": {
     "duration": 0.034573,
     "end_time": "2025-01-18T04:37:30.065188",
     "exception": false,
     "start_time": "2025-01-18T04:37:30.030615",
     "status": "completed"
    },
    "tags": []
   },
   "outputs": [],
   "source": [
    "# Numerical features\n",
    "numerical_features = df.select_dtypes(include=[np.number]).columns\n",
    "\n",
    "# Categorical features\n",
    "categorical_features = df.select_dtypes(exclude=[np.number]).columns"
   ]
  },
  {
   "cell_type": "code",
   "execution_count": 9,
   "id": "1942c404",
   "metadata": {
    "execution": {
     "iopub.execute_input": "2025-01-18T04:37:30.121440Z",
     "iopub.status.busy": "2025-01-18T04:37:30.121082Z",
     "iopub.status.idle": "2025-01-18T04:37:32.324588Z",
     "shell.execute_reply": "2025-01-18T04:37:32.323461Z"
    },
    "id": "DDQop822ilfj",
    "outputId": "71e73347-2aba-40b0-d977-097a4b25e45a",
    "papermill": {
     "duration": 2.233334,
     "end_time": "2025-01-18T04:37:32.326296",
     "exception": false,
     "start_time": "2025-01-18T04:37:30.092962",
     "status": "completed"
    },
    "tags": []
   },
   "outputs": [
    {
     "data": {
      "text/html": [
       "<html>\n",
       "<head><meta charset=\"utf-8\" /></head>\n",
       "<body>\n",
       "    <div>            <script src=\"https://cdnjs.cloudflare.com/ajax/libs/mathjax/2.7.5/MathJax.js?config=TeX-AMS-MML_SVG\"></script><script type=\"text/javascript\">if (window.MathJax && window.MathJax.Hub && window.MathJax.Hub.Config) {window.MathJax.Hub.Config({SVG: {font: \"STIX-Web\"}});}</script>                <script type=\"text/javascript\">window.PlotlyConfig = {MathJaxConfig: 'local'};</script>\n",
       "        <script charset=\"utf-8\" src=\"https://cdn.plot.ly/plotly-2.35.2.min.js\"></script>                <div id=\"ae533dc4-f7e9-4b21-9b9c-6dffbefb9393\" class=\"plotly-graph-div\" style=\"height:525px; width:100%;\"></div>            <script type=\"text/javascript\">                                    window.PLOTLYENV=window.PLOTLYENV || {};                                    if (document.getElementById(\"ae533dc4-f7e9-4b21-9b9c-6dffbefb9393\")) {                    Plotly.newPlot(                        \"ae533dc4-f7e9-4b21-9b9c-6dffbefb9393\",                        [{\"alignmentgroup\":\"True\",\"bingroup\":\"x\",\"hovertemplate\":\"Age=%{x}\\u003cbr\\u003ecount=%{y}\\u003cextra\\u003e\\u003c\\u002fextra\\u003e\",\"legendgroup\":\"\",\"marker\":{\"color\":\"#636efa\",\"pattern\":{\"shape\":\"\"}},\"name\":\"\",\"nbinsx\":30,\"offsetgroup\":\"\",\"orientation\":\"v\",\"showlegend\":false,\"x\":[39.0,24.0,58.0,33.0,16.0,44.0,26.0,28.0,35.0,14.0,34.0,45.0,32.0,48.0,28.0,31.0,27.0,24.0,45.0,0.0,14.0,1.0,49.0,29.0,10.0,1.0,7.0,21.0,62.0,15.0,34.0,43.0,32.0,47.0,2.0,20.0,28.0,23.0,15.0,20.0,30.0,17.0,45.0,55.0,4.0,21.0,21.0,19.0,35.0,56.0,null,25.0,2.0,38.0,27.0,36.0,22.0,62.0,15.0,33.0,62.0,0.0,18.0,21.0,null,42.0,19.0,17.0,14.0,37.0,42.0,27.0,28.0,38.0,13.0,42.0,2.0,8.0,24.0,40.0,43.0,45.0,35.0,26.0,27.0,19.0,0.0,3.0,54.0,26.0,26.0,23.0,2.0,31.0,18.0,24.0,9.0,6.0,27.0,21.0,23.0,31.0,0.0,32.0,40.0,42.0,28.0,29.0,48.0,64.0,27.0,26.0,33.0,39.0,13.0,24.0,29.0,18.0,67.0,35.0,61.0,45.0,22.0,19.0,36.0,19.0,47.0,13.0,34.0,35.0,24.0,26.0,31.0,20.0,56.0,50.0,42.0,null,38.0,41.0,22.0,26.0,17.0,57.0,17.0,35.0,13.0,27.0,31.0,24.0,19.0,32.0,58.0,21.0,38.0,38.0,19.0,0.0,3.0,20.0,24.0,37.0,25.0,56.0,49.0,11.0,1.0,8.0,39.0,2.0,23.0,0.0,39.0,25.0,36.0,52.0,18.0,15.0,35.0,47.0,45.0,null,51.0,29.0,null,19.0,24.0,29.0,11.0,17.0,13.0,35.0,21.0,21.0,38.0,19.0,2.0,0.0,13.0,25.0,16.0,1.0,15.0,21.0,23.0,33.0,21.0,41.0,16.0,42.0,20.0,24.0,16.0,21.0,32.0,58.0,24.0,30.0,27.0,32.0,43.0,42.0,37.0,35.0,33.0,18.0,21.0,43.0,14.0,46.0,33.0,21.0,33.0,47.0,54.0,30.0,29.0,21.0,24.0,21.0,60.0,22.0,26.0,26.0,28.0,39.0,13.0,47.0,63.0,null,50.0,35.0,45.0,19.0,21.0,29.0,22.0,14.0,42.0,57.0,39.0,28.0,19.0,19.0,26.0,17.0,43.0,9.0,40.0,50.0,24.0,57.0,16.0,23.0,23.0,28.0,23.0,23.0,18.0,18.0,67.0,60.0,null,49.0,0.0,26.0,35.0,24.0,20.0,18.0,21.0,59.0,13.0,43.0,29.0,19.0,2.0,32.0,33.0,25.0,29.0,29.0,44.0,2.0,19.0,0.0,18.0,38.0,5.0,31.0,30.0,15.0,27.0,22.0,36.0,14.0,23.0,18.0,36.0,41.0,50.0,32.0,26.0,15.0,33.0,null,26.0,61.0,24.0,30.0,24.0,24.0,41.0,20.0,22.0,63.0,18.0,21.0,79.0,56.0,13.0,33.0,32.0,31.0,26.0,18.0,38.0,23.0,28.0,34.0,0.0,14.0,23.0,49.0,14.0,18.0,27.0,48.0,31.0,61.0,18.0,45.0,22.0,30.0,30.0,32.0,43.0,17.0,23.0,20.0,39.0,35.0,31.0,21.0,16.0,60.0,18.0,42.0,68.0,22.0,59.0,null,37.0,3.0,31.0,31.0,29.0,20.0,46.0,29.0,43.0,17.0,27.0,47.0,45.0,17.0,10.0,56.0,39.0,40.0,40.0,34.0,32.0,35.0,32.0,26.0,25.0,26.0,22.0,22.0,24.0,32.0,11.0,22.0,19.0,34.0,74.0,28.0,42.0,43.0,55.0,19.0,6.0,7.0,28.0,15.0,24.0,31.0,22.0,1.0,50.0,34.0,14.0,19.0,null,36.0,34.0,25.0,36.0,16.0,30.0,37.0,15.0,36.0,27.0,27.0,12.0,22.0,27.0,13.0,27.0,28.0,21.0,39.0,28.0,14.0,27.0,46.0,27.0,21.0,21.0,42.0,22.0,10.0,43.0,42.0,18.0,54.0,24.0,64.0,18.0,53.0,23.0,39.0,59.0,32.0,55.0,21.0,50.0,55.0,null,35.0,null,55.0,23.0,42.0,35.0,47.0,null,34.0,46.0,26.0,1.0,null,33.0,34.0,49.0,22.0,28.0,null,36.0,30.0,49.0,38.0,31.0,17.0,26.0,23.0,24.0,23.0,24.0,32.0,43.0,23.0,42.0,29.0,40.0,37.0,61.0,33.0,19.0,21.0,4.0,12.0,44.0,22.0,33.0,32.0,28.0,28.0,31.0,13.0,14.0,33.0,null,23.0,36.0,22.0,19.0,42.0,30.0,16.0,55.0,55.0,19.0,null,18.0,21.0,65.0,55.0,50.0,49.0,22.0,33.0,3.0,0.0,33.0,48.0,5.0,23.0,53.0,18.0,20.0,23.0,48.0,19.0,null,9.0,24.0,46.0,23.0,21.0,19.0,0.0,4.0,26.0,9.0,24.0,24.0,25.0,21.0,21.0,37.0,44.0,43.0,7.0,33.0,24.0,31.0,27.0,34.0,58.0,7.0,3.0,21.0,21.0,39.0,43.0,22.0,44.0,38.0,32.0,55.0,31.0,39.0,35.0,37.0,13.0,21.0,20.0,20.0,63.0,36.0,29.0,36.0,79.0,30.0,30.0,19.0,33.0,20.0,38.0,7.0,58.0,33.0,3.0,39.0,37.0,32.0,28.0,38.0,21.0,18.0,15.0,44.0,44.0,36.0,28.0,15.0,45.0,26.0,46.0,25.0,46.0,15.0,37.0,20.0,45.0,7.0,5.0,38.0,30.0,null,0.0,20.0,41.0,18.0,29.0,19.0,34.0,36.0,54.0,19.0,21.0,23.0,35.0,34.0,22.0,24.0,18.0,24.0,33.0,24.0,18.0,19.0,43.0,44.0,25.0,25.0,23.0,23.0,20.0,2.0,26.0,38.0,1.0,12.0,2.0,25.0,1.0,0.0,54.0,21.0,19.0,24.0,20.0,23.0,29.0,14.0,19.0,23.0,62.0,23.0,65.0,47.0,67.0,14.0,41.0,14.0,19.0,22.0,34.0,65.0,42.0,22.0,54.0,34.0,27.0,67.0,33.0,30.0,22.0,35.0,23.0,49.0,36.0,31.0,54.0,0.0,null,54.0,10.0,0.0,7.0,25.0,37.0,15.0,26.0,7.0,30.0,19.0,30.0,21.0,21.0,59.0,28.0,32.0,19.0,7.0,16.0,31.0,30.0,26.0,20.0,24.0,39.0,19.0,27.0,34.0,28.0,29.0,38.0,null,1.0,36.0,31.0,1.0,31.0,10.0,null,42.0,0.0,41.0,0.0,0.0,59.0,13.0,24.0,20.0,71.0,23.0,15.0,18.0,19.0,4.0,42.0,51.0,13.0,27.0,42.0,41.0,21.0,31.0,36.0,31.0,14.0,32.0,32.0,27.0,57.0,13.0,30.0,14.0,27.0,32.0,54.0,23.0,38.0,32.0,24.0,36.0,11.0,6.0,36.0,22.0,null,37.0,55.0,null,20.0,16.0,19.0,38.0,35.0,33.0,37.0,46.0,41.0,13.0,31.0,52.0,48.0,27.0,16.0,32.0,25.0,26.0,44.0,32.0,18.0,23.0,44.0,29.0,19.0,41.0,28.0,19.0,32.0,74.0,31.0,38.0,20.0,24.0,26.0,44.0,33.0,31.0,null,22.0,33.0,34.0,11.0,41.0,30.0,30.0,25.0,31.0,38.0,15.0,19.0,29.0,30.0,29.0,36.0,24.0,30.0,0.0,15.0,38.0,13.0,18.0,16.0,8.0,19.0,26.0,15.0,38.0,45.0,48.0,17.0,28.0,41.0,19.0,14.0,21.0,48.0,19.0,29.0,20.0,44.0,19.0,64.0,21.0,32.0,20.0,24.0,44.0,57.0,51.0,34.0,45.0,24.0,23.0,30.0,20.0,22.0,null,71.0,18.0,16.0,28.0,36.0,6.0,26.0,27.0,49.0,29.0,46.0,35.0,17.0,37.0,24.0,47.0,26.0,46.0,27.0,56.0,18.0,15.0,3.0,42.0,1.0,56.0,20.0,21.0,5.0,12.0,39.0,60.0,31.0,58.0,19.0,29.0,19.0,44.0,20.0,18.0,36.0,25.0,15.0,18.0,0.0,54.0,0.0,20.0,21.0,8.0,46.0,31.0,3.0,30.0,23.0,14.0,25.0,61.0,31.0,13.0,24.0,47.0,15.0,46.0,49.0,37.0,44.0,16.0,58.0,20.0,36.0,31.0,21.0,22.0,27.0,58.0,38.0,30.0,20.0,19.0,57.0,26.0,38.0,15.0,null,35.0,38.0,35.0,14.0,27.0,25.0,37.0,25.0,41.0,50.0,33.0,27.0,23.0,18.0,31.0,54.0,0.0,11.0,4.0,19.0,7.0,20.0,33.0,26.0,35.0,23.0,60.0,34.0,null,42.0,22.0,18.0,5.0,18.0,29.0,39.0,17.0,58.0,5.0,23.0,26.0,40.0,20.0,38.0,31.0,34.0,9.0,36.0,26.0,18.0,55.0,28.0,18.0,28.0,23.0,20.0,22.0,27.0,13.0,32.0,53.0,34.0,42.0,19.0,54.0,12.0,35.0,55.0,26.0,49.0,22.0,null,30.0,39.0,14.0,29.0,34.0,8.0,7.0,3.0,0.0,10.0,16.0,41.0,18.0,25.0,32.0,26.0,26.0,18.0,27.0,26.0,28.0,19.0,31.0,35.0,46.0,37.0,29.0,17.0,30.0,28.0,16.0,40.0,23.0,24.0,36.0,34.0,59.0,20.0,15.0,19.0,64.0,24.0,23.0,30.0,0.0,8.0,1.0,48.0,12.0,30.0,10.0,11.0,58.0,52.0,36.0,32.0,16.0,25.0,28.0,32.0,28.0,16.0,50.0,20.0,23.0,45.0,23.0,53.0,8.0,6.0,3.0,13.0,60.0,1.0,40.0,51.0,31.0,28.0,20.0,14.0,23.0,4.0,20.0,75.0,24.0,18.0,21.0,59.0,27.0,38.0,41.0,36.0,29.0,22.0,23.0,32.0,21.0,26.0,61.0,30.0,40.0,37.0,41.0,32.0,30.0,27.0,22.0,54.0,27.0,52.0,15.0,27.0,30.0,19.0,22.0,43.0,25.0,51.0,34.0,21.0,21.0,23.0,38.0,30.0,31.0,44.0,14.0,18.0,19.0,null,36.0,10.0,1.0,4.0,21.0,24.0,8.0,18.0,33.0,31.0,43.0,20.0,28.0,30.0,28.0,19.0,22.0,27.0,22.0,2.0,4.0,10.0,9.0,37.0,2.0,44.0,11.0,22.0,40.0,30.0,37.0,26.0,19.0,57.0,1.0,17.0,26.0,21.0,28.0,36.0,25.0,40.0,23.0,2.0,10.0,43.0,0.0,24.0,42.0,30.0,19.0,26.0,47.0,28.0,24.0,29.0,32.0,44.0,17.0,35.0,23.0,34.0,25.0,67.0,22.0,null,27.0,14.0,42.0,19.0,22.0,31.0,10.0,39.0,41.0,0.0,22.0,21.0,40.0,25.0,23.0,33.0,20.0,40.0,27.0,21.0,25.0,2.0,19.0,41.0,43.0,19.0,22.0,16.0,42.0,20.0,35.0,53.0,17.0,6.0,22.0,41.0,19.0,39.0,23.0,31.0,38.0,1.0,13.0,21.0,44.0,36.0,19.0,7.0,39.0,28.0,28.0,14.0,18.0,23.0,33.0,18.0,47.0,42.0,17.0,21.0,17.0,26.0,23.0,15.0,18.0,65.0,33.0,27.0,41.0,42.0,null,37.0,17.0,24.0,39.0,59.0,32.0,29.0,8.0,28.0,35.0,24.0,1.0,4.0,28.0,46.0,67.0,44.0,14.0,23.0,51.0,20.0,0.0,0.0,23.0,24.0,41.0,30.0,27.0,13.0,16.0,30.0,8.0,59.0,43.0,30.0,46.0,39.0,21.0,70.0,34.0,33.0,44.0,16.0,63.0,37.0,29.0,29.0,22.0,26.0,76.0,61.0,46.0,19.0,13.0,null,30.0,23.0,63.0,21.0,32.0,33.0,39.0,49.0,27.0,16.0,38.0,42.0,19.0,26.0,32.0,56.0,0.0,38.0,30.0,21.0,11.0,3.0,17.0,35.0,17.0,0.0,46.0,63.0,35.0,61.0,19.0,43.0,14.0,78.0,21.0,32.0,31.0,40.0,13.0,36.0,31.0,18.0,40.0,28.0,41.0,35.0,14.0,20.0,23.0,22.0,25.0,18.0,25.0,30.0,46.0,27.0,53.0,21.0,32.0,32.0,33.0,26.0,47.0,13.0,34.0,21.0,20.0,21.0,51.0,18.0,26.0,53.0,30.0,37.0,45.0,62.0,38.0,24.0,18.0,23.0,16.0,37.0,22.0,18.0,25.0,26.0,25.0,55.0,28.0,23.0,22.0,26.0,13.0,18.0,38.0,28.0,57.0,0.0,18.0,25.0,35.0,37.0,33.0,35.0,47.0,23.0,null,27.0,23.0,31.0,19.0,53.0,37.0,18.0,42.0,7.0,7.0,24.0,20.0,24.0,42.0,49.0,47.0,16.0,26.0,24.0,38.0,0.0,37.0,39.0,25.0,25.0,35.0,0.0,46.0,4.0,19.0,29.0,19.0,47.0,1.0,4.0,37.0,61.0,32.0,4.0,16.0,25.0,22.0,41.0,25.0,19.0,21.0,14.0,18.0,34.0,33.0,14.0,28.0,43.0,3.0,0.0,47.0,28.0,40.0,17.0,21.0,null,41.0,20.0,56.0,57.0,48.0,37.0,20.0,36.0,38.0,22.0,31.0,0.0,21.0,49.0,44.0,null,29.0,16.0,20.0,26.0,19.0,34.0,38.0,51.0,7.0,3.0,26.0,27.0,7.0,19.0,28.0,27.0,31.0,26.0,43.0,23.0,14.0,47.0,17.0,64.0,13.0,18.0,29.0,70.0,23.0,23.0,35.0,17.0,26.0,15.0,19.0,20.0,51.0,17.0,27.0,43.0,5.0,17.0,40.0,38.0,20.0,13.0,15.0,15.0,59.0,24.0,null,52.0,38.0,26.0,17.0,17.0,20.0,15.0,30.0,22.0,18.0,22.0,20.0,22.0,34.0,28.0,50.0,19.0,21.0,0.0,4.0,59.0,15.0,24.0,26.0,67.0,55.0,50.0,23.0,21.0,15.0,41.0,59.0,18.0,21.0,14.0,50.0,32.0,46.0,null,58.0,15.0,35.0,30.0,30.0,43.0,21.0,15.0,37.0,28.0,28.0,40.0,42.0,21.0,31.0,51.0,73.0,26.0,33.0,39.0,19.0,12.0,10.0,0.0,0.0,1.0,33.0,23.0,5.0,24.0,26.0,30.0,33.0,56.0,25.0,null,25.0,18.0,60.0,41.0,16.0,17.0,26.0,31.0,67.0,16.0,24.0,19.0,48.0,30.0,22.0,28.0,23.0,29.0,22.0,48.0,26.0,23.0,55.0,46.0,38.0,2.0,3.0,20.0,65.0,null,25.0,54.0,25.0,14.0,53.0,0.0,39.0,22.0,31.0,24.0,35.0,35.0,32.0,61.0,58.0,26.0,4.0,1.0,8.0,7.0,25.0,6.0,29.0,64.0,31.0,25.0,30.0,0.0,29.0,37.0,49.0,36.0,20.0,20.0,18.0,17.0,48.0,26.0,35.0,30.0,22.0,5.0,43.0,52.0,50.0,29.0,19.0,39.0,38.0,21.0,25.0,42.0,36.0,19.0,42.0,40.0,14.0,50.0,18.0,46.0,null,15.0,22.0,0.0,52.0,38.0,46.0,23.0,63.0,24.0,50.0,20.0,55.0,21.0,56.0,45.0,18.0,47.0,36.0,57.0,13.0,27.0,20.0,47.0,15.0,34.0,21.0,51.0,23.0,58.0,37.0,44.0,25.0,15.0,40.0,29.0,36.0,21.0,35.0,24.0,2.0,0.0,43.0,63.0,30.0,38.0,27.0,54.0,39.0,41.0,22.0,23.0,34.0,26.0,39.0,15.0,64.0,25.0,35.0,19.0,26.0,3.0,29.0,44.0,27.0,17.0,37.0,19.0,44.0,22.0,22.0,21.0,31.0,17.0,30.0,15.0,42.0,55.0,28.0,33.0,19.0,24.0,4.0,2.0,30.0,31.0,17.0,40.0,33.0,46.0,30.0,17.0,19.0,22.0,20.0,36.0,0.0,17.0,null,15.0,20.0,19.0,24.0,43.0,26.0,42.0,21.0,50.0,25.0,64.0,50.0,24.0,27.0,42.0,30.0,20.0,31.0,26.0,39.0,null,32.0,25.0,6.0,3.0,11.0,52.0,14.0,68.0,18.0,55.0,22.0,34.0,17.0,38.0,13.0,19.0,30.0,27.0,17.0,45.0,28.0,23.0,24.0,23.0,29.0,46.0,17.0,20.0,24.0,40.0,null,38.0,65.0,19.0,54.0,38.0,40.0,21.0,22.0,33.0,18.0,43.0,13.0,26.0,22.0,21.0,25.0,29.0,49.0,29.0,45.0,45.0,30.0,29.0,26.0,16.0,20.0,33.0,18.0,24.0,29.0,40.0,27.0,35.0,31.0,26.0,49.0,23.0,23.0,14.0,21.0,18.0,null,19.0,22.0,17.0,13.0,26.0,null,16.0,20.0,20.0,23.0,61.0,27.0,3.0,4.0,13.0,19.0,18.0,66.0,39.0,21.0,7.0,56.0,15.0,null,13.0,18.0,38.0,45.0,21.0,19.0,49.0,21.0,18.0,43.0,27.0,0.0,27.0,21.0,20.0,35.0,20.0,24.0,41.0,23.0,27.0,58.0,53.0,30.0,24.0,31.0,46.0,20.0,20.0,30.0,24.0,34.0,20.0,48.0,25.0,43.0,27.0,47.0,26.0,37.0,42.0,61.0,29.0,32.0,51.0,43.0,25.0,31.0,13.0,20.0,29.0,16.0,15.0,50.0,41.0,43.0,32.0,36.0,18.0,47.0,29.0,null,14.0,25.0,63.0,22.0,32.0,31.0,24.0,39.0,20.0,20.0,19.0,20.0,31.0,17.0,24.0,27.0,28.0,41.0,25.0,26.0,27.0,22.0,62.0,58.0,37.0,54.0,26.0,44.0,34.0,47.0,27.0,22.0,46.0,29.0,43.0,42.0,39.0,30.0,43.0,19.0,26.0,46.0,3.0,21.0,1.0,22.0,27.0,28.0,36.0,19.0,18.0,47.0,18.0,6.0,20.0,18.0,37.0,22.0,37.0,6.0,36.0,46.0,75.0,37.0,22.0,33.0,35.0,19.0,34.0,23.0,37.0,24.0,54.0,52.0,60.0,1.0,null,22.0,27.0,48.0,47.0,25.0,49.0,33.0,67.0,5.0,60.0,56.0,59.0,44.0,33.0,28.0,29.0,13.0,34.0,45.0,39.0,18.0,57.0,null,25.0,22.0,32.0,29.0,21.0,16.0,45.0,44.0,27.0,26.0,46.0,24.0,15.0,53.0,28.0,11.0,7.0,0.0,15.0,31.0,9.0,44.0,35.0,30.0,13.0,45.0,4.0,21.0,20.0,24.0,3.0,29.0,28.0,44.0,50.0,35.0,19.0,22.0,30.0,36.0,20.0,22.0,22.0,32.0,35.0,41.0,57.0,3.0,11.0,4.0,17.0,30.0,11.0,23.0,58.0,22.0,24.0,20.0,37.0,49.0,46.0,30.0,36.0,21.0,25.0,42.0,13.0,25.0,29.0,17.0,36.0,44.0,18.0,22.0,22.0,43.0,29.0,24.0,18.0,42.0,43.0,32.0,15.0,22.0,20.0,34.0,70.0,18.0,26.0,17.0,13.0,19.0,32.0,33.0,21.0,23.0,24.0,17.0,34.0,31.0,43.0,43.0,33.0,28.0,27.0,7.0,16.0,42.0,27.0,19.0,42.0,13.0,16.0,21.0,28.0,69.0,15.0,48.0,42.0,42.0,23.0,26.0,45.0,30.0,36.0,null,35.0,21.0,50.0,52.0,21.0,41.0,35.0,26.0,17.0,69.0,27.0,25.0,27.0,25.0,36.0,14.0,27.0,22.0,24.0,null,4.0,19.0,19.0,38.0,39.0,23.0,57.0,18.0,43.0,28.0,33.0,37.0,28.0,28.0,18.0,29.0,29.0,28.0,24.0,59.0,43.0,20.0,23.0,27.0,38.0,38.0,48.0,25.0,25.0,24.0,69.0,20.0,18.0,28.0,23.0,24.0,44.0,29.0,6.0,42.0,78.0,36.0,37.0,41.0,18.0,62.0,0.0,55.0,16.0,32.0,19.0,7.0,4.0,30.0,24.0,34.0,30.0,3.0,32.0,55.0,0.0,51.0,0.0,21.0,2.0,19.0,24.0,20.0,42.0,17.0,32.0,28.0,21.0,56.0,28.0,42.0,18.0,24.0,20.0,22.0,22.0,21.0,28.0,26.0,50.0,26.0,30.0,29.0,8.0,45.0,35.0,18.0,23.0,29.0,18.0,28.0,34.0,0.0,4.0,28.0,8.0,20.0,20.0,25.0,31.0,37.0,21.0,24.0,34.0,0.0,25.0,43.0,null,45.0,63.0,17.0,35.0,12.0,null,17.0,32.0,23.0,17.0,34.0,15.0,14.0,22.0,19.0,40.0,25.0,51.0,22.0,50.0,26.0,39.0,18.0,22.0,26.0,19.0,16.0,24.0,34.0,55.0,42.0,14.0,28.0,26.0,33.0,24.0,23.0,16.0,36.0,44.0,22.0,30.0,20.0,21.0,14.0,27.0,19.0,21.0,null,13.0,71.0,28.0,18.0,23.0,34.0,20.0,17.0,21.0,33.0,34.0,51.0,21.0,null,31.0,36.0,39.0,26.0,51.0,24.0,27.0,31.0,24.0,57.0,36.0,55.0,null,18.0,27.0,50.0,24.0,20.0,24.0,18.0,44.0,27.0,58.0,29.0,23.0,3.0,0.0,33.0,12.0,44.0,20.0,59.0,18.0,72.0,23.0,11.0,1.0,25.0,25.0,24.0,54.0,17.0,48.0,40.0,2.0,32.0,15.0,52.0,16.0,16.0,16.0,6.0,10.0,27.0,45.0,26.0,29.0,38.0,19.0,43.0,15.0,31.0,52.0,49.0,29.0,18.0,41.0,9.0,null,58.0,39.0,13.0,36.0,23.0,24.0,33.0,18.0,2.0,0.0,36.0,15.0,31.0,42.0,27.0,36.0,0.0,3.0,22.0,56.0,23.0,25.0,29.0,17.0,13.0,35.0,53.0,24.0,38.0,21.0,29.0,46.0,58.0,53.0,21.0,27.0,31.0,23.0,41.0,29.0,54.0,43.0,36.0,48.0,34.0,42.0,17.0,22.0,37.0,38.0,21.0,23.0,27.0,23.0,19.0,28.0,33.0,24.0,0.0,41.0,19.0,44.0,43.0,14.0,18.0,25.0,0.0,4.0,24.0,38.0,44.0,57.0,3.0,5.0,3.0,18.0,8.0,21.0,35.0,47.0,28.0,49.0,23.0,19.0,34.0,40.0,26.0,23.0,22.0,51.0,44.0,50.0,28.0,13.0,21.0,20.0,14.0,38.0,29.0,36.0,16.0,40.0,null,18.0,17.0,32.0,27.0,34.0,53.0,36.0,41.0,51.0,61.0,59.0,17.0,27.0,57.0,39.0,55.0,42.0,36.0,42.0,32.0,6.0,15.0,28.0,37.0,44.0,71.0,44.0,36.0,18.0,3.0,12.0,0.0,29.0,9.0,27.0,24.0,38.0,28.0,26.0,16.0,24.0,33.0,24.0,29.0,25.0,0.0,13.0,7.0,32.0,34.0,49.0,43.0,0.0,6.0,23.0,43.0,23.0,43.0,41.0,54.0,51.0,44.0,48.0,45.0,20.0,33.0,21.0,68.0,23.0,16.0,35.0,22.0,51.0,2.0,29.0,0.0,39.0,55.0,22.0,20.0,25.0,18.0,28.0,26.0,28.0,54.0,56.0,25.0,26.0,14.0,21.0,43.0,37.0,null,38.0,14.0,20.0,33.0,33.0,13.0,37.0,15.0,33.0,24.0,49.0,24.0,24.0,26.0,40.0,31.0,47.0,19.0,38.0,33.0,45.0,1.0,32.0,70.0,19.0,55.0,48.0,66.0,13.0,40.0,35.0,32.0,51.0,37.0,31.0,37.0,38.0,19.0,33.0,19.0,31.0,43.0,22.0,24.0,21.0,14.0,30.0,22.0,11.0,4.0,0.0,30.0,21.0,40.0,57.0,35.0,32.0,32.0,30.0,69.0,21.0,17.0,16.0,25.0,25.0,52.0,13.0,37.0,13.0,45.0,55.0,22.0,39.0,35.0,19.0,7.0,19.0,21.0,37.0,35.0,22.0,62.0,41.0,16.0,26.0,36.0,null,22.0,40.0,50.0,57.0,15.0,23.0,60.0,73.0,35.0,28.0,27.0,14.0,26.0,22.0,22.0,71.0,25.0,27.0,1.0,52.0,0.0,30.0,52.0,12.0,22.0,24.0,22.0,15.0,21.0,56.0,50.0,20.0,32.0,28.0,74.0,25.0,31.0,6.0,17.0,12.0,47.0,46.0,31.0,36.0,15.0,38.0,48.0,21.0,4.0,31.0,31.0,62.0,29.0,30.0,26.0,43.0,32.0,24.0,49.0,21.0,18.0,18.0,14.0,21.0,25.0,56.0,0.0,55.0,14.0,13.0,43.0,39.0,null,24.0,26.0,22.0,26.0,19.0,38.0,38.0,77.0,28.0,22.0,20.0,18.0,10.0,34.0,43.0,31.0,40.0,25.0,68.0,20.0,27.0,1.0,60.0,28.0,11.0,0.0,9.0,38.0,18.0,40.0,21.0,24.0,26.0,47.0,46.0,55.0,50.0,10.0,17.0,20.0,37.0,24.0,43.0,0.0,24.0,22.0,14.0,3.0,22.0,23.0,56.0,36.0,58.0,1.0,39.0,33.0,19.0,null,33.0,17.0,28.0,21.0,45.0,62.0,43.0,27.0,1.0,31.0,18.0,21.0,7.0,22.0,26.0,30.0,17.0,null,10.0,25.0,21.0,53.0,21.0,28.0,20.0,54.0,9.0,20.0,19.0,32.0,22.0,35.0,26.0,51.0,8.0,40.0,2.0,19.0,32.0,16.0,64.0,35.0,33.0,9.0,21.0,28.0,28.0,31.0,32.0,43.0,60.0,43.0,43.0,19.0,21.0,38.0,17.0,29.0,2.0,22.0,18.0,16.0,52.0,52.0,14.0,25.0,34.0,20.0,28.0,null,20.0,44.0,64.0,27.0,24.0,38.0,47.0,8.0,1.0,0.0,20.0,41.0,35.0,31.0,14.0,25.0,26.0,26.0,30.0,49.0,19.0,15.0,27.0,39.0,32.0,11.0,44.0,36.0,56.0,42.0,40.0,53.0,31.0,14.0,31.0,42.0,32.0,34.0,55.0,42.0,40.0,48.0,37.0,17.0,60.0,19.0,30.0,32.0,28.0,26.0,24.0,47.0,32.0,73.0,17.0,47.0,null,13.0,22.0,61.0,19.0,45.0,18.0,32.0,52.0,25.0,9.0,18.0,26.0,20.0,6.0,5.0,40.0,20.0,18.0,42.0,14.0,33.0,23.0,35.0,53.0,56.0,35.0,18.0,25.0,20.0,44.0,26.0,23.0,39.0,25.0,42.0,20.0,4.0,64.0,0.0,19.0,6.0,23.0,22.0,18.0,21.0,37.0,24.0,38.0,11.0,6.0,49.0,55.0,15.0,19.0,16.0,48.0,25.0,23.0,27.0,39.0,28.0,72.0,47.0,65.0,40.0,18.0,27.0,21.0,37.0,31.0,33.0,53.0,27.0,74.0,null,23.0,74.0,23.0,26.0,0.0,0.0,24.0,28.0,17.0,26.0,39.0,17.0,15.0,37.0,38.0,33.0,16.0,41.0,7.0,20.0,44.0,42.0,29.0,22.0,21.0,21.0,21.0,13.0,16.0,36.0,36.0,26.0,28.0,14.0,29.0,19.0,51.0,64.0,41.0,null,16.0,20.0,31.0,38.0,59.0,18.0,33.0,33.0,49.0,4.0,0.0,0.0,24.0,52.0,50.0,31.0,25.0,62.0,49.0,24.0,33.0,20.0,46.0,26.0,52.0,28.0,39.0,29.0,19.0,15.0,33.0,47.0,34.0,26.0,15.0,null,27.0,38.0,21.0,1.0,38.0,0.0,32.0,27.0,48.0,22.0,28.0,19.0,37.0,46.0,26.0,16.0,0.0,0.0,26.0,13.0,23.0,70.0,21.0,40.0,18.0,23.0,15.0,28.0,45.0,18.0,23.0,36.0,25.0,28.0,29.0,31.0,14.0,31.0,39.0,17.0,56.0,36.0,21.0,48.0,53.0,5.0,21.0,50.0,18.0,28.0,28.0,18.0,37.0,19.0,27.0,37.0,43.0,17.0,21.0,55.0,14.0,24.0,26.0,19.0,20.0,14.0,19.0,15.0,25.0,24.0,22.0,26.0,23.0,20.0,53.0,55.0,22.0,35.0,40.0,22.0,22.0,21.0,64.0,40.0,8.0,25.0,19.0,24.0,11.0,31.0,46.0,31.0,17.0,16.0,57.0,28.0,27.0,28.0,26.0,17.0,36.0,24.0,18.0,20.0,10.0,null,23.0,36.0,27.0,54.0,38.0,29.0,37.0,36.0,18.0,28.0,61.0,19.0,29.0,37.0,29.0,38.0,41.0,23.0,48.0,0.0,46.0,36.0,42.0,null,16.0,43.0,40.0,22.0,39.0,37.0,28.0,29.0,14.0,15.0,17.0,4.0,24.0,null,22.0,38.0,30.0,29.0,26.0,41.0,50.0,34.0,24.0,24.0,45.0,35.0,23.0,23.0,21.0,19.0,24.0,2.0,0.0,20.0,35.0,34.0,26.0,26.0,32.0,25.0,30.0,57.0,23.0,32.0,27.0,20.0,21.0,19.0,16.0,18.0,18.0,22.0,null,35.0,8.0,5.0,40.0,31.0,9.0,56.0,39.0,18.0,45.0,33.0,2.0,1.0,2.0,16.0,18.0,28.0,45.0,24.0,35.0,16.0,40.0,5.0,29.0,31.0,27.0,34.0,15.0,43.0,30.0,61.0,48.0,17.0,19.0,29.0,2.0,24.0,19.0,34.0,19.0,39.0,26.0,53.0,18.0,null,45.0,32.0,18.0,48.0,24.0,52.0,55.0,43.0,24.0,8.0,18.0,38.0,18.0,23.0,26.0,21.0,45.0,24.0,44.0,20.0,47.0,16.0,28.0,8.0,20.0,22.0,42.0,23.0,30.0,18.0,35.0,42.0,46.0,29.0,35.0,48.0,24.0,38.0,51.0,77.0,22.0,38.0,42.0,55.0,7.0,null,25.0,15.0,13.0,23.0,null,33.0,26.0,67.0,27.0,33.0,18.0,36.0,18.0,51.0,54.0,33.0,18.0,57.0,23.0,24.0,20.0,32.0,21.0,null,41.0,27.0,49.0,18.0,34.0,73.0,40.0,63.0,21.0,21.0,23.0,31.0,41.0,15.0,36.0,24.0,27.0,24.0,19.0,25.0,39.0,15.0,31.0,25.0,57.0,null,18.0,33.0,23.0,34.0,38.0,21.0,31.0,13.0,54.0,13.0,18.0,null,43.0,56.0,63.0,9.0,9.0,0.0,16.0,42.0,9.0,22.0,47.0,30.0,29.0,null,22.0,19.0,31.0,17.0,38.0,13.0,36.0,0.0,21.0,18.0,36.0,27.0,5.0,18.0,25.0,14.0,23.0,2.0,1.0,7.0,6.0,56.0,4.0,65.0,36.0,25.0,41.0,20.0,18.0,15.0,23.0,29.0,33.0,14.0,55.0,30.0,21.0,26.0,33.0,18.0,9.0,0.0,19.0,18.0,38.0,42.0,28.0,37.0,29.0,42.0,18.0,34.0,34.0,18.0,24.0,24.0,56.0,2.0,12.0,37.0,60.0,55.0,20.0,28.0,28.0,37.0,18.0,14.0,29.0,51.0,45.0,45.0,41.0,21.0,28.0,0.0,46.0,41.0,13.0,55.0,20.0,21.0,49.0,27.0,0.0,22.0,17.0,23.0,44.0,29.0,19.0,3.0,29.0,19.0,22.0,33.0,null,50.0,54.0,43.0,17.0,26.0,44.0,51.0,29.0,4.0,40.0,27.0,8.0,3.0,11.0,24.0,25.0,28.0,25.0,27.0,25.0,0.0,58.0,3.0,4.0,2.0,34.0,5.0,3.0,46.0,22.0,8.0,17.0,4.0,12.0,40.0,16.0,41.0,8.0,14.0,2.0,59.0,45.0,52.0,33.0,51.0,38.0,14.0,42.0,28.0,34.0,21.0,30.0,null,26.0,23.0,20.0,59.0,37.0,32.0,37.0,27.0,42.0,29.0,2.0,10.0,0.0,21.0,8.0,null,27.0,13.0,49.0,38.0,21.0,22.0,14.0,24.0,24.0,34.0,1.0,null,26.0,null,32.0,2.0,10.0,49.0,14.0,29.0,25.0,36.0,22.0,21.0,36.0,54.0,30.0,0.0,1.0,42.0,47.0,25.0,18.0,22.0,27.0,24.0,null,22.0,60.0,38.0,23.0,21.0,55.0,20.0,50.0,22.0,21.0,26.0,36.0,46.0,26.0,24.0,14.0,46.0,15.0,30.0,null,38.0,48.0,31.0,41.0,43.0,23.0,48.0,47.0,19.0,25.0,28.0,16.0,45.0,31.0,19.0,21.0,null,22.0,23.0,54.0,0.0,4.0,23.0,19.0,34.0,18.0,40.0,58.0,39.0,23.0,11.0,43.0,29.0,36.0,13.0,54.0,45.0,33.0,46.0,15.0,35.0,23.0,15.0,27.0,15.0,27.0,16.0,37.0,45.0,58.0,null,38.0,28.0,47.0,41.0,28.0,23.0,24.0,58.0,36.0,24.0,56.0,15.0,19.0,27.0,47.0,37.0,39.0,20.0,20.0,38.0,46.0,13.0,24.0,32.0,null,44.0,19.0,30.0,23.0,4.0,0.0,17.0,44.0,31.0,41.0,33.0,43.0,43.0,36.0,19.0,24.0,17.0,23.0,17.0,18.0,34.0,13.0,66.0,27.0,19.0,55.0,40.0,23.0,7.0,12.0,37.0,22.0,25.0,46.0,37.0,50.0,28.0,26.0,28.0,23.0,23.0,34.0,65.0,20.0,29.0,30.0,3.0,40.0,32.0,31.0,13.0,29.0,28.0,19.0,24.0,22.0,13.0,21.0,24.0,47.0,27.0,18.0,36.0,68.0,31.0,28.0,36.0,17.0,13.0,30.0,58.0,43.0,20.0,29.0,15.0,30.0,33.0,25.0,62.0,41.0,27.0,18.0,27.0,19.0,37.0,24.0,29.0,44.0,19.0,39.0,63.0,39.0,41.0,27.0,56.0,22.0,26.0,24.0,18.0,13.0,32.0,30.0,25.0,55.0,19.0,24.0,32.0,24.0,32.0,36.0,28.0,52.0,29.0,23.0,32.0,35.0,41.0,16.0,33.0,6.0,15.0,38.0,56.0,4.0,21.0,22.0,37.0,6.0,22.0,26.0,22.0,20.0,null,24.0,25.0,48.0,24.0,3.0,24.0,25.0,1.0,20.0,22.0,28.0,17.0,28.0,47.0,34.0,29.0,14.0,36.0,40.0,49.0,51.0,41.0,44.0,47.0,22.0,13.0,18.0,28.0,22.0,50.0,47.0,55.0,21.0,39.0,21.0,37.0,31.0,23.0,28.0,23.0,20.0,28.0,40.0,54.0,18.0,27.0,43.0,25.0,13.0,15.0,37.0,32.0,19.0,21.0,27.0,39.0,22.0,25.0,34.0,54.0,42.0,36.0,43.0,23.0,57.0,54.0,51.0,32.0,33.0,8.0,44.0,27.0,48.0,13.0,5.0,18.0,23.0,23.0,35.0,25.0,32.0,0.0,5.0,16.0,18.0,29.0,55.0,41.0,38.0,27.0,55.0,75.0,50.0,23.0,37.0,33.0,45.0,47.0,13.0,29.0,19.0,30.0,39.0,31.0,29.0,16.0,18.0,38.0,50.0,21.0,22.0,20.0,36.0,23.0,31.0,39.0,50.0,40.0,28.0,38.0,37.0,59.0,41.0,33.0,54.0,40.0,43.0,26.0,65.0,22.0,28.0,35.0,30.0,28.0,23.0,24.0,16.0,18.0,20.0,29.0,29.0,21.0,2.0,43.0,28.0,31.0,23.0,26.0,43.0,28.0,24.0,27.0,13.0,27.0,2.0,24.0,2.0,50.0,27.0,26.0,31.0,28.0,4.0,9.0,0.0,35.0,3.0,25.0,63.0,34.0,35.0,26.0,39.0,34.0,36.0,46.0,26.0,28.0,20.0,35.0,11.0,14.0,4.0,11.0,31.0,15.0,39.0,7.0,24.0,22.0,26.0,53.0,40.0,19.0,54.0,21.0,25.0,48.0,41.0,13.0,57.0,25.0,48.0,34.0,16.0,0.0,15.0,37.0,37.0,49.0,18.0,25.0,null,43.0,20.0,54.0,30.0,37.0,30.0,20.0,20.0,24.0,44.0,0.0,15.0,19.0,20.0,20.0,34.0,17.0,20.0,42.0,28.0,43.0,55.0,21.0,17.0,54.0,25.0,null,45.0,31.0,19.0,30.0,24.0,null,42.0,29.0,37.0,64.0,24.0,23.0,22.0,23.0,21.0,37.0,17.0,35.0,33.0,37.0,32.0,31.0,null,34.0,9.0,25.0,29.0,1.0,30.0,64.0,31.0,27.0,null,25.0,28.0,32.0,36.0,26.0,36.0,37.0,45.0,22.0,24.0,23.0,31.0,37.0,28.0,23.0,14.0,40.0,42.0,53.0,46.0,28.0,25.0,34.0,58.0,31.0,24.0,52.0,25.0,17.0,27.0,29.0,45.0,28.0,25.0,57.0,68.0,26.0,52.0,36.0,41.0,14.0,16.0,24.0,62.0,26.0,45.0,41.0,36.0,13.0,48.0,null,22.0,39.0,45.0,42.0,33.0,27.0,47.0,20.0,32.0,54.0,23.0,9.0,17.0,26.0,38.0,24.0,30.0,2.0,4.0,9.0,30.0,5.0,2.0,32.0,53.0,46.0,2.0,1.0,11.0,3.0,33.0,3.0,38.0,21.0,41.0,64.0,27.0,41.0,19.0,42.0,30.0,38.0,63.0,17.0,2.0,19.0,37.0,50.0,38.0,28.0,35.0,27.0,15.0,29.0,65.0,27.0,0.0,21.0,19.0,39.0,60.0,30.0,30.0,40.0,26.0,38.0,22.0,null,65.0,61.0,20.0,24.0,16.0,35.0,21.0,23.0,17.0,24.0,27.0,26.0,26.0,20.0,28.0,37.0,23.0,49.0,50.0,4.0,32.0,44.0,20.0,30.0,29.0,22.0,35.0,0.0,6.0,38.0,34.0,34.0,null,53.0,28.0,31.0,56.0,36.0,30.0,32.0,44.0,54.0,24.0,44.0,25.0,35.0,29.0,22.0,22.0,22.0,18.0,22.0,52.0,0.0,1.0,34.0,6.0,22.0,31.0,31.0,20.0,25.0,23.0,53.0,32.0,27.0,48.0,37.0,21.0,29.0,46.0,19.0,22.0,54.0,43.0,18.0,36.0,20.0,63.0,50.0,13.0,43.0,16.0,31.0,0.0,10.0,10.0,55.0,18.0,7.0,1.0,44.0,27.0,20.0,49.0,22.0,21.0,26.0,65.0,20.0,0.0,16.0,22.0,0.0,21.0,30.0,14.0,45.0,22.0,21.0,37.0,29.0,29.0,21.0,52.0,36.0,59.0,21.0,25.0,23.0,36.0,38.0,0.0,19.0,30.0,23.0,55.0,44.0,30.0,39.0,19.0,24.0,37.0,24.0,17.0,17.0,14.0,13.0,35.0,32.0,18.0,21.0,25.0,36.0,20.0,22.0,27.0,null,38.0,23.0,21.0,18.0,20.0,28.0,57.0,10.0,23.0,22.0,24.0,52.0,31.0,15.0,40.0,18.0,28.0,40.0,32.0,35.0,52.0,34.0,46.0,23.0,44.0,59.0,42.0,18.0,29.0,15.0,19.0,49.0,19.0,36.0,59.0,24.0,4.0,20.0,24.0,31.0,23.0,3.0,22.0,20.0,0.0,13.0,47.0,51.0,22.0,3.0,4.0,16.0,24.0,1.0,31.0,34.0,20.0,19.0,19.0,35.0,3.0,36.0,20.0,null,58.0,56.0,27.0,25.0,39.0,43.0,42.0,24.0,19.0,32.0,32.0,61.0,64.0,21.0,26.0,35.0,43.0,3.0,56.0,45.0,25.0,12.0,2.0,46.0,32.0,20.0,24.0,28.0,12.0,11.0,16.0,29.0,24.0,22.0,21.0,38.0,35.0,79.0,22.0,42.0,34.0,52.0,43.0,30.0,35.0,18.0,27.0,46.0,15.0,44.0,20.0,35.0,19.0,47.0,26.0,24.0,23.0,26.0,5.0,35.0,18.0,32.0,13.0,15.0,18.0,41.0,36.0,33.0,41.0,47.0,32.0,36.0,13.0,34.0,24.0,16.0,12.0,24.0,35.0,26.0,39.0,18.0,23.0,29.0,38.0,31.0,49.0,17.0,23.0,15.0,11.0,30.0,42.0,21.0,41.0,14.0,27.0,29.0,25.0,54.0,46.0,18.0,22.0,29.0,26.0,36.0,19.0,56.0,20.0,10.0,14.0,27.0,35.0,13.0,21.0,22.0,29.0,32.0,20.0,44.0,22.0,39.0,19.0,0.0,0.0,12.0,7.0,32.0,11.0,18.0,49.0,61.0,7.0,25.0,51.0,56.0,31.0,16.0,29.0,17.0,47.0,25.0,28.0,32.0,56.0,25.0,13.0,41.0,28.0,25.0,11.0,20.0,24.0,41.0,29.0,59.0,31.0,16.0,65.0,21.0,27.0,37.0,42.0,36.0,24.0,null,19.0,26.0,19.0,26.0,35.0,24.0,9.0,40.0,23.0,4.0,20.0,21.0,4.0,19.0,18.0,26.0,13.0,16.0,14.0,40.0,34.0,21.0,29.0,40.0,16.0,37.0,41.0,16.0,39.0,30.0,40.0,63.0,32.0,47.0,23.0,23.0,19.0,44.0,29.0,21.0,23.0,26.0,47.0,20.0,48.0,4.0,25.0,0.0,29.0,21.0,20.0,34.0,9.0,12.0,13.0,27.0,34.0,18.0,16.0,43.0,0.0,20.0,45.0,35.0,21.0,14.0,46.0,22.0,2.0,3.0,28.0,60.0,48.0,18.0,31.0,26.0,41.0,26.0,29.0,24.0,25.0,0.0,30.0,18.0,32.0,28.0,21.0,25.0,47.0,null,8.0,24.0,30.0,24.0,13.0,16.0,23.0,16.0,29.0,46.0,13.0,22.0,29.0,46.0,24.0,33.0,38.0,57.0,null,38.0,28.0,25.0,22.0,33.0,35.0,24.0,31.0,16.0,28.0,8.0,20.0,26.0,43.0,70.0,17.0,14.0,21.0,37.0,15.0,20.0,36.0,14.0,21.0,28.0,20.0,26.0,25.0,29.0,39.0,18.0,37.0,28.0,18.0,30.0,35.0,26.0,0.0,42.0,36.0,31.0,27.0,25.0,32.0,14.0,16.0,51.0,21.0,31.0,9.0,7.0,3.0,2.0,7.0,18.0,33.0,23.0,13.0,32.0,27.0,23.0,25.0,18.0,23.0,31.0,32.0,22.0,38.0,21.0,28.0,38.0,20.0,23.0,48.0,15.0,30.0,40.0,36.0,20.0,17.0,38.0,38.0,14.0,null,21.0,18.0,26.0,35.0,46.0,13.0,39.0,49.0,28.0,27.0,21.0,29.0,27.0,38.0,18.0,35.0,37.0,60.0,31.0,4.0,34.0,46.0,18.0,38.0,29.0,13.0,26.0,30.0,42.0,36.0,23.0,34.0,26.0,31.0,48.0,10.0,27.0,32.0,24.0,20.0,48.0,35.0,14.0,28.0,null,42.0,8.0,30.0,44.0,40.0,38.0,22.0,32.0,16.0,33.0,38.0,23.0,16.0,16.0,11.0,22.0,43.0,20.0,22.0,0.0,30.0,18.0,0.0,41.0,39.0,37.0,26.0,49.0,28.0,13.0,64.0,24.0,18.0,18.0,25.0,19.0,33.0,null,50.0,30.0,44.0,52.0,7.0,30.0,27.0,24.0,13.0,61.0,32.0,17.0,36.0,16.0,21.0,24.0,28.0,null,13.0,39.0,24.0,38.0,20.0,21.0,27.0,49.0,6.0,41.0,33.0,6.0,35.0,46.0,31.0,32.0,31.0,20.0,57.0,37.0,21.0,43.0,49.0,17.0,29.0,36.0,37.0,17.0,45.0,20.0,24.0,28.0,15.0,53.0,51.0,14.0,1.0,26.0,20.0,23.0,22.0,22.0,13.0,28.0,40.0,21.0,35.0,22.0,37.0,21.0,50.0,27.0,20.0,15.0,25.0,31.0,null,18.0,2.0,27.0,0.0,22.0,null,56.0,28.0,42.0,20.0,27.0,29.0,36.0,23.0,64.0,19.0,1.0,49.0,0.0,18.0,39.0,37.0,44.0,43.0,33.0,20.0,0.0,4.0,20.0,50.0,47.0,17.0,26.0,21.0,20.0,26.0,null,34.0,11.0,0.0,28.0,33.0,22.0,28.0,11.0,60.0,43.0,27.0,37.0,23.0,57.0,29.0,28.0,42.0,43.0,26.0,72.0,49.0,29.0,18.0,26.0,19.0,18.0,14.0,44.0,34.0,18.0,36.0,27.0,35.0,52.0,22.0,34.0,37.0,22.0,26.0,14.0,53.0,17.0,30.0,65.0,19.0,36.0,3.0,6.0,4.0,21.0,8.0,35.0,18.0,34.0,45.0,31.0,14.0,23.0,61.0,54.0,28.0,46.0,32.0,49.0,20.0,25.0,19.0,28.0,68.0,16.0,19.0,49.0,15.0,26.0,22.0,23.0,31.0,27.0,28.0,20.0,43.0,22.0,27.0,35.0,37.0,24.0,18.0,15.0,28.0,24.0,39.0,35.0,52.0,48.0,27.0,50.0,24.0,26.0,24.0,15.0,42.0,51.0,43.0,31.0,14.0,31.0,33.0,21.0,13.0,29.0,22.0,22.0,18.0,35.0,20.0,18.0,66.0,33.0,48.0,38.0,62.0,19.0,44.0,25.0,15.0,20.0,34.0,23.0,45.0,39.0,33.0,14.0,26.0,47.0,null,28.0,22.0,17.0,16.0,9.0,15.0,33.0,61.0,19.0,61.0,42.0,4.0,12.0,0.0,19.0,null,29.0,59.0,20.0,70.0,3.0,37.0,58.0,44.0,24.0,20.0,24.0,27.0,28.0,24.0,29.0,25.0,20.0,34.0,28.0,null,23.0,39.0,35.0,18.0,20.0,42.0,32.0,50.0,23.0,19.0,29.0,35.0,18.0,24.0,23.0,51.0,42.0,19.0,23.0,19.0,22.0,25.0,31.0,23.0,22.0,55.0,40.0,24.0,25.0,42.0,33.0,54.0,22.0,22.0,19.0,47.0,23.0,61.0,21.0,46.0,36.0,15.0,33.0,35.0,21.0,21.0,43.0,34.0,47.0,27.0,46.0,46.0,40.0,59.0,45.0,19.0,32.0,39.0,40.0,44.0,26.0,22.0,2.0,18.0,53.0,22.0,46.0,28.0,31.0,36.0,46.0,0.0,3.0,12.0,2.0,41.0,11.0,41.0,17.0,21.0,21.0,27.0,54.0,15.0,39.0,31.0,28.0,21.0,29.0,45.0,44.0,12.0,18.0,20.0,43.0,46.0,53.0,21.0,23.0,9.0,19.0,52.0,31.0,62.0,27.0,23.0,28.0,27.0,58.0,24.0,27.0,33.0,28.0,39.0,27.0,36.0,64.0,41.0,null,27.0,null,22.0,23.0,40.0,2.0,0.0,27.0,0.0,17.0,45.0,62.0,14.0,24.0,51.0,49.0,52.0,35.0,22.0,17.0,47.0,25.0,11.0,17.0,41.0,55.0,29.0,19.0,23.0,32.0,27.0,25.0,24.0,30.0,50.0,51.0,27.0,35.0,48.0,27.0,19.0,18.0,25.0,41.0,62.0,30.0,6.0,15.0,34.0,34.0,23.0,51.0,63.0,42.0,19.0,5.0,2.0,15.0,36.0,32.0,19.0,26.0,33.0,38.0,22.0,32.0,30.0,51.0,29.0,16.0,32.0,24.0,23.0,46.0,49.0,17.0,35.0,43.0,20.0,24.0,28.0,19.0,39.0,34.0,29.0,14.0,null,30.0,null,32.0,7.0,34.0,47.0,19.0,52.0,19.0,18.0,32.0,21.0,22.0,13.0,25.0,33.0,27.0,21.0,17.0,15.0,58.0,29.0,34.0,28.0,29.0,25.0,23.0,22.0,38.0,38.0,0.0,null,0.0,37.0,2.0,40.0,47.0,34.0,43.0,21.0,43.0,33.0,28.0,57.0,null,46.0,19.0,27.0,2.0,0.0,25.0,47.0,38.0,24.0,24.0,25.0,29.0,44.0,20.0,23.0,26.0,20.0,27.0,23.0,33.0,30.0,32.0,19.0,41.0,50.0,36.0,21.0,45.0,26.0,44.0,24.0,15.0,58.0,13.0,19.0,25.0,24.0,20.0,34.0,13.0,null,39.0,0.0,10.0,9.0,34.0,11.0,0.0,24.0,16.0,42.0,41.0,36.0,27.0,32.0,11.0,26.0,28.0,25.0,5.0,null,13.0,30.0,15.0,0.0,49.0,52.0,15.0,40.0,0.0,32.0,15.0,26.0,31.0,8.0,18.0,3.0,44.0,15.0,27.0,22.0,2.0,32.0,16.0,34.0,32.0,28.0,27.0,35.0,25.0,24.0,61.0,28.0,29.0,41.0,20.0,18.0,28.0,18.0,33.0,35.0,68.0,19.0,33.0,55.0,15.0,23.0,23.0,15.0,49.0,33.0,26.0,26.0,18.0,17.0,39.0,8.0,46.0,32.0,19.0,36.0,28.0,39.0,16.0,7.0,1.0,30.0,44.0,28.0,29.0,41.0,13.0,18.0,27.0,26.0,24.0,26.0,27.0,58.0,54.0,18.0,13.0,13.0,28.0,57.0,32.0,32.0,21.0,34.0,33.0,36.0,50.0,28.0,56.0,42.0,39.0,13.0,28.0,55.0,36.0,null,37.0,50.0,27.0,23.0,16.0,33.0,46.0,26.0,24.0,26.0,2.0,33.0,32.0,3.0,2.0,6.0,null,0.0,4.0,58.0,22.0,51.0,37.0,17.0,21.0,null,null,31.0,43.0,null,15.0,18.0,33.0,31.0,41.0,22.0,40.0,49.0,14.0,22.0,22.0,25.0,42.0,16.0,12.0,18.0,33.0,14.0,36.0,23.0,24.0,4.0,null,18.0,21.0,27.0,34.0,28.0,35.0,16.0,36.0,30.0,4.0,19.0,3.0,51.0,null,45.0,18.0,23.0,15.0,34.0,47.0,27.0,26.0,25.0,34.0,27.0,39.0,31.0,4.0,19.0,59.0,19.0,25.0,28.0,37.0,43.0,18.0,36.0,14.0,42.0,29.0,23.0,16.0,8.0,20.0,50.0,38.0,39.0,33.0,30.0,40.0,22.0,52.0,26.0,19.0,33.0,33.0,20.0,28.0,10.0,23.0,28.0,23.0,54.0,57.0,24.0,37.0,59.0,53.0,22.0,18.0,17.0,25.0,18.0,20.0,24.0,33.0,34.0,24.0,37.0,23.0,32.0,13.0,23.0,23.0,27.0,47.0,38.0,28.0,21.0,null,64.0,43.0,21.0,36.0,22.0,24.0,21.0,57.0,46.0,42.0,16.0,40.0,3.0,8.0,3.0,35.0,12.0,null,47.0,19.0,46.0,28.0,5.0,7.0,3.0,1.0,7.0,60.0,34.0,28.0,64.0,13.0,15.0,65.0,53.0,58.0,19.0,null,16.0,48.0,33.0,31.0,44.0,40.0,34.0,21.0,20.0,9.0,33.0,2.0,53.0,0.0,38.0,21.0,31.0,7.0,12.0,0.0,17.0,55.0,2.0,32.0,16.0,0.0,29.0,25.0,39.0,42.0,0.0,14.0,29.0,54.0,35.0,null,18.0,14.0,53.0,48.0,21.0,44.0,25.0,0.0,27.0,40.0,44.0,36.0,3.0,9.0,1.0,17.0,47.0,null,33.0,16.0,30.0,18.0,26.0,19.0,28.0,35.0,40.0,26.0,45.0,18.0,54.0,13.0,26.0,16.0,37.0,17.0,16.0,18.0,21.0,24.0,22.0,41.0,15.0,36.0,23.0,31.0,19.0,23.0,47.0,40.0,34.0,2.0,8.0,0.0,18.0,11.0,18.0,19.0,2.0,25.0,0.0,27.0,34.0,19.0,22.0,22.0,52.0,30.0,65.0,31.0,51.0,21.0,27.0,31.0,28.0,29.0,23.0,11.0,23.0,34.0,20.0,20.0,16.0,18.0,20.0,20.0,27.0,55.0,53.0,37.0,55.0,24.0,24.0,49.0,17.0,39.0,5.0,10.0,1.0,16.0,51.0,5.0,19.0,0.0,20.0,0.0,1.0,38.0,40.0,18.0,36.0,23.0,42.0,37.0,24.0,12.0,2.0,28.0,44.0,26.0,36.0,28.0,14.0,14.0,28.0,27.0,21.0,24.0,18.0,24.0,8.0,36.0,32.0,19.0,12.0,21.0,13.0,20.0,35.0,23.0,17.0,29.0,27.0,22.0,26.0,1.0,7.0,78.0,24.0,26.0,50.0,16.0,57.0,29.0,27.0,42.0,28.0,18.0,38.0,32.0,21.0,6.0,27.0,32.0,23.0,29.0,22.0,31.0,0.0,2.0,null,28.0,20.0,28.0,42.0,32.0,19.0,20.0,20.0,21.0,32.0,16.0,21.0,12.0,21.0,31.0,18.0,35.0,44.0,13.0,21.0,37.0,null,34.0,21.0,38.0,31.0,61.0,20.0,39.0,29.0,68.0,38.0,31.0,41.0,29.0,25.0,27.0,21.0,30.0,40.0,59.0,35.0,41.0,36.0,58.0,27.0,24.0,50.0,22.0,26.0,16.0,56.0,25.0,13.0,53.0,21.0,18.0,38.0,20.0,24.0,56.0,47.0,21.0,null,26.0,34.0,35.0,35.0,49.0,24.0,62.0,25.0,42.0,25.0,21.0,17.0,41.0,50.0,20.0,15.0,29.0,20.0,35.0,22.0,43.0,54.0,15.0,38.0,44.0,34.0,15.0,24.0,29.0,19.0,27.0,26.0,46.0,64.0,17.0,45.0,27.0,29.0,18.0,26.0,39.0,59.0,20.0,17.0,47.0,29.0,16.0,48.0,39.0,28.0,12.0,24.0,30.0,34.0,37.0,47.0,0.0,23.0,0.0,20.0,35.0,18.0,17.0,18.0,53.0,35.0,48.0,68.0,27.0,28.0,37.0,35.0,31.0,14.0,1.0,4.0,30.0,11.0,45.0,29.0,32.0,15.0,25.0,25.0,60.0,24.0,35.0,36.0,22.0,32.0,57.0,30.0,46.0,28.0,26.0,55.0,66.0,20.0,31.0,13.0,50.0,21.0,25.0,46.0,0.0,2.0,36.0,19.0,35.0,41.0,22.0,25.0,24.0,37.0,5.0,null,41.0,44.0,23.0,28.0,27.0,40.0,27.0,17.0,32.0,29.0,29.0,41.0,48.0,27.0,14.0,32.0,47.0,14.0,37.0,33.0,33.0,44.0,37.0,18.0,33.0,21.0,38.0,16.0,58.0,41.0,28.0,28.0,31.0,27.0,7.0,25.0,34.0,21.0,29.0,23.0,31.0,50.0,25.0,25.0,23.0,46.0,0.0,53.0,25.0,30.0,18.0,20.0,54.0,20.0,32.0,31.0,55.0,16.0,0.0,3.0,33.0,45.0,6.0,33.0,14.0,24.0,47.0,37.0,14.0,44.0,11.0,15.0,39.0,15.0,60.0,49.0,23.0,9.0,0.0,17.0,42.0,16.0,0.0,26.0,56.0,26.0,41.0,27.0,31.0,40.0,40.0,15.0,50.0,42.0,50.0,39.0,27.0,20.0,30.0,16.0,36.0,68.0,22.0,36.0,3.0,28.0,32.0,10.0,0.0,9.0,37.0,31.0,31.0,43.0,15.0,58.0,30.0,24.0,49.0,73.0,14.0,50.0,12.0,2.0,49.0,32.0,null,33.0,23.0,23.0,43.0,36.0,26.0,29.0,21.0,30.0,23.0,13.0,22.0,25.0,52.0,22.0,31.0,23.0,35.0,26.0,14.0,39.0,8.0,29.0,15.0,48.0,9.0,25.0,13.0,25.0,27.0,32.0,20.0,40.0,18.0,21.0,38.0,62.0,23.0,48.0,27.0,32.0,53.0,26.0,46.0,32.0,40.0,27.0,28.0,29.0,37.0,0.0,12.0,25.0,null,3.0,9.0,27.0,59.0,24.0,16.0,16.0,46.0,25.0,39.0,15.0,16.0,35.0,43.0,7.0,29.0,60.0,49.0,50.0,40.0,49.0,18.0,29.0,56.0,29.0,29.0,22.0,24.0,23.0,28.0,19.0,32.0,37.0,26.0,43.0,25.0,11.0,4.0,32.0,15.0,17.0,37.0,20.0,47.0,16.0,8.0,22.0,39.0,57.0,29.0,null,70.0,13.0,49.0,25.0,19.0,15.0,37.0,null,28.0,22.0,26.0,25.0,19.0,20.0,35.0,37.0,37.0,13.0,20.0,65.0,29.0,0.0,4.0,19.0,17.0,28.0,28.0,21.0,45.0,21.0,20.0,38.0,24.0,22.0,44.0,41.0,21.0,26.0,54.0,19.0,32.0,null,26.0,28.0,21.0,38.0,43.0,12.0,25.0,27.0,22.0,20.0,24.0,34.0,42.0,24.0,28.0,29.0,31.0,29.0,14.0,16.0,16.0,27.0,null,23.0,16.0,30.0,24.0,36.0,25.0,29.0,21.0,26.0,30.0,31.0,20.0,null,33.0,35.0,46.0,63.0,37.0,23.0,5.0,16.0,20.0,49.0,3.0,41.0,null,14.0,26.0,51.0,36.0,16.0,18.0,48.0,24.0,19.0,21.0,24.0,21.0,13.0,39.0,27.0,23.0,43.0,19.0,30.0,52.0,35.0,16.0,21.0,45.0,22.0,null,0.0,63.0,56.0,40.0,1.0,24.0,36.0,13.0,13.0,37.0,44.0,32.0,57.0,26.0,62.0,2.0,1.0,24.0,1.0,63.0,20.0,15.0,32.0,24.0,32.0,36.0,13.0,29.0,27.0,30.0,27.0,14.0,32.0,33.0,35.0,21.0,57.0,42.0,20.0,18.0,49.0,23.0,24.0,24.0,23.0,24.0,26.0,28.0,17.0,20.0,22.0,23.0,22.0,29.0,null,31.0,37.0,44.0,34.0,23.0,18.0,18.0,23.0,18.0,22.0,10.0,null,31.0,48.0,51.0,25.0,32.0,8.0,49.0,28.0,3.0,null,31.0,11.0,27.0,33.0,32.0,20.0,33.0,65.0,18.0,19.0,33.0,null,31.0,37.0,19.0,18.0,47.0,26.0,25.0,38.0,53.0,38.0,28.0,46.0,18.0,14.0,32.0,44.0,28.0,2.0,28.0,27.0,29.0,14.0,14.0,17.0,35.0,36.0,51.0,54.0,37.0,37.0,24.0,null,38.0,28.0,0.0,16.0,25.0,22.0,24.0,37.0,21.0,53.0,0.0,2.0,64.0,24.0,40.0,32.0,54.0,30.0,37.0,20.0,22.0,57.0,34.0,51.0,47.0,22.0,36.0,16.0,60.0,39.0,18.0,30.0,45.0,30.0,21.0,0.0,51.0,22.0,26.0,10.0,21.0,14.0,null,43.0,22.0,22.0,23.0,25.0,35.0,30.0,37.0,21.0,36.0,13.0,22.0,36.0,17.0,38.0,34.0,20.0,17.0,36.0,52.0,32.0,35.0,null,36.0,36.0,21.0,33.0,40.0,24.0,35.0,29.0,33.0,51.0,10.0,41.0,26.0,39.0,14.0,28.0,18.0,41.0,33.0,26.0,31.0,63.0,30.0,27.0,47.0,37.0,14.0,27.0,61.0,39.0,22.0,30.0,26.0,25.0,42.0,33.0,60.0,16.0,50.0,22.0,15.0,27.0,58.0,48.0,36.0,60.0,46.0,58.0,40.0,3.0,23.0,21.0,29.0,23.0,41.0,20.0,24.0,21.0,55.0,21.0,42.0,40.0,30.0,26.0,43.0,20.0,19.0,40.0,17.0,62.0,32.0,37.0,40.0,25.0,17.0,46.0,38.0,43.0,28.0,31.0,35.0,19.0,24.0,20.0,16.0,45.0,19.0,23.0,19.0,32.0,41.0,30.0,41.0,7.0,39.0,47.0,21.0,29.0,19.0,50.0,28.0,38.0,24.0,31.0,38.0,26.0,28.0,45.0,47.0,60.0,42.0,43.0,17.0,17.0,20.0,18.0,24.0,25.0,20.0,23.0,48.0,26.0,36.0,27.0,41.0,21.0,71.0,64.0,33.0,24.0,35.0,13.0,11.0,null,43.0,36.0,22.0,56.0,34.0,46.0,43.0,25.0,26.0,14.0,63.0,29.0,45.0,15.0,19.0,53.0,45.0,41.0,68.0,5.0,27.0,20.0,54.0,18.0,45.0,26.0,37.0,30.0,51.0,3.0,3.0,19.0,19.0,6.0,4.0,23.0,37.0,18.0,29.0,25.0,52.0,24.0,0.0,25.0,26.0,32.0,58.0,44.0,41.0,24.0,41.0,23.0,27.0,61.0,18.0,18.0,null,15.0,12.0,40.0,19.0,18.0,48.0,37.0,35.0,29.0,54.0,null,22.0,18.0,26.0,19.0,22.0,17.0,18.0,39.0,37.0,17.0,25.0,9.0,15.0,19.0,18.0,50.0,14.0,19.0,33.0,23.0,39.0,14.0,14.0,45.0,22.0,36.0,19.0,59.0,31.0,31.0,39.0,28.0,19.0,29.0,0.0,15.0,18.0,49.0,36.0,40.0,56.0,67.0,44.0,17.0,27.0,23.0,28.0,54.0,26.0,40.0,39.0,40.0,20.0,18.0,17.0,35.0,31.0,40.0,50.0,21.0,29.0,63.0,19.0,36.0,48.0,33.0,28.0,39.0,27.0,58.0,44.0,23.0,21.0,53.0,14.0,17.0,25.0,44.0,24.0,24.0,24.0,0.0,7.0,3.0,18.0,4.0,40.0,16.0,25.0,10.0,40.0,19.0,15.0,24.0,21.0,29.0,37.0,49.0,42.0,54.0,33.0,27.0,53.0,28.0,24.0,20.0,0.0,24.0,28.0,42.0,32.0,36.0,40.0,30.0,34.0,37.0,41.0,25.0,39.0,0.0,54.0,16.0,0.0,13.0,46.0,23.0,18.0,27.0,24.0,27.0,24.0,25.0,30.0,19.0,18.0,49.0,64.0,26.0,53.0,27.0,27.0,25.0,33.0,27.0,20.0,39.0,27.0,19.0,22.0,3.0,24.0,41.0,18.0,63.0,19.0,39.0,null,41.0,44.0,39.0,29.0,37.0,41.0,18.0,null,55.0,21.0,28.0,43.0,32.0,23.0,5.0,14.0,24.0,22.0,14.0,20.0,17.0,20.0,22.0,15.0,67.0,28.0,57.0,21.0,34.0,17.0,33.0,33.0,28.0,18.0,28.0,13.0,38.0,39.0,18.0,43.0,32.0,29.0,45.0,25.0,64.0,18.0,44.0,15.0,21.0,33.0,3.0,19.0,37.0,24.0,26.0,26.0,26.0,22.0,26.0,27.0,27.0,37.0,22.0,24.0,23.0,18.0,28.0,4.0,23.0,2.0,46.0,0.0,16.0,19.0,34.0,34.0,24.0,28.0,44.0,35.0,20.0,18.0,43.0,48.0,46.0,75.0,24.0,34.0,29.0,46.0,22.0,42.0,46.0,15.0,42.0,31.0,9.0,34.0,21.0,16.0,40.0,23.0,6.0,17.0,37.0,30.0,32.0,41.0,43.0,17.0,37.0,18.0,1.0,38.0,25.0,6.0,1.0,7.0,24.0,19.0,26.0,49.0,18.0,25.0,46.0,33.0,10.0,38.0,23.0,26.0,16.0,29.0,35.0,58.0,17.0,16.0,2.0,13.0,18.0,29.0,21.0,43.0,69.0,40.0,1.0,36.0,60.0,17.0,49.0,23.0,39.0,53.0,26.0,31.0,48.0,26.0,25.0,25.0,30.0,null,23.0,24.0,47.0,37.0,24.0,21.0,42.0,39.0,28.0,32.0,31.0,13.0,41.0,21.0,null,9.0,36.0,30.0,27.0,40.0,41.0,16.0,36.0,15.0,39.0,21.0,24.0,28.0,47.0,55.0,null,22.0,26.0,62.0,53.0,29.0,21.0,18.0,34.0,19.0,14.0,21.0,55.0,18.0,33.0,35.0,31.0,27.0,null,13.0,24.0,22.0,32.0,18.0,53.0,4.0,24.0,23.0,1.0,18.0,21.0,40.0,49.0,25.0,21.0,40.0,47.0,25.0,36.0,39.0,26.0,0.0,14.0,7.0,50.0,22.0,17.0,35.0,22.0,26.0,24.0,59.0,24.0,17.0,28.0,38.0,2.0,36.0,32.0,15.0,54.0,18.0,22.0,23.0,14.0,26.0,73.0,29.0,29.0,12.0,27.0,31.0,26.0,35.0,25.0,40.0,18.0,52.0,35.0,51.0,35.0,14.0,null,26.0,21.0,45.0,29.0,39.0,37.0,22.0,22.0,30.0,1.0,0.0,9.0,18.0,29.0,52.0,27.0,54.0,28.0,65.0,26.0,29.0,20.0,39.0,37.0,20.0,40.0,0.0,33.0,23.0,32.0,20.0,60.0,53.0,26.0,35.0,19.0,43.0,29.0,20.0,19.0,21.0,39.0,12.0,20.0,18.0,31.0,35.0,44.0,62.0,23.0,23.0,19.0,29.0,31.0,33.0,41.0,60.0,41.0,69.0,44.0,18.0,26.0,30.0,34.0,18.0,49.0,71.0,19.0,23.0,31.0,40.0,28.0,17.0,24.0,54.0,21.0,2.0,20.0,20.0,36.0,25.0,58.0,37.0,26.0,45.0,44.0,24.0,13.0,4.0,24.0,27.0,39.0,23.0,4.0,0.0,22.0,27.0,22.0,26.0,60.0,18.0,20.0,25.0,24.0,38.0,18.0,45.0,13.0,28.0,5.0,20.0,2.0,42.0,0.0,18.0,26.0,3.0,49.0,19.0,19.0,15.0,53.0,0.0,39.0,45.0,10.0,1.0,9.0,40.0,26.0,18.0,47.0,31.0,null,23.0,32.0,32.0,21.0,null,22.0,18.0,28.0,38.0,46.0,44.0,38.0,28.0,31.0,18.0,18.0,4.0,0.0,0.0,23.0,35.0,43.0,18.0,18.0,18.0,49.0,19.0,22.0,4.0,0.0,null,39.0,36.0,53.0,23.0,24.0,25.0,30.0,20.0,40.0,18.0,57.0,47.0,26.0,29.0,32.0,30.0,18.0,49.0,33.0,18.0,29.0,34.0,43.0,18.0,31.0,15.0,3.0,37.0,1.0,27.0,15.0,33.0,65.0,19.0,30.0,37.0,15.0,19.0,20.0,19.0,21.0,20.0,18.0,27.0,23.0,25.0,72.0,35.0,29.0,11.0,7.0,null,28.0,41.0,null,19.0,8.0,4.0,38.0,21.0,18.0,10.0,29.0,25.0,40.0,19.0,38.0,19.0,0.0,4.0,29.0,46.0,32.0,26.0,23.0,32.0,31.0,34.0,45.0,61.0,21.0,null,15.0,14.0,18.0,39.0,62.0,40.0,21.0,12.0,27.0,28.0,0.0,17.0,23.0,6.0,29.0,41.0,27.0,34.0,36.0,30.0,30.0,29.0,21.0,21.0,18.0,11.0,65.0,25.0,0.0,24.0,19.0,23.0,45.0,52.0,55.0,24.0,31.0,18.0,22.0,39.0,19.0,33.0,14.0,30.0,30.0,21.0,45.0,17.0,39.0,22.0,37.0,48.0,33.0,37.0,27.0,29.0,38.0,16.0,18.0,null,47.0,15.0,13.0,19.0,17.0,31.0,19.0,25.0,26.0,25.0,2.0,7.0,2.0,19.0,1.0,4.0,49.0,61.0,57.0,52.0,22.0,37.0,15.0,28.0,40.0,13.0,24.0,25.0,25.0,43.0,46.0,3.0,3.0,3.0,8.0,57.0,11.0,20.0,27.0,20.0,14.0,24.0,21.0,33.0,32.0,22.0,15.0,41.0,31.0,35.0,48.0,15.0,37.0,21.0,34.0,19.0,52.0,15.0,24.0,45.0,13.0,18.0,19.0,20.0,20.0,27.0,22.0,17.0,23.0,29.0,24.0,26.0,36.0,25.0,36.0,32.0,16.0,32.0,48.0,25.0,46.0,32.0,50.0,31.0,27.0,52.0,34.0,40.0,36.0,19.0,33.0,23.0,57.0,24.0,19.0,54.0,28.0,26.0,43.0,39.0,21.0,24.0,35.0,61.0,21.0,14.0,38.0,23.0,31.0,66.0,56.0,21.0,49.0,21.0,27.0,23.0,27.0,49.0,38.0,60.0,47.0,29.0,19.0,32.0,22.0,35.0,28.0,22.0,42.0,37.0,31.0,33.0,48.0,31.0,18.0,44.0,22.0,18.0,48.0,2.0,0.0,43.0,51.0,48.0,51.0,20.0,41.0,27.0,56.0,26.0,21.0,null,23.0,28.0,40.0,39.0,16.0,20.0,24.0,45.0,33.0,19.0,15.0,18.0,21.0,37.0,53.0,19.0,17.0,58.0,18.0,25.0,39.0,40.0,27.0,3.0,18.0,18.0,29.0,22.0,34.0,19.0,26.0,33.0,34.0,18.0,40.0,53.0,8.0,54.0,29.0,56.0,21.0,25.0,33.0,22.0,50.0,24.0,25.0,59.0,26.0,19.0,37.0,22.0,44.0,25.0,23.0,6.0,39.0,26.0,14.0,3.0,21.0,24.0,18.0,37.0,21.0,67.0,28.0,13.0,26.0,33.0,18.0,24.0,26.0,21.0,27.0,15.0,24.0,31.0,10.0,23.0,50.0,13.0,43.0,20.0,21.0,18.0,16.0,47.0,35.0,15.0,46.0,6.0,26.0,49.0,28.0,37.0,17.0,38.0,18.0,55.0,28.0,25.0,17.0,22.0,4.0,3.0,21.0,24.0,50.0,3.0,19.0,22.0,20.0,18.0,27.0,29.0,23.0,48.0,32.0,55.0,49.0,15.0,50.0,35.0,29.0,38.0,29.0,39.0,49.0,39.0,19.0,19.0,14.0,40.0,40.0,20.0,6.0,41.0,37.0,31.0,8.0,55.0,16.0,29.0,40.0,27.0,21.0,25.0,44.0,34.0,1.0,1.0,42.0,18.0,21.0,24.0,null,18.0,27.0,13.0,10.0,8.0,40.0,35.0,13.0,19.0,44.0,36.0,29.0,28.0,36.0,24.0,14.0,50.0,20.0,38.0,33.0,54.0,20.0,23.0,65.0,51.0,36.0,38.0,28.0,32.0,55.0,23.0,38.0,18.0,32.0,44.0,62.0,66.0,20.0,19.0,null,25.0,20.0,18.0,20.0,14.0,49.0,49.0,19.0,53.0,31.0,18.0,24.0,35.0,27.0,38.0,23.0,22.0,38.0,28.0,25.0,45.0,22.0,30.0,25.0,24.0,44.0,6.0,0.0,14.0,37.0,15.0,0.0,17.0,58.0,15.0,53.0,29.0,24.0,40.0,21.0,30.0,20.0,20.0,18.0,36.0,20.0,4.0,59.0,20.0,4.0,23.0,25.0,20.0,22.0,6.0,14.0,0.0,4.0,37.0,14.0,34.0,3.0,18.0,27.0,19.0,37.0,29.0,37.0,32.0,22.0,38.0,24.0,63.0,23.0,41.0,20.0,48.0,44.0,15.0,29.0,64.0,19.0,28.0,44.0,13.0,45.0,25.0,19.0,29.0,21.0,13.0,25.0,46.0,37.0,19.0,29.0,21.0,13.0,15.0,42.0,null,26.0,19.0,18.0,50.0,28.0,24.0,31.0,19.0,20.0,23.0,19.0,27.0,16.0,76.0,41.0,24.0,12.0,28.0,36.0,20.0,7.0,21.0,33.0,32.0,34.0,38.0,null,28.0,25.0,24.0,18.0,24.0,30.0,38.0,39.0,31.0,33.0,15.0,23.0,24.0,44.0,22.0,28.0,34.0,8.0,26.0,29.0,58.0,4.0,1.0,17.0,27.0,24.0,16.0,28.0,23.0,33.0,24.0,6.0,19.0,31.0,19.0,18.0,35.0,32.0,19.0,24.0,33.0,20.0,27.0,26.0,28.0,19.0,24.0,52.0,23.0,23.0,25.0,22.0,35.0,24.0,24.0,26.0,37.0,14.0,36.0,0.0,17.0,18.0,43.0,21.0,34.0,57.0,18.0,73.0,31.0,25.0,20.0,24.0,null,21.0,22.0,39.0,26.0,32.0,1.0,7.0,4.0,21.0,12.0,28.0,0.0,18.0,52.0,18.0,51.0,21.0,28.0,34.0,13.0,35.0,27.0,35.0,51.0,53.0,29.0,41.0,47.0,22.0,19.0,22.0,25.0,null,17.0,0.0,5.0,30.0,17.0,53.0,9.0,17.0,16.0,29.0,29.0,46.0,27.0,39.0,15.0,30.0,41.0,47.0,32.0,15.0,23.0,20.0,33.0,18.0,31.0,25.0,19.0,32.0,45.0,43.0,21.0,48.0,0.0,29.0,41.0,23.0,48.0,18.0,30.0,26.0,18.0,27.0,58.0,22.0,17.0,28.0,27.0,51.0,37.0,14.0,43.0,27.0,60.0,33.0,39.0,21.0,21.0,28.0,30.0,42.0,25.0,25.0,25.0,54.0,41.0,36.0,33.0,36.0,55.0,16.0,28.0,26.0,42.0,30.0,31.0,22.0,26.0,25.0,44.0,29.0,22.0,23.0,30.0,23.0,13.0,53.0,0.0,27.0,27.0,10.0,2.0,5.0,24.0,32.0,22.0,22.0,44.0,55.0,22.0,8.0,15.0,1.0,9.0,48.0,16.0,27.0,3.0,25.0,70.0,30.0,57.0,42.0,14.0,43.0,34.0,21.0,32.0,21.0,25.0,25.0,38.0,36.0,44.0,37.0,47.0,38.0,28.0,38.0,53.0,26.0,13.0,64.0,16.0,13.0,55.0,26.0,23.0,55.0,50.0,26.0,36.0,33.0,21.0,41.0,33.0,23.0,31.0,28.0,13.0,null,35.0,25.0,19.0,56.0,18.0,22.0,34.0,11.0,37.0,22.0,45.0,19.0,39.0,28.0,36.0,1.0,10.0,12.0,31.0,12.0,3.0,30.0,41.0,19.0,38.0,36.0,0.0,20.0,23.0,35.0,36.0,41.0,38.0,33.0,54.0,33.0,54.0,32.0,24.0,53.0,26.0,31.0,18.0,39.0,37.0,35.0,34.0,28.0,43.0,2.0,24.0,18.0,21.0,24.0,35.0,53.0,32.0,44.0,33.0,40.0,31.0,23.0,44.0,41.0,31.0,30.0,33.0,30.0,26.0,22.0,37.0,15.0,52.0,35.0,40.0,60.0,24.0,31.0,43.0,9.0,51.0,25.0,20.0,22.0,21.0,50.0,24.0,45.0,22.0,7.0,11.0,1.0,0.0,8.0,36.0,2.0,0.0,22.0,41.0,49.0,30.0,37.0,14.0,30.0,62.0,13.0,32.0,33.0,38.0,29.0,25.0,26.0,19.0,16.0,61.0,28.0,13.0,44.0,22.0,30.0,21.0,20.0,31.0,33.0,26.0,21.0,23.0,0.0,32.0,30.0,41.0,18.0,26.0,32.0,44.0],\"xaxis\":\"x\",\"yaxis\":\"y\",\"type\":\"histogram\"}],                        {\"template\":{\"data\":{\"histogram2dcontour\":[{\"type\":\"histogram2dcontour\",\"colorbar\":{\"outlinewidth\":0,\"ticks\":\"\"},\"colorscale\":[[0.0,\"#0d0887\"],[0.1111111111111111,\"#46039f\"],[0.2222222222222222,\"#7201a8\"],[0.3333333333333333,\"#9c179e\"],[0.4444444444444444,\"#bd3786\"],[0.5555555555555556,\"#d8576b\"],[0.6666666666666666,\"#ed7953\"],[0.7777777777777778,\"#fb9f3a\"],[0.8888888888888888,\"#fdca26\"],[1.0,\"#f0f921\"]]}],\"choropleth\":[{\"type\":\"choropleth\",\"colorbar\":{\"outlinewidth\":0,\"ticks\":\"\"}}],\"histogram2d\":[{\"type\":\"histogram2d\",\"colorbar\":{\"outlinewidth\":0,\"ticks\":\"\"},\"colorscale\":[[0.0,\"#0d0887\"],[0.1111111111111111,\"#46039f\"],[0.2222222222222222,\"#7201a8\"],[0.3333333333333333,\"#9c179e\"],[0.4444444444444444,\"#bd3786\"],[0.5555555555555556,\"#d8576b\"],[0.6666666666666666,\"#ed7953\"],[0.7777777777777778,\"#fb9f3a\"],[0.8888888888888888,\"#fdca26\"],[1.0,\"#f0f921\"]]}],\"heatmap\":[{\"type\":\"heatmap\",\"colorbar\":{\"outlinewidth\":0,\"ticks\":\"\"},\"colorscale\":[[0.0,\"#0d0887\"],[0.1111111111111111,\"#46039f\"],[0.2222222222222222,\"#7201a8\"],[0.3333333333333333,\"#9c179e\"],[0.4444444444444444,\"#bd3786\"],[0.5555555555555556,\"#d8576b\"],[0.6666666666666666,\"#ed7953\"],[0.7777777777777778,\"#fb9f3a\"],[0.8888888888888888,\"#fdca26\"],[1.0,\"#f0f921\"]]}],\"heatmapgl\":[{\"type\":\"heatmapgl\",\"colorbar\":{\"outlinewidth\":0,\"ticks\":\"\"},\"colorscale\":[[0.0,\"#0d0887\"],[0.1111111111111111,\"#46039f\"],[0.2222222222222222,\"#7201a8\"],[0.3333333333333333,\"#9c179e\"],[0.4444444444444444,\"#bd3786\"],[0.5555555555555556,\"#d8576b\"],[0.6666666666666666,\"#ed7953\"],[0.7777777777777778,\"#fb9f3a\"],[0.8888888888888888,\"#fdca26\"],[1.0,\"#f0f921\"]]}],\"contourcarpet\":[{\"type\":\"contourcarpet\",\"colorbar\":{\"outlinewidth\":0,\"ticks\":\"\"}}],\"contour\":[{\"type\":\"contour\",\"colorbar\":{\"outlinewidth\":0,\"ticks\":\"\"},\"colorscale\":[[0.0,\"#0d0887\"],[0.1111111111111111,\"#46039f\"],[0.2222222222222222,\"#7201a8\"],[0.3333333333333333,\"#9c179e\"],[0.4444444444444444,\"#bd3786\"],[0.5555555555555556,\"#d8576b\"],[0.6666666666666666,\"#ed7953\"],[0.7777777777777778,\"#fb9f3a\"],[0.8888888888888888,\"#fdca26\"],[1.0,\"#f0f921\"]]}],\"surface\":[{\"type\":\"surface\",\"colorbar\":{\"outlinewidth\":0,\"ticks\":\"\"},\"colorscale\":[[0.0,\"#0d0887\"],[0.1111111111111111,\"#46039f\"],[0.2222222222222222,\"#7201a8\"],[0.3333333333333333,\"#9c179e\"],[0.4444444444444444,\"#bd3786\"],[0.5555555555555556,\"#d8576b\"],[0.6666666666666666,\"#ed7953\"],[0.7777777777777778,\"#fb9f3a\"],[0.8888888888888888,\"#fdca26\"],[1.0,\"#f0f921\"]]}],\"mesh3d\":[{\"type\":\"mesh3d\",\"colorbar\":{\"outlinewidth\":0,\"ticks\":\"\"}}],\"scatter\":[{\"fillpattern\":{\"fillmode\":\"overlay\",\"size\":10,\"solidity\":0.2},\"type\":\"scatter\"}],\"parcoords\":[{\"type\":\"parcoords\",\"line\":{\"colorbar\":{\"outlinewidth\":0,\"ticks\":\"\"}}}],\"scatterpolargl\":[{\"type\":\"scatterpolargl\",\"marker\":{\"colorbar\":{\"outlinewidth\":0,\"ticks\":\"\"}}}],\"bar\":[{\"error_x\":{\"color\":\"#2a3f5f\"},\"error_y\":{\"color\":\"#2a3f5f\"},\"marker\":{\"line\":{\"color\":\"#E5ECF6\",\"width\":0.5},\"pattern\":{\"fillmode\":\"overlay\",\"size\":10,\"solidity\":0.2}},\"type\":\"bar\"}],\"scattergeo\":[{\"type\":\"scattergeo\",\"marker\":{\"colorbar\":{\"outlinewidth\":0,\"ticks\":\"\"}}}],\"scatterpolar\":[{\"type\":\"scatterpolar\",\"marker\":{\"colorbar\":{\"outlinewidth\":0,\"ticks\":\"\"}}}],\"histogram\":[{\"marker\":{\"pattern\":{\"fillmode\":\"overlay\",\"size\":10,\"solidity\":0.2}},\"type\":\"histogram\"}],\"scattergl\":[{\"type\":\"scattergl\",\"marker\":{\"colorbar\":{\"outlinewidth\":0,\"ticks\":\"\"}}}],\"scatter3d\":[{\"type\":\"scatter3d\",\"line\":{\"colorbar\":{\"outlinewidth\":0,\"ticks\":\"\"}},\"marker\":{\"colorbar\":{\"outlinewidth\":0,\"ticks\":\"\"}}}],\"scattermapbox\":[{\"type\":\"scattermapbox\",\"marker\":{\"colorbar\":{\"outlinewidth\":0,\"ticks\":\"\"}}}],\"scatterternary\":[{\"type\":\"scatterternary\",\"marker\":{\"colorbar\":{\"outlinewidth\":0,\"ticks\":\"\"}}}],\"scattercarpet\":[{\"type\":\"scattercarpet\",\"marker\":{\"colorbar\":{\"outlinewidth\":0,\"ticks\":\"\"}}}],\"carpet\":[{\"aaxis\":{\"endlinecolor\":\"#2a3f5f\",\"gridcolor\":\"white\",\"linecolor\":\"white\",\"minorgridcolor\":\"white\",\"startlinecolor\":\"#2a3f5f\"},\"baxis\":{\"endlinecolor\":\"#2a3f5f\",\"gridcolor\":\"white\",\"linecolor\":\"white\",\"minorgridcolor\":\"white\",\"startlinecolor\":\"#2a3f5f\"},\"type\":\"carpet\"}],\"table\":[{\"cells\":{\"fill\":{\"color\":\"#EBF0F8\"},\"line\":{\"color\":\"white\"}},\"header\":{\"fill\":{\"color\":\"#C8D4E3\"},\"line\":{\"color\":\"white\"}},\"type\":\"table\"}],\"barpolar\":[{\"marker\":{\"line\":{\"color\":\"#E5ECF6\",\"width\":0.5},\"pattern\":{\"fillmode\":\"overlay\",\"size\":10,\"solidity\":0.2}},\"type\":\"barpolar\"}],\"pie\":[{\"automargin\":true,\"type\":\"pie\"}]},\"layout\":{\"autotypenumbers\":\"strict\",\"colorway\":[\"#636efa\",\"#EF553B\",\"#00cc96\",\"#ab63fa\",\"#FFA15A\",\"#19d3f3\",\"#FF6692\",\"#B6E880\",\"#FF97FF\",\"#FECB52\"],\"font\":{\"color\":\"#2a3f5f\"},\"hovermode\":\"closest\",\"hoverlabel\":{\"align\":\"left\"},\"paper_bgcolor\":\"white\",\"plot_bgcolor\":\"#E5ECF6\",\"polar\":{\"bgcolor\":\"#E5ECF6\",\"angularaxis\":{\"gridcolor\":\"white\",\"linecolor\":\"white\",\"ticks\":\"\"},\"radialaxis\":{\"gridcolor\":\"white\",\"linecolor\":\"white\",\"ticks\":\"\"}},\"ternary\":{\"bgcolor\":\"#E5ECF6\",\"aaxis\":{\"gridcolor\":\"white\",\"linecolor\":\"white\",\"ticks\":\"\"},\"baxis\":{\"gridcolor\":\"white\",\"linecolor\":\"white\",\"ticks\":\"\"},\"caxis\":{\"gridcolor\":\"white\",\"linecolor\":\"white\",\"ticks\":\"\"}},\"coloraxis\":{\"colorbar\":{\"outlinewidth\":0,\"ticks\":\"\"}},\"colorscale\":{\"sequential\":[[0.0,\"#0d0887\"],[0.1111111111111111,\"#46039f\"],[0.2222222222222222,\"#7201a8\"],[0.3333333333333333,\"#9c179e\"],[0.4444444444444444,\"#bd3786\"],[0.5555555555555556,\"#d8576b\"],[0.6666666666666666,\"#ed7953\"],[0.7777777777777778,\"#fb9f3a\"],[0.8888888888888888,\"#fdca26\"],[1.0,\"#f0f921\"]],\"sequentialminus\":[[0.0,\"#0d0887\"],[0.1111111111111111,\"#46039f\"],[0.2222222222222222,\"#7201a8\"],[0.3333333333333333,\"#9c179e\"],[0.4444444444444444,\"#bd3786\"],[0.5555555555555556,\"#d8576b\"],[0.6666666666666666,\"#ed7953\"],[0.7777777777777778,\"#fb9f3a\"],[0.8888888888888888,\"#fdca26\"],[1.0,\"#f0f921\"]],\"diverging\":[[0,\"#8e0152\"],[0.1,\"#c51b7d\"],[0.2,\"#de77ae\"],[0.3,\"#f1b6da\"],[0.4,\"#fde0ef\"],[0.5,\"#f7f7f7\"],[0.6,\"#e6f5d0\"],[0.7,\"#b8e186\"],[0.8,\"#7fbc41\"],[0.9,\"#4d9221\"],[1,\"#276419\"]]},\"xaxis\":{\"gridcolor\":\"white\",\"linecolor\":\"white\",\"ticks\":\"\",\"title\":{\"standoff\":15},\"zerolinecolor\":\"white\",\"automargin\":true,\"zerolinewidth\":2},\"yaxis\":{\"gridcolor\":\"white\",\"linecolor\":\"white\",\"ticks\":\"\",\"title\":{\"standoff\":15},\"zerolinecolor\":\"white\",\"automargin\":true,\"zerolinewidth\":2},\"scene\":{\"xaxis\":{\"backgroundcolor\":\"#E5ECF6\",\"gridcolor\":\"white\",\"linecolor\":\"white\",\"showbackground\":true,\"ticks\":\"\",\"zerolinecolor\":\"white\",\"gridwidth\":2},\"yaxis\":{\"backgroundcolor\":\"#E5ECF6\",\"gridcolor\":\"white\",\"linecolor\":\"white\",\"showbackground\":true,\"ticks\":\"\",\"zerolinecolor\":\"white\",\"gridwidth\":2},\"zaxis\":{\"backgroundcolor\":\"#E5ECF6\",\"gridcolor\":\"white\",\"linecolor\":\"white\",\"showbackground\":true,\"ticks\":\"\",\"zerolinecolor\":\"white\",\"gridwidth\":2}},\"shapedefaults\":{\"line\":{\"color\":\"#2a3f5f\"}},\"annotationdefaults\":{\"arrowcolor\":\"#2a3f5f\",\"arrowhead\":0,\"arrowwidth\":1},\"geo\":{\"bgcolor\":\"white\",\"landcolor\":\"#E5ECF6\",\"subunitcolor\":\"white\",\"showland\":true,\"showlakes\":true,\"lakecolor\":\"white\"},\"title\":{\"x\":0.05},\"mapbox\":{\"style\":\"light\"}}},\"xaxis\":{\"anchor\":\"y\",\"domain\":[0.0,1.0],\"title\":{\"text\":\"Age\"}},\"yaxis\":{\"anchor\":\"x\",\"domain\":[0.0,1.0],\"title\":{\"text\":\"Frequency\"}},\"legend\":{\"tracegroupgap\":0},\"margin\":{\"t\":60},\"barmode\":\"relative\",\"title\":{\"text\":\"Histogram of Age\"}},                        {\"responsive\": true}                    ).then(function(){\n",
       "                            \n",
       "var gd = document.getElementById('ae533dc4-f7e9-4b21-9b9c-6dffbefb9393');\n",
       "var x = new MutationObserver(function (mutations, observer) {{\n",
       "        var display = window.getComputedStyle(gd).display;\n",
       "        if (!display || display === 'none') {{\n",
       "            console.log([gd, 'removed!']);\n",
       "            Plotly.purge(gd);\n",
       "            observer.disconnect();\n",
       "        }}\n",
       "}});\n",
       "\n",
       "// Listen for the removal of the full notebook cells\n",
       "var notebookContainer = gd.closest('#notebook-container');\n",
       "if (notebookContainer) {{\n",
       "    x.observe(notebookContainer, {childList: true});\n",
       "}}\n",
       "\n",
       "// Listen for the clearing of the current output cell\n",
       "var outputEl = gd.closest('.output');\n",
       "if (outputEl) {{\n",
       "    x.observe(outputEl, {childList: true});\n",
       "}}\n",
       "\n",
       "                        })                };                            </script>        </div>\n",
       "</body>\n",
       "</html>"
      ]
     },
     "metadata": {},
     "output_type": "display_data"
    },
    {
     "data": {
      "text/html": [
       "<html>\n",
       "<head><meta charset=\"utf-8\" /></head>\n",
       "<body>\n",
       "    <div>            <script src=\"https://cdnjs.cloudflare.com/ajax/libs/mathjax/2.7.5/MathJax.js?config=TeX-AMS-MML_SVG\"></script><script type=\"text/javascript\">if (window.MathJax && window.MathJax.Hub && window.MathJax.Hub.Config) {window.MathJax.Hub.Config({SVG: {font: \"STIX-Web\"}});}</script>                <script type=\"text/javascript\">window.PlotlyConfig = {MathJaxConfig: 'local'};</script>\n",
       "        <script charset=\"utf-8\" src=\"https://cdn.plot.ly/plotly-2.35.2.min.js\"></script>                <div id=\"0f62bdf6-5523-4168-b2bd-207e2332510c\" class=\"plotly-graph-div\" style=\"height:525px; width:100%;\"></div>            <script type=\"text/javascript\">                                    window.PLOTLYENV=window.PLOTLYENV || {};                                    if (document.getElementById(\"0f62bdf6-5523-4168-b2bd-207e2332510c\")) {                    Plotly.newPlot(                        \"0f62bdf6-5523-4168-b2bd-207e2332510c\",                        [{\"alignmentgroup\":\"True\",\"bingroup\":\"x\",\"hovertemplate\":\"RoomService=%{x}\\u003cbr\\u003ecount=%{y}\\u003cextra\\u003e\\u003c\\u002fextra\\u003e\",\"legendgroup\":\"\",\"marker\":{\"color\":\"#636efa\",\"pattern\":{\"shape\":\"\"}},\"name\":\"\",\"nbinsx\":30,\"offsetgroup\":\"\",\"orientation\":\"v\",\"showlegend\":false,\"x\":[0.0,109.0,43.0,0.0,303.0,0.0,42.0,0.0,0.0,0.0,0.0,39.0,73.0,719.0,8.0,32.0,1286.0,0.0,0.0,0.0,412.0,0.0,0.0,0.0,0.0,null,0.0,980.0,0.0,0.0,22.0,1125.0,0.0,214.0,0.0,null,0.0,784.0,0.0,554.0,0.0,0.0,0.0,0.0,0.0,0.0,970.0,0.0,790.0,0.0,4.0,0.0,0.0,0.0,279.0,0.0,45.0,0.0,0.0,0.0,1.0,0.0,1.0,1946.0,793.0,887.0,190.0,16.0,0.0,46.0,1.0,147.0,14.0,0.0,0.0,7406.0,0.0,0.0,688.0,0.0,211.0,0.0,0.0,null,1.0,0.0,0.0,0.0,0.0,0.0,0.0,311.0,0.0,0.0,0.0,0.0,0.0,0.0,0.0,1743.0,0.0,562.0,0.0,0.0,0.0,2209.0,0.0,0.0,0.0,0.0,82.0,0.0,1.0,0.0,0.0,0.0,0.0,55.0,0.0,701.0,2353.0,2103.0,0.0,0.0,2738.0,0.0,97.0,0.0,0.0,0.0,0.0,440.0,null,0.0,0.0,0.0,1072.0,0.0,0.0,0.0,4119.0,0.0,0.0,50.0,0.0,0.0,0.0,1365.0,0.0,0.0,0.0,0.0,0.0,287.0,0.0,3414.0,1.0,0.0,0.0,0.0,0.0,17.0,62.0,0.0,84.0,0.0,0.0,0.0,0.0,0.0,null,0.0,406.0,1052.0,0.0,0.0,0.0,0.0,0.0,0.0,0.0,0.0,0.0,0.0,2.0,0.0,0.0,902.0,0.0,848.0,192.0,147.0,367.0,0.0,1517.0,0.0,0.0,0.0,0.0,122.0,0.0,0.0,0.0,2237.0,1215.0,1933.0,0.0,1230.0,915.0,0.0,1406.0,0.0,0.0,0.0,181.0,0.0,4.0,85.0,0.0,56.0,null,0.0,637.0,0.0,0.0,313.0,0.0,0.0,0.0,0.0,0.0,2947.0,0.0,null,0.0,335.0,272.0,702.0,0.0,1664.0,0.0,0.0,0.0,66.0,0.0,0.0,118.0,0.0,0.0,0.0,44.0,0.0,0.0,0.0,0.0,0.0,146.0,0.0,0.0,3.0,0.0,0.0,0.0,0.0,0.0,0.0,0.0,0.0,0.0,0.0,90.0,0.0,0.0,0.0,0.0,0.0,0.0,368.0,0.0,1194.0,null,7.0,0.0,331.0,0.0,386.0,0.0,0.0,0.0,0.0,0.0,1018.0,0.0,0.0,0.0,17.0,0.0,247.0,443.0,0.0,0.0,5715.0,695.0,0.0,417.0,0.0,0.0,0.0,0.0,121.0,0.0,0.0,434.0,142.0,520.0,0.0,2001.0,0.0,0.0,null,0.0,0.0,148.0,358.0,0.0,0.0,2832.0,0.0,0.0,0.0,0.0,0.0,0.0,0.0,116.0,0.0,17.0,0.0,5649.0,0.0,0.0,0.0,0.0,198.0,0.0,0.0,0.0,348.0,82.0,0.0,0.0,3.0,13.0,0.0,0.0,391.0,69.0,0.0,0.0,1.0,0.0,0.0,28.0,1056.0,1770.0,0.0,353.0,177.0,null,0.0,0.0,1134.0,0.0,0.0,691.0,0.0,0.0,0.0,0.0,0.0,0.0,8.0,1094.0,0.0,0.0,417.0,0.0,2.0,0.0,0.0,0.0,1483.0,0.0,4.0,0.0,0.0,0.0,46.0,382.0,7.0,null,null,0.0,7.0,2484.0,1869.0,1352.0,0.0,0.0,9.0,757.0,0.0,0.0,0.0,0.0,0.0,0.0,5.0,0.0,0.0,210.0,0.0,0.0,0.0,0.0,2156.0,0.0,0.0,0.0,0.0,0.0,865.0,928.0,4.0,0.0,0.0,0.0,0.0,0.0,0.0,0.0,0.0,0.0,0.0,null,0.0,0.0,0.0,null,0.0,0.0,0.0,0.0,172.0,0.0,0.0,0.0,0.0,0.0,0.0,513.0,0.0,10.0,0.0,1821.0,1246.0,0.0,0.0,0.0,0.0,0.0,0.0,0.0,0.0,0.0,0.0,0.0,0.0,0.0,113.0,1445.0,0.0,0.0,62.0,39.0,0.0,553.0,0.0,1172.0,0.0,0.0,0.0,0.0,0.0,20.0,98.0,3573.0,0.0,0.0,0.0,0.0,0.0,0.0,0.0,0.0,1471.0,9.0,59.0,930.0,0.0,0.0,666.0,0.0,13.0,126.0,0.0,0.0,0.0,0.0,0.0,0.0,0.0,0.0,0.0,1440.0,0.0,840.0,0.0,0.0,0.0,697.0,0.0,0.0,1908.0,0.0,0.0,530.0,0.0,0.0,0.0,0.0,0.0,0.0,0.0,1911.0,14.0,0.0,0.0,0.0,53.0,null,0.0,0.0,0.0,0.0,0.0,0.0,0.0,0.0,2648.0,0.0,5.0,0.0,234.0,801.0,0.0,43.0,0.0,null,21.0,0.0,0.0,0.0,0.0,0.0,1252.0,0.0,0.0,0.0,0.0,0.0,0.0,27.0,434.0,4.0,0.0,149.0,0.0,0.0,0.0,0.0,0.0,0.0,0.0,0.0,1.0,0.0,0.0,0.0,103.0,0.0,0.0,0.0,629.0,0.0,0.0,614.0,0.0,0.0,0.0,0.0,0.0,2.0,0.0,0.0,0.0,0.0,0.0,1019.0,0.0,1724.0,0.0,0.0,0.0,105.0,0.0,0.0,237.0,0.0,0.0,0.0,0.0,0.0,0.0,0.0,86.0,0.0,null,1264.0,0.0,0.0,0.0,1.0,0.0,0.0,0.0,null,0.0,0.0,0.0,0.0,269.0,0.0,0.0,0.0,1.0,0.0,3887.0,3097.0,1973.0,0.0,0.0,164.0,505.0,0.0,0.0,0.0,0.0,21.0,0.0,2698.0,0.0,121.0,0.0,0.0,0.0,0.0,0.0,0.0,0.0,1695.0,457.0,0.0,1577.0,0.0,0.0,0.0,0.0,0.0,0.0,0.0,0.0,521.0,0.0,0.0,0.0,139.0,0.0,7.0,0.0,0.0,712.0,0.0,0.0,0.0,76.0,0.0,3594.0,0.0,0.0,15.0,0.0,19.0,0.0,0.0,0.0,47.0,0.0,1.0,0.0,0.0,0.0,1248.0,755.0,0.0,29.0,0.0,0.0,0.0,0.0,0.0,0.0,0.0,0.0,0.0,0.0,0.0,0.0,0.0,558.0,0.0,0.0,562.0,14.0,0.0,0.0,713.0,0.0,0.0,797.0,0.0,0.0,0.0,0.0,0.0,0.0,0.0,0.0,0.0,0.0,0.0,0.0,0.0,0.0,0.0,183.0,0.0,159.0,0.0,1227.0,836.0,0.0,1209.0,0.0,0.0,0.0,2.0,0.0,0.0,0.0,0.0,0.0,751.0,0.0,0.0,0.0,815.0,0.0,174.0,786.0,324.0,15.0,14.0,0.0,0.0,77.0,494.0,0.0,663.0,2651.0,0.0,0.0,0.0,0.0,0.0,0.0,217.0,0.0,0.0,34.0,0.0,0.0,0.0,0.0,0.0,2.0,0.0,280.0,112.0,2.0,null,0.0,0.0,12.0,0.0,381.0,784.0,3103.0,875.0,0.0,0.0,0.0,1.0,172.0,0.0,0.0,0.0,0.0,47.0,200.0,0.0,0.0,4.0,0.0,0.0,0.0,0.0,2492.0,853.0,0.0,0.0,157.0,47.0,18.0,0.0,0.0,0.0,0.0,0.0,13.0,379.0,0.0,0.0,0.0,0.0,0.0,0.0,646.0,0.0,0.0,0.0,14.0,0.0,0.0,174.0,0.0,0.0,0.0,55.0,0.0,594.0,891.0,0.0,72.0,0.0,0.0,0.0,877.0,0.0,null,0.0,0.0,3.0,0.0,0.0,0.0,631.0,1377.0,792.0,0.0,0.0,0.0,0.0,58.0,0.0,null,0.0,0.0,null,0.0,0.0,0.0,0.0,0.0,0.0,0.0,0.0,0.0,6.0,3.0,0.0,1.0,0.0,0.0,0.0,31.0,387.0,1192.0,8030.0,0.0,4301.0,252.0,0.0,621.0,0.0,253.0,0.0,885.0,0.0,0.0,1050.0,0.0,0.0,0.0,0.0,0.0,0.0,0.0,0.0,1633.0,0.0,0.0,0.0,0.0,0.0,0.0,0.0,1.0,0.0,48.0,187.0,0.0,0.0,0.0,759.0,null,0.0,1454.0,231.0,0.0,0.0,1081.0,756.0,0.0,0.0,0.0,4.0,0.0,0.0,521.0,0.0,0.0,0.0,0.0,507.0,0.0,0.0,0.0,0.0,2.0,null,182.0,0.0,0.0,0.0,0.0,0.0,null,0.0,0.0,0.0,0.0,0.0,0.0,415.0,0.0,0.0,0.0,0.0,79.0,638.0,202.0,694.0,0.0,0.0,556.0,0.0,0.0,0.0,0.0,0.0,0.0,0.0,0.0,0.0,0.0,0.0,1862.0,437.0,0.0,233.0,0.0,0.0,490.0,null,787.0,528.0,173.0,82.0,55.0,0.0,0.0,8.0,0.0,0.0,936.0,0.0,0.0,0.0,0.0,0.0,855.0,98.0,0.0,0.0,2.0,null,null,0.0,0.0,0.0,0.0,0.0,0.0,0.0,0.0,0.0,0.0,482.0,412.0,620.0,0.0,0.0,0.0,0.0,0.0,0.0,0.0,2386.0,0.0,0.0,0.0,0.0,0.0,null,29.0,0.0,0.0,0.0,0.0,131.0,0.0,0.0,0.0,0.0,0.0,0.0,0.0,0.0,636.0,0.0,0.0,0.0,0.0,0.0,2357.0,0.0,96.0,0.0,0.0,0.0,0.0,0.0,0.0,0.0,2997.0,60.0,null,0.0,0.0,0.0,0.0,0.0,0.0,0.0,0.0,204.0,0.0,0.0,600.0,0.0,0.0,2.0,0.0,42.0,0.0,0.0,71.0,null,0.0,393.0,0.0,0.0,0.0,0.0,1.0,0.0,0.0,0.0,0.0,0.0,0.0,65.0,0.0,0.0,0.0,0.0,0.0,0.0,2.0,0.0,142.0,0.0,354.0,0.0,0.0,0.0,0.0,0.0,27.0,614.0,0.0,0.0,585.0,889.0,0.0,0.0,8168.0,0.0,0.0,0.0,704.0,4.0,0.0,0.0,1277.0,0.0,0.0,0.0,1365.0,1084.0,0.0,0.0,2066.0,0.0,0.0,0.0,0.0,0.0,0.0,0.0,0.0,6.0,0.0,286.0,0.0,0.0,0.0,733.0,621.0,0.0,789.0,1758.0,0.0,105.0,213.0,0.0,0.0,null,68.0,0.0,1.0,218.0,0.0,0.0,0.0,0.0,0.0,0.0,0.0,0.0,0.0,0.0,278.0,0.0,0.0,0.0,0.0,0.0,948.0,1946.0,0.0,0.0,0.0,2508.0,0.0,0.0,0.0,0.0,0.0,0.0,70.0,0.0,1450.0,1507.0,0.0,405.0,120.0,0.0,28.0,0.0,0.0,0.0,775.0,0.0,0.0,1174.0,0.0,0.0,0.0,0.0,1489.0,491.0,0.0,0.0,43.0,0.0,1535.0,0.0,0.0,0.0,0.0,0.0,0.0,0.0,77.0,0.0,0.0,0.0,965.0,591.0,0.0,0.0,0.0,0.0,245.0,926.0,0.0,0.0,0.0,0.0,0.0,21.0,0.0,0.0,338.0,189.0,705.0,0.0,1088.0,0.0,0.0,0.0,1072.0,485.0,42.0,2058.0,0.0,386.0,0.0,0.0,0.0,0.0,0.0,0.0,1656.0,1.0,0.0,36.0,737.0,8.0,4.0,0.0,0.0,0.0,259.0,13.0,0.0,0.0,1381.0,0.0,328.0,891.0,0.0,0.0,0.0,0.0,2988.0,0.0,0.0,0.0,711.0,0.0,0.0,0.0,0.0,443.0,0.0,360.0,0.0,0.0,0.0,0.0,0.0,0.0,181.0,112.0,806.0,0.0,0.0,0.0,50.0,0.0,0.0,0.0,0.0,202.0,0.0,5.0,0.0,0.0,0.0,0.0,0.0,3.0,0.0,0.0,0.0,0.0,0.0,0.0,0.0,0.0,null,0.0,0.0,0.0,200.0,356.0,894.0,0.0,0.0,null,0.0,555.0,92.0,0.0,0.0,73.0,0.0,0.0,0.0,0.0,35.0,0.0,5.0,0.0,0.0,0.0,0.0,319.0,0.0,0.0,0.0,1890.0,1114.0,0.0,0.0,1.0,0.0,398.0,1240.0,1226.0,1006.0,0.0,0.0,65.0,765.0,0.0,0.0,0.0,0.0,0.0,539.0,4.0,0.0,0.0,3992.0,0.0,0.0,0.0,0.0,1015.0,0.0,54.0,1.0,0.0,0.0,12.0,7172.0,0.0,9.0,206.0,163.0,0.0,0.0,1.0,5022.0,0.0,0.0,0.0,877.0,0.0,1030.0,341.0,0.0,0.0,0.0,1018.0,0.0,0.0,758.0,4.0,938.0,641.0,0.0,0.0,333.0,0.0,428.0,0.0,0.0,433.0,null,0.0,0.0,0.0,0.0,0.0,305.0,16.0,5.0,0.0,0.0,0.0,0.0,0.0,0.0,22.0,0.0,0.0,0.0,0.0,2.0,13.0,1158.0,0.0,0.0,0.0,825.0,432.0,0.0,0.0,0.0,295.0,0.0,553.0,172.0,0.0,0.0,612.0,0.0,0.0,0.0,null,0.0,0.0,0.0,0.0,1215.0,0.0,0.0,0.0,0.0,1300.0,139.0,0.0,414.0,305.0,0.0,0.0,0.0,954.0,0.0,0.0,0.0,0.0,0.0,4.0,3202.0,0.0,1.0,0.0,1150.0,0.0,0.0,0.0,0.0,0.0,0.0,127.0,0.0,158.0,2.0,2436.0,0.0,1481.0,0.0,0.0,0.0,7.0,876.0,0.0,0.0,5.0,1.0,0.0,0.0,0.0,0.0,714.0,233.0,null,null,0.0,3482.0,0.0,324.0,0.0,0.0,0.0,0.0,0.0,0.0,1112.0,86.0,0.0,0.0,31.0,2210.0,1313.0,1744.0,0.0,1554.0,285.0,0.0,437.0,139.0,103.0,84.0,0.0,0.0,813.0,4.0,0.0,0.0,320.0,852.0,8.0,0.0,0.0,1279.0,553.0,21.0,68.0,0.0,1.0,1336.0,0.0,0.0,0.0,0.0,0.0,762.0,49.0,0.0,0.0,0.0,0.0,0.0,0.0,0.0,1006.0,0.0,0.0,26.0,587.0,742.0,145.0,2400.0,104.0,0.0,0.0,0.0,112.0,0.0,3677.0,2973.0,0.0,0.0,0.0,0.0,0.0,1220.0,0.0,0.0,0.0,0.0,164.0,0.0,0.0,596.0,28.0,0.0,0.0,28.0,27.0,0.0,0.0,1.0,5.0,0.0,0.0,0.0,0.0,0.0,0.0,0.0,0.0,0.0,0.0,0.0,0.0,4694.0,0.0,928.0,9.0,0.0,1891.0,0.0,112.0,0.0,null,2.0,143.0,null,0.0,0.0,0.0,1.0,0.0,0.0,0.0,0.0,0.0,140.0,17.0,1639.0,1104.0,2249.0,0.0,0.0,0.0,0.0,5.0,181.0,113.0,0.0,0.0,0.0,0.0,0.0,0.0,8.0,120.0,0.0,0.0,95.0,0.0,953.0,14.0,1752.0,0.0,0.0,0.0,0.0,0.0,0.0,0.0,0.0,0.0,0.0,0.0,0.0,0.0,28.0,0.0,0.0,470.0,2215.0,0.0,0.0,0.0,0.0,0.0,116.0,0.0,0.0,0.0,0.0,5.0,4.0,0.0,0.0,0.0,null,11.0,0.0,0.0,42.0,0.0,1465.0,0.0,null,1218.0,8.0,0.0,0.0,1744.0,0.0,0.0,34.0,731.0,0.0,0.0,0.0,0.0,0.0,2424.0,0.0,0.0,10.0,0.0,7.0,0.0,975.0,3037.0,120.0,717.0,0.0,0.0,0.0,942.0,0.0,382.0,0.0,2765.0,708.0,0.0,0.0,0.0,0.0,0.0,0.0,302.0,3.0,0.0,null,0.0,null,0.0,0.0,null,3.0,0.0,3702.0,0.0,0.0,15.0,0.0,1.0,0.0,0.0,0.0,0.0,0.0,401.0,0.0,1434.0,0.0,196.0,414.0,0.0,0.0,0.0,0.0,213.0,null,1062.0,0.0,231.0,12.0,37.0,373.0,5.0,673.0,3.0,null,0.0,0.0,0.0,0.0,0.0,0.0,0.0,0.0,1250.0,0.0,1139.0,0.0,0.0,0.0,0.0,44.0,0.0,0.0,0.0,30.0,662.0,0.0,0.0,399.0,6.0,0.0,0.0,null,0.0,null,0.0,0.0,0.0,2.0,162.0,281.0,0.0,0.0,0.0,0.0,0.0,0.0,0.0,0.0,16.0,0.0,0.0,2.0,1430.0,0.0,583.0,0.0,12.0,0.0,0.0,0.0,null,0.0,167.0,177.0,1289.0,9.0,270.0,430.0,8.0,0.0,121.0,19.0,0.0,0.0,51.0,0.0,0.0,0.0,51.0,null,8.0,356.0,29.0,546.0,6726.0,1751.0,2300.0,0.0,0.0,216.0,1624.0,0.0,10.0,0.0,63.0,776.0,0.0,0.0,1.0,235.0,0.0,600.0,860.0,0.0,0.0,0.0,0.0,0.0,0.0,0.0,0.0,0.0,770.0,0.0,717.0,721.0,624.0,736.0,0.0,0.0,1054.0,0.0,1146.0,75.0,426.0,2.0,0.0,0.0,0.0,0.0,0.0,0.0,0.0,0.0,0.0,0.0,0.0,0.0,1146.0,579.0,0.0,0.0,2138.0,0.0,78.0,651.0,0.0,0.0,0.0,0.0,0.0,0.0,0.0,38.0,0.0,212.0,388.0,2.0,0.0,0.0,0.0,0.0,437.0,1.0,46.0,607.0,938.0,0.0,0.0,0.0,0.0,1750.0,0.0,0.0,0.0,0.0,null,26.0,0.0,0.0,0.0,1443.0,0.0,1671.0,2019.0,0.0,0.0,0.0,546.0,1356.0,0.0,0.0,0.0,0.0,2.0,0.0,0.0,0.0,0.0,0.0,0.0,0.0,0.0,1172.0,48.0,2.0,0.0,0.0,9.0,0.0,0.0,0.0,552.0,21.0,0.0,2538.0,203.0,0.0,0.0,0.0,93.0,485.0,38.0,320.0,2.0,0.0,701.0,0.0,0.0,0.0,0.0,0.0,0.0,null,0.0,485.0,0.0,0.0,616.0,2318.0,0.0,0.0,171.0,0.0,0.0,0.0,0.0,0.0,0.0,241.0,26.0,0.0,0.0,20.0,0.0,0.0,262.0,0.0,12.0,20.0,0.0,3.0,426.0,0.0,0.0,0.0,270.0,174.0,0.0,0.0,1010.0,1508.0,1367.0,0.0,1377.0,0.0,0.0,0.0,0.0,0.0,0.0,1320.0,0.0,9.0,0.0,0.0,0.0,0.0,0.0,0.0,0.0,0.0,0.0,1365.0,0.0,0.0,0.0,0.0,128.0,0.0,0.0,0.0,0.0,0.0,0.0,556.0,0.0,0.0,1409.0,0.0,14.0,1290.0,0.0,0.0,0.0,613.0,0.0,0.0,0.0,0.0,1.0,null,0.0,0.0,27.0,880.0,773.0,0.0,0.0,0.0,0.0,0.0,0.0,2416.0,0.0,0.0,0.0,0.0,579.0,3.0,0.0,464.0,0.0,0.0,0.0,194.0,0.0,0.0,0.0,0.0,0.0,0.0,0.0,0.0,1773.0,null,0.0,0.0,768.0,0.0,712.0,0.0,854.0,0.0,0.0,854.0,0.0,0.0,7.0,0.0,0.0,828.0,0.0,0.0,292.0,0.0,0.0,19.0,0.0,0.0,0.0,9.0,11.0,0.0,0.0,0.0,34.0,0.0,0.0,0.0,112.0,0.0,0.0,0.0,4.0,759.0,0.0,227.0,0.0,0.0,1458.0,6.0,602.0,0.0,0.0,0.0,0.0,0.0,526.0,0.0,0.0,554.0,0.0,0.0,31.0,0.0,0.0,0.0,58.0,null,999.0,139.0,0.0,0.0,756.0,0.0,0.0,0.0,0.0,0.0,0.0,0.0,682.0,2594.0,552.0,584.0,4483.0,0.0,2.0,0.0,64.0,0.0,148.0,0.0,272.0,873.0,311.0,0.0,0.0,0.0,0.0,0.0,36.0,0.0,0.0,0.0,34.0,0.0,0.0,0.0,2.0,0.0,75.0,0.0,0.0,172.0,0.0,0.0,0.0,0.0,0.0,0.0,0.0,639.0,1734.0,0.0,737.0,0.0,0.0,0.0,0.0,0.0,345.0,0.0,834.0,0.0,41.0,0.0,548.0,0.0,0.0,852.0,1663.0,0.0,1281.0,0.0,238.0,0.0,0.0,0.0,0.0,0.0,0.0,0.0,0.0,0.0,403.0,0.0,0.0,0.0,882.0,0.0,194.0,0.0,2502.0,2.0,0.0,598.0,145.0,0.0,0.0,0.0,10.0,1153.0,19.0,496.0,26.0,98.0,0.0,4.0,0.0,0.0,0.0,0.0,0.0,0.0,406.0,0.0,9.0,0.0,803.0,1102.0,804.0,0.0,0.0,0.0,938.0,0.0,59.0,0.0,0.0,995.0,27.0,0.0,0.0,0.0,0.0,0.0,0.0,900.0,10.0,0.0,0.0,0.0,0.0,0.0,0.0,59.0,0.0,2000.0,492.0,0.0,0.0,0.0,232.0,0.0,0.0,0.0,91.0,0.0,0.0,0.0,1867.0,null,0.0,0.0,0.0,0.0,122.0,0.0,3.0,0.0,0.0,0.0,0.0,0.0,490.0,46.0,0.0,0.0,0.0,0.0,0.0,366.0,null,0.0,1.0,0.0,1722.0,0.0,0.0,0.0,1874.0,29.0,0.0,4.0,0.0,970.0,0.0,3551.0,0.0,0.0,0.0,880.0,2.0,0.0,886.0,0.0,13.0,339.0,0.0,0.0,0.0,11.0,0.0,0.0,947.0,1893.0,0.0,45.0,0.0,0.0,0.0,1178.0,0.0,1113.0,0.0,3.0,0.0,0.0,361.0,0.0,0.0,0.0,269.0,130.0,0.0,171.0,0.0,0.0,21.0,0.0,0.0,0.0,0.0,1200.0,0.0,0.0,0.0,0.0,0.0,0.0,0.0,0.0,0.0,0.0,1709.0,0.0,2381.0,1049.0,0.0,1.0,471.0,746.0,1511.0,758.0,0.0,143.0,600.0,0.0,0.0,0.0,0.0,0.0,911.0,0.0,253.0,null,0.0,0.0,0.0,0.0,625.0,254.0,91.0,0.0,1502.0,123.0,0.0,0.0,0.0,0.0,0.0,314.0,3.0,0.0,412.0,2301.0,null,14.0,0.0,0.0,2.0,0.0,null,0.0,13.0,0.0,0.0,0.0,0.0,3.0,0.0,0.0,0.0,784.0,10.0,0.0,0.0,0.0,6.0,0.0,3.0,0.0,1.0,18.0,0.0,948.0,0.0,0.0,0.0,0.0,0.0,0.0,803.0,0.0,0.0,237.0,0.0,0.0,165.0,77.0,0.0,0.0,0.0,0.0,0.0,0.0,0.0,0.0,0.0,0.0,1581.0,20.0,0.0,0.0,0.0,0.0,0.0,0.0,0.0,1.0,672.0,357.0,0.0,0.0,33.0,56.0,0.0,0.0,631.0,0.0,0.0,0.0,0.0,154.0,5.0,0.0,0.0,2904.0,520.0,0.0,71.0,819.0,0.0,0.0,0.0,0.0,0.0,2127.0,0.0,173.0,418.0,44.0,0.0,0.0,0.0,0.0,912.0,0.0,901.0,0.0,0.0,4.0,0.0,0.0,0.0,0.0,0.0,688.0,0.0,1.0,523.0,0.0,0.0,null,123.0,489.0,1.0,0.0,0.0,649.0,0.0,0.0,0.0,21.0,13.0,0.0,null,0.0,336.0,0.0,828.0,0.0,0.0,0.0,0.0,0.0,null,0.0,0.0,15.0,0.0,5.0,24.0,198.0,0.0,214.0,null,0.0,0.0,0.0,0.0,0.0,310.0,0.0,235.0,3.0,1822.0,1.0,null,0.0,1228.0,2050.0,0.0,2.0,0.0,221.0,740.0,0.0,0.0,0.0,0.0,0.0,0.0,0.0,5711.0,396.0,0.0,0.0,1252.0,173.0,0.0,0.0,0.0,0.0,736.0,0.0,0.0,0.0,0.0,0.0,0.0,23.0,0.0,0.0,1187.0,null,82.0,0.0,0.0,1644.0,0.0,517.0,608.0,0.0,0.0,0.0,0.0,2.0,45.0,0.0,0.0,0.0,0.0,728.0,0.0,0.0,0.0,0.0,479.0,0.0,0.0,506.0,1228.0,0.0,2616.0,0.0,577.0,0.0,0.0,995.0,0.0,1586.0,0.0,578.0,1086.0,760.0,3309.0,0.0,664.0,0.0,741.0,0.0,0.0,1.0,0.0,0.0,1609.0,0.0,379.0,0.0,null,0.0,0.0,0.0,35.0,0.0,0.0,0.0,1.0,0.0,0.0,0.0,0.0,0.0,0.0,0.0,null,null,2229.0,924.0,5.0,0.0,0.0,809.0,0.0,0.0,0.0,0.0,0.0,520.0,1173.0,0.0,null,0.0,1598.0,127.0,0.0,0.0,571.0,0.0,691.0,0.0,0.0,0.0,1130.0,0.0,139.0,0.0,62.0,886.0,0.0,0.0,0.0,0.0,0.0,0.0,0.0,0.0,912.0,33.0,1087.0,0.0,0.0,17.0,0.0,0.0,0.0,1507.0,0.0,0.0,0.0,0.0,0.0,1007.0,4.0,0.0,null,0.0,207.0,0.0,0.0,155.0,0.0,0.0,0.0,2840.0,null,4.0,0.0,0.0,0.0,0.0,0.0,0.0,1299.0,0.0,0.0,309.0,0.0,0.0,0.0,0.0,0.0,0.0,1046.0,0.0,4.0,330.0,0.0,null,3865.0,0.0,0.0,293.0,0.0,454.0,11.0,76.0,11.0,511.0,0.0,180.0,715.0,0.0,0.0,0.0,0.0,324.0,5.0,52.0,0.0,0.0,0.0,0.0,16.0,0.0,0.0,0.0,63.0,3.0,0.0,0.0,158.0,0.0,593.0,0.0,1097.0,0.0,2646.0,0.0,0.0,0.0,0.0,0.0,764.0,0.0,8.0,0.0,0.0,0.0,0.0,0.0,508.0,0.0,0.0,0.0,74.0,0.0,0.0,0.0,0.0,0.0,0.0,0.0,1612.0,0.0,256.0,20.0,0.0,0.0,0.0,0.0,0.0,1150.0,0.0,0.0,0.0,0.0,64.0,0.0,0.0,0.0,0.0,null,718.0,0.0,0.0,0.0,13.0,null,0.0,0.0,915.0,0.0,0.0,2598.0,632.0,313.0,0.0,0.0,0.0,378.0,0.0,0.0,0.0,0.0,0.0,0.0,1065.0,0.0,0.0,0.0,0.0,0.0,0.0,260.0,10.0,0.0,0.0,0.0,0.0,null,0.0,0.0,0.0,0.0,0.0,0.0,0.0,0.0,0.0,0.0,578.0,0.0,1633.0,666.0,824.0,0.0,0.0,0.0,0.0,0.0,0.0,0.0,0.0,0.0,0.0,180.0,0.0,3.0,0.0,0.0,0.0,0.0,0.0,0.0,0.0,0.0,0.0,0.0,0.0,0.0,0.0,717.0,1.0,0.0,0.0,0.0,0.0,2532.0,0.0,0.0,0.0,664.0,0.0,2.0,0.0,1.0,1.0,106.0,0.0,0.0,0.0,24.0,0.0,0.0,0.0,0.0,0.0,0.0,0.0,0.0,0.0,0.0,0.0,0.0,2.0,308.0,0.0,0.0,0.0,0.0,0.0,0.0,0.0,90.0,0.0,0.0,0.0,2.0,0.0,505.0,0.0,null,2267.0,0.0,15.0,0.0,0.0,0.0,190.0,0.0,22.0,0.0,0.0,0.0,0.0,381.0,0.0,0.0,6.0,0.0,0.0,95.0,0.0,0.0,0.0,0.0,0.0,350.0,503.0,792.0,0.0,0.0,0.0,0.0,1.0,0.0,1196.0,0.0,0.0,0.0,0.0,0.0,0.0,0.0,0.0,0.0,86.0,0.0,0.0,0.0,506.0,90.0,0.0,0.0,0.0,0.0,0.0,0.0,0.0,0.0,0.0,0.0,0.0,0.0,0.0,0.0,0.0,1.0,0.0,121.0,0.0,0.0,3.0,0.0,0.0,0.0,0.0,0.0,0.0,6.0,274.0,0.0,4.0,0.0,0.0,44.0,0.0,0.0,0.0,0.0,0.0,542.0,66.0,196.0,0.0,0.0,0.0,1272.0,0.0,0.0,124.0,1.0,122.0,0.0,0.0,0.0,0.0,0.0,0.0,0.0,0.0,0.0,0.0,0.0,0.0,733.0,1.0,0.0,809.0,null,1749.0,0.0,1304.0,0.0,0.0,0.0,1.0,0.0,0.0,0.0,0.0,0.0,0.0,1099.0,0.0,0.0,0.0,0.0,4.0,0.0,3.0,766.0,0.0,78.0,0.0,249.0,3.0,0.0,1617.0,2581.0,14.0,0.0,0.0,0.0,0.0,0.0,30.0,0.0,85.0,19.0,0.0,0.0,1178.0,0.0,0.0,323.0,42.0,0.0,576.0,787.0,0.0,193.0,354.0,0.0,0.0,0.0,0.0,616.0,0.0,0.0,0.0,0.0,0.0,0.0,0.0,0.0,5.0,0.0,0.0,0.0,0.0,5.0,1.0,0.0,2.0,0.0,2.0,0.0,43.0,0.0,0.0,null,0.0,0.0,0.0,42.0,0.0,0.0,0.0,25.0,1280.0,125.0,0.0,0.0,0.0,null,0.0,105.0,0.0,0.0,0.0,0.0,0.0,0.0,0.0,0.0,0.0,0.0,97.0,1.0,0.0,0.0,0.0,3.0,42.0,null,0.0,0.0,0.0,0.0,0.0,43.0,232.0,105.0,0.0,0.0,0.0,0.0,0.0,4.0,0.0,25.0,0.0,0.0,0.0,0.0,1404.0,808.0,0.0,0.0,0.0,0.0,0.0,58.0,0.0,null,1377.0,120.0,238.0,424.0,131.0,622.0,0.0,0.0,432.0,0.0,0.0,0.0,3471.0,0.0,0.0,0.0,0.0,48.0,33.0,null,0.0,0.0,0.0,18.0,1193.0,0.0,0.0,0.0,0.0,0.0,null,0.0,0.0,3340.0,0.0,0.0,2.0,0.0,328.0,0.0,0.0,0.0,0.0,0.0,0.0,0.0,0.0,null,0.0,0.0,0.0,0.0,0.0,0.0,0.0,64.0,396.0,0.0,0.0,0.0,0.0,0.0,0.0,null,0.0,381.0,0.0,0.0,0.0,824.0,0.0,0.0,0.0,1037.0,0.0,80.0,0.0,0.0,2.0,55.0,0.0,513.0,0.0,227.0,0.0,0.0,2.0,0.0,0.0,1.0,821.0,183.0,0.0,0.0,null,913.0,0.0,0.0,132.0,519.0,0.0,0.0,0.0,0.0,90.0,0.0,0.0,0.0,25.0,0.0,357.0,0.0,406.0,0.0,3361.0,14.0,0.0,0.0,58.0,984.0,0.0,0.0,0.0,0.0,1192.0,0.0,0.0,71.0,799.0,1387.0,1.0,1060.0,28.0,418.0,1049.0,312.0,0.0,90.0,4.0,0.0,38.0,0.0,0.0,0.0,0.0,0.0,0.0,205.0,0.0,16.0,0.0,339.0,0.0,0.0,2627.0,0.0,974.0,149.0,1008.0,12.0,0.0,0.0,3.0,1540.0,0.0,0.0,0.0,0.0,0.0,0.0,0.0,0.0,0.0,2478.0,86.0,158.0,0.0,796.0,0.0,0.0,0.0,0.0,0.0,0.0,0.0,0.0,847.0,0.0,0.0,0.0,0.0,0.0,0.0,0.0,0.0,0.0,967.0,0.0,0.0,0.0,0.0,6.0,9.0,0.0,309.0,0.0,0.0,0.0,2.0,0.0,0.0,0.0,35.0,0.0,95.0,0.0,0.0,0.0,716.0,55.0,0.0,3.0,0.0,0.0,0.0,659.0,2.0,0.0,0.0,3537.0,45.0,0.0,0.0,0.0,772.0,2739.0,0.0,0.0,629.0,0.0,14.0,325.0,781.0,3478.0,0.0,0.0,0.0,1144.0,0.0,653.0,0.0,0.0,0.0,0.0,0.0,0.0,0.0,324.0,0.0,0.0,886.0,0.0,355.0,39.0,0.0,0.0,0.0,0.0,46.0,0.0,400.0,0.0,667.0,1217.0,1448.0,103.0,1632.0,1258.0,0.0,0.0,0.0,0.0,0.0,0.0,0.0,0.0,16.0,0.0,89.0,0.0,0.0,20.0,0.0,0.0,0.0,0.0,0.0,0.0,0.0,0.0,0.0,1417.0,0.0,3.0,0.0,0.0,0.0,4.0,null,0.0,0.0,0.0,400.0,1796.0,0.0,0.0,8.0,0.0,460.0,0.0,0.0,309.0,0.0,0.0,0.0,0.0,931.0,null,258.0,6498.0,1843.0,4.0,1.0,0.0,0.0,0.0,0.0,0.0,0.0,0.0,0.0,0.0,0.0,2025.0,0.0,0.0,7.0,0.0,0.0,714.0,0.0,0.0,0.0,0.0,0.0,536.0,0.0,0.0,1417.0,0.0,0.0,0.0,0.0,0.0,3.0,437.0,880.0,1851.0,0.0,0.0,0.0,939.0,1339.0,0.0,0.0,null,0.0,0.0,0.0,0.0,1901.0,1616.0,0.0,1680.0,719.0,451.0,0.0,0.0,0.0,0.0,227.0,0.0,0.0,834.0,949.0,0.0,0.0,0.0,1100.0,0.0,0.0,1025.0,0.0,0.0,0.0,27.0,169.0,0.0,0.0,0.0,0.0,0.0,0.0,40.0,0.0,0.0,0.0,111.0,0.0,0.0,15.0,0.0,0.0,0.0,0.0,850.0,664.0,40.0,0.0,0.0,0.0,19.0,16.0,0.0,0.0,null,0.0,0.0,89.0,0.0,0.0,0.0,null,661.0,0.0,246.0,0.0,0.0,0.0,0.0,0.0,0.0,0.0,null,0.0,0.0,12.0,0.0,1363.0,128.0,0.0,154.0,0.0,59.0,0.0,0.0,0.0,760.0,490.0,247.0,0.0,612.0,0.0,0.0,36.0,0.0,0.0,0.0,0.0,0.0,0.0,0.0,2.0,0.0,0.0,0.0,0.0,1367.0,558.0,0.0,0.0,1277.0,558.0,950.0,0.0,0.0,610.0,0.0,1620.0,0.0,0.0,0.0,0.0,0.0,0.0,0.0,0.0,0.0,326.0,0.0,0.0,0.0,0.0,4.0,3.0,992.0,0.0,0.0,0.0,176.0,0.0,1268.0,1331.0,553.0,27.0,37.0,0.0,1184.0,469.0,0.0,406.0,0.0,0.0,0.0,0.0,0.0,0.0,0.0,0.0,0.0,3002.0,0.0,0.0,0.0,0.0,0.0,354.0,715.0,156.0,488.0,5493.0,0.0,0.0,0.0,6.0,0.0,0.0,571.0,0.0,0.0,13.0,0.0,0.0,0.0,0.0,9.0,0.0,0.0,412.0,0.0,1.0,0.0,0.0,null,0.0,24.0,0.0,0.0,0.0,0.0,401.0,0.0,0.0,0.0,0.0,0.0,646.0,49.0,0.0,0.0,14.0,0.0,0.0,0.0,36.0,0.0,0.0,0.0,0.0,1371.0,0.0,0.0,563.0,0.0,0.0,0.0,0.0,439.0,0.0,2.0,786.0,0.0,0.0,412.0,0.0,0.0,39.0,427.0,0.0,0.0,0.0,0.0,267.0,0.0,0.0,2320.0,22.0,0.0,0.0,0.0,2044.0,0.0,0.0,0.0,0.0,429.0,444.0,0.0,802.0,0.0,0.0,641.0,33.0,22.0,115.0,0.0,118.0,0.0,3.0,0.0,0.0,0.0,0.0,0.0,0.0,552.0,0.0,0.0,0.0,857.0,3.0,0.0,106.0,0.0,0.0,null,0.0,954.0,735.0,0.0,65.0,0.0,0.0,0.0,192.0,0.0,0.0,0.0,875.0,383.0,38.0,0.0,754.0,0.0,0.0,0.0,141.0,689.0,0.0,0.0,0.0,0.0,0.0,134.0,7.0,null,0.0,0.0,0.0,0.0,27.0,715.0,0.0,941.0,0.0,0.0,0.0,30.0,0.0,3.0,0.0,0.0,546.0,0.0,8.0,0.0,0.0,0.0,0.0,721.0,null,0.0,0.0,0.0,0.0,8.0,2.0,0.0,0.0,35.0,0.0,0.0,0.0,130.0,0.0,0.0,0.0,0.0,0.0,0.0,0.0,0.0,698.0,0.0,0.0,399.0,0.0,0.0,0.0,0.0,31.0,0.0,0.0,36.0,0.0,0.0,1549.0,0.0,110.0,2244.0,994.0,null,0.0,0.0,13.0,0.0,1170.0,23.0,3559.0,0.0,0.0,0.0,0.0,0.0,1956.0,3087.0,0.0,1219.0,0.0,0.0,0.0,0.0,0.0,42.0,0.0,0.0,0.0,0.0,0.0,0.0,0.0,0.0,0.0,0.0,0.0,83.0,0.0,0.0,0.0,2.0,160.0,433.0,572.0,1340.0,137.0,null,27.0,0.0,0.0,0.0,849.0,0.0,0.0,6.0,426.0,452.0,820.0,1.0,101.0,0.0,26.0,9.0,0.0,0.0,0.0,60.0,631.0,25.0,0.0,0.0,0.0,0.0,0.0,0.0,14.0,0.0,0.0,0.0,0.0,0.0,375.0,0.0,29.0,0.0,0.0,null,0.0,0.0,0.0,0.0,null,191.0,0.0,4102.0,0.0,0.0,0.0,0.0,42.0,686.0,176.0,3.0,661.0,250.0,0.0,0.0,0.0,0.0,22.0,0.0,0.0,0.0,0.0,0.0,0.0,1.0,77.0,0.0,267.0,0.0,0.0,0.0,0.0,0.0,0.0,1.0,374.0,0.0,165.0,25.0,0.0,2.0,1.0,5.0,0.0,0.0,0.0,36.0,19.0,0.0,0.0,0.0,0.0,1246.0,0.0,0.0,0.0,0.0,0.0,0.0,0.0,0.0,0.0,0.0,0.0,0.0,0.0,2.0,0.0,454.0,514.0,0.0,672.0,0.0,595.0,65.0,0.0,null,8.0,0.0,0.0,141.0,290.0,1399.0,84.0,0.0,0.0,0.0,0.0,0.0,0.0,0.0,0.0,372.0,0.0,0.0,703.0,77.0,0.0,0.0,0.0,0.0,0.0,0.0,45.0,0.0,0.0,0.0,0.0,0.0,0.0,0.0,0.0,182.0,0.0,0.0,0.0,0.0,0.0,35.0,0.0,0.0,183.0,0.0,null,0.0,0.0,1144.0,225.0,0.0,0.0,0.0,14327.0,0.0,0.0,0.0,0.0,0.0,3148.0,0.0,0.0,0.0,818.0,0.0,0.0,0.0,2614.0,130.0,179.0,1420.0,0.0,0.0,0.0,0.0,0.0,0.0,0.0,0.0,154.0,866.0,0.0,0.0,0.0,0.0,8.0,706.0,null,0.0,0.0,0.0,0.0,962.0,531.0,574.0,37.0,0.0,0.0,0.0,0.0,0.0,0.0,282.0,204.0,0.0,0.0,233.0,850.0,25.0,0.0,0.0,0.0,185.0,248.0,0.0,0.0,298.0,0.0,0.0,0.0,0.0,256.0,935.0,0.0,0.0,2130.0,0.0,123.0,0.0,588.0,845.0,0.0,0.0,50.0,0.0,0.0,0.0,223.0,0.0,0.0,0.0,2.0,0.0,0.0,63.0,0.0,13.0,0.0,0.0,138.0,21.0,0.0,0.0,0.0,0.0,0.0,null,1028.0,211.0,0.0,0.0,22.0,665.0,30.0,0.0,0.0,564.0,17.0,588.0,0.0,0.0,0.0,0.0,0.0,526.0,0.0,363.0,944.0,0.0,0.0,542.0,0.0,20.0,0.0,1.0,0.0,0.0,12.0,21.0,2260.0,0.0,161.0,0.0,0.0,148.0,14.0,330.0,0.0,4531.0,12.0,423.0,0.0,1721.0,0.0,0.0,0.0,8.0,0.0,0.0,654.0,0.0,529.0,750.0,108.0,362.0,126.0,0.0,9.0,0.0,0.0,74.0,null,0.0,0.0,274.0,0.0,0.0,0.0,0.0,44.0,0.0,0.0,176.0,0.0,647.0,0.0,8.0,0.0,0.0,695.0,0.0,62.0,2.0,460.0,0.0,0.0,3284.0,0.0,1301.0,0.0,0.0,1.0,0.0,0.0,0.0,0.0,261.0,725.0,197.0,0.0,0.0,0.0,0.0,0.0,0.0,0.0,223.0,0.0,0.0,2083.0,623.0,0.0,210.0,1242.0,0.0,0.0,0.0,988.0,0.0,0.0,0.0,269.0,0.0,153.0,0.0,0.0,0.0,11.0,0.0,3.0,0.0,0.0,1016.0,0.0,2147.0,457.0,0.0,87.0,957.0,0.0,0.0,0.0,0.0,0.0,0.0,0.0,2756.0,0.0,0.0,0.0,0.0,0.0,0.0,0.0,530.0,61.0,36.0,0.0,0.0,610.0,479.0,642.0,0.0,0.0,0.0,1120.0,0.0,0.0,0.0,819.0,0.0,0.0,0.0,1337.0,0.0,0.0,1033.0,0.0,0.0,1331.0,0.0,54.0,1092.0,0.0,0.0,0.0,648.0,4.0,0.0,1042.0,4.0,1904.0,0.0,0.0,0.0,0.0,5.0,1285.0,0.0,1157.0,1307.0,0.0,10.0,8.0,0.0,0.0,0.0,433.0,1176.0,0.0,228.0,0.0,null,600.0,0.0,639.0,0.0,0.0,0.0,530.0,0.0,0.0,971.0,null,1961.0,0.0,606.0,0.0,0.0,1309.0,542.0,0.0,0.0,0.0,4608.0,0.0,1.0,0.0,0.0,8151.0,0.0,2575.0,0.0,3926.0,0.0,0.0,0.0,0.0,0.0,793.0,0.0,1471.0,9.0,0.0,0.0,0.0,6.0,0.0,25.0,0.0,0.0,null,83.0,0.0,29.0,0.0,0.0,0.0,0.0,0.0,0.0,0.0,0.0,0.0,0.0,256.0,0.0,0.0,0.0,43.0,56.0,0.0,0.0,0.0,5049.0,0.0,0.0,0.0,107.0,0.0,0.0,1528.0,0.0,0.0,0.0,0.0,0.0,0.0,859.0,0.0,0.0,0.0,0.0,7.0,0.0,0.0,0.0,0.0,38.0,0.0,0.0,814.0,0.0,732.0,0.0,0.0,98.0,0.0,151.0,0.0,382.0,1.0,0.0,0.0,0.0,0.0,6.0,582.0,576.0,0.0,0.0,0.0,0.0,0.0,322.0,0.0,523.0,41.0,949.0,0.0,0.0,0.0,0.0,0.0,0.0,0.0,0.0,0.0,0.0,0.0,878.0,0.0,1961.0,0.0,0.0,261.0,0.0,0.0,0.0,0.0,0.0,51.0,1364.0,0.0,717.0,168.0,0.0,666.0,10.0,0.0,0.0,0.0,0.0,0.0,2206.0,0.0,275.0,0.0,0.0,0.0,0.0,0.0,0.0,0.0,263.0,271.0,30.0,1.0,0.0,0.0,0.0,0.0,1231.0,0.0,218.0,0.0,0.0,6.0,607.0,922.0,0.0,705.0,202.0,290.0,0.0,0.0,0.0,0.0,0.0,41.0,0.0,241.0,0.0,0.0,0.0,0.0,0.0,0.0,13.0,0.0,38.0,89.0,0.0,0.0,662.0,0.0,0.0,0.0,0.0,467.0,0.0,0.0,35.0,0.0,0.0,0.0,1.0,1177.0,3905.0,0.0,0.0,0.0,0.0,0.0,0.0,0.0,0.0,0.0,0.0,0.0,0.0,1744.0,0.0,0.0,null,4702.0,0.0,0.0,0.0,454.0,0.0,0.0,0.0,0.0,0.0,751.0,0.0,0.0,0.0,0.0,456.0,0.0,0.0,286.0,0.0,0.0,13.0,0.0,0.0,809.0,134.0,37.0,0.0,164.0,25.0,1082.0,0.0,43.0,1690.0,0.0,0.0,0.0,0.0,0.0,0.0,0.0,0.0,0.0,943.0,0.0,0.0,0.0,0.0,0.0,null,0.0,0.0,0.0,0.0,0.0,386.0,253.0,0.0,0.0,2048.0,581.0,0.0,2.0,2497.0,0.0,0.0,83.0,628.0,246.0,4.0,743.0,0.0,0.0,0.0,0.0,1269.0,766.0,2.0,1781.0,2116.0,748.0,20.0,0.0,3.0,481.0,0.0,0.0,0.0,0.0,0.0,0.0,138.0,0.0,0.0,164.0,0.0,389.0,0.0,552.0,142.0,358.0,469.0,1.0,0.0,3458.0,948.0,0.0,2.0,0.0,846.0,0.0,1267.0,0.0,0.0,0.0,1109.0,0.0,4.0,0.0,0.0,0.0,0.0,0.0,0.0,0.0,0.0,848.0,9920.0,0.0,0.0,0.0,489.0,724.0,1.0,226.0,0.0,0.0,0.0,0.0,0.0,0.0,2703.0,0.0,null,null,685.0,0.0,0.0,0.0,1020.0,0.0,518.0,0.0,31.0,2.0,0.0,0.0,0.0,0.0,0.0,0.0,0.0,0.0,0.0,665.0,0.0,0.0,658.0,0.0,0.0,0.0,0.0,4027.0,702.0,142.0,0.0,0.0,0.0,0.0,0.0,0.0,39.0,0.0,0.0,0.0,null,0.0,0.0,758.0,0.0,0.0,0.0,31.0,0.0,508.0,0.0,85.0,0.0,0.0,1.0,0.0,null,0.0,0.0,5645.0,10.0,0.0,817.0,0.0,41.0,0.0,0.0,0.0,690.0,0.0,0.0,0.0,39.0,0.0,0.0,1565.0,0.0,0.0,0.0,550.0,127.0,0.0,0.0,0.0,51.0,1.0,0.0,0.0,0.0,1696.0,0.0,0.0,0.0,7.0,0.0,2445.0,0.0,0.0,0.0,0.0,0.0,749.0,714.0,583.0,0.0,0.0,0.0,0.0,753.0,5.0,688.0,245.0,0.0,654.0,0.0,590.0,0.0,0.0,0.0,0.0,0.0,380.0,0.0,0.0,0.0,958.0,0.0,0.0,0.0,170.0,0.0,0.0,30.0,765.0,0.0,0.0,0.0,0.0,125.0,0.0,0.0,458.0,0.0,0.0,0.0,0.0,0.0,0.0,890.0,0.0,804.0,0.0,0.0,0.0,0.0,47.0,1.0,19.0,0.0,0.0,0.0,158.0,2803.0,643.0,1909.0,0.0,0.0,0.0,0.0,0.0,332.0,0.0,56.0,807.0,215.0,0.0,1188.0,0.0,635.0,0.0,0.0,13.0,0.0,0.0,56.0,286.0,0.0,1035.0,0.0,0.0,0.0,0.0,0.0,0.0,0.0,0.0,0.0,0.0,2267.0,1410.0,348.0,12.0,233.0,821.0,0.0,0.0,0.0,0.0,178.0,0.0,0.0,0.0,0.0,0.0,0.0,0.0,0.0,0.0,0.0,null,0.0,0.0,0.0,0.0,0.0,0.0,0.0,0.0,0.0,0.0,390.0,0.0,0.0,0.0,69.0,0.0,0.0,156.0,0.0,0.0,0.0,0.0,2029.0,0.0,0.0,0.0,0.0,1.0,0.0,0.0,0.0,0.0,0.0,70.0,57.0,0.0,0.0,715.0,247.0,0.0,160.0,88.0,542.0,439.0,5.0,0.0,0.0,158.0,12.0,11.0,0.0,0.0,0.0,0.0,null,0.0,0.0,0.0,0.0,0.0,0.0,0.0,0.0,610.0,0.0,0.0,559.0,0.0,0.0,2233.0,0.0,0.0,0.0,0.0,571.0,14.0,850.0,0.0,183.0,0.0,0.0,0.0,0.0,6769.0,0.0,661.0,815.0,0.0,514.0,0.0,0.0,751.0,104.0,0.0,0.0,0.0,1.0,35.0,0.0,0.0,0.0,0.0,0.0,0.0,0.0,513.0,0.0,0.0,89.0,0.0,2309.0,0.0,1.0,0.0,3553.0,0.0,112.0,0.0,0.0,0.0,0.0,0.0,0.0,0.0,621.0,0.0,0.0,546.0,0.0,0.0,761.0,0.0,0.0,0.0,0.0,0.0,0.0,149.0,36.0,229.0,0.0,0.0,0.0,0.0,0.0,0.0,0.0,0.0,483.0,0.0,7.0,0.0,0.0,0.0,0.0,0.0,null,104.0,0.0,0.0,0.0,20.0,1364.0,0.0,0.0,0.0,0.0,0.0,0.0,18.0,8.0,0.0,0.0,0.0,0.0,4518.0,0.0,0.0,10.0,0.0,781.0,201.0,1331.0,750.0,0.0,0.0,0.0,0.0,0.0,0.0,0.0,0.0,0.0,0.0,162.0,223.0,16.0,0.0,0.0,84.0,0.0,0.0,0.0,0.0,0.0,0.0,2.0,0.0,48.0,0.0,0.0,0.0,0.0,152.0,0.0,0.0,0.0,0.0,0.0,0.0,0.0,0.0,4.0,0.0,149.0,0.0,0.0,0.0,0.0,1547.0,89.0,0.0,0.0,628.0,72.0,0.0,0.0,0.0,163.0,300.0,0.0,758.0,0.0,null,423.0,0.0,157.0,2093.0,836.0,1379.0,12.0,0.0,0.0,2.0,1.0,0.0,0.0,3215.0,0.0,112.0,0.0,null,0.0,0.0,17.0,0.0,0.0,0.0,0.0,448.0,0.0,1086.0,0.0,0.0,3090.0,0.0,200.0,0.0,0.0,0.0,441.0,0.0,0.0,1442.0,0.0,1208.0,555.0,276.0,0.0,0.0,2956.0,0.0,0.0,0.0,0.0,0.0,94.0,0.0,477.0,0.0,781.0,1.0,0.0,9.0,0.0,1017.0,0.0,0.0,0.0,0.0,0.0,28.0,0.0,140.0,718.0,3.0,0.0,0.0,0.0,0.0,0.0,0.0,0.0,0.0,0.0,0.0,0.0,0.0,0.0,982.0,0.0,0.0,0.0,0.0,0.0,0.0,0.0,0.0,0.0,852.0,0.0,0.0,0.0,0.0,0.0,0.0,521.0,0.0,158.0,0.0,2042.0,0.0,0.0,0.0,0.0,0.0,0.0,0.0,2413.0,0.0,3.0,805.0,419.0,1946.0,0.0,0.0,508.0,0.0,178.0,0.0,0.0,3.0,0.0,1883.0,2904.0,8.0,33.0,301.0,0.0,125.0,3.0,0.0,8142.0,0.0,0.0,0.0,3811.0,2209.0,41.0,0.0,0.0,14.0,0.0,657.0,0.0,0.0,0.0,605.0,0.0,0.0,0.0,0.0,0.0,0.0,0.0,0.0,0.0,3564.0,239.0,1119.0,4397.0,0.0,0.0,13.0,104.0,0.0,0.0,0.0,0.0,206.0,0.0,0.0,0.0,0.0,0.0,0.0,0.0,0.0,0.0,513.0,828.0,679.0,1156.0,0.0,0.0,0.0,916.0,0.0,0.0,0.0,0.0,551.0,0.0,7.0,0.0,0.0,0.0,270.0,0.0,0.0,457.0,0.0,0.0,0.0,0.0,236.0,0.0,0.0,0.0,0.0,0.0,0.0,0.0,28.0,3.0,3478.0,0.0,0.0,0.0,1682.0,0.0,0.0,0.0,0.0,1.0,0.0,460.0,0.0,0.0,0.0,980.0,0.0,0.0,0.0,382.0,0.0,5.0,0.0,0.0,0.0,0.0,0.0,628.0,0.0,12.0,0.0,0.0,0.0,0.0,0.0,0.0,0.0,61.0,0.0,0.0,0.0,0.0,0.0,0.0,1042.0,0.0,5.0,3.0,0.0,2026.0,0.0,55.0,0.0,915.0,null,0.0,0.0,2006.0,258.0,0.0,0.0,24.0,425.0,1603.0,71.0,0.0,25.0,1696.0,0.0,0.0,1.0,199.0,0.0,0.0,559.0,0.0,301.0,395.0,0.0,0.0,2044.0,6.0,0.0,0.0,null,0.0,0.0,null,2189.0,630.0,368.0,737.0,0.0,0.0,0.0,0.0,102.0,0.0,0.0,108.0,379.0,0.0,0.0,124.0,0.0,0.0,690.0,2031.0,0.0,0.0,0.0,135.0,0.0,20.0,158.0,0.0,2.0,0.0,2.0,0.0,78.0,0.0,0.0,0.0,0.0,0.0,0.0,17.0,0.0,0.0,0.0,0.0,1669.0,0.0,0.0,0.0,0.0,3616.0,0.0,0.0,0.0,0.0,0.0,0.0,0.0,6.0,0.0,0.0,898.0,0.0,458.0,78.0,0.0,0.0,0.0,0.0,3.0,2.0,19.0,0.0,1.0,0.0,0.0,0.0,0.0,null,0.0,627.0,0.0,0.0,0.0,0.0,0.0,0.0,0.0,5.0,0.0,0.0,18.0,0.0,0.0,0.0,484.0,1884.0,0.0,0.0,0.0,2223.0,676.0,0.0,49.0,593.0,0.0,0.0,410.0,0.0,0.0,106.0,0.0,0.0,0.0,0.0,0.0,0.0,0.0,0.0,0.0,0.0,0.0,0.0,0.0,1960.0,114.0,360.0,577.0,0.0,858.0,773.0,0.0,0.0,null,801.0,1144.0,0.0,0.0,0.0,0.0,2.0,358.0,435.0,0.0,null,0.0,0.0,0.0,0.0,0.0,114.0,0.0,0.0,0.0,0.0,0.0,0.0,0.0,0.0,0.0,0.0,54.0,0.0,0.0,0.0,0.0,0.0,0.0,431.0,0.0,0.0,59.0,0.0,294.0,0.0,365.0,93.0,null,0.0,0.0,1533.0,0.0,1233.0,801.0,null,null,0.0,0.0,24.0,0.0,30.0,114.0,83.0,0.0,0.0,552.0,14.0,0.0,0.0,0.0,0.0,0.0,0.0,45.0,0.0,0.0,0.0,0.0,810.0,0.0,0.0,0.0,0.0,0.0,636.0,0.0,0.0,610.0,0.0,null,0.0,0.0,0.0,0.0,32.0,null,0.0,0.0,0.0,0.0,899.0,1256.0,22.0,0.0,0.0,0.0,1179.0,14.0,0.0,0.0,0.0,0.0,0.0,0.0,0.0,1290.0,352.0,89.0,414.0,0.0,0.0,0.0,0.0,0.0,0.0,0.0,0.0,0.0,0.0,0.0,0.0,0.0,1192.0,1.0,0.0,0.0,0.0,397.0,601.0,0.0,151.0,0.0,0.0,0.0,0.0,0.0,57.0,19.0,0.0,388.0,0.0,0.0,0.0,0.0,0.0,0.0,0.0,0.0,0.0,127.0,0.0,771.0,0.0,0.0,0.0,0.0,0.0,228.0,861.0,395.0,1979.0,1143.0,0.0,0.0,0.0,0.0,0.0,3.0,699.0,19.0,0.0,0.0,0.0,0.0,2081.0,126.0,0.0,18.0,695.0,0.0,0.0,0.0,0.0,0.0,0.0,0.0,0.0,0.0,0.0,0.0,0.0,289.0,115.0,0.0,0.0,0.0,285.0,0.0,0.0,0.0,0.0,102.0,0.0,0.0,2.0,94.0,68.0,0.0,166.0,588.0,0.0,635.0,0.0,0.0,0.0,0.0,2532.0,345.0,0.0,0.0,752.0,0.0,null,1175.0,0.0,3.0,0.0,0.0,0.0,0.0,0.0,0.0,0.0,0.0,0.0,1228.0,0.0,0.0,0.0,0.0,0.0,0.0,0.0,0.0,2.0,null,12.0,0.0,0.0,0.0,0.0,0.0,0.0,0.0,590.0,0.0,0.0,0.0,402.0,90.0,0.0,0.0,4.0,0.0,0.0,0.0,0.0,17.0,32.0,864.0,0.0,1002.0,1880.0,0.0,0.0,77.0,0.0,1595.0,0.0,null,0.0,0.0,0.0,707.0,61.0,0.0,null,0.0,0.0,0.0,0.0,0.0,62.0,0.0,0.0,0.0,0.0,239.0,0.0,0.0,0.0,0.0,0.0,0.0,0.0,994.0,0.0,0.0,0.0,0.0,null,700.0,18.0,0.0,0.0,0.0,0.0,0.0,0.0,0.0,0.0,0.0,0.0,0.0,68.0,0.0,0.0,0.0,2664.0,0.0,3135.0,0.0,0.0,0.0,0.0,1373.0,0.0,0.0,103.0,1288.0,1244.0,1717.0,1337.0,0.0,1203.0,545.0,0.0,null,0.0,0.0,1610.0,470.0,0.0,0.0,0.0,0.0,0.0,0.0,0.0,0.0,0.0,0.0,1964.0,76.0,51.0,0.0,0.0,0.0,0.0,2937.0,76.0,0.0,399.0,0.0,0.0,47.0,0.0,0.0,0.0,0.0,1.0,0.0,0.0,null,0.0,0.0,0.0,2167.0,null,0.0,0.0,8.0,0.0,0.0,108.0,0.0,0.0,0.0,113.0,2.0,866.0,145.0,20.0,470.0,3.0,0.0,0.0,0.0,1751.0,52.0,14.0,0.0,0.0,768.0,null,0.0,0.0,38.0,1339.0,0.0,944.0,0.0,0.0,0.0,0.0,21.0,32.0,null,142.0,0.0,null,0.0,3481.0,0.0,181.0,0.0,0.0,0.0,0.0,355.0,0.0,0.0,0.0,7.0,0.0,0.0,1912.0,0.0,null,0.0,0.0,71.0,0.0,735.0,0.0,2.0,0.0,0.0,3211.0,22.0,0.0,0.0,0.0,0.0,0.0,0.0,0.0,0.0,0.0,0.0,0.0,69.0,0.0,0.0,6103.0,0.0,0.0,190.0,362.0,0.0,2191.0,0.0,0.0,0.0,0.0,null,0.0,862.0,725.0,0.0,0.0,0.0,0.0,0.0,0.0,473.0,0.0,0.0,146.0,0.0,0.0,0.0,501.0,0.0,0.0,130.0,0.0,43.0,1719.0,528.0,0.0,0.0,0.0,173.0,118.0,0.0,0.0,1988.0,0.0,995.0,0.0,0.0,0.0,0.0,69.0,0.0,0.0,0.0,0.0,0.0,1944.0,439.0,0.0,0.0,0.0,9.0,0.0,0.0,559.0,160.0,1228.0,0.0,245.0,9.0,0.0,0.0,0.0,28.0,0.0,0.0,0.0,0.0,0.0,26.0,0.0,1998.0,969.0,135.0,60.0,0.0,3839.0,0.0,951.0,0.0,0.0,0.0,3358.0,456.0,0.0,0.0,0.0,0.0,0.0,0.0,0.0,1.0,27.0,0.0,0.0,0.0,712.0,3.0,0.0,0.0,1967.0,0.0,1962.0,0.0,0.0,554.0,0.0,1.0,0.0,0.0,0.0,0.0,0.0,0.0,0.0,0.0,0.0,1058.0,2261.0,0.0,907.0,0.0,888.0,null,0.0,0.0,0.0,0.0,779.0,418.0,0.0,468.0,0.0,0.0,0.0,0.0,0.0,0.0,0.0,0.0,0.0,0.0,0.0,0.0,0.0,0.0,26.0,0.0,0.0,0.0,0.0,0.0,0.0,1216.0,0.0,782.0,0.0,56.0,0.0,0.0,0.0,235.0,1043.0,0.0,332.0,0.0,0.0,42.0,0.0,64.0,0.0,3332.0,0.0,0.0,2224.0,4.0,0.0,0.0,0.0,0.0,0.0,526.0,1.0,0.0,0.0,0.0,21.0,244.0,0.0,0.0,143.0,0.0,0.0,0.0,453.0,0.0,0.0,590.0,0.0,0.0,1040.0,0.0,0.0,61.0,0.0,10.0,0.0,0.0,0.0,0.0,0.0,0.0,527.0,0.0,3.0,301.0,906.0,159.0,0.0,0.0,0.0,0.0,1058.0,0.0,9.0,0.0,0.0,0.0,0.0,415.0,0.0,0.0,0.0,3.0,0.0,0.0,1.0,0.0,0.0,602.0,457.0,0.0,null,0.0,0.0,0.0,0.0,907.0,0.0,0.0,0.0,288.0,0.0,0.0,0.0,0.0,0.0,0.0,0.0,0.0,1631.0,0.0,0.0,0.0,43.0,0.0,862.0,0.0,0.0,0.0,0.0,0.0,0.0,0.0,0.0,0.0,102.0,3.0,0.0,0.0,438.0,3.0,0.0,0.0,0.0,0.0,0.0,0.0,0.0,0.0,0.0,0.0,0.0,150.0,0.0,106.0,1.0,300.0,541.0,1.0,1030.0,622.0,0.0,0.0,23.0,0.0,30.0,0.0,501.0,21.0,0.0,0.0,0.0,0.0,0.0,0.0,0.0,0.0,0.0,0.0,3191.0,741.0,0.0,0.0,0.0,0.0,593.0,0.0,0.0,180.0,197.0,49.0,0.0,1781.0,0.0,1046.0,0.0,40.0,100.0,0.0,0.0,42.0,0.0,0.0,473.0,28.0,401.0,0.0,0.0,0.0,0.0,0.0,61.0,207.0,305.0,0.0,0.0,null,0.0,5959.0,0.0,null,0.0,360.0,0.0,0.0,0.0,83.0,31.0,null,627.0,678.0,185.0,0.0,0.0,728.0,3.0,0.0,0.0,1.0,19.0,738.0,1059.0,0.0,2754.0,0.0,814.0,0.0,0.0,0.0,15.0,2916.0,1413.0,399.0,0.0,1711.0,2.0,0.0,2.0,0.0,0.0,1318.0,0.0,0.0,0.0,0.0,0.0,0.0,0.0,0.0,0.0,0.0,0.0,0.0,0.0,0.0,0.0,3.0,0.0,0.0,0.0,0.0,0.0,821.0,2611.0,1236.0,0.0,0.0,2.0,0.0,0.0,0.0,9.0,40.0,0.0,0.0,240.0,0.0,0.0,0.0,0.0,0.0,0.0,4.0,0.0,6.0,0.0,0.0,105.0,0.0,0.0,0.0,0.0,294.0,0.0,0.0,193.0,85.0,1110.0,0.0,0.0,1.0,0.0,550.0,0.0,879.0,0.0,0.0,1126.0,549.0,null,0.0,0.0,0.0,0.0,0.0,0.0,0.0,20.0,0.0,0.0,0.0,960.0,null,244.0,120.0,509.0,0.0,286.0,0.0,0.0,0.0,0.0,1243.0,0.0,0.0,786.0,0.0,0.0,0.0,0.0,0.0,0.0,27.0,0.0,0.0,0.0,244.0,0.0,36.0,0.0,174.0,558.0,0.0,0.0,193.0,2.0,2.0,0.0,523.0,0.0,30.0,30.0,1770.0,0.0,66.0,null,1577.0,0.0,511.0,0.0,0.0,2110.0,0.0,0.0,0.0,3580.0,1442.0,1092.0,5.0,0.0,0.0,0.0,0.0,15.0,0.0,2502.0,1366.0,657.0,0.0,0.0,0.0,0.0,390.0,0.0,0.0,0.0,0.0,0.0,0.0,420.0,122.0,0.0,313.0,18.0,4.0,0.0,118.0,0.0,0.0,0.0,0.0,10.0,0.0,0.0,388.0,0.0,2.0,0.0,0.0,0.0,0.0,380.0,3591.0,828.0,0.0,0.0,0.0,30.0,2.0,80.0,653.0,1.0,0.0,32.0,0.0,0.0,0.0,0.0,8209.0,0.0,0.0,220.0,0.0,0.0,0.0,0.0,0.0,0.0,0.0,0.0,0.0,214.0,0.0,463.0,2484.0,0.0,0.0,0.0,0.0,0.0,11.0,761.0,3651.0,0.0,0.0,0.0,0.0,0.0,767.0,0.0,37.0,1103.0,0.0,81.0,2703.0,0.0,0.0,0.0,0.0,0.0,618.0,8.0,0.0,0.0,0.0,3010.0,145.0,0.0,0.0,0.0,0.0,0.0,711.0,0.0,0.0,0.0,0.0,0.0,0.0,0.0,0.0,null,0.0,0.0,2771.0,0.0,1132.0,0.0,0.0,0.0,0.0,0.0,812.0,0.0,0.0,0.0,0.0,0.0,0.0,0.0,0.0,574.0,751.0,1000.0,0.0,0.0,332.0,0.0,1144.0,0.0,0.0,0.0,5888.0,40.0,110.0,2647.0,0.0,118.0,0.0,1.0,0.0,0.0,1.0,0.0,0.0,0.0,0.0,83.0,0.0,338.0,0.0,0.0,0.0,0.0,1730.0,0.0,60.0,0.0,9.0,0.0,0.0,0.0,0.0,0.0,0.0,688.0,18.0,0.0,0.0,416.0,0.0,0.0,0.0,1.0,0.0,0.0,0.0,0.0,1.0,0.0,325.0,1405.0,0.0,0.0,98.0,527.0,748.0,0.0,0.0,1146.0,7.0,0.0,0.0,1199.0,0.0,0.0,0.0,0.0,0.0,0.0,406.0,0.0,258.0,0.0,0.0,null,0.0,810.0,0.0,19.0,0.0,358.0,0.0,1720.0,166.0,0.0,0.0,0.0,0.0,0.0,0.0,0.0,769.0,1333.0,0.0,0.0,0.0,0.0,0.0,535.0,0.0,0.0,0.0,0.0,0.0,0.0,0.0,1095.0,1823.0,0.0,11.0,482.0,0.0,0.0,0.0,0.0,328.0,6.0,0.0,52.0,0.0,0.0,0.0,1052.0,0.0,558.0,0.0,0.0,0.0,1227.0,166.0,0.0,0.0,9.0,0.0,634.0,550.0,0.0,99.0,19.0,0.0,0.0,0.0,0.0,6256.0,0.0,0.0,0.0,0.0,131.0,0.0,0.0,0.0,569.0,0.0,0.0,0.0,0.0,0.0,248.0,0.0,0.0,0.0,1610.0,0.0,0.0,37.0,0.0,0.0,0.0,0.0,0.0,34.0,196.0,46.0,102.0,0.0,0.0,0.0,0.0,0.0,0.0,0.0,0.0,1.0,472.0,0.0,485.0,0.0,0.0,1432.0,0.0,0.0,4.0,0.0,0.0,0.0,397.0,0.0,0.0,90.0,0.0,3030.0,589.0,0.0,0.0,0.0,84.0,7.0,0.0,0.0,0.0,0.0,0.0,580.0,0.0,0.0,2.0,31.0,0.0,0.0,0.0,1811.0,0.0,0.0,0.0,10.0,0.0,100.0,868.0,30.0,640.0,0.0,0.0,1.0,0.0,691.0,376.0,0.0,0.0,null,0.0,0.0,0.0,0.0,24.0,31.0,0.0,0.0,0.0,0.0,0.0,649.0,0.0,1969.0,838.0,3809.0,0.0,0.0,0.0,0.0,0.0,153.0,0.0,17.0,0.0,0.0,0.0,0.0,0.0,0.0,0.0,676.0,0.0,0.0,0.0,0.0,0.0,0.0,0.0,0.0,0.0,0.0,0.0,0.0,0.0,0.0,668.0,0.0,0.0,0.0,16.0,0.0,0.0,0.0,31.0,779.0,null,0.0,0.0,0.0,0.0,1222.0,0.0,172.0,0.0,0.0,0.0,0.0,0.0,5.0,0.0,1.0,0.0,0.0,6.0,0.0,0.0,0.0,0.0,0.0,1544.0,null,0.0,0.0,40.0,0.0,0.0,12.0,0.0,1369.0,0.0,null,0.0,0.0,0.0,0.0,1.0,0.0,0.0,0.0,0.0,0.0,355.0,1.0,2686.0,721.0,0.0,505.0,2.0,0.0,1842.0,595.0,null,635.0,0.0,33.0,1.0,3.0,0.0,18.0,0.0,0.0,0.0,19.0,0.0,0.0,9.0,0.0,0.0,4.0,81.0,0.0,0.0,48.0,150.0,90.0,0.0,0.0,49.0,0.0,0.0,0.0,0.0,0.0,6.0,97.0,0.0,0.0,0.0,79.0,0.0,0.0,0.0,0.0,0.0,0.0,381.0,3.0,44.0,0.0,0.0,0.0,0.0,831.0,0.0,0.0,0.0,0.0,0.0,11.0,0.0,0.0,0.0,0.0,0.0,0.0,0.0,0.0,0.0,18.0,0.0,0.0,0.0,0.0,0.0,691.0,0.0,0.0,90.0,0.0,1663.0,0.0,0.0,0.0,0.0,953.0,0.0,1157.0,0.0,0.0,279.0,0.0,7.0,293.0,644.0,4.0,753.0,0.0,0.0,0.0,0.0,0.0,0.0,5.0,116.0,0.0,0.0,0.0,0.0,0.0,0.0,0.0,0.0,0.0,539.0,0.0,598.0,0.0,0.0,0.0,0.0,0.0,19.0,0.0,0.0,0.0,0.0,0.0,209.0,625.0,0.0,0.0,6.0,1282.0,null,487.0,0.0,0.0,22.0,0.0,0.0,3.0,0.0,0.0,1054.0,32.0,0.0,85.0,0.0,0.0,0.0,14.0,0.0,201.0,0.0,5.0,0.0,72.0,0.0,511.0,749.0,0.0,499.0,2.0,0.0,1007.0,0.0,0.0,309.0,0.0,52.0,0.0,0.0,0.0,0.0,396.0,0.0,84.0,0.0,0.0,0.0,32.0,0.0,0.0,304.0,0.0,0.0,0.0,86.0,29.0,0.0,0.0,0.0,0.0,0.0,0.0,0.0,0.0,0.0,0.0,0.0,67.0,1242.0,1852.0,1150.0,0.0,0.0,0.0,0.0,1309.0,5.0,0.0,0.0,1722.0,0.0,4.0,218.0,0.0,0.0,836.0,0.0,0.0,0.0,467.0,0.0,0.0,380.0,532.0,2.0,0.0,1399.0,149.0,0.0,0.0,0.0,0.0,null,0.0,0.0,0.0,773.0,0.0,0.0,799.0,0.0,988.0,0.0,697.0,0.0,0.0,506.0,0.0,0.0,0.0,477.0,0.0,0.0,0.0,1403.0,0.0,30.0,0.0,0.0,41.0,0.0,0.0,0.0,0.0,0.0,0.0,49.0,0.0,0.0,0.0,0.0,0.0,0.0,0.0,0.0,0.0,336.0,0.0,435.0,0.0,1.0,0.0,64.0,0.0,963.0,0.0,462.0,0.0,0.0,0.0,0.0,0.0,0.0,0.0,0.0,0.0,0.0,0.0,0.0,781.0,0.0,86.0,163.0,9.0,0.0,2.0,0.0,0.0,0.0,0.0,0.0,0.0,0.0,1214.0,44.0,0.0,289.0,0.0,0.0,0.0,0.0,0.0,0.0,0.0,4210.0,1.0,0.0,0.0,0.0,324.0,0.0,1.0,0.0,341.0,52.0,725.0,0.0,857.0,0.0,1.0,0.0,0.0,0.0,1997.0,0.0,0.0,0.0,0.0,0.0,112.0,0.0,29.0,0.0,0.0,0.0,0.0,1004.0,1.0,0.0,0.0,32.0,0.0,0.0,0.0,0.0,0.0,1161.0,0.0,8243.0,0.0,0.0,39.0,0.0,2.0,244.0,0.0,0.0,188.0,0.0,0.0,0.0,0.0,0.0,65.0,null,319.0,0.0,0.0,770.0,18.0,49.0,1264.0,3784.0,0.0,0.0,0.0,0.0,490.0,0.0,0.0,0.0,21.0,590.0,0.0,870.0,null,0.0,3.0,53.0,0.0,11.0,2502.0,348.0,0.0,0.0,5327.0,0.0,59.0,686.0,1093.0,1914.0,0.0,114.0,0.0,129.0,0.0,0.0,0.0,387.0,487.0,0.0,0.0,0.0,0.0,3.0,0.0,0.0,0.0,0.0,3.0,0.0,0.0,5757.0,0.0,10.0,0.0,0.0,1042.0,0.0,1763.0,0.0,0.0,4.0,0.0,0.0,4.0,748.0,0.0,637.0,0.0,6.0,0.0,210.0,0.0,0.0,0.0,0.0,0.0,0.0,12.0,547.0,0.0,10.0,0.0,0.0,50.0,0.0,0.0,0.0,0.0,0.0,0.0,0.0,13.0,0.0,0.0,0.0,0.0,2.0,4.0,0.0,4.0,0.0,0.0,27.0,0.0,11.0,0.0,0.0,187.0,1234.0,9.0,135.0,0.0,1.0,0.0,0.0,0.0,2.0,1739.0,224.0,0.0,0.0,987.0,330.0,0.0,0.0,0.0,0.0,1455.0,133.0,0.0,1146.0,0.0,0.0,2048.0,20.0,0.0,1.0,0.0,0.0,0.0,3.0,0.0,0.0,777.0,0.0,0.0,0.0,200.0,0.0,345.0,125.0,886.0,450.0,0.0,909.0,733.0,0.0,806.0,0.0,949.0,0.0,506.0,0.0,1.0,21.0,0.0,4924.0,0.0,null,368.0,0.0,0.0,51.0,1.0,0.0,0.0,0.0,0.0,0.0,0.0,0.0,0.0,76.0,0.0,217.0,203.0,84.0,0.0,2239.0,679.0,0.0,312.0,0.0,1584.0,426.0,139.0,0.0,0.0,0.0,0.0,0.0,0.0,2002.0,32.0,34.0,258.0,694.0,1254.0,647.0,0.0,0.0,266.0,0.0,354.0,null,193.0,22.0,null,227.0,0.0,null,0.0,0.0,4.0,179.0,1613.0,947.0,24.0,0.0,2758.0,0.0,22.0,0.0,151.0,0.0,1.0,520.0,74.0,804.0,32.0,0.0,0.0,1.0,0.0,0.0,476.0,0.0,0.0,0.0,0.0,0.0,0.0,0.0,257.0,0.0,0.0,2.0,0.0,0.0,0.0,697.0,0.0,874.0,0.0,0.0,11.0,0.0,0.0,698.0,0.0,0.0,0.0,588.0,null,0.0,63.0,0.0,14.0,0.0,0.0,1771.0,0.0,10.0,0.0,570.0,81.0,0.0,0.0,0.0,0.0,0.0,413.0,0.0,0.0,0.0,0.0,0.0,0.0,586.0,0.0,857.0,0.0,198.0,0.0,0.0,128.0,0.0,1212.0,1369.0,1384.0,88.0,0.0,230.0,0.0,0.0,0.0,4.0,0.0,903.0,0.0,0.0,0.0,0.0,3.0,null,0.0,735.0,0.0,1037.0,0.0,1032.0,0.0,22.0,726.0,0.0,0.0,0.0,0.0,0.0,0.0,1054.0,0.0,0.0,0.0,0.0,0.0,0.0,0.0,0.0,121.0,0.0,0.0,0.0,0.0,0.0,null,0.0,0.0,0.0,0.0,0.0,0.0,0.0,1471.0,876.0,0.0,0.0,0.0,0.0,0.0,1186.0,0.0,0.0,0.0,0.0,0.0,0.0,23.0,0.0,16.0,0.0,522.0,0.0,720.0,0.0,0.0,0.0,0.0,0.0,0.0,0.0,0.0,0.0,0.0,0.0,0.0,0.0,0.0,0.0,771.0,1.0,528.0,1737.0,0.0,null,0.0,327.0,null,3036.0,0.0,0.0,0.0,1806.0,0.0,0.0,0.0,0.0,194.0,0.0,0.0,0.0,0.0,0.0,null,0.0,0.0,0.0,0.0,1708.0,0.0,0.0,1231.0,13.0,0.0,0.0,null,0.0,0.0,503.0,1.0,1.0,324.0,24.0,311.0,0.0,42.0,0.0,0.0,0.0,0.0,0.0,0.0,0.0,0.0,0.0,null,0.0,0.0,0.0,0.0,0.0,80.0,479.0,32.0,2101.0,0.0,604.0,0.0,null,2555.0,0.0,2.0,0.0,0.0,0.0,0.0,0.0,0.0,0.0,2.0,224.0,128.0,38.0,0.0,0.0,3.0,0.0,304.0,0.0,522.0,1297.0,0.0,63.0,null,1.0,3146.0,1954.0,0.0,0.0,0.0,0.0,0.0,0.0,0.0,0.0,266.0,0.0,1410.0,0.0,0.0,0.0,0.0,0.0,6899.0,0.0,0.0,0.0,1006.0,132.0,0.0,866.0,0.0,887.0,815.0,1269.0,1062.0,0.0,0.0,0.0,0.0,0.0,0.0,0.0,160.0,455.0,24.0,0.0,0.0,0.0,0.0,0.0,0.0,0.0,0.0,0.0,23.0,0.0,0.0,1.0,34.0,0.0,0.0,0.0,0.0,0.0,0.0,0.0,0.0,1258.0,0.0,11.0,0.0,866.0,0.0,0.0,0.0,8.0,0.0,null,3402.0,0.0,1736.0,0.0,0.0,15.0,0.0,1478.0,null,0.0,1215.0,0.0,0.0,37.0,0.0,101.0,0.0,733.0,0.0,0.0,0.0,0.0,794.0,0.0,0.0,0.0,0.0,0.0,2575.0,1789.0,590.0,6.0,3.0,410.0,0.0,0.0,83.0,1.0,0.0,0.0,0.0,0.0,1.0,0.0,0.0,0.0,0.0,0.0,0.0,0.0,0.0,0.0,0.0,0.0,169.0,640.0,0.0,0.0,0.0,574.0,9.0,0.0,23.0,0.0,48.0,1060.0,724.0,0.0,65.0,0.0,0.0,49.0,0.0,459.0,0.0,0.0,148.0,270.0,0.0,0.0,698.0,0.0,0.0,87.0,802.0,null,0.0,0.0,1003.0,0.0,0.0,0.0,1.0,381.0,0.0,0.0,0.0,1569.0,0.0,0.0,8586.0,0.0,0.0,0.0,0.0,0.0,757.0,0.0,0.0,15.0,0.0,0.0,6.0,2.0,0.0,623.0,0.0,0.0,745.0,1.0,676.0,0.0,0.0,0.0,0.0,0.0,0.0,0.0,0.0,0.0,3.0,6.0,8.0,0.0,2.0,699.0,102.0,0.0,0.0,0.0,28.0,0.0,0.0,0.0,0.0,0.0,0.0,0.0,39.0,1030.0,0.0,0.0,0.0,0.0,0.0,0.0,240.0,86.0,0.0,0.0,1.0,0.0,0.0,0.0,0.0,0.0,126.0],\"xaxis\":\"x\",\"yaxis\":\"y\",\"type\":\"histogram\"}],                        {\"template\":{\"data\":{\"histogram2dcontour\":[{\"type\":\"histogram2dcontour\",\"colorbar\":{\"outlinewidth\":0,\"ticks\":\"\"},\"colorscale\":[[0.0,\"#0d0887\"],[0.1111111111111111,\"#46039f\"],[0.2222222222222222,\"#7201a8\"],[0.3333333333333333,\"#9c179e\"],[0.4444444444444444,\"#bd3786\"],[0.5555555555555556,\"#d8576b\"],[0.6666666666666666,\"#ed7953\"],[0.7777777777777778,\"#fb9f3a\"],[0.8888888888888888,\"#fdca26\"],[1.0,\"#f0f921\"]]}],\"choropleth\":[{\"type\":\"choropleth\",\"colorbar\":{\"outlinewidth\":0,\"ticks\":\"\"}}],\"histogram2d\":[{\"type\":\"histogram2d\",\"colorbar\":{\"outlinewidth\":0,\"ticks\":\"\"},\"colorscale\":[[0.0,\"#0d0887\"],[0.1111111111111111,\"#46039f\"],[0.2222222222222222,\"#7201a8\"],[0.3333333333333333,\"#9c179e\"],[0.4444444444444444,\"#bd3786\"],[0.5555555555555556,\"#d8576b\"],[0.6666666666666666,\"#ed7953\"],[0.7777777777777778,\"#fb9f3a\"],[0.8888888888888888,\"#fdca26\"],[1.0,\"#f0f921\"]]}],\"heatmap\":[{\"type\":\"heatmap\",\"colorbar\":{\"outlinewidth\":0,\"ticks\":\"\"},\"colorscale\":[[0.0,\"#0d0887\"],[0.1111111111111111,\"#46039f\"],[0.2222222222222222,\"#7201a8\"],[0.3333333333333333,\"#9c179e\"],[0.4444444444444444,\"#bd3786\"],[0.5555555555555556,\"#d8576b\"],[0.6666666666666666,\"#ed7953\"],[0.7777777777777778,\"#fb9f3a\"],[0.8888888888888888,\"#fdca26\"],[1.0,\"#f0f921\"]]}],\"heatmapgl\":[{\"type\":\"heatmapgl\",\"colorbar\":{\"outlinewidth\":0,\"ticks\":\"\"},\"colorscale\":[[0.0,\"#0d0887\"],[0.1111111111111111,\"#46039f\"],[0.2222222222222222,\"#7201a8\"],[0.3333333333333333,\"#9c179e\"],[0.4444444444444444,\"#bd3786\"],[0.5555555555555556,\"#d8576b\"],[0.6666666666666666,\"#ed7953\"],[0.7777777777777778,\"#fb9f3a\"],[0.8888888888888888,\"#fdca26\"],[1.0,\"#f0f921\"]]}],\"contourcarpet\":[{\"type\":\"contourcarpet\",\"colorbar\":{\"outlinewidth\":0,\"ticks\":\"\"}}],\"contour\":[{\"type\":\"contour\",\"colorbar\":{\"outlinewidth\":0,\"ticks\":\"\"},\"colorscale\":[[0.0,\"#0d0887\"],[0.1111111111111111,\"#46039f\"],[0.2222222222222222,\"#7201a8\"],[0.3333333333333333,\"#9c179e\"],[0.4444444444444444,\"#bd3786\"],[0.5555555555555556,\"#d8576b\"],[0.6666666666666666,\"#ed7953\"],[0.7777777777777778,\"#fb9f3a\"],[0.8888888888888888,\"#fdca26\"],[1.0,\"#f0f921\"]]}],\"surface\":[{\"type\":\"surface\",\"colorbar\":{\"outlinewidth\":0,\"ticks\":\"\"},\"colorscale\":[[0.0,\"#0d0887\"],[0.1111111111111111,\"#46039f\"],[0.2222222222222222,\"#7201a8\"],[0.3333333333333333,\"#9c179e\"],[0.4444444444444444,\"#bd3786\"],[0.5555555555555556,\"#d8576b\"],[0.6666666666666666,\"#ed7953\"],[0.7777777777777778,\"#fb9f3a\"],[0.8888888888888888,\"#fdca26\"],[1.0,\"#f0f921\"]]}],\"mesh3d\":[{\"type\":\"mesh3d\",\"colorbar\":{\"outlinewidth\":0,\"ticks\":\"\"}}],\"scatter\":[{\"fillpattern\":{\"fillmode\":\"overlay\",\"size\":10,\"solidity\":0.2},\"type\":\"scatter\"}],\"parcoords\":[{\"type\":\"parcoords\",\"line\":{\"colorbar\":{\"outlinewidth\":0,\"ticks\":\"\"}}}],\"scatterpolargl\":[{\"type\":\"scatterpolargl\",\"marker\":{\"colorbar\":{\"outlinewidth\":0,\"ticks\":\"\"}}}],\"bar\":[{\"error_x\":{\"color\":\"#2a3f5f\"},\"error_y\":{\"color\":\"#2a3f5f\"},\"marker\":{\"line\":{\"color\":\"#E5ECF6\",\"width\":0.5},\"pattern\":{\"fillmode\":\"overlay\",\"size\":10,\"solidity\":0.2}},\"type\":\"bar\"}],\"scattergeo\":[{\"type\":\"scattergeo\",\"marker\":{\"colorbar\":{\"outlinewidth\":0,\"ticks\":\"\"}}}],\"scatterpolar\":[{\"type\":\"scatterpolar\",\"marker\":{\"colorbar\":{\"outlinewidth\":0,\"ticks\":\"\"}}}],\"histogram\":[{\"marker\":{\"pattern\":{\"fillmode\":\"overlay\",\"size\":10,\"solidity\":0.2}},\"type\":\"histogram\"}],\"scattergl\":[{\"type\":\"scattergl\",\"marker\":{\"colorbar\":{\"outlinewidth\":0,\"ticks\":\"\"}}}],\"scatter3d\":[{\"type\":\"scatter3d\",\"line\":{\"colorbar\":{\"outlinewidth\":0,\"ticks\":\"\"}},\"marker\":{\"colorbar\":{\"outlinewidth\":0,\"ticks\":\"\"}}}],\"scattermapbox\":[{\"type\":\"scattermapbox\",\"marker\":{\"colorbar\":{\"outlinewidth\":0,\"ticks\":\"\"}}}],\"scatterternary\":[{\"type\":\"scatterternary\",\"marker\":{\"colorbar\":{\"outlinewidth\":0,\"ticks\":\"\"}}}],\"scattercarpet\":[{\"type\":\"scattercarpet\",\"marker\":{\"colorbar\":{\"outlinewidth\":0,\"ticks\":\"\"}}}],\"carpet\":[{\"aaxis\":{\"endlinecolor\":\"#2a3f5f\",\"gridcolor\":\"white\",\"linecolor\":\"white\",\"minorgridcolor\":\"white\",\"startlinecolor\":\"#2a3f5f\"},\"baxis\":{\"endlinecolor\":\"#2a3f5f\",\"gridcolor\":\"white\",\"linecolor\":\"white\",\"minorgridcolor\":\"white\",\"startlinecolor\":\"#2a3f5f\"},\"type\":\"carpet\"}],\"table\":[{\"cells\":{\"fill\":{\"color\":\"#EBF0F8\"},\"line\":{\"color\":\"white\"}},\"header\":{\"fill\":{\"color\":\"#C8D4E3\"},\"line\":{\"color\":\"white\"}},\"type\":\"table\"}],\"barpolar\":[{\"marker\":{\"line\":{\"color\":\"#E5ECF6\",\"width\":0.5},\"pattern\":{\"fillmode\":\"overlay\",\"size\":10,\"solidity\":0.2}},\"type\":\"barpolar\"}],\"pie\":[{\"automargin\":true,\"type\":\"pie\"}]},\"layout\":{\"autotypenumbers\":\"strict\",\"colorway\":[\"#636efa\",\"#EF553B\",\"#00cc96\",\"#ab63fa\",\"#FFA15A\",\"#19d3f3\",\"#FF6692\",\"#B6E880\",\"#FF97FF\",\"#FECB52\"],\"font\":{\"color\":\"#2a3f5f\"},\"hovermode\":\"closest\",\"hoverlabel\":{\"align\":\"left\"},\"paper_bgcolor\":\"white\",\"plot_bgcolor\":\"#E5ECF6\",\"polar\":{\"bgcolor\":\"#E5ECF6\",\"angularaxis\":{\"gridcolor\":\"white\",\"linecolor\":\"white\",\"ticks\":\"\"},\"radialaxis\":{\"gridcolor\":\"white\",\"linecolor\":\"white\",\"ticks\":\"\"}},\"ternary\":{\"bgcolor\":\"#E5ECF6\",\"aaxis\":{\"gridcolor\":\"white\",\"linecolor\":\"white\",\"ticks\":\"\"},\"baxis\":{\"gridcolor\":\"white\",\"linecolor\":\"white\",\"ticks\":\"\"},\"caxis\":{\"gridcolor\":\"white\",\"linecolor\":\"white\",\"ticks\":\"\"}},\"coloraxis\":{\"colorbar\":{\"outlinewidth\":0,\"ticks\":\"\"}},\"colorscale\":{\"sequential\":[[0.0,\"#0d0887\"],[0.1111111111111111,\"#46039f\"],[0.2222222222222222,\"#7201a8\"],[0.3333333333333333,\"#9c179e\"],[0.4444444444444444,\"#bd3786\"],[0.5555555555555556,\"#d8576b\"],[0.6666666666666666,\"#ed7953\"],[0.7777777777777778,\"#fb9f3a\"],[0.8888888888888888,\"#fdca26\"],[1.0,\"#f0f921\"]],\"sequentialminus\":[[0.0,\"#0d0887\"],[0.1111111111111111,\"#46039f\"],[0.2222222222222222,\"#7201a8\"],[0.3333333333333333,\"#9c179e\"],[0.4444444444444444,\"#bd3786\"],[0.5555555555555556,\"#d8576b\"],[0.6666666666666666,\"#ed7953\"],[0.7777777777777778,\"#fb9f3a\"],[0.8888888888888888,\"#fdca26\"],[1.0,\"#f0f921\"]],\"diverging\":[[0,\"#8e0152\"],[0.1,\"#c51b7d\"],[0.2,\"#de77ae\"],[0.3,\"#f1b6da\"],[0.4,\"#fde0ef\"],[0.5,\"#f7f7f7\"],[0.6,\"#e6f5d0\"],[0.7,\"#b8e186\"],[0.8,\"#7fbc41\"],[0.9,\"#4d9221\"],[1,\"#276419\"]]},\"xaxis\":{\"gridcolor\":\"white\",\"linecolor\":\"white\",\"ticks\":\"\",\"title\":{\"standoff\":15},\"zerolinecolor\":\"white\",\"automargin\":true,\"zerolinewidth\":2},\"yaxis\":{\"gridcolor\":\"white\",\"linecolor\":\"white\",\"ticks\":\"\",\"title\":{\"standoff\":15},\"zerolinecolor\":\"white\",\"automargin\":true,\"zerolinewidth\":2},\"scene\":{\"xaxis\":{\"backgroundcolor\":\"#E5ECF6\",\"gridcolor\":\"white\",\"linecolor\":\"white\",\"showbackground\":true,\"ticks\":\"\",\"zerolinecolor\":\"white\",\"gridwidth\":2},\"yaxis\":{\"backgroundcolor\":\"#E5ECF6\",\"gridcolor\":\"white\",\"linecolor\":\"white\",\"showbackground\":true,\"ticks\":\"\",\"zerolinecolor\":\"white\",\"gridwidth\":2},\"zaxis\":{\"backgroundcolor\":\"#E5ECF6\",\"gridcolor\":\"white\",\"linecolor\":\"white\",\"showbackground\":true,\"ticks\":\"\",\"zerolinecolor\":\"white\",\"gridwidth\":2}},\"shapedefaults\":{\"line\":{\"color\":\"#2a3f5f\"}},\"annotationdefaults\":{\"arrowcolor\":\"#2a3f5f\",\"arrowhead\":0,\"arrowwidth\":1},\"geo\":{\"bgcolor\":\"white\",\"landcolor\":\"#E5ECF6\",\"subunitcolor\":\"white\",\"showland\":true,\"showlakes\":true,\"lakecolor\":\"white\"},\"title\":{\"x\":0.05},\"mapbox\":{\"style\":\"light\"}}},\"xaxis\":{\"anchor\":\"y\",\"domain\":[0.0,1.0],\"title\":{\"text\":\"RoomService\"}},\"yaxis\":{\"anchor\":\"x\",\"domain\":[0.0,1.0],\"title\":{\"text\":\"Frequency\"}},\"legend\":{\"tracegroupgap\":0},\"margin\":{\"t\":60},\"barmode\":\"relative\",\"title\":{\"text\":\"Histogram of RoomService\"}},                        {\"responsive\": true}                    ).then(function(){\n",
       "                            \n",
       "var gd = document.getElementById('0f62bdf6-5523-4168-b2bd-207e2332510c');\n",
       "var x = new MutationObserver(function (mutations, observer) {{\n",
       "        var display = window.getComputedStyle(gd).display;\n",
       "        if (!display || display === 'none') {{\n",
       "            console.log([gd, 'removed!']);\n",
       "            Plotly.purge(gd);\n",
       "            observer.disconnect();\n",
       "        }}\n",
       "}});\n",
       "\n",
       "// Listen for the removal of the full notebook cells\n",
       "var notebookContainer = gd.closest('#notebook-container');\n",
       "if (notebookContainer) {{\n",
       "    x.observe(notebookContainer, {childList: true});\n",
       "}}\n",
       "\n",
       "// Listen for the clearing of the current output cell\n",
       "var outputEl = gd.closest('.output');\n",
       "if (outputEl) {{\n",
       "    x.observe(outputEl, {childList: true});\n",
       "}}\n",
       "\n",
       "                        })                };                            </script>        </div>\n",
       "</body>\n",
       "</html>"
      ]
     },
     "metadata": {},
     "output_type": "display_data"
    },
    {
     "data": {
      "text/html": [
       "<html>\n",
       "<head><meta charset=\"utf-8\" /></head>\n",
       "<body>\n",
       "    <div>            <script src=\"https://cdnjs.cloudflare.com/ajax/libs/mathjax/2.7.5/MathJax.js?config=TeX-AMS-MML_SVG\"></script><script type=\"text/javascript\">if (window.MathJax && window.MathJax.Hub && window.MathJax.Hub.Config) {window.MathJax.Hub.Config({SVG: {font: \"STIX-Web\"}});}</script>                <script type=\"text/javascript\">window.PlotlyConfig = {MathJaxConfig: 'local'};</script>\n",
       "        <script charset=\"utf-8\" src=\"https://cdn.plot.ly/plotly-2.35.2.min.js\"></script>                <div id=\"7a9dac3f-da2e-4241-afc5-9babea96f955\" class=\"plotly-graph-div\" style=\"height:525px; width:100%;\"></div>            <script type=\"text/javascript\">                                    window.PLOTLYENV=window.PLOTLYENV || {};                                    if (document.getElementById(\"7a9dac3f-da2e-4241-afc5-9babea96f955\")) {                    Plotly.newPlot(                        \"7a9dac3f-da2e-4241-afc5-9babea96f955\",                        [{\"alignmentgroup\":\"True\",\"bingroup\":\"x\",\"hovertemplate\":\"FoodCourt=%{x}\\u003cbr\\u003ecount=%{y}\\u003cextra\\u003e\\u003c\\u002fextra\\u003e\",\"legendgroup\":\"\",\"marker\":{\"color\":\"#636efa\",\"pattern\":{\"shape\":\"\"}},\"name\":\"\",\"nbinsx\":30,\"offsetgroup\":\"\",\"orientation\":\"v\",\"showlegend\":false,\"x\":[0.0,9.0,3576.0,1283.0,70.0,483.0,1539.0,0.0,785.0,0.0,0.0,7295.0,0.0,1.0,974.0,0.0,122.0,1.0,0.0,0.0,0.0,0.0,0.0,0.0,0.0,0.0,0.0,2.0,0.0,225.0,6073.0,0.0,850.0,0.0,0.0,0.0,0.0,964.0,492.0,195.0,0.0,0.0,164.0,0.0,0.0,0.0,0.0,0.0,0.0,112.0,0.0,0.0,0.0,0.0,605.0,0.0,1096.0,592.0,0.0,0.0,153.0,0.0,258.0,37.0,0.0,0.0,0.0,2165.0,1.0,83.0,8397.0,0.0,0.0,5840.0,0.0,0.0,0.0,0.0,0.0,0.0,0.0,0.0,0.0,0.0,697.0,0.0,0.0,0.0,1208.0,856.0,2811.0,427.0,0.0,0.0,0.0,null,0.0,0.0,0.0,5.0,0.0,0.0,0.0,410.0,331.0,11418.0,0.0,0.0,2537.0,0.0,157.0,0.0,2223.0,2344.0,0.0,0.0,0.0,597.0,0.0,0.0,334.0,6.0,0.0,0.0,0.0,14.0,418.0,0.0,22.0,0.0,0.0,0.0,0.0,420.0,0.0,0.0,0.0,0.0,0.0,0.0,0.0,0.0,0.0,1688.0,0.0,0.0,0.0,0.0,0.0,0.0,0.0,0.0,985.0,0.0,10346.0,0.0,219.0,0.0,0.0,0.0,0.0,146.0,0.0,0.0,3.0,0.0,0.0,0.0,0.0,0.0,0.0,0.0,0.0,0.0,972.0,0.0,0.0,0.0,0.0,0.0,0.0,2433.0,0.0,2.0,1720.0,0.0,0.0,1.0,0.0,0.0,0.0,188.0,281.0,56.0,0.0,0.0,0.0,0.0,0.0,84.0,3.0,0.0,0.0,0.0,80.0,12.0,0.0,0.0,0.0,0.0,0.0,0.0,0.0,2.0,0.0,0.0,7.0,0.0,null,0.0,888.0,0.0,0.0,0.0,1249.0,1.0,0.0,0.0,0.0,3571.0,86.0,0.0,1.0,0.0,0.0,695.0,615.0,172.0,0.0,0.0,0.0,0.0,4810.0,29.0,0.0,0.0,0.0,231.0,25.0,0.0,2390.0,0.0,97.0,0.0,918.0,0.0,654.0,0.0,0.0,1281.0,0.0,587.0,0.0,0.0,4458.0,0.0,0.0,0.0,6500.0,0.0,2.0,0.0,0.0,0.0,0.0,422.0,584.0,175.0,0.0,0.0,230.0,540.0,0.0,0.0,0.0,0.0,0.0,2628.0,0.0,2.0,5.0,0.0,0.0,0.0,0.0,0.0,0.0,4651.0,317.0,0.0,0.0,2.0,1.0,0.0,349.0,0.0,0.0,0.0,0.0,0.0,0.0,0.0,0.0,2876.0,0.0,0.0,0.0,0.0,0.0,1198.0,0.0,0.0,0.0,212.0,36.0,0.0,107.0,0.0,0.0,95.0,0.0,5.0,0.0,0.0,0.0,1068.0,215.0,0.0,235.0,0.0,0.0,2491.0,0.0,0.0,0.0,0.0,0.0,0.0,773.0,0.0,0.0,0.0,747.0,0.0,0.0,44.0,5728.0,111.0,11003.0,608.0,0.0,0.0,420.0,0.0,0.0,0.0,896.0,null,21.0,465.0,0.0,113.0,0.0,150.0,0.0,7255.0,157.0,0.0,0.0,1170.0,0.0,3584.0,2.0,0.0,0.0,null,4118.0,10116.0,0.0,1026.0,0.0,10.0,0.0,891.0,0.0,0.0,0.0,11.0,0.0,0.0,0.0,5637.0,0.0,1043.0,429.0,0.0,0.0,0.0,0.0,0.0,0.0,0.0,0.0,0.0,0.0,0.0,0.0,4288.0,0.0,0.0,185.0,0.0,0.0,0.0,0.0,0.0,0.0,869.0,70.0,0.0,0.0,0.0,852.0,10.0,654.0,0.0,0.0,0.0,0.0,45.0,7972.0,10.0,0.0,0.0,6.0,0.0,0.0,5.0,34.0,0.0,118.0,14.0,33.0,1794.0,0.0,0.0,null,0.0,0.0,0.0,0.0,929.0,0.0,0.0,0.0,35.0,0.0,0.0,0.0,1737.0,0.0,0.0,0.0,0.0,16521.0,5755.0,0.0,0.0,0.0,2492.0,0.0,0.0,0.0,null,263.0,0.0,213.0,0.0,11.0,0.0,1119.0,0.0,0.0,0.0,0.0,715.0,1308.0,5.0,1073.0,0.0,0.0,0.0,0.0,1793.0,0.0,0.0,0.0,0.0,691.0,15.0,86.0,0.0,0.0,12.0,0.0,0.0,0.0,6506.0,0.0,165.0,1428.0,12.0,0.0,0.0,293.0,0.0,642.0,0.0,0.0,410.0,0.0,0.0,0.0,33.0,0.0,334.0,5085.0,0.0,0.0,0.0,0.0,0.0,1542.0,0.0,0.0,809.0,0.0,null,0.0,790.0,233.0,0.0,0.0,0.0,0.0,0.0,0.0,0.0,0.0,0.0,0.0,25.0,0.0,1.0,2.0,0.0,152.0,0.0,4.0,0.0,0.0,0.0,0.0,0.0,null,0.0,0.0,3385.0,0.0,0.0,0.0,0.0,654.0,3113.0,1111.0,0.0,0.0,null,0.0,0.0,0.0,0.0,0.0,0.0,0.0,368.0,0.0,0.0,0.0,0.0,0.0,0.0,0.0,0.0,1496.0,1778.0,0.0,7.0,0.0,0.0,0.0,123.0,0.0,3344.0,4967.0,0.0,0.0,0.0,266.0,0.0,0.0,0.0,0.0,0.0,0.0,0.0,0.0,2.0,0.0,863.0,8.0,576.0,0.0,0.0,2506.0,525.0,0.0,0.0,0.0,25.0,530.0,0.0,0.0,0.0,0.0,0.0,215.0,0.0,0.0,0.0,0.0,96.0,0.0,0.0,0.0,922.0,0.0,0.0,0.0,0.0,0.0,0.0,0.0,0.0,0.0,0.0,3488.0,581.0,0.0,0.0,0.0,0.0,237.0,0.0,0.0,0.0,0.0,4949.0,null,0.0,0.0,0.0,0.0,2.0,0.0,0.0,0.0,0.0,0.0,0.0,0.0,0.0,0.0,0.0,23.0,0.0,0.0,0.0,781.0,714.0,38.0,2.0,0.0,835.0,0.0,16.0,0.0,3425.0,0.0,0.0,142.0,0.0,1344.0,0.0,0.0,0.0,287.0,0.0,0.0,3879.0,0.0,0.0,0.0,0.0,6.0,12180.0,0.0,0.0,0.0,715.0,0.0,0.0,0.0,0.0,0.0,16.0,0.0,0.0,0.0,4.0,2.0,3004.0,2.0,33.0,0.0,0.0,0.0,0.0,0.0,0.0,166.0,142.0,0.0,0.0,0.0,0.0,0.0,0.0,0.0,0.0,0.0,0.0,3462.0,0.0,13248.0,0.0,0.0,110.0,0.0,42.0,0.0,0.0,0.0,0.0,0.0,0.0,1.0,284.0,0.0,0.0,0.0,59.0,0.0,561.0,0.0,0.0,0.0,0.0,653.0,0.0,2.0,0.0,5.0,0.0,0.0,0.0,701.0,179.0,1111.0,2956.0,0.0,0.0,0.0,0.0,0.0,0.0,378.0,0.0,0.0,7.0,0.0,0.0,0.0,null,0.0,850.0,0.0,0.0,473.0,4754.0,0.0,162.0,0.0,687.0,0.0,0.0,0.0,3.0,5.0,0.0,0.0,0.0,12804.0,null,0.0,0.0,0.0,0.0,0.0,124.0,0.0,2792.0,0.0,388.0,5738.0,1736.0,0.0,0.0,0.0,7461.0,172.0,0.0,0.0,84.0,0.0,0.0,1095.0,7767.0,0.0,0.0,0.0,0.0,null,7992.0,760.0,null,0.0,0.0,0.0,null,0.0,12045.0,1127.0,11.0,0.0,0.0,0.0,0.0,741.0,7.0,0.0,0.0,0.0,5.0,474.0,0.0,0.0,0.0,306.0,0.0,631.0,0.0,0.0,885.0,0.0,0.0,0.0,0.0,0.0,0.0,0.0,0.0,314.0,317.0,0.0,32.0,0.0,0.0,null,0.0,1.0,0.0,0.0,0.0,11.0,0.0,0.0,0.0,0.0,0.0,3.0,784.0,0.0,541.0,0.0,2727.0,942.0,1736.0,300.0,0.0,791.0,0.0,0.0,1.0,0.0,0.0,7447.0,0.0,0.0,0.0,0.0,0.0,0.0,0.0,0.0,0.0,0.0,0.0,0.0,4.0,0.0,0.0,0.0,0.0,131.0,15.0,0.0,1410.0,0.0,6.0,12.0,0.0,5.0,0.0,0.0,0.0,0.0,0.0,0.0,0.0,0.0,0.0,84.0,0.0,0.0,0.0,0.0,null,306.0,162.0,0.0,0.0,0.0,2349.0,0.0,0.0,537.0,0.0,0.0,447.0,0.0,0.0,0.0,0.0,0.0,0.0,0.0,20.0,773.0,3262.0,null,0.0,0.0,0.0,1328.0,0.0,0.0,0.0,113.0,709.0,0.0,null,0.0,0.0,0.0,0.0,1.0,0.0,0.0,0.0,0.0,0.0,0.0,0.0,0.0,565.0,0.0,59.0,2.0,0.0,0.0,0.0,78.0,355.0,0.0,0.0,271.0,0.0,0.0,0.0,0.0,24.0,6138.0,4076.0,0.0,0.0,0.0,0.0,0.0,3011.0,0.0,0.0,46.0,402.0,0.0,0.0,0.0,3.0,0.0,0.0,0.0,1755.0,143.0,0.0,0.0,0.0,0.0,0.0,0.0,97.0,0.0,0.0,null,122.0,5225.0,5212.0,0.0,0.0,841.0,0.0,0.0,0.0,0.0,0.0,0.0,0.0,0.0,null,0.0,0.0,799.0,0.0,2987.0,0.0,11330.0,1291.0,1847.0,1328.0,7201.0,333.0,0.0,0.0,3564.0,0.0,58.0,0.0,0.0,592.0,0.0,0.0,0.0,0.0,0.0,null,0.0,0.0,1356.0,0.0,0.0,0.0,0.0,33.0,0.0,575.0,0.0,0.0,4227.0,243.0,0.0,670.0,0.0,0.0,558.0,122.0,1116.0,0.0,5473.0,8.0,0.0,0.0,510.0,0.0,0.0,0.0,0.0,212.0,0.0,0.0,1.0,null,0.0,0.0,905.0,0.0,592.0,0.0,0.0,493.0,0.0,1311.0,0.0,0.0,0.0,34.0,0.0,0.0,42.0,0.0,0.0,393.0,43.0,1026.0,0.0,13.0,185.0,4677.0,4224.0,69.0,192.0,null,17.0,0.0,0.0,0.0,0.0,0.0,3628.0,0.0,0.0,3106.0,1.0,1.0,0.0,0.0,0.0,0.0,0.0,0.0,0.0,178.0,0.0,0.0,null,null,415.0,0.0,0.0,0.0,0.0,0.0,0.0,0.0,59.0,27723.0,368.0,0.0,0.0,0.0,0.0,0.0,0.0,299.0,50.0,0.0,0.0,0.0,0.0,0.0,0.0,3863.0,0.0,0.0,0.0,3300.0,439.0,0.0,4.0,987.0,0.0,47.0,4.0,0.0,0.0,847.0,0.0,0.0,0.0,0.0,0.0,0.0,0.0,160.0,0.0,0.0,0.0,0.0,0.0,8.0,0.0,0.0,486.0,0.0,0.0,14.0,0.0,118.0,0.0,761.0,1531.0,0.0,0.0,2.0,106.0,0.0,0.0,782.0,0.0,0.0,0.0,0.0,0.0,39.0,0.0,997.0,1268.0,2381.0,0.0,null,0.0,0.0,466.0,0.0,3.0,0.0,2801.0,41.0,0.0,30.0,21.0,0.0,1125.0,0.0,0.0,0.0,442.0,0.0,510.0,3.0,0.0,0.0,0.0,0.0,0.0,79.0,2.0,0.0,0.0,0.0,190.0,508.0,0.0,0.0,0.0,0.0,0.0,0.0,734.0,51.0,0.0,4.0,222.0,770.0,567.0,0.0,0.0,0.0,null,0.0,184.0,0.0,0.0,6153.0,0.0,0.0,0.0,0.0,0.0,2147.0,0.0,4380.0,0.0,0.0,0.0,0.0,0.0,0.0,0.0,200.0,0.0,0.0,0.0,258.0,0.0,0.0,20.0,224.0,186.0,100.0,1826.0,0.0,0.0,1248.0,0.0,0.0,0.0,138.0,484.0,0.0,251.0,0.0,1646.0,774.0,0.0,2838.0,801.0,13561.0,0.0,2509.0,0.0,533.0,2732.0,368.0,0.0,905.0,0.0,null,0.0,414.0,287.0,1.0,0.0,0.0,19.0,0.0,0.0,1.0,0.0,0.0,0.0,304.0,0.0,51.0,0.0,0.0,495.0,0.0,0.0,0.0,55.0,0.0,184.0,0.0,0.0,216.0,0.0,0.0,24.0,0.0,1.0,0.0,490.0,0.0,0.0,null,0.0,2345.0,2121.0,0.0,0.0,0.0,null,0.0,0.0,1269.0,null,0.0,0.0,673.0,7069.0,0.0,0.0,31.0,0.0,0.0,3782.0,470.0,7139.0,170.0,7.0,0.0,0.0,0.0,0.0,0.0,0.0,0.0,230.0,2376.0,1376.0,0.0,1389.0,15.0,1.0,0.0,0.0,0.0,1519.0,0.0,100.0,0.0,0.0,17.0,0.0,0.0,0.0,169.0,24.0,1819.0,0.0,0.0,0.0,0.0,0.0,0.0,0.0,0.0,17394.0,1336.0,26.0,3621.0,2127.0,51.0,3.0,4342.0,0.0,0.0,0.0,0.0,5.0,0.0,594.0,0.0,0.0,3.0,817.0,193.0,865.0,3750.0,0.0,9.0,0.0,0.0,0.0,0.0,1575.0,0.0,0.0,129.0,0.0,0.0,0.0,0.0,0.0,930.0,9.0,0.0,0.0,0.0,27.0,32.0,null,0.0,0.0,0.0,0.0,666.0,0.0,0.0,0.0,2.0,0.0,0.0,0.0,0.0,0.0,0.0,0.0,0.0,1303.0,null,807.0,160.0,0.0,0.0,82.0,1.0,0.0,62.0,0.0,2390.0,0.0,0.0,787.0,0.0,0.0,0.0,0.0,67.0,0.0,859.0,0.0,0.0,0.0,0.0,87.0,89.0,0.0,260.0,0.0,0.0,450.0,554.0,0.0,0.0,26.0,1234.0,null,0.0,760.0,13.0,0.0,574.0,0.0,4.0,0.0,1164.0,0.0,3.0,0.0,0.0,0.0,0.0,0.0,0.0,54.0,0.0,244.0,0.0,1.0,726.0,0.0,0.0,0.0,0.0,0.0,0.0,36.0,0.0,1563.0,201.0,0.0,0.0,0.0,0.0,0.0,0.0,808.0,108.0,0.0,0.0,0.0,0.0,0.0,13.0,478.0,1310.0,0.0,0.0,0.0,0.0,0.0,0.0,1.0,0.0,0.0,809.0,0.0,21.0,490.0,7.0,null,3240.0,0.0,0.0,0.0,0.0,782.0,3368.0,0.0,24.0,0.0,0.0,338.0,0.0,0.0,0.0,0.0,0.0,603.0,11026.0,0.0,null,0.0,0.0,0.0,94.0,2.0,0.0,0.0,275.0,639.0,0.0,0.0,0.0,0.0,0.0,0.0,169.0,0.0,0.0,0.0,3722.0,763.0,0.0,0.0,20.0,852.0,0.0,640.0,2334.0,0.0,0.0,4.0,811.0,68.0,231.0,94.0,1333.0,3578.0,6398.0,8882.0,4424.0,0.0,699.0,0.0,127.0,0.0,1218.0,0.0,153.0,0.0,0.0,0.0,0.0,317.0,0.0,0.0,316.0,0.0,0.0,13527.0,0.0,43.0,710.0,0.0,0.0,1.0,3441.0,0.0,415.0,0.0,22.0,0.0,0.0,0.0,0.0,60.0,0.0,0.0,0.0,1983.0,0.0,null,0.0,0.0,25.0,0.0,583.0,128.0,0.0,16263.0,0.0,0.0,3.0,88.0,0.0,0.0,0.0,0.0,0.0,809.0,841.0,748.0,10153.0,354.0,0.0,44.0,0.0,0.0,0.0,0.0,39.0,0.0,1810.0,0.0,652.0,51.0,0.0,79.0,0.0,0.0,2043.0,0.0,0.0,4286.0,0.0,0.0,0.0,0.0,0.0,0.0,0.0,0.0,877.0,0.0,0.0,10.0,0.0,0.0,444.0,0.0,0.0,0.0,0.0,0.0,0.0,0.0,0.0,0.0,0.0,382.0,433.0,0.0,0.0,6.0,361.0,0.0,0.0,0.0,869.0,0.0,0.0,21066.0,0.0,0.0,0.0,0.0,8037.0,3578.0,0.0,2972.0,0.0,0.0,0.0,0.0,0.0,0.0,0.0,5.0,0.0,602.0,0.0,3166.0,0.0,0.0,0.0,85.0,0.0,0.0,0.0,0.0,25.0,1670.0,1.0,2676.0,194.0,6.0,856.0,0.0,0.0,5734.0,0.0,0.0,0.0,0.0,0.0,865.0,0.0,18.0,5183.0,162.0,809.0,0.0,1535.0,0.0,0.0,4.0,1.0,0.0,6.0,0.0,75.0,133.0,0.0,0.0,0.0,0.0,0.0,0.0,0.0,0.0,0.0,1211.0,741.0,null,0.0,58.0,0.0,0.0,0.0,0.0,0.0,0.0,286.0,0.0,0.0,0.0,5063.0,0.0,0.0,0.0,0.0,0.0,0.0,1.0,3559.0,2406.0,0.0,3343.0,4081.0,0.0,0.0,911.0,0.0,20.0,10.0,0.0,590.0,4451.0,1342.0,0.0,717.0,0.0,2.0,0.0,null,0.0,0.0,0.0,0.0,0.0,0.0,11.0,10.0,0.0,0.0,1095.0,0.0,9314.0,0.0,0.0,0.0,0.0,2.0,0.0,593.0,305.0,0.0,0.0,0.0,8718.0,0.0,0.0,0.0,0.0,0.0,0.0,1.0,0.0,62.0,0.0,0.0,2.0,null,0.0,0.0,0.0,0.0,0.0,0.0,0.0,0.0,0.0,0.0,0.0,0.0,0.0,0.0,1433.0,0.0,0.0,951.0,0.0,226.0,0.0,0.0,0.0,0.0,0.0,25.0,820.0,402.0,0.0,0.0,0.0,0.0,0.0,220.0,0.0,0.0,0.0,0.0,774.0,0.0,0.0,0.0,3585.0,0.0,1935.0,0.0,59.0,0.0,236.0,421.0,0.0,0.0,0.0,0.0,0.0,280.0,32.0,4587.0,0.0,1180.0,654.0,1108.0,1968.0,0.0,0.0,0.0,0.0,14.0,0.0,20.0,0.0,2347.0,5.0,29813.0,2229.0,0.0,3206.0,0.0,0.0,0.0,86.0,600.0,0.0,0.0,329.0,416.0,14.0,1220.0,18.0,0.0,0.0,0.0,8.0,0.0,0.0,0.0,539.0,162.0,0.0,0.0,0.0,1109.0,483.0,1179.0,1.0,1368.0,32.0,10.0,0.0,0.0,0.0,3341.0,0.0,0.0,0.0,4.0,0.0,0.0,0.0,0.0,0.0,0.0,0.0,0.0,0.0,0.0,0.0,0.0,0.0,0.0,313.0,0.0,140.0,1064.0,0.0,544.0,302.0,1.0,746.0,0.0,0.0,0.0,37.0,0.0,8.0,0.0,412.0,0.0,null,22.0,0.0,null,0.0,3381.0,0.0,0.0,0.0,0.0,297.0,12077.0,0.0,428.0,0.0,2426.0,2012.0,4715.0,0.0,0.0,0.0,2210.0,0.0,763.0,0.0,0.0,0.0,0.0,0.0,454.0,37.0,0.0,760.0,0.0,0.0,4106.0,null,0.0,0.0,0.0,910.0,0.0,0.0,0.0,0.0,785.0,null,22.0,0.0,0.0,0.0,0.0,null,0.0,1223.0,722.0,5412.0,0.0,82.0,null,null,409.0,0.0,0.0,0.0,8926.0,4.0,0.0,0.0,0.0,0.0,0.0,4756.0,0.0,0.0,30.0,0.0,0.0,33.0,0.0,0.0,0.0,0.0,0.0,0.0,0.0,0.0,400.0,46.0,0.0,19.0,0.0,1.0,557.0,0.0,810.0,780.0,0.0,0.0,0.0,0.0,544.0,0.0,5553.0,0.0,0.0,395.0,0.0,0.0,2115.0,0.0,0.0,1829.0,0.0,31.0,0.0,0.0,0.0,223.0,0.0,0.0,0.0,56.0,2.0,0.0,0.0,0.0,0.0,0.0,537.0,11.0,0.0,421.0,236.0,3.0,0.0,0.0,0.0,0.0,0.0,2.0,0.0,0.0,0.0,0.0,0.0,93.0,0.0,0.0,0.0,0.0,1.0,0.0,0.0,null,0.0,4.0,0.0,27.0,0.0,null,0.0,0.0,0.0,0.0,195.0,192.0,738.0,0.0,0.0,2762.0,0.0,0.0,0.0,0.0,0.0,44.0,12.0,0.0,0.0,13.0,5.0,2506.0,0.0,2467.0,null,0.0,9.0,0.0,8759.0,0.0,55.0,2144.0,0.0,17.0,0.0,0.0,775.0,5407.0,0.0,0.0,0.0,0.0,0.0,0.0,412.0,1.0,0.0,37.0,0.0,646.0,0.0,0.0,9.0,0.0,1482.0,0.0,0.0,1912.0,0.0,179.0,100.0,12809.0,48.0,0.0,0.0,0.0,0.0,156.0,1124.0,0.0,0.0,0.0,0.0,0.0,0.0,0.0,0.0,0.0,0.0,1949.0,0.0,0.0,0.0,44.0,0.0,0.0,3024.0,0.0,0.0,8.0,0.0,0.0,0.0,303.0,0.0,676.0,20.0,0.0,0.0,0.0,166.0,0.0,0.0,8150.0,632.0,0.0,0.0,148.0,0.0,419.0,121.0,0.0,9.0,2.0,0.0,0.0,0.0,61.0,0.0,0.0,0.0,0.0,7.0,0.0,0.0,0.0,0.0,0.0,0.0,0.0,0.0,16.0,0.0,0.0,1471.0,0.0,0.0,604.0,0.0,0.0,0.0,0.0,0.0,0.0,1.0,0.0,228.0,0.0,6.0,6.0,0.0,0.0,0.0,0.0,0.0,29.0,0.0,0.0,0.0,0.0,815.0,2174.0,0.0,3053.0,0.0,286.0,0.0,313.0,0.0,0.0,0.0,0.0,0.0,27.0,1136.0,0.0,0.0,4.0,0.0,4.0,0.0,0.0,0.0,0.0,34.0,382.0,790.0,33.0,0.0,1554.0,1284.0,302.0,680.0,0.0,0.0,1297.0,7116.0,0.0,1347.0,193.0,104.0,243.0,0.0,1514.0,79.0,846.0,0.0,0.0,487.0,2684.0,138.0,0.0,0.0,617.0,1.0,0.0,1650.0,0.0,548.0,0.0,0.0,0.0,0.0,0.0,0.0,1776.0,0.0,0.0,2373.0,0.0,0.0,746.0,0.0,0.0,5876.0,0.0,0.0,0.0,0.0,9.0,0.0,0.0,1115.0,null,0.0,0.0,0.0,4.0,726.0,1772.0,0.0,0.0,143.0,0.0,0.0,0.0,0.0,0.0,548.0,0.0,0.0,0.0,0.0,82.0,0.0,1.0,0.0,0.0,0.0,0.0,0.0,0.0,0.0,0.0,0.0,756.0,0.0,1.0,3.0,0.0,0.0,837.0,1721.0,0.0,2.0,0.0,1195.0,4.0,0.0,0.0,702.0,0.0,0.0,8.0,0.0,0.0,1.0,null,0.0,0.0,0.0,320.0,933.0,37.0,9923.0,0.0,87.0,5659.0,802.0,0.0,0.0,437.0,0.0,0.0,0.0,767.0,2595.0,0.0,0.0,0.0,0.0,0.0,0.0,0.0,0.0,0.0,0.0,0.0,0.0,0.0,0.0,0.0,169.0,0.0,0.0,0.0,0.0,null,0.0,0.0,0.0,0.0,0.0,213.0,6807.0,824.0,1.0,250.0,11.0,186.0,0.0,0.0,3935.0,0.0,0.0,0.0,0.0,126.0,757.0,null,896.0,null,0.0,0.0,null,0.0,22.0,756.0,0.0,2.0,23.0,0.0,0.0,0.0,4.0,0.0,0.0,0.0,0.0,1431.0,null,0.0,656.0,40.0,0.0,0.0,0.0,0.0,93.0,0.0,0.0,0.0,351.0,0.0,904.0,0.0,0.0,0.0,1311.0,0.0,307.0,0.0,0.0,0.0,0.0,20.0,2.0,760.0,0.0,0.0,9.0,0.0,2.0,0.0,0.0,0.0,25.0,2119.0,0.0,0.0,179.0,11.0,0.0,25.0,0.0,2062.0,0.0,0.0,0.0,9.0,689.0,28.0,30.0,0.0,308.0,0.0,44.0,0.0,3.0,0.0,0.0,0.0,0.0,1971.0,0.0,0.0,641.0,0.0,141.0,0.0,0.0,null,54.0,0.0,8525.0,0.0,417.0,null,0.0,82.0,3135.0,1.0,0.0,0.0,0.0,0.0,210.0,0.0,1280.0,0.0,null,6.0,0.0,0.0,0.0,611.0,5252.0,0.0,1577.0,1001.0,0.0,0.0,53.0,0.0,0.0,0.0,8403.0,1.0,256.0,1390.0,1438.0,49.0,0.0,216.0,1.0,0.0,3331.0,329.0,0.0,0.0,788.0,8.0,0.0,0.0,878.0,0.0,2551.0,0.0,0.0,0.0,0.0,12.0,27.0,0.0,0.0,0.0,0.0,0.0,0.0,139.0,0.0,null,0.0,0.0,2342.0,2.0,77.0,0.0,2.0,0.0,0.0,0.0,0.0,0.0,0.0,0.0,0.0,0.0,2065.0,0.0,0.0,453.0,0.0,0.0,null,0.0,0.0,0.0,0.0,1547.0,0.0,30.0,587.0,0.0,0.0,0.0,0.0,6013.0,946.0,0.0,0.0,0.0,1284.0,1.0,0.0,0.0,0.0,0.0,0.0,7452.0,0.0,null,0.0,0.0,0.0,0.0,0.0,0.0,0.0,0.0,0.0,0.0,0.0,3.0,0.0,0.0,0.0,8.0,0.0,4018.0,0.0,57.0,0.0,0.0,0.0,0.0,0.0,140.0,4513.0,0.0,4.0,0.0,1117.0,0.0,0.0,0.0,427.0,730.0,0.0,0.0,null,0.0,323.0,0.0,0.0,0.0,0.0,0.0,0.0,0.0,7.0,350.0,0.0,0.0,0.0,0.0,0.0,9032.0,0.0,1.0,353.0,0.0,0.0,0.0,788.0,0.0,0.0,0.0,0.0,0.0,null,0.0,31.0,0.0,0.0,0.0,0.0,0.0,0.0,11.0,11.0,0.0,1653.0,3810.0,131.0,0.0,0.0,0.0,19.0,596.0,2804.0,0.0,233.0,0.0,264.0,0.0,0.0,0.0,0.0,1573.0,574.0,623.0,0.0,0.0,0.0,0.0,0.0,0.0,950.0,0.0,3281.0,15.0,2344.0,0.0,0.0,0.0,0.0,540.0,30.0,0.0,0.0,0.0,0.0,0.0,382.0,0.0,null,16.0,null,0.0,0.0,3315.0,0.0,0.0,0.0,0.0,165.0,632.0,0.0,5082.0,56.0,0.0,0.0,0.0,0.0,0.0,0.0,4.0,0.0,0.0,653.0,0.0,0.0,0.0,0.0,0.0,201.0,0.0,0.0,1440.0,16.0,0.0,0.0,0.0,0.0,0.0,0.0,2.0,null,0.0,0.0,6074.0,0.0,0.0,0.0,12.0,0.0,0.0,927.0,0.0,782.0,0.0,0.0,0.0,0.0,0.0,0.0,0.0,0.0,0.0,0.0,13.0,43.0,0.0,0.0,1638.0,1076.0,0.0,0.0,0.0,0.0,957.0,0.0,0.0,0.0,0.0,335.0,0.0,0.0,0.0,0.0,0.0,0.0,null,0.0,0.0,0.0,0.0,4.0,2.0,0.0,0.0,0.0,0.0,180.0,0.0,0.0,0.0,0.0,0.0,25.0,0.0,2126.0,0.0,216.0,0.0,5.0,4082.0,4494.0,1897.0,0.0,810.0,1429.0,0.0,0.0,0.0,0.0,52.0,0.0,0.0,372.0,0.0,0.0,3.0,0.0,0.0,17.0,0.0,18.0,0.0,0.0,56.0,46.0,0.0,0.0,0.0,1.0,0.0,0.0,1209.0,39.0,0.0,0.0,0.0,463.0,0.0,0.0,269.0,0.0,0.0,35.0,0.0,0.0,0.0,0.0,104.0,5971.0,0.0,0.0,0.0,12.0,0.0,6748.0,0.0,178.0,1376.0,0.0,0.0,0.0,0.0,0.0,0.0,0.0,0.0,1216.0,37.0,0.0,18481.0,193.0,0.0,0.0,1026.0,0.0,0.0,0.0,0.0,35.0,null,0.0,0.0,2.0,83.0,0.0,0.0,0.0,27071.0,0.0,649.0,0.0,760.0,0.0,0.0,4.0,4209.0,2834.0,0.0,0.0,0.0,0.0,0.0,0.0,377.0,null,0.0,0.0,0.0,0.0,0.0,0.0,0.0,0.0,880.0,0.0,952.0,0.0,0.0,0.0,590.0,8766.0,null,0.0,0.0,467.0,0.0,558.0,627.0,0.0,0.0,1855.0,0.0,3157.0,559.0,0.0,0.0,2333.0,0.0,0.0,3439.0,1347.0,0.0,630.0,10679.0,6229.0,0.0,0.0,0.0,0.0,0.0,5.0,0.0,1025.0,0.0,0.0,0.0,0.0,0.0,0.0,170.0,0.0,0.0,0.0,0.0,0.0,0.0,597.0,0.0,0.0,0.0,0.0,0.0,0.0,0.0,0.0,0.0,0.0,50.0,30.0,0.0,0.0,0.0,10.0,110.0,0.0,0.0,2804.0,0.0,0.0,10.0,null,1794.0,0.0,0.0,0.0,217.0,0.0,0.0,0.0,0.0,0.0,0.0,0.0,0.0,0.0,0.0,354.0,0.0,0.0,0.0,0.0,336.0,0.0,59.0,0.0,373.0,0.0,33.0,4.0,7.0,0.0,0.0,120.0,4.0,0.0,0.0,0.0,0.0,1.0,113.0,0.0,0.0,0.0,813.0,0.0,0.0,0.0,0.0,0.0,0.0,0.0,0.0,0.0,2052.0,325.0,0.0,0.0,0.0,null,790.0,733.0,0.0,0.0,753.0,0.0,2.0,0.0,0.0,3456.0,0.0,559.0,0.0,103.0,0.0,1.0,0.0,692.0,0.0,5151.0,695.0,0.0,0.0,0.0,0.0,335.0,0.0,0.0,0.0,0.0,0.0,0.0,0.0,0.0,0.0,0.0,0.0,0.0,398.0,432.0,0.0,2053.0,0.0,171.0,0.0,null,0.0,0.0,0.0,661.0,457.0,0.0,0.0,0.0,388.0,0.0,0.0,null,0.0,284.0,0.0,0.0,0.0,30.0,0.0,60.0,0.0,0.0,17432.0,0.0,3859.0,396.0,0.0,0.0,267.0,235.0,1.0,0.0,0.0,53.0,0.0,0.0,0.0,0.0,0.0,0.0,0.0,0.0,0.0,0.0,0.0,1652.0,397.0,0.0,0.0,0.0,0.0,2.0,0.0,0.0,0.0,0.0,0.0,0.0,0.0,8444.0,0.0,588.0,4.0,0.0,3846.0,787.0,5193.0,0.0,0.0,312.0,0.0,0.0,0.0,827.0,490.0,2.0,2576.0,0.0,3377.0,0.0,0.0,0.0,0.0,0.0,0.0,274.0,5.0,519.0,0.0,0.0,0.0,0.0,0.0,4.0,0.0,0.0,0.0,2196.0,0.0,280.0,0.0,0.0,0.0,828.0,0.0,null,257.0,0.0,552.0,0.0,0.0,117.0,0.0,0.0,407.0,0.0,21.0,677.0,960.0,0.0,null,0.0,0.0,4.0,0.0,0.0,75.0,0.0,0.0,null,0.0,0.0,26830.0,0.0,0.0,0.0,0.0,17.0,0.0,0.0,0.0,0.0,0.0,651.0,0.0,0.0,0.0,1.0,600.0,0.0,2.0,122.0,0.0,51.0,0.0,0.0,0.0,614.0,897.0,0.0,580.0,4.0,31.0,89.0,0.0,2050.0,314.0,253.0,257.0,0.0,6130.0,0.0,0.0,1565.0,0.0,4415.0,0.0,6.0,0.0,754.0,0.0,0.0,0.0,0.0,0.0,981.0,667.0,null,0.0,0.0,null,null,0.0,0.0,0.0,0.0,0.0,0.0,0.0,0.0,0.0,0.0,218.0,1556.0,0.0,0.0,0.0,3060.0,0.0,0.0,0.0,0.0,525.0,0.0,null,0.0,4387.0,0.0,0.0,0.0,0.0,0.0,0.0,0.0,0.0,0.0,0.0,0.0,0.0,1.0,0.0,0.0,28.0,93.0,2.0,0.0,881.0,0.0,690.0,0.0,42.0,0.0,0.0,0.0,0.0,47.0,null,1258.0,1249.0,1300.0,0.0,0.0,218.0,0.0,0.0,0.0,0.0,0.0,588.0,0.0,0.0,0.0,0.0,0.0,0.0,0.0,0.0,0.0,0.0,0.0,0.0,11153.0,0.0,0.0,0.0,12.0,80.0,0.0,0.0,0.0,0.0,0.0,1203.0,0.0,0.0,275.0,0.0,0.0,55.0,0.0,0.0,821.0,0.0,0.0,0.0,7164.0,0.0,0.0,270.0,0.0,0.0,0.0,0.0,2183.0,0.0,3.0,0.0,0.0,0.0,0.0,0.0,0.0,0.0,0.0,0.0,83.0,4826.0,1017.0,0.0,0.0,0.0,0.0,0.0,0.0,0.0,847.0,0.0,0.0,0.0,0.0,0.0,83.0,0.0,0.0,0.0,0.0,0.0,0.0,0.0,0.0,0.0,0.0,704.0,0.0,0.0,0.0,0.0,456.0,3238.0,542.0,0.0,0.0,0.0,0.0,0.0,1.0,377.0,1470.0,0.0,0.0,355.0,0.0,0.0,0.0,0.0,0.0,0.0,0.0,null,0.0,0.0,7167.0,0.0,0.0,61.0,0.0,0.0,0.0,0.0,0.0,0.0,0.0,0.0,0.0,null,0.0,0.0,0.0,0.0,0.0,1302.0,0.0,34.0,442.0,2.0,0.0,0.0,0.0,0.0,1477.0,1.0,30.0,0.0,1381.0,0.0,0.0,0.0,0.0,1276.0,0.0,0.0,0.0,0.0,132.0,0.0,6190.0,1549.0,2177.0,0.0,586.0,20.0,1080.0,0.0,840.0,0.0,0.0,43.0,0.0,0.0,0.0,831.0,0.0,0.0,2651.0,399.0,38.0,0.0,0.0,2524.0,0.0,0.0,0.0,0.0,0.0,0.0,0.0,0.0,null,1.0,0.0,0.0,0.0,0.0,0.0,0.0,15.0,0.0,0.0,0.0,476.0,0.0,null,0.0,0.0,1029.0,0.0,0.0,0.0,0.0,0.0,2.0,null,0.0,0.0,0.0,279.0,440.0,18.0,241.0,0.0,1562.0,0.0,0.0,0.0,0.0,0.0,0.0,0.0,0.0,170.0,0.0,1.0,89.0,0.0,0.0,0.0,663.0,0.0,0.0,326.0,0.0,0.0,588.0,0.0,1172.0,0.0,0.0,null,0.0,0.0,8747.0,9463.0,2020.0,124.0,3172.0,108.0,0.0,1725.0,0.0,84.0,0.0,1.0,0.0,0.0,2549.0,867.0,0.0,198.0,0.0,0.0,0.0,0.0,886.0,13.0,0.0,0.0,0.0,0.0,0.0,0.0,0.0,157.0,343.0,0.0,0.0,0.0,0.0,0.0,0.0,0.0,416.0,224.0,81.0,0.0,53.0,88.0,0.0,0.0,0.0,0.0,0.0,4983.0,144.0,0.0,0.0,1.0,0.0,0.0,21.0,628.0,0.0,10.0,2946.0,0.0,1546.0,0.0,1.0,0.0,9401.0,0.0,22.0,0.0,0.0,0.0,0.0,0.0,0.0,0.0,0.0,0.0,265.0,266.0,490.0,1525.0,0.0,0.0,492.0,0.0,1269.0,0.0,0.0,0.0,0.0,2558.0,0.0,252.0,2.0,717.0,3724.0,0.0,0.0,0.0,31.0,559.0,91.0,0.0,0.0,0.0,6777.0,0.0,0.0,0.0,841.0,668.0,779.0,0.0,0.0,0.0,0.0,0.0,521.0,137.0,3.0,0.0,22.0,0.0,0.0,0.0,0.0,0.0,0.0,0.0,0.0,187.0,0.0,0.0,0.0,3345.0,0.0,0.0,1418.0,0.0,563.0,0.0,0.0,0.0,545.0,14201.0,0.0,0.0,0.0,35.0,1125.0,2.0,0.0,0.0,0.0,0.0,0.0,0.0,3484.0,10025.0,1.0,0.0,0.0,272.0,2127.0,17687.0,1832.0,0.0,14.0,1947.0,0.0,247.0,0.0,0.0,0.0,0.0,1.0,2717.0,243.0,0.0,4384.0,7221.0,null,0.0,0.0,168.0,94.0,0.0,0.0,16455.0,0.0,0.0,0.0,0.0,0.0,0.0,0.0,0.0,0.0,0.0,153.0,0.0,3.0,0.0,0.0,0.0,0.0,0.0,0.0,935.0,0.0,2.0,0.0,0.0,0.0,817.0,0.0,0.0,0.0,281.0,0.0,0.0,6338.0,0.0,0.0,83.0,46.0,11417.0,90.0,2.0,0.0,0.0,0.0,0.0,0.0,0.0,282.0,0.0,0.0,4558.0,901.0,0.0,114.0,3603.0,0.0,6103.0,4017.0,0.0,0.0,0.0,0.0,7194.0,0.0,3627.0,0.0,0.0,2560.0,10.0,0.0,0.0,0.0,77.0,0.0,0.0,0.0,0.0,76.0,1883.0,2461.0,18.0,0.0,39.0,0.0,266.0,0.0,31.0,0.0,0.0,0.0,0.0,239.0,0.0,0.0,0.0,0.0,0.0,0.0,0.0,0.0,0.0,0.0,0.0,0.0,0.0,0.0,3.0,337.0,1013.0,0.0,65.0,0.0,3080.0,0.0,0.0,0.0,0.0,0.0,0.0,893.0,2.0,0.0,0.0,0.0,0.0,864.0,76.0,0.0,0.0,584.0,0.0,0.0,0.0,0.0,0.0,0.0,0.0,51.0,0.0,0.0,1740.0,0.0,0.0,1.0,1.0,32.0,116.0,132.0,0.0,0.0,0.0,0.0,41.0,93.0,0.0,591.0,121.0,0.0,0.0,0.0,0.0,0.0,0.0,0.0,25.0,1.0,180.0,103.0,102.0,27.0,656.0,559.0,205.0,57.0,496.0,0.0,0.0,43.0,497.0,20.0,0.0,0.0,2235.0,0.0,0.0,0.0,45.0,493.0,65.0,876.0,0.0,0.0,4592.0,2337.0,154.0,0.0,4020.0,0.0,0.0,0.0,0.0,0.0,797.0,2424.0,6670.0,2802.0,4516.0,0.0,0.0,0.0,0.0,3593.0,5234.0,1327.0,0.0,36.0,3291.0,138.0,20.0,477.0,0.0,0.0,166.0,0.0,0.0,81.0,0.0,79.0,0.0,null,0.0,2520.0,0.0,3275.0,0.0,0.0,453.0,0.0,7484.0,18.0,0.0,0.0,0.0,431.0,364.0,551.0,297.0,0.0,0.0,0.0,1633.0,84.0,63.0,412.0,724.0,1385.0,9633.0,0.0,16.0,0.0,226.0,323.0,7039.0,89.0,370.0,0.0,0.0,0.0,1125.0,0.0,0.0,823.0,93.0,0.0,2325.0,0.0,0.0,0.0,0.0,0.0,0.0,985.0,0.0,3856.0,0.0,0.0,0.0,0.0,0.0,0.0,776.0,0.0,0.0,0.0,0.0,null,2.0,0.0,4066.0,203.0,4579.0,0.0,0.0,0.0,4.0,0.0,172.0,3119.0,0.0,1487.0,7.0,920.0,0.0,630.0,0.0,0.0,0.0,0.0,0.0,44.0,0.0,0.0,25.0,0.0,15.0,0.0,0.0,0.0,0.0,0.0,0.0,null,681.0,0.0,262.0,7.0,0.0,1910.0,3452.0,3.0,0.0,21.0,0.0,0.0,1338.0,null,0.0,0.0,0.0,807.0,0.0,3.0,0.0,0.0,0.0,4504.0,48.0,0.0,8.0,142.0,395.0,1382.0,0.0,null,245.0,0.0,0.0,0.0,0.0,0.0,3.0,0.0,0.0,669.0,0.0,509.0,0.0,0.0,779.0,0.0,0.0,0.0,0.0,1.0,0.0,1261.0,0.0,0.0,0.0,11552.0,225.0,0.0,342.0,9495.0,0.0,0.0,0.0,0.0,0.0,2853.0,1339.0,0.0,1480.0,1131.0,104.0,706.0,0.0,0.0,0.0,0.0,0.0,null,0.0,18.0,594.0,0.0,0.0,1.0,631.0,4.0,7762.0,0.0,9.0,0.0,196.0,0.0,0.0,0.0,0.0,0.0,0.0,0.0,44.0,292.0,0.0,0.0,440.0,null,null,198.0,13.0,0.0,0.0,1855.0,2148.0,0.0,0.0,3.0,0.0,0.0,0.0,0.0,114.0,463.0,212.0,8.0,null,871.0,667.0,0.0,0.0,775.0,0.0,611.0,1135.0,0.0,0.0,8.0,0.0,0.0,0.0,3.0,0.0,2031.0,0.0,0.0,0.0,0.0,254.0,0.0,8.0,0.0,0.0,0.0,0.0,null,0.0,0.0,932.0,0.0,1.0,0.0,690.0,0.0,837.0,25.0,0.0,0.0,0.0,139.0,1330.0,0.0,84.0,0.0,0.0,0.0,0.0,10029.0,0.0,0.0,0.0,0.0,0.0,0.0,76.0,0.0,0.0,0.0,0.0,0.0,0.0,3571.0,0.0,0.0,0.0,0.0,0.0,0.0,20.0,444.0,0.0,2077.0,0.0,0.0,0.0,0.0,0.0,2171.0,3448.0,1750.0,0.0,0.0,0.0,0.0,0.0,1018.0,0.0,235.0,0.0,0.0,0.0,79.0,9.0,1719.0,0.0,0.0,10.0,0.0,0.0,0.0,0.0,4.0,125.0,358.0,0.0,0.0,0.0,0.0,769.0,0.0,0.0,0.0,162.0,1.0,0.0,null,34.0,282.0,0.0,0.0,0.0,0.0,0.0,0.0,0.0,31.0,0.0,0.0,219.0,49.0,0.0,0.0,172.0,0.0,0.0,0.0,0.0,493.0,31.0,0.0,0.0,0.0,19.0,4619.0,0.0,50.0,737.0,18.0,0.0,52.0,0.0,0.0,1.0,null,0.0,0.0,0.0,21.0,199.0,1.0,381.0,0.0,0.0,111.0,0.0,0.0,1451.0,0.0,0.0,31.0,0.0,0.0,0.0,0.0,867.0,418.0,0.0,8246.0,0.0,794.0,82.0,null,1080.0,1808.0,0.0,0.0,175.0,0.0,0.0,0.0,0.0,0.0,0.0,0.0,0.0,2052.0,15.0,3.0,0.0,2030.0,3750.0,0.0,0.0,0.0,0.0,0.0,0.0,59.0,179.0,0.0,0.0,181.0,0.0,0.0,712.0,0.0,0.0,0.0,1.0,3.0,394.0,419.0,0.0,0.0,0.0,0.0,0.0,0.0,0.0,0.0,464.0,109.0,0.0,0.0,679.0,0.0,0.0,1.0,0.0,null,477.0,0.0,0.0,0.0,0.0,910.0,0.0,1.0,116.0,0.0,0.0,3815.0,0.0,0.0,3.0,0.0,0.0,0.0,0.0,751.0,63.0,0.0,0.0,553.0,0.0,0.0,4198.0,12.0,1.0,null,0.0,0.0,0.0,0.0,0.0,281.0,0.0,17.0,306.0,7.0,0.0,0.0,5.0,0.0,207.0,0.0,0.0,0.0,0.0,0.0,0.0,0.0,0.0,651.0,0.0,160.0,0.0,0.0,0.0,0.0,914.0,0.0,0.0,0.0,0.0,4.0,0.0,725.0,96.0,0.0,153.0,0.0,0.0,0.0,0.0,0.0,2.0,339.0,0.0,0.0,641.0,null,43.0,938.0,0.0,0.0,0.0,0.0,0.0,0.0,0.0,528.0,0.0,0.0,0.0,0.0,0.0,0.0,0.0,0.0,0.0,0.0,0.0,0.0,0.0,0.0,0.0,0.0,0.0,0.0,0.0,0.0,13.0,2324.0,0.0,0.0,0.0,0.0,1309.0,64.0,0.0,0.0,0.0,0.0,0.0,0.0,1001.0,1065.0,0.0,0.0,0.0,0.0,400.0,290.0,196.0,56.0,1.0,3.0,0.0,0.0,34.0,10.0,2868.0,0.0,0.0,null,0.0,6.0,0.0,196.0,0.0,null,716.0,2.0,7.0,4313.0,0.0,0.0,0.0,0.0,0.0,0.0,0.0,0.0,0.0,0.0,0.0,0.0,0.0,2891.0,0.0,0.0,0.0,491.0,3625.0,0.0,0.0,0.0,1301.0,0.0,0.0,5.0,0.0,0.0,0.0,1.0,0.0,0.0,674.0,0.0,0.0,0.0,0.0,439.0,0.0,0.0,0.0,0.0,3770.0,0.0,866.0,80.0,0.0,9365.0,0.0,0.0,686.0,0.0,32.0,45.0,0.0,null,0.0,0.0,53.0,0.0,0.0,3195.0,8221.0,0.0,0.0,61.0,0.0,0.0,95.0,0.0,0.0,0.0,5210.0,4894.0,0.0,6.0,0.0,0.0,0.0,0.0,0.0,110.0,6.0,0.0,0.0,378.0,0.0,0.0,0.0,0.0,0.0,38.0,46.0,0.0,0.0,130.0,3960.0,806.0,595.0,0.0,0.0,824.0,0.0,0.0,747.0,null,0.0,0.0,0.0,0.0,829.0,0.0,0.0,0.0,0.0,65.0,700.0,0.0,0.0,0.0,0.0,0.0,0.0,0.0,0.0,0.0,18.0,0.0,0.0,59.0,0.0,0.0,99.0,53.0,0.0,0.0,0.0,0.0,697.0,0.0,9.0,1497.0,0.0,1.0,0.0,347.0,126.0,0.0,1.0,11.0,0.0,0.0,1473.0,0.0,4618.0,4524.0,21.0,0.0,0.0,0.0,null,0.0,0.0,0.0,0.0,150.0,0.0,0.0,9307.0,0.0,0.0,9.0,0.0,0.0,22.0,6634.0,0.0,0.0,0.0,76.0,0.0,551.0,0.0,0.0,0.0,0.0,0.0,0.0,104.0,1307.0,0.0,0.0,358.0,0.0,0.0,0.0,null,225.0,8162.0,0.0,0.0,6.0,0.0,0.0,0.0,4.0,0.0,0.0,0.0,585.0,0.0,0.0,0.0,0.0,1.0,0.0,0.0,0.0,288.0,132.0,20.0,0.0,0.0,0.0,222.0,0.0,0.0,0.0,0.0,0.0,0.0,1583.0,360.0,0.0,0.0,0.0,0.0,0.0,0.0,5203.0,745.0,0.0,0.0,0.0,10.0,0.0,1.0,0.0,0.0,0.0,0.0,175.0,890.0,494.0,0.0,3023.0,3991.0,0.0,0.0,406.0,0.0,0.0,237.0,0.0,0.0,0.0,0.0,0.0,335.0,3514.0,5.0,0.0,0.0,2.0,786.0,9.0,0.0,823.0,1.0,722.0,0.0,686.0,0.0,0.0,0.0,1668.0,0.0,0.0,3268.0,1256.0,0.0,1219.0,757.0,5.0,0.0,7996.0,0.0,3477.0,874.0,0.0,0.0,240.0,785.0,0.0,0.0,0.0,0.0,0.0,9.0,0.0,0.0,0.0,0.0,0.0,null,0.0,8.0,9.0,0.0,0.0,0.0,0.0,0.0,0.0,0.0,117.0,0.0,null,1425.0,null,918.0,103.0,22.0,0.0,0.0,0.0,39.0,0.0,53.0,0.0,0.0,0.0,1513.0,496.0,1706.0,545.0,11594.0,0.0,0.0,0.0,0.0,0.0,0.0,0.0,0.0,1198.0,0.0,0.0,0.0,123.0,1627.0,177.0,0.0,0.0,0.0,0.0,0.0,0.0,0.0,0.0,0.0,0.0,0.0,0.0,458.0,0.0,0.0,4372.0,166.0,0.0,0.0,29.0,0.0,0.0,0.0,0.0,0.0,173.0,664.0,0.0,0.0,0.0,0.0,1975.0,0.0,0.0,0.0,0.0,0.0,0.0,217.0,0.0,1.0,0.0,1745.0,0.0,0.0,null,11856.0,7636.0,0.0,0.0,16.0,764.0,29.0,37.0,null,47.0,436.0,625.0,20.0,0.0,0.0,0.0,0.0,0.0,0.0,0.0,6.0,0.0,0.0,0.0,0.0,0.0,0.0,0.0,1871.0,0.0,0.0,0.0,0.0,0.0,868.0,858.0,0.0,128.0,25.0,0.0,706.0,6408.0,0.0,0.0,0.0,1197.0,0.0,3.0,0.0,1068.0,7.0,3338.0,0.0,1202.0,95.0,0.0,0.0,0.0,219.0,0.0,0.0,0.0,3.0,0.0,511.0,98.0,0.0,1489.0,4058.0,3953.0,0.0,0.0,0.0,0.0,0.0,0.0,0.0,0.0,0.0,0.0,888.0,0.0,0.0,0.0,0.0,0.0,5.0,0.0,406.0,496.0,0.0,0.0,0.0,8808.0,0.0,68.0,0.0,21.0,0.0,11.0,0.0,0.0,15.0,0.0,0.0,0.0,0.0,0.0,30.0,0.0,0.0,761.0,0.0,0.0,75.0,623.0,0.0,0.0,0.0,2.0,0.0,456.0,0.0,0.0,0.0,1774.0,0.0,566.0,0.0,53.0,0.0,1369.0,0.0,0.0,131.0,0.0,0.0,0.0,0.0,0.0,0.0,10.0,532.0,0.0,2395.0,0.0,0.0,914.0,0.0,0.0,49.0,0.0,2.0,574.0,0.0,0.0,0.0,0.0,0.0,0.0,0.0,0.0,null,0.0,0.0,40.0,0.0,0.0,687.0,0.0,0.0,392.0,716.0,0.0,0.0,0.0,6.0,0.0,3.0,2427.0,94.0,0.0,0.0,0.0,0.0,55.0,1644.0,2002.0,0.0,2421.0,109.0,0.0,1264.0,0.0,3857.0,1706.0,25.0,0.0,1014.0,0.0,0.0,485.0,1725.0,0.0,0.0,0.0,914.0,0.0,0.0,0.0,2.0,5.0,0.0,425.0,0.0,5.0,0.0,0.0,0.0,0.0,0.0,0.0,0.0,0.0,0.0,3862.0,2809.0,0.0,4780.0,1211.0,0.0,1184.0,40.0,0.0,784.0,0.0,0.0,0.0,698.0,0.0,0.0,0.0,11.0,4.0,0.0,0.0,0.0,0.0,9.0,0.0,3259.0,null,0.0,0.0,0.0,0.0,0.0,0.0,0.0,0.0,0.0,5.0,0.0,0.0,0.0,9641.0,0.0,0.0,132.0,0.0,0.0,104.0,0.0,0.0,0.0,247.0,0.0,3863.0,0.0,0.0,73.0,0.0,0.0,396.0,0.0,4451.0,0.0,0.0,0.0,0.0,839.0,0.0,0.0,0.0,0.0,968.0,0.0,0.0,0.0,null,420.0,64.0,1828.0,1801.0,792.0,0.0,3638.0,6921.0,30.0,0.0,0.0,147.0,0.0,0.0,0.0,null,645.0,0.0,4.0,0.0,0.0,0.0,0.0,0.0,0.0,0.0,0.0,1289.0,677.0,1857.0,0.0,0.0,0.0,4.0,0.0,0.0,292.0,21.0,0.0,0.0,0.0,0.0,0.0,1849.0,0.0,0.0,5.0,0.0,0.0,0.0,0.0,13437.0,785.0,357.0,8.0,0.0,0.0,723.0,0.0,42.0,417.0,0.0,0.0,2.0,null,225.0,0.0,0.0,4176.0,0.0,0.0,0.0,29.0,0.0,0.0,0.0,0.0,0.0,0.0,0.0,1.0,11.0,610.0,0.0,0.0,0.0,0.0,0.0,1012.0,0.0,0.0,28.0,9.0,null,0.0,null,0.0,0.0,0.0,2110.0,0.0,0.0,0.0,1126.0,0.0,0.0,1180.0,4585.0,1056.0,0.0,0.0,0.0,0.0,1436.0,0.0,0.0,3095.0,0.0,0.0,0.0,0.0,0.0,0.0,0.0,0.0,0.0,0.0,699.0,0.0,0.0,1073.0,0.0,0.0,0.0,20.0,0.0,791.0,10.0,0.0,0.0,0.0,103.0,784.0,null,53.0,0.0,0.0,1.0,86.0,0.0,0.0,32.0,0.0,0.0,0.0,0.0,10.0,2.0,0.0,0.0,0.0,479.0,0.0,0.0,0.0,0.0,0.0,0.0,0.0,null,0.0,2624.0,null,0.0,783.0,0.0,0.0,0.0,0.0,0.0,126.0,0.0,0.0,1027.0,4654.0,9.0,4929.0,1174.0,0.0,176.0,0.0,0.0,0.0,0.0,0.0,0.0,809.0,90.0,1.0,779.0,0.0,0.0,168.0,0.0,46.0,0.0,0.0,0.0,0.0,709.0,0.0,0.0,0.0,0.0,0.0,0.0,0.0,0.0,0.0,0.0,0.0,0.0,0.0,1.0,0.0,0.0,298.0,0.0,293.0,0.0,0.0,0.0,0.0,3.0,0.0,1674.0,2.0,null,2680.0,0.0,0.0,254.0,0.0,0.0,0.0,0.0,0.0,0.0,3103.0,0.0,0.0,0.0,296.0,3.0,0.0,5329.0,0.0,9.0,0.0,1049.0,0.0,1409.0,8943.0,0.0,null,175.0,0.0,0.0,0.0,0.0,0.0,0.0,2225.0,0.0,564.0,152.0,0.0,0.0,0.0,0.0,0.0,190.0,878.0,null,316.0,0.0,0.0,0.0,85.0,0.0,1234.0,0.0,68.0,4089.0,4742.0,509.0,0.0,0.0,0.0,541.0,20.0,0.0,0.0,0.0,32.0,0.0,0.0,0.0,0.0,0.0,0.0,0.0,0.0,242.0,0.0,0.0,0.0,0.0,584.0,11441.0,0.0,0.0,0.0,0.0,0.0,0.0,0.0,13342.0,0.0,973.0,0.0,2108.0,641.0,0.0,0.0,0.0,0.0,0.0,509.0,0.0,0.0,0.0,0.0,null,0.0,null,38.0,0.0,0.0,131.0,8.0,169.0,0.0,10.0,3729.0,2199.0,3200.0,0.0,5.0,0.0,0.0,0.0,959.0,0.0,511.0,336.0,0.0,0.0,0.0,0.0,0.0,0.0,0.0,243.0,3.0,0.0,106.0,1677.0,618.0,0.0,0.0,0.0,0.0,0.0,20.0,0.0,0.0,0.0,0.0,0.0,0.0,0.0,40.0,0.0,652.0,0.0,1420.0,480.0,0.0,52.0,0.0,0.0,0.0,577.0,0.0,0.0,0.0,0.0,0.0,0.0,0.0,0.0,56.0,0.0,0.0,222.0,0.0,0.0,0.0,1.0,0.0,0.0,0.0,0.0,0.0,0.0,0.0,0.0,10.0,0.0,0.0,0.0,0.0,0.0,0.0,0.0,0.0,0.0,0.0,596.0,0.0,null,854.0,0.0,0.0,7.0,0.0,3818.0,3.0,728.0,0.0,0.0,602.0,0.0,1.0,2.0,0.0,0.0,0.0,0.0,0.0,614.0,0.0,0.0,0.0,0.0,0.0,44.0,311.0,0.0,14.0,0.0,239.0,0.0,0.0,213.0,0.0,0.0,1663.0,0.0,0.0,889.0,6924.0,1972.0,0.0,0.0,5.0,0.0,31.0,0.0,1.0,0.0,0.0,6.0,6.0,0.0,0.0,0.0,0.0,3527.0,0.0,22.0,6244.0,0.0,4.0,0.0,0.0,20.0,0.0,0.0,0.0,0.0,0.0,76.0,0.0,0.0,819.0,671.0,717.0,4616.0,1362.0,0.0,0.0,1035.0,0.0,0.0,564.0,0.0,0.0,0.0,201.0,0.0,0.0,4900.0,0.0,0.0,0.0,123.0,1.0,0.0,0.0,null,null,null,0.0,4.0,896.0,335.0,0.0,0.0,605.0,1538.0,100.0,2606.0,0.0,1809.0,125.0,0.0,0.0,13561.0,600.0,0.0,67.0,666.0,0.0,780.0,0.0,null,0.0,267.0,0.0,0.0,0.0,0.0,0.0,0.0,0.0,90.0,0.0,0.0,1.0,4514.0,115.0,0.0,0.0,0.0,0.0,0.0,0.0,854.0,0.0,0.0,1044.0,1891.0,0.0,0.0,0.0,1339.0,313.0,0.0,0.0,0.0,0.0,0.0,0.0,6.0,0.0,0.0,3.0,0.0,0.0,69.0,0.0,0.0,0.0,0.0,0.0,0.0,0.0,0.0,0.0,0.0,25.0,0.0,0.0,0.0,1337.0,0.0,2504.0,0.0,0.0,65.0,0.0,35.0,0.0,0.0,0.0,0.0,0.0,71.0,0.0,0.0,841.0,0.0,0.0,0.0,4.0,24.0,0.0,0.0,361.0,833.0,0.0,218.0,null,370.0,202.0,0.0,0.0,0.0,1.0,321.0,0.0,0.0,0.0,0.0,0.0,0.0,0.0,526.0,0.0,0.0,0.0,0.0,280.0,0.0,238.0,0.0,0.0,0.0,0.0,0.0,0.0,33.0,0.0,0.0,0.0,390.0,74.0,316.0,371.0,0.0,15.0,6.0,2.0,2699.0,0.0,0.0,0.0,0.0,714.0,1190.0,0.0,2.0,0.0,16.0,0.0,null,756.0,0.0,0.0,0.0,0.0,0.0,29.0,0.0,13.0,95.0,0.0,0.0,0.0,0.0,4209.0,0.0,0.0,0.0,0.0,600.0,0.0,0.0,0.0,704.0,97.0,60.0,0.0,0.0,0.0,0.0,0.0,0.0,0.0,0.0,0.0,0.0,0.0,758.0,7920.0,0.0,0.0,0.0,0.0,30.0,0.0,0.0,366.0,173.0,0.0,0.0,4.0,0.0,0.0,0.0,38.0,736.0,0.0,0.0,0.0,0.0,0.0,0.0,0.0,7293.0,516.0,996.0,583.0,null,0.0,11.0,0.0,0.0,0.0,19.0,6.0,0.0,0.0,0.0,0.0,0.0,0.0,54.0,2667.0,0.0,1208.0,532.0,0.0,0.0,0.0,69.0,1.0,0.0,0.0,0.0,0.0,449.0,0.0,0.0,0.0,0.0,0.0,0.0,0.0,0.0,0.0,null,0.0,0.0,0.0,138.0,0.0,46.0,752.0,1604.0,4.0,0.0,0.0,0.0,60.0,0.0,0.0,0.0,0.0,0.0,10.0,0.0,0.0,2878.0,0.0,17958.0,7570.0,18.0,0.0,1.0,1049.0,0.0,0.0,0.0,0.0,0.0,0.0,0.0,326.0,0.0,0.0,669.0,0.0,0.0,0.0,0.0,4612.0,0.0,0.0,0.0,3786.0,0.0,0.0,0.0,974.0,0.0,1428.0,741.0,0.0,3.0,4389.0,13.0,0.0,0.0,960.0,0.0,0.0,120.0,0.0,0.0,0.0,0.0,0.0,10.0,1914.0,0.0,6101.0,14076.0,0.0,89.0,0.0,0.0,17.0,0.0,0.0,0.0,0.0,776.0,0.0,0.0,0.0,0.0,0.0,0.0,0.0,0.0,0.0,0.0,0.0,0.0,0.0,1757.0,12.0,0.0,0.0,2898.0,0.0,0.0,47.0,2080.0,0.0,0.0,57.0,71.0,0.0,9965.0,114.0,null,1.0,230.0,0.0,0.0,0.0,0.0,4173.0,160.0,0.0,15.0,null,0.0,806.0,893.0,6.0,0.0,0.0,0.0,0.0,0.0,0.0,243.0,0.0,1307.0,4340.0,22.0,692.0,0.0,0.0,0.0,0.0,0.0,275.0,58.0,442.0,0.0,0.0,0.0,0.0,0.0,0.0,1.0,17.0,0.0,2897.0,996.0,7.0,195.0,6.0,0.0,0.0,3512.0,0.0,0.0,0.0,0.0,0.0,750.0,0.0,0.0,5552.0,664.0,0.0,1678.0,266.0,0.0,null,0.0,0.0,0.0,176.0,0.0,0.0,0.0,0.0,null,0.0,0.0,0.0,0.0,0.0,0.0,9.0,0.0,999.0,0.0,0.0,4.0,2093.0,878.0,0.0,0.0,null,1666.0,13.0,0.0,125.0,0.0,0.0,2.0,2.0,0.0,0.0,null,0.0,0.0,722.0,0.0,47.0,0.0,0.0,158.0,1.0,0.0,0.0,0.0,0.0,742.0,2487.0,610.0,0.0,397.0,0.0,2478.0,0.0,0.0,14.0,0.0,44.0,3124.0,1863.0,16.0,0.0,null,22.0,4387.0,6.0,0.0,7683.0,3.0,0.0,0.0,1.0,489.0,0.0,0.0,1381.0,479.0,0.0,0.0,0.0,0.0,4155.0,0.0,4462.0,4322.0,2612.0,0.0,0.0,0.0,134.0,10.0,0.0,0.0,0.0,0.0,0.0,287.0,0.0,0.0,0.0,0.0,0.0,0.0,0.0,0.0,0.0,0.0,0.0,0.0,0.0,3624.0,21.0,0.0,0.0,3676.0,11.0,0.0,0.0,0.0,0.0,0.0,6050.0,3590.0,12.0,2251.0,338.0,0.0,283.0,688.0,0.0,1369.0,0.0,0.0,0.0,2896.0,0.0,0.0,0.0,0.0,0.0,0.0,129.0,1942.0,0.0,3434.0,38.0,194.0,0.0,1319.0,0.0,0.0,479.0,0.0,0.0,0.0,0.0,0.0,0.0,0.0,0.0,0.0,2921.0,0.0,163.0,316.0,0.0,1379.0,0.0,0.0,1.0,0.0,980.0,0.0,34.0,1606.0,0.0,0.0,0.0,0.0,0.0,0.0,0.0,1.0,0.0,716.0,0.0,896.0,0.0,606.0,0.0,1.0,1390.0,194.0,0.0,0.0,0.0,0.0,0.0,0.0,201.0,0.0,582.0,642.0,0.0,188.0,0.0,0.0,0.0,647.0,0.0,1314.0,0.0,0.0,0.0,1186.0,3585.0,0.0,0.0,0.0,0.0,0.0,0.0,0.0,33.0,0.0,0.0,0.0,102.0,5.0,0.0,949.0,398.0,0.0,0.0,null,0.0,0.0,2886.0,0.0,0.0,22.0,63.0,0.0,0.0,0.0,0.0,0.0,115.0,0.0,2107.0,307.0,0.0,185.0,0.0,0.0,0.0,435.0,null,0.0,3435.0,0.0,1386.0,0.0,0.0,0.0,434.0,0.0,0.0,0.0,802.0,0.0,0.0,0.0,70.0,0.0,147.0,null,0.0,0.0,0.0,0.0,3508.0,0.0,0.0,0.0,0.0,0.0,653.0,0.0,0.0,5974.0,486.0,3392.0,0.0,0.0,271.0,0.0,0.0,1417.0,0.0,79.0,1089.0,78.0,null,804.0,0.0,10049.0,0.0,875.0,61.0,0.0,0.0,0.0,0.0,132.0,0.0,3.0,2954.0,0.0,0.0,0.0,0.0,0.0,0.0,279.0,0.0,0.0,0.0,0.0,672.0,0.0,0.0,321.0,0.0,0.0,3387.0,0.0,0.0,1616.0,0.0,0.0,0.0,397.0,0.0,0.0,0.0,0.0,0.0,0.0,0.0,0.0,5711.0,0.0,0.0,0.0,1435.0,2285.0,184.0,282.0,0.0,0.0,0.0,0.0,794.0,36.0,2383.0,0.0,0.0,0.0,132.0,7.0,0.0,5974.0,0.0,11396.0,2.0,0.0,0.0,0.0,0.0,789.0,0.0,0.0,564.0,4.0,0.0,598.0,779.0,0.0,0.0,0.0,3.0,0.0,700.0,257.0,0.0,0.0,0.0,0.0,0.0,1377.0,0.0,732.0,0.0,0.0,0.0,0.0,0.0,2.0,0.0,2864.0,2669.0,53.0,0.0,0.0,0.0,19.0,0.0,652.0,24.0,0.0,0.0,182.0,0.0,7272.0,0.0,772.0,0.0,0.0,0.0,0.0,0.0,0.0,0.0,0.0,2237.0,530.0,130.0,0.0,7.0,0.0,355.0,0.0,0.0,1000.0,0.0,18.0,2674.0,0.0,1130.0,0.0,714.0,0.0,0.0,7.0,0.0,0.0,0.0,204.0,552.0,0.0,0.0,136.0,0.0,0.0,21.0,0.0,0.0,725.0,21.0,0.0,0.0,0.0,0.0,0.0,0.0,16.0,5036.0,0.0,3.0,172.0,1125.0,0.0,0.0,0.0,0.0,0.0,0.0,33.0,1489.0,0.0,0.0,16016.0,26.0,4224.0,7.0,0.0,0.0,0.0,0.0,12.0,0.0,0.0,0.0,0.0,0.0,0.0,0.0,0.0,636.0,0.0,7.0,0.0,0.0,0.0,null,0.0,6.0,0.0,817.0,5450.0,0.0,0.0,96.0,0.0,0.0,48.0,2979.0,0.0,0.0,0.0,0.0,0.0,0.0,0.0,0.0,140.0,0.0,0.0,0.0,null,4.0,103.0,0.0,null,1769.0,82.0,4298.0,0.0,28.0,5.0,0.0,0.0,0.0,0.0,0.0,0.0,319.0,0.0,9.0,0.0,0.0,0.0,0.0,48.0,0.0,769.0,0.0,0.0,243.0,4534.0,0.0,0.0,31.0,1451.0,395.0,0.0,56.0,0.0,0.0,0.0,2670.0,0.0,0.0,8948.0,494.0,0.0,0.0,0.0,0.0,0.0,268.0,499.0,124.0,0.0,null,0.0,16.0,489.0,412.0,0.0,33.0,0.0,53.0,73.0,180.0,0.0,0.0,0.0,0.0,1541.0,0.0,0.0,368.0,0.0,0.0,0.0,261.0,0.0,303.0,0.0,2337.0,634.0,0.0,0.0,0.0,688.0,79.0,0.0,0.0,0.0,0.0,55.0,605.0,925.0,0.0,0.0,3.0,76.0,0.0,0.0,0.0,0.0,null,0.0,0.0,36.0,3424.0,3299.0,967.0,0.0,0.0,0.0,0.0,0.0,25.0,0.0,0.0,0.0,0.0,9.0,0.0,0.0,63.0,0.0,0.0,6.0,773.0,0.0,0.0,0.0,0.0,11.0,60.0,0.0,0.0,516.0,443.0,0.0,0.0,0.0,16856.0,0.0,0.0,0.0,0.0,0.0,124.0,0.0,0.0,0.0,156.0,721.0,0.0,1738.0,0.0,478.0,null,0.0,0.0,0.0,2.0,0.0,11.0,0.0,0.0,268.0,0.0,0.0,0.0,1.0,0.0,68.0,9.0,0.0,0.0,0.0,0.0,0.0,0.0,0.0,0.0,700.0,0.0,0.0,8.0,87.0,0.0,1283.0,0.0,0.0,637.0,0.0,0.0,80.0,0.0,0.0,0.0,0.0,0.0,79.0,57.0,0.0,910.0,0.0,0.0,0.0,0.0,0.0,9532.0,0.0,593.0,0.0,116.0,0.0,6504.0,804.0,0.0,0.0,0.0,1.0,14.0,1620.0,0.0,0.0,0.0,0.0,0.0,0.0,0.0,0.0,0.0,7.0,360.0,0.0,0.0,3492.0,0.0,246.0,0.0,2318.0,36.0,0.0,174.0,0.0,0.0,0.0,0.0,0.0,0.0,0.0,0.0,0.0,45.0,0.0,0.0,0.0,0.0,0.0,0.0,0.0,0.0,334.0,0.0,0.0,0.0,0.0,0.0,15.0,0.0,0.0,1145.0,0.0,0.0,2593.0,0.0,0.0,0.0,0.0,0.0,244.0,0.0,10.0,0.0,0.0,79.0,0.0,4545.0,0.0,0.0,0.0,0.0,0.0,225.0,0.0,0.0,0.0,0.0,0.0,0.0,2.0,0.0,350.0,0.0,476.0,0.0,0.0,0.0,17901.0,1408.0,392.0,0.0,0.0,21.0,34.0,0.0,0.0,0.0,0.0,1.0,0.0,0.0,793.0,9012.0,0.0,0.0,2.0,38.0,259.0,0.0,25.0,0.0,0.0,0.0,0.0,0.0,52.0,0.0,0.0,0.0,5500.0,0.0,2060.0,0.0,122.0,0.0,0.0,15450.0,0.0,0.0,134.0,745.0,3.0,0.0,3518.0,0.0,0.0,0.0,7.0,4655.0,null,3216.0,7316.0,0.0,269.0,2311.0,null,11598.0,0.0,0.0,0.0,0.0,43.0,605.0,4.0,0.0,0.0,0.0,0.0,809.0,0.0,0.0,0.0,1119.0,279.0,4260.0,0.0,226.0,218.0,13.0,0.0,903.0,0.0,0.0,0.0,925.0,13.0,1620.0,0.0,0.0,0.0,0.0,0.0,0.0,0.0,5998.0,297.0,0.0,780.0,0.0,0.0,17.0,0.0,3680.0,3317.0,0.0,142.0,0.0,5.0,0.0,508.0,0.0,0.0,0.0,0.0,0.0,0.0,29.0,0.0,0.0,0.0,0.0,0.0,0.0,0.0,0.0,28.0,314.0,918.0,11.0,0.0,723.0,889.0,0.0,0.0,0.0,858.0,0.0,0.0,0.0,3771.0,0.0,8252.0,null,0.0,220.0,0.0,0.0,0.0,0.0,747.0,0.0,0.0,2.0,0.0,0.0,0.0,0.0,null,0.0,0.0,3603.0,8151.0,0.0,395.0,0.0,1003.0,157.0,0.0,0.0,0.0,510.0,0.0,0.0,0.0,2.0,0.0,0.0,4.0,0.0,0.0,5157.0,0.0,109.0,1255.0,0.0,0.0,0.0,0.0,0.0,1186.0,0.0,819.0,0.0,666.0,0.0,0.0,21.0,0.0,16.0,0.0,0.0,2.0,44.0,0.0,2984.0,0.0,0.0,0.0,null,0.0,0.0,0.0,1.0,0.0,0.0,4.0,0.0,0.0,0.0,0.0,0.0,0.0,0.0,0.0,0.0,3.0,1144.0,2633.0,0.0,0.0,null,0.0,0.0,0.0,0.0,0.0,4334.0,0.0,1.0,0.0,0.0,0.0,0.0,0.0,0.0,0.0,0.0,0.0,0.0,0.0,null,5063.0,0.0,0.0,0.0,0.0,0.0,0.0,1337.0,0.0,0.0,0.0,640.0,2949.0,177.0,4.0,83.0,0.0,0.0,0.0,0.0,0.0,0.0,0.0,49.0,0.0,465.0,0.0,0.0,0.0,0.0,0.0,0.0,0.0,0.0,0.0,0.0,0.0,0.0,0.0,261.0,3716.0,0.0,null,0.0,2215.0,169.0,0.0,434.0,0.0,0.0,23.0,null,0.0,0.0,0.0,0.0,null,680.0,1673.0,690.0,0.0,0.0,0.0,0.0,0.0,0.0,0.0,64.0,0.0,22.0,0.0,2.0,0.0,0.0,0.0,14.0,0.0,0.0,0.0,0.0,7269.0,0.0,0.0,0.0,0.0,0.0,839.0,0.0,0.0,1283.0,0.0,0.0,669.0,146.0,1365.0,13.0,104.0,0.0,0.0,0.0,0.0,0.0,0.0,0.0,179.0,1290.0,0.0,302.0,3137.0,171.0,0.0,0.0,0.0,168.0,0.0,4.0,30.0,0.0,0.0,0.0,0.0,0.0,4680.0,0.0,608.0,0.0,0.0,0.0,158.0,1570.0,0.0,0.0,2154.0,3070.0,0.0,0.0,831.0,0.0,0.0,1055.0,0.0,0.0,0.0,4301.0,0.0,0.0,0.0,2423.0,5610.0,0.0,21.0,640.0,0.0,0.0,0.0,5.0,0.0,0.0,0.0,280.0,1828.0,0.0,53.0,2808.0,4887.0,0.0,1.0,0.0,0.0,847.0,0.0,0.0,0.0,0.0,null,0.0,0.0,62.0,0.0,0.0,4754.0,322.0,1787.0,917.0,529.0,0.0,0.0,0.0,0.0,0.0,0.0,0.0,0.0,28.0,717.0,28.0,0.0,0.0,null,3033.0,0.0,0.0,0.0,210.0,101.0,0.0,0.0,0.0,29.0,0.0,950.0,5.0,0.0,161.0,0.0,106.0,0.0,847.0,0.0,0.0,0.0,1878.0,3978.0,0.0,0.0,952.0,0.0,0.0,0.0,0.0,214.0,3636.0,0.0,0.0,739.0,4.0,0.0,0.0,0.0,0.0,0.0,0.0,0.0,3.0,0.0,0.0,0.0,164.0,0.0,0.0,0.0,728.0,1406.0,3.0,0.0,0.0,0.0,0.0,0.0,0.0,71.0,145.0,0.0,1028.0,0.0,0.0,0.0,0.0,82.0,0.0,0.0,226.0,0.0,0.0,221.0,0.0,2202.0,0.0,0.0,644.0,9.0,0.0,3.0,0.0,0.0,0.0,0.0,1475.0,694.0,0.0,268.0,35.0,731.0,0.0,0.0,0.0,18.0,0.0,0.0,33.0,0.0,0.0,0.0,0.0,0.0,1.0,0.0,0.0,0.0,0.0,2207.0,0.0,0.0,0.0,0.0,4.0,0.0,0.0,0.0,26.0,0.0,1285.0,0.0,1108.0,0.0,0.0,0.0,4455.0,1298.0,0.0,0.0,1.0,0.0,556.0,0.0,4791.0,0.0,0.0,0.0,0.0,16.0,0.0,0.0,0.0,0.0,0.0,764.0,155.0,0.0,0.0,0.0,971.0,499.0,0.0,0.0,6.0,1.0,0.0,null,0.0,0.0,0.0,0.0,0.0,0.0,0.0,0.0,7.0,0.0,0.0,0.0,0.0,0.0,98.0,227.0,0.0,0.0,0.0,9.0,3076.0,1821.0,0.0,247.0,0.0,0.0,0.0,1163.0,0.0,500.0,0.0,0.0,23.0,0.0,0.0,3.0,592.0,2639.0,7759.0,251.0,226.0,0.0,0.0,0.0,2.0,0.0,3853.0,44.0,16.0,0.0,83.0,753.0,0.0,0.0,0.0,9.0,0.0,null,0.0,1484.0,0.0,0.0,0.0,180.0,0.0,0.0,0.0,0.0,0.0,14.0,0.0,912.0,0.0,810.0,805.0,0.0,1127.0,0.0,0.0,0.0,null,114.0,91.0,0.0,0.0,0.0,0.0,0.0,0.0,0.0,0.0,565.0,4978.0,571.0,0.0,0.0,144.0,0.0,0.0,0.0,1427.0,748.0,0.0,3.0,0.0,0.0,557.0,0.0,0.0,0.0,0.0,2532.0,0.0,0.0,0.0,0.0,0.0,0.0,0.0,0.0,0.0,1770.0,10.0,0.0,0.0,0.0,454.0,145.0,0.0,0.0,0.0,4485.0,310.0,229.0,0.0,6.0,0.0,0.0,0.0,0.0,0.0,0.0,0.0,0.0,181.0,433.0,0.0,2910.0,927.0,0.0,0.0,1204.0,0.0,0.0,0.0,0.0,484.0,3488.0,0.0,0.0,0.0,0.0,0.0,0.0,0.0,2583.0,3126.0,2191.0,0.0,0.0,0.0,784.0,0.0,10.0,0.0,0.0,798.0,0.0,116.0,0.0,0.0,0.0,71.0,0.0,0.0,0.0,0.0,0.0,1.0,0.0,0.0,0.0,0.0,0.0,0.0,1332.0,16.0,0.0,0.0,0.0,0.0,659.0,0.0,1739.0,0.0,0.0,0.0,2.0,0.0,3.0,1.0,2481.0,70.0,0.0,0.0,null,0.0,471.0,0.0,0.0,0.0,0.0,0.0,0.0,445.0,0.0,0.0,3423.0,0.0,0.0,170.0,1632.0,32.0,0.0,13.0,4715.0,0.0,1524.0,0.0,0.0,0.0,1.0,0.0,29.0,0.0,0.0,0.0,0.0,0.0,0.0,6.0,0.0,null,0.0,0.0,2.0,822.0,0.0,846.0,3751.0,null,0.0,236.0,null,0.0,0.0,0.0,7.0,924.0,509.0,0.0,810.0,17.0,0.0,0.0,0.0,0.0,0.0,1028.0,0.0,1487.0,0.0,366.0,0.0,0.0,3707.0,4.0,8.0,41.0,null,0.0,0.0,1.0,0.0,20.0,167.0,0.0,0.0,0.0,173.0,0.0,0.0,0.0,338.0,0.0,108.0,0.0,0.0,0.0,1320.0,554.0,0.0,0.0,0.0,0.0,1.0,0.0,0.0,676.0,0.0,43.0,0.0,0.0,0.0,0.0,0.0,984.0,null,1876.0,4.0,0.0,3.0,0.0,0.0,5436.0,0.0,0.0,265.0,0.0,0.0,17.0,0.0,3479.0,0.0,0.0,8.0,6.0,19.0,9.0,1605.0,0.0,0.0,0.0,4313.0,12563.0,0.0,0.0,0.0,10.0,838.0,0.0,0.0,468.0,0.0,0.0,0.0,0.0,10.0,0.0,100.0,0.0,2.0,0.0,0.0,0.0,0.0,0.0,0.0,586.0,0.0,0.0,0.0,0.0,2113.0,495.0,0.0,0.0,0.0,704.0,0.0,796.0,475.0,0.0,2449.0,0.0,0.0,0.0,0.0,7.0,0.0,0.0,0.0,0.0,0.0,null,1501.0,1585.0,0.0,12.0,0.0,0.0,0.0,0.0,0.0,749.0,371.0,0.0,1.0,0.0,1961.0,0.0,1.0,16.0,0.0,0.0,1376.0,32.0,0.0,0.0,165.0,702.0,0.0,0.0,0.0,36.0,0.0,0.0,0.0,0.0,281.0,0.0,0.0,0.0,522.0,0.0,0.0,0.0,0.0,0.0,0.0,0.0,0.0,1.0,2.0,0.0,14773.0,0.0,2318.0,403.0,25.0,688.0,670.0,10073.0,537.0,584.0,0.0,194.0,0.0,0.0,0.0,4.0,5.0,7.0,94.0,0.0,0.0,41.0,0.0,599.0,0.0,4017.0,909.0,0.0,0.0,1674.0,104.0,794.0,0.0,7964.0,4634.0,null,0.0,816.0,77.0,0.0,0.0,0.0,0.0,0.0,40.0,8.0,90.0,679.0,0.0,0.0,0.0,45.0,0.0,0.0,0.0,0.0,639.0,197.0,0.0,0.0,0.0,0.0,0.0,0.0,5600.0,0.0,0.0,0.0,0.0,1.0,752.0,0.0,0.0,0.0,696.0,0.0,0.0,0.0,1208.0,2972.0,0.0,8160.0,0.0,0.0,0.0,0.0,0.0,1015.0,0.0,0.0,0.0,0.0,0.0,0.0,242.0,3.0,0.0,0.0,1146.0,3208.0,6819.0,0.0,0.0,1049.0,4688.0],\"xaxis\":\"x\",\"yaxis\":\"y\",\"type\":\"histogram\"}],                        {\"template\":{\"data\":{\"histogram2dcontour\":[{\"type\":\"histogram2dcontour\",\"colorbar\":{\"outlinewidth\":0,\"ticks\":\"\"},\"colorscale\":[[0.0,\"#0d0887\"],[0.1111111111111111,\"#46039f\"],[0.2222222222222222,\"#7201a8\"],[0.3333333333333333,\"#9c179e\"],[0.4444444444444444,\"#bd3786\"],[0.5555555555555556,\"#d8576b\"],[0.6666666666666666,\"#ed7953\"],[0.7777777777777778,\"#fb9f3a\"],[0.8888888888888888,\"#fdca26\"],[1.0,\"#f0f921\"]]}],\"choropleth\":[{\"type\":\"choropleth\",\"colorbar\":{\"outlinewidth\":0,\"ticks\":\"\"}}],\"histogram2d\":[{\"type\":\"histogram2d\",\"colorbar\":{\"outlinewidth\":0,\"ticks\":\"\"},\"colorscale\":[[0.0,\"#0d0887\"],[0.1111111111111111,\"#46039f\"],[0.2222222222222222,\"#7201a8\"],[0.3333333333333333,\"#9c179e\"],[0.4444444444444444,\"#bd3786\"],[0.5555555555555556,\"#d8576b\"],[0.6666666666666666,\"#ed7953\"],[0.7777777777777778,\"#fb9f3a\"],[0.8888888888888888,\"#fdca26\"],[1.0,\"#f0f921\"]]}],\"heatmap\":[{\"type\":\"heatmap\",\"colorbar\":{\"outlinewidth\":0,\"ticks\":\"\"},\"colorscale\":[[0.0,\"#0d0887\"],[0.1111111111111111,\"#46039f\"],[0.2222222222222222,\"#7201a8\"],[0.3333333333333333,\"#9c179e\"],[0.4444444444444444,\"#bd3786\"],[0.5555555555555556,\"#d8576b\"],[0.6666666666666666,\"#ed7953\"],[0.7777777777777778,\"#fb9f3a\"],[0.8888888888888888,\"#fdca26\"],[1.0,\"#f0f921\"]]}],\"heatmapgl\":[{\"type\":\"heatmapgl\",\"colorbar\":{\"outlinewidth\":0,\"ticks\":\"\"},\"colorscale\":[[0.0,\"#0d0887\"],[0.1111111111111111,\"#46039f\"],[0.2222222222222222,\"#7201a8\"],[0.3333333333333333,\"#9c179e\"],[0.4444444444444444,\"#bd3786\"],[0.5555555555555556,\"#d8576b\"],[0.6666666666666666,\"#ed7953\"],[0.7777777777777778,\"#fb9f3a\"],[0.8888888888888888,\"#fdca26\"],[1.0,\"#f0f921\"]]}],\"contourcarpet\":[{\"type\":\"contourcarpet\",\"colorbar\":{\"outlinewidth\":0,\"ticks\":\"\"}}],\"contour\":[{\"type\":\"contour\",\"colorbar\":{\"outlinewidth\":0,\"ticks\":\"\"},\"colorscale\":[[0.0,\"#0d0887\"],[0.1111111111111111,\"#46039f\"],[0.2222222222222222,\"#7201a8\"],[0.3333333333333333,\"#9c179e\"],[0.4444444444444444,\"#bd3786\"],[0.5555555555555556,\"#d8576b\"],[0.6666666666666666,\"#ed7953\"],[0.7777777777777778,\"#fb9f3a\"],[0.8888888888888888,\"#fdca26\"],[1.0,\"#f0f921\"]]}],\"surface\":[{\"type\":\"surface\",\"colorbar\":{\"outlinewidth\":0,\"ticks\":\"\"},\"colorscale\":[[0.0,\"#0d0887\"],[0.1111111111111111,\"#46039f\"],[0.2222222222222222,\"#7201a8\"],[0.3333333333333333,\"#9c179e\"],[0.4444444444444444,\"#bd3786\"],[0.5555555555555556,\"#d8576b\"],[0.6666666666666666,\"#ed7953\"],[0.7777777777777778,\"#fb9f3a\"],[0.8888888888888888,\"#fdca26\"],[1.0,\"#f0f921\"]]}],\"mesh3d\":[{\"type\":\"mesh3d\",\"colorbar\":{\"outlinewidth\":0,\"ticks\":\"\"}}],\"scatter\":[{\"fillpattern\":{\"fillmode\":\"overlay\",\"size\":10,\"solidity\":0.2},\"type\":\"scatter\"}],\"parcoords\":[{\"type\":\"parcoords\",\"line\":{\"colorbar\":{\"outlinewidth\":0,\"ticks\":\"\"}}}],\"scatterpolargl\":[{\"type\":\"scatterpolargl\",\"marker\":{\"colorbar\":{\"outlinewidth\":0,\"ticks\":\"\"}}}],\"bar\":[{\"error_x\":{\"color\":\"#2a3f5f\"},\"error_y\":{\"color\":\"#2a3f5f\"},\"marker\":{\"line\":{\"color\":\"#E5ECF6\",\"width\":0.5},\"pattern\":{\"fillmode\":\"overlay\",\"size\":10,\"solidity\":0.2}},\"type\":\"bar\"}],\"scattergeo\":[{\"type\":\"scattergeo\",\"marker\":{\"colorbar\":{\"outlinewidth\":0,\"ticks\":\"\"}}}],\"scatterpolar\":[{\"type\":\"scatterpolar\",\"marker\":{\"colorbar\":{\"outlinewidth\":0,\"ticks\":\"\"}}}],\"histogram\":[{\"marker\":{\"pattern\":{\"fillmode\":\"overlay\",\"size\":10,\"solidity\":0.2}},\"type\":\"histogram\"}],\"scattergl\":[{\"type\":\"scattergl\",\"marker\":{\"colorbar\":{\"outlinewidth\":0,\"ticks\":\"\"}}}],\"scatter3d\":[{\"type\":\"scatter3d\",\"line\":{\"colorbar\":{\"outlinewidth\":0,\"ticks\":\"\"}},\"marker\":{\"colorbar\":{\"outlinewidth\":0,\"ticks\":\"\"}}}],\"scattermapbox\":[{\"type\":\"scattermapbox\",\"marker\":{\"colorbar\":{\"outlinewidth\":0,\"ticks\":\"\"}}}],\"scatterternary\":[{\"type\":\"scatterternary\",\"marker\":{\"colorbar\":{\"outlinewidth\":0,\"ticks\":\"\"}}}],\"scattercarpet\":[{\"type\":\"scattercarpet\",\"marker\":{\"colorbar\":{\"outlinewidth\":0,\"ticks\":\"\"}}}],\"carpet\":[{\"aaxis\":{\"endlinecolor\":\"#2a3f5f\",\"gridcolor\":\"white\",\"linecolor\":\"white\",\"minorgridcolor\":\"white\",\"startlinecolor\":\"#2a3f5f\"},\"baxis\":{\"endlinecolor\":\"#2a3f5f\",\"gridcolor\":\"white\",\"linecolor\":\"white\",\"minorgridcolor\":\"white\",\"startlinecolor\":\"#2a3f5f\"},\"type\":\"carpet\"}],\"table\":[{\"cells\":{\"fill\":{\"color\":\"#EBF0F8\"},\"line\":{\"color\":\"white\"}},\"header\":{\"fill\":{\"color\":\"#C8D4E3\"},\"line\":{\"color\":\"white\"}},\"type\":\"table\"}],\"barpolar\":[{\"marker\":{\"line\":{\"color\":\"#E5ECF6\",\"width\":0.5},\"pattern\":{\"fillmode\":\"overlay\",\"size\":10,\"solidity\":0.2}},\"type\":\"barpolar\"}],\"pie\":[{\"automargin\":true,\"type\":\"pie\"}]},\"layout\":{\"autotypenumbers\":\"strict\",\"colorway\":[\"#636efa\",\"#EF553B\",\"#00cc96\",\"#ab63fa\",\"#FFA15A\",\"#19d3f3\",\"#FF6692\",\"#B6E880\",\"#FF97FF\",\"#FECB52\"],\"font\":{\"color\":\"#2a3f5f\"},\"hovermode\":\"closest\",\"hoverlabel\":{\"align\":\"left\"},\"paper_bgcolor\":\"white\",\"plot_bgcolor\":\"#E5ECF6\",\"polar\":{\"bgcolor\":\"#E5ECF6\",\"angularaxis\":{\"gridcolor\":\"white\",\"linecolor\":\"white\",\"ticks\":\"\"},\"radialaxis\":{\"gridcolor\":\"white\",\"linecolor\":\"white\",\"ticks\":\"\"}},\"ternary\":{\"bgcolor\":\"#E5ECF6\",\"aaxis\":{\"gridcolor\":\"white\",\"linecolor\":\"white\",\"ticks\":\"\"},\"baxis\":{\"gridcolor\":\"white\",\"linecolor\":\"white\",\"ticks\":\"\"},\"caxis\":{\"gridcolor\":\"white\",\"linecolor\":\"white\",\"ticks\":\"\"}},\"coloraxis\":{\"colorbar\":{\"outlinewidth\":0,\"ticks\":\"\"}},\"colorscale\":{\"sequential\":[[0.0,\"#0d0887\"],[0.1111111111111111,\"#46039f\"],[0.2222222222222222,\"#7201a8\"],[0.3333333333333333,\"#9c179e\"],[0.4444444444444444,\"#bd3786\"],[0.5555555555555556,\"#d8576b\"],[0.6666666666666666,\"#ed7953\"],[0.7777777777777778,\"#fb9f3a\"],[0.8888888888888888,\"#fdca26\"],[1.0,\"#f0f921\"]],\"sequentialminus\":[[0.0,\"#0d0887\"],[0.1111111111111111,\"#46039f\"],[0.2222222222222222,\"#7201a8\"],[0.3333333333333333,\"#9c179e\"],[0.4444444444444444,\"#bd3786\"],[0.5555555555555556,\"#d8576b\"],[0.6666666666666666,\"#ed7953\"],[0.7777777777777778,\"#fb9f3a\"],[0.8888888888888888,\"#fdca26\"],[1.0,\"#f0f921\"]],\"diverging\":[[0,\"#8e0152\"],[0.1,\"#c51b7d\"],[0.2,\"#de77ae\"],[0.3,\"#f1b6da\"],[0.4,\"#fde0ef\"],[0.5,\"#f7f7f7\"],[0.6,\"#e6f5d0\"],[0.7,\"#b8e186\"],[0.8,\"#7fbc41\"],[0.9,\"#4d9221\"],[1,\"#276419\"]]},\"xaxis\":{\"gridcolor\":\"white\",\"linecolor\":\"white\",\"ticks\":\"\",\"title\":{\"standoff\":15},\"zerolinecolor\":\"white\",\"automargin\":true,\"zerolinewidth\":2},\"yaxis\":{\"gridcolor\":\"white\",\"linecolor\":\"white\",\"ticks\":\"\",\"title\":{\"standoff\":15},\"zerolinecolor\":\"white\",\"automargin\":true,\"zerolinewidth\":2},\"scene\":{\"xaxis\":{\"backgroundcolor\":\"#E5ECF6\",\"gridcolor\":\"white\",\"linecolor\":\"white\",\"showbackground\":true,\"ticks\":\"\",\"zerolinecolor\":\"white\",\"gridwidth\":2},\"yaxis\":{\"backgroundcolor\":\"#E5ECF6\",\"gridcolor\":\"white\",\"linecolor\":\"white\",\"showbackground\":true,\"ticks\":\"\",\"zerolinecolor\":\"white\",\"gridwidth\":2},\"zaxis\":{\"backgroundcolor\":\"#E5ECF6\",\"gridcolor\":\"white\",\"linecolor\":\"white\",\"showbackground\":true,\"ticks\":\"\",\"zerolinecolor\":\"white\",\"gridwidth\":2}},\"shapedefaults\":{\"line\":{\"color\":\"#2a3f5f\"}},\"annotationdefaults\":{\"arrowcolor\":\"#2a3f5f\",\"arrowhead\":0,\"arrowwidth\":1},\"geo\":{\"bgcolor\":\"white\",\"landcolor\":\"#E5ECF6\",\"subunitcolor\":\"white\",\"showland\":true,\"showlakes\":true,\"lakecolor\":\"white\"},\"title\":{\"x\":0.05},\"mapbox\":{\"style\":\"light\"}}},\"xaxis\":{\"anchor\":\"y\",\"domain\":[0.0,1.0],\"title\":{\"text\":\"FoodCourt\"}},\"yaxis\":{\"anchor\":\"x\",\"domain\":[0.0,1.0],\"title\":{\"text\":\"Frequency\"}},\"legend\":{\"tracegroupgap\":0},\"margin\":{\"t\":60},\"barmode\":\"relative\",\"title\":{\"text\":\"Histogram of FoodCourt\"}},                        {\"responsive\": true}                    ).then(function(){\n",
       "                            \n",
       "var gd = document.getElementById('7a9dac3f-da2e-4241-afc5-9babea96f955');\n",
       "var x = new MutationObserver(function (mutations, observer) {{\n",
       "        var display = window.getComputedStyle(gd).display;\n",
       "        if (!display || display === 'none') {{\n",
       "            console.log([gd, 'removed!']);\n",
       "            Plotly.purge(gd);\n",
       "            observer.disconnect();\n",
       "        }}\n",
       "}});\n",
       "\n",
       "// Listen for the removal of the full notebook cells\n",
       "var notebookContainer = gd.closest('#notebook-container');\n",
       "if (notebookContainer) {{\n",
       "    x.observe(notebookContainer, {childList: true});\n",
       "}}\n",
       "\n",
       "// Listen for the clearing of the current output cell\n",
       "var outputEl = gd.closest('.output');\n",
       "if (outputEl) {{\n",
       "    x.observe(outputEl, {childList: true});\n",
       "}}\n",
       "\n",
       "                        })                };                            </script>        </div>\n",
       "</body>\n",
       "</html>"
      ]
     },
     "metadata": {},
     "output_type": "display_data"
    },
    {
     "data": {
      "text/html": [
       "<html>\n",
       "<head><meta charset=\"utf-8\" /></head>\n",
       "<body>\n",
       "    <div>            <script src=\"https://cdnjs.cloudflare.com/ajax/libs/mathjax/2.7.5/MathJax.js?config=TeX-AMS-MML_SVG\"></script><script type=\"text/javascript\">if (window.MathJax && window.MathJax.Hub && window.MathJax.Hub.Config) {window.MathJax.Hub.Config({SVG: {font: \"STIX-Web\"}});}</script>                <script type=\"text/javascript\">window.PlotlyConfig = {MathJaxConfig: 'local'};</script>\n",
       "        <script charset=\"utf-8\" src=\"https://cdn.plot.ly/plotly-2.35.2.min.js\"></script>                <div id=\"4c95abb1-f21c-4384-96e3-27ccf50c623c\" class=\"plotly-graph-div\" style=\"height:525px; width:100%;\"></div>            <script type=\"text/javascript\">                                    window.PLOTLYENV=window.PLOTLYENV || {};                                    if (document.getElementById(\"4c95abb1-f21c-4384-96e3-27ccf50c623c\")) {                    Plotly.newPlot(                        \"4c95abb1-f21c-4384-96e3-27ccf50c623c\",                        [{\"alignmentgroup\":\"True\",\"bingroup\":\"x\",\"hovertemplate\":\"ShoppingMall=%{x}\\u003cbr\\u003ecount=%{y}\\u003cextra\\u003e\\u003c\\u002fextra\\u003e\",\"legendgroup\":\"\",\"marker\":{\"color\":\"#636efa\",\"pattern\":{\"shape\":\"\"}},\"name\":\"\",\"nbinsx\":30,\"offsetgroup\":\"\",\"orientation\":\"v\",\"showlegend\":false,\"x\":[0.0,25.0,0.0,371.0,151.0,0.0,3.0,0.0,17.0,0.0,null,589.0,1123.0,65.0,12.0,876.0,null,0.0,0.0,0.0,1.0,0.0,0.0,null,0.0,0.0,0.0,69.0,null,0.0,0.0,136.0,81.0,1411.0,0.0,1750.0,0.0,0.0,48.0,0.0,null,0.0,45.0,0.0,0.0,0.0,180.0,0.0,0.0,0.0,2.0,1938.0,0.0,0.0,3374.0,0.0,148.0,0.0,0.0,null,197.0,0.0,446.0,0.0,2.0,9.0,5.0,0.0,0.0,738.0,0.0,1018.0,1295.0,0.0,0.0,0.0,0.0,0.0,0.0,0.0,0.0,0.0,0.0,0.0,31.0,670.0,null,0.0,0.0,5.0,957.0,526.0,0.0,0.0,0.0,0.0,0.0,0.0,570.0,17.0,0.0,326.0,0.0,6.0,0.0,0.0,0.0,0.0,87.0,804.0,429.0,0.0,0.0,0.0,0.0,0.0,0.0,49.0,0.0,296.0,9.0,0.0,null,0.0,0.0,730.0,126.0,0.0,0.0,0.0,0.0,0.0,97.0,210.0,0.0,0.0,10.0,0.0,0.0,0.0,0.0,0.0,0.0,0.0,0.0,0.0,0.0,48.0,0.0,0.0,0.0,0.0,0.0,16.0,1.0,161.0,673.0,0.0,0.0,3.0,0.0,426.0,0.0,0.0,401.0,0.0,0.0,0.0,10.0,0.0,8.0,0.0,867.0,719.0,0.0,0.0,0.0,0.0,0.0,0.0,0.0,null,0.0,66.0,12.0,0.0,null,137.0,0.0,307.0,0.0,0.0,0.0,0.0,0.0,0.0,0.0,0.0,0.0,null,0.0,0.0,0.0,119.0,1.0,188.0,0.0,301.0,221.0,0.0,0.0,0.0,0.0,665.0,5.0,0.0,0.0,1.0,0.0,256.0,0.0,0.0,0.0,0.0,0.0,691.0,0.0,0.0,0.0,0.0,796.0,287.0,0.0,0.0,0.0,541.0,0.0,408.0,0.0,null,0.0,313.0,0.0,0.0,0.0,0.0,0.0,592.0,128.0,0.0,0.0,0.0,0.0,2078.0,0.0,0.0,1.0,0.0,0.0,29.0,0.0,32.0,0.0,0.0,0.0,0.0,0.0,0.0,88.0,0.0,1324.0,0.0,0.0,15.0,0.0,0.0,0.0,259.0,1359.0,157.0,0.0,1.0,null,0.0,0.0,74.0,0.0,null,0.0,0.0,3.0,209.0,0.0,0.0,0.0,784.0,0.0,0.0,0.0,251.0,0.0,211.0,16.0,0.0,634.0,0.0,null,0.0,0.0,0.0,0.0,0.0,1434.0,202.0,1865.0,0.0,2975.0,0.0,0.0,0.0,0.0,0.0,453.0,33.0,0.0,0.0,4447.0,0.0,592.0,0.0,0.0,0.0,0.0,558.0,786.0,0.0,4.0,0.0,7.0,0.0,0.0,6.0,0.0,591.0,0.0,0.0,null,0.0,0.0,0.0,0.0,881.0,0.0,0.0,0.0,356.0,0.0,0.0,552.0,0.0,0.0,0.0,36.0,0.0,0.0,0.0,0.0,0.0,0.0,0.0,0.0,52.0,1116.0,0.0,101.0,5952.0,0.0,0.0,0.0,0.0,0.0,0.0,26.0,0.0,0.0,7185.0,0.0,0.0,0.0,0.0,0.0,0.0,0.0,0.0,0.0,0.0,0.0,0.0,22.0,840.0,0.0,45.0,0.0,0.0,102.0,136.0,0.0,0.0,0.0,795.0,0.0,0.0,0.0,0.0,0.0,0.0,0.0,0.0,0.0,0.0,188.0,747.0,0.0,0.0,0.0,0.0,0.0,0.0,182.0,0.0,0.0,257.0,81.0,0.0,22.0,863.0,0.0,0.0,0.0,2.0,0.0,544.0,0.0,38.0,145.0,0.0,0.0,0.0,23.0,0.0,0.0,0.0,0.0,12.0,null,0.0,0.0,0.0,0.0,0.0,1749.0,967.0,817.0,0.0,47.0,16.0,0.0,0.0,0.0,11.0,0.0,0.0,0.0,0.0,0.0,0.0,0.0,0.0,0.0,41.0,1.0,0.0,0.0,0.0,0.0,750.0,1733.0,0.0,3.0,0.0,0.0,0.0,0.0,0.0,384.0,29.0,316.0,0.0,0.0,null,0.0,0.0,0.0,479.0,0.0,0.0,0.0,0.0,838.0,831.0,704.0,0.0,0.0,0.0,266.0,0.0,0.0,0.0,0.0,1.0,0.0,580.0,0.0,0.0,74.0,332.0,402.0,0.0,0.0,2.0,612.0,0.0,0.0,0.0,0.0,310.0,1.0,0.0,0.0,0.0,0.0,0.0,0.0,0.0,21.0,25.0,0.0,625.0,521.0,37.0,0.0,0.0,601.0,0.0,0.0,0.0,0.0,0.0,0.0,1092.0,0.0,616.0,0.0,551.0,0.0,0.0,182.0,0.0,0.0,2155.0,0.0,0.0,null,0.0,0.0,46.0,0.0,826.0,0.0,0.0,0.0,12.0,10.0,19.0,118.0,0.0,null,229.0,0.0,0.0,0.0,0.0,0.0,0.0,908.0,0.0,0.0,0.0,0.0,18.0,0.0,0.0,0.0,0.0,0.0,0.0,50.0,0.0,7.0,0.0,0.0,956.0,0.0,0.0,82.0,0.0,0.0,0.0,141.0,0.0,0.0,0.0,0.0,0.0,1087.0,0.0,0.0,708.0,0.0,0.0,736.0,1.0,0.0,0.0,0.0,16.0,0.0,7104.0,2.0,87.0,2.0,0.0,38.0,0.0,0.0,0.0,0.0,0.0,0.0,0.0,0.0,252.0,0.0,0.0,0.0,4.0,0.0,null,9.0,97.0,0.0,0.0,783.0,1952.0,0.0,0.0,0.0,226.0,689.0,0.0,301.0,0.0,4.0,0.0,0.0,722.0,null,0.0,0.0,null,0.0,170.0,0.0,0.0,0.0,0.0,null,0.0,0.0,0.0,0.0,0.0,4.0,0.0,0.0,0.0,1.0,2.0,0.0,2.0,88.0,322.0,484.0,0.0,0.0,0.0,0.0,0.0,0.0,0.0,0.0,0.0,4.0,0.0,0.0,0.0,0.0,null,5.0,0.0,0.0,0.0,55.0,121.0,679.0,0.0,0.0,0.0,0.0,0.0,0.0,0.0,0.0,0.0,0.0,325.0,0.0,0.0,0.0,0.0,1399.0,0.0,0.0,0.0,0.0,0.0,2.0,0.0,0.0,0.0,4.0,870.0,0.0,null,0.0,0.0,0.0,0.0,0.0,0.0,0.0,0.0,5.0,0.0,100.0,32.0,0.0,701.0,0.0,1.0,51.0,0.0,0.0,0.0,0.0,0.0,30.0,0.0,0.0,0.0,0.0,714.0,0.0,10.0,0.0,739.0,343.0,0.0,0.0,22.0,null,2695.0,0.0,0.0,0.0,9.0,71.0,0.0,0.0,0.0,0.0,0.0,0.0,0.0,0.0,0.0,19.0,0.0,0.0,320.0,0.0,0.0,0.0,0.0,0.0,18.0,0.0,444.0,0.0,0.0,32.0,540.0,0.0,46.0,0.0,3.0,0.0,0.0,10.0,0.0,0.0,0.0,0.0,338.0,0.0,0.0,716.0,0.0,2552.0,0.0,0.0,0.0,421.0,469.0,7.0,null,0.0,null,543.0,0.0,0.0,0.0,10.0,93.0,0.0,0.0,0.0,0.0,0.0,984.0,1626.0,0.0,0.0,0.0,234.0,699.0,0.0,0.0,0.0,115.0,0.0,0.0,0.0,0.0,0.0,871.0,0.0,0.0,0.0,0.0,555.0,831.0,0.0,0.0,0.0,0.0,0.0,1383.0,3.0,0.0,0.0,0.0,null,8.0,0.0,0.0,834.0,0.0,0.0,0.0,0.0,0.0,323.0,448.0,0.0,8.0,0.0,0.0,4.0,0.0,13.0,718.0,490.0,0.0,0.0,0.0,0.0,0.0,null,35.0,906.0,0.0,0.0,46.0,0.0,0.0,0.0,17.0,0.0,0.0,0.0,0.0,0.0,98.0,0.0,880.0,0.0,32.0,0.0,0.0,715.0,0.0,0.0,4.0,0.0,0.0,0.0,0.0,0.0,49.0,0.0,0.0,0.0,0.0,267.0,122.0,0.0,0.0,0.0,0.0,0.0,0.0,0.0,0.0,106.0,0.0,0.0,81.0,null,0.0,0.0,0.0,0.0,0.0,0.0,0.0,1973.0,0.0,84.0,62.0,0.0,1526.0,0.0,7.0,0.0,0.0,612.0,0.0,0.0,81.0,21.0,0.0,828.0,0.0,0.0,0.0,27.0,157.0,48.0,0.0,0.0,0.0,0.0,0.0,0.0,0.0,0.0,0.0,0.0,0.0,133.0,1108.0,60.0,0.0,0.0,0.0,0.0,0.0,0.0,0.0,0.0,0.0,0.0,0.0,0.0,1.0,0.0,18.0,0.0,0.0,0.0,0.0,642.0,298.0,0.0,106.0,99.0,660.0,263.0,756.0,0.0,0.0,0.0,6124.0,0.0,363.0,0.0,0.0,0.0,0.0,0.0,51.0,0.0,0.0,0.0,0.0,0.0,3505.0,0.0,0.0,0.0,0.0,1632.0,0.0,0.0,0.0,0.0,0.0,884.0,3.0,187.0,0.0,0.0,2138.0,0.0,2.0,0.0,null,76.0,0.0,0.0,0.0,0.0,0.0,0.0,1095.0,0.0,0.0,0.0,0.0,0.0,0.0,2.0,0.0,72.0,0.0,0.0,5.0,0.0,0.0,0.0,0.0,926.0,null,12.0,9.0,279.0,12.0,null,0.0,0.0,600.0,0.0,957.0,0.0,3.0,0.0,0.0,0.0,0.0,0.0,654.0,0.0,180.0,0.0,0.0,0.0,464.0,0.0,0.0,0.0,0.0,0.0,3700.0,0.0,752.0,0.0,513.0,6.0,0.0,0.0,0.0,0.0,0.0,0.0,843.0,0.0,0.0,195.0,800.0,0.0,0.0,0.0,0.0,0.0,0.0,0.0,0.0,0.0,60.0,0.0,907.0,863.0,0.0,0.0,0.0,0.0,0.0,1250.0,1061.0,0.0,3301.0,0.0,122.0,0.0,0.0,0.0,11.0,0.0,0.0,0.0,431.0,896.0,0.0,0.0,1.0,289.0,619.0,0.0,0.0,66.0,0.0,0.0,15.0,0.0,0.0,591.0,0.0,0.0,482.0,0.0,0.0,1.0,0.0,16.0,0.0,0.0,0.0,1084.0,0.0,0.0,2.0,4.0,3.0,268.0,null,0.0,0.0,null,0.0,675.0,1.0,4817.0,0.0,0.0,null,0.0,0.0,0.0,1.0,0.0,0.0,0.0,0.0,0.0,0.0,109.0,1.0,0.0,292.0,4.0,0.0,0.0,null,23.0,0.0,0.0,0.0,0.0,0.0,0.0,340.0,0.0,null,260.0,0.0,193.0,1128.0,0.0,561.0,0.0,0.0,0.0,0.0,0.0,5.0,18.0,0.0,0.0,0.0,0.0,126.0,8.0,0.0,0.0,1.0,0.0,340.0,0.0,0.0,0.0,0.0,0.0,0.0,0.0,0.0,0.0,0.0,0.0,23.0,0.0,0.0,946.0,0.0,537.0,550.0,0.0,0.0,0.0,0.0,429.0,0.0,690.0,0.0,0.0,377.0,0.0,0.0,0.0,280.0,0.0,null,0.0,46.0,210.0,212.0,224.0,0.0,0.0,334.0,529.0,0.0,599.0,0.0,null,0.0,28.0,0.0,1013.0,27.0,3.0,0.0,896.0,null,0.0,0.0,2011.0,0.0,0.0,1243.0,0.0,null,243.0,0.0,0.0,0.0,0.0,0.0,0.0,0.0,0.0,0.0,0.0,0.0,0.0,null,1721.0,128.0,2116.0,4.0,0.0,331.0,0.0,0.0,26.0,0.0,228.0,9.0,39.0,0.0,0.0,0.0,0.0,0.0,0.0,0.0,0.0,0.0,10.0,0.0,0.0,0.0,0.0,32.0,0.0,15.0,0.0,0.0,0.0,2119.0,422.0,3.0,2020.0,387.0,0.0,0.0,0.0,73.0,0.0,0.0,0.0,0.0,733.0,0.0,744.0,884.0,0.0,0.0,0.0,0.0,0.0,0.0,0.0,0.0,null,0.0,0.0,0.0,913.0,0.0,0.0,0.0,0.0,0.0,497.0,68.0,615.0,1217.0,683.0,0.0,0.0,58.0,1.0,0.0,0.0,0.0,0.0,13.0,0.0,0.0,0.0,0.0,0.0,38.0,2.0,0.0,0.0,1360.0,0.0,0.0,533.0,0.0,0.0,0.0,0.0,0.0,22.0,0.0,0.0,157.0,0.0,0.0,629.0,661.0,0.0,0.0,0.0,0.0,43.0,0.0,0.0,0.0,45.0,0.0,332.0,0.0,0.0,0.0,0.0,null,0.0,11.0,146.0,82.0,372.0,null,0.0,0.0,8.0,36.0,0.0,0.0,0.0,0.0,0.0,0.0,0.0,2.0,1.0,0.0,1487.0,0.0,0.0,0.0,0.0,0.0,null,0.0,0.0,0.0,0.0,0.0,0.0,0.0,0.0,798.0,0.0,0.0,0.0,0.0,965.0,6.0,null,0.0,19.0,0.0,1.0,41.0,0.0,0.0,62.0,0.0,0.0,0.0,0.0,0.0,0.0,0.0,11.0,0.0,0.0,0.0,0.0,0.0,null,6.0,0.0,66.0,1.0,0.0,0.0,885.0,10.0,0.0,0.0,0.0,0.0,0.0,830.0,0.0,0.0,37.0,218.0,6.0,3.0,0.0,0.0,0.0,0.0,0.0,0.0,0.0,2820.0,6.0,147.0,0.0,881.0,213.0,0.0,0.0,0.0,5.0,0.0,0.0,0.0,0.0,0.0,91.0,0.0,0.0,208.0,0.0,0.0,0.0,88.0,1155.0,0.0,201.0,17.0,0.0,0.0,0.0,0.0,0.0,687.0,516.0,0.0,1.0,1247.0,89.0,24.0,136.0,0.0,646.0,1246.0,0.0,908.0,959.0,49.0,2.0,0.0,0.0,473.0,0.0,0.0,null,5.0,0.0,0.0,0.0,0.0,1061.0,0.0,499.0,0.0,0.0,0.0,0.0,0.0,0.0,19.0,0.0,0.0,10.0,387.0,0.0,0.0,496.0,0.0,0.0,0.0,0.0,0.0,0.0,0.0,0.0,0.0,10.0,17.0,0.0,0.0,0.0,0.0,0.0,0.0,0.0,0.0,124.0,0.0,0.0,0.0,0.0,436.0,49.0,0.0,870.0,809.0,0.0,0.0,0.0,0.0,135.0,0.0,0.0,0.0,0.0,71.0,0.0,0.0,33.0,0.0,0.0,0.0,0.0,0.0,0.0,2.0,0.0,0.0,0.0,0.0,4.0,8.0,2661.0,0.0,0.0,73.0,454.0,0.0,1.0,38.0,0.0,361.0,0.0,496.0,569.0,1.0,3.0,80.0,0.0,21.0,3.0,0.0,0.0,0.0,0.0,1582.0,0.0,0.0,137.0,0.0,0.0,0.0,0.0,null,2.0,0.0,257.0,1.0,0.0,0.0,0.0,864.0,0.0,657.0,0.0,0.0,0.0,0.0,974.0,1081.0,0.0,0.0,0.0,0.0,0.0,0.0,0.0,0.0,0.0,0.0,0.0,0.0,0.0,0.0,26.0,0.0,1789.0,0.0,0.0,72.0,0.0,0.0,176.0,718.0,0.0,22.0,0.0,0.0,0.0,0.0,0.0,158.0,1.0,0.0,0.0,397.0,0.0,0.0,345.0,0.0,0.0,0.0,0.0,34.0,0.0,0.0,0.0,0.0,0.0,0.0,0.0,288.0,0.0,18.0,0.0,0.0,0.0,1.0,107.0,0.0,0.0,0.0,17.0,1508.0,295.0,43.0,1476.0,0.0,328.0,787.0,53.0,0.0,0.0,398.0,0.0,1134.0,5.0,0.0,0.0,0.0,4899.0,0.0,677.0,0.0,94.0,0.0,0.0,0.0,1.0,0.0,0.0,0.0,56.0,0.0,1.0,0.0,null,0.0,0.0,0.0,0.0,0.0,0.0,0.0,0.0,693.0,0.0,0.0,0.0,0.0,139.0,0.0,0.0,0.0,30.0,352.0,0.0,802.0,249.0,0.0,197.0,0.0,1.0,13.0,548.0,20.0,0.0,0.0,0.0,0.0,0.0,0.0,0.0,0.0,0.0,0.0,0.0,0.0,0.0,0.0,0.0,0.0,10.0,0.0,0.0,429.0,1051.0,0.0,730.0,0.0,38.0,503.0,0.0,0.0,0.0,0.0,0.0,634.0,0.0,0.0,694.0,4.0,13.0,0.0,0.0,0.0,0.0,0.0,0.0,0.0,0.0,0.0,0.0,0.0,0.0,0.0,0.0,753.0,0.0,0.0,0.0,0.0,72.0,533.0,0.0,71.0,7.0,0.0,0.0,0.0,340.0,0.0,4.0,0.0,1.0,0.0,2640.0,0.0,0.0,872.0,0.0,1.0,133.0,801.0,0.0,2315.0,41.0,1605.0,0.0,22.0,0.0,0.0,611.0,68.0,0.0,1474.0,734.0,249.0,4.0,0.0,0.0,0.0,1.0,0.0,1404.0,18.0,0.0,0.0,0.0,0.0,0.0,1058.0,0.0,0.0,0.0,0.0,0.0,0.0,7.0,0.0,2.0,480.0,0.0,43.0,0.0,0.0,0.0,362.0,17.0,0.0,0.0,0.0,0.0,0.0,698.0,1610.0,0.0,0.0,0.0,0.0,128.0,47.0,61.0,0.0,0.0,0.0,0.0,0.0,0.0,0.0,2027.0,0.0,0.0,0.0,6.0,0.0,495.0,0.0,991.0,7.0,551.0,0.0,0.0,0.0,0.0,0.0,0.0,0.0,41.0,31.0,0.0,0.0,0.0,0.0,446.0,0.0,619.0,0.0,119.0,0.0,0.0,0.0,0.0,902.0,47.0,13.0,17.0,560.0,0.0,187.0,857.0,228.0,0.0,0.0,0.0,0.0,0.0,33.0,0.0,0.0,0.0,880.0,0.0,0.0,0.0,0.0,1.0,182.0,26.0,671.0,0.0,0.0,0.0,0.0,0.0,1348.0,1031.0,0.0,61.0,0.0,741.0,0.0,0.0,469.0,921.0,80.0,756.0,14.0,0.0,171.0,0.0,0.0,0.0,0.0,null,0.0,0.0,885.0,136.0,32.0,13.0,185.0,647.0,0.0,0.0,1257.0,0.0,0.0,0.0,0.0,0.0,0.0,670.0,470.0,null,null,0.0,0.0,1.0,1127.0,0.0,802.0,2559.0,0.0,435.0,0.0,1224.0,70.0,null,1.0,381.0,0.0,null,33.0,0.0,1.0,0.0,32.0,0.0,0.0,0.0,3.0,0.0,0.0,4.0,0.0,95.0,1.0,0.0,0.0,0.0,0.0,0.0,0.0,1.0,null,791.0,0.0,0.0,0.0,0.0,626.0,0.0,0.0,0.0,0.0,388.0,0.0,20.0,0.0,0.0,17.0,0.0,0.0,57.0,648.0,0.0,0.0,0.0,0.0,0.0,0.0,0.0,2.0,0.0,78.0,0.0,86.0,0.0,0.0,0.0,0.0,994.0,0.0,0.0,792.0,41.0,6.0,null,0.0,1.0,267.0,880.0,0.0,1432.0,659.0,0.0,0.0,678.0,0.0,0.0,0.0,0.0,0.0,0.0,0.0,0.0,78.0,0.0,0.0,null,0.0,0.0,0.0,0.0,30.0,0.0,44.0,319.0,0.0,null,0.0,7.0,0.0,130.0,0.0,0.0,0.0,0.0,null,17.0,0.0,0.0,2.0,1079.0,0.0,0.0,0.0,0.0,1559.0,0.0,0.0,0.0,332.0,0.0,79.0,0.0,28.0,0.0,0.0,13.0,493.0,0.0,76.0,3.0,27.0,661.0,0.0,0.0,0.0,0.0,28.0,0.0,0.0,1168.0,0.0,0.0,578.0,0.0,0.0,0.0,12.0,61.0,49.0,0.0,0.0,450.0,30.0,null,0.0,1.0,0.0,0.0,0.0,0.0,0.0,0.0,30.0,54.0,525.0,0.0,552.0,0.0,0.0,0.0,34.0,0.0,0.0,1.0,745.0,0.0,291.0,4.0,46.0,0.0,0.0,0.0,0.0,1145.0,1342.0,0.0,0.0,0.0,0.0,0.0,0.0,0.0,0.0,344.0,0.0,0.0,0.0,null,0.0,0.0,0.0,110.0,189.0,0.0,1682.0,0.0,0.0,0.0,0.0,292.0,451.0,127.0,28.0,0.0,0.0,0.0,24.0,0.0,2.0,0.0,23.0,0.0,7.0,0.0,3.0,4.0,0.0,0.0,0.0,0.0,0.0,0.0,0.0,0.0,922.0,0.0,0.0,0.0,0.0,0.0,0.0,0.0,96.0,0.0,0.0,138.0,557.0,0.0,0.0,0.0,12.0,0.0,0.0,16.0,0.0,46.0,null,743.0,0.0,0.0,0.0,0.0,0.0,0.0,285.0,0.0,0.0,0.0,0.0,2628.0,13.0,0.0,0.0,0.0,0.0,0.0,1646.0,0.0,0.0,1213.0,1131.0,0.0,0.0,0.0,0.0,0.0,0.0,0.0,801.0,0.0,0.0,2.0,0.0,0.0,0.0,469.0,0.0,0.0,13.0,875.0,0.0,271.0,479.0,5.0,0.0,0.0,0.0,0.0,0.0,0.0,29.0,137.0,0.0,0.0,0.0,17.0,6.0,1558.0,0.0,0.0,0.0,0.0,1795.0,0.0,0.0,1994.0,0.0,0.0,670.0,0.0,1.0,795.0,0.0,null,0.0,0.0,937.0,0.0,0.0,0.0,260.0,1.0,0.0,0.0,0.0,213.0,3813.0,1865.0,0.0,0.0,0.0,0.0,0.0,0.0,0.0,0.0,0.0,116.0,1.0,21.0,0.0,0.0,0.0,0.0,4.0,4.0,0.0,1.0,0.0,0.0,0.0,348.0,0.0,0.0,0.0,37.0,0.0,0.0,381.0,0.0,0.0,0.0,0.0,13.0,0.0,1.0,0.0,0.0,55.0,0.0,0.0,0.0,0.0,38.0,362.0,0.0,11.0,0.0,0.0,0.0,0.0,0.0,0.0,0.0,24.0,0.0,0.0,0.0,0.0,0.0,133.0,2.0,310.0,356.0,0.0,0.0,0.0,0.0,0.0,0.0,0.0,0.0,0.0,0.0,0.0,0.0,170.0,0.0,0.0,0.0,260.0,10.0,0.0,213.0,0.0,null,0.0,0.0,192.0,0.0,0.0,648.0,3.0,31.0,0.0,414.0,0.0,0.0,0.0,0.0,0.0,1661.0,0.0,0.0,1098.0,0.0,0.0,0.0,4333.0,0.0,0.0,660.0,0.0,0.0,15.0,0.0,0.0,0.0,null,0.0,0.0,0.0,0.0,0.0,366.0,64.0,154.0,0.0,0.0,0.0,0.0,0.0,384.0,0.0,0.0,910.0,0.0,0.0,981.0,0.0,0.0,0.0,null,0.0,0.0,0.0,0.0,0.0,0.0,0.0,0.0,174.0,0.0,0.0,23.0,0.0,null,null,0.0,0.0,0.0,657.0,0.0,0.0,0.0,111.0,14.0,0.0,0.0,0.0,0.0,0.0,0.0,77.0,0.0,0.0,49.0,7.0,442.0,0.0,1617.0,92.0,0.0,1.0,0.0,0.0,0.0,23.0,0.0,0.0,7.0,3648.0,0.0,0.0,0.0,1282.0,0.0,744.0,1698.0,0.0,0.0,0.0,0.0,0.0,0.0,0.0,0.0,779.0,443.0,288.0,0.0,0.0,0.0,25.0,0.0,null,133.0,2005.0,0.0,0.0,0.0,736.0,0.0,1509.0,315.0,0.0,0.0,569.0,796.0,0.0,545.0,0.0,2.0,null,0.0,0.0,0.0,0.0,0.0,11.0,0.0,363.0,13.0,97.0,0.0,16.0,0.0,0.0,0.0,0.0,77.0,0.0,374.0,0.0,101.0,0.0,4.0,933.0,0.0,0.0,132.0,0.0,709.0,323.0,0.0,32.0,6.0,0.0,1441.0,585.0,0.0,0.0,31.0,0.0,2516.0,7.0,0.0,0.0,null,14.0,0.0,0.0,2.0,0.0,0.0,0.0,2280.0,0.0,0.0,0.0,0.0,0.0,0.0,0.0,null,0.0,0.0,0.0,2.0,234.0,0.0,301.0,6.0,270.0,0.0,0.0,1752.0,0.0,0.0,0.0,0.0,82.0,0.0,0.0,0.0,0.0,0.0,0.0,25.0,1181.0,0.0,1.0,0.0,0.0,2.0,301.0,0.0,0.0,0.0,6.0,0.0,947.0,0.0,0.0,0.0,2.0,10.0,0.0,0.0,0.0,31.0,0.0,0.0,0.0,0.0,1650.0,0.0,0.0,0.0,0.0,0.0,8.0,0.0,0.0,36.0,0.0,0.0,0.0,1793.0,0.0,0.0,0.0,0.0,0.0,0.0,0.0,0.0,102.0,1349.0,10.0,633.0,0.0,0.0,0.0,0.0,0.0,0.0,0.0,0.0,0.0,0.0,0.0,0.0,0.0,155.0,656.0,47.0,0.0,0.0,0.0,68.0,0.0,0.0,0.0,299.0,0.0,13.0,0.0,2646.0,618.0,0.0,0.0,0.0,0.0,394.0,0.0,0.0,1604.0,43.0,59.0,71.0,0.0,0.0,31.0,79.0,0.0,0.0,3.0,0.0,971.0,0.0,5.0,0.0,142.0,1834.0,0.0,0.0,548.0,74.0,0.0,1352.0,1632.0,0.0,0.0,0.0,0.0,379.0,193.0,699.0,0.0,0.0,0.0,0.0,0.0,0.0,0.0,147.0,849.0,0.0,6.0,675.0,0.0,0.0,0.0,1553.0,null,669.0,0.0,0.0,7.0,0.0,null,0.0,21.0,0.0,0.0,0.0,0.0,9.0,null,0.0,0.0,726.0,0.0,0.0,0.0,0.0,116.0,88.0,5.0,0.0,0.0,75.0,616.0,799.0,0.0,0.0,0.0,407.0,1100.0,0.0,0.0,1271.0,0.0,238.0,0.0,80.0,0.0,599.0,0.0,0.0,402.0,0.0,0.0,0.0,0.0,236.0,687.0,0.0,0.0,0.0,0.0,1.0,0.0,0.0,0.0,0.0,322.0,0.0,0.0,895.0,0.0,0.0,0.0,0.0,16.0,341.0,0.0,0.0,0.0,0.0,0.0,0.0,0.0,0.0,0.0,0.0,34.0,453.0,0.0,0.0,0.0,0.0,0.0,50.0,14.0,0.0,0.0,0.0,0.0,0.0,0.0,25.0,0.0,0.0,0.0,101.0,8.0,775.0,0.0,0.0,117.0,0.0,0.0,0.0,0.0,0.0,0.0,150.0,504.0,762.0,0.0,0.0,0.0,0.0,238.0,99.0,0.0,0.0,0.0,0.0,0.0,0.0,532.0,0.0,0.0,0.0,0.0,0.0,0.0,1519.0,0.0,0.0,0.0,29.0,83.0,830.0,0.0,0.0,0.0,0.0,90.0,7.0,0.0,null,0.0,0.0,584.0,0.0,0.0,0.0,191.0,0.0,0.0,0.0,0.0,0.0,0.0,0.0,0.0,0.0,0.0,0.0,84.0,533.0,0.0,0.0,7.0,0.0,46.0,0.0,0.0,0.0,0.0,0.0,705.0,0.0,37.0,0.0,null,0.0,0.0,0.0,1264.0,0.0,0.0,0.0,830.0,0.0,0.0,0.0,269.0,0.0,0.0,0.0,1435.0,898.0,415.0,0.0,0.0,0.0,0.0,809.0,158.0,0.0,0.0,0.0,0.0,0.0,0.0,0.0,181.0,4.0,0.0,117.0,0.0,0.0,0.0,0.0,0.0,2.0,0.0,415.0,0.0,0.0,581.0,0.0,137.0,0.0,0.0,400.0,0.0,0.0,1442.0,0.0,0.0,0.0,0.0,0.0,91.0,26.0,null,0.0,0.0,0.0,0.0,null,0.0,0.0,0.0,26.0,0.0,0.0,0.0,0.0,0.0,0.0,0.0,0.0,0.0,533.0,0.0,395.0,0.0,0.0,0.0,0.0,0.0,5.0,0.0,0.0,0.0,null,0.0,null,15.0,0.0,0.0,0.0,4.0,0.0,0.0,1.0,0.0,2908.0,0.0,0.0,0.0,21.0,0.0,0.0,11.0,693.0,0.0,0.0,0.0,0.0,18.0,0.0,0.0,0.0,0.0,0.0,1231.0,991.0,674.0,0.0,23.0,0.0,1103.0,0.0,0.0,1763.0,857.0,52.0,0.0,0.0,0.0,722.0,0.0,0.0,0.0,0.0,0.0,0.0,0.0,0.0,688.0,778.0,0.0,31.0,0.0,280.0,0.0,7.0,0.0,0.0,0.0,274.0,0.0,0.0,0.0,0.0,0.0,0.0,1820.0,0.0,0.0,0.0,0.0,0.0,0.0,0.0,1.0,0.0,0.0,0.0,65.0,800.0,0.0,1777.0,1158.0,0.0,0.0,0.0,0.0,508.0,2687.0,0.0,0.0,160.0,0.0,0.0,0.0,0.0,0.0,1.0,14.0,1215.0,0.0,459.0,88.0,0.0,640.0,null,0.0,0.0,0.0,89.0,46.0,0.0,0.0,0.0,0.0,0.0,0.0,0.0,0.0,0.0,0.0,0.0,0.0,0.0,896.0,0.0,0.0,7.0,0.0,5.0,0.0,0.0,0.0,0.0,0.0,0.0,366.0,0.0,0.0,0.0,276.0,0.0,0.0,1.0,9.0,0.0,0.0,0.0,1.0,0.0,0.0,0.0,0.0,0.0,0.0,0.0,null,0.0,0.0,0.0,0.0,444.0,827.0,0.0,0.0,0.0,335.0,671.0,2233.0,0.0,0.0,null,0.0,0.0,1.0,1.0,37.0,788.0,0.0,0.0,0.0,0.0,137.0,0.0,0.0,0.0,0.0,0.0,357.0,4.0,0.0,0.0,0.0,0.0,0.0,13.0,15.0,0.0,0.0,36.0,0.0,28.0,246.0,980.0,8.0,889.0,0.0,377.0,0.0,0.0,0.0,232.0,0.0,0.0,0.0,0.0,761.0,354.0,0.0,0.0,0.0,0.0,1769.0,2509.0,0.0,0.0,0.0,0.0,0.0,0.0,0.0,0.0,null,0.0,0.0,0.0,116.0,0.0,632.0,0.0,2.0,0.0,null,0.0,5.0,869.0,14.0,0.0,0.0,0.0,0.0,0.0,0.0,0.0,3.0,null,594.0,0.0,131.0,0.0,0.0,0.0,0.0,0.0,0.0,0.0,0.0,0.0,385.0,0.0,112.0,717.0,258.0,0.0,0.0,0.0,422.0,348.0,1503.0,44.0,0.0,0.0,394.0,0.0,0.0,4509.0,0.0,0.0,13.0,0.0,1.0,131.0,0.0,1355.0,1.0,0.0,0.0,849.0,284.0,0.0,0.0,0.0,0.0,0.0,0.0,0.0,0.0,1376.0,0.0,114.0,0.0,53.0,0.0,13.0,11.0,0.0,0.0,4.0,921.0,80.0,0.0,0.0,0.0,0.0,101.0,0.0,242.0,190.0,1564.0,0.0,91.0,0.0,627.0,227.0,44.0,0.0,0.0,0.0,0.0,0.0,0.0,0.0,0.0,0.0,0.0,0.0,0.0,0.0,735.0,0.0,7.0,null,0.0,597.0,0.0,1883.0,215.0,8.0,1105.0,0.0,7.0,768.0,0.0,0.0,0.0,0.0,623.0,0.0,0.0,0.0,0.0,0.0,31.0,0.0,1189.0,3.0,70.0,0.0,0.0,0.0,0.0,0.0,0.0,0.0,0.0,4.0,0.0,0.0,0.0,0.0,0.0,0.0,0.0,0.0,0.0,0.0,0.0,0.0,0.0,0.0,11.0,1462.0,0.0,496.0,1.0,553.0,0.0,0.0,0.0,0.0,null,711.0,0.0,0.0,0.0,0.0,0.0,0.0,0.0,0.0,0.0,0.0,0.0,0.0,2316.0,805.0,0.0,0.0,0.0,5.0,0.0,0.0,0.0,840.0,0.0,0.0,0.0,659.0,0.0,91.0,477.0,1.0,15.0,0.0,0.0,0.0,14.0,255.0,0.0,0.0,0.0,0.0,0.0,0.0,0.0,0.0,0.0,1020.0,0.0,0.0,0.0,764.0,0.0,0.0,5.0,0.0,0.0,675.0,0.0,33.0,0.0,0.0,1.0,150.0,0.0,80.0,0.0,10.0,0.0,0.0,310.0,2.0,0.0,0.0,0.0,1136.0,0.0,0.0,0.0,0.0,424.0,0.0,970.0,0.0,0.0,0.0,14.0,0.0,0.0,0.0,0.0,0.0,927.0,0.0,0.0,0.0,2278.0,0.0,0.0,0.0,0.0,126.0,4.0,0.0,0.0,206.0,0.0,0.0,1.0,0.0,0.0,0.0,0.0,0.0,0.0,134.0,0.0,5.0,0.0,662.0,223.0,757.0,0.0,0.0,0.0,0.0,0.0,0.0,0.0,0.0,0.0,0.0,0.0,0.0,0.0,110.0,0.0,0.0,4.0,0.0,0.0,0.0,0.0,0.0,736.0,0.0,0.0,531.0,0.0,0.0,0.0,0.0,0.0,600.0,0.0,531.0,378.0,0.0,0.0,0.0,null,360.0,0.0,0.0,0.0,2433.0,0.0,null,null,0.0,1.0,0.0,1.0,10.0,195.0,0.0,1828.0,0.0,0.0,1546.0,1.0,0.0,3.0,128.0,123.0,0.0,0.0,163.0,0.0,0.0,0.0,78.0,489.0,0.0,538.0,null,0.0,0.0,0.0,0.0,0.0,0.0,736.0,0.0,null,0.0,1144.0,0.0,0.0,777.0,0.0,0.0,0.0,0.0,22.0,0.0,30.0,0.0,null,0.0,0.0,87.0,0.0,0.0,589.0,0.0,0.0,0.0,0.0,0.0,580.0,15.0,991.0,0.0,703.0,0.0,3627.0,0.0,30.0,6.0,0.0,0.0,0.0,0.0,0.0,186.0,0.0,50.0,959.0,0.0,2074.0,0.0,327.0,15.0,0.0,0.0,742.0,358.0,418.0,0.0,46.0,0.0,0.0,0.0,4.0,183.0,0.0,0.0,0.0,0.0,0.0,0.0,0.0,0.0,0.0,0.0,null,353.0,0.0,0.0,0.0,3.0,236.0,0.0,0.0,0.0,0.0,4.0,703.0,1.0,0.0,0.0,0.0,0.0,524.0,0.0,0.0,455.0,0.0,0.0,0.0,0.0,142.0,0.0,14.0,0.0,0.0,0.0,2310.0,0.0,0.0,0.0,9.0,1080.0,167.0,0.0,0.0,null,0.0,1670.0,23.0,1435.0,0.0,76.0,774.0,0.0,223.0,0.0,0.0,150.0,0.0,0.0,0.0,0.0,0.0,323.0,null,1132.0,242.0,23.0,0.0,0.0,0.0,0.0,0.0,0.0,0.0,115.0,0.0,664.0,608.0,882.0,0.0,1.0,0.0,0.0,0.0,9.0,0.0,4790.0,0.0,0.0,0.0,1020.0,98.0,0.0,1.0,0.0,222.0,5.0,0.0,0.0,0.0,0.0,0.0,13.0,2716.0,0.0,0.0,81.0,0.0,0.0,0.0,0.0,84.0,12.0,0.0,0.0,235.0,785.0,0.0,364.0,0.0,486.0,0.0,0.0,2140.0,0.0,83.0,0.0,0.0,0.0,567.0,0.0,712.0,63.0,754.0,0.0,0.0,0.0,0.0,257.0,0.0,0.0,4874.0,1129.0,0.0,0.0,0.0,95.0,945.0,0.0,661.0,3.0,232.0,408.0,0.0,155.0,0.0,1.0,409.0,17.0,2.0,0.0,0.0,949.0,108.0,0.0,0.0,0.0,0.0,0.0,0.0,0.0,0.0,873.0,0.0,0.0,0.0,0.0,0.0,126.0,0.0,4285.0,0.0,0.0,1.0,2.0,3.0,0.0,0.0,0.0,885.0,441.0,0.0,0.0,0.0,61.0,0.0,0.0,0.0,34.0,206.0,11.0,0.0,640.0,610.0,0.0,0.0,0.0,0.0,0.0,0.0,297.0,404.0,0.0,0.0,0.0,388.0,32.0,54.0,232.0,36.0,0.0,0.0,0.0,42.0,0.0,0.0,0.0,12.0,23.0,1513.0,1414.0,0.0,0.0,0.0,0.0,471.0,0.0,0.0,0.0,0.0,0.0,77.0,771.0,33.0,0.0,0.0,null,0.0,2414.0,870.0,0.0,0.0,0.0,0.0,0.0,0.0,0.0,159.0,51.0,0.0,0.0,311.0,0.0,0.0,0.0,0.0,0.0,0.0,0.0,670.0,0.0,327.0,5.0,1455.0,638.0,507.0,26.0,0.0,0.0,null,0.0,0.0,0.0,0.0,null,0.0,0.0,0.0,0.0,0.0,161.0,60.0,0.0,1742.0,0.0,0.0,1339.0,1.0,0.0,895.0,0.0,7.0,0.0,0.0,0.0,0.0,0.0,0.0,0.0,0.0,0.0,129.0,0.0,0.0,49.0,0.0,889.0,867.0,128.0,8.0,877.0,1127.0,3246.0,0.0,0.0,0.0,375.0,0.0,0.0,2184.0,2.0,234.0,690.0,0.0,0.0,2048.0,3.0,157.0,0.0,0.0,0.0,553.0,0.0,796.0,0.0,0.0,0.0,0.0,0.0,0.0,59.0,0.0,0.0,0.0,0.0,516.0,1990.0,0.0,47.0,295.0,0.0,null,851.0,0.0,0.0,0.0,0.0,0.0,38.0,36.0,0.0,7.0,null,0.0,0.0,16.0,169.0,253.0,0.0,2179.0,0.0,0.0,0.0,0.0,null,0.0,0.0,0.0,0.0,0.0,0.0,0.0,0.0,217.0,0.0,0.0,0.0,0.0,0.0,0.0,47.0,343.0,10.0,0.0,0.0,0.0,4.0,1.0,0.0,0.0,0.0,603.0,0.0,2554.0,85.0,0.0,2003.0,0.0,21.0,66.0,1.0,0.0,111.0,0.0,0.0,137.0,0.0,465.0,0.0,null,0.0,0.0,28.0,0.0,0.0,0.0,392.0,0.0,501.0,0.0,0.0,3.0,0.0,0.0,1445.0,0.0,0.0,0.0,84.0,0.0,0.0,0.0,874.0,0.0,0.0,0.0,0.0,0.0,0.0,477.0,0.0,0.0,0.0,5.0,0.0,0.0,0.0,3.0,0.0,0.0,0.0,0.0,0.0,0.0,0.0,0.0,0.0,0.0,0.0,3.0,0.0,0.0,0.0,0.0,null,481.0,1677.0,0.0,0.0,1.0,38.0,0.0,0.0,34.0,796.0,615.0,0.0,0.0,0.0,0.0,0.0,0.0,0.0,0.0,1.0,0.0,0.0,0.0,2.0,0.0,0.0,13.0,103.0,2454.0,1805.0,84.0,0.0,111.0,0.0,0.0,0.0,51.0,0.0,0.0,241.0,0.0,0.0,0.0,0.0,0.0,0.0,0.0,0.0,0.0,0.0,0.0,0.0,4581.0,35.0,4940.0,0.0,0.0,0.0,0.0,0.0,2067.0,0.0,337.0,380.0,118.0,0.0,1356.0,454.0,198.0,0.0,0.0,null,476.0,0.0,23.0,0.0,888.0,121.0,0.0,2.0,0.0,0.0,0.0,0.0,0.0,1.0,0.0,660.0,0.0,0.0,46.0,0.0,0.0,0.0,0.0,0.0,929.0,0.0,0.0,0.0,0.0,null,0.0,0.0,9.0,0.0,1.0,3783.0,0.0,0.0,1564.0,0.0,0.0,0.0,0.0,0.0,0.0,0.0,2.0,null,null,0.0,1.0,0.0,2.0,0.0,0.0,746.0,272.0,0.0,0.0,0.0,0.0,0.0,null,0.0,0.0,2.0,0.0,0.0,1.0,0.0,1902.0,559.0,3.0,null,0.0,0.0,0.0,152.0,0.0,0.0,0.0,699.0,0.0,437.0,0.0,1.0,10.0,0.0,0.0,17.0,null,0.0,1875.0,0.0,null,0.0,0.0,655.0,0.0,89.0,109.0,941.0,31.0,0.0,0.0,0.0,0.0,0.0,713.0,1770.0,868.0,0.0,0.0,0.0,874.0,0.0,0.0,0.0,0.0,0.0,0.0,31.0,32.0,0.0,3.0,2.0,1.0,276.0,0.0,0.0,0.0,0.0,0.0,0.0,0.0,0.0,31.0,0.0,0.0,1.0,0.0,0.0,0.0,0.0,780.0,747.0,5635.0,0.0,0.0,0.0,0.0,0.0,0.0,106.0,630.0,0.0,0.0,10.0,501.0,0.0,0.0,0.0,847.0,0.0,0.0,830.0,0.0,0.0,0.0,2.0,0.0,0.0,0.0,0.0,0.0,1297.0,0.0,687.0,0.0,0.0,307.0,0.0,191.0,1134.0,0.0,2750.0,1.0,0.0,0.0,0.0,0.0,0.0,0.0,834.0,9.0,287.0,0.0,0.0,0.0,0.0,0.0,0.0,0.0,214.0,0.0,0.0,0.0,0.0,0.0,0.0,0.0,0.0,0.0,0.0,0.0,0.0,0.0,0.0,0.0,0.0,0.0,57.0,0.0,0.0,26.0,0.0,2102.0,973.0,0.0,12.0,309.0,0.0,0.0,19.0,0.0,0.0,0.0,0.0,0.0,0.0,0.0,8.0,0.0,0.0,7.0,14.0,0.0,0.0,0.0,10424.0,0.0,4.0,142.0,0.0,0.0,238.0,20.0,0.0,912.0,0.0,0.0,1.0,0.0,0.0,0.0,0.0,0.0,0.0,null,0.0,20.0,16.0,0.0,0.0,0.0,0.0,0.0,69.0,0.0,0.0,0.0,0.0,926.0,60.0,143.0,0.0,0.0,1919.0,455.0,20.0,0.0,0.0,0.0,0.0,0.0,0.0,0.0,0.0,0.0,95.0,0.0,0.0,0.0,671.0,706.0,0.0,0.0,0.0,0.0,0.0,0.0,0.0,0.0,0.0,0.0,0.0,0.0,0.0,0.0,0.0,0.0,0.0,321.0,0.0,22.0,0.0,0.0,0.0,1081.0,2832.0,0.0,0.0,0.0,846.0,0.0,0.0,505.0,13.0,0.0,0.0,51.0,0.0,0.0,0.0,0.0,0.0,0.0,0.0,0.0,0.0,0.0,0.0,54.0,0.0,0.0,10.0,606.0,0.0,227.0,2.0,0.0,null,0.0,0.0,125.0,0.0,713.0,94.0,477.0,0.0,392.0,0.0,0.0,0.0,0.0,0.0,0.0,0.0,0.0,0.0,0.0,0.0,81.0,0.0,21.0,2.0,0.0,0.0,0.0,0.0,0.0,0.0,0.0,0.0,0.0,0.0,0.0,761.0,430.0,3415.0,0.0,0.0,null,0.0,0.0,0.0,0.0,789.0,72.0,1.0,0.0,0.0,2.0,382.0,693.0,1.0,908.0,0.0,0.0,0.0,0.0,0.0,353.0,8.0,null,0.0,0.0,56.0,0.0,0.0,0.0,19.0,1548.0,2251.0,605.0,898.0,0.0,0.0,0.0,0.0,0.0,0.0,586.0,0.0,643.0,0.0,0.0,1.0,0.0,1905.0,60.0,413.0,0.0,0.0,0.0,0.0,0.0,444.0,0.0,0.0,0.0,0.0,0.0,163.0,0.0,0.0,3.0,null,591.0,571.0,0.0,827.0,0.0,0.0,0.0,0.0,0.0,0.0,2728.0,621.0,14.0,0.0,0.0,0.0,3.0,0.0,0.0,0.0,0.0,0.0,0.0,0.0,0.0,0.0,0.0,0.0,0.0,0.0,0.0,8.0,0.0,0.0,0.0,449.0,0.0,0.0,0.0,0.0,0.0,0.0,0.0,0.0,0.0,0.0,0.0,0.0,708.0,292.0,39.0,0.0,39.0,2299.0,33.0,0.0,565.0,0.0,0.0,59.0,6.0,31.0,0.0,853.0,0.0,1177.0,0.0,144.0,85.0,0.0,0.0,null,0.0,225.0,0.0,0.0,0.0,0.0,0.0,0.0,0.0,0.0,0.0,55.0,363.0,942.0,0.0,0.0,0.0,8.0,756.0,1175.0,0.0,0.0,1040.0,1.0,0.0,1320.0,101.0,0.0,0.0,0.0,528.0,2153.0,2574.0,8.0,0.0,0.0,0.0,5.0,75.0,0.0,0.0,654.0,350.0,1047.0,153.0,0.0,0.0,166.0,0.0,0.0,0.0,0.0,8.0,0.0,208.0,0.0,null,1115.0,0.0,1.0,0.0,7.0,1878.0,599.0,2.0,11.0,0.0,216.0,1.0,0.0,0.0,0.0,280.0,0.0,0.0,0.0,0.0,18.0,0.0,0.0,1.0,813.0,null,0.0,0.0,0.0,0.0,0.0,0.0,2.0,180.0,0.0,980.0,0.0,663.0,0.0,2196.0,2.0,0.0,0.0,1089.0,0.0,0.0,null,0.0,0.0,0.0,0.0,0.0,559.0,null,1.0,2.0,166.0,10.0,0.0,0.0,0.0,0.0,82.0,0.0,0.0,6805.0,0.0,0.0,0.0,0.0,null,499.0,59.0,0.0,0.0,0.0,0.0,0.0,47.0,5.0,0.0,0.0,0.0,0.0,800.0,0.0,0.0,169.0,0.0,1044.0,0.0,0.0,0.0,0.0,46.0,0.0,778.0,0.0,0.0,0.0,9.0,20.0,545.0,4.0,0.0,null,0.0,0.0,0.0,35.0,0.0,868.0,0.0,617.0,0.0,0.0,0.0,0.0,0.0,30.0,0.0,0.0,0.0,0.0,0.0,0.0,0.0,693.0,0.0,0.0,0.0,9.0,0.0,0.0,0.0,754.0,213.0,667.0,0.0,0.0,1006.0,0.0,0.0,2929.0,2473.0,0.0,0.0,298.0,0.0,0.0,0.0,0.0,74.0,0.0,222.0,0.0,0.0,0.0,0.0,1.0,31.0,80.0,542.0,6.0,83.0,0.0,0.0,0.0,0.0,0.0,302.0,500.0,0.0,0.0,0.0,0.0,82.0,0.0,0.0,0.0,0.0,0.0,7.0,115.0,0.0,0.0,0.0,0.0,0.0,0.0,0.0,0.0,0.0,0.0,0.0,970.0,0.0,0.0,0.0,0.0,0.0,378.0,0.0,0.0,0.0,0.0,0.0,0.0,0.0,0.0,0.0,0.0,1594.0,17.0,45.0,0.0,2134.0,0.0,0.0,31.0,0.0,0.0,0.0,285.0,0.0,0.0,0.0,3.0,0.0,0.0,0.0,0.0,0.0,5.0,0.0,15.0,null,0.0,264.0,0.0,0.0,0.0,1609.0,0.0,0.0,0.0,48.0,0.0,0.0,107.0,26.0,0.0,1110.0,0.0,863.0,2332.0,0.0,0.0,325.0,3.0,0.0,0.0,0.0,null,0.0,725.0,0.0,973.0,0.0,1080.0,0.0,0.0,317.0,0.0,0.0,0.0,0.0,0.0,0.0,0.0,0.0,0.0,0.0,0.0,598.0,17.0,0.0,0.0,364.0,null,0.0,0.0,0.0,0.0,53.0,6.0,0.0,0.0,1.0,13.0,0.0,0.0,0.0,0.0,724.0,0.0,859.0,0.0,0.0,459.0,0.0,39.0,586.0,360.0,0.0,0.0,0.0,0.0,476.0,2817.0,0.0,0.0,0.0,0.0,56.0,0.0,1037.0,0.0,0.0,0.0,0.0,0.0,0.0,0.0,75.0,0.0,209.0,null,0.0,0.0,null,0.0,0.0,0.0,0.0,0.0,0.0,681.0,945.0,637.0,0.0,0.0,149.0,595.0,null,0.0,830.0,22.0,0.0,2.0,0.0,41.0,null,254.0,2077.0,0.0,68.0,95.0,0.0,0.0,0.0,0.0,0.0,0.0,0.0,0.0,669.0,0.0,0.0,51.0,0.0,1142.0,0.0,7.0,0.0,0.0,0.0,198.0,99.0,0.0,0.0,0.0,0.0,0.0,0.0,0.0,0.0,0.0,0.0,0.0,0.0,0.0,0.0,0.0,0.0,0.0,0.0,835.0,890.0,0.0,0.0,0.0,0.0,106.0,1827.0,687.0,0.0,0.0,64.0,0.0,2624.0,6.0,0.0,0.0,0.0,0.0,18.0,0.0,194.0,0.0,848.0,0.0,0.0,444.0,0.0,0.0,1552.0,0.0,0.0,0.0,73.0,0.0,0.0,7.0,0.0,0.0,0.0,0.0,892.0,null,0.0,0.0,40.0,0.0,0.0,790.0,0.0,0.0,0.0,0.0,0.0,0.0,0.0,0.0,0.0,690.0,13.0,1.0,207.0,0.0,300.0,0.0,0.0,0.0,0.0,0.0,39.0,450.0,15.0,756.0,0.0,859.0,0.0,0.0,25.0,0.0,0.0,0.0,0.0,0.0,0.0,0.0,0.0,324.0,0.0,559.0,0.0,0.0,0.0,0.0,97.0,null,52.0,0.0,544.0,0.0,0.0,0.0,0.0,11.0,642.0,0.0,0.0,0.0,0.0,172.0,0.0,1199.0,6.0,155.0,414.0,0.0,0.0,0.0,0.0,97.0,0.0,1761.0,4.0,0.0,143.0,689.0,0.0,0.0,0.0,0.0,0.0,0.0,0.0,0.0,891.0,610.0,202.0,0.0,0.0,808.0,0.0,0.0,0.0,761.0,0.0,397.0,0.0,0.0,0.0,0.0,13.0,618.0,0.0,0.0,6.0,10.0,null,0.0,51.0,0.0,0.0,0.0,0.0,8.0,2.0,295.0,808.0,0.0,0.0,0.0,0.0,0.0,null,617.0,0.0,0.0,367.0,0.0,0.0,265.0,0.0,0.0,0.0,0.0,0.0,0.0,0.0,0.0,273.0,0.0,0.0,0.0,0.0,0.0,380.0,9058.0,0.0,0.0,0.0,0.0,0.0,20.0,0.0,0.0,7.0,47.0,null,0.0,0.0,0.0,0.0,53.0,0.0,139.0,0.0,2387.0,0.0,0.0,0.0,0.0,1224.0,0.0,0.0,53.0,0.0,0.0,0.0,15.0,653.0,1039.0,0.0,0.0,0.0,235.0,0.0,0.0,0.0,0.0,null,50.0,3949.0,455.0,501.0,0.0,0.0,0.0,2366.0,0.0,0.0,0.0,1.0,109.0,109.0,0.0,0.0,0.0,144.0,0.0,0.0,0.0,868.0,0.0,24.0,0.0,0.0,291.0,641.0,0.0,0.0,0.0,0.0,0.0,802.0,1048.0,1326.0,1437.0,0.0,0.0,2.0,0.0,0.0,0.0,0.0,0.0,0.0,0.0,0.0,0.0,0.0,0.0,0.0,0.0,0.0,0.0,0.0,72.0,0.0,1.0,0.0,0.0,0.0,0.0,700.0,0.0,834.0,0.0,0.0,0.0,311.0,0.0,null,0.0,534.0,0.0,0.0,0.0,0.0,0.0,0.0,0.0,332.0,null,0.0,null,0.0,0.0,0.0,0.0,0.0,0.0,0.0,0.0,0.0,0.0,0.0,8.0,0.0,0.0,0.0,10.0,0.0,92.0,0.0,1.0,33.0,3.0,0.0,0.0,0.0,291.0,null,479.0,0.0,null,116.0,0.0,0.0,0.0,0.0,0.0,0.0,0.0,0.0,0.0,1657.0,0.0,0.0,110.0,0.0,0.0,0.0,0.0,0.0,403.0,36.0,null,0.0,0.0,0.0,0.0,0.0,50.0,43.0,1313.0,0.0,0.0,0.0,null,306.0,0.0,0.0,1167.0,0.0,2.0,0.0,0.0,2.0,82.0,60.0,0.0,0.0,182.0,39.0,0.0,145.0,0.0,1310.0,0.0,0.0,0.0,13.0,0.0,0.0,841.0,129.0,0.0,908.0,887.0,0.0,418.0,636.0,301.0,0.0,0.0,0.0,0.0,186.0,0.0,3.0,11.0,29.0,0.0,0.0,0.0,13.0,0.0,0.0,28.0,0.0,0.0,0.0,9.0,0.0,751.0,0.0,2.0,93.0,0.0,0.0,28.0,0.0,0.0,1.0,0.0,29.0,0.0,0.0,0.0,0.0,0.0,null,0.0,7.0,0.0,0.0,1573.0,0.0,0.0,215.0,0.0,0.0,0.0,0.0,0.0,3.0,0.0,0.0,2.0,0.0,0.0,555.0,859.0,0.0,0.0,0.0,1541.0,0.0,0.0,0.0,0.0,895.0,0.0,0.0,1.0,0.0,0.0,0.0,0.0,0.0,0.0,0.0,0.0,0.0,0.0,0.0,1317.0,0.0,0.0,0.0,694.0,0.0,5468.0,0.0,1435.0,0.0,0.0,0.0,0.0,231.0,0.0,null,508.0,0.0,0.0,0.0,0.0,0.0,0.0,0.0,0.0,0.0,129.0,0.0,0.0,0.0,null,977.0,0.0,0.0,0.0,99.0,638.0,927.0,1.0,0.0,0.0,16.0,43.0,0.0,0.0,0.0,0.0,6.0,0.0,0.0,8.0,0.0,0.0,0.0,422.0,0.0,0.0,0.0,0.0,0.0,478.0,0.0,622.0,0.0,2915.0,0.0,0.0,0.0,0.0,0.0,1720.0,0.0,790.0,0.0,0.0,0.0,0.0,0.0,0.0,0.0,0.0,165.0,9.0,0.0,null,31.0,0.0,0.0,0.0,873.0,0.0,0.0,858.0,0.0,527.0,246.0,151.0,0.0,0.0,0.0,1.0,0.0,763.0,0.0,1590.0,0.0,0.0,0.0,1.0,0.0,0.0,710.0,0.0,0.0,0.0,622.0,388.0,0.0,0.0,0.0,0.0,0.0,0.0,0.0,433.0,0.0,168.0,57.0,0.0,410.0,11.0,0.0,0.0,17.0,0.0,0.0,657.0,0.0,0.0,0.0,0.0,0.0,1686.0,8.0,20.0,0.0,0.0,0.0,4.0,0.0,0.0,0.0,0.0,0.0,0.0,0.0,6.0,6.0,1.0,795.0,681.0,0.0,0.0,202.0,53.0,0.0,336.0,0.0,0.0,0.0,849.0,0.0,0.0,0.0,1864.0,0.0,2076.0,0.0,20.0,7.0,113.0,0.0,26.0,0.0,0.0,0.0,0.0,1.0,1185.0,2974.0,0.0,0.0,0.0,715.0,0.0,1540.0,0.0,0.0,0.0,0.0,0.0,976.0,0.0,183.0,835.0,0.0,0.0,339.0,0.0,150.0,310.0,0.0,2.0,580.0,25.0,0.0,0.0,0.0,0.0,0.0,0.0,6.0,0.0,23.0,845.0,0.0,0.0,127.0,0.0,35.0,0.0,0.0,0.0,336.0,1.0,0.0,0.0,0.0,0.0,97.0,12253.0,0.0,0.0,3.0,0.0,0.0,0.0,0.0,3.0,0.0,661.0,0.0,0.0,6.0,0.0,0.0,0.0,2341.0,3700.0,0.0,520.0,17.0,0.0,7.0,0.0,561.0,0.0,0.0,0.0,0.0,273.0,642.0,44.0,0.0,0.0,13.0,0.0,23.0,0.0,272.0,0.0,0.0,0.0,0.0,0.0,26.0,1791.0,0.0,0.0,0.0,0.0,0.0,0.0,24.0,0.0,0.0,1501.0,265.0,0.0,29.0,0.0,0.0,null,0.0,0.0,0.0,47.0,0.0,0.0,0.0,9.0,655.0,827.0,0.0,0.0,0.0,0.0,0.0,649.0,74.0,304.0,0.0,null,null,15.0,0.0,0.0,1147.0,0.0,0.0,0.0,0.0,0.0,0.0,0.0,0.0,0.0,0.0,512.0,381.0,0.0,0.0,335.0,0.0,542.0,0.0,719.0,null,34.0,0.0,0.0,0.0,0.0,0.0,0.0,0.0,0.0,0.0,0.0,0.0,0.0,0.0,714.0,0.0,0.0,0.0,0.0,0.0,0.0,0.0,0.0,9.0,0.0,0.0,0.0,60.0,713.0,0.0,0.0,0.0,0.0,791.0,0.0,0.0,0.0,0.0,0.0,23.0,174.0,4.0,181.0,0.0,1119.0,39.0,2614.0,0.0,140.0,501.0,0.0,0.0,0.0,0.0,6.0,null,813.0,424.0,0.0,0.0,0.0,0.0,0.0,12.0,743.0,0.0,635.0,0.0,1373.0,0.0,0.0,0.0,725.0,696.0,2398.0,0.0,3.0,0.0,0.0,0.0,null,0.0,704.0,0.0,0.0,0.0,270.0,0.0,0.0,0.0,0.0,1472.0,533.0,0.0,0.0,0.0,0.0,0.0,1898.0,0.0,null,0.0,0.0,0.0,0.0,2383.0,1000.0,0.0,61.0,0.0,0.0,136.0,0.0,0.0,310.0,192.0,0.0,2010.0,0.0,0.0,0.0,348.0,7810.0,0.0,0.0,0.0,0.0,0.0,0.0,5.0,0.0,0.0,0.0,29.0,0.0,0.0,1236.0,92.0,840.0,0.0,0.0,0.0,0.0,8.0,0.0,0.0,0.0,0.0,0.0,0.0,0.0,0.0,0.0,0.0,0.0,1376.0,0.0,null,0.0,800.0,18.0,4058.0,243.0,1179.0,0.0,0.0,0.0,0.0,0.0,0.0,0.0,0.0,909.0,0.0,0.0,0.0,0.0,99.0,860.0,73.0,901.0,616.0,46.0,0.0,172.0,0.0,0.0,0.0,1.0,0.0,31.0,0.0,1660.0,0.0,0.0,0.0,0.0,0.0,0.0,575.0,0.0,0.0,490.0,0.0,0.0,0.0,1164.0,0.0,0.0,0.0,0.0,750.0,1015.0,1583.0,0.0,0.0,46.0,18.0,1041.0,0.0,0.0,95.0,0.0,177.0,0.0,0.0,2090.0,0.0,0.0,0.0,0.0,0.0,0.0,677.0,657.0,0.0,0.0,0.0,0.0,4.0,0.0,0.0,83.0,1232.0,450.0,0.0,0.0,687.0,0.0,0.0,0.0,0.0,0.0,0.0,851.0,0.0,0.0,9.0,0.0,13.0,23.0,7.0,0.0,0.0,1967.0,631.0,0.0,0.0,682.0,0.0,12.0,363.0,0.0,0.0,0.0,0.0,0.0,0.0,0.0,44.0,782.0,0.0,3.0,0.0,70.0,33.0,0.0,0.0,116.0,0.0,1.0,0.0,0.0,32.0,0.0,0.0,0.0,0.0,0.0,0.0,0.0,0.0,1690.0,618.0,175.0,0.0,95.0,285.0,0.0,0.0,1.0,400.0,1211.0,0.0,659.0,0.0,9.0,100.0,0.0,163.0,0.0,20.0,0.0,0.0,0.0,0.0,717.0,957.0,0.0,0.0,6.0,0.0,0.0,0.0,404.0,0.0,0.0,2330.0,0.0,0.0,414.0,30.0,0.0,0.0,0.0,81.0,0.0,0.0,null,1642.0,138.0,0.0,356.0,0.0,0.0,352.0,0.0,0.0,0.0,926.0,null,0.0,105.0,0.0,0.0,0.0,0.0,0.0,0.0,0.0,0.0,0.0,0.0,3.0,844.0,100.0,0.0,0.0,0.0,0.0,0.0,0.0,1911.0,0.0,0.0,1.0,0.0,0.0,0.0,267.0,0.0,185.0,0.0,2080.0,0.0,0.0,0.0,0.0,4761.0,40.0,0.0,12.0,651.0,19.0,0.0,2.0,552.0,0.0,0.0,0.0,0.0,0.0,0.0,21.0,0.0,0.0,2.0,0.0,0.0,0.0,0.0,664.0,0.0,null,1.0,3.0,1.0,0.0,11.0,0.0,482.0,0.0,1128.0,0.0,0.0,437.0,0.0,0.0,0.0,592.0,0.0,0.0,0.0,0.0,0.0,0.0,0.0,0.0,754.0,0.0,0.0,0.0,22.0,0.0,5.0,0.0,793.0,0.0,0.0,0.0,773.0,0.0,0.0,0.0,14.0,0.0,0.0,null,944.0,0.0,0.0,29.0,16.0,0.0,0.0,46.0,0.0,0.0,0.0,766.0,0.0,96.0,0.0,115.0,109.0,0.0,713.0,0.0,158.0,42.0,0.0,0.0,0.0,879.0,690.0,0.0,179.0,874.0,0.0,0.0,0.0,0.0,5.0,0.0,0.0,1.0,0.0,130.0,211.0,1028.0,0.0,0.0,273.0,0.0,0.0,511.0,0.0,414.0,2401.0,2885.0,0.0,17.0,0.0,0.0,0.0,1907.0,1050.0,0.0,0.0,1.0,0.0,12.0,0.0,2.0,196.0,0.0,0.0,0.0,0.0,0.0,222.0,450.0,12.0,0.0,null,795.0,0.0,3.0,0.0,49.0,0.0,8.0,0.0,0.0,0.0,0.0,31.0,0.0,171.0,229.0,478.0,885.0,0.0,285.0,12.0,0.0,0.0,0.0,0.0,297.0,6.0,0.0,21.0,0.0,29.0,0.0,424.0,547.0,0.0,14.0,584.0,458.0,8.0,0.0,0.0,787.0,5.0,902.0,0.0,1386.0,0.0,0.0,0.0,0.0,1.0,9.0,0.0,2.0,0.0,0.0,0.0,0.0,2.0,0.0,0.0,2.0,0.0,0.0,0.0,0.0,0.0,0.0,103.0,52.0,2.0,0.0,0.0,0.0,0.0,0.0,1540.0,77.0,761.0,0.0,0.0,0.0,0.0,0.0,21.0,0.0,0.0,0.0,0.0,3944.0,0.0,0.0,1.0,217.0,null,3.0,0.0,536.0,311.0,801.0,1116.0,0.0,439.0,214.0,0.0,0.0,805.0,61.0,0.0,0.0,0.0,4.0,23.0,201.0,0.0,0.0,0.0,0.0,0.0,0.0,0.0,30.0,726.0,0.0,null,0.0,0.0,299.0,40.0,0.0,193.0,0.0,575.0,0.0,0.0,0.0,0.0,5.0,0.0,0.0,0.0,0.0,0.0,0.0,0.0,0.0,0.0,0.0,0.0,0.0,1.0,358.0,0.0,0.0,16.0,321.0,386.0,0.0,0.0,2956.0,425.0,1110.0,0.0,859.0,0.0,910.0,1121.0,228.0,0.0,0.0,0.0,0.0,0.0,291.0,0.0,0.0,0.0,0.0,0.0,0.0,103.0,0.0,208.0,null,0.0,47.0,0.0,null,0.0,0.0,1104.0,0.0,103.0,0.0,643.0,0.0,0.0,0.0,0.0,2.0,0.0,0.0,0.0,0.0,345.0,0.0,0.0,0.0,0.0,0.0,702.0,0.0,0.0,1468.0,0.0,97.0,0.0,441.0,0.0,0.0,0.0,0.0,null,0.0,0.0,0.0,416.0,158.0,572.0,0.0,0.0,0.0,1.0,0.0,0.0,4.0,56.0,0.0,1826.0,0.0,0.0,0.0,0.0,432.0,1309.0,0.0,0.0,0.0,0.0,0.0,0.0,661.0,0.0,0.0,0.0,135.0,0.0,0.0,658.0,42.0,0.0,0.0,0.0,0.0,0.0,0.0,27.0,2228.0,0.0,185.0,84.0,0.0,114.0,9.0,4.0,1288.0,0.0,115.0,481.0,4.0,0.0,0.0,0.0,0.0,0.0,1.0,0.0,0.0,0.0,1025.0,0.0,0.0,127.0,0.0,0.0,0.0,0.0,0.0,0.0,0.0,0.0,0.0,0.0,0.0,0.0,0.0,136.0,0.0,31.0,6.0,0.0,0.0,0.0,0.0,0.0,0.0,58.0,0.0,8.0,0.0,0.0,0.0,0.0,0.0,0.0,0.0,null,185.0,80.0,0.0,0.0,728.0,0.0,2.0,0.0,0.0,null,13.0,9.0,471.0,0.0,0.0,4127.0,0.0,0.0,0.0,62.0,305.0,0.0,0.0,0.0,754.0,2621.0,0.0,32.0,0.0,0.0,0.0,0.0,379.0,0.0,0.0,0.0,9.0,0.0,0.0,0.0,0.0,0.0,0.0,1880.0,0.0,0.0,0.0,1912.0,0.0,0.0,0.0,34.0,0.0,0.0,0.0,0.0,0.0,0.0,19.0,14.0,0.0,239.0,0.0,37.0,0.0,692.0,0.0,39.0,0.0,0.0,0.0,346.0,0.0,615.0,31.0,0.0,0.0,0.0,52.0,0.0,0.0,0.0,110.0,0.0,0.0,132.0,0.0,208.0,0.0,0.0,null,0.0,419.0,0.0,0.0,0.0,0.0,53.0,null,0.0,0.0,50.0,0.0,0.0,0.0,0.0,809.0,17.0,0.0,0.0,0.0,0.0,0.0,0.0,0.0,54.0,81.0,6.0,0.0,349.0,0.0,0.0,0.0,0.0,0.0,0.0,501.0,1185.0,0.0,0.0,617.0,635.0,0.0,0.0,0.0,0.0,0.0,14.0,297.0,0.0,0.0,0.0,0.0,134.0,738.0,0.0,1967.0,1769.0,0.0,0.0,0.0,0.0,0.0,0.0,0.0,0.0,0.0,408.0,0.0,0.0,0.0,0.0,0.0,0.0,0.0,32.0,71.0,0.0,0.0,0.0,0.0,465.0,0.0,0.0,644.0,0.0,0.0,0.0,0.0,0.0,0.0,744.0,589.0,21.0,0.0,0.0,14.0,0.0,0.0,0.0,0.0,0.0,0.0,0.0,0.0,3958.0,0.0,0.0,0.0,0.0,0.0,0.0,0.0,0.0,106.0,321.0,0.0,0.0,817.0,0.0,0.0,0.0,null,58.0,0.0,6.0,622.0,0.0,null,0.0,0.0,0.0,447.0,10705.0,0.0,0.0,1.0,0.0,0.0,604.0,57.0,0.0,159.0,0.0,624.0,0.0,38.0,686.0,0.0,144.0,0.0,0.0,null,0.0,0.0,858.0,0.0,0.0,25.0,0.0,1127.0,89.0,0.0,0.0,1.0,0.0,0.0,0.0,0.0,0.0,622.0,0.0,310.0,455.0,21.0,0.0,0.0,0.0,0.0,0.0,0.0,0.0,708.0,0.0,null,0.0,0.0,0.0,0.0,0.0,0.0,0.0,1.0,92.0,0.0,0.0,0.0,0.0,0.0,0.0,0.0,0.0,0.0,5.0,0.0,0.0,0.0,271.0,0.0,722.0,0.0,0.0,0.0,331.0,3.0,0.0,0.0,0.0,0.0,0.0,74.0,0.0,0.0,62.0,249.0,0.0,0.0,0.0,0.0,0.0,64.0,0.0,0.0,0.0,143.0,0.0,0.0,0.0,0.0,206.0,262.0,846.0,0.0,0.0,0.0,0.0,0.0,0.0,960.0,0.0,0.0,0.0,0.0,0.0,0.0,null,0.0,0.0,716.0,0.0,0.0,0.0,null,0.0,0.0,134.0,0.0,336.0,0.0,0.0,7.0,0.0,0.0,null,0.0,11.0,0.0,1761.0,0.0,135.0,0.0,0.0,0.0,null,0.0,0.0,0.0,0.0,442.0,492.0,15.0,0.0,0.0,0.0,0.0,0.0,0.0,0.0,0.0,0.0,0.0,0.0,0.0,0.0,0.0,0.0,null,0.0,0.0,0.0,0.0,0.0,0.0,0.0,0.0,342.0,0.0,0.0,0.0,0.0,0.0,0.0,0.0,0.0,0.0,0.0,0.0,0.0,0.0,0.0,0.0,5.0,0.0,0.0,77.0,0.0,0.0,0.0,470.0,0.0,0.0,0.0,null,0.0,10.0,0.0,0.0,102.0,0.0,262.0,2778.0,0.0,0.0,0.0,356.0,0.0,50.0,0.0,0.0,40.0,0.0,null,1.0,0.0,9.0,0.0,2.0,0.0,0.0,594.0,0.0,0.0,0.0,298.0,0.0,4.0,0.0,0.0,0.0,0.0,0.0,0.0,19.0,3.0,662.0,0.0,0.0,0.0,0.0,0.0,0.0,0.0,5.0,0.0,0.0,0.0,1629.0,2566.0,2.0,0.0,0.0,372.0,5.0,0.0,60.0,1.0,0.0,681.0,50.0,0.0,3.0,1.0,0.0,576.0,1.0,0.0,1130.0,0.0,0.0,0.0,460.0,0.0,0.0,113.0,0.0,779.0,18.0,22.0,0.0,0.0,0.0,193.0,876.0,0.0,0.0,23.0,0.0,0.0,0.0,612.0,0.0,0.0,0.0,12.0,653.0,486.0,4.0,0.0,0.0,0.0,1008.0,0.0,0.0,48.0,0.0,0.0,0.0,783.0,0.0,0.0,0.0,0.0,0.0,0.0,0.0,0.0,0.0,55.0,880.0,233.0,654.0,654.0,870.0,175.0,0.0,0.0,0.0,0.0,0.0,0.0,0.0,0.0,0.0,0.0,867.0,2267.0,0.0,0.0,0.0,1929.0,0.0,0.0,0.0,0.0,0.0,161.0,37.0,576.0,0.0,0.0,194.0,0.0,729.0,0.0,0.0,0.0,0.0,277.0,0.0,0.0,0.0,0.0,0.0,0.0,0.0,0.0,602.0,0.0,0.0,2.0,0.0,null,0.0,167.0,0.0,0.0,2.0,1081.0,null,117.0,0.0,1792.0,63.0,0.0,0.0,0.0,0.0,0.0,0.0,0.0,0.0,1.0,0.0,0.0,0.0,0.0,0.0,0.0,0.0,377.0,0.0,1435.0,638.0,243.0,0.0,0.0,0.0,320.0,505.0,0.0,0.0,0.0,0.0,0.0,0.0,0.0,0.0,0.0,1.0,0.0,0.0,0.0,33.0,0.0,1.0,54.0,0.0,0.0,404.0,0.0,0.0,0.0,0.0,0.0,0.0,1025.0,566.0,51.0,0.0,0.0,0.0,591.0,635.0,0.0,0.0,481.0,0.0,0.0,739.0,6.0,0.0,0.0,546.0,0.0,25.0,0.0,2.0,132.0,1641.0,0.0,0.0,1.0,1.0,0.0,0.0,0.0,0.0,0.0,1536.0,0.0,0.0,18.0,265.0,0.0,null,31.0,0.0,0.0,0.0,0.0,0.0,0.0,63.0,0.0,608.0,0.0,0.0,0.0,0.0,19.0,0.0,0.0,1.0,0.0,94.0,1083.0,64.0,492.0,51.0,0.0,143.0,3.0,0.0,0.0,0.0,0.0,0.0,0.0,6331.0,3.0,0.0,1301.0,1.0,977.0,36.0,146.0,0.0,0.0,2036.0,0.0,54.0,0.0,0.0,0.0,863.0,73.0,0.0,278.0,0.0,0.0,10.0,0.0,0.0,0.0,44.0,0.0,0.0,0.0,290.0,0.0,27.0,13.0,341.0,0.0,0.0,22.0,7.0,280.0,0.0,null,0.0,28.0,195.0,0.0,0.0,0.0,0.0,208.0,0.0,0.0,0.0,null,0.0,0.0,0.0,206.0,0.0,1.0,0.0,0.0,2.0,0.0,11.0,0.0,0.0,149.0,0.0,0.0,72.0,269.0,396.0,89.0,0.0,0.0,0.0,601.0,0.0,0.0,0.0,0.0,0.0,0.0,0.0,5.0,0.0,3.0,0.0,0.0,343.0,0.0,0.0,0.0,0.0,0.0,0.0,0.0,0.0,148.0,9.0,2.0,0.0,0.0,870.0,0.0,1785.0,117.0,0.0,797.0,0.0,0.0,0.0,0.0,977.0,7.0,85.0,0.0,0.0,1.0,0.0,0.0,0.0,97.0,0.0,0.0,0.0,0.0,6221.0,967.0,0.0,0.0,0.0,0.0,163.0,525.0,0.0,3.0,0.0,0.0,2.0,11.0,0.0,1908.0,0.0,0.0,0.0,2.0,0.0,0.0,23.0,0.0,0.0,0.0,1083.0,1364.0,848.0,23.0,0.0,896.0,0.0,0.0,455.0,0.0,125.0,0.0,22.0,0.0,456.0,0.0,1.0,0.0,0.0,49.0,0.0,700.0,1729.0,0.0,0.0,87.0,0.0,0.0,594.0,0.0,0.0,0.0,0.0,0.0,0.0,1169.0,0.0,928.0,172.0,308.0,0.0,146.0,0.0,456.0,50.0,0.0,36.0,220.0,0.0,0.0,2370.0,0.0,1063.0,0.0,0.0,10.0,0.0,0.0,3.0,1.0,45.0,1.0,0.0,0.0,2.0,164.0,0.0,18.0,0.0,0.0,707.0,1.0,0.0,289.0,0.0,0.0,1401.0,246.0,0.0,19.0,0.0,124.0,1.0,0.0,40.0,9.0,613.0,0.0,210.0,139.0,0.0,0.0,497.0,0.0,0.0,2080.0,0.0,0.0,0.0,11.0,82.0,0.0,66.0,3.0,0.0,0.0,782.0,0.0,286.0,0.0,0.0,2.0,0.0,25.0,0.0,80.0,0.0,0.0,0.0,0.0,0.0,0.0,82.0,637.0,0.0,1.0,0.0,0.0,0.0,148.0,0.0,0.0,110.0,242.0,855.0,51.0,0.0,7.0,1363.0,0.0,0.0,0.0,80.0,0.0,0.0,0.0,0.0,0.0,0.0,0.0,0.0,0.0,0.0,1.0,0.0,1.0,1359.0,0.0,130.0,0.0,0.0,3.0,0.0,719.0,0.0,1404.0,0.0,0.0,0.0,0.0,0.0,182.0,0.0,628.0,4.0,0.0,0.0,0.0,717.0,0.0,40.0,40.0,null,267.0,0.0,354.0,200.0,0.0,0.0,0.0,0.0,0.0,0.0,222.0,3.0,0.0,863.0,0.0,0.0,0.0,5.0,0.0,341.0,0.0,0.0,0.0,0.0,412.0,null,0.0,0.0,7148.0,0.0,0.0,717.0,0.0,7.0,54.0,620.0,0.0,0.0,615.0,0.0,381.0,0.0,496.0,0.0,0.0,0.0,0.0,0.0,0.0,9.0,0.0,1.0,0.0,null,0.0,0.0,32.0,0.0,0.0,0.0,0.0,3.0,0.0,120.0,0.0,0.0,0.0,0.0,0.0,22.0,170.0,1598.0,336.0,0.0,0.0,0.0,0.0,346.0,0.0,0.0,0.0,0.0,47.0,0.0,0.0,0.0,40.0,10.0,0.0,165.0,1291.0,0.0,0.0,0.0,0.0,0.0,0.0,0.0,65.0,0.0,0.0,8.0,27.0,0.0,4407.0,0.0,0.0,0.0,2.0,0.0,0.0,563.0,1105.0,665.0,null,0.0,626.0,21.0,0.0,0.0,0.0,0.0,0.0,null,0.0,0.0,0.0,0.0,23492.0,0.0,0.0,0.0,699.0,5.0,0.0,0.0,50.0,0.0,0.0,456.0,816.0,0.0,0.0,0.0,0.0,409.0,0.0,0.0,0.0,307.0,623.0,8.0,23.0,0.0,0.0,0.0,0.0,164.0,0.0,null,62.0,0.0,1970.0,0.0,13.0,87.0,0.0,0.0,689.0,0.0,0.0,0.0,0.0,947.0,0.0,1.0,0.0,49.0,0.0,0.0,0.0,0.0,0.0,0.0,0.0,0.0,204.0,1357.0,0.0,0.0,0.0,338.0,15.0,2.0,0.0,0.0,0.0,0.0,0.0,0.0,0.0,1072.0,0.0,719.0,591.0,1069.0,null,null,0.0,0.0,0.0,0.0,0.0,758.0,0.0,1353.0,0.0,0.0,58.0,0.0,0.0,0.0,0.0,0.0,784.0,761.0,0.0,0.0,22.0,0.0,0.0,0.0,16.0,0.0,0.0,0.0,0.0,51.0,496.0,28.0,0.0,123.0,0.0,0.0,0.0,16.0,631.0,0.0,0.0,0.0,0.0,23.0,234.0,0.0,184.0,0.0,1296.0,0.0,0.0,0.0,20.0,0.0,0.0,0.0,0.0,0.0,0.0,2.0,3.0,32.0,0.0,11.0,14.0,0.0,0.0,1.0,0.0,0.0,0.0,0.0,1.0,638.0,0.0,0.0,0.0,0.0,0.0,0.0,0.0,0.0,0.0,0.0,0.0,516.0,0.0,0.0,null,0.0,792.0,1.0,0.0,0.0,0.0,5.0,1.0,71.0,2.0,0.0,0.0,0.0,0.0,0.0,0.0,null,0.0,684.0,453.0,11.0,6.0,0.0,null,807.0,483.0,1.0,null,0.0,0.0,0.0,0.0,0.0,0.0,1338.0,52.0,0.0,0.0,8.0,0.0,0.0,0.0,114.0,0.0,0.0,0.0,0.0,0.0,4.0,null,0.0,89.0,0.0,0.0,0.0,45.0,0.0,null,0.0,0.0,977.0,0.0,13.0,0.0,0.0,0.0,0.0,0.0,715.0,0.0,0.0,0.0,668.0,638.0,0.0,0.0,918.0,600.0,0.0,0.0,0.0,0.0,973.0,null,0.0,205.0,0.0,0.0,0.0,0.0,1085.0,0.0,0.0,0.0,0.0,0.0,0.0,0.0,510.0,149.0,0.0,0.0,0.0,0.0,0.0,0.0,1872.0,0.0,0.0],\"xaxis\":\"x\",\"yaxis\":\"y\",\"type\":\"histogram\"}],                        {\"template\":{\"data\":{\"histogram2dcontour\":[{\"type\":\"histogram2dcontour\",\"colorbar\":{\"outlinewidth\":0,\"ticks\":\"\"},\"colorscale\":[[0.0,\"#0d0887\"],[0.1111111111111111,\"#46039f\"],[0.2222222222222222,\"#7201a8\"],[0.3333333333333333,\"#9c179e\"],[0.4444444444444444,\"#bd3786\"],[0.5555555555555556,\"#d8576b\"],[0.6666666666666666,\"#ed7953\"],[0.7777777777777778,\"#fb9f3a\"],[0.8888888888888888,\"#fdca26\"],[1.0,\"#f0f921\"]]}],\"choropleth\":[{\"type\":\"choropleth\",\"colorbar\":{\"outlinewidth\":0,\"ticks\":\"\"}}],\"histogram2d\":[{\"type\":\"histogram2d\",\"colorbar\":{\"outlinewidth\":0,\"ticks\":\"\"},\"colorscale\":[[0.0,\"#0d0887\"],[0.1111111111111111,\"#46039f\"],[0.2222222222222222,\"#7201a8\"],[0.3333333333333333,\"#9c179e\"],[0.4444444444444444,\"#bd3786\"],[0.5555555555555556,\"#d8576b\"],[0.6666666666666666,\"#ed7953\"],[0.7777777777777778,\"#fb9f3a\"],[0.8888888888888888,\"#fdca26\"],[1.0,\"#f0f921\"]]}],\"heatmap\":[{\"type\":\"heatmap\",\"colorbar\":{\"outlinewidth\":0,\"ticks\":\"\"},\"colorscale\":[[0.0,\"#0d0887\"],[0.1111111111111111,\"#46039f\"],[0.2222222222222222,\"#7201a8\"],[0.3333333333333333,\"#9c179e\"],[0.4444444444444444,\"#bd3786\"],[0.5555555555555556,\"#d8576b\"],[0.6666666666666666,\"#ed7953\"],[0.7777777777777778,\"#fb9f3a\"],[0.8888888888888888,\"#fdca26\"],[1.0,\"#f0f921\"]]}],\"heatmapgl\":[{\"type\":\"heatmapgl\",\"colorbar\":{\"outlinewidth\":0,\"ticks\":\"\"},\"colorscale\":[[0.0,\"#0d0887\"],[0.1111111111111111,\"#46039f\"],[0.2222222222222222,\"#7201a8\"],[0.3333333333333333,\"#9c179e\"],[0.4444444444444444,\"#bd3786\"],[0.5555555555555556,\"#d8576b\"],[0.6666666666666666,\"#ed7953\"],[0.7777777777777778,\"#fb9f3a\"],[0.8888888888888888,\"#fdca26\"],[1.0,\"#f0f921\"]]}],\"contourcarpet\":[{\"type\":\"contourcarpet\",\"colorbar\":{\"outlinewidth\":0,\"ticks\":\"\"}}],\"contour\":[{\"type\":\"contour\",\"colorbar\":{\"outlinewidth\":0,\"ticks\":\"\"},\"colorscale\":[[0.0,\"#0d0887\"],[0.1111111111111111,\"#46039f\"],[0.2222222222222222,\"#7201a8\"],[0.3333333333333333,\"#9c179e\"],[0.4444444444444444,\"#bd3786\"],[0.5555555555555556,\"#d8576b\"],[0.6666666666666666,\"#ed7953\"],[0.7777777777777778,\"#fb9f3a\"],[0.8888888888888888,\"#fdca26\"],[1.0,\"#f0f921\"]]}],\"surface\":[{\"type\":\"surface\",\"colorbar\":{\"outlinewidth\":0,\"ticks\":\"\"},\"colorscale\":[[0.0,\"#0d0887\"],[0.1111111111111111,\"#46039f\"],[0.2222222222222222,\"#7201a8\"],[0.3333333333333333,\"#9c179e\"],[0.4444444444444444,\"#bd3786\"],[0.5555555555555556,\"#d8576b\"],[0.6666666666666666,\"#ed7953\"],[0.7777777777777778,\"#fb9f3a\"],[0.8888888888888888,\"#fdca26\"],[1.0,\"#f0f921\"]]}],\"mesh3d\":[{\"type\":\"mesh3d\",\"colorbar\":{\"outlinewidth\":0,\"ticks\":\"\"}}],\"scatter\":[{\"fillpattern\":{\"fillmode\":\"overlay\",\"size\":10,\"solidity\":0.2},\"type\":\"scatter\"}],\"parcoords\":[{\"type\":\"parcoords\",\"line\":{\"colorbar\":{\"outlinewidth\":0,\"ticks\":\"\"}}}],\"scatterpolargl\":[{\"type\":\"scatterpolargl\",\"marker\":{\"colorbar\":{\"outlinewidth\":0,\"ticks\":\"\"}}}],\"bar\":[{\"error_x\":{\"color\":\"#2a3f5f\"},\"error_y\":{\"color\":\"#2a3f5f\"},\"marker\":{\"line\":{\"color\":\"#E5ECF6\",\"width\":0.5},\"pattern\":{\"fillmode\":\"overlay\",\"size\":10,\"solidity\":0.2}},\"type\":\"bar\"}],\"scattergeo\":[{\"type\":\"scattergeo\",\"marker\":{\"colorbar\":{\"outlinewidth\":0,\"ticks\":\"\"}}}],\"scatterpolar\":[{\"type\":\"scatterpolar\",\"marker\":{\"colorbar\":{\"outlinewidth\":0,\"ticks\":\"\"}}}],\"histogram\":[{\"marker\":{\"pattern\":{\"fillmode\":\"overlay\",\"size\":10,\"solidity\":0.2}},\"type\":\"histogram\"}],\"scattergl\":[{\"type\":\"scattergl\",\"marker\":{\"colorbar\":{\"outlinewidth\":0,\"ticks\":\"\"}}}],\"scatter3d\":[{\"type\":\"scatter3d\",\"line\":{\"colorbar\":{\"outlinewidth\":0,\"ticks\":\"\"}},\"marker\":{\"colorbar\":{\"outlinewidth\":0,\"ticks\":\"\"}}}],\"scattermapbox\":[{\"type\":\"scattermapbox\",\"marker\":{\"colorbar\":{\"outlinewidth\":0,\"ticks\":\"\"}}}],\"scatterternary\":[{\"type\":\"scatterternary\",\"marker\":{\"colorbar\":{\"outlinewidth\":0,\"ticks\":\"\"}}}],\"scattercarpet\":[{\"type\":\"scattercarpet\",\"marker\":{\"colorbar\":{\"outlinewidth\":0,\"ticks\":\"\"}}}],\"carpet\":[{\"aaxis\":{\"endlinecolor\":\"#2a3f5f\",\"gridcolor\":\"white\",\"linecolor\":\"white\",\"minorgridcolor\":\"white\",\"startlinecolor\":\"#2a3f5f\"},\"baxis\":{\"endlinecolor\":\"#2a3f5f\",\"gridcolor\":\"white\",\"linecolor\":\"white\",\"minorgridcolor\":\"white\",\"startlinecolor\":\"#2a3f5f\"},\"type\":\"carpet\"}],\"table\":[{\"cells\":{\"fill\":{\"color\":\"#EBF0F8\"},\"line\":{\"color\":\"white\"}},\"header\":{\"fill\":{\"color\":\"#C8D4E3\"},\"line\":{\"color\":\"white\"}},\"type\":\"table\"}],\"barpolar\":[{\"marker\":{\"line\":{\"color\":\"#E5ECF6\",\"width\":0.5},\"pattern\":{\"fillmode\":\"overlay\",\"size\":10,\"solidity\":0.2}},\"type\":\"barpolar\"}],\"pie\":[{\"automargin\":true,\"type\":\"pie\"}]},\"layout\":{\"autotypenumbers\":\"strict\",\"colorway\":[\"#636efa\",\"#EF553B\",\"#00cc96\",\"#ab63fa\",\"#FFA15A\",\"#19d3f3\",\"#FF6692\",\"#B6E880\",\"#FF97FF\",\"#FECB52\"],\"font\":{\"color\":\"#2a3f5f\"},\"hovermode\":\"closest\",\"hoverlabel\":{\"align\":\"left\"},\"paper_bgcolor\":\"white\",\"plot_bgcolor\":\"#E5ECF6\",\"polar\":{\"bgcolor\":\"#E5ECF6\",\"angularaxis\":{\"gridcolor\":\"white\",\"linecolor\":\"white\",\"ticks\":\"\"},\"radialaxis\":{\"gridcolor\":\"white\",\"linecolor\":\"white\",\"ticks\":\"\"}},\"ternary\":{\"bgcolor\":\"#E5ECF6\",\"aaxis\":{\"gridcolor\":\"white\",\"linecolor\":\"white\",\"ticks\":\"\"},\"baxis\":{\"gridcolor\":\"white\",\"linecolor\":\"white\",\"ticks\":\"\"},\"caxis\":{\"gridcolor\":\"white\",\"linecolor\":\"white\",\"ticks\":\"\"}},\"coloraxis\":{\"colorbar\":{\"outlinewidth\":0,\"ticks\":\"\"}},\"colorscale\":{\"sequential\":[[0.0,\"#0d0887\"],[0.1111111111111111,\"#46039f\"],[0.2222222222222222,\"#7201a8\"],[0.3333333333333333,\"#9c179e\"],[0.4444444444444444,\"#bd3786\"],[0.5555555555555556,\"#d8576b\"],[0.6666666666666666,\"#ed7953\"],[0.7777777777777778,\"#fb9f3a\"],[0.8888888888888888,\"#fdca26\"],[1.0,\"#f0f921\"]],\"sequentialminus\":[[0.0,\"#0d0887\"],[0.1111111111111111,\"#46039f\"],[0.2222222222222222,\"#7201a8\"],[0.3333333333333333,\"#9c179e\"],[0.4444444444444444,\"#bd3786\"],[0.5555555555555556,\"#d8576b\"],[0.6666666666666666,\"#ed7953\"],[0.7777777777777778,\"#fb9f3a\"],[0.8888888888888888,\"#fdca26\"],[1.0,\"#f0f921\"]],\"diverging\":[[0,\"#8e0152\"],[0.1,\"#c51b7d\"],[0.2,\"#de77ae\"],[0.3,\"#f1b6da\"],[0.4,\"#fde0ef\"],[0.5,\"#f7f7f7\"],[0.6,\"#e6f5d0\"],[0.7,\"#b8e186\"],[0.8,\"#7fbc41\"],[0.9,\"#4d9221\"],[1,\"#276419\"]]},\"xaxis\":{\"gridcolor\":\"white\",\"linecolor\":\"white\",\"ticks\":\"\",\"title\":{\"standoff\":15},\"zerolinecolor\":\"white\",\"automargin\":true,\"zerolinewidth\":2},\"yaxis\":{\"gridcolor\":\"white\",\"linecolor\":\"white\",\"ticks\":\"\",\"title\":{\"standoff\":15},\"zerolinecolor\":\"white\",\"automargin\":true,\"zerolinewidth\":2},\"scene\":{\"xaxis\":{\"backgroundcolor\":\"#E5ECF6\",\"gridcolor\":\"white\",\"linecolor\":\"white\",\"showbackground\":true,\"ticks\":\"\",\"zerolinecolor\":\"white\",\"gridwidth\":2},\"yaxis\":{\"backgroundcolor\":\"#E5ECF6\",\"gridcolor\":\"white\",\"linecolor\":\"white\",\"showbackground\":true,\"ticks\":\"\",\"zerolinecolor\":\"white\",\"gridwidth\":2},\"zaxis\":{\"backgroundcolor\":\"#E5ECF6\",\"gridcolor\":\"white\",\"linecolor\":\"white\",\"showbackground\":true,\"ticks\":\"\",\"zerolinecolor\":\"white\",\"gridwidth\":2}},\"shapedefaults\":{\"line\":{\"color\":\"#2a3f5f\"}},\"annotationdefaults\":{\"arrowcolor\":\"#2a3f5f\",\"arrowhead\":0,\"arrowwidth\":1},\"geo\":{\"bgcolor\":\"white\",\"landcolor\":\"#E5ECF6\",\"subunitcolor\":\"white\",\"showland\":true,\"showlakes\":true,\"lakecolor\":\"white\"},\"title\":{\"x\":0.05},\"mapbox\":{\"style\":\"light\"}}},\"xaxis\":{\"anchor\":\"y\",\"domain\":[0.0,1.0],\"title\":{\"text\":\"ShoppingMall\"}},\"yaxis\":{\"anchor\":\"x\",\"domain\":[0.0,1.0],\"title\":{\"text\":\"Frequency\"}},\"legend\":{\"tracegroupgap\":0},\"margin\":{\"t\":60},\"barmode\":\"relative\",\"title\":{\"text\":\"Histogram of ShoppingMall\"}},                        {\"responsive\": true}                    ).then(function(){\n",
       "                            \n",
       "var gd = document.getElementById('4c95abb1-f21c-4384-96e3-27ccf50c623c');\n",
       "var x = new MutationObserver(function (mutations, observer) {{\n",
       "        var display = window.getComputedStyle(gd).display;\n",
       "        if (!display || display === 'none') {{\n",
       "            console.log([gd, 'removed!']);\n",
       "            Plotly.purge(gd);\n",
       "            observer.disconnect();\n",
       "        }}\n",
       "}});\n",
       "\n",
       "// Listen for the removal of the full notebook cells\n",
       "var notebookContainer = gd.closest('#notebook-container');\n",
       "if (notebookContainer) {{\n",
       "    x.observe(notebookContainer, {childList: true});\n",
       "}}\n",
       "\n",
       "// Listen for the clearing of the current output cell\n",
       "var outputEl = gd.closest('.output');\n",
       "if (outputEl) {{\n",
       "    x.observe(outputEl, {childList: true});\n",
       "}}\n",
       "\n",
       "                        })                };                            </script>        </div>\n",
       "</body>\n",
       "</html>"
      ]
     },
     "metadata": {},
     "output_type": "display_data"
    },
    {
     "data": {
      "text/html": [
       "<html>\n",
       "<head><meta charset=\"utf-8\" /></head>\n",
       "<body>\n",
       "    <div>            <script src=\"https://cdnjs.cloudflare.com/ajax/libs/mathjax/2.7.5/MathJax.js?config=TeX-AMS-MML_SVG\"></script><script type=\"text/javascript\">if (window.MathJax && window.MathJax.Hub && window.MathJax.Hub.Config) {window.MathJax.Hub.Config({SVG: {font: \"STIX-Web\"}});}</script>                <script type=\"text/javascript\">window.PlotlyConfig = {MathJaxConfig: 'local'};</script>\n",
       "        <script charset=\"utf-8\" src=\"https://cdn.plot.ly/plotly-2.35.2.min.js\"></script>                <div id=\"4d520c0a-34d0-4a5f-8456-de5b1f0f9080\" class=\"plotly-graph-div\" style=\"height:525px; width:100%;\"></div>            <script type=\"text/javascript\">                                    window.PLOTLYENV=window.PLOTLYENV || {};                                    if (document.getElementById(\"4d520c0a-34d0-4a5f-8456-de5b1f0f9080\")) {                    Plotly.newPlot(                        \"4d520c0a-34d0-4a5f-8456-de5b1f0f9080\",                        [{\"alignmentgroup\":\"True\",\"bingroup\":\"x\",\"hovertemplate\":\"Spa=%{x}\\u003cbr\\u003ecount=%{y}\\u003cextra\\u003e\\u003c\\u002fextra\\u003e\",\"legendgroup\":\"\",\"marker\":{\"color\":\"#636efa\",\"pattern\":{\"shape\":\"\"}},\"name\":\"\",\"nbinsx\":30,\"offsetgroup\":\"\",\"orientation\":\"v\",\"showlegend\":false,\"x\":[0.0,549.0,6715.0,3329.0,565.0,291.0,0.0,0.0,216.0,0.0,0.0,110.0,0.0,0.0,2.0,0.0,0.0,0.0,0.0,0.0,0.0,0.0,0.0,0.0,0.0,0.0,0.0,0.0,0.0,998.0,1438.0,48.0,437.0,0.0,0.0,990.0,0.0,951.0,20.0,2606.0,0.0,0.0,2511.0,0.0,0.0,0.0,0.0,0.0,null,1379.0,4683.0,0.0,0.0,0.0,286.0,0.0,1377.0,17.0,0.0,0.0,0.0,0.0,0.0,0.0,253.0,6.0,1.0,0.0,0.0,0.0,0.0,0.0,0.0,321.0,0.0,0.0,0.0,0.0,0.0,0.0,638.0,0.0,0.0,0.0,188.0,1.0,0.0,0.0,3.0,32.0,0.0,37.0,0.0,0.0,830.0,0.0,0.0,0.0,2.0,0.0,0.0,0.0,0.0,3929.0,0.0,1868.0,0.0,0.0,17.0,0.0,238.0,0.0,12.0,65.0,0.0,0.0,699.0,0.0,0.0,0.0,316.0,0.0,0.0,0.0,0.0,0.0,25.0,0.0,564.0,0.0,0.0,0.0,0.0,0.0,0.0,0.0,0.0,0.0,0.0,0.0,0.0,0.0,0.0,null,0.0,0.0,0.0,22.0,0.0,221.0,0.0,0.0,5.0,115.0,14970.0,28.0,2.0,0.0,0.0,299.0,0.0,0.0,0.0,0.0,202.0,0.0,0.0,0.0,898.0,0.0,1072.0,0.0,0.0,0.0,795.0,0.0,0.0,0.0,0.0,0.0,0.0,878.0,0.0,0.0,1125.0,0.0,0.0,0.0,0.0,182.0,51.0,10.0,0.0,0.0,27.0,0.0,0.0,0.0,0.0,0.0,0.0,0.0,0.0,0.0,2.0,1.0,0.0,43.0,234.0,0.0,11.0,0.0,0.0,0.0,1634.0,0.0,713.0,1720.0,0.0,1438.0,0.0,0.0,92.0,0.0,4812.0,283.0,0.0,0.0,0.0,0.0,584.0,27.0,8620.0,0.0,0.0,0.0,0.0,2.0,0.0,0.0,0.0,299.0,981.0,0.0,0.0,null,754.0,0.0,0.0,0.0,53.0,888.0,14.0,0.0,0.0,0.0,0.0,0.0,0.0,162.0,0.0,6.0,0.0,0.0,1157.0,0.0,0.0,0.0,1090.0,null,17.0,0.0,0.0,0.0,0.0,1851.0,20.0,1.0,0.0,6.0,4476.0,0.0,0.0,318.0,0.0,0.0,0.0,170.0,0.0,null,0.0,0.0,0.0,0.0,0.0,0.0,0.0,46.0,148.0,0.0,0.0,1476.0,0.0,0.0,3.0,0.0,0.0,0.0,0.0,274.0,0.0,0.0,0.0,3.0,0.0,0.0,0.0,0.0,0.0,124.0,0.0,0.0,0.0,0.0,280.0,685.0,15.0,0.0,177.0,441.0,0.0,2766.0,0.0,0.0,6.0,176.0,5132.0,0.0,2579.0,0.0,0.0,1173.0,0.0,0.0,0.0,0.0,0.0,4.0,3693.0,0.0,0.0,25.0,0.0,0.0,0.0,0.0,0.0,1508.0,8157.0,3835.0,0.0,0.0,6011.0,0.0,13.0,0.0,0.0,310.0,0.0,5.0,0.0,0.0,2.0,567.0,140.0,1537.0,352.0,0.0,0.0,5467.0,0.0,13.0,34.0,0.0,0.0,562.0,715.0,2.0,0.0,16.0,0.0,0.0,0.0,2962.0,0.0,0.0,0.0,622.0,467.0,26.0,0.0,1936.0,722.0,0.0,0.0,0.0,24.0,77.0,0.0,0.0,32.0,0.0,0.0,0.0,0.0,0.0,0.0,745.0,0.0,0.0,59.0,26.0,0.0,0.0,0.0,59.0,0.0,0.0,612.0,0.0,0.0,null,0.0,1178.0,146.0,1.0,0.0,0.0,0.0,5183.0,0.0,9.0,0.0,9.0,144.0,0.0,0.0,1619.0,0.0,0.0,5.0,0.0,3348.0,4303.0,0.0,0.0,0.0,null,0.0,0.0,82.0,null,471.0,0.0,29.0,0.0,0.0,0.0,0.0,401.0,0.0,0.0,0.0,0.0,323.0,59.0,0.0,0.0,0.0,0.0,2.0,0.0,0.0,0.0,0.0,0.0,0.0,0.0,0.0,0.0,3427.0,0.0,0.0,0.0,557.0,5732.0,641.0,320.0,0.0,0.0,0.0,0.0,0.0,9.0,0.0,45.0,0.0,681.0,0.0,16.0,0.0,252.0,0.0,762.0,445.0,0.0,0.0,764.0,0.0,2525.0,1.0,0.0,0.0,0.0,32.0,442.0,21.0,0.0,0.0,1354.0,0.0,0.0,0.0,1.0,0.0,0.0,146.0,0.0,0.0,0.0,0.0,0.0,1814.0,0.0,854.0,54.0,0.0,110.0,105.0,0.0,0.0,0.0,183.0,0.0,0.0,0.0,0.0,0.0,0.0,0.0,0.0,0.0,0.0,0.0,1.0,0.0,1.0,0.0,670.0,422.0,0.0,0.0,0.0,0.0,0.0,124.0,0.0,9.0,0.0,0.0,0.0,0.0,881.0,null,1852.0,0.0,0.0,502.0,0.0,0.0,null,0.0,0.0,0.0,49.0,0.0,0.0,0.0,0.0,1197.0,1018.0,0.0,0.0,150.0,140.0,0.0,11.0,339.0,675.0,0.0,0.0,25.0,1958.0,118.0,1517.0,2210.0,0.0,0.0,0.0,0.0,1.0,0.0,0.0,0.0,0.0,0.0,0.0,0.0,768.0,17.0,140.0,20.0,0.0,0.0,1360.0,49.0,4507.0,0.0,23.0,989.0,9.0,0.0,7.0,0.0,0.0,0.0,541.0,0.0,0.0,0.0,0.0,0.0,0.0,0.0,0.0,55.0,0.0,12.0,0.0,41.0,0.0,0.0,0.0,0.0,0.0,null,4343.0,74.0,12.0,0.0,8.0,0.0,387.0,0.0,0.0,0.0,0.0,452.0,0.0,0.0,31.0,1132.0,0.0,30.0,0.0,0.0,0.0,0.0,0.0,0.0,0.0,0.0,261.0,0.0,184.0,0.0,152.0,786.0,0.0,0.0,4.0,0.0,188.0,38.0,0.0,2247.0,0.0,0.0,0.0,0.0,41.0,0.0,3190.0,0.0,0.0,0.0,4302.0,0.0,1022.0,48.0,0.0,0.0,12.0,null,15.0,93.0,null,0.0,0.0,170.0,0.0,0.0,0.0,0.0,0.0,4476.0,0.0,0.0,0.0,175.0,0.0,1018.0,0.0,3.0,0.0,0.0,0.0,0.0,0.0,0.0,2177.0,89.0,0.0,0.0,0.0,7.0,0.0,0.0,874.0,0.0,0.0,0.0,1590.0,0.0,1953.0,0.0,0.0,0.0,0.0,0.0,304.0,0.0,0.0,0.0,0.0,0.0,null,4614.0,0.0,0.0,0.0,0.0,0.0,0.0,0.0,0.0,55.0,0.0,0.0,59.0,7.0,2.0,795.0,0.0,838.0,424.0,0.0,0.0,0.0,266.0,0.0,0.0,0.0,0.0,0.0,0.0,1.0,0.0,0.0,0.0,0.0,0.0,0.0,0.0,0.0,2.0,0.0,0.0,92.0,246.0,2529.0,0.0,0.0,2.0,0.0,447.0,0.0,31.0,18.0,0.0,0.0,0.0,10.0,9.0,0.0,0.0,0.0,0.0,0.0,413.0,null,148.0,435.0,null,9038.0,145.0,0.0,136.0,31.0,369.0,5907.0,544.0,139.0,886.0,0.0,0.0,169.0,15.0,0.0,0.0,0.0,0.0,0.0,507.0,2761.0,43.0,0.0,135.0,0.0,126.0,0.0,2121.0,1867.0,18.0,630.0,0.0,0.0,0.0,0.0,1175.0,0.0,0.0,0.0,342.0,0.0,0.0,0.0,0.0,null,0.0,5.0,0.0,0.0,0.0,0.0,0.0,304.0,167.0,0.0,0.0,0.0,0.0,1026.0,3.0,0.0,0.0,0.0,0.0,0.0,0.0,0.0,0.0,0.0,0.0,136.0,0.0,0.0,0.0,12.0,150.0,0.0,55.0,0.0,4.0,0.0,184.0,9927.0,21.0,0.0,0.0,1748.0,449.0,0.0,11.0,0.0,22.0,253.0,0.0,0.0,0.0,0.0,0.0,0.0,9.0,0.0,0.0,0.0,0.0,0.0,6.0,0.0,0.0,0.0,0.0,554.0,1125.0,0.0,1.0,0.0,954.0,1277.0,0.0,594.0,0.0,202.0,0.0,0.0,38.0,279.0,0.0,0.0,0.0,8.0,0.0,0.0,675.0,0.0,0.0,499.0,5.0,0.0,960.0,0.0,815.0,0.0,0.0,3.0,0.0,0.0,74.0,0.0,0.0,0.0,0.0,0.0,0.0,53.0,21.0,0.0,295.0,0.0,0.0,0.0,0.0,14.0,0.0,0.0,0.0,283.0,0.0,0.0,0.0,564.0,0.0,0.0,852.0,16.0,0.0,0.0,0.0,0.0,641.0,0.0,0.0,0.0,677.0,0.0,192.0,0.0,0.0,0.0,0.0,0.0,245.0,0.0,1710.0,0.0,1.0,16.0,246.0,0.0,55.0,3.0,58.0,0.0,0.0,0.0,0.0,0.0,0.0,0.0,0.0,743.0,135.0,0.0,787.0,0.0,199.0,0.0,0.0,0.0,0.0,3.0,0.0,0.0,0.0,0.0,0.0,0.0,0.0,0.0,0.0,0.0,7368.0,8.0,118.0,0.0,0.0,26.0,0.0,0.0,0.0,0.0,0.0,0.0,0.0,0.0,null,0.0,0.0,0.0,0.0,3072.0,0.0,43.0,16139.0,103.0,0.0,32.0,205.0,0.0,0.0,1.0,0.0,68.0,0.0,0.0,0.0,0.0,0.0,0.0,0.0,0.0,4.0,0.0,0.0,0.0,679.0,0.0,0.0,0.0,0.0,0.0,4.0,0.0,0.0,3026.0,71.0,0.0,187.0,0.0,0.0,0.0,337.0,0.0,0.0,703.0,354.0,30.0,0.0,0.0,0.0,0.0,0.0,0.0,78.0,0.0,null,560.0,0.0,0.0,0.0,0.0,2143.0,345.0,0.0,1608.0,131.0,0.0,28.0,0.0,0.0,33.0,291.0,0.0,0.0,4651.0,0.0,0.0,27.0,1.0,831.0,0.0,40.0,0.0,115.0,1374.0,371.0,565.0,0.0,61.0,0.0,229.0,null,0.0,10.0,1737.0,0.0,0.0,50.0,0.0,51.0,0.0,0.0,0.0,759.0,40.0,0.0,0.0,0.0,0.0,0.0,714.0,0.0,0.0,0.0,0.0,null,1.0,0.0,0.0,0.0,0.0,202.0,842.0,0.0,0.0,0.0,0.0,719.0,5.0,380.0,146.0,0.0,0.0,0.0,0.0,0.0,0.0,1010.0,0.0,0.0,0.0,8145.0,3198.0,0.0,0.0,4948.0,0.0,0.0,0.0,0.0,0.0,4664.0,0.0,0.0,0.0,0.0,0.0,0.0,0.0,0.0,0.0,0.0,0.0,0.0,458.0,1.0,0.0,203.0,229.0,0.0,0.0,610.0,0.0,0.0,721.0,1.0,369.0,0.0,0.0,460.0,202.0,0.0,0.0,660.0,0.0,0.0,0.0,0.0,0.0,310.0,0.0,0.0,119.0,3656.0,0.0,0.0,0.0,3.0,0.0,0.0,0.0,0.0,42.0,null,0.0,769.0,2735.0,0.0,0.0,0.0,260.0,0.0,0.0,2.0,0.0,0.0,0.0,0.0,0.0,0.0,0.0,16.0,0.0,151.0,298.0,0.0,489.0,0.0,560.0,0.0,59.0,0.0,0.0,null,78.0,4170.0,0.0,8.0,401.0,0.0,0.0,0.0,0.0,0.0,17.0,0.0,1520.0,0.0,0.0,26.0,0.0,0.0,0.0,0.0,0.0,0.0,0.0,692.0,0.0,59.0,0.0,0.0,0.0,0.0,250.0,460.0,1.0,0.0,0.0,133.0,0.0,0.0,0.0,195.0,760.0,null,11.0,0.0,0.0,1.0,0.0,0.0,0.0,5467.0,3208.0,0.0,26.0,0.0,51.0,6255.0,0.0,5.0,0.0,4060.0,0.0,16.0,0.0,10.0,16594.0,4422.0,323.0,0.0,0.0,0.0,0.0,1.0,0.0,61.0,null,417.0,0.0,0.0,0.0,0.0,0.0,0.0,813.0,3998.0,817.0,2.0,0.0,0.0,0.0,2.0,0.0,0.0,0.0,0.0,0.0,0.0,0.0,594.0,1.0,0.0,9.0,2.0,419.0,441.0,null,0.0,0.0,284.0,0.0,1966.0,6431.0,0.0,0.0,0.0,0.0,0.0,0.0,0.0,254.0,0.0,0.0,2.0,45.0,0.0,277.0,1.0,0.0,0.0,21.0,1440.0,0.0,3718.0,720.0,20.0,0.0,0.0,67.0,32.0,0.0,0.0,42.0,0.0,0.0,0.0,2987.0,0.0,0.0,0.0,102.0,0.0,0.0,0.0,9.0,0.0,0.0,0.0,723.0,0.0,0.0,0.0,176.0,1.0,0.0,0.0,0.0,0.0,371.0,0.0,0.0,0.0,724.0,12.0,33.0,320.0,0.0,732.0,2.0,null,0.0,0.0,0.0,0.0,747.0,2681.0,0.0,0.0,0.0,616.0,1435.0,2.0,0.0,2.0,0.0,0.0,35.0,685.0,0.0,0.0,515.0,0.0,239.0,0.0,0.0,null,0.0,0.0,0.0,2113.0,0.0,0.0,0.0,0.0,732.0,0.0,0.0,0.0,0.0,0.0,0.0,71.0,0.0,307.0,618.0,0.0,0.0,0.0,3.0,0.0,0.0,null,0.0,0.0,774.0,0.0,0.0,0.0,109.0,4.0,0.0,905.0,0.0,2136.0,0.0,1306.0,542.0,0.0,null,101.0,16.0,0.0,0.0,2.0,0.0,6704.0,797.0,1.0,0.0,0.0,0.0,793.0,0.0,0.0,0.0,0.0,0.0,0.0,0.0,0.0,5.0,0.0,0.0,2.0,15331.0,773.0,0.0,0.0,0.0,6200.0,0.0,0.0,0.0,2.0,0.0,0.0,0.0,8.0,0.0,20.0,102.0,0.0,825.0,21.0,2421.0,0.0,0.0,0.0,236.0,0.0,0.0,0.0,0.0,135.0,73.0,0.0,0.0,359.0,87.0,568.0,0.0,0.0,0.0,0.0,0.0,0.0,467.0,0.0,0.0,0.0,0.0,221.0,0.0,13.0,2.0,0.0,0.0,0.0,0.0,0.0,0.0,39.0,318.0,26.0,49.0,20.0,174.0,59.0,0.0,0.0,0.0,0.0,6.0,57.0,0.0,732.0,0.0,0.0,null,39.0,0.0,0.0,0.0,0.0,0.0,0.0,0.0,73.0,0.0,null,null,34.0,1208.0,0.0,0.0,376.0,84.0,0.0,0.0,0.0,0.0,0.0,787.0,553.0,0.0,0.0,0.0,140.0,2.0,51.0,0.0,0.0,12.0,0.0,360.0,6.0,77.0,0.0,0.0,0.0,182.0,2.0,56.0,624.0,123.0,2.0,2204.0,207.0,0.0,0.0,0.0,4102.0,0.0,1.0,0.0,null,0.0,0.0,0.0,788.0,0.0,0.0,1282.0,0.0,735.0,0.0,0.0,0.0,0.0,27.0,52.0,0.0,0.0,391.0,0.0,0.0,0.0,4.0,0.0,0.0,0.0,0.0,646.0,0.0,0.0,0.0,172.0,0.0,0.0,0.0,486.0,806.0,724.0,19.0,0.0,86.0,0.0,0.0,0.0,611.0,46.0,728.0,0.0,0.0,0.0,0.0,309.0,363.0,5037.0,78.0,1806.0,0.0,0.0,0.0,0.0,1431.0,0.0,0.0,0.0,126.0,1095.0,5.0,37.0,0.0,12.0,0.0,0.0,1339.0,0.0,0.0,4.0,0.0,0.0,0.0,0.0,166.0,0.0,null,0.0,0.0,110.0,39.0,0.0,3.0,0.0,56.0,0.0,731.0,0.0,101.0,8.0,0.0,0.0,0.0,0.0,0.0,1.0,393.0,0.0,4.0,6.0,824.0,0.0,0.0,1200.0,375.0,0.0,0.0,2448.0,633.0,0.0,0.0,10.0,1.0,null,0.0,3175.0,0.0,0.0,0.0,0.0,0.0,62.0,0.0,0.0,0.0,0.0,28.0,91.0,0.0,0.0,499.0,12.0,0.0,71.0,537.0,274.0,631.0,0.0,496.0,0.0,59.0,60.0,0.0,0.0,0.0,5.0,0.0,0.0,0.0,0.0,0.0,3725.0,0.0,0.0,1080.0,148.0,86.0,0.0,51.0,0.0,0.0,0.0,0.0,0.0,1.0,0.0,771.0,0.0,0.0,0.0,0.0,785.0,0.0,1.0,0.0,0.0,0.0,0.0,0.0,1528.0,0.0,0.0,0.0,0.0,0.0,0.0,0.0,712.0,1739.0,0.0,0.0,0.0,56.0,0.0,0.0,0.0,0.0,0.0,668.0,326.0,3615.0,283.0,0.0,4996.0,0.0,25.0,52.0,0.0,35.0,68.0,4759.0,0.0,6202.0,20.0,152.0,0.0,0.0,368.0,0.0,0.0,245.0,0.0,710.0,1266.0,0.0,256.0,0.0,13.0,594.0,null,0.0,0.0,3.0,2624.0,0.0,0.0,0.0,4926.0,650.0,0.0,0.0,1415.0,0.0,0.0,0.0,13036.0,0.0,0.0,0.0,0.0,0.0,40.0,80.0,0.0,0.0,0.0,20.0,10.0,91.0,85.0,0.0,0.0,1545.0,0.0,868.0,0.0,0.0,0.0,0.0,0.0,0.0,0.0,0.0,1234.0,0.0,0.0,0.0,0.0,1.0,0.0,0.0,659.0,0.0,550.0,849.0,45.0,0.0,0.0,0.0,0.0,745.0,0.0,0.0,0.0,0.0,409.0,5577.0,0.0,0.0,0.0,null,4488.0,318.0,995.0,334.0,12.0,0.0,1149.0,207.0,628.0,0.0,0.0,0.0,0.0,646.0,4027.0,102.0,0.0,2677.0,0.0,0.0,1051.0,0.0,0.0,0.0,602.0,0.0,0.0,13.0,0.0,380.0,2170.0,1257.0,6.0,0.0,698.0,0.0,0.0,0.0,252.0,204.0,0.0,null,26.0,510.0,1.0,140.0,2.0,0.0,0.0,0.0,5.0,0.0,0.0,0.0,0.0,3733.0,0.0,0.0,0.0,0.0,47.0,4996.0,2.0,null,8.0,702.0,0.0,0.0,0.0,80.0,0.0,0.0,0.0,48.0,772.0,0.0,210.0,81.0,0.0,0.0,5.0,0.0,0.0,0.0,10.0,0.0,0.0,0.0,0.0,0.0,85.0,0.0,0.0,0.0,4225.0,219.0,58.0,20.0,null,8.0,0.0,null,360.0,0.0,null,0.0,0.0,3028.0,10.0,1.0,0.0,4463.0,22.0,0.0,0.0,0.0,676.0,75.0,0.0,24.0,0.0,1249.0,9124.0,599.0,0.0,0.0,0.0,4085.0,0.0,66.0,0.0,210.0,0.0,0.0,0.0,454.0,0.0,0.0,21.0,0.0,0.0,892.0,0.0,1589.0,0.0,0.0,1452.0,0.0,857.0,0.0,0.0,0.0,0.0,0.0,0.0,0.0,0.0,0.0,605.0,0.0,1418.0,0.0,null,0.0,6.0,0.0,0.0,215.0,0.0,0.0,0.0,1.0,864.0,0.0,0.0,644.0,0.0,0.0,7818.0,0.0,94.0,0.0,0.0,0.0,1324.0,0.0,0.0,0.0,0.0,null,0.0,0.0,0.0,690.0,676.0,59.0,1.0,0.0,0.0,287.0,0.0,0.0,0.0,0.0,0.0,0.0,877.0,2650.0,0.0,47.0,0.0,0.0,0.0,0.0,0.0,null,0.0,0.0,3133.0,0.0,836.0,0.0,0.0,0.0,0.0,0.0,0.0,0.0,0.0,566.0,null,null,0.0,null,0.0,0.0,0.0,0.0,0.0,448.0,89.0,0.0,0.0,0.0,0.0,0.0,161.0,0.0,157.0,0.0,0.0,0.0,0.0,0.0,0.0,0.0,null,897.0,0.0,567.0,543.0,94.0,0.0,0.0,3573.0,0.0,0.0,0.0,0.0,0.0,0.0,0.0,0.0,0.0,0.0,0.0,0.0,0.0,660.0,33.0,808.0,0.0,1064.0,0.0,232.0,0.0,481.0,541.0,11001.0,0.0,381.0,0.0,0.0,0.0,91.0,2788.0,0.0,656.0,435.0,0.0,211.0,0.0,0.0,0.0,285.0,0.0,0.0,0.0,null,0.0,0.0,0.0,1.0,0.0,0.0,0.0,null,0.0,0.0,35.0,0.0,1555.0,117.0,0.0,1899.0,0.0,0.0,1402.0,2835.0,7.0,2.0,0.0,1.0,0.0,2.0,0.0,0.0,0.0,0.0,0.0,0.0,0.0,0.0,0.0,0.0,0.0,2549.0,0.0,null,0.0,549.0,0.0,0.0,89.0,0.0,0.0,0.0,0.0,0.0,0.0,0.0,1409.0,26.0,0.0,0.0,641.0,0.0,0.0,0.0,0.0,3508.0,673.0,0.0,0.0,0.0,0.0,201.0,568.0,58.0,0.0,0.0,0.0,0.0,0.0,53.0,0.0,1657.0,0.0,0.0,0.0,0.0,0.0,0.0,0.0,0.0,0.0,0.0,0.0,73.0,0.0,0.0,445.0,0.0,0.0,0.0,0.0,0.0,0.0,55.0,3.0,0.0,0.0,0.0,454.0,0.0,2085.0,17.0,0.0,0.0,0.0,72.0,671.0,759.0,0.0,0.0,0.0,739.0,3.0,10860.0,0.0,839.0,0.0,712.0,636.0,6.0,0.0,0.0,0.0,0.0,0.0,686.0,132.0,0.0,2.0,750.0,0.0,0.0,4.0,0.0,0.0,0.0,2838.0,87.0,15.0,56.0,8.0,0.0,90.0,1367.0,10.0,0.0,8.0,4.0,13208.0,0.0,43.0,0.0,160.0,559.0,0.0,72.0,210.0,263.0,0.0,4.0,0.0,153.0,0.0,0.0,0.0,0.0,0.0,0.0,194.0,0.0,0.0,0.0,0.0,1622.0,0.0,0.0,0.0,0.0,191.0,0.0,30.0,0.0,0.0,0.0,0.0,0.0,0.0,0.0,48.0,272.0,0.0,784.0,0.0,0.0,1674.0,0.0,0.0,0.0,0.0,0.0,281.0,0.0,0.0,null,254.0,2.0,0.0,0.0,5.0,0.0,0.0,179.0,0.0,0.0,0.0,758.0,0.0,74.0,0.0,888.0,0.0,14.0,0.0,0.0,0.0,0.0,180.0,0.0,166.0,0.0,7.0,0.0,0.0,0.0,96.0,757.0,92.0,0.0,0.0,0.0,null,0.0,0.0,0.0,0.0,2864.0,52.0,0.0,195.0,64.0,0.0,0.0,0.0,1313.0,674.0,4689.0,10.0,0.0,0.0,3.0,2622.0,863.0,0.0,54.0,0.0,881.0,0.0,13104.0,0.0,268.0,170.0,22.0,0.0,0.0,0.0,0.0,0.0,120.0,0.0,0.0,0.0,0.0,0.0,2.0,0.0,0.0,0.0,0.0,0.0,0.0,0.0,0.0,0.0,0.0,0.0,18.0,3538.0,495.0,2085.0,0.0,2205.0,548.0,3.0,0.0,146.0,0.0,0.0,0.0,0.0,461.0,0.0,692.0,null,40.0,0.0,0.0,0.0,0.0,1053.0,0.0,0.0,0.0,0.0,0.0,0.0,31.0,38.0,0.0,920.0,null,0.0,30.0,0.0,0.0,0.0,338.0,0.0,0.0,0.0,0.0,0.0,null,62.0,0.0,3.0,0.0,0.0,0.0,0.0,0.0,0.0,0.0,0.0,244.0,0.0,970.0,0.0,300.0,null,0.0,0.0,104.0,0.0,0.0,124.0,0.0,0.0,0.0,0.0,0.0,0.0,0.0,0.0,15.0,0.0,107.0,0.0,19.0,0.0,0.0,0.0,857.0,0.0,6841.0,2.0,0.0,7.0,717.0,30.0,0.0,569.0,0.0,0.0,0.0,0.0,577.0,null,0.0,2.0,0.0,0.0,107.0,614.0,0.0,724.0,0.0,270.0,258.0,0.0,0.0,38.0,null,26.0,0.0,0.0,0.0,0.0,0.0,4114.0,0.0,308.0,0.0,160.0,123.0,0.0,0.0,0.0,4.0,124.0,0.0,425.0,null,0.0,0.0,744.0,0.0,0.0,0.0,7627.0,6.0,207.0,347.0,112.0,639.0,157.0,5391.0,60.0,0.0,2.0,3154.0,0.0,187.0,128.0,607.0,0.0,0.0,360.0,0.0,48.0,0.0,0.0,0.0,0.0,643.0,0.0,0.0,178.0,0.0,0.0,5.0,0.0,0.0,0.0,0.0,48.0,null,1.0,10976.0,306.0,41.0,null,0.0,0.0,65.0,1745.0,0.0,0.0,0.0,450.0,0.0,356.0,0.0,0.0,7.0,0.0,0.0,21.0,0.0,0.0,581.0,822.0,1784.0,0.0,0.0,1497.0,0.0,153.0,0.0,0.0,820.0,7860.0,0.0,43.0,121.0,9.0,0.0,0.0,0.0,0.0,0.0,0.0,1158.0,0.0,0.0,195.0,9.0,0.0,0.0,0.0,26.0,0.0,857.0,0.0,277.0,0.0,286.0,0.0,0.0,0.0,0.0,0.0,232.0,0.0,1104.0,0.0,0.0,0.0,0.0,0.0,0.0,85.0,0.0,678.0,0.0,0.0,0.0,0.0,0.0,257.0,0.0,0.0,0.0,2.0,0.0,58.0,0.0,0.0,0.0,295.0,1.0,0.0,0.0,4.0,0.0,0.0,5.0,3.0,0.0,0.0,128.0,0.0,0.0,241.0,0.0,0.0,0.0,0.0,0.0,0.0,0.0,0.0,null,0.0,0.0,223.0,31.0,0.0,0.0,0.0,0.0,588.0,0.0,0.0,0.0,227.0,12.0,8873.0,0.0,573.0,0.0,null,3583.0,1287.0,2645.0,0.0,0.0,1225.0,325.0,0.0,0.0,0.0,36.0,0.0,5.0,517.0,0.0,0.0,709.0,0.0,0.0,102.0,0.0,68.0,397.0,498.0,0.0,0.0,0.0,0.0,0.0,756.0,589.0,0.0,117.0,0.0,0.0,0.0,0.0,0.0,8.0,0.0,0.0,46.0,594.0,0.0,0.0,0.0,1372.0,699.0,0.0,0.0,893.0,6.0,0.0,0.0,0.0,0.0,0.0,0.0,184.0,733.0,35.0,121.0,0.0,null,0.0,0.0,0.0,0.0,0.0,0.0,85.0,753.0,174.0,646.0,846.0,0.0,0.0,0.0,0.0,625.0,0.0,0.0,10385.0,null,0.0,0.0,205.0,0.0,0.0,866.0,5.0,0.0,127.0,0.0,0.0,1147.0,0.0,0.0,0.0,0.0,0.0,0.0,36.0,125.0,0.0,0.0,476.0,3725.0,0.0,139.0,null,0.0,22.0,0.0,0.0,0.0,0.0,15.0,0.0,0.0,0.0,0.0,0.0,0.0,0.0,0.0,0.0,0.0,4.0,0.0,298.0,0.0,0.0,0.0,0.0,7740.0,3653.0,0.0,0.0,0.0,0.0,0.0,null,0.0,0.0,12062.0,0.0,12.0,265.0,11.0,880.0,0.0,0.0,1371.0,0.0,0.0,0.0,0.0,0.0,0.0,0.0,5.0,0.0,0.0,898.0,0.0,0.0,0.0,0.0,0.0,0.0,719.0,602.0,0.0,0.0,0.0,0.0,0.0,0.0,0.0,1026.0,17.0,0.0,0.0,0.0,0.0,0.0,0.0,100.0,0.0,148.0,10.0,0.0,0.0,0.0,0.0,3668.0,4125.0,0.0,74.0,0.0,7967.0,0.0,23.0,0.0,0.0,0.0,0.0,0.0,0.0,670.0,0.0,0.0,0.0,799.0,897.0,0.0,0.0,2.0,0.0,0.0,104.0,6616.0,0.0,2.0,0.0,0.0,0.0,0.0,0.0,0.0,909.0,0.0,198.0,0.0,1.0,15.0,0.0,945.0,0.0,21.0,0.0,68.0,0.0,2462.0,414.0,0.0,0.0,0.0,0.0,null,0.0,0.0,0.0,266.0,0.0,159.0,881.0,0.0,0.0,0.0,0.0,25.0,0.0,0.0,0.0,0.0,0.0,3.0,149.0,0.0,0.0,null,0.0,0.0,10.0,0.0,0.0,0.0,166.0,0.0,131.0,0.0,1529.0,0.0,1149.0,944.0,0.0,0.0,1756.0,6.0,96.0,273.0,2279.0,0.0,0.0,0.0,0.0,0.0,12.0,0.0,0.0,0.0,9.0,0.0,0.0,0.0,0.0,0.0,0.0,0.0,0.0,0.0,0.0,0.0,0.0,0.0,0.0,0.0,0.0,0.0,1.0,8.0,0.0,733.0,0.0,2.0,106.0,18.0,0.0,0.0,0.0,27.0,0.0,0.0,130.0,0.0,0.0,0.0,0.0,0.0,0.0,0.0,0.0,2581.0,0.0,327.0,258.0,0.0,2948.0,0.0,812.0,76.0,0.0,0.0,139.0,3778.0,0.0,0.0,0.0,1.0,35.0,572.0,0.0,5.0,1679.0,84.0,0.0,7.0,0.0,0.0,450.0,0.0,739.0,22.0,0.0,0.0,15.0,487.0,0.0,0.0,0.0,12.0,0.0,0.0,0.0,0.0,0.0,0.0,0.0,0.0,0.0,3340.0,8.0,0.0,0.0,0.0,0.0,0.0,0.0,2.0,0.0,0.0,0.0,14.0,0.0,0.0,1486.0,0.0,0.0,0.0,498.0,0.0,410.0,484.0,0.0,111.0,1.0,49.0,0.0,0.0,0.0,0.0,72.0,0.0,0.0,0.0,0.0,0.0,0.0,0.0,1144.0,0.0,0.0,366.0,0.0,467.0,3003.0,0.0,0.0,71.0,1.0,0.0,0.0,0.0,0.0,0.0,85.0,218.0,518.0,0.0,0.0,1792.0,0.0,0.0,1640.0,0.0,330.0,0.0,0.0,0.0,435.0,359.0,16.0,0.0,0.0,241.0,0.0,195.0,null,0.0,0.0,0.0,null,207.0,370.0,1.0,47.0,0.0,0.0,0.0,0.0,0.0,0.0,0.0,0.0,0.0,0.0,0.0,138.0,null,0.0,0.0,0.0,0.0,1.0,0.0,0.0,0.0,null,0.0,0.0,0.0,2989.0,0.0,173.0,685.0,0.0,3.0,1924.0,20.0,250.0,0.0,76.0,0.0,0.0,0.0,55.0,0.0,755.0,234.0,0.0,193.0,0.0,0.0,0.0,0.0,3440.0,0.0,35.0,108.0,63.0,0.0,0.0,0.0,0.0,0.0,0.0,0.0,0.0,0.0,19.0,null,0.0,0.0,4.0,null,4494.0,0.0,0.0,2.0,0.0,0.0,0.0,0.0,9.0,0.0,0.0,1433.0,0.0,0.0,10.0,27.0,0.0,3981.0,0.0,0.0,1465.0,0.0,0.0,0.0,0.0,0.0,null,0.0,0.0,27.0,0.0,0.0,36.0,604.0,0.0,0.0,0.0,0.0,0.0,15.0,17.0,0.0,724.0,789.0,0.0,0.0,0.0,0.0,104.0,0.0,50.0,1565.0,393.0,68.0,5.0,0.0,0.0,0.0,0.0,2.0,0.0,0.0,15.0,0.0,79.0,54.0,0.0,36.0,0.0,0.0,97.0,0.0,1589.0,0.0,0.0,0.0,0.0,0.0,0.0,0.0,0.0,0.0,0.0,0.0,658.0,0.0,0.0,0.0,0.0,0.0,0.0,0.0,40.0,0.0,0.0,0.0,0.0,0.0,4.0,0.0,845.0,785.0,595.0,0.0,4.0,null,0.0,0.0,0.0,0.0,0.0,0.0,0.0,2241.0,0.0,0.0,0.0,0.0,0.0,null,0.0,3.0,0.0,0.0,0.0,0.0,1046.0,94.0,0.0,20.0,0.0,44.0,0.0,578.0,0.0,49.0,65.0,0.0,0.0,13.0,0.0,0.0,263.0,0.0,650.0,1313.0,1250.0,0.0,1819.0,481.0,0.0,29.0,0.0,0.0,0.0,7.0,0.0,0.0,0.0,1.0,0.0,0.0,0.0,607.0,0.0,1203.0,50.0,4.0,203.0,544.0,0.0,0.0,22.0,0.0,0.0,0.0,0.0,0.0,0.0,0.0,0.0,0.0,0.0,0.0,0.0,0.0,0.0,0.0,7.0,0.0,756.0,0.0,58.0,0.0,0.0,0.0,0.0,11.0,4.0,0.0,16.0,7.0,1.0,1098.0,0.0,0.0,1.0,0.0,0.0,0.0,0.0,0.0,439.0,2.0,0.0,0.0,0.0,0.0,0.0,0.0,0.0,0.0,0.0,0.0,0.0,0.0,0.0,0.0,0.0,0.0,0.0,0.0,2.0,0.0,0.0,0.0,0.0,0.0,0.0,0.0,0.0,1247.0,0.0,315.0,1193.0,750.0,0.0,0.0,0.0,0.0,0.0,0.0,20.0,0.0,416.0,0.0,512.0,0.0,0.0,0.0,0.0,0.0,0.0,0.0,0.0,0.0,0.0,0.0,2456.0,0.0,0.0,708.0,0.0,0.0,49.0,null,0.0,0.0,0.0,32.0,118.0,0.0,0.0,1348.0,0.0,0.0,0.0,2067.0,0.0,0.0,2.0,2.0,0.0,0.0,null,0.0,0.0,0.0,67.0,0.0,148.0,0.0,0.0,0.0,0.0,7561.0,0.0,0.0,0.0,0.0,31.0,0.0,7.0,0.0,1097.0,3.0,0.0,14.0,183.0,3.0,0.0,0.0,0.0,3.0,0.0,0.0,0.0,0.0,5.0,0.0,18.0,97.0,847.0,0.0,0.0,166.0,0.0,0.0,0.0,0.0,0.0,0.0,8.0,0.0,0.0,3.0,0.0,null,0.0,0.0,1493.0,40.0,0.0,0.0,0.0,0.0,5.0,544.0,3200.0,0.0,2.0,0.0,0.0,545.0,0.0,0.0,211.0,5.0,46.0,0.0,5.0,0.0,122.0,0.0,0.0,0.0,0.0,2.0,0.0,0.0,0.0,2436.0,0.0,0.0,0.0,0.0,0.0,658.0,557.0,20.0,0.0,0.0,352.0,855.0,480.0,0.0,87.0,0.0,0.0,1675.0,6.0,91.0,0.0,0.0,0.0,0.0,0.0,4840.0,1022.0,1817.0,3975.0,26.0,0.0,0.0,0.0,0.0,240.0,0.0,754.0,0.0,0.0,17.0,128.0,0.0,1.0,293.0,0.0,0.0,0.0,58.0,7.0,0.0,0.0,2.0,0.0,0.0,0.0,null,null,4280.0,0.0,0.0,0.0,0.0,0.0,null,0.0,665.0,1.0,0.0,608.0,732.0,0.0,196.0,0.0,0.0,820.0,10.0,173.0,184.0,0.0,0.0,580.0,0.0,0.0,0.0,66.0,0.0,3840.0,101.0,0.0,284.0,698.0,192.0,0.0,3013.0,0.0,3314.0,0.0,768.0,0.0,0.0,97.0,671.0,0.0,74.0,0.0,2.0,1254.0,2882.0,0.0,0.0,0.0,117.0,0.0,270.0,0.0,0.0,0.0,0.0,0.0,0.0,0.0,669.0,8.0,422.0,0.0,0.0,0.0,1283.0,0.0,0.0,0.0,0.0,0.0,604.0,0.0,0.0,0.0,0.0,267.0,3.0,0.0,0.0,0.0,3.0,0.0,0.0,0.0,0.0,0.0,1156.0,0.0,0.0,589.0,7.0,0.0,0.0,775.0,0.0,0.0,3.0,0.0,0.0,2143.0,0.0,0.0,843.0,0.0,1301.0,3131.0,0.0,0.0,2740.0,22.0,0.0,0.0,0.0,0.0,562.0,0.0,0.0,0.0,4.0,0.0,0.0,0.0,4.0,124.0,null,0.0,206.0,null,696.0,425.0,0.0,0.0,734.0,0.0,0.0,4.0,0.0,0.0,0.0,0.0,1494.0,0.0,7.0,0.0,812.0,288.0,0.0,0.0,0.0,0.0,0.0,0.0,0.0,0.0,18.0,0.0,0.0,0.0,289.0,393.0,733.0,0.0,0.0,681.0,646.0,0.0,0.0,0.0,0.0,0.0,0.0,0.0,0.0,6.0,108.0,121.0,0.0,0.0,0.0,78.0,725.0,0.0,0.0,12.0,0.0,0.0,1366.0,3565.0,0.0,805.0,209.0,795.0,513.0,0.0,10.0,0.0,0.0,0.0,0.0,0.0,0.0,0.0,0.0,1.0,0.0,560.0,3094.0,7113.0,0.0,180.0,null,0.0,0.0,31.0,0.0,6.0,0.0,31.0,0.0,0.0,134.0,null,2.0,0.0,0.0,0.0,0.0,0.0,0.0,0.0,1353.0,1.0,51.0,0.0,0.0,4643.0,0.0,59.0,0.0,0.0,1.0,0.0,0.0,0.0,161.0,0.0,187.0,null,13.0,0.0,0.0,0.0,0.0,0.0,239.0,2.0,0.0,740.0,0.0,802.0,92.0,16.0,0.0,407.0,0.0,0.0,0.0,0.0,0.0,0.0,0.0,0.0,0.0,69.0,0.0,504.0,0.0,0.0,39.0,201.0,0.0,19.0,14.0,0.0,0.0,8.0,0.0,0.0,0.0,0.0,0.0,0.0,0.0,0.0,194.0,19.0,292.0,0.0,137.0,2.0,117.0,525.0,0.0,0.0,0.0,1.0,0.0,44.0,0.0,748.0,0.0,0.0,0.0,0.0,1777.0,0.0,0.0,0.0,17.0,null,36.0,278.0,694.0,0.0,15238.0,0.0,0.0,1940.0,0.0,0.0,0.0,0.0,359.0,0.0,0.0,4098.0,0.0,0.0,765.0,7.0,0.0,475.0,3.0,0.0,0.0,209.0,204.0,5492.0,1.0,1635.0,0.0,0.0,0.0,0.0,0.0,10.0,3001.0,625.0,54.0,6167.0,0.0,0.0,0.0,725.0,19.0,277.0,81.0,774.0,3044.0,6075.0,412.0,1026.0,0.0,1014.0,0.0,1.0,0.0,0.0,768.0,0.0,0.0,0.0,7.0,36.0,1.0,0.0,51.0,0.0,0.0,1331.0,0.0,14.0,0.0,0.0,0.0,0.0,10941.0,2144.0,5270.0,2.0,0.0,0.0,0.0,1742.0,0.0,713.0,4030.0,0.0,250.0,1.0,0.0,177.0,266.0,0.0,1251.0,902.0,34.0,380.0,0.0,0.0,0.0,null,0.0,0.0,1821.0,0.0,0.0,117.0,0.0,0.0,0.0,3434.0,null,0.0,0.0,0.0,1.0,0.0,0.0,0.0,0.0,0.0,0.0,33.0,0.0,0.0,0.0,0.0,0.0,121.0,65.0,544.0,110.0,1006.0,0.0,0.0,0.0,0.0,107.0,0.0,1404.0,0.0,1.0,749.0,2052.0,0.0,71.0,0.0,0.0,0.0,0.0,0.0,2956.0,0.0,0.0,11.0,0.0,0.0,131.0,0.0,0.0,39.0,0.0,0.0,0.0,131.0,0.0,0.0,213.0,0.0,1777.0,4.0,1271.0,0.0,56.0,0.0,0.0,40.0,0.0,0.0,0.0,105.0,200.0,1831.0,305.0,0.0,0.0,0.0,13.0,3.0,0.0,0.0,38.0,14.0,1795.0,0.0,0.0,2.0,0.0,0.0,0.0,1810.0,0.0,693.0,0.0,5.0,0.0,0.0,8.0,0.0,0.0,0.0,0.0,0.0,1.0,0.0,0.0,0.0,228.0,123.0,0.0,0.0,2998.0,3873.0,0.0,10887.0,1318.0,0.0,0.0,0.0,9.0,778.0,0.0,253.0,0.0,1439.0,161.0,599.0,18.0,0.0,0.0,0.0,0.0,null,0.0,0.0,0.0,493.0,0.0,0.0,864.0,null,321.0,0.0,0.0,0.0,394.0,0.0,0.0,0.0,0.0,0.0,0.0,258.0,0.0,0.0,null,19.0,0.0,0.0,0.0,0.0,19.0,0.0,0.0,0.0,1381.0,1966.0,106.0,0.0,624.0,0.0,18.0,619.0,103.0,2.0,172.0,157.0,4.0,0.0,0.0,28.0,734.0,142.0,13.0,0.0,0.0,0.0,0.0,0.0,21.0,368.0,861.0,12.0,1305.0,0.0,20.0,0.0,0.0,0.0,1284.0,405.0,0.0,19.0,0.0,null,0.0,0.0,42.0,0.0,0.0,0.0,2121.0,71.0,0.0,5.0,672.0,2.0,0.0,0.0,1.0,788.0,1.0,2711.0,702.0,0.0,0.0,1.0,0.0,0.0,1679.0,0.0,0.0,0.0,0.0,0.0,0.0,7.0,0.0,0.0,0.0,0.0,0.0,0.0,0.0,14.0,0.0,0.0,0.0,304.0,0.0,1027.0,22.0,0.0,0.0,0.0,2.0,0.0,0.0,0.0,2.0,737.0,334.0,0.0,0.0,0.0,38.0,0.0,50.0,0.0,474.0,5.0,0.0,59.0,0.0,0.0,0.0,0.0,0.0,9319.0,0.0,0.0,0.0,0.0,0.0,0.0,0.0,0.0,882.0,0.0,0.0,0.0,0.0,0.0,445.0,588.0,786.0,0.0,200.0,29.0,0.0,0.0,0.0,0.0,0.0,0.0,0.0,0.0,49.0,0.0,0.0,5.0,0.0,0.0,0.0,0.0,0.0,0.0,484.0,0.0,6691.0,0.0,0.0,0.0,352.0,0.0,251.0,474.0,9.0,51.0,89.0,0.0,0.0,0.0,0.0,0.0,1386.0,0.0,131.0,2.0,1373.0,6216.0,419.0,0.0,0.0,0.0,86.0,103.0,0.0,3.0,0.0,0.0,659.0,0.0,0.0,0.0,0.0,20.0,null,0.0,56.0,0.0,0.0,3025.0,0.0,2011.0,344.0,0.0,1.0,5.0,0.0,0.0,0.0,382.0,1.0,558.0,0.0,0.0,7352.0,95.0,0.0,1600.0,1483.0,0.0,0.0,0.0,0.0,0.0,0.0,0.0,1109.0,3.0,0.0,0.0,0.0,0.0,0.0,16.0,0.0,0.0,0.0,654.0,763.0,712.0,1984.0,0.0,0.0,0.0,0.0,0.0,0.0,0.0,0.0,0.0,340.0,738.0,0.0,0.0,1893.0,21.0,0.0,0.0,0.0,0.0,0.0,0.0,0.0,48.0,10.0,0.0,0.0,0.0,704.0,0.0,322.0,0.0,0.0,939.0,0.0,0.0,0.0,0.0,38.0,20.0,0.0,0.0,2787.0,0.0,0.0,1.0,null,null,156.0,0.0,0.0,0.0,0.0,0.0,0.0,22.0,1069.0,9.0,190.0,0.0,0.0,6235.0,148.0,0.0,0.0,0.0,null,0.0,0.0,3.0,0.0,4.0,29.0,5.0,611.0,0.0,0.0,0.0,0.0,2433.0,0.0,0.0,0.0,0.0,22.0,0.0,null,54.0,0.0,0.0,107.0,0.0,0.0,0.0,283.0,554.0,0.0,0.0,0.0,1559.0,166.0,0.0,0.0,5.0,0.0,0.0,0.0,0.0,525.0,0.0,153.0,24.0,0.0,0.0,564.0,0.0,0.0,0.0,971.0,44.0,117.0,267.0,0.0,0.0,0.0,0.0,0.0,1.0,0.0,770.0,0.0,47.0,0.0,227.0,91.0,0.0,13.0,0.0,35.0,0.0,0.0,0.0,0.0,0.0,572.0,2393.0,2290.0,0.0,0.0,0.0,0.0,0.0,1866.0,0.0,0.0,1.0,258.0,0.0,1.0,79.0,594.0,5.0,87.0,0.0,0.0,0.0,null,0.0,0.0,0.0,214.0,0.0,null,4.0,175.0,0.0,0.0,0.0,0.0,0.0,0.0,0.0,0.0,0.0,0.0,0.0,8.0,0.0,6.0,0.0,190.0,0.0,61.0,0.0,324.0,0.0,0.0,94.0,null,null,1.0,0.0,0.0,101.0,0.0,0.0,0.0,0.0,12.0,677.0,0.0,367.0,434.0,0.0,0.0,1450.0,696.0,287.0,0.0,3198.0,0.0,0.0,0.0,0.0,0.0,101.0,0.0,4517.0,14.0,0.0,150.0,0.0,0.0,0.0,0.0,0.0,102.0,1010.0,2288.0,7.0,2.0,0.0,0.0,1202.0,3409.0,6.0,3.0,1332.0,62.0,136.0,158.0,null,0.0,0.0,0.0,0.0,690.0,136.0,0.0,0.0,0.0,0.0,0.0,0.0,30.0,0.0,0.0,483.0,580.0,0.0,458.0,280.0,2.0,9.0,0.0,0.0,0.0,0.0,0.0,0.0,0.0,952.0,0.0,0.0,1.0,1.0,3369.0,null,0.0,62.0,676.0,1.0,0.0,0.0,0.0,170.0,0.0,null,0.0,280.0,2.0,3.0,0.0,0.0,639.0,0.0,0.0,0.0,3.0,0.0,0.0,0.0,0.0,0.0,0.0,1114.0,0.0,130.0,739.0,7.0,1545.0,214.0,0.0,372.0,1580.0,0.0,0.0,5700.0,0.0,324.0,243.0,0.0,0.0,0.0,0.0,0.0,11.0,0.0,null,2.0,570.0,1245.0,0.0,904.0,0.0,0.0,14.0,0.0,0.0,0.0,5047.0,0.0,0.0,0.0,1478.0,285.0,720.0,161.0,0.0,0.0,0.0,0.0,83.0,76.0,0.0,0.0,0.0,620.0,0.0,0.0,0.0,20.0,301.0,699.0,0.0,0.0,814.0,0.0,0.0,0.0,0.0,676.0,635.0,703.0,null,0.0,15.0,145.0,0.0,0.0,0.0,0.0,0.0,0.0,1.0,115.0,0.0,0.0,0.0,43.0,0.0,0.0,0.0,762.0,0.0,0.0,232.0,null,0.0,0.0,0.0,3.0,0.0,0.0,2244.0,0.0,0.0,0.0,0.0,1412.0,7.0,897.0,0.0,0.0,0.0,0.0,214.0,352.0,443.0,0.0,704.0,289.0,0.0,0.0,0.0,0.0,0.0,587.0,0.0,0.0,0.0,0.0,0.0,348.0,601.0,0.0,0.0,746.0,0.0,11.0,0.0,0.0,1168.0,870.0,103.0,2.0,295.0,0.0,0.0,0.0,0.0,0.0,0.0,436.0,3926.0,0.0,104.0,0.0,0.0,0.0,4549.0,0.0,1.0,180.0,0.0,0.0,239.0,0.0,0.0,0.0,0.0,0.0,0.0,1250.0,0.0,0.0,0.0,0.0,0.0,0.0,0.0,0.0,0.0,0.0,0.0,0.0,1.0,0.0,0.0,0.0,0.0,0.0,0.0,0.0,2851.0,5.0,240.0,1453.0,0.0,0.0,0.0,3.0,0.0,3.0,0.0,0.0,679.0,63.0,3867.0,0.0,0.0,10247.0,0.0,0.0,0.0,0.0,0.0,0.0,0.0,0.0,278.0,0.0,0.0,0.0,9.0,0.0,0.0,1054.0,664.0,84.0,0.0,0.0,247.0,0.0,0.0,0.0,0.0,0.0,0.0,0.0,0.0,29.0,4103.0,0.0,692.0,0.0,434.0,0.0,0.0,0.0,0.0,0.0,0.0,144.0,0.0,0.0,0.0,0.0,7.0,176.0,0.0,0.0,489.0,0.0,711.0,77.0,0.0,0.0,2.0,5.0,1191.0,0.0,0.0,39.0,353.0,0.0,0.0,144.0,547.0,0.0,9.0,5381.0,0.0,1.0,0.0,552.0,0.0,0.0,0.0,716.0,0.0,null,0.0,342.0,1912.0,558.0,0.0,0.0,1.0,838.0,8.0,570.0,0.0,0.0,0.0,0.0,0.0,4.0,1358.0,0.0,4.0,22.0,0.0,null,23.0,0.0,0.0,1.0,223.0,0.0,1720.0,1.0,2587.0,182.0,6344.0,0.0,1472.0,0.0,113.0,0.0,0.0,0.0,0.0,129.0,0.0,359.0,7.0,425.0,0.0,0.0,6.0,0.0,2108.0,0.0,0.0,0.0,0.0,0.0,0.0,0.0,0.0,0.0,0.0,5.0,0.0,1.0,0.0,0.0,0.0,0.0,0.0,0.0,317.0,0.0,0.0,0.0,580.0,0.0,920.0,0.0,0.0,0.0,325.0,0.0,0.0,0.0,0.0,0.0,0.0,0.0,0.0,0.0,9.0,1415.0,0.0,0.0,727.0,0.0,0.0,0.0,0.0,0.0,139.0,304.0,912.0,1206.0,0.0,0.0,17.0,0.0,318.0,1501.0,436.0,0.0,0.0,0.0,769.0,0.0,0.0,0.0,0.0,0.0,0.0,0.0,0.0,0.0,507.0,20.0,888.0,0.0,93.0,0.0,0.0,1497.0,0.0,61.0,0.0,0.0,0.0,2368.0,0.0,0.0,0.0,0.0,0.0,0.0,0.0,0.0,0.0,28.0,514.0,1.0,347.0,0.0,0.0,0.0,0.0,0.0,0.0,1.0,0.0,204.0,5.0,308.0,0.0,62.0,0.0,0.0,74.0,0.0,96.0,241.0,725.0,4810.0,0.0,5474.0,0.0,899.0,274.0,21.0,0.0,2463.0,0.0,1854.0,59.0,0.0,0.0,0.0,0.0,0.0,0.0,0.0,0.0,593.0,0.0,0.0,0.0,0.0,64.0,0.0,0.0,0.0,0.0,31.0,0.0,1658.0,0.0,0.0,1482.0,61.0,0.0,1.0,7.0,0.0,2.0,0.0,0.0,0.0,0.0,49.0,0.0,null,0.0,0.0,0.0,591.0,401.0,0.0,0.0,0.0,0.0,null,0.0,4423.0,2.0,471.0,0.0,0.0,0.0,0.0,38.0,0.0,0.0,0.0,0.0,12.0,703.0,0.0,224.0,0.0,0.0,967.0,0.0,0.0,0.0,613.0,0.0,0.0,482.0,0.0,601.0,0.0,0.0,0.0,0.0,1989.0,0.0,0.0,0.0,302.0,806.0,0.0,0.0,36.0,0.0,0.0,0.0,0.0,null,0.0,0.0,14.0,0.0,1.0,0.0,1.0,304.0,1.0,0.0,1043.0,29.0,0.0,0.0,0.0,0.0,703.0,0.0,0.0,0.0,0.0,0.0,70.0,0.0,752.0,0.0,10.0,0.0,0.0,1.0,0.0,514.0,179.0,778.0,1.0,0.0,0.0,0.0,0.0,0.0,1.0,8126.0,57.0,0.0,0.0,0.0,0.0,3104.0,0.0,8810.0,0.0,0.0,167.0,0.0,0.0,22408.0,0.0,1612.0,1481.0,0.0,44.0,0.0,236.0,23.0,42.0,0.0,0.0,610.0,0.0,null,0.0,0.0,183.0,1.0,0.0,0.0,13.0,33.0,0.0,0.0,0.0,0.0,0.0,0.0,0.0,0.0,4.0,2725.0,0.0,673.0,280.0,0.0,1120.0,0.0,63.0,1.0,null,0.0,0.0,0.0,4588.0,0.0,0.0,773.0,0.0,764.0,6.0,33.0,305.0,0.0,null,2.0,1677.0,0.0,0.0,0.0,0.0,462.0,0.0,0.0,197.0,0.0,0.0,0.0,213.0,0.0,0.0,0.0,0.0,0.0,0.0,31.0,0.0,0.0,803.0,0.0,0.0,0.0,14.0,662.0,362.0,105.0,0.0,0.0,0.0,0.0,11.0,0.0,2963.0,0.0,625.0,888.0,659.0,0.0,575.0,429.0,0.0,0.0,0.0,0.0,90.0,0.0,297.0,0.0,0.0,1.0,0.0,0.0,31.0,0.0,873.0,0.0,0.0,0.0,0.0,2799.0,0.0,0.0,0.0,0.0,0.0,0.0,0.0,0.0,0.0,0.0,0.0,24.0,657.0,3.0,1179.0,130.0,1849.0,660.0,370.0,0.0,0.0,0.0,0.0,311.0,2043.0,3282.0,0.0,0.0,87.0,0.0,113.0,0.0,235.0,0.0,0.0,32.0,0.0,62.0,0.0,594.0,0.0,4.0,300.0,0.0,0.0,1.0,0.0,0.0,5.0,0.0,0.0,0.0,0.0,0.0,312.0,1082.0,0.0,0.0,0.0,0.0,0.0,2287.0,0.0,9.0,0.0,39.0,2.0,0.0,679.0,0.0,0.0,292.0,519.0,0.0,0.0,null,424.0,0.0,0.0,465.0,0.0,6.0,0.0,7.0,508.0,0.0,48.0,0.0,0.0,0.0,0.0,0.0,537.0,11.0,0.0,0.0,0.0,0.0,0.0,0.0,201.0,0.0,15.0,30.0,0.0,0.0,0.0,0.0,0.0,1964.0,10.0,6.0,673.0,null,0.0,0.0,0.0,0.0,1956.0,0.0,0.0,4368.0,34.0,0.0,0.0,10.0,0.0,143.0,696.0,0.0,0.0,0.0,0.0,0.0,0.0,0.0,0.0,0.0,0.0,0.0,287.0,479.0,0.0,1382.0,0.0,0.0,7.0,4.0,5.0,0.0,0.0,0.0,0.0,379.0,0.0,1885.0,0.0,1.0,0.0,0.0,0.0,729.0,0.0,0.0,0.0,0.0,246.0,0.0,0.0,null,0.0,0.0,0.0,0.0,1.0,null,0.0,0.0,329.0,7.0,0.0,0.0,10.0,328.0,415.0,0.0,0.0,0.0,0.0,0.0,20.0,0.0,0.0,0.0,16.0,0.0,0.0,0.0,0.0,0.0,4560.0,null,0.0,0.0,0.0,109.0,0.0,0.0,0.0,0.0,1.0,0.0,null,42.0,0.0,0.0,0.0,0.0,0.0,0.0,10.0,14.0,0.0,0.0,85.0,3.0,0.0,0.0,0.0,0.0,0.0,5568.0,297.0,0.0,0.0,1.0,508.0,0.0,0.0,0.0,null,0.0,0.0,2575.0,60.0,0.0,0.0,231.0,528.0,0.0,1806.0,56.0,0.0,0.0,0.0,0.0,1380.0,0.0,0.0,0.0,0.0,0.0,0.0,0.0,343.0,0.0,1795.0,259.0,0.0,148.0,0.0,0.0,0.0,0.0,0.0,1877.0,58.0,0.0,0.0,0.0,115.0,0.0,13.0,1530.0,596.0,0.0,0.0,0.0,0.0,160.0,0.0,0.0,0.0,0.0,0.0,3452.0,4236.0,1.0,407.0,0.0,352.0,0.0,0.0,288.0,652.0,22.0,1855.0,0.0,0.0,4921.0,149.0,108.0,0.0,0.0,4287.0,1.0,77.0,0.0,0.0,182.0,0.0,0.0,0.0,0.0,0.0,0.0,0.0,2929.0,0.0,3603.0,10912.0,439.0,1785.0,2.0,0.0,80.0,0.0,0.0,0.0,0.0,0.0,118.0,0.0,0.0,266.0,8.0,0.0,2008.0,1267.0,15.0,0.0,0.0,112.0,0.0,158.0,0.0,0.0,0.0,1308.0,747.0,2.0,6324.0,0.0,30.0,4.0,1.0,0.0,11.0,0.0,0.0,0.0,0.0,908.0,304.0,0.0,818.0,0.0,0.0,179.0,530.0,6.0,1170.0,0.0,2.0,202.0,0.0,0.0,2.0,0.0,0.0,0.0,0.0,0.0,0.0,0.0,0.0,52.0,94.0,0.0,0.0,0.0,0.0,0.0,0.0,0.0,2.0,0.0,0.0,59.0,0.0,null,0.0,14.0,0.0,0.0,642.0,0.0,0.0,0.0,394.0,2.0,2167.0,0.0,0.0,0.0,244.0,414.0,0.0,0.0,0.0,0.0,0.0,0.0,0.0,0.0,0.0,26.0,0.0,0.0,424.0,0.0,0.0,0.0,0.0,0.0,0.0,3.0,0.0,0.0,0.0,373.0,43.0,0.0,0.0,0.0,0.0,0.0,0.0,0.0,1548.0,291.0,0.0,0.0,0.0,0.0,0.0,0.0,0.0,0.0,0.0,1733.0,0.0,0.0,0.0,1525.0,0.0,0.0,0.0,34.0,0.0,0.0,8522.0,143.0,2395.0,0.0,0.0,274.0,0.0,0.0,0.0,0.0,0.0,0.0,0.0,0.0,0.0,0.0,7.0,0.0,0.0,0.0,0.0,0.0,0.0,528.0,0.0,0.0,0.0,0.0,0.0,0.0,1847.0,0.0,0.0,0.0,5015.0,37.0,null,1701.0,0.0,109.0,49.0,0.0,671.0,0.0,0.0,0.0,920.0,0.0,455.0,1611.0,0.0,0.0,0.0,0.0,0.0,0.0,0.0,0.0,0.0,null,0.0,0.0,45.0,0.0,1.0,0.0,0.0,0.0,0.0,2.0,726.0,4.0,0.0,0.0,0.0,0.0,0.0,0.0,0.0,26.0,0.0,102.0,0.0,0.0,0.0,0.0,null,0.0,0.0,0.0,0.0,691.0,0.0,1.0,0.0,0.0,0.0,0.0,null,72.0,8.0,0.0,1052.0,0.0,0.0,13.0,0.0,0.0,0.0,0.0,71.0,0.0,30.0,36.0,182.0,0.0,0.0,0.0,97.0,12.0,700.0,0.0,38.0,0.0,0.0,0.0,0.0,0.0,217.0,0.0,0.0,0.0,0.0,0.0,0.0,0.0,178.0,0.0,1490.0,0.0,0.0,444.0,0.0,2.0,1600.0,2618.0,0.0,0.0,0.0,0.0,0.0,0.0,0.0,0.0,716.0,0.0,0.0,2.0,0.0,0.0,0.0,0.0,0.0,0.0,0.0,0.0,0.0,0.0,4094.0,0.0,0.0,0.0,0.0,310.0,0.0,0.0,0.0,0.0,0.0,0.0,0.0,0.0,4232.0,0.0,14.0,13117.0,2134.0,3.0,0.0,104.0,0.0,1.0,0.0,0.0,0.0,0.0,0.0,5.0,0.0,0.0,1.0,0.0,0.0,0.0,0.0,2585.0,0.0,0.0,0.0,0.0,0.0,0.0,0.0,0.0,0.0,1483.0,0.0,938.0,0.0,0.0,11.0,0.0,0.0,854.0,580.0,0.0,2814.0,0.0,0.0,0.0,0.0,0.0,5.0,100.0,null,0.0,928.0,0.0,8330.0,0.0,1.0,0.0,557.0,0.0,0.0,0.0,0.0,0.0,0.0,112.0,36.0,446.0,0.0,661.0,0.0,0.0,0.0,0.0,672.0,0.0,797.0,19.0,0.0,0.0,0.0,0.0,87.0,134.0,34.0,0.0,804.0,4.0,0.0,80.0,5697.0,0.0,0.0,0.0,0.0,0.0,0.0,0.0,0.0,33.0,1538.0,43.0,0.0,0.0,0.0,0.0,4.0,0.0,769.0,0.0,0.0,null,0.0,641.0,0.0,0.0,93.0,186.0,649.0,3587.0,0.0,0.0,0.0,0.0,0.0,580.0,0.0,79.0,0.0,10.0,136.0,142.0,0.0,0.0,297.0,0.0,0.0,485.0,726.0,9.0,88.0,0.0,0.0,0.0,24.0,0.0,0.0,0.0,0.0,0.0,0.0,0.0,0.0,8.0,2.0,0.0,36.0,0.0,0.0,0.0,120.0,0.0,0.0,133.0,43.0,0.0,2503.0,0.0,0.0,0.0,0.0,0.0,1042.0,0.0,0.0,0.0,0.0,0.0,1.0,0.0,1125.0,3409.0,781.0,0.0,0.0,1.0,35.0,720.0,0.0,663.0,0.0,0.0,0.0,102.0,0.0,0.0,797.0,0.0,423.0,37.0,0.0,717.0,0.0,0.0,0.0,0.0,0.0,0.0,168.0,0.0,125.0,174.0,null,0.0,1.0,0.0,19.0,0.0,0.0,0.0,0.0,5.0,219.0,417.0,2349.0,0.0,0.0,8293.0,3.0,20.0,0.0,13016.0,0.0,280.0,0.0,492.0,0.0,0.0,0.0,0.0,1019.0,0.0,0.0,0.0,683.0,1368.0,0.0,9206.0,153.0,131.0,0.0,335.0,0.0,null,0.0,0.0,0.0,0.0,2.0,0.0,1442.0,0.0,670.0,0.0,0.0,669.0,0.0,0.0,0.0,0.0,0.0,0.0,0.0,0.0,1537.0,50.0,0.0,2032.0,1743.0,0.0,0.0,0.0,0.0,0.0,0.0,662.0,27.0,669.0,95.0,453.0,0.0,0.0,0.0,0.0,662.0,72.0,0.0,0.0,5248.0,0.0,0.0,null,0.0,0.0,638.0,177.0,null,null,1.0,316.0,0.0,0.0,1.0,0.0,0.0,0.0,0.0,41.0,0.0,1.0,226.0,0.0,0.0,0.0,0.0,795.0,0.0,6953.0,2038.0,0.0,1488.0,21.0,0.0,664.0,0.0,2775.0,0.0,0.0,89.0,0.0,1181.0,0.0,1.0,0.0,0.0,0.0,1.0,0.0,0.0,0.0,690.0,0.0,38.0,0.0,0.0,0.0,0.0,0.0,0.0,0.0,0.0,27.0,0.0,161.0,94.0,19.0,52.0,0.0,0.0,0.0,0.0,0.0,74.0,0.0,641.0,0.0,0.0,0.0,2160.0,1400.0,1.0,254.0,0.0,29.0,0.0,0.0,0.0,38.0,0.0,0.0,0.0,678.0,0.0,117.0,0.0,0.0,null,16.0,0.0,0.0,null,249.0,63.0,3.0,506.0,129.0,0.0,2.0,1.0,1.0,0.0,1823.0,null,15586.0,484.0,0.0,1.0,95.0,0.0,0.0,0.0,0.0,null,5458.0,0.0,128.0,0.0,null,61.0,75.0,0.0,0.0,0.0,16.0,68.0,4.0,0.0,0.0,0.0,1695.0,0.0,0.0,0.0,0.0,572.0,12.0,0.0,586.0,null,0.0,7.0,0.0,0.0,0.0,3682.0,0.0,987.0,0.0,0.0,377.0,0.0,0.0,27.0,0.0,0.0,0.0,0.0,0.0,0.0,5.0,5287.0,0.0,6.0,0.0,4.0,0.0,10.0,0.0,1915.0,34.0,0.0,170.0,0.0,0.0,0.0,0.0,0.0,0.0,409.0,null,0.0,0.0,0.0,0.0,814.0,294.0,932.0,0.0,0.0,213.0,null,0.0,758.0,0.0,16.0,0.0,1249.0,309.0,0.0,0.0,0.0,0.0,0.0,0.0,663.0,0.0,0.0,0.0,160.0,0.0,2287.0,1234.0,8.0,355.0,0.0,null,0.0,0.0,9.0,2.0,201.0,0.0,0.0,0.0,0.0,484.0,0.0,0.0,1014.0,690.0,4212.0,0.0,0.0,0.0,0.0,0.0,0.0,null,3.0,150.0,0.0,2.0,2059.0,0.0,0.0,635.0,0.0,13902.0,0.0,0.0,0.0,167.0,0.0,0.0,2809.0,0.0,13.0,0.0,0.0,0.0,0.0,1.0,480.0,0.0,0.0,1229.0,0.0,0.0,669.0,0.0,2.0,0.0,43.0,0.0,0.0,0.0,66.0,0.0,50.0,0.0,125.0,0.0,0.0,0.0,0.0,1367.0,0.0,0.0,0.0,49.0,null,1323.0,0.0,613.0,0.0,9.0,0.0,0.0,19.0,0.0,3560.0,18.0,0.0,7.0,0.0,0.0,1586.0,0.0,0.0,0.0,0.0,0.0,225.0,241.0,0.0,0.0,0.0,0.0,0.0,1503.0,0.0,0.0,0.0,0.0,38.0,0.0,584.0,798.0,0.0,2.0,0.0,519.0,0.0,0.0,1.0,505.0,1.0,847.0,0.0,0.0,null,0.0,2.0,2723.0,0.0,0.0,189.0,62.0,5.0,639.0,0.0,0.0,0.0,0.0,83.0,0.0,0.0,0.0,0.0,0.0,0.0,0.0,0.0,37.0,0.0,700.0,1.0,0.0,77.0,0.0,0.0,7786.0,0.0,0.0,1.0,1.0,0.0,597.0,0.0,0.0,3204.0,68.0,0.0,25.0,0.0,40.0,0.0,0.0,2.0,0.0,2.0,0.0,0.0,0.0,12.0,318.0,11.0,42.0,0.0,118.0,1624.0,0.0,0.0,24.0,347.0,0.0,563.0,0.0,46.0,5.0,0.0,15.0,436.0,40.0,0.0,0.0,5.0,0.0,0.0,0.0,0.0,0.0,0.0,777.0,617.0,0.0,0.0,0.0,279.0,1012.0,0.0,0.0,0.0,746.0,0.0,542.0,0.0,0.0,153.0,0.0,237.0,0.0,506.0,2.0,0.0,127.0,142.0,290.0,0.0,18.0,0.0,0.0,4.0,5491.0,0.0,0.0,0.0,9.0,8493.0,778.0,0.0,0.0,0.0,45.0,null,0.0,538.0,304.0,0.0,198.0,0.0,0.0,0.0,0.0,0.0,1.0,201.0,0.0,0.0,0.0,0.0,null,0.0,0.0,1.0,0.0,740.0,0.0,0.0,0.0,0.0,0.0,993.0,0.0,0.0,0.0,0.0,17.0,0.0,0.0,0.0,2445.0,1013.0,19.0,0.0,0.0,0.0,0.0,24.0,5250.0,242.0,61.0,0.0,0.0,0.0,0.0,0.0,0.0,0.0,0.0,981.0,0.0,835.0,0.0,156.0,25.0,863.0,0.0,0.0,0.0,0.0,0.0,0.0,0.0,0.0,4344.0,1.0,0.0,0.0,0.0,1714.0,196.0,0.0,0.0,0.0,12.0,25.0,0.0,19.0,0.0,11.0,4.0,0.0,0.0,0.0,0.0,0.0,8.0,0.0,0.0,109.0,0.0,0.0,0.0,824.0,0.0,88.0,464.0,0.0,0.0,785.0,0.0,0.0,0.0,0.0,0.0,7.0,173.0,0.0,0.0,2263.0,null,178.0,0.0,0.0,0.0,0.0,0.0,344.0,0.0,0.0,0.0,0.0,0.0,0.0,0.0,365.0,1654.0,0.0,811.0,0.0,0.0,0.0,2326.0,0.0,259.0,6.0,9181.0,0.0,98.0,4732.0,0.0,0.0,0.0,0.0,2330.0,null,0.0,0.0,0.0,1211.0,520.0,0.0,104.0,0.0,0.0,689.0,25.0,null,0.0,506.0,0.0,42.0,0.0,2423.0,948.0,0.0,509.0,25.0,0.0,0.0,0.0,0.0,0.0,0.0,0.0,0.0,0.0,0.0,0.0,0.0,0.0,0.0,0.0,388.0,0.0,17.0,0.0,0.0,0.0,0.0,0.0,548.0,0.0,0.0,0.0,886.0,1492.0,98.0,0.0,0.0,0.0,0.0,0.0,5432.0,0.0,595.0,1268.0,0.0,0.0,0.0,199.0,0.0,2.0,0.0,0.0,0.0,0.0,57.0,0.0,0.0,0.0,0.0,0.0,0.0,0.0,16.0,0.0,177.0,0.0,0.0,0.0,79.0,408.0,148.0,0.0,0.0,782.0,275.0,0.0,0.0,0.0,1.0,0.0,1425.0,59.0,87.0,111.0,0.0,0.0,432.0,0.0,1.0,0.0,11.0,0.0,0.0,0.0,0.0,9.0,110.0,0.0,0.0,0.0,180.0,0.0,1.0,2854.0,0.0,1931.0,0.0,1.0,0.0,0.0,0.0,6688.0,null,0.0,394.0,0.0,1677.0,0.0,0.0,2075.0,0.0,433.0,0.0,0.0,190.0,633.0,0.0,3.0,2441.0,122.0,570.0,0.0,78.0,0.0,7.0,0.0,0.0,2.0,0.0,4928.0,0.0,0.0,0.0,24.0,301.0,0.0,0.0,5481.0,442.0,3803.0,0.0,0.0,0.0,0.0,0.0,0.0,0.0,6.0,0.0,0.0,0.0,0.0,867.0,0.0,0.0,4794.0,588.0,0.0,0.0,0.0,0.0,0.0,0.0,1529.0,0.0,0.0,3528.0,0.0,356.0,0.0,44.0,0.0,0.0,0.0,561.0,0.0,0.0,244.0,0.0,229.0,1910.0,0.0,0.0,0.0,0.0,622.0,0.0,889.0,0.0,718.0,0.0,6.0,1.0,0.0,20.0,0.0,null,0.0,0.0,154.0,521.0,0.0,181.0,2.0,0.0,0.0,0.0,0.0,0.0,0.0,0.0,0.0,751.0,900.0,30.0,118.0,0.0,0.0,null,0.0,0.0,421.0,0.0,0.0,6.0,0.0,73.0,171.0,0.0,0.0,0.0,0.0,495.0,0.0,12.0,0.0,0.0,0.0,0.0,0.0,1773.0,136.0,0.0,645.0,0.0,0.0,0.0,0.0,0.0,0.0,12.0,0.0,0.0,208.0,123.0,0.0,0.0,1149.0,267.0,0.0,0.0,1.0,8.0,795.0,9.0,686.0,0.0,0.0,0.0,465.0,0.0,0.0,0.0,875.0,0.0,324.0,629.0,0.0,0.0,0.0,0.0,0.0,0.0,946.0,0.0,0.0,918.0,0.0,0.0,0.0,0.0,null,369.0,0.0,0.0,0.0,0.0,56.0,22.0,453.0,0.0,0.0,0.0,1.0,0.0,0.0,0.0,0.0,0.0,22.0,0.0,1866.0,87.0,0.0,0.0,497.0,0.0,0.0,null,0.0,0.0,0.0,0.0,31.0,2.0,0.0,1.0,37.0,0.0,0.0,731.0,0.0,null,0.0,0.0,4864.0,0.0,48.0,0.0,null,0.0,0.0,4.0,0.0,2274.0,0.0,0.0,0.0,0.0,829.0,null,1831.0,1098.0,0.0,408.0,0.0,1294.0,0.0,0.0,372.0,0.0,16.0,0.0,0.0,0.0,0.0,0.0,0.0,0.0,0.0,642.0,1030.0,0.0,0.0,0.0,0.0,null,0.0,0.0,0.0,0.0,4.0,115.0,0.0,0.0,0.0,0.0,1.0,2810.0,0.0,0.0,788.0,2750.0,0.0,0.0,0.0,0.0,0.0,0.0,0.0,1535.0,2256.0,null,0.0,0.0,245.0,5577.0,2148.0,0.0,0.0,0.0,0.0,0.0,null,0.0,0.0,null,0.0,0.0,112.0,0.0,22.0,2.0,0.0,206.0,0.0,0.0,58.0,0.0,0.0,0.0,0.0,0.0,0.0,564.0,0.0,2.0,334.0,0.0,0.0,33.0,0.0,14.0,0.0,9655.0,44.0,0.0,0.0,0.0,0.0,0.0,1669.0,396.0,0.0,332.0,665.0,0.0,0.0,0.0,0.0,5.0,0.0,677.0,0.0,37.0,0.0,0.0,687.0,0.0,0.0,0.0,3220.0,1873.0,0.0,33.0,110.0,4952.0,297.0,1711.0,716.0,1443.0,34.0,0.0,0.0,0.0,0.0,88.0,0.0,8.0,667.0,0.0,null,1254.0,0.0,473.0,1770.0,null,0.0,2.0,0.0,195.0,0.0,0.0,0.0,0.0,0.0,0.0,154.0,327.0,0.0,4.0,140.0,0.0,839.0,23.0,0.0,0.0,0.0,0.0,0.0,null,0.0,0.0,0.0,0.0,419.0,717.0,183.0,0.0,630.0,0.0,2183.0,0.0,18572.0,266.0,0.0,0.0,951.0,0.0,0.0,0.0,0.0,0.0,70.0,0.0,0.0,140.0,0.0,0.0,0.0,1.0,0.0,0.0,0.0,0.0,17.0,0.0,0.0,21.0,0.0,256.0,312.0,0.0,1273.0,4199.0,1.0,0.0,0.0,0.0,0.0,0.0,0.0,103.0,0.0,0.0,2519.0,0.0,0.0,2205.0,0.0,2279.0,0.0,0.0,436.0,0.0,0.0,1154.0,551.0,71.0,994.0,0.0,0.0,0.0,0.0,0.0,712.0,0.0,830.0,0.0,0.0,0.0,0.0,3441.0,0.0,0.0,0.0,0.0,15.0,0.0,0.0,0.0,553.0,83.0,0.0,0.0,0.0,141.0,0.0,0.0,0.0,0.0,0.0,2354.0,0.0,0.0,0.0,0.0,0.0,848.0,0.0,0.0,318.0,0.0,3030.0,0.0,5775.0,0.0,0.0,0.0,1663.0,1841.0,0.0,65.0,226.0,0.0,0.0,1587.0,0.0,0.0,0.0,null,0.0,1008.0,0.0,0.0,0.0,0.0,0.0,265.0,267.0,0.0,2.0,0.0,0.0,0.0,0.0,0.0,21.0,226.0,0.0,95.0,595.0,0.0,0.0,0.0,0.0,0.0,0.0,0.0,0.0,1460.0,0.0,0.0,0.0,0.0,277.0,0.0,0.0,104.0,2.0,0.0,3.0,949.0,0.0,36.0,0.0,0.0,87.0,52.0,0.0,15.0,87.0,0.0,0.0,0.0,0.0,0.0,0.0,1180.0,4925.0,165.0,0.0,1.0,0.0,0.0,976.0,0.0,245.0,1043.0,280.0,0.0,0.0,0.0,4.0,0.0,545.0,732.0,69.0,6.0,0.0,0.0,0.0,1130.0,0.0,0.0,0.0,0.0,11.0,0.0,0.0,328.0,1028.0,5.0,0.0,0.0,3.0,0.0,3939.0,8.0,0.0,6.0,634.0,726.0,623.0,0.0,0.0,0.0,null,0.0,0.0,843.0,0.0,35.0,146.0,0.0,0.0,0.0,0.0,0.0,0.0,0.0,0.0,41.0,0.0,588.0,0.0,11.0,83.0,0.0,107.0,0.0,617.0,204.0,2019.0,0.0,0.0,7.0,335.0,0.0,0.0,0.0,0.0,4111.0,30.0,0.0,8.0,0.0,0.0,492.0,0.0,132.0,0.0,4016.0,4502.0,1572.0,88.0,0.0,464.0,0.0,0.0,0.0,0.0,0.0,0.0,0.0,0.0,0.0,0.0,112.0,2760.0,1.0,41.0,0.0,0.0,0.0,0.0,0.0,0.0,17.0,0.0,0.0,0.0,0.0,0.0,0.0,22.0,500.0,112.0,207.0,0.0,0.0,0.0,0.0,0.0,307.0,0.0,0.0,56.0,0.0,379.0,0.0,0.0,0.0,427.0,0.0,0.0,0.0,0.0,5.0,125.0,0.0,0.0,0.0,0.0,1606.0,3.0,0.0,318.0,0.0,0.0,0.0,0.0,15.0,0.0,5.0,0.0,324.0,0.0,null,0.0,782.0,755.0,3657.0,41.0,0.0,0.0,80.0,null,13.0,912.0,0.0,0.0,0.0,0.0,0.0,614.0,62.0,0.0,466.0,0.0,0.0,0.0,957.0,2.0,0.0,52.0,36.0,0.0,0.0,6.0,0.0,0.0,629.0,0.0,404.0,224.0,0.0,0.0,0.0,0.0,0.0,593.0,0.0,1.0,0.0,0.0,0.0,0.0,0.0,0.0,5025.0,0.0,0.0,0.0,20.0,0.0,119.0,0.0,0.0,0.0,0.0,0.0,788.0,620.0,0.0,0.0,0.0,0.0,0.0,80.0,0.0,67.0,0.0,356.0,0.0,0.0,1465.0,0.0,588.0,525.0,0.0,147.0,0.0,967.0,2.0,39.0,0.0,0.0,0.0,0.0,102.0,0.0,0.0,0.0,64.0,0.0,3.0,722.0,0.0,0.0,0.0,299.0,320.0,391.0,0.0,0.0,618.0,0.0,0.0,217.0,135.0,0.0,298.0,0.0,0.0,0.0,0.0,13995.0,668.0,1432.0,0.0,0.0,0.0,0.0,null,471.0,0.0,0.0,2234.0,0.0,0.0,559.0,45.0,3786.0,0.0,184.0,135.0,148.0,11.0,0.0,2718.0,0.0,0.0,0.0,568.0,3.0,46.0,0.0,162.0,232.0,1376.0,0.0,0.0,59.0,0.0,0.0,0.0,0.0,0.0,0.0,0.0,0.0,0.0,0.0,711.0,0.0,208.0,0.0,0.0,4.0,0.0,0.0,0.0,19.0,1972.0,2049.0,0.0,0.0,0.0,2.0,0.0,0.0,440.0,430.0,259.0,0.0,5.0,0.0,0.0,786.0,3.0,0.0,0.0,0.0,0.0,1.0,5.0,0.0,0.0,780.0,0.0,80.0,0.0,0.0,0.0,0.0,228.0,0.0,808.0,0.0,226.0,0.0,null,10.0,363.0,800.0,0.0,1239.0,0.0,0.0,0.0,0.0,0.0,0.0,null,3761.0,9.0,null,0.0,0.0,0.0,0.0,0.0,0.0,54.0,0.0,0.0,0.0,0.0,38.0,0.0,0.0,0.0,11.0,0.0,684.0,1159.0,0.0,11.0,0.0,0.0,0.0,177.0,168.0,5.0,0.0,0.0,5.0,0.0,0.0,1446.0,7.0,62.0,0.0,0.0,0.0,0.0,0.0,1.0,0.0,0.0,13.0,0.0,0.0,0.0,269.0,698.0,654.0,0.0,3238.0,616.0,null,0.0,0.0,29.0,0.0,0.0,0.0,0.0,0.0,2.0,360.0,795.0,6.0,0.0,0.0,0.0,0.0,0.0,0.0,0.0,null,4.0,660.0,0.0,0.0,0.0,0.0,0.0,0.0,2868.0,0.0,0.0,0.0,0.0,1107.0,0.0,0.0,128.0,0.0,0.0,0.0,0.0,0.0,207.0,28.0,0.0,0.0,0.0,0.0,0.0,0.0,24.0,11.0,0.0,0.0,0.0,0.0,0.0,0.0,0.0,208.0,0.0,0.0,50.0,2.0,1643.0,0.0,1.0,353.0,0.0],\"xaxis\":\"x\",\"yaxis\":\"y\",\"type\":\"histogram\"}],                        {\"template\":{\"data\":{\"histogram2dcontour\":[{\"type\":\"histogram2dcontour\",\"colorbar\":{\"outlinewidth\":0,\"ticks\":\"\"},\"colorscale\":[[0.0,\"#0d0887\"],[0.1111111111111111,\"#46039f\"],[0.2222222222222222,\"#7201a8\"],[0.3333333333333333,\"#9c179e\"],[0.4444444444444444,\"#bd3786\"],[0.5555555555555556,\"#d8576b\"],[0.6666666666666666,\"#ed7953\"],[0.7777777777777778,\"#fb9f3a\"],[0.8888888888888888,\"#fdca26\"],[1.0,\"#f0f921\"]]}],\"choropleth\":[{\"type\":\"choropleth\",\"colorbar\":{\"outlinewidth\":0,\"ticks\":\"\"}}],\"histogram2d\":[{\"type\":\"histogram2d\",\"colorbar\":{\"outlinewidth\":0,\"ticks\":\"\"},\"colorscale\":[[0.0,\"#0d0887\"],[0.1111111111111111,\"#46039f\"],[0.2222222222222222,\"#7201a8\"],[0.3333333333333333,\"#9c179e\"],[0.4444444444444444,\"#bd3786\"],[0.5555555555555556,\"#d8576b\"],[0.6666666666666666,\"#ed7953\"],[0.7777777777777778,\"#fb9f3a\"],[0.8888888888888888,\"#fdca26\"],[1.0,\"#f0f921\"]]}],\"heatmap\":[{\"type\":\"heatmap\",\"colorbar\":{\"outlinewidth\":0,\"ticks\":\"\"},\"colorscale\":[[0.0,\"#0d0887\"],[0.1111111111111111,\"#46039f\"],[0.2222222222222222,\"#7201a8\"],[0.3333333333333333,\"#9c179e\"],[0.4444444444444444,\"#bd3786\"],[0.5555555555555556,\"#d8576b\"],[0.6666666666666666,\"#ed7953\"],[0.7777777777777778,\"#fb9f3a\"],[0.8888888888888888,\"#fdca26\"],[1.0,\"#f0f921\"]]}],\"heatmapgl\":[{\"type\":\"heatmapgl\",\"colorbar\":{\"outlinewidth\":0,\"ticks\":\"\"},\"colorscale\":[[0.0,\"#0d0887\"],[0.1111111111111111,\"#46039f\"],[0.2222222222222222,\"#7201a8\"],[0.3333333333333333,\"#9c179e\"],[0.4444444444444444,\"#bd3786\"],[0.5555555555555556,\"#d8576b\"],[0.6666666666666666,\"#ed7953\"],[0.7777777777777778,\"#fb9f3a\"],[0.8888888888888888,\"#fdca26\"],[1.0,\"#f0f921\"]]}],\"contourcarpet\":[{\"type\":\"contourcarpet\",\"colorbar\":{\"outlinewidth\":0,\"ticks\":\"\"}}],\"contour\":[{\"type\":\"contour\",\"colorbar\":{\"outlinewidth\":0,\"ticks\":\"\"},\"colorscale\":[[0.0,\"#0d0887\"],[0.1111111111111111,\"#46039f\"],[0.2222222222222222,\"#7201a8\"],[0.3333333333333333,\"#9c179e\"],[0.4444444444444444,\"#bd3786\"],[0.5555555555555556,\"#d8576b\"],[0.6666666666666666,\"#ed7953\"],[0.7777777777777778,\"#fb9f3a\"],[0.8888888888888888,\"#fdca26\"],[1.0,\"#f0f921\"]]}],\"surface\":[{\"type\":\"surface\",\"colorbar\":{\"outlinewidth\":0,\"ticks\":\"\"},\"colorscale\":[[0.0,\"#0d0887\"],[0.1111111111111111,\"#46039f\"],[0.2222222222222222,\"#7201a8\"],[0.3333333333333333,\"#9c179e\"],[0.4444444444444444,\"#bd3786\"],[0.5555555555555556,\"#d8576b\"],[0.6666666666666666,\"#ed7953\"],[0.7777777777777778,\"#fb9f3a\"],[0.8888888888888888,\"#fdca26\"],[1.0,\"#f0f921\"]]}],\"mesh3d\":[{\"type\":\"mesh3d\",\"colorbar\":{\"outlinewidth\":0,\"ticks\":\"\"}}],\"scatter\":[{\"fillpattern\":{\"fillmode\":\"overlay\",\"size\":10,\"solidity\":0.2},\"type\":\"scatter\"}],\"parcoords\":[{\"type\":\"parcoords\",\"line\":{\"colorbar\":{\"outlinewidth\":0,\"ticks\":\"\"}}}],\"scatterpolargl\":[{\"type\":\"scatterpolargl\",\"marker\":{\"colorbar\":{\"outlinewidth\":0,\"ticks\":\"\"}}}],\"bar\":[{\"error_x\":{\"color\":\"#2a3f5f\"},\"error_y\":{\"color\":\"#2a3f5f\"},\"marker\":{\"line\":{\"color\":\"#E5ECF6\",\"width\":0.5},\"pattern\":{\"fillmode\":\"overlay\",\"size\":10,\"solidity\":0.2}},\"type\":\"bar\"}],\"scattergeo\":[{\"type\":\"scattergeo\",\"marker\":{\"colorbar\":{\"outlinewidth\":0,\"ticks\":\"\"}}}],\"scatterpolar\":[{\"type\":\"scatterpolar\",\"marker\":{\"colorbar\":{\"outlinewidth\":0,\"ticks\":\"\"}}}],\"histogram\":[{\"marker\":{\"pattern\":{\"fillmode\":\"overlay\",\"size\":10,\"solidity\":0.2}},\"type\":\"histogram\"}],\"scattergl\":[{\"type\":\"scattergl\",\"marker\":{\"colorbar\":{\"outlinewidth\":0,\"ticks\":\"\"}}}],\"scatter3d\":[{\"type\":\"scatter3d\",\"line\":{\"colorbar\":{\"outlinewidth\":0,\"ticks\":\"\"}},\"marker\":{\"colorbar\":{\"outlinewidth\":0,\"ticks\":\"\"}}}],\"scattermapbox\":[{\"type\":\"scattermapbox\",\"marker\":{\"colorbar\":{\"outlinewidth\":0,\"ticks\":\"\"}}}],\"scatterternary\":[{\"type\":\"scatterternary\",\"marker\":{\"colorbar\":{\"outlinewidth\":0,\"ticks\":\"\"}}}],\"scattercarpet\":[{\"type\":\"scattercarpet\",\"marker\":{\"colorbar\":{\"outlinewidth\":0,\"ticks\":\"\"}}}],\"carpet\":[{\"aaxis\":{\"endlinecolor\":\"#2a3f5f\",\"gridcolor\":\"white\",\"linecolor\":\"white\",\"minorgridcolor\":\"white\",\"startlinecolor\":\"#2a3f5f\"},\"baxis\":{\"endlinecolor\":\"#2a3f5f\",\"gridcolor\":\"white\",\"linecolor\":\"white\",\"minorgridcolor\":\"white\",\"startlinecolor\":\"#2a3f5f\"},\"type\":\"carpet\"}],\"table\":[{\"cells\":{\"fill\":{\"color\":\"#EBF0F8\"},\"line\":{\"color\":\"white\"}},\"header\":{\"fill\":{\"color\":\"#C8D4E3\"},\"line\":{\"color\":\"white\"}},\"type\":\"table\"}],\"barpolar\":[{\"marker\":{\"line\":{\"color\":\"#E5ECF6\",\"width\":0.5},\"pattern\":{\"fillmode\":\"overlay\",\"size\":10,\"solidity\":0.2}},\"type\":\"barpolar\"}],\"pie\":[{\"automargin\":true,\"type\":\"pie\"}]},\"layout\":{\"autotypenumbers\":\"strict\",\"colorway\":[\"#636efa\",\"#EF553B\",\"#00cc96\",\"#ab63fa\",\"#FFA15A\",\"#19d3f3\",\"#FF6692\",\"#B6E880\",\"#FF97FF\",\"#FECB52\"],\"font\":{\"color\":\"#2a3f5f\"},\"hovermode\":\"closest\",\"hoverlabel\":{\"align\":\"left\"},\"paper_bgcolor\":\"white\",\"plot_bgcolor\":\"#E5ECF6\",\"polar\":{\"bgcolor\":\"#E5ECF6\",\"angularaxis\":{\"gridcolor\":\"white\",\"linecolor\":\"white\",\"ticks\":\"\"},\"radialaxis\":{\"gridcolor\":\"white\",\"linecolor\":\"white\",\"ticks\":\"\"}},\"ternary\":{\"bgcolor\":\"#E5ECF6\",\"aaxis\":{\"gridcolor\":\"white\",\"linecolor\":\"white\",\"ticks\":\"\"},\"baxis\":{\"gridcolor\":\"white\",\"linecolor\":\"white\",\"ticks\":\"\"},\"caxis\":{\"gridcolor\":\"white\",\"linecolor\":\"white\",\"ticks\":\"\"}},\"coloraxis\":{\"colorbar\":{\"outlinewidth\":0,\"ticks\":\"\"}},\"colorscale\":{\"sequential\":[[0.0,\"#0d0887\"],[0.1111111111111111,\"#46039f\"],[0.2222222222222222,\"#7201a8\"],[0.3333333333333333,\"#9c179e\"],[0.4444444444444444,\"#bd3786\"],[0.5555555555555556,\"#d8576b\"],[0.6666666666666666,\"#ed7953\"],[0.7777777777777778,\"#fb9f3a\"],[0.8888888888888888,\"#fdca26\"],[1.0,\"#f0f921\"]],\"sequentialminus\":[[0.0,\"#0d0887\"],[0.1111111111111111,\"#46039f\"],[0.2222222222222222,\"#7201a8\"],[0.3333333333333333,\"#9c179e\"],[0.4444444444444444,\"#bd3786\"],[0.5555555555555556,\"#d8576b\"],[0.6666666666666666,\"#ed7953\"],[0.7777777777777778,\"#fb9f3a\"],[0.8888888888888888,\"#fdca26\"],[1.0,\"#f0f921\"]],\"diverging\":[[0,\"#8e0152\"],[0.1,\"#c51b7d\"],[0.2,\"#de77ae\"],[0.3,\"#f1b6da\"],[0.4,\"#fde0ef\"],[0.5,\"#f7f7f7\"],[0.6,\"#e6f5d0\"],[0.7,\"#b8e186\"],[0.8,\"#7fbc41\"],[0.9,\"#4d9221\"],[1,\"#276419\"]]},\"xaxis\":{\"gridcolor\":\"white\",\"linecolor\":\"white\",\"ticks\":\"\",\"title\":{\"standoff\":15},\"zerolinecolor\":\"white\",\"automargin\":true,\"zerolinewidth\":2},\"yaxis\":{\"gridcolor\":\"white\",\"linecolor\":\"white\",\"ticks\":\"\",\"title\":{\"standoff\":15},\"zerolinecolor\":\"white\",\"automargin\":true,\"zerolinewidth\":2},\"scene\":{\"xaxis\":{\"backgroundcolor\":\"#E5ECF6\",\"gridcolor\":\"white\",\"linecolor\":\"white\",\"showbackground\":true,\"ticks\":\"\",\"zerolinecolor\":\"white\",\"gridwidth\":2},\"yaxis\":{\"backgroundcolor\":\"#E5ECF6\",\"gridcolor\":\"white\",\"linecolor\":\"white\",\"showbackground\":true,\"ticks\":\"\",\"zerolinecolor\":\"white\",\"gridwidth\":2},\"zaxis\":{\"backgroundcolor\":\"#E5ECF6\",\"gridcolor\":\"white\",\"linecolor\":\"white\",\"showbackground\":true,\"ticks\":\"\",\"zerolinecolor\":\"white\",\"gridwidth\":2}},\"shapedefaults\":{\"line\":{\"color\":\"#2a3f5f\"}},\"annotationdefaults\":{\"arrowcolor\":\"#2a3f5f\",\"arrowhead\":0,\"arrowwidth\":1},\"geo\":{\"bgcolor\":\"white\",\"landcolor\":\"#E5ECF6\",\"subunitcolor\":\"white\",\"showland\":true,\"showlakes\":true,\"lakecolor\":\"white\"},\"title\":{\"x\":0.05},\"mapbox\":{\"style\":\"light\"}}},\"xaxis\":{\"anchor\":\"y\",\"domain\":[0.0,1.0],\"title\":{\"text\":\"Spa\"}},\"yaxis\":{\"anchor\":\"x\",\"domain\":[0.0,1.0],\"title\":{\"text\":\"Frequency\"}},\"legend\":{\"tracegroupgap\":0},\"margin\":{\"t\":60},\"barmode\":\"relative\",\"title\":{\"text\":\"Histogram of Spa\"}},                        {\"responsive\": true}                    ).then(function(){\n",
       "                            \n",
       "var gd = document.getElementById('4d520c0a-34d0-4a5f-8456-de5b1f0f9080');\n",
       "var x = new MutationObserver(function (mutations, observer) {{\n",
       "        var display = window.getComputedStyle(gd).display;\n",
       "        if (!display || display === 'none') {{\n",
       "            console.log([gd, 'removed!']);\n",
       "            Plotly.purge(gd);\n",
       "            observer.disconnect();\n",
       "        }}\n",
       "}});\n",
       "\n",
       "// Listen for the removal of the full notebook cells\n",
       "var notebookContainer = gd.closest('#notebook-container');\n",
       "if (notebookContainer) {{\n",
       "    x.observe(notebookContainer, {childList: true});\n",
       "}}\n",
       "\n",
       "// Listen for the clearing of the current output cell\n",
       "var outputEl = gd.closest('.output');\n",
       "if (outputEl) {{\n",
       "    x.observe(outputEl, {childList: true});\n",
       "}}\n",
       "\n",
       "                        })                };                            </script>        </div>\n",
       "</body>\n",
       "</html>"
      ]
     },
     "metadata": {},
     "output_type": "display_data"
    },
    {
     "data": {
      "text/html": [
       "<html>\n",
       "<head><meta charset=\"utf-8\" /></head>\n",
       "<body>\n",
       "    <div>            <script src=\"https://cdnjs.cloudflare.com/ajax/libs/mathjax/2.7.5/MathJax.js?config=TeX-AMS-MML_SVG\"></script><script type=\"text/javascript\">if (window.MathJax && window.MathJax.Hub && window.MathJax.Hub.Config) {window.MathJax.Hub.Config({SVG: {font: \"STIX-Web\"}});}</script>                <script type=\"text/javascript\">window.PlotlyConfig = {MathJaxConfig: 'local'};</script>\n",
       "        <script charset=\"utf-8\" src=\"https://cdn.plot.ly/plotly-2.35.2.min.js\"></script>                <div id=\"ef8bed63-46c7-4d39-a716-4805d7bb8d79\" class=\"plotly-graph-div\" style=\"height:525px; width:100%;\"></div>            <script type=\"text/javascript\">                                    window.PLOTLYENV=window.PLOTLYENV || {};                                    if (document.getElementById(\"ef8bed63-46c7-4d39-a716-4805d7bb8d79\")) {                    Plotly.newPlot(                        \"ef8bed63-46c7-4d39-a716-4805d7bb8d79\",                        [{\"alignmentgroup\":\"True\",\"bingroup\":\"x\",\"hovertemplate\":\"VRDeck=%{x}\\u003cbr\\u003ecount=%{y}\\u003cextra\\u003e\\u003c\\u002fextra\\u003e\",\"legendgroup\":\"\",\"marker\":{\"color\":\"#636efa\",\"pattern\":{\"shape\":\"\"}},\"name\":\"\",\"nbinsx\":30,\"offsetgroup\":\"\",\"orientation\":\"v\",\"showlegend\":false,\"x\":[0.0,44.0,49.0,193.0,2.0,0.0,0.0,null,0.0,0.0,0.0,124.0,113.0,24.0,7.0,0.0,0.0,637.0,0.0,0.0,679.0,0.0,0.0,0.0,0.0,0.0,0.0,0.0,0.0,0.0,328.0,0.0,453.0,1229.0,0.0,0.0,0.0,0.0,401.0,0.0,0.0,0.0,855.0,0.0,0.0,0.0,64.0,0.0,0.0,127.0,0.0,1.0,0.0,0.0,3.0,0.0,1.0,25.0,0.0,0.0,460.0,0.0,0.0,24.0,0.0,0.0,726.0,52.0,1063.0,12.0,506.0,0.0,0.0,9654.0,0.0,0.0,0.0,0.0,17.0,0.0,513.0,0.0,0.0,0.0,0.0,34.0,0.0,0.0,637.0,0.0,87.0,0.0,0.0,0.0,91.0,17.0,0.0,0.0,131.0,0.0,0.0,0.0,0.0,764.0,1687.0,445.0,0.0,0.0,13.0,0.0,1.0,null,404.0,6898.0,0.0,null,74.0,1.0,0.0,25.0,2.0,0.0,0.0,0.0,0.0,0.0,55.0,0.0,207.0,0.0,0.0,462.0,0.0,0.0,0.0,0.0,76.0,0.0,0.0,607.0,61.0,0.0,0.0,135.0,0.0,0.0,0.0,137.0,0.0,567.0,0.0,0.0,0.0,175.0,2111.0,119.0,11.0,0.0,0.0,92.0,0.0,232.0,956.0,0.0,98.0,0.0,0.0,0.0,0.0,0.0,0.0,0.0,0.0,7.0,575.0,0.0,0.0,0.0,0.0,0.0,0.0,443.0,0.0,705.0,122.0,0.0,0.0,0.0,0.0,0.0,739.0,387.0,146.0,1918.0,0.0,0.0,0.0,0.0,0.0,0.0,1099.0,0.0,0.0,0.0,0.0,0.0,0.0,1023.0,0.0,0.0,0.0,0.0,0.0,9.0,0.0,0.0,79.0,0.0,0.0,0.0,0.0,0.0,319.0,0.0,1116.0,0.0,0.0,0.0,0.0,7.0,10912.0,0.0,1063.0,0.0,0.0,0.0,1.0,6.0,0.0,0.0,0.0,92.0,2054.0,803.0,0.0,0.0,1.0,0.0,1240.0,0.0,0.0,null,333.0,0.0,0.0,0.0,2.0,0.0,0.0,13.0,0.0,1460.0,828.0,0.0,262.0,0.0,0.0,0.0,0.0,0.0,0.0,0.0,0.0,1370.0,0.0,5166.0,2469.0,101.0,0.0,0.0,241.0,4.0,0.0,0.0,0.0,1330.0,0.0,0.0,null,0.0,null,0.0,0.0,0.0,0.0,2.0,0.0,202.0,1260.0,552.0,0.0,0.0,0.0,0.0,1057.0,0.0,0.0,0.0,0.0,907.0,0.0,0.0,0.0,0.0,0.0,0.0,0.0,0.0,0.0,572.0,0.0,0.0,88.0,112.0,417.0,21.0,4.0,0.0,58.0,1023.0,0.0,0.0,0.0,230.0,0.0,8188.0,697.0,0.0,2175.0,0.0,0.0,1059.0,0.0,164.0,0.0,0.0,0.0,368.0,140.0,0.0,0.0,0.0,128.0,0.0,0.0,0.0,987.0,0.0,5688.0,1.0,0.0,0.0,3.0,0.0,0.0,0.0,2.0,7.0,1699.0,223.0,0.0,0.0,0.0,0.0,0.0,0.0,60.0,0.0,0.0,1241.0,0.0,57.0,1.0,0.0,0.0,792.0,3139.0,225.0,0.0,0.0,0.0,0.0,0.0,3656.0,0.0,0.0,0.0,0.0,0.0,0.0,0.0,56.0,0.0,0.0,0.0,0.0,799.0,715.0,0.0,0.0,0.0,0.0,0.0,0.0,0.0,0.0,0.0,5.0,0.0,0.0,73.0,0.0,0.0,0.0,0.0,2.0,0.0,0.0,20.0,0.0,0.0,35.0,0.0,428.0,4.0,1.0,0.0,null,0.0,170.0,4.0,299.0,0.0,943.0,0.0,0.0,0.0,0.0,275.0,0.0,665.0,615.0,55.0,246.0,0.0,0.0,0.0,0.0,0.0,0.0,0.0,481.0,0.0,0.0,0.0,0.0,0.0,0.0,0.0,752.0,0.0,0.0,0.0,0.0,0.0,122.0,0.0,0.0,0.0,2376.0,73.0,0.0,0.0,null,null,156.0,6.0,0.0,4.0,0.0,6595.0,0.0,0.0,0.0,0.0,1902.0,25.0,352.0,5.0,0.0,0.0,0.0,0.0,4987.0,0.0,16.0,878.0,0.0,0.0,3.0,1.0,1.0,0.0,0.0,12.0,0.0,0.0,0.0,0.0,0.0,19.0,79.0,0.0,0.0,0.0,0.0,0.0,0.0,0.0,3695.0,0.0,0.0,0.0,4.0,null,0.0,872.0,0.0,0.0,0.0,null,0.0,1568.0,0.0,0.0,null,0.0,0.0,0.0,0.0,0.0,0.0,4.0,0.0,0.0,0.0,0.0,0.0,0.0,0.0,0.0,1042.0,0.0,1.0,973.0,0.0,2005.0,0.0,113.0,null,0.0,0.0,null,0.0,0.0,6.0,0.0,793.0,0.0,0.0,0.0,747.0,9568.0,892.0,null,0.0,109.0,5.0,0.0,0.0,0.0,0.0,0.0,0.0,0.0,388.0,0.0,0.0,0.0,1.0,0.0,0.0,0.0,0.0,383.0,0.0,319.0,359.0,0.0,0.0,0.0,null,19.0,972.0,575.0,2.0,0.0,0.0,0.0,0.0,0.0,0.0,0.0,0.0,0.0,0.0,0.0,0.0,3.0,0.0,0.0,null,0.0,0.0,722.0,39.0,5689.0,0.0,0.0,482.0,403.0,0.0,740.0,0.0,0.0,0.0,0.0,0.0,0.0,0.0,0.0,0.0,0.0,0.0,0.0,15.0,0.0,0.0,213.0,3.0,0.0,0.0,0.0,0.0,0.0,0.0,38.0,0.0,0.0,0.0,5.0,0.0,54.0,0.0,0.0,0.0,0.0,15.0,0.0,0.0,349.0,0.0,0.0,0.0,0.0,0.0,0.0,0.0,0.0,0.0,0.0,0.0,1.0,0.0,2566.0,0.0,354.0,594.0,0.0,0.0,561.0,517.0,0.0,null,0.0,1166.0,0.0,58.0,0.0,0.0,493.0,0.0,8.0,0.0,null,0.0,0.0,0.0,151.0,67.0,0.0,0.0,0.0,0.0,187.0,17306.0,0.0,0.0,0.0,0.0,0.0,0.0,0.0,0.0,0.0,1359.0,0.0,0.0,0.0,0.0,18.0,0.0,11.0,467.0,0.0,0.0,1.0,0.0,null,0.0,342.0,3497.0,0.0,0.0,0.0,766.0,0.0,0.0,0.0,0.0,645.0,0.0,4.0,0.0,1.0,1171.0,0.0,10.0,null,0.0,0.0,0.0,833.0,0.0,0.0,0.0,0.0,438.0,0.0,0.0,0.0,3.0,0.0,161.0,0.0,0.0,0.0,0.0,0.0,0.0,26.0,0.0,0.0,0.0,27.0,166.0,0.0,5152.0,2.0,1300.0,0.0,0.0,0.0,0.0,0.0,0.0,12.0,0.0,0.0,427.0,0.0,0.0,0.0,0.0,0.0,0.0,0.0,0.0,0.0,31.0,92.0,0.0,0.0,0.0,0.0,0.0,4.0,26.0,0.0,0.0,0.0,0.0,52.0,0.0,0.0,0.0,1.0,0.0,0.0,0.0,0.0,1043.0,19.0,0.0,28.0,634.0,0.0,4.0,0.0,450.0,34.0,3.0,1406.0,289.0,0.0,null,1226.0,2453.0,0.0,0.0,0.0,0.0,0.0,25.0,81.0,22.0,0.0,260.0,0.0,491.0,0.0,0.0,1070.0,872.0,0.0,0.0,0.0,0.0,13.0,0.0,0.0,0.0,0.0,188.0,201.0,0.0,0.0,0.0,359.0,0.0,0.0,0.0,788.0,0.0,null,0.0,0.0,0.0,0.0,0.0,0.0,0.0,6.0,0.0,0.0,0.0,0.0,0.0,0.0,0.0,873.0,0.0,319.0,0.0,1088.0,0.0,0.0,0.0,704.0,478.0,0.0,149.0,0.0,96.0,0.0,135.0,1341.0,0.0,1436.0,0.0,91.0,0.0,0.0,135.0,0.0,2.0,35.0,0.0,0.0,0.0,3.0,0.0,0.0,773.0,791.0,0.0,0.0,0.0,0.0,0.0,0.0,0.0,0.0,0.0,0.0,0.0,0.0,0.0,0.0,0.0,0.0,0.0,209.0,0.0,0.0,0.0,0.0,0.0,9.0,0.0,0.0,7.0,99.0,0.0,0.0,213.0,39.0,0.0,0.0,0.0,0.0,0.0,0.0,10896.0,null,0.0,0.0,0.0,0.0,null,0.0,376.0,96.0,0.0,0.0,0.0,677.0,689.0,149.0,1374.0,0.0,0.0,0.0,0.0,60.0,0.0,0.0,0.0,455.0,0.0,null,0.0,0.0,0.0,0.0,6.0,843.0,0.0,0.0,null,0.0,0.0,0.0,0.0,0.0,794.0,0.0,0.0,365.0,0.0,488.0,0.0,0.0,0.0,0.0,0.0,130.0,781.0,515.0,100.0,0.0,7516.0,754.0,100.0,719.0,0.0,0.0,0.0,0.0,98.0,0.0,0.0,0.0,9010.0,0.0,3.0,0.0,17.0,0.0,0.0,0.0,67.0,756.0,0.0,0.0,0.0,908.0,0.0,30.0,null,1304.0,0.0,0.0,1213.0,1933.0,61.0,0.0,0.0,1693.0,0.0,0.0,0.0,0.0,0.0,0.0,4.0,0.0,0.0,0.0,0.0,16.0,0.0,67.0,0.0,461.0,687.0,694.0,7.0,2587.0,67.0,0.0,0.0,1920.0,0.0,653.0,0.0,512.0,0.0,0.0,0.0,0.0,0.0,0.0,0.0,0.0,7.0,0.0,0.0,0.0,0.0,0.0,113.0,0.0,44.0,0.0,0.0,61.0,8.0,1583.0,0.0,0.0,0.0,0.0,1388.0,0.0,235.0,6381.0,0.0,200.0,0.0,5.0,0.0,0.0,0.0,0.0,10.0,0.0,0.0,0.0,4.0,0.0,0.0,0.0,7.0,810.0,0.0,1.0,132.0,0.0,1.0,0.0,0.0,2.0,229.0,0.0,0.0,661.0,0.0,0.0,0.0,0.0,356.0,0.0,105.0,28.0,223.0,1281.0,0.0,0.0,0.0,567.0,47.0,0.0,0.0,0.0,9.0,4987.0,142.0,0.0,2313.0,5.0,945.0,0.0,1.0,0.0,0.0,173.0,0.0,0.0,0.0,0.0,0.0,0.0,0.0,0.0,0.0,0.0,0.0,43.0,0.0,null,19.0,0.0,3146.0,13.0,584.0,0.0,0.0,0.0,0.0,0.0,13.0,256.0,0.0,0.0,0.0,0.0,0.0,0.0,514.0,0.0,0.0,0.0,2519.0,6.0,0.0,671.0,53.0,0.0,0.0,623.0,0.0,0.0,89.0,67.0,0.0,0.0,0.0,0.0,0.0,0.0,336.0,0.0,1147.0,0.0,0.0,0.0,7.0,0.0,0.0,26.0,0.0,0.0,4.0,0.0,761.0,0.0,0.0,2969.0,0.0,0.0,72.0,0.0,0.0,0.0,0.0,0.0,723.0,null,0.0,0.0,539.0,0.0,0.0,2.0,150.0,0.0,0.0,0.0,0.0,0.0,0.0,0.0,0.0,144.0,0.0,78.0,4.0,3604.0,0.0,55.0,0.0,5.0,0.0,368.0,86.0,0.0,0.0,0.0,0.0,0.0,0.0,0.0,0.0,351.0,1853.0,19.0,0.0,0.0,46.0,60.0,0.0,152.0,0.0,0.0,0.0,3471.0,13.0,0.0,0.0,0.0,0.0,122.0,832.0,0.0,1916.0,32.0,0.0,3358.0,0.0,0.0,820.0,5.0,0.0,0.0,0.0,0.0,1779.0,0.0,0.0,0.0,57.0,0.0,0.0,0.0,0.0,2.0,0.0,8.0,965.0,0.0,null,0.0,0.0,659.0,191.0,0.0,47.0,649.0,0.0,0.0,912.0,0.0,755.0,0.0,112.0,2485.0,0.0,3384.0,0.0,1462.0,6.0,0.0,3404.0,5.0,72.0,0.0,698.0,0.0,504.0,330.0,0.0,0.0,0.0,0.0,0.0,0.0,1.0,248.0,26.0,0.0,2372.0,701.0,0.0,0.0,0.0,0.0,null,2.0,null,8.0,706.0,0.0,713.0,153.0,1061.0,0.0,0.0,55.0,0.0,376.0,0.0,0.0,0.0,0.0,0.0,0.0,0.0,0.0,4.0,0.0,0.0,0.0,329.0,0.0,27.0,1.0,0.0,0.0,0.0,0.0,0.0,0.0,0.0,521.0,0.0,0.0,0.0,282.0,0.0,0.0,11378.0,1.0,0.0,5.0,2114.0,553.0,0.0,0.0,0.0,0.0,800.0,523.0,0.0,0.0,0.0,4030.0,235.0,1460.0,0.0,0.0,1.0,837.0,1122.0,0.0,0.0,766.0,0.0,0.0,0.0,0.0,0.0,0.0,162.0,16.0,0.0,783.0,0.0,714.0,424.0,0.0,0.0,0.0,0.0,0.0,0.0,0.0,7.0,2439.0,341.0,196.0,0.0,923.0,36.0,0.0,null,0.0,0.0,0.0,55.0,119.0,0.0,0.0,161.0,22.0,0.0,44.0,341.0,0.0,42.0,0.0,0.0,0.0,0.0,0.0,0.0,8.0,341.0,0.0,0.0,0.0,null,0.0,98.0,1.0,0.0,0.0,0.0,5.0,362.0,0.0,null,0.0,0.0,1134.0,25.0,0.0,0.0,2.0,794.0,0.0,0.0,2.0,0.0,0.0,0.0,0.0,0.0,2.0,5.0,0.0,null,5321.0,0.0,718.0,0.0,0.0,178.0,0.0,null,0.0,0.0,86.0,536.0,0.0,0.0,0.0,1442.0,0.0,64.0,0.0,16.0,0.0,0.0,null,0.0,0.0,264.0,0.0,0.0,44.0,0.0,0.0,0.0,754.0,0.0,0.0,256.0,427.0,0.0,0.0,68.0,0.0,622.0,3.0,0.0,0.0,1290.0,47.0,0.0,1.0,8.0,0.0,1241.0,0.0,0.0,0.0,0.0,24.0,0.0,0.0,0.0,0.0,1679.0,0.0,0.0,640.0,0.0,31.0,603.0,0.0,0.0,243.0,0.0,795.0,0.0,0.0,0.0,0.0,0.0,null,0.0,0.0,0.0,0.0,6064.0,0.0,0.0,807.0,0.0,0.0,0.0,308.0,0.0,0.0,26.0,3.0,4.0,1.0,0.0,253.0,0.0,0.0,0.0,1333.0,0.0,1168.0,42.0,0.0,0.0,0.0,0.0,0.0,0.0,0.0,14.0,0.0,0.0,11.0,12.0,0.0,0.0,591.0,0.0,0.0,638.0,0.0,0.0,0.0,105.0,180.0,0.0,0.0,0.0,0.0,0.0,1.0,0.0,0.0,0.0,0.0,4045.0,30.0,0.0,0.0,0.0,57.0,263.0,52.0,23.0,443.0,0.0,19.0,0.0,9.0,0.0,427.0,254.0,null,295.0,19.0,1572.0,0.0,1955.0,null,521.0,0.0,0.0,0.0,194.0,1381.0,0.0,0.0,16.0,123.0,663.0,0.0,0.0,25.0,0.0,771.0,0.0,85.0,0.0,0.0,0.0,3156.0,318.0,0.0,133.0,0.0,null,0.0,0.0,0.0,null,1115.0,0.0,865.0,0.0,52.0,0.0,0.0,0.0,1479.0,3.0,0.0,1009.0,9.0,0.0,15.0,0.0,0.0,0.0,0.0,29.0,702.0,0.0,0.0,0.0,731.0,1107.0,44.0,5063.0,0.0,0.0,0.0,0.0,0.0,0.0,0.0,1225.0,0.0,247.0,0.0,90.0,704.0,0.0,1514.0,0.0,0.0,0.0,2.0,0.0,872.0,0.0,0.0,0.0,284.0,388.0,0.0,0.0,0.0,0.0,117.0,0.0,0.0,0.0,0.0,null,0.0,0.0,7.0,1357.0,0.0,717.0,0.0,74.0,0.0,0.0,3822.0,260.0,0.0,0.0,613.0,160.0,0.0,0.0,17.0,3377.0,0.0,0.0,2293.0,0.0,0.0,18.0,761.0,2.0,473.0,0.0,1.0,0.0,0.0,0.0,0.0,0.0,0.0,0.0,0.0,0.0,198.0,173.0,6.0,0.0,0.0,138.0,1.0,0.0,0.0,5.0,26.0,0.0,0.0,0.0,157.0,40.0,719.0,5.0,0.0,0.0,1.0,0.0,0.0,0.0,null,null,5416.0,804.0,671.0,2.0,7619.0,0.0,0.0,0.0,0.0,0.0,287.0,6.0,9.0,0.0,0.0,0.0,2.0,0.0,0.0,0.0,19.0,0.0,23.0,null,0.0,22.0,1.0,4724.0,1119.0,0.0,642.0,0.0,0.0,0.0,0.0,0.0,149.0,13.0,0.0,907.0,423.0,327.0,0.0,0.0,1963.0,0.0,0.0,2713.0,0.0,163.0,650.0,448.0,729.0,16.0,343.0,61.0,0.0,769.0,506.0,6007.0,0.0,99.0,397.0,556.0,1.0,0.0,509.0,549.0,12.0,0.0,1.0,0.0,0.0,0.0,0.0,0.0,1344.0,0.0,0.0,0.0,0.0,5.0,4538.0,23.0,0.0,0.0,1.0,0.0,0.0,1.0,0.0,0.0,0.0,0.0,267.0,0.0,0.0,0.0,0.0,0.0,0.0,826.0,0.0,0.0,185.0,0.0,176.0,900.0,0.0,0.0,3.0,0.0,0.0,28.0,0.0,0.0,0.0,0.0,0.0,0.0,0.0,0.0,0.0,0.0,0.0,0.0,105.0,7.0,0.0,0.0,0.0,null,0.0,2.0,0.0,0.0,0.0,0.0,0.0,22.0,0.0,null,0.0,13.0,0.0,68.0,0.0,0.0,0.0,0.0,281.0,247.0,1254.0,251.0,0.0,0.0,0.0,63.0,0.0,76.0,0.0,70.0,0.0,5.0,1440.0,0.0,0.0,283.0,68.0,0.0,null,0.0,0.0,0.0,0.0,72.0,0.0,0.0,0.0,0.0,0.0,6.0,198.0,0.0,72.0,0.0,2.0,0.0,570.0,0.0,0.0,0.0,154.0,0.0,3.0,0.0,878.0,0.0,0.0,0.0,null,null,0.0,0.0,0.0,99.0,0.0,0.0,0.0,1.0,121.0,85.0,1153.0,960.0,0.0,1.0,0.0,0.0,0.0,654.0,0.0,0.0,0.0,0.0,0.0,868.0,475.0,0.0,0.0,0.0,0.0,0.0,0.0,0.0,778.0,0.0,0.0,0.0,0.0,0.0,3970.0,11643.0,0.0,378.0,0.0,null,0.0,0.0,0.0,277.0,568.0,1769.0,258.0,0.0,5.0,62.0,8195.0,3768.0,0.0,0.0,0.0,34.0,0.0,0.0,0.0,0.0,2924.0,0.0,0.0,0.0,0.0,168.0,4.0,6.0,0.0,0.0,0.0,11.0,0.0,84.0,0.0,0.0,0.0,0.0,0.0,0.0,5.0,0.0,23.0,0.0,0.0,2.0,0.0,0.0,0.0,0.0,3782.0,0.0,0.0,0.0,0.0,0.0,0.0,0.0,0.0,0.0,0.0,0.0,0.0,0.0,1239.0,185.0,0.0,0.0,0.0,0.0,0.0,0.0,0.0,0.0,0.0,462.0,33.0,0.0,0.0,0.0,108.0,40.0,96.0,0.0,0.0,673.0,0.0,0.0,0.0,0.0,0.0,0.0,0.0,0.0,0.0,0.0,3.0,490.0,0.0,4120.0,0.0,0.0,null,781.0,0.0,0.0,5.0,0.0,0.0,0.0,0.0,1561.0,0.0,1171.0,0.0,0.0,3.0,0.0,0.0,0.0,0.0,0.0,2447.0,729.0,9.0,0.0,0.0,0.0,0.0,0.0,0.0,0.0,606.0,208.0,0.0,0.0,2757.0,40.0,0.0,0.0,372.0,0.0,0.0,54.0,69.0,94.0,0.0,0.0,0.0,0.0,null,0.0,644.0,275.0,0.0,0.0,0.0,0.0,0.0,0.0,0.0,0.0,11.0,0.0,null,364.0,0.0,0.0,3643.0,1264.0,0.0,0.0,0.0,0.0,17.0,0.0,1.0,621.0,500.0,0.0,1391.0,0.0,0.0,619.0,0.0,0.0,418.0,3.0,0.0,0.0,2.0,238.0,5.0,0.0,803.0,0.0,0.0,0.0,0.0,4513.0,0.0,0.0,5872.0,0.0,506.0,0.0,0.0,0.0,1135.0,0.0,0.0,0.0,0.0,0.0,0.0,0.0,0.0,0.0,0.0,0.0,1425.0,0.0,0.0,349.0,582.0,1257.0,41.0,0.0,43.0,0.0,77.0,1462.0,1514.0,0.0,12.0,0.0,0.0,0.0,324.0,0.0,null,0.0,0.0,0.0,0.0,0.0,0.0,0.0,0.0,0.0,39.0,0.0,0.0,0.0,1.0,0.0,0.0,10.0,0.0,624.0,74.0,0.0,0.0,0.0,478.0,195.0,0.0,254.0,733.0,0.0,0.0,0.0,0.0,0.0,99.0,2272.0,0.0,0.0,0.0,0.0,7.0,128.0,0.0,0.0,62.0,0.0,0.0,0.0,4.0,0.0,0.0,0.0,0.0,687.0,1318.0,0.0,0.0,0.0,0.0,0.0,0.0,1.0,null,0.0,0.0,533.0,0.0,0.0,218.0,0.0,0.0,0.0,0.0,null,0.0,1348.0,5.0,1.0,0.0,67.0,693.0,0.0,null,null,null,null,0.0,1051.0,0.0,793.0,0.0,1334.0,2564.0,0.0,2153.0,0.0,7041.0,68.0,0.0,677.0,0.0,0.0,32.0,0.0,1.0,0.0,0.0,1215.0,3.0,0.0,0.0,811.0,0.0,0.0,0.0,0.0,236.0,0.0,708.0,86.0,1435.0,0.0,669.0,0.0,0.0,0.0,0.0,1515.0,21.0,0.0,591.0,0.0,0.0,695.0,1393.0,1895.0,2024.0,0.0,0.0,0.0,1751.0,530.0,0.0,0.0,10.0,0.0,0.0,510.0,0.0,12.0,0.0,0.0,0.0,0.0,0.0,0.0,12.0,554.0,0.0,985.0,0.0,0.0,4.0,0.0,0.0,914.0,0.0,0.0,0.0,0.0,63.0,0.0,0.0,132.0,0.0,0.0,0.0,0.0,0.0,1257.0,2618.0,0.0,0.0,107.0,692.0,11.0,0.0,0.0,0.0,0.0,11.0,0.0,0.0,0.0,0.0,907.0,0.0,0.0,0.0,0.0,810.0,0.0,0.0,0.0,0.0,0.0,12.0,1209.0,0.0,0.0,0.0,0.0,null,0.0,0.0,0.0,697.0,0.0,551.0,0.0,0.0,0.0,0.0,0.0,155.0,8.0,0.0,493.0,1.0,0.0,0.0,0.0,51.0,731.0,0.0,266.0,0.0,1.0,0.0,671.0,0.0,1345.0,3030.0,0.0,0.0,0.0,3657.0,122.0,0.0,0.0,820.0,0.0,0.0,0.0,0.0,871.0,0.0,0.0,0.0,12.0,0.0,0.0,0.0,470.0,0.0,0.0,0.0,null,0.0,0.0,0.0,0.0,0.0,0.0,3051.0,2473.0,1479.0,55.0,514.0,1295.0,5058.0,1919.0,0.0,0.0,20.0,0.0,0.0,0.0,0.0,0.0,809.0,4168.0,0.0,0.0,0.0,0.0,0.0,0.0,0.0,0.0,801.0,81.0,0.0,0.0,0.0,0.0,0.0,1.0,0.0,0.0,337.0,0.0,0.0,23.0,0.0,9.0,0.0,0.0,0.0,0.0,0.0,3.0,0.0,3447.0,0.0,1.0,0.0,0.0,0.0,0.0,0.0,19.0,1.0,556.0,0.0,0.0,681.0,707.0,0.0,0.0,574.0,5.0,0.0,143.0,0.0,0.0,0.0,1042.0,261.0,0.0,0.0,0.0,0.0,0.0,0.0,0.0,1618.0,0.0,0.0,0.0,16.0,0.0,543.0,388.0,0.0,0.0,0.0,510.0,0.0,0.0,0.0,0.0,0.0,0.0,1050.0,0.0,5.0,0.0,316.0,1689.0,1204.0,0.0,0.0,0.0,0.0,636.0,3.0,84.0,0.0,516.0,1.0,3.0,190.0,10.0,0.0,0.0,810.0,0.0,1370.0,4941.0,0.0,528.0,706.0,603.0,0.0,0.0,22.0,300.0,1.0,4359.0,29.0,0.0,0.0,0.0,0.0,732.0,0.0,83.0,0.0,409.0,6237.0,74.0,0.0,64.0,3372.0,4.0,1637.0,3510.0,312.0,0.0,0.0,9.0,44.0,0.0,0.0,1784.0,0.0,1804.0,0.0,0.0,0.0,0.0,283.0,513.0,0.0,0.0,0.0,0.0,0.0,437.0,0.0,0.0,0.0,0.0,0.0,276.0,810.0,5.0,0.0,0.0,0.0,0.0,0.0,72.0,36.0,0.0,0.0,254.0,0.0,1.0,0.0,0.0,0.0,0.0,0.0,6023.0,0.0,0.0,0.0,2.0,1.0,0.0,0.0,1014.0,0.0,556.0,0.0,0.0,31.0,384.0,0.0,700.0,0.0,0.0,188.0,0.0,0.0,0.0,0.0,0.0,7979.0,0.0,0.0,0.0,0.0,0.0,0.0,0.0,0.0,21.0,23.0,0.0,0.0,0.0,0.0,0.0,0.0,0.0,0.0,0.0,1140.0,0.0,312.0,0.0,0.0,0.0,0.0,0.0,0.0,1437.0,0.0,1681.0,0.0,16.0,0.0,null,0.0,0.0,null,0.0,0.0,1196.0,0.0,4240.0,0.0,2409.0,0.0,0.0,66.0,0.0,0.0,0.0,3.0,0.0,0.0,0.0,0.0,0.0,1464.0,0.0,336.0,0.0,0.0,0.0,0.0,1191.0,0.0,0.0,0.0,0.0,0.0,0.0,0.0,356.0,0.0,0.0,0.0,0.0,0.0,0.0,773.0,398.0,0.0,1457.0,196.0,469.0,0.0,0.0,0.0,3219.0,266.0,1229.0,2.0,144.0,0.0,0.0,0.0,0.0,0.0,0.0,0.0,0.0,1.0,0.0,0.0,0.0,0.0,0.0,37.0,0.0,0.0,341.0,0.0,0.0,0.0,0.0,71.0,0.0,77.0,5.0,0.0,0.0,0.0,0.0,0.0,7.0,0.0,null,0.0,0.0,2049.0,20.0,85.0,0.0,0.0,0.0,0.0,0.0,0.0,0.0,1937.0,243.0,0.0,0.0,0.0,0.0,0.0,0.0,0.0,159.0,0.0,483.0,0.0,0.0,0.0,0.0,0.0,8.0,0.0,0.0,150.0,1.0,6.0,138.0,0.0,0.0,0.0,0.0,0.0,0.0,0.0,0.0,299.0,0.0,0.0,0.0,311.0,0.0,0.0,2.0,0.0,0.0,0.0,0.0,0.0,132.0,0.0,0.0,0.0,0.0,0.0,0.0,0.0,0.0,50.0,0.0,226.0,9.0,0.0,8.0,2031.0,1765.0,401.0,0.0,0.0,0.0,0.0,26.0,0.0,0.0,0.0,0.0,0.0,0.0,4.0,772.0,323.0,0.0,102.0,50.0,0.0,0.0,0.0,0.0,0.0,142.0,226.0,0.0,0.0,0.0,0.0,0.0,0.0,0.0,0.0,59.0,0.0,6111.0,201.0,3460.0,605.0,0.0,2.0,488.0,0.0,0.0,0.0,0.0,1022.0,0.0,0.0,1467.0,0.0,0.0,1.0,0.0,0.0,null,0.0,1.0,0.0,0.0,205.0,843.0,0.0,0.0,0.0,0.0,null,0.0,636.0,0.0,0.0,0.0,0.0,4.0,0.0,0.0,28.0,null,0.0,0.0,0.0,0.0,0.0,0.0,7.0,1984.0,0.0,595.0,null,15.0,0.0,0.0,0.0,0.0,0.0,0.0,0.0,0.0,null,0.0,0.0,0.0,0.0,478.0,333.0,0.0,3875.0,0.0,0.0,8.0,119.0,0.0,373.0,0.0,0.0,0.0,0.0,0.0,0.0,3291.0,943.0,0.0,116.0,29.0,0.0,0.0,null,0.0,0.0,0.0,1.0,904.0,466.0,558.0,0.0,0.0,0.0,0.0,0.0,0.0,77.0,0.0,93.0,0.0,229.0,0.0,0.0,0.0,0.0,0.0,490.0,0.0,1790.0,0.0,0.0,0.0,6569.0,178.0,0.0,0.0,0.0,341.0,0.0,0.0,13.0,0.0,0.0,1655.0,0.0,0.0,5.0,3069.0,0.0,1.0,0.0,0.0,0.0,37.0,607.0,0.0,80.0,587.0,0.0,0.0,0.0,1.0,0.0,20.0,0.0,0.0,0.0,0.0,0.0,0.0,1014.0,0.0,465.0,0.0,0.0,0.0,1.0,0.0,0.0,212.0,0.0,0.0,0.0,0.0,0.0,0.0,null,0.0,0.0,0.0,0.0,566.0,0.0,0.0,0.0,715.0,376.0,0.0,0.0,139.0,0.0,0.0,null,0.0,5.0,0.0,0.0,0.0,436.0,0.0,2054.0,26.0,0.0,0.0,0.0,55.0,0.0,0.0,0.0,548.0,1.0,0.0,0.0,0.0,0.0,340.0,0.0,0.0,0.0,0.0,1062.0,1267.0,0.0,0.0,2260.0,0.0,3.0,29.0,0.0,0.0,1609.0,30.0,0.0,0.0,0.0,0.0,0.0,14.0,0.0,0.0,0.0,0.0,0.0,0.0,0.0,0.0,null,1622.0,0.0,0.0,0.0,1.0,0.0,0.0,547.0,0.0,0.0,0.0,16337.0,0.0,0.0,1157.0,0.0,62.0,0.0,0.0,0.0,54.0,344.0,1.0,408.0,1.0,876.0,0.0,0.0,0.0,0.0,388.0,0.0,0.0,0.0,0.0,0.0,null,0.0,0.0,0.0,0.0,0.0,3.0,0.0,0.0,0.0,4.0,0.0,800.0,0.0,0.0,0.0,0.0,0.0,0.0,0.0,0.0,3.0,0.0,2891.0,0.0,0.0,455.0,0.0,64.0,0.0,0.0,0.0,0.0,0.0,3.0,0.0,0.0,2102.0,0.0,3874.0,180.0,0.0,0.0,0.0,0.0,119.0,0.0,0.0,39.0,0.0,0.0,0.0,0.0,0.0,0.0,0.0,0.0,0.0,0.0,0.0,0.0,0.0,0.0,0.0,0.0,0.0,2.0,0.0,0.0,0.0,0.0,0.0,0.0,0.0,8735.0,0.0,71.0,1779.0,0.0,346.0,2.0,533.0,0.0,0.0,418.0,0.0,0.0,0.0,0.0,0.0,0.0,237.0,0.0,5563.0,0.0,0.0,0.0,0.0,5.0,297.0,658.0,1788.0,3.0,null,0.0,0.0,0.0,0.0,368.0,0.0,0.0,0.0,1113.0,0.0,9244.0,0.0,0.0,0.0,4269.0,0.0,0.0,0.0,0.0,661.0,317.0,0.0,56.0,0.0,null,9.0,0.0,786.0,0.0,321.0,1103.0,108.0,0.0,0.0,0.0,0.0,0.0,0.0,0.0,0.0,0.0,0.0,0.0,703.0,0.0,0.0,437.0,0.0,784.0,null,0.0,350.0,0.0,0.0,null,0.0,80.0,54.0,null,18.0,0.0,867.0,486.0,0.0,null,224.0,0.0,0.0,0.0,8.0,0.0,236.0,0.0,0.0,252.0,0.0,1244.0,428.0,421.0,4184.0,0.0,1.0,0.0,0.0,1678.0,0.0,305.0,0.0,0.0,0.0,0.0,0.0,0.0,0.0,0.0,505.0,0.0,null,16.0,0.0,963.0,null,1.0,0.0,0.0,0.0,209.0,0.0,0.0,0.0,0.0,0.0,11.0,479.0,96.0,0.0,0.0,0.0,2325.0,0.0,0.0,0.0,0.0,84.0,0.0,1.0,0.0,0.0,0.0,0.0,0.0,0.0,0.0,0.0,0.0,0.0,0.0,909.0,0.0,0.0,0.0,54.0,0.0,49.0,542.0,0.0,0.0,214.0,0.0,2264.0,480.0,0.0,0.0,622.0,0.0,0.0,384.0,0.0,10786.0,1148.0,1148.0,0.0,1.0,2.0,23.0,0.0,0.0,0.0,0.0,0.0,0.0,0.0,0.0,5.0,0.0,0.0,0.0,0.0,0.0,0.0,5.0,1.0,15.0,12.0,0.0,0.0,0.0,5190.0,20.0,0.0,880.0,0.0,0.0,446.0,0.0,0.0,0.0,null,0.0,null,0.0,0.0,41.0,0.0,0.0,0.0,1.0,0.0,0.0,0.0,0.0,170.0,0.0,0.0,0.0,0.0,0.0,0.0,0.0,0.0,421.0,808.0,0.0,0.0,0.0,40.0,0.0,1598.0,0.0,0.0,359.0,0.0,0.0,0.0,0.0,0.0,0.0,0.0,0.0,0.0,0.0,0.0,1.0,0.0,0.0,0.0,0.0,0.0,0.0,0.0,0.0,158.0,5.0,null,0.0,14.0,0.0,172.0,3039.0,2368.0,55.0,0.0,0.0,0.0,0.0,421.0,42.0,0.0,4174.0,0.0,1.0,null,0.0,0.0,0.0,0.0,0.0,0.0,0.0,0.0,0.0,0.0,47.0,0.0,0.0,0.0,0.0,0.0,11.0,0.0,null,0.0,0.0,1577.0,0.0,0.0,0.0,192.0,0.0,0.0,0.0,10173.0,0.0,8.0,1.0,0.0,155.0,0.0,0.0,0.0,0.0,0.0,2790.0,0.0,2181.0,53.0,0.0,null,0.0,12.0,2.0,0.0,6.0,0.0,0.0,0.0,35.0,766.0,144.0,2.0,58.0,659.0,208.0,41.0,20.0,0.0,0.0,0.0,0.0,0.0,0.0,0.0,276.0,0.0,0.0,0.0,112.0,0.0,0.0,1.0,0.0,0.0,0.0,0.0,0.0,null,23.0,0.0,0.0,3.0,0.0,0.0,0.0,0.0,0.0,0.0,637.0,0.0,0.0,0.0,290.0,0.0,0.0,0.0,255.0,0.0,0.0,0.0,0.0,0.0,0.0,842.0,0.0,0.0,0.0,0.0,30.0,334.0,832.0,542.0,0.0,16.0,0.0,0.0,0.0,4.0,0.0,0.0,42.0,0.0,0.0,133.0,0.0,592.0,0.0,0.0,0.0,0.0,36.0,0.0,0.0,0.0,0.0,3597.0,773.0,0.0,0.0,0.0,0.0,0.0,0.0,14485.0,1562.0,182.0,186.0,4376.0,77.0,8.0,0.0,0.0,598.0,1226.0,0.0,0.0,0.0,0.0,363.0,82.0,0.0,667.0,0.0,0.0,0.0,441.0,0.0,0.0,0.0,0.0,0.0,0.0,0.0,0.0,196.0,0.0,0.0,0.0,0.0,0.0,null,0.0,0.0,64.0,0.0,0.0,0.0,6.0,334.0,0.0,0.0,427.0,22.0,0.0,43.0,3932.0,13.0,0.0,0.0,0.0,0.0,0.0,449.0,0.0,329.0,387.0,0.0,315.0,106.0,33.0,79.0,303.0,0.0,22.0,0.0,1141.0,0.0,0.0,813.0,0.0,0.0,101.0,91.0,293.0,197.0,18.0,146.0,0.0,0.0,33.0,0.0,5116.0,1300.0,0.0,0.0,0.0,5361.0,0.0,553.0,0.0,1.0,62.0,0.0,0.0,0.0,871.0,0.0,0.0,0.0,0.0,0.0,2936.0,0.0,0.0,0.0,0.0,0.0,35.0,0.0,0.0,0.0,0.0,0.0,0.0,7629.0,228.0,0.0,0.0,0.0,0.0,233.0,0.0,0.0,0.0,0.0,0.0,0.0,654.0,0.0,0.0,27.0,0.0,0.0,0.0,0.0,830.0,498.0,77.0,0.0,293.0,584.0,120.0,4.0,0.0,63.0,7.0,59.0,0.0,0.0,337.0,0.0,2330.0,0.0,1384.0,1.0,249.0,0.0,2071.0,230.0,10.0,155.0,1768.0,0.0,331.0,1651.0,0.0,0.0,5.0,0.0,0.0,0.0,110.0,986.0,4967.0,0.0,360.0,2275.0,0.0,0.0,0.0,452.0,445.0,0.0,0.0,363.0,0.0,0.0,0.0,0.0,0.0,10.0,0.0,0.0,0.0,31.0,0.0,0.0,100.0,0.0,0.0,0.0,0.0,0.0,0.0,394.0,361.0,0.0,0.0,0.0,0.0,693.0,0.0,0.0,622.0,39.0,0.0,0.0,89.0,7.0,0.0,2983.0,2908.0,402.0,0.0,0.0,3.0,0.0,0.0,0.0,0.0,0.0,71.0,0.0,0.0,267.0,89.0,0.0,448.0,1.0,0.0,160.0,2260.0,0.0,0.0,26.0,0.0,null,0.0,3263.0,0.0,0.0,307.0,125.0,4.0,null,0.0,16.0,0.0,0.0,0.0,0.0,1713.0,4560.0,2141.0,32.0,0.0,85.0,0.0,0.0,0.0,142.0,0.0,0.0,0.0,null,2355.0,0.0,100.0,17.0,2.0,0.0,0.0,0.0,0.0,0.0,28.0,0.0,0.0,0.0,0.0,49.0,264.0,2825.0,0.0,0.0,0.0,67.0,0.0,0.0,0.0,0.0,null,0.0,0.0,836.0,0.0,0.0,0.0,0.0,2376.0,null,0.0,1.0,0.0,0.0,0.0,0.0,0.0,0.0,0.0,0.0,24.0,0.0,0.0,0.0,308.0,1290.0,13.0,746.0,633.0,0.0,555.0,0.0,0.0,0.0,0.0,0.0,0.0,44.0,1560.0,0.0,0.0,0.0,0.0,0.0,0.0,0.0,0.0,803.0,1601.0,null,0.0,5353.0,11.0,35.0,2799.0,549.0,0.0,4195.0,0.0,0.0,6.0,16.0,516.0,1825.0,0.0,89.0,0.0,0.0,2.0,4.0,1023.0,0.0,13.0,0.0,0.0,954.0,76.0,1924.0,524.0,4899.0,0.0,0.0,0.0,0.0,0.0,0.0,127.0,20336.0,77.0,5308.0,0.0,0.0,0.0,2.0,229.0,12682.0,0.0,0.0,556.0,179.0,220.0,2.0,7087.0,0.0,0.0,0.0,0.0,9.0,489.0,0.0,0.0,0.0,16.0,0.0,0.0,0.0,18.0,0.0,0.0,1660.0,0.0,610.0,674.0,0.0,0.0,0.0,26.0,1804.0,22.0,0.0,0.0,0.0,null,0.0,131.0,27.0,0.0,0.0,8.0,2.0,0.0,336.0,0.0,0.0,120.0,405.0,0.0,38.0,0.0,0.0,0.0,993.0,0.0,0.0,1508.0,7303.0,0.0,1.0,0.0,0.0,0.0,0.0,0.0,0.0,6803.0,0.0,312.0,0.0,0.0,0.0,0.0,0.0,0.0,0.0,0.0,0.0,0.0,0.0,0.0,null,62.0,1272.0,374.0,2084.0,2.0,0.0,0.0,0.0,0.0,0.0,366.0,0.0,0.0,0.0,3687.0,0.0,0.0,0.0,0.0,0.0,0.0,null,2311.0,0.0,0.0,998.0,0.0,0.0,0.0,0.0,0.0,1094.0,0.0,0.0,0.0,1.0,0.0,502.0,453.0,23.0,null,1960.0,2630.0,0.0,2167.0,583.0,0.0,6178.0,0.0,0.0,0.0,0.0,0.0,2.0,581.0,0.0,0.0,0.0,302.0,6.0,0.0,0.0,1.0,1647.0,588.0,171.0,0.0,321.0,0.0,0.0,0.0,53.0,623.0,0.0,0.0,0.0,56.0,0.0,74.0,0.0,373.0,0.0,0.0,0.0,0.0,0.0,0.0,0.0,6.0,0.0,0.0,0.0,4334.0,240.0,null,0.0,1866.0,0.0,0.0,0.0,754.0,0.0,1666.0,42.0,0.0,1955.0,0.0,0.0,40.0,1.0,0.0,0.0,0.0,0.0,0.0,0.0,0.0,62.0,0.0,0.0,0.0,0.0,451.0,98.0,0.0,30.0,0.0,0.0,0.0,0.0,0.0,0.0,0.0,0.0,0.0,512.0,0.0,785.0,0.0,0.0,0.0,3.0,44.0,700.0,0.0,0.0,358.0,12708.0,60.0,0.0,0.0,null,86.0,34.0,333.0,0.0,0.0,12.0,753.0,0.0,0.0,1362.0,21.0,2.0,0.0,176.0,0.0,3880.0,0.0,0.0,0.0,0.0,0.0,483.0,0.0,0.0,1837.0,0.0,0.0,502.0,8.0,0.0,0.0,466.0,0.0,0.0,0.0,0.0,1731.0,0.0,0.0,null,0.0,140.0,0.0,0.0,10.0,8.0,0.0,0.0,2203.0,0.0,0.0,691.0,0.0,2.0,0.0,0.0,0.0,0.0,27.0,0.0,0.0,0.0,0.0,0.0,0.0,0.0,0.0,0.0,0.0,0.0,0.0,0.0,0.0,0.0,0.0,0.0,0.0,776.0,0.0,199.0,0.0,0.0,0.0,0.0,0.0,0.0,0.0,0.0,0.0,2193.0,1539.0,0.0,0.0,0.0,0.0,0.0,null,0.0,0.0,null,0.0,0.0,0.0,1376.0,79.0,39.0,0.0,1225.0,null,0.0,0.0,0.0,32.0,103.0,null,0.0,0.0,0.0,0.0,7.0,0.0,179.0,null,0.0,0.0,0.0,5.0,4.0,0.0,0.0,0.0,0.0,794.0,0.0,0.0,0.0,2.0,0.0,0.0,3283.0,0.0,0.0,0.0,518.0,0.0,0.0,0.0,0.0,253.0,0.0,0.0,0.0,326.0,4.0,213.0,12.0,0.0,0.0,4411.0,0.0,4160.0,0.0,0.0,895.0,0.0,0.0,0.0,0.0,7218.0,101.0,304.0,261.0,0.0,0.0,0.0,0.0,0.0,0.0,0.0,0.0,191.0,0.0,0.0,0.0,0.0,1371.0,9129.0,0.0,118.0,5.0,0.0,2406.0,0.0,0.0,0.0,0.0,0.0,0.0,0.0,0.0,0.0,0.0,5147.0,1.0,0.0,0.0,754.0,0.0,null,168.0,611.0,41.0,0.0,0.0,0.0,0.0,0.0,0.0,330.0,7865.0,0.0,0.0,0.0,0.0,0.0,0.0,0.0,0.0,0.0,3.0,3541.0,4360.0,521.0,0.0,0.0,0.0,0.0,0.0,0.0,0.0,0.0,90.0,0.0,0.0,0.0,213.0,119.0,0.0,0.0,0.0,0.0,0.0,0.0,0.0,0.0,0.0,15.0,0.0,0.0,701.0,0.0,0.0,0.0,0.0,0.0,0.0,0.0,0.0,0.0,0.0,0.0,916.0,0.0,0.0,52.0,404.0,0.0,1415.0,79.0,61.0,0.0,0.0,0.0,1082.0,0.0,0.0,270.0,2.0,0.0,13.0,501.0,0.0,0.0,434.0,53.0,9.0,0.0,0.0,0.0,0.0,0.0,298.0,0.0,811.0,0.0,0.0,44.0,0.0,0.0,1513.0,0.0,647.0,0.0,0.0,0.0,0.0,1.0,0.0,1.0,40.0,0.0,397.0,1132.0,0.0,0.0,0.0,3.0,143.0,436.0,21.0,0.0,4828.0,0.0,0.0,null,0.0,0.0,0.0,0.0,0.0,1889.0,19.0,0.0,0.0,0.0,0.0,880.0,0.0,0.0,0.0,0.0,0.0,0.0,6.0,96.0,0.0,0.0,0.0,0.0,3.0,0.0,0.0,0.0,0.0,0.0,0.0,0.0,0.0,0.0,0.0,0.0,0.0,0.0,0.0,0.0,0.0,0.0,0.0,2.0,0.0,0.0,0.0,486.0,702.0,217.0,12323.0,2.0,31.0,0.0,0.0,0.0,148.0,120.0,1968.0,1232.0,0.0,307.0,null,433.0,816.0,487.0,0.0,50.0,57.0,1.0,53.0,60.0,0.0,0.0,0.0,0.0,0.0,0.0,0.0,0.0,0.0,0.0,0.0,0.0,0.0,0.0,0.0,0.0,0.0,0.0,168.0,0.0,0.0,0.0,356.0,null,0.0,0.0,0.0,0.0,0.0,340.0,5.0,0.0,10.0,null,0.0,0.0,1.0,10074.0,0.0,0.0,0.0,63.0,3491.0,39.0,459.0,323.0,0.0,118.0,0.0,0.0,9.0,0.0,0.0,519.0,0.0,0.0,0.0,0.0,0.0,0.0,0.0,1469.0,160.0,1.0,3.0,0.0,0.0,0.0,5558.0,0.0,0.0,null,2.0,85.0,0.0,0.0,0.0,26.0,0.0,0.0,0.0,8.0,0.0,0.0,0.0,0.0,0.0,0.0,0.0,777.0,4.0,0.0,67.0,0.0,901.0,0.0,1674.0,0.0,321.0,122.0,0.0,411.0,1544.0,0.0,314.0,0.0,0.0,0.0,0.0,18.0,0.0,3.0,0.0,183.0,0.0,0.0,0.0,734.0,0.0,0.0,0.0,0.0,720.0,0.0,0.0,827.0,0.0,0.0,0.0,0.0,0.0,0.0,595.0,0.0,0.0,0.0,0.0,0.0,0.0,0.0,5.0,0.0,571.0,0.0,0.0,2187.0,0.0,0.0,0.0,0.0,0.0,0.0,1466.0,0.0,12061.0,7730.0,1.0,0.0,0.0,0.0,null,0.0,0.0,0.0,0.0,0.0,0.0,0.0,11213.0,681.0,0.0,704.0,0.0,0.0,531.0,108.0,0.0,null,0.0,0.0,103.0,14.0,3.0,0.0,0.0,0.0,0.0,0.0,0.0,0.0,0.0,0.0,4.0,0.0,0.0,0.0,1403.0,4090.0,46.0,0.0,0.0,107.0,null,0.0,0.0,0.0,124.0,0.0,0.0,0.0,402.0,0.0,null,0.0,1755.0,0.0,0.0,0.0,435.0,1814.0,0.0,0.0,0.0,0.0,601.0,0.0,0.0,0.0,428.0,0.0,0.0,8040.0,0.0,null,0.0,145.0,77.0,0.0,0.0,1624.0,0.0,0.0,0.0,0.0,137.0,701.0,43.0,0.0,0.0,27.0,0.0,7461.0,4898.0,71.0,0.0,20.0,2740.0,0.0,0.0,503.0,0.0,0.0,1.0,1560.0,0.0,0.0,0.0,null,0.0,13.0,0.0,19.0,1.0,0.0,83.0,192.0,0.0,14.0,0.0,2659.0,208.0,1247.0,0.0,0.0,0.0,78.0,0.0,0.0,342.0,7121.0,0.0,1082.0,0.0,0.0,0.0,10206.0,0.0,5543.0,1.0,0.0,0.0,0.0,19.0,0.0,0.0,0.0,0.0,0.0,57.0,0.0,0.0,0.0,0.0,0.0,0.0,2711.0,715.0,594.0,0.0,0.0,0.0,0.0,0.0,10.0,6.0,0.0,0.0,null,1320.0,1478.0,4817.0,8221.0,0.0,40.0,350.0,0.0,0.0,880.0,0.0,0.0,0.0,0.0,144.0,30.0,23.0,0.0,1.0,0.0,0.0,0.0,0.0,0.0,0.0,0.0,0.0,1244.0,0.0,0.0,0.0,812.0,0.0,0.0,156.0,0.0,0.0,0.0,0.0,305.0,704.0,0.0,0.0,0.0,0.0,0.0,0.0,null,0.0,0.0,16.0,164.0,0.0,45.0,0.0,0.0,0.0,0.0,0.0,1155.0,141.0,0.0,518.0,0.0,0.0,3726.0,2105.0,0.0,0.0,383.0,0.0,0.0,510.0,0.0,121.0,754.0,37.0,109.0,0.0,618.0,3.0,705.0,0.0,0.0,7492.0,1297.0,643.0,1.0,139.0,0.0,1984.0,356.0,1.0,0.0,0.0,254.0,0.0,0.0,0.0,26.0,0.0,1120.0,1.0,0.0,0.0,642.0,193.0,1.0,199.0,0.0,0.0,0.0,0.0,0.0,null,0.0,0.0,383.0,765.0,907.0,0.0,273.0,0.0,0.0,594.0,1.0,0.0,0.0,0.0,811.0,5.0,199.0,0.0,3379.0,0.0,1.0,0.0,6.0,0.0,0.0,583.0,0.0,393.0,0.0,4.0,0.0,0.0,0.0,2109.0,0.0,0.0,0.0,0.0,0.0,0.0,0.0,0.0,0.0,0.0,0.0,0.0,0.0,10.0,0.0,387.0,0.0,2.0,0.0,0.0,5615.0,0.0,0.0,0.0,0.0,0.0,4.0,0.0,716.0,0.0,218.0,0.0,0.0,null,0.0,0.0,0.0,0.0,0.0,0.0,0.0,0.0,6.0,1104.0,260.0,1903.0,0.0,65.0,0.0,0.0,3831.0,21.0,8.0,88.0,0.0,0.0,13.0,0.0,0.0,24.0,0.0,0.0,0.0,0.0,0.0,0.0,0.0,0.0,null,0.0,0.0,0.0,1049.0,100.0,909.0,6.0,0.0,0.0,0.0,1818.0,0.0,10.0,0.0,0.0,11.0,0.0,1065.0,1292.0,0.0,0.0,0.0,0.0,0.0,0.0,0.0,0.0,839.0,0.0,41.0,0.0,262.0,0.0,0.0,0.0,0.0,0.0,0.0,1407.0,749.0,0.0,0.0,0.0,0.0,0.0,0.0,0.0,289.0,3780.0,69.0,4757.0,2300.0,25.0,0.0,104.0,0.0,375.0,2056.0,33.0,0.0,517.0,0.0,171.0,0.0,3.0,null,0.0,126.0,7.0,0.0,0.0,0.0,0.0,0.0,0.0,0.0,0.0,0.0,null,0.0,14.0,0.0,0.0,805.0,0.0,0.0,0.0,73.0,1227.0,0.0,247.0,417.0,0.0,585.0,79.0,0.0,0.0,0.0,867.0,0.0,6.0,0.0,0.0,235.0,769.0,0.0,0.0,0.0,0.0,0.0,24133.0,0.0,0.0,9.0,0.0,0.0,0.0,13.0,0.0,0.0,0.0,489.0,0.0,null,692.0,0.0,0.0,2428.0,0.0,0.0,5.0,0.0,323.0,801.0,0.0,0.0,0.0,16.0,0.0,3999.0,0.0,0.0,0.0,0.0,18.0,0.0,0.0,2050.0,384.0,0.0,0.0,0.0,5.0,0.0,0.0,0.0,0.0,283.0,0.0,null,631.0,0.0,175.0,0.0,2.0,1393.0,1335.0,0.0,0.0,45.0,941.0,0.0,0.0,1.0,4.0,0.0,0.0,0.0,395.0,0.0,141.0,0.0,0.0,0.0,0.0,0.0,0.0,827.0,0.0,1674.0,3186.0,587.0,0.0,0.0,757.0,0.0,0.0,0.0,489.0,4.0,243.0,0.0,396.0,0.0,0.0,1652.0,0.0,0.0,9.0,9.0,48.0,1013.0,0.0,17.0,0.0,2137.0,0.0,0.0,1721.0,0.0,0.0,0.0,308.0,0.0,0.0,0.0,0.0,0.0,0.0,3.0,6.0,86.0,0.0,0.0,527.0,29.0,0.0,0.0,0.0,0.0,0.0,0.0,0.0,0.0,0.0,73.0,0.0,3.0,216.0,0.0,20.0,0.0,525.0,629.0,5648.0,0.0,642.0,0.0,0.0,0.0,0.0,10.0,0.0,21.0,0.0,3230.0,0.0,0.0,0.0,35.0,593.0,0.0,0.0,8.0,0.0,309.0,0.0,683.0,40.0,0.0,0.0,0.0,1078.0,0.0,445.0,0.0,0.0,0.0,0.0,0.0,0.0,0.0,988.0,0.0,0.0,0.0,884.0,0.0,0.0,2383.0,0.0,0.0,0.0,3.0,0.0,0.0,1017.0,0.0,0.0,80.0,0.0,0.0,0.0,1174.0,0.0,0.0,0.0,0.0,9.0,807.0,9.0,0.0,0.0,37.0,0.0,0.0,150.0,0.0,0.0,0.0,0.0,0.0,0.0,1.0,0.0,0.0,0.0,0.0,0.0,0.0,0.0,0.0,21.0,0.0,0.0,0.0,214.0,2047.0,10270.0,1141.0,1.0,0.0,0.0,0.0,0.0,0.0,0.0,24.0,72.0,11.0,0.0,74.0,0.0,null,461.0,657.0,17.0,1963.0,0.0,875.0,null,0.0,0.0,0.0,0.0,null,125.0,0.0,0.0,0.0,950.0,0.0,0.0,null,0.0,0.0,0.0,0.0,0.0,512.0,0.0,0.0,0.0,0.0,0.0,0.0,0.0,3554.0,680.0,91.0,45.0,0.0,0.0,477.0,0.0,1596.0,0.0,0.0,0.0,0.0,629.0,0.0,2.0,0.0,1543.0,540.0,0.0,0.0,272.0,841.0,653.0,0.0,0.0,0.0,159.0,0.0,173.0,537.0,0.0,0.0,0.0,90.0,null,0.0,23.0,0.0,3303.0,510.0,0.0,0.0,0.0,0.0,null,30.0,2203.0,9837.0,0.0,24.0,0.0,0.0,0.0,0.0,0.0,0.0,0.0,147.0,0.0,177.0,0.0,0.0,0.0,0.0,0.0,0.0,0.0,0.0,37.0,0.0,0.0,0.0,0.0,0.0,0.0,0.0,0.0,3.0,0.0,0.0,102.0,0.0,661.0,5477.0,469.0,0.0,0.0,0.0,0.0,0.0,0.0,6985.0,12.0,0.0,0.0,0.0,0.0,397.0,925.0,0.0,0.0,0.0,0.0,0.0,0.0,0.0,0.0,5.0,0.0,0.0,3167.0,774.0,0.0,0.0,185.0,0.0,0.0,0.0,0.0,329.0,161.0,0.0,0.0,0.0,0.0,0.0,169.0,0.0,1578.0,0.0,0.0,826.0,0.0,0.0,0.0,0.0,0.0,0.0,0.0,0.0,1200.0,320.0,10888.0,0.0,0.0,0.0,0.0,0.0,0.0,986.0,0.0,0.0,0.0,0.0,0.0,0.0,0.0,629.0,0.0,1611.0,827.0,0.0,0.0,288.0,772.0,0.0,0.0,432.0,0.0,0.0,0.0,0.0,0.0,0.0,0.0,0.0,468.0,0.0,57.0,2919.0,0.0,0.0,0.0,0.0,109.0,0.0,0.0,1.0,0.0,0.0,0.0,564.0,0.0,0.0,0.0,0.0,0.0,0.0,0.0,0.0,0.0,0.0,0.0,4666.0,0.0,14.0,0.0,0.0,0.0,1724.0,null,136.0,41.0,82.0,0.0,0.0,0.0,0.0,0.0,0.0,5.0,0.0,0.0,0.0,0.0,0.0,0.0,0.0,0.0,0.0,null,83.0,557.0,0.0,15.0,3.0,0.0,0.0,0.0,0.0,0.0,1030.0,4.0,0.0,0.0,290.0,1166.0,5.0,0.0,0.0,0.0,785.0,0.0,0.0,1363.0,5.0,39.0,5531.0,533.0,0.0,0.0,0.0,0.0,2236.0,0.0,158.0,4.0,0.0,3.0,0.0,0.0,512.0,0.0,0.0,0.0,0.0,0.0,0.0,null,0.0,4056.0,0.0,0.0,175.0,0.0,1.0,0.0,4.0,0.0,0.0,62.0,744.0,0.0,0.0,4085.0,43.0,31.0,2056.0,0.0,815.0,470.0,784.0,25.0,1393.0,0.0,845.0,0.0,0.0,0.0,0.0,5.0,3014.0,0.0,0.0,0.0,35.0,80.0,0.0,0.0,2.0,0.0,0.0,0.0,4088.0,640.0,0.0,0.0,58.0,0.0,0.0,0.0,0.0,638.0,0.0,0.0,0.0,0.0,1548.0,0.0,0.0,0.0,0.0,0.0,0.0,10.0,421.0,218.0,8.0,0.0,null,0.0,498.0,0.0,0.0,0.0,50.0,4.0,0.0,0.0,0.0,0.0,15.0,1675.0,0.0,0.0,0.0,0.0,0.0,0.0,672.0,0.0,0.0,0.0,0.0,796.0,18.0,0.0,0.0,0.0,0.0,null,0.0,53.0,0.0,0.0,0.0,0.0,16.0,0.0,0.0,182.0,0.0,5496.0,0.0,239.0,18.0,2.0,0.0,0.0,0.0,0.0,0.0,0.0,0.0,0.0,13.0,11.0,0.0,0.0,0.0,475.0,170.0,1495.0,0.0,0.0,12.0,0.0,0.0,764.0,1638.0,null,0.0,0.0,0.0,774.0,124.0,0.0,0.0,0.0,0.0,0.0,0.0,null,1279.0,0.0,0.0,null,null,0.0,0.0,0.0,0.0,0.0,0.0,0.0,0.0,0.0,2035.0,0.0,0.0,0.0,211.0,15.0,338.0,21.0,0.0,2.0,0.0,0.0,8.0,0.0,0.0,0.0,6.0,0.0,71.0,22.0,1.0,3.0,48.0,0.0,0.0,0.0,0.0,0.0,0.0,0.0,null,0.0,539.0,0.0,364.0,0.0,0.0,0.0,0.0,896.0,19.0,6.0,0.0,0.0,25.0,5.0,0.0,0.0,0.0,104.0,0.0,23.0,0.0,137.0,0.0,0.0,3047.0,0.0,0.0,0.0,0.0,0.0,1417.0,322.0,0.0,0.0,0.0,0.0,0.0,0.0,698.0,401.0,0.0,0.0,0.0,0.0,0.0,null,0.0,630.0,0.0,0.0,40.0,0.0,52.0,742.0,0.0,0.0,440.0,672.0,1.0,0.0,599.0,0.0,0.0,0.0,0.0,0.0,115.0,0.0,0.0,75.0,0.0,0.0,0.0,0.0,431.0,9.0,0.0,204.0,163.0,0.0,0.0,256.0,15.0,1949.0,0.0,0.0,0.0,0.0,0.0,0.0,0.0,0.0,800.0,null,0.0,0.0,0.0,0.0,0.0,0.0,890.0,0.0,0.0,0.0,773.0,18.0,124.0,0.0,33.0,0.0,0.0,4674.0,0.0,0.0,0.0,0.0,0.0,17.0,0.0,0.0,3798.0,0.0,57.0,192.0,25.0,0.0,null,829.0,0.0,0.0,0.0,0.0,0.0,398.0,0.0,545.0,59.0,0.0,2.0,0.0,0.0,0.0,0.0,1919.0,0.0,0.0,0.0,18.0,0.0,0.0,0.0,0.0,0.0,0.0,0.0,44.0,0.0,14.0,0.0,0.0,0.0,17074.0,1.0,0.0,318.0,0.0,0.0,0.0,739.0,0.0,975.0,0.0,0.0,214.0,372.0,0.0,1.0,0.0,108.0,0.0,0.0,0.0,0.0,0.0,2.0,0.0,0.0,0.0,0.0,null,0.0,1.0,0.0,0.0,0.0,0.0,104.0,0.0,567.0,103.0,0.0,0.0,40.0,0.0,0.0,0.0,84.0,777.0,5.0,2.0,0.0,0.0,676.0,7.0,1318.0,0.0,0.0,null,0.0,0.0,0.0,420.0,1426.0,667.0,1541.0,0.0,0.0,0.0,8.0,0.0,0.0,628.0,0.0,0.0,0.0,0.0,776.0,0.0,1553.0,0.0,2.0,0.0,null,0.0,0.0,0.0,0.0,5499.0,41.0,3.0,0.0,0.0,337.0,0.0,0.0,0.0,0.0,25.0,0.0,11.0,813.0,0.0,90.0,1435.0,0.0,0.0,1459.0,0.0,0.0,0.0,0.0,0.0,722.0,0.0,0.0,226.0,2177.0,0.0,3128.0,0.0,0.0,0.0,0.0,0.0,0.0,0.0,0.0,0.0,1.0,0.0,468.0,0.0,0.0,0.0,229.0,0.0,0.0,0.0,0.0,4.0,369.0,0.0,null,30.0,0.0,0.0,0.0,0.0,40.0,170.0,595.0,0.0,0.0,0.0,0.0,null,null,0.0,5.0,0.0,14.0,8.0,0.0,87.0,0.0,0.0,912.0,0.0,0.0,0.0,16.0,0.0,3.0,182.0,0.0,0.0,0.0,0.0,328.0,0.0,0.0,2325.0,0.0,41.0,189.0,2905.0,12.0,78.0,0.0,391.0,485.0,0.0,0.0,0.0,546.0,0.0,757.0,109.0,184.0,0.0,0.0,0.0,239.0,1201.0,0.0,0.0,34.0,42.0,0.0,3.0,52.0,2714.0,24.0,0.0,0.0,27.0,738.0,45.0,0.0,0.0,0.0,0.0,66.0,0.0,40.0,0.0,0.0,16.0,0.0,0.0,0.0,0.0,0.0,0.0,0.0,0.0,498.0,731.0,0.0,0.0,1.0,84.0,0.0,0.0,0.0,4.0,0.0,920.0,0.0,0.0,12.0,0.0,0.0,355.0,23.0,0.0,22.0,4304.0,0.0,0.0,8169.0,0.0,0.0,0.0,0.0,0.0,0.0,444.0,0.0,1.0,171.0,0.0,632.0,28.0,444.0,0.0,0.0,373.0,0.0,0.0,0.0,0.0,0.0,0.0,0.0,0.0,0.0,3155.0,0.0,50.0,388.0,0.0,75.0,117.0,0.0,19.0,0.0,419.0,0.0,0.0,2220.0,0.0,0.0,0.0,0.0,0.0,23.0,1150.0,0.0,0.0,0.0,23.0,1.0,0.0,100.0,0.0,779.0,0.0,370.0,126.0,0.0,0.0,0.0,764.0,0.0,60.0,0.0,0.0,0.0,0.0,0.0,0.0,0.0,0.0,0.0,0.0,66.0,0.0,0.0,0.0,736.0,0.0,378.0,130.0,0.0,0.0,0.0,0.0,0.0,896.0,0.0,0.0,718.0,0.0,0.0,0.0,0.0,0.0,0.0,181.0,0.0,2027.0,423.0,71.0,0.0,0.0,187.0,2960.0,8.0,787.0,null,962.0,0.0,4041.0,null,473.0,1967.0,0.0,558.0,605.0,952.0,null,239.0,0.0,0.0,10.0,0.0,2577.0,0.0,0.0,634.0,135.0,0.0,0.0,0.0,0.0,0.0,0.0,0.0,486.0,0.0,1147.0,0.0,0.0,0.0,0.0,0.0,32.0,0.0,10.0,0.0,0.0,782.0,0.0,0.0,0.0,197.0,2470.0,0.0,0.0,0.0,17.0,544.0,0.0,186.0,0.0,0.0,0.0,7.0,0.0,0.0,0.0,1845.0,0.0,0.0,6.0,5.0,null,0.0,0.0,0.0,0.0,0.0,756.0,0.0,0.0,0.0,0.0,0.0,0.0,0.0,0.0,0.0,0.0,0.0,168.0,0.0,124.0,175.0,2.0,0.0,548.0,0.0,0.0,400.0,0.0,34.0,0.0,845.0,0.0,0.0,0.0,0.0,null,0.0,0.0,0.0,50.0,0.0,1778.0,800.0,0.0,159.0,0.0,0.0,0.0,0.0,0.0,0.0,397.0,0.0,97.0,782.0,0.0,0.0,0.0,0.0,320.0,625.0,0.0,560.0,86.0,0.0,0.0,0.0,1.0,0.0,0.0,0.0,90.0,0.0,0.0,0.0,6.0,0.0,null,0.0,0.0,0.0,484.0,311.0,394.0,908.0,0.0,0.0,0.0,4914.0,0.0,47.0,0.0,0.0,0.0,0.0,0.0,565.0,0.0,12424.0,null,844.0,56.0,0.0,0.0,119.0,0.0,0.0,565.0,423.0,0.0,140.0,0.0,1282.0,0.0,5913.0,0.0,0.0,8.0,120.0,0.0,0.0,0.0,0.0,52.0,1360.0,0.0,0.0,0.0,0.0,0.0,0.0,0.0,1776.0,0.0,54.0,11.0,0.0,951.0,0.0,0.0,0.0,0.0,93.0,0.0,0.0,0.0,223.0,0.0,0.0,0.0,0.0,0.0,0.0,1392.0,0.0,0.0,0.0,0.0,0.0,0.0,0.0,0.0,0.0,683.0,0.0,0.0,0.0,659.0,645.0,1261.0,0.0,1.0,0.0,0.0,0.0,0.0,0.0,7401.0,0.0,0.0,1037.0,904.0,61.0,37.0,0.0,0.0,0.0,0.0,0.0,0.0,0.0,0.0,0.0,0.0,0.0,0.0,0.0,0.0,0.0,0.0,10.0,0.0,608.0,0.0,0.0,0.0,0.0,25.0,262.0,1175.0,0.0,0.0,0.0,0.0,112.0,347.0,0.0,2.0,77.0,0.0,0.0,0.0,86.0,0.0,0.0,0.0,0.0,0.0,0.0,1413.0,1.0,32.0,0.0,619.0,77.0,2.0,0.0,1686.0,0.0,0.0,344.0,0.0,0.0,0.0,0.0,0.0,224.0,7621.0,0.0,0.0,0.0,0.0,500.0,0.0,0.0,0.0,0.0,0.0,1156.0,0.0,0.0,null,64.0,1080.0,0.0,0.0,0.0,1.0,0.0,1339.0,0.0,0.0,872.0,213.0,553.0,0.0,2.0,163.0,0.0,0.0,52.0,30.0,487.0,0.0,0.0,518.0,6027.0,234.0,0.0,0.0,0.0,0.0,9065.0,4973.0,0.0,0.0,387.0,3372.0,621.0,0.0,0.0,741.0,0.0,0.0,0.0,214.0,2141.0,131.0,0.0,335.0,1178.0,0.0,0.0,0.0,1.0,0.0,0.0,null,729.0,0.0,85.0,0.0,0.0,0.0,0.0,214.0,6.0,0.0,0.0,0.0,0.0,655.0,0.0,0.0,0.0,1128.0,15.0,0.0,0.0,0.0,0.0,0.0,309.0,0.0,0.0,0.0,0.0,0.0,281.0,0.0,0.0,0.0,0.0,0.0,0.0,0.0,0.0,0.0,620.0,811.0,0.0,0.0,0.0,0.0,6.0,3.0,0.0,0.0,0.0,977.0,21.0,0.0,0.0,0.0,0.0,9.0,0.0,0.0,0.0,0.0,1.0,0.0,0.0,673.0,162.0,0.0,0.0,0.0,0.0,0.0,0.0,827.0,177.0,0.0,594.0,0.0,0.0,0.0,29.0,0.0,0.0,104.0,0.0,0.0,10.0,0.0,0.0,0.0,0.0,0.0,136.0,0.0,0.0,0.0,224.0,0.0,5034.0,0.0,0.0,3.0,0.0,0.0,0.0,5.0,0.0,0.0,0.0,0.0,0.0,0.0,1216.0,1217.0,0.0,2.0,0.0,0.0,0.0,461.0,0.0,0.0,0.0,10.0,0.0,4.0,2577.0,0.0,0.0,91.0,0.0,0.0,0.0,0.0,85.0,0.0,0.0,24.0,780.0,0.0,0.0,0.0,0.0,1340.0,15.0,31.0,8.0,0.0,3730.0,0.0,115.0,927.0,0.0,15.0,757.0,0.0,0.0,0.0,0.0,0.0,0.0,0.0,0.0,0.0,1.0,0.0,0.0,0.0,0.0,0.0,0.0,0.0,366.0,0.0,0.0,0.0,0.0,0.0,124.0,0.0,40.0,371.0,0.0,0.0,0.0,0.0,0.0,0.0,0.0,null,2302.0,0.0,381.0,26.0,0.0,1.0,0.0,1377.0,0.0,89.0,0.0,0.0,0.0,14.0,0.0,0.0,0.0,0.0,0.0,0.0,0.0,0.0,1005.0,891.0,0.0,0.0,0.0,0.0,281.0,1.0,1367.0,0.0,0.0,0.0,0.0,0.0,0.0,0.0,335.0,0.0,571.0,0.0,1567.0,551.0,0.0,0.0,1548.0,1779.0,29.0,0.0,0.0,0.0,0.0,0.0,0.0,663.0,614.0,0.0,0.0,0.0,3173.0,284.0,2764.0,2553.0,0.0,null,110.0,904.0,0.0,0.0,0.0,2161.0,25.0,0.0,0.0,2336.0,null,36.0,779.0,402.0,0.0,517.0,1781.0,0.0,9033.0,1.0,0.0,386.0,0.0,0.0,84.0,0.0,534.0,1.0,588.0,0.0,0.0,1136.0,0.0,143.0,0.0,0.0,0.0,13.0,39.0,1678.0,0.0,null,659.0,3557.0,0.0,0.0,0.0,0.0,0.0,642.0,788.0,0.0,0.0,0.0,0.0,0.0,20.0,0.0,0.0,8.0,23.0,0.0,0.0,0.0,0.0,712.0,0.0,3854.0,130.0,0.0,92.0,0.0,57.0,0.0,257.0,0.0,0.0,0.0,25.0,0.0,0.0,56.0,0.0,0.0,0.0,0.0,0.0,0.0,0.0,8.0,0.0,1090.0,900.0,0.0,0.0,13.0,200.0,2.0,831.0,0.0,0.0,0.0,0.0,0.0,4.0,0.0,3027.0,227.0,0.0,532.0,0.0,0.0,null,0.0,2478.0,0.0,4.0,0.0,0.0,0.0,0.0,0.0,0.0,0.0,null,517.0,8182.0,0.0,null,0.0,748.0,472.0,0.0,0.0,0.0,0.0,0.0,0.0,0.0,881.0,0.0,1.0,746.0,0.0,0.0,32.0,0.0,0.0,0.0,0.0,248.0,0.0,0.0,0.0,9.0,0.0,0.0,587.0,440.0,18.0,809.0,249.0,0.0,29.0,0.0,1.0,0.0,69.0,0.0,173.0,0.0,463.0,0.0,79.0,0.0,0.0,0.0,0.0,0.0,0.0,0.0,0.0,0.0,0.0,0.0,0.0,0.0,0.0,0.0,0.0,2346.0,0.0,124.0,0.0,0.0,0.0,515.0,0.0,0.0,0.0,0.0,null,0.0,17.0,86.0,0.0,7.0,11.0,0.0,0.0,0.0,0.0,0.0,639.0,0.0,676.0,920.0,0.0,0.0,0.0,0.0,0.0,49.0,0.0,0.0,0.0,287.0,6201.0,654.0,85.0,0.0,0.0,0.0,0.0,0.0,0.0,75.0,0.0,693.0,3902.0,0.0,0.0,0.0,1.0,0.0,0.0,0.0,0.0,3098.0,0.0,0.0,0.0,0.0,0.0,0.0,1797.0,2065.0,46.0,293.0,0.0,274.0,0.0,0.0,0.0,0.0,248.0,647.0,0.0,0.0,0.0,0.0,0.0,0.0,46.0,612.0,2273.0,0.0,0.0,0.0,0.0,616.0,0.0,0.0,0.0,0.0,0.0,0.0,484.0,0.0,640.0,0.0,0.0,9.0,240.0,0.0,3.0,2367.0,0.0,0.0,0.0,0.0,0.0,2.0,0.0,0.0,0.0,0.0,0.0,0.0,95.0,1483.0,319.0,0.0,0.0,0.0,0.0,0.0,0.0,0.0,0.0,619.0,9.0,0.0,0.0,0.0,0.0,0.0,0.0,2684.0,0.0,0.0,0.0,33.0,733.0,0.0,0.0,0.0,0.0,13.0,0.0,16.0,176.0,0.0,0.0,0.0,2.0,1491.0,null,859.0,562.0,0.0,0.0,7953.0,0.0,0.0,49.0,0.0,0.0,270.0,6329.0,0.0,0.0,0.0,17.0,119.0,0.0,0.0,0.0,0.0,0.0,0.0,10.0,0.0,0.0,0.0,2285.0,45.0,0.0,518.0,1132.0,1734.0,23.0,219.0,0.0,555.0,0.0,0.0,0.0,0.0,0.0,9811.0,0.0,0.0,0.0,0.0,0.0,2.0,0.0,337.0,880.0,3884.0,0.0,1.0,0.0,0.0,0.0,0.0,0.0,0.0,82.0,10.0,1288.0,0.0,0.0,855.0,6102.0,0.0,0.0,29.0,1.0,12143.0,0.0,0.0,0.0,0.0,0.0,0.0,228.0,0.0,0.0,0.0,18.0,0.0,2060.0,0.0,0.0,7.0,10028.0,597.0,0.0,0.0,0.0,0.0,0.0,0.0,0.0,591.0,27.0,0.0,0.0,6901.0,791.0,0.0,0.0,11.0,0.0,0.0,0.0,0.0,442.0,0.0,0.0,600.0,0.0,1482.0,2.0,0.0,1116.0,2123.0,68.0,0.0,0.0,0.0,0.0,0.0,0.0,624.0,9.0,0.0,0.0,0.0,0.0,0.0,0.0,293.0,0.0,0.0,4051.0,0.0,0.0,0.0,89.0,100.0,0.0,0.0,0.0,0.0,0.0,0.0,0.0,0.0,161.0,0.0,0.0,1370.0,0.0,236.0,0.0,537.0,928.0,0.0,854.0,686.0,0.0,0.0,null,0.0,1384.0,0.0,0.0,0.0,0.0,0.0,0.0,0.0,0.0,0.0,31.0,0.0,0.0,0.0,625.0,0.0,848.0,1972.0,0.0,0.0,334.0,0.0,1964.0,0.0,0.0,61.0,4435.0,1547.0,0.0,0.0,0.0,116.0,0.0,12.0,0.0,0.0,0.0,0.0,0.0,0.0,0.0,0.0,0.0,0.0,0.0,1539.0,0.0,0.0,0.0,0.0,0.0,2.0,0.0,0.0,404.0,488.0,0.0,0.0,0.0,0.0,0.0,0.0,0.0,0.0,64.0,0.0,728.0,151.0,1179.0,0.0,0.0,0.0,70.0,0.0,0.0,0.0,0.0,582.0,994.0,46.0,0.0,0.0,0.0,0.0,0.0,1935.0,658.0,128.0,0.0,0.0,0.0,0.0,0.0,748.0,0.0,0.0,12685.0,0.0,633.0,0.0,707.0,0.0,0.0,0.0,178.0,0.0,0.0,7.0,0.0,0.0,471.0,0.0,89.0,0.0,1157.0,0.0,0.0,5.0,77.0,22.0,0.0,99.0,0.0,0.0,0.0,0.0,0.0,8.0,7.0,0.0,0.0,0.0,0.0,0.0,null,3.0,0.0,570.0,0.0,67.0,93.0,null,61.0,0.0,0.0,0.0,0.0,0.0,0.0,188.0,0.0,0.0,50.0,0.0,168.0,0.0,0.0,661.0,7.0,0.0,0.0,0.0,37.0,42.0,0.0,0.0,0.0,0.0,0.0,0.0,117.0,2322.0,0.0,347.0,957.0,null,0.0,0.0,0.0,180.0,0.0,0.0,17.0,0.0,4.0,205.0,0.0,473.0,0.0,57.0,377.0,1.0,0.0,1179.0,0.0,0.0,0.0,0.0,792.0,0.0,27.0,0.0,0.0,2020.0,0.0,36.0,1.0,0.0,1.0,375.0,0.0,null,0.0,0.0,0.0,275.0,0.0,0.0,0.0,0.0,0.0,0.0,0.0,129.0,15.0,6262.0,0.0,0.0,0.0,1.0,0.0,47.0,0.0,0.0,0.0,0.0,0.0,0.0,0.0,0.0,394.0,906.0,0.0,0.0,0.0,0.0,0.0,0.0,0.0,0.0,0.0,3675.0,173.0,0.0,0.0,0.0,0.0,0.0,0.0,113.0,0.0,8.0,810.0,60.0,0.0,0.0,0.0,7.0,21.0,93.0,null,0.0,0.0,0.0,0.0,6.0,41.0,0.0,0.0,0.0,0.0,0.0,68.0,0.0,0.0,349.0,0.0,0.0,130.0,128.0,416.0,0.0,11325.0,995.0,0.0,0.0,1989.0,0.0,575.0,0.0,0.0,0.0,0.0,741.0,0.0,0.0,0.0,0.0,0.0,0.0,0.0,0.0,0.0,0.0,46.0,0.0,2491.0,11741.0,0.0,0.0,68.0,948.0,803.0,0.0,0.0,0.0,0.0,1057.0,14.0,null,0.0,0.0,0.0,null,0.0,0.0,0.0,0.0,0.0,0.0,3.0,0.0,0.0,1320.0,0.0,18.0,19.0,0.0,2.0,0.0,5.0,0.0,1.0,555.0,0.0,0.0,0.0,43.0,0.0,0.0,0.0,0.0,62.0,522.0,1.0,0.0,0.0,12392.0,0.0,0.0,283.0,27.0,364.0,21.0,0.0,0.0,1.0,0.0,7.0,511.0,32.0,0.0,0.0,0.0,312.0,1.0,14.0,452.0,0.0,0.0,0.0,0.0,109.0,0.0,0.0,2090.0,0.0,0.0,3.0,6.0,0.0,0.0,0.0,390.0,0.0,17.0,0.0,1674.0,0.0,0.0,0.0,7.0,5057.0,3.0,0.0,0.0,0.0,181.0,0.0,0.0,309.0,0.0,0.0,0.0,0.0,20.0,0.0,0.0,0.0,1556.0,802.0,0.0,0.0,754.0,0.0,0.0,21.0,0.0,0.0,0.0,0.0,51.0,2064.0,0.0,0.0,0.0,0.0,0.0,0.0,642.0,0.0,197.0,0.0,115.0,0.0,0.0,0.0,854.0,0.0,0.0,0.0,0.0,48.0,163.0,18.0,0.0,0.0,0.0,0.0,0.0,0.0,0.0,0.0,1.0,0.0,0.0,0.0,1077.0,0.0,0.0,1.0,0.0,3.0,360.0,10.0,0.0,0.0,2002.0,0.0,0.0,0.0,0.0,4521.0,161.0,0.0,0.0,0.0,632.0,0.0,0.0,0.0,332.0,0.0,0.0,0.0,52.0,12.0,0.0,0.0,0.0,0.0,727.0,0.0,7819.0,0.0,0.0,145.0,1054.0,426.0,0.0,337.0,197.0,70.0,0.0,125.0,0.0,0.0,88.0,0.0,5804.0,482.0,0.0,0.0,2.0,0.0,0.0,0.0,0.0,3147.0,15.0,0.0,0.0,4.0,126.0,1317.0,0.0,5839.0,0.0,2252.0,0.0,0.0,4.0,0.0,0.0,0.0,0.0,0.0,0.0,74.0,0.0,0.0,0.0,0.0,1164.0,815.0,0.0,53.0,null,0.0,0.0,15.0,12.0,0.0,0.0,0.0,0.0,0.0,971.0,0.0,0.0,0.0,0.0,23.0,687.0,0.0,0.0,0.0,0.0,0.0,0.0,null,0.0,188.0,0.0,438.0,0.0,0.0,0.0,0.0,0.0,null,0.0,0.0,0.0,0.0,0.0,0.0,0.0,329.0,0.0,0.0,34.0,330.0,74.0,0.0,0.0,3235.0,12.0],\"xaxis\":\"x\",\"yaxis\":\"y\",\"type\":\"histogram\"}],                        {\"template\":{\"data\":{\"histogram2dcontour\":[{\"type\":\"histogram2dcontour\",\"colorbar\":{\"outlinewidth\":0,\"ticks\":\"\"},\"colorscale\":[[0.0,\"#0d0887\"],[0.1111111111111111,\"#46039f\"],[0.2222222222222222,\"#7201a8\"],[0.3333333333333333,\"#9c179e\"],[0.4444444444444444,\"#bd3786\"],[0.5555555555555556,\"#d8576b\"],[0.6666666666666666,\"#ed7953\"],[0.7777777777777778,\"#fb9f3a\"],[0.8888888888888888,\"#fdca26\"],[1.0,\"#f0f921\"]]}],\"choropleth\":[{\"type\":\"choropleth\",\"colorbar\":{\"outlinewidth\":0,\"ticks\":\"\"}}],\"histogram2d\":[{\"type\":\"histogram2d\",\"colorbar\":{\"outlinewidth\":0,\"ticks\":\"\"},\"colorscale\":[[0.0,\"#0d0887\"],[0.1111111111111111,\"#46039f\"],[0.2222222222222222,\"#7201a8\"],[0.3333333333333333,\"#9c179e\"],[0.4444444444444444,\"#bd3786\"],[0.5555555555555556,\"#d8576b\"],[0.6666666666666666,\"#ed7953\"],[0.7777777777777778,\"#fb9f3a\"],[0.8888888888888888,\"#fdca26\"],[1.0,\"#f0f921\"]]}],\"heatmap\":[{\"type\":\"heatmap\",\"colorbar\":{\"outlinewidth\":0,\"ticks\":\"\"},\"colorscale\":[[0.0,\"#0d0887\"],[0.1111111111111111,\"#46039f\"],[0.2222222222222222,\"#7201a8\"],[0.3333333333333333,\"#9c179e\"],[0.4444444444444444,\"#bd3786\"],[0.5555555555555556,\"#d8576b\"],[0.6666666666666666,\"#ed7953\"],[0.7777777777777778,\"#fb9f3a\"],[0.8888888888888888,\"#fdca26\"],[1.0,\"#f0f921\"]]}],\"heatmapgl\":[{\"type\":\"heatmapgl\",\"colorbar\":{\"outlinewidth\":0,\"ticks\":\"\"},\"colorscale\":[[0.0,\"#0d0887\"],[0.1111111111111111,\"#46039f\"],[0.2222222222222222,\"#7201a8\"],[0.3333333333333333,\"#9c179e\"],[0.4444444444444444,\"#bd3786\"],[0.5555555555555556,\"#d8576b\"],[0.6666666666666666,\"#ed7953\"],[0.7777777777777778,\"#fb9f3a\"],[0.8888888888888888,\"#fdca26\"],[1.0,\"#f0f921\"]]}],\"contourcarpet\":[{\"type\":\"contourcarpet\",\"colorbar\":{\"outlinewidth\":0,\"ticks\":\"\"}}],\"contour\":[{\"type\":\"contour\",\"colorbar\":{\"outlinewidth\":0,\"ticks\":\"\"},\"colorscale\":[[0.0,\"#0d0887\"],[0.1111111111111111,\"#46039f\"],[0.2222222222222222,\"#7201a8\"],[0.3333333333333333,\"#9c179e\"],[0.4444444444444444,\"#bd3786\"],[0.5555555555555556,\"#d8576b\"],[0.6666666666666666,\"#ed7953\"],[0.7777777777777778,\"#fb9f3a\"],[0.8888888888888888,\"#fdca26\"],[1.0,\"#f0f921\"]]}],\"surface\":[{\"type\":\"surface\",\"colorbar\":{\"outlinewidth\":0,\"ticks\":\"\"},\"colorscale\":[[0.0,\"#0d0887\"],[0.1111111111111111,\"#46039f\"],[0.2222222222222222,\"#7201a8\"],[0.3333333333333333,\"#9c179e\"],[0.4444444444444444,\"#bd3786\"],[0.5555555555555556,\"#d8576b\"],[0.6666666666666666,\"#ed7953\"],[0.7777777777777778,\"#fb9f3a\"],[0.8888888888888888,\"#fdca26\"],[1.0,\"#f0f921\"]]}],\"mesh3d\":[{\"type\":\"mesh3d\",\"colorbar\":{\"outlinewidth\":0,\"ticks\":\"\"}}],\"scatter\":[{\"fillpattern\":{\"fillmode\":\"overlay\",\"size\":10,\"solidity\":0.2},\"type\":\"scatter\"}],\"parcoords\":[{\"type\":\"parcoords\",\"line\":{\"colorbar\":{\"outlinewidth\":0,\"ticks\":\"\"}}}],\"scatterpolargl\":[{\"type\":\"scatterpolargl\",\"marker\":{\"colorbar\":{\"outlinewidth\":0,\"ticks\":\"\"}}}],\"bar\":[{\"error_x\":{\"color\":\"#2a3f5f\"},\"error_y\":{\"color\":\"#2a3f5f\"},\"marker\":{\"line\":{\"color\":\"#E5ECF6\",\"width\":0.5},\"pattern\":{\"fillmode\":\"overlay\",\"size\":10,\"solidity\":0.2}},\"type\":\"bar\"}],\"scattergeo\":[{\"type\":\"scattergeo\",\"marker\":{\"colorbar\":{\"outlinewidth\":0,\"ticks\":\"\"}}}],\"scatterpolar\":[{\"type\":\"scatterpolar\",\"marker\":{\"colorbar\":{\"outlinewidth\":0,\"ticks\":\"\"}}}],\"histogram\":[{\"marker\":{\"pattern\":{\"fillmode\":\"overlay\",\"size\":10,\"solidity\":0.2}},\"type\":\"histogram\"}],\"scattergl\":[{\"type\":\"scattergl\",\"marker\":{\"colorbar\":{\"outlinewidth\":0,\"ticks\":\"\"}}}],\"scatter3d\":[{\"type\":\"scatter3d\",\"line\":{\"colorbar\":{\"outlinewidth\":0,\"ticks\":\"\"}},\"marker\":{\"colorbar\":{\"outlinewidth\":0,\"ticks\":\"\"}}}],\"scattermapbox\":[{\"type\":\"scattermapbox\",\"marker\":{\"colorbar\":{\"outlinewidth\":0,\"ticks\":\"\"}}}],\"scatterternary\":[{\"type\":\"scatterternary\",\"marker\":{\"colorbar\":{\"outlinewidth\":0,\"ticks\":\"\"}}}],\"scattercarpet\":[{\"type\":\"scattercarpet\",\"marker\":{\"colorbar\":{\"outlinewidth\":0,\"ticks\":\"\"}}}],\"carpet\":[{\"aaxis\":{\"endlinecolor\":\"#2a3f5f\",\"gridcolor\":\"white\",\"linecolor\":\"white\",\"minorgridcolor\":\"white\",\"startlinecolor\":\"#2a3f5f\"},\"baxis\":{\"endlinecolor\":\"#2a3f5f\",\"gridcolor\":\"white\",\"linecolor\":\"white\",\"minorgridcolor\":\"white\",\"startlinecolor\":\"#2a3f5f\"},\"type\":\"carpet\"}],\"table\":[{\"cells\":{\"fill\":{\"color\":\"#EBF0F8\"},\"line\":{\"color\":\"white\"}},\"header\":{\"fill\":{\"color\":\"#C8D4E3\"},\"line\":{\"color\":\"white\"}},\"type\":\"table\"}],\"barpolar\":[{\"marker\":{\"line\":{\"color\":\"#E5ECF6\",\"width\":0.5},\"pattern\":{\"fillmode\":\"overlay\",\"size\":10,\"solidity\":0.2}},\"type\":\"barpolar\"}],\"pie\":[{\"automargin\":true,\"type\":\"pie\"}]},\"layout\":{\"autotypenumbers\":\"strict\",\"colorway\":[\"#636efa\",\"#EF553B\",\"#00cc96\",\"#ab63fa\",\"#FFA15A\",\"#19d3f3\",\"#FF6692\",\"#B6E880\",\"#FF97FF\",\"#FECB52\"],\"font\":{\"color\":\"#2a3f5f\"},\"hovermode\":\"closest\",\"hoverlabel\":{\"align\":\"left\"},\"paper_bgcolor\":\"white\",\"plot_bgcolor\":\"#E5ECF6\",\"polar\":{\"bgcolor\":\"#E5ECF6\",\"angularaxis\":{\"gridcolor\":\"white\",\"linecolor\":\"white\",\"ticks\":\"\"},\"radialaxis\":{\"gridcolor\":\"white\",\"linecolor\":\"white\",\"ticks\":\"\"}},\"ternary\":{\"bgcolor\":\"#E5ECF6\",\"aaxis\":{\"gridcolor\":\"white\",\"linecolor\":\"white\",\"ticks\":\"\"},\"baxis\":{\"gridcolor\":\"white\",\"linecolor\":\"white\",\"ticks\":\"\"},\"caxis\":{\"gridcolor\":\"white\",\"linecolor\":\"white\",\"ticks\":\"\"}},\"coloraxis\":{\"colorbar\":{\"outlinewidth\":0,\"ticks\":\"\"}},\"colorscale\":{\"sequential\":[[0.0,\"#0d0887\"],[0.1111111111111111,\"#46039f\"],[0.2222222222222222,\"#7201a8\"],[0.3333333333333333,\"#9c179e\"],[0.4444444444444444,\"#bd3786\"],[0.5555555555555556,\"#d8576b\"],[0.6666666666666666,\"#ed7953\"],[0.7777777777777778,\"#fb9f3a\"],[0.8888888888888888,\"#fdca26\"],[1.0,\"#f0f921\"]],\"sequentialminus\":[[0.0,\"#0d0887\"],[0.1111111111111111,\"#46039f\"],[0.2222222222222222,\"#7201a8\"],[0.3333333333333333,\"#9c179e\"],[0.4444444444444444,\"#bd3786\"],[0.5555555555555556,\"#d8576b\"],[0.6666666666666666,\"#ed7953\"],[0.7777777777777778,\"#fb9f3a\"],[0.8888888888888888,\"#fdca26\"],[1.0,\"#f0f921\"]],\"diverging\":[[0,\"#8e0152\"],[0.1,\"#c51b7d\"],[0.2,\"#de77ae\"],[0.3,\"#f1b6da\"],[0.4,\"#fde0ef\"],[0.5,\"#f7f7f7\"],[0.6,\"#e6f5d0\"],[0.7,\"#b8e186\"],[0.8,\"#7fbc41\"],[0.9,\"#4d9221\"],[1,\"#276419\"]]},\"xaxis\":{\"gridcolor\":\"white\",\"linecolor\":\"white\",\"ticks\":\"\",\"title\":{\"standoff\":15},\"zerolinecolor\":\"white\",\"automargin\":true,\"zerolinewidth\":2},\"yaxis\":{\"gridcolor\":\"white\",\"linecolor\":\"white\",\"ticks\":\"\",\"title\":{\"standoff\":15},\"zerolinecolor\":\"white\",\"automargin\":true,\"zerolinewidth\":2},\"scene\":{\"xaxis\":{\"backgroundcolor\":\"#E5ECF6\",\"gridcolor\":\"white\",\"linecolor\":\"white\",\"showbackground\":true,\"ticks\":\"\",\"zerolinecolor\":\"white\",\"gridwidth\":2},\"yaxis\":{\"backgroundcolor\":\"#E5ECF6\",\"gridcolor\":\"white\",\"linecolor\":\"white\",\"showbackground\":true,\"ticks\":\"\",\"zerolinecolor\":\"white\",\"gridwidth\":2},\"zaxis\":{\"backgroundcolor\":\"#E5ECF6\",\"gridcolor\":\"white\",\"linecolor\":\"white\",\"showbackground\":true,\"ticks\":\"\",\"zerolinecolor\":\"white\",\"gridwidth\":2}},\"shapedefaults\":{\"line\":{\"color\":\"#2a3f5f\"}},\"annotationdefaults\":{\"arrowcolor\":\"#2a3f5f\",\"arrowhead\":0,\"arrowwidth\":1},\"geo\":{\"bgcolor\":\"white\",\"landcolor\":\"#E5ECF6\",\"subunitcolor\":\"white\",\"showland\":true,\"showlakes\":true,\"lakecolor\":\"white\"},\"title\":{\"x\":0.05},\"mapbox\":{\"style\":\"light\"}}},\"xaxis\":{\"anchor\":\"y\",\"domain\":[0.0,1.0],\"title\":{\"text\":\"VRDeck\"}},\"yaxis\":{\"anchor\":\"x\",\"domain\":[0.0,1.0],\"title\":{\"text\":\"Frequency\"}},\"legend\":{\"tracegroupgap\":0},\"margin\":{\"t\":60},\"barmode\":\"relative\",\"title\":{\"text\":\"Histogram of VRDeck\"}},                        {\"responsive\": true}                    ).then(function(){\n",
       "                            \n",
       "var gd = document.getElementById('ef8bed63-46c7-4d39-a716-4805d7bb8d79');\n",
       "var x = new MutationObserver(function (mutations, observer) {{\n",
       "        var display = window.getComputedStyle(gd).display;\n",
       "        if (!display || display === 'none') {{\n",
       "            console.log([gd, 'removed!']);\n",
       "            Plotly.purge(gd);\n",
       "            observer.disconnect();\n",
       "        }}\n",
       "}});\n",
       "\n",
       "// Listen for the removal of the full notebook cells\n",
       "var notebookContainer = gd.closest('#notebook-container');\n",
       "if (notebookContainer) {{\n",
       "    x.observe(notebookContainer, {childList: true});\n",
       "}}\n",
       "\n",
       "// Listen for the clearing of the current output cell\n",
       "var outputEl = gd.closest('.output');\n",
       "if (outputEl) {{\n",
       "    x.observe(outputEl, {childList: true});\n",
       "}}\n",
       "\n",
       "                        })                };                            </script>        </div>\n",
       "</body>\n",
       "</html>"
      ]
     },
     "metadata": {},
     "output_type": "display_data"
    }
   ],
   "source": [
    "# Differentiate between continuous & discrete\n",
    "for feature in numerical_features:\n",
    "\n",
    "    # Plot a histogram\n",
    "    fig = px.histogram(df, x=feature, nbins=30)\n",
    "    fig.update_layout(\n",
    "        title=f\"Histogram of {feature}\",\n",
    "        xaxis_title=feature,\n",
    "        yaxis_title=\"Frequency\",\n",
    "    )\n",
    "    fig.show()"
   ]
  },
  {
   "cell_type": "markdown",
   "id": "5db0c48f",
   "metadata": {
    "id": "7mK3xU2LkAkh",
    "papermill": {
     "duration": 0.031972,
     "end_time": "2025-01-18T04:37:32.389014",
     "exception": false,
     "start_time": "2025-01-18T04:37:32.357042",
     "status": "completed"
    },
    "tags": []
   },
   "source": [
    "In this scenario, we are working with continuous data, and our primary concern is selecting an appropriate imputation technique. Since mode imputation is unsuitable for continuous data, we are left with two viable options: **mean imputation** or **median imputation**.\n",
    "\n",
    "The choice between these two methods depends on the distribution of the data:\n",
    "- **Mean Imputation**: Preferred when the data is symmetrically distributed, as it minimizes distortion in the central tendency.\n",
    "- **Median Imputation**: More robust for skewed distributions, as it is less affected by outliers.\n",
    "\n",
    "Careful consideration of the data's characteristics is essential to ensure the chosen imputation method preserves the integrity and statistical properties of the dataset.\n",
    "\n",
    "---\n",
    "\n",
    "In this case, the only feature that is roughly symetrically distributed \"Age\", so we will use mean imputation for \"Age\" and median imputation for others."
   ]
  },
  {
   "cell_type": "code",
   "execution_count": 10,
   "id": "6a212527",
   "metadata": {
    "execution": {
     "iopub.execute_input": "2025-01-18T04:37:32.451281Z",
     "iopub.status.busy": "2025-01-18T04:37:32.450898Z",
     "iopub.status.idle": "2025-01-18T04:37:32.460198Z",
     "shell.execute_reply": "2025-01-18T04:37:32.459190Z"
    },
    "id": "MTyxBDiDkAYy",
    "papermill": {
     "duration": 0.042406,
     "end_time": "2025-01-18T04:37:32.462027",
     "exception": false,
     "start_time": "2025-01-18T04:37:32.419621",
     "status": "completed"
    },
    "tags": []
   },
   "outputs": [],
   "source": [
    "# Copy the original data\n",
    "df_copy = df.copy()\n",
    "\n",
    "# Mean Imputation\n",
    "df_copy[\"Age\"] = df_copy[\"Age\"].fillna(df_copy[\"Age\"].mean())\n",
    "\n",
    "# Median Imputation\n",
    "for feature in numerical_features[1:]:\n",
    "    df_copy[feature] = df_copy[feature].fillna(df_copy[feature].median())"
   ]
  },
  {
   "cell_type": "code",
   "execution_count": 11,
   "id": "fb1147ca",
   "metadata": {
    "execution": {
     "iopub.execute_input": "2025-01-18T04:37:32.525373Z",
     "iopub.status.busy": "2025-01-18T04:37:32.524968Z",
     "iopub.status.idle": "2025-01-18T04:37:32.534970Z",
     "shell.execute_reply": "2025-01-18T04:37:32.534050Z"
    },
    "id": "VINBJZRElPJ0",
    "outputId": "1fadfd8f-e7d4-4821-ece7-3e270fa7d8dd",
    "papermill": {
     "duration": 0.043504,
     "end_time": "2025-01-18T04:37:32.536596",
     "exception": false,
     "start_time": "2025-01-18T04:37:32.493092",
     "status": "completed"
    },
    "tags": []
   },
   "outputs": [
    {
     "data": {
      "text/plain": [
       "HomePlanet      201\n",
       "CryoSleep       217\n",
       "Destination     182\n",
       "Age               0\n",
       "VIP             203\n",
       "RoomService       0\n",
       "FoodCourt         0\n",
       "ShoppingMall      0\n",
       "Spa               0\n",
       "VRDeck            0\n",
       "dtype: int64"
      ]
     },
     "execution_count": 11,
     "metadata": {},
     "output_type": "execute_result"
    }
   ],
   "source": [
    "# Check again for null values\n",
    "df_copy.isnull().sum()"
   ]
  },
  {
   "cell_type": "markdown",
   "id": "7f5e4faa",
   "metadata": {
    "id": "WNKQhOcJmPtp",
    "papermill": {
     "duration": 0.030294,
     "end_time": "2025-01-18T04:37:32.597648",
     "exception": false,
     "start_time": "2025-01-18T04:37:32.567354",
     "status": "completed"
    },
    "tags": []
   },
   "source": [
    "#### **Categorical Data - Mode Imputation**"
   ]
  },
  {
   "cell_type": "markdown",
   "id": "0d825719",
   "metadata": {
    "id": "RWMUyVFZle2N",
    "papermill": {
     "duration": 0.03018,
     "end_time": "2025-01-18T04:37:32.658325",
     "exception": false,
     "start_time": "2025-01-18T04:37:32.628145",
     "status": "completed"
    },
    "tags": []
   },
   "source": [
    "We still need to address the missing values in the categorical data. For categorical variables, we have two practical imputation options:\n",
    "\n",
    "1. **Create a New \"Missing\" Category**: Introduce a new category (e.g., \"Missing\" or \"Unknown\") to explicitly represent the missing values. This approach is particularly useful when the absence of data itself carries meaningful information.\n",
    "\n",
    "2. **Mode Imputation**: Replace missing values with the most frequently occurring category (mode) in the dataset. This method is effective when the missingness is likely random and does not hold significant contextual meaning.\n",
    "\n",
    "The choice between these methods should be guided by the context of the dataset and the potential impact on downstream analyses.\n",
    "\n",
    "\n",
    "---\n",
    "\n",
    "When the missing data constitutes only **2% per categorical feature**, the proportion of missingness is relatively low. In such cases, **mode imputation** is generally the preferred choice because:\n",
    "\n",
    "- It is straightforward and does not introduce an entirely new category, which might not hold any real significance given the small percentage of missing values.\n",
    "- It minimizes potential distortion while maintaining the dataset's statistical properties.\n",
    "\n",
    "However, if the missing values could carry some implicit meaning (e.g., \"Unknown\" or \"Not Provided\"), creating a new \"Missing\" category could also be considered. For a 2% missing rate, mode imputation is typically sufficient and more practical unless domain knowledge suggests otherwise."
   ]
  },
  {
   "cell_type": "code",
   "execution_count": 12,
   "id": "bbb1c31f",
   "metadata": {
    "execution": {
     "iopub.execute_input": "2025-01-18T04:37:32.722253Z",
     "iopub.status.busy": "2025-01-18T04:37:32.721867Z",
     "iopub.status.idle": "2025-01-18T04:37:32.726829Z",
     "shell.execute_reply": "2025-01-18T04:37:32.725634Z"
    },
    "id": "O7_mE9OnSkEV",
    "outputId": "4e3da353-b057-49b2-fd0e-7930f313dac8",
    "papermill": {
     "duration": 0.039328,
     "end_time": "2025-01-18T04:37:32.728487",
     "exception": false,
     "start_time": "2025-01-18T04:37:32.689159",
     "status": "completed"
    },
    "tags": []
   },
   "outputs": [
    {
     "name": "stdout",
     "output_type": "stream",
     "text": [
      "Categorical Features: ['HomePlanet', 'CryoSleep', 'Destination', 'VIP']\n"
     ]
    }
   ],
   "source": [
    "print(f\"Categorical Features: {list(categorical_features)}\")"
   ]
  },
  {
   "cell_type": "code",
   "execution_count": 13,
   "id": "c783d325",
   "metadata": {
    "execution": {
     "iopub.execute_input": "2025-01-18T04:37:32.791328Z",
     "iopub.status.busy": "2025-01-18T04:37:32.790946Z",
     "iopub.status.idle": "2025-01-18T04:37:32.806260Z",
     "shell.execute_reply": "2025-01-18T04:37:32.805183Z"
    },
    "id": "DV-IMyhJlPHN",
    "papermill": {
     "duration": 0.048844,
     "end_time": "2025-01-18T04:37:32.808059",
     "exception": false,
     "start_time": "2025-01-18T04:37:32.759215",
     "status": "completed"
    },
    "tags": []
   },
   "outputs": [],
   "source": [
    "# Model imputation for categorical data\n",
    "for feature in categorical_features:\n",
    "    df_copy[feature] = df_copy[feature].fillna(df_copy[feature].mode()[0])"
   ]
  },
  {
   "cell_type": "code",
   "execution_count": 14,
   "id": "0980b170",
   "metadata": {
    "execution": {
     "iopub.execute_input": "2025-01-18T04:37:32.872723Z",
     "iopub.status.busy": "2025-01-18T04:37:32.872342Z",
     "iopub.status.idle": "2025-01-18T04:37:32.882133Z",
     "shell.execute_reply": "2025-01-18T04:37:32.881086Z"
    },
    "id": "jlKT3T21lPEe",
    "outputId": "54b8da3b-e46b-4148-e616-36acb7b41bf2",
    "papermill": {
     "duration": 0.044007,
     "end_time": "2025-01-18T04:37:32.883738",
     "exception": false,
     "start_time": "2025-01-18T04:37:32.839731",
     "status": "completed"
    },
    "tags": []
   },
   "outputs": [
    {
     "data": {
      "text/plain": [
       "HomePlanet      0\n",
       "CryoSleep       0\n",
       "Destination     0\n",
       "Age             0\n",
       "VIP             0\n",
       "RoomService     0\n",
       "FoodCourt       0\n",
       "ShoppingMall    0\n",
       "Spa             0\n",
       "VRDeck          0\n",
       "dtype: int64"
      ]
     },
     "execution_count": 14,
     "metadata": {},
     "output_type": "execute_result"
    }
   ],
   "source": [
    "# Check for confirmation\n",
    "df_copy.isnull().sum()"
   ]
  },
  {
   "cell_type": "markdown",
   "id": "8a111879",
   "metadata": {
    "id": "IsyQJ-4uh9p5",
    "papermill": {
     "duration": 0.034391,
     "end_time": "2025-01-18T04:37:32.949784",
     "exception": false,
     "start_time": "2025-01-18T04:37:32.915393",
     "status": "completed"
    },
    "tags": []
   },
   "source": [
    "### **Do Nothing (When Missing Data Is Ignored)**\n",
    "\n",
    "- Some machine learning algorithms (e.g., tree-based models like Random Forests or XGBoost) can handle missing values internally.\n",
    "- **When to Use**:\n",
    "  - When your algorithm supports missing values.\n",
    "  - When missing values are a feature of the dataset (e.g., \"absence\" is meaningful).\n"
   ]
  },
  {
   "cell_type": "markdown",
   "id": "e7759b12",
   "metadata": {
    "id": "jvfwIV3jWbXY",
    "papermill": {
     "duration": 0.030977,
     "end_time": "2025-01-18T04:37:33.012312",
     "exception": false,
     "start_time": "2025-01-18T04:37:32.981335",
     "status": "completed"
    },
    "tags": []
   },
   "source": [
    "## **Final Words**"
   ]
  },
  {
   "cell_type": "markdown",
   "id": "ae5856fa",
   "metadata": {
    "id": "y9wn3YScYlED",
    "papermill": {
     "duration": 0.032659,
     "end_time": "2025-01-18T04:37:33.076587",
     "exception": false,
     "start_time": "2025-01-18T04:37:33.043928",
     "status": "completed"
    },
    "tags": []
   },
   "source": [
    "\n",
    "Missing Completely At Random (MCAR) means the missing data is unrelated to any observed or unobserved values—it might have been lost due to collection process issues, errors in collection instruments, or external factors. Since there's no bias or pattern causing the missing data, it can be easily imputed using simple techniques like median or mode imputation. Advanced imputation methods aren't necessary for MCAR data, as simpler methods suffice.\n",
    "\n",
    "For Missing At Random (MAR) data, the missingness is related to other observed variables. This makes it more complex to handle, and advanced imputation techniques like K-Nearest Neighbor (KNN) or Multiple Imputation are often needed. While these techniques can also be used for MCAR data, their impact isn't as significant, so it's more efficient to stick with basic methods. Mean imputation is generally not recommended as it might introduce bias. Instead, focus on median or mode imputation.\n"
   ]
  },
  {
   "cell_type": "markdown",
   "id": "65869c01",
   "metadata": {
    "id": "q0U7an0FZLZw",
    "papermill": {
     "duration": 0.031716,
     "end_time": "2025-01-18T04:37:33.139291",
     "exception": false,
     "start_time": "2025-01-18T04:37:33.107575",
     "status": "completed"
    },
    "tags": []
   },
   "source": [
    "# **MAR**"
   ]
  },
  {
   "cell_type": "markdown",
   "id": "5808db99",
   "metadata": {
    "id": "diRDLUlVZael",
    "papermill": {
     "duration": 0.030425,
     "end_time": "2025-01-18T04:37:33.203877",
     "exception": false,
     "start_time": "2025-01-18T04:37:33.173452",
     "status": "completed"
    },
    "tags": []
   },
   "source": [
    "For explaination refer introduction."
   ]
  },
  {
   "cell_type": "markdown",
   "id": "76a3a147",
   "metadata": {
    "id": "Q9d7gk_kZb1M",
    "papermill": {
     "duration": 0.03055,
     "end_time": "2025-01-18T04:37:33.266354",
     "exception": false,
     "start_time": "2025-01-18T04:37:33.235804",
     "status": "completed"
    },
    "tags": []
   },
   "source": [
    "## **Detecting MAR Data**"
   ]
  },
  {
   "cell_type": "markdown",
   "id": "30607793",
   "metadata": {
    "id": "naTImowJcjqr",
    "papermill": {
     "duration": 0.030811,
     "end_time": "2025-01-18T04:37:33.328293",
     "exception": false,
     "start_time": "2025-01-18T04:37:33.297482",
     "status": "completed"
    },
    "tags": []
   },
   "source": [
    "> **Rule of Thumb**:  \n",
    "\n",
    "\"Assume **Missing at Random (MAR)** over **Missing Completely at Random (MCAR)** when analyzing data, as any analysis valid under the MCAR assumption will also hold under MAR, but the reverse is not true.\"  "
   ]
  },
  {
   "cell_type": "markdown",
   "id": "eb95dd10",
   "metadata": {
    "id": "W9EED_cwcoLN",
    "papermill": {
     "duration": 0.031223,
     "end_time": "2025-01-18T04:37:33.390598",
     "exception": false,
     "start_time": "2025-01-18T04:37:33.359375",
     "status": "completed"
    },
    "tags": []
   },
   "source": [
    "---\n",
    "\n",
    "When dealing with a dataset with missing values, a general rule of thumb is to consider them as Missing At Random (MAR) since this is more likely. The techniques used for MAR are also valid for Missing Completely At Random (MCAR), so there's no issue in this assumption. However, in some cases, we can visually detect MAR data using visualization techniques. Let's create some synthetic data to explore this further.\n"
   ]
  },
  {
   "cell_type": "code",
   "execution_count": 15,
   "id": "a05f3ad3",
   "metadata": {
    "execution": {
     "iopub.execute_input": "2025-01-18T04:37:33.453386Z",
     "iopub.status.busy": "2025-01-18T04:37:33.453004Z",
     "iopub.status.idle": "2025-01-18T04:37:33.874458Z",
     "shell.execute_reply": "2025-01-18T04:37:33.873435Z"
    },
    "id": "wMIPWwe0bgJS",
    "outputId": "0dc42dbd-9f49-49c6-c0fd-fb64955833cd",
    "papermill": {
     "duration": 0.454532,
     "end_time": "2025-01-18T04:37:33.875953",
     "exception": false,
     "start_time": "2025-01-18T04:37:33.421421",
     "status": "completed"
    },
    "tags": []
   },
   "outputs": [
    {
     "data": {
      "image/png": "[encoded data removed]",
      "text/plain": [
       "<Figure size 2500x1000 with 2 Axes>"
      ]
     },
     "metadata": {},
     "output_type": "display_data"
    }
   ],
   "source": [
    "# Generate a synthetic dataset with 100 rows and 5 columns\n",
    "data = {\n",
    "    \"Feature1\": np.random.randint(10, 100, 100),\n",
    "    \"Feature2\": np.random.uniform(1.0, 10.0, 100),\n",
    "    \"Feature3\": np.random.choice([\"A\", \"B\", \"C\", \"D\"], 100),\n",
    "    \"Feature4\": np.random.normal(50, 15, 100),\n",
    "    \"Feature5\": np.random.randint(0, 2, 100),\n",
    "}\n",
    "\n",
    "# Convert to a DataFrame\n",
    "fake_df = pd.DataFrame(data)\n",
    "\n",
    "# Introduce missing values completely at random (MCAR)\n",
    "# Choose 10% of the data (randomly selected) to set as NaN\n",
    "missing_fraction = 0.1\n",
    "num_missing = int(np.floor(missing_fraction * fake_df.size))\n",
    "\n",
    "# Randomly select indices in the dataset to be missing\n",
    "missing_indices = [\n",
    "    (row, col)\n",
    "    for row in np.random.choice(fake_df.index, num_missing)\n",
    "    for col in np.random.choice(fake_df.columns, 1)\n",
    "]\n",
    "\n",
    "# Set the selected indices to NaN\n",
    "for row, col in missing_indices:\n",
    "    fake_df.loc[row, col] = np.nan\n",
    "\n",
    "# Check for MAR via MNO\n",
    "msno.matrix(fake_df)\n",
    "plt.show()"
   ]
  },
  {
   "cell_type": "markdown",
   "id": "55161c38",
   "metadata": {
    "id": "aGAVCwmLc9k3",
    "papermill": {
     "duration": 0.031849,
     "end_time": "2025-01-18T04:37:33.940886",
     "exception": false,
     "start_time": "2025-01-18T04:37:33.909037",
     "status": "completed"
    },
    "tags": []
   },
   "source": [
    "\n",
    "In this visualization, we can clearly observe that the missing values tend to be grouped together, with high density areas indicating multiple missing values at the same locations. This suggests that the data may not be Missing Completely At Random (MCAR), but rather Missing At Random (MAR). When you notice these clustered patterns in the heatmap or the `missingno` matrix, it indicates MAR, suggesting the need for advanced imputation techniques to handle this data.\n"
   ]
  },
  {
   "cell_type": "code",
   "execution_count": 16,
   "id": "86970774",
   "metadata": {
    "execution": {
     "iopub.execute_input": "2025-01-18T04:37:34.006434Z",
     "iopub.status.busy": "2025-01-18T04:37:34.006056Z",
     "iopub.status.idle": "2025-01-18T04:37:34.049852Z",
     "shell.execute_reply": "2025-01-18T04:37:34.048508Z"
    },
    "id": "TKXbgDLRZbrs",
    "outputId": "9f72d31d-ab4b-45fd-e3b1-a163ef16b8d3",
    "papermill": {
     "duration": 0.078722,
     "end_time": "2025-01-18T04:37:34.051683",
     "exception": false,
     "start_time": "2025-01-18T04:37:33.972961",
     "status": "completed"
    },
    "tags": []
   },
   "outputs": [
    {
     "name": "stdout",
     "output_type": "stream",
     "text": [
      "P-value: 0.13899725852046707\n",
      "Fail to reject the null hypothesis: The missing data is likely MCAR.\n"
     ]
    }
   ],
   "source": [
    "# Select only numerical features\n",
    "fake_df_nums = fake_df.select_dtypes(include=[np.number])\n",
    "\n",
    "# Initialize the MCAR test\n",
    "mt = MCARTest(method=\"little\")\n",
    "\n",
    "# Check for MCAR Value\n",
    "p_value = mt.little_mcar_test(fake_df_nums)\n",
    "\n",
    "# Null Hypothesis: Missing data is MCAR\n",
    "alpha = 0.05                    # Significance level\n",
    "print(f\"P-value: {p_value}\")\n",
    "\n",
    "if p_value > alpha:\n",
    "    print(\"Fail to reject the null hypothesis: The missing data is likely MCAR.\")\n",
    "else:\n",
    "    print(\"Reject the null hypothesis: The missing data is NOT MCAR (it may be MAR or MNAR).\")"
   ]
  },
  {
   "cell_type": "markdown",
   "id": "9b88f1e8",
   "metadata": {
    "id": "04BA59bEiV4d",
    "papermill": {
     "duration": 0.031833,
     "end_time": "2025-01-18T04:37:34.116905",
     "exception": false,
     "start_time": "2025-01-18T04:37:34.085072",
     "status": "completed"
    },
    "tags": []
   },
   "source": [
    "In this case, the p-value is approximately 0.14. Since this is higher than the 0.05 threshold, we fail to reject the null hypothesis, indicating the data is likely Missing Completely At Random (MCAR). Note that the p-value here is lower than previously seen values, so it's not a strict threshold.\n",
    "\n",
    "However, if the p-value is around 0.1, you might consider that the data could potentially be Missing At Random (MAR) instead of MCAR. This is not an exact rule but can still be useful. While there's no specific statistical test for MAR, this approach can provide additional insights alongside general rules of thumb.\n",
    "\n",
    "**Remember, there isn't a specific statistical test to confirm MAR, so combining these insights with visualization techniques and correlation analysis can provide a more comprehensive understanding.**"
   ]
  },
  {
   "cell_type": "markdown",
   "id": "3dfdf85d",
   "metadata": {
    "id": "h9DmTntvecHJ",
    "papermill": {
     "duration": 0.033001,
     "end_time": "2025-01-18T04:37:34.181951",
     "exception": false,
     "start_time": "2025-01-18T04:37:34.148950",
     "status": "completed"
    },
    "tags": []
   },
   "source": [
    "# **Hot Deck Imputation**"
   ]
  },
  {
   "cell_type": "markdown",
   "id": "574dced9",
   "metadata": {
    "id": "e5RgYeaejKMs",
    "papermill": {
     "duration": 0.03305,
     "end_time": "2025-01-18T04:37:34.247653",
     "exception": false,
     "start_time": "2025-01-18T04:37:34.214603",
     "status": "completed"
    },
    "tags": []
   },
   "source": [
    "Hot Deck Imputation is a technique used to handle missing data by filling in the missing values with observed values from similar records within the dataset. The basic idea is to \"borrow\" information from \"donor\" records that have similar characteristics to the \"recipient\" records with missing values. It can provide more accurate imputations compared to simple methods like mean imputation by preserving the variability and structure of the data.\n",
    "\n",
    "Types of Hot Deck Imputation:\n",
    "\n",
    "1. **Random Hot Deck Imputation:**\n",
    "   - The missing value is filled with a randomly selected observed value from similar records (i.e., donor records).\n",
    "   - It ensures that the imputed values reflect the variability in the data.\n",
    "\n",
    "2. **Deterministic Hot Deck Imputation:**\n",
    "   - Involves systematic methods like carrying forward or backward the last observed value, or using specific rules to select donor values.\n",
    "   - **Forward Fill:** Fills missing values with the last observed value.\n",
    "   - **Backward Fill:** Fills missing values with the next observed value.\n",
    "   - **K-Nearest Neighbors (KNN):** Uses the values of the k-most similar records to impute the missing value.\n",
    "   - **Linear Regression:** Imputes missing values by predicting them based on a linear relationship with other variables.\n",
    "\n",
    "Advantages:\n",
    "\n",
    "- **Preserves Data Structure:** Maintains the distribution and relationships within the data.\n",
    "- **Versatility:** Can be applied to both categorical and continuous data.\n",
    "- **Flexibility:** Allows for the use of various methods to find donor values, depending on the data and context.\n",
    "\n",
    "Disadvantages:\n",
    "\n",
    "- **Potential Bias:** If the selection of donor records is not representative, it may introduce bias.\n",
    "- **Computationally Intensive:** More complex methods like KNN can be computationally demanding.\n",
    "- **Data Dependency:** Relies heavily on the availability of similar donor records with complete data.\n",
    "\n",
    "Steps in Hot Deck Imputation:\n",
    "\n",
    "1. **Identify Similar Records:** Find records in the dataset that are similar to the one with missing values.\n",
    "2. **Select Donor Values:** Choose a donor value from these similar records, either randomly or based on a specific rule.\n",
    "3. **Impute Missing Values:** Replace the missing value with the selected donor value."
   ]
  },
  {
   "cell_type": "markdown",
   "id": "0ad760f9",
   "metadata": {
    "id": "tJtPRdJOgPIk",
    "papermill": {
     "duration": 0.032056,
     "end_time": "2025-01-18T04:37:34.312696",
     "exception": false,
     "start_time": "2025-01-18T04:37:34.280640",
     "status": "completed"
    },
    "tags": []
   },
   "source": [
    "## **Random Hot-Deck Imputation**"
   ]
  },
  {
   "cell_type": "markdown",
   "id": "6123cab8",
   "metadata": {
    "id": "w_zPudYzrS5w",
    "papermill": {
     "duration": 0.031672,
     "end_time": "2025-01-18T04:37:34.376801",
     "exception": false,
     "start_time": "2025-01-18T04:37:34.345129",
     "status": "completed"
    },
    "tags": []
   },
   "source": [
    "Random hot deck imputation operates on a **per-feature basis**, aligning with its design and definition. Unlike methods such as deletion, which can be applied across both rows and columns, hot deck imputation specifically targets individual features for imputing missing values.\n",
    "\n",
    "The process involves partitioning the data into two groups:\n",
    "1. **Donor Pool**: A subset of observed (non-missing) values within the feature, which serve as the source for imputation.\n",
    "2. **Recipient Values**: The missing values in the feature that require imputation.\n",
    "\n",
    "For each missing value, a random **donor value** is sampled from the observed donor pool and used to replace the missing entry. This iterative process continues until all missing values in the feature are imputed, leveraging randomness to preserve variability while maintaining the feature's statistical properties."
   ]
  },
  {
   "cell_type": "code",
   "execution_count": 17,
   "id": "bd2020bd",
   "metadata": {
    "execution": {
     "iopub.execute_input": "2025-01-18T04:37:34.442044Z",
     "iopub.status.busy": "2025-01-18T04:37:34.441669Z",
     "iopub.status.idle": "2025-01-18T04:37:34.446926Z",
     "shell.execute_reply": "2025-01-18T04:37:34.445920Z"
    },
    "id": "4ICiaFd8j-LP",
    "papermill": {
     "duration": 0.039773,
     "end_time": "2025-01-18T04:37:34.448652",
     "exception": false,
     "start_time": "2025-01-18T04:37:34.408879",
     "status": "completed"
    },
    "tags": []
   },
   "outputs": [],
   "source": [
    "def random_hot_deck_imputation(data_frame, feature):\n",
    "\n",
    "    # Create a copy of the original df\n",
    "    data_frame = data_frame.copy()\n",
    "\n",
    "    # Select the Observed Values / Donors\n",
    "    donor_pool = data_frame[data_frame[feature].notnull()][feature]\n",
    "\n",
    "    # Select the Missing Values / Recipients\n",
    "    missing_values = data_frame[data_frame[feature].isnull()][feature]\n",
    "\n",
    "    # Loop over each missing value\n",
    "    for i in missing_values.index:\n",
    "\n",
    "        # Randomly select a donor value from the donor pool\n",
    "        donor_value = np.random.choice(donor_pool)\n",
    "\n",
    "        # Replace the missing value with the randomly selected donor value\n",
    "        data_frame.loc[i, feature] = donor_value\n",
    "\n",
    "    return data_frame"
   ]
  },
  {
   "cell_type": "code",
   "execution_count": 18,
   "id": "9466028b",
   "metadata": {
    "execution": {
     "iopub.execute_input": "2025-01-18T04:37:34.514644Z",
     "iopub.status.busy": "2025-01-18T04:37:34.514285Z",
     "iopub.status.idle": "2025-01-18T04:37:34.529440Z",
     "shell.execute_reply": "2025-01-18T04:37:34.528318Z"
    },
    "id": "R114x7w_sEgd",
    "outputId": "3407d341-89dd-4151-aab6-2002a0965699",
    "papermill": {
     "duration": 0.049712,
     "end_time": "2025-01-18T04:37:34.531015",
     "exception": false,
     "start_time": "2025-01-18T04:37:34.481303",
     "status": "completed"
    },
    "tags": []
   },
   "outputs": [
    {
     "name": "stdout",
     "output_type": "stream",
     "text": [
      "Null Count (before Imputation): 17\n",
      "Null Count (after Imputation) : 0\n"
     ]
    }
   ],
   "source": [
    "# Create a sample from the original data\n",
    "df_sample = df.sample(1000).copy()\n",
    "\n",
    "# Example: Age\n",
    "prev_null_values = df_sample.Age.isnull()\n",
    "prev_null_count = df_sample.Age.isnull().sum()\n",
    "\n",
    "# Apply Random Hot deck imputation\n",
    "df_sample_imputed = random_hot_deck_imputation(df_sample, \"Age\")\n",
    "\n",
    "# Check for null values\n",
    "new_null_count = df_sample_imputed.Age.isnull().sum()\n",
    "\n",
    "print(f\"Null Count (before Imputation): {prev_null_count}\")\n",
    "print(f\"Null Count (after Imputation) : {new_null_count}\")"
   ]
  },
  {
   "cell_type": "code",
   "execution_count": 19,
   "id": "29be1943",
   "metadata": {
    "execution": {
     "iopub.execute_input": "2025-01-18T04:37:34.596936Z",
     "iopub.status.busy": "2025-01-18T04:37:34.596569Z",
     "iopub.status.idle": "2025-01-18T04:37:34.611701Z",
     "shell.execute_reply": "2025-01-18T04:37:34.610704Z"
    },
    "id": "gYhpnPz7skaH",
    "outputId": "d39d670f-fa24-4470-a5b1-7fbe34fa39a0",
    "papermill": {
     "duration": 0.049694,
     "end_time": "2025-01-18T04:37:34.613228",
     "exception": false,
     "start_time": "2025-01-18T04:37:34.563534",
     "status": "completed"
    },
    "tags": []
   },
   "outputs": [
    {
     "data": {
      "text/html": [
       "<div>\n",
       "<style scoped>\n",
       "    .dataframe tbody tr th:only-of-type {\n",
       "        vertical-align: middle;\n",
       "    }\n",
       "\n",
       "    .dataframe tbody tr th {\n",
       "        vertical-align: top;\n",
       "    }\n",
       "\n",
       "    .dataframe thead th {\n",
       "        text-align: right;\n",
       "    }\n",
       "</style>\n",
       "<table border=\"1\" class=\"dataframe\">\n",
       "  <thead>\n",
       "    <tr style=\"text-align: right;\">\n",
       "      <th></th>\n",
       "      <th>HomePlanet</th>\n",
       "      <th>CryoSleep</th>\n",
       "      <th>Destination</th>\n",
       "      <th>Age</th>\n",
       "      <th>VIP</th>\n",
       "      <th>RoomService</th>\n",
       "      <th>FoodCourt</th>\n",
       "      <th>ShoppingMall</th>\n",
       "      <th>Spa</th>\n",
       "      <th>VRDeck</th>\n",
       "    </tr>\n",
       "  </thead>\n",
       "  <tbody>\n",
       "    <tr>\n",
       "      <th>5349</th>\n",
       "      <td>Earth</td>\n",
       "      <td>True</td>\n",
       "      <td>TRAPPIST-1e</td>\n",
       "      <td>NaN</td>\n",
       "      <td>False</td>\n",
       "      <td>0.0</td>\n",
       "      <td>0.0</td>\n",
       "      <td>0.0</td>\n",
       "      <td>0.0</td>\n",
       "      <td>0.0</td>\n",
       "    </tr>\n",
       "    <tr>\n",
       "      <th>5003</th>\n",
       "      <td>Mars</td>\n",
       "      <td>False</td>\n",
       "      <td>TRAPPIST-1e</td>\n",
       "      <td>NaN</td>\n",
       "      <td>False</td>\n",
       "      <td>134.0</td>\n",
       "      <td>0.0</td>\n",
       "      <td>6.0</td>\n",
       "      <td>1450.0</td>\n",
       "      <td>0.0</td>\n",
       "    </tr>\n",
       "    <tr>\n",
       "      <th>5488</th>\n",
       "      <td>Europa</td>\n",
       "      <td>True</td>\n",
       "      <td>55 Cancri e</td>\n",
       "      <td>NaN</td>\n",
       "      <td>False</td>\n",
       "      <td>0.0</td>\n",
       "      <td>0.0</td>\n",
       "      <td>0.0</td>\n",
       "      <td>0.0</td>\n",
       "      <td>0.0</td>\n",
       "    </tr>\n",
       "    <tr>\n",
       "      <th>7244</th>\n",
       "      <td>Europa</td>\n",
       "      <td>True</td>\n",
       "      <td>55 Cancri e</td>\n",
       "      <td>NaN</td>\n",
       "      <td>False</td>\n",
       "      <td>0.0</td>\n",
       "      <td>0.0</td>\n",
       "      <td>0.0</td>\n",
       "      <td>0.0</td>\n",
       "      <td>0.0</td>\n",
       "    </tr>\n",
       "    <tr>\n",
       "      <th>6765</th>\n",
       "      <td>Mars</td>\n",
       "      <td>True</td>\n",
       "      <td>TRAPPIST-1e</td>\n",
       "      <td>NaN</td>\n",
       "      <td>False</td>\n",
       "      <td>0.0</td>\n",
       "      <td>0.0</td>\n",
       "      <td>0.0</td>\n",
       "      <td>0.0</td>\n",
       "      <td>0.0</td>\n",
       "    </tr>\n",
       "  </tbody>\n",
       "</table>\n",
       "</div>"
      ],
      "text/plain": [
       "     HomePlanet CryoSleep  Destination  Age    VIP  RoomService  FoodCourt  \\\n",
       "5349      Earth      True  TRAPPIST-1e  NaN  False          0.0        0.0   \n",
       "5003       Mars     False  TRAPPIST-1e  NaN  False        134.0        0.0   \n",
       "5488     Europa      True  55 Cancri e  NaN  False          0.0        0.0   \n",
       "7244     Europa      True  55 Cancri e  NaN  False          0.0        0.0   \n",
       "6765       Mars      True  TRAPPIST-1e  NaN  False          0.0        0.0   \n",
       "\n",
       "      ShoppingMall     Spa  VRDeck  \n",
       "5349           0.0     0.0     0.0  \n",
       "5003           6.0  1450.0     0.0  \n",
       "5488           0.0     0.0     0.0  \n",
       "7244           0.0     0.0     0.0  \n",
       "6765           0.0     0.0     0.0  "
      ]
     },
     "execution_count": 19,
     "metadata": {},
     "output_type": "execute_result"
    }
   ],
   "source": [
    "# Lets compare the results of the imputation\n",
    "df_sample[prev_null_values].head()"
   ]
  },
  {
   "cell_type": "code",
   "execution_count": 20,
   "id": "fe98789b",
   "metadata": {
    "execution": {
     "iopub.execute_input": "2025-01-18T04:37:34.679800Z",
     "iopub.status.busy": "2025-01-18T04:37:34.679463Z",
     "iopub.status.idle": "2025-01-18T04:37:34.694971Z",
     "shell.execute_reply": "2025-01-18T04:37:34.693819Z"
    },
    "id": "VUnWy1Des5zN",
    "outputId": "5d790df1-64f5-4362-afe6-7675f51b0f07",
    "papermill": {
     "duration": 0.050372,
     "end_time": "2025-01-18T04:37:34.696569",
     "exception": false,
     "start_time": "2025-01-18T04:37:34.646197",
     "status": "completed"
    },
    "tags": []
   },
   "outputs": [
    {
     "data": {
      "text/html": [
       "<div>\n",
       "<style scoped>\n",
       "    .dataframe tbody tr th:only-of-type {\n",
       "        vertical-align: middle;\n",
       "    }\n",
       "\n",
       "    .dataframe tbody tr th {\n",
       "        vertical-align: top;\n",
       "    }\n",
       "\n",
       "    .dataframe thead th {\n",
       "        text-align: right;\n",
       "    }\n",
       "</style>\n",
       "<table border=\"1\" class=\"dataframe\">\n",
       "  <thead>\n",
       "    <tr style=\"text-align: right;\">\n",
       "      <th></th>\n",
       "      <th>HomePlanet</th>\n",
       "      <th>CryoSleep</th>\n",
       "      <th>Destination</th>\n",
       "      <th>Age</th>\n",
       "      <th>VIP</th>\n",
       "      <th>RoomService</th>\n",
       "      <th>FoodCourt</th>\n",
       "      <th>ShoppingMall</th>\n",
       "      <th>Spa</th>\n",
       "      <th>VRDeck</th>\n",
       "    </tr>\n",
       "  </thead>\n",
       "  <tbody>\n",
       "    <tr>\n",
       "      <th>5349</th>\n",
       "      <td>Earth</td>\n",
       "      <td>True</td>\n",
       "      <td>TRAPPIST-1e</td>\n",
       "      <td>46.0</td>\n",
       "      <td>False</td>\n",
       "      <td>0.0</td>\n",
       "      <td>0.0</td>\n",
       "      <td>0.0</td>\n",
       "      <td>0.0</td>\n",
       "      <td>0.0</td>\n",
       "    </tr>\n",
       "    <tr>\n",
       "      <th>5003</th>\n",
       "      <td>Mars</td>\n",
       "      <td>False</td>\n",
       "      <td>TRAPPIST-1e</td>\n",
       "      <td>61.0</td>\n",
       "      <td>False</td>\n",
       "      <td>134.0</td>\n",
       "      <td>0.0</td>\n",
       "      <td>6.0</td>\n",
       "      <td>1450.0</td>\n",
       "      <td>0.0</td>\n",
       "    </tr>\n",
       "    <tr>\n",
       "      <th>5488</th>\n",
       "      <td>Europa</td>\n",
       "      <td>True</td>\n",
       "      <td>55 Cancri e</td>\n",
       "      <td>3.0</td>\n",
       "      <td>False</td>\n",
       "      <td>0.0</td>\n",
       "      <td>0.0</td>\n",
       "      <td>0.0</td>\n",
       "      <td>0.0</td>\n",
       "      <td>0.0</td>\n",
       "    </tr>\n",
       "    <tr>\n",
       "      <th>7244</th>\n",
       "      <td>Europa</td>\n",
       "      <td>True</td>\n",
       "      <td>55 Cancri e</td>\n",
       "      <td>50.0</td>\n",
       "      <td>False</td>\n",
       "      <td>0.0</td>\n",
       "      <td>0.0</td>\n",
       "      <td>0.0</td>\n",
       "      <td>0.0</td>\n",
       "      <td>0.0</td>\n",
       "    </tr>\n",
       "    <tr>\n",
       "      <th>6765</th>\n",
       "      <td>Mars</td>\n",
       "      <td>True</td>\n",
       "      <td>TRAPPIST-1e</td>\n",
       "      <td>18.0</td>\n",
       "      <td>False</td>\n",
       "      <td>0.0</td>\n",
       "      <td>0.0</td>\n",
       "      <td>0.0</td>\n",
       "      <td>0.0</td>\n",
       "      <td>0.0</td>\n",
       "    </tr>\n",
       "  </tbody>\n",
       "</table>\n",
       "</div>"
      ],
      "text/plain": [
       "     HomePlanet CryoSleep  Destination   Age    VIP  RoomService  FoodCourt  \\\n",
       "5349      Earth      True  TRAPPIST-1e  46.0  False          0.0        0.0   \n",
       "5003       Mars     False  TRAPPIST-1e  61.0  False        134.0        0.0   \n",
       "5488     Europa      True  55 Cancri e   3.0  False          0.0        0.0   \n",
       "7244     Europa      True  55 Cancri e  50.0  False          0.0        0.0   \n",
       "6765       Mars      True  TRAPPIST-1e  18.0  False          0.0        0.0   \n",
       "\n",
       "      ShoppingMall     Spa  VRDeck  \n",
       "5349           0.0     0.0     0.0  \n",
       "5003           6.0  1450.0     0.0  \n",
       "5488           0.0     0.0     0.0  \n",
       "7244           0.0     0.0     0.0  \n",
       "6765           0.0     0.0     0.0  "
      ]
     },
     "execution_count": 20,
     "metadata": {},
     "output_type": "execute_result"
    }
   ],
   "source": [
    "df_sample_imputed[prev_null_values].head()"
   ]
  },
  {
   "cell_type": "markdown",
   "id": "93ce9e95",
   "metadata": {
    "id": "BkswmlwBtces",
    "papermill": {
     "duration": 0.032232,
     "end_time": "2025-01-18T04:37:34.762779",
     "exception": false,
     "start_time": "2025-01-18T04:37:34.730547",
     "status": "completed"
    },
    "tags": []
   },
   "source": [
    "**Merits of Random Hot Deck Imputation**  \n",
    "\n",
    "\n",
    "1. **Preserves Data Distribution**  \n",
    "   - Random hot deck imputation ensures that the imputed values come from the observed data, preserving the original distribution and variability of the feature.\n",
    "\n",
    "2. **Adaptable to Data Types**  \n",
    "   - It is suitable for both continuous and categorical features, as it directly samples existing values.\n",
    "\n",
    "3. **Minimizes Bias**  \n",
    "   - Since donor values are randomly selected from the observed pool, it reduces systematic bias compared to deterministic methods like mean or median imputation.\n",
    "\n",
    "4. **Handles Small Missingness Proportions Well**  \n",
    "   - Works effectively when the proportion of missing values is low, as the observed donor pool remains representative of the underlying data.\n",
    "\n",
    "5. **No Complex Assumptions**  \n",
    "   - Does not require assumptions about the underlying data structure or distribution, making it a straightforward and flexible approach.\n",
    "\n",
    "---\n",
    "\n",
    "**Demerits of Random Hot Deck Imputation**  \n",
    "\n",
    "\n",
    "1. **Random Noise Introduction**  \n",
    "   - The random selection process can introduce additional variability, potentially impacting the results if the dataset is small or the missingness is substantial.\n",
    "\n",
    "2. **Requires Sufficient Donors**  \n",
    "   - The technique relies on a robust pool of donor values. If the observed data is sparse or highly imbalanced, the imputation may not be representative.\n",
    "\n",
    "3. **Loses Contextual Relationships**  \n",
    "   - Random selection does not account for relationships or dependencies between features, which can lead to inconsistencies in datasets with correlated variables.\n",
    "\n",
    "4. **Not Scalable for Large Datasets**  \n",
    "   - Random sampling for each missing value can become computationally expensive for large datasets with significant missingness.\n",
    "\n",
    "5. **Potential Overfitting Risk in Small Datasets**  \n",
    "   - Randomly sampled values may not generalize well if the dataset is small, leading to overfitting during model training.\n",
    "\n",
    "6. **No Guarantee of Optimality**  \n",
    "   - Unlike model-based imputations (e.g., k-NN, regression), random hot deck imputation does not optimize for the best fit or prediction accuracy.\n",
    "\n",
    "---\n",
    "\n",
    "**When to Use**  \n",
    "\n",
    "Random hot deck imputation is best suited for:\n",
    "- Datasets with low missingness (<10% per feature).\n",
    "- Situations where preserving the original distribution of the feature is important.\n",
    "- Scenarios where computational simplicity is preferred over more complex model-based imputation methods.\n",
    "\n",
    "For datasets with high missingness or strong inter-feature dependencies, more advanced imputation techniques may be more appropriate."
   ]
  },
  {
   "cell_type": "markdown",
   "id": "02348a8a",
   "metadata": {
    "id": "jUj9MQkfgYaF",
    "papermill": {
     "duration": 0.032464,
     "end_time": "2025-01-18T04:37:34.828545",
     "exception": false,
     "start_time": "2025-01-18T04:37:34.796081",
     "status": "completed"
    },
    "tags": []
   },
   "source": [
    "## **Deterministic Hot-Deck Imputation**"
   ]
  },
  {
   "cell_type": "markdown",
   "id": "48a38422",
   "metadata": {
    "id": "CknnQ5rYgcxm",
    "papermill": {
     "duration": 0.033024,
     "end_time": "2025-01-18T04:37:34.894333",
     "exception": false,
     "start_time": "2025-01-18T04:37:34.861309",
     "status": "completed"
    },
    "tags": []
   },
   "source": [
    "### **Value/Instance Based**"
   ]
  },
  {
   "cell_type": "markdown",
   "id": "e2234275",
   "metadata": {
    "id": "h8Rgw7qqg3i-",
    "papermill": {
     "duration": 0.032226,
     "end_time": "2025-01-18T04:37:34.959365",
     "exception": false,
     "start_time": "2025-01-18T04:37:34.927139",
     "status": "completed"
    },
    "tags": []
   },
   "source": [
    "#### **Forward Fill**"
   ]
  },
  {
   "cell_type": "markdown",
   "id": "46a3a175",
   "metadata": {
    "id": "-aBiNPN6uHCD",
    "papermill": {
     "duration": 0.032767,
     "end_time": "2025-01-18T04:37:35.025623",
     "exception": false,
     "start_time": "2025-01-18T04:37:34.992856",
     "status": "completed"
    },
    "tags": []
   },
   "source": [
    "Forward fill is a simple imputation method where missing values in a dataset are replaced with the last observed (non-missing) value in the same column. This method is commonly used for time-series or sequential data, where the assumption is that the most recent observation is a reasonable approximation for the missing value.\n",
    "\n",
    "---\n",
    "\n",
    "**Example**:\n",
    "\n",
    "\n",
    "Input Data:\n",
    "\n",
    "```\n",
    "   Time  Value\n",
    "0     1   10.0\n",
    "1     2    NaN\n",
    "2     3    NaN\n",
    "3     4   15.0\n",
    "4     5    NaN\n",
    "5     6   20.0\n",
    "```\n",
    "\n",
    "After Forward Fill:\n",
    "\n",
    "```\n",
    "   Time  Value\n",
    "0     1   10.0\n",
    "1     2   10.0\n",
    "2     3   10.0\n",
    "3     4   15.0\n",
    "4     5   15.0\n",
    "5     6   20.0\n",
    "```\n",
    "\n",
    "---\n",
    "\n",
    "**How It Works**:\n",
    "\n",
    "- At `Time = 2`, the missing value is replaced with `10.0` (last observed value from `Time = 1`).\n",
    "- At `Time = 3`, the missing value is again replaced with `10.0`.\n",
    "- At `Time = 5`, the missing value is replaced with `15.0` (last observed value from `Time = 4`).\n",
    "\n",
    "---\n",
    "\n",
    "**Use Cases**:\n",
    "\n",
    "- **Time-Series Data**: Imputing gaps in measurements or stock prices.\n",
    "- **Sequential Data**: Handling missing values where data order matters."
   ]
  },
  {
   "cell_type": "code",
   "execution_count": 21,
   "id": "0d217793",
   "metadata": {
    "execution": {
     "iopub.execute_input": "2025-01-18T04:37:35.092316Z",
     "iopub.status.busy": "2025-01-18T04:37:35.091894Z",
     "iopub.status.idle": "2025-01-18T04:37:35.110117Z",
     "shell.execute_reply": "2025-01-18T04:37:35.109043Z"
    },
    "id": "OUlIhCO1gz3C",
    "outputId": "1750d897-cab6-4542-b1cc-6ea39dd578bc",
    "papermill": {
     "duration": 0.053371,
     "end_time": "2025-01-18T04:37:35.111671",
     "exception": false,
     "start_time": "2025-01-18T04:37:35.058300",
     "status": "completed"
    },
    "tags": []
   },
   "outputs": [
    {
     "data": {
      "text/plain": [
       "HomePlanet      0\n",
       "CryoSleep       0\n",
       "Destination     0\n",
       "Age             0\n",
       "VIP             0\n",
       "RoomService     0\n",
       "FoodCourt       0\n",
       "ShoppingMall    0\n",
       "Spa             0\n",
       "VRDeck          0\n",
       "dtype: int64"
      ]
     },
     "execution_count": 21,
     "metadata": {},
     "output_type": "execute_result"
    }
   ],
   "source": [
    "# Create a Copy\n",
    "df_copy = df.copy()\n",
    "\n",
    "# Forward Fill\n",
    "df_copy = df_copy.ffill()\n",
    "df_copy.isnull().sum()"
   ]
  },
  {
   "cell_type": "markdown",
   "id": "591e4e52",
   "metadata": {
    "id": "snM5_pgdusHp",
    "papermill": {
     "duration": 0.03292,
     "end_time": "2025-01-18T04:37:35.177620",
     "exception": false,
     "start_time": "2025-01-18T04:37:35.144700",
     "status": "completed"
    },
    "tags": []
   },
   "source": [
    "**Forward Fill (FFILL) Imputation**\n",
    "\n",
    "\n",
    "**Merits**\n",
    "\n",
    "1. **Simplicity**:\n",
    "   - Easy to implement with minimal computational cost.\n",
    "   - No complex algorithms or additional assumptions are needed.\n",
    "\n",
    "2. **Preserves Temporal Order**:\n",
    "   - Retains the natural sequence of time-series or sequential data by filling gaps based on previous observations.\n",
    "\n",
    "3. **Useful for Certain Domains**:\n",
    "   - Works well in scenarios where values are expected to remain constant or change gradually over time (e.g., sensor readings, stock prices).\n",
    "\n",
    "4. **Prevents Data Loss**:\n",
    "   - Avoids discarding rows or columns with missing values, preserving the dataset for further analysis.\n",
    "\n",
    "---\n",
    "\n",
    "**Demerits**\n",
    "\n",
    "1. **Not Suitable for Non-Sequential Data**:\n",
    "   - Assumes that the last observed value is relevant for filling missing values, which may not be true for non-sequential or unordered datasets.\n",
    "\n",
    "2. **Risk of Bias**:\n",
    "   - If missing values occur frequently or over long gaps, forward fill can propagate outdated values, introducing bias.\n",
    "\n",
    "3. **Fails for Initial Missing Values**:\n",
    "   - Does not address missing values at the start of a dataset, as no prior value exists to fill them.\n",
    "\n",
    "4. **Inappropriate for Volatile Data**:\n",
    "   - May not work well for datasets with high variability or sudden changes, as it cannot capture the dynamics of such patterns.\n",
    "\n",
    "---\n",
    "\n",
    "**When to Use Forward Fill**\n",
    "\n",
    "1. **Time-Series or Sequential Data**:\n",
    "   - Works well for datasets where values change gradually over time (e.g., weather data, stock prices, or machine sensor readings).\n",
    "\n",
    "2. **Short Gaps in Data**:\n",
    "   - Effective when missing values occur sporadically or in small gaps, as the most recent observation is likely to be a reasonable approximation.\n",
    "\n",
    "3. **Data with Constant or Slowly Varying Trends**:\n",
    "   - Ideal for datasets where values remain stable or vary slowly over time.\n",
    "\n",
    "4. **When Computational Simplicity is Needed**:\n",
    "   - Suitable for quick preprocessing or when advanced imputation methods are unnecessary.\n",
    "\n",
    "---\n",
    "\n",
    "**Example of When Not to Use**\n",
    "\n",
    "- **Categorical Data**: Forward fill may propagate an unrelated category value.\n",
    "- **Highly Volatile Data**: In financial trading data with rapid fluctuations, forward fill may misrepresent actual trends.\n",
    "\n",
    "---\n",
    "\n",
    "**Alternatives**\n",
    "\n",
    "- **Backward Fill (BFill)**: Uses the next observed value instead of the previous one.\n",
    "- **Interpolation**: Fills missing values using trends or patterns (e.g., linear or polynomial).\n",
    "- **Model-Based Imputation**: Uses algorithms to predict missing values based on relationships in the data."
   ]
  },
  {
   "cell_type": "markdown",
   "id": "8d2a9e5b",
   "metadata": {
    "id": "vRL_tAGHg0Ex",
    "papermill": {
     "duration": 0.033674,
     "end_time": "2025-01-18T04:37:35.244067",
     "exception": false,
     "start_time": "2025-01-18T04:37:35.210393",
     "status": "completed"
    },
    "tags": []
   },
   "source": [
    "#### **Backward Fill**"
   ]
  },
  {
   "cell_type": "markdown",
   "id": "28847b14",
   "metadata": {
    "id": "IT8LyBEfu4i7",
    "papermill": {
     "duration": 0.033216,
     "end_time": "2025-01-18T04:37:35.310381",
     "exception": false,
     "start_time": "2025-01-18T04:37:35.277165",
     "status": "completed"
    },
    "tags": []
   },
   "source": [
    "It is similar to forward will, it just works in backward order."
   ]
  },
  {
   "cell_type": "code",
   "execution_count": 22,
   "id": "3d68e5bc",
   "metadata": {
    "execution": {
     "iopub.execute_input": "2025-01-18T04:37:35.377974Z",
     "iopub.status.busy": "2025-01-18T04:37:35.377595Z",
     "iopub.status.idle": "2025-01-18T04:37:35.393882Z",
     "shell.execute_reply": "2025-01-18T04:37:35.392908Z"
    },
    "id": "R08q-HrUgzsK",
    "outputId": "2a89b5ce-3fb5-4be2-859a-7317d714c878",
    "papermill": {
     "duration": 0.051974,
     "end_time": "2025-01-18T04:37:35.395416",
     "exception": false,
     "start_time": "2025-01-18T04:37:35.343442",
     "status": "completed"
    },
    "tags": []
   },
   "outputs": [
    {
     "data": {
      "text/plain": [
       "HomePlanet      0\n",
       "CryoSleep       0\n",
       "Destination     0\n",
       "Age             0\n",
       "VIP             0\n",
       "RoomService     0\n",
       "FoodCourt       0\n",
       "ShoppingMall    0\n",
       "Spa             0\n",
       "VRDeck          0\n",
       "dtype: int64"
      ]
     },
     "execution_count": 22,
     "metadata": {},
     "output_type": "execute_result"
    }
   ],
   "source": [
    "# Create a Copy\n",
    "df_copy = df.copy()\n",
    "\n",
    "# Forward Fill\n",
    "df_copy = df_copy.bfill()\n",
    "df_copy.isnull().sum()"
   ]
  },
  {
   "cell_type": "markdown",
   "id": "a047f8fe",
   "metadata": {
    "id": "hKSNpLPQWKxa",
    "papermill": {
     "duration": 0.032342,
     "end_time": "2025-01-18T04:37:35.460754",
     "exception": false,
     "start_time": "2025-01-18T04:37:35.428412",
     "status": "completed"
    },
    "tags": []
   },
   "source": [
    "#### **KNN Imputer**"
   ]
  },
  {
   "cell_type": "code",
   "execution_count": 23,
   "id": "61d21978",
   "metadata": {
    "execution": {
     "iopub.execute_input": "2025-01-18T04:37:35.527461Z",
     "iopub.status.busy": "2025-01-18T04:37:35.527058Z",
     "iopub.status.idle": "2025-01-18T04:37:35.542348Z",
     "shell.execute_reply": "2025-01-18T04:37:35.541324Z"
    },
    "id": "GtaNwHJcecBK",
    "papermill": {
     "duration": 0.050586,
     "end_time": "2025-01-18T04:37:35.544123",
     "exception": false,
     "start_time": "2025-01-18T04:37:35.493537",
     "status": "completed"
    },
    "tags": []
   },
   "outputs": [],
   "source": [
    "# Intialize & Run Label Encoder\n",
    "le = LabelEncoder()\n",
    "for feature in categorical_features:\n",
    "    df[feature] = le.fit_transform(df[feature])\n",
    "\n",
    "df.head()\n",
    "\n",
    "# Create a copy of the original data\n",
    "df_sample = df.copy()"
   ]
  },
  {
   "cell_type": "markdown",
   "id": "454d08e1",
   "metadata": {
    "id": "oZ6cEKQCjx5C",
    "papermill": {
     "duration": 0.038894,
     "end_time": "2025-01-18T04:37:35.616288",
     "exception": false,
     "start_time": "2025-01-18T04:37:35.577394",
     "status": "completed"
    },
    "tags": []
   },
   "source": [
    "---\n",
    "\n",
    "**Note:** In this example, I'm using a label encoder for simplicity. There are various methods to encode categorical features into numeric values, such as ordinal encoding, sine-cosine encoding, and more complex techniques like M estimates encoder and mean encoding. However, our focus here is on handling missing values rather than comparing different encoding methods. While label encoding may not provide the best performance in all cases, it's sufficient for this demonstration. For a detailed overview of different encoding methods and their usage, please refer to the provided notebook.\n",
    "\n",
    "---"
   ]
  },
  {
   "cell_type": "code",
   "execution_count": 24,
   "id": "0f670f87",
   "metadata": {
    "execution": {
     "iopub.execute_input": "2025-01-18T04:37:35.703003Z",
     "iopub.status.busy": "2025-01-18T04:37:35.702659Z",
     "iopub.status.idle": "2025-01-18T04:37:36.315163Z",
     "shell.execute_reply": "2025-01-18T04:37:36.314141Z"
    },
    "id": "qsPDE8hnoOtP",
    "outputId": "818ea74c-750f-4bcb-eb5c-5f5a21b5d4f3",
    "papermill": {
     "duration": 0.651758,
     "end_time": "2025-01-18T04:37:36.316737",
     "exception": false,
     "start_time": "2025-01-18T04:37:35.664979",
     "status": "completed"
    },
    "tags": []
   },
   "outputs": [
    {
     "data": {
      "text/html": [
       "<div>\n",
       "<style scoped>\n",
       "    .dataframe tbody tr th:only-of-type {\n",
       "        vertical-align: middle;\n",
       "    }\n",
       "\n",
       "    .dataframe tbody tr th {\n",
       "        vertical-align: top;\n",
       "    }\n",
       "\n",
       "    .dataframe thead th {\n",
       "        text-align: right;\n",
       "    }\n",
       "</style>\n",
       "<table border=\"1\" class=\"dataframe\">\n",
       "  <thead>\n",
       "    <tr style=\"text-align: right;\">\n",
       "      <th></th>\n",
       "      <th>HomePlanet</th>\n",
       "      <th>CryoSleep</th>\n",
       "      <th>Destination</th>\n",
       "      <th>Age</th>\n",
       "      <th>VIP</th>\n",
       "      <th>RoomService</th>\n",
       "      <th>FoodCourt</th>\n",
       "      <th>ShoppingMall</th>\n",
       "      <th>Spa</th>\n",
       "      <th>VRDeck</th>\n",
       "    </tr>\n",
       "  </thead>\n",
       "  <tbody>\n",
       "    <tr>\n",
       "      <th>0</th>\n",
       "      <td>1.0</td>\n",
       "      <td>0.0</td>\n",
       "      <td>2.0</td>\n",
       "      <td>39.0</td>\n",
       "      <td>0.0</td>\n",
       "      <td>0.0</td>\n",
       "      <td>0.0</td>\n",
       "      <td>0.0</td>\n",
       "      <td>0.0</td>\n",
       "      <td>0.0</td>\n",
       "    </tr>\n",
       "    <tr>\n",
       "      <th>1</th>\n",
       "      <td>0.0</td>\n",
       "      <td>0.0</td>\n",
       "      <td>2.0</td>\n",
       "      <td>24.0</td>\n",
       "      <td>0.0</td>\n",
       "      <td>109.0</td>\n",
       "      <td>9.0</td>\n",
       "      <td>25.0</td>\n",
       "      <td>549.0</td>\n",
       "      <td>44.0</td>\n",
       "    </tr>\n",
       "    <tr>\n",
       "      <th>2</th>\n",
       "      <td>1.0</td>\n",
       "      <td>0.0</td>\n",
       "      <td>2.0</td>\n",
       "      <td>58.0</td>\n",
       "      <td>1.0</td>\n",
       "      <td>43.0</td>\n",
       "      <td>3576.0</td>\n",
       "      <td>0.0</td>\n",
       "      <td>6715.0</td>\n",
       "      <td>49.0</td>\n",
       "    </tr>\n",
       "    <tr>\n",
       "      <th>3</th>\n",
       "      <td>1.0</td>\n",
       "      <td>0.0</td>\n",
       "      <td>2.0</td>\n",
       "      <td>33.0</td>\n",
       "      <td>0.0</td>\n",
       "      <td>0.0</td>\n",
       "      <td>1283.0</td>\n",
       "      <td>371.0</td>\n",
       "      <td>3329.0</td>\n",
       "      <td>193.0</td>\n",
       "    </tr>\n",
       "    <tr>\n",
       "      <th>4</th>\n",
       "      <td>0.0</td>\n",
       "      <td>0.0</td>\n",
       "      <td>2.0</td>\n",
       "      <td>16.0</td>\n",
       "      <td>0.0</td>\n",
       "      <td>303.0</td>\n",
       "      <td>70.0</td>\n",
       "      <td>151.0</td>\n",
       "      <td>565.0</td>\n",
       "      <td>2.0</td>\n",
       "    </tr>\n",
       "  </tbody>\n",
       "</table>\n",
       "</div>"
      ],
      "text/plain": [
       "   HomePlanet  CryoSleep  Destination   Age  VIP  RoomService  FoodCourt  \\\n",
       "0         1.0        0.0          2.0  39.0  0.0          0.0        0.0   \n",
       "1         0.0        0.0          2.0  24.0  0.0        109.0        9.0   \n",
       "2         1.0        0.0          2.0  58.0  1.0         43.0     3576.0   \n",
       "3         1.0        0.0          2.0  33.0  0.0          0.0     1283.0   \n",
       "4         0.0        0.0          2.0  16.0  0.0        303.0       70.0   \n",
       "\n",
       "   ShoppingMall     Spa  VRDeck  \n",
       "0           0.0     0.0     0.0  \n",
       "1          25.0   549.0    44.0  \n",
       "2           0.0  6715.0    49.0  \n",
       "3         371.0  3329.0   193.0  \n",
       "4         151.0   565.0     2.0  "
      ]
     },
     "execution_count": 24,
     "metadata": {},
     "output_type": "execute_result"
    }
   ],
   "source": [
    "# Initialize KNN Imputer\n",
    "imputer = KNNImputer(n_neighbors=5)\n",
    "\n",
    "# Impute missing values\n",
    "df_imputed = imputer.fit_transform(df_sample)\n",
    "\n",
    "# Inspective data\n",
    "df_imputed = pd.DataFrame(df_imputed, columns=df_sample.columns)\n",
    "df_imputed.head()"
   ]
  },
  {
   "cell_type": "code",
   "execution_count": 25,
   "id": "e4881101",
   "metadata": {
    "execution": {
     "iopub.execute_input": "2025-01-18T04:37:36.384976Z",
     "iopub.status.busy": "2025-01-18T04:37:36.384621Z",
     "iopub.status.idle": "2025-01-18T04:37:36.392285Z",
     "shell.execute_reply": "2025-01-18T04:37:36.391186Z"
    },
    "id": "8NBHkNOMoOql",
    "outputId": "da0005e6-2613-48ac-93e2-9bb38c7a6595",
    "papermill": {
     "duration": 0.043537,
     "end_time": "2025-01-18T04:37:36.393998",
     "exception": false,
     "start_time": "2025-01-18T04:37:36.350461",
     "status": "completed"
    },
    "tags": []
   },
   "outputs": [
    {
     "data": {
      "text/plain": [
       "HomePlanet      0\n",
       "CryoSleep       0\n",
       "Destination     0\n",
       "Age             0\n",
       "VIP             0\n",
       "RoomService     0\n",
       "FoodCourt       0\n",
       "ShoppingMall    0\n",
       "Spa             0\n",
       "VRDeck          0\n",
       "dtype: int64"
      ]
     },
     "execution_count": 25,
     "metadata": {},
     "output_type": "execute_result"
    }
   ],
   "source": [
    "# Check for null values\n",
    "df_imputed.isnull().sum()"
   ]
  },
  {
   "cell_type": "code",
   "execution_count": 26,
   "id": "be6094f4",
   "metadata": {
    "execution": {
     "iopub.execute_input": "2025-01-18T04:37:36.463203Z",
     "iopub.status.busy": "2025-01-18T04:37:36.462727Z",
     "iopub.status.idle": "2025-01-18T04:37:36.478553Z",
     "shell.execute_reply": "2025-01-18T04:37:36.477508Z"
    },
    "id": "J-rIWLgNoOPv",
    "outputId": "16d12ad2-f68f-4d42-f13e-86d26b795f3c",
    "papermill": {
     "duration": 0.052061,
     "end_time": "2025-01-18T04:37:36.480296",
     "exception": false,
     "start_time": "2025-01-18T04:37:36.428235",
     "status": "completed"
    },
    "tags": []
   },
   "outputs": [
    {
     "data": {
      "text/html": [
       "<div>\n",
       "<style scoped>\n",
       "    .dataframe tbody tr th:only-of-type {\n",
       "        vertical-align: middle;\n",
       "    }\n",
       "\n",
       "    .dataframe tbody tr th {\n",
       "        vertical-align: top;\n",
       "    }\n",
       "\n",
       "    .dataframe thead th {\n",
       "        text-align: right;\n",
       "    }\n",
       "</style>\n",
       "<table border=\"1\" class=\"dataframe\">\n",
       "  <thead>\n",
       "    <tr style=\"text-align: right;\">\n",
       "      <th></th>\n",
       "      <th>HomePlanet</th>\n",
       "      <th>CryoSleep</th>\n",
       "      <th>Destination</th>\n",
       "      <th>Age</th>\n",
       "      <th>VIP</th>\n",
       "      <th>RoomService</th>\n",
       "      <th>FoodCourt</th>\n",
       "      <th>ShoppingMall</th>\n",
       "      <th>Spa</th>\n",
       "      <th>VRDeck</th>\n",
       "    </tr>\n",
       "  </thead>\n",
       "  <tbody>\n",
       "    <tr>\n",
       "      <th>7</th>\n",
       "      <td>0</td>\n",
       "      <td>1</td>\n",
       "      <td>2</td>\n",
       "      <td>28.0</td>\n",
       "      <td>0</td>\n",
       "      <td>0.0</td>\n",
       "      <td>0.0</td>\n",
       "      <td>0.0</td>\n",
       "      <td>0.0</td>\n",
       "      <td>NaN</td>\n",
       "    </tr>\n",
       "    <tr>\n",
       "      <th>10</th>\n",
       "      <td>1</td>\n",
       "      <td>1</td>\n",
       "      <td>2</td>\n",
       "      <td>34.0</td>\n",
       "      <td>0</td>\n",
       "      <td>0.0</td>\n",
       "      <td>0.0</td>\n",
       "      <td>NaN</td>\n",
       "      <td>0.0</td>\n",
       "      <td>0.0</td>\n",
       "    </tr>\n",
       "    <tr>\n",
       "      <th>16</th>\n",
       "      <td>2</td>\n",
       "      <td>0</td>\n",
       "      <td>0</td>\n",
       "      <td>27.0</td>\n",
       "      <td>0</td>\n",
       "      <td>1286.0</td>\n",
       "      <td>122.0</td>\n",
       "      <td>NaN</td>\n",
       "      <td>0.0</td>\n",
       "      <td>0.0</td>\n",
       "    </tr>\n",
       "    <tr>\n",
       "      <th>23</th>\n",
       "      <td>0</td>\n",
       "      <td>1</td>\n",
       "      <td>0</td>\n",
       "      <td>29.0</td>\n",
       "      <td>0</td>\n",
       "      <td>0.0</td>\n",
       "      <td>0.0</td>\n",
       "      <td>NaN</td>\n",
       "      <td>0.0</td>\n",
       "      <td>0.0</td>\n",
       "    </tr>\n",
       "    <tr>\n",
       "      <th>25</th>\n",
       "      <td>0</td>\n",
       "      <td>1</td>\n",
       "      <td>1</td>\n",
       "      <td>1.0</td>\n",
       "      <td>0</td>\n",
       "      <td>NaN</td>\n",
       "      <td>0.0</td>\n",
       "      <td>0.0</td>\n",
       "      <td>0.0</td>\n",
       "      <td>0.0</td>\n",
       "    </tr>\n",
       "  </tbody>\n",
       "</table>\n",
       "</div>"
      ],
      "text/plain": [
       "    HomePlanet  CryoSleep  Destination   Age  VIP  RoomService  FoodCourt  \\\n",
       "7            0          1            2  28.0    0          0.0        0.0   \n",
       "10           1          1            2  34.0    0          0.0        0.0   \n",
       "16           2          0            0  27.0    0       1286.0      122.0   \n",
       "23           0          1            0  29.0    0          0.0        0.0   \n",
       "25           0          1            1   1.0    0          NaN        0.0   \n",
       "\n",
       "    ShoppingMall  Spa  VRDeck  \n",
       "7            0.0  0.0     NaN  \n",
       "10           NaN  0.0     0.0  \n",
       "16           NaN  0.0     0.0  \n",
       "23           NaN  0.0     0.0  \n",
       "25           0.0  0.0     0.0  "
      ]
     },
     "execution_count": 26,
     "metadata": {},
     "output_type": "execute_result"
    }
   ],
   "source": [
    "# Compare some random data with the null data\n",
    "df[df.isnull().any(axis=1)].head()"
   ]
  },
  {
   "cell_type": "code",
   "execution_count": 27,
   "id": "a1fb8288",
   "metadata": {
    "execution": {
     "iopub.execute_input": "2025-01-18T04:37:36.548748Z",
     "iopub.status.busy": "2025-01-18T04:37:36.548420Z",
     "iopub.status.idle": "2025-01-18T04:37:36.564786Z",
     "shell.execute_reply": "2025-01-18T04:37:36.563912Z"
    },
    "id": "PXF-mRsGoONJ",
    "outputId": "a16ea287-8ecb-4a89-a2e1-59028fe6ca29",
    "papermill": {
     "duration": 0.052269,
     "end_time": "2025-01-18T04:37:36.566321",
     "exception": false,
     "start_time": "2025-01-18T04:37:36.514052",
     "status": "completed"
    },
    "tags": []
   },
   "outputs": [
    {
     "data": {
      "text/html": [
       "<div>\n",
       "<style scoped>\n",
       "    .dataframe tbody tr th:only-of-type {\n",
       "        vertical-align: middle;\n",
       "    }\n",
       "\n",
       "    .dataframe tbody tr th {\n",
       "        vertical-align: top;\n",
       "    }\n",
       "\n",
       "    .dataframe thead th {\n",
       "        text-align: right;\n",
       "    }\n",
       "</style>\n",
       "<table border=\"1\" class=\"dataframe\">\n",
       "  <thead>\n",
       "    <tr style=\"text-align: right;\">\n",
       "      <th></th>\n",
       "      <th>HomePlanet</th>\n",
       "      <th>CryoSleep</th>\n",
       "      <th>Destination</th>\n",
       "      <th>Age</th>\n",
       "      <th>VIP</th>\n",
       "      <th>RoomService</th>\n",
       "      <th>FoodCourt</th>\n",
       "      <th>ShoppingMall</th>\n",
       "      <th>Spa</th>\n",
       "      <th>VRDeck</th>\n",
       "    </tr>\n",
       "  </thead>\n",
       "  <tbody>\n",
       "    <tr>\n",
       "      <th>7</th>\n",
       "      <td>0.0</td>\n",
       "      <td>1.0</td>\n",
       "      <td>2.0</td>\n",
       "      <td>28.0</td>\n",
       "      <td>0.0</td>\n",
       "      <td>0.0</td>\n",
       "      <td>0.0</td>\n",
       "      <td>0.0</td>\n",
       "      <td>0.0</td>\n",
       "      <td>0.0</td>\n",
       "    </tr>\n",
       "    <tr>\n",
       "      <th>10</th>\n",
       "      <td>1.0</td>\n",
       "      <td>1.0</td>\n",
       "      <td>2.0</td>\n",
       "      <td>34.0</td>\n",
       "      <td>0.0</td>\n",
       "      <td>0.0</td>\n",
       "      <td>0.0</td>\n",
       "      <td>0.0</td>\n",
       "      <td>0.0</td>\n",
       "      <td>0.0</td>\n",
       "    </tr>\n",
       "    <tr>\n",
       "      <th>16</th>\n",
       "      <td>2.0</td>\n",
       "      <td>0.0</td>\n",
       "      <td>0.0</td>\n",
       "      <td>27.0</td>\n",
       "      <td>0.0</td>\n",
       "      <td>1286.0</td>\n",
       "      <td>122.0</td>\n",
       "      <td>256.2</td>\n",
       "      <td>0.0</td>\n",
       "      <td>0.0</td>\n",
       "    </tr>\n",
       "    <tr>\n",
       "      <th>23</th>\n",
       "      <td>0.0</td>\n",
       "      <td>1.0</td>\n",
       "      <td>0.0</td>\n",
       "      <td>29.0</td>\n",
       "      <td>0.0</td>\n",
       "      <td>0.0</td>\n",
       "      <td>0.0</td>\n",
       "      <td>0.0</td>\n",
       "      <td>0.0</td>\n",
       "      <td>0.0</td>\n",
       "    </tr>\n",
       "    <tr>\n",
       "      <th>25</th>\n",
       "      <td>0.0</td>\n",
       "      <td>1.0</td>\n",
       "      <td>1.0</td>\n",
       "      <td>1.0</td>\n",
       "      <td>0.0</td>\n",
       "      <td>0.0</td>\n",
       "      <td>0.0</td>\n",
       "      <td>0.0</td>\n",
       "      <td>0.0</td>\n",
       "      <td>0.0</td>\n",
       "    </tr>\n",
       "  </tbody>\n",
       "</table>\n",
       "</div>"
      ],
      "text/plain": [
       "    HomePlanet  CryoSleep  Destination   Age  VIP  RoomService  FoodCourt  \\\n",
       "7          0.0        1.0          2.0  28.0  0.0          0.0        0.0   \n",
       "10         1.0        1.0          2.0  34.0  0.0          0.0        0.0   \n",
       "16         2.0        0.0          0.0  27.0  0.0       1286.0      122.0   \n",
       "23         0.0        1.0          0.0  29.0  0.0          0.0        0.0   \n",
       "25         0.0        1.0          1.0   1.0  0.0          0.0        0.0   \n",
       "\n",
       "    ShoppingMall  Spa  VRDeck  \n",
       "7            0.0  0.0     0.0  \n",
       "10           0.0  0.0     0.0  \n",
       "16         256.2  0.0     0.0  \n",
       "23           0.0  0.0     0.0  \n",
       "25           0.0  0.0     0.0  "
      ]
     },
     "execution_count": 27,
     "metadata": {},
     "output_type": "execute_result"
    }
   ],
   "source": [
    "df_imputed[df.isnull().any(axis=1)].head()"
   ]
  },
  {
   "cell_type": "markdown",
   "id": "5f10c1ce",
   "metadata": {
    "id": "u28YCnzGTNGF",
    "papermill": {
     "duration": 0.033136,
     "end_time": "2025-01-18T04:37:36.633492",
     "exception": false,
     "start_time": "2025-01-18T04:37:36.600356",
     "status": "completed"
    },
    "tags": []
   },
   "source": [
    "One advantage of the K-Nearest Neighbor (KNN) algorithm is its ability to handle both categorical and numerical values. Although categorical data is ultimately converted to numerical form, KNN can be applied to different types of data without needing to fit each specific column individually. This method effectively addresses missing values by identifying patterns within the data, allowing you to preserve more information."
   ]
  },
  {
   "cell_type": "markdown",
   "id": "ec788620",
   "metadata": {
    "id": "kTXGcoxgvUeD",
    "papermill": {
     "duration": 0.033283,
     "end_time": "2025-01-18T04:37:36.700347",
     "exception": false,
     "start_time": "2025-01-18T04:37:36.667064",
     "status": "completed"
    },
    "tags": []
   },
   "source": [
    "\n",
    "**Merits**\n",
    "\n",
    "1. **Captures Relationships in Data**:\n",
    "   - Uses information from multiple features to fill missing values, preserving inter-feature correlations.\n",
    "\n",
    "2. **Customizable**:\n",
    "   - The number of neighbors (`k`) and the distance metric (e.g., Euclidean, Manhattan) can be adjusted to suit the dataset and imputation needs.\n",
    "\n",
    "3. **Works for Both Numerical and Categorical Data**:\n",
    "   - Can handle both data types by using appropriate distance metrics.\n",
    "\n",
    "4. **Preserves Data Variability**:\n",
    "   - By imputing based on similar rows, KNN maintains the variability of the dataset instead of using static values like mean or median.\n",
    "\n",
    "5. **Handles Complex Patterns**:\n",
    "   - Effective for datasets with non-linear relationships, where simpler imputation methods may fail.\n",
    "\n",
    "---\n",
    "\n",
    "**Demerits**\n",
    "\n",
    "1. **Computationally Intensive**:\n",
    "   - KNN requires calculating distances between all data points, making it slow for large datasets, especially with many missing values.\n",
    "\n",
    "2. **Sensitive to Feature Scaling**:\n",
    "   - The imputation depends on the distance metric, so features must be scaled (e.g., using MinMaxScaler or StandardScaler) to ensure fair comparisons.\n",
    "\n",
    "3. **Assumes Similarity is Meaningful**:\n",
    "   - Relies on the assumption that nearby data points (in terms of distance) are similar enough to infer missing values, which may not hold for all datasets.\n",
    "\n",
    "4. **Can Introduce Noise**:\n",
    "   - If the nearest neighbors are noisy or not representative, the imputed values may be inaccurate.\n",
    "\n",
    "5. **Complex to Tune**:\n",
    "   - Choosing the right number of neighbors (`k`) and an appropriate distance metric can require trial and error.\n",
    "\n",
    "---\n",
    "\n",
    "**When to Use KNN Imputation**\n",
    "\n",
    "1. **Data with Strong Inter-Feature Relationships**:\n",
    "   - Suitable for datasets where missing values can be inferred based on other features.\n",
    "\n",
    "2. **Low to Moderate Missingness**:\n",
    "   - Works well when missing values are limited to a reasonable percentage (<30%) of the dataset.\n",
    "\n",
    "3. **Small to Medium-Sized Datasets**:\n",
    "   - Ideal for datasets where the computational cost of calculating distances is manageable.\n",
    "\n",
    "4. **Numerical and Categorical Data**:\n",
    "   - Use appropriate distance metrics (e.g., Hamming for categorical) to ensure accuracy.\n",
    "\n",
    "5. **When Accuracy is Crucial**:\n",
    "   - If maintaining inter-feature relationships and producing high-quality imputation is critical, KNN is a strong choice.\n",
    "\n",
    "---\n",
    "\n",
    "**Example of When Not to Use**\n",
    "\n",
    "- **High Missingness**: Sparse datasets may lack sufficient neighbors for meaningful imputation.\n",
    "- **Large Datasets**: KNN can be computationally prohibitive for millions of rows or high-dimensional data.\n",
    "- **Weakly Correlated Features**: If features are independent, the neighbors' values may not be relevant for imputation.\n",
    "\n",
    "---\n",
    "\n",
    "**Alternatives**\n",
    "\n",
    "- **Mean/Median/Mode Imputation**: Simpler but less accurate methods for low-dimensional or weakly correlated data.\n",
    "- **Iterative Imputer**: A model-based approach that uses machine learning algorithms to predict missing values.\n",
    "- **Matrix Factorization**: Suitable for high-dimensional data, such as recommendation systems or collaborative filtering.\n"
   ]
  },
  {
   "cell_type": "code",
   "execution_count": 28,
   "id": "46652709",
   "metadata": {
    "execution": {
     "iopub.execute_input": "2025-01-18T04:37:36.769415Z",
     "iopub.status.busy": "2025-01-18T04:37:36.769045Z",
     "iopub.status.idle": "2025-01-18T04:37:36.793291Z",
     "shell.execute_reply": "2025-01-18T04:37:36.792239Z"
    },
    "id": "PY-ID23qvfPw",
    "outputId": "bac1368c-4e0c-4c70-9554-df7417ba706a",
    "papermill": {
     "duration": 0.060388,
     "end_time": "2025-01-18T04:37:36.794988",
     "exception": false,
     "start_time": "2025-01-18T04:37:36.734600",
     "status": "completed"
    },
    "tags": []
   },
   "outputs": [
    {
     "data": {
      "text/html": [
       "<div>\n",
       "<style scoped>\n",
       "    .dataframe tbody tr th:only-of-type {\n",
       "        vertical-align: middle;\n",
       "    }\n",
       "\n",
       "    .dataframe tbody tr th {\n",
       "        vertical-align: top;\n",
       "    }\n",
       "\n",
       "    .dataframe thead th {\n",
       "        text-align: right;\n",
       "    }\n",
       "</style>\n",
       "<table border=\"1\" class=\"dataframe\">\n",
       "  <thead>\n",
       "    <tr style=\"text-align: right;\">\n",
       "      <th></th>\n",
       "      <th>HomePlanet</th>\n",
       "      <th>CryoSleep</th>\n",
       "      <th>Destination</th>\n",
       "      <th>Age</th>\n",
       "      <th>VIP</th>\n",
       "      <th>RoomService</th>\n",
       "      <th>FoodCourt</th>\n",
       "      <th>ShoppingMall</th>\n",
       "      <th>Spa</th>\n",
       "      <th>VRDeck</th>\n",
       "    </tr>\n",
       "  </thead>\n",
       "  <tbody>\n",
       "    <tr>\n",
       "      <th>0</th>\n",
       "      <td>0.325245</td>\n",
       "      <td>-0.741736</td>\n",
       "      <td>0.577024</td>\n",
       "      <td>0.702095</td>\n",
       "      <td>-0.208465</td>\n",
       "      <td>-0.337025</td>\n",
       "      <td>-0.284274</td>\n",
       "      <td>-0.287317</td>\n",
       "      <td>-0.273736</td>\n",
       "      <td>-0.266098</td>\n",
       "    </tr>\n",
       "    <tr>\n",
       "      <th>1</th>\n",
       "      <td>-0.833031</td>\n",
       "      <td>-0.741736</td>\n",
       "      <td>0.577024</td>\n",
       "      <td>-0.333233</td>\n",
       "      <td>-0.208465</td>\n",
       "      <td>-0.173528</td>\n",
       "      <td>-0.278689</td>\n",
       "      <td>-0.245971</td>\n",
       "      <td>0.209267</td>\n",
       "      <td>-0.227692</td>\n",
       "    </tr>\n",
       "    <tr>\n",
       "      <th>2</th>\n",
       "      <td>0.325245</td>\n",
       "      <td>-0.741736</td>\n",
       "      <td>0.577024</td>\n",
       "      <td>2.013510</td>\n",
       "      <td>2.786879</td>\n",
       "      <td>-0.272527</td>\n",
       "      <td>1.934922</td>\n",
       "      <td>-0.287317</td>\n",
       "      <td>5.634034</td>\n",
       "      <td>-0.223327</td>\n",
       "    </tr>\n",
       "    <tr>\n",
       "      <th>3</th>\n",
       "      <td>0.325245</td>\n",
       "      <td>-0.741736</td>\n",
       "      <td>0.577024</td>\n",
       "      <td>0.287964</td>\n",
       "      <td>-0.208465</td>\n",
       "      <td>-0.337025</td>\n",
       "      <td>0.511931</td>\n",
       "      <td>0.326250</td>\n",
       "      <td>2.655075</td>\n",
       "      <td>-0.097634</td>\n",
       "    </tr>\n",
       "    <tr>\n",
       "      <th>4</th>\n",
       "      <td>-0.833031</td>\n",
       "      <td>-0.741736</td>\n",
       "      <td>0.577024</td>\n",
       "      <td>-0.885407</td>\n",
       "      <td>-0.208465</td>\n",
       "      <td>0.117466</td>\n",
       "      <td>-0.240833</td>\n",
       "      <td>-0.037590</td>\n",
       "      <td>0.223344</td>\n",
       "      <td>-0.264352</td>\n",
       "    </tr>\n",
       "  </tbody>\n",
       "</table>\n",
       "</div>"
      ],
      "text/plain": [
       "   HomePlanet  CryoSleep  Destination       Age       VIP  RoomService  \\\n",
       "0    0.325245  -0.741736     0.577024  0.702095 -0.208465    -0.337025   \n",
       "1   -0.833031  -0.741736     0.577024 -0.333233 -0.208465    -0.173528   \n",
       "2    0.325245  -0.741736     0.577024  2.013510  2.786879    -0.272527   \n",
       "3    0.325245  -0.741736     0.577024  0.287964 -0.208465    -0.337025   \n",
       "4   -0.833031  -0.741736     0.577024 -0.885407 -0.208465     0.117466   \n",
       "\n",
       "   FoodCourt  ShoppingMall       Spa    VRDeck  \n",
       "0  -0.284274     -0.287317 -0.273736 -0.266098  \n",
       "1  -0.278689     -0.245971  0.209267 -0.227692  \n",
       "2   1.934922     -0.287317  5.634034 -0.223327  \n",
       "3   0.511931      0.326250  2.655075 -0.097634  \n",
       "4  -0.240833     -0.037590  0.223344 -0.264352  "
      ]
     },
     "execution_count": 28,
     "metadata": {},
     "output_type": "execute_result"
    }
   ],
   "source": [
    "# Effect of scaling\n",
    "scaler = StandardScaler()\n",
    "scaled_df = pd.DataFrame(scaler.fit_transform(df_sample), columns=df_sample.columns)\n",
    "scaled_df.head()"
   ]
  },
  {
   "cell_type": "code",
   "execution_count": 29,
   "id": "c6cd2cb1",
   "metadata": {
    "execution": {
     "iopub.execute_input": "2025-01-18T04:37:36.864130Z",
     "iopub.status.busy": "2025-01-18T04:37:36.863748Z",
     "iopub.status.idle": "2025-01-18T04:37:37.420226Z",
     "shell.execute_reply": "2025-01-18T04:37:37.419064Z"
    },
    "id": "E7ifAwk0vfNS",
    "papermill": {
     "duration": 0.592623,
     "end_time": "2025-01-18T04:37:37.422013",
     "exception": false,
     "start_time": "2025-01-18T04:37:36.829390",
     "status": "completed"
    },
    "tags": []
   },
   "outputs": [],
   "source": [
    "# Apply KNN Imputer\n",
    "knn_imputer = KNNImputer(n_neighbors=5)\n",
    "scaled_df_imputed = knn_imputer.fit_transform(scaled_df)\n",
    "\n",
    "# Convert to dataframe\n",
    "scaled_df_imputed = pd.DataFrame(scaled_df_imputed, columns=df_sample.columns)"
   ]
  },
  {
   "cell_type": "code",
   "execution_count": 30,
   "id": "b41fb4ea",
   "metadata": {
    "execution": {
     "iopub.execute_input": "2025-01-18T04:37:37.491296Z",
     "iopub.status.busy": "2025-01-18T04:37:37.490909Z",
     "iopub.status.idle": "2025-01-18T04:37:37.507437Z",
     "shell.execute_reply": "2025-01-18T04:37:37.506410Z"
    },
    "id": "1so06kbZvfHR",
    "outputId": "fa5d3b7c-baa2-4f6b-d431-e2956856705c",
    "papermill": {
     "duration": 0.052932,
     "end_time": "2025-01-18T04:37:37.509007",
     "exception": false,
     "start_time": "2025-01-18T04:37:37.456075",
     "status": "completed"
    },
    "tags": []
   },
   "outputs": [
    {
     "data": {
      "text/html": [
       "<div>\n",
       "<style scoped>\n",
       "    .dataframe tbody tr th:only-of-type {\n",
       "        vertical-align: middle;\n",
       "    }\n",
       "\n",
       "    .dataframe tbody tr th {\n",
       "        vertical-align: top;\n",
       "    }\n",
       "\n",
       "    .dataframe thead th {\n",
       "        text-align: right;\n",
       "    }\n",
       "</style>\n",
       "<table border=\"1\" class=\"dataframe\">\n",
       "  <thead>\n",
       "    <tr style=\"text-align: right;\">\n",
       "      <th></th>\n",
       "      <th>HomePlanet</th>\n",
       "      <th>CryoSleep</th>\n",
       "      <th>Destination</th>\n",
       "      <th>Age</th>\n",
       "      <th>VIP</th>\n",
       "      <th>RoomService</th>\n",
       "      <th>FoodCourt</th>\n",
       "      <th>ShoppingMall</th>\n",
       "      <th>Spa</th>\n",
       "      <th>VRDeck</th>\n",
       "    </tr>\n",
       "  </thead>\n",
       "  <tbody>\n",
       "    <tr>\n",
       "      <th>7</th>\n",
       "      <td>0.0</td>\n",
       "      <td>1.0</td>\n",
       "      <td>2.0</td>\n",
       "      <td>28.0</td>\n",
       "      <td>0.0</td>\n",
       "      <td>0.0</td>\n",
       "      <td>0.0</td>\n",
       "      <td>0.0</td>\n",
       "      <td>0.0</td>\n",
       "      <td>0.0</td>\n",
       "    </tr>\n",
       "    <tr>\n",
       "      <th>10</th>\n",
       "      <td>1.0</td>\n",
       "      <td>1.0</td>\n",
       "      <td>2.0</td>\n",
       "      <td>34.0</td>\n",
       "      <td>0.0</td>\n",
       "      <td>0.0</td>\n",
       "      <td>0.0</td>\n",
       "      <td>0.0</td>\n",
       "      <td>0.0</td>\n",
       "      <td>0.0</td>\n",
       "    </tr>\n",
       "    <tr>\n",
       "      <th>16</th>\n",
       "      <td>2.0</td>\n",
       "      <td>0.0</td>\n",
       "      <td>0.0</td>\n",
       "      <td>27.0</td>\n",
       "      <td>0.0</td>\n",
       "      <td>1286.0</td>\n",
       "      <td>122.0</td>\n",
       "      <td>256.2</td>\n",
       "      <td>0.0</td>\n",
       "      <td>0.0</td>\n",
       "    </tr>\n",
       "    <tr>\n",
       "      <th>23</th>\n",
       "      <td>0.0</td>\n",
       "      <td>1.0</td>\n",
       "      <td>0.0</td>\n",
       "      <td>29.0</td>\n",
       "      <td>0.0</td>\n",
       "      <td>0.0</td>\n",
       "      <td>0.0</td>\n",
       "      <td>0.0</td>\n",
       "      <td>0.0</td>\n",
       "      <td>0.0</td>\n",
       "    </tr>\n",
       "    <tr>\n",
       "      <th>25</th>\n",
       "      <td>0.0</td>\n",
       "      <td>1.0</td>\n",
       "      <td>1.0</td>\n",
       "      <td>1.0</td>\n",
       "      <td>0.0</td>\n",
       "      <td>0.0</td>\n",
       "      <td>0.0</td>\n",
       "      <td>0.0</td>\n",
       "      <td>0.0</td>\n",
       "      <td>0.0</td>\n",
       "    </tr>\n",
       "  </tbody>\n",
       "</table>\n",
       "</div>"
      ],
      "text/plain": [
       "    HomePlanet  CryoSleep  Destination   Age  VIP  RoomService  FoodCourt  \\\n",
       "7          0.0        1.0          2.0  28.0  0.0          0.0        0.0   \n",
       "10         1.0        1.0          2.0  34.0  0.0          0.0        0.0   \n",
       "16         2.0        0.0          0.0  27.0  0.0       1286.0      122.0   \n",
       "23         0.0        1.0          0.0  29.0  0.0          0.0        0.0   \n",
       "25         0.0        1.0          1.0   1.0  0.0          0.0        0.0   \n",
       "\n",
       "    ShoppingMall  Spa  VRDeck  \n",
       "7            0.0  0.0     0.0  \n",
       "10           0.0  0.0     0.0  \n",
       "16         256.2  0.0     0.0  \n",
       "23           0.0  0.0     0.0  \n",
       "25           0.0  0.0     0.0  "
      ]
     },
     "execution_count": 30,
     "metadata": {},
     "output_type": "execute_result"
    }
   ],
   "source": [
    "# Affect of scaling on imputation\n",
    "df_imputed[df.isnull().any(axis=1)].head()"
   ]
  },
  {
   "cell_type": "code",
   "execution_count": 31,
   "id": "5ef3f357",
   "metadata": {
    "execution": {
     "iopub.execute_input": "2025-01-18T04:37:37.578864Z",
     "iopub.status.busy": "2025-01-18T04:37:37.578533Z",
     "iopub.status.idle": "2025-01-18T04:37:37.597328Z",
     "shell.execute_reply": "2025-01-18T04:37:37.596345Z"
    },
    "id": "KD14gTuIv4Y4",
    "outputId": "720f910f-e1d2-4133-be53-ff6a74a34b35",
    "papermill": {
     "duration": 0.055564,
     "end_time": "2025-01-18T04:37:37.598823",
     "exception": false,
     "start_time": "2025-01-18T04:37:37.543259",
     "status": "completed"
    },
    "tags": []
   },
   "outputs": [
    {
     "data": {
      "text/html": [
       "<div>\n",
       "<style scoped>\n",
       "    .dataframe tbody tr th:only-of-type {\n",
       "        vertical-align: middle;\n",
       "    }\n",
       "\n",
       "    .dataframe tbody tr th {\n",
       "        vertical-align: top;\n",
       "    }\n",
       "\n",
       "    .dataframe thead th {\n",
       "        text-align: right;\n",
       "    }\n",
       "</style>\n",
       "<table border=\"1\" class=\"dataframe\">\n",
       "  <thead>\n",
       "    <tr style=\"text-align: right;\">\n",
       "      <th></th>\n",
       "      <th>HomePlanet</th>\n",
       "      <th>CryoSleep</th>\n",
       "      <th>Destination</th>\n",
       "      <th>Age</th>\n",
       "      <th>VIP</th>\n",
       "      <th>RoomService</th>\n",
       "      <th>FoodCourt</th>\n",
       "      <th>ShoppingMall</th>\n",
       "      <th>Spa</th>\n",
       "      <th>VRDeck</th>\n",
       "    </tr>\n",
       "  </thead>\n",
       "  <tbody>\n",
       "    <tr>\n",
       "      <th>0</th>\n",
       "      <td>0.0</td>\n",
       "      <td>1.0</td>\n",
       "      <td>2.0</td>\n",
       "      <td>28.0</td>\n",
       "      <td>0.0</td>\n",
       "      <td>0.0</td>\n",
       "      <td>0.0</td>\n",
       "      <td>0.0</td>\n",
       "      <td>0.0</td>\n",
       "      <td>0.0</td>\n",
       "    </tr>\n",
       "    <tr>\n",
       "      <th>1</th>\n",
       "      <td>1.0</td>\n",
       "      <td>1.0</td>\n",
       "      <td>2.0</td>\n",
       "      <td>34.0</td>\n",
       "      <td>0.0</td>\n",
       "      <td>0.0</td>\n",
       "      <td>0.0</td>\n",
       "      <td>0.0</td>\n",
       "      <td>0.0</td>\n",
       "      <td>0.0</td>\n",
       "    </tr>\n",
       "    <tr>\n",
       "      <th>2</th>\n",
       "      <td>2.0</td>\n",
       "      <td>0.0</td>\n",
       "      <td>0.0</td>\n",
       "      <td>27.0</td>\n",
       "      <td>0.0</td>\n",
       "      <td>1286.0</td>\n",
       "      <td>122.0</td>\n",
       "      <td>87.6</td>\n",
       "      <td>0.0</td>\n",
       "      <td>0.0</td>\n",
       "    </tr>\n",
       "    <tr>\n",
       "      <th>3</th>\n",
       "      <td>0.0</td>\n",
       "      <td>1.0</td>\n",
       "      <td>0.0</td>\n",
       "      <td>29.0</td>\n",
       "      <td>0.0</td>\n",
       "      <td>0.0</td>\n",
       "      <td>0.0</td>\n",
       "      <td>0.0</td>\n",
       "      <td>0.0</td>\n",
       "      <td>0.0</td>\n",
       "    </tr>\n",
       "    <tr>\n",
       "      <th>4</th>\n",
       "      <td>0.0</td>\n",
       "      <td>1.0</td>\n",
       "      <td>1.0</td>\n",
       "      <td>1.0</td>\n",
       "      <td>0.0</td>\n",
       "      <td>0.0</td>\n",
       "      <td>0.0</td>\n",
       "      <td>0.0</td>\n",
       "      <td>0.0</td>\n",
       "      <td>0.0</td>\n",
       "    </tr>\n",
       "  </tbody>\n",
       "</table>\n",
       "</div>"
      ],
      "text/plain": [
       "   HomePlanet  CryoSleep  Destination   Age  VIP  RoomService  FoodCourt  \\\n",
       "0         0.0        1.0          2.0  28.0  0.0          0.0        0.0   \n",
       "1         1.0        1.0          2.0  34.0  0.0          0.0        0.0   \n",
       "2         2.0        0.0          0.0  27.0  0.0       1286.0      122.0   \n",
       "3         0.0        1.0          0.0  29.0  0.0          0.0        0.0   \n",
       "4         0.0        1.0          1.0   1.0  0.0          0.0        0.0   \n",
       "\n",
       "   ShoppingMall  Spa  VRDeck  \n",
       "0           0.0  0.0     0.0  \n",
       "1           0.0  0.0     0.0  \n",
       "2          87.6  0.0     0.0  \n",
       "3           0.0  0.0     0.0  \n",
       "4           0.0  0.0     0.0  "
      ]
     },
     "execution_count": 31,
     "metadata": {},
     "output_type": "execute_result"
    }
   ],
   "source": [
    "data = scaler.inverse_transform(scaled_df_imputed[df.isnull().any(axis=1)].head())\n",
    "pd.DataFrame(data, columns=df_sample.columns).head()"
   ]
  },
  {
   "cell_type": "code",
   "execution_count": 32,
   "id": "2eb827aa",
   "metadata": {
    "execution": {
     "iopub.execute_input": "2025-01-18T04:37:37.668640Z",
     "iopub.status.busy": "2025-01-18T04:37:37.668288Z",
     "iopub.status.idle": "2025-01-18T04:37:37.683380Z",
     "shell.execute_reply": "2025-01-18T04:37:37.682333Z"
    },
    "id": "iuZ85ZZ-wWF6",
    "outputId": "026f6cb8-0e3c-4329-e5c8-fa9231d96632",
    "papermill": {
     "duration": 0.051883,
     "end_time": "2025-01-18T04:37:37.685135",
     "exception": false,
     "start_time": "2025-01-18T04:37:37.633252",
     "status": "completed"
    },
    "tags": []
   },
   "outputs": [
    {
     "data": {
      "text/html": [
       "<div>\n",
       "<style scoped>\n",
       "    .dataframe tbody tr th:only-of-type {\n",
       "        vertical-align: middle;\n",
       "    }\n",
       "\n",
       "    .dataframe tbody tr th {\n",
       "        vertical-align: top;\n",
       "    }\n",
       "\n",
       "    .dataframe thead th {\n",
       "        text-align: right;\n",
       "    }\n",
       "</style>\n",
       "<table border=\"1\" class=\"dataframe\">\n",
       "  <thead>\n",
       "    <tr style=\"text-align: right;\">\n",
       "      <th></th>\n",
       "      <th>HomePlanet</th>\n",
       "      <th>CryoSleep</th>\n",
       "      <th>Destination</th>\n",
       "      <th>Age</th>\n",
       "      <th>VIP</th>\n",
       "      <th>RoomService</th>\n",
       "      <th>FoodCourt</th>\n",
       "      <th>ShoppingMall</th>\n",
       "      <th>Spa</th>\n",
       "      <th>VRDeck</th>\n",
       "    </tr>\n",
       "  </thead>\n",
       "  <tbody>\n",
       "    <tr>\n",
       "      <th>7</th>\n",
       "      <td>0</td>\n",
       "      <td>1</td>\n",
       "      <td>2</td>\n",
       "      <td>28.0</td>\n",
       "      <td>0</td>\n",
       "      <td>0.0</td>\n",
       "      <td>0.0</td>\n",
       "      <td>0.0</td>\n",
       "      <td>0.0</td>\n",
       "      <td>NaN</td>\n",
       "    </tr>\n",
       "    <tr>\n",
       "      <th>10</th>\n",
       "      <td>1</td>\n",
       "      <td>1</td>\n",
       "      <td>2</td>\n",
       "      <td>34.0</td>\n",
       "      <td>0</td>\n",
       "      <td>0.0</td>\n",
       "      <td>0.0</td>\n",
       "      <td>NaN</td>\n",
       "      <td>0.0</td>\n",
       "      <td>0.0</td>\n",
       "    </tr>\n",
       "    <tr>\n",
       "      <th>16</th>\n",
       "      <td>2</td>\n",
       "      <td>0</td>\n",
       "      <td>0</td>\n",
       "      <td>27.0</td>\n",
       "      <td>0</td>\n",
       "      <td>1286.0</td>\n",
       "      <td>122.0</td>\n",
       "      <td>NaN</td>\n",
       "      <td>0.0</td>\n",
       "      <td>0.0</td>\n",
       "    </tr>\n",
       "    <tr>\n",
       "      <th>23</th>\n",
       "      <td>0</td>\n",
       "      <td>1</td>\n",
       "      <td>0</td>\n",
       "      <td>29.0</td>\n",
       "      <td>0</td>\n",
       "      <td>0.0</td>\n",
       "      <td>0.0</td>\n",
       "      <td>NaN</td>\n",
       "      <td>0.0</td>\n",
       "      <td>0.0</td>\n",
       "    </tr>\n",
       "    <tr>\n",
       "      <th>25</th>\n",
       "      <td>0</td>\n",
       "      <td>1</td>\n",
       "      <td>1</td>\n",
       "      <td>1.0</td>\n",
       "      <td>0</td>\n",
       "      <td>NaN</td>\n",
       "      <td>0.0</td>\n",
       "      <td>0.0</td>\n",
       "      <td>0.0</td>\n",
       "      <td>0.0</td>\n",
       "    </tr>\n",
       "  </tbody>\n",
       "</table>\n",
       "</div>"
      ],
      "text/plain": [
       "    HomePlanet  CryoSleep  Destination   Age  VIP  RoomService  FoodCourt  \\\n",
       "7            0          1            2  28.0    0          0.0        0.0   \n",
       "10           1          1            2  34.0    0          0.0        0.0   \n",
       "16           2          0            0  27.0    0       1286.0      122.0   \n",
       "23           0          1            0  29.0    0          0.0        0.0   \n",
       "25           0          1            1   1.0    0          NaN        0.0   \n",
       "\n",
       "    ShoppingMall  Spa  VRDeck  \n",
       "7            0.0  0.0     NaN  \n",
       "10           NaN  0.0     0.0  \n",
       "16           NaN  0.0     0.0  \n",
       "23           NaN  0.0     0.0  \n",
       "25           0.0  0.0     0.0  "
      ]
     },
     "execution_count": 32,
     "metadata": {},
     "output_type": "execute_result"
    }
   ],
   "source": [
    "df[df.isnull().any(axis=1)].head()"
   ]
  },
  {
   "cell_type": "markdown",
   "id": "8ec6769d",
   "metadata": {
    "id": "ZVyYH8tUwoyf",
    "papermill": {
     "duration": 0.035487,
     "end_time": "2025-01-18T04:37:37.755680",
     "exception": false,
     "start_time": "2025-01-18T04:37:37.720193",
     "status": "completed"
    },
    "tags": []
   },
   "source": [
    "When comparing the two cases, the significantly different values for index 16 illustrate how scaling affects imputation.\n",
    "\n",
    "---\n",
    "\n",
    "> **How to choose \"k\"?**\n",
    "\n",
    "The choice of `k` in KNN imputation depends on dataset size, feature relationships, and the amount of missing data. Smaller `k` values (e.g., 2–5) are better for small datasets or when features are weakly correlated, as they focus on local patterns. Larger `k` values (e.g., 5–10) work well for large datasets or when features have strong correlations, as they incorporate more diverse neighbors. To select `k`, simulate missing data, test multiple `k` values, and use error metrics like RMSE or MAE to evaluate performance. Cross-validation and domain knowledge can guide the optimal choice."
   ]
  },
  {
   "cell_type": "markdown",
   "id": "3f161af4",
   "metadata": {
    "id": "Qpnx-U1kgflw",
    "papermill": {
     "duration": 0.03416,
     "end_time": "2025-01-18T04:37:37.825024",
     "exception": false,
     "start_time": "2025-01-18T04:37:37.790864",
     "status": "completed"
    },
    "tags": []
   },
   "source": [
    "### **Model Based**"
   ]
  },
  {
   "cell_type": "markdown",
   "id": "5211d939",
   "metadata": {
    "id": "A2jvtll7WQ1s",
    "papermill": {
     "duration": 0.034743,
     "end_time": "2025-01-18T04:37:37.894216",
     "exception": false,
     "start_time": "2025-01-18T04:37:37.859473",
     "status": "completed"
    },
    "tags": []
   },
   "source": [
    "#### **Linear Regression**"
   ]
  },
  {
   "cell_type": "markdown",
   "id": "2a57e256",
   "metadata": {
    "id": "jQ5yLTfPW91N",
    "papermill": {
     "duration": 0.034639,
     "end_time": "2025-01-18T04:37:37.963506",
     "exception": false,
     "start_time": "2025-01-18T04:37:37.928867",
     "status": "completed"
    },
    "tags": []
   },
   "source": [
    "Linear regression relies on using data without missing values to predict the values of features with missing values. If all features contain missing values, this method isn't viable. However, if only some features have missing values, linear regression can be applied effectively. In cases where all features have missing values, it's better to use more advanced imputation methods, such as Multiple Imputation by Chained Equations (MICE)."
   ]
  },
  {
   "cell_type": "code",
   "execution_count": 33,
   "id": "564fd482",
   "metadata": {
    "execution": {
     "iopub.execute_input": "2025-01-18T04:37:38.041729Z",
     "iopub.status.busy": "2025-01-18T04:37:38.041300Z",
     "iopub.status.idle": "2025-01-18T04:37:38.049301Z",
     "shell.execute_reply": "2025-01-18T04:37:38.048321Z"
    },
    "id": "T3r-sivwZbmr",
    "outputId": "fde8a5fd-0509-4738-c189-430d58c9dd4f",
    "papermill": {
     "duration": 0.047478,
     "end_time": "2025-01-18T04:37:38.050959",
     "exception": false,
     "start_time": "2025-01-18T04:37:38.003481",
     "status": "completed"
    },
    "tags": []
   },
   "outputs": [
    {
     "data": {
      "text/plain": [
       "HomePlanet        0\n",
       "CryoSleep         0\n",
       "Destination       0\n",
       "Age             179\n",
       "VIP               0\n",
       "RoomService     181\n",
       "FoodCourt       183\n",
       "ShoppingMall    208\n",
       "Spa             183\n",
       "VRDeck          188\n",
       "dtype: int64"
      ]
     },
     "execution_count": 33,
     "metadata": {},
     "output_type": "execute_result"
    }
   ],
   "source": [
    "df.isnull().sum()"
   ]
  },
  {
   "cell_type": "markdown",
   "id": "c9b0bff2",
   "metadata": {
    "id": "78iqWOWlysRW",
    "papermill": {
     "duration": 0.034115,
     "end_time": "2025-01-18T04:37:38.120075",
     "exception": false,
     "start_time": "2025-01-18T04:37:38.085960",
     "status": "completed"
    },
    "tags": []
   },
   "source": [
    "In this case, each feature contains missing values, making linear regression unsuitable. For demonstration purposes, we'll use \"ffill\" to handle some features, and then apply linear regression to impute the remaining missing values."
   ]
  },
  {
   "cell_type": "code",
   "execution_count": 34,
   "id": "f0ae944d",
   "metadata": {
    "execution": {
     "iopub.execute_input": "2025-01-18T04:37:38.196919Z",
     "iopub.status.busy": "2025-01-18T04:37:38.196562Z",
     "iopub.status.idle": "2025-01-18T04:37:38.209367Z",
     "shell.execute_reply": "2025-01-18T04:37:38.208237Z"
    },
    "id": "zthoFmgpZbGZ",
    "outputId": "be1e7551-c65d-4f73-c50e-2af0e0787114",
    "papermill": {
     "duration": 0.055322,
     "end_time": "2025-01-18T04:37:38.211127",
     "exception": false,
     "start_time": "2025-01-18T04:37:38.155805",
     "status": "completed"
    },
    "tags": []
   },
   "outputs": [
    {
     "data": {
      "text/plain": [
       "HomePlanet        0\n",
       "CryoSleep         0\n",
       "Destination       0\n",
       "Age             179\n",
       "VIP               0\n",
       "RoomService       0\n",
       "FoodCourt         0\n",
       "ShoppingMall      0\n",
       "Spa               0\n",
       "VRDeck            0\n",
       "dtype: int64"
      ]
     },
     "execution_count": 34,
     "metadata": {},
     "output_type": "execute_result"
    }
   ],
   "source": [
    "# Create a copy\n",
    "df_copy = df.copy()\n",
    "\n",
    "# set target feature\n",
    "target_feature = \"Age\"\n",
    "\n",
    "# Apply ffill on all features except target feature\n",
    "for feature in df_copy.columns:\n",
    "    if feature != target_feature:\n",
    "        df_copy[feature] = df_copy[feature].ffill()\n",
    "\n",
    "# Check for null values\n",
    "df_copy.isnull().sum()"
   ]
  },
  {
   "cell_type": "code",
   "execution_count": 35,
   "id": "3bbab052",
   "metadata": {
    "execution": {
     "iopub.execute_input": "2025-01-18T04:37:38.283802Z",
     "iopub.status.busy": "2025-01-18T04:37:38.283439Z",
     "iopub.status.idle": "2025-01-18T04:37:38.290305Z",
     "shell.execute_reply": "2025-01-18T04:37:38.289238Z"
    },
    "id": "25WDQB7hzgdY",
    "papermill": {
     "duration": 0.044586,
     "end_time": "2025-01-18T04:37:38.292043",
     "exception": false,
     "start_time": "2025-01-18T04:37:38.247457",
     "status": "completed"
    },
    "tags": []
   },
   "outputs": [],
   "source": [
    "# Data with missing values\n",
    "df_missing = df_copy[df_copy.isnull().any(axis=1)]\n",
    "df_missing = df_missing.drop(target_feature, axis=1)"
   ]
  },
  {
   "cell_type": "code",
   "execution_count": 36,
   "id": "986987d0",
   "metadata": {
    "execution": {
     "iopub.execute_input": "2025-01-18T04:37:38.365988Z",
     "iopub.status.busy": "2025-01-18T04:37:38.365627Z",
     "iopub.status.idle": "2025-01-18T04:37:38.375904Z",
     "shell.execute_reply": "2025-01-18T04:37:38.374859Z"
    },
    "id": "SP5PG22d2olg",
    "papermill": {
     "duration": 0.047878,
     "end_time": "2025-01-18T04:37:38.377695",
     "exception": false,
     "start_time": "2025-01-18T04:37:38.329817",
     "status": "completed"
    },
    "tags": []
   },
   "outputs": [],
   "source": [
    "# Drop rows with null values\n",
    "df_cleaned = df_copy.dropna()\n",
    "\n",
    "# Separating Xs & Ys\n",
    "X = df_cleaned.drop(target_feature, axis=1)\n",
    "y = df_cleaned[target_feature]"
   ]
  },
  {
   "cell_type": "code",
   "execution_count": 37,
   "id": "309cf7f1",
   "metadata": {
    "execution": {
     "iopub.execute_input": "2025-01-18T04:37:38.449129Z",
     "iopub.status.busy": "2025-01-18T04:37:38.448648Z",
     "iopub.status.idle": "2025-01-18T04:37:38.502270Z",
     "shell.execute_reply": "2025-01-18T04:37:38.501133Z"
    },
    "id": "mBvcxB-d0M8a",
    "outputId": "8063b4cf-f704-47e2-e12c-f6f594aeed63",
    "papermill": {
     "duration": 0.091135,
     "end_time": "2025-01-18T04:37:38.503948",
     "exception": false,
     "start_time": "2025-01-18T04:37:38.412813",
     "status": "completed"
    },
    "tags": []
   },
   "outputs": [
    {
     "data": {
      "text/html": [
       "<style>#sk-container-id-1 {color: black;background-color: white;}#sk-container-id-1 pre{padding: 0;}#sk-container-id-1 div.sk-toggleable {background-color: white;}#sk-container-id-1 label.sk-toggleable__label {cursor: pointer;display: block;width: 100%;margin-bottom: 0;padding: 0.3em;box-sizing: border-box;text-align: center;}#sk-container-id-1 label.sk-toggleable__label-arrow:before {content: \"▸\";float: left;margin-right: 0.25em;color: #696969;}#sk-container-id-1 label.sk-toggleable__label-arrow:hover:before {color: black;}#sk-container-id-1 div.sk-estimator:hover label.sk-toggleable__label-arrow:before {color: black;}#sk-container-id-1 div.sk-toggleable__content {max-height: 0;max-width: 0;overflow: hidden;text-align: left;background-color: #f0f8ff;}#sk-container-id-1 div.sk-toggleable__content pre {margin: 0.2em;color: black;border-radius: 0.25em;background-color: #f0f8ff;}#sk-container-id-1 input.sk-toggleable__control:checked~div.sk-toggleable__content {max-height: 200px;max-width: 100%;overflow: auto;}#sk-container-id-1 input.sk-toggleable__control:checked~label.sk-toggleable__label-arrow:before {content: \"▾\";}#sk-container-id-1 div.sk-estimator input.sk-toggleable__control:checked~label.sk-toggleable__label {background-color: #d4ebff;}#sk-container-id-1 div.sk-label input.sk-toggleable__control:checked~label.sk-toggleable__label {background-color: #d4ebff;}#sk-container-id-1 input.sk-hidden--visually {border: 0;clip: rect(1px 1px 1px 1px);clip: rect(1px, 1px, 1px, 1px);height: 1px;margin: -1px;overflow: hidden;padding: 0;position: absolute;width: 1px;}#sk-container-id-1 div.sk-estimator {font-family: monospace;background-color: #f0f8ff;border: 1px dotted black;border-radius: 0.25em;box-sizing: border-box;margin-bottom: 0.5em;}#sk-container-id-1 div.sk-estimator:hover {background-color: #d4ebff;}#sk-container-id-1 div.sk-parallel-item::after {content: \"\";width: 100%;border-bottom: 1px solid gray;flex-grow: 1;}#sk-container-id-1 div.sk-label:hover label.sk-toggleable__label {background-color: #d4ebff;}#sk-container-id-1 div.sk-serial::before {content: \"\";position: absolute;border-left: 1px solid gray;box-sizing: border-box;top: 0;bottom: 0;left: 50%;z-index: 0;}#sk-container-id-1 div.sk-serial {display: flex;flex-direction: column;align-items: center;background-color: white;padding-right: 0.2em;padding-left: 0.2em;position: relative;}#sk-container-id-1 div.sk-item {position: relative;z-index: 1;}#sk-container-id-1 div.sk-parallel {display: flex;align-items: stretch;justify-content: center;background-color: white;position: relative;}#sk-container-id-1 div.sk-item::before, #sk-container-id-1 div.sk-parallel-item::before {content: \"\";position: absolute;border-left: 1px solid gray;box-sizing: border-box;top: 0;bottom: 0;left: 50%;z-index: -1;}#sk-container-id-1 div.sk-parallel-item {display: flex;flex-direction: column;z-index: 1;position: relative;background-color: white;}#sk-container-id-1 div.sk-parallel-item:first-child::after {align-self: flex-end;width: 50%;}#sk-container-id-1 div.sk-parallel-item:last-child::after {align-self: flex-start;width: 50%;}#sk-container-id-1 div.sk-parallel-item:only-child::after {width: 0;}#sk-container-id-1 div.sk-dashed-wrapped {border: 1px dashed gray;margin: 0 0.4em 0.5em 0.4em;box-sizing: border-box;padding-bottom: 0.4em;background-color: white;}#sk-container-id-1 div.sk-label label {font-family: monospace;font-weight: bold;display: inline-block;line-height: 1.2em;}#sk-container-id-1 div.sk-label-container {text-align: center;}#sk-container-id-1 div.sk-container {/* jupyter's `normalize.less` sets `[hidden] { display: none; }` but bootstrap.min.css set `[hidden] { display: none !important; }` so we also need the `!important` here to be able to override the default hidden behavior on the sphinx rendered scikit-learn.org. See: https://github.com/scikit-learn/scikit-learn/issues/21755 */display: inline-block !important;position: relative;}#sk-container-id-1 div.sk-text-repr-fallback {display: none;}</style><div id=\"sk-container-id-1\" class=\"sk-top-container\"><div class=\"sk-text-repr-fallback\"><pre>LinearRegression()</pre><b>In a Jupyter environment, please rerun this cell to show the HTML representation or trust the notebook. <br />On GitHub, the HTML representation is unable to render, please try loading this page with nbviewer.org.</b></div><div class=\"sk-container\" hidden><div class=\"sk-item\"><div class=\"sk-estimator sk-toggleable\"><input class=\"sk-toggleable__control sk-hidden--visually\" id=\"sk-estimator-id-1\" type=\"checkbox\" checked><label for=\"sk-estimator-id-1\" class=\"sk-toggleable__label sk-toggleable__label-arrow\">LinearRegression</label><div class=\"sk-toggleable__content\"><pre>LinearRegression()</pre></div></div></div></div></div>"
      ],
      "text/plain": [
       "LinearRegression()"
      ]
     },
     "execution_count": 37,
     "metadata": {},
     "output_type": "execute_result"
    }
   ],
   "source": [
    "# Initialize a Linear Regression Model\n",
    "model = LinearRegression()\n",
    "\n",
    "# Fit the model\n",
    "model.fit(X, y)"
   ]
  },
  {
   "cell_type": "code",
   "execution_count": 38,
   "id": "a7f108bb",
   "metadata": {
    "execution": {
     "iopub.execute_input": "2025-01-18T04:37:38.575885Z",
     "iopub.status.busy": "2025-01-18T04:37:38.575498Z",
     "iopub.status.idle": "2025-01-18T04:37:38.582410Z",
     "shell.execute_reply": "2025-01-18T04:37:38.581400Z"
    },
    "id": "cenVJWlc0MSh",
    "papermill": {
     "duration": 0.044691,
     "end_time": "2025-01-18T04:37:38.584139",
     "exception": false,
     "start_time": "2025-01-18T04:37:38.539448",
     "status": "completed"
    },
    "tags": []
   },
   "outputs": [],
   "source": [
    "# Model Predictions\n",
    "y_pred = model.predict(df_missing)\n",
    "y_pred = pd.DataFrame(y_pred, columns=[target_feature], index=df_missing.index)"
   ]
  },
  {
   "cell_type": "code",
   "execution_count": 39,
   "id": "b3aa814d",
   "metadata": {
    "execution": {
     "iopub.execute_input": "2025-01-18T04:37:38.656357Z",
     "iopub.status.busy": "2025-01-18T04:37:38.655952Z",
     "iopub.status.idle": "2025-01-18T04:37:38.671412Z",
     "shell.execute_reply": "2025-01-18T04:37:38.670337Z"
    },
    "id": "JbnzPgAj3ANe",
    "outputId": "829884e5-32f3-4b34-c561-52a97cb94de1",
    "papermill": {
     "duration": 0.053655,
     "end_time": "2025-01-18T04:37:38.673247",
     "exception": false,
     "start_time": "2025-01-18T04:37:38.619592",
     "status": "completed"
    },
    "tags": []
   },
   "outputs": [
    {
     "data": {
      "text/html": [
       "<div>\n",
       "<style scoped>\n",
       "    .dataframe tbody tr th:only-of-type {\n",
       "        vertical-align: middle;\n",
       "    }\n",
       "\n",
       "    .dataframe tbody tr th {\n",
       "        vertical-align: top;\n",
       "    }\n",
       "\n",
       "    .dataframe thead th {\n",
       "        text-align: right;\n",
       "    }\n",
       "</style>\n",
       "<table border=\"1\" class=\"dataframe\">\n",
       "  <thead>\n",
       "    <tr style=\"text-align: right;\">\n",
       "      <th></th>\n",
       "      <th>HomePlanet</th>\n",
       "      <th>CryoSleep</th>\n",
       "      <th>Destination</th>\n",
       "      <th>Age</th>\n",
       "      <th>VIP</th>\n",
       "      <th>RoomService</th>\n",
       "      <th>FoodCourt</th>\n",
       "      <th>ShoppingMall</th>\n",
       "      <th>Spa</th>\n",
       "      <th>VRDeck</th>\n",
       "    </tr>\n",
       "  </thead>\n",
       "  <tbody>\n",
       "    <tr>\n",
       "      <th>50</th>\n",
       "      <td>0</td>\n",
       "      <td>0</td>\n",
       "      <td>2</td>\n",
       "      <td>NaN</td>\n",
       "      <td>0</td>\n",
       "      <td>4.0</td>\n",
       "      <td>0.0</td>\n",
       "      <td>2.0</td>\n",
       "      <td>4683.0</td>\n",
       "      <td>0.0</td>\n",
       "    </tr>\n",
       "    <tr>\n",
       "      <th>64</th>\n",
       "      <td>2</td>\n",
       "      <td>0</td>\n",
       "      <td>2</td>\n",
       "      <td>NaN</td>\n",
       "      <td>0</td>\n",
       "      <td>793.0</td>\n",
       "      <td>0.0</td>\n",
       "      <td>2.0</td>\n",
       "      <td>253.0</td>\n",
       "      <td>0.0</td>\n",
       "    </tr>\n",
       "    <tr>\n",
       "      <th>137</th>\n",
       "      <td>0</td>\n",
       "      <td>1</td>\n",
       "      <td>0</td>\n",
       "      <td>NaN</td>\n",
       "      <td>0</td>\n",
       "      <td>0.0</td>\n",
       "      <td>0.0</td>\n",
       "      <td>0.0</td>\n",
       "      <td>0.0</td>\n",
       "      <td>0.0</td>\n",
       "    </tr>\n",
       "    <tr>\n",
       "      <th>181</th>\n",
       "      <td>1</td>\n",
       "      <td>0</td>\n",
       "      <td>0</td>\n",
       "      <td>NaN</td>\n",
       "      <td>0</td>\n",
       "      <td>0.0</td>\n",
       "      <td>2433.0</td>\n",
       "      <td>0.0</td>\n",
       "      <td>878.0</td>\n",
       "      <td>443.0</td>\n",
       "    </tr>\n",
       "    <tr>\n",
       "      <th>184</th>\n",
       "      <td>1</td>\n",
       "      <td>0</td>\n",
       "      <td>0</td>\n",
       "      <td>NaN</td>\n",
       "      <td>0</td>\n",
       "      <td>2.0</td>\n",
       "      <td>1720.0</td>\n",
       "      <td>12.0</td>\n",
       "      <td>1125.0</td>\n",
       "      <td>122.0</td>\n",
       "    </tr>\n",
       "  </tbody>\n",
       "</table>\n",
       "</div>"
      ],
      "text/plain": [
       "     HomePlanet  CryoSleep  Destination  Age  VIP  RoomService  FoodCourt  \\\n",
       "50            0          0            2  NaN    0          4.0        0.0   \n",
       "64            2          0            2  NaN    0        793.0        0.0   \n",
       "137           0          1            0  NaN    0          0.0        0.0   \n",
       "181           1          0            0  NaN    0          0.0     2433.0   \n",
       "184           1          0            0  NaN    0          2.0     1720.0   \n",
       "\n",
       "     ShoppingMall     Spa  VRDeck  \n",
       "50            2.0  4683.0     0.0  \n",
       "64            2.0   253.0     0.0  \n",
       "137           0.0     0.0     0.0  \n",
       "181           0.0   878.0   443.0  \n",
       "184          12.0  1125.0   122.0  "
      ]
     },
     "execution_count": 39,
     "metadata": {},
     "output_type": "execute_result"
    }
   ],
   "source": [
    "missing_sample = df_copy.isnull().any(axis=1)\n",
    "\n",
    "# Original Missing data\n",
    "df_copy[missing_sample].head()"
   ]
  },
  {
   "cell_type": "code",
   "execution_count": 40,
   "id": "98263436",
   "metadata": {
    "execution": {
     "iopub.execute_input": "2025-01-18T04:37:38.745804Z",
     "iopub.status.busy": "2025-01-18T04:37:38.745442Z",
     "iopub.status.idle": "2025-01-18T04:37:38.762270Z",
     "shell.execute_reply": "2025-01-18T04:37:38.761044Z"
    },
    "id": "xdntwPwIgLFu",
    "outputId": "4ea46c8f-7c03-495a-ffc7-e416a1b6e59a",
    "papermill": {
     "duration": 0.054845,
     "end_time": "2025-01-18T04:37:38.763996",
     "exception": false,
     "start_time": "2025-01-18T04:37:38.709151",
     "status": "completed"
    },
    "tags": []
   },
   "outputs": [
    {
     "data": {
      "text/html": [
       "<div>\n",
       "<style scoped>\n",
       "    .dataframe tbody tr th:only-of-type {\n",
       "        vertical-align: middle;\n",
       "    }\n",
       "\n",
       "    .dataframe tbody tr th {\n",
       "        vertical-align: top;\n",
       "    }\n",
       "\n",
       "    .dataframe thead th {\n",
       "        text-align: right;\n",
       "    }\n",
       "</style>\n",
       "<table border=\"1\" class=\"dataframe\">\n",
       "  <thead>\n",
       "    <tr style=\"text-align: right;\">\n",
       "      <th></th>\n",
       "      <th>HomePlanet</th>\n",
       "      <th>CryoSleep</th>\n",
       "      <th>Destination</th>\n",
       "      <th>Age</th>\n",
       "      <th>VIP</th>\n",
       "      <th>RoomService</th>\n",
       "      <th>FoodCourt</th>\n",
       "      <th>ShoppingMall</th>\n",
       "      <th>Spa</th>\n",
       "      <th>VRDeck</th>\n",
       "    </tr>\n",
       "  </thead>\n",
       "  <tbody>\n",
       "    <tr>\n",
       "      <th>50</th>\n",
       "      <td>0</td>\n",
       "      <td>0</td>\n",
       "      <td>2</td>\n",
       "      <td>31.681012</td>\n",
       "      <td>0</td>\n",
       "      <td>4.0</td>\n",
       "      <td>0.0</td>\n",
       "      <td>2.0</td>\n",
       "      <td>4683.0</td>\n",
       "      <td>0.0</td>\n",
       "    </tr>\n",
       "    <tr>\n",
       "      <th>64</th>\n",
       "      <td>2</td>\n",
       "      <td>0</td>\n",
       "      <td>2</td>\n",
       "      <td>31.107885</td>\n",
       "      <td>0</td>\n",
       "      <td>793.0</td>\n",
       "      <td>0.0</td>\n",
       "      <td>2.0</td>\n",
       "      <td>253.0</td>\n",
       "      <td>0.0</td>\n",
       "    </tr>\n",
       "    <tr>\n",
       "      <th>137</th>\n",
       "      <td>0</td>\n",
       "      <td>1</td>\n",
       "      <td>0</td>\n",
       "      <td>25.793867</td>\n",
       "      <td>0</td>\n",
       "      <td>0.0</td>\n",
       "      <td>0.0</td>\n",
       "      <td>0.0</td>\n",
       "      <td>0.0</td>\n",
       "      <td>0.0</td>\n",
       "    </tr>\n",
       "    <tr>\n",
       "      <th>181</th>\n",
       "      <td>1</td>\n",
       "      <td>0</td>\n",
       "      <td>0</td>\n",
       "      <td>31.305100</td>\n",
       "      <td>0</td>\n",
       "      <td>0.0</td>\n",
       "      <td>2433.0</td>\n",
       "      <td>0.0</td>\n",
       "      <td>878.0</td>\n",
       "      <td>443.0</td>\n",
       "    </tr>\n",
       "    <tr>\n",
       "      <th>184</th>\n",
       "      <td>1</td>\n",
       "      <td>0</td>\n",
       "      <td>0</td>\n",
       "      <td>30.781792</td>\n",
       "      <td>0</td>\n",
       "      <td>2.0</td>\n",
       "      <td>1720.0</td>\n",
       "      <td>12.0</td>\n",
       "      <td>1125.0</td>\n",
       "      <td>122.0</td>\n",
       "    </tr>\n",
       "  </tbody>\n",
       "</table>\n",
       "</div>"
      ],
      "text/plain": [
       "     HomePlanet  CryoSleep  Destination        Age  VIP  RoomService  \\\n",
       "50            0          0            2  31.681012    0          4.0   \n",
       "64            2          0            2  31.107885    0        793.0   \n",
       "137           0          1            0  25.793867    0          0.0   \n",
       "181           1          0            0  31.305100    0          0.0   \n",
       "184           1          0            0  30.781792    0          2.0   \n",
       "\n",
       "     FoodCourt  ShoppingMall     Spa  VRDeck  \n",
       "50         0.0           2.0  4683.0     0.0  \n",
       "64         0.0           2.0   253.0     0.0  \n",
       "137        0.0           0.0     0.0     0.0  \n",
       "181     2433.0           0.0   878.0   443.0  \n",
       "184     1720.0          12.0  1125.0   122.0  "
      ]
     },
     "execution_count": 40,
     "metadata": {},
     "output_type": "execute_result"
    }
   ],
   "source": [
    "# Impute these values at the right index\n",
    "df_copy.loc[df_missing.index, target_feature] = y_pred\n",
    "df_copy[missing_sample].head()"
   ]
  },
  {
   "cell_type": "markdown",
   "id": "f55796f1",
   "metadata": {
    "id": "jWbwRQ-U4FS7",
    "papermill": {
     "duration": 0.035134,
     "end_time": "2025-01-18T04:37:38.835566",
     "exception": false,
     "start_time": "2025-01-18T04:37:38.800432",
     "status": "completed"
    },
    "tags": []
   },
   "source": [
    "The results obtained using linear regression for imputation are not satisfactory. This is expected, as linear regression is a basic machine learning model that may fail to capture complex relationships in the data. As a result, it struggles to predict values like \"age\" with high accuracy. Improving the model could yield better results, but that shifts the focus to model enhancement rather than imputation itself. While linear regression is commonly used for imputation, its effectiveness can be improved by adding randomness or noise to the predictions. This approach is known as stochastic regression imputation."
   ]
  },
  {
   "cell_type": "markdown",
   "id": "c2ddf757",
   "metadata": {
    "id": "Z2oon_2HhHCE",
    "papermill": {
     "duration": 0.035418,
     "end_time": "2025-01-18T04:37:38.906559",
     "exception": false,
     "start_time": "2025-01-18T04:37:38.871141",
     "status": "completed"
    },
    "tags": []
   },
   "source": [
    "#### **Stochastic Regression Imputation**"
   ]
  },
  {
   "cell_type": "markdown",
   "id": "9ecb8d02",
   "metadata": {
    "id": "GHdx7MEF3pHz",
    "papermill": {
     "duration": 0.036053,
     "end_time": "2025-01-18T04:37:38.978596",
     "exception": false,
     "start_time": "2025-01-18T04:37:38.942543",
     "status": "completed"
    },
    "tags": []
   },
   "source": [
    "Stochastic regression imputation is an advanced technique for handling missing data by combining predictions from a regression model with added randomness to account for uncertainty. In this method, a regression model (e.g., linear regression) is trained on observed data to predict the missing values for a target feature. To reflect the natural variability in the data, random noise, based on the standard error of the model's residuals, is added to the predictions. This ensures that the imputed values are not overly deterministic and better represent the inherent randomness of real-world data. Stochastic regression imputation is particularly useful when aiming to retain the data's variability while addressing missing values."
   ]
  },
  {
   "cell_type": "code",
   "execution_count": 41,
   "id": "b435363d",
   "metadata": {
    "execution": {
     "iopub.execute_input": "2025-01-18T04:37:39.050989Z",
     "iopub.status.busy": "2025-01-18T04:37:39.050541Z",
     "iopub.status.idle": "2025-01-18T04:37:39.056901Z",
     "shell.execute_reply": "2025-01-18T04:37:39.055950Z"
    },
    "id": "shbVSWxbhG5D",
    "papermill": {
     "duration": 0.044396,
     "end_time": "2025-01-18T04:37:39.058598",
     "exception": false,
     "start_time": "2025-01-18T04:37:39.014202",
     "status": "completed"
    },
    "tags": []
   },
   "outputs": [],
   "source": [
    "def stochastic_regression_imputation(df, feature):\n",
    "    # Create a copy of the DataFrame to avoid modifying the original data\n",
    "    data = df.copy()\n",
    "\n",
    "    # Separate rows with observed and missing values for the target feature\n",
    "    observed = data[data[feature].notnull()]\n",
    "    missing = data[data[feature].isnull()]\n",
    "\n",
    "    # Identify predictor columns (all columns except the target feature)\n",
    "    predictors = [col for col in data.columns if col != feature]\n",
    "\n",
    "    # Train a regression model on the observed data\n",
    "    model = LinearRegression()\n",
    "    model.fit(observed[predictors], observed[feature])\n",
    "\n",
    "    # Predict missing values using the regression model\n",
    "    predictions = model.predict(missing[predictors])\n",
    "\n",
    "    # Calculate the standard error of the predictions\n",
    "    residuals = observed[feature] - model.predict(observed[predictors])\n",
    "    std_error = residuals.std()\n",
    "\n",
    "    # Add stochastic noise (random normal distribution) to the predictions\n",
    "    stochastic_predictions = predictions + np.random.normal(0, std_error, size=predictions.shape)\n",
    "\n",
    "    # Update the missing values with the stochastic predictions\n",
    "    data.loc[missing.index, feature] = stochastic_predictions\n",
    "\n",
    "    return data"
   ]
  },
  {
   "cell_type": "code",
   "execution_count": 42,
   "id": "0712f380",
   "metadata": {
    "execution": {
     "iopub.execute_input": "2025-01-18T04:37:39.133682Z",
     "iopub.status.busy": "2025-01-18T04:37:39.133316Z",
     "iopub.status.idle": "2025-01-18T04:37:39.142453Z",
     "shell.execute_reply": "2025-01-18T04:37:39.141403Z"
    },
    "id": "rBiQmnNVhKw4",
    "outputId": "fb51555e-653d-4ffa-a0e3-41cba4fecf53",
    "papermill": {
     "duration": 0.047238,
     "end_time": "2025-01-18T04:37:39.144182",
     "exception": false,
     "start_time": "2025-01-18T04:37:39.096944",
     "status": "completed"
    },
    "tags": []
   },
   "outputs": [
    {
     "data": {
      "text/plain": [
       "HomePlanet        0\n",
       "CryoSleep         0\n",
       "Destination       0\n",
       "Age             179\n",
       "VIP               0\n",
       "RoomService     181\n",
       "FoodCourt       183\n",
       "ShoppingMall    208\n",
       "Spa             183\n",
       "VRDeck          188\n",
       "dtype: int64"
      ]
     },
     "execution_count": 42,
     "metadata": {},
     "output_type": "execute_result"
    }
   ],
   "source": [
    "# Copy the original data\n",
    "df_copy = df.copy()\n",
    "df_copy.isnull().sum()"
   ]
  },
  {
   "cell_type": "markdown",
   "id": "d56a1ff3",
   "metadata": {
    "id": "ZlQUeAe7fEl5",
    "papermill": {
     "duration": 0.035481,
     "end_time": "2025-01-18T04:37:39.216073",
     "exception": false,
     "start_time": "2025-01-18T04:37:39.180592",
     "status": "completed"
    },
    "tags": []
   },
   "source": [
    "In this case, multiple features contain missing values, which can complicate the use of linear regression for imputation. Since stochastic regression imputation is essentially an enhanced version of linear regression with added randomness, it works best when applied to a single target feature at a time. To address this, we first use forward fill to impute other features and focus on imputing the target feature (e.g., \"Age\") with stochastic regression."
   ]
  },
  {
   "cell_type": "code",
   "execution_count": 43,
   "id": "dcda372c",
   "metadata": {
    "execution": {
     "iopub.execute_input": "2025-01-18T04:37:39.290081Z",
     "iopub.status.busy": "2025-01-18T04:37:39.289714Z",
     "iopub.status.idle": "2025-01-18T04:37:39.298702Z",
     "shell.execute_reply": "2025-01-18T04:37:39.297624Z"
    },
    "id": "-mwCYdfVdwv8",
    "papermill": {
     "duration": 0.04783,
     "end_time": "2025-01-18T04:37:39.300628",
     "exception": false,
     "start_time": "2025-01-18T04:37:39.252798",
     "status": "completed"
    },
    "tags": []
   },
   "outputs": [],
   "source": [
    "# Set the target feature as age\n",
    "target_feature = \"Age\"\n",
    "\n",
    "# Apply forward fill to the rest of the feature\n",
    "for feature in df_copy.columns:\n",
    "    if feature != target_feature:\n",
    "        df_copy[feature] = df_copy[feature].ffill()"
   ]
  },
  {
   "cell_type": "code",
   "execution_count": 44,
   "id": "581970dd",
   "metadata": {
    "execution": {
     "iopub.execute_input": "2025-01-18T04:37:39.373442Z",
     "iopub.status.busy": "2025-01-18T04:37:39.373005Z",
     "iopub.status.idle": "2025-01-18T04:37:39.388202Z",
     "shell.execute_reply": "2025-01-18T04:37:39.387165Z"
    },
    "id": "U0Q16sr0fs-v",
    "outputId": "e50e361b-a528-474e-dd44-c064a8bca6a8",
    "papermill": {
     "duration": 0.053505,
     "end_time": "2025-01-18T04:37:39.389843",
     "exception": false,
     "start_time": "2025-01-18T04:37:39.336338",
     "status": "completed"
    },
    "tags": []
   },
   "outputs": [
    {
     "data": {
      "text/html": [
       "<div>\n",
       "<style scoped>\n",
       "    .dataframe tbody tr th:only-of-type {\n",
       "        vertical-align: middle;\n",
       "    }\n",
       "\n",
       "    .dataframe tbody tr th {\n",
       "        vertical-align: top;\n",
       "    }\n",
       "\n",
       "    .dataframe thead th {\n",
       "        text-align: right;\n",
       "    }\n",
       "</style>\n",
       "<table border=\"1\" class=\"dataframe\">\n",
       "  <thead>\n",
       "    <tr style=\"text-align: right;\">\n",
       "      <th></th>\n",
       "      <th>HomePlanet</th>\n",
       "      <th>CryoSleep</th>\n",
       "      <th>Destination</th>\n",
       "      <th>Age</th>\n",
       "      <th>VIP</th>\n",
       "      <th>RoomService</th>\n",
       "      <th>FoodCourt</th>\n",
       "      <th>ShoppingMall</th>\n",
       "      <th>Spa</th>\n",
       "      <th>VRDeck</th>\n",
       "    </tr>\n",
       "  </thead>\n",
       "  <tbody>\n",
       "    <tr>\n",
       "      <th>50</th>\n",
       "      <td>0</td>\n",
       "      <td>0</td>\n",
       "      <td>2</td>\n",
       "      <td>NaN</td>\n",
       "      <td>0</td>\n",
       "      <td>4.0</td>\n",
       "      <td>0.0</td>\n",
       "      <td>2.0</td>\n",
       "      <td>4683.0</td>\n",
       "      <td>0.0</td>\n",
       "    </tr>\n",
       "    <tr>\n",
       "      <th>64</th>\n",
       "      <td>2</td>\n",
       "      <td>0</td>\n",
       "      <td>2</td>\n",
       "      <td>NaN</td>\n",
       "      <td>0</td>\n",
       "      <td>793.0</td>\n",
       "      <td>0.0</td>\n",
       "      <td>2.0</td>\n",
       "      <td>253.0</td>\n",
       "      <td>0.0</td>\n",
       "    </tr>\n",
       "    <tr>\n",
       "      <th>137</th>\n",
       "      <td>0</td>\n",
       "      <td>1</td>\n",
       "      <td>0</td>\n",
       "      <td>NaN</td>\n",
       "      <td>0</td>\n",
       "      <td>0.0</td>\n",
       "      <td>0.0</td>\n",
       "      <td>0.0</td>\n",
       "      <td>0.0</td>\n",
       "      <td>0.0</td>\n",
       "    </tr>\n",
       "    <tr>\n",
       "      <th>181</th>\n",
       "      <td>1</td>\n",
       "      <td>0</td>\n",
       "      <td>0</td>\n",
       "      <td>NaN</td>\n",
       "      <td>0</td>\n",
       "      <td>0.0</td>\n",
       "      <td>2433.0</td>\n",
       "      <td>0.0</td>\n",
       "      <td>878.0</td>\n",
       "      <td>443.0</td>\n",
       "    </tr>\n",
       "    <tr>\n",
       "      <th>184</th>\n",
       "      <td>1</td>\n",
       "      <td>0</td>\n",
       "      <td>0</td>\n",
       "      <td>NaN</td>\n",
       "      <td>0</td>\n",
       "      <td>2.0</td>\n",
       "      <td>1720.0</td>\n",
       "      <td>12.0</td>\n",
       "      <td>1125.0</td>\n",
       "      <td>122.0</td>\n",
       "    </tr>\n",
       "  </tbody>\n",
       "</table>\n",
       "</div>"
      ],
      "text/plain": [
       "     HomePlanet  CryoSleep  Destination  Age  VIP  RoomService  FoodCourt  \\\n",
       "50            0          0            2  NaN    0          4.0        0.0   \n",
       "64            2          0            2  NaN    0        793.0        0.0   \n",
       "137           0          1            0  NaN    0          0.0        0.0   \n",
       "181           1          0            0  NaN    0          0.0     2433.0   \n",
       "184           1          0            0  NaN    0          2.0     1720.0   \n",
       "\n",
       "     ShoppingMall     Spa  VRDeck  \n",
       "50            2.0  4683.0     0.0  \n",
       "64            2.0   253.0     0.0  \n",
       "137           0.0     0.0     0.0  \n",
       "181           0.0   878.0   443.0  \n",
       "184          12.0  1125.0   122.0  "
      ]
     },
     "execution_count": 44,
     "metadata": {},
     "output_type": "execute_result"
    }
   ],
   "source": [
    "# Originally missing data\n",
    "df_copy[missing_sample].head()"
   ]
  },
  {
   "cell_type": "code",
   "execution_count": 45,
   "id": "de16e11f",
   "metadata": {
    "execution": {
     "iopub.execute_input": "2025-01-18T04:37:39.462713Z",
     "iopub.status.busy": "2025-01-18T04:37:39.462382Z",
     "iopub.status.idle": "2025-01-18T04:37:39.490436Z",
     "shell.execute_reply": "2025-01-18T04:37:39.489352Z"
    },
    "id": "7ugMIupAfwoP",
    "outputId": "64004558-b4f2-4c2a-d3ea-e6692d4a6418",
    "papermill": {
     "duration": 0.066541,
     "end_time": "2025-01-18T04:37:39.492303",
     "exception": false,
     "start_time": "2025-01-18T04:37:39.425762",
     "status": "completed"
    },
    "tags": []
   },
   "outputs": [
    {
     "data": {
      "text/html": [
       "<div>\n",
       "<style scoped>\n",
       "    .dataframe tbody tr th:only-of-type {\n",
       "        vertical-align: middle;\n",
       "    }\n",
       "\n",
       "    .dataframe tbody tr th {\n",
       "        vertical-align: top;\n",
       "    }\n",
       "\n",
       "    .dataframe thead th {\n",
       "        text-align: right;\n",
       "    }\n",
       "</style>\n",
       "<table border=\"1\" class=\"dataframe\">\n",
       "  <thead>\n",
       "    <tr style=\"text-align: right;\">\n",
       "      <th></th>\n",
       "      <th>HomePlanet</th>\n",
       "      <th>CryoSleep</th>\n",
       "      <th>Destination</th>\n",
       "      <th>Age</th>\n",
       "      <th>VIP</th>\n",
       "      <th>RoomService</th>\n",
       "      <th>FoodCourt</th>\n",
       "      <th>ShoppingMall</th>\n",
       "      <th>Spa</th>\n",
       "      <th>VRDeck</th>\n",
       "    </tr>\n",
       "  </thead>\n",
       "  <tbody>\n",
       "    <tr>\n",
       "      <th>50</th>\n",
       "      <td>0</td>\n",
       "      <td>0</td>\n",
       "      <td>2</td>\n",
       "      <td>34.109767</td>\n",
       "      <td>0</td>\n",
       "      <td>4.0</td>\n",
       "      <td>0.0</td>\n",
       "      <td>2.0</td>\n",
       "      <td>4683.0</td>\n",
       "      <td>0.0</td>\n",
       "    </tr>\n",
       "    <tr>\n",
       "      <th>64</th>\n",
       "      <td>2</td>\n",
       "      <td>0</td>\n",
       "      <td>2</td>\n",
       "      <td>34.550311</td>\n",
       "      <td>0</td>\n",
       "      <td>793.0</td>\n",
       "      <td>0.0</td>\n",
       "      <td>2.0</td>\n",
       "      <td>253.0</td>\n",
       "      <td>0.0</td>\n",
       "    </tr>\n",
       "    <tr>\n",
       "      <th>137</th>\n",
       "      <td>0</td>\n",
       "      <td>1</td>\n",
       "      <td>0</td>\n",
       "      <td>17.365054</td>\n",
       "      <td>0</td>\n",
       "      <td>0.0</td>\n",
       "      <td>0.0</td>\n",
       "      <td>0.0</td>\n",
       "      <td>0.0</td>\n",
       "      <td>0.0</td>\n",
       "    </tr>\n",
       "    <tr>\n",
       "      <th>181</th>\n",
       "      <td>1</td>\n",
       "      <td>0</td>\n",
       "      <td>0</td>\n",
       "      <td>33.311786</td>\n",
       "      <td>0</td>\n",
       "      <td>0.0</td>\n",
       "      <td>2433.0</td>\n",
       "      <td>0.0</td>\n",
       "      <td>878.0</td>\n",
       "      <td>443.0</td>\n",
       "    </tr>\n",
       "    <tr>\n",
       "      <th>184</th>\n",
       "      <td>1</td>\n",
       "      <td>0</td>\n",
       "      <td>0</td>\n",
       "      <td>35.803709</td>\n",
       "      <td>0</td>\n",
       "      <td>2.0</td>\n",
       "      <td>1720.0</td>\n",
       "      <td>12.0</td>\n",
       "      <td>1125.0</td>\n",
       "      <td>122.0</td>\n",
       "    </tr>\n",
       "  </tbody>\n",
       "</table>\n",
       "</div>"
      ],
      "text/plain": [
       "     HomePlanet  CryoSleep  Destination        Age  VIP  RoomService  \\\n",
       "50            0          0            2  34.109767    0          4.0   \n",
       "64            2          0            2  34.550311    0        793.0   \n",
       "137           0          1            0  17.365054    0          0.0   \n",
       "181           1          0            0  33.311786    0          0.0   \n",
       "184           1          0            0  35.803709    0          2.0   \n",
       "\n",
       "     FoodCourt  ShoppingMall     Spa  VRDeck  \n",
       "50         0.0           2.0  4683.0     0.0  \n",
       "64         0.0           2.0   253.0     0.0  \n",
       "137        0.0           0.0     0.0     0.0  \n",
       "181     2433.0           0.0   878.0   443.0  \n",
       "184     1720.0          12.0  1125.0   122.0  "
      ]
     },
     "execution_count": 45,
     "metadata": {},
     "output_type": "execute_result"
    }
   ],
   "source": [
    "# Apply stochastic regression imputation to the target feature\n",
    "df_imputed = stochastic_regression_imputation(df_copy, target_feature)\n",
    "df_imputed[missing_sample].head()"
   ]
  },
  {
   "cell_type": "markdown",
   "id": "170bed55",
   "metadata": {
    "id": "HVH_yEBgi4xp",
    "papermill": {
     "duration": 0.036203,
     "end_time": "2025-01-18T04:37:39.565353",
     "exception": false,
     "start_time": "2025-01-18T04:37:39.529150",
     "status": "completed"
    },
    "tags": []
   },
   "source": [
    "The improvements in the imputed values, particularly for \"age,\" using stochastic regression imputation are evident. By incorporating noise into the model's predictions, we not only enhance their accuracy but also ensure that the imputed values fall within a realistic range. In contrast to the previous approach, where a simple linear regression model produced out-of-range results, the addition of randomness helps maintain the data's natural variability while aligning predictions with the expected range of values. This demonstrates the effectiveness of stochastic regression imputation in addressing the limitations of basic regression models for imputation tasks."
   ]
  },
  {
   "cell_type": "markdown",
   "id": "ed7a5915",
   "metadata": {
    "id": "ICREyiD9jZ2o",
    "papermill": {
     "duration": 0.035635,
     "end_time": "2025-01-18T04:37:39.637573",
     "exception": false,
     "start_time": "2025-01-18T04:37:39.601938",
     "status": "completed"
    },
    "tags": []
   },
   "source": [
    "Merits\n",
    "\n",
    "1. **Improves Data Quality**: By incorporating randomness, it avoids imputing the same value for all missing entries, maintaining the natural variability in the data.\n",
    "2. **Bias Reduction**: Helps to reduce bias that can occur with deterministic methods, leading to more accurate and robust models.\n",
    "3. **Preserves Relationships**: Maintains the relationships among variables, improving the overall integrity of the dataset.\n",
    "\n",
    "Demerits\n",
    "\n",
    "1. **Computationally Intensive**: Requires more computational power and time compared to simpler imputation methods.\n",
    "2. **Complexity**: Can be more complex to implement and understand, requiring a good grasp of statistical methods.\n",
    "3. **Uncertainty**: Introduces an element of randomness, which might lead to different results with each run, complicating reproducibility.\n",
    "\n",
    "When to Use?\n",
    "\n",
    "- **Moderate to High Missing Data**: Useful when there is a moderate to high amount of missing data and maintaining variability is crucial.\n",
    "- **Data Integrity**: When it is important to preserve the relationships among variables to ensure the accuracy of downstream analyses.\n",
    "- **Advanced Analysis**: Suitable for more advanced analyses where simple imputation methods may not suffice, and a higher level of accuracy is required.\n",
    "\n",
    "Stochastic Regression Imputation can be a powerful tool, especially when the nuances of the data are critical to the outcomes of the analysis. Its use, however, should be balanced against its complexity and computational demands.\n",
    "\n",
    "Is there a specific application or dataset you have in mind for this method?"
   ]
  },
  {
   "cell_type": "markdown",
   "id": "68d115ce",
   "metadata": {
    "id": "-t0PwIsvg-wy",
    "papermill": {
     "duration": 0.03597,
     "end_time": "2025-01-18T04:37:39.709549",
     "exception": false,
     "start_time": "2025-01-18T04:37:39.673579",
     "status": "completed"
    },
    "tags": []
   },
   "source": [
    "#### **Multivariate Imputation by Chained Equations (MICE)**"
   ]
  },
  {
   "cell_type": "markdown",
   "id": "19d57ee2",
   "metadata": {
    "id": "d-K7ywV3a9Lq",
    "papermill": {
     "duration": 0.03671,
     "end_time": "2025-01-18T04:37:39.782262",
     "exception": false,
     "start_time": "2025-01-18T04:37:39.745552",
     "status": "completed"
    },
    "tags": []
   },
   "source": [
    "MICE is a sophisticated imputation technique that imputes missing values multiple times to account for uncertainty in the imputations. It is widely used in statistics and machine learning for handling datasets with missing values.\n",
    "\n",
    "---\n",
    "\n",
    "**How MICE Works**\n",
    "\n",
    "\n",
    "1. **Initial Guess**:\n",
    "   - For each column with missing values, MICE starts by filling in the missing values with initial guesses. Commonly used methods include mean, median, or random imputation.\n",
    "\n",
    "2. **Iterative Imputation**:\n",
    "   - For each feature with missing values:\n",
    "     1. Treat the current feature as the target variable.\n",
    "     2. Use all other features as predictors in a regression model.\n",
    "     3. Fit the model on rows where the target feature is observed.\n",
    "     4. Predict missing values for the target feature using the model.\n",
    "\n",
    "3. **Chaining**:\n",
    "   - MICE repeats this process for all features with missing values, creating a chain of regression models. The imputed values are updated iteratively, improving their accuracy with each iteration.\n",
    "\n",
    "4. **Multiple Imputations**:\n",
    "   - The process is repeated multiple times (e.g., 5–10 times), resulting in several imputed datasets. This reflects the uncertainty of the missing data.\n",
    "\n",
    "5. **Pooling Results**:\n",
    "   - For analysis, the results from the multiple imputed datasets are pooled (e.g., averaging predictions or combining statistical results) to provide a single, robust conclusion.\n"
   ]
  },
  {
   "cell_type": "code",
   "execution_count": 46,
   "id": "22de10af",
   "metadata": {
    "execution": {
     "iopub.execute_input": "2025-01-18T04:37:39.855798Z",
     "iopub.status.busy": "2025-01-18T04:37:39.855423Z",
     "iopub.status.idle": "2025-01-18T04:37:39.863958Z",
     "shell.execute_reply": "2025-01-18T04:37:39.862746Z"
    },
    "id": "uWLo3japj9Ax",
    "outputId": "3c4a2cdf-6146-4732-b209-b87dc7d659ea",
    "papermill": {
     "duration": 0.047367,
     "end_time": "2025-01-18T04:37:39.865654",
     "exception": false,
     "start_time": "2025-01-18T04:37:39.818287",
     "status": "completed"
    },
    "tags": []
   },
   "outputs": [
    {
     "data": {
      "text/plain": [
       "HomePlanet        0\n",
       "CryoSleep         0\n",
       "Destination       0\n",
       "Age             179\n",
       "VIP               0\n",
       "RoomService     181\n",
       "FoodCourt       183\n",
       "ShoppingMall    208\n",
       "Spa             183\n",
       "VRDeck          188\n",
       "dtype: int64"
      ]
     },
     "execution_count": 46,
     "metadata": {},
     "output_type": "execute_result"
    }
   ],
   "source": [
    "df.isnull().sum()"
   ]
  },
  {
   "cell_type": "markdown",
   "id": "963c6bf6",
   "metadata": {
    "id": "Y2Iu3z_XdJOX",
    "papermill": {
     "duration": 0.035495,
     "end_time": "2025-01-18T04:37:39.937545",
     "exception": false,
     "start_time": "2025-01-18T04:37:39.902050",
     "status": "completed"
    },
    "tags": []
   },
   "source": [
    "##### **Scikit-Learn**"
   ]
  },
  {
   "cell_type": "code",
   "execution_count": 47,
   "id": "c079021c",
   "metadata": {
    "execution": {
     "iopub.execute_input": "2025-01-18T04:37:40.012247Z",
     "iopub.status.busy": "2025-01-18T04:37:40.011843Z",
     "iopub.status.idle": "2025-01-18T04:37:40.176794Z",
     "shell.execute_reply": "2025-01-18T04:37:40.175665Z"
    },
    "id": "_eBIjtuigfee",
    "outputId": "f44cc7d2-f372-48e6-fb27-01c4932f9ec1",
    "papermill": {
     "duration": 0.203669,
     "end_time": "2025-01-18T04:37:40.178523",
     "exception": false,
     "start_time": "2025-01-18T04:37:39.974854",
     "status": "completed"
    },
    "tags": []
   },
   "outputs": [
    {
     "data": {
      "text/html": [
       "<div>\n",
       "<style scoped>\n",
       "    .dataframe tbody tr th:only-of-type {\n",
       "        vertical-align: middle;\n",
       "    }\n",
       "\n",
       "    .dataframe tbody tr th {\n",
       "        vertical-align: top;\n",
       "    }\n",
       "\n",
       "    .dataframe thead th {\n",
       "        text-align: right;\n",
       "    }\n",
       "</style>\n",
       "<table border=\"1\" class=\"dataframe\">\n",
       "  <thead>\n",
       "    <tr style=\"text-align: right;\">\n",
       "      <th></th>\n",
       "      <th>HomePlanet</th>\n",
       "      <th>CryoSleep</th>\n",
       "      <th>Destination</th>\n",
       "      <th>Age</th>\n",
       "      <th>VIP</th>\n",
       "      <th>RoomService</th>\n",
       "      <th>FoodCourt</th>\n",
       "      <th>ShoppingMall</th>\n",
       "      <th>Spa</th>\n",
       "      <th>VRDeck</th>\n",
       "    </tr>\n",
       "  </thead>\n",
       "  <tbody>\n",
       "    <tr>\n",
       "      <th>0</th>\n",
       "      <td>1.0</td>\n",
       "      <td>0.0</td>\n",
       "      <td>2.0</td>\n",
       "      <td>39.0</td>\n",
       "      <td>0.0</td>\n",
       "      <td>0.0</td>\n",
       "      <td>0.0</td>\n",
       "      <td>0.0</td>\n",
       "      <td>0.0</td>\n",
       "      <td>0.0</td>\n",
       "    </tr>\n",
       "    <tr>\n",
       "      <th>1</th>\n",
       "      <td>0.0</td>\n",
       "      <td>0.0</td>\n",
       "      <td>2.0</td>\n",
       "      <td>24.0</td>\n",
       "      <td>0.0</td>\n",
       "      <td>109.0</td>\n",
       "      <td>9.0</td>\n",
       "      <td>25.0</td>\n",
       "      <td>549.0</td>\n",
       "      <td>44.0</td>\n",
       "    </tr>\n",
       "    <tr>\n",
       "      <th>2</th>\n",
       "      <td>1.0</td>\n",
       "      <td>0.0</td>\n",
       "      <td>2.0</td>\n",
       "      <td>58.0</td>\n",
       "      <td>1.0</td>\n",
       "      <td>43.0</td>\n",
       "      <td>3576.0</td>\n",
       "      <td>0.0</td>\n",
       "      <td>6715.0</td>\n",
       "      <td>49.0</td>\n",
       "    </tr>\n",
       "    <tr>\n",
       "      <th>3</th>\n",
       "      <td>1.0</td>\n",
       "      <td>0.0</td>\n",
       "      <td>2.0</td>\n",
       "      <td>33.0</td>\n",
       "      <td>0.0</td>\n",
       "      <td>0.0</td>\n",
       "      <td>1283.0</td>\n",
       "      <td>371.0</td>\n",
       "      <td>3329.0</td>\n",
       "      <td>193.0</td>\n",
       "    </tr>\n",
       "    <tr>\n",
       "      <th>4</th>\n",
       "      <td>0.0</td>\n",
       "      <td>0.0</td>\n",
       "      <td>2.0</td>\n",
       "      <td>16.0</td>\n",
       "      <td>0.0</td>\n",
       "      <td>303.0</td>\n",
       "      <td>70.0</td>\n",
       "      <td>151.0</td>\n",
       "      <td>565.0</td>\n",
       "      <td>2.0</td>\n",
       "    </tr>\n",
       "  </tbody>\n",
       "</table>\n",
       "</div>"
      ],
      "text/plain": [
       "   HomePlanet  CryoSleep  Destination   Age  VIP  RoomService  FoodCourt  \\\n",
       "0         1.0        0.0          2.0  39.0  0.0          0.0        0.0   \n",
       "1         0.0        0.0          2.0  24.0  0.0        109.0        9.0   \n",
       "2         1.0        0.0          2.0  58.0  1.0         43.0     3576.0   \n",
       "3         1.0        0.0          2.0  33.0  0.0          0.0     1283.0   \n",
       "4         0.0        0.0          2.0  16.0  0.0        303.0       70.0   \n",
       "\n",
       "   ShoppingMall     Spa  VRDeck  \n",
       "0           0.0     0.0     0.0  \n",
       "1          25.0   549.0    44.0  \n",
       "2           0.0  6715.0    49.0  \n",
       "3         371.0  3329.0   193.0  \n",
       "4         151.0   565.0     2.0  "
      ]
     },
     "execution_count": 47,
     "metadata": {},
     "output_type": "execute_result"
    }
   ],
   "source": [
    "# Apply MICE\n",
    "data = df.copy()\n",
    "imputer = IterativeImputer(max_iter=10, random_state=42)\n",
    "imputed_data = imputer.fit_transform(data)\n",
    "\n",
    "# Convert back to DataFrame\n",
    "imputed_df = pd.DataFrame(imputed_data, columns=data.columns)\n",
    "imputed_df.head()"
   ]
  },
  {
   "cell_type": "code",
   "execution_count": 48,
   "id": "8d6523fd",
   "metadata": {
    "execution": {
     "iopub.execute_input": "2025-01-18T04:37:40.256832Z",
     "iopub.status.busy": "2025-01-18T04:37:40.256509Z",
     "iopub.status.idle": "2025-01-18T04:37:40.271632Z",
     "shell.execute_reply": "2025-01-18T04:37:40.270581Z"
    },
    "id": "lboHWk4hY8B1",
    "outputId": "b347b28d-f3e1-403a-a51a-50ffd0251a43",
    "papermill": {
     "duration": 0.054902,
     "end_time": "2025-01-18T04:37:40.273390",
     "exception": false,
     "start_time": "2025-01-18T04:37:40.218488",
     "status": "completed"
    },
    "tags": []
   },
   "outputs": [
    {
     "data": {
      "text/html": [
       "<div>\n",
       "<style scoped>\n",
       "    .dataframe tbody tr th:only-of-type {\n",
       "        vertical-align: middle;\n",
       "    }\n",
       "\n",
       "    .dataframe tbody tr th {\n",
       "        vertical-align: top;\n",
       "    }\n",
       "\n",
       "    .dataframe thead th {\n",
       "        text-align: right;\n",
       "    }\n",
       "</style>\n",
       "<table border=\"1\" class=\"dataframe\">\n",
       "  <thead>\n",
       "    <tr style=\"text-align: right;\">\n",
       "      <th></th>\n",
       "      <th>HomePlanet</th>\n",
       "      <th>CryoSleep</th>\n",
       "      <th>Destination</th>\n",
       "      <th>Age</th>\n",
       "      <th>VIP</th>\n",
       "      <th>RoomService</th>\n",
       "      <th>FoodCourt</th>\n",
       "      <th>ShoppingMall</th>\n",
       "      <th>Spa</th>\n",
       "      <th>VRDeck</th>\n",
       "    </tr>\n",
       "  </thead>\n",
       "  <tbody>\n",
       "    <tr>\n",
       "      <th>7</th>\n",
       "      <td>0</td>\n",
       "      <td>1</td>\n",
       "      <td>2</td>\n",
       "      <td>28.0</td>\n",
       "      <td>0</td>\n",
       "      <td>0.0</td>\n",
       "      <td>0.0</td>\n",
       "      <td>0.0</td>\n",
       "      <td>0.0</td>\n",
       "      <td>NaN</td>\n",
       "    </tr>\n",
       "    <tr>\n",
       "      <th>10</th>\n",
       "      <td>1</td>\n",
       "      <td>1</td>\n",
       "      <td>2</td>\n",
       "      <td>34.0</td>\n",
       "      <td>0</td>\n",
       "      <td>0.0</td>\n",
       "      <td>0.0</td>\n",
       "      <td>NaN</td>\n",
       "      <td>0.0</td>\n",
       "      <td>0.0</td>\n",
       "    </tr>\n",
       "    <tr>\n",
       "      <th>16</th>\n",
       "      <td>2</td>\n",
       "      <td>0</td>\n",
       "      <td>0</td>\n",
       "      <td>27.0</td>\n",
       "      <td>0</td>\n",
       "      <td>1286.0</td>\n",
       "      <td>122.0</td>\n",
       "      <td>NaN</td>\n",
       "      <td>0.0</td>\n",
       "      <td>0.0</td>\n",
       "    </tr>\n",
       "    <tr>\n",
       "      <th>23</th>\n",
       "      <td>0</td>\n",
       "      <td>1</td>\n",
       "      <td>0</td>\n",
       "      <td>29.0</td>\n",
       "      <td>0</td>\n",
       "      <td>0.0</td>\n",
       "      <td>0.0</td>\n",
       "      <td>NaN</td>\n",
       "      <td>0.0</td>\n",
       "      <td>0.0</td>\n",
       "    </tr>\n",
       "    <tr>\n",
       "      <th>25</th>\n",
       "      <td>0</td>\n",
       "      <td>1</td>\n",
       "      <td>1</td>\n",
       "      <td>1.0</td>\n",
       "      <td>0</td>\n",
       "      <td>NaN</td>\n",
       "      <td>0.0</td>\n",
       "      <td>0.0</td>\n",
       "      <td>0.0</td>\n",
       "      <td>0.0</td>\n",
       "    </tr>\n",
       "  </tbody>\n",
       "</table>\n",
       "</div>"
      ],
      "text/plain": [
       "    HomePlanet  CryoSleep  Destination   Age  VIP  RoomService  FoodCourt  \\\n",
       "7            0          1            2  28.0    0          0.0        0.0   \n",
       "10           1          1            2  34.0    0          0.0        0.0   \n",
       "16           2          0            0  27.0    0       1286.0      122.0   \n",
       "23           0          1            0  29.0    0          0.0        0.0   \n",
       "25           0          1            1   1.0    0          NaN        0.0   \n",
       "\n",
       "    ShoppingMall  Spa  VRDeck  \n",
       "7            0.0  0.0     NaN  \n",
       "10           NaN  0.0     0.0  \n",
       "16           NaN  0.0     0.0  \n",
       "23           NaN  0.0     0.0  \n",
       "25           0.0  0.0     0.0  "
      ]
     },
     "execution_count": 48,
     "metadata": {},
     "output_type": "execute_result"
    }
   ],
   "source": [
    "missing_sample = df.isnull().any(axis=1)\n",
    "\n",
    "# Originally Missing data\n",
    "df[missing_sample].head()"
   ]
  },
  {
   "cell_type": "code",
   "execution_count": 49,
   "id": "d0730573",
   "metadata": {
    "execution": {
     "iopub.execute_input": "2025-01-18T04:37:40.347223Z",
     "iopub.status.busy": "2025-01-18T04:37:40.346839Z",
     "iopub.status.idle": "2025-01-18T04:37:40.362797Z",
     "shell.execute_reply": "2025-01-18T04:37:40.361792Z"
    },
    "id": "IZzIF0SFaXFi",
    "outputId": "6542d1f8-7fc7-4569-d928-46c27cb87e63",
    "papermill": {
     "duration": 0.054508,
     "end_time": "2025-01-18T04:37:40.364394",
     "exception": false,
     "start_time": "2025-01-18T04:37:40.309886",
     "status": "completed"
    },
    "tags": []
   },
   "outputs": [
    {
     "data": {
      "text/html": [
       "<div>\n",
       "<style scoped>\n",
       "    .dataframe tbody tr th:only-of-type {\n",
       "        vertical-align: middle;\n",
       "    }\n",
       "\n",
       "    .dataframe tbody tr th {\n",
       "        vertical-align: top;\n",
       "    }\n",
       "\n",
       "    .dataframe thead th {\n",
       "        text-align: right;\n",
       "    }\n",
       "</style>\n",
       "<table border=\"1\" class=\"dataframe\">\n",
       "  <thead>\n",
       "    <tr style=\"text-align: right;\">\n",
       "      <th></th>\n",
       "      <th>HomePlanet</th>\n",
       "      <th>CryoSleep</th>\n",
       "      <th>Destination</th>\n",
       "      <th>Age</th>\n",
       "      <th>VIP</th>\n",
       "      <th>RoomService</th>\n",
       "      <th>FoodCourt</th>\n",
       "      <th>ShoppingMall</th>\n",
       "      <th>Spa</th>\n",
       "      <th>VRDeck</th>\n",
       "    </tr>\n",
       "  </thead>\n",
       "  <tbody>\n",
       "    <tr>\n",
       "      <th>7</th>\n",
       "      <td>0.0</td>\n",
       "      <td>1.0</td>\n",
       "      <td>2.0</td>\n",
       "      <td>28.0</td>\n",
       "      <td>0.0</td>\n",
       "      <td>0.000000</td>\n",
       "      <td>0.0</td>\n",
       "      <td>0.000000</td>\n",
       "      <td>0.0</td>\n",
       "      <td>-17.805032</td>\n",
       "    </tr>\n",
       "    <tr>\n",
       "      <th>10</th>\n",
       "      <td>1.0</td>\n",
       "      <td>1.0</td>\n",
       "      <td>2.0</td>\n",
       "      <td>34.0</td>\n",
       "      <td>0.0</td>\n",
       "      <td>0.000000</td>\n",
       "      <td>0.0</td>\n",
       "      <td>164.890845</td>\n",
       "      <td>0.0</td>\n",
       "      <td>0.000000</td>\n",
       "    </tr>\n",
       "    <tr>\n",
       "      <th>16</th>\n",
       "      <td>2.0</td>\n",
       "      <td>0.0</td>\n",
       "      <td>0.0</td>\n",
       "      <td>27.0</td>\n",
       "      <td>0.0</td>\n",
       "      <td>1286.000000</td>\n",
       "      <td>122.0</td>\n",
       "      <td>219.035750</td>\n",
       "      <td>0.0</td>\n",
       "      <td>0.000000</td>\n",
       "    </tr>\n",
       "    <tr>\n",
       "      <th>23</th>\n",
       "      <td>0.0</td>\n",
       "      <td>1.0</td>\n",
       "      <td>0.0</td>\n",
       "      <td>29.0</td>\n",
       "      <td>0.0</td>\n",
       "      <td>0.000000</td>\n",
       "      <td>0.0</td>\n",
       "      <td>164.873579</td>\n",
       "      <td>0.0</td>\n",
       "      <td>0.000000</td>\n",
       "    </tr>\n",
       "    <tr>\n",
       "      <th>25</th>\n",
       "      <td>0.0</td>\n",
       "      <td>1.0</td>\n",
       "      <td>1.0</td>\n",
       "      <td>1.0</td>\n",
       "      <td>0.0</td>\n",
       "      <td>-113.608846</td>\n",
       "      <td>0.0</td>\n",
       "      <td>0.000000</td>\n",
       "      <td>0.0</td>\n",
       "      <td>0.000000</td>\n",
       "    </tr>\n",
       "  </tbody>\n",
       "</table>\n",
       "</div>"
      ],
      "text/plain": [
       "    HomePlanet  CryoSleep  Destination   Age  VIP  RoomService  FoodCourt  \\\n",
       "7          0.0        1.0          2.0  28.0  0.0     0.000000        0.0   \n",
       "10         1.0        1.0          2.0  34.0  0.0     0.000000        0.0   \n",
       "16         2.0        0.0          0.0  27.0  0.0  1286.000000      122.0   \n",
       "23         0.0        1.0          0.0  29.0  0.0     0.000000        0.0   \n",
       "25         0.0        1.0          1.0   1.0  0.0  -113.608846        0.0   \n",
       "\n",
       "    ShoppingMall  Spa     VRDeck  \n",
       "7       0.000000  0.0 -17.805032  \n",
       "10    164.890845  0.0   0.000000  \n",
       "16    219.035750  0.0   0.000000  \n",
       "23    164.873579  0.0   0.000000  \n",
       "25      0.000000  0.0   0.000000  "
      ]
     },
     "execution_count": 49,
     "metadata": {},
     "output_type": "execute_result"
    }
   ],
   "source": [
    "# Imputed Data\n",
    "imputed_df[missing_sample].head()"
   ]
  },
  {
   "cell_type": "markdown",
   "id": "a525669a",
   "metadata": {
    "id": "cyF2JOZIdNQW",
    "papermill": {
     "duration": 0.036119,
     "end_time": "2025-01-18T04:37:40.437510",
     "exception": false,
     "start_time": "2025-01-18T04:37:40.401391",
     "status": "completed"
    },
    "tags": []
   },
   "source": [
    "##### **Fancy Imputer**"
   ]
  },
  {
   "cell_type": "code",
   "execution_count": 50,
   "id": "53d57a39",
   "metadata": {
    "execution": {
     "iopub.execute_input": "2025-01-18T04:37:40.511935Z",
     "iopub.status.busy": "2025-01-18T04:37:40.511569Z",
     "iopub.status.idle": "2025-01-18T04:37:40.662167Z",
     "shell.execute_reply": "2025-01-18T04:37:40.661296Z"
    },
    "id": "ZY6Y8h5SahYZ",
    "papermill": {
     "duration": 0.189637,
     "end_time": "2025-01-18T04:37:40.663980",
     "exception": false,
     "start_time": "2025-01-18T04:37:40.474343",
     "status": "completed"
    },
    "tags": []
   },
   "outputs": [],
   "source": [
    "# Apply MICE\n",
    "data = df.copy()\n",
    "imputer = FIterativeImputer(max_iter=10, random_state=42)\n",
    "imputed_data = imputer.fit_transform(data)\n",
    "imputed_data = pd.DataFrame(imputed_data, columns=df.columns)"
   ]
  },
  {
   "cell_type": "code",
   "execution_count": 51,
   "id": "7a8d4e3d",
   "metadata": {
    "execution": {
     "iopub.execute_input": "2025-01-18T04:37:40.739709Z",
     "iopub.status.busy": "2025-01-18T04:37:40.739357Z",
     "iopub.status.idle": "2025-01-18T04:37:40.754037Z",
     "shell.execute_reply": "2025-01-18T04:37:40.753119Z"
    },
    "id": "p2eGQIcZbVVl",
    "outputId": "756ffee3-2acd-420c-c27a-20edd57ba1c2",
    "papermill": {
     "duration": 0.054127,
     "end_time": "2025-01-18T04:37:40.755624",
     "exception": false,
     "start_time": "2025-01-18T04:37:40.701497",
     "status": "completed"
    },
    "tags": []
   },
   "outputs": [
    {
     "data": {
      "text/html": [
       "<div>\n",
       "<style scoped>\n",
       "    .dataframe tbody tr th:only-of-type {\n",
       "        vertical-align: middle;\n",
       "    }\n",
       "\n",
       "    .dataframe tbody tr th {\n",
       "        vertical-align: top;\n",
       "    }\n",
       "\n",
       "    .dataframe thead th {\n",
       "        text-align: right;\n",
       "    }\n",
       "</style>\n",
       "<table border=\"1\" class=\"dataframe\">\n",
       "  <thead>\n",
       "    <tr style=\"text-align: right;\">\n",
       "      <th></th>\n",
       "      <th>HomePlanet</th>\n",
       "      <th>CryoSleep</th>\n",
       "      <th>Destination</th>\n",
       "      <th>Age</th>\n",
       "      <th>VIP</th>\n",
       "      <th>RoomService</th>\n",
       "      <th>FoodCourt</th>\n",
       "      <th>ShoppingMall</th>\n",
       "      <th>Spa</th>\n",
       "      <th>VRDeck</th>\n",
       "    </tr>\n",
       "  </thead>\n",
       "  <tbody>\n",
       "    <tr>\n",
       "      <th>7</th>\n",
       "      <td>0</td>\n",
       "      <td>1</td>\n",
       "      <td>2</td>\n",
       "      <td>28.0</td>\n",
       "      <td>0</td>\n",
       "      <td>0.0</td>\n",
       "      <td>0.0</td>\n",
       "      <td>0.0</td>\n",
       "      <td>0.0</td>\n",
       "      <td>NaN</td>\n",
       "    </tr>\n",
       "    <tr>\n",
       "      <th>10</th>\n",
       "      <td>1</td>\n",
       "      <td>1</td>\n",
       "      <td>2</td>\n",
       "      <td>34.0</td>\n",
       "      <td>0</td>\n",
       "      <td>0.0</td>\n",
       "      <td>0.0</td>\n",
       "      <td>NaN</td>\n",
       "      <td>0.0</td>\n",
       "      <td>0.0</td>\n",
       "    </tr>\n",
       "    <tr>\n",
       "      <th>16</th>\n",
       "      <td>2</td>\n",
       "      <td>0</td>\n",
       "      <td>0</td>\n",
       "      <td>27.0</td>\n",
       "      <td>0</td>\n",
       "      <td>1286.0</td>\n",
       "      <td>122.0</td>\n",
       "      <td>NaN</td>\n",
       "      <td>0.0</td>\n",
       "      <td>0.0</td>\n",
       "    </tr>\n",
       "    <tr>\n",
       "      <th>23</th>\n",
       "      <td>0</td>\n",
       "      <td>1</td>\n",
       "      <td>0</td>\n",
       "      <td>29.0</td>\n",
       "      <td>0</td>\n",
       "      <td>0.0</td>\n",
       "      <td>0.0</td>\n",
       "      <td>NaN</td>\n",
       "      <td>0.0</td>\n",
       "      <td>0.0</td>\n",
       "    </tr>\n",
       "    <tr>\n",
       "      <th>25</th>\n",
       "      <td>0</td>\n",
       "      <td>1</td>\n",
       "      <td>1</td>\n",
       "      <td>1.0</td>\n",
       "      <td>0</td>\n",
       "      <td>NaN</td>\n",
       "      <td>0.0</td>\n",
       "      <td>0.0</td>\n",
       "      <td>0.0</td>\n",
       "      <td>0.0</td>\n",
       "    </tr>\n",
       "  </tbody>\n",
       "</table>\n",
       "</div>"
      ],
      "text/plain": [
       "    HomePlanet  CryoSleep  Destination   Age  VIP  RoomService  FoodCourt  \\\n",
       "7            0          1            2  28.0    0          0.0        0.0   \n",
       "10           1          1            2  34.0    0          0.0        0.0   \n",
       "16           2          0            0  27.0    0       1286.0      122.0   \n",
       "23           0          1            0  29.0    0          0.0        0.0   \n",
       "25           0          1            1   1.0    0          NaN        0.0   \n",
       "\n",
       "    ShoppingMall  Spa  VRDeck  \n",
       "7            0.0  0.0     NaN  \n",
       "10           NaN  0.0     0.0  \n",
       "16           NaN  0.0     0.0  \n",
       "23           NaN  0.0     0.0  \n",
       "25           0.0  0.0     0.0  "
      ]
     },
     "execution_count": 51,
     "metadata": {},
     "output_type": "execute_result"
    }
   ],
   "source": [
    "df[missing_sample].head()"
   ]
  },
  {
   "cell_type": "code",
   "execution_count": 52,
   "id": "1f395d20",
   "metadata": {
    "execution": {
     "iopub.execute_input": "2025-01-18T04:37:40.831702Z",
     "iopub.status.busy": "2025-01-18T04:37:40.831371Z",
     "iopub.status.idle": "2025-01-18T04:37:40.847468Z",
     "shell.execute_reply": "2025-01-18T04:37:40.846494Z"
    },
    "id": "YTugV9JPbcUb",
    "outputId": "a608c1e8-ab51-4c8f-cdf0-f226c643e2ae",
    "papermill": {
     "duration": 0.055246,
     "end_time": "2025-01-18T04:37:40.848895",
     "exception": false,
     "start_time": "2025-01-18T04:37:40.793649",
     "status": "completed"
    },
    "tags": []
   },
   "outputs": [
    {
     "data": {
      "text/html": [
       "<div>\n",
       "<style scoped>\n",
       "    .dataframe tbody tr th:only-of-type {\n",
       "        vertical-align: middle;\n",
       "    }\n",
       "\n",
       "    .dataframe tbody tr th {\n",
       "        vertical-align: top;\n",
       "    }\n",
       "\n",
       "    .dataframe thead th {\n",
       "        text-align: right;\n",
       "    }\n",
       "</style>\n",
       "<table border=\"1\" class=\"dataframe\">\n",
       "  <thead>\n",
       "    <tr style=\"text-align: right;\">\n",
       "      <th></th>\n",
       "      <th>HomePlanet</th>\n",
       "      <th>CryoSleep</th>\n",
       "      <th>Destination</th>\n",
       "      <th>Age</th>\n",
       "      <th>VIP</th>\n",
       "      <th>RoomService</th>\n",
       "      <th>FoodCourt</th>\n",
       "      <th>ShoppingMall</th>\n",
       "      <th>Spa</th>\n",
       "      <th>VRDeck</th>\n",
       "    </tr>\n",
       "  </thead>\n",
       "  <tbody>\n",
       "    <tr>\n",
       "      <th>7</th>\n",
       "      <td>0.0</td>\n",
       "      <td>1.0</td>\n",
       "      <td>2.0</td>\n",
       "      <td>28.0</td>\n",
       "      <td>0.0</td>\n",
       "      <td>0.000000</td>\n",
       "      <td>0.0</td>\n",
       "      <td>0.000000</td>\n",
       "      <td>0.0</td>\n",
       "      <td>-17.805032</td>\n",
       "    </tr>\n",
       "    <tr>\n",
       "      <th>10</th>\n",
       "      <td>1.0</td>\n",
       "      <td>1.0</td>\n",
       "      <td>2.0</td>\n",
       "      <td>34.0</td>\n",
       "      <td>0.0</td>\n",
       "      <td>0.000000</td>\n",
       "      <td>0.0</td>\n",
       "      <td>164.890845</td>\n",
       "      <td>0.0</td>\n",
       "      <td>0.000000</td>\n",
       "    </tr>\n",
       "    <tr>\n",
       "      <th>16</th>\n",
       "      <td>2.0</td>\n",
       "      <td>0.0</td>\n",
       "      <td>0.0</td>\n",
       "      <td>27.0</td>\n",
       "      <td>0.0</td>\n",
       "      <td>1286.000000</td>\n",
       "      <td>122.0</td>\n",
       "      <td>219.035750</td>\n",
       "      <td>0.0</td>\n",
       "      <td>0.000000</td>\n",
       "    </tr>\n",
       "    <tr>\n",
       "      <th>23</th>\n",
       "      <td>0.0</td>\n",
       "      <td>1.0</td>\n",
       "      <td>0.0</td>\n",
       "      <td>29.0</td>\n",
       "      <td>0.0</td>\n",
       "      <td>0.000000</td>\n",
       "      <td>0.0</td>\n",
       "      <td>164.873579</td>\n",
       "      <td>0.0</td>\n",
       "      <td>0.000000</td>\n",
       "    </tr>\n",
       "    <tr>\n",
       "      <th>25</th>\n",
       "      <td>0.0</td>\n",
       "      <td>1.0</td>\n",
       "      <td>1.0</td>\n",
       "      <td>1.0</td>\n",
       "      <td>0.0</td>\n",
       "      <td>-113.608846</td>\n",
       "      <td>0.0</td>\n",
       "      <td>0.000000</td>\n",
       "      <td>0.0</td>\n",
       "      <td>0.000000</td>\n",
       "    </tr>\n",
       "  </tbody>\n",
       "</table>\n",
       "</div>"
      ],
      "text/plain": [
       "    HomePlanet  CryoSleep  Destination   Age  VIP  RoomService  FoodCourt  \\\n",
       "7          0.0        1.0          2.0  28.0  0.0     0.000000        0.0   \n",
       "10         1.0        1.0          2.0  34.0  0.0     0.000000        0.0   \n",
       "16         2.0        0.0          0.0  27.0  0.0  1286.000000      122.0   \n",
       "23         0.0        1.0          0.0  29.0  0.0     0.000000        0.0   \n",
       "25         0.0        1.0          1.0   1.0  0.0  -113.608846        0.0   \n",
       "\n",
       "    ShoppingMall  Spa     VRDeck  \n",
       "7       0.000000  0.0 -17.805032  \n",
       "10    164.890845  0.0   0.000000  \n",
       "16    219.035750  0.0   0.000000  \n",
       "23    164.873579  0.0   0.000000  \n",
       "25      0.000000  0.0   0.000000  "
      ]
     },
     "execution_count": 52,
     "metadata": {},
     "output_type": "execute_result"
    }
   ],
   "source": [
    "imputed_data[missing_sample].head()"
   ]
  },
  {
   "cell_type": "markdown",
   "id": "12451dfe",
   "metadata": {
    "id": "DeZ5KVbUbiM-",
    "papermill": {
     "duration": 0.036906,
     "end_time": "2025-01-18T04:37:40.923128",
     "exception": false,
     "start_time": "2025-01-18T04:37:40.886222",
     "status": "completed"
    },
    "tags": []
   },
   "source": [
    "The results show that the imputed values do not differ significantly across implementations. If you are looking for more precise imputations and prefer to use a more advanced model, such as LightGBM, you can consider using the `miceforest` library for imputation."
   ]
  },
  {
   "cell_type": "markdown",
   "id": "d2c52b11",
   "metadata": {
    "id": "Mb07utO4dbuJ",
    "papermill": {
     "duration": 0.036688,
     "end_time": "2025-01-18T04:37:40.996682",
     "exception": false,
     "start_time": "2025-01-18T04:37:40.959994",
     "status": "completed"
    },
    "tags": []
   },
   "source": [
    "##### **MICEForest**"
   ]
  },
  {
   "cell_type": "markdown",
   "id": "ca549072",
   "metadata": {
    "id": "ZTSf-8urdhX3",
    "papermill": {
     "duration": 0.036886,
     "end_time": "2025-01-18T04:37:41.071419",
     "exception": false,
     "start_time": "2025-01-18T04:37:41.034533",
     "status": "completed"
    },
    "tags": []
   },
   "source": [
    "This is gonna be a little computationally expensive process."
   ]
  },
  {
   "cell_type": "code",
   "execution_count": 53,
   "id": "92e1dd6f",
   "metadata": {
    "execution": {
     "iopub.execute_input": "2025-01-18T04:37:41.147267Z",
     "iopub.status.busy": "2025-01-18T04:37:41.146744Z",
     "iopub.status.idle": "2025-01-18T04:37:43.548898Z",
     "shell.execute_reply": "2025-01-18T04:37:43.547818Z"
    },
    "id": "_JtcRTCKbzQW",
    "papermill": {
     "duration": 2.442106,
     "end_time": "2025-01-18T04:37:43.550773",
     "exception": false,
     "start_time": "2025-01-18T04:37:41.108667",
     "status": "completed"
    },
    "tags": []
   },
   "outputs": [],
   "source": [
    "# Initialize copy\n",
    "df_copy = df.copy()\n",
    "\n",
    "# Create Kernel\n",
    "kernel = mf.ImputationKernel(\n",
    "  df_copy,\n",
    "  random_state=42\n",
    ")\n",
    "\n",
    "# Run MICE 2 times\n",
    "kernel.mice(2)\n",
    "\n",
    "# Return the completed dataset.\n",
    "imputed_data = kernel.complete_data()"
   ]
  },
  {
   "cell_type": "code",
   "execution_count": 54,
   "id": "9a0fd46a",
   "metadata": {
    "execution": {
     "iopub.execute_input": "2025-01-18T04:37:43.629550Z",
     "iopub.status.busy": "2025-01-18T04:37:43.628950Z",
     "iopub.status.idle": "2025-01-18T04:37:43.646695Z",
     "shell.execute_reply": "2025-01-18T04:37:43.645682Z"
    },
    "id": "cv8u7H_ecTny",
    "outputId": "b6749632-12d6-4103-8a42-99a4338a2745",
    "papermill": {
     "duration": 0.057802,
     "end_time": "2025-01-18T04:37:43.648493",
     "exception": false,
     "start_time": "2025-01-18T04:37:43.590691",
     "status": "completed"
    },
    "tags": []
   },
   "outputs": [
    {
     "data": {
      "text/html": [
       "<div>\n",
       "<style scoped>\n",
       "    .dataframe tbody tr th:only-of-type {\n",
       "        vertical-align: middle;\n",
       "    }\n",
       "\n",
       "    .dataframe tbody tr th {\n",
       "        vertical-align: top;\n",
       "    }\n",
       "\n",
       "    .dataframe thead th {\n",
       "        text-align: right;\n",
       "    }\n",
       "</style>\n",
       "<table border=\"1\" class=\"dataframe\">\n",
       "  <thead>\n",
       "    <tr style=\"text-align: right;\">\n",
       "      <th></th>\n",
       "      <th>HomePlanet</th>\n",
       "      <th>CryoSleep</th>\n",
       "      <th>Destination</th>\n",
       "      <th>Age</th>\n",
       "      <th>VIP</th>\n",
       "      <th>RoomService</th>\n",
       "      <th>FoodCourt</th>\n",
       "      <th>ShoppingMall</th>\n",
       "      <th>Spa</th>\n",
       "      <th>VRDeck</th>\n",
       "    </tr>\n",
       "  </thead>\n",
       "  <tbody>\n",
       "    <tr>\n",
       "      <th>7</th>\n",
       "      <td>0</td>\n",
       "      <td>1</td>\n",
       "      <td>2</td>\n",
       "      <td>28.0</td>\n",
       "      <td>0</td>\n",
       "      <td>0.0</td>\n",
       "      <td>0.0</td>\n",
       "      <td>0.0</td>\n",
       "      <td>0.0</td>\n",
       "      <td>NaN</td>\n",
       "    </tr>\n",
       "    <tr>\n",
       "      <th>10</th>\n",
       "      <td>1</td>\n",
       "      <td>1</td>\n",
       "      <td>2</td>\n",
       "      <td>34.0</td>\n",
       "      <td>0</td>\n",
       "      <td>0.0</td>\n",
       "      <td>0.0</td>\n",
       "      <td>NaN</td>\n",
       "      <td>0.0</td>\n",
       "      <td>0.0</td>\n",
       "    </tr>\n",
       "    <tr>\n",
       "      <th>16</th>\n",
       "      <td>2</td>\n",
       "      <td>0</td>\n",
       "      <td>0</td>\n",
       "      <td>27.0</td>\n",
       "      <td>0</td>\n",
       "      <td>1286.0</td>\n",
       "      <td>122.0</td>\n",
       "      <td>NaN</td>\n",
       "      <td>0.0</td>\n",
       "      <td>0.0</td>\n",
       "    </tr>\n",
       "    <tr>\n",
       "      <th>23</th>\n",
       "      <td>0</td>\n",
       "      <td>1</td>\n",
       "      <td>0</td>\n",
       "      <td>29.0</td>\n",
       "      <td>0</td>\n",
       "      <td>0.0</td>\n",
       "      <td>0.0</td>\n",
       "      <td>NaN</td>\n",
       "      <td>0.0</td>\n",
       "      <td>0.0</td>\n",
       "    </tr>\n",
       "    <tr>\n",
       "      <th>25</th>\n",
       "      <td>0</td>\n",
       "      <td>1</td>\n",
       "      <td>1</td>\n",
       "      <td>1.0</td>\n",
       "      <td>0</td>\n",
       "      <td>NaN</td>\n",
       "      <td>0.0</td>\n",
       "      <td>0.0</td>\n",
       "      <td>0.0</td>\n",
       "      <td>0.0</td>\n",
       "    </tr>\n",
       "  </tbody>\n",
       "</table>\n",
       "</div>"
      ],
      "text/plain": [
       "    HomePlanet  CryoSleep  Destination   Age  VIP  RoomService  FoodCourt  \\\n",
       "7            0          1            2  28.0    0          0.0        0.0   \n",
       "10           1          1            2  34.0    0          0.0        0.0   \n",
       "16           2          0            0  27.0    0       1286.0      122.0   \n",
       "23           0          1            0  29.0    0          0.0        0.0   \n",
       "25           0          1            1   1.0    0          NaN        0.0   \n",
       "\n",
       "    ShoppingMall  Spa  VRDeck  \n",
       "7            0.0  0.0     NaN  \n",
       "10           NaN  0.0     0.0  \n",
       "16           NaN  0.0     0.0  \n",
       "23           NaN  0.0     0.0  \n",
       "25           0.0  0.0     0.0  "
      ]
     },
     "execution_count": 54,
     "metadata": {},
     "output_type": "execute_result"
    }
   ],
   "source": [
    "df[missing_sample].head()"
   ]
  },
  {
   "cell_type": "code",
   "execution_count": 55,
   "id": "f35759f8",
   "metadata": {
    "execution": {
     "iopub.execute_input": "2025-01-18T04:37:43.725224Z",
     "iopub.status.busy": "2025-01-18T04:37:43.724839Z",
     "iopub.status.idle": "2025-01-18T04:37:43.739877Z",
     "shell.execute_reply": "2025-01-18T04:37:43.738881Z"
    },
    "id": "YLzHdC3ycWGO",
    "outputId": "24441f0c-e13e-46ad-d2e0-3ef1c326753b",
    "papermill": {
     "duration": 0.054801,
     "end_time": "2025-01-18T04:37:43.741410",
     "exception": false,
     "start_time": "2025-01-18T04:37:43.686609",
     "status": "completed"
    },
    "tags": []
   },
   "outputs": [
    {
     "data": {
      "text/html": [
       "<div>\n",
       "<style scoped>\n",
       "    .dataframe tbody tr th:only-of-type {\n",
       "        vertical-align: middle;\n",
       "    }\n",
       "\n",
       "    .dataframe tbody tr th {\n",
       "        vertical-align: top;\n",
       "    }\n",
       "\n",
       "    .dataframe thead th {\n",
       "        text-align: right;\n",
       "    }\n",
       "</style>\n",
       "<table border=\"1\" class=\"dataframe\">\n",
       "  <thead>\n",
       "    <tr style=\"text-align: right;\">\n",
       "      <th></th>\n",
       "      <th>HomePlanet</th>\n",
       "      <th>CryoSleep</th>\n",
       "      <th>Destination</th>\n",
       "      <th>Age</th>\n",
       "      <th>VIP</th>\n",
       "      <th>RoomService</th>\n",
       "      <th>FoodCourt</th>\n",
       "      <th>ShoppingMall</th>\n",
       "      <th>Spa</th>\n",
       "      <th>VRDeck</th>\n",
       "    </tr>\n",
       "  </thead>\n",
       "  <tbody>\n",
       "    <tr>\n",
       "      <th>7</th>\n",
       "      <td>0</td>\n",
       "      <td>1</td>\n",
       "      <td>2</td>\n",
       "      <td>28.0</td>\n",
       "      <td>0</td>\n",
       "      <td>0.0</td>\n",
       "      <td>0.0</td>\n",
       "      <td>0.0</td>\n",
       "      <td>0.0</td>\n",
       "      <td>0.0</td>\n",
       "    </tr>\n",
       "    <tr>\n",
       "      <th>10</th>\n",
       "      <td>1</td>\n",
       "      <td>1</td>\n",
       "      <td>2</td>\n",
       "      <td>34.0</td>\n",
       "      <td>0</td>\n",
       "      <td>0.0</td>\n",
       "      <td>0.0</td>\n",
       "      <td>0.0</td>\n",
       "      <td>0.0</td>\n",
       "      <td>0.0</td>\n",
       "    </tr>\n",
       "    <tr>\n",
       "      <th>16</th>\n",
       "      <td>2</td>\n",
       "      <td>0</td>\n",
       "      <td>0</td>\n",
       "      <td>27.0</td>\n",
       "      <td>0</td>\n",
       "      <td>1286.0</td>\n",
       "      <td>122.0</td>\n",
       "      <td>1179.0</td>\n",
       "      <td>0.0</td>\n",
       "      <td>0.0</td>\n",
       "    </tr>\n",
       "    <tr>\n",
       "      <th>23</th>\n",
       "      <td>0</td>\n",
       "      <td>1</td>\n",
       "      <td>0</td>\n",
       "      <td>29.0</td>\n",
       "      <td>0</td>\n",
       "      <td>0.0</td>\n",
       "      <td>0.0</td>\n",
       "      <td>0.0</td>\n",
       "      <td>0.0</td>\n",
       "      <td>0.0</td>\n",
       "    </tr>\n",
       "    <tr>\n",
       "      <th>25</th>\n",
       "      <td>0</td>\n",
       "      <td>1</td>\n",
       "      <td>1</td>\n",
       "      <td>1.0</td>\n",
       "      <td>0</td>\n",
       "      <td>0.0</td>\n",
       "      <td>0.0</td>\n",
       "      <td>0.0</td>\n",
       "      <td>0.0</td>\n",
       "      <td>0.0</td>\n",
       "    </tr>\n",
       "  </tbody>\n",
       "</table>\n",
       "</div>"
      ],
      "text/plain": [
       "    HomePlanet  CryoSleep  Destination   Age  VIP  RoomService  FoodCourt  \\\n",
       "7            0          1            2  28.0    0          0.0        0.0   \n",
       "10           1          1            2  34.0    0          0.0        0.0   \n",
       "16           2          0            0  27.0    0       1286.0      122.0   \n",
       "23           0          1            0  29.0    0          0.0        0.0   \n",
       "25           0          1            1   1.0    0          0.0        0.0   \n",
       "\n",
       "    ShoppingMall  Spa  VRDeck  \n",
       "7            0.0  0.0     0.0  \n",
       "10           0.0  0.0     0.0  \n",
       "16        1179.0  0.0     0.0  \n",
       "23           0.0  0.0     0.0  \n",
       "25           0.0  0.0     0.0  "
      ]
     },
     "execution_count": 55,
     "metadata": {},
     "output_type": "execute_result"
    }
   ],
   "source": [
    "imputed_data[missing_sample].head()"
   ]
  },
  {
   "cell_type": "markdown",
   "id": "df9f86e4",
   "metadata": {
    "id": "eoRHLvdlcz2l",
    "papermill": {
     "duration": 0.037177,
     "end_time": "2025-01-18T04:37:43.816125",
     "exception": false,
     "start_time": "2025-01-18T04:37:43.778948",
     "status": "completed"
    },
    "tags": []
   },
   "source": [
    "The results clearly show that the imputed values differ more significantly with this method compared to the previous ones. For instance, the values for the VR deck are more reasonable, avoiding the negative values generated by earlier methods. Additionally, these results are somewhat similar to those produced by the KNN imputer. This similarity may arise because both approaches rely on the underlying structure of the data—KNN being an instance-based method and the model-based imputation developing an understanding of the data. However, this observation is purely empirical and lacks a formal analogy."
   ]
  },
  {
   "cell_type": "markdown",
   "id": "03bfe284",
   "metadata": {
    "id": "VJDtetBJkSaN",
    "papermill": {
     "duration": 0.037127,
     "end_time": "2025-01-18T04:37:43.890320",
     "exception": false,
     "start_time": "2025-01-18T04:37:43.853193",
     "status": "completed"
    },
    "tags": []
   },
   "source": [
    "\n",
    "**Merits**\n",
    "\n",
    "- Captures the relationships between variables, leading to more realistic imputations.\n",
    "- Provides multiple imputed datasets, reflecting the uncertainty of missing values.\n",
    "- Effective for datasets with complex relationships or mixed data types.\n",
    "\n",
    "\n",
    "**Demerits**\n",
    "\n",
    "- Computationally intensive, especially for large datasets or high-dimensional data.\n",
    "- Requires careful tuning, such as selecting appropriate models for imputation.\n",
    "- Assumes that data is missing at random (MAR), which may not always be true.\n",
    "\n",
    "\n",
    "**When to Use MICE**\n",
    "\n",
    "- When missing values are present in multiple features with complex interdependencies.\n",
    "- When preserving relationships between variables is critical.\n",
    "- When a single imputation method (e.g., mean or median) oversimplifies the problem.\n"
   ]
  },
  {
   "cell_type": "markdown",
   "id": "a86cff68",
   "metadata": {
    "id": "hyNcL55cX_DJ",
    "papermill": {
     "duration": 0.036735,
     "end_time": "2025-01-18T04:37:43.964327",
     "exception": false,
     "start_time": "2025-01-18T04:37:43.927592",
     "status": "completed"
    },
    "tags": []
   },
   "source": [
    "# **Time-Series Specific Methods**"
   ]
  },
  {
   "cell_type": "markdown",
   "id": "8748dd13",
   "metadata": {
    "id": "RcKIl5bPX9hB",
    "papermill": {
     "duration": 0.037263,
     "end_time": "2025-01-18T04:37:44.039503",
     "exception": false,
     "start_time": "2025-01-18T04:37:44.002240",
     "status": "completed"
    },
    "tags": []
   },
   "source": [
    "When working with machine learning datasets, it's important to recognize that time series data presents unique challenges compared to traditional datasets. In the case of time series data, each data point is typically influenced by previous observations, making the relationships between data points inherently temporal. This is in contrast to traditional datasets, where individual samples are generally considered independent of one another.\n",
    "\n",
    "Time series data requires specialized techniques to effectively capture the temporal dependencies and trends. Here are a few key methods that are commonly used when working with time series data:\n",
    "\n",
    "1. **Interpolation Methods**: In time series analysis, it is often necessary to handle missing or irregular data points. Interpolation techniques can be employed to estimate missing values. Some common methods include:\n",
    "   - **Linear Interpolation**: This technique assumes that the missing value lies on a straight line between known values before and after the gap.\n",
    "   - **Spline Interpolation**: This method uses polynomial functions to create a smooth curve through the data points, providing a more flexible fit compared to linear interpolation, especially in cases where the data exhibits non-linear trends.\n",
    "\n",
    "2. **Seasonal Decomposition**: Time series data often exhibits seasonality, where patterns repeat at regular intervals. Seasonal decomposition is a technique used to break down a time series into its constituent components:\n",
    "   - **Trend**: The long-term movement or direction of the data.\n",
    "   - **Seasonality**: The regular, predictable patterns that occur at specific intervals, such as daily, monthly, or yearly cycles.\n",
    "   - **Residual**: The random noise or irregular fluctuations after removing the trend and seasonal components.\n",
    "\n",
    "By applying these methods, you can better understand the underlying structure of your time series data and improve the accuracy of your forecasting and modeling efforts. It is important to recognize that, unlike traditional datasets, the temporal structure of time series data necessitates the use of techniques that explicitly account for these dependencies over time."
   ]
  },
  {
   "cell_type": "code",
   "execution_count": 56,
   "id": "92fc3eed",
   "metadata": {
    "execution": {
     "iopub.execute_input": "2025-01-18T04:37:44.116492Z",
     "iopub.status.busy": "2025-01-18T04:37:44.116150Z",
     "iopub.status.idle": "2025-01-18T04:37:44.143978Z",
     "shell.execute_reply": "2025-01-18T04:37:44.142980Z"
    },
    "id": "u0KbO5qbX9VB",
    "outputId": "2f7d0156-1334-408c-ada1-de6fcdd01ac1",
    "papermill": {
     "duration": 0.068374,
     "end_time": "2025-01-18T04:37:44.145607",
     "exception": false,
     "start_time": "2025-01-18T04:37:44.077233",
     "status": "completed"
    },
    "tags": []
   },
   "outputs": [
    {
     "data": {
      "text/html": [
       "<div>\n",
       "<style scoped>\n",
       "    .dataframe tbody tr th:only-of-type {\n",
       "        vertical-align: middle;\n",
       "    }\n",
       "\n",
       "    .dataframe tbody tr th {\n",
       "        vertical-align: top;\n",
       "    }\n",
       "\n",
       "    .dataframe thead th {\n",
       "        text-align: right;\n",
       "    }\n",
       "</style>\n",
       "<table border=\"1\" class=\"dataframe\">\n",
       "  <thead>\n",
       "    <tr style=\"text-align: right;\">\n",
       "      <th></th>\n",
       "      <th>Period</th>\n",
       "      <th>Revenue</th>\n",
       "      <th>Sales_quantity</th>\n",
       "      <th>Average_cost</th>\n",
       "      <th>The_average_annual_payroll_of_the_region</th>\n",
       "    </tr>\n",
       "  </thead>\n",
       "  <tbody>\n",
       "    <tr>\n",
       "      <th>0</th>\n",
       "      <td>01.01.2015</td>\n",
       "      <td>1.601007e+07</td>\n",
       "      <td>12729.0</td>\n",
       "      <td>1257.763541</td>\n",
       "      <td>30024676.0</td>\n",
       "    </tr>\n",
       "    <tr>\n",
       "      <th>1</th>\n",
       "      <td>01.02.2015</td>\n",
       "      <td>1.580759e+07</td>\n",
       "      <td>11636.0</td>\n",
       "      <td>1358.507000</td>\n",
       "      <td>30024676.0</td>\n",
       "    </tr>\n",
       "    <tr>\n",
       "      <th>2</th>\n",
       "      <td>01.03.2015</td>\n",
       "      <td>2.204715e+07</td>\n",
       "      <td>15922.0</td>\n",
       "      <td>1384.697024</td>\n",
       "      <td>30024676.0</td>\n",
       "    </tr>\n",
       "    <tr>\n",
       "      <th>3</th>\n",
       "      <td>01.04.2015</td>\n",
       "      <td>1.881458e+07</td>\n",
       "      <td>15227.0</td>\n",
       "      <td>1235.606705</td>\n",
       "      <td>30024676.0</td>\n",
       "    </tr>\n",
       "    <tr>\n",
       "      <th>4</th>\n",
       "      <td>01.05.2015</td>\n",
       "      <td>1.402148e+07</td>\n",
       "      <td>8620.0</td>\n",
       "      <td>1626.621765</td>\n",
       "      <td>30024676.0</td>\n",
       "    </tr>\n",
       "  </tbody>\n",
       "</table>\n",
       "</div>"
      ],
      "text/plain": [
       "       Period       Revenue  Sales_quantity  Average_cost  \\\n",
       "0  01.01.2015  1.601007e+07         12729.0   1257.763541   \n",
       "1  01.02.2015  1.580759e+07         11636.0   1358.507000   \n",
       "2  01.03.2015  2.204715e+07         15922.0   1384.697024   \n",
       "3  01.04.2015  1.881458e+07         15227.0   1235.606705   \n",
       "4  01.05.2015  1.402148e+07          8620.0   1626.621765   \n",
       "\n",
       "   The_average_annual_payroll_of_the_region  \n",
       "0                                30024676.0  \n",
       "1                                30024676.0  \n",
       "2                                30024676.0  \n",
       "3                                30024676.0  \n",
       "4                                30024676.0  "
      ]
     },
     "execution_count": 56,
     "metadata": {},
     "output_type": "execute_result"
    }
   ],
   "source": [
    "# Download latest version\n",
    "path = \"/kaggle/input/time-series-starter-dataset\"\n",
    "filename = os.listdir(path)[0]\n",
    "file_path = os.path.join(path, filename)\n",
    "\n",
    "time_series_df = pd.read_csv(file_path)\n",
    "time_series_df.head()"
   ]
  },
  {
   "cell_type": "code",
   "execution_count": 57,
   "id": "804fe107",
   "metadata": {
    "execution": {
     "iopub.execute_input": "2025-01-18T04:37:44.221872Z",
     "iopub.status.busy": "2025-01-18T04:37:44.221511Z",
     "iopub.status.idle": "2025-01-18T04:37:44.228709Z",
     "shell.execute_reply": "2025-01-18T04:37:44.227833Z"
    },
    "id": "kwh-RPYio1Kl",
    "outputId": "ee33f008-cf15-4622-b833-03cb80e9080d",
    "papermill": {
     "duration": 0.046724,
     "end_time": "2025-01-18T04:37:44.230017",
     "exception": false,
     "start_time": "2025-01-18T04:37:44.183293",
     "status": "completed"
    },
    "tags": []
   },
   "outputs": [
    {
     "data": {
      "text/plain": [
       "Period                                       0\n",
       "Revenue                                     32\n",
       "Sales_quantity                              32\n",
       "Average_cost                                32\n",
       "The_average_annual_payroll_of_the_region    32\n",
       "dtype: int64"
      ]
     },
     "execution_count": 57,
     "metadata": {},
     "output_type": "execute_result"
    }
   ],
   "source": [
    "# Count the missing values\n",
    "missing_df = time_series_df.isnull().sum()\n",
    "missing_df"
   ]
  },
  {
   "cell_type": "code",
   "execution_count": 58,
   "id": "9535f572",
   "metadata": {
    "execution": {
     "iopub.execute_input": "2025-01-18T04:37:44.307358Z",
     "iopub.status.busy": "2025-01-18T04:37:44.306979Z",
     "iopub.status.idle": "2025-01-18T04:37:44.313828Z",
     "shell.execute_reply": "2025-01-18T04:37:44.312918Z"
    },
    "id": "nNS40JpiuR2j",
    "outputId": "042aa134-379b-4ea5-9f93-475d066688b6",
    "papermill": {
     "duration": 0.047287,
     "end_time": "2025-01-18T04:37:44.315361",
     "exception": false,
     "start_time": "2025-01-18T04:37:44.268074",
     "status": "completed"
    },
    "tags": []
   },
   "outputs": [
    {
     "data": {
      "text/plain": [
       "Period                                      0.00\n",
       "Revenue                                     0.33\n",
       "Sales_quantity                              0.33\n",
       "Average_cost                                0.33\n",
       "The_average_annual_payroll_of_the_region    0.33\n",
       "dtype: float64"
      ]
     },
     "execution_count": 58,
     "metadata": {},
     "output_type": "execute_result"
    }
   ],
   "source": [
    "# Percentage of missing values\n",
    "round(missing_df/len(time_series_df), 2)"
   ]
  },
  {
   "cell_type": "markdown",
   "id": "8b11302e",
   "metadata": {
    "id": "VhVMtxWZue-C",
    "papermill": {
     "duration": 0.037161,
     "end_time": "2025-01-18T04:37:44.390600",
     "exception": false,
     "start_time": "2025-01-18T04:37:44.353439",
     "status": "completed"
    },
    "tags": []
   },
   "source": [
    "In this case, we observe that only a small percentage of the entire dataset is missing, specifically 0.33%. When dealing with such a small proportion of missing data, one might consider removing the affected data points, as their absence is unlikely to have a significant impact on the overall analysis. However, it is important to explore alternative methods for handling missing data, especially when the missing values might have implications for more sensitive analyses or forecasting tasks.\n",
    "\n",
    "One such method is **interpolation**, which provides a way to estimate and fill in the missing values based on the available data. Interpolation techniques can be particularly useful in time series analysis, where the temporal relationships between data points need to be preserved. By using interpolation, we can avoid discarding valuable information and instead make reasonable estimates for the missing values, ensuring the continuity and integrity of the dataset.\n",
    "\n",
    "While removing missing data is a viable option when the missing percentage is small, methods like interpolation allow us to maintain the full dataset while accounting for the missing values in a more systematic and informed manner."
   ]
  },
  {
   "cell_type": "markdown",
   "id": "160e6710",
   "metadata": {
    "id": "hUwwjQAkv5jS",
    "papermill": {
     "duration": 0.036785,
     "end_time": "2025-01-18T04:37:44.464788",
     "exception": false,
     "start_time": "2025-01-18T04:37:44.428003",
     "status": "completed"
    },
    "tags": []
   },
   "source": [
    "## **Linear Interpolation**"
   ]
  },
  {
   "cell_type": "markdown",
   "id": "6d9af848",
   "metadata": {
    "id": "RRSdsQEdwSuR",
    "papermill": {
     "duration": 0.037134,
     "end_time": "2025-01-18T04:37:44.540135",
     "exception": false,
     "start_time": "2025-01-18T04:37:44.503001",
     "status": "completed"
    },
    "tags": []
   },
   "source": [
    "Linear interpolation is a method used to estimate missing values in a time series by assuming a straight-line relationship between the known data points before and after the missing value. The missing value is calculated by drawing a line between these two points and finding the corresponding value along the line. This technique is simple and effective when the data changes at a relatively constant rate between observations."
   ]
  },
  {
   "cell_type": "code",
   "execution_count": 59,
   "id": "881e3500",
   "metadata": {
    "execution": {
     "iopub.execute_input": "2025-01-18T04:37:44.616957Z",
     "iopub.status.busy": "2025-01-18T04:37:44.616624Z",
     "iopub.status.idle": "2025-01-18T04:37:44.626790Z",
     "shell.execute_reply": "2025-01-18T04:37:44.625920Z"
    },
    "id": "vkkjCuAKuRzi",
    "outputId": "03a4e8f1-e38d-456d-c67e-9e24171c1af0",
    "papermill": {
     "duration": 0.050214,
     "end_time": "2025-01-18T04:37:44.628158",
     "exception": false,
     "start_time": "2025-01-18T04:37:44.577944",
     "status": "completed"
    },
    "tags": []
   },
   "outputs": [
    {
     "data": {
      "text/plain": [
       "Period                                      0\n",
       "Revenue                                     0\n",
       "Sales_quantity                              0\n",
       "Average_cost                                0\n",
       "The_average_annual_payroll_of_the_region    0\n",
       "dtype: int64"
      ]
     },
     "execution_count": 59,
     "metadata": {},
     "output_type": "execute_result"
    }
   ],
   "source": [
    "# Copy the time serie data\n",
    "time_series = time_series_df.copy()\n",
    "\n",
    "# Apply Linear Interpolation\n",
    "time_series.interpolate(method='linear', inplace=True)\n",
    "\n",
    "# Count the null valus after interpolation\n",
    "time_series.isnull().sum()"
   ]
  },
  {
   "cell_type": "markdown",
   "id": "67013c2f",
   "metadata": {
    "id": "MU9mdee5wqTh",
    "papermill": {
     "duration": 0.037201,
     "end_time": "2025-01-18T04:37:44.703457",
     "exception": false,
     "start_time": "2025-01-18T04:37:44.666256",
     "status": "completed"
    },
    "tags": []
   },
   "source": [
    "As we can see, after interpolation we have no missing data any more."
   ]
  },
  {
   "cell_type": "code",
   "execution_count": 60,
   "id": "782048cf",
   "metadata": {
    "execution": {
     "iopub.execute_input": "2025-01-18T04:37:44.835089Z",
     "iopub.status.busy": "2025-01-18T04:37:44.834743Z",
     "iopub.status.idle": "2025-01-18T04:37:44.846675Z",
     "shell.execute_reply": "2025-01-18T04:37:44.845629Z"
    },
    "id": "A3N6bxMjuRwa",
    "outputId": "d61d7a84-5aa6-4c9d-ff58-db5b8a1d2fa5",
    "papermill": {
     "duration": 0.052157,
     "end_time": "2025-01-18T04:37:44.848219",
     "exception": false,
     "start_time": "2025-01-18T04:37:44.796062",
     "status": "completed"
    },
    "tags": []
   },
   "outputs": [
    {
     "data": {
      "text/html": [
       "<div>\n",
       "<style scoped>\n",
       "    .dataframe tbody tr th:only-of-type {\n",
       "        vertical-align: middle;\n",
       "    }\n",
       "\n",
       "    .dataframe tbody tr th {\n",
       "        vertical-align: top;\n",
       "    }\n",
       "\n",
       "    .dataframe thead th {\n",
       "        text-align: right;\n",
       "    }\n",
       "</style>\n",
       "<table border=\"1\" class=\"dataframe\">\n",
       "  <thead>\n",
       "    <tr style=\"text-align: right;\">\n",
       "      <th></th>\n",
       "      <th>Period</th>\n",
       "      <th>Revenue</th>\n",
       "      <th>Sales_quantity</th>\n",
       "      <th>Average_cost</th>\n",
       "      <th>The_average_annual_payroll_of_the_region</th>\n",
       "    </tr>\n",
       "  </thead>\n",
       "  <tbody>\n",
       "    <tr>\n",
       "      <th>64</th>\n",
       "      <td>01.05.2020</td>\n",
       "      <td>NaN</td>\n",
       "      <td>NaN</td>\n",
       "      <td>NaN</td>\n",
       "      <td>NaN</td>\n",
       "    </tr>\n",
       "    <tr>\n",
       "      <th>65</th>\n",
       "      <td>01.06.2020</td>\n",
       "      <td>NaN</td>\n",
       "      <td>NaN</td>\n",
       "      <td>NaN</td>\n",
       "      <td>NaN</td>\n",
       "    </tr>\n",
       "    <tr>\n",
       "      <th>66</th>\n",
       "      <td>01.07.2020</td>\n",
       "      <td>NaN</td>\n",
       "      <td>NaN</td>\n",
       "      <td>NaN</td>\n",
       "      <td>NaN</td>\n",
       "    </tr>\n",
       "    <tr>\n",
       "      <th>67</th>\n",
       "      <td>01.08.2020</td>\n",
       "      <td>NaN</td>\n",
       "      <td>NaN</td>\n",
       "      <td>NaN</td>\n",
       "      <td>NaN</td>\n",
       "    </tr>\n",
       "    <tr>\n",
       "      <th>68</th>\n",
       "      <td>01.09.2020</td>\n",
       "      <td>NaN</td>\n",
       "      <td>NaN</td>\n",
       "      <td>NaN</td>\n",
       "      <td>NaN</td>\n",
       "    </tr>\n",
       "  </tbody>\n",
       "</table>\n",
       "</div>"
      ],
      "text/plain": [
       "        Period  Revenue  Sales_quantity  Average_cost  \\\n",
       "64  01.05.2020      NaN             NaN           NaN   \n",
       "65  01.06.2020      NaN             NaN           NaN   \n",
       "66  01.07.2020      NaN             NaN           NaN   \n",
       "67  01.08.2020      NaN             NaN           NaN   \n",
       "68  01.09.2020      NaN             NaN           NaN   \n",
       "\n",
       "    The_average_annual_payroll_of_the_region  \n",
       "64                                       NaN  \n",
       "65                                       NaN  \n",
       "66                                       NaN  \n",
       "67                                       NaN  \n",
       "68                                       NaN  "
      ]
     },
     "execution_count": 60,
     "metadata": {},
     "output_type": "execute_result"
    }
   ],
   "source": [
    "# Collect the missing data\n",
    "missing_part = time_series_df.isnull().any(axis=1)\n",
    "\n",
    "# Original Missing data\n",
    "time_series_df[missing_part].head()"
   ]
  },
  {
   "cell_type": "code",
   "execution_count": 61,
   "id": "18e76fd6",
   "metadata": {
    "execution": {
     "iopub.execute_input": "2025-01-18T04:37:44.926907Z",
     "iopub.status.busy": "2025-01-18T04:37:44.926540Z",
     "iopub.status.idle": "2025-01-18T04:37:44.938486Z",
     "shell.execute_reply": "2025-01-18T04:37:44.937557Z"
    },
    "id": "6i_8AwAtwzEp",
    "outputId": "b30e33ce-906a-42fd-bc52-8f050fe6950c",
    "papermill": {
     "duration": 0.052509,
     "end_time": "2025-01-18T04:37:44.939990",
     "exception": false,
     "start_time": "2025-01-18T04:37:44.887481",
     "status": "completed"
    },
    "tags": []
   },
   "outputs": [
    {
     "data": {
      "text/html": [
       "<div>\n",
       "<style scoped>\n",
       "    .dataframe tbody tr th:only-of-type {\n",
       "        vertical-align: middle;\n",
       "    }\n",
       "\n",
       "    .dataframe tbody tr th {\n",
       "        vertical-align: top;\n",
       "    }\n",
       "\n",
       "    .dataframe thead th {\n",
       "        text-align: right;\n",
       "    }\n",
       "</style>\n",
       "<table border=\"1\" class=\"dataframe\">\n",
       "  <thead>\n",
       "    <tr style=\"text-align: right;\">\n",
       "      <th></th>\n",
       "      <th>Period</th>\n",
       "      <th>Revenue</th>\n",
       "      <th>Sales_quantity</th>\n",
       "      <th>Average_cost</th>\n",
       "      <th>The_average_annual_payroll_of_the_region</th>\n",
       "    </tr>\n",
       "  </thead>\n",
       "  <tbody>\n",
       "    <tr>\n",
       "      <th>64</th>\n",
       "      <td>01.05.2020</td>\n",
       "      <td>5.232069e+07</td>\n",
       "      <td>26615.0</td>\n",
       "      <td>1965.83479</td>\n",
       "      <td>29044998.0</td>\n",
       "    </tr>\n",
       "    <tr>\n",
       "      <th>65</th>\n",
       "      <td>01.06.2020</td>\n",
       "      <td>5.232069e+07</td>\n",
       "      <td>26615.0</td>\n",
       "      <td>1965.83479</td>\n",
       "      <td>29044998.0</td>\n",
       "    </tr>\n",
       "    <tr>\n",
       "      <th>66</th>\n",
       "      <td>01.07.2020</td>\n",
       "      <td>5.232069e+07</td>\n",
       "      <td>26615.0</td>\n",
       "      <td>1965.83479</td>\n",
       "      <td>29044998.0</td>\n",
       "    </tr>\n",
       "    <tr>\n",
       "      <th>67</th>\n",
       "      <td>01.08.2020</td>\n",
       "      <td>5.232069e+07</td>\n",
       "      <td>26615.0</td>\n",
       "      <td>1965.83479</td>\n",
       "      <td>29044998.0</td>\n",
       "    </tr>\n",
       "    <tr>\n",
       "      <th>68</th>\n",
       "      <td>01.09.2020</td>\n",
       "      <td>5.232069e+07</td>\n",
       "      <td>26615.0</td>\n",
       "      <td>1965.83479</td>\n",
       "      <td>29044998.0</td>\n",
       "    </tr>\n",
       "  </tbody>\n",
       "</table>\n",
       "</div>"
      ],
      "text/plain": [
       "        Period       Revenue  Sales_quantity  Average_cost  \\\n",
       "64  01.05.2020  5.232069e+07         26615.0    1965.83479   \n",
       "65  01.06.2020  5.232069e+07         26615.0    1965.83479   \n",
       "66  01.07.2020  5.232069e+07         26615.0    1965.83479   \n",
       "67  01.08.2020  5.232069e+07         26615.0    1965.83479   \n",
       "68  01.09.2020  5.232069e+07         26615.0    1965.83479   \n",
       "\n",
       "    The_average_annual_payroll_of_the_region  \n",
       "64                                29044998.0  \n",
       "65                                29044998.0  \n",
       "66                                29044998.0  \n",
       "67                                29044998.0  \n",
       "68                                29044998.0  "
      ]
     },
     "execution_count": 61,
     "metadata": {},
     "output_type": "execute_result"
    }
   ],
   "source": [
    "# Data After Imputation\n",
    "time_series[missing_part].head()"
   ]
  },
  {
   "cell_type": "markdown",
   "id": "d960f23e",
   "metadata": {
    "id": "CKp4OH4OxaPa",
    "papermill": {
     "duration": 0.038596,
     "end_time": "2025-01-18T04:37:45.017237",
     "exception": false,
     "start_time": "2025-01-18T04:37:44.978641",
     "status": "completed"
    },
    "tags": []
   },
   "source": [
    "## **Polynomial Interpolation**"
   ]
  },
  {
   "cell_type": "markdown",
   "id": "ae6efbbb",
   "metadata": {
    "id": "6YP8fsyc-7hh",
    "papermill": {
     "duration": 0.03823,
     "end_time": "2025-01-18T04:37:45.093442",
     "exception": false,
     "start_time": "2025-01-18T04:37:45.055212",
     "status": "completed"
    },
    "tags": []
   },
   "source": [
    "**Polynomial Imputation** is a method used to fill in missing values in a dataset by fitting a polynomial function (e.g., linear, quadratic, cubic) to the non-missing values and using this function to estimate the missing values.\n",
    "\n",
    "Brief Explanation:\n",
    "\n",
    "- **Polynomial Function**: A polynomial is a mathematical expression involving a sum of powers in one or more variables multiplied by coefficients. For instance, a quadratic polynomial takes the form \\( ax^2 + bx + c \\).\n",
    "- **Imputation Process**: The process involves fitting a polynomial to the observed data points and then using this polynomial to predict the missing values. Essentially, you find a curve that best fits your data and fill in the gaps using this curve.\n",
    "\n",
    "Why It May Not Work in All Cases:\n",
    "\n",
    "1. **Overfitting**: If you choose a polynomial degree that is too high, the model might overfit the data, capturing noise rather than the underlying trend. This can lead to unreliable imputation.\n",
    "2. **Underfitting**: Conversely, if the polynomial degree is too low, the model might not capture the complexity of the data, leading to poor imputation.\n",
    "3. **Non-Polynomial Relationships**: Not all data can be accurately modeled with a polynomial function. If the underlying relationship in the data is not polynomial, the imputation will be inaccurate.\n",
    "4. **Data Distribution**: Polynomial imputation assumes that the missing data points follow the same distribution as the observed data points. If this assumption is violated, the imputed values may be biased.\n",
    "5. **Extrapolation Risk**: Polynomials can exhibit extreme behavior outside the range of the data used to fit them, leading to unrealistic imputed values if extrapolation is required.\n",
    "\n",
    "In essence, while polynomial imputation can be useful for certain types of data, it requires careful consideration of the degree of the polynomial and the nature of the data to ensure accurate and reliable results."
   ]
  },
  {
   "cell_type": "code",
   "execution_count": 62,
   "id": "76cc8e65",
   "metadata": {
    "execution": {
     "iopub.execute_input": "2025-01-18T04:37:45.171004Z",
     "iopub.status.busy": "2025-01-18T04:37:45.170648Z",
     "iopub.status.idle": "2025-01-18T04:37:45.182596Z",
     "shell.execute_reply": "2025-01-18T04:37:45.181603Z"
    },
    "id": "4cX7wHbzxYxJ",
    "outputId": "80ab08cf-c994-42b9-8786-6522437f421d",
    "papermill": {
     "duration": 0.052823,
     "end_time": "2025-01-18T04:37:45.184168",
     "exception": false,
     "start_time": "2025-01-18T04:37:45.131345",
     "status": "completed"
    },
    "tags": []
   },
   "outputs": [
    {
     "data": {
      "text/plain": [
       "Period                                       0\n",
       "Revenue                                     32\n",
       "Sales_quantity                              32\n",
       "Average_cost                                32\n",
       "The_average_annual_payroll_of_the_region    32\n",
       "dtype: int64"
      ]
     },
     "execution_count": 62,
     "metadata": {},
     "output_type": "execute_result"
    }
   ],
   "source": [
    "# Copy the original time series data\n",
    "time_series = time_series_df.copy()\n",
    "\n",
    "# Apply Polynomial Interpolation\n",
    "time_series = time_series.interpolate(method='polynomial', order=2)\n",
    "\n",
    "# Count the null valus after interpolation\n",
    "time_series.isnull().sum()"
   ]
  },
  {
   "cell_type": "markdown",
   "id": "3a30019f",
   "metadata": {
    "id": "4GJgc9Y__Rmb",
    "papermill": {
     "duration": 0.037665,
     "end_time": "2025-01-18T04:37:45.260827",
     "exception": false,
     "start_time": "2025-01-18T04:37:45.223162",
     "status": "completed"
    },
    "tags": []
   },
   "source": [
    "The likely reason that the `Revenue`, `Sales_quantity`, `Average_cost`, and `The_average_annual_payroll_of_the_region` columns still have missing values after applying polynomial interpolation is that polynomial interpolation can only impute missing values that are surrounded by non-missing values. If the missing values are at the beginning or end of the series, polynomial interpolation will not be able to fill them in.\n",
    "\n",
    "Here's why this happens:\n",
    "1. **Edge Cases**: Polynomial interpolation requires a certain number of non-missing values on either side of the missing value to fit the polynomial. If there are missing values at the edges (beginning or end) of the series, there aren't enough data points to fit the polynomial, so the interpolation can't be performed for these values.\n",
    "2. **Insufficient Data Points**: Polynomial interpolation might also fail if there are large gaps of consecutive missing values, as it needs sufficient data points to accurately fit the polynomial curve.\n",
    "\n",
    "To handle edge cases and large gaps, you might want to consider other imputation methods, such as:\n",
    "- **Forward/Backward Fill**: Use the previous or next available value to fill in missing values. This can be effective for edge cases but might not capture the trend accurately.\n",
    "- **Linear Interpolation**: This method can be a good alternative for large gaps, as it fits a straight line between the known points to estimate the missing values.\n",
    "- **Smoothing Methods**: Methods like moving averages or spline interpolation can provide more flexibility in handling missing values.\n",
    "\n",
    "\n",
    "---\n",
    "**But there cannot be 32 edge cases together right?**\n",
    "\n",
    "\n",
    "> You are correct—32 edge cases would indeed be quite unlikely. Let's consider another possibility: there might be an issue with the interpolation method or how it's applied to the data. One potential issue is that polynomial interpolation might not be suitable for the specific structure or distribution of your data.\n",
    "\n",
    "> Additionally, if there are blocks of consecutive missing values or patterns that polynomial interpolation cannot effectively address, this could lead to the missing values remaining after interpolation."
   ]
  },
  {
   "cell_type": "markdown",
   "id": "fd0c1ab8",
   "metadata": {
    "id": "1J2rMHO9yprR",
    "papermill": {
     "duration": 0.03781,
     "end_time": "2025-01-18T04:37:45.337561",
     "exception": false,
     "start_time": "2025-01-18T04:37:45.299751",
     "status": "completed"
    },
    "tags": []
   },
   "source": [
    "## **Spline Interpolation**"
   ]
  },
  {
   "cell_type": "markdown",
   "id": "a7a6eb9d",
   "metadata": {
    "id": "q_Xmn-_Q_mWh",
    "papermill": {
     "duration": 0.038763,
     "end_time": "2025-01-18T04:37:45.414458",
     "exception": false,
     "start_time": "2025-01-18T04:37:45.375695",
     "status": "completed"
    },
    "tags": []
   },
   "source": [
    "**Spline Imputation** is a method used to estimate missing values by fitting a smooth curve through the data points using spline functions. Splines are piecewise polynomials that ensure a smooth transition between segments.\n",
    "\n",
    "Brief Explanation:\n",
    "\n",
    "- **Spline Functions**: These are polynomial functions defined in sections, which can vary in each section but are connected smoothly at certain points called knots.\n",
    "- **Imputation Process**: Spline interpolation fits these polynomial functions to the data, ensuring smoothness and continuity, and then uses the fitted spline to estimate the missing values.\n",
    "\n",
    "Advantages:\n",
    "\n",
    "- **Smoothness**: Splines provide a smooth and flexible fit, which is especially useful for data with gradual changes.\n",
    "- **Handling Non-linearity**: Unlike linear or polynomial interpolation, splines can handle more complex, non-linear relationships in the data.\n",
    "\n",
    "Limitations:\n",
    "\n",
    "- **Overfitting**: If too many knots are used, the spline can overfit the data, capturing noise rather than the underlying trend.\n",
    "- **Complexity**: Spline interpolation is more computationally intensive and complex compared to simpler methods like linear interpolation.\n",
    "\n",
    "In summary, spline imputation is effective for data with smooth, continuous trends but requires careful handling to avoid overfitting and computational challenges."
   ]
  },
  {
   "cell_type": "code",
   "execution_count": 63,
   "id": "43f968f0",
   "metadata": {
    "execution": {
     "iopub.execute_input": "2025-01-18T04:37:45.492542Z",
     "iopub.status.busy": "2025-01-18T04:37:45.491941Z",
     "iopub.status.idle": "2025-01-18T04:37:45.505897Z",
     "shell.execute_reply": "2025-01-18T04:37:45.504983Z"
    },
    "id": "qmBTB9dVxYkT",
    "outputId": "eadce06a-0652-404c-f1b2-313d1e9e0c19",
    "papermill": {
     "duration": 0.05481,
     "end_time": "2025-01-18T04:37:45.507478",
     "exception": false,
     "start_time": "2025-01-18T04:37:45.452668",
     "status": "completed"
    },
    "tags": []
   },
   "outputs": [
    {
     "data": {
      "text/plain": [
       "Period                                      0\n",
       "Revenue                                     0\n",
       "Sales_quantity                              0\n",
       "Average_cost                                0\n",
       "The_average_annual_payroll_of_the_region    0\n",
       "dtype: int64"
      ]
     },
     "execution_count": 63,
     "metadata": {},
     "output_type": "execute_result"
    }
   ],
   "source": [
    "# Apply Spline Imputation\n",
    "time_series = time_series_df.copy()\n",
    "\n",
    "# Apply Spline Interpolation\n",
    "time_series = time_series.interpolate(method='spline', order=2)\n",
    "\n",
    "# Count the null valus after interpolation\n",
    "time_series.isnull().sum()"
   ]
  },
  {
   "cell_type": "markdown",
   "id": "3b792587",
   "metadata": {
    "id": "EkqYqXOkzvxi",
    "papermill": {
     "duration": 0.038493,
     "end_time": "2025-01-18T04:37:45.584776",
     "exception": false,
     "start_time": "2025-01-18T04:37:45.546283",
     "status": "completed"
    },
    "tags": []
   },
   "source": [
    "## **Time Series Decomposition (Seasonal Decomposition)**"
   ]
  },
  {
   "cell_type": "markdown",
   "id": "7887bed7",
   "metadata": {
    "id": "g3NCd7lRAFoS",
    "papermill": {
     "duration": 0.038528,
     "end_time": "2025-01-18T04:37:45.662312",
     "exception": false,
     "start_time": "2025-01-18T04:37:45.623784",
     "status": "completed"
    },
    "tags": []
   },
   "source": [
    "**Imputation with Seasonal Decomposition** is a technique used to fill in missing values by leveraging the trend and seasonal components of a time series. It involves decomposing the time series into three parts: trend, seasonality, and residuals. The missing values are then imputed using the extracted trend and seasonal components.\n",
    "\n",
    "Process:\n",
    "\n",
    "1. **Decomposition**: The time series is decomposed into three components:\n",
    "   - **Trend**: The long-term direction in the data.\n",
    "   - **Seasonal**: Regular, repeating patterns over a specific period.\n",
    "   - **Residual**: The remaining irregularities after removing the trend and seasonal components.\n",
    "\n",
    "2. **Imputation**: The missing values are imputed by adding the trend and seasonal components for the missing periods.\n",
    "\n",
    "Advantages:\n",
    "\n",
    "- **Captures Patterns**: This method can effectively capture both long-term trends and seasonal patterns, leading to more accurate imputation.\n",
    "- **Contextual Imputation**: By leveraging the inherent structure in the data, it can provide contextually relevant imputations.\n",
    "\n",
    "Limitations:\n",
    "\n",
    "1. **Data Requirements**: Seasonal decomposition requires a sufficiently long time series to accurately identify and separate the components. Short time series may not provide reliable decomposition.\n",
    "\n",
    "2. **Assumption of Additivity**: Most decomposition methods (e.g., additive models) assume that the trend, seasonal, and residual components are additive. If the relationship is multiplicative or more complex, the imputation may be inaccurate.\n",
    "\n",
    "3. **Edge Effects**: Decomposition methods often struggle with accurately estimating the components at the edges of the time series, leading to unreliable imputations at the beginning and end.\n",
    "\n",
    "4. **Handling Irregular Time Series**: Seasonal decomposition assumes regular intervals in the time series data. If the data has irregular intervals, the decomposition and subsequent imputation may not work well.\n",
    "\n",
    "5. **Complex Patterns**: If the time series contains complex, non-repeating patterns that are not well captured by the trend and seasonal components, the imputation may not be effective.\n",
    "\n",
    "In summary, while imputation with seasonal decomposition can be powerful for time series data with clear trends and seasonality, it requires careful handling and may not be suitable for all types of time series data. It's essential to consider the nature of the data and the decomposition assumptions when using this method."
   ]
  },
  {
   "cell_type": "markdown",
   "id": "6d1e43c2",
   "metadata": {
    "id": "psmeCg2skKSt",
    "papermill": {
     "duration": 0.038201,
     "end_time": "2025-01-18T04:37:45.739238",
     "exception": false,
     "start_time": "2025-01-18T04:37:45.701037",
     "status": "completed"
    },
    "tags": []
   },
   "source": [
    "## **Moving Averages**"
   ]
  },
  {
   "cell_type": "markdown",
   "id": "47994333",
   "metadata": {
    "id": "g7QQ7MlykYNl",
    "papermill": {
     "duration": 0.039362,
     "end_time": "2025-01-18T04:37:45.816906",
     "exception": false,
     "start_time": "2025-01-18T04:37:45.777544",
     "status": "completed"
    },
    "tags": []
   },
   "source": [
    "Moving averages can be used for imputing missing values by smoothing out short-term fluctuations and highlighting longer-term trends in data. When a data point is missing, its value can be replaced by the average of neighboring values within a specified window. This method helps maintain the overall pattern and reduces the impact of the missing data on the analysis, providing a more accurate representation of the dataset."
   ]
  },
  {
   "cell_type": "code",
   "execution_count": 64,
   "id": "3c627744",
   "metadata": {
    "execution": {
     "iopub.execute_input": "2025-01-18T04:37:45.895565Z",
     "iopub.status.busy": "2025-01-18T04:37:45.895234Z",
     "iopub.status.idle": "2025-01-18T04:37:45.905311Z",
     "shell.execute_reply": "2025-01-18T04:37:45.904214Z"
    },
    "id": "9x_vy_DDkJqz",
    "outputId": "1caae4ca-ef57-4b02-d67e-47a62867d666",
    "papermill": {
     "duration": 0.051209,
     "end_time": "2025-01-18T04:37:45.906829",
     "exception": false,
     "start_time": "2025-01-18T04:37:45.855620",
     "status": "completed"
    },
    "tags": []
   },
   "outputs": [
    {
     "name": "stdout",
     "output_type": "stream",
     "text": [
      "Revenue                                     28\n",
      "Sales_quantity                              28\n",
      "Average_cost                                28\n",
      "The_average_annual_payroll_of_the_region    28\n",
      "dtype: int64\n"
     ]
    }
   ],
   "source": [
    "# Copy the original time series data\n",
    "time_series = time_series_df.copy()\n",
    "time_series.set_index('Period', inplace=True)\n",
    "\n",
    "# Apply Moving Average\n",
    "time_series = time_series.rolling(window=5, min_periods=1).mean()\n",
    "\n",
    "# Count the null values after imputation\n",
    "print(time_series.isnull().sum())"
   ]
  },
  {
   "cell_type": "code",
   "execution_count": 65,
   "id": "15244fe5",
   "metadata": {
    "execution": {
     "iopub.execute_input": "2025-01-18T04:37:45.986658Z",
     "iopub.status.busy": "2025-01-18T04:37:45.986332Z",
     "iopub.status.idle": "2025-01-18T04:37:46.000209Z",
     "shell.execute_reply": "2025-01-18T04:37:45.999206Z"
    },
    "id": "Md7eijYilBwh",
    "outputId": "b59933b7-795b-4164-98af-49fe8c2f9184",
    "papermill": {
     "duration": 0.056303,
     "end_time": "2025-01-18T04:37:46.001948",
     "exception": false,
     "start_time": "2025-01-18T04:37:45.945645",
     "status": "completed"
    },
    "tags": []
   },
   "outputs": [
    {
     "data": {
      "text/plain": [
       "Revenue                                     0\n",
       "Sales_quantity                              0\n",
       "Average_cost                                0\n",
       "The_average_annual_payroll_of_the_region    0\n",
       "dtype: int64"
      ]
     },
     "execution_count": 65,
     "metadata": {},
     "output_type": "execute_result"
    }
   ],
   "source": [
    "# Loop to continously apply Moving Averages and remove null values\n",
    "while time_series.isnull().sum().sum() > 0:\n",
    "    time_series = time_series.rolling(window=5, min_periods=1).mean()\n",
    "\n",
    "# Check\n",
    "time_series.isnull().sum()"
   ]
  },
  {
   "cell_type": "markdown",
   "id": "cd8732da",
   "metadata": {
    "id": "ENpop88wlRLH",
    "papermill": {
     "duration": 0.03909,
     "end_time": "2025-01-18T04:37:46.080300",
     "exception": false,
     "start_time": "2025-01-18T04:37:46.041210",
     "status": "completed"
    },
    "tags": []
   },
   "source": [
    "Using moving averages for imputation can be problematic in certain edge cases:\n",
    "\n",
    "1. **Edge Cases:** At the start or end of a data series, there might not be enough neighboring values to calculate a moving average. For example, if you need a 5-point moving average and only have three data points at the edge, the calculation becomes less reliable.\n",
    "\n",
    "2. **Continuous Missing Values:** If there are long sequences of missing values, the moving average method struggles. It relies on surrounding values to fill in gaps, and when there's a large block of missing data, the window won't have enough valid points to provide an accurate average. This can lead to an imputed value that doesn't accurately reflect the underlying trend or pattern.\n",
    "\n",
    "In summary, while moving averages can smooth out data and fill occasional gaps, they aren't as effective when there are many consecutive missing values or at the boundaries of the data set. In such cases, more sophisticated imputation techniques, like interpolation or model-based methods, may be required."
   ]
  },
  {
   "cell_type": "markdown",
   "id": "f66b4897",
   "metadata": {
    "id": "PBEXFFGRlkDG",
    "papermill": {
     "duration": 0.043776,
     "end_time": "2025-01-18T04:37:46.162949",
     "exception": false,
     "start_time": "2025-01-18T04:37:46.119173",
     "status": "completed"
    },
    "tags": []
   },
   "source": [
    "## **Exponential Smoothing**"
   ]
  },
  {
   "cell_type": "markdown",
   "id": "dfc2d6d6",
   "metadata": {
    "id": "AnMDAj3WmrMm",
    "papermill": {
     "duration": 0.044985,
     "end_time": "2025-01-18T04:37:46.246842",
     "exception": false,
     "start_time": "2025-01-18T04:37:46.201857",
     "status": "completed"
    },
    "tags": []
   },
   "source": [
    "Exponential smoothing is a time series forecasting method that can also be used for imputing missing values. The technique assigns exponentially decreasing weights to past observations, making recent observations more influential. Here's how it can be used for imputation:\n",
    "\n",
    "**Steps for Imputation:**\n",
    "1. **Model Fitting:** Fit an exponential smoothing model to the observed (non-missing) data.\n",
    "2. **Prediction:** Use the fitted model to predict the missing values based on the observed data.\n",
    "3. **Replacement:** Replace the missing values with the predicted values from the model.\n"
   ]
  },
  {
   "cell_type": "code",
   "execution_count": 66,
   "id": "3c2f3ba5",
   "metadata": {
    "execution": {
     "iopub.execute_input": "2025-01-18T04:37:46.343774Z",
     "iopub.status.busy": "2025-01-18T04:37:46.343396Z",
     "iopub.status.idle": "2025-01-18T04:37:46.583243Z",
     "shell.execute_reply": "2025-01-18T04:37:46.582189Z"
    },
    "id": "AJ2iJn2QlkAE",
    "papermill": {
     "duration": 0.284851,
     "end_time": "2025-01-18T04:37:46.585498",
     "exception": false,
     "start_time": "2025-01-18T04:37:46.300647",
     "status": "completed"
    },
    "tags": []
   },
   "outputs": [],
   "source": [
    "# Function to impute missing values using Exponential Smoothing\n",
    "def exp_smoothing_imputation(df, column_name):\n",
    "    series = df[column_name]\n",
    "    model = ExponentialSmoothing(series.dropna(), trend='add', seasonal=None)\n",
    "    model_fit = model.fit()\n",
    "\n",
    "    # Predict the missing values\n",
    "    filled_series = series.copy()\n",
    "    missing_indices = filled_series[filled_series.isnull()].index\n",
    "    for index in missing_indices:\n",
    "        prediction = model_fit.predict(start=index, end=index)\n",
    "        filled_series.loc[index] = prediction.iloc[0]\n",
    "\n",
    "    df[column_name] = filled_series\n",
    "    return df\n",
    "\n",
    "# Copy the data\n",
    "time_series = time_series_df.copy()\n",
    "time_series.drop(\"Period\", inplace=True, axis=1)\n",
    "\n",
    "# Impute missing values for each column\n",
    "for column in time_series.columns:\n",
    "    time_series = exp_smoothing_imputation(time_series, column)"
   ]
  },
  {
   "cell_type": "code",
   "execution_count": 67,
   "id": "5120c107",
   "metadata": {
    "execution": {
     "iopub.execute_input": "2025-01-18T04:37:46.665554Z",
     "iopub.status.busy": "2025-01-18T04:37:46.665204Z",
     "iopub.status.idle": "2025-01-18T04:37:46.671587Z",
     "shell.execute_reply": "2025-01-18T04:37:46.670425Z"
    },
    "id": "NL1CbV-Rma6S",
    "outputId": "81d48a81-f81e-4553-93ba-66ec0a0cac83",
    "papermill": {
     "duration": 0.047657,
     "end_time": "2025-01-18T04:37:46.672919",
     "exception": false,
     "start_time": "2025-01-18T04:37:46.625262",
     "status": "completed"
    },
    "tags": []
   },
   "outputs": [
    {
     "name": "stdout",
     "output_type": "stream",
     "text": [
      "Revenue                                     0\n",
      "Sales_quantity                              0\n",
      "Average_cost                                0\n",
      "The_average_annual_payroll_of_the_region    0\n",
      "dtype: int64\n"
     ]
    }
   ],
   "source": [
    "# Count the null values after imputation\n",
    "print(time_series.isnull().sum())"
   ]
  },
  {
   "cell_type": "code",
   "execution_count": 68,
   "id": "8f5f4386",
   "metadata": {
    "execution": {
     "iopub.execute_input": "2025-01-18T04:37:46.752016Z",
     "iopub.status.busy": "2025-01-18T04:37:46.751604Z",
     "iopub.status.idle": "2025-01-18T04:37:46.762359Z",
     "shell.execute_reply": "2025-01-18T04:37:46.761387Z"
    },
    "id": "MLvOx7uGmb5H",
    "outputId": "e900539b-a1bc-4e1b-f380-fd2ae04b4e5f",
    "papermill": {
     "duration": 0.051671,
     "end_time": "2025-01-18T04:37:46.763934",
     "exception": false,
     "start_time": "2025-01-18T04:37:46.712263",
     "status": "completed"
    },
    "tags": []
   },
   "outputs": [
    {
     "data": {
      "text/html": [
       "<div>\n",
       "<style scoped>\n",
       "    .dataframe tbody tr th:only-of-type {\n",
       "        vertical-align: middle;\n",
       "    }\n",
       "\n",
       "    .dataframe tbody tr th {\n",
       "        vertical-align: top;\n",
       "    }\n",
       "\n",
       "    .dataframe thead th {\n",
       "        text-align: right;\n",
       "    }\n",
       "</style>\n",
       "<table border=\"1\" class=\"dataframe\">\n",
       "  <thead>\n",
       "    <tr style=\"text-align: right;\">\n",
       "      <th></th>\n",
       "      <th>Period</th>\n",
       "      <th>Revenue</th>\n",
       "      <th>Sales_quantity</th>\n",
       "      <th>Average_cost</th>\n",
       "      <th>The_average_annual_payroll_of_the_region</th>\n",
       "    </tr>\n",
       "  </thead>\n",
       "  <tbody>\n",
       "    <tr>\n",
       "      <th>64</th>\n",
       "      <td>01.05.2020</td>\n",
       "      <td>NaN</td>\n",
       "      <td>NaN</td>\n",
       "      <td>NaN</td>\n",
       "      <td>NaN</td>\n",
       "    </tr>\n",
       "    <tr>\n",
       "      <th>65</th>\n",
       "      <td>01.06.2020</td>\n",
       "      <td>NaN</td>\n",
       "      <td>NaN</td>\n",
       "      <td>NaN</td>\n",
       "      <td>NaN</td>\n",
       "    </tr>\n",
       "    <tr>\n",
       "      <th>66</th>\n",
       "      <td>01.07.2020</td>\n",
       "      <td>NaN</td>\n",
       "      <td>NaN</td>\n",
       "      <td>NaN</td>\n",
       "      <td>NaN</td>\n",
       "    </tr>\n",
       "    <tr>\n",
       "      <th>67</th>\n",
       "      <td>01.08.2020</td>\n",
       "      <td>NaN</td>\n",
       "      <td>NaN</td>\n",
       "      <td>NaN</td>\n",
       "      <td>NaN</td>\n",
       "    </tr>\n",
       "    <tr>\n",
       "      <th>68</th>\n",
       "      <td>01.09.2020</td>\n",
       "      <td>NaN</td>\n",
       "      <td>NaN</td>\n",
       "      <td>NaN</td>\n",
       "      <td>NaN</td>\n",
       "    </tr>\n",
       "  </tbody>\n",
       "</table>\n",
       "</div>"
      ],
      "text/plain": [
       "        Period  Revenue  Sales_quantity  Average_cost  \\\n",
       "64  01.05.2020      NaN             NaN           NaN   \n",
       "65  01.06.2020      NaN             NaN           NaN   \n",
       "66  01.07.2020      NaN             NaN           NaN   \n",
       "67  01.08.2020      NaN             NaN           NaN   \n",
       "68  01.09.2020      NaN             NaN           NaN   \n",
       "\n",
       "    The_average_annual_payroll_of_the_region  \n",
       "64                                       NaN  \n",
       "65                                       NaN  \n",
       "66                                       NaN  \n",
       "67                                       NaN  \n",
       "68                                       NaN  "
      ]
     },
     "execution_count": 68,
     "metadata": {},
     "output_type": "execute_result"
    }
   ],
   "source": [
    "# Compare with original values\n",
    "time_series_df[missing_part].head()"
   ]
  },
  {
   "cell_type": "code",
   "execution_count": 69,
   "id": "9af00023",
   "metadata": {
    "execution": {
     "iopub.execute_input": "2025-01-18T04:37:46.844116Z",
     "iopub.status.busy": "2025-01-18T04:37:46.843659Z",
     "iopub.status.idle": "2025-01-18T04:37:46.854931Z",
     "shell.execute_reply": "2025-01-18T04:37:46.853951Z"
    },
    "id": "y3xM0W-tmf_n",
    "outputId": "bc032b62-e0d6-4dc6-d699-f70873d8f402",
    "papermill": {
     "duration": 0.052994,
     "end_time": "2025-01-18T04:37:46.856445",
     "exception": false,
     "start_time": "2025-01-18T04:37:46.803451",
     "status": "completed"
    },
    "tags": []
   },
   "outputs": [
    {
     "data": {
      "text/html": [
       "<div>\n",
       "<style scoped>\n",
       "    .dataframe tbody tr th:only-of-type {\n",
       "        vertical-align: middle;\n",
       "    }\n",
       "\n",
       "    .dataframe tbody tr th {\n",
       "        vertical-align: top;\n",
       "    }\n",
       "\n",
       "    .dataframe thead th {\n",
       "        text-align: right;\n",
       "    }\n",
       "</style>\n",
       "<table border=\"1\" class=\"dataframe\">\n",
       "  <thead>\n",
       "    <tr style=\"text-align: right;\">\n",
       "      <th></th>\n",
       "      <th>Revenue</th>\n",
       "      <th>Sales_quantity</th>\n",
       "      <th>Average_cost</th>\n",
       "      <th>The_average_annual_payroll_of_the_region</th>\n",
       "    </tr>\n",
       "  </thead>\n",
       "  <tbody>\n",
       "    <tr>\n",
       "      <th>64</th>\n",
       "      <td>4.810621e+07</td>\n",
       "      <td>26764.100136</td>\n",
       "      <td>1841.207137</td>\n",
       "      <td>2.904490e+07</td>\n",
       "    </tr>\n",
       "    <tr>\n",
       "      <th>65</th>\n",
       "      <td>4.863757e+07</td>\n",
       "      <td>27018.384524</td>\n",
       "      <td>1848.920560</td>\n",
       "      <td>2.904480e+07</td>\n",
       "    </tr>\n",
       "    <tr>\n",
       "      <th>66</th>\n",
       "      <td>4.916894e+07</td>\n",
       "      <td>27272.668912</td>\n",
       "      <td>1856.633982</td>\n",
       "      <td>2.904471e+07</td>\n",
       "    </tr>\n",
       "    <tr>\n",
       "      <th>67</th>\n",
       "      <td>4.970030e+07</td>\n",
       "      <td>27526.953300</td>\n",
       "      <td>1864.347405</td>\n",
       "      <td>2.904461e+07</td>\n",
       "    </tr>\n",
       "    <tr>\n",
       "      <th>68</th>\n",
       "      <td>5.023167e+07</td>\n",
       "      <td>27781.237688</td>\n",
       "      <td>1872.060827</td>\n",
       "      <td>2.904451e+07</td>\n",
       "    </tr>\n",
       "  </tbody>\n",
       "</table>\n",
       "</div>"
      ],
      "text/plain": [
       "         Revenue  Sales_quantity  Average_cost  \\\n",
       "64  4.810621e+07    26764.100136   1841.207137   \n",
       "65  4.863757e+07    27018.384524   1848.920560   \n",
       "66  4.916894e+07    27272.668912   1856.633982   \n",
       "67  4.970030e+07    27526.953300   1864.347405   \n",
       "68  5.023167e+07    27781.237688   1872.060827   \n",
       "\n",
       "    The_average_annual_payroll_of_the_region  \n",
       "64                              2.904490e+07  \n",
       "65                              2.904480e+07  \n",
       "66                              2.904471e+07  \n",
       "67                              2.904461e+07  \n",
       "68                              2.904451e+07  "
      ]
     },
     "execution_count": 69,
     "metadata": {},
     "output_type": "execute_result"
    }
   ],
   "source": [
    "time_series[missing_part].head()"
   ]
  },
  {
   "cell_type": "markdown",
   "id": "4c83e1e2",
   "metadata": {
    "id": "VbmFPpuumxfC",
    "papermill": {
     "duration": 0.039311,
     "end_time": "2025-01-18T04:37:46.935787",
     "exception": false,
     "start_time": "2025-01-18T04:37:46.896476",
     "status": "completed"
    },
    "tags": []
   },
   "source": [
    "**Merits:**\n",
    "1. **Adaptability:** Exponential smoothing adjusts quickly to changes in the data, making it suitable for time series with trends and seasonality.\n",
    "2. **Simplicity:** It is computationally efficient and easy to implement.\n",
    "3. **Smoothed Estimates:** Provides a smoothed estimate of missing values, reducing the impact of short-term fluctuations.\n",
    "\n",
    "**Limitations:**\n",
    "1. **Edge Cases:** Struggles with missing values at the beginning or end of the series, as there are fewer neighboring values to use for prediction.\n",
    "2. **Continuous Missing Values:** Less effective when there are long sequences of missing data, as the model relies on nearby values to make accurate predictions.\n",
    "3. **Parameter Sensitivity:** The choice of smoothing parameters can significantly affect the results, and it may require tuning to achieve optimal performance.\n",
    "\n",
    "Overall, while exponential smoothing can be a useful tool for imputation, it is important to be aware of its limitations and consider alternative methods if the data has many consecutive missing values or edge cases."
   ]
  },
  {
   "cell_type": "markdown",
   "id": "15613244",
   "metadata": {
    "id": "TgzeuU5NnCfL",
    "papermill": {
     "duration": 0.038757,
     "end_time": "2025-01-18T04:37:47.014192",
     "exception": false,
     "start_time": "2025-01-18T04:37:46.975435",
     "status": "completed"
    },
    "tags": []
   },
   "source": [
    "## **ARIMA Model**"
   ]
  },
  {
   "cell_type": "markdown",
   "id": "a367ef1e",
   "metadata": {
    "id": "ZuwjbyKknYQa",
    "papermill": {
     "duration": 0.039091,
     "end_time": "2025-01-18T04:37:47.092455",
     "exception": false,
     "start_time": "2025-01-18T04:37:47.053364",
     "status": "completed"
    },
    "tags": []
   },
   "source": [
    "The ARIMA (AutoRegressive Integrated Moving Average) model is a powerful statistical tool used for forecasting and imputation in time series analysis. It combines three components: AutoRegression (AR), Integrated (I), and Moving Average (MA). Here's how the ARIMA model can be used for imputation of missing values:\n",
    "\n",
    "**Steps for Imputation:**\n",
    "\n",
    "1. **Model Identification:**\n",
    "   - **AutoRegression (AR):** Refers to the relationship between an observation and a number of lagged observations.\n",
    "   - **Integrated (I):** Refers to the differencing of raw observations to make the time series stationary.\n",
    "   - **Moving Average (MA):** Refers to the dependency between an observation and a residual error from a moving average model applied to lagged observations.\n",
    "\n",
    "2. **Model Fitting:**\n",
    "   - Fit the ARIMA model to the observed data (excluding missing values).\n",
    "   - Determine the appropriate order of AR (p), I (d), and MA (q) components using techniques like ACF (AutoCorrelation Function) and PACF (Partial AutoCorrelation Function) plots.\n",
    "\n",
    "3. **Prediction:**\n",
    "   - Use the fitted ARIMA model to predict the missing values based on the observed data.\n",
    "   - The model uses the identified AR, I, and MA parameters to forecast the missing values.\n",
    "\n",
    "4. **Replacement:**\n",
    "   - Replace the missing values with the predicted values from the ARIMA model.\n",
    "   \n"
   ]
  },
  {
   "cell_type": "code",
   "execution_count": 70,
   "id": "c176aa71",
   "metadata": {
    "execution": {
     "iopub.execute_input": "2025-01-18T04:37:47.172193Z",
     "iopub.status.busy": "2025-01-18T04:37:47.171809Z",
     "iopub.status.idle": "2025-01-18T04:37:47.550227Z",
     "shell.execute_reply": "2025-01-18T04:37:47.548955Z"
    },
    "id": "qOHQLZD3m-Uq",
    "outputId": "679b27dc-e3f3-40af-d950-68314bbdd40f",
    "papermill": {
     "duration": 0.420283,
     "end_time": "2025-01-18T04:37:47.551939",
     "exception": false,
     "start_time": "2025-01-18T04:37:47.131656",
     "status": "completed"
    },
    "tags": []
   },
   "outputs": [
    {
     "name": "stdout",
     "output_type": "stream",
     "text": [
      "Revenue                                     0\n",
      "Sales_quantity                              0\n",
      "Average_cost                                0\n",
      "The_average_annual_payroll_of_the_region    0\n",
      "dtype: int64\n"
     ]
    }
   ],
   "source": [
    "# Function to impute missing values using ARIMA\n",
    "def arima_imputation(df, column_name):\n",
    "    series = df[column_name]\n",
    "    model = ARIMA(series, order=(1,1,1))\n",
    "    model_fit = model.fit()\n",
    "\n",
    "    # Predict the missing values\n",
    "    filled_series = series.copy()\n",
    "    missing_indices = filled_series[filled_series.isnull()].index\n",
    "    for index in missing_indices:\n",
    "        prediction = model_fit.predict(start=index, end=index)\n",
    "        filled_series.loc[index] = prediction\n",
    "\n",
    "    df[column_name] = filled_series\n",
    "    return df\n",
    "\n",
    "# Copy the data\n",
    "time_series = time_series_df.copy()\n",
    "time_series.drop(\"Period\", inplace=True, axis=1)\n",
    "\n",
    "# Impute missing values for each column\n",
    "for column in time_series.columns:\n",
    "    time_series = arima_imputation(time_series, column)\n",
    "\n",
    "# Count the null values after imputation\n",
    "print(time_series.isnull().sum())"
   ]
  },
  {
   "cell_type": "code",
   "execution_count": 71,
   "id": "db264e81",
   "metadata": {
    "execution": {
     "iopub.execute_input": "2025-01-18T04:37:47.631684Z",
     "iopub.status.busy": "2025-01-18T04:37:47.631351Z",
     "iopub.status.idle": "2025-01-18T04:37:47.642357Z",
     "shell.execute_reply": "2025-01-18T04:37:47.641212Z"
    },
    "id": "sBS2GdltnJvl",
    "outputId": "59c3939d-ea86-46c2-db34-5a2973936f84",
    "papermill": {
     "duration": 0.052394,
     "end_time": "2025-01-18T04:37:47.643853",
     "exception": false,
     "start_time": "2025-01-18T04:37:47.591459",
     "status": "completed"
    },
    "tags": []
   },
   "outputs": [
    {
     "data": {
      "text/html": [
       "<div>\n",
       "<style scoped>\n",
       "    .dataframe tbody tr th:only-of-type {\n",
       "        vertical-align: middle;\n",
       "    }\n",
       "\n",
       "    .dataframe tbody tr th {\n",
       "        vertical-align: top;\n",
       "    }\n",
       "\n",
       "    .dataframe thead th {\n",
       "        text-align: right;\n",
       "    }\n",
       "</style>\n",
       "<table border=\"1\" class=\"dataframe\">\n",
       "  <thead>\n",
       "    <tr style=\"text-align: right;\">\n",
       "      <th></th>\n",
       "      <th>Period</th>\n",
       "      <th>Revenue</th>\n",
       "      <th>Sales_quantity</th>\n",
       "      <th>Average_cost</th>\n",
       "      <th>The_average_annual_payroll_of_the_region</th>\n",
       "    </tr>\n",
       "  </thead>\n",
       "  <tbody>\n",
       "    <tr>\n",
       "      <th>64</th>\n",
       "      <td>01.05.2020</td>\n",
       "      <td>NaN</td>\n",
       "      <td>NaN</td>\n",
       "      <td>NaN</td>\n",
       "      <td>NaN</td>\n",
       "    </tr>\n",
       "    <tr>\n",
       "      <th>65</th>\n",
       "      <td>01.06.2020</td>\n",
       "      <td>NaN</td>\n",
       "      <td>NaN</td>\n",
       "      <td>NaN</td>\n",
       "      <td>NaN</td>\n",
       "    </tr>\n",
       "    <tr>\n",
       "      <th>66</th>\n",
       "      <td>01.07.2020</td>\n",
       "      <td>NaN</td>\n",
       "      <td>NaN</td>\n",
       "      <td>NaN</td>\n",
       "      <td>NaN</td>\n",
       "    </tr>\n",
       "    <tr>\n",
       "      <th>67</th>\n",
       "      <td>01.08.2020</td>\n",
       "      <td>NaN</td>\n",
       "      <td>NaN</td>\n",
       "      <td>NaN</td>\n",
       "      <td>NaN</td>\n",
       "    </tr>\n",
       "    <tr>\n",
       "      <th>68</th>\n",
       "      <td>01.09.2020</td>\n",
       "      <td>NaN</td>\n",
       "      <td>NaN</td>\n",
       "      <td>NaN</td>\n",
       "      <td>NaN</td>\n",
       "    </tr>\n",
       "  </tbody>\n",
       "</table>\n",
       "</div>"
      ],
      "text/plain": [
       "        Period  Revenue  Sales_quantity  Average_cost  \\\n",
       "64  01.05.2020      NaN             NaN           NaN   \n",
       "65  01.06.2020      NaN             NaN           NaN   \n",
       "66  01.07.2020      NaN             NaN           NaN   \n",
       "67  01.08.2020      NaN             NaN           NaN   \n",
       "68  01.09.2020      NaN             NaN           NaN   \n",
       "\n",
       "    The_average_annual_payroll_of_the_region  \n",
       "64                                       NaN  \n",
       "65                                       NaN  \n",
       "66                                       NaN  \n",
       "67                                       NaN  \n",
       "68                                       NaN  "
      ]
     },
     "execution_count": 71,
     "metadata": {},
     "output_type": "execute_result"
    }
   ],
   "source": [
    "# Comparision with missing part\n",
    "time_series_df[missing_part].head()"
   ]
  },
  {
   "cell_type": "code",
   "execution_count": 72,
   "id": "cd7b020c",
   "metadata": {
    "execution": {
     "iopub.execute_input": "2025-01-18T04:37:47.724418Z",
     "iopub.status.busy": "2025-01-18T04:37:47.724031Z",
     "iopub.status.idle": "2025-01-18T04:37:47.734935Z",
     "shell.execute_reply": "2025-01-18T04:37:47.733937Z"
    },
    "id": "GChENNpQnMc6",
    "outputId": "4473397b-2bbb-4bd3-ff15-b2ab86b37a5d",
    "papermill": {
     "duration": 0.054046,
     "end_time": "2025-01-18T04:37:47.737672",
     "exception": false,
     "start_time": "2025-01-18T04:37:47.683626",
     "status": "completed"
    },
    "tags": []
   },
   "outputs": [
    {
     "data": {
      "text/html": [
       "<div>\n",
       "<style scoped>\n",
       "    .dataframe tbody tr th:only-of-type {\n",
       "        vertical-align: middle;\n",
       "    }\n",
       "\n",
       "    .dataframe tbody tr th {\n",
       "        vertical-align: top;\n",
       "    }\n",
       "\n",
       "    .dataframe thead th {\n",
       "        text-align: right;\n",
       "    }\n",
       "</style>\n",
       "<table border=\"1\" class=\"dataframe\">\n",
       "  <thead>\n",
       "    <tr style=\"text-align: right;\">\n",
       "      <th></th>\n",
       "      <th>Revenue</th>\n",
       "      <th>Sales_quantity</th>\n",
       "      <th>Average_cost</th>\n",
       "      <th>The_average_annual_payroll_of_the_region</th>\n",
       "    </tr>\n",
       "  </thead>\n",
       "  <tbody>\n",
       "    <tr>\n",
       "      <th>64</th>\n",
       "      <td>4.852015e+07</td>\n",
       "      <td>27220.513943</td>\n",
       "      <td>1820.237262</td>\n",
       "      <td>29044998.0</td>\n",
       "    </tr>\n",
       "    <tr>\n",
       "      <th>65</th>\n",
       "      <td>4.904064e+07</td>\n",
       "      <td>27134.327692</td>\n",
       "      <td>1809.999796</td>\n",
       "      <td>29044998.0</td>\n",
       "    </tr>\n",
       "    <tr>\n",
       "      <th>66</th>\n",
       "      <td>4.896936e+07</td>\n",
       "      <td>27146.595072</td>\n",
       "      <td>1809.279964</td>\n",
       "      <td>29044998.0</td>\n",
       "    </tr>\n",
       "    <tr>\n",
       "      <th>67</th>\n",
       "      <td>4.897912e+07</td>\n",
       "      <td>27144.848986</td>\n",
       "      <td>1809.229350</td>\n",
       "      <td>29044998.0</td>\n",
       "    </tr>\n",
       "    <tr>\n",
       "      <th>68</th>\n",
       "      <td>4.897778e+07</td>\n",
       "      <td>27145.097516</td>\n",
       "      <td>1809.225791</td>\n",
       "      <td>29044998.0</td>\n",
       "    </tr>\n",
       "  </tbody>\n",
       "</table>\n",
       "</div>"
      ],
      "text/plain": [
       "         Revenue  Sales_quantity  Average_cost  \\\n",
       "64  4.852015e+07    27220.513943   1820.237262   \n",
       "65  4.904064e+07    27134.327692   1809.999796   \n",
       "66  4.896936e+07    27146.595072   1809.279964   \n",
       "67  4.897912e+07    27144.848986   1809.229350   \n",
       "68  4.897778e+07    27145.097516   1809.225791   \n",
       "\n",
       "    The_average_annual_payroll_of_the_region  \n",
       "64                                29044998.0  \n",
       "65                                29044998.0  \n",
       "66                                29044998.0  \n",
       "67                                29044998.0  \n",
       "68                                29044998.0  "
      ]
     },
     "execution_count": 72,
     "metadata": {},
     "output_type": "execute_result"
    }
   ],
   "source": [
    "time_series[missing_part].head()"
   ]
  },
  {
   "cell_type": "markdown",
   "id": "9d699910",
   "metadata": {
    "id": "mTO6OZeynojS",
    "papermill": {
     "duration": 0.041141,
     "end_time": "2025-01-18T04:37:47.829960",
     "exception": false,
     "start_time": "2025-01-18T04:37:47.788819",
     "status": "completed"
    },
    "tags": []
   },
   "source": [
    "**Merits:**\n",
    "1. **Robustness:** ARIMA models are robust and can handle various types of time series data, including data with trends and seasonality.\n",
    "2. **Flexibility:** The model can be fine-tuned by adjusting the parameters (p, d, q) to better fit the data.\n",
    "3. **Accuracy:** Provides accurate imputation for missing values in time series with strong temporal dependencies.\n",
    "\n",
    "**Limitations:**\n",
    "1. **Complexity:** Identifying the correct order of the ARIMA model (p, d, q) can be complex and requires expertise.\n",
    "2. **Stationarity Requirement:** The time series data must be made stationary before fitting the ARIMA model, which can be challenging for non-stationary data.\n",
    "3. **Computational Intensity:** Fitting an ARIMA model can be computationally intensive, especially for large datasets.\n",
    "\n",
    "Overall, ARIMA models are highly effective for imputing missing values in time series data but require careful model selection and parameter tuning to achieve optimal results."
   ]
  },
  {
   "cell_type": "markdown",
   "id": "5613e4d1",
   "metadata": {
    "id": "ADuxSgJbAMZ3",
    "papermill": {
     "duration": 0.039761,
     "end_time": "2025-01-18T04:37:47.909790",
     "exception": false,
     "start_time": "2025-01-18T04:37:47.870029",
     "status": "completed"
    },
    "tags": []
   },
   "source": [
    "## **Other Methods**"
   ]
  },
  {
   "cell_type": "markdown",
   "id": "14a8068c",
   "metadata": {
    "id": "CeJc6ntsAe3s",
    "papermill": {
     "duration": 0.0394,
     "end_time": "2025-01-18T04:37:47.988802",
     "exception": false,
     "start_time": "2025-01-18T04:37:47.949402",
     "status": "completed"
    },
    "tags": []
   },
   "source": [
    "Besides interpolation methods like linear, polynomial, or spline, and decomposition methods such as seasonal decomposition, there are various techniques for handling missing values in time series data. Simpler methods include forward and backward fill, while more advanced approaches involve K-Nearest Neighbors (KNN) imputation or model-based techniques.\n",
    "\n",
    "For datasets with a relatively low percentage of missing values, forward or backward fill is often preferred for its simplicity. As the percentage of missing data increases, more complex methods like linear or spline interpolation may be required. When the rate of missing data is very high, model-based methods become more appropriate.\n",
    "\n",
    "While interpolation methods are easy to apply and generally effective for time series data, they may not always be the best choice depending on specific data characteristics."
   ]
  },
  {
   "cell_type": "markdown",
   "id": "feed8afd",
   "metadata": {
    "id": "OBauFTAJVj7H",
    "papermill": {
     "duration": 0.039258,
     "end_time": "2025-01-18T04:37:48.067640",
     "exception": false,
     "start_time": "2025-01-18T04:37:48.028382",
     "status": "completed"
    },
    "tags": []
   },
   "source": [
    "# **Summary**"
   ]
  },
  {
   "cell_type": "markdown",
   "id": "14e0f4ae",
   "metadata": {
    "id": "sJPSy-GHVf4m",
    "papermill": {
     "duration": 0.039257,
     "end_time": "2025-01-18T04:37:48.146631",
     "exception": false,
     "start_time": "2025-01-18T04:37:48.107374",
     "status": "completed"
    },
    "tags": []
   },
   "source": [
    "| **Method**                                       | **Missing Completely At Random (MCAR)** | **Missing At Random (MAR)** | **Missing Not At Random (MNAR or NMAR)** |\n",
    "|--------------------------------------------------|-----------------------------------------|-----------------------------|-------------------------------------------|\n",
    "| **Mean/Median/Mode Imputation**                  | ✓                                       | ✘                           | ✘                                         |\n",
    "| **K-Nearest Neighbor (KNN)**                     | ✓                                       | ✓                           | ✘                                         |\n",
    "| **Linear Regression**                            | ✓                                       | ✓                           | ✘                                         |\n",
    "| **Multiple Imputation**                          | ✓                                       | ✓                           | ✘                                         |\n",
    "| **Forward/Backward Fill**                        | ✓                                       | ✘                           | ✘                                         |\n",
    "| **MICE (Multivariate Imputation by Chained Equations)** | ✓                              | ✓                           | ✘                                         |\n",
    "| **Maximum Likelihood Estimation (MLE)**          | ✓                                       | ✓                           | ✘                                         |\n",
    "| **Hot Deck Imputation**                          | ✓                                       | ✓                           | ✘                                         |\n",
    "| **Time-Series Interpolation (Linear, Spline)**  | ✓                                       | ✘                           | ✘                                         |\n",
    "\n",
    "\n",
    "\n",
    "This is a basic guide for handling missing values. There are many methods available, and it's important to stay updated with recent advancements in the field. In most cases, simple methods work well for small amounts of missing data. However, if the implementation of a more complex method is straightforward and beneficial, it is advisable to use it for better results.\n",
    "\n",
    "---\n",
    "Thank you!\n",
    "\n",
    "**DeepNets**"
   ]
  }
 ],
 "metadata": {
  "colab": {
   "collapsed_sections": [
    "YrAovfeo7qjO",
    "X_YDNgdYEmzh",
    "KKNdH2yoFDra",
    "II_ODUuweL6b",
    "fsVy3_2thHs9",
    "0vGqg6hoickU",
    "WNKQhOcJmPtp",
    "jvfwIV3jWbXY",
    "q0U7an0FZLZw",
    "Q9d7gk_kZb1M",
    "h9DmTntvecHJ",
    "tJtPRdJOgPIk",
    "jUj9MQkfgYaF",
    "CknnQ5rYgcxm",
    "h8Rgw7qqg3i-",
    "vRL_tAGHg0Ex",
    "hKSNpLPQWKxa",
    "Qpnx-U1kgflw",
    "A2jvtll7WQ1s",
    "Z2oon_2HhHCE",
    "-t0PwIsvg-wy",
    "Y2Iu3z_XdJOX",
    "cyF2JOZIdNQW",
    "Mb07utO4dbuJ",
    "hyNcL55cX_DJ",
    "hUwwjQAkv5jS",
    "CKp4OH4OxaPa",
    "1J2rMHO9yprR",
    "EkqYqXOkzvxi",
    "psmeCg2skKSt",
    "PBEXFFGRlkDG",
    "TgzeuU5NnCfL",
    "ADuxSgJbAMZ3",
    "OBauFTAJVj7H"
   ],
   "provenance": [],
   "toc_visible": true
  },
  "kaggle": {
   "accelerator": "none",
   "dataSources": [
    {
     "databundleVersionId": 3220602,
     "sourceId": 34377,
     "sourceType": "competition"
    },
    {
     "datasetId": 631139,
     "sourceId": 1123196,
     "sourceType": "datasetVersion"
    }
   ],
   "dockerImageVersionId": 30839,
   "isGpuEnabled": false,
   "isInternetEnabled": true,
   "language": "python",
   "sourceType": "notebook"
  },
  "kernelspec": {
   "display_name": "Python 3 (ipykernel)",
   "language": "python",
   "name": "python3"
  },
  "language_info": {
   "codemirror_mode": {
    "name": "ipython",
    "version": 3
   },
   "file_extension": ".py",
   "mimetype": "text/x-python",
   "name": "python",
   "nbconvert_exporter": "python",
   "pygments_lexer": "ipython3",
   "version": "3.11.9"
  },
  "papermill": {
   "default_parameters": {},
   "duration": 52.220138,
   "end_time": "2025-01-18T04:37:49.309718",
   "environment_variables": {},
   "exception": null,
   "input_path": "__notebook__.ipynb",
   "output_path": "__notebook__.ipynb",
   "parameters": {},
   "start_time": "2025-01-18T04:36:57.089580",
   "version": "2.6.0"
  }
 },
 "nbformat": 4,
 "nbformat_minor": 5
}
