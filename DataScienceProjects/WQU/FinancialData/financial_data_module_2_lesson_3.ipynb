{
 "cells": [
  {
   "cell_type": "markdown",
   "metadata": {
    "id": "g7qta-cE7KRg"
   },
   "source": [
    "MODULE 2 | LESSON 3\n",
    "\n",
    "\n",
    "---\n",
    "\n",
    "\n",
    "# **Special Matrices for Equity Analysis**\n",
    "|  |  |\n",
    "|:---|:---|\n",
    "|**Reading Time** 60 minutes |   |\n",
    "|**Prior Knowledge** Basic Matrix Operation, Linear Algebra, Basic Python |   |\n",
    "|**Keywords** Stock return correlation, Symmetric matrices, Matrix diagonalization, Triangular matrices, Positive Definite Matrices, Cholesky Factorization|  |\n",
    "\n",
    "---"
   ]
  },
  {
   "cell_type": "markdown",
   "metadata": {
    "id": "X5xELpY77fhV"
   },
   "source": [
    "*In this lesson, we are going to introduce different types of matrices. These matrices play important roles in financial analysis. With sound understanding of the characteristics and operation of these matrices, you will have a good start to learn many financial analytical techniques. During the lesson, we will also use stock prices and returns as examples to demonstrate the usage of these matrices. We will use Apple, Ford Motor, and Walmart's stock returns to explain the applications of these matrices.*"
   ]
  },
  {
   "cell_type": "markdown",
   "metadata": {
    "id": "7mCjn75M80eS"
   },
   "source": [
    "## **1. Symmetric Matrices**\n",
    "### **1.1. Definition of Symmetric Matrices**\n",
    "A **symmetric matrix** is a square matrix whose transpose is the same as the matrix itself. A square matrix is a matrix that has the same number of rows as the number of columns. The following example demonstrates the concept of a symmetric matrix.\n",
    "<br>\n",
    "<br>\n",
    "$$A= \\begin{bmatrix}\n",
    "m & a & b \\\\\n",
    "a & n & c \\\\\n",
    "b & c & p\n",
    "\\end{bmatrix}$$\n",
    "<br>\n",
    "<br>\n",
    "$$A^{T}= \\begin{bmatrix}\n",
    "m & a & b \\\\\n",
    "a & n & c \\\\\n",
    "b & c & p\n",
    "\\end{bmatrix}$$\n",
    "<br>\n",
    "<br>\n",
    "In the above example, the second matrix is the transpose of $A$ matrix. The elements of the original matrix and its transpose are the same. In mathematical notation, for matrix $A$, if $A = A^{T}$, then $A$ is symmetric. To be more specific, the element at position (i,j) is equal to the element at position (j,i) for all i and j.\n",
    "<br>\n",
    "Here are some key properties of a symmetric matrix:\n",
    "<br>\n",
    "<br>\n",
    "&emsp;&emsp;1. The eigenvalues of the matrix are real numbers.\n",
    "<br>\n",
    "&emsp;&emsp;2. The eigenvectors of the matrix are orthogonal to each other.\n",
    "<br>\n",
    "&emsp;&emsp;3. The matrix is diagonalizable.\n",
    "<br>\n",
    "&emsp;&emsp;4. The rank of the matrix is equal to the number of non-zero eigenvalues.\n",
    "<br>\n",
    "<br>\n",
    "When two vectors are **orthogonal**, it means that the vectors are perpendicular to each other. It also means the inner product of the two vectors is 0. These two vectors are linearly independent. Next, we will talk about the diagonalizability of a symmetric matrix.\n",
    "<br>\n",
    "<br>\n",
    "### **1.2. Diagonalization of Symmetric Matrices**\n",
    "Matrix $A$ is diagonalizable if there exists a diagonal matrix $\\Lambda$ such that\n",
    "<br>\n",
    "<br>\n",
    "$$A=B\\Lambda B^{-1}$$\n",
    "<br>\n",
    "If $A$ is a symmetric matrix, the values on the main diagonal of $\\Lambda$ are eigenvalues of $A$. $B$ is a matrix whose columns are eigenvectors of $A$.\n",
    "<br>\n",
    "Let's look at one example of diagonalization of a symmetric matrix.\n",
    "<br>\n",
    "We have a symmetric matrix $M$ as follows:\n",
    "<br>\n",
    "<br>\n",
    "$$M = \\begin{bmatrix}\n",
    "6 & -2 & -1 \\\\\n",
    "-2 & 6 & -1 \\\\\n",
    "-1 & -1 & 5\n",
    "\\end{bmatrix}$$\n",
    "<br>\n",
    "<br>\n",
    "In order to obtain eigenvalues, we need to set the characteristic polynomial to 0, or solve for the characteristic equation as follows:\n",
    "<br>\n",
    "<br>\n",
    "$$det(M-\\lambda I) = det(\\begin{bmatrix}\n",
    "6-\\lambda & -2 & -1 \\\\\n",
    "-2 & 6-\\lambda & -1 \\\\\n",
    "-1 & -1 & 5-\\lambda\n",
    "\\end{bmatrix})$$\n",
    "<br>\n",
    "$$\\Downarrow $$\n",
    "<br>\n",
    "$$(6-\\lambda)(6-\\lambda)(5-\\lambda)+(-2)(-1)(-1)+(-2)(-1)(-1)-(-1)(-1)(6-\\lambda)-(-2)(-2)(5-\\lambda)-(-1)(-1)(6-\\lambda)=0$$\n",
    "<br>\n",
    "$$\\Downarrow $$\n",
    "<br>\n",
    "$$-\\lambda^{3}+17\\lambda^{2}-90\\lambda+144=-(\\lambda-8)(\\lambda-6)(\\lambda-3)=0$$\n",
    "<br>\n",
    "<br>\n",
    "Hence, the eigenvalues are $\\lambda_{1}=8$, $\\lambda_{2}=6$ and $\\lambda_{3}=3$.\n",
    "The corresponding eigenvectors are as follows:\n",
    "<br>\n",
    "<br>\n",
    "$$\\nu_{1}=\\begin{bmatrix}\n",
    "-1 \\\\\n",
    " 1\\\\\n",
    "0\n",
    "\\end{bmatrix}, \\nu_{2}=\\begin{bmatrix}\n",
    "-1 \\\\\n",
    "-1\\\\\n",
    "2\n",
    "\\end{bmatrix}, \\nu_{3}=\\begin{bmatrix}\n",
    "1 \\\\\n",
    "1\\\\\n",
    "1\n",
    "\\end{bmatrix}$$\n",
    "<br>\n",
    "<br>\n",
    "One thing to pay attention to is that the inner products of each eigenvector pairs are all 0 ($\\nu_{1}^{T}\\nu_{2}=0,\\nu_{2}^{T}\\nu_{3}=0,\\nu_{1}^{T}\\nu_{3}=0$). This means that they are orthogonal to each other.\n",
    "<br>\n",
    "<br>\n",
    "We can further normalize eigenvectors to be unit vectors as follows:\n",
    "<br>\n",
    "<br>\n",
    "$$\\omega_{1}=\\begin{bmatrix}\n",
    "-\\frac{1}{\\sqrt{2}} \\\\\n",
    " \\frac{1}{\\sqrt{2}}\\\\\n",
    "0\n",
    "\\end{bmatrix}, \\omega_{2}=\\begin{bmatrix}\n",
    "-\\frac{1}{\\sqrt{6}} \\\\\n",
    "- \\frac{1}{\\sqrt{6}}\\\\\n",
    "\\frac{2}{\\sqrt{6}}\n",
    "\\end{bmatrix}, \\omega_{3}=\\begin{bmatrix}\n",
    "\\frac{1}{\\sqrt{3}} \\\\\n",
    "\\frac{1}{\\sqrt{3}}\\\\\n",
    "\\frac{1}{\\sqrt{3}}\n",
    "\\end{bmatrix}$$\n",
    "<br>\n",
    "<br>\n",
    "Now we can write down the diagonalized symmetric matrix $M$.\n",
    "<br>\n",
    "<br>\n",
    "$$M=B\\Lambda B^{-1}$$\n",
    "<br>\n",
    "where\n",
    "$$\\Lambda=\\begin{bmatrix}\n",
    "8 & 0 & 0 \\\\\n",
    "0 & 6 & 0 \\\\\n",
    "0 & 0 & 3\n",
    "\\end{bmatrix}$$\n",
    "<br>\n",
    "$$B=\\begin{bmatrix}\n",
    "-\\frac{1}{\\sqrt{2}} & -\\frac{1}{\\sqrt{6}} & \\frac{1}{\\sqrt{3}} \\\\\n",
    " \\frac{1}{\\sqrt{2}}& -\\frac{1}{\\sqrt{6}} & \\frac{1}{\\sqrt{3}} \\\\\n",
    " 0& \\frac{2}{\\sqrt{6}} & \\frac{1}{\\sqrt{3}}\n",
    "\\end{bmatrix}$$\n",
    "<br>\n",
    "<br>\n",
    "Because $B$ is an orthogonal matrix, $B^{T}=B^{-1}$. We can also write the diagonalized symmetric matrix as follows:\n",
    "<br>\n",
    "<br>\n",
    "$$M=B\\Lambda B^{T}$$\n",
    "<br>\n",
    "<br>\n",
    "Transforming a symmetric matrix to the diagonalized form will make the computation of matrices more efficient. It also helps decompose a matrix into simpler forms for analysis. Diagonalization of a matrix is also an essential tool to help solve the linear transformation issue.\n",
    "<br>\n",
    "Now we have learned many properties of symmetric matrices. Let's take a look at some common symmetric matrices, like the covariance matrix and the correlation matrix. We'll look at the covariance matrix first.\n",
    "\n",
    "\n",
    "\n",
    "\n"
   ]
  },
  {
   "cell_type": "markdown",
   "metadata": {
    "id": "cllN3_qk-PC1"
   },
   "source": [
    "### **1.3. Covariance Matrix**\n",
    "We introduced the covariance matrix in the previous lesson. A covariance matrix is a square matrix giving the variances of the variables on the diagonal of the matrix and the covariances between each pair of the variables on the off-diagonal. Based on the structure of a covariance matrix, it is a symmetric matrix. Let's calculate the covariance matrix for stock returns for Apple, Ford Motor, and Walmart as an example."
   ]
  },
  {
   "cell_type": "code",
   "execution_count": 1,
   "metadata": {
    "id": "MwinNmSX-eou"
   },
   "outputs": [],
   "source": [
    "import datetime\n",
    "import matplotlib.pyplot as plt\n",
    "import numpy as np\n",
    "import pandas as pd\n",
    "import yfinance as yfin\n",
    "import seaborn as sns"
   ]
  },
  {
   "cell_type": "code",
   "execution_count": 2,
   "metadata": {
    "colab": {
     "base_uri": "https://localhost:8080/",
     "height": 255
    },
    "id": "DRdMAtIm-j8i",
    "outputId": "6052058d-2fc6-48a2-97b5-75908599eee7"
   },
   "outputs": [
    {
     "name": "stderr",
     "output_type": "stream",
     "text": [
      "[*********************100%***********************]  3 of 3 completed\n"
     ]
    },
    {
     "data": {
      "text/html": [
       "<div>\n",
       "<style scoped>\n",
       "    .dataframe tbody tr th:only-of-type {\n",
       "        vertical-align: middle;\n",
       "    }\n",
       "\n",
       "    .dataframe tbody tr th {\n",
       "        vertical-align: top;\n",
       "    }\n",
       "\n",
       "    .dataframe thead th {\n",
       "        text-align: right;\n",
       "    }\n",
       "</style>\n",
       "<table border=\"1\" class=\"dataframe\">\n",
       "  <thead>\n",
       "    <tr style=\"text-align: right;\">\n",
       "      <th>Ticker</th>\n",
       "      <th>AAPL</th>\n",
       "      <th>F</th>\n",
       "      <th>WMT</th>\n",
       "    </tr>\n",
       "    <tr>\n",
       "      <th>Date</th>\n",
       "      <th></th>\n",
       "      <th></th>\n",
       "      <th></th>\n",
       "    </tr>\n",
       "  </thead>\n",
       "  <tbody>\n",
       "    <tr>\n",
       "      <th>2018-01-02</th>\n",
       "      <td>40.479839</td>\n",
       "      <td>8.594531</td>\n",
       "      <td>29.191189</td>\n",
       "    </tr>\n",
       "    <tr>\n",
       "      <th>2018-01-03</th>\n",
       "      <td>40.472786</td>\n",
       "      <td>8.662419</td>\n",
       "      <td>29.445822</td>\n",
       "    </tr>\n",
       "    <tr>\n",
       "      <th>2018-01-04</th>\n",
       "      <td>40.660789</td>\n",
       "      <td>8.811771</td>\n",
       "      <td>29.472469</td>\n",
       "    </tr>\n",
       "    <tr>\n",
       "      <th>2018-01-05</th>\n",
       "      <td>41.123718</td>\n",
       "      <td>8.961122</td>\n",
       "      <td>29.647163</td>\n",
       "    </tr>\n",
       "    <tr>\n",
       "      <th>2018-01-08</th>\n",
       "      <td>40.970989</td>\n",
       "      <td>8.927176</td>\n",
       "      <td>30.085360</td>\n",
       "    </tr>\n",
       "  </tbody>\n",
       "</table>\n",
       "</div>"
      ],
      "text/plain": [
       "Ticker           AAPL         F        WMT\n",
       "Date                                      \n",
       "2018-01-02  40.479839  8.594531  29.191189\n",
       "2018-01-03  40.472786  8.662419  29.445822\n",
       "2018-01-04  40.660789  8.811771  29.472469\n",
       "2018-01-05  41.123718  8.961122  29.647163\n",
       "2018-01-08  40.970989  8.927176  30.085360"
      ]
     },
     "execution_count": 2,
     "metadata": {},
     "output_type": "execute_result"
    }
   ],
   "source": [
    "# Download stock prices from Yahoo Finance and set the time period for download\n",
    "start = datetime.date(2018, 1, 2)\n",
    "end = datetime.date(2023, 12, 31)\n",
    "stocks = yfin.download([\"AAPL\", \"F\", \"WMT\"], start, end, auto_adjust = False)[\"Adj Close\"]\n",
    "stocks.head()"
   ]
  },
  {
   "cell_type": "code",
   "execution_count": 3,
   "metadata": {
    "id": "CCgk1N-uGZ1Y"
   },
   "outputs": [],
   "source": [
    "stocks.index = pd.to_datetime(stocks.index).strftime(\"%Y-%m-%d\")"
   ]
  },
  {
   "cell_type": "code",
   "execution_count": 4,
   "metadata": {
    "colab": {
     "base_uri": "https://localhost:8080/",
     "height": 238
    },
    "id": "fKNn4jDZKAB9",
    "outputId": "91a990d1-8fd9-4f25-e617-6cd78b642208"
   },
   "outputs": [
    {
     "data": {
      "text/html": [
       "<div>\n",
       "<style scoped>\n",
       "    .dataframe tbody tr th:only-of-type {\n",
       "        vertical-align: middle;\n",
       "    }\n",
       "\n",
       "    .dataframe tbody tr th {\n",
       "        vertical-align: top;\n",
       "    }\n",
       "\n",
       "    .dataframe thead th {\n",
       "        text-align: right;\n",
       "    }\n",
       "</style>\n",
       "<table border=\"1\" class=\"dataframe\">\n",
       "  <thead>\n",
       "    <tr style=\"text-align: right;\">\n",
       "      <th>Ticker</th>\n",
       "      <th>AAPL</th>\n",
       "      <th>F</th>\n",
       "      <th>WMT</th>\n",
       "    </tr>\n",
       "    <tr>\n",
       "      <th>Date</th>\n",
       "      <th></th>\n",
       "      <th></th>\n",
       "      <th></th>\n",
       "    </tr>\n",
       "  </thead>\n",
       "  <tbody>\n",
       "    <tr>\n",
       "      <th>2018-01-03</th>\n",
       "      <td>-0.000174</td>\n",
       "      <td>0.007899</td>\n",
       "      <td>0.008723</td>\n",
       "    </tr>\n",
       "    <tr>\n",
       "      <th>2018-01-04</th>\n",
       "      <td>0.004645</td>\n",
       "      <td>0.017241</td>\n",
       "      <td>0.000905</td>\n",
       "    </tr>\n",
       "    <tr>\n",
       "      <th>2018-01-05</th>\n",
       "      <td>0.011385</td>\n",
       "      <td>0.016949</td>\n",
       "      <td>0.005927</td>\n",
       "    </tr>\n",
       "    <tr>\n",
       "      <th>2018-01-08</th>\n",
       "      <td>-0.003714</td>\n",
       "      <td>-0.003788</td>\n",
       "      <td>0.014780</td>\n",
       "    </tr>\n",
       "    <tr>\n",
       "      <th>2018-01-09</th>\n",
       "      <td>-0.000115</td>\n",
       "      <td>-0.005323</td>\n",
       "      <td>-0.012006</td>\n",
       "    </tr>\n",
       "  </tbody>\n",
       "</table>\n",
       "</div>"
      ],
      "text/plain": [
       "Ticker          AAPL         F       WMT\n",
       "Date                                    \n",
       "2018-01-03 -0.000174  0.007899  0.008723\n",
       "2018-01-04  0.004645  0.017241  0.000905\n",
       "2018-01-05  0.011385  0.016949  0.005927\n",
       "2018-01-08 -0.003714 -0.003788  0.014780\n",
       "2018-01-09 -0.000115 -0.005323 -0.012006"
      ]
     },
     "execution_count": 4,
     "metadata": {},
     "output_type": "execute_result"
    }
   ],
   "source": [
    "# In order to calculate the returns of the stocks, we need to drop the NA rows.\n",
    "stocks_returns = stocks[[\"AAPL\", \"F\", \"WMT\"]].dropna().pct_change()\n",
    "stocks_returns = stocks_returns.dropna()\n",
    "stocks_returns.head()"
   ]
  },
  {
   "cell_type": "markdown",
   "metadata": {
    "id": "mWuKTnDeNdb4"
   },
   "source": [
    "With the stock returns for Apple, Ford Motor and Walmart, we can calculate the covariance matrix for the 3 stock returns."
   ]
  },
  {
   "cell_type": "code",
   "execution_count": 5,
   "metadata": {
    "colab": {
     "base_uri": "https://localhost:8080/"
    },
    "id": "08kUMTh0NpiR",
    "outputId": "9d66397b-5a20-414d-eafa-c4b880daf1fa"
   },
   "outputs": [
    {
     "name": "stdout",
     "output_type": "stream",
     "text": [
      "Apple, Ford Motor and Walmart Covariance Matrix:\n",
      "Ticker      AAPL         F       WMT\n",
      "Ticker                              \n",
      "AAPL    0.000398  0.000194  0.000103\n",
      "F       0.000194  0.000668  0.000068\n",
      "WMT     0.000103  0.000068  0.000199\n",
      "\n",
      "Is the covariance matrix symmetric? True\n"
     ]
    }
   ],
   "source": [
    "# Calculate covariance matrix for Apple, Ford Motor and Walmart\n",
    "# Use np.allclose to verify if the matrix is a symmetric matrix\n",
    "stock_returns_covariance_matrix = stocks_returns.cov()\n",
    "print(\"Apple, Ford Motor and Walmart Covariance Matrix:\")\n",
    "print(stock_returns_covariance_matrix)\n",
    "print(\"\\nIs the covariance matrix symmetric?\", np.allclose(stock_returns_covariance_matrix, stock_returns_covariance_matrix.T))"
   ]
  },
  {
   "cell_type": "markdown",
   "metadata": {
    "id": "IyLCCyEJOi5n"
   },
   "source": [
    "As we can see from the above covariance matrix for Apple, Ford Motor, and Walmart, the variances of the three stocks are on the diagonal of the matrix. The covariances of any pairs of the stocks are on the off-diagonal of the matrix. This covariance matrix is also a symmetric matrix based on the definition.\n",
    "<br>\n",
    "<br>\n",
    "### **1.4. Correlation Matrix**\n",
    "According to the previous lesson, correlation is a metric to measure the co-movement of two variables while removing their scales. Without the scale difference, we can compare correlations from different pairs of variables. It is also a symmetric matrix. Let's continue our Apple, Ford Motor, and Walmart stock return example to calculate their correlation matrix."
   ]
  },
  {
   "cell_type": "code",
   "execution_count": 6,
   "metadata": {
    "colab": {
     "base_uri": "https://localhost:8080/"
    },
    "id": "F_4dk7AQSH97",
    "outputId": "4ea2609e-59fb-4444-f7f5-f100dbd04888"
   },
   "outputs": [
    {
     "name": "stdout",
     "output_type": "stream",
     "text": [
      "Apple, Ford Motor and Walmart Correlation Matrix:\n",
      "Ticker      AAPL         F       WMT\n",
      "Ticker                              \n",
      "AAPL    1.000000  0.376460  0.365246\n",
      "F       0.376460  1.000000  0.185248\n",
      "WMT     0.365246  0.185248  1.000000\n",
      "\n",
      "Is the correlation matrix symmetric? True\n"
     ]
    }
   ],
   "source": [
    "# Calculate correlation matrix for Apple, Ford Motor and Walmart\n",
    "# Verify if a correlation matrix a symmetric matrix\n",
    "stock_returns_correlation_matrix = stocks_returns.corr()\n",
    "print(\"Apple, Ford Motor and Walmart Correlation Matrix:\")\n",
    "print(stock_returns_correlation_matrix)\n",
    "print(\"\\nIs the correlation matrix symmetric?\", np.allclose(stock_returns_correlation_matrix, stock_returns_correlation_matrix.T))"
   ]
  },
  {
   "cell_type": "markdown",
   "metadata": {
    "id": "yWBgi-gmSgQg"
   },
   "source": [
    "We can see from the above correlation matrix that it is also a symmetric matrix. The diagonal values are the correlations of 3 stocks to themselves. The off-diagonal values are the correlations of different paired stock returns. Apple's stock return has similar correlation to both Ford Motor and Walmart's stock returns. Ford Motor and Walmart's stock returns have the lowest correlation among other stock return pairs.\n",
    "<br>\n",
    "<br>\n",
    "### **1.5. Converting between Covariance and Correlation Matrices**\n",
    "From the previous lesson, we learned that covariance and correlation have the following relationship.\n",
    "<br>\n",
    "<br>\n",
    "$$Corr(𝑋,𝑌)=\\frac{Cov(𝑋,𝑌)}{Var(𝑋)*Var(𝑌)}$$\n",
    "<br>\n",
    "where $Cov(X,Y)$ is the covariance of $X$ and $Y$, $Var(X)$ and $Var(Y)$ are variances of $X$ and $Y$.\n",
    "<br>\n",
    "<br>\n",
    "We can use the above formula to convert between covariance and correlation matrices easily. Let's demonstrate the conversion with the following code."
   ]
  },
  {
   "cell_type": "code",
   "execution_count": 7,
   "metadata": {
    "id": "WP6Zwx8g3r46"
   },
   "outputs": [],
   "source": [
    "# Convert covariance to correlation\n",
    "def cov_to_corr(cov_matrix):\n",
    "    d = np.sqrt(np.diag(cov_matrix))\n",
    "    corr_matrix = cov_matrix / np.outer(d, d)\n",
    "    return corr_matrix\n",
    "\n",
    "# Convert correlation to covariance\n",
    "def corr_to_cov(corr_matrix, std_devs):\n",
    "    cov_matrix = corr_matrix * np.outer(std_devs, std_devs)\n",
    "    return cov_matrix\n"
   ]
  },
  {
   "cell_type": "code",
   "execution_count": 8,
   "metadata": {
    "colab": {
     "base_uri": "https://localhost:8080/",
     "height": 175
    },
    "id": "Tg2lwySZ34Dg",
    "outputId": "d0f50620-2355-4c48-f72a-69344480e52e"
   },
   "outputs": [
    {
     "data": {
      "text/html": [
       "<div>\n",
       "<style scoped>\n",
       "    .dataframe tbody tr th:only-of-type {\n",
       "        vertical-align: middle;\n",
       "    }\n",
       "\n",
       "    .dataframe tbody tr th {\n",
       "        vertical-align: top;\n",
       "    }\n",
       "\n",
       "    .dataframe thead th {\n",
       "        text-align: right;\n",
       "    }\n",
       "</style>\n",
       "<table border=\"1\" class=\"dataframe\">\n",
       "  <thead>\n",
       "    <tr style=\"text-align: right;\">\n",
       "      <th>Ticker</th>\n",
       "      <th>AAPL</th>\n",
       "      <th>F</th>\n",
       "      <th>WMT</th>\n",
       "    </tr>\n",
       "    <tr>\n",
       "      <th>Ticker</th>\n",
       "      <th></th>\n",
       "      <th></th>\n",
       "      <th></th>\n",
       "    </tr>\n",
       "  </thead>\n",
       "  <tbody>\n",
       "    <tr>\n",
       "      <th>AAPL</th>\n",
       "      <td>1.000000</td>\n",
       "      <td>0.376460</td>\n",
       "      <td>0.365246</td>\n",
       "    </tr>\n",
       "    <tr>\n",
       "      <th>F</th>\n",
       "      <td>0.376460</td>\n",
       "      <td>1.000000</td>\n",
       "      <td>0.185248</td>\n",
       "    </tr>\n",
       "    <tr>\n",
       "      <th>WMT</th>\n",
       "      <td>0.365246</td>\n",
       "      <td>0.185248</td>\n",
       "      <td>1.000000</td>\n",
       "    </tr>\n",
       "  </tbody>\n",
       "</table>\n",
       "</div>"
      ],
      "text/plain": [
       "Ticker      AAPL         F       WMT\n",
       "Ticker                              \n",
       "AAPL    1.000000  0.376460  0.365246\n",
       "F       0.376460  1.000000  0.185248\n",
       "WMT     0.365246  0.185248  1.000000"
      ]
     },
     "execution_count": 8,
     "metadata": {},
     "output_type": "execute_result"
    }
   ],
   "source": [
    "# Use our Apple, Ford Motor and Walmart stock returns example to demonstrate the conversion\n",
    "# Calculate standard deviations of stock returns\n",
    "stocks_returns_std = stocks_returns.std()\n",
    "\n",
    "#convert covariance to correlation example\n",
    "cov_to_corr(stock_returns_correlation_matrix)"
   ]
  },
  {
   "cell_type": "code",
   "execution_count": 9,
   "metadata": {
    "colab": {
     "base_uri": "https://localhost:8080/",
     "height": 175
    },
    "id": "vUnU5-cx5YUg",
    "outputId": "99f8f3f7-23d3-4f6d-d391-f53f6cd71364"
   },
   "outputs": [
    {
     "data": {
      "text/html": [
       "<div>\n",
       "<style scoped>\n",
       "    .dataframe tbody tr th:only-of-type {\n",
       "        vertical-align: middle;\n",
       "    }\n",
       "\n",
       "    .dataframe tbody tr th {\n",
       "        vertical-align: top;\n",
       "    }\n",
       "\n",
       "    .dataframe thead th {\n",
       "        text-align: right;\n",
       "    }\n",
       "</style>\n",
       "<table border=\"1\" class=\"dataframe\">\n",
       "  <thead>\n",
       "    <tr style=\"text-align: right;\">\n",
       "      <th>Ticker</th>\n",
       "      <th>AAPL</th>\n",
       "      <th>F</th>\n",
       "      <th>WMT</th>\n",
       "    </tr>\n",
       "    <tr>\n",
       "      <th>Ticker</th>\n",
       "      <th></th>\n",
       "      <th></th>\n",
       "      <th></th>\n",
       "    </tr>\n",
       "  </thead>\n",
       "  <tbody>\n",
       "    <tr>\n",
       "      <th>AAPL</th>\n",
       "      <td>0.000398</td>\n",
       "      <td>0.000194</td>\n",
       "      <td>0.000103</td>\n",
       "    </tr>\n",
       "    <tr>\n",
       "      <th>F</th>\n",
       "      <td>0.000194</td>\n",
       "      <td>0.000668</td>\n",
       "      <td>0.000068</td>\n",
       "    </tr>\n",
       "    <tr>\n",
       "      <th>WMT</th>\n",
       "      <td>0.000103</td>\n",
       "      <td>0.000068</td>\n",
       "      <td>0.000199</td>\n",
       "    </tr>\n",
       "  </tbody>\n",
       "</table>\n",
       "</div>"
      ],
      "text/plain": [
       "Ticker      AAPL         F       WMT\n",
       "Ticker                              \n",
       "AAPL    0.000398  0.000194  0.000103\n",
       "F       0.000194  0.000668  0.000068\n",
       "WMT     0.000103  0.000068  0.000199"
      ]
     },
     "execution_count": 9,
     "metadata": {},
     "output_type": "execute_result"
    }
   ],
   "source": [
    "#convert correlation to covariance example\n",
    "corr_to_cov(stock_returns_correlation_matrix, stocks_returns_std)"
   ]
  },
  {
   "cell_type": "markdown",
   "metadata": {
    "id": "Enc1gkMW9blk"
   },
   "source": [
    "## **2. Triangular Matrix**\n",
    "Another commonly used matrix is the triangular matrix. A triangular matrix is a square matrix where all the entries on one side of the main diagonal are zero. There are two types of triangular matrices: lower triangular matrix and upper triangular matrix.\n",
    "<br>\n",
    "<br>\n",
    "### **2.1. Lower Triangular Matrix**\n",
    "A **lower triangular matrix** is a square matrix whose entries above the main diagonal are zero. The main diagonal and entries below it can be any value. Below is a demonstration of a lower triangular matrix.\n",
    "<br>\n",
    "<br>\n",
    "$$B = \\begin{bmatrix}\n",
    "m & 0 & 0 \\\\\n",
    "a & n & 0 \\\\\n",
    "b & c & p\n",
    "\\end{bmatrix}$$\n",
    "<br>\n",
    "<br>\n",
    "### **2.2. Upper Triangular Matrix**\n",
    "\n",
    "An **upper triangular matrix** is a square matrix whose entries below the main diagonal are zero. The main diagonal and entries above it can be any value. Below is a demonstration of an upper triangular matrix.\n",
    "<br>\n",
    "<br>\n",
    "$$B = \\begin{bmatrix}\n",
    "m & a & b \\\\\n",
    "0 & n & c \\\\\n",
    "0 & 0 & p\n",
    "\\end{bmatrix}$$\n",
    "<br>\n",
    "<br>\n",
    "### **2.3. Properties of a Triangular Matrix**\n",
    "Here are some key properties of a triangular matrix:\n",
    "<br>\n",
    "<br>\n",
    "&emsp;&emsp;1. The determinant is the product of the diagonal elements.\n",
    "<br>\n",
    "&emsp;&emsp;2. The inverse of a triangular matrix (if it exists) is also triangular.\n",
    "<br>\n",
    "&emsp;&emsp;3. The product of two upper (or lower) triangular matrices is upper (or lower) triangular.\n",
    "\n",
    "The above properties are all very easy to prove using matrix operations, so we will leave these proofs to the readers."
   ]
  },
  {
   "cell_type": "markdown",
   "metadata": {
    "id": "yVWL_0Se-6ac"
   },
   "source": [
    "## **3. Symmetric Positive Definite (PD) Matrices and Symmetric Positive Semi-Definite (SPD) Matrices**\n",
    "In this section, we are going to introduce two important types of matrices: symmetric positive definite (PD) matrices and symmetric positive semi-definite matrices (SPD).\n",
    "<br>\n",
    "<br>\n",
    "### **3.1. Symmetric Positive Definite (PD) Matrices**\n",
    "A symmetric matrix $A$ is positive definite if $x^{T}Ax\\gt 0$ for all non-zero vectors $x$.\n",
    "<br>\n",
    "Here are some key properties of a symmetric positive definite matrix:\n",
    "<br>\n",
    "<br>\n",
    "&emsp;&emsp;1. All eigenvalues of the matrix are positive\n",
    "<br>\n",
    "&emsp;&emsp;2. The determinant of the matrix is positive\n",
    "<br>\n",
    "&emsp;&emsp;3. The matrix has full rank\n",
    "<br>\n",
    "&emsp;&emsp;4. The matrix is invertible\n",
    "<br>\n",
    "&emsp;&emsp;5. The summation and multiplication of two symmetric positive definite matrices is also a symmetric positive definite matrix\n",
    "<br>\n",
    "<br>\n",
    "These properties of symmetric positive definite matrices—full rank, positive determinant, and positive eigenvalues—are intimately connected. These characteristics make symmetric positive definite matrices particularly useful in various mathematical and applied contexts, providing guarantees of non-singularity, stability, and convergence in many algorithms and methods.\n",
    "<br>\n",
    "Usually, a quick way to identify if a symmetric matrix is positive definite is to calculate its determinant and check if the determinant is positive. For example, let's take a look at the following symmetric matrix.\n",
    "<br>\n",
    "$$\\begin{bmatrix}\n",
    "3 & 4 \\\\\n",
    " 4& 5\n",
    "\\end{bmatrix}$$\n",
    "<br>\n",
    "This is a symmetric matrix. However, the determinant is $(3\\times 5)-(4\\times 4)=-1$, this matrix is not positive definite.\n",
    "<br>\n",
    "<br>\n",
    "### **3.2. Symmetric Positive Semidefinite (SPD) Matrices**\n",
    "A symmetric matrix $A$ is positive semidefinite if $x^{T}Ax\\ge 0$ for all vectors is $x$.\n",
    "<br>\n",
    "Here are the key properties of a symmetric positive semidefinite matrix:\n",
    "<br>\n",
    "<br>\n",
    "&emsp;&emsp;1. All eigenvalues of the matrix are non-negative\n",
    "<br>\n",
    "&emsp;&emsp;2. The determinant of the matrix is non-negative\n",
    "<br>\n",
    "&emsp;&emsp;3. The matrix may not have full rank\n",
    "<br>\n",
    "&emsp;&emsp;4. The matrix is not always invertible\n",
    "<br>\n",
    "<br>\n",
    "We usually also use the determinant of a symmetric matrix to quickly check if it is also a positive semidefinite. For the following matrix example,\n",
    "<br>\n",
    "$$\\begin{bmatrix}\n",
    "1 & 1 & 1 \\\\\n",
    "1 & 1 & 1 \\\\\n",
    "1 & 1 & 1\n",
    "\\end{bmatrix}$$\n",
    "<br>\n",
    "we can check that the determinant is 0. Hence, this matrix is a positive semidefinite matrix.\n",
    "<br>\n",
    "Going back to covariance matrices and correlation matrices, they are both symmetric positive semidefinite but not necessarily symmetric positive definite. The following Python code can be used to check if a matrix is a symmetric positive definite or a symmetric positive semidefinite."
   ]
  },
  {
   "cell_type": "code",
   "execution_count": 10,
   "metadata": {
    "colab": {
     "base_uri": "https://localhost:8080/"
    },
    "id": "4_VYt_2s_I5k",
    "outputId": "08be2790-8f3c-4c70-bf4d-af3f23567a7e"
   },
   "outputs": [
    {
     "name": "stdout",
     "output_type": "stream",
     "text": [
      "Is A positive definite? True\n",
      "Eigenvalues: [1.62523829 0.55989741 0.8148643 ]\n",
      "Determinant: 0.7414993837034696\n",
      "Rank: 3\n"
     ]
    }
   ],
   "source": [
    "def is_positive_definite(matrix):\n",
    "    return np.all(np.linalg.eigvals(matrix) > 0)\n",
    "\n",
    "A = stock_returns_correlation_matrix\n",
    "\n",
    "print(\"Is A positive definite?\", is_positive_definite(A))\n",
    "print(\"Eigenvalues:\", np.linalg.eigvals(A))\n",
    "print(\"Determinant:\", np.linalg.det(A))\n",
    "print(\"Rank:\", np.linalg.matrix_rank(A))"
   ]
  },
  {
   "cell_type": "code",
   "execution_count": 11,
   "metadata": {
    "colab": {
     "base_uri": "https://localhost:8080/"
    },
    "id": "X_s_z6TvDRHR",
    "outputId": "9d098040-da6d-4cbf-ce92-f3b4774dafe0"
   },
   "outputs": [
    {
     "name": "stdout",
     "output_type": "stream",
     "text": [
      "Is A positive semidefinite? True\n",
      "Eigenvalues: [1.62523829 0.55989741 0.8148643 ]\n",
      "Determinant: 0.7414993837034696\n",
      "Rank: 3\n"
     ]
    }
   ],
   "source": [
    "def is_positive_semidefinite(matrix):\n",
    "    return np.all(np.linalg.eigvals(matrix) >= 0)\n",
    "\n",
    "A = stock_returns_correlation_matrix\n",
    "\n",
    "print(\"Is A positive semidefinite?\", is_positive_semidefinite(A))\n",
    "print(\"Eigenvalues:\", np.linalg.eigvals(A))\n",
    "print(\"Determinant:\", np.linalg.det(A))\n",
    "print(\"Rank:\", np.linalg.matrix_rank(A))"
   ]
  },
  {
   "cell_type": "markdown",
   "metadata": {
    "id": "BQti-jI2EsIu"
   },
   "source": [
    "## **4. Cholesky Factorization**\n",
    "### **4.1. Definition of Cholesky Factorization**\n",
    "**Cholesky factorization** is a method to decompose a symmetric matrix. Cholesky factorization states that a symmetric positive definite matrix $S$ can be decomposed as follows:\n",
    "<br>\n",
    "$$S = LL^{T}$$\n",
    "\n",
    "where $L$ is a lower triangular matrix or a Cholesky factor.\n",
    "<br>\n",
    "<br>\n",
    "Let's look at a numeric example. Suppose we have the following $3\\times 3$ symmetric positive definite matrix.\n",
    "<br>\n",
    "<br>\n",
    "$$S =\\begin{bmatrix}\n",
    "s_{11} & s_{21} & s_{31} \\\\\n",
    "s_{21} & s_{22} & s_{32} \\\\\n",
    "s_{31} & s_{23} & s_{33}\n",
    "\\end{bmatrix}=\\begin{bmatrix}\n",
    "l_{11} & 0 & 0 \\\\\n",
    "1_{21} & l_{22} & 0 \\\\\n",
    "l_{31} & l_{32} & l_{33}\n",
    "\\end{bmatrix}\\begin{bmatrix}\n",
    "l_{11} & l_{21} & l_{31} \\\\\n",
    "0 & l_{22} & l_{32} \\\\\n",
    "0 & 0 & l_{33}\n",
    "\\end{bmatrix}=LL^{T}$$\n",
    "<br>\n",
    "$$\\Downarrow $$\n",
    "<br>\n",
    "<br>\n",
    "$$LL^{T}=\\begin{bmatrix}\n",
    "l_{11}^{2} & l_{11}l_{21} & l_{11}l_{13} \\\\\n",
    "l_{21}l_{11} & l_{21}^{2} +l_{22}^{2}& l_{21}l_{31}+l_{22}l_{32} \\\\\n",
    "l_{31}l_{11} & l_{21}l_{31} + l_{22}l_{32}& l_{31}^{2}+l_{32}^{2}+l_{33}^{2}\n",
    "\\end{bmatrix}$$\n",
    "<br>\n",
    "<br>\n",
    "From the above matrices, we can get the following formulae for the lower triangular matrix.\n",
    "<br>\n",
    "$l_{11}=\\sqrt{s_{11}}$\n",
    "<br>\n",
    "$l_{21}=\\frac{s_{21}}{l_{11}}$\n",
    "<br>\n",
    "$l_{31}=\\frac{s_{31}}{l_{11}}$\n",
    "<br>\n",
    "$l_{22}=\\sqrt{s_{22}-l_{21}^{2}}$\n",
    "<br>\n",
    "$l_{32}=\\frac{s_{23}-l_{21}l_{31}}{l_{22}}$\n",
    "<br>\n",
    "$l_{33}=\\sqrt{s_{33}-l_{31}^{2}-l_{32}^{2}}$\n",
    "<br>\n",
    "<br>\n",
    "To get the above solution, you must start to solve the first row of $LL^{T}$. Then, you move on to the second row and the next row until you solve all the elements in $L$.\n",
    "<br>\n",
    "Let's look at a numeric example. Suppose we have the following symmetric positive definite matrix (please verify),\n",
    "$$S =\\begin{bmatrix}\n",
    "25 & 15 & -5 \\\\\n",
    "15 & 18 & 0 \\\\\n",
    "-5 & 0 & 11\n",
    "\\end{bmatrix}$$\n",
    "<br>\n",
    "Let's find the Cholesky factor using the above equations we derived.\n",
    "<br>\n",
    "$l_{11}=\\sqrt{25}=5$\n",
    "<br>\n",
    "$l_{21}=\\frac{15}{5}=3$\n",
    "<br>\n",
    "$l_{31}=\\frac{-5}{5}=-1$\n",
    "<br>\n",
    "$l_{22}=\\sqrt{18-9}=3$\n",
    "<br>\n",
    "$l_{32}=\\frac{0-(3)(-1)}{3}=1$\n",
    "<br>\n",
    "$l_{33}=\\sqrt{11-(-1)^{2}-(1)^{2}}=3$\n",
    "<br>\n",
    "<br>\n",
    "Hence, the Cholesky factor of $S$ is\n",
    "<br>\n",
    "<br>\n",
    "$$L_{s} =\\begin{bmatrix}\n",
    "5 & 0 & 0 \\\\\n",
    "3 & 3 & 0 \\\\\n",
    "-1 & 1 & 3\n",
    "\\end{bmatrix}$$\n",
    "<br>\n",
    "<br>\n",
    "Python Numpy has a function to calculate the Choleksy factor for a matrix. We can use it to verify our manual calculation.\n"
   ]
  },
  {
   "cell_type": "code",
   "execution_count": null,
   "metadata": {
    "colab": {
     "base_uri": "https://localhost:8080/"
    },
    "id": "9ZKxLCVSheJN",
    "outputId": "cf27b67a-8163-47cf-c8ad-f15e36455397"
   },
   "outputs": [],
   "source": [
    "S= np.array([[25,15,-5],\n",
    "             [15,18,0],\n",
    "             [-5,0,11]])\n",
    "\n",
    "L_numpy = np.linalg.cholesky(S)\n",
    "print(\"\\nNumPy Cholesky factor:\")\n",
    "print(L_numpy)"
   ]
  },
  {
   "cell_type": "markdown",
   "metadata": {
    "id": "H2y0YyPUmUeV"
   },
   "source": [
    "Choleksy factorization algorithum greatly improves the computer efficiency to solve for linear equations. It can also be used to compute the inverse of a matrix more efficiently than some other methods. Choleksy factorization is also numerically stable, making it useful for computations involving ill-conditioned matrices."
   ]
  },
  {
   "cell_type": "markdown",
   "metadata": {
    "id": "70wE_5d6FlpM"
   },
   "source": [
    "### **4.2. Using Cholesky Factorization for Monte Carlo Simulation**\n",
    "Cholesky factorization is useful in Monte Carlo simulations or other optimization tasks. In this section, we will use Cholesky factorization in a Monte Carlo simulation to generate correlated random variables. Let's use the Apple and Ford Motor stock return correlation matrix as an example. The process involves the following steps:\n",
    "<br>\n",
    "<br>\n",
    "&emsp;&emsp;1. Compute the Cholesky factorization of the stock return correlation matrix to get the factor L.\n",
    "<br>\n",
    "&emsp;&emsp;2. Generate independent standard normal random variable Z.\n",
    "<br>\n",
    "&emsp;&emsp;3. Compute X = LZ to get correlated random variables.\n",
    "<br>\n",
    "<br>\n",
    "First, let's calculate the correlation of Apple and Ford Motor stock returns."
   ]
  },
  {
   "cell_type": "code",
   "execution_count": null,
   "metadata": {
    "colab": {
     "base_uri": "https://localhost:8080/",
     "height": 143
    },
    "id": "wQAXgNRIDwsx",
    "outputId": "4fd707c0-4fed-4d40-892d-ab838aa99e2d"
   },
   "outputs": [],
   "source": [
    "# Create a new dataframe with just Apple and Ford Motor stock returns from the dataframe from the last example\n",
    "two_stock_returns = stocks_returns[[\"AAPL\", \"F\"]]\n",
    "original_correlation = two_stock_returns.corr()\n",
    "original_correlation"
   ]
  },
  {
   "cell_type": "markdown",
   "metadata": {
    "id": "Uw9ZhR4tOZuF"
   },
   "source": [
    "Now, let's implement the simulation using Cholesky factorization as described above."
   ]
  },
  {
   "cell_type": "code",
   "execution_count": null,
   "metadata": {
    "id": "F5dvQZlyGCPU"
   },
   "outputs": [],
   "source": [
    "# Create a function to generate random samples from correlated variables\n",
    "def generate_correlated_samples(n_samples, correlation_matrix):\n",
    "    # Compute Cholesky factorization\n",
    "    L = np.linalg.cholesky(correlation_matrix)\n",
    "\n",
    "    # Generate independent standard normal samples\n",
    "    Z = np.random.standard_normal((correlation_matrix.shape[0], n_samples))\n",
    "\n",
    "    # Generate correlated samples\n",
    "    X = L @ Z\n",
    "\n",
    "    return X\n",
    "\n",
    "\n",
    "# Generate samples\n",
    "n_samples = 10000\n",
    "X = generate_correlated_samples(n_samples, original_correlation)\n",
    "X = pd.DataFrame(generate_correlated_samples(n_samples, original_correlation).T, columns = [\"APPL\",\"F\"])\n",
    "# Compute sample correlation\n",
    "sample_correlation = X.corr()"
   ]
  },
  {
   "cell_type": "markdown",
   "metadata": {
    "id": "d7728Ia0OyJM"
   },
   "source": [
    "Our next step is to visualize the result from original data and sampled data using a Monte Carlo simulation."
   ]
  },
  {
   "cell_type": "code",
   "execution_count": null,
   "metadata": {
    "colab": {
     "base_uri": "https://localhost:8080/",
     "height": 936
    },
    "id": "pnD3Is0uFpmM",
    "outputId": "90e701c1-9ed4-4625-fc27-7920f832d883"
   },
   "outputs": [],
   "source": [
    "# Visualize results\n",
    "fig, (ax1, ax2) = plt.subplots(1, 2, figsize=(15, 6))\n",
    "\n",
    "sns.heatmap(original_correlation, annot=True, cmap='coolwarm', vmin=-1, vmax=1, ax=ax1)\n",
    "ax1.set_title('Original Correlation Matrix')\n",
    "ax1.set(xlabel='', ylabel='')\n",
    "\n",
    "\n",
    "sns.heatmap(sample_correlation, annot=True, cmap='coolwarm', vmin=-1, vmax=1, ax=ax2)\n",
    "ax2.set_title('Sample Correlation Matrix')\n",
    "ax2.set(xlabel='', ylabel='')\n",
    "\n",
    "plt.tight_layout()\n",
    "plt.show()\n",
    "\n",
    "# Scatter plot of the stimulated Apple and Ford Motor stock returns\n",
    "plt.figure(figsize=(8, 6))\n",
    "plt.scatter(X[\"APPL\"], X[\"F\"], alpha=0.1)\n",
    "plt.title('Scatter Plot of the Simulated Apple and Ford Motor stock returns')\n",
    "plt.xlabel('Apple')\n",
    "plt.ylabel('Ford Motor')\n",
    "plt.show()"
   ]
  },
  {
   "cell_type": "markdown",
   "metadata": {
    "id": "bNnlYbdLF4tl"
   },
   "source": [
    "From the above original correlation matrix and sample correlation matrix, we can see that the correlation values of the original data and the simulated data are very close.\n",
    "<br>\n",
    "<br>\n",
    "## **5. Conclusion**\n",
    "In this lesson, we introduced a few special matrices and some linear algebra tools related to these matrices. We started with the definition and properties of a symmetric matrix and then its application, especially its diagonalized form. Then, we described what upper and lower triangular matrices are. We moved to symmetric positive definite matrices followed by symmetric positive semidefinite matrices. We finished the lesson by introducing Cholesky factorization. We provided the definition and went through one numeric example. We ended the section with a Cholesky factorization application with a Monte Carlo simulation. All these special matrices will play important roles in the financial analysis tools we are going to learn in future lessons."
   ]
  },
  {
   "cell_type": "markdown",
   "metadata": {
    "id": "HMLFOGaJhrjD"
   },
   "source": [
    "**References**\n",
    "<br>\n",
    "- Axler, Sheldon. *Linear Algebra Done Right*. 4th edition, Springer, 2024.\n",
    "\n"
   ]
  },
  {
   "cell_type": "markdown",
   "metadata": {
    "id": "CrmgnC9A6M0x"
   },
   "source": [
    "---\n",
    "Copyright 2024 WorldQuant University. This\n",
    "content is licensed solely for personal use. Redistribution or\n",
    "publication of this material is strictly prohibited."
   ]
  }
 ],
 "metadata": {
  "colab": {
   "provenance": []
  },
  "kernelspec": {
   "display_name": "Python 3 (ipykernel)",
   "language": "python",
   "name": "python3"
  },
  "language_info": {
   "codemirror_mode": {
    "name": "ipython",
    "version": 3
   },
   "file_extension": ".py",
   "mimetype": "text/x-python",
   "name": "python",
   "nbconvert_exporter": "python",
   "pygments_lexer": "ipython3",
   "version": "3.11.0"
  }
 },
 "nbformat": 4,
 "nbformat_minor": 4
}
