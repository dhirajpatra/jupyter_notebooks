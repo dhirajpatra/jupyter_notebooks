{
 "cells": [
  {
   "cell_type": "code",
   "execution_count": null,
   "id": "0",
   "metadata": {},
   "outputs": [],
   "source": [
    "import matplotlib.pyplot as plt\n",
    "import numpy as np\n",
    "import statistics"
   ]
  },
  {
   "cell_type": "code",
   "execution_count": null,
   "id": "1",
   "metadata": {},
   "outputs": [],
   "source": [
    "#Introduce the first parameter \n",
    "x=[1,2,3,4,5]"
   ]
  },
  {
   "cell_type": "code",
   "execution_count": null,
   "id": "2",
   "metadata": {},
   "outputs": [],
   "source": [
    "#Calculate the mean, variance and standard deviation of the first parameter\n",
    "mu_x=np.mean(x) #Mean Calculation\n",
    "Sigma_x=np.var(x) #Variance Calculation\n",
    "sigma_x=np.std(x) #Standard deviation calculation\n",
    "mu_x,Sigma_x,sigma_x"
   ]
  },
  {
   "cell_type": "code",
   "execution_count": null,
   "id": "3",
   "metadata": {},
   "outputs": [],
   "source": [
    "mu_x=statistics.mean(x) #Mean Calculation\n",
    "Sigma_x=statistics.variance(x) #Variance Calculation\n",
    "sigma_x=statistics.stdev(x) #Standard deviation calculation\n",
    "mu_x,Sigma_x,sigma_x"
   ]
  },
  {
   "cell_type": "code",
   "execution_count": null,
   "id": "4",
   "metadata": {},
   "outputs": [],
   "source": [
    "#Plot the data set\n",
    "plt.plot(x,np.zeros_like(x), 'o', markersize=20)\n",
    "plt.xlabel('X Values')\n",
    "plt.tick_params(axis='y', left = False, right = False , labelleft = False, labelbottom = False, \n",
    "                bottom = False)\n",
    "plt.grid(axis='x', alpha=0.75)"
   ]
  },
  {
   "cell_type": "code",
   "execution_count": null,
   "id": "5",
   "metadata": {},
   "outputs": [],
   "source": [
    "#Plot the data set with the mean \n",
    "plt.plot(x,np.zeros_like(x), 'o', markersize=20)\n",
    "plt.plot(mu_x, 0, 'ro', markersize=10) #Plot the mean value \n",
    "plt.xlabel('X Values')\n",
    "plt.tick_params(axis='y', left = False, right = False , labelleft = False, labelbottom = False, \n",
    "                bottom = False)\n",
    "plt.grid(axis='x', alpha=0.75)"
   ]
  },
  {
   "cell_type": "code",
   "execution_count": null,
   "id": "6",
   "metadata": {},
   "outputs": [],
   "source": [
    "#Plot the data set with the mean and standard deviation\n",
    "plt.plot(x,np.zeros_like(x), 'o', markersize=20)\n",
    "plt.plot(mu_x, 0, 'ro', markersize=10)\n",
    "plt.plot(mu_x+sigma_x, 0, 'go', markersize=10) #Plot the standard deviation\n",
    "plt.plot(mu_x-sigma_x, 0, 'go', markersize=10) #Plot the standard deviation\n",
    "plt.xlabel('X Values')\n",
    "plt.tick_params(axis='y', left = False, right = False , labelleft = False, labelbottom = False, \n",
    "                bottom = False)\n",
    "plt.grid(axis='x', alpha=0.75)"
   ]
  },
  {
   "cell_type": "code",
   "execution_count": null,
   "id": "7",
   "metadata": {},
   "outputs": [],
   "source": []
  },
  {
   "cell_type": "code",
   "execution_count": null,
   "id": "8",
   "metadata": {},
   "outputs": [],
   "source": []
  },
  {
   "cell_type": "code",
   "execution_count": null,
   "id": "9",
   "metadata": {},
   "outputs": [],
   "source": []
  },
  {
   "cell_type": "code",
   "execution_count": null,
   "id": "10",
   "metadata": {},
   "outputs": [],
   "source": [
    "#Introduce the second parameter \n",
    "y=[2,4,6,8,10]"
   ]
  },
  {
   "cell_type": "code",
   "execution_count": null,
   "id": "11",
   "metadata": {},
   "outputs": [],
   "source": [
    "#Calculate the mean, variance and standard deviation of the second parameter\n",
    "mu_y=np.mean(y)\n",
    "Sigma_y=np.var(y)\n",
    "sigma_y=np.std(y)\n",
    "mu_y,Sigma_y,sigma_y"
   ]
  },
  {
   "cell_type": "code",
   "execution_count": null,
   "id": "12",
   "metadata": {},
   "outputs": [],
   "source": [
    "mu_y=statistics.mean(y)\n",
    "Sigma_y=statistics.variance(y)\n",
    "sigma_y=statistics.stdev(y)\n",
    "mu_y,Sigma_y,sigma_y"
   ]
  },
  {
   "cell_type": "code",
   "execution_count": null,
   "id": "13",
   "metadata": {},
   "outputs": [],
   "source": [
    "#Calculate the covariance of the first and second parameters\n",
    "sigma_xy = np.cov(x,y)[0][1]\n",
    "sigma_xy "
   ]
  },
  {
   "cell_type": "code",
   "execution_count": null,
   "id": "14",
   "metadata": {},
   "outputs": [],
   "source": [
    "#Calculate the correlation of the first and second parameters\n",
    "ro_xy = np.corrcoef(x, y)[0][1]\n",
    "ro_xy"
   ]
  },
  {
   "cell_type": "code",
   "execution_count": null,
   "id": "15",
   "metadata": {},
   "outputs": [],
   "source": [
    "#Plot the data set with two parameters \n",
    "plt.plot(x, y, 'o', markersize=20)\n",
    "plt.xlabel('X Values')\n",
    "plt.ylabel('Y Values')\n",
    "plt.grid(axis='both', alpha=0.75)"
   ]
  },
  {
   "cell_type": "code",
   "execution_count": null,
   "id": "16",
   "metadata": {},
   "outputs": [],
   "source": [
    "#Plot the data set with two parameters to calculate the mean and standard deviation\n",
    "plt.plot(x, y, 'o', markersize=20)\n",
    "plt.plot(mu_x, mu_y, 'ro', markersize=10)\n",
    "plt.plot(mu_x+sigma_x, mu_y+sigma_y, 'go', markersize=10)\n",
    "plt.plot(mu_x-sigma_x, mu_y-sigma_y, 'go', markersize=10)\n",
    "plt.xlabel('X Values')\n",
    "plt.ylabel('Y Values')\n",
    "plt.grid(axis='both', alpha=0.75)"
   ]
  },
  {
   "cell_type": "code",
   "execution_count": null,
   "id": "17",
   "metadata": {},
   "outputs": [],
   "source": []
  }
 ],
 "metadata": {
  "kernelspec": {
   "display_name": "Python 3 (ipykernel)",
   "language": "python",
   "name": "python3"
  },
  "language_info": {
   "codemirror_mode": {
    "name": "ipython",
    "version": 3
   },
   "file_extension": ".py",
   "mimetype": "text/x-python",
   "name": "python",
   "nbconvert_exporter": "python",
   "pygments_lexer": "ipython3",
   "version": "3.9.12"
  }
 },
 "nbformat": 4,
 "nbformat_minor": 5
}
