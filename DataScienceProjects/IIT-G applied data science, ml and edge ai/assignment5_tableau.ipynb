{
 "cells": [
  {
   "cell_type": "markdown",
   "id": "d71643f2",
   "metadata": {},
   "source": [
    "# Assignment5 - Tableau"
   ]
  },
  {
   "cell_type": "markdown",
   "id": "53b68c76",
   "metadata": {},
   "source": [
    "__Dhiraj Patra__"
   ]
  },
  {
   "cell_type": "markdown",
   "id": "b0a76d1f",
   "metadata": {},
   "source": [
    "### 1. What are the different Tableau files?"
   ]
  },
  {
   "cell_type": "markdown",
   "id": "71bbbafe",
   "metadata": {},
   "source": [
    "Tableau software uses several different file types to organize and store data and workbook information. Some of the most common Tableau file types include:\n",
    "\n",
    "__TWB (Tableau Workbook)__: a Tableau workbook that contains one or more worksheets and dashboards.\n",
    "\n",
    "__TWBX (Tableau Packaged Workbook)__: a Tableau workbook that includes a data connection and any associated extracts, metadata, and other resources.\n",
    "\n",
    "__TWD (Tableau Worksheet Data)__: a file that contains the data for a single worksheet in a Tableau workbook.\n",
    "\n",
    "__TDS (Tableau Data Source)__: a file that contains the connection information and metadata for a data source used in a Tableau workbook.\n",
    "\n",
    "__TDE (Tableau Data Extract)__: a file that contains a snapshot of data from a data source, which can be used to improve performance and enable offline analysis in Tableau.\n",
    "\n",
    "__TDSX (Tableau Packaged Data Source)__: a Tableau data source that includes a TDS file and any associated extracts, metadata, and other resources.\n",
    "\n",
    "__TWM (Tableau Workbook Metadata)__ : a file that contains metadata information of the workbook.\n",
    "\n",
    "__TWL (Tableau Workbook Log)__ : a file that contains log information of the workbook.\n",
    "\n",
    "__TWT (Tableau Workbook Template)__ : a file that contains a workbook template that can be used as a starting point for creating new workbooks."
   ]
  },
  {
   "cell_type": "markdown",
   "id": "639bd31d",
   "metadata": {},
   "source": [
    "### 2. Explain Charts, Tables and Filter in Tableau."
   ]
  },
  {
   "cell_type": "markdown",
   "id": "e3c76be1",
   "metadata": {},
   "source": [
    "In Tableau, charts, tables, and filters are used to display and analyze data.\n",
    "\n",
    "__Charts__: Charts are used to visually display data in a way that makes it easy to understand and compare. Tableau offers a wide range of chart types, including bar charts, line charts, scatter plots, and pie charts. Each chart type is designed to display certain types of data in a specific way. For example, a bar chart is best used to compare the values of different categories, while a line chart is used to show trends over time.\n",
    "\n",
    "__Tables__: Tables in Tableau are used to display data in a tabular format. It can be used to view and analyze data in a more detailed and precise way. Tables can be customized to show different levels of detail and can be sorted, grouped, and filtered to focus on specific data.\n",
    "\n",
    "__Filters__: Filters in Tableau allow you to limit the data that is displayed in a chart or table. You can use filters to exclude certain data points or to focus on a specific subset of data. Filters can be based on a variety of factors, such as a specific field, a range of values, or a specific condition. You can also apply filters to a single worksheet or across multiple worksheets in a workbook.\n",
    "\n",
    "All these elements are interactive and can be used together to create a dynamic and informative data visualization."
   ]
  },
  {
   "cell_type": "markdown",
   "id": "3e3d98fc",
   "metadata": {},
   "source": [
    "### 3. Why should you use Tableau?"
   ]
  },
  {
   "cell_type": "markdown",
   "id": "e6d769ae",
   "metadata": {},
   "source": [
    "There are several reasons why someone might choose to use Tableau for data visualization and analysis:\n",
    "\n",
    "__Intuitive drag-and-drop interface__: Tableau makes it easy to connect to data sources and create interactive visualizations without the need for programming knowledge.\n",
    "\n",
    "__Wide range of chart types__: Tableau provides a wide range of chart types, including bar charts, line charts, scatter plots, and more, which can be used to display data in a way that is easy to understand and compare.\n",
    "\n",
    "__Flexibility__: Tableau allows you to connect to a variety of data sources, including spreadsheets, databases, and cloud-based data sources. It also supports real-time data connectivity and can handle large amounts of data.\n",
    "\n",
    "__Advanced analytics__: Tableau provides advanced analytics features such as statistical modeling, forecasting, and data blending. It also has built-in support for R, Python and SQL.\n",
    "\n",
    "__Collaboration and Sharing__: Tableau has built-in support for collaboration, allowing multiple users to work on a single workbook or dashboard, and share it with others via Tableau Server or Tableau Online.\n",
    "\n",
    "__Mobile-friendly__: Tableau has a mobile app that allows you to access and interact with your dashboards on the go.\n",
    "\n",
    "Overall, Tableau is a powerful and flexible tool that can help organizations to analyze and visualize large amounts of data quickly and easily, making it a popular choice for data analysts and business intelligence professionals."
   ]
  },
  {
   "cell_type": "markdown",
   "id": "dbeba929",
   "metadata": {},
   "source": [
    "### 4. Create Dashboard and Stories in Tableau."
   ]
  },
  {
   "cell_type": "code",
   "execution_count": null,
   "id": "e6c6f54d",
   "metadata": {},
   "outputs": [],
   "source": []
  },
  {
   "cell_type": "code",
   "execution_count": null,
   "id": "69b049a8",
   "metadata": {},
   "outputs": [],
   "source": []
  },
  {
   "cell_type": "code",
   "execution_count": null,
   "id": "dfc37876",
   "metadata": {},
   "outputs": [],
   "source": []
  },
  {
   "cell_type": "code",
   "execution_count": null,
   "id": "db427f14",
   "metadata": {},
   "outputs": [],
   "source": []
  }
 ],
 "metadata": {
  "kernelspec": {
   "display_name": "Python 3 (ipykernel)",
   "language": "python",
   "name": "python3"
  },
  "language_info": {
   "codemirror_mode": {
    "name": "ipython",
    "version": 3
   },
   "file_extension": ".py",
   "mimetype": "text/x-python",
   "name": "python",
   "nbconvert_exporter": "python",
   "pygments_lexer": "ipython3",
   "version": "3.9.7"
  }
 },
 "nbformat": 4,
 "nbformat_minor": 5
}
