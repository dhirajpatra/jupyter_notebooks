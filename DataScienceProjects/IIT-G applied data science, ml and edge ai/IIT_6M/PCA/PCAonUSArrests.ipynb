{
 "cells": [
  {
   "cell_type": "code",
   "execution_count": 28,
   "id": "7449cbda-2460-46ad-990c-4d3890bd2fc1",
   "metadata": {},
   "outputs": [],
   "source": [
    "import pandas as pd\n",
    "from sklearn.decomposition import PCA\n",
    "from sklearn.preprocessing import StandardScaler\n"
   ]
  },
  {
   "cell_type": "code",
   "execution_count": 47,
   "id": "c36ab3eb-2856-4dd5-a3cc-66b8067ce7c4",
   "metadata": {},
   "outputs": [
    {
     "data": {
      "text/html": [
       "<div>\n",
       "<style scoped>\n",
       "    .dataframe tbody tr th:only-of-type {\n",
       "        vertical-align: middle;\n",
       "    }\n",
       "\n",
       "    .dataframe tbody tr th {\n",
       "        vertical-align: top;\n",
       "    }\n",
       "\n",
       "    .dataframe thead th {\n",
       "        text-align: right;\n",
       "    }\n",
       "</style>\n",
       "<table border=\"1\" class=\"dataframe\">\n",
       "  <thead>\n",
       "    <tr style=\"text-align: right;\">\n",
       "      <th></th>\n",
       "      <th>Unnamed: 0</th>\n",
       "      <th>Murder</th>\n",
       "      <th>Assault</th>\n",
       "      <th>UrbanPop</th>\n",
       "      <th>Rape</th>\n",
       "    </tr>\n",
       "  </thead>\n",
       "  <tbody>\n",
       "    <tr>\n",
       "      <th>0</th>\n",
       "      <td>Alabama</td>\n",
       "      <td>13.2</td>\n",
       "      <td>236</td>\n",
       "      <td>58</td>\n",
       "      <td>21.2</td>\n",
       "    </tr>\n",
       "    <tr>\n",
       "      <th>1</th>\n",
       "      <td>Alaska</td>\n",
       "      <td>10.0</td>\n",
       "      <td>263</td>\n",
       "      <td>48</td>\n",
       "      <td>44.5</td>\n",
       "    </tr>\n",
       "    <tr>\n",
       "      <th>2</th>\n",
       "      <td>Arizona</td>\n",
       "      <td>8.1</td>\n",
       "      <td>294</td>\n",
       "      <td>80</td>\n",
       "      <td>31.0</td>\n",
       "    </tr>\n",
       "    <tr>\n",
       "      <th>3</th>\n",
       "      <td>Arkansas</td>\n",
       "      <td>8.8</td>\n",
       "      <td>190</td>\n",
       "      <td>50</td>\n",
       "      <td>19.5</td>\n",
       "    </tr>\n",
       "    <tr>\n",
       "      <th>4</th>\n",
       "      <td>California</td>\n",
       "      <td>9.0</td>\n",
       "      <td>276</td>\n",
       "      <td>91</td>\n",
       "      <td>40.6</td>\n",
       "    </tr>\n",
       "  </tbody>\n",
       "</table>\n",
       "</div>"
      ],
      "text/plain": [
       "   Unnamed: 0  Murder  Assault  UrbanPop  Rape\n",
       "0     Alabama    13.2      236        58  21.2\n",
       "1      Alaska    10.0      263        48  44.5\n",
       "2     Arizona     8.1      294        80  31.0\n",
       "3    Arkansas     8.8      190        50  19.5\n",
       "4  California     9.0      276        91  40.6"
      ]
     },
     "execution_count": 47,
     "metadata": {},
     "output_type": "execute_result"
    }
   ],
   "source": [
    "# Step 1: Load the dataset\n",
    "data = pd.read_csv('USArrests.csv')\n",
    "data.head()\n"
   ]
  },
  {
   "cell_type": "code",
   "execution_count": 48,
   "id": "c7113105-9fe8-4904-bcb8-94257443f1ba",
   "metadata": {},
   "outputs": [
    {
     "name": "stdout",
     "output_type": "stream",
     "text": [
      "Missing Values:\n",
      " Unnamed: 0    0\n",
      "Murder        0\n",
      "Assault       0\n",
      "UrbanPop      0\n",
      "Rape          0\n",
      "dtype: int64\n"
     ]
    }
   ],
   "source": [
    "# Step 2: Data preprocessing (if required)\n",
    "# Handling Missing Values (if any)\n",
    "# Check for missing values\n",
    "missing_values = data.isnull().sum()\n",
    "print(\"Missing Values:\\n\", missing_values)\n",
    "\n"
   ]
  },
  {
   "cell_type": "code",
   "execution_count": 49,
   "id": "679b861a-758e-4687-ab58-6727d5b3dbaa",
   "metadata": {},
   "outputs": [],
   "source": [
    "# Step 3: Feature Scaling\n",
    "# Standardize the numerical features\n",
    "scaler = StandardScaler()\n",
    "scaled_data = scaler.fit_transform(data.iloc[:, 1:])  # Exclude the first column (state names)"
   ]
  },
  {
   "cell_type": "code",
   "execution_count": 50,
   "id": "5d9b92d6-df81-4938-84b4-c344f9192b6a",
   "metadata": {},
   "outputs": [],
   "source": [
    "# Step 4: Perform PCA\n",
    "pca = PCA(n_components=2)  # Keep 2 principal components\n",
    "principal_components = pca.fit_transform(scaled_data)\n",
    "\n"
   ]
  },
  {
   "cell_type": "code",
   "execution_count": 51,
   "id": "2a6ccd92-5cc9-46a3-ad52-3edf3dd3f4e0",
   "metadata": {},
   "outputs": [],
   "source": [
    "# Step 5: Convert PCA results back to a DataFrame if needed\n",
    "principal_df = pd.DataFrame(principal_components, columns=['PC1', 'PC2'])\n",
    "final_df = pd.concat([data.iloc[:, 0], principal_df], axis=1)"
   ]
  },
  {
   "cell_type": "code",
   "execution_count": 52,
   "id": "895ac3fb-5f19-479f-94de-8c1b91b35c72",
   "metadata": {},
   "outputs": [
    {
     "name": "stdout",
     "output_type": "stream",
     "text": [
      "Variance explained by PC1: 62.01%\n",
      "Variance explained by PC2: 24.74%\n"
     ]
    }
   ],
   "source": [
    "# Step 6: Calculate variance explained\n",
    "variance_explained = pca.explained_variance_ratio_\n",
    "variance_pc1 = variance_explained[0]  # Variance explained by PC1\n",
    "variance_pc2 = variance_explained[1]  # Variance explained by PC2\n",
    "\n",
    "print(\"Variance explained by PC1: {:.2f}%\".format(variance_pc1 * 100))\n",
    "print(\"Variance explained by PC2: {:.2f}%\".format(variance_pc2 * 100))"
   ]
  },
  {
   "cell_type": "code",
   "execution_count": 53,
   "id": "a63fbebc-9c3e-433e-9f39-e45b36fafdd8",
   "metadata": {},
   "outputs": [],
   "source": [
    "# Step 7: Convert PCA results back to a DataFrame if needed\n",
    "principal_df = pd.DataFrame(principal_components, columns=['PC1', 'PC2'])\n",
    "final_df = pd.concat([data.iloc[:, 0], principal_df], axis=1)"
   ]
  },
  {
   "cell_type": "code",
   "execution_count": 54,
   "id": "ff3ee2a3-61b5-469b-add6-fe8ae4242037",
   "metadata": {},
   "outputs": [
    {
     "name": "stdout",
     "output_type": "stream",
     "text": [
      "\n",
      "Final DataFrame with PCA results:\n",
      "    Unnamed: 0       PC1       PC2\n",
      "0     Alabama  0.985566  1.133392\n",
      "1      Alaska  1.950138  1.073213\n",
      "2     Arizona  1.763164 -0.745957\n",
      "3    Arkansas -0.141420  1.119797\n",
      "4  California  2.523980 -1.542934\n"
     ]
    }
   ],
   "source": [
    "# Print the final DataFrame\n",
    "print(\"\\nFinal DataFrame with PCA results:\\n\", final_df.head())"
   ]
  },
  {
   "cell_type": "code",
   "execution_count": null,
   "id": "09d2590d-2d37-4dc6-b909-a85af4369281",
   "metadata": {},
   "outputs": [],
   "source": []
  }
 ],
 "metadata": {
  "kernelspec": {
   "display_name": "Python 3 (ipykernel)",
   "language": "python",
   "name": "python3"
  },
  "language_info": {
   "codemirror_mode": {
    "name": "ipython",
    "version": 3
   },
   "file_extension": ".py",
   "mimetype": "text/x-python",
   "name": "python",
   "nbconvert_exporter": "python",
   "pygments_lexer": "ipython3",
   "version": "3.8.16"
  }
 },
 "nbformat": 4,
 "nbformat_minor": 5
}
