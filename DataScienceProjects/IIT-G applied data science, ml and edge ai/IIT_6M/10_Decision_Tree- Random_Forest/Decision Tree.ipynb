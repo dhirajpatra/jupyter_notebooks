{
 "cells": [
  {
   "cell_type": "code",
   "execution_count": null,
   "id": "027dc69c",
   "metadata": {},
   "outputs": [],
   "source": [
    "import pandas as pd\n",
    "import numpy as np\n",
    "import matplotlib.pyplot as plt\n",
    "import seaborn as sns\n",
    "import warnings\n",
    "warnings.filterwarnings(\"ignore\")"
   ]
  },
  {
   "cell_type": "code",
   "execution_count": null,
   "id": "11516c45",
   "metadata": {},
   "outputs": [],
   "source": [
    "hospital_data = pd.read_csv(\"hospital_appointment.csv\")"
   ]
  },
  {
   "cell_type": "code",
   "execution_count": null,
   "id": "a358e374",
   "metadata": {},
   "outputs": [],
   "source": [
    "hospital_data"
   ]
  },
  {
   "cell_type": "code",
   "execution_count": null,
   "id": "45038a80",
   "metadata": {},
   "outputs": [],
   "source": [
    "hospital_data.tail()"
   ]
  },
  {
   "cell_type": "code",
   "execution_count": null,
   "id": "d6ee18e2",
   "metadata": {},
   "outputs": [],
   "source": [
    "hospital_data.shape"
   ]
  },
  {
   "cell_type": "code",
   "execution_count": null,
   "id": "1865337d",
   "metadata": {},
   "outputs": [],
   "source": [
    "hospital_data.columns"
   ]
  },
  {
   "cell_type": "code",
   "execution_count": null,
   "id": "c9b66d53",
   "metadata": {},
   "outputs": [],
   "source": [
    "hospital_data.rename(columns={'No-show': 'No_show'}, inplace=True)\n",
    "hospital_data.rename(columns={'Hipertension': 'Hypertension'}, inplace=True)\n",
    "hospital_data.rename(columns={'Handcap': 'Handicap'}, inplace=True)"
   ]
  },
  {
   "cell_type": "code",
   "execution_count": null,
   "id": "bdb890b8",
   "metadata": {},
   "outputs": [],
   "source": [
    "hospital_data.info()\n"
   ]
  },
  {
   "cell_type": "code",
   "execution_count": null,
   "id": "f3a7dfec",
   "metadata": {},
   "outputs": [],
   "source": [
    "hospital_data.describe()"
   ]
  },
  {
   "cell_type": "code",
   "execution_count": null,
   "id": "fed591e1",
   "metadata": {},
   "outputs": [],
   "source": [
    "hospital_data.isnull().sum()"
   ]
  },
  {
   "cell_type": "code",
   "execution_count": null,
   "id": "a83d45ac",
   "metadata": {},
   "outputs": [],
   "source": [
    "hospital_data.nunique()"
   ]
  },
  {
   "cell_type": "code",
   "execution_count": null,
   "id": "8729f77b",
   "metadata": {},
   "outputs": [],
   "source": [
    "hospital_data1 = hospital_data[['Gender','Scholarship', 'Hypertension','Diabetes', 'Alcoholism', 'Handicap',\n",
    "                                'SMS_received', 'No_show']]"
   ]
  },
  {
   "cell_type": "code",
   "execution_count": null,
   "id": "649ecbf0",
   "metadata": {},
   "outputs": [],
   "source": [
    "for i in hospital_data1.columns:\n",
    "    plt.figure(figsize=(15,6))\n",
    "    sns.countplot(hospital_data1[i], data = hospital_data1,    palette='hls')\n",
    "    plt.show()"
   ]
  },
  {
   "cell_type": "code",
   "execution_count": null,
   "id": "416f9937",
   "metadata": {},
   "outputs": [],
   "source": [
    "hospital_data2 = hospital_data.copy()"
   ]
  },
  {
   "cell_type": "code",
   "execution_count": null,
   "id": "c9403132",
   "metadata": {},
   "outputs": [],
   "source": [
    "hospital_data2.drop(['PatientId','AppointmentID','ScheduledDay','AppointmentDay'], axis=1)"
   ]
  },
  {
   "cell_type": "code",
   "execution_count": null,
   "id": "69c2cd7c",
   "metadata": {},
   "outputs": [],
   "source": [
    "hospital_data2['Age'].replace(0, hospital_data2['Age'].mean() , inplace = True)"
   ]
  },
  {
   "cell_type": "code",
   "execution_count": null,
   "id": "6b136a9c",
   "metadata": {},
   "outputs": [],
   "source": [
    "hospital_data2['Age'] = hospital_data2['Age'].abs()"
   ]
  },
  {
   "cell_type": "code",
   "execution_count": null,
   "id": "cae1adca",
   "metadata": {},
   "outputs": [],
   "source": [
    "hospital_data2.hist(figsize=(12,12));"
   ]
  },
  {
   "cell_type": "code",
   "execution_count": null,
   "id": "a9a78a7a",
   "metadata": {},
   "outputs": [],
   "source": [
    "hospital_data2.No_show.value_counts().plot.bar(color=['green','red']);\n",
    "plt.title(\"ratio of attendence\")\n",
    "plt.xlabel(\"showing up\")\n",
    "plt.ylabel(\"count\")\n",
    "plt.show()"
   ]
  },
  {
   "cell_type": "code",
   "execution_count": null,
   "id": "b51c86fe",
   "metadata": {},
   "outputs": [],
   "source": [
    "plt.figure(figsize=(15,6))\n",
    "sns.countplot('No_show', hue = 'Gender' , data = hospital_data2, palette='hls')\n",
    "plt.xticks(rotation = 90)\n",
    "plt.show()"
   ]
  },
  {
   "cell_type": "code",
   "execution_count": null,
   "id": "3db57ff3",
   "metadata": {},
   "outputs": [],
   "source": [
    "plt.figure(figsize=(15,6))\n",
    "sns.countplot('No_show', hue = 'Scholarship' , data = hospital_data2,\n",
    "palette='hls')\n",
    "plt.xticks(rotation = 90)\n",
    "plt.show()"
   ]
  },
  {
   "cell_type": "code",
   "execution_count": null,
   "id": "e14d554e",
   "metadata": {},
   "outputs": [],
   "source": [
    "plt.figure(figsize=(15,6))\n",
    "sns.countplot('No_show', hue = 'Diabetes' , data = hospital_data2,\n",
    "palette='hls')\n",
    "plt.xticks(rotation = 90)\n",
    "plt.show()"
   ]
  },
  {
   "cell_type": "code",
   "execution_count": null,
   "id": "8eddfd26",
   "metadata": {},
   "outputs": [],
   "source": [
    "plt.figure(figsize=(15,6))\n",
    "sns.countplot('No_show', hue = 'Hypertension' , data = hospital_data2,\n",
    "palette='hls')\n",
    "plt.xticks(rotation = 90)\n",
    "plt.show()"
   ]
  },
  {
   "cell_type": "code",
   "execution_count": null,
   "id": "474e0a48",
   "metadata": {},
   "outputs": [],
   "source": [
    "plt.figure(figsize=(15,6))\n",
    "sns.countplot('No_show', hue = 'Alcoholism' , data = hospital_data2,\n",
    "palette='hls')\n",
    "plt.xticks(rotation = 90)\n",
    "plt.show()"
   ]
  },
  {
   "cell_type": "code",
   "execution_count": null,
   "id": "3dc0b655",
   "metadata": {},
   "outputs": [],
   "source": [
    "plt.figure(figsize=(15,6))\n",
    "sns.countplot('No_show', hue = 'SMS_received' , data = hospital_data2,\n",
    "palette='hls')\n",
    "plt.xticks(rotation = 90)\n",
    "plt.show()"
   ]
  },
  {
   "cell_type": "code",
   "execution_count": null,
   "id": "807a937f",
   "metadata": {},
   "outputs": [],
   "source": [
    "plt.figure(figsize=[20,20])\n",
    "e = hospital_data2.groupby(['Neighbourhood','No_show']).size().unstack()\n",
    "e.Yes.plot(kind='bar' , alpha=.5 , color = 'red' , label= 'no show')\n",
    "e.No.plot(kind='bar' , alpha=.5 , color = 'green' , label= 'show')\n",
    "plt.legend()\n",
    "plt.title(\"The relation between neighbourhood and showing up\")\n",
    "plt.xlabel(\"Neighbourhood\")\n",
    "plt.ylabel(\"patients\")\n",
    "plt.show()"
   ]
  },
  {
   "cell_type": "code",
   "execution_count": null,
   "id": "0c79257e",
   "metadata": {},
   "outputs": [],
   "source": [
    "plt.figure(figsize=(15,6))\n",
    "sns.boxplot(hospital_data2['Age'])\n",
    "plt.show()"
   ]
  },
  {
   "cell_type": "code",
   "execution_count": null,
   "id": "2dfc73ae",
   "metadata": {},
   "outputs": [],
   "source": [
    "hospital_age= hospital_data2['Age']\n",
    "Q3 = hospital_age.quantile(0.75)\n",
    "Q1 = hospital_age.quantile(0.25)\n",
    "IQR = Q3-Q1\n",
    "lower_limit = Q1 -(1.5*IQR)\n",
    "upper_limit = Q3 +(1.5*IQR)\n",
    "age_outliers = hospital_age[(hospital_age <lower_limit) | (hospital_age >upper_limit)]\n",
    "age_outliers"
   ]
  },
  {
   "cell_type": "code",
   "execution_count": null,
   "id": "72c995e8",
   "metadata": {},
   "outputs": [],
   "source": [
    "lower_limit"
   ]
  },
  {
   "cell_type": "code",
   "execution_count": null,
   "id": "117f364a",
   "metadata": {},
   "outputs": [],
   "source": [
    "upper_limit"
   ]
  },
  {
   "cell_type": "code",
   "execution_count": null,
   "id": "a83bb52f",
   "metadata": {},
   "outputs": [],
   "source": [
    "hospital_data_new = hospital_data.drop([63912, 63915, 68127, 76284, 97666])\n"
   ]
  },
  {
   "cell_type": "code",
   "execution_count": null,
   "id": "811ff1b4",
   "metadata": {},
   "outputs": [],
   "source": [
    "hospital_data_new.corr()"
   ]
  },
  {
   "cell_type": "code",
   "execution_count": null,
   "id": "4590ec3f",
   "metadata": {},
   "outputs": [],
   "source": [
    "plt.figure(figsize=(15,6))\n",
    "sns.heatmap(hospital_data_new.corr(), annot = True)\n",
    "plt.show()"
   ]
  },
  {
   "cell_type": "code",
   "execution_count": null,
   "id": "d0737091",
   "metadata": {},
   "outputs": [],
   "source": [
    "hospital_data_new.head()"
   ]
  },
  {
   "cell_type": "code",
   "execution_count": null,
   "id": "20a47229",
   "metadata": {},
   "outputs": [],
   "source": [
    "from sklearn import preprocessing\n",
    "label_encoder = preprocessing.LabelEncoder()\n",
    "hospital_data_new['Gender']= label_encoder.fit_transform(hospital_data_new['Gender'])\n",
    "hospital_data_new['No_show']= label_encoder.fit_transform(hospital_data_new['No_show'])"
   ]
  },
  {
   "cell_type": "code",
   "execution_count": null,
   "id": "7db6c21b",
   "metadata": {},
   "outputs": [],
   "source": [
    "hospital_data_new['No_show']"
   ]
  },
  {
   "cell_type": "code",
   "execution_count": null,
   "id": "534cdfae",
   "metadata": {},
   "outputs": [],
   "source": [
    "hospital_data_new.columns"
   ]
  },
  {
   "cell_type": "code",
   "execution_count": null,
   "id": "b4671d80",
   "metadata": {},
   "outputs": [],
   "source": [
    "x = hospital_data_new[['Gender', 'Scholarship', 'Hypertension','Diabetes', 'Alcoholism', 'Handicap', 'SMS_received']]"
   ]
  },
  {
   "cell_type": "code",
   "execution_count": null,
   "id": "8d334317",
   "metadata": {},
   "outputs": [],
   "source": [
    "y = hospital_data_new.No_show\n"
   ]
  },
  {
   "cell_type": "code",
   "execution_count": null,
   "id": "c41ee017",
   "metadata": {},
   "outputs": [],
   "source": [
    "x.shape"
   ]
  },
  {
   "cell_type": "code",
   "execution_count": null,
   "id": "96465d75",
   "metadata": {},
   "outputs": [],
   "source": [
    "y.shape"
   ]
  },
  {
   "cell_type": "code",
   "execution_count": null,
   "id": "a7feef38",
   "metadata": {},
   "outputs": [],
   "source": [
    "from sklearn.model_selection import train_test_split"
   ]
  },
  {
   "cell_type": "code",
   "execution_count": null,
   "id": "478a7cdf",
   "metadata": {},
   "outputs": [],
   "source": [
    "x_train, x_test, y_train, y_test = train_test_split(x,y,test_size=0.2,random_state=42)"
   ]
  },
  {
   "cell_type": "code",
   "execution_count": null,
   "id": "9003fce6",
   "metadata": {},
   "outputs": [],
   "source": [
    "from sklearn.linear_model import LogisticRegression"
   ]
  },
  {
   "cell_type": "code",
   "execution_count": null,
   "id": "1ae7feac",
   "metadata": {},
   "outputs": [],
   "source": [
    "classifier= LogisticRegression(random_state=0)\n",
    "classifier.fit(x_train, y_train)"
   ]
  },
  {
   "cell_type": "code",
   "execution_count": null,
   "id": "bc6feed5",
   "metadata": {},
   "outputs": [],
   "source": [
    "print(\"Training Accuracy :\", classifier.score(x_train, y_train))\n",
    "print(\"Testing Accuracy :\", classifier.score(x_test, y_test))"
   ]
  },
  {
   "cell_type": "code",
   "execution_count": null,
   "id": "1669c7e8",
   "metadata": {},
   "outputs": [],
   "source": [
    "from sklearn.tree import DecisionTreeClassifier"
   ]
  },
  {
   "cell_type": "code",
   "execution_count": null,
   "id": "73426583",
   "metadata": {},
   "outputs": [],
   "source": [
    "classifier_dt= DecisionTreeClassifier(criterion='entropy', random_state=0)\n",
    "classifier_dt.fit(x_train, y_train)"
   ]
  },
  {
   "cell_type": "code",
   "execution_count": null,
   "id": "c076d65c",
   "metadata": {},
   "outputs": [],
   "source": [
    "print(\"Training Accuracy :\", classifier_dt.score(x_train, y_train))\n",
    "print(\"Testing Accuracy :\", classifier_dt.score(x_test, y_test))"
   ]
  },
  {
   "cell_type": "code",
   "execution_count": null,
   "id": "cf382cd5",
   "metadata": {},
   "outputs": [],
   "source": []
  },
  {
   "cell_type": "code",
   "execution_count": null,
   "id": "d4640d88",
   "metadata": {},
   "outputs": [],
   "source": []
  },
  {
   "cell_type": "code",
   "execution_count": null,
   "id": "a9b3dc1a",
   "metadata": {},
   "outputs": [],
   "source": []
  },
  {
   "cell_type": "code",
   "execution_count": null,
   "id": "105a3be3",
   "metadata": {},
   "outputs": [],
   "source": []
  },
  {
   "cell_type": "code",
   "execution_count": null,
   "id": "20e4c15d",
   "metadata": {},
   "outputs": [],
   "source": []
  },
  {
   "cell_type": "code",
   "execution_count": null,
   "id": "eb152aad",
   "metadata": {},
   "outputs": [],
   "source": []
  },
  {
   "cell_type": "code",
   "execution_count": null,
   "id": "7f2e65cf",
   "metadata": {},
   "outputs": [],
   "source": []
  }
 ],
 "metadata": {
  "kernelspec": {
   "display_name": "Python 3 (ipykernel)",
   "language": "python",
   "name": "python3"
  },
  "language_info": {
   "codemirror_mode": {
    "name": "ipython",
    "version": 3
   },
   "file_extension": ".py",
   "mimetype": "text/x-python",
   "name": "python",
   "nbconvert_exporter": "python",
   "pygments_lexer": "ipython3",
   "version": "3.9.12"
  }
 },
 "nbformat": 4,
 "nbformat_minor": 5
}
