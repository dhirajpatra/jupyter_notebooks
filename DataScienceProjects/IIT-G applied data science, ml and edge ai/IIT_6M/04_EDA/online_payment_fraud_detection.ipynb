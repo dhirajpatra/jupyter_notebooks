{
 "cells": [
  {
   "cell_type": "code",
   "execution_count": null,
   "id": "45a61d92-efed-42b1-be73-7df6f9a9ad38",
   "metadata": {},
   "outputs": [],
   "source": [
    "import pandas as pd\n",
    "import numpy as np\n",
    "import matplotlib.pyplot as plt \n",
    "import seaborn as sb "
   ]
  },
  {
   "cell_type": "code",
   "execution_count": null,
   "id": "122e408d-564b-4460-be3f-ab9403b08b8c",
   "metadata": {},
   "outputs": [],
   "source": [
    "data = pd.read_csv('../onlinefraud.csv')\n",
    "data.head()"
   ]
  },
  {
   "cell_type": "code",
   "execution_count": null,
   "id": "20111a83-da00-40c9-9bd7-1213edbbfa29",
   "metadata": {},
   "outputs": [],
   "source": [
    "data.info()"
   ]
  },
  {
   "cell_type": "code",
   "execution_count": null,
   "id": "99a8aff4-7933-42e5-954f-630309daf961",
   "metadata": {},
   "outputs": [],
   "source": [
    "data.shape"
   ]
  },
  {
   "cell_type": "code",
   "execution_count": null,
   "id": "e9a437ea-6ce2-4e05-91d2-edb3b6ab0f75",
   "metadata": {},
   "outputs": [],
   "source": [
    "data.iloc[0:1]"
   ]
  },
  {
   "cell_type": "code",
   "execution_count": null,
   "id": "5005be56-f1f8-474a-8341-437fffad9c93",
   "metadata": {},
   "outputs": [],
   "source": [
    "data.isna().sum()"
   ]
  },
  {
   "cell_type": "code",
   "execution_count": null,
   "id": "21b08a3d-9517-41bc-a0e9-641318b75c80",
   "metadata": {},
   "outputs": [],
   "source": [
    "data.duplicated().sum()"
   ]
  },
  {
   "cell_type": "code",
   "execution_count": null,
   "id": "77a0f5d9-3b6b-4b4e-89c7-dbd3fd6b635e",
   "metadata": {},
   "outputs": [],
   "source": [
    "sb.boxplot(data.oldbalanceOrg)\n",
    "plt.show()"
   ]
  },
  {
   "cell_type": "code",
   "execution_count": null,
   "id": "cb2c3ed8-ad74-4e48-b678-2368de8b58fd",
   "metadata": {},
   "outputs": [],
   "source": [
    "data.info()"
   ]
  },
  {
   "cell_type": "code",
   "execution_count": null,
   "id": "fc2c7117-aa05-41c5-981d-3c154afa5807",
   "metadata": {},
   "outputs": [],
   "source": [
    "sb.boxplot(data['newbalanceDest'])\n",
    "plt.show()"
   ]
  },
  {
   "cell_type": "code",
   "execution_count": null,
   "id": "754085a7-cf17-4b28-bff0-8e5fb9378fa0",
   "metadata": {},
   "outputs": [],
   "source": [
    "data.corr()"
   ]
  },
  {
   "cell_type": "code",
   "execution_count": null,
   "id": "dbb86f39-66cc-40e4-b866-9ebcfa427e90",
   "metadata": {},
   "outputs": [],
   "source": [
    "plt.scatter(data.oldbalanceOrg, data.newbalanceDest)\n",
    "plt.show()"
   ]
  },
  {
   "cell_type": "code",
   "execution_count": null,
   "id": "b4a769d1-58d4-4581-b24a-53b30025db64",
   "metadata": {},
   "outputs": [],
   "source": [
    "Q1 = np.percentile(data['amount'], 25,\n",
    "                   interpolation = 'midpoint')\n",
    " \n",
    "Q3 = np.percentile(data['amount'], 75,\n",
    "                   interpolation = 'midpoint')\n",
    "IQR = Q3 - Q1"
   ]
  },
  {
   "cell_type": "code",
   "execution_count": null,
   "id": "7e712207-623b-4478-8b5d-8421e617d7e0",
   "metadata": {},
   "outputs": [],
   "source": [
    "IQR"
   ]
  },
  {
   "cell_type": "code",
   "execution_count": null,
   "id": "ad5bd192-b9e3-49f0-a5bd-bb97ac6ad542",
   "metadata": {},
   "outputs": [],
   "source": [
    "upper = Q3 +1.5*IQR\n",
    "lower = Q1 - 1.5*IQR"
   ]
  },
  {
   "cell_type": "code",
   "execution_count": null,
   "id": "2910d232-82c1-47c7-b4e4-1b05332da65b",
   "metadata": {},
   "outputs": [],
   "source": [
    "upper = np.where(data['amount'] >= (Q3+1.5*IQR))\n",
    "lower = np.where(data['amount'] <= (Q1-1.5*IQR))"
   ]
  },
  {
   "cell_type": "code",
   "execution_count": null,
   "id": "4ceb0a57-da61-4741-9722-52c85fbbba39",
   "metadata": {},
   "outputs": [],
   "source": [
    "data.drop(upper[0], inplace = True)\n",
    "data.drop(lower[0], inplace = True)"
   ]
  },
  {
   "cell_type": "code",
   "execution_count": null,
   "id": "0df39aa1-f6c7-47b2-b605-c3e47b7dcfcc",
   "metadata": {},
   "outputs": [],
   "source": [
    "data.step"
   ]
  },
  {
   "cell_type": "code",
   "execution_count": null,
   "id": "9ee72145-b7bd-427e-be65-8305702ebcf4",
   "metadata": {},
   "outputs": [],
   "source": [
    "data.columns"
   ]
  },
  {
   "cell_type": "code",
   "execution_count": null,
   "id": "976733b9-8f2e-4ac0-acb5-8dbbc8315cb6",
   "metadata": {},
   "outputs": [],
   "source": [
    "data.type"
   ]
  },
  {
   "cell_type": "code",
   "execution_count": null,
   "id": "4293fa22-0577-43b0-a511-21e667bbe422",
   "metadata": {},
   "outputs": [],
   "source": [
    "data.type.unique()"
   ]
  },
  {
   "cell_type": "code",
   "execution_count": null,
   "id": "fd9a8a0c-b21b-4e56-97b6-21d3597aef34",
   "metadata": {},
   "outputs": [],
   "source": [
    "data.type.value_counts()"
   ]
  },
  {
   "cell_type": "code",
   "execution_count": null,
   "id": "cd60b13d-4169-4b95-a34e-8c3e1b486193",
   "metadata": {},
   "outputs": [],
   "source": [
    "sb.barplot(x = data.type.value_counts().index, y = data.type.value_counts().values)\n",
    "plt.show()"
   ]
  },
  {
   "cell_type": "code",
   "execution_count": null,
   "id": "20909d21-edb7-44b8-b10c-cf8c51dfdb07",
   "metadata": {},
   "outputs": [],
   "source": [
    "data.describe()"
   ]
  },
  {
   "cell_type": "code",
   "execution_count": null,
   "id": "ddd3585f-f6cb-48bc-b713-38b982d47951",
   "metadata": {},
   "outputs": [],
   "source": [
    "data.amount"
   ]
  },
  {
   "cell_type": "code",
   "execution_count": null,
   "id": "8525e0cb-ca52-4054-9466-61d0e31bc2bf",
   "metadata": {},
   "outputs": [],
   "source": [
    "sb.histplot(data.amount)\n",
    "plt.xlabel('the amount of money')\n",
    "plt.show()"
   ]
  },
  {
   "cell_type": "code",
   "execution_count": null,
   "id": "7fed783a-e8a8-43f3-98a3-f907acb265ee",
   "metadata": {},
   "outputs": [],
   "source": [
    "data.nlargest(10, 'amount')"
   ]
  },
  {
   "cell_type": "code",
   "execution_count": null,
   "id": "c42e6bc7-5f76-4caf-8d6e-d23e07103a4d",
   "metadata": {},
   "outputs": [],
   "source": [
    "x = data.nlargest(10, 'amount').type\n",
    "  \n",
    "def unique(li):\n",
    "    value_counts = []\n",
    "    for i in li:\n",
    "        c = li.count(i)\n",
    "        value_counts.append((i,c))\n",
    "    return value_counts"
   ]
  },
  {
   "cell_type": "code",
   "execution_count": null,
   "id": "94914c4b-d36c-4587-bf5a-6126f7ca91d4",
   "metadata": {},
   "outputs": [],
   "source": [
    "x"
   ]
  },
  {
   "cell_type": "code",
   "execution_count": null,
   "id": "84034faf-0332-448e-a4ea-5ce406914d12",
   "metadata": {},
   "outputs": [],
   "source": [
    "from collections import Counter\n",
    "Counter(x)"
   ]
  },
  {
   "cell_type": "code",
   "execution_count": null,
   "id": "bfa100cc-16e9-4898-b1c4-a27c7e61f2d7",
   "metadata": {},
   "outputs": [],
   "source": [
    "data.nlargest(10, 'amount').isFraud"
   ]
  },
  {
   "cell_type": "code",
   "execution_count": null,
   "id": "3393e5d9-d51e-4298-868a-34b02d78050a",
   "metadata": {},
   "outputs": [],
   "source": [
    "Counter(data.nlargest(100, 'amount').type)"
   ]
  },
  {
   "cell_type": "code",
   "execution_count": null,
   "id": "e269a47b-1ff3-4898-9aae-ec9baa8f4a9d",
   "metadata": {},
   "outputs": [],
   "source": [
    "x = data.nlargest(100, 'amount').isFraud\n",
    "counter = 0\n",
    "if 1 in x.values:\n",
    "    counter +=1\n",
    "counter"
   ]
  },
  {
   "cell_type": "code",
   "execution_count": null,
   "id": "437d0706-cefb-4cbf-bad2-88a651b784df",
   "metadata": {},
   "outputs": [],
   "source": [
    "plt.hist2d(data= data, x = 'step', y = 'amount', cmin = 0.5,\n",
    "    cmap = 'viridis_r' )\n",
    "plt.colorbar()\n",
    "plt.xlabel('step')\n",
    "plt.ylabel('the amount')\n",
    "plt.show()"
   ]
  },
  {
   "cell_type": "code",
   "execution_count": null,
   "id": "1aa8e319-7cd3-43e0-b94e-421449b8a211",
   "metadata": {},
   "outputs": [],
   "source": [
    "step_amount_avg = data[data.amount >= 500000]['step']\n",
    "plt.hist(step_amount_avg, color = 'black')\n",
    "plt.axvline(step_amount_avg.mean(), color = 'red')\n",
    "plt.axvline(step_amount_avg.median(), color = 'green')\n",
    "plt.xlabel('steps')\n",
    "plt.show()"
   ]
  },
  {
   "cell_type": "code",
   "execution_count": null,
   "id": "ff9dfa1f-dd4b-4c65-80be-08eb1ef62a91",
   "metadata": {},
   "outputs": [],
   "source": [
    "import scipy.stats as st\n",
    "st.t.interval(alpha=0.90, df=len(step_amount_avg)-1,\n",
    "              loc=np.mean(step_amount_avg),\n",
    "              scale=st.sem(step_amount_avg))"
   ]
  },
  {
   "cell_type": "code",
   "execution_count": null,
   "id": "a3ae3e79-2c30-47f1-8e43-a4e4de22bef9",
   "metadata": {},
   "outputs": [],
   "source": [
    "data.info()"
   ]
  },
  {
   "cell_type": "code",
   "execution_count": null,
   "id": "8fe7e646-6ef8-403b-a722-f9c86f7a8593",
   "metadata": {},
   "outputs": [],
   "source": [
    "print(f'the number of unique values of nameOrig is : {round((len(data.nameOrig.unique()) * 100) / data.shape[0], 2)} %')"
   ]
  },
  {
   "cell_type": "code",
   "execution_count": null,
   "id": "09583e6e-f40f-41ac-8036-adabfb928852",
   "metadata": {},
   "outputs": [],
   "source": [
    "data[data.nameOrig == 'C1065307291']"
   ]
  },
  {
   "cell_type": "code",
   "execution_count": null,
   "id": "e1c833f8-fcdd-4821-83f1-9e36eea65748",
   "metadata": {},
   "outputs": [],
   "source": [
    "Messi = data.nameOrig.mode()"
   ]
  },
  {
   "cell_type": "code",
   "execution_count": null,
   "id": "bdb01d1c-4796-46d0-a2dd-f5a88cb168db",
   "metadata": {},
   "outputs": [],
   "source": [
    "original_name = []\n",
    "for i in Messi.values:\n",
    "    original_name.append((i,data[data.nameOrig == i].shape[0]))\n",
    "for j in original_name:\n",
    "    print(j)"
   ]
  },
  {
   "cell_type": "code",
   "execution_count": null,
   "id": "0186738e-10bd-409a-b1a9-9e1edcdcea46",
   "metadata": {},
   "outputs": [],
   "source": [
    "data.nameOrig = data.nameOrig.str.replace('C','').astype('int')\n",
    "data.rename(columns = {'nameOrig': 'client_id'}, inplace = True)"
   ]
  },
  {
   "cell_type": "code",
   "execution_count": null,
   "id": "4e2d5c40-9f93-4d9c-b36e-32562c977adb",
   "metadata": {},
   "outputs": [],
   "source": [
    "data.client_id"
   ]
  },
  {
   "cell_type": "code",
   "execution_count": null,
   "id": "b63aac70-6b71-4f13-94cd-00ceaac78e61",
   "metadata": {},
   "outputs": [],
   "source": [
    "data.oldbalanceOrg"
   ]
  },
  {
   "cell_type": "code",
   "execution_count": null,
   "id": "c2c3ccc3-f224-4fb0-ac92-c18565ab8fbd",
   "metadata": {},
   "outputs": [],
   "source": [
    "data.oldbalanceOrg.describe()"
   ]
  },
  {
   "cell_type": "code",
   "execution_count": null,
   "id": "1e5dac6b-b395-4732-8d6b-dd328bd5fafa",
   "metadata": {},
   "outputs": [],
   "source": [
    "plt.figure(figsize = [10,7])\n",
    "plt.hist(data.oldbalanceOrg, bins = 30)\n",
    "plt.title('the old balance distribution')\n",
    "plt.show()"
   ]
  },
  {
   "cell_type": "code",
   "execution_count": null,
   "id": "a468435b-2239-40db-bf41-d98eaba4f9f3",
   "metadata": {},
   "outputs": [],
   "source": [
    "plt.figure(figsize = [10,7])\n",
    "plt.plot(data.oldbalanceOrg)\n",
    "plt.show()"
   ]
  },
  {
   "cell_type": "code",
   "execution_count": null,
   "id": "cf293a0d-1df4-44a3-942e-65c35085fd91",
   "metadata": {},
   "outputs": [],
   "source": [
    "data.nlargest(20, 'oldbalanceOrg')"
   ]
  },
  {
   "cell_type": "code",
   "execution_count": null,
   "id": "074ea2d0-c7d5-4314-b348-3f2365e13237",
   "metadata": {},
   "outputs": [],
   "source": [
    "plt.figure(figsize = [10,7])\n",
    "sb.barplot(x = data.nlargest(10, 'oldbalanceOrg').client_id, y = data.nlargest(10, 'oldbalanceOrg').oldbalanceOrg)\n",
    "plt.xticks(rotation = 17.5)\n",
    "plt.title('the largest 10 balances before transaction')\n",
    "plt.xlabel('Client Id')\n",
    "plt.ylabel('The Balance')\n",
    "plt.show()"
   ]
  },
  {
   "cell_type": "code",
   "execution_count": null,
   "id": "6c0ed018-c87a-4e7d-9b61-18ce912405c2",
   "metadata": {},
   "outputs": [],
   "source": [
    "data.newbalanceOrig"
   ]
  },
  {
   "cell_type": "code",
   "execution_count": null,
   "id": "8622f8b2-78ee-4eac-971e-7aa113e44f8f",
   "metadata": {},
   "outputs": [],
   "source": [
    "data.newbalanceOrig.describe()"
   ]
  },
  {
   "cell_type": "code",
   "execution_count": null,
   "id": "cfae02b0-b777-48a7-883b-ad96c6b6afda",
   "metadata": {},
   "outputs": [],
   "source": [
    "plt.figure(figsize = [10,7])\n",
    "plt.hist(data.newbalanceOrig, bins = 30)\n",
    "plt.title('the  balance after transaction distribution')\n",
    "plt.show()"
   ]
  },
  {
   "cell_type": "code",
   "execution_count": null,
   "id": "4f65458b-fca7-40ea-978c-bceb910a2790",
   "metadata": {},
   "outputs": [],
   "source": [
    "plt.figure(figsize = [10,7])\n",
    "plt.plot(data.newbalanceOrig)\n",
    "plt.show()"
   ]
  },
  {
   "cell_type": "code",
   "execution_count": null,
   "id": "37cede91-0402-4a27-8cb9-9533b8f8150c",
   "metadata": {},
   "outputs": [],
   "source": [
    "data.nlargest(20, 'newbalanceOrig')"
   ]
  },
  {
   "cell_type": "code",
   "execution_count": null,
   "id": "63f8190f-2584-4b88-89d5-32b65ef33275",
   "metadata": {},
   "outputs": [],
   "source": [
    "plt.figure(figsize = [10,7])\n",
    "sb.barplot(x = data.nlargest(10, 'newbalanceOrig').client_id, y = data.nlargest(10, 'newbalanceOrig').newbalanceOrig)\n",
    "plt.xticks(rotation = 17.5)\n",
    "plt.title('the largest 10 balances after transaction')\n",
    "plt.xlabel('Client Id')\n",
    "plt.ylabel('The Balance')\n",
    "plt.show()"
   ]
  },
  {
   "cell_type": "code",
   "execution_count": null,
   "id": "c58d1b03-a095-46d7-a53a-c99141963135",
   "metadata": {},
   "outputs": [],
   "source": [
    "num_of_samples = 10 / data.shape[0]"
   ]
  },
  {
   "cell_type": "code",
   "execution_count": null,
   "id": "79d0841d-1f87-45f9-9c67-217838f54eb6",
   "metadata": {},
   "outputs": [],
   "source": [
    "data.shape[0]"
   ]
  },
  {
   "cell_type": "code",
   "execution_count": null,
   "id": "e9247d86-dbea-4cc2-88a2-004c0efc072f",
   "metadata": {},
   "outputs": [],
   "source": [
    "samp1 = data.sample(n = 600000)"
   ]
  },
  {
   "cell_type": "code",
   "execution_count": null,
   "id": "d0a58d71-c381-499a-9879-428917768d32",
   "metadata": {},
   "outputs": [],
   "source": [
    "samp1"
   ]
  },
  {
   "cell_type": "code",
   "execution_count": null,
   "id": "93d10f08-be5c-4705-8ea9-752889807b13",
   "metadata": {},
   "outputs": [],
   "source": [
    "# Generate some random data\n",
    "x = np.random.normal(0, 1, size=100)\n",
    "y = np.random.normal(0, 1, size=100)\n",
    "\n",
    "# Create a scatter plot with jitter\n",
    "plt.scatter(x=x, y=y, alpha=0.5, edgecolors='none', s=40, c='blue', linewidth=0.5, rasterized=True)\n",
    "plt.xlabel('X Axis')\n",
    "plt.ylabel('Y Axis')\n",
    "plt.title('Scatter plot with jitter')\n",
    "plt.show()"
   ]
  },
  {
   "cell_type": "code",
   "execution_count": null,
   "id": "07a7fd3b-6356-4a2f-82ad-9c8378cfd640",
   "metadata": {},
   "outputs": [],
   "source": [
    "data[['oldbalanceOrg', 'newbalanceOrig']].corr()"
   ]
  },
  {
   "cell_type": "code",
   "execution_count": null,
   "id": "56e1a415-2261-4432-be5d-1379e484dc78",
   "metadata": {},
   "outputs": [],
   "source": [
    "data['balance_diff'] = data.oldbalanceOrg - data.newbalanceOrig"
   ]
  },
  {
   "cell_type": "code",
   "execution_count": null,
   "id": "d837f26c-2699-40b9-a4d0-03c6382f9582",
   "metadata": {},
   "outputs": [],
   "source": [
    "data.balance_diff.describe()"
   ]
  },
  {
   "cell_type": "code",
   "execution_count": null,
   "id": "447d86b5-2b38-4f07-a51d-2f2ef5a0b72b",
   "metadata": {},
   "outputs": [],
   "source": [
    "plt.figure(figsize = [10,7])\n",
    "plt.hist(data.balance_diff, bins=50)\n",
    "plt.title('the  balance after transaction distribution')\n",
    "plt.show()"
   ]
  },
  {
   "cell_type": "code",
   "execution_count": null,
   "id": "a8b56c18-9784-4775-9454-09744a370d0b",
   "metadata": {},
   "outputs": [],
   "source": [
    "plt.figure(figsize=[10,7])\n",
    "plt.plot(data.balance_diff)\n",
    "plt.title('the balance rate of change')\n",
    "plt.show()"
   ]
  },
  {
   "cell_type": "code",
   "execution_count": null,
   "id": "5e21e9ee-b01b-4c0b-9442-2cb4c25858f0",
   "metadata": {},
   "outputs": [],
   "source": [
    "data.head()\n"
   ]
  },
  {
   "cell_type": "code",
   "execution_count": null,
   "id": "f608752e-dd6c-420b-956e-1d9a47397f60",
   "metadata": {},
   "outputs": [],
   "source": [
    "data.nameDest.describe()"
   ]
  },
  {
   "cell_type": "code",
   "execution_count": null,
   "id": "7635bc7b-f8e0-42f4-8128-b349b4600fd6",
   "metadata": {},
   "outputs": [],
   "source": [
    "data.nameDest.mode()"
   ]
  },
  {
   "cell_type": "code",
   "execution_count": null,
   "id": "4135b6a5-9e85-44ce-b7d5-03c05e6c236b",
   "metadata": {},
   "outputs": [],
   "source": [
    "# get top 10 most frequent client distination id\n",
    "n = 10\n",
    "data['nameDest'].value_counts()[:n]"
   ]
  },
  {
   "cell_type": "code",
   "execution_count": null,
   "id": "28ed2d35-273e-452a-a900-9eaa7fa055da",
   "metadata": {},
   "outputs": [],
   "source": [
    "plt.figure(figsize = [10, 7])\n",
    "sb.barplot(x = data['nameDest'].value_counts()[:n].index, y = data['nameDest'].value_counts()[:n].values)\n",
    "plt.xticks(rotation = 20)\n",
    "plt.title('the most 10 frequent distination clients')\n",
    "plt.show()"
   ]
  },
  {
   "cell_type": "code",
   "execution_count": null,
   "id": "a8243413-4632-4fec-aef6-61821b54a335",
   "metadata": {},
   "outputs": [],
   "source": [
    "data[data.nameDest == 'C1286084959']"
   ]
  },
  {
   "cell_type": "code",
   "execution_count": null,
   "id": "f080f95e-d138-4c44-b20c-c3671e179d1e",
   "metadata": {},
   "outputs": [],
   "source": [
    "totti = data[data.nameDest == 'C1286084959']\n",
    "totti.describe()"
   ]
  },
  {
   "cell_type": "code",
   "execution_count": null,
   "id": "1b746707-b77c-428a-b2fd-3bdcd6caaa85",
   "metadata": {},
   "outputs": [],
   "source": [
    "totti[totti.newbalanceDest == totti.newbalanceDest.max()]"
   ]
  },
  {
   "cell_type": "code",
   "execution_count": null,
   "id": "622f7322-30a8-4c7e-b518-4ec8cd3b6cf5",
   "metadata": {},
   "outputs": [],
   "source": [
    "totti[(totti.isFraud == 1) | (totti.isFlaggedFraud == 1)]"
   ]
  },
  {
   "cell_type": "code",
   "execution_count": null,
   "id": "73c3f957-fdc1-4724-b210-83377dd5ee12",
   "metadata": {},
   "outputs": [],
   "source": [
    "data[data.isFraud == 1]"
   ]
  },
  {
   "cell_type": "code",
   "execution_count": null,
   "id": "2c3ea464-10af-48b5-ae19-753501804480",
   "metadata": {},
   "outputs": [],
   "source": [
    "data[data.isFlaggedFraud == 1]"
   ]
  },
  {
   "cell_type": "code",
   "execution_count": null,
   "id": "4b8babd3-601e-492e-8b6c-a82bdf88b752",
   "metadata": {},
   "outputs": [],
   "source": [
    "# get top 10 most frequent fraud distination clients\n",
    "x = data[data.isFraud == 1]\n",
    "n = 10\n",
    "Ramos = x['nameDest'].value_counts()[:n]\n",
    "Ramos"
   ]
  },
  {
   "cell_type": "code",
   "execution_count": null,
   "id": "be3dea0f-dc68-4253-9120-994d161532c9",
   "metadata": {},
   "outputs": [],
   "source": [
    "for i in Ramos.index:\n",
    "    if i in data['nameDest'].value_counts()[:n].index:\n",
    "        print(i)"
   ]
  },
  {
   "cell_type": "code",
   "execution_count": null,
   "id": "53477ddb-304b-4774-b984-b6cec4f09339",
   "metadata": {},
   "outputs": [],
   "source": [
    "data.nameDest = data.nameDest.replace('C','')\n",
    "data.nameDest = data.nameDest.replace('M','')\n",
    "data.rename(columns = {'nameDest' : 'distination_client_id'}, inplace = True)"
   ]
  },
  {
   "cell_type": "code",
   "execution_count": null,
   "id": "c95a731a-0c90-47bc-bd7c-83fdc666b73c",
   "metadata": {},
   "outputs": [],
   "source": [
    "data.isFraud.value_counts()"
   ]
  },
  {
   "cell_type": "code",
   "execution_count": null,
   "id": "eb984da0-b2dc-4120-8761-548cd8110c3b",
   "metadata": {},
   "outputs": [],
   "source": [
    "plt.pie(data.isFraud.value_counts(),\n",
    "        autopct='%1.1f%%', pctdistance=0.85)\n",
    "centre_circle = plt.Circle((0, 0), 0.70, fc='white')\n",
    "fig = plt.gcf()\n",
    "fig.gca().add_artist(centre_circle)\n",
    "plt.show()"
   ]
  },
  {
   "cell_type": "code",
   "execution_count": null,
   "id": "cf145339-36e4-403a-8e7b-7f38a9e2cfae",
   "metadata": {},
   "outputs": [],
   "source": [
    "# class count\n",
    "class_count_0, class_count_1 = data['isFraud'].value_counts()\n",
    "\n",
    "# Separate class\n",
    "class_0 = data[data['isFraud'] == 0]\n",
    "class_1 = data[data['isFraud'] == 1]# print the shape of the class\n",
    "print('class 0:', class_0.shape)\n",
    "print('class 1:', class_1.shape)"
   ]
  },
  {
   "cell_type": "code",
   "execution_count": null,
   "id": "0a596008-73ab-451c-93c8-b335486876fb",
   "metadata": {},
   "outputs": [],
   "source": [
    "class_0_under = class_0.sample(class_count_1)\n",
    "\n",
    "balancing_data = pd.concat([class_0_under, class_1], axis=0)\n",
    "\n",
    "print(\"total class of 1 and0:\",balancing_data['isFraud'].value_counts())# plot the count after under-sampeling\n",
    "balancing_data['isFraud'].value_counts().plot(kind='bar', title='count (target)')"
   ]
  },
  {
   "cell_type": "code",
   "execution_count": null,
   "id": "a7d600b0-f67f-41d2-b59a-8803293727e3",
   "metadata": {},
   "outputs": [],
   "source": [
    "balancing_data"
   ]
  },
  {
   "cell_type": "code",
   "execution_count": null,
   "id": "f6733b1c-8bf0-43cc-b78f-f6939a9f7747",
   "metadata": {},
   "outputs": [],
   "source": [
    "balancing_data.info()"
   ]
  },
  {
   "cell_type": "code",
   "execution_count": null,
   "id": "49e2356a-fbfb-4398-9b3f-2722f6152014",
   "metadata": {},
   "outputs": [],
   "source": [
    "balancing_data.type.unique()"
   ]
  },
  {
   "cell_type": "code",
   "execution_count": null,
   "id": "73321287-ac98-4d1f-8b67-e9e742fc8f02",
   "metadata": {},
   "outputs": [],
   "source": [
    "balancing_data[\"type\"] = balancing_data[\"type\"].map({\"CASH_OUT\": 1, \"PAYMENT\": 2, \"CASH_IN\": 3, \"TRANSFER\": 4, \"DEBIT\": 5})"
   ]
  },
  {
   "cell_type": "code",
   "execution_count": null,
   "id": "e5f0688d-ffa8-42a9-a084-6be4ecfc7084",
   "metadata": {},
   "outputs": [],
   "source": [
    "balancing_data.type.dtype"
   ]
  },
  {
   "cell_type": "code",
   "execution_count": null,
   "id": "634bf20b-9f67-4f0a-9c36-6ea97490d39a",
   "metadata": {},
   "outputs": [],
   "source": [
    "balancing_data.columns"
   ]
  },
  {
   "cell_type": "code",
   "execution_count": null,
   "id": "5ada99ef-7447-4e0a-9b8d-8f51703ded02",
   "metadata": {},
   "outputs": [],
   "source": [
    "X = balancing_data[['type', 'amount', 'oldbalanceOrg', 'newbalanceOrig', 'balance_diff']].values\n",
    "y = balancing_data.loc[:,'isFraud'].values"
   ]
  },
  {
   "cell_type": "code",
   "execution_count": null,
   "id": "02bf62db-fdf0-454a-96fa-19432d134312",
   "metadata": {},
   "outputs": [],
   "source": [
    "x"
   ]
  },
  {
   "cell_type": "code",
   "execution_count": null,
   "id": "4c0c7756-0fad-451e-aa60-bf4e3dc6aad1",
   "metadata": {},
   "outputs": [],
   "source": [
    "y"
   ]
  },
  {
   "cell_type": "code",
   "execution_count": null,
   "id": "37e526c2-176a-4f8e-9906-761b5f1845d2",
   "metadata": {},
   "outputs": [],
   "source": [
    "from sklearn.model_selection import train_test_split\n",
    "X_train, X_test, y_train, y_test = train_test_split(X, y, test_size=0.2, random_state=0)"
   ]
  },
  {
   "cell_type": "code",
   "execution_count": null,
   "id": "7eb05f83-94c3-45ba-861b-d176e142f26a",
   "metadata": {},
   "outputs": [],
   "source": [
    "X_train.shape,X_test.shape"
   ]
  },
  {
   "cell_type": "code",
   "execution_count": null,
   "id": "1555cd1e-d458-4bc3-b4ef-0f461c5bb2e2",
   "metadata": {},
   "outputs": [],
   "source": [
    "from sklearn.preprocessing import StandardScaler\n",
    "scaler= StandardScaler()\n",
    "scaler.fit(X_train)\n",
    "print(scaler.mean_)\n",
    "X_train = scaler.transform(X_train)\n",
    "X_test = scaler.transform(X_test)"
   ]
  },
  {
   "cell_type": "code",
   "execution_count": null,
   "id": "eaf11749-95ec-4f80-a114-2fd066b54672",
   "metadata": {},
   "outputs": [],
   "source": [
    "from sklearn import preprocessing\n",
    "from sklearn import utils\n",
    "\n",
    "#convert y values to categorical values\n",
    "lab = preprocessing.LabelEncoder()\n",
    "y_train = lab.fit_transform(y_train)\n",
    "y_test = lab.fit_transform(y_test)"
   ]
  },
  {
   "cell_type": "code",
   "execution_count": null,
   "id": "14ba289c-acec-40fc-9b5d-820778f951d8",
   "metadata": {},
   "outputs": [],
   "source": [
    "from sklearn.linear_model import LogisticRegression\n",
    "from sklearn.neighbors import KNeighborsClassifier\n",
    "from sklearn.svm import SVC\n",
    "from sklearn.naive_bayes import GaussianNB\n",
    "from sklearn.tree import DecisionTreeClassifier\n",
    "from sklearn.ensemble import RandomForestClassifier\n",
    "from xgboost import XGBClassifier\n",
    "from sklearn.metrics import confusion_matrix, accuracy_score, precision_score, recall_score, f1_score, fbeta_score"
   ]
  },
  {
   "cell_type": "code",
   "execution_count": null,
   "id": "b6c84f3f-0509-4f21-aba4-366e98f6e25e",
   "metadata": {},
   "outputs": [],
   "source": [
    "models = {\n",
    "    \"LR\": LogisticRegression(),\n",
    "    \"KNN\": KNeighborsClassifier(),\n",
    "    \"DT\": DecisionTreeClassifier(),\n",
    "    \"RF\": RandomForestClassifier(),\n",
    "    \"XGB\": XGBClassifier(),\n",
    "    \"Naive Bayes\": GaussianNB(),\n",
    "    \"SVC\": SVC()\n",
    "\n",
    "}"
   ]
  },
  {
   "cell_type": "code",
   "execution_count": null,
   "id": "d28097e3-f69a-42a3-acbf-8fa6e51200ad",
   "metadata": {},
   "outputs": [],
   "source": [
    "for name, model in models.items():\n",
    "    print(f'Training Model {name} \\n--------------')\n",
    "    model.fit(X_train, y_train)\n",
    "    y_pred = model.predict(X_test)\n",
    "    print(f'Training Accuracy: {accuracy_score(y_train, model.predict(X_train))}')\n",
    "    print(f'Testing Accuracy: {accuracy_score(y_test, y_pred)}')\n",
    "    print(f'Testing Confusion Matrix: \\n{confusion_matrix(y_test, y_pred)}')\n",
    "    print(\"Recall Score : \",recall_score(y_test, y_pred, pos_label='positive', average='micro'))    \n",
    "    print(\"Precision Score : \",precision_score(y_test, y_pred,  pos_label='positive',average='micro'))     \n",
    "    print(f\"Testing F-1:\", f1_score(y_test, y_pred, pos_label='positive', average='micro' )        )\n",
    "    print(f\"Testing F-Beta:\", fbeta_score(y_test, y_pred, beta=0.5, pos_label='positive', average='micro'))\n",
    "    print('-'*30)"
   ]
  },
  {
   "cell_type": "code",
   "execution_count": null,
   "id": "ab75c0fc-bec1-4559-8702-b8fd9226a2eb",
   "metadata": {},
   "outputs": [],
   "source": [
    "model = XGBClassifier()\n",
    "model.fit(X_train, y_train)\n",
    "print(model)"
   ]
  },
  {
   "cell_type": "code",
   "execution_count": null,
   "id": "55bab18b-4b8e-440e-8aca-95bc053538c3",
   "metadata": {},
   "outputs": [],
   "source": [
    "# make predictions for test data\n",
    "y_pred = model.predict(X_test)\n",
    "predictions = [round(value) for value in y_pred]"
   ]
  },
  {
   "cell_type": "code",
   "execution_count": null,
   "id": "cc720242-f8b9-4265-8eb9-ebd211304eb0",
   "metadata": {},
   "outputs": [],
   "source": [
    "# evaluate predictions\n",
    "accuracy = accuracy_score(y_test, predictions)\n",
    "print(\"Accuracy: %.2f%%\" % (accuracy * 100.0))"
   ]
  },
  {
   "cell_type": "code",
   "execution_count": null,
   "id": "3312e396-ab60-4a44-bd52-c8f1b6dd9176",
   "metadata": {},
   "outputs": [],
   "source": [
    "rounded_y = np.round(y_pred)\n",
    "unique_val = pd.DataFrame(y_test)\n",
    "unique_val[0].unique()"
   ]
  },
  {
   "cell_type": "code",
   "execution_count": null,
   "id": "24c20134-a88b-4240-a3cb-ca7fe9e2aa57",
   "metadata": {},
   "outputs": [],
   "source": [
    "from sklearn.metrics import multilabel_confusion_matrix\n",
    "y_unique = unique_val[0].unique()\n",
    "mcm = multilabel_confusion_matrix(y_test, y_pred, labels = y_unique)\n",
    "mcm"
   ]
  },
  {
   "cell_type": "code",
   "execution_count": null,
   "id": "b91a15a6-5f87-4d4d-b63c-c5a9ad4151fb",
   "metadata": {},
   "outputs": [],
   "source": [
    "data.head()"
   ]
  },
  {
   "cell_type": "code",
   "execution_count": null,
   "id": "d4f9bec1-b0f6-47f5-883e-5770c0294301",
   "metadata": {},
   "outputs": [],
   "source": [
    "if  model.predict([[2,9839.64,170136.0,160296.36,9839.64]])[0] == 0:\n",
    "    print('not Fraud')\n",
    "else: print('is Fraud')"
   ]
  },
  {
   "cell_type": "code",
   "execution_count": null,
   "id": "23d5f961-36a6-4738-93fb-d0d26a1b5970",
   "metadata": {},
   "outputs": [],
   "source": []
  }
 ],
 "metadata": {
  "kernelspec": {
   "display_name": "Python 3 (ipykernel)",
   "language": "python",
   "name": "python3"
  },
  "language_info": {
   "codemirror_mode": {
    "name": "ipython",
    "version": 3
   },
   "file_extension": ".py",
   "mimetype": "text/x-python",
   "name": "python",
   "nbconvert_exporter": "python",
   "pygments_lexer": "ipython3",
   "version": "3.8.16"
  }
 },
 "nbformat": 4,
 "nbformat_minor": 5
}
