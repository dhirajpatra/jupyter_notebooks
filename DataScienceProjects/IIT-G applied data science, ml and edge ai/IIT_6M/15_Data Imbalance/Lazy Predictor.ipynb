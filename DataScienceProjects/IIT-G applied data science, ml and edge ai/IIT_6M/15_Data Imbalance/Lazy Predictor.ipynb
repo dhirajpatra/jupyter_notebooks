{
 "cells": [
  {
   "cell_type": "code",
   "execution_count": null,
   "id": "2f16f574",
   "metadata": {},
   "outputs": [],
   "source": [
    "!pip install lazypredict"
   ]
  },
  {
   "cell_type": "markdown",
   "id": "b77f8a7d",
   "metadata": {},
   "source": [
    "### Classification"
   ]
  },
  {
   "cell_type": "code",
   "execution_count": null,
   "id": "1d2fdf50",
   "metadata": {},
   "outputs": [],
   "source": [
    "### To use lazypredict in your problem statement.\n",
    "import lazypredict"
   ]
  },
  {
   "cell_type": "code",
   "execution_count": null,
   "id": "cf9f94b7",
   "metadata": {},
   "outputs": [],
   "source": [
    "### importing lazypredict library\n",
    "import lazypredict\n",
    "### importing LazyClassifier for classification problem\n",
    "from lazypredict.Supervised import LazyClassifier\n",
    "### importing LazyClassifier for classification problem because here we are solving Classification use case.\n",
    "from lazypredict.Supervised import LazyClassifier\n",
    "### importing breast Cancer Dataset from sklearn\n",
    "from sklearn.datasets import load_breast_cancer\n",
    "### spliting dataset into training and testing part\n",
    "from sklearn.model_selection import train_test_split"
   ]
  },
  {
   "cell_type": "code",
   "execution_count": null,
   "id": "7f948381",
   "metadata": {},
   "outputs": [],
   "source": [
    "### storing dataset in data variable\n",
    "data = load_breast_cancer()"
   ]
  },
  {
   "cell_type": "code",
   "execution_count": null,
   "id": "8526a40b",
   "metadata": {},
   "outputs": [],
   "source": [
    "data"
   ]
  },
  {
   "cell_type": "code",
   "execution_count": null,
   "id": "18154b8c",
   "metadata": {},
   "outputs": [],
   "source": [
    "### separating dataset into dependent and independent features\n",
    "X = data.data\n",
    "y = data.target"
   ]
  },
  {
   "cell_type": "code",
   "execution_count": null,
   "id": "c64104df",
   "metadata": {},
   "outputs": [],
   "source": [
    "\n",
    "X"
   ]
  },
  {
   "cell_type": "code",
   "execution_count": null,
   "id": "e8b168bd",
   "metadata": {},
   "outputs": [],
   "source": [
    "\n",
    "y"
   ]
  },
  {
   "cell_type": "code",
   "execution_count": null,
   "id": "b7c4fe43",
   "metadata": {},
   "outputs": [],
   "source": [
    "\n",
    "### splitting dataset into training and testing part(50% training and 50% testing)\n",
    "X_train, X_test, y_train, y_test = train_test_split(X, y, test_size=.5, random_state =123)"
   ]
  },
  {
   "cell_type": "code",
   "execution_count": null,
   "id": "f5d186af",
   "metadata": {},
   "outputs": [],
   "source": [
    "clf = LazyClassifier(verbose=0, ignore_warnings=True, custom_metric = None)"
   ]
  },
  {
   "cell_type": "code",
   "execution_count": null,
   "id": "b5783d68",
   "metadata": {},
   "outputs": [],
   "source": [
    "\n",
    "### fitting data in LazyClassifier\n",
    "models,predictions = clf.fit(X_train, X_test, y_train, y_test)\n",
    "### lets check which model did better on Breast Cancer Dataset\n",
    "print(models)"
   ]
  },
  {
   "cell_type": "code",
   "execution_count": null,
   "id": "39d2a59d",
   "metadata": {},
   "outputs": [],
   "source": [
    "models"
   ]
  },
  {
   "cell_type": "markdown",
   "id": "e2287e91",
   "metadata": {},
   "source": [
    "### Regression"
   ]
  },
  {
   "cell_type": "code",
   "execution_count": null,
   "id": "53efe30c",
   "metadata": {},
   "outputs": [],
   "source": [
    "### Importing LazyRegressor\n",
    "from lazypredict.Supervised import LazyRegressor\n",
    "### Importing dataset available in sklearn\n",
    "from sklearn import datasets\n",
    "from sklearn.utils import shuffle\n",
    "import numpy as np"
   ]
  },
  {
   "cell_type": "code",
   "execution_count": null,
   "id": "56e63a38",
   "metadata": {},
   "outputs": [],
   "source": [
    "\n",
    "### storing the Boston dataset in variable\n",
    "boston = datasets.load_boston()"
   ]
  },
  {
   "cell_type": "code",
   "execution_count": null,
   "id": "0e30d817",
   "metadata": {},
   "outputs": [],
   "source": [
    "\n",
    "### loading and shuffling the dataset\n",
    "X, y = shuffle(boston.data, boston.target, random_state=13)\n",
    "offset = int(X.shape[0] * 0.9)"
   ]
  },
  {
   "cell_type": "code",
   "execution_count": null,
   "id": "cbe46b71",
   "metadata": {},
   "outputs": [],
   "source": [
    "\n",
    "### splitting dataset into training and testing part.\n",
    "X_train, y_train = X[:offset], y[:offset]\n",
    "X_test, y_test = X[offset:], y[offset:]"
   ]
  },
  {
   "cell_type": "code",
   "execution_count": null,
   "id": "19a2d09d",
   "metadata": {},
   "outputs": [],
   "source": [
    "\n",
    "### fitting data in LazyRegressor because here we are solving Regression use case. \n",
    "reg = LazyRegressor(verbose=0, ignore_warnings=False, custom_metric=None)"
   ]
  },
  {
   "cell_type": "code",
   "execution_count": null,
   "id": "4f408925",
   "metadata": {},
   "outputs": [],
   "source": [
    "### fitting data in LazyClassifier\n",
    "models, predictions = reg.fit(X_train, X_test, y_train, y_test)\n",
    "### lets check which model did better on Breast Cancer Dataset\n",
    "print(models)"
   ]
  },
  {
   "cell_type": "raw",
   "id": "9551849a",
   "metadata": {},
   "source": [
    "from sklearn.ensemble import RandomForestClassifier\n",
    "from sklearn.model_selection import GridSearchCV\n",
    "\n",
    "rf_param_grid = {\n",
    "    'n_estimators': [50, 100, 200],\n",
    "    'max_depth': [10, 20, None],\n",
    "    'min_samples_split': [2, 5, 10],\n",
    "    'min_samples_leaf': [1, 2, 4],\n",
    "    'max_features': ['sqrt', 'log2', None]\n",
    "}\n",
    "\n",
    "model = LazyClassifier(\n",
    "    custom_metric=None,\n",
    "    classifiers=[RandomForestClassifier],\n",
    "    extra_params={\n",
    "        'RandomForestClassifier': {\n",
    "            'grid_search': True,\n",
    "            'param_grid': rf_param_grid\n",
    "        }\n",
    "    }\n",
    ")\n"
   ]
  },
  {
   "cell_type": "raw",
   "id": "571f550f",
   "metadata": {},
   "source": [
    "import pandas as pd\n",
    "from sklearn.ensemble import RandomForestClassifier, GradientBoostingClassifier\n",
    "from sklearn.linear_model import LogisticRegression\n",
    "from sklearn.model_selection import GridSearchCV\n",
    "from lazypredict.Supervised import LazyClassifier\n",
    "\n",
    "# Load your dataset\n",
    "data = pd.read_csv('data.csv')\n",
    "\n",
    "# Split your dataset into training and testing sets\n",
    "X_train, X_test, y_train, y_test = train_test_split(data.drop(['target'], axis=1), \n",
    "                                                    data['target'], \n",
    "                                                    test_size=0.3, \n",
    "                                                    random_state=42)\n",
    "\n",
    "# Define the hyperparameter search space for each model\n",
    "rf_param_grid = {\n",
    "    'n_estimators': [50, 100, 200],\n",
    "    'max_depth': [10, 20, None],\n",
    "    'min_samples_split': [2, 5, 10],\n",
    "    'min_samples_leaf': [1, 2, 4],\n",
    "    'max_features': ['sqrt', 'log2', None]\n",
    "}\n",
    "\n",
    "gb_param_grid = {\n",
    "    'n_estimators': [50, 100, 200],\n",
    "    'max_depth': [3, 5, None],\n",
    "    'min_samples_split': [2, 5, 10],\n",
    "    'min_samples_leaf': [1, 2, 4],\n",
    "    'max_features': ['sqrt', 'log2', None]\n",
    "}\n",
    "\n",
    "lr_param_grid = {\n",
    "    'C': [0.001, 0.01, 0.1, 1, 10, 100],\n",
    "    'penalty': ['l1', 'l2']\n",
    "}\n",
    "\n",
    "# Create a dictionary of models and their corresponding hyperparameter search space\n",
    "model_dict = {\n",
    "    RandomForestClassifier: {'grid_search': True, 'param_grid': rf_param_grid},\n",
    "    GradientBoostingClassifier: {'grid_search': True, 'param_grid': gb_param_grid},\n",
    "    LogisticRegression: {'grid_search': True, 'param_grid': lr_param_grid}\n",
    "}\n",
    "\n",
    "# Initialize Lazy Classifier with the models and their hyperparameter search spaces\n",
    "model = LazyClassifier(custom_metric=None, classifiers=model_dict)\n",
    "\n",
    "# Train and evaluate the models\n",
    "models, predictions = model.fit(X_train, X_test, y_train, y_test)\n",
    "\n",
    "# Print the model performance metrics\n",
    "print(models)\n"
   ]
  },
  {
   "cell_type": "code",
   "execution_count": null,
   "id": "d9469476",
   "metadata": {},
   "outputs": [],
   "source": []
  }
 ],
 "metadata": {
  "kernelspec": {
   "display_name": "Python 3 (ipykernel)",
   "language": "python",
   "name": "python3"
  },
  "language_info": {
   "codemirror_mode": {
    "name": "ipython",
    "version": 3
   },
   "file_extension": ".py",
   "mimetype": "text/x-python",
   "name": "python",
   "nbconvert_exporter": "python",
   "pygments_lexer": "ipython3",
   "version": "3.9.12"
  }
 },
 "nbformat": 4,
 "nbformat_minor": 5
}
