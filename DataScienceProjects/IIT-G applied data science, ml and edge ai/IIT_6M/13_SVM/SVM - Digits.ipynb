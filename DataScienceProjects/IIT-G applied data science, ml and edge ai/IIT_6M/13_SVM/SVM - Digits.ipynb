{
 "cells": [
  {
   "cell_type": "code",
   "execution_count": null,
   "id": "b0a52b30",
   "metadata": {},
   "outputs": [],
   "source": []
  },
  {
   "cell_type": "code",
   "execution_count": null,
   "id": "38110c6c",
   "metadata": {},
   "outputs": [],
   "source": [
    "# SVM tutorial on Kaggle\n",
    "# https://www.kaggle.com/code/prashant111/svm-classifier-tutorial"
   ]
  },
  {
   "cell_type": "code",
   "execution_count": null,
   "id": "e746efb4",
   "metadata": {},
   "outputs": [],
   "source": [
    "import pandas as pd\n",
    "from sklearn.datasets import load_digits\n",
    "digits = load_digits()"
   ]
  },
  {
   "cell_type": "code",
   "execution_count": null,
   "id": "7ce77af5",
   "metadata": {},
   "outputs": [],
   "source": [
    "digits.target"
   ]
  },
  {
   "cell_type": "code",
   "execution_count": null,
   "id": "2426e968",
   "metadata": {},
   "outputs": [],
   "source": [
    "dir(digits)"
   ]
  },
  {
   "cell_type": "code",
   "execution_count": null,
   "id": "e6628357",
   "metadata": {},
   "outputs": [],
   "source": [
    "digits.target_names"
   ]
  },
  {
   "cell_type": "code",
   "execution_count": null,
   "id": "732a6431",
   "metadata": {},
   "outputs": [],
   "source": [
    "df = pd.DataFrame(digits.data,digits.target)\n",
    "df.head()"
   ]
  },
  {
   "cell_type": "code",
   "execution_count": null,
   "id": "deeafbaa",
   "metadata": {},
   "outputs": [],
   "source": [
    "df['target'] = digits.target\n",
    "df.head(20)"
   ]
  },
  {
   "cell_type": "code",
   "execution_count": null,
   "id": "07707c3e",
   "metadata": {},
   "outputs": [],
   "source": [
    "from sklearn.model_selection import train_test_split\n",
    "X_train, X_test, y_train, y_test = train_test_split(df.drop('target',axis='columns'), df.target, test_size=0.3)"
   ]
  },
  {
   "cell_type": "markdown",
   "id": "45aeaecc",
   "metadata": {},
   "source": [
    "### Using RBF kernel"
   ]
  },
  {
   "cell_type": "code",
   "execution_count": null,
   "id": "8cf1296c",
   "metadata": {},
   "outputs": [],
   "source": [
    "from sklearn.svm import SVC\n",
    "rbf_model = SVC(kernel='rbf')"
   ]
  },
  {
   "cell_type": "code",
   "execution_count": null,
   "id": "ef99d670",
   "metadata": {},
   "outputs": [],
   "source": [
    "len(X_train)"
   ]
  },
  {
   "cell_type": "code",
   "execution_count": null,
   "id": "374ba397",
   "metadata": {},
   "outputs": [],
   "source": [
    "len(X_test)"
   ]
  },
  {
   "cell_type": "code",
   "execution_count": null,
   "id": "7a2560cc",
   "metadata": {},
   "outputs": [],
   "source": [
    "rbf_model.fit(X_train, y_train)"
   ]
  },
  {
   "cell_type": "code",
   "execution_count": null,
   "id": "6e5aee84",
   "metadata": {},
   "outputs": [],
   "source": [
    "rbf_model.score(X_test,y_test)"
   ]
  },
  {
   "cell_type": "markdown",
   "id": "8917fc68",
   "metadata": {},
   "source": [
    "### Using Linear kernel"
   ]
  },
  {
   "cell_type": "code",
   "execution_count": null,
   "id": "e1a56eb9",
   "metadata": {},
   "outputs": [],
   "source": [
    "linear_model = SVC(kernel='linear')\n",
    "linear_model.fit(X_train,y_train)"
   ]
  },
  {
   "cell_type": "code",
   "execution_count": null,
   "id": "00345df1",
   "metadata": {},
   "outputs": [],
   "source": [
    "linear_model.score(X_test,y_test)"
   ]
  },
  {
   "cell_type": "code",
   "execution_count": null,
   "id": "1448aaa1",
   "metadata": {},
   "outputs": [],
   "source": []
  }
 ],
 "metadata": {
  "kernelspec": {
   "display_name": "Python 3 (ipykernel)",
   "language": "python",
   "name": "python3"
  },
  "language_info": {
   "codemirror_mode": {
    "name": "ipython",
    "version": 3
   },
   "file_extension": ".py",
   "mimetype": "text/x-python",
   "name": "python",
   "nbconvert_exporter": "python",
   "pygments_lexer": "ipython3",
   "version": "3.9.12"
  }
 },
 "nbformat": 4,
 "nbformat_minor": 5
}
