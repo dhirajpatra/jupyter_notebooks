{
 "cells": [
  {
   "cell_type": "markdown",
   "id": "34cc90d8",
   "metadata": {},
   "source": [
    "### R\n",
    "v 4.2<br>"
   ]
  },
  {
   "cell_type": "code",
   "execution_count": 133,
   "id": "adc42eeb",
   "metadata": {},
   "outputs": [
    {
     "data": {
      "text/html": [
       "<style>\n",
       ".list-inline {list-style: none; margin:0; padding: 0}\n",
       ".list-inline>li {display: inline-block}\n",
       ".list-inline>li:not(:last-child)::after {content: \"\\00b7\"; padding: 0 .5ex}\n",
       "</style>\n",
       "<ol class=list-inline><li>10.4</li><li>5.6</li><li>3.1</li><li>6.4</li><li>21.7</li></ol>\n"
      ],
      "text/latex": [
       "\\begin{enumerate*}\n",
       "\\item 10.4\n",
       "\\item 5.6\n",
       "\\item 3.1\n",
       "\\item 6.4\n",
       "\\item 21.7\n",
       "\\end{enumerate*}\n"
      ],
      "text/markdown": [
       "1. 10.4\n",
       "2. 5.6\n",
       "3. 3.1\n",
       "4. 6.4\n",
       "5. 21.7\n",
       "\n",
       "\n"
      ],
      "text/plain": [
       "[1] 10.4  5.6  3.1  6.4 21.7"
      ]
     },
     "metadata": {},
     "output_type": "display_data"
    }
   ],
   "source": [
    "x <- c(10.4, 5.6, 3.1, 6.4, 21.7)\n",
    "x"
   ]
  },
  {
   "cell_type": "code",
   "execution_count": 134,
   "id": "f12e466e",
   "metadata": {},
   "outputs": [
    {
     "data": {
      "text/html": [
       "<style>\n",
       ".list-inline {list-style: none; margin:0; padding: 0}\n",
       ".list-inline>li {display: inline-block}\n",
       ".list-inline>li:not(:last-child)::after {content: \"\\00b7\"; padding: 0 .5ex}\n",
       "</style>\n",
       "<ol class=list-inline><li>20.8</li><li>11.2</li><li>6.2</li><li>12.8</li><li>43.4</li></ol>\n"
      ],
      "text/latex": [
       "\\begin{enumerate*}\n",
       "\\item 20.8\n",
       "\\item 11.2\n",
       "\\item 6.2\n",
       "\\item 12.8\n",
       "\\item 43.4\n",
       "\\end{enumerate*}\n"
      ],
      "text/markdown": [
       "1. 20.8\n",
       "2. 11.2\n",
       "3. 6.2\n",
       "4. 12.8\n",
       "5. 43.4\n",
       "\n",
       "\n"
      ],
      "text/plain": [
       "[1] 20.8 11.2  6.2 12.8 43.4"
      ]
     },
     "metadata": {},
     "output_type": "display_data"
    }
   ],
   "source": [
    "y <- c(20.8, 11.2, 6.2, 12.8, 43.4)\n",
    "y"
   ]
  },
  {
   "cell_type": "code",
   "execution_count": 135,
   "id": "1a1ff055",
   "metadata": {},
   "outputs": [
    {
     "data": {
      "text/html": [
       "<style>\n",
       ".list-inline {list-style: none; margin:0; padding: 0}\n",
       ".list-inline>li {display: inline-block}\n",
       ".list-inline>li:not(:last-child)::after {content: \"\\00b7\"; padding: 0 .5ex}\n",
       "</style>\n",
       "<ol class=list-inline><li>42.6</li><li>23.4</li><li>13.4</li><li>26.6</li><li>87.8</li></ol>\n"
      ],
      "text/latex": [
       "\\begin{enumerate*}\n",
       "\\item 42.6\n",
       "\\item 23.4\n",
       "\\item 13.4\n",
       "\\item 26.6\n",
       "\\item 87.8\n",
       "\\end{enumerate*}\n"
      ],
      "text/markdown": [
       "1. 42.6\n",
       "2. 23.4\n",
       "3. 13.4\n",
       "4. 26.6\n",
       "5. 87.8\n",
       "\n",
       "\n"
      ],
      "text/plain": [
       "[1] 42.6 23.4 13.4 26.6 87.8"
      ]
     },
     "metadata": {},
     "output_type": "display_data"
    }
   ],
   "source": [
    "v <- 2*x + y +1 \n",
    "v"
   ]
  },
  {
   "cell_type": "code",
   "execution_count": 136,
   "id": "58aed6de",
   "metadata": {},
   "outputs": [
    {
     "data": {
      "text/html": [
       "53.853"
      ],
      "text/latex": [
       "53.853"
      ],
      "text/markdown": [
       "53.853"
      ],
      "text/plain": [
       "[1] 53.853"
      ]
     },
     "metadata": {},
     "output_type": "display_data"
    }
   ],
   "source": [
    "sum((x - mean(x))^2)/(length(x) - 1)"
   ]
  },
  {
   "cell_type": "code",
   "execution_count": 137,
   "id": "640878ed",
   "metadata": {},
   "outputs": [
    {
     "data": {
      "text/html": [
       "5"
      ],
      "text/latex": [
       "5"
      ],
      "text/markdown": [
       "5"
      ],
      "text/plain": [
       "[1] 5"
      ]
     },
     "metadata": {},
     "output_type": "display_data"
    }
   ],
   "source": [
    "length(x)"
   ]
  },
  {
   "cell_type": "code",
   "execution_count": 138,
   "id": "dff87709",
   "metadata": {},
   "outputs": [
    {
     "data": {
      "text/html": [
       "21.7"
      ],
      "text/latex": [
       "21.7"
      ],
      "text/markdown": [
       "21.7"
      ],
      "text/plain": [
       "[1] 21.7"
      ]
     },
     "metadata": {},
     "output_type": "display_data"
    }
   ],
   "source": [
    "max(x)"
   ]
  },
  {
   "cell_type": "code",
   "execution_count": 139,
   "id": "ece4692a",
   "metadata": {},
   "outputs": [
    {
     "data": {
      "text/html": [
       "3.1"
      ],
      "text/latex": [
       "3.1"
      ],
      "text/markdown": [
       "3.1"
      ],
      "text/plain": [
       "[1] 3.1"
      ]
     },
     "metadata": {},
     "output_type": "display_data"
    }
   ],
   "source": [
    "min(x)"
   ]
  },
  {
   "cell_type": "code",
   "execution_count": 140,
   "id": "c5c78f3b",
   "metadata": {},
   "outputs": [
    {
     "data": {
      "text/html": [
       "53.853"
      ],
      "text/latex": [
       "53.853"
      ],
      "text/markdown": [
       "53.853"
      ],
      "text/plain": [
       "[1] 53.853"
      ]
     },
     "metadata": {},
     "output_type": "display_data"
    }
   ],
   "source": [
    "var(x)"
   ]
  },
  {
   "cell_type": "code",
   "execution_count": 141,
   "id": "b8224a5e",
   "metadata": {},
   "outputs": [
    {
     "data": {
      "text/html": [
       "7.3384603289791"
      ],
      "text/latex": [
       "7.3384603289791"
      ],
      "text/markdown": [
       "7.3384603289791"
      ],
      "text/plain": [
       "[1] 7.33846"
      ]
     },
     "metadata": {},
     "output_type": "display_data"
    }
   ],
   "source": [
    "sd(x)"
   ]
  },
  {
   "cell_type": "code",
   "execution_count": 142,
   "id": "138085cf",
   "metadata": {},
   "outputs": [
    {
     "name": "stderr",
     "output_type": "stream",
     "text": [
      "Warning message in sqrt(-17):\n",
      "“NaNs produced”\n"
     ]
    },
    {
     "data": {
      "text/html": [
       "NaN"
      ],
      "text/latex": [
       "NaN"
      ],
      "text/markdown": [
       "NaN"
      ],
      "text/plain": [
       "[1] NaN"
      ]
     },
     "metadata": {},
     "output_type": "display_data"
    },
    {
     "data": {
      "text/html": [
       "0+4.12310562561766i"
      ],
      "text/latex": [
       "0+4.12310562561766i"
      ],
      "text/markdown": [
       "0+4.12310562561766i"
      ],
      "text/plain": [
       "[1] 0+4.123106i"
      ]
     },
     "metadata": {},
     "output_type": "display_data"
    }
   ],
   "source": [
    "sqrt(-17)\n",
    "# real part and imaginery part\n",
    "sqrt(-17+0i)"
   ]
  },
  {
   "cell_type": "code",
   "execution_count": 143,
   "id": "fb323815",
   "metadata": {},
   "outputs": [
    {
     "data": {
      "text/html": [
       "<style>\n",
       ".list-inline {list-style: none; margin:0; padding: 0}\n",
       ".list-inline>li {display: inline-block}\n",
       ".list-inline>li:not(:last-child)::after {content: \"\\00b7\"; padding: 0 .5ex}\n",
       "</style>\n",
       "<ol class=list-inline><li>2</li><li>3</li><li>4</li><li>5</li><li>6</li><li>7</li><li>8</li><li>9</li><li>10</li><li>11</li><li>12</li></ol>\n"
      ],
      "text/latex": [
       "\\begin{enumerate*}\n",
       "\\item 2\n",
       "\\item 3\n",
       "\\item 4\n",
       "\\item 5\n",
       "\\item 6\n",
       "\\item 7\n",
       "\\item 8\n",
       "\\item 9\n",
       "\\item 10\n",
       "\\item 11\n",
       "\\item 12\n",
       "\\end{enumerate*}\n"
      ],
      "text/markdown": [
       "1. 2\n",
       "2. 3\n",
       "3. 4\n",
       "4. 5\n",
       "5. 6\n",
       "6. 7\n",
       "7. 8\n",
       "8. 9\n",
       "9. 10\n",
       "10. 11\n",
       "11. 12\n",
       "\n",
       "\n"
      ],
      "text/plain": [
       " [1]  2  3  4  5  6  7  8  9 10 11 12"
      ]
     },
     "metadata": {},
     "output_type": "display_data"
    }
   ],
   "source": [
    "s = seq(2, 12)\n",
    "s"
   ]
  },
  {
   "cell_type": "code",
   "execution_count": 144,
   "id": "f0fe8aef",
   "metadata": {},
   "outputs": [
    {
     "data": {
      "text/html": [
       "<style>\n",
       ".list-inline {list-style: none; margin:0; padding: 0}\n",
       ".list-inline>li {display: inline-block}\n",
       ".list-inline>li:not(:last-child)::after {content: \"\\00b7\"; padding: 0 .5ex}\n",
       "</style>\n",
       "<ol class=list-inline><li>-5</li><li>-4.8</li><li>-4.6</li><li>-4.4</li><li>-4.2</li><li>-4</li><li>-3.8</li><li>-3.6</li><li>-3.4</li><li>-3.2</li><li>-3</li><li>-2.8</li><li>-2.6</li><li>-2.4</li><li>-2.2</li><li>-2</li><li>-1.8</li><li>-1.6</li><li>-1.4</li><li>-1.2</li><li>-1</li><li>-0.8</li><li>-0.6</li><li>-0.399999999999999</li><li>-0.199999999999999</li><li>0</li><li>0.2</li><li>0.4</li><li>0.6</li><li>0.800000000000001</li><li>1</li><li>1.2</li><li>1.4</li><li>1.6</li><li>1.8</li><li>2</li><li>2.2</li><li>2.4</li><li>2.6</li><li>2.8</li><li>3</li><li>3.2</li><li>3.4</li><li>3.6</li><li>3.8</li><li>4</li><li>4.2</li><li>4.4</li><li>4.6</li><li>4.8</li><li>5</li></ol>\n"
      ],
      "text/latex": [
       "\\begin{enumerate*}\n",
       "\\item -5\n",
       "\\item -4.8\n",
       "\\item -4.6\n",
       "\\item -4.4\n",
       "\\item -4.2\n",
       "\\item -4\n",
       "\\item -3.8\n",
       "\\item -3.6\n",
       "\\item -3.4\n",
       "\\item -3.2\n",
       "\\item -3\n",
       "\\item -2.8\n",
       "\\item -2.6\n",
       "\\item -2.4\n",
       "\\item -2.2\n",
       "\\item -2\n",
       "\\item -1.8\n",
       "\\item -1.6\n",
       "\\item -1.4\n",
       "\\item -1.2\n",
       "\\item -1\n",
       "\\item -0.8\n",
       "\\item -0.6\n",
       "\\item -0.399999999999999\n",
       "\\item -0.199999999999999\n",
       "\\item 0\n",
       "\\item 0.2\n",
       "\\item 0.4\n",
       "\\item 0.6\n",
       "\\item 0.800000000000001\n",
       "\\item 1\n",
       "\\item 1.2\n",
       "\\item 1.4\n",
       "\\item 1.6\n",
       "\\item 1.8\n",
       "\\item 2\n",
       "\\item 2.2\n",
       "\\item 2.4\n",
       "\\item 2.6\n",
       "\\item 2.8\n",
       "\\item 3\n",
       "\\item 3.2\n",
       "\\item 3.4\n",
       "\\item 3.6\n",
       "\\item 3.8\n",
       "\\item 4\n",
       "\\item 4.2\n",
       "\\item 4.4\n",
       "\\item 4.6\n",
       "\\item 4.8\n",
       "\\item 5\n",
       "\\end{enumerate*}\n"
      ],
      "text/markdown": [
       "1. -5\n",
       "2. -4.8\n",
       "3. -4.6\n",
       "4. -4.4\n",
       "5. -4.2\n",
       "6. -4\n",
       "7. -3.8\n",
       "8. -3.6\n",
       "9. -3.4\n",
       "10. -3.2\n",
       "11. -3\n",
       "12. -2.8\n",
       "13. -2.6\n",
       "14. -2.4\n",
       "15. -2.2\n",
       "16. -2\n",
       "17. -1.8\n",
       "18. -1.6\n",
       "19. -1.4\n",
       "20. -1.2\n",
       "21. -1\n",
       "22. -0.8\n",
       "23. -0.6\n",
       "24. -0.399999999999999\n",
       "25. -0.199999999999999\n",
       "26. 0\n",
       "27. 0.2\n",
       "28. 0.4\n",
       "29. 0.6\n",
       "30. 0.800000000000001\n",
       "31. 1\n",
       "32. 1.2\n",
       "33. 1.4\n",
       "34. 1.6\n",
       "35. 1.8\n",
       "36. 2\n",
       "37. 2.2\n",
       "38. 2.4\n",
       "39. 2.6\n",
       "40. 2.8\n",
       "41. 3\n",
       "42. 3.2\n",
       "43. 3.4\n",
       "44. 3.6\n",
       "45. 3.8\n",
       "46. 4\n",
       "47. 4.2\n",
       "48. 4.4\n",
       "49. 4.6\n",
       "50. 4.8\n",
       "51. 5\n",
       "\n",
       "\n"
      ],
      "text/plain": [
       " [1] -5.0 -4.8 -4.6 -4.4 -4.2 -4.0 -3.8 -3.6 -3.4 -3.2 -3.0 -2.8 -2.6 -2.4 -2.2\n",
       "[16] -2.0 -1.8 -1.6 -1.4 -1.2 -1.0 -0.8 -0.6 -0.4 -0.2  0.0  0.2  0.4  0.6  0.8\n",
       "[31]  1.0  1.2  1.4  1.6  1.8  2.0  2.2  2.4  2.6  2.8  3.0  3.2  3.4  3.6  3.8\n",
       "[46]  4.0  4.2  4.4  4.6  4.8  5.0"
      ]
     },
     "metadata": {},
     "output_type": "display_data"
    }
   ],
   "source": [
    "seq(-5, 5, by=0.2) -> s3\n",
    "s3"
   ]
  },
  {
   "cell_type": "code",
   "execution_count": 145,
   "id": "effe6e7b",
   "metadata": {},
   "outputs": [
    {
     "data": {
      "text/html": [
       "<style>\n",
       ".list-inline {list-style: none; margin:0; padding: 0}\n",
       ".list-inline>li {display: inline-block}\n",
       ".list-inline>li:not(:last-child)::after {content: \"\\00b7\"; padding: 0 .5ex}\n",
       "</style>\n",
       "<ol class=list-inline><li>-5</li><li>-4.8</li><li>-4.6</li><li>-4.4</li><li>-4.2</li></ol>\n"
      ],
      "text/latex": [
       "\\begin{enumerate*}\n",
       "\\item -5\n",
       "\\item -4.8\n",
       "\\item -4.6\n",
       "\\item -4.4\n",
       "\\item -4.2\n",
       "\\end{enumerate*}\n"
      ],
      "text/markdown": [
       "1. -5\n",
       "2. -4.8\n",
       "3. -4.6\n",
       "4. -4.4\n",
       "5. -4.2\n",
       "\n",
       "\n"
      ],
      "text/plain": [
       "[1] -5.0 -4.8 -4.6 -4.4 -4.2"
      ]
     },
     "metadata": {},
     "output_type": "display_data"
    }
   ],
   "source": [
    "s4 <- seq(length=5, from=-5, by=0.2)\n",
    "s4"
   ]
  },
  {
   "cell_type": "code",
   "execution_count": 146,
   "id": "793aef4d",
   "metadata": {},
   "outputs": [
    {
     "data": {
      "text/html": [
       "<style>\n",
       ".list-inline {list-style: none; margin:0; padding: 0}\n",
       ".list-inline>li {display: inline-block}\n",
       ".list-inline>li:not(:last-child)::after {content: \"\\00b7\"; padding: 0 .5ex}\n",
       "</style>\n",
       "<ol class=list-inline><li>10.4</li><li>5.6</li><li>3.1</li><li>6.4</li><li>21.7</li></ol>\n"
      ],
      "text/latex": [
       "\\begin{enumerate*}\n",
       "\\item 10.4\n",
       "\\item 5.6\n",
       "\\item 3.1\n",
       "\\item 6.4\n",
       "\\item 21.7\n",
       "\\end{enumerate*}\n"
      ],
      "text/markdown": [
       "1. 10.4\n",
       "2. 5.6\n",
       "3. 3.1\n",
       "4. 6.4\n",
       "5. 21.7\n",
       "\n",
       "\n"
      ],
      "text/plain": [
       "[1] 10.4  5.6  3.1  6.4 21.7"
      ]
     },
     "metadata": {},
     "output_type": "display_data"
    },
    {
     "data": {
      "text/html": [
       "<style>\n",
       ".list-inline {list-style: none; margin:0; padding: 0}\n",
       ".list-inline>li {display: inline-block}\n",
       ".list-inline>li:not(:last-child)::after {content: \"\\00b7\"; padding: 0 .5ex}\n",
       "</style>\n",
       "<ol class=list-inline><li>10.4</li><li>5.6</li><li>3.1</li><li>6.4</li><li>21.7</li><li>10.4</li><li>5.6</li><li>3.1</li><li>6.4</li><li>21.7</li><li>10.4</li><li>5.6</li><li>3.1</li><li>6.4</li><li>21.7</li></ol>\n"
      ],
      "text/latex": [
       "\\begin{enumerate*}\n",
       "\\item 10.4\n",
       "\\item 5.6\n",
       "\\item 3.1\n",
       "\\item 6.4\n",
       "\\item 21.7\n",
       "\\item 10.4\n",
       "\\item 5.6\n",
       "\\item 3.1\n",
       "\\item 6.4\n",
       "\\item 21.7\n",
       "\\item 10.4\n",
       "\\item 5.6\n",
       "\\item 3.1\n",
       "\\item 6.4\n",
       "\\item 21.7\n",
       "\\end{enumerate*}\n"
      ],
      "text/markdown": [
       "1. 10.4\n",
       "2. 5.6\n",
       "3. 3.1\n",
       "4. 6.4\n",
       "5. 21.7\n",
       "6. 10.4\n",
       "7. 5.6\n",
       "8. 3.1\n",
       "9. 6.4\n",
       "10. 21.7\n",
       "11. 10.4\n",
       "12. 5.6\n",
       "13. 3.1\n",
       "14. 6.4\n",
       "15. 21.7\n",
       "\n",
       "\n"
      ],
      "text/plain": [
       " [1] 10.4  5.6  3.1  6.4 21.7 10.4  5.6  3.1  6.4 21.7 10.4  5.6  3.1  6.4 21.7"
      ]
     },
     "metadata": {},
     "output_type": "display_data"
    }
   ],
   "source": [
    "x\n",
    "# whole vector repeated\n",
    "s5 <- rep(x, times=3)\n",
    "s5"
   ]
  },
  {
   "cell_type": "code",
   "execution_count": 147,
   "id": "d36693a4",
   "metadata": {},
   "outputs": [
    {
     "data": {
      "text/html": [
       "<style>\n",
       ".list-inline {list-style: none; margin:0; padding: 0}\n",
       ".list-inline>li {display: inline-block}\n",
       ".list-inline>li:not(:last-child)::after {content: \"\\00b7\"; padding: 0 .5ex}\n",
       "</style>\n",
       "<ol class=list-inline><li>10.4</li><li>10.4</li><li>10.4</li><li>5.6</li><li>5.6</li><li>5.6</li><li>3.1</li><li>3.1</li><li>3.1</li><li>6.4</li><li>6.4</li><li>6.4</li><li>21.7</li><li>21.7</li><li>21.7</li></ol>\n"
      ],
      "text/latex": [
       "\\begin{enumerate*}\n",
       "\\item 10.4\n",
       "\\item 10.4\n",
       "\\item 10.4\n",
       "\\item 5.6\n",
       "\\item 5.6\n",
       "\\item 5.6\n",
       "\\item 3.1\n",
       "\\item 3.1\n",
       "\\item 3.1\n",
       "\\item 6.4\n",
       "\\item 6.4\n",
       "\\item 6.4\n",
       "\\item 21.7\n",
       "\\item 21.7\n",
       "\\item 21.7\n",
       "\\end{enumerate*}\n"
      ],
      "text/markdown": [
       "1. 10.4\n",
       "2. 10.4\n",
       "3. 10.4\n",
       "4. 5.6\n",
       "5. 5.6\n",
       "6. 5.6\n",
       "7. 3.1\n",
       "8. 3.1\n",
       "9. 3.1\n",
       "10. 6.4\n",
       "11. 6.4\n",
       "12. 6.4\n",
       "13. 21.7\n",
       "14. 21.7\n",
       "15. 21.7\n",
       "\n",
       "\n"
      ],
      "text/plain": [
       " [1] 10.4 10.4 10.4  5.6  5.6  5.6  3.1  3.1  3.1  6.4  6.4  6.4 21.7 21.7 21.7"
      ]
     },
     "metadata": {},
     "output_type": "display_data"
    }
   ],
   "source": [
    "# each number repeated \n",
    "s6 <- rep(x, each=3)\n",
    "s6"
   ]
  },
  {
   "cell_type": "code",
   "execution_count": 148,
   "id": "9eb1376a",
   "metadata": {},
   "outputs": [
    {
     "data": {
      "text/html": [
       "<style>\n",
       ".list-inline {list-style: none; margin:0; padding: 0}\n",
       ".list-inline>li {display: inline-block}\n",
       ".list-inline>li:not(:last-child)::after {content: \"\\00b7\"; padding: 0 .5ex}\n",
       "</style>\n",
       "<ol class=list-inline><li>1</li><li>2</li><li>3</li><li>&lt;NA&gt;</li></ol>\n"
      ],
      "text/latex": [
       "\\begin{enumerate*}\n",
       "\\item 1\n",
       "\\item 2\n",
       "\\item 3\n",
       "\\item <NA>\n",
       "\\end{enumerate*}\n"
      ],
      "text/markdown": [
       "1. 1\n",
       "2. 2\n",
       "3. 3\n",
       "4. &lt;NA&gt;\n",
       "\n",
       "\n"
      ],
      "text/plain": [
       "[1]  1  2  3 NA"
      ]
     },
     "metadata": {},
     "output_type": "display_data"
    },
    {
     "data": {
      "text/html": [
       "<style>\n",
       ".list-inline {list-style: none; margin:0; padding: 0}\n",
       ".list-inline>li {display: inline-block}\n",
       ".list-inline>li:not(:last-child)::after {content: \"\\00b7\"; padding: 0 .5ex}\n",
       "</style>\n",
       "<ol class=list-inline><li>FALSE</li><li>FALSE</li><li>FALSE</li><li>TRUE</li></ol>\n"
      ],
      "text/latex": [
       "\\begin{enumerate*}\n",
       "\\item FALSE\n",
       "\\item FALSE\n",
       "\\item FALSE\n",
       "\\item TRUE\n",
       "\\end{enumerate*}\n"
      ],
      "text/markdown": [
       "1. FALSE\n",
       "2. FALSE\n",
       "3. FALSE\n",
       "4. TRUE\n",
       "\n",
       "\n"
      ],
      "text/plain": [
       "[1] FALSE FALSE FALSE  TRUE"
      ]
     },
     "metadata": {},
     "output_type": "display_data"
    }
   ],
   "source": [
    "# find the missing values\n",
    "z1 <- c(1:3, NA); ind <- is.na(z1)\n",
    "z1\n",
    "ind"
   ]
  },
  {
   "cell_type": "code",
   "execution_count": 149,
   "id": "98a5318f",
   "metadata": {},
   "outputs": [
    {
     "data": {
      "text/html": [
       "'India'"
      ],
      "text/latex": [
       "'India'"
      ],
      "text/markdown": [
       "'India'"
      ],
      "text/plain": [
       "[1] \"India\""
      ]
     },
     "metadata": {},
     "output_type": "display_data"
    }
   ],
   "source": [
    "name <- \"India\"\n",
    "name"
   ]
  },
  {
   "cell_type": "code",
   "execution_count": 150,
   "id": "92ac6426",
   "metadata": {},
   "outputs": [
    {
     "data": {
      "text/html": [
       "<style>\n",
       ".list-inline {list-style: none; margin:0; padding: 0}\n",
       ".list-inline>li {display: inline-block}\n",
       ".list-inline>li:not(:last-child)::after {content: \"\\00b7\"; padding: 0 .5ex}\n",
       "</style>\n",
       "<ol class=list-inline><li>'India'</li><li>'usa'</li><li>'uk'</li><li>'japan'</li></ol>\n"
      ],
      "text/latex": [
       "\\begin{enumerate*}\n",
       "\\item 'India'\n",
       "\\item 'usa'\n",
       "\\item 'uk'\n",
       "\\item 'japan'\n",
       "\\end{enumerate*}\n"
      ],
      "text/markdown": [
       "1. 'India'\n",
       "2. 'usa'\n",
       "3. 'uk'\n",
       "4. 'japan'\n",
       "\n",
       "\n"
      ],
      "text/plain": [
       "[1] \"India\" \"usa\"   \"uk\"    \"japan\""
      ]
     },
     "metadata": {},
     "output_type": "display_data"
    }
   ],
   "source": [
    "countries <- c(\"India\", \"usa\", \"uk\", \"japan\")\n",
    "countries"
   ]
  },
  {
   "cell_type": "code",
   "execution_count": 151,
   "id": "23ff90a6",
   "metadata": {},
   "outputs": [
    {
     "data": {
      "text/html": [
       "<style>\n",
       ".list-inline {list-style: none; margin:0; padding: 0}\n",
       ".list-inline>li {display: inline-block}\n",
       ".list-inline>li:not(:last-child)::after {content: \"\\00b7\"; padding: 0 .5ex}\n",
       "</style>\n",
       "<ol class=list-inline><li>'X1'</li><li>'Y2'</li><li>'X3'</li><li>'Y4'</li><li>'X5'</li><li>'Y6'</li><li>'X7'</li><li>'Y8'</li><li>'X9'</li><li>'Y10'</li></ol>\n"
      ],
      "text/latex": [
       "\\begin{enumerate*}\n",
       "\\item 'X1'\n",
       "\\item 'Y2'\n",
       "\\item 'X3'\n",
       "\\item 'Y4'\n",
       "\\item 'X5'\n",
       "\\item 'Y6'\n",
       "\\item 'X7'\n",
       "\\item 'Y8'\n",
       "\\item 'X9'\n",
       "\\item 'Y10'\n",
       "\\end{enumerate*}\n"
      ],
      "text/markdown": [
       "1. 'X1'\n",
       "2. 'Y2'\n",
       "3. 'X3'\n",
       "4. 'Y4'\n",
       "5. 'X5'\n",
       "6. 'Y6'\n",
       "7. 'X7'\n",
       "8. 'Y8'\n",
       "9. 'X9'\n",
       "10. 'Y10'\n",
       "\n",
       "\n"
      ],
      "text/plain": [
       " [1] \"X1\"  \"Y2\"  \"X3\"  \"Y4\"  \"X5\"  \"Y6\"  \"X7\"  \"Y8\"  \"X9\"  \"Y10\""
      ]
     },
     "metadata": {},
     "output_type": "display_data"
    }
   ],
   "source": [
    "labs <- paste(c(\"X\", \"Y\"), 1:10, sep=\"\")\n",
    "labs"
   ]
  },
  {
   "cell_type": "code",
   "execution_count": 152,
   "id": "d674f490",
   "metadata": {},
   "outputs": [
    {
     "data": {
      "text/html": [
       "<style>\n",
       ".list-inline {list-style: none; margin:0; padding: 0}\n",
       ".list-inline>li {display: inline-block}\n",
       ".list-inline>li:not(:last-child)::after {content: \"\\00b7\"; padding: 0 .5ex}\n",
       "</style>\n",
       "<ol class=list-inline><li>10.4</li><li>5.6</li><li>3.1</li><li>6.4</li><li>21.7</li></ol>\n"
      ],
      "text/latex": [
       "\\begin{enumerate*}\n",
       "\\item 10.4\n",
       "\\item 5.6\n",
       "\\item 3.1\n",
       "\\item 6.4\n",
       "\\item 21.7\n",
       "\\end{enumerate*}\n"
      ],
      "text/markdown": [
       "1. 10.4\n",
       "2. 5.6\n",
       "3. 3.1\n",
       "4. 6.4\n",
       "5. 21.7\n",
       "\n",
       "\n"
      ],
      "text/plain": [
       "[1] 10.4  5.6  3.1  6.4 21.7"
      ]
     },
     "metadata": {},
     "output_type": "display_data"
    }
   ],
   "source": [
    "y5 <- x[!is.na(x)]\n",
    "y5"
   ]
  },
  {
   "cell_type": "code",
   "execution_count": 153,
   "id": "2bedb550",
   "metadata": {},
   "outputs": [
    {
     "data": {
      "text/html": [
       "<style>\n",
       ".list-inline {list-style: none; margin:0; padding: 0}\n",
       ".list-inline>li {display: inline-block}\n",
       ".list-inline>li:not(:last-child)::after {content: \"\\00b7\"; padding: 0 .5ex}\n",
       "</style>\n",
       "<ol class=list-inline><li>11.4</li><li>6.6</li><li>4.1</li><li>7.4</li><li>22.7</li></ol>\n"
      ],
      "text/latex": [
       "\\begin{enumerate*}\n",
       "\\item 11.4\n",
       "\\item 6.6\n",
       "\\item 4.1\n",
       "\\item 7.4\n",
       "\\item 22.7\n",
       "\\end{enumerate*}\n"
      ],
      "text/markdown": [
       "1. 11.4\n",
       "2. 6.6\n",
       "3. 4.1\n",
       "4. 7.4\n",
       "5. 22.7\n",
       "\n",
       "\n"
      ],
      "text/plain": [
       "[1] 11.4  6.6  4.1  7.4 22.7"
      ]
     },
     "metadata": {},
     "output_type": "display_data"
    },
    {
     "data": {
      "text/html": [],
      "text/latex": [],
      "text/markdown": [],
      "text/plain": [
       "numeric(0)"
      ]
     },
     "metadata": {},
     "output_type": "display_data"
    },
    {
     "data": {
      "text/html": [
       "<style>\n",
       ".list-inline {list-style: none; margin:0; padding: 0}\n",
       ".list-inline>li {display: inline-block}\n",
       ".list-inline>li:not(:last-child)::after {content: \"\\00b7\"; padding: 0 .5ex}\n",
       "</style>\n",
       "<ol class=list-inline><li>11.4</li><li>6.6</li><li>4.1</li><li>7.4</li><li>22.7</li></ol>\n"
      ],
      "text/latex": [
       "\\begin{enumerate*}\n",
       "\\item 11.4\n",
       "\\item 6.6\n",
       "\\item 4.1\n",
       "\\item 7.4\n",
       "\\item 22.7\n",
       "\\end{enumerate*}\n"
      ],
      "text/markdown": [
       "1. 11.4\n",
       "2. 6.6\n",
       "3. 4.1\n",
       "4. 7.4\n",
       "5. 22.7\n",
       "\n",
       "\n"
      ],
      "text/plain": [
       "[1] 11.4  6.6  4.1  7.4 22.7"
      ]
     },
     "metadata": {},
     "output_type": "display_data"
    }
   ],
   "source": [
    "(x+1)[(!is.na(x)) & x>0] -> z\n",
    "z\n",
    "(x+1)[(!is.na(x)) & x<0] -> z4\n",
    "z4\n",
    "(x+1)[(!is.na(x)) | x>0] -> z5\n",
    "z5"
   ]
  },
  {
   "cell_type": "code",
   "execution_count": 154,
   "id": "c1a1c0c9",
   "metadata": {},
   "outputs": [
    {
     "data": {
      "text/html": [
       "<style>\n",
       ".list-inline {list-style: none; margin:0; padding: 0}\n",
       ".list-inline>li {display: inline-block}\n",
       ".list-inline>li:not(:last-child)::after {content: \"\\00b7\"; padding: 0 .5ex}\n",
       "</style>\n",
       "<ol class=list-inline><li>10.4</li><li>5.6</li><li>3.1</li><li>6.4</li><li>21.7</li></ol>\n"
      ],
      "text/latex": [
       "\\begin{enumerate*}\n",
       "\\item 10.4\n",
       "\\item 5.6\n",
       "\\item 3.1\n",
       "\\item 6.4\n",
       "\\item 21.7\n",
       "\\end{enumerate*}\n"
      ],
      "text/markdown": [
       "1. 10.4\n",
       "2. 5.6\n",
       "3. 3.1\n",
       "4. 6.4\n",
       "5. 21.7\n",
       "\n",
       "\n"
      ],
      "text/plain": [
       "[1] 10.4  5.6  3.1  6.4 21.7"
      ]
     },
     "metadata": {},
     "output_type": "display_data"
    },
    {
     "data": {
      "text/html": [
       "<style>\n",
       ".list-inline {list-style: none; margin:0; padding: 0}\n",
       ".list-inline>li {display: inline-block}\n",
       ".list-inline>li:not(:last-child)::after {content: \"\\00b7\"; padding: 0 .5ex}\n",
       "</style>\n",
       "<ol class=list-inline><li>10.4</li><li>5.6</li><li>3.1</li><li>6.4</li><li>21.7</li><li>&lt;NA&gt;</li><li>&lt;NA&gt;</li><li>&lt;NA&gt;</li><li>&lt;NA&gt;</li><li>&lt;NA&gt;</li></ol>\n"
      ],
      "text/latex": [
       "\\begin{enumerate*}\n",
       "\\item 10.4\n",
       "\\item 5.6\n",
       "\\item 3.1\n",
       "\\item 6.4\n",
       "\\item 21.7\n",
       "\\item <NA>\n",
       "\\item <NA>\n",
       "\\item <NA>\n",
       "\\item <NA>\n",
       "\\item <NA>\n",
       "\\end{enumerate*}\n"
      ],
      "text/markdown": [
       "1. 10.4\n",
       "2. 5.6\n",
       "3. 3.1\n",
       "4. 6.4\n",
       "5. 21.7\n",
       "6. &lt;NA&gt;\n",
       "7. &lt;NA&gt;\n",
       "8. &lt;NA&gt;\n",
       "9. &lt;NA&gt;\n",
       "10. &lt;NA&gt;\n",
       "\n",
       "\n"
      ],
      "text/plain": [
       " [1] 10.4  5.6  3.1  6.4 21.7   NA   NA   NA   NA   NA"
      ]
     },
     "metadata": {},
     "output_type": "display_data"
    }
   ],
   "source": [
    "x[1:5]\n",
    "x[1:10]"
   ]
  },
  {
   "cell_type": "code",
   "execution_count": 155,
   "id": "78892055",
   "metadata": {},
   "outputs": [
    {
     "data": {
      "text/html": [
       "<style>\n",
       ".list-inline {list-style: none; margin:0; padding: 0}\n",
       ".list-inline>li {display: inline-block}\n",
       ".list-inline>li:not(:last-child)::after {content: \"\\00b7\"; padding: 0 .5ex}\n",
       "</style>\n",
       "<ol class=list-inline><li>'X'</li><li>'Y'</li><li>'Y'</li><li>'X'</li><li>'X'</li><li>'Y'</li><li>'Y'</li><li>'X'</li><li>'X'</li><li>'Y'</li><li>'Y'</li><li>'X'</li><li>'X'</li><li>'Y'</li><li>'Y'</li><li>'X'</li></ol>\n"
      ],
      "text/latex": [
       "\\begin{enumerate*}\n",
       "\\item 'X'\n",
       "\\item 'Y'\n",
       "\\item 'Y'\n",
       "\\item 'X'\n",
       "\\item 'X'\n",
       "\\item 'Y'\n",
       "\\item 'Y'\n",
       "\\item 'X'\n",
       "\\item 'X'\n",
       "\\item 'Y'\n",
       "\\item 'Y'\n",
       "\\item 'X'\n",
       "\\item 'X'\n",
       "\\item 'Y'\n",
       "\\item 'Y'\n",
       "\\item 'X'\n",
       "\\end{enumerate*}\n"
      ],
      "text/markdown": [
       "1. 'X'\n",
       "2. 'Y'\n",
       "3. 'Y'\n",
       "4. 'X'\n",
       "5. 'X'\n",
       "6. 'Y'\n",
       "7. 'Y'\n",
       "8. 'X'\n",
       "9. 'X'\n",
       "10. 'Y'\n",
       "11. 'Y'\n",
       "12. 'X'\n",
       "13. 'X'\n",
       "14. 'Y'\n",
       "15. 'Y'\n",
       "16. 'X'\n",
       "\n",
       "\n"
      ],
      "text/plain": [
       " [1] \"X\" \"Y\" \"Y\" \"X\" \"X\" \"Y\" \"Y\" \"X\" \"X\" \"Y\" \"Y\" \"X\" \"X\" \"Y\" \"Y\" \"X\""
      ]
     },
     "metadata": {},
     "output_type": "display_data"
    }
   ],
   "source": [
    "c(\"X\", \"Y\")[rep(c(1,2,2,1), times=4)]"
   ]
  },
  {
   "cell_type": "code",
   "execution_count": 156,
   "id": "6a94ff82",
   "metadata": {},
   "outputs": [
    {
     "data": {
      "text/html": [
       "<style>\n",
       ".list-inline {list-style: none; margin:0; padding: 0}\n",
       ".list-inline>li {display: inline-block}\n",
       ".list-inline>li:not(:last-child)::after {content: \"\\00b7\"; padding: 0 .5ex}\n",
       "</style>\n",
       "<ol class=list-inline><li>6.4</li><li>21.7</li></ol>\n"
      ],
      "text/latex": [
       "\\begin{enumerate*}\n",
       "\\item 6.4\n",
       "\\item 21.7\n",
       "\\end{enumerate*}\n"
      ],
      "text/markdown": [
       "1. 6.4\n",
       "2. 21.7\n",
       "\n",
       "\n"
      ],
      "text/plain": [
       "[1]  6.4 21.7"
      ]
     },
     "metadata": {},
     "output_type": "display_data"
    }
   ],
   "source": [
    "y <- x[-(1:3)]\n",
    "y"
   ]
  },
  {
   "cell_type": "code",
   "execution_count": 157,
   "id": "ca72ae8a",
   "metadata": {},
   "outputs": [
    {
     "data": {
      "text/html": [
       "<style>\n",
       ".list-inline {list-style: none; margin:0; padding: 0}\n",
       ".list-inline>li {display: inline-block}\n",
       ".list-inline>li:not(:last-child)::after {content: \"\\00b7\"; padding: 0 .5ex}\n",
       "</style>\n",
       "<ol class=list-inline><li>5</li><li>10</li><li>1</li><li>20</li></ol>\n"
      ],
      "text/latex": [
       "\\begin{enumerate*}\n",
       "\\item 5\n",
       "\\item 10\n",
       "\\item 1\n",
       "\\item 20\n",
       "\\end{enumerate*}\n"
      ],
      "text/markdown": [
       "1. 5\n",
       "2. 10\n",
       "3. 1\n",
       "4. 20\n",
       "\n",
       "\n"
      ],
      "text/plain": [
       "[1]  5 10  1 20"
      ]
     },
     "metadata": {},
     "output_type": "display_data"
    }
   ],
   "source": [
    "fruit <- c(5, 10, 1, 20)\n",
    "fruit"
   ]
  },
  {
   "cell_type": "code",
   "execution_count": 158,
   "id": "ca8f2373",
   "metadata": {},
   "outputs": [
    {
     "data": {
      "text/html": [
       "<style>\n",
       ".list-inline {list-style: none; margin:0; padding: 0}\n",
       ".list-inline>li {display: inline-block}\n",
       ".list-inline>li:not(:last-child)::after {content: \"\\00b7\"; padding: 0 .5ex}\n",
       "</style>\n",
       "<ol class=list-inline><li>5</li><li>10</li><li>1</li><li>20</li></ol>\n"
      ],
      "text/latex": [
       "\\begin{enumerate*}\n",
       "\\item 5\n",
       "\\item 10\n",
       "\\item 1\n",
       "\\item 20\n",
       "\\end{enumerate*}\n"
      ],
      "text/markdown": [
       "1. 5\n",
       "2. 10\n",
       "3. 1\n",
       "4. 20\n",
       "\n",
       "\n"
      ],
      "text/plain": [
       "[1]  5 10  1 20"
      ]
     },
     "metadata": {},
     "output_type": "display_data"
    },
    {
     "data": {
      "text/html": [
       "<pre class=language-r><code>.Primitive(\"names\")</code></pre>"
      ],
      "text/latex": [
       "\\begin{minted}{r}\n",
       ".Primitive(\"names\")\n",
       "\\end{minted}"
      ],
      "text/markdown": [
       "```r\n",
       ".Primitive(\"names\")\n",
       "```"
      ],
      "text/plain": [
       "function (x)  .Primitive(\"names\")"
      ]
     },
     "metadata": {},
     "output_type": "display_data"
    },
    {
     "data": {
      "text/html": [
       "<style>\n",
       ".dl-inline {width: auto; margin:0; padding: 0}\n",
       ".dl-inline>dt, .dl-inline>dd {float: none; width: auto; display: inline-block}\n",
       ".dl-inline>dt::after {content: \":\\0020\"; padding-right: .5ex}\n",
       ".dl-inline>dt:not(:first-of-type) {padding-left: .5ex}\n",
       "</style><dl class=dl-inline><dt>apple</dt><dd>1</dd><dt>orange</dt><dd>5</dd></dl>\n"
      ],
      "text/latex": [
       "\\begin{description*}\n",
       "\\item[apple] 1\n",
       "\\item[orange] 5\n",
       "\\end{description*}\n"
      ],
      "text/markdown": [
       "apple\n",
       ":   1orange\n",
       ":   5\n",
       "\n"
      ],
      "text/plain": [
       " apple orange \n",
       "     1      5 "
      ]
     },
     "metadata": {},
     "output_type": "display_data"
    }
   ],
   "source": [
    "fruit <- c(5, 10, 1, 20)\n",
    "fruit\n",
    "names(fruit) <- c(\"orange\", \"banana\", \"apple\", \"peach\")\n",
    "names\n",
    "lunch <- fruit[c(\"apple\",\"orange\")]\n",
    "lunch"
   ]
  },
  {
   "cell_type": "code",
   "execution_count": 159,
   "id": "326a0252",
   "metadata": {},
   "outputs": [
    {
     "data": {
      "text/html": [
       "<style>\n",
       ".list-inline {list-style: none; margin:0; padding: 0}\n",
       ".list-inline>li {display: inline-block}\n",
       ".list-inline>li:not(:last-child)::after {content: \"\\00b7\"; padding: 0 .5ex}\n",
       "</style>\n",
       "<ol class=list-inline><li>10.4</li><li>5.6</li><li>3.1</li><li>6.4</li><li>21.7</li></ol>\n"
      ],
      "text/latex": [
       "\\begin{enumerate*}\n",
       "\\item 10.4\n",
       "\\item 5.6\n",
       "\\item 3.1\n",
       "\\item 6.4\n",
       "\\item 21.7\n",
       "\\end{enumerate*}\n"
      ],
      "text/markdown": [
       "1. 10.4\n",
       "2. 5.6\n",
       "3. 3.1\n",
       "4. 6.4\n",
       "5. 21.7\n",
       "\n",
       "\n"
      ],
      "text/plain": [
       "[1] 10.4  5.6  3.1  6.4 21.7"
      ]
     },
     "metadata": {},
     "output_type": "display_data"
    },
    {
     "data": {
      "text/html": [
       "<style>\n",
       ".list-inline {list-style: none; margin:0; padding: 0}\n",
       ".list-inline>li {display: inline-block}\n",
       ".list-inline>li:not(:last-child)::after {content: \"\\00b7\"; padding: 0 .5ex}\n",
       "</style>\n",
       "<ol class=list-inline><li>6.4</li><li>21.7</li></ol>\n"
      ],
      "text/latex": [
       "\\begin{enumerate*}\n",
       "\\item 6.4\n",
       "\\item 21.7\n",
       "\\end{enumerate*}\n"
      ],
      "text/markdown": [
       "1. 6.4\n",
       "2. 21.7\n",
       "\n",
       "\n"
      ],
      "text/plain": [
       "[1]  6.4 21.7"
      ]
     },
     "metadata": {},
     "output_type": "display_data"
    },
    {
     "data": {
      "text/html": [
       "<style>\n",
       ".list-inline {list-style: none; margin:0; padding: 0}\n",
       ".list-inline>li {display: inline-block}\n",
       ".list-inline>li:not(:last-child)::after {content: \"\\00b7\"; padding: 0 .5ex}\n",
       "</style>\n",
       "<ol class=list-inline><li>6.4</li><li>21.7</li></ol>\n"
      ],
      "text/latex": [
       "\\begin{enumerate*}\n",
       "\\item 6.4\n",
       "\\item 21.7\n",
       "\\end{enumerate*}\n"
      ],
      "text/markdown": [
       "1. 6.4\n",
       "2. 21.7\n",
       "\n",
       "\n"
      ],
      "text/plain": [
       "[1]  6.4 21.7"
      ]
     },
     "metadata": {},
     "output_type": "display_data"
    }
   ],
   "source": [
    "x[is.na(x)] <- 0\n",
    "x\n",
    "y[y < 0] <- -y[y < 0]\n",
    "y\n",
    "y <- abs(y)\n",
    "y"
   ]
  },
  {
   "cell_type": "code",
   "execution_count": 160,
   "id": "604ea177",
   "metadata": {},
   "outputs": [
    {
     "data": {
      "text/html": [
       "0.9"
      ],
      "text/latex": [
       "0.9"
      ],
      "text/markdown": [
       "0.9"
      ],
      "text/plain": [
       "[1] 0.9"
      ]
     },
     "metadata": {},
     "output_type": "display_data"
    },
    {
     "data": {
      "text/html": [
       "'0.9'"
      ],
      "text/latex": [
       "'0.9'"
      ],
      "text/markdown": [
       "'0.9'"
      ],
      "text/plain": [
       "[1] \"0.9\""
      ]
     },
     "metadata": {},
     "output_type": "display_data"
    }
   ],
   "source": [
    "z <- 0.9\n",
    "z\n",
    "digits <- as.character(z)\n",
    "digits"
   ]
  },
  {
   "cell_type": "code",
   "execution_count": 161,
   "id": "802be43e",
   "metadata": {},
   "outputs": [
    {
     "data": {
      "text/html": [
       "0"
      ],
      "text/latex": [
       "0"
      ],
      "text/markdown": [
       "0"
      ],
      "text/plain": [
       "[1] 0"
      ]
     },
     "metadata": {},
     "output_type": "display_data"
    }
   ],
   "source": [
    "d <- as.integer(digits)\n",
    "d"
   ]
  },
  {
   "cell_type": "code",
   "execution_count": 162,
   "id": "7c324121",
   "metadata": {},
   "outputs": [
    {
     "data": {
      "text/html": [],
      "text/latex": [],
      "text/markdown": [],
      "text/plain": [
       "numeric(0)"
      ]
     },
     "metadata": {},
     "output_type": "display_data"
    },
    {
     "data": {
      "text/html": [
       "<style>\n",
       ".list-inline {list-style: none; margin:0; padding: 0}\n",
       ".list-inline>li {display: inline-block}\n",
       ".list-inline>li:not(:last-child)::after {content: \"\\00b7\"; padding: 0 .5ex}\n",
       "</style>\n",
       "<ol class=list-inline><li>&lt;NA&gt;</li><li>&lt;NA&gt;</li><li>17</li></ol>\n"
      ],
      "text/latex": [
       "\\begin{enumerate*}\n",
       "\\item <NA>\n",
       "\\item <NA>\n",
       "\\item 17\n",
       "\\end{enumerate*}\n"
      ],
      "text/markdown": [
       "1. &lt;NA&gt;\n",
       "2. &lt;NA&gt;\n",
       "3. 17\n",
       "\n",
       "\n"
      ],
      "text/plain": [
       "[1] NA NA 17"
      ]
     },
     "metadata": {},
     "output_type": "display_data"
    },
    {
     "data": {
      "text/html": [
       "<style>\n",
       ".list-inline {list-style: none; margin:0; padding: 0}\n",
       ".list-inline>li {display: inline-block}\n",
       ".list-inline>li:not(:last-child)::after {content: \"\\00b7\"; padding: 0 .5ex}\n",
       "</style>\n",
       "<ol class=list-inline><li>&lt;NA&gt;</li><li>&lt;NA&gt;</li><li>17</li><li>&lt;NA&gt;</li><li>&lt;NA&gt;</li><li>&lt;NA&gt;</li><li>&lt;NA&gt;</li><li>&lt;NA&gt;</li><li>&lt;NA&gt;</li><li>17</li></ol>\n"
      ],
      "text/latex": [
       "\\begin{enumerate*}\n",
       "\\item <NA>\n",
       "\\item <NA>\n",
       "\\item 17\n",
       "\\item <NA>\n",
       "\\item <NA>\n",
       "\\item <NA>\n",
       "\\item <NA>\n",
       "\\item <NA>\n",
       "\\item <NA>\n",
       "\\item 17\n",
       "\\end{enumerate*}\n"
      ],
      "text/markdown": [
       "1. &lt;NA&gt;\n",
       "2. &lt;NA&gt;\n",
       "3. 17\n",
       "4. &lt;NA&gt;\n",
       "5. &lt;NA&gt;\n",
       "6. &lt;NA&gt;\n",
       "7. &lt;NA&gt;\n",
       "8. &lt;NA&gt;\n",
       "9. &lt;NA&gt;\n",
       "10. 17\n",
       "\n",
       "\n"
      ],
      "text/plain": [
       " [1] NA NA 17 NA NA NA NA NA NA 17"
      ]
     },
     "metadata": {},
     "output_type": "display_data"
    }
   ],
   "source": [
    "e <- numeric()\n",
    "e\n",
    "e[3] <- 17\n",
    "e\n",
    "e[10] <- 17\n",
    "e"
   ]
  },
  {
   "cell_type": "code",
   "execution_count": 163,
   "id": "f1f0ae7f",
   "metadata": {},
   "outputs": [
    {
     "data": {
      "text/html": [
       "<style>\n",
       ".list-inline {list-style: none; margin:0; padding: 0}\n",
       ".list-inline>li {display: inline-block}\n",
       ".list-inline>li:not(:last-child)::after {content: \"\\00b7\"; padding: 0 .5ex}\n",
       "</style>\n",
       "<ol class=list-inline><li>0</li><li>0</li><li>0</li><li>0</li><li>0</li><li>0</li><li>0</li><li>0</li><li>0</li><li>0</li></ol>\n"
      ],
      "text/latex": [
       "\\begin{enumerate*}\n",
       "\\item 0\n",
       "\\item 0\n",
       "\\item 0\n",
       "\\item 0\n",
       "\\item 0\n",
       "\\item 0\n",
       "\\item 0\n",
       "\\item 0\n",
       "\\item 0\n",
       "\\item 0\n",
       "\\end{enumerate*}\n"
      ],
      "text/markdown": [
       "1. 0\n",
       "2. 0\n",
       "3. 0\n",
       "4. 0\n",
       "5. 0\n",
       "6. 0\n",
       "7. 0\n",
       "8. 0\n",
       "9. 0\n",
       "10. 0\n",
       "\n",
       "\n"
      ],
      "text/plain": [
       " [1] 0 0 0 0 0 0 0 0 0 0"
      ]
     },
     "metadata": {},
     "output_type": "display_data"
    },
    {
     "data": {
      "text/html": [
       "<style>\n",
       ".list-inline {list-style: none; margin:0; padding: 0}\n",
       ".list-inline>li {display: inline-block}\n",
       ".list-inline>li:not(:last-child)::after {content: \"\\00b7\"; padding: 0 .5ex}\n",
       "</style>\n",
       "<ol class=list-inline><li>0</li><li>0</li><li>0</li><li>0</li><li>0</li></ol>\n"
      ],
      "text/latex": [
       "\\begin{enumerate*}\n",
       "\\item 0\n",
       "\\item 0\n",
       "\\item 0\n",
       "\\item 0\n",
       "\\item 0\n",
       "\\end{enumerate*}\n"
      ],
      "text/markdown": [
       "1. 0\n",
       "2. 0\n",
       "3. 0\n",
       "4. 0\n",
       "5. 0\n",
       "\n",
       "\n"
      ],
      "text/plain": [
       "[1] 0 0 0 0 0"
      ]
     },
     "metadata": {},
     "output_type": "display_data"
    }
   ],
   "source": [
    "alpha <- numeric(10)\n",
    "alpha\n",
    "alpha <- alpha[2 * 1:5]\n",
    "alpha"
   ]
  },
  {
   "cell_type": "code",
   "execution_count": 164,
   "id": "a1556b78",
   "metadata": {},
   "outputs": [
    {
     "data": {
      "text/html": [
       "<style>\n",
       ".list-inline {list-style: none; margin:0; padding: 0}\n",
       ".list-inline>li {display: inline-block}\n",
       ".list-inline>li:not(:last-child)::after {content: \"\\00b7\"; padding: 0 .5ex}\n",
       "</style>\n",
       "<ol class=list-inline><li>0</li><li>0</li><li>0</li></ol>\n"
      ],
      "text/latex": [
       "\\begin{enumerate*}\n",
       "\\item 0\n",
       "\\item 0\n",
       "\\item 0\n",
       "\\end{enumerate*}\n"
      ],
      "text/markdown": [
       "1. 0\n",
       "2. 0\n",
       "3. 0\n",
       "\n",
       "\n"
      ],
      "text/plain": [
       "[1] 0 0 0"
      ]
     },
     "metadata": {},
     "output_type": "display_data"
    }
   ],
   "source": [
    "length(alpha) <- 3\n",
    "alpha"
   ]
  },
  {
   "cell_type": "code",
   "execution_count": 165,
   "id": "77f1c862",
   "metadata": {},
   "outputs": [
    {
     "data": {
      "text/html": [
       "<style>\n",
       ".list-inline {list-style: none; margin:0; padding: 0}\n",
       ".list-inline>li {display: inline-block}\n",
       ".list-inline>li:not(:last-child)::after {content: \"\\00b7\"; padding: 0 .5ex}\n",
       "</style>\n",
       "<ol class=list-inline><li>'tas'</li><li>'sa'</li><li>'qld'</li><li>'nsw'</li><li>'nsw'</li><li>'nt'</li><li>'wa'</li><li>'wa'</li><li>'qld'</li><li>'vic'</li><li>'nsw'</li><li>'vic'</li><li>'qld'</li><li>'qld'</li><li>'sa'</li><li>'tas'</li><li>'sa'</li><li>'nt'</li><li>'wa'</li><li>'vic'</li><li>'qld'</li><li>'nsw'</li><li>'nsw'</li><li>'wa'</li><li>'sa'</li><li>'act'</li><li>'nsw'</li><li>'vic'</li><li>'vic'</li><li>'act'</li></ol>\n"
      ],
      "text/latex": [
       "\\begin{enumerate*}\n",
       "\\item 'tas'\n",
       "\\item 'sa'\n",
       "\\item 'qld'\n",
       "\\item 'nsw'\n",
       "\\item 'nsw'\n",
       "\\item 'nt'\n",
       "\\item 'wa'\n",
       "\\item 'wa'\n",
       "\\item 'qld'\n",
       "\\item 'vic'\n",
       "\\item 'nsw'\n",
       "\\item 'vic'\n",
       "\\item 'qld'\n",
       "\\item 'qld'\n",
       "\\item 'sa'\n",
       "\\item 'tas'\n",
       "\\item 'sa'\n",
       "\\item 'nt'\n",
       "\\item 'wa'\n",
       "\\item 'vic'\n",
       "\\item 'qld'\n",
       "\\item 'nsw'\n",
       "\\item 'nsw'\n",
       "\\item 'wa'\n",
       "\\item 'sa'\n",
       "\\item 'act'\n",
       "\\item 'nsw'\n",
       "\\item 'vic'\n",
       "\\item 'vic'\n",
       "\\item 'act'\n",
       "\\end{enumerate*}\n"
      ],
      "text/markdown": [
       "1. 'tas'\n",
       "2. 'sa'\n",
       "3. 'qld'\n",
       "4. 'nsw'\n",
       "5. 'nsw'\n",
       "6. 'nt'\n",
       "7. 'wa'\n",
       "8. 'wa'\n",
       "9. 'qld'\n",
       "10. 'vic'\n",
       "11. 'nsw'\n",
       "12. 'vic'\n",
       "13. 'qld'\n",
       "14. 'qld'\n",
       "15. 'sa'\n",
       "16. 'tas'\n",
       "17. 'sa'\n",
       "18. 'nt'\n",
       "19. 'wa'\n",
       "20. 'vic'\n",
       "21. 'qld'\n",
       "22. 'nsw'\n",
       "23. 'nsw'\n",
       "24. 'wa'\n",
       "25. 'sa'\n",
       "26. 'act'\n",
       "27. 'nsw'\n",
       "28. 'vic'\n",
       "29. 'vic'\n",
       "30. 'act'\n",
       "\n",
       "\n"
      ],
      "text/plain": [
       " [1] \"tas\" \"sa\"  \"qld\" \"nsw\" \"nsw\" \"nt\"  \"wa\"  \"wa\"  \"qld\" \"vic\" \"nsw\" \"vic\"\n",
       "[13] \"qld\" \"qld\" \"sa\"  \"tas\" \"sa\"  \"nt\"  \"wa\"  \"vic\" \"qld\" \"nsw\" \"nsw\" \"wa\" \n",
       "[25] \"sa\"  \"act\" \"nsw\" \"vic\" \"vic\" \"act\""
      ]
     },
     "metadata": {},
     "output_type": "display_data"
    },
    {
     "data": {
      "text/html": [
       "<style>\n",
       ".list-inline {list-style: none; margin:0; padding: 0}\n",
       ".list-inline>li {display: inline-block}\n",
       ".list-inline>li:not(:last-child)::after {content: \"\\00b7\"; padding: 0 .5ex}\n",
       "</style>\n",
       "<ol class=list-inline><li>tas</li><li>sa</li><li>qld</li><li>nsw</li><li>nsw</li><li>nt</li><li>wa</li><li>wa</li><li>qld</li><li>vic</li><li>nsw</li><li>vic</li><li>qld</li><li>qld</li><li>sa</li><li>tas</li><li>sa</li><li>nt</li><li>wa</li><li>vic</li><li>qld</li><li>nsw</li><li>nsw</li><li>wa</li><li>sa</li><li>act</li><li>nsw</li><li>vic</li><li>vic</li><li>act</li></ol>\n",
       "\n",
       "<details>\n",
       "\t<summary style=display:list-item;cursor:pointer>\n",
       "\t\t<strong>Levels</strong>:\n",
       "\t</summary>\n",
       "\t<style>\n",
       "\t.list-inline {list-style: none; margin:0; padding: 0}\n",
       "\t.list-inline>li {display: inline-block}\n",
       "\t.list-inline>li:not(:last-child)::after {content: \"\\00b7\"; padding: 0 .5ex}\n",
       "\t</style>\n",
       "\t<ol class=list-inline><li>'act'</li><li>'nsw'</li><li>'nt'</li><li>'qld'</li><li>'sa'</li><li>'tas'</li><li>'vic'</li><li>'wa'</li></ol>\n",
       "</details>"
      ],
      "text/latex": [
       "\\begin{enumerate*}\n",
       "\\item tas\n",
       "\\item sa\n",
       "\\item qld\n",
       "\\item nsw\n",
       "\\item nsw\n",
       "\\item nt\n",
       "\\item wa\n",
       "\\item wa\n",
       "\\item qld\n",
       "\\item vic\n",
       "\\item nsw\n",
       "\\item vic\n",
       "\\item qld\n",
       "\\item qld\n",
       "\\item sa\n",
       "\\item tas\n",
       "\\item sa\n",
       "\\item nt\n",
       "\\item wa\n",
       "\\item vic\n",
       "\\item qld\n",
       "\\item nsw\n",
       "\\item nsw\n",
       "\\item wa\n",
       "\\item sa\n",
       "\\item act\n",
       "\\item nsw\n",
       "\\item vic\n",
       "\\item vic\n",
       "\\item act\n",
       "\\end{enumerate*}\n",
       "\n",
       "\\emph{Levels}: \\begin{enumerate*}\n",
       "\\item 'act'\n",
       "\\item 'nsw'\n",
       "\\item 'nt'\n",
       "\\item 'qld'\n",
       "\\item 'sa'\n",
       "\\item 'tas'\n",
       "\\item 'vic'\n",
       "\\item 'wa'\n",
       "\\end{enumerate*}\n"
      ],
      "text/markdown": [
       "1. tas\n",
       "2. sa\n",
       "3. qld\n",
       "4. nsw\n",
       "5. nsw\n",
       "6. nt\n",
       "7. wa\n",
       "8. wa\n",
       "9. qld\n",
       "10. vic\n",
       "11. nsw\n",
       "12. vic\n",
       "13. qld\n",
       "14. qld\n",
       "15. sa\n",
       "16. tas\n",
       "17. sa\n",
       "18. nt\n",
       "19. wa\n",
       "20. vic\n",
       "21. qld\n",
       "22. nsw\n",
       "23. nsw\n",
       "24. wa\n",
       "25. sa\n",
       "26. act\n",
       "27. nsw\n",
       "28. vic\n",
       "29. vic\n",
       "30. act\n",
       "\n",
       "\n",
       "\n",
       "**Levels**: 1. 'act'\n",
       "2. 'nsw'\n",
       "3. 'nt'\n",
       "4. 'qld'\n",
       "5. 'sa'\n",
       "6. 'tas'\n",
       "7. 'vic'\n",
       "8. 'wa'\n",
       "\n",
       "\n"
      ],
      "text/plain": [
       " [1] tas sa  qld nsw nsw nt  wa  wa  qld vic nsw vic qld qld sa  tas sa  nt  wa \n",
       "[20] vic qld nsw nsw wa  sa  act nsw vic vic act\n",
       "Levels: act nsw nt qld sa tas vic wa"
      ]
     },
     "metadata": {},
     "output_type": "display_data"
    }
   ],
   "source": [
    "state <- c(\"tas\", \"sa\", \"qld\", \"nsw\", \"nsw\", \"nt\", \"wa\", \"wa\",\n",
    "           \"qld\", \"vic\", \"nsw\", \"vic\", \"qld\", \"qld\", \"sa\", \"tas\",\n",
    "           \"sa\", \"nt\", \"wa\", \"vic\", \"qld\", \"nsw\", \"nsw\", \"wa\",\n",
    "           \"sa\", \"act\", \"nsw\", \"vic\", \"vic\", \"act\")\n",
    "state\n",
    "statef <- factor(state)\n",
    "statef"
   ]
  },
  {
   "cell_type": "markdown",
   "id": "dc5f09ec",
   "metadata": {},
   "source": [
    "EDA\n",
    "\n",
    "Measures of dispersion<br>\n",
    "Measures of skewness<br>\n",
    "Measures of kurtosis<br>\n",
    "Probability distributions<br>"
   ]
  },
  {
   "cell_type": "code",
   "execution_count": 166,
   "id": "ac91c62c",
   "metadata": {},
   "outputs": [
    {
     "ename": "ERROR",
     "evalue": "Error in cor(x, method = c(\"pearson\", \"kendall\", \"spearman\")): supply both 'x' and 'y' or a matrix-like 'x'\n",
     "output_type": "error",
     "traceback": [
      "Error in cor(x, method = c(\"pearson\", \"kendall\", \"spearman\")): supply both 'x' and 'y' or a matrix-like 'x'\nTraceback:\n",
      "1. cor(x, method = c(\"pearson\", \"kendall\", \"spearman\"))",
      "2. stop(\"supply both 'x' and 'y' or a matrix-like 'x'\")"
     ]
    }
   ],
   "source": [
    "cor(x, method = c(\"pearson\", \"kendall\", \"spearman\"))"
   ]
  },
  {
   "cell_type": "code",
   "execution_count": 171,
   "id": "1e784a8d",
   "metadata": {},
   "outputs": [
    {
     "ename": "ERROR",
     "evalue": "Error in cor(x, method = \"pearson\", use = \"complete.obs\"): supply both 'x' and 'y' or a matrix-like 'x'\n",
     "output_type": "error",
     "traceback": [
      "Error in cor(x, method = \"pearson\", use = \"complete.obs\"): supply both 'x' and 'y' or a matrix-like 'x'\nTraceback:\n",
      "1. cor(x, method = \"pearson\", use = \"complete.obs\")",
      "2. stop(\"supply both 'x' and 'y' or a matrix-like 'x'\")"
     ]
    }
   ],
   "source": [
    "cor(x, method = \"pearson\", use = \"complete.obs\")"
   ]
  },
  {
   "cell_type": "code",
   "execution_count": 172,
   "id": "ec35a28e",
   "metadata": {},
   "outputs": [
    {
     "name": "stderr",
     "output_type": "stream",
     "text": [
      "Warning message in file(file, \"rt\"):\n",
      "“cannot open file '6': No such file or directory”\n"
     ]
    },
    {
     "ename": "ERROR",
     "evalue": "Error in file(file, \"rt\"): cannot open the connection\n",
     "output_type": "error",
     "traceback": [
      "Error in file(file, \"rt\"): cannot open the connection\nTraceback:\n",
      "1. read.delim(file.choose())",
      "2. read.table(file = file, header = header, sep = sep, quote = quote, \n .     dec = dec, fill = fill, comment.char = comment.char, ...)",
      "3. file(file, \"rt\")"
     ]
    }
   ],
   "source": [
    "# If .txt tab file, use this\n",
    "my_data <- read.delim(file.choose())\n",
    "# Or, if .csv file, use this\n",
    "my_data <- read.csv(file.choose())"
   ]
  },
  {
   "cell_type": "code",
   "execution_count": 173,
   "id": "97bc6bee",
   "metadata": {},
   "outputs": [
    {
     "data": {
      "text/html": [
       "<table class=\"dataframe\">\n",
       "<caption>A data.frame: 6 × 6</caption>\n",
       "<thead>\n",
       "\t<tr><th></th><th scope=col>mpg</th><th scope=col>disp</th><th scope=col>hp</th><th scope=col>drat</th><th scope=col>wt</th><th scope=col>qsec</th></tr>\n",
       "\t<tr><th></th><th scope=col>&lt;dbl&gt;</th><th scope=col>&lt;dbl&gt;</th><th scope=col>&lt;dbl&gt;</th><th scope=col>&lt;dbl&gt;</th><th scope=col>&lt;dbl&gt;</th><th scope=col>&lt;dbl&gt;</th></tr>\n",
       "</thead>\n",
       "<tbody>\n",
       "\t<tr><th scope=row>Mazda RX4</th><td>21.0</td><td>160</td><td>110</td><td>3.90</td><td>2.620</td><td>16.46</td></tr>\n",
       "\t<tr><th scope=row>Mazda RX4 Wag</th><td>21.0</td><td>160</td><td>110</td><td>3.90</td><td>2.875</td><td>17.02</td></tr>\n",
       "\t<tr><th scope=row>Datsun 710</th><td>22.8</td><td>108</td><td> 93</td><td>3.85</td><td>2.320</td><td>18.61</td></tr>\n",
       "\t<tr><th scope=row>Hornet 4 Drive</th><td>21.4</td><td>258</td><td>110</td><td>3.08</td><td>3.215</td><td>19.44</td></tr>\n",
       "\t<tr><th scope=row>Hornet Sportabout</th><td>18.7</td><td>360</td><td>175</td><td>3.15</td><td>3.440</td><td>17.02</td></tr>\n",
       "\t<tr><th scope=row>Valiant</th><td>18.1</td><td>225</td><td>105</td><td>2.76</td><td>3.460</td><td>20.22</td></tr>\n",
       "</tbody>\n",
       "</table>\n"
      ],
      "text/latex": [
       "A data.frame: 6 × 6\n",
       "\\begin{tabular}{r|llllll}\n",
       "  & mpg & disp & hp & drat & wt & qsec\\\\\n",
       "  & <dbl> & <dbl> & <dbl> & <dbl> & <dbl> & <dbl>\\\\\n",
       "\\hline\n",
       "\tMazda RX4 & 21.0 & 160 & 110 & 3.90 & 2.620 & 16.46\\\\\n",
       "\tMazda RX4 Wag & 21.0 & 160 & 110 & 3.90 & 2.875 & 17.02\\\\\n",
       "\tDatsun 710 & 22.8 & 108 &  93 & 3.85 & 2.320 & 18.61\\\\\n",
       "\tHornet 4 Drive & 21.4 & 258 & 110 & 3.08 & 3.215 & 19.44\\\\\n",
       "\tHornet Sportabout & 18.7 & 360 & 175 & 3.15 & 3.440 & 17.02\\\\\n",
       "\tValiant & 18.1 & 225 & 105 & 2.76 & 3.460 & 20.22\\\\\n",
       "\\end{tabular}\n"
      ],
      "text/markdown": [
       "\n",
       "A data.frame: 6 × 6\n",
       "\n",
       "| <!--/--> | mpg &lt;dbl&gt; | disp &lt;dbl&gt; | hp &lt;dbl&gt; | drat &lt;dbl&gt; | wt &lt;dbl&gt; | qsec &lt;dbl&gt; |\n",
       "|---|---|---|---|---|---|---|\n",
       "| Mazda RX4 | 21.0 | 160 | 110 | 3.90 | 2.620 | 16.46 |\n",
       "| Mazda RX4 Wag | 21.0 | 160 | 110 | 3.90 | 2.875 | 17.02 |\n",
       "| Datsun 710 | 22.8 | 108 |  93 | 3.85 | 2.320 | 18.61 |\n",
       "| Hornet 4 Drive | 21.4 | 258 | 110 | 3.08 | 3.215 | 19.44 |\n",
       "| Hornet Sportabout | 18.7 | 360 | 175 | 3.15 | 3.440 | 17.02 |\n",
       "| Valiant | 18.1 | 225 | 105 | 2.76 | 3.460 | 20.22 |\n",
       "\n"
      ],
      "text/plain": [
       "                  mpg  disp hp  drat wt    qsec \n",
       "Mazda RX4         21.0 160  110 3.90 2.620 16.46\n",
       "Mazda RX4 Wag     21.0 160  110 3.90 2.875 17.02\n",
       "Datsun 710        22.8 108   93 3.85 2.320 18.61\n",
       "Hornet 4 Drive    21.4 258  110 3.08 3.215 19.44\n",
       "Hornet Sportabout 18.7 360  175 3.15 3.440 17.02\n",
       "Valiant           18.1 225  105 2.76 3.460 20.22"
      ]
     },
     "metadata": {},
     "output_type": "display_data"
    }
   ],
   "source": [
    "# Load data\n",
    "data(\"mtcars\")\n",
    "my_data <- mtcars[, c(1,3,4,5,6,7)]\n",
    "# print the first 6 rows\n",
    "head(my_data, 6)"
   ]
  },
  {
   "cell_type": "code",
   "execution_count": 170,
   "id": "26ed69a0",
   "metadata": {},
   "outputs": [
    {
     "data": {
      "text/html": [
       "<table class=\"dataframe\">\n",
       "<caption>A matrix: 6 × 6 of type dbl</caption>\n",
       "<thead>\n",
       "\t<tr><th></th><th scope=col>mpg</th><th scope=col>disp</th><th scope=col>hp</th><th scope=col>drat</th><th scope=col>wt</th><th scope=col>qsec</th></tr>\n",
       "</thead>\n",
       "<tbody>\n",
       "\t<tr><th scope=row>mpg</th><td> 1.00</td><td>-0.85</td><td>-0.78</td><td> 0.68</td><td>-0.87</td><td> 0.42</td></tr>\n",
       "\t<tr><th scope=row>disp</th><td>-0.85</td><td> 1.00</td><td> 0.79</td><td>-0.71</td><td> 0.89</td><td>-0.43</td></tr>\n",
       "\t<tr><th scope=row>hp</th><td>-0.78</td><td> 0.79</td><td> 1.00</td><td>-0.45</td><td> 0.66</td><td>-0.71</td></tr>\n",
       "\t<tr><th scope=row>drat</th><td> 0.68</td><td>-0.71</td><td>-0.45</td><td> 1.00</td><td>-0.71</td><td> 0.09</td></tr>\n",
       "\t<tr><th scope=row>wt</th><td>-0.87</td><td> 0.89</td><td> 0.66</td><td>-0.71</td><td> 1.00</td><td>-0.17</td></tr>\n",
       "\t<tr><th scope=row>qsec</th><td> 0.42</td><td>-0.43</td><td>-0.71</td><td> 0.09</td><td>-0.17</td><td> 1.00</td></tr>\n",
       "</tbody>\n",
       "</table>\n"
      ],
      "text/latex": [
       "A matrix: 6 × 6 of type dbl\n",
       "\\begin{tabular}{r|llllll}\n",
       "  & mpg & disp & hp & drat & wt & qsec\\\\\n",
       "\\hline\n",
       "\tmpg &  1.00 & -0.85 & -0.78 &  0.68 & -0.87 &  0.42\\\\\n",
       "\tdisp & -0.85 &  1.00 &  0.79 & -0.71 &  0.89 & -0.43\\\\\n",
       "\thp & -0.78 &  0.79 &  1.00 & -0.45 &  0.66 & -0.71\\\\\n",
       "\tdrat &  0.68 & -0.71 & -0.45 &  1.00 & -0.71 &  0.09\\\\\n",
       "\twt & -0.87 &  0.89 &  0.66 & -0.71 &  1.00 & -0.17\\\\\n",
       "\tqsec &  0.42 & -0.43 & -0.71 &  0.09 & -0.17 &  1.00\\\\\n",
       "\\end{tabular}\n"
      ],
      "text/markdown": [
       "\n",
       "A matrix: 6 × 6 of type dbl\n",
       "\n",
       "| <!--/--> | mpg | disp | hp | drat | wt | qsec |\n",
       "|---|---|---|---|---|---|---|\n",
       "| mpg |  1.00 | -0.85 | -0.78 |  0.68 | -0.87 |  0.42 |\n",
       "| disp | -0.85 |  1.00 |  0.79 | -0.71 |  0.89 | -0.43 |\n",
       "| hp | -0.78 |  0.79 |  1.00 | -0.45 |  0.66 | -0.71 |\n",
       "| drat |  0.68 | -0.71 | -0.45 |  1.00 | -0.71 |  0.09 |\n",
       "| wt | -0.87 |  0.89 |  0.66 | -0.71 |  1.00 | -0.17 |\n",
       "| qsec |  0.42 | -0.43 | -0.71 |  0.09 | -0.17 |  1.00 |\n",
       "\n"
      ],
      "text/plain": [
       "     mpg   disp  hp    drat  wt    qsec \n",
       "mpg   1.00 -0.85 -0.78  0.68 -0.87  0.42\n",
       "disp -0.85  1.00  0.79 -0.71  0.89 -0.43\n",
       "hp   -0.78  0.79  1.00 -0.45  0.66 -0.71\n",
       "drat  0.68 -0.71 -0.45  1.00 -0.71  0.09\n",
       "wt   -0.87  0.89  0.66 -0.71  1.00 -0.17\n",
       "qsec  0.42 -0.43 -0.71  0.09 -0.17  1.00"
      ]
     },
     "metadata": {},
     "output_type": "display_data"
    }
   ],
   "source": [
    "# compute corelation matrix\n",
    "res <- cor(my_data)\n",
    "round(res, 2)"
   ]
  },
  {
   "cell_type": "code",
   "execution_count": 169,
   "id": "67a1d761",
   "metadata": {},
   "outputs": [
    {
     "data": {
      "text/html": [
       "<table class=\"dataframe\">\n",
       "<caption>A matrix: 6 × 6 of type dbl</caption>\n",
       "<thead>\n",
       "\t<tr><th></th><th scope=col>mpg</th><th scope=col>disp</th><th scope=col>hp</th><th scope=col>drat</th><th scope=col>wt</th><th scope=col>qsec</th></tr>\n",
       "</thead>\n",
       "<tbody>\n",
       "\t<tr><th scope=row>mpg</th><td> 1.0000000</td><td>-0.8475514</td><td>-0.7761684</td><td> 0.68117191</td><td>-0.8676594</td><td> 0.41868403</td></tr>\n",
       "\t<tr><th scope=row>disp</th><td>-0.8475514</td><td> 1.0000000</td><td> 0.7909486</td><td>-0.71021393</td><td> 0.8879799</td><td>-0.43369788</td></tr>\n",
       "\t<tr><th scope=row>hp</th><td>-0.7761684</td><td> 0.7909486</td><td> 1.0000000</td><td>-0.44875912</td><td> 0.6587479</td><td>-0.70822339</td></tr>\n",
       "\t<tr><th scope=row>drat</th><td> 0.6811719</td><td>-0.7102139</td><td>-0.4487591</td><td> 1.00000000</td><td>-0.7124406</td><td> 0.09120476</td></tr>\n",
       "\t<tr><th scope=row>wt</th><td>-0.8676594</td><td> 0.8879799</td><td> 0.6587479</td><td>-0.71244065</td><td> 1.0000000</td><td>-0.17471588</td></tr>\n",
       "\t<tr><th scope=row>qsec</th><td> 0.4186840</td><td>-0.4336979</td><td>-0.7082234</td><td> 0.09120476</td><td>-0.1747159</td><td> 1.00000000</td></tr>\n",
       "</tbody>\n",
       "</table>\n"
      ],
      "text/latex": [
       "A matrix: 6 × 6 of type dbl\n",
       "\\begin{tabular}{r|llllll}\n",
       "  & mpg & disp & hp & drat & wt & qsec\\\\\n",
       "\\hline\n",
       "\tmpg &  1.0000000 & -0.8475514 & -0.7761684 &  0.68117191 & -0.8676594 &  0.41868403\\\\\n",
       "\tdisp & -0.8475514 &  1.0000000 &  0.7909486 & -0.71021393 &  0.8879799 & -0.43369788\\\\\n",
       "\thp & -0.7761684 &  0.7909486 &  1.0000000 & -0.44875912 &  0.6587479 & -0.70822339\\\\\n",
       "\tdrat &  0.6811719 & -0.7102139 & -0.4487591 &  1.00000000 & -0.7124406 &  0.09120476\\\\\n",
       "\twt & -0.8676594 &  0.8879799 &  0.6587479 & -0.71244065 &  1.0000000 & -0.17471588\\\\\n",
       "\tqsec &  0.4186840 & -0.4336979 & -0.7082234 &  0.09120476 & -0.1747159 &  1.00000000\\\\\n",
       "\\end{tabular}\n"
      ],
      "text/markdown": [
       "\n",
       "A matrix: 6 × 6 of type dbl\n",
       "\n",
       "| <!--/--> | mpg | disp | hp | drat | wt | qsec |\n",
       "|---|---|---|---|---|---|---|\n",
       "| mpg |  1.0000000 | -0.8475514 | -0.7761684 |  0.68117191 | -0.8676594 |  0.41868403 |\n",
       "| disp | -0.8475514 |  1.0000000 |  0.7909486 | -0.71021393 |  0.8879799 | -0.43369788 |\n",
       "| hp | -0.7761684 |  0.7909486 |  1.0000000 | -0.44875912 |  0.6587479 | -0.70822339 |\n",
       "| drat |  0.6811719 | -0.7102139 | -0.4487591 |  1.00000000 | -0.7124406 |  0.09120476 |\n",
       "| wt | -0.8676594 |  0.8879799 |  0.6587479 | -0.71244065 |  1.0000000 | -0.17471588 |\n",
       "| qsec |  0.4186840 | -0.4336979 | -0.7082234 |  0.09120476 | -0.1747159 |  1.00000000 |\n",
       "\n"
      ],
      "text/plain": [
       "     mpg        disp       hp         drat        wt         qsec       \n",
       "mpg   1.0000000 -0.8475514 -0.7761684  0.68117191 -0.8676594  0.41868403\n",
       "disp -0.8475514  1.0000000  0.7909486 -0.71021393  0.8879799 -0.43369788\n",
       "hp   -0.7761684  0.7909486  1.0000000 -0.44875912  0.6587479 -0.70822339\n",
       "drat  0.6811719 -0.7102139 -0.4487591  1.00000000 -0.7124406  0.09120476\n",
       "wt   -0.8676594  0.8879799  0.6587479 -0.71244065  1.0000000 -0.17471588\n",
       "qsec  0.4186840 -0.4336979 -0.7082234  0.09120476 -0.1747159  1.00000000"
      ]
     },
     "metadata": {},
     "output_type": "display_data"
    }
   ],
   "source": [
    "cor(my_data, use = \"complete.obs\")"
   ]
  },
  {
   "cell_type": "code",
   "execution_count": 168,
   "id": "e0de5cb9",
   "metadata": {},
   "outputs": [
    {
     "ename": "ERROR",
     "evalue": "Error in if (p < 1) stop(\"must have >1 column\"): argument is of length zero\n",
     "output_type": "error",
     "traceback": [
      "Error in if (p < 1) stop(\"must have >1 column\"): argument is of length zero\nTraceback:\n",
      "1. rcorr(x, type = c(\"pearson\", \"spearman\"))"
     ]
    }
   ],
   "source": [
    "rcorr(x, type = c(\"pearson\",\"spearman\"))"
   ]
  },
  {
   "cell_type": "code",
   "execution_count": 167,
   "id": "8fd22e99",
   "metadata": {},
   "outputs": [
    {
     "data": {
      "text/plain": [
       "       mpg  disp    hp  drat    wt  qsec\n",
       "mpg   1.00 -0.85 -0.78  0.68 -0.87  0.42\n",
       "disp -0.85  1.00  0.79 -0.71  0.89 -0.43\n",
       "hp   -0.78  0.79  1.00 -0.45  0.66 -0.71\n",
       "drat  0.68 -0.71 -0.45  1.00 -0.71  0.09\n",
       "wt   -0.87  0.89  0.66 -0.71  1.00 -0.17\n",
       "qsec  0.42 -0.43 -0.71  0.09 -0.17  1.00\n",
       "\n",
       "n= 32 \n",
       "\n",
       "\n",
       "P\n",
       "     mpg    disp   hp     drat   wt     qsec  \n",
       "mpg         0.0000 0.0000 0.0000 0.0000 0.0171\n",
       "disp 0.0000        0.0000 0.0000 0.0000 0.0131\n",
       "hp   0.0000 0.0000        0.0100 0.0000 0.0000\n",
       "drat 0.0000 0.0000 0.0100        0.0000 0.6196\n",
       "wt   0.0000 0.0000 0.0000 0.0000        0.3389\n",
       "qsec 0.0171 0.0131 0.0000 0.6196 0.3389       "
      ]
     },
     "metadata": {},
     "output_type": "display_data"
    }
   ],
   "source": [
    "library(\"Hmisc\")\n",
    "res2 <- rcorr(as.matrix(my_data))\n",
    "res2"
   ]
  },
  {
   "cell_type": "code",
   "execution_count": 174,
   "id": "f38333ad",
   "metadata": {},
   "outputs": [
    {
     "data": {
      "text/html": [
       "<table class=\"dataframe\">\n",
       "<caption>A matrix: 6 × 6 of type dbl</caption>\n",
       "<thead>\n",
       "\t<tr><th></th><th scope=col>mpg</th><th scope=col>disp</th><th scope=col>hp</th><th scope=col>drat</th><th scope=col>wt</th><th scope=col>qsec</th></tr>\n",
       "</thead>\n",
       "<tbody>\n",
       "\t<tr><th scope=row>mpg</th><td> 1.0000000</td><td>-0.8475514</td><td>-0.7761684</td><td> 0.68117191</td><td>-0.8676594</td><td> 0.41868403</td></tr>\n",
       "\t<tr><th scope=row>disp</th><td>-0.8475514</td><td> 1.0000000</td><td> 0.7909486</td><td>-0.71021393</td><td> 0.8879799</td><td>-0.43369788</td></tr>\n",
       "\t<tr><th scope=row>hp</th><td>-0.7761684</td><td> 0.7909486</td><td> 1.0000000</td><td>-0.44875912</td><td> 0.6587479</td><td>-0.70822339</td></tr>\n",
       "\t<tr><th scope=row>drat</th><td> 0.6811719</td><td>-0.7102139</td><td>-0.4487591</td><td> 1.00000000</td><td>-0.7124406</td><td> 0.09120476</td></tr>\n",
       "\t<tr><th scope=row>wt</th><td>-0.8676594</td><td> 0.8879799</td><td> 0.6587479</td><td>-0.71244065</td><td> 1.0000000</td><td>-0.17471588</td></tr>\n",
       "\t<tr><th scope=row>qsec</th><td> 0.4186840</td><td>-0.4336979</td><td>-0.7082234</td><td> 0.09120476</td><td>-0.1747159</td><td> 1.00000000</td></tr>\n",
       "</tbody>\n",
       "</table>\n"
      ],
      "text/latex": [
       "A matrix: 6 × 6 of type dbl\n",
       "\\begin{tabular}{r|llllll}\n",
       "  & mpg & disp & hp & drat & wt & qsec\\\\\n",
       "\\hline\n",
       "\tmpg &  1.0000000 & -0.8475514 & -0.7761684 &  0.68117191 & -0.8676594 &  0.41868403\\\\\n",
       "\tdisp & -0.8475514 &  1.0000000 &  0.7909486 & -0.71021393 &  0.8879799 & -0.43369788\\\\\n",
       "\thp & -0.7761684 &  0.7909486 &  1.0000000 & -0.44875912 &  0.6587479 & -0.70822339\\\\\n",
       "\tdrat &  0.6811719 & -0.7102139 & -0.4487591 &  1.00000000 & -0.7124406 &  0.09120476\\\\\n",
       "\twt & -0.8676594 &  0.8879799 &  0.6587479 & -0.71244065 &  1.0000000 & -0.17471588\\\\\n",
       "\tqsec &  0.4186840 & -0.4336979 & -0.7082234 &  0.09120476 & -0.1747159 &  1.00000000\\\\\n",
       "\\end{tabular}\n"
      ],
      "text/markdown": [
       "\n",
       "A matrix: 6 × 6 of type dbl\n",
       "\n",
       "| <!--/--> | mpg | disp | hp | drat | wt | qsec |\n",
       "|---|---|---|---|---|---|---|\n",
       "| mpg |  1.0000000 | -0.8475514 | -0.7761684 |  0.68117191 | -0.8676594 |  0.41868403 |\n",
       "| disp | -0.8475514 |  1.0000000 |  0.7909486 | -0.71021393 |  0.8879799 | -0.43369788 |\n",
       "| hp | -0.7761684 |  0.7909486 |  1.0000000 | -0.44875912 |  0.6587479 | -0.70822339 |\n",
       "| drat |  0.6811719 | -0.7102139 | -0.4487591 |  1.00000000 | -0.7124406 |  0.09120476 |\n",
       "| wt | -0.8676594 |  0.8879799 |  0.6587479 | -0.71244065 |  1.0000000 | -0.17471588 |\n",
       "| qsec |  0.4186840 | -0.4336979 | -0.7082234 |  0.09120476 | -0.1747159 |  1.00000000 |\n",
       "\n"
      ],
      "text/plain": [
       "     mpg        disp       hp         drat        wt         qsec       \n",
       "mpg   1.0000000 -0.8475514 -0.7761684  0.68117191 -0.8676594  0.41868403\n",
       "disp -0.8475514  1.0000000  0.7909486 -0.71021393  0.8879799 -0.43369788\n",
       "hp   -0.7761684  0.7909486  1.0000000 -0.44875912  0.6587479 -0.70822339\n",
       "drat  0.6811719 -0.7102139 -0.4487591  1.00000000 -0.7124406  0.09120476\n",
       "wt   -0.8676594  0.8879799  0.6587479 -0.71244065  1.0000000 -0.17471588\n",
       "qsec  0.4186840 -0.4336979 -0.7082234  0.09120476 -0.1747159  1.00000000"
      ]
     },
     "metadata": {},
     "output_type": "display_data"
    },
    {
     "data": {
      "text/html": [
       "<table class=\"dataframe\">\n",
       "<caption>A matrix: 6 × 6 of type dbl</caption>\n",
       "<thead>\n",
       "\t<tr><th></th><th scope=col>mpg</th><th scope=col>disp</th><th scope=col>hp</th><th scope=col>drat</th><th scope=col>wt</th><th scope=col>qsec</th></tr>\n",
       "</thead>\n",
       "<tbody>\n",
       "\t<tr><th scope=row>mpg</th><td>          NA</td><td>9.380328e-10</td><td>1.787835e-07</td><td>1.776240e-05</td><td>1.293958e-10</td><td>1.708199e-02</td></tr>\n",
       "\t<tr><th scope=row>disp</th><td>9.380328e-10</td><td>          NA</td><td>7.142679e-08</td><td>5.282022e-06</td><td>1.222311e-11</td><td>1.314404e-02</td></tr>\n",
       "\t<tr><th scope=row>hp</th><td>1.787835e-07</td><td>7.142679e-08</td><td>          NA</td><td>9.988772e-03</td><td>4.145827e-05</td><td>5.766253e-06</td></tr>\n",
       "\t<tr><th scope=row>drat</th><td>1.776240e-05</td><td>5.282022e-06</td><td>9.988772e-03</td><td>          NA</td><td>4.784260e-06</td><td>6.195826e-01</td></tr>\n",
       "\t<tr><th scope=row>wt</th><td>1.293958e-10</td><td>1.222311e-11</td><td>4.145827e-05</td><td>4.784260e-06</td><td>          NA</td><td>3.388683e-01</td></tr>\n",
       "\t<tr><th scope=row>qsec</th><td>1.708199e-02</td><td>1.314404e-02</td><td>5.766253e-06</td><td>6.195826e-01</td><td>3.388683e-01</td><td>          NA</td></tr>\n",
       "</tbody>\n",
       "</table>\n"
      ],
      "text/latex": [
       "A matrix: 6 × 6 of type dbl\n",
       "\\begin{tabular}{r|llllll}\n",
       "  & mpg & disp & hp & drat & wt & qsec\\\\\n",
       "\\hline\n",
       "\tmpg &           NA & 9.380328e-10 & 1.787835e-07 & 1.776240e-05 & 1.293958e-10 & 1.708199e-02\\\\\n",
       "\tdisp & 9.380328e-10 &           NA & 7.142679e-08 & 5.282022e-06 & 1.222311e-11 & 1.314404e-02\\\\\n",
       "\thp & 1.787835e-07 & 7.142679e-08 &           NA & 9.988772e-03 & 4.145827e-05 & 5.766253e-06\\\\\n",
       "\tdrat & 1.776240e-05 & 5.282022e-06 & 9.988772e-03 &           NA & 4.784260e-06 & 6.195826e-01\\\\\n",
       "\twt & 1.293958e-10 & 1.222311e-11 & 4.145827e-05 & 4.784260e-06 &           NA & 3.388683e-01\\\\\n",
       "\tqsec & 1.708199e-02 & 1.314404e-02 & 5.766253e-06 & 6.195826e-01 & 3.388683e-01 &           NA\\\\\n",
       "\\end{tabular}\n"
      ],
      "text/markdown": [
       "\n",
       "A matrix: 6 × 6 of type dbl\n",
       "\n",
       "| <!--/--> | mpg | disp | hp | drat | wt | qsec |\n",
       "|---|---|---|---|---|---|---|\n",
       "| mpg |           NA | 9.380328e-10 | 1.787835e-07 | 1.776240e-05 | 1.293958e-10 | 1.708199e-02 |\n",
       "| disp | 9.380328e-10 |           NA | 7.142679e-08 | 5.282022e-06 | 1.222311e-11 | 1.314404e-02 |\n",
       "| hp | 1.787835e-07 | 7.142679e-08 |           NA | 9.988772e-03 | 4.145827e-05 | 5.766253e-06 |\n",
       "| drat | 1.776240e-05 | 5.282022e-06 | 9.988772e-03 |           NA | 4.784260e-06 | 6.195826e-01 |\n",
       "| wt | 1.293958e-10 | 1.222311e-11 | 4.145827e-05 | 4.784260e-06 |           NA | 3.388683e-01 |\n",
       "| qsec | 1.708199e-02 | 1.314404e-02 | 5.766253e-06 | 6.195826e-01 | 3.388683e-01 |           NA |\n",
       "\n"
      ],
      "text/plain": [
       "     mpg          disp         hp           drat         wt          \n",
       "mpg            NA 9.380328e-10 1.787835e-07 1.776240e-05 1.293958e-10\n",
       "disp 9.380328e-10           NA 7.142679e-08 5.282022e-06 1.222311e-11\n",
       "hp   1.787835e-07 7.142679e-08           NA 9.988772e-03 4.145827e-05\n",
       "drat 1.776240e-05 5.282022e-06 9.988772e-03           NA 4.784260e-06\n",
       "wt   1.293958e-10 1.222311e-11 4.145827e-05 4.784260e-06           NA\n",
       "qsec 1.708199e-02 1.314404e-02 5.766253e-06 6.195826e-01 3.388683e-01\n",
       "     qsec        \n",
       "mpg  1.708199e-02\n",
       "disp 1.314404e-02\n",
       "hp   5.766253e-06\n",
       "drat 6.195826e-01\n",
       "wt   3.388683e-01\n",
       "qsec           NA"
      ]
     },
     "metadata": {},
     "output_type": "display_data"
    }
   ],
   "source": [
    "# Extract the correlation coefficients\n",
    "res2$r\n",
    "# Extract p-values\n",
    "res2$P"
   ]
  },
  {
   "cell_type": "code",
   "execution_count": 175,
   "id": "b3228a1c",
   "metadata": {},
   "outputs": [
    {
     "name": "stderr",
     "output_type": "stream",
     "text": [
      "corrplot 0.92 loaded\n",
      "\n"
     ]
    },
    {
     "data": {
      "image/png": "[encoded data removed]",
      "text/plain": [
       "Plot with title “”"
      ]
     },
     "metadata": {
      "image/png": {
       "height": 420,
       "width": 420
      }
     },
     "output_type": "display_data"
    }
   ],
   "source": [
    "library(corrplot)\n",
    "corrplot(res, type = \"upper\", order = \"hclust\", \n",
    "         tl.col = \"black\", tl.srt = 45)"
   ]
  },
  {
   "cell_type": "code",
   "execution_count": 176,
   "id": "fb4339e2",
   "metadata": {},
   "outputs": [
    {
     "ename": "ERROR",
     "evalue": "Error in data.frame(..., check.names = FALSE): arguments imply differing number of rows: 21, 15\n",
     "output_type": "error",
     "traceback": [
      "Error in data.frame(..., check.names = FALSE): arguments imply differing number of rows: 21, 15\nTraceback:\n",
      "1. corrplot(res2$r, type = \"upper\", order = \"hclust\", p.mat = res2$P, \n .     sig.level = 0.01, insig = \"blank\")",
      "2. cbind(corrPos, pNew)",
      "3. cbind(deparse.level, ...)",
      "4. data.frame(..., check.names = FALSE)",
      "5. stop(gettextf(\"arguments imply differing number of rows: %s\", \n .     paste(unique(nrows), collapse = \", \")), domain = NA)"
     ]
    },
    {
     "data": {
      "image/png": "[encoded data removed]",
      "text/plain": [
       "Plot with title “”"
      ]
     },
     "metadata": {
      "image/png": {
       "height": 420,
       "width": 420
      }
     },
     "output_type": "display_data"
    }
   ],
   "source": [
    "# Insignificant correlation are crossed\n",
    "corrplot(res2$r, type=\"upper\", order=\"hclust\", \n",
    "         p.mat = res2$P, sig.level = 0.01, insig = \"blank\")\n",
    "# Insignificant correlations are leaved blank\n",
    "corrplot(res2$r, type=\"upper\", order=\"hclust\", \n",
    "         p.mat = res2$P, sig.level = 0.01, insig = \"blank\")"
   ]
  },
  {
   "cell_type": "code",
   "execution_count": 177,
   "id": "0b358c02",
   "metadata": {},
   "outputs": [
    {
     "data": {
      "image/png": "[encoded data removed]",
      "text/plain": [
       "plot without title"
      ]
     },
     "metadata": {
      "image/png": {
       "height": 420,
       "width": 420
      }
     },
     "output_type": "display_data"
    }
   ],
   "source": [
    "# heatmap\n",
    "col<- colorRampPalette(c(\"blue\", \"white\", \"red\"))(20)\n",
    "heatmap(x = res, col = col, symm = TRUE)"
   ]
  },
  {
   "cell_type": "code",
   "execution_count": null,
   "id": "51060ab0",
   "metadata": {},
   "outputs": [],
   "source": []
  }
 ],
 "metadata": {
  "kernelspec": {
   "display_name": "R",
   "language": "R",
   "name": "r"
  },
  "language_info": {
   "codemirror_mode": "r",
   "file_extension": ".r",
   "mimetype": "text/x-r-source",
   "name": "R",
   "pygments_lexer": "r",
   "version": "4.2.2"
  }
 },
 "nbformat": 4,
 "nbformat_minor": 5
}
