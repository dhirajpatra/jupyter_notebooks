{
 "cells": [
  {
   "cell_type": "code",
   "execution_count": 1,
   "id": "cce45322",
   "metadata": {},
   "outputs": [],
   "source": [
    "import numpy as np\n",
    "import matplotlib.pyplot as plt\n",
    "from io import StringIO\n",
    "from IPython.core.interactiveshell import InteractiveShell\n",
    "InteractiveShell.ast_node_interactivity = \"all\""
   ]
  },
  {
   "cell_type": "code",
   "execution_count": 2,
   "id": "8175cd95",
   "metadata": {},
   "outputs": [
    {
     "data": {
      "text/plain": [
       "array([0.        , 0.22222222, 0.44444444, 0.66666667, 0.88888889,\n",
       "       1.11111111, 1.33333333, 1.55555556, 1.77777778, 2.        ])"
      ]
     },
     "execution_count": 2,
     "metadata": {},
     "output_type": "execute_result"
    }
   ],
   "source": [
    "# generate 10 numbers within 0 and 2\n",
    "a = np.linspace(0,2,10)\n",
    "a"
   ]
  },
  {
   "cell_type": "code",
   "execution_count": 3,
   "id": "9ca2c850",
   "metadata": {},
   "outputs": [
    {
     "data": {
      "text/plain": [
       "10"
      ]
     },
     "execution_count": 3,
     "metadata": {},
     "output_type": "execute_result"
    },
    {
     "data": {
      "text/plain": [
       "8"
      ]
     },
     "execution_count": 3,
     "metadata": {},
     "output_type": "execute_result"
    }
   ],
   "source": [
    "a.size\n",
    "a.itemsize"
   ]
  },
  {
   "cell_type": "code",
   "execution_count": 4,
   "id": "9c4e03f2",
   "metadata": {},
   "outputs": [
    {
     "data": {
      "text/plain": [
       "array([[0.        , 0.22222222, 0.44444444, 0.66666667, 0.88888889],\n",
       "       [1.11111111, 1.33333333, 1.55555556, 1.77777778, 2.        ]])"
      ]
     },
     "execution_count": 4,
     "metadata": {},
     "output_type": "execute_result"
    }
   ],
   "source": [
    "# -1 means auto calculation for 2nd dim\n",
    "a.reshape(2, -1)"
   ]
  },
  {
   "cell_type": "code",
   "execution_count": 5,
   "id": "12b3b1f2",
   "metadata": {},
   "outputs": [
    {
     "data": {
      "text/plain": [
       "array([0, 1, 2, 3, 4, 5, 6, 7, 8, 9])"
      ]
     },
     "execution_count": 5,
     "metadata": {},
     "output_type": "execute_result"
    }
   ],
   "source": [
    "b = np.arange(10)\n",
    "b"
   ]
  },
  {
   "cell_type": "code",
   "execution_count": 6,
   "id": "b61403e9",
   "metadata": {},
   "outputs": [
    {
     "data": {
      "text/plain": [
       "array([[0, 1, 2, 3, 4],\n",
       "       [5, 6, 7, 8, 9]])"
      ]
     },
     "execution_count": 6,
     "metadata": {},
     "output_type": "execute_result"
    }
   ],
   "source": [
    "b.reshape(2, -1)"
   ]
  },
  {
   "cell_type": "code",
   "execution_count": 7,
   "id": "764acbc7",
   "metadata": {},
   "outputs": [
    {
     "name": "stdout",
     "output_type": "stream",
     "text": [
      "[ 0.          0.22222222  0.88888889  2.          3.55555556  5.55555556\n",
      "  8.         10.88888889 14.22222222 18.        ]\n",
      "63.33333333333333\n",
      "63.33333333333333\n"
     ]
    }
   ],
   "source": [
    "print(a*b)\n",
    "print(a@b)\n",
    "print(a.dot(b))"
   ]
  },
  {
   "cell_type": "code",
   "execution_count": 8,
   "id": "497206b2",
   "metadata": {},
   "outputs": [
    {
     "data": {
      "text/plain": [
       "array([0.        , 0.22222222, 0.44444444, 0.66666667, 0.88888889,\n",
       "       1.11111111, 1.33333333, 1.55555556, 1.77777778, 2.        ])"
      ]
     },
     "execution_count": 8,
     "metadata": {},
     "output_type": "execute_result"
    }
   ],
   "source": [
    "# flaten to 1D\n",
    "a.ravel()"
   ]
  },
  {
   "cell_type": "code",
   "execution_count": 9,
   "id": "9bea16db",
   "metadata": {},
   "outputs": [
    {
     "data": {
      "text/plain": [
       "array([False,  True,  True,  True,  True,  True,  True,  True,  True,\n",
       "        True])"
      ]
     },
     "execution_count": 9,
     "metadata": {},
     "output_type": "execute_result"
    },
    {
     "data": {
      "text/plain": [
       "array([ True, False, False, False, False, False, False, False, False,\n",
       "       False])"
      ]
     },
     "execution_count": 9,
     "metadata": {},
     "output_type": "execute_result"
    }
   ],
   "source": [
    "b > a\n",
    "a == b"
   ]
  },
  {
   "cell_type": "code",
   "execution_count": 10,
   "id": "7c749b6d",
   "metadata": {},
   "outputs": [
    {
     "name": "stdout",
     "output_type": "stream",
     "text": [
      "[[0.        ]\n",
      " [0.22222222]\n",
      " [0.44444444]\n",
      " [0.66666667]\n",
      " [0.88888889]\n",
      " [1.11111111]\n",
      " [1.33333333]\n",
      " [1.55555556]\n",
      " [1.77777778]\n",
      " [2.        ]] [[0 1 2 3 4 5 6 7 8 9]]\n"
     ]
    }
   ],
   "source": [
    "ax,bx = np.ix_(a,b)\n",
    "print(ax,bx)"
   ]
  },
  {
   "cell_type": "code",
   "execution_count": 11,
   "id": "6567abb2",
   "metadata": {},
   "outputs": [
    {
     "name": "stdout",
     "output_type": "stream",
     "text": [
      "[[0.         0.22222222 0.44444444 0.66666667 0.88888889]\n",
      " [1.11111111 1.33333333 1.55555556 1.77777778 2.        ]]\n"
     ]
    },
    {
     "data": {
      "text/plain": [
       "array([[0.        , 1.11111111],\n",
       "       [0.22222222, 1.33333333],\n",
       "       [0.44444444, 1.55555556],\n",
       "       [0.66666667, 1.77777778],\n",
       "       [0.88888889, 2.        ]])"
      ]
     },
     "execution_count": 11,
     "metadata": {},
     "output_type": "execute_result"
    }
   ],
   "source": [
    "a = np.linspace(0,2,10).reshape(2,-1)\n",
    "print(a)\n",
    "a.transpose()"
   ]
  },
  {
   "cell_type": "code",
   "execution_count": 12,
   "id": "6bd87db4",
   "metadata": {},
   "outputs": [
    {
     "data": {
      "text/plain": [
       "array([[1., 2.],\n",
       "       [3., 4.]])"
      ]
     },
     "execution_count": 12,
     "metadata": {},
     "output_type": "execute_result"
    },
    {
     "data": {
      "text/plain": [
       "array([[-2. ,  1. ],\n",
       "       [ 1.5, -0.5]])"
      ]
     },
     "execution_count": 12,
     "metadata": {},
     "output_type": "execute_result"
    }
   ],
   "source": [
    "x = np.array([[1.0, 2.0], [3.0, 4.0]])\n",
    "x\n",
    "# linear algebra\n",
    "np.linalg.inv(x)"
   ]
  },
  {
   "cell_type": "code",
   "execution_count": 13,
   "id": "62c7cc3b",
   "metadata": {},
   "outputs": [],
   "source": [
    "y = np.array([[5.], [7.]])"
   ]
  },
  {
   "cell_type": "code",
   "execution_count": 14,
   "id": "a010b2d6",
   "metadata": {},
   "outputs": [
    {
     "data": {
      "text/plain": [
       "array([[-3.],\n",
       "       [ 4.]])"
      ]
     },
     "execution_count": 14,
     "metadata": {},
     "output_type": "execute_result"
    }
   ],
   "source": [
    "np.linalg.solve(x, y)"
   ]
  },
  {
   "cell_type": "code",
   "execution_count": 15,
   "id": "ee5d3dae",
   "metadata": {},
   "outputs": [
    {
     "data": {
      "text/plain": [
       "62"
      ]
     },
     "execution_count": 15,
     "metadata": {},
     "output_type": "execute_result"
    }
   ],
   "source": [
    "r = np.random.randint(10,90)\n",
    "r"
   ]
  },
  {
   "cell_type": "code",
   "execution_count": 16,
   "id": "93d13c3e",
   "metadata": {},
   "outputs": [
    {
     "data": {
      "text/plain": [
       "array([10, 11, 12, 13, 14, 15, 16, 17, 18, 19, 20, 21, 22, 23, 24, 25, 26,\n",
       "       27, 28, 29, 30, 31, 32, 33, 34, 35, 36, 37, 38, 39, 40, 41, 42, 43,\n",
       "       44, 45, 46, 47, 48, 49, 50, 51, 52, 53, 54, 55, 56, 57, 58, 59, 60,\n",
       "       61, 62, 63, 64, 65, 66, 67, 68, 69, 70, 71, 72, 73, 74, 75, 76, 77,\n",
       "       78, 79, 80, 81, 82, 83, 84, 85, 86, 87, 88, 89, 90])"
      ]
     },
     "execution_count": 16,
     "metadata": {},
     "output_type": "execute_result"
    }
   ],
   "source": [
    "r = np.arange(10, 91)\n",
    "r"
   ]
  },
  {
   "cell_type": "code",
   "execution_count": 17,
   "id": "05e66816",
   "metadata": {},
   "outputs": [
    {
     "data": {
      "text/plain": [
       "(array([0.0024891 , 0.0024891 , 0.00622275, 0.00124455, 0.00373365,\n",
       "        0.01742369, 0.02862463, 0.02862463, 0.04604832, 0.07218386,\n",
       "        0.09956394, 0.13565587, 0.17548145, 0.22775251, 0.29246908,\n",
       "        0.37460933, 0.40945671, 0.48910786, 0.61356278, 0.68076844,\n",
       "        0.71063763, 0.76539779, 0.81517976, 0.72432767, 0.79402243,\n",
       "        0.78282148, 0.68574664, 0.64343197, 0.57000356, 0.46048323,\n",
       "        0.416924  , 0.36465293, 0.23521981, 0.21032882, 0.1667696 ,\n",
       "        0.11574308, 0.07965115, 0.06596111, 0.04853742, 0.03733648,\n",
       "        0.02115734, 0.00871184, 0.0049782 , 0.0024891 , 0.00124455,\n",
       "        0.0024891 , 0.00124455, 0.        , 0.00124455, 0.00124455]),\n",
       " array([0.11805328, 0.19840366, 0.27875403, 0.35910441, 0.43945478,\n",
       "        0.51980516, 0.60015553, 0.68050591, 0.76085629, 0.84120666,\n",
       "        0.92155704, 1.00190741, 1.08225779, 1.16260816, 1.24295854,\n",
       "        1.32330891, 1.40365929, 1.48400966, 1.56436004, 1.64471041,\n",
       "        1.72506079, 1.80541116, 1.88576154, 1.96611191, 2.04646229,\n",
       "        2.12681266, 2.20716304, 2.28751342, 2.36786379, 2.44821417,\n",
       "        2.52856454, 2.60891492, 2.68926529, 2.76961567, 2.84996604,\n",
       "        2.93031642, 3.01066679, 3.09101717, 3.17136754, 3.25171792,\n",
       "        3.33206829, 3.41241867, 3.49276904, 3.57311942, 3.65346979,\n",
       "        3.73382017, 3.81417055, 3.89452092, 3.9748713 , 4.05522167,\n",
       "        4.13557205]),\n",
       " <BarContainer object of 50 artists>)"
      ]
     },
     "execution_count": 17,
     "metadata": {},
     "output_type": "execute_result"
    },
    {
     "data": {
      "image/png": "[encoded data removed]",
      "text/plain": [
       "<Figure size 432x288 with 1 Axes>"
      ]
     },
     "metadata": {
      "needs_background": "light"
     },
     "output_type": "display_data"
    }
   ],
   "source": [
    "mu, sigma = 2, 0.5\n",
    "# Build a vector of 10000 normal deviates with variance 0.5^2 and mean 2\n",
    "v = np.random.normal(mu, sigma, 10000)\n",
    "# Plot a normalized histogram with 50 bins\n",
    "plt.hist(v, bins=50, density=1)"
   ]
  },
  {
   "cell_type": "code",
   "execution_count": 18,
   "id": "040b7c4c",
   "metadata": {},
   "outputs": [
    {
     "data": {
      "text/plain": [
       "[<matplotlib.lines.Line2D at 0x7f78f8152fd0>]"
      ]
     },
     "execution_count": 18,
     "metadata": {},
     "output_type": "execute_result"
    },
    {
     "data": {
      "image/png": "[encoded data removed]",
      "text/plain": [
       "<Figure size 432x288 with 1 Axes>"
      ]
     },
     "metadata": {
      "needs_background": "light"
     },
     "output_type": "display_data"
    }
   ],
   "source": [
    "# compute with numpy\n",
    "(n, bins) = np.histogram(v, bins=50, density=True)\n",
    "plt.plot(.5*(bins[1:]+bins[:-1]), n)\n",
    "plt.show()"
   ]
  },
  {
   "cell_type": "code",
   "execution_count": 19,
   "id": "5d6d9b0c",
   "metadata": {},
   "outputs": [
    {
     "data": {
      "text/plain": [
       "array([0, 1, 2], dtype=uint8)"
      ]
     },
     "execution_count": 19,
     "metadata": {},
     "output_type": "execute_result"
    }
   ],
   "source": [
    "z = np.arange(3, dtype=np.uint8)\n",
    "z"
   ]
  },
  {
   "cell_type": "code",
   "execution_count": 20,
   "id": "5c38035b",
   "metadata": {},
   "outputs": [
    {
     "data": {
      "text/plain": [
       "array([0., 1., 2.], dtype=float32)"
      ]
     },
     "execution_count": 20,
     "metadata": {},
     "output_type": "execute_result"
    }
   ],
   "source": [
    "z = np.arange(3, dtype='f')\n",
    "z"
   ]
  },
  {
   "cell_type": "code",
   "execution_count": 21,
   "id": "a9ac3b29",
   "metadata": {},
   "outputs": [
    {
     "name": "stdout",
     "output_type": "stream",
     "text": [
      "[0. 1. 2.]\n"
     ]
    },
    {
     "data": {
      "text/plain": [
       "array([0, 1, 2], dtype=uint8)"
      ]
     },
     "execution_count": 21,
     "metadata": {},
     "output_type": "execute_result"
    }
   ],
   "source": [
    "print(z)\n",
    "z.astype('uint8')"
   ]
  },
  {
   "cell_type": "code",
   "execution_count": 22,
   "id": "695736a6",
   "metadata": {},
   "outputs": [
    {
     "name": "stdout",
     "output_type": "stream",
     "text": [
      "10000000000000000\n",
      "1874919424\n"
     ]
    }
   ],
   "source": [
    "# overflow errors to evaluate 100 * 10 ** 8 \n",
    "print(np.power(100, 8, dtype=np.int64))\n",
    "print(np.power(100, 8, dtype=np.int32))\n"
   ]
  },
  {
   "cell_type": "code",
   "execution_count": 23,
   "id": "992c930c",
   "metadata": {},
   "outputs": [
    {
     "data": {
      "text/plain": [
       "iinfo(min=-9223372036854775808, max=9223372036854775807, dtype=int64)"
      ]
     },
     "execution_count": 23,
     "metadata": {},
     "output_type": "execute_result"
    }
   ],
   "source": [
    "# numpy default int\n",
    "np.iinfo(int)"
   ]
  },
  {
   "cell_type": "code",
   "execution_count": 24,
   "id": "cf23c406",
   "metadata": {},
   "outputs": [
    {
     "data": {
      "text/plain": [
       "array([[0., 0., 0.],\n",
       "       [0., 0., 0.]])"
      ]
     },
     "execution_count": 24,
     "metadata": {},
     "output_type": "execute_result"
    }
   ],
   "source": [
    "np.zeros((2,3))"
   ]
  },
  {
   "cell_type": "code",
   "execution_count": 25,
   "id": "738a110e",
   "metadata": {
    "slideshow": {
     "slide_type": "-"
    }
   },
   "outputs": [
    {
     "name": "stdout",
     "output_type": "stream",
     "text": [
      "[0 1 2 3 4 5 6 7 8 9]\n",
      "[2. 3. 4. 5. 6. 7. 8. 9.]\n",
      "[2.  2.1 2.2 2.3 2.4 2.5 2.6 2.7 2.8 2.9]\n"
     ]
    }
   ],
   "source": [
    "print(np.arange(10))\n",
    "print(np.arange(2, 10, dtype=float))\n",
    "print(np.arange(2, 3, 0.1))"
   ]
  },
  {
   "cell_type": "code",
   "execution_count": 26,
   "id": "096f3218",
   "metadata": {},
   "outputs": [
    {
     "data": {
      "text/plain": [
       "array([[0.        , 0.22222222, 0.44444444, 0.66666667, 0.88888889],\n",
       "       [1.11111111, 1.33333333, 1.55555556, 1.77777778, 2.        ]])"
      ]
     },
     "execution_count": 26,
     "metadata": {},
     "output_type": "execute_result"
    },
    {
     "data": {
      "text/plain": [
       "array([0, 1, 2, 3, 4, 5, 6, 7, 8, 9])"
      ]
     },
     "execution_count": 26,
     "metadata": {},
     "output_type": "execute_result"
    }
   ],
   "source": [
    "a\n",
    "b"
   ]
  },
  {
   "cell_type": "code",
   "execution_count": 27,
   "id": "310c5ed1",
   "metadata": {},
   "outputs": [
    {
     "data": {
      "text/plain": [
       "array([[[0, 0, 0],\n",
       "        [1, 1, 1],\n",
       "        [2, 2, 2]],\n",
       "\n",
       "       [[0, 1, 2],\n",
       "        [0, 1, 2],\n",
       "        [0, 1, 2]]])"
      ]
     },
     "execution_count": 27,
     "metadata": {},
     "output_type": "execute_result"
    }
   ],
   "source": [
    "np.indices((3, 3))"
   ]
  },
  {
   "cell_type": "code",
   "execution_count": 28,
   "id": "c8f3221f",
   "metadata": {},
   "outputs": [
    {
     "data": {
      "text/plain": [
       "array([['1', ' abc ', ' 2'],\n",
       "       ['3', ' xxx', ' 4']], dtype='<U5')"
      ]
     },
     "execution_count": 28,
     "metadata": {},
     "output_type": "execute_result"
    }
   ],
   "source": [
    "data = u\"1, abc , 2\\n 3, xxx, 4\"\n",
    "np.genfromtxt(StringIO(data), delimiter=\",\", dtype=\"|U5\")"
   ]
  },
  {
   "cell_type": "code",
   "execution_count": 29,
   "id": "b4ce387e",
   "metadata": {},
   "outputs": [
    {
     "data": {
      "text/plain": [
       "array([2, 3, 4])"
      ]
     },
     "execution_count": 29,
     "metadata": {},
     "output_type": "execute_result"
    },
    {
     "data": {
      "text/plain": [
       "array([0, 1, 2])"
      ]
     },
     "execution_count": 29,
     "metadata": {},
     "output_type": "execute_result"
    },
    {
     "data": {
      "text/plain": [
       "array([1, 3, 5])"
      ]
     },
     "execution_count": 29,
     "metadata": {},
     "output_type": "execute_result"
    }
   ],
   "source": [
    "x = np.arange(10)\n",
    "x[2:5]\n",
    "x[:-7]\n",
    "x[1:7:2]"
   ]
  },
  {
   "cell_type": "code",
   "execution_count": 30,
   "id": "6ba87193",
   "metadata": {},
   "outputs": [
    {
     "data": {
      "text/plain": [
       "array([[ 0,  1,  2,  3,  4,  5,  6],\n",
       "       [ 7,  8,  9, 10, 11, 12, 13],\n",
       "       [14, 15, 16, 17, 18, 19, 20],\n",
       "       [21, 22, 23, 24, 25, 26, 27],\n",
       "       [28, 29, 30, 31, 32, 33, 34]])"
      ]
     },
     "execution_count": 30,
     "metadata": {},
     "output_type": "execute_result"
    },
    {
     "data": {
      "text/plain": [
       "array([[ 7, 10, 13],\n",
       "       [21, 24, 27]])"
      ]
     },
     "execution_count": 30,
     "metadata": {},
     "output_type": "execute_result"
    }
   ],
   "source": [
    "y = np.arange(35).reshape(5,7)\n",
    "y\n",
    "# rows- from 1 to 5 alternate\n",
    "# cols- from 0 to end every 3rd\n",
    "y[1:5:2,::3]"
   ]
  },
  {
   "cell_type": "code",
   "execution_count": 31,
   "id": "9b5ea817",
   "metadata": {},
   "outputs": [
    {
     "data": {
      "text/plain": [
       "array([[False,  True,  True,  True,  True,  True,  True],\n",
       "       [ True,  True,  True,  True,  True,  True,  True],\n",
       "       [ True,  True,  True,  True,  True,  True,  True],\n",
       "       [ True,  True,  True,  True,  True,  True,  True],\n",
       "       [ True,  True,  True,  True,  True,  True,  True]])"
      ]
     },
     "execution_count": 31,
     "metadata": {},
     "output_type": "execute_result"
    }
   ],
   "source": [
    "z = np.zeros(35).reshape(5,7)\n",
    "y > z"
   ]
  },
  {
   "cell_type": "code",
   "execution_count": 32,
   "id": "e7835c17",
   "metadata": {},
   "outputs": [
    {
     "data": {
      "text/plain": [
       "array([[1., 1., 1.],\n",
       "       [1., 1., 1.]])"
      ]
     },
     "execution_count": 32,
     "metadata": {},
     "output_type": "execute_result"
    }
   ],
   "source": [
    "np.ones(6).reshape(2,3)"
   ]
  },
  {
   "cell_type": "code",
   "execution_count": 33,
   "id": "dfbbccf3",
   "metadata": {},
   "outputs": [
    {
     "data": {
      "text/plain": [
       "array([('Rex', 9, 81.), ('Fido', 3, 27.)],\n",
       "      dtype=[('name', '<U10'), ('age', '<i4'), ('weight', '<f4')])"
      ]
     },
     "execution_count": 33,
     "metadata": {},
     "output_type": "execute_result"
    },
    {
     "data": {
      "text/plain": [
       "array([9, 3], dtype=int32)"
      ]
     },
     "execution_count": 33,
     "metadata": {},
     "output_type": "execute_result"
    }
   ],
   "source": [
    "x = np.array([('Rex', 9, 81.0), ('Fido', 3, 27.0)], \n",
    "             dtype=[('name', 'U10'), ('age', 'i4'), ('weight', 'f4')])\n",
    "x\n",
    "x['age']"
   ]
  },
  {
   "cell_type": "code",
   "execution_count": 34,
   "id": "06ceda2f",
   "metadata": {},
   "outputs": [
    {
     "data": {
      "text/plain": [
       "array([(0, 0., False, b''), (0, 0., False, b'')],\n",
       "      dtype=[('f0', '<i8'), ('f1', '<f4'), ('f2', '?'), ('f3', 'S1')])"
      ]
     },
     "execution_count": 34,
     "metadata": {},
     "output_type": "execute_result"
    }
   ],
   "source": [
    "# A scalar assigned to a structured element will be assigned to all fields\n",
    "x = np.zeros(2, dtype='i8, f4, ?, S1')\n",
    "x"
   ]
  },
  {
   "cell_type": "code",
   "execution_count": 35,
   "id": "f1ec7b8b",
   "metadata": {},
   "outputs": [
    {
     "data": {
      "text/plain": [
       "array([[0.        , 0.22222222, 0.44444444, 0.66666667, 0.88888889],\n",
       "       [1.11111111, 1.33333333, 1.55555556, 1.77777778, 2.        ]])"
      ]
     },
     "execution_count": 35,
     "metadata": {},
     "output_type": "execute_result"
    },
    {
     "data": {
      "text/plain": [
       "1.0"
      ]
     },
     "execution_count": 35,
     "metadata": {},
     "output_type": "execute_result"
    }
   ],
   "source": [
    "a\n",
    "a.mean()"
   ]
  },
  {
   "cell_type": "code",
   "execution_count": 36,
   "id": "d484bf99",
   "metadata": {},
   "outputs": [
    {
     "data": {
      "text/plain": [
       "[0.0,\n",
       " 0.2222222222222222,\n",
       " 0.4444444444444444,\n",
       " 0.6666666666666666,\n",
       " 0.8888888888888888,\n",
       " 1.1111111111111112,\n",
       " 1.3333333333333333,\n",
       " 1.5555555555555554,\n",
       " 1.7777777777777777,\n",
       " 2.0]"
      ]
     },
     "execution_count": 36,
     "metadata": {},
     "output_type": "execute_result"
    }
   ],
   "source": [
    "[x for x in a.flat]"
   ]
  },
  {
   "cell_type": "code",
   "execution_count": 37,
   "id": "4db59f7c",
   "metadata": {},
   "outputs": [
    {
     "data": {
      "text/plain": [
       "array([[5., 9.],\n",
       "       [1., 9.]])"
      ]
     },
     "execution_count": 37,
     "metadata": {},
     "output_type": "execute_result"
    }
   ],
   "source": [
    "rg = np.random.default_rng(1)\n",
    "f = np.floor(10 * rg.random((2, 2)))\n",
    "f"
   ]
  },
  {
   "cell_type": "code",
   "execution_count": 38,
   "id": "ebddfabb",
   "metadata": {},
   "outputs": [
    {
     "data": {
      "text/plain": [
       "array([[[0.        ]],\n",
       "\n",
       "       [[0.22222222]],\n",
       "\n",
       "       [[0.44444444]],\n",
       "\n",
       "       [[0.66666667]],\n",
       "\n",
       "       [[0.88888889]],\n",
       "\n",
       "       [[1.11111111]],\n",
       "\n",
       "       [[1.33333333]],\n",
       "\n",
       "       [[1.55555556]],\n",
       "\n",
       "       [[1.77777778]],\n",
       "\n",
       "       [[2.        ]]])"
      ]
     },
     "execution_count": 38,
     "metadata": {},
     "output_type": "execute_result"
    },
    {
     "data": {
      "text/plain": [
       "array([[[0],\n",
       "        [1],\n",
       "        [2],\n",
       "        [3],\n",
       "        [4],\n",
       "        [5],\n",
       "        [6],\n",
       "        [7],\n",
       "        [8],\n",
       "        [9]]])"
      ]
     },
     "execution_count": 38,
     "metadata": {},
     "output_type": "execute_result"
    },
    {
     "data": {
      "text/plain": [
       "array([[[5., 9., 1., 9.]]])"
      ]
     },
     "execution_count": 38,
     "metadata": {},
     "output_type": "execute_result"
    }
   ],
   "source": [
    "ax, bx, cx = np.ix_(a.ravel(), b.ravel(), f.ravel())\n",
    "ax\n",
    "bx\n",
    "cx"
   ]
  },
  {
   "cell_type": "code",
   "execution_count": 42,
   "id": "2e42e92d",
   "metadata": {},
   "outputs": [
    {
     "data": {
      "text/plain": [
       "array([[[ 0,  1],\n",
       "        [ 2,  3]],\n",
       "\n",
       "       [[ 4,  5],\n",
       "        [ 6,  7]],\n",
       "\n",
       "       [[ 8,  9],\n",
       "        [10, 11]]])"
      ]
     },
     "execution_count": 42,
     "metadata": {},
     "output_type": "execute_result"
    }
   ],
   "source": [
    "t = np.arange(12).reshape(3,2,2)\n",
    "t"
   ]
  },
  {
   "cell_type": "code",
   "execution_count": null,
   "id": "0a1ceb46",
   "metadata": {},
   "outputs": [],
   "source": []
  }
 ],
 "metadata": {
  "kernelspec": {
   "display_name": "Python 3 (ipykernel)",
   "language": "python",
   "name": "python3"
  },
  "language_info": {
   "codemirror_mode": {
    "name": "ipython",
    "version": 3
   },
   "file_extension": ".py",
   "mimetype": "text/x-python",
   "name": "python",
   "nbconvert_exporter": "python",
   "pygments_lexer": "ipython3",
   "version": "3.9.7"
  }
 },
 "nbformat": 4,
 "nbformat_minor": 5
}
