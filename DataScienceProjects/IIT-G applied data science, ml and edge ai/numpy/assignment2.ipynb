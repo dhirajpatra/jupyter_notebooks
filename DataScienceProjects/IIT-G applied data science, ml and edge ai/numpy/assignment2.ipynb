{
 "cells": [
  {
   "cell_type": "code",
   "execution_count": 129,
   "id": "937fef9a",
   "metadata": {},
   "outputs": [],
   "source": [
    "import numpy as np\n",
    "import pandas as pd"
   ]
  },
  {
   "cell_type": "markdown",
   "id": "0ee31a0b",
   "metadata": {},
   "source": [
    "#### 1. Create the NumPy array with values (1,2,3).\n",
    "#### Create a second N umpy array with values (4,5,6).\n",
    "#### Perform simple arithmetic operations on these two\n",
    "#### N umpy arrays:\n",
    "#### a. Addition\n",
    "#### b. Subtraction\n",
    "#### c. Multiplication\n",
    "#### d. Division"
   ]
  },
  {
   "cell_type": "code",
   "execution_count": 130,
   "id": "5f2edbb3",
   "metadata": {},
   "outputs": [
    {
     "name": "stdout",
     "output_type": "stream",
     "text": [
      "a + b [5 7 9]\n",
      "a - b [-3 -3 -3]\n",
      "a * b [ 4 10 18]\n",
      "a / b [0.25 0.4  0.5 ]\n"
     ]
    }
   ],
   "source": [
    "a = np.array([1,2,3])\n",
    "b = np.array([4,5,6])\n",
    "print(f\"a + b {a+b}\")\n",
    "print(f\"a - b {a-b}\")\n",
    "print(f\"a * b {a*b}\")\n",
    "print(f\"a / b {a/b}\")"
   ]
  },
  {
   "cell_type": "markdown",
   "id": "691ab8e1",
   "metadata": {},
   "source": [
    "#### 2. Create a Numpy array with values 10 - 90 and set the shape to be 9 * 9\n",
    "\n",
    "#### a. Extract only the 3rd column from the Numpy array.\n",
    "\n",
    "#### b. Extract only the 2nd row from the Numpy array\n",
    "\n",
    "#### c. Extract those cells at the intersection of first two rows and first two columns."
   ]
  },
  {
   "cell_type": "code",
   "execution_count": 131,
   "id": "55a9e816",
   "metadata": {},
   "outputs": [
    {
     "name": "stdout",
     "output_type": "stream",
     "text": [
      "(81,)\n",
      "[[10 11 12 13 14 15 16 17 18]\n",
      " [19 20 21 22 23 24 25 26 27]\n",
      " [28 29 30 31 32 33 34 35 36]\n",
      " [37 38 39 40 41 42 43 44 45]\n",
      " [46 47 48 49 50 51 52 53 54]\n",
      " [55 56 57 58 59 60 61 62 63]\n",
      " [64 65 66 67 68 69 70 71 72]\n",
      " [73 74 75 76 77 78 79 80 81]\n",
      " [82 83 84 85 86 87 88 89 90]]\n",
      "[[12]\n",
      " [21]\n",
      " [30]\n",
      " [39]\n",
      " [48]\n",
      " [57]\n",
      " [66]\n",
      " [75]\n",
      " [84]]\n",
      "[19 20 21 22 23 24 25 26 27]\n",
      "[[10 11]\n",
      " [19 20]]\n"
     ]
    }
   ],
   "source": [
    "a = np.arange(10, 91)\n",
    "print(a.shape)\n",
    "\n",
    "a = a.reshape([9,9])\n",
    "print(a)\n",
    "\n",
    "# a.\n",
    "from_row = 0\n",
    "to_row = 9\n",
    "from_col = 2\n",
    "to_col = 3\n",
    "print(a[from_row:to_row,from_col:to_col])\n",
    "# b.\n",
    "from_row = 1\n",
    "to_row = 2\n",
    "from_col = 0\n",
    "to_col = 9\n",
    "print(a[from_row:to_row,from_col:to_col].flatten())\n",
    "# c.\n",
    "print(a[0:2,0:2])"
   ]
  },
  {
   "cell_type": "markdown",
   "id": "b3693923",
   "metadata": {},
   "source": [
    "#### 3. Create a dictionary with 4 items and convert it into panda’s series. Create Dictionary of Pandas series. \n",
    "#### Convert above dictionary into data frame Slice last 2 rows from the data frame. \n",
    "#### Slice a column from the data frame. \n",
    "#### Create dictionary of tuples. Convert it into dataframe."
   ]
  },
  {
   "cell_type": "code",
   "execution_count": 132,
   "id": "7791b886",
   "metadata": {},
   "outputs": [
    {
     "name": "stdout",
     "output_type": "stream",
     "text": [
      "<class 'pandas.core.series.Series'>\n",
      "month               [1, 4, 7, 10]\n",
      "year     [2012, 2014, 2013, 2014]\n",
      "sale             [55, 40, 84, 31]\n",
      "dtype: object\n",
      "   index                         0\n",
      "0  month             [1, 4, 7, 10]\n",
      "1   year  [2012, 2014, 2013, 2014]\n",
      "2   sale          [55, 40, 84, 31]\n",
      "  index                         0\n",
      "1  year  [2012, 2014, 2013, 2014]\n",
      "2  sale          [55, 40, 84, 31]\n",
      "                          0\n",
      "0             [1, 4, 7, 10]\n",
      "1  [2012, 2014, 2013, 2014]\n",
      "2          [55, 40, 84, 31]\n",
      "<class 'dict'>\n",
      "<class 'pandas.core.frame.DataFrame'>\n",
      "                  sports     suv\n",
      "0        (amg, masareti)  sports\n",
      "1  (rover, hammer, thar)     suv\n"
     ]
    }
   ],
   "source": [
    "d = {'month': [1, 4, 7, 10],\n",
    "    'year': [2012, 2014, 2013, 2014],\n",
    "    'sale': [55, 40, 84, 31]}\n",
    "s = pd.Series(d)\n",
    "print(type(s))\n",
    "print(s)\n",
    "\n",
    "df = pd.DataFrame(s).reset_index(level=0)\n",
    "print(df)\n",
    "\n",
    "print(df[-2:])\n",
    "\n",
    "print(df.iloc[:,1:2])\n",
    "\n",
    "data = {(\"amg\", \"masareti\"): 'sports', \n",
    "        (\"rover\", \"hammer\", \"thar\"): 'suv'}\n",
    "print(type(data))\n",
    "df = pd.DataFrame(data.items(), columns=['sports', 'suv'])\n",
    "print(type(df))\n",
    "print(df)"
   ]
  },
  {
   "cell_type": "markdown",
   "id": "788c2ffb",
   "metadata": {},
   "source": [
    "#### 4. Explain the use of NumPy library along with the Data structures in NumPy."
   ]
  },
  {
   "cell_type": "markdown",
   "id": "7b03ab46",
   "metadata": {},
   "source": [
    "NumPy (Numerical Python) is an open source Python library that’s used in almost every field of science and engineering. It’s the universal standard for working with numerical data in Python, and it’s at the core of the scientific Python and PyData ecosystems.\n",
    "\n",
    "The NumPy library contains multidimensional array and matrix data structures. It provides ndarray, a homogeneous n-dimensional array object, with methods to efficiently operate on it. NumPy can be used to perform a wide variety of mathematical operations on arrays. It adds powerful data structures to Python that guarantee efficient calculations with arrays and matrices and it supplies an enormous library of high-level mathematical functions that operate on these arrays and matrices.\n",
    "\n",
    "a = np.arange(6)<br>\n",
    "a.reshape([3,2])<br>\n",
    "a = np.array([1, 2, 3, 4, 5, 6])<br>\n",
    "a = np.array([[1, 2, 3, 4], [5, 6, 7, 8], [9, 10, 11, 12]])<br>"
   ]
  },
  {
   "cell_type": "markdown",
   "id": "2fa24ded",
   "metadata": {},
   "source": [
    "#### 5. Explain the use of Pandas library along with the Data structures in Pandas."
   ]
  },
  {
   "cell_type": "markdown",
   "id": "4da1dce2",
   "metadata": {},
   "source": [
    "Pandas is an open-source library that uses for working with relational or labeled data both easily and intuitively. It provides various data structures and operations for manipulating numerical data and time series.<br>\n",
    "It supports two data structures:\n",
    "* Series\n",
    "* Dataframe<br>\n",
    "list = ['g', 'e', 'e', 'k', 's']<br>\n",
    "__create series form a char list__<br>\n",
    "res = pd.Series(list)<br>\n",
    "__create data frame__<br>\n",
    "df = pd.DataFrame(list)"
   ]
  },
  {
   "cell_type": "code",
   "execution_count": null,
   "id": "5b9ffe02",
   "metadata": {},
   "outputs": [],
   "source": []
  }
 ],
 "metadata": {
  "kernelspec": {
   "display_name": "Python 3 (ipykernel)",
   "language": "python",
   "name": "python3"
  },
  "language_info": {
   "codemirror_mode": {
    "name": "ipython",
    "version": 3
   },
   "file_extension": ".py",
   "mimetype": "text/x-python",
   "name": "python",
   "nbconvert_exporter": "python",
   "pygments_lexer": "ipython3",
   "version": "3.9.7"
  }
 },
 "nbformat": 4,
 "nbformat_minor": 5
}
