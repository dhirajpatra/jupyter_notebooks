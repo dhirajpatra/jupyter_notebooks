{
 "cells": [
  {
   "cell_type": "code",
   "execution_count": 1,
   "metadata": {},
   "outputs": [],
   "source": [
    "import pandas as pd\n",
    "import numpy as np\n",
    "import matplotlib.pyplot as plt\n",
    "import seaborn as sns\n",
    "%matplotlib inline"
   ]
  },
  {
   "cell_type": "markdown",
   "metadata": {},
   "source": [
    "t test, chisquare test, one way anova, two way anova"
   ]
  },
  {
   "cell_type": "markdown",
   "metadata": {},
   "source": [
    "t test is a inferential statistic which is used to determine if there \n",
    "is a significant difference between the means of two groups which may \n",
    "be related in certain features  "
   ]
  },
  {
   "cell_type": "markdown",
   "metadata": {},
   "source": [
    "t test - One Sample - to determine difference between the mean of sample \n",
    "and population"
   ]
  },
  {
   "cell_type": "code",
   "execution_count": 2,
   "metadata": {},
   "outputs": [],
   "source": [
    "import scipy.stats as stats "
   ]
  },
  {
   "cell_type": "code",
   "execution_count": 3,
   "metadata": {},
   "outputs": [],
   "source": [
    "#class of students\n",
    "age=[20,23,21,24,15,34,25,23,22,21,20,20,23,21,24,15,34,25,23,22,21,20]"
   ]
  },
  {
   "cell_type": "code",
   "execution_count": 4,
   "metadata": {},
   "outputs": [
    {
     "data": {
      "text/plain": [
       "22"
      ]
     },
     "execution_count": 4,
     "metadata": {},
     "output_type": "execute_result"
    }
   ],
   "source": [
    "len(age)"
   ]
  },
  {
   "cell_type": "code",
   "execution_count": 5,
   "metadata": {},
   "outputs": [
    {
     "data": {
      "text/plain": [
       "22.545454545454547"
      ]
     },
     "execution_count": 5,
     "metadata": {},
     "output_type": "execute_result"
    }
   ],
   "source": [
    "#Mean of age\n",
    "ages_mean=np.mean(age)\n",
    "ages_mean"
   ]
  },
  {
   "cell_type": "code",
   "execution_count": 6,
   "metadata": {},
   "outputs": [
    {
     "data": {
      "text/plain": [
       "array([20, 24, 20, 20, 24, 25, 15, 21, 23, 22])"
      ]
     },
     "execution_count": 6,
     "metadata": {},
     "output_type": "execute_result"
    }
   ],
   "source": [
    "#Lets take sample\n",
    "sample=np.random.choice(age,10)\n",
    "sample"
   ]
  },
  {
   "cell_type": "code",
   "execution_count": 7,
   "metadata": {},
   "outputs": [
    {
     "data": {
      "text/plain": [
       "21.4"
      ]
     },
     "execution_count": 7,
     "metadata": {},
     "output_type": "execute_result"
    }
   ],
   "source": [
    "np.mean(sample)"
   ]
  },
  {
   "cell_type": "code",
   "execution_count": 8,
   "metadata": {},
   "outputs": [],
   "source": [
    "#Hypothesis Testing\n",
    "#Alpha: It’s the probability of making a wrong decision.alpha ranges from 0 to 1\n",
    "\n",
    "#The p-value is basically the probability of obtaining your sample data IF the \n",
    "#null hypothesis (e.g., the average cost of Cairn terriers = $400) were true. \n",
    "\n",
    "#If the p-value is low (less than significant value / alpha), the null must go."
   ]
  },
  {
   "cell_type": "code",
   "execution_count": 9,
   "metadata": {},
   "outputs": [],
   "source": [
    "#Null Hypothesis: There is no difference between population Mean and Sample mean\n",
    "#Alternative Hypothesis: There is difference\n",
    "#alpha value =5%\n",
    "\n",
    "#p value < 0.05 Reject the null Hypothesis\n",
    "#p value > 0.05 Fail to reject Null Hypothesis"
   ]
  },
  {
   "cell_type": "code",
   "execution_count": 10,
   "metadata": {},
   "outputs": [],
   "source": [
    "from scipy.stats import ttest_1samp"
   ]
  },
  {
   "cell_type": "code",
   "execution_count": 11,
   "metadata": {},
   "outputs": [],
   "source": [
    "ttest,p_value=ttest_1samp(sample,ages_mean)#ages_mean - population mean"
   ]
  },
  {
   "cell_type": "code",
   "execution_count": 12,
   "metadata": {},
   "outputs": [
    {
     "data": {
      "text/plain": [
       "-1.2432327309115274"
      ]
     },
     "execution_count": 12,
     "metadata": {},
     "output_type": "execute_result"
    }
   ],
   "source": [
    "ttest"
   ]
  },
  {
   "cell_type": "code",
   "execution_count": 13,
   "metadata": {},
   "outputs": [
    {
     "data": {
      "text/plain": [
       "0.24519254428485066"
      ]
     },
     "execution_count": 13,
     "metadata": {},
     "output_type": "execute_result"
    }
   ],
   "source": [
    "p_value"
   ]
  },
  {
   "cell_type": "code",
   "execution_count": 14,
   "metadata": {},
   "outputs": [],
   "source": [
    "#p value > 0.05 so fail to reject null ie means are different"
   ]
  },
  {
   "cell_type": "code",
   "execution_count": 15,
   "metadata": {},
   "outputs": [
    {
     "name": "stdout",
     "output_type": "stream",
     "text": [
      "Fail to reject Null Hypothesis\n"
     ]
    }
   ],
   "source": [
    "if p_value < 0.05:\n",
    "    print('Reject Null Hypotesis')\n",
    "else:\n",
    "    print('Fail to reject Null Hypothesis')"
   ]
  },
  {
   "cell_type": "code",
   "execution_count": 16,
   "metadata": {},
   "outputs": [],
   "source": [
    "# One More Example - 1 sample t test"
   ]
  },
  {
   "cell_type": "code",
   "execution_count": 17,
   "metadata": {},
   "outputs": [],
   "source": [
    "import numpy as np\n",
    "import math\n",
    "import scipy.stats as stats\n",
    "np.random.seed(6)"
   ]
  },
  {
   "cell_type": "code",
   "execution_count": 18,
   "metadata": {},
   "outputs": [],
   "source": [
    "school_age=stats.poisson.rvs(loc=0,mu=30,size=500)\n",
    "classA_age=stats.poisson.rvs(loc=0,mu=30,size=100)"
   ]
  },
  {
   "cell_type": "code",
   "execution_count": 21,
   "metadata": {},
   "outputs": [],
   "source": [
    "#Null Hypothesis: There is no difference between population Mean and Sample mean\n",
    "#Alternative Hypothesis: There is difference between popultaion Mean and Sample mean\n",
    "#alpha value =5%\n",
    "\n",
    "#p value < 0.05 Reject the null Hypothesis\n",
    "#p value > 0.05 Fail to reject Null Hypothesis"
   ]
  },
  {
   "cell_type": "code",
   "execution_count": 22,
   "metadata": {},
   "outputs": [
    {
     "data": {
      "text/plain": [
       "array([38, 36, 22, 30, 27, 29, 30, 36, 37, 35, 33, 23, 28, 26, 32, 41, 26,\n",
       "       34, 29, 33, 28, 35, 24, 27, 24, 36, 36, 32, 28, 36, 23, 19, 40, 23,\n",
       "       24, 26, 44, 30, 33, 32, 22, 25, 37, 31, 36, 23, 26, 24, 32, 31, 41,\n",
       "       34, 31, 19, 30, 23, 26, 24, 35, 26, 26, 30, 26, 28, 26, 42, 28, 27,\n",
       "       37, 26, 26, 30, 25, 33, 29, 25, 29, 32, 31, 36, 24, 26, 31, 39, 41,\n",
       "       22, 36, 22, 25, 27, 35, 23, 33, 26, 34, 33, 36, 39, 31, 29, 33, 36,\n",
       "       32, 34, 31, 32, 32, 21, 28, 35, 32, 25, 25, 35, 19, 36, 26, 27, 32,\n",
       "       28, 21, 40, 37, 24, 29, 32, 30, 29, 32, 31, 28, 16, 24, 35, 25, 35,\n",
       "       33, 33, 35, 42, 38, 41, 29, 21, 31, 22, 38, 27, 46, 26, 39, 27, 24,\n",
       "       43, 43, 35, 35, 29, 20, 19, 30, 38, 36, 31, 33, 39, 25, 29, 33, 23,\n",
       "       29, 31, 35, 26, 29, 19, 25, 34, 27, 23, 29, 32, 27, 22, 31, 30, 36,\n",
       "       26, 36, 33, 34, 31, 27, 17, 25, 43, 27, 26, 38, 28, 31, 26, 30, 31,\n",
       "       28, 32, 27, 29, 24, 32, 18, 29, 33, 31, 28, 29, 29, 39, 26, 24, 41,\n",
       "       21, 20, 23, 18, 32, 30, 22, 34, 36, 26, 33, 24, 27, 39, 34, 28, 30,\n",
       "       42, 36, 23, 33, 40, 34, 27, 24, 22, 34, 23, 28, 36, 34, 29, 33, 24,\n",
       "       25, 29, 24, 30, 25, 44, 29, 29, 30, 31, 28, 30, 22, 33, 28, 28, 30,\n",
       "       40, 29, 33, 39, 36, 28, 29, 31, 32, 28, 36, 26, 32, 37, 42, 34, 24,\n",
       "       26, 43, 27, 32, 27, 32, 28, 31, 38, 27, 37, 35, 29, 35, 27, 34, 25,\n",
       "       35, 23, 33, 27, 36, 37, 30, 31, 33, 31, 23, 27, 29, 32, 30, 19, 32,\n",
       "       23, 40, 36, 33, 37, 30, 26, 22, 32, 24, 29, 40, 34, 34, 27, 35, 26,\n",
       "       22, 30, 20, 28, 32, 40, 28, 26, 28, 28, 31, 34, 35, 29, 25, 41, 35,\n",
       "       32, 26, 26, 31, 28, 37, 30, 23, 32, 21, 30, 27, 19, 24, 29, 49, 26,\n",
       "       30, 21, 21, 26, 29, 41, 24, 36, 36, 30, 32, 29, 32, 26, 29, 24, 20,\n",
       "       29, 18, 39, 23, 27, 31, 37, 27, 32, 33, 28, 23, 34, 42, 26, 27, 22,\n",
       "       37, 26, 33, 29, 39, 34, 38, 41, 18, 39, 34, 27, 34, 36, 31, 37, 25,\n",
       "       30, 30, 31, 35, 27, 40, 30, 23, 43, 36, 26, 27, 26, 27, 22, 30, 31,\n",
       "       23, 25, 32, 31, 36, 33, 35, 23, 31, 30, 20, 27, 34, 38, 22, 28, 32,\n",
       "       35, 29, 26, 22, 25, 20, 30, 28, 30, 41, 26, 21, 39, 29, 37, 31, 33,\n",
       "       32, 19, 32, 27, 30, 42, 26, 22, 27, 33, 29, 34, 33, 26, 37, 35, 26,\n",
       "       34, 30, 30, 26, 28, 36, 26])"
      ]
     },
     "execution_count": 22,
     "metadata": {},
     "output_type": "execute_result"
    }
   ],
   "source": [
    "school_age"
   ]
  },
  {
   "cell_type": "code",
   "execution_count": 23,
   "metadata": {},
   "outputs": [
    {
     "data": {
      "text/plain": [
       "array([27, 33, 35, 39, 34, 17, 29, 27, 29, 40, 36, 30, 28, 34, 26, 30, 20,\n",
       "       32, 39, 22, 27, 32, 32, 29, 43, 26, 41, 32, 26, 36, 29, 27, 32, 28,\n",
       "       34, 25, 35, 37, 25, 25, 25, 34, 32, 25, 33, 31, 27, 34, 22, 33, 28,\n",
       "       23, 30, 26, 26, 27, 41, 27, 26, 26, 22, 18, 27, 26, 22, 44, 26, 40,\n",
       "       40, 31, 26, 25, 31, 26, 34, 38, 41, 28, 40, 41, 25, 28, 26, 25, 35,\n",
       "       40, 31, 34, 27, 31, 32, 26, 33, 27, 23, 37, 21, 35, 33, 33])"
      ]
     },
     "execution_count": 23,
     "metadata": {},
     "output_type": "execute_result"
    }
   ],
   "source": [
    "classA_age"
   ]
  },
  {
   "cell_type": "code",
   "execution_count": 24,
   "metadata": {},
   "outputs": [
    {
     "data": {
      "text/plain": [
       "30.114"
      ]
     },
     "execution_count": 24,
     "metadata": {},
     "output_type": "execute_result"
    }
   ],
   "source": [
    "school_age.mean()"
   ]
  },
  {
   "cell_type": "code",
   "execution_count": 25,
   "metadata": {},
   "outputs": [
    {
     "data": {
      "text/plain": [
       "30.32"
      ]
     },
     "execution_count": 25,
     "metadata": {},
     "output_type": "execute_result"
    }
   ],
   "source": [
    "classA_age.mean()"
   ]
  },
  {
   "cell_type": "code",
   "execution_count": 26,
   "metadata": {},
   "outputs": [],
   "source": [
    "ttest,p_value=ttest_1samp(classA_age,school_age.mean())"
   ]
  },
  {
   "cell_type": "code",
   "execution_count": 27,
   "metadata": {},
   "outputs": [
    {
     "data": {
      "text/plain": [
       "0.7260933773654308"
      ]
     },
     "execution_count": 27,
     "metadata": {},
     "output_type": "execute_result"
    }
   ],
   "source": [
    "p_value"
   ]
  },
  {
   "cell_type": "code",
   "execution_count": 28,
   "metadata": {},
   "outputs": [
    {
     "name": "stdout",
     "output_type": "stream",
     "text": [
      "Fail to reject Null Hypothesis\n"
     ]
    }
   ],
   "source": [
    "if p_value < 0.05:\n",
    "    print('Reject Null Hypotesis')\n",
    "else:\n",
    "    print('Fail to reject Null Hypothesis') #ie Null is Valid / True"
   ]
  },
  {
   "cell_type": "code",
   "execution_count": null,
   "metadata": {},
   "outputs": [],
   "source": [
    "# t test - two sample -to determine difference between the mean of sample \n",
    "#and population"
   ]
  },
  {
   "cell_type": "code",
   "execution_count": null,
   "metadata": {},
   "outputs": [],
   "source": [
    "#Independent Samples - t test compares the means of two inependent groups \n",
    "#in order to determine whether the associated population means are significantly\n",
    "#different. Independent Sample t test is a parametric test. this test is also \n",
    "#known as independent t test  "
   ]
  },
  {
   "cell_type": "code",
   "execution_count": 13,
   "metadata": {},
   "outputs": [],
   "source": [
    "#Null Hypothesis: There is no difference between two Independent Sample Means\n",
    "#Alternative Hypothesis: There is difference between two Independent Sample Means\n",
    "#alpha value =5%\n",
    "\n",
    "#p value < 0.05 Reject the null Hypothesis\n",
    "#p value > 0.05 Fail to reject Null Hypothesis"
   ]
  },
  {
   "cell_type": "code",
   "execution_count": 49,
   "metadata": {},
   "outputs": [],
   "source": [
    "np.random.seed(12)\n",
    "classB_age=stats.poisson.rvs(loc=0,mu=33,size=100)"
   ]
  },
  {
   "cell_type": "code",
   "execution_count": 50,
   "metadata": {},
   "outputs": [
    {
     "data": {
      "text/plain": [
       "array([26, 29, 42, 47, 29, 34, 38, 38, 26, 30, 32, 29, 37, 31, 32, 32, 32,\n",
       "       23, 35, 29, 21, 32, 34, 25, 35, 33, 41, 35, 33, 28, 23, 35, 45, 35,\n",
       "       30, 47, 45, 36, 31, 35, 30, 27, 31, 41, 32, 33, 38, 27, 38, 25, 25,\n",
       "       29, 36, 30, 27, 23, 42, 30, 33, 31, 35, 26, 35, 30, 35, 37, 28, 35,\n",
       "       31, 37, 32, 38, 35, 33, 33, 26, 37, 24, 33, 28, 34, 36, 31, 30, 36,\n",
       "       28, 38, 35, 34, 39, 42, 25, 23, 31, 24, 33, 33, 31, 39, 35])"
      ]
     },
     "execution_count": 50,
     "metadata": {},
     "output_type": "execute_result"
    }
   ],
   "source": [
    "classB_age"
   ]
  },
  {
   "cell_type": "code",
   "execution_count": 51,
   "metadata": {},
   "outputs": [
    {
     "data": {
      "text/plain": [
       "32.63"
      ]
     },
     "execution_count": 51,
     "metadata": {},
     "output_type": "execute_result"
    }
   ],
   "source": [
    "#Variance of Class B\n",
    "classB_age.mean()"
   ]
  },
  {
   "cell_type": "code",
   "execution_count": 53,
   "metadata": {},
   "outputs": [
    {
     "data": {
      "text/plain": [
       "31.429899999999996"
      ]
     },
     "execution_count": 53,
     "metadata": {},
     "output_type": "execute_result"
    }
   ],
   "source": [
    "#Variance of Class A --> Variance are Unequal\n",
    "classA_age.var()"
   ]
  },
  {
   "cell_type": "code",
   "execution_count": null,
   "metadata": {},
   "outputs": [],
   "source": [
    "#Variance of Class B -- Variance are unequal\n",
    "classB_age.var()"
   ]
  },
  {
   "cell_type": "code",
   "execution_count": 54,
   "metadata": {},
   "outputs": [],
   "source": [
    "ttest,p_value=stats.ttest_ind(classA_age,classB_age,equal_var=False)"
   ]
  },
  {
   "cell_type": "code",
   "execution_count": 55,
   "metadata": {},
   "outputs": [
    {
     "data": {
      "text/plain": [
       "-2.724848131630769"
      ]
     },
     "execution_count": 55,
     "metadata": {},
     "output_type": "execute_result"
    }
   ],
   "source": [
    "ttest"
   ]
  },
  {
   "cell_type": "code",
   "execution_count": 56,
   "metadata": {},
   "outputs": [
    {
     "data": {
      "text/plain": [
       "0.007009572730242513"
      ]
     },
     "execution_count": 56,
     "metadata": {},
     "output_type": "execute_result"
    }
   ],
   "source": [
    "p_value"
   ]
  },
  {
   "cell_type": "code",
   "execution_count": 58,
   "metadata": {},
   "outputs": [
    {
     "name": "stdout",
     "output_type": "stream",
     "text": [
      "Reject Null Hypothesis\n"
     ]
    }
   ],
   "source": [
    "if p_value < 0.05:\n",
    "    print('Reject Null Hypothesis')\n",
    "else:\n",
    "    print('Fail to reject Null Hypothesis')"
   ]
  },
  {
   "cell_type": "code",
   "execution_count": 59,
   "metadata": {},
   "outputs": [],
   "source": [
    "# Paired t test\n",
    "#when you want to check for how different samples from the same group are you can go for paired t test"
   ]
  },
  {
   "cell_type": "code",
   "execution_count": 13,
   "metadata": {},
   "outputs": [],
   "source": [
    "#Null Hypothesis: There is no difference between two Dependent Sample Means \n",
    "#(Before & After)\n",
    "#Alternative Hypothesis: There is difference between two Dependent Sample Means\n",
    "#alpha value =5%\n",
    "\n",
    "#p value < 0.05 Reject the null Hypothesis\n",
    "#p value > 0.05 Fail to reject Null Hypothesis"
   ]
  },
  {
   "cell_type": "code",
   "execution_count": 60,
   "metadata": {},
   "outputs": [],
   "source": [
    "#Weight 1 at time t, weight 2 at time t+t1\n",
    "weight1=[50,65,70,80,85,55,65,58,77,74]\n",
    "weight2=weight1+stats.norm.rvs(scale=5,loc=1.25,size=10)"
   ]
  },
  {
   "cell_type": "code",
   "execution_count": 61,
   "metadata": {},
   "outputs": [
    {
     "data": {
      "text/plain": [
       "[50, 65, 70, 80, 85, 55, 65, 58, 77, 74]"
      ]
     },
     "execution_count": 61,
     "metadata": {},
     "output_type": "execute_result"
    }
   ],
   "source": [
    "weight1"
   ]
  },
  {
   "cell_type": "code",
   "execution_count": 62,
   "metadata": {},
   "outputs": [
    {
     "data": {
      "text/plain": [
       "array([49.2983976 , 55.4793778 , 64.77658126, 78.41889653, 83.66145395,\n",
       "       54.27060846, 63.23152377, 61.08696446, 73.45494093, 67.27351639])"
      ]
     },
     "execution_count": 62,
     "metadata": {},
     "output_type": "execute_result"
    }
   ],
   "source": [
    "weight2"
   ]
  },
  {
   "cell_type": "code",
   "execution_count": 63,
   "metadata": {},
   "outputs": [
    {
     "data": {
      "text/html": [
       "<div>\n",
       "<style scoped>\n",
       "    .dataframe tbody tr th:only-of-type {\n",
       "        vertical-align: middle;\n",
       "    }\n",
       "\n",
       "    .dataframe tbody tr th {\n",
       "        vertical-align: top;\n",
       "    }\n",
       "\n",
       "    .dataframe thead th {\n",
       "        text-align: right;\n",
       "    }\n",
       "</style>\n",
       "<table border=\"1\" class=\"dataframe\">\n",
       "  <thead>\n",
       "    <tr style=\"text-align: right;\">\n",
       "      <th></th>\n",
       "      <th>weight10</th>\n",
       "      <th>weight20</th>\n",
       "      <th>weight_change</th>\n",
       "    </tr>\n",
       "  </thead>\n",
       "  <tbody>\n",
       "    <tr>\n",
       "      <td>0</td>\n",
       "      <td>50</td>\n",
       "      <td>49.298398</td>\n",
       "      <td>-0.701602</td>\n",
       "    </tr>\n",
       "    <tr>\n",
       "      <td>1</td>\n",
       "      <td>65</td>\n",
       "      <td>55.479378</td>\n",
       "      <td>-9.520622</td>\n",
       "    </tr>\n",
       "    <tr>\n",
       "      <td>2</td>\n",
       "      <td>70</td>\n",
       "      <td>64.776581</td>\n",
       "      <td>-5.223419</td>\n",
       "    </tr>\n",
       "    <tr>\n",
       "      <td>3</td>\n",
       "      <td>80</td>\n",
       "      <td>78.418897</td>\n",
       "      <td>-1.581103</td>\n",
       "    </tr>\n",
       "    <tr>\n",
       "      <td>4</td>\n",
       "      <td>85</td>\n",
       "      <td>83.661454</td>\n",
       "      <td>-1.338546</td>\n",
       "    </tr>\n",
       "    <tr>\n",
       "      <td>5</td>\n",
       "      <td>55</td>\n",
       "      <td>54.270608</td>\n",
       "      <td>-0.729392</td>\n",
       "    </tr>\n",
       "    <tr>\n",
       "      <td>6</td>\n",
       "      <td>65</td>\n",
       "      <td>63.231524</td>\n",
       "      <td>-1.768476</td>\n",
       "    </tr>\n",
       "    <tr>\n",
       "      <td>7</td>\n",
       "      <td>58</td>\n",
       "      <td>61.086964</td>\n",
       "      <td>3.086964</td>\n",
       "    </tr>\n",
       "    <tr>\n",
       "      <td>8</td>\n",
       "      <td>77</td>\n",
       "      <td>73.454941</td>\n",
       "      <td>-3.545059</td>\n",
       "    </tr>\n",
       "    <tr>\n",
       "      <td>9</td>\n",
       "      <td>74</td>\n",
       "      <td>67.273516</td>\n",
       "      <td>-6.726484</td>\n",
       "    </tr>\n",
       "  </tbody>\n",
       "</table>\n",
       "</div>"
      ],
      "text/plain": [
       "   weight10   weight20  weight_change\n",
       "0        50  49.298398      -0.701602\n",
       "1        65  55.479378      -9.520622\n",
       "2        70  64.776581      -5.223419\n",
       "3        80  78.418897      -1.581103\n",
       "4        85  83.661454      -1.338546\n",
       "5        55  54.270608      -0.729392\n",
       "6        65  63.231524      -1.768476\n",
       "7        58  61.086964       3.086964\n",
       "8        77  73.454941      -3.545059\n",
       "9        74  67.273516      -6.726484"
      ]
     },
     "execution_count": 63,
     "metadata": {},
     "output_type": "execute_result"
    }
   ],
   "source": [
    "weight_df=pd.DataFrame({'weight10':np.array(weight1),\n",
    "                      'weight20':np.array(weight2),\n",
    "                      'weight_change':np.array(weight2)-np.array(weight1)})\n",
    "weight_df               "
   ]
  },
  {
   "cell_type": "code",
   "execution_count": 64,
   "metadata": {},
   "outputs": [],
   "source": [
    "ttest,p_value=stats.ttest_rel(weight1,weight2)"
   ]
  },
  {
   "cell_type": "code",
   "execution_count": 65,
   "metadata": {},
   "outputs": [
    {
     "data": {
      "text/plain": [
       "0.034947379954319714"
      ]
     },
     "execution_count": 65,
     "metadata": {},
     "output_type": "execute_result"
    }
   ],
   "source": [
    "p_value"
   ]
  },
  {
   "cell_type": "code",
   "execution_count": 66,
   "metadata": {},
   "outputs": [
    {
     "name": "stdout",
     "output_type": "stream",
     "text": [
      "Reject Null Hypothesis\n"
     ]
    }
   ],
   "source": [
    "if p_value < 0.05:\n",
    "    print('Reject Null Hypothesis')\n",
    "else:\n",
    "    print('Fail to reject Null Hypothesis')"
   ]
  },
  {
   "cell_type": "code",
   "execution_count": null,
   "metadata": {},
   "outputs": [],
   "source": []
  }
 ],
 "metadata": {
  "kernelspec": {
   "display_name": "Python 3 (ipykernel)",
   "language": "python",
   "name": "python3"
  },
  "language_info": {
   "codemirror_mode": {
    "name": "ipython",
    "version": 3
   },
   "file_extension": ".py",
   "mimetype": "text/x-python",
   "name": "python",
   "nbconvert_exporter": "python",
   "pygments_lexer": "ipython3",
   "version": "3.9.12"
  }
 },
 "nbformat": 4,
 "nbformat_minor": 2
}
