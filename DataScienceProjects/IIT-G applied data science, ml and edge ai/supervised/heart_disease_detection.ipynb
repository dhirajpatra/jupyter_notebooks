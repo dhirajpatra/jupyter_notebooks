{
 "cells": [
  {
   "cell_type": "code",
   "execution_count": null,
   "id": "f3f3aa6a-0543-4eee-821b-50fabe0ac17c",
   "metadata": {},
   "outputs": [],
   "source": [
    "import sys #access to system parameters https://docs.python.org/3/library/sys.html\n",
    "print(\"Python version: {}\". format(sys.version))\n",
    "import numpy as np # linear algebra\n",
    "print(\"NumPy version: {}\". format(np.__version__))\n",
    "import pandas as pd # data processing, CSV file I/O (e.g. pd.read_csv)\n",
    "print(\"pandas version: {}\". format(pd.__version__))\n",
    "import matplotlib # collection of functions for scientific and publication-ready visualization\n",
    "print(\"matplotlib version: {}\". format(matplotlib.__version__))\n",
    "import matplotlib.pyplot as plt\n",
    "%matplotlib inline\n",
    "import seaborn as sns\n",
    "import warnings # ignore warnings\n",
    "warnings.filterwarnings('ignore')\n",
    "import os\n",
    "for dirname, _, filenames in os.walk('/kaggle/input'):\n",
    "    for filename in filenames:\n",
    "        print(os.path.join(dirname, filename))"
   ]
  },
  {
   "cell_type": "code",
   "execution_count": null,
   "id": "84ecff96-b5a7-444f-80e1-edb5446806e9",
   "metadata": {},
   "outputs": [],
   "source": [
    "df = pd.read_csv('../data/heart.csv')\n",
    "df.shape"
   ]
  },
  {
   "cell_type": "code",
   "execution_count": null,
   "id": "36e053b1-fa15-4eb6-b76e-b429583a1834",
   "metadata": {},
   "outputs": [],
   "source": [
    "df.head(3)"
   ]
  },
  {
   "cell_type": "markdown",
   "id": "0c38d0eb-1882-4533-ac6f-714a62e177f9",
   "metadata": {},
   "source": [
    "Columns description:\n",
    "\n",
    "age: age in years\n",
    "\n",
    "sex: (1 = male; 0 = female)\n",
    "\n",
    "cp: chest pain type\n",
    "\n",
    "trestbps: resting blood pressure (in mm Hg on admission to the hospital)\n",
    "\n",
    "chol: serum cholestoral in mg/dl\n",
    "\n",
    "fbs: (fasting blood sugar > 120 mg/dl) (1 = true; 0 = false)\n",
    "\n",
    "restecg: resting electrocardiographic results\n",
    "\n",
    "thalach: maximum heart rate achieved\n",
    "\n",
    "exang: exercise induced angina (1 = yes; 0 = no)\n",
    "\n",
    "oldpeak: ST depression induced by exercise relative to rest\n",
    "\n",
    "slope: the slope of the peak exercise ST segment\n",
    "\n",
    "ca: number of major vessels (0-3) colored by flourosopy\n",
    "\n",
    "thal: 3 = normal; 6 = fixed defect; 7 = reversable defect\n",
    "\n",
    "target: refers to the presence of heart disease in the patient (1=yes, 0=no)\n"
   ]
  },
  {
   "cell_type": "code",
   "execution_count": null,
   "id": "5a15dca7-0eeb-4797-b1ac-467590bb9b7c",
   "metadata": {},
   "outputs": [],
   "source": [
    "df.target.value_counts() # df.target.unique()"
   ]
  },
  {
   "cell_type": "code",
   "execution_count": null,
   "id": "c5028a01-41da-42d2-bafa-3fe28322e69b",
   "metadata": {},
   "outputs": [],
   "source": [
    "disease = len(df[df['target'] == 1])\n",
    "no_disease = len(df[df['target']== 0])"
   ]
  },
  {
   "cell_type": "code",
   "execution_count": null,
   "id": "89b2d63e-d631-4042-8b39-c5b08da8fb7f",
   "metadata": {},
   "outputs": [],
   "source": [
    "import matplotlib.pyplot as plt\n",
    "plt.rcdefaults()\n",
    "fig, ax = plt.subplots()\n",
    "y = ('Heart Disease', 'No Disease')\n",
    "y_pos = np.arange(len(y))\n",
    "x = (disease, no_disease)\n",
    "ax.barh(y_pos, x, align='center')\n",
    "ax.set_yticks(y_pos)\n",
    "ax.set_yticklabels(y)\n",
    "ax.invert_yaxis() # labels read top-to-bottom\n",
    "ax.set_xlabel('Count')\n",
    "ax.set_title('Target')\n",
    "for i, v in enumerate(x):\n",
    "    ax.text(v + 10, i, str(v), color='black', va='center', fontweight='normal')\n",
    "plt.show()"
   ]
  },
  {
   "cell_type": "code",
   "execution_count": null,
   "id": "e3206508-a697-4cc5-adfd-dad1e582f665",
   "metadata": {},
   "outputs": [],
   "source": [
    "import matplotlib.pyplot as plt\n",
    "y = ('Heart Disease', 'No Disease')\n",
    "y_pos = np.arange(len(y))\n",
    "x = (disease, no_disease)\n",
    "labels = 'Heart Disease', 'No Disease'\n",
    "sizes = [disease, no_disease]\n",
    "fig1, ax1 = plt.subplots()\n",
    "ax1.pie(sizes,  labels=labels, autopct='%1.1f%%', startangle=90) \n",
    "ax1.axis('equal')  # Equal aspect ratio ensures that pie is drawn as a circle.\n",
    "plt.title('Percentage of target', size=16)\n",
    "plt.show() # Pie chart, where the slices will be ordered and plotted counter-clockwise:"
   ]
  },
  {
   "cell_type": "code",
   "execution_count": null,
   "id": "08ff29d8-994b-49d1-8224-78a2454aaa52",
   "metadata": {},
   "outputs": [],
   "source": [
    "df.isna().sum() # missing values"
   ]
  },
  {
   "cell_type": "code",
   "execution_count": null,
   "id": "68fa04ea-c35b-4ab9-b975-2c635cf0b461",
   "metadata": {},
   "outputs": [],
   "source": [
    "qualitative = []\n",
    "quantitative = []\n",
    "for feature in df.columns:\n",
    "    if len(df[feature].unique()) <= 8:\n",
    "        qualitative.append(feature)\n",
    "    else:\n",
    "        quantitative.append(feature)"
   ]
  },
  {
   "cell_type": "code",
   "execution_count": null,
   "id": "cbdb9139-0513-4fe3-85b6-b5614a937929",
   "metadata": {},
   "outputs": [],
   "source": [
    "qualitative"
   ]
  },
  {
   "cell_type": "code",
   "execution_count": null,
   "id": "5d9d0c79-9ca2-43f1-9088-c71da2ea0937",
   "metadata": {},
   "outputs": [],
   "source": [
    "quantitative"
   ]
  },
  {
   "cell_type": "code",
   "execution_count": null,
   "id": "067f195f-c26c-4182-9353-4f28bff46a99",
   "metadata": {},
   "outputs": [],
   "source": [
    "top = 15\n",
    "corr = df.corr()\n",
    "top15 = corr.nlargest(top, 'target')['target'].index\n",
    "corr_top15 = df[top15].corr()\n",
    "f,ax = plt.subplots(figsize=(10,10))\n",
    "sns.heatmap(corr_top15, square=True, ax=ax, annot=True, cmap='coolwarm', fmt='.2f', annot_kws={'size':12})\n",
    "plt.title('Top correlated features of dataset', size=16)\n",
    "plt.show()\n",
    "\"\"\"\n",
    "corrmat = df.corr()\n",
    "f, ax = plt.subplots(nrows=1, ncols=1, figsize=(15, 15))\n",
    "ax.set_title(\"Correlation Matrix\", fontsize=12)\n",
    "filter = df.columns != 'id'\n",
    "sns.heatmap(df[df.columns[filter]].corr(), vmin=-1, vmax=1, cmap='coolwarm', annot=True)\n",
    "\"\"\""
   ]
  },
  {
   "cell_type": "code",
   "execution_count": null,
   "id": "475aeb07-1661-48df-b35c-3da8b838832c",
   "metadata": {},
   "outputs": [],
   "source": [
    "ax = sns.distplot(df['thalach']) # histogram distribution"
   ]
  },
  {
   "cell_type": "code",
   "execution_count": null,
   "id": "6f16ae8c-1593-49c4-b638-1aeade6ca572",
   "metadata": {},
   "outputs": [],
   "source": [
    "sns.pairplot(df)"
   ]
  },
  {
   "cell_type": "code",
   "execution_count": null,
   "id": "745989ed-ebd1-497e-ae95-325b5ebd366b",
   "metadata": {},
   "outputs": [],
   "source": [
    "X = df.drop('target',1)\n",
    "y = df['target']\n",
    "print('shape of X and y respectively :', X.shape, y.shape)"
   ]
  },
  {
   "cell_type": "code",
   "execution_count": null,
   "id": "df7a9eac-6bc7-45c4-8774-2d4a51367bf5",
   "metadata": {},
   "outputs": [],
   "source": [
    "from sklearn.model_selection import train_test_split\n",
    "X_train, X_test, y_train, y_test = train_test_split(X, y, test_size=0.2, random_state=0)\n",
    "print('shape of X and y respectively (train) :', X_train.shape, y_train.shape)\n",
    "print('shape of X and y respectively (test) :', X_test.shape, y_test.shape)"
   ]
  },
  {
   "cell_type": "code",
   "execution_count": null,
   "id": "723f55fb-9e9b-4511-888e-686dc4a339b4",
   "metadata": {},
   "outputs": [],
   "source": [
    "print('Logistic Regression')\n",
    "from sklearn.linear_model import LogisticRegression\n",
    "model = LogisticRegression(max_iter=1000)\n",
    "model.fit(X_train, y_train)\n",
    "Y_pred = model.predict(X_test)\n",
    "score = model.score(X_train, y_train)\n",
    "print('Training Score:', score)\n",
    "score = model.score(X_test, y_test)\n",
    "print('Testing Score:', score)\n",
    "output = pd.DataFrame({'Predicted':Y_pred}) # Heart-Disease yes or no? 1/0\n",
    "print(output.head())\n",
    "people = output.loc[output.Predicted == 1][\"Predicted\"]\n",
    "rate_people = 0\n",
    "if len(people) > 0 :\n",
    "    rate_people = len(people)/len(output)\n",
    "print(\"% of people predicted with heart-disease:\", rate_people)\n",
    "score_logreg = score\n",
    "out_logreg = output\n",
    "from sklearn.metrics import classification_report\n",
    "print(classification_report(y_test,Y_pred))"
   ]
  },
  {
   "cell_type": "code",
   "execution_count": null,
   "id": "2ebc9bd4-6d34-4dfb-9cc2-191492a5c76f",
   "metadata": {},
   "outputs": [],
   "source": [
    "from sklearn.metrics import confusion_matrix\n",
    "confusion_matrix = confusion_matrix(y_test,Y_pred)\n",
    "class_names = [0,1]\n",
    "fig,ax = plt.subplots()\n",
    "tick_marks = np.arange(len(class_names))\n",
    "plt.xticks(tick_marks,class_names)\n",
    "plt.yticks(tick_marks,class_names)\n",
    "sns.heatmap(pd.DataFrame(confusion_matrix), annot = True, cmap = 'Greens', fmt = 'g')\n",
    "ax.xaxis.set_label_position('top')\n",
    "plt.tight_layout()\n",
    "plt.title('Confusion matrix for logistic regression')\n",
    "plt.ylabel('Actual label')\n",
    "plt.xlabel('Predicted label')\n",
    "plt.show()"
   ]
  },
  {
   "cell_type": "code",
   "execution_count": null,
   "id": "948789ff-456d-4734-b6f5-5ea27830ae3b",
   "metadata": {},
   "outputs": [],
   "source": [
    "# ROC Curve\n",
    "from sklearn.metrics import roc_auc_score,roc_curve\n",
    "y_probabilities = model.predict_proba(X_test)[:,1]\n",
    "false_positive_rate_knn, true_positive_rate_knn, threshold_knn = roc_curve(y_test,y_probabilities)\n",
    "plt.figure(figsize=(10,6))\n",
    "plt.title('ROC for logistic regression')\n",
    "plt.plot(false_positive_rate_knn, true_positive_rate_knn, linewidth=5, color='green')\n",
    "plt.plot([0,1],ls='--',linewidth=5)\n",
    "plt.plot([0,0],[1,0],c='.5')\n",
    "plt.plot([1,1],c='.5')\n",
    "plt.text(0.2,0.6,'AUC: {:.2f}'.format(roc_auc_score(y_test,y_probabilities)),size= 16)\n",
    "plt.xlabel('False Positive Rate')\n",
    "plt.ylabel('True Positive Rate')\n",
    "plt.show()"
   ]
  },
  {
   "cell_type": "code",
   "execution_count": null,
   "id": "09666576-23ee-4b8e-bfe9-42bd6377d7c7",
   "metadata": {},
   "outputs": [],
   "source": [
    "print('DecisionTreeClassifier')\n",
    "from sklearn.tree import DecisionTreeClassifier\n",
    "decision_tree = DecisionTreeClassifier(max_depth=5) \n",
    "decision_tree.fit(X_train, y_train)  \n",
    "Y_pred = model.predict(X_test)\n",
    "score = model.score(X_train, y_train)\n",
    "print('Training Score:', score)\n",
    "score = model.score(X_test, y_test)\n",
    "print('Testing Score:', score)\n",
    "output = pd.DataFrame({'Predicted':Y_pred}) # Heart-Disease yes or no? 1/0\n",
    "print(output.head())\n",
    "people = output.loc[output.Predicted == 1][\"Predicted\"]\n",
    "rate_people = 0\n",
    "if len(people) > 0 :\n",
    "    rate_people = len(people)/len(output)\n",
    "print(\"% of people predicted with heart-disease:\", rate_people)\n",
    "score_dtc = score\n",
    "out_dtc = output\n",
    "from sklearn.metrics import classification_report\n",
    "print(classification_report(y_test,Y_pred))"
   ]
  },
  {
   "cell_type": "code",
   "execution_count": null,
   "id": "f4dc10c9-2a35-43ed-aadf-ce05c583c9f7",
   "metadata": {},
   "outputs": [],
   "source": [
    "from sklearn.metrics import confusion_matrix\n",
    "confusion_matrix = confusion_matrix(y_test,Y_pred)\n",
    "class_names = [0,1]\n",
    "fig,ax = plt.subplots()\n",
    "tick_marks = np.arange(len(class_names))\n",
    "plt.xticks(tick_marks,class_names)\n",
    "plt.yticks(tick_marks,class_names)\n",
    "sns.heatmap(pd.DataFrame(confusion_matrix), annot = True, cmap = 'Greens', fmt = 'g')\n",
    "ax.xaxis.set_label_position('top')\n",
    "plt.tight_layout()\n",
    "plt.title('Confusion matrix for decision tree')\n",
    "plt.ylabel('Actual label')\n",
    "plt.xlabel('Predicted label')\n",
    "plt.show()"
   ]
  },
  {
   "cell_type": "code",
   "execution_count": null,
   "id": "5520f607-d599-4410-bda8-cfded0fc0039",
   "metadata": {},
   "outputs": [],
   "source": [
    "# ROC Curve\n",
    "from sklearn.metrics import roc_auc_score,roc_curve\n",
    "y_probabilities = model.predict_proba(X_test)[:,1]\n",
    "false_positive_rate, true_positive_rate, threshold = roc_curve(y_test,y_probabilities)\n",
    "plt.figure(figsize=(10,6))\n",
    "plt.title('ROC for decision tree')\n",
    "plt.plot(false_positive_rate, true_positive_rate, linewidth=5, color='green')\n",
    "plt.plot([0,1],ls='--',linewidth=5)\n",
    "plt.plot([0,0],[1,0],c='.5')\n",
    "plt.plot([1,1],c='.5')\n",
    "plt.text(0.2,0.6,'AUC: {:.2f}'.format(roc_auc_score(y_test,y_probabilities)),size= 16)\n",
    "plt.xlabel('False Positive Rate')\n",
    "plt.ylabel('True Positive Rate')\n",
    "plt.show()"
   ]
  },
  {
   "cell_type": "code",
   "execution_count": null,
   "id": "fc580520-878e-4a73-8206-05887eba421b",
   "metadata": {},
   "outputs": [],
   "source": [
    "print('RandomForestClassifier')\n",
    "from sklearn.ensemble import RandomForestClassifier\n",
    "model = RandomForestClassifier(n_estimators=100) # , max_depth=5, random_state=1\n",
    "model.fit(X_train, y_train)\n",
    "Y_pred = model.predict(X_test)\n",
    "score = model.score(X_train, y_train)\n",
    "print('Training Score:', score)\n",
    "score = model.score(X_test, y_test)\n",
    "print('Testing Score:', score)\n",
    "output = pd.DataFrame({'Predicted':Y_pred}) # Heart-Disease yes or no? 1/0\n",
    "print(output.head())\n",
    "people = output.loc[output.Predicted == 1][\"Predicted\"]\n",
    "rate_people = 0\n",
    "if len(people) > 0 :\n",
    "    rate_people = len(people)/len(output)\n",
    "print(\"% of people predicted with heart-disease:\", rate_people)\n",
    "score_rfc = score\n",
    "out_rfc = output\n",
    "from sklearn.metrics import classification_report\n",
    "print(classification_report(y_test,Y_pred))"
   ]
  },
  {
   "cell_type": "code",
   "execution_count": null,
   "id": "aa072380-db0a-476b-9037-89cc57ea2c50",
   "metadata": {},
   "outputs": [],
   "source": [
    "from sklearn.metrics import confusion_matrix\n",
    "confusion_matrix = confusion_matrix(y_test,Y_pred)\n",
    "class_names = [0,1]\n",
    "fig,ax = plt.subplots()\n",
    "tick_marks = np.arange(len(class_names))\n",
    "plt.xticks(tick_marks,class_names)\n",
    "plt.yticks(tick_marks,class_names)\n",
    "sns.heatmap(pd.DataFrame(confusion_matrix), annot = True, cmap = 'Greens', fmt = 'g')\n",
    "ax.xaxis.set_label_position('top')\n",
    "plt.tight_layout()\n",
    "plt.title('Confusion matrix for random forest')\n",
    "plt.ylabel('Actual label')\n",
    "plt.xlabel('Predicted label')\n",
    "plt.show()"
   ]
  },
  {
   "cell_type": "code",
   "execution_count": null,
   "id": "26592936-2cc4-48c1-b40f-688c63401c57",
   "metadata": {},
   "outputs": [],
   "source": [
    "# ROC Curve\n",
    "from sklearn.metrics import roc_auc_score,roc_curve\n",
    "y_probabilities = model.predict_proba(X_test)[:,1]\n",
    "false_positive_rate, true_positive_rate, threshold_knn = roc_curve(y_test,y_probabilities)\n",
    "plt.figure(figsize=(10,6))\n",
    "plt.title('ROC for random forest')\n",
    "plt.plot(false_positive_rate, true_positive_rate, linewidth=5, color='green')\n",
    "plt.plot([0,1],ls='--',linewidth=5)\n",
    "plt.plot([0,0],[1,0],c='.5')\n",
    "plt.plot([1,1],c='.5')\n",
    "plt.text(0.2,0.6,'AUC: {:.2f}'.format(roc_auc_score(y_test,y_probabilities)),size= 16)\n",
    "plt.xlabel('False Positive Rate')\n",
    "plt.ylabel('True Positive Rate')\n",
    "plt.show()"
   ]
  },
  {
   "cell_type": "code",
   "execution_count": null,
   "id": "c3cd86bc-dcb8-4787-97c3-ecd91f98fbc6",
   "metadata": {},
   "outputs": [],
   "source": [
    "print('KNeighborsClassifier')\n",
    "from sklearn.neighbors import KNeighborsClassifier\n",
    "model = KNeighborsClassifier()\n",
    "model.fit(X_train, y_train)\n",
    "Y_pred = model.predict(X_test)\n",
    "score = model.score(X_train, y_train)\n",
    "print('Training Score:', score_logreg)\n",
    "score = model.score(X_test, y_test)\n",
    "print('Testing Score:', score)\n",
    "output = pd.DataFrame({'Predicted':Y_pred}) # Heart-Disease yes or no? 1/0\n",
    "print(output.head())\n",
    "people = output.loc[output.Predicted == 1][\"Predicted\"]\n",
    "rate_people = 0\n",
    "if len(people) > 0 :\n",
    "    rate_people = len(people)/len(output)\n",
    "print(\"% of people predicted with heart-disease:\", rate_people)\n",
    "score_knc = score\n",
    "out_knc = output\n",
    "from sklearn.metrics import classification_report\n",
    "print(classification_report(y_test,Y_pred))"
   ]
  },
  {
   "cell_type": "code",
   "execution_count": null,
   "id": "a386c74f-d582-4f3a-a609-c64e8b0417d6",
   "metadata": {},
   "outputs": [],
   "source": [
    "from sklearn.metrics import confusion_matrix\n",
    "confusion_matrix = confusion_matrix(y_test,Y_pred)\n",
    "class_names = [0,1]\n",
    "fig,ax = plt.subplots()\n",
    "tick_marks = np.arange(len(class_names))\n",
    "plt.xticks(tick_marks,class_names)\n",
    "plt.yticks(tick_marks,class_names)\n",
    "sns.heatmap(pd.DataFrame(confusion_matrix), annot = True, cmap = 'Greens', fmt = 'g')\n",
    "ax.xaxis.set_label_position('top')\n",
    "plt.tight_layout()\n",
    "plt.title('Confusion matrix for knc')\n",
    "plt.ylabel('Actual label')\n",
    "plt.xlabel('Predicted label')\n",
    "plt.show()"
   ]
  },
  {
   "cell_type": "code",
   "execution_count": null,
   "id": "08d7d3d4-2963-41f7-804c-084362f3bb7c",
   "metadata": {},
   "outputs": [],
   "source": [
    "# ROC Curve\n",
    "from sklearn.metrics import roc_auc_score,roc_curve\n",
    "y_probabilities = model.predict_proba(X_test)[:,1]\n",
    "false_positive_rate, true_positive_rate, threshold = roc_curve(y_test,y_probabilities)\n",
    "plt.figure(figsize=(10,6))\n",
    "plt.title('ROC for knc')\n",
    "plt.plot(false_positive_rate, true_positive_rate, linewidth=5, color='green')\n",
    "plt.plot([0,1],ls='--',linewidth=5)\n",
    "plt.plot([0,0],[1,0],c='.5')\n",
    "plt.plot([1,1],c='.5')\n",
    "plt.text(0.2,0.6,'AUC: {:.2f}'.format(roc_auc_score(y_test,y_probabilities)),size= 16)\n",
    "plt.xlabel('False Positive Rate')\n",
    "plt.ylabel('True Positive Rate')\n",
    "plt.show()"
   ]
  },
  {
   "cell_type": "code",
   "execution_count": null,
   "id": "8e3a217a-f49c-49ab-bd1a-dbfbdb40b4b1",
   "metadata": {},
   "outputs": [],
   "source": [
    "plt.rcdefaults()\n",
    "fig, ax = plt.subplots()\n",
    "algorithms = ('Logistic Regression', 'K Neighbors Classifier', 'Random Forest Classifier', 'Decision Tree Classifier')\n",
    "y_pos = np.arange(len(algorithms))\n",
    "x = (score_logreg, score_knc, score_rfc, score_dtc) # scores\n",
    "ax.barh(y_pos, x, align='center')\n",
    "ax.set_yticks(y_pos)\n",
    "ax.set_yticklabels(algorithms)\n",
    "ax.invert_yaxis() # labels read top-to-bottom\n",
    "ax.set_xlabel('Performance')\n",
    "ax.set_title('Which one is the best algorithm?')\n",
    "for i, v in enumerate(x):\n",
    "    ax.text(v + 1, i, str(v), color='black', va='center', fontweight='normal')\n",
    "plt.show()"
   ]
  },
  {
   "cell_type": "code",
   "execution_count": null,
   "id": "aaa5caa9-31de-4e96-9ae8-71345945362d",
   "metadata": {},
   "outputs": [],
   "source": [
    "score = score_logreg\n",
    "output = out_logreg\n",
    "print(\"Logistic Regression!\", score)\n",
    "if score_dtc > score:\n",
    "    score = score_dtc\n",
    "    output = out_dtc\n",
    "    print(\"Decision Tree Classifier!\", score)\n",
    "if score_rfc > score:\n",
    "    score = score_rfc\n",
    "    output = out_rfc\n",
    "    print(\"Random Forest Classifier!\", score)\n",
    "if score_knc > score:\n",
    "    score = score_knc\n",
    "    output = out_knc\n",
    "    print(\"K Neighbors Classifier!\", score)"
   ]
  },
  {
   "cell_type": "code",
   "execution_count": null,
   "id": "d3aae4d9-0669-4e7d-ba53-56f2aba6a731",
   "metadata": {},
   "outputs": [],
   "source": [
    "output.to_csv('output.csv', index=False)\n",
    "print(\"Success!\")"
   ]
  },
  {
   "cell_type": "code",
   "execution_count": null,
   "id": "ec611438-673c-4168-8471-505149a0e472",
   "metadata": {},
   "outputs": [],
   "source": [
    "output.head(3)"
   ]
  },
  {
   "cell_type": "code",
   "execution_count": null,
   "id": "3d1e2635-5035-4cb7-891b-f4165290b3ba",
   "metadata": {},
   "outputs": [],
   "source": [
    "results=pd.DataFrame(columns=['score'])\n",
    "results.loc['Logistic Regression']=[score_logreg]\n",
    "results.loc['Decision Tree Classifier']=[score_dtc]\n",
    "results.loc['Random Forest Classifier']=[score_rfc]\n",
    "results.loc['K-Neighbors Classifier']=[score_knc]"
   ]
  },
  {
   "cell_type": "code",
   "execution_count": null,
   "id": "364b97ca-249f-43d1-b9ac-d65694bab714",
   "metadata": {},
   "outputs": [],
   "source": [
    "results.sort_values('score',ascending=False).style.background_gradient(cmap='Greens',subset=['score'])"
   ]
  },
  {
   "cell_type": "code",
   "execution_count": null,
   "id": "451a5c9d-2e09-43ad-a745-0af116490b52",
   "metadata": {},
   "outputs": [],
   "source": []
  }
 ],
 "metadata": {
  "kernelspec": {
   "display_name": "Python 3 (ipykernel)",
   "language": "python",
   "name": "python3"
  },
  "language_info": {
   "codemirror_mode": {
    "name": "ipython",
    "version": 3
   },
   "file_extension": ".py",
   "mimetype": "text/x-python",
   "name": "python",
   "nbconvert_exporter": "python",
   "pygments_lexer": "ipython3",
   "version": "3.8.16"
  }
 },
 "nbformat": 4,
 "nbformat_minor": 5
}
