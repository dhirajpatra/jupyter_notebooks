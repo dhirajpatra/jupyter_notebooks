{
 "cells": [
  {
   "cell_type": "code",
   "execution_count": null,
   "id": "9bd9bbe8-ee20-4892-b103-7f717315626c",
   "metadata": {},
   "outputs": [],
   "source": [
    "import numpy as np\n",
    "\n",
    "class NaiveBayes:\n",
    "    def __init__(self):\n",
    "        self.classes = None\n",
    "        self.class_priors = None\n",
    "        self.feature_likelihoods = None\n",
    "\n",
    "    def fit(self, X, y):\n",
    "        # Calculate the number of classes and the number of features\n",
    "        n_samples, n_features = X.shape\n",
    "        self.classes = np.unique(y)\n",
    "        n_classes = len(self.classes)\n",
    "\n",
    "        # Calculate the prior probabilities of each class\n",
    "        self.class_priors = np.zeros(n_classes)\n",
    "        for i, c in enumerate(self.classes):\n",
    "            self.class_priors[i] = np.sum(y == c) / n_samples\n",
    "\n",
    "        # Calculate the likelihood of each feature given each class\n",
    "        self.feature_likelihoods = np.zeros((n_classes, n_features))\n",
    "        for i, c in enumerate(self.classes):\n",
    "            X_c = X[y == c]\n",
    "            self.feature_likelihoods[i, :] = (X_c.sum(axis=0) + 1) / (np.sum(X_c) + n_features)\n",
    "\n",
    "    def predict(self, X):\n",
    "        # Calculate the posterior probabilities of each class given the data\n",
    "        posteriors = np.zeros((X.shape[0], len(self.classes)))\n",
    "        for i, c in enumerate(self.classes):\n",
    "            posteriors[:, i] = np.log(self.class_priors[i]) + np.sum(np.log(self.feature_likelihoods[i, :][None, :]) * X, axis=1)\n",
    "\n",
    "        # Return the class with the highest posterior probability for each data point\n",
    "        return self.classes[np.argmax(posteriors, axis=1)]\n"
   ]
  },
  {
   "cell_type": "code",
   "execution_count": null,
   "id": "88b3da48-19d9-453d-ab4e-4f6e5915a1b0",
   "metadata": {},
   "outputs": [],
   "source": [
    "# Create some sample data\n",
    "X = np.array([[1, 1, 1], [0, 0, 1], [1, 0, 0], [0, 1, 0], [1, 0, 1], [0, 1, 1], [0, 0, 0], [1, 1, 0], [1, 1, 1], [0, 0, 1]])\n",
    "y = np.array([0, 1, 1, 1, 0, 0, 1, 0, 0, 1])\n",
    "\n",
    "# Create an instance of the NaiveBayes class and train it on the data\n",
    "nb = NaiveBayes()\n",
    "nb.fit(X, y)\n",
    "\n",
    "# Make predictions on some test data\n",
    "X_test = np.array([[1, 0, 1], [0, 1, 0], [1, 1, 1]])\n",
    "y_pred = nb.predict(X_test)\n",
    "\n",
    "print(y_pred)  # Output: [0, 1, 0]\n"
   ]
  },
  {
   "cell_type": "code",
   "execution_count": null,
   "id": "20471f93-1e77-4256-be7c-1c3f4ea0931e",
   "metadata": {},
   "outputs": [],
   "source": []
  },
  {
   "cell_type": "code",
   "execution_count": null,
   "id": "0f0b9a6f-b1b6-41fb-af4d-e4c4d2126378",
   "metadata": {},
   "outputs": [],
   "source": []
  }
 ],
 "metadata": {
  "kernelspec": {
   "display_name": "Python 3 (ipykernel)",
   "language": "python",
   "name": "python3"
  },
  "language_info": {
   "codemirror_mode": {
    "name": "ipython",
    "version": 3
   },
   "file_extension": ".py",
   "mimetype": "text/x-python",
   "name": "python",
   "nbconvert_exporter": "python",
   "pygments_lexer": "ipython3",
   "version": "3.8.16"
  }
 },
 "nbformat": 4,
 "nbformat_minor": 5
}
