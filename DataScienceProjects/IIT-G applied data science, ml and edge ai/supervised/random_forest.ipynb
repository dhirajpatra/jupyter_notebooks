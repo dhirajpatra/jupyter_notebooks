{
 "cells": [
  {
   "cell_type": "code",
   "execution_count": null,
   "id": "348cb0a4-7f08-48b2-8c13-c99eafb21869",
   "metadata": {},
   "outputs": [],
   "source": [
    "# import required libraries\n",
    "from sklearn.ensemble import RandomForestClassifier\n",
    "from sklearn.datasets import make_classification\n",
    "from sklearn.model_selection import train_test_split\n",
    "from sklearn.datasets import load_iris\n",
    "from sklearn.metrics import accuracy_score, precision_score, recall_score, f1_score, roc_auc_score\n",
    "import pandas as pd\n",
    "import numpy as np\n",
    "\n"
   ]
  },
  {
   "cell_type": "code",
   "execution_count": null,
   "id": "f384ea91-2917-4142-9865-4b2ee78a2f58",
   "metadata": {},
   "outputs": [],
   "source": [
    "# load data\n",
    "data = load_iris()\n"
   ]
  },
  {
   "cell_type": "code",
   "execution_count": null,
   "id": "2e5d4c8b-63cd-4974-aa3c-2c1666d276b3",
   "metadata": {},
   "outputs": [],
   "source": [
    "# split data into training and testing sets\n",
    "X_train, X_test, y_train, y_test = train_test_split(data.data, data.target, test_size=0.3, random_state=42)\n"
   ]
  },
  {
   "cell_type": "code",
   "execution_count": null,
   "id": "af44111a-6b4f-45d3-8cea-c41c4d62cce7",
   "metadata": {},
   "outputs": [],
   "source": [
    "# create Random Forest model\n",
    "rf_model = RandomForestClassifier(n_estimators=100, max_depth=5, random_state=42)\n"
   ]
  },
  {
   "cell_type": "code",
   "execution_count": null,
   "id": "b4d6aca6-ab74-4579-878e-85f249dbebf2",
   "metadata": {},
   "outputs": [],
   "source": [
    "# train the model\n",
    "rf_model.fit(X_train, y_train)\n",
    "\n"
   ]
  },
  {
   "cell_type": "code",
   "execution_count": null,
   "id": "1e6a9700-a3b5-4805-b664-a5e36da122ac",
   "metadata": {},
   "outputs": [],
   "source": [
    "# make predictions on test data\n",
    "y_pred = rf_model.predict(X_test)\n",
    "\n"
   ]
  },
  {
   "cell_type": "code",
   "execution_count": null,
   "id": "97f8c017-6558-4611-8e33-27d259fa6247",
   "metadata": {},
   "outputs": [],
   "source": [
    "# evaluate the model\n",
    "accuracy = accuracy_score(y_test, y_pred)\n",
    "precision = precision_score(y_test, y_pred, average='weighted')\n",
    "recall = recall_score(y_test, y_pred, average='weighted')\n",
    "f1 = f1_score(y_test, y_pred, average='weighted')\n",
    "y_pred_proba = rf_model.predict_proba(X_test)\n",
    "roc_auc = roc_auc_score(y_test, y_pred_proba, multi_class='ovr',average='weighted')\n",
    "\n"
   ]
  },
  {
   "cell_type": "code",
   "execution_count": null,
   "id": "42915f74-705b-44f2-8a2e-87198bc2bd79",
   "metadata": {},
   "outputs": [],
   "source": [
    "print('Accuracy:', accuracy)\n",
    "print('Precision:', precision)\n",
    "print('Recall:', recall)\n",
    "print('F1 score:', f1)\n",
    "print('ROC-AUC score:', roc_auc)"
   ]
  },
  {
   "cell_type": "code",
   "execution_count": null,
   "id": "8fb428e2-1e9a-49de-8371-9f6dcb386d2c",
   "metadata": {},
   "outputs": [],
   "source": [
    "# import required libraries\n",
    "from sklearn.metrics import confusion_matrix, roc_curve, auc\n",
    "import matplotlib.pyplot as plt\n",
    "import seaborn as sns\n",
    "\n",
    "\n"
   ]
  },
  {
   "cell_type": "code",
   "execution_count": null,
   "id": "d5b156da-2be5-4498-8979-f29eb6828e62",
   "metadata": {},
   "outputs": [],
   "source": [
    "# calculate confusion matrix\n",
    "cm = confusion_matrix(y_test, y_pred)\n",
    "\n"
   ]
  },
  {
   "cell_type": "code",
   "execution_count": null,
   "id": "92752115-024a-4e3d-a472-72c4c15ffa65",
   "metadata": {},
   "outputs": [],
   "source": [
    "# plot confusion matrix\n",
    "plt.figure(figsize=(5,5))\n",
    "sns.heatmap(cm, annot=True, cmap='Blues')\n",
    "plt.title('Confusion matrix')\n",
    "plt.ylabel('True label')\n",
    "plt.xlabel('Predicted label')\n",
    "plt.show()\n",
    "\n"
   ]
  },
  {
   "cell_type": "code",
   "execution_count": null,
   "id": "181fc9cc-5ff8-4807-a2a8-fb75463fc9d0",
   "metadata": {},
   "outputs": [],
   "source": [
    "# calculate ROC curve and AUC score\n",
    "y_pred_proba = rf_model.predict_proba(X_test)\n",
    "roc_auc = roc_auc_score(y_test, y_pred_proba, multi_class='ovr', average='weighted')\n",
    "print(roc_auc)\n"
   ]
  },
  {
   "cell_type": "code",
   "execution_count": null,
   "id": "3abf6dda-3ca7-44f9-aa52-ef6a89df3704",
   "metadata": {},
   "outputs": [],
   "source": [
    "# plot ROC curve\n",
    "plt.figure(figsize=(5,5))\n",
    "# fpr, tpr, _ = roc_curve(y_test, y_pred_proba[:, 1])\n",
    "# plt.plot(fpr, tpr, color='darkorange', lw=2, label='ROC curve (AUC = %0.2f)' % roc_auc)\n",
    "plt.plot([0, 1], [0, 1], color='navy', lw=2, linestyle='--')\n",
    "plt.xlim([0.0, 1.0])\n",
    "plt.ylim([0.0, 1.05])\n",
    "plt.xlabel('False Positive Rate')\n",
    "plt.ylabel('True Positive Rate')\n",
    "plt.title('Receiver operating characteristic (ROC)')\n",
    "plt.legend(loc=\"lower right\")\n",
    "plt.show()"
   ]
  },
  {
   "cell_type": "code",
   "execution_count": null,
   "id": "ba47949e-8d7f-49a1-b31d-18fb349d148e",
   "metadata": {},
   "outputs": [],
   "source": []
  }
 ],
 "metadata": {
  "kernelspec": {
   "display_name": "Python 3 (ipykernel)",
   "language": "python",
   "name": "python3"
  },
  "language_info": {
   "codemirror_mode": {
    "name": "ipython",
    "version": 3
   },
   "file_extension": ".py",
   "mimetype": "text/x-python",
   "name": "python",
   "nbconvert_exporter": "python",
   "pygments_lexer": "ipython3",
   "version": "3.8.16"
  }
 },
 "nbformat": 4,
 "nbformat_minor": 5
}
