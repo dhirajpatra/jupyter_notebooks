{
 "cells": [
  {
   "cell_type": "markdown",
   "metadata": {},
   "source": [
    "# This is 1st level heading"
   ]
  },
  {
   "cell_type": "markdown",
   "metadata": {},
   "source": [
    "## This is my 2nd level heading"
   ]
  },
  {
   "cell_type": "markdown",
   "metadata": {},
   "source": [
    "### This is my 3rd level heading"
   ]
  },
  {
   "cell_type": "markdown",
   "metadata": {},
   "source": [
    "I am doing my python class today."
   ]
  },
  {
   "cell_type": "code",
   "execution_count": 89,
   "metadata": {},
   "outputs": [],
   "source": [
    "# This function is created by Arihant and it is doing addditons of 2 variables"
   ]
  },
  {
   "cell_type": "code",
   "execution_count": 91,
   "metadata": {},
   "outputs": [],
   "source": [
    "# This function is created by Arihant"
   ]
  },
  {
   "cell_type": "code",
   "execution_count": 93,
   "metadata": {},
   "outputs": [
    {
     "data": {
      "text/plain": [
       "'\\nDate: 17th Sept 20222\\nWritten by: Arihant Jain\\nPurpose: Adding 2 \\n'"
      ]
     },
     "execution_count": 93,
     "metadata": {},
     "output_type": "execute_result"
    }
   ],
   "source": [
    "\"\"\"\n",
    "Date: 17th Sept 20222\n",
    "Written by: Arihant Jain\n",
    "Purpose: Adding 2 \n",
    "\"\"\""
   ]
  },
  {
   "cell_type": "code",
   "execution_count": 94,
   "metadata": {},
   "outputs": [],
   "source": [
    "a=\"This is my first python class\""
   ]
  },
  {
   "cell_type": "code",
   "execution_count": 95,
   "metadata": {},
   "outputs": [
    {
     "name": "stdout",
     "output_type": "stream",
     "text": [
      "This is my first python class\n"
     ]
    }
   ],
   "source": [
    "print(a)"
   ]
  },
  {
   "cell_type": "code",
   "execution_count": 96,
   "metadata": {},
   "outputs": [
    {
     "data": {
      "text/plain": [
       "'This is my first python class'"
      ]
     },
     "execution_count": 96,
     "metadata": {},
     "output_type": "execute_result"
    }
   ],
   "source": [
    "a"
   ]
  },
  {
   "cell_type": "code",
   "execution_count": 99,
   "metadata": {},
   "outputs": [],
   "source": [
    "a=1"
   ]
  },
  {
   "cell_type": "code",
   "execution_count": 100,
   "metadata": {},
   "outputs": [
    {
     "name": "stdout",
     "output_type": "stream",
     "text": [
      "1\n"
     ]
    }
   ],
   "source": [
    "print(a)"
   ]
  },
  {
   "cell_type": "code",
   "execution_count": 101,
   "metadata": {},
   "outputs": [
    {
     "name": "stdout",
     "output_type": "stream",
     "text": [
      "a\n"
     ]
    }
   ],
   "source": [
    "print(\"a\")"
   ]
  },
  {
   "cell_type": "code",
   "execution_count": 97,
   "metadata": {},
   "outputs": [
    {
     "name": "stdout",
     "output_type": "stream",
     "text": [
      "1\n"
     ]
    }
   ],
   "source": [
    "b=1\n",
    "print(b)"
   ]
  },
  {
   "cell_type": "code",
   "execution_count": 8,
   "metadata": {},
   "outputs": [
    {
     "name": "stdout",
     "output_type": "stream",
     "text": [
      "This is my first python class\n"
     ]
    }
   ],
   "source": [
    "print(\"This is my first python class\")"
   ]
  },
  {
   "cell_type": "code",
   "execution_count": 102,
   "metadata": {},
   "outputs": [
    {
     "name": "stdout",
     "output_type": "stream",
     "text": [
      "1 2\n"
     ]
    }
   ],
   "source": [
    "A=1\n",
    "a=2\n",
    "print (A,a)"
   ]
  },
  {
   "cell_type": "code",
   "execution_count": 11,
   "metadata": {},
   "outputs": [
    {
     "name": "stdout",
     "output_type": "stream",
     "text": [
      "a\n"
     ]
    }
   ],
   "source": [
    "print(\"a\")"
   ]
  },
  {
   "cell_type": "code",
   "execution_count": 13,
   "metadata": {},
   "outputs": [],
   "source": [
    "#Python Operators\n",
    "#Arithmetic\n",
    "#Comparison\n",
    "#Assignment\n",
    "#Logical\n",
    "#Membership\n",
    "#Identity\n",
    "#Bitwise"
   ]
  },
  {
   "cell_type": "markdown",
   "metadata": {},
   "source": [
    "# Arithmetic Operator +,-,*,/,//,%,**"
   ]
  },
  {
   "cell_type": "code",
   "execution_count": 103,
   "metadata": {},
   "outputs": [
    {
     "name": "stdout",
     "output_type": "stream",
     "text": [
      "1.2\n"
     ]
    }
   ],
   "source": [
    "#Normal Division (/) --> (Float div) \n",
    "x=6\n",
    "y=5\n",
    "r=x/y\n",
    "print(r)"
   ]
  },
  {
   "cell_type": "code",
   "execution_count": 107,
   "metadata": {},
   "outputs": [
    {
     "name": "stdout",
     "output_type": "stream",
     "text": [
      "2\n"
     ]
    }
   ],
   "source": [
    "# Modulo Division (//) --> Floor Division --> without decimal values\n",
    "x=10\n",
    "y=5\n",
    "res=x//y\n",
    "print(res)"
   ]
  },
  {
   "cell_type": "code",
   "execution_count": 109,
   "metadata": {},
   "outputs": [
    {
     "name": "stdout",
     "output_type": "stream",
     "text": [
      "1\n"
     ]
    }
   ],
   "source": [
    "# Remainder Division (%)\n",
    "x=10\n",
    "y=3\n",
    "res=x%y\n",
    "print(res)"
   ]
  },
  {
   "cell_type": "code",
   "execution_count": 110,
   "metadata": {},
   "outputs": [
    {
     "name": "stdout",
     "output_type": "stream",
     "text": [
      "1000\n"
     ]
    }
   ],
   "source": [
    "#Exponentiation (**)\n",
    "res=x**y\n",
    "print(res)"
   ]
  },
  {
   "cell_type": "code",
   "execution_count": 21,
   "metadata": {},
   "outputs": [
    {
     "name": "stdout",
     "output_type": "stream",
     "text": [
      "18\n"
     ]
    }
   ],
   "source": [
    "x=9\n",
    "y=9\n",
    "print(x+y)"
   ]
  },
  {
   "cell_type": "markdown",
   "metadata": {},
   "source": [
    "# Comparison Operators <,<=,>,>=,==,!="
   ]
  },
  {
   "cell_type": "markdown",
   "metadata": {},
   "source": [
    "# Comparison"
   ]
  },
  {
   "cell_type": "code",
   "execution_count": 116,
   "metadata": {},
   "outputs": [
    {
     "name": "stdout",
     "output_type": "stream",
     "text": [
      "False\n"
     ]
    }
   ],
   "source": [
    "a = 15\n",
    "b = 15\n",
    "print(a != b) "
   ]
  },
  {
   "cell_type": "code",
   "execution_count": 25,
   "metadata": {},
   "outputs": [
    {
     "name": "stdout",
     "output_type": "stream",
     "text": [
      "False\n"
     ]
    }
   ],
   "source": [
    "# is equal to\n",
    "# a == b is False \n",
    "print(a == b) "
   ]
  },
  {
   "cell_type": "code",
   "execution_count": 117,
   "metadata": {},
   "outputs": [
    {
     "name": "stdout",
     "output_type": "stream",
     "text": [
      "True\n"
     ]
    }
   ],
   "source": [
    "# a != b is True \n",
    "print(a >= b) "
   ]
  },
  {
   "cell_type": "markdown",
   "metadata": {},
   "source": [
    "# Assignment Operator =,+=,*=,%="
   ]
  },
  {
   "cell_type": "code",
   "execution_count": 119,
   "metadata": {},
   "outputs": [
    {
     "name": "stdout",
     "output_type": "stream",
     "text": [
      "31\n"
     ]
    }
   ],
   "source": [
    "a = 21\n",
    "b = 10\n",
    "c = a + b\n",
    "print (c)"
   ]
  },
  {
   "cell_type": "code",
   "execution_count": 120,
   "metadata": {},
   "outputs": [
    {
     "name": "stdout",
     "output_type": "stream",
     "text": [
      "52\n"
     ]
    }
   ],
   "source": [
    "c += a \n",
    "#--> c=c+a\n",
    "print (c)"
   ]
  },
  {
   "cell_type": "code",
   "execution_count": 121,
   "metadata": {},
   "outputs": [
    {
     "name": "stdout",
     "output_type": "stream",
     "text": [
      "1092\n"
     ]
    }
   ],
   "source": [
    "c *= a \n",
    "#c=c*a\n",
    "print (c)"
   ]
  },
  {
   "cell_type": "code",
   "execution_count": 122,
   "metadata": {},
   "outputs": [
    {
     "name": "stdout",
     "output_type": "stream",
     "text": [
      "2\n"
     ]
    }
   ],
   "source": [
    "a=4\n",
    "c=10\n",
    "c %= a \n",
    "#c=c/a --> Remainder\n",
    "print (c)"
   ]
  },
  {
   "cell_type": "code",
   "execution_count": 37,
   "metadata": {},
   "outputs": [
    {
     "name": "stdout",
     "output_type": "stream",
     "text": [
      "2.5\n"
     ]
    }
   ],
   "source": [
    "a=4\n",
    "c=10\n",
    "c /=a \n",
    "# c=c/a\n",
    "print(c)"
   ]
  },
  {
   "cell_type": "markdown",
   "metadata": {},
   "source": [
    "# Logical Operator and, or, not"
   ]
  },
  {
   "cell_type": "code",
   "execution_count": 39,
   "metadata": {},
   "outputs": [
    {
     "name": "stdout",
     "output_type": "stream",
     "text": [
      "False\n"
     ]
    }
   ],
   "source": [
    "x = 5\n",
    "y = 6 \n",
    "print(x < 3 and x < 10)"
   ]
  },
  {
   "cell_type": "code",
   "execution_count": 123,
   "metadata": {},
   "outputs": [
    {
     "name": "stdout",
     "output_type": "stream",
     "text": [
      "True\n"
     ]
    }
   ],
   "source": [
    "x = 5\n",
    "y = 6 \n",
    "print(x > 3 and x < 2)"
   ]
  },
  {
   "cell_type": "code",
   "execution_count": 125,
   "metadata": {},
   "outputs": [
    {
     "ename": "SyntaxError",
     "evalue": "invalid syntax (2773613386.py, line 12)",
     "output_type": "error",
     "traceback": [
      "\u001b[1;36m  Input \u001b[1;32mIn [125]\u001b[1;36m\u001b[0m\n\u001b[1;33m    not\u001b[0m\n\u001b[1;37m       ^\u001b[0m\n\u001b[1;31mSyntaxError\u001b[0m\u001b[1;31m:\u001b[0m invalid syntax\n"
     ]
    }
   ],
   "source": [
    "a = True\n",
    "b = False\n",
    "  \n",
    "# Print a and b is False \n",
    "print(a and b) \n",
    "  \n",
    "# Print a or b is True \n",
    "print(a or b) \n",
    "  \n",
    "# Print not a is False \n",
    "print(not b) \n",
    "\n"
   ]
  },
  {
   "cell_type": "code",
   "execution_count": 126,
   "metadata": {},
   "outputs": [
    {
     "ename": "NameError",
     "evalue": "name 'Print' is not defined",
     "output_type": "error",
     "traceback": [
      "\u001b[1;31m---------------------------------------------------------------------------\u001b[0m",
      "\u001b[1;31mNameError\u001b[0m                                 Traceback (most recent call last)",
      "Input \u001b[1;32mIn [126]\u001b[0m, in \u001b[0;36m<cell line: 1>\u001b[1;34m()\u001b[0m\n\u001b[1;32m----> 1\u001b[0m \u001b[43mPrint\u001b[49m(\u001b[38;5;124m\"\u001b[39m\u001b[38;5;124mArihant\u001b[39m\u001b[38;5;124m\"\u001b[39m)\n",
      "\u001b[1;31mNameError\u001b[0m: name 'Print' is not defined"
     ]
    }
   ],
   "source": [
    "Print(\"Arihant\")"
   ]
  },
  {
   "cell_type": "code",
   "execution_count": 127,
   "metadata": {},
   "outputs": [
    {
     "name": "stdout",
     "output_type": "stream",
     "text": [
      "Arihant\n"
     ]
    }
   ],
   "source": [
    "print(\"Arihant\")"
   ]
  },
  {
   "cell_type": "markdown",
   "metadata": {},
   "source": [
    "# Membership Operator- in, not in"
   ]
  },
  {
   "cell_type": "code",
   "execution_count": 1,
   "metadata": {},
   "outputs": [
    {
     "name": "stdout",
     "output_type": "stream",
     "text": [
      "False\n"
     ]
    }
   ],
   "source": [
    "x = 'IIT Academy'  \n",
    "print('Cad' in x)"
   ]
  },
  {
   "cell_type": "code",
   "execution_count": 2,
   "metadata": {},
   "outputs": [
    {
     "name": "stdout",
     "output_type": "stream",
     "text": [
      "True\n"
     ]
    }
   ],
   "source": [
    "print('I' in x)"
   ]
  },
  {
   "cell_type": "code",
   "execution_count": 3,
   "metadata": {},
   "outputs": [
    {
     "name": "stdout",
     "output_type": "stream",
     "text": [
      "True\n"
     ]
    }
   ],
   "source": [
    "print('IIT' in x)"
   ]
  },
  {
   "cell_type": "code",
   "execution_count": 4,
   "metadata": {},
   "outputs": [
    {
     "name": "stdout",
     "output_type": "stream",
     "text": [
      "False\n"
     ]
    }
   ],
   "source": [
    "print('IIT' not in x) "
   ]
  },
  {
   "cell_type": "code",
   "execution_count": 5,
   "metadata": {},
   "outputs": [
    {
     "name": "stdout",
     "output_type": "stream",
     "text": [
      "False\n"
     ]
    }
   ],
   "source": [
    "print('Aca' not in x)"
   ]
  },
  {
   "cell_type": "markdown",
   "metadata": {},
   "source": [
    "# Identity Operator is , is not"
   ]
  },
  {
   "cell_type": "code",
   "execution_count": 136,
   "metadata": {},
   "outputs": [
    {
     "name": "stdout",
     "output_type": "stream",
     "text": [
      "True\n"
     ]
    }
   ],
   "source": [
    "a1 = 3\n",
    "b1 = 6\n",
    "print(a1 is not b1) "
   ]
  },
  {
   "cell_type": "code",
   "execution_count": 55,
   "metadata": {},
   "outputs": [
    {
     "name": "stdout",
     "output_type": "stream",
     "text": [
      "False\n"
     ]
    }
   ],
   "source": [
    "print(a1 is b1)"
   ]
  },
  {
   "cell_type": "code",
   "execution_count": 1,
   "metadata": {},
   "outputs": [],
   "source": [
    "a2 = 'IITACADEMY'\n",
    "b2 = 'iitacademy'"
   ]
  },
  {
   "cell_type": "code",
   "execution_count": 57,
   "metadata": {},
   "outputs": [
    {
     "name": "stdout",
     "output_type": "stream",
     "text": [
      "False\n"
     ]
    }
   ],
   "source": [
    "print(a2 is b2)"
   ]
  },
  {
   "cell_type": "code",
   "execution_count": 58,
   "metadata": {},
   "outputs": [
    {
     "name": "stdout",
     "output_type": "stream",
     "text": [
      "True\n"
     ]
    }
   ],
   "source": [
    "print(a2 is not b2)"
   ]
  },
  {
   "cell_type": "markdown",
   "metadata": {},
   "source": [
    "### Order of Operators"
   ]
  },
  {
   "cell_type": "code",
   "execution_count": 62,
   "metadata": {},
   "outputs": [
    {
     "name": "stdout",
     "output_type": "stream",
     "text": [
      "160.0\n"
     ]
    }
   ],
   "source": [
    "a=30\n",
    "b=10\n",
    "c=20\n",
    "d=5\n",
    "e=(a+b)*c/d\n",
    "print(e)"
   ]
  },
  {
   "cell_type": "markdown",
   "metadata": {},
   "source": [
    "# other commands"
   ]
  },
  {
   "cell_type": "code",
   "execution_count": 64,
   "metadata": {},
   "outputs": [
    {
     "data": {
      "text/plain": [
       "'C:\\\\Users\\\\hp\\\\Downloads'"
      ]
     },
     "execution_count": 64,
     "metadata": {},
     "output_type": "execute_result"
    }
   ],
   "source": [
    "pwd()"
   ]
  },
  {
   "cell_type": "code",
   "execution_count": 65,
   "metadata": {},
   "outputs": [
    {
     "name": "stdout",
     "output_type": "stream",
     "text": [
      " Volume in drive C is Windows\n",
      " Volume Serial Number is AE2C-83D5\n",
      "\n",
      " Directory of C:\\Users\\hp\\Downloads\n",
      "\n",
      "17-09-2022  14:21    <DIR>          .\n",
      "17-09-2022  14:21    <DIR>          ..\n",
      "17-09-2022  13:16    <DIR>          .ipynb_checkpoints\n",
      "29-08-2022  16:08             7,591 [Template] Assignment_NLP_Forecasting_Tableau (1) (1).docx\n",
      "19-06-2022  17:40             3,495 001autoexec.txt\n",
      "10-05-2022  17:47             4,773 05100111005202270213.pdf\n",
      "01-07-2022  20:34           126,318 16.1 Pandas file read and write operation.ipynb\n",
      "01-07-2022  08:10           120,948 16.2 Pandas data manipulation .ipynb\n",
      "01-07-2022  12:54           104,756 16.3 Pandas data manipulation_continue .ipynb\n",
      "29-08-2022  08:49    <DIR>          18.3.Plotly\n",
      "02-07-2022  12:41         1,460,397 18.3.Plotly.7z\n",
      "29-06-2022  10:56             9,277 2022-06-29_Test1.xlsx\n",
      "30-07-2022  22:15           703,481 22 July Course Schedule Batch 5 DS_ML_EICT_IITR (1).pdf\n",
      "20-08-2022  07:04           703,481 22 July Course Schedule Batch 5 DS_ML_EICT_IITR (2).pdf\n",
      "27-08-2022  10:10           703,481 22 July Course Schedule Batch 5 DS_ML_EICT_IITR (3).pdf\n",
      "27-08-2022  15:54           703,481 22 July Course Schedule Batch 5 DS_ML_EICT_IITR (4).pdf\n",
      "30-07-2022  22:14           703,481 22 July Course Schedule Batch 5 DS_ML_EICT_IITR.pdf\n",
      "31-07-2022  07:25         1,705,984 6asso.ppt\n",
      "02-07-2022  12:43         1,569,243 7z2200-x64.exe\n",
      "29-08-2022  19:25           387,102 aadhar.pdf\n",
      "29-06-2022  10:56             9,281 ABC.xlsx\n",
      "14-07-2022  18:16            16,085 Admission_Prediction.csv\n",
      "19-07-2022  22:58             4,761 Advertising.csv\n",
      "29-08-2022  19:34           418,582 akhil cv .pdf\n",
      "18-06-2022  18:43       622,731,992 Anaconda3-2022.05-Windows-x86_64.exe\n",
      "30-06-2022  13:53         5,732,543 archive (1).zip\n",
      "13-07-2022  13:57             2,316 archive (2).zip\n",
      "23-08-2022  11:20         4,360,218 archive (3).zip\n",
      "28-08-2022  11:47         5,263,446 archive (4).zip\n",
      "03-09-2022  18:26           687,690 archive (5).zip\n",
      "30-06-2022  13:00         5,732,543 archive.zip\n",
      "18-07-2022  12:53           109,498 ARIHANT JAIN.pdf\n",
      "25-08-2022  13:53    <DIR>          arihant_26QB\n",
      "25-08-2022  13:53           541,144 arihant_26QB.zip\n",
      "12-08-2022  18:38           109,287 Arihant_Jain_DS-ML_Trainer.pdf\n",
      "12-08-2022  19:31           232,979 Arihant-check.pdf\n",
      "20-08-2022  17:07            69,389 ARJDEMOAUG122 - Arihant Jain - Template.pdf\n",
      "26-08-2022  18:37         5,967,276 Assgn_ANN-SVM-TABLEAU.docx\n",
      "29-08-2022  16:14           394,436 Assignment_NLP_Forecasting.docx\n",
      "13-08-2022  12:35           195,308 Avg of Target depend on Keywords.png\n",
      "17-06-2022  23:55           115,188 base-guide-practice-data.zip\n",
      "28-08-2022  17:21           532,458 Beer_Production_prediction.ipynb\n",
      "31-07-2022  16:52            15,601 best_movies.png\n",
      "31-07-2022  16:53            15,189 best_popular_movies.png\n",
      "16-07-2022  22:29           150,452 breast_cancer (3).xlsx\n",
      "31-07-2022  14:35        30,682,276 BX-Book-Ratings.csv\n",
      "31-07-2022  14:35        77,787,439 BX-Books.csv\n",
      "31-07-2022  14:35        12,284,157 BX-Users.csv\n",
      "09-01-2022  14:46             6,422 cereals.CSV\n",
      "27-08-2022  13:09                69 checkpoint\n",
      "28-08-2022  12:44        57,020,860 clean_data.csv\n",
      "08-09-2022  07:25         1,846,697 Clustering with K-Means (1).pdf\n",
      "08-09-2022  09:56           604,021 Clustering.ipynb\n",
      "11-09-2022  18:07            12,900 Common Questions.docx\n",
      "30-06-2022  13:53             8,783 Country-Code.xlsx\n",
      "15-09-2022  20:00         1,162,742 curriculum (1) (1).pdf\n",
      "11-09-2022  15:42         1,162,742 curriculum (1).pdf\n",
      "28-08-2022  13:22             6,220 daily-total-female-births-CA.csv\n",
      "28-08-2022  13:22             1,483 daily-total-female-births-in-california-1959.zip\n",
      "03-09-2022  15:35         1,605,041 Data Science Interview Preparation(#DAY 02) (1).pdf\n",
      "16-09-2022  14:25            80,785 Data Types_Python.ipynb\n",
      "02-07-2022  14:59           799,950 Data Visualization - Test.ipynb\n",
      "01-07-2022  10:18         7,518,541 Data_Visualization_EICT_GUWAHATI (1) (1).pdf\n",
      "01-07-2022  10:23         7,533,744 Data_Visualization_EICT_GUWAHATI (1) (1)-pages-deleted.pdf\n",
      "03-09-2022  15:32           973,052 Day-1 Challenge .pdf\n",
      "28-08-2022  20:59           433,604 Decision Tree - 1 (1).ipynb\n",
      "12-09-2022  09:28           433,603 Decision Tree - 1.ipynb\n",
      "06-08-2022  15:44        11,692,910 Decision Tree - 2.ipynb\n",
      "16-09-2022  08:37        11,801,558 Decision tree practical  (1).ipynb\n",
      "13-08-2022  12:27        11,792,900 Decision tree practical .ipynb\n",
      "15-09-2022  07:55            23,873 diabetes.csv\n",
      "03-08-2022  16:19        11,301,889 DT discussion not yet completed .ipynb\n",
      "16-09-2022  08:20           136,284 dt_model_1.png\n",
      "28-08-2022  21:12         1,803,373 DTree.pdf\n",
      "29-08-2022  11:33           138,284 EDA - Session 2.ipynb\n",
      "01-07-2022  16:43         5,492,869 EDA-Test.ipynb\n",
      "27-07-2022  10:19           152,391 EXL_Form16_FY_2021_2022.pdf\n",
      "01-07-2022  15:23         2,536,134 Exploratory Data Analytics (Descriptive)_Master-pages-deleted.pdf\n",
      "28-08-2022  13:15           600,480 features.csv\n",
      "02-07-2022  13:18       124,799,598 FIFA 2019.ipynb\n",
      "25-08-2022  07:24         9,140,113 FIFA_data (1).csv\n",
      "01-07-2022  07:27         9,140,113 FIFA_data.csv\n",
      "14-07-2022  23:29               571 finalized_model.pickle\n",
      "15-07-2022  22:34             2,707 Height_Weight (2).csv\n",
      "28-08-2022  20:59        10,555,194 hospital_appointment (1).csv\n",
      "06-08-2022  08:35        10,555,194 hospital_appointment.csv\n",
      "24-08-2022  07:25           566,780 hr_data (1).csv\n",
      "10-09-2022  22:47           566,780 hr_data (2).csv\n",
      "17-07-2022  11:44           566,780 hr_data.csv\n",
      "10-07-2022  07:18           335,797 Hypothesis Test Practical Implementation .ipynb\n",
      "27-07-2022  11:34           104,851 IDFCFIRSTBankstatement_10065627012_101543446.pdf\n",
      "27-06-2022  17:22             9,310 IITr assignemt -1.docx\n",
      "27-06-2022  17:46            90,343 IITr assignemt -1.pdf\n",
      "29-08-2022  19:27            84,245 IMG-20220825-WA0003 (1).jpg\n",
      "29-08-2022  19:27            84,245 IMG-20220825-WA0003.jpg\n",
      "13-08-2022  23:09           215,346 Independent Contractor Agreement-Arihant.pdf\n",
      "20-04-2021  17:44    <DIR>          JAVA & Automation softwares\n",
      "17-09-2022  14:21            18,994 L01_Python_Operators.ipynb\n",
      "16-09-2022  14:26            83,395 L02_Data Types_Master.ipynb\n",
      "17-09-2022  13:16           197,712 L03_Conditional Statements_User Functions_Special Functions_Master.ipynb\n",
      "04-07-2022  22:44         5,500,999 Learning SQL Generate, Manipulate, and Retrieve Data (Alan Beaulieu) (z-lib.org).pdf\n",
      "13-08-2022  12:33            20,357 lengthofdisaster.png\n",
      "26-07-2022  08:43            36,574 Linear regression part 1.ipynb\n",
      "14-07-2022  23:31         3,376,694 Linear Regression.ipynb\n",
      "16-07-2022  15:54               566 linear_reg.sav\n",
      "16-07-2022  19:52    <DIR>          Linear_Regression\n",
      "15-07-2022  08:52    <DIR>          LinearRegression-master (1)\n",
      "13-07-2022  21:47         2,751,068 LinearRegression-master (1).zip\n",
      "08-09-2022  06:50           567,089 Live.csv\n",
      "24-08-2022  07:25           155,143 Logistic Regression - Part 1 (1).ipynb\n",
      "10-09-2022  22:47           155,143 Logistic Regression - Part 1 (2).ipynb\n",
      "17-07-2022  22:42           155,143 Logistic Regression - Part 1.ipynb\n",
      "28-08-2022  21:44           209,225 Logistic Regression - Part 2 (1).ipynb\n",
      "12-09-2022  08:28           198,895 Logistic Regression - Part 2 (2).ipynb\n",
      "17-07-2022  22:42           195,371 Logistic Regression - Part 2.ipynb\n",
      "24-08-2022  07:30         3,727,925 Logistic Regression slides.pptx\n",
      "24-08-2022  07:24         2,229,376 Logistic Regression_EICT (3).pdf\n",
      "16-07-2022  22:58        28,625,468 Logistics regression implementation.ipynb\n",
      "16-07-2022  22:37         4,027,371 logistics regression svg.svg.zip\n",
      "16-07-2022  22:35            91,376 Logistics Regression_breastcancer_Master (1).ipynb\n",
      "07-08-2022  15:21            11,277 lung_cancer_data.csv\n",
      "28-06-2022  14:43            18,944 Macro Workbook (1).xlsb\n",
      "28-06-2022  19:24            27,485 Macro Workbook (2).xlsb\n",
      "29-06-2022  10:56            34,798 Macro Workbook (3).xlsb\n",
      "29-06-2022  14:29            34,627 Macro Workbook (4).xlsb\n",
      "12-07-2022  16:36            34,627 Macro Workbook (5).xlsb\n",
      "12-07-2022  16:36            34,627 Macro Workbook (6).xlsb\n",
      "28-06-2022  13:44            19,086 Macro Workbook.xlsb\n",
      "28-08-2022  14:09             6,903 monthly_beer_production_austr.csv\n",
      "28-08-2022  14:07             6,903 monthly-beer-production-in-austr.csv\n",
      "03-09-2022  15:51           176,992 My CV with Cover letter.pdf\n",
      "03-09-2022  15:30           239,195 My Resume .pdf\n",
      "03-07-2022  07:18    <DIR>          mysqlsampledatabase\n",
      "24-05-2016  17:46           210,202 mysqlsampledatabase.sql\n",
      "03-07-2022  07:16            54,335 mysqlsampledatabase.zip\n",
      "15-09-2022  07:55            12,206 Naive Baye - 2.ipynb\n",
      "15-09-2022  09:17           297,258 Naive Baye - 3.ipynb\n",
      "15-09-2022  07:55            27,784 Naive Bayes  -1.ipynb\n",
      "07-08-2022  11:51             8,938 Naive_Bayes_Dataset.xlsx\n",
      "07-08-2022  11:25    <DIR>          Naive_Bayes-20210302T225901Z-001\n",
      "07-08-2022  11:25         1,489,574 Naive_Bayes-20210302T225901Z-001.zip\n",
      "13-08-2022  23:09           200,852 NDA-Arihant.pdf\n",
      "29-08-2022  19:25           224,244 New Doc 2021-01-10 20.35.49.pdf\n",
      "03-08-2022  06:43           704,506 New Updated Course Schedule Batch 5 DS_ML_EICT_IITR (1).pdf\n",
      "18-07-2022  12:35           704,506 New Updated Course Schedule Batch 5 DS_ML_EICT_IITR.pdf\n",
      "27-08-2022  07:34             8,833 New_Test1.xlsx\n",
      "29-08-2022  16:06           422,149 NIFTY 50.csv\n",
      "01-07-2022  12:17               207 out.csv\n",
      "16-09-2022  22:29            85,654 PAN_Card.jpeg\n",
      "27-08-2022  08:00           162,275 Pandas (1) (1).ipynb\n",
      "25-08-2022  09:01           119,977 Pandas (1).ipynb\n",
      "30-06-2022  00:27         1,060,997 Pandas session 1 (1).ipynb\n",
      "06-08-2022  12:04           176,625 Pandas.ipynb\n",
      "01-07-2022  20:09           111,182 Pandas-Session2.ipynb\n",
      "02-07-2022  13:17           156,829 Pandas-Test.ipynb\n",
      "02-07-2022  17:47         1,264,734 plotly .ipynb\n",
      "29-08-2022  19:28           398,815 Pre Onboarding Personal Information Form.xlsx\n",
      "28-06-2022  19:21            32,542 PreviousDay.xlsx\n",
      "21-08-2022  07:13            51,107 Python (1).ipynb\n",
      "25-08-2022  08:26            59,731 Python (2).ipynb\n",
      "21-08-2022  09:10            18,438 Python basics 2.ipynb\n",
      "27-06-2022  17:37           425,631 Python Interview Exam, Certification Exam, 100 Questions  Answers. (Ray Yao) (z-lib.org).pdf\n",
      "06-08-2022  12:07           569,256 Python Pandas  Follow Dr. AngShuMan Ghosh for more.pdf\n",
      "03-08-2022  08:11            56,858 Python.ipynb\n",
      "21-08-2022  22:49            21,904 Python-baiscs.ipynb\n",
      "08-09-2022  10:35           456,325 Questions-1.docx\n",
      "08-09-2022  10:37         1,320,618 Questions-2.docx\n",
      "16-09-2022  09:00            29,594 random+forest (1).ipynb\n",
      "10-09-2022  20:04            29,594 random+forest.ipynb\n",
      "31-08-2022  08:23    <DIR>          Recommender system\n",
      "03-09-2022  07:40    <DIR>          Recommender system 2\n",
      "31-08-2022  08:22        10,606,980 Recommender system 2.zip\n",
      "31-08-2022  08:22        25,987,084 Recommender system.zip\n",
      "31-08-2022  08:22         1,757,693 recommender system-converted (1).pdf\n",
      "30-07-2022  22:09         1,757,693 recommender system-converted.pdf\n",
      "31-07-2022  17:11           228,561 RS-1. Average Weighted recommendation system .ipynb\n",
      "31-07-2022  07:56         2,079,229 RS2.csv\n",
      "31-08-2022  09:11           128,231 RS-2.ipynb\n",
      "31-07-2022  19:19            89,824 RS-3 Using KNN.ipynb\n",
      "21-08-2022  14:40        13,119,732 sales_06_FY2020-21.csv.zip\n",
      "20-08-2022  14:10         3,364,352 Sample - Superstore.xls\n",
      "17-06-2022  07:20         8,539,014 SAS Certification Prep Guide Base Programming for SAS 9 (SAS Institute) (z-lib.org).pdf\n",
      "08-08-2022  19:24           231,591 SAS_Session (1).pptx\n",
      "08-08-2022  19:25           220,168 SAS_Session (2).pptx\n",
      "08-08-2022  19:23           184,951 SAS_Session.pptx\n",
      "19-06-2022  13:31         6,139,427 SASr Certified Specialist Prep Guide Base Programming Using SASr 9.4 (SAS) (z-lib.org) (1).pdf\n",
      "17-06-2022  23:45         6,139,427 SASr Certified Specialist Prep Guide Base Programming Using SASr 9.4 (SAS) (z-lib.org).pdf\n",
      "31-07-2022  07:45            15,897 scored_movies.png\n",
      "02-07-2022  14:27           505,318 seaborn.ipynb\n",
      "26-07-2022  08:39            18,303 Session-1.ipynb\n",
      "28-07-2022  22:11            17,338 Session-2 Python.ipynb\n",
      "27-07-2022  11:28            45,959 Shivani_Form16a_2020-21.pdf\n",
      "27-07-2022  11:28            47,392 Shivani_Form16a_2021-22.pdf\n",
      "27-07-2022  11:28            53,035 Shivani_Form16b_2021-22.pdf\n",
      "16-07-2022  16:54           132,441 Simple_Linear Regression_HeightWeight_MasterData.ipynb\n",
      "16-07-2022  00:09           217,705 Simple_Multiple_Linear_Regression_AdvertisingSales_MasterData.ipynb\n",
      "03-09-2022  21:18           464,946 slidedeck.pdf\n",
      "30-06-2022  22:58    <DIR>          SOftwares exe files\n",
      "01-07-2022  02:34           298,969 SQL-Tutorial.P1241112567Pczwq.powerpoint.pptx\n",
      "08-07-2022  14:27         8,114,808 Statistics_Foundation_EICT_Guwahati (2).pptx\n",
      "11-07-2022  11:29    <DIR>          Stats\n",
      "07-07-2022  20:02        11,879,732 Stats with Python_code (2).zip\n",
      "11-07-2022  17:11            13,615 Stats_Assignment.docx\n",
      "28-08-2022  19:45           871,573 Stock_price_prediction.ipynb\n",
      "28-08-2022  13:15               579 stores.csv\n",
      "03-09-2022  08:17         3,364,352 SuperstoreCanada.xls\n"
     ]
    },
    {
     "name": "stdout",
     "output_type": "stream",
     "text": [
      "31-07-2022  18:54             8,915 system1.png\n",
      "31-07-2022  18:54             9,531 system2.png\n",
      "27-08-2022  23:28        15,117,465 Tableau_Assignment.xlsx\n",
      "20-08-2022  13:54       491,533,728 TableauPublicDesktop-64bit-2022-2-0.exe\n",
      "27-08-2022  17:52            59,517 Tensorflow_1.1.ipynb\n",
      "27-08-2022  15:56            19,236 Tensorflow_1.2.ipynb\n",
      "28-08-2022  13:14           292,234 test.csv.zip\n",
      "16-07-2022  17:03         1,579,735 test.html\n",
      "10-08-2022  20:13            59,904 Test.xls\n",
      "25-08-2022  07:24             8,635 Test_file (1).xlsx\n",
      "04-08-2022  18:17             8,671 Test_file.xlsx\n",
      "02-07-2022  10:50             8,800 test_pie.jpg\n",
      "13-08-2022  18:18            20,083 Text Mining - 1.ipynb\n",
      "13-08-2022  15:54           340,723 Text Mining-2.ipynb\n",
      "24-06-2022  13:11           169,928 TIA_Trainers_Service_Agreement_Mr. ARIHANT JAIN.docx\n",
      "28-08-2022  13:25    <DIR>          Time series sunspot\n",
      "28-08-2022  13:21           578,656 Time series sunspot.7z\n",
      "28-08-2022  13:25           118,212 Time Series.ipynb\n",
      "28-08-2022  13:21           280,561 timeSeries.zip\n",
      "28-06-2022  19:22             9,281 Today1.xlsx\n",
      "28-06-2022  19:22             9,257 Today2.xlsx\n",
      "28-06-2022  19:22             9,275 Today3.xlsx\n",
      "28-06-2022  19:22             9,271 Today4.xlsx\n",
      "28-08-2022  13:16        13,264,117 train.csv\n",
      "28-08-2022  13:14         3,052,051 train.csv.zip\n",
      "28-08-2022  13:22           135,032 trends.PNG\n",
      "07-08-2022  19:05             8,986 Turtle Tricks.ipynb\n",
      "13-08-2022  12:12         1,614,460 tweets.csv\n",
      "13-08-2022  12:05                22 tweets.csv.zip\n",
      "13-08-2022  12:29           475,303 tweets_test.csv\n",
      "13-08-2022  12:29         1,139,193 tweets_train.csv\n",
      "30-06-2022  13:18             1,674 Untitled.ipynb\n",
      "02-07-2022  11:37            14,509 Untitled1.ipynb\n",
      "02-07-2022  11:40         1,108,808 Untitled12.ipynb\n",
      "17-07-2022  18:13               589 Untitled2.ipynb\n",
      "31-07-2022  11:58               589 Untitled3.ipynb\n",
      "21-08-2022  07:51             2,314 Untitled4.ipynb\n",
      "06-08-2022  13:59                72 Untitled5.ipynb\n",
      "27-08-2022  03:32             5,734 Untitled6.ipynb\n",
      "28-08-2022  13:20         1,760,165 Untitled7.ipynb\n",
      "28-08-2022  15:47                72 Untitled8.ipynb\n",
      "24-08-2022  07:24           703,481 Updated Course Schedule Batch 6 DS_ML_EICT_IITR (1).pdf\n",
      "09-08-2022  07:07           703,481 Updated Course Schedule Batch 6 DS_ML_EICT_IITR.pdf\n",
      "27-08-2022  13:09               224 vars-1.data-00000-of-00001\n",
      "27-08-2022  13:09               255 vars-1.index\n",
      "15-07-2022  10:12           428,120 weight-height.csv\n",
      "29-05-2022  15:15           144,166 WhatsApp Image 2022-05-29 at 3.14.55 PM.jpeg\n",
      "16-09-2022  22:27           135,394 WhatsApp Image 2022-08-31 at 16.42.47.jpeg\n",
      "28-08-2022  20:58            85,743 winequality_red (1).csv\n",
      "05-08-2022  23:15            85,743 winequality_red.csv\n",
      "05-08-2022  23:17           115,936 winequality_red.xlsx\n",
      "28-08-2022  13:27           197,991 yahoo_stock.csv\n",
      "30-06-2022  13:15           786,562 zomato EDA.ipynb\n",
      "30-06-2022  13:02         2,257,316 zomato.csv\n",
      "             245 File(s)  1,797,740,261 bytes\n",
      "              15 Dir(s)  15,827,873,792 bytes free\n"
     ]
    }
   ],
   "source": [
    "ls"
   ]
  },
  {
   "cell_type": "code",
   "execution_count": 137,
   "metadata": {},
   "outputs": [],
   "source": [
    "#Help\n",
    "?print"
   ]
  },
  {
   "cell_type": "code",
   "execution_count": 138,
   "metadata": {},
   "outputs": [],
   "source": [
    "#Dealing with Dates\n",
    "import datetime as dt"
   ]
  },
  {
   "cell_type": "code",
   "execution_count": 140,
   "metadata": {},
   "outputs": [
    {
     "data": {
      "text/plain": [
       "datetime.datetime(2022, 9, 17, 18, 19, 46, 983752)"
      ]
     },
     "execution_count": 140,
     "metadata": {},
     "output_type": "execute_result"
    }
   ],
   "source": [
    "# Microseconds\n",
    "dt.datetime.now()"
   ]
  },
  {
   "cell_type": "code",
   "execution_count": null,
   "metadata": {},
   "outputs": [],
   "source": []
  },
  {
   "cell_type": "code",
   "execution_count": 141,
   "metadata": {},
   "outputs": [
    {
     "data": {
      "text/plain": [
       "datetime.date(2022, 9, 17)"
      ]
     },
     "execution_count": 141,
     "metadata": {},
     "output_type": "execute_result"
    }
   ],
   "source": [
    "dt.date.today()"
   ]
  },
  {
   "cell_type": "code",
   "execution_count": 142,
   "metadata": {},
   "outputs": [
    {
     "name": "stdout",
     "output_type": "stream",
     "text": [
      "2022-09-17 18:23:58.397568\n",
      "time: 18:23:58\n"
     ]
    }
   ],
   "source": [
    "#strfttime - Convert Date into string format\n",
    "now = dt.datetime.now()\n",
    "print(now)\n",
    "t = now.strftime(\"%H:%M:%S\")\n",
    "print(\"time:\", t)"
   ]
  },
  {
   "cell_type": "code",
   "execution_count": 86,
   "metadata": {},
   "outputs": [
    {
     "name": "stdout",
     "output_type": "stream",
     "text": [
      "09/17/2022, 14:27:13\n"
     ]
    }
   ],
   "source": [
    "# Change the format of date\n",
    "s1 = now.strftime(\"%m/%d/%Y, %H:%M:%S\")\n",
    "print(s1)"
   ]
  },
  {
   "cell_type": "code",
   "execution_count": null,
   "metadata": {},
   "outputs": [],
   "source": []
  },
  {
   "cell_type": "code",
   "execution_count": 143,
   "metadata": {},
   "outputs": [
    {
     "name": "stdout",
     "output_type": "stream",
     "text": [
      "False\n"
     ]
    }
   ],
   "source": [
    "a=5\n",
    "b=10\n",
    "c=12\n",
    "print(a<10 and b>=10 and c<10)"
   ]
  },
  {
   "cell_type": "code",
   "execution_count": null,
   "metadata": {},
   "outputs": [],
   "source": [
    "a=5\n",
    "b=10\n",
    "c=12\n",
    "print(a<10 or b>=10 or c<10)"
   ]
  }
 ],
 "metadata": {
  "kernelspec": {
   "display_name": "Python 3 (ipykernel)",
   "language": "python",
   "name": "python3"
  },
  "language_info": {
   "codemirror_mode": {
    "name": "ipython",
    "version": 3
   },
   "file_extension": ".py",
   "mimetype": "text/x-python",
   "name": "python",
   "nbconvert_exporter": "python",
   "pygments_lexer": "ipython3",
   "version": "3.9.12"
  }
 },
 "nbformat": 4,
 "nbformat_minor": 2
}
