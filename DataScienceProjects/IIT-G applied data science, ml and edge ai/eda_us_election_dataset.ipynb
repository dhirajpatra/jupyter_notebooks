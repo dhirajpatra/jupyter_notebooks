{
 "cells": [
  {
   "cell_type": "markdown",
   "id": "58fae745",
   "metadata": {},
   "source": [
    "## Data Analysis with Python: Zero to Pandas - Course Project Guidelines\n",
    "\n",
    "### Step 1: Select a real-world dataset \n",
    "\n",
    "- Find an interesting dataset on this page: https://www.kaggle.com/datasets?fileType=csv\n",
    "- The data should be in CSV format, and should contain at least 3 columns and 150 rows\n",
    "\n",
    "Here's some sample code for downloading the [US Elections Dataset](https://www.kaggle.com/tunguz/us-elections-dataset):\n",
    "\n",
    "```\n",
    "import opendatasets as od\n",
    "dataset_url = 'https://www.kaggle.com/tunguz/us-elections-dataset'\n",
    "od.download('https://www.kaggle.com/tunguz/us-elections-dataset')\n",
    "```\n",
    "\n",
    "### Step 2: Perform data preparation & cleaning\n",
    "\n",
    "- Load the dataset into a data frame using Pandas\n",
    "- Explore the number of rows & columns, ranges of values etc.\n",
    "- Handle missing, incorrect and invalid data\n",
    "- Perform any additional steps (parsing dates, creating additional columns, merging multiple dataset etc.)\n",
    "\n",
    "\n",
    "### Step 3: Perform exploratory analysis & visualization\n",
    "\n",
    "- Compute the mean, sum, range and other interesting statistics for numeric columns\n",
    "- Explore distributions of numeric columns using histograms etc.\n",
    "- Explore relationship between columns using scatter plots, bar charts etc.\n",
    "- Make a note of interesting insights from the exploratory analysis\n",
    "\n",
    "### Step 4: Ask & answer questions about the data\n",
    "\n",
    "- Ask at least 4 interesting questions about your dataset\n",
    "- Answer the questions either by computing the results using Numpy/Pandas or by plotting graphs using Matplotlib/Seaborn\n",
    "- Create new columns, merge multiple dataset and perform grouping/aggregation wherever necessary\n",
    "- Wherever you're using a library function from Pandas/Numpy/Matplotlib etc. explain briefly what it does\n",
    "\n",
    "\n",
    "### Step 5: Summarize your inferences & write a conclusion\n",
    "\n",
    "- Write a summary of what you've learned from the analysis\n",
    "- Include interesting insights and graphs from previous sections\n",
    "- Share ideas for future work on the same topic using other relevant datasets\n",
    "- Share links to resources you found useful during your analysis\n",
    "\n",
    "\n",
    "### Step 6: Make a submission & share your work\n",
    "\n",
    "- Upload your notebook to your Kaggle profile\n",
    "- Browse through projects shared by other participants and give feedback\n",
    "\n",
    "\n",
    "### (Optional) Step 7: Write a blog post\n",
    "\n",
    "- A blog post is a great way to present and showcase your work.  \n",
    "- Sign up on [Medium.com](https://medium.com) to write a blog post for your project.\n"
   ]
  },
  {
   "cell_type": "code",
   "execution_count": 29,
   "id": "d1a02654",
   "metadata": {},
   "outputs": [],
   "source": [
    "from scipy.stats import binom\n",
    "import seaborn as sb\n",
    "from scipy.stats import skew\n",
    "import numpy as np\n",
    "import pandas as pd\n",
    "import pylab as p\n",
    "import os\n",
    "from IPython.core.interactiveshell import InteractiveShell\n",
    "InteractiveShell.ast_node_interactivity = \"all\""
   ]
  },
  {
   "cell_type": "code",
   "execution_count": 30,
   "id": "ea889483",
   "metadata": {},
   "outputs": [
    {
     "name": "stdout",
     "output_type": "stream",
     "text": [
      "Skipping, found downloaded files in \"./us-elections-dataset\" (use force=True to force download)\n"
     ]
    }
   ],
   "source": [
    "import opendatasets as od\n",
    "dataset_url = 'https://www.kaggle.com/tunguz/us-elections-dataset'\n",
    "od.download('https://www.kaggle.com/tunguz/us-elections-dataset')"
   ]
  },
  {
   "cell_type": "code",
   "execution_count": 31,
   "id": "810d9f2a",
   "metadata": {},
   "outputs": [],
   "source": [
    "# Change this\n",
    "data_dir = './us-elections-dataset'"
   ]
  },
  {
   "cell_type": "code",
   "execution_count": 32,
   "id": "6e7acf25",
   "metadata": {},
   "outputs": [
    {
     "data": {
      "text/plain": [
       "['1976-2020-president.csv', '1976-2020-senate.csv']"
      ]
     },
     "execution_count": 32,
     "metadata": {},
     "output_type": "execute_result"
    }
   ],
   "source": [
    "os.listdir(data_dir)"
   ]
  },
  {
   "cell_type": "code",
   "execution_count": 33,
   "id": "bfe5af85",
   "metadata": {},
   "outputs": [],
   "source": [
    "project_name = \"zerotopandas-course-project-starter\" # change this (use lowercase letters and hyphens only)"
   ]
  },
  {
   "cell_type": "markdown",
   "id": "2702dad3",
   "metadata": {},
   "source": [
    "## Data Preparation and Cleaning\n",
    "\n",
    "> Instructions (delete this cell):\n",
    ">\n",
    "> - Load the dataset into a data frame using Pandas\n",
    "> - Explore the number of rows & columns, ranges of values etc.\n",
    "> - Handle missing, incorrect and invalid data\n",
    "> - Perform any additional steps (parsing dates, creating additional columns, merging multiple dataset etc.)"
   ]
  },
  {
   "cell_type": "code",
   "execution_count": 34,
   "id": "59718f8f",
   "metadata": {},
   "outputs": [],
   "source": [
    "us_elections_dataset_president = pd.read_csv(data_dir + '/1976-2020-president.csv')"
   ]
  },
  {
   "cell_type": "markdown",
   "id": "28640df9",
   "metadata": {},
   "source": [
    "Here's a summary of the functions & methods we've looked at so far:\n",
    "\n",
    "* `type` - Type of the dataset\n",
    "* `pd.head()` - Some starting rows of data\n",
    "* `pd.tail()` - Some ending rows of data\n",
    "* `pd.read_csv` - Read data from a CSV file into a Pandas `DataFrame` object\n",
    "* `.info()` - View basic infomation about rows, columns & data types\n",
    "* `.describe()` - View statistical information about numeric columns\n",
    "* `.columns` - Get the list of column names\n",
    "* `.shape` - Get the number of rows & columns as a tuple"
   ]
  },
  {
   "cell_type": "code",
   "execution_count": 35,
   "id": "f264f1d8",
   "metadata": {},
   "outputs": [
    {
     "data": {
      "text/plain": [
       "pandas.core.frame.DataFrame"
      ]
     },
     "execution_count": 35,
     "metadata": {},
     "output_type": "execute_result"
    }
   ],
   "source": [
    "type(us_elections_dataset_president)"
   ]
  },
  {
   "cell_type": "code",
   "execution_count": 36,
   "id": "ead1ee32",
   "metadata": {},
   "outputs": [
    {
     "data": {
      "text/html": [
       "<div>\n",
       "<style scoped>\n",
       "    .dataframe tbody tr th:only-of-type {\n",
       "        vertical-align: middle;\n",
       "    }\n",
       "\n",
       "    .dataframe tbody tr th {\n",
       "        vertical-align: top;\n",
       "    }\n",
       "\n",
       "    .dataframe thead th {\n",
       "        text-align: right;\n",
       "    }\n",
       "</style>\n",
       "<table border=\"1\" class=\"dataframe\">\n",
       "  <thead>\n",
       "    <tr style=\"text-align: right;\">\n",
       "      <th></th>\n",
       "      <th>year</th>\n",
       "      <th>state</th>\n",
       "      <th>state_po</th>\n",
       "      <th>state_fips</th>\n",
       "      <th>state_cen</th>\n",
       "      <th>state_ic</th>\n",
       "      <th>office</th>\n",
       "      <th>candidate</th>\n",
       "      <th>party_detailed</th>\n",
       "      <th>writein</th>\n",
       "      <th>candidatevotes</th>\n",
       "      <th>totalvotes</th>\n",
       "      <th>version</th>\n",
       "      <th>notes</th>\n",
       "      <th>party_simplified</th>\n",
       "    </tr>\n",
       "  </thead>\n",
       "  <tbody>\n",
       "    <tr>\n",
       "      <th>0</th>\n",
       "      <td>1976</td>\n",
       "      <td>ALABAMA</td>\n",
       "      <td>AL</td>\n",
       "      <td>1</td>\n",
       "      <td>63</td>\n",
       "      <td>41</td>\n",
       "      <td>US PRESIDENT</td>\n",
       "      <td>CARTER, JIMMY</td>\n",
       "      <td>DEMOCRAT</td>\n",
       "      <td>False</td>\n",
       "      <td>659170</td>\n",
       "      <td>1182850</td>\n",
       "      <td>20210113</td>\n",
       "      <td>NaN</td>\n",
       "      <td>DEMOCRAT</td>\n",
       "    </tr>\n",
       "    <tr>\n",
       "      <th>1</th>\n",
       "      <td>1976</td>\n",
       "      <td>ALABAMA</td>\n",
       "      <td>AL</td>\n",
       "      <td>1</td>\n",
       "      <td>63</td>\n",
       "      <td>41</td>\n",
       "      <td>US PRESIDENT</td>\n",
       "      <td>FORD, GERALD</td>\n",
       "      <td>REPUBLICAN</td>\n",
       "      <td>False</td>\n",
       "      <td>504070</td>\n",
       "      <td>1182850</td>\n",
       "      <td>20210113</td>\n",
       "      <td>NaN</td>\n",
       "      <td>REPUBLICAN</td>\n",
       "    </tr>\n",
       "    <tr>\n",
       "      <th>2</th>\n",
       "      <td>1976</td>\n",
       "      <td>ALABAMA</td>\n",
       "      <td>AL</td>\n",
       "      <td>1</td>\n",
       "      <td>63</td>\n",
       "      <td>41</td>\n",
       "      <td>US PRESIDENT</td>\n",
       "      <td>MADDOX, LESTER</td>\n",
       "      <td>AMERICAN INDEPENDENT PARTY</td>\n",
       "      <td>False</td>\n",
       "      <td>9198</td>\n",
       "      <td>1182850</td>\n",
       "      <td>20210113</td>\n",
       "      <td>NaN</td>\n",
       "      <td>OTHER</td>\n",
       "    </tr>\n",
       "    <tr>\n",
       "      <th>3</th>\n",
       "      <td>1976</td>\n",
       "      <td>ALABAMA</td>\n",
       "      <td>AL</td>\n",
       "      <td>1</td>\n",
       "      <td>63</td>\n",
       "      <td>41</td>\n",
       "      <td>US PRESIDENT</td>\n",
       "      <td>BUBAR, BENJAMIN \"\"BEN\"\"</td>\n",
       "      <td>PROHIBITION</td>\n",
       "      <td>False</td>\n",
       "      <td>6669</td>\n",
       "      <td>1182850</td>\n",
       "      <td>20210113</td>\n",
       "      <td>NaN</td>\n",
       "      <td>OTHER</td>\n",
       "    </tr>\n",
       "    <tr>\n",
       "      <th>4</th>\n",
       "      <td>1976</td>\n",
       "      <td>ALABAMA</td>\n",
       "      <td>AL</td>\n",
       "      <td>1</td>\n",
       "      <td>63</td>\n",
       "      <td>41</td>\n",
       "      <td>US PRESIDENT</td>\n",
       "      <td>HALL, GUS</td>\n",
       "      <td>COMMUNIST PARTY USE</td>\n",
       "      <td>False</td>\n",
       "      <td>1954</td>\n",
       "      <td>1182850</td>\n",
       "      <td>20210113</td>\n",
       "      <td>NaN</td>\n",
       "      <td>OTHER</td>\n",
       "    </tr>\n",
       "  </tbody>\n",
       "</table>\n",
       "</div>"
      ],
      "text/plain": [
       "   year    state state_po  state_fips  state_cen  state_ic        office  \\\n",
       "0  1976  ALABAMA       AL           1         63        41  US PRESIDENT   \n",
       "1  1976  ALABAMA       AL           1         63        41  US PRESIDENT   \n",
       "2  1976  ALABAMA       AL           1         63        41  US PRESIDENT   \n",
       "3  1976  ALABAMA       AL           1         63        41  US PRESIDENT   \n",
       "4  1976  ALABAMA       AL           1         63        41  US PRESIDENT   \n",
       "\n",
       "                 candidate              party_detailed writein  \\\n",
       "0            CARTER, JIMMY                    DEMOCRAT   False   \n",
       "1             FORD, GERALD                  REPUBLICAN   False   \n",
       "2           MADDOX, LESTER  AMERICAN INDEPENDENT PARTY   False   \n",
       "3  BUBAR, BENJAMIN \"\"BEN\"\"                 PROHIBITION   False   \n",
       "4                HALL, GUS         COMMUNIST PARTY USE   False   \n",
       "\n",
       "   candidatevotes  totalvotes   version  notes party_simplified  \n",
       "0          659170     1182850  20210113    NaN         DEMOCRAT  \n",
       "1          504070     1182850  20210113    NaN       REPUBLICAN  \n",
       "2            9198     1182850  20210113    NaN            OTHER  \n",
       "3            6669     1182850  20210113    NaN            OTHER  \n",
       "4            1954     1182850  20210113    NaN            OTHER  "
      ]
     },
     "execution_count": 36,
     "metadata": {},
     "output_type": "execute_result"
    }
   ],
   "source": [
    "us_elections_dataset_president.head()"
   ]
  },
  {
   "cell_type": "code",
   "execution_count": 37,
   "id": "7b178572",
   "metadata": {},
   "outputs": [
    {
     "data": {
      "text/html": [
       "<div>\n",
       "<style scoped>\n",
       "    .dataframe tbody tr th:only-of-type {\n",
       "        vertical-align: middle;\n",
       "    }\n",
       "\n",
       "    .dataframe tbody tr th {\n",
       "        vertical-align: top;\n",
       "    }\n",
       "\n",
       "    .dataframe thead th {\n",
       "        text-align: right;\n",
       "    }\n",
       "</style>\n",
       "<table border=\"1\" class=\"dataframe\">\n",
       "  <thead>\n",
       "    <tr style=\"text-align: right;\">\n",
       "      <th></th>\n",
       "      <th>year</th>\n",
       "      <th>state</th>\n",
       "      <th>state_po</th>\n",
       "      <th>state_fips</th>\n",
       "      <th>state_cen</th>\n",
       "      <th>state_ic</th>\n",
       "      <th>office</th>\n",
       "      <th>candidate</th>\n",
       "      <th>party_detailed</th>\n",
       "      <th>writein</th>\n",
       "      <th>candidatevotes</th>\n",
       "      <th>totalvotes</th>\n",
       "      <th>version</th>\n",
       "      <th>notes</th>\n",
       "      <th>party_simplified</th>\n",
       "    </tr>\n",
       "  </thead>\n",
       "  <tbody>\n",
       "    <tr>\n",
       "      <th>4282</th>\n",
       "      <td>2020</td>\n",
       "      <td>WYOMING</td>\n",
       "      <td>WY</td>\n",
       "      <td>56</td>\n",
       "      <td>83</td>\n",
       "      <td>68</td>\n",
       "      <td>US PRESIDENT</td>\n",
       "      <td>JORGENSEN, JO</td>\n",
       "      <td>LIBERTARIAN</td>\n",
       "      <td>False</td>\n",
       "      <td>5768</td>\n",
       "      <td>278503</td>\n",
       "      <td>20210113</td>\n",
       "      <td>NaN</td>\n",
       "      <td>LIBERTARIAN</td>\n",
       "    </tr>\n",
       "    <tr>\n",
       "      <th>4283</th>\n",
       "      <td>2020</td>\n",
       "      <td>WYOMING</td>\n",
       "      <td>WY</td>\n",
       "      <td>56</td>\n",
       "      <td>83</td>\n",
       "      <td>68</td>\n",
       "      <td>US PRESIDENT</td>\n",
       "      <td>PIERCE, BROCK</td>\n",
       "      <td>INDEPENDENT</td>\n",
       "      <td>False</td>\n",
       "      <td>2208</td>\n",
       "      <td>278503</td>\n",
       "      <td>20210113</td>\n",
       "      <td>NaN</td>\n",
       "      <td>OTHER</td>\n",
       "    </tr>\n",
       "    <tr>\n",
       "      <th>4284</th>\n",
       "      <td>2020</td>\n",
       "      <td>WYOMING</td>\n",
       "      <td>WY</td>\n",
       "      <td>56</td>\n",
       "      <td>83</td>\n",
       "      <td>68</td>\n",
       "      <td>US PRESIDENT</td>\n",
       "      <td>NaN</td>\n",
       "      <td>NaN</td>\n",
       "      <td>True</td>\n",
       "      <td>1739</td>\n",
       "      <td>278503</td>\n",
       "      <td>20210113</td>\n",
       "      <td>NaN</td>\n",
       "      <td>OTHER</td>\n",
       "    </tr>\n",
       "    <tr>\n",
       "      <th>4285</th>\n",
       "      <td>2020</td>\n",
       "      <td>WYOMING</td>\n",
       "      <td>WY</td>\n",
       "      <td>56</td>\n",
       "      <td>83</td>\n",
       "      <td>68</td>\n",
       "      <td>US PRESIDENT</td>\n",
       "      <td>OVERVOTES</td>\n",
       "      <td>NaN</td>\n",
       "      <td>False</td>\n",
       "      <td>279</td>\n",
       "      <td>278503</td>\n",
       "      <td>20210113</td>\n",
       "      <td>NaN</td>\n",
       "      <td>OTHER</td>\n",
       "    </tr>\n",
       "    <tr>\n",
       "      <th>4286</th>\n",
       "      <td>2020</td>\n",
       "      <td>WYOMING</td>\n",
       "      <td>WY</td>\n",
       "      <td>56</td>\n",
       "      <td>83</td>\n",
       "      <td>68</td>\n",
       "      <td>US PRESIDENT</td>\n",
       "      <td>UNDERVOTES</td>\n",
       "      <td>NaN</td>\n",
       "      <td>False</td>\n",
       "      <td>1459</td>\n",
       "      <td>278503</td>\n",
       "      <td>20210113</td>\n",
       "      <td>NaN</td>\n",
       "      <td>OTHER</td>\n",
       "    </tr>\n",
       "  </tbody>\n",
       "</table>\n",
       "</div>"
      ],
      "text/plain": [
       "      year    state state_po  state_fips  state_cen  state_ic        office  \\\n",
       "4282  2020  WYOMING       WY          56         83        68  US PRESIDENT   \n",
       "4283  2020  WYOMING       WY          56         83        68  US PRESIDENT   \n",
       "4284  2020  WYOMING       WY          56         83        68  US PRESIDENT   \n",
       "4285  2020  WYOMING       WY          56         83        68  US PRESIDENT   \n",
       "4286  2020  WYOMING       WY          56         83        68  US PRESIDENT   \n",
       "\n",
       "          candidate party_detailed writein  candidatevotes  totalvotes  \\\n",
       "4282  JORGENSEN, JO    LIBERTARIAN   False            5768      278503   \n",
       "4283  PIERCE, BROCK    INDEPENDENT   False            2208      278503   \n",
       "4284            NaN            NaN    True            1739      278503   \n",
       "4285      OVERVOTES            NaN   False             279      278503   \n",
       "4286     UNDERVOTES            NaN   False            1459      278503   \n",
       "\n",
       "       version  notes party_simplified  \n",
       "4282  20210113    NaN      LIBERTARIAN  \n",
       "4283  20210113    NaN            OTHER  \n",
       "4284  20210113    NaN            OTHER  \n",
       "4285  20210113    NaN            OTHER  \n",
       "4286  20210113    NaN            OTHER  "
      ]
     },
     "execution_count": 37,
     "metadata": {},
     "output_type": "execute_result"
    }
   ],
   "source": [
    "us_elections_dataset_president.tail()"
   ]
  },
  {
   "cell_type": "code",
   "execution_count": 38,
   "id": "004994d3",
   "metadata": {},
   "outputs": [
    {
     "name": "stdout",
     "output_type": "stream",
     "text": [
      "<class 'pandas.core.frame.DataFrame'>\n",
      "RangeIndex: 4287 entries, 0 to 4286\n",
      "Data columns (total 15 columns):\n",
      " #   Column            Non-Null Count  Dtype  \n",
      "---  ------            --------------  -----  \n",
      " 0   year              4287 non-null   int64  \n",
      " 1   state             4287 non-null   object \n",
      " 2   state_po          4287 non-null   object \n",
      " 3   state_fips        4287 non-null   int64  \n",
      " 4   state_cen         4287 non-null   int64  \n",
      " 5   state_ic          4287 non-null   int64  \n",
      " 6   office            4287 non-null   object \n",
      " 7   candidate         4000 non-null   object \n",
      " 8   party_detailed    3831 non-null   object \n",
      " 9   writein           4284 non-null   object \n",
      " 10  candidatevotes    4287 non-null   int64  \n",
      " 11  totalvotes        4287 non-null   int64  \n",
      " 12  version           4287 non-null   int64  \n",
      " 13  notes             0 non-null      float64\n",
      " 14  party_simplified  4287 non-null   object \n",
      "dtypes: float64(1), int64(7), object(7)\n",
      "memory usage: 502.5+ KB\n"
     ]
    }
   ],
   "source": [
    "us_elections_dataset_president.info()"
   ]
  },
  {
   "cell_type": "code",
   "execution_count": 39,
   "id": "538ad3cc",
   "metadata": {},
   "outputs": [
    {
     "data": {
      "text/html": [
       "<div>\n",
       "<style scoped>\n",
       "    .dataframe tbody tr th:only-of-type {\n",
       "        vertical-align: middle;\n",
       "    }\n",
       "\n",
       "    .dataframe tbody tr th {\n",
       "        vertical-align: top;\n",
       "    }\n",
       "\n",
       "    .dataframe thead th {\n",
       "        text-align: right;\n",
       "    }\n",
       "</style>\n",
       "<table border=\"1\" class=\"dataframe\">\n",
       "  <thead>\n",
       "    <tr style=\"text-align: right;\">\n",
       "      <th></th>\n",
       "      <th>year</th>\n",
       "      <th>state_fips</th>\n",
       "      <th>state_cen</th>\n",
       "      <th>state_ic</th>\n",
       "      <th>candidatevotes</th>\n",
       "      <th>totalvotes</th>\n",
       "      <th>version</th>\n",
       "      <th>notes</th>\n",
       "    </tr>\n",
       "  </thead>\n",
       "  <tbody>\n",
       "    <tr>\n",
       "      <th>count</th>\n",
       "      <td>4287.000000</td>\n",
       "      <td>4287.000000</td>\n",
       "      <td>4287.000000</td>\n",
       "      <td>4287.000000</td>\n",
       "      <td>4.287000e+03</td>\n",
       "      <td>4.287000e+03</td>\n",
       "      <td>4287.0</td>\n",
       "      <td>0.0</td>\n",
       "    </tr>\n",
       "    <tr>\n",
       "      <th>mean</th>\n",
       "      <td>1999.080942</td>\n",
       "      <td>28.616982</td>\n",
       "      <td>53.665034</td>\n",
       "      <td>39.754840</td>\n",
       "      <td>3.119076e+05</td>\n",
       "      <td>2.366924e+06</td>\n",
       "      <td>20210113.0</td>\n",
       "      <td>NaN</td>\n",
       "    </tr>\n",
       "    <tr>\n",
       "      <th>std</th>\n",
       "      <td>14.220014</td>\n",
       "      <td>15.616459</td>\n",
       "      <td>26.029189</td>\n",
       "      <td>22.772216</td>\n",
       "      <td>7.648011e+05</td>\n",
       "      <td>2.465008e+06</td>\n",
       "      <td>0.0</td>\n",
       "      <td>NaN</td>\n",
       "    </tr>\n",
       "    <tr>\n",
       "      <th>min</th>\n",
       "      <td>1976.000000</td>\n",
       "      <td>1.000000</td>\n",
       "      <td>11.000000</td>\n",
       "      <td>1.000000</td>\n",
       "      <td>0.000000e+00</td>\n",
       "      <td>1.235740e+05</td>\n",
       "      <td>20210113.0</td>\n",
       "      <td>NaN</td>\n",
       "    </tr>\n",
       "    <tr>\n",
       "      <th>25%</th>\n",
       "      <td>1988.000000</td>\n",
       "      <td>16.000000</td>\n",
       "      <td>33.000000</td>\n",
       "      <td>22.000000</td>\n",
       "      <td>1.177000e+03</td>\n",
       "      <td>6.522740e+05</td>\n",
       "      <td>20210113.0</td>\n",
       "      <td>NaN</td>\n",
       "    </tr>\n",
       "    <tr>\n",
       "      <th>50%</th>\n",
       "      <td>2000.000000</td>\n",
       "      <td>28.000000</td>\n",
       "      <td>53.000000</td>\n",
       "      <td>42.000000</td>\n",
       "      <td>7.499000e+03</td>\n",
       "      <td>1.569180e+06</td>\n",
       "      <td>20210113.0</td>\n",
       "      <td>NaN</td>\n",
       "    </tr>\n",
       "    <tr>\n",
       "      <th>75%</th>\n",
       "      <td>2012.000000</td>\n",
       "      <td>41.000000</td>\n",
       "      <td>81.000000</td>\n",
       "      <td>61.000000</td>\n",
       "      <td>1.992415e+05</td>\n",
       "      <td>3.033118e+06</td>\n",
       "      <td>20210113.0</td>\n",
       "      <td>NaN</td>\n",
       "    </tr>\n",
       "    <tr>\n",
       "      <th>max</th>\n",
       "      <td>2020.000000</td>\n",
       "      <td>56.000000</td>\n",
       "      <td>95.000000</td>\n",
       "      <td>82.000000</td>\n",
       "      <td>1.111025e+07</td>\n",
       "      <td>1.750088e+07</td>\n",
       "      <td>20210113.0</td>\n",
       "      <td>NaN</td>\n",
       "    </tr>\n",
       "  </tbody>\n",
       "</table>\n",
       "</div>"
      ],
      "text/plain": [
       "              year   state_fips    state_cen     state_ic  candidatevotes  \\\n",
       "count  4287.000000  4287.000000  4287.000000  4287.000000    4.287000e+03   \n",
       "mean   1999.080942    28.616982    53.665034    39.754840    3.119076e+05   \n",
       "std      14.220014    15.616459    26.029189    22.772216    7.648011e+05   \n",
       "min    1976.000000     1.000000    11.000000     1.000000    0.000000e+00   \n",
       "25%    1988.000000    16.000000    33.000000    22.000000    1.177000e+03   \n",
       "50%    2000.000000    28.000000    53.000000    42.000000    7.499000e+03   \n",
       "75%    2012.000000    41.000000    81.000000    61.000000    1.992415e+05   \n",
       "max    2020.000000    56.000000    95.000000    82.000000    1.111025e+07   \n",
       "\n",
       "         totalvotes     version  notes  \n",
       "count  4.287000e+03      4287.0    0.0  \n",
       "mean   2.366924e+06  20210113.0    NaN  \n",
       "std    2.465008e+06         0.0    NaN  \n",
       "min    1.235740e+05  20210113.0    NaN  \n",
       "25%    6.522740e+05  20210113.0    NaN  \n",
       "50%    1.569180e+06  20210113.0    NaN  \n",
       "75%    3.033118e+06  20210113.0    NaN  \n",
       "max    1.750088e+07  20210113.0    NaN  "
      ]
     },
     "execution_count": 39,
     "metadata": {},
     "output_type": "execute_result"
    }
   ],
   "source": [
    "us_elections_dataset_president.describe()"
   ]
  },
  {
   "cell_type": "code",
   "execution_count": 40,
   "id": "3563f768",
   "metadata": {},
   "outputs": [
    {
     "data": {
      "text/plain": [
       "Index(['year', 'state', 'state_po', 'state_fips', 'state_cen', 'state_ic',\n",
       "       'office', 'candidate', 'party_detailed', 'writein', 'candidatevotes',\n",
       "       'totalvotes', 'version', 'notes', 'party_simplified'],\n",
       "      dtype='object')"
      ]
     },
     "execution_count": 40,
     "metadata": {},
     "output_type": "execute_result"
    }
   ],
   "source": [
    "us_elections_dataset_president.columns"
   ]
  },
  {
   "cell_type": "code",
   "execution_count": 41,
   "id": "b24928bb",
   "metadata": {},
   "outputs": [
    {
     "data": {
      "text/plain": [
       "(4287, 15)"
      ]
     },
     "execution_count": 41,
     "metadata": {},
     "output_type": "execute_result"
    }
   ],
   "source": [
    "us_elections_dataset_president.shape"
   ]
  },
  {
   "cell_type": "code",
   "execution_count": 42,
   "id": "26179a71",
   "metadata": {},
   "outputs": [
    {
     "data": {
      "text/plain": [
       "<AxesSubplot:>"
      ]
     },
     "execution_count": 42,
     "metadata": {},
     "output_type": "execute_result"
    },
    {
     "data": {
      "image/png": "[encoded data removed]",
      "text/plain": [
       "<Figure size 432x288 with 1 Axes>"
      ]
     },
     "metadata": {
      "needs_background": "light"
     },
     "output_type": "display_data"
    }
   ],
   "source": [
    "us_elections_dataset_president.boxplot(column='candidatevotes')"
   ]
  },
  {
   "cell_type": "markdown",
   "id": "cc9cdc53",
   "metadata": {},
   "source": [
    "Find out the NaN values accross the dataset"
   ]
  },
  {
   "cell_type": "code",
   "execution_count": 43,
   "id": "db7931ef",
   "metadata": {},
   "outputs": [
    {
     "data": {
      "text/plain": [
       "candidate          287\n",
       "party_detailed     456\n",
       "writein              3\n",
       "notes             4287\n",
       "dtype: int64"
      ]
     },
     "execution_count": 43,
     "metadata": {},
     "output_type": "execute_result"
    }
   ],
   "source": [
    "pd.isnull(us_elections_dataset_president).sum()[pd.isnull(us_elections_dataset_president).sum() > 0]"
   ]
  },
  {
   "cell_type": "code",
   "execution_count": null,
   "id": "c06d7681",
   "metadata": {},
   "outputs": [],
   "source": []
  },
  {
   "cell_type": "code",
   "execution_count": null,
   "id": "5e4cddc9",
   "metadata": {},
   "outputs": [],
   "source": []
  },
  {
   "cell_type": "code",
   "execution_count": null,
   "id": "d63a2e73",
   "metadata": {},
   "outputs": [],
   "source": []
  },
  {
   "cell_type": "code",
   "execution_count": null,
   "id": "4f2b4f1b",
   "metadata": {},
   "outputs": [],
   "source": []
  },
  {
   "cell_type": "code",
   "execution_count": null,
   "id": "04188f19",
   "metadata": {},
   "outputs": [],
   "source": []
  },
  {
   "cell_type": "code",
   "execution_count": null,
   "id": "576db2b3",
   "metadata": {},
   "outputs": [],
   "source": []
  },
  {
   "cell_type": "code",
   "execution_count": null,
   "id": "383a4a76",
   "metadata": {},
   "outputs": [],
   "source": []
  }
 ],
 "metadata": {
  "kernelspec": {
   "display_name": "Python 3 (ipykernel)",
   "language": "python",
   "name": "python3"
  },
  "language_info": {
   "codemirror_mode": {
    "name": "ipython",
    "version": 3
   },
   "file_extension": ".py",
   "mimetype": "text/x-python",
   "name": "python",
   "nbconvert_exporter": "python",
   "pygments_lexer": "ipython3",
   "version": "3.9.7"
  }
 },
 "nbformat": 4,
 "nbformat_minor": 5
}
