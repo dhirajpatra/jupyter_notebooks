{
 "cells": [
  {
   "cell_type": "code",
   "execution_count": 20,
   "id": "10febfd0-9cee-4050-9e29-0fa977a3bdc5",
   "metadata": {
    "scrolled": true
   },
   "outputs": [],
   "source": [
    "# !pip install mlxtend"
   ]
  },
  {
   "cell_type": "code",
   "execution_count": 5,
   "id": "f6f8e1ac-1fbd-460f-bb1d-4f87be6b6570",
   "metadata": {},
   "outputs": [],
   "source": [
    "from mlxtend.preprocessing import TransactionEncoder\n",
    "from mlxtend.frequent_patterns import apriori, association_rules\n",
    "import pandas as pd\n",
    "import matplotlib.pyplot as plt\n"
   ]
  },
  {
   "cell_type": "code",
   "execution_count": 21,
   "id": "735afd29-aae2-433d-bc80-e06449c65a2a",
   "metadata": {},
   "outputs": [
    {
     "data": {
      "text/html": [
       "<div>\n",
       "<style scoped>\n",
       "    .dataframe tbody tr th:only-of-type {\n",
       "        vertical-align: middle;\n",
       "    }\n",
       "\n",
       "    .dataframe tbody tr th {\n",
       "        vertical-align: top;\n",
       "    }\n",
       "\n",
       "    .dataframe thead th {\n",
       "        text-align: right;\n",
       "    }\n",
       "</style>\n",
       "<table border=\"1\" class=\"dataframe\">\n",
       "  <thead>\n",
       "    <tr style=\"text-align: right;\">\n",
       "      <th></th>\n",
       "      <th>Member_number</th>\n",
       "      <th>Date</th>\n",
       "      <th>itemDescription</th>\n",
       "    </tr>\n",
       "  </thead>\n",
       "  <tbody>\n",
       "    <tr>\n",
       "      <th>0</th>\n",
       "      <td>1808</td>\n",
       "      <td>21-07-2015</td>\n",
       "      <td>tropical fruit</td>\n",
       "    </tr>\n",
       "    <tr>\n",
       "      <th>1</th>\n",
       "      <td>2552</td>\n",
       "      <td>05-01-2015</td>\n",
       "      <td>whole milk</td>\n",
       "    </tr>\n",
       "    <tr>\n",
       "      <th>2</th>\n",
       "      <td>2300</td>\n",
       "      <td>19-09-2015</td>\n",
       "      <td>pip fruit</td>\n",
       "    </tr>\n",
       "    <tr>\n",
       "      <th>3</th>\n",
       "      <td>1187</td>\n",
       "      <td>12-12-2015</td>\n",
       "      <td>other vegetables</td>\n",
       "    </tr>\n",
       "    <tr>\n",
       "      <th>4</th>\n",
       "      <td>3037</td>\n",
       "      <td>01-02-2015</td>\n",
       "      <td>whole milk</td>\n",
       "    </tr>\n",
       "  </tbody>\n",
       "</table>\n",
       "</div>"
      ],
      "text/plain": [
       "   Member_number        Date   itemDescription\n",
       "0           1808  21-07-2015    tropical fruit\n",
       "1           2552  05-01-2015        whole milk\n",
       "2           2300  19-09-2015         pip fruit\n",
       "3           1187  12-12-2015  other vegetables\n",
       "4           3037  01-02-2015        whole milk"
      ]
     },
     "execution_count": 21,
     "metadata": {},
     "output_type": "execute_result"
    }
   ],
   "source": [
    "# loaded and preprocessed the 'Groceries' dataset as a list of transactions\n",
    "df = pd.read_csv(\"data/Groceries_dataset.csv\")\n",
    "df.head()"
   ]
  },
  {
   "cell_type": "code",
   "execution_count": 22,
   "id": "92419264-26dd-44a8-91e6-be4f057402c3",
   "metadata": {},
   "outputs": [
    {
     "name": "stdout",
     "output_type": "stream",
     "text": [
      "Member_number      0\n",
      "Date               0\n",
      "itemDescription    0\n",
      "dtype: int64\n"
     ]
    }
   ],
   "source": [
    "# Get the count of null values in each column\n",
    "null_counts = df.isnull().sum()\n",
    "print(null_counts)"
   ]
  },
  {
   "cell_type": "code",
   "execution_count": 23,
   "id": "807ae062-7e13-4a8f-94e1-465851c07661",
   "metadata": {},
   "outputs": [
    {
     "name": "stdout",
     "output_type": "stream",
     "text": [
      "<class 'pandas.core.frame.DataFrame'>\n",
      "RangeIndex: 38765 entries, 0 to 38764\n",
      "Data columns (total 3 columns):\n",
      " #   Column           Non-Null Count  Dtype \n",
      "---  ------           --------------  ----- \n",
      " 0   Member_number    38765 non-null  int64 \n",
      " 1   Date             38765 non-null  object\n",
      " 2   itemDescription  38765 non-null  object\n",
      "dtypes: int64(1), object(2)\n",
      "memory usage: 908.7+ KB\n"
     ]
    }
   ],
   "source": [
    "df.info()"
   ]
  },
  {
   "cell_type": "code",
   "execution_count": 24,
   "id": "f085e49f-887d-4788-9260-886d1fd093be",
   "metadata": {},
   "outputs": [
    {
     "data": {
      "text/plain": [
       "Index(['Member_number', 'Date', 'itemDescription'], dtype='object')"
      ]
     },
     "execution_count": 24,
     "metadata": {},
     "output_type": "execute_result"
    }
   ],
   "source": [
    "df.columns"
   ]
  },
  {
   "cell_type": "code",
   "execution_count": 59,
   "id": "4c66c1b0-4950-42b6-838c-8462303f0009",
   "metadata": {},
   "outputs": [
    {
     "data": {
      "text/plain": [
       "array(['tropical fruit', 'whole milk', 'pip fruit', 'other vegetables',\n",
       "       'rolls/buns', 'pot plants', 'citrus fruit', 'beef', 'frankfurter',\n",
       "       'chicken', 'butter', 'fruit/vegetable juice',\n",
       "       'packaged fruit/vegetables', 'chocolate', 'specialty bar',\n",
       "       'butter milk', 'bottled water', 'yogurt', 'sausage', 'brown bread',\n",
       "       'hamburger meat', 'root vegetables', 'pork', 'pastry',\n",
       "       'canned beer', 'berries', 'coffee', 'misc. beverages', 'ham',\n",
       "       'turkey', 'curd cheese', 'red/blush wine',\n",
       "       'frozen potato products', 'flour', 'sugar', 'frozen meals',\n",
       "       'herbs', 'soda', 'detergent', 'grapes', 'processed cheese', 'fish',\n",
       "       'sparkling wine', 'newspapers', 'curd', 'pasta', 'popcorn',\n",
       "       'finished products', 'beverages', 'bottled beer', 'dessert',\n",
       "       'dog food', 'specialty chocolate', 'condensed milk', 'cleaner',\n",
       "       'white wine', 'meat', 'ice cream', 'hard cheese', 'cream cheese ',\n",
       "       'liquor', 'pickled vegetables', 'liquor (appetizer)', 'UHT-milk',\n",
       "       'candy', 'onions', 'hair spray', 'photo/film', 'domestic eggs',\n",
       "       'margarine', 'shopping bags', 'salt', 'oil', 'whipped/sour cream',\n",
       "       'frozen vegetables', 'sliced cheese', 'dish cleaner',\n",
       "       'baking powder', 'specialty cheese', 'salty snack',\n",
       "       'Instant food products', 'pet care', 'white bread',\n",
       "       'female sanitary products', 'cling film/bags', 'soap',\n",
       "       'frozen chicken', 'house keeping products', 'spread cheese',\n",
       "       'decalcifier', 'frozen dessert', 'vinegar', 'nuts/prunes',\n",
       "       'potato products', 'frozen fish', 'hygiene articles',\n",
       "       'artif. sweetener', 'light bulbs', 'canned vegetables',\n",
       "       'chewing gum', 'canned fish', 'cookware', 'semi-finished bread',\n",
       "       'cat food', 'bathroom cleaner', 'prosecco', 'liver loaf',\n",
       "       'zwieback', 'canned fruit', 'frozen fruits', 'brandy',\n",
       "       'baby cosmetics', 'spices', 'napkins', 'waffles', 'sauces', 'rum',\n",
       "       'chocolate marshmallow', 'long life bakery product', 'bags',\n",
       "       'sweet spreads', 'soups', 'mustard', 'specialty fat',\n",
       "       'instant coffee', 'snack products', 'organic sausage',\n",
       "       'soft cheese', 'mayonnaise', 'dental care', 'roll products ',\n",
       "       'kitchen towels', 'flower soil/fertilizer', 'cereals',\n",
       "       'meat spreads', 'dishes', 'male cosmetics', 'candles', 'whisky',\n",
       "       'tidbits', 'cooking chocolate', 'seasonal products', 'liqueur',\n",
       "       'abrasive cleaner', 'syrup', 'ketchup', 'cream', 'skin care',\n",
       "       'rubbing alcohol', 'nut snack', 'cocoa drinks', 'softener',\n",
       "       'organic products', 'cake bar', 'honey', 'jam', 'kitchen utensil',\n",
       "       'flower (seeds)', 'rice', 'tea', 'salad dressing',\n",
       "       'specialty vegetables', 'pudding powder', 'ready soups',\n",
       "       'make up remover', 'toilet cleaner', 'preservation products'],\n",
       "      dtype=object)"
      ]
     },
     "execution_count": 59,
     "metadata": {},
     "output_type": "execute_result"
    }
   ],
   "source": [
    "df['itemDescription'].unique()"
   ]
  },
  {
   "cell_type": "code",
   "execution_count": 50,
   "id": "7c3fd15e-3e13-43ce-81e8-a206af47c70d",
   "metadata": {},
   "outputs": [],
   "source": [
    "# Convert the dataset into a transaction format\n",
    "# transactions = df.groupby(['Member_number', 'Date'])['itemDescription'].apply(list).values.tolist()\n",
    "transactions = [['sausage', 'whole milk', 'semi-finished bread', 'yogurt'],\n",
    "                ['whole milk', 'pastry', 'salty snack'],\n",
    "                ['canned beer', 'misc. beverages'],\n",
    "                ['sausage', 'hygiene articles'],\n",
    "                ['soda', 'pickled vegetables'],\n",
    "                ['frankfurter', 'curd'],\n",
    "                ['sausage', 'whole milk', 'rolls/buns'],\n",
    "                ['whole milk', 'soda'],\n",
    "                ['beef', 'white bread'],\n",
    "                ['frankfurter', 'soda', 'whipped/sour cream']]"
   ]
  },
  {
   "cell_type": "code",
   "execution_count": 51,
   "id": "c5ecef22-1f07-4864-b3ee-f5edc454af65",
   "metadata": {},
   "outputs": [
    {
     "name": "stdout",
     "output_type": "stream",
     "text": [
      "[['sausage', 'whole milk', 'semi-finished bread', 'yogurt'], ['whole milk', 'pastry', 'salty snack'], ['canned beer', 'misc. beverages'], ['sausage', 'hygiene articles'], ['soda', 'pickled vegetables'], ['frankfurter', 'curd'], ['sausage', 'whole milk', 'rolls/buns'], ['whole milk', 'soda'], ['beef', 'white bread'], ['frankfurter', 'soda', 'whipped/sour cream']]\n"
     ]
    }
   ],
   "source": [
    "print(transactions[:10])"
   ]
  },
  {
   "cell_type": "code",
   "execution_count": 53,
   "id": "c21755f2-d4e8-4c86-927d-694c99dd0fe7",
   "metadata": {
    "editable": true,
    "slideshow": {
     "slide_type": ""
    },
    "tags": []
   },
   "outputs": [],
   "source": [
    "# Convert the dataset into a transaction format\n",
    "te = TransactionEncoder()\n",
    "te_ary = te.fit_transform(transactions)\n",
    "df_encoded = pd.DataFrame(te_ary, columns=te.columns_)\n"
   ]
  },
  {
   "cell_type": "code",
   "execution_count": 54,
   "id": "34def5db-4701-4713-82ff-9deb224e9121",
   "metadata": {},
   "outputs": [],
   "source": [
    "# Apply the Apriori algorithm to find frequent itemsets\n",
    "frequent_itemsets = apriori(df_encoded, min_support=0.003, use_colnames=True)"
   ]
  },
  {
   "cell_type": "code",
   "execution_count": 55,
   "id": "b8e6ae47-1f43-401e-8c6e-c50d038fe51a",
   "metadata": {},
   "outputs": [],
   "source": [
    "# Generate association rules with the specified confidence level\n",
    "rules = association_rules(frequent_itemsets, metric=\"confidence\", min_threshold=0.7)\n"
   ]
  },
  {
   "cell_type": "code",
   "execution_count": 56,
   "id": "4c8fd7ca-ec2b-4898-ab3c-f9fd3b0dfd44",
   "metadata": {},
   "outputs": [],
   "source": [
    "# Store the resulting rule as 'rule2'\n",
    "rule2 = rules\n"
   ]
  },
  {
   "cell_type": "code",
   "execution_count": 57,
   "id": "6ce3c531-640d-4e98-b38a-6b779ed3a13a",
   "metadata": {},
   "outputs": [
    {
     "name": "stdout",
     "output_type": "stream",
     "text": [
      "                                   antecedents  \\\n",
      "0                                       (beef)   \n",
      "1                                (white bread)   \n",
      "2                                (canned beer)   \n",
      "3                            (misc. beverages)   \n",
      "4                                       (curd)   \n",
      "5                         (whipped/sour cream)   \n",
      "6                           (hygiene articles)   \n",
      "7                                (salty snack)   \n",
      "8                                     (pastry)   \n",
      "9                                     (pastry)   \n",
      "10                        (pickled vegetables)   \n",
      "11                                (rolls/buns)   \n",
      "12                                (rolls/buns)   \n",
      "13                               (salty snack)   \n",
      "14                       (semi-finished bread)   \n",
      "15                                    (yogurt)   \n",
      "16                       (semi-finished bread)   \n",
      "17                       (semi-finished bread)   \n",
      "18                                    (yogurt)   \n",
      "19                        (whipped/sour cream)   \n",
      "20                                    (yogurt)   \n",
      "21                  (whipped/sour cream, soda)   \n",
      "22           (whipped/sour cream, frankfurter)   \n",
      "23                         (soda, frankfurter)   \n",
      "24                        (whipped/sour cream)   \n",
      "25                   (salty snack, whole milk)   \n",
      "26                       (salty snack, pastry)   \n",
      "27                        (pastry, whole milk)   \n",
      "28                               (salty snack)   \n",
      "29                                    (pastry)   \n",
      "30                    (whole milk, rolls/buns)   \n",
      "31                       (rolls/buns, sausage)   \n",
      "32                                (rolls/buns)   \n",
      "33           (semi-finished bread, whole milk)   \n",
      "34              (semi-finished bread, sausage)   \n",
      "35                       (semi-finished bread)   \n",
      "36               (semi-finished bread, yogurt)   \n",
      "37              (semi-finished bread, sausage)   \n",
      "38                           (yogurt, sausage)   \n",
      "39                       (semi-finished bread)   \n",
      "40                                    (yogurt)   \n",
      "41                        (yogurt, whole milk)   \n",
      "42                           (yogurt, sausage)   \n",
      "43                                    (yogurt)   \n",
      "44               (semi-finished bread, yogurt)   \n",
      "45           (semi-finished bread, whole milk)   \n",
      "46                        (yogurt, whole milk)   \n",
      "47                       (semi-finished bread)   \n",
      "48                                    (yogurt)   \n",
      "49   (semi-finished bread, yogurt, whole milk)   \n",
      "50      (semi-finished bread, yogurt, sausage)   \n",
      "51  (semi-finished bread, whole milk, sausage)   \n",
      "52               (yogurt, whole milk, sausage)   \n",
      "53               (semi-finished bread, yogurt)   \n",
      "54           (semi-finished bread, whole milk)   \n",
      "55              (semi-finished bread, sausage)   \n",
      "56                        (yogurt, whole milk)   \n",
      "57                           (yogurt, sausage)   \n",
      "58                       (semi-finished bread)   \n",
      "59                                    (yogurt)   \n",
      "\n",
      "                                   consequents  antecedent support  \\\n",
      "0                                (white bread)                 0.1   \n",
      "1                                       (beef)                 0.1   \n",
      "2                            (misc. beverages)                 0.1   \n",
      "3                                (canned beer)                 0.1   \n",
      "4                                (frankfurter)                 0.1   \n",
      "5                                (frankfurter)                 0.1   \n",
      "6                                    (sausage)                 0.1   \n",
      "7                                     (pastry)                 0.1   \n",
      "8                                (salty snack)                 0.1   \n",
      "9                                 (whole milk)                 0.1   \n",
      "10                                      (soda)                 0.1   \n",
      "11                                   (sausage)                 0.1   \n",
      "12                                (whole milk)                 0.1   \n",
      "13                                (whole milk)                 0.1   \n",
      "14                                   (sausage)                 0.1   \n",
      "15                                   (sausage)                 0.1   \n",
      "16                                (whole milk)                 0.1   \n",
      "17                                    (yogurt)                 0.1   \n",
      "18                       (semi-finished bread)                 0.1   \n",
      "19                                      (soda)                 0.1   \n",
      "20                                (whole milk)                 0.1   \n",
      "21                               (frankfurter)                 0.1   \n",
      "22                                      (soda)                 0.1   \n",
      "23                        (whipped/sour cream)                 0.1   \n",
      "24                         (soda, frankfurter)                 0.1   \n",
      "25                                    (pastry)                 0.1   \n",
      "26                                (whole milk)                 0.1   \n",
      "27                               (salty snack)                 0.1   \n",
      "28                        (pastry, whole milk)                 0.1   \n",
      "29                   (salty snack, whole milk)                 0.1   \n",
      "30                                   (sausage)                 0.1   \n",
      "31                                (whole milk)                 0.1   \n",
      "32                       (whole milk, sausage)                 0.1   \n",
      "33                                   (sausage)                 0.1   \n",
      "34                                (whole milk)                 0.1   \n",
      "35                       (whole milk, sausage)                 0.1   \n",
      "36                                   (sausage)                 0.1   \n",
      "37                                    (yogurt)                 0.1   \n",
      "38                       (semi-finished bread)                 0.1   \n",
      "39                           (yogurt, sausage)                 0.1   \n",
      "40              (semi-finished bread, sausage)                 0.1   \n",
      "41                                   (sausage)                 0.1   \n",
      "42                                (whole milk)                 0.1   \n",
      "43                       (whole milk, sausage)                 0.1   \n",
      "44                                (whole milk)                 0.1   \n",
      "45                                    (yogurt)                 0.1   \n",
      "46                       (semi-finished bread)                 0.1   \n",
      "47                        (yogurt, whole milk)                 0.1   \n",
      "48           (semi-finished bread, whole milk)                 0.1   \n",
      "49                                   (sausage)                 0.1   \n",
      "50                                (whole milk)                 0.1   \n",
      "51                                    (yogurt)                 0.1   \n",
      "52                       (semi-finished bread)                 0.1   \n",
      "53                       (whole milk, sausage)                 0.1   \n",
      "54                           (yogurt, sausage)                 0.1   \n",
      "55                        (yogurt, whole milk)                 0.1   \n",
      "56              (semi-finished bread, sausage)                 0.1   \n",
      "57           (semi-finished bread, whole milk)                 0.1   \n",
      "58               (yogurt, whole milk, sausage)                 0.1   \n",
      "59  (semi-finished bread, whole milk, sausage)                 0.1   \n",
      "\n",
      "    consequent support  support  confidence       lift  leverage  conviction  \\\n",
      "0                  0.1      0.1         1.0  10.000000      0.09         inf   \n",
      "1                  0.1      0.1         1.0  10.000000      0.09         inf   \n",
      "2                  0.1      0.1         1.0  10.000000      0.09         inf   \n",
      "3                  0.1      0.1         1.0  10.000000      0.09         inf   \n",
      "4                  0.2      0.1         1.0   5.000000      0.08         inf   \n",
      "5                  0.2      0.1         1.0   5.000000      0.08         inf   \n",
      "6                  0.3      0.1         1.0   3.333333      0.07         inf   \n",
      "7                  0.1      0.1         1.0  10.000000      0.09         inf   \n",
      "8                  0.1      0.1         1.0  10.000000      0.09         inf   \n",
      "9                  0.4      0.1         1.0   2.500000      0.06         inf   \n",
      "10                 0.3      0.1         1.0   3.333333      0.07         inf   \n",
      "11                 0.3      0.1         1.0   3.333333      0.07         inf   \n",
      "12                 0.4      0.1         1.0   2.500000      0.06         inf   \n",
      "13                 0.4      0.1         1.0   2.500000      0.06         inf   \n",
      "14                 0.3      0.1         1.0   3.333333      0.07         inf   \n",
      "15                 0.3      0.1         1.0   3.333333      0.07         inf   \n",
      "16                 0.4      0.1         1.0   2.500000      0.06         inf   \n",
      "17                 0.1      0.1         1.0  10.000000      0.09         inf   \n",
      "18                 0.1      0.1         1.0  10.000000      0.09         inf   \n",
      "19                 0.3      0.1         1.0   3.333333      0.07         inf   \n",
      "20                 0.4      0.1         1.0   2.500000      0.06         inf   \n",
      "21                 0.2      0.1         1.0   5.000000      0.08         inf   \n",
      "22                 0.3      0.1         1.0   3.333333      0.07         inf   \n",
      "23                 0.1      0.1         1.0  10.000000      0.09         inf   \n",
      "24                 0.1      0.1         1.0  10.000000      0.09         inf   \n",
      "25                 0.1      0.1         1.0  10.000000      0.09         inf   \n",
      "26                 0.4      0.1         1.0   2.500000      0.06         inf   \n",
      "27                 0.1      0.1         1.0  10.000000      0.09         inf   \n",
      "28                 0.1      0.1         1.0  10.000000      0.09         inf   \n",
      "29                 0.1      0.1         1.0  10.000000      0.09         inf   \n",
      "30                 0.3      0.1         1.0   3.333333      0.07         inf   \n",
      "31                 0.4      0.1         1.0   2.500000      0.06         inf   \n",
      "32                 0.2      0.1         1.0   5.000000      0.08         inf   \n",
      "33                 0.3      0.1         1.0   3.333333      0.07         inf   \n",
      "34                 0.4      0.1         1.0   2.500000      0.06         inf   \n",
      "35                 0.2      0.1         1.0   5.000000      0.08         inf   \n",
      "36                 0.3      0.1         1.0   3.333333      0.07         inf   \n",
      "37                 0.1      0.1         1.0  10.000000      0.09         inf   \n",
      "38                 0.1      0.1         1.0  10.000000      0.09         inf   \n",
      "39                 0.1      0.1         1.0  10.000000      0.09         inf   \n",
      "40                 0.1      0.1         1.0  10.000000      0.09         inf   \n",
      "41                 0.3      0.1         1.0   3.333333      0.07         inf   \n",
      "42                 0.4      0.1         1.0   2.500000      0.06         inf   \n",
      "43                 0.2      0.1         1.0   5.000000      0.08         inf   \n",
      "44                 0.4      0.1         1.0   2.500000      0.06         inf   \n",
      "45                 0.1      0.1         1.0  10.000000      0.09         inf   \n",
      "46                 0.1      0.1         1.0  10.000000      0.09         inf   \n",
      "47                 0.1      0.1         1.0  10.000000      0.09         inf   \n",
      "48                 0.1      0.1         1.0  10.000000      0.09         inf   \n",
      "49                 0.3      0.1         1.0   3.333333      0.07         inf   \n",
      "50                 0.4      0.1         1.0   2.500000      0.06         inf   \n",
      "51                 0.1      0.1         1.0  10.000000      0.09         inf   \n",
      "52                 0.1      0.1         1.0  10.000000      0.09         inf   \n",
      "53                 0.2      0.1         1.0   5.000000      0.08         inf   \n",
      "54                 0.1      0.1         1.0  10.000000      0.09         inf   \n",
      "55                 0.1      0.1         1.0  10.000000      0.09         inf   \n",
      "56                 0.1      0.1         1.0  10.000000      0.09         inf   \n",
      "57                 0.1      0.1         1.0  10.000000      0.09         inf   \n",
      "58                 0.1      0.1         1.0  10.000000      0.09         inf   \n",
      "59                 0.1      0.1         1.0  10.000000      0.09         inf   \n",
      "\n",
      "    zhangs_metric  \n",
      "0        1.000000  \n",
      "1        1.000000  \n",
      "2        1.000000  \n",
      "3        1.000000  \n",
      "4        0.888889  \n",
      "5        0.888889  \n",
      "6        0.777778  \n",
      "7        1.000000  \n",
      "8        1.000000  \n",
      "9        0.666667  \n",
      "10       0.777778  \n",
      "11       0.777778  \n",
      "12       0.666667  \n",
      "13       0.666667  \n",
      "14       0.777778  \n",
      "15       0.777778  \n",
      "16       0.666667  \n",
      "17       1.000000  \n",
      "18       1.000000  \n",
      "19       0.777778  \n",
      "20       0.666667  \n",
      "21       0.888889  \n",
      "22       0.777778  \n",
      "23       1.000000  \n",
      "24       1.000000  \n",
      "25       1.000000  \n",
      "26       0.666667  \n",
      "27       1.000000  \n",
      "28       1.000000  \n",
      "29       1.000000  \n",
      "30       0.777778  \n",
      "31       0.666667  \n",
      "32       0.888889  \n",
      "33       0.777778  \n",
      "34       0.666667  \n",
      "35       0.888889  \n",
      "36       0.777778  \n",
      "37       1.000000  \n",
      "38       1.000000  \n",
      "39       1.000000  \n",
      "40       1.000000  \n",
      "41       0.777778  \n",
      "42       0.666667  \n",
      "43       0.888889  \n",
      "44       0.666667  \n",
      "45       1.000000  \n",
      "46       1.000000  \n",
      "47       1.000000  \n",
      "48       1.000000  \n",
      "49       0.777778  \n",
      "50       0.666667  \n",
      "51       1.000000  \n",
      "52       1.000000  \n",
      "53       0.888889  \n",
      "54       1.000000  \n",
      "55       1.000000  \n",
      "56       1.000000  \n",
      "57       1.000000  \n",
      "58       1.000000  \n",
      "59       1.000000  \n"
     ]
    }
   ],
   "source": [
    "# Inspect the rule2\n",
    "print(rule2)\n"
   ]
  },
  {
   "cell_type": "code",
   "execution_count": 58,
   "id": "197e2602-6e04-43c7-a58c-4bd41994f959",
   "metadata": {},
   "outputs": [
    {
     "data": {
      "image/png": "[encoded data removed]",
      "text/plain": [
       "<Figure size 1000x600 with 1 Axes>"
      ]
     },
     "metadata": {},
     "output_type": "display_data"
    }
   ],
   "source": [
    "# Plot the rule with the 'grouped' method\n",
    "plt.figure(figsize=(10, 6))\n",
    "plt.scatter(rules['support'], rules['confidence'], alpha=0.5)\n",
    "plt.xlabel('Support')\n",
    "plt.ylabel('Confidence')\n",
    "plt.title('Association Rules - Grouped')\n",
    "plt.show()"
   ]
  },
  {
   "cell_type": "code",
   "execution_count": null,
   "id": "bfd1bf74-1e0f-463b-aaf7-fe2ec40e4ea6",
   "metadata": {},
   "outputs": [],
   "source": []
  }
 ],
 "metadata": {
  "kernelspec": {
   "display_name": "Python 3 (ipykernel)",
   "language": "python",
   "name": "python3"
  },
  "language_info": {
   "codemirror_mode": {
    "name": "ipython",
    "version": 3
   },
   "file_extension": ".py",
   "mimetype": "text/x-python",
   "name": "python",
   "nbconvert_exporter": "python",
   "pygments_lexer": "ipython3",
   "version": "3.8.16"
  }
 },
 "nbformat": 4,
 "nbformat_minor": 5
}
