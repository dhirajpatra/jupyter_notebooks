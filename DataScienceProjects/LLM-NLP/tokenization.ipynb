{
 "cells": [
  {
   "cell_type": "code",
   "execution_count": 1,
   "id": "1b0f279d",
   "metadata": {},
   "outputs": [],
   "source": [
    "\n",
    "import numpy as np\n",
    "from nltk.tokenize import word_tokenize\n",
    "from nltk.corpus import stopwords\n",
    "from collections import Counter"
   ]
  },
  {
   "cell_type": "code",
   "execution_count": 2,
   "id": "3b60d5e6",
   "metadata": {},
   "outputs": [],
   "source": [
    "# Task a: Tokenize text and remove stopwords\n",
    "def tokenized_text(sentence):\n",
    "    tokens = word_tokenize(sentence.lower())\n",
    "    filtered_tokens = [word for word in tokens if word.isalpha() and word not in stopwords.words('english')]\n",
    "    return filtered_tokens\n",
    "\n"
   ]
  },
  {
   "cell_type": "code",
   "execution_count": 3,
   "id": "465ce890",
   "metadata": {},
   "outputs": [],
   "source": [
    "# Task b: Remove duplicates and sort tokens\n",
    "def sorted_token(sentence):\n",
    "    tokens = tokenized_text(sentence)\n",
    "    unique_tokens = list(set(tokens))\n",
    "    sorted_tokens = sorted(unique_tokens)\n",
    "    return sorted_tokens\n",
    "\n"
   ]
  },
  {
   "cell_type": "code",
   "execution_count": 4,
   "id": "d799b421",
   "metadata": {},
   "outputs": [],
   "source": [
    "# Task c: Calculate frequency count of word tokens\n",
    "def bag_of_words(sentence, word):\n",
    "    tokens = tokenized_text(sentence)\n",
    "    word_count = Counter(tokens)\n",
    "    return word_count[word]\n",
    "\n"
   ]
  },
  {
   "cell_type": "code",
   "execution_count": 5,
   "id": "f6002818",
   "metadata": {},
   "outputs": [],
   "source": [
    "# Sample sentences\n",
    "sentences = [\n",
    "    \"Joe went to the store\",\n",
    "    \"Joe wants to buy a dining set\",\n",
    "    \"Joe met John at the store\",\n",
    "    \"Joe and John are best friends\"\n",
    "]\n"
   ]
  },
  {
   "cell_type": "code",
   "execution_count": 6,
   "id": "ee01212f",
   "metadata": {},
   "outputs": [],
   "source": [
    "# Create bag of words model\n",
    "bag_of_words_model = []\n",
    "for sentence in sentences:\n",
    "    vector = [bag_of_words(sentence, word) for word in sorted_token(sentence)]\n",
    "    bag_of_words_model.append(vector)\n"
   ]
  },
  {
   "cell_type": "code",
   "execution_count": 7,
   "id": "438766bf",
   "metadata": {},
   "outputs": [
    {
     "name": "stdout",
     "output_type": "stream",
     "text": [
      "Bag of Words Model:\n",
      "[list([1, 1, 1]) list([1, 1, 1, 1, 1]) list([1, 1, 1, 1])\n",
      " list([1, 1, 1, 1])]\n"
     ]
    },
    {
     "name": "stderr",
     "output_type": "stream",
     "text": [
      "/var/folders/7p/nhr_8mz933v_4r1mwyd3_jg40000gp/T/ipykernel_62564/3644323934.py:2: VisibleDeprecationWarning: Creating an ndarray from ragged nested sequences (which is a list-or-tuple of lists-or-tuples-or ndarrays with different lengths or shapes) is deprecated. If you meant to do this, you must specify 'dtype=object' when creating the ndarray.\n",
      "  bag_of_words_array = np.array(bag_of_words_model)\n"
     ]
    }
   ],
   "source": [
    "# Convert bag of words model to NumPy array\n",
    "bag_of_words_array = np.array(bag_of_words_model)\n",
    "\n",
    "print(\"Bag of Words Model:\")\n",
    "print(bag_of_words_array)"
   ]
  },
  {
   "cell_type": "code",
   "execution_count": null,
   "id": "e293bf5f",
   "metadata": {},
   "outputs": [],
   "source": []
  }
 ],
 "metadata": {
  "kernelspec": {
   "display_name": "Python 3 (ipykernel)",
   "language": "python",
   "name": "python3"
  },
  "language_info": {
   "codemirror_mode": {
    "name": "ipython",
    "version": 3
   },
   "file_extension": ".py",
   "mimetype": "text/x-python",
   "name": "python",
   "nbconvert_exporter": "python",
   "pygments_lexer": "ipython3",
   "version": "3.8.16"
  }
 },
 "nbformat": 4,
 "nbformat_minor": 5
}
