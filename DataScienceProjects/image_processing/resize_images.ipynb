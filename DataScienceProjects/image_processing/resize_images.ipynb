{
 "cells": [
  {
   "cell_type": "code",
   "execution_count": null,
   "metadata": {
    "executionInfo": {
     "elapsed": 2430,
     "status": "ok",
     "timestamp": 1680675201136,
     "user": {
      "displayName": "ftc solar",
      "userId": "18189083017073960087"
     },
     "user_tz": -330
    },
    "id": "YGad3nqy1kB7"
   },
   "outputs": [],
   "source": [
    "import os\n",
    "import numpy as np\n",
    "import matplotlib.pyplot as plt\n",
    "import keras\n",
    "import random\n",
    "from PIL import Image"
   ]
  },
  {
   "cell_type": "code",
   "execution_count": null,
   "metadata": {
    "colab": {
     "base_uri": "https://localhost:8080/"
    },
    "executionInfo": {
     "elapsed": 290547,
     "status": "ok",
     "timestamp": 1680675491669,
     "user": {
      "displayName": "ftc solar",
      "userId": "18189083017073960087"
     },
     "user_tz": -330
    },
    "id": "KtNwj2p-1tkw",
    "outputId": "994923ee-05cf-43ab-efae-dc09534ebd3b"
   },
   "outputs": [],
   "source": [
    "# ## If you are using the data by mounting the google drive, use the following :\n",
    "# from google.colab import drive\n",
    "# drive.mount('/content/gdrive', force_remount=True)"
   ]
  },
  {
   "cell_type": "code",
   "execution_count": null,
   "metadata": {
    "colab": {
     "base_uri": "https://localhost:8080/"
    },
    "executionInfo": {
     "elapsed": 19,
     "status": "ok",
     "timestamp": 1680675491669,
     "user": {
      "displayName": "ftc solar",
      "userId": "18189083017073960087"
     },
     "user_tz": -330
    },
    "id": "3tX6-uYR1wfW",
    "outputId": "8c42cc5b-9557-47ec-9ffa-8a8376062e29"
   },
   "outputs": [],
   "source": [
    "# # !ls \"/content/gdrive/MyDrive/dust_panels_detect\"\n",
    "# !ls \"/content/gdrive/MyDrive/dust_panels_detect\""
   ]
  },
  {
   "cell_type": "code",
   "execution_count": null,
   "metadata": {
    "executionInfo": {
     "elapsed": 13,
     "status": "ok",
     "timestamp": 1680675491669,
     "user": {
      "displayName": "ftc solar",
      "userId": "18189083017073960087"
     },
     "user_tz": -330
    },
    "id": "dhy2ci4G18sw"
   },
   "outputs": [],
   "source": [
    "FAST_RUN = False\n",
    "IMAGE_WIDTH=256\n",
    "IMAGE_HEIGHT=256\n",
    "IMAGE_SIZE=(IMAGE_WIDTH, IMAGE_HEIGHT)\n",
    "IMAGE_CHANNELS=3\n",
    "# Define a list of possible batch sizes\n",
    "BATCH_SIZES = [16, 32, 64, 128]\n",
    "# Generate a random index to select a batch size from the list\n",
    "random_index = np.random.randint(0, len(BATCH_SIZES))\n",
    "\n",
    "# Select a batch size using the random index\n",
    "BATCH_SIZE = BATCH_SIZES[random_index]\n",
    "NUM_CLASSES = 1"
   ]
  },
  {
   "cell_type": "code",
   "execution_count": null,
   "metadata": {
    "executionInfo": {
     "elapsed": 14,
     "status": "ok",
     "timestamp": 1680675491670,
     "user": {
      "displayName": "ftc solar",
      "userId": "18189083017073960087"
     },
     "user_tz": -330
    },
    "id": "P0HCdv7S2G1w"
   },
   "outputs": [],
   "source": [
    "# Set the directory for the training images\n",
    "train_dir = './snow_detection_ml_application_detected_images'\n",
    "# test_dir = '/content/gdrive/MyDrive/dust_panels_detect/test'\n",
    "\n",
    "# # Set the directory for the training images\n",
    "# train_dir = '/content/gdrive/MyDrive/dust_panels_detect/train'\n",
    "# test_dir = '/content/gdrive/MyDrive/dust_panels_detect/test'"
   ]
  },
  {
   "cell_type": "code",
   "execution_count": null,
   "metadata": {
    "executionInfo": {
     "elapsed": 14,
     "status": "ok",
     "timestamp": 1680675491670,
     "user": {
      "displayName": "ftc solar",
      "userId": "18189083017073960087"
     },
     "user_tz": -330
    },
    "id": "Z_7SEYa72OJL"
   },
   "outputs": [],
   "source": [
    "def resize_images(path_to_directory, target_size):\n",
    "    for filename in os.listdir(path_to_directory):\n",
    "        root, ext = os.path.splitext(filename)\n",
    "        if ext.lower() in [\".jpg\", \".jpeg\", \".png\", \".webp\"]:\n",
    "            img_path = os.path.join(path_to_directory, filename)\n",
    "            if Image.open(img_path).size != target_size:\n",
    "                img = Image.open(img_path).resize(target_size)\n",
    "                img.save(img_path)\n",
    "    print(f\"All images in {path_to_directory} resized to {target_size}\")\n"
   ]
  },
  {
   "cell_type": "code",
   "execution_count": null,
   "metadata": {
    "colab": {
     "base_uri": "https://localhost:8080/"
    },
    "executionInfo": {
     "elapsed": 342958,
     "status": "ok",
     "timestamp": 1680675834615,
     "user": {
      "displayName": "ftc solar",
      "userId": "18189083017073960087"
     },
     "user_tz": -330
    },
    "id": "qsTx8x1d2QWJ",
    "outputId": "fb3bb0c2-14ab-4a0d-c07d-6ca5b9e2b84d"
   },
   "outputs": [],
   "source": [
    "resize_images(train_dir, IMAGE_SIZE)\n",
    "# resize_images(os.path.join(train_dir, 'clean'), IMAGE_SIZE)\n",
    "\n",
    "# resize_images(os.path.join(train_dir, 'dirty'), IMAGE_SIZE)\n",
    "# resize_images(os.path.join(train_dir, 'clean'), IMAGE_SIZE)"
   ]
  },
  {
   "cell_type": "code",
   "execution_count": null,
   "metadata": {
    "colab": {
     "base_uri": "https://localhost:8080/"
    },
    "executionInfo": {
     "elapsed": 232965,
     "status": "ok",
     "timestamp": 1680676392343,
     "user": {
      "displayName": "ftc solar",
      "userId": "18189083017073960087"
     },
     "user_tz": -330
    },
    "id": "NUE78htW2SyR",
    "outputId": "07a91843-abdc-492a-d59c-e1f868281c30"
   },
   "outputs": [],
   "source": [
    "# resize_images(os.path.join(test_dir, 'dirty'), IMAGE_SIZE)\n",
    "# resize_images(os.path.join(test_dir, 'clean'), IMAGE_SIZE)\n",
    "\n",
    "resize_images(os.path.join(test_dir, 'dirty'), IMAGE_SIZE)\n",
    "resize_images(os.path.join(test_dir, 'clean'), IMAGE_SIZE)"
   ]
  }
 ],
 "metadata": {
  "accelerator": "TPU",
  "colab": {
   "authorship_tag": "ABX9TyOrp5tdblQQyw0YvmlwJGlT",
   "machine_shape": "hm",
   "provenance": []
  },
  "gpuClass": "standard",
  "kernelspec": {
   "display_name": "Python 3 (ipykernel)",
   "language": "python",
   "name": "python3"
  },
  "language_info": {
   "codemirror_mode": {
    "name": "ipython",
    "version": 3
   },
   "file_extension": ".py",
   "mimetype": "text/x-python",
   "name": "python",
   "nbconvert_exporter": "python",
   "pygments_lexer": "ipython3",
   "version": "3.8.16"
  }
 },
 "nbformat": 4,
 "nbformat_minor": 4
}
