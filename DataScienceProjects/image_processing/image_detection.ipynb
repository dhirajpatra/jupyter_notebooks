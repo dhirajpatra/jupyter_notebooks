{
 "cells": [
  {
   "cell_type": "code",
   "execution_count": 3,
   "id": "3cc1e036-160d-4ca3-aad3-86e29b8d2bcb",
   "metadata": {},
   "outputs": [],
   "source": [
    "import os\n",
    "import cv2\n",
    "import numpy as np\n",
    "from sklearn.model_selection import train_test_split\n"
   ]
  },
  {
   "cell_type": "code",
   "execution_count": null,
   "id": "f2d570e3-4d2f-4fb6-8ca2-d52b38c3eb78",
   "metadata": {},
   "outputs": [],
   "source": [
    "# Load the dataset\n",
    "dataset_path = '/path/to/dataset'\n",
    "images = []\n",
    "labels = []\n",
    "\n",
    "for label in os.listdir(dataset_path):\n",
    "    label_path = os.path.join(dataset_path, label)\n",
    "    for img_path in os.listdir(label_path):\n",
    "        img = cv2.imread(os.path.join(label_path, img_path))\n",
    "        img = cv2.resize(img, (224, 224)) # Resize to 224x224\n",
    "        img = img.astype('float32') / 255.0 # Normalize pixel values\n",
    "        images.append(img)\n",
    "        labels.append(label)\n",
    "\n",
    "# Convert to numpy arrays\n",
    "images = np.array(images)\n",
    "labels = np.array(labels)\n",
    "\n",
    "# Split the data into training and validation sets\n",
    "train_images, val_images, train_labels, val_labels = train_test_split(images, labels, test_size=0.2, random_state=42)"
   ]
  },
  {
   "cell_type": "code",
   "execution_count": null,
   "id": "21582f40-86a9-445f-8331-bd619ae25b2f",
   "metadata": {},
   "outputs": [],
   "source": [
    "from tensorflow.keras.applications import VGG16, InceptionV3, ResNet50, AlexNet\n",
    "\n",
    "# Load the models\n",
    "vgg16 = VGG16(weights='imagenet', include_top=False, input_shape=(224, 224, 3))\n",
    "inception_v3 = InceptionV3(weights='imagenet', include_top=False, input_shape=(224, 224, 3))\n",
    "resnet50 = ResNet50(weights='imagenet', include_top=False, input_shape=(224, 224, 3))\n",
    "alexnet = AlexNet(weights='imagenet', include_top=False, input_shape=(227, 227\n"
   ]
  },
  {
   "cell_type": "code",
   "execution_count": 4,
   "id": "6b5787ac-00e6-48e4-8146-5bbc3af4516a",
   "metadata": {},
   "outputs": [
    {
     "ename": "NameError",
     "evalue": "name 'train_images' is not defined",
     "output_type": "error",
     "traceback": [
      "\u001b[0;31m---------------------------------------------------------------------------\u001b[0m",
      "\u001b[0;31mNameError\u001b[0m                                 Traceback (most recent call last)",
      "Cell \u001b[0;32mIn[4], line 22\u001b[0m\n\u001b[1;32m     18\u001b[0m batch_size \u001b[38;5;241m=\u001b[39m \u001b[38;5;241m32\u001b[39m\n\u001b[1;32m     20\u001b[0m \u001b[38;5;66;03m# Create training data generator\u001b[39;00m\n\u001b[1;32m     21\u001b[0m train_generator \u001b[38;5;241m=\u001b[39m train_datagen\u001b[38;5;241m.\u001b[39mflow(\n\u001b[0;32m---> 22\u001b[0m     \u001b[43mtrain_images\u001b[49m,\n\u001b[1;32m     23\u001b[0m     train_labels,\n\u001b[1;32m     24\u001b[0m     batch_size\u001b[38;5;241m=\u001b[39mbatch_size\n\u001b[1;32m     25\u001b[0m )\n\u001b[1;32m     27\u001b[0m \u001b[38;5;66;03m# Create validation data generator\u001b[39;00m\n\u001b[1;32m     28\u001b[0m val_generator \u001b[38;5;241m=\u001b[39m val_datagen\u001b[38;5;241m.\u001b[39mflow(\n\u001b[1;32m     29\u001b[0m     val_images,\n\u001b[1;32m     30\u001b[0m     val_labels,\n\u001b[1;32m     31\u001b[0m     batch_size\u001b[38;5;241m=\u001b[39mbatch_size\n\u001b[1;32m     32\u001b[0m )\n",
      "\u001b[0;31mNameError\u001b[0m: name 'train_images' is not defined"
     ]
    }
   ],
   "source": [
    "from tensorflow.keras.preprocessing.image import ImageDataGenerator\n",
    "\n",
    "# Create data generator with data augmentation\n",
    "train_datagen = ImageDataGenerator(\n",
    "    rotation_range=20,\n",
    "    zoom_range=0.15,\n",
    "    width_shift_range=0.2,\n",
    "    height_shift_range=0.2,\n",
    "    shear_range=0.15,\n",
    "    horizontal_flip=True,\n",
    "    fill_mode='nearest'\n",
    ")\n",
    "\n",
    "# Create data generator without data augmentation\n",
    "val_datagen = ImageDataGenerator()\n",
    "\n",
    "# Define batch size\n",
    "batch_size = 32\n",
    "\n",
    "# Create training data generator\n",
    "train_generator = train_datagen.flow(\n",
    "    train_images,\n",
    "    train_labels,\n",
    "    batch_size=batch_size\n",
    ")\n",
    "\n",
    "# Create validation data generator\n",
    "val_generator = val_datagen.flow(\n",
    "    val_images,\n",
    "    val_labels,\n",
    "    batch_size=batch_size\n",
    ")\n",
    "\n"
   ]
  },
  {
   "cell_type": "code",
   "execution_count": 5,
   "id": "0057a701-17d7-4da8-a2cd-8297c2f922a9",
   "metadata": {},
   "outputs": [
    {
     "ename": "NameError",
     "evalue": "name 'vgg16' is not defined",
     "output_type": "error",
     "traceback": [
      "\u001b[0;31m---------------------------------------------------------------------------\u001b[0m",
      "\u001b[0;31mNameError\u001b[0m                                 Traceback (most recent call last)",
      "Cell \u001b[0;32mIn[5], line 2\u001b[0m\n\u001b[1;32m      1\u001b[0m \u001b[38;5;66;03m# Compile the models\u001b[39;00m\n\u001b[0;32m----> 2\u001b[0m \u001b[43mvgg16\u001b[49m\u001b[38;5;241m.\u001b[39mcompile(loss\u001b[38;5;241m=\u001b[39m\u001b[38;5;124m'\u001b[39m\u001b[38;5;124mbinary_crossentropy\u001b[39m\u001b[38;5;124m'\u001b[39m, optimizer\u001b[38;5;241m=\u001b[39m\u001b[38;5;124m'\u001b[39m\u001b[38;5;124madam\u001b[39m\u001b[38;5;124m'\u001b[39m, metrics\u001b[38;5;241m=\u001b[39m[\u001b[38;5;124m'\u001b[39m\u001b[38;5;124maccuracy\u001b[39m\u001b[38;5;124m'\u001b[39m])\n\u001b[1;32m      3\u001b[0m inception_v3\u001b[38;5;241m.\u001b[39mcompile(loss\u001b[38;5;241m=\u001b[39m\u001b[38;5;124m'\u001b[39m\u001b[38;5;124mbinary_crossentropy\u001b[39m\u001b[38;5;124m'\u001b[39m, optimizer\u001b[38;5;241m=\u001b[39m\u001b[38;5;124m'\u001b[39m\u001b[38;5;124madam\u001b[39m\u001b[38;5;124m'\u001b[39m, metrics\u001b[38;5;241m=\u001b[39m[\u001b[38;5;124m'\u001b[39m\u001b[38;5;124maccuracy\u001b[39m\u001b[38;5;124m'\u001b[39m])\n\u001b[1;32m      4\u001b[0m resnet50\u001b[38;5;241m.\u001b[39mcompile(loss\u001b[38;5;241m=\u001b[39m\u001b[38;5;124m'\u001b[39m\u001b[38;5;124mbinary_crossentropy\u001b[39m\u001b[38;5;124m'\u001b[39m, optimizer\u001b[38;5;241m=\u001b[39m\u001b[38;5;124m'\u001b[39m\u001b[38;5;124madam\u001b[39m\u001b[38;5;124m'\u001b[39m, metrics\u001b[38;5;241m=\u001b[39m[\u001b[38;5;124m'\u001b[39m\u001b[38;5;124maccuracy\u001b[39m\u001b[38;5;124m'\u001b[39m])\n",
      "\u001b[0;31mNameError\u001b[0m: name 'vgg16' is not defined"
     ]
    }
   ],
   "source": [
    "# Compile the models\n",
    "vgg16.compile(loss='binary_crossentropy', optimizer='adam', metrics=['accuracy'])\n",
    "inception_v3.compile(loss='binary_crossentropy', optimizer='adam', metrics=['accuracy'])\n",
    "resnet50.compile(loss='binary_crossentropy', optimizer='adam', metrics=['accuracy'])\n",
    "alexnet.compile(loss='binary_crossentropy', optimizer='adam', metrics=['accuracy'])\n"
   ]
  },
  {
   "cell_type": "code",
   "execution_count": null,
   "id": "6fba2917-4dd7-4a58-b4bb-2962656bd5ec",
   "metadata": {},
   "outputs": [],
   "source": [
    "# Train the models\n",
    "vgg16.fit(train_generator, epochs=10, validation_data=val_generator)\n",
    "inception_v3.fit(train_generator, epochs=10, validation_data=val_generator)\n",
    "resnet50.fit(train_generator, epochs=10, validation_data=val_generator)\n",
    "alexnet.fit(train_generator, epochs=10, validation_data=val_generator)"
   ]
  },
  {
   "cell_type": "code",
   "execution_count": null,
   "id": "0880b935-26b3-4c28-b384-f090124330e4",
   "metadata": {},
   "outputs": [],
   "source": [
    "# Evaluate the models\n",
    "vgg16.evaluate(val_generator)\n",
    "inception_v3.evaluate(val_generator)\n",
    "resnet50.evaluate(val_generator)\n",
    "alexnet.evaluate(val_generator)\n"
   ]
  },
  {
   "cell_type": "code",
   "execution_count": null,
   "id": "9bf54638-ae41-4776-a608-e72e260639dc",
   "metadata": {},
   "outputs": [],
   "source": [
    "# Load an image\n",
    "img = cv2.imread('/path/to/image')\n",
    "\n",
    "# Preprocess the image\n",
    "img = cv2.resize(img, (224, 224))\n",
    "img = img.astype('float32') / 255.0\n",
    "\n",
    "# Make a prediction using the models\n",
    "vgg16_pred = vgg16.predict(np.array([img]))\n",
    "inception_v3_pred = inception_v3.predict(np.array([img]))\n",
    "resnet50_pred = resnet50.predict(np.array([img]))\n",
    "alexnet_pred = alexnet.predict(np.array([img]))\n",
    "\n",
    "# Print the predictions\n",
    "print('VGG16:', vgg16_pred)\n",
    "print('InceptionV3:', inception_v3_pred)\n",
    "print('Resnet50:', resnet50_pred)\n",
    "print('AlexNet:', alexnet_pred)\n"
   ]
  },
  {
   "cell_type": "code",
   "execution_count": null,
   "id": "ea7bcaf5-5ab5-4e56-8292-9e875ee44d0f",
   "metadata": {},
   "outputs": [],
   "source": []
  }
 ],
 "metadata": {
  "kernelspec": {
   "display_name": "Python 3 (ipykernel)",
   "language": "python",
   "name": "python3"
  },
  "language_info": {
   "codemirror_mode": {
    "name": "ipython",
    "version": 3
   },
   "file_extension": ".py",
   "mimetype": "text/x-python",
   "name": "python",
   "nbconvert_exporter": "python",
   "pygments_lexer": "ipython3",
   "version": "3.8.16"
  }
 },
 "nbformat": 4,
 "nbformat_minor": 5
}
