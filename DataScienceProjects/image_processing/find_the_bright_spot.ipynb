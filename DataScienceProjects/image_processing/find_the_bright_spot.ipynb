{
 "cells": [
  {
   "cell_type": "markdown",
   "id": "51e0b347",
   "metadata": {},
   "source": [
    "### How to run \n",
    "`python bright.py --image retina.jpg --radius 41`"
   ]
  },
  {
   "cell_type": "code",
   "execution_count": null,
   "id": "15c6fa12",
   "metadata": {},
   "outputs": [],
   "source": [
    "# import the necessary packages\n",
    "import numpy as np\n",
    "import argparse\n",
    "import cv2"
   ]
  },
  {
   "cell_type": "code",
   "execution_count": null,
   "id": "ae81c184",
   "metadata": {},
   "outputs": [],
   "source": [
    "# construct the argument parse and parse the arguments\n",
    "ap = argparse.ArgumentParser()\n",
    "ap.add_argument(\"-i\", \"--image\", help = \"path to the image file\")\n",
    "ap.add_argument(\"-r\", \"--radius\", type = int, help = \"radius of Gaussian blur; must be odd\")\n",
    "ap.add_argument(\"-f\", \"--file\", required=False)\n",
    "args = vars(ap.parse_args())"
   ]
  },
  {
   "cell_type": "code",
   "execution_count": null,
   "id": "5d12dbde",
   "metadata": {},
   "outputs": [],
   "source": [
    "args[\"image\"] = 'images/retina.jpg'\n",
    "args[\"radius\"] = 41"
   ]
  },
  {
   "cell_type": "code",
   "execution_count": null,
   "id": "83888de0",
   "metadata": {},
   "outputs": [],
   "source": [
    "# load the image and convert it to grayscale\n",
    "image = cv2.imread(args[\"image\"])\n",
    "orig = image.copy()\n",
    "gray = cv2.cvtColor(image, cv2.COLOR_BGR2GRAY)"
   ]
  },
  {
   "cell_type": "code",
   "execution_count": null,
   "id": "b7162d53",
   "metadata": {},
   "outputs": [],
   "source": [
    "# perform a naive attempt to find the (x, y) coordinates of\n",
    "# the area of the image with the largest intensity value\n",
    "(minVal, maxVal, minLoc, maxLoc) = cv2.minMaxLoc(gray)\n",
    "cv2.circle(image, maxLoc, 5, (255, 0, 0), 2)"
   ]
  },
  {
   "cell_type": "code",
   "execution_count": null,
   "id": "6992ff6e",
   "metadata": {},
   "outputs": [],
   "source": [
    "# display the results of the naive attempt\n",
    "cv2.imshow(\"Naive\", image)"
   ]
  },
  {
   "cell_type": "code",
   "execution_count": null,
   "id": "55a7297b",
   "metadata": {},
   "outputs": [],
   "source": [
    "# apply a Gaussian blur to the image then find the brightest\n",
    "# region\n",
    "gray = cv2.GaussianBlur(gray, (args[\"radius\"], args[\"radius\"]), 0)\n",
    "(minVal, maxVal, minLoc, maxLoc) = cv2.minMaxLoc(gray)\n",
    "image = orig.copy()\n",
    "cv2.circle(image, maxLoc, args[\"radius\"], (255, 0, 0), 2)"
   ]
  },
  {
   "cell_type": "code",
   "execution_count": null,
   "id": "a7675f9a",
   "metadata": {},
   "outputs": [],
   "source": [
    "# display the results of our newly improved method\n",
    "cv2.imshow(\"Robust\", image)\n",
    "cv2.waitKey(0)\n",
    "cv2.destroyAllWindows() #close the image window"
   ]
  },
  {
   "cell_type": "code",
   "execution_count": null,
   "id": "0691c4a9",
   "metadata": {},
   "outputs": [],
   "source": []
  }
 ],
 "metadata": {
  "kernelspec": {
   "display_name": "Python 3 (ipykernel)",
   "language": "python",
   "name": "python3"
  },
  "language_info": {
   "codemirror_mode": {
    "name": "ipython",
    "version": 3
   },
   "file_extension": ".py",
   "mimetype": "text/x-python",
   "name": "python",
   "nbconvert_exporter": "python",
   "pygments_lexer": "ipython3",
   "version": "3.9.7"
  }
 },
 "nbformat": 4,
 "nbformat_minor": 5
}
