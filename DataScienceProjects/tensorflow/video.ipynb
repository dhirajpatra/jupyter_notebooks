{
 "cells": [
  {
   "cell_type": "markdown",
   "metadata": {
    "id": "mt9dL5dIir8X"
   },
   "source": [
    "##### Copyright 2022 The TensorFlow Authors."
   ]
  },
  {
   "cell_type": "code",
   "execution_count": 1,
   "metadata": {
    "cellView": "form",
    "execution": {
     "iopub.execute_input": "2023-01-07T02:24:55.447294Z",
     "iopub.status.busy": "2023-01-07T02:24:55.446851Z",
     "iopub.status.idle": "2023-01-07T02:24:55.450288Z",
     "shell.execute_reply": "2023-01-07T02:24:55.449733Z"
    },
    "id": "ufPx7EiCiqgR"
   },
   "outputs": [],
   "source": [
    "#@title Licensed under the Apache License, Version 2.0 (the \"License\");\n",
    "# you may not use this file except in compliance with the License.\n",
    "# You may obtain a copy of the License at\n",
    "#\n",
    "# https://www.apache.org/licenses/LICENSE-2.0\n",
    "#\n",
    "# Unless required by applicable law or agreed to in writing, software\n",
    "# distributed under the License is distributed on an \"AS IS\" BASIS,\n",
    "# WITHOUT WARRANTIES OR CONDITIONS OF ANY KIND, either express or implied.\n",
    "# See the License for the specific language governing permissions and\n",
    "# limitations under the License.\n"
   ]
  },
  {
   "cell_type": "markdown",
   "metadata": {
    "id": "4StGz9ynOEL6"
   },
   "source": [
    "# Load video data"
   ]
  },
  {
   "cell_type": "markdown",
   "metadata": {
    "id": "KwQtSOz0VrVX"
   },
   "source": [
    "<table class=\"tfo-notebook-buttons\" align=\"left\">\n",
    "  <td>\n",
    "    <a target=\"_blank\" href=\"https://www.tensorflow.org/tutorials/load_data/video\"><img src=\"https://www.tensorflow.org/images/tf_logo_32px.png\" />View on TensorFlow.org</a>\n",
    "  </td>\n",
    "  <td>\n",
    "    <a target=\"_blank\" href=\"https://colab.research.google.com/github/tensorflow/docs/blob/master/site/en/tutorials/load_data/video.ipynb\"><img src=\"https://www.tensorflow.org/images/colab_logo_32px.png\" />Run in Google Colab</a>\n",
    "  </td>\n",
    "  <td>\n",
    "    <a target=\"_blank\" href=\"https://github.com/tensorflow/docs/blob/master/site/en/tutorials/load_data/video.ipynb\"><img src=\"https://www.tensorflow.org/images/GitHub-Mark-32px.png\" />View source on GitHub</a>\n",
    "  </td>\n",
    "  <td>\n",
    "    <a href=\"https://storage.googleapis.com/tensorflow_docs/docs/site/en/tutorials/load_data/video.ipynb\"><img src=\"https://www.tensorflow.org/images/download_logo_32px.png\" />Download notebook</a>\n",
    "  </td>\n",
    "</table>"
   ]
  },
  {
   "cell_type": "markdown",
   "metadata": {
    "id": "F-SqCosJ6-0H"
   },
   "source": [
    "This tutorial demonstrates how to load and preprocess [AVI](https://en.wikipedia.org/wiki/Audio_Video_Interleave) video data using the [UCF101 human action dataset](https://www.tensorflow.org/datasets/catalog/ucf101). Once you have preprocessed the data, it can be used for such tasks as video classification/recognition, captioning or clustering. The original dataset contains realistic action videos collected from YouTube with 101 categories, including playing cello, brushing teeth, and applying eye makeup. You will learn how to:\n",
    "\n",
    "* Load the data from a zip file.\n",
    "\n",
    "* Read sequences of frames out of the video files.\n",
    "\n",
    "* Visualize the video data.\n",
    "\n",
    "* Wrap the frame-generator [`tf.data.Dataset`](https://www.tensorflow.org/guide/data).\n",
    "\n",
    "This video loading and preprocessing tutorial is the first part in a series of TensorFlow video tutorials. Here are the other three tutorials:\n",
    "\n",
    "- [Build a 3D CNN model for video classification](https://www.tensorflow.org/tutorials/video/video_classification): Note that this tutorial uses a (2+1)D CNN that decomposes the spatial and temporal aspects of 3D data; if you are using volumetric data such as an MRI scan, consider using a 3D CNN instead of a (2+1)D CNN.\n",
    "- [MoViNet for streaming action recognition](https://www.tensorflow.org/hub/tutorials/movinet): Get familiar with the MoViNet models that are available on TF Hub.\n",
    "- [Transfer learning for video classification with MoViNet](https://www.tensorflow.org/tutorials/video/transfer_learning_with_movinet): This tutorial explains how to use a pre-trained video classification model trained on a different dataset with the UCF-101 dataset."
   ]
  },
  {
   "cell_type": "markdown",
   "metadata": {
    "id": "PnpPjKVD68eH"
   },
   "source": [
    "## Setup\n",
    "\n",
    "Begin by installing and importing some necessary libraries, including:\n",
    "[remotezip](https://github.com/gtsystem/python-remotezip) to inspect the contents of a ZIP file, [tqdm](https://github.com/tqdm/tqdm) to use a progress bar, [OpenCV](https://opencv.org/) to process video files, and [`tensorflow_docs`](https://github.com/tensorflow/docs/tree/master/tools/tensorflow_docs) for embedding data in a Jupyter notebook."
   ]
  },
  {
   "cell_type": "code",
   "execution_count": 2,
   "metadata": {
    "execution": {
     "iopub.execute_input": "2023-01-07T02:24:55.453748Z",
     "iopub.status.busy": "2023-01-07T02:24:55.453543Z",
     "iopub.status.idle": "2023-01-07T02:24:57.249148Z",
     "shell.execute_reply": "2023-01-07T02:24:57.248343Z"
    },
    "id": "SjI3AaaO16bd"
   },
   "outputs": [
    {
     "name": "stdout",
     "output_type": "stream",
     "text": [
      "Requirement already satisfied: tensorflow>=2.10.0 in /tmpfs/src/tf_docs_env/lib/python3.9/site-packages (2.11.0)\r\n"
     ]
    },
    {
     "name": "stdout",
     "output_type": "stream",
     "text": [
      "Requirement already satisfied: keras<2.12,>=2.11.0 in /tmpfs/src/tf_docs_env/lib/python3.9/site-packages (from tensorflow>=2.10.0) (2.11.0)\r\n",
      "Requirement already satisfied: libclang>=13.0.0 in /tmpfs/src/tf_docs_env/lib/python3.9/site-packages (from tensorflow>=2.10.0) (14.0.6)\r\n",
      "Requirement already satisfied: packaging in /tmpfs/src/tf_docs_env/lib/python3.9/site-packages (from tensorflow>=2.10.0) (22.0)\r\n",
      "Requirement already satisfied: six>=1.12.0 in /tmpfs/src/tf_docs_env/lib/python3.9/site-packages (from tensorflow>=2.10.0) (1.16.0)\r\n"
     ]
    },
    {
     "name": "stdout",
     "output_type": "stream",
     "text": [
      "Requirement already satisfied: wrapt>=1.11.0 in /tmpfs/src/tf_docs_env/lib/python3.9/site-packages (from tensorflow>=2.10.0) (1.14.1)\r\n",
      "Requirement already satisfied: flatbuffers>=2.0 in /tmpfs/src/tf_docs_env/lib/python3.9/site-packages (from tensorflow>=2.10.0) (23.1.4)\r\n",
      "Requirement already satisfied: typing-extensions>=3.6.6 in /tmpfs/src/tf_docs_env/lib/python3.9/site-packages (from tensorflow>=2.10.0) (4.4.0)\r\n",
      "Requirement already satisfied: tensorflow-estimator<2.12,>=2.11.0 in /tmpfs/src/tf_docs_env/lib/python3.9/site-packages (from tensorflow>=2.10.0) (2.11.0)\r\n",
      "Requirement already satisfied: tensorflow-io-gcs-filesystem>=0.23.1 in /tmpfs/src/tf_docs_env/lib/python3.9/site-packages (from tensorflow>=2.10.0) (0.29.0)\r\n",
      "Requirement already satisfied: setuptools in /tmpfs/src/tf_docs_env/lib/python3.9/site-packages (from tensorflow>=2.10.0) (65.6.3)\r\n",
      "Requirement already satisfied: protobuf<3.20,>=3.9.2 in /tmpfs/src/tf_docs_env/lib/python3.9/site-packages (from tensorflow>=2.10.0) (3.19.6)\r\n",
      "Requirement already satisfied: google-pasta>=0.1.1 in /tmpfs/src/tf_docs_env/lib/python3.9/site-packages (from tensorflow>=2.10.0) (0.2.0)\r\n",
      "Requirement already satisfied: numpy>=1.20 in /tmpfs/src/tf_docs_env/lib/python3.9/site-packages (from tensorflow>=2.10.0) (1.24.1)\r\n",
      "Requirement already satisfied: astunparse>=1.6.0 in /tmpfs/src/tf_docs_env/lib/python3.9/site-packages (from tensorflow>=2.10.0) (1.6.3)\r\n",
      "Requirement already satisfied: absl-py>=1.0.0 in /tmpfs/src/tf_docs_env/lib/python3.9/site-packages (from tensorflow>=2.10.0) (1.3.0)\r\n",
      "Requirement already satisfied: grpcio<2.0,>=1.24.3 in /tmpfs/src/tf_docs_env/lib/python3.9/site-packages (from tensorflow>=2.10.0) (1.51.1)\r\n",
      "Requirement already satisfied: tensorboard<2.12,>=2.11 in /tmpfs/src/tf_docs_env/lib/python3.9/site-packages (from tensorflow>=2.10.0) (2.11.0)\r\n",
      "Requirement already satisfied: h5py>=2.9.0 in /tmpfs/src/tf_docs_env/lib/python3.9/site-packages (from tensorflow>=2.10.0) (3.7.0)\r\n",
      "Requirement already satisfied: gast<=0.4.0,>=0.2.1 in /tmpfs/src/tf_docs_env/lib/python3.9/site-packages (from tensorflow>=2.10.0) (0.4.0)\r\n",
      "Requirement already satisfied: opt-einsum>=2.3.2 in /tmpfs/src/tf_docs_env/lib/python3.9/site-packages (from tensorflow>=2.10.0) (3.3.0)\r\n",
      "Requirement already satisfied: termcolor>=1.1.0 in /tmpfs/src/tf_docs_env/lib/python3.9/site-packages (from tensorflow>=2.10.0) (2.2.0)\r\n",
      "Requirement already satisfied: wheel<1.0,>=0.23.0 in /tmpfs/src/tf_docs_env/lib/python3.9/site-packages (from astunparse>=1.6.0->tensorflow>=2.10.0) (0.37.1)\r\n",
      "Requirement already satisfied: google-auth<3,>=1.6.3 in /tmpfs/src/tf_docs_env/lib/python3.9/site-packages (from tensorboard<2.12,>=2.11->tensorflow>=2.10.0) (2.15.0)\r\n",
      "Requirement already satisfied: tensorboard-data-server<0.7.0,>=0.6.0 in /tmpfs/src/tf_docs_env/lib/python3.9/site-packages (from tensorboard<2.12,>=2.11->tensorflow>=2.10.0) (0.6.1)\r\n",
      "Requirement already satisfied: google-auth-oauthlib<0.5,>=0.4.1 in /tmpfs/src/tf_docs_env/lib/python3.9/site-packages (from tensorboard<2.12,>=2.11->tensorflow>=2.10.0) (0.4.6)\r\n",
      "Requirement already satisfied: werkzeug>=1.0.1 in /tmpfs/src/tf_docs_env/lib/python3.9/site-packages (from tensorboard<2.12,>=2.11->tensorflow>=2.10.0) (2.2.2)\r\n",
      "Requirement already satisfied: markdown>=2.6.8 in /tmpfs/src/tf_docs_env/lib/python3.9/site-packages (from tensorboard<2.12,>=2.11->tensorflow>=2.10.0) (3.4.1)\r\n",
      "Requirement already satisfied: tensorboard-plugin-wit>=1.6.0 in /tmpfs/src/tf_docs_env/lib/python3.9/site-packages (from tensorboard<2.12,>=2.11->tensorflow>=2.10.0) (1.8.1)\r\n",
      "Requirement already satisfied: requests<3,>=2.21.0 in /tmpfs/src/tf_docs_env/lib/python3.9/site-packages (from tensorboard<2.12,>=2.11->tensorflow>=2.10.0) (2.28.1)\r\n"
     ]
    },
    {
     "name": "stdout",
     "output_type": "stream",
     "text": [
      "Requirement already satisfied: pyasn1-modules>=0.2.1 in /tmpfs/src/tf_docs_env/lib/python3.9/site-packages (from google-auth<3,>=1.6.3->tensorboard<2.12,>=2.11->tensorflow>=2.10.0) (0.3.0rc1)\r\n",
      "Requirement already satisfied: rsa<5,>=3.1.4 in /tmpfs/src/tf_docs_env/lib/python3.9/site-packages (from google-auth<3,>=1.6.3->tensorboard<2.12,>=2.11->tensorflow>=2.10.0) (4.9)\r\n",
      "Requirement already satisfied: cachetools<6.0,>=2.0.0 in /tmpfs/src/tf_docs_env/lib/python3.9/site-packages (from google-auth<3,>=1.6.3->tensorboard<2.12,>=2.11->tensorflow>=2.10.0) (5.2.0)\r\n",
      "Requirement already satisfied: requests-oauthlib>=0.7.0 in /tmpfs/src/tf_docs_env/lib/python3.9/site-packages (from google-auth-oauthlib<0.5,>=0.4.1->tensorboard<2.12,>=2.11->tensorflow>=2.10.0) (1.3.1)\r\n",
      "Requirement already satisfied: importlib-metadata>=4.4 in /tmpfs/src/tf_docs_env/lib/python3.9/site-packages (from markdown>=2.6.8->tensorboard<2.12,>=2.11->tensorflow>=2.10.0) (6.0.0)\r\n",
      "Requirement already satisfied: idna<4,>=2.5 in /tmpfs/src/tf_docs_env/lib/python3.9/site-packages (from requests<3,>=2.21.0->tensorboard<2.12,>=2.11->tensorflow>=2.10.0) (3.4)\r\n",
      "Requirement already satisfied: urllib3<1.27,>=1.21.1 in /tmpfs/src/tf_docs_env/lib/python3.9/site-packages (from requests<3,>=2.21.0->tensorboard<2.12,>=2.11->tensorflow>=2.10.0) (1.26.13)\r\n",
      "Requirement already satisfied: certifi>=2017.4.17 in /tmpfs/src/tf_docs_env/lib/python3.9/site-packages (from requests<3,>=2.21.0->tensorboard<2.12,>=2.11->tensorflow>=2.10.0) (2022.12.7)\r\n",
      "Requirement already satisfied: charset-normalizer<3,>=2 in /tmpfs/src/tf_docs_env/lib/python3.9/site-packages (from requests<3,>=2.21.0->tensorboard<2.12,>=2.11->tensorflow>=2.10.0) (2.1.1)\r\n",
      "Requirement already satisfied: MarkupSafe>=2.1.1 in /tmpfs/src/tf_docs_env/lib/python3.9/site-packages (from werkzeug>=1.0.1->tensorboard<2.12,>=2.11->tensorflow>=2.10.0) (2.1.1)\r\n"
     ]
    },
    {
     "name": "stdout",
     "output_type": "stream",
     "text": [
      "Requirement already satisfied: zipp>=0.5 in /tmpfs/src/tf_docs_env/lib/python3.9/site-packages (from importlib-metadata>=4.4->markdown>=2.6.8->tensorboard<2.12,>=2.11->tensorflow>=2.10.0) (3.11.0)\r\n",
      "Requirement already satisfied: pyasn1<0.6.0,>=0.4.6 in /tmpfs/src/tf_docs_env/lib/python3.9/site-packages (from pyasn1-modules>=0.2.1->google-auth<3,>=1.6.3->tensorboard<2.12,>=2.11->tensorflow>=2.10.0) (0.5.0rc2)\r\n",
      "Requirement already satisfied: oauthlib>=3.0.0 in /tmpfs/src/tf_docs_env/lib/python3.9/site-packages (from requests-oauthlib>=0.7.0->google-auth-oauthlib<0.5,>=0.4.1->tensorboard<2.12,>=2.11->tensorflow>=2.10.0) (3.2.2)\r\n"
     ]
    }
   ],
   "source": [
    "# The way this tutorial uses the `TimeDistributed` layer requires TF>=2.10\n",
    "!pip install -U \"tensorflow>=2.10.0\""
   ]
  },
  {
   "cell_type": "code",
   "execution_count": 3,
   "metadata": {
    "execution": {
     "iopub.execute_input": "2023-01-07T02:24:57.253730Z",
     "iopub.status.busy": "2023-01-07T02:24:57.253013Z",
     "iopub.status.idle": "2023-01-07T02:25:08.190659Z",
     "shell.execute_reply": "2023-01-07T02:25:08.189665Z"
    },
    "id": "P5SBasQcbwQA"
   },
   "outputs": [
    {
     "name": "stdout",
     "output_type": "stream",
     "text": [
      "Collecting remotezip\r\n"
     ]
    },
    {
     "name": "stdout",
     "output_type": "stream",
     "text": [
      "  Downloading remotezip-0.11.1.tar.gz (6.6 kB)\r\n"
     ]
    },
    {
     "name": "stdout",
     "output_type": "stream",
     "text": [
      "  Preparing metadata (setup.py) ... \u001b[?25l-"
     ]
    },
    {
     "name": "stdout",
     "output_type": "stream",
     "text": [
      "\b \bdone\r\n",
      "\u001b[?25hRequirement already satisfied: tqdm in /tmpfs/src/tf_docs_env/lib/python3.9/site-packages (4.64.1)\r\n"
     ]
    },
    {
     "name": "stdout",
     "output_type": "stream",
     "text": [
      "Collecting opencv-python\r\n"
     ]
    },
    {
     "name": "stdout",
     "output_type": "stream",
     "text": [
      "  Downloading opencv_python-4.7.0.68-cp37-abi3-manylinux_2_17_x86_64.manylinux2014_x86_64.whl (61.8 MB)\r\n"
     ]
    },
    {
     "name": "stdout",
     "output_type": "stream",
     "text": [
      "Requirement already satisfied: requests in /tmpfs/src/tf_docs_env/lib/python3.9/site-packages (from remotezip) (2.28.1)\r\n"
     ]
    },
    {
     "name": "stdout",
     "output_type": "stream",
     "text": [
      "Collecting tabulate\r\n",
      "  Downloading tabulate-0.9.0-py3-none-any.whl (35 kB)\r\n",
      "Requirement already satisfied: numpy>=1.17.3 in /tmpfs/src/tf_docs_env/lib/python3.9/site-packages (from opencv-python) (1.24.1)\r\n",
      "Requirement already satisfied: idna<4,>=2.5 in /tmpfs/src/tf_docs_env/lib/python3.9/site-packages (from requests->remotezip) (3.4)\r\n",
      "Requirement already satisfied: urllib3<1.27,>=1.21.1 in /tmpfs/src/tf_docs_env/lib/python3.9/site-packages (from requests->remotezip) (1.26.13)\r\n",
      "Requirement already satisfied: charset-normalizer<3,>=2 in /tmpfs/src/tf_docs_env/lib/python3.9/site-packages (from requests->remotezip) (2.1.1)\r\n",
      "Requirement already satisfied: certifi>=2017.4.17 in /tmpfs/src/tf_docs_env/lib/python3.9/site-packages (from requests->remotezip) (2022.12.7)\r\n"
     ]
    },
    {
     "name": "stdout",
     "output_type": "stream",
     "text": [
      "Building wheels for collected packages: remotezip\r\n"
     ]
    },
    {
     "name": "stdout",
     "output_type": "stream",
     "text": [
      "  Building wheel for remotezip (setup.py) ... \u001b[?25l-"
     ]
    },
    {
     "name": "stdout",
     "output_type": "stream",
     "text": [
      "\b \bdone\r\n",
      "\u001b[?25h  Created wheel for remotezip: filename=remotezip-0.11.1-py3-none-any.whl size=6700 sha256=b5ff3b9d792d734537fd937416bd2b9a6df148061288a7788bbc939a60f355ed\r\n",
      "  Stored in directory: /home/kbuilder/.cache/pip/wheels/90/ef/51/16c5a5fcb74433fca65c15dbfaf866dedd7d7644d830b88933\r\n",
      "Successfully built remotezip\r\n"
     ]
    },
    {
     "name": "stdout",
     "output_type": "stream",
     "text": [
      "Installing collected packages: tabulate, opencv-python, remotezip\r\n"
     ]
    },
    {
     "name": "stdout",
     "output_type": "stream",
     "text": [
      "Successfully installed opencv-python-4.7.0.68 remotezip-0.11.1 tabulate-0.9.0\r\n"
     ]
    }
   ],
   "source": [
    "!pip install remotezip tqdm opencv-python\n",
    "!pip install -q git+https://github.com/tensorflow/docs"
   ]
  },
  {
   "cell_type": "code",
   "execution_count": 4,
   "metadata": {
    "execution": {
     "iopub.execute_input": "2023-01-07T02:25:08.195313Z",
     "iopub.status.busy": "2023-01-07T02:25:08.194619Z",
     "iopub.status.idle": "2023-01-07T02:25:10.190090Z",
     "shell.execute_reply": "2023-01-07T02:25:10.189384Z"
    },
    "id": "9RYQIJ9C6BVH"
   },
   "outputs": [
    {
     "name": "stderr",
     "output_type": "stream",
     "text": [
      "2023-01-07 02:25:09.247388: W tensorflow/compiler/xla/stream_executor/platform/default/dso_loader.cc:64] Could not load dynamic library 'libnvinfer.so.7'; dlerror: libnvinfer.so.7: cannot open shared object file: No such file or directory; LD_LIBRARY_PATH: /tmpfs/src/tf_docs_env/lib/python3.9/site-packages/cv2/../../lib64:\n",
      "2023-01-07 02:25:09.247495: W tensorflow/compiler/xla/stream_executor/platform/default/dso_loader.cc:64] Could not load dynamic library 'libnvinfer_plugin.so.7'; dlerror: libnvinfer_plugin.so.7: cannot open shared object file: No such file or directory; LD_LIBRARY_PATH: /tmpfs/src/tf_docs_env/lib/python3.9/site-packages/cv2/../../lib64:\n",
      "2023-01-07 02:25:09.247505: W tensorflow/compiler/tf2tensorrt/utils/py_utils.cc:38] TF-TRT Warning: Cannot dlopen some TensorRT libraries. If you would like to use Nvidia GPU with TensorRT, please make sure the missing libraries mentioned above are installed properly.\n"
     ]
    }
   ],
   "source": [
    "import tqdm\n",
    "import random\n",
    "import pathlib\n",
    "import itertools\n",
    "import collections\n",
    "\n",
    "import os\n",
    "import cv2\n",
    "import numpy as np\n",
    "import remotezip as rz\n",
    "\n",
    "import tensorflow as tf\n",
    "\n",
    "# Some modules to display an animation using imageio.\n",
    "import imageio\n",
    "from IPython import display\n",
    "from urllib import request\n",
    "from tensorflow_docs.vis import embed"
   ]
  },
  {
   "cell_type": "markdown",
   "metadata": {
    "id": "KbhwWLLM7FXo"
   },
   "source": [
    "## Download a subset of the UCF101 dataset\n",
    "\n",
    "The [UCF101 dataset](https://www.tensorflow.org/datasets/catalog/ucf101) contains 101 categories of different actions in video, primarily used in action recognition. You will use a subset of these categories in this demo."
   ]
  },
  {
   "cell_type": "code",
   "execution_count": 5,
   "metadata": {
    "execution": {
     "iopub.execute_input": "2023-01-07T02:25:10.194081Z",
     "iopub.status.busy": "2023-01-07T02:25:10.193758Z",
     "iopub.status.idle": "2023-01-07T02:25:10.196802Z",
     "shell.execute_reply": "2023-01-07T02:25:10.196266Z"
    },
    "id": "gVIgj-jIA8U8"
   },
   "outputs": [],
   "source": [
    "URL = 'https://storage.googleapis.com/thumos14_files/UCF101_videos.zip'"
   ]
  },
  {
   "cell_type": "markdown",
   "metadata": {
    "id": "2tm8aBzw6Md7"
   },
   "source": [
    "The above URL contains a zip file with the UCF 101 dataset. Create a function that uses the `remotezip` library to examine the contents of the zip file in that URL:"
   ]
  },
  {
   "cell_type": "code",
   "execution_count": 6,
   "metadata": {
    "execution": {
     "iopub.execute_input": "2023-01-07T02:25:10.200011Z",
     "iopub.status.busy": "2023-01-07T02:25:10.199559Z",
     "iopub.status.idle": "2023-01-07T02:25:10.203504Z",
     "shell.execute_reply": "2023-01-07T02:25:10.202928Z"
    },
    "id": "lY-x7TaZlK6O"
   },
   "outputs": [],
   "source": [
    "def list_files_from_zip_url(zip_url):\n",
    "  \"\"\" List the files in each class of the dataset given a URL with the zip file.\n",
    "\n",
    "    Args:\n",
    "      zip_url: A URL from which the files can be extracted from.\n",
    "\n",
    "    Returns:\n",
    "      List of files in each of the classes.\n",
    "  \"\"\"\n",
    "  files = []\n",
    "  with rz.RemoteZip(zip_url) as zip:\n",
    "    for zip_info in zip.infolist():\n",
    "      files.append(zip_info.filename)\n",
    "  return files"
   ]
  },
  {
   "cell_type": "code",
   "execution_count": 7,
   "metadata": {
    "execution": {
     "iopub.execute_input": "2023-01-07T02:25:10.206364Z",
     "iopub.status.busy": "2023-01-07T02:25:10.205973Z",
     "iopub.status.idle": "2023-01-07T02:25:10.633813Z",
     "shell.execute_reply": "2023-01-07T02:25:10.633084Z"
    },
    "id": "lYErXAdUr-rk"
   },
   "outputs": [
    {
     "data": {
      "text/plain": [
       "['UCF101/v_ApplyEyeMakeup_g01_c01.avi',\n",
       " 'UCF101/v_ApplyEyeMakeup_g01_c02.avi',\n",
       " 'UCF101/v_ApplyEyeMakeup_g01_c03.avi',\n",
       " 'UCF101/v_ApplyEyeMakeup_g01_c04.avi',\n",
       " 'UCF101/v_ApplyEyeMakeup_g01_c05.avi',\n",
       " 'UCF101/v_ApplyEyeMakeup_g01_c06.avi',\n",
       " 'UCF101/v_ApplyEyeMakeup_g02_c01.avi',\n",
       " 'UCF101/v_ApplyEyeMakeup_g02_c02.avi',\n",
       " 'UCF101/v_ApplyEyeMakeup_g02_c03.avi',\n",
       " 'UCF101/v_ApplyEyeMakeup_g02_c04.avi']"
      ]
     },
     "execution_count": 7,
     "metadata": {},
     "output_type": "execute_result"
    }
   ],
   "source": [
    "files = list_files_from_zip_url(URL)\n",
    "files = [f for f in files if f.endswith('.avi')]\n",
    "files[:10]"
   ]
  },
  {
   "cell_type": "markdown",
   "metadata": {
    "id": "rQ4l8D9dFPS7"
   },
   "source": [
    "Begin with a few videos and a limited number of classes for training. After running the above code block, notice that the class name is included in the filename of each video.\n",
    "\n",
    "Define the `get_class` function that retrieves the class name from a filename. Then, create a function called `get_files_per_class` which converts the list of all files (`files` above) into a dictionary listing the files for each class:"
   ]
  },
  {
   "cell_type": "code",
   "execution_count": 8,
   "metadata": {
    "execution": {
     "iopub.execute_input": "2023-01-07T02:25:10.637389Z",
     "iopub.status.busy": "2023-01-07T02:25:10.636883Z",
     "iopub.status.idle": "2023-01-07T02:25:10.640286Z",
     "shell.execute_reply": "2023-01-07T02:25:10.639685Z"
    },
    "id": "yyyivOX0sO19"
   },
   "outputs": [],
   "source": [
    "def get_class(fname):\n",
    "  \"\"\" Retrieve the name of the class given a filename.\n",
    "\n",
    "    Args:\n",
    "      fname: Name of the file in the UCF101 dataset.\n",
    "\n",
    "    Returns:\n",
    "      Class that the file belongs to.\n",
    "  \"\"\"\n",
    "  return fname.split('_')[-3]"
   ]
  },
  {
   "cell_type": "code",
   "execution_count": 9,
   "metadata": {
    "execution": {
     "iopub.execute_input": "2023-01-07T02:25:10.643425Z",
     "iopub.status.busy": "2023-01-07T02:25:10.642934Z",
     "iopub.status.idle": "2023-01-07T02:25:10.646473Z",
     "shell.execute_reply": "2023-01-07T02:25:10.645939Z"
    },
    "id": "1qnH0xKzlyw_"
   },
   "outputs": [],
   "source": [
    "def get_files_per_class(files):\n",
    "  \"\"\" Retrieve the files that belong to each class.\n",
    "\n",
    "    Args:\n",
    "      files: List of files in the dataset.\n",
    "\n",
    "    Returns:\n",
    "      Dictionary of class names (key) and files (values). \n",
    "  \"\"\"\n",
    "  files_for_class = collections.defaultdict(list)\n",
    "  for fname in files:\n",
    "    class_name = get_class(fname)\n",
    "    files_for_class[class_name].append(fname)\n",
    "  return files_for_class"
   ]
  },
  {
   "cell_type": "markdown",
   "metadata": {
    "id": "VxSt5YgSGrWn"
   },
   "source": [
    "Once you have the list of files per class, you can choose how many classes you would like to use and how many videos you would like per class in order to create your dataset. "
   ]
  },
  {
   "cell_type": "code",
   "execution_count": 10,
   "metadata": {
    "execution": {
     "iopub.execute_input": "2023-01-07T02:25:10.649640Z",
     "iopub.status.busy": "2023-01-07T02:25:10.649146Z",
     "iopub.status.idle": "2023-01-07T02:25:10.652023Z",
     "shell.execute_reply": "2023-01-07T02:25:10.651494Z"
    },
    "id": "qPdURg74uUTk"
   },
   "outputs": [],
   "source": [
    "NUM_CLASSES = 10\n",
    "FILES_PER_CLASS = 50"
   ]
  },
  {
   "cell_type": "code",
   "execution_count": 11,
   "metadata": {
    "execution": {
     "iopub.execute_input": "2023-01-07T02:25:10.654804Z",
     "iopub.status.busy": "2023-01-07T02:25:10.654592Z",
     "iopub.status.idle": "2023-01-07T02:25:10.661479Z",
     "shell.execute_reply": "2023-01-07T02:25:10.660928Z"
    },
    "id": "GUs0xtXsr9i3"
   },
   "outputs": [],
   "source": [
    "files_for_class = get_files_per_class(files)\n",
    "classes = list(files_for_class.keys())"
   ]
  },
  {
   "cell_type": "code",
   "execution_count": 12,
   "metadata": {
    "execution": {
     "iopub.execute_input": "2023-01-07T02:25:10.664687Z",
     "iopub.status.busy": "2023-01-07T02:25:10.664250Z",
     "iopub.status.idle": "2023-01-07T02:25:10.667596Z",
     "shell.execute_reply": "2023-01-07T02:25:10.667073Z"
    },
    "id": "-YqFARvqwon9"
   },
   "outputs": [
    {
     "name": "stdout",
     "output_type": "stream",
     "text": [
      "Num classes: 101\n",
      "Num videos for class[0]: 145\n"
     ]
    }
   ],
   "source": [
    "print('Num classes:', len(classes))\n",
    "print('Num videos for class[0]:', len(files_for_class[classes[0]]))"
   ]
  },
  {
   "cell_type": "markdown",
   "metadata": {
    "id": "yFAFqKqE92bQ"
   },
   "source": [
    "Create a new function called `select_subset_of_classes` that selects a subset of the classes present within the dataset and a particular number of files per class:"
   ]
  },
  {
   "cell_type": "code",
   "execution_count": 13,
   "metadata": {
    "execution": {
     "iopub.execute_input": "2023-01-07T02:25:10.670763Z",
     "iopub.status.busy": "2023-01-07T02:25:10.670319Z",
     "iopub.status.idle": "2023-01-07T02:25:10.673854Z",
     "shell.execute_reply": "2023-01-07T02:25:10.673264Z"
    },
    "id": "O3jek4QimIj-"
   },
   "outputs": [],
   "source": [
    "def select_subset_of_classes(files_for_class, classes, files_per_class):\n",
    "  \"\"\" Create a dictionary with the class name and a subset of the files in that class.\n",
    "\n",
    "    Args:\n",
    "      files_for_class: Dictionary of class names (key) and files (values).\n",
    "      classes: List of classes.\n",
    "      files_per_class: Number of files per class of interest.\n",
    "\n",
    "    Returns:\n",
    "      Dictionary with class as key and list of specified number of video files in that class.\n",
    "  \"\"\"\n",
    "  files_subset = dict()\n",
    "\n",
    "  for class_name in classes:\n",
    "    class_files = files_for_class[class_name]\n",
    "    files_subset[class_name] = class_files[:files_per_class]\n",
    "\n",
    "  return files_subset"
   ]
  },
  {
   "cell_type": "code",
   "execution_count": 14,
   "metadata": {
    "execution": {
     "iopub.execute_input": "2023-01-07T02:25:10.676951Z",
     "iopub.status.busy": "2023-01-07T02:25:10.676441Z",
     "iopub.status.idle": "2023-01-07T02:25:10.680557Z",
     "shell.execute_reply": "2023-01-07T02:25:10.680050Z"
    },
    "id": "5cjcz6Gpcb-W"
   },
   "outputs": [
    {
     "data": {
      "text/plain": [
       "['ApplyEyeMakeup',\n",
       " 'ApplyLipstick',\n",
       " 'Archery',\n",
       " 'BabyCrawling',\n",
       " 'BalanceBeam',\n",
       " 'BandMarching',\n",
       " 'BaseballPitch',\n",
       " 'BasketballDunk',\n",
       " 'Basketball',\n",
       " 'BenchPress']"
      ]
     },
     "execution_count": 14,
     "metadata": {},
     "output_type": "execute_result"
    }
   ],
   "source": [
    "files_subset = select_subset_of_classes(files_for_class, classes[:NUM_CLASSES], FILES_PER_CLASS)\n",
    "list(files_subset.keys())"
   ]
  },
  {
   "cell_type": "markdown",
   "metadata": {
    "id": "ALrlDS1lZx3E"
   },
   "source": [
    "Define helper functions that split the videos into training, validation, and test sets. The videos are downloaded from a URL with the zip file, and placed into their respective subdirectiories."
   ]
  },
  {
   "cell_type": "code",
   "execution_count": 15,
   "metadata": {
    "execution": {
     "iopub.execute_input": "2023-01-07T02:25:10.683698Z",
     "iopub.status.busy": "2023-01-07T02:25:10.683129Z",
     "iopub.status.idle": "2023-01-07T02:25:10.687406Z",
     "shell.execute_reply": "2023-01-07T02:25:10.686909Z"
    },
    "id": "AH9sWS_6nRz3"
   },
   "outputs": [],
   "source": [
    "def download_from_zip(zip_url, to_dir, file_names):\n",
    "  \"\"\" Download the contents of the zip file from the zip URL.\n",
    "\n",
    "    Args:\n",
    "      zip_url: A URL with a zip file containing data.\n",
    "      to_dir: A directory to download data to.\n",
    "      file_names: Names of files to download.\n",
    "  \"\"\"\n",
    "  with rz.RemoteZip(zip_url) as zip:\n",
    "    for fn in tqdm.tqdm(file_names):\n",
    "      class_name = get_class(fn)\n",
    "      zip.extract(fn, str(to_dir / class_name))\n",
    "      unzipped_file = to_dir / class_name / fn\n",
    "\n",
    "      fn = pathlib.Path(fn).parts[-1]\n",
    "      output_file = to_dir / class_name / fn\n",
    "      unzipped_file.rename(output_file)"
   ]
  },
  {
   "cell_type": "markdown",
   "metadata": {
    "id": "pejRTChA6mrp"
   },
   "source": [
    "The following function returns the remaining data that hasn't already been placed into a subset of data. It allows you to place that remaining data in the next specified subset of data."
   ]
  },
  {
   "cell_type": "code",
   "execution_count": 16,
   "metadata": {
    "execution": {
     "iopub.execute_input": "2023-01-07T02:25:10.690416Z",
     "iopub.status.busy": "2023-01-07T02:25:10.689988Z",
     "iopub.status.idle": "2023-01-07T02:25:10.693591Z",
     "shell.execute_reply": "2023-01-07T02:25:10.693016Z"
    },
    "id": "6ARYc-WLqqNF"
   },
   "outputs": [],
   "source": [
    "def split_class_lists(files_for_class, count):\n",
    "  \"\"\" Returns the list of files belonging to a subset of data as well as the remainder of\n",
    "    files that need to be downloaded.\n",
    "    \n",
    "    Args:\n",
    "      files_for_class: Files belonging to a particular class of data.\n",
    "      count: Number of files to download.\n",
    "\n",
    "    Returns:\n",
    "      Files belonging to the subset of data and dictionary of the remainder of files that need to be downloaded.\n",
    "  \"\"\"\n",
    "  split_files = []\n",
    "  remainder = {}\n",
    "  for cls in files_for_class:\n",
    "    split_files.extend(files_for_class[cls][:count])\n",
    "    remainder[cls] = files_for_class[cls][count:]\n",
    "  return split_files, remainder"
   ]
  },
  {
   "cell_type": "markdown",
   "metadata": {
    "id": "LlEQ_I0TLd1X"
   },
   "source": [
    "The following `download_ucf_101_subset` function allows you to download a subset of the UCF101 dataset and split it into the training, validation, and test sets. You can specify the number of classes that you would like to use. The `splits` argument allows you to pass in a dictionary in which the key values are the name of subset (example: \"train\") and the number of videos you would like to have per class."
   ]
  },
  {
   "cell_type": "code",
   "execution_count": 17,
   "metadata": {
    "execution": {
     "iopub.execute_input": "2023-01-07T02:25:10.696763Z",
     "iopub.status.busy": "2023-01-07T02:25:10.696387Z",
     "iopub.status.idle": "2023-01-07T02:25:10.701668Z",
     "shell.execute_reply": "2023-01-07T02:25:10.701142Z"
    },
    "id": "IHH2Y1M06xoz"
   },
   "outputs": [],
   "source": [
    "def download_ucf_101_subset(zip_url, num_classes, splits, download_dir):\n",
    "  \"\"\" Download a subset of the UCF101 dataset and split them into various parts, such as\n",
    "    training, validation, and test.\n",
    "\n",
    "    Args:\n",
    "      zip_url: A URL with a ZIP file with the data.\n",
    "      num_classes: Number of labels.\n",
    "      splits: Dictionary specifying the training, validation, test, etc. (key) division of data \n",
    "              (value is number of files per split).\n",
    "      download_dir: Directory to download data to.\n",
    "\n",
    "    Return:\n",
    "      Mapping of the directories containing the subsections of data.\n",
    "  \"\"\"\n",
    "  files = list_files_from_zip_url(zip_url)\n",
    "  for f in files:\n",
    "    path = os.path.normpath(f)\n",
    "    tokens = path.split(os.sep)\n",
    "    if len(tokens) <= 2:\n",
    "      files.remove(f) # Remove that item from the list if it does not have a filename\n",
    "  \n",
    "  files_for_class = get_files_per_class(files)\n",
    "\n",
    "  classes = list(files_for_class.keys())[:num_classes]\n",
    "\n",
    "  for cls in classes:\n",
    "    random.shuffle(files_for_class[cls])\n",
    "    \n",
    "  # Only use the number of classes you want in the dictionary\n",
    "  files_for_class = {x: files_for_class[x] for x in classes}\n",
    "\n",
    "  dirs = {}\n",
    "  for split_name, split_count in splits.items():\n",
    "    print(split_name, \":\")\n",
    "    split_dir = download_dir / split_name\n",
    "    split_files, files_for_class = split_class_lists(files_for_class, split_count)\n",
    "    download_from_zip(zip_url, split_dir, split_files)\n",
    "    dirs[split_name] = split_dir\n",
    "\n",
    "  return dirs"
   ]
  },
  {
   "cell_type": "code",
   "execution_count": 18,
   "metadata": {
    "execution": {
     "iopub.execute_input": "2023-01-07T02:25:10.704951Z",
     "iopub.status.busy": "2023-01-07T02:25:10.704509Z",
     "iopub.status.idle": "2023-01-07T02:25:53.077388Z",
     "shell.execute_reply": "2023-01-07T02:25:53.076683Z"
    },
    "id": "NuD-xU8Q66Vm"
   },
   "outputs": [
    {
     "name": "stdout",
     "output_type": "stream",
     "text": [
      "train :\n"
     ]
    },
    {
     "name": "stderr",
     "output_type": "stream",
     "text": [
      "\r",
      "  0%|          | 0/300 [00:00<?, ?it/s]"
     ]
    },
    {
     "name": "stderr",
     "output_type": "stream",
     "text": [
      "\r",
      "  0%|          | 1/300 [00:00<00:43,  6.83it/s]"
     ]
    },
    {
     "name": "stderr",
     "output_type": "stream",
     "text": [
      "\r",
      "  1%|          | 2/300 [00:00<00:47,  6.27it/s]"
     ]
    },
    {
     "name": "stderr",
     "output_type": "stream",
     "text": [
      "\r",
      "  1%|▏         | 4/300 [00:00<00:34,  8.53it/s]"
     ]
    },
    {
     "name": "stderr",
     "output_type": "stream",
     "text": [
      "\r",
      "  2%|▏         | 6/300 [00:00<00:27, 10.54it/s]"
     ]
    },
    {
     "name": "stderr",
     "output_type": "stream",
     "text": [
      "\r",
      "  3%|▎         | 8/300 [00:00<00:24, 11.79it/s]"
     ]
    },
    {
     "name": "stderr",
     "output_type": "stream",
     "text": [
      "\r",
      "  3%|▎         | 10/300 [00:01<00:30,  9.49it/s]"
     ]
    },
    {
     "name": "stderr",
     "output_type": "stream",
     "text": [
      "\r",
      "  4%|▍         | 12/300 [00:01<00:31,  9.18it/s]"
     ]
    },
    {
     "name": "stderr",
     "output_type": "stream",
     "text": [
      "\r",
      "  5%|▍         | 14/300 [00:01<00:27, 10.51it/s]"
     ]
    },
    {
     "name": "stderr",
     "output_type": "stream",
     "text": [
      "\r",
      "  5%|▌         | 16/300 [00:01<00:25, 11.29it/s]"
     ]
    },
    {
     "name": "stderr",
     "output_type": "stream",
     "text": [
      "\r",
      "  6%|▌         | 18/300 [00:01<00:23, 11.97it/s]"
     ]
    },
    {
     "name": "stderr",
     "output_type": "stream",
     "text": [
      "\r",
      "  7%|▋         | 20/300 [00:01<00:21, 12.84it/s]"
     ]
    },
    {
     "name": "stderr",
     "output_type": "stream",
     "text": [
      "\r",
      "  7%|▋         | 22/300 [00:01<00:20, 13.33it/s]"
     ]
    },
    {
     "name": "stderr",
     "output_type": "stream",
     "text": [
      "\r",
      "  8%|▊         | 24/300 [00:02<00:20, 13.41it/s]"
     ]
    },
    {
     "name": "stderr",
     "output_type": "stream",
     "text": [
      "\r",
      "  9%|▊         | 26/300 [00:02<00:19, 14.27it/s]"
     ]
    },
    {
     "name": "stderr",
     "output_type": "stream",
     "text": [
      "\r",
      "  9%|▉         | 28/300 [00:02<00:18, 14.39it/s]"
     ]
    },
    {
     "name": "stderr",
     "output_type": "stream",
     "text": [
      "\r",
      " 10%|█         | 30/300 [00:02<00:18, 14.25it/s]"
     ]
    },
    {
     "name": "stderr",
     "output_type": "stream",
     "text": [
      "\r",
      " 11%|█         | 32/300 [00:02<00:19, 13.53it/s]"
     ]
    },
    {
     "name": "stderr",
     "output_type": "stream",
     "text": [
      "\r",
      " 11%|█▏        | 34/300 [00:02<00:24, 10.80it/s]"
     ]
    },
    {
     "name": "stderr",
     "output_type": "stream",
     "text": [
      "\r",
      " 12%|█▏        | 36/300 [00:03<00:23, 11.47it/s]"
     ]
    },
    {
     "name": "stderr",
     "output_type": "stream",
     "text": [
      "\r",
      " 13%|█▎        | 38/300 [00:03<00:21, 12.13it/s]"
     ]
    },
    {
     "name": "stderr",
     "output_type": "stream",
     "text": [
      "\r",
      " 13%|█▎        | 40/300 [00:03<00:20, 12.62it/s]"
     ]
    },
    {
     "name": "stderr",
     "output_type": "stream",
     "text": [
      "\r",
      " 14%|█▍        | 42/300 [00:03<00:19, 13.40it/s]"
     ]
    },
    {
     "name": "stderr",
     "output_type": "stream",
     "text": [
      "\r",
      " 15%|█▍        | 44/300 [00:03<00:18, 13.62it/s]"
     ]
    },
    {
     "name": "stderr",
     "output_type": "stream",
     "text": [
      "\r",
      " 15%|█▌        | 46/300 [00:03<00:18, 13.86it/s]"
     ]
    },
    {
     "name": "stderr",
     "output_type": "stream",
     "text": [
      "\r",
      " 16%|█▌        | 48/300 [00:03<00:17, 14.48it/s]"
     ]
    },
    {
     "name": "stderr",
     "output_type": "stream",
     "text": [
      "\r",
      " 17%|█▋        | 50/300 [00:04<00:17, 14.42it/s]"
     ]
    },
    {
     "name": "stderr",
     "output_type": "stream",
     "text": [
      "\r",
      " 17%|█▋        | 52/300 [00:04<00:17, 14.42it/s]"
     ]
    },
    {
     "name": "stderr",
     "output_type": "stream",
     "text": [
      "\r",
      " 18%|█▊        | 54/300 [00:04<00:17, 14.36it/s]"
     ]
    },
    {
     "name": "stderr",
     "output_type": "stream",
     "text": [
      "\r",
      " 19%|█▊        | 56/300 [00:04<00:16, 14.46it/s]"
     ]
    },
    {
     "name": "stderr",
     "output_type": "stream",
     "text": [
      "\r",
      " 19%|█▉        | 58/300 [00:04<00:17, 14.07it/s]"
     ]
    },
    {
     "name": "stderr",
     "output_type": "stream",
     "text": [
      "\r",
      " 20%|██        | 60/300 [00:04<00:18, 13.12it/s]"
     ]
    },
    {
     "name": "stderr",
     "output_type": "stream",
     "text": [
      "\r",
      " 21%|██        | 62/300 [00:05<00:23,  9.92it/s]"
     ]
    },
    {
     "name": "stderr",
     "output_type": "stream",
     "text": [
      "\r",
      " 21%|██▏       | 64/300 [00:05<00:26,  9.02it/s]"
     ]
    },
    {
     "name": "stderr",
     "output_type": "stream",
     "text": [
      "\r",
      " 22%|██▏       | 66/300 [00:05<00:28,  8.08it/s]"
     ]
    },
    {
     "name": "stderr",
     "output_type": "stream",
     "text": [
      "\r",
      " 22%|██▏       | 67/300 [00:05<00:29,  7.84it/s]"
     ]
    },
    {
     "name": "stderr",
     "output_type": "stream",
     "text": [
      "\r",
      " 23%|██▎       | 69/300 [00:06<00:26,  8.58it/s]"
     ]
    },
    {
     "name": "stderr",
     "output_type": "stream",
     "text": [
      "\r",
      " 24%|██▎       | 71/300 [00:06<00:23,  9.68it/s]"
     ]
    },
    {
     "name": "stderr",
     "output_type": "stream",
     "text": [
      "\r",
      " 24%|██▍       | 73/300 [00:06<00:20, 10.95it/s]"
     ]
    },
    {
     "name": "stderr",
     "output_type": "stream",
     "text": [
      "\r",
      " 25%|██▌       | 75/300 [00:06<00:19, 11.77it/s]"
     ]
    },
    {
     "name": "stderr",
     "output_type": "stream",
     "text": [
      "\r",
      " 26%|██▌       | 77/300 [00:06<00:17, 12.63it/s]"
     ]
    },
    {
     "name": "stderr",
     "output_type": "stream",
     "text": [
      "\r",
      " 26%|██▋       | 79/300 [00:06<00:16, 13.33it/s]"
     ]
    },
    {
     "name": "stderr",
     "output_type": "stream",
     "text": [
      "\r",
      " 27%|██▋       | 81/300 [00:06<00:16, 13.46it/s]"
     ]
    },
    {
     "name": "stderr",
     "output_type": "stream",
     "text": [
      "\r",
      " 28%|██▊       | 83/300 [00:07<00:20, 10.48it/s]"
     ]
    },
    {
     "name": "stderr",
     "output_type": "stream",
     "text": [
      "\r",
      " 28%|██▊       | 85/300 [00:07<00:19, 11.19it/s]"
     ]
    },
    {
     "name": "stderr",
     "output_type": "stream",
     "text": [
      "\r",
      " 29%|██▉       | 87/300 [00:07<00:18, 11.24it/s]"
     ]
    },
    {
     "name": "stderr",
     "output_type": "stream",
     "text": [
      "\r",
      " 30%|██▉       | 89/300 [00:07<00:17, 12.00it/s]"
     ]
    },
    {
     "name": "stderr",
     "output_type": "stream",
     "text": [
      "\r",
      " 30%|███       | 91/300 [00:07<00:19, 10.85it/s]"
     ]
    },
    {
     "name": "stderr",
     "output_type": "stream",
     "text": [
      "\r",
      " 31%|███       | 93/300 [00:08<00:17, 11.74it/s]"
     ]
    },
    {
     "name": "stderr",
     "output_type": "stream",
     "text": [
      "\r",
      " 32%|███▏      | 95/300 [00:08<00:16, 12.38it/s]"
     ]
    },
    {
     "name": "stderr",
     "output_type": "stream",
     "text": [
      "\r",
      " 32%|███▏      | 97/300 [00:08<00:18, 10.74it/s]"
     ]
    },
    {
     "name": "stderr",
     "output_type": "stream",
     "text": [
      "\r",
      " 33%|███▎      | 99/300 [00:08<00:17, 11.51it/s]"
     ]
    },
    {
     "name": "stderr",
     "output_type": "stream",
     "text": [
      "\r",
      " 34%|███▎      | 101/300 [00:08<00:18, 10.86it/s]"
     ]
    },
    {
     "name": "stderr",
     "output_type": "stream",
     "text": [
      "\r",
      " 34%|███▍      | 103/300 [00:08<00:19, 10.02it/s]"
     ]
    },
    {
     "name": "stderr",
     "output_type": "stream",
     "text": [
      "\r",
      " 35%|███▌      | 105/300 [00:09<00:17, 11.07it/s]"
     ]
    },
    {
     "name": "stderr",
     "output_type": "stream",
     "text": [
      "\r",
      " 36%|███▌      | 107/300 [00:09<00:16, 12.01it/s]"
     ]
    },
    {
     "name": "stderr",
     "output_type": "stream",
     "text": [
      "\r",
      " 36%|███▋      | 109/300 [00:09<00:14, 12.84it/s]"
     ]
    },
    {
     "name": "stderr",
     "output_type": "stream",
     "text": [
      "\r",
      " 37%|███▋      | 111/300 [00:09<00:13, 13.66it/s]"
     ]
    },
    {
     "name": "stderr",
     "output_type": "stream",
     "text": [
      "\r",
      " 38%|███▊      | 113/300 [00:09<00:13, 14.26it/s]"
     ]
    },
    {
     "name": "stderr",
     "output_type": "stream",
     "text": [
      "\r",
      " 38%|███▊      | 115/300 [00:09<00:12, 14.40it/s]"
     ]
    },
    {
     "name": "stderr",
     "output_type": "stream",
     "text": [
      "\r",
      " 39%|███▉      | 117/300 [00:09<00:13, 13.76it/s]"
     ]
    },
    {
     "name": "stderr",
     "output_type": "stream",
     "text": [
      "\r",
      " 40%|███▉      | 119/300 [00:10<00:13, 13.45it/s]"
     ]
    },
    {
     "name": "stderr",
     "output_type": "stream",
     "text": [
      "\r",
      " 40%|████      | 121/300 [00:10<00:16, 10.74it/s]"
     ]
    },
    {
     "name": "stderr",
     "output_type": "stream",
     "text": [
      "\r",
      " 41%|████      | 123/300 [00:10<00:15, 11.60it/s]"
     ]
    },
    {
     "name": "stderr",
     "output_type": "stream",
     "text": [
      "\r",
      " 42%|████▏     | 125/300 [00:10<00:19,  9.13it/s]"
     ]
    },
    {
     "name": "stderr",
     "output_type": "stream",
     "text": [
      "\r",
      " 42%|████▏     | 127/300 [00:10<00:16, 10.68it/s]"
     ]
    },
    {
     "name": "stderr",
     "output_type": "stream",
     "text": [
      "\r",
      " 43%|████▎     | 129/300 [00:11<00:16, 10.06it/s]"
     ]
    },
    {
     "name": "stderr",
     "output_type": "stream",
     "text": [
      "\r",
      " 44%|████▎     | 131/300 [00:11<00:15, 11.17it/s]"
     ]
    },
    {
     "name": "stderr",
     "output_type": "stream",
     "text": [
      "\r",
      " 44%|████▍     | 133/300 [00:11<00:13, 12.18it/s]"
     ]
    },
    {
     "name": "stderr",
     "output_type": "stream",
     "text": [
      "\r",
      " 45%|████▌     | 135/300 [00:11<00:13, 12.36it/s]"
     ]
    },
    {
     "name": "stderr",
     "output_type": "stream",
     "text": [
      "\r",
      " 46%|████▌     | 137/300 [00:11<00:12, 12.55it/s]"
     ]
    },
    {
     "name": "stderr",
     "output_type": "stream",
     "text": [
      "\r",
      " 46%|████▋     | 139/300 [00:11<00:11, 13.71it/s]"
     ]
    },
    {
     "name": "stderr",
     "output_type": "stream",
     "text": [
      "\r",
      " 47%|████▋     | 141/300 [00:11<00:10, 14.47it/s]"
     ]
    },
    {
     "name": "stderr",
     "output_type": "stream",
     "text": [
      "\r",
      " 48%|████▊     | 143/300 [00:12<00:11, 14.13it/s]"
     ]
    },
    {
     "name": "stderr",
     "output_type": "stream",
     "text": [
      "\r",
      " 48%|████▊     | 145/300 [00:12<00:10, 14.31it/s]"
     ]
    },
    {
     "name": "stderr",
     "output_type": "stream",
     "text": [
      "\r",
      " 49%|████▉     | 147/300 [00:12<00:10, 14.80it/s]"
     ]
    },
    {
     "name": "stderr",
     "output_type": "stream",
     "text": [
      "\r",
      " 50%|████▉     | 149/300 [00:12<00:10, 14.62it/s]"
     ]
    },
    {
     "name": "stderr",
     "output_type": "stream",
     "text": [
      "\r",
      " 50%|█████     | 151/300 [00:12<00:11, 12.90it/s]"
     ]
    },
    {
     "name": "stderr",
     "output_type": "stream",
     "text": [
      "\r",
      " 51%|█████     | 153/300 [00:12<00:13, 10.82it/s]"
     ]
    },
    {
     "name": "stderr",
     "output_type": "stream",
     "text": [
      "\r",
      " 52%|█████▏    | 155/300 [00:13<00:13, 10.98it/s]"
     ]
    },
    {
     "name": "stderr",
     "output_type": "stream",
     "text": [
      "\r",
      " 52%|█████▏    | 157/300 [00:13<00:15,  9.44it/s]"
     ]
    },
    {
     "name": "stderr",
     "output_type": "stream",
     "text": [
      "\r",
      " 53%|█████▎    | 159/300 [00:13<00:13, 10.16it/s]"
     ]
    },
    {
     "name": "stderr",
     "output_type": "stream",
     "text": [
      "\r",
      " 54%|█████▎    | 161/300 [00:13<00:16,  8.29it/s]"
     ]
    },
    {
     "name": "stderr",
     "output_type": "stream",
     "text": [
      "\r",
      " 54%|█████▍    | 163/300 [00:14<00:15,  9.10it/s]"
     ]
    },
    {
     "name": "stderr",
     "output_type": "stream",
     "text": [
      "\r",
      " 55%|█████▌    | 165/300 [00:14<00:15,  8.77it/s]"
     ]
    },
    {
     "name": "stderr",
     "output_type": "stream",
     "text": [
      "\r",
      " 55%|█████▌    | 166/300 [00:14<00:17,  7.81it/s]"
     ]
    },
    {
     "name": "stderr",
     "output_type": "stream",
     "text": [
      "\r",
      " 56%|█████▌    | 168/300 [00:14<00:16,  8.18it/s]"
     ]
    },
    {
     "name": "stderr",
     "output_type": "stream",
     "text": [
      "\r",
      " 57%|█████▋    | 170/300 [00:14<00:14,  8.84it/s]"
     ]
    },
    {
     "name": "stderr",
     "output_type": "stream",
     "text": [
      "\r",
      " 57%|█████▋    | 171/300 [00:15<00:16,  7.76it/s]"
     ]
    },
    {
     "name": "stderr",
     "output_type": "stream",
     "text": [
      "\r",
      " 58%|█████▊    | 173/300 [00:15<00:14,  8.51it/s]"
     ]
    },
    {
     "name": "stderr",
     "output_type": "stream",
     "text": [
      "\r",
      " 58%|█████▊    | 175/300 [00:15<00:12,  9.95it/s]"
     ]
    },
    {
     "name": "stderr",
     "output_type": "stream",
     "text": [
      "\r",
      " 59%|█████▉    | 177/300 [00:15<00:11, 11.05it/s]"
     ]
    },
    {
     "name": "stderr",
     "output_type": "stream",
     "text": [
      "\r",
      " 60%|█████▉    | 179/300 [00:15<00:09, 12.19it/s]"
     ]
    },
    {
     "name": "stderr",
     "output_type": "stream",
     "text": [
      "\r",
      " 60%|██████    | 181/300 [00:15<00:09, 12.86it/s]"
     ]
    },
    {
     "name": "stderr",
     "output_type": "stream",
     "text": [
      "\r",
      " 61%|██████    | 183/300 [00:16<00:12,  9.29it/s]"
     ]
    },
    {
     "name": "stderr",
     "output_type": "stream",
     "text": [
      "\r",
      " 62%|██████▏   | 185/300 [00:16<00:13,  8.81it/s]"
     ]
    },
    {
     "name": "stderr",
     "output_type": "stream",
     "text": [
      "\r",
      " 62%|██████▏   | 187/300 [00:16<00:11,  9.78it/s]"
     ]
    },
    {
     "name": "stderr",
     "output_type": "stream",
     "text": [
      "\r",
      " 63%|██████▎   | 189/300 [00:16<00:10, 11.07it/s]"
     ]
    },
    {
     "name": "stderr",
     "output_type": "stream",
     "text": [
      "\r",
      " 64%|██████▎   | 191/300 [00:16<00:08, 12.26it/s]"
     ]
    },
    {
     "name": "stderr",
     "output_type": "stream",
     "text": [
      "\r",
      " 64%|██████▍   | 193/300 [00:17<00:08, 12.95it/s]"
     ]
    },
    {
     "name": "stderr",
     "output_type": "stream",
     "text": [
      "\r",
      " 65%|██████▌   | 195/300 [00:17<00:07, 13.58it/s]"
     ]
    },
    {
     "name": "stderr",
     "output_type": "stream",
     "text": [
      "\r",
      " 66%|██████▌   | 197/300 [00:17<00:07, 13.02it/s]"
     ]
    },
    {
     "name": "stderr",
     "output_type": "stream",
     "text": [
      "\r",
      " 66%|██████▋   | 199/300 [00:17<00:07, 14.16it/s]"
     ]
    },
    {
     "name": "stderr",
     "output_type": "stream",
     "text": [
      "\r",
      " 67%|██████▋   | 201/300 [00:17<00:07, 14.10it/s]"
     ]
    },
    {
     "name": "stderr",
     "output_type": "stream",
     "text": [
      "\r",
      " 68%|██████▊   | 203/300 [00:17<00:07, 13.27it/s]"
     ]
    },
    {
     "name": "stderr",
     "output_type": "stream",
     "text": [
      "\r",
      " 68%|██████▊   | 205/300 [00:17<00:06, 14.32it/s]"
     ]
    },
    {
     "name": "stderr",
     "output_type": "stream",
     "text": [
      "\r",
      " 69%|██████▉   | 207/300 [00:17<00:06, 14.58it/s]"
     ]
    },
    {
     "name": "stderr",
     "output_type": "stream",
     "text": [
      "\r",
      " 70%|██████▉   | 209/300 [00:18<00:06, 14.82it/s]"
     ]
    },
    {
     "name": "stderr",
     "output_type": "stream",
     "text": [
      "\r",
      " 70%|███████   | 211/300 [00:18<00:05, 14.93it/s]"
     ]
    },
    {
     "name": "stderr",
     "output_type": "stream",
     "text": [
      "\r",
      " 71%|███████   | 213/300 [00:18<00:05, 15.44it/s]"
     ]
    },
    {
     "name": "stderr",
     "output_type": "stream",
     "text": [
      "\r",
      " 72%|███████▏  | 215/300 [00:18<00:06, 13.74it/s]"
     ]
    },
    {
     "name": "stderr",
     "output_type": "stream",
     "text": [
      "\r",
      " 72%|███████▏  | 217/300 [00:18<00:07, 11.54it/s]"
     ]
    },
    {
     "name": "stderr",
     "output_type": "stream",
     "text": [
      "\r",
      " 73%|███████▎  | 219/300 [00:18<00:06, 12.31it/s]"
     ]
    },
    {
     "name": "stderr",
     "output_type": "stream",
     "text": [
      "\r",
      " 74%|███████▎  | 221/300 [00:19<00:05, 13.27it/s]"
     ]
    },
    {
     "name": "stderr",
     "output_type": "stream",
     "text": [
      "\r",
      " 74%|███████▍  | 223/300 [00:19<00:06, 12.19it/s]"
     ]
    },
    {
     "name": "stderr",
     "output_type": "stream",
     "text": [
      "\r",
      " 75%|███████▌  | 225/300 [00:19<00:05, 13.00it/s]"
     ]
    },
    {
     "name": "stderr",
     "output_type": "stream",
     "text": [
      "\r",
      " 76%|███████▌  | 227/300 [00:19<00:05, 13.38it/s]"
     ]
    },
    {
     "name": "stderr",
     "output_type": "stream",
     "text": [
      "\r",
      " 76%|███████▋  | 229/300 [00:19<00:05, 13.14it/s]"
     ]
    },
    {
     "name": "stderr",
     "output_type": "stream",
     "text": [
      "\r",
      " 77%|███████▋  | 231/300 [00:19<00:04, 14.06it/s]"
     ]
    },
    {
     "name": "stderr",
     "output_type": "stream",
     "text": [
      "\r",
      " 78%|███████▊  | 233/300 [00:19<00:04, 14.01it/s]"
     ]
    },
    {
     "name": "stderr",
     "output_type": "stream",
     "text": [
      "\r",
      " 78%|███████▊  | 235/300 [00:20<00:04, 13.94it/s]"
     ]
    },
    {
     "name": "stderr",
     "output_type": "stream",
     "text": [
      "\r",
      " 79%|███████▉  | 237/300 [00:20<00:04, 14.11it/s]"
     ]
    },
    {
     "name": "stderr",
     "output_type": "stream",
     "text": [
      "\r",
      " 80%|███████▉  | 239/300 [00:20<00:04, 14.22it/s]"
     ]
    },
    {
     "name": "stderr",
     "output_type": "stream",
     "text": [
      "\r",
      " 80%|████████  | 241/300 [00:20<00:04, 12.80it/s]"
     ]
    },
    {
     "name": "stderr",
     "output_type": "stream",
     "text": [
      "\r",
      " 81%|████████  | 243/300 [00:20<00:06,  9.27it/s]"
     ]
    },
    {
     "name": "stderr",
     "output_type": "stream",
     "text": [
      "\r",
      " 82%|████████▏ | 245/300 [00:21<00:05, 10.74it/s]"
     ]
    },
    {
     "name": "stderr",
     "output_type": "stream",
     "text": [
      "\r",
      " 82%|████████▏ | 247/300 [00:21<00:04, 11.95it/s]"
     ]
    },
    {
     "name": "stderr",
     "output_type": "stream",
     "text": [
      "\r",
      " 83%|████████▎ | 249/300 [00:21<00:03, 12.89it/s]"
     ]
    },
    {
     "name": "stderr",
     "output_type": "stream",
     "text": [
      "\r",
      " 84%|████████▎ | 251/300 [00:21<00:03, 13.56it/s]"
     ]
    },
    {
     "name": "stderr",
     "output_type": "stream",
     "text": [
      "\r",
      " 84%|████████▍ | 253/300 [00:21<00:03, 14.41it/s]"
     ]
    },
    {
     "name": "stderr",
     "output_type": "stream",
     "text": [
      "\r",
      " 85%|████████▌ | 255/300 [00:21<00:03, 14.70it/s]"
     ]
    },
    {
     "name": "stderr",
     "output_type": "stream",
     "text": [
      "\r",
      " 86%|████████▌ | 257/300 [00:21<00:02, 14.35it/s]"
     ]
    },
    {
     "name": "stderr",
     "output_type": "stream",
     "text": [
      "\r",
      " 86%|████████▋ | 259/300 [00:21<00:02, 14.68it/s]"
     ]
    },
    {
     "name": "stderr",
     "output_type": "stream",
     "text": [
      "\r",
      " 87%|████████▋ | 261/300 [00:22<00:02, 15.12it/s]"
     ]
    },
    {
     "name": "stderr",
     "output_type": "stream",
     "text": [
      "\r",
      " 88%|████████▊ | 263/300 [00:22<00:02, 15.21it/s]"
     ]
    },
    {
     "name": "stderr",
     "output_type": "stream",
     "text": [
      "\r",
      " 88%|████████▊ | 265/300 [00:22<00:02, 16.20it/s]"
     ]
    },
    {
     "name": "stderr",
     "output_type": "stream",
     "text": [
      "\r",
      " 89%|████████▉ | 267/300 [00:22<00:02, 16.01it/s]"
     ]
    },
    {
     "name": "stderr",
     "output_type": "stream",
     "text": [
      "\r",
      " 90%|████████▉ | 269/300 [00:22<00:02, 14.59it/s]"
     ]
    },
    {
     "name": "stderr",
     "output_type": "stream",
     "text": [
      "\r",
      " 90%|█████████ | 271/300 [00:22<00:02, 14.07it/s]"
     ]
    },
    {
     "name": "stderr",
     "output_type": "stream",
     "text": [
      "\r",
      " 91%|█████████ | 273/300 [00:22<00:02, 11.74it/s]"
     ]
    },
    {
     "name": "stderr",
     "output_type": "stream",
     "text": [
      "\r",
      " 92%|█████████▏| 275/300 [00:23<00:02, 11.16it/s]"
     ]
    },
    {
     "name": "stderr",
     "output_type": "stream",
     "text": [
      "\r",
      " 92%|█████████▏| 277/300 [00:23<00:01, 11.61it/s]"
     ]
    },
    {
     "name": "stderr",
     "output_type": "stream",
     "text": [
      "\r",
      " 93%|█████████▎| 279/300 [00:23<00:01, 11.05it/s]"
     ]
    },
    {
     "name": "stderr",
     "output_type": "stream",
     "text": [
      "\r",
      " 94%|█████████▎| 281/300 [00:23<00:01, 12.08it/s]"
     ]
    },
    {
     "name": "stderr",
     "output_type": "stream",
     "text": [
      "\r",
      " 94%|█████████▍| 283/300 [00:23<00:01, 12.88it/s]"
     ]
    },
    {
     "name": "stderr",
     "output_type": "stream",
     "text": [
      "\r",
      " 95%|█████████▌| 285/300 [00:23<00:01, 13.32it/s]"
     ]
    },
    {
     "name": "stderr",
     "output_type": "stream",
     "text": [
      "\r",
      " 96%|█████████▌| 287/300 [00:24<00:00, 13.74it/s]"
     ]
    },
    {
     "name": "stderr",
     "output_type": "stream",
     "text": [
      "\r",
      " 96%|█████████▋| 289/300 [00:24<00:00, 13.72it/s]"
     ]
    },
    {
     "name": "stderr",
     "output_type": "stream",
     "text": [
      "\r",
      " 97%|█████████▋| 291/300 [00:24<00:00, 14.28it/s]"
     ]
    },
    {
     "name": "stderr",
     "output_type": "stream",
     "text": [
      "\r",
      " 98%|█████████▊| 293/300 [00:24<00:00, 14.77it/s]"
     ]
    },
    {
     "name": "stderr",
     "output_type": "stream",
     "text": [
      "\r",
      " 98%|█████████▊| 295/300 [00:24<00:00, 14.84it/s]"
     ]
    },
    {
     "name": "stderr",
     "output_type": "stream",
     "text": [
      "\r",
      " 99%|█████████▉| 297/300 [00:24<00:00, 15.48it/s]"
     ]
    },
    {
     "name": "stderr",
     "output_type": "stream",
     "text": [
      "\r",
      "100%|█████████▉| 299/300 [00:24<00:00, 16.31it/s]"
     ]
    },
    {
     "name": "stderr",
     "output_type": "stream",
     "text": [
      "\r",
      "100%|██████████| 300/300 [00:24<00:00, 12.06it/s]"
     ]
    },
    {
     "name": "stderr",
     "output_type": "stream",
     "text": [
      "\n"
     ]
    },
    {
     "name": "stdout",
     "output_type": "stream",
     "text": [
      "val :\n"
     ]
    },
    {
     "name": "stderr",
     "output_type": "stream",
     "text": [
      "\r",
      "  0%|          | 0/100 [00:00<?, ?it/s]"
     ]
    },
    {
     "name": "stderr",
     "output_type": "stream",
     "text": [
      "\r",
      "  1%|          | 1/100 [00:00<00:16,  6.02it/s]"
     ]
    },
    {
     "name": "stderr",
     "output_type": "stream",
     "text": [
      "\r",
      "  2%|▏         | 2/100 [00:00<00:12,  7.61it/s]"
     ]
    },
    {
     "name": "stderr",
     "output_type": "stream",
     "text": [
      "\r",
      "  3%|▎         | 3/100 [00:00<00:12,  7.84it/s]"
     ]
    },
    {
     "name": "stderr",
     "output_type": "stream",
     "text": [
      "\r",
      "  5%|▌         | 5/100 [00:00<00:08, 11.21it/s]"
     ]
    },
    {
     "name": "stderr",
     "output_type": "stream",
     "text": [
      "\r",
      "  7%|▋         | 7/100 [00:00<00:07, 13.05it/s]"
     ]
    },
    {
     "name": "stderr",
     "output_type": "stream",
     "text": [
      "\r",
      "  9%|▉         | 9/100 [00:00<00:08, 11.11it/s]"
     ]
    },
    {
     "name": "stderr",
     "output_type": "stream",
     "text": [
      "\r",
      " 11%|█         | 11/100 [00:01<00:07, 11.28it/s]"
     ]
    },
    {
     "name": "stderr",
     "output_type": "stream",
     "text": [
      "\r",
      " 13%|█▎        | 13/100 [00:01<00:08, 10.71it/s]"
     ]
    },
    {
     "name": "stderr",
     "output_type": "stream",
     "text": [
      "\r",
      " 15%|█▌        | 15/100 [00:01<00:06, 12.16it/s]"
     ]
    },
    {
     "name": "stderr",
     "output_type": "stream",
     "text": [
      "\r",
      " 17%|█▋        | 17/100 [00:01<00:06, 12.57it/s]"
     ]
    },
    {
     "name": "stderr",
     "output_type": "stream",
     "text": [
      "\r",
      " 19%|█▉        | 19/100 [00:01<00:05, 13.54it/s]"
     ]
    },
    {
     "name": "stderr",
     "output_type": "stream",
     "text": [
      "\r",
      " 21%|██        | 21/100 [00:01<00:06, 11.38it/s]"
     ]
    },
    {
     "name": "stderr",
     "output_type": "stream",
     "text": [
      "\r",
      " 23%|██▎       | 23/100 [00:02<00:07, 10.16it/s]"
     ]
    },
    {
     "name": "stderr",
     "output_type": "stream",
     "text": [
      "\r",
      " 25%|██▌       | 25/100 [00:02<00:07,  9.40it/s]"
     ]
    },
    {
     "name": "stderr",
     "output_type": "stream",
     "text": [
      "\r",
      " 27%|██▋       | 27/100 [00:02<00:08,  8.64it/s]"
     ]
    },
    {
     "name": "stderr",
     "output_type": "stream",
     "text": [
      "\r",
      " 29%|██▉       | 29/100 [00:02<00:07,  9.72it/s]"
     ]
    },
    {
     "name": "stderr",
     "output_type": "stream",
     "text": [
      "\r",
      " 31%|███       | 31/100 [00:02<00:07,  9.81it/s]"
     ]
    },
    {
     "name": "stderr",
     "output_type": "stream",
     "text": [
      "\r",
      " 33%|███▎      | 33/100 [00:03<00:07,  9.34it/s]"
     ]
    },
    {
     "name": "stderr",
     "output_type": "stream",
     "text": [
      "\r",
      " 35%|███▌      | 35/100 [00:03<00:06,  9.58it/s]"
     ]
    },
    {
     "name": "stderr",
     "output_type": "stream",
     "text": [
      "\r",
      " 37%|███▋      | 37/100 [00:03<00:05, 10.92it/s]"
     ]
    },
    {
     "name": "stderr",
     "output_type": "stream",
     "text": [
      "\r",
      " 39%|███▉      | 39/100 [00:03<00:05, 12.20it/s]"
     ]
    },
    {
     "name": "stderr",
     "output_type": "stream",
     "text": [
      "\r",
      " 41%|████      | 41/100 [00:03<00:04, 12.24it/s]"
     ]
    },
    {
     "name": "stderr",
     "output_type": "stream",
     "text": [
      "\r",
      " 43%|████▎     | 43/100 [00:04<00:05, 10.50it/s]"
     ]
    },
    {
     "name": "stderr",
     "output_type": "stream",
     "text": [
      "\r",
      " 45%|████▌     | 45/100 [00:04<00:04, 11.48it/s]"
     ]
    },
    {
     "name": "stderr",
     "output_type": "stream",
     "text": [
      "\r",
      " 47%|████▋     | 47/100 [00:04<00:04, 12.42it/s]"
     ]
    },
    {
     "name": "stderr",
     "output_type": "stream",
     "text": [
      "\r",
      " 49%|████▉     | 49/100 [00:04<00:03, 12.99it/s]"
     ]
    },
    {
     "name": "stderr",
     "output_type": "stream",
     "text": [
      "\r",
      " 51%|█████     | 51/100 [00:04<00:04, 12.15it/s]"
     ]
    },
    {
     "name": "stderr",
     "output_type": "stream",
     "text": [
      "\r",
      " 53%|█████▎    | 53/100 [00:04<00:04, 10.73it/s]"
     ]
    },
    {
     "name": "stderr",
     "output_type": "stream",
     "text": [
      "\r",
      " 55%|█████▌    | 55/100 [00:05<00:04, 10.02it/s]"
     ]
    },
    {
     "name": "stderr",
     "output_type": "stream",
     "text": [
      "\r",
      " 57%|█████▋    | 57/100 [00:05<00:04,  9.44it/s]"
     ]
    },
    {
     "name": "stderr",
     "output_type": "stream",
     "text": [
      "\r",
      " 58%|█████▊    | 58/100 [00:05<00:04,  9.34it/s]"
     ]
    },
    {
     "name": "stderr",
     "output_type": "stream",
     "text": [
      "\r",
      " 59%|█████▉    | 59/100 [00:05<00:04,  9.35it/s]"
     ]
    },
    {
     "name": "stderr",
     "output_type": "stream",
     "text": [
      "\r",
      " 61%|██████    | 61/100 [00:05<00:04,  9.23it/s]"
     ]
    },
    {
     "name": "stderr",
     "output_type": "stream",
     "text": [
      "\r",
      " 63%|██████▎   | 63/100 [00:05<00:03, 10.86it/s]"
     ]
    },
    {
     "name": "stderr",
     "output_type": "stream",
     "text": [
      "\r",
      " 65%|██████▌   | 65/100 [00:06<00:02, 11.73it/s]"
     ]
    },
    {
     "name": "stderr",
     "output_type": "stream",
     "text": [
      "\r",
      " 67%|██████▋   | 67/100 [00:06<00:02, 11.08it/s]"
     ]
    },
    {
     "name": "stderr",
     "output_type": "stream",
     "text": [
      "\r",
      " 69%|██████▉   | 69/100 [00:06<00:02, 11.47it/s]"
     ]
    },
    {
     "name": "stderr",
     "output_type": "stream",
     "text": [
      "\r",
      " 71%|███████   | 71/100 [00:06<00:02, 10.12it/s]"
     ]
    },
    {
     "name": "stderr",
     "output_type": "stream",
     "text": [
      "\r",
      " 73%|███████▎  | 73/100 [00:06<00:02, 10.36it/s]"
     ]
    },
    {
     "name": "stderr",
     "output_type": "stream",
     "text": [
      "\r",
      " 75%|███████▌  | 75/100 [00:07<00:02, 10.53it/s]"
     ]
    },
    {
     "name": "stderr",
     "output_type": "stream",
     "text": [
      "\r",
      " 77%|███████▋  | 77/100 [00:07<00:01, 11.78it/s]"
     ]
    },
    {
     "name": "stderr",
     "output_type": "stream",
     "text": [
      "\r",
      " 79%|███████▉  | 79/100 [00:07<00:01, 11.91it/s]"
     ]
    },
    {
     "name": "stderr",
     "output_type": "stream",
     "text": [
      "\r",
      " 81%|████████  | 81/100 [00:07<00:01, 11.80it/s]"
     ]
    },
    {
     "name": "stderr",
     "output_type": "stream",
     "text": [
      "\r",
      " 83%|████████▎ | 83/100 [00:07<00:01, 10.33it/s]"
     ]
    },
    {
     "name": "stderr",
     "output_type": "stream",
     "text": [
      "\r",
      " 85%|████████▌ | 85/100 [00:08<00:01,  8.69it/s]"
     ]
    },
    {
     "name": "stderr",
     "output_type": "stream",
     "text": [
      "\r",
      " 87%|████████▋ | 87/100 [00:08<00:01, 10.16it/s]"
     ]
    },
    {
     "name": "stderr",
     "output_type": "stream",
     "text": [
      "\r",
      " 89%|████████▉ | 89/100 [00:08<00:00, 11.29it/s]"
     ]
    },
    {
     "name": "stderr",
     "output_type": "stream",
     "text": [
      "\r",
      " 91%|█████████ | 91/100 [00:08<00:00, 11.19it/s]"
     ]
    },
    {
     "name": "stderr",
     "output_type": "stream",
     "text": [
      "\r",
      " 93%|█████████▎| 93/100 [00:08<00:00, 12.38it/s]"
     ]
    },
    {
     "name": "stderr",
     "output_type": "stream",
     "text": [
      "\r",
      " 95%|█████████▌| 95/100 [00:08<00:00, 12.90it/s]"
     ]
    },
    {
     "name": "stderr",
     "output_type": "stream",
     "text": [
      "\r",
      " 97%|█████████▋| 97/100 [00:08<00:00, 13.37it/s]"
     ]
    },
    {
     "name": "stderr",
     "output_type": "stream",
     "text": [
      "\r",
      " 99%|█████████▉| 99/100 [00:09<00:00, 10.72it/s]"
     ]
    },
    {
     "name": "stderr",
     "output_type": "stream",
     "text": [
      "\r",
      "100%|██████████| 100/100 [00:09<00:00, 10.80it/s]"
     ]
    },
    {
     "name": "stderr",
     "output_type": "stream",
     "text": [
      "\n"
     ]
    },
    {
     "name": "stdout",
     "output_type": "stream",
     "text": [
      "test :\n"
     ]
    },
    {
     "name": "stderr",
     "output_type": "stream",
     "text": [
      "\r",
      "  0%|          | 0/100 [00:00<?, ?it/s]"
     ]
    },
    {
     "name": "stderr",
     "output_type": "stream",
     "text": [
      "\r",
      "  2%|▏         | 2/100 [00:00<00:06, 15.69it/s]"
     ]
    },
    {
     "name": "stderr",
     "output_type": "stream",
     "text": [
      "\r",
      "  4%|▍         | 4/100 [00:00<00:06, 14.37it/s]"
     ]
    },
    {
     "name": "stderr",
     "output_type": "stream",
     "text": [
      "\r",
      "  6%|▌         | 6/100 [00:00<00:06, 13.66it/s]"
     ]
    },
    {
     "name": "stderr",
     "output_type": "stream",
     "text": [
      "\r",
      "  8%|▊         | 8/100 [00:00<00:06, 14.57it/s]"
     ]
    },
    {
     "name": "stderr",
     "output_type": "stream",
     "text": [
      "\r",
      " 10%|█         | 10/100 [00:00<00:06, 13.19it/s]"
     ]
    },
    {
     "name": "stderr",
     "output_type": "stream",
     "text": [
      "\r",
      " 12%|█▏        | 12/100 [00:00<00:06, 13.76it/s]"
     ]
    },
    {
     "name": "stderr",
     "output_type": "stream",
     "text": [
      "\r",
      " 15%|█▌        | 15/100 [00:01<00:05, 15.72it/s]"
     ]
    },
    {
     "name": "stderr",
     "output_type": "stream",
     "text": [
      "\r",
      " 17%|█▋        | 17/100 [00:01<00:05, 14.38it/s]"
     ]
    },
    {
     "name": "stderr",
     "output_type": "stream",
     "text": [
      "\r",
      " 19%|█▉        | 19/100 [00:01<00:05, 15.18it/s]"
     ]
    },
    {
     "name": "stderr",
     "output_type": "stream",
     "text": [
      "\r",
      " 21%|██        | 21/100 [00:01<00:05, 14.13it/s]"
     ]
    },
    {
     "name": "stderr",
     "output_type": "stream",
     "text": [
      "\r",
      " 23%|██▎       | 23/100 [00:01<00:05, 14.23it/s]"
     ]
    },
    {
     "name": "stderr",
     "output_type": "stream",
     "text": [
      "\r",
      " 25%|██▌       | 25/100 [00:01<00:04, 15.25it/s]"
     ]
    },
    {
     "name": "stderr",
     "output_type": "stream",
     "text": [
      "\r",
      " 27%|██▋       | 27/100 [00:01<00:05, 12.73it/s]"
     ]
    },
    {
     "name": "stderr",
     "output_type": "stream",
     "text": [
      "\r",
      " 29%|██▉       | 29/100 [00:02<00:05, 12.05it/s]"
     ]
    },
    {
     "name": "stderr",
     "output_type": "stream",
     "text": [
      "\r",
      " 31%|███       | 31/100 [00:02<00:05, 12.29it/s]"
     ]
    },
    {
     "name": "stderr",
     "output_type": "stream",
     "text": [
      "\r",
      " 33%|███▎      | 33/100 [00:02<00:05, 12.30it/s]"
     ]
    },
    {
     "name": "stderr",
     "output_type": "stream",
     "text": [
      "\r",
      " 35%|███▌      | 35/100 [00:02<00:04, 13.31it/s]"
     ]
    },
    {
     "name": "stderr",
     "output_type": "stream",
     "text": [
      "\r",
      " 37%|███▋      | 37/100 [00:02<00:04, 13.99it/s]"
     ]
    },
    {
     "name": "stderr",
     "output_type": "stream",
     "text": [
      "\r",
      " 39%|███▉      | 39/100 [00:02<00:04, 14.94it/s]"
     ]
    },
    {
     "name": "stderr",
     "output_type": "stream",
     "text": [
      "\r",
      " 41%|████      | 41/100 [00:02<00:03, 15.02it/s]"
     ]
    },
    {
     "name": "stderr",
     "output_type": "stream",
     "text": [
      "\r",
      " 43%|████▎     | 43/100 [00:03<00:03, 14.25it/s]"
     ]
    },
    {
     "name": "stderr",
     "output_type": "stream",
     "text": [
      "\r",
      " 45%|████▌     | 45/100 [00:03<00:03, 14.91it/s]"
     ]
    },
    {
     "name": "stderr",
     "output_type": "stream",
     "text": [
      "\r",
      " 47%|████▋     | 47/100 [00:03<00:03, 16.08it/s]"
     ]
    },
    {
     "name": "stderr",
     "output_type": "stream",
     "text": [
      "\r",
      " 49%|████▉     | 49/100 [00:03<00:03, 15.80it/s]"
     ]
    },
    {
     "name": "stderr",
     "output_type": "stream",
     "text": [
      "\r",
      " 51%|█████     | 51/100 [00:03<00:03, 15.60it/s]"
     ]
    },
    {
     "name": "stderr",
     "output_type": "stream",
     "text": [
      "\r",
      " 53%|█████▎    | 53/100 [00:03<00:03, 12.74it/s]"
     ]
    },
    {
     "name": "stderr",
     "output_type": "stream",
     "text": [
      "\r",
      " 55%|█████▌    | 55/100 [00:03<00:03, 11.77it/s]"
     ]
    },
    {
     "name": "stderr",
     "output_type": "stream",
     "text": [
      "\r",
      " 57%|█████▋    | 57/100 [00:04<00:04, 10.68it/s]"
     ]
    },
    {
     "name": "stderr",
     "output_type": "stream",
     "text": [
      "\r",
      " 59%|█████▉    | 59/100 [00:04<00:03, 10.85it/s]"
     ]
    },
    {
     "name": "stderr",
     "output_type": "stream",
     "text": [
      "\r",
      " 61%|██████    | 61/100 [00:04<00:03, 11.23it/s]"
     ]
    },
    {
     "name": "stderr",
     "output_type": "stream",
     "text": [
      "\r",
      " 63%|██████▎   | 63/100 [00:04<00:02, 12.90it/s]"
     ]
    },
    {
     "name": "stderr",
     "output_type": "stream",
     "text": [
      "\r",
      " 65%|██████▌   | 65/100 [00:04<00:02, 13.67it/s]"
     ]
    },
    {
     "name": "stderr",
     "output_type": "stream",
     "text": [
      "\r",
      " 67%|██████▋   | 67/100 [00:04<00:02, 13.98it/s]"
     ]
    },
    {
     "name": "stderr",
     "output_type": "stream",
     "text": [
      "\r",
      " 69%|██████▉   | 69/100 [00:05<00:02, 14.89it/s]"
     ]
    },
    {
     "name": "stderr",
     "output_type": "stream",
     "text": [
      "\r",
      " 71%|███████   | 71/100 [00:05<00:01, 15.42it/s]"
     ]
    },
    {
     "name": "stderr",
     "output_type": "stream",
     "text": [
      "\r",
      " 73%|███████▎  | 73/100 [00:05<00:01, 15.50it/s]"
     ]
    },
    {
     "name": "stderr",
     "output_type": "stream",
     "text": [
      "\r",
      " 75%|███████▌  | 75/100 [00:05<00:01, 13.89it/s]"
     ]
    },
    {
     "name": "stderr",
     "output_type": "stream",
     "text": [
      "\r",
      " 77%|███████▋  | 77/100 [00:05<00:01, 14.44it/s]"
     ]
    },
    {
     "name": "stderr",
     "output_type": "stream",
     "text": [
      "\r",
      " 79%|███████▉  | 79/100 [00:05<00:01, 14.33it/s]"
     ]
    },
    {
     "name": "stderr",
     "output_type": "stream",
     "text": [
      "\r",
      " 81%|████████  | 81/100 [00:05<00:01, 15.40it/s]"
     ]
    },
    {
     "name": "stderr",
     "output_type": "stream",
     "text": [
      "\r",
      " 83%|████████▎ | 83/100 [00:05<00:01, 16.27it/s]"
     ]
    },
    {
     "name": "stderr",
     "output_type": "stream",
     "text": [
      "\r",
      " 85%|████████▌ | 85/100 [00:06<00:00, 16.21it/s]"
     ]
    },
    {
     "name": "stderr",
     "output_type": "stream",
     "text": [
      "\r",
      " 87%|████████▋ | 87/100 [00:06<00:00, 16.63it/s]"
     ]
    },
    {
     "name": "stderr",
     "output_type": "stream",
     "text": [
      "\r",
      " 89%|████████▉ | 89/100 [00:06<00:00, 16.73it/s]"
     ]
    },
    {
     "name": "stderr",
     "output_type": "stream",
     "text": [
      "\r",
      " 91%|█████████ | 91/100 [00:06<00:00, 16.39it/s]"
     ]
    },
    {
     "name": "stderr",
     "output_type": "stream",
     "text": [
      "\r",
      " 93%|█████████▎| 93/100 [00:06<00:00, 16.50it/s]"
     ]
    },
    {
     "name": "stderr",
     "output_type": "stream",
     "text": [
      "\r",
      " 95%|█████████▌| 95/100 [00:06<00:00, 16.38it/s]"
     ]
    },
    {
     "name": "stderr",
     "output_type": "stream",
     "text": [
      "\r",
      " 97%|█████████▋| 97/100 [00:06<00:00, 13.94it/s]"
     ]
    },
    {
     "name": "stderr",
     "output_type": "stream",
     "text": [
      "\r",
      " 99%|█████████▉| 99/100 [00:07<00:00, 13.84it/s]"
     ]
    },
    {
     "name": "stderr",
     "output_type": "stream",
     "text": [
      "\r",
      "100%|██████████| 100/100 [00:07<00:00, 14.14it/s]"
     ]
    },
    {
     "name": "stderr",
     "output_type": "stream",
     "text": [
      "\n"
     ]
    }
   ],
   "source": [
    "download_dir = pathlib.Path('./UCF101_subset/')\n",
    "subset_paths = download_ucf_101_subset(URL,\n",
    "                                       num_classes = NUM_CLASSES,\n",
    "                                       splits = {\"train\": 30, \"val\": 10, \"test\": 10},\n",
    "                                       download_dir = download_dir)"
   ]
  },
  {
   "cell_type": "markdown",
   "metadata": {
    "id": "MBMRm9Ub3Zrk"
   },
   "source": [
    "After downloading the data, you should now have a copy of a subset of the UCF101 dataset. Run the following code to print the total number of videos you have amongst all your subsets of data."
   ]
  },
  {
   "cell_type": "code",
   "execution_count": 19,
   "metadata": {
    "execution": {
     "iopub.execute_input": "2023-01-07T02:25:53.081081Z",
     "iopub.status.busy": "2023-01-07T02:25:53.080501Z",
     "iopub.status.idle": "2023-01-07T02:25:53.086867Z",
     "shell.execute_reply": "2023-01-07T02:25:53.086243Z"
    },
    "id": "zupvOLYP4D4q"
   },
   "outputs": [
    {
     "name": "stdout",
     "output_type": "stream",
     "text": [
      "Total videos: 500\n"
     ]
    }
   ],
   "source": [
    "video_count_train = len(list(download_dir.glob('train/*/*.avi')))\n",
    "video_count_val = len(list(download_dir.glob('val/*/*.avi')))\n",
    "video_count_test = len(list(download_dir.glob('test/*/*.avi')))\n",
    "video_total = video_count_train + video_count_val + video_count_test\n",
    "print(f\"Total videos: {video_total}\")"
   ]
  },
  {
   "cell_type": "markdown",
   "metadata": {
    "id": "JmJG1SlXiOX8"
   },
   "source": [
    "You can also preview the directory of data files now."
   ]
  },
  {
   "cell_type": "code",
   "execution_count": 20,
   "metadata": {
    "execution": {
     "iopub.execute_input": "2023-01-07T02:25:53.090251Z",
     "iopub.status.busy": "2023-01-07T02:25:53.089815Z",
     "iopub.status.idle": "2023-01-07T02:25:53.219244Z",
     "shell.execute_reply": "2023-01-07T02:25:53.218521Z"
    },
    "id": "y9be0WlDiNM0"
   },
   "outputs": [
    {
     "name": "stdout",
     "output_type": "stream",
     "text": [
      "./UCF101_subset\r\n",
      "./UCF101_subset/val\r\n",
      "./UCF101_subset/val/ApplyLipstick\r\n",
      "./UCF101_subset/val/ApplyLipstick/UCF101\r\n",
      "./UCF101_subset/val/ApplyLipstick/v_ApplyLipstick_g14_c01.avi\r\n",
      "./UCF101_subset/val/ApplyLipstick/v_ApplyLipstick_g07_c02.avi\r\n",
      "./UCF101_subset/val/ApplyLipstick/v_ApplyLipstick_g12_c02.avi\r\n",
      "./UCF101_subset/val/ApplyLipstick/v_ApplyLipstick_g08_c02.avi\r\n",
      "./UCF101_subset/val/ApplyLipstick/v_ApplyLipstick_g13_c01.avi\r\n",
      "./UCF101_subset/val/ApplyLipstick/v_ApplyLipstick_g17_c01.avi\r\n",
      "./UCF101_subset/val/ApplyLipstick/v_ApplyLipstick_g20_c02.avi\r\n",
      "./UCF101_subset/val/ApplyLipstick/v_ApplyLipstick_g20_c04.avi\r\n",
      "./UCF101_subset/val/ApplyLipstick/v_ApplyLipstick_g17_c05.avi\r\n",
      "./UCF101_subset/val/ApplyLipstick/v_ApplyLipstick_g02_c01.avi\r\n",
      "./UCF101_subset/val/ApplyEyeMakeup\r\n",
      "./UCF101_subset/val/ApplyEyeMakeup/UCF101\r\n",
      "./UCF101_subset/val/ApplyEyeMakeup/v_ApplyEyeMakeup_g10_c05.avi\r\n",
      "./UCF101_subset/val/ApplyEyeMakeup/v_ApplyEyeMakeup_g16_c05.avi\r\n",
      "./UCF101_subset/val/ApplyEyeMakeup/v_ApplyEyeMakeup_g25_c03.avi\r\n",
      "./UCF101_subset/val/ApplyEyeMakeup/v_ApplyEyeMakeup_g09_c04.avi\r\n",
      "./UCF101_subset/val/ApplyEyeMakeup/v_ApplyEyeMakeup_g04_c07.avi\r\n",
      "./UCF101_subset/val/ApplyEyeMakeup/v_ApplyEyeMakeup_g06_c03.avi\r\n",
      "./UCF101_subset/val/ApplyEyeMakeup/v_ApplyEyeMakeup_g08_c03.avi\r\n",
      "./UCF101_subset/val/ApplyEyeMakeup/v_ApplyEyeMakeup_g13_c05.avi\r\n",
      "./UCF101_subset/val/ApplyEyeMakeup/v_ApplyEyeMakeup_g06_c07.avi\r\n",
      "./UCF101_subset/val/ApplyEyeMakeup/v_ApplyEyeMakeup_g09_c06.avi\r\n",
      "./UCF101_subset/val/BasketballDunk\r\n",
      "./UCF101_subset/val/BasketballDunk/UCF101\r\n",
      "./UCF101_subset/val/BasketballDunk/v_BasketballDunk_g08_c01.avi\r\n",
      "./UCF101_subset/val/BasketballDunk/v_BasketballDunk_g04_c01.avi\r\n",
      "./UCF101_subset/val/BasketballDunk/v_BasketballDunk_g13_c02.avi\r\n",
      "./UCF101_subset/val/BasketballDunk/v_BasketballDunk_g01_c02.avi\r\n",
      "./UCF101_subset/val/BasketballDunk/v_BasketballDunk_g15_c01.avi\r\n",
      "./UCF101_subset/val/BasketballDunk/v_BasketballDunk_g03_c05.avi\r\n",
      "./UCF101_subset/val/BasketballDunk/v_BasketballDunk_g04_c03.avi\r\n",
      "./UCF101_subset/val/BasketballDunk/v_BasketballDunk_g22_c03.avi\r\n",
      "./UCF101_subset/val/BasketballDunk/v_BasketballDunk_g08_c03.avi\r\n",
      "./UCF101_subset/val/BasketballDunk/v_BasketballDunk_g01_c06.avi\r\n",
      "./UCF101_subset/val/BalanceBeam\r\n",
      "./UCF101_subset/val/BalanceBeam/UCF101\r\n",
      "./UCF101_subset/val/BalanceBeam/v_BalanceBeam_g20_c01.avi\r\n",
      "./UCF101_subset/val/BalanceBeam/v_BalanceBeam_g19_c03.avi\r\n",
      "./UCF101_subset/val/BalanceBeam/v_BalanceBeam_g06_c07.avi\r\n",
      "./UCF101_subset/val/BalanceBeam/v_BalanceBeam_g10_c04.avi\r\n",
      "./UCF101_subset/val/BalanceBeam/v_BalanceBeam_g09_c02.avi\r\n",
      "./UCF101_subset/val/BalanceBeam/v_BalanceBeam_g17_c03.avi\r\n",
      "./UCF101_subset/val/BalanceBeam/v_BalanceBeam_g19_c01.avi\r\n",
      "./UCF101_subset/val/BalanceBeam/v_BalanceBeam_g16_c03.avi\r\n",
      "./UCF101_subset/val/BalanceBeam/v_BalanceBeam_g15_c01.avi\r\n",
      "./UCF101_subset/val/BalanceBeam/v_BalanceBeam_g14_c03.avi\r\n",
      "./UCF101_subset/val/BaseballPitch\r\n",
      "./UCF101_subset/val/BaseballPitch/UCF101\r\n",
      "./UCF101_subset/val/BaseballPitch/v_BaseballPitch_g02_c04.avi\r\n",
      "./UCF101_subset/val/BaseballPitch/v_BaseballPitch_g10_c01.avi\r\n",
      "./UCF101_subset/val/BaseballPitch/v_BaseballPitch_g05_c04.avi\r\n",
      "./UCF101_subset/val/BaseballPitch/v_BaseballPitch_g13_c05.avi\r\n",
      "./UCF101_subset/val/BaseballPitch/v_BaseballPitch_g06_c05.avi\r\n",
      "./UCF101_subset/val/BaseballPitch/v_BaseballPitch_g04_c01.avi\r\n",
      "./UCF101_subset/val/BaseballPitch/v_BaseballPitch_g09_c06.avi\r\n",
      "./UCF101_subset/val/BaseballPitch/v_BaseballPitch_g19_c03.avi\r\n",
      "./UCF101_subset/val/BaseballPitch/v_BaseballPitch_g20_c04.avi\r\n",
      "./UCF101_subset/val/BaseballPitch/v_BaseballPitch_g03_c06.avi\r\n",
      "./UCF101_subset/val/BenchPress\r\n",
      "./UCF101_subset/val/BenchPress/UCF101\r\n",
      "./UCF101_subset/val/BenchPress/v_BenchPress_g17_c04.avi\r\n",
      "./UCF101_subset/val/BenchPress/v_BenchPress_g21_c03.avi\r\n",
      "./UCF101_subset/val/BenchPress/v_BenchPress_g22_c01.avi\r\n",
      "./UCF101_subset/val/BenchPress/v_BenchPress_g02_c01.avi\r\n",
      "./UCF101_subset/val/BenchPress/v_BenchPress_g05_c02.avi\r\n",
      "./UCF101_subset/val/BenchPress/v_BenchPress_g20_c04.avi\r\n",
      "./UCF101_subset/val/BenchPress/v_BenchPress_g25_c04.avi\r\n",
      "./UCF101_subset/val/BenchPress/v_BenchPress_g20_c02.avi\r\n",
      "./UCF101_subset/val/BenchPress/v_BenchPress_g13_c01.avi\r\n",
      "./UCF101_subset/val/BenchPress/v_BenchPress_g18_c03.avi\r\n",
      "./UCF101_subset/val/Basketball\r\n",
      "./UCF101_subset/val/Basketball/UCF101\r\n",
      "./UCF101_subset/val/Basketball/v_Basketball_g22_c07.avi\r\n",
      "./UCF101_subset/val/Basketball/v_Basketball_g03_c06.avi\r\n",
      "./UCF101_subset/val/Basketball/v_Basketball_g20_c06.avi\r\n",
      "./UCF101_subset/val/Basketball/v_Basketball_g23_c06.avi\r\n",
      "./UCF101_subset/val/Basketball/v_Basketball_g07_c02.avi\r\n",
      "./UCF101_subset/val/Basketball/v_Basketball_g19_c07.avi\r\n",
      "./UCF101_subset/val/Basketball/v_Basketball_g07_c04.avi\r\n",
      "./UCF101_subset/val/Basketball/v_Basketball_g15_c05.avi\r\n",
      "./UCF101_subset/val/Basketball/v_Basketball_g10_c03.avi\r\n",
      "./UCF101_subset/val/Basketball/v_Basketball_g16_c04.avi\r\n",
      "./UCF101_subset/val/BandMarching\r\n",
      "./UCF101_subset/val/BandMarching/UCF101\r\n",
      "./UCF101_subset/val/BandMarching/v_BandMarching_g22_c02.avi\r\n",
      "./UCF101_subset/val/BandMarching/v_BandMarching_g10_c02.avi\r\n",
      "./UCF101_subset/val/BandMarching/v_BandMarching_g23_c03.avi\r\n",
      "./UCF101_subset/val/BandMarching/v_BandMarching_g01_c05.avi\r\n",
      "./UCF101_subset/val/BandMarching/v_BandMarching_g09_c03.avi\r\n",
      "./UCF101_subset/val/BandMarching/v_BandMarching_g03_c03.avi\r\n",
      "./UCF101_subset/val/BandMarching/v_BandMarching_g21_c02.avi\r\n",
      "./UCF101_subset/val/BandMarching/v_BandMarching_g14_c03.avi\r\n",
      "./UCF101_subset/val/BandMarching/v_BandMarching_g25_c01.avi\r\n",
      "./UCF101_subset/val/BandMarching/v_BandMarching_g15_c07.avi\r\n",
      "./UCF101_subset/val/Archery\r\n",
      "./UCF101_subset/val/Archery/UCF101\r\n",
      "./UCF101_subset/val/Archery/v_Archery_g25_c06.avi\r\n",
      "./UCF101_subset/val/Archery/v_Archery_g10_c05.avi\r\n",
      "./UCF101_subset/val/Archery/v_Archery_g03_c02.avi\r\n",
      "./UCF101_subset/val/Archery/v_Archery_g04_c03.avi\r\n",
      "./UCF101_subset/val/Archery/v_Archery_g13_c05.avi\r\n",
      "./UCF101_subset/val/Archery/v_Archery_g15_c06.avi\r\n",
      "./UCF101_subset/val/Archery/v_Archery_g11_c04.avi\r\n",
      "./UCF101_subset/val/Archery/v_Archery_g01_c04.avi\r\n",
      "./UCF101_subset/val/Archery/v_Archery_g09_c04.avi\r\n",
      "./UCF101_subset/val/Archery/v_Archery_g17_c02.avi\r\n",
      "./UCF101_subset/val/BabyCrawling\r\n",
      "./UCF101_subset/val/BabyCrawling/UCF101\r\n",
      "./UCF101_subset/val/BabyCrawling/v_BabyCrawling_g18_c06.avi\r\n",
      "./UCF101_subset/val/BabyCrawling/v_BabyCrawling_g25_c03.avi\r\n",
      "./UCF101_subset/val/BabyCrawling/v_BabyCrawling_g21_c02.avi\r\n",
      "./UCF101_subset/val/BabyCrawling/v_BabyCrawling_g08_c02.avi\r\n",
      "./UCF101_subset/val/BabyCrawling/v_BabyCrawling_g07_c02.avi\r\n",
      "./UCF101_subset/val/BabyCrawling/v_BabyCrawling_g17_c01.avi\r\n",
      "./UCF101_subset/val/BabyCrawling/v_BabyCrawling_g10_c02.avi\r\n",
      "./UCF101_subset/val/BabyCrawling/v_BabyCrawling_g01_c01.avi\r\n",
      "./UCF101_subset/val/BabyCrawling/v_BabyCrawling_g04_c03.avi\r\n",
      "./UCF101_subset/val/BabyCrawling/v_BabyCrawling_g16_c03.avi\r\n",
      "./UCF101_subset/test\r\n",
      "./UCF101_subset/test/ApplyLipstick\r\n",
      "./UCF101_subset/test/ApplyLipstick/UCF101\r\n",
      "./UCF101_subset/test/ApplyLipstick/v_ApplyLipstick_g22_c06.avi\r\n",
      "./UCF101_subset/test/ApplyLipstick/v_ApplyLipstick_g24_c03.avi\r\n",
      "./UCF101_subset/test/ApplyLipstick/v_ApplyLipstick_g06_c01.avi\r\n",
      "./UCF101_subset/test/ApplyLipstick/v_ApplyLipstick_g09_c04.avi\r\n",
      "./UCF101_subset/test/ApplyLipstick/v_ApplyLipstick_g13_c03.avi\r\n",
      "./UCF101_subset/test/ApplyLipstick/v_ApplyLipstick_g03_c01.avi\r\n",
      "./UCF101_subset/test/ApplyLipstick/v_ApplyLipstick_g21_c05.avi\r\n",
      "./UCF101_subset/test/ApplyLipstick/v_ApplyLipstick_g04_c05.avi\r\n",
      "./UCF101_subset/test/ApplyLipstick/v_ApplyLipstick_g10_c04.avi\r\n",
      "./UCF101_subset/test/ApplyLipstick/v_ApplyLipstick_g21_c01.avi\r\n",
      "./UCF101_subset/test/ApplyEyeMakeup\r\n",
      "./UCF101_subset/test/ApplyEyeMakeup/UCF101\r\n",
      "./UCF101_subset/test/ApplyEyeMakeup/v_ApplyEyeMakeup_g07_c06.avi\r\n",
      "./UCF101_subset/test/ApplyEyeMakeup/v_ApplyEyeMakeup_g07_c04.avi\r\n",
      "./UCF101_subset/test/ApplyEyeMakeup/v_ApplyEyeMakeup_g12_c01.avi\r\n",
      "./UCF101_subset/test/ApplyEyeMakeup/v_ApplyEyeMakeup_g17_c04.avi\r\n",
      "./UCF101_subset/test/ApplyEyeMakeup/v_ApplyEyeMakeup_g08_c05.avi\r\n",
      "./UCF101_subset/test/ApplyEyeMakeup/v_ApplyEyeMakeup_g20_c04.avi\r\n",
      "./UCF101_subset/test/ApplyEyeMakeup/v_ApplyEyeMakeup_g07_c02.avi\r\n",
      "./UCF101_subset/test/ApplyEyeMakeup/v_ApplyEyeMakeup_g16_c01.avi\r\n",
      "./UCF101_subset/test/ApplyEyeMakeup/v_ApplyEyeMakeup_g01_c05.avi\r\n",
      "./UCF101_subset/test/ApplyEyeMakeup/v_ApplyEyeMakeup_g13_c01.avi\r\n",
      "./UCF101_subset/test/BasketballDunk\r\n",
      "./UCF101_subset/test/BasketballDunk/UCF101\r\n",
      "./UCF101_subset/test/BasketballDunk/v_BasketballDunk_g03_c01.avi\r\n",
      "./UCF101_subset/test/BasketballDunk/v_BasketballDunk_g02_c03.avi\r\n",
      "./UCF101_subset/test/BasketballDunk/v_BasketballDunk_g02_c01.avi\r\n",
      "./UCF101_subset/test/BasketballDunk/v_BasketballDunk_g16_c04.avi\r\n",
      "./UCF101_subset/test/BasketballDunk/v_BasketballDunk_g18_c01.avi\r\n",
      "./UCF101_subset/test/BasketballDunk/v_BasketballDunk_g14_c04.avi\r\n",
      "./UCF101_subset/test/BasketballDunk/v_BasketballDunk_g11_c02.avi\r\n",
      "./UCF101_subset/test/BasketballDunk/v_BasketballDunk_g11_c04.avi\r\n",
      "./UCF101_subset/test/BasketballDunk/v_BasketballDunk_g17_c02.avi\r\n",
      "./UCF101_subset/test/BasketballDunk/v_BasketballDunk_g23_c03.avi\r\n",
      "./UCF101_subset/test/BalanceBeam\r\n",
      "./UCF101_subset/test/BalanceBeam/UCF101\r\n",
      "./UCF101_subset/test/BalanceBeam/v_BalanceBeam_g17_c05.avi\r\n",
      "./UCF101_subset/test/BalanceBeam/v_BalanceBeam_g21_c01.avi\r\n",
      "./UCF101_subset/test/BalanceBeam/v_BalanceBeam_g06_c05.avi\r\n",
      "./UCF101_subset/test/BalanceBeam/v_BalanceBeam_g13_c02.avi\r\n",
      "./UCF101_subset/test/BalanceBeam/v_BalanceBeam_g13_c04.avi\r\n",
      "./UCF101_subset/test/BalanceBeam/v_BalanceBeam_g24_c01.avi\r\n",
      "./UCF101_subset/test/BalanceBeam/v_BalanceBeam_g23_c04.avi\r\n",
      "./UCF101_subset/test/BalanceBeam/v_BalanceBeam_g20_c03.avi\r\n",
      "./UCF101_subset/test/BalanceBeam/v_BalanceBeam_g06_c03.avi\r\n",
      "./UCF101_subset/test/BalanceBeam/v_BalanceBeam_g18_c03.avi\r\n",
      "./UCF101_subset/test/BaseballPitch\r\n",
      "./UCF101_subset/test/BaseballPitch/UCF101\r\n",
      "./UCF101_subset/test/BaseballPitch/v_BaseballPitch_g08_c03.avi\r\n",
      "./UCF101_subset/test/BaseballPitch/v_BaseballPitch_g23_c01.avi\r\n",
      "./UCF101_subset/test/BaseballPitch/v_BaseballPitch_g25_c07.avi\r\n",
      "./UCF101_subset/test/BaseballPitch/v_BaseballPitch_g14_c02.avi\r\n",
      "./UCF101_subset/test/BaseballPitch/v_BaseballPitch_g10_c03.avi\r\n",
      "./UCF101_subset/test/BaseballPitch/v_BaseballPitch_g11_c04.avi\r\n",
      "./UCF101_subset/test/BaseballPitch/v_BaseballPitch_g02_c02.avi\r\n",
      "./UCF101_subset/test/BaseballPitch/v_BaseballPitch_g13_c03.avi\r\n",
      "./UCF101_subset/test/BaseballPitch/v_BaseballPitch_g05_c02.avi\r\n",
      "./UCF101_subset/test/BaseballPitch/v_BaseballPitch_g13_c07.avi\r\n",
      "./UCF101_subset/test/BenchPress\r\n",
      "./UCF101_subset/test/BenchPress/v_BenchPress_g16_c01.avi\r\n",
      "./UCF101_subset/test/BenchPress/UCF101\r\n",
      "./UCF101_subset/test/BenchPress/v_BenchPress_g01_c01.avi\r\n",
      "./UCF101_subset/test/BenchPress/v_BenchPress_g07_c02.avi\r\n",
      "./UCF101_subset/test/BenchPress/v_BenchPress_g08_c05.avi\r\n",
      "./UCF101_subset/test/BenchPress/v_BenchPress_g03_c02.avi\r\n",
      "./UCF101_subset/test/BenchPress/v_BenchPress_g03_c06.avi\r\n",
      "./UCF101_subset/test/BenchPress/v_BenchPress_g13_c05.avi\r\n",
      "./UCF101_subset/test/BenchPress/v_BenchPress_g05_c04.avi\r\n",
      "./UCF101_subset/test/BenchPress/v_BenchPress_g06_c03.avi\r\n",
      "./UCF101_subset/test/BenchPress/v_BenchPress_g15_c01.avi\r\n",
      "./UCF101_subset/test/Basketball\r\n",
      "./UCF101_subset/test/Basketball/UCF101\r\n",
      "./UCF101_subset/test/Basketball/v_Basketball_g13_c02.avi\r\n",
      "./UCF101_subset/test/Basketball/v_Basketball_g05_c04.avi\r\n",
      "./UCF101_subset/test/Basketball/v_Basketball_g25_c02.avi\r\n",
      "./UCF101_subset/test/Basketball/v_Basketball_g12_c05.avi\r\n",
      "./UCF101_subset/test/Basketball/v_Basketball_g01_c01.avi\r\n",
      "./UCF101_subset/test/Basketball/v_Basketball_g14_c02.avi\r\n",
      "./UCF101_subset/test/Basketball/v_Basketball_g04_c04.avi\r\n",
      "./UCF101_subset/test/Basketball/v_Basketball_g21_c03.avi\r\n",
      "./UCF101_subset/test/Basketball/v_Basketball_g23_c02.avi\r\n",
      "./UCF101_subset/test/Basketball/v_Basketball_g08_c02.avi\r\n",
      "./UCF101_subset/test/BandMarching\r\n",
      "./UCF101_subset/test/BandMarching/UCF101\r\n",
      "./UCF101_subset/test/BandMarching/v_BandMarching_g20_c06.avi\r\n",
      "./UCF101_subset/test/BandMarching/v_BandMarching_g11_c05.avi\r\n",
      "./UCF101_subset/test/BandMarching/v_BandMarching_g12_c04.avi\r\n",
      "./UCF101_subset/test/BandMarching/v_BandMarching_g13_c02.avi\r\n",
      "./UCF101_subset/test/BandMarching/v_BandMarching_g08_c06.avi\r\n",
      "./UCF101_subset/test/BandMarching/v_BandMarching_g02_c04.avi\r\n",
      "./UCF101_subset/test/BandMarching/v_BandMarching_g12_c02.avi\r\n",
      "./UCF101_subset/test/BandMarching/v_BandMarching_g06_c01.avi\r\n",
      "./UCF101_subset/test/BandMarching/v_BandMarching_g19_c07.avi\r\n",
      "./UCF101_subset/test/BandMarching/v_BandMarching_g24_c03.avi\r\n",
      "./UCF101_subset/test/Archery\r\n",
      "./UCF101_subset/test/Archery/UCF101\r\n",
      "./UCF101_subset/test/Archery/v_Archery_g09_c02.avi\r\n",
      "./UCF101_subset/test/Archery/v_Archery_g11_c06.avi\r\n",
      "./UCF101_subset/test/Archery/v_Archery_g02_c05.avi\r\n",
      "./UCF101_subset/test/Archery/v_Archery_g05_c04.avi\r\n",
      "./UCF101_subset/test/Archery/v_Archery_g22_c02.avi\r\n",
      "./UCF101_subset/test/Archery/v_Archery_g25_c02.avi\r\n",
      "./UCF101_subset/test/Archery/v_Archery_g06_c01.avi\r\n",
      "./UCF101_subset/test/Archery/v_Archery_g20_c07.avi\r\n",
      "./UCF101_subset/test/Archery/v_Archery_g07_c03.avi\r\n",
      "./UCF101_subset/test/Archery/v_Archery_g08_c03.avi\r\n",
      "./UCF101_subset/test/BabyCrawling\r\n",
      "./UCF101_subset/test/BabyCrawling/UCF101\r\n",
      "./UCF101_subset/test/BabyCrawling/v_BabyCrawling_g11_c01.avi\r\n",
      "./UCF101_subset/test/BabyCrawling/v_BabyCrawling_g16_c01.avi\r\n",
      "./UCF101_subset/test/BabyCrawling/v_BabyCrawling_g22_c02.avi\r\n",
      "./UCF101_subset/test/BabyCrawling/v_BabyCrawling_g09_c06.avi\r\n",
      "./UCF101_subset/test/BabyCrawling/v_BabyCrawling_g24_c03.avi\r\n",
      "./UCF101_subset/test/BabyCrawling/v_BabyCrawling_g20_c03.avi\r\n",
      "./UCF101_subset/test/BabyCrawling/v_BabyCrawling_g24_c05.avi\r\n",
      "./UCF101_subset/test/BabyCrawling/v_BabyCrawling_g02_c03.avi\r\n",
      "./UCF101_subset/test/BabyCrawling/v_BabyCrawling_g16_c05.avi\r\n",
      "./UCF101_subset/test/BabyCrawling/v_BabyCrawling_g20_c07.avi\r\n",
      "./UCF101_subset/train\r\n",
      "./UCF101_subset/train/ApplyLipstick\r\n",
      "./UCF101_subset/train/ApplyLipstick/UCF101\r\n",
      "./UCF101_subset/train/ApplyLipstick/v_ApplyLipstick_g15_c01.avi\r\n",
      "./UCF101_subset/train/ApplyLipstick/v_ApplyLipstick_g17_c03.avi\r\n",
      "./UCF101_subset/train/ApplyLipstick/v_ApplyLipstick_g07_c04.avi\r\n",
      "./UCF101_subset/train/ApplyLipstick/v_ApplyLipstick_g19_c04.avi\r\n",
      "./UCF101_subset/train/ApplyLipstick/v_ApplyLipstick_g14_c03.avi\r\n",
      "./UCF101_subset/train/ApplyLipstick/v_ApplyLipstick_g24_c01.avi\r\n",
      "./UCF101_subset/train/ApplyLipstick/v_ApplyLipstick_g12_c04.avi\r\n",
      "./UCF101_subset/train/ApplyLipstick/v_ApplyLipstick_g25_c04.avi\r\n",
      "./UCF101_subset/train/ApplyLipstick/v_ApplyLipstick_g06_c03.avi\r\n",
      "./UCF101_subset/train/ApplyLipstick/v_ApplyLipstick_g22_c04.avi\r\n",
      "./UCF101_subset/train/ApplyLipstick/v_ApplyLipstick_g16_c04.avi\r\n",
      "./UCF101_subset/train/ApplyLipstick/v_ApplyLipstick_g01_c02.avi\r\n",
      "./UCF101_subset/train/ApplyLipstick/v_ApplyLipstick_g11_c02.avi\r\n",
      "./UCF101_subset/train/ApplyLipstick/v_ApplyLipstick_g19_c02.avi\r\n",
      "./UCF101_subset/train/ApplyLipstick/v_ApplyLipstick_g09_c02.avi\r\n",
      "./UCF101_subset/train/ApplyLipstick/v_ApplyLipstick_g16_c02.avi\r\n",
      "./UCF101_subset/train/ApplyLipstick/v_ApplyLipstick_g08_c04.avi\r\n",
      "./UCF101_subset/train/ApplyLipstick/v_ApplyLipstick_g23_c01.avi\r\n",
      "./UCF101_subset/train/ApplyLipstick/v_ApplyLipstick_g04_c01.avi\r\n",
      "./UCF101_subset/train/ApplyLipstick/v_ApplyLipstick_g21_c03.avi\r\n",
      "./UCF101_subset/train/ApplyLipstick/v_ApplyLipstick_g22_c02.avi\r\n",
      "./UCF101_subset/train/ApplyLipstick/v_ApplyLipstick_g05_c02.avi\r\n",
      "./UCF101_subset/train/ApplyLipstick/v_ApplyLipstick_g01_c04.avi\r\n",
      "./UCF101_subset/train/ApplyLipstick/v_ApplyLipstick_g06_c05.avi\r\n",
      "./UCF101_subset/train/ApplyLipstick/v_ApplyLipstick_g18_c04.avi\r\n",
      "./UCF101_subset/train/ApplyLipstick/v_ApplyLipstick_g02_c03.avi\r\n",
      "./UCF101_subset/train/ApplyLipstick/v_ApplyLipstick_g18_c02.avi\r\n",
      "./UCF101_subset/train/ApplyLipstick/v_ApplyLipstick_g15_c03.avi\r\n",
      "./UCF101_subset/train/ApplyLipstick/v_ApplyLipstick_g11_c04.avi\r\n",
      "./UCF101_subset/train/ApplyLipstick/v_ApplyLipstick_g04_c03.avi\r\n",
      "./UCF101_subset/train/ApplyEyeMakeup\r\n",
      "./UCF101_subset/train/ApplyEyeMakeup/UCF101\r\n",
      "./UCF101_subset/train/ApplyEyeMakeup/v_ApplyEyeMakeup_g22_c05.avi\r\n",
      "./UCF101_subset/train/ApplyEyeMakeup/v_ApplyEyeMakeup_g01_c01.avi\r\n",
      "./UCF101_subset/train/ApplyEyeMakeup/v_ApplyEyeMakeup_g09_c02.avi\r\n",
      "./UCF101_subset/train/ApplyEyeMakeup/v_ApplyEyeMakeup_g04_c05.avi\r\n",
      "./UCF101_subset/train/ApplyEyeMakeup/v_ApplyEyeMakeup_g12_c05.avi\r\n",
      "./UCF101_subset/train/ApplyEyeMakeup/v_ApplyEyeMakeup_g05_c04.avi\r\n",
      "./UCF101_subset/train/ApplyEyeMakeup/v_ApplyEyeMakeup_g20_c06.avi\r\n",
      "./UCF101_subset/train/ApplyEyeMakeup/v_ApplyEyeMakeup_g11_c04.avi\r\n",
      "./UCF101_subset/train/ApplyEyeMakeup/v_ApplyEyeMakeup_g23_c02.avi\r\n",
      "./UCF101_subset/train/ApplyEyeMakeup/v_ApplyEyeMakeup_g05_c02.avi\r\n",
      "./UCF101_subset/train/ApplyEyeMakeup/v_ApplyEyeMakeup_g03_c05.avi\r\n",
      "./UCF101_subset/train/ApplyEyeMakeup/v_ApplyEyeMakeup_g14_c05.avi\r\n",
      "./UCF101_subset/train/ApplyEyeMakeup/v_ApplyEyeMakeup_g10_c03.avi\r\n",
      "./UCF101_subset/train/ApplyEyeMakeup/v_ApplyEyeMakeup_g13_c03.avi\r\n",
      "./UCF101_subset/train/ApplyEyeMakeup/v_ApplyEyeMakeup_g03_c03.avi\r\n",
      "./UCF101_subset/train/ApplyEyeMakeup/v_ApplyEyeMakeup_g16_c03.avi\r\n",
      "./UCF101_subset/train/ApplyEyeMakeup/v_ApplyEyeMakeup_g21_c02.avi\r\n",
      "./UCF101_subset/train/ApplyEyeMakeup/v_ApplyEyeMakeup_g25_c07.avi\r\n",
      "./UCF101_subset/train/ApplyEyeMakeup/v_ApplyEyeMakeup_g08_c01.avi\r\n",
      "./UCF101_subset/train/ApplyEyeMakeup/v_ApplyEyeMakeup_g20_c02.avi\r\n",
      "./UCF101_subset/train/ApplyEyeMakeup/v_ApplyEyeMakeup_g22_c01.avi\r\n",
      "./UCF101_subset/train/ApplyEyeMakeup/v_ApplyEyeMakeup_g18_c05.avi\r\n",
      "./UCF101_subset/train/ApplyEyeMakeup/v_ApplyEyeMakeup_g04_c01.avi\r\n",
      "./UCF101_subset/train/ApplyEyeMakeup/v_ApplyEyeMakeup_g25_c01.avi\r\n",
      "./UCF101_subset/train/ApplyEyeMakeup/v_ApplyEyeMakeup_g23_c04.avi\r\n",
      "./UCF101_subset/train/ApplyEyeMakeup/v_ApplyEyeMakeup_g15_c06.avi\r\n",
      "./UCF101_subset/train/ApplyEyeMakeup/v_ApplyEyeMakeup_g18_c03.avi\r\n",
      "./UCF101_subset/train/ApplyEyeMakeup/v_ApplyEyeMakeup_g21_c04.avi\r\n",
      "./UCF101_subset/train/ApplyEyeMakeup/v_ApplyEyeMakeup_g25_c05.avi\r\n",
      "./UCF101_subset/train/ApplyEyeMakeup/v_ApplyEyeMakeup_g18_c01.avi\r\n",
      "./UCF101_subset/train/BasketballDunk\r\n",
      "./UCF101_subset/train/BasketballDunk/v_BasketballDunk_g10_c01.avi\r\n",
      "./UCF101_subset/train/BasketballDunk/UCF101\r\n",
      "./UCF101_subset/train/BasketballDunk/v_BasketballDunk_g07_c03.avi\r\n",
      "./UCF101_subset/train/BasketballDunk/v_BasketballDunk_g09_c02.avi\r\n",
      "./UCF101_subset/train/BasketballDunk/v_BasketballDunk_g10_c03.avi\r\n",
      "./UCF101_subset/train/BasketballDunk/v_BasketballDunk_g18_c03.avi\r\n",
      "./UCF101_subset/train/BasketballDunk/v_BasketballDunk_g01_c04.avi\r\n",
      "./UCF101_subset/train/BasketballDunk/v_BasketballDunk_g17_c04.avi\r\n",
      "./UCF101_subset/train/BasketballDunk/v_BasketballDunk_g09_c04.avi\r\n",
      "./UCF101_subset/train/BasketballDunk/v_BasketballDunk_g24_c02.avi\r\n",
      "./UCF101_subset/train/BasketballDunk/v_BasketballDunk_g07_c05.avi\r\n",
      "./UCF101_subset/train/BasketballDunk/v_BasketballDunk_g05_c03.avi\r\n",
      "./UCF101_subset/train/BasketballDunk/v_BasketballDunk_g14_c06.avi\r\n",
      "./UCF101_subset/train/BasketballDunk/v_BasketballDunk_g24_c04.avi\r\n",
      "./UCF101_subset/train/BasketballDunk/v_BasketballDunk_g20_c05.avi\r\n",
      "./UCF101_subset/train/BasketballDunk/v_BasketballDunk_g14_c02.avi\r\n",
      "./UCF101_subset/train/BasketballDunk/v_BasketballDunk_g16_c06.avi\r\n",
      "./UCF101_subset/train/BasketballDunk/v_BasketballDunk_g19_c03.avi\r\n",
      "./UCF101_subset/train/BasketballDunk/v_BasketballDunk_g23_c01.avi\r\n",
      "./UCF101_subset/train/BasketballDunk/v_BasketballDunk_g15_c05.avi\r\n",
      "./UCF101_subset/train/BasketballDunk/v_BasketballDunk_g18_c05.avi\r\n",
      "./UCF101_subset/train/BasketballDunk/v_BasketballDunk_g19_c01.avi\r\n",
      "./UCF101_subset/train/BasketballDunk/v_BasketballDunk_g23_c05.avi\r\n",
      "./UCF101_subset/train/BasketballDunk/v_BasketballDunk_g06_c01.avi\r\n",
      "./UCF101_subset/train/BasketballDunk/v_BasketballDunk_g21_c03.avi\r\n",
      "./UCF101_subset/train/BasketballDunk/v_BasketballDunk_g21_c01.avi\r\n",
      "./UCF101_subset/train/BasketballDunk/v_BasketballDunk_g06_c03.avi\r\n",
      "./UCF101_subset/train/BasketballDunk/v_BasketballDunk_g25_c01.avi\r\n",
      "./UCF101_subset/train/BasketballDunk/v_BasketballDunk_g12_c03.avi\r\n",
      "./UCF101_subset/train/BasketballDunk/v_BasketballDunk_g17_c06.avi\r\n",
      "./UCF101_subset/train/BasketballDunk/v_BasketballDunk_g20_c03.avi\r\n",
      "./UCF101_subset/train/BalanceBeam\r\n",
      "./UCF101_subset/train/BalanceBeam/UCF101\r\n",
      "./UCF101_subset/train/BalanceBeam/v_BalanceBeam_g23_c02.avi\r\n",
      "./UCF101_subset/train/BalanceBeam/v_BalanceBeam_g09_c04.avi\r\n",
      "./UCF101_subset/train/BalanceBeam/v_BalanceBeam_g02_c01.avi\r\n",
      "./UCF101_subset/train/BalanceBeam/v_BalanceBeam_g11_c02.avi\r\n",
      "./UCF101_subset/train/BalanceBeam/v_BalanceBeam_g02_c03.avi\r\n",
      "./UCF101_subset/train/BalanceBeam/v_BalanceBeam_g06_c01.avi\r\n",
      "./UCF101_subset/train/BalanceBeam/v_BalanceBeam_g17_c01.avi\r\n",
      "./UCF101_subset/train/BalanceBeam/v_BalanceBeam_g25_c03.avi\r\n",
      "./UCF101_subset/train/BalanceBeam/v_BalanceBeam_g10_c02.avi\r\n",
      "./UCF101_subset/train/BalanceBeam/v_BalanceBeam_g15_c03.avi\r\n",
      "./UCF101_subset/train/BalanceBeam/v_BalanceBeam_g12_c04.avi\r\n",
      "./UCF101_subset/train/BalanceBeam/v_BalanceBeam_g07_c02.avi\r\n",
      "./UCF101_subset/train/BalanceBeam/v_BalanceBeam_g16_c01.avi\r\n",
      "./UCF101_subset/train/BalanceBeam/v_BalanceBeam_g08_c02.avi\r\n",
      "./UCF101_subset/train/BalanceBeam/v_BalanceBeam_g04_c01.avi\r\n",
      "./UCF101_subset/train/BalanceBeam/v_BalanceBeam_g04_c03.avi\r\n",
      "./UCF101_subset/train/BalanceBeam/v_BalanceBeam_g21_c05.avi\r\n",
      "./UCF101_subset/train/BalanceBeam/v_BalanceBeam_g24_c03.avi\r\n",
      "./UCF101_subset/train/BalanceBeam/v_BalanceBeam_g11_c04.avi\r\n",
      "./UCF101_subset/train/BalanceBeam/v_BalanceBeam_g08_c04.avi\r\n",
      "./UCF101_subset/train/BalanceBeam/v_BalanceBeam_g05_c03.avi\r\n",
      "./UCF101_subset/train/BalanceBeam/v_BalanceBeam_g22_c02.avi\r\n",
      "./UCF101_subset/train/BalanceBeam/v_BalanceBeam_g12_c02.avi\r\n",
      "./UCF101_subset/train/BalanceBeam/v_BalanceBeam_g01_c03.avi\r\n",
      "./UCF101_subset/train/BalanceBeam/v_BalanceBeam_g07_c04.avi\r\n",
      "./UCF101_subset/train/BalanceBeam/v_BalanceBeam_g01_c01.avi\r\n",
      "./UCF101_subset/train/BalanceBeam/v_BalanceBeam_g18_c01.avi\r\n",
      "./UCF101_subset/train/BalanceBeam/v_BalanceBeam_g25_c01.avi\r\n",
      "./UCF101_subset/train/BalanceBeam/v_BalanceBeam_g05_c01.avi\r\n",
      "./UCF101_subset/train/BalanceBeam/v_BalanceBeam_g21_c03.avi\r\n",
      "./UCF101_subset/train/BaseballPitch\r\n",
      "./UCF101_subset/train/BaseballPitch/UCF101\r\n",
      "./UCF101_subset/train/BaseballPitch/v_BaseballPitch_g23_c07.avi\r\n",
      "./UCF101_subset/train/BaseballPitch/v_BaseballPitch_g17_c01.avi\r\n",
      "./UCF101_subset/train/BaseballPitch/v_BaseballPitch_g19_c05.avi\r\n",
      "./UCF101_subset/train/BaseballPitch/v_BaseballPitch_g04_c05.avi\r\n",
      "./UCF101_subset/train/BaseballPitch/v_BaseballPitch_g09_c04.avi\r\n",
      "./UCF101_subset/train/BaseballPitch/v_BaseballPitch_g24_c04.avi\r\n",
      "./UCF101_subset/train/BaseballPitch/v_BaseballPitch_g15_c02.avi\r\n",
      "./UCF101_subset/train/BaseballPitch/v_BaseballPitch_g08_c05.avi\r\n",
      "./UCF101_subset/train/BaseballPitch/v_BaseballPitch_g11_c02.avi\r\n",
      "./UCF101_subset/train/BaseballPitch/v_BaseballPitch_g21_c04.avi\r\n",
      "./UCF101_subset/train/BaseballPitch/v_BaseballPitch_g10_c05.avi\r\n",
      "./UCF101_subset/train/BaseballPitch/v_BaseballPitch_g23_c03.avi\r\n",
      "./UCF101_subset/train/BaseballPitch/v_BaseballPitch_g17_c05.avi\r\n",
      "./UCF101_subset/train/BaseballPitch/v_BaseballPitch_g16_c03.avi\r\n",
      "./UCF101_subset/train/BaseballPitch/v_BaseballPitch_g01_c02.avi\r\n",
      "./UCF101_subset/train/BaseballPitch/v_BaseballPitch_g01_c04.avi\r\n",
      "./UCF101_subset/train/BaseballPitch/v_BaseballPitch_g07_c06.avi\r\n",
      "./UCF101_subset/train/BaseballPitch/v_BaseballPitch_g14_c04.avi\r\n",
      "./UCF101_subset/train/BaseballPitch/v_BaseballPitch_g17_c07.avi\r\n",
      "./UCF101_subset/train/BaseballPitch/v_BaseballPitch_g22_c06.avi\r\n",
      "./UCF101_subset/train/BaseballPitch/v_BaseballPitch_g17_c03.avi\r\n",
      "./UCF101_subset/train/BaseballPitch/v_BaseballPitch_g16_c01.avi\r\n",
      "./UCF101_subset/train/BaseballPitch/v_BaseballPitch_g24_c02.avi\r\n",
      "./UCF101_subset/train/BaseballPitch/v_BaseballPitch_g09_c02.avi\r\n",
      "./UCF101_subset/train/BaseballPitch/v_BaseballPitch_g08_c07.avi\r\n",
      "./UCF101_subset/train/BaseballPitch/v_BaseballPitch_g19_c01.avi\r\n",
      "./UCF101_subset/train/BaseballPitch/v_BaseballPitch_g12_c03.avi\r\n",
      "./UCF101_subset/train/BaseballPitch/v_BaseballPitch_g25_c05.avi\r\n",
      "./UCF101_subset/train/BaseballPitch/v_BaseballPitch_g08_c01.avi\r\n",
      "./UCF101_subset/train/BaseballPitch/v_BaseballPitch_g13_c01.avi\r\n",
      "./UCF101_subset/train/BenchPress\r\n",
      "./UCF101_subset/train/BenchPress/UCF101\r\n",
      "./UCF101_subset/train/BenchPress/v_BenchPress_g19_c06.avi\r\n",
      "./UCF101_subset/train/BenchPress/v_BenchPress_g18_c01.avi\r\n",
      "./UCF101_subset/train/BenchPress/v_BenchPress_g21_c01.avi\r\n",
      "./UCF101_subset/train/BenchPress/v_BenchPress_g14_c02.avi\r\n",
      "./UCF101_subset/train/BenchPress/v_BenchPress_g08_c01.avi\r\n",
      "./UCF101_subset/train/BenchPress/v_BenchPress_g15_c03.avi\r\n",
      "./UCF101_subset/train/BenchPress/v_BenchPress_g01_c03.avi\r\n",
      "./UCF101_subset/train/BenchPress/v_BenchPress_g13_c07.avi\r\n",
      "./UCF101_subset/train/BenchPress/v_BenchPress_g12_c02.avi\r\n",
      "./UCF101_subset/train/BenchPress/v_BenchPress_g18_c05.avi\r\n",
      "./UCF101_subset/train/BenchPress/v_BenchPress_g23_c04.avi\r\n",
      "./UCF101_subset/train/BenchPress/v_BenchPress_g22_c07.avi\r\n",
      "./UCF101_subset/train/BenchPress/v_BenchPress_g06_c07.avi\r\n",
      "./UCF101_subset/train/BenchPress/v_BenchPress_g22_c05.avi\r\n",
      "./UCF101_subset/train/BenchPress/v_BenchPress_g16_c03.avi\r\n",
      "./UCF101_subset/train/BenchPress/v_BenchPress_g11_c05.avi\r\n",
      "./UCF101_subset/train/BenchPress/v_BenchPress_g17_c02.avi\r\n",
      "./UCF101_subset/train/BenchPress/v_BenchPress_g05_c06.avi\r\n",
      "./UCF101_subset/train/BenchPress/v_BenchPress_g02_c07.avi\r\n",
      "./UCF101_subset/train/BenchPress/v_BenchPress_g24_c05.avi\r\n",
      "./UCF101_subset/train/BenchPress/v_BenchPress_g25_c02.avi\r\n",
      "./UCF101_subset/train/BenchPress/v_BenchPress_g04_c03.avi\r\n",
      "./UCF101_subset/train/BenchPress/v_BenchPress_g09_c04.avi\r\n",
      "./UCF101_subset/train/BenchPress/v_BenchPress_g12_c06.avi\r\n",
      "./UCF101_subset/train/BenchPress/v_BenchPress_g09_c06.avi\r\n",
      "./UCF101_subset/train/BenchPress/v_BenchPress_g04_c01.avi\r\n",
      "./UCF101_subset/train/BenchPress/v_BenchPress_g17_c06.avi\r\n",
      "./UCF101_subset/train/BenchPress/v_BenchPress_g16_c05.avi\r\n",
      "./UCF101_subset/train/BenchPress/v_BenchPress_g25_c06.avi\r\n",
      "./UCF101_subset/train/BenchPress/v_BenchPress_g18_c07.avi\r\n",
      "./UCF101_subset/train/Basketball\r\n",
      "./UCF101_subset/train/Basketball/v_Basketball_g02_c04.avi\r\n",
      "./UCF101_subset/train/Basketball/v_Basketball_g23_c04.avi\r\n",
      "./UCF101_subset/train/Basketball/v_Basketball_g15_c01.avi\r\n",
      "./UCF101_subset/train/Basketball/UCF101\r\n",
      "./UCF101_subset/train/Basketball/v_Basketball_g14_c04.avi\r\n",
      "./UCF101_subset/train/Basketball/v_Basketball_g25_c04.avi\r\n",
      "./UCF101_subset/train/Basketball/v_Basketball_g22_c05.avi\r\n",
      "./UCF101_subset/train/Basketball/v_Basketball_g16_c06.avi\r\n",
      "./UCF101_subset/train/Basketball/v_Basketball_g18_c04.avi\r\n",
      "./UCF101_subset/train/Basketball/v_Basketball_g24_c04.avi\r\n",
      "./UCF101_subset/train/Basketball/v_Basketball_g21_c01.avi\r\n",
      "./UCF101_subset/train/Basketball/v_Basketball_g04_c02.avi\r\n",
      "./UCF101_subset/train/Basketball/v_Basketball_g01_c05.avi\r\n",
      "./UCF101_subset/train/Basketball/v_Basketball_g13_c04.avi\r\n",
      "./UCF101_subset/train/Basketball/v_Basketball_g05_c02.avi\r\n",
      "./UCF101_subset/train/Basketball/v_Basketball_g03_c04.avi\r\n",
      "./UCF101_subset/train/Basketball/v_Basketball_g21_c05.avi\r\n",
      "./UCF101_subset/train/Basketball/v_Basketball_g19_c01.avi\r\n",
      "./UCF101_subset/train/Basketball/v_Basketball_g12_c03.avi\r\n",
      "./UCF101_subset/train/Basketball/v_Basketball_g22_c01.avi\r\n",
      "./UCF101_subset/train/Basketball/v_Basketball_g02_c02.avi\r\n",
      "./UCF101_subset/train/Basketball/v_Basketball_g11_c02.avi\r\n",
      "./UCF101_subset/train/Basketball/v_Basketball_g06_c02.avi\r\n",
      "./UCF101_subset/train/Basketball/v_Basketball_g19_c05.avi\r\n",
      "./UCF101_subset/train/Basketball/v_Basketball_g02_c06.avi\r\n",
      "./UCF101_subset/train/Basketball/v_Basketball_g09_c02.avi\r\n",
      "./UCF101_subset/train/Basketball/v_Basketball_g17_c02.avi\r\n",
      "./UCF101_subset/train/Basketball/v_Basketball_g11_c04.avi\r\n",
      "./UCF101_subset/train/Basketball/v_Basketball_g22_c03.avi\r\n",
      "./UCF101_subset/train/Basketball/v_Basketball_g18_c02.avi\r\n",
      "./UCF101_subset/train/Basketball/v_Basketball_g06_c04.avi\r\n",
      "./UCF101_subset/train/BandMarching\r\n",
      "./UCF101_subset/train/BandMarching/v_BandMarching_g08_c04.avi\r\n",
      "./UCF101_subset/train/BandMarching/v_BandMarching_g16_c06.avi\r\n",
      "./UCF101_subset/train/BandMarching/UCF101\r\n",
      "./UCF101_subset/train/BandMarching/v_BandMarching_g14_c01.avi\r\n",
      "./UCF101_subset/train/BandMarching/v_BandMarching_g09_c01.avi\r\n",
      "./UCF101_subset/train/BandMarching/v_BandMarching_g25_c07.avi\r\n",
      "./UCF101_subset/train/BandMarching/v_BandMarching_g01_c01.avi\r\n",
      "./UCF101_subset/train/BandMarching/v_BandMarching_g02_c06.avi\r\n",
      "./UCF101_subset/train/BandMarching/v_BandMarching_g04_c04.avi\r\n",
      "./UCF101_subset/train/BandMarching/v_BandMarching_g07_c05.avi\r\n",
      "./UCF101_subset/train/BandMarching/v_BandMarching_g14_c05.avi\r\n",
      "./UCF101_subset/train/BandMarching/v_BandMarching_g20_c04.avi\r\n",
      "./UCF101_subset/train/BandMarching/v_BandMarching_g02_c02.avi\r\n",
      "./UCF101_subset/train/BandMarching/v_BandMarching_g04_c02.avi\r\n",
      "./UCF101_subset/train/BandMarching/v_BandMarching_g20_c02.avi\r\n",
      "./UCF101_subset/train/BandMarching/v_BandMarching_g11_c03.avi\r\n",
      "./UCF101_subset/train/BandMarching/v_BandMarching_g07_c03.avi\r\n",
      "./UCF101_subset/train/BandMarching/v_BandMarching_g07_c01.avi\r\n",
      "./UCF101_subset/train/BandMarching/v_BandMarching_g23_c01.avi\r\n",
      "./UCF101_subset/train/BandMarching/v_BandMarching_g07_c07.avi\r\n",
      "./UCF101_subset/train/BandMarching/v_BandMarching_g19_c03.avi\r\n",
      "./UCF101_subset/train/BandMarching/v_BandMarching_g19_c01.avi\r\n",
      "./UCF101_subset/train/BandMarching/v_BandMarching_g16_c04.avi\r\n",
      "./UCF101_subset/train/BandMarching/v_BandMarching_g21_c06.avi\r\n",
      "./UCF101_subset/train/BandMarching/v_BandMarching_g17_c03.avi\r\n",
      "./UCF101_subset/train/BandMarching/v_BandMarching_g09_c05.avi\r\n",
      "./UCF101_subset/train/BandMarching/v_BandMarching_g21_c04.avi\r\n",
      "./UCF101_subset/train/BandMarching/v_BandMarching_g12_c06.avi\r\n",
      "./UCF101_subset/train/BandMarching/v_BandMarching_g03_c07.avi\r\n",
      "./UCF101_subset/train/BandMarching/v_BandMarching_g11_c01.avi\r\n",
      "./UCF101_subset/train/BandMarching/v_BandMarching_g08_c02.avi\r\n",
      "./UCF101_subset/train/Archery\r\n",
      "./UCF101_subset/train/Archery/UCF101\r\n",
      "./UCF101_subset/train/Archery/v_Archery_g23_c07.avi\r\n",
      "./UCF101_subset/train/Archery/v_Archery_g07_c05.avi\r\n",
      "./UCF101_subset/train/Archery/v_Archery_g24_c04.avi\r\n",
      "./UCF101_subset/train/Archery/v_Archery_g25_c04.avi\r\n",
      "./UCF101_subset/train/Archery/v_Archery_g06_c05.avi\r\n",
      "./UCF101_subset/train/Archery/v_Archery_g14_c02.avi\r\n",
      "./UCF101_subset/train/Archery/v_Archery_g05_c02.avi\r\n",
      "./UCF101_subset/train/Archery/v_Archery_g19_c03.avi\r\n",
      "./UCF101_subset/train/Archery/v_Archery_g10_c07.avi\r\n",
      "./UCF101_subset/train/Archery/v_Archery_g23_c03.avi\r\n",
      "./UCF101_subset/train/Archery/v_Archery_g02_c01.avi\r\n",
      "./UCF101_subset/train/Archery/v_Archery_g01_c02.avi\r\n",
      "./UCF101_subset/train/Archery/v_Archery_g13_c03.avi\r\n",
      "./UCF101_subset/train/Archery/v_Archery_g22_c04.avi\r\n",
      "./UCF101_subset/train/Archery/v_Archery_g21_c02.avi\r\n",
      "./UCF101_subset/train/Archery/v_Archery_g20_c05.avi\r\n",
      "./UCF101_subset/train/Archery/v_Archery_g10_c01.avi\r\n",
      "./UCF101_subset/train/Archery/v_Archery_g11_c02.avi\r\n",
      "./UCF101_subset/train/Archery/v_Archery_g10_c03.avi\r\n",
      "./UCF101_subset/train/Archery/v_Archery_g17_c04.avi\r\n",
      "./UCF101_subset/train/Archery/v_Archery_g13_c01.avi\r\n",
      "./UCF101_subset/train/Archery/v_Archery_g03_c04.avi\r\n",
      "./UCF101_subset/train/Archery/v_Archery_g02_c03.avi\r\n",
      "./UCF101_subset/train/Archery/v_Archery_g12_c01.avi\r\n",
      "./UCF101_subset/train/Archery/v_Archery_g15_c02.avi\r\n",
      "./UCF101_subset/train/Archery/v_Archery_g18_c02.avi\r\n",
      "./UCF101_subset/train/Archery/v_Archery_g16_c03.avi\r\n",
      "./UCF101_subset/train/Archery/v_Archery_g01_c06.avi\r\n",
      "./UCF101_subset/train/Archery/v_Archery_g07_c01.avi\r\n",
      "./UCF101_subset/train/Archery/v_Archery_g18_c06.avi\r\n",
      "./UCF101_subset/train/BabyCrawling\r\n",
      "./UCF101_subset/train/BabyCrawling/UCF101\r\n",
      "./UCF101_subset/train/BabyCrawling/v_BabyCrawling_g18_c02.avi\r\n",
      "./UCF101_subset/train/BabyCrawling/v_BabyCrawling_g19_c04.avi\r\n",
      "./UCF101_subset/train/BabyCrawling/v_BabyCrawling_g14_c03.avi\r\n",
      "./UCF101_subset/train/BabyCrawling/v_BabyCrawling_g09_c04.avi\r\n",
      "./UCF101_subset/train/BabyCrawling/v_BabyCrawling_g05_c05.avi\r\n",
      "./UCF101_subset/train/BabyCrawling/v_BabyCrawling_g17_c05.avi\r\n",
      "./UCF101_subset/train/BabyCrawling/v_BabyCrawling_g17_c03.avi\r\n",
      "./UCF101_subset/train/BabyCrawling/v_BabyCrawling_g13_c01.avi\r\n",
      "./UCF101_subset/train/BabyCrawling/v_BabyCrawling_g15_c05.avi\r\n",
      "./UCF101_subset/train/BabyCrawling/v_BabyCrawling_g22_c06.avi\r\n",
      "./UCF101_subset/train/BabyCrawling/v_BabyCrawling_g07_c04.avi\r\n",
      "./UCF101_subset/train/BabyCrawling/v_BabyCrawling_g13_c03.avi\r\n",
      "./UCF101_subset/train/BabyCrawling/v_BabyCrawling_g10_c04.avi\r\n",
      "./UCF101_subset/train/BabyCrawling/v_BabyCrawling_g02_c01.avi\r\n",
      "./UCF101_subset/train/BabyCrawling/v_BabyCrawling_g15_c03.avi\r\n",
      "./UCF101_subset/train/BabyCrawling/v_BabyCrawling_g09_c02.avi\r\n",
      "./UCF101_subset/train/BabyCrawling/v_BabyCrawling_g05_c01.avi\r\n",
      "./UCF101_subset/train/BabyCrawling/v_BabyCrawling_g25_c05.avi\r\n",
      "./UCF101_subset/train/BabyCrawling/v_BabyCrawling_g06_c04.avi\r\n",
      "./UCF101_subset/train/BabyCrawling/v_BabyCrawling_g05_c03.avi\r\n",
      "./UCF101_subset/train/BabyCrawling/v_BabyCrawling_g11_c03.avi\r\n",
      "./UCF101_subset/train/BabyCrawling/v_BabyCrawling_g06_c02.avi\r\n",
      "./UCF101_subset/train/BabyCrawling/v_BabyCrawling_g22_c04.avi\r\n",
      "./UCF101_subset/train/BabyCrawling/v_BabyCrawling_g23_c01.avi\r\n",
      "./UCF101_subset/train/BabyCrawling/v_BabyCrawling_g04_c01.avi\r\n",
      "./UCF101_subset/train/BabyCrawling/v_BabyCrawling_g03_c03.avi\r\n",
      "./UCF101_subset/train/BabyCrawling/v_BabyCrawling_g12_c03.avi\r\n",
      "./UCF101_subset/train/BabyCrawling/v_BabyCrawling_g20_c05.avi\r\n",
      "./UCF101_subset/train/BabyCrawling/v_BabyCrawling_g14_c01.avi\r\n",
      "./UCF101_subset/train/BabyCrawling/v_BabyCrawling_g18_c04.avi\r\n"
     ]
    }
   ],
   "source": [
    "!find ./UCF101_subset"
   ]
  },
  {
   "cell_type": "markdown",
   "metadata": {
    "id": "U4uslY4dScyu"
   },
   "source": [
    "## Create frames from each video file"
   ]
  },
  {
   "cell_type": "markdown",
   "metadata": {
    "id": "D1vvyT0F7JAZ"
   },
   "source": [
    "The `frames_from_video_file` function splits the videos into frames, reads a randomly chosen span of `n_frames` out of a video file, and returns them as a NumPy `array`.\n",
    "To reduce memory and computation overhead, choose a **small** number of frames. In addition, pick the **same** number of frames from each video, which makes it easier to work on batches of data.\n"
   ]
  },
  {
   "cell_type": "code",
   "execution_count": 21,
   "metadata": {
    "execution": {
     "iopub.execute_input": "2023-01-07T02:25:53.223252Z",
     "iopub.status.busy": "2023-01-07T02:25:53.223009Z",
     "iopub.status.idle": "2023-01-07T02:25:53.227045Z",
     "shell.execute_reply": "2023-01-07T02:25:53.226442Z"
    },
    "id": "vNBCiV3bMzpD"
   },
   "outputs": [],
   "source": [
    "def format_frames(frame, output_size):\n",
    "  \"\"\"\n",
    "    Pad and resize an image from a video.\n",
    "    \n",
    "    Args:\n",
    "      frame: Image that needs to resized and padded. \n",
    "      output_size: Pixel size of the output frame image.\n",
    "\n",
    "    Return:\n",
    "      Formatted frame with padding of specified output size.\n",
    "  \"\"\"\n",
    "  frame = tf.image.convert_image_dtype(frame, tf.float32)\n",
    "  frame = tf.image.resize_with_pad(frame, *output_size)\n",
    "  return frame"
   ]
  },
  {
   "cell_type": "code",
   "execution_count": 22,
   "metadata": {
    "execution": {
     "iopub.execute_input": "2023-01-07T02:25:53.230322Z",
     "iopub.status.busy": "2023-01-07T02:25:53.229782Z",
     "iopub.status.idle": "2023-01-07T02:25:53.235610Z",
     "shell.execute_reply": "2023-01-07T02:25:53.235072Z"
    },
    "id": "9ujLDC9G7JyE"
   },
   "outputs": [],
   "source": [
    "def frames_from_video_file(video_path, n_frames, output_size = (224,224), frame_step = 15):\n",
    "  \"\"\"\n",
    "    Creates frames from each video file present for each category.\n",
    "\n",
    "    Args:\n",
    "      video_path: File path to the video.\n",
    "      n_frames: Number of frames to be created per video file.\n",
    "      output_size: Pixel size of the output frame image.\n",
    "\n",
    "    Return:\n",
    "      An NumPy array of frames in the shape of (n_frames, height, width, channels).\n",
    "  \"\"\"\n",
    "  # Read each video frame by frame\n",
    "  result = []\n",
    "  src = cv2.VideoCapture(str(video_path))  \n",
    "\n",
    "  video_length = src.get(cv2.CAP_PROP_FRAME_COUNT)\n",
    "\n",
    "  need_length = 1 + (n_frames - 1) * frame_step\n",
    "\n",
    "  if need_length > video_length:\n",
    "    start = 0\n",
    "  else:\n",
    "    max_start = video_length - need_length\n",
    "    start = random.randint(0, max_start + 1)\n",
    "\n",
    "  src.set(cv2.CAP_PROP_POS_FRAMES, start)\n",
    "  # ret is a boolean indicating whether read was successful, frame is the image itself\n",
    "  ret, frame = src.read()\n",
    "  result.append(format_frames(frame, output_size))\n",
    "\n",
    "  for _ in range(n_frames - 1):\n",
    "    for _ in range(frame_step):\n",
    "      ret, frame = src.read()\n",
    "    if ret:\n",
    "      frame = format_frames(frame, output_size)\n",
    "      result.append(frame)\n",
    "    else:\n",
    "      result.append(np.zeros_like(result[0]))\n",
    "  src.release()\n",
    "  result = np.array(result)[..., [2, 1, 0]]\n",
    "\n",
    "  return result"
   ]
  },
  {
   "cell_type": "markdown",
   "metadata": {
    "id": "1ENtlwhxwyTe"
   },
   "source": [
    "## Visualize video data\n",
    "\n",
    "The `frames_from_video_file` function that returns a set of frames as a NumPy array. Try using this function on a new video from [Wikimedia](https://commons.wikimedia.org/wiki/Category:Videos_of_sports){:.external} by Patrick Gillett:"
   ]
  },
  {
   "cell_type": "code",
   "execution_count": 23,
   "metadata": {
    "execution": {
     "iopub.execute_input": "2023-01-07T02:25:53.238907Z",
     "iopub.status.busy": "2023-01-07T02:25:53.238460Z",
     "iopub.status.idle": "2023-01-07T02:25:55.504918Z",
     "shell.execute_reply": "2023-01-07T02:25:55.503891Z"
    },
    "id": "Z2hgSghlykzA"
   },
   "outputs": [
    {
     "name": "stdout",
     "output_type": "stream",
     "text": [
      "  % Total    % Received % Xferd  Average Speed   Time    Time     Time  Current\r\n",
      "                                 Dload  Upload   Total   Spent    Left  Speed\r\n",
      "\r",
      "  0     0    0     0    0     0      0      0 --:--:-- --:--:-- --:--:--     0"
     ]
    },
    {
     "name": "stdout",
     "output_type": "stream",
     "text": [
      "\r",
      "  0 55.0M    0 97800    0     0   510k      0  0:01:50 --:--:--  0:01:50  508k"
     ]
    },
    {
     "name": "stdout",
     "output_type": "stream",
     "text": [
      "\r",
      " 50 55.0M   50 27.6M    0     0  23.2M      0  0:00:02  0:00:01  0:00:01 23.2M"
     ]
    },
    {
     "name": "stdout",
     "output_type": "stream",
     "text": [
      "\r",
      "100 55.0M  100 55.0M    0     0  25.8M      0  0:00:02  0:00:02 --:--:-- 25.8M\r\n"
     ]
    }
   ],
   "source": [
    "!curl -O https://upload.wikimedia.org/wikipedia/commons/8/86/End_of_a_jam.ogv"
   ]
  },
  {
   "cell_type": "code",
   "execution_count": 24,
   "metadata": {
    "execution": {
     "iopub.execute_input": "2023-01-07T02:25:55.509394Z",
     "iopub.status.busy": "2023-01-07T02:25:55.508754Z",
     "iopub.status.idle": "2023-01-07T02:25:55.512375Z",
     "shell.execute_reply": "2023-01-07T02:25:55.511765Z"
    },
    "id": "xdHvHw3hym-U"
   },
   "outputs": [],
   "source": [
    "video_path = \"End_of_a_jam.ogv\""
   ]
  },
  {
   "cell_type": "code",
   "execution_count": 25,
   "metadata": {
    "execution": {
     "iopub.execute_input": "2023-01-07T02:25:55.515794Z",
     "iopub.status.busy": "2023-01-07T02:25:55.515317Z",
     "iopub.status.idle": "2023-01-07T02:25:59.276967Z",
     "shell.execute_reply": "2023-01-07T02:25:59.276307Z"
    },
    "id": "u845YODXyqo5"
   },
   "outputs": [
    {
     "data": {
      "text/plain": [
       "(10, 224, 224, 3)"
      ]
     },
     "execution_count": 25,
     "metadata": {},
     "output_type": "execute_result"
    }
   ],
   "source": [
    "sample_video = frames_from_video_file(video_path, n_frames = 10)\n",
    "sample_video.shape"
   ]
  },
  {
   "cell_type": "code",
   "execution_count": 26,
   "metadata": {
    "execution": {
     "iopub.execute_input": "2023-01-07T02:25:59.280190Z",
     "iopub.status.busy": "2023-01-07T02:25:59.279750Z",
     "iopub.status.idle": "2023-01-07T02:25:59.283631Z",
     "shell.execute_reply": "2023-01-07T02:25:59.283079Z"
    },
    "id": "zFHGHiFgGjv2"
   },
   "outputs": [],
   "source": [
    "def to_gif(images):\n",
    "  converted_images = np.clip(images * 255, 0, 255).astype(np.uint8)\n",
    "  imageio.mimsave('./animation.gif', converted_images, fps=10)\n",
    "  return embed.embed_file('./animation.gif')"
   ]
  },
  {
   "cell_type": "code",
   "execution_count": 27,
   "metadata": {
    "execution": {
     "iopub.execute_input": "2023-01-07T02:25:59.286453Z",
     "iopub.status.busy": "2023-01-07T02:25:59.286000Z",
     "iopub.status.idle": "2023-01-07T02:25:59.589747Z",
     "shell.execute_reply": "2023-01-07T02:25:59.589110Z"
    },
    "id": "7hiwUJenEN3p"
   },
   "outputs": [
    {
     "data": {
      "text/html": [
       "<img src=\"data:image/gif;base64,R0lGODlh4ADgAIcAAP///////uno5dHNs8rEqcS+s7m6vsa8osS8ib+1ob2xmcCziruwhLW0uKyxvrKwp7avibWrm7erj7qqibSoibiqg7Smg7WmfrWoca2qrK+ok6+mfq+kgKiprainmqOosZynv7OigLGhf66hhK6fe6qhj6qffqmbgbGgd6yfeKydd6mZd66ec66fZ6uYa6Ogn6Seh6Kaj6OYgKScdKOYdKKWdqKWaZugrZuZmZyXgZyXbpWds5WXk5GYq4yXrKiSaamIYKGRdqGKWZ6Sd52RZ52MZp6CVZiRhJmQdZmQcJmQZpiKb5iFbJiIXJh+S4+SopGSjI+Oj4+MhpKOd5CJdpKKbJKKYZCGd5GGZo9/a5CDX5GCV498W5B7TImQpYiMmoaJl4SGkoiKfIeGeYaDeomDZIaAeId/ZYV8aoV4aod+WoZ6WIV3WYZ2TX+Fl36Aj39/f39+bH96bX53b393Xn92UHp+j3p7d3l2c3p2WXZ6hXZ1cHN3fWx3gpxtPY1oO4NuVINoLnlxZHpxT3ppU3pmNnFyeXJxaXBtaHBoZ3FuWnJtS3FmT3JjNGtucmtpamdpbF1pd2VkZmRhZF9gZFpfZ2ppWmpoT2diVmlhP2NiUl1hV2BdT1pdVX9WLm5WK2NWPFtYWVxWP1dZW1ZXWVZVWVdXTFdRQ1FWXlJUU1BRVlBQUVBSS09PSk5NSmtJLVZJPE1KRUpKTUpJREdJS0ZGSUZGQldDMURDP0JDQ1w9LkY+N001K1sZIyxUWDxDQ0BAQDxARD4+QT49ODw9PTY9QDs7PDg6PDg4Ojg3Njo4LzQ3OjU1My42OzU0NTI0NTUxNTAzNC8wMzExMDQxKDIsKCwvNCwuLCssLisrKCgsMCgqJx8tMikoKSYnKCglKSsmHy0gGCMmKyMkIyIiJSIfHB8iJh8gHx4eIh4dGxogJRkcIhsbGRYcGRwYGRgYFxcYGBsTFhQWGBMUEhIRERASEw0SEg4PDwsMDgoLCQgICQYFBQIDBA4AAwAAAwAAACH/C05FVFNDQVBFMi4wAwH//wAh+QQICgAAACwAAAAA4ADgAAAI/wD/CRxIsKDBgwgTKlzIsKHDhxAjSpxIsaLFixgzatzIsaPHjyBDihxJsqTJkyhTqlzJsqXLlzBjypxJs6bNmzhz6tzJs6fPn0CDCh1KtKjRo0iTKl3KtKnTp1CjSp1KtarVq1izat3KtavXr2DDih1LtqzZs2jTql3Ltq3bt3Djyp1Lt67du3jz6t3Lt6/fv4ADCx5MuLDhw4gTK17MuLHjx5AjS55MubLly5gza97MubPnz6BDix5NurTp06gZz3v37pwrRFJwvODBIwqcR7aIAcsFDJgtW7RkxYq1ytWq46lSIVeeqlSp5Muhr5Jly1iyZM6yG1tFaVMnXN3O4f96FOZFhgYGMuDAk2zevHr15smbB6/+O/v367djl+6c///+kTPOON50YyA22FxzzTTRPJPdM8fkIstxtRhDzIXGHNNbb8U0w806+/wjDyVRvNBAB7bBAQkt9+yDjz33xEgPPvngcw8++uzDDz//hPhPPuycMw489+yoI5DeXMMMM84Yg4xvuAAzDDPTMDmNM9MomM046bwzzz356BMjjfhsc80zyYSyR2yz1QYHIq7ggksudNoySy21zDKLLLK44uefff7pZyyu5MaMN0KO0002TV6XnTPEcLfJJrNkIx4eOGRgAHod4ABHLu7B5x498slTHzyswdOOqv0B6N+ABBb/6A2CCk5ja4OPImPLhKnUciGGFtJJjDTrtCgQPqOUmEEHPMChoiz14FMPPOeQg4479NwjzzroCPgOO6zNE+Q1yRBzTDK2ZjlNMk8Cg9001SDDiy668FIOuPe9I4884hRTCyqo+MKNPPzoo0+N99TKjJpk8IADbbYhMguww2woJy54AocnLXni6bHH7nbT5Tv9JZkMM9g5Uy4rk1J6zTnCGJKpAZuqd0cu88Gnc6moosrOz0EGSI6A3hQdq4HdIJgug884mB0yErbSSi4UV5yLLcA8g449+vDjTz3JdnBis3A4ogo53kRzTTTONH2gNHA/o+A122wz4ILShKevPPTo/xPfOd6Mc0468YRTTS/QfPMNOezMQ8864jTjCyqRVF65L754qM7PtU6TCiJwOAzxm8Bcg6iQjA4zDDFz/ur6yewSc3UtVDsj8rfpKLou7NcRw/IklFp6jCE8aFqzp7XoK6qopn4LdDqtBjhg4EUXeGDntzboIHZQu9IKK77+qvputWRtjjw46jNP2GOHUXYp0SCNDaLsRKstta+m0w6M9pyTzTTYOMd76qEj93xLHt/6hjCGM4xueEMb4jgHOiKHOctZMBK+KIY45oGPbHgjG9lwxSNC9zA3PQIY52ANybYxDdXpBhjEoBIIszG3aCSDfLWQhbss9bPcZWN717kOMP9S0R2XpcMYjijephqgHjisonH7MhV+wMWf6P0HVkVDWjaul6VaYalp23tSDl3hKwv9yjcca4Y42iEPe9hjHSQSW6ekULZVoENn8qhHjEKkD2m1I1HbaMf+5EEOJV1jHHmMlj7QkbRpDEgbx6BFKUahClo0I37aWEYzilFBy2Hukx+ixz5S6J5kbAIPUSghHR+Bi3GoMB0sfGFviIGudDUtGsgwRi5qQQs/5cIY00ghfxTlDGRcZ0nJyAURgWeLlyFRiceDgyygiMD6uANoz3NVtWKVxUUdKEEKisY0HNQ0ZCwjdrmQEwyP4TpczIJjGlwVfNARxxPhgI6GIEU31nH/KnjIo0X+6GM91mGOcVyDG+oYZDtglY5s6awbufylNZoBjFWkYhSosKQ41lEPdFiDk5gD2Cc32Qx1fEkfXaIHPRa2JtqY0BbjYAeqzrENZrCOTlEyhjNq5bQM5SI4fqrOy6po0GcY0xnIVOYmLOGycRjjEdBk4gvgkAp09KyfgnyeFV9VvW4mjVZ4i4ZYm+aMZRwDGbmUHW+IMQxjrE52OaxFMbSRjkSig32dso0hRuENKSbyHl0TaDvUMQ5umIOw42BGLqYjjGCSbFvYuA4yhFGMYgSDlsnoEDc2qg5ufPKzI/XQOrKlj3M0bh7XIMUhpEAbKNARTt7QF7UYRafZ/9XOVmStEjFy2CdZUO0a6eCPkK7RKJUxQ5epWKolXJGMa+RiD1FtwAuiIAliOENtagucf3CnTSxWDxtf/ao1xKo9pyHjrMc4xq5c4VvX9SYXxJFFMJbxjLwpihJhkCMObMMHSnQDHQDW2Zh01g5zmAmhhH3GT2kBDGcgahzoMIc1liGNiVpWGMu4Bja0wY0Or6OzJO2w5DLnoQ6bQ6b3MK1Ks7EKRIiBB1Bw7ZtcEVv6nKMbztiNLfBUOwU5bUnCqIVxjqPDQxVoGk+ixXGMw4pVlGISkrCEJUjhrlpA13gNkG4YKPEy/8zKltdZxmR5M0tiIKNt0kDQVxEENwaV1/9B502vMWxhnF7pRje7tOgoKEEJSDgCDlIIdBQ6oN8ouM8QlChFJZ9BDhzhAx/vmcdgC4tQQZ4jGsJwVwCptY51aGN+4hCHOcShjU9PVHIlFnGHQVziD6tjHftK8TtINQ5SPIIMMZYxnLKhL5JlI5l5moUrOEa7XfKJV3vmMyVCQQpX8OYYGdIlLch8oVqEomWuQEY2nhoFLJ+IutJwx7cAPCujCY3NTZPGM8wqjNqW8RjLiHfT4o3W9ObyrMHisZAtWgpSkGIUz2nFkvnkiEFnebph6K8wAhfTPMboRvH5cIcrLQ//CcO61yCHOkK98VBz2LDmQIc3pDFigU181ev/mPhGYd3pfdUjuI4bRypGmOvXpmIYtoLULFYRip77XDl8Cs608WRRf5PCzluaXjR0eXEnQS25k2LuryXRbZplGUWScAY6fsYttJn7HOYgB4LGDt6k4bKY9F23mM9L7wwRw4xobVAyzEgn3h5nFbQQhjSslUJ0pAIOJpKuoftrDXn80arwgE8b62F4ghp2fy/3Bn2lgaiNv3odEjSHNqwRagF9Y6KY63CoOwxBbljjo5X9hSxUgYo9Z2dJwJjEHuAQ4yjQ8RCpcKSXmQGMOifn90dPxdHrXHR/ryIXyAjPgLoxjQj1ZhjJiFByMbEJVzCDUVTvgNW//QhkSBDAaMMG/w0fXLSxW0PDSoOQWdO+7rTCm53pPUZlMyRZY7x3l8G5u3yX8Q1vgF8VgCdVhqYiuYAN0hAN2HAt8zAONCQ4MgUP7MBG8sAO3gBsx4AN5GAO3dB50rAMtZAKoQBlkLAHd8AHzhIGKBgGURAFLoUDLviCLxCDMogo0JNaNAcFtgcHuDcNXcIO4zANFWVRv8cKrPB7RqgcRkcKx5cMp0NMziclbVULpDAJloAJzEVckyAF2rdEKOIIxABh3RJ+CkI95WeA0pAl6VdWx/AMYyVm7HQhwnBxFxIMwUB/KqNWtoB/E0Jkx7aHpUA8YiN4KNhfPXd0tYAMz9B7oTAKo3BRo/8wCX5mCIAmBSzoMC4og5jYAcuiiRnQiZ5IaJwIiqKIiTKIA/PjDduQJqATY4Gmg6QwDVRkUL1nUXe3CkWoCriYCqrwHM3Rb6QwNchwOuTQDdEQIXEIQ8RACyEoZczFfJMwaDRTMzxgCF8oNLOSIKdYfgvSNtaweRNmVsaQdmpIDHFYjrVVjnKIZ3mIf3XGiIy4iIxICXyAA4F4Ay5VG7QhG7Ihg5oIip/IiZ3YAA/giQS5LAHZiaPYAaTYJq4lBnfwkHuwB4eACIggZWyTDMOAC5uACHdAiTm4B6EAi9/yg7MoHU3mHM6hi/3Wi/42NQ4WIMSoS7lQjsCgjFRYfc7/gA3TEEfRyETTmAvjQA5cBU5lNysLciX1ZQ0HaFbkCG9ixm4ziY500m5xWCfFxht1dxz/5o5cOY+ByCz5uI/+uIkACYoLWUKtFWhSIAZkQAYPeQdzgAcReQh0SZd7IAh3KQd6KQiKoAiWwAmAyQmiYAqnIAqiMHe6oZEjtIKtuFfM0IMkyStHKITBl4RGd3zB6GXY8AzEsI7vJQudIGWbwArX1w2hoIU9aTO14A1DMz3ZIE7WQHZrA0bq4iBwCG9xZgztFpXmKJW7QTUvVFsTMknuuJWjIDNfWRu2JwZSAAUO8wIe8AAe4AExUJ0xwANHQAVjYAZycJeCIAiH0Jfi/9mXUlaeUnYJ5XkJ6CllfZkHgpAH46memgCYpmCYhjl3mYYLofAIHWl7+DQKyTAyP4gLvneERmiZl3mI4VEtZ9KZdPJerhCaliAJoWALGPMI0Lh9zHIHj5Bo0/Z2FwJtFLYuj3JduJVW5mJWckaVFlKVvLmbHPOb+KdkTgZw/2Z0x8kDX+mCPCAFZhAHZiAGRxCdCZAAEVACR5ADOXAEU1AGZxAHcvCe8Dme4mkJ66me6ImlWiqeeeCedEAHfNmX8gmY9nmYGAkMuGBr/fmRnYAMsTgNuFCEBuocR7eVocBnkiAJUCYJyxYKkvAIJDiJURBjaHkEzvkCnIge0bhEBf9pkIS2kDH4MA+Dg60IB3ewB4/Ap6GgHMcHDLWwY7wEVEKoHMW2MRPiCpOEi7h4dwW3o61FBkAqpNFZAAWQABoAAzIAAzmABFRABWeABoJAB1NKpedpnlKGCVVonn35nV8qCFEapoqACZhAn/Z5prhgC2rqkXR0B5LAXMg1CY+AB84iBiu4gs8Zg5qYZerKROu6rtsnkJ04ndcpG534AItqdTXTqGSpr574AAPpr/6aAQMZqTFAR5NQHBOihMsxHbIgDBFCdKpACsoGCRTLp5QgCXAwM2NTG1IAl3EgqwUwACKbACUAAyabA1NABWiABlE6rONprOtpnshqCeIpCGP/cKtjAKXQigmaMJ+cUJ+igAd34CxwIJdwQAZqaXsxZonT+QDt+rRZZgAOQDMCYAArCAX76AExGAM8aqiBJgZiMAVTsJ16CaRS8AL2eq9ZRpAdcANP8AVf8AQ3AJDTBQd7gAd4wARAsLcTEAH+GgHT+QI4IGN3YAiSCAcpaBuOEAqyUAujwJ8lSLRh8AaU6yx6oAd8EAZPsAM7cANuWxthcLh3QAYeUAACcLoD8ABHGgNMegUrGwff+Z1USp7GWrs0qwiHYAYAsLu8WwB8WYU8G5imYArQGalisAfLtpjLqZZScATOCwVH0JzR+7WtGAZ20AeRUAzQADWkgEp3oJdy/5AG4hu+K5sGUCoHWZAFK/uldJAGYoC292oAVcu2H/ABnnsDHxCKLyAFewCuifAIiZAIWRAEJeCJgQsFt/EcEstnPVcK00E79ucKfpqnkPAIFjwJjKiEshAc+HUDDnAisxG6qiAMo+AIfGAIkBAFD8C7vDsAR3AFPwq7sTuRxGqsfqmsioAIq8XCvLsH5dmzwmsKUDqXiJAIkpAIe0CutkcG3LmXzyq74ykHZsADL3C/PuAGqCALqFAJfhaRziq+aUC+aBDGcRAHK7u+wSrFOrqoWTYApysA6oED+Fu/9btfRHsHeACud2sGZjAHZ2segdujdES0hGypklAKuYBkGf/JSxvsMTE0P+B1OrXglSDMA6FLC/vSDgR1DbLwCDy8u0ewnWX8xHSZwzlMkeWpCIlgu1Kmw58MAI/ACZ3QCabAClITC7OACz27y5egCIIQpMyLAzEAq6O8l1BMnp2QCrOwDBxVD2AnDr9QC6tACsj6nWY8xmnAsuArB2eMBmCaBr8MBS/wAR9MtQIwkCWLsr0aaKJDBnuQCIgQkQDckTDGAzEQgxkQqXQECaRQCneap3oaCkuIfiC0IEfZNtdQ0FWS0ONAC3dAj5UsBYYgC2wED+hwDtKQCnsgAJ8MB3JAl47wCJAQZUy1CVA2KcwWfLbMXrRAC3qSC3pCC6RwBy//4MYDQAm5QF/iVEPrtsu7jMSTqJZoG7IFMAZPHLviSZd5yoi/gCiwpg7YkGmmgKyKwM3YPMbb3M1pQAcrewUxYDxUy8MBsKtTsARUcAVUEGhkgAfwHMBQhgdsorWYeE94gAiQYAiOENKP4Ah5mmiJ/FUzREML8gxdRFwYyQyHNAsPLUezIdGYfA/2MC3eoNEZq32nKwaPoAq5cFkXAgy/gH/TvAndoRzfM20zuYZsmGZmUlGUUJHf0Q3ssC8wQg/wkCTI4NOaQLOzx5zNCQUCUAAeIAZUEAdg6rJ+qQmmMAvJcA5hoi0EcobdIA26YgpLJQhmbL7drJdooL7nu7Jk//DVi8rRPMy6YksFU9Ccr5UIcP2Cl3iWbuIsePuQznIHjjAKxFA9W1Q3Cr00umWhOHcNiq2jlRy6siAPBvNo6CALf+acDcmtq/AM1IMNSfY9w9sJ3jEpR0cLz+BABCI4bHQP8HANthCam3Bz5wBYPPIPBSMP2LAMPo2evzwGuQYFn5wA4MyXUPyXpoAL1/AOXrMPB0Mm+gAPkRULpmAJzhq+7XvjznoGTi6sgzAIeYAG4B3eAcC7AnAImBDPY8BaMQAFZIAIkrDekCqDtYEHFCoJee0IkxAKDkw7x7BTSNMN+q0wWDJOxLBzrGALOBfgjG3JhrAK8PBoN5Lgf9ZaYv8wBv27CsgwN9LQJGjECtRt0gC9CQ8OKwNiWv/E4iNOfawwDOSA4gKhD+yQC5JgCLssrUhuBl3uWlFgADw8AEyO1NPaCsOQDfSQEPkwDiyUDK2Q25eQCY3wCcRO7I1QCHUwCIsw7MQ+CEewhT3pATgQvXuACa0QCohgBkfgggicCJNwCBlb5i4YBWIAByWizw+J15KwCuhyDXRuIHWzDTRUJUuyLrnACrPcCrgwDKKgBjIgAQnwACHMB6nADjdyD/QwDrIACSQUBUy8B916DeaQJBAiC0ZHyyYNqJd6CJTwhZiu6fTwDtfguJJg6cZwDlyT4vYQDavA8LAAC6cwvJz/UNVmoJZgGxsNIAADYAbHTJ7IrdzjcA8IwQ/zkA3MUDGpIK3BXuzFHgiF0AbKHgjFPghI4AFqS51SgAaJEAqzYAqI8N0xiMBtnggZq4+T6pwwttbhCmg9KtKToAoV0jQK8u7ZEO//gzLHlOfJRcu23AiB4AdOIAQtkAOWTPAnbiMJTwuU4AiX+ggU+QiT4ArYgHlJEikA/QiW8AiHMLpgOwaOQAscXjSmBQ/0wA4jPwp8ugrGQA4pr+Lw8AypMAmOQC+v8AqgkAlVHQdXMMhu6cMl7tK/cTG9gS6W8g75kOIEsQ/0AA7KsAu/cQqcsAlLz/SfEAiBAPWAwAVcUAQ1/+ACLYABDJAABbC2L3AEYjAHibAKu1AKsLGP9wSSoZAISMuj97hKm6DmhusII00JAEcLazgNALFt3Ll07Ayyc8euXDlw2aJF+yWL1KZNnVrNyhTIjx8nTaZAkXKH1Lh6Jet9ozVKkqRQq0JJmjTJFTZ057xFE7ZqJaJDh+TcIQMFpJhDs7yN64at28B29dhJq6WSUipiJPXx+/dPH7xxx2jpevXq06dMi9q0KZMFDpw7dw5tYkXs2cNp0qLZjWbNGzl08+jty5qV375876rtsjVr1ilOmjJlGhv5U6BAbQbVqXLkRYMHEjC0aMFCQ4YMHmKIMYPIVKxQeKC8KP0CB/+UKHDMzDHDA0cUM2baSmF7Bw+ftWv5OKIka9mzadMElmMXL9x06tOpMVv2a5VKS51c4QKlUaOTKmLE3AmVTV5NdthSrixFaxWlTaFkYYPHblw0YKQkIcLjDjPGME8oKcRAxJVpronmGWek8eYcec6ZJipJKFnFGHLuuUqwe7jyBiyxQCmLskIUuXClTVKx5ZiHoJnrGRll1OYbcgqiJx8ddaRHIXB2mQWWWE4xBZNLFpHsE08os4yNK47ogDPPhHDCCCqkiOKFGKRIjZNWJrnjtQ46kC2KN/DYY485DPTtEEQQIaWWWlYpBZVSSlFllVqEcSaaY5JxJptxyplOF0P/eanuOq+2k8SSTVyxBZZGxOvCCvPu6GQadpwBRhZKKJHkkUemCiWUT2nBph12vHkml0oc2QOOAqUQCiQyHplFG22umcsactap5xxpchnl01WOGYdDfvzxhx986kEnxLA+IXERyhoRZRlumpFzllzmeuihGZ9Z5i5srmFmlmGGmWacdOZ5J5xeeLkFFliIxAQTJMdakrLKBnEyhgyk/KwFF2LA4QUtuUSEE1YSgeM1hWULwxBKYollElndwqSUSfbg4zhHDOFDDz0MkWQVYJxxRphciHGOUF5E1KW6cMC5hhhZuIMLF1gmG8/S80aZRhxhaFEFEkdgfSSUUkz91BZs/845p5ucILlDVilorfXAOyYhBp2axiHnG3PgqSedYUmhZJRVkDmnHn2u0udZdKwRRkRqM5k0EGy1bUaYWlqxZS5ppGnOQZbJBTQZXHahxq989uEnH+l44QXIWEzhRN9GkmRykDWmiKEBAxpQAAMhhDh4YhykIAMPRBLZg4woZgOptkdSyWaaVECVRBZgXEkllVJGGeV45FFZxZZddsklemDY9YbQ6TBH9HpDdYFeluJToSWXnynjSAeQ4KCEmG22eYYWSpZ2ZBRgank6lFSE6YYcb6QBZpVJcNuaFHjQNTLcYRPDqAY1FEiNaXSDHT2axixCMYlNvO0cOdIRPu5Bjv9l7Axz9WJMJgpBGVAIgxvasAYxgGGMhxwuGs5YxnLANRdmDEMZ48hHYLKiD3p8wxYvOUSaFLGIzyWpLADTjOkaEIELCKEFF4hABsj0uq1FAXbFgZ0ZgPMIWaRjHLVIRUu2UQ5jzOlTbTujKmSRC8TUQha1eNwwkpGNcqSDaueYTjWqwYtX6OJerphIRVRBi1T0zQlC0AEPeBCGPviiGdyApKeUNgpptC8UmOAELMYxD3g5oxahUMQcxECrAQrlPHvoBDNuBo5qsBIc87gHO5jhik1AAkPHOAeHPgQPbywjGMfDHggLMZZAFOIS+cJEJ1Ixiz5ZIxo6W8UqZGEMGQn/Qxi2wGYyyoGPf/CDHNpYBi0kwQcw1EZWZBhEIxpRiCI2IhOEAEQWkni6CGDACX7oghlsxwPYkRIkeJBE8V6SJknUQh7zyIbOQnGKU0zwEYYwhCMgIYlRyOIZ67iHO3L2MmbokY7pcIc74LEOeNBDOuFQ4DB2AYzfVYQUtGhF3/xgBPPxAAyN9EVOc4oKShhiD5IoBRyHdIts+AUf7ujGNHZhCkvcQYAGCg4laLEuZVCjGoKCxz3eMQ1a2tKCHJpHN5CRi1JUAhKQwB7mdBGZYi5CEW9yFFUesgxj5EIWeQpGDH+hik5UpBW/QwUq+uCDHewABIc9bGF7AAU84AYQ/6AIiyf+EM8YbIaeK3BCIP4gCAC2JQpQUGRtKJELpSSjFMYaBzymoUJidCMZcyKFKmqRCznlAhneqMdg4GGTB87tHveohzzWsQ51rKMw7njHO+bBjmwcgxUUSYWeZCFTRJoSEo7khiN9UQlJGAIOe3jEJEJhClfEYo7buEc+6FEPeCQjFYgQwwCjIIY9SHQTvvhFfn+RDGVc44Lz2EYtOnGhVSwDo/eAFzvsOI0HUcNmvCDmHxZhiUQkQrxyjUYzoBGNGJarQXst1iZIAQk92MEOhEUsYh2w4hXf4AlP+AIeMEEITxCCEGmYZwNeIAVGwAITFW4sHuDw2drgIX3j8P9GN5yxClI4zRnsuAYygGHXUjxiyHDggyFsiaqsNmu98rgHVgKzD+KqQxzrIMxv6XEPeoyDGbTohClaUYtlCCM8GqkuFOhbilgMgxrYKEYlvKtIMeAhEaNAxShC4QpmvEMf/2jWOWwxCTGY8g4Xuq9Oc9qMZlxjG+cwiDeG4YpV0MIZ8MCHet+RjnK8Q8HvyNE+9oEPfeQjHJP5wyDeauFOHMsu1nBmuPISjWDoJAwv9oJhU7xsEKy42QZwQLNv8AUwHCENk70CDjJwuh0nwhSmWEUYTREKRMAhDGSYQyJCsYtkyHEYsQjjigKF5Gtcg6WTkAUxXOQNfrOjHvngR+X/0ivmgNdNHZC0hjlytOaCoyMaufg2LYhhjWkAzQ95lsIcLGGJfN2pu2HAAQ8KLQk1hru8yTjHmOcxjlxQ4hDCoWAnWFEMTefUFlRV4C5iwQpWAMPT3fA0dJILr8C8Ixm0ncXzMvFWRIR3RbnocAyPsYypH6MYtLirIbzwBC+gOMXKVvFhDQDtFe/gxVIAhCcAAYhEjIw4eAgFLpaRi1BUOBErqTAmQoExe93rXsmchTG88cB7nIMYoXjERDG0jHO0Yx7c7Catl9VNfdhDHgfnBt5ygQtcXCPM+liHNXLhilYA4xneyIbFhZCEI1hxDjMWRBbSkIYs1J4JTDgDI1qx/wxtqHQWtmAGOwLTZmUQqXOcOAUsRGEKVtDCF4EdRSpYoRjFMBQUohDFvSa4NEp0Ptb7oMc7zjEnj61iGsOgE6LzJE1bWFN6wbCmLBwBBh8Q1gHQBkFhvw72Zkf7/ojdATcAgzBIBD/ohV54BVCYhESYgztAmVX4BVfgnEUbBmZQBl6ABmhIhmQwBli4BUOhllPYhW54B1mDB2wwBmJwhmuIEHiQh4OqBw5hr3aYBhbiNG6wEXmoB3PYBVFghB47h7oZh2VwBVZwBWCYBm+gBtXTgdYLiURghBuzPSAwgswKhE/gBXBgB2qYGUShh6ywtXDgo8joI12gl12gBUJKhf9vmz5gYIbz24VbCItpYYQKewRX2IVwiId42AcEkwdyAETaAgZbyIVgwLpgQET4K4YOs7oYEpxIsAM3cAMv2L/CssQUc7b+678d6IEbwIEgAIKN8IQ6bEBEmIRRoAXSiwVcaCVwSAdWowVIIJlDuIUPegURrIZ5CDh7aA9goAVgiIa4STU2owd8eJZ6aAdzOLhmCAY7QQVZoAVTiEJCgIVvyAd5gIq+WhEkhDCNuLgmhJ07SARMYARBmD1BsDFCQJJX4IVxcDUx5AVqkBtnSQdluIWxYEfs2QVl6C+BGAdw4MfmaLda+L1bqMVb6JxJoIRSgIZqQCle0CHBKIxxkAb/qzNERCwGTgO2jWyGSjAZOwADw3KAHSAsS7zE/APAZkPJw7o//1uiCJgAIKDGWfixOdgDfFsGaeiGpRiUeHAHbwgGR3iDJ4gCQcikbxC/cpiHR+MHdiCHucAGc0AHecAHf4C0fLiHeKAQZECaVVAFVXiVkdkDntiDQ8AEVuiGgHsHbwCGFZqadgAH1SOCrfkuSdiEjeMsQ6OEUPhKA1sH4RIHadAGccg8bhCH4lqHmigHslmHZISkZogGFhyHb4iOcqiGd9u5WFAXYGiFVThCaPiLfLBMiSQHaLjIjGyGYkjEYMhIhLMGSOIGwTKxSbREH+i6ktS//FO2woo2kQQB/x84rPrrgSOIgSuAA0goBgrZBU6osLfBBsSphnKgh/AbB9PSgyf4gAx4gSPAA1toSHAoh3voph28BggBlqtgFsL4snXohsPZFlqohFcBL0tQBE0whWEQz3xIB3vLBWBYhnrjwsmYqblki92JhU7YuFj5qdhaSGLYBQTCBmdAhmMwBmGAv1xIhm5IBx3EB3uwB+J6TEhSh3EQh3MYm3FAiudRho6CBkM5wHDIB32QjngYKXMItD6QRDvog0pgTYzMyNd8zWZABVVABUj0Ai/oAdxM0h7oAcUyrEskycRSydokrBtILB9wA1SAmW5oyHIQFlVInlogh+n0ImjwH0N4g/8BhINJiAVlaDdmWEp8WI8IAbOrGIx9mJsYrQdykIYg3a5IMASnQz5bAAeAkwdvMAZsghkZiQYFusc2wAKvoQRgyAZc2BxMEDI+mKizKgUP5AUOzEBcqIUM1MB9BAd3wAc8tYd2gE0RHVGSmsd/2Id5cIdqUAZoYAZ7MZRqMIjkmoRVEIZ14IZmjIQ+6AMdjQRaSETU5LSOPFZJbNId8IIvkEQB/IIj9QEmfdLcRLHcTDHhPFI7iARfCAZjaKCGPIdxcIZR4IM30FRh4LfXWkALEy/7cIVZSIZqOIc0g4eaaAp9kDU8nZu54Yet0AbVfL5KiAQ+eIT6aAVzTQcdeQf/e5OFm2OGBmm3e/QESD0QOJAEYcAGZMCFVkC8O8iyiIIEVdgFXtCjDEQG1ogFWPiOOGTZv7DKyvHQdtDZdngHeXBBgAs4rIwHVhoGhnoFWFCGbIiQcwAFWNgFchAudbCGZvCFSIiESkAFa9CVwXQXcTAGVYBESURS23SDNygxN3iCHkBSTozWJE0sZQPO/CMsH9DRPkAFRyIpnz0H93qEC8kFcKotYuC8x4GFUrmrWkCar1QjZJAGdmgHqkEHdpAHezDGuaE1gPUHfXgKN0KF+IwERwgoUlgFFboGeBmHaziG6EGGc2EQSwWFQuCCLJACd4UEYGAlZRiG/pwyX6wF/2KgBnAIBz36BsRJBnuJhVLwzFUwlHDQB2axSh2qtVpLVR3Ch+l0h+DFnl6IzuR6hz7KHuoAB2loxvjUhMjwhPOtsTSwHWT7gi8wmTewg3YFg/ZFUmwtrK6TW8Pq1hy9WqxVWKtdGmONT+RRjnXYBmYQ3FlIBXJEvl3AhqjMPGt4hrwShzntBql0QR00CVpLNX3YIKgA00pQifhJxdlShWDQH347HGCZh3Qwh8CUBmyoEErgAzv4rlWoBuR6BxeEB1dzh2w4hURgAy4AhFNIhmjAhl04Bc6jk7qDJ0YABV6oyojkh3qYh9yKSMqTlwPk4hd9tFdAX/T1XmWQhc6tBP9LGCHx+AMuYAIzMLcwMLGTcYQSg6g0nUQmxV+SjNv60+PCcgMTi4TO/cr/Vdj4HCRENIZugAdOSocDtgVW4ITsUwbJhQd3OIdvAAYw/ZRfwAZvmEp8KFjfggep7AZ3CC5veM65S4mRoYSXeoZv8GSnYBXEzYVrGAjiEodu+IaQTRqSGUtL4ARlaKWFcIdXTIfDMAUbg4VhyB9c7YYfGRJMWDtCAIVTgAYxi0hZe7Qs7oct7mIuziEw7pdA8IRP8F5eKETW3IW10oguqD3fgIM3gCiU6a6TteM7PtLC4uPfnNvbdINjtVtlhQjFJVLvUAbgtZmbyQZjaAVOIIQ2KIT/WrSqPQILakkGYNtaZSTMx1yGYviFYKgFsFQaxQvLtpGFYjiGY9AGchAHXvHo/MpJcxBWFLIGX3oVLZOF82OoWBhmeIiH6Uw1hqijdzBGK54HWwUFRlg7RniFW0gHq3TeLJbqfvjmb64GaRDnfilncx7jBJqZJemC2O2NtZBnlF0aiJrjN4BfN/iCMHiDa/UCN+hnTjxSLxBXq5WtYgg9wUHcTlAENuiCjfADyihnM0ypU7AEQCAEc2ZZaqjoP/gDTJgESYCESIAEz+1fq9VszTbWzu4DiDqrCyEF5knczj2rkVYFkBUHcdAGDfOUvqUFdxkUVmqln6YHy8zAb6gj/6ps3m66XnDgBQ80w2oIM+d13oDrpoB73sCg6gN8hS4O3lywR34h53KeQzPEHDDWrDZIg7E2GYkCKlMpFolyu5GB3xI7Utq0zSSlXzdwhPiUBdbkJWgghtkCpTWoQsEe7HJGFFYbBkw4BEEQBFDYxzi8R82CbEbYuAXnOI5Dpo1LBEh4BFi5Az2AA5PJsrK8O6AKI1OBlTRxY0MzqHoQB1lAPDw4BFIgBskFtXf4BmWwl+eBhccBBm1ITHd4vHtIB+D+oMbeBf8ah9ZuBms4TIMgCAnpEB3qh24+QIfcw2mghXkQQ40N4zAmZ/IJ6yxw4wo3hEpoGzAaBVUIhdM2hP+TQdOylesekESShOtqFdfAqoVgOAZam5BueIaGHoTA1m9yzsebqYaRlWxTcNrn2QVYEItPcCdM0ARO4ARTwL7le/TsEwXGwAQKSwRRsUtGv75Jt5fl4wT6zIM8CBA9sNvisgZVkAQLN4RREAYwM2qnOAyDxJzm0OitfYZSSIQruAImoEY9AgdYfiY60ZNkeAZrwIbeabdl8BVUw0qT2kOfdIdxQIZfOPRx9hdvJB/BdgKxFg5NHYVKOJY5cSNQoQQSC5k3mFa5xlI3YFJJpFYTe/NnzAVj+IvIiwdq4Ee1CgvDRmhwuF3ly4QfZIRFKARA4AIn6IIuaINFuISGvwT/TniMiJf4TGh4RVAEzhIQM0gDOqCDNVgDNmADOsgDQmCES1CEPNC1NzGEY93sPjgZtxGHWtsRHfmt9PLgkVKHnC+uerC8azgFcySEU1AGd9CqcsgGaqCq5riqBFKGXcAFYUBNbUAHF/SL6ZxOBIOHa792/R5sb+QILuB2PLCYOqkFaTCGXyQWiUJTs2X3uO46sVVbtv5jE4sfeTeGeOgHHpqHH4EFEikEyHYChO8CyC6EQlgEQhhiLliDtQMEwN4CI6jCLhgEQjj5PFAEkhd4gV+Ew794AW9AMpCCI7gCNCgDLdACLGCCMuB4QcgDQaADRbAE+ywrSOzsSIiJUsiF/3SIwZpfsxiV3vWy4r/8y1StHHDoeyiGHIcEB2oAklnAhXWxIQVSBlxQVCInKbFZB5sYCBy/Yn85X60H//EA+yxwwIhCXlp4htNVoVoYJ2OdX7buAWpte3x2dzugY+RRBVtQBj0Mv3IoPrMACCNCgBAEYsSIky5d2rRZgyVIkSJa2KxZs+Xili6ACCkSRIdOnjyKFC1ixGhknkEh6chpaYaMlCNTrmTBogULkzJnPq5UdOkUNXDnrNVSValSJ1uzZjF7x64duKhSo44rV05qunfzttLLRy+csluwbt16RfYUJ0yYLHESBeqtKFi25rZatcoVsWTHjOmdpmyYrVzCpP8FKmz4MGJPnv5sFDTHkCNHlFSlkiUMmS1KkAy58eLGzRcwevrYeaPHzpcvoHt4/uK59BtHkii5mhZvHr135ajBKtRlYAsMKFj8+CHEyMUmS2zQgIhFDZcyWqZr4fJRTZksZ9CgSeP9jJqP4M+QL4MmzhgpUGLEGFJFohaJatSAL4OlDP6QHeOYMZOFZhZZ0KGJKKJwwokpBXKiiSUNWnJJJhBmMuGEn4BiYSYlEQLIH4UQwohamrRVIIWcTLigJpokWCCLBZ4CizLUfPLJK6/owguOvOiiC1mwsJjiJo9EFhklpYySyjDAyBLKI5D04cYbdrgBhh1SflGaFz6spqX/F6y9EQYYcOBxRyKMvOKJjTqC8ocRQLTwpgs/ACEERlzER0RETWgxHhdnUMeFnVhUMWh2aOxUxxqIsrGdoYxeccURR1BRhXb0qcHGR3SUMWgVk14hRRRfPDEqDzzkcIQYimhyyiksTrgIrIsMMmsdtQ5SB6yZvEVhI4u0oVAXg4DS4qu1xjqIIvqVxAiFb5nFCzW3zDjtJ4X54cRBRjSh7RJpoGHGHXtENookiGBiCiaJ7HEHH3aM6toOPnixww5edLnDZ/KCJu8bYDwRBhxSZAGIHwUzxhgXBxXRBBYNa8dFFlpUscQPQSxRRIBnZIFGgFlwUZGdSyCxBBNYlCfd/0VaWGGFoDbYoMMMM6QAwQYY2PwmBjjbjAEDPfe8wAISaKABBEVDwMAGOliBq4SL1NGFFUQIQQQRSiihgw1EuExEE1u0UWsdJtWxRRNN0FlII3CJkuEWVmDU9tsYOZFRh5/cwssfBV/rBN/YCvE34HNqEeAcjkAySSiJCMIIKCelYQYeenyGmpageWFav3ZI7pkbT1zZ7xt3+JcwEFwAcjqgWjDBxBJLcNpww0sksQLtKwSxQg01zLACCynkHFzPCCDAwPA7G98CCzPogDUROtCQggkmKK+EFmokWkce82GRBBJDyFBDDjlIYYYccUAa6RVznBvLLK2Yogkjg1RUEf8b9QuykiD5K+IgI241TsiGPqQrWIxFLKK4BAIRSKEJFYIRADRJJp61i4L1rW8HAdzfELIQNggCEZSgxCQwgYg0EEIQaHiUFODABz7owRBPotJnDAEJR+iBD4awAxje0Bk36EEPpjHE6Ahiui6Qzk3G45nPiIcAoAFtAhWQAAVgIAMaJKEITGCZEqqAhC1OYVJlmM8a6FAR8vBkDWoQFBJqsMWSfYwNITHjGarAve4NYQhX4E4c4oCGMdBEEKDYBY5u0ThGnK5+hjQkINzok0uYhBGLKISHNgSIQTBkEGiDZCNPpywFNuIPnvTkh0Chi13sooIWxCDgnODJRrxiF9X/YAc5kBELTjCCDh1DgyASEQpK9KEPesiSD3zgpTd84Q0spBJqRKMHgAUsCMWRkxG4QEQjFOEHNFiBCWqQhNc1bFBDCIIMwjkEJHhMC/hRQx3UkIUlTKGdXdQOSGalEjow6gwVOaMWR2YFLSjka4hSgxaUkISBbnNj3OFOFqiwRSxwyJOQTOQayFMelVXBCk2wQp/EyAaGKAQ5ZWuCNBfCkErOKiQhqcMgcgXJQCgGFGTBUYz4hhBsXRCVCKnbLagxj3/8Yx7R+kQhAMEFJhzhJXdwoS/doC9h2qtep8mh5IoJOkOQIQhMKN3psgqo1VHhCOHLARKqgJ9NTUEGJThr/wlgMASSrQ4LWUhDHEW2xSOMM6w2gc5NYFedQMl1CQ0TKUMsYgUlbI1qLrPBm5DHgpvZAHCJNR4LIpvYybbABi6IU5wm+7usoRJwVKPa8qiWyoX8JBnj2IYycGFBmvItI4BaAxtSqqucvoMf9wgHL17RSWxZkQtxiEIY7JUleg1XXsKsUmqiCgYwpOYNUoiBDKxaP9QNdXVDyAF7YDCFKpSHCmWFwQlkgIQuxo5k95GYyL4qgzralTorU0LZ/mbZ4ByRsju7gM1sYDUlWKEIWqOd9JJgk+kIKglBYO8SMraTQ7LhUgyGGBMiYpM1jNSfDZ5PpjCF0jZ8ciOZ4EQrcP8BDGBwtAsVBFZE0yCIS7QFFtCKBzx+6pstaI05SfgUHE5TJTsIl7g+qFdnfIBDz4GmmFGIgVUfBqjqLsGsHohABEpAzulkgQlIAGd0W+fXvpYMC7K7bg7qOITcxSxm9K1vYl2QtbJlpCFr2FQSlsdf2DUhIjUwwQhGIAMBU2d7SMhBONc7KQWHh57kWfJrh0rQMuAqVseaJ0jygNJFZAKSHUrbLZShjGtM4yLZOghG0GuyQcyWF9XIxzzAkdtKy28NXLgCGeCgQkcg9UlNBUEwQVCvH3sBDKxxzb/CgIOizgERIwGgd66QgxJE4AEP0EBYmXAT1hk4CNYuguuWUIP/71lMoDXAJgcucIEKVEDcGGBBC1ygAyXY5IvTyU7JaqKFOs3nJnHWARFYhoUiEOQHKqAABUZwgiSM1T5VmMJXT0UFAFXKjeSJmE0QvT3uVYEO8rw4SvNwnfnE1tEpTRssdkENagBLIdiK78tooAOC0+ESolCGULaRDWXAonGDoM8ZYE2GKEShX6npTI/lBQJc+0DX82JNl54QhRfggAx4eMQkTMEKWJhCEWg4QgQKoPUIrLd1I2vdgesYvuvKALzfo4EJNrCBChyNAiaQohrFKqhBDbjPVWjryqgjncHqIHdJcN2+B/IDPJ9VBlMAz3w29eexhzUL55wfRO20upWV/40JBK2CGk5XKzaArQ4UKU8W1rCRR6eUWS/qwhZq+jc8WYFScThEIiyBiU2MQhapGAUlJCH7jhzUqLM2BB/6YAgfVskLV5rXrYMZLy94bukvkMIcErGJVsxiF6ewBB2wngCtJ+AEQTDw15dw4EDLIHzhPMEJUpACtXMABgl//zinsMXcjdO8VXhUl/dp9zgPVI4D/YELsADhlUAOcNd8AJQVJIH3SJF4+RV+VARDUITkRVhERARBPUcdVFhDgE1EjVWixEohyEpKlQSlHQSbbQF2bEd/xEGxyR6ChBgr4F7ujYS3HFQcyMEc7MEh3AGtSQINrdCX9JBq8BjSEdeoHP9ZCRzBFcjBIXBCLAyDK1hCHMTAA2hdAXQfRHzf92kZFyqgDJiABVSAz2xAwKGVGcKACXzPEEyB6+QTe1EBHHJKFdzHxlyBd8nfTAwKEQAgC5AABaRVAX5R4snRAsIAeFmMtHGB9bjadPRXBT5iEdyVPyEKhX1NRRgcFiRKSoWgr4wghbRZGyzKf4yBGIjBGJjBHByCC57CLqTWLJzC+1gCIuxBf7RESwiCIlwBDqRCKtgCK/ggDbmBlHiOD3GOvYDGE+BADJRADCihIGhCLChDLFiCHMRAAQwANmKh7HDP34mfDJxADuTOF44ABYThAgjPAkAAwA2NBlCABowAB0T/Tw2M00AhwRxtUzu1Id11ind1z8oN1B6+CQqIwB+6H3dJVBz9WQk8WZTBQBAgQcn0WYR91kDlyT59DIV1XmCtgcTkAAwU3hKowazAykjmSiZkZB3QAXdcwRi05B3RgSBYgoiwIs35CCdcQkdoTBbcYP4ggg9OQi7UQi0MQylQwihAgo5lib1UTnP1S6QgGRKYwR5gAivsQitYghlYIzYOQAGMgDYFwQngWfSYAPqdQJ4B3ARIgARMwASc4wEQAAEskQRAgAREgFoODcAB3AhkEw3QwLflTg04Tw2oXBCsHNWoHL4RgQvojAUEnBQtAX50ExKUXbNtXwJw3VrNoX0U/9gWdeY2aSZs0YpKmJSkncEUxIAHPIAHxMAU0AFJNE0CzYrXZBwd1GB/kI8crBiBhNwuFAj8EAIb4MTfUcpOgosxzZBkHI4qjELwOQJqBJnxuYYbhMEXHAFYWoxUdkKImcIhiEEBAAB4AkAAEAAFoB/AqaVaBlyekaMFWIBaKsACKIACJAACHAACwCVcymVe6uVeltkKkIAKkMAKXNPuDCjujNnyDBQNLNbOsF3A7RmBCecKjACUPUAEaEAJaJMD4segzNEW9Z9Y7URKjCZphgQanOZCvgAUxMH+XIImJFBsDsLfNMHX0MGinIGgTMHG5AGExIUy9GaGyM8W+Bfruf+VHIwJH0TGaJDGaEiOHfQBGHgBcqnGlExnFBzBN2InIrACM9gCJlRjAIQneA6AAqAnlEWAAtglXpZhCWiAmZ4pmtqlWkLAOQqP8DBABaTACsxAX7oM7fQloALqZ1FNEmjNYtpMz9AlFJkAoAbmnUnAAAiAAHBlBIwA7nyfHLXOQA0mn07PXc0P2JjUPJ1maj5ADIwBLjoarJiESrTBFiBWCwiB6rBODViMFgBCJoiCyIEDzU3IzVkB1vhl9xwBKYbBGyTVaQhjlQjjk/CQ5ERJv4RBGEQBFERKFrCBInCCMsyDMpiCIAxBBESqAASAAByAfEqAfKZreo7AWRkiWrX/owZAWQLMZ5peKIaiFQXQqZ0WzwxYW62WXzjhzkBt40BhDYP6DHqOgAo0B0EFAQ2cQBVuZQJQwNl9W6Pmzlhmkz2KlSBWROfVyhlQQQ54wJOVABXEAUqNICHEiiNZ4hYIAZy8DDbZzsBkAm8C6c1hgfP05d+N1xjIWpL6kiP4UpM+6Q0d6zJFCQ5Ja6lY6xkQwstx6yYIAhJEgKRK6gCY63u+Z5myKb5aAFuyZXwegLmq63lSAHrO6dHsq50yAAqkwLaJE3vREQ2oAApcQM+kJYbCgDZ1jz22jgxUYQFYaAkwamA2B2ACJjbJI8F9UUrUihlhh8EhQWpqXQN4wBDc/wcY2YqjrQGwkI0L3JcI2A4TrMGq7soivFkSoB3tCNgZiAQiPMIooMJmDO2T0pAeRMYP8UGU9JC0TmukKOEZAAIoKEM57MKXHsEAiCkADICccq18As3PMJFb2inZku28xmdasmVetmcImMCe8qkKiIAFXIDwxKXwnJsajVMd1cAJcADCCk1aidfciswDXC2lut+Y5U5zxJ8CAuY2kYf1UMQBAtRNJKAHaB02PoAMcGz1QKCtDAIXYIS2FEEQoAAGFI8NNMEazEpWsQEXPMTigm8QmAyPTsImyIIsVMIM+VIf4C6tmYYjtEsN+ZBzVatXUQEW1EEmiNw0ZgEMJECkBv8AEWctAqSrfJZtE7FlBYQt9aZr9sbnWrZnY1Kx95IACagfFpuACIgACaydEu3rBSSPe9JrmQqNFI1Z2HmPAITnpFbqetFfHW2XHKUR+LiHTojoSojHWCVB1m1lAcBAFUwHdlhPJcEKoKRMfCQBxg5HrG4B2jRCJhDCGtRZDWSx+tEAZNIBI5iCLYxDPqBDMKhwJfQSk8Zw7vZQDb9BwPBAtYIVE5wBI2TaKWCCGeTAH29l2SIxEi9x2P5yfCrALp/xWpajFXNAe3KAMouACaRAgGIyFkez+uHtvuKn1qZnxtbOCIRpeAZAArif/IUV97hT98TtGs4hGWVKHuURxxz/QQOI66R6ABWc0+a2wSMtQgED1PZsWzYtgRZ0cCRnyNhY8BdvQArQgBWIpM1uwz78gzxYQzEEgyr44A3lLu+2kA+pMitTa/DSRBowAgFxgiBQwQlkHX4WwDDzMnwuwC+3dNgaMzx6MQmYQDwiMxWHgDLHowrUDk/r6TNnrAmoAAtUQH0SwADg5/CMsRaTQAgoAPMCQFd+jwzsqQrsTl/qgLWNGcVVwTp39TonVA4UAP4agDyPlfVEmk9YggGvTITRQEGbwBBoQR5QWiY0Qq/QQQgTQVWvXBmsAYvBAjXkA0/9gz7ggzxIAy24QinU7jLVkA5VyRuwsnrExBRMRyIO/xVYSoAQb2XWpjS6Bs1acq8Vt2cFtGc0R3MIpLZqh4AIhAAWqwBs7zRPr0BsP/NM41lYYhMFBHP2su2dCgcFPHUAKEA8vjZs82nfEdTAUkrBqczKDJbVlEAbgye5FoAO4xFM3k9K4DMY4ZX4jRMVvK7L7cItrM1v/NfC+nNKcAKMvMNgv/c9eEM2PIMsfNAP8q7msBAc3EEpjgEcXlkdmVUEJADZXiNnl23aAtxoL3hqey8KRHMXp7YXd3EXA2htY3JsL/Vpw/afol0Z0ysEYOgJzEBg1sz5TreYSsAyi4Azg+88illnfmgS8Ndzv1dEEEEEPPUA5AAVjIF5SJQht/8BdExwnd1OGrqHa+qqpu0CLGRCHSgBz+RMEajBXOsqOPDDe2f5P+zDOUzDNCTDiNlCLeTCNVwDLrwPIdCBGhQBDYhAE48tXFqhnBdAQxqinRviN+LZeo6AhLN2aw/kQJKATAMooW94bdM2bKPAgyv6aw9oELhMX5pAvMpnlM3vYGITFnNABSSApBIxudonA2BA+7nf2CUu7fxA1lDNfq261gRBjjOvAMiAPtoERjDE20QE2u1l5pquKJAFKR2Q/FjBCtyMFSwCJ9gCNbi3li87s99DNvSm02iBXo9bWwozfhJAAVhzAkiA94ZAnqnfWDJzWZ4AngdaeH1jWI4lgKb/QKb7eQqgQIargDPD9ryDr8BSjQWalQZQulo6EbmFIbnR6fZhI9ZKQBjf6QbMQFXPgMtclprZAKq7zPK4jBIQgQK+upgKwAnQAJ7418JcxEJgRJ39wAqIADl63xmQWlzcwik0Th5wgRUEQdVEjRB0wSckO7Pn/HvzQzoowylkQvY8BFOHQFsS+LVbs7lOQLdHuGpXOBbL9KBzeO2E053f+QgYYhqGE1k2c1mmQMzQ30DtFxHMAAdo9gHM6xm7dLUPPCBzO8CJ28EjAGNVjapnEadMCqcowQiIdcYzaqrnSdcAikxNDcnrufctASe3BSgINBdU0w8UgRUkymwpg2Dr/3zO8zw14MLa5IFDJIEN0I4ITIC1w+X1nv28VgBr+7mFszu7QzMJKDqjW3iAioCit/YFsPYFoK2b6qUhskcz5gAeBr/8DYHzxAwHQIAwY6/Zci/aouv2GThXKgCekpu4WcAGmFvcY8AG0IA7wWHBrpwOmEAJPIABGABXlgC+7dfCfFTXUIfZ/AALiBtrr4BEtIElyUob3Il/gRSuuJROWT5A/BM4cCC/d9RgZVq0ZkkQFSEghrAwYUGCAwkwKsAYIYIGEytWkBCpAiSNFSpEjiShAgULFC8viHg58yVKESE4cDCxk6eJGTqA6qgxY2fOERxOnJChVIYMDRE0JuDYsf9E1RIxSmjQoEDBAQJfCySAUOFCWQsV0Ka1sGHDCBNlEcRFgAFDCxt3WeTdAMHigQMKKKSwQYSIEiuHtWgpo4VL4y1CfqwQUfZC3R9G2vz5AwgQliI/BlvhUmeRqF3g8hFUvVr1wVugFrFpQsRl2ckVFiDw+tXvXwkS3KqgESRJkSJYEjNZsiSJDRomU4rgYOEmypUrWKjQniLFDBpBkyQBSmPG5AsQy0IkwWGkdhUWtmJM8ICjVgr3LVD4/VS+VA0lYDBhAw7YGmEECgyEQUEFZVhPJrrokgsBBijsarcEJBBhhhkGI8wGHcJLQg011thiNhrW24AEEVho4QchnOj/4o82mvjsByJEGyQTUZQph7UfVZuHGl5EyWSQNYpwgSaWJuqKN78U+I0C6l5aEQUSqkxJpBSE67AIK4pYogomQkziuRrQ1GEINJ8DiTvuRJApThQuoG66EHhaCoanHgiLvgh+g0DQsSaYAAIJuMpIgvsAhCGHHI6IQdIFYTDQAspQCIHLllDAgEIJ4zpgAQpIyEu753RAogosymj1jDOyoOKIHCSNgcEhQBRCV8hc+OG4NRbJBBZq5gHS2HnA2aXIQdRIks6XWDjpggmcfDKBKCegkqaWXKpJuyuxdG/DFX7SQYkq0K2iTObCW0IJIsYjL6SbJEIQwEcfRSKHExDt/40rBRYwdNAFCF5AI3+lNHAEGEowMCfKKDsLrbKu3I7OeikCVa4LUhhCzBG56MI7HYogwgYVcqKAgxFOGAIJKmCmgokiIPsBCzXyuMQ01Iz9EVllYAElkzq4+GymvFxgIYQKqiUA4UK1RdqFqalewYUVnuv1LsKUUEIHeMlDKQR6RTLBPe1KqiEJJJKgYoq3qbjiCiqQQGKIk0RAtK9/Ax4UgoKdLGCAAsKSoCoD71MrrbQmQOvSC648SYUUVszpKagU6EgDCiBgYEK6WhDCiC7KQKKpcdezwIIQSu2QCONshLGLQTiJxZl0+OlZtX1+fm0RopuwoVtoa6N2N6d9k/9gghC4zQu7qbF+bmvCqIfXhhlYoHylb60jISKIUJBuhIYplUFBh004oYbXjUuCA/2kvA8CzgeVQPMI+iS8cAoaZ7zQ/9ECtbOoTgTbO8mB9HO5qdyrblb4mg1aQBcKaQELVRjCnv5DqRy4bDnveteNijC6QHziFsp4h+6CtItCBCIQbaiDGoLnApYQLy/TqlZvArY6klDtalSjAfW6Rhgd2AAkKshLXsDlEhLUSWJQUxiAGnW+o0yHYjTMC276kjyWbXAKMHvbFHLAsMstqn/++1//Gqc61bFueyhBoFWs4ig01eA5IGxCE0x0xzsWoQb64QpwlKK25aDrClkwAxr/0CAHRWQCFLcIxz1QOJB7gEMZoliEEyJIlxkg4QidlAFIVmACP37FadeaAMdU4B3ClKx6OmiTEY8Yy5lMRnWLu49W/mMVAy2OlxOrItJagAKmWegvXOFIVRRkthV5TwRHMYHaklCF5SQhCDUIpQmmszpLqfE+CtPgo8x3IAN9ZEM0+BBh9JjOz5AAUX+8wErMaYMfzLNkStBCHhShiVj0aB+R/Ac9KBm0RQxiC0TAgFwYUJaFgTMGHsDfAzYSgRKoLyhfA8oMJPetoyFxJhFT3coaNr6qaOU3hUILhdICMbL8kgVTywsFoCKfCPQnIwvwpW1kQgITpCCWLQVJDYiT/4QKVhAJJzAQMiHVxSpMoQY7yYoGJLA5t5TknERI5x7nyc6DKaACKFiBr0oW1iI0YQ2kAcWwThjJfJSDGsq6hCDKsAQasGCJnotLQmMiAmr1xT8A0hcSpiCFTuIrB588QUmOCJMLbOA8LKPUgkYwgXYCbAEMMOniIEaZEEAuO6gaQhg50p9//bFxzKOJEnva0/AVkHIDosCCkkqFLFRQXUMgSvqS0hOQeOeHr0unP4EbXOEOl7jFNe5xkZtc5S6Xuc117nOhG13pTpe61bXudbGbXe1ul7vd9e53wRte8Y6XvOU173nRm171rpe97XXve+EbX/nOl771te998Ztf/Yrul7/99e9/ARxgAQ+YwAU28IERnGAFL5jBDXbwgyEcYQlPmMIVtvCFMZxhDW+Ywx328IdBHGIRj5jEJTbxiVGcYhWvmMUtdvGLYRxjGc+YxjW28Y1xnGMd75jHPfbxj4EcZCEPmchFNvKRkZxkJS+ZyU128pOhHGUpT5nKVbbylbGcZS1vmcs9CwgAIfkECAoAAAAsAAAAAOAA4ACH/f392te9yca6z8aHwbyxt7q6xbqcxbuAwLSewbSWtLW2trKmwrSSw7SBvLKRu7J8vq2Lu6yMuqyMtKyetauLuqiJs6eNtKWJtKGLuKiAtaR/t6twtaVztKN9tJ99s6B2tp5Urq+urKmhrKWWrqSDrKCPrp99rJuDraB4rp14raFsrZt3rZtwrJp1qpdzrJhopairpqOOpZ2Opp14pZmKpZh4ppdxppdon6aqn56Vn5iMn5h0mp+gmpiNlpqXi5mcrJN0pZR0opN3npKAnpFwlpSPlY+Kl5J1l451ppRppJBopZBjqJA7nZFpnI5pno9jnY9YpIhrm4lomIprmIRqlIp3lYpolIZqlIFrpoQ/noZPmopbmoFMlYZelYVQlX1FjZGSi4yQjo19jYl7i4eAjYdvjINyin9yjodfjYJgjIBkjoBZi31einldinpTjXk0g4iKg4N9goB4gntyg35igXhhg3pXg3hIfH99e3l4fHljfHVXeHpyeHVndHdyXXyGmm1JiW1JgXNSgWtAenNjem1fe3BIe2c7dHNxdnNhdG5kc2ljdG9TdG1Rc2hOdGU3bnBvbWxqa2poamVmZWZoWmh3XmBmX19ebWpXbWlJa2NQa2E6ZWNPZV9JYGBRXV1Relg/ZllDXVpZXlg/WFlcVlZZWFdPWFdCf04tak0qliosbDUnWk9LXU0mW0AoWzAVUVZeUVNRTU5VTU1OUVJFTk1FSkpKS0pBSUdIRUZIRkVDSUU3SEA/Sz0pSzUgSSYcL1diPUNGQEBAOEBDPT0+PDw8Pj02Ozw7Mzw+OTk+OTg5Nzc2ODYxOjMvMzU4LDZGMTQvMzE2MjAwLi8zLi4tNi8kLS0qMSkiKSwvKCgqISk2KCglJiUkHygjKyEiLh4PIyQkIx4aICEkICAgHyAeHh0gHxoUGR4mGhwbFxgjGBkaGBkZGBkWFhcWFhYUIA8QExISERITEQ4ODhAWDg8PDA0NDAoKCAsWCAkKBwgGAwMMAgMDAgIBCwAIAAATAAAACP8A/wkcSLCgwYMIEypcyLChw4cQI0qcSLGixYsYM2rcyLGjx48gQ4ocSbKkyZMoU6pcybKly5cwY8qcSbOmzZs4c+rcybOnz59AgwodSrSo0aNIkypdyrSp06dQo0qdSrWq1atYs2rdyrWr169gw4odS7as2bNo06pdy7at27dw48qdS7eu3bt48+rdy7ev37+AAwseTLiw4cOIEytezLix48eQI0ueTLmy5cuYM2vezLmz58+gQ4seTbq06dOoGS9bdqz1MnDwYtODh26btdvUst22towWJk7GxsFzt41PCAUhYIQQQUYXPHrQ49GLN9xdu3XY16ljh65cOXLgx4n/BweO2zbz27JRo4abmrT30qItY8ZM2SxRsYi1LkasWGths+TizDn05DNQPXkUIAAMcMDhAx7U7JPPdPGoUw489dhjjzzyZLjPPvLQIxA/+6Azjjv88KMhh/LAs40uswgTDTTCiMKKNfHE480uvJizj4bwtGPgiALh0047IWZIzzjWcLMOPPYYKA831AhnDzzecIOOOuqIg00pcODAAxhk+pEMN+8p05pr2cTmZm276YZbb5h4Epw77nDjx3HJLWeELfBQF9uRhF7H5ZbokDOOd4qSVx43kJqXjXrsWbMefPHNV999+e1XzKfH6CKLLQMWmKKKfijIoIN5QBNPO+50/9mkO/QAiU479uyjYj4kkiPNMdS4k8+ww2q4zjKz2LJMNKHiYgw45YBDDTPGMGONNM4oo8x71LAGjTTLEKOfMOQKg8u5ueiyHzG5CMiee9JwUw463dkS5phlRhPOO++seUwxy3DjZmxwbmPbbrzFUqcw43A5zp7IKRcCGLMMbN11sGannTrdfUdOOeOU9yik6cm5HjbuRaOyfKstY98lsQgj7sz85RKgM+K0Uw8+PM+TqgAhNPigLbexdgy5zqzGjDC66FKuzMbwIkwussSopjDLTuMMMbGYEjM0xrBiIy/LrKdMNNhgM4001EB7Kz3t5BhyPPXUnQ8+8ZQTTTLZ3P+jzz7tlNNOiv/wE1s++8yTTjrJhIkDmWD4EQ2/8viL9TYD03awbQd3q/AlwoDDJTmIhFBAnyEUEUs7bl58JDvYbcmxd4w2Cik4Bhts8snwqdxyy7jEYovMn4rLX/CzJCOOOu1MN93PQTsYBy7irVdyOdK543E33HfDDp7tZJNL6EuOE8/d+VhjLjPuyPPNKqys8os026AjzjjtnBONM8NU8scflXhGrvBhIXwMCx/7+Ac+xgGL/wHwGedQhzsOsg9tAAMYsnCcD8iECGnwyx7nOpctbLEteEVDGUxrmgqbVotPYEITtDjGMqChjDyYDnU+oEQ02DMpbohHHdmhF73/aPcd8YjDUdsAx6SskQ2UWQob72kZy1hTDGHwQhfi+hd//pWLWMgiGeDQzpE4hggFRe9BusjROprXDnXEA4H7qBA6usc9dkAHG7bQhTXWAR5e8WNJHxtHhpoxC178ohnJUFPMwPGMC/rPgZW44DOeIY540Gtn9qhHORr4g/8BQxvYuFA9gMirIp3jHLlwHBjCAIYO8usbIxxhso5xnvPgjhmrOQY0oEENaETDGKao0y6ssQ1ygCMSN5RYDsFxpO7YJmUqew82srGNcQRyHEfkBnlKhhu1uaeX4Pqdmo6hrSv2p3jn7KIshpGNW42xHGUUgALC4CA4zKI74CBHrNDx/8YPxWMdc9wlNLqBDnrMYxq2yEU26AHQKNkDHFXMBjfEEQ1ZUKISorBFMKbRpBA18pEO/F8kKfmduEmriQ0U6TOIYYtj8NNC8BgSP+oxD1iAAQePYyUirCGQfOjCFiHUBTXQsQ52GJUcvaTPDi31K4V5QhhN+pgkYHA6ieWAEtlY43VARg5uZAM8JlIiuKpIjKcpYxnTWA8TsWGpaawtii7TlsuOQYxZXGIWxuNPf4Rhi1KsExvi4Ces1AEJBcgzDGHgQRhmsQ6QrSNHzEPcPujBsW5gAxrYIGiFppEMZ5SDHuwoB021MY1ZlIIY0QgG1SaBiEpEUhvpmMc9LAgMkP9GsrbAeMY0xKErfsyDthdUaTqaWA4DDiuBPZ3HPDIoJjDAIQyQ4IYC6aELEeJCqEbNLjmsAQ1c7hBedPLEMOVFDkpQNTnK4YEkrIGnIJLDNouq3TjU06SSoQyF/jnrMpzhjJXNJ67j1JYy+mq1o5FLF10kRSlyYYtYlCIWrCiFLfCgoHkmNgyxWA80prGNuNGjHtChhzsCukuCSsMWlMhDHi6hn2nU4xzPGAYubJGMZ6gWF6xgRS6C8QzYKq6RjvTfBYecDXCgA4H6mMdHQ/rJe6SjHOtA7kD4kY95tCMdzB1TgyIhDn18OIQj1IU00MGdo14Ll2W7ljSKEUxOjPf/O5fAQQEUAIP0QoIa2DkUeHSTT/A0ir7pSU/anHEMZ8BLGtAg9NmMtib/uGYZTDMXLmbhYFJY2hKXsIQlKBEJFSNiEnCo8CrHhAgFl2IWylgHz+A2HO50Y5eZZQdFqRaLY4BjmvTQho2Vwd9gwEIWwjCGNBjJY+UCeciuHXJus+Gd8+UayJMcsjYUlzPk8gMf9EjHObR9jiw7Fw6RAIfzwJzHMRcVduOgRjS8u54ZEaPNeswnOi6RgznXOQQ86KAQ6SWeJvpQPCETqzQm1USUhQuta/Odf+a6H7rqZ1ngSgYxnNYuW8yC0qSARTCiwewiH4kSIZDnqMEgCmuCQxxQ/65HjqTTxnW8GhmZxc42hFE1Z6yjyPOAsTPio41oIMMZWovGsbWBDmhrA7iTnCQosQEPfPxW6fPIB4w/OQ960eNDAknc4tQxD3oMIw84/TZW/2mO6gIVqNIAojvYoQ5pzWg10YgPNNj8G6hygxzoIEW96awcEeQhGt4hc6Lmi41/H1Ec3FCznKxhcGIsg23xkU9rlKGf1hgvi4+PxsQpzuARxoIUstg4tMQhjg9fIuQFGDkpBHdEaAVpjQzl0qsxSw5YcYOluZiGOnR99GdMU+i61UY2tKZsYJyDtto4PpCT32PSYqMeidP1M9KRoXQcvescowe2EWiPdiA+n/GoIf8PtAwHSWBjHuoIx7nMLtTYHbVbUtzl0oL51CZ5pxQ8sHcIloOHZeD9Y4OnHkXmKOSRDdIwDQW3HtSwNcrwLb7jcGRVVk/zcOBiLk6DYBZncbGAC8FADMlwNMTQX4UlAKkHBmNiCeRUVsWQDXLzTeSgDtyDDeQgHfQADslgcc4wDtjQfIGFDtkQY84wTdSwg8p2dLmlDeDQez12fKeEDeJGD0X3SVxXIeWgDjzTRjlSID9yMXgiD9DgB+P3bZCADMzzDjPGftQARNo1Db+DaDMkDPRndx8zCz6gf/y3DIHnHf2WG4+SO5eFgChDDWkFaYU2RQ5XVuLyNOTiH+wiaQf/loGlcAmXdgmUSImWQGEkOGo+4AeahmmkkAvFFA0OZgvTYGTusEbogA3LoAuxgGm4oDXBEITURA0AIgsSFgu4WAqW4Fqw0Iu9WAqlkHG+KAsZl2mYRgmUAAnKSAmSIAmQ4Ad+oIyIAAmIMI2RUI3TqIyQEAl+AAc/8ANhEAcNkgd+kAd8gAiRoIyREAmX8Ami8I6icAmT0Iz0GAmScAl90Ad6oAiX0IzrKAciMGf7lxxGcI+lgAvKkA2LYoDTRHDpwS3e9E2Udwz7w1+sQS6VJ4ETyC64kEISiGAJZmmVWImXaFgFMCbjl5I4UGciUGcSIzEDGZPHoQA0iRw1WZMF/zBnObmTPNmTPHmTOYmTc3aTREmTMrl/MCAmObBBkJALyPCUzkAKeAAGPuADPOADIpCVWjkCWtmVXpkDYJkDPSAGZ0AGOSAC4xeQJBiTIpADKXmVRVAERgAHZIAHeTCNlCAKpyYMZ9NL7kFXhWaRFykMjlZF5SIuajJjhulw7ZJgmlaJIlmSJHiVKnlvM1mUNDmUCuCTnNmZnvmZO7mZmomZRhmTdSYmVVkEYBAHpbAOdYMP9WALfIBYrBQGPXCbt2kEcmkEvNmbvmkEZBCcYiAGZjAHczAGvCkGRhCQpzOQXZmUaJmSXjmdaLmUvBkHeRAJk4AfedSR/qFXhzkuF/+XQk0zabOAC5FoaSJJCvF4iSEQAAWAA1apWMGpm2ApAgugAG3JlW3ZA79pBMMZnMIpoARKBmNAoHFQoMpZBD1QBGJABnEgB3IwB3xQoRXaB36Qj/mYCIoQCYrQjIqgCJiACZMwCSN6CZ7gCZ/wCZ5gCsugHRdiD7bgB3jABx6qCIkwopiQCY2go5jQoz/KCELKCIugo4VQB4RQCCMqpIswBzlAAM3pnFpZZ2NCm2Bwll2ZA7qpAzkwAiMgAyXAnyIwAmCpA8CJB5RQaZQIjKRwCZyWpuMzcQyWLMGoYJUGjMEICagHAz4gJkZgnHIgBj0wAgtAAAQwATRAAzIgA0P/MARjYAZnYJxzoAd6kI+EcKkbmgiXmgic2qmdSgiUqgd0QAdnEKmTqgecKqQ6qgmawAmu+qqw2gmyKqunUKu2equ3QA2DUiu4gAh8wAksigl7oKo92gjGqqOM0AhDSqQ6ugd7UAeM4AjKWgiMoAf1FqV0JgL7p5VXCTlWmaVxMAmLwFp+AAiqoApAUAJd6aU5oANyQAoyAyOUlovAaAvuQQzBg4uUlmnq2aakgIuXAAcKAJ/yiVNFMKFnoJwjQAACIAAEMAI0UAIxMANDcARVUAZlcAZ0EKr6uKmdiqOeGrKJEKqjWgaQagYb26mrqgkv9Kqd4KqymqKyOgqdYKuj/3CrtXoLzMANlAcN42AL1XgJtcoJdZAIw1qsPpqsyjqkhVCkwvqsSssII5oIPYAc+0eTMBAAAAAAOVAEVTmfKQmWPSCWiPCOsXAJ43quZyCmYwqWZJCOeNAgeBAHZPJcq5lhUQkJeWCXkIAHiNUggJudeQAHYIB6KKlYFSoHZDCoBBAAASAAC1ACFiCxjXqxGXuqeoCphCCynMupoCqqdICxolsGk9oHqTqirNqysdoJMusJN4uzOEsLt3ALuCgKlIAIeOAHomAKLlQHw4oJyeqjwKuqwyu1I1oIlyq8mEAIRoCUyqGfObCoQ2CyZ5CgRuADYFkEeWBX1TgJlIgIEf+6CIhgBPzJlWRqBNWYB5AgCcxojZRwV2UjDVzjpsgoCbgbjelIjdrYjXKmAFeZlNCljFNZh1obAIc6AV+qA2JwsaZKqRrauR8bopxqupQ6B2dgBmOQwZA6B32wucY7opzAqrDKCTLbCSsKu7BLC7TwCX6AWHHwwnzwCbTgCWMgBoSgCE6LrKrKtFK7CIuAvIRQByIqpHuAvDoQlFe7tUo8BFUAqaY6B2RgBHlgCqIQtLsbCbppBFwKll56vpMgPA72YKUgCpaGH8JgNpsnQpQWIMpQHrcBDiFDDsHAAw3Lp3XmB7tVCrlrC6RAx46rxACgA0MgBo9anKWroabbuZv/i6n6KKoWTABK3AMT6sAcqryumqKvmqIquqIragooPLRy4LVw8MJ54Am0cApUu7k4qsPUuqyq6sOFoKlF+8OxnAh90ANIfByADABD4MSRWqq6OcVV/GnxOL5czK7serDgO8p4ELf01CCIgAuWwkS4wVQzwgzR4EPWwAzQIFEGIww+UMc8cMfYwDGndETOEAlFsMsKrMEbLKmIHM+JrKmYWql6YJxGsMtkYJwbKqKYkMOtSsKZrKKeIKudXKuefKszHMo+AKFkIAeXoMKmcAmsYKus8LKfUAu1YAohPAqt8NGjMAqbsAmH0Ah70AihkAqpMNKNULUCSZOAvABz4MOL/9AHxikGXYsIvAC0RbDFYfnTYam990iJeRmMwCg8r5F4k5IeuLFL8REv4uAMxqBLTpQL4bwgfQoDfpCG6nDONogIPLDLDgqhEiqpFpqPfCDPao3WcxDKuxwHh8yhISq8I9yqs7rJp/AJprDXfO3JpuAJctADPhCOZJAHmHAKvHsKrtAKKq3SJnwLG13QH/0KH13ZqXAIhrAJqfAKnN0KmWAEm2m1+umfYjAHmsAL9rEIZzAGY1sEiEBpWKwDsu3TQF0EePCOlwC+kMBp2kgJs0ANJGMwxIQbiBZNXiUMt6ALyuCE46ALV82nK4kH2CAPK1ch0QCGMKDEPiAGfnAJbP8KC8EIC/1Kv96Np6aGp3XappYAyApgCeidi/qKi7FQCxc3C/RdCyMUQrVQXdfVNMkN2Qst2EYAw5dQC7QQC6fA2KmACqiQCppgCrdgDLcg2ZRd2Yz9CJj9CJtN2ZcN2pB7tSJAnGPQB6bQDMxwC4pwBkaQvZDAC8QwCUaAm7Qd1HbZzDkQAj4QB3iACCoWCbbANkxETcJtKdMCDavBYdOQC14jIxIlDGBQx1mNB9IAHfUwLPSQDWDIA13Lm2RACcHQkNSAQjZTNabAWpLwr5RICsnSLsEwNW0uLrZwCXOLprmwX8uyMs6QDHyVR04jDDLkcP8hM6ECVNclNSxFC6L/IAfZ+8KKsAvV8OgJ3tgN/uC8YAy1INkW/tGpgOGGoOGHMAUlIAM0gAIbsAEXMALHEeJmYAYk7g3gwAuLsLhgaQSR8HiTEMUN6p+9yaUHewm2QAxygOMw42DjGXfUwE2ck3huuBpBuAxnm1HFoEg50LA4Ht3LQINRQg/UAIZt2ZtxQAm5EA2AOOhtutfzONT2KAuyuB7kMQ63cnOloLd8cAnKwE/SsWrjMA3CQAt7TQu10JFMM7u6cAv8HgsrzNcqvN8NJgpxcJa2LQeK4Aqc/QqswNgMvuAPbgyW7gmckOmazukargY3HgIjoAJMwAQgMATjPAKEPAZ8YAruMQvG/5y9hd29sR6XchnFOlAE324JfbtKzdzMiJCmDcgetcTU2rQN8hFg03AMpYAJd0Uut5AJIHAAG6ACPYBTeKAMzxEP9oA3zIDdPFAEwfntZ9xLrEEJhsUDG92PioCMfLBi3Uwp7e4OrwIOsQAJfNDdyfBYVc4P/wA42VAMXWMKKhwjyG0LBh5MfeC9+TgJLWoK+10LseAJDS8CPQDXirDhFG/xC44KD75LE64Jlc3gq7AKm57hm2AGLSkCJbAEJ/8Go0AJRTACRnCgfCAKxtAMrOCkQU2bceDDUSyXijAJcjDgy8iMkYCMnVgKujAf0NAkWmJUeGIO7mAO4SAe3HBC0f8gDP0IMzZTCo9w8kygBUYwznFADKzj9fbgDssACcyMCJKwt5TQxgUYJgoiAGEw0ZHAB3oflwABaRk4cNimZds2rl28eOBiQeITkQ4nZvTy8fuXD920XKI8fTJlapauXLZomfLUp4yYiGLEyOmD6ROtW7VMZfICYgkUOnMUpXoVlJarVUBTpdJkihkzXaY4tWoF9JUqVageHXr0aFMVESFCjFjChEmWM3B4jDAyZgwfU82MmYqTQ26OImHgwEFkjBciI0WMFJo0J84lXcJikSJ1yZIlSo1tSaO2TBm1bdzCmfuWWfNmZcKS5boUiZKpXIUfiWXyZo4PHHCEkVsXD5//vXbKIMGBFGvWJUh5KCEjKI5ajhAFCvCAI0qSHDLMR4jIoyxbNmnOrGUDt65du22xEOWZdGpTL2nr8v3LiC6ZKUyTLoGMZcuWqU+Y+sgR04MPfiNi5kQSJZdhhLnlkTdSe+MOmKR6pRZfgnrlKE0wuUQUUXZhBqpXVlklqFRQOQSrrYorYIIXxOJijjBgECGttUThhZdLyPDBByPIIMMuRHSRZxxR4jBCDlaKiYWS3vJABJLe8MAjj0hisYYcaoTRZRlrLHsns1BAcUWzX64RxrNcKBGNFFuOESYT1BIsojVcxlGnHXEgOwaSOCIZKRZJfJNFllywEUeUM+rQgw9E/xThQ4wiyABDBOiOmS4aZ6ihJht0tnPou0tqoWSZZdbZBz18yhnmkj4KASWUT0S55JKQaIklJJFi8YQTTyQR5Rlt0uG1lTd+TXCOPhi8xRVXIjzKvj5OvYUbX6JKpcNXWrlKq0fECEGBAkRIAjUaYAhBhCLiIFcOPuagka4qCkE3DlHQyQeeWfLIo5ZmWGGlMGHkgwWYP4Dp0xZeiImGQFuKuTKcLH8BhcvNftnGGmyG+UQ0UeILZpMDU7sDDORwEaccakqRJJZS8MCrFF1s2VMSYbqZBpttaAElM2twUSS/HOAIQ4Qc/HAGHOqcmYYaa8rRLlM+LuFGmnC2oSfU9P+CkWSOQq7GRBNPajFmF1q+pqUWXHBByRNPShmG116BfWOQPiQ5NihWjkLlqEcU6SOiPmr55pdpiZqW2kccacONIRRAnFux3gglD7kQ6SMOHMkwogceeCiij0W+E2Ubd+zJR5lJJuGll16MKTIS1YFh/Y88SImRl31HkqaZZsLR7BVffun7F99XccUXXkxpVTdbktll4ze88BiOWcQRbjdSEAEDjktiieWS72ZZp5dQmMkmmGby8aUZemLpQa4wGs0BEme22SaaZSiN8lJwSkGED1GMccSRcvCRWj3GkYtImGtZhOjEKW7hi150Im8RoUQpTLELCvIiGrtaG7AGkYj/SewCQtfoRdyskoiI8CESrJgKKjQhigVGJSsNC4QOEKcAEdjgV6noxSTIUAVNLEJylPNBDnyQB2FYwxrUwMUlWCENevwDHbrgBTz+sY9skMJIlCAF654BMHTIgx3UyMUsbCEMXNjrGt8wRzzOcY52hOMav/CFKxrmCmPs5hJ+mkUukoeaI/AAB0aIhTOcwYxmHGNeQ8wFMXQhikgsoha/QAUoeOGMXHjjHdXIhVl44LMwhIEukXDGdKDhDGxgw1KY8g4cYBAGXnTCHfUI1T7oIQ4CwmQRfUhEKFrhiqNwYj9ywEMkbmGMalQjhLfIhtp8xTY+KCIUEIqXPOTxC2rh/y1vigDFVFZxCUqQDhehQEU4UVEIHWSLhmYYhbFYoQgyLMIUiMhRGPoShlIoZBzZKEcu8gAGRMzCi7uhxj/4wQzF9GkWmgDFKIRxDHygpxzH0IUywKGOdawDHOyoRz60oQ162CNL3whHjK7RHfeUAhakiMUuDCSWPsIADLEQWjOKyQtI8DMX0siGLiLBB1p8g4HXmMYs5jCJYOAABz/AweU6SRdKUCYbgizlRNfhDnF4BwcFUEAl2CGPenSVHg2xRSScJIk+ECIT6XTFKBbBh3JRghjN6FsqUsWLZIJjmb9yGyJMASH0oOcbr3jE5vKGCcABz3euYMWWqhKIQBSCOP8hgIEZOhGKXdzCQsYwhij8kCMy6HUZ41gHN7YRDmxojxKzgAc7SiEKcPyjGTRqEiIQUYdAgGISeVgHegQIjnZIbR/S3Ic+tPGMe+TjHZehxzjGUY9y3KJCupkFMYxxGpbmAAZFiEU2rNEM0zVDUHhIkpmGAYxh0KIVtwiGKUWBCDj8wL08gAEPqucDOJCCG6IVJEHKsR14gIMUfPCBH8MgDXnEo6v1iEc2ZlFAPiRCD4XYxC5dEYr7UI4MkpjFLn7BS1e0ghWw+oSBNNgHRIyCr339qy+usYtQdIIY2l0FKMS5ilCwomFUoUohSCELSxhKFLqABjSWYQxNAEZ7iMj/Gr6ocQ18XcMa+LIXN+aHj3qUwhK4IMYxlMELGsjYDBPAgCZoUw511KOvAr3IPJ7xDFj24x3yyEc93BGPcdTCVbFAhiCLQV0mtPSl1CCGM7zhjWuUIg5woNccmNENZAAjFroYxjDQUY9cgOEHYaiEJeBgVLuMqxRCw4YgxwEOhcCjv6Ro76XhYAkD06Me9FCHgiVxCVzQAhOZSIWENdGHM4yBDHGAhCU+wctwhoITFhKFIdg2iEMxCD38yIc87OHRazCQGskocjo/BApWWNJ3fqPKKoqxiDnQ6xLQiAwvFlGIRcjum5RtRjmaEYpUVKMZt2DFMKFhjXagRx2zkITq/yARiTZgIRBDAAQgojCJYsRDH2fOxz3ugY9zrHkev33zPvKRj33UGSS2yPM0pMFnJMD3pdRpxjXCMY5Z3CUX9/JGN1g3c2TAMhg/4CeCIZFUu4QBD9zLBi5gkYtgOIMb8KAHPfzbXjw0BhLT+Ko70CEObCSxFFlmhul64Ys4hqIQdeiDIkgxC2G4om6h0JopVpsJtt0h7K2AZjW2xAtzmONL3oCeOK7hDWl/oyiSVNgvVoHjVbBi3YsYeCzCxAtW2Msb7jDHoLfaDlIsohnesAZmMUuNcpwnI+qwxr7hp4kTVCEHXQBEKigxB0ooYBr2qAc8JJ4OeAyXo/LYRSeMgf8PffBjH92YxSdikQtSpiMcqEDNFFgDhk+ro6PHZUUc8hCOUJxhEo0GxmJgAQlo7CMZPqcEK85gjebBoQh4kIU6yBEMWMBCFqE0IjvIwRhkyMKKiEhGPMKBWVPqAqXhsAd5qDZfqIauQ7tamB8y65truAZmCLJYEAW2Q5A70ANFgLug0AcqM4fLcAeQgod54BVYwoh8wIzyCYd+8AZWAARVAARJ2gVeWDBCcCdbiAbLqAZpcAd48IZwwId42LkfuIQYkYZpYLxmkIe+ygdwEIZZ8JNs8AYyiAERGIIzWARNwIVfgAFZEIdguIWNegZhWIeMkodbwIIh0AR3ACB8oIb/WdCN9CqHeTCHVECNJli+T5u0fuAHd3CFNmgDGXOFa8iFWDipxpADStgHP4AD8NKBAIgDlGESRCOFXBCGYOgTQbIFUWCFIxo+dTCHMaEEcYgHdriGahCaWaCEIAwHdxjFYvIeRJAEZcAHjDizf7AHeIC9ZbiJA/kVt5OEC3yFvqIHdrBF0KkHcciGc2iivoK2WkS6eZgGUEi4VLgGbnAHdqiFNigEUVCGOYsMdOCHUem8drCEMOCBOLiabtsFVtgFc5DFfKA6bKAMOEEEHRgBujCCMPgBeviFY0AHcuiGc9AGYDCS4SOFPpgCKgiFcsAIeBAG3oiEUlAGbvCGVdgY/yawggADg0uYlGxgh3jpBVRgm3Tct1HIhFNYBDIQh7qgFxgIABgwhKsIkZjMBEfQBEfIhAn5BF6whbErh06oEEmYBOJBhCeRDuLJSZVTOXmAB0toOmXwvFmcRXLIBY0BljtAhEXwRVGJh3awRfTIh+1oKPTQOHvABypTh3QQB2VYhCFAjkqABWFAB26wnWmsB3yQBltYBjMrB3HIh3+rBDzggWwJATLghWoIh3bwvHxwB3AoGnAgh3iQhzlAgiHQgSIAAxzIA14oBVLYTEsgBUtABPCCBNk6AzKYhH77h3q4y1xYBkCJk29APrG4SB4IA0rQBWMYKWaQj1H4kDd4BP8gg4auWbRwAAdZ8LlE5As4OARxYs7mtIpLIAVYsLJ60AduCI1edAQyKII8yAVugBZfCAc3sgZSwANI4AVvsAeoVE98sAaq3EXN8UV42IdazEF72IdvNLWnXMaNo4epE4dm0AQjOKo/gIVpgAd0ILTH4wd6KIW7oAR1GAdywAd6OAZZKIVJCM08EAUjJDJjyIb01Ahw2AbewgduYIVAaIMhKIIiqJFQ4AVlEIezDEhIwAOghIQ5uAJCKAZZVMOx2YVlyAZ1YIdq4LMn8BgwOEU5kINLKLN5kDiJ0wZnQIYgQ4auaYZoUIBLSxJc6AMy2AWuA1Oug4oxbYVQoARLyIX/XMCDXLiGNlCESFCETWCEQ7MEbniHV6ibX4i2W2ASVtidb0hP9YRKc/CVxXE7rISQbxjLAOwoe6iGJjsP37vPb2wHd4iTdqgFGvmXc7gIeGCyJOHHYFiMXJAfaUAHeMCFSUAVfJEFXSCGYLiERbAGz6sHdYCeV8oH7mKFKlBRFuUBSKgHSbmggGQSSTjTRRAETciGvlKHJbQFXUiGbBiH4Ny6VHgDKzjSSIAE97KE/UqHe/CH2UOGKe0GaJhSd8CDLM2DgTMSREgHf4DXeJVXf9AHeEgGKzJWPLCEUGiDM0gSUaAE8CCGeuCHazgKPc2HzKoFc5CmvvEFb5BFQaXF/2XiAi5oAz+QBAYBVHy4CN/jB2hzh3Agh4782I/dB43TB43bh1VIuFpAzX9gB90cBsTIBnfghs5YCmGohcTaklXgBW3IBVgounUThbzsz3KAjXhwNXgIB3kAErPAAUgQB3xoh1yQhTWrhERsjIthBboTy6qbhVsQBmUwJWQYBmaApDeQAjDwATCwhJO6qXU4yye9B1cLxm7AW3Ywhjy4NJRRktGchXMA13mVV2ekklmg0VOcBGbABVJwhl5omFU4D3PgJYSFH/tEj3eAI0WVWK9cpkMIBDbAgjPIg0bMg2+AB44T1HqQB1mMWHDQoUiAh8FThW84M3zIhpLwzGRoh/91GAdxIIdtOAZaGIVQqLFreId70IZpQIdyiAYYTbpRAwdxuJR2oAcAmgdnIAVhOMZ56KheaBVYeAZLQJJTZMMf4walxQdsmIWwPYZp2AZGC4ZTQAVAyIIuCIO2tQRSKgdvuC/BDdd7eDiIo4ZOWA185IFTjAREiAV0GFzChdd7yIZpUAhKaDrGmAZxYMxbSLhVeId/kAdfSIVfCNR/EAZcaaJ3eIenPDMFy4VA9QW2eQRQOIPAhAEcGIWBldhvZGH0cIdiwFBWoN1mCMu+mk94qMuN27h6+CJm2IVT0IRTuAalTIdyMId2oIZL4APbhAbsKId4yIcJvS9rEAdnAFL/ckBDedgmUggGbYAFJznFz4AExy2HpIuGXKAGdlCHcxCHbpBSInSFXbiE9spISCGHG8wGbYiGaDiHi5vFXA0FSXAvRGsMSUAEUPiFfYDgeL2HcgCH/aIEWDgHZ8AixjMFhOKSd9gHdFiGaBiHEpYGShAF1IQHaTCHWZSHSAjMFomDMrABEEiNDcIDpDIqoPiGfkDCzLAHflDhjFJG37MHu8NTqvgFb8iMd+CHb+jNNwgnBvGFyjCGUWiEQHiDeguHaqhmYwinXYgYcECHdFDaV7MdZZAUaJCGY+CGdUCHncyFcoAGS/ADJbEEYlgGXcBBpV0HYSiFWCAGQDHGjUqH/2agq2nYVjC4kUKYYniouDUTBzNzrUJoBvSAo1vIhXt4NXoghkmAhDnyhk32h941MKoNy3qwhlDYhFFomHpzB43ABl2Zh74qh5Hw6G2wkFv2qwAFF3NCnBF4gba5jR+4HBzItVfgnWX+KxKWBzTC3DP72GmaCmq+hqD4BXl4BbYBFlSAkHBAh20whlAYZ1T4hUN+2I98g0wQheiEhbdtP1jAHmJoB3kAB2Jwv+3zg8LGoiuSBDSlkmkQmnJAh2x4XmcYwlISh3mYB13IrnOABZ6JhE8oBD5kBXEAyHkoYl4gBGEQqGpowCKeIsMLBIVrg2iA4HsoCFiKJVkUwFYYvP/fWYVfgIdssDiJpdxekKKMaAZQYBcjABdHEYETCGY/uEwcgAEYqJug+AYVtu6FWWGohLZqCAoc8x2uq4a/MutfqW6qfrNwqAU+MAJC2AVpMB1rUKlfOQRHaA9JAMrRmQRSUAd86IdmmITGqARI8AMm+YPQLM/GqGQ/KYVgQIa8ZozFsIRNsWxZEOV5CAaUoQRwoIcnYwVz6EvENGJ54IYpUocym8VwcAQqwAJAoIJAaIZNlriUDS6pQQ97oF3fCbd3mIdEjgeJNVhXcIdng4dq2IVZEAU5qAJI4IRl26eopm6p+IUssW5zQO8SFkt7yOI48AEgWMFfcAvioYVNWM7/5mwFX8gMEJcHcTCGk9gFY6gFZjCHZqiFBfqQTfiETviEUBgFfGGFapCiZhiFQW+xW5EtGkVO2eqDcmtfSTATSkAEP+CDgEaEIRiCYmiHYXiGeQiH2/IDUdaHe5iHqQMHaWCFXkhPe5BoY1AGYkAHG3+2XnCEQkCoQHAFeNhkfUhZXdd1G88H8H4H2v2GeTgHSgyGdBjgM5O7W0hGqKwGTeCF5NGgJ/cjHNCQV/gGecAMQA1Ac/gEOYgEaTizoOYLOVhBVQCFN/eEKB50MI2KutG67uqaUdiEem8ErMgEQXCDiv0CQ8iETtCETpisQb+G1N2FUWiFQS9eTGC3AJ+E/1n7BE/gc66hhVC4hdwrhD2og0RQhEWwi1mYuH3Ah0W4Ebxwhnv4VnUIBggkHdAx0U+QBmiIBHDA8n+Ah+JVGLma8rN0UroFV17vdVnch1/AMRx7hXeoVVj4Azj4g0oIhmk4h3KYmMQwBom9t22QdvrmA0uL6gI8FjSCPHOwRXfYBUWQHEQ4BTT/hmuYsFAgCqoIBJvkQ32v2Cywey3Qgi9om7bRCkcQhDboAjcwBEEQhEEwhEDgAi3ggkA4hJlkhEboH01ohWtY5lPIhEzYhJu8GhmMBMqJgzkwAzowhDWQgjaoAzWgdU1wsD1gBExoDJSpBGB4hkropKW3hHRwUv99oAdsWAZmGAh5CFlpYAZuMIUxsAZ0YAep4QdMOIE26AVWgPZeKDztaz8/QQZsWF5tKLOL6Kt+EDwOmXJ7gLVsyNofgINKcMs+aT9It4WIhbhUrIdeELG24QMENqpDGIQQeQSoqPcxBYVBAAg3bdqAStXq4KNDqXr1WuVq16hDbtzc4aJFC4iMIJZo+fLmzaCEhtIQCbJFEMpAgtxcvJNJU6NCMgsxctTqmztyoxw1cuSoEKE+QhGRMTJGjhk1bawEuXLGTB1MiwjpoUNoESVRiyD96foHkShIeXLR+2d2Xzx26FylctUrnLp15kad4VaunVmzxqpEwfKJWjlvq1b/sRJlWNQlUZ8+GTZFS1iwYfvMyvP27d27b9+2TdMlCg8cOH4owYIlS1ZpWbGk8cvr+h+/fPGgtfr45g4eMD544MDh8c2hR8IHBU8Y6MqQKow2pdq0KZOgLkSocAEEKBB27IO+aIEC4sWLJUu2cPny5Y6gNV2UAOHoxo4dN3vYdOmyp1GjPXXo1CFEc5c53XSTyR57MLIHIXMo2AcicRgxhBhVXNGGFEFIoQYWdeRXVR2K1IKNNdRw88wfP4RBjC6RWJINPnnlU4895KSCijXt0IMPPa4c4kk+9rDjIj29YFGINfGY05BDrMxCCyu1sPIkk6fQokswwdxjlj3mvNMP/2bhHENJHnngQUkzvRhjjDTeXNOMNd6EA89rZvETWzzzwHPNQZvsEYduPPBmXiDEDRfoIYMMYkgjhmTinHOZ1IFECRN4EAUgKRn6yCBcWKSFpmtMFAh6drTRhRNKbPGFIHugJEgbabBhx0prqFFGGWqocQYtAVazRxts0EHHrLaWcQYZReQwxBBIpCEFEV2ocYUa8KWBxhVp2MHIoqN4QkkfjJzSiR6J0NLLLZL4YUo116zZCzXWZBPONrv0ssuM34RjTz7V2LNLJt7kk485vrzySy2mGMyKwQbTwgsvuuASSzL17MMPN+iIs0w06NAzDSyVeAyLMb788otm16Trjf87+bSW1z4t71MPN9Y0YwollEiSBxg/gNHnF9o94pyhh2ySkNChbDLKKKEY7QghZ/CVRaWJ+pSJIYLYYWsd+6mRtdZqUEFEX1vPcUYdTkfRRqJurEHFFbT+Wo2Au6xa4K/AqqHHHGIkV8UUbNjaxn50FDgrrWbosd8ZcPyAQxFnICEDDWXUwUgic8hxRh+1WEPLIpho0sku7PQSCCigOOfKKqC0sonQnSCdCiiFkAFHHp1zwkknt59yiimXXJKNWebQMksu2UgjTMdeVQJLMNWQnNk3J7Njz2su58OOMRBtYoghd4zhww8/7IbDoYsezSijmWTSiXOjoJ9JooEAAnX/II6o/0j3gqgxxRVrrDGt/9aAhi5soQktAAICiSAEIjQhCSxgwQ0ieAMVdCADD7igIcwRs1NsoIMe/KAKNvCAA5DwASDsoApCeMELirABDggBDEVwgQs4wAEzmAIa4GOHV7ECGrRgBCMaATp3VOMQqADFolIxo0NEpw0GWgkg2lAITFCxikDMhCMwkUVTTOYfvcid+TrhiUtAwg9hioQpmnGNb8gjM+oKRzi8ASeWtQwf4zDGLU7xiI94QQw++CNvyGcI9BGyUZ9zjiEOYQi1bcEG4AFBBzUCghB20IQqmCAHUsiBTaqAAxnowAdYYIMZzMAGBmzBE7zgBTQ4YQc7/ziCFTzBDGEoIxum8Fsa0vAsNfzKVlcQwglOUANYpsENgriDHVQlwCa4kggziMEERmAEMegNAxewAAl20AU0+G8LT+gCKHZhCCg84QZdCMU2egEKVEAhhV9IXQgb8IAUUjI8TyhnBJugTzSgwVp1uEVedoGfQhioEFmcQ1GMEIZIGGON7wiHuq4RjmrsghktOss+8LEMT3gCE3vwAhOYAAUj9Ik3MPiCKqGgUih0JKVQuMEToKDKmbphPUrwghayoIU7GEI4+DPE1Wq1HzOYQXBZ008ZqoAEISArWVjw2xXY0JM9EE4P25AHOMohDmrogmqG0A9/9FOHPdgBOclCAv8SnupEA9GtDEig1REwcALDmeEMejDDEEqgAzMYKBFA3EMhSjcIgbQBJaVDBSpSNcVVoGITgnDC36w2EbaStW78tAJmrbCLvIwTPCn0rApQoAEKxKAMo7jGO47UCl/Yqxm3Awds8qGPfYDjFFUUhBZC2oTd+Kk3OKCIILhnPkY9Qn2Z8Cn3FMkqWHEBBEA4guC4Fytf0WEMNKDBEMjWBljZAQlDoEEwg4mEqGKhCmYgBCYKMYcxsHcXqECSOt/DK1vxcruwWgNTkTAFJ6BhIjy9wx3U5gQGTmGpSOAle/czhhHI4AyYoFwhBOEIQ2BHEEBsxEocQRBDtKEPnoPdIrv/IJD6TMRTEzkxSpJ5nz1owh6tyUcm5BfFgcgEE33ggxzk0IdbXMMc3ghFJnpxDW/04g5r2OyL8AGPTag0pRqZgZ9625tNdIJ9VE5f1WpiXOlyLz+sikIUPNADMURLEGygghRcdQYjlGAIZeAuSvRQBRkMgQpYsPPWqForttYhqWVwBCAGYZ1NAMKYVtOlGtjQhjXERzpHKDD/PMVT7oXYCVbYZheKuQbMCnAH2LSCHQS4hS2o55tdwOwAofAIU5wCDUSYwy7kQQ9ajKILUpACFZQQhS6sYQuqDKD/dFkrXpriH/eShyYAoYUoUIEKYJZiUBDBiE704jLmgEi1j1Q1/2P8Ix/42Ac5OhEf7nlBIzvgbW9gAIPnbPm4z0lVI4wrb57IZCBRAMIJhlBXXprBvGcYwxAWQIARVGEgBm/DFcDWbLYpGuFEwEJwOVwG/sVnUyxZw6vYoJ41pFQ8KrzgAUy4AUh+kIQH2AA9U4hCDjyAARDoACdRrgIWckCEapCXOdxhjhtYQRrrYIc83GGHEZqchPL8oAfpaUo0XGMf0mDHOlhhnRlPHVEyacQmqv2Oa7DuJu+oRigMsYt6zFYf4fghtjJxh9xCwY8mVTcM1EfpuQM1mXSXriCw0wYu3NsDZyVCgYeVVBpMYAEyqIKiE41LK+x6f33rFRFq0Cz/Uf/BwGxYCUqh8AIRIp2TML1BE6YwBSug4dcU4S4arLADwEOrWsuSghNqMIIJkADwXbjCFTBbgxos8EI3vjEk+vCrxTCCE5iYAzARCIQVpKAFptwCFJIgwQiiwAU2qEM2pgEOcKTjHJi4wSZrjvIllLNZd9jFZXpxiD2cIhzyCEcrDDGKbbTM7LegmqHeENInFKG3cIfBISgSpQEYMk3LpXVBG7yHqASQdfCdB3iA5IFZFBBBml0BpBCAAEzAEFzBneEZhuDaFRyBfuHeEATTdDBLEMwACKnAEzSBpaWB3fCSqMRHGvAPFmDBFXSBF5hYiXVBE5jS6NnaE4jHC7AACUz/wAScgBXYinpIAXKcgAkEwRSkwR4QyB6Mwh4Izuq4wShkghogwQkAAZglwQqYABFYixukAbSgwaxUwbAkwjLYAjagwzLggjAwAiBwwRpchP/kHiwZQjXgAz/0ghugwSjIA8AwmReMgsrowzVExCDcwRt8QUjZQCDhwP/JnXTdQSCUWC7Vxx0cStWoR30sW5hVwAXIFQIpAQVG3ggQAAFMgDbZWprBIBbgWhUgi4Q8IQ0cmBR8wANwwAwkCy8JixviXoHxTbPlUi6VVw6iWablkv9YARHYAOBlljctQREeIQKcALTQlxrgVQyUQA30zUSkgSAcAqwc00QIQi5ZgRDs/xrCiZeGHMgcjBUh7Ed/YEI27IIpkIM13AI6jAIgrEEbXMdX1cEc9EEhjEI4mEU4PEcvUEYrUMQpfJs+VIMheAEULIF3ZMQJ+BYmwp36zIfdVY3V7MdARFzVqE19WMQSAIEHYIBcuUASLEEUqEEVEJ4ABEA3OgGaOYETQAsOCgsWFEgaAJMwqZAGBNMwCoEVvOMQCIEIIkEVXOVSUeUR0MpVXgEVYFYuqcE7/uAOiN4UMJAjsYAJWAASRo6thKUa5BUJAIEUrIETtGB91GUapkF9iB4RtEDjTcEJkMAQCE6qzMHh5KMTJYImNIMmLAIzPGIvPEJNcYEx7UFi0kQnXP8DRHbhZv0DPMiNI+zCPbRMaE5YJFIiCOSASP7fT6VYitlB3dABGxTIqhhcfXRB39HkCawAC7iAEkxBXvVkACyAEGiareFeB3qXECDB15wABpDACdjAB5QQCphAMDVBFzzBDjil5BFBteBgCGLXVUqI6FUBFhDOv+mNGIwBUVVBNYIHB1AAEtYAM37iFJCABZyAEkgBqRABgE6BFGxBF7wKrLgBG/ylEvCaFAymEKgBSrSBrfRSGmyXhLHKonDPiK2BIBRCItAB2RSIIzRDZ3oL9bjDKGiIMXzbPuSDMfBE91DiElyiuikADBXKoQRYgP2PFeyXC/JaAPElrqHZbgb/0wrYgCgRQV4tAAAAQACUwBQ0W+S1wAqswO4tUOSVIU1egAZ0aQUwwACE6QBAwA14ExFcAAlI5wxc6e4FwTUKp35JgehZAe61jXfVwCuhFRLYAD1xAFuOQA1ASxmkp07SgAXQWbVYQTkRqK0pgTVawRo8gRTYgAakgJvWQJruQLTYAaIpmsb5T2H5V4D1U01tgTH1WVQJxD9Rz1zsASdwg7Gdgh5wwjJc1D9UQyZwahqw1BaEwQ+YFAzZqKeokjcxqjfd0z0R6A6qx6g9gQR+QAZYgAVgQAVVQFNaAAIEQJMCgASYQJWagAmkKQZMK++FV3hdQAWkawQ4QAK0qwGE/2nIbUAGUIAFzBCaoqkw7V4NuICVVmNJ7IANWB+A2oANrJ4TNIESbF4HzecCTECg0krbXKUMzB7BXcFZWqNNKsFaTkAJOGoS2AAJaAAJhCsFUMAMVMv/iGUu5WB9VAuvpeGspEGvRQGj1cGz8FqBjgKcXFvxbcM/mMMp9IEnZMNsTYY5dAKwWAH0bUEbVJcYkMHO/GpubtMA4SwBIeuo5eYWLIESKAERsoAHkMADVoABtKsDIAABbCu3agC4ksA1Sau0BhNvhlcJ0CRNIiHeXkANTNAIwWsDVMDIWmkQWCMR8GsK2EANIC7zOV8QDO4O8F7j8ukHUQACOEAN9KhZTv/BEZQAW2qgxQaBC/wlEATBCRTeCCiBC+zeYErnCViAA7il34Bj7okessgsfCSaHXDiqdKBxfpnLnUCbG3DKFwLt7nDKSSCKaDDbJlFPdRCH8xBGVgBFJBaGpgBHyTCSxifExDQFtwasj6BEtxT13atpA7hC7gACxQheAABlXoAAxiAASAAAsQvcRKABGSAvb6tBDjABQhTeDUVDciADJTA7OHtBFxAEDjBWQYTCUgAmIrpA3wAwRIB6hIswQbB7rmAC7jpBZcEBrNcyD2ABMxvNtXADDwu4rqu/CqhE7jA4frmC5AABSwACTwB4pLuCZTACRiqBcRAFfASiNLKsJz/QTjKwAQoBX4ciHAhCiNUxRREwa1ZQSNAwz5wHRVy2z7sAifUAj3og2swAybQQRos7R7cwjScQzkogyloAiY0gRQgq3iA7/gmAR3TsddubRE+EAuogB63wAdEQNkmwPxma5MGAARwqQZEp9tek1zVQHjNQJWewAypK7smgANIwOXinlLmcJqSQAY0wAGIaQNwAAvwnhAIgb5iKYAyUEnYAAjLkwPAr97OgAyjKQmcLQEEQADIgBU0ARE4AZK+QAuQAAY40grMQAt0AAWwbprOABFgFu6VQdsMWxnIwALIASNoQiYAETcfCFKJHttcAR3QgjxUgyPcDS3kwz/Qwziw/8hrVEMjyGx3rMEoVIw6iIMsQAIkWIINJMH4KsFdDqESfCzBtsANiMcSOFAogUceP1AHxHL8zq8BaGuTOsDIhuy8SkAEMIAEaEAFSQAEQEAFhDQDlDQDJAD8mnQGhBIFScD+urRLUwDbhqsJZEAoQzAHoIApM9UpI8ERCMEOdMADNMC8WkDDkoAJW4DJutIJjLAACIAO5KUVKMEDLW7ChqsMO8Ayd/IJrN7omeUS1k3A9YCqAFUdqFiBaM0VmNesZI48cMMnCB8dJEKs8QM+4EM+dFE+7AJZcZwWuMEu/EI1ZAM2yILHVALBSt/06TELfIBjf4AKMLQmhV/4fVIFnP+t/MqvAeSykyYABIB0SENABECAy6Vrul6ACXhABUFABmTASJt0SXdAC7hgEHjADC3yA1qp9TFfCswACnjSTYdpAyA1lqJyDWgAKDcABZztBMTAEQxBDMTADIggDYwAAjy1CFjBwYJv+lofQCuBCZtATLPuCZzwKx0BevfoKgtBDBDAAkBoqLlKhcJHL00orGTCLcDRLWBCIiQCixmDPOALvuQDN9CC8fF3qAkCYh1RGcTBx9DxDdjxEzQr+NYxHZPfwUZeDSDLKZ9yDYi3/Aoy/KItASBABJi2ulJABIA0incAuJqABnDpSENAuyaAy3k06AJBCpiAvXqyR5tACrj/OPOldsimqQZ8cnAPwAFk0gpcAPxa8gQgQHMjSwmUAHYtado66RCg9xS4qZzi3rMcAS2XLGGiN3orEJ4ewQ6ccuM6crYWZw4erKX1E1yqQT8x2iC5D3QUCLaMQiu8RTu4gzfswrd8AhurzSCggiqoAiCcgA9AAiVYwq3pE/k+wYCt8ipb5Rk4jhAEbAu4QAukgKingAagdNlm9vwSgAFcskabtgVUAAWguLV2aYzLegScOJqaAAp4ANvaNgY8oEd3gLB7QAp4wHWK+osn+4t7MiiLqS6veiX37yLb8ghTNABsOXpP9zRvDR241Q7EQA8ji77y3pUKQeN2+AwsgLYS/4Aa9JoCC6VQzunoWYF/9tdKIKgdOMIm5EkoaN039MIoVJnaMQEIZAEqMNYboIEcQLolYHpVotVZAihB24DXKkHjVukKBIGH794ty28NZTYGEsAl37ppu/Rpx/gFuLgHmEAHrDyvt3xqe2uoa0C6uvYFEPvLP+DKf/puY3wZJnuagmsKrAAKxLIui+mYZkCaliwFSABKW7tzW4GaR4se6AF9P/cMSKsOD8G4r7kIYjs1VcERTECTCoAaKKqcR7GA3pp/1geHRmIacij3hBqHBgejdIImOMIdhNQboEIqfMQjcELNNPwqU3rXIuzHarAovQAdN/SnezoLrEDHozoCLP9AT2agtNqyNQVulSL7qAv9Awo9z/txBoi0aEdApYr66IN6C4T6qCN70Ke2anvrCngARBvA+8Iv0is5u8Kv2k4APzVBNjWBqdG7M9Eydq5pMF05hDxtGIQBNX2XADRpCABLDX41/+Qe7k0tRQxCJ0qaoXTipM0dI9CEGxA8E2SB/jGBF6iBjkUCX+alUA60xzqQHr/AQDc0YzPfB2gARLsrQBggIEAAAQsnaghJOIRhQyEKa9RYscKEhxQXMaZokQJFhgwQIDhwkKBCioktULZYkXElxg4aOngwgXGFShMSBBpIkABBAhI/Mzw4MICogQAAkAaYceNGBxtOukSN6qT/BQoTP03UYChGzJEhQobU2FFjxowTMQQgFUFHjZopU6y8nXKlTF0zc/SocXOH75oua+4MuuNmryHDhh49ytSo0RctIKBwAZRlCYkYPcTkebJFyhapUdesaZMm6pYnT5QoSZKERWsWL164mKiBgc6dBhAgIEDAgcWJv13YEO5C9oqIWhs2PE6WRAWQIRM40GBy5u+NKlum8PAS5swWNoIIt9GCwm4EDiZMiLHjyI4ZJig4MBrgaNINTFG4aHL6tBUnM2iQQQYadKDhBBJmsmojjlBo8CqkAFjACiq6IIIIJJAYgww55BgDiSmcsKKLvQbzy4u93PjLDUEEMWwQQwRp/6ONLUBQ4QUloogCizLm4AMvKfjbQsiovCiyiyFFjIo0KaRIbYnUhOugtp12ckCCCSwgwSTsLkoJu5pWCM4GF1ogjsyEIjoBAwssuDI9CzA4Qc6ZMjLpgw9QSCFBq0yYQbgmbGjCiiNmmGABLEdyoIIKKJBApNoMMGCC+gIYiqgBDkABCTM0HGOIn0iAqYNRRb0ThTs/GLWCBCAcAg02zhhjDDGQsLAJQFdb7Qkv1vDCtM2K9KsLNghDcY00ykBiBxVQIIINGQWxQ426ylhCyGv/6pXXI09TLdckZGPBhSSecMJcFyxwwIILJIhAggt6qsAilIorU7zhgssXzJqIA//iAw8+YkBgR9mMU04ahtCBIRpoqEHOOU2IeIYjrLACDTSeIMIFCAayTafnIBAY0kgFoG+BHnow4lNLMd1AhSZmCHXUDu7sIINUNfCoggw00OCCCSDEiw4pUmoNthfGs0FXz6K6dUQ3hE0jtNAGFeOMPuzY4gbwnJgiDWTLqKKMDciGYkhfTfs1NdW8Zc01MslcoYJIbRPJ0AlqIGIKJqVowkIlzHViNbjzTWmljVb4QIOQBQYpAgoapSBLEi4A9acTZthKjDIGPaIrGsqaAQUSGBiIALqjEzmBkQ1YoOQAFoghhp9sBkngS4l6wGVmG2ywAwdJoAFlHURASoZrn2j/Dc8GWxMuiRvIzdY0KXp1w4snmmBPjD4w0cSRPUh7QgUVWBBuB6+nGOKIKp64QYUNDtjA7COFfGKJJ5W438kbWoM+CSgzkIBI7YQBdrOACYgjniAQwQpSiAobSNOFijkBUMRZkHa245HnVKA5GLiAB74TphXYYCxHQEJdiOAeE9gsA5XrU1kWNgHzTCA3VULPBESQwwUsYCD0MYAEbsaBDoREJBKgQAU08IAH4A5TDYDcZYygg4eJjgQiyIEVOPMEG6CqQS0o371YkIQtoO1JW8he5sqQCE1kQhB3WINnOvOEF3CgfC6YQRAqdsIy8Md+ZNsAZOp3P/vZbzX8M9oL/3LlggwM8FEXiNgJwuS8MeWrNcT5TU245gQpVKyBTnCBB5wDASRewJGVq0HFLjYoG9QABS/xCM9INao8oSpVCCAIbnZoxRzkUATpcUBuDFAyATAAiB/gAAce4IACGvECGmCUBIwIOQow4FIHeAAEHpCBRWkTA0QwFxFUc68mfCtXN1jCE6DwhJiVQAx60EQj1gCkbKUobU9IAgo0QAKrzKAGThBSxfhoP/f5EQQg0F/+8kdI2CThnEJSQgcESKUEROACbEKgDYAAhDq+oHyuEVcCyYQS4QAhCECwQQp6VgETMHAKJ8RQe97juw8cbiImqFnOeqYBFGyHBGeRIQFCsP9DBIiMqAKjW0GydJDQkcACvpScZXLggxzkoAQWqIAEQsKAA2y1mgcgpglaUJGa3Yx8rmnB1shyFRmIYQ57YJEbu3CabIXmV1CAwhJYkE84YaAEcpqBEKaghitUbJPXsuv7yFbGa21hCau5H2PtqQHU7YSiFbiARjw6pv/ZT3//S00SxAOE4NzKCmMiwgxikk9SVgAFNvCmBNNwBbg4gQhBWAlQMkCByw1BDEYwQhFkIEMB6CRSBVRmbYoqQJ04AAIZaGVuKTCCqPqgCMCNQaMiEAFligQkzIUAy3DXADq2ZlS0VIEzGYCACehgDo1wxB20doPNeMYzhOHLYBarxav/xGAE/e2vBfoalSvQRQ100EMfEKwHNNwAfvLTgpCetFAlcNYFq6KSARhQgZd4wAZt+5aT2JYa7IUIDXQwcRrQ4AQbsNABHumZB7ajETCloGayTEFEeEuGWY0hDmMoQ23HA9GC0E0nRTUqkTFspT5ppQc5+C8SSQWBCGQgAka2su20ykRrQkCABFiADsYgWHDOV0hmQ95mCDM1IYWmC9kji+xk598RfEZIRQrWsdIwBSEIJX43GLATnuBA+tmAAlUioEo10uHTnHNtq2mCEgSFBjvYwS/mGhO9iJMzUO6sAxHzgKi4M6oVnkB4RfAtw0J1AVGnIIyBroF8EAC5RClT/7lI1g0BJhBVUx8olJbNQGqdc1wrG1kkEbCpBoNJnwBgSgU2wGfPXLAELWiBC2VG3jnvjLb5Ym+VJ2CTnPvbFhRf60RFqh9nocDgrW7gBQusgqw8NYL0TEAkLR5hhwXZnzRM2g4Xo+DzbsBRG7RGJQRnwSs3+Jwpd4dAKMuBDH6S0565mGa0NCYEglnc6OizLJgzSwmkywMY+NIBHWiNCjIgMAdkF4nOGbbAVscAKo1koiSggEAWMAKuTGEGEGAipjhwP0EKfTPgshbTfkVmCjZBCN62wAjYxCYlpcEMZzAxW9oyWCd8FrQsgN+6b6QEG9wkN/OW7hCqMBc6TJoOVv+4VRKOFhu4Q4+jLmjNSlAFMGhi1bIYwICAoqoDiDfzldp85aK2qQEO3MmjGL8l3axEAV32wEAeL0tEZrCD2q4gYI9zsctVvl3VSbTLBRGB1eqABSGYwGeknHjAqvkAG71A6HhtgRKGVBp7Wqtc5tqB06POJnTez67nxp7fpmAG5Z9hDmYoA6E2IJQ/3gAFNHeA5GJwBDWkeMTvlpUYqlCFWu2gw1sHrd1ZsAIW+G5UlpEdyooAcqtWIALbLPwrZ8bCX3+ABWW1EQc4piAQIJdyaATqTVFEaWd2hmd6prXOJCIewrVqgASMaO9oTea6zHQWIAeMgA5m5AXuZCVWqIX/CE9UNID/PkAoqondmGKMrGdbtIhcpECTnCAITKBymCrqhq/2eJAHF61rrAAJqsAM5OAI4EeJno7eoiMDZmBcGkvocmWBiGAIhLC3fEtlQKenMGcIfKsIHq4EmmlxQibmQOL+fm1Ujin/9q+sUsAsRiAEFCAEegkBbAO5GKC5Cm9mFo//VOCmiKjKDMACxMJCiEAISEA+CIIARMAIzKAKhgADJIAEVoOjwAVgPIKUdIbTlOYJVcPrLCV+XOYF5mcLJowzNCljZoCUcpBNzsl+zMyw0max6izNjoUN3ojBLgUBRkAERoAGMIS2PAzujsY19GQFYCgM4AAOwmAZw+C3/4ZgdijHOWotwxTP4u5k8Wam8PSpBo6ADMggDHpgBDKOyBLQ8DoAGxfPNYzpmIToAzxCPn5I5aQpAXZDEdlqDqrAYSinXSKxw/hnJVpvUfCQAU1AaRjKB5eAKRiMz6xpfJSgM5ikC5xgAkugqqLuHzAyIzVyIzmyIz3yI0EyJEVyJEmyJE3yJFEyJVVyJVmyJV3yJWEyJmVyJmmyJm3yJnEyJ3VyJ3myJ33yJ4EyKIVyKImyKI3yKJEyKZVyKZmyKZ3yKaEyKqVyKqmyKq3yKrEyK7VyK7myK73yK8EyLMVyLMmyLM3yLNEyLdVyLdmyLd3yLeEyLuVyLumyLu3yLnPxMi/1ci/5si/98i8BMzAFczAJszAN8zARMzEVczEZszEd8zEhMzIlczIpszIt8zIxMzM1czM5szM98zNBMzRFczRJszRN8zRRMzVVczVZszVd8zVhMzZlczZpszZt8zZxMzd1czd5szd98zeBMzjJMiAAACH5BAgKAAAALAAAAADgAOAAh/z8+9XTwsjJyM7HisO9sri4ucW8gsC2i7+yl7ewo7GytrKwqL6vjbiujLuvgLuwa7qqjbmphLOpl7SphralhrGlibWhhrChiLWmfbOifbSld7SnZbGge7CderGedrKcY6yvrqypnaukl6yjequgj6uff6yfeqyfcKydfauafqycdqqZdqyccaqZcaqXbaWnnqWgjKSckqWcd6SYhKSXdqWXcaWXap+imJ+ZhZ6Wg5+WcJudnpuYgZeZk4uZkquSZqSSbKGSdaGRZ62JWKaGU6GNa6GCVZuSgJuQc5uRZ5uNZpqKbpqKYJuFZJt5S5KRkZSQfZGMiJKLd5ONbZOJbZONYpOIYpGGcpKFZZCAZ5OEWpKAWZF9VpF3T4mNjoeHh4mJcYmEbYSCfoeBboiBZYmAW4R9bIV8X4R6Y4V2ZYZ8WYZ7UYZ3UoVzTX6BfX58bX16cH56YX13an12Yn11Wn50Tnh7dXh2anh0aXhzWXR4eHRzaVx6eZxrM5NoJ4psRIlfMHpvWXxuRnxiTnxeGnBvbHBuYHFuW3JtT3BqWnBjWXBoRXFeKmttampoZGZnZllodGJiY19dX1ZbY2poUWZkTWZfRl1fTVtaVFVYVWNaNFlZQn1RMmdQMJkmLmY5JlVVVldUQFdLPlg2JFBTVU9RUk5QUFBRR01NT01MRk5FOU8xJEdPVkdKTEdJTEdHSEFFSkZHQkNDQUFCQkJCO0A/QDw+Pz49OD06O0E5JkIpHyhPWDQ9QTY6PzU5NTc3OTY2NjY2MzA2PTE2MjQzNDEzNTMzMTQyKy8yNS8wMCgxODAuLy0uLysuMiotLSwrLSkqLzEsIyoqKC0mHyYqLCYnKCUmJiUkJSMmKiIjISAkKBknLSIgISYcKR8fIB0fIRwcISgcEx4dGhscGxoZGBccIhcZGRcYGhEWHhYYFhUWFRUUExEUFBkQEhISEREREQ8QEQ0QEgwMDQsLCwoICAcLCwcICAYGBgQFBQEEBAICBQECAgEBAR0ABwAADQAAAAj/AP8JHEiwoMGDCBMqXMiwocOHECNKnEixosWLGDNq3Mixo8ePIEOKHEmypMmTKFOqXMmypcuXMGPKnEmzps2bOHPq3Mmzp8+fQIMKHUq0qNGjSJMqXcq0qdOnUKNKnUq1qtWrWLNq3cq1q9evYMOKHUu2rNmzaNOqXcu2rdu3cOPKnUu3rt27ePPq3cu3r9+/gAMLHky4sOHDiBMrXsy4sePHkCNLnky5suXLmDNr3sy5s+fPoEOLHk26tOnTqBk/6dHD1zJjwG7JrmWrlixZr1CVStXKlO9SoEqVIkVKOChQmY4jz8Q80ytj0JNBPwYdEx5KzK4lIybri5cnIEAo/3jhDd46debSoTdnbj179uTMjZvvrX42+9euWdtvTZq0Z9U4w8yAAy6TjIDOBCPKK78E4+CDwciCyizCwAMPPwTtIIAAbujhXSb20DNPNedUA8058LAjjjj0XDMNN9dkc4806cjDzzi2zOKNPvKowyI886zzjIHLFMnMLbiYQw8+/5y3z0Dm1PeOPvzY485A55mjiirq1BNkMOS4s9oNseBSWy22yTJLLK+80sqbqKACZ5yo+GZnKabgmadwdj4HnTHESMcMLpjIEQkz49RnzRM3hKdAASBIY+E767jDDjvvpJPOe+aQE59888n3zTfecMONNzHqZ41+1VTzjDQCDv+YTDKvGXOLKLLg8ssvuPS66yulwCJMPDYS5MWGX+jhxQ6P2IMPPuDYA84v2MBjzjryvDNOMNyo4448xsjD5Dk5jvMPP/Jk8wyi7kiTTHbLyPqLO+vqI84t3gyUjzfjMGnQO+qkM8007NizDznHiOOOFz3ckIpss6F5S5qyxHJbLBa/cjHGbXacyivAXFMfOfziAszJxKQcaC2FRiKNfCQXIIAC4hWgQDHsuKOzO+usc6k6QMPn6TjkzDefON6Qmk02MVrT6n/PRM2MgLMCQ8zJwIDySCzA9GqmLSa/YgosyvBxjj747JOPPl9s+ISyOxTibD7g0DNONaroEs013JD/I8886sxzzzv5DlTNK+r8g8892IaZrjSlALMuM7RIYow459yTyybRCHSlehgKFLo+7gROjzv07JPOM964A853PaQSjDTL+CdNNcHIhststMTysSsayzJxjrPcdps058U3jjlWY70dMcXYggkcjjCz4nwy2/yoArioYyE8lPYM9Dqbskd00fQlys3S+a3qtH/OSG1gMSoD88vJmTjySq+29F9L2MEShjbY8aSBtE0Ab1uW3Pixj2i54xzkaAc9QvQOetxDcP8Qhz0GciFb1OMf+6CHCOWRunQEAxTBeAagbgGKdfyjHvYKxjXElQ15xEhTUaqGophxoGQAo4e1GJQt/6KwmlMYIx06A1o6TgaxicliGdmwxjIkZ4xsSANNF6vYM8jnjU6No3lXAwagijELSbzBEcSYT3wUMDMFbG8W5gBfz76lKffADFT1qU9+9ui0asAPQc4okjGSQb8w4u8RsvgF2MDmNWAJCx7yIAg/3LChHcBND/j4W7S88YtxAClE8rCGCO/xD3qc6x/WgI4s1mEeb2RjHNmohjVsAQpT3MIWsEBFKkBhMukA43/OSMYvpAEMa3wDHOdQBzmAVI1vyKMe0LxHPvghDm7UQhiwy4Qx1vEOdpAvHVdrIi5oIY36VIMY1niGOJ4xi+JV7BWxSIY7OtUpcuCCGLDB2tVwYf9GNMKMHGzUXgEK8ApyvINnSuQUfBI1jlGV6hrfUNV+WuWqZzgDQbMKVEaxZrJMPIJBX+ufrlpBCrJ5U23PyoceKnlJeJTzGcCQxixiOjlioKIWv6jFLWiRO54CwxWoSMY1noGLaiQqYJG4RSakUQ9x6EIRltAFLnhGjmWo40bZoQYrJsGKXXhJIN8wxz74kY98FJAey4AEH2CHiWB4j2fks9XEbpExKF6jGr9YhgyTgZuOtYkYyoyPp0yGT0BdrRi4iIQcFJGM5c0HBG18VAFKoY6DfrOejlVeovLoyj2272kWvSgzDCSdYlQNa7uSxEdDaqZetaIUrhBGOvz2t3n/yGOlArDkF3bgBmYsbVeu+oU53gEPb7ADGEtb2jjSkbN6lAMWrVDSPJIxj2f9Ix/GmActTBkOXYhCF/3ABS8AFjV+7IIVwlArH9a7C14IQxnfOAc+zMEOfOTDHvZIFx988IUo9MARwUgHPNRxnnTwamK26Z1vV4ULZoSsGB1rxSs+FuCiedEWVjMsoIRBDEeYQRHG4NdjBSDQAmBCHZfa1KcWSp/6cGNUptpjq5zxtPgVaFbJQAYh6cdRYKgCV/0TKW1w8YpMoDdK6mEHgRvB0mW5wXs2ZEc81HGNeKwtbc+AxzeWRo2wxuMf2nCFKYhmD2rYo6z/eIU08DHVfUBO/w+g0EUteAEPTPwiX8rYhXr5AAlIeAESu9iFMs5hD2tcyRm42MY3nLHeL3yhB424xXB7dh5FOtE28VyaNBpMDGn8IsKp4M02jVY0k1mtfr0gRiTeQAlucSNRkC1xJLyhnqApE1RGa+hmt9w0p/UxatIYENV6yOOT8UpXP56F13CBJrC1wsjCMMc3UMyO2T5iQy+Amxe8sY5zMMNC6ajyPsb9D2fgYxvOGIYyspGOeuzjG7NAhTeeRQ2BBA4YksgGOZDRDFiwohGQ4OqwyhEPfQgj0HuGhDL6vAtt+IId0xxrngNdjj47+gmFuMUy4aqOX9rmFrd5BTFiVA1bMGOYwP9gUyvitHJggINp/akGKtoU6lakohS62YMZDPGKWYg01m4caCOYYVEf8uqHAqpGNl6cqIjCqNegvWispLNjYPB4V8uuRSmU7bUg46IUkkDvfLw5YHZMYkMg0LY55OGNLKeI1tcViDPyYQ2pb6Pd62CGbbixD3YwQyDC2AYtcI4OZcDiF7LYgyQEjo541CMfvAj0JCbRZ0hsQ8+7SIczzKEPfZwrzwy3eH/tcItxAG0c4rhGboZTikxgQhJ6MkUmTBGcUrxeErjHvSnQZL8fokIWtXiYrnChbA87Ahi2sMbSNVRiPTCjPfLxhqu8YQs/MsMYWJ8FPIuHYWIsI1ai5SH/jotRbKx77ReqlcUiz5QjsLOCF8QvxverAY5SoB1uTxiHO6SPnnnMw1z1tQ9zh24XVQ6NJxyFUAiS4A60wUC7IAypQAyvsA1bVTy34AvlEHnoYA/1EGgeqGeANnEVMm0w9A/ocHCCtg155mhR4AazIA2sQjs3Jxw0CAq1kDIQFgu1kAxfNxzHwRy4kB+cNQu70gr3EwzEgGGOIAeOYAxBWB89QGKOUgBukCSzpT4iYwuctTROMwvLMCTCRDwTQhtgY2yGdGxdZwvEUAuSkCts4ibA4VGNUAhzKAZf8AQ7EAV6YAf3tyzMYgqvZwqxMA9Nwg/X8A77wAz7QA3KoAzD/2CAflcLpjAh+UANv3BdD4gL1MCIrMAKyhAM0QAOhrcL22AP7+CB23CCqJhnyhAPzfANX/YP23Bw24APG6QMLCgGrzAOlKZMuOEbK7dyoEAKx4EnctIbrGcKpJAJuCAO91Eq3pArn3YygIILweAIaBAJPCgy3PAEJEYzAyUGxeBFpAJL4zALz7g+7dMKybCJ1AAN65IMr8BDzDAMw0B+Imc//EOGtXE/xJAKONUmwohzx0EKrqBIyIAKxeBHr9CHO7ADyTcOxeANyQAP+DAO9gAk+TCAjagMBlgP49ALwoELF+kL9rUL2HAN0CAM6NAM2LAN7jJxgbYN7hB5u9B47/8VaPmggtsQD7wADpG0k42IDvnwQd/Agl8QC7yYDuRDDrUgNqQQJ77BcnZCe3xSHMORCZ20NNAoC13DIL+wT7dgCGbQhL8QI9xwQG70KF/gC/ziUG2XDbNgDevzdK3yCs7wjszQDMxADAlJfslgj1ZDhMXQNf7jP7GwK8vQK6/QP60gC6QgYaAgCaTAC7E0D5IGJMmwIQoANzuwRfDQTMkADvVAX8SFD82wDyrYiNVWD+TQC+30C/ZwDrywDdvACzqkDcogDMKADd/ADdXQDR+4De+QZ+OlDspwebsgi7ZZD7BQDs5SD5enDPJgDxB3lHYYBbEgDt7kDrPlJso4iVX/eSd5gpXE0XqTYAvqcyrnyJio9Qu3UAhjYJZcSUmRVQBP4AunwlnLcA2zUA2e9T6vcCDQsJfMgAzOwI6zUmz7Yyb/E2T9kysxhXyl0D8aUwptgieu0Auusg6yQGvksJkk5pm1cDumZQva4CUUaQyueA/ZoA1dJg/mMA/mIJKk8AvyMA6Bhw5INGDN0AzCUAzfIFThMJzmUA6CZg06qpt0hgzFIAxahWGxAAuZMAmRQAqYEAmR0AiO1l+7WDpKJAuvNZ558hvCURzFMYzDyIyb5WI+R2S7AgxEGJ9vkAjYJzLeUAicGXQ9oIUONSrVwA2zQA0TJUvUcDgHMnWE1Ark/+ekxXA/G1oLs1ALtNBOaiKptpBXPgcK6qcxptAKrgAKk0AcyiEJoioJkbAhBeCZuYd7pYAL7CAPy4AKmKAr8GAN5PAN/uELdSIJCfgIr/cIwjqHhWAHbuAGXeoFURAFPtCsO8AaPfCQ0jqtO/AC1foC2Jqt2pqtX5CdqeAN4aNM2hd7sfcbWEmDy7gcuKA+ruQNsQA2DfoLh3cLe/AGirCY3JiqbSQzO4ALz/hQABILznA71JCX/zELB9IM5HdYrWA/j7orvdAKxFMbGtNOxUOEoNCYW2cLPfeproB7k5d7kTCZkXBtJOYGeLgDsBOt03oD25qt4RGzjhKza1mz2/9jszhrszK7szwLAi8rBnb4BaYArgSWHrPgCuQ6nsNBjOiaHMuIC+SQDStSH5N6C42pK4lEC4Zgr9hXKtxgf5ElAC/grzHCNHokC4CUlxf1CsUADc3gqFZXCvezK7/QCxHbbP1jsZP6pqCAYa3QK8qGCmWSCYs3CZJwe5OJqhsiAN8hrTDbszQrHjlbsz37sth6A5ibuawhrU+wrN0qBscKB3BwB3CwB6ZrCIbgCI6QCJRACUDbX5kgDgETWBLCJ3pCg3uyHIQbCbinpZKgG8yRpQm4B3ZQvGJQCHYoBmAgB26wrE+Ah5xpM5DykE/gBd2qB3TYCJGQCaTwCrXQC8X/wAwgs5fIkDK/kJBz2wteI7G20Au1obf9k1ogMyG4AHzdKz2TR7iEa6q9u7iN2wMXtxo74LILsAAh0DAh8AKs4bmfC7Rj8AZwULyiW7p7YAimW8GNgLoXvAd3gAdv8MFjIAZwgAeoewitWwmVcAmXYAmXsAku/MIuHAqhELRR4AiFQLqkKwar0TCZC7MFHB4FXMBrKcQKEMRBXMRCDAI7UMAxkANicAMLELMLEL3b07MGHAJYnMVZLAIiEAM90LlRIMJuUAiOYKofo33Klrdo7HOMJAneawpq0ibdOwuEOwnIgRz8i3syw7hPgK0iDAdiIAU8IAIJQAAEIAFQwAMw/4ADRwAFUhAGDywHcoAHeJAHeVDChnAIiXAInLzJifDJrAvKlLDJlzwHpmzKedDJJ2wJlvDCLRzDmyDDocDAOgytLhsCPwzEQQwCRiweRqzFLyACwdzFMeDF0NoDOswDRyAFciAGUQAFjhwFqmozM9OzD6nEUhzECfwCvFzACfDNCbAACcDFXty5YiAJrZC4j6AbvdsIH0WEigQLptAmqAAKM7d6khBvqBAJe9y4IPAFEBzCUUDIAhAACYAEMwADM5AD0HwFYWAGaBAHc2DJmHwImazJoCzKowzKh5AHeHAHcYAGZmAGbzAHe8DJq6zCKgzDm/DKodBfjiYGcvDBNP9d028gBx18BzMt0mMwBlLgyA8N0WgQ0ZIsyXEgyaYs0RJtCHKABmEQBqU8B3IQB3Cgqm4khTQjsyrrBY1rxAsgBpGQgI4QA63gCUOQAtocAlzcxXCQselsqsIqCY0w17NgTa5QsnP9CnrQIXrQ1x1SCK6w13zQz8sCAm5AuoA8yAQQAIwNAyTw2DPQyGDw0GhgypV8yaib2RfN0a3L0R2dB3MQ0mQw0nFwB5nMupSAwivN0rEsyzD9BcwM2nRg2ROdypq80ZwM2mgwBlnw1GRwBkpd2bMt0bNd2XOgBiZtymjQ25lMBxIt1VadPT0AAADgs+EBHte8A91cwHYACmX/XApiYAue4AlRUMBZfLlfkAmF4NePgKxf0N5u8Ai2AA3F8Ah7fayN8B1d+gXIOsZuwNWSe4fazdd6ILo9sNgAEAAkIAISQAI4wNBXEMlyMAcknNmczMmGkNEabtEYTslvEAYJEABX8AZxcMm3jcIpzMKs3drO7GhjMAcBAABSfQd3YMolHMqkrNxkQAVUcAVkMNRoMNtzUNkTfsqmPNUcHAdpAMknfcp4UAjiUTMDFQOLzchQQETVGh4vsABfgAqPALS8GwmoEAN4ENYxoMVqLQJRwKVuYKyPsN/v3QoD8guxYAq5BwqR4AiN8LvCYLe88gvF4Au/AFmMm+WPQA3N/5AJnYlvO8DYIUDdAEACjRzhkWzKFazZmWzhmmzhmk3JcmAGkA4AYkDJqPvJqZ3iLfzKLyzDQduteAAFBGAGcoDpFu3ZoB0HZhAGSIAEDi3Uz13kRn7kc+AIeBDSYxAGeHAIE44Gkpw90lsAIkDdJMDQUlDtYODMfSwGdg7ICogJoFDMRHTmXJytTxAJ8IRzmRALxBiVpCALxFAN1+cgu2MyDwoMx/QMTJMN0TANS0PoDBMekaBk51AO5QAOo9IIUfDo1B0AjiwFD3zTk0zRmm3RmF7xGvzRYxDqYmDapd66qa3Sqw3LM7zfGQ8AVzDRnZzRmozhpjwGMQ4AUDAGvv8e7EU91UfNhE1tBseu3ECOB9lz1QUQ6jjQ8FdQ9FcQBS9gB683uphge5gQA2sd9eTsCB5ih+0d093aCAAyIPBDO/FiIIMEDtsiDcZwDNQhDdbg7z7AzY0ANOdwTN+gDdigBz3wApCuAFAABmAwBqJb2htc8aqbCI6Auqpb+IbvCHsQ6nbgCLyLCZhwCa6XCacw+acQaqmAMRgjC61ORNQtARNu25uc6SV85CUPADkg8x9c5Egt1Thd1HGwB3EQB2RABi8e+0Xt8984UAQA6QHAA47s0EUvBS7rBqhADIVQzMj/Ajcw7i4bzDHwq48w16Aw18Jq7ojiH6ryH6NVK9D/MSq+kCDG4AywtAwawrjRCgKNUDAoFg8Crwc3MN3U7ciFYJ64qxvCkQlznQmzMJXHKGGw4CYA0QrWrFemGgUA4AaUrV4NffkCRgwZsVu3cN0KFsxYsmrGgokB+eULHAAArsiZY8jQIZYrVarMM0eOmQIl70iqhEkSzjmOTulcqakTI6KaiC6qgwYRI0JNGc0pIKBAAQVRn5SMYQhVqlhypEjB8eKFm0e4IsW4kfbGC7VtY9wpBUpSoyeRJEV6tBOTLWbVrkmzZk3aYGbLNhrb+K3aKV+xYsnya2yHAAE+nrwAoYddvnf08OXDd68Q2yhPonx9JKwZtW/ZktWaxSsT/61UmBo9itQLbyZbtn4B6+UsWbFq2bJpqxbpzp49qKyNM2dOXbp37rRdo+04Fi1atpxVBOnGjZg7duyodKSI0npKkjCpX59I5hszYMQ4UtVUPx5Jp37iQaSTT5zqpClA2jgDEf2amgMEyqYqgAAoosgBCkVkqQWXO76IQqwX7AAFF0l62GGHG0xciy0Td3DDDpGiIOAJL77QQ6RCgpGmGGekqcaaapx5xhpmiAGmGGAi+gYZ3k7ZrppnaHmCsh2e2CEzdfBhhx578PmskbVM+0qM1IwZxppsgpFlFlgeKWinnWZxZA9JmJEmG2+KyYacatRxBx52zJFkj0IKQeUbeP/gqQcffv75Z5xxgknlFK62o4UZ7uAQbzzmUsHlt2KKGe7TYiQapphUDMFjpjfewG9BQvibdI9ENNHPKAPZUCOQpvwApAszEgiAAAgJOAIKYzEhZppq8JCihxdC+LAVbzAhcYcYdujhCW1PZFGSV2xxJYAvJDFFElBcQcWWZIhJZjAenxlMnGeIIfK3X7TpJRNZMskklmJkcUMBBaSsUo9v8BlnnnnsYbiQtW74AiQxchNOGmZ+SZMXUmI5pRFXiuEFFjjE0MOZa67xZphqvKmGHXjkgUcdSQY1JJVsXp5nH0YbNQcX/yTlihZiaImlDvP0OM+QWZJhmplknBGOGVD/k3E6lT3kwHrVVheUIxGuULkjkQKbotXANugYhBAoFAChABI2gDsBCI01VpJrlnkGjg5BgFaMRiTRI70err0hiiiqFQOTSBrRYwca9YAct1mOpPOabK4x0zhypDGG3mIuwoYXTF7BBJNTankEhIEpA6FKN7TJ5xvP8JkHn0K8ILmQR8ajOE/XXmmFlS8e2eSWZFpBxZQoRPiiGTu/6cUacp5Z5x2Y04mEuT1aqUaeeepZlFFHf8IkE/9iwcgxS3gRRphiTMlkmKiFa6YZZIpBZhhk9rf6DThWZVV+uNYIYtQiFnc4RNkIocADsUFBIqBKAWJAhCEQIQ+SeEIBjmA4/wvhwoNuqBIIQPCCHnyhBz1QhCiiUKIYmCEVJPpCIfSAFxkOalCNiMQvdGiMHl2DHOMgRziEOEQhTgMXtYAGLCJBOtMZAxVPiEECQhCCL7gOGviwBj3ocY950KMQJEOFMLDBikc8whbF+EY6vIEM5JHiC43IxC1+cYxVKAIGCXgCMqaRDW4EZxzJ4NM74GGOSBRCUKyoxvfsEb5/fGMctlGEJUQRilSkohSZSIUmtrFJdLgHGM2AGjNESTWJMI1pp7jDHeDwPzhsTT9ycEQ2KoLAsRGCKQYSBB0WQYgQUEUBV+hDH4ZABkh4QYMTioIjbkELXIhBLCLElhe0hYpoiP/hhCgUhbYkAQtboKIRoJjEXSZhF1hwYxm2wEUyrHENcQgxGoPQBRGFOItYNGNNrbBLJpJhDEoMQhWqcIQhfACCLzBDH9qYxzqy8Y55FMINejBGOzrBCUNEAhbK+MY6zDEMU5DCjYVIBCaOoYtRtEEEC/ABMtjJDV44wxu9UIc6XJaOmRWiEdyTh/d21shvSAIOgxhEJy6BiU3EIhix6MQ2lLGNTmJiGMyAhjNEiYy+DGd/orRaKunTSlE05ROcIAQsgdEKYyBQgbckxIHasMsFUCUNnvBEHzbgAz7wQQE4MFwUJEELVciiQy/AFra0BQqFYYJKXgjFMdwQCT2IR3f/NXKDSPSAC5QR4xWoAIY0fChETnBhFETUhS5sUQthwOKmegkGMDBhiXDoYhq38MELxDCMe1CjHZkohDVkIYaHnmIagBjEGyyKjHK8YxzFIAU4n2CHm2xiEKPAxLO84DxuXIMXyRhHL85BjnTAA3s3dAU1FDaPnX4DG45gLiYCeglV3IIbx2BELV5Ri1v4R0dRhZozfjFfqiGjGcyw2h5UucpI0OITn4jGKsIKh0Y0ohBwSKB+0HqgOuzSQRocBCD6UIZddNgLPcirHQwJB2e9IApXEIO2vOCNfMRjHJGthi1g0QxU9OIX3prFLFxRilaQwhaiiIgskrcMZkxjHUL8/2pohxjaY3TjHMu4RCt0kom+ZmIZ91iFKpLhBdn6Ah/E6AYwaCGOxrmhEakQxydG0QhS9EIZ8VjHGicxzh6AcAe8sAQiokvFZlzHG7xgxku9qw55kGNxDQ4vPXT6D37sQxvacAQc9nAKQ+whFLnIxSgUfImAUkIRe6hn/ezXDFM8AhPFYIaoszpgOEQiF4PgRDTCQQhMSUwMeSjbIgShHwqzgRADK8ATOgEIP/ghFLRQhh6iIIbSGE4kHorCIFL8BDGY4x/qGMcMs1EMagRjLnpgXCEyEW5UHEMUuEBFul1hlg6HIx3cWMU0ODGN0OpiFYP4wzFUEQtYtKIVr0iFJP++QA16SMMWehBhFGzxjWUcYx3RSEaZ+bCLTYwiFru4BDKEUY6/iG4Qj9iBFwT2hXE8IhNrcUNfTsaLlfXiT9Vbx6EbAYssem8f+NAiNrCRCFalwhF30MQodPEJBVfCEY6oxKdnPGr7zaIUsCjGf5mBDFSs0upiEgWshUhrW38BD2UDKq8FEYgsAGIqTxhEODrxByKo4Q+DiIIiaFEa0zwiFWLYwSNmcYxagEIk5tBZPiJRC1WIwvCPcDAOJfEIV0yiF+RdRzKShwpiRKKuHY4HOpQxj07Es96dGMQ4poEJVyw2E6Xwgh5cwYxeeMEHXpiSLeIhDdeG4xOF2AErOpz/iVd0eBfPEMY51kEOWICCE5TogTRDrgdhtCIteigON7xhC2yoAxkxEyQ8HmFDWGiDHvWoxz3uYY96aOO8djhEJSiRh0Xkwt4KpkQiKHGJT8/CGVQFZf3uhwxnjNoU5rGDVbIDa1iFzgsHuHoDiYmYryOEUQA9QDAboOKEAnCDf3KHdFCEFegCTriCI7CEQKC7J3AEUWA8R/kFclAHF5EFe9gHfTAFOFCEWxi+JwAFUEAFUOgoWCgFZgifdJiFWkgGebgGUbiEYdiGetA8e1CFVRAicaCHf5oHeVCEL6AMAXA9SKgFPYA9yPkCL+gFe4iGXFCFT/CEXCgEc/A939sG/3EoBnXgB3nABm74g1sohC5MvS9YohMqhG/whj7khZspBnkgtJdhHDvQA1bQBvKTBy2pB3lohvPag0uIhU3AtdZaBQVLhEQwBEVQhEKYBWp4BmrABmeABv1DBmqgBlBCBQA0D2v4B3eYhn+YBzJ0gq7bA03QhaxThDRoBEYABLiCtSmpBlFQB3EwAxEwA06AgxhQBIHTlrgThV/ghnMAh1mwhnOQBDEABZ35hy9QgB2QBHoggDp7KMhphF/AnPCZh5NRh39QQqCiBXZQBmHQh3bghnaYBnfAB0FSlEtohBdQABHIgVIoB3lQhmJ6Izt4AltQB1RoJ6L7B1M4hrqiyP9d2IZp4Jx9sId7wAdUmAdU8IKQhByyMJxHYIdsCAxY8AZ4KAZBWkR5YBw9KIRWKId96CJ6UBh4eMRIwARrMIdgEAWhoLcwDKeKugtXqAhbaB9b6A6Q+QWmbD7G2gMew4ed+ocD8wQ8AIlGmARS0IRV4IRBWIZoSANJgCtPcAJ4YodwGITByIIYSIM0kIIiKII0cIRHiCFRyAJVUARjAIdUGARxYIZHQAVZ8AZ5CMlJMAg9eIWG6AVkeMpzGIds2JlpIAd20Id/uAdu+IQ0qJK6aActaodwmAd9sAdt2AdywIRWMIVfUAVLkAZSeAZuiIbFkYUvWEh4yCxxCK1/kAb/TeCDSTiEN3iESUiFXDiGXBi/f9AHecAHYYiscpwhw4kEOJMGTGAFgeiFl1mHKLSL7XOFc9BIfFgHcSAHdxDF8rEGcegMTKO3cEgFbGgGR2AFXgiZoBSGecSFTrCFeeyFTkgFZYAGbNCEUEAHdNiZe2CUT9CFdngGQFiEXoAGaDC8P/gEdwgHVegGXfAEMowrBh2EWcgGM3iBHIiBI3ACI1iBLMCEwrQEf7IEbqiGF9WFdcAEUYiFXjiGQdADUBCFYwAFG5LJUvgGbPsGRtkHd8gHRsmHW1CEQBCDGJiBJqDSQQiGTHMHffiMf0iHU4CFWniHXOAGeBgHb8iGY6iN/0b4MFuwB2/QmUv8h1sQB2c4Bk3YhGzwhW/IxU44hGVAUn74BT2YBGjIl0KIhNKIBHaQh3RABVZgBflMB1VwOHcwhmfAhEKABXTgB9BohzB8B9bIBExYBnKQxWk4htXCBFyQz3OxT1iAhWNQhlgVhmDIz3m8hfzEBm0Ihltgh3jYmX3Ix374h3AYqU5QBlxYgiZIA1UQB32YhkHwhn6wt6GLK08YBMSIBMwoUScALlEIhmuQB5ISh2mAh28oBFWYhmlwQMxhhlMoBEUwN1w4Bo2QhmfwBnYYB+Oih31YB3n4B/tbBkuQgip5ASkABE74hGmohSg4AmPQh3rIh3xwhv9M4IW9s1JiyLHkwgTIeYIeYFN4YBQOxQduCIZdIJpXcIZhyIZ5OAZLcIRx+Id80Bl86h5aKKTdcYOu5DFTmIQagwVWUIRcMKJoEAXbYAVnKNNkiAZLUIV5oAZoyIT+OIZ/ANZwwIMneB35dFVYCBlYKIdYnUelgoZ5hAZRzNVyOId64EZ1EIU0GARusL1PEIdxgIZnQNeq3BlLQIVz6IdVeKu46oM0kAZ3cIQXKAAQwAE5UAVQaAVVqAZ9CC17UJiqMAVRGIV2yExRUIVmANploAdycIUadAVnMId0+J7qmId3UNBksIUdzYGqAIEnKARTOIcwDYIUOAXyywd+wAX/fpEEWaAFZJAGVHAP3JgEPaASWFAMchCHUfiEcBgFTdiFYaBe6tWGdgArQqAH5lzSR9ADbVgHUQAFPbAEojDf82UETaAEUjgGWXiEU1AETRCKTugERXADPNgBMTAGcvinfxIHRkmFhyqFXIAEXlCGhuBaVy0HbJhQZXi0sY1VdMCGbSiHcogHedAHLUUHfVgHk5GHcIgGmdokfZiHe6gHe2CUaLgFBLUHVDACuHq7ZqgHVZCCGCAhMaiEon2FdlQHVfgMaPABBfgCUWiCQajKaUgDYiiHcfBX4fgFaKgGR0JhRqOHcJgG01QHW1gHboiEG1gAEpKRRgCGTUgBKZCE/52Rh1IoI0mohWtQhEEQBXO5jVmwM1eQhVuIhnW4BVFIhU/YhOmt3l1Qhn04hqbgB31oQX1wqFfITL9FK1fRD0uABB+juWewhAVhhCcQCW+5B+cdhUFglFpwA0dYBZJ6vUk44F7oWnDQBmhQKmX4WllFB23YBm2w4HrYmcx8B2kABzLNh3uY0G1glHfAZUbRB3jIVW0QBlCAgEG4RG/NhStIgyuQgjGYNGJQBFxoNFHIzFfQwh2oigKIgvALhGZAUPHBhlpgBszBYEbCx39gmf6opEgYgwnpAR9wg1QIBR54glfYGX5gBm5yhmoQh0eIS0nIBD14hFJonB2YhXU4Bf9TcIfUvYZ/WKptoN5NYgd7wJxuUAdl6IZ4SDY9MAVgSLM2gCd6o7d6q7dUgARWaIZfyBAxcL/QGgXcKQvKpLdPUAR+yAWdUIVw0CJWqKtJIIaQYQVYUI2f5YVeoIauFYaxddX6OYdvAIcp/iFrWIft5QdsQAdfZZR70Idw2Mt4wAZlOGtUWIBCSAd16DzCzYIsqGY8QBYZIi9c0JlsmIQg/WY5qAV0OIVfKGZGMQdquIZqOAd9iFh+wAebTIeYtQdQ8A9wYAU3KI0SagRaoIQamIN12Bl7mIVUgIVgIAZbmJHFKSMcAqEemIV8SC5r2wd5mIZ5YCQq3uNlwAVMiFX/WKjDHm0TS9AFmdIHfyDu4vaHeXgFUIgERyAXxlKFd8iGTEieFHKHncGHVXBATshhbtgZXmAFSOCDa3AHdxCHYyAi92stXci0eivAUXDvUciFf5AHjfIGc6ideSCG594pe8CFIFgCSaAGWN6GV1hrdriHnNI+EtFkGHwFGSoSVACHfXgGPcADoFLjV4CFSTBgFtQZezAHcKCGXl1sfdheddiHTVUHWYgLUKjsE6I2R8iFU5gDUFBQRnmGVhBtX2CGSUi94qShR7CDEpGFfICFX5CGeYCHecgG8NkpzuCETvhqOOiGdjALGtnrxasFf0hSVXgG4yZufYAFaKic1iAG/04YhRZjB3LgBE9YhZ1SB11ghAMLh1dMBdGzhe+GBEqAwAUptj73cz/Qj2JrilH4h0MRxHRwmXUAKlxwB27sSDFIAzEYB3SQh3KQBQnAg40OjXfAPRA7sTS4kFmwBWlohVgwvFMYBLhShl2AhPycBEWYBFjABzK16m+IB3NoMX6wB8/27E1llHMohUZgBVIYFEF5hFuQi1PA238ABlQQCGNwhsbxAT2ABMgBNzt7BXtwBnVoB3FYGOJGUm6EB05YBeL+glqgBy6ehCUuviUa7mnQBFqIBy/3h1n4hoPZGXrAbn6AB1C4BVj7hPABB2+A3lWo7ji1A2AILVr4bj5Yhv9RYIQ/l3hAl3hC+AR8UAd44JKNvwd+WAdr8Iadop1a2IEgjYd4WAW4mgZVYGxwEAYtNA2ZdARZwIVnqIZZaIVI4kRd6IZ9KAdWAId4+FJtwOB4uA5qMId4sOBejQd1yGBF89d/gAbAeQRFkINV2oNH+IXxfQR9+AVGcTpf4AX8gT0vkE4uLJFXYAdtuId2WIXyQ4dzCOvt1Uyim3dXgAZiCF9ukNmDYgVQwAd/iIdrmHcvH3x1OIcpnnV5iIZ9UAdQSAVOIHfymgdg+IZt8IYp/odY0INicO9PMIb2mehpmPjS93OLv4Xqrm3rpkyrFI0YUAAxuAYO9QRR4G51wAX/yxeGTLAocICZQ3EHXJgFWbiES4gDcXAHeUAHaugTbTiFicGGeiiHb4CGeNiHC05b77GHX2CHMV0UatgmUPiDPwAuQyCFc0CGSWAFfnjszScFaGCfZHs9N4AE9XcFxiqRADyFeyCHy6yGcgAIaP/+TZs2MBiXTvr8+RPGShSnafby6ct3L5qoeAw3cgRlzx4+fgPl6bN3DF8+XZ4+jdKla9+8b8J2Yds38B+8avZGfer5K9u7UYT8DPVj9CjSpEQ7HVp386bIgeOePp33zNKoVUM8kQvnblYpYtmqGZM2btqocLrCjYqWLdgmRVn+EBqFLlhacID6RDMHr145bOzi/8VjN5gdOmiuejnThu3VIz2oXnEC9EeRI1K/ZmWypS/bOXu4YLXqRS00vnj1/PETWWySjx2SDC1pI0rWO27g4g1cFS7ZPExF0mj0t2ubqFX06OXbZ1NUEUwcp7fS98/mv5ID97X25CmcWk+66O2DJqwcPqr/eH6qm6vdUEJF/fTpQ78+/vz2ATH6FK5fP//wswojNukyDXbqtaMLIZx4dwwhq+BSTDXWGBPMKqN0QhQhLE0jjjW4bDJHG36Mck4uo0xzDiB+LHIJKKRMEskkNdpoIyQ3NqKHHqSMA88tmETSCCmklQKLMq38Mk4rMZJCijMD1TPRP/nYM08zXsh2zv87uQwSiDz/mDMOP89EI88474hzzDX2+LPNLu9IQ448IGHXiROiTDfdQNYJaM89N4WzUjjqqOQJPf+co8w46qgXn1GAzKeUUfXdp59R8tWlCz/wEcIPPWmpFxVbnXjnSTCdlFIMOe6AU80xn3BiaYef+EYPOccUssMSuYDTySjLLNOiUZZUkoghhjiyLLONOOJsI4UUsqMbjxgDTzamSPKItG64AYsrjcAiDCTllovNdfmElA+7//xSiBeRxKMPYM98Iw888txj5zS6uNNOO/CgA8ku9QiIjz0V6cNPJ3+0sydH+iy0sD74JDioJ/3I84l3/ewjzzbN6DEJLNicw47/PZSqvPJR9mXa4Sj4tDfKeqJCZZPF7nHsiSqW+HINPPvQ0840jNwnqUu6tHOPN8FgIoklx2CSijjiYHKKLowQoskll2ByySaWbDK2JpuEookmoZi9SSV47PGKOMNkIuQei9CRSDaqpEHLLYbsMccdkYxzTz4CbjeQBVLo8QU7+qCDTj6wPEIKPC6pUosquoiDzDfPpCGGNU/pYxM/+4iiSj/hlPM464+vthBD+6R30z3efTKId7r840496JDihR45sgILNSyrrF99Tlj6cl30EMJIOPS4FH02gQ7UqTirZKOABZ4Acnou7uwD0jKy5JKLKp2oEswxqqiSyzTH0KIK/yWLaEJHHYssEggXThBBhCAqQYkBGssSlriEATVhCbShrRKKmMMeJJGKW5ziEomgBCMQUQdNLOIMmxAFJQ6Rh0Tc4gtegAY8rCOxgSXgC09wgz8e549/UBBrq/hEJz6hinXYoxzb0MYsMNGMeGxDGiSIgjz4cY93WIMYKsnEjUjBClY0QxjNMI055oEPdzxFLbpYBYDyEY91VHESwBPeJFhhPEq57Cjy6ckoUgQ/XazDHeQQR6DkIY9w1DEa9LjHPfBxEUYoIgQJ8EQfQpEWecwjH+QQwwJ+4L8hEMEJf7jkHxgRCDpgoQlbaIMhuNCFOgRiCEMwQhcEgYhABOIQqv9cRP0QIUtZ6o8ScjiEHBSRCVTQ4hSVAMMZBGGFE5whC0HIAyUSkYc5GCIWY4jCI5xhDXTsYheQeMIRWPEEXlRMJPowhzdUAQhdNBIf+BgFIFDhw20o43Hs4AYc4CAPfJAjGNIoRzpkZYpTnKIUpgAFPwN6ClPIAhuTQEc98NEOtUjsP9mYhS0U8btJvCIVsJBiM+STw07kcBQejSP8oqGLXEQjGmo5H0rPpwtRMAIQHHVfLoB1PlUwghGdEIQmatqJnDpBE6JQhCdEcYtphCMX4pDHNLhgSlN+YAhOeGoX/rAIQZwhCClwQRcOoYYusIEOQ/gAG2R5CDrMgayBmOX/ADU4y0OMYQ5vcAQqfkGNU8wBmG1QggeukAYkBCKEc4gDHgxhhjFg4hnr2AYkduCFNAxCDHqoBm+284575AIQ7qBHOvwSjT+YAjHbKMc77DEQb6hDH/SIaTTW0YkbxiIWqUiFa1PhPlWk4hQT1AYrlKEMYnxDH+EIZDv+kY5X8EERfPCCMNRSkGnMw6YG1J/90FbTmgoCk9X9w1OdYIRKZtcIlkzlVLuwCEtUVxD6WyAjOKg/J3QhCEEgAiBykY1cLCIa8whGDBDggf2qAAhF2AJ711AGJgChAy4QAhfQkIUtnMEMTFCCGvIQCDSQYQxomAOG55CHOGD4DGjIw4bb/yoHTBDjGtKQRBiQUIa7qqAJdFgCGjSIhhmrIcbZWAc3tsEKSOhBF9EwRCSuwQ544AIUxFgHPaahnHTAwxz7eMcfgMEPx8XjHYn6xzxsEo5O5OId4eCEWk4B0NryMxS2jYYxaFGLSDxideyoxzeSgQxpYssUu+DFJCChDOWChx5PNQKg/yfoQQ96qYZeqqCzK94uWHIRjDbvVM0riEkjwghNEIEFhvCH8y2iDZpIxzGOgIIf/GAIQmCCFrrABTWooQxWKEIHimAENsy4q2ZowhLOQIcuaAELVwhDGMZABim8oax0OIOu52AGM8ghDotQxSkoIVgpkKEOWVhCFhCRhf8wIIIOZMACGbgwCI9OYxF4+MINYqCGNuBABHNAxCL28IY3wOENyyBHCJNViU3kbWxgY2AnonGTYIRCFZrgRCcC4a1CSKJrCBxbKCK+iUY04hW0gO0+S3oLUmSiXHzIESmiQdRwtAMfTyX0/yiJ8kIj2tBE8G4XFu1dQbBhlLTU3ywRsYYtQCEFQ2DEMTQhiDaEIhyqCMMVqH0GMgSbwsBewhKOkIIiZCENY6C2Ga6ABCksoQyuRsISpoCFLKBBDmjQdR3awAZB1AHZx8ZfHdRAhjNQYQ2C2IInBeF1tpNhCmTYAhf+MIgg5GAHht8BCVKAgxBEAQ4QFGEeEDEMb1j/Arpi4wYtBGiIC47XErS4nipkyYYmCJ4SilBEJVJfiTwYsBKtT8QeupbAAypQbZXQAx7sYIdCxAI8APPzyVGO6JUfeqmA7kIbXrmIOuRvqs2H7iJmSQeydqEPxxhG5Z8dDU2QgQowuMIZrkAFKmQBC1BXQhEu0IEOrCAINJCBDmSgAgw4wAEasL8DDuAAAxjAAQ94QP/t3/89gP9tgAEe4P8VoAF+ABEs4AcQoAYUwSUpgQEgQAiQAAzAAAIcQAMcgAzYABOEoAh+wjQwgQ3YgBDYwBoAwxrYwAmcgAacgA28nCUMRC6YoAueQFNpAQ8ygRCcmg3wYBVUAQ9awRTE/0EZrIEa1MEa1AHbjRcliEEWiIEX2MElgMdliQPKbdfKCZrKEYEpDZoRcMEWOCHORR+8yVIgQJ8sMR8bZIGLZU401AETANA0aMIH1B//bcD96Z8G6J/9HcABREAGjMAFlEAN6IAOtIAJtIASKMEUBAESTCIS+F0ZYEEZqAEbtNoWlIGuxUEcoEEZkAEYTIEUqNgZpEEaJAIiRF63TYEZBN4fWMAFvAEeyEGxzYEEYGCMtdIhwNsiINwfcAEbMN8gNEyyYEEO7EEiKFMqDIQqZEEWgNggdAEiKEL0KROIxQH+6JoaICEZ5MEajCMX8KAWAJoWDKENJAEOTMEaENXSaP9CdjkBF9QjF3YhPr5cF6jBpPXjpP0Bo6XgB2zAQB6gBtyfDJRCMiRD5o2jJkyDKtBB0vHAGGQd0qEBHYTB3GXBERyBVc0ACSBBMS0B4WGbNEoBSqJkGJgBh72bLCkbS7oVKMZdGEwBEtDAFsTcKKUdE5YB2HUBIKhBCsxAKKIkhh0BBuKB6TVjIugP8rHSLy4CIHDCTqoBFBiCAeXBN/yDPYQCzTUBG1RjG4wlWbZBHXTbWeEcIlBC5VUeJnXBIAzCASHLHhTCBUUDwPCDJpAlHUjY0HHBdt1jyn0hUx2gAf7fAg4BEwTeOJaBFpjlpKUdF8wAEhzBKZCDOohDLhz/UCwsgziogrVdQYUdgQiE5BmogRVoYhaAJAlYAC0ugRpkARXMQAwcgYVdARTkpm6m5BScZhnI5vjJHasJGBZQwRIggSjFXPJFZhcoQRBcUhlgWx28oRTgzxXwIojlwRmUASJsIhucQRyEARqoQRN0khVYwRZIgRzIEiXgCzukAh2wwQ80QRsAXsytwSZyFR2Ywdlx4xlEHltawiA8VRukAaM5wSIIkCJQwiY8ZDskiiZcEq2ZwRsgAs15FxgSQUEe4Ad0KAqemhFoARsEgive3NC1QV9aKNtlQREUAQ2kQRYIwl70geAdA5ORgyrgmmhCgQiIABSQASfqGhn0KNcF/4EUZMGxoQEM5AASSCMVTGJH8kAOHMEkWuIljh/5YcEWbAFqJgHUJYEW9A/McYEIrkEeYEIdFORAIuYGPMABGIAGtGmbPsADJuD+KaCczqkBIkIx9EI5lMMszMH9sekBngBBfsALntqD8eA4VpclqRJ2/cECIcIhVIL9kNwfWYLcUYEUTEES2ECHHmqpvRygAV49EuMaEONYnmW3MR8p1QEdSCMaHAKtHsImUd0YyIEqNkEReEAR0EEocALCDUIT4CYUhIAAEAAMWFj5kUEWnEEOXMAS8GoRYIEabEEWwABlkh9JVuYR0AANQAEPeGT58eCnriliAiD/+R9irqMQJP9BFaxBH+RCOqQCFWABuDlmEWiB9yFABdjkEmxBr42i2PHAJFKBGpxmHWQiG4QiGjQBJfwCLmQDLpgCJizBCiSiFZijCIagIiaBEiSBDMBfEqCahpqaDfxAh6Lau5bsGnADOSzHGnToCSjiFHRiGZwqGQLelg4sGXiiY7JaMbrhdDLf0MHhGRAt821pKrIBjDaBBWQBW1pGNaaBHISBGNwAAYSAbdLBlnYf0wUB1SFBEDTBKC7BBcwA1D0puLatDIzA/bFr/8XgOsJrJlqBRpLB34kSFyihJh5CKVQUJYxBllqBEPxAEfxACUgAApQAvlrrJZ4BFtBAEVAm1M1dE8T/ARlo2CEkyxxsgh1lgzWcgiqogYvqABkM7SimLh2gQRjo2tLpGi0JAns5qhNI2hzIQR7UQQ3eRNzFwRt4yxsk6RpM39l9IrKZAbKBouTSwRQsYdwxGKupQaoWp5Z6HfXGXRNkQT1q1w9AQBEQY8yNHhakGBQkQAAkwPehgXFewa+NgXtRQQ7MwBFIwRUcQQWQAA1MYhCUQAkIIAGOwAzwgNiBG9NppNfxYHlSAdNpwZZy6fSSASUsCyXUASZiwRSQmspegAQkQAlkYiYm7BmEAeXWLxRIgRmwKIWhQSCwoixtwjTkwi1wgyhYQiDMJg+YQRrSgRzMwVkGwhJukjSm/27z1eMlgVf0de54acJTWAIciIEYuMEbyAEV8yeG3SIaWG0oLpvZoUFxQkEAUIEbssEmkqGl8W/GKoEnXavYJq4p/UALuMAQbGk98ioSlMAFoC8BSGsn/cASjJ0xBcFsXkAQiF8OYGD9UoEG9J8MjCsUHEEOjOsRnHBKoiT/1kAc0wC2OTAPamIxrgEj6A8dhPAlCkGL/sDiSUAO9HAaXFhfkkEQMIEgh0EWXOsQsMEWrB10jeWktcEiNKEaIMFQ6vAgtGKz5QEe4EE4KhsVuO8ZhBUixCbMRR+sNiMsacI83EQoSIEYjIGFgeIbmMHmysEdhLMc4EE8mUE8TfGTBv8AAOCALMWnFWDBdnaibC6Bf3kSF7QBF/jXfDZBE5AhQFcr9xYBECwBDlQAAQSAAEhAEEAdEOzvEhgn1T2yGRyCMVVABaRADQCgAxziDJRACpAABs6ASVPm1k3B+E3BIUuABAww2FGBSl8YeCZhOWKBFczYGIABECjB4cJACEgAD+APGbsqGdAAr1LBEWAbmV5rMfYjG6yY2rna2N1xCZCBhS5fHLAaHZAnGZ8BSZYtq+YBHfRPG1BqHpgB/shSInjDTWjCGIRzXE/xYIln2SnYjKVBCpNBF3OqO+NAIgBxFiABFtRjMY0fGEw0A6NBKBYBQK+xGnCBFfCqqZoyELj/NAAAgACQQK7BYRFUonE+9AxcwBEYJwdXwAWAqwEMwABEwARcgEZLAGpfAG2jwP4iwb1SQRBcAAJIAAwQcG6DG4WNASXX76+ZQRhQwQ+A4Q/AgEvzAKvpLbIF8wxsKRbAwAXocxnk8qourNfV8tpSAQ34b7Ux3xqYARnjTxkwH1hLYhO8khNql1QdQh1YwT7nQcJ+3kBYwoz1Xd5iwSOWH74uwTybnxrPM68GQWYTQNq1AVd14hYUJ//SwEMXAbYlOBC4lyBLoxYUQTgeWyR2sABkdgLQAEWnQAlYgEhbQAqAKwpcgAVQAARAAANAQAQwAAIgAGuzNgO8tkb/+CH6/6//VsCMTwAEIOKBJQHILoGFI4EOBIEOLMEjqjQQHOoHwEACSMAR9Lfe8qcUwMBi4wAMaEEmfpvXeZ35dV0ZsAESyMD+ysBrEzEZY2RX43LChgEPzEAKNIETsl0bECilcpIobeIZVMJNbMK2gUElhsGrKfkjhmyLFsEj/mCkA0ELZDYA8KwWCAEQAMEPWroKhHoLYHINeHqpu8AKtB8QNMF5FgEDT8EU0AAJJMBCZzYCUABtl0AFTEADuHTjmvRswzYEIMCM43iOH/uOD4AB9HgDaLRIl4CMHzuxm4AKpLoM1IAMoEANBMELsoALuAAQKLkNPECbfsAIMG4QZAHTkf9f+S1BSH5bDuSANGbBFBw3GYjfZ8+d84LrI2u0FOja9HHjsSEbsk2BBCQrDNQyGywnpIlQGKha3P2nSNCDJUA5uFbiEoCsElTBeVbBoz9iErwrENQAC6jAiAdADfigENRAqXf6yI98DaBgEdRAEZygDbiAB6iAB7CAB9RAyAN0CKIAAhAAAWA6sTeAkVeAS3dwApA0CUgAbR/iBcz4jLt0Alx9lsv2BLxpsjtAqFvAsCNAA0BABbSADTx5DYAryzv5/HHAqIPrCQzgBoxAjsvAeZrfeVoBElQAmFrBcW4sgM/zKIYBSVLBh3nbtz5yCZCAFAj8hv0VKP6VGUABAQj/QAFAwXoCY+cJUB4AKZduZx1wET0IwgmAK0e3aCK6AMu3QKin+qizvCKmvQyIAAAEAA2gXxLoAMvfPCa3AAuU/O9Xuwp0QAYUPwd4gAZkAAucGqf/oAoMfa0HAAIwAPXPeANI+yGCfdqadAz0qASIANNffY7LNmoLeQV04GrvOAc2wAUoovuB6wqoQCKGPAZ4AOImARKM+/9pwARc/QWwPECUqCCDoAwIMpJMSdIES5kpMpAosWJFSZEiSLCoYcOlhowgNEqUoELmjBo1Z1DGiTMnjhkoBASEAIMnESVKlRZV0pnIUBw0aujQiUMn2T96ix4kPQGkog4gOmhEJVgj/0gNGjWwdpSBIkGAABVWuGhRg4UKFSxYdPCgogMKtRw6ZJCLga6GujaEMNHbZAUCAgQCAABAAAEDCIchSFCMAAYMEhJIXJB8AUIEBgwQZNaMAEKFkDAugK5Q4QIFvwNQozbgQAMNHTmi0jiCBAmNDmJ1IDlhIKmGBpkvBNFRAkFU4RSWlFFTxYpyKkh0QI0ddYqWMlh0ePxIYwoWK2TAk8kCtE6ePGAWxJSChk4eRO9tUkp0SOUc94cSSfuHLxWNExqS+kAJKqjAYoroPoKKoBXMMsFBCyQIgAAKOqgwrrVWYLADDubKAIO56KIrAw49wEuIE4Xo6y/BBjtsNAg2Q/9ggggaOMDGGxHAMcYDCmvARxohaGACDCLYrIHRMDAgtQFWM+GII6KyoAMVolLBgStHqACBBHCQAgwYJIBiCgIvoEKNNZjbwgosklCCtuhiW2KLLbRQIoiPCJptiinACAOL8MjAgoojYEqAhzDOrIONNdaoo45DEAmKDkQWWcQSWsRpR5XZPrIBwAdOsAEIG2pgsIYWWljBwVVRyAACwizgAC6zzDpBBQ84sCvECIi80tdfWRthBAdl0BIwwQiLMcbLGIjAQwsoaJZZZQuLoAIKMhjtWg9hzKzZCDpYoYUTRsDAgSVXY82F3GRg4AAGSpAggQRmoG0GCfSkYgYqzgj/9E9Bl1gCie1ooE2JMtbQggkl9gxjijAc3hPgPfdEAgYBAhAABim6w+LPktQYCuQ63ltEk0460YSGraYqAYMHeNNAZpkxsItmD+2awMcQQ5T5BFs98EBmEOUqgYIJSCvhghRoCKIIJSoqAogM/PJqs8Mww6wwwwyTywILIIj2MmoNw5aCs0ejIIIIdG4AAhHlKjoDCi4oYQQHlFTtAQf+IsBH4GjIYYYSZKCBh4GRCMNfK6qgrYiVS5jhiCm8dK+OMsgIAwwpkKCYtik637OKKZaAITCNryhD9dVPosMkhNegw1GTNVlEBrlGkKEFB3Ww4QOYW8PKqayiqkGFEiC4/8AEFGRgUNxTy2rLgpBmwCEHHBq7YNsMeNWASqmBOFWFIq32ltlpz69s7cNmjAACw8Ke24IROXCw1QmOnkB//bGFy0EVTMCWDCxPBW7BgAdY8B/UBCA1mclACUyQrZCUIEM6qMIFLwi6K1xBClCAAhL61CeSZEFgtJlN6KRAhTBscIVhGAMYeBCYAIgghRMhg+pMYpI1nKlRjtLEDxdBGySY6QwFKoMWrCAEG8DsARrISlVokCETaGkCDioBB6g3Ay2mYAYpmOAXJ5O0C5AABtTLgdMsMjUEeCVZlznM1c4WvwzMD1vP+tADS9AgB8VtbnOswJAyoLwMYUVDKyhBBv9QkII9yswFeWkBAlBzgCWhxgET0F4FMqACHSQhCVVQjhpuWIXsQLBwUflYoKgAOtpIgZVgGMMYxOAGN4hhcyQQTABekELFgQclJ9Eho9bAhjowgpiCSEEKUACEiSyhQAqzwhL21AIm2iAqK5ABFxNAAMhssQQpWEEUGVTAuZxtfhigAJHu+DW5MC0ISIDCEWYQg65ISDENkEBn/kg3CHKof3LBll3OKZcpMShusfJa0UxAkALCBVcmqBAKUBASFADQBBzAAAeAcCKqIeBvCPgj3lKzGht4sgwXTEJ2dKCqVZkgQ0XQwhbUQCc3IYGVYrBpn6DZuYEdIQQsCgEUCBT/hixkgSRniINR5XCHPexBdpVaRBtQ4CAgvBQLWkCiEoTASWg+J0kPEIISmIkEEhBgBlBJZFQdxAEPVGiOd/SQh3imqxCFS1yo4oBpBCCABCSPeo2BQfWuhwMcaFEGIZGLrDIQNA3gCrEV3VD9HDSllQbwVrTCFR+juoIaDBAIbVICCiYQJI7OgAdigoIMRiDJvDHpAXhhSgs8UNGEriAFNbDOG+TwBjF48AjRAUJGhfBbpwiHBhVg0QJokARmEmgMb7iDHuDwhp/AThCLIGYbDFsDK2iBqGgwwxiocIVUQu1ESdiNATSQoQokgIJYsQgSltCEgAXscWxBAYdG1AGb/wnNre6zwFpRcDa/EECOh72iDCabx27CQLCC1WIOeBDha04QoquKywADuJaznOUtfOymCjr726dBbXQ0gIEIJEC4wpZAfzmSQRXMC1ID8MZXGOgmDo4ghleCpwnia4FYxjIWUrmgVMcjAIsEQAMphEHHrxxDFqrKBCQicQuCsHIdthBYKAzVOy9V2MLIi6ITLZE3P0PBqVbAgrEANy9gblMRluCxgH0kQ+FkgQdgBIG4qQ0CCUCAs0YUN8TKqi1xoZVZ1LIhs9TVcDzAnmAbM4O/fjGqGwqgWv8HwBJcJatJIINK4lDSJKhgApeZUdsaoLUI2OAEBZFBdEYwgbwZ4P8ADjhBEiZCkVGjJc0tUDNaykJZE5TgyIIRQA5owxSo6YXZSmDCRLSwhja0oQ5aOMEGNPABvSjMqgtLwoixeqJwj2o3AwBVWFwgLiAU4avkHZVYwolYInFABStY9+MaUAIoIdNVhAnbhxArF4eyJQWJpmzQEF4WXyN8sRnQQNxGgzTPNAYHjnZ0YK03AxlAAQxgIEMSjMegH4slA1rbn4/cpRlhyYAHUYgCFHjA4vYxYLVl7jQnbRCd7ACwIEeQQhRwUOzBqMBESsxoEZLAbL1YYQvTnjYX0voBIkzdCHPigl6glgQxixkIYkEBgMpM5LykMaNiKQui31KXh6ugBRv/ZcD85HKBBOg1Be0MHRRpkNHwtQCAh74VY4NGv8R64KIDzMD+PBOSutmNcIfrOBiyQ9ogPCkHMIhB9TQekt9wFOWXUUwIbtCDJ/CgIMIiEo3WxqsP/QdvM+7Nz/IUhd1SjnPFZZEETNACUtVAVO1W+rad3gUtIBMFLVD61IkgBHYrH3zA/W1wU1ABC5xFA0pC729/6wIbrACB9Qb2nWXW/R+3oEicUR+M/ByrCjnvtxJZExaaUCArTKFU3zSBBgKuVg6cgO+yDeDymsc1dOBhRic7RsCf8Gd+6I0FpihpSmkGRCABJOAFXuAGXmAHdiAGQqAwJkBYPOA/esUBUi/1/+hGBXgPtn7mSmbMABqgbkyAsfSPAgBDACrANTqrk5hjIi4o17arC7pgDawgcBwNCrzES8IAiYZgCD7gB35ALIDLIp7mcepm0WiABVrvAT5AVFzgVljABYAM/FhDA2zF11TANKplBONHLRCtfjZMDWUlaGSFSmoACDDCClIJdO4ET4gFIrpj/oYDwyLo8JxFVqZn4DzAVYRk8WQABizwBVDsMNzGRxSDjARHi75ILlJPfzzj1dwpCr4gCnLgAjDgAFwvKUxRZhjAKwKAATJgBMxiLMRN6ZCoAHkADAwhEULCFduEYsBjDMKACZJwCNyECqAm3Eplop4HyFyg3MztA/+28CxcAC3MLvy8EC9coAO8BQ05gwJQAOEq5CwQ6M7WYkr0CC6mJFUKSLNqwIJUAgsSBwzwMDaQUVzIMQaPBneGTQJCoAdErwdiAMW25nwYINXehVfAL2ckrgJIgIxwoAdc7gu+AAqQaXe4Z23uyFxAKjVUUUYC6Mz07kSAoAWypAJ44A0u4YcEQQty8QSUoAqYrduUgJOAMQmbYIXEQApusoOgQDg6Qs3m0AtZICmYhP+80AWY0AWChgV+wAa00AMwoyB5pUhYUS0eDi7ExQXejchGzgtRJd3W0YLAw2FATgUOEOAAKFXWEQiCIGCKcTsUrwRyAAog0h8lgDSyRX//YORbUu0y9vIyHEBoHm5/2IbBGvIfSQDEgKAJEagiRzACHGAgRXBtJIkAVGPGWMNWRuA3JCAGxmAoyoALfLAL/oALKiAHcgAn4QAOdoxxYIz5hGAIiGAIgov5gGBlCocIidCmbgoel8jcNkAIfgA4kfKA1Awo6WJrfMV9KMADFu4sgqwLi1IseM8GOkl1yADGeseh1KotHMqhOoCyFImP5uZDQiIGPPELcIAGCCRQpkDSJs1oaGRrLOMybCRHOGoEmNIFCIIHcuAJYgAG/ij1pu9EhpNIUs1HfqQy8Ed/fuMvOKNGJGlJRgA8rAAJWiCjRPMPNJQLCGPT3M9j4m+D/67AyVaICaaOCUlFB7AC+36rBk6kCZqACeKPpqAAA1SjNT7iQsWMBWrGjZoFA6Alk0auCYmMyDqiYKYAPGDspGxg4dbi1wCIob7TQ87JnFRvRGYgB6LgCfwRNCwAAyYArtRKBcDmgCCKabyIaZSmbVCNJHESPWFAf3iFMWmkAm7DC+cmSBpgBA8ULyEAaTbPz7IpAXqgT3Sg+lawzGyAC5zACUCzCySAMFz0RPSizbCuGAfERGOTyTqOcxQifJhS+bBOicRC+1zgAVRjAuDS5VzOMO/pMOY0Azrgx5iSKZNAOfoFxsgiKcXxBJ4U4XDFLlLvfQwDaULCerg0BiSjZv9EkC5Sb0R+Bg4tcgQxQ0H1R988kZW+QAzCoArCR1gEsS/3dPqwogXu6mjYhkYQ1G1ObsAEoABuQMfA4CM2rSN4j/VKcQOIwAi04B/89V8BNmAFdmAJtmAN9mARNmEVdmEZtmEd9mEhNmIldmIptmIt9mIxNmM1dmM5tmM99mNBNmRFdmRJtmRN9mRRNmVVdmVZtmVd9mVhNmZldmZptmZt9mZxNmd1dmd5tmd99meBNmiFdmiJtmiN9miRNmmVdmmZtmmd9mmhNmqldmqptmqt9mqxNmu1dmu5tmu99mvBNmzFdmzJtmzN9mzRNm3Vdm3Ztm3d9m3hNm7ldm7ptm5P7fZu8TZv9XZv+bZv/fZvATdwBXdwCbdwDfdwETdxFXdxGbdxHfdxITdyJXdyKbdyLfdyMTdzNXdzObdzPfdzQTd0RXd0Sbd0Tfd0lTYgAAAh+QQICgAAACwAAAAA4ADgAIfz8+LX1JvHys7OyZbGwbS7vsDKv5HDvYvDtZu9s53Bs4G8sIW1tbSzsbC2sJS3r3y5q5C5qoW8pYm2poayqZSzqIOypISyoYW4pn20o322o3e5oUSxpXmxoXuxn3qxnW+sr66sqqKsppeupHmsoIusn32tn3mtn3KrnICsnHmsnHarmXasnHOrmXOrmmunq6mmpJymn4umm46nnnSmmnOmmXWnmG6hp6Whn5Chmo+hmnOcn5ucmY2Ym5KLnJerlnSnlnCmlnGllnKskHalkXGvj0qojlmlkmalhU2hlYGhlHKhlWuhkWmhkGyhi2uhjWChg0iZlZSalIWblHSbknOYj3yaj26YjHWYhnObkGWbjGOYimaZiV6YhmKXgGKYg1iafj6PkpWQkIaOjImMiYaQjm6PimuOh3OQh2GNg3SNg2SNf26Nf2OOgl2QgVWNfFqNe0+GioWFhXmEgnyGgWeEfXGEfGWFfFmFeVd/hIN/fnR/em+Ael57fHJsfnmgcDuUbS6MdFmObjGDd12DcV6EdUuEbkF7dmp7dmF6dGV6cWV8dFh8dE56blB8bT90dXZ1dGRzcGZybGRtb2tsamZlamx0cVZzbVJyalRzaUVsa1VsZ1BmaVNnZlWQYS+EXCl4XkR3WhFnZVloYFdqYkBpXDNgYWBaX2RbWl1TWF1fX09fXkBZWExbWDl9UyJsUSdXU1NZUjZ3RyyTIilcSC1bNCdPUlVNT1NNT05PUEFKS0xMSkFLRTxMMicuW1pASlBFRUQ7RUtBQkRCQTs6QUM8PT06Ojw6Ojg9OS02OTs1NjMyNzooODszNDUyMTQtMjUtLjE2MCYsLiw2KSIsKicpLTEoKjAoKSgnJiQkKDEeKTghKSIjJSMuIRkjIiEgIiQgHx4bICwdICAcHhwkGxYaGhsYGh0XGRYlDxEYFBMVFhcVEREQGB0RExQQEhQOEBQPEAwLDBMLDAwLCwgGBxAHBwkIBgYCBAYJBQIDAwIBAwIAAQESAAQAABAAAAQAAAAI/wD/CRxIsKDBgwgTKlzIsKHDhxAjSpxIsaLFixgzatzIsaPHjyBDihxJsqTJkyhTqlzJsqXLlzBjypxJs6bNmzhz6tzJs6fPn0CDCh1KtKjRo0iTKl3KtKnTp1CjSp1KtarVq1izat3KtavXr2DDih1LtqzZs2jTql3Ltq3bt3Djyp1Lt67du3jz6t3Lt6/fv4ADCx5MuLDhw4gTK17MuLHjx5AjS55MubLly5gza97MubPnz6BDix5NurTp06gZi3uxI06cMWF6KHMmDx68duPGKVN2bPexY8C8gfOGjbgycMOKHSsmTBiwXd7KlQN3zpu6Y86kzVYGzZkza5MQjf+ifm6cugICQKgvAEKdu9vt4oNTp+5c/XP2x00HB06c/2/ccIMNNgFic82B0iSoIDQMMuhMM80cAwslwihnjDG/QVgMLMEQA8848LwDT231CJBeJXmEEQY89dSjTjv13HPNO/LcYyM3/2wzjjjbbMPOOQIRo4sw8qwjzT/22JOPPKbMsw6R9hRDTB66HGNKOPI4E6QvXPpRiQ+nBJMHl9wIUw8+/+yzDzPf3NBDHGSMIYZsysgTn37r9PbbMMnhkhs412BDzTHgOOecLogCE9+i7ahTjDLSUEONNM7s5gwlh4ynn34mqgdCAQ2Uow589IHTqHT4SSddbjuK882r3AT/KqCB1yhoqzQONvMghMP0Isxvv11oTDMb/rJMO+WQip+JBaAYxQ7t0GhNiyHKU88/+ujDjYzbVMNMNee48089zzgn0JECsZMOLqic8w0zzFgzyiNjnhIOO/Tc8w+Xvvhxyr+n0OOLvetsI5A+9/jDDDg7vOnaGD1gN499opajzDDHJFfMMLpgM1yCyuxCzZDDHIooOKKiTN0xCVaqjK7JOBNJHapgw2o5Jr6wHgP0Ndroi/XRp+qmrPoX4NECHojgrd3t2szLzSyzCy/DYHjMhY8qIwwqvxCjznyN2qcOs6nk0cMN78kjTovWlkMQN/v0KDd+9yQTDDDC2PNPMQLd/6ONNxKCo0041cCDDCvXaHOKNu604w47p/jySyr/chlOML5ok485+1z7zzvMYPNsHHnkATEwyix52znpPMpcMcBwnJs3gUozjDe6AAMMoryPGl85yGI8G6XdCSOzHaMIN9w1ne7cnC4xX+NNM+XYd46q5YgzDjituoo0rUoviOuD3kGozDLLNKOLKcJc+Fsx7gPDdTDunDMP2/LMY6IAqOSxww2jGkc77tEieyjjYP/4Ro7kxg4BwiIVD7TFN/YhDH3sIx6+yAYuwGENbTyiEvXgRTrsoThfvGMf/uDXvZjBL20EQxuMM488BJKNYIBjDq3Jg2vEgItj1E8dwGuHMf821hzY6eIasWrZMLihu909Bxe44MZ0uAGOZFwDF7YwhSkooUVT2AIXiqjDKKChi+2JAz2eYgADoAE8+pxDHNcYxzl0QSlh6MIWsLDFkJohDQIlTWnho1SCmvYgqDUjGRBCBSWAkYxkXK0Y8EuG/IwlJDvC4pK42N8p8uCDG5gCFlCMXT300Q4kXSOBC+yWONgRj28c4266GKWZ8iGOYMRDGNYIRw2TEY5hjCMczEgFMHPkC8zdgx4vzNw+2DG4dvzCHO+4Rz6YYUNUwMA1pBODKZQxD3jMA1nnIGKFdAeLSgGDXVucBCUm0UVU2MIW3JCGquoDjN4Ao2XSAEYzJLH/B1FIQxfc8MY30KgeNQrjHPG5DxXHYYtyFC173ECFNwqkHa3BgnfAKEYjvVO+p13NGMm4EDS+YQpG3sIWqDAFKlK6Ulvcwo650wUubqELTfrvBgFV2zsapY967MNO9lAgj+C1jcaJw24uvRYx4uGPy9lDGtlgRjasEY9sRKOG/PKFP+CRuWDMgx4wzNw/YBgPfdBPICT0BTaUsYM5lG4OYuhDE3M3DGXggnd3xQUsriEpkAnjG83Q6zsvaQpoJMMbiEWZMHSFul0lQxmYGsXIAgQOBgiAAQVlgC3M4Q4gfu1r4kiF9loFq1QcLZCwGGRHFwuhRoa0kcRCpDSOEbND/x6jGc9bny1+AY9jCCQf+MDHPWwahh14YxzukI481DFDaNRjHvYQxz7GsQ1mPEMct6mHM4gBIXX8IxnMCEc4nuGPX0a1GuqwBjW8gQ5fpIJL9PgGDLPRDmbWkB3/yEY46KGPZMwQRmBdb2vmEIc5jGEOw8BPbr7mnN3hVaWpSAUUdQFKKH7xFrdAhTTG4Q38nAMcVVpOdnD1DGdIog7+FAY3viGOHQiAPSBoAAMmIQ51bIo/0BAHLPxD2gDBE3y1kkYlGgSNZ0BIn814Bm1dmww7JsMcxoDGckI6RGIYw47uDIY6jJEPbOVDSfszRYp28IxyuKPGQJTHPprhKv/MQ/8e2zjHNuRhp3zsDpTYqMcx2MGOfsDjH/OAIzSaUY1/ogMdwdSGL9hRjBreAhaoqEQl6EUGFRV3B5j+H6a9sY4BuzVOw3jzbaJjMrw6eMJ5haKFUdoMpQFoHMLYTT13A6FjHIJm0rDFRL+RhxerpwEFyMM31MFj/ggjtCz2j/ewgQtA2qqwDirfYh+EsZBC0jkxQ4c0IAm/a9tRdx20hvESdOWamghFYbgBhVd6ipLGox7tyHUqxpGtfaTpHvBwh4QUSYmVTuIRBA7Ds27wgoKDgOA6A0HBDa6ehS/8Bgh/AcEnDvEbUAMbOcyDgccgjHWsw6HZczCiboFqmfJusC7/xSIuUuEMcHiMVdBLxjC08yBoSOPWo5DGBnNjiuYBOwzy5I+yr4FsZRvtGsAIJK6gUViOQii2y7kyn5JzZZDiCnbcvvY5TTE5VLALFbpYaSr2N4kU3YASeshDnDINcRiEQOIRd7inGq7whM/97g3wFMPrTnGIY7oHPQiDGFwzhz70gRKUwNCb3iqnYcDjHOsQ2u7yStO78u7yMp3pTLNYjAEZqDjQc8aslwMNZfBTFNfQBfdgbaK8f2oHupjON1qFjdB+z0BMrEaQs/MgSjjt6dxNBvyuDI2sF8MZqdg2JId4ZdjhwhQn1SMsXgppVKBHAI+IQ2zIwHaJO3zvcjf4/971DoMdREEM5yeDHOSghz5AAhKSkEQk4i8JSLA/EZDQhChUwX9VsOL/rJALAiiAu9EDYsB4YlAM3WQnAuQcqQZFJKdqd/ROEHhSz+cMU8QfuANJ9VQM6qNkknAIokANGzQdztA8nwIC0iB0bfYq8KQ0f1QMhTZIReYMlVBiUdNaFcJkxkAMy3d8zXALDIJIzWBzLwMNwgB9tyBhqJAK8oMKpwACJpJ9KjIGsNEDUYCFWdgDOyAGYuB2YrB+ctAHh/B+9CcJlKAJlCAKaqgJncAJnCAKnTCHdFiHcagJeJiHnKAJ/bcKfvh/rZALsTCAv9EDPOBWaicGCVYewFMOk/9ncjOFeboQgTJlgShlDMShNNigC/CjC8MSWMQSgqKADcDAH8OBgqACdvU0H0lSDnsFDdXQHbFYDcagezT4DM9wCofUWhACUujTSFUGSbCVCryhURjCHO3zfDQlYdO3NU14AyaSImFwTZBwCLd2BjwgAglAAAkgBVUgBd54BnRQB3uQCIhgCehoCfqnCXDYjpxQh52wCZsQj/Q4j3m4CJYACYgACeo4h/y3CgDICoEoiJCUhXNwkGSgiN20OuqwO4+2aqqmangESu9Ecpd0T7uTUo8gcFzodiHQByEQAjlQBWIQAp4SAg3QKXlXAJhVcCEZAjcAA27nkSEpkzIZBVH/MAZkoAeP0G+UgAuxIywYAlve5oNE2AyogFsVcm1DYgwrlwoXBpXK4FK2EAbROAZRcANhcAiJcAh7kAZSAAMNQAAEUAVnkARoeQXiaAdcyY/piIfyqAnzOIfyWIf8R4d5WH+IsJd7mX9u2IcCuQoDmAsYAjEaNwdkQAbAICm/oQu7MAludWky+WsNUJmVqUaYaZmaaZlqtJk7AAIhAAPfaJKgaZKdglks2XBvV3Fth3ClaZKVGWOaiZIvKZOYlpOPQAyVYAqVMAlJCIUpxYntACjSECHdIVMN9k62kGumcAo+EI3a9wJhEIJ7UAdywAMwQAAmEgNVEANoWQVXsAZ0/8CW72cJkpCHopCecyiHdWmHeImH9WeO++iXnfCPrACQrdAKASiABuiEiOkaZHAIYsADhtgDbkeZnMkAm4mZClqZNdkwPOCFZBAHclAH5LgHh/AIGFoHa1AHXdmVXqmSn4JZDbdwKpIHlRAHdReSL9CTPGkKIAALfzALtVCbNml+cxBrxcAuutCbuPBvj6B66iAMj0AvcwAMKUI6paNDeSAMKcpJ7JEHfaB9cVCkXNQHX6idABACSRADMiAFZ3AGe4Ch+Ad/8Qef+heHcliHa8qG6akJ+aiPdQAAALAHZgiH/ReQAvh/BtgOzpB9iTkHeqAHF9oHY4qhhyB/8xd/kP9gjnZQB2KQBmlQB3yACIeACIkgn3yJqZtqqZGgCImwB2uwB3y5CIggCSLKkjdQogzXqi/wknoACz2pDDBgDLMgC71QkzZZflGwPv9iCqlQCSvldRUiDbWiC48ApPQSBqVTpEWaB49wCpJ2CiYSBmPwmTcAUsRAp8VgC3lApwIgAnQaoepXB9ZYppJgnueJnum5pp2wppxgj3hoCZHQBwRApwCQqJJAh/wHgKuQnwLYf6rQB4mpB3ACf5HwfvyYrusqj5ugCZgAp3s5nnQwnnZgB52asZy6j/JpB3RAqnuZCJIwCiaiRp9SADwgAAAwBnIgBjtgdyDwslEAaaagB8X/kFLKEAJcZApRsKsymQNRgAuWtgOwAHEF1wC6EAYH4gx5NKywoEXEyg7ikD3SQQ74wTwCsAPXenDvsFNf41Dm8A0USgH4apaTSqYKy7CacJ7t2rZs2q6Ih4Z7oLJ0Cn/6t3/9GpD72X/sF6hzIAcJy5WZugiQsKh4GI+YYJ576bFhKp4Xi7GYKp+ZGrL6eKqKgAh8ULFluAjxJ7IMUAA3sJIo653feQZna2C2+bSwMAc9+Uk3oJNzkAM+CwNRgAo+5IL8MXveoB0GAg2xwleSQg3ekSCrxA3jID3kQA65gQ0mopVhUHA/Yw7/oUs7QAYhAK5kYLrk+KFmiob0t4Zt/xu+KpVHX6RXskqnhxA7tJWDNbgg12AN/scKj4AKenCQiIkIfVAAZcioi6qOeZi4loAIdrAGYTqpj8uXl5upCsyPmGoKXXmxdMCVfJkIiqCdmFkABbADdMqdZmm6Hdqh5TcJo2AKcwALwgBK5Webs0sJc4CTYbCR1lo6fjAJ45AgAxIowGsrzjAO5nAM2CA8AzIpORMHUXBw7hAP76AO5sAO5tDEDSMGJkKhdRAMv0DFv1DFxJDFxNAhtiCsxFANxNAcYkwMktQcZHxtlBAJ81cM32ANMDh732AOtoMxw9B/cfWfCXkIZkkH+xh/D7uenZCX9WcHc0CnBnyx5ajAG/87wYiACtZ4CAPMxwLMlpSAHiz5uQUAA3QaAlXQyaYrqWmAnTtACeUwCeWXaSmcaZgmk/PrdajwCMBQCYjnrNcwHcXheUvTMs6gPcVwDXxyDAIkKTmDlQdXDi2SLQiDMJhmhWRwkHJADK8Cx4NGDFC0iazAf7DwDaLAPgfyKslAH9LQDvAQD+7gDluEeMUgDnQ2Svb2D/Igx7rDJ/3HAwU2oWQQBWtAp2dQhnbLhu96noxqqXYQBnRaBeO4B2yJqVx5qZaaqWUogg/ssZDLl5BgWZeMwQQNADywB6qwC7kACZIqBzf5CNjgDJn2LOZnfkCbAyw9B7rAIMIgAMVwCsn/QAzoU4TQICsDIiDGqiCQMgYA8AgC8AKskBznwFfSULLR+QJrcw/6MA/IrA9c2Fb2qwcqxiCiojXEoEXYcM2msM3XQAmSgAsAgjLJ0A7nIA3r4E35xm+iYAzfsM5dJhDxoA4/PDW80H84IAYEBqCHQKdykAjmubZueoaMGqp6AAA7AAkrBQuqgAqwoAiR8H+jkAiY0Aq18AqhEAq0sNmv4AiL0AibPdqIAAMlq0YFQAbgKAaQkDHRoAjrh53l5w2oQA04iZOqfMqYRgamgGk3oNj/YwuYFgY2lyACMivXAA6TQinEArr78wisgAvbplfMEp03oM75cA/y8GX1wGv+/3NgesB+wWANlHINpQdSz6AM17ALqpCek2ANeyAHlVDW45AM1CENI9Ii5ryGlKAMcZ0/c/0PZ3YMHr0L7C2Y52e/iPl+ZJiw/vumoiAJ6cmokFyddSAJvTDam72PAagLh2AJpVALnq3ZofAJhrAIjKDhobAHUXDan8sDnVwFkjAN2HBzckAGN2oPdn3bt12kesDjuGAM8sC8VucM0n0M3VErO43c5DAplXIMlnUDIZAADTAJuLAL48AKwlAEG9DldJBuL3ANNXIPSoIPqzAH4SAMy6AHWlSk4/0qw6k+sTwHypALrIApffAMUoADj2C8+kEM1NEMaaMO75DGiJcM1v+QP6M0EO5gDsAQv7vACYLJAzxQv/WbB/WXC73xDCCDK9fAHehTfAlrB4caCcjgCqi+2YQACbqzCx9eCqNN4iVuCHiQ4qHwBEewAlKgAQZwACGA2lWQmGQgCQPiDYcgB7LLq4IiDWGwCzyO2+Y3s6UTBw1AL34ArY/wUjWHRMIxWuOQDuPwDcRBHKDwCcjQC2vof9LQB8MABl0OBn0A5tEQTfWgJPOADOfwDLCchJVwC+FgC9zBDe/8DIgyCXFQ56Zw7GOwDG7nB+IuHND8JNVSD4WOeJSQDNVAZzM0EPIwDrsgCbWAq/4XC4AACI5geIYXf8Bgc4NWO+ZdnD19DCH/CKJ7EAkZ7gqkfQjDAEpc2QqjHQuj7QiOwAiiDQoZfAME0OUboAHrkQReGFeAY2tf6HdRIHBRsAegUAe3vQbOjpOQtjGmoAuUYwqTIGnXUEh+NA6HtvZr3w1u3w2B8Ae9AAr4wH/bpAvtvgElvwp+AHHKoA75EA9KYg8ccwzTkHPAcEK9MAzJ4GbvsAx3VXbHwAnhjX7EIAIwkAcLNQ7EgA3woAuNQiP7jXjL8Axv5lMC0Q7wQw25MAqgAAr7R/Im/y+pEIGQQmi4Ig3cYHPPYA1NowyRYI2GWvMZPtqucAh64A27AAtkCOubvQqj/QlDL9qEkMFhkPRdLgiNVAAy//D0fcALtTAMkQADFWd+zBoGZNALUnDbo0ALOGkK6WwNt3ANwRAMnGhlxhAP13BlF3dch8YKAIEF3cBuBbsd41VrXrdaolSxOndNGqMNoQC94rTjRjF2+tzNm9RnXbde3QwdE4avm6dNz7iZe+fuGaxbj8YMgyQnjpQowkTAyANuXDlwwaypu3XuHLx68ig9pZTsWT2q+/79KyeNmrdxw3KJcpgLEKBQ2syGMyWq2LNrz6RZe6bsmrBnbqVJUxYJ0qE+ffZE6hVKsGC+uvz48nNo1eBYgwU5YpQpVBUGNxow2ABoA5IwYQqIICNGzJpas3g9gnFD9Y4oYcbEqTcPWP8U2riijTFFJkqPMHHy7OjcWxc1ddeA2WomjevAQIG6oSu4B0CBVLjg4ZM1St0kUdFgPYNUkWzGHcLM1XN3C5cec/AaxcqFihU8cp54LavG7p26ZaeCPRJDFzrE6IFAYnDA4RFsxgGnnGCuKQeXe9R5px54KnlKlGWemYeqq7AqJ5111iEnF1UcYmWsUMLRJhx6UFHlLWikmVEabJSZ5hlroIHmGWgi4auPQ/7iZTDC5ijAFyX9WEywUgb7xJBGJJOhgAIEICCzDQzJI44CQiAjNEJqqYUVMlQjQwZJxmBTnXuaQiUMY44hJhVhvqkHG2m4KQYbYazRJRlaeGmmGGD/YBkGG2rEGYgWWXqBbgwBrGTAnX9qGeWfVJg55RFYxLGELLLo0GgXceoBJxppQJhUHV5gOWyYT/jxJZVkwrHGmmQwwWSOHnSpg8AefuUhQWyEclCcc35xp5131skHFVOmxa9De+65Zx5syFknHXjg4YUVUFgRi6yz4pEmmm/aguaaatrlZhlpfHwXmkkowQaVQw6ZpJhaQnHFlVAS6eMwZpRsMpRXBnOkEEYuCaUBK7EEQ7MiQPDBDx/GIGOMORydA4bUyAiEEDbHkOefeqwhZox97mHnm1vikPOROHzLI49KqIkFGWNw0QUXbAiJJhtu3dmlm3QEcO0FEG4QBpVy/+C5p4AbwqnklnJStOiVMHZ4QRdxxulmmlb8eEGAU+SR5mBiQNGHGWay6UicYEYBpY9f5SBwhx5+4UGMU8YZqpxf1Fnnl3rUmYfqSiaBnJhr5pFHnnruwQecaboVEZlV8C43FFWgYkUSXdja8Zl3H2/GmmugaaaZRwLp5Zy+JiEnEHQGs0MUdFbppZZzmiSlEcccaYSCiAsAwcqKN/jklMN8CYZNQnrhJbUbdsijl2NsGgOeq/z5p5J99EEHFFCaMSUdXqiBJpllkuHmn3z+wQVoXc7ZhRpn3oxHPPJRjzzcwByPuEEUQDCHPNQjG1YKwzJA8AtiiCoUYtAILLBRC/9kwKgPndHZPA7mC2Zso4TtUEc+5BEOcoAiH6YABt96AIMdBEM0p3AH4ZbVrF/kAx72mIc+IAe5ZHxDH/Wwhz7sAURkkKMbTnSiLGqRC0GQpROikIQoWnEIXFRDR15cxjIqUQlnOOMur+tDI3qxDlPooQ/dCIQheCcHUBCCEI1IxCYEwwpZfEIwn3BEHV9hJUJCAQwbIAkoSMELXoxBGeSYBj8mcYMxXIMbyhBHO2ySinv8wx/74AU+hrEO2egBFbEYBTGC8QthOCMeHzKGMIxRj3+04x/n2IckuvEhcfQhDuB4RB7GcIMChOEdqWAAcH4BgjyMhSxfuwEq0FELXpj/wgdf20ElHvEOJZFQScxATz6whT996EMZMuzBDn4hBzmkgh7gAIc4fhGPefxCHvOYRz708TgihuMfS8wHEOWxjWgUxImsmAY58vEJsmQCLKpQRSRg4TrVXcMa73pG66oBxkdQohezIIQexBENUHRjYaFARBgUYYhaEGIHksEeKODwR0Oo7xOEtNIiYuEoWdQRFKoYAwMY4A15fEMX8FCHPHRhDHVAIw6H4MU/9PEPMfTifusQwCMEwMycoeIb3KDlVbjxjW98SGVrCAQoroIPZNgDGd7wQwPRVoA4mMMYcUDFI1KRh3RYJBRjAJsp/jGLaeQhDH4IQx5g8YhcsCIP/6k4RSp8QQxZQEsf57uHVeZxBikMywe2YGcq5KEPblTiF6m4heIaZ499oAIcopjEMsJxvnNEgxeYGAUyovEtfHjjKvf7RzdC4VBKjGITj0CFF6+x3Grg56LSqIbrpNGHUZRmFuK4yjSu4opAkOAGgajFuMaAhSGAgnajGMMoPDGLWYDCC7OgVAHsEIhR4OIafMTCZdKADu3k4xjH2NwxRgmPPNgxHSpDxYcEEI5vMA0Y5rDGONohjk7abx7uyOw79CE+UpRCEu/4BzzQwQ90jCEMj3hGOPLQvEdcwxywMEUefvsKRwD2BZS41DkeEQZmmONek9iFLnLBCUscoxrM2P8HP/pwFat8iBWqMOwYbiGaWzSlHbr4RTLuEYx4bKIbTDnGkycRjNn+Yx7roMUqaEGLdayVHFeJggTm8Y9eZIISkpCEJiZhim3sqBrbkEiP6vI6VlZCErN4FHA/VApCyIIMpHHFIchgiD94wRDk4AcoKGFd9s5CBr9gRjB2AAtKOMMUeyBEFG6AhUAMgRDAyMchxACLdrQwFvl4xChGsQtvFAMaH3rGGKQwikrAYg7QUEc5wHqVaAC3HbxAhv3YsY9K0OMfTuwFLSqhizHk4RTvOMX2NgIN7P4WFE8A7A0mgY9ajOM3IBYGJUxhj11sQ0T6UBcweoGL8TX5H7/ABSr//OAHWzxiEqeIbCp0gdpg3CIVa+gGNWyxC1o8BRgUBIY6JDEHXkyjFuK7iiauUo8w+IAfrcCVJE5BjGQwIxevIMaRl/EKWGiDGc+gBSvOMoxZmKMjV0nZP9hAC1B0DBSymMOkPSELSqwDad4IB5k4LVspiEAjpggDCEDAgAZgwROeAMUo5kGIUtzjHccABS/CgYx76OMe0OCGPT6Uj3kggxCHiMYozqEOfVxjHfU4B3AfYQxQiAGU9shHOPKRj4JEQZ0K2OoL4iCPZyQjDMW4RzHcNA98BMIJInjBDfRQC3TI4xTJkEcgTPG4aeRCbiZkRjhUUQtaMHmq/siHkXS//3vBrEIX3jhGJcpxiJMK5hVxmENieVGKXpiVyfSIBzZAEY5sFOMXwVhGMIIRi7o8YxnIKIYXmdGMXWQjG9SfhTve4e98LOMa6kvDHNKABc6moRf6OIYiVOYFEs9imn+YhYZYAyyQN8ASgANkpoTohnKYB3JYA36oBwHYBX4wqU7qBlq4BqtIhn9QB12ohC6hBnDQg3f4FnLgvA+pBH+YB04gBm2YA11YB2RYh4HwgknYAQJYuRtggJzRBVMwBnaAjllwpkY4wAKYg1rgBwI7hX3wB1SAnFogIbmRm3AIBVoohZFrMt7TQsZArWyoBmlQB0vQvSh4BOSyhW7oqVxwvv9/2Ad7mIZs0IZsEIZgCLVgeIdlmBtt8CKzsDkWCYc/nIV4qLB/yIUkMCx9sIM6ACwQYI0o2IVeiAZ5QId/6Lh/4Ic1AAX2koQhWANeuIZc2wOneRoylIVpmAYgaqEbYEReII370YdAmDOziglwILd3KCv74Qd+QIY584dbkAdzuAd/0IZgooRJeARgAIcqiAM/CIY4SIZsEDfgOAd7cLp5OKQN2IAbEABbEJqHSCx/IIdIeATBisISOhhx0Ad26AdtYAfo04YOoQd5iId3qJzK+RZ4mEd3gId1OIesOQdhmJE8sId0oBxpuAWd8bV/mKZa6IZ8UKvTqgQ/+EM41AX/YlClXzg/ONSGZ4gHPlwGeji/cDCHdYgHf6AHemCHjpSEWIAHSaiDKJiDBnC8KFCFoJtET1KHf/iGQwtAUKCFfZAHb+AFXKgDLJACnggDSSgJUvoHagimAtiDJBgCWGBDUFC/D3GHa1gGc6iGdziHsPqQaMAHlfmHZYAda2AHY4QF2CIHcuCBAgg3BniBMtKFOHiBR5AGUloHacBGbJwDKSCENQCGU6iEHRjHkpkEXFAoM2OHTsoHZxjKW+DDVFAcYeiHy8RMf+gHzdxMzMwHYBAGUeiDe3mEe4CHUYAFW3CGeqgFWZCGD2G3XniFV9CGVNAYH8gDH5gbU1gGVcK+/3Ywv418h+BkBpBskXB4BxAbn16YhnA4h3bIgzS4AlpIA0I4yklYnGkQH3aAQ38ghmxoABloQGUAhnRIh2nwBj2IAo4RgzF4BE44htf0pJXTpt4osBeLBnDwhrB6BwoLB0Fsu/vxB3D8h8z6Bz9whmXoyDI0BVV4hOcAgTBgh2YYgxfYAVswh0qohziQhnKoB4sEA5PagDngGFBYhl+ohDCoBFOwo0fIhgxcw2l4hXioA3SIh2EABmnQzAYEK8z0UR/dhy9kCrNCB1eoBWHgh2iwo1EAubWihVqwudOCrLg6Bd6UG+1zoGxghq1sLu0jhmcIBsq8hWoghl9oh30gBP9+uKVvEAM6sALwaoQrkII5qId8qIXuqgc/bBGZzIM6GAVgQAbPmYY9iALRCJM+2EVvODCQ2IFRIARKGANyiAZtoIddAIcP2Qdn2YdvqIbL+ZDMarN6sIpTuAVdOIVhHEdVMAVyQAdVfAR4sDxKys0b+CpuaAdiYIZp6AV+GNGv8YFkSIUPHCNTqAdbuEwn+xBwuMwGGDFyGIU6cId+6AVykId84Mwfzcx2uIZTmbuyyYd9qK7wmgNnWMN8kAZhYAdxyAbKlB52SFc3yax9sIqx/C2xxIdcZD5dzbZ9MAZ2hCc5SIM1WIU6WIMqqIIouJ9amAYskIF1iENt+IYQ2IH/eyCxc8AHecAe2hCDMJEDLwCFdHAHYACieAiBTAwHW6iEZdCGUxCGMrSKeKIlu6kcf7iHdcAHxCvQ8amEvdKGD5Q3VMAGdPCD5gmDbHgG/2geEDgWwrHI5qiFDbAEbIKGXzgFndGFEFuhfpi7D4kHeuiHPFiHcvgHO/qFfkDDXaoHbMXMF3SGo5A7DkQ8UsCHecAFZ+gFQgiDQTQrEeuFXe2GMkWMUniFgAEYgPmEw2UohgIEPxIVTzjcUNiHcxiXZNuBMJmDOWjPMIgCq5A7YSADUdoHdvAHCRiChkwHaigoReCFx0EFbeKOY5AHeHAGSSAETLCD4LmHeFiG0nwG/1QQhgI1B7LiwDucEHpQh3Gwn3+4Bn+wpX9ALj9gBwwxBRgThmsIh5qwEsNkh1QogDxYhvNTBzpsBynShlsouR34tbYgn38wRVXQ2n+QhljMh+a7zNrkBVogBcJMiEfZBbW9zD44hsxStFj0Bn3IB37wv9Vbw6swEobsBmRIBdtUhG5wpgq24MVN3LF4XHs4B0LghXpwBteYgzogYT34DaD7B3x4hCRoAGfYBx/4gz+YMx+ClmKAhVFgBVoYBd+ghGKQh3dwhmGwhHTQBGqQh9ANB1oKB3a4Adx0v066hnugB2swhypuB3nIymQrt4OLh34AhjzYM0oQhna4gVMIh/9fSBu14RSVjQdzCN/GrIVYiAcV84EdUAUKqILFuwrBxQZLMbNySBlyIIR7uExfCIdY+Id1ALc1IAT3+gJC6MzOHFB6qLAmA8qpugp9YK9uuIYFvgo/Ggyp+wbIigd4kIdXuOAKftzF1WCBmYdxsIex9AdzIIM+iARjJIMXkLGr6IXT5QVbKABF8AUv+APfMqt5CK+vMwRDiIVjUAd7qIesQIZRsIM3cIVXIAd2oIVe+IZoAARB+AdjgAZ/qAdzuIpkoMcClYdmuAZj+AZpuAZdyBlhCDVvg4VJaAZ9mGVryF1K7iR9AAdzIBxxCAdoJodToJxg8AEfaAZ8iAZMAC7/ctgGYMiTYfgHeaAHf3CHaSDkfgiGexiFN8mH9HECXvCCQFgF/x3QfmNDy2EyBPY/c5AHflC0q8AFUBYMMhEMaehmeegGP1LcC/YEVh5qQBjqUNCEXXiEq/CGb1CHemiHqXGHpPqQXpCFXdoHjyMGCDCNUHiiNyMHUlgFUKA0x50GEnwFY5CHYSgdMyALeGCHUOgFc/BmQLiFyPqF7PuF6/uFW7gFW4CshIMsbfKDnU0Fg1sssPzUttOH/kC4VLAGUa2H4szocFjoW7jMy/E3pBrEaIgGe+CHyzRjWjqif2iEbtiDf0grT1LpAd1M8nnfq4BpdKgH9rrJD8mD3fsX/4WRh3PoBbL4o0/4usNd3BgGg+MGAygwpMcgBX2YQWOAEFpqBrt426uYh0v9h1J4UvYiB7KoBVewH+3KB2UgBUAoBX1onG6Yh3Rgq2GIgjcIhXQIB1dAhmdzJkcQhVHIM0mIBP6OhP+GnGLUpscJpsLesUe4BVPwt5HT7HyYhEpAOFRAAG8wyVsQxH/AAmc4hV8Y0Ao55miYBm+Bh5JowGlIgxBY3w8Zgpv0Al4gsQCC8a6Nh8vp6H7YB8VWSPbSndv+ED8wEoFxhcMVBEGohSpyJkEQboYq6rGomAsGGPWhhWHoUHkAh/CThmOo6Yu+ilfgB1dgr3kw0oSKhQsMPP91aAZY2AFI8OlQ+LiB3IUeEAVSCL5eoFtVGAiFWYVc4IU8fzJyiQVWiIVAF/Q/RwRF2ANYQAUQeIRhqAdMxlTEM2BL0IRN2ARVgIBTIJ/1tQcEwFwG+Id3YAccJwfZTDtCGMtwEIeg4YZ7CAd+EAGpxId8wIJoSAZ0mAWEE+wItptnYLl3yKxf+xASYzwSW8M8+IQgD2pWTuVlF24MFowmP1yyfgVdgIZxEJGBOAZqMKtz+Adu8Iafbhz26odXaAVhwIVWIIRXQIZu2IZxwAbkmocxwCd9qry8i4ZWUDP8tQNHMITjJoWHgKhOeIhVYIVVaIWDj4WDbwVN2Bd5qwT/HogETXD0NdwHZJCESyCFSj/sw/BaX8gDGPCFMHgGqRons9KuTIaHUpg+dmRHdxXkHECBXsACb1AHdhAxWhCGYeCFYeB5nmcknWckc/ADdjReu72fEVvDU8jgZWf6sfiDijnupz9uQPiDsRCYKkRPcIgFQCaxeSiGYzArebAHcsCHe8gH9hoGVZgHaoiEadiEVXiiXoiFaaCGUXiBAmCAUSiFUriERnAvOMCEQwADR7iENygCKPgCOMj4St8ESSCFfyeFTNiEyH/8TcCESEAERCA2G9QDO6AKRaNHq8gHSEgERNCELMIFLJCebpKA1duByGYy+5mqfJhGccAGebgH/7KuB3ZgR7AUH0JAgXRgQHgAhWnS+V0ABp7fheVffl7YhWFoh19gh3AwhnbopJTB8atQh8FwpmRveiYHA6lHbiR/hb41xYQChxHBhm8AB0lEB3zghRHDh7n9B0coBXiA6U14g0GwgySAAy8AiC+OaH0SRIsWKAoMBFAoRepSoxhDnmwSBcXQJUJGjFzKtMmSpU2QIlm6tGkTqU2ZGnm8hGkPIjmRHj0SI2cPqnb6/v2Dd+6evG/eEEEKKS4bt1HltPkSkAcUuh7PrvGsyjOfN3Dz/NnjCQrUP33s6MGDx3OeOVax9sn7l04WOnS6dOXaZTdX3V3exilTlsePuXvu3v9VI5ZN3Dmr//I9+xXqcShAgD5Rlkz58qtavbqRSwdvHr58+EbDQ9et27RopAQJAkSNG7xo5OphW1fqdqbbuktBAYMN3LRu2KZ1uaPGTZsnjaI5gpIpFiEEBAQgYHSnS5MaT74wUuSmEKJF209+XHRJ0iFMmERpkqRIUaKSmOzYGcTH0qM5OKpUWTQoFk9SpLEHMcUgwgcfdyxCSiakkBILK6IwMohDUuAQSyurwFJVPp6RsschkGyySmyxxJJLLLSkeNBBpaTYSiyfvFJHGGPMIYkqq+ioo4OrkGIHJbHwkksreCFDCzLUVLWPNKyYElxnp3VDDTXHDHPkNL3Q8gr/bo4Y8mUpX8LxJRhllvkFFBfl4o49pfTSSzSZGOIQKbfVmUkmhYCxUhFFNPIFHHC4kUku1NgzD2+FbGJHAgw0MMgidrTRxApGfLFIInAU4h8XXSySCRxt0GFHHXSYWkUifCyyiIKr1oHIHmbYccgcAq5RiCOZ8MRHIYyAE80idNRRqh2QKOIFIY/kwUAYTqwBQwh9IGKJkj3lUs41rGi7SobcpJOhKCjl2AqebXjR3iaMdPGVKu2yogorJu24Cis6UvJuJ9rmIgq3iVWlSR6P4EmKI2UK8sYbXnzhRm9gpJkmEkhsVIQRFG90cZ8RIwGFm9Ok4+ZmvcCBJ54sNbJI/yONGGEIHH0SAmghhWTCbSnkvpGECGlEogci9G3BRhVYEHLyHmtEmsYgjTCSJxdbYGHFHXioYccaeDDCciEn04FgG3xAYkcSZwTiCCnRTMPPIlnnUwocXaBhRRZZoKEDBDDc0APeCERQwQE6ZAFHYrFwwcU5/LhwOOLSdHPCAxw88MEGfbqggQIKnHDCBx88oIELWTyRhRGHf9D5ES58HrcOd7ixuhtIBOpIL1XxA0cccZj5MO4aR1zExlDoTrHERuhescVw0BLcNIX0Elwpe57kIHkqwdHIHX2m7BFKmDCyvRqWSCGFeZdEyoYTZpCAxRCE7FFHGoekQV94iyByRv8NKWigwQOVH2CAAQMMcMAB/AfAB1zuAQ+wgSFe8YqFrQ4UtJCFIwrRBjVMUA2IkIIMwvCIQ0hiEmNIQBRiEBJeYCUWmViEZmKWsksEIhGy0IQm1pAEUaiiE6SQAAmSoIpBDKITnCCFIUahrXe1CxGY6EQN3aUKSWirFa0gBSgcsgpk4ONfkoCEmRyWO91JrE9elBgYLyZG4SHBC4UwWzdM2I1znINgIRnYJi5RkkZ4YRA+GEIRPuUgPKGsEZdQQyEWxoUvcOEECuDfAAKgyET67wELmIEO2mA1PKDhClVIAhvY0IVB4OEOUcMDHt7AhjdkbVWIuEISAuGKV3yCEYT/GBplXLGSRbDPDIioQgIS0R5JSAKGMrCQJGDhjH1Uo11QBMUiAsESID5QFaTAhBhytAo9QGIRP2hQILyAB1DF7EtecgTZXGISPJ3ER6RYRSD+YIhAgEIW+agKMCghittBjIu9e5g9NxK8i2kMDmzIBDK2gQw8dSMa0YBII1SCJ5dgohGDcEIXcFC5BxxAAQCc6AzQUAI6eHIRlnDoqLzAhvM5gQ1mwAIWBnGFQajhEgyi5RmuIIVMGk18S8vEJeBzCEvMb1RlsAIoFBioQBniE674RAThYIYylEENakCBHcIDIktIog44iMEhlPGNa5gDF85shHo6AcNLOOEKXljV/yDEEK7oOaEQgcjEEb6ACTzErK4x2x4eVNXHBu2oFH/4Ayg0kU5Z8GQf9ohG88rUG4j5zp751Kelxii8QrCBFD6hhYOQoQ9SuMGQF1XAA2Ygt6eyQQwaKMI2G4QnurKBESijWhUUhAg6IIIQV+BBDmSgWxmwQRJOWEQSosYIO9ChCiHAgSWrcIY0nMEMPMyrU9WAhzYUAg9W2IIsarEFPBgiZo54hSsYlCdToYENdzhrygixhpOZgQIxGEU0jmGKZlhDF0lwwQfwB1oDGnCiE31cfisn4P3iTwMfuNzlDneCI8QtC1pAQxui1ggkADYToPirM3iij3kMA3eaCoSmdP8ZEjh8gYv6dCwSvLgBBQzgAeeAhwQZgQx4lCITd2BJJsAZiEIogQgoSAJ9TouwN9hhe05A2PYWUQWOMkJpjADlFRJAAjM4IQlrUIQlrpwESPlnC1XIQRKsQAUqXKEMZqjaG6RmBjOo4Q5fQFiPZWGILcChTHBwhCsEUQT8WjSRFVUA51zAgRMswQoocAAKNsEKXkhjGOfYhSWgVgZLngFBb7CO1VY13ZjZoQpNcIIXnCDqLbRhqIFyw6nX0GanyuqmmaBwd+FgBC7QwSrIcJjBvhQzROx0JXBAwheCrbASGyF/lfvAdrjQBlQ3QhS8WEcrXNIJe8CjEYFAGUIXIWr/FDyNDWtYAx7bIEo1NAIPP3iCG96AnCnEYFaJqO0hFPGsJHihC5gkZYRRMMnpWrIMlbTkFMpMwTe0oQ1deMLkLHqAHMiiog8wHRcKIYtereQOZva3uOlwCDzAwQttOEMMKECFUcViGshgBTL4QIItKMELXlDDqtCQbgVJghKSQIQX3rAIKhBh2E5oghXo0GTr2IEPrh1EVC/BBx6GhBEOCsTYDHFhUJBiJzw5R7DRNNQ70OEMdSjyG57wAdAi+zuFOLWpA9UrsLKCHOtQBSIa0Ql+oIMQdfRjyhrBBiKs4euEQKkEJHCFK/S9D3KowtcPQZ9v3wGvb+iCNqtAhC60/wEFRGBCKKlgAfOqYQtMUMIUpuAEKlSBCkJwHIsN8IAlyG2Ci4iGPvbBigTR1Q14oMUqevXkNix1zeJGAxqM8IQ3GCEJIS9DRzxyp0LEQAtKUMMg6BCJQ2QSEYjQBHswcQkvbAG49J7eHVCAgjTgmBGqOpkj3mAyNWDB6HC4aSO8SYonWgUfdo3ZG7ZQAYrO4A5vIDEhdUEXdArwsQEapJl53UEgNN7SIAM6HBQjOEIneEM60FHjnZ2m4EEXZJIXZJMXeAACyEAODUES8McZTNAamIEVqAEbEBcdkBnhXUENNMEagFkSXIEZVAEF6ICYTYH41YAhDYACzEAJTgELKv8IHxxhHVzDO/1DImTSGyxML2xANxhH1GyBCmaBsiFH8G2HEaAABSTAFEQNGwwCIdSHHcgAqLFBISjIIDzBExRcryyCa4XaIujAD2jTHZiB+KVBSWSCJRxCeEyLqljCHtABG4RHIZhEI6wBiGVNHK2DVZydCyjAB7SBa/XBHHwdHYJSJ3lSm90BcXUND4VHI1jCqojCM6zDLvgfHqiCOZhDTG0BwbHBBAHfFmyByyHBE0gAAqDABQzBEDQBESgB5bkBFyAcF6RbzjnBFmwgFlCBFaxBDqHAGpxBFZBAFVyjGWgBaJVB12GjFFTBFSyX151BTFEBJdRDPgzDKbEgwbX/QTmUAzgkyB0Ughr8FNxAGBpkgel0gQvgALQsmR14EihagQgAAagFCqsoDByMDUIxgssxAg2kgDbhARukQAmkQa5kwnDRodFRl9KwgRIYzZiQTCAgQSE80ybwwSQ6mX+QyhzIwSEkQiIcwh4kgiJEAk8SxbvtgRogCH28HBkIACmkwzzUAy8wQswgwzpMAxUowRAAQRN0wRcEAihpgah5wRMIowIkQAJMwAVkgAegQI81wREcAagFAsEVghYIoKhgQfdJQRIkAcKYz5hlwQFwgAX8mBL8GAnEgAyAmQmiYxqsgSXwgihgVhWkQXSdASsMQyVQDUyE4xnQpB7ogRmY/85GxIAIUAAmtQEbbEEoJgEJoEGgRKEdsCEcpJkjXA8eeIEZ4MEMrECa7SEKlMB64Yn5oUzS4MH6WYEdLILViJchuM5DbMIiVEU7OEIn2cEe6IEcxMFMHoJ17kFORsJ73OS74SSIYOceoBQAAAAibEItzEItBAIdLAKKzIIX0IGodQGSMaVWPoHLCaMEJIADQMAKuAAR/AARQF0XDMEPKIGoHdnojRwdWAEWrAEFiF8uJsEElIASNIES+I8KKIESJAEKxAAJiN8PUsEUNJUk3QYfXOb70AcgyRypHEIkrI8cnMGoEJcauMBGHIFnhgBtjYr1WQIkWNUZmBdL0QFdTf9XhGFl/l3X2wiBEIAeFVyABZgBXjFCHdBha5FSdVEBCpxBKG3TyZzdSp6ES/KEO5xQHciBHKRBGgzLGcyKdyYCJFgf/MiPHRDZISCdt43nJiBDLcgCKHjBiLQCLZRCINLB1NwBpDQCIYiSy3kB+mgABURqDfzAD7SAEtQAFWyBFVjoFjxBXD0BENTPthlaElyAENTABEAABExABqQqAiCAIhkABFzAhwbmh/7YFNSlFQAfHOAB1XCB1QxELLxCa+LBIjiVeRWcaHLBBhjBBjxByDlApdGHTiJCIliVFBTdIKRgffCBGdwBgvABGzQoDuZgwJUjCZCAFAzCRzXCcJ7/jNKAEhvEwHRQgNDdlIM4iCaoQjFYxSZ0QiT0AU7Shx2UQdGRilyioQG2oBp0gS6qARp8gcOO53H81ZdsDyMEnzMCnS46yxrkotNcwRAQwRBoAASIAAlYgYJx6I9xaBL0GBGMq2mma6Re0hSIZQnkrKpOwARIAAQ4wKsigAEs0gFMQLpeAIiuAAtowRL04xYQgTNagRDsHwfYgBLAjZICXwF2wQc4KxfoQKQi6iLwgdVsz0glAT92ARWMktQEJdLRARaoQRqEI39UwSEYX39cQkdMCyNMi0dZQh2IgAAUgBQcgiaQgio4kYnkwlYsCTykhPwcqxqYwRlMAZvlYhO8/yXINo3DdoETaEEuOsGmjqcS4ArLeOoRoMHZNUEQAAEQqGUT5KLDMoENAMEKeMDYIYB+TsACLAAE6KcDRGqkWkAKpMAUkECkOoADJAACWIAFTICUgSgF8AAK0KzwUkDwIi0KjIACLNICpEANzADlZYENaMHkCeAzstwzbiDwmcEWoIGmWoEVPI6BVQBYXoA0UgHG8V5fQo0GkhoomUECXkcuTsEWZAEV6IASUIEZQNIZDIJw8UHRrQpPLcIewIAAgIAc0FC7jAuMRMNpkIMIT0MluoF5sZyG6sAVaOr7HuHHguwWaCUTNEETAEELqEABAIAFTJ6g1LASbBclbUETLP/BEmjBpxFBWgLBB7AAC2SOBohlBlwAAszqBfzsFEvABHiAFmhBC/jsz4Zh9CJvXSYBDwgkDMgADIhACGCvfs5qYP6Y+MWAhw5tAChAFhhcEzSNENeADlDBDDuB1qKB2zisEzBBf3HA8iaADjBBVNaAspqUlibgdt1BG+SqDiSBAk+B/FqBDlgABZTArk4BA9ti1BikgpTEJmiCGBAAA0zBIYxTvvaIE81yLMQMFwAaGmhoDcygpgrBDBMBk6bACrQA+ApBCwABEcvvFIgAAIiAFeCBIzCCFrAADdAAqk2zDbfA5dDACqSAB9zP/XwzWXaACUAAAUzxqxIAASQABFj/QAdQ5Qqoqjwv74/lAAxg0IdWcQdggM8GrX5Gag4lwfd8Dw/EgPjpwBK4wAEoUgAcgAakpQsssCgbZoyiIzrO7+bQAPY6gCZvAYemGSi1waXGjHWVWiGQGshmR/wqQQlMAKZeQeiNGVOZSlDSdHTFAAMwAJAZnUe6ViOkhCqsyEGcXf5tAUVlgPgFwRIwgRAsAREQwS4XrxDMgAoIQRBUqBXUwAhYgAMAAAGUQBOgGxcAgQ3YwMLYwAmoABNfjgeogAfsMwZkAAZwAAbUNQY88Tn/rj9DwN64wBH8ZRyHAFiy7Ko+LwZYAALsz9D6D/809gFUwARUgGRbAAlYQAmI/5+GFu8KEMEKlMAC0PEARAACDx5TqeCYKYGAjQAbk6MlwUBNwkciFFdeLWgbyNzgMG2PYa0TAPYPr5kZqAodrJkmQSwaUJAaWEECCIAAiICZmYGpgKuqFOIq3EYsAKASLEENoAALVE6haaiFWoGZWcEU8HEJqIAJqAB6e3MGOIAAJEAJDLMboAENmEANaIEbLIFbd0AGZIB+w7Vc17UHBDgHcECrqrPy+rN+IkDvWpQBAFDQPm+qOq8FZIAFQEDg9bOqvqo8WwCUlgDSWnYKoEDx1kAFYIAHBEFFFq+BfcAILMBCB0CLuQBVUsESLMCrkoAIqHHdigEOGA1xGscKFv+c1t7Bg+XqFJzjZZZBEoCjHAR3GbwvGizVGZR2cUPsFEzHctPBIGAsKG2PHzGCbpBCamrqX5Yg3BzA6i2BEABzENQADdRAMKeAWptAiFcxAcyqCaDAwjzBCqhAXDGBCTiOBjhOf/3ZgPmuBYgADDQAA4Clhf8uBPCzBLTqPAOtPPusO19ACaTAhAZe0L4q86pqBWg6CnC4hBNvCug3BmSORppACeDuB+T5DHDzCqDAZwtQAKhzhYdhEsB5DYCyLtriFtSAGQCfGpgKIqzB/FTBFGjcbJWBDpRABfBgGWgyU51Bg7rg10GnHZgBMwNACOBghBlk2W5PneBGIQyCaXP/6KavgBCQQP48QAvUQJsDQRAUrwmMgH7TtQHZ+AH0LgGl5QnYwBNwAdOutXl3QAfk7GXLQF2SwAXo9wVIgDpreARAwBUHnljKM8dHQAT4bAV0wPNWeM/6roWLZal7+KaH+K/n7ISPQMiXwIp3gAekgBL0pwuwQPGO+C5btRLMQP8wdAAYwMpv+jMaXBcYmg5wAfB5kiUoSBnwcZOC3oZesnLFKHNZdBroAYg8wvoYahkwwHiKgIyOSrj2aEiYU56QGHb8eu8ugAFVAAfQwBI8wACcgBBYqDRawXXXj6+XgANsOpxrIRcogQ1ooRZoZGBKgRiQQRjkgIdWtgWYAAbs/40FXHzFJ4AEeIAvIoAERMAC9CzHHzjHt7PIp/qr77eER3wNuHvL5+wEuPOIe3MKYI5f0zAQpEDmxHr9aKSI14AS0MAISMcU/24CLEAiNfQHLEHTqOBtWULGOm0R08AMSDXww42FEgHQye8Z6MEj9EEdrAEubkEZkKMUEMB4MoDXmT2CrMqqbIIqwAIsdELWNMIbbGsO0uXgocCutoGm2gBAGFBwZMYSIUKaBDkopMYFAhAuWLCwJIuZKlLq7DFTw4KHFCguXOggMUMGCxdKoIiRhIcMHA0YhEhAgQSJBAkg5JQgIWdPCCcvmEjhQYXJkiZMeLDQASmQJS1WdBhhov/EjBUoSmRVCARICxUYPnzokCKIirAfWNRQW4OGECVCaFhAQACBBQgJHCSpgWIKFTplFAQYoGAEgCx9s6DRomRLkxozbChJqESHjiRn5uhJc2WKlSZNtmzRYiVLltBamhAAAEBADStb0KBp0+ZQpEiINjnS7QgOHC8rdKhNkUIJGjVXzMzGE+gNGzMuDihgkWIGCxUlTKBgIECElCQxrHD50oWGli9fmpgoGSED+5IZJmDooKJDSQwRIBCgi3fC3ZsURJCBBx6iiEIKHpJIAgWsSuigBqQ6YIo+D6wTyoOkSkjBBBWGm0GFD4FYoQXrVNAgLBeYeOIDDUxsIQW4gmj/ggnUllBCvwQsoMABHM6ww44yyjAjNiaW4MCFAQYQ7AEXuADCiRaQKqGGKsiYgwwpUKBhiS2XCKJLL5lgooksxFQirtVWu2yPSA6pg4023ICjEEcMcaSQ3tqwwoLhUsiqiS7eaEM2xT7bUgkrqFBgACqsMGMNO+ioIgEFUehAC/G66OCJTW3wwD5P38sAg1E1KKk+CyTQDwEEIIjAggkimGAoj/oswQIUFLpuQRQSlEIKMcS4KEG9UOATK6tUGHGFFMZKwQYWvDrBxA+OOEIDDDSwgQm3lJhxiRm7oMKBEHCoggQHHIhQogksmEGJ0jiwYgogzSgjixEeQPKAA1Ew/2GG6lZYgYWBbWjBBhu2BOJgIGhoiyEL0AQgCkabeKILLsSTs5CN74TDDSA6wO6jDpbgoosu0PCxzc2sIC2LS10IYKAuL4AghRq4suGJON+YM5NMsKhCuBqySuEEDzrgwAMNPDihvvzoQsABCCqQKMIOlvXA1qRMkKrBBhueIQUVWKBBBRMUIkKJIKiYoooqeABWjANbymHXFFgooQIOWDhCC2mpbcIC1xqlw5JF2tBhLgT6S4DxqiuYIEMlnjgCgwn+dXuOPOS4ooQMRuDggABIV8AF09AQ0jQrKtOBOhuEWIIKzObIIeIUvtVCd93R6JkRO+F4AwoojojgggWTkP+iijTWsKKLL9w4uYsntHiCCSdkDDMLBQ74gIhibfjhhxaAmHELJ454ggstliDihxWIIOI1NcwIDQss9NoL6lWntgA7pDPAoQ2ZgAUroAHOQjQ28tngQwL0QBBcAIQgbIgFTDHBCugzEoncalfJGxAZ5CAHKcSgBDqgAyQgYYYl0MBZEmTB4tCFk6pFAD/+K9t3eBCHYCHMBloaQQYqUAGPJI0DD1BUdExUHRb8SwdXyIMezBBFNABJBKthAGScQqTSuGFOG3ND9CCxhzNwYEUrKgETuPBF8XyBC0w4wpi0YJpL7S4L1RqdBiQIBCI04VJcUB/0nrDHIESFQwCMgAT/mJIBZpVgcTMhwWWwcIW7RYhZBFxBjGTEIRKZTUNdG5vRWOC0DpwgAkIZjv8y9JGADdE1J7SEGVhHg8ooYVjKAxYDGNAAEaDLAROYQAUoQIEckIEMYkiCBSowghHMwAU2OMEIKtAe9nQgmvLJAKhUcAIjHoCbIkiCDg4WSlN6YAIEEAAFapAQisjmDowgxTtJwQg8zPMOXLCACdQyog8UAQpI+KIb3sBG0ZSmCUeY0RO2xAQgKKEGKgjMAwx6MTZuKpAiwqBXMnCCE4gqAxHqqAcqMJeoseokHOBAyF6khEOpYRCDONwgzqAgJdggZ1DpmkcjJJRkuYhPNWDIslxT/wY6LIIPZQCnC2jgydjVQIGQOdgKbuSAm4igB2MIww5gwAPl+QoHMUABCWbQgg88k0IeoCEGgBg5V1kgBlLIwxjEgBUOYMCICjDiA07AAk8hQAACSEAGNtRDg2pBY4a4E3rwAIc2lIBDN7vZyZ5ghCIUwQjWC9NnMMsEIoRJobaaQA1+oILRKcAIGMPYZ1pAFBYcrAX6vNZqydeCDoh0Vau6GRCSNTAV0ICnKnCmCi6ElBEwpQaMUQMbWsoGNbTtmzp4Sw9vxhfDFVUHSFstwoh0gm9tqbXDOZsKZmCCchLgBjvYQTB9WYGeZJMD+NnbCYJwBBuoJXkXyYFLYuC2MP/kIQwkpEoH0IrWqXjAA3M9gAGQFABVYU5h38pCGg3hsSnEgAd9oEMd6vCrOBRTCjqwAhq6sIWLQWEDRahWQlSwhEKFSQtM2MsFUtCCHzgFOjLb1BG6Ai0buMAFoRwVqU5ggoMtYXG1RUAGaoBBspWtgHh7lgtGNB28tRaDQvEpXJiaghUUdwpm0AQi7IAIREQxQShQaQ2CEATr1VG+zzKbCvw3AxScQQ952IGqFnAXqkXOLj+5z6gesIAIsMAF0ormBJSGAimQYQxSIIEFTNIB3b6nA56iYQQq4B4OhHQA0eGmAhTAgRP0UAUoEIMopIEMUrRhBlxYQtVAEhELtMz/DGdIQ0b6UIcnFGED1mOUFrBnUIYUS2FAiGDBWnACJJnOBh8gW1eAUK1OZUtMbgRCfozMOKQMbEQaFeVqrc0VpyzBKT1sWBAQRoUy8MESd5hCUkE1lbHNOM1JBs0b8JCJRrR0DUAqgxzyMIcqJIErP8jAAOgCAQewagF5flUJgPABaQo6AlnY1BJMnYc44IACEIiPBip9Ag6AHMCYzjSmTVKB+nQtAwq/CaZh5YAkKWk3HIMDHb7jgJNgZU9aOJnJTtbiPe56A0bIAhvSIIfMBDxYU9BBdVIQbXIXzAaBGcAJVvAD+fLYmRpY7RJskJT91XYEA+O2wkLpAvlWq1pT/1eYl5bQKEtYgg9WYGEGsEM2DzUwt93eKIEtkHUhUIEMGhdDcHjbhNfgoRGNsMJNYjABdJk8iA6IQNIyIBJokkAOjxB4CUKnnpMCWJruiRysKE1DdgVRciawy00SwAAChEAMlNBEG5rghi8cIV8K2GcbvmAFBxDAAVKAqxjqQAc1bAFjulMokarFayOEabNiIhpxEsSDKumhD3qYgxzMMIWYBUADNy70tU5gUDfaoMi1tYDZWotdNx67KzTdkg7ucIlN0GEKPawOAW2gCVrrbDxEr1gO0kqCKC4kBsZA43ogK4IsBeAjcppGr3psAfSjVdCFBKhgduxgeRaBDaggh//ioAdIQAiOgMeWRgMCreFoKIii6eSWAtIihPXYBVQsIAISQD8YoAcoQRLKYApmQC2WwA1qbmPEo41GgAT0YwJCxglMowvUYA3W4NYe4RDa5Ays4Ak2YANwLAgYxqfEpKCOIAiIoHzCpEvWogZmTgEw7CJahkhsgJGy7cgWBmEMqnJcYEuEau7K4GCexewKjWzyKq+sY64uLc9ipQN4xfjigAdIIANMatN8CT8w7QJ+KQMIbcegQz/QZVVaJXJioAfC4BFRgChWiArYaRDYgA7qJQn0ZinUw+SsCZmCSPX0JohEqgHEQA/IQC8OqARWgAlEgwnagGMMwbC+6AuWoD7/SsATgUAPFSZFmo9MxIQitIDXnqAPHqEP5iBYquAMgWAGCEwJqge37sME1K5aHkBJMsAG+oRXciAEyusGQAAmSEAH5PAEdECoNGERrKA6PqDHTsArCMYFskmjLiRpRgXmVI4DUEAEdiAMoiAGYFBULg10+iMnWGWtJCACeCwFX0hVpCoBYCAMwgASYeWsIgADpkLHOHHHbCDkTkAJzEC5BsFH7CD8pgAFiMYu5oIBduARRAERqKAEzmUmSkAygqC4iusLOkZO5EQ8WqAkIkc/dGBTWmzNWkx3qvFlsrHonuAzuMItrKAKxGAMxoCY5sYiKyCvwqJpIC0wDGBF8A4C/2irtnBADiLBDzfnG72DLQ4mWdiOx1xgrKQFwBCQAywgCcSAv85L0BTx0iJgAX5MEvEDAVQPVnIiAk6Ax05gBnawAXwgDG4AJyqzVTrz0jrgME9gICmqco6gtQZG0jhkvqIOCByjAkaTByRBFQ7hCo5yBn5JRxwgv0qoBqagRoSACXqjNwrBENzAemoA0ySCAvRjCagH6NbH57rgZUqDCSzOCLrQoJoA2VorLKSFRUZlAQ7AAR5p++ZgDnogBsCqHQdA4m4EB3hgl2aABk7At9RO7biCqWogCagkDvIg4N4mBpBJIlKCBxY0DHDAAn6oPTiyI6OJRTg0AzSgvRiHhv8ErScCTwnOYEFDIOHwUjMlsST6gydaxQPYrjA/s29sQBIBkChsYAVsZS540RR2wRI0S/EQZQq6wAmUYAoSpC+oIAmm4DFK4CDiBDoLYXqywARoSCIcggCYz7S8tPncKEyrpQuNwDAP0zA/gK5c8D7O6jNpaiCbTWukoA80AQ1IBwHusQEIIAGIozB7bLWAYGAKTaPgLJpUYARKgBT94K00bgx0iAdioONWVFVKiUOnBTE3amrQBQIAZCLDYAyowAYeIAMMgAAGIEM9U68oMyda8zAPJgW9Te1ooCRUoCtmgAJ2EATyABZ2wfGWwAmcwI1CIwviLja2oEk7g6Gcqwn/DgUNpnRjknELdG8LILQDtlQ7MUYP1Y6mdix9rGdMu3BAV4RFPlOsfuysMKAF1lE86UATGAENdMBMPQDBSCcAEGBSHjMPHkHjqmAK4CKUkiWbSoDCJhQGGqQC0Kq9Mg1yLIAEZCAEGqAACqABYMCrSkAhx2rkQI5TTxIld4lVMOBoCm0uBiDPVmUBTGQ9MnMCKMRMmwmaYiBmSaACpEo/QmAOdoEV7KCOoKW40LAMVYo0MMYK9qK4KEOlxvAYkzEZdaMNPEYL2CUkxssGCrNbY1M2q6VyunADmil91o4TNeDS2HQEtqAR4ikLmo0FrsVEqqXHEMAAVsUASidAC/E+/yKHBHJADBQ0DxY1JVFAbMa1aTRK1BCTRSpzVSg1AxbEJSZybxU0DEJgajJzTQ/GbU012xZAASpTAkyiM72uMGdg1ArtAGz2EZBhF+ygobzkYC5LCEYARFTsULYgTFqmL5ogOF5ExY4gC/5pSnvjH4A3eIV3eIm3eI33eJE3eZV3eZm3eZ33eaE3eqV3eqm3eq33erE3e7V3e7m3e733e8E3fMV3fMm3fM33fNE3fdV3fdm3fd33feE3fuV3fum3fu33fvE3f/V3f/m3f/33fwE4gAV4gAm4gA34gBE4gRV4gRm4gR34gSE4giV4gim4gi34gjE4gzV4gzm4gz34g3NBOIRFeIRJuIRN+IRROIVVeIVZuIVd+IVhOIZleIZpuIZt+IZxOId1eId5uId9+IeBOIiFeIiJuIiN+IiROImVeImZuImd+ImhOIqleIqpuIqt+IqxOIu1eIu5uIu9+IvBOIzFeIzJuIzN+IzROI0ZOCAAACH5BAgKAAAALAAAAADgAOAAh+7t0tXRl8XHx8vGh8S8r7i6vMa7kb+5kbuypbyxkresk7enkLerhrWlhLWmfbipZa6vsq+tla+nkLCmfK6iiq+ifa6heq+hcaisrqemqaijlaiheaOmqaOilJ+jnZijorOcbq6cda2cdqybdaqde6qae6qbcaqXbqaci6ebe6ebdaaXeKeWcqeZbaaWbaaUbKKbkaKaeqGWfqKZbqKWb6KVbqKUbZyak5yVjJ2YdZyTcZiYmJiWf5CXj7KLYKaLYqOOZaGRaqKKX5+QcJ+PZp+MaJ+ATpuQfZuPb5yPaZyOYpuKZpuDapuIW5t9Q5KQjpSPgJaPcpWMb5KKeZOJapOGbpOAcJWLYZWIYJSFYZSFWZKCX5F+XpKAVZN6R4qNj4uLgYmHgoeDgYuIaoqEaImCbYuCX4d/col/YYd8ZYd4ZYl9WIp8T4h3UoGFgYCAd398c4F8Xn95cYB4ZIB3W4B2T3t9gHt6aHp2YHd6dXd1amd7eJlrNY1oNINxV4RuPXtzXXtuXHxxS3xqQXVybnZyZXVxX3RvX3RrYXVwUXVuTnVqUXVoQG5wbm1saW9vVm5sV2xpXGxmW25oSG1kRWhraWJqbmJkZWhnVWhjTWRnUmNjUYtcM3taMm5cSHBYF2NfXWNeT2VfPWRYMV1eXFdbXldWV1BVWF1bR1dYR1VUTlhUOXlOLponKWVOK2Q+J1NQUFVQOlVHN1YuIU1QUUtMTktMSU1NO0hJSkpIQUtCOkoxJS5dXzFOSj9HSENEQjpDRz8/Qj8+NTo8Pi49Qjg5Ozg3OTc2NDw2JjM2OTM0MzA0NiU2OTIxMy8wMSwwMy8tLyssMDUvIissKjgoGyspJCgsLScpKSYnKSYlIiMoKyMkJR0oLTAgFCMhHyAhJCAgHBofKR0fHxwdGhobGiAZFxgZGCkQERoSEhYYGhUWFBQTExUNDg8WGQ8SEw4PFA0PDQoLEwoLCw0LBwcKCAgGCgkFAwQFBQMCBAEDCgECAgECAQ4ABAAAEgAAAwAAAAj/AP8JHEiwoMGDCBMqXMiwocOHECNKnEixosWLGDNq3Mixo8ePIEOKHEmypMmTKFOqXMmypcuXMGPKnEmzps2bOHPq3Mmzp8+fQIMKHUq0qNGjSJMqXcq0qdOnUKNKnUq1qtWrWLNq3cq1q9evYMOKHUu2rNmzaNOqXcu2rdu3cOPKnUu3rt27ePPq3cu3r9+/gAMLHky4sOHDiBMrXsy4sePHkCNLnky5suXLmDNr3sy5s+fPoEOLHk26tOnTqBm7+fLEWTR46mLDA6fs2LFgxXLXIrcNXLNs1ZSNC0b8l3Hj7uStW6dunbli0KJPmwatmTJoku6owmauu7kCAjhg/8gAAcO0dfDcuVvnLh3z2LG9kzNHjtw4cfi/bdO/rf82bNdcg82A01EHTTTOOGOdMsrMokszth1jTDHHJKMMLcEQE48567yjXmzgCdBIHl98MAw99MhDzj33kJMOPQSRI8823FjDzDjtsFgMLr/UI5A8ArXzDzugwPNPOvmoQssppxADTDj5xOMjN7xUyYsllvDSDjFVigOPkQPF0w8vxOTDix2sKTMNPvDQ8yVtuUU4TC3ejAMONNMZ480wxPF5nDjdjaMOOesYEx00zuA5jTLXgKKHKdDM1x14GHBAHgTNqJPeeuvcw5w58clXn334icMff/0BeI01AR6aqIIMHv/DYDe/QBPhhMYwaIovwMRDKHvquQOBACKS+AEu6ryjTDqbnkjQOPfQqA037bSjjzzRROPePuntc8+TsMCCSzzhnGKrHE2Gw008+eTzD5VVclNKle1QSUw68qhDD4v/0BNPlVi6EcYXyjjj5jzzwDOOMccMM4wwxQwDizn4NXNNNMaIU9xxyLmjjsfNFaPmNAI6cwwutiAihySwnEKLuMNWeikt+F2jTDAo42IMNuPMl053o5bqzTf8YfPffwReM110CsLK4NOw/GKyMsnkVoyFpgTT6zr70lNPihgQm4exp3CtjjgpwiOOPv/g0686+nAj9zbtuPOPLaSE+M8TQP7/oyUuxxRD7jLB2NINLPkQ00s8/phpJcDx2jvPP/e8s48+9XATjpbt5GPHasc4oxw86JkjYW7CCBMMLftho0wzyeCSTC2mkAJKJY1UcsklpJhCi3HH/CLrL9clWqskhYAyTTD3jZOBABBkcOkl36gHNDiA0hIfb80Mg4sptdcSjMXXHG30qtNEk76rCz7NYDKX4AJhhVYnk0zWveLC6zDHQJONB2IzViNqgbdLVMIU+NCHAttED3Xco0bMYEbd3PEy8JXiH4gSCJmMcQ9rOAkY6RBGNd7BDWbcyx/wAEaV4nGPCNLLhMSYhzvIIaR/hIMZ/mBGv/7xuTDkohg4swUt/1ShClO0jEe1+AUssjEOb2RjGtYohjh+gYsq1uKKsCCHwsDhDXJ84xcMI56igoGdQpCiGr8ghzjI8QQBFIAD4oFAI5qxHPiogzu1SMd8xHEf/ETjG6bazzYEBAtoGMMYDstNM1wTDWg8zX6QVEY0UKYMWJiiFLsjBO9IIa5iGGMZy6iiEncQwBLl4Rf52gY8fiGQaejDHfq4x4tqVMJ2pKNyOKPFMP6BH4HcaxvvqBe1uEGObHBDcb3Q0jzglY53EIMZVZJHBJlxD2LoSyDxIIY/+tE2Hr7Bh8VYD4fWAY5gDMMUVeQRLUjBTlDYwmXpTKctaLcNO9WnfMEwRjN+Qf+h1zVjGpLQAymmkcY12sGN48FAAb6wDZB1Rx3TIEct+qjGoYnjj6gKkDVoYY0CZesZy2iGSB95tWIsg0HTcQY25PQLUxiHFFRsxy/28Y9g/IOmBxWAHYyVB7TBo3q1gIc+ovFKgahjH3KTmztyBA9foGwY9/gGMdRFDHCYox3hIIY1uKENeJDDXtAMBz3aUaV61IMZcuPFP5ihLnkAQxzJEUc7etGLfijnHWMLgyqM0RzYrGM4LY2nKI3DI8Hi4oq0G4c7xkEfioERiNU5kCMjIYeB5oKP5LiEG6WHAQjsgBztaaw5hPML/HijVESLhtH+o9GNZisa1kCQM16nDNf/PbJqIlvGL7IRnWEYw37FKAVxhAuMdgRjX8HAxz3+UQpi7fQLO3DDNzxUPVrI45VsYls63iU3cvzDburQRhV3mY5wkCse6jCHNp7BjGVYQxzqKMc5evFMXnCDHmYixjbOGo5/9OIf28hHf30Bo3uoox7AwMU4jmGLS+xUDKA4kTwm7A5zEAed8azFYXFBC8Na8XvbSG99APWLZZxsGJ6krSPuMFAF9+wXxEpoATzwjUH1rDvREMcwxHFabwyNaNZI1SCtwSpcwLaj0HhGgkJKHGWgOBnGEMbTdpGNYFQDxZ4Mhkt/EQwih+MX0/gGLgA0DVIQyw0kii6HmeQ7bLCI/x6mEKo6/vGNe7SDpu4wBjmeQQtbHEMf62iHNvZhj5veQxnBoVAuTIEINzwBjh8QDwY8AEc4YqBSlqq0BzbN6Q9wegd2+KYjglFhULUnGL7AcDo1/OHDshqxtThFQ2OzHHP8omrEY5A+j7HiUDijtGuEBrEycOk3AsocehwVOYpBNB7/eBtEHhA2iJw+X3zUkaBsRq5uDUQ+8W+20GlGMG6WDBRr+aW+KIW6e3eKUoCvEsT6Qpp7AD7w2a53pqjEF97whCdw2gPSI7alME3sSxv84Ai/dMHHY+kMcMDTlY54pSMd6Yd/wNNjE0MehvElvwKWFk417BVFXgtaxBob8f8ZxzjWUeJkBCMZgRv3MRCBB+UFAz/j+Mawi42BGvOxZ6Uqhn+Gvg2SEYjICApGNJ7BdGeAFKSEs18wlhGxXDGoGaf4RTSwPKGsBYMUwSgFLcZeC1i8DBZmFgCovwDdHWx6BxygdMAlLulKJVzhd+8sBMqDcOnF/e09eEIY3pAHPTjCEZEAxSZCQURVpCIVtkjFLWJxi1sQXgxvGAaFPWbrX3Q4wyI3OWLneYrqPXRQtbDQL6xxnV80oxiR0IMkoAHsNe5coRDAhhrBgb3TbiMZ+tGGNqRNIFW9NhrBaDoolz+MqkHZaihWRq6aUQto2KxgkiRFdYTrbiZV0ILEii7/21nj9k1b6t83uMEOdhD4J4Dh/WDAPOEJQYjDHz4S+MeEJPQvif7zPxKHUAh6oAd3AAdwIAdyUAiHgAmaEAqogAqPF4GxQHmVR4G3MDYCUwzO4R7uoDG4IC6rtmqsZgtCVHJj12fO4B3gICi1QnuvYwzGYQuxVwi4Qwhv8AUAFB7FBgFxt35fYAeXAAvCkAsWUw3ZIG3/EQ0Csj5qUgwgtWTMlwywYzVU+DrLYArGEA254XLDQAp8kjViBz60UG/tRiwfMDAesAMBpQf81gEaEAEIQAAaAAUwAAM8MAVncIB6YAiHgAiIkH+YEIiCKIiasAmGWIiLFwqbkAmboAmB/wgJkPAIkAgJgbh4EAiBqRALmTh5ldeJOyUwwzAPE0Y66hCDlmQKoHA7hJAHAvMEPeB2xMZ3nTUexBZwtLhweZABHoAD7wdwAfc8AlBwBQABAKdpf/dvuviLv7hpgkcIkYBO/GQbiCQrVJhIBaMgpjAMTuYwwfALEfYLpTAMp/BhZid6xMIBA8MBO0AIAggHb0CHcUgAHZAGUXCHU1AGZTAHd4AHh9CPkIgJkTCIDMiAiGiIBrkJgwgJAYgHeGAIfEiJmGCJmPh4E2iBlecGbiAGYgAHYNBvT3ADAAdwtJhwfCeLe1cesVgee9dZAcdpX5B+OHAGZwB/GykH57iDdP+Xk3LXkr+4dxmgAT/5kxpQhzjgfnCgDAZUCZVQC8JlRLbAZc2RWkj5DUC0DCAVMb9wCqGEC18QYwMTafSnB+4IBh2AAMSCAEcgAzLAA0dwj2Wwjw0piYCoCY5YiQd5l4MIgAuJBwJ4CJFAiaHggBLYiZWXC7pwkRmJZmEQBpgXBh3pfoz5BoSnh3IwgO6IAGdwB3pQCArYj575mf3oh/0YCQ45B3MgB57pkJJwe8OojH5nB7D5OckoPU9ACpVACKDgAarQCrzpARrwmx3QATBwAzgQBsEwDcawaLgACknZCM5ZY87QCISwUwf0BWLgBrGJnUzyBW5gCTF2Caz4BZX/4Aim4AhvAAY3MCwAQABHgAIoIANQcI+ZuZl+6ZeEaJCB+YCKGJj8qYiBSJoBKAd3wJmFAJGGGJgRGIGEWXnyJwZ6EAmSgH+j+Y/9d6CZgAmQeAiGUAimOQcMCZr9+AggGpoaagimeQcO2Y+GsJoCMIt7BwcFMHcRtwMYgIOclgE74I2XMAw4IAzU4Ann4Ju/OZTp9wS4YFIudwro5AuwQBzGcA3QsA3DkAfOKZ2V8AQ/GJuf4waNgJ12UADDCF1wtCQvgwvBUAkQAABqygMRoAEoEJ9lcAaVqYCGgH92un/9h6eDSJd5KaGFIAdq+gV64JcBmYgTmaAWmZGSCQd+/4gIoPmPlSiIkGgIeDAHaVAGaWCaKQqifBiifCgJGooHdyCg/aiAiddZNLp3BYADOOAB8SkHcPAEFQdHmwYNaLcDsJCKprADcHAJoOBvHXADdQiTqnCjdlBwxJYHO/AN2XANpqAK99ZOoOBScJUO6RAqyEYsBeAGPQBH/iIPwVQt6SAOeSAHOKCmAAAFYJCHlbmZfGinAcl/gbh/hCiQEQqAhTAF6AoHhBqR+ZmgFGmRb+AGAxuAAgAAjuCongmICKl/+HoHloqppsmQhdCpDtmppcqHoMCHgHAHmlmilFoIlKKqqwoDKMCWU4CH7EoIYgCSnLSrjmBJzcCq/YYDdf94s8QJCsUwKNiQCyonDlyEDdCwWuWTDUZbDdVQIEN7Nt8wDdngY96wgtqKJpEmD0tlreUVDt/wBWFwA+i6mHLqsQRKqPh3rxEqkJiQimoLkPjnCCyrpgJQf4kHCqQQCqlARBFIgiSYC7lgHAMrmSgqBw15CPTKnxHZsBGqoXdwBgCQmR4agJ+pkKm5oQ4JCqHqsXcQgJyJB4gAHsMIAWDqtQAAA/GpsjJZBnAAkkZ0CTcQDLaBCx+ZfjeLs45ACj3AdtiZpTvVCP6xWkYLHNOQtNSBcttwMxSSKCSjrY3QA5HmIVgrDuGgtR/5BGq6A5jnCEq5O7tDCpvkbmNXRb7/YBx8khvLAEnA5TDnBJsxC2XOAEqwlS3YMFvQYA3Y0KzY8A3N8LeKqqacC4hoy7YBiq6ZyZAN6ZCAwIcVe7EESgoV67FzMKgEWgiRMCyfC7oeoKZzmLIyucH+1rrkQArpF8I7EMIknH5wQLe0oL1KqZS5sw3wdb9O9LvAKx3Z0A7WYCtq4g3k5A1dCQAZIKsc4CX/0Cb7kED44HaCF5lvQAtc9VrOgEjfcArJqQqJZwraAK1L+nLJAFLNQL8Ccg20cH+wcGzXyh5fIg4EJQy/kDqy4g3H8DmfAwZfoKZ7aJ+DGKH9Fwl+WAh3QL0QcAeEgAiIh3+IIAlElAuFgAkP/0gJojAKjTwKlJAIdPAIrvAJlvwKhQBAFbxQcQcFZ5ALwqALqnAGkhnC1CEMsYsD64cDIcyqrOwGuABX07AD1AcNyYAgUTq02OBE4PC7SGsg0pEO5UYLfasM4PAM4FEibhRpDTXE96AP+xDN/uYBGimZb1AL0WBizXENKHbFx5ALWGwKy6Cr/9Ed1uAe2PAlbgIPtKA7kVAL24Ai8uA2AyEO23AcqZM613AMY5MHdiAGiCAGCggJEPq/9+qoAliAchAKyOAKDu3QhUBEtiAJiJAJsmDJllzJn9AJg+AHioDRllwIOEAsJ7mqUwAGUyAHqgMNpCCZrbp++5BGO+DKRf85wuln018AC3+Ho+t3CW+XDEbjDP0hw0+7PtGhJungC3jzrChmBxZH0nAHDULSJveAD9KMxNYMB9g8DcPQrL8FfHjyC9DKvc/gCHpQCd9wWuPwDGt0DV8iihQUCZfwztaAIvTANgPxDdgwhHy7xsUwDcIwNqsIBwRtC7lg2H2rC7qQOrUhK8egCo46gANoCrsA0p9gRrkghIWwCRr9CZ3dCYKQCIlg2XoQBiStqhqwmGCgB0mbDaMcBj24A/+Qzh5Zs3CQB4TAGv1WC8egIo6gMztTC1AEpa6T1tmQKtiwDuyAKBBSG9qSRKbwlNWgBTdALC2aATDwBRxwDNulL97/wiJPsH478AYGeM3WsGzwsA2T9AvbYAekAM6g4LbL4AZQIF1A8wzfQA7T8CUUpgqVEAmOUAt1jSJ4LRDfUDiI3bfDwNV6gNuFB6HzOx3Neg1PlA2qFVvRIIOcuZkCVdkgLcG5wDCIgAmjgNElbsl/MAiC8NGMMIwFQAAP8ABOQAGqGpOLKQfeMA3YEApvAJJp+ATT0AzQ8AT88JhFGd7r9wSwYEB74AalkAeW0AhY4j3R8DpPG7WlIg7MMXyr9Unh0GG8kwrBYAf0sAuv8ArU0A2SAHc3x0v4gA/2sC87QAtugIqRsAx2cArJoA3DgA/kYA1mGg1u8N5UDAdhkAw3/9ABDOXC45AM2/Ac6ZEe65Bvh4cLz2DXBY4PXwQKoeAJsqALoBzdkUCl0ol/w01kQ4YNSqiEqm4LmivZpODhGB0Ge8ALSkoIkLAKGP3Zg5AIj/AJi+DiCOAExG4Ee2AJBYAC8AcHEQIKYGB+6+cI/RYGrwAL4f0EZ8APYrADT5BvpaBElqRu2usas9Uf2MMO7IAO6X4O7N4N7l4O+VQutEC3pGALjTAPksAJnUAN5yAN3WoL20BncX4P8lAPc54H8HAJZfIBTWINw7AP6bAMHTbfoODfht4Dw9ABEcBQdTIOy4AN6YALkZ4w+aY7vvAM8pAibmMPgRAIA9QInvAKs/8gC5KXC8EhN+HwDqSgCkf4H9oQZPGbIKsSDc2QMogggAMICrL+CQD0OIF84p+g6yg+CIowCZ8wBTOWAcP+CU7gBWBXADAABo4JB1FmDLlJaT9uB43wBGLQCmfgkTEvBk8ACsFQD/LwDdGQDFRnlcVgDe+ADd0TpT6GDudADWrQ7u6e+EdaLrVwCYxXDNKwC7GwC9QwD7sgDG7AAaqgDQAmD7agCinfA2E8DNBMDatQC8DwDcnwD+3wDBqWDGGAeN8EBj1QDG7IUIDS6NZwSMogDN4wD5OOvZdw8nZNU+xwDrNwDr+QB3/YsMJwC9WADNHbDupQ8SoFbQPSSOpwDBf/syrYcApuUOuVkPRLf2m8kExXEglQ39kpXvWfAAXRAwHDzgdOYAQ/WACp/X5kr9hnzwFQcAMA8UWMGzetDDJ58gSOLFKV8uz4sCPPJYg7LOaplg7csVrDpoEbh+6cJzXnup1E2W3YMm6laF0iRcrSlx3RpMGzp+tXrQKlrP3TJo9QHnaNetRyVClbN06DagHblkzfumenfA374ggOmB5PegC70eHLN3HiyBFL1gwcOXLg4MErdSnSpWDJ5Mmj90/vuVeyTulxBAtVpEjUZO1CFi5cu3igbG3DBtka5HHgykG7di2aszx7ePU6VUgPqF2fulGjxosbt3GraUEa9Um2/yvZnzoJUkTpk4YCvQs44cPnj50vBSKECQMGDqxctuB48PDECqEv1cdRY/Wq3Jdg/xqpw4at3jdj5LZtG4ZtmDNksqYV2/krWzVx7NDNyp7yJDWT/6TVIsUOAb6wY49S2LGHmlzY2YMDO0zZZxt5GsmjGZpgIWWPcebpBLFltGFmH6pMuQSXJwh5AwyvdgDrBju2KcscYoYBR511zBnHHHhoIQyUYJa5655/4GFHmnnQsUWPSmq5JRJMdtmFmlFU2UQSSTABBRrIsNFGm2tqUcWTbpyZBrJjoKzGFkdG26ab2pA5R5JuXEGnkUNi+8QVPG0bZJJMPoHAt9/4cMIIDP8wKOCJPJBj9IkdPODgiUVC+QK5eWR5hRp2vtBLm2/kscOOU0J14xI78ghGm8OOsQUXXI5BRJpszFGHHV3466YaaJqBso1AoJEGmC+ooIDARmipBzJy9mmkOjvI8eUUaXV5qJbPuGGFHWZUe4YYd8gZRpddYOmhkRR7QBcYHFzcZhx3ifnFm3XgUQcccOg55ZJK6IoGL3I4+OCZbuYBhxY9IlEllUgeEeWcXaa0cjBHoJnmGmuiseYaWDYRExuLo4FlkUFWUUWPPCopx5NZattF5DbmeKMQPAOxorZOGLEChU8EHdQJasxJD5xQVPxCRQ8+4CAPX5ABBxc3xNDFE0//5PGnu3/mkfqYS5z5JbNfokmGHXL0wqVVXNgJpZpp5KknnnCsmAcl1LrxBJWNauHAlB0cXCaZYE4pBRcSP/jCEvzYkYedeQjZgRZ6eullkX2YYaadd4jZBx9iymHllh0qOfeGD4DpAQxL0iEnR19smYZWc8ARBh5SGnHEEV+swauUPSzBxZxkxKmlEQ+EuYMUSkYph5pPQsFkk1QwcQRjazK25hlnxJHlnFag4cYaZ3bpawcI3iBFFk86+YSVPqjpgxVq3nhDD1Fk82QR9G1jxI9AOukNgkDXeEUfZjELWfDDfGCoDk0+8IFKlOUb5lgHLfLQCGyUYxz/EIYnQjEP/3h4IwzF6NI3tFGMbSxDFsfQyzGCMYx1/CMvY/tHP6KhjnuIxGH20Ick5rGPeUhrJoQrhSlogQtSXMISltgD4VrxCnvsQxfgyMUOuvMZyjGDG+74RjLugQ9//GMK/7gHKc51NGCAAQyX6KA3wMEkZdhrHPOBxyUaUQlHAEMb+9CHHY4VuGR8AxeVcMYy5gGHWyBjFW7aBCicBwpHXINLk/lGeHYxwFbMwhumcEMkXoEIDnDACrIQxi6ssIACWIETs+CEI3YAgzuMohvmkIYsXhAK23CCFfgRgKAiUQ1PyGIWTyiSLMKQwIhYAx7rmMcvipGOdbjhCxAARQu/MA+9qP8DAE9IYHUoWAAH6QVG4tCLXvLyj3AA4x/7YAc/zqGLf9QDHvX4RzYKQBwIfKEUwSDRvixximVwsRyt4Mc/cqIPRzyhEqtgBi56wQsr7mMXxsDHFvNxinz4Qx9ggIJFWBQGMVwCH+TwxjhogQxkVKMa3pAGMm6hCn1VAhjc+Ic6TvENfAaDFuL4445U8Q9kUEMabroSJkIRikpco0vawIY1tOEMSahsiclAxBPEIIknFCADf3CfHxbhBw5M4ZSsEIgfmCCKeSxiEbrQhRpQwQqDcIEJsxCUI1pmCmcMERqhgIUze0CKKYTCGLCAxzPUgI56iEFTnjCFLkwRTgCkYxv/6cAGY6yRjXh8wBJWK4c7hBTOe9jjH6cwJzvOoc5znPMe6fiHOOLxj2HoQxmmOIIM2AEAAAgAB1bAhz7s0Qp1CFQYltlBNYLBDU2k4hS9YIY0zuEMe+AjnOHkyhfSZcZSrIMe4iAFLZxxjGqAwxvVQEY3yhEKRtpRHveAhk0vAR9x/IIUzjjnP9hRUkRkIxqmiAQtiAGMYPQlGsuIxi9kMQxuRGMXrfBEVAPVmx14ghWMcAUrBvEFHHDiFa8QQxg4wQk/xNITV/NEOKBBSYMgYjXhsIQY5AAPcTzjG6dAAAKCgY0dmM8TODjGOpCxCE/sQx2D4IMncqGLaoSzGM6S/64bouEOb/hBDWfQRTY8+1wwhiMfe+CGP0xiEmrsA4x6uQY8GLMPd6jBybLoZAYCMYhyXK2S5/TyP3ZwTmmMQhTKsOI4unEOUnjZH138hz/UQY9LSNcXRbMFDdshDoriSM/l6AY6wDEPUtiOG/woBC5OoWm9uCMYzkOGXsBRjXnYQRjh0MYliEEMZhBDFrLQxjNk/YpnROMZy0DwIqoqAAFAgANwgJL61FAdP7DCCgLZMCesYAVq4MNW2+DHAM+hvVbsYhv44McZLEELb9jCFOrwBCyy4Y17dGMXwoiFPd6hC1noghzY5nA3jDFOvcxjHopbhzPe8Y54fAGtwpCHXv/yMCRS+AMa5dBHPCp6kjDgYAr18IeQ9oETYegiF/jMhSrm4oZVdIIV6FhHKt4c0S4Kog2uQIYtjjGParxDHU38sF7i/A9JOAIRiHBEI3ReO9rNMeIislc5yoGOf9hCEqkwhSncUQtcxMUdV1PFKUwBCr2gQ5WlwAaqVc1qYCTjHdHghqxn8QxuxHoXrFiEGN4gBg9AQQyEkKM9XjGFooGB7smx5StCMWX5EmK0s/DDLAxCAWZzQg1u+IBNfeELROQCH7mgR7TbSY9tCMAU85CGkM7BCVeogZoX1McwLmEgZ6jDHekARuKn8eV/VEIvmjhFOBBxCnrsULRWKIIfqnH/j3vog4vzkEQgRnMKW6gicKoovi0uUYh/tOIc/83GO9bRhn304RZV5EY63nGST1D5H+eoTfjFL5vN2mMc3QWHZ9lRm1Ec45LJoMUT5NsNb8ginOtoxGHCIcJkJGPVwACGr1uNaBAHbQiH1fgGfuAHVcCD+jmDMNgFZ6AGdMiDJzAjD4iAJ+AoREihONOHf/CE0voHWGACg9gqSdgFdLACJkCERoiGd5CvchAGvYCFgHOH6sAAcZEHfOiGVwiEWegGKnuHeoCGbzi9PwsHf8CHlfsHffiUZSGnPLCDSwCFRsC6HEABQrggvbCHRQCFy4KFZZi6NSiES4AFWEg6UHgC/3MohEKQA0KQsnm4h3lYBeSiHG5gBnkwn1Egp3wIp/EDxE+Yhc36B5QqsnB6BdnQg0bQhVOohG/4BXgaoID6B1lAhFA4hn34AiuKBm34vwA0wAPMutXIviGBhTz4AguUAzBah3FQpSfwAFDAAVj8gkbohlk4hmeQh5nDB234B1z4BR/gA+UCI3qABiuYhTNQB3P4h2W4hC+zhYC7hwIpgDCwhX/Ah3oAOXxgJ724B3Uoht8pC72oB1/8h2mAJz8MBmuAhmWIh5wjhSoEB3aAAh4Ig+dKmWEwkEtQpkoghaRThX8khWPoAb1YB32YB3NYOYfph3aoIivSC1oIh2rgBv/FoByF64eMzMh84Mh+4EhceMZwAgdZ4Ttz0Ad42Kx7sAVveK5JwgePU4VurI5S4AZxYLVVWwdtqMhOjIeK5IZt8Id1wCRsEoNa6CJlSIc3gAIoCAVPgAENuAHyCTS9YAeB+gd5OMB8YIZoQIAMsANdkIMvcLadYicvawZLsAO9YEm96IhS2Cd4cId5cYdm8IZjYEYXIoeyuIa82Id6aAeD1IsusoN0GIZ+QDFHuARTIARh6IYpoIJV5KxfpIm3UwVQiAk0BAUSqQYw0Atz2Ad7MIdiwAeN9L5CzId+8ARmCIdaUANjkIfTzId48MjTzMh0QIJBCLVwgocamTm9WIT/5+qGbtSLcpgF8HmFXfAyegAGXtidYvCFUjgFYvAFYLAKbviGb3gGbUgHe9gFWVBMOYCDhSgH8LIGCIACKYgCMkAFNaiCMkAhdBAydmCHIbACe6gFbmiHisyAM9gHfqCGYbgHd8geYwjMwuEAN8Cpn2CHUsAARFADXFiHe4CHuzi/54JLaNAGfAg4oHCuiLpKvbCEbRg9FGuExASFaogTT/iJcAInYEC8S8gDU6iEqTOFhpgdUpizf4AGXdmGn9BIQAsndKCGjMSA0ToGZRAGf8jIM8AGeNDIjCyGV3Cu59qHfaC34QzCcNqHVgAHd/Ayd5i24gynPFiGhdoDeDiS/24YhQHaBVfohFHohDi9n1vIBRq9hL6QBFkgBAh4ghXgAsHzgyiYgp0KBk/4BXooBytwSm+oSMXIADEws33oon2YBVWICHzAh2EIhm9QBngIBlywh3NghzAwCCP8RnqQB3cQgy+AJ7JQB3HQLHnQh3SwBn+AOG8Mp2WQwnAoBTvwR1OohnKwg2GwvyClBl+wgw8IlT3whWa4hGediDywhB74QA6yumeIoYwEtFUIp3LIyB3ABjmEBUTYhn7wBz/YhXOizdNMh34oTSqr0qpsSXt4umEgB3oYBxjSCwA4h2ZYTksIhE/ogz7gBNkg2IFFWNnohmCAhV7thVnI03+IiP8wKINdqAIysAIpoAJEKAe71Asn9AcByLZ/eAd+aAUf2INeCCd/IIRjEAdY4IBsHAdcGAZxMIZfKIRA8IQ5uEV+kFWPuod3gAVsTAeygBF4SIdUfQZ/eAeO9AdscCG9KIVG2IPVvMz18gcKSUuopTlVeKlkWFZLOJZaoAW3bJaC/Id0cKhQwNZ+IAR31YtXCKdjkM1+eAdLAEFPsARe6AdWYIVzGM0n1dZ3lTlshAcqK4dsYMUyDQcYDKd0uMVdOIUjcgd2KIeCFViEHVjMpYZjgIVUUIUuwpR/KIAv4ADpgh8xKIMywBI1SNcm7CJT8IQM+AV/YIdW4ANe+Mtwsob/imyHcKiHfHAnd5CHa/iFY9AhSICGHaQH3zsneUAaO1gGLjmPfbgLbWiHdkiHePize/gG1PpFO2iHfjAHXy2FSuiOYPCFbXguulg1f9gDArEEI0JLUSGOHQgDBGCnIsuLfniG1QKjGcSgOVDSfuAFYqgHaWAHXuAFSEM7K4AF2IRNwtULeJhSKtutc4CHfWgHYgiHFnquAZqFanAHdZiHeliZT+CEPshcgq0Nv30FV6CmV+gEDMMAAhGIhAiDKRhUdFiEYg0nIkwHGFADfDCAVoAp77MHflhifrg3e0AHZHCHaUCGTEiDNfgEb6iHd4gSeYCHTuiDZlwbc3i6wPxY/32AuGRIB3Foh20oBTdQKms4GVhYklqIi23Qh23oLU0tBqiVB1r4gj1ohCN6VpmgiXEQhjIoAT+QhC7qB3fQB1O4IHk4hUq0gnrISF6IB6pB1XBQAy7wg3NgAj8o4Nmk4CGRBwD9vlkIKEptBXaoUjUG4XAaoE94hWXYBntQYdlYYYTF3F0WRNTKBlaw5XUghi9wAxR5AzgogzsIA2XAh9HSi/ParOQRxAZoBWEQxNO4mj4Ijm+WjQFyhWlwB2F4HjPog+1th+Nch3cIoFqQFnimhWjZtG8YhsX733bwBXjeg34uhemcIFhohGW4NWeAnGJQBmw4hSIqhSpVUmZAS//5vQRh6QFf8AcrrZ9qOr+Zs5EmuoeMZIaTfIcN/gcrKIEp8IM28IRSnk0g9T56+IV9uARVmIVAKIdfuAXtgWVyaocYvct/oAYRnoVXWL9OWGFCcYKkVuqk7gRZ+IUQLA302YVmEId8CIOTcYQ8qEBXoAZqeldhuDCDKAdBXBn5+uZvZmFbHhhYloZj8IAqiId3CIdP2AUOQobMDYWac4RIqB1CIISkqIQjCmydQ6JQOSKd0zRL6NVGkAfFLidCLoWIK1wqmwdABoaIi816KIYN9oQowcZ5QA1nk4d4cIPdnUpP0IWA44JsydYfpWBsiBdkurlXQAeDAKi8YAw32B3/qyCGDRu/Xt7cXuYEPhjYThiHcnCFNh1YQfyGaJCQ0KMFWvgFN8nS0pyHTwA/gzAHutYxXTiHsyaUgb0wQZwHe2AHU3iCyzuGSqgGe8AFaCAHYegEV0AFVbDvWEgF0M0F/I6FWJCF/n41hQFPUygFDmgEU8iDUBiFOLAF4EOEdbgFSSCMRwgFeujN57ICOcgDCOgixmi9OfphagBBWfADEQ+HcgCFXGAbKDgCz3qr0WKCY1CnZ7AiPLxwKqPkJnwGUsCFcVEnSfUHNk6HPbADxZYWgVVhFtbcJV/ulWHh8EIGaWAfgmUFbGiGZrgGeVAHlKSH0ugGlxYSZ4AGW36H/39qBXfYBVvIA1DYMWrYM9FSHM+yBw4Skm3IBmnQBWOQg1BYBVcQBUwQA15DgEscKlRABdAFBfwmmVXo7/7GhEiQA0coBVLIA0fABDwQhVEIBFSIBbNahVWAhEdYmFTIrdIUBxSwhB0oBXJSuH84BnU4BniQhk5oGMVx4sXghmdsh2gwhgVAgBWImzkgh29gh1koBMIGYAoWEnpo1iAsB3X6B3Lwh2qAhWRwpiOCTt9e4Q0bWOL25iUHDuJ+hYGxB2RA2E74BU2t2dRpi0nzsnFAIZnb4G4Azd3K5lDoBlNYhV2og1GIsE74AyPwgjZghE4YBEYYhVV4BEWYhAw4FP848II+CQMPgAAU8AJPyIRMkISMN/QryYShogRREIVMgIRCOIQ9vwRHiMo5mIJJYAQdiAFMKIMpkARUkIRDiIRCAAdCpDJJIARuwIBP4azOooda6ZB7qAdwGIQ/iIffzV56yId78AZYOIIViB13GGntEQZhWEsKpgfpPAVtANOAmrZ/+IU9AAVd+IJagLSlkAZe5mVu11xOAOM4/QMIkwZ0mId66S29yIZgMIZmmDFzIIdqQAce8ndqkAJkQAzx6oY+YISKw11MiANBSIPK5wIhMILNNwIf2Pw/6IM/+INRGAVGEIUjYAJW8ANOiPhMWASBRwWRh4RDOIRQh4SPv/3/TNiETBh5kpeDSDgDnCOE5DiDMkiERYD5SFCDMnCe2j8EqqOHK5W5zu6BSkgHQhSRf7CufxgEDoKnQSBlt+GGZdQLcfAHktiG6LeHEDwHYQiGYuj7yHwueoiHesALIUHJMhYGXjgFWuAFYAAIc90GlptFbWA3ad2yeSsHrlw5ewSlIUM2alS1ctLAWXS1apGsc9i8eVs3bRXKixcXjRJ10aUXRqturYq1ahQbQWvatPHh84EDBi9ONDHipY7OK0FYoECAQE+bQYisLEBAgU4mRIcAHXqECZOksIUcGYJk9tGcR3gkOXKEY0qZKoMYYXGxSBGZRaIUJTL07980a/Xw/93z91ffOXzSbO37t89Wrml/J3fDt+4vKl1/6/3Dp26yv4z/ONubxY8arFq2OOtrfCvbZMf+zG0jHM2NvI1f7Oz+sseSpWLoqJVD94kRIECJ6sxl5JzRoFF/Bg3648WLkz/Ibt1C5sUIeCN/0AVLxs6bn+iCvPwR5b4lo72K/rRh1NNIHaNs2ED/4dOHEEKA58V+gijSRhZLsJACAhogktMhaUhAQAELdGFGGmVkmEYcT+ghBx5bJfKIIXfggUcacxQCBw5vlDGFInhJ4QclaQBCiSJx6PHXPcEoU4059/wljh+TwNABJO6hAgkYLd4RiSn/qBJKKqiYYw9K71100/8ojFACBSaoiNJGJ56AQgopsd2SSiqxZXIOOrrcIo090twiyyqR3ELKJY1UckkkqqDTDZxOYOdEeIkqmmgTqaSDjTOreOGDEU44gUw1tlQzzyjXUbLeH4pQkhMlpS4yCSNarEepIF0gJUgmk2ixBRpq+BEIIoUEssgcc6iRBRdDWKHGIofMUUYidCiXnCKCaJHFGGTMAUgdcVQhxyOK+GFgIjYCEgcgiMzBQxlkUCGIIFxkQWMceFCySBrkHHYMGHep8pcwbxHigRiOSAJKKABnkok88/xzSyahiCIPO6EEvEkmqKyCSiaecFEEJe5RwkUngwQMyl+eQeLwZPbI4kn/Kqqosgsyu9wSi02xpOKGHHC4kYcpGaHDjqU9Wwoeoj4D7YQgx7jzSzDrUDMpeHWsY6csujDChheriPIHI6hoLabG7/qxiCA+3RHjJHcpQsexRwByLBloVFsGGllYQQETTARiiBhnGItIILsukkhcWSQRBBFKKHEBAwwYMMAAATj+OOOOM864Aw88cEETF2zQQhBXOFYNPcPcgeox/+iTCgolnDHBGgZOMgmOZ+viCSpt8EWHwngAQkYOjyAVxwYMlJBGFmbEcQcdbNSx3BqTXbHBBAyg89c+AUx+PeMP/CCEEmZ0wQYPYIiyCjo7+3x+oogm+ocryKAzjzRXDygL/zTZtIzMKqVqPEkmGYvS/+smoa2v+QQMaQjgJAThByukgQyCoAIVZtACExzgcQEAgAUNcIAJzEALV2idIOowhjGUS0PTAoQMyJCFnawhDnR4RCLw8IhHRIEHUJjCFOggiEUgAhGhyMQiMhEJw5BhHrqQBqpE0Y193EMXmFAADigAiExgIhKY+J8oKHEOT8wiEKXywy5mgQhQpEEGqAgFJgwhAxmwAGxt4J8nOEG7MxpmHpTIhCSoSL1QoKJKE/OEJ1ZBO0+owhamuAQiQZGKUOyMZz2r1PmCJkn2uMIVu+gGNXbBCPYMYhfgoAYyMpnF+GRREe7pGnTasAULOMAAFv9kwAE2MIMgmIGEPFDLHeQwh0QEggx0SIMaUGAFuwWiDGVYG69ONYlAnKGZxjxmIQ4hA2DeKhCFuAMk8KA3RVAhClnIghTYYB2eMCKA34BGM/IAjUWsAhkuaYksUhGJMzwBB4Zw2CYkAYkzzsEPX8PKmNbgBy74IRFTAMUqJpEIT4hiCfXxhBDa8Kk6MEcU/1CagZKDh3nYYxzggETExMQJTgzCD9P5gyEAgQlQaA0l7GDHPK7jhTa86jvYGdrPjCIIRgiiOYfSjjrAIQ1q4MQID5hcADaYE1IGYoEoIFYB8ZBFSkyiDYKQQhnoQAcccNVGZLDRIabAVRSoLRBzWET/36agBjokiww4fGszz6ABHFRBoHHgEBoA0bpEVGEMcYhDGZiDrp2WExJugIclvoGOTrCCFZXkKRoUMYkyoCAFavAKJBZRh9cdUznSCsQS0uAHJnABDVaQA1ohAZY5MEFYQWDCGsywkzoI4y/doGiv6AAJx/zjEaVchBc40QlRxJEPrhjFKvjoEvKxwx7U2eEhIPEpL3RhUeHhwhoW0QYlgOB6D5BFY9gRP0o4RxReAgSqnCOINvjhCFaQghp85ZMpbKENaUiEH5DAhSr0CgUagEIZApGINQBCWVBAAArKQAVlJeIsVphD3+ZAhipMQQpRqEIUcKgBFFBhDdUiA4jp/4DdNhxBBxAkwxrE+Yc/oIsR0JDGLnIBj2YwlhWdeADkGic5xjHAcpebgCy7cIUZDHk/WtCC8pL3BzZ0oQszeEALWiAEHx9uBqP4iyAsd73O/GNxBrhACk4gBD8oYhBe8ANyQyGJH4oiFjtz7iDagIc73ME5ZjaUEZrgg8k94IO7igQkErFepCADHuCYxiQwwT+FajWzd+Fl3dSaBmaqwSdo4Ikv07CCLCCBDGNAgAAiUIZ+kmFtgDhDB47ABS4ghS+JAEQUdFiHNaDhwha2cIZREAUU0+GvaPBwF7QAhAccIHKUg/L3kDIJOkCjHKuoMXLWy+o54CACMoDgr9eAXf80UOAI3qxDQclAUDrUIUaFKIuyCBGGI9QtWEtYIRso0Zh/IKMNa9CQDCcjDTqUkw476cQkzDwIl2TiEIuGxz2EBFgxgKEMUrjAAKAs0/0Q6DrJjhFF0TUIZNDDGsy4BV8U8Tc/qEENiKCiWSahhhT5aoFMaEADhqWGM8hhCmGQQ96gUAAIQKEKBSYoFdZ6hCFsAdwUpagZUoBiM1ABCVF4eomjYGEVtOCojmPABT7o4WrFIbc9/UMdchKjjE1CGE3txCtYIQg6VJcNWogCDDSQw+QMmAslJ+sKmtAGNNwVCSm6gyFgmIhFqIsOOUgBE7rAkxgoXRGrMNjBEvFqQED/4hCTQUYcJiGKR6CYEtTxwksgcfKMTe8vA2DADMwwBz0koll1oOlO/PD6OtDh1+SuVgvZOo6O448RzWqWKj0cwoy/3u5+aAMXmLCABZSgBFKQggyOAAUyHGEKUCCAAFDAgzRYYQgX1pAUhlAFtPVqDGmQAgVS+HwdHOEIOYB4xGeABDTYnvyAUARS6ECGrv+VojyxaoyUmSLcwRuoAWN1ghlcgRD8QBMIQQxEgLWxVRzUAXatARmgAA4xga3gQRksARbwXevxRSBsARUEQg7IAGyZ1RqdQSKsgj78gzTESCIMwhrEyLxBAlvBDnl9ytplUSJoAkuNT239xSMgAiHA/4EeEMIhpFQdAELfFNirxRAeFNRzoUsUqIEw0AMzIAP++d8agBMVJMEQ2IANJAEVbMEWEF0TrJryLcAKvAAWCEEQDIEUbIEUUMERFIAASIAMbAETFMEQUMH+dV8VlAHN+cqL6BoZNBMVDIADZNgUnMGLwAVcGOIYSMEUtM0arIGynEEatAEbbOImapW9rYEeKAP8CFdsYQEQbA8Q+FcEHMEc3IGvzEEcqJIEHMEKCAGrzdoPLAEXWJUA4Z+6JEIOkMASeFgcpIAMnMEi3IJrJIcLidYjwMNfQIEcHEIgZMVCxUgZDAwgPEIAUYImTEYSwkEeOMJYFIIepMEhLOG34P9BIbAjHsxBiDhaIAiAHtzDONyCMGgCuW0BsGwBGWwBERRBEyheCLXBEgRIgLwACCwfzL2ACFgACyCBDEwBCghA9smAvy0BQfpaFpCB5NHBWtGaDEQBBJ1e+q1R+6EACkRf+70VXIBYhtiQM6kBGoAYGZxIGqSBGUwBIXgDMvhBJsxBGlRBC2SBELwABUAgEiAFuG1i8uUiEjTBflRLk+2EgbgeF9CBIuhAChQBTcVBDOCBKqyCNPyDPaBCSeqEDf5FFDyC/5zSKHxKEKUBWFKC5CXCZJyBGMCB7pwInaWBIcwjIRRCD6mjHszj4PleIViCO9yDOtACLsiBGfAS2tT/ihpQQRZsAVfO2hIsAWktoA80wAJQAAUIARC8AAvw1xxYgQAAgASkAP0xwRJgFR6gARJIgafRgR+MJhJQQAogwRIoAeOsgAzkQA6sAHHGZAoop9NJgfHcVdehAA6Uy13xpBx8yBncQShUgioMgy3QwyaYSws0YBDA4vj1ml5qFfrpwBWwwSBggRnwxPANgoGs3a/VAQ3EQBFsAR1QQQ6gwrz9w0dJHnrt1CRcxj+AAR5oXku8E09lgiggRca0nl/+RWNek4rM4x2YQXIkBxqcECCkgfANnxo4Aj+wwy28lC6MARpolTFJYl+1jQv522fWzR/6AAhIAJCyQAlYQAmc/+ANFQAAIAAJCOQSBEEK6AAStNYKACPyAWIFqCYFrEAFMIACuFIAJEBqtiRMyuT6xUAMUGccTEEUvBsEfRMaAksVUMEckEIx3EM+mAMZKMEDQKQSsOdgzkGvpakG8IAvAcJOapX9dV0aUEEDkYEU5EAM5EAUjEEKpIAssENjZAMQKcL9+QEeaMZfrEMabJaXnJKXwM4tCoIoJMckVMNftAsdjFAcoMGiXgH9oUECeiYaYoEW7MT/ocE4rAM45MIxZIMwrNd6bUERsACzskASFEER4CYEIQESDAESVIGPUgAKZGlQkMARyIC2AgAACAAFXBgOyQBMbqsETIEMDIG7rv9A80kkai6AAtQrAzwOAzSAAqjmtsYATOYAlEYBDYiACIxADlArlCZBtWJBtKABHJhCO8DDOyRCE/gYEGxABCzAre4k35lBFfBhFPxVHPhSDJlIPcamIO4aJj7dFMABD/BAIcQCMpQDMmzCD4EUMkzGPKBDOUyBIfSP/yDXKmwCKpRNkfRaHdzCX7inrKIBFVwBFmDBN1HBEngm1HogFygekwVCMIhDOcRCNYzDNACCDRzk4AxBDbBAGY7mFnDBFlyBgrDACrAACDQAmCpAChiAASSAAiAAARCAuBJAAjQAv0oABEYAAiiAurYkM0oAFKDrUwJpvdZrajqAjjGAA1j/AApEKgRdARUUwQsUQRiaIa5JwRKAWBxkgiqUAin8wiNUneW0wAMqABXwXRyYwa+hgRRIQKRuotOSm71NYK+tAROQQRSgwRhg2NPdAfu9QZj0kRVRESZQwkVUhCS0CJSkQiwIA/dWiSasKrgswt802F9QgQ6cLxKgIRJcwTd9phmA5iaagfxq2xYsgffpwz2MgiAgwzxQQxskwQrJ7xUkAQETwRIUQZMSwQu8gAsw61BUQPORAAMQwN46hd+KKwIsAMxVwPJRwOQuwBqRlRVMQfvBAAzAZNxpAAJA4L6mKw7IABQ8rgTo2AVggUD+4WdCkA6f2AmtgSiYgTAoApP5/1gQYKwCmFg3SUAUMGcMKADf+lUdSAHtmQGI0V8W7DAJQqkOPB911kF5MYKCaihLZMkqPAkkWBEmqJbWfK9C9eUMFcJfEEG1QincPqu73jGz3nESXAEXQJCF7cGdtAKrCQMr8IEPEDAiE7ANBIEN1MAYsoALmMAINKsJMOsIjEACEIAFa3ICYDCYMkCYUsDy1Wv7RR8OfatqVoAD2O3kKkBqblj7xfK3ygDn6qnktEASFGJcNVM2bgUduMIkIEM3jEIXUNkDRoAgOmoE9FW0bCsKtF4dmIFkKQLuTtgdYpiZxgAJUECkYpgvlZsP9mUmoAT1XgQM40GyaKioiIIAuf9QIrzOwNzLP7RAxNFAEFBB1GLBElwBtVqrDo/kJu6wMCADJ7TCJKBEITfBaD5rERBwDZBh2jKrCYQAwVJ0BVSABRDshFiwBYurAAyutsIkDmyrEytn873AEFDACGxp4iSA3r40TBtA4jRAvjZABaRADGwxFVRBFUhBFQxBBVlPC2ABT5uB4JiADRBZEyQBCzgACFyAcmqABpSBiUwBD9iiPcbkEbgeFZhBCMmvGUitDr8bEpAACWzxGCRzT6LCLUyCp5WuA71OBEDBHXxLr9HfZpUKAr1OqVSSFOhAEkDcUJsBW9UBBDGntS6BGWJBHztdFNDnH/BBezyCvQHLGmz/ARYEQRLQwEPXQNouxVCMQMG2AAuYQMGKwEYfgFP8rbgCAAXr7QEcQALM9gEYAAlUAMyRwAiUAG5rMCg7Mb3ONijb9E2XwDarZqWugLvSgNwyMgssdxLMQOMwjiN7H4WdgRTA3ARQwbZGwKSOQQ1VARkYEwoXQjiaGiCsHBV43x3qMA1c9KQGXhyMkFevHVjjrvxOMwBgIIe40MiWGsfO6Dv7z01cYhRAKREcVQsYcLWOoQ4MAQGDZBcoNsLyBJNRjRP4QOEUThAEgQlcgAOEuIiL+AVYgIlPQAWQQPQ1BUcjQCYLgODSqyuPMr1qMMw5QAi8QAjwdgOEwCrPNpA7/3FNE6dZp0CK3/YKROcK0MAQMPcKFHmSk0B0toAKTMDjPIASWMDfHkAFSEC9pmQUfOtbHQEPHAEK5OjI7mQ3HV4OUMEYtGwh4AGkToGLlEG07J+GgvXtrlBzJAAKzKhWzSqHvNrwoQvZjM8qHPiDB4ESsAANNAHjtECJT8AEBAUDTMAFhEAIXLQFEJ2F8yp4/MAV7CoWJIENLDANpPoQKCcPcJUMiGUKkEBFZrLgrvaLJ+7y5boGL99Mw5ymh4BNw5yw8/pFH7lZr4AKPLlZk4AKKPncDoGj04ByX+QQMCekpgAR2LBAFoGOBcDlLN8KIHulpkAJpAAFkMAK0O4VjP8BWPeaJN6BoDsTu6JADkxBnCIBfaNLIlAxVecBoNhsJhzYFJCQ7YJgtWRcT1EHI4yCKzyqDuTAHp+v1F4BPV9AEpguEnjmZSvIEDTfFmzlkQmBD7xAEABiA6eA9FlfGISBGEDBt6aABaD7BltABdA6R794jHOprsv4cGNuCND8bfN2sS87CbCACjx3uCt7kaO73JaADRSBZg+OtK86ukOqChDOEmhBk9HAARDAAdC0jg3ABRS5uQMpBQjAEVyBNLNzHICTChw9DZyvFktqe1sYDp1BIVwCLVyCJeSBJHLIMBKABuDoXRlTr3DFOy7hI0CCql7E92EFJAACHvjbGjz/LXKKfYQrK7xGMEi6bdtyQfWdcqTKQKqzwCUf/W0XewXEwBq9MA6o8ApzNPYRQCvnugSkZnGLwAmUgCSLQIqbvnFHJwvUABHYAAuIgFmXwNurgFmrQBlqNhnaAHNHu3KvusEO/wKDABB0QROsgAG4OAV4uQKEOw1YwHQPwASkQCLAwBQkIAF7rmLDvQ0gASI3OZO7+Rigox7UdU994RWfGEDUqUMHQIYpaebMkSPnDh6HdO5EAmVIYB1GokbpyLFCxxYzOqhg2ZIFCRUyaNaYGfAAC5MlOmRA4QFFTqA5Zsy0WbPExQsXLFjUYDFChIUKJCwQrWAhhIkQLIoabZCA/wABBFetCgBAIIIGGFBwQAGLg4cMGSo2pNigQgVRCyKKkhhBQsQIFStEsGVRgu3dFUBp2ACqAigLGi5oFGaaAigJEiBeNOmCBAEBBQ0kRIggg8eYOGRypJBwIMCAAKWVaNFiJguWKyzY0pCdQwcPHG/klJmShEgS32YEmvG9JMmVLnXYWAEgQMeVLFSoTJHjyJGcOF3WrGFTR9BFRp1orKCBZI1OLtm1YIE+pszCNA4GtChBAoVZOoxGMfJDZ0sQ2CZWCLAxpOaaL4QKHHDAAqcsMKoCqqzCqjKrSqiwhBVUcGyFIVbIwSwZjhBLxCOOMGuFGP6iQYUK9RrBMKH0Ev+KhRdeYMGFG4caYYQQSPiLhRVIOOGHH5rQ4QCueJiCBxRiaFKFHHKIgQIFEgCJiiRmMK20B0B4KwYe3oAjDBkCzIGGGoKwIQgabciijTa6SCJNG2zQgo01CFhOukYIgSIKKsw4bw3s1tAiu4oEgTKFHMyIg46E8JijjDFawwKLJpbIogkQBhigAQoYsCAyLYrQogkihkACiSXiWGQRP9SoAgnfgJzBqRBCcEFHuEiA8KqrFKhqARIqXKFCC0oYar665jIswBVmCE8GHXSIYoprrw3jiChKNCsFxnI8wQUTTHDhBBdlky2FFYoIIgYZTiBCC0EUkQCBCChYgAEKSqj/oIF/G2AggQQMSGAGFWKgbYYxxjhDBy3j02iGg9lqQbYXiACCCCK20OIKOmkIgoo4AEEEAAAg0EEJJXoDqQs2urBUtZTWEGSQQRiZAoojhjAjJTPYuLOLjpdYAgujjQ5ihSAeGICBBk4Q4gqWN07i0iZkXqKIJGwYwuskkKiCiez84IIJHWIogSoEErgqgSkVkKACu+riizAWhihCMKBqkK2woUSwsYaffoLLrgxTIIGC+jiDYgox3rh25yWbXIGzNB4p44ieQDihhbYTWIDKBirwN2AGUE/gAAWgBMMOQs7YIIcNkGpwgwkOMG2liZW4AqefPUPpiijeqOQSPNrI/+JkAVSwgQglbCBhiC1g3qILLa7vwgybBRGkBRA6l+x61dIrOlNLjcaCiApPmLLTB5powtTnVWsiC021XsI/DCuEq3QV4FIhElQGAQrQwOKi0AGuUMAxjlkWUNSUhCHAhoKFMUFRgGICoLTABDpKighKQAEJSIACaaFADFKQsISdKAdTuIMhyMCDFp7hCTgA0QpSYAISjDBfpEPdDxmQGQ3sYAdPiAENWhCEiZnAAhNwwARK16DSmaAFF+hUpy4AIBWk4A6XsMQdrpAEJXCHEWgQgAA0EIVZgU0HVosfF7ZgKTma4Q9/GIQO/tICIzjBCC9jQxu4kJ6jma9oQHiWCP9JAAQtNA1+RAiCppQQhCC0KwiEc4ENLACUEIAgi0RRigEiRMBgEWBYydJBqqzgqkSUjQpICI+aEnMYwMHlLUTRYGEylMlTDsEGgaGBDsbwwjhIQUUb2EAULaCCKTmAkxcUQQrMgoKv4AAHN+jBF56ggQgcIAEMmMAGWvCCE5hgAhMImFHKWboKmHMCDUoBwhKmpRbYqQtNCIKdvMCGKJxRAipwAZqaQ4UxAIoO9FKEIgSynSssaiMrwIIZttCEPToBU0uYmtaKUMgAhfAyLEhNE5SgOyEoAVOTLMLf6NQTF4TgAhegEY1YUAFQ/optIWQgUGoEFBfZoAUBYss7/4L/hDTQwVVcqAIeZSMgGoDNa4lJYQ7GkIhHfMRMuSRBAybgQL7MgAX5YmZLW7oWFKDgCU+4wQFBlS8FMCACEgiLGM5QhSNE6ZhIKR0U05kCHIjBDlBgErHysrIHDHYl9WwCApajgLmpQDZidE5r5He0FEQABXA4BjtmAoYpwEEOZygDTsxgBNGONIJKOJoji7ACfp3gBSszFRCsuBIhAKEIPqHRml7AIAVZYJwjSNMQCDgwtlWAAqQjgT/NZSMbEe4EJ2DBLXXqohXQqQZNLUkcEoEJTOChDIYYgwxjYEwRHLcGNfAJC4Lgon41KEMSWKtj9moHMUAhBRSggL+AmN8n/1rABS0YZzkxI4GxQsF1dpAvDoy5lCYqqAI0wEIXrucaLSiBAac5TQIqsAKf+KY3K7NBBTQDBlQggxJ/EAgLWpC44niEClkgwxnkQIY9GkEJVZDCFaiAWwG9AAgkjZ8QWvDcpq3kpfEKgsaKAIRxngDJQigCDYLrtgos4G0p+IlTyGUujBHhtpJE096GYoMiDMGROpiDIhIhhRigxUHSExkV0EDUSfgBDUgIUAONGwMdPOELXxiTrdREhBE44F8IqsAPSXc61NHoXO0kgTGn8AY3eGAB6qzABUKgoxAkyAGlE2P84gfh602FBPC5ogNaoAIGsK0HofhFHHxzhTrUkf8RTfrWElQzEi5A+GhiFMKMuUAGKRzhcXLIAxzOMAUpSOFKvGlXEpYAhPe9YJIbA4KSm8LjNUFlpgc4ANtIILAgnctzM5JkEWarsWtLMgi+ARsaEjEJQFCBBjnw53N1pJfCCOZGOjIB6dYSAxLw4At5OMMcIJEJOEBBBkj44MqUMANEOwCIA/M2AxywgfgBIQcFxgEFnPgWuIRABEshtOlQ96/0qQbC8WuNDERoXypV5TQDuEALZmCDvl1BC3WsIwV4QGw5EIIQnS0DGVp8haKtTAhOcIIQiDADMXL4eVcYJBkWAgdC6OEOZ5BCbHuM7tziyqRC+IEKuk0wDPtLBDX/orYjgeAfw+icTkkYAx4mMYk4XGEIOkjM3QbnIhxpkFwdvKsDmtKCHPAgDGIAAw/e6RiiYLUByQRrC5awBkX4QQqac2/cvPmvfaEgDI2AwxFUUM4G7cgCpwsYoS2Q8gZ0WioqsLql/AjhK8hAAlXBwBNAgYox4FGJKoDPlpoQNC94gW0bGAHusbMFKhB7s4RwRCFivEchuGAGXFZCcUDdBCEYLbKWaqUUorCBK1Kgs1MoSRgjaYFvD2xgla5ACdAUBCIUgWpyQsIY6CAR4kA4JqYF+gtHlusnoAKA1OmHaC8tYgAKxOALcAAFjKlBmGi3RuBcWs8BRoBcwinuXsAB/zBMKkYPB+xADyThEvQACsxACuRkLcqJAfQl9BBE9J7GQebGX1YgC/wIZrpAB+zFA3YgD0BhCnSgL6bLamzABMZDB3jqih4ABa4iB+JnZS4FC8jnCqyuaHhuxqhg6PSAEN7gDAYKCVhGjFQDC+KuJ6jt2lrgii6AMMxiJm7AAzzgBjIgAgqISTQMMVYgCsbgESZBOGxAnHqi8FjrBTjoBJoCV8jFAjjtX6AImnCgz54ABkDOiTgtQRCE4jqtLggtVNyQyQxQBRrgACogBi6xz3DgLxrEJzaABkxgLRogBqiADiYhEeZACsjEMSiPdCrgmADmX4YAx0BMA8AAFsAhFv+OAAW+JW2gzTd+SU4syjeC4AqCBmZIIAIIQAIspfzkSGYESY5mDOKIg2XUgwqkAMYWAjdIBEpUgFxG4C1M7QFaYLx6hYCwIgIILg8e4RHiIA/my4aAyg15bN18YlxQ7IKkyALSgqz6DAZIqJ0IbfY60QIwLYtYqkFy5QUOrQHQ67Z+yVrc4At24ONc74kQhORMQJIYsSkkiQiGYkFqgAgAJAfgbBEyQRICoQx0YLIqIwLyQBrmYReQgw20QAYUgAJSIDE6xEzaqG9UYAZqoHe0w49IIAWsggq2gAt2DXvIpzUqZQl6R6L4qMeU4NqAgMfesC2vzDE4YwrOAMbeQAz/bEgGWoCRPscqKAsHOkB22GKn2A0JuAUHwuAN7CAP5GsKokQtEswCHi0FGE++dgAFVOACJoAGByblMlIjFQTTQMAEMK0pTqD1GsAEZkAQ7WAP+upjAAa/GiAEWgBXcmWcaIQIZsuR1kRX6kKDFmQGMESSuqoyICAMVEEYMiE7RK0LdCIGJCA03kVVkGAIVEQF+sYGYu0H2eBErkIHck0Lyad8WEYJluB5lsAHnO6l2FOcmotcxKktm8ul2qUG1KQGEIYH3MARFKFTAoAPf2UBCIPabEtcFtInNKgqM4QE3oXPWvNBv8BPZud2EkS4uKkBRIC1TqClQqC5xulWLkCd/0ig3i7RwKAACYiguTbQBLxJQeTCt9YS7iqpPZuQAdbiLVTAuUTgkmKADwkgA+xgGHIhDQ7jwV4mn4IGwgxTCnQACdpoCO5CNmrAN7RzCVrsZeqgDUagBKyCBeTnCh1pLVcGCITgCjXmB5yOLV/A31iLLdfy7dKtPJcAACdhDcKI3WpApiysYFAADPjKDtwgDHhAhnJgcDioLRAHBr7AwGqoBFTvdsqJPnCgrPAQKxTLKDDNBEAAV5iipfJiA1CgB1pTDFAAQbJoQZrLBYjAXByABc5l0xBPBMiORpKoBWy1g2aAONgiYaKkKn6UEKpBFvqDBYogo8oUwlgOwmBmCf/6zkNkQI1AYgvCyFDuZAuYDSxxgliqwgZ6zJGozcckQ/x+oMegDk2doLXiR38SUpw4dUfbzQwSQRTqVE7GxQGyiC2BwAIIxgAMoOYuYNBUEy0WBwae4E8B1TUvcy2o6AJk1TY1silI8wIo7gAM4CoEjAf81MDwkkkSpsDwsnQ2oPBMQAUMcFxKcwJYtAJIjgQZAMWY7Np8Yk2IYHagRAf6pves4gYuQRlCgTZW1TCItbZe0izFElkrCgk8JAqkwDCrICu3o47aADqyAyf0lQASwNrCT1zVtC2vTQkmSvzY8jQ/aLxWAADrwE43hhGby1bncxFpJBX3lV9Nzeb+9bn/bDUEyinT7MIScSBjy3CuNOIDSZOlJJYBQKkqOvOJymkDRNUOKFAtWqpBSo6KnIlXUPNpDg11GuRfCm9BVDUIlCBiO8hXngAWkAEVroBcBCNkujYIHJEplkB+jFZ86ikIPqRJ20j3sAfCdm0LtCMl/iF4hXd4ibd4jfd4kTd5lXd5mbd5nfd5oTd6pXd6qbd6rfd6sTd7tXd7ubd7vfd7wTd8xXd8ybd8zfd80Td91Xd92bd93fd94Td+5Xd+6bd+7fd+8Td/9Xd/+bd//fd/ATiABXiACbiADfiAETiBFXiBGbiBHfiBITiCJXiCKbiCLfiCMTiDNXiDObiDPfiDdEE4hEV4hEm4hE34hFE4hVV4hVm4hV34hWE4hmV4hmm4hm34hnE4h3V4h3m4h334h4E4iIV4iIm4iI34iJE4iZV4iZm4iZ34iaE4iqV4iqm4iq34irE4i7V4i7m4i734i8E4jMV4jMm4jM34jNE4jdW4gQMCACH5BAgKAAAALAAAAADgAOAAh/X17NjUnMTHzMvHlMO+tLe6vMK6ncK8e7ywmbSuoK2urqyqpriujrWpjberhritcLamh7Gmh7ahha+hhKukmqyjgqyfhKubgbGfeKydd6qeeKqad62ecqqYcayZa7KbMqatrqaoqKWkoqWglqaeeKSajKaae6aZdaWZbqSWfKWWdaSVdKaWcaSTcaWVbqSTbqWUaqWTXZ+lpZ+ekZ6Zjp+Ycp6UhZ+UdJ+Tb56TZZqfnZqYiZqTfpaZm5aVhJGWkH6ZmK2KbqmLQKSKWaGPbaGJV5+Qb5+PZp+LZJ9/SJqQe5uPcJuOapuNY5qKaJqEaZqIXZt7RJKQi5GLg5SOdJGJdJSMapKIaZSJZJSJXJGFcpOFYpGCaJB8aZKDXJKDVZB9VpJ5QomNj4aHiYmIdoiEdYSCf4eBboV+cYV5b4mGYImBYIiAX4Z9Yod9VoV6X4R2XoZ4VIZ2SX6CfX19dH17eH56ZH12bXx1YX12VH1zUXh8e3h3aXd0anh0XHR2bl56dJZrNI5nKoRsWIZoLHpxXXpsW3pvSntnPnNxaXRwX3JuYXJpY3RvUHNsTXNnUXJnP2xucW1tYGtpY2plYWZoZ2BobmJiY11hZ21qTWxmSmhnU2RnT2hjUWliP2NiT19hTYZZLXhXLmxaSG1WGF9eW2BYVWFcQWBUNFpaXFRaXlVVV09SWFhZRFVURlFRT1JRO3RLKWNKJH8pMWE3I1FNUFNMOFRFNVQ2KEtNT0lKTUhKSUpKPkZGSEdFPEg5Ly1XVjtGTEFCQTpCRz4/QT89Njo8PTE9RTo5OzY4Ozc3Njo2LTM2OjM1MzA0OCQ1OTIxMi0xMzAuMCstMTkvIS4uKissKzUoICspJycsMygrKCYnKSYmIx8rOCElMCEmIy4hGisaESEiIiEdHR4gJh0fHRwdHRwYFhcdIhgaHBgZHBMWIRcYFxcVEhEWExETEx0MDRIQEA8REw8NDgsOEwsMCgoICQUIFQYHCQQFBgMFAgICAQEBAQwABAAABwAAAAj/AP8JHEiwoMGDCBMqXMiwocOHECNKnEixosWLGDNq3Mixo8ePIEOKHEmypMmTKFOqXMmypcuXMGPKnEmzps2bOHPq3Mmzp8+fQIMKHUq0qNGjSJMqXcq0qdOnUKNKnUq1qtWrWLNq3cq1q9evYMOKHUu2rNmzaNOqXcu2rdu3cOPKnUu3rt27ePPq3cu3r9+/gAMLHky4sOHDiBMrXsy4sePHkCNLnky5suXLmDNr3sy5s+fPoEOLHk26tOnTqBmLMTNmjBQz1sTFe/euXTxuyqBBQ6as9y5x4sYJw8YNWzlkxIj1IiZMWK938+bJo82umTRp1qxhl9YMGaNFr86x/xvProCAECBAFAghrz3td/HMvSNPP539dObylysnjj+3bwB+ww032xSoTXYISjONNNFA08wqlAijDG/KNGNhM8q8Mkw38qhDTz0ggiiAAAWUsscYP9iDjz72kFMPP9HQg88+/ODzYjnp7PeNO+wIZEwvvdTDzjsFifOKPcLgM08tqogRTT+YdGMPJfMIdAwwwAACCBCWWAIClsegow8/+8zT4jPAjDFHa1JMAc03NtYTXTUT8oYMcrr0J1xx0IjDXHLOAckOfuSlgx002GknjTLMTNLHK+WMp8475oVg6XrvuPeeOfTVNyh+OfIH3IABEljgNgiimt2C0ugmzS+4EP+DoYW9VZhhMMd0OB116oxYwCV7/KCDnPW8k08++NBDTz4D1fPPN9pEqw077vzDTzK79CKQPAO9U2Yq8fhDjjfWVMJKJKyo0s06yu7DCpaWaAmIJfdk2U073vBDkDfopDnHHGZIIUUz2MRjcDztYDOhMcbciUwuovZSnDLmJMdcc84ZPB878rCDKIIINuwopJyqU9556RWgAMeavmNPp+PhZ0467ORnjo7iBPjNqdoUiOA0rOp2ITTF+CJrrRNaaMwquL5TznvuZOprKsHqwHE91thjTz32mLPPQPPwU47O7rjDDzTMIYPPP+UMtO4uqxizzj3DZOMLJd6ooso68uD/c48/qgCz7jOBW+LNld3gw621AnnTjb//iiEFNNjME4+ct9XpsDGviGOOOMJopww3GGMsKDuRzszOdohe10wvxiTCxyrKKFfLK5WipzI02yATaC/CSBMpjzUPqp9+ogoI4H+ngnzddQ5e2Aw0vZRydG93Yrg0rvQYeyw++dQzogBU96CDOfXQMw/X9eBjDEH0/JNOgOm4Q48Ze4gxRyXQ8MNMPlo7RjeytY1u7CES9+BFOOKxDlYc42/1wpLgHoelblzpGOKYDj32sQ9vPOMZwZDCv9Y0Bevo43Lw2YbmkoOMVczMHBKzxuiAtAtd6CIXuVhFL3JxiVL0sBSlWEUu/4Rxp2hE406L4AOkKJaOXp3HUgpQgDNkM6RBcWM8xMDPN2TYi1esIhWvkJA1tmGqU3FjjKrSTjRaJTTpPagSxEAaMoyRjNqtQhjHwJYwiNEw64wPE3sw3yUukYpUrEIX3noRjf4Rv/lp4xnfSIc8esMwYXArGvb4Bz4eaIx3OO4Y2UCHL8axjmewYh3d+Ic5JOiPfAgQS/lAZTfoRhuBWNAb6xDhv1qjDGm0gx3AKQcxVjHISkTiD5FIRCSCuIpdNMca2dLFLqb5ilykw3Pl+Fx1mnHEOyUjGcgohiQeVQ5lDEod5klPCKJoDHPMo4rApJkwbLYfUa2iP+IwlXZSof8MYzSnj4rSTfRs1R1raCMVwkjGKr4IxFIYkhUJ7acxiAG3Qv4xWD34hjjsAZ13mEMg+8CHvt6hj3Jo4xuQLNs8oDEMHDqLGV+7xzH+sQ31dYMc9CBHNcxxpVxgyR/vOEYwgNG+bjxupkZdxybd8bV/oOMY6+DHD+ZQB4BNQRjQsEd0oGON5lxCGNOsHjcWtYpX9BOaNsQhDnfxTnb8sh3m4I2DPrYgYkyCD64oRzPuYx4FQFEBvZAkfX5pjl3Q83PASUXOBNS8XIBsQdHoRaum54xa1ZEYDdrG9BjkIOQkgxi6SAUrhiGP99VoH8e6qBh0sI1yCEke80iHs5qxNkb//sMd0EqpO9LhjGEIwxjpgFE30FFK+ZGDHN3Ixjq2IQ50jEOCwPCHOiyYK3okNxip9Aa/5BEMpv7DHvfoxjP+MVWq1sEMvUCG5SzHDm3ssRTZAisNs5WKsPbChtK84StqhqP8sEMZ2UkaNJLxOkkoURzQuJk5FCAABYBgnQpYhWAJZQ7m9mI/yOvPKwDUPFSlIkHWmAY0sCpQDFUIObuYIjOiMSHs+a52vUiFLo7BDmJ8jUz/yId5BGCJ/PUgGRwzx3TUkQ9+IINImgzpN8bmrHm4wzll3QY+koEOdNBDHlpDhzey4QxyWMMY8AgHMF55j3Lg4xnrYAc+brqOdewj/xrZyIY0VJGKP6DIfDr4wQ72UIc+jyEXRx5SO96xjebcEaz2pa8NX6HfXOiimrt4T23m0xsLPS8a1ejFHQ6MDAUzuADpieIlaFYzmVEsTzfbD3CMRKAyZufDIVZQXYUWRxPfSULSgMeXiQHOOyVnOcKYBjm20YtTTSMayRhfJKpWC1Z8sZDCyCQ7qvSPenwtH/uwdj4uByQhioMf1UAHOdQhDWPsAlh3FoEIKLAAECzAryCQgQgspW4RyFsG+Ma3DvStg33r+wd06PN5V4GMfERnHoR2Tn110YtpTtOGh3R0WquZi2qmLkf2cdX0uCmM1/XBDq4QR6dn1gMSoUcBBf+IhPGMp+BcBFPVOdNF86axDaClAmjHNuKIHWSrOUbUGL3Bjj/B2bDfgrUUvfhiaHVoyFXseNnCSsUlKlGJPwDMDGL4gfnqHQJ8W0oGX08P2NND9rKrEz1mN/vXLdX1fOe733DXQQ9+QHeB12EMcBQSO+KBOigDqeF/b3jE1XpDteYCOvBkB4WgoZ1p7GIbvkhiyJUhKjOQKNQFMMM3apZqc3CjHKwgI4AW+43Hqwrn00iFEaPhjNZDwxjTY5QyOj5H5CDDGquQIR1rNUfQyhiHj84F53K44xOJoQdjMJ/5vA525svgwWgnO9vTTv0QwH3uUhiDGcxbhz+06Q+T2AT/JTbxCVCAwhSuSL/6XQELWPAC4AI3wx8CfbBCC0OH961htu77il042vAV9wqvMA78gWH/1UYMglW7QAl8sAvjUAwEOA6VMCKYpwM4Uk+rBno7sw3L8x+hUyBAE2LTcAnWwHqthyF8xAzIkAwqyDANkwwO8graIA3J0CrYcWzTEGMQpwsLdX+pUAogMCLG1xpaF3dzN3c/IDA9MAVqMgd08IR/kAiJsAiUQAmSIH5ViIXjtwmckIWb8IVWKAmLoAhkuAiSsIXmBwqtsIatkH7t94buB399ZgZ0YAz4QBt8Jw7Ac0gNN02ORk34VQsAWE0zQ2pOQwwUslnJUA0LyAe8/8ANxMAduWB5AgACUVQAIiAGY3BAtWBO48ANq6AqBlIgwmBsOCcNpbB6J9gMQNd6ztCCDaMMddQMH9ZPdTJRxAANoXVDh7QKtXB/C6UDQogiOmAGlSA7aDAFIyACC0AACeADPrADOzAFZIAGm9YHimCGknCGX9iN3vgJnfAJ4hiO5QcK4/iFkkCG6niFm9AJraCGbeiGcAgLcnheY2AMhFUbpGND2eKHgOdwOSR1lWCPUlCE9caMC2ApC5CQC6AD6kYDZFAKDLkAIsBg53GJCnCQ9TYCy7iMB0mRFKluI9AmZlCFr7Acd0JJLKiCydAwDNMdzOAMqocM6WUxe+QMuf8gYze0Q7oADYKoC2IwImtiPmMghYlAB2UgBSOQAARAAFWgBUrAA1RABmdgjXyQjYqwjd64leLYleRojuHYjduIB2SJB1n5hZxgfmwoj7zQfrzwGlV1dd4nMFIwAx65kO+Gl1GkAO/Gl3v5l3/Zl1GUl4RJkRBZCjMgAjNAA1o3IhCmMvR2kCEwb/KmkeqGl5iJl+vGkSNAAz2QfXBUCcWkDITUdOk1KAViRKRIDMzADD8CVtvAg6pQcgKwJmIgAz+QCH/QB0ipjAQwIjSgBDZgAzygBGRQBmjAB1c5huy4lV/YleMInZ8gluOkCGZJhleYlmuofnDIC23JC3KyJmb/MJ4BIzBax3WDiZnqNgPs+QMLIAXHSQdo8IR3cAd9cJ9TOIWLMIbKtAiJgAdpcAemkJWK0Ad4QAeO6WANFpnqFgL5sweY0AOTyXWXMAmRIJoLoAxBMAuDQAEeSgGcSQNSUAfIAA3KsAup0AuD1AuR0KLzBDotugd7QAxzoIn/sgdrsgfIEAmbCAQkckAnMgcXagqRUAdToAM7NgJKUAI2QAVVQAb2uZ/syI7haI7imIZWCp3h2AlgOE53EKD2qZXkp5ZsCAvsx3684AvsQJ7jeYaUsJ9wuo1eyKXqSJZ8UJ92UJZ+sI5jWIbqqI6TMIZ2YAd34Ap7ipV8QIEOpjJS/5CQB9kD8YYeE1pvl7AKkZAK0CAF1jALuGAKHsqZHEkDZiAMwMdoqVALvYCqQCcNqLIKBxSjZvADMjqrOAqkBzQiY3B8IKADDEMMOKoLlRACAAAAAlACCUABO+ADU4CcdMAHfaCN28iOVbiF3TidpcAJW7mNi9AHUzCsItAHWtkJWNqGrTCPsCCGbEqHYgin0Eql4PiFBIoHdnAGZzCoeHCof9qnf0qGl0CGg5oGrqAIfmCWkjCBF4lyCtCoAjAFTygF9gZ2XScCf5B0pUAJuuBD0iACP0QDoBqqP6ALPbB1rOBXJJsLYzAg0LBQDFULDfUKnaQOHaIOhJIOySYAyP/3A7sqHfLAN+RBDntAByMwrAsbn5s2hdHKCGaAfGbACFvIpc7ZjVW4jX8wrMPKB9x4paawlm0IhwBDB1dXB2cIAARQoFOIneO3pZuQjtZpB21Ar4Oap4pQCIWgjvq6p9c5oH5QCIPaCQJboH5ACQmKsDbApMX5lFVJB31gBhx7B5fAshZaqbUwktrHsaDKmARXD8zFCp8zDsCBKvlUDQMSuthgDaObHZwiDuqgDeUwDgSoVyOiA8knAzqwK21WZcfVA2QQtMS6rPOpnPq5jXtAIj0gAwUgBV9YCmA4nZuAvFh4CVU4CWMwrHvQQ2XVf7vgncWQvdrbG9BwTOdlBn3/lo73mZVbGIbUio4FagfJWK95SpZlyK77qY6J0Af9ap1fugkCW5aAW4mXqDLDOo1VUAVlUJVokAZloANz4LxARDu1UAsiEKp2SbmdmQooQneXIAWauH0HxA6oErqhiyoHkh1NlAzfICHNUA3EMQ0jIgMogm+ZIg88kg5VVg5LKAXDqn10sFCssMOOJgyqQLxA0AMO1gOsUEcE1prOEA0xuYIr5gwteYyJMAnGYA2tFw2oZw3pUDvhZB3QEDBeu4lmwAd1AABlQLDcuJVZmI58kAbDugAFzAd44Kx+Kr8FaqBRXKB3QKiUgAeFoJx8UAojspcFYB7DOgPUiJzIiQZo/zADxXgJ41AKIUsDnjkCPeCZPbCYMxCyldDASTd/gzR1LboN73AOq5ZPogsyNNMM4lAhzeAO88AN2uCYuYpv7JBtZMIPRcYP/WYGUzCe80kM5FAOvKMN0MAMkYByITAFSjABUhAJ5gBEYMVHrNh4nNJE6VAKk7CN7cQ19qAP+vA1HVMNabq9fOADV7cHZoAGAlC1Zvi0YbiufYAGbUwHm8YHsmOdz/qsWDm3eyoJhhC38toJmuAJBP0I+yvIBfAHAqADU+AKu+ALyyCfaJC7xTgG44AMPyDJklzJGt3RiUAM6mAO0CAAyrAKNrggIcZcpmzKxYEN2FEN0jAzu8A5vf9QDNdUDdZAgS0sA+lwLN+1D9+8D8oHMHMwn8OwDdxxM86QHKtwC7dgCzXaB6WwDVUoDMDBKZ3EDtMQHRzVDhVbhcxQDlqTSc0CTL5w1r6QvZPgA3VQq04YCQBgBlnZnN4YteuaRHQwBnRQC77g1H6NB8vwCq7wpqCAC7IgC6Rw2KRACohwCIWgCYsd2ZTwmwhNCVNw2a5QDHFUB2VgBnA3B75IDCGb0cJCA4xcyZXcff0mAgBgbyGQCv3WAyDMDaMSuuNQutdhDQkG2rrACtWEDc3gf76y02a2NvWgD8eiDyHbA9vnhHQwDNnBqsDtmsVwC7RAC9cQDrxwCdsgO6H/GBzlkAz5MQ2wZQ+/QACRUIWloAwugg8iNRDykA7V4AveOc6v4AMBJ6Nz8AfrKgkN1VCmYAqlIOCmsAql4J99UJ938AqIHQuLHQt4QN++4Ap9cAq4ENm3ENmIoAd64AmRTQqikAjmoTIoVwCMcNlTUAzXQMpmkJQOWYzKgCRISHc/8Ac2Xsk/gF4xvg0AIHLYkIMqhNRjFBwezA3ngNMCZaLUcAjjEA254F7t8ArNIAQfUOVkcJsyACfHYg+4nA/KTeN18ITP3R/IUA/iEA3OxAiPIAqxQA3h8Ap/AA1TsAOVQA7k0U7sEA3rww2zwKmTQAmVYAzb0D7vLRDvgA7C/5B+9V0MrXADdiCjbc3fklAN0TBGJ7UNPZMdBmINB+6fBcoHukALHx4LieALyIANxZAIFh7ZsKDhh+AHkA0GFkABCUAFD/AAH9C/j2AGZEAGxXAO2DAO5/XiPVAHzWANxFAHxWCeR6jRYpALQSoA+COjLboKayQN2BBMCoYO4jAP4nAq344M21AK7fAN7eAKr2ANZvAKVP4BghAs+GYNhG4P+6A1+dADB2QJtxNwwRAN2xAN+eAxvaDv4JDd8OALdkYMI0ABe+ANBJgOw/A0xtA98wAPuAAOlDAJk9AM26AitfUP/rAO6dALlDAKo3AL3kkIgkAKfXBAUXiG1YDUqP/i79/AeDT3MaaA4H7MCogd2bHQgMVQ0ndwCj1PChm+2I3d4aQQRToQAjZQ5R9gb+phCCi+C9gADcsQq/U2d8f3A6ZwC1NQkFJgCvUgolJQVtcRCaR6qpWACZUQa9IwIOPADvBQ93YfDniP95DoDdUwD8oQDkDEiK7Q7h/QCHMgu83QNytS78fdA3GGDz1QDHSwB8GQDf/uD9NgCT2ACdIwDudgD+GADTy6CmYwA3sQHDcj6OxgSfIQD+BAC4P958wwDSBiD/mgDO6ACceAD72QCCY/Cq5gCqSw8sSAS+SA6KHTM9MQwmOEcyGWDakghTbeB3+wCqL+4XeQC/UgDNz/cAegUPRFjwiNfQqkMMhNLwVQ7wqssAcFcAcoblbFgAxm4HZ0txpiUAfLQJdSMArhMHe0Qw8AIe5VNWPMgjEbFs1ZvW3NjGEbNy5duHBwulDESNFar2zs4jGi1upVPG7E5HwQ9EGWJB0ylNHDVy9fpUn19P3YB4/Wr3F09gybpi2bmB5j9kRSFq8fvF/InPWQYclZJHHm0okbtq1dL3bozIXrt4rSpUvOouFrBQhQPXz/7L3jNWkSr02beJHC26xbt3XqKLn6pk3bN2vSuG3bZm3atmjRrKVKlOjPnz5/WMnCm/nOq3PCxNEBhTlzZkSHDnkiRQCEDhE6PrxOM6ZH/wE0U2y/Kuar2A8ZvXX8EDNmTKl8/SZJkfKD2q0xq3r00CFm1qwxP6yPKcbtHTdhu6xxG9cOXrhBFzNSbKZMhwABAPaUKqVs1bCTpD6QYtlDmrt69OpNnseMH6ShJZRRhDFjj2Oi2UaMPcYQwxJWiLEnp3HqIScS4VSJhBtzPjzmG3aCKQAITOYph6xLSnEmm2eAAeaZf/75xp5yXElEkmU2kaQYzATRiy9ySnHlmm2msWYbbaxpZhxprGFQm21WiSyyPhJZhRZScOEyljt8kWYXcer4RLTRSCntEFRIKaBN9kpUC5DZbBtjild88WUXHfb0xYY7pBBDjHz0sceeRP+kUIabaTAxhh14kMFmulmMyaYXaW65BhpihHnFMG7UgQeeW1A5jyJMCrDEDDHY+6GUX0xxRw+UVKJjz33ogQmfPyJhJ7p6whGFm1R6IEaaDHsQA5NedMnFmHqIyWWbfIiJZA9rI7FGnHLGOaYcdTBxMBJVWKmELBa30aeeb4Dh5p9+qKGllUUkcQUUSWyRhRBBbskGmnK4KWYUVM5BTMpvhMlFmsUUm1KSRBap8pVlwMkslsnomIxM0cxE85BHTiFFADfbEwBGYIAo4A4zxliZ5R/21IGRQVQVTp9/tiGnljH+wccbYVIJVMNYaDElOFbGGWUZZHQRB5p50rhGnHD/zomnmHYoAkeaX8yIwAM28OjFkgJ6CEYZZMpB5b4PUBGjpWuUieaYYYIJRpceYBTlHGDUGuQRYkCQIcJIklmllF5ysaSUWjCx5BJdLBkjEmLKMeeYdNgxihVM9rCkEs8rcYYbe66JZ0Z+4gEHF1MWyc2VTU6RRRBBUDGFEkpAmcQVVNrJRjDFLqmEmWymQfKxyf6QjI5X8BhES7zooGOOOeqoYxPRuhgkM0IOKaEENgvQAYQCBADBZGCGuSYN5ACVorfAe/mllgfHaOufffKp5R9/urljFG5CH0UXfiGOaTCjHv9oRzx2kYtzDAIevsAGN+phD3ywolAYKQAIgAAV/3HJoABzWIUq3iEPSsxKFm3TwSwCEY58zGMeE/wDjAZhD2B8Qx+joAY+8CGuSBhDGKsoF1kioTlMEGMVrLDWYswRjBdGAhOLcmIlIuG5SFBCH9ho1IzykYo6RCIS1XDHMkCBClvIjhSlsJ28zoELWswCGknaBjJ6MQ1nJAZKqzjeZPZwiUFkDy+iqEP0pDcH6+GlC13IjCgQccjv9QAQ5nvGi74xCkOsr229yQU50KEMdrxDOO6w2T/0cYt2LIMbg4BGL14xjF8MAhnH6MU2ZjQjYvTiGrbYR1vS8Q9++IMRt+BHOKwBDhCsowcgAEGEZACCPdSCFfRYxzJeo5JLhv8iFP/IB1vq0Y91mS8w5cDHPv5Rj0sogxw/S0UpVnEJcalCFa/gVC7ooY5/uCMY8pAJP3bhRFVYYoqMqEUxqqGDHlRLFcNgBVGAxwhXnMMW+tDXGeHTCkqco42zuAY3koQkBgUFMalAnmT+8Ip92MIV9sgM9aZXhzlIQhbUAEcr5YAZQjSPFqIQmQ5UMZhi3OIWv+CDOKhRh0Alh6DpwAc78KELebzjD3PwxTK0eAep1oIaPdgDMdaBj3iEgBlXmeU/xLGHAuyBFTOqnz+88YtR1MMYvHSGBzO4B3TcYxfaiMY90CHN15CimrgQpTbtQQ1gSA9G3xjHPPbBD/sJgxj/3OhFKnTxClakIhKWWMUuisGLZliDHW6xxzm5kY9/cMgSqtCFMTy3h16YAhPoYIZCLBGNH2ACHqIYxYx+Ic5bkMJ2mwBFJxghKVxs4xtBIR4cj2SKyYh0RvYYBz/28TyWspQOm0BFPwYxil+kTxSS6sIstKAAGaxiGbg4hSH6ZgoG8iISYpBCD4SRBm6YAh7uEMct5mGOO3ThFvb4hzVywY9RDOIOphjHP0Lgj3sAQR3qEMcsoSEPAVhCF7UQZz4AvA5V/OMcPEOGOf5BPvLtIR/46E4t9KqMaZJCNjIIxS14Wah6zIMaqgAEJyoBjGNMQx/6SJ0pkPJDeLJiFUCs/8QqeFGNc4gDwMEAAgh6gAl+lGMXlrAEJlhRO8+pIhXGyAVqjbGNVFDLGLGIhStEGQ9h8PIWqrBdKlJRC0n9whjDMEYxenGMsvkiF84YRir6EAl0eCOsjMVLHfZQBzMcIxvegMUt+hgPeAziGJKSFAi6USlcxCIUiEDFMqThiwT0IRu60MEvaHENQ1RjG7wYxDjssYdRmIIY4yjGO/4xClzcwhQlMEUqGBsqdpiDsf/Ahnb7cI1zpCEe+egGP4JhiZyEA8Dt+AcyPYgJdcjjFb1gxTr8M01CEEUGgZiF/eyRTX3soxqw8IS60IGOa1wDDF0wxSqgdWRokeUV3+bFMv+wwdhS+qIWyMgGP4jxDnSkQhWYqAUvPEcMdBzJGNFIxz5SMZVVnKIVvpgRNTDhDjxgwxvRqMQxVJ6MWfDLRdWQRTY2LQ1ZHMMbN5dFMdwhj1kydh+C6Ico54GKbnhjHNQo8DXe8YtH3CMcs6DIdG4RnEEM7dNdSAM0fPEIShTDGvn4BalOUShX3AIc5pgHPvzhbm34Y9e93i48ZtSPUITBFtYQJ4D/UQuG8kMS1Th6L+/hD4pMAenmEAMzI0cPG02DwTYht2x0gO5+6AMf6dLhPy4hDGhooxz4pIYcuvCKSqQiF6+4RCrWWa5apGIXEbEfOG7xiEeM4hS2sEUqxmH/CnIFDBWy4NIvloHibbCjEuLIBS+KIdUZScEf+PCFNcixDUyoXOW4kEY2ZP6MauylG8dYhs3J4Y1qVCPzswRHP0Tx434sAxbdoMQhR6HYGd2CGKGC+iyCgAARKEALoqAFWSiPJ8ADX3C2fjgHfrgGatgHClIFBSiGXwgHW5CuaygGZHC77eqjP9iDfdiHcBiFcECFJ1ACcZoRazkrTmCFbhgFXSgUfhCP8hiFYZAyf4oEgmsGegAHeIiFaQqE6tABMNgJiSgHciCHRwiHGImkb3gHUYAHVJA7dViFXNgFTKACNyC90lsFzygdBLqGTosFvJAFehiHXViFVHgHc0CN/8wAhVJABiO6BId4BTOohlliBJ5RByPMhlRQOWeQG1zYC2/IBnkoOm9whkIzQnJYB3TAh2Mzh/QxBZthI2q4B29Qhw8LKw9zoH+4hirQvxTQgjSAg1GgBVdgBDToglHYBhg0hQ+Dh1FoRHrojT24BXzjBwUchWPTwFrgh3xYrFm4Q3cZhfY7IH9gBn+gh2/4h26olkh4hUgohXMwATuAh2yQAbPSBVaohT6aBnagmnOYJiFQFR34A2JAo02ghEkgKW5Qwkhyh2u4FcbbBiM6MknghFQAHnV6q0z8B1zIDFmYpWi4hFVIBynABVlAyERgp0qYhnKxrDFIsL5ZBbWwBP+bq5RnULlhOIZbuDlBNIeOLLp1MMJ1WId7UDu1W4cZsQZzyIdQOQdCNDR2sIcJmqVrwLt/UIYgCII0oD1GIMVRSAPs+YVOwgRdwKZ/KIUZoYc9EIMCqASdlLt2uAVzEKdB6AFTAAJjMAd8yAfqyMRq8MB7yIYeSwZjuIdK+IOBrARsgAcf2IFJUAUQsIRgGIaDeoRBsAZ5sAd9MIdwVJUeMINx8ofT6cV96Ad3iKRnUMZeuId1CAZxwId+sIchIoszHMhv07tM7CV/OKCwYodkcJAf4AeUm8JIWIVteLjZMIPf4zVA2AMggM1N+z7rq8SbywYjvLm9oIebU8S0myX/t+MGcXiHeWgXfcgGkpwR35wRZORNXeiCIACDQTCEPuifUSiDNKCEeOAHfdAcQ/uHSJilVECoSIgOU7CFezCFZRAHdQAHGdggZzAHdpiHcBiHfGAsfrCHdrHPf0iId7gHZvyDSniFP/CFcFCBNmCEORiDg3IGXdCFZhArpfqGZviAcEiJv9wZerAfX6yHX8jMGckfXBCFaliFAosHe3gFfDyyy1SGY+NHf3A7zZSufbCZsDkKa0EoVRgDGRiDoaEFeGCFYOAzIACEZ6CHYzCIYBi/Y2CFbIyGaWOFJmUFVciFbMCZaEjJGUmHdECGebCZfcAGe7iHWbqfW7gAU+gZ/75ghS54AuyBgztAgzRIgynoA1NQyueQgXVgh1Wwn2UQg0gwhV4wAzMAB2xIyVqI0VF4xXcoh3SYh3hgixm5nwMiLX9Yh3Sgh73ABC96hVLYQUYwhWpwENQ6hsGzhn94B3Ggh2FoBlwIlQ+YA6IQg3+QB2lomn1gh35wUTcDh2sQhXGwhDsQhVg4BVNAPdNbJ2LowkykhjvwhnvYVX7cBw0BBFXYg4LKhVxIPB2ohWtAK3lgBia1BEAIq3MwwX3o1X5YCmqwBS5BSFGQBVEYVmr4B/l8h3SIT3NYhkFgoUP7BQoYhSnYTXrAhDTomwQ1A9uogikYA4I6MWfIhUU0B/9h6AV+6Adfmo5u2NR16AZVQAZrMYWG4gV22IZ6MNmYwIcE0zX9Yax0cAd0sISOnYM/WAUEa4c6KIZw6CcZObZ3OB1ukAdhOIYoaJ4PoANZ/Yd40AcbiwcRG9MZ6cx6KIFw4AZMWJFXyIUpXKdckI9e4McZ6TUYjVF+bIcJshl8UAd+eBBVcAZ+kIfpm6WXCgdwCAbNiQRRCAVSMCPZ4du+3du+3ZJ6fYd8eAeZ4CpccAV+kAkt8obLqgN+0KFIkIIEiQQgqI4RoIARqAN16IFLyIdvMIZaMIZy2JQ0cAVDMARcmAUGYwVGDAZTyBBxYAdsuIVtUId5kIe0qwd2iDD/+2TJGWkaYdiDdWAF4KmFSzAGfxiDOoAGExzM5/oFcHgHfOCFZ6g0avCEB0EWsfqxWxAGzovReSCtf5gH7moGLHOi4n0FM0wFxomEbHhRsfUHXpileXCHWcI2E+THd9iGkhCxGcELaggHajCGYNibeZAFRPDbBWZgQSAFgDzRQeGlGbEZdvisWQIwdjCDEiAAcYgEGpgCSqgFU0iDMqABH5iCITqor5qHd2CHemgGzeoEasCDedDQdXAGn/UGeRCOOTAuMVEHHVKsfGAHeSBid2CsG9aFZEAHf6iGOSiXXCCGf2jSCc5Ee6iGZCCHI10Hf1g1eiAHougBGkiAcCDf/3nQhnzIUmrAhfvEBQQQMhvcVC2b4yGah0yUX3/QB2LYhs/wBW64RVr92kzMVHYYX7yghUSmhXU4hoXABwtt4EjOW1nIhc4c5GT4WmwwhToIgR8AYZ5chRG+AxtIg2JYVg/kpfazBmVwBVhoA0+IBVxYB6ECh3VQYFlgiGAYA+GcXl8c3737Onpgh3XYBmO8OeGVM8fpBUpIShMMZGy6nHRAh5LEh2sYvnV4TTFIh2WwAyWwgfz5h3UwhkaUXmn4QAm4gz3YVMrEhGyVIkxwhviV339YBHCoh2sIh8HkhzuO1itOhhMFYFJQ5C0hhmqwB0iO5EjeElPQ36/9UHE6tv/3CgEdkII6oARigIZaMIQ2OIRA8Gi+1ZJEBofHWoZOSAQwcOB7UIedcAdREAREWJZa6IVekAd6MIh6QIcg1QV34rNgwARckQdWkJs/UL1LIB5oiAZgMIZoDeooJYd7aMA9uAd6uIdnAAIxSIbB1IdHkDFsYqzL48p5KAMt4AdhsISjwIS0rizGsQSvxeM85oc0sIUEcztkNJ1BnqV1kIchGgZEHmj67IczwQu+DYQoiIIkMOzEDoNAIAR5pYVwCJWAnhFS4cfxrYQ9AWHsmYWdMIVJ6GiPDgRBCG2B/tF4aAd7WIZaoAFEkAV5OAdSkF4Flh1EYIQ9KNxO6ANJ4Af/dKgESfCiSsAy9PUnQMCyowC3LDsKfMCEX54Rd3CnUkAAe0BGqT4xaHiQY2QwDWUGfFgGTNzLelsGdJkRdkIyVTgivNYf+c0HeGIH+V1WvH6HW7EHIFBnQSAEayIEfcnv/CaFULjvzGBg0BZwB0ZkauAHeMCLf4AHWTDjr9XgHpCCKdACGhgBP1mcSEAEAf/oUEhkUgALkoivUvBeU6CGeugFWOgHWmhs9riEVm4FWBgHfQhZ3KNx3AtZUKCEdZKBSJiGOfAEVDgDbtAHQ5ilCMMmTvgEV0AAnvsHaOVEA0jnHmjykvyHPTCDIvkHG1gG7oLHY9BQ9MbrcMXIZwiG/0sgBm3QJHwAMEvGa3p4BmewFkxI6DkXhLwV7NA2IzH8hwDecw8Pq3mQT3vAhBAIgQgnAzLgASWgg1rgOzh4BE/gElwQ4HbwwHb7B3pABnFgBFCghk/4BZ9iBDhABUSIAkQIggKYAlBohVV3hT1QAFNoBVQgI1uABVgwhU+onXRihERoBT748UfAvU04NtK6xWIABUuYAxyLNkvtgTqwBBAwNHp4vn94BXNQhluIhVuAhxcyzKkeWzDPxHUqhXLZg1xohknwnFL4BgXxh3fwhei1CXvwuXN4BPkBglzQhVCg8waOAgHv9ygQbdkhhMzABZQihXrYBy6Ru1KwZH4YB/9XXw0zQIOJRwNDGIVbEBieoIZf8IRBQIQfR4VREJhTeARIMAQwoO04CIND6IQvSIIi+AI56AQCSIRN6IRPOIVNUIDx6YRT0IRb/4RPYIS6KIVLqIMZSISJRwRHQIEb+IQL/gej7MVbLwVGKAFAAIJueCQKyAZMmAO3DSt8+odfCAWpsgZ18ARECAbmBvewagZh0I3H2gd38AVeUD7iPQZgyIV3H4egawdc+IVfaK3K9YYB1tt9X2DQDoPFJwRIoAYBhgdw6FVre4d36MJ9BgewcAV4mCAKOofEEwMzqIM+WIRFmARj9QVrvsBq+AVRCIQkWPwwALVOOIQuuAAkAIP/TngEOUCETYCCJACDRziDuxwEm3+dRwiCCwgC29OEU/CETzDpTVCESaiWKaADNDgDR3gEFUiBT5glWAC5GeGEZNjmUfAGGBEAVog1KeiFeMZgEfNZUWBAeQ8HRNDVthcluUPVf/jeTTEHeQCIbd+UFVPWzJ2ue/fw/Wv4jxg7ffsaqjumqtu5cKQECSJEipQoUaRkycJFDVy4cP3gsYy3b99KeOCo/ar5qxUiQoIQobJ1y5OsW7dQiUKF6pBRo6dsmfOXrFKlSZRWGRvHTZkwVLKowfs16EkQMGDkIHIUZ8sSFVDCGCokR88iL0XAGOoCB0EaRY0UPcKzAMQYRYr8/zySJGnRok2KNk364wPNmTaQIB0h0qphMU3nGjbSdA1cvHr61t27xhJcsVL79HGTImWevtj74OUrd86ePlf6HPLu7XAlb17CXV1rl29cNWzgpEVTFWwbMd7Y6jFs6A6QJUDS4LVLmXLZL1uoblEb6gmSJ1SQELFHJCoM/ChJoshPYh9+mEOe5ESBhAoRWeol5YknnSzDzTvzKDhPPe2Yw401yJgiFnuDiAVGFGHIccghcXhBxBFzGeJHHIcoAoYXbsBhwwQE2HAGjGegMcUUdviRBx564cFHH3y0gUcidOyARhln6KHHFVd00hAnmoTzDz92tGHHIo/EsUkkexSAB/8Yj5QwxSafnNJJHzQmIkkp5egDCiingCLOO/X4Nuc/msjRzz+wteKKKa6AMopKrsAyKCiSwOKLPbxRAws//EA5Di+XlLJLO5AQkuFYYHzxBX32FWGffUMIkYSoQgxx6qmkgkqfhp6EEYUc+4WBCCSaTHbrI7/AE8889sSDyy/lcKONNM28AocXYsUxCByFGKIHHG+0wUUXKXQxyCOK3FFII2l0kYcjTyjRAAFKRNvsI2fY0YgjHbLrhx94+KFGIYzY8WJkHFKryT/2ZOKIL/+0EpkdiWhxgRg9ANHDGBKkMQUNiVBiCsWfdNKJbvns04kkn3yyjTyO0tmbJ4Nc4xD/KKa8Ysopj4yCSiOCtlLKHZXs4lA81JzSjkP2UMPHGH+A0k4g8nUKKtJJg/ppEkwX8fSpT38xVqxyiLUfGIh4oskpnowyiiamHMiNOe/Mgggoy6jTDjzh1ILHGVOckUcbMLYBRxfTipsCWGnMeMcddaQBxyNPdKGFEng0cpYbcYCRRQ43VHAA5QNYHoDlAwSwueWUP/BADv/4gUIOevxTQw055FCDBg38QAaMUyDQBhkwHMI1gZ444ogftzxyS62PDEKJK82YI6dD3HDTGz+wPPKIQ26CookmjujORh4culHDF9Q41IgDNfC2zAEDIIAACZkUPV99Sj8N9RBNv49q/9RPJwGGHrejp0kj+kFySCMyQb0BZmIStZDGONiBjUAggQzFaIc9VvKLR2ihCm94wxWqYAU2uAEHNcCAAzS3uRFijgEPcAAOONCCFBihCorLQx40cQgY5uFIcXgDF6qQhkL8yA9UsAEPqlAFODSCEYwAxT96oQlPiOMfdjjDGhDXAEZsYhNTaMQmHoGAEgRhEGPqhJhG8SdcICIWX9NELG6BC2lwgx2JaggsXtEQfcwjH/XghSdCUQ91/GNr5yGQx07RClScwmKw4Nk/ZDGKcfBGHa8ohSlWYQpKUCIMSrskJj/1vvfZRw5vOAR6tkY9R9gKgLkboCYokYtmDOsUQf+gXA5+cQ51xMMVVqgACU7AhjZMCQ+OwIMd2BBFaz0BDpBJAx60AIcYGu4JT1BXADuTiUb4QYCaeEQezqBDGCnCERmsAlq+oCE5BCwauzMHP7BBBSvAqAGF8IMdpNAHw5CBBkHoAigsJolOjOITaTCEITRhiE9oYhBveEQxmlGMZYDDHu3whS/qgY1ELGIUj0DKIeLRkPNwCICNaAQe5GWHHIGCkf0IxSjg4RB9tKMVrViFK2xRE0vSpz41bZ99cGo/TzktCWEo0a0mcx5EuAEF5QuA53KQhU1AAxrbKIYrL6AETfCiGr1YxTZcUQWC+YBG8lJXW2hkgxKUwAbKNMT/GgqxhK848wlVIEMb/MAuRZShDHdQRB4KYQcalIAKb1gDKXMYmbuxRw7xUEY2fKGJciRDG5tQAxvg8AR2NaIKhniEI8pAgSEMIkzY1AP/tIAHQ/ShDIXQwxbaMAps1GKJqPgFLzbRCmy8omOekGwc1CAyT+QBDs1qA7dgWIjh2sET4PhHOAIhClM0pB7LEE8rTNGm18JnQxzSA1/s9AX3yW+n9hGCEGLwgANs7gAPyMKGgqoJPdzKE4fQgyFqEY5xiMMVgwhCEJwwiE4UoxjiqKW64jmCrvaPC3ro7Q4oUAItPEELO+QhHqpQCLxpoQtCnFv/3rDVN+ghDnFYwwxG/6CEK6ToDU5QghauwAU2yCEOcrCDMPBRimpMwhfcqMcpOMCB8R61c50z7wN0jIIsoIAENWADFkxwgytgIQ6iqIlWaLIfOchiGVxDhRdYUAMr5CMf/8hEFrLwNBjkoAkxOPMDGGCAATTiH4f4nB/+AY4zhwE9nDCKLLChofaY6A99KOV2NbWpKBTBA+MNMgySpaw46KETj8hEJwTYCeq99xEf/Vcj4KCFVlhDHfAYx4TwC4dB4GGht3DFKXhZhhEswAdtOHAX2lIIH4yACmvYwhXe4IhGQMsKjTDEtNiQpDXQkArGPgMcGvcGJdjgClaDj3iPWt4HiOMaeZgHNvKhjP9v1EMTuY4DHgpxCDDEIQ92mAEFuKDuN3gIhm2IwBKc2YY1JLuMtKCFLDwhicHoYRRbwcVsvYCELaxhpXFwAxtuaIfsDRcOa1BCI5bxD2oEwhBNVI8eYpXKTpwCFf8gt4fhYAc00CENGY+B52Iwzha7WA4ud7EbOvo8/ln6o5b2LV8e/bxGaMEX+TDHOYrRhS5IoAXqUkQxrvELXNyCEWWggQAUwAMu5MENXsjDE+JwhhQcAQxoecIb3LCGG5jgglxwprHbkIc4sKEKVFhCDh4gQvPmwA1u0EMj3mAHO7yhhhxCxC1g0ZNO1AQW1NADh/XgBzZA4Qli4cEIKJBwtef/IUWIv8ASkEAEZ9awjLKAxCMYoQjUbgESsYgFLaixjw6RwATYaAgvRuqHXWcPEngvxBvOsAllYGMf4NhGOSJxDvEQchSUuPLq3yuHJlAuAmoAoIcvJBaEu2HebHjDue5+pN3tun+g/J8XsLeetxzpFNXIRzKwgQuxQOACN6gCf6+BC1ygwg5ksAEBKGADJZxBCy3c6hncQAuswRns3xPMWxWUQBVwgRZYwRIE0RdAgeegwBLkGvbZ39T53SEQ4MJx2CG4XP5cl+29FxZggd0h2RCEBRRYAAUkALHB0Ict0xnQgDOZVReImyjEgii8l0dRi7/d23E1QhvwgA0wl8BI/4LiXFMcTEaHcAEVJM5m2IMkVIOc/EFmQIIffEKYiEkxHEAWQIIjKEIf0AEd3EEj0NCB3UjfFQIe+FZe+QFAXYEjXBSH5AEYiF3joAgTUMEZeAG7eQEe+II4VEMxqMkoOBMCXIAKvEErXAM1zJ8ntMEV4J8ClMASrMETEIETcEEatIEWEIGFjUAK8F8V8IACHg44mZcbKAIe3MEZlAEZkEEZaMErToEPKMEasAEbdBjdaIEb3CGKNE7VrcHdWZ0aXMEJMkEMBAEUEEEJLAAFnAEw7V3fNYIaWAASQAETcMEaHAIiyEIsIEL+1IojUItW0AIuwMM8IIkJpMAiNMQpNP+CjVBTHDjCJ+VBFzAbGXACOPxCJvjCJ4BDO6zCPmhCFk6aJnxCKziCIYghH5BhIvTBIvRIISDGIrCiIixCRAJTSOGBJKYBAeDBIThCh+mBG6wdGDQBE6xkCxDBFniBL5gDO4QDNVDDNdxXEEgAAjRAAywWPNDEIPAAFVBA1F2AE7wBGzwBwZndE+SQDaTAEkgiFSxYGzzBAWBAO7bBG3QBEfwQD/CAEihBFcCiFsAOjFDBDthBGixg3qjb3tlBGexdhJ2BGqhB3aDBFbjAE8DADYxAAjDAGhzJ2nmYHliBCXiBHFxBCniBe+hgi41ku7AbKtyb9+hDHlyBCZiAHTT/BCg0ArdkgiFYTx6AIS3CDiqsAij8wiu4DCwIwzl4gh44AiLwj2CMXBmYgRmUAR/4AR+I4UhlZCJEJGL0QR/cQXECzhkMJQCggSZMkyGwgRKcVofxUhtoIhs4wjiUA03apCzgpAR8ZwlkQjHoQz20QiF0wqoJgAA0QAqoGxGowChq0wp0QRmUALKtgWJOQApgAROQFwcYgVZCQRCswAVcQGYq2RJQgYppJXWOQAVxAS/FCDyhQeD8AR3EYhXUzRlYQQxAQQwsQQlQAAX8CNxgXx74wYiBwSF0QQlkTUgASAgeCTECRSw8iRORXQoogkPAk82dx2g6gjbxgLNRDyGF/4QtLAM1oAIpocdHNcId0AEakNwdUChx9gEevAEbhtQbhJuWjlS4Hc4CAEAZ7BwcKOiR6EEXaNMZJGgetMI+xMM1OCIqDEIXOFNONsAO+EE97MMy5MESWMAF0AAACEAJ3AAbeIETGIEJLIEVOMF7LkEK3EAKMEEKTEAETMAKsMAEQEAIBcADbACg6qcFlIBUGZsQQSpU5uIaUEEJluAWqIHdOcEWXN8V3MBK4toVeIAHnBmIjsAI2MFwhVS85IESqIFc1U0fYMsj6NUdhNQddCIcoBEkMJQ9nEMpmoAinESiFKQjgMsMwRAPtKAS6AeBaIV6pMdtQcIpTBMngIK2yP+lH8DIlbbBFmzBBUnLGmjlGnBBvVrfFRjBCACADXRU/uBPhznBEtzAEhiBE3DCN8CCPoTD5/1rWC5BTo5ACSCRNmSCGuDAWJUAAABAAiyYFiDOBVjApTZABCjBEizBpU5AgTYABEgABPBk+xGBA2COA0QAA4hoBADqybbjDdxADZjABWTACijsEqykF3jBC2ABMW6BFWBBvW6ioRkaDFSAiLqBtLTB9fGSFlABF8ABHkjCKqhCL7yCIthBswLTtKTBIIyCIRzpLZyCHXzlJJwDBDnXmFDCpFlMIYxA1DEnbLpBABFSJtgCLPjBSL5XHnjmGWroOu3r1JYgk2GBE7T/6hZgLhY8gRMwgTOGrKKdxREcQRM0ARHgQAvgAAuoASwMQz3UAySU4BGwwAZcwAZIAANsUSs8rBuUQAIkAAEIQMgaAANEAPLyJAM0wO4qGAtSwAhMwKg6rwU0QPCOgA0oKvJOTnlhQAXArPs1aqO+QAcQAREYARM4AQ7kIhZcATGqgRUwgRUYZgoc2gOgQAX85RrkYl3m4htYAS7SzSZow0RkRrTAEBzEQRuUwSIgA2zqR+4pAQ+kwe48gsV0QhWFiWLwgQ4UgAjQwZ6AAizYgkvhASi0wimE2yM8y4k2Ths4oBIo7PwyQS5ykDC96ua2qqMSQQu4AAUM6go0QTYy/0HpHkH6lqAaYIEaOJc+QAISHIEL5AAMdMAGdEBOTsANaILgqUEDIIABGADxAgACQIClTgBPWm/wRsDH7h8RhmsE8GTkjcAMsGw7klUJ0AAQ2UADzF0MZIEVXAEPO8Hn4gAOMEEJgu4WIBwSJ/EViNfncEAFnI/8GmYFJOzQwluCzkEqyMM/FMO8QJYwccHuaYNGEII44ucfv0Gt2B4NwdCB2Z8IFMAMkMEmsInFbIIknDAKUxMMfZQfeIAXwrDCYi4OfG7qGkELrIAKrMAKqG4LyHD82kDIUgEbkBsT4MALpC4O5MALvMASLANDHcILsEAGZAAGnHM5Y0A544Aa8P8CLFDBF39xAoQsAizv8Z6x8kLACtmA/knwuFzqBTDv8lpACoxiWU2BDSR0QpdAQd+AFXCACD1ADSyBWFYQL3HBGaTBSO3rFbxdFezY52hABPzl/N5SBcxvkiwBL6LBHmACO5gDL1ymFcAvFWxCO8RGnlCDHaxTgraBI9jejVwaLLRCI/RfAghAAvBAI5wHGC41gXQNuwyQJ4ACkmWBeaUACxiBJhLBSjLBM9+ACuDADaxADaAvFlhBDZxABkSAelrACmy1C2QzC7CAC7TAGwwDN+xDHmxABlBxOp/zOU/ABOBAJuhDK9iAF38xAYQsARxvBSAvWdFA5ClYgU6ABlz/gAZsQAQ4AARwKgPsrgNgwAl98QB88Wc7QANUgIGOYhWEpViSwNytrxdsARQxsgPeABU4QGhjgAWgGwWUARrYwQjsgIauKrQ0winwQiSUwjlQgyeg8hUswRSMwR6kwjz8Qz00wyZcgRpAqCcI0mDYgRpA0ROmAAUMb1KP5iFwbQwJ1SnUigBZU3S3LBGMlwdAARbgAKNydxInrAqoQA2M9VyfgFq3CAFYwAacwAZogDpvQEs+czEYQzzcQjn/NWCXcwfomBtggz3UQgnEswEsNgA09u6uGYh/8c5CAANUQAVgQOvoNs3qNgNAAAZQ8aVWQGaerAXAbDsawRLggDJv/8AyJy0ho8ADcA4HZEGSfFMV3IDKYgAP+LYQXcFXwoi6KQENyQso+MIymMIirCXLUoEa2MEJ80IxrEIrbAInxOsnHQIbcKP/4lDJKkGYCoAP+MES7Y40/UsmwFA1sssaWMETGtsVWPUBlFkTLK0RGMENiDVYr8AJqIAJdAALXMAEGAACWEAuEfgGbAALdAAKbAAZ1AI89AMReAAHnLNuUw7lfPZnp8ArgAM8mIJfxrN6Gu/u7qTyCjRndzZfFygEdPp35joD1HgHLO+lWgDQCrZgZ6aCM7MJnMBlG+gJYMHpUi0T5CxSxQD+EgCmI28CNIDS+jMV8IAVaMHe7aYi3P9Zvr0BFhA6GShCK5yEL5xC1/hBca6Lo73lBZFt3WQQ8QoAD+TBv/Bi7uROR+2OJ7gBF8x3Qa+AEaTA5BwAChgBkLsAE6AODqBAqDM4CDnAaet2BGgAB6AAmeWAFUQCS4QDDKC6BpxAjqfA/lXBWF3AGUQCMYTDy6RAPA+vrvPkG5/x8s7sdxaopSPvd9KszUpAB3SAshuo0arABeD4gUa7kCuzoxvBCjBBNaMIGGCBF+j3NsvdCDlABfAkWKdAgQ7tls10zCl8UmjCJvBBIthBb6bNL8ACL3ADNTzCE/m0AAnhW9J9JFSCGZBByALAApzB7GUCANlKUP1PRyFCoC//QQUwgG6HdgVoAIgA8wOsZPxmbvyebwss+gr8rAqM9Qu0gAq0wOrXwBk0VTvggQ10lViVgAVsvgZogGBjgB0gAzkQAyvQQQJ8MQIMr/EyLz4r74wr7wRIgGBnQAXkrvdWQAZ4eqczM+tG+gbofqcTuIKbb1cT8g0YARckSxZ4QQmeADNfswmY9uXPHQcEeMLywJLVJazG0HmIndTuNzHaEEC40SPHzZorWBptkpQoUqpJkxLx4UOHjA8AF3f4cZTJ0SE9hyB58nTKk0JJl0plWvPmTRstVZRo0ULlyho2a7AweXAgBo4lRowwYWKEiJEbJhAwMGHiwgUTNmwoqVJF/xI7dv1SnNhgQoWJDBciTLBggYcNHko2iYtXz521OgkMJCAgIEEDuw0iRMCLdynTrSo2bMCgAnCGwCdYvCBChEUGDY9XdDWhQQUOIkKJtNDcooYJHCyYbPGSxUtpLCtuAFURwYABBnpfp7hxQ8OAAAMO5PCkqc0aNTlxMHEilMkSJle2sIkTx42XL8zt3EmU6lMmN29sFux9hYoSAhdHXNGz0dCjR51AmbrEapWiRodAGsFxIwXhG1zWbLmiJg6cQnDa4CKHAx7wAIfPVDihhhRKIIACG7pLIQWghLLimXr2oaWpppb6SoMLMNDghAxMSEEJQ64ZZ552GBkhAbkAKP+ghB1o8MEGKWw866wlurpghRVYUOExFQzTagMWkAxshQ1OMJKrxF7AoYWuTtCMMRyqbMEFHGA4ookjFBOOiQta2+s1Hqg4ww41eLigAQQesC2AA1CwggsuvBjuiBxuMG4JKnjYYY5I/rCjCiec+EgPLBg9yIorrrDihgsuAmABK9w4pJGEVinFPEfk0MMNOeLQAxIR6WtyiS3cKKi5PIcrDlIOBkBhpTTwaKMMCkpQoisJI2NBQWA+AWeWDgj70Ygff2QyAwxIsAKUYXiBBZZRnkBAWwK4TWGJb8FFswotuNBCCSXIKIOMKZTgwV0Ja5itBhxqqCGwBJtkIbLAXHj/wYUWFGNBM8QCu0CDFhbDwgsskGiCURO4TYAKQJdSgYSLUzChAgvOUEMNK6yo4QDbCOSAAxZ4mCKRSe5Qww022ADDiy+bWC6OJppAggkiZuPhBh5KqFSBMigphZJHDpFDDpAgOcQNLFrN1IISVcjYBdLWOOMNO/rA4440IGUUiy2awC0GJ4hQoQELWiDuijfgyEMPQ7655hZa8mjjjEgftYKJHI44YrhHM2nFj0o4iaWLN+Ui4AIVbkBtNhaW/RExFjZIYbEbID8Q8u6mKkN0MtadwsYSbFiqycCQbJ0FFGDQ16nZkMsCCyvUyCOTNgwgIC+7ImhqggsqiMABBxjI/6EGGILL4dF16eAhzjljyEK0LHKI+stR4wADBhdgiJ2+GqiYIoRKKWDCiziUbn9p+Kxg1Y04DqlAA6h8mKKKNHrbAoz/S+OFLUABCk1wAhIGCIWdPKAJnCPOUIzwhABmIQlRSAIY8sMGPXyqEXBYg994BjI3uMwNYAhCAxiQghFQIAUIM8oKEKOCFRgBUUR4AQtu8IIWBGsDHehABpDUAsw1SUQiqgEJmGKBC5glZVoQnf54IKESRSAF7mpDJhrRBj3hIALcSgoDXjO8CUggAhA4ngNIUAMiXKEMf9jDFLKigQw4Ro4d2MltPPAFpX0hC24IiSfYAClJkWEPf5gDTP8qNQIWNOF/YFAa+5TmhiWsoVVgOIQGUOABD2AgAy3wAgCd4wUCYsEJWzAlFExpygPGYGQPOAINa8gERn2BkXKAAhLQphkmvICXjcmAYn7ChDfIDRKQ4MJYLiAXC6TgR6nZYWZuGCaBCZGXLsCcYVy3ART4cI6G0QBs8KKXpdSAByZQkLuUkAjS+SB/pDNXd0zQgIihEAHhLN5dKDCDOdSBCn87gQY60BgNVGACGOAkBzoAgxgM4Qtf2MkBePKFl/FgD3swgxKUV4Oh3AABAhCAD9jgho7IQW7w0UMcvjA2PJWmYj/qgAeEkIQLgmE5MksgFpqAStEM0AlfMgIKFgj/BUQ5QWYEbKQNo4QwhLnghwFtAWKIQMAvEBADDNhWAi6Qmrc9ojyGgMMbuGCFb7WgTwdajL+SNEcfIjRIgAEMZdomlIHdwApt8IMdQraBCiSljBEgwWdYcKAVyJMAI1ghBWiwgx7o4Adj+MEIkBeBGsAuB5nU5CYrgIENFPRZHogBDJrwSea8gWUHCEAACgQDHwrsMi1ggEcjsAEmzK9UHvlIHnDbCJFAQg5NYuYKTMCCT36hCEKIKS4RRUqhOAGnDtvCcEwwgQ0Q4QimPQAMisKEJ5TyC4vp1xHCF74OIDRw5Y0qAY9wAW1ZICxH0tJmmOClwB2oT0vgAhwa8Yj//3BBQpybF1lNcIP4MkFKLTABOangh0bkYQlS+qcGMBCBENllLBYAojV92AEGcKsBCRBBD3owAwroxQEQ0EsDRhCVKpThDN3h3GNI8M8KZDYDLsCCFvqgCkvQoQ1y+ML/MOeBBzy0ZA6YCwEacIEWSHRU71PaaLJQgwZQQH9TSFdFeICcLSjsC0kwbhFwSQQcBIUJTRAOophwlASpQDEDItARduYEKNjQBUSAgb9cYFAMcMAF1lyMClpwhLS9qQEbUCIQ/aWZI0GJBdYcYutEpIKAFiUo9uVCHhyhCT+sYVx+oAMVUnAxEjxmAzgA0wqilIETJOB3DbDfnhc0hR+EQP8BC3gTA/ACgQY4oAEmNmMFLNuBPXNAk/eMgA12MIY9RCISY6CCc34syoZ6AQWPgdaMHzO92yiFCZBMWiSlnIAdXKIYp8gDtpfSlCVY4QxnQIN0+nAHLAxBCENwQvxGg9PyrtnU4OVlDjhg2gfE4JZHSKidEXYEFiAUCUdAwi0Xo3A3GQABE3jTBar0Ah9u4Hsd6HM0FUOEjwuRBRh4AVHoS4VNseGIFRj1Y4KzhlJtKouSypgGLPCiEsxoB2aoQx2mwIMWsMYAyAOjGCsgATNGYMYVgIEmOaBnhcLgBDYwwx+mMIIIcGChDA3D1/lIQChkAAIVKDu2H9NFAiAAAzv/wQ0DcxABCkihFL7IhN+YwAY5RGBqSxl1KQUoGuf0lAlIoPcQ9neHn//cDEG/wfKiWd5X2hGid35B+Mqb4S41HPMwmIC2KK4BCDDgSD48gZ8dfkskrD7igAtchd6QiUyogV41QNIc74WYOsfOBShwDAkioIFRk6ACNOjBGMxAh0Xk6nYNHiwBDEDP10jAAdQ/HhgZ4AAXHKEITTjiDeoQCS0Qj8YbyAAMhoAEghMQyuzHwAQmgO4ZixEvxdPYi2jAA5LFoCcqMALU5KABXCNlpmAK2q0NtoCPRGn14Gz1hOADhKDhvIS5luBnUqYM6ODd4q3dIOVvIMqVVu9Log4D/+5MvmAACTwPAVqDASYgLzYAzy7jBY4AB8AnvA5EKBBCE2ZvCSarAy7H0S6nSRDDSDJgxjipA1CAnKZgDMaABkrAqu5iAuYIBRJjA1ojAXhgKmTCBk4MeOJPA3DgDO6g2UagAjhAoV4q6qyP2MInBo4ACgIIDL7gCPIiL5piaghq9HqHW35gF7DBFNSANLbMC3IgTswmDEzAAuLC5U6AubZgJbaGD/qAD+7gDLgAUqDgAz5gCGAgB8TsQILiS4gDChSGlK5gKtrNulBAKhosB7IACrKgCSorcCbAqlzDMS5g+wJn9WQwB15g3a7ADzIhD6wABYwxofqsdfrMmgLjWf8MStcY4OxEJGWYUApK4ALoiAU+74siwDB8iKkkoHeiz6oYAANmTC8soAR+YA8UwRRc4RG64AoshgQ4LgY8wPqMMKHaEA7hsKHi4ASa7pseY2P2UAHEYBLw4Fv6xAmiJg62IK6C4ws44J9MAC4YgAXEDrxyoAlIY2Fs51sO4gGHgGvqoAyqoJ+EIkpM7eEECKdyIAY2MnCs6wGaQgnKxwzMQAzM4AymgAJU0K9OgM12RnnShBMygQ3iC61MxuOejqkybI5Y4IfyAgJMbMaWggbEYAzEgAYyS8+qTwJeDQJUUFsa4Ag7EQYyQBxt0QAqYAd8ICvFYAdUAC1PAHCE5WL/7KcDoAAMIME8uqAKluAEVq8IYoAjR0PsBkoCxIKwEkAKJmETfMDVpsYItiAP4gBmsAAn1oC5hAIHvEAOCEosuMUEbokUSSmncCa0TimnoEAkC6g4lkAJpkAL0ODn7uAOTJIKrCAHeDMHwmfhMiDgKi8zOmCg6oUEOswAZkAKstIOMkES+IAKjohEUECbNOkEA6fPNm6tnNF+SAAFTCBlxKAHDMsIyWiMJAAD0nPYhE0stQXXiscFPgsGOEAcKWAEQKwHSmACzMgBunLPfKhLwscDTMYDns5AozJwKssDkGAJ9AAVfuEWToENkIJbRGAOXsEUzqACJw4BKqBK1u1R//LDChjFBeZFYbonLJqiiwwABx5ONOTwFbPgFbesgMROE9MPCWwofEjOBRoOcIwgBaBiCpLvDtDgDLSAB7ANog7AA1jA5eqlBEbAB84gZOqFBTrRCP4kXXCyDsygDBzvBojIfrBtxkrAB+ZgD6SABkyABDDA6LKvxL5Sz/RMDd2T4hwgLzQgB3CACnxABmQgBCiAniCAjJQOAjJgrWrQQI9goeaTQJcyKvss6hAKtJiANRJABybBF1zhCm4AnpgCKSKgBDKmvh7FU1dAlsxsOD4JDIrHKcjEANTnFUVpRqFgqmDxSyRvCCAQvMLrV5/OZIjNQAd0WMPHKFKACtqID/8cADdGyApIgAFcQ7P08Vf7LLyYcSsqAHVSpqL2QAwq6gd24IhM5ptGbyyjEQMSY7z2jEA9IA3506qSogJGQAfGIBLqoApuoDW+KCkKlZNOIKEabvUazkB9sxMBzgGOEAWYKtBcYAPUKy6kgBfq4RauwAiw696O4woWpmq8BVyc70BwgFF6SnCY65NOQLqWgltU4Fa/QJRSU1e7JKdCkFc/4FfXqlIJ1le7pLwKExaxQA0aYRh3Ey0xwDYGgF4p4AdwsvHapQZUoNGe7ppw72KSraKkYAZezUxLYDmX8AdEQC5ehAEgzKBMJlFHMOocQ+5CoAfG0yeB7VkcoHdeQ1r/GaDj3g8Dfoi8Ygd2VIsKYafhNCrNSGAGuKUAZuAVwAEVcOpWt+DhcIk4SHQLmEAJAqwCZwMHtywnFIamvMBO2GDG7pBbaiBnOG/zBpOWXjIGHs5mr/METTcEeVbQ4AxTQiIPsCd8iI11wWvPns60UMsDyE4DTGAJysIHlK0O5qAipKCixGAGLIAECpQD5KhOhTU4la41CCABEEsKzGAP5uCiNOYCkpAH0nQMRgCFwAgvOE68WsM1tIXtTEYCGEACJLW8csBHwQsFSMAHrKD2NowAFmAMigEc7MAEUHMjb7WAvgcoNIq5sGAJZMM4bsAnlotVckqilOZ/XuYfPPiD/0E4hEV4hEm4hE34hFE4hVV4hVm4hV34hWE4hmV4hmm4hm34hnE4h3V4h3m4h334h4E4iIV4iIm4iI34iJE4iZV4iZm4iZ34iaE4iqV4iqm4iq34irE4i7V4i7m4i734i8E4jMV4jMm4jM34jNE4jdV4jdm4jd34jeE4juV4jum4ju34jvE4j/V4j/m4j/34jwE5kAV5kAm5kA35kBE5kRV5kRm5kR35kSE5kiV5kim5ki35kjE5kzV5kzm5kz35k0E5lEV5lEm5lE35lFE5lVV5lVm5lV35lWE5lmV5lmm5lm35lnE5l3V5l3m5l335l4E5mIV5mIm5mI35mNU4IAEAACH5BAgKAAAALAAAAADgAOAAh/X17tXSoMTHy8nFjcK8sbS3u8K4jbu1j7mxorasn66trKmur6mprLqtkbOrkbWriLasc7WmirCliKiloaykh7ChhKmgjq+bg6eaiKyfeaqbeaucdK6fWquYdaeXdKaWdKeWb6yTNKOprKOkoqGfoKOeiKGZj6OYeKGUg6KUd6OZbqOWbqOVb6OUcKOTZ6GSbqCPbqCPaaGPYJufnpuYj5qUkpuSgJuWcJuRbpuPcZuPZpWZmJWThZWPepGVkpGPgn6WjqeMVp6MZpuMbpqKY6aCZ6GAQZqFapp/RZWLeJaKapaJZZaIXpWFZJV/aZWCVpV4QYyLjIyKgJCKcI6HcoyEeIyEaouAbYx5bI6GYYyBYY+DXI+CVIx+XIt4W417TIxzQoSIiYKDgYB/gIF+dYSDZYN+ZIJ8Z4N8V4B5bYF5X392ZX9zYoJ5UoB1T4BxUYFxRHl+fHh5cnd1cHl1WHdxa3dxX3hxVnhwSHN2cHJyZnJvZHJvVW9xcm9vXGtxa0B6ZpNmOIliLX9rSIFeL3NsXXRlWnRqRHRgOG1saW5sXGxqYGxlX21pSm1mSGxgPmZpa2doW2VkYGNgXl5hYFJhb1taXVNZXmdnTWZjSWVeTWZeOGBfS1peR11ZQFVYSHhSLWRSMlZUVVdTPVFTVU9PUlBQR1BROXdKKGBIKI4wK144JU9LTVFKM1JBKlIwI0hMT0dJTEZHSUFFS0hJPUREQUFCQkNCNj4/RD4+PkE9Mjo8OTw5PT84LkAsIyFVVSxASDc5OSo5PzU2NzU1MTI1NSk1NjEyNzIyMzEyMjIxLjAuLC4vMSgvOikuKSwsLSkrLSwpLCcoKy4qIScoJi4jGiYlIiQnKyQmJiMkKSQlIyMiICAkJyAhIRokKyAgISAcICUdFCMXEBseIhscGhoZGxoWERIYJhUXGhYYFxQVFhUWEg8XDxISERsNExIPDg8QEA8LCwwOEgsMCgsKCwoGBgYMDgYICgUGCAQEBQICCAICAwICABAABgAABgAAAAj/AP8JHEiwoMGDCBMqXMiwocOHECNKnEixosWLGDNq3Mixo8ePIEOKHEmypMmTKFOqXMmypcuXMGPKnEmzps2bOHPq3Mmzp8+fQIMKHUq0qNGjSJMqXcq0qdOnUKNKnUq1qtWrWLNq3cq1q9evYMOKHUu2rNmzaNOqXcu2rdu3cOPKnUu3rt27ePPq3cu3r9+/gAMLHky4sOHDiBMrXsy4sePHkCNLnky5suXLmDNr3sy5s+fPoEOLHk26tOnTqBm/27asNTFiy4jZYsWqVi1lz6yVezZsV7BhvYOpo6euXbp16ZZFkxZt2bPWyIKJ0qMpmrrr6kYUWCBCxIIFotTB/4s3frz4dujRY1eXjlx7cuTAdfv2rZt9bd20YcNGTRo2aNRAIyA0zyTDTDLJUCLKa8ABR4wyxMQiCy7X0HNPQTsIIEAcfYjhwyX55HLPN+PAk0s78tDzz4X/sEMONs7sYg01ytRyCSmklFKKLLEEAw025aRDSTusyPKPOK8Y8oo4vfgzjzrQ3MMPOudsM04zs8ACzDn18PNPMuwIlM8+A81zDBBAVKLmP+PYI9A72rQm52u7uEeOMttoQw040bxGDHC77AKOeu+s0w4yzySaqDTUPCOdHpxQkw52M2zX3XeSpAPPppuSl9566aRTTjnkkEoOffPZd99+/FEToICKKv96YDKSiNLgMH/iSgyPFMoDzz35BItPhhv2EcYOlNiCjSysSChLLsMwI4006jyzKTvtwTMPO/lkg4ss8qwITUHB8FPKmEiaUo04vACT4jf5/PMLLN5UgqaawPzyCzDQ2IPPN+rEc888T15jL778EGONMu+0842cyiiDTDG5jFoOMuDIR050uXRsSy62fNMOPO1cl84wiSpXoHPDTCeKpKGmkyF33inQx8icwrMedjGLOio45IyD6n35sYrNtP3BmvKsyRRT6y7ABfMbrsk0i0szxRFMMDxRaDiGsT5QMg897TxDDnrd4EOmP/lIcw839nEDHzz/QDOLLPSQkw81BOX/Q8o/tQi0DCSUyFJNu/UsworewKjpuJpp6ttMitTU88+f3owjjOO/NIMO1G9a4+drweySC9DdDINNNMx8U0ygpn9syzbXjVxyMrEueqDL0fTsgwAFXKpAHuKRPPLOPftMKjjjNF/fffrxt5+r00qjNDOzIpPMK9DeOsxvxDQ7yzWhojdpOmFoGIaxO9xs4Tf45KNONywKJE0+3DjjjDHjpDPPPte4GzzUNq5/4OMf5bAEPOghDX2IYhaXgAUEvaEPefjjH437xeMq0Qx8lQMXBRFGvoDRQTWdwx7+wIaF7gGPbSDjVr+pRak25qpnfCMYvACZLT6Wi28YrzjqwJ2i/6IRjWcwYxmWqIMlojGqdKCja8HzTgHigB7jVVE97IlZkCzWPHCgSht5MpqrGjUgIyZDe8iY2DB0wYpiNEhqvymGjmbRjPKlpx1iUJ+xZhAHbrSDHNDAzjfq94/76U9/6eBWPtARpHbw4x3P2Ec+gHENWVhCFujAkjRuIYc+zAIY3pDHPfThj3xpcBaOO0fjvNGOYsgDH/dQWzM0+LhfuKmQ4fpHO7SRjAZBzXTfwEY3gpGoZIBjGDncoTKxoR7jqKMYz0AGMxLlKtwlcRLLIMc2VgfF7jCgAFHYRS1ssYtk1Id2PAuVxbg4Di/aJ4yscpWArJco7KGxGPg8BjFKcf8MXwbqN3NsBnq0pq04aMgHe4yDhbSRDXo8CR3wIJNAoMGP/DmDG4nkxzJ4MYYZRIEfcpDGP/axpVrIwhbn8IYwcFELXdTiHJ+0oD02qCZ9eUNyb8MH3f7hjVluSR720Nc5YokNfQikhS984y5s4Z5yDMNVy+jGUm0xTlmY1FXDsAUpLGGJREhCQaUYZ8eSMQk9YNNsTjRoFL8ZBWQ0sz3SSMczuiGNrMICFqWIRS6KIQ1VbSM/RYveq2J1oInlE5/IoIQl3Bg1OAbDEg9sRixi8bFjSKsPGmrfscQwDmw8wxayOBc+0jFSUTLjHvozhjGwlQ9b4KIUpIjFP/QqkH3/DWMbzQDGLHDxOYBhaUv4kIe+fnFCYGRQlaDERzDKsdNmeGNL/7igMIgrD3m4bR/3eIc1ciELWJCCEpT4wx/6kAhIWKJItngdVWXB3liUQhrgQAc6shgtZsiisMUIBjMmsQdNLCMZ4ygHOBJRgLUWwAfCKRl7dlOOZYxjhgGGDzaYIbRuHI1i3c2rLIJhIOxNE3tNY+xvgiGNXJDiGMHIhTi/C4k+jGEHO4hCGKIwhjhcMhiYFYBmd+CDKNTCEu/FhkDK8Y945YMZ/riGaldbonLwAq/H+Ac5mPEPfgADHdQoxzmacQ51jINRsxzuOdJhSnsgd1/3UGlx4eElfjhX/xhuUpE37PGOMY0jXtmlhulOqkxZYOMb2jAdM1DGCx7FAhaxoI00GMlIUeXCiLV4TqKCgQxL9HcZxehGqSxRYG8WYAduxc6o3GPOJsKHRNIIRn24EU/9ltGIzOBwNIeBT1rDkbu2iMX3agGyYJTCN3iFxTGkUQ552IIe9PCbhmawxyiUY2TEfoY68FEOo/5DHyL1xiFZm44nl+K03djSc8fRjTYJoxnj4Ea6wyxUeeQWGPXYsiqbwSZvdBkY5ZhHPNQxQnvcAx3ysPdAxrEPUcJDz7mgbJ+pmotaKLyqzmJvKZxhqCBNipjMsEWBJs0MTtihOhQOGik0xIDuFGAGx/84n8XKPdcHB63C2ggGq1k1LanBysPIyMURQyziYeACGbLoRjGA/r2PscK1liCFsJlRbF7cQ5Sy0JAI2BeFbujMhsxAkc6sPS6LeuMfbC7HNVL8DAQK4xznmK+omiGMY0BjHNoIhzuGS1x1zJsc8nYuAs8hymPogx/ksMc1VlqMWVACEnEIgw98sIMZOH4G7aBGMHKtzKraphawAG17JTRZ91Ljj6Mqzi6kaYtlWA8a+JzEGvyLjG940RYaGoEIvkmCYExq1OTQ9I+ax/v6YCMX1zBazX1EIFgzQ+ffG8YL4Zjf24IjF8gohdTIyQoduhYax+AGPGyRsXJEXQBTP5b/D4rBi2+5Fxn+wAc3IGrdfYyDHd1w06aidX56pAMak5OH5ehhWcs+IxesIAqVYCxA4AOPN3uz9x0MsAAl1x3e5IAiMAKyNwIzQIESSIGPd3AdQ1m2oUyaFwsmxV7thWiJ9gyhsh67cES2gCCYhjuSUAfYZEylEgwkV3IFwAC8EGC4Vw7f4B+81zz2gQ27MD1HIyD5JStphAy4cAy4UDoqtlS/NAzRsF3JQAqB8jGlAFpcdQmK1YWWAF6QoCELwD47IAo3oiO/Rm7KVwqQAAl5IAaKtwMkIHve8R2X8h14mId6uId66IANCIGAGIgOiIEzwGNR0A7bRXlUVVU71F2b/9d5hlYKxXAqQBMqvIAgOsc6uKMMZTUJrJMx3xANNSgCNwgLcrM8qBMgqlI0+zGESQMrx6Bz2nMMtIgM6YULUdNLpVM6u7AMomALzMAKv0FOCmcJl3AJomCMXEUKoiAKlKAhUxSHBliIgcgAf+hN1lhyfLiN3PgdCsCAEzACJGCIYkAGcpAHieBVkwBZovAJ7vgJphCP8ngK8UgL9kgL7bANS6VwVmVVOzQLESeCd0UbpYAMpPIN8FEOu1AgtqA9ycALzFAM/DUJ1JAM8BEfBSAA2bgdseB6QMM8XlRErGZhMyeE0nAN9AQNEYkLzOCQyUCLsjAM3bOLvMALk/dCBf/5DLIwMbmQDKKAPcZ4CbClI6LgXd8FjXEQBYzXeNM4AtaoANk4AeE4AhNQiI1niFIgBuVIBuY4B3qwB3uwCGK5CJFAlmUplnowB3WQBmnAlVVABmuwB34QCZygCZzQCZ3wjvA4CnxpCqNwCoBpCoA5mK2Aj9SwQ5N1UiHYXjsiggKJaJIIaH8mNLYwjIkSDcSEDJKwB5HgDMxQKgKWkRu5AJSQharTDipSDkTUKM8gINTAH7nwasyAej/HDLR4m+nVWFJjkxzWNJbAC8UQC1eYC6WQC8FwjEKZI8y4VVyIlFHAY3+QlmQgBTxgAhOAAAQwAVJAAyZgAj/wlmmwBnX/8JV+4AeKoAiRkJ7qmZ6YEAnt6Z6YEJ+YoAnxmZ6K4Ad2sAd2UAjn6Z6ccJd5qZefwJd/OZiDeY/2mI/rZRv9eHlWxaCJRpRfSAmS8AdjIAZRUAMVyABSGY4TIAYkQAI08JZRMJUjQCwM+E2fdoFzGKIzQAIvGqIySgI1EAViMAeJMAmiUH3EkAsQckaD5nNnJDW7kEMdk1/HUGm7IEexo1W2wAs3onQ6AgtFWQpUipQGuANemQdyMJ00MAEEkJ1X0AM2YAM9QAVXEJ5rYAd2YJ7n+aaK8J7wWZ/yKZ+RcJ74uQZ6Kp5yGaeY8J8AmpcE2pcGCpgISgs8QAPiKIFS/0mVHWqNE5CNCjCpUPmUkyqplZqNDFCiE0ADUlAFYeCoE1ADGZmiBTYDDMCiM7qqHSqVmEqprToBJGACNdBjY1AKh9eGkFAKltAHfRAHX4MMUCOTxIlMxjlNRiRH2nAMvJA+wDMGjDcCcjAHc9Cl26kAGoIASYACJYACNpAEVEAGbKkHetCmcIqe61mn7Fmfd7oI+GkHenoGevqV6GqXeDmg8iiY9KivB4qgNUADcyiqHTqpsUqBNEADPPADUpCVXCmu4wmWYPmVe7CZerAGacCZhRAJEluq1lhgTimBMjoDYZB4wBqiHUoCoqCOcxAHr6AKqmCdshqitFqjkzBo0f+AC6RgC7AVC6KAI9KWC5bQYp2UC3AoBmNwtGMQBpAwC2EQBoCgIQLQIY2Xo5LQpT9gAtgKAALAAxZgASVgA9+ZpmnwsH36putpl/9pl5qgCetqn3tQsVw5tvSanpMwCYEaoO+Yr/x6Cvc4lnQbCXVrn4VgB3VgsWQwB2y6n4rAB3wAp+ZZnm5aCIWwCIxQnvJqB5EAuXawCNh6gyoaoqkKsiQAgS16sqwgCX3ACn0ACS2rCigglTI6s3NgCXLIY7SrlJAwBnLAC88wYZ0ErHHwBzIWB8RLvDUGrGEgApUyRT7QHS3mqzo6BgQAANRrnQlgAQkLnnIrsYoglv25nuD/C754qgdpcAXUCwBpQK+MALh2e5d3KaB565fxeKD2ia7zubb0+Z6KAK9pcLn7WQhueq5+wJ/3ObmLMLhrcAbUIbn8yQgLADx4WAAmML0kUAVSIIejOwMi4AMhylWSEAW0YSuJEAU5QgYmsKo1UANisFWJdl6J0AcryyHvJXm1QBvMeLptKArHIA/zpXbsgQ4ZuSEGKAKxcA9PN186Aw2Q4AM1cL418KniOrYP671+G75WfJZgOQfnCwByoAdiSbd2qwmQxQiMIKB6K4+0YAq0EMDqubackAn1qQiDawZ0rAZskLiPC6eSe597MLiMcMDwKp6TsMeFsAc8oABO+R0F/0ACZYoCPZAEVSC2ZHC1IboMk8AKUZCOkJUINTCtIOqiM1ADJgDCz9AO2AAOspAN2bAn1ZIbrDFGrPkcrfEM8vUNyaAM1rAM1hAO5MAAXjPEpFAy8vWDfZChTlwF4Cme40meY+m96JqeX7yeY5kIfzAHAkC9AlAHdbAIkiAJk6BYydg+BdAHBUAJpkAbtTALttExu0AM+MQM6cm2Z5u/glsHZ1AFZyCvfZzH50rA5lkIkjC4gawHkTC4+FkIJAA8C7gABTAB5/utVYCmUZwGPDADtiAKkiAGO1oKrJAINJrCIet4NSAKqWqNkLCA1iiOcnAqzqAN1jAjNSQNsYIO4/+QDeJUDLHR0r4sAGMQBRp8CdcxzM3DDXPAY9gMxXmQB30gXunYhuCVdD2rI+zFcLjAC77xPcZZfrggCTWWB5I4DLRYDJiYkSIQBtyBcs8QDd2QDK+BG85QOoHmp/g713V6n3VwvuGZuHt8nnwwwIUs0BOrn/B6Bnawv4m7CDOg0IqsAOf7nchMBmfQsOOYVZicwpZ92Zg90sLhQpYgTR6GPdtwcHni0i/tKvqjKDTdDcygDNSwDU+iDSOgIUlZgQr0D9OGD/GDD33gUVGQlVpJCcLgmcdwDfm1V6ywC7FgCXKwCJdQDKKgoxJSmcIQDIjFKM4ADZaAjokAC9lQKpP/Ih6QsD4xVgdSaQntrGftTAyBksbUYAroeb/0zK6K8LZaTL2Hq83MLMfzDZaSy6Z7wAiJO6+N0N93UAc1AMGK7NAAYAJScMmiQAttSQYaWgNIxAtikNkYXgNcpas7sKtABoIk5ipgpA2kbdrOkDLLgA4qyYyysAt/pQyJLQAYqsGQ0A62PSb7kOOQ4Hi+XY6S0Aw/EiTMYJNAawum8AmKZQnBIAmRIArB9A3lcAzloA7aMDLzQDJdlY6xMA5jcw/74CWQsAPeQYozEDa3sJCwswu3YAqRkAjKYJZrW5/yvJ73mZY7QAaWUMOscI+MwAm1QAuikJ6t8AqrsAqu4Aqp/5Doh8AHjZAKhb4KqVAIUiCGilzBCksGPboMtcCVUvCiNWANkyALF57hly0JwNrTAhAFMgatNgoNzWEN2zDaMzIjJ/4cyZDivXGMpXAL1BANtEAsMybmfUBa5YAPXcIP+ZAIjucDXFmOlGAMyUBiscabwUANgG4J3RwMiZAHkCBMJBJyVZ4i85AOosDNizAL3EAwwCIQ9FANj74K9bANtpGCan4LtMAJftCWxEAGkbC27BvGXBW4i6AIeqDNdSAKroAKCq/whaAJauzemDDokJ4KrgDpoXAId9Doj54KdpBHGpngyCwFZBAx0bALXFkDIboD4CAK7wCtTJzCY1CtGf+awolQMS0EAMjAC9IQk9NEIMwA6y+9H9aAkNTgDK1xIMvQCVTwB94webugZ7dgAAMwAFzwnCLwB+QgZffQJcGSCFcZBlwZB88+ZX9mX7NgC3EgCWk8Cdu+C2LAA2KgDcRAAAUwC93NTL7yJFm+CLKQ7g4lUf8wChsvDq5AC7WwpLlwC5ClB9P5A7sgBc/gH/wBDdPyH5SfDaWwCBD7tgi/8Aw/CVCTC4Ke6KSf6KCA8YeQ6FzQBENQBTIwABBwAZV+BWJQBXIQDRmjDNMJo6G8DLKQDmMwwqQeB2H+ojoGY43XIQjCDNgA6zOHktigDtgD1tE+DLfADnP1B6HFCpb/oAkh8P2IcCwiIAfd8A/XkA/1kA/0gA9/AKyQUCuWMAaSUO1S3g7QIAuzMAtiAAlHvghyIAYAEYvGBB/LXq16hYxbOWnt2sGDp45SIj1/ZnGjd+/eP47/eiEChWqVuV60aE2y9EnXLpbBiBE7FgwbNmnYtHWjCQ1bN2nSTC3aE1RPHVGvUB09WmjSLlmyFilqtWpVKleprIJC1MhRqkcFdsxQEEIsBwYLCpCoIkUKmWjRkLGSMmPEiBk7fNyNEmqUjxo15Lyrw3eMLGT6yo1hdowZL17MZjFjhgxaN2vg3l1+Z07cZs7hdg2TxEvUsm2iTFEb5klsCFdyfIiII+0f/7R688hdItVHTp930USJGkMJF7Ni6OAliwUrlphEoiKRkRIl1giC2MwdzCUtXTF4D+21s5QI0qxKuORl7Livna9q1TbPmfTJlDNdt3Ltus8S2a5s12b6x4YaaJ5hBppsTAlqDz0WFMUVpI7aQxJthrElEaisSqUVDEE5BI+tDPEqjLDEEsScYwqYIK21atmFF1miIGGuGXyIAq9WRqnRhzp6maSGKEoR5RJK4uijD0ggoYQSUpjhJg4RAIHyEvc4ozKccKqxBZdswAlHHEM4MeUbajgJQZAyPXktDmf2gYaecqwBJg5IiGQsl1LkoAQYbZ5Bxx5okoMljDz0EEOKH//EYFGWMXYBAggojSlnGHXSUWceiSSBBh10sqFHHnu4CeMSSMAxJ5x36tFFnTBmgETKaib5g5I98pAjmD6yyWamAKmJRppr+ruGlUWAEqrBB1GJUJ1hdkkkklAwTAUpQg455JFUvCiAAQUmMGK1MMJAEbq1liGmFlpmiJEuGr/dhR93xKhxklYmiUKUPv7oI5HcjCyyj2LGqQQAgR2FUhlxQnmDs/bamwWSGWBpJRRMIqHEmV0gKVOsU3wYIY5i9mEGnm3mSSWUMYgshZrfyMhTm0zlYUY5WKKQQw4paJBCl2WioWYXKKH8pRhygplUHXraoUSUaz7+Z9MC+ihAmD7/6LmsHnFuyScMXFaFxBdTtFTmEzKSkVCb/6DZRppseupJ2EQSCYooB1GxChWltiEGnGGfPSraozisFhUnCiBcASRIjCOOAhQoVApEb5HFEhJImAELG6LAvA9+8qkHnCgsgSeXb3JBhh50KNkUmmNWDwYdcyARAAABgPil9trFWQWUKau5MhERBAB+gT446eSTaXa5ZLUQHvFhBjGG8ScYeXJxJRBEREmkFFuGEUUSMZSB5ppr0IG5lEpI8SEOMn7YYbRptiGHmjAoqR2QXb4Jxh514JkHaUnSMcc8rPEHIlViDN6IgzY4Io5pTOMfcYDGyfpQimnUw4KmkEMyEqgN/25g41fYeIY0oMENXMkiEm8DSnN6YRSkKKgOdZhDHRTBt7r9jVpbSQLhFnc4sUyAAYtTkePU8pUZzMAQhsBcvTjijGCEYRzt6IMw5OGDHYjhKzvoww52EAVbxGMUUvsd7Wz3C2dUYxWcsUY0SqEDDkCAAjvwSjOEkQtf2CIYyqvCDkQQBl7gYhakmIU76HaJP9RkGLKQhCYewQthCIMb3BAGK0IRifQZSgy3UIY1yFGNREShFvz4R5YipY5y7G8elIAEPf7Bj1zIIQ7HiMMYeNEHS/yDHNNQBijjgAs5DUkUHHkHJeQwjDg88hpqIwUldiENblwDGtJwyiLeNhRLaP+iFeFACgznsE05+IFvjzCEtA7xBgyAwgbZIhwPBfGNPkQhHNBJYhh8QDkRzMAUohDDtywBys2ZwhW++Ec46kGPUozDG8CgRAiPkYx/mMMawgDaGH/hDXbYQxj3iId7xFCAeooACJWIwg4s0QlTUEIWuMhYCMigxygE4x/GgMUvjLGKW9QOFuv4BjkkUYVBVGMb3KgULnABik9EIQ5p4UQvNGkOX9ShD6LoRRyAF4ZgsEIc6mjHPY50D27sYAFxaAYiRVELOcQiHsSQxSS6cSRexCERxGhVHowBpT8A4w/U0BU0hISLZ2ajG9coxR8EmwfCUoINb1hFNmu2WD1sIlr/4EQE3bBiCDaAogY6LAATxAIKcYziOmyIThLlMoNnlAMb5ECHLMLQh33sgyPacEY+pvGKVpAhD0TyhibicIlYcKMjxjCGN9ahDE9wYhSp2EZrgWEPdz0Di2bR4gw+aopdcOMcuJAGD1WqRx8c46Xe+AUwWAFeb9yDFJYABzKqgQpfmOMb6KCHPv6BhX3wgxVk2MMt3pcZXYSBFKXAQhGKwAAR9GEWjHBHLgoQh3PcYwyQOAatkLEIVuyiD9R4qyTi8Aw58QIW7RjDN/xrCVL8DBD/wQYJn+FMYz4DFvmiiB4SQY9RhEIcLVxszRprlVA8Agx/G8QjNIEKE2D2DNPQ/0UoUGEIkrQitPKcQRjIZ49iDAMe4BhDiP/h2iJ1hBGWGAZjdKGMFX9jHB3xhjZeUY1P7EEUo2jFPDgCC33UgxwcmYUIRPCVBYwBFp+IhT7OEYxugGE1KxWBD85sDHvUThi1M8Y9yGEKQ9xzD+JQIzrwseVZ6IMf6ZACLXrhniuN4hKwsMQevPAEFMAmDt3AwgH1UV9VjYEconAKK2LRh21MQhmW6AMz5DQLZvEjEfiAxKaByw52PLIb/TEGN0bIzG5wAxYyRuGm3+HAfECoZnHQsSfWoQlD+MITkBAFIVShClB4wRALKIsC5OCKSm8DErlQhi5EEYYcmUIX0eAFPf+44Y53yCMRcdhGPjiSiGesUhRxCEYzglEHNtSAF+0gBzg60g1yuGIVg/DCGwZhiHZwpBLnyUcvWJGmOKBjH7ugRClg4YzrqsNMYknDa3xQjn8UIx7hJQWk7/GIahjiFrCIQxhsYYp1wIMjrt1yJHoxjXCU6hHW+MY8LhEHNjwiDWO4RB9Y0Yt4+KMj/1jHMsYaj0TIwhZxsAYrxgpBOUCCFdp4hyzmEQdVcgQf7HCGNq7RzG1s4xjX4AU3tLEYUcl4Ft49+z+OUoeasUyopvAFKjRhjXAYog+vWHfoa3CJZszsB61IcS54UQtWsIEXx4gCI0LhCjKwQh3RMIQm6mH/ikmUghXUIMcuFP6Pb0jiZFHAwipY8Y12pKPk/6iHNXrxiFcQIhBgGIQmcgEPf5y872HQ8w4qwYx6LIIUppBFLeThjXncPARr4NgOeM6MR0ACFoA49S8GvXslweIfu2gFSaCGp+OIdtAvUykVO8uHfbiGMSiSOEgfUcACJwCoyNsFbUgEa+gDO8mDZZCESbCFPoAGI4EEEoiDsYq8f+iGe6gFb2iGZuiFVHjBa1CGVMAFb/AGbkiFWyCfjti0f0iFV/iHeYiYZsDBcvCSUHCHbXiFc3CHV4DC0DsGb5AHbkAGExyHbsgFasACLKgDVgiGcAiFVuiFd4iHZXiEUWiH/1Zgg3CohWRQBobqCG7ghQIQgAJjBWuohcBIgAQAnhr4MVQIBEJAhVawIH2oBH0wh1sYhRnQsz7Yn2UohfQjBmXQB3vQB0JYDfibkW34B2bgh3H4BDw4hXWgOS6phlvYh2/4B1bQBEbYiC3jiGWwhmqYBnEwB3NQhrP7g0QoBEsYAxLAgpA7BFDiCGyoBWz4BkhYBj0gBlH4g2FIBEkIwWCABEmghEmgBTPqhbNzh0f4BGQQn2Zghl4Qn2toBleYQm8Yh17oBXuwh7N7B35IhXCAvmoIBdVBASxgA1qwR4+4hX4QhzUDPVV4BXXgh1cwBEuIg1xIhlyoBVEwBF5YBv964AdfqAd8yId7EIFEeIcYHIRRkIVleAZPzAdVugQ2WLdZ6AMasQEbkAIbQAESEIEfCARBOIpA8AI2wALdy4d8qIadrAt+o4RN0wZbsAQwbId4cAf3U4Pm2YFZGIZhWAZyuA9S0AZvOAd5eIVQqAZ+mIV/8AWcjLx92AZl8IVpqIZcfAeOoAd6SIaAg4ZxgIdBGARCAIVwIBBZgARZeIbfIAY9UIZSSIQKeasNpARLkARR8AUoZA+OSMhUQIT+wMFmOAcjdMFxyAZ2PAd0aIfh+4dt0AQsMIS2bExfaIdrsAZfiIfIqwdDiIZ/cAcsCARVCIQL0ARRAKcxSIRbCIb/WXgGplQGUXCtVXCHfbAH2FkAVsi9aoiHbUiGb/jBf6iFWKiGfjiHWRCFA+tCNmADL0iCGaiCmwQFX2CEOniEQcACKcgFW7kDR1yAKCMFptoDfUkGamgH3gGF1biDVZmBVvLHOegD4HIGZ2BHV0AE39q0XiCEVPCHc5CvfwAgc5iGU4kHc+iIeigHcGCFd/hBT5CCRHi94CCFKEAMu4sFSOCePoicRGCGCUqEXDCFTzBGM0pDccAQdcBBbxifHW2GcTgHzlQHedi0SzwHjgCHceCHd7BFeejMIfwHfKgvjuiFcti0ezCEdXOCURgGc6iHXigCNmCEdsiIXCCFfVA4/2twh3/Qh5YUgSjgSU2ohUmQhVzAhn+gB0bAAlFQh3+wB2RghDzQBER4hEcAhUDAgigYT0K8hT6oA0QAOSyYBEmABHN4jT1CN1bIPltYBmfYhnjIB3pcDTwIAy3KhX+YhG2oB3gALm8whl/Ih2EIUk85h1pFh2p4wVylh2nA0HsIVY6YhlBQpCN6B2KQA7MIA0iwBEgghYODhWz4g1ogBRDsnsjpA2SgpWmshbaETChMhVDFHXvY0fExKB7NBh31BnQY0gj9B7Ojh2+olGVorfDp03/IqvRommuwB2BoBhNIgmrQBWq4hnxQB6vShXeYB37Ihljghde6s3u4BEughP8wMAsBQAFRYIVa2IZykC1QCAViyKlcYIRhCIdUIATrQ1S18AKREAU5qANQaDcnYARs1IQdAIIwcEBcY4ReyAVimIx5AK5NyJhDKNUdsAUo1QhnAC5QqoV8kAdNGIVy0AVWgEdNeEFWSIOj7Yh5mMdVsgpfANtw2LfmWYAdEJJL2JoZsARmSEpWsARRsLBayIIbGAZa+gNL2AUJhQU5qwdfEIezs4dytcz1y9VxuAZggAVYIIVrkIVZiEcJTYecgrpykIdY3LJ9eId93AcevcxsmBwpaIU68D95oIV46IXhswTw64N/KMkhLIU+wAVDwB5iuAW14wV+WIfWtBox0Yb/criFosuHVwCDQEDUH/gBLCCEVRAFMkiDQQgEVyiHXEgaU7DZLBuDWGCGUpgHYkiGa+iGdxAGWtAFd3AHQiBVLbKFfWCEnSkHqNuHcliFbZAHQ3UHUEgFeByDaqiHaMiFeu0I0Iy8HIFPWEjOPoCFeqqES/ABWZC7SSCGPIgFTJgCYugDVJqIfOiDMJCHFOQIf4C6VTq7f/yHdwgFphQHsMVTrCqlWAyHUWhNb2SDIvCEzazVcyCBKKCHfqiG1tqHV/CFKBADW/AHVLuEcYBOW6iHfyiHOMjSaGAGUmiGWUiEbuSHkssHTSkHJXWFV+gFfhgFMIACLzDeH5ACNjAE/8fBgkFwBXpQB0jog1p4O1iQh1njCGmghnrwVHIYmllohfUyAjgoWlnIh1EQh4yKvHwoh3cABVfQh1TwBfxlBXcQBXP4YA7uCFdohU3zh3ZYhm+gB0jAhX+Qh2OQB3VIysixBF74A0nAhT9QBmxMEkqgB4HZAah70Y44FphFBUE42V3GSUEA5qMQwniAh3x4CIhYQ1DQBHBw33JggCyzhGWIh1K+gGrWhRfGB1ewhs6Ug00jh1oohWcIhvQzY0MAPXCQh2boA30gBkNwhWnQOHD4hm/gBs/UhF6QB3jogyrAgiTggSggYxWpgjT4hKOpB7ZdBlnIhhSkBk/QBGXIqf90MAaTeIVAgAJEkKcd8D9ssBpXiDxwsAxUqAYbIANzUAcjpQRD6EZL9sZX+Nt/yIdtsIZ1YOk+SCYlIQVIgIY6sIUksQRLgIZ8uESWBuaiNuqjPmqRsCXX+klVqgd+uFA55IgI7QMeqANy0Id+UIUiEAEyOLtggIVKgIQwEAYqJCV10AZcyAXjAZPNuQd2ZONm2LqYyIZH4gZ5GANRmIdyiAYyMIG+8IEfCKkJsAAeWAtTIIXRxIJEaIZjgsyO4AVdAAZ+9QZ1MAbLNKN4OAdIoCI5IIFa8sSzW9JVcAVReIcj0gR+uMTwWobns9wUnIdRuGaWTkFgOwZLiIVgkJD/RJC7I7kE2aDtf0Dq4UZqkVCPSo48nktBUpilAugFdKhNKIm8dlCHe7BImEZTfnCoZCAGTiiERmgPc0AHtWwHbjhZfsCFDiqHbsiHfeOIZBCDGeiLviABH5mBCcAZVoCEORCFZuDXYrCGFHxivtIGbRiHZvCUetCEe7AoIPABVrgFLEgBQ2CET2ZXX+iHVaqFJIgANnDSX6iUjaTteTgFaWDXszM7Dr4Y/YYEdLiEZ1ASWYjRXQtu4SbuGwfmVZCDDWZpfjDGFOSH9hCHIlAFYCCHeDgV6COEo04FhDgIaoCHXfgEQ7gCXg4HrvSFjAPmXpiFLu9yXJAF2U3Rr6CB/74wgSowBBM4czLOaRWVB37oBx9OQVxIDpmDhVk4h324B3kIA0w8BwikhDmmB1d4gwsFzTtbJVZIADZYBkGrBHqAB40I7nbQhxTvCH/AdEv2DVboA1YOtl2YROPLjWsI7qMwakJEClAAZouGglaHgkA4hE14amP0hRL+h/bgcQ7OPFRYt2wOwlX4h34QBOI1gmEH5iYPh/7ZhmmghUiAA0IQB3T4p3awBmA+2UXAlyKZg9Vqp3qqARvogSRwBDYAdxQogdVKGlk4qFIgNznjh/q6h0qQ9wS+BBNgBH3AB3uohI1AB1gAAki4B3zwB3nIjPZ6B0/giHjoB/DUhH5wB/99iINZMDuoowWW1odKjzxMt/QUhITXjWVcaBXAgoUkufMfRVz5wnfXIl6L5mUcT2qRWDOOiJYkjvkUfIh28OFUWLd98DhfcAVXEHbiHXYjuMkml4q/JQdlGAPxDAdeCAVfUAZTeJYlLy5O0ARPYAQe+IQ6mIH43AEewAAUsAIrOAM1OAEqWITU7YNYYIQkqAJJmAOa7ohnoIg1oLw9QAEUsAenRQeOsIAqIAMN/oetRId48IVtMIc+ZoNR6AVDiINKaAZwoHB7YAd5eOp/2EVLVgd9PTt1QAetZOlSoIQ+EJUxOK/ElZMUnfdLkHd72Ad/wPd7cPlVN+qbPPYmF0L/BwGFfziIaihLmM4HXyCEavCFnXcFT1AGSLgFQwADowYDREgFXLz8fQiGLl0EcegFU2igaYgET0gFMAADTdAEq+cEKi+qBainHaABcPeCdYOCITCB5tgFk+BJoqCFH1+lT4gErcgETsiySgCIc/r++QOGoFKcMP7Onbv3T9m0f/mquQr1ato7dOO8nfNGyR66ZmMSEMj37yRKlNBEbeN3Up4sSZQsLatWLRy6eCZPWupDqU+cS7AgxbJEChLMSpVgXaqkbx/KfYKmUq0aSBCUQFqhCLo6FVWqVK74uUL16t+qVeHqvaOXsty6avH+9VOlqhareLSkhOM0SpyvV54Q/yEa1arVKFqHR3lyhAaOozRgEDViYyTIEySPMmHqrEmNoR0LFszYQSMJKFVvzEwpwaBAlBpS7HwiJysSpqj5+HFaxAcTJ06zkoyp9OtXpTA1mvnwJhFlPleDBvmq53JeN3nC7DE8h86eP3rbRKUs/y9drWXzUJK7dYvWJ8TKvMXtpavdyXF9+iQfIxTSSepMU0490/SyE0pVKWjEVlA4yJUghCCSyiqv+GKOPPHE45I98Lj0TzjunLSPdaGksk5dqvDRhiN82HDIF08YcVkQNSIBRiBgTPYIH2+g4AQXhzDyBRyNGFLjII5o0ogihShiyBlSFLAACTv44MMYdUjhw/8PP9SQQhGGyEEGFigY0oom66VUTyR7/PbJLM5ooglyQMSBhSFhxIFPOim9o0sgiESkjjzr8TOMPfZ440076pxUDj3x4GPeSdTYkgs12jiTjjXE7KLMP/VE44w69JATjjnkTEppSvHYFM80ysyVEiGEgAJKKr5UI8471n2IEj/81LONK6nguus7rujqSy+bIBLKG84iIu2N5lTzyivfiOMGHVoM4kWN4dqoIxyHPHLIG13k8AETbxTSBhhs2FEjHp0Zsge+hWBBQgFT7hAFwD5EIcUPPszAwARyVNGDF2840fBJp9ByUid82HFxNeSsIw4/+vySCyPi9LPMNu+4FA//M9bw08sh9fzjlkP/xPPJSQ4Jm1I7CPopiik969KNNtaYkjFKfZCyKj/d/MqqzOKIU081vmxTnjhR99LsI488GwphcJALBxyIHKIjGGFv8shkoWwSdiiOeBIK3GpvUva5UBjRCJGDEIlIuBy4EMMRW3wBxheDuNGFFkq0EAQSbbDRBRpqrNEEEWag0YUOU1AhRRImLCCAAAXMEAUZZBD8Aw881FADGXOIQQMWoBDyBh8ncaLLP/w0ooYaZZihxhl+0IGHH3HQYMEbeNgwgR+ZeOKJKGTwYKAl5IgzJyedaILJ85w8/8goo2yyiSO+oDQ1P/nkIooln3xyyy7OVJPJ/ygILkIzSuxMzfRJ/Jhjcjhs4jKUwEEQYAMDFJDgoBrRSFxBMIICyQaHtUFhggiEwyMc4Yjxka8RjXDDE8CAhBkVwgtgG0QGn6BCJqjwC2h4g+HU0C0n5CAFXhgEHgrBhhyuwQt44EMj4MCFKxDxCjwIA+hmsIAojCEOiZAewP41h0WQ4QdXMEMZ7sCJf4ADE7f4hzmglIYzXOEMa9hDEmoQhR0AYQckwMAYRhCFOiSCEZaYxC7agQ1sfMMTmiiEJjKhiT0oQhOTmIQmOHGKxmTCC56Y1TdQwgpRcIJ9rLiFM27Bh12wpw+SIAdK5qEm/smsQOGoGihRMiMkjHCEEP8MFytjiYQHshIKZYOMG5DwhUfAgUgaHF8mBOmIDBbuCzMyBBrc0CJHGIIObEhDEtiwBjJcIQ28M4MZjuAEFByhCFiQwxiqkIZxrsEOhTBEIdZAhSko4QhJ0MQ9/KEPeTQjDjsYAyUgIYcoiEEJTICAAQYgUIFu4B8bGEAG/lGGAQQgAAMVaAAQgAAHPMABDTjACTCahS2goQ10sMY7RhEOXwxCC2owgxasUMYyWOEEZeCdFirQgA10AiW9QAkm+EAHOpjhE9ogxymmsAiUnOABJ6BDSujhKFLGox6uaEUAq4Gfk7hyRlZNICsdCEsHgeEQh/AEL8HwiE0MAhGZyNr/Jp4XyGCikxFGKIIUqOCIRsz1DW24QhVKwAYsFDFyWvACYH9UBCek4AIPCChDG+pQgR4gAypgAh+mQY5k1OIZpVKHPuvAEmdgIg09MAENrmAFM+AukBO7hSPuoAYrZKEMPLDABepQCDuowQ6GqEAJLGCHRvBhEYp4Eioe4QV0JQ8Pb5DcIhixBhQsIhKRsAMKMJCDWrgkHKfIBzaogT1TQIMd+aCHNTrxjpOEw4+fMMWv2gEOUv6jV+9xWjXWS1VZ0jeWKpTl4N5grs0EM2uC3N5aA6nBud5BC2+4Q41KcIJeBoEDEEisQyEAgQycwAq+U8NfbeAELMgrDVewwxrW/6AGPGiQD2uoAhWoMAQnsKEX6yjHN7IRDWYwAxzfIAc55LGOU/CBCjboQeK04Ix/YAIPE/sEH55pBQurAQM2GCMZxKCISKRBCrpNJCcmYYhvNcwRb5hTI9XwAQ0oAQ1V2IMnOtEJTjyiC2v5Bwyp8Y5qlMsT27BOPsSRQbcQ2Q+R+MQpIvIPa+zCFANMCVSARZa/mON/KHFQLbGKhMxkpr6Dc4O5zsbBrGWNMIgAQxAevNgKPAAHXQhCEWjQg/0+YjpETIId0lC6NOgwDeascudQYAEMHEELfODDFLRwiEagQQtJSPGKqaAJcbjDGsx4xjOGwQwcr2Md0eAEH6zwg/8kLNkO8uhGKfDACW60IxNuMEMWsqAFNDTBh3i4gxXwkAk7mEC3v76YF8xwBzPYgQ5XmAIW7PCwC1xACF2oZr46w4d6rCMfXRjESd7xhjc4wjCjCMWtHDFA3nJPkC6jhfd8EQ1swAMl/khJPvIRvl5oqEDrgXR9Yw5BCHaVCy6Q8AAMEASweZUOjtivI6YzhCMMYQqFuEMRigDkQZjLEV14gxbKeQUTmKAEV7hD5HRKBRqUAAMouEAKrECHWCehCoWYbRqqUAXOuTMNvQgHOJgxjGDgAhfP2AY4yEENTKAhByjowRSsMAU9dIMctLAGPHJhCVGogQtM0EIXurAFJsj/4MEGeDCEH/pggG5AwhBwgQ5A4ALKc4ELTdgCF77Qhi8wASVIwINE3lF6LsigwRy4PQfM8Y/KGwCxA3DDPzwPgWlg46frIIdkgTUPIFbjHfF4R/K/AIUv6HLS950l5iGwARmkfhCcccRZ0Zo1r/LBq159gzZTcAUt0IF3SX9Yvns0hC0cgXdJoAENzHDght2BD2QgQQ282hF4gQfdgRIYGBokYNElQRI4wRDkQBpITTLwAi7MAinkQuGRwzZkQhvoAAyogIR9AjrYwjYMjzVMwy4UwhSkWxloQRtEDh28QRMc1w84AAVYgRJYARp4wRbQARooQQ6YwZJhgWpdQfup/0H/7QFt1YsmmMKqNILuSYQbtEEb4IG5eNUdrIHLnNQZnMEd8NYovMMpnMsjkEM0aMMzaIInZAIn/Io8HIIbHNooOIr0IYGDQQAHcEEbwMF09CEcuEHyHAL4YUIjdEZnFKAXIOGv/YYhYMERsMEenN0ZYEEHgB0DHtsV2AAVEFEVgM4EJIH+dQFgQQ4GpMATNMERwMAWvKAWnMASFFvi5MAl/hsVJEEh8EIuVCAvUGA0bMM2YMMkdIEVlFM5cQJUwUo8WIM1uEMrqMEUBJ5JsYEZbMETFAETTIEFOEAJmEEitgEPFlsMDIEVJEEO5OAZUEEdkJM52UETuMG75cZJoP/BTeUOHljhr4WfI6zBoLXfh4Ef/YSUVz3CNDwDNdyCHahNK5xEPazH+IQDSvTJP3yBRE4k4UxkG0xc8qBBPdbjz22kFXrVt7xBIzwCb/2aGngBG6SkFziBExBc2V1BLfbAD5ARXk0AAZhAEpSTF/BVGbCBFQydF9iADbAfhp2AEiDOkuVADvRAEhxB9tkBKyADOEwlOESDMkaDKcCbFdSWz/3cuTgCHgCiFyTOEmTB02GYDFSjDJxANlIAEvIOYLnBEoQjCpgAD4gTTJ4BhiHhHdwBFejbHfSAmtzBxPzDKJQBHfTfGvSfB4mBGCyCEKKADZwBG9BBJsBKPR7CKJT/nC5kQih4gi5Mgytsgu6dQig45ElMFR7AQVhi5B3sFGzCphb0JR9s5BR2VD2+QbF5ASBOnBUOwhsAlhdUYxFEQANcwI80AQzIohm8GgEIwATYgGixZBmtwRWYow1YgHReQQ84GUxWQRL0AECpgNoxpRT0QB34gjtUZTYwQznEgzvoAht4gTNdgRok4AuuohvsZ7EpgX8uQRegmwtUIwiwZQJYQBqkYxqI2B00AaqdQBIEW+SJHeLcQT02qEa+wQ0Uphvgzj/YgX4m2X3SQSOcAj/wow3wgK3xwQ18QidkQiMEUyi8gznATSvcwiGEwjxmzSmgxDqcxK81SSHwwW81/0liXkz7LYEaCMCqhSUOuaPhjCUOpIAGwMARNIEodkETfAAMJF3SGWcDOEAKEAEMcCkQKoENKIAAWMAJQN4RHIEVmJQVHIESXAEKlEAOLFkSYEAPlFEbDIAKyGQPoFh48kCXaEJ8lcM1MAM30EM/VAMZhNgaSMEZjFYX8o4aZMEUlEEZ+GcWLJnmqMARCIELlIADJAAGJNNFtoEeMgEREEEKoAAK5EAXtKAPQs5GumBt4oAp/MM80EFubIO+Xehr1iMdlIE1YIIaUEEP9AAV2AEmHAIxWMP4ZI2JVEM/uIKFpMImoMTZcMKq8JkfjOvFyJAd6AG61sEeJMIe1MEVkP8BAJiABwFRIwhhDHqjFmjBlQ5n4QTnq3opCBTBBYRpBQhBDMCAld6LDQgAABCABJRjKqZA4F3BEWSBHdTiJziCFqQABWDA0D3YA3hdCthAdFlACdxpD9ACPuwDOgzDMPCCPsSDKUhBCZSBFIyRhVEBp8IkGYyJGMRVGYnW6D2BDOhaAqDAGkjj76gBFe5nElgAAljAFLxpG0zhG+ynG0BeR93AFv3DGmgCGJ2BR1ohiW3QNEyDHZxBD6BAFSyCJ2wCO5jD255NWKxC3b7CKoQCSrTCKZxCzKDE2eHLHujBbxWCEgquDl1BFAgAD9AVHphBD4wYcLaBpJ6UvJydarH/5MN46QVEgANEAAhswAa4QBMMwY8BAABYQAokjwzmwDNqgQNaAcnmgBO0ogRIQAo8YAUcAGNRwO2abNeVwBngWKwQg6y8gzYoAjahAGtlARqomxYIIaj2gA2UY4pNgd/4TW5FZznJ0ElhWPv1AAkowAQw5RGYgRmJ2BkEWZxaQSSQQz2YA83wxs9t0LlYYRswgRtEztOW7261QbU6jyegQlrc7SuEwnW8rSdEUkrUFpKiQWJWJuT44PMqAepOQCMcAh4MwhHaJzZ1oRJs2F8BlhYsgcEWAcIWQQdIgAWobgakwAEmAQrQAMOuKTQewddVQGE9bAocgQZcQAUQXAVE/wARP0ADHDHvBoABZAAGYAAFUIANvK8y3EIr0MIyLIMt3IISwMAJlKNZNoGnNkETLAEZL4ESiPESEAHucYCpiilKaYHvoJTzcucECMBNalg1lZMd1MEaOME5/o4nVEMvjAInKEM1mAMmRIIhCNIhNoLPWQwJCIACVIEicOC0pNXzUIjdIkKFvAIeGMowZcIonQTkIU4WMMEWbEHkpTIrg3ENoO508GEbpLJEuioOwMALsEAMvADCDgEMtEAvs6QKR0A2nkAGVIAGyGoLo64ARMAFaAA0V0AFUEA2OoBQZqdQNvGpJsARSxQCHHEDIMABBJRDZQExmMNIuYIrKAM50P+DOHjCEXQAL5fZFuDAEmhBFijBFNTQDfRzP7eA523ADZxqm+arQWup5OWABUyAdCFsE0TvfXLjQ08BFtEBCqkBH5wNH2xPJGhCR3NCTu3WHaSBCRDABJCBH2BCGXBCMGFCIoVChaSCI8T0HeCO7uBBI3DCof2DuqXyGC9BE2SBGDMBGuvAC2AA6hJBE7CQEBjsqxKBEAxBDMSADnBU6UK1wcaAC4geCECA5zpABfReOCMAARAA6gJABFRABnRsC7f1BNBAXaruCZxAYUWABBhnAiTABJgACbTwyc6wDUChtbyCOn/DnPWCIxABCAyBEuBAKsOADhB1GSuBGZ+xEhD/QUBnwKlSgOumgAPMNQ7gQD/H6nOyaQ7cADQizpsKnhUwwR66gRKYAdgkYoAyplfhgUfxQRW8BgmQgRqMq0cbQkdjAkwf8Bukwisgwhlw0j+Iwh74wZR9woekW1BnQVlugVleDhpg9xC8gAUAgADcAOV0wUalMhPowMFOtXr/TQusAAiAQAfEN3zHNzQ3QFl7s0Qx7DcT8e3atV1/bgqkwAlIgNdJJg9QXQs7gII7wEK3taz2gCmYwzYEhrKkw7WkggqoAAwcGxV0oUqJ1pKBqhI8YA6wgOepgASEswbowBLgwAHcgA5ATke1wRCUtga4bjnqs1JGaD8bJeLkgBbs/+doEZEZWGGMngJjOIIVqCkCJMEZ7FQyAWI9PkJaPIIngMIqbEImgAo/+EJwjMIp9EIqDQER6EBov0Bo50BorzkO+GcPgA4GnEAMEIF6qzfCxsAKvEALtMAH7LkHxHd8e4AHZACha0AHRAAB4Heioy4BNIBdSzOkt/UPkGwE/LAGeEDnSsAQg3MDPICnPwChZ4ASKAM7CDK2TMNgh4KxnYABNNQAyAATDEG6tTgOmDkQpkANPYCEqYDR0sAm9oADUMFWuqM3LoEFEEAJcPYUhPaI58AQ4DoOPOCMK8EWuIFOrUEa6IEf9N8RxqkZ2MBzFoAN6OB+4kDgvdRxr4InhP9DJ7TCNmyCibQCj+ABWvkCP7RDWfonZatbPt/yL7/AC6yABIBOlQoBEeQyn+/5B3jACmzAe3uAocN3qItuB2xAoWfAA9y3RJX1WTuAZEbXE3v6OHt675X8ATSAAZz8A6g8p9v1D5fBPKTDPISDKzxC81HEIYS2BnzACeDAERDBQbn6CTBlim3OD/SAET+AB2RjAvQ8EJZAD4wW76wBGZk1qgKe5kzBDSilf0Y7DlShG1hBJpxCI3DqFFTvuq1qlKuBAqCuBdinhSbBNTMgTPPBPKwDPPhCsVQrWrVCWCSkGnTBiA/BEJCxEpg5wO/5nmtAOF+AoHMpZC+BB/K5oFf//J93QOiKrsO/N6EfVu9p/MbXsKM7uucesUWRPhFDMzR3rgc4M5hy+hGnNR10gneFAx3cwCmEQziwwybgAAvwueoPgQ4Ivw7ogAc8QGJBgIZrgAGUtQScagPwKQMupc7+DvpeAeomwMnOtYArmLNSARnoASY4AhKWwbhaDBlUwbYh4U71DhpocA2XgAvW4xTMsAn0gBhIQjnkQy2Akjj8A0C4SuXqkSNHrVz1UtbrHZMlRGIMGRIDh44XLF7ggAFDB44PFSrcULECxIYNECA8eGDgAcoMG0CQBAFChYoMIE+gsLETRQQCCIAGJSCAQIMIRyVIiOCAqdGjESqc0JBB/wPUpw2wYn0gAaSGKebwOTuV5YYja9rYnfKo4UOKDy2UMGGyZQuTFyfwpnih4kAAvwEgSHDQ4ILUkR8+6FiShUmWJgAASNCQokdlKmnMlLmimQoZO2fOWDFDh46aK0lyTCmj5oyeRIkuWTKUALICMXr48KHCgweNH+T2/fs3z5y4UcL58Yu36dGmgQKrDUCJUmWFlzF0ZCdCpCPejBsz6iDChIiQFzNXfNCg4USPH0lQoMDAfv3UDD5/Bm2AgEDRq0iVekopkEC6gCsCJbjggvrYSyGFTNihxZlMcDjhhk3CYWcUJWKAIYYXWsChibm24GKLFOo7IYUccjihL+kM+P9rgA1WgMGtG7LLbgjIHLCijB5UTAEvC28oUgk3BnlDNDWYlEIKMfqApA85xiAjDTuwPAMyEsqgAw83eijBAh6qSOefffL5Bx9RIsFkHuH24QMPRDaps84utuAApfKGUKKJPpdQArwUUEhhoxYQawsHFm1IwtEe4kuh0Z1siK9QDCio4IIKEugPgQSCQkAAAbI6iqnBsCLwAqo88IBBBhHbSD327ujEmXD4uGEyPjJkxxOLYHjhrfHkYqIJFNc7oYUXUsjAgJ8eGMyBCjQ4aYAApGOijUwwQQOyBrhidUgccLghBxhw6OKLNrJAgw9NJpmjCirQ2KLcHHqwQQk02qD/QwAAEjADDz7uqIKHGqSoIg525DmTn3rcwMMVXZRZ5hA87LSTDjSysOIGlDgYIju5hIBBvQwcKOGERpOoAjUWcTBUSMTqm3W9DDI4YQP2pKKgvwSABlpUAYJOIAIJKCiBKrxopqoDEGyeagOqNGihhVZdneIWdqZRA1EWtNBlHnx0WeIDD0DEjrscWQDB6hDJTaGBnyhAVaceymgEjSlu2GCAa7EFwAGqW1Wvg7aKvKGHOiaZhAor+O0CNSW0WCIFMS2wIAcv0PAWAAWscMMNNX6IYowxfpCCElvkgGR1NQ4RxxVEDhH9kEMeOcSRQ7qofIklmsiCC5S40MKKKTqr/6IGBRJwMIUWHByJhbdYaGEqVz/IQD2Tnu7AA+twvok/ofgjKoIGT8jBUht4SLiKKihFAS/2sMYesVY16CCLeti5pYxEp9AJcvBjHqMwww1m4oGZsIAFMYhB22LQBPHEQAg54A8BSmCDH9gASOYqQxY+WAYRlkEJOvDLtaQDgamVgAdkkIMUbHCDLvCLLm1ogxZSMIQmdMELORCTAyyAAi2IDgUAEEAiPjGJNeSrB1M4SDg80Ypt6MIRnnBFKAZysUMggot1egQaeqcFM5iBDWsgwxQgIB0lKGEJ6hOADcjIhjt0QQl9GoJb3uaBDXRgavmbWgY60L2pWGdu+QHKfv9+Yp2psAUvDERUWz6goiHphFJOStgld3IDMxCDHNUow5DSMAldkGMd/RiFGmIAgvV8QCJKgAgFlyCEJlghC3woAVAoIJhp3aQCG7AQdnJ0AZUkJQMcPAHgBqCCIqXgBkugSxd2yAUuwIAITaimD4FIgx5YYRKimAQAJnCH23lhCklwghPW0AtPeGITvbgiHg4BBzggAg54aE7GHmGHNWihd3jawhO2MCIXoEQGRLiLh4SwNh0A009b0IIXBlGQO6jBCjZwUCA70AIQeCCQGihkqASTAMl4z1Wsmsrb3KIiF8zkbDN5GktZAAPo4YUP8VjGMvaAgvZFQhm0MMUy6kH/j2kUAkgNGgK5bjAFNfBBDVnQgQs28CwEoKoBICFmBkayAhXgxQEEIIEPajABClAgfOB7AAo58IUvuKENtzsEHe7QOTRYoQQ1CEMcqjAFLnyhCwCogRfcAAc0DMGcTtACnR7hClf4IhWICEXt4NAGNODuEGX4QRlMYUN/zqVYTHjCE0akJwjIoEbU3M5CiUAXujxhO9xZwhBkSjO2DIEJnHuDGlDwKQeACgESsEBRFHmCD2yUpG/7GkZApFG3gYAFK7CaAjeqRz6QIx7i0EQJkmYHakyjF8SwhSVqUQxLiMEEOyCDH+hQhvfBkIM6kMr4qKqSCGxFA0X6gRjiEAYH/yCgAdUhkHVAEr4MrKAJMkjj32TwBBicgAdjiAMPLKAyvChBnI/wwxoywc5NcCwLWtjCF+BQIrWqta20w8MNyCSLeFDxEGjgAom24M/Vgraa25lOQVvbBC5sljwQucjZWjWTDSiwVSapwPhCNTcB/OAMd7jDFayQA+cN4Xc6kKkHprcs5SImgd7b6ExOQIZJMKMfrXDEioigCXO8Yx312Aea4EELHjjgqkNWQSSLlBP+KMAEmfMzEH8wBh+UYAM2qcBgHkCgm6iElwRSARFkwARpfgENdijDgVV4FAqw5QVDcAMY4OAGKwBWdFvIwqnbZUM3HGIToQgFHnRQghJMYv8btwjslxDxiMCaSLVNeIhnA9qEETVBCTnQwYE5IIQYtFbZyn6BA0H0AmnHgI8bcMFKQSCsuYUKARHQLaJWIO1FrRF4TdACHfjQCIJpQcp6Uc8JsAaiD3ioCVDKxjvCYYgc3AAQxogEHzp3Cn6ciRMWoPMFPnAeBbatuSvIgKeYMoEd+MACY00akHIiaxP84Ac8iM8JboKzsRJIA0zQgh4oAYk4mIEuTNCBCkoynb+pkAldsOGpuWDDLSx7CZx1eRbqxgNOuBMO0rRhG760iVMgwQhP4GxAfzeiWG5nCTDQwAWW9YIVHFgGI2ICBYWQ7WcrG+xQBQG2Y7AzJB9yMhj/UFa0EYXlt70l7onistt0oAQrtOEOjlC3aa4wiWOUIhfoMEVm0I0DDXhACX7oRThc0QiDZ0pqOTuBCtiDYgWIYAK7TYBT+vuADOjxjxU4EC8zQIGtJM0GT7prHKZQos+ylmQlqYBWkJaBs2ILAkH4AhgCu4WLtAAGWRATD0Rhjl7g4QtIAPETQK3WiN2Oh0w3QhAgIp4mqJazFhHuszsUg4FKB8fNFkLYZ+K2qVl77OdfO39N7wAK0P2RDZR2com/rGCZjLnLogi5QkQ1/KATiEEbyoEbsiEZJkERNEETMoEOfCQSbqER7iAFdisp1sOXpoAM4iC/fuAE+CMrGmBw/wgk0QCpAyrgARrgAMClAnJJ5FhoDMJgBoiJCD5rxJxuO9JO93AvUzJACFyJMTjgb2buAaYqD8hhGg7hC55AreBAEAQBDsBgCuWJreaEX85ADf7JCIyACa6ADHwkC6ZgCbKDQyhI/B4II1xABkRrtKxMCIbg/LbjPECgteQiBvYDAQ4AKA4AJKqqetLPbSiotU4roahObQKlXdTNDCSCRW5ADcAhHeBhHtShE9TADe7gDTTxDtLtEJ6MBnhADP5AEQqhDsgAytZICXSlPw7AAQ7gAFRCvkRPBUximBzABCmABsSAvFRPwF5CLpzOs+SitVxgBVIQabiCK3RgtbZgCf9wgAISYEyygAghYK+aEAqmMBtHDMRCrA3cgF9MpFieIARCAAlMRAypgAqqgAzYkR3zqgfYiI3IgwlU4G84YNkIkQ4/JNs2atuwgr9u4nzK40Ma6PwcyCDJTjyWoAz4ABMwQQ2UAAcyAkRWYAVwIAsAARBIIRRe4R3EYRCyoFwU0pm2wAquIA7GgAQmoARSIAYQpQWM7XeWYD8sIAmowAYiDLtUMNEWTwZUgAIsYAbCIAxMQAISzTo2ACRiUSViQC5kQAiKhQueQAhcQAUO7b9AQglCkgIQYAYWIRx8AQ06pAWU5QmGhwg5ABvBQK326gukiQi4AA7GSAvC0ViIIAj/yPGziqUjKgIHhiAHlGAKpuAKriAN6qAO9qAO0kALDID8zk8HNKopt2A7vm4PRfB8sGcQh40Iqm4jKGII6EDdyoBcKsKB1EbYAsVPyiAOgOETAOEXNOELjKADVEAGlmADE0EOxMAKiE0DMmfTNsJDCDEGnoUA6GwwqIUqkGYKzoARMGES5IAMaAAFsGusFi1ajCLAKuAFOksunumpHM70MmWsfmIGLKEaekENfgcHYkC4cKA89FIIrHEIZ84sJ40bTUTvzmANEHMP9uAMjCAEjEAG8k4ro86axPGz/knYHEJk9ORvcqAKpKAd88qHgkJoHAAxDIWC5MLXzq0h+aAM/6YAB5oL/ISg50hk+8JojZpANSzsD3ahFVaBEOpAN5PgBRZKB+SiIzRgvxpAAxLIBQ5S/A6gP25xMCQABdwjDMZACnpA61bggXwJ5MbqBKyADhyBD9YgCeaHWuqis8rj5WoCZTqFABRACizhE8xgMYQNog7BC86GBcTjs4hgDYOgCUdMmsZPOpCg6KSpLk0tC0oECQTUDNLgUOegRgnTUbSyCxyVPEzzIJXNb6RDBVrAIl/rBIBmAiaABEigBlLHSXvgCiKBE9xgCRooOxxoPIKNVVWrLmRSZPLOGW9ACjowEa4gCDggJs5uBYrx2lJpBU7A24xi9F5iDakSBD7KAf9GYOIGzfQC7CW4JyYq0gMy4OxcIOzso4FiQgf4CQ9CQbFCoQsyoEgJYALigBQioQfWgnIc1QvagC7cS0UaiAmC4CmbcPZw0CzdEsQkzUR4DU+275+2gFCxbxgpkwiOYAimwAqwoDANMw1OsQduoAVqIkpbANNcAAdaQAL4MCgsgA4wwQymAEeTQAocDCXZ8Qr4BgfKTep8jQz5MjA7ow/GIArYtSp1QMiGzCRKIv1g4nu8bVoArAOuDUd7YAREYAZIwAIkABafYr4yoG1mYqVgYg1l4NqwrQU6AGeC9uxkIGxl4AW6qiv94BYwwaLyRWkyYEUiskKWoGJ1AEXwwgX/hNEGZ68tp9At90p0mO9PpelVO4scse+VqFJIDzJrz+NisyMHkmAnxIBKyKAKrmAJ0ggCMiABSqAHTABoJMBVNIAFzi9sBzI7AoWwTlYMTicOxEAKOk6DxqAPwmA6L89rtfbahCBsD/fawhbbQMD0sOJoXPAGrkAO+iAOpKBsVfAVo3U96jAGsvbaqLUqtSopjRVnjDbcPsQIESAKaqEeRkEkhPQvWSQH/kSSlCDhjkoFKuQENAIqgwAYkQAJoIAt6eJ3tEWe4EA4+Ld//fd/ATiABXiACbiADfiAETiBFXiBGbiBHfiBITiCJXiCKbiCLfiCMTiDNXiDObiDPfiDy0E4hEV4hEm4hE34hFE4hVV4hVm4hV34hWE4hmV4hmm4hm34hnE4h3V4h3m4h334h4E4iIV4iIm4iI34iJE4iZV4iZm4iZ34iaE4iqV4iqm4iq34irE4i7V4i7m4i734i8E4jMV4jMm4jM34jNE4jdV4jdm4jd34jeE4juV4jum4ju34jvE4j/V4j/m4j/34jwE5kAV5kAm5kA35kBE5kRV5kRm5kR35kSE5kiV5kim5ki35kjE5kzV5kzm5kz35k0E5lEV5lEkZiQMCACH5BAgKAAAALAAAAADgAOAAh////+Tl2tLNncTHtbe5uq62ucK6k7q1k7avnbWqmKmvs6iop7mugreph7Coiq+od7SkhbCjhqijmaujg62ehKeeh6yagaWZhK6gdaifcqmZeaiacKaWd6eTdaaUbKGoraCgmZ6dnaGbgJ6Xj5+Xf6CWdqCWa5+SfKCRb52Odp+ObqCQap6Nap6OZp6OWpeenpeXk5eUkZiScpeOhZeOdJiNapiMYJGYmZGRiJGNjJKMcI2Sj4yMg4mPkGuTiJyJbZSIb4+IfpCHbYmJiIeFhYmHdImDcZuJY5iJY5iGYpmHXpmGRZOHY4uFY5CFXZCEUZWBZo2BaIqBbYaBeoaAZ459ZZB1ZoV9Z4V2ZZKAWIh+WIx+UJN/K452U451LoV1SX6EjH+Ce31+gH59bnx6eH56ant2bXtya399W395Wn53WH11Xn11TnxyW3tuWHxvTX1vN3V8f3V3c3R1b3RzcnVzYXNva3NvXnRuVXVuSG9zcm5vZG5sZ25sWGpwcmlsaUh0cINnRXNnTW1oYW1nRWZnbWZmYmdmWGdlSIFeQ4JOQGxgRGxNOWVgWWVgRGVaPWVKNF9lb19iYFxdY1tcXGBgUl1cU15dTF5cP1lYW1lXVFlXS1xXOFlSS1xRJltFLVNZWlNUUFFSVFJSRVBPT1BMTVBNQlFLK0pQTUpKR0lIQ0VMSkZHRSxdUydMTUdFRUFERUZAQz9AQkRCOklDJUQ8OEk8Hz1ARTs8Pzs9NTo5Njc8QDc5NSI+Q14yJ24fIkE0KkAlIjY2ODY1MDYxLTYmITI0ODEzMzEyMTEyKC4uMC4uKC4rKS8gHigvOSksNCksKyUoMigoKScqJCYnJSQmJiYlICUjJSIjJSAiJSMiHSEfIiIfGiMYFxksLhkjKR4fHhkfIhwcHhsbGRYbHRkZGhYYGhcWGRgXExgUERIWHhIVFhQUEw8UEhESFBEPFBEQEBEPDAsPFQsNDwoNCgoLCgwICggICQYICAYFBgIFDwIDBAICAhUABgAABQAAAAj/AP8JHEiwoMGDCBMqXMiwocOHECNKnEixosWLGDNq3Mixo8ePIEOKHEmypMmTKFOqXMmypcuXMGPKnEmzps2bOHPq3Mmzp8+fQIMKHUq0qNGjSJMqXcq0qdOnUKNKnUq1qtWrWLNq3cq1q9evYMOKHUu2rNmzaNOqXcu2rdu3cOPKnUu3rt27ePPq3cu3r9+/gAMLHky4sOHDiBMrXsy4sePHkCNLnky5suXLmDNr3sy5s+fPoEOLHk26tOnTqBmDu2Zt2SxVs2YREwdPGSUyOULohkFED6lq8+jRgzcPHnHj8N65Y8ec+brn5sqVGyeuOrht17dhy4atmnfv0qRB/xsPDRkuWLBY4Tp2zJh7YbjiC4Mmjl6+ff7wkRLz4sOHG0TIUQgoyogDTjngHFjOPPXkc0897qwDDjbgoAOPO+AcAwsqoogCCiiTZEJJJpmIUgorsdSSiiq1pHgNNthYd84545BDHD8D8UPPg/Pk488/+9wzzzbfRPONOvrIY85zNhY3zz3lfONMNKD4IcYQN9zQQxySyNLjPvbc008/3ZTZTTDBNHONNM9kU40011GDzGuxLSMOO9DclttuRNBBCjXEFYecOxcmtxxzMz53jjnRUVedONtECiN31VBDzZviQaPMpsfIkp567wkjany4CPPMNu48ic89ooDR339EiP+hhySr4KILeuspIw2MCVZHzjrmjDNOOdWQhw2q7bSzzz4GKiMLMs0Ug2YwvhQTaTXSUZNNNLdMEkkcPgDiyjf7rCqkP/j54888t3zrQ7it9PIOPvsUxI86RVYJxg0vaOkHJbjcw08+x1WXzsH9pLONNEaGQw45CcoZy4qzLAOOO9BkIseeIcAwBB2aSOMkcsm9Y5xyzc0oHaPCWpedpNV09x145GmKDHy62HqMqMLsTOoubZ7DTjvzzAMKf/7dAIaAolQDrDnimHPOOvPsM88764jzTTjfVONw1tIoY4wy1ZiTbL0C1XPPPfCMs00tLcYiDDXH6LrLLa4AAsi74er/Le4uxkCzzTjnwJNPPLvo3bcru4R3DTjs9EjQPrtEsm+/Q8jRJTsPXljcNgaWgw056oQTjjzuTA2ONnRPDBsxkOe5sW4df5yJMsMJipxy7vSO6IznrDydy5FuQ+nMmNasDDI+x6cLz6LmLMstgGcjdLLmHP3qDUPE4QeB7sgzTzvE3eNjkPOQ88003njzNTiajo3NOu1QfQ93ysxHjTAeTgLKKsYAXHii4Yy87Y1vfnNFL6pBjnmUAxrHuMUqQOE3va1iF8SQhjjiEQ98+Ggg+GgXGHaQpSH8Sxf1+JH5lkWQe7ijdEdyBzrEUYpUrIIUmtDEJkrxLGYIQxJi2AHt/zxGBkrwwm3KwIUsZCEMOLEjQusQ2hNVJh3qJOhl2LjGNZD3Jk1talPIYF7PjrEe6AnDU7DAhTGwtagIgcJV/nnBlr6ni6iJ4xyEss8/HOQOrrXPG98gR7LWQQ5GmYM4SwqHMeKDnl3AQhTeKkQkRNGLI6mjFwasICBa4QpX3CIa5pDHP/BxyU5WMF7fkMdz3FEPfOCjaLBUxyr8cDnu+SETAUMXvfKRD3wIZB/yCIczeuGMZzgsHNqwhjTmpApVsAIZ1hiHNDKBG9qFIAdkkAQvLNQ7qYFDWNIpxzaggQtRkAIVz3rcOK6YnSxukYvi+SIYhfEKVrwiFWWMni5k8f8KWNyiieUgTj7msZ9XydF7oEAGHvHYO3fQI0j06OMft/awagiDFUuUBTbMAQ5zRGORuADcM4yxRPTcYkpH8gYmXfEhCuqNk4wTh/hGeclWaNIVzjhdquoxuVW1IxyoKMS+skSEf8liSb0D1jpYaTV8EdBI6miHOl5UDWW85nXYIJbGOAYDbHapHA2dUXXCSUUDFc+s10iiLEpBilfgAhnhCQ80xBM2MIaReUrk5/NCpURWrMKft3gFKTqUikIMwaA9EIOs/kAJSVAiFccwRz0mW5xzhOOPgAwH/M7YswKtg4C9kOAtJNihVwwDGs9whjPaN8xOutYVrYhtJ4mZjUL/rkNKCqyklHrRi2icjkFoAxI+5KGO4t4CiD3IEhj+JYx3vKNo7xAfvf4xD3W0D6qqVId36HbVWQwjq9fQhByGMMQdkMEQuChHc5hTDgOBQxzhFOd2tiipbVxjruOJa101RZ4w9swYx0DG8nYmKvbk7DysSEUqSrGKVaCCFBAuxR96EII4JlYPk8BF1JZUtGXlox7zkOhENUtOWOgicFHzWjaeoYyPjvavyhgmb//IW9621rW98IZqj/QcfOn4Gy/8ho6nFI6oSRfEWcOOOFYhiTgk9wZiGBAuzmGyJ8rjHr6kbvq+UVt3RLcd2xXGVVVBjG2IU7zkBUHHdiAG9BYO/1EIShDowgkp7tDXvlmMp67iuqnxKMNm7EEGgMdDjfveDD5KRI+CSwELYWzUHE98xyqQ9gE5ymoSwliUOcgxtXmYi23q+2MhyWFRWagRGtkIxzOiQUCGsToaz9DULjrJyRrLuH01zrE6WB0OdYTPx0eaB+pUKY92yIMeRKMXPpAtju5kYxWGcPIN2OyHScBCHIRiBx7F96MgBbOQzxUfNqgBDWGowhTNRMaBtiGK8b5gAbphsyFkoV44Z6dX1XFbNigVqXdmimxdBCN7Ajzg9hhDwDaLXnwyugq/wsIY0cAOHt/BijggVgxymMQuHnXHdTwXlu4I9daS5Q5xhM1S1f8Ah5C3Fo5sFKmYq8bGSF+bWxtHg5jRyGz7uLZprn0j2OsoLqHmEQ/UPWltkzWO+HDRZDD0oAfLlcRvxnMeUjTWEH/QQxyIQIQdwCBLMIDBuJWhi3PDRt3ibPdhaSdvWYxjvexwL3aGV2c3VWPf7/SzrsgjcAILI1SdnSep8ioLVvgTcM3jpyQobGExxGFWHiIFLI5RW6hhO0JLasdw4EGOJKbxGCnfxm/fcQ5yQOPgwtjUMNRo4ykR0BnbUu1IjXELUUSCD3QQw9Nv4B8F+L4ABFBAAQrge9/7J44v6NcOdjAEMMTh+XEIYpb4lXx+Tf/6yU9+CF4QHmToQsGw+S7/gkhBB/LCOwQxEMMfUkFW6UAKRkpe54RmJrO69rm/YgR8zgoMvcEvHBY35CEdMoAdoge853svsANgAAZi4AeSYAiFUAiGYAiSUAh+oHVDkANeBwMVtgAL8AHFJ3wiKHzDV4ImWIIEcIInSIIqCHwpmIItaILGh3wvMAR6cDv8sA/lAAuSIAckdH1AmH03EHZfN4QwgF9lRzHIkFXgQH7mxyd/wAoKQmfZUDzYkSAyw0V8hww10x6iAmAAZkb9VyrCoAsHVnirIIAESCIGCIIK8B8klH3H54FuqAAe6HsLEIIsGIMn+IIEAIN/yIfEJ4iDaHwfuH1DuAM9MARhQAZk/6AHf0CBmcAKulAN8MAO1cAKlOCDjDgGczAHZjAFYTAGY2AHg1AJlXAJm7AJo2AK6KYKqRAKm2AJlnAIeyAHckAG4xUDuuGBuwEDzHdeqaAM5TAjE1Jo1kAN9rUmlpKMlgINzLAMy/Bn0CCN7OEeA2cMX/h32vh3ZRhGfld4qTCAJFKOoKAHO+CGIaAlywcDapaHHhiP8agbIKBm9Ug7LxB2MRADOIADOcB1RBAGjdiIuigHnzgHdvCJYzAFQcCQYWAGdlAHdTAIfXAIg3AIh9AIjYCKqXgJHqmKH7mKqzgKJFmSpuBdzCAOz7UNsKAJksAHhlCLdVAGZbAGdXAIiP/QkazICa3oiqrQjzjAAw1JBmFABDwQA+4oj+f3i0TYlDCAlETYMTGQA5nDB5owC7owDMwQjV80jeAYYOxhRu4xeLJwhkuUYBBGgB2SCeeYjsanJUMwBLoYBjMAAhKAAHgpARIwAnw5A0FQBKRYBhJZB3ewB4a5B33QB4apmIOwBxQ5CJDpmH0wCIV5B5ZJmIRpmYlZkYeAioiQk6kYmh85mpiACSLJiiaJksgQKcYAC1Y3gZZQCXdgBmtQk3eAB3ggCIdwCaXZk644BmYQmHVgmI1pB3YwBTkAAr5oTUQIlU7ZlHzJgbSjlxJglxJgTSOwj3LJB5RACmxlTqXwnaD/MCKikApptHD89GBqCWHnVAg90HuVtnxyGZxTgAMggJcIsJckcAInQAN/aQQ0OZgSaZkEegd9oJkHupmJSZGXOZM0GZiCSZgVyZkc2ZGoOJqjeZqjgJq+2UwK9pp/wAeNoAmHUAdjYARjYAh8AANTUJGOwJus6IqmUKGdeaGXgIpnMAQcuJxMGXZU6Xi5BwY6CgMjQJVkYAeNMIGDoAhMagVDwIshwJdTmTmGMIwLQ2DPozNcCEF5dU9rWY4lspZtaHwJyHyjGAZBgAMSQAADMAAEkAAVIAJyOgNFgKI0GaEFiqAJqqB6egcS+aCkGKgDupkYWQkZGZodmaEi2Qkx/+qKvjkKmmAIdFCURPCIkUgJg0AGM5ADL5CC/xEHfZCKpumbHumZoFmqlWAHQbCjSymVRPiD1vcCHaOPAWKVlKCRTKoIVpACM8CXUvqPRJADMSCPvQhvvCEJhpcJhSAHdEAHchB9C7iAjvd4erAvlfYfzvd8kKgHZKCmbNqmBLCXffmfY1AGZnAGA1qgiEmZdwCZ7jqZFtmYEkmKwVmu6NquGFmoFVqhN3qjOnmaGlqSh2AHRcl8AfIHjbAJMAAAAdAfBPABQ0UEjaCKqyijqPqZNoqKmUoEIdCqXUWVcql7sXoDOaB+hnCrJ/sKpaAJlEAJdsAHchAEvfqrUwAyxP/IDs41I6lzDpCyDdXQKalwdRUYgUQrSREYCZPQhh/ggQnYPdR0S4XAAwMQAFQ7APm5l35Zp+VaBuiKmYVpB3tQmQR6mIcZkWYQnDMQAAiQACMQBPY6nJCZrzW6r6XaryAJsCVJkocwB2EwBMyHcSLaCZA6BVDXAy+gAOYVBqk4kj35kYbKkTeKkWdABBz4Adjpl0YgBVIwBmtwBnZwBmTAdWQAk5mQpCeros5KBqEorPtYpAEidYOVQ5mgCZkQIuUpDHCVP6RiariQC7pANuBADtMxHegAC3LQH29oaYWwCj1WSNLQLQAQvdI7AEFgBCh6tnXQtWBrmIVJtt5rmMb/aQdlQATSK70BAJHEyZmd2Qhzy5GxmaEUG7Cj0AmGMAdEMASL2CcwyYqV0AdTcFgg6B88MLEj6ailKrcciZF1EAS8KI/lG70AigWdewZnMAZkMAcw2bIsa3V8ELrCyrr7GANDcL8ZyHU50AM7QJW9kQnD+CJadA3UEFeEdiwJkg0Jog3gsApxcICVlljLyyjkYDrGIAp+8MDR25AoCpzn6rkSyb3fuwd8QJiHWQd2EIpGHAAG6ZiDMIGGcKjui4rvWwm0aAmnqQmWIIscKgl867eMqAd2YAg6ZAmsgCa+UMfVAgyVIJIk6Yr+isAJvMANHI9GHAR3SsFlYARTgMEt/0uwGZgDjvzIkPyPckAJsfBFAycNhXYNVVhfLlwpMTzDFLJMxjAMyLAMqHC8Aay8zEtIpnMMmYCOAVC+lSoHelDLkPgHuIzLEgiBjiUJjkUiH9IhqDDMHOKeCwB8PQAKqbBEeTV48MELvFBgBgeWyyNgCDdX1bAMuRALlGC/XrcDYWAImSAL1KDNswAM1OIL1PIJpqCKe+yTp3AKnPAIj+AInMAJp0AL8nwIRhADyumLshp2ITAFlqAKKzsIdrCQjfgHJLKxjtzIkfyjYnC/WSLCfjttAZIJwlA82qANWrQNyZgplSINP7tPucCFqLDDqezDsCAPrpQP/CAOovAHlP9rsGEwKwD0DF54N6T1knNAB+LsIR8CYQ6XHugxQT79B5qQCrzAHl8kaEq0YBQzC6QSG1b9CrDIVqFQQ+CXCoZABn4LjGTwB5fwCcFgC7RAC5/ACEzKCJDwCaNwxiQZnitiC7bgCXid155g156wCGPgz/MIAzgAmDfZCbUwC53QCKE4lIyVCTBLwhGdAzxABFNQCKXAP6JQjqb2Z8WCyYW2DR2dRZXCDOQhw8fgu6dFDawgBzycgGDwB6jgDqsC0+NACn5ABDFg0xi2CnD1Jkk0zJnNsi3bWJkQCqwAet4BI1HzHOFQTipqCKGgC+MQHPQCYhkCC7FIks2EHqzgobL/KNwaecahAH6q8NVDCs6GcAl7bQvFwA3NAAzqjM7dUG6yAGGhEAreedd5/Qh6jdeEcAW8uLSW21WEPAiWkArDUAv0u5CTrTkQJgnHyQOTHQYT3cgBUqW4IAcTXancvQulcgwk/Tj9dh0vIg3SSI0Q5JqkYNyzoD0BHAJQ5weosA5qszbbQAp6MKQ9UKn/sgo9wzMeXnioEApXF6IUKAq4EFeWkg3FiCG6QAoPKHXCsCD4gCP7UA/lkESqgN+joGCs8OWpgEOGMAgHWcV7cAhnrGCmcAhXoAMkIAI7MAaDsAifYAvBkA7xgA7oYCZ5Tm670Exfjh58jdf8TQhv0AQp/3ACJWACJuACGyACIPCUPFAEZ2DgZDYMpPAHZMADOPC6bUUKX22UPNDIcTkFU8B15MWcI6wHlHDZjnMs3XEN2lFqCoYKaSQqGzLMrDALj+AFXLAELmACJJBYsL0OO2I+1yAKOZ7bjCgHfwAKsEA25XFRtRvlvswHduCIZ2AIq0DSmMLk5lByvADlfyDl4vAk9fJK2HBRkHrfqODlqBCpfBsGEi7hOJDIBh4KpoAJcODrXMAFT/AFgoAInwAJZBAJ6AA58YDn4FCtoFB7oFAigzXoeS0IdYCcMDADK+ACS7AELTACkY4DQWAGe9AIqaALs2AJdhCsUwmyR2qcZzAFL/9vnI5YCK9AcIimDAN3M39G0tyADuzAQUKfDmitz6pwDB+1C6tw36SQCqbQ6/++BEwQBDvuB6IgUwxyD5k4CX9AB5EYgY61CgAHQaswCRIYiUraCIzQCSyiC+PRC3uzSbHlDLIQqc8aCajwDO9wD/vAD/fwDtDwCizbCJaQQ/jtknwwB6FLBlMw2ZyeOaAwLrt2CnDw7wCvBniACIdABB8QCVfGDwMTD9aQCk4WB96wDvKQ+vNA8XgtCDHvyDRwBEvw73DQBtlu6iTfCKQwC6nQCPa7jypcqeELuqMLmSqqixOtgfi7fBdGCbJAaNXADeOADgdzMGUCDMmwDAFWDbT/dwuoAAqhoAmkMApQ/+9bIAQUzuq7MB7gMA/SwAoiMglNnwkUSAmr8AzeoQy8gAoV+AcHqYsAYacMn0GaYBlr1cpHAQIMC7RyJUrSn0mrjH0rVy8fv3vukJHK1KiRJUuaTIYqNUpVKlaqXLokRWrVLWff1Emj5ckLFy9f2CA6BOYDGFB+ZMX7928cM2mgwMRBpU6evHn1bHnCmrWPmSk5Ysw4soTLkixBhhDhEcQMH0ujapUyRGYIjBg7chAh80dUqVKU6Mixw0ckJVHClEmTpgyZMsbCoGGrJg3asWXQuI1Dlw4YpE+QbDXrtmzZYmHCZKHSFArVLFmc4HCB/UVI/xgyeigpE4YKFi9RoCgZMiQKJCVKoFZBy4YNNylDf+aECUOE9h9Nolax2tUK0PYCAQIU8JEwIihY0rKRe1dv379764SJMsTnjBtBlkzNmqVqlCQ//f38MSQUAVPZxRl11InmFJ14giMPR+SASh95nmFFmHzu2Qaaao6ZJJJIVpknxHmuygqrO7oKYYEKOBCrpzGIQEstwToxRRM+yJhCuinEEMOPTHARR5tXSjEplmmo0UaZY47Z5RZYVkFFFOuEQQwZY4RBZhlrxkmnG198gQQSX5oJxhZbagGGGGVqSeUkVFLBBI6duPiiielQkYYaXGAR5Q899MgrE1AkMUQSSv9WgajJXVD5ww8yeMCBhzDs0CQXWFhBNKEPGPLuO0AgEk6YdfBh5xxxwNlGGnF2AeUPO+YQbJNRPuGkk1FKAUUUVEAxRA4c6ZBkFQMRNGVBLrb4yQ4wIimkkElIgaYccIyBRhdQPLwBDKpCJLHEPsbAIcURSlii3BZGoCsHHshgl90peLhrCjLOoIMOvXTZhhpdYpElFWGOAaUQPXgUgw4y5NBjElFSweUYXGTBBZfDLksnHTKD6SSOHm7I1pBYfPklZEUU0SSVVFyb8wkdgghjjkZM+cSUTjRptL9M2iQuk00S0m47PXwNA4cdwpDDEFWWyQWUTCCCqJdWXvjAhw//PuAZlWG4SacceLDJBhzFXuHV1UMuuYQzSC5pRJNSdNFGF0vsiC4MQ1AxUB9rrprTpzrEAMOPQuJYZRdolEQl8FWKAqUiEbG6Cg5B3DAiCBxgCGEEFZbwAo5HMBnSkEZuhG6KIXC4iwwz7KjXEFKQmeeffNDhBhx47rmHHFSxAcccc7Dh/RlhjImFX1lgwUUXYojpJp3MlBHFjxsKKECBG+hoJBFFvvzkFVZkUXBOG0jYgYg5DJkFGGCSjkSPZkk5hkhDKJHkEp5bwQSROswgAgccWqZkFmaGWYUoWtELbxTQFT4AhCsSQkBdzUIb8ChHcqqBDWqIw1oT4cMhEOGI/0fQSiSWKEUtiNEXOxBhCnL4Q0k0MYo4zYlObJhCD+KQMD9M4hvkQAWzJmGcasiDHP/YBz1CVCJIMGIRZ0BR5U6gBC9g5RS1MIVI7EAG6BBhCGH4QyaEMQ5x4IIUpUjFMJByD3vAIx3cqIUm7CCGHvRgBz0AQ9ECF41nGCNiWJLGNi6DjlI9AxaNkEIKZvACOIrBCtZjhC8+EQtcCGMUj5iTEmiAgyHEwWj5yYV2JDGJYEFDFqGwRCMuAQxutEMbyaCFKQYBN0nNYQ+hGMY0koGKTKCCgAXsBSAK6A2RFKIHL+jbJHZhDGfc0hus4oMcxoAGQjiCM49oxCAaYatRVP/iD3IIXcv2UAlKOIIQr+GJTw5BhxoWIi5BwIKyoPaBF4gBC6awh+vmIQ9OYOUTn/AFIwYxhRgsYAEjCMIaFgGJTtCoE5JoxBTjZhtWYGMc4ygHL1IBxllwAx7MWJIyypEYZOgCF+Uoh6m2sQ1xXGOk1hAHO9xRD378gx/7uJA6VjEJjXEsWz4qBTBEKItcCCMa1ZgFJMdiAxoM4SmGeNIuvBGOXaxCEnqIwx8o8QpZ6LQW1JjFIIaQg7vEIROu2sMmcsEMa0xjGtLwhjG9YaZ4XOIMligEGOQ6VzD4wK7b2Q4qUBEKU4xCQafoRDSlaQm9gqJVe9iDyy6xCU60cCf/mctDH+xgTmkmghFopMMOdkBJNygiEbXIRxDPAcVE+kIRv1CEFWYQgxDkIAhnqIQpVJELXcziFaRoxF/Gp4mrcuMy2xiGyRhp0XGgihqa+CoZiICwOPghEoURRiw00YlYMIMds0tKdv0RjlX4AQwcI+QvwTCJWyBjF7CQhTCekY1ZGIuobYzDp1xBQHLwghJyGMINwkcHQ6hNFcMwxSLaMIMRDEEMZKCEJioxi2lwo6zTYAY0btmOYlyvGYLAghXO0NwPRSMct0CFdnh2OFKkAj/AoAUtAnuHM7CFwdkw6zKGgYxhAGMWpmghbOj0hj7woRB0sAN140GPVAwCsYd4/0SYIFGMe+QjF7I4HjBAFjLUKmJmk8CyJmIBDWggY0jBS3AoNDFNU9QiFmiKBY32yophUENr7oDHNpQkGW2I4xzuMBUzatEJRtRCGkjJblJeGg1RRIKudCiEKGDBl1i8Ij+4oFYujOUCGeCgB5WUBChckQxryCIuO3jBfv+wyUlQohOLEIQUgoCXOERiFqNYhjZkbQ1rUGMaw6xYOoLxpUQEogtuiEMwyYPeXfTC2K5ALy+YgQ5rmOIQyjWwHkSBi2qAo9rZqIZZp7EMWeJNx8i6gx0AZIhXBPocskAGNpghZVtwgx74iEc5uNGNZoAmGFQOWTBeQYn/FAIUuNCXzP/S9go0mY8Y1GAGMXRqixTTohZtPgdL93GPekCwpNKoxkhTRYxajAkdgf6HP/QxcnLAIhL9Ie/wcNHxfE6zE7yI1jImLQMeGFUPoGjFKmSRjD/KRbMFywQsdiGLGxc0rnDsGynIKmtt7JHZuDAFJBQRjH4Ew9ddOIMd+pOrVcACFarADwGhMQ3MoGMZk/ADj+gQCo3a4x70WMc62kGOcVwGM9zwdmwiy4f3cSMe8GhpoO8xOHAEnh/twHM5uhGMbnQD379gBCMC2wiWwOIYuahFLXQhjYfCw/P3sGPEalGMYgBjGMNYBjjccY9/1CMbuBBFKEghC2io/h3bKP3HgsH/DG5II3DG6IUxwpENWRQlDnFw1it4QYx7/8IXsZjFyodhsZlLKi+jyIUyyGGOeDSjcXBgxCeScQ5uoNgUtZqEGDgGx0jwwrfasAbW3LGNTgQhECObui96nYiZpUIWEDuGVxAQTBiFASIgcAAHViCFSAAyS5iFYhiHeAKiecCHfcAHfLiHluKHdMi7HdsDPvgPWQiRfQi8pJgH82GHeRIiz4OHc0CHbigGkMG/kVGFNDMJ3qogbrgGWuMGbUgHeHAHasgEqMKLTkCTYbAGcCAHeihBf/iHeXiHd3AHd6CHfHiHZgCGWICE3eOGc9CQcEirWyi042uuQiCF4kEGdMDC/4NKsFdgPl/wBB2jNEmRA0mYrWMYB3eIh2DACi/wQ0+wBWYzEzMpBmSYBLlqLlFgB9hpum5QhgEIgAEogEOynjFRhEAwBVJArkzIhEnIhIVJhVrAhWJbqnbAB2vABVXohA7yBcbLB+3ah1gkQZeyB3TowCVgAzNIxBKrhnrIhWl4xX9wh3xKhE/YiGpgh1fMByFiB3YQmdPyBeVhhjRLm1hIQnAAKXhwu7fbBlk4uTggg0GwMlUwDFWhh31gB2jABZORhWM4BwpsqXNQBl0wsz1ZhZgQhUxgFjr4Lo6JA1EwhnSgByFavGAIBlWJh3mgh2KYNB2QAz8whFVIhmTohf9c4AVkIIZi6IZ1w4VhkIZ1UIdrSLhhuAbu0qFJMIZ5QIe6GwdLQAAEsIAZqBzrGZlgwI89EYVJaBa/URhJiIRJ2I75ygWXMAlSuJpuQDFgWAak4IcSTAp0xDtj4YInYAMyiANQkAVPlAZZAsZ/iIcY/BJf6Aan/Ad8mId1AIdYEAmRGAZxaAd0eMF6Swd2KIdtAAdxCKl6qLgMuQVD+wACIIAFyAFKGAfWC7R8gCBsXId5WI9/MIdFAQVUgAZx0J1wOJBo6MtguwEZSjRkoAZsqAcv+YROkAVloAZwGIe8cwEq4ANKkExw2KVpyIZ1GDkJORB1+IZv2IVXeAWaeIb/UvjJyKwGeoAdbjiDBEgAC7ACLOCnLkiERGgDQ3CDQQiggPmTZnmuDkkcUDimUViER+izYrCHfNA1MwkGbqgHkAu0fWgGqfSJOSAvVtAESxANbaCHpLCHq2AESKAFCawHdnCJWog7cpCFMYsmTcCS1FtJdKg4algF7BSFatiHeqhLZYiFUhAOtQGjVECFUhCG0zSHdRAHatgGd5iHe2hMfAAHZmDRuAsHbIiG3OwFV4gEjYGjOLCDl6kFaICHeYAHcqgGZRi7rUwxM/GETaiEQmGFadAGuVsHE61NefgGY3gLRjAFXdAFY4gGCxUFZ8HKc+CHepiHRkAACOgAKxCs/yGgRNTRp135xrlCPkEZHl5YUWDAp88YS47gksYDNPUUNG6Qyi2gAj2wBMMCsNM7vVxIhllIBlJQvxdQgAJYAFxgB0YYiVhQhm3AhU6QDzsoBWZ4u3RgBlUIhfRSBmM4r65Lt7tck1KIPF/4nVuQVWPYBsOcuFIxURRtygnlhmJohmuAB/Ygh2coJle4lmB7ikKQBCNchm2ABzFFy2qABmqAhmTIBVqwhdLrhD8gA2DBBYg6h3MwB3eIUnVIuFrgDGLYF2O4hVDIhPdZBWFIz39gBglIgA74ASxwAzfAghyYgecUnUxoUlb5G0RsLtVJPXgwJdLTSGZYhYlKhXbw0/+JRQes0LEvuILCUdZpmAXhGQZGTQVdyIQemJpIBUwFMJgzIDdxCIZGoKJlaQVyuAfPKwfGyIZ3EFFpNYYrUcVOCJNWDIYCcYZFKwUsYwVliDtz2L4nfdZ8IJVr8FVueMV52IYmuYXDqdGnSBhRYAXrEqIKhCAKKitoyIVZOIVP0CcyEAPkQ4VyELQLyQcJuT2D1KlgSJX0Agl8KYcS3AcYSAAzPVMrsAI3MIMYOKQpgAFNaA9k2JNbeAZ9CDmV5IbThIdllMB/EIPomZo42IZySMaJzS56uIqLXYNSIAU/oIRheAWwmwVdOJqQBYUbmJoPUAAFEMxzaIZhqIZz2If/Z1SEAWoHfoizrCyOVVCGe5gHdxAHaeW4ACVJeZAKdSgHc3jHEHkHc7jL7aNC612HbUg4YmgGlnIHaWCFKDGsa8GyVcCGdXiHC6wHdwhRugQHasC2avgGK0k4VDAEqDJDcRC0d7gGVA0eloMEYOiGc0BeeciGa2DgbShBSSCABuiADrAAKBBcK5iCERjcEciBygVd16Gde0AHBAypwJsKdfAGyP3gQOMHhpyTLagDUvANSlgJMKrBUHBdXRAFkoUe212AGKgHbUiFQuA7QQiZyBsGcjC8C5yKENGHfLAHemCHDHHdU6CFYuCGe/g7d2CHaRhKUXBNYagGcXgHxmzK/6R4B2TISUrABY1AS3EQh3B4BidhBWNwh6TIh3nrwWHAkkwFSXUwh3Agh1S5BuIzPtQ9hmClh0GWhmiIBmmwBiw0hUlWBWTYhmvADWOIwMArBwKASSXogiOAAjdYhH2NgSCQSTpwQidc4aSY2R7Fh1ZeYbxLmR6jA1AgBb0qBVbwP1EYBswb2dqt3QVoreziB3uIhykLmWbIh434ym7BCl+wBYP01W2bBUxYhEXwBGzFYm0wk3uiBWWI43Ag52z4hmzANlzIhEKQAzmQkoAJtlZTmK5Thtb5B4vbBpRCh3ZohyfVHe2VYzoSQw95LqQ9B63Ry3qIhwxETGYohU7AAv+VJTfLDK1m3gcwIAAFsIAsCIRAcINu2AU4CgEQAIEQEIZVnljEjAf1uAfohWN7luWJ5UCd8AIY5tZcMaxJoCUvEoZ19ANIVYAPWAAYQDBj5sDHCwbSozcS8cOmZpyo5YZlmAVOgARP+ITP6EEjNaJGoIQdwjKv/uqwfudrIWgPMY5jYIdAw4d6MIc5hoVbGKZdwI4egl5y9qMOea5jWId6YD3aieJgzAdrUAWQ4Dvh2IV3mNCBrIZI/ScoCARI6Id7iIQPuIUcAIEF6IF58IfN3mz1hCnaOcd9wExRuAVjkNiY9tP21IktuAN27uoOKQRa0iuW4I9fmhpiXq6kgDf/bmg+KgsG7yuTrGjqPwREPFWeYbARaTIFYkgGYrgnT4CD6GaER+CETZCVUcDuTqiEQ7ADM8i6QWgOV9EDg0E0Nk7r7AoicBCGvsiEUogSg2ELZJiKa0iFkEAqJISdWmOGWcgFZFi2cyCGSaCD5kK+LxIG1iPBfXiBAbBdEIgBIjgDU5iHVfiAOICeAiCC2uxskLuHZsRVp3WGa/GDVvuQ+XKGGI3liWXlpIiHxtGCO+gVLPvJn/SD8/UNMFinGxiCeTmDpKCHxrMFpD6GjjWFR4Dupo5uxmmGioFLbSArdSUGFiWrZKgFbKWFU8DuSdbySUbSQTiDM2iEU8DySwgl/0polv4ShnkQh1TQKHqYWWiYBQWrBKgi2RswBGNIimsghULAEUoIo5WcBUmggxxBp329Az74g5+UheDBBVURBwrchx6QVBAYgRmYgjGwBPKMBS+3XSKIUUGWB3xYcTymB8/Lh3n4sG88PudyropwBnnga40AInOIBkT0g1VwQlvkhDvYg17xSWf5SWfBMkPRA6H4gBuIg0GohEcAIj2smMdjE1UwhU14wGKomGYgPWBIBimXJWsoPVrgBA5aBEIghI7egi7ogi9oJrLZBEzgBE4YhcbKZkEQhEVoLLRpBOCwg303hFRABmEIhVw5w3FABlW4hEOog67YzGVJIGPN2v/xIgVqiKd4Awdt2IbPncB1IIdvKKBnOAZl8BpteAdQCMwQoIsgCAIjqANTsAJBGAQsSIAQGAI6mAM94ANJmDZliIfGA410OEt3qAZcQLvjewrn8hDSjobQksVYPPU4+EvvIIAP8ANreIX+0gQ9yARJKISTI2gsaxa5Wj8w0ANSIAaXKs5moLKRSQQ8EARCeIM8gIMvkHvM8cNAiG7NeYRHEIQ3eHtyz+ZyDwS5t/tFcASg0CBHQHzERzU8YHtEAIpBAG9DCAypioXTtIbjOR5tKPiDh3zIR51g245W84OtFYVaQNvwA4ZxWEZTMYcIsl9HPpDt46JygIaGkNQYwIH/ICiCIpACLBAFV5ivOFiAQ9ByMEIvWcg8YMBidsCHdliUGq0hsmdYsroMd9iHzY5F7N8HYwAD6MloMIgGfqiGJf0H2DOErTd6sx7xHXqBF9Dxsa8FrDByrKAF8wETU7iERcgDuf+CcvF/ugcIOAIfEcSDRYuWNG/yCMrz5eGXPIQm9ql46FClSxoF4XHjEU+fOyL52KHDx1CoXNaGNRp0p5GqacNMVTrU55CmUriU7VrlJw4YMHRCpcI1jZktSJA+ERs3b169fFLn2aMHb906c+bWgdO2i0CBDx8USIgRpEiRKH9c3WKEy5UdVbHmxrqlTNy7f//EYZPm7e/fXq1a/626JawY4mLNuHVjl08vv8j89v2Dtw2arlmjTtEqlq6eXr2g/BTyE+l0oVWSVv3D5+fGDjBmKp7yZJtgIkWKEi0iuEhgoC9LXCjJokRJkixbHrJByCRJ8S1s2Ljp+AaPoOwc19Spc6dixTttymAp76bNmjVYzpAhQ8eQJlXDNpkhM2dQqpmI0K9J418QIphcgggilQjCXXeHbLJIdr2dMospo1hiySijzJJLLsukkw499KCTDAEDFPDCDTe8EIICIQQBhBGx/PJiN6SMYsqFyDzzzDfr/LNPPvW4Y0474fTiCiA+BOVHJsQ0s+Ri3ZxzT2hR/jOPOMpA+IhAcHhCS/88UrZ2SyGgiAKaXvdMAkYPYdSBCCe3YRlIIEt0AWcihPQGB5xfPLHEE30+JFAeb7yhhhZZdNHFG9pxFKiggraRBhbppeddR+WVt0Yb3WnKRyOaaDKKKpsMUskouGA4yiGannHGGEYYQYYYaA4xwwxB2DqGghfKUkollViySUY1BUsgIo5wYsoHAQRAAFgfxMBDEVIYIQQNAwSggCK/9NMrIpf0auE1VGkzzCyz0DKMLKuEYggfkmSSSjJMLtlNOo95mc84uagyiiBvbNFnE2Wo4iXBerl2wxBh3PHIKZxwQtCbXtC5CMWPOEKxouD1McggeDyKRRVVmCdSd23ggR3/IXmwgQYVUURRBoLoYSEFzVh41EYbWHQ3qiUZYXIgHpeYcsopmLyRRnMs60ACCSPA0EMPOMxwQQUyUNHHLNOsM0zRKrPxxkcdpceGGngEaAlYBSjwwQs7vCDWCCd0EIiyBIzwoiuR1MSxJakIA8893JBbLi+pjBZGDmHooQkwzRQTDDDAMINOPPx4WU8ys4RySBtsPOGCC0xIkUrBBUvSAxFjuEEIJ0TX9nAigRwaCIAEOUIIR+jhjKnHeEyXRshVWDE8Fvxp0cW/n5uAAQMGOG+AANFL7zwDDEyQgQxMNJEGHoQgAmAfV0iBBiGXOIzJyb2nYYStRLhnxxQzxDDC/wxT1LHJLMTUQhMeapTNER64cwc7nMEOg7DELMCiAGYxqwAgmAENaICFT0ghRAMgwC9qMaQz3KEOZahDH0bBDX6gYxqzuMQmkmGKMojgANFzgA4cUYxuNIOGi0EHmaIUD2sQYxacyAMclrAEJTShDrgoHcFkIQcymCEPi3CYwx5BsUB4oQuGKpsjbtccJphgAxl4QPWa9zwDMOABGNgAEpxwBTQkpGwowx16rlCGK5RHDemxQhWy8AQoaGE6eTiZIDDRiUY04hB0IELq+KAJU5hiEwQSBHqoEEEdSIFSdZhCCk5AAyPcoRKLYEQisuOGNGhBZJZKTxk4WAlSgIJZA/9YWwhigINolUEKNJAACEaAgAM4wBfe6MUg1lOTTs3CGvDwhz3QMQ52uOMaw1BFJvjAB0qEohaJQcyS0AEPykSJG7koGiHg4IXheNEIrECil2QhhjCcQRC92YILNvCAeYbRAy7oIyEuRog+dOcMdcCDSETSB46cB2RSAAIQhCCFNVSnOtoJIBaocAU5rgEkffDIpThYhzOkpw+baOQmDrEGHQghCm1AxIwwkTI2rEFpUZjoGkTCqiLYagpnwA5vGFQdkVzEYyAzJRbMsKwChKUHPJhCGMLAAx4EAQcxKFEOrtAFcKgDGLuZWYJMsYxxcKMYwKBFMoqRDFo08hKYMEX/Z7rBjWlMQzHcSEc87mG50LDjmaNwBBD1hIQikEEU6JQSK4gwhTvkQWW381h1DgWF4dXhEI6Q4kQ4UoYyGKEIRrhCRU9mRyno4AQnSAEQqlC2Dq7KO3c4Qy1dpVppuQwKUKgCGvxzvDcQAhOqEMYxSCEJO5DhDIcA1UwekTI1lAcNaqjOyc4jhRWRdAt5CM4XtoAQzz0hulvgE+iyS4IBXJAAKQoBeG+QAxw4VZYhmIKligGJ3SgCC6WwB4TiVQxacCKcENNIJT5qiyUBg0anAIY1NhTXKLnDhJz4zThdUIMgiGES3PzrP2YRhiDAzGxvwJkbFiK7LGQBCmjAQ2EF/+UGO1LWVWVoQ2Gzc4cxSMsIUUiPG27SkfPsLqI0Q6gQcuyyKARvoghBiMku0QlVqOISd2iC9rDjOReAEXrUm+cDMpCBDXixBCUwARP62AbiUkEImWSaJoHw0isgBAuUCBFRvwsDGOTgLEWg1QxCAAIk2AB0RwhEbhjRI340gQ35dAEDpBe9MmbACYQ4hVhrcQpTcALA2kDHZ6JED2vQFw7CGQ6L5AAKeUBYL+g4xBjqYDKCYqchh7KiFbjnP/+hAQ1GmMEIYj2DKzT0wiD7KRb8l+FBTUcNR9PCFZoQBZpJYdhGkEITRKYFJ9hAnvPMgAlsoIXCskFlFS0FM/qL1/80UKEJTaBjGtTgnytQiwQXIEEJePzjKNDgBBd49wkSSoUqUEGidJyFPJwBhhERQQxxaA8T6zOFFxAABDpuAs2ykAhIlAkM2CjXgQVVWI+lRxCcSEY60DG4U1gjMvvgUZSoUV826IlPNaABDnrgB2N0Wi+z6E76FoE7QXhkeMRzQwdVdYb4wXoGVDAZHt7Ahkf5B9fhdsOPq5CQkA1bCNqrgQm+CEYzZgAIa+SdnRwh5JrwkztsItojBoUGb5PZCU6AjhJYwIF3k4AGTVh2FpzQBB3QgAQVOLetjNAqzF7hDLAQhjjmIY9boOkFJ4ql+1S+i0Z8e6ISDRkw9LIPY0T/Yx/lQEcnwHYdirehD41W5iwwcVZi2MtL7FiGKRwR3eHUQH6Kb/k/uLGJ7wyUYom4veyg8AMV/AAIUNixvYMggeFLwOexjW16ECI+Yk9UWkIQcxOoVQIoR1kGNBDCRDHLH0z5OsRCpw4pf9xHxUKBCeZ3wrKdwOEkHIEDE6hA26mgBddCIYKwph8NglBSb79dC3aQRjREwzNAAztQxjEMQQwg4A6AQpBkAzJMVvPRjBAUwSHohT9I3jVYARRkgRa02mRV1CXUgjaMw1hxxjSUXmj4wzxIg2YggkN8gROg3BCAQSHsAjyIwzZswzngAxLlQy5URPdogRrMzhd0ge79/8APcBiHKR1C0EACPGECnAAfIUQX+E95kFsUuIoUTNSxSUG9MQHUmYAQuMoEosVqiQ8ZukyrjZtsVYHZod/xdFgS1AAdmh8S1AAL5KG7VcAIkEAQ8FgSsF8NfJkIkABolZT8tVEliIM4RMMuQMM5wAM7wEM+3MNj8MM6YMMxyAIplEG9tYzLUMEaHBC+WE46KIIVdEAXpIFxkQcIZs04TAMtzKI15JAF7oM7MIMqVMKW9YkQBEEOQE0crII7jEM5HOM5zAMKhgY/xAM3EIIW2EAGBEoRHooSHIEHdEAHoIAKtMARHIHvAcEIEF8F0IDSyZb/hBuk8Ie4aUEUAEEKUP+ZlHFACWTSZ6UACdCKrZyFq4wBBFbWBHphvTWdQm0hsbXYFEyBEegAC7SAB2zA+8EfDSBE3N1hCpSACNwdCXyW+TEBHNZCN4RkOsADPdjDPdhDPlhOPKCDNSgDMvACKpRBbHXgFVQBpvQBJozCMvxDPsROInTBDwghG5US92DCMGiDNuTChUxDl1jgP/jDPojDTIiUFiRBGsVdGciBH8ACOzCiMYrDhzhMLsRDMiCC7WjEJlwCXr1BcMBJF1xjNnLjEUAHQqzBDEjAAiwAApzAFRxXhqUPHqQBQukASb0jDaRACqiACUAZBnQAYnqWuXEAB9yj+b1dFbhMjh1b8y3/nxBQQX3MjLQQpkLVQAs4pAdoQAWkZrxhQRpsWRosF6xJQGr2IQ0ggUeiXycIwzMYAzPoYDyY5D7cwznE4jEYgzD0hEz6h39UAWcZQRncASY4jCcwAp51AQ2QDUIoXdBkCAkmwzJYQ1PeYj1QwwkZBBV4JIfJXWcuIjiAA1hqwybgwSNwQjHwgypYnMUQSBYhwkK8QTVawRH8QAeoAIG2ABLYpkKNQF4qwAJIgA6EDP0BgW0yARQ4XQ2oAAp0gGRqgAZYgAVAgBiRkQNcgAiIwLuZKAkUomdZX2XyX/R1JBIyARIgIQvQIR0igWl6EQa83wWcgBC0VKtJAbWMo17m/6UEbCRJ6V3jbMM1NCk3jAM6JBM8oMM2SMMx4MJxykIdsOKPCYFnnYAMCEH/TUeeCF07osEa9MElzIIuLMMs0gJTpqA/qKAJicoZoIHZacEXIIJ8TAM4VAM8hMYwPAwn0EI68MMsOIInPELjUMNMYIJrakF5aGCAdoAMyMAKrEBpssAPEAAAfOqnXkBCPd9h3iMNIFQK7F4KaGiHemgEOIADNEADjBEZTYAFlGghbqT11YD52eilWlkJaGOGcmONHqiEroAHeEAGYMCOvh8J6IC35ZETdFYFLAADIcCRXl+9jQElxIIsCIM0lMM4aIMulIEpoAM6SMM14OA2GEMq2P+BpnRHEcTaCNDAGkjEREwEgRBC/9QkE4iWIDwILTTMKWCcnPqDOyRDkRFK+jnXJeTCNQgDNJjDOVBDl0xDw3gCMFDiNLRJo9UCM5CLKUzHoawfC2SjhlrABExABLRsA4AqqEZACaDAl5rb3VVArt7jl56Aub1bag5falYABTDP85SRYyZmDSCBErzhgdpo0h4BCxDrDzhtF4FRGMGqA5RADehAHcqA3SEAsyAAAlRACXCACkRBE4yBJJACLOwCMkjDNizDGgCBFHBDDp6DPfSD3jZDI8RUG9zBGgQBCOTlAsCA/QBmqfXBGszRFmJBCNGIKlhCI4SCLmwDaMzpPmz/jSkgAhvFXXUtgilcwzk8wy2sAip0AjAwBn1dwijMUDfYwiLwwA34wSvUQil0gnQpIXJcYwtELQdYwKs2wBNaEHclgAZsKAdwaIf26AnQCmihqj3GGvFhbQTc3Qi82wyQgAZggJMxwAb4XvA4ARjaKAtg6DbyHgscKBIgKwZYbQPAKtmqAK/SXQlUgANYC6gGAAKw7ARowAwUAizIwk6wVSWgmw70wTa8gz3k7QJ3AyS0TBNEyhgo6AKQRRF8UHh8B2lN1mTVQSWYgixkxiVkikfNgjh8HC5aySX0DxW+QSIwwiK0QQEVQiF0wlLYAjCoQijIQjD0sC24gVj0QCPU/0LjnB3aHcFx8C4KcAAFvCrWIgB3FS8FHK9kcgCu9mgKRNBhImYKSKaHfmgCQAAERAAFUAAWP+9jngCwZkDzDNoDuMDz5djzAQEN9F6FkmE8tu88we8FhGn/NQEQyIAIgG2IEEAClOil6kAQCEMwKIMuKIM0DIMkXWoK1ILe9sMC520trNHYNQEN6JLYHmkTzGRCTIfQsSJmdc9ZzeIpOEKxgAs+QOU8kKcmGIIHFQ+eMQJ1BtUYzMEjfIIv+MInmEIoqIIP+8IaiEEPgIEf2AQnnN1xfKM3eiMLrMAGAC/WOgDMAkAAiMDOelYVf1aGJi+VMSuIyqrzHMABNMA6Q/8ABlCABShvh3Lo+U5tDVhlC2wA9AiAATyADMDjPZ7cr0odA8CqbLadFHDwFbxaBRDvACBA9V5ZCTRCMCyJMBjDMCCCE9AhtEpBP7zDO8zDOZwDOgRDDVxqDZTABUAxdxFABWiSaI5yuKlBq7WaGhRWPqXMRBhLwY7DPdzDOixD6B1C/2yBa3VBInwCIwiCHcyBHTxCMA9zKlSTL9iCMFeCJMBHKpRLLiDBEbTANarvV5/sjmbz/SoLNwfAAVQPlInxBGCAhx6vhqJAsHZAPHeoGOd1XsMzhyLvhgorsaZvaaJAjS7mPpPRBqyACmTSBbSsA7yqBNBPENCMRFGBDpT/gAQEAMwGQALAnyaVQjCEZEgSQx2wzCdKwSLMEDqcQzn8qQ5c6qU2tLVckAi0ESnJtDomBEIoJ6tVW4DMQjKgA2XQw7hELiIIBBd4gXLbhieUzyYwQlSbAiugwizYglXbQiegAimwwoUAgzYsq5SZgHibQAtsbd1RzfC17BOKLQIkwF3L8xfHswVI5jZqIwfY9YdCgKzudwO0rDwfL4BXMX1zIx7mYR7i4ThrAAW0MT8/zwEgwGNPcQrQ4aaigAUMwDYHAPbWTykoQzdcA73UAhpIARjSgA4UAQ28ggltgyiAQiQMw1ko8ghEMXdVgEdqgbfBIUIwrBAuhJ0QRJvY/8YpZAjlVCI25EIo9IEa7IkQJfdDbMEb9AEkVPUjhAIqrMIsAEMw2EIxcAM+pIM1ZA6cvqET7FgU5NiFKnjwOrEDPOFjvzd8v3cVs2qrcugX97VkAquVVfF/cwAKeIAKpC8SWGUgIoHv/nUHlO0EBJqglRGHiremrkAJRAACZDjZXmol4MM4nIM5lEM6rEGOnfgUJLQRaEI8gAM7oAM9+AM4TAER2MoCWEvdwAAVrIpCJyfLeNt0RURhSQQchJN9QcwiFAgh+AuTF2EWIIEMBIERCEIwQ8JFfHAP+wIw4AIyLMMw6AIxLAM8UMFBAYGNliaycqh+yyqsQsCDJ0B7R/8AnMe3nc/3fWtjfct7XaNACqAAviOmhgo4vXNjC0CHEcuojLJAFwP48VoZBbCzg++zG2+ACWhABGD4NjvAyoqAMKDwPKxDLTSB2cloHeoAEZw6fM4IqjBNBSCAZn9qAEjAKLca2nobGlzBGMw8eWAByX3BdDwEEPU6zwNQGhgH6JRmgCLUGPDBlPsCJwDQI1x3N9gDPFAD1FMDONRDR9YAQnXhQgMBz1JN0LY5ezsAX/c1Fc/sYt87vp/92WtjCQR6+aqA2td1ogcrN8ovga4AYX/jgfaq3dP3fdN1CVCAA6jzASTA+9qq1kIdo0fPNgNAAkTABPTBPODDU6zCMZj/go4JgahPQRE0AjqAQzywMtHIgJVJPKgiwBtO4BTMvD+OnRZIVxdAhHRtgewvB68HCtnEfBPYQNmiQA2YFEZh1iII8yKImxosAjAzQmExTC5IAzxEhfoq7REc6Fh3AMQnQDarO3sXHz8WwRToH+ZnsQzcO4FWs917AAoga1ymPdqvP/vPfWmK+0NuwMHje6aWL+CzN4TDnwwUwdxxbQ0sK0A0GBAgAAAAARhMYFUv2axUxOhBQzVlypgiNGTU0GhkGbp0tkDaOsXBwgSDJwFIuFJmTBkpTZgwccJEow0bR5DMtClzS88uX9RoSYOGShQhRYoIaaIli5MmVapQuUJl/40gSIwEDUUj6NOnRGzyEOJ0ihi6f/+QpEVyhC3bFis8aJjgIAFdB3QT1KWggkWLGiw0IqnBRIgOHUeLUDRihGKRIDRSlJAhQwUKy5cvd9CsGbNlD58/w9VcAgVfFkdqADlRocLdu3MnTMgwe3ZsBwMLHnSQa94yZdK0jcoVb5YIDSZMbPCwYgWxZMvgdQtpyxOGCBFyn1xwpYkTJ0qY2NQ4eYUNJd61OMmihf2XL13YM1k8ZoyZNWiYtADdQcUPGjR0aMINRiARBI0mmsADklpmCesRTjAZxZRcuGFCrbRwSuIIFuKaAIIGGojAtQgquIA/FlAErIUN/0JxhRRrcP+rBRRr+AGIoxhrzIggeAxihhNKCLIDDzrQwEgNOnhxxhVGkwEIJppA40AZHEDASgQOuCsC2UpILoMHGDhggDHHjGMcd5YBhxx6gDmFlmRseIAJNNhgIz0mKqGHG3um8+QNEmYYITuDBsjCUCXAC0+8GlqwIaemnHhii/SSkI+KMero4xA81HAiCSRW8HKDDTiQrIYojKhDEo9GWeOOUJKhDo4v3ACLkEUc4eSRRQh5gz1Ds0jihxU0iODDEClI9oJS+WthRhTZqjQJDVHTqEVn+8KWBeZQCNKDUTkIV1wSTvhvhiB4SJeHIAxrVwoqqGhCB+Q+myABKw3A8oAQZaP/ba57CSBziHXicUebdKQLiRYmGDBAAAEMeMADF2bhZ5x4+nTCMBkkwO2gCpwNuVFrQ13B2SO8E0wGHVDN9BBC1FBj0mA/XWGDIy3gAIWMtDCFn7P+WcaSMfjJhx50Zo2ZDUJufcS7TzFMItEaIEshBchIuIA11nRWQQWRG51WrR9+YEujFLd96y3mNiMyXAss0KAEEoIsgYOtKyCBhiKo0EGGucmdgYYegxhBgiutzOs1EQAdwXAEAh7zkmmSQSfW6UBCAYINyjPhSwOSMRpjkDzZAoLTPzRgTAQcQEEJG2TSok40tIDJ2sqCJEEHqvDIg40vJmWPKUSP0G+Dkki8/0CEElJII5d9gK4HGWSA/qebYk6JVw2w8vAO0e8R1c8617R07QISZBCCKkFwRQSPNpiCui2cznYRLtBeZA6ublXgr7QfBlOY/5CgAhPQQAYwgAENwE0D4UJOCTTQgAMgDgELkEAIYNCDHuQAByOYCwLIhApA0AMf6OAG5myxgdNlwARCkIIUxrCHU3AjH/HgBjeKAQcG7PBDYiITAjhgMpMhx3MbmA0GYiMCGfAND01k2iPy8Ab4CO9QxYMLB0SwNa1VoAiGyMY+2rGOedQQHuzIx1n8wY9a3CEKWlBDHoAFviqioFgNcMB1KJAzDqTga0iY1h9nkhYUeW0wVVCDG/8EIYg3YKEKUKBBDVTwl/4A0FpUUwpR0CCEv1VARK9RYAOPJK4NlGAD/6rgAiwogbpM4AGtdACIGmYlEPSCF63gxz7SUYxggEQQFZAACHDAg4okRQdo+IflSJgONuzQYQ972A8rwILzOOEIK8iAve5SgREYAQu/y4JbjnCe9QiPPWlgz/ZiRhSMkGAEFRBBMMMQhj/IghzsKIcwZIGKP+hBDnoQwxhkx4Y3NIV4R8iCEg56BDpSQEQRyKMFSFOaFc1vfmvZULYuygJCtmgF1nLCFdrQB0Qcog9tuIIOTnCC89GtBBaggANYg4FRZQACCsRABjRAAkDlIAcguJcBDhD/VBBBIAKtPB2IGtAwB0CjFfTwxinwYUPqFAEGjhvBBZbTKBs0gR60MAs6aEEICQaVrAdopjMZwMIWvFQCEshbUmqAghYgNI7fM1QXfoLXLhjqO38xgQYusEV30kAQtGDGMGhBDGs4ZxrLoIUpknGKAzlhC+4BFqSy0JNgLbShyYIbBzqAgtNQVGrh/ONp1RKjGqQFSlqQkpSaUIO/laADOkMBJG0ElSiUYTFFsJpL3UmCIEyBCDyagQxUKEEDAFWoDYBAKx/QQ7MiYAeu8EYr8EGPU+iABB2cQAPyUlMPzNVZJqDFP7xBi3b8owRIHesE87VKEUDgrAJgwCivGTe5/9L1svzNgl7xOjNIOQEIWBMB465gCltwgxacoIU2bEELbqADGLSghS0IYasH7fWymd3CQen4XaLm0UicmSgSvqee/ipBat+JXcy2dyAdMEqjKIALt1DgAczUtlh0aesFZjADHODgRzQQAhbekEg3QOECEbgXlhIw1OeC6b1WakcrkoGPUyRDDQaELgQYACIFZrUFMpjGKczSjlM4oKxIne6VYCDMOviKBQ04qwEYgAETzFUJKFaCC1xwBKl1eMAzcQoTClw1GmBhLKaYhYOTYY1kvCmyC7ZFHthTWc1m4Qn8VcIRiuShEceNA3xBsYrjOC1EeccJAa2TnQLJqBlVRv9/lUHBZjhwJCOVip1VdVxgF2idm8pUORvAgHITB1MdpAEPbsACDQg4AhBIABTYzUUy/tEE6LYyqWF2rgaWY7IamGUc1y5BAoKal3uRiQALgMEY2pCGLNhEobmmACuTetb7usAGgE7CXd3jnjvFxDswEUKBU3oCJHwBDp5wuCcu7PAIR5gWnvDd79jwhF/1JHibXSBRJ0CBBqIgQx32zjjRsD02oGEmr2sL2Nb2mVEtcAIOFTkHThDkHAwhBiMQEYiu46EEEntUoHmAnZfL3KBuSZsxIPIJSCACb0yjFf/QRh7WQAUZiOABc3mlc2+65xVFYdLTyC54zaq6AShgASD/8PXyanDZDUEQbqS28RFssIIHnPUBLliCpnuSniwwoVIxoYkKEn6CGjzBPZVlOBwgnwfJQ77xjn8AC5lwhSucgQ98MMOOZuDL68StAyyYlnrYg3GwwJp4IQunyPQn85lrQAThqu0MeBqDGVxAAwk8KnjtiLqaEhs0nzl62ieYgLaCAASsic1zRZALQIADH5gwwQOG/qUHbIk0UVAD+xahBgStFx/TkAEIrSSBEfCABk1WnAV+gOpvsiDXsRE5aaRJPCWsyAXX5zugP+0vkMDwasRqTgDumMBQJIXjKksLAo4BK8sDWikDAJCgWCCLHMCtzicxxmAO9uAOmuhAaEIj/8AHocCneJzlfr6FVJgnBdJlCHKgnSogWZ5v+DAgukAkyqSM+IpPLhIAlVCprfJirJzruSZAE5RhHVoBE4xtVJwQgTDgdIZOAzZgSEzAOWjBFfLBcXhgMVYDL9LNASaAP0zjLYoEApJlzF4knL7nU6TG0/zvYSJmA1yAxVCkBE4Ai0hjBVBPCzgu4CqPAb+gO5zAc2ZjYloABW5mAtypBHSAb+KFCRAlC6KgCqSAJc5AD/TADsbACF6IJjQKLogIBQAkCIjgFIMASI7HWJAKAiZg6IbuqHRwqG6q6Fpgb4JgB0LgcPRlX5wr6GRKBCThG44BGuoBCKjQ2GAxCoXP9/9iYwSmoR3o4R9MYQ2awATCZXnoxgJEoObuaEt6Lxl5jIEaKLRWJAX1Z66eplIEwzI8Z4cehgGwj1Q4gAac4He+gCky7QveIB9/5Qk4TVLKoAzsgA7+gA+0oP9mwwRkgIAKyIA4pwQPqgSn5QgiqQZ0gAZ4QAzIwA/0IA5AMg7CoAhkwARIqfeMBd2iLAJkagVnjwJ+z44c4HyGKwyKawY0gM2SjqyKkKieKwhuIA6eYRVyAR6KgQWWEYmMBXXwQv2CIB7uoR3aIR+aIOZ4TFwW6DpAbgLiJpRAy9Y2I7RGI0hIDkPoDScEA5K4xQO+hJkixgUeLxACYfIgry6lqAv//rB69HIv+bIv/fIvATMwBXMwCbMwDfMwETMxFXMxGbMxHfMxITMyJXMyKbMyLfMyMTMzNXMzObMzPfMzQTM0RXM0SbM0TfM0UTM1VXM1WbM1XfM1YTM2ZXM2abM2bfM2cTM3dXM3ebM3ffM3gTM4hXM4ibM4jfM4kTM5lXM5mbM5nfM5oTM6pXM6qbM6rfM6sTM7tXM7ubM7vfM7wTM8xXM8ybM8zfM80TM91XM92bM93fM94TM+5XM+6bM+7fM+8TM/9XM/+bM//fM/ATRABXRACbRADfRAETRBFXRBGbRBHfRBITRCJXRCKbRCLfRCMTRDNXRDObRDPfRDQTQ5AgMCACH5BAgKAAAALAAAAADgAOAAh/////r///L0+NbOrcLGssa4jr+2mLC5xrW2p8atib6xjbyvkLmtl7mreauxvKqsrrOojbKqZsebbbeedbOfebGjfrGbc66hgK6fca6cea6ZaqqghqqbequdbaqabaiXcqmXaamVaqmRZqStvqCmuKKmqKOfg6OYfKSWcKSWaKSUaaGQdKGQaqKQZqCNZqKQY6OQXqCLXpqirJmZi5qRfZuQZZmLb5uLZJuKYJqKWpKbqJKTkJKNfZOLZI2TmY2LfoePlGqWk6mBXp6FXpuEW5mHX5qBXJeGY5eGWJeCVJZ6V5GFbZGDX5KCVZGAUZB/WZB4XZF9S5B1Q4iFfoqEZYd/bYp+X4mAU4p9Uop8T4p7UIh5W4h5UYh0WIh4S4h4QYdzP36Dj3+Bent7fn15b4B9Wn94VX92Vn93SnxyZXxzV350T3xwUH5zSnxvSX1xP3xtPnR6iHV3cHNzcXVyVHNuYnNuVnRtTnVtQ290eW5vam5sZ29sU2lwc2lrb0V2WIFoRXNoSW5oWG9nQmloamlnXmpnU2pnQX5hOm1hRWhiWWhhO4JZPWpaQX9NOmtLM2JmbWNkXV9fYmBfWWJgVF9dU2BfTWNhOV5bXF5bUF1aSF9aNF5WUl9WO19MNlhcYVlZRFdWUlhXQ1ZVVFZRUVdRO1FXU1FRTVBOTlBOQExRTktLRkFSSxVXOExJR0dISExDRkVERUtGPE5GKkk/OUs/JEJERUFAQkJCOkE9ND1APTw7OSlAM1A3LD83LDo4OTo3LjU3OjM0ODU1LTIyL0UvKDMvKi8vMS4uJzspIS8pJEkVHzEcHCkwLiosKiorKygpLSgpIiYmJyIlKCglHiQlICQiIiAhIiUhGiAhGyEeHiIeFCMaFyQPExglHxseHxsdGxoaGhoZExUZGhcXFhQXGRUUFRcVDxQSDhIUFhESDw4TEBQPDhAPDg8PDg0OEA0NCg4MCwsLChEICQoJBwgKCQcICAYGBgMGBQUDAgMCAgICAgECAgkAAwAAAgAAAAj/AP8JHEiwoMGDCBMqXMiwocOHECNKnEixosWLGDNq3Mixo8ePIEOKHEmypMmTKFOqXMmypcuXMGPKnEmzps2bOHPq3Mmzp8+fQIMKHUq0qNGjSJMqXcq0qdOnUKNKnUq1qtWrWLNq3cq1q9evYMOKHUu2rNmzaNOqXcu2rdu3cOPKnUu3rt27ePPq3cu3r9+/gAMLHky4sOHDiBMrXsy4sePHkCNLnky5suXLmDNr3sy5s+fPoEOLHk26tOnTqBlPW8162rfXr8eVG0db9rp06WZ/k11udrl074LjhgdPXnB4wYOvO6YKUp44QICEieMHk6tgr8OFM2eu97hvq6GJ/xfvmjbweuiT484te3s5cLvHhbtGX/s3+uOAp1Onrtxr+tNc881vs+2nTjvqaKdNNgw6E4wwwdhiyyuvxAJLL8tkqOGGzDCTDCyc7DHGiGPkQcgov1RjjTbhkOMiOejw1w489BBnIz043kNPPvnoI5A+QAbJ45A8CsnjDEjuoOQOSS7p5JNQLumDk1NGN8WVWF4ZnQ9ccildHHnMMYcfffghph9+QAIJmmyqCYkkknwi5yiqvCLhg8HcsksweeryC5/ENHPMLhNSGAsqscRyy4PCHJMnhXbaIswzAgZ4H33WHAPML78AswspkvjxXB55+CEJJxf2ouqqtLQKy6shkv8xhRgj9vGJLcREY801LZqDzq8xHjijjcThaOw9RBZpZI/J5qOjkkgiWcK01FZr7bQPZKvttto64AC31OoAxBh9SGILn6ZAMgYQOmD7gLvcPuDtvPR6m+233cpbr7cH9Ovvv/zuO6+++GZ77cEII6yDDlNK6WUYY0Ayii7PrKidiwgeqA6NODqLI8c59ujjQvv8s48+zt6D5Q9RNrlwCe0mDG+8BlPrA8Qn6iLMLs3lAYQP1tJM8Lz/Fu2vA0YnnTTSAgu8rcwzx3uwDF0q2aUP0o3hx8THSKMNONq4iI45B7rDcbHGgkwPsiIDSZCPbpuMsrOWWFKJIoUUUsfeewv/IoghlASeyeCaaAIKKKKIUnjhiYuCuOOJH+444qGkckssuxAjjTS2mCLJHGOIcaUYP/zAw+k/XEnGHHu0nnckeSsiuyKR1G777bjX/nokhLSuhx6giyE8iXMQQkjtk2CifCWhNO/8KNBjMskkkiSPSfXKZ6+99nOOcsopk/QxRhjkS5cHJKbYqcuDxzwjTTYXv6jdxeCAox3YC2ZDH32X7s9gNvWzHznEkbjF2c0SlDCEAutWt8VJLnKNiyDkEPe4ySWucrjInDTCMQ1dvMIUmCCEHsZABjJU4YRLOGEaVtg3QygicHWrBCUqQcMaDu6GOLShDGU4CdgVYg96kAMZ/+SwtzTUoRCKmEQlMqEJUaRCFrJolRRlsYoqruJ7WMyiFreoii6qooqqkIT4ygex85lCFbbQE/ucIY1pSKMaKoJjNaIRjTk6wxjEEAYxiHEMZDzjj4D84zGO4Qxn0LGO1fiGNhxXOAQq8JF/W+DiJtlECRawiYd7oOIa90RZ4OIXxPjFKkahvEjsQYgmrMIUeLCEFFaBhX+LJANnmYkGaqKBOBwcA2kYuAQa4od8M+LekKiISkTCBw8gARAUpQtgACMXucAFLqh4xS1a83uoQEU1rVjFSeiBVuSDmB9MEYxpjOM2/hHQNVZDH/uZYz3vaAeCyKGdcZDDHfGIhz3uwf/Pe+DDn/jAR8lMto+TgeKWjvSbIPrmtxdSwhKLU9zjJhm5CloyglkkJSHENAdUikFWpuPBDFhZBTIIsxB/g2Hglji4UCyOiQfVBOFkmokaBg5vdQCiHHYqRDnoYQ95G4MPSPCvEeTBFcZw5i9w8QptriKb2bTiK1ZhqFhUlZuuyMUvPhUJ0IUzYqogRjVa9J3NmfUZx2iG+6xhDa9lA44rmgZbtSMOcZwjHWQDVozQ0Q5gqYMd8WBkQhWqUMBRgokUZRxFIzjRwzGucaGYRCE6SjogzOqjU2AZthCwARO08pXDjGQvexnDXTLRErkc3Gjxprcg7nSIQ9TDEckw1BH/FA0IkrgFp3axi1tU8RW38BMojWGMYeyRGMY9xs56e7lYZHAYtwDVc+IAJvRJKhphM8c73KGOcYDjGtIAZBuvsaI5ypGt1ahfXcUhH3Kcw67nOIeL4kvfc8iUEopIAwEGIAABAOC/ABiAIGDIQEoWTnKZNLAmQnEKyGZCESMcwxSAsAMgiEEOYujvfwPw3/5OawomrYMgiOnQ0dYwhjVcYopl2EvW7g2VJYzx3sSwgxLYS1w388MujrHHXRzqFIrS03F3pkfjRsMZPb6cb/UEjFugQoxhiA4Q4qC1UQiDV+RlqzR4zEdBDdJ9hUQGMpyBjGiUmRrRoIYc10wNbGDj/3//A0c2bolfANsZwGToZS0hamAEJ3iSznMwhDE84QpPYad7IMSd70yGvhFztL08sd1SXNMUT6+HrN2DfxcNAALsgXRMUhIJvCUDMYziGHj0cVSBuwtQrvUZCwKHNQo5DObeIoO/QAWFWGGKP+ShD3+Q0ycmJo392Q9s9Dnrlzcn5kIeko7UiPaaqxHtN8P5f6CoaSQ4DeBCzDCGiH0pYp0Xij+31KULDkUmJhu6Qu9gCmOQwxymwO3/NjqnefM2pFc6w0qv+NKXDpwPd1BvAATRshZeXaJRIYxhbPUWt3jFKVBxClJU/HnQI0XzNG5xLKJCt7+ouOcg0Ycg/FpNkv8YxS4oBQ4XcUcbbUWr+9w3Xm3kLxzgsOt6w7Fe+MYXHT//1TnQUchBxsJNcFLeKF6hC+QK4+nC6BSntspb3upiF9K8NcQhrqiux2IVlRih6CicujGwTg+c7q/Z8R27SOw70iuuIcBH68Mw1LsEhchELHyxDFU94u+0yEWriauMDm2oG8voBuIVz/jGK75DzFAGMChuCjmVXDpiIFVuNQfA+pF3c4Ns38ybsTlrwPGt1ciGmrPh5muzPhvbgL04ABgOZf/i61XUpm6PAQ1pQGMaaNVj1Kk+9d3+4uq6gPhUn0pxi3uz3Ur6ARn2gAlNpEIUlfhhR3f6uz0c8XW0czv/pONOfoBPT3cblQ75RlSq43HCFZ7wxCMc4QhGJKIRNJxEHdJQhVbS4HT/90pQQAM0MAMQwAALQAFJEANCMARQkAZzoAeEEELiEwnXI0KFkHJ18gvGkHoAJA7kQDYHQg7fwFZ/ZFZslWX/Uw1uZm2uF2d1BQ64cRvX8Ay/sHWKojnl8A72kB7jYA3PsDO3hgsQpwtGeAvUVE2nQG5LGApdJTpTsCRiUAeK0Aid0AiNgDd7wDqt4zq3Y37m10uXZmmUYH66AztdmIaJVgiREAqxQAu9UH+AAAiBIDtzIAY+cAACwGEFBwAC4ABCEIgaIAJDkEKJBidwAglAtH3yRggp/7cKt2BkDGJz+7NOKFiJmGIN/4MNqeeBDMJWmsgg29BzIWgO5FCDQpgoTTcN5VAPAWUP8UAOQLgzuJAo0nSLEtc8kwBUrsOGk5AJoxAJ35RZ0TeF99cJnSAKE3cKr7AnEaIKIFQIxjONt4MJ3rMKTVcN0+AMwnCEsbCKrzENzdCNtqAKo1AJl2aNobAKuEAMLacNyZAMxaAqpeCEGLYDMqCH/RUAAdBf/XUAWDMGPGADSRCIgagEUiAInKAKiwKNkLBRGEYrxTMJofAKoFRm1fBGKxI2IZgO3wEgq0FHmihH0VA/1YApb7Qg9GSKLheC/HGKQZh8qkgMrCgPr9gOtf9HDLpQi1WUKLh3CrwTRMJzWWTwU5NACXyABlfgBEiQA0gQBV4ACMfoCaXgCq4AXMEQKMFwKKOQiEmnPaOga4sCDfQRhFO3Y9MQDrjxXdLQDMFwgxTyW7qFDNYQdc3gDNTQDR3iC7SwhMpDPfmWN34TO4qgCY0ACFKQmIkpBFGQmIBQCaagC8PACpGQB2LwMzIgLlOQB20IibswDMZFDGUmDbvCK7nxDeNFH0fWcjJCD/9AHPmUT/KkDwVFmwRRirJog5dDIediTu+AD/UgD6d4DDe4TcxHCpIlB6FDOqVzWREICYVgCIEABmDwBVGQBFHwBXiQCImAjKVwCldpC5D/EAcLQwLmOQIjwDDnIwlI9wl1EgzHsE6DElxGKAzQsBuzQRv3IY6h1wzQoApAkJlx8ArTUDbigA3AEAukAD2cwAlLkAAQGqESIAFCwAV0UAh2sAVJsJhCIAEwIARK0AWFgAlppAqgcAh4gAZf4ARQ2QZ3MEOnwI6tBpqi6QxwxCLr8A7rMA4AsjmJtIP1YA/8AIuxaRzukA/8wA/7wA8F4XLhAIS99QrmaAqxAJ/XgFftYA66iQqhwAmKwAkThwqwUEWy4JOr8HW6lkZPlyelsAiIAAZREKdg4AbHiIzgGUZxEAblSQIyIANTBgmsYE7fARutAQ1RlyhppFvNcA21/6Gfg3ofrwEJQ3UAMjAdumAN6EAP7cANv2ALoTAKpiCmnrABEDqhEvABQfAHQXAAI6CqQRAFQiAFpgoDRlAFegAJqvALuTALm7AJiPCm1okGdGAIFBmj0jSjY1YNLEIOOboO61AO63QNDBIb6xCk8iRPZvMO8tCDwRmk+sCk/+Bd4OANvFCurXCu58oL3gAc8lAP7xAOgwILpNCgYPpE0gRFZ7p8U8WMtqAzELILstCrcECdYAAHiNAImlAKCrsKrhBGzpGnUkY+cYCrv9ca3sAa4UUMufAqRRgMzRAf+dmo33EMrEBd05GnE2uR5PAMqLAmE9igjUB/jMAIidkDf/+ArqvqLyPQBzAwq0IABXsQCR+HC7PAq79anV8grIJggdfIjrgADKKZetuRDuugDu+UTgASre5ET+SgDvh0D/ZgD+0atvsEtoZqruh6rt7gDeOQqT8iD/DqWxXHRKIQf6LACZSgNzu1nLFFCJ/wChDyCwGLCHCQmGDwBoMwCN3ZCaWQClTVVF2JcnJCCr9Alhm5OQICHtMgHtJgDL4AC0GmM/dJG72Rn/kJDcHQB3paPtTVB6cmDc4gCc8xBoSgCPQns4EIA3+wu62gA/3Ch0HQCn8QARMqAkKwBHKwB5PwPb3qq8DqBWugBkcUCcXKsM/VgS0XD/fAD/eAHHiFms//AHxt5Brh8BsyIg/yEA/pi0/pm77xwLnTsLbyu7blEIIz8g7x8A7aoJNfdwp0q7CacDeF4FoYVsB64AefYAqL8gtGW7hS8AXamQiZ4J2uoCg75jXE8Aqj8AmSII2TgAq7EHWTwhrjQZywUMH0aZ8DUrosPA7CIKkLM2VxIEYTCz2d0wd5Sj48cAIZwAAMYAAJUABUcK6q2i//yKo327MTqgEr8FGEUAmW0Ly+Wp1eYAZlkAY/Rb0MpnuZU5LqEA+0Kbbo9JHsFK3lmw4rWYqmqDEy0l3fwA11pQ3VgAzKQA3cMHTrIA/OIg/pUA3EILeKowmMqwmc4DzUIwldJQez/4JoKSfIzgsHX5CYbbCdx5gKjsub5tg9qFDBaRZtysB76xS4b0kLHJvC0iCDt4EbvZEbwUAqOqBMOrB+WkNyoZLDOrwCQvDDAzAABHCzafsHROUvwUsHpjoBJ/BuchCdi7AIj/CrkJwFVlwHEogJ4Jl1nzkp10A2stkOuPEO6WEO8MFOu5Gj9ZCkPXIPQRoP7KvOPNpm2WAN0SBNPgm411AP9/AO5YBkvoVugoyMiUMKmAA7hFAIhIYlHzUHdXAHA1ud2Umd24mFnfBEvIkKHCy5o3AL0iAOm4NWEQeNn4AKpLDJm3yVFHKVTWdILaLKPMoc4xkHN5MHWjMm7DmeUf9WPlOwBFAABStwAkuQBmmLrn+gA8EbBDIgvLucAEw8BXuAKqnQCc0LrFlQBtJbO9bnScdqXGsVDvxhtXmcyu/gkfAhH+Ewzq6IDykTtu2LvvFQrrzACqywu32gJmQS15Dgnmm0PrugC6tgyaXgCVdomF6ab1uIYUOUvIVwlIfwBtSZmFFAnYjAnVhocaigCqdwRq4wca7wScrAVsHwQZ/QB792Pn8LXFwnpdDzccRgSC13tebxDscgnqDdB4SwJqUiJuFEXXFwJTkNBUrACI7ACj8tvMGLrqwgCl0AolLQBcqLCV9XCpvAq5swsG9wCIaQCZhACrLQarcGDMTFZaT/KSDWAA5ksw7wgB76cA/GcRs7ah45Cg9V6w7w3Q7wrc68kLZubQqVN9NxncB1QiFXZwvT1CqyUAqC7KU5BVQ/FbSRAMVLhKKKDQZS0JhfAAaPfX+F8z11oid5jXW5AAzFUAyu8Al+gNutKwmo4Cc8FgxRStmu8AtsFDY4JyCyoa34AA2xILtrQnKlUiY5/KdiAAVdEORSAKLBTcTe0Aq8UAodaqq9XQmcQAqusAqzUAu14KvSvQiW8OSSGV7CQJfZIA4CJE+3wR9ks0/yAA/x0B/fxai1cR6viB7t6r7x0Axr6wzDgAuqEAqYkDd1DY1oZIQ6cwxmVmu7cAoDzFET/3gKIXwMxjUMzpQLUNQJizCwkSzhYDAIi2CFTRQKuhcMhmQM87gqIHI9tB0HcZ0+u4CX0XB8seAK2QQLSnaEdnIMMmiT/DAOx6ALyjPboD3iz/ElkPAKrzLgggDkdxDc3jAMvsAOyuDkpjqhQuAI3JCp+nAO25AMVQ6s0w0KqaALyAAj5hAONresaqwx5pDH/ES2YJu+7RAP4Nxy4HBHxtBmq8dX3LEayAAMAo4KDUoKXXQL9lmx7CRn1TBKkmA8dd3ibFQNaEUMxnBm1IAMu2C01RnhD3zpiWAJnbDp0HMKeuIKnCAIatAFj9ALnHDwhEAmrTtsqoAorcLvWygmXf84Ct/YW/ZJXPOOIMQQCxZoKr1OKuHkB0wHHOGQC65ACpmDrmu7DsngCL1wDrSQBmTw7BQKCLSAC2ykDFRe5dGNuIsgCpmga5mzVb8gDNxdSH9kDWRevt6cD0vKD+edzmnukuRQDXUMx+eQc3wFNpnwPZ0kC64AC5ssIeuzR0/XNdKQa3qOCZxgjblQxy1CT231e4yapdmADBQP4YpJ4RDdCRr3PbvofUYkCKngC8ZAC/xO6mhi4r/Ae086KK4wCg2qPahwLg+iC5yQBg8oCIoQC81DvcYjKn4wBigLCbqADwJxDbQgC6lACrAwId4gDvBwDvMwD/PHDI9wB10ABYn/wAmaIAu54Oi5QAzKgO2z8AhT/AVtEAiGEAmSAOWcQgx/9PBipgzKIA3tsL7oGxzteg/6sE8AYa/eunXpzB0kF45dO3TnyJlDF86ZM2PIkFGrVi0asV/Aft0KdkwYMWPKlFFDicwYMGK+aL1MxoybuXj59uHDiY8fv3vqsiGrNQsRIjBfpByFg6hRo06lRJEiFarQnkKcTq2KdUvXLlWjRn36JAkSpE+mXoWU5izYrVuuSHHCNArVK5DHjj2DpahOlSpp6nCKFCpSJEKE/OQ5PCZOnk/B/P37p8yToh87dsSJI6lUr2K9mHXrzEgKIEFkWQmbFs6cOnv+4G1LVqvW/6ZFiUCtahtrqzFizq5pAxfu3Dl27OL945kP3717+u7Zgy5QIHN57rQR0+WK0Jg8cvQQmnRql7Nk28yD8xZNmC5WpkxhMvVJbqxfJ6kNy+XLV66XvqhtY2e4c/L5Z5+d+MFHHXKwoaaWR4gCQ4ooopACDEQW8US2Rx7pZZZORElFFqdk+cUYa675ZppmbGFFFbA+UUWXY74hhxlmOusFFlho+eWXXYS5S5pprrGGGFhQ8SoSUiARiyw/COkjjzj6+MSWctaxJpdHGIGCBx1kAIKMLhhxhBFGmOmnl6O64M4PSEwJ5ppx0oHHntdim8UpTU55xZZbRjImGmSiqWYbcf/QaaceeuIxp5xvrpkGGkknRXGcK8HZ5RZbdFFFksPyCCOMMcaY47tQVtHHn3ve8aYZXmxRJb4XTSHFFVuEEeaXV0iRRZb+ikkmpmCToYabdiCDTFV6xIHNQaIkrBCMQRp5xMENPSEFllQ4EaUUV6ThBhty2nnnnXSmCSYYW1ZRZZVdkMmGJnrmmae4dsR55pcdM40FFfokIWSOsAgZhRBI/Ihy1DjCwIysdH/BJRVPBCHjgAN8WAKKMc18hJZeGFHCEx6FwQWXrTQlJh50ms1TFE1COSTmSzahuZZkDj0HHnr00YeeRlMUJhhcg/klJCKnGWecZoAUxpb4PM1DDDH/SJ1jjkIKIQeca9IiJphdWIwVLBeZlA+qVHwJ9jPiuulGnOHEgWcfZOeGTBzZhvoiBxZOmOFLGWTQQQcfBvcBCCDCQEwSVW55pp7n6lF66F12aeaaar4Jp5yHxjnIHG2eKYkak8Jppx1odJHkE0j6gCSPPqLMY4wpptiBYUhYOQaaoF1BZYoDBBDAYhqgAMRMR5b5mJGXZMHFmGq0Iaecd/DZh55zlAmqlE440eQQPA6ZueZkiGOnG3rZtsYaaXQn+iNachmGGmu0Mceedq5ZzxW3OFFkD//9T0Ma5rCHetRDHgccB7peMbbX+cFNZVkFLvKzDWXAgnefAJUPIPEY/7p18B92q8VQooCCDUCgBCRwgMUOkEIVWmwEMvBBGPpgimPoRB/2SIc3phGpZhyjGdKQxje0oZrVtMM49Cgf287BDSaKQxnC8ErqVuem2InhB1P4AeI+gSsWxUcHFmNA3yw2BTOZiRnGuAUxtMGNa4CjHOVIxzta85hlYUMZK8EFXSIGClkAAxvbOAc6FMUOcTDRRvQzlxC1oQ0gPsMa4iDHQ9wRj3e0gxzVEF0uZJGKVJziFKE4BSr89Q9/+IMf9ijHNIRxiwXGJ0bXiOM71LGafOjjGq8wRR6AEDgffIKDHpybOGLzoCjsbQYlkAEJRrBMZjaTBDoAQhwg8QpoIP/oHgMZhze88aghTcOHz5BG+uZHD37QzRzG+EUuYMEJTkhiFE7KQzzjMKpR2Q5Ox0iXKmRwAAQkIAETsMAMHrADM0nBEex4B4rAAQ4alesdB8SJP7Khiy6awjTpakYzvpGOb3T0HXLjRz7ugRN6OM4f+IhHPNzBjlkiCh7tWI063gEPc4jDpgwyhjGGAYxcsOUWv3iHOcKhDfVZAxx0skc5ISNSeczyIPGQxzXSdRdoSOMaxwEm3c4Rm00gwgnGRKYymzkCB4zAhTAMgx9eoY19CKQe6mDoN5KWtFaxZXK7yEUunkGOeVhDdNywBi084Yml1IEMe5iDJGAXu9hxB3H/BCtaMExBggMwgAEQoIENVsC3GYiGCsoYRz2sIdekOVQe8JBHPZYDDVawQnWtYwxYWis0aEzjG29MB0wbgg57yG1uCIqHOtZxwHSA4yHpWAc83CGPRd3rHNpwBjJy9YtjGLA6I82HUoF5D3eoox2T7G1WxQuZrc4GDE1YwQZK8AAHsLCFKWwv4LQYDHfQTR4PrYdbDUiOZ9zlGOrckTKsqg4FKcMXnniEIwIYMMXCjp6Ojd0e2CkJMDJgAzzwSxWWQIMZAAIQhUBS015ki2mgI6XxCJDbhjEJPUgpDIWT5otoa9trGANYw7rZPfLhjo0Q4xk9PIY01lEPd6zGHfXg/8c+dMzUesDDpuHYmlV/Od5/6KMfSCwOO+7BjylTeW762Mbd4NAEG5igBCUY6whIsOYzx3AMeqiSNPTRQQMh6zFJtsc0fhELPtvVGON41DF2QYqXwAIThSBEHloXpShhBjOIe5IkdvCAyl6WBmlQhCIE0YUpzKALgsDEL0yhinq4SC64CFZQZoHgR9SmEYFIRCayxZZgsC8YuggGR2ghi170uhcZIpZJqAEOdNCDHvCYpTpSypCc3SOQiPKcVcERjR4Bwxlehow+6DUPtrGNQNj24D6ahYg3kJlvf1uzWEkAOB3sgAyC0AQtlGEOcJMSMm9tBz0M8o274ApXWcnVK/8wodhFy9PRmMmDJF7xCos9YAMbOMEKoMCGpSSiCp7mxDsxAw3WjSKNsQlKLza0oVnIhjPFKEZef/EMaOBTaBNRRkyYQY1kAOs/5jlHvpnDkG1gQxzhiEY0fC4ObFTDuNlwBjGGYYxdlyJE4O7GMqSOPFgsvIu2CEYzbHsleYzXH+XdxCDOsIS+JVOsY31mDOeAiV2cI6u+Rc5OeNZBU0IGHwLhh3OyQQxTSEJKh+nDYh6N8E+84hoWI8EYyJCxLhSPTI8gwwbSUIhbjIUsqqCL0FNd8lnMAljYQAcTu8ENZiTDGLljH67AiY0/5uwc20AJI3+BCrhgghB7qAO8e6H/n5PAXqdKjwUpQskJSlBCEZXQRClLKV5+zCtAz9AFKmRleRixgrbjmOM9hqYpW2A9HtibhSH0IIYZJDPNznwm4hT+DWTZIx4JobYuYvGMcEQykgR+ts7ooZy7J3XO/9CGrgC8KRG8hUE4soCEFPIBUwgHYCgTRxi5RxCDEoAAMcid3JkGhiKH4eg5mmM9QEKUJmubQlIGHxIS3dE6GhGkubGHbHiGW3ARsJALXTCGRbIpcUAJbEgGA5OFvAIGYDiJcECHdEiHn7sGchiypAKmeTGHc8CG2fsK1Xmdy8O6Y0Ca/MqvHTKFONinFiIBHxiDPRiDXUq3dEuzZwKChLMS/1LKB3LQBo0ghl3oFWIwqkWiBtbjBvMwjxsEh2zIQZSQhUlItHhynQJEuMXwAyAgAYahC3boBUeAREZABDbYAQqkhGBBuVSzmWHZRJ9DB3hAB3GIhmHIDkzAhFCKBWHwI0ASB2AIhlgwBa8YhbMQBmm4I2CRCXaQh2VzMj0UkHn4trmph1TCp2rIhiGiiXuoDgUBB22ouc7YNbjwClIQpR8JsmsIBwKbHlM6pXoIBl1aN3ZLw/gIPB/wGzNcJhUaAR2Yr6R5hl0YhcEohEkIhVBwBVw4BvWRBmDwBWX4I/MYum3IBjuKuWCRhUrwO9dBDAI8uIVBPFO4BSmJA1gQOf9EGI0qgADLAoQI3JChGIqRkw1m6DkKwgVO2IPtAIIdmB2+gIKPrJZ+BAd4WI53CAe2mTqpM595gAdQhL1hwTl6ACZ8GAdtuAZkyIhqEAd1QDZyyIZjtCNMzAW3oEZXgIVYAEJi8TlyQBR50Id9KCV7wId3eIWxEBuQ2DNS+AQ/iAMyXLNmOit2ZAxb+IakugdweIZnIAZh2IVTmIRRUIVYGQVMmARSQJtg+Q9x6ENrQIZhKYZSIIzFYDSGfDQfUKEHmAJYiKc+kARfSDBAuLgSQIAHsJCRKzlgARYlMpRw8cdcOIVMmAQMChWp0TAlsBBEILkeVCNryKmbxEl2mIf/cyg9awFJm9mGTzS2YPyHOgKGpTNK4SCISOq6fCgObngijxAau4gGarARbhAHc1gIruQy5duHd7gkY+CPXsmrVJgEPxiDFzO7tmSmA3ihGIIEVZAGDlIQouKIVRiFU7AFV5CEOZADObCaSOAE3gCSZ9gak8BEUXhMhQw82AkDytonHZAmQuAEaIgPWdiDAPrMEtiBH0gCjyRRj4TAkHy9YPEETaCESNADxZgnMdCwLijRRKCEuEASTCAFzui1ZfgM30xRkCs52QgWENQ/ntGHfHAyZvCF5RwGizDK4NjAb7uJd0ggVdqFV/AXYCgWbiCOeNCZ/0sWVVGQrckF7dEE/0FIAzGYAiAwx3M8u7PyAWl6BXJAFncAB/Uxhl04kuYZhlW4ih7cFqhABU6ShWEQttZDBmJAl6ZRhUVbGMoCngOIA1ZohVfghF74hQ5NA77ggWM6M1mQDQ15EBIluVooiZIIBTHUAfd6IR34gTLAA4/ckFKQhV0wBmfI0qVzCQu6Bf3whaDoSFqtFuIcDnQwTnh4vRvpvFnoFeaBH2cgFHXAh+RUh2s4hn5RhXrkBF4BBibiTuKYB3ugm3sIh2dgTUqwgzKwgirAosoYnMAxu/iUz/RjjGDoOsiQh3CwhlHEhV55H19IhUrgAztQgy3YgjOAtUSwhIZ12ErIhKWQBf9kaAd/SKhjeNQ88AGzAh4BeABHEAlYaAQb5Qt3rYwZmAEaGCxPaNZeGFVP6ISCNQRLOAVdIIZsoAdyEAYMMsDFeBNc8DWR67VkyEm26QyX2LW8yg9Vo5lNmJnOMwZqgJuSCqpzIEFMpJlSGFJfgBd0UEq4owdtAAZa4IRKqARKqARSSIVcQAlwFQddhDt+gIdqWKVT4AQ+OIMyMFnLeFN0OztmApMweBNhqK97A4ekixh20gSXAQVLCAQ8gNzIDYRAGARDKFg6WAMz4AIt8IJFyAV14CB+UBpV0AGzshgHKAFHKIZjQIVJKIRO5Ysl+AGU/YEjSIIJOYrcTQIhUAL/LWiDQ7AEVuAFXkAGXxgG/aCFSvDLPtmUW6CFBIPESDQeCOQQzlAGZmA9dGAHeEipeaCHezi24bC/cFAIZS2kklAGcaCXEMmFi8gG4zS2ndyGaAiKS8ADNCgDM7iDQACFUtCEUpAN/Ygf47gHZOkJYCiFQzCDHoiACGgABYAACJiBeJVXdFwhNYOmzLCFd0AWc9BVWQgF4xOETFOE4rOERDAEhjUEQxCEgrUDO6ADNWADNlCDM3CDTgAGduggfvCB4DmAByiBOug1WPiEORADMtADMtAwGzgBCGABF4iBGIiC24UWKYADOKiZaNAmb8iZY6sGXdCFXwgaOZSFztuS/zKKXkisXpHbkKZ1403YkEXwyEXYBJZt1lwYVWAdllmAH2UglGxYqKa8QdgLVv9dYUvgI/4ozGBRBm7QRTH9hxY0z1TQhEBQAytg0zYlnAqOU/lcx2j6BF3gYMhQBxwMirB7g1R+gy9AAytw5StogzeI3EGA3DuwZVt2g0HwBGOIhy77hIYDYkXYEbggBDkgg3fVsBVAgRaI4hgggiSI4iEgAiNoAt+l45Izj2LLh3yYl7cJBwpStWadhWEgymxIkRth4wcBhMll58mFAzCIkKOAZzhYhJkphXu+Z0+o407Q502w1c4TEX/WWuMVHZMYhqCAWa2dBf3ovBtLBv84h//9C0Z4yJdNquQz4Ass2oE3hdM4fVUZMgVggAfIiAdsMAZfsOgVVmk+uIM12AJ27YEeqAEU6AAMwIAGwOkGxukOuIJDuAa6iQPE24E0gEBagIVRkB1kTmYWMIIhcOpnnuIkkOqpdgIvQANZlplLWIStpmU4wAM3wINV/oIveIML2QSbab1z6IZmEc6lWIqtXgQ4eAN4jpY3gINBCJ83voRO0IRE8Ot6duPwKbmoRQkDy5ORZYp/7rxN5D1HVi6g/Id6+AbzLIVFcAMrWAIe4IEdCJzOfk+PttdPGIZj2QcncolSoI3JHYTVZu1BaOcVtuXLpYM7UAM6MAM+KAVkKGD/ZCEE4BmBIPgEWJA6WAjQMbCMH/iBDfuALnABKFACJYACKEjYLkDYLXgCJmCCJ2iCJ3iCKzADNKjlO/jqNViDGWaDM+ACLmiDNvCC9XYDyl3tK37neD4KQHCD906E2sCDpIDneU6KvH7jTqCZkUWDLEADL/iCKHCCKHiDa56FS2gDNECCGuiABk6BGkACNACfTZgFmrmEQ5iFiBZT18gGY+jwReACzEbuje7sLynDZYIve8UEYFCHf0AHZJAFTRgENtiCI/BxH8fuJ9gCK8BuIu8BKmACV7YChLUCKnDyNDAEWdhtUo6D4AkC4eUFgZOE2aGdEF2CLugCGmiABibz/waugA5IgR5gAizggizIAgXHAjY3A7CG3DXQ28zWbB5YAirYgudWAiEAdCEwgufOXTDwMERgZ79uhEGQ76KgEFZ+g0EA7EvI607Qar9e7do4hNXGA0lvCoVGaNeGtabID4K+Q5QQhw6SB2rAhUNogyvIARioARvYbBb37BdvJsEZAz8whWFwPXAwhlXIBDVNgyVvcidfAhtQ9h9nAulGWDMoA3Zt1yqog1RQhrmJh3bIVliFBWiwhU/oA1FRSdrptCkAUTCnbldegnVPdhtAARDogArH6Zwu83jnABN4OJSlAT3HbiPwdz9/bi/IXS/oAhomgwBCeBmW74WX9EPoBP9QAAVNWFwB74StPoSFhetFWO1GGGhgrQV9ToTJtY21zStfyE4GqQZ0mJtSIk9nyIVUuARLJoNMpuCOZqayQsNdH4VhoCCeEvZCMKyDJwMqWIIft4Eb+PEjSHIlLwM1CKAhtwJBSIVsmJvo04VtEQQ1qINR6INd2oGk/lQfkIES0KwVMPsToIG0T3tlX4Ik5wI0WIP1du83QIMnWIITMIGMRAACIIAC8PsCmPcGhoHBz4Hb5QIl6AIocPoqIIODDyA2AGtajlyvxgN2zvS9dlqtHoSY2fREiJlFsFX4sYhgWAWJH9lAYIM7sARReNZcOIlo8GNxCEZ/QCW6jRhLoIP/mU/JmofTmy+r+RSDPTgFY8AGXCiFDy8DJqiBFEiBEHgBHIiBIiiCI0B67D4CKrACp08DNXhhNeCCLZDuKA+HuYkFTDDQRmCERuCENs0DHSiBMJiDH2DTYzIBfN8AtbeBdmf7om/2OE/v9AYIL1y4bKGyZAkPGiZmzODhkEeVLVvOSLSyxQqTIzVagAAR4SNIkDByRIny5Q0cOHjguGnZEs+gRZcuLVp06NCgQTdnlgIlStawaNKcRfM1q1SjRGzuJBI1S5YsXMOUKUMWTdy9f1r91ZsGTJaoRGqsVKnyYweQtD506JAhg8SIuHEdOCihA8iYQquQZcM2zCjNNlyy/zjBkaJDhAaKFyvGkOIFDiZPtnSRODGRLHBa//GLNQqTokSNeiXj9itMGB9hppBh2JAG7Ng8DtJeckTyEy0DuejeDYXJwYQzFjZ0yDqNGjVs1FiuuMXNokF27AgSZGi6HTx43qDJEgUJDBghI4QfWdILGpSHaF7atGlWLV/Ihg3LhavUppmH7rBxk6jTLE/NAgwyVSEjTj1b8TPOMbGcQkkdaVRhhUFL2HCQDTz8MMUUYQCx1ltuyXDXGIScAkw14IiDTS3uDeIFGF6ssQYXV1hhxRnKBRLIGmU8kQMMGoz3UQpXlLLZPs88QwsniXjSCzPx+KMVNDr4IIYYZdkQm/9stR3xZRFEGJHEE1j0NpAXFBok3EI0OLQhGWkgl9wZXdRJGRcwBaJGHdNFqAYdMOWUU02DBJKIIYoUUoh1d5xxhXdO5DDTTO69FyCmAbp3ySE7BnJIJ6XMkoosuSCDjDHKiCPPVvZYEwwsoUAoIRllVZGGIIpUsishehAyyi3CQDPsMUo644xV9PwjDjK1lMIpHmtgcWOOzOV4xkBYaIvFE2Vy0QW4XWBkhyzZbMaPNObEw4wspGVjDrzfHPOODz/UYUgVwm2wQQn9zuCmDTa4MATBYhoxGZ5eaPEEE1T0EPAKJ1y4BBVlITedcmqcsfEZawQyCKJ8YGeHGncM2in/odEdYgnLhrhsSCL8LXXHpzcdYpNMlOrM6U2J+LxIqKWESosvwwAzjDbw/OOPP+9IswsqmRiiBhUWqSEIJae4cosutryiCiSSfKLKK7bookssqnwGLDLm0ENONcDgQsokhdTRJx9ssMEFt936/XdzlhlUxynDfDPNNYmrY88++9zTjjv2xCNPOtM0c8sPPShWAOcKQFDBBSfQYOESN7ggBOpCDEFEE09AoUUXA/2NRBFhJpEEE0w0ccUVXLTBxhp3nmGGGWwc6jIffBjCB803J5VIIHfcQQf1yrPcssvS07xjTZd0Yin44bvXqfaiaZII0LPggoup4dzD9DvP3JKK/yWOUkuHIZpo/coro3wCSR/yEMA4AEEHIzgAAh0wAh2E4RPh6EYyesEJRQhCQmXBERdolMEuCMQLXghX7LhgBnCdgUJ20MQvEHeNb1xDHfp4oT72YY8ZusMc2oDGMRSxhSVsAAIPQAACCABEBBiAcwVQTAIU8xEQwCAGRChCt5RgBCVEwQlIQAIRboc7v11hIjNqQxvWEMY2eAp5ybOD3tyAh+hpZ1A5ucnLXsY86R0qETPpxPc2gcc86sdm0OMD9exgPUtoghSnWMUpUoGLXSgjHJR7hoMoYYc0VO0MbLCDzxSBCUmI7ROe/OQcpqADBxxAgSRg4CfSEY5n/AIVmP8ohBxqtQTJKOEJRrjlLYtwS7+ZSVvfuggVTqiLZghjGt94BjjegY96yCMe7GDHPObBjm50Qxu0sIgVELKDfvULAv9aAThDIAINkFNIH2FMA4bUxCs2wQkMe4JFuNBBD4JxjXagwz3poDFLtkGNatSOdgKBBzdE7w4kI1kdNKac5OGxFA51aCcaYbNF+KxlIiMZ1jQhClGk4hSn0IRGZbELZGjjHe+Ahi5WkYlIRCgNfQIEIMCVBjLIIQ95gMQnOTkJPXQoDGPIgx8k8YpxhOMarXylHMqyhB48oQkLU4IUa1ewMbVuC9q6SEbUoAkUsXCF4PjGN9hhjmdCU5rdsIb/MG6RBhuYgF8PQCACEcAACGzgBBzQgDg1IAIRwGAIuXvnE654RSAFaUghgUESogCj3xl0knJKaBksOaOXDFR6bAjjGtRQBluVhQpMsMjG8qOz/NQkZ6XFiaEM9bHS1gR6ovkJMKRBDnM8YxcqVYRmt8AGmEIBCnJKwxwE+MlPSAITmOiVHvYQCUyMQhfHIAc2mEELuhFiplWIUwi7lZEvHQEHtbtN7sL7MBtUQRG5IIc86jGOZ1iDHEqiZjfIyg1rSOMYx4AFBxgARAQSoL9AZMAGLmCBvY6TwE08wg0SfIMXvKA84YlBDrx7mzJhwQlWBJJhiVSDHlxhDf3xlE5c/4sT6d0zDWWQU2dv5MUZsfiyYPwnQKMHPMbeAaCDAOh6ROWLaGjjGrVdhSYMcQctfAEMRjYyIkAmiEmY4hOmeLIpJhEJQuyhEMsdhSt08QxyMGMZxUgFJwqxh1rVqgyyYxiCb2CDG4C3W5aBp0GskIZGcOMf7NCGOcgRDm1oA77d4AY34mvDY+hiA0HsL6IRPdcLNICcEni0XmGAA+52FwYNdnAMcHCDIkhGC7rxQhs8SE83IKKy01mDFZAAJMSMpzxOUKwXzKCGWtkqDRLJUX9gbOM32uTGAHXDGmQNPJkJ6j+y8IUysCEOdahDHM74hSw0sR0wSOELUqi2F85Qhv+76cEPhPj2tzERi18I4xdbVkc70NHlYniiEdfpQhWqZlWMfKkHD+sBeD+r3dxZyAQngAIgHpGMboxVHeQ4OHy1EY6xsiMcx/jFLcQwAAFQPAABoDjFhUgAAzTg0ZAWAWS+i+AXpGCvIEhBeLz71271kuXyNF5jBQHI5NyhJSz+Ihjb0B1JwSAFhx1JYousa4BqR405+TUYJ7sSlcRkEfl5Ty1qkYypJ8NZojBEIM7g6SgkAUgviJibfiCGOShXEYqKRCYOGYtdECNF4OhyLWaxiUCwoSBUuDtGcmfv8dr7CPb2bO6OYIMTmMAGAGfEIwQ+W4ObgxnEMAYz8qyN+pb/2xajoDgAMq/5zF9cAAMoQAJC34AJDPgGEnaBC1RQchicvIk5QMJfteUET3+6nztSg59IVgY1tASzHZtsPVXihsbyIRDK29EbwPCFKMhRZMmLI9ZrzJ99ytrDYHyDG1KS/ZRwHw5v+F1ygAmFI7AABR/gAGx4MAVbUQxHajAEgGbhC2psYxviQMc2kjGLRtyhDAYJmA3cHRPYGwvUgAFuWHipyQA+zAmcwBF0ASNEICM4Ai2EgwWSgzsQgzQogzREgzMQgzBUHiocwOaVoAAQwAAMQOiJHumBAAuwWUaYzqVh2qQxFYVpC+2hgRo1lh1AVhmYwRqgwYygAfEA4Re5/wH29dMd8EF1xJHP+AwdGJT21FiMAdT08YmcJAeLoUE/5VwbpAQg2BxFUIiF2AA4BcwsVQiGXAgArsCaZdoVMEUp+AI2JAO7LYIbcMET3ED5rQAL/OEKoIAgDiIhEuL5cYABQMARAIIEMmIjFAM3HJw6zEOqPN4H/sIx3FAsQEIJZp4AHIAQyRU6TQDpfcAHBCIHUAAFYMBiYAAIMBibTZjftE4TYIEXuMFy8EmElAEvAqEI7QYXlAGL5ZwbvNgaSA8e3MHy1FEimAEXEmNL9Md08MHdtFQZ2CIaGBmoKcyZgBoXDgRW0caGdFYZomFtlOOaHYEVqEEglAIuIAN6bf9DiyTCGTCBGbqhDfTApt1ADbgAC6gACqiAQP6hP/ojC3wAAwyAAbAAIDiCI0RgQy4DM8zDPeiDP+TDLezCLwADMRwDfDEDLHTixfnXAigAOikGBYDOvgRYBWQABghkg+VA7VCIFfAO7wwE7/STGphYcqiJZfDOFpQB7/xgEaLBM+bcGhSjSxDdQGRBFgyEUbpBdVRHQmlb3tVOeDGBEehO65SJFniQHgIHbZCjDXDAIW4AB5iAvzWg6OCjDdwGF7DBIISK/BnFI/DfRVgIDQSM6ZiOPwJkQAKkChDkCwgkQg6AIjKiBCrBIyxDN/RDP0zJP2jD2pmbNUQTO3RZAHT/oucJkQGYJDql5AVAAAMYgAGUpAIoAAV0RAd0hAq4wFuGF8vZIhidGBnI0kH8X98tYA98FkbYJBYMxBAa4Ra2gbYQDz4JAqP0Bxh5gVM2ARPUTu0gQVd2i6f10rQ0zHXFSU/q4x+aogVkAAeM5wmAk3lCDAAGzN71jhBuwQKWI0Gi3h8SZHwmmEGqQAh8QA+xgBI0JCLAlA1wgmNC5mbogyv8AjPAVzTNgzTkAWf2FwMsQAWM3mKQIgVcQAVAgIZ+DgVYQDlpAAiIAAu4QA1s2la20xNk0B1o1omZGN6ZARbwTowC57YAoxAapVHe3M3hnh1MjzMapc59ATc2lRFI/ycT3E4TJCm3xCDFkEEZ9KgbbEG31A4OpN4HZEAGgM4FbCmXdulKsmV5uuERUBiaHYE/rsAHCGIIhIAgqkALtAAsepemscCbpoBA1tUQeMEEAoISbAADCIJjzkM//IM+/MM8cEIxUBM3lJU5yIsAWBzFDYAQbWgSVegEpGSGamkFdCgIaEAHtCYIqMAL3EAPcJoRNAF1YoGHaZac8KJnWQEwytNAaEEWfKUW4Ciu4qpA4CoYaZYZQIpTBmsWOKcT0GKRJlgR5MDrIYGCLUFZAModmIGUMkx0VmkLsGkGXEC2jiYEbKmGLgADRGi4zhVphitdcUCJKlggnp+2cgAKrP+pQKYAvApkCKRAR6CAB3gACHhABhgABwyBEkRgFGSAACBAFcDCRBKoPjADG3QBNTEDns1DPKxDOIzDCFAcKM5VBWwqKXYsKTaAAiyAyIrsZ2bAp34qiL5ApklnU9WiqrKBtvHiZr1qcGbLU/LGU3pQruLojBTlM7bEj+Iq0WmHUSrMFfxND9QAAFKML3paFlRYtxSpsrpAC6gAu15AD21ouZpr1oYrEBkAAixAXeHAENRO+b2rB5jimnZER9jp2u5rvn5q3GIABxBABgyBFPApAwgAABgsJgRDONSDPkCmJwiEw3bDZpyLH5TAuZqlKX7Ah1qA5FaAApjmyEroB4T/gL52gAc8xqhy2t9AQRcsBy9ekMMwwRVoi1OKGuuyLq+2wTQmSiSYnSFUx7BmgU06AbDW6nViAXQWQQ2gwAqMDhWUAXNqQXB60DAGoQgd7RMUgZo1YFtp6Ljql1wN0RAZwKJlAAq8aQv8oSB6AAZYAAboK9uyLed+Kgaob/p2AAb06wfcgBJIgRFAAAEIAA3wwS8QQ+AyDTPwqRJwQS/MQ+JqBT3UwyqsJAdkgOQ2cDmBQH4+rh+erdWeXwaYIgq4AFbOZhes6maRY29SWK22ruvmqhhRRxMWwvJQYQ0oq2Al6ROsrgdpAROwQAMGTNV0ge8SAREggRbdjjvNYhPk/xIOxEALsKvWkuvWVi/XmgAKGODega/5uWT55qsHoMD6um8HkC8GdLHkjm8Xb+wHuIASQMEKTBwA2AAo0AM9iIM4wMM95MIaTFEZD2riwkMu2NYUIABdiacpdsSa7hVgXunjpqn5nZ8hv+ARIIHf1Go/sYGrkmE+spywButXkrCoceESPt/LaM94dEB4JFYVFcHD5CYVXMQR8PAPrzKSdmUSGAHB4ECVugAKcADWLjETY69pmmsFpOl8AuTZBqYBSlgR4IALSycOHGANpAAKdMAFFB5r2M0PMAAP2AEwMJM5gAM53MMwtEHuuBQuFLA4AEM2oIMm7MsJCO8/gpz3tv/AfQ7mfPqj+Y2nL7MZFDFMLc6I/93d3QXMmAanDGMyJuvcJisP8mzHGxjgYYAEOnVACuTA7mQBs6LeC+QADwsWFg2BskaYLPMwEcyyPI+nLXMrE4/r15qm9n5OBoBAC+DAtaIACHxAeJqsFbtvF69vvu7rB1hxF68iCtAAGbDCOtQDLhhDJWRCNuRDPcQDurWDOMjCItCBHpgCKESDZGrFMGQDunUCOhciYAokWA/km/7jIT8uChSgPR9BESABFgwPhbDfJHeLhVkYFvCup8mTzuIqGLxBQZvRdsCBPpohCoCpIKZADcAAqyVGOkVAB6isExFBDsSAZE+2d3m0tY7/9TyPNPWWtPWC7S5/zgeIqkv/Y0xjaQas4k2ndmqrImrftAdYwSHkgj3gAz9ogyugQzy8gzy0Q565Qz78QyqUgSEMQ7Mpy2bAQzaIQxuvQV2tgL2Fl00OZXQf7QAaIOGpZQM+sb2BrqoC2z5XQRna4BPM9dPa9SXr7F6/gXrzNRNWxxndARjVANi5ya3QQR56EGEgwQtoACuiU0gwEYQhgRP8MBEMAepRbfmZ4nh669aitGlmb0r38ivCANVq7mlv7KaqtmpTgGmrNgrANi6sgzrIwzukgz24QzakiDjM1jnQQy6wQSdgAxtzxmaQwznAAz3MQjDDczv3OIMx2F+i/4BaDrm/oYC93eQxDsKKblYZkGHx3i7uyqhXAmPr4qgXXBJ23E2PghEN/MB1yawV5AbrRkF0mk75qYD4nuSQRFoTHfj3DiISl6v2OjjYnvRccW9F046VYunGorb7esDJ2rRpn/YqqmIGmMAPzIEp/MEf1IM9yIM7kEOK31+zZYMyZJYi7AKh7gM/aIWkq8M2BAIGpwAz46sV66udql4KwOkfAuQHeKkT/yGydliwfbD/PTcWwJoMQ2Ubdc/O9FogLI/IaDl8t0Fy+N8AegvrakETFDOC0+lkx0ARxACDhYD7MsY5LQZj66uCZ+lmhyudQ/gCfI4HhEC1mzaGb6rJcv9u3GIp+bI2vG/sM5vADvxBK7QCL/ADPjg1OTBbO5zDNlBDLbQBQvwAPXQ6P3T6PlTDPOi4eA46xFuAKZZ7+Ja7go80l5rlWZ/1DTBBUKrJ3Y2XgJcEyVuYUzrBsHrQF6y88q28kMoIPk1j8iBjdRvgpnFakuY87VjrH7aAZKsaFvFwslJpDiwzYpxkA4BeAqRmEo8rSp/0aULABfv8CxxklqY7lt60+mKpKqZ7umvoBZCBvd87L8gDPjB1O8CDO9Rf1Q3CE7wAExwCL+BD4uZDNGxDG3i913M4A5OvB0huIS9wlnbpeJ41C3AaF2iMzP5fwAj4q5E85J/Hy7P8kYH/QY7G/HTInCG0xJfwpoKZ3s3Lsum4swt4FzL7ZYKRrXQWsywnuEtujhHFPuecZmnWufZuLwowWAtMMYamuypiAGsDv97rPQf0wNjzgjhEAzjAA/PDA8AL/CJ4Qfn1wB2cw3F7wzLdfQoMvx8XoiEb/j9+wPtiOIZqvAtsmqr2CN5RgQ2cdQtj9O2UxKvN9VzDmhe4PBoo78hkfjFqFxJ8CUDUcMHChYsbOBAiHDKkSJEjN27YYDFxYsGCOYoQQYLxBosVKD5wEMnhQ4YLDRQoKLCSZUsDLw1AuMABxcQPJStUWAABQk6fFRoE7VmBAoWfOTn04NWqlTde4sRtgwfv/xy1WrU2wWFygsOKJWr+tOKF758+ePO2ccmA4WiFDCQ/oJALMmRIDzdLmrywd2bNgky4rClDhfASGyhOrGABI0aOHENyIGniZLITy1GiZMnihXNnzmjW2KkzmvQaLk+eMEHyECLEIzgyGkky24gRhxBt3DCoO2FkJESI5GihAgVJkTNF6r0AgQEDmAZWDpA+gGXQCBpAgOhQ9GcGvB8wePAAokX5iXPp2ijTlJc39/CsVsXahgnF3EzW8FvXKqy4f7UOuaE4DpDjIIO3RLopuQMPxIDBDCrga68TUDAIhyfWMMOKwmxYgUIWcHCsMceQSMKJ2SxLMTPOvvgCjc7aCP9NENJGU8OMJpBAoiEcdDsItiJywGEj4IZAaMeEhMxxttmIGIKIGF4IISQGLziQwOWcc+45BJ57qaUvg2ogvBZSeEEFFV5w4QXGoHyBzBTObKGGP5Zyzxt4stlmky+ciGIj1nooYqAXahjrn394+eMPJ3BQIaSREsTLwAcZtOAmCyA8iqYWXCiiiTPc0LAKwjpUTMjIfFNySctW7TOzzVj0QkZBCpmkkkowUQTH33CwyAVOkXSsyYQWAq6hEnPMIYZlYxiC2YHk+q6k5Zjr0gAEuLz2pZ2IwqADDDAIszrrIigXhnNhKK88EcxUgYUywnKqnm22oQYNGERA18gdXVD/IYVCwzKUHhj6HRBSS78LQWGCBmKBuA8syGmvCGkyqAgsYiyjio0NWyG33zRKtcQmTEyxZFc1i8IzNO6ww+WXbUziN2fTPAiihoDEOSPgmgQO5CJxWJZIZmF4wWijQbjJJJ4WsNZpA7jNoIMUsqsaBHDLDbOBcrnuWoOiW6CjGqbWee+NFMD1drwQVChPBbbPrOFQb/hr5ZIaHJbrhL3jUlhhEQAPHPC32Q7Bg6IosPIDgi4E7QyNR+3YBd80yrFEEzG7LMXNL8NMMzToEI00NdQoI0eeY0CoNdiOwBkhnp1dNt0WjGbWdtmPfiG7DIyqAIIFmn76OQZ4mqmFc18Q/0FhDwz3m3YoYwAha63FfCCMb/BpD55NcnCQAnA78CAFttVVd6Kw1jl0nR5SiFYuiihSWIP56Vfeb8MtQNwnmlC44Qkz1rAFKnDMQ/0L0WOCAxwUYSYKfbpMyhjIQM14QQ2icVkd6EAHM1imCU0IUhF0wzALveB2UBIcu9a0LMcoS3ZFC5wHMGWU3wVPeDAhHgQoYIF8oQtfILhf20SApuQBLgQ28EMfDnAAEshAGNNIRz14EYUGFMA6YgKfD0FQphEVgQnvWEpYZpGDM7VNTrmjGv3QqAHBhQBwGuCOT7zTgiJwwQ2CGaBhTkADGxyBCalRkmSS0EFBagaCUcACFv88R0jNnOFldbCgGk60ER6FkHE/ip0J7QcCFKqQhTHgYe6MFgJM+Q54NewS8HBoARDwsGhGawHg1nWmFAQhCCioRBySKAMd6OAT10hHM5BxhQhobVxbK9fX0OUYXsBjH/+oRyrgFKfygHJ8J7Rm4ESZuJwcCAUXakOo7sgDG+TRBn3kghfY4IZBLGITm5jFO0tRik1c4hCDYIMZtnCFMmDhCqjhIBbMoAZHjsZldJCZY4JmuxWKyIX2CwHt2GS7oqGLWWsq2tWMghIamnJbPaGAB1CIvCEKbowp+AEt5fCLcUCDFZ8AAglI0IdXUOMK3sLABLzVAe0MU1xUrGIENsH/lD+wAg/z0+SacteC7FzzXPnKXQgc9KDFzXENguEYDfZWkyJcTmY5EmRlKPNVDk6mCVfIwhrw0AhPvNMXwPBFLmRRClEciq51tetd8ZpXve6Vr331618BG1jBDpawhTXsYRGbWMUulrGNdexjIRtZyU6WspW17GUxm1nNbpaznfXsZ0EbWtGOlrSlNe1pUZta1a6Wta117WthG1vZzpa2tbXtbXGbW93ulre99e1vgRtc4Q6XuMU17nGRm1zlLpe5zXXuc6EbXelOl7rVte51sZtd7W6Xu9317nfBG17xjpe85TXvedGbXvWul73tde974Rtf+c6XvvW1733xm1/9Mu6Xv/31738BHGABD5jABTbwgRGcYAUvmMENdvCDIRxhCU+YwhW28IUxnGENb5jDwA0IACH5BAgKAAAALAAAAADgAOAAh//////+//D199fg5szV2cTL1MXBm7XE2bS6u7+0krq0m7ezmLOwn7KtiKq1wqyvr66unK6sjLqle7OmerCniK6njq6jeK2mkKymgaygeqmmlqqkh6mhh6mehKmjd6meeaicfKiYaKSyv6GsuqKloqOjgaKfkKOeh6SdgKOecKKag6GZfKCXgKOZeKCVeKKXc6GUcqOWZqOTYpqlsZmgn5mcmpuagZmWjJqWg5uVeZqVbJSeqJKbppKbopOWjY+aoo6WnXSXlK6IXaSQYaGOYp+Oa5+KR5yQcJuKaJyKU5uEN5eRfpeQb5aNcZeIbZeIYpeIVZaBWJZ/K5CPiZGOe5KPcpGLbpCIc5GIZZCEapB/ZpGEXJGETpB/V5KARJB+VI96U5B7O4iRmYaNl4WNkYeMh4SJjomIe4iDeIZ9dImDZYd9ZYmBXYh/UYl6X4R5YIh5VIl5R4GMkn+Jjn6FjH+Dg35/hIB7bYB7X395XnqEiniAhHh8hHh6c3SAiHR6f1t/gY50WYV0VoB0YIBzUpB0QYl0QIJyS4JyPHN1fHFyfHh1aXZxaXp1WndwWXlyTXdvTYRrUodqMHhsV3hqPnFsY3JrUnFqSnFpPH9jSnJkS4ViI3JjMoBbJ35SK3NWLnJNJmlzfmhudmdrdGNncWZpZ2ppSmNkZGhkQGNgYF1fYGRgRmZgMmFZTmJRSWNXImNMIVlha1hcUlhXWlhVQlJZXFFTTkNcZBBhS1FQUVFLTVJMP1RMI0pNVUpJQDJKT2w/Klk+J05DMk46JkRDSURCNkM7PEM5KD0/RTU/Tzo4PTA3RDs6MDc2LTczLDEzLlYkJj0oIjUvKDQkHy8vMS8tKC4rJi8fHSotNioqKyopIyknIyglJiklHCkZGhg3QCImKCEjKSIjHSEgIiAfHyEfGhwfIB0cIRwbGx4aFBcaIBgYGBYYFBgWFRoREhQVFxQUERQRDxESEhAQDw0QERQJDAsLCgkKCwgGBwQHBwMEBAICAwACAhEAAwAABQAAAAj/AP8JHEiwoMGDCBMqXMiwocOHECNKnEixosWLGDNq3Mixo8ePIEOKHEmypMmTKFOqXMmypcuXMGPKnEmzps2bOHPq3Mmzp8+fQIMKHUq0qNGjSJMqXcq0qdOnUKNKnUq1qtWrWLNq3cq1q9evYMOKHUu2rNmzaNOqXcu2rdu3cOPKnUu3rt27ePPq3cu3r9+/gAMLHky4sOHDiBMrXsy4sePHkCNLnky5suXLmDNr3sy5s+fPoEOLHk26tOnTqBkzY6ZstWvXxnKpKjVKUaJEo1LlQkaN2jh06MaRG8etOLdxwsmRK56NW7bez6JH7/2cWnRl2JtJf0a9Objv4ItT/1OGjFivWqdKpVelqpb7XPBzuZ+t6A+dOXry+9nP549/RaGEIsqABBKoyIEIjtIeMcjoAp8q6Y0iIYESVkjKhbGwp6EqscRy4SiihCKHGGIAIcYYdPwhSoUgjnLhix3GmCF77tVYI3sXqnfKju3l0ss24lQj5DPNaFeNNs34MsspE4pSyizIZIPOO/TI885yxgl3HDnArbMOPPKgsw46yv32JZjzpCnPmmvC4+Y77cTZzjvveEknnOgoo4sqo/xhBxmAAmoGHXX0t2IidpgBBA0kPODAo5BGKqkDIlQqwgiYZorpDDPsIIYZuJ3CHoiK8EGHHXz059+qiRw4oIQ6pv9XyoWi7CGHHGTcukcoOcZ6SiylyNjhhjTW0p6N7HnYK4+19ELONtsM+Uw11kD7DDGzsEhKLcQo0xw567QjDzztjEmmc9k0d5xw32WjzCitJkKNcl16GS4877CjLztetsNOnPq2Aw+/3MR2iih/mEFGiSaSYUahfyiC8J9A7DDDCJNmrPGklY7QacNjLAxEDzuU3MPJPfDAw8k/AOHyiWbELDOgYtRgcacmm+jyziaK4XDMdNChxx6r+tdqgaPQNqFtrcIq6izPRluNdNRqMx4xucQCryikqJILMVLSie+5z6VrtnHZICNKiQeIsAMftTi4pXJ0012O3XeXczfd42T/g+0ppZoxxs6fPtxfq3/UQUbFF4uw8eOSOk7ppZ32AMQPKKe8Q+Ynq4zyziEHGvMYJVp8c+U90FDy6iafzDOJPv8s8+y0y0yoHXasSo441kw77ZF6ziK8KqSMEssttdjiS7dckqk3lumiW3bapIzxw8Uqk8jDGKoISa014FsjZLXhfx9++M1gW0ofiS5M4hgxQ4y44oyPIDnk92/cscc4q8zD6v7LnOd68IOW9WwMIbvV4P7HOpMxsIGtM+DLYie72lmwDhgkmn+wwwxjGIMZ09pGkoihi/PEgmuxcI8tdKEMbnQpTWkql3LQ1RtqqMIOQLhBDU62g46JIRHM+J75/6g1PvCZ73zWYIb62EcH0sHOYXXI3fwUVTL7Oc5SltKUFreIxU3tgActk4PQ9DCiArasgCwzYwF7dqIxKBAI/lud5TQHwQi+joIVtODsMFgHDf6hHoCshzsG6Y52VIM8vuhFL2ajHvbMYjfV4JK9xjQcbnQnXcRIRR/KwMka1IAGpEPVKIjBDXGUw5R6E4cqT3lKVbpSld3oRvpmUQpEmYFhDXtYoW7Dh1vW4AEIGIAAAEBMBDyqUpHCojKXSblOPZB1KyOgGTM3TZ4BgXSXO2PLYDcyzHFujRNsYx6DRihy3kdo+NlDBosmiUJIAhGUWEUrVmiLUjCiD4zIZylkwf9P5X0wG+UAjpgENid4eGmGBXPQKfiwuCmkAQ032J4ocrGNam1DG9DKqEY3alFtMGNPtUwULmFGqMPZoQbETKlKAcCxZR6TmZfiH6c4VccGMpCBnALmMAHwgBmAcY1OLBEdoZnGbcaudqKbnaDmMAc+7kFVYShEIQyhCU2kYoW+8IUubMHPVHg1FaeYhT+VUQ0goWNO5aIk2rJhjCX1wU9lUMUsGJGIPuTCW9rIa0YxutG+WiOv1TAGSBNRh1sSLmQl/QOiCrBSlQoAppBl5qZmOlNoRpNkKjNZABqb0hn0QAxz+MO2jIWwJv7ApjvYphz8sKIJJUKddZhDUgUlKDP/NDWDqmqnJDrxCVbs4oPNMIYvuAqhUlSiEuqRhT+fgVFyBJRMw6mbcpqhC2Iw4xrYjQY0tjsMZ/w1XUQUEl/7etGL5tUaeprNawV3TTngRw+HO1AixKDSAAhgAJTi1DXzE7Q5yCGoLvtBZktGU4tNlrIARFkB/ccDBHA2pTsAwhwS4bVeyKeWeiAD5lj3AzHoQbTNQoYy1FdLdcYsUCgmwxyERrR4rUoKUtjEJnq7iyACyRi2mM09MdiHferig+LNKL3EFK52VFJM6XCHN7YLDWAAwxjPwBI3MlotcXTjla4s5UY/KgvhzacXypCGNJzhDGkwQ6u0TARD6+dTMdSB/xGtEEY3pjGNWNo5lunIs56LoYpaLW4HB65syS7buTg2dgAH4BQPgKAHUSwIa/DSg6KG2mE98KpZxDAPhBBm4hTjSsUfVqzEQJQI/8BYCpLgBCto4QtmZOPMskiFIxzRiFpDwhTK9cUHmeGM30FLHFsisjnMkaYvxeMaTXaFK45BjnusqUpWkoc97jHte+Dj2tSeh0GVo0rqPlJ4XnVFMGBB7nLTohWpYMQeNGxgEXRKDGW4wyVYUe56w4IX+M43vllhiT4orgcXC/SgUxZNlS3Y4AEOOP92MAY+jOIUPprFpv8wBzEImGQRHoOlRxFiZPRiSfDCoMJSrGI6xLdApf/mgxSUoIRCUAIVrfhxNqpxDF684uab4AQiMIGKVeTag8xoRq+PtA1ugOsd88hHPu5Rp3XEYx71uEY0ojGNdMwD2tCWh7X1cW197OMf/NgHtQ3qPHKkLxcSt8QkInEIGbu9E53ghCYqsQg7WK/dMyBBDaiQhTbE2O2AD7zbEdGGK0xhZBdDcGpNZOkABWg/kNeDf8dwUwYymlc7atZsEKYHoRIcCHKAryJKcazNl9rEI0fxoOBbtKLxgeVRjWfMocyMmt/8FZzQOc99LgtdZHXX2rEol9ghD3osQw90QAY67GEPfNQjHd0oh77cVPxxSRuGaWK+te2h7XUsR5UfBXf/JQYRiUIEHu5VrQT7LG5gj5FAAyiIQRJOTf/6118JMsgBDj5JAkw9gAR6NwWWdjzJUIAGeIAF+Au3ICK3MiKr5SLF0yPo0Sd0IDJqpHF7kAhOIlcQAi9/sAd0IDiexlQZtAcm6B9v9Qcr13JUNU++oAzFIAz4dnO5xwmYYAqWkAr99HvARS30og694Ac8MAIIRAe1cA5cFw/pUA5TNmXD9iXzECbAQX0wRC7rUA7E0W26IH7kZ36Ax1vp52+D034j8H4lkALzZ39qeGpKAAU5YAM1cAMmYAIn0AIvoANbkAVn0Ee8cjy/gIAGeAuAEAS3QoiWRitJMwu9oGmk8IH//4VAsCMHu5I0O7IjHihyZBA6gOJe+FGCJ1g0LKcERlAIkWAJsqBrxXAMw8ALsECDmHCDOZgKqqBcvqdrIFQtwIEM1fMDI8ADx1MLUYIP89AO5QAtw0Yv4tIm40Iu5RInlJRlygAfSzJ+guCFb/cJ6Yco7BZweWcCNsAERKAEa7iGYbAFVIADPlADdNgCMKADT8AGd8AIBHgL9HgLMUKPBXgLfkCIt7IfvEIKHeIei4g1NaJIvbAMvbEMxIAe9VGBsPOQCJRUtsVUeuCJrfcHomgEQhAFbsAIOqgLuyCDrOiKmHAJlqAeOphrumYMzVBW5EANteAHRUg6AdILyEAP9P8AD+IALeCQHF+yJtpmUOHSdJQ0DkUHbHoiG6lAjdYoY2A4d9p4WtxIAyaQA0+QhuNof+VYBejoSXWoA21ACb6lDNjwDflYj/j4h/rYgLcSCh1yIQGyIilkLO7xSLmwC8EwDMMQDLSwlB9oWOH0RLU1kULjVH60KhKQmBspCJPQCsYgZjU3krhHCZBgCaaYa7doZiDkg72gCHQgBp8ZCjwgBjzgB8gADtUBHuawDtLGfPYgD18yJ5MEHJVkHMpwHqqwlJMgCJIgeJ+ACVBZB2PIjSTgjTqAlVlJf/inf+lYAzaQA1twCKq2C8qwDN9glgbYCwcoiA3oB5ZWj6TgeAH/EgvnUQvCg26r8AmgQG6fQAmTUHd1MCLWdEChMwcxQ5H5kR8meJh/AANOEAiRkAmusAutxg12Jpk2CAmzxgiVcAqtwGrF4Bq/4wux4AfvA5oIFCAiNg7mICZEVnzal21q4iZuolZmkzbyASGVsJu7tQnrGQzBsAuu0AqVQFhywGbdaAPHmZz25wVbcAZlMAU+4AM4wATRqWrF8AxleZ3LUIC98IfJIIj8qAd+EAq3EKULGAp+MAeD8zIPYwf4NAmU0AlOmQmOkAaF1aV31EYhY5+2FTT5OTQn6EdCIAQt9wnHAC3l4A7dMHXD0Iq4hwmQ0AjHtU+9B0LMBSRBggyt/0IHpWk9Qmg927Ka66AO6jBslJomYNImbpJWCGU21IAMaDcLspCbqeAK6wkKTskJMKd+8ck4nEIDcWiVRsCjMOZ2nNAId4BBUzAFS1AFbIAInPAKSbqkZqmAv5CsCwh5/ngLahkLgLAfj9iAKwamldAKeAmjwdAK61NY8hmYFHSfKzZG+rmf++kfiSkBQiAFw8AN7AAP9qCE0zCDr8AKnHAJjuBVp+hB2yBQ/sIO2yCq5CQH1SOaoTAGfoANz3AO5iAcwiEm/xIP8eCMyFGi3sdt4jBDSTkLqWBPlZAJoBCy5SajHWujcLQ6QDAFahAHiGCrtypjmDAId4AGddCrS/9gBW0grK/AC4mkSIDws7gQtNHKrLxypWfpIY/nB0JzK9aaCj82dcdwDLZwCoyQprjERicCKEzFVHAap+X6iepqp5sQDOkQD8wHffMKqLmnoK3AT7qwVcZAVmZiSMTAJw6nB6SgCAFJJfTAD/lAD9S2DsQxc8JlDBbVHEXpHB0EZVODLeBmXJPwCeoZsqDwCTO6lP4mBq4DRWlwCL25CX/ndi8rCacWBpRwCTXKB4kipEuABViwBW3wCCfJIYAQtLb7s0HgBwGpndtpj0krnqHwcKkwCz92DNEwDMLQCqfgb4pDIuFEOqFzK1zLtf1VmH2kQXUqBJLgDEBSDulAjN3/sIpqe6+OUAmMUAqyeIrKEEKmpCcu4mh/AHGqoAz7kA/6oA+oCQ7wMA/ocA7nABzZwFzORTdG9hzNoAyCpQvTQg0Mgh3LIFwguQu04AqfAAuscLlU628pNgVUsAVxIAmf63YhjHObkGqssAqpAC8gSAYcbAVqoAaEUJn1EQS2W8O4EK0pRAwFiJ1YCq1Dux+3MXqyOAu0IAzjBguggArvyby4oyqnx6XRq2JbO8Xjer1EszzOMA73kib5MA/QZ3v1ygqoYAmF2k/FUFamdFbX0meK0B6qoAi5kA3Fdw/6sHT3sHRW4iXoUBzCUQ1KZAzY0i3Y8QzcUA7tEA90Yqnn/xAOTZoMDCJiyuAMZ2YLtkCj7AM0dfAHfdAKt/cKoHurZAp4ncwLwiALB/OBQVoFrxuslGAKqUAKNGzDQisG5GmsgXgL4ekHDXgqu2RclaAJlBCynQAKnpAJS6wISVM8FfIHZIQrtzKRVEy91+sf3VIN4sCazLcP/IAPeTZnx1AM4LyFHJgLK3TGeuO98UAOe4IbKaQL1KBt4vAM9qAPYcd15NAOTAeTpKCNXpoIT6JVurAazVAO60Bt9KAO2HAeNokN2WAOqHktwkOqfSYKPOI1vlAMNie5Mnarr3BvknlzvBBLSlIKtlEHZ3AFsIsIIH0MpRAEt4AL1/kNtwsIvf+gDuEQDkx6luH5B/0xej6SaW9LC6xAuZTLCq1ALBEyIMx8K7kivZwYzeXqH9SQDeIgJvPgmlwHD90gDd+cVVm1CyE5g/jWDengJsw3Dmj3B/BSC7kwHtTgC80wD/zwD/uwD5qQBn0AJcSgNaUSgoMiRU9Si0G0DvMsdvSQyFTyDuHg1uSRad3iuD5SXd1iDE7mZJ5QzJkgoMIQt4gLHEgnD6G6kDqGB21wCJiws8fwDC8N0zEt07b7C++gDotsDuGADcvQCx6CQnPJG9hBDL4gDOS2nuQWDMKwhcLjI7JBK0vtzJ/GltLLtXLqH4H1QdTQr/CqD/YAD+XA1ccgDBL/vAqswAqjfAzdYLbMhw/c4CASkwg/JmLXUtB1TQ/TkAmBoAWD4ArKMFzrs4do0Ad9gAYAngYMqhvGUA0S2w7ekC7gcA6xbamoyaHmwFZa5VW58GPCpWtNVtnAkAmRMAiV4ArGQA3tgA9zHXbazA/0cA7KUAvrgwZnsAQ3gANncAeVkAqx0NoRfp22iwzn4C69QI+yfJ3gEQ7ZgA1Ys0IhKQzHIA3dcM/r8B21TR7lSQqi8FqPqImb+Ny39Yneu7+Aqw8DoQ/xUA7WwNUxuAu8EN7ivdLpgA/70A+CZAxgJTGzQAzjELe6ICX0oA/o4A7BUMyBEAiVgA5ntgupsAh3/5AGxuXfAn6tb7uSHhTi5IEd2FDpRp7Ab6tsrvC2kg3pxiAMw6Bd0ADWSs7k6eAN3WAN02AN3QAPhx0Oorq8aXAGU4ADSzDjHnkLOD5sro0LxFBDHvcLQR7T32HbyfALvEsekKwMvqEOxXcn4XCbSEtxbuQ+gJJAnEgo5/oH84AP9usP/kAQ+TAw5SBLCIwMenNl7GAPcy0QYhcP7pAOupAKGjgK8KEMdS5Xs1ALykAO9fDnl/0J/UDXpwCSvrALtpAOXfZIuoYMIkYN1OIMkQ7IyODIjs3pj+5BZRUti+sMQ1J7w8Bk2+UN6ZBEYyYN1bIOOKnYsc4IaXAFSxDzZ//QY6Og6zGNqa79C162iE8qy0Eb04384/i4DMvA7FPN4He8dDipDtSAm/Z0T/6GO7jDY/7t37dRV/7d7few9fegzf/gD+YwHuVxHvjo8EQPDuZgqdOmdPgAD8hQCxOiNYuE27UxCmAGDtPwp+s58OfQC3Rcx/lgD9X1tgyyDNgQDlQyDzbdpEKPlldKDdwADvRitveLD+7ADkEiJMwQ8tFwDd7gDgP/D/bQDuPwHcjhv4oM67lwColQBkCQeDPwA3TglsSgDrG9L+pwnXNORvvxs6ttu9/g4IbP+Fdq6dgwDu8gbXT8t3diJfPADtAXDayIxILndkRdb+bg5vzgdQP/kQ/uogwKaI8ASY9P+gvgEA7noMjAwYTK8MZqRuW90DWz4CGJkAqsIA0C4Q7DAAzeQOL/gA8A8e/frmma7qQihoxaNnXq6N2jNy7csmS3YpGKdUtjsmTYzq1Dt07kPXz3IL4DiW5ctoXczLVbR0/fP3767r1TFy4cNp46sSWLFUuUnzFixOgJNQpjUF3Honnzdi2dN3d2eMyYMWKHGDmAAN3CFVbst2XIkCmjpgwtNp07icUKRWeMn1vhzr2jJ1NgvHTReMGCtUnwYMKgAB+GBWrbunv55KFjly5dOWOpTlUqJepPKFGqaiX71ZHtubTMmEWLNmsUnz98SI3qReoU/ylFf+6YesVs3jtpwj6BGjatnEBNgYxrKXN2YTZw7+6t5Emx18Zk376FU5dv3z599vDpAw8Rovd5MOG5gwdPnj2b66j1qhWrlkaN03/VTza9fiw/Dg4cGGGKQTJxxRVgDrxmDDqUCoUzUjT6RayxllkGG4fyMUmdZEgJhSij/IhlGezMOedCmgT6Zx98MCzJnnjaiSdGd+IxyR2orrlGHMmmOWaYYYI57C9YgjnGmW24aQmcbHiihhpmjDHGx2FUKUWRUf4ghZReYrHyj0QYqUSWZtppp5xpojmGl0ssKQYfRtIwLhA3KmmlFV2KUYYbctJSC5n8OKIwGQrDcW4mf/8wzEudlbJhtElqxkkPHpHkWQecZ5Ahphf4auFUU44+5eiWXkYZoFRTSyXgPxIC2eWdXpCB7yJRQnmwwugqdOgegfj559BzKLS1rLMo7Ekd5/xB0R9llaXnnXMYVcYYTM9CC5xcy9kRtR+HHAY11Ka5ZhpppHGGm3DAcbRRacB1hpjMassyNkVoS2SUUlQxxhlhjpHmmm6clCWVRfqoxBh3oAGGQFdacYWZbsjB0RpjoDnGmGjVWmicdexBdlcM19kTSihNy4abkBqSiKVmiGG5z0w1hTlmXQ4o9QeaSxXA1AcYYMEVXfgr6gejxvgjlV14QVpKfq0pJx57JitnG2n/jPHFlll0USabnXhiCzt57tlHoGXHJntssfXhh58Y0+nmzGimmaabdNZOxx13yunGmoXAwabJbMYhh5xy3KkHnmxqUUSRRFQhJT5RYhlFFFJKSUUXZ6Tx9hhdbGkll0rQSOUYaEb32ReqEzrLGWqccScddNApJ/Z01JvnHvD04e7jbaih2hdddvEFGYtFVIclR5+hppq0MM1lllli7kUXMwYQ4AACCPDPAQd0VkCBBC4wIRFFxhhDDvLpoKMPSzDhhBNWXhkymG6jkbsb+8uBMR522FknJ655YskzrNGNcoijHMcqW6+UlbZe7SMf9qCHi+LROrvFYx728A4+5hEP/3i0gxzWMN6SsPE3dVjQHvOIiCpEoQfFqcIzXBpF5Ow1C2PgrW3eCkYwoBGNa9gNTVCKFjFO4ZlcoKVJ+eOLZNLRjnfI44K2A08+8rGObTjDGLtwRSpSkQtdIKNChDJHk57xpF1ocRZm7AXLMKWpURBgACIYQRy3dyoGJCABFMCjCuxQilGoQiHPiFYxhAEYUBQSMPJ7mzfwZsALzmMe7EAHN57BFq4FkBnOiJs1pKGNA8oDJfOYSa94xQ9/3GQqo5uGN7oRLsm4Ax+vfOQ2mqEM38miebrwRTF4GK5c6kIXLBPFrGijilPUgjaKCAUyR0HDqVwDKnWrR9hQ1Ct6qP+jb2rhVC1yoRxqtMNF7ZiMZJgIj9qBhx8OvIk4quEMZhTDdMp4Bnbwcg91cKNkZNRFnXKxz1moQhepMMY5zuEHN/rhAP45wAzcOAAEKEACHXCBC0DgBEboIhvkWEc5tPEMX+wCi6tABSo+IQw0HaNI3DDgBL2xjW1YY4Atdck52iJJZqxrGtY4Rk3td41tjKMdjZRHPKhYDWm0kxatOGS3pKLEdEijGLYImCj6MFVGMGIQgqCEYWDRLWmUAx3b6IVmFMGHedUicqH4wx/8kIhUCIMXhYRftyTjNO+g6B7wMMdGi7ELWuyCSG+DWzPR5COnaKMbrlRRPMphjW3YT3D/4hhHOTYWnnegY0/KwBQxdDGLXPCBB7PwAw9uwABjYKMWAyBAKPQwg1h8IxTWQ20dJQCCItSWoq1who7yMtRmjMwYzKAGN1biDGdUIxrrwhFqTEpcabgEJOdghzjG2AzVsdMX1y0GMwaYDnVezqUu5WjzVMFDyRBQMrG7BjOuC9VSTFUUVnVDJCTRCUMGQxjFaIYvTsEHOrDGM8aclR/8QAdFaKKQnaAvYLrlDXhw0B7b2cfTprEtUCA4wYg5sGASLL9h8EJK80slOU8Ij/PmrUku68UsWjGLGQhAAJHwAyDSoAJf/GMAOziAH1AbCz38x3oHYAAFQAADIRQBBk64/0MlsJUOdEXLF8QwRjOkYVJvDQMWwIAFSet2DW396G2Ew6A96lEPu0UlGj4SRpp3kV0o4dIY4yIqcUc3usMEZ25PS8eEhbGLVqSCEX1IRCL6cNVMWBgUn6iTLGyhilGMNXGxeCGtOsQHRkCiE5LAdCc+8QpeHGMaUJvbPO7GIyBVeDD0LeShOUEJTmxiwz/isI92mEq71cMe6+gGc8XRjSOVTCI7UUYvBlCAAgBjdMAIhC5IMANBaS8cPvaxAyrQgSIIIRBCEIITtFCJE3J3HOLQhjbEAQ98uOMaHUYML6LRNDN5KxpzLrWpCUMYTWvCEqewhTGeoSdytNSl45JbO/8aDAsPv81+A7RGMWaRiDH0ACs7+AEZ6rAIS4j0N0O6r1pmMas/iCIRQeHU4xpkh0pQAtOZ3rS603FBMpMpHVX80Sc+YeFNICITN5cEqxGsYUkcIhPtk7nMQQEMIhXXHfaw0ZmD4YpdGAmy5tJJNsxwUGND4xrccEUNUhUKMRwgGQWAtgNEMANqRyESmbi2FgKRiggnUYnwsMc/9JHnD/uoG+uYYD2gEpU5HwgUnpg3vQ3DC2ZkA3/ykIek2uEOMvlria4rh5o96guHscOR5UDGLF4TOYyoYha+6FEwDnSg0UXDFYwYRb3+4MLnPU4RolDELHYhDLnFox/b0ccDnVj/2W1AKc3CCAbScohIuEVjz7QAKcE97COkIY0VrhBGt+C2Dn1UUZB7ZgUtjmEN4UokJ+CYwQOMXY9/3EQX18ux16MNRwdo5QZa+EQwPgGMMxcIHrBjaoxmsg+2fetM3bCg1jEzZ/KGviukwBuMTyA4fuGGj0CJcTCHkHgdlpobEksHTMAEVtgFhxGHDtw1acgvWfCnPomyYxAGT0DBFLy5TIgERhir1FMF+QgroWi0U5C9HuGFNBsGk8qpy+Eyb5EKVWobt5kaWTBCymuGJBQX03AnXPIFV8gF07kka0CHeqgGQfKoXWCFItGGcfDCElGHc4AyaPAGgeAGZCiA60GV/+sBuwMQgavQCjMYhAVLEZsYh7QgIGwhk3gIpTD7jld6sHPajn7oBxvBkdERvVSzMAT7BFbotMuZJbRgDgiUlNcJMxeBpE6TBrnZn8lgh/TYhrUAB3OQJZMSPZnLBE8YvQNphURIq1GIhVJ6lUwJptboAzcAAy8ohDhABEpAhezjK1oQxgJZhWLUBE2ghJs7hGWEAzgQBEIgBEiAhEhYRkRAhGU8BEKYhG3UBKY7hmrgBu6aGr4CKVSYvGZYCOyYCD8YHXf4h6dCAGiLNmibAR7YgRkYAzvIBVpIh3tABgwhBZIQuHXowAOaJl7ZlWlKEUJkyIbsBzJzB9gph8DhBv9l4CtfMp1sEIlz4ZvoIAZlGAfEG4dtqAakOQb7mZ15yIeZ0CCRUKJymDIeNKnFaKLy2AZZKAUteQdk6Rie2JKxqoMsiIKhBIM4OARIwARUKEZUwIRkhARCGAQ3wEUwAIOhjAKqxEqs1MVC4Mqu7EVKoIRuFIaa4gZ2eobegZLLqQbuE6FAWYbROQd6aAUESBUH2IE4GgHt+Q+EmoEdsMdEOAVm6BUpwojnyAZx6LdqqAZ5OMi0YaBpcshChIppQBhg+IRVS8ab+0UiwZ92GIdLoQa+oQhb0Rp5oAd5UCf3YYX3eYXWbL7WXM3YXM32YU1OcwrlEgY/m4VwUEgUOQf/ZagFUbADNHCDrTQEn6OEpAwpTbiEY7SEpxSEQKDKqyTKrKRKL9jKQjAEozQEsMwETPiE2fMFZUAds2gGcViHmvAgcvgIStEaX5iEXaAGbMgeHyM2NxQBeTyAexwDUSgFesCHfxgzVwEHtWAIT3KieaAUXelNFCFEu7mGOUOYv7u0rjQEROAETrsvadgGcrC83UAHcwAHcCCUvMgHfsgHejAHbmAfDMxA2VxNplTONbGE9QHLG2W1G52ESkgFX5iHBhWIfMCGFFsFTMBOLzjOQ0hOF8VAVFgTSGgEQZDKLajOojyEOMBKLsBOK8VGbPy5VxhL5VkIvxmHHz2RaVJQ/25Ihc5RBppBPzdKlf8Yu7z0sTdMH1UIB12IBOMYBNVZiIbIiVzBHYQUiH2oB6exEVqDCnizzPZBhELwAi4ohEPAUEe8r2fQyPR4Ik96iBNNm3wII2XAwPZpUtlEBU3YxklwhEYYhDVYg0aIBEKIzjiJk0iIBFqwhpIAUhTJB2l4BUqIg+OURki4hGJl1UEYhDdw1TXQgizIAid4AizYAjbogmYEgy/4Ai7QVi+AA0J4BEjAUUpwxGGQBmvorevKmnKYhwCVO5DBqMSTB2JgBFcgBhI4FdRqQ/3cSwf4AT7og2w4B1+YBWLIhVb4SFtxiIdAFn6op2ywIt8xBircn/938I5LnIdyaAZyxMzkpE1N3IaVwwf22AdCtasAYglk0NIjxc44YNk4aIMuwIImWIIcWIIquII0WANapVWuvLlkpD20IVmFfIdnoAVMwEZbRdpYhQRLmIRGaIQ3UFYtWFaovYNBcNo8yAOofYM8cFpHsASvrVFL6NpV9dpiDVtTWE2kSbNiKAZicKFUCIQVg1PYOpU43VftwUeCkRY/CAJAsI5vUAeRmIegnQd0GCO/0ROVUA93cCQySQl5gBF7gIduSBNeiM3m277YiR31UI+4A9J7kIcXZQVStcY44IInQIIXAAEMwIAGaAAM8AALsIAQkAEZGIIkwN3bxV3cRYT/VbCHx2zQfBAHYVgFSujSQxCE5CWEo4TSp5VKqV0DN3BGN1hebIRGQmiEaCTWYr2EYR3WR7heaHxGb+1eSABfaOzaQdCCNECAezUVuxU7rBgBEbBLOmAEWVCGZfgG3pGWbzCJUKIJfIAHc30SVbCFA/Yl8TqFGDoFbthVekAHc+2ojrqvaujAlkIHC7oHBb1DxqQJ8KjYDGSf2eSEpjTfPMADPFCDKrBZNVCDO1ADPHBab5VVOGiDLdiCJ2CDVagGAN5Ve4gGVoiDJKjdEKBdGUgCKPgCHGbiHH4CLZDK5BUEOKBV9G0EaeTeYs3GZYTGN3ADKPZiN3gDb33OpX3O/0mQRsozhgdALWiDo32VR7AbATNAgxh+hEcABhYggAJgAWAoRmEUxt9LM5PaM49KhTrwgTpIhHuZBWQwh3lYB8cFJYGwB3ag3Obb0G2AB5sQwxgkBY/7A0WIhV7Qmnd4hzsUVSZV5adEYTWwgiqggitw4Tu4g0XYxhrdxutNXkegBWnw4V2dB2uw3EPAVih4gifQARmIASOegAkw4iMmgmiO5iLQARiAAR04AizIghi+YrP92mNNXmXVWq0VhDcQBKy12rHlhmraY9iy27HTT7usgR5AgzSoWkdghALAGQEogEH4Vu793jsmhDZgAzhY1RRuhEswhZAaVx5EDfvhEf/ne58cdAZtmBt8cA8hUgT0sYPX4wMFQSbY64wbddH2WbVHaAQ8WANXroImcOE1oGVbnoTmNN87Pl9I6GUz3VUUCWbipVFVdQQvhoMt0IKilto3sFpkpeU0uIIqyIEWQIENYF3WTYEUiIFltoBmnl0jVuarTgEjjoEieAI1cINGSFVHSIV1Xaj3RT+w44ExyE+x24Ep8AF7pmVkPQMEIDZiG4E0AJNKAOzAroRVbdVlvYIlwAEcmIIpoIIzSANHKNakjM1fDKlfBGTMNalxMaks0iIu6rPnIQbfmQVZkMYlHeFVg05CwIMvjmF0HgSwtYTylUbwJVZaYAZ42GmFRAf/ZygGWkiFSgDqq4KDLoDiKH5twEbWRViENEiDM0CD57bnRaiEGlVoSyCEN+gCHD5mJHgCGQiBrJaA8JaAZvaA2A2BFCiGewiHEaBbVMnXgxIDOviBEaCBKbiDp7zePKCCB+DvB0CAGUAD5Rbs6TYFpkVWWZXSNeDaso3sY9QEUyjGCI9wU6DwCrfwsFXVPHADNpBhr+0rctQiSujFFjVpEz7fZqzeZbxjSv1eaATfSzBHZ4CHoM3tdcjYVGDabYxSqZRKpB6EHRXsP+sD5rZr5YbtGk1eHjdnQQBfOODxLxZjb1XVSbAEdGiMDEkGORCBusVPN9wBGjiDK3jmZ5aB/xS4AQ1AcwZgADdIYawVcDqh8AcPKe6tbExozrBk0jkvVguvbBhlBVT42jtAAyog9DNw7teWRnyebkr9ynC9UWs0hCTFRmeEA2z03mJ1UmGQhnjI7d58DmNohcJ21iywAifIgqJ21TdYhKqqhKqaqjSoZ1q+AzzIg1V12igNYzHu8S82arULhGaUE6hlhHPwh7wwiT/Eh2T4geyJ64PyATTIAnNuhDxgg2q3hFbAARO4gCWIBAzQ6qyeAAuw6tqNgWSWAS5g2V4sVpJewRU8Wwj/xdWU8Am3BMG+dlOohFUPbC2yhCQwgn8HeJXFTu2MdKPk4mZ0xuNV0rC0BFzV6f9O52ljqIQ7uIIrOIKIYoGIOoIiMHWpPO6q+jNZl3VX5dqs3dpByNo1gPZTX1Zeh3I3WIMsIPRKYId9MB61AAe9QFFS4MsRKAAguIKyBurA7oWseQYQVAU0cG6ld+5FeO1VRWE2YAIdoPoYIOLa9W4yH4Ktx10oKGibnm2bVmilVMo/BmTkW4U/L/CvZVkvYFktTVmAl/skGAKsr13c1VZtDVYdbQVpePjt2GAG7U1uKIU6YGwqWIKIaoEViKgiQALuhmJB2EZHAGxGcHqUh1o3+PVmhHmYT+FljV4pTvIez/U1wAO/P7E+wRRumIdloQc9mF8xKAMo1t47doRJsKj/WliGnGAEQ/f9el4ER9jeGrXwCrc3TcgEsGTGbCViIy7vZg738q7qFPAAq9aBaX0EtKWF7BPGGEWFAm8ErmTZ493Olo0D7OSCKOACKGB/KNhdf5/72oUCTkgHmngHEjmHwGGMBvWcQSf0JQCIJSxYuCjixIkWLV3gHCIEaZKjSo4WURzUKM8bOHDccHSzRk1CLVnUZCmZcEuXKCqjPGn5ZIvIXe6cMWPWTJkyatTGgcPmk9y7e/78NUIJhxDSpIJcRWvqKs+aO2nuUB3kCBLWrJAscbV0yZSmsJoyjc1k9pCgQBzfvPmY5cqVKlSW5MixokWKvDFiyIDilwsUwICh/2DBYsRLIUOHFi825DhOIS+SuXwBo5EQ48yULl3q2qpYuX3yzvEEBy7buHf2/rH+Jw+dqkVqYOyVYVvGECNGkvAOzMWyoEGDqBJf4wblypdasDSxYeLChQ0bOHQoMuQ69utEtm8PFGxYs2bMcD7bZq60T5zh1N0h8nKLSi0ctWQKBgxUpJJv4V5R4waOIBqt9UYeguRBSCOECDcIJJeYFUkkG4VUEn9UzIUDhjgscUUWeFjkCFecWQLJI43g0cYWTxAhWSFxMIbZIXHEIZkXXNRYmUYaZbbYZp1xZYovz+AjzzjZUJNNOOEciY4+rckDTy6p3JEFG1tsAQVvSdgWAv+XXXaZF5h5cYmbELwRgURLTNhwAptsdtABlzEMcVt22EEIjTQ2NfMMN+Ks8yc656gTjjnqvOMLEUUgsSgS+mUxCTDAfKLFEhgucekSVHBYUhOdNtEfG268QcgjhGgBlxoeDvKGG1ocdFATVchFFwtsWlpFf1E1AmKIppiCiilcOdKIEVzI2BAhOX5RI41ctAGGZTru2ONWXcnCjDzyvLMOOuNwkw0ztlTDT2v/3KNMK5UsuOBFgrgrSEcdrbGfFVU0kYMOMXjJ5QT9TtBAAgEH3EADE1jQ5W23bVcEJ1p8Z4011WhTDjvrsANPtuuct4473jjxaUlrpJEGGmhYAoz/J5ngAMEDCLj8wAMa4EBFFZheqmkWa7D1RiBpBefuqiNfccYZcM1FFw42KJ0hzf1NtUglUXcFyUV4qKFGElGA4WJSjTkWRhg1UgbGQgxN25kjvFrSCjPwaDyOOfToQ8wpuzS5Tz/1uONONbtY4oa7/wHY0UYchQqvyCMXfUUTryJx5qL3ulCrCRpAwAADCihgQMASNCAB6BOAProESIQwRDqpiyNOOu2wEw8755yDzt4dp+EEhyOPjEYavtg3yRk31FADCSTQQEINN9isYaZXoDHSGtHHy1H0aJxhIdHZT7HEFDd4//3MVJyBhlTEqUHVIlRZf0bWOAKYbBxtNMsF/2XwlZ3jYg1CkvauF1myCzfIgY/W+CIVu5DGMWghDPt8hxaXgEMXIoiSLlTJSha0YBe2gIVXHQEGHiwCEYYQwusU4QhHeAEKOGA5zGEOAhfAQAYsIMN9dckCYOBSNC4Gj3KUAx7o+KE3aNcxbyiDER/4gAty8CkL3YEc9fCGLm5AApjBrHgmMIH3MqQhTcGlJE5wVBY4yD3w4eB7ZjTjFW2goTNMJQ+NeCNxSkY0ITxBJRdMUUtCSIQk1G8LbGgDIJGyGM5M4o1vxMMbJkGLT3xCGNGoBzuM4QtaNAISq7DPJ84CBgu65AmFWVQnW5IiJJjQBS4AQQta8AIaehAGIP9QIQupyAAIROBz/aIhDePAC15EoxzdKMc4vFE7d4xjJ94whgX8pcwUSIM1usDBBS7XQizeQIt1UWITrJCFwmyQUUgoQgknhwMVtKmc5bwiOk2gtBxQwSRsUMM7K2Sh7bQEC0h4wQsyECcZJMEvfokCBdtgtkM8YjNUe2Me8JAF+QQiEJHQxDC8oQ1aWI0Nj0BFpB4UiCc4YVFWQJM3GfUEUC6qgy5owQpAoFIQZKClLWXpmzhwAQYgoAAEKEABXIaABdRSAsr8aTL3JQNMHEMa1xhmNrAxjo5VYxalmIIKOIABgqlhHqzZBQYSYAADKICnETDBCQZSKzbZgC5M8BT/E5hgwrWWciAnuCJ03ppOdMoVrCewgRKtYAUslESv9ZILFbjTEiS0MgYjzBJvRLkFgeZvM4U0JB50BiGzZAIYw9iFIKwUhUNQ4hPA0Ogm8RjKlvjFJXj85glbsNLVqjSVKpUpTXFq0wEQgAAGgOHBaphbXHaJDbu4hje88a1gZuMZxuhFLOhRDlucAVOlaNI/pJGDCCxAc5sTGMEIhgEMtMAFafUUW03YqRywAEN1Betc6UpXsuJVVk7Q5l8Bm4TBgrMIHjQsYpOwRyhYCQ7R4iza+ocHNrBBEJGgLCMpAcEIfoGznnWFWSBopdG+Z8KhJKUpW/Am6XCAAxt405tA/4CCDkCgAAIAAIpTDAACcAAvXpIhjHEJ4xdoQhqoKeYzlIEMYvRCFfDIBj6YkQYcnMEWrNGHLEzAgJYh4AGz3EAJSrBdZcIYxhn4AApWYEoXrIAFKiAnOU/wZXOWc2lKs8FAcnCEWHVKVlVgp4XmmygYvIDOVw5BPxELBZUwmCGUoASJDJkHeAIIwYxEBNm68IUvxKGzknoQ4u6QPqpEj8BXu7RI9nM0DJnRB93L4g0qRwAVq3gADLjrmqBzRTZ1mANtUkEHTgAdDWigEtUIVDZwsuNe9KKY4qAHOYjmiyOf4gY6rSkBaMuAamKqLi8AkweSOYEpY4AC1OkAClQgVv+x4kDMXzZz0jJ0qca91wptdnOc9ZuBCXzgylcmgl+yBG+VfMG/fsaKIRsxLzbA4cCZYOQnKIGIZ0Fra4jgBMAzMQl13QEPeKA0SBKCBTVY6Wrv/Bh5WWDG4WFxTSj4uKxJrWICQKDktI5mySugcpVDBzolZyHmioETHROj5siIBjHswY4fpuIGsljNP2SBgACIPAAE0ABYq8nFN9MFBdXOLtS3i4EPXDMHatQihs589ZuJL3tet1CcozAEzyWgAS9QSEqwpF/3qOS/lMDE/iBLEn4b2hOUiENlLFMZQ3QWFJlcOEWIgwc3ELjw74x4QsbLgg5ccXgcT945NXBika//2OQkoPXLSy5NzWse5rP0Bc2RoWNvXCMa/nAbPFJBhVQwoxz/sAUCKA+AACDPe1OYAtHAXqlQX/HkF1B5BDBQAg+kIJVLK6MZMXR7C2WqDF5/fu63lqPp+zeDnUQJjjiLic7IHQtbqMyBGen3TJBt0eYHQ2cZqXBHrCoPGFkDcvz5hD1HAQotAScMTomC8676BChQaQcsgOxVHue9nHUd4AIkYAIeYFf1DjJQQ3BF4DXUgz1gjClwyCBEigsUgOwJAASAlQrkwBJ4Sl2sQApJBwpOR5alUph4QLRN23ZJB5uM2TqJINjdYPZYSMFphPRtDRh8QRSI1gTV2yPozxut/wpJYAEbdEEgmAXA3Z35RSEYHJz6TYJw7EylZZCF1VEUACFL2NcpxdpcVRMOsEBKkdjkkdoAIEALtZABMiAcMiADpMI01E44KEM4nIM3wIM2zIMjQEcaBIMrqEAaqqELbYAKrICamdAKqMCIrdzKySALYFMTMIEOPJsLRpsFSF0J7J8josAkVh263SAV+CD+8OCisYRpBeFCPMIllMgRugX2NeG/MZIhLJqiSSHfUUImRMJwRA+lfQSF7Zn9JcoLqNZrvZUWYcpJkRgBFGIACAABsFABvmEcXqMGeEM91MM1YIPsqMM5lIM4zEMjXMAJrEEwBEIFDIDsmdrvqSCIdf9Ah20AJEYiBzjiCuRjd7XAEcUQjEkdBkDZx2lbPlbdNYHdGWiEjFjGYviXSoyUN7UEGxACZ7DfIWXa94GBIDhhJsHBFzAYgy2ai5hFICQOcdwBSbjEfM0f/S0MnanWB4DAl4lbs7kACpTYAAiATuokAbBhNXZe5lzjNQpDcHVMPbRGBeIDHlQABzhBJmRBBYyayK0hdNQjPUJiy7Wcyl3b/+WjV+YjCHzAP26XDKlUlymiQYpiFTwCIjyCW7olIKGIBnGTxcEBJKACsAyL+7FBYfDbYvjbJ4xFQwJSjsQPZ1FCJHjE01BEZBXe9y3aH9GP9TEBDNhFI56ApWQKzcj/RQ7cZAEMAGju5BpS408GpVDC4QUYw97cQ2vwAz/Agz3YgMqtAAxswAUggE7SVm31pAv9Xj2yXFZm5VbKI7Zl2Vfm4/+xlAf4owVkIgp0VxJd01l5ShUgAiLsyCFIWEvowKL0pUMEmBtZDaEdy2SdRfwci4zICGNBSFT0QR9UQkJRxRssGv0s2pV0gf2NlA7kXwt83EAwD/bkXg5AwDPupADQFhvOEgTQGoMuqDWeZlctgCt4wwCxBrnsAziggW9CIgKAJmjWVgEowAVQAAUAZ1WaaHBWQHR0WAeImFd+HHIaJwp8QCbKUCZC51p9VyVWQXqmJ7R0gUvUFzghARYc/wXVJJTDcVNGbo1DHVgkQAtlVEYU/oYgEEIl9MEfqAItQEIb7AwbqIQ/hWkxEkEMvORqlRcOTMENLoEKMABO7SaIKgDM/eSDnmYCXkA8/IM+gEPcsOY9+AIa1GMEGMCx4dROVQCJoqiKqmhwVuV0vMn/GacJSupX8mMmXqoHqNIiphWnWkGPFhwQ0lcrwQASbAGpIJTDqYETFEbeQUsgaMEgMMIk3J3YeGEXbhYqtIIq9MI6pMMxvAIixIEfqYGKCBZicQc+pdIRHREoWsoNsoAGIBucFoDnuWE1muY1KmACTgE+5MM7jINr/gM9MMM8oCB1wBYLySkD/CZ0TEeryf+ju7Yai34cvdLrcXqlKeFTmITJC3BqWvmVFUSh+UWQqMLAERRBkTbIsFSNqnpfF1aGI/QBDcjBL1jDLtxdSoDpSjwCLYiDPTQJPHRDOkiDMNCCKTgCG+TRdojQyupLsoblsoLACjir7pkAk8lWTjHAAtApz5bcznLeiUaABugDO/zDPvCDPvDDPYiDPnxci4pYCslUdNhmvMqrvNqrV34ZjObjlm2ZQR5BWh2BCxxBXkSbC4KJDjDBXulVYVyNwKZiiiSKkCqhQ5SIw82LWr3EnrXBKshCLZgDa+RDyAoDJuAdF9BbGxCVVVloufADPoQDLVjCFjwOd+gAd1ouneH/0zGmUj5qpvhYCA5Ea03hrE9inu/131z5XqO2HNKxg2vugz7kQz7cAzjoQ0qlEkqdYFWuaAlgm4eloKtt7TXdK9dWHdj6K6dWog6AyV7kRdp6EjdNXGFkLL0BYdzW18E+gV3abfSogRUwAZpcCRQ8gjCwA3RBFz/QwzYUwypw6aKBgSXZQi7MAv3W7yyoQinQQRnYAcmsz+JUCKZoCE2WAQHXQR2cARnMgLTeVE5BQPE8MPHQgAnUgA/4QPJ8j+PVAA3QgAaTQOWgkw88wz+45lDwQz7ggz74QKeZwBRREfI0ngVn8PDcQAXXsKfdHg7ncA4TMA/3sPO9mebWmQ44/w/vpIF7HnEfwMdKBOEofVN9YYEbOETVQIUaFAb2LRoqSAO53AM70EM+8AM7mMM95MM8aAMrHEJLZIER/4EiiIIbk4Is2IIt+EIrsMHjyIC+xEAR4HGcJCs/foAq4RMMMAEp3oDoku5ORUAEQOIiR8AGtMmaKA2bAKciK3IFLHIFbABrgMM3eLE+rEY8eKUfvxaHseh2kWiiZvIG0CtKcS5ytnLXmtLxIq8l7qvzMoGssC08GR58tIQdnRajeJ8gYMXCmkhdwkEcQAshLIId9EEpqIIq3G8qQLMqiEIZLAEWPEE/cUEefMVEPJwp7MIuOMIb4AEW7Od91VeZuuzm/v8xKrWADYIdDijZsSEAV90pJtejOd5Vm6CTBpyoypnrCUiDPOzDM8iCLPThP+wC7o4yCMQjdTx0B7ArPV5bB3wZ8WqZKXlQEoXtWi2vLcdA2nZq9PpRBf0yJ3nTFrzBGxVzHlQJG2xNMm8NIURsH9SBHeB0lp5CKZSCLrQCIURhGxzCJazCyeZBJVwCKqyCAwEpOHEHVCdKCGQu7jb0C7DT9cyFCVxOyxxgJf8mJD4yP5eTbfqmuVLHHcyDLODCNzDDLQCCPlRBVbsWAHZAtVkbvG5AidYjBXxYvepjIHet2G40Wy2vtPWLB/SrWs3yXrXtLntBwUW2F7oEG+CBGwn/GoGhRGTPdBw8Aiv8CiQECCEIgzCYAmdkp3+BwSFgglFXAiNUQinIAi20wuBVkPhemEsG8bOBCQzIBdF0TwtjKwQAXyVbciSKmdb188oBdCbLQpPE7j/4QxUI37ICcr0SJwd0YjxKR1hLRydu7Ua3Uil17QuIpTJhQAqkbafQstq2raWxQSG0SMEls/W6hBu4kfvhwSLMixIO1I5QpDCwAiUsBiZgAirwAitgwnUyxtspNVP7gji3wipwRbJImBJfUMFqbip5EC7noBRNEeYkqIKm3HJv6CNrXdKsSVlfcgJWsi+IAy7gAiDMeDGcQHGaYH+OGKRG2cdZ9DymIAry/7ik4ouOiu0H+EvoEF/aVsG/eoqT69WlWRx8x3eLzLQqvsR9Y4TDperVdHOBowIrhDkroAIt0MIqrAIv7EKaT9IqkLmZizkqbJ9St4KE+4olgAVn/Jme7zlWIIUgsEqoTM9aRBYaUAHxFM+CIp0KYF1m3qA8IWRWc9oNiJmG0MIt5ENr0AMgkIQadG/0RA+F8Ifz6I5UkIyonzoacEind68OWADppIAVRPmqE0geDEKtL4j77cokdIUlhAWVO4YhLKQd9QwhRNaWV/HEdUGMuMghWOefFTgrwMIrvAIsjDkmcAIrcILABfsPrkQXvMEgpE8adNFo1Z+FbcdeZK5uv/+AHhfBpZRR5SA65uzsiToqkHs3e51TBECAttZSCRBtjPtKPvTux6lUu40YCEiddBTnddt1DKqydHgABkyAVm0V50xdhq3Aus8yp2IBExRGY0+c4RFYfAP7Y5CNUSTUR6CkuYEtFlQGIG023jEasCMCt38qGFAGSyTKEmU10VzB42iHYHHHnNhGmRbWXiR9EYggvFuONOmscV8yJlsbkAekq70VWVOXAlZyMeCC6xItILiUSwEkQGZAPAJgwk88wVS8xXOOwQCy5o6quneQeLNVWpX0yBteyZs8GDDxt7+BGog6E6gZmjxs3vkoENKP4ptf/f3FZDvxEYiP841Pqgf/PXZEdQjdxtGHQH3FSbofQRlZDsxo3m+mcl9LR4miciaXgDk9RwVsfSY3wghrAy5cCz+K/Uux1kq1m1hKANtvVdlJwF1b20rxoyrJfSutuwetVchns0nnvcmfPEt0AUeQBK7EBWUeQR3loo30aBxwQT9FNctyh7xBNV+NTKmnQRjpkQzoEeYXQdLry+kMATglff4tAe8xKK0RdyWjsv+TKEA0EBiB4IYNJxBuMHGBIEEKG+4wwzUR1y0rLT58AKERRMeNHiYkMDCSZIIGGChgyIABJQWXL11m2AiixQsYN2/qwPniCM4jR4oUQTL0SVE1bLZ0YbN0qaFChgzFiQMm/0qULWzcuFFjpUoVKjlyHNHxJEqXL2e9SJ36BcqToUiIxIUChUiMGHGT5J07N4obPGsAX7nSpIiMECFkyBgSl3FcuzEOH4YcNDFkGCxu3DBhQkNnDRcqNBTtECYFgQMjbCiB8MTCCqEjUOBwxxe/f7f5HQuRwkJIkr9NYvDQsUPHlS1ZloapMsOHmjCC/tTR8+ZPJteZvB2KpegW7126tGnTFGqhtVXhwBHkJovXKjlcACVbNcpZLly+RKlrM6jQIo2LyktAvZKIQgs1rrDCiiaWcCGyEGJIrLEhhoDswcjsSkwGIqBzAYcbatjMMw1gE+2002A6LTTVEOpgA9BeE/8IA0fwmYciQNRIwKQJLLBgpeKK80hIEDLIoIMOWErSoCQxODJImmzCSUqfjrjOiu2wyDLLpbxjQ7z0bgtTzDHJLNPMM9FMU8012WzTzTfhjFPOOems08478cxTzz357NPPPwENVNBBCS3U0EMRTVTRRRlt1NFHIY1U0kkprdTSSzHNVNNNOe3U009BDVXUUUkt1dRTUU1V1VVZbdXVV2GNVdZZaa3V1ltxzVXXXXnt1ddfgQ1W2GGJLdbYY5FNVtllmW3W2WehjVbaaamt1tprsc1W22257dbbb8ENV9xxyS3X3HPRTVfdddlt19134Y1X3nnprdfee/HNV999+e0T199/AQ5Y4IEJLtjggxFOuNWAAAA7\"/>"
      ],
      "text/plain": [
       "<IPython.core.display.HTML object>"
      ]
     },
     "execution_count": 27,
     "metadata": {},
     "output_type": "execute_result"
    }
   ],
   "source": [
    "to_gif(sample_video)"
   ]
  },
  {
   "cell_type": "markdown",
   "metadata": {
    "id": "3dktTnDVG7xf"
   },
   "source": [
    "In addition to examining this video, you can also display the UCF-101 data. To do this, run the following code:"
   ]
  },
  {
   "cell_type": "code",
   "execution_count": null,
   "metadata": {
    "id": "MghJzJsWme0t"
   },
   "outputs": [],
   "source": [
    "# docs-infra: no-execute\n",
    "ucf_sample_video = frames_from_video_file(next(subset_paths['train'].glob('*/*.avi')), 50)\n",
    "to_gif(ucf_sample_video)"
   ]
  },
  {
   "cell_type": "markdown",
   "metadata": {
    "id": "NlvuC5_E7XrF"
   },
   "source": [
    "Next, define the `FrameGenerator` class in order to create an iterable object that can feed data into the TensorFlow data pipeline. The generator (`__call__`) function yields the frame array produced by `frames_from_video_file` and a one-hot encoded vector of the label associated with the set of frames."
   ]
  },
  {
   "cell_type": "code",
   "execution_count": 28,
   "metadata": {
    "execution": {
     "iopub.execute_input": "2023-01-07T02:25:59.595161Z",
     "iopub.status.busy": "2023-01-07T02:25:59.594676Z",
     "iopub.status.idle": "2023-01-07T02:25:59.600720Z",
     "shell.execute_reply": "2023-01-07T02:25:59.600103Z"
    },
    "id": "MVmfLTlw7Ues"
   },
   "outputs": [],
   "source": [
    "class FrameGenerator:\n",
    "  def __init__(self, path, n_frames, training = False):\n",
    "    \"\"\" Returns a set of frames with their associated label. \n",
    "\n",
    "      Args:\n",
    "        path: Video file paths.\n",
    "        n_frames: Number of frames. \n",
    "        training: Boolean to determine if training dataset is being created.\n",
    "    \"\"\"\n",
    "    self.path = path\n",
    "    self.n_frames = n_frames\n",
    "    self.training = training\n",
    "    self.class_names = sorted(set(p.name for p in self.path.iterdir() if p.is_dir()))\n",
    "    self.class_ids_for_name = dict((name, idx) for idx, name in enumerate(self.class_names))\n",
    "\n",
    "  def get_files_and_class_names(self):\n",
    "    video_paths = list(self.path.glob('*/*.avi'))\n",
    "    classes = [p.parent.name for p in video_paths] \n",
    "    return video_paths, classes\n",
    "\n",
    "  def __call__(self):\n",
    "    video_paths, classes = self.get_files_and_class_names()\n",
    "\n",
    "    pairs = list(zip(video_paths, classes))\n",
    "\n",
    "    if self.training:\n",
    "      random.shuffle(pairs)\n",
    "\n",
    "    for path, name in pairs:\n",
    "      video_frames = frames_from_video_file(path, self.n_frames) \n",
    "      label = self.class_ids_for_name[name] # Encode labels\n",
    "      yield video_frames, label"
   ]
  },
  {
   "cell_type": "markdown",
   "metadata": {
    "id": "xsvhPIkpzx-r"
   },
   "source": [
    "Test out the `FrameGenerator` object before wrapping it as a TensorFlow Dataset object. Moreover, for the training dataset, ensure you enable training mode so that the data will be shuffled."
   ]
  },
  {
   "cell_type": "code",
   "execution_count": 29,
   "metadata": {
    "execution": {
     "iopub.execute_input": "2023-01-07T02:25:59.603817Z",
     "iopub.status.busy": "2023-01-07T02:25:59.603363Z",
     "iopub.status.idle": "2023-01-07T02:25:59.681927Z",
     "shell.execute_reply": "2023-01-07T02:25:59.681243Z"
    },
    "id": "P5jwagZxzxOf"
   },
   "outputs": [
    {
     "name": "stdout",
     "output_type": "stream",
     "text": [
      "Shape: (10, 224, 224, 3)\n",
      "Label: 6\n"
     ]
    }
   ],
   "source": [
    "fg = FrameGenerator(subset_paths['train'], 10, training=True)\n",
    "\n",
    "frames, label = next(fg())\n",
    "\n",
    "print(f\"Shape: {frames.shape}\")\n",
    "print(f\"Label: {label}\")"
   ]
  },
  {
   "cell_type": "markdown",
   "metadata": {
    "id": "E7MRRFSks7l1"
   },
   "source": [
    "Finally, create a TensorFlow data input pipeline. This pipeline that you create from the generator object allows you to feed in data to your deep learning model. In this video pipeline, each element is a single set of frames and its associated label. "
   ]
  },
  {
   "cell_type": "code",
   "execution_count": 30,
   "metadata": {
    "execution": {
     "iopub.execute_input": "2023-01-07T02:25:59.685183Z",
     "iopub.status.busy": "2023-01-07T02:25:59.684722Z",
     "iopub.status.idle": "2023-01-07T02:25:59.716135Z",
     "shell.execute_reply": "2023-01-07T02:25:59.715546Z"
    },
    "id": "HM4NboJr7ck4"
   },
   "outputs": [],
   "source": [
    "# Create the training set\n",
    "output_signature = (tf.TensorSpec(shape = (None, None, None, 3), dtype = tf.float32),\n",
    "                    tf.TensorSpec(shape = (), dtype = tf.int16))\n",
    "train_ds = tf.data.Dataset.from_generator(FrameGenerator(subset_paths['train'], 10, training=True),\n",
    "                                          output_signature = output_signature)"
   ]
  },
  {
   "cell_type": "markdown",
   "metadata": {
    "id": "9oF_8m8IZvcY"
   },
   "source": [
    "Check to see that the labels are shuffled. "
   ]
  },
  {
   "cell_type": "code",
   "execution_count": 31,
   "metadata": {
    "execution": {
     "iopub.execute_input": "2023-01-07T02:25:59.719840Z",
     "iopub.status.busy": "2023-01-07T02:25:59.719234Z",
     "iopub.status.idle": "2023-01-07T02:26:00.598566Z",
     "shell.execute_reply": "2023-01-07T02:26:00.597794Z"
    },
    "id": "3XYVmsgiZsJD"
   },
   "outputs": [
    {
     "name": "stdout",
     "output_type": "stream",
     "text": [
      "tf.Tensor(8, shape=(), dtype=int16)\n"
     ]
    },
    {
     "name": "stdout",
     "output_type": "stream",
     "text": [
      "tf.Tensor(7, shape=(), dtype=int16)\n",
      "tf.Tensor(9, shape=(), dtype=int16)\n"
     ]
    },
    {
     "name": "stdout",
     "output_type": "stream",
     "text": [
      "tf.Tensor(4, shape=(), dtype=int16)\n"
     ]
    },
    {
     "name": "stdout",
     "output_type": "stream",
     "text": [
      "tf.Tensor(4, shape=(), dtype=int16)\n",
      "tf.Tensor(6, shape=(), dtype=int16)\n"
     ]
    },
    {
     "name": "stdout",
     "output_type": "stream",
     "text": [
      "tf.Tensor(7, shape=(), dtype=int16)\n"
     ]
    },
    {
     "name": "stdout",
     "output_type": "stream",
     "text": [
      "tf.Tensor(3, shape=(), dtype=int16)\n",
      "tf.Tensor(5, shape=(), dtype=int16)\n"
     ]
    },
    {
     "name": "stdout",
     "output_type": "stream",
     "text": [
      "tf.Tensor(0, shape=(), dtype=int16)\n"
     ]
    }
   ],
   "source": [
    "for frames, labels in train_ds.take(10):\n",
    "  print(labels)"
   ]
  },
  {
   "cell_type": "code",
   "execution_count": 32,
   "metadata": {
    "execution": {
     "iopub.execute_input": "2023-01-07T02:26:00.602125Z",
     "iopub.status.busy": "2023-01-07T02:26:00.601581Z",
     "iopub.status.idle": "2023-01-07T02:26:00.625172Z",
     "shell.execute_reply": "2023-01-07T02:26:00.624576Z"
    },
    "id": "Pi8-WkOkEXw5"
   },
   "outputs": [],
   "source": [
    "# Create the validation set\n",
    "val_ds = tf.data.Dataset.from_generator(FrameGenerator(subset_paths['val'], 10),\n",
    "                                        output_signature = output_signature)"
   ]
  },
  {
   "cell_type": "code",
   "execution_count": 33,
   "metadata": {
    "execution": {
     "iopub.execute_input": "2023-01-07T02:26:00.628590Z",
     "iopub.status.busy": "2023-01-07T02:26:00.627990Z",
     "iopub.status.idle": "2023-01-07T02:26:01.172088Z",
     "shell.execute_reply": "2023-01-07T02:26:01.171417Z"
    },
    "id": "V6qXc-6i7eyK"
   },
   "outputs": [
    {
     "name": "stdout",
     "output_type": "stream",
     "text": [
      "Shape of training set of frames: (10, 224, 224, 3)\n",
      "Shape of training labels: ()\n"
     ]
    },
    {
     "name": "stdout",
     "output_type": "stream",
     "text": [
      "Shape of validation set of frames: (10, 224, 224, 3)\n",
      "Shape of validation labels: ()\n"
     ]
    }
   ],
   "source": [
    "# Print the shapes of the data\n",
    "train_frames, train_labels = next(iter(train_ds))\n",
    "print(f'Shape of training set of frames: {train_frames.shape}')\n",
    "print(f'Shape of training labels: {train_labels.shape}')\n",
    "\n",
    "val_frames, val_labels = next(iter(val_ds))\n",
    "print(f'Shape of validation set of frames: {val_frames.shape}')\n",
    "print(f'Shape of validation labels: {val_labels.shape}')"
   ]
  },
  {
   "cell_type": "markdown",
   "metadata": {
    "id": "bIrFpUIxvTLe"
   },
   "source": [
    "## Configure the dataset for performance\n",
    "\n",
    "Use buffered prefetching such that you can yield data from the disk without having I/O become blocking. Two important functions to use while loading data are:\n",
    "\n",
    "* `Dataset.cache`: keeps the sets of frames in memory after they're loaded off the disk during the first epoch. This function ensures that the dataset does not become a bottleneck while training your model. If your dataset is too large to fit into memory, you can also use this method to create a performant on-disk cache.\n",
    "\n",
    "* `Dataset.prefetch`: overlaps data preprocessing and model execution while training.\n",
    "Refer to [Better performance with the `tf.data`](https://www.tensorflow.org/guide/data_performance) for details."
   ]
  },
  {
   "cell_type": "code",
   "execution_count": 34,
   "metadata": {
    "execution": {
     "iopub.execute_input": "2023-01-07T02:26:01.175977Z",
     "iopub.status.busy": "2023-01-07T02:26:01.175398Z",
     "iopub.status.idle": "2023-01-07T02:26:01.187532Z",
     "shell.execute_reply": "2023-01-07T02:26:01.186888Z"
    },
    "id": "QSxjFtxAvY3_"
   },
   "outputs": [],
   "source": [
    "AUTOTUNE = tf.data.AUTOTUNE\n",
    "\n",
    "train_ds = train_ds.cache().shuffle(1000).prefetch(buffer_size = AUTOTUNE)\n",
    "val_ds = val_ds.cache().shuffle(1000).prefetch(buffer_size = AUTOTUNE)"
   ]
  },
  {
   "cell_type": "markdown",
   "metadata": {
    "id": "VaY-hyr-Fbfr"
   },
   "source": [
    "To prepare the data to be fed into the model, use batching as shown below. Notice that when working with video data, such as AVI files, the data should be shaped as a five dimensional object. These dimensions are as follows: `[batch_size, number_of_frames, height, width, channels]`. In comparison, an image would have four dimensions: `[batch_size, height, width, channels]`. The image below is an illustration of how the shape of video data is represented.\n",
    "\n",
    "![Video data shape](https://www.tensorflow.org/images/tutorials/video/video_data_shape.png)\n"
   ]
  },
  {
   "cell_type": "code",
   "execution_count": 35,
   "metadata": {
    "execution": {
     "iopub.execute_input": "2023-01-07T02:26:01.190867Z",
     "iopub.status.busy": "2023-01-07T02:26:01.190259Z",
     "iopub.status.idle": "2023-01-07T02:26:38.272583Z",
     "shell.execute_reply": "2023-01-07T02:26:38.271905Z"
    },
    "id": "pp2Qc6XSFmeB"
   },
   "outputs": [
    {
     "name": "stdout",
     "output_type": "stream",
     "text": [
      "Shape of training set of frames: (2, 10, 224, 224, 3)\n",
      "Shape of training labels: (2,)\n"
     ]
    },
    {
     "name": "stdout",
     "output_type": "stream",
     "text": [
      "Shape of validation set of frames: (2, 10, 224, 224, 3)\n",
      "Shape of validation labels: (2,)\n"
     ]
    }
   ],
   "source": [
    "train_ds = train_ds.batch(2)\n",
    "val_ds = val_ds.batch(2)\n",
    "\n",
    "train_frames, train_labels = next(iter(train_ds))\n",
    "print(f'Shape of training set of frames: {train_frames.shape}')\n",
    "print(f'Shape of training labels: {train_labels.shape}')\n",
    "\n",
    "val_frames, val_labels = next(iter(val_ds))\n",
    "print(f'Shape of validation set of frames: {val_frames.shape}')\n",
    "print(f'Shape of validation labels: {val_labels.shape}')"
   ]
  },
  {
   "cell_type": "markdown",
   "metadata": {
    "id": "hqjXn1FgsMqZ"
   },
   "source": [
    "## Next steps\n",
    "\n",
    "Now that you have created a TensorFlow `Dataset` of video frames with their labels, you can use it with a deep learning model. The following classification model that uses a pre-trained [EfficientNet](https://arxiv.org/abs/1905.11946){:.external} trains to high accuracy in a few minutes:"
   ]
  },
  {
   "cell_type": "code",
   "execution_count": 36,
   "metadata": {
    "execution": {
     "iopub.execute_input": "2023-01-07T02:26:38.276159Z",
     "iopub.status.busy": "2023-01-07T02:26:38.275921Z",
     "iopub.status.idle": "2023-01-07T02:27:48.049872Z",
     "shell.execute_reply": "2023-01-07T02:27:48.049102Z"
    },
    "id": "qzqgPBUuForj"
   },
   "outputs": [
    {
     "name": "stdout",
     "output_type": "stream",
     "text": [
      "Downloading data from https://storage.googleapis.com/keras-applications/efficientnetb0_notop.h5\n"
     ]
    },
    {
     "name": "stdout",
     "output_type": "stream",
     "text": [
      "\r",
      "    8192/16705208 [..............................] - ETA: 0s"
     ]
    },
    {
     "name": "stdout",
     "output_type": "stream",
     "text": [
      "\b\b\b\b\b\b\b\b\b\b\b\b\b\b\b\b\b\b\b\b\b\b\b\b\b\b\b\b\b\b\b\b\b\b\b\b\b\b\b\b\b\b\b\b\b\b\b\b\b\b\b\b\b\b\b\b\b\b\b\b\r",
      " 5038080/16705208 [========>.....................] - ETA: 0s"
     ]
    },
    {
     "name": "stdout",
     "output_type": "stream",
     "text": [
      "\b\b\b\b\b\b\b\b\b\b\b\b\b\b\b\b\b\b\b\b\b\b\b\b\b\b\b\b\b\b\b\b\b\b\b\b\b\b\b\b\b\b\b\b\b\b\b\b\b\b\b\b\b\b\b\b\b\b\b\b\r",
      " 8396800/16705208 [==============>...............] - ETA: 0s"
     ]
    },
    {
     "name": "stdout",
     "output_type": "stream",
     "text": [
      "\b\b\b\b\b\b\b\b\b\b\b\b\b\b\b\b\b\b\b\b\b\b\b\b\b\b\b\b\b\b\b\b\b\b\b\b\b\b\b\b\b\b\b\b\b\b\b\b\b\b\b\b\b\b\b\b\b\b\b\b\r",
      "16705208/16705208 [==============================] - 0s 0us/step\n"
     ]
    },
    {
     "name": "stdout",
     "output_type": "stream",
     "text": [
      "Epoch 1/10\n"
     ]
    },
    {
     "name": "stderr",
     "output_type": "stream",
     "text": [
      "2023-01-07 02:26:48.407527: E tensorflow/core/grappler/optimizers/meta_optimizer.cc:954] layout failed: INVALID_ARGUMENT: Size of values 0 does not match size of permutation 4 @ fanin shape insequential/time_distributed/efficientnetb0/block2b_drop/dropout/SelectV2-2-TransposeNHWCToNCHW-LayoutOptimizer\n"
     ]
    },
    {
     "name": "stdout",
     "output_type": "stream",
     "text": [
      "\r",
      "      1/Unknown - 10s 10s/step - loss: 2.3699 - accuracy: 0.0000e+00"
     ]
    },
    {
     "name": "stdout",
     "output_type": "stream",
     "text": [
      "\b\b\b\b\b\b\b\b\b\b\b\b\b\b\b\b\b\b\b\b\b\b\b\b\b\b\b\b\b\b\b\b\b\b\b\b\b\b\b\b\b\b\b\b\b\b\b\b\b\b\b\b\b\b\b\b\b\b\b\b\b\b\b\b\b\b\b\b\r",
      "      3/Unknown - 10s 28ms/step - loss: 2.2536 - accuracy: 0.0000e+00"
     ]
    },
    {
     "name": "stdout",
     "output_type": "stream",
     "text": [
      "\b\b\b\b\b\b\b\b\b\b\b\b\b\b\b\b\b\b\b\b\b\b\b\b\b\b\b\b\b\b\b\b\b\b\b\b\b\b\b\b\b\b\b\b\b\b\b\b\b\b\b\b\b\b\b\b\b\b\b\b\b\b\b\b\b\b\b\b\b\r",
      "      5/Unknown - 10s 29ms/step - loss: 2.4933 - accuracy: 0.0000e+00"
     ]
    },
    {
     "name": "stdout",
     "output_type": "stream",
     "text": [
      "\b\b\b\b\b\b\b\b\b\b\b\b\b\b\b\b\b\b\b\b\b\b\b\b\b\b\b\b\b\b\b\b\b\b\b\b\b\b\b\b\b\b\b\b\b\b\b\b\b\b\b\b\b\b\b\b\b\b\b\b\b\b\b\b\b\b\b\b\b\r",
      "      7/Unknown - 10s 29ms/step - loss: 2.4682 - accuracy: 0.0714    "
     ]
    },
    {
     "name": "stdout",
     "output_type": "stream",
     "text": [
      "\b\b\b\b\b\b\b\b\b\b\b\b\b\b\b\b\b\b\b\b\b\b\b\b\b\b\b\b\b\b\b\b\b\b\b\b\b\b\b\b\b\b\b\b\b\b\b\b\b\b\b\b\b\b\b\b\b\b\b\b\b\b\b\b\b\r",
      "      9/Unknown - 10s 28ms/step - loss: 2.3560 - accuracy: 0.1667"
     ]
    },
    {
     "name": "stdout",
     "output_type": "stream",
     "text": [
      "\b\b\b\b\b\b\b\b\b\b\b\b\b\b\b\b\b\b\b\b\b\b\b\b\b\b\b\b\b\b\b\b\b\b\b\b\b\b\b\b\b\b\b\b\b\b\b\b\b\b\b\b\b\b\b\b\b\b\b\b\b\b\b\b\b\r",
      "     11/Unknown - 10s 28ms/step - loss: 2.3328 - accuracy: 0.1818"
     ]
    },
    {
     "name": "stdout",
     "output_type": "stream",
     "text": [
      "\b\b\b\b\b\b\b\b\b\b\b\b\b\b\b\b\b\b\b\b\b\b\b\b\b\b\b\b\b\b\b\b\b\b\b\b\b\b\b\b\b\b\b\b\b\b\b\b\b\b\b\b\b\b\b\b\b\b\b\b\b\b\b\b\b\r",
      "     13/Unknown - 10s 28ms/step - loss: 2.2907 - accuracy: 0.1923"
     ]
    },
    {
     "name": "stdout",
     "output_type": "stream",
     "text": [
      "\b\b\b\b\b\b\b\b\b\b\b\b\b\b\b\b\b\b\b\b\b\b\b\b\b\b\b\b\b\b\b\b\b\b\b\b\b\b\b\b\b\b\b\b\b\b\b\b\b\b\b\b\b\b\b\b\b\b\b\b\b\b\b\b\b\r",
      "     15/Unknown - 10s 28ms/step - loss: 2.3152 - accuracy: 0.1667"
     ]
    },
    {
     "name": "stdout",
     "output_type": "stream",
     "text": [
      "\b\b\b\b\b\b\b\b\b\b\b\b\b\b\b\b\b\b\b\b\b\b\b\b\b\b\b\b\b\b\b\b\b\b\b\b\b\b\b\b\b\b\b\b\b\b\b\b\b\b\b\b\b\b\b\b\b\b\b\b\b\b\b\b\b\r",
      "     17/Unknown - 10s 28ms/step - loss: 2.2962 - accuracy: 0.1765"
     ]
    },
    {
     "name": "stdout",
     "output_type": "stream",
     "text": [
      "\b\b\b\b\b\b\b\b\b\b\b\b\b\b\b\b\b\b\b\b\b\b\b\b\b\b\b\b\b\b\b\b\b\b\b\b\b\b\b\b\b\b\b\b\b\b\b\b\b\b\b\b\b\b\b\b\b\b\b\b\b\b\b\b\b\r",
      "     19/Unknown - 10s 28ms/step - loss: 2.2277 - accuracy: 0.2105"
     ]
    },
    {
     "name": "stdout",
     "output_type": "stream",
     "text": [
      "\b\b\b\b\b\b\b\b\b\b\b\b\b\b\b\b\b\b\b\b\b\b\b\b\b\b\b\b\b\b\b\b\b\b\b\b\b\b\b\b\b\b\b\b\b\b\b\b\b\b\b\b\b\b\b\b\b\b\b\b\b\b\b\b\b\r",
      "     21/Unknown - 10s 28ms/step - loss: 2.1704 - accuracy: 0.2381"
     ]
    },
    {
     "name": "stdout",
     "output_type": "stream",
     "text": [
      "\b\b\b\b\b\b\b\b\b\b\b\b\b\b\b\b\b\b\b\b\b\b\b\b\b\b\b\b\b\b\b\b\b\b\b\b\b\b\b\b\b\b\b\b\b\b\b\b\b\b\b\b\b\b\b\b\b\b\b\b\b\b\b\b\b\r",
      "     23/Unknown - 10s 28ms/step - loss: 2.1426 - accuracy: 0.2391"
     ]
    },
    {
     "name": "stdout",
     "output_type": "stream",
     "text": [
      "\b\b\b\b\b\b\b\b\b\b\b\b\b\b\b\b\b\b\b\b\b\b\b\b\b\b\b\b\b\b\b\b\b\b\b\b\b\b\b\b\b\b\b\b\b\b\b\b\b\b\b\b\b\b\b\b\b\b\b\b\b\b\b\b\b\r",
      "     25/Unknown - 10s 28ms/step - loss: 2.0991 - accuracy: 0.2800"
     ]
    },
    {
     "name": "stdout",
     "output_type": "stream",
     "text": [
      "\b\b\b\b\b\b\b\b\b\b\b\b\b\b\b\b\b\b\b\b\b\b\b\b\b\b\b\b\b\b\b\b\b\b\b\b\b\b\b\b\b\b\b\b\b\b\b\b\b\b\b\b\b\b\b\b\b\b\b\b\b\b\b\b\b\r",
      "     27/Unknown - 11s 28ms/step - loss: 2.0533 - accuracy: 0.2963"
     ]
    },
    {
     "name": "stdout",
     "output_type": "stream",
     "text": [
      "\b\b\b\b\b\b\b\b\b\b\b\b\b\b\b\b\b\b\b\b\b\b\b\b\b\b\b\b\b\b\b\b\b\b\b\b\b\b\b\b\b\b\b\b\b\b\b\b\b\b\b\b\b\b\b\b\b\b\b\b\b\b\b\b\b\r",
      "     29/Unknown - 11s 28ms/step - loss: 2.0107 - accuracy: 0.3103"
     ]
    },
    {
     "name": "stdout",
     "output_type": "stream",
     "text": [
      "\b\b\b\b\b\b\b\b\b\b\b\b\b\b\b\b\b\b\b\b\b\b\b\b\b\b\b\b\b\b\b\b\b\b\b\b\b\b\b\b\b\b\b\b\b\b\b\b\b\b\b\b\b\b\b\b\b\b\b\b\b\b\b\b\b\r",
      "     31/Unknown - 11s 28ms/step - loss: 2.0355 - accuracy: 0.2903"
     ]
    },
    {
     "name": "stdout",
     "output_type": "stream",
     "text": [
      "\b\b\b\b\b\b\b\b\b\b\b\b\b\b\b\b\b\b\b\b\b\b\b\b\b\b\b\b\b\b\b\b\b\b\b\b\b\b\b\b\b\b\b\b\b\b\b\b\b\b\b\b\b\b\b\b\b\b\b\b\b\b\b\b\b\r",
      "     33/Unknown - 11s 28ms/step - loss: 1.9942 - accuracy: 0.3030"
     ]
    },
    {
     "name": "stdout",
     "output_type": "stream",
     "text": [
      "\b\b\b\b\b\b\b\b\b\b\b\b\b\b\b\b\b\b\b\b\b\b\b\b\b\b\b\b\b\b\b\b\b\b\b\b\b\b\b\b\b\b\b\b\b\b\b\b\b\b\b\b\b\b\b\b\b\b\b\b\b\b\b\b\b\r",
      "     35/Unknown - 11s 28ms/step - loss: 1.9816 - accuracy: 0.3000"
     ]
    },
    {
     "name": "stdout",
     "output_type": "stream",
     "text": [
      "\b\b\b\b\b\b\b\b\b\b\b\b\b\b\b\b\b\b\b\b\b\b\b\b\b\b\b\b\b\b\b\b\b\b\b\b\b\b\b\b\b\b\b\b\b\b\b\b\b\b\b\b\b\b\b\b\b\b\b\b\b\b\b\b\b\r",
      "     37/Unknown - 11s 28ms/step - loss: 1.9431 - accuracy: 0.3378"
     ]
    },
    {
     "name": "stdout",
     "output_type": "stream",
     "text": [
      "\b\b\b\b\b\b\b\b\b\b\b\b\b\b\b\b\b\b\b\b\b\b\b\b\b\b\b\b\b\b\b\b\b\b\b\b\b\b\b\b\b\b\b\b\b\b\b\b\b\b\b\b\b\b\b\b\b\b\b\b\b\b\b\b\b\r",
      "     39/Unknown - 11s 28ms/step - loss: 1.9173 - accuracy: 0.3462"
     ]
    },
    {
     "name": "stdout",
     "output_type": "stream",
     "text": [
      "\b\b\b\b\b\b\b\b\b\b\b\b\b\b\b\b\b\b\b\b\b\b\b\b\b\b\b\b\b\b\b\b\b\b\b\b\b\b\b\b\b\b\b\b\b\b\b\b\b\b\b\b\b\b\b\b\b\b\b\b\b\b\b\b\b\r",
      "     41/Unknown - 11s 28ms/step - loss: 1.8846 - accuracy: 0.3537"
     ]
    },
    {
     "name": "stdout",
     "output_type": "stream",
     "text": [
      "\b\b\b\b\b\b\b\b\b\b\b\b\b\b\b\b\b\b\b\b\b\b\b\b\b\b\b\b\b\b\b\b\b\b\b\b\b\b\b\b\b\b\b\b\b\b\b\b\b\b\b\b\b\b\b\b\b\b\b\b\b\b\b\b\b\r",
      "     43/Unknown - 11s 28ms/step - loss: 1.8753 - accuracy: 0.3605"
     ]
    },
    {
     "name": "stdout",
     "output_type": "stream",
     "text": [
      "\b\b\b\b\b\b\b\b\b\b\b\b\b\b\b\b\b\b\b\b\b\b\b\b\b\b\b\b\b\b\b\b\b\b\b\b\b\b\b\b\b\b\b\b\b\b\b\b\b\b\b\b\b\b\b\b\b\b\b\b\b\b\b\b\b\r",
      "     45/Unknown - 11s 28ms/step - loss: 1.8618 - accuracy: 0.3667"
     ]
    },
    {
     "name": "stdout",
     "output_type": "stream",
     "text": [
      "\b\b\b\b\b\b\b\b\b\b\b\b\b\b\b\b\b\b\b\b\b\b\b\b\b\b\b\b\b\b\b\b\b\b\b\b\b\b\b\b\b\b\b\b\b\b\b\b\b\b\b\b\b\b\b\b\b\b\b\b\b\b\b\b\b\r",
      "     47/Unknown - 11s 28ms/step - loss: 1.8329 - accuracy: 0.3936"
     ]
    },
    {
     "name": "stdout",
     "output_type": "stream",
     "text": [
      "\b\b\b\b\b\b\b\b\b\b\b\b\b\b\b\b\b\b\b\b\b\b\b\b\b\b\b\b\b\b\b\b\b\b\b\b\b\b\b\b\b\b\b\b\b\b\b\b\b\b\b\b\b\b\b\b\b\b\b\b\b\b\b\b\b\r",
      "     49/Unknown - 11s 28ms/step - loss: 1.8233 - accuracy: 0.3878"
     ]
    },
    {
     "name": "stdout",
     "output_type": "stream",
     "text": [
      "\b\b\b\b\b\b\b\b\b\b\b\b\b\b\b\b\b\b\b\b\b\b\b\b\b\b\b\b\b\b\b\b\b\b\b\b\b\b\b\b\b\b\b\b\b\b\b\b\b\b\b\b\b\b\b\b\b\b\b\b\b\b\b\b\b\r",
      "     51/Unknown - 11s 28ms/step - loss: 1.8142 - accuracy: 0.3922"
     ]
    },
    {
     "name": "stdout",
     "output_type": "stream",
     "text": [
      "\b\b\b\b\b\b\b\b\b\b\b\b\b\b\b\b\b\b\b\b\b\b\b\b\b\b\b\b\b\b\b\b\b\b\b\b\b\b\b\b\b\b\b\b\b\b\b\b\b\b\b\b\b\b\b\b\b\b\b\b\b\b\b\b\b\r",
      "     53/Unknown - 11s 28ms/step - loss: 1.7887 - accuracy: 0.4057"
     ]
    },
    {
     "name": "stdout",
     "output_type": "stream",
     "text": [
      "\b\b\b\b\b\b\b\b\b\b\b\b\b\b\b\b\b\b\b\b\b\b\b\b\b\b\b\b\b\b\b\b\b\b\b\b\b\b\b\b\b\b\b\b\b\b\b\b\b\b\b\b\b\b\b\b\b\b\b\b\b\b\b\b\b\r",
      "     55/Unknown - 11s 28ms/step - loss: 1.7703 - accuracy: 0.4182"
     ]
    },
    {
     "name": "stdout",
     "output_type": "stream",
     "text": [
      "\b\b\b\b\b\b\b\b\b\b\b\b\b\b\b\b\b\b\b\b\b\b\b\b\b\b\b\b\b\b\b\b\b\b\b\b\b\b\b\b\b\b\b\b\b\b\b\b\b\b\b\b\b\b\b\b\b\b\b\b\b\b\b\b\b\r",
      "     57/Unknown - 11s 28ms/step - loss: 1.7509 - accuracy: 0.4211"
     ]
    },
    {
     "name": "stdout",
     "output_type": "stream",
     "text": [
      "\b\b\b\b\b\b\b\b\b\b\b\b\b\b\b\b\b\b\b\b\b\b\b\b\b\b\b\b\b\b\b\b\b\b\b\b\b\b\b\b\b\b\b\b\b\b\b\b\b\b\b\b\b\b\b\b\b\b\b\b\b\b\b\b\b\r",
      "     59/Unknown - 11s 28ms/step - loss: 1.7286 - accuracy: 0.4322"
     ]
    },
    {
     "name": "stdout",
     "output_type": "stream",
     "text": [
      "\b\b\b\b\b\b\b\b\b\b\b\b\b\b\b\b\b\b\b\b\b\b\b\b\b\b\b\b\b\b\b\b\b\b\b\b\b\b\b\b\b\b\b\b\b\b\b\b\b\b\b\b\b\b\b\b\b\b\b\b\b\b\b\b\b\r",
      "     61/Unknown - 11s 28ms/step - loss: 1.7186 - accuracy: 0.4508"
     ]
    },
    {
     "name": "stdout",
     "output_type": "stream",
     "text": [
      "\b\b\b\b\b\b\b\b\b\b\b\b\b\b\b\b\b\b\b\b\b\b\b\b\b\b\b\b\b\b\b\b\b\b\b\b\b\b\b\b\b\b\b\b\b\b\b\b\b\b\b\b\b\b\b\b\b\b\b\b\b\b\b\b\b\r",
      "     63/Unknown - 12s 28ms/step - loss: 1.6969 - accuracy: 0.4603"
     ]
    },
    {
     "name": "stdout",
     "output_type": "stream",
     "text": [
      "\b\b\b\b\b\b\b\b\b\b\b\b\b\b\b\b\b\b\b\b\b\b\b\b\b\b\b\b\b\b\b\b\b\b\b\b\b\b\b\b\b\b\b\b\b\b\b\b\b\b\b\b\b\b\b\b\b\b\b\b\b\b\b\b\b\r",
      "     65/Unknown - 12s 28ms/step - loss: 1.6885 - accuracy: 0.4615"
     ]
    },
    {
     "name": "stdout",
     "output_type": "stream",
     "text": [
      "\b\b\b\b\b\b\b\b\b\b\b\b\b\b\b\b\b\b\b\b\b\b\b\b\b\b\b\b\b\b\b\b\b\b\b\b\b\b\b\b\b\b\b\b\b\b\b\b\b\b\b\b\b\b\b\b\b\b\b\b\b\b\b\b\b\r",
      "     67/Unknown - 12s 28ms/step - loss: 1.6632 - accuracy: 0.4776"
     ]
    },
    {
     "name": "stdout",
     "output_type": "stream",
     "text": [
      "\b\b\b\b\b\b\b\b\b\b\b\b\b\b\b\b\b\b\b\b\b\b\b\b\b\b\b\b\b\b\b\b\b\b\b\b\b\b\b\b\b\b\b\b\b\b\b\b\b\b\b\b\b\b\b\b\b\b\b\b\b\b\b\b\b\r",
      "     69/Unknown - 12s 28ms/step - loss: 1.6399 - accuracy: 0.4928"
     ]
    },
    {
     "name": "stdout",
     "output_type": "stream",
     "text": [
      "\b\b\b\b\b\b\b\b\b\b\b\b\b\b\b\b\b\b\b\b\b\b\b\b\b\b\b\b\b\b\b\b\b\b\b\b\b\b\b\b\b\b\b\b\b\b\b\b\b\b\b\b\b\b\b\b\b\b\b\b\b\b\b\b\b\r",
      "     71/Unknown - 12s 28ms/step - loss: 1.6194 - accuracy: 0.5070"
     ]
    },
    {
     "name": "stdout",
     "output_type": "stream",
     "text": [
      "\b\b\b\b\b\b\b\b\b\b\b\b\b\b\b\b\b\b\b\b\b\b\b\b\b\b\b\b\b\b\b\b\b\b\b\b\b\b\b\b\b\b\b\b\b\b\b\b\b\b\b\b\b\b\b\b\b\b\b\b\b\b\b\b\b\r",
      "     73/Unknown - 12s 28ms/step - loss: 1.6127 - accuracy: 0.5137"
     ]
    },
    {
     "name": "stdout",
     "output_type": "stream",
     "text": [
      "\b\b\b\b\b\b\b\b\b\b\b\b\b\b\b\b\b\b\b\b\b\b\b\b\b\b\b\b\b\b\b\b\b\b\b\b\b\b\b\b\b\b\b\b\b\b\b\b\b\b\b\b\b\b\b\b\b\b\b\b\b\b\b\b\b\r",
      "     75/Unknown - 12s 28ms/step - loss: 1.5898 - accuracy: 0.5267"
     ]
    },
    {
     "name": "stdout",
     "output_type": "stream",
     "text": [
      "\b\b\b\b\b\b\b\b\b\b\b\b\b\b\b\b\b\b\b\b\b\b\b\b\b\b\b\b\b\b\b\b\b\b\b\b\b\b\b\b\b\b\b\b\b\b\b\b\b\b\b\b\b\b\b\b\b\b\b\b\b\b\b\b\b\r",
      "     77/Unknown - 12s 28ms/step - loss: 1.5733 - accuracy: 0.5325"
     ]
    },
    {
     "name": "stdout",
     "output_type": "stream",
     "text": [
      "\b\b\b\b\b\b\b\b\b\b\b\b\b\b\b\b\b\b\b\b\b\b\b\b\b\b\b\b\b\b\b\b\b\b\b\b\b\b\b\b\b\b\b\b\b\b\b\b\b\b\b\b\b\b\b\b\b\b\b\b\b\b\b\b\b\r",
      "     79/Unknown - 12s 28ms/step - loss: 1.5668 - accuracy: 0.5380"
     ]
    },
    {
     "name": "stdout",
     "output_type": "stream",
     "text": [
      "\b\b\b\b\b\b\b\b\b\b\b\b\b\b\b\b\b\b\b\b\b\b\b\b\b\b\b\b\b\b\b\b\b\b\b\b\b\b\b\b\b\b\b\b\b\b\b\b\b\b\b\b\b\b\b\b\b\b\b\b\b\b\b\b\b\r",
      "     81/Unknown - 12s 28ms/step - loss: 1.5474 - accuracy: 0.5432"
     ]
    },
    {
     "name": "stdout",
     "output_type": "stream",
     "text": [
      "\b\b\b\b\b\b\b\b\b\b\b\b\b\b\b\b\b\b\b\b\b\b\b\b\b\b\b\b\b\b\b\b\b\b\b\b\b\b\b\b\b\b\b\b\b\b\b\b\b\b\b\b\b\b\b\b\b\b\b\b\b\b\b\b\b\r",
      "     83/Unknown - 12s 28ms/step - loss: 1.5272 - accuracy: 0.5542"
     ]
    },
    {
     "name": "stdout",
     "output_type": "stream",
     "text": [
      "\b\b\b\b\b\b\b\b\b\b\b\b\b\b\b\b\b\b\b\b\b\b\b\b\b\b\b\b\b\b\b\b\b\b\b\b\b\b\b\b\b\b\b\b\b\b\b\b\b\b\b\b\b\b\b\b\b\b\b\b\b\b\b\b\b\r",
      "     85/Unknown - 12s 28ms/step - loss: 1.5212 - accuracy: 0.5588"
     ]
    },
    {
     "name": "stdout",
     "output_type": "stream",
     "text": [
      "\b\b\b\b\b\b\b\b\b\b\b\b\b\b\b\b\b\b\b\b\b\b\b\b\b\b\b\b\b\b\b\b\b\b\b\b\b\b\b\b\b\b\b\b\b\b\b\b\b\b\b\b\b\b\b\b\b\b\b\b\b\b\b\b\b\r",
      "     87/Unknown - 12s 28ms/step - loss: 1.5002 - accuracy: 0.5690"
     ]
    },
    {
     "name": "stdout",
     "output_type": "stream",
     "text": [
      "\b\b\b\b\b\b\b\b\b\b\b\b\b\b\b\b\b\b\b\b\b\b\b\b\b\b\b\b\b\b\b\b\b\b\b\b\b\b\b\b\b\b\b\b\b\b\b\b\b\b\b\b\b\b\b\b\b\b\b\b\b\b\b\b\b\r",
      "     89/Unknown - 12s 28ms/step - loss: 1.4938 - accuracy: 0.5730"
     ]
    },
    {
     "name": "stdout",
     "output_type": "stream",
     "text": [
      "\b\b\b\b\b\b\b\b\b\b\b\b\b\b\b\b\b\b\b\b\b\b\b\b\b\b\b\b\b\b\b\b\b\b\b\b\b\b\b\b\b\b\b\b\b\b\b\b\b\b\b\b\b\b\b\b\b\b\b\b\b\b\b\b\b\r",
      "     91/Unknown - 12s 28ms/step - loss: 1.4709 - accuracy: 0.5824"
     ]
    },
    {
     "name": "stdout",
     "output_type": "stream",
     "text": [
      "\b\b\b\b\b\b\b\b\b\b\b\b\b\b\b\b\b\b\b\b\b\b\b\b\b\b\b\b\b\b\b\b\b\b\b\b\b\b\b\b\b\b\b\b\b\b\b\b\b\b\b\b\b\b\b\b\b\b\b\b\b\b\b\b\b\r",
      "     93/Unknown - 12s 28ms/step - loss: 1.4510 - accuracy: 0.5914"
     ]
    },
    {
     "name": "stdout",
     "output_type": "stream",
     "text": [
      "\b\b\b\b\b\b\b\b\b\b\b\b\b\b\b\b\b\b\b\b\b\b\b\b\b\b\b\b\b\b\b\b\b\b\b\b\b\b\b\b\b\b\b\b\b\b\b\b\b\b\b\b\b\b\b\b\b\b\b\b\b\b\b\b\b\r",
      "     95/Unknown - 12s 28ms/step - loss: 1.4336 - accuracy: 0.6000"
     ]
    },
    {
     "name": "stdout",
     "output_type": "stream",
     "text": [
      "\b\b\b\b\b\b\b\b\b\b\b\b\b\b\b\b\b\b\b\b\b\b\b\b\b\b\b\b\b\b\b\b\b\b\b\b\b\b\b\b\b\b\b\b\b\b\b\b\b\b\b\b\b\b\b\b\b\b\b\b\b\b\b\b\b\r",
      "     97/Unknown - 12s 28ms/step - loss: 1.4248 - accuracy: 0.6031"
     ]
    },
    {
     "name": "stdout",
     "output_type": "stream",
     "text": [
      "\b\b\b\b\b\b\b\b\b\b\b\b\b\b\b\b\b\b\b\b\b\b\b\b\b\b\b\b\b\b\b\b\b\b\b\b\b\b\b\b\b\b\b\b\b\b\b\b\b\b\b\b\b\b\b\b\b\b\b\b\b\b\b\b\b\r",
      "     99/Unknown - 13s 28ms/step - loss: 1.4160 - accuracy: 0.6111"
     ]
    },
    {
     "name": "stdout",
     "output_type": "stream",
     "text": [
      "\b\b\b\b\b\b\b\b\b\b\b\b\b\b\b\b\b\b\b\b\b\b\b\b\b\b\b\b\b\b\b\b\b\b\b\b\b\b\b\b\b\b\b\b\b\b\b\b\b\b\b\b\b\b\b\b\b\b\b\b\b\b\b\b\b\r",
      "    101/Unknown - 13s 28ms/step - loss: 1.4075 - accuracy: 0.6089"
     ]
    },
    {
     "name": "stdout",
     "output_type": "stream",
     "text": [
      "\b\b\b\b\b\b\b\b\b\b\b\b\b\b\b\b\b\b\b\b\b\b\b\b\b\b\b\b\b\b\b\b\b\b\b\b\b\b\b\b\b\b\b\b\b\b\b\b\b\b\b\b\b\b\b\b\b\b\b\b\b\b\b\b\b\r",
      "    103/Unknown - 13s 28ms/step - loss: 1.4038 - accuracy: 0.6117"
     ]
    },
    {
     "name": "stdout",
     "output_type": "stream",
     "text": [
      "\b\b\b\b\b\b\b\b\b\b\b\b\b\b\b\b\b\b\b\b\b\b\b\b\b\b\b\b\b\b\b\b\b\b\b\b\b\b\b\b\b\b\b\b\b\b\b\b\b\b\b\b\b\b\b\b\b\b\b\b\b\b\b\b\b\r",
      "    105/Unknown - 13s 28ms/step - loss: 1.3881 - accuracy: 0.6190"
     ]
    },
    {
     "name": "stdout",
     "output_type": "stream",
     "text": [
      "\b\b\b\b\b\b\b\b\b\b\b\b\b\b\b\b\b\b\b\b\b\b\b\b\b\b\b\b\b\b\b\b\b\b\b\b\b\b\b\b\b\b\b\b\b\b\b\b\b\b\b\b\b\b\b\b\b\b\b\b\b\b\b\b\b\r",
      "    107/Unknown - 13s 28ms/step - loss: 1.3803 - accuracy: 0.6262"
     ]
    },
    {
     "name": "stdout",
     "output_type": "stream",
     "text": [
      "\b\b\b\b\b\b\b\b\b\b\b\b\b\b\b\b\b\b\b\b\b\b\b\b\b\b\b\b\b\b\b\b\b\b\b\b\b\b\b\b\b\b\b\b\b\b\b\b\b\b\b\b\b\b\b\b\b\b\b\b\b\b\b\b\b\r",
      "    109/Unknown - 13s 28ms/step - loss: 1.3755 - accuracy: 0.6239"
     ]
    },
    {
     "name": "stdout",
     "output_type": "stream",
     "text": [
      "\b\b\b\b\b\b\b\b\b\b\b\b\b\b\b\b\b\b\b\b\b\b\b\b\b\b\b\b\b\b\b\b\b\b\b\b\b\b\b\b\b\b\b\b\b\b\b\b\b\b\b\b\b\b\b\b\b\b\b\b\b\b\b\b\b\r",
      "    111/Unknown - 13s 28ms/step - loss: 1.3629 - accuracy: 0.6306"
     ]
    },
    {
     "name": "stdout",
     "output_type": "stream",
     "text": [
      "\b\b\b\b\b\b\b\b\b\b\b\b\b\b\b\b\b\b\b\b\b\b\b\b\b\b\b\b\b\b\b\b\b\b\b\b\b\b\b\b\b\b\b\b\b\b\b\b\b\b\b\b\b\b\b\b\b\b\b\b\b\b\b\b\b\r",
      "    113/Unknown - 13s 28ms/step - loss: 1.3597 - accuracy: 0.6283"
     ]
    },
    {
     "name": "stdout",
     "output_type": "stream",
     "text": [
      "\b\b\b\b\b\b\b\b\b\b\b\b\b\b\b\b\b\b\b\b\b\b\b\b\b\b\b\b\b\b\b\b\b\b\b\b\b\b\b\b\b\b\b\b\b\b\b\b\b\b\b\b\b\b\b\b\b\b\b\b\b\b\b\b\b\r",
      "    115/Unknown - 13s 28ms/step - loss: 1.3464 - accuracy: 0.6348"
     ]
    },
    {
     "name": "stdout",
     "output_type": "stream",
     "text": [
      "\b\b\b\b\b\b\b\b\b\b\b\b\b\b\b\b\b\b\b\b\b\b\b\b\b\b\b\b\b\b\b\b\b\b\b\b\b\b\b\b\b\b\b\b\b\b\b\b\b\b\b\b\b\b\b\b\b\b\b\b\b\b\b\b\b\r",
      "    117/Unknown - 13s 28ms/step - loss: 1.3383 - accuracy: 0.6368"
     ]
    },
    {
     "name": "stdout",
     "output_type": "stream",
     "text": [
      "\b\b\b\b\b\b\b\b\b\b\b\b\b\b\b\b\b\b\b\b\b\b\b\b\b\b\b\b\b\b\b\b\b\b\b\b\b\b\b\b\b\b\b\b\b\b\b\b\b\b\b\b\b\b\b\b\b\b\b\b\b\b\b\b\b\r",
      "    119/Unknown - 13s 28ms/step - loss: 1.3266 - accuracy: 0.6387"
     ]
    },
    {
     "name": "stdout",
     "output_type": "stream",
     "text": [
      "\b\b\b\b\b\b\b\b\b\b\b\b\b\b\b\b\b\b\b\b\b\b\b\b\b\b\b\b\b\b\b\b\b\b\b\b\b\b\b\b\b\b\b\b\b\b\b\b\b\b\b\b\b\b\b\b\b\b\b\b\b\b\b\b\b\r",
      "    121/Unknown - 13s 28ms/step - loss: 1.3149 - accuracy: 0.6446"
     ]
    },
    {
     "name": "stdout",
     "output_type": "stream",
     "text": [
      "\b\b\b\b\b\b\b\b\b\b\b\b\b\b\b\b\b\b\b\b\b\b\b\b\b\b\b\b\b\b\b\b\b\b\b\b\b\b\b\b\b\b\b\b\b\b\b\b\b\b\b\b\b\b\b\b\b\b\b\b\b\b\b\b\b\r",
      "    123/Unknown - 13s 28ms/step - loss: 1.3042 - accuracy: 0.6504"
     ]
    },
    {
     "name": "stdout",
     "output_type": "stream",
     "text": [
      "\b\b\b\b\b\b\b\b\b\b\b\b\b\b\b\b\b\b\b\b\b\b\b\b\b\b\b\b\b\b\b\b\b\b\b\b\b\b\b\b\b\b\b\b\b\b\b\b\b\b\b\b\b\b\b\b\b\b\b\b\b\b\b\b\b\r",
      "    125/Unknown - 13s 28ms/step - loss: 1.2930 - accuracy: 0.6560"
     ]
    },
    {
     "name": "stdout",
     "output_type": "stream",
     "text": [
      "\b\b\b\b\b\b\b\b\b\b\b\b\b\b\b\b\b\b\b\b\b\b\b\b\b\b\b\b\b\b\b\b\b\b\b\b\b\b\b\b\b\b\b\b\b\b\b\b\b\b\b\b\b\b\b\b\b\b\b\b\b\b\b\b\b\r",
      "    127/Unknown - 13s 28ms/step - loss: 1.2805 - accuracy: 0.6614"
     ]
    },
    {
     "name": "stdout",
     "output_type": "stream",
     "text": [
      "\b\b\b\b\b\b\b\b\b\b\b\b\b\b\b\b\b\b\b\b\b\b\b\b\b\b\b\b\b\b\b\b\b\b\b\b\b\b\b\b\b\b\b\b\b\b\b\b\b\b\b\b\b\b\b\b\b\b\b\b\b\b\b\b\b\r",
      "    129/Unknown - 13s 28ms/step - loss: 1.2676 - accuracy: 0.6667"
     ]
    },
    {
     "name": "stdout",
     "output_type": "stream",
     "text": [
      "\b\b\b\b\b\b\b\b\b\b\b\b\b\b\b\b\b\b\b\b\b\b\b\b\b\b\b\b\b\b\b\b\b\b\b\b\b\b\b\b\b\b\b\b\b\b\b\b\b\b\b\b\b\b\b\b\b\b\b\b\b\b\b\b\b\r",
      "    131/Unknown - 13s 28ms/step - loss: 1.2571 - accuracy: 0.6718"
     ]
    },
    {
     "name": "stdout",
     "output_type": "stream",
     "text": [
      "\b\b\b\b\b\b\b\b\b\b\b\b\b\b\b\b\b\b\b\b\b\b\b\b\b\b\b\b\b\b\b\b\b\b\b\b\b\b\b\b\b\b\b\b\b\b\b\b\b\b\b\b\b\b\b\b\b\b\b\b\b\b\b\b\b\r",
      "    133/Unknown - 13s 28ms/step - loss: 1.2482 - accuracy: 0.6767"
     ]
    },
    {
     "name": "stdout",
     "output_type": "stream",
     "text": [
      "\b\b\b\b\b\b\b\b\b\b\b\b\b\b\b\b\b\b\b\b\b\b\b\b\b\b\b\b\b\b\b\b\b\b\b\b\b\b\b\b\b\b\b\b\b\b\b\b\b\b\b\b\b\b\b\b\b\b\b\b\b\b\b\b\b\r",
      "    135/Unknown - 13s 28ms/step - loss: 1.2394 - accuracy: 0.6778"
     ]
    },
    {
     "name": "stdout",
     "output_type": "stream",
     "text": [
      "\b\b\b\b\b\b\b\b\b\b\b\b\b\b\b\b\b\b\b\b\b\b\b\b\b\b\b\b\b\b\b\b\b\b\b\b\b\b\b\b\b\b\b\b\b\b\b\b\b\b\b\b\b\b\b\b\b\b\b\b\b\b\b\b\b\r",
      "    137/Unknown - 14s 28ms/step - loss: 1.2270 - accuracy: 0.6825"
     ]
    },
    {
     "name": "stdout",
     "output_type": "stream",
     "text": [
      "\b\b\b\b\b\b\b\b\b\b\b\b\b\b\b\b\b\b\b\b\b\b\b\b\b\b\b\b\b\b\b\b\b\b\b\b\b\b\b\b\b\b\b\b\b\b\b\b\b\b\b\b\b\b\b\b\b\b\b\b\b\b\b\b\b\r",
      "    139/Unknown - 14s 28ms/step - loss: 1.2178 - accuracy: 0.6871"
     ]
    },
    {
     "name": "stdout",
     "output_type": "stream",
     "text": [
      "\b\b\b\b\b\b\b\b\b\b\b\b\b\b\b\b\b\b\b\b\b\b\b\b\b\b\b\b\b\b\b\b\b\b\b\b\b\b\b\b\b\b\b\b\b\b\b\b\b\b\b\b\b\b\b\b\b\b\b\b\b\b\b\b\b\r",
      "    141/Unknown - 14s 28ms/step - loss: 1.2090 - accuracy: 0.6915"
     ]
    },
    {
     "name": "stdout",
     "output_type": "stream",
     "text": [
      "\b\b\b\b\b\b\b\b\b\b\b\b\b\b\b\b\b\b\b\b\b\b\b\b\b\b\b\b\b\b\b\b\b\b\b\b\b\b\b\b\b\b\b\b\b\b\b\b\b\b\b\b\b\b\b\b\b\b\b\b\b\b\b\b\b\r",
      "    143/Unknown - 14s 28ms/step - loss: 1.2001 - accuracy: 0.6958"
     ]
    },
    {
     "name": "stdout",
     "output_type": "stream",
     "text": [
      "\b\b\b\b\b\b\b\b\b\b\b\b\b\b\b\b\b\b\b\b\b\b\b\b\b\b\b\b\b\b\b\b\b\b\b\b\b\b\b\b\b\b\b\b\b\b\b\b\b\b\b\b\b\b\b\b\b\b\b\b\b\b\b\b\b\r",
      "    145/Unknown - 14s 28ms/step - loss: 1.1918 - accuracy: 0.6966"
     ]
    },
    {
     "name": "stdout",
     "output_type": "stream",
     "text": [
      "\b\b\b\b\b\b\b\b\b\b\b\b\b\b\b\b\b\b\b\b\b\b\b\b\b\b\b\b\b\b\b\b\b\b\b\b\b\b\b\b\b\b\b\b\b\b\b\b\b\b\b\b\b\b\b\b\b\b\b\b\b\b\b\b\b\r",
      "    147/Unknown - 14s 28ms/step - loss: 1.1810 - accuracy: 0.7007"
     ]
    },
    {
     "name": "stdout",
     "output_type": "stream",
     "text": [
      "\b\b\b\b\b\b\b\b\b\b\b\b\b\b\b\b\b\b\b\b\b\b\b\b\b\b\b\b\b\b\b\b\b\b\b\b\b\b\b\b\b\b\b\b\b\b\b\b\b\b\b\b\b\b\b\b\b\b\b\b\b\b\b\b\b\r",
      "    149/Unknown - 14s 28ms/step - loss: 1.1680 - accuracy: 0.7047"
     ]
    },
    {
     "name": "stdout",
     "output_type": "stream",
     "text": [
      "\b\b\b\b\b\b\b\b\b\b\b\b\b\b\b\b\b\b\b\b\b\b\b\b\b\b\b\b\b\b\b\b\b\b\b\b\b\b\b\b\b\b\b\b\b\b\b\b\b\b\b\b\b\b\b\b\b\b\b\b\b\b\b\b\b\r",
      "150/150 [==============================] - 18s 55ms/step - loss: 1.1630 - accuracy: 0.7067 - val_loss: 0.4363 - val_accuracy: 0.9500\n"
     ]
    },
    {
     "name": "stdout",
     "output_type": "stream",
     "text": [
      "Epoch 2/10\n"
     ]
    },
    {
     "name": "stdout",
     "output_type": "stream",
     "text": [
      "\r",
      "  1/150 [..............................] - ETA: 4s - loss: 0.3597 - accuracy: 1.0000"
     ]
    },
    {
     "name": "stdout",
     "output_type": "stream",
     "text": [
      "\b\b\b\b\b\b\b\b\b\b\b\b\b\b\b\b\b\b\b\b\b\b\b\b\b\b\b\b\b\b\b\b\b\b\b\b\b\b\b\b\b\b\b\b\b\b\b\b\b\b\b\b\b\b\b\b\b\b\b\b\b\b\b\b\b\b\b\b\b\b\b\b\b\b\b\b\b\b\b\b\b\b\b\b\r",
      "  3/150 [..............................] - ETA: 4s - loss: 0.3313 - accuracy: 1.0000"
     ]
    },
    {
     "name": "stdout",
     "output_type": "stream",
     "text": [
      "\b\b\b\b\b\b\b\b\b\b\b\b\b\b\b\b\b\b\b\b\b\b\b\b\b\b\b\b\b\b\b\b\b\b\b\b\b\b\b\b\b\b\b\b\b\b\b\b\b\b\b\b\b\b\b\b\b\b\b\b\b\b\b\b\b\b\b\b\b\b\b\b\b\b\b\b\b\b\b\b\b\b\b\b\r",
      "  5/150 [>.............................] - ETA: 3s - loss: 0.3615 - accuracy: 1.0000"
     ]
    },
    {
     "name": "stdout",
     "output_type": "stream",
     "text": [
      "\b\b\b\b\b\b\b\b\b\b\b\b\b\b\b\b\b\b\b\b\b\b\b\b\b\b\b\b\b\b\b\b\b\b\b\b\b\b\b\b\b\b\b\b\b\b\b\b\b\b\b\b\b\b\b\b\b\b\b\b\b\b\b\b\b\b\b\b\b\b\b\b\b\b\b\b\b\b\b\b\b\b\b\b\r",
      "  7/150 [>.............................] - ETA: 3s - loss: 0.3101 - accuracy: 1.0000"
     ]
    },
    {
     "name": "stdout",
     "output_type": "stream",
     "text": [
      "\b\b\b\b\b\b\b\b\b\b\b\b\b\b\b\b\b\b\b\b\b\b\b\b\b\b\b\b\b\b\b\b\b\b\b\b\b\b\b\b\b\b\b\b\b\b\b\b\b\b\b\b\b\b\b\b\b\b\b\b\b\b\b\b\b\b\b\b\b\b\b\b\b\b\b\b\b\b\b\b\b\b\b\b\r",
      "  9/150 [>.............................] - ETA: 3s - loss: 0.3478 - accuracy: 1.0000"
     ]
    },
    {
     "name": "stdout",
     "output_type": "stream",
     "text": [
      "\b\b\b\b\b\b\b\b\b\b\b\b\b\b\b\b\b\b\b\b\b\b\b\b\b\b\b\b\b\b\b\b\b\b\b\b\b\b\b\b\b\b\b\b\b\b\b\b\b\b\b\b\b\b\b\b\b\b\b\b\b\b\b\b\b\b\b\b\b\b\b\b\b\b\b\b\b\b\b\b\b\b\b\b\r",
      " 11/150 [=>............................] - ETA: 3s - loss: 0.3605 - accuracy: 1.0000"
     ]
    },
    {
     "name": "stdout",
     "output_type": "stream",
     "text": [
      "\b\b\b\b\b\b\b\b\b\b\b\b\b\b\b\b\b\b\b\b\b\b\b\b\b\b\b\b\b\b\b\b\b\b\b\b\b\b\b\b\b\b\b\b\b\b\b\b\b\b\b\b\b\b\b\b\b\b\b\b\b\b\b\b\b\b\b\b\b\b\b\b\b\b\b\b\b\b\b\b\b\b\b\b\r",
      " 13/150 [=>............................] - ETA: 3s - loss: 0.3270 - accuracy: 1.0000"
     ]
    },
    {
     "name": "stdout",
     "output_type": "stream",
     "text": [
      "\b\b\b\b\b\b\b\b\b\b\b\b\b\b\b\b\b\b\b\b\b\b\b\b\b\b\b\b\b\b\b\b\b\b\b\b\b\b\b\b\b\b\b\b\b\b\b\b\b\b\b\b\b\b\b\b\b\b\b\b\b\b\b\b\b\b\b\b\b\b\b\b\b\b\b\b\b\b\b\b\b\b\b\b\r",
      " 15/150 [==>...........................] - ETA: 3s - loss: 0.3918 - accuracy: 1.0000"
     ]
    },
    {
     "name": "stdout",
     "output_type": "stream",
     "text": [
      "\b\b\b\b\b\b\b\b\b\b\b\b\b\b\b\b\b\b\b\b\b\b\b\b\b\b\b\b\b\b\b\b\b\b\b\b\b\b\b\b\b\b\b\b\b\b\b\b\b\b\b\b\b\b\b\b\b\b\b\b\b\b\b\b\b\b\b\b\b\b\b\b\b\b\b\b\b\b\b\b\b\b\b\b\r",
      " 17/150 [==>...........................] - ETA: 3s - loss: 0.4107 - accuracy: 0.9706"
     ]
    },
    {
     "name": "stdout",
     "output_type": "stream",
     "text": [
      "\b\b\b\b\b\b\b\b\b\b\b\b\b\b\b\b\b\b\b\b\b\b\b\b\b\b\b\b\b\b\b\b\b\b\b\b\b\b\b\b\b\b\b\b\b\b\b\b\b\b\b\b\b\b\b\b\b\b\b\b\b\b\b\b\b\b\b\b\b\b\b\b\b\b\b\b\b\b\b\b\b\b\b\b\r",
      " 19/150 [==>...........................] - ETA: 3s - loss: 0.4400 - accuracy: 0.9737"
     ]
    },
    {
     "name": "stdout",
     "output_type": "stream",
     "text": [
      "\b\b\b\b\b\b\b\b\b\b\b\b\b\b\b\b\b\b\b\b\b\b\b\b\b\b\b\b\b\b\b\b\b\b\b\b\b\b\b\b\b\b\b\b\b\b\b\b\b\b\b\b\b\b\b\b\b\b\b\b\b\b\b\b\b\b\b\b\b\b\b\b\b\b\b\b\b\b\b\b\b\b\b\b\r",
      " 21/150 [===>..........................] - ETA: 3s - loss: 0.4413 - accuracy: 0.9762"
     ]
    },
    {
     "name": "stdout",
     "output_type": "stream",
     "text": [
      "\b\b\b\b\b\b\b\b\b\b\b\b\b\b\b\b\b\b\b\b\b\b\b\b\b\b\b\b\b\b\b\b\b\b\b\b\b\b\b\b\b\b\b\b\b\b\b\b\b\b\b\b\b\b\b\b\b\b\b\b\b\b\b\b\b\b\b\b\b\b\b\b\b\b\b\b\b\b\b\b\b\b\b\b\r",
      " 23/150 [===>..........................] - ETA: 3s - loss: 0.4316 - accuracy: 0.9783"
     ]
    },
    {
     "name": "stdout",
     "output_type": "stream",
     "text": [
      "\b\b\b\b\b\b\b\b\b\b\b\b\b\b\b\b\b\b\b\b\b\b\b\b\b\b\b\b\b\b\b\b\b\b\b\b\b\b\b\b\b\b\b\b\b\b\b\b\b\b\b\b\b\b\b\b\b\b\b\b\b\b\b\b\b\b\b\b\b\b\b\b\b\b\b\b\b\b\b\b\b\b\b\b\r",
      " 25/150 [====>.........................] - ETA: 3s - loss: 0.4110 - accuracy: 0.9800"
     ]
    },
    {
     "name": "stdout",
     "output_type": "stream",
     "text": [
      "\b\b\b\b\b\b\b\b\b\b\b\b\b\b\b\b\b\b\b\b\b\b\b\b\b\b\b\b\b\b\b\b\b\b\b\b\b\b\b\b\b\b\b\b\b\b\b\b\b\b\b\b\b\b\b\b\b\b\b\b\b\b\b\b\b\b\b\b\b\b\b\b\b\b\b\b\b\b\b\b\b\b\b\b\r",
      " 27/150 [====>.........................] - ETA: 3s - loss: 0.3918 - accuracy: 0.9815"
     ]
    },
    {
     "name": "stdout",
     "output_type": "stream",
     "text": [
      "\b\b\b\b\b\b\b\b\b\b\b\b\b\b\b\b\b\b\b\b\b\b\b\b\b\b\b\b\b\b\b\b\b\b\b\b\b\b\b\b\b\b\b\b\b\b\b\b\b\b\b\b\b\b\b\b\b\b\b\b\b\b\b\b\b\b\b\b\b\b\b\b\b\b\b\b\b\b\b\b\b\b\b\b\r",
      " 29/150 [====>.........................] - ETA: 3s - loss: 0.4010 - accuracy: 0.9828"
     ]
    },
    {
     "name": "stdout",
     "output_type": "stream",
     "text": [
      "\b\b\b\b\b\b\b\b\b\b\b\b\b\b\b\b\b\b\b\b\b\b\b\b\b\b\b\b\b\b\b\b\b\b\b\b\b\b\b\b\b\b\b\b\b\b\b\b\b\b\b\b\b\b\b\b\b\b\b\b\b\b\b\b\b\b\b\b\b\b\b\b\b\b\b\b\b\b\b\b\b\b\b\b\r",
      " 31/150 [=====>........................] - ETA: 3s - loss: 0.3900 - accuracy: 0.9839"
     ]
    },
    {
     "name": "stdout",
     "output_type": "stream",
     "text": [
      "\b\b\b\b\b\b\b\b\b\b\b\b\b\b\b\b\b\b\b\b\b\b\b\b\b\b\b\b\b\b\b\b\b\b\b\b\b\b\b\b\b\b\b\b\b\b\b\b\b\b\b\b\b\b\b\b\b\b\b\b\b\b\b\b\b\b\b\b\b\b\b\b\b\b\b\b\b\b\b\b\b\b\b\b\r",
      " 33/150 [=====>........................] - ETA: 3s - loss: 0.3819 - accuracy: 0.9848"
     ]
    },
    {
     "name": "stdout",
     "output_type": "stream",
     "text": [
      "\b\b\b\b\b\b\b\b\b\b\b\b\b\b\b\b\b\b\b\b\b\b\b\b\b\b\b\b\b\b\b\b\b\b\b\b\b\b\b\b\b\b\b\b\b\b\b\b\b\b\b\b\b\b\b\b\b\b\b\b\b\b\b\b\b\b\b\b\b\b\b\b\b\b\b\b\b\b\b\b\b\b\b\b\r",
      " 35/150 [======>.......................] - ETA: 3s - loss: 0.3823 - accuracy: 0.9857"
     ]
    },
    {
     "name": "stdout",
     "output_type": "stream",
     "text": [
      "\b\b\b\b\b\b\b\b\b\b\b\b\b\b\b\b\b\b\b\b\b\b\b\b\b\b\b\b\b\b\b\b\b\b\b\b\b\b\b\b\b\b\b\b\b\b\b\b\b\b\b\b\b\b\b\b\b\b\b\b\b\b\b\b\b\b\b\b\b\b\b\b\b\b\b\b\b\b\b\b\b\b\b\b\r",
      " 37/150 [======>.......................] - ETA: 3s - loss: 0.3788 - accuracy: 0.9865"
     ]
    },
    {
     "name": "stdout",
     "output_type": "stream",
     "text": [
      "\b\b\b\b\b\b\b\b\b\b\b\b\b\b\b\b\b\b\b\b\b\b\b\b\b\b\b\b\b\b\b\b\b\b\b\b\b\b\b\b\b\b\b\b\b\b\b\b\b\b\b\b\b\b\b\b\b\b\b\b\b\b\b\b\b\b\b\b\b\b\b\b\b\b\b\b\b\b\b\b\b\b\b\b\r",
      " 39/150 [======>.......................] - ETA: 3s - loss: 0.3832 - accuracy: 0.9872"
     ]
    },
    {
     "name": "stdout",
     "output_type": "stream",
     "text": [
      "\b\b\b\b\b\b\b\b\b\b\b\b\b\b\b\b\b\b\b\b\b\b\b\b\b\b\b\b\b\b\b\b\b\b\b\b\b\b\b\b\b\b\b\b\b\b\b\b\b\b\b\b\b\b\b\b\b\b\b\b\b\b\b\b\b\b\b\b\b\b\b\b\b\b\b\b\b\b\b\b\b\b\b\b\r",
      " 41/150 [=======>......................] - ETA: 3s - loss: 0.3758 - accuracy: 0.9878"
     ]
    },
    {
     "name": "stdout",
     "output_type": "stream",
     "text": [
      "\b\b\b\b\b\b\b\b\b\b\b\b\b\b\b\b\b\b\b\b\b\b\b\b\b\b\b\b\b\b\b\b\b\b\b\b\b\b\b\b\b\b\b\b\b\b\b\b\b\b\b\b\b\b\b\b\b\b\b\b\b\b\b\b\b\b\b\b\b\b\b\b\b\b\b\b\b\b\b\b\b\b\b\b\r",
      " 43/150 [=======>......................] - ETA: 2s - loss: 0.3673 - accuracy: 0.9884"
     ]
    },
    {
     "name": "stdout",
     "output_type": "stream",
     "text": [
      "\b\b\b\b\b\b\b\b\b\b\b\b\b\b\b\b\b\b\b\b\b\b\b\b\b\b\b\b\b\b\b\b\b\b\b\b\b\b\b\b\b\b\b\b\b\b\b\b\b\b\b\b\b\b\b\b\b\b\b\b\b\b\b\b\b\b\b\b\b\b\b\b\b\b\b\b\b\b\b\b\b\b\b\b\r",
      " 45/150 [========>.....................] - ETA: 2s - loss: 0.3668 - accuracy: 0.9889"
     ]
    },
    {
     "name": "stdout",
     "output_type": "stream",
     "text": [
      "\b\b\b\b\b\b\b\b\b\b\b\b\b\b\b\b\b\b\b\b\b\b\b\b\b\b\b\b\b\b\b\b\b\b\b\b\b\b\b\b\b\b\b\b\b\b\b\b\b\b\b\b\b\b\b\b\b\b\b\b\b\b\b\b\b\b\b\b\b\b\b\b\b\b\b\b\b\b\b\b\b\b\b\b\r",
      " 47/150 [========>.....................] - ETA: 2s - loss: 0.3702 - accuracy: 0.9894"
     ]
    },
    {
     "name": "stdout",
     "output_type": "stream",
     "text": [
      "\b\b\b\b\b\b\b\b\b\b\b\b\b\b\b\b\b\b\b\b\b\b\b\b\b\b\b\b\b\b\b\b\b\b\b\b\b\b\b\b\b\b\b\b\b\b\b\b\b\b\b\b\b\b\b\b\b\b\b\b\b\b\b\b\b\b\b\b\b\b\b\b\b\b\b\b\b\b\b\b\b\b\b\b\r",
      " 49/150 [========>.....................] - ETA: 2s - loss: 0.3581 - accuracy: 0.9898"
     ]
    },
    {
     "name": "stdout",
     "output_type": "stream",
     "text": [
      "\b\b\b\b\b\b\b\b\b\b\b\b\b\b\b\b\b\b\b\b\b\b\b\b\b\b\b\b\b\b\b\b\b\b\b\b\b\b\b\b\b\b\b\b\b\b\b\b\b\b\b\b\b\b\b\b\b\b\b\b\b\b\b\b\b\b\b\b\b\b\b\b\b\b\b\b\b\b\b\b\b\b\b\b\r",
      " 51/150 [=========>....................] - ETA: 2s - loss: 0.3538 - accuracy: 0.9902"
     ]
    },
    {
     "name": "stdout",
     "output_type": "stream",
     "text": [
      "\b\b\b\b\b\b\b\b\b\b\b\b\b\b\b\b\b\b\b\b\b\b\b\b\b\b\b\b\b\b\b\b\b\b\b\b\b\b\b\b\b\b\b\b\b\b\b\b\b\b\b\b\b\b\b\b\b\b\b\b\b\b\b\b\b\b\b\b\b\b\b\b\b\b\b\b\b\b\b\b\b\b\b\b\r",
      " 53/150 [=========>....................] - ETA: 2s - loss: 0.3455 - accuracy: 0.9906"
     ]
    },
    {
     "name": "stdout",
     "output_type": "stream",
     "text": [
      "\b\b\b\b\b\b\b\b\b\b\b\b\b\b\b\b\b\b\b\b\b\b\b\b\b\b\b\b\b\b\b\b\b\b\b\b\b\b\b\b\b\b\b\b\b\b\b\b\b\b\b\b\b\b\b\b\b\b\b\b\b\b\b\b\b\b\b\b\b\b\b\b\b\b\b\b\b\b\b\b\b\b\b\b\r",
      " 55/150 [==========>...................] - ETA: 2s - loss: 0.3483 - accuracy: 0.9909"
     ]
    },
    {
     "name": "stdout",
     "output_type": "stream",
     "text": [
      "\b\b\b\b\b\b\b\b\b\b\b\b\b\b\b\b\b\b\b\b\b\b\b\b\b\b\b\b\b\b\b\b\b\b\b\b\b\b\b\b\b\b\b\b\b\b\b\b\b\b\b\b\b\b\b\b\b\b\b\b\b\b\b\b\b\b\b\b\b\b\b\b\b\b\b\b\b\b\b\b\b\b\b\b\r",
      " 57/150 [==========>...................] - ETA: 2s - loss: 0.3452 - accuracy: 0.9912"
     ]
    },
    {
     "name": "stdout",
     "output_type": "stream",
     "text": [
      "\b\b\b\b\b\b\b\b\b\b\b\b\b\b\b\b\b\b\b\b\b\b\b\b\b\b\b\b\b\b\b\b\b\b\b\b\b\b\b\b\b\b\b\b\b\b\b\b\b\b\b\b\b\b\b\b\b\b\b\b\b\b\b\b\b\b\b\b\b\b\b\b\b\b\b\b\b\b\b\b\b\b\b\b\r",
      " 59/150 [==========>...................] - ETA: 2s - loss: 0.3480 - accuracy: 0.9831"
     ]
    },
    {
     "name": "stdout",
     "output_type": "stream",
     "text": [
      "\b\b\b\b\b\b\b\b\b\b\b\b\b\b\b\b\b\b\b\b\b\b\b\b\b\b\b\b\b\b\b\b\b\b\b\b\b\b\b\b\b\b\b\b\b\b\b\b\b\b\b\b\b\b\b\b\b\b\b\b\b\b\b\b\b\b\b\b\b\b\b\b\b\b\b\b\b\b\b\b\b\b\b\b\r",
      " 61/150 [===========>..................] - ETA: 2s - loss: 0.3503 - accuracy: 0.9836"
     ]
    },
    {
     "name": "stdout",
     "output_type": "stream",
     "text": [
      "\b\b\b\b\b\b\b\b\b\b\b\b\b\b\b\b\b\b\b\b\b\b\b\b\b\b\b\b\b\b\b\b\b\b\b\b\b\b\b\b\b\b\b\b\b\b\b\b\b\b\b\b\b\b\b\b\b\b\b\b\b\b\b\b\b\b\b\b\b\b\b\b\b\b\b\b\b\b\b\b\b\b\b\b\r",
      " 63/150 [===========>..................] - ETA: 2s - loss: 0.3548 - accuracy: 0.9841"
     ]
    },
    {
     "name": "stdout",
     "output_type": "stream",
     "text": [
      "\b\b\b\b\b\b\b\b\b\b\b\b\b\b\b\b\b\b\b\b\b\b\b\b\b\b\b\b\b\b\b\b\b\b\b\b\b\b\b\b\b\b\b\b\b\b\b\b\b\b\b\b\b\b\b\b\b\b\b\b\b\b\b\b\b\b\b\b\b\b\b\b\b\b\b\b\b\b\b\b\b\b\b\b\r",
      " 65/150 [============>.................] - ETA: 2s - loss: 0.3541 - accuracy: 0.9769"
     ]
    },
    {
     "name": "stdout",
     "output_type": "stream",
     "text": [
      "\b\b\b\b\b\b\b\b\b\b\b\b\b\b\b\b\b\b\b\b\b\b\b\b\b\b\b\b\b\b\b\b\b\b\b\b\b\b\b\b\b\b\b\b\b\b\b\b\b\b\b\b\b\b\b\b\b\b\b\b\b\b\b\b\b\b\b\b\b\b\b\b\b\b\b\b\b\b\b\b\b\b\b\b\r",
      " 67/150 [============>.................] - ETA: 2s - loss: 0.3528 - accuracy: 0.9776"
     ]
    },
    {
     "name": "stdout",
     "output_type": "stream",
     "text": [
      "\b\b\b\b\b\b\b\b\b\b\b\b\b\b\b\b\b\b\b\b\b\b\b\b\b\b\b\b\b\b\b\b\b\b\b\b\b\b\b\b\b\b\b\b\b\b\b\b\b\b\b\b\b\b\b\b\b\b\b\b\b\b\b\b\b\b\b\b\b\b\b\b\b\b\b\b\b\b\b\b\b\b\b\b\r",
      " 69/150 [============>.................] - ETA: 2s - loss: 0.3533 - accuracy: 0.9710"
     ]
    },
    {
     "name": "stdout",
     "output_type": "stream",
     "text": [
      "\b\b\b\b\b\b\b\b\b\b\b\b\b\b\b\b\b\b\b\b\b\b\b\b\b\b\b\b\b\b\b\b\b\b\b\b\b\b\b\b\b\b\b\b\b\b\b\b\b\b\b\b\b\b\b\b\b\b\b\b\b\b\b\b\b\b\b\b\b\b\b\b\b\b\b\b\b\b\b\b\b\b\b\b\r",
      " 71/150 [=============>................] - ETA: 2s - loss: 0.3507 - accuracy: 0.9718"
     ]
    },
    {
     "name": "stdout",
     "output_type": "stream",
     "text": [
      "\b\b\b\b\b\b\b\b\b\b\b\b\b\b\b\b\b\b\b\b\b\b\b\b\b\b\b\b\b\b\b\b\b\b\b\b\b\b\b\b\b\b\b\b\b\b\b\b\b\b\b\b\b\b\b\b\b\b\b\b\b\b\b\b\b\b\b\b\b\b\b\b\b\b\b\b\b\b\b\b\b\b\b\b\r",
      " 73/150 [=============>................] - ETA: 2s - loss: 0.3501 - accuracy: 0.9726"
     ]
    },
    {
     "name": "stdout",
     "output_type": "stream",
     "text": [
      "\b\b\b\b\b\b\b\b\b\b\b\b\b\b\b\b\b\b\b\b\b\b\b\b\b\b\b\b\b\b\b\b\b\b\b\b\b\b\b\b\b\b\b\b\b\b\b\b\b\b\b\b\b\b\b\b\b\b\b\b\b\b\b\b\b\b\b\b\b\b\b\b\b\b\b\b\b\b\b\b\b\b\b\b\r",
      " 75/150 [==============>...............] - ETA: 2s - loss: 0.3490 - accuracy: 0.9733"
     ]
    },
    {
     "name": "stdout",
     "output_type": "stream",
     "text": [
      "\b\b\b\b\b\b\b\b\b\b\b\b\b\b\b\b\b\b\b\b\b\b\b\b\b\b\b\b\b\b\b\b\b\b\b\b\b\b\b\b\b\b\b\b\b\b\b\b\b\b\b\b\b\b\b\b\b\b\b\b\b\b\b\b\b\b\b\b\b\b\b\b\b\b\b\b\b\b\b\b\b\b\b\b\r",
      " 77/150 [==============>...............] - ETA: 2s - loss: 0.3468 - accuracy: 0.9740"
     ]
    },
    {
     "name": "stdout",
     "output_type": "stream",
     "text": [
      "\b\b\b\b\b\b\b\b\b\b\b\b\b\b\b\b\b\b\b\b\b\b\b\b\b\b\b\b\b\b\b\b\b\b\b\b\b\b\b\b\b\b\b\b\b\b\b\b\b\b\b\b\b\b\b\b\b\b\b\b\b\b\b\b\b\b\b\b\b\b\b\b\b\b\b\b\b\b\b\b\b\b\b\b\r",
      " 79/150 [==============>...............] - ETA: 1s - loss: 0.3488 - accuracy: 0.9684"
     ]
    },
    {
     "name": "stdout",
     "output_type": "stream",
     "text": [
      "\b\b\b\b\b\b\b\b\b\b\b\b\b\b\b\b\b\b\b\b\b\b\b\b\b\b\b\b\b\b\b\b\b\b\b\b\b\b\b\b\b\b\b\b\b\b\b\b\b\b\b\b\b\b\b\b\b\b\b\b\b\b\b\b\b\b\b\b\b\b\b\b\b\b\b\b\b\b\b\b\b\b\b\b\r",
      " 81/150 [===============>..............] - ETA: 1s - loss: 0.3441 - accuracy: 0.9691"
     ]
    },
    {
     "name": "stdout",
     "output_type": "stream",
     "text": [
      "\b\b\b\b\b\b\b\b\b\b\b\b\b\b\b\b\b\b\b\b\b\b\b\b\b\b\b\b\b\b\b\b\b\b\b\b\b\b\b\b\b\b\b\b\b\b\b\b\b\b\b\b\b\b\b\b\b\b\b\b\b\b\b\b\b\b\b\b\b\b\b\b\b\b\b\b\b\b\b\b\b\b\b\b\r",
      " 83/150 [===============>..............] - ETA: 1s - loss: 0.3388 - accuracy: 0.9699"
     ]
    },
    {
     "name": "stdout",
     "output_type": "stream",
     "text": [
      "\b\b\b\b\b\b\b\b\b\b\b\b\b\b\b\b\b\b\b\b\b\b\b\b\b\b\b\b\b\b\b\b\b\b\b\b\b\b\b\b\b\b\b\b\b\b\b\b\b\b\b\b\b\b\b\b\b\b\b\b\b\b\b\b\b\b\b\b\b\b\b\b\b\b\b\b\b\b\b\b\b\b\b\b\r",
      " 85/150 [================>.............] - ETA: 1s - loss: 0.3361 - accuracy: 0.9706"
     ]
    },
    {
     "name": "stdout",
     "output_type": "stream",
     "text": [
      "\b\b\b\b\b\b\b\b\b\b\b\b\b\b\b\b\b\b\b\b\b\b\b\b\b\b\b\b\b\b\b\b\b\b\b\b\b\b\b\b\b\b\b\b\b\b\b\b\b\b\b\b\b\b\b\b\b\b\b\b\b\b\b\b\b\b\b\b\b\b\b\b\b\b\b\b\b\b\b\b\b\b\b\b\r",
      " 87/150 [================>.............] - ETA: 1s - loss: 0.3368 - accuracy: 0.9713"
     ]
    },
    {
     "name": "stdout",
     "output_type": "stream",
     "text": [
      "\b\b\b\b\b\b\b\b\b\b\b\b\b\b\b\b\b\b\b\b\b\b\b\b\b\b\b\b\b\b\b\b\b\b\b\b\b\b\b\b\b\b\b\b\b\b\b\b\b\b\b\b\b\b\b\b\b\b\b\b\b\b\b\b\b\b\b\b\b\b\b\b\b\b\b\b\b\b\b\b\b\b\b\b\r",
      " 89/150 [================>.............] - ETA: 1s - loss: 0.3369 - accuracy: 0.9719"
     ]
    },
    {
     "name": "stdout",
     "output_type": "stream",
     "text": [
      "\b\b\b\b\b\b\b\b\b\b\b\b\b\b\b\b\b\b\b\b\b\b\b\b\b\b\b\b\b\b\b\b\b\b\b\b\b\b\b\b\b\b\b\b\b\b\b\b\b\b\b\b\b\b\b\b\b\b\b\b\b\b\b\b\b\b\b\b\b\b\b\b\b\b\b\b\b\b\b\b\b\b\b\b\r",
      " 91/150 [=================>............] - ETA: 1s - loss: 0.3378 - accuracy: 0.9725"
     ]
    },
    {
     "name": "stdout",
     "output_type": "stream",
     "text": [
      "\b\b\b\b\b\b\b\b\b\b\b\b\b\b\b\b\b\b\b\b\b\b\b\b\b\b\b\b\b\b\b\b\b\b\b\b\b\b\b\b\b\b\b\b\b\b\b\b\b\b\b\b\b\b\b\b\b\b\b\b\b\b\b\b\b\b\b\b\b\b\b\b\b\b\b\b\b\b\b\b\b\b\b\b\r",
      " 93/150 [=================>............] - ETA: 1s - loss: 0.3351 - accuracy: 0.9731"
     ]
    },
    {
     "name": "stdout",
     "output_type": "stream",
     "text": [
      "\b\b\b\b\b\b\b\b\b\b\b\b\b\b\b\b\b\b\b\b\b\b\b\b\b\b\b\b\b\b\b\b\b\b\b\b\b\b\b\b\b\b\b\b\b\b\b\b\b\b\b\b\b\b\b\b\b\b\b\b\b\b\b\b\b\b\b\b\b\b\b\b\b\b\b\b\b\b\b\b\b\b\b\b\r",
      " 95/150 [==================>...........] - ETA: 1s - loss: 0.3333 - accuracy: 0.9737"
     ]
    },
    {
     "name": "stdout",
     "output_type": "stream",
     "text": [
      "\b\b\b\b\b\b\b\b\b\b\b\b\b\b\b\b\b\b\b\b\b\b\b\b\b\b\b\b\b\b\b\b\b\b\b\b\b\b\b\b\b\b\b\b\b\b\b\b\b\b\b\b\b\b\b\b\b\b\b\b\b\b\b\b\b\b\b\b\b\b\b\b\b\b\b\b\b\b\b\b\b\b\b\b\r",
      " 97/150 [==================>...........] - ETA: 1s - loss: 0.3342 - accuracy: 0.9691"
     ]
    },
    {
     "name": "stdout",
     "output_type": "stream",
     "text": [
      "\b\b\b\b\b\b\b\b\b\b\b\b\b\b\b\b\b\b\b\b\b\b\b\b\b\b\b\b\b\b\b\b\b\b\b\b\b\b\b\b\b\b\b\b\b\b\b\b\b\b\b\b\b\b\b\b\b\b\b\b\b\b\b\b\b\b\b\b\b\b\b\b\b\b\b\b\b\b\b\b\b\b\b\b\r",
      " 99/150 [==================>...........] - ETA: 1s - loss: 0.3320 - accuracy: 0.9697"
     ]
    },
    {
     "name": "stdout",
     "output_type": "stream",
     "text": [
      "\b\b\b\b\b\b\b\b\b\b\b\b\b\b\b\b\b\b\b\b\b\b\b\b\b\b\b\b\b\b\b\b\b\b\b\b\b\b\b\b\b\b\b\b\b\b\b\b\b\b\b\b\b\b\b\b\b\b\b\b\b\b\b\b\b\b\b\b\b\b\b\b\b\b\b\b\b\b\b\b\b\b\b\b\r",
      "101/150 [===================>..........] - ETA: 1s - loss: 0.3345 - accuracy: 0.9703"
     ]
    },
    {
     "name": "stdout",
     "output_type": "stream",
     "text": [
      "\b\b\b\b\b\b\b\b\b\b\b\b\b\b\b\b\b\b\b\b\b\b\b\b\b\b\b\b\b\b\b\b\b\b\b\b\b\b\b\b\b\b\b\b\b\b\b\b\b\b\b\b\b\b\b\b\b\b\b\b\b\b\b\b\b\b\b\b\b\b\b\b\b\b\b\b\b\b\b\b\b\b\b\b\r",
      "103/150 [===================>..........] - ETA: 1s - loss: 0.3353 - accuracy: 0.9709"
     ]
    },
    {
     "name": "stdout",
     "output_type": "stream",
     "text": [
      "\b\b\b\b\b\b\b\b\b\b\b\b\b\b\b\b\b\b\b\b\b\b\b\b\b\b\b\b\b\b\b\b\b\b\b\b\b\b\b\b\b\b\b\b\b\b\b\b\b\b\b\b\b\b\b\b\b\b\b\b\b\b\b\b\b\b\b\b\b\b\b\b\b\b\b\b\b\b\b\b\b\b\b\b\r",
      "105/150 [====================>.........] - ETA: 1s - loss: 0.3378 - accuracy: 0.9667"
     ]
    },
    {
     "name": "stdout",
     "output_type": "stream",
     "text": [
      "\b\b\b\b\b\b\b\b\b\b\b\b\b\b\b\b\b\b\b\b\b\b\b\b\b\b\b\b\b\b\b\b\b\b\b\b\b\b\b\b\b\b\b\b\b\b\b\b\b\b\b\b\b\b\b\b\b\b\b\b\b\b\b\b\b\b\b\b\b\b\b\b\b\b\b\b\b\b\b\b\b\b\b\b\r",
      "107/150 [====================>.........] - ETA: 1s - loss: 0.3427 - accuracy: 0.9673"
     ]
    },
    {
     "name": "stdout",
     "output_type": "stream",
     "text": [
      "\b\b\b\b\b\b\b\b\b\b\b\b\b\b\b\b\b\b\b\b\b\b\b\b\b\b\b\b\b\b\b\b\b\b\b\b\b\b\b\b\b\b\b\b\b\b\b\b\b\b\b\b\b\b\b\b\b\b\b\b\b\b\b\b\b\b\b\b\b\b\b\b\b\b\b\b\b\b\b\b\b\b\b\b\r",
      "109/150 [====================>.........] - ETA: 1s - loss: 0.3417 - accuracy: 0.9679"
     ]
    },
    {
     "name": "stdout",
     "output_type": "stream",
     "text": [
      "\b\b\b\b\b\b\b\b\b\b\b\b\b\b\b\b\b\b\b\b\b\b\b\b\b\b\b\b\b\b\b\b\b\b\b\b\b\b\b\b\b\b\b\b\b\b\b\b\b\b\b\b\b\b\b\b\b\b\b\b\b\b\b\b\b\b\b\b\b\b\b\b\b\b\b\b\b\b\b\b\b\b\b\b\r",
      "111/150 [=====================>........] - ETA: 1s - loss: 0.3397 - accuracy: 0.9685"
     ]
    },
    {
     "name": "stdout",
     "output_type": "stream",
     "text": [
      "\b\b\b\b\b\b\b\b\b\b\b\b\b\b\b\b\b\b\b\b\b\b\b\b\b\b\b\b\b\b\b\b\b\b\b\b\b\b\b\b\b\b\b\b\b\b\b\b\b\b\b\b\b\b\b\b\b\b\b\b\b\b\b\b\b\b\b\b\b\b\b\b\b\b\b\b\b\b\b\b\b\b\b\b\r",
      "113/150 [=====================>........] - ETA: 1s - loss: 0.3396 - accuracy: 0.9690"
     ]
    },
    {
     "name": "stdout",
     "output_type": "stream",
     "text": [
      "\b\b\b\b\b\b\b\b\b\b\b\b\b\b\b\b\b\b\b\b\b\b\b\b\b\b\b\b\b\b\b\b\b\b\b\b\b\b\b\b\b\b\b\b\b\b\b\b\b\b\b\b\b\b\b\b\b\b\b\b\b\b\b\b\b\b\b\b\b\b\b\b\b\b\b\b\b\b\b\b\b\b\b\b\r",
      "115/150 [======================>.......] - ETA: 0s - loss: 0.3379 - accuracy: 0.9696"
     ]
    },
    {
     "name": "stdout",
     "output_type": "stream",
     "text": [
      "\b\b\b\b\b\b\b\b\b\b\b\b\b\b\b\b\b\b\b\b\b\b\b\b\b\b\b\b\b\b\b\b\b\b\b\b\b\b\b\b\b\b\b\b\b\b\b\b\b\b\b\b\b\b\b\b\b\b\b\b\b\b\b\b\b\b\b\b\b\b\b\b\b\b\b\b\b\b\b\b\b\b\b\b\r",
      "117/150 [======================>.......] - ETA: 0s - loss: 0.3379 - accuracy: 0.9701"
     ]
    },
    {
     "name": "stdout",
     "output_type": "stream",
     "text": [
      "\b\b\b\b\b\b\b\b\b\b\b\b\b\b\b\b\b\b\b\b\b\b\b\b\b\b\b\b\b\b\b\b\b\b\b\b\b\b\b\b\b\b\b\b\b\b\b\b\b\b\b\b\b\b\b\b\b\b\b\b\b\b\b\b\b\b\b\b\b\b\b\b\b\b\b\b\b\b\b\b\b\b\b\b\r",
      "119/150 [======================>.......] - ETA: 0s - loss: 0.3345 - accuracy: 0.9706"
     ]
    },
    {
     "name": "stdout",
     "output_type": "stream",
     "text": [
      "\b\b\b\b\b\b\b\b\b\b\b\b\b\b\b\b\b\b\b\b\b\b\b\b\b\b\b\b\b\b\b\b\b\b\b\b\b\b\b\b\b\b\b\b\b\b\b\b\b\b\b\b\b\b\b\b\b\b\b\b\b\b\b\b\b\b\b\b\b\b\b\b\b\b\b\b\b\b\b\b\b\b\b\b\r",
      "121/150 [=======================>......] - ETA: 0s - loss: 0.3422 - accuracy: 0.9669"
     ]
    },
    {
     "name": "stdout",
     "output_type": "stream",
     "text": [
      "\b\b\b\b\b\b\b\b\b\b\b\b\b\b\b\b\b\b\b\b\b\b\b\b\b\b\b\b\b\b\b\b\b\b\b\b\b\b\b\b\b\b\b\b\b\b\b\b\b\b\b\b\b\b\b\b\b\b\b\b\b\b\b\b\b\b\b\b\b\b\b\b\b\b\b\b\b\b\b\b\b\b\b\b\r",
      "123/150 [=======================>......] - ETA: 0s - loss: 0.3455 - accuracy: 0.9634"
     ]
    },
    {
     "name": "stdout",
     "output_type": "stream",
     "text": [
      "\b\b\b\b\b\b\b\b\b\b\b\b\b\b\b\b\b\b\b\b\b\b\b\b\b\b\b\b\b\b\b\b\b\b\b\b\b\b\b\b\b\b\b\b\b\b\b\b\b\b\b\b\b\b\b\b\b\b\b\b\b\b\b\b\b\b\b\b\b\b\b\b\b\b\b\b\b\b\b\b\b\b\b\b\r",
      "125/150 [========================>.....] - ETA: 0s - loss: 0.3456 - accuracy: 0.9640"
     ]
    },
    {
     "name": "stdout",
     "output_type": "stream",
     "text": [
      "\b\b\b\b\b\b\b\b\b\b\b\b\b\b\b\b\b\b\b\b\b\b\b\b\b\b\b\b\b\b\b\b\b\b\b\b\b\b\b\b\b\b\b\b\b\b\b\b\b\b\b\b\b\b\b\b\b\b\b\b\b\b\b\b\b\b\b\b\b\b\b\b\b\b\b\b\b\b\b\b\b\b\b\b\r",
      "127/150 [========================>.....] - ETA: 0s - loss: 0.3441 - accuracy: 0.9646"
     ]
    },
    {
     "name": "stdout",
     "output_type": "stream",
     "text": [
      "\b\b\b\b\b\b\b\b\b\b\b\b\b\b\b\b\b\b\b\b\b\b\b\b\b\b\b\b\b\b\b\b\b\b\b\b\b\b\b\b\b\b\b\b\b\b\b\b\b\b\b\b\b\b\b\b\b\b\b\b\b\b\b\b\b\b\b\b\b\b\b\b\b\b\b\b\b\b\b\b\b\b\b\b\r",
      "129/150 [========================>.....] - ETA: 0s - loss: 0.3414 - accuracy: 0.9651"
     ]
    },
    {
     "name": "stdout",
     "output_type": "stream",
     "text": [
      "\b\b\b\b\b\b\b\b\b\b\b\b\b\b\b\b\b\b\b\b\b\b\b\b\b\b\b\b\b\b\b\b\b\b\b\b\b\b\b\b\b\b\b\b\b\b\b\b\b\b\b\b\b\b\b\b\b\b\b\b\b\b\b\b\b\b\b\b\b\b\b\b\b\b\b\b\b\b\b\b\b\b\b\b\r",
      "131/150 [=========================>....] - ETA: 0s - loss: 0.3424 - accuracy: 0.9656"
     ]
    },
    {
     "name": "stdout",
     "output_type": "stream",
     "text": [
      "\b\b\b\b\b\b\b\b\b\b\b\b\b\b\b\b\b\b\b\b\b\b\b\b\b\b\b\b\b\b\b\b\b\b\b\b\b\b\b\b\b\b\b\b\b\b\b\b\b\b\b\b\b\b\b\b\b\b\b\b\b\b\b\b\b\b\b\b\b\b\b\b\b\b\b\b\b\b\b\b\b\b\b\b\r",
      "133/150 [=========================>....] - ETA: 0s - loss: 0.3403 - accuracy: 0.9662"
     ]
    },
    {
     "name": "stdout",
     "output_type": "stream",
     "text": [
      "\b\b\b\b\b\b\b\b\b\b\b\b\b\b\b\b\b\b\b\b\b\b\b\b\b\b\b\b\b\b\b\b\b\b\b\b\b\b\b\b\b\b\b\b\b\b\b\b\b\b\b\b\b\b\b\b\b\b\b\b\b\b\b\b\b\b\b\b\b\b\b\b\b\b\b\b\b\b\b\b\b\b\b\b\r",
      "135/150 [==========================>...] - ETA: 0s - loss: 0.3414 - accuracy: 0.9667"
     ]
    },
    {
     "name": "stdout",
     "output_type": "stream",
     "text": [
      "\b\b\b\b\b\b\b\b\b\b\b\b\b\b\b\b\b\b\b\b\b\b\b\b\b\b\b\b\b\b\b\b\b\b\b\b\b\b\b\b\b\b\b\b\b\b\b\b\b\b\b\b\b\b\b\b\b\b\b\b\b\b\b\b\b\b\b\b\b\b\b\b\b\b\b\b\b\b\b\b\b\b\b\b\r",
      "137/150 [==========================>...] - ETA: 0s - loss: 0.3396 - accuracy: 0.9672"
     ]
    },
    {
     "name": "stdout",
     "output_type": "stream",
     "text": [
      "\b\b\b\b\b\b\b\b\b\b\b\b\b\b\b\b\b\b\b\b\b\b\b\b\b\b\b\b\b\b\b\b\b\b\b\b\b\b\b\b\b\b\b\b\b\b\b\b\b\b\b\b\b\b\b\b\b\b\b\b\b\b\b\b\b\b\b\b\b\b\b\b\b\b\b\b\b\b\b\b\b\b\b\b\r",
      "139/150 [==========================>...] - ETA: 0s - loss: 0.3380 - accuracy: 0.9676"
     ]
    },
    {
     "name": "stdout",
     "output_type": "stream",
     "text": [
      "\b\b\b\b\b\b\b\b\b\b\b\b\b\b\b\b\b\b\b\b\b\b\b\b\b\b\b\b\b\b\b\b\b\b\b\b\b\b\b\b\b\b\b\b\b\b\b\b\b\b\b\b\b\b\b\b\b\b\b\b\b\b\b\b\b\b\b\b\b\b\b\b\b\b\b\b\b\b\b\b\b\b\b\b\r",
      "141/150 [===========================>..] - ETA: 0s - loss: 0.3358 - accuracy: 0.9681"
     ]
    },
    {
     "name": "stdout",
     "output_type": "stream",
     "text": [
      "\b\b\b\b\b\b\b\b\b\b\b\b\b\b\b\b\b\b\b\b\b\b\b\b\b\b\b\b\b\b\b\b\b\b\b\b\b\b\b\b\b\b\b\b\b\b\b\b\b\b\b\b\b\b\b\b\b\b\b\b\b\b\b\b\b\b\b\b\b\b\b\b\b\b\b\b\b\b\b\b\b\b\b\b\r",
      "143/150 [===========================>..] - ETA: 0s - loss: 0.3353 - accuracy: 0.9685"
     ]
    },
    {
     "name": "stdout",
     "output_type": "stream",
     "text": [
      "\b\b\b\b\b\b\b\b\b\b\b\b\b\b\b\b\b\b\b\b\b\b\b\b\b\b\b\b\b\b\b\b\b\b\b\b\b\b\b\b\b\b\b\b\b\b\b\b\b\b\b\b\b\b\b\b\b\b\b\b\b\b\b\b\b\b\b\b\b\b\b\b\b\b\b\b\b\b\b\b\b\b\b\b\r",
      "145/150 [============================>.] - ETA: 0s - loss: 0.3367 - accuracy: 0.9690"
     ]
    },
    {
     "name": "stdout",
     "output_type": "stream",
     "text": [
      "\b\b\b\b\b\b\b\b\b\b\b\b\b\b\b\b\b\b\b\b\b\b\b\b\b\b\b\b\b\b\b\b\b\b\b\b\b\b\b\b\b\b\b\b\b\b\b\b\b\b\b\b\b\b\b\b\b\b\b\b\b\b\b\b\b\b\b\b\b\b\b\b\b\b\b\b\b\b\b\b\b\b\b\b\r",
      "147/150 [============================>.] - ETA: 0s - loss: 0.3402 - accuracy: 0.9660"
     ]
    },
    {
     "name": "stdout",
     "output_type": "stream",
     "text": [
      "\b\b\b\b\b\b\b\b\b\b\b\b\b\b\b\b\b\b\b\b\b\b\b\b\b\b\b\b\b\b\b\b\b\b\b\b\b\b\b\b\b\b\b\b\b\b\b\b\b\b\b\b\b\b\b\b\b\b\b\b\b\b\b\b\b\b\b\b\b\b\b\b\b\b\b\b\b\b\b\b\b\b\b\b\r",
      "149/150 [============================>.] - ETA: 0s - loss: 0.3397 - accuracy: 0.9664"
     ]
    },
    {
     "name": "stdout",
     "output_type": "stream",
     "text": [
      "\b\b\b\b\b\b\b\b\b\b\b\b\b\b\b\b\b\b\b\b\b\b\b\b\b\b\b\b\b\b\b\b\b\b\b\b\b\b\b\b\b\b\b\b\b\b\b\b\b\b\b\b\b\b\b\b\b\b\b\b\b\b\b\b\b\b\b\b\b\b\b\b\b\b\b\b\b\b\b\b\b\b\b\b\r",
      "150/150 [==============================] - 6s 37ms/step - loss: 0.3393 - accuracy: 0.9667 - val_loss: 0.2378 - val_accuracy: 0.9700\n"
     ]
    },
    {
     "name": "stdout",
     "output_type": "stream",
     "text": [
      "Epoch 3/10\n"
     ]
    },
    {
     "name": "stdout",
     "output_type": "stream",
     "text": [
      "\r",
      "  1/150 [..............................] - ETA: 4s - loss: 0.1288 - accuracy: 1.0000"
     ]
    },
    {
     "name": "stdout",
     "output_type": "stream",
     "text": [
      "\b\b\b\b\b\b\b\b\b\b\b\b\b\b\b\b\b\b\b\b\b\b\b\b\b\b\b\b\b\b\b\b\b\b\b\b\b\b\b\b\b\b\b\b\b\b\b\b\b\b\b\b\b\b\b\b\b\b\b\b\b\b\b\b\b\b\b\b\b\b\b\b\b\b\b\b\b\b\b\b\b\b\b\b\r",
      "  3/150 [..............................] - ETA: 4s - loss: 0.2384 - accuracy: 1.0000"
     ]
    },
    {
     "name": "stdout",
     "output_type": "stream",
     "text": [
      "\b\b\b\b\b\b\b\b\b\b\b\b\b\b\b\b\b\b\b\b\b\b\b\b\b\b\b\b\b\b\b\b\b\b\b\b\b\b\b\b\b\b\b\b\b\b\b\b\b\b\b\b\b\b\b\b\b\b\b\b\b\b\b\b\b\b\b\b\b\b\b\b\b\b\b\b\b\b\b\b\b\b\b\b\r",
      "  5/150 [>.............................] - ETA: 4s - loss: 0.2032 - accuracy: 1.0000"
     ]
    },
    {
     "name": "stdout",
     "output_type": "stream",
     "text": [
      "\b\b\b\b\b\b\b\b\b\b\b\b\b\b\b\b\b\b\b\b\b\b\b\b\b\b\b\b\b\b\b\b\b\b\b\b\b\b\b\b\b\b\b\b\b\b\b\b\b\b\b\b\b\b\b\b\b\b\b\b\b\b\b\b\b\b\b\b\b\b\b\b\b\b\b\b\b\b\b\b\b\b\b\b\r",
      "  7/150 [>.............................] - ETA: 3s - loss: 0.1741 - accuracy: 1.0000"
     ]
    },
    {
     "name": "stdout",
     "output_type": "stream",
     "text": [
      "\b\b\b\b\b\b\b\b\b\b\b\b\b\b\b\b\b\b\b\b\b\b\b\b\b\b\b\b\b\b\b\b\b\b\b\b\b\b\b\b\b\b\b\b\b\b\b\b\b\b\b\b\b\b\b\b\b\b\b\b\b\b\b\b\b\b\b\b\b\b\b\b\b\b\b\b\b\b\b\b\b\b\b\b\r",
      "  9/150 [>.............................] - ETA: 3s - loss: 0.1766 - accuracy: 1.0000"
     ]
    },
    {
     "name": "stdout",
     "output_type": "stream",
     "text": [
      "\b\b\b\b\b\b\b\b\b\b\b\b\b\b\b\b\b\b\b\b\b\b\b\b\b\b\b\b\b\b\b\b\b\b\b\b\b\b\b\b\b\b\b\b\b\b\b\b\b\b\b\b\b\b\b\b\b\b\b\b\b\b\b\b\b\b\b\b\b\b\b\b\b\b\b\b\b\b\b\b\b\b\b\b\r",
      " 11/150 [=>............................] - ETA: 3s - loss: 0.1870 - accuracy: 1.0000"
     ]
    },
    {
     "name": "stdout",
     "output_type": "stream",
     "text": [
      "\b\b\b\b\b\b\b\b\b\b\b\b\b\b\b\b\b\b\b\b\b\b\b\b\b\b\b\b\b\b\b\b\b\b\b\b\b\b\b\b\b\b\b\b\b\b\b\b\b\b\b\b\b\b\b\b\b\b\b\b\b\b\b\b\b\b\b\b\b\b\b\b\b\b\b\b\b\b\b\b\b\b\b\b\r",
      " 13/150 [=>............................] - ETA: 3s - loss: 0.2266 - accuracy: 1.0000"
     ]
    },
    {
     "name": "stdout",
     "output_type": "stream",
     "text": [
      "\b\b\b\b\b\b\b\b\b\b\b\b\b\b\b\b\b\b\b\b\b\b\b\b\b\b\b\b\b\b\b\b\b\b\b\b\b\b\b\b\b\b\b\b\b\b\b\b\b\b\b\b\b\b\b\b\b\b\b\b\b\b\b\b\b\b\b\b\b\b\b\b\b\b\b\b\b\b\b\b\b\b\b\b\r",
      " 15/150 [==>...........................] - ETA: 3s - loss: 0.2138 - accuracy: 1.0000"
     ]
    },
    {
     "name": "stdout",
     "output_type": "stream",
     "text": [
      "\b\b\b\b\b\b\b\b\b\b\b\b\b\b\b\b\b\b\b\b\b\b\b\b\b\b\b\b\b\b\b\b\b\b\b\b\b\b\b\b\b\b\b\b\b\b\b\b\b\b\b\b\b\b\b\b\b\b\b\b\b\b\b\b\b\b\b\b\b\b\b\b\b\b\b\b\b\b\b\b\b\b\b\b\r",
      " 17/150 [==>...........................] - ETA: 3s - loss: 0.2064 - accuracy: 1.0000"
     ]
    },
    {
     "name": "stdout",
     "output_type": "stream",
     "text": [
      "\b\b\b\b\b\b\b\b\b\b\b\b\b\b\b\b\b\b\b\b\b\b\b\b\b\b\b\b\b\b\b\b\b\b\b\b\b\b\b\b\b\b\b\b\b\b\b\b\b\b\b\b\b\b\b\b\b\b\b\b\b\b\b\b\b\b\b\b\b\b\b\b\b\b\b\b\b\b\b\b\b\b\b\b\r",
      " 19/150 [==>...........................] - ETA: 3s - loss: 0.1957 - accuracy: 1.0000"
     ]
    },
    {
     "name": "stdout",
     "output_type": "stream",
     "text": [
      "\b\b\b\b\b\b\b\b\b\b\b\b\b\b\b\b\b\b\b\b\b\b\b\b\b\b\b\b\b\b\b\b\b\b\b\b\b\b\b\b\b\b\b\b\b\b\b\b\b\b\b\b\b\b\b\b\b\b\b\b\b\b\b\b\b\b\b\b\b\b\b\b\b\b\b\b\b\b\b\b\b\b\b\b\r",
      " 21/150 [===>..........................] - ETA: 3s - loss: 0.2067 - accuracy: 1.0000"
     ]
    },
    {
     "name": "stdout",
     "output_type": "stream",
     "text": [
      "\b\b\b\b\b\b\b\b\b\b\b\b\b\b\b\b\b\b\b\b\b\b\b\b\b\b\b\b\b\b\b\b\b\b\b\b\b\b\b\b\b\b\b\b\b\b\b\b\b\b\b\b\b\b\b\b\b\b\b\b\b\b\b\b\b\b\b\b\b\b\b\b\b\b\b\b\b\b\b\b\b\b\b\b\r",
      " 23/150 [===>..........................] - ETA: 3s - loss: 0.1940 - accuracy: 1.0000"
     ]
    },
    {
     "name": "stdout",
     "output_type": "stream",
     "text": [
      "\b\b\b\b\b\b\b\b\b\b\b\b\b\b\b\b\b\b\b\b\b\b\b\b\b\b\b\b\b\b\b\b\b\b\b\b\b\b\b\b\b\b\b\b\b\b\b\b\b\b\b\b\b\b\b\b\b\b\b\b\b\b\b\b\b\b\b\b\b\b\b\b\b\b\b\b\b\b\b\b\b\b\b\b\r",
      " 25/150 [====>.........................] - ETA: 3s - loss: 0.2095 - accuracy: 1.0000"
     ]
    },
    {
     "name": "stdout",
     "output_type": "stream",
     "text": [
      "\b\b\b\b\b\b\b\b\b\b\b\b\b\b\b\b\b\b\b\b\b\b\b\b\b\b\b\b\b\b\b\b\b\b\b\b\b\b\b\b\b\b\b\b\b\b\b\b\b\b\b\b\b\b\b\b\b\b\b\b\b\b\b\b\b\b\b\b\b\b\b\b\b\b\b\b\b\b\b\b\b\b\b\b\r",
      " 27/150 [====>.........................] - ETA: 3s - loss: 0.2096 - accuracy: 1.0000"
     ]
    },
    {
     "name": "stdout",
     "output_type": "stream",
     "text": [
      "\b\b\b\b\b\b\b\b\b\b\b\b\b\b\b\b\b\b\b\b\b\b\b\b\b\b\b\b\b\b\b\b\b\b\b\b\b\b\b\b\b\b\b\b\b\b\b\b\b\b\b\b\b\b\b\b\b\b\b\b\b\b\b\b\b\b\b\b\b\b\b\b\b\b\b\b\b\b\b\b\b\b\b\b\r",
      " 29/150 [====>.........................] - ETA: 3s - loss: 0.2030 - accuracy: 1.0000"
     ]
    },
    {
     "name": "stdout",
     "output_type": "stream",
     "text": [
      "\b\b\b\b\b\b\b\b\b\b\b\b\b\b\b\b\b\b\b\b\b\b\b\b\b\b\b\b\b\b\b\b\b\b\b\b\b\b\b\b\b\b\b\b\b\b\b\b\b\b\b\b\b\b\b\b\b\b\b\b\b\b\b\b\b\b\b\b\b\b\b\b\b\b\b\b\b\b\b\b\b\b\b\b\r",
      " 31/150 [=====>........................] - ETA: 3s - loss: 0.2330 - accuracy: 0.9839"
     ]
    },
    {
     "name": "stdout",
     "output_type": "stream",
     "text": [
      "\b\b\b\b\b\b\b\b\b\b\b\b\b\b\b\b\b\b\b\b\b\b\b\b\b\b\b\b\b\b\b\b\b\b\b\b\b\b\b\b\b\b\b\b\b\b\b\b\b\b\b\b\b\b\b\b\b\b\b\b\b\b\b\b\b\b\b\b\b\b\b\b\b\b\b\b\b\b\b\b\b\b\b\b\r",
      " 33/150 [=====>........................] - ETA: 3s - loss: 0.2279 - accuracy: 0.9848"
     ]
    },
    {
     "name": "stdout",
     "output_type": "stream",
     "text": [
      "\b\b\b\b\b\b\b\b\b\b\b\b\b\b\b\b\b\b\b\b\b\b\b\b\b\b\b\b\b\b\b\b\b\b\b\b\b\b\b\b\b\b\b\b\b\b\b\b\b\b\b\b\b\b\b\b\b\b\b\b\b\b\b\b\b\b\b\b\b\b\b\b\b\b\b\b\b\b\b\b\b\b\b\b\r",
      " 35/150 [======>.......................] - ETA: 3s - loss: 0.2237 - accuracy: 0.9857"
     ]
    },
    {
     "name": "stdout",
     "output_type": "stream",
     "text": [
      "\b\b\b\b\b\b\b\b\b\b\b\b\b\b\b\b\b\b\b\b\b\b\b\b\b\b\b\b\b\b\b\b\b\b\b\b\b\b\b\b\b\b\b\b\b\b\b\b\b\b\b\b\b\b\b\b\b\b\b\b\b\b\b\b\b\b\b\b\b\b\b\b\b\b\b\b\b\b\b\b\b\b\b\b\r",
      " 37/150 [======>.......................] - ETA: 3s - loss: 0.2170 - accuracy: 0.9865"
     ]
    },
    {
     "name": "stdout",
     "output_type": "stream",
     "text": [
      "\b\b\b\b\b\b\b\b\b\b\b\b\b\b\b\b\b\b\b\b\b\b\b\b\b\b\b\b\b\b\b\b\b\b\b\b\b\b\b\b\b\b\b\b\b\b\b\b\b\b\b\b\b\b\b\b\b\b\b\b\b\b\b\b\b\b\b\b\b\b\b\b\b\b\b\b\b\b\b\b\b\b\b\b\r",
      " 39/150 [======>.......................] - ETA: 3s - loss: 0.2209 - accuracy: 0.9872"
     ]
    },
    {
     "name": "stdout",
     "output_type": "stream",
     "text": [
      "\b\b\b\b\b\b\b\b\b\b\b\b\b\b\b\b\b\b\b\b\b\b\b\b\b\b\b\b\b\b\b\b\b\b\b\b\b\b\b\b\b\b\b\b\b\b\b\b\b\b\b\b\b\b\b\b\b\b\b\b\b\b\b\b\b\b\b\b\b\b\b\b\b\b\b\b\b\b\b\b\b\b\b\b\r",
      " 41/150 [=======>......................] - ETA: 3s - loss: 0.2135 - accuracy: 0.9878"
     ]
    },
    {
     "name": "stdout",
     "output_type": "stream",
     "text": [
      "\b\b\b\b\b\b\b\b\b\b\b\b\b\b\b\b\b\b\b\b\b\b\b\b\b\b\b\b\b\b\b\b\b\b\b\b\b\b\b\b\b\b\b\b\b\b\b\b\b\b\b\b\b\b\b\b\b\b\b\b\b\b\b\b\b\b\b\b\b\b\b\b\b\b\b\b\b\b\b\b\b\b\b\b\r",
      " 43/150 [=======>......................] - ETA: 2s - loss: 0.2114 - accuracy: 0.9884"
     ]
    },
    {
     "name": "stdout",
     "output_type": "stream",
     "text": [
      "\b\b\b\b\b\b\b\b\b\b\b\b\b\b\b\b\b\b\b\b\b\b\b\b\b\b\b\b\b\b\b\b\b\b\b\b\b\b\b\b\b\b\b\b\b\b\b\b\b\b\b\b\b\b\b\b\b\b\b\b\b\b\b\b\b\b\b\b\b\b\b\b\b\b\b\b\b\b\b\b\b\b\b\b\r",
      " 45/150 [========>.....................] - ETA: 2s - loss: 0.2146 - accuracy: 0.9889"
     ]
    },
    {
     "name": "stdout",
     "output_type": "stream",
     "text": [
      "\b\b\b\b\b\b\b\b\b\b\b\b\b\b\b\b\b\b\b\b\b\b\b\b\b\b\b\b\b\b\b\b\b\b\b\b\b\b\b\b\b\b\b\b\b\b\b\b\b\b\b\b\b\b\b\b\b\b\b\b\b\b\b\b\b\b\b\b\b\b\b\b\b\b\b\b\b\b\b\b\b\b\b\b\r",
      " 47/150 [========>.....................] - ETA: 2s - loss: 0.2144 - accuracy: 0.9894"
     ]
    },
    {
     "name": "stdout",
     "output_type": "stream",
     "text": [
      "\b\b\b\b\b\b\b\b\b\b\b\b\b\b\b\b\b\b\b\b\b\b\b\b\b\b\b\b\b\b\b\b\b\b\b\b\b\b\b\b\b\b\b\b\b\b\b\b\b\b\b\b\b\b\b\b\b\b\b\b\b\b\b\b\b\b\b\b\b\b\b\b\b\b\b\b\b\b\b\b\b\b\b\b\r",
      " 49/150 [========>.....................] - ETA: 2s - loss: 0.2207 - accuracy: 0.9898"
     ]
    },
    {
     "name": "stdout",
     "output_type": "stream",
     "text": [
      "\b\b\b\b\b\b\b\b\b\b\b\b\b\b\b\b\b\b\b\b\b\b\b\b\b\b\b\b\b\b\b\b\b\b\b\b\b\b\b\b\b\b\b\b\b\b\b\b\b\b\b\b\b\b\b\b\b\b\b\b\b\b\b\b\b\b\b\b\b\b\b\b\b\b\b\b\b\b\b\b\b\b\b\b\r",
      " 51/150 [=========>....................] - ETA: 2s - loss: 0.2224 - accuracy: 0.9902"
     ]
    },
    {
     "name": "stdout",
     "output_type": "stream",
     "text": [
      "\b\b\b\b\b\b\b\b\b\b\b\b\b\b\b\b\b\b\b\b\b\b\b\b\b\b\b\b\b\b\b\b\b\b\b\b\b\b\b\b\b\b\b\b\b\b\b\b\b\b\b\b\b\b\b\b\b\b\b\b\b\b\b\b\b\b\b\b\b\b\b\b\b\b\b\b\b\b\b\b\b\b\b\b\r",
      " 53/150 [=========>....................] - ETA: 2s - loss: 0.2213 - accuracy: 0.9906"
     ]
    },
    {
     "name": "stdout",
     "output_type": "stream",
     "text": [
      "\b\b\b\b\b\b\b\b\b\b\b\b\b\b\b\b\b\b\b\b\b\b\b\b\b\b\b\b\b\b\b\b\b\b\b\b\b\b\b\b\b\b\b\b\b\b\b\b\b\b\b\b\b\b\b\b\b\b\b\b\b\b\b\b\b\b\b\b\b\b\b\b\b\b\b\b\b\b\b\b\b\b\b\b\r",
      " 55/150 [==========>...................] - ETA: 2s - loss: 0.2252 - accuracy: 0.9909"
     ]
    },
    {
     "name": "stdout",
     "output_type": "stream",
     "text": [
      "\b\b\b\b\b\b\b\b\b\b\b\b\b\b\b\b\b\b\b\b\b\b\b\b\b\b\b\b\b\b\b\b\b\b\b\b\b\b\b\b\b\b\b\b\b\b\b\b\b\b\b\b\b\b\b\b\b\b\b\b\b\b\b\b\b\b\b\b\b\b\b\b\b\b\b\b\b\b\b\b\b\b\b\b\r",
      " 57/150 [==========>...................] - ETA: 2s - loss: 0.2237 - accuracy: 0.9912"
     ]
    },
    {
     "name": "stdout",
     "output_type": "stream",
     "text": [
      "\b\b\b\b\b\b\b\b\b\b\b\b\b\b\b\b\b\b\b\b\b\b\b\b\b\b\b\b\b\b\b\b\b\b\b\b\b\b\b\b\b\b\b\b\b\b\b\b\b\b\b\b\b\b\b\b\b\b\b\b\b\b\b\b\b\b\b\b\b\b\b\b\b\b\b\b\b\b\b\b\b\b\b\b\r",
      " 59/150 [==========>...................] - ETA: 2s - loss: 0.2220 - accuracy: 0.9915"
     ]
    },
    {
     "name": "stdout",
     "output_type": "stream",
     "text": [
      "\b\b\b\b\b\b\b\b\b\b\b\b\b\b\b\b\b\b\b\b\b\b\b\b\b\b\b\b\b\b\b\b\b\b\b\b\b\b\b\b\b\b\b\b\b\b\b\b\b\b\b\b\b\b\b\b\b\b\b\b\b\b\b\b\b\b\b\b\b\b\b\b\b\b\b\b\b\b\b\b\b\b\b\b\r",
      " 61/150 [===========>..................] - ETA: 2s - loss: 0.2206 - accuracy: 0.9918"
     ]
    },
    {
     "name": "stdout",
     "output_type": "stream",
     "text": [
      "\b\b\b\b\b\b\b\b\b\b\b\b\b\b\b\b\b\b\b\b\b\b\b\b\b\b\b\b\b\b\b\b\b\b\b\b\b\b\b\b\b\b\b\b\b\b\b\b\b\b\b\b\b\b\b\b\b\b\b\b\b\b\b\b\b\b\b\b\b\b\b\b\b\b\b\b\b\b\b\b\b\b\b\b\r",
      " 63/150 [===========>..................] - ETA: 2s - loss: 0.2156 - accuracy: 0.9921"
     ]
    },
    {
     "name": "stdout",
     "output_type": "stream",
     "text": [
      "\b\b\b\b\b\b\b\b\b\b\b\b\b\b\b\b\b\b\b\b\b\b\b\b\b\b\b\b\b\b\b\b\b\b\b\b\b\b\b\b\b\b\b\b\b\b\b\b\b\b\b\b\b\b\b\b\b\b\b\b\b\b\b\b\b\b\b\b\b\b\b\b\b\b\b\b\b\b\b\b\b\b\b\b\r",
      " 65/150 [============>.................] - ETA: 2s - loss: 0.2118 - accuracy: 0.9923"
     ]
    },
    {
     "name": "stdout",
     "output_type": "stream",
     "text": [
      "\b\b\b\b\b\b\b\b\b\b\b\b\b\b\b\b\b\b\b\b\b\b\b\b\b\b\b\b\b\b\b\b\b\b\b\b\b\b\b\b\b\b\b\b\b\b\b\b\b\b\b\b\b\b\b\b\b\b\b\b\b\b\b\b\b\b\b\b\b\b\b\b\b\b\b\b\b\b\b\b\b\b\b\b\r",
      " 67/150 [============>.................] - ETA: 2s - loss: 0.2094 - accuracy: 0.9925"
     ]
    },
    {
     "name": "stdout",
     "output_type": "stream",
     "text": [
      "\b\b\b\b\b\b\b\b\b\b\b\b\b\b\b\b\b\b\b\b\b\b\b\b\b\b\b\b\b\b\b\b\b\b\b\b\b\b\b\b\b\b\b\b\b\b\b\b\b\b\b\b\b\b\b\b\b\b\b\b\b\b\b\b\b\b\b\b\b\b\b\b\b\b\b\b\b\b\b\b\b\b\b\b\r",
      " 69/150 [============>.................] - ETA: 2s - loss: 0.2132 - accuracy: 0.9928"
     ]
    },
    {
     "name": "stdout",
     "output_type": "stream",
     "text": [
      "\b\b\b\b\b\b\b\b\b\b\b\b\b\b\b\b\b\b\b\b\b\b\b\b\b\b\b\b\b\b\b\b\b\b\b\b\b\b\b\b\b\b\b\b\b\b\b\b\b\b\b\b\b\b\b\b\b\b\b\b\b\b\b\b\b\b\b\b\b\b\b\b\b\b\b\b\b\b\b\b\b\b\b\b\r",
      " 71/150 [=============>................] - ETA: 2s - loss: 0.2122 - accuracy: 0.9930"
     ]
    },
    {
     "name": "stdout",
     "output_type": "stream",
     "text": [
      "\b\b\b\b\b\b\b\b\b\b\b\b\b\b\b\b\b\b\b\b\b\b\b\b\b\b\b\b\b\b\b\b\b\b\b\b\b\b\b\b\b\b\b\b\b\b\b\b\b\b\b\b\b\b\b\b\b\b\b\b\b\b\b\b\b\b\b\b\b\b\b\b\b\b\b\b\b\b\b\b\b\b\b\b\r",
      " 73/150 [=============>................] - ETA: 2s - loss: 0.2183 - accuracy: 0.9932"
     ]
    },
    {
     "name": "stdout",
     "output_type": "stream",
     "text": [
      "\b\b\b\b\b\b\b\b\b\b\b\b\b\b\b\b\b\b\b\b\b\b\b\b\b\b\b\b\b\b\b\b\b\b\b\b\b\b\b\b\b\b\b\b\b\b\b\b\b\b\b\b\b\b\b\b\b\b\b\b\b\b\b\b\b\b\b\b\b\b\b\b\b\b\b\b\b\b\b\b\b\b\b\b\r",
      " 75/150 [==============>...............] - ETA: 2s - loss: 0.2156 - accuracy: 0.9933"
     ]
    },
    {
     "name": "stdout",
     "output_type": "stream",
     "text": [
      "\b\b\b\b\b\b\b\b\b\b\b\b\b\b\b\b\b\b\b\b\b\b\b\b\b\b\b\b\b\b\b\b\b\b\b\b\b\b\b\b\b\b\b\b\b\b\b\b\b\b\b\b\b\b\b\b\b\b\b\b\b\b\b\b\b\b\b\b\b\b\b\b\b\b\b\b\b\b\b\b\b\b\b\b\r",
      " 77/150 [==============>...............] - ETA: 2s - loss: 0.2129 - accuracy: 0.9935"
     ]
    },
    {
     "name": "stdout",
     "output_type": "stream",
     "text": [
      "\b\b\b\b\b\b\b\b\b\b\b\b\b\b\b\b\b\b\b\b\b\b\b\b\b\b\b\b\b\b\b\b\b\b\b\b\b\b\b\b\b\b\b\b\b\b\b\b\b\b\b\b\b\b\b\b\b\b\b\b\b\b\b\b\b\b\b\b\b\b\b\b\b\b\b\b\b\b\b\b\b\b\b\b\r",
      " 79/150 [==============>...............] - ETA: 1s - loss: 0.2110 - accuracy: 0.9937"
     ]
    },
    {
     "name": "stdout",
     "output_type": "stream",
     "text": [
      "\b\b\b\b\b\b\b\b\b\b\b\b\b\b\b\b\b\b\b\b\b\b\b\b\b\b\b\b\b\b\b\b\b\b\b\b\b\b\b\b\b\b\b\b\b\b\b\b\b\b\b\b\b\b\b\b\b\b\b\b\b\b\b\b\b\b\b\b\b\b\b\b\b\b\b\b\b\b\b\b\b\b\b\b\r",
      " 81/150 [===============>..............] - ETA: 1s - loss: 0.2083 - accuracy: 0.9938"
     ]
    },
    {
     "name": "stdout",
     "output_type": "stream",
     "text": [
      "\b\b\b\b\b\b\b\b\b\b\b\b\b\b\b\b\b\b\b\b\b\b\b\b\b\b\b\b\b\b\b\b\b\b\b\b\b\b\b\b\b\b\b\b\b\b\b\b\b\b\b\b\b\b\b\b\b\b\b\b\b\b\b\b\b\b\b\b\b\b\b\b\b\b\b\b\b\b\b\b\b\b\b\b\r",
      " 83/150 [===============>..............] - ETA: 1s - loss: 0.2071 - accuracy: 0.9940"
     ]
    },
    {
     "name": "stdout",
     "output_type": "stream",
     "text": [
      "\b\b\b\b\b\b\b\b\b\b\b\b\b\b\b\b\b\b\b\b\b\b\b\b\b\b\b\b\b\b\b\b\b\b\b\b\b\b\b\b\b\b\b\b\b\b\b\b\b\b\b\b\b\b\b\b\b\b\b\b\b\b\b\b\b\b\b\b\b\b\b\b\b\b\b\b\b\b\b\b\b\b\b\b\r",
      " 85/150 [================>.............] - ETA: 1s - loss: 0.2089 - accuracy: 0.9941"
     ]
    },
    {
     "name": "stdout",
     "output_type": "stream",
     "text": [
      "\b\b\b\b\b\b\b\b\b\b\b\b\b\b\b\b\b\b\b\b\b\b\b\b\b\b\b\b\b\b\b\b\b\b\b\b\b\b\b\b\b\b\b\b\b\b\b\b\b\b\b\b\b\b\b\b\b\b\b\b\b\b\b\b\b\b\b\b\b\b\b\b\b\b\b\b\b\b\b\b\b\b\b\b\r",
      " 87/150 [================>.............] - ETA: 1s - loss: 0.2067 - accuracy: 0.9943"
     ]
    },
    {
     "name": "stdout",
     "output_type": "stream",
     "text": [
      "\b\b\b\b\b\b\b\b\b\b\b\b\b\b\b\b\b\b\b\b\b\b\b\b\b\b\b\b\b\b\b\b\b\b\b\b\b\b\b\b\b\b\b\b\b\b\b\b\b\b\b\b\b\b\b\b\b\b\b\b\b\b\b\b\b\b\b\b\b\b\b\b\b\b\b\b\b\b\b\b\b\b\b\b\r",
      " 89/150 [================>.............] - ETA: 1s - loss: 0.2093 - accuracy: 0.9944"
     ]
    },
    {
     "name": "stdout",
     "output_type": "stream",
     "text": [
      "\b\b\b\b\b\b\b\b\b\b\b\b\b\b\b\b\b\b\b\b\b\b\b\b\b\b\b\b\b\b\b\b\b\b\b\b\b\b\b\b\b\b\b\b\b\b\b\b\b\b\b\b\b\b\b\b\b\b\b\b\b\b\b\b\b\b\b\b\b\b\b\b\b\b\b\b\b\b\b\b\b\b\b\b\r",
      " 91/150 [=================>............] - ETA: 1s - loss: 0.2071 - accuracy: 0.9945"
     ]
    },
    {
     "name": "stdout",
     "output_type": "stream",
     "text": [
      "\b\b\b\b\b\b\b\b\b\b\b\b\b\b\b\b\b\b\b\b\b\b\b\b\b\b\b\b\b\b\b\b\b\b\b\b\b\b\b\b\b\b\b\b\b\b\b\b\b\b\b\b\b\b\b\b\b\b\b\b\b\b\b\b\b\b\b\b\b\b\b\b\b\b\b\b\b\b\b\b\b\b\b\b\r",
      " 93/150 [=================>............] - ETA: 1s - loss: 0.2072 - accuracy: 0.9946"
     ]
    },
    {
     "name": "stdout",
     "output_type": "stream",
     "text": [
      "\b\b\b\b\b\b\b\b\b\b\b\b\b\b\b\b\b\b\b\b\b\b\b\b\b\b\b\b\b\b\b\b\b\b\b\b\b\b\b\b\b\b\b\b\b\b\b\b\b\b\b\b\b\b\b\b\b\b\b\b\b\b\b\b\b\b\b\b\b\b\b\b\b\b\b\b\b\b\b\b\b\b\b\b\r",
      " 95/150 [==================>...........] - ETA: 1s - loss: 0.2040 - accuracy: 0.9947"
     ]
    },
    {
     "name": "stdout",
     "output_type": "stream",
     "text": [
      "\b\b\b\b\b\b\b\b\b\b\b\b\b\b\b\b\b\b\b\b\b\b\b\b\b\b\b\b\b\b\b\b\b\b\b\b\b\b\b\b\b\b\b\b\b\b\b\b\b\b\b\b\b\b\b\b\b\b\b\b\b\b\b\b\b\b\b\b\b\b\b\b\b\b\b\b\b\b\b\b\b\b\b\b\r",
      " 97/150 [==================>...........] - ETA: 1s - loss: 0.2039 - accuracy: 0.9948"
     ]
    },
    {
     "name": "stdout",
     "output_type": "stream",
     "text": [
      "\b\b\b\b\b\b\b\b\b\b\b\b\b\b\b\b\b\b\b\b\b\b\b\b\b\b\b\b\b\b\b\b\b\b\b\b\b\b\b\b\b\b\b\b\b\b\b\b\b\b\b\b\b\b\b\b\b\b\b\b\b\b\b\b\b\b\b\b\b\b\b\b\b\b\b\b\b\b\b\b\b\b\b\b\r",
      " 99/150 [==================>...........] - ETA: 1s - loss: 0.2020 - accuracy: 0.9949"
     ]
    },
    {
     "name": "stdout",
     "output_type": "stream",
     "text": [
      "\b\b\b\b\b\b\b\b\b\b\b\b\b\b\b\b\b\b\b\b\b\b\b\b\b\b\b\b\b\b\b\b\b\b\b\b\b\b\b\b\b\b\b\b\b\b\b\b\b\b\b\b\b\b\b\b\b\b\b\b\b\b\b\b\b\b\b\b\b\b\b\b\b\b\b\b\b\b\b\b\b\b\b\b\r",
      "101/150 [===================>..........] - ETA: 1s - loss: 0.1998 - accuracy: 0.9950"
     ]
    },
    {
     "name": "stdout",
     "output_type": "stream",
     "text": [
      "\b\b\b\b\b\b\b\b\b\b\b\b\b\b\b\b\b\b\b\b\b\b\b\b\b\b\b\b\b\b\b\b\b\b\b\b\b\b\b\b\b\b\b\b\b\b\b\b\b\b\b\b\b\b\b\b\b\b\b\b\b\b\b\b\b\b\b\b\b\b\b\b\b\b\b\b\b\b\b\b\b\b\b\b\r",
      "103/150 [===================>..........] - ETA: 1s - loss: 0.1989 - accuracy: 0.9951"
     ]
    },
    {
     "name": "stdout",
     "output_type": "stream",
     "text": [
      "\b\b\b\b\b\b\b\b\b\b\b\b\b\b\b\b\b\b\b\b\b\b\b\b\b\b\b\b\b\b\b\b\b\b\b\b\b\b\b\b\b\b\b\b\b\b\b\b\b\b\b\b\b\b\b\b\b\b\b\b\b\b\b\b\b\b\b\b\b\b\b\b\b\b\b\b\b\b\b\b\b\b\b\b\r",
      "105/150 [====================>.........] - ETA: 1s - loss: 0.1995 - accuracy: 0.9952"
     ]
    },
    {
     "name": "stdout",
     "output_type": "stream",
     "text": [
      "\b\b\b\b\b\b\b\b\b\b\b\b\b\b\b\b\b\b\b\b\b\b\b\b\b\b\b\b\b\b\b\b\b\b\b\b\b\b\b\b\b\b\b\b\b\b\b\b\b\b\b\b\b\b\b\b\b\b\b\b\b\b\b\b\b\b\b\b\b\b\b\b\b\b\b\b\b\b\b\b\b\b\b\b\r",
      "107/150 [====================>.........] - ETA: 1s - loss: 0.2027 - accuracy: 0.9953"
     ]
    },
    {
     "name": "stdout",
     "output_type": "stream",
     "text": [
      "\b\b\b\b\b\b\b\b\b\b\b\b\b\b\b\b\b\b\b\b\b\b\b\b\b\b\b\b\b\b\b\b\b\b\b\b\b\b\b\b\b\b\b\b\b\b\b\b\b\b\b\b\b\b\b\b\b\b\b\b\b\b\b\b\b\b\b\b\b\b\b\b\b\b\b\b\b\b\b\b\b\b\b\b\r",
      "109/150 [====================>.........] - ETA: 1s - loss: 0.2028 - accuracy: 0.9954"
     ]
    },
    {
     "name": "stdout",
     "output_type": "stream",
     "text": [
      "\b\b\b\b\b\b\b\b\b\b\b\b\b\b\b\b\b\b\b\b\b\b\b\b\b\b\b\b\b\b\b\b\b\b\b\b\b\b\b\b\b\b\b\b\b\b\b\b\b\b\b\b\b\b\b\b\b\b\b\b\b\b\b\b\b\b\b\b\b\b\b\b\b\b\b\b\b\b\b\b\b\b\b\b\r",
      "111/150 [=====================>........] - ETA: 1s - loss: 0.2021 - accuracy: 0.9955"
     ]
    },
    {
     "name": "stdout",
     "output_type": "stream",
     "text": [
      "\b\b\b\b\b\b\b\b\b\b\b\b\b\b\b\b\b\b\b\b\b\b\b\b\b\b\b\b\b\b\b\b\b\b\b\b\b\b\b\b\b\b\b\b\b\b\b\b\b\b\b\b\b\b\b\b\b\b\b\b\b\b\b\b\b\b\b\b\b\b\b\b\b\b\b\b\b\b\b\b\b\b\b\b\r",
      "113/150 [=====================>........] - ETA: 1s - loss: 0.1995 - accuracy: 0.9956"
     ]
    },
    {
     "name": "stdout",
     "output_type": "stream",
     "text": [
      "\b\b\b\b\b\b\b\b\b\b\b\b\b\b\b\b\b\b\b\b\b\b\b\b\b\b\b\b\b\b\b\b\b\b\b\b\b\b\b\b\b\b\b\b\b\b\b\b\b\b\b\b\b\b\b\b\b\b\b\b\b\b\b\b\b\b\b\b\b\b\b\b\b\b\b\b\b\b\b\b\b\b\b\b\r",
      "115/150 [======================>.......] - ETA: 0s - loss: 0.2024 - accuracy: 0.9913"
     ]
    },
    {
     "name": "stdout",
     "output_type": "stream",
     "text": [
      "\b\b\b\b\b\b\b\b\b\b\b\b\b\b\b\b\b\b\b\b\b\b\b\b\b\b\b\b\b\b\b\b\b\b\b\b\b\b\b\b\b\b\b\b\b\b\b\b\b\b\b\b\b\b\b\b\b\b\b\b\b\b\b\b\b\b\b\b\b\b\b\b\b\b\b\b\b\b\b\b\b\b\b\b\r",
      "117/150 [======================>.......] - ETA: 0s - loss: 0.2012 - accuracy: 0.9915"
     ]
    },
    {
     "name": "stdout",
     "output_type": "stream",
     "text": [
      "\b\b\b\b\b\b\b\b\b\b\b\b\b\b\b\b\b\b\b\b\b\b\b\b\b\b\b\b\b\b\b\b\b\b\b\b\b\b\b\b\b\b\b\b\b\b\b\b\b\b\b\b\b\b\b\b\b\b\b\b\b\b\b\b\b\b\b\b\b\b\b\b\b\b\b\b\b\b\b\b\b\b\b\b\r",
      "119/150 [======================>.......] - ETA: 0s - loss: 0.1993 - accuracy: 0.9916"
     ]
    },
    {
     "name": "stdout",
     "output_type": "stream",
     "text": [
      "\b\b\b\b\b\b\b\b\b\b\b\b\b\b\b\b\b\b\b\b\b\b\b\b\b\b\b\b\b\b\b\b\b\b\b\b\b\b\b\b\b\b\b\b\b\b\b\b\b\b\b\b\b\b\b\b\b\b\b\b\b\b\b\b\b\b\b\b\b\b\b\b\b\b\b\b\b\b\b\b\b\b\b\b\r",
      "121/150 [=======================>......] - ETA: 0s - loss: 0.2007 - accuracy: 0.9917"
     ]
    },
    {
     "name": "stdout",
     "output_type": "stream",
     "text": [
      "\b\b\b\b\b\b\b\b\b\b\b\b\b\b\b\b\b\b\b\b\b\b\b\b\b\b\b\b\b\b\b\b\b\b\b\b\b\b\b\b\b\b\b\b\b\b\b\b\b\b\b\b\b\b\b\b\b\b\b\b\b\b\b\b\b\b\b\b\b\b\b\b\b\b\b\b\b\b\b\b\b\b\b\b\r",
      "123/150 [=======================>......] - ETA: 0s - loss: 0.1985 - accuracy: 0.9919"
     ]
    },
    {
     "name": "stdout",
     "output_type": "stream",
     "text": [
      "\b\b\b\b\b\b\b\b\b\b\b\b\b\b\b\b\b\b\b\b\b\b\b\b\b\b\b\b\b\b\b\b\b\b\b\b\b\b\b\b\b\b\b\b\b\b\b\b\b\b\b\b\b\b\b\b\b\b\b\b\b\b\b\b\b\b\b\b\b\b\b\b\b\b\b\b\b\b\b\b\b\b\b\b\r",
      "125/150 [========================>.....] - ETA: 0s - loss: 0.1983 - accuracy: 0.9920"
     ]
    },
    {
     "name": "stdout",
     "output_type": "stream",
     "text": [
      "\b\b\b\b\b\b\b\b\b\b\b\b\b\b\b\b\b\b\b\b\b\b\b\b\b\b\b\b\b\b\b\b\b\b\b\b\b\b\b\b\b\b\b\b\b\b\b\b\b\b\b\b\b\b\b\b\b\b\b\b\b\b\b\b\b\b\b\b\b\b\b\b\b\b\b\b\b\b\b\b\b\b\b\b\r",
      "127/150 [========================>.....] - ETA: 0s - loss: 0.1968 - accuracy: 0.9921"
     ]
    },
    {
     "name": "stdout",
     "output_type": "stream",
     "text": [
      "\b\b\b\b\b\b\b\b\b\b\b\b\b\b\b\b\b\b\b\b\b\b\b\b\b\b\b\b\b\b\b\b\b\b\b\b\b\b\b\b\b\b\b\b\b\b\b\b\b\b\b\b\b\b\b\b\b\b\b\b\b\b\b\b\b\b\b\b\b\b\b\b\b\b\b\b\b\b\b\b\b\b\b\b\r",
      "129/150 [========================>.....] - ETA: 0s - loss: 0.1953 - accuracy: 0.9922"
     ]
    },
    {
     "name": "stdout",
     "output_type": "stream",
     "text": [
      "\b\b\b\b\b\b\b\b\b\b\b\b\b\b\b\b\b\b\b\b\b\b\b\b\b\b\b\b\b\b\b\b\b\b\b\b\b\b\b\b\b\b\b\b\b\b\b\b\b\b\b\b\b\b\b\b\b\b\b\b\b\b\b\b\b\b\b\b\b\b\b\b\b\b\b\b\b\b\b\b\b\b\b\b\r",
      "131/150 [=========================>....] - ETA: 0s - loss: 0.1928 - accuracy: 0.9924"
     ]
    },
    {
     "name": "stdout",
     "output_type": "stream",
     "text": [
      "\b\b\b\b\b\b\b\b\b\b\b\b\b\b\b\b\b\b\b\b\b\b\b\b\b\b\b\b\b\b\b\b\b\b\b\b\b\b\b\b\b\b\b\b\b\b\b\b\b\b\b\b\b\b\b\b\b\b\b\b\b\b\b\b\b\b\b\b\b\b\b\b\b\b\b\b\b\b\b\b\b\b\b\b\r",
      "133/150 [=========================>....] - ETA: 0s - loss: 0.1936 - accuracy: 0.9925"
     ]
    },
    {
     "name": "stdout",
     "output_type": "stream",
     "text": [
      "\b\b\b\b\b\b\b\b\b\b\b\b\b\b\b\b\b\b\b\b\b\b\b\b\b\b\b\b\b\b\b\b\b\b\b\b\b\b\b\b\b\b\b\b\b\b\b\b\b\b\b\b\b\b\b\b\b\b\b\b\b\b\b\b\b\b\b\b\b\b\b\b\b\b\b\b\b\b\b\b\b\b\b\b\r",
      "135/150 [==========================>...] - ETA: 0s - loss: 0.1920 - accuracy: 0.9926"
     ]
    },
    {
     "name": "stdout",
     "output_type": "stream",
     "text": [
      "\b\b\b\b\b\b\b\b\b\b\b\b\b\b\b\b\b\b\b\b\b\b\b\b\b\b\b\b\b\b\b\b\b\b\b\b\b\b\b\b\b\b\b\b\b\b\b\b\b\b\b\b\b\b\b\b\b\b\b\b\b\b\b\b\b\b\b\b\b\b\b\b\b\b\b\b\b\b\b\b\b\b\b\b\r",
      "137/150 [==========================>...] - ETA: 0s - loss: 0.1902 - accuracy: 0.9927"
     ]
    },
    {
     "name": "stdout",
     "output_type": "stream",
     "text": [
      "\b\b\b\b\b\b\b\b\b\b\b\b\b\b\b\b\b\b\b\b\b\b\b\b\b\b\b\b\b\b\b\b\b\b\b\b\b\b\b\b\b\b\b\b\b\b\b\b\b\b\b\b\b\b\b\b\b\b\b\b\b\b\b\b\b\b\b\b\b\b\b\b\b\b\b\b\b\b\b\b\b\b\b\b\r",
      "139/150 [==========================>...] - ETA: 0s - loss: 0.1922 - accuracy: 0.9928"
     ]
    },
    {
     "name": "stdout",
     "output_type": "stream",
     "text": [
      "\b\b\b\b\b\b\b\b\b\b\b\b\b\b\b\b\b\b\b\b\b\b\b\b\b\b\b\b\b\b\b\b\b\b\b\b\b\b\b\b\b\b\b\b\b\b\b\b\b\b\b\b\b\b\b\b\b\b\b\b\b\b\b\b\b\b\b\b\b\b\b\b\b\b\b\b\b\b\b\b\b\b\b\b\r",
      "141/150 [===========================>..] - ETA: 0s - loss: 0.1905 - accuracy: 0.9929"
     ]
    },
    {
     "name": "stdout",
     "output_type": "stream",
     "text": [
      "\b\b\b\b\b\b\b\b\b\b\b\b\b\b\b\b\b\b\b\b\b\b\b\b\b\b\b\b\b\b\b\b\b\b\b\b\b\b\b\b\b\b\b\b\b\b\b\b\b\b\b\b\b\b\b\b\b\b\b\b\b\b\b\b\b\b\b\b\b\b\b\b\b\b\b\b\b\b\b\b\b\b\b\b\r",
      "143/150 [===========================>..] - ETA: 0s - loss: 0.1896 - accuracy: 0.9930"
     ]
    },
    {
     "name": "stdout",
     "output_type": "stream",
     "text": [
      "\b\b\b\b\b\b\b\b\b\b\b\b\b\b\b\b\b\b\b\b\b\b\b\b\b\b\b\b\b\b\b\b\b\b\b\b\b\b\b\b\b\b\b\b\b\b\b\b\b\b\b\b\b\b\b\b\b\b\b\b\b\b\b\b\b\b\b\b\b\b\b\b\b\b\b\b\b\b\b\b\b\b\b\b\r",
      "145/150 [============================>.] - ETA: 0s - loss: 0.1881 - accuracy: 0.9931"
     ]
    },
    {
     "name": "stdout",
     "output_type": "stream",
     "text": [
      "\b\b\b\b\b\b\b\b\b\b\b\b\b\b\b\b\b\b\b\b\b\b\b\b\b\b\b\b\b\b\b\b\b\b\b\b\b\b\b\b\b\b\b\b\b\b\b\b\b\b\b\b\b\b\b\b\b\b\b\b\b\b\b\b\b\b\b\b\b\b\b\b\b\b\b\b\b\b\b\b\b\b\b\b\r",
      "147/150 [============================>.] - ETA: 0s - loss: 0.1881 - accuracy: 0.9932"
     ]
    },
    {
     "name": "stdout",
     "output_type": "stream",
     "text": [
      "\b\b\b\b\b\b\b\b\b\b\b\b\b\b\b\b\b\b\b\b\b\b\b\b\b\b\b\b\b\b\b\b\b\b\b\b\b\b\b\b\b\b\b\b\b\b\b\b\b\b\b\b\b\b\b\b\b\b\b\b\b\b\b\b\b\b\b\b\b\b\b\b\b\b\b\b\b\b\b\b\b\b\b\b\r",
      "149/150 [============================>.] - ETA: 0s - loss: 0.1868 - accuracy: 0.9933"
     ]
    },
    {
     "name": "stdout",
     "output_type": "stream",
     "text": [
      "\b\b\b\b\b\b\b\b\b\b\b\b\b\b\b\b\b\b\b\b\b\b\b\b\b\b\b\b\b\b\b\b\b\b\b\b\b\b\b\b\b\b\b\b\b\b\b\b\b\b\b\b\b\b\b\b\b\b\b\b\b\b\b\b\b\b\b\b\b\b\b\b\b\b\b\b\b\b\b\b\b\b\b\b\r",
      "150/150 [==============================] - 5s 37ms/step - loss: 0.1862 - accuracy: 0.9933 - val_loss: 0.1863 - val_accuracy: 0.9600\n"
     ]
    },
    {
     "name": "stdout",
     "output_type": "stream",
     "text": [
      "Epoch 4/10\n"
     ]
    },
    {
     "name": "stdout",
     "output_type": "stream",
     "text": [
      "\r",
      "  1/150 [..............................] - ETA: 4s - loss: 0.0564 - accuracy: 1.0000"
     ]
    },
    {
     "name": "stdout",
     "output_type": "stream",
     "text": [
      "\b\b\b\b\b\b\b\b\b\b\b\b\b\b\b\b\b\b\b\b\b\b\b\b\b\b\b\b\b\b\b\b\b\b\b\b\b\b\b\b\b\b\b\b\b\b\b\b\b\b\b\b\b\b\b\b\b\b\b\b\b\b\b\b\b\b\b\b\b\b\b\b\b\b\b\b\b\b\b\b\b\b\b\b\r",
      "  3/150 [..............................] - ETA: 4s - loss: 0.0871 - accuracy: 1.0000"
     ]
    },
    {
     "name": "stdout",
     "output_type": "stream",
     "text": [
      "\b\b\b\b\b\b\b\b\b\b\b\b\b\b\b\b\b\b\b\b\b\b\b\b\b\b\b\b\b\b\b\b\b\b\b\b\b\b\b\b\b\b\b\b\b\b\b\b\b\b\b\b\b\b\b\b\b\b\b\b\b\b\b\b\b\b\b\b\b\b\b\b\b\b\b\b\b\b\b\b\b\b\b\b\r",
      "  5/150 [>.............................] - ETA: 3s - loss: 0.1057 - accuracy: 1.0000"
     ]
    },
    {
     "name": "stdout",
     "output_type": "stream",
     "text": [
      "\b\b\b\b\b\b\b\b\b\b\b\b\b\b\b\b\b\b\b\b\b\b\b\b\b\b\b\b\b\b\b\b\b\b\b\b\b\b\b\b\b\b\b\b\b\b\b\b\b\b\b\b\b\b\b\b\b\b\b\b\b\b\b\b\b\b\b\b\b\b\b\b\b\b\b\b\b\b\b\b\b\b\b\b\r",
      "  7/150 [>.............................] - ETA: 3s - loss: 0.1109 - accuracy: 1.0000"
     ]
    },
    {
     "name": "stdout",
     "output_type": "stream",
     "text": [
      "\b\b\b\b\b\b\b\b\b\b\b\b\b\b\b\b\b\b\b\b\b\b\b\b\b\b\b\b\b\b\b\b\b\b\b\b\b\b\b\b\b\b\b\b\b\b\b\b\b\b\b\b\b\b\b\b\b\b\b\b\b\b\b\b\b\b\b\b\b\b\b\b\b\b\b\b\b\b\b\b\b\b\b\b\r",
      "  9/150 [>.............................] - ETA: 3s - loss: 0.1621 - accuracy: 1.0000"
     ]
    },
    {
     "name": "stdout",
     "output_type": "stream",
     "text": [
      "\b\b\b\b\b\b\b\b\b\b\b\b\b\b\b\b\b\b\b\b\b\b\b\b\b\b\b\b\b\b\b\b\b\b\b\b\b\b\b\b\b\b\b\b\b\b\b\b\b\b\b\b\b\b\b\b\b\b\b\b\b\b\b\b\b\b\b\b\b\b\b\b\b\b\b\b\b\b\b\b\b\b\b\b\r",
      " 11/150 [=>............................] - ETA: 3s - loss: 0.1644 - accuracy: 1.0000"
     ]
    },
    {
     "name": "stdout",
     "output_type": "stream",
     "text": [
      "\b\b\b\b\b\b\b\b\b\b\b\b\b\b\b\b\b\b\b\b\b\b\b\b\b\b\b\b\b\b\b\b\b\b\b\b\b\b\b\b\b\b\b\b\b\b\b\b\b\b\b\b\b\b\b\b\b\b\b\b\b\b\b\b\b\b\b\b\b\b\b\b\b\b\b\b\b\b\b\b\b\b\b\b\r",
      " 13/150 [=>............................] - ETA: 3s - loss: 0.1535 - accuracy: 1.0000"
     ]
    },
    {
     "name": "stdout",
     "output_type": "stream",
     "text": [
      "\b\b\b\b\b\b\b\b\b\b\b\b\b\b\b\b\b\b\b\b\b\b\b\b\b\b\b\b\b\b\b\b\b\b\b\b\b\b\b\b\b\b\b\b\b\b\b\b\b\b\b\b\b\b\b\b\b\b\b\b\b\b\b\b\b\b\b\b\b\b\b\b\b\b\b\b\b\b\b\b\b\b\b\b\r",
      " 15/150 [==>...........................] - ETA: 3s - loss: 0.1349 - accuracy: 1.0000"
     ]
    },
    {
     "name": "stdout",
     "output_type": "stream",
     "text": [
      "\b\b\b\b\b\b\b\b\b\b\b\b\b\b\b\b\b\b\b\b\b\b\b\b\b\b\b\b\b\b\b\b\b\b\b\b\b\b\b\b\b\b\b\b\b\b\b\b\b\b\b\b\b\b\b\b\b\b\b\b\b\b\b\b\b\b\b\b\b\b\b\b\b\b\b\b\b\b\b\b\b\b\b\b\r",
      " 17/150 [==>...........................] - ETA: 3s - loss: 0.1362 - accuracy: 1.0000"
     ]
    },
    {
     "name": "stdout",
     "output_type": "stream",
     "text": [
      "\b\b\b\b\b\b\b\b\b\b\b\b\b\b\b\b\b\b\b\b\b\b\b\b\b\b\b\b\b\b\b\b\b\b\b\b\b\b\b\b\b\b\b\b\b\b\b\b\b\b\b\b\b\b\b\b\b\b\b\b\b\b\b\b\b\b\b\b\b\b\b\b\b\b\b\b\b\b\b\b\b\b\b\b\r",
      " 19/150 [==>...........................] - ETA: 3s - loss: 0.1317 - accuracy: 1.0000"
     ]
    },
    {
     "name": "stdout",
     "output_type": "stream",
     "text": [
      "\b\b\b\b\b\b\b\b\b\b\b\b\b\b\b\b\b\b\b\b\b\b\b\b\b\b\b\b\b\b\b\b\b\b\b\b\b\b\b\b\b\b\b\b\b\b\b\b\b\b\b\b\b\b\b\b\b\b\b\b\b\b\b\b\b\b\b\b\b\b\b\b\b\b\b\b\b\b\b\b\b\b\b\b\r",
      " 21/150 [===>..........................] - ETA: 3s - loss: 0.1285 - accuracy: 1.0000"
     ]
    },
    {
     "name": "stdout",
     "output_type": "stream",
     "text": [
      "\b\b\b\b\b\b\b\b\b\b\b\b\b\b\b\b\b\b\b\b\b\b\b\b\b\b\b\b\b\b\b\b\b\b\b\b\b\b\b\b\b\b\b\b\b\b\b\b\b\b\b\b\b\b\b\b\b\b\b\b\b\b\b\b\b\b\b\b\b\b\b\b\b\b\b\b\b\b\b\b\b\b\b\b\r",
      " 23/150 [===>..........................] - ETA: 3s - loss: 0.1242 - accuracy: 1.0000"
     ]
    },
    {
     "name": "stdout",
     "output_type": "stream",
     "text": [
      "\b\b\b\b\b\b\b\b\b\b\b\b\b\b\b\b\b\b\b\b\b\b\b\b\b\b\b\b\b\b\b\b\b\b\b\b\b\b\b\b\b\b\b\b\b\b\b\b\b\b\b\b\b\b\b\b\b\b\b\b\b\b\b\b\b\b\b\b\b\b\b\b\b\b\b\b\b\b\b\b\b\b\b\b\r",
      " 25/150 [====>.........................] - ETA: 3s - loss: 0.1292 - accuracy: 1.0000"
     ]
    },
    {
     "name": "stdout",
     "output_type": "stream",
     "text": [
      "\b\b\b\b\b\b\b\b\b\b\b\b\b\b\b\b\b\b\b\b\b\b\b\b\b\b\b\b\b\b\b\b\b\b\b\b\b\b\b\b\b\b\b\b\b\b\b\b\b\b\b\b\b\b\b\b\b\b\b\b\b\b\b\b\b\b\b\b\b\b\b\b\b\b\b\b\b\b\b\b\b\b\b\b\r",
      " 27/150 [====>.........................] - ETA: 3s - loss: 0.1450 - accuracy: 1.0000"
     ]
    },
    {
     "name": "stdout",
     "output_type": "stream",
     "text": [
      "\b\b\b\b\b\b\b\b\b\b\b\b\b\b\b\b\b\b\b\b\b\b\b\b\b\b\b\b\b\b\b\b\b\b\b\b\b\b\b\b\b\b\b\b\b\b\b\b\b\b\b\b\b\b\b\b\b\b\b\b\b\b\b\b\b\b\b\b\b\b\b\b\b\b\b\b\b\b\b\b\b\b\b\b\r",
      " 29/150 [====>.........................] - ETA: 3s - loss: 0.1384 - accuracy: 1.0000"
     ]
    },
    {
     "name": "stdout",
     "output_type": "stream",
     "text": [
      "\b\b\b\b\b\b\b\b\b\b\b\b\b\b\b\b\b\b\b\b\b\b\b\b\b\b\b\b\b\b\b\b\b\b\b\b\b\b\b\b\b\b\b\b\b\b\b\b\b\b\b\b\b\b\b\b\b\b\b\b\b\b\b\b\b\b\b\b\b\b\b\b\b\b\b\b\b\b\b\b\b\b\b\b\r",
      " 31/150 [=====>........................] - ETA: 3s - loss: 0.1342 - accuracy: 1.0000"
     ]
    },
    {
     "name": "stdout",
     "output_type": "stream",
     "text": [
      "\b\b\b\b\b\b\b\b\b\b\b\b\b\b\b\b\b\b\b\b\b\b\b\b\b\b\b\b\b\b\b\b\b\b\b\b\b\b\b\b\b\b\b\b\b\b\b\b\b\b\b\b\b\b\b\b\b\b\b\b\b\b\b\b\b\b\b\b\b\b\b\b\b\b\b\b\b\b\b\b\b\b\b\b\r",
      " 33/150 [=====>........................] - ETA: 3s - loss: 0.1351 - accuracy: 1.0000"
     ]
    },
    {
     "name": "stdout",
     "output_type": "stream",
     "text": [
      "\b\b\b\b\b\b\b\b\b\b\b\b\b\b\b\b\b\b\b\b\b\b\b\b\b\b\b\b\b\b\b\b\b\b\b\b\b\b\b\b\b\b\b\b\b\b\b\b\b\b\b\b\b\b\b\b\b\b\b\b\b\b\b\b\b\b\b\b\b\b\b\b\b\b\b\b\b\b\b\b\b\b\b\b\r",
      " 35/150 [======>.......................] - ETA: 3s - loss: 0.1348 - accuracy: 1.0000"
     ]
    },
    {
     "name": "stdout",
     "output_type": "stream",
     "text": [
      "\b\b\b\b\b\b\b\b\b\b\b\b\b\b\b\b\b\b\b\b\b\b\b\b\b\b\b\b\b\b\b\b\b\b\b\b\b\b\b\b\b\b\b\b\b\b\b\b\b\b\b\b\b\b\b\b\b\b\b\b\b\b\b\b\b\b\b\b\b\b\b\b\b\b\b\b\b\b\b\b\b\b\b\b\r",
      " 37/150 [======>.......................] - ETA: 3s - loss: 0.1297 - accuracy: 1.0000"
     ]
    },
    {
     "name": "stdout",
     "output_type": "stream",
     "text": [
      "\b\b\b\b\b\b\b\b\b\b\b\b\b\b\b\b\b\b\b\b\b\b\b\b\b\b\b\b\b\b\b\b\b\b\b\b\b\b\b\b\b\b\b\b\b\b\b\b\b\b\b\b\b\b\b\b\b\b\b\b\b\b\b\b\b\b\b\b\b\b\b\b\b\b\b\b\b\b\b\b\b\b\b\b\r",
      " 39/150 [======>.......................] - ETA: 3s - loss: 0.1241 - accuracy: 1.0000"
     ]
    },
    {
     "name": "stdout",
     "output_type": "stream",
     "text": [
      "\b\b\b\b\b\b\b\b\b\b\b\b\b\b\b\b\b\b\b\b\b\b\b\b\b\b\b\b\b\b\b\b\b\b\b\b\b\b\b\b\b\b\b\b\b\b\b\b\b\b\b\b\b\b\b\b\b\b\b\b\b\b\b\b\b\b\b\b\b\b\b\b\b\b\b\b\b\b\b\b\b\b\b\b\r",
      " 41/150 [=======>......................] - ETA: 2s - loss: 0.1264 - accuracy: 1.0000"
     ]
    },
    {
     "name": "stdout",
     "output_type": "stream",
     "text": [
      "\b\b\b\b\b\b\b\b\b\b\b\b\b\b\b\b\b\b\b\b\b\b\b\b\b\b\b\b\b\b\b\b\b\b\b\b\b\b\b\b\b\b\b\b\b\b\b\b\b\b\b\b\b\b\b\b\b\b\b\b\b\b\b\b\b\b\b\b\b\b\b\b\b\b\b\b\b\b\b\b\b\b\b\b\r",
      " 43/150 [=======>......................] - ETA: 2s - loss: 0.1257 - accuracy: 1.0000"
     ]
    },
    {
     "name": "stdout",
     "output_type": "stream",
     "text": [
      "\b\b\b\b\b\b\b\b\b\b\b\b\b\b\b\b\b\b\b\b\b\b\b\b\b\b\b\b\b\b\b\b\b\b\b\b\b\b\b\b\b\b\b\b\b\b\b\b\b\b\b\b\b\b\b\b\b\b\b\b\b\b\b\b\b\b\b\b\b\b\b\b\b\b\b\b\b\b\b\b\b\b\b\b\r",
      " 45/150 [========>.....................] - ETA: 2s - loss: 0.1235 - accuracy: 1.0000"
     ]
    },
    {
     "name": "stdout",
     "output_type": "stream",
     "text": [
      "\b\b\b\b\b\b\b\b\b\b\b\b\b\b\b\b\b\b\b\b\b\b\b\b\b\b\b\b\b\b\b\b\b\b\b\b\b\b\b\b\b\b\b\b\b\b\b\b\b\b\b\b\b\b\b\b\b\b\b\b\b\b\b\b\b\b\b\b\b\b\b\b\b\b\b\b\b\b\b\b\b\b\b\b\r",
      " 47/150 [========>.....................] - ETA: 2s - loss: 0.1216 - accuracy: 1.0000"
     ]
    },
    {
     "name": "stdout",
     "output_type": "stream",
     "text": [
      "\b\b\b\b\b\b\b\b\b\b\b\b\b\b\b\b\b\b\b\b\b\b\b\b\b\b\b\b\b\b\b\b\b\b\b\b\b\b\b\b\b\b\b\b\b\b\b\b\b\b\b\b\b\b\b\b\b\b\b\b\b\b\b\b\b\b\b\b\b\b\b\b\b\b\b\b\b\b\b\b\b\b\b\b\r",
      " 49/150 [========>.....................] - ETA: 2s - loss: 0.1320 - accuracy: 1.0000"
     ]
    },
    {
     "name": "stdout",
     "output_type": "stream",
     "text": [
      "\b\b\b\b\b\b\b\b\b\b\b\b\b\b\b\b\b\b\b\b\b\b\b\b\b\b\b\b\b\b\b\b\b\b\b\b\b\b\b\b\b\b\b\b\b\b\b\b\b\b\b\b\b\b\b\b\b\b\b\b\b\b\b\b\b\b\b\b\b\b\b\b\b\b\b\b\b\b\b\b\b\b\b\b\r",
      " 51/150 [=========>....................] - ETA: 2s - loss: 0.1297 - accuracy: 1.0000"
     ]
    },
    {
     "name": "stdout",
     "output_type": "stream",
     "text": [
      "\b\b\b\b\b\b\b\b\b\b\b\b\b\b\b\b\b\b\b\b\b\b\b\b\b\b\b\b\b\b\b\b\b\b\b\b\b\b\b\b\b\b\b\b\b\b\b\b\b\b\b\b\b\b\b\b\b\b\b\b\b\b\b\b\b\b\b\b\b\b\b\b\b\b\b\b\b\b\b\b\b\b\b\b\r",
      " 53/150 [=========>....................] - ETA: 2s - loss: 0.1284 - accuracy: 1.0000"
     ]
    },
    {
     "name": "stdout",
     "output_type": "stream",
     "text": [
      "\b\b\b\b\b\b\b\b\b\b\b\b\b\b\b\b\b\b\b\b\b\b\b\b\b\b\b\b\b\b\b\b\b\b\b\b\b\b\b\b\b\b\b\b\b\b\b\b\b\b\b\b\b\b\b\b\b\b\b\b\b\b\b\b\b\b\b\b\b\b\b\b\b\b\b\b\b\b\b\b\b\b\b\b\r",
      " 55/150 [==========>...................] - ETA: 2s - loss: 0.1344 - accuracy: 1.0000"
     ]
    },
    {
     "name": "stdout",
     "output_type": "stream",
     "text": [
      "\b\b\b\b\b\b\b\b\b\b\b\b\b\b\b\b\b\b\b\b\b\b\b\b\b\b\b\b\b\b\b\b\b\b\b\b\b\b\b\b\b\b\b\b\b\b\b\b\b\b\b\b\b\b\b\b\b\b\b\b\b\b\b\b\b\b\b\b\b\b\b\b\b\b\b\b\b\b\b\b\b\b\b\b\r",
      " 57/150 [==========>...................] - ETA: 2s - loss: 0.1357 - accuracy: 1.0000"
     ]
    },
    {
     "name": "stdout",
     "output_type": "stream",
     "text": [
      "\b\b\b\b\b\b\b\b\b\b\b\b\b\b\b\b\b\b\b\b\b\b\b\b\b\b\b\b\b\b\b\b\b\b\b\b\b\b\b\b\b\b\b\b\b\b\b\b\b\b\b\b\b\b\b\b\b\b\b\b\b\b\b\b\b\b\b\b\b\b\b\b\b\b\b\b\b\b\b\b\b\b\b\b\r",
      " 59/150 [==========>...................] - ETA: 2s - loss: 0.1354 - accuracy: 1.0000"
     ]
    },
    {
     "name": "stdout",
     "output_type": "stream",
     "text": [
      "\b\b\b\b\b\b\b\b\b\b\b\b\b\b\b\b\b\b\b\b\b\b\b\b\b\b\b\b\b\b\b\b\b\b\b\b\b\b\b\b\b\b\b\b\b\b\b\b\b\b\b\b\b\b\b\b\b\b\b\b\b\b\b\b\b\b\b\b\b\b\b\b\b\b\b\b\b\b\b\b\b\b\b\b\r",
      " 61/150 [===========>..................] - ETA: 2s - loss: 0.1323 - accuracy: 1.0000"
     ]
    },
    {
     "name": "stdout",
     "output_type": "stream",
     "text": [
      "\b\b\b\b\b\b\b\b\b\b\b\b\b\b\b\b\b\b\b\b\b\b\b\b\b\b\b\b\b\b\b\b\b\b\b\b\b\b\b\b\b\b\b\b\b\b\b\b\b\b\b\b\b\b\b\b\b\b\b\b\b\b\b\b\b\b\b\b\b\b\b\b\b\b\b\b\b\b\b\b\b\b\b\b\r",
      " 63/150 [===========>..................] - ETA: 2s - loss: 0.1293 - accuracy: 1.0000"
     ]
    },
    {
     "name": "stdout",
     "output_type": "stream",
     "text": [
      "\b\b\b\b\b\b\b\b\b\b\b\b\b\b\b\b\b\b\b\b\b\b\b\b\b\b\b\b\b\b\b\b\b\b\b\b\b\b\b\b\b\b\b\b\b\b\b\b\b\b\b\b\b\b\b\b\b\b\b\b\b\b\b\b\b\b\b\b\b\b\b\b\b\b\b\b\b\b\b\b\b\b\b\b\r",
      " 65/150 [============>.................] - ETA: 2s - loss: 0.1281 - accuracy: 1.0000"
     ]
    },
    {
     "name": "stdout",
     "output_type": "stream",
     "text": [
      "\b\b\b\b\b\b\b\b\b\b\b\b\b\b\b\b\b\b\b\b\b\b\b\b\b\b\b\b\b\b\b\b\b\b\b\b\b\b\b\b\b\b\b\b\b\b\b\b\b\b\b\b\b\b\b\b\b\b\b\b\b\b\b\b\b\b\b\b\b\b\b\b\b\b\b\b\b\b\b\b\b\b\b\b\r",
      " 67/150 [============>.................] - ETA: 2s - loss: 0.1251 - accuracy: 1.0000"
     ]
    },
    {
     "name": "stdout",
     "output_type": "stream",
     "text": [
      "\b\b\b\b\b\b\b\b\b\b\b\b\b\b\b\b\b\b\b\b\b\b\b\b\b\b\b\b\b\b\b\b\b\b\b\b\b\b\b\b\b\b\b\b\b\b\b\b\b\b\b\b\b\b\b\b\b\b\b\b\b\b\b\b\b\b\b\b\b\b\b\b\b\b\b\b\b\b\b\b\b\b\b\b\r",
      " 69/150 [============>.................] - ETA: 2s - loss: 0.1231 - accuracy: 1.0000"
     ]
    },
    {
     "name": "stdout",
     "output_type": "stream",
     "text": [
      "\b\b\b\b\b\b\b\b\b\b\b\b\b\b\b\b\b\b\b\b\b\b\b\b\b\b\b\b\b\b\b\b\b\b\b\b\b\b\b\b\b\b\b\b\b\b\b\b\b\b\b\b\b\b\b\b\b\b\b\b\b\b\b\b\b\b\b\b\b\b\b\b\b\b\b\b\b\b\b\b\b\b\b\b\r",
      " 71/150 [=============>................] - ETA: 2s - loss: 0.1211 - accuracy: 1.0000"
     ]
    },
    {
     "name": "stdout",
     "output_type": "stream",
     "text": [
      "\b\b\b\b\b\b\b\b\b\b\b\b\b\b\b\b\b\b\b\b\b\b\b\b\b\b\b\b\b\b\b\b\b\b\b\b\b\b\b\b\b\b\b\b\b\b\b\b\b\b\b\b\b\b\b\b\b\b\b\b\b\b\b\b\b\b\b\b\b\b\b\b\b\b\b\b\b\b\b\b\b\b\b\b\r",
      " 73/150 [=============>................] - ETA: 2s - loss: 0.1231 - accuracy: 1.0000"
     ]
    },
    {
     "name": "stdout",
     "output_type": "stream",
     "text": [
      "\b\b\b\b\b\b\b\b\b\b\b\b\b\b\b\b\b\b\b\b\b\b\b\b\b\b\b\b\b\b\b\b\b\b\b\b\b\b\b\b\b\b\b\b\b\b\b\b\b\b\b\b\b\b\b\b\b\b\b\b\b\b\b\b\b\b\b\b\b\b\b\b\b\b\b\b\b\b\b\b\b\b\b\b\r",
      " 75/150 [==============>...............] - ETA: 2s - loss: 0.1237 - accuracy: 1.0000"
     ]
    },
    {
     "name": "stdout",
     "output_type": "stream",
     "text": [
      "\b\b\b\b\b\b\b\b\b\b\b\b\b\b\b\b\b\b\b\b\b\b\b\b\b\b\b\b\b\b\b\b\b\b\b\b\b\b\b\b\b\b\b\b\b\b\b\b\b\b\b\b\b\b\b\b\b\b\b\b\b\b\b\b\b\b\b\b\b\b\b\b\b\b\b\b\b\b\b\b\b\b\b\b\r",
      " 77/150 [==============>...............] - ETA: 2s - loss: 0.1259 - accuracy: 1.0000"
     ]
    },
    {
     "name": "stdout",
     "output_type": "stream",
     "text": [
      "\b\b\b\b\b\b\b\b\b\b\b\b\b\b\b\b\b\b\b\b\b\b\b\b\b\b\b\b\b\b\b\b\b\b\b\b\b\b\b\b\b\b\b\b\b\b\b\b\b\b\b\b\b\b\b\b\b\b\b\b\b\b\b\b\b\b\b\b\b\b\b\b\b\b\b\b\b\b\b\b\b\b\b\b\r",
      " 79/150 [==============>...............] - ETA: 1s - loss: 0.1270 - accuracy: 1.0000"
     ]
    },
    {
     "name": "stdout",
     "output_type": "stream",
     "text": [
      "\b\b\b\b\b\b\b\b\b\b\b\b\b\b\b\b\b\b\b\b\b\b\b\b\b\b\b\b\b\b\b\b\b\b\b\b\b\b\b\b\b\b\b\b\b\b\b\b\b\b\b\b\b\b\b\b\b\b\b\b\b\b\b\b\b\b\b\b\b\b\b\b\b\b\b\b\b\b\b\b\b\b\b\b\r",
      " 81/150 [===============>..............] - ETA: 1s - loss: 0.1289 - accuracy: 1.0000"
     ]
    },
    {
     "name": "stdout",
     "output_type": "stream",
     "text": [
      "\b\b\b\b\b\b\b\b\b\b\b\b\b\b\b\b\b\b\b\b\b\b\b\b\b\b\b\b\b\b\b\b\b\b\b\b\b\b\b\b\b\b\b\b\b\b\b\b\b\b\b\b\b\b\b\b\b\b\b\b\b\b\b\b\b\b\b\b\b\b\b\b\b\b\b\b\b\b\b\b\b\b\b\b\r",
      " 83/150 [===============>..............] - ETA: 1s - loss: 0.1299 - accuracy: 1.0000"
     ]
    },
    {
     "name": "stdout",
     "output_type": "stream",
     "text": [
      "\b\b\b\b\b\b\b\b\b\b\b\b\b\b\b\b\b\b\b\b\b\b\b\b\b\b\b\b\b\b\b\b\b\b\b\b\b\b\b\b\b\b\b\b\b\b\b\b\b\b\b\b\b\b\b\b\b\b\b\b\b\b\b\b\b\b\b\b\b\b\b\b\b\b\b\b\b\b\b\b\b\b\b\b\r",
      " 85/150 [================>.............] - ETA: 1s - loss: 0.1294 - accuracy: 1.0000"
     ]
    },
    {
     "name": "stdout",
     "output_type": "stream",
     "text": [
      "\b\b\b\b\b\b\b\b\b\b\b\b\b\b\b\b\b\b\b\b\b\b\b\b\b\b\b\b\b\b\b\b\b\b\b\b\b\b\b\b\b\b\b\b\b\b\b\b\b\b\b\b\b\b\b\b\b\b\b\b\b\b\b\b\b\b\b\b\b\b\b\b\b\b\b\b\b\b\b\b\b\b\b\b\r",
      " 87/150 [================>.............] - ETA: 1s - loss: 0.1282 - accuracy: 1.0000"
     ]
    },
    {
     "name": "stdout",
     "output_type": "stream",
     "text": [
      "\b\b\b\b\b\b\b\b\b\b\b\b\b\b\b\b\b\b\b\b\b\b\b\b\b\b\b\b\b\b\b\b\b\b\b\b\b\b\b\b\b\b\b\b\b\b\b\b\b\b\b\b\b\b\b\b\b\b\b\b\b\b\b\b\b\b\b\b\b\b\b\b\b\b\b\b\b\b\b\b\b\b\b\b\r",
      " 89/150 [================>.............] - ETA: 1s - loss: 0.1278 - accuracy: 1.0000"
     ]
    },
    {
     "name": "stdout",
     "output_type": "stream",
     "text": [
      "\b\b\b\b\b\b\b\b\b\b\b\b\b\b\b\b\b\b\b\b\b\b\b\b\b\b\b\b\b\b\b\b\b\b\b\b\b\b\b\b\b\b\b\b\b\b\b\b\b\b\b\b\b\b\b\b\b\b\b\b\b\b\b\b\b\b\b\b\b\b\b\b\b\b\b\b\b\b\b\b\b\b\b\b\r",
      " 91/150 [=================>............] - ETA: 1s - loss: 0.1289 - accuracy: 1.0000"
     ]
    },
    {
     "name": "stdout",
     "output_type": "stream",
     "text": [
      "\b\b\b\b\b\b\b\b\b\b\b\b\b\b\b\b\b\b\b\b\b\b\b\b\b\b\b\b\b\b\b\b\b\b\b\b\b\b\b\b\b\b\b\b\b\b\b\b\b\b\b\b\b\b\b\b\b\b\b\b\b\b\b\b\b\b\b\b\b\b\b\b\b\b\b\b\b\b\b\b\b\b\b\b\r",
      " 93/150 [=================>............] - ETA: 1s - loss: 0.1280 - accuracy: 1.0000"
     ]
    },
    {
     "name": "stdout",
     "output_type": "stream",
     "text": [
      "\b\b\b\b\b\b\b\b\b\b\b\b\b\b\b\b\b\b\b\b\b\b\b\b\b\b\b\b\b\b\b\b\b\b\b\b\b\b\b\b\b\b\b\b\b\b\b\b\b\b\b\b\b\b\b\b\b\b\b\b\b\b\b\b\b\b\b\b\b\b\b\b\b\b\b\b\b\b\b\b\b\b\b\b\r",
      " 95/150 [==================>...........] - ETA: 1s - loss: 0.1304 - accuracy: 1.0000"
     ]
    },
    {
     "name": "stdout",
     "output_type": "stream",
     "text": [
      "\b\b\b\b\b\b\b\b\b\b\b\b\b\b\b\b\b\b\b\b\b\b\b\b\b\b\b\b\b\b\b\b\b\b\b\b\b\b\b\b\b\b\b\b\b\b\b\b\b\b\b\b\b\b\b\b\b\b\b\b\b\b\b\b\b\b\b\b\b\b\b\b\b\b\b\b\b\b\b\b\b\b\b\b\r",
      " 97/150 [==================>...........] - ETA: 1s - loss: 0.1289 - accuracy: 1.0000"
     ]
    },
    {
     "name": "stdout",
     "output_type": "stream",
     "text": [
      "\b\b\b\b\b\b\b\b\b\b\b\b\b\b\b\b\b\b\b\b\b\b\b\b\b\b\b\b\b\b\b\b\b\b\b\b\b\b\b\b\b\b\b\b\b\b\b\b\b\b\b\b\b\b\b\b\b\b\b\b\b\b\b\b\b\b\b\b\b\b\b\b\b\b\b\b\b\b\b\b\b\b\b\b\r",
      " 99/150 [==================>...........] - ETA: 1s - loss: 0.1284 - accuracy: 1.0000"
     ]
    },
    {
     "name": "stdout",
     "output_type": "stream",
     "text": [
      "\b\b\b\b\b\b\b\b\b\b\b\b\b\b\b\b\b\b\b\b\b\b\b\b\b\b\b\b\b\b\b\b\b\b\b\b\b\b\b\b\b\b\b\b\b\b\b\b\b\b\b\b\b\b\b\b\b\b\b\b\b\b\b\b\b\b\b\b\b\b\b\b\b\b\b\b\b\b\b\b\b\b\b\b\r",
      "101/150 [===================>..........] - ETA: 1s - loss: 0.1263 - accuracy: 1.0000"
     ]
    },
    {
     "name": "stdout",
     "output_type": "stream",
     "text": [
      "\b\b\b\b\b\b\b\b\b\b\b\b\b\b\b\b\b\b\b\b\b\b\b\b\b\b\b\b\b\b\b\b\b\b\b\b\b\b\b\b\b\b\b\b\b\b\b\b\b\b\b\b\b\b\b\b\b\b\b\b\b\b\b\b\b\b\b\b\b\b\b\b\b\b\b\b\b\b\b\b\b\b\b\b\r",
      "103/150 [===================>..........] - ETA: 1s - loss: 0.1357 - accuracy: 0.9951"
     ]
    },
    {
     "name": "stdout",
     "output_type": "stream",
     "text": [
      "\b\b\b\b\b\b\b\b\b\b\b\b\b\b\b\b\b\b\b\b\b\b\b\b\b\b\b\b\b\b\b\b\b\b\b\b\b\b\b\b\b\b\b\b\b\b\b\b\b\b\b\b\b\b\b\b\b\b\b\b\b\b\b\b\b\b\b\b\b\b\b\b\b\b\b\b\b\b\b\b\b\b\b\b\r",
      "105/150 [====================>.........] - ETA: 1s - loss: 0.1369 - accuracy: 0.9952"
     ]
    },
    {
     "name": "stdout",
     "output_type": "stream",
     "text": [
      "\b\b\b\b\b\b\b\b\b\b\b\b\b\b\b\b\b\b\b\b\b\b\b\b\b\b\b\b\b\b\b\b\b\b\b\b\b\b\b\b\b\b\b\b\b\b\b\b\b\b\b\b\b\b\b\b\b\b\b\b\b\b\b\b\b\b\b\b\b\b\b\b\b\b\b\b\b\b\b\b\b\b\b\b\r",
      "107/150 [====================>.........] - ETA: 1s - loss: 0.1352 - accuracy: 0.9953"
     ]
    },
    {
     "name": "stdout",
     "output_type": "stream",
     "text": [
      "\b\b\b\b\b\b\b\b\b\b\b\b\b\b\b\b\b\b\b\b\b\b\b\b\b\b\b\b\b\b\b\b\b\b\b\b\b\b\b\b\b\b\b\b\b\b\b\b\b\b\b\b\b\b\b\b\b\b\b\b\b\b\b\b\b\b\b\b\b\b\b\b\b\b\b\b\b\b\b\b\b\b\b\b\r",
      "109/150 [====================>.........] - ETA: 1s - loss: 0.1343 - accuracy: 0.9954"
     ]
    },
    {
     "name": "stdout",
     "output_type": "stream",
     "text": [
      "\b\b\b\b\b\b\b\b\b\b\b\b\b\b\b\b\b\b\b\b\b\b\b\b\b\b\b\b\b\b\b\b\b\b\b\b\b\b\b\b\b\b\b\b\b\b\b\b\b\b\b\b\b\b\b\b\b\b\b\b\b\b\b\b\b\b\b\b\b\b\b\b\b\b\b\b\b\b\b\b\b\b\b\b\r",
      "111/150 [=====================>........] - ETA: 1s - loss: 0.1329 - accuracy: 0.9955"
     ]
    },
    {
     "name": "stdout",
     "output_type": "stream",
     "text": [
      "\b\b\b\b\b\b\b\b\b\b\b\b\b\b\b\b\b\b\b\b\b\b\b\b\b\b\b\b\b\b\b\b\b\b\b\b\b\b\b\b\b\b\b\b\b\b\b\b\b\b\b\b\b\b\b\b\b\b\b\b\b\b\b\b\b\b\b\b\b\b\b\b\b\b\b\b\b\b\b\b\b\b\b\b\r",
      "113/150 [=====================>........] - ETA: 1s - loss: 0.1321 - accuracy: 0.9956"
     ]
    },
    {
     "name": "stdout",
     "output_type": "stream",
     "text": [
      "\b\b\b\b\b\b\b\b\b\b\b\b\b\b\b\b\b\b\b\b\b\b\b\b\b\b\b\b\b\b\b\b\b\b\b\b\b\b\b\b\b\b\b\b\b\b\b\b\b\b\b\b\b\b\b\b\b\b\b\b\b\b\b\b\b\b\b\b\b\b\b\b\b\b\b\b\b\b\b\b\b\b\b\b\r",
      "115/150 [======================>.......] - ETA: 0s - loss: 0.1331 - accuracy: 0.9957"
     ]
    },
    {
     "name": "stdout",
     "output_type": "stream",
     "text": [
      "\b\b\b\b\b\b\b\b\b\b\b\b\b\b\b\b\b\b\b\b\b\b\b\b\b\b\b\b\b\b\b\b\b\b\b\b\b\b\b\b\b\b\b\b\b\b\b\b\b\b\b\b\b\b\b\b\b\b\b\b\b\b\b\b\b\b\b\b\b\b\b\b\b\b\b\b\b\b\b\b\b\b\b\b\r",
      "117/150 [======================>.......] - ETA: 0s - loss: 0.1330 - accuracy: 0.9957"
     ]
    },
    {
     "name": "stdout",
     "output_type": "stream",
     "text": [
      "\b\b\b\b\b\b\b\b\b\b\b\b\b\b\b\b\b\b\b\b\b\b\b\b\b\b\b\b\b\b\b\b\b\b\b\b\b\b\b\b\b\b\b\b\b\b\b\b\b\b\b\b\b\b\b\b\b\b\b\b\b\b\b\b\b\b\b\b\b\b\b\b\b\b\b\b\b\b\b\b\b\b\b\b\r",
      "119/150 [======================>.......] - ETA: 0s - loss: 0.1324 - accuracy: 0.9958"
     ]
    },
    {
     "name": "stdout",
     "output_type": "stream",
     "text": [
      "\b\b\b\b\b\b\b\b\b\b\b\b\b\b\b\b\b\b\b\b\b\b\b\b\b\b\b\b\b\b\b\b\b\b\b\b\b\b\b\b\b\b\b\b\b\b\b\b\b\b\b\b\b\b\b\b\b\b\b\b\b\b\b\b\b\b\b\b\b\b\b\b\b\b\b\b\b\b\b\b\b\b\b\b\r",
      "121/150 [=======================>......] - ETA: 0s - loss: 0.1351 - accuracy: 0.9959"
     ]
    },
    {
     "name": "stdout",
     "output_type": "stream",
     "text": [
      "\b\b\b\b\b\b\b\b\b\b\b\b\b\b\b\b\b\b\b\b\b\b\b\b\b\b\b\b\b\b\b\b\b\b\b\b\b\b\b\b\b\b\b\b\b\b\b\b\b\b\b\b\b\b\b\b\b\b\b\b\b\b\b\b\b\b\b\b\b\b\b\b\b\b\b\b\b\b\b\b\b\b\b\b\r",
      "123/150 [=======================>......] - ETA: 0s - loss: 0.1338 - accuracy: 0.9959"
     ]
    },
    {
     "name": "stdout",
     "output_type": "stream",
     "text": [
      "\b\b\b\b\b\b\b\b\b\b\b\b\b\b\b\b\b\b\b\b\b\b\b\b\b\b\b\b\b\b\b\b\b\b\b\b\b\b\b\b\b\b\b\b\b\b\b\b\b\b\b\b\b\b\b\b\b\b\b\b\b\b\b\b\b\b\b\b\b\b\b\b\b\b\b\b\b\b\b\b\b\b\b\b\r",
      "125/150 [========================>.....] - ETA: 0s - loss: 0.1325 - accuracy: 0.9960"
     ]
    },
    {
     "name": "stdout",
     "output_type": "stream",
     "text": [
      "\b\b\b\b\b\b\b\b\b\b\b\b\b\b\b\b\b\b\b\b\b\b\b\b\b\b\b\b\b\b\b\b\b\b\b\b\b\b\b\b\b\b\b\b\b\b\b\b\b\b\b\b\b\b\b\b\b\b\b\b\b\b\b\b\b\b\b\b\b\b\b\b\b\b\b\b\b\b\b\b\b\b\b\b\r",
      "127/150 [========================>.....] - ETA: 0s - loss: 0.1310 - accuracy: 0.9961"
     ]
    },
    {
     "name": "stdout",
     "output_type": "stream",
     "text": [
      "\b\b\b\b\b\b\b\b\b\b\b\b\b\b\b\b\b\b\b\b\b\b\b\b\b\b\b\b\b\b\b\b\b\b\b\b\b\b\b\b\b\b\b\b\b\b\b\b\b\b\b\b\b\b\b\b\b\b\b\b\b\b\b\b\b\b\b\b\b\b\b\b\b\b\b\b\b\b\b\b\b\b\b\b\r",
      "129/150 [========================>.....] - ETA: 0s - loss: 0.1292 - accuracy: 0.9961"
     ]
    },
    {
     "name": "stdout",
     "output_type": "stream",
     "text": [
      "\b\b\b\b\b\b\b\b\b\b\b\b\b\b\b\b\b\b\b\b\b\b\b\b\b\b\b\b\b\b\b\b\b\b\b\b\b\b\b\b\b\b\b\b\b\b\b\b\b\b\b\b\b\b\b\b\b\b\b\b\b\b\b\b\b\b\b\b\b\b\b\b\b\b\b\b\b\b\b\b\b\b\b\b\r",
      "131/150 [=========================>....] - ETA: 0s - loss: 0.1283 - accuracy: 0.9962"
     ]
    },
    {
     "name": "stdout",
     "output_type": "stream",
     "text": [
      "\b\b\b\b\b\b\b\b\b\b\b\b\b\b\b\b\b\b\b\b\b\b\b\b\b\b\b\b\b\b\b\b\b\b\b\b\b\b\b\b\b\b\b\b\b\b\b\b\b\b\b\b\b\b\b\b\b\b\b\b\b\b\b\b\b\b\b\b\b\b\b\b\b\b\b\b\b\b\b\b\b\b\b\b\r",
      "133/150 [=========================>....] - ETA: 0s - loss: 0.1276 - accuracy: 0.9962"
     ]
    },
    {
     "name": "stdout",
     "output_type": "stream",
     "text": [
      "\b\b\b\b\b\b\b\b\b\b\b\b\b\b\b\b\b\b\b\b\b\b\b\b\b\b\b\b\b\b\b\b\b\b\b\b\b\b\b\b\b\b\b\b\b\b\b\b\b\b\b\b\b\b\b\b\b\b\b\b\b\b\b\b\b\b\b\b\b\b\b\b\b\b\b\b\b\b\b\b\b\b\b\b\r",
      "135/150 [==========================>...] - ETA: 0s - loss: 0.1277 - accuracy: 0.9963"
     ]
    },
    {
     "name": "stdout",
     "output_type": "stream",
     "text": [
      "\b\b\b\b\b\b\b\b\b\b\b\b\b\b\b\b\b\b\b\b\b\b\b\b\b\b\b\b\b\b\b\b\b\b\b\b\b\b\b\b\b\b\b\b\b\b\b\b\b\b\b\b\b\b\b\b\b\b\b\b\b\b\b\b\b\b\b\b\b\b\b\b\b\b\b\b\b\b\b\b\b\b\b\b\r",
      "137/150 [==========================>...] - ETA: 0s - loss: 0.1269 - accuracy: 0.9964"
     ]
    },
    {
     "name": "stdout",
     "output_type": "stream",
     "text": [
      "\b\b\b\b\b\b\b\b\b\b\b\b\b\b\b\b\b\b\b\b\b\b\b\b\b\b\b\b\b\b\b\b\b\b\b\b\b\b\b\b\b\b\b\b\b\b\b\b\b\b\b\b\b\b\b\b\b\b\b\b\b\b\b\b\b\b\b\b\b\b\b\b\b\b\b\b\b\b\b\b\b\b\b\b\r",
      "139/150 [==========================>...] - ETA: 0s - loss: 0.1281 - accuracy: 0.9964"
     ]
    },
    {
     "name": "stdout",
     "output_type": "stream",
     "text": [
      "\b\b\b\b\b\b\b\b\b\b\b\b\b\b\b\b\b\b\b\b\b\b\b\b\b\b\b\b\b\b\b\b\b\b\b\b\b\b\b\b\b\b\b\b\b\b\b\b\b\b\b\b\b\b\b\b\b\b\b\b\b\b\b\b\b\b\b\b\b\b\b\b\b\b\b\b\b\b\b\b\b\b\b\b\r",
      "141/150 [===========================>..] - ETA: 0s - loss: 0.1293 - accuracy: 0.9965"
     ]
    },
    {
     "name": "stdout",
     "output_type": "stream",
     "text": [
      "\b\b\b\b\b\b\b\b\b\b\b\b\b\b\b\b\b\b\b\b\b\b\b\b\b\b\b\b\b\b\b\b\b\b\b\b\b\b\b\b\b\b\b\b\b\b\b\b\b\b\b\b\b\b\b\b\b\b\b\b\b\b\b\b\b\b\b\b\b\b\b\b\b\b\b\b\b\b\b\b\b\b\b\b\r",
      "143/150 [===========================>..] - ETA: 0s - loss: 0.1286 - accuracy: 0.9965"
     ]
    },
    {
     "name": "stdout",
     "output_type": "stream",
     "text": [
      "\b\b\b\b\b\b\b\b\b\b\b\b\b\b\b\b\b\b\b\b\b\b\b\b\b\b\b\b\b\b\b\b\b\b\b\b\b\b\b\b\b\b\b\b\b\b\b\b\b\b\b\b\b\b\b\b\b\b\b\b\b\b\b\b\b\b\b\b\b\b\b\b\b\b\b\b\b\b\b\b\b\b\b\b\r",
      "145/150 [============================>.] - ETA: 0s - loss: 0.1283 - accuracy: 0.9966"
     ]
    },
    {
     "name": "stdout",
     "output_type": "stream",
     "text": [
      "\b\b\b\b\b\b\b\b\b\b\b\b\b\b\b\b\b\b\b\b\b\b\b\b\b\b\b\b\b\b\b\b\b\b\b\b\b\b\b\b\b\b\b\b\b\b\b\b\b\b\b\b\b\b\b\b\b\b\b\b\b\b\b\b\b\b\b\b\b\b\b\b\b\b\b\b\b\b\b\b\b\b\b\b\r",
      "147/150 [============================>.] - ETA: 0s - loss: 0.1279 - accuracy: 0.9966"
     ]
    },
    {
     "name": "stdout",
     "output_type": "stream",
     "text": [
      "\b\b\b\b\b\b\b\b\b\b\b\b\b\b\b\b\b\b\b\b\b\b\b\b\b\b\b\b\b\b\b\b\b\b\b\b\b\b\b\b\b\b\b\b\b\b\b\b\b\b\b\b\b\b\b\b\b\b\b\b\b\b\b\b\b\b\b\b\b\b\b\b\b\b\b\b\b\b\b\b\b\b\b\b\r",
      "149/150 [============================>.] - ETA: 0s - loss: 0.1268 - accuracy: 0.9966"
     ]
    },
    {
     "name": "stdout",
     "output_type": "stream",
     "text": [
      "\b\b\b\b\b\b\b\b\b\b\b\b\b\b\b\b\b\b\b\b\b\b\b\b\b\b\b\b\b\b\b\b\b\b\b\b\b\b\b\b\b\b\b\b\b\b\b\b\b\b\b\b\b\b\b\b\b\b\b\b\b\b\b\b\b\b\b\b\b\b\b\b\b\b\b\b\b\b\b\b\b\b\b\b\r",
      "150/150 [==============================] - 6s 37ms/step - loss: 0.1264 - accuracy: 0.9967 - val_loss: 0.1413 - val_accuracy: 0.9600\n"
     ]
    },
    {
     "name": "stdout",
     "output_type": "stream",
     "text": [
      "Epoch 5/10\n"
     ]
    },
    {
     "name": "stdout",
     "output_type": "stream",
     "text": [
      "\r",
      "  1/150 [..............................] - ETA: 4s - loss: 0.0324 - accuracy: 1.0000"
     ]
    },
    {
     "name": "stdout",
     "output_type": "stream",
     "text": [
      "\b\b\b\b\b\b\b\b\b\b\b\b\b\b\b\b\b\b\b\b\b\b\b\b\b\b\b\b\b\b\b\b\b\b\b\b\b\b\b\b\b\b\b\b\b\b\b\b\b\b\b\b\b\b\b\b\b\b\b\b\b\b\b\b\b\b\b\b\b\b\b\b\b\b\b\b\b\b\b\b\b\b\b\b\r",
      "  3/150 [..............................] - ETA: 4s - loss: 0.0701 - accuracy: 1.0000"
     ]
    },
    {
     "name": "stdout",
     "output_type": "stream",
     "text": [
      "\b\b\b\b\b\b\b\b\b\b\b\b\b\b\b\b\b\b\b\b\b\b\b\b\b\b\b\b\b\b\b\b\b\b\b\b\b\b\b\b\b\b\b\b\b\b\b\b\b\b\b\b\b\b\b\b\b\b\b\b\b\b\b\b\b\b\b\b\b\b\b\b\b\b\b\b\b\b\b\b\b\b\b\b\r",
      "  5/150 [>.............................] - ETA: 3s - loss: 0.1108 - accuracy: 1.0000"
     ]
    },
    {
     "name": "stdout",
     "output_type": "stream",
     "text": [
      "\b\b\b\b\b\b\b\b\b\b\b\b\b\b\b\b\b\b\b\b\b\b\b\b\b\b\b\b\b\b\b\b\b\b\b\b\b\b\b\b\b\b\b\b\b\b\b\b\b\b\b\b\b\b\b\b\b\b\b\b\b\b\b\b\b\b\b\b\b\b\b\b\b\b\b\b\b\b\b\b\b\b\b\b\r",
      "  7/150 [>.............................] - ETA: 3s - loss: 0.0901 - accuracy: 1.0000"
     ]
    },
    {
     "name": "stdout",
     "output_type": "stream",
     "text": [
      "\b\b\b\b\b\b\b\b\b\b\b\b\b\b\b\b\b\b\b\b\b\b\b\b\b\b\b\b\b\b\b\b\b\b\b\b\b\b\b\b\b\b\b\b\b\b\b\b\b\b\b\b\b\b\b\b\b\b\b\b\b\b\b\b\b\b\b\b\b\b\b\b\b\b\b\b\b\b\b\b\b\b\b\b\r",
      "  9/150 [>.............................] - ETA: 3s - loss: 0.0807 - accuracy: 1.0000"
     ]
    },
    {
     "name": "stdout",
     "output_type": "stream",
     "text": [
      "\b\b\b\b\b\b\b\b\b\b\b\b\b\b\b\b\b\b\b\b\b\b\b\b\b\b\b\b\b\b\b\b\b\b\b\b\b\b\b\b\b\b\b\b\b\b\b\b\b\b\b\b\b\b\b\b\b\b\b\b\b\b\b\b\b\b\b\b\b\b\b\b\b\b\b\b\b\b\b\b\b\b\b\b\r",
      " 11/150 [=>............................] - ETA: 3s - loss: 0.0745 - accuracy: 1.0000"
     ]
    },
    {
     "name": "stdout",
     "output_type": "stream",
     "text": [
      "\b\b\b\b\b\b\b\b\b\b\b\b\b\b\b\b\b\b\b\b\b\b\b\b\b\b\b\b\b\b\b\b\b\b\b\b\b\b\b\b\b\b\b\b\b\b\b\b\b\b\b\b\b\b\b\b\b\b\b\b\b\b\b\b\b\b\b\b\b\b\b\b\b\b\b\b\b\b\b\b\b\b\b\b\r",
      " 13/150 [=>............................] - ETA: 3s - loss: 0.0882 - accuracy: 1.0000"
     ]
    },
    {
     "name": "stdout",
     "output_type": "stream",
     "text": [
      "\b\b\b\b\b\b\b\b\b\b\b\b\b\b\b\b\b\b\b\b\b\b\b\b\b\b\b\b\b\b\b\b\b\b\b\b\b\b\b\b\b\b\b\b\b\b\b\b\b\b\b\b\b\b\b\b\b\b\b\b\b\b\b\b\b\b\b\b\b\b\b\b\b\b\b\b\b\b\b\b\b\b\b\b\r",
      " 15/150 [==>...........................] - ETA: 3s - loss: 0.1022 - accuracy: 1.0000"
     ]
    },
    {
     "name": "stdout",
     "output_type": "stream",
     "text": [
      "\b\b\b\b\b\b\b\b\b\b\b\b\b\b\b\b\b\b\b\b\b\b\b\b\b\b\b\b\b\b\b\b\b\b\b\b\b\b\b\b\b\b\b\b\b\b\b\b\b\b\b\b\b\b\b\b\b\b\b\b\b\b\b\b\b\b\b\b\b\b\b\b\b\b\b\b\b\b\b\b\b\b\b\b\r",
      " 17/150 [==>...........................] - ETA: 3s - loss: 0.0952 - accuracy: 1.0000"
     ]
    },
    {
     "name": "stdout",
     "output_type": "stream",
     "text": [
      "\b\b\b\b\b\b\b\b\b\b\b\b\b\b\b\b\b\b\b\b\b\b\b\b\b\b\b\b\b\b\b\b\b\b\b\b\b\b\b\b\b\b\b\b\b\b\b\b\b\b\b\b\b\b\b\b\b\b\b\b\b\b\b\b\b\b\b\b\b\b\b\b\b\b\b\b\b\b\b\b\b\b\b\b\r",
      " 19/150 [==>...........................] - ETA: 3s - loss: 0.1018 - accuracy: 1.0000"
     ]
    },
    {
     "name": "stdout",
     "output_type": "stream",
     "text": [
      "\b\b\b\b\b\b\b\b\b\b\b\b\b\b\b\b\b\b\b\b\b\b\b\b\b\b\b\b\b\b\b\b\b\b\b\b\b\b\b\b\b\b\b\b\b\b\b\b\b\b\b\b\b\b\b\b\b\b\b\b\b\b\b\b\b\b\b\b\b\b\b\b\b\b\b\b\b\b\b\b\b\b\b\b\r",
      " 21/150 [===>..........................] - ETA: 3s - loss: 0.1019 - accuracy: 1.0000"
     ]
    },
    {
     "name": "stdout",
     "output_type": "stream",
     "text": [
      "\b\b\b\b\b\b\b\b\b\b\b\b\b\b\b\b\b\b\b\b\b\b\b\b\b\b\b\b\b\b\b\b\b\b\b\b\b\b\b\b\b\b\b\b\b\b\b\b\b\b\b\b\b\b\b\b\b\b\b\b\b\b\b\b\b\b\b\b\b\b\b\b\b\b\b\b\b\b\b\b\b\b\b\b\r",
      " 23/150 [===>..........................] - ETA: 3s - loss: 0.0944 - accuracy: 1.0000"
     ]
    },
    {
     "name": "stdout",
     "output_type": "stream",
     "text": [
      "\b\b\b\b\b\b\b\b\b\b\b\b\b\b\b\b\b\b\b\b\b\b\b\b\b\b\b\b\b\b\b\b\b\b\b\b\b\b\b\b\b\b\b\b\b\b\b\b\b\b\b\b\b\b\b\b\b\b\b\b\b\b\b\b\b\b\b\b\b\b\b\b\b\b\b\b\b\b\b\b\b\b\b\b\r",
      " 25/150 [====>.........................] - ETA: 3s - loss: 0.0927 - accuracy: 1.0000"
     ]
    },
    {
     "name": "stdout",
     "output_type": "stream",
     "text": [
      "\b\b\b\b\b\b\b\b\b\b\b\b\b\b\b\b\b\b\b\b\b\b\b\b\b\b\b\b\b\b\b\b\b\b\b\b\b\b\b\b\b\b\b\b\b\b\b\b\b\b\b\b\b\b\b\b\b\b\b\b\b\b\b\b\b\b\b\b\b\b\b\b\b\b\b\b\b\b\b\b\b\b\b\b\r",
      " 27/150 [====>.........................] - ETA: 3s - loss: 0.1218 - accuracy: 0.9815"
     ]
    },
    {
     "name": "stdout",
     "output_type": "stream",
     "text": [
      "\b\b\b\b\b\b\b\b\b\b\b\b\b\b\b\b\b\b\b\b\b\b\b\b\b\b\b\b\b\b\b\b\b\b\b\b\b\b\b\b\b\b\b\b\b\b\b\b\b\b\b\b\b\b\b\b\b\b\b\b\b\b\b\b\b\b\b\b\b\b\b\b\b\b\b\b\b\b\b\b\b\b\b\b\r",
      " 29/150 [====>.........................] - ETA: 3s - loss: 0.1173 - accuracy: 0.9828"
     ]
    },
    {
     "name": "stdout",
     "output_type": "stream",
     "text": [
      "\b\b\b\b\b\b\b\b\b\b\b\b\b\b\b\b\b\b\b\b\b\b\b\b\b\b\b\b\b\b\b\b\b\b\b\b\b\b\b\b\b\b\b\b\b\b\b\b\b\b\b\b\b\b\b\b\b\b\b\b\b\b\b\b\b\b\b\b\b\b\b\b\b\b\b\b\b\b\b\b\b\b\b\b\r",
      " 31/150 [=====>........................] - ETA: 3s - loss: 0.1148 - accuracy: 0.9839"
     ]
    },
    {
     "name": "stdout",
     "output_type": "stream",
     "text": [
      "\b\b\b\b\b\b\b\b\b\b\b\b\b\b\b\b\b\b\b\b\b\b\b\b\b\b\b\b\b\b\b\b\b\b\b\b\b\b\b\b\b\b\b\b\b\b\b\b\b\b\b\b\b\b\b\b\b\b\b\b\b\b\b\b\b\b\b\b\b\b\b\b\b\b\b\b\b\b\b\b\b\b\b\b\r",
      " 33/150 [=====>........................] - ETA: 3s - loss: 0.1197 - accuracy: 0.9848"
     ]
    },
    {
     "name": "stdout",
     "output_type": "stream",
     "text": [
      "\b\b\b\b\b\b\b\b\b\b\b\b\b\b\b\b\b\b\b\b\b\b\b\b\b\b\b\b\b\b\b\b\b\b\b\b\b\b\b\b\b\b\b\b\b\b\b\b\b\b\b\b\b\b\b\b\b\b\b\b\b\b\b\b\b\b\b\b\b\b\b\b\b\b\b\b\b\b\b\b\b\b\b\b\r",
      " 35/150 [======>.......................] - ETA: 3s - loss: 0.1207 - accuracy: 0.9857"
     ]
    },
    {
     "name": "stdout",
     "output_type": "stream",
     "text": [
      "\b\b\b\b\b\b\b\b\b\b\b\b\b\b\b\b\b\b\b\b\b\b\b\b\b\b\b\b\b\b\b\b\b\b\b\b\b\b\b\b\b\b\b\b\b\b\b\b\b\b\b\b\b\b\b\b\b\b\b\b\b\b\b\b\b\b\b\b\b\b\b\b\b\b\b\b\b\b\b\b\b\b\b\b\r",
      " 37/150 [======>.......................] - ETA: 3s - loss: 0.1204 - accuracy: 0.9865"
     ]
    },
    {
     "name": "stdout",
     "output_type": "stream",
     "text": [
      "\b\b\b\b\b\b\b\b\b\b\b\b\b\b\b\b\b\b\b\b\b\b\b\b\b\b\b\b\b\b\b\b\b\b\b\b\b\b\b\b\b\b\b\b\b\b\b\b\b\b\b\b\b\b\b\b\b\b\b\b\b\b\b\b\b\b\b\b\b\b\b\b\b\b\b\b\b\b\b\b\b\b\b\b\r",
      " 39/150 [======>.......................] - ETA: 3s - loss: 0.1165 - accuracy: 0.9872"
     ]
    },
    {
     "name": "stdout",
     "output_type": "stream",
     "text": [
      "\b\b\b\b\b\b\b\b\b\b\b\b\b\b\b\b\b\b\b\b\b\b\b\b\b\b\b\b\b\b\b\b\b\b\b\b\b\b\b\b\b\b\b\b\b\b\b\b\b\b\b\b\b\b\b\b\b\b\b\b\b\b\b\b\b\b\b\b\b\b\b\b\b\b\b\b\b\b\b\b\b\b\b\b\r",
      " 41/150 [=======>......................] - ETA: 2s - loss: 0.1140 - accuracy: 0.9878"
     ]
    },
    {
     "name": "stdout",
     "output_type": "stream",
     "text": [
      "\b\b\b\b\b\b\b\b\b\b\b\b\b\b\b\b\b\b\b\b\b\b\b\b\b\b\b\b\b\b\b\b\b\b\b\b\b\b\b\b\b\b\b\b\b\b\b\b\b\b\b\b\b\b\b\b\b\b\b\b\b\b\b\b\b\b\b\b\b\b\b\b\b\b\b\b\b\b\b\b\b\b\b\b\r",
      " 43/150 [=======>......................] - ETA: 2s - loss: 0.1137 - accuracy: 0.9884"
     ]
    },
    {
     "name": "stdout",
     "output_type": "stream",
     "text": [
      "\b\b\b\b\b\b\b\b\b\b\b\b\b\b\b\b\b\b\b\b\b\b\b\b\b\b\b\b\b\b\b\b\b\b\b\b\b\b\b\b\b\b\b\b\b\b\b\b\b\b\b\b\b\b\b\b\b\b\b\b\b\b\b\b\b\b\b\b\b\b\b\b\b\b\b\b\b\b\b\b\b\b\b\b\r",
      " 45/150 [========>.....................] - ETA: 2s - loss: 0.1095 - accuracy: 0.9889"
     ]
    },
    {
     "name": "stdout",
     "output_type": "stream",
     "text": [
      "\b\b\b\b\b\b\b\b\b\b\b\b\b\b\b\b\b\b\b\b\b\b\b\b\b\b\b\b\b\b\b\b\b\b\b\b\b\b\b\b\b\b\b\b\b\b\b\b\b\b\b\b\b\b\b\b\b\b\b\b\b\b\b\b\b\b\b\b\b\b\b\b\b\b\b\b\b\b\b\b\b\b\b\b\r",
      " 47/150 [========>.....................] - ETA: 2s - loss: 0.1137 - accuracy: 0.9894"
     ]
    },
    {
     "name": "stdout",
     "output_type": "stream",
     "text": [
      "\b\b\b\b\b\b\b\b\b\b\b\b\b\b\b\b\b\b\b\b\b\b\b\b\b\b\b\b\b\b\b\b\b\b\b\b\b\b\b\b\b\b\b\b\b\b\b\b\b\b\b\b\b\b\b\b\b\b\b\b\b\b\b\b\b\b\b\b\b\b\b\b\b\b\b\b\b\b\b\b\b\b\b\b\r",
      " 49/150 [========>.....................] - ETA: 2s - loss: 0.1128 - accuracy: 0.9898"
     ]
    },
    {
     "name": "stdout",
     "output_type": "stream",
     "text": [
      "\b\b\b\b\b\b\b\b\b\b\b\b\b\b\b\b\b\b\b\b\b\b\b\b\b\b\b\b\b\b\b\b\b\b\b\b\b\b\b\b\b\b\b\b\b\b\b\b\b\b\b\b\b\b\b\b\b\b\b\b\b\b\b\b\b\b\b\b\b\b\b\b\b\b\b\b\b\b\b\b\b\b\b\b\r",
      " 51/150 [=========>....................] - ETA: 2s - loss: 0.1158 - accuracy: 0.9902"
     ]
    },
    {
     "name": "stdout",
     "output_type": "stream",
     "text": [
      "\b\b\b\b\b\b\b\b\b\b\b\b\b\b\b\b\b\b\b\b\b\b\b\b\b\b\b\b\b\b\b\b\b\b\b\b\b\b\b\b\b\b\b\b\b\b\b\b\b\b\b\b\b\b\b\b\b\b\b\b\b\b\b\b\b\b\b\b\b\b\b\b\b\b\b\b\b\b\b\b\b\b\b\b\r",
      " 53/150 [=========>....................] - ETA: 2s - loss: 0.1123 - accuracy: 0.9906"
     ]
    },
    {
     "name": "stdout",
     "output_type": "stream",
     "text": [
      "\b\b\b\b\b\b\b\b\b\b\b\b\b\b\b\b\b\b\b\b\b\b\b\b\b\b\b\b\b\b\b\b\b\b\b\b\b\b\b\b\b\b\b\b\b\b\b\b\b\b\b\b\b\b\b\b\b\b\b\b\b\b\b\b\b\b\b\b\b\b\b\b\b\b\b\b\b\b\b\b\b\b\b\b\r",
      " 55/150 [==========>...................] - ETA: 2s - loss: 0.1146 - accuracy: 0.9909"
     ]
    },
    {
     "name": "stdout",
     "output_type": "stream",
     "text": [
      "\b\b\b\b\b\b\b\b\b\b\b\b\b\b\b\b\b\b\b\b\b\b\b\b\b\b\b\b\b\b\b\b\b\b\b\b\b\b\b\b\b\b\b\b\b\b\b\b\b\b\b\b\b\b\b\b\b\b\b\b\b\b\b\b\b\b\b\b\b\b\b\b\b\b\b\b\b\b\b\b\b\b\b\b\r",
      " 57/150 [==========>...................] - ETA: 2s - loss: 0.1151 - accuracy: 0.9912"
     ]
    },
    {
     "name": "stdout",
     "output_type": "stream",
     "text": [
      "\b\b\b\b\b\b\b\b\b\b\b\b\b\b\b\b\b\b\b\b\b\b\b\b\b\b\b\b\b\b\b\b\b\b\b\b\b\b\b\b\b\b\b\b\b\b\b\b\b\b\b\b\b\b\b\b\b\b\b\b\b\b\b\b\b\b\b\b\b\b\b\b\b\b\b\b\b\b\b\b\b\b\b\b\r",
      " 59/150 [==========>...................] - ETA: 2s - loss: 0.1120 - accuracy: 0.9915"
     ]
    },
    {
     "name": "stdout",
     "output_type": "stream",
     "text": [
      "\b\b\b\b\b\b\b\b\b\b\b\b\b\b\b\b\b\b\b\b\b\b\b\b\b\b\b\b\b\b\b\b\b\b\b\b\b\b\b\b\b\b\b\b\b\b\b\b\b\b\b\b\b\b\b\b\b\b\b\b\b\b\b\b\b\b\b\b\b\b\b\b\b\b\b\b\b\b\b\b\b\b\b\b\r",
      " 61/150 [===========>..................] - ETA: 2s - loss: 0.1101 - accuracy: 0.9918"
     ]
    },
    {
     "name": "stdout",
     "output_type": "stream",
     "text": [
      "\b\b\b\b\b\b\b\b\b\b\b\b\b\b\b\b\b\b\b\b\b\b\b\b\b\b\b\b\b\b\b\b\b\b\b\b\b\b\b\b\b\b\b\b\b\b\b\b\b\b\b\b\b\b\b\b\b\b\b\b\b\b\b\b\b\b\b\b\b\b\b\b\b\b\b\b\b\b\b\b\b\b\b\b\r",
      " 63/150 [===========>..................] - ETA: 2s - loss: 0.1087 - accuracy: 0.9921"
     ]
    },
    {
     "name": "stdout",
     "output_type": "stream",
     "text": [
      "\b\b\b\b\b\b\b\b\b\b\b\b\b\b\b\b\b\b\b\b\b\b\b\b\b\b\b\b\b\b\b\b\b\b\b\b\b\b\b\b\b\b\b\b\b\b\b\b\b\b\b\b\b\b\b\b\b\b\b\b\b\b\b\b\b\b\b\b\b\b\b\b\b\b\b\b\b\b\b\b\b\b\b\b\r",
      " 65/150 [============>.................] - ETA: 2s - loss: 0.1085 - accuracy: 0.9923"
     ]
    },
    {
     "name": "stdout",
     "output_type": "stream",
     "text": [
      "\b\b\b\b\b\b\b\b\b\b\b\b\b\b\b\b\b\b\b\b\b\b\b\b\b\b\b\b\b\b\b\b\b\b\b\b\b\b\b\b\b\b\b\b\b\b\b\b\b\b\b\b\b\b\b\b\b\b\b\b\b\b\b\b\b\b\b\b\b\b\b\b\b\b\b\b\b\b\b\b\b\b\b\b\r",
      " 67/150 [============>.................] - ETA: 2s - loss: 0.1077 - accuracy: 0.9925"
     ]
    },
    {
     "name": "stdout",
     "output_type": "stream",
     "text": [
      "\b\b\b\b\b\b\b\b\b\b\b\b\b\b\b\b\b\b\b\b\b\b\b\b\b\b\b\b\b\b\b\b\b\b\b\b\b\b\b\b\b\b\b\b\b\b\b\b\b\b\b\b\b\b\b\b\b\b\b\b\b\b\b\b\b\b\b\b\b\b\b\b\b\b\b\b\b\b\b\b\b\b\b\b\r",
      " 69/150 [============>.................] - ETA: 2s - loss: 0.1054 - accuracy: 0.9928"
     ]
    },
    {
     "name": "stdout",
     "output_type": "stream",
     "text": [
      "\b\b\b\b\b\b\b\b\b\b\b\b\b\b\b\b\b\b\b\b\b\b\b\b\b\b\b\b\b\b\b\b\b\b\b\b\b\b\b\b\b\b\b\b\b\b\b\b\b\b\b\b\b\b\b\b\b\b\b\b\b\b\b\b\b\b\b\b\b\b\b\b\b\b\b\b\b\b\b\b\b\b\b\b\r",
      " 71/150 [=============>................] - ETA: 2s - loss: 0.1034 - accuracy: 0.9930"
     ]
    },
    {
     "name": "stdout",
     "output_type": "stream",
     "text": [
      "\b\b\b\b\b\b\b\b\b\b\b\b\b\b\b\b\b\b\b\b\b\b\b\b\b\b\b\b\b\b\b\b\b\b\b\b\b\b\b\b\b\b\b\b\b\b\b\b\b\b\b\b\b\b\b\b\b\b\b\b\b\b\b\b\b\b\b\b\b\b\b\b\b\b\b\b\b\b\b\b\b\b\b\b\r",
      " 73/150 [=============>................] - ETA: 2s - loss: 0.1039 - accuracy: 0.9932"
     ]
    },
    {
     "name": "stdout",
     "output_type": "stream",
     "text": [
      "\b\b\b\b\b\b\b\b\b\b\b\b\b\b\b\b\b\b\b\b\b\b\b\b\b\b\b\b\b\b\b\b\b\b\b\b\b\b\b\b\b\b\b\b\b\b\b\b\b\b\b\b\b\b\b\b\b\b\b\b\b\b\b\b\b\b\b\b\b\b\b\b\b\b\b\b\b\b\b\b\b\b\b\b\r",
      " 75/150 [==============>...............] - ETA: 2s - loss: 0.1032 - accuracy: 0.9933"
     ]
    },
    {
     "name": "stdout",
     "output_type": "stream",
     "text": [
      "\b\b\b\b\b\b\b\b\b\b\b\b\b\b\b\b\b\b\b\b\b\b\b\b\b\b\b\b\b\b\b\b\b\b\b\b\b\b\b\b\b\b\b\b\b\b\b\b\b\b\b\b\b\b\b\b\b\b\b\b\b\b\b\b\b\b\b\b\b\b\b\b\b\b\b\b\b\b\b\b\b\b\b\b\r",
      " 77/150 [==============>...............] - ETA: 2s - loss: 0.1026 - accuracy: 0.9935"
     ]
    },
    {
     "name": "stdout",
     "output_type": "stream",
     "text": [
      "\b\b\b\b\b\b\b\b\b\b\b\b\b\b\b\b\b\b\b\b\b\b\b\b\b\b\b\b\b\b\b\b\b\b\b\b\b\b\b\b\b\b\b\b\b\b\b\b\b\b\b\b\b\b\b\b\b\b\b\b\b\b\b\b\b\b\b\b\b\b\b\b\b\b\b\b\b\b\b\b\b\b\b\b\r",
      " 79/150 [==============>...............] - ETA: 1s - loss: 0.1031 - accuracy: 0.9937"
     ]
    },
    {
     "name": "stdout",
     "output_type": "stream",
     "text": [
      "\b\b\b\b\b\b\b\b\b\b\b\b\b\b\b\b\b\b\b\b\b\b\b\b\b\b\b\b\b\b\b\b\b\b\b\b\b\b\b\b\b\b\b\b\b\b\b\b\b\b\b\b\b\b\b\b\b\b\b\b\b\b\b\b\b\b\b\b\b\b\b\b\b\b\b\b\b\b\b\b\b\b\b\b\r",
      " 81/150 [===============>..............] - ETA: 1s - loss: 0.1048 - accuracy: 0.9938"
     ]
    },
    {
     "name": "stdout",
     "output_type": "stream",
     "text": [
      "\b\b\b\b\b\b\b\b\b\b\b\b\b\b\b\b\b\b\b\b\b\b\b\b\b\b\b\b\b\b\b\b\b\b\b\b\b\b\b\b\b\b\b\b\b\b\b\b\b\b\b\b\b\b\b\b\b\b\b\b\b\b\b\b\b\b\b\b\b\b\b\b\b\b\b\b\b\b\b\b\b\b\b\b\r",
      " 83/150 [===============>..............] - ETA: 1s - loss: 0.1027 - accuracy: 0.9940"
     ]
    },
    {
     "name": "stdout",
     "output_type": "stream",
     "text": [
      "\b\b\b\b\b\b\b\b\b\b\b\b\b\b\b\b\b\b\b\b\b\b\b\b\b\b\b\b\b\b\b\b\b\b\b\b\b\b\b\b\b\b\b\b\b\b\b\b\b\b\b\b\b\b\b\b\b\b\b\b\b\b\b\b\b\b\b\b\b\b\b\b\b\b\b\b\b\b\b\b\b\b\b\b\r",
      " 85/150 [================>.............] - ETA: 1s - loss: 0.1047 - accuracy: 0.9941"
     ]
    },
    {
     "name": "stdout",
     "output_type": "stream",
     "text": [
      "\b\b\b\b\b\b\b\b\b\b\b\b\b\b\b\b\b\b\b\b\b\b\b\b\b\b\b\b\b\b\b\b\b\b\b\b\b\b\b\b\b\b\b\b\b\b\b\b\b\b\b\b\b\b\b\b\b\b\b\b\b\b\b\b\b\b\b\b\b\b\b\b\b\b\b\b\b\b\b\b\b\b\b\b\r",
      " 87/150 [================>.............] - ETA: 1s - loss: 0.1039 - accuracy: 0.9943"
     ]
    },
    {
     "name": "stdout",
     "output_type": "stream",
     "text": [
      "\b\b\b\b\b\b\b\b\b\b\b\b\b\b\b\b\b\b\b\b\b\b\b\b\b\b\b\b\b\b\b\b\b\b\b\b\b\b\b\b\b\b\b\b\b\b\b\b\b\b\b\b\b\b\b\b\b\b\b\b\b\b\b\b\b\b\b\b\b\b\b\b\b\b\b\b\b\b\b\b\b\b\b\b\r",
      " 89/150 [================>.............] - ETA: 1s - loss: 0.1026 - accuracy: 0.9944"
     ]
    },
    {
     "name": "stdout",
     "output_type": "stream",
     "text": [
      "\b\b\b\b\b\b\b\b\b\b\b\b\b\b\b\b\b\b\b\b\b\b\b\b\b\b\b\b\b\b\b\b\b\b\b\b\b\b\b\b\b\b\b\b\b\b\b\b\b\b\b\b\b\b\b\b\b\b\b\b\b\b\b\b\b\b\b\b\b\b\b\b\b\b\b\b\b\b\b\b\b\b\b\b\r",
      " 91/150 [=================>............] - ETA: 1s - loss: 0.1015 - accuracy: 0.9945"
     ]
    },
    {
     "name": "stdout",
     "output_type": "stream",
     "text": [
      "\b\b\b\b\b\b\b\b\b\b\b\b\b\b\b\b\b\b\b\b\b\b\b\b\b\b\b\b\b\b\b\b\b\b\b\b\b\b\b\b\b\b\b\b\b\b\b\b\b\b\b\b\b\b\b\b\b\b\b\b\b\b\b\b\b\b\b\b\b\b\b\b\b\b\b\b\b\b\b\b\b\b\b\b\r",
      " 93/150 [=================>............] - ETA: 1s - loss: 0.1000 - accuracy: 0.9946"
     ]
    },
    {
     "name": "stdout",
     "output_type": "stream",
     "text": [
      "\b\b\b\b\b\b\b\b\b\b\b\b\b\b\b\b\b\b\b\b\b\b\b\b\b\b\b\b\b\b\b\b\b\b\b\b\b\b\b\b\b\b\b\b\b\b\b\b\b\b\b\b\b\b\b\b\b\b\b\b\b\b\b\b\b\b\b\b\b\b\b\b\b\b\b\b\b\b\b\b\b\b\b\b\r",
      " 95/150 [==================>...........] - ETA: 1s - loss: 0.0985 - accuracy: 0.9947"
     ]
    },
    {
     "name": "stdout",
     "output_type": "stream",
     "text": [
      "\b\b\b\b\b\b\b\b\b\b\b\b\b\b\b\b\b\b\b\b\b\b\b\b\b\b\b\b\b\b\b\b\b\b\b\b\b\b\b\b\b\b\b\b\b\b\b\b\b\b\b\b\b\b\b\b\b\b\b\b\b\b\b\b\b\b\b\b\b\b\b\b\b\b\b\b\b\b\b\b\b\b\b\b\r",
      " 97/150 [==================>...........] - ETA: 1s - loss: 0.0979 - accuracy: 0.9948"
     ]
    },
    {
     "name": "stdout",
     "output_type": "stream",
     "text": [
      "\b\b\b\b\b\b\b\b\b\b\b\b\b\b\b\b\b\b\b\b\b\b\b\b\b\b\b\b\b\b\b\b\b\b\b\b\b\b\b\b\b\b\b\b\b\b\b\b\b\b\b\b\b\b\b\b\b\b\b\b\b\b\b\b\b\b\b\b\b\b\b\b\b\b\b\b\b\b\b\b\b\b\b\b\r",
      " 99/150 [==================>...........] - ETA: 1s - loss: 0.0969 - accuracy: 0.9949"
     ]
    },
    {
     "name": "stdout",
     "output_type": "stream",
     "text": [
      "\b\b\b\b\b\b\b\b\b\b\b\b\b\b\b\b\b\b\b\b\b\b\b\b\b\b\b\b\b\b\b\b\b\b\b\b\b\b\b\b\b\b\b\b\b\b\b\b\b\b\b\b\b\b\b\b\b\b\b\b\b\b\b\b\b\b\b\b\b\b\b\b\b\b\b\b\b\b\b\b\b\b\b\b\r",
      "101/150 [===================>..........] - ETA: 1s - loss: 0.0960 - accuracy: 0.9950"
     ]
    },
    {
     "name": "stdout",
     "output_type": "stream",
     "text": [
      "\b\b\b\b\b\b\b\b\b\b\b\b\b\b\b\b\b\b\b\b\b\b\b\b\b\b\b\b\b\b\b\b\b\b\b\b\b\b\b\b\b\b\b\b\b\b\b\b\b\b\b\b\b\b\b\b\b\b\b\b\b\b\b\b\b\b\b\b\b\b\b\b\b\b\b\b\b\b\b\b\b\b\b\b\r",
      "103/150 [===================>..........] - ETA: 1s - loss: 0.0947 - accuracy: 0.9951"
     ]
    },
    {
     "name": "stdout",
     "output_type": "stream",
     "text": [
      "\b\b\b\b\b\b\b\b\b\b\b\b\b\b\b\b\b\b\b\b\b\b\b\b\b\b\b\b\b\b\b\b\b\b\b\b\b\b\b\b\b\b\b\b\b\b\b\b\b\b\b\b\b\b\b\b\b\b\b\b\b\b\b\b\b\b\b\b\b\b\b\b\b\b\b\b\b\b\b\b\b\b\b\b\r",
      "105/150 [====================>.........] - ETA: 1s - loss: 0.0946 - accuracy: 0.9952"
     ]
    },
    {
     "name": "stdout",
     "output_type": "stream",
     "text": [
      "\b\b\b\b\b\b\b\b\b\b\b\b\b\b\b\b\b\b\b\b\b\b\b\b\b\b\b\b\b\b\b\b\b\b\b\b\b\b\b\b\b\b\b\b\b\b\b\b\b\b\b\b\b\b\b\b\b\b\b\b\b\b\b\b\b\b\b\b\b\b\b\b\b\b\b\b\b\b\b\b\b\b\b\b\r",
      "107/150 [====================>.........] - ETA: 1s - loss: 0.0932 - accuracy: 0.9953"
     ]
    },
    {
     "name": "stdout",
     "output_type": "stream",
     "text": [
      "\b\b\b\b\b\b\b\b\b\b\b\b\b\b\b\b\b\b\b\b\b\b\b\b\b\b\b\b\b\b\b\b\b\b\b\b\b\b\b\b\b\b\b\b\b\b\b\b\b\b\b\b\b\b\b\b\b\b\b\b\b\b\b\b\b\b\b\b\b\b\b\b\b\b\b\b\b\b\b\b\b\b\b\b\r",
      "109/150 [====================>.........] - ETA: 1s - loss: 0.0925 - accuracy: 0.9954"
     ]
    },
    {
     "name": "stdout",
     "output_type": "stream",
     "text": [
      "\b\b\b\b\b\b\b\b\b\b\b\b\b\b\b\b\b\b\b\b\b\b\b\b\b\b\b\b\b\b\b\b\b\b\b\b\b\b\b\b\b\b\b\b\b\b\b\b\b\b\b\b\b\b\b\b\b\b\b\b\b\b\b\b\b\b\b\b\b\b\b\b\b\b\b\b\b\b\b\b\b\b\b\b\r",
      "111/150 [=====================>........] - ETA: 1s - loss: 0.0925 - accuracy: 0.9955"
     ]
    },
    {
     "name": "stdout",
     "output_type": "stream",
     "text": [
      "\b\b\b\b\b\b\b\b\b\b\b\b\b\b\b\b\b\b\b\b\b\b\b\b\b\b\b\b\b\b\b\b\b\b\b\b\b\b\b\b\b\b\b\b\b\b\b\b\b\b\b\b\b\b\b\b\b\b\b\b\b\b\b\b\b\b\b\b\b\b\b\b\b\b\b\b\b\b\b\b\b\b\b\b\r",
      "113/150 [=====================>........] - ETA: 1s - loss: 0.0913 - accuracy: 0.9956"
     ]
    },
    {
     "name": "stdout",
     "output_type": "stream",
     "text": [
      "\b\b\b\b\b\b\b\b\b\b\b\b\b\b\b\b\b\b\b\b\b\b\b\b\b\b\b\b\b\b\b\b\b\b\b\b\b\b\b\b\b\b\b\b\b\b\b\b\b\b\b\b\b\b\b\b\b\b\b\b\b\b\b\b\b\b\b\b\b\b\b\b\b\b\b\b\b\b\b\b\b\b\b\b\r",
      "115/150 [======================>.......] - ETA: 0s - loss: 0.0915 - accuracy: 0.9957"
     ]
    },
    {
     "name": "stdout",
     "output_type": "stream",
     "text": [
      "\b\b\b\b\b\b\b\b\b\b\b\b\b\b\b\b\b\b\b\b\b\b\b\b\b\b\b\b\b\b\b\b\b\b\b\b\b\b\b\b\b\b\b\b\b\b\b\b\b\b\b\b\b\b\b\b\b\b\b\b\b\b\b\b\b\b\b\b\b\b\b\b\b\b\b\b\b\b\b\b\b\b\b\b\r",
      "117/150 [======================>.......] - ETA: 0s - loss: 0.0909 - accuracy: 0.9957"
     ]
    },
    {
     "name": "stdout",
     "output_type": "stream",
     "text": [
      "\b\b\b\b\b\b\b\b\b\b\b\b\b\b\b\b\b\b\b\b\b\b\b\b\b\b\b\b\b\b\b\b\b\b\b\b\b\b\b\b\b\b\b\b\b\b\b\b\b\b\b\b\b\b\b\b\b\b\b\b\b\b\b\b\b\b\b\b\b\b\b\b\b\b\b\b\b\b\b\b\b\b\b\b\r",
      "119/150 [======================>.......] - ETA: 0s - loss: 0.0912 - accuracy: 0.9958"
     ]
    },
    {
     "name": "stdout",
     "output_type": "stream",
     "text": [
      "\b\b\b\b\b\b\b\b\b\b\b\b\b\b\b\b\b\b\b\b\b\b\b\b\b\b\b\b\b\b\b\b\b\b\b\b\b\b\b\b\b\b\b\b\b\b\b\b\b\b\b\b\b\b\b\b\b\b\b\b\b\b\b\b\b\b\b\b\b\b\b\b\b\b\b\b\b\b\b\b\b\b\b\b\r",
      "121/150 [=======================>......] - ETA: 0s - loss: 0.0914 - accuracy: 0.9959"
     ]
    },
    {
     "name": "stdout",
     "output_type": "stream",
     "text": [
      "\b\b\b\b\b\b\b\b\b\b\b\b\b\b\b\b\b\b\b\b\b\b\b\b\b\b\b\b\b\b\b\b\b\b\b\b\b\b\b\b\b\b\b\b\b\b\b\b\b\b\b\b\b\b\b\b\b\b\b\b\b\b\b\b\b\b\b\b\b\b\b\b\b\b\b\b\b\b\b\b\b\b\b\b\r",
      "123/150 [=======================>......] - ETA: 0s - loss: 0.0908 - accuracy: 0.9959"
     ]
    },
    {
     "name": "stdout",
     "output_type": "stream",
     "text": [
      "\b\b\b\b\b\b\b\b\b\b\b\b\b\b\b\b\b\b\b\b\b\b\b\b\b\b\b\b\b\b\b\b\b\b\b\b\b\b\b\b\b\b\b\b\b\b\b\b\b\b\b\b\b\b\b\b\b\b\b\b\b\b\b\b\b\b\b\b\b\b\b\b\b\b\b\b\b\b\b\b\b\b\b\b\r",
      "125/150 [========================>.....] - ETA: 0s - loss: 0.0903 - accuracy: 0.9960"
     ]
    },
    {
     "name": "stdout",
     "output_type": "stream",
     "text": [
      "\b\b\b\b\b\b\b\b\b\b\b\b\b\b\b\b\b\b\b\b\b\b\b\b\b\b\b\b\b\b\b\b\b\b\b\b\b\b\b\b\b\b\b\b\b\b\b\b\b\b\b\b\b\b\b\b\b\b\b\b\b\b\b\b\b\b\b\b\b\b\b\b\b\b\b\b\b\b\b\b\b\b\b\b\r",
      "127/150 [========================>.....] - ETA: 0s - loss: 0.0920 - accuracy: 0.9961"
     ]
    },
    {
     "name": "stdout",
     "output_type": "stream",
     "text": [
      "\b\b\b\b\b\b\b\b\b\b\b\b\b\b\b\b\b\b\b\b\b\b\b\b\b\b\b\b\b\b\b\b\b\b\b\b\b\b\b\b\b\b\b\b\b\b\b\b\b\b\b\b\b\b\b\b\b\b\b\b\b\b\b\b\b\b\b\b\b\b\b\b\b\b\b\b\b\b\b\b\b\b\b\b\r",
      "129/150 [========================>.....] - ETA: 0s - loss: 0.0922 - accuracy: 0.9961"
     ]
    },
    {
     "name": "stdout",
     "output_type": "stream",
     "text": [
      "\b\b\b\b\b\b\b\b\b\b\b\b\b\b\b\b\b\b\b\b\b\b\b\b\b\b\b\b\b\b\b\b\b\b\b\b\b\b\b\b\b\b\b\b\b\b\b\b\b\b\b\b\b\b\b\b\b\b\b\b\b\b\b\b\b\b\b\b\b\b\b\b\b\b\b\b\b\b\b\b\b\b\b\b\r",
      "131/150 [=========================>....] - ETA: 0s - loss: 0.0915 - accuracy: 0.9962"
     ]
    },
    {
     "name": "stdout",
     "output_type": "stream",
     "text": [
      "\b\b\b\b\b\b\b\b\b\b\b\b\b\b\b\b\b\b\b\b\b\b\b\b\b\b\b\b\b\b\b\b\b\b\b\b\b\b\b\b\b\b\b\b\b\b\b\b\b\b\b\b\b\b\b\b\b\b\b\b\b\b\b\b\b\b\b\b\b\b\b\b\b\b\b\b\b\b\b\b\b\b\b\b\r",
      "133/150 [=========================>....] - ETA: 0s - loss: 0.0911 - accuracy: 0.9962"
     ]
    },
    {
     "name": "stdout",
     "output_type": "stream",
     "text": [
      "\b\b\b\b\b\b\b\b\b\b\b\b\b\b\b\b\b\b\b\b\b\b\b\b\b\b\b\b\b\b\b\b\b\b\b\b\b\b\b\b\b\b\b\b\b\b\b\b\b\b\b\b\b\b\b\b\b\b\b\b\b\b\b\b\b\b\b\b\b\b\b\b\b\b\b\b\b\b\b\b\b\b\b\b\r",
      "135/150 [==========================>...] - ETA: 0s - loss: 0.0909 - accuracy: 0.9963"
     ]
    },
    {
     "name": "stdout",
     "output_type": "stream",
     "text": [
      "\b\b\b\b\b\b\b\b\b\b\b\b\b\b\b\b\b\b\b\b\b\b\b\b\b\b\b\b\b\b\b\b\b\b\b\b\b\b\b\b\b\b\b\b\b\b\b\b\b\b\b\b\b\b\b\b\b\b\b\b\b\b\b\b\b\b\b\b\b\b\b\b\b\b\b\b\b\b\b\b\b\b\b\b\r",
      "137/150 [==========================>...] - ETA: 0s - loss: 0.0903 - accuracy: 0.9964"
     ]
    },
    {
     "name": "stdout",
     "output_type": "stream",
     "text": [
      "\b\b\b\b\b\b\b\b\b\b\b\b\b\b\b\b\b\b\b\b\b\b\b\b\b\b\b\b\b\b\b\b\b\b\b\b\b\b\b\b\b\b\b\b\b\b\b\b\b\b\b\b\b\b\b\b\b\b\b\b\b\b\b\b\b\b\b\b\b\b\b\b\b\b\b\b\b\b\b\b\b\b\b\b\r",
      "139/150 [==========================>...] - ETA: 0s - loss: 0.0897 - accuracy: 0.9964"
     ]
    },
    {
     "name": "stdout",
     "output_type": "stream",
     "text": [
      "\b\b\b\b\b\b\b\b\b\b\b\b\b\b\b\b\b\b\b\b\b\b\b\b\b\b\b\b\b\b\b\b\b\b\b\b\b\b\b\b\b\b\b\b\b\b\b\b\b\b\b\b\b\b\b\b\b\b\b\b\b\b\b\b\b\b\b\b\b\b\b\b\b\b\b\b\b\b\b\b\b\b\b\b\r",
      "141/150 [===========================>..] - ETA: 0s - loss: 0.0887 - accuracy: 0.9965"
     ]
    },
    {
     "name": "stdout",
     "output_type": "stream",
     "text": [
      "\b\b\b\b\b\b\b\b\b\b\b\b\b\b\b\b\b\b\b\b\b\b\b\b\b\b\b\b\b\b\b\b\b\b\b\b\b\b\b\b\b\b\b\b\b\b\b\b\b\b\b\b\b\b\b\b\b\b\b\b\b\b\b\b\b\b\b\b\b\b\b\b\b\b\b\b\b\b\b\b\b\b\b\b\r",
      "143/150 [===========================>..] - ETA: 0s - loss: 0.0912 - accuracy: 0.9965"
     ]
    },
    {
     "name": "stdout",
     "output_type": "stream",
     "text": [
      "\b\b\b\b\b\b\b\b\b\b\b\b\b\b\b\b\b\b\b\b\b\b\b\b\b\b\b\b\b\b\b\b\b\b\b\b\b\b\b\b\b\b\b\b\b\b\b\b\b\b\b\b\b\b\b\b\b\b\b\b\b\b\b\b\b\b\b\b\b\b\b\b\b\b\b\b\b\b\b\b\b\b\b\b\r",
      "145/150 [============================>.] - ETA: 0s - loss: 0.0916 - accuracy: 0.9966"
     ]
    },
    {
     "name": "stdout",
     "output_type": "stream",
     "text": [
      "\b\b\b\b\b\b\b\b\b\b\b\b\b\b\b\b\b\b\b\b\b\b\b\b\b\b\b\b\b\b\b\b\b\b\b\b\b\b\b\b\b\b\b\b\b\b\b\b\b\b\b\b\b\b\b\b\b\b\b\b\b\b\b\b\b\b\b\b\b\b\b\b\b\b\b\b\b\b\b\b\b\b\b\b\r",
      "147/150 [============================>.] - ETA: 0s - loss: 0.0920 - accuracy: 0.9966"
     ]
    },
    {
     "name": "stdout",
     "output_type": "stream",
     "text": [
      "\b\b\b\b\b\b\b\b\b\b\b\b\b\b\b\b\b\b\b\b\b\b\b\b\b\b\b\b\b\b\b\b\b\b\b\b\b\b\b\b\b\b\b\b\b\b\b\b\b\b\b\b\b\b\b\b\b\b\b\b\b\b\b\b\b\b\b\b\b\b\b\b\b\b\b\b\b\b\b\b\b\b\b\b\r",
      "149/150 [============================>.] - ETA: 0s - loss: 0.0916 - accuracy: 0.9966"
     ]
    },
    {
     "name": "stdout",
     "output_type": "stream",
     "text": [
      "\b\b\b\b\b\b\b\b\b\b\b\b\b\b\b\b\b\b\b\b\b\b\b\b\b\b\b\b\b\b\b\b\b\b\b\b\b\b\b\b\b\b\b\b\b\b\b\b\b\b\b\b\b\b\b\b\b\b\b\b\b\b\b\b\b\b\b\b\b\b\b\b\b\b\b\b\b\b\b\b\b\b\b\b\r",
      "150/150 [==============================] - 5s 37ms/step - loss: 0.0913 - accuracy: 0.9967 - val_loss: 0.1253 - val_accuracy: 0.9600\n"
     ]
    },
    {
     "name": "stdout",
     "output_type": "stream",
     "text": [
      "Epoch 6/10\n"
     ]
    },
    {
     "name": "stdout",
     "output_type": "stream",
     "text": [
      "\r",
      "  1/150 [..............................] - ETA: 4s - loss: 0.0124 - accuracy: 1.0000"
     ]
    },
    {
     "name": "stdout",
     "output_type": "stream",
     "text": [
      "\b\b\b\b\b\b\b\b\b\b\b\b\b\b\b\b\b\b\b\b\b\b\b\b\b\b\b\b\b\b\b\b\b\b\b\b\b\b\b\b\b\b\b\b\b\b\b\b\b\b\b\b\b\b\b\b\b\b\b\b\b\b\b\b\b\b\b\b\b\b\b\b\b\b\b\b\b\b\b\b\b\b\b\b\r",
      "  3/150 [..............................] - ETA: 4s - loss: 0.0202 - accuracy: 1.0000"
     ]
    },
    {
     "name": "stdout",
     "output_type": "stream",
     "text": [
      "\b\b\b\b\b\b\b\b\b\b\b\b\b\b\b\b\b\b\b\b\b\b\b\b\b\b\b\b\b\b\b\b\b\b\b\b\b\b\b\b\b\b\b\b\b\b\b\b\b\b\b\b\b\b\b\b\b\b\b\b\b\b\b\b\b\b\b\b\b\b\b\b\b\b\b\b\b\b\b\b\b\b\b\b\r",
      "  5/150 [>.............................] - ETA: 3s - loss: 0.0895 - accuracy: 1.0000"
     ]
    },
    {
     "name": "stdout",
     "output_type": "stream",
     "text": [
      "\b\b\b\b\b\b\b\b\b\b\b\b\b\b\b\b\b\b\b\b\b\b\b\b\b\b\b\b\b\b\b\b\b\b\b\b\b\b\b\b\b\b\b\b\b\b\b\b\b\b\b\b\b\b\b\b\b\b\b\b\b\b\b\b\b\b\b\b\b\b\b\b\b\b\b\b\b\b\b\b\b\b\b\b\r",
      "  7/150 [>.............................] - ETA: 3s - loss: 0.0964 - accuracy: 1.0000"
     ]
    },
    {
     "name": "stdout",
     "output_type": "stream",
     "text": [
      "\b\b\b\b\b\b\b\b\b\b\b\b\b\b\b\b\b\b\b\b\b\b\b\b\b\b\b\b\b\b\b\b\b\b\b\b\b\b\b\b\b\b\b\b\b\b\b\b\b\b\b\b\b\b\b\b\b\b\b\b\b\b\b\b\b\b\b\b\b\b\b\b\b\b\b\b\b\b\b\b\b\b\b\b\r",
      "  9/150 [>.............................] - ETA: 3s - loss: 0.0825 - accuracy: 1.0000"
     ]
    },
    {
     "name": "stdout",
     "output_type": "stream",
     "text": [
      "\b\b\b\b\b\b\b\b\b\b\b\b\b\b\b\b\b\b\b\b\b\b\b\b\b\b\b\b\b\b\b\b\b\b\b\b\b\b\b\b\b\b\b\b\b\b\b\b\b\b\b\b\b\b\b\b\b\b\b\b\b\b\b\b\b\b\b\b\b\b\b\b\b\b\b\b\b\b\b\b\b\b\b\b\r",
      " 11/150 [=>............................] - ETA: 3s - loss: 0.0834 - accuracy: 1.0000"
     ]
    },
    {
     "name": "stdout",
     "output_type": "stream",
     "text": [
      "\b\b\b\b\b\b\b\b\b\b\b\b\b\b\b\b\b\b\b\b\b\b\b\b\b\b\b\b\b\b\b\b\b\b\b\b\b\b\b\b\b\b\b\b\b\b\b\b\b\b\b\b\b\b\b\b\b\b\b\b\b\b\b\b\b\b\b\b\b\b\b\b\b\b\b\b\b\b\b\b\b\b\b\b\r",
      " 13/150 [=>............................] - ETA: 3s - loss: 0.0727 - accuracy: 1.0000"
     ]
    },
    {
     "name": "stdout",
     "output_type": "stream",
     "text": [
      "\b\b\b\b\b\b\b\b\b\b\b\b\b\b\b\b\b\b\b\b\b\b\b\b\b\b\b\b\b\b\b\b\b\b\b\b\b\b\b\b\b\b\b\b\b\b\b\b\b\b\b\b\b\b\b\b\b\b\b\b\b\b\b\b\b\b\b\b\b\b\b\b\b\b\b\b\b\b\b\b\b\b\b\b\r",
      " 15/150 [==>...........................] - ETA: 3s - loss: 0.0808 - accuracy: 1.0000"
     ]
    },
    {
     "name": "stdout",
     "output_type": "stream",
     "text": [
      "\b\b\b\b\b\b\b\b\b\b\b\b\b\b\b\b\b\b\b\b\b\b\b\b\b\b\b\b\b\b\b\b\b\b\b\b\b\b\b\b\b\b\b\b\b\b\b\b\b\b\b\b\b\b\b\b\b\b\b\b\b\b\b\b\b\b\b\b\b\b\b\b\b\b\b\b\b\b\b\b\b\b\b\b\r",
      " 17/150 [==>...........................] - ETA: 3s - loss: 0.0730 - accuracy: 1.0000"
     ]
    },
    {
     "name": "stdout",
     "output_type": "stream",
     "text": [
      "\b\b\b\b\b\b\b\b\b\b\b\b\b\b\b\b\b\b\b\b\b\b\b\b\b\b\b\b\b\b\b\b\b\b\b\b\b\b\b\b\b\b\b\b\b\b\b\b\b\b\b\b\b\b\b\b\b\b\b\b\b\b\b\b\b\b\b\b\b\b\b\b\b\b\b\b\b\b\b\b\b\b\b\b\r",
      " 19/150 [==>...........................] - ETA: 3s - loss: 0.0751 - accuracy: 1.0000"
     ]
    },
    {
     "name": "stdout",
     "output_type": "stream",
     "text": [
      "\b\b\b\b\b\b\b\b\b\b\b\b\b\b\b\b\b\b\b\b\b\b\b\b\b\b\b\b\b\b\b\b\b\b\b\b\b\b\b\b\b\b\b\b\b\b\b\b\b\b\b\b\b\b\b\b\b\b\b\b\b\b\b\b\b\b\b\b\b\b\b\b\b\b\b\b\b\b\b\b\b\b\b\b\r",
      " 21/150 [===>..........................] - ETA: 3s - loss: 0.0728 - accuracy: 1.0000"
     ]
    },
    {
     "name": "stdout",
     "output_type": "stream",
     "text": [
      "\b\b\b\b\b\b\b\b\b\b\b\b\b\b\b\b\b\b\b\b\b\b\b\b\b\b\b\b\b\b\b\b\b\b\b\b\b\b\b\b\b\b\b\b\b\b\b\b\b\b\b\b\b\b\b\b\b\b\b\b\b\b\b\b\b\b\b\b\b\b\b\b\b\b\b\b\b\b\b\b\b\b\b\b\r",
      " 23/150 [===>..........................] - ETA: 3s - loss: 0.0678 - accuracy: 1.0000"
     ]
    },
    {
     "name": "stdout",
     "output_type": "stream",
     "text": [
      "\b\b\b\b\b\b\b\b\b\b\b\b\b\b\b\b\b\b\b\b\b\b\b\b\b\b\b\b\b\b\b\b\b\b\b\b\b\b\b\b\b\b\b\b\b\b\b\b\b\b\b\b\b\b\b\b\b\b\b\b\b\b\b\b\b\b\b\b\b\b\b\b\b\b\b\b\b\b\b\b\b\b\b\b\r",
      " 25/150 [====>.........................] - ETA: 3s - loss: 0.0759 - accuracy: 1.0000"
     ]
    },
    {
     "name": "stdout",
     "output_type": "stream",
     "text": [
      "\b\b\b\b\b\b\b\b\b\b\b\b\b\b\b\b\b\b\b\b\b\b\b\b\b\b\b\b\b\b\b\b\b\b\b\b\b\b\b\b\b\b\b\b\b\b\b\b\b\b\b\b\b\b\b\b\b\b\b\b\b\b\b\b\b\b\b\b\b\b\b\b\b\b\b\b\b\b\b\b\b\b\b\b\r",
      " 27/150 [====>.........................] - ETA: 3s - loss: 0.0754 - accuracy: 1.0000"
     ]
    },
    {
     "name": "stdout",
     "output_type": "stream",
     "text": [
      "\b\b\b\b\b\b\b\b\b\b\b\b\b\b\b\b\b\b\b\b\b\b\b\b\b\b\b\b\b\b\b\b\b\b\b\b\b\b\b\b\b\b\b\b\b\b\b\b\b\b\b\b\b\b\b\b\b\b\b\b\b\b\b\b\b\b\b\b\b\b\b\b\b\b\b\b\b\b\b\b\b\b\b\b\r",
      " 29/150 [====>.........................] - ETA: 3s - loss: 0.0734 - accuracy: 1.0000"
     ]
    },
    {
     "name": "stdout",
     "output_type": "stream",
     "text": [
      "\b\b\b\b\b\b\b\b\b\b\b\b\b\b\b\b\b\b\b\b\b\b\b\b\b\b\b\b\b\b\b\b\b\b\b\b\b\b\b\b\b\b\b\b\b\b\b\b\b\b\b\b\b\b\b\b\b\b\b\b\b\b\b\b\b\b\b\b\b\b\b\b\b\b\b\b\b\b\b\b\b\b\b\b\r",
      " 31/150 [=====>........................] - ETA: 3s - loss: 0.0756 - accuracy: 1.0000"
     ]
    },
    {
     "name": "stdout",
     "output_type": "stream",
     "text": [
      "\b\b\b\b\b\b\b\b\b\b\b\b\b\b\b\b\b\b\b\b\b\b\b\b\b\b\b\b\b\b\b\b\b\b\b\b\b\b\b\b\b\b\b\b\b\b\b\b\b\b\b\b\b\b\b\b\b\b\b\b\b\b\b\b\b\b\b\b\b\b\b\b\b\b\b\b\b\b\b\b\b\b\b\b\r",
      " 33/150 [=====>........................] - ETA: 3s - loss: 0.0809 - accuracy: 1.0000"
     ]
    },
    {
     "name": "stdout",
     "output_type": "stream",
     "text": [
      "\b\b\b\b\b\b\b\b\b\b\b\b\b\b\b\b\b\b\b\b\b\b\b\b\b\b\b\b\b\b\b\b\b\b\b\b\b\b\b\b\b\b\b\b\b\b\b\b\b\b\b\b\b\b\b\b\b\b\b\b\b\b\b\b\b\b\b\b\b\b\b\b\b\b\b\b\b\b\b\b\b\b\b\b\r",
      " 35/150 [======>.......................] - ETA: 3s - loss: 0.0828 - accuracy: 1.0000"
     ]
    },
    {
     "name": "stdout",
     "output_type": "stream",
     "text": [
      "\b\b\b\b\b\b\b\b\b\b\b\b\b\b\b\b\b\b\b\b\b\b\b\b\b\b\b\b\b\b\b\b\b\b\b\b\b\b\b\b\b\b\b\b\b\b\b\b\b\b\b\b\b\b\b\b\b\b\b\b\b\b\b\b\b\b\b\b\b\b\b\b\b\b\b\b\b\b\b\b\b\b\b\b\r",
      " 37/150 [======>.......................] - ETA: 3s - loss: 0.0842 - accuracy: 1.0000"
     ]
    },
    {
     "name": "stdout",
     "output_type": "stream",
     "text": [
      "\b\b\b\b\b\b\b\b\b\b\b\b\b\b\b\b\b\b\b\b\b\b\b\b\b\b\b\b\b\b\b\b\b\b\b\b\b\b\b\b\b\b\b\b\b\b\b\b\b\b\b\b\b\b\b\b\b\b\b\b\b\b\b\b\b\b\b\b\b\b\b\b\b\b\b\b\b\b\b\b\b\b\b\b\r",
      " 39/150 [======>.......................] - ETA: 3s - loss: 0.0827 - accuracy: 1.0000"
     ]
    },
    {
     "name": "stdout",
     "output_type": "stream",
     "text": [
      "\b\b\b\b\b\b\b\b\b\b\b\b\b\b\b\b\b\b\b\b\b\b\b\b\b\b\b\b\b\b\b\b\b\b\b\b\b\b\b\b\b\b\b\b\b\b\b\b\b\b\b\b\b\b\b\b\b\b\b\b\b\b\b\b\b\b\b\b\b\b\b\b\b\b\b\b\b\b\b\b\b\b\b\b\r",
      " 41/150 [=======>......................] - ETA: 3s - loss: 0.0813 - accuracy: 1.0000"
     ]
    },
    {
     "name": "stdout",
     "output_type": "stream",
     "text": [
      "\b\b\b\b\b\b\b\b\b\b\b\b\b\b\b\b\b\b\b\b\b\b\b\b\b\b\b\b\b\b\b\b\b\b\b\b\b\b\b\b\b\b\b\b\b\b\b\b\b\b\b\b\b\b\b\b\b\b\b\b\b\b\b\b\b\b\b\b\b\b\b\b\b\b\b\b\b\b\b\b\b\b\b\b\r",
      " 43/150 [=======>......................] - ETA: 2s - loss: 0.0826 - accuracy: 1.0000"
     ]
    },
    {
     "name": "stdout",
     "output_type": "stream",
     "text": [
      "\b\b\b\b\b\b\b\b\b\b\b\b\b\b\b\b\b\b\b\b\b\b\b\b\b\b\b\b\b\b\b\b\b\b\b\b\b\b\b\b\b\b\b\b\b\b\b\b\b\b\b\b\b\b\b\b\b\b\b\b\b\b\b\b\b\b\b\b\b\b\b\b\b\b\b\b\b\b\b\b\b\b\b\b\r",
      " 45/150 [========>.....................] - ETA: 2s - loss: 0.0830 - accuracy: 1.0000"
     ]
    },
    {
     "name": "stdout",
     "output_type": "stream",
     "text": [
      "\b\b\b\b\b\b\b\b\b\b\b\b\b\b\b\b\b\b\b\b\b\b\b\b\b\b\b\b\b\b\b\b\b\b\b\b\b\b\b\b\b\b\b\b\b\b\b\b\b\b\b\b\b\b\b\b\b\b\b\b\b\b\b\b\b\b\b\b\b\b\b\b\b\b\b\b\b\b\b\b\b\b\b\b\r",
      " 47/150 [========>.....................] - ETA: 2s - loss: 0.0817 - accuracy: 1.0000"
     ]
    },
    {
     "name": "stdout",
     "output_type": "stream",
     "text": [
      "\b\b\b\b\b\b\b\b\b\b\b\b\b\b\b\b\b\b\b\b\b\b\b\b\b\b\b\b\b\b\b\b\b\b\b\b\b\b\b\b\b\b\b\b\b\b\b\b\b\b\b\b\b\b\b\b\b\b\b\b\b\b\b\b\b\b\b\b\b\b\b\b\b\b\b\b\b\b\b\b\b\b\b\b\r",
      " 49/150 [========>.....................] - ETA: 2s - loss: 0.0809 - accuracy: 1.0000"
     ]
    },
    {
     "name": "stdout",
     "output_type": "stream",
     "text": [
      "\b\b\b\b\b\b\b\b\b\b\b\b\b\b\b\b\b\b\b\b\b\b\b\b\b\b\b\b\b\b\b\b\b\b\b\b\b\b\b\b\b\b\b\b\b\b\b\b\b\b\b\b\b\b\b\b\b\b\b\b\b\b\b\b\b\b\b\b\b\b\b\b\b\b\b\b\b\b\b\b\b\b\b\b\r",
      " 51/150 [=========>....................] - ETA: 2s - loss: 0.0810 - accuracy: 1.0000"
     ]
    },
    {
     "name": "stdout",
     "output_type": "stream",
     "text": [
      "\b\b\b\b\b\b\b\b\b\b\b\b\b\b\b\b\b\b\b\b\b\b\b\b\b\b\b\b\b\b\b\b\b\b\b\b\b\b\b\b\b\b\b\b\b\b\b\b\b\b\b\b\b\b\b\b\b\b\b\b\b\b\b\b\b\b\b\b\b\b\b\b\b\b\b\b\b\b\b\b\b\b\b\b\r",
      " 53/150 [=========>....................] - ETA: 2s - loss: 0.0789 - accuracy: 1.0000"
     ]
    },
    {
     "name": "stdout",
     "output_type": "stream",
     "text": [
      "\b\b\b\b\b\b\b\b\b\b\b\b\b\b\b\b\b\b\b\b\b\b\b\b\b\b\b\b\b\b\b\b\b\b\b\b\b\b\b\b\b\b\b\b\b\b\b\b\b\b\b\b\b\b\b\b\b\b\b\b\b\b\b\b\b\b\b\b\b\b\b\b\b\b\b\b\b\b\b\b\b\b\b\b\r",
      " 55/150 [==========>...................] - ETA: 2s - loss: 0.0772 - accuracy: 1.0000"
     ]
    },
    {
     "name": "stdout",
     "output_type": "stream",
     "text": [
      "\b\b\b\b\b\b\b\b\b\b\b\b\b\b\b\b\b\b\b\b\b\b\b\b\b\b\b\b\b\b\b\b\b\b\b\b\b\b\b\b\b\b\b\b\b\b\b\b\b\b\b\b\b\b\b\b\b\b\b\b\b\b\b\b\b\b\b\b\b\b\b\b\b\b\b\b\b\b\b\b\b\b\b\b\r",
      " 57/150 [==========>...................] - ETA: 2s - loss: 0.0763 - accuracy: 1.0000"
     ]
    },
    {
     "name": "stdout",
     "output_type": "stream",
     "text": [
      "\b\b\b\b\b\b\b\b\b\b\b\b\b\b\b\b\b\b\b\b\b\b\b\b\b\b\b\b\b\b\b\b\b\b\b\b\b\b\b\b\b\b\b\b\b\b\b\b\b\b\b\b\b\b\b\b\b\b\b\b\b\b\b\b\b\b\b\b\b\b\b\b\b\b\b\b\b\b\b\b\b\b\b\b\r",
      " 59/150 [==========>...................] - ETA: 2s - loss: 0.0743 - accuracy: 1.0000"
     ]
    },
    {
     "name": "stdout",
     "output_type": "stream",
     "text": [
      "\b\b\b\b\b\b\b\b\b\b\b\b\b\b\b\b\b\b\b\b\b\b\b\b\b\b\b\b\b\b\b\b\b\b\b\b\b\b\b\b\b\b\b\b\b\b\b\b\b\b\b\b\b\b\b\b\b\b\b\b\b\b\b\b\b\b\b\b\b\b\b\b\b\b\b\b\b\b\b\b\b\b\b\b\r",
      " 61/150 [===========>..................] - ETA: 2s - loss: 0.0728 - accuracy: 1.0000"
     ]
    },
    {
     "name": "stdout",
     "output_type": "stream",
     "text": [
      "\b\b\b\b\b\b\b\b\b\b\b\b\b\b\b\b\b\b\b\b\b\b\b\b\b\b\b\b\b\b\b\b\b\b\b\b\b\b\b\b\b\b\b\b\b\b\b\b\b\b\b\b\b\b\b\b\b\b\b\b\b\b\b\b\b\b\b\b\b\b\b\b\b\b\b\b\b\b\b\b\b\b\b\b\r",
      " 63/150 [===========>..................] - ETA: 2s - loss: 0.0735 - accuracy: 1.0000"
     ]
    },
    {
     "name": "stdout",
     "output_type": "stream",
     "text": [
      "\b\b\b\b\b\b\b\b\b\b\b\b\b\b\b\b\b\b\b\b\b\b\b\b\b\b\b\b\b\b\b\b\b\b\b\b\b\b\b\b\b\b\b\b\b\b\b\b\b\b\b\b\b\b\b\b\b\b\b\b\b\b\b\b\b\b\b\b\b\b\b\b\b\b\b\b\b\b\b\b\b\b\b\b\r",
      " 65/150 [============>.................] - ETA: 2s - loss: 0.0732 - accuracy: 1.0000"
     ]
    },
    {
     "name": "stdout",
     "output_type": "stream",
     "text": [
      "\b\b\b\b\b\b\b\b\b\b\b\b\b\b\b\b\b\b\b\b\b\b\b\b\b\b\b\b\b\b\b\b\b\b\b\b\b\b\b\b\b\b\b\b\b\b\b\b\b\b\b\b\b\b\b\b\b\b\b\b\b\b\b\b\b\b\b\b\b\b\b\b\b\b\b\b\b\b\b\b\b\b\b\b\r",
      " 67/150 [============>.................] - ETA: 2s - loss: 0.0729 - accuracy: 1.0000"
     ]
    },
    {
     "name": "stdout",
     "output_type": "stream",
     "text": [
      "\b\b\b\b\b\b\b\b\b\b\b\b\b\b\b\b\b\b\b\b\b\b\b\b\b\b\b\b\b\b\b\b\b\b\b\b\b\b\b\b\b\b\b\b\b\b\b\b\b\b\b\b\b\b\b\b\b\b\b\b\b\b\b\b\b\b\b\b\b\b\b\b\b\b\b\b\b\b\b\b\b\b\b\b\r",
      " 69/150 [============>.................] - ETA: 2s - loss: 0.0731 - accuracy: 1.0000"
     ]
    },
    {
     "name": "stdout",
     "output_type": "stream",
     "text": [
      "\b\b\b\b\b\b\b\b\b\b\b\b\b\b\b\b\b\b\b\b\b\b\b\b\b\b\b\b\b\b\b\b\b\b\b\b\b\b\b\b\b\b\b\b\b\b\b\b\b\b\b\b\b\b\b\b\b\b\b\b\b\b\b\b\b\b\b\b\b\b\b\b\b\b\b\b\b\b\b\b\b\b\b\b\r",
      " 71/150 [=============>................] - ETA: 2s - loss: 0.0722 - accuracy: 1.0000"
     ]
    },
    {
     "name": "stdout",
     "output_type": "stream",
     "text": [
      "\b\b\b\b\b\b\b\b\b\b\b\b\b\b\b\b\b\b\b\b\b\b\b\b\b\b\b\b\b\b\b\b\b\b\b\b\b\b\b\b\b\b\b\b\b\b\b\b\b\b\b\b\b\b\b\b\b\b\b\b\b\b\b\b\b\b\b\b\b\b\b\b\b\b\b\b\b\b\b\b\b\b\b\b\r",
      " 73/150 [=============>................] - ETA: 2s - loss: 0.0712 - accuracy: 1.0000"
     ]
    },
    {
     "name": "stdout",
     "output_type": "stream",
     "text": [
      "\b\b\b\b\b\b\b\b\b\b\b\b\b\b\b\b\b\b\b\b\b\b\b\b\b\b\b\b\b\b\b\b\b\b\b\b\b\b\b\b\b\b\b\b\b\b\b\b\b\b\b\b\b\b\b\b\b\b\b\b\b\b\b\b\b\b\b\b\b\b\b\b\b\b\b\b\b\b\b\b\b\b\b\b\r",
      " 75/150 [==============>...............] - ETA: 2s - loss: 0.0707 - accuracy: 1.0000"
     ]
    },
    {
     "name": "stdout",
     "output_type": "stream",
     "text": [
      "\b\b\b\b\b\b\b\b\b\b\b\b\b\b\b\b\b\b\b\b\b\b\b\b\b\b\b\b\b\b\b\b\b\b\b\b\b\b\b\b\b\b\b\b\b\b\b\b\b\b\b\b\b\b\b\b\b\b\b\b\b\b\b\b\b\b\b\b\b\b\b\b\b\b\b\b\b\b\b\b\b\b\b\b\r",
      " 77/150 [==============>...............] - ETA: 2s - loss: 0.0704 - accuracy: 1.0000"
     ]
    },
    {
     "name": "stdout",
     "output_type": "stream",
     "text": [
      "\b\b\b\b\b\b\b\b\b\b\b\b\b\b\b\b\b\b\b\b\b\b\b\b\b\b\b\b\b\b\b\b\b\b\b\b\b\b\b\b\b\b\b\b\b\b\b\b\b\b\b\b\b\b\b\b\b\b\b\b\b\b\b\b\b\b\b\b\b\b\b\b\b\b\b\b\b\b\b\b\b\b\b\b\r",
      " 79/150 [==============>...............] - ETA: 1s - loss: 0.0694 - accuracy: 1.0000"
     ]
    },
    {
     "name": "stdout",
     "output_type": "stream",
     "text": [
      "\b\b\b\b\b\b\b\b\b\b\b\b\b\b\b\b\b\b\b\b\b\b\b\b\b\b\b\b\b\b\b\b\b\b\b\b\b\b\b\b\b\b\b\b\b\b\b\b\b\b\b\b\b\b\b\b\b\b\b\b\b\b\b\b\b\b\b\b\b\b\b\b\b\b\b\b\b\b\b\b\b\b\b\b\r",
      " 81/150 [===============>..............] - ETA: 1s - loss: 0.0687 - accuracy: 1.0000"
     ]
    },
    {
     "name": "stdout",
     "output_type": "stream",
     "text": [
      "\b\b\b\b\b\b\b\b\b\b\b\b\b\b\b\b\b\b\b\b\b\b\b\b\b\b\b\b\b\b\b\b\b\b\b\b\b\b\b\b\b\b\b\b\b\b\b\b\b\b\b\b\b\b\b\b\b\b\b\b\b\b\b\b\b\b\b\b\b\b\b\b\b\b\b\b\b\b\b\b\b\b\b\b\r",
      " 83/150 [===============>..............] - ETA: 1s - loss: 0.0771 - accuracy: 0.9940"
     ]
    },
    {
     "name": "stdout",
     "output_type": "stream",
     "text": [
      "\b\b\b\b\b\b\b\b\b\b\b\b\b\b\b\b\b\b\b\b\b\b\b\b\b\b\b\b\b\b\b\b\b\b\b\b\b\b\b\b\b\b\b\b\b\b\b\b\b\b\b\b\b\b\b\b\b\b\b\b\b\b\b\b\b\b\b\b\b\b\b\b\b\b\b\b\b\b\b\b\b\b\b\b\r",
      " 85/150 [================>.............] - ETA: 1s - loss: 0.0757 - accuracy: 0.9941"
     ]
    },
    {
     "name": "stdout",
     "output_type": "stream",
     "text": [
      "\b\b\b\b\b\b\b\b\b\b\b\b\b\b\b\b\b\b\b\b\b\b\b\b\b\b\b\b\b\b\b\b\b\b\b\b\b\b\b\b\b\b\b\b\b\b\b\b\b\b\b\b\b\b\b\b\b\b\b\b\b\b\b\b\b\b\b\b\b\b\b\b\b\b\b\b\b\b\b\b\b\b\b\b\r",
      " 87/150 [================>.............] - ETA: 1s - loss: 0.0746 - accuracy: 0.9943"
     ]
    },
    {
     "name": "stdout",
     "output_type": "stream",
     "text": [
      "\b\b\b\b\b\b\b\b\b\b\b\b\b\b\b\b\b\b\b\b\b\b\b\b\b\b\b\b\b\b\b\b\b\b\b\b\b\b\b\b\b\b\b\b\b\b\b\b\b\b\b\b\b\b\b\b\b\b\b\b\b\b\b\b\b\b\b\b\b\b\b\b\b\b\b\b\b\b\b\b\b\b\b\b\r",
      " 89/150 [================>.............] - ETA: 1s - loss: 0.0738 - accuracy: 0.9944"
     ]
    },
    {
     "name": "stdout",
     "output_type": "stream",
     "text": [
      "\b\b\b\b\b\b\b\b\b\b\b\b\b\b\b\b\b\b\b\b\b\b\b\b\b\b\b\b\b\b\b\b\b\b\b\b\b\b\b\b\b\b\b\b\b\b\b\b\b\b\b\b\b\b\b\b\b\b\b\b\b\b\b\b\b\b\b\b\b\b\b\b\b\b\b\b\b\b\b\b\b\b\b\b\r",
      " 91/150 [=================>............] - ETA: 1s - loss: 0.0745 - accuracy: 0.9945"
     ]
    },
    {
     "name": "stdout",
     "output_type": "stream",
     "text": [
      "\b\b\b\b\b\b\b\b\b\b\b\b\b\b\b\b\b\b\b\b\b\b\b\b\b\b\b\b\b\b\b\b\b\b\b\b\b\b\b\b\b\b\b\b\b\b\b\b\b\b\b\b\b\b\b\b\b\b\b\b\b\b\b\b\b\b\b\b\b\b\b\b\b\b\b\b\b\b\b\b\b\b\b\b\r",
      " 93/150 [=================>............] - ETA: 1s - loss: 0.0742 - accuracy: 0.9946"
     ]
    },
    {
     "name": "stdout",
     "output_type": "stream",
     "text": [
      "\b\b\b\b\b\b\b\b\b\b\b\b\b\b\b\b\b\b\b\b\b\b\b\b\b\b\b\b\b\b\b\b\b\b\b\b\b\b\b\b\b\b\b\b\b\b\b\b\b\b\b\b\b\b\b\b\b\b\b\b\b\b\b\b\b\b\b\b\b\b\b\b\b\b\b\b\b\b\b\b\b\b\b\b\r",
      " 95/150 [==================>...........] - ETA: 1s - loss: 0.0730 - accuracy: 0.9947"
     ]
    },
    {
     "name": "stdout",
     "output_type": "stream",
     "text": [
      "\b\b\b\b\b\b\b\b\b\b\b\b\b\b\b\b\b\b\b\b\b\b\b\b\b\b\b\b\b\b\b\b\b\b\b\b\b\b\b\b\b\b\b\b\b\b\b\b\b\b\b\b\b\b\b\b\b\b\b\b\b\b\b\b\b\b\b\b\b\b\b\b\b\b\b\b\b\b\b\b\b\b\b\b\r",
      " 97/150 [==================>...........] - ETA: 1s - loss: 0.0722 - accuracy: 0.9948"
     ]
    },
    {
     "name": "stdout",
     "output_type": "stream",
     "text": [
      "\b\b\b\b\b\b\b\b\b\b\b\b\b\b\b\b\b\b\b\b\b\b\b\b\b\b\b\b\b\b\b\b\b\b\b\b\b\b\b\b\b\b\b\b\b\b\b\b\b\b\b\b\b\b\b\b\b\b\b\b\b\b\b\b\b\b\b\b\b\b\b\b\b\b\b\b\b\b\b\b\b\b\b\b\r",
      " 99/150 [==================>...........] - ETA: 1s - loss: 0.0717 - accuracy: 0.9949"
     ]
    },
    {
     "name": "stdout",
     "output_type": "stream",
     "text": [
      "\b\b\b\b\b\b\b\b\b\b\b\b\b\b\b\b\b\b\b\b\b\b\b\b\b\b\b\b\b\b\b\b\b\b\b\b\b\b\b\b\b\b\b\b\b\b\b\b\b\b\b\b\b\b\b\b\b\b\b\b\b\b\b\b\b\b\b\b\b\b\b\b\b\b\b\b\b\b\b\b\b\b\b\b\r",
      "101/150 [===================>..........] - ETA: 1s - loss: 0.0708 - accuracy: 0.9950"
     ]
    },
    {
     "name": "stdout",
     "output_type": "stream",
     "text": [
      "\b\b\b\b\b\b\b\b\b\b\b\b\b\b\b\b\b\b\b\b\b\b\b\b\b\b\b\b\b\b\b\b\b\b\b\b\b\b\b\b\b\b\b\b\b\b\b\b\b\b\b\b\b\b\b\b\b\b\b\b\b\b\b\b\b\b\b\b\b\b\b\b\b\b\b\b\b\b\b\b\b\b\b\b\r",
      "103/150 [===================>..........] - ETA: 1s - loss: 0.0699 - accuracy: 0.9951"
     ]
    },
    {
     "name": "stdout",
     "output_type": "stream",
     "text": [
      "\b\b\b\b\b\b\b\b\b\b\b\b\b\b\b\b\b\b\b\b\b\b\b\b\b\b\b\b\b\b\b\b\b\b\b\b\b\b\b\b\b\b\b\b\b\b\b\b\b\b\b\b\b\b\b\b\b\b\b\b\b\b\b\b\b\b\b\b\b\b\b\b\b\b\b\b\b\b\b\b\b\b\b\b\r",
      "105/150 [====================>.........] - ETA: 1s - loss: 0.0710 - accuracy: 0.9952"
     ]
    },
    {
     "name": "stdout",
     "output_type": "stream",
     "text": [
      "\b\b\b\b\b\b\b\b\b\b\b\b\b\b\b\b\b\b\b\b\b\b\b\b\b\b\b\b\b\b\b\b\b\b\b\b\b\b\b\b\b\b\b\b\b\b\b\b\b\b\b\b\b\b\b\b\b\b\b\b\b\b\b\b\b\b\b\b\b\b\b\b\b\b\b\b\b\b\b\b\b\b\b\b\r",
      "107/150 [====================>.........] - ETA: 1s - loss: 0.0699 - accuracy: 0.9953"
     ]
    },
    {
     "name": "stdout",
     "output_type": "stream",
     "text": [
      "\b\b\b\b\b\b\b\b\b\b\b\b\b\b\b\b\b\b\b\b\b\b\b\b\b\b\b\b\b\b\b\b\b\b\b\b\b\b\b\b\b\b\b\b\b\b\b\b\b\b\b\b\b\b\b\b\b\b\b\b\b\b\b\b\b\b\b\b\b\b\b\b\b\b\b\b\b\b\b\b\b\b\b\b\r",
      "109/150 [====================>.........] - ETA: 1s - loss: 0.0701 - accuracy: 0.9954"
     ]
    },
    {
     "name": "stdout",
     "output_type": "stream",
     "text": [
      "\b\b\b\b\b\b\b\b\b\b\b\b\b\b\b\b\b\b\b\b\b\b\b\b\b\b\b\b\b\b\b\b\b\b\b\b\b\b\b\b\b\b\b\b\b\b\b\b\b\b\b\b\b\b\b\b\b\b\b\b\b\b\b\b\b\b\b\b\b\b\b\b\b\b\b\b\b\b\b\b\b\b\b\b\r",
      "111/150 [=====================>........] - ETA: 1s - loss: 0.0690 - accuracy: 0.9955"
     ]
    },
    {
     "name": "stdout",
     "output_type": "stream",
     "text": [
      "\b\b\b\b\b\b\b\b\b\b\b\b\b\b\b\b\b\b\b\b\b\b\b\b\b\b\b\b\b\b\b\b\b\b\b\b\b\b\b\b\b\b\b\b\b\b\b\b\b\b\b\b\b\b\b\b\b\b\b\b\b\b\b\b\b\b\b\b\b\b\b\b\b\b\b\b\b\b\b\b\b\b\b\b\r",
      "113/150 [=====================>........] - ETA: 1s - loss: 0.0694 - accuracy: 0.9956"
     ]
    },
    {
     "name": "stdout",
     "output_type": "stream",
     "text": [
      "\b\b\b\b\b\b\b\b\b\b\b\b\b\b\b\b\b\b\b\b\b\b\b\b\b\b\b\b\b\b\b\b\b\b\b\b\b\b\b\b\b\b\b\b\b\b\b\b\b\b\b\b\b\b\b\b\b\b\b\b\b\b\b\b\b\b\b\b\b\b\b\b\b\b\b\b\b\b\b\b\b\b\b\b\r",
      "115/150 [======================>.......] - ETA: 0s - loss: 0.0688 - accuracy: 0.9957"
     ]
    },
    {
     "name": "stdout",
     "output_type": "stream",
     "text": [
      "\b\b\b\b\b\b\b\b\b\b\b\b\b\b\b\b\b\b\b\b\b\b\b\b\b\b\b\b\b\b\b\b\b\b\b\b\b\b\b\b\b\b\b\b\b\b\b\b\b\b\b\b\b\b\b\b\b\b\b\b\b\b\b\b\b\b\b\b\b\b\b\b\b\b\b\b\b\b\b\b\b\b\b\b\r",
      "117/150 [======================>.......] - ETA: 0s - loss: 0.0699 - accuracy: 0.9957"
     ]
    },
    {
     "name": "stdout",
     "output_type": "stream",
     "text": [
      "\b\b\b\b\b\b\b\b\b\b\b\b\b\b\b\b\b\b\b\b\b\b\b\b\b\b\b\b\b\b\b\b\b\b\b\b\b\b\b\b\b\b\b\b\b\b\b\b\b\b\b\b\b\b\b\b\b\b\b\b\b\b\b\b\b\b\b\b\b\b\b\b\b\b\b\b\b\b\b\b\b\b\b\b\r",
      "119/150 [======================>.......] - ETA: 0s - loss: 0.0697 - accuracy: 0.9958"
     ]
    },
    {
     "name": "stdout",
     "output_type": "stream",
     "text": [
      "\b\b\b\b\b\b\b\b\b\b\b\b\b\b\b\b\b\b\b\b\b\b\b\b\b\b\b\b\b\b\b\b\b\b\b\b\b\b\b\b\b\b\b\b\b\b\b\b\b\b\b\b\b\b\b\b\b\b\b\b\b\b\b\b\b\b\b\b\b\b\b\b\b\b\b\b\b\b\b\b\b\b\b\b\r",
      "121/150 [=======================>......] - ETA: 0s - loss: 0.0689 - accuracy: 0.9959"
     ]
    },
    {
     "name": "stdout",
     "output_type": "stream",
     "text": [
      "\b\b\b\b\b\b\b\b\b\b\b\b\b\b\b\b\b\b\b\b\b\b\b\b\b\b\b\b\b\b\b\b\b\b\b\b\b\b\b\b\b\b\b\b\b\b\b\b\b\b\b\b\b\b\b\b\b\b\b\b\b\b\b\b\b\b\b\b\b\b\b\b\b\b\b\b\b\b\b\b\b\b\b\b\r",
      "123/150 [=======================>......] - ETA: 0s - loss: 0.0686 - accuracy: 0.9959"
     ]
    },
    {
     "name": "stdout",
     "output_type": "stream",
     "text": [
      "\b\b\b\b\b\b\b\b\b\b\b\b\b\b\b\b\b\b\b\b\b\b\b\b\b\b\b\b\b\b\b\b\b\b\b\b\b\b\b\b\b\b\b\b\b\b\b\b\b\b\b\b\b\b\b\b\b\b\b\b\b\b\b\b\b\b\b\b\b\b\b\b\b\b\b\b\b\b\b\b\b\b\b\b\r",
      "125/150 [========================>.....] - ETA: 0s - loss: 0.0683 - accuracy: 0.9960"
     ]
    },
    {
     "name": "stdout",
     "output_type": "stream",
     "text": [
      "\b\b\b\b\b\b\b\b\b\b\b\b\b\b\b\b\b\b\b\b\b\b\b\b\b\b\b\b\b\b\b\b\b\b\b\b\b\b\b\b\b\b\b\b\b\b\b\b\b\b\b\b\b\b\b\b\b\b\b\b\b\b\b\b\b\b\b\b\b\b\b\b\b\b\b\b\b\b\b\b\b\b\b\b\r",
      "127/150 [========================>.....] - ETA: 0s - loss: 0.0691 - accuracy: 0.9961"
     ]
    },
    {
     "name": "stdout",
     "output_type": "stream",
     "text": [
      "\b\b\b\b\b\b\b\b\b\b\b\b\b\b\b\b\b\b\b\b\b\b\b\b\b\b\b\b\b\b\b\b\b\b\b\b\b\b\b\b\b\b\b\b\b\b\b\b\b\b\b\b\b\b\b\b\b\b\b\b\b\b\b\b\b\b\b\b\b\b\b\b\b\b\b\b\b\b\b\b\b\b\b\b\r",
      "129/150 [========================>.....] - ETA: 0s - loss: 0.0686 - accuracy: 0.9961"
     ]
    },
    {
     "name": "stdout",
     "output_type": "stream",
     "text": [
      "\b\b\b\b\b\b\b\b\b\b\b\b\b\b\b\b\b\b\b\b\b\b\b\b\b\b\b\b\b\b\b\b\b\b\b\b\b\b\b\b\b\b\b\b\b\b\b\b\b\b\b\b\b\b\b\b\b\b\b\b\b\b\b\b\b\b\b\b\b\b\b\b\b\b\b\b\b\b\b\b\b\b\b\b\r",
      "131/150 [=========================>....] - ETA: 0s - loss: 0.0686 - accuracy: 0.9962"
     ]
    },
    {
     "name": "stdout",
     "output_type": "stream",
     "text": [
      "\b\b\b\b\b\b\b\b\b\b\b\b\b\b\b\b\b\b\b\b\b\b\b\b\b\b\b\b\b\b\b\b\b\b\b\b\b\b\b\b\b\b\b\b\b\b\b\b\b\b\b\b\b\b\b\b\b\b\b\b\b\b\b\b\b\b\b\b\b\b\b\b\b\b\b\b\b\b\b\b\b\b\b\b\r",
      "133/150 [=========================>....] - ETA: 0s - loss: 0.0685 - accuracy: 0.9962"
     ]
    },
    {
     "name": "stdout",
     "output_type": "stream",
     "text": [
      "\b\b\b\b\b\b\b\b\b\b\b\b\b\b\b\b\b\b\b\b\b\b\b\b\b\b\b\b\b\b\b\b\b\b\b\b\b\b\b\b\b\b\b\b\b\b\b\b\b\b\b\b\b\b\b\b\b\b\b\b\b\b\b\b\b\b\b\b\b\b\b\b\b\b\b\b\b\b\b\b\b\b\b\b\r",
      "135/150 [==========================>...] - ETA: 0s - loss: 0.0684 - accuracy: 0.9963"
     ]
    },
    {
     "name": "stdout",
     "output_type": "stream",
     "text": [
      "\b\b\b\b\b\b\b\b\b\b\b\b\b\b\b\b\b\b\b\b\b\b\b\b\b\b\b\b\b\b\b\b\b\b\b\b\b\b\b\b\b\b\b\b\b\b\b\b\b\b\b\b\b\b\b\b\b\b\b\b\b\b\b\b\b\b\b\b\b\b\b\b\b\b\b\b\b\b\b\b\b\b\b\b\r",
      "137/150 [==========================>...] - ETA: 0s - loss: 0.0677 - accuracy: 0.9964"
     ]
    },
    {
     "name": "stdout",
     "output_type": "stream",
     "text": [
      "\b\b\b\b\b\b\b\b\b\b\b\b\b\b\b\b\b\b\b\b\b\b\b\b\b\b\b\b\b\b\b\b\b\b\b\b\b\b\b\b\b\b\b\b\b\b\b\b\b\b\b\b\b\b\b\b\b\b\b\b\b\b\b\b\b\b\b\b\b\b\b\b\b\b\b\b\b\b\b\b\b\b\b\b\r",
      "139/150 [==========================>...] - ETA: 0s - loss: 0.0675 - accuracy: 0.9964"
     ]
    },
    {
     "name": "stdout",
     "output_type": "stream",
     "text": [
      "\b\b\b\b\b\b\b\b\b\b\b\b\b\b\b\b\b\b\b\b\b\b\b\b\b\b\b\b\b\b\b\b\b\b\b\b\b\b\b\b\b\b\b\b\b\b\b\b\b\b\b\b\b\b\b\b\b\b\b\b\b\b\b\b\b\b\b\b\b\b\b\b\b\b\b\b\b\b\b\b\b\b\b\b\r",
      "141/150 [===========================>..] - ETA: 0s - loss: 0.0680 - accuracy: 0.9965"
     ]
    },
    {
     "name": "stdout",
     "output_type": "stream",
     "text": [
      "\b\b\b\b\b\b\b\b\b\b\b\b\b\b\b\b\b\b\b\b\b\b\b\b\b\b\b\b\b\b\b\b\b\b\b\b\b\b\b\b\b\b\b\b\b\b\b\b\b\b\b\b\b\b\b\b\b\b\b\b\b\b\b\b\b\b\b\b\b\b\b\b\b\b\b\b\b\b\b\b\b\b\b\b\r",
      "143/150 [===========================>..] - ETA: 0s - loss: 0.0693 - accuracy: 0.9965"
     ]
    },
    {
     "name": "stdout",
     "output_type": "stream",
     "text": [
      "\b\b\b\b\b\b\b\b\b\b\b\b\b\b\b\b\b\b\b\b\b\b\b\b\b\b\b\b\b\b\b\b\b\b\b\b\b\b\b\b\b\b\b\b\b\b\b\b\b\b\b\b\b\b\b\b\b\b\b\b\b\b\b\b\b\b\b\b\b\b\b\b\b\b\b\b\b\b\b\b\b\b\b\b\r",
      "145/150 [============================>.] - ETA: 0s - loss: 0.0685 - accuracy: 0.9966"
     ]
    },
    {
     "name": "stdout",
     "output_type": "stream",
     "text": [
      "\b\b\b\b\b\b\b\b\b\b\b\b\b\b\b\b\b\b\b\b\b\b\b\b\b\b\b\b\b\b\b\b\b\b\b\b\b\b\b\b\b\b\b\b\b\b\b\b\b\b\b\b\b\b\b\b\b\b\b\b\b\b\b\b\b\b\b\b\b\b\b\b\b\b\b\b\b\b\b\b\b\b\b\b\r",
      "147/150 [============================>.] - ETA: 0s - loss: 0.0686 - accuracy: 0.9966"
     ]
    },
    {
     "name": "stdout",
     "output_type": "stream",
     "text": [
      "\b\b\b\b\b\b\b\b\b\b\b\b\b\b\b\b\b\b\b\b\b\b\b\b\b\b\b\b\b\b\b\b\b\b\b\b\b\b\b\b\b\b\b\b\b\b\b\b\b\b\b\b\b\b\b\b\b\b\b\b\b\b\b\b\b\b\b\b\b\b\b\b\b\b\b\b\b\b\b\b\b\b\b\b\r",
      "149/150 [============================>.] - ETA: 0s - loss: 0.0686 - accuracy: 0.9966"
     ]
    },
    {
     "name": "stdout",
     "output_type": "stream",
     "text": [
      "\b\b\b\b\b\b\b\b\b\b\b\b\b\b\b\b\b\b\b\b\b\b\b\b\b\b\b\b\b\b\b\b\b\b\b\b\b\b\b\b\b\b\b\b\b\b\b\b\b\b\b\b\b\b\b\b\b\b\b\b\b\b\b\b\b\b\b\b\b\b\b\b\b\b\b\b\b\b\b\b\b\b\b\b\r",
      "150/150 [==============================] - 6s 37ms/step - loss: 0.0682 - accuracy: 0.9967 - val_loss: 0.1083 - val_accuracy: 0.9600\n"
     ]
    },
    {
     "name": "stdout",
     "output_type": "stream",
     "text": [
      "Epoch 7/10\n"
     ]
    },
    {
     "name": "stdout",
     "output_type": "stream",
     "text": [
      "\r",
      "  1/150 [..............................] - ETA: 4s - loss: 0.0243 - accuracy: 1.0000"
     ]
    },
    {
     "name": "stdout",
     "output_type": "stream",
     "text": [
      "\b\b\b\b\b\b\b\b\b\b\b\b\b\b\b\b\b\b\b\b\b\b\b\b\b\b\b\b\b\b\b\b\b\b\b\b\b\b\b\b\b\b\b\b\b\b\b\b\b\b\b\b\b\b\b\b\b\b\b\b\b\b\b\b\b\b\b\b\b\b\b\b\b\b\b\b\b\b\b\b\b\b\b\b\r",
      "  3/150 [..............................] - ETA: 4s - loss: 0.0754 - accuracy: 1.0000"
     ]
    },
    {
     "name": "stdout",
     "output_type": "stream",
     "text": [
      "\b\b\b\b\b\b\b\b\b\b\b\b\b\b\b\b\b\b\b\b\b\b\b\b\b\b\b\b\b\b\b\b\b\b\b\b\b\b\b\b\b\b\b\b\b\b\b\b\b\b\b\b\b\b\b\b\b\b\b\b\b\b\b\b\b\b\b\b\b\b\b\b\b\b\b\b\b\b\b\b\b\b\b\b\r",
      "  5/150 [>.............................] - ETA: 3s - loss: 0.0562 - accuracy: 1.0000"
     ]
    },
    {
     "name": "stdout",
     "output_type": "stream",
     "text": [
      "\b\b\b\b\b\b\b\b\b\b\b\b\b\b\b\b\b\b\b\b\b\b\b\b\b\b\b\b\b\b\b\b\b\b\b\b\b\b\b\b\b\b\b\b\b\b\b\b\b\b\b\b\b\b\b\b\b\b\b\b\b\b\b\b\b\b\b\b\b\b\b\b\b\b\b\b\b\b\b\b\b\b\b\b\r",
      "  7/150 [>.............................] - ETA: 3s - loss: 0.0487 - accuracy: 1.0000"
     ]
    },
    {
     "name": "stdout",
     "output_type": "stream",
     "text": [
      "\b\b\b\b\b\b\b\b\b\b\b\b\b\b\b\b\b\b\b\b\b\b\b\b\b\b\b\b\b\b\b\b\b\b\b\b\b\b\b\b\b\b\b\b\b\b\b\b\b\b\b\b\b\b\b\b\b\b\b\b\b\b\b\b\b\b\b\b\b\b\b\b\b\b\b\b\b\b\b\b\b\b\b\b\r",
      "  9/150 [>.............................] - ETA: 3s - loss: 0.0472 - accuracy: 1.0000"
     ]
    },
    {
     "name": "stdout",
     "output_type": "stream",
     "text": [
      "\b\b\b\b\b\b\b\b\b\b\b\b\b\b\b\b\b\b\b\b\b\b\b\b\b\b\b\b\b\b\b\b\b\b\b\b\b\b\b\b\b\b\b\b\b\b\b\b\b\b\b\b\b\b\b\b\b\b\b\b\b\b\b\b\b\b\b\b\b\b\b\b\b\b\b\b\b\b\b\b\b\b\b\b\r",
      " 11/150 [=>............................] - ETA: 3s - loss: 0.0487 - accuracy: 1.0000"
     ]
    },
    {
     "name": "stdout",
     "output_type": "stream",
     "text": [
      "\b\b\b\b\b\b\b\b\b\b\b\b\b\b\b\b\b\b\b\b\b\b\b\b\b\b\b\b\b\b\b\b\b\b\b\b\b\b\b\b\b\b\b\b\b\b\b\b\b\b\b\b\b\b\b\b\b\b\b\b\b\b\b\b\b\b\b\b\b\b\b\b\b\b\b\b\b\b\b\b\b\b\b\b\r",
      " 13/150 [=>............................] - ETA: 3s - loss: 0.0506 - accuracy: 1.0000"
     ]
    },
    {
     "name": "stdout",
     "output_type": "stream",
     "text": [
      "\b\b\b\b\b\b\b\b\b\b\b\b\b\b\b\b\b\b\b\b\b\b\b\b\b\b\b\b\b\b\b\b\b\b\b\b\b\b\b\b\b\b\b\b\b\b\b\b\b\b\b\b\b\b\b\b\b\b\b\b\b\b\b\b\b\b\b\b\b\b\b\b\b\b\b\b\b\b\b\b\b\b\b\b\r",
      " 15/150 [==>...........................] - ETA: 3s - loss: 0.0466 - accuracy: 1.0000"
     ]
    },
    {
     "name": "stdout",
     "output_type": "stream",
     "text": [
      "\b\b\b\b\b\b\b\b\b\b\b\b\b\b\b\b\b\b\b\b\b\b\b\b\b\b\b\b\b\b\b\b\b\b\b\b\b\b\b\b\b\b\b\b\b\b\b\b\b\b\b\b\b\b\b\b\b\b\b\b\b\b\b\b\b\b\b\b\b\b\b\b\b\b\b\b\b\b\b\b\b\b\b\b\r",
      " 17/150 [==>...........................] - ETA: 3s - loss: 0.0462 - accuracy: 1.0000"
     ]
    },
    {
     "name": "stdout",
     "output_type": "stream",
     "text": [
      "\b\b\b\b\b\b\b\b\b\b\b\b\b\b\b\b\b\b\b\b\b\b\b\b\b\b\b\b\b\b\b\b\b\b\b\b\b\b\b\b\b\b\b\b\b\b\b\b\b\b\b\b\b\b\b\b\b\b\b\b\b\b\b\b\b\b\b\b\b\b\b\b\b\b\b\b\b\b\b\b\b\b\b\b\r",
      " 19/150 [==>...........................] - ETA: 3s - loss: 0.0427 - accuracy: 1.0000"
     ]
    },
    {
     "name": "stdout",
     "output_type": "stream",
     "text": [
      "\b\b\b\b\b\b\b\b\b\b\b\b\b\b\b\b\b\b\b\b\b\b\b\b\b\b\b\b\b\b\b\b\b\b\b\b\b\b\b\b\b\b\b\b\b\b\b\b\b\b\b\b\b\b\b\b\b\b\b\b\b\b\b\b\b\b\b\b\b\b\b\b\b\b\b\b\b\b\b\b\b\b\b\b\r",
      " 21/150 [===>..........................] - ETA: 3s - loss: 0.0443 - accuracy: 1.0000"
     ]
    },
    {
     "name": "stdout",
     "output_type": "stream",
     "text": [
      "\b\b\b\b\b\b\b\b\b\b\b\b\b\b\b\b\b\b\b\b\b\b\b\b\b\b\b\b\b\b\b\b\b\b\b\b\b\b\b\b\b\b\b\b\b\b\b\b\b\b\b\b\b\b\b\b\b\b\b\b\b\b\b\b\b\b\b\b\b\b\b\b\b\b\b\b\b\b\b\b\b\b\b\b\r",
      " 23/150 [===>..........................] - ETA: 3s - loss: 0.0467 - accuracy: 1.0000"
     ]
    },
    {
     "name": "stdout",
     "output_type": "stream",
     "text": [
      "\b\b\b\b\b\b\b\b\b\b\b\b\b\b\b\b\b\b\b\b\b\b\b\b\b\b\b\b\b\b\b\b\b\b\b\b\b\b\b\b\b\b\b\b\b\b\b\b\b\b\b\b\b\b\b\b\b\b\b\b\b\b\b\b\b\b\b\b\b\b\b\b\b\b\b\b\b\b\b\b\b\b\b\b\r",
      " 25/150 [====>.........................] - ETA: 3s - loss: 0.0472 - accuracy: 1.0000"
     ]
    },
    {
     "name": "stdout",
     "output_type": "stream",
     "text": [
      "\b\b\b\b\b\b\b\b\b\b\b\b\b\b\b\b\b\b\b\b\b\b\b\b\b\b\b\b\b\b\b\b\b\b\b\b\b\b\b\b\b\b\b\b\b\b\b\b\b\b\b\b\b\b\b\b\b\b\b\b\b\b\b\b\b\b\b\b\b\b\b\b\b\b\b\b\b\b\b\b\b\b\b\b\r",
      " 27/150 [====>.........................] - ETA: 3s - loss: 0.0450 - accuracy: 1.0000"
     ]
    },
    {
     "name": "stdout",
     "output_type": "stream",
     "text": [
      "\b\b\b\b\b\b\b\b\b\b\b\b\b\b\b\b\b\b\b\b\b\b\b\b\b\b\b\b\b\b\b\b\b\b\b\b\b\b\b\b\b\b\b\b\b\b\b\b\b\b\b\b\b\b\b\b\b\b\b\b\b\b\b\b\b\b\b\b\b\b\b\b\b\b\b\b\b\b\b\b\b\b\b\b\r",
      " 29/150 [====>.........................] - ETA: 3s - loss: 0.0433 - accuracy: 1.0000"
     ]
    },
    {
     "name": "stdout",
     "output_type": "stream",
     "text": [
      "\b\b\b\b\b\b\b\b\b\b\b\b\b\b\b\b\b\b\b\b\b\b\b\b\b\b\b\b\b\b\b\b\b\b\b\b\b\b\b\b\b\b\b\b\b\b\b\b\b\b\b\b\b\b\b\b\b\b\b\b\b\b\b\b\b\b\b\b\b\b\b\b\b\b\b\b\b\b\b\b\b\b\b\b\r",
      " 31/150 [=====>........................] - ETA: 3s - loss: 0.0415 - accuracy: 1.0000"
     ]
    },
    {
     "name": "stdout",
     "output_type": "stream",
     "text": [
      "\b\b\b\b\b\b\b\b\b\b\b\b\b\b\b\b\b\b\b\b\b\b\b\b\b\b\b\b\b\b\b\b\b\b\b\b\b\b\b\b\b\b\b\b\b\b\b\b\b\b\b\b\b\b\b\b\b\b\b\b\b\b\b\b\b\b\b\b\b\b\b\b\b\b\b\b\b\b\b\b\b\b\b\b\r",
      " 33/150 [=====>........................] - ETA: 3s - loss: 0.0425 - accuracy: 1.0000"
     ]
    },
    {
     "name": "stdout",
     "output_type": "stream",
     "text": [
      "\b\b\b\b\b\b\b\b\b\b\b\b\b\b\b\b\b\b\b\b\b\b\b\b\b\b\b\b\b\b\b\b\b\b\b\b\b\b\b\b\b\b\b\b\b\b\b\b\b\b\b\b\b\b\b\b\b\b\b\b\b\b\b\b\b\b\b\b\b\b\b\b\b\b\b\b\b\b\b\b\b\b\b\b\r",
      " 35/150 [======>.......................] - ETA: 3s - loss: 0.0473 - accuracy: 1.0000"
     ]
    },
    {
     "name": "stdout",
     "output_type": "stream",
     "text": [
      "\b\b\b\b\b\b\b\b\b\b\b\b\b\b\b\b\b\b\b\b\b\b\b\b\b\b\b\b\b\b\b\b\b\b\b\b\b\b\b\b\b\b\b\b\b\b\b\b\b\b\b\b\b\b\b\b\b\b\b\b\b\b\b\b\b\b\b\b\b\b\b\b\b\b\b\b\b\b\b\b\b\b\b\b\r",
      " 37/150 [======>.......................] - ETA: 3s - loss: 0.0460 - accuracy: 1.0000"
     ]
    },
    {
     "name": "stdout",
     "output_type": "stream",
     "text": [
      "\b\b\b\b\b\b\b\b\b\b\b\b\b\b\b\b\b\b\b\b\b\b\b\b\b\b\b\b\b\b\b\b\b\b\b\b\b\b\b\b\b\b\b\b\b\b\b\b\b\b\b\b\b\b\b\b\b\b\b\b\b\b\b\b\b\b\b\b\b\b\b\b\b\b\b\b\b\b\b\b\b\b\b\b\r",
      " 39/150 [======>.......................] - ETA: 3s - loss: 0.0572 - accuracy: 0.9872"
     ]
    },
    {
     "name": "stdout",
     "output_type": "stream",
     "text": [
      "\b\b\b\b\b\b\b\b\b\b\b\b\b\b\b\b\b\b\b\b\b\b\b\b\b\b\b\b\b\b\b\b\b\b\b\b\b\b\b\b\b\b\b\b\b\b\b\b\b\b\b\b\b\b\b\b\b\b\b\b\b\b\b\b\b\b\b\b\b\b\b\b\b\b\b\b\b\b\b\b\b\b\b\b\r",
      " 41/150 [=======>......................] - ETA: 3s - loss: 0.0644 - accuracy: 0.9878"
     ]
    },
    {
     "name": "stdout",
     "output_type": "stream",
     "text": [
      "\b\b\b\b\b\b\b\b\b\b\b\b\b\b\b\b\b\b\b\b\b\b\b\b\b\b\b\b\b\b\b\b\b\b\b\b\b\b\b\b\b\b\b\b\b\b\b\b\b\b\b\b\b\b\b\b\b\b\b\b\b\b\b\b\b\b\b\b\b\b\b\b\b\b\b\b\b\b\b\b\b\b\b\b\r",
      " 43/150 [=======>......................] - ETA: 2s - loss: 0.0636 - accuracy: 0.9884"
     ]
    },
    {
     "name": "stdout",
     "output_type": "stream",
     "text": [
      "\b\b\b\b\b\b\b\b\b\b\b\b\b\b\b\b\b\b\b\b\b\b\b\b\b\b\b\b\b\b\b\b\b\b\b\b\b\b\b\b\b\b\b\b\b\b\b\b\b\b\b\b\b\b\b\b\b\b\b\b\b\b\b\b\b\b\b\b\b\b\b\b\b\b\b\b\b\b\b\b\b\b\b\b\r",
      " 45/150 [========>.....................] - ETA: 2s - loss: 0.0617 - accuracy: 0.9889"
     ]
    },
    {
     "name": "stdout",
     "output_type": "stream",
     "text": [
      "\b\b\b\b\b\b\b\b\b\b\b\b\b\b\b\b\b\b\b\b\b\b\b\b\b\b\b\b\b\b\b\b\b\b\b\b\b\b\b\b\b\b\b\b\b\b\b\b\b\b\b\b\b\b\b\b\b\b\b\b\b\b\b\b\b\b\b\b\b\b\b\b\b\b\b\b\b\b\b\b\b\b\b\b\r",
      " 47/150 [========>.....................] - ETA: 2s - loss: 0.0604 - accuracy: 0.9894"
     ]
    },
    {
     "name": "stdout",
     "output_type": "stream",
     "text": [
      "\b\b\b\b\b\b\b\b\b\b\b\b\b\b\b\b\b\b\b\b\b\b\b\b\b\b\b\b\b\b\b\b\b\b\b\b\b\b\b\b\b\b\b\b\b\b\b\b\b\b\b\b\b\b\b\b\b\b\b\b\b\b\b\b\b\b\b\b\b\b\b\b\b\b\b\b\b\b\b\b\b\b\b\b\r",
      " 49/150 [========>.....................] - ETA: 2s - loss: 0.0586 - accuracy: 0.9898"
     ]
    },
    {
     "name": "stdout",
     "output_type": "stream",
     "text": [
      "\b\b\b\b\b\b\b\b\b\b\b\b\b\b\b\b\b\b\b\b\b\b\b\b\b\b\b\b\b\b\b\b\b\b\b\b\b\b\b\b\b\b\b\b\b\b\b\b\b\b\b\b\b\b\b\b\b\b\b\b\b\b\b\b\b\b\b\b\b\b\b\b\b\b\b\b\b\b\b\b\b\b\b\b\r",
      " 51/150 [=========>....................] - ETA: 2s - loss: 0.0583 - accuracy: 0.9902"
     ]
    },
    {
     "name": "stdout",
     "output_type": "stream",
     "text": [
      "\b\b\b\b\b\b\b\b\b\b\b\b\b\b\b\b\b\b\b\b\b\b\b\b\b\b\b\b\b\b\b\b\b\b\b\b\b\b\b\b\b\b\b\b\b\b\b\b\b\b\b\b\b\b\b\b\b\b\b\b\b\b\b\b\b\b\b\b\b\b\b\b\b\b\b\b\b\b\b\b\b\b\b\b\r",
      " 53/150 [=========>....................] - ETA: 2s - loss: 0.0577 - accuracy: 0.9906"
     ]
    },
    {
     "name": "stdout",
     "output_type": "stream",
     "text": [
      "\b\b\b\b\b\b\b\b\b\b\b\b\b\b\b\b\b\b\b\b\b\b\b\b\b\b\b\b\b\b\b\b\b\b\b\b\b\b\b\b\b\b\b\b\b\b\b\b\b\b\b\b\b\b\b\b\b\b\b\b\b\b\b\b\b\b\b\b\b\b\b\b\b\b\b\b\b\b\b\b\b\b\b\b\r",
      " 55/150 [==========>...................] - ETA: 2s - loss: 0.0580 - accuracy: 0.9909"
     ]
    },
    {
     "name": "stdout",
     "output_type": "stream",
     "text": [
      "\b\b\b\b\b\b\b\b\b\b\b\b\b\b\b\b\b\b\b\b\b\b\b\b\b\b\b\b\b\b\b\b\b\b\b\b\b\b\b\b\b\b\b\b\b\b\b\b\b\b\b\b\b\b\b\b\b\b\b\b\b\b\b\b\b\b\b\b\b\b\b\b\b\b\b\b\b\b\b\b\b\b\b\b\r",
      " 57/150 [==========>...................] - ETA: 2s - loss: 0.0575 - accuracy: 0.9912"
     ]
    },
    {
     "name": "stdout",
     "output_type": "stream",
     "text": [
      "\b\b\b\b\b\b\b\b\b\b\b\b\b\b\b\b\b\b\b\b\b\b\b\b\b\b\b\b\b\b\b\b\b\b\b\b\b\b\b\b\b\b\b\b\b\b\b\b\b\b\b\b\b\b\b\b\b\b\b\b\b\b\b\b\b\b\b\b\b\b\b\b\b\b\b\b\b\b\b\b\b\b\b\b\r",
      " 59/150 [==========>...................] - ETA: 2s - loss: 0.0563 - accuracy: 0.9915"
     ]
    },
    {
     "name": "stdout",
     "output_type": "stream",
     "text": [
      "\b\b\b\b\b\b\b\b\b\b\b\b\b\b\b\b\b\b\b\b\b\b\b\b\b\b\b\b\b\b\b\b\b\b\b\b\b\b\b\b\b\b\b\b\b\b\b\b\b\b\b\b\b\b\b\b\b\b\b\b\b\b\b\b\b\b\b\b\b\b\b\b\b\b\b\b\b\b\b\b\b\b\b\b\r",
      " 61/150 [===========>..................] - ETA: 2s - loss: 0.0558 - accuracy: 0.9918"
     ]
    },
    {
     "name": "stdout",
     "output_type": "stream",
     "text": [
      "\b\b\b\b\b\b\b\b\b\b\b\b\b\b\b\b\b\b\b\b\b\b\b\b\b\b\b\b\b\b\b\b\b\b\b\b\b\b\b\b\b\b\b\b\b\b\b\b\b\b\b\b\b\b\b\b\b\b\b\b\b\b\b\b\b\b\b\b\b\b\b\b\b\b\b\b\b\b\b\b\b\b\b\b\r",
      " 63/150 [===========>..................] - ETA: 2s - loss: 0.0555 - accuracy: 0.9921"
     ]
    },
    {
     "name": "stdout",
     "output_type": "stream",
     "text": [
      "\b\b\b\b\b\b\b\b\b\b\b\b\b\b\b\b\b\b\b\b\b\b\b\b\b\b\b\b\b\b\b\b\b\b\b\b\b\b\b\b\b\b\b\b\b\b\b\b\b\b\b\b\b\b\b\b\b\b\b\b\b\b\b\b\b\b\b\b\b\b\b\b\b\b\b\b\b\b\b\b\b\b\b\b\r",
      " 65/150 [============>.................] - ETA: 2s - loss: 0.0587 - accuracy: 0.9923"
     ]
    },
    {
     "name": "stdout",
     "output_type": "stream",
     "text": [
      "\b\b\b\b\b\b\b\b\b\b\b\b\b\b\b\b\b\b\b\b\b\b\b\b\b\b\b\b\b\b\b\b\b\b\b\b\b\b\b\b\b\b\b\b\b\b\b\b\b\b\b\b\b\b\b\b\b\b\b\b\b\b\b\b\b\b\b\b\b\b\b\b\b\b\b\b\b\b\b\b\b\b\b\b\r",
      " 67/150 [============>.................] - ETA: 2s - loss: 0.0571 - accuracy: 0.9925"
     ]
    },
    {
     "name": "stdout",
     "output_type": "stream",
     "text": [
      "\b\b\b\b\b\b\b\b\b\b\b\b\b\b\b\b\b\b\b\b\b\b\b\b\b\b\b\b\b\b\b\b\b\b\b\b\b\b\b\b\b\b\b\b\b\b\b\b\b\b\b\b\b\b\b\b\b\b\b\b\b\b\b\b\b\b\b\b\b\b\b\b\b\b\b\b\b\b\b\b\b\b\b\b\r",
      " 69/150 [============>.................] - ETA: 2s - loss: 0.0587 - accuracy: 0.9928"
     ]
    },
    {
     "name": "stdout",
     "output_type": "stream",
     "text": [
      "\b\b\b\b\b\b\b\b\b\b\b\b\b\b\b\b\b\b\b\b\b\b\b\b\b\b\b\b\b\b\b\b\b\b\b\b\b\b\b\b\b\b\b\b\b\b\b\b\b\b\b\b\b\b\b\b\b\b\b\b\b\b\b\b\b\b\b\b\b\b\b\b\b\b\b\b\b\b\b\b\b\b\b\b\r",
      " 71/150 [=============>................] - ETA: 2s - loss: 0.0597 - accuracy: 0.9930"
     ]
    },
    {
     "name": "stdout",
     "output_type": "stream",
     "text": [
      "\b\b\b\b\b\b\b\b\b\b\b\b\b\b\b\b\b\b\b\b\b\b\b\b\b\b\b\b\b\b\b\b\b\b\b\b\b\b\b\b\b\b\b\b\b\b\b\b\b\b\b\b\b\b\b\b\b\b\b\b\b\b\b\b\b\b\b\b\b\b\b\b\b\b\b\b\b\b\b\b\b\b\b\b\r",
      " 73/150 [=============>................] - ETA: 2s - loss: 0.0596 - accuracy: 0.9932"
     ]
    },
    {
     "name": "stdout",
     "output_type": "stream",
     "text": [
      "\b\b\b\b\b\b\b\b\b\b\b\b\b\b\b\b\b\b\b\b\b\b\b\b\b\b\b\b\b\b\b\b\b\b\b\b\b\b\b\b\b\b\b\b\b\b\b\b\b\b\b\b\b\b\b\b\b\b\b\b\b\b\b\b\b\b\b\b\b\b\b\b\b\b\b\b\b\b\b\b\b\b\b\b\r",
      " 75/150 [==============>...............] - ETA: 2s - loss: 0.0587 - accuracy: 0.9933"
     ]
    },
    {
     "name": "stdout",
     "output_type": "stream",
     "text": [
      "\b\b\b\b\b\b\b\b\b\b\b\b\b\b\b\b\b\b\b\b\b\b\b\b\b\b\b\b\b\b\b\b\b\b\b\b\b\b\b\b\b\b\b\b\b\b\b\b\b\b\b\b\b\b\b\b\b\b\b\b\b\b\b\b\b\b\b\b\b\b\b\b\b\b\b\b\b\b\b\b\b\b\b\b\r",
      " 77/150 [==============>...............] - ETA: 2s - loss: 0.0576 - accuracy: 0.9935"
     ]
    },
    {
     "name": "stdout",
     "output_type": "stream",
     "text": [
      "\b\b\b\b\b\b\b\b\b\b\b\b\b\b\b\b\b\b\b\b\b\b\b\b\b\b\b\b\b\b\b\b\b\b\b\b\b\b\b\b\b\b\b\b\b\b\b\b\b\b\b\b\b\b\b\b\b\b\b\b\b\b\b\b\b\b\b\b\b\b\b\b\b\b\b\b\b\b\b\b\b\b\b\b\r",
      " 79/150 [==============>...............] - ETA: 1s - loss: 0.0578 - accuracy: 0.9937"
     ]
    },
    {
     "name": "stdout",
     "output_type": "stream",
     "text": [
      "\b\b\b\b\b\b\b\b\b\b\b\b\b\b\b\b\b\b\b\b\b\b\b\b\b\b\b\b\b\b\b\b\b\b\b\b\b\b\b\b\b\b\b\b\b\b\b\b\b\b\b\b\b\b\b\b\b\b\b\b\b\b\b\b\b\b\b\b\b\b\b\b\b\b\b\b\b\b\b\b\b\b\b\b\r",
      " 81/150 [===============>..............] - ETA: 1s - loss: 0.0577 - accuracy: 0.9938"
     ]
    },
    {
     "name": "stdout",
     "output_type": "stream",
     "text": [
      "\b\b\b\b\b\b\b\b\b\b\b\b\b\b\b\b\b\b\b\b\b\b\b\b\b\b\b\b\b\b\b\b\b\b\b\b\b\b\b\b\b\b\b\b\b\b\b\b\b\b\b\b\b\b\b\b\b\b\b\b\b\b\b\b\b\b\b\b\b\b\b\b\b\b\b\b\b\b\b\b\b\b\b\b\r",
      " 83/150 [===============>..............] - ETA: 1s - loss: 0.0604 - accuracy: 0.9940"
     ]
    },
    {
     "name": "stdout",
     "output_type": "stream",
     "text": [
      "\b\b\b\b\b\b\b\b\b\b\b\b\b\b\b\b\b\b\b\b\b\b\b\b\b\b\b\b\b\b\b\b\b\b\b\b\b\b\b\b\b\b\b\b\b\b\b\b\b\b\b\b\b\b\b\b\b\b\b\b\b\b\b\b\b\b\b\b\b\b\b\b\b\b\b\b\b\b\b\b\b\b\b\b\r",
      " 85/150 [================>.............] - ETA: 1s - loss: 0.0605 - accuracy: 0.9941"
     ]
    },
    {
     "name": "stdout",
     "output_type": "stream",
     "text": [
      "\b\b\b\b\b\b\b\b\b\b\b\b\b\b\b\b\b\b\b\b\b\b\b\b\b\b\b\b\b\b\b\b\b\b\b\b\b\b\b\b\b\b\b\b\b\b\b\b\b\b\b\b\b\b\b\b\b\b\b\b\b\b\b\b\b\b\b\b\b\b\b\b\b\b\b\b\b\b\b\b\b\b\b\b\r",
      " 87/150 [================>.............] - ETA: 1s - loss: 0.0599 - accuracy: 0.9943"
     ]
    },
    {
     "name": "stdout",
     "output_type": "stream",
     "text": [
      "\b\b\b\b\b\b\b\b\b\b\b\b\b\b\b\b\b\b\b\b\b\b\b\b\b\b\b\b\b\b\b\b\b\b\b\b\b\b\b\b\b\b\b\b\b\b\b\b\b\b\b\b\b\b\b\b\b\b\b\b\b\b\b\b\b\b\b\b\b\b\b\b\b\b\b\b\b\b\b\b\b\b\b\b\r",
      " 89/150 [================>.............] - ETA: 1s - loss: 0.0596 - accuracy: 0.9944"
     ]
    },
    {
     "name": "stdout",
     "output_type": "stream",
     "text": [
      "\b\b\b\b\b\b\b\b\b\b\b\b\b\b\b\b\b\b\b\b\b\b\b\b\b\b\b\b\b\b\b\b\b\b\b\b\b\b\b\b\b\b\b\b\b\b\b\b\b\b\b\b\b\b\b\b\b\b\b\b\b\b\b\b\b\b\b\b\b\b\b\b\b\b\b\b\b\b\b\b\b\b\b\b\r",
      " 91/150 [=================>............] - ETA: 1s - loss: 0.0601 - accuracy: 0.9945"
     ]
    },
    {
     "name": "stdout",
     "output_type": "stream",
     "text": [
      "\b\b\b\b\b\b\b\b\b\b\b\b\b\b\b\b\b\b\b\b\b\b\b\b\b\b\b\b\b\b\b\b\b\b\b\b\b\b\b\b\b\b\b\b\b\b\b\b\b\b\b\b\b\b\b\b\b\b\b\b\b\b\b\b\b\b\b\b\b\b\b\b\b\b\b\b\b\b\b\b\b\b\b\b\r",
      " 93/150 [=================>............] - ETA: 1s - loss: 0.0594 - accuracy: 0.9946"
     ]
    },
    {
     "name": "stdout",
     "output_type": "stream",
     "text": [
      "\b\b\b\b\b\b\b\b\b\b\b\b\b\b\b\b\b\b\b\b\b\b\b\b\b\b\b\b\b\b\b\b\b\b\b\b\b\b\b\b\b\b\b\b\b\b\b\b\b\b\b\b\b\b\b\b\b\b\b\b\b\b\b\b\b\b\b\b\b\b\b\b\b\b\b\b\b\b\b\b\b\b\b\b\r",
      " 95/150 [==================>...........] - ETA: 1s - loss: 0.0592 - accuracy: 0.9947"
     ]
    },
    {
     "name": "stdout",
     "output_type": "stream",
     "text": [
      "\b\b\b\b\b\b\b\b\b\b\b\b\b\b\b\b\b\b\b\b\b\b\b\b\b\b\b\b\b\b\b\b\b\b\b\b\b\b\b\b\b\b\b\b\b\b\b\b\b\b\b\b\b\b\b\b\b\b\b\b\b\b\b\b\b\b\b\b\b\b\b\b\b\b\b\b\b\b\b\b\b\b\b\b\r",
      " 97/150 [==================>...........] - ETA: 1s - loss: 0.0589 - accuracy: 0.9948"
     ]
    },
    {
     "name": "stdout",
     "output_type": "stream",
     "text": [
      "\b\b\b\b\b\b\b\b\b\b\b\b\b\b\b\b\b\b\b\b\b\b\b\b\b\b\b\b\b\b\b\b\b\b\b\b\b\b\b\b\b\b\b\b\b\b\b\b\b\b\b\b\b\b\b\b\b\b\b\b\b\b\b\b\b\b\b\b\b\b\b\b\b\b\b\b\b\b\b\b\b\b\b\b\r",
      " 99/150 [==================>...........] - ETA: 1s - loss: 0.0594 - accuracy: 0.9949"
     ]
    },
    {
     "name": "stdout",
     "output_type": "stream",
     "text": [
      "\b\b\b\b\b\b\b\b\b\b\b\b\b\b\b\b\b\b\b\b\b\b\b\b\b\b\b\b\b\b\b\b\b\b\b\b\b\b\b\b\b\b\b\b\b\b\b\b\b\b\b\b\b\b\b\b\b\b\b\b\b\b\b\b\b\b\b\b\b\b\b\b\b\b\b\b\b\b\b\b\b\b\b\b\r",
      "101/150 [===================>..........] - ETA: 1s - loss: 0.0583 - accuracy: 0.9950"
     ]
    },
    {
     "name": "stdout",
     "output_type": "stream",
     "text": [
      "\b\b\b\b\b\b\b\b\b\b\b\b\b\b\b\b\b\b\b\b\b\b\b\b\b\b\b\b\b\b\b\b\b\b\b\b\b\b\b\b\b\b\b\b\b\b\b\b\b\b\b\b\b\b\b\b\b\b\b\b\b\b\b\b\b\b\b\b\b\b\b\b\b\b\b\b\b\b\b\b\b\b\b\b\r",
      "103/150 [===================>..........] - ETA: 1s - loss: 0.0588 - accuracy: 0.9951"
     ]
    },
    {
     "name": "stdout",
     "output_type": "stream",
     "text": [
      "\b\b\b\b\b\b\b\b\b\b\b\b\b\b\b\b\b\b\b\b\b\b\b\b\b\b\b\b\b\b\b\b\b\b\b\b\b\b\b\b\b\b\b\b\b\b\b\b\b\b\b\b\b\b\b\b\b\b\b\b\b\b\b\b\b\b\b\b\b\b\b\b\b\b\b\b\b\b\b\b\b\b\b\b\r",
      "105/150 [====================>.........] - ETA: 1s - loss: 0.0582 - accuracy: 0.9952"
     ]
    },
    {
     "name": "stdout",
     "output_type": "stream",
     "text": [
      "\b\b\b\b\b\b\b\b\b\b\b\b\b\b\b\b\b\b\b\b\b\b\b\b\b\b\b\b\b\b\b\b\b\b\b\b\b\b\b\b\b\b\b\b\b\b\b\b\b\b\b\b\b\b\b\b\b\b\b\b\b\b\b\b\b\b\b\b\b\b\b\b\b\b\b\b\b\b\b\b\b\b\b\b\r",
      "107/150 [====================>.........] - ETA: 1s - loss: 0.0575 - accuracy: 0.9953"
     ]
    },
    {
     "name": "stdout",
     "output_type": "stream",
     "text": [
      "\b\b\b\b\b\b\b\b\b\b\b\b\b\b\b\b\b\b\b\b\b\b\b\b\b\b\b\b\b\b\b\b\b\b\b\b\b\b\b\b\b\b\b\b\b\b\b\b\b\b\b\b\b\b\b\b\b\b\b\b\b\b\b\b\b\b\b\b\b\b\b\b\b\b\b\b\b\b\b\b\b\b\b\b\r",
      "109/150 [====================>.........] - ETA: 1s - loss: 0.0567 - accuracy: 0.9954"
     ]
    },
    {
     "name": "stdout",
     "output_type": "stream",
     "text": [
      "\b\b\b\b\b\b\b\b\b\b\b\b\b\b\b\b\b\b\b\b\b\b\b\b\b\b\b\b\b\b\b\b\b\b\b\b\b\b\b\b\b\b\b\b\b\b\b\b\b\b\b\b\b\b\b\b\b\b\b\b\b\b\b\b\b\b\b\b\b\b\b\b\b\b\b\b\b\b\b\b\b\b\b\b\r",
      "111/150 [=====================>........] - ETA: 1s - loss: 0.0564 - accuracy: 0.9955"
     ]
    },
    {
     "name": "stdout",
     "output_type": "stream",
     "text": [
      "\b\b\b\b\b\b\b\b\b\b\b\b\b\b\b\b\b\b\b\b\b\b\b\b\b\b\b\b\b\b\b\b\b\b\b\b\b\b\b\b\b\b\b\b\b\b\b\b\b\b\b\b\b\b\b\b\b\b\b\b\b\b\b\b\b\b\b\b\b\b\b\b\b\b\b\b\b\b\b\b\b\b\b\b\r",
      "113/150 [=====================>........] - ETA: 1s - loss: 0.0560 - accuracy: 0.9956"
     ]
    },
    {
     "name": "stdout",
     "output_type": "stream",
     "text": [
      "\b\b\b\b\b\b\b\b\b\b\b\b\b\b\b\b\b\b\b\b\b\b\b\b\b\b\b\b\b\b\b\b\b\b\b\b\b\b\b\b\b\b\b\b\b\b\b\b\b\b\b\b\b\b\b\b\b\b\b\b\b\b\b\b\b\b\b\b\b\b\b\b\b\b\b\b\b\b\b\b\b\b\b\b\r",
      "115/150 [======================>.......] - ETA: 0s - loss: 0.0554 - accuracy: 0.9957"
     ]
    },
    {
     "name": "stdout",
     "output_type": "stream",
     "text": [
      "\b\b\b\b\b\b\b\b\b\b\b\b\b\b\b\b\b\b\b\b\b\b\b\b\b\b\b\b\b\b\b\b\b\b\b\b\b\b\b\b\b\b\b\b\b\b\b\b\b\b\b\b\b\b\b\b\b\b\b\b\b\b\b\b\b\b\b\b\b\b\b\b\b\b\b\b\b\b\b\b\b\b\b\b\r",
      "117/150 [======================>.......] - ETA: 0s - loss: 0.0560 - accuracy: 0.9957"
     ]
    },
    {
     "name": "stdout",
     "output_type": "stream",
     "text": [
      "\b\b\b\b\b\b\b\b\b\b\b\b\b\b\b\b\b\b\b\b\b\b\b\b\b\b\b\b\b\b\b\b\b\b\b\b\b\b\b\b\b\b\b\b\b\b\b\b\b\b\b\b\b\b\b\b\b\b\b\b\b\b\b\b\b\b\b\b\b\b\b\b\b\b\b\b\b\b\b\b\b\b\b\b\r",
      "119/150 [======================>.......] - ETA: 0s - loss: 0.0553 - accuracy: 0.9958"
     ]
    },
    {
     "name": "stdout",
     "output_type": "stream",
     "text": [
      "\b\b\b\b\b\b\b\b\b\b\b\b\b\b\b\b\b\b\b\b\b\b\b\b\b\b\b\b\b\b\b\b\b\b\b\b\b\b\b\b\b\b\b\b\b\b\b\b\b\b\b\b\b\b\b\b\b\b\b\b\b\b\b\b\b\b\b\b\b\b\b\b\b\b\b\b\b\b\b\b\b\b\b\b\r",
      "121/150 [=======================>......] - ETA: 0s - loss: 0.0550 - accuracy: 0.9959"
     ]
    },
    {
     "name": "stdout",
     "output_type": "stream",
     "text": [
      "\b\b\b\b\b\b\b\b\b\b\b\b\b\b\b\b\b\b\b\b\b\b\b\b\b\b\b\b\b\b\b\b\b\b\b\b\b\b\b\b\b\b\b\b\b\b\b\b\b\b\b\b\b\b\b\b\b\b\b\b\b\b\b\b\b\b\b\b\b\b\b\b\b\b\b\b\b\b\b\b\b\b\b\b\r",
      "123/150 [=======================>......] - ETA: 0s - loss: 0.0547 - accuracy: 0.9959"
     ]
    },
    {
     "name": "stdout",
     "output_type": "stream",
     "text": [
      "\b\b\b\b\b\b\b\b\b\b\b\b\b\b\b\b\b\b\b\b\b\b\b\b\b\b\b\b\b\b\b\b\b\b\b\b\b\b\b\b\b\b\b\b\b\b\b\b\b\b\b\b\b\b\b\b\b\b\b\b\b\b\b\b\b\b\b\b\b\b\b\b\b\b\b\b\b\b\b\b\b\b\b\b\r",
      "125/150 [========================>.....] - ETA: 0s - loss: 0.0548 - accuracy: 0.9960"
     ]
    },
    {
     "name": "stdout",
     "output_type": "stream",
     "text": [
      "\b\b\b\b\b\b\b\b\b\b\b\b\b\b\b\b\b\b\b\b\b\b\b\b\b\b\b\b\b\b\b\b\b\b\b\b\b\b\b\b\b\b\b\b\b\b\b\b\b\b\b\b\b\b\b\b\b\b\b\b\b\b\b\b\b\b\b\b\b\b\b\b\b\b\b\b\b\b\b\b\b\b\b\b\r",
      "127/150 [========================>.....] - ETA: 0s - loss: 0.0541 - accuracy: 0.9961"
     ]
    },
    {
     "name": "stdout",
     "output_type": "stream",
     "text": [
      "\b\b\b\b\b\b\b\b\b\b\b\b\b\b\b\b\b\b\b\b\b\b\b\b\b\b\b\b\b\b\b\b\b\b\b\b\b\b\b\b\b\b\b\b\b\b\b\b\b\b\b\b\b\b\b\b\b\b\b\b\b\b\b\b\b\b\b\b\b\b\b\b\b\b\b\b\b\b\b\b\b\b\b\b\r",
      "129/150 [========================>.....] - ETA: 0s - loss: 0.0537 - accuracy: 0.9961"
     ]
    },
    {
     "name": "stdout",
     "output_type": "stream",
     "text": [
      "\b\b\b\b\b\b\b\b\b\b\b\b\b\b\b\b\b\b\b\b\b\b\b\b\b\b\b\b\b\b\b\b\b\b\b\b\b\b\b\b\b\b\b\b\b\b\b\b\b\b\b\b\b\b\b\b\b\b\b\b\b\b\b\b\b\b\b\b\b\b\b\b\b\b\b\b\b\b\b\b\b\b\b\b\r",
      "131/150 [=========================>....] - ETA: 0s - loss: 0.0532 - accuracy: 0.9962"
     ]
    },
    {
     "name": "stdout",
     "output_type": "stream",
     "text": [
      "\b\b\b\b\b\b\b\b\b\b\b\b\b\b\b\b\b\b\b\b\b\b\b\b\b\b\b\b\b\b\b\b\b\b\b\b\b\b\b\b\b\b\b\b\b\b\b\b\b\b\b\b\b\b\b\b\b\b\b\b\b\b\b\b\b\b\b\b\b\b\b\b\b\b\b\b\b\b\b\b\b\b\b\b\r",
      "133/150 [=========================>....] - ETA: 0s - loss: 0.0544 - accuracy: 0.9962"
     ]
    },
    {
     "name": "stdout",
     "output_type": "stream",
     "text": [
      "\b\b\b\b\b\b\b\b\b\b\b\b\b\b\b\b\b\b\b\b\b\b\b\b\b\b\b\b\b\b\b\b\b\b\b\b\b\b\b\b\b\b\b\b\b\b\b\b\b\b\b\b\b\b\b\b\b\b\b\b\b\b\b\b\b\b\b\b\b\b\b\b\b\b\b\b\b\b\b\b\b\b\b\b\r",
      "135/150 [==========================>...] - ETA: 0s - loss: 0.0538 - accuracy: 0.9963"
     ]
    },
    {
     "name": "stdout",
     "output_type": "stream",
     "text": [
      "\b\b\b\b\b\b\b\b\b\b\b\b\b\b\b\b\b\b\b\b\b\b\b\b\b\b\b\b\b\b\b\b\b\b\b\b\b\b\b\b\b\b\b\b\b\b\b\b\b\b\b\b\b\b\b\b\b\b\b\b\b\b\b\b\b\b\b\b\b\b\b\b\b\b\b\b\b\b\b\b\b\b\b\b\r",
      "137/150 [==========================>...] - ETA: 0s - loss: 0.0544 - accuracy: 0.9964"
     ]
    },
    {
     "name": "stdout",
     "output_type": "stream",
     "text": [
      "\b\b\b\b\b\b\b\b\b\b\b\b\b\b\b\b\b\b\b\b\b\b\b\b\b\b\b\b\b\b\b\b\b\b\b\b\b\b\b\b\b\b\b\b\b\b\b\b\b\b\b\b\b\b\b\b\b\b\b\b\b\b\b\b\b\b\b\b\b\b\b\b\b\b\b\b\b\b\b\b\b\b\b\b\r",
      "139/150 [==========================>...] - ETA: 0s - loss: 0.0546 - accuracy: 0.9964"
     ]
    },
    {
     "name": "stdout",
     "output_type": "stream",
     "text": [
      "\b\b\b\b\b\b\b\b\b\b\b\b\b\b\b\b\b\b\b\b\b\b\b\b\b\b\b\b\b\b\b\b\b\b\b\b\b\b\b\b\b\b\b\b\b\b\b\b\b\b\b\b\b\b\b\b\b\b\b\b\b\b\b\b\b\b\b\b\b\b\b\b\b\b\b\b\b\b\b\b\b\b\b\b\r",
      "141/150 [===========================>..] - ETA: 0s - loss: 0.0545 - accuracy: 0.9965"
     ]
    },
    {
     "name": "stdout",
     "output_type": "stream",
     "text": [
      "\b\b\b\b\b\b\b\b\b\b\b\b\b\b\b\b\b\b\b\b\b\b\b\b\b\b\b\b\b\b\b\b\b\b\b\b\b\b\b\b\b\b\b\b\b\b\b\b\b\b\b\b\b\b\b\b\b\b\b\b\b\b\b\b\b\b\b\b\b\b\b\b\b\b\b\b\b\b\b\b\b\b\b\b\r",
      "143/150 [===========================>..] - ETA: 0s - loss: 0.0541 - accuracy: 0.9965"
     ]
    },
    {
     "name": "stdout",
     "output_type": "stream",
     "text": [
      "\b\b\b\b\b\b\b\b\b\b\b\b\b\b\b\b\b\b\b\b\b\b\b\b\b\b\b\b\b\b\b\b\b\b\b\b\b\b\b\b\b\b\b\b\b\b\b\b\b\b\b\b\b\b\b\b\b\b\b\b\b\b\b\b\b\b\b\b\b\b\b\b\b\b\b\b\b\b\b\b\b\b\b\b\r",
      "145/150 [============================>.] - ETA: 0s - loss: 0.0536 - accuracy: 0.9966"
     ]
    },
    {
     "name": "stdout",
     "output_type": "stream",
     "text": [
      "\b\b\b\b\b\b\b\b\b\b\b\b\b\b\b\b\b\b\b\b\b\b\b\b\b\b\b\b\b\b\b\b\b\b\b\b\b\b\b\b\b\b\b\b\b\b\b\b\b\b\b\b\b\b\b\b\b\b\b\b\b\b\b\b\b\b\b\b\b\b\b\b\b\b\b\b\b\b\b\b\b\b\b\b\r",
      "147/150 [============================>.] - ETA: 0s - loss: 0.0531 - accuracy: 0.9966"
     ]
    },
    {
     "name": "stdout",
     "output_type": "stream",
     "text": [
      "\b\b\b\b\b\b\b\b\b\b\b\b\b\b\b\b\b\b\b\b\b\b\b\b\b\b\b\b\b\b\b\b\b\b\b\b\b\b\b\b\b\b\b\b\b\b\b\b\b\b\b\b\b\b\b\b\b\b\b\b\b\b\b\b\b\b\b\b\b\b\b\b\b\b\b\b\b\b\b\b\b\b\b\b\r",
      "149/150 [============================>.] - ETA: 0s - loss: 0.0526 - accuracy: 0.9966"
     ]
    },
    {
     "name": "stdout",
     "output_type": "stream",
     "text": [
      "\b\b\b\b\b\b\b\b\b\b\b\b\b\b\b\b\b\b\b\b\b\b\b\b\b\b\b\b\b\b\b\b\b\b\b\b\b\b\b\b\b\b\b\b\b\b\b\b\b\b\b\b\b\b\b\b\b\b\b\b\b\b\b\b\b\b\b\b\b\b\b\b\b\b\b\b\b\b\b\b\b\b\b\b\r",
      "150/150 [==============================] - 5s 37ms/step - loss: 0.0525 - accuracy: 0.9967 - val_loss: 0.1029 - val_accuracy: 0.9600\n"
     ]
    },
    {
     "name": "stdout",
     "output_type": "stream",
     "text": [
      "Epoch 8/10\n"
     ]
    },
    {
     "name": "stdout",
     "output_type": "stream",
     "text": [
      "\r",
      "  1/150 [..............................] - ETA: 4s - loss: 0.0283 - accuracy: 1.0000"
     ]
    },
    {
     "name": "stdout",
     "output_type": "stream",
     "text": [
      "\b\b\b\b\b\b\b\b\b\b\b\b\b\b\b\b\b\b\b\b\b\b\b\b\b\b\b\b\b\b\b\b\b\b\b\b\b\b\b\b\b\b\b\b\b\b\b\b\b\b\b\b\b\b\b\b\b\b\b\b\b\b\b\b\b\b\b\b\b\b\b\b\b\b\b\b\b\b\b\b\b\b\b\b\r",
      "  3/150 [..............................] - ETA: 4s - loss: 0.0265 - accuracy: 1.0000"
     ]
    },
    {
     "name": "stdout",
     "output_type": "stream",
     "text": [
      "\b\b\b\b\b\b\b\b\b\b\b\b\b\b\b\b\b\b\b\b\b\b\b\b\b\b\b\b\b\b\b\b\b\b\b\b\b\b\b\b\b\b\b\b\b\b\b\b\b\b\b\b\b\b\b\b\b\b\b\b\b\b\b\b\b\b\b\b\b\b\b\b\b\b\b\b\b\b\b\b\b\b\b\b\r",
      "  5/150 [>.............................] - ETA: 3s - loss: 0.0295 - accuracy: 1.0000"
     ]
    },
    {
     "name": "stdout",
     "output_type": "stream",
     "text": [
      "\b\b\b\b\b\b\b\b\b\b\b\b\b\b\b\b\b\b\b\b\b\b\b\b\b\b\b\b\b\b\b\b\b\b\b\b\b\b\b\b\b\b\b\b\b\b\b\b\b\b\b\b\b\b\b\b\b\b\b\b\b\b\b\b\b\b\b\b\b\b\b\b\b\b\b\b\b\b\b\b\b\b\b\b\r",
      "  7/150 [>.............................] - ETA: 3s - loss: 0.0312 - accuracy: 1.0000"
     ]
    },
    {
     "name": "stdout",
     "output_type": "stream",
     "text": [
      "\b\b\b\b\b\b\b\b\b\b\b\b\b\b\b\b\b\b\b\b\b\b\b\b\b\b\b\b\b\b\b\b\b\b\b\b\b\b\b\b\b\b\b\b\b\b\b\b\b\b\b\b\b\b\b\b\b\b\b\b\b\b\b\b\b\b\b\b\b\b\b\b\b\b\b\b\b\b\b\b\b\b\b\b\r",
      "  9/150 [>.............................] - ETA: 3s - loss: 0.0339 - accuracy: 1.0000"
     ]
    },
    {
     "name": "stdout",
     "output_type": "stream",
     "text": [
      "\b\b\b\b\b\b\b\b\b\b\b\b\b\b\b\b\b\b\b\b\b\b\b\b\b\b\b\b\b\b\b\b\b\b\b\b\b\b\b\b\b\b\b\b\b\b\b\b\b\b\b\b\b\b\b\b\b\b\b\b\b\b\b\b\b\b\b\b\b\b\b\b\b\b\b\b\b\b\b\b\b\b\b\b\r",
      " 11/150 [=>............................] - ETA: 3s - loss: 0.0456 - accuracy: 1.0000"
     ]
    },
    {
     "name": "stdout",
     "output_type": "stream",
     "text": [
      "\b\b\b\b\b\b\b\b\b\b\b\b\b\b\b\b\b\b\b\b\b\b\b\b\b\b\b\b\b\b\b\b\b\b\b\b\b\b\b\b\b\b\b\b\b\b\b\b\b\b\b\b\b\b\b\b\b\b\b\b\b\b\b\b\b\b\b\b\b\b\b\b\b\b\b\b\b\b\b\b\b\b\b\b\r",
      " 13/150 [=>............................] - ETA: 3s - loss: 0.0424 - accuracy: 1.0000"
     ]
    },
    {
     "name": "stdout",
     "output_type": "stream",
     "text": [
      "\b\b\b\b\b\b\b\b\b\b\b\b\b\b\b\b\b\b\b\b\b\b\b\b\b\b\b\b\b\b\b\b\b\b\b\b\b\b\b\b\b\b\b\b\b\b\b\b\b\b\b\b\b\b\b\b\b\b\b\b\b\b\b\b\b\b\b\b\b\b\b\b\b\b\b\b\b\b\b\b\b\b\b\b\r",
      " 15/150 [==>...........................] - ETA: 3s - loss: 0.0405 - accuracy: 1.0000"
     ]
    },
    {
     "name": "stdout",
     "output_type": "stream",
     "text": [
      "\b\b\b\b\b\b\b\b\b\b\b\b\b\b\b\b\b\b\b\b\b\b\b\b\b\b\b\b\b\b\b\b\b\b\b\b\b\b\b\b\b\b\b\b\b\b\b\b\b\b\b\b\b\b\b\b\b\b\b\b\b\b\b\b\b\b\b\b\b\b\b\b\b\b\b\b\b\b\b\b\b\b\b\b\r",
      " 17/150 [==>...........................] - ETA: 3s - loss: 0.0382 - accuracy: 1.0000"
     ]
    },
    {
     "name": "stdout",
     "output_type": "stream",
     "text": [
      "\b\b\b\b\b\b\b\b\b\b\b\b\b\b\b\b\b\b\b\b\b\b\b\b\b\b\b\b\b\b\b\b\b\b\b\b\b\b\b\b\b\b\b\b\b\b\b\b\b\b\b\b\b\b\b\b\b\b\b\b\b\b\b\b\b\b\b\b\b\b\b\b\b\b\b\b\b\b\b\b\b\b\b\b\r",
      " 19/150 [==>...........................] - ETA: 3s - loss: 0.0350 - accuracy: 1.0000"
     ]
    },
    {
     "name": "stdout",
     "output_type": "stream",
     "text": [
      "\b\b\b\b\b\b\b\b\b\b\b\b\b\b\b\b\b\b\b\b\b\b\b\b\b\b\b\b\b\b\b\b\b\b\b\b\b\b\b\b\b\b\b\b\b\b\b\b\b\b\b\b\b\b\b\b\b\b\b\b\b\b\b\b\b\b\b\b\b\b\b\b\b\b\b\b\b\b\b\b\b\b\b\b\r",
      " 21/150 [===>..........................] - ETA: 3s - loss: 0.0363 - accuracy: 1.0000"
     ]
    },
    {
     "name": "stdout",
     "output_type": "stream",
     "text": [
      "\b\b\b\b\b\b\b\b\b\b\b\b\b\b\b\b\b\b\b\b\b\b\b\b\b\b\b\b\b\b\b\b\b\b\b\b\b\b\b\b\b\b\b\b\b\b\b\b\b\b\b\b\b\b\b\b\b\b\b\b\b\b\b\b\b\b\b\b\b\b\b\b\b\b\b\b\b\b\b\b\b\b\b\b\r",
      " 23/150 [===>..........................] - ETA: 3s - loss: 0.0381 - accuracy: 1.0000"
     ]
    },
    {
     "name": "stdout",
     "output_type": "stream",
     "text": [
      "\b\b\b\b\b\b\b\b\b\b\b\b\b\b\b\b\b\b\b\b\b\b\b\b\b\b\b\b\b\b\b\b\b\b\b\b\b\b\b\b\b\b\b\b\b\b\b\b\b\b\b\b\b\b\b\b\b\b\b\b\b\b\b\b\b\b\b\b\b\b\b\b\b\b\b\b\b\b\b\b\b\b\b\b\r",
      " 25/150 [====>.........................] - ETA: 3s - loss: 0.0378 - accuracy: 1.0000"
     ]
    },
    {
     "name": "stdout",
     "output_type": "stream",
     "text": [
      "\b\b\b\b\b\b\b\b\b\b\b\b\b\b\b\b\b\b\b\b\b\b\b\b\b\b\b\b\b\b\b\b\b\b\b\b\b\b\b\b\b\b\b\b\b\b\b\b\b\b\b\b\b\b\b\b\b\b\b\b\b\b\b\b\b\b\b\b\b\b\b\b\b\b\b\b\b\b\b\b\b\b\b\b\r",
      " 27/150 [====>.........................] - ETA: 3s - loss: 0.0392 - accuracy: 1.0000"
     ]
    },
    {
     "name": "stdout",
     "output_type": "stream",
     "text": [
      "\b\b\b\b\b\b\b\b\b\b\b\b\b\b\b\b\b\b\b\b\b\b\b\b\b\b\b\b\b\b\b\b\b\b\b\b\b\b\b\b\b\b\b\b\b\b\b\b\b\b\b\b\b\b\b\b\b\b\b\b\b\b\b\b\b\b\b\b\b\b\b\b\b\b\b\b\b\b\b\b\b\b\b\b\r",
      " 29/150 [====>.........................] - ETA: 3s - loss: 0.0409 - accuracy: 1.0000"
     ]
    },
    {
     "name": "stdout",
     "output_type": "stream",
     "text": [
      "\b\b\b\b\b\b\b\b\b\b\b\b\b\b\b\b\b\b\b\b\b\b\b\b\b\b\b\b\b\b\b\b\b\b\b\b\b\b\b\b\b\b\b\b\b\b\b\b\b\b\b\b\b\b\b\b\b\b\b\b\b\b\b\b\b\b\b\b\b\b\b\b\b\b\b\b\b\b\b\b\b\b\b\b\r",
      " 31/150 [=====>........................] - ETA: 3s - loss: 0.0446 - accuracy: 1.0000"
     ]
    },
    {
     "name": "stdout",
     "output_type": "stream",
     "text": [
      "\b\b\b\b\b\b\b\b\b\b\b\b\b\b\b\b\b\b\b\b\b\b\b\b\b\b\b\b\b\b\b\b\b\b\b\b\b\b\b\b\b\b\b\b\b\b\b\b\b\b\b\b\b\b\b\b\b\b\b\b\b\b\b\b\b\b\b\b\b\b\b\b\b\b\b\b\b\b\b\b\b\b\b\b\r",
      " 33/150 [=====>........................] - ETA: 3s - loss: 0.0447 - accuracy: 1.0000"
     ]
    },
    {
     "name": "stdout",
     "output_type": "stream",
     "text": [
      "\b\b\b\b\b\b\b\b\b\b\b\b\b\b\b\b\b\b\b\b\b\b\b\b\b\b\b\b\b\b\b\b\b\b\b\b\b\b\b\b\b\b\b\b\b\b\b\b\b\b\b\b\b\b\b\b\b\b\b\b\b\b\b\b\b\b\b\b\b\b\b\b\b\b\b\b\b\b\b\b\b\b\b\b\r",
      " 35/150 [======>.......................] - ETA: 3s - loss: 0.0479 - accuracy: 1.0000"
     ]
    },
    {
     "name": "stdout",
     "output_type": "stream",
     "text": [
      "\b\b\b\b\b\b\b\b\b\b\b\b\b\b\b\b\b\b\b\b\b\b\b\b\b\b\b\b\b\b\b\b\b\b\b\b\b\b\b\b\b\b\b\b\b\b\b\b\b\b\b\b\b\b\b\b\b\b\b\b\b\b\b\b\b\b\b\b\b\b\b\b\b\b\b\b\b\b\b\b\b\b\b\b\r",
      " 37/150 [======>.......................] - ETA: 3s - loss: 0.0468 - accuracy: 1.0000"
     ]
    },
    {
     "name": "stdout",
     "output_type": "stream",
     "text": [
      "\b\b\b\b\b\b\b\b\b\b\b\b\b\b\b\b\b\b\b\b\b\b\b\b\b\b\b\b\b\b\b\b\b\b\b\b\b\b\b\b\b\b\b\b\b\b\b\b\b\b\b\b\b\b\b\b\b\b\b\b\b\b\b\b\b\b\b\b\b\b\b\b\b\b\b\b\b\b\b\b\b\b\b\b\r",
      " 39/150 [======>.......................] - ETA: 3s - loss: 0.0452 - accuracy: 1.0000"
     ]
    },
    {
     "name": "stdout",
     "output_type": "stream",
     "text": [
      "\b\b\b\b\b\b\b\b\b\b\b\b\b\b\b\b\b\b\b\b\b\b\b\b\b\b\b\b\b\b\b\b\b\b\b\b\b\b\b\b\b\b\b\b\b\b\b\b\b\b\b\b\b\b\b\b\b\b\b\b\b\b\b\b\b\b\b\b\b\b\b\b\b\b\b\b\b\b\b\b\b\b\b\b\r",
      " 41/150 [=======>......................] - ETA: 3s - loss: 0.0450 - accuracy: 1.0000"
     ]
    },
    {
     "name": "stdout",
     "output_type": "stream",
     "text": [
      "\b\b\b\b\b\b\b\b\b\b\b\b\b\b\b\b\b\b\b\b\b\b\b\b\b\b\b\b\b\b\b\b\b\b\b\b\b\b\b\b\b\b\b\b\b\b\b\b\b\b\b\b\b\b\b\b\b\b\b\b\b\b\b\b\b\b\b\b\b\b\b\b\b\b\b\b\b\b\b\b\b\b\b\b\r",
      " 43/150 [=======>......................] - ETA: 2s - loss: 0.0448 - accuracy: 1.0000"
     ]
    },
    {
     "name": "stdout",
     "output_type": "stream",
     "text": [
      "\b\b\b\b\b\b\b\b\b\b\b\b\b\b\b\b\b\b\b\b\b\b\b\b\b\b\b\b\b\b\b\b\b\b\b\b\b\b\b\b\b\b\b\b\b\b\b\b\b\b\b\b\b\b\b\b\b\b\b\b\b\b\b\b\b\b\b\b\b\b\b\b\b\b\b\b\b\b\b\b\b\b\b\b\r",
      " 45/150 [========>.....................] - ETA: 2s - loss: 0.0444 - accuracy: 1.0000"
     ]
    },
    {
     "name": "stdout",
     "output_type": "stream",
     "text": [
      "\b\b\b\b\b\b\b\b\b\b\b\b\b\b\b\b\b\b\b\b\b\b\b\b\b\b\b\b\b\b\b\b\b\b\b\b\b\b\b\b\b\b\b\b\b\b\b\b\b\b\b\b\b\b\b\b\b\b\b\b\b\b\b\b\b\b\b\b\b\b\b\b\b\b\b\b\b\b\b\b\b\b\b\b\r",
      " 47/150 [========>.....................] - ETA: 2s - loss: 0.0436 - accuracy: 1.0000"
     ]
    },
    {
     "name": "stdout",
     "output_type": "stream",
     "text": [
      "\b\b\b\b\b\b\b\b\b\b\b\b\b\b\b\b\b\b\b\b\b\b\b\b\b\b\b\b\b\b\b\b\b\b\b\b\b\b\b\b\b\b\b\b\b\b\b\b\b\b\b\b\b\b\b\b\b\b\b\b\b\b\b\b\b\b\b\b\b\b\b\b\b\b\b\b\b\b\b\b\b\b\b\b\r",
      " 49/150 [========>.....................] - ETA: 2s - loss: 0.0445 - accuracy: 1.0000"
     ]
    },
    {
     "name": "stdout",
     "output_type": "stream",
     "text": [
      "\b\b\b\b\b\b\b\b\b\b\b\b\b\b\b\b\b\b\b\b\b\b\b\b\b\b\b\b\b\b\b\b\b\b\b\b\b\b\b\b\b\b\b\b\b\b\b\b\b\b\b\b\b\b\b\b\b\b\b\b\b\b\b\b\b\b\b\b\b\b\b\b\b\b\b\b\b\b\b\b\b\b\b\b\r",
      " 51/150 [=========>....................] - ETA: 2s - loss: 0.0440 - accuracy: 1.0000"
     ]
    },
    {
     "name": "stdout",
     "output_type": "stream",
     "text": [
      "\b\b\b\b\b\b\b\b\b\b\b\b\b\b\b\b\b\b\b\b\b\b\b\b\b\b\b\b\b\b\b\b\b\b\b\b\b\b\b\b\b\b\b\b\b\b\b\b\b\b\b\b\b\b\b\b\b\b\b\b\b\b\b\b\b\b\b\b\b\b\b\b\b\b\b\b\b\b\b\b\b\b\b\b\r",
      " 53/150 [=========>....................] - ETA: 2s - loss: 0.0440 - accuracy: 1.0000"
     ]
    },
    {
     "name": "stdout",
     "output_type": "stream",
     "text": [
      "\b\b\b\b\b\b\b\b\b\b\b\b\b\b\b\b\b\b\b\b\b\b\b\b\b\b\b\b\b\b\b\b\b\b\b\b\b\b\b\b\b\b\b\b\b\b\b\b\b\b\b\b\b\b\b\b\b\b\b\b\b\b\b\b\b\b\b\b\b\b\b\b\b\b\b\b\b\b\b\b\b\b\b\b\r",
      " 55/150 [==========>...................] - ETA: 2s - loss: 0.0429 - accuracy: 1.0000"
     ]
    },
    {
     "name": "stdout",
     "output_type": "stream",
     "text": [
      "\b\b\b\b\b\b\b\b\b\b\b\b\b\b\b\b\b\b\b\b\b\b\b\b\b\b\b\b\b\b\b\b\b\b\b\b\b\b\b\b\b\b\b\b\b\b\b\b\b\b\b\b\b\b\b\b\b\b\b\b\b\b\b\b\b\b\b\b\b\b\b\b\b\b\b\b\b\b\b\b\b\b\b\b\r",
      " 57/150 [==========>...................] - ETA: 2s - loss: 0.0418 - accuracy: 1.0000"
     ]
    },
    {
     "name": "stdout",
     "output_type": "stream",
     "text": [
      "\b\b\b\b\b\b\b\b\b\b\b\b\b\b\b\b\b\b\b\b\b\b\b\b\b\b\b\b\b\b\b\b\b\b\b\b\b\b\b\b\b\b\b\b\b\b\b\b\b\b\b\b\b\b\b\b\b\b\b\b\b\b\b\b\b\b\b\b\b\b\b\b\b\b\b\b\b\b\b\b\b\b\b\b\r",
      " 59/150 [==========>...................] - ETA: 2s - loss: 0.0424 - accuracy: 1.0000"
     ]
    },
    {
     "name": "stdout",
     "output_type": "stream",
     "text": [
      "\b\b\b\b\b\b\b\b\b\b\b\b\b\b\b\b\b\b\b\b\b\b\b\b\b\b\b\b\b\b\b\b\b\b\b\b\b\b\b\b\b\b\b\b\b\b\b\b\b\b\b\b\b\b\b\b\b\b\b\b\b\b\b\b\b\b\b\b\b\b\b\b\b\b\b\b\b\b\b\b\b\b\b\b\r",
      " 61/150 [===========>..................] - ETA: 2s - loss: 0.0438 - accuracy: 1.0000"
     ]
    },
    {
     "name": "stdout",
     "output_type": "stream",
     "text": [
      "\b\b\b\b\b\b\b\b\b\b\b\b\b\b\b\b\b\b\b\b\b\b\b\b\b\b\b\b\b\b\b\b\b\b\b\b\b\b\b\b\b\b\b\b\b\b\b\b\b\b\b\b\b\b\b\b\b\b\b\b\b\b\b\b\b\b\b\b\b\b\b\b\b\b\b\b\b\b\b\b\b\b\b\b\r",
      " 63/150 [===========>..................] - ETA: 2s - loss: 0.0433 - accuracy: 1.0000"
     ]
    },
    {
     "name": "stdout",
     "output_type": "stream",
     "text": [
      "\b\b\b\b\b\b\b\b\b\b\b\b\b\b\b\b\b\b\b\b\b\b\b\b\b\b\b\b\b\b\b\b\b\b\b\b\b\b\b\b\b\b\b\b\b\b\b\b\b\b\b\b\b\b\b\b\b\b\b\b\b\b\b\b\b\b\b\b\b\b\b\b\b\b\b\b\b\b\b\b\b\b\b\b\r",
      " 65/150 [============>.................] - ETA: 2s - loss: 0.0427 - accuracy: 1.0000"
     ]
    },
    {
     "name": "stdout",
     "output_type": "stream",
     "text": [
      "\b\b\b\b\b\b\b\b\b\b\b\b\b\b\b\b\b\b\b\b\b\b\b\b\b\b\b\b\b\b\b\b\b\b\b\b\b\b\b\b\b\b\b\b\b\b\b\b\b\b\b\b\b\b\b\b\b\b\b\b\b\b\b\b\b\b\b\b\b\b\b\b\b\b\b\b\b\b\b\b\b\b\b\b\r",
      " 67/150 [============>.................] - ETA: 2s - loss: 0.0424 - accuracy: 1.0000"
     ]
    },
    {
     "name": "stdout",
     "output_type": "stream",
     "text": [
      "\b\b\b\b\b\b\b\b\b\b\b\b\b\b\b\b\b\b\b\b\b\b\b\b\b\b\b\b\b\b\b\b\b\b\b\b\b\b\b\b\b\b\b\b\b\b\b\b\b\b\b\b\b\b\b\b\b\b\b\b\b\b\b\b\b\b\b\b\b\b\b\b\b\b\b\b\b\b\b\b\b\b\b\b\r",
      " 69/150 [============>.................] - ETA: 2s - loss: 0.0416 - accuracy: 1.0000"
     ]
    },
    {
     "name": "stdout",
     "output_type": "stream",
     "text": [
      "\b\b\b\b\b\b\b\b\b\b\b\b\b\b\b\b\b\b\b\b\b\b\b\b\b\b\b\b\b\b\b\b\b\b\b\b\b\b\b\b\b\b\b\b\b\b\b\b\b\b\b\b\b\b\b\b\b\b\b\b\b\b\b\b\b\b\b\b\b\b\b\b\b\b\b\b\b\b\b\b\b\b\b\b\r",
      " 71/150 [=============>................] - ETA: 2s - loss: 0.0432 - accuracy: 1.0000"
     ]
    },
    {
     "name": "stdout",
     "output_type": "stream",
     "text": [
      "\b\b\b\b\b\b\b\b\b\b\b\b\b\b\b\b\b\b\b\b\b\b\b\b\b\b\b\b\b\b\b\b\b\b\b\b\b\b\b\b\b\b\b\b\b\b\b\b\b\b\b\b\b\b\b\b\b\b\b\b\b\b\b\b\b\b\b\b\b\b\b\b\b\b\b\b\b\b\b\b\b\b\b\b\r",
      " 73/150 [=============>................] - ETA: 2s - loss: 0.0428 - accuracy: 1.0000"
     ]
    },
    {
     "name": "stdout",
     "output_type": "stream",
     "text": [
      "\b\b\b\b\b\b\b\b\b\b\b\b\b\b\b\b\b\b\b\b\b\b\b\b\b\b\b\b\b\b\b\b\b\b\b\b\b\b\b\b\b\b\b\b\b\b\b\b\b\b\b\b\b\b\b\b\b\b\b\b\b\b\b\b\b\b\b\b\b\b\b\b\b\b\b\b\b\b\b\b\b\b\b\b\r",
      " 75/150 [==============>...............] - ETA: 2s - loss: 0.0431 - accuracy: 1.0000"
     ]
    },
    {
     "name": "stdout",
     "output_type": "stream",
     "text": [
      "\b\b\b\b\b\b\b\b\b\b\b\b\b\b\b\b\b\b\b\b\b\b\b\b\b\b\b\b\b\b\b\b\b\b\b\b\b\b\b\b\b\b\b\b\b\b\b\b\b\b\b\b\b\b\b\b\b\b\b\b\b\b\b\b\b\b\b\b\b\b\b\b\b\b\b\b\b\b\b\b\b\b\b\b\r",
      " 77/150 [==============>...............] - ETA: 2s - loss: 0.0431 - accuracy: 1.0000"
     ]
    },
    {
     "name": "stdout",
     "output_type": "stream",
     "text": [
      "\b\b\b\b\b\b\b\b\b\b\b\b\b\b\b\b\b\b\b\b\b\b\b\b\b\b\b\b\b\b\b\b\b\b\b\b\b\b\b\b\b\b\b\b\b\b\b\b\b\b\b\b\b\b\b\b\b\b\b\b\b\b\b\b\b\b\b\b\b\b\b\b\b\b\b\b\b\b\b\b\b\b\b\b\r",
      " 79/150 [==============>...............] - ETA: 1s - loss: 0.0438 - accuracy: 1.0000"
     ]
    },
    {
     "name": "stdout",
     "output_type": "stream",
     "text": [
      "\b\b\b\b\b\b\b\b\b\b\b\b\b\b\b\b\b\b\b\b\b\b\b\b\b\b\b\b\b\b\b\b\b\b\b\b\b\b\b\b\b\b\b\b\b\b\b\b\b\b\b\b\b\b\b\b\b\b\b\b\b\b\b\b\b\b\b\b\b\b\b\b\b\b\b\b\b\b\b\b\b\b\b\b\r",
      " 81/150 [===============>..............] - ETA: 1s - loss: 0.0436 - accuracy: 1.0000"
     ]
    },
    {
     "name": "stdout",
     "output_type": "stream",
     "text": [
      "\b\b\b\b\b\b\b\b\b\b\b\b\b\b\b\b\b\b\b\b\b\b\b\b\b\b\b\b\b\b\b\b\b\b\b\b\b\b\b\b\b\b\b\b\b\b\b\b\b\b\b\b\b\b\b\b\b\b\b\b\b\b\b\b\b\b\b\b\b\b\b\b\b\b\b\b\b\b\b\b\b\b\b\b\r",
      " 83/150 [===============>..............] - ETA: 1s - loss: 0.0428 - accuracy: 1.0000"
     ]
    },
    {
     "name": "stdout",
     "output_type": "stream",
     "text": [
      "\b\b\b\b\b\b\b\b\b\b\b\b\b\b\b\b\b\b\b\b\b\b\b\b\b\b\b\b\b\b\b\b\b\b\b\b\b\b\b\b\b\b\b\b\b\b\b\b\b\b\b\b\b\b\b\b\b\b\b\b\b\b\b\b\b\b\b\b\b\b\b\b\b\b\b\b\b\b\b\b\b\b\b\b\r",
      " 85/150 [================>.............] - ETA: 1s - loss: 0.0445 - accuracy: 1.0000"
     ]
    },
    {
     "name": "stdout",
     "output_type": "stream",
     "text": [
      "\b\b\b\b\b\b\b\b\b\b\b\b\b\b\b\b\b\b\b\b\b\b\b\b\b\b\b\b\b\b\b\b\b\b\b\b\b\b\b\b\b\b\b\b\b\b\b\b\b\b\b\b\b\b\b\b\b\b\b\b\b\b\b\b\b\b\b\b\b\b\b\b\b\b\b\b\b\b\b\b\b\b\b\b\r",
      " 87/150 [================>.............] - ETA: 1s - loss: 0.0440 - accuracy: 1.0000"
     ]
    },
    {
     "name": "stdout",
     "output_type": "stream",
     "text": [
      "\b\b\b\b\b\b\b\b\b\b\b\b\b\b\b\b\b\b\b\b\b\b\b\b\b\b\b\b\b\b\b\b\b\b\b\b\b\b\b\b\b\b\b\b\b\b\b\b\b\b\b\b\b\b\b\b\b\b\b\b\b\b\b\b\b\b\b\b\b\b\b\b\b\b\b\b\b\b\b\b\b\b\b\b\r",
      " 89/150 [================>.............] - ETA: 1s - loss: 0.0433 - accuracy: 1.0000"
     ]
    },
    {
     "name": "stdout",
     "output_type": "stream",
     "text": [
      "\b\b\b\b\b\b\b\b\b\b\b\b\b\b\b\b\b\b\b\b\b\b\b\b\b\b\b\b\b\b\b\b\b\b\b\b\b\b\b\b\b\b\b\b\b\b\b\b\b\b\b\b\b\b\b\b\b\b\b\b\b\b\b\b\b\b\b\b\b\b\b\b\b\b\b\b\b\b\b\b\b\b\b\b\r",
      " 91/150 [=================>............] - ETA: 1s - loss: 0.0426 - accuracy: 1.0000"
     ]
    },
    {
     "name": "stdout",
     "output_type": "stream",
     "text": [
      "\b\b\b\b\b\b\b\b\b\b\b\b\b\b\b\b\b\b\b\b\b\b\b\b\b\b\b\b\b\b\b\b\b\b\b\b\b\b\b\b\b\b\b\b\b\b\b\b\b\b\b\b\b\b\b\b\b\b\b\b\b\b\b\b\b\b\b\b\b\b\b\b\b\b\b\b\b\b\b\b\b\b\b\b\r",
      " 93/150 [=================>............] - ETA: 1s - loss: 0.0425 - accuracy: 1.0000"
     ]
    },
    {
     "name": "stdout",
     "output_type": "stream",
     "text": [
      "\b\b\b\b\b\b\b\b\b\b\b\b\b\b\b\b\b\b\b\b\b\b\b\b\b\b\b\b\b\b\b\b\b\b\b\b\b\b\b\b\b\b\b\b\b\b\b\b\b\b\b\b\b\b\b\b\b\b\b\b\b\b\b\b\b\b\b\b\b\b\b\b\b\b\b\b\b\b\b\b\b\b\b\b\r",
      " 95/150 [==================>...........] - ETA: 1s - loss: 0.0418 - accuracy: 1.0000"
     ]
    },
    {
     "name": "stdout",
     "output_type": "stream",
     "text": [
      "\b\b\b\b\b\b\b\b\b\b\b\b\b\b\b\b\b\b\b\b\b\b\b\b\b\b\b\b\b\b\b\b\b\b\b\b\b\b\b\b\b\b\b\b\b\b\b\b\b\b\b\b\b\b\b\b\b\b\b\b\b\b\b\b\b\b\b\b\b\b\b\b\b\b\b\b\b\b\b\b\b\b\b\b\r",
      " 97/150 [==================>...........] - ETA: 1s - loss: 0.0412 - accuracy: 1.0000"
     ]
    },
    {
     "name": "stdout",
     "output_type": "stream",
     "text": [
      "\b\b\b\b\b\b\b\b\b\b\b\b\b\b\b\b\b\b\b\b\b\b\b\b\b\b\b\b\b\b\b\b\b\b\b\b\b\b\b\b\b\b\b\b\b\b\b\b\b\b\b\b\b\b\b\b\b\b\b\b\b\b\b\b\b\b\b\b\b\b\b\b\b\b\b\b\b\b\b\b\b\b\b\b\r",
      " 99/150 [==================>...........] - ETA: 1s - loss: 0.0410 - accuracy: 1.0000"
     ]
    },
    {
     "name": "stdout",
     "output_type": "stream",
     "text": [
      "\b\b\b\b\b\b\b\b\b\b\b\b\b\b\b\b\b\b\b\b\b\b\b\b\b\b\b\b\b\b\b\b\b\b\b\b\b\b\b\b\b\b\b\b\b\b\b\b\b\b\b\b\b\b\b\b\b\b\b\b\b\b\b\b\b\b\b\b\b\b\b\b\b\b\b\b\b\b\b\b\b\b\b\b\r",
      "101/150 [===================>..........] - ETA: 1s - loss: 0.0406 - accuracy: 1.0000"
     ]
    },
    {
     "name": "stdout",
     "output_type": "stream",
     "text": [
      "\b\b\b\b\b\b\b\b\b\b\b\b\b\b\b\b\b\b\b\b\b\b\b\b\b\b\b\b\b\b\b\b\b\b\b\b\b\b\b\b\b\b\b\b\b\b\b\b\b\b\b\b\b\b\b\b\b\b\b\b\b\b\b\b\b\b\b\b\b\b\b\b\b\b\b\b\b\b\b\b\b\b\b\b\r",
      "103/150 [===================>..........] - ETA: 1s - loss: 0.0401 - accuracy: 1.0000"
     ]
    },
    {
     "name": "stdout",
     "output_type": "stream",
     "text": [
      "\b\b\b\b\b\b\b\b\b\b\b\b\b\b\b\b\b\b\b\b\b\b\b\b\b\b\b\b\b\b\b\b\b\b\b\b\b\b\b\b\b\b\b\b\b\b\b\b\b\b\b\b\b\b\b\b\b\b\b\b\b\b\b\b\b\b\b\b\b\b\b\b\b\b\b\b\b\b\b\b\b\b\b\b\r",
      "105/150 [====================>.........] - ETA: 1s - loss: 0.0401 - accuracy: 1.0000"
     ]
    },
    {
     "name": "stdout",
     "output_type": "stream",
     "text": [
      "\b\b\b\b\b\b\b\b\b\b\b\b\b\b\b\b\b\b\b\b\b\b\b\b\b\b\b\b\b\b\b\b\b\b\b\b\b\b\b\b\b\b\b\b\b\b\b\b\b\b\b\b\b\b\b\b\b\b\b\b\b\b\b\b\b\b\b\b\b\b\b\b\b\b\b\b\b\b\b\b\b\b\b\b\r",
      "107/150 [====================>.........] - ETA: 1s - loss: 0.0412 - accuracy: 1.0000"
     ]
    },
    {
     "name": "stdout",
     "output_type": "stream",
     "text": [
      "\b\b\b\b\b\b\b\b\b\b\b\b\b\b\b\b\b\b\b\b\b\b\b\b\b\b\b\b\b\b\b\b\b\b\b\b\b\b\b\b\b\b\b\b\b\b\b\b\b\b\b\b\b\b\b\b\b\b\b\b\b\b\b\b\b\b\b\b\b\b\b\b\b\b\b\b\b\b\b\b\b\b\b\b\r",
      "109/150 [====================>.........] - ETA: 1s - loss: 0.0407 - accuracy: 1.0000"
     ]
    },
    {
     "name": "stdout",
     "output_type": "stream",
     "text": [
      "\b\b\b\b\b\b\b\b\b\b\b\b\b\b\b\b\b\b\b\b\b\b\b\b\b\b\b\b\b\b\b\b\b\b\b\b\b\b\b\b\b\b\b\b\b\b\b\b\b\b\b\b\b\b\b\b\b\b\b\b\b\b\b\b\b\b\b\b\b\b\b\b\b\b\b\b\b\b\b\b\b\b\b\b\r",
      "111/150 [=====================>........] - ETA: 1s - loss: 0.0403 - accuracy: 1.0000"
     ]
    },
    {
     "name": "stdout",
     "output_type": "stream",
     "text": [
      "\b\b\b\b\b\b\b\b\b\b\b\b\b\b\b\b\b\b\b\b\b\b\b\b\b\b\b\b\b\b\b\b\b\b\b\b\b\b\b\b\b\b\b\b\b\b\b\b\b\b\b\b\b\b\b\b\b\b\b\b\b\b\b\b\b\b\b\b\b\b\b\b\b\b\b\b\b\b\b\b\b\b\b\b\r",
      "113/150 [=====================>........] - ETA: 1s - loss: 0.0400 - accuracy: 1.0000"
     ]
    },
    {
     "name": "stdout",
     "output_type": "stream",
     "text": [
      "\b\b\b\b\b\b\b\b\b\b\b\b\b\b\b\b\b\b\b\b\b\b\b\b\b\b\b\b\b\b\b\b\b\b\b\b\b\b\b\b\b\b\b\b\b\b\b\b\b\b\b\b\b\b\b\b\b\b\b\b\b\b\b\b\b\b\b\b\b\b\b\b\b\b\b\b\b\b\b\b\b\b\b\b\r",
      "115/150 [======================>.......] - ETA: 0s - loss: 0.0433 - accuracy: 1.0000"
     ]
    },
    {
     "name": "stdout",
     "output_type": "stream",
     "text": [
      "\b\b\b\b\b\b\b\b\b\b\b\b\b\b\b\b\b\b\b\b\b\b\b\b\b\b\b\b\b\b\b\b\b\b\b\b\b\b\b\b\b\b\b\b\b\b\b\b\b\b\b\b\b\b\b\b\b\b\b\b\b\b\b\b\b\b\b\b\b\b\b\b\b\b\b\b\b\b\b\b\b\b\b\b\r",
      "117/150 [======================>.......] - ETA: 0s - loss: 0.0434 - accuracy: 1.0000"
     ]
    },
    {
     "name": "stdout",
     "output_type": "stream",
     "text": [
      "\b\b\b\b\b\b\b\b\b\b\b\b\b\b\b\b\b\b\b\b\b\b\b\b\b\b\b\b\b\b\b\b\b\b\b\b\b\b\b\b\b\b\b\b\b\b\b\b\b\b\b\b\b\b\b\b\b\b\b\b\b\b\b\b\b\b\b\b\b\b\b\b\b\b\b\b\b\b\b\b\b\b\b\b\r",
      "119/150 [======================>.......] - ETA: 0s - loss: 0.0432 - accuracy: 1.0000"
     ]
    },
    {
     "name": "stdout",
     "output_type": "stream",
     "text": [
      "\b\b\b\b\b\b\b\b\b\b\b\b\b\b\b\b\b\b\b\b\b\b\b\b\b\b\b\b\b\b\b\b\b\b\b\b\b\b\b\b\b\b\b\b\b\b\b\b\b\b\b\b\b\b\b\b\b\b\b\b\b\b\b\b\b\b\b\b\b\b\b\b\b\b\b\b\b\b\b\b\b\b\b\b\r",
      "121/150 [=======================>......] - ETA: 0s - loss: 0.0430 - accuracy: 1.0000"
     ]
    },
    {
     "name": "stdout",
     "output_type": "stream",
     "text": [
      "\b\b\b\b\b\b\b\b\b\b\b\b\b\b\b\b\b\b\b\b\b\b\b\b\b\b\b\b\b\b\b\b\b\b\b\b\b\b\b\b\b\b\b\b\b\b\b\b\b\b\b\b\b\b\b\b\b\b\b\b\b\b\b\b\b\b\b\b\b\b\b\b\b\b\b\b\b\b\b\b\b\b\b\b\r",
      "123/150 [=======================>......] - ETA: 0s - loss: 0.0425 - accuracy: 1.0000"
     ]
    },
    {
     "name": "stdout",
     "output_type": "stream",
     "text": [
      "\b\b\b\b\b\b\b\b\b\b\b\b\b\b\b\b\b\b\b\b\b\b\b\b\b\b\b\b\b\b\b\b\b\b\b\b\b\b\b\b\b\b\b\b\b\b\b\b\b\b\b\b\b\b\b\b\b\b\b\b\b\b\b\b\b\b\b\b\b\b\b\b\b\b\b\b\b\b\b\b\b\b\b\b\r",
      "125/150 [========================>.....] - ETA: 0s - loss: 0.0423 - accuracy: 1.0000"
     ]
    },
    {
     "name": "stdout",
     "output_type": "stream",
     "text": [
      "\b\b\b\b\b\b\b\b\b\b\b\b\b\b\b\b\b\b\b\b\b\b\b\b\b\b\b\b\b\b\b\b\b\b\b\b\b\b\b\b\b\b\b\b\b\b\b\b\b\b\b\b\b\b\b\b\b\b\b\b\b\b\b\b\b\b\b\b\b\b\b\b\b\b\b\b\b\b\b\b\b\b\b\b\r",
      "127/150 [========================>.....] - ETA: 0s - loss: 0.0418 - accuracy: 1.0000"
     ]
    },
    {
     "name": "stdout",
     "output_type": "stream",
     "text": [
      "\b\b\b\b\b\b\b\b\b\b\b\b\b\b\b\b\b\b\b\b\b\b\b\b\b\b\b\b\b\b\b\b\b\b\b\b\b\b\b\b\b\b\b\b\b\b\b\b\b\b\b\b\b\b\b\b\b\b\b\b\b\b\b\b\b\b\b\b\b\b\b\b\b\b\b\b\b\b\b\b\b\b\b\b\r",
      "129/150 [========================>.....] - ETA: 0s - loss: 0.0415 - accuracy: 1.0000"
     ]
    },
    {
     "name": "stdout",
     "output_type": "stream",
     "text": [
      "\b\b\b\b\b\b\b\b\b\b\b\b\b\b\b\b\b\b\b\b\b\b\b\b\b\b\b\b\b\b\b\b\b\b\b\b\b\b\b\b\b\b\b\b\b\b\b\b\b\b\b\b\b\b\b\b\b\b\b\b\b\b\b\b\b\b\b\b\b\b\b\b\b\b\b\b\b\b\b\b\b\b\b\b\r",
      "131/150 [=========================>....] - ETA: 0s - loss: 0.0415 - accuracy: 1.0000"
     ]
    },
    {
     "name": "stdout",
     "output_type": "stream",
     "text": [
      "\b\b\b\b\b\b\b\b\b\b\b\b\b\b\b\b\b\b\b\b\b\b\b\b\b\b\b\b\b\b\b\b\b\b\b\b\b\b\b\b\b\b\b\b\b\b\b\b\b\b\b\b\b\b\b\b\b\b\b\b\b\b\b\b\b\b\b\b\b\b\b\b\b\b\b\b\b\b\b\b\b\b\b\b\r",
      "133/150 [=========================>....] - ETA: 0s - loss: 0.0430 - accuracy: 1.0000"
     ]
    },
    {
     "name": "stdout",
     "output_type": "stream",
     "text": [
      "\b\b\b\b\b\b\b\b\b\b\b\b\b\b\b\b\b\b\b\b\b\b\b\b\b\b\b\b\b\b\b\b\b\b\b\b\b\b\b\b\b\b\b\b\b\b\b\b\b\b\b\b\b\b\b\b\b\b\b\b\b\b\b\b\b\b\b\b\b\b\b\b\b\b\b\b\b\b\b\b\b\b\b\b\r",
      "135/150 [==========================>...] - ETA: 0s - loss: 0.0429 - accuracy: 1.0000"
     ]
    },
    {
     "name": "stdout",
     "output_type": "stream",
     "text": [
      "\b\b\b\b\b\b\b\b\b\b\b\b\b\b\b\b\b\b\b\b\b\b\b\b\b\b\b\b\b\b\b\b\b\b\b\b\b\b\b\b\b\b\b\b\b\b\b\b\b\b\b\b\b\b\b\b\b\b\b\b\b\b\b\b\b\b\b\b\b\b\b\b\b\b\b\b\b\b\b\b\b\b\b\b\r",
      "137/150 [==========================>...] - ETA: 0s - loss: 0.0425 - accuracy: 1.0000"
     ]
    },
    {
     "name": "stdout",
     "output_type": "stream",
     "text": [
      "\b\b\b\b\b\b\b\b\b\b\b\b\b\b\b\b\b\b\b\b\b\b\b\b\b\b\b\b\b\b\b\b\b\b\b\b\b\b\b\b\b\b\b\b\b\b\b\b\b\b\b\b\b\b\b\b\b\b\b\b\b\b\b\b\b\b\b\b\b\b\b\b\b\b\b\b\b\b\b\b\b\b\b\b\r",
      "139/150 [==========================>...] - ETA: 0s - loss: 0.0422 - accuracy: 1.0000"
     ]
    },
    {
     "name": "stdout",
     "output_type": "stream",
     "text": [
      "\b\b\b\b\b\b\b\b\b\b\b\b\b\b\b\b\b\b\b\b\b\b\b\b\b\b\b\b\b\b\b\b\b\b\b\b\b\b\b\b\b\b\b\b\b\b\b\b\b\b\b\b\b\b\b\b\b\b\b\b\b\b\b\b\b\b\b\b\b\b\b\b\b\b\b\b\b\b\b\b\b\b\b\b\r",
      "141/150 [===========================>..] - ETA: 0s - loss: 0.0417 - accuracy: 1.0000"
     ]
    },
    {
     "name": "stdout",
     "output_type": "stream",
     "text": [
      "\b\b\b\b\b\b\b\b\b\b\b\b\b\b\b\b\b\b\b\b\b\b\b\b\b\b\b\b\b\b\b\b\b\b\b\b\b\b\b\b\b\b\b\b\b\b\b\b\b\b\b\b\b\b\b\b\b\b\b\b\b\b\b\b\b\b\b\b\b\b\b\b\b\b\b\b\b\b\b\b\b\b\b\b\r",
      "143/150 [===========================>..] - ETA: 0s - loss: 0.0414 - accuracy: 1.0000"
     ]
    },
    {
     "name": "stdout",
     "output_type": "stream",
     "text": [
      "\b\b\b\b\b\b\b\b\b\b\b\b\b\b\b\b\b\b\b\b\b\b\b\b\b\b\b\b\b\b\b\b\b\b\b\b\b\b\b\b\b\b\b\b\b\b\b\b\b\b\b\b\b\b\b\b\b\b\b\b\b\b\b\b\b\b\b\b\b\b\b\b\b\b\b\b\b\b\b\b\b\b\b\b\r",
      "145/150 [============================>.] - ETA: 0s - loss: 0.0413 - accuracy: 1.0000"
     ]
    },
    {
     "name": "stdout",
     "output_type": "stream",
     "text": [
      "\b\b\b\b\b\b\b\b\b\b\b\b\b\b\b\b\b\b\b\b\b\b\b\b\b\b\b\b\b\b\b\b\b\b\b\b\b\b\b\b\b\b\b\b\b\b\b\b\b\b\b\b\b\b\b\b\b\b\b\b\b\b\b\b\b\b\b\b\b\b\b\b\b\b\b\b\b\b\b\b\b\b\b\b\r",
      "147/150 [============================>.] - ETA: 0s - loss: 0.0412 - accuracy: 1.0000"
     ]
    },
    {
     "name": "stdout",
     "output_type": "stream",
     "text": [
      "\b\b\b\b\b\b\b\b\b\b\b\b\b\b\b\b\b\b\b\b\b\b\b\b\b\b\b\b\b\b\b\b\b\b\b\b\b\b\b\b\b\b\b\b\b\b\b\b\b\b\b\b\b\b\b\b\b\b\b\b\b\b\b\b\b\b\b\b\b\b\b\b\b\b\b\b\b\b\b\b\b\b\b\b\r",
      "149/150 [============================>.] - ETA: 0s - loss: 0.0412 - accuracy: 1.0000"
     ]
    },
    {
     "name": "stdout",
     "output_type": "stream",
     "text": [
      "\b\b\b\b\b\b\b\b\b\b\b\b\b\b\b\b\b\b\b\b\b\b\b\b\b\b\b\b\b\b\b\b\b\b\b\b\b\b\b\b\b\b\b\b\b\b\b\b\b\b\b\b\b\b\b\b\b\b\b\b\b\b\b\b\b\b\b\b\b\b\b\b\b\b\b\b\b\b\b\b\b\b\b\b\r",
      "150/150 [==============================] - 5s 37ms/step - loss: 0.0412 - accuracy: 1.0000 - val_loss: 0.0960 - val_accuracy: 0.9700\n"
     ]
    },
    {
     "name": "stdout",
     "output_type": "stream",
     "text": [
      "Epoch 9/10\n"
     ]
    },
    {
     "name": "stdout",
     "output_type": "stream",
     "text": [
      "\r",
      "  1/150 [..............................] - ETA: 4s - loss: 0.0115 - accuracy: 1.0000"
     ]
    },
    {
     "name": "stdout",
     "output_type": "stream",
     "text": [
      "\b\b\b\b\b\b\b\b\b\b\b\b\b\b\b\b\b\b\b\b\b\b\b\b\b\b\b\b\b\b\b\b\b\b\b\b\b\b\b\b\b\b\b\b\b\b\b\b\b\b\b\b\b\b\b\b\b\b\b\b\b\b\b\b\b\b\b\b\b\b\b\b\b\b\b\b\b\b\b\b\b\b\b\b\r",
      "  3/150 [..............................] - ETA: 4s - loss: 0.0236 - accuracy: 1.0000"
     ]
    },
    {
     "name": "stdout",
     "output_type": "stream",
     "text": [
      "\b\b\b\b\b\b\b\b\b\b\b\b\b\b\b\b\b\b\b\b\b\b\b\b\b\b\b\b\b\b\b\b\b\b\b\b\b\b\b\b\b\b\b\b\b\b\b\b\b\b\b\b\b\b\b\b\b\b\b\b\b\b\b\b\b\b\b\b\b\b\b\b\b\b\b\b\b\b\b\b\b\b\b\b\r",
      "  5/150 [>.............................] - ETA: 4s - loss: 0.0837 - accuracy: 1.0000"
     ]
    },
    {
     "name": "stdout",
     "output_type": "stream",
     "text": [
      "\b\b\b\b\b\b\b\b\b\b\b\b\b\b\b\b\b\b\b\b\b\b\b\b\b\b\b\b\b\b\b\b\b\b\b\b\b\b\b\b\b\b\b\b\b\b\b\b\b\b\b\b\b\b\b\b\b\b\b\b\b\b\b\b\b\b\b\b\b\b\b\b\b\b\b\b\b\b\b\b\b\b\b\b\r",
      "  7/150 [>.............................] - ETA: 4s - loss: 0.0824 - accuracy: 1.0000"
     ]
    },
    {
     "name": "stdout",
     "output_type": "stream",
     "text": [
      "\b\b\b\b\b\b\b\b\b\b\b\b\b\b\b\b\b\b\b\b\b\b\b\b\b\b\b\b\b\b\b\b\b\b\b\b\b\b\b\b\b\b\b\b\b\b\b\b\b\b\b\b\b\b\b\b\b\b\b\b\b\b\b\b\b\b\b\b\b\b\b\b\b\b\b\b\b\b\b\b\b\b\b\b\r",
      "  9/150 [>.............................] - ETA: 3s - loss: 0.0677 - accuracy: 1.0000"
     ]
    },
    {
     "name": "stdout",
     "output_type": "stream",
     "text": [
      "\b\b\b\b\b\b\b\b\b\b\b\b\b\b\b\b\b\b\b\b\b\b\b\b\b\b\b\b\b\b\b\b\b\b\b\b\b\b\b\b\b\b\b\b\b\b\b\b\b\b\b\b\b\b\b\b\b\b\b\b\b\b\b\b\b\b\b\b\b\b\b\b\b\b\b\b\b\b\b\b\b\b\b\b\r",
      " 11/150 [=>............................] - ETA: 3s - loss: 0.0644 - accuracy: 1.0000"
     ]
    },
    {
     "name": "stdout",
     "output_type": "stream",
     "text": [
      "\b\b\b\b\b\b\b\b\b\b\b\b\b\b\b\b\b\b\b\b\b\b\b\b\b\b\b\b\b\b\b\b\b\b\b\b\b\b\b\b\b\b\b\b\b\b\b\b\b\b\b\b\b\b\b\b\b\b\b\b\b\b\b\b\b\b\b\b\b\b\b\b\b\b\b\b\b\b\b\b\b\b\b\b\r",
      " 13/150 [=>............................] - ETA: 3s - loss: 0.0619 - accuracy: 1.0000"
     ]
    },
    {
     "name": "stdout",
     "output_type": "stream",
     "text": [
      "\b\b\b\b\b\b\b\b\b\b\b\b\b\b\b\b\b\b\b\b\b\b\b\b\b\b\b\b\b\b\b\b\b\b\b\b\b\b\b\b\b\b\b\b\b\b\b\b\b\b\b\b\b\b\b\b\b\b\b\b\b\b\b\b\b\b\b\b\b\b\b\b\b\b\b\b\b\b\b\b\b\b\b\b\r",
      " 15/150 [==>...........................] - ETA: 3s - loss: 0.0563 - accuracy: 1.0000"
     ]
    },
    {
     "name": "stdout",
     "output_type": "stream",
     "text": [
      "\b\b\b\b\b\b\b\b\b\b\b\b\b\b\b\b\b\b\b\b\b\b\b\b\b\b\b\b\b\b\b\b\b\b\b\b\b\b\b\b\b\b\b\b\b\b\b\b\b\b\b\b\b\b\b\b\b\b\b\b\b\b\b\b\b\b\b\b\b\b\b\b\b\b\b\b\b\b\b\b\b\b\b\b\r",
      " 17/150 [==>...........................] - ETA: 3s - loss: 0.0519 - accuracy: 1.0000"
     ]
    },
    {
     "name": "stdout",
     "output_type": "stream",
     "text": [
      "\b\b\b\b\b\b\b\b\b\b\b\b\b\b\b\b\b\b\b\b\b\b\b\b\b\b\b\b\b\b\b\b\b\b\b\b\b\b\b\b\b\b\b\b\b\b\b\b\b\b\b\b\b\b\b\b\b\b\b\b\b\b\b\b\b\b\b\b\b\b\b\b\b\b\b\b\b\b\b\b\b\b\b\b\r",
      " 19/150 [==>...........................] - ETA: 3s - loss: 0.0479 - accuracy: 1.0000"
     ]
    },
    {
     "name": "stdout",
     "output_type": "stream",
     "text": [
      "\b\b\b\b\b\b\b\b\b\b\b\b\b\b\b\b\b\b\b\b\b\b\b\b\b\b\b\b\b\b\b\b\b\b\b\b\b\b\b\b\b\b\b\b\b\b\b\b\b\b\b\b\b\b\b\b\b\b\b\b\b\b\b\b\b\b\b\b\b\b\b\b\b\b\b\b\b\b\b\b\b\b\b\b\r",
      " 21/150 [===>..........................] - ETA: 3s - loss: 0.0450 - accuracy: 1.0000"
     ]
    },
    {
     "name": "stdout",
     "output_type": "stream",
     "text": [
      "\b\b\b\b\b\b\b\b\b\b\b\b\b\b\b\b\b\b\b\b\b\b\b\b\b\b\b\b\b\b\b\b\b\b\b\b\b\b\b\b\b\b\b\b\b\b\b\b\b\b\b\b\b\b\b\b\b\b\b\b\b\b\b\b\b\b\b\b\b\b\b\b\b\b\b\b\b\b\b\b\b\b\b\b\r",
      " 23/150 [===>..........................] - ETA: 3s - loss: 0.0459 - accuracy: 1.0000"
     ]
    },
    {
     "name": "stdout",
     "output_type": "stream",
     "text": [
      "\b\b\b\b\b\b\b\b\b\b\b\b\b\b\b\b\b\b\b\b\b\b\b\b\b\b\b\b\b\b\b\b\b\b\b\b\b\b\b\b\b\b\b\b\b\b\b\b\b\b\b\b\b\b\b\b\b\b\b\b\b\b\b\b\b\b\b\b\b\b\b\b\b\b\b\b\b\b\b\b\b\b\b\b\r",
      " 25/150 [====>.........................] - ETA: 3s - loss: 0.0439 - accuracy: 1.0000"
     ]
    },
    {
     "name": "stdout",
     "output_type": "stream",
     "text": [
      "\b\b\b\b\b\b\b\b\b\b\b\b\b\b\b\b\b\b\b\b\b\b\b\b\b\b\b\b\b\b\b\b\b\b\b\b\b\b\b\b\b\b\b\b\b\b\b\b\b\b\b\b\b\b\b\b\b\b\b\b\b\b\b\b\b\b\b\b\b\b\b\b\b\b\b\b\b\b\b\b\b\b\b\b\r",
      " 27/150 [====>.........................] - ETA: 3s - loss: 0.0437 - accuracy: 1.0000"
     ]
    },
    {
     "name": "stdout",
     "output_type": "stream",
     "text": [
      "\b\b\b\b\b\b\b\b\b\b\b\b\b\b\b\b\b\b\b\b\b\b\b\b\b\b\b\b\b\b\b\b\b\b\b\b\b\b\b\b\b\b\b\b\b\b\b\b\b\b\b\b\b\b\b\b\b\b\b\b\b\b\b\b\b\b\b\b\b\b\b\b\b\b\b\b\b\b\b\b\b\b\b\b\r",
      " 29/150 [====>.........................] - ETA: 3s - loss: 0.0417 - accuracy: 1.0000"
     ]
    },
    {
     "name": "stdout",
     "output_type": "stream",
     "text": [
      "\b\b\b\b\b\b\b\b\b\b\b\b\b\b\b\b\b\b\b\b\b\b\b\b\b\b\b\b\b\b\b\b\b\b\b\b\b\b\b\b\b\b\b\b\b\b\b\b\b\b\b\b\b\b\b\b\b\b\b\b\b\b\b\b\b\b\b\b\b\b\b\b\b\b\b\b\b\b\b\b\b\b\b\b\r",
      " 31/150 [=====>........................] - ETA: 3s - loss: 0.0405 - accuracy: 1.0000"
     ]
    },
    {
     "name": "stdout",
     "output_type": "stream",
     "text": [
      "\b\b\b\b\b\b\b\b\b\b\b\b\b\b\b\b\b\b\b\b\b\b\b\b\b\b\b\b\b\b\b\b\b\b\b\b\b\b\b\b\b\b\b\b\b\b\b\b\b\b\b\b\b\b\b\b\b\b\b\b\b\b\b\b\b\b\b\b\b\b\b\b\b\b\b\b\b\b\b\b\b\b\b\b\r",
      " 33/150 [=====>........................] - ETA: 3s - loss: 0.0387 - accuracy: 1.0000"
     ]
    },
    {
     "name": "stdout",
     "output_type": "stream",
     "text": [
      "\b\b\b\b\b\b\b\b\b\b\b\b\b\b\b\b\b\b\b\b\b\b\b\b\b\b\b\b\b\b\b\b\b\b\b\b\b\b\b\b\b\b\b\b\b\b\b\b\b\b\b\b\b\b\b\b\b\b\b\b\b\b\b\b\b\b\b\b\b\b\b\b\b\b\b\b\b\b\b\b\b\b\b\b\r",
      " 35/150 [======>.......................] - ETA: 3s - loss: 0.0373 - accuracy: 1.0000"
     ]
    },
    {
     "name": "stdout",
     "output_type": "stream",
     "text": [
      "\b\b\b\b\b\b\b\b\b\b\b\b\b\b\b\b\b\b\b\b\b\b\b\b\b\b\b\b\b\b\b\b\b\b\b\b\b\b\b\b\b\b\b\b\b\b\b\b\b\b\b\b\b\b\b\b\b\b\b\b\b\b\b\b\b\b\b\b\b\b\b\b\b\b\b\b\b\b\b\b\b\b\b\b\r",
      " 37/150 [======>.......................] - ETA: 3s - loss: 0.0363 - accuracy: 1.0000"
     ]
    },
    {
     "name": "stdout",
     "output_type": "stream",
     "text": [
      "\b\b\b\b\b\b\b\b\b\b\b\b\b\b\b\b\b\b\b\b\b\b\b\b\b\b\b\b\b\b\b\b\b\b\b\b\b\b\b\b\b\b\b\b\b\b\b\b\b\b\b\b\b\b\b\b\b\b\b\b\b\b\b\b\b\b\b\b\b\b\b\b\b\b\b\b\b\b\b\b\b\b\b\b\r",
      " 39/150 [======>.......................] - ETA: 3s - loss: 0.0355 - accuracy: 1.0000"
     ]
    },
    {
     "name": "stdout",
     "output_type": "stream",
     "text": [
      "\b\b\b\b\b\b\b\b\b\b\b\b\b\b\b\b\b\b\b\b\b\b\b\b\b\b\b\b\b\b\b\b\b\b\b\b\b\b\b\b\b\b\b\b\b\b\b\b\b\b\b\b\b\b\b\b\b\b\b\b\b\b\b\b\b\b\b\b\b\b\b\b\b\b\b\b\b\b\b\b\b\b\b\b\r",
      " 41/150 [=======>......................] - ETA: 3s - loss: 0.0375 - accuracy: 1.0000"
     ]
    },
    {
     "name": "stdout",
     "output_type": "stream",
     "text": [
      "\b\b\b\b\b\b\b\b\b\b\b\b\b\b\b\b\b\b\b\b\b\b\b\b\b\b\b\b\b\b\b\b\b\b\b\b\b\b\b\b\b\b\b\b\b\b\b\b\b\b\b\b\b\b\b\b\b\b\b\b\b\b\b\b\b\b\b\b\b\b\b\b\b\b\b\b\b\b\b\b\b\b\b\b\r",
      " 43/150 [=======>......................] - ETA: 2s - loss: 0.0369 - accuracy: 1.0000"
     ]
    },
    {
     "name": "stdout",
     "output_type": "stream",
     "text": [
      "\b\b\b\b\b\b\b\b\b\b\b\b\b\b\b\b\b\b\b\b\b\b\b\b\b\b\b\b\b\b\b\b\b\b\b\b\b\b\b\b\b\b\b\b\b\b\b\b\b\b\b\b\b\b\b\b\b\b\b\b\b\b\b\b\b\b\b\b\b\b\b\b\b\b\b\b\b\b\b\b\b\b\b\b\r",
      " 45/150 [========>.....................] - ETA: 2s - loss: 0.0390 - accuracy: 1.0000"
     ]
    },
    {
     "name": "stdout",
     "output_type": "stream",
     "text": [
      "\b\b\b\b\b\b\b\b\b\b\b\b\b\b\b\b\b\b\b\b\b\b\b\b\b\b\b\b\b\b\b\b\b\b\b\b\b\b\b\b\b\b\b\b\b\b\b\b\b\b\b\b\b\b\b\b\b\b\b\b\b\b\b\b\b\b\b\b\b\b\b\b\b\b\b\b\b\b\b\b\b\b\b\b\r",
      " 47/150 [========>.....................] - ETA: 2s - loss: 0.0398 - accuracy: 1.0000"
     ]
    },
    {
     "name": "stdout",
     "output_type": "stream",
     "text": [
      "\b\b\b\b\b\b\b\b\b\b\b\b\b\b\b\b\b\b\b\b\b\b\b\b\b\b\b\b\b\b\b\b\b\b\b\b\b\b\b\b\b\b\b\b\b\b\b\b\b\b\b\b\b\b\b\b\b\b\b\b\b\b\b\b\b\b\b\b\b\b\b\b\b\b\b\b\b\b\b\b\b\b\b\b\r",
      " 49/150 [========>.....................] - ETA: 2s - loss: 0.0390 - accuracy: 1.0000"
     ]
    },
    {
     "name": "stdout",
     "output_type": "stream",
     "text": [
      "\b\b\b\b\b\b\b\b\b\b\b\b\b\b\b\b\b\b\b\b\b\b\b\b\b\b\b\b\b\b\b\b\b\b\b\b\b\b\b\b\b\b\b\b\b\b\b\b\b\b\b\b\b\b\b\b\b\b\b\b\b\b\b\b\b\b\b\b\b\b\b\b\b\b\b\b\b\b\b\b\b\b\b\b\r",
      " 51/150 [=========>....................] - ETA: 2s - loss: 0.0405 - accuracy: 1.0000"
     ]
    },
    {
     "name": "stdout",
     "output_type": "stream",
     "text": [
      "\b\b\b\b\b\b\b\b\b\b\b\b\b\b\b\b\b\b\b\b\b\b\b\b\b\b\b\b\b\b\b\b\b\b\b\b\b\b\b\b\b\b\b\b\b\b\b\b\b\b\b\b\b\b\b\b\b\b\b\b\b\b\b\b\b\b\b\b\b\b\b\b\b\b\b\b\b\b\b\b\b\b\b\b\r",
      " 53/150 [=========>....................] - ETA: 2s - loss: 0.0402 - accuracy: 1.0000"
     ]
    },
    {
     "name": "stdout",
     "output_type": "stream",
     "text": [
      "\b\b\b\b\b\b\b\b\b\b\b\b\b\b\b\b\b\b\b\b\b\b\b\b\b\b\b\b\b\b\b\b\b\b\b\b\b\b\b\b\b\b\b\b\b\b\b\b\b\b\b\b\b\b\b\b\b\b\b\b\b\b\b\b\b\b\b\b\b\b\b\b\b\b\b\b\b\b\b\b\b\b\b\b\r",
      " 55/150 [==========>...................] - ETA: 2s - loss: 0.0405 - accuracy: 1.0000"
     ]
    },
    {
     "name": "stdout",
     "output_type": "stream",
     "text": [
      "\b\b\b\b\b\b\b\b\b\b\b\b\b\b\b\b\b\b\b\b\b\b\b\b\b\b\b\b\b\b\b\b\b\b\b\b\b\b\b\b\b\b\b\b\b\b\b\b\b\b\b\b\b\b\b\b\b\b\b\b\b\b\b\b\b\b\b\b\b\b\b\b\b\b\b\b\b\b\b\b\b\b\b\b\r",
      " 57/150 [==========>...................] - ETA: 2s - loss: 0.0405 - accuracy: 1.0000"
     ]
    },
    {
     "name": "stdout",
     "output_type": "stream",
     "text": [
      "\b\b\b\b\b\b\b\b\b\b\b\b\b\b\b\b\b\b\b\b\b\b\b\b\b\b\b\b\b\b\b\b\b\b\b\b\b\b\b\b\b\b\b\b\b\b\b\b\b\b\b\b\b\b\b\b\b\b\b\b\b\b\b\b\b\b\b\b\b\b\b\b\b\b\b\b\b\b\b\b\b\b\b\b\r",
      " 59/150 [==========>...................] - ETA: 2s - loss: 0.0402 - accuracy: 1.0000"
     ]
    },
    {
     "name": "stdout",
     "output_type": "stream",
     "text": [
      "\b\b\b\b\b\b\b\b\b\b\b\b\b\b\b\b\b\b\b\b\b\b\b\b\b\b\b\b\b\b\b\b\b\b\b\b\b\b\b\b\b\b\b\b\b\b\b\b\b\b\b\b\b\b\b\b\b\b\b\b\b\b\b\b\b\b\b\b\b\b\b\b\b\b\b\b\b\b\b\b\b\b\b\b\r",
      " 61/150 [===========>..................] - ETA: 2s - loss: 0.0424 - accuracy: 1.0000"
     ]
    },
    {
     "name": "stdout",
     "output_type": "stream",
     "text": [
      "\b\b\b\b\b\b\b\b\b\b\b\b\b\b\b\b\b\b\b\b\b\b\b\b\b\b\b\b\b\b\b\b\b\b\b\b\b\b\b\b\b\b\b\b\b\b\b\b\b\b\b\b\b\b\b\b\b\b\b\b\b\b\b\b\b\b\b\b\b\b\b\b\b\b\b\b\b\b\b\b\b\b\b\b\r",
      " 63/150 [===========>..................] - ETA: 2s - loss: 0.0429 - accuracy: 1.0000"
     ]
    },
    {
     "name": "stdout",
     "output_type": "stream",
     "text": [
      "\b\b\b\b\b\b\b\b\b\b\b\b\b\b\b\b\b\b\b\b\b\b\b\b\b\b\b\b\b\b\b\b\b\b\b\b\b\b\b\b\b\b\b\b\b\b\b\b\b\b\b\b\b\b\b\b\b\b\b\b\b\b\b\b\b\b\b\b\b\b\b\b\b\b\b\b\b\b\b\b\b\b\b\b\r",
      " 65/150 [============>.................] - ETA: 2s - loss: 0.0427 - accuracy: 1.0000"
     ]
    },
    {
     "name": "stdout",
     "output_type": "stream",
     "text": [
      "\b\b\b\b\b\b\b\b\b\b\b\b\b\b\b\b\b\b\b\b\b\b\b\b\b\b\b\b\b\b\b\b\b\b\b\b\b\b\b\b\b\b\b\b\b\b\b\b\b\b\b\b\b\b\b\b\b\b\b\b\b\b\b\b\b\b\b\b\b\b\b\b\b\b\b\b\b\b\b\b\b\b\b\b\r",
      " 67/150 [============>.................] - ETA: 2s - loss: 0.0427 - accuracy: 1.0000"
     ]
    },
    {
     "name": "stdout",
     "output_type": "stream",
     "text": [
      "\b\b\b\b\b\b\b\b\b\b\b\b\b\b\b\b\b\b\b\b\b\b\b\b\b\b\b\b\b\b\b\b\b\b\b\b\b\b\b\b\b\b\b\b\b\b\b\b\b\b\b\b\b\b\b\b\b\b\b\b\b\b\b\b\b\b\b\b\b\b\b\b\b\b\b\b\b\b\b\b\b\b\b\b\r",
      " 69/150 [============>.................] - ETA: 2s - loss: 0.0419 - accuracy: 1.0000"
     ]
    },
    {
     "name": "stdout",
     "output_type": "stream",
     "text": [
      "\b\b\b\b\b\b\b\b\b\b\b\b\b\b\b\b\b\b\b\b\b\b\b\b\b\b\b\b\b\b\b\b\b\b\b\b\b\b\b\b\b\b\b\b\b\b\b\b\b\b\b\b\b\b\b\b\b\b\b\b\b\b\b\b\b\b\b\b\b\b\b\b\b\b\b\b\b\b\b\b\b\b\b\b\r",
      " 71/150 [=============>................] - ETA: 2s - loss: 0.0426 - accuracy: 1.0000"
     ]
    },
    {
     "name": "stdout",
     "output_type": "stream",
     "text": [
      "\b\b\b\b\b\b\b\b\b\b\b\b\b\b\b\b\b\b\b\b\b\b\b\b\b\b\b\b\b\b\b\b\b\b\b\b\b\b\b\b\b\b\b\b\b\b\b\b\b\b\b\b\b\b\b\b\b\b\b\b\b\b\b\b\b\b\b\b\b\b\b\b\b\b\b\b\b\b\b\b\b\b\b\b\r",
      " 73/150 [=============>................] - ETA: 2s - loss: 0.0417 - accuracy: 1.0000"
     ]
    },
    {
     "name": "stdout",
     "output_type": "stream",
     "text": [
      "\b\b\b\b\b\b\b\b\b\b\b\b\b\b\b\b\b\b\b\b\b\b\b\b\b\b\b\b\b\b\b\b\b\b\b\b\b\b\b\b\b\b\b\b\b\b\b\b\b\b\b\b\b\b\b\b\b\b\b\b\b\b\b\b\b\b\b\b\b\b\b\b\b\b\b\b\b\b\b\b\b\b\b\b\r",
      " 75/150 [==============>...............] - ETA: 2s - loss: 0.0408 - accuracy: 1.0000"
     ]
    },
    {
     "name": "stdout",
     "output_type": "stream",
     "text": [
      "\b\b\b\b\b\b\b\b\b\b\b\b\b\b\b\b\b\b\b\b\b\b\b\b\b\b\b\b\b\b\b\b\b\b\b\b\b\b\b\b\b\b\b\b\b\b\b\b\b\b\b\b\b\b\b\b\b\b\b\b\b\b\b\b\b\b\b\b\b\b\b\b\b\b\b\b\b\b\b\b\b\b\b\b\r",
      " 77/150 [==============>...............] - ETA: 2s - loss: 0.0402 - accuracy: 1.0000"
     ]
    },
    {
     "name": "stdout",
     "output_type": "stream",
     "text": [
      "\b\b\b\b\b\b\b\b\b\b\b\b\b\b\b\b\b\b\b\b\b\b\b\b\b\b\b\b\b\b\b\b\b\b\b\b\b\b\b\b\b\b\b\b\b\b\b\b\b\b\b\b\b\b\b\b\b\b\b\b\b\b\b\b\b\b\b\b\b\b\b\b\b\b\b\b\b\b\b\b\b\b\b\b\r",
      " 79/150 [==============>...............] - ETA: 1s - loss: 0.0394 - accuracy: 1.0000"
     ]
    },
    {
     "name": "stdout",
     "output_type": "stream",
     "text": [
      "\b\b\b\b\b\b\b\b\b\b\b\b\b\b\b\b\b\b\b\b\b\b\b\b\b\b\b\b\b\b\b\b\b\b\b\b\b\b\b\b\b\b\b\b\b\b\b\b\b\b\b\b\b\b\b\b\b\b\b\b\b\b\b\b\b\b\b\b\b\b\b\b\b\b\b\b\b\b\b\b\b\b\b\b\r",
      " 81/150 [===============>..............] - ETA: 1s - loss: 0.0408 - accuracy: 1.0000"
     ]
    },
    {
     "name": "stdout",
     "output_type": "stream",
     "text": [
      "\b\b\b\b\b\b\b\b\b\b\b\b\b\b\b\b\b\b\b\b\b\b\b\b\b\b\b\b\b\b\b\b\b\b\b\b\b\b\b\b\b\b\b\b\b\b\b\b\b\b\b\b\b\b\b\b\b\b\b\b\b\b\b\b\b\b\b\b\b\b\b\b\b\b\b\b\b\b\b\b\b\b\b\b\r",
      " 83/150 [===============>..............] - ETA: 1s - loss: 0.0403 - accuracy: 1.0000"
     ]
    },
    {
     "name": "stdout",
     "output_type": "stream",
     "text": [
      "\b\b\b\b\b\b\b\b\b\b\b\b\b\b\b\b\b\b\b\b\b\b\b\b\b\b\b\b\b\b\b\b\b\b\b\b\b\b\b\b\b\b\b\b\b\b\b\b\b\b\b\b\b\b\b\b\b\b\b\b\b\b\b\b\b\b\b\b\b\b\b\b\b\b\b\b\b\b\b\b\b\b\b\b\r",
      " 85/150 [================>.............] - ETA: 1s - loss: 0.0395 - accuracy: 1.0000"
     ]
    },
    {
     "name": "stdout",
     "output_type": "stream",
     "text": [
      "\b\b\b\b\b\b\b\b\b\b\b\b\b\b\b\b\b\b\b\b\b\b\b\b\b\b\b\b\b\b\b\b\b\b\b\b\b\b\b\b\b\b\b\b\b\b\b\b\b\b\b\b\b\b\b\b\b\b\b\b\b\b\b\b\b\b\b\b\b\b\b\b\b\b\b\b\b\b\b\b\b\b\b\b\r",
      " 87/150 [================>.............] - ETA: 1s - loss: 0.0393 - accuracy: 1.0000"
     ]
    },
    {
     "name": "stdout",
     "output_type": "stream",
     "text": [
      "\b\b\b\b\b\b\b\b\b\b\b\b\b\b\b\b\b\b\b\b\b\b\b\b\b\b\b\b\b\b\b\b\b\b\b\b\b\b\b\b\b\b\b\b\b\b\b\b\b\b\b\b\b\b\b\b\b\b\b\b\b\b\b\b\b\b\b\b\b\b\b\b\b\b\b\b\b\b\b\b\b\b\b\b\r",
      " 89/150 [================>.............] - ETA: 1s - loss: 0.0386 - accuracy: 1.0000"
     ]
    },
    {
     "name": "stdout",
     "output_type": "stream",
     "text": [
      "\b\b\b\b\b\b\b\b\b\b\b\b\b\b\b\b\b\b\b\b\b\b\b\b\b\b\b\b\b\b\b\b\b\b\b\b\b\b\b\b\b\b\b\b\b\b\b\b\b\b\b\b\b\b\b\b\b\b\b\b\b\b\b\b\b\b\b\b\b\b\b\b\b\b\b\b\b\b\b\b\b\b\b\b\r",
      " 91/150 [=================>............] - ETA: 1s - loss: 0.0393 - accuracy: 1.0000"
     ]
    },
    {
     "name": "stdout",
     "output_type": "stream",
     "text": [
      "\b\b\b\b\b\b\b\b\b\b\b\b\b\b\b\b\b\b\b\b\b\b\b\b\b\b\b\b\b\b\b\b\b\b\b\b\b\b\b\b\b\b\b\b\b\b\b\b\b\b\b\b\b\b\b\b\b\b\b\b\b\b\b\b\b\b\b\b\b\b\b\b\b\b\b\b\b\b\b\b\b\b\b\b\r",
      " 93/150 [=================>............] - ETA: 1s - loss: 0.0392 - accuracy: 1.0000"
     ]
    },
    {
     "name": "stdout",
     "output_type": "stream",
     "text": [
      "\b\b\b\b\b\b\b\b\b\b\b\b\b\b\b\b\b\b\b\b\b\b\b\b\b\b\b\b\b\b\b\b\b\b\b\b\b\b\b\b\b\b\b\b\b\b\b\b\b\b\b\b\b\b\b\b\b\b\b\b\b\b\b\b\b\b\b\b\b\b\b\b\b\b\b\b\b\b\b\b\b\b\b\b\r",
      " 95/150 [==================>...........] - ETA: 1s - loss: 0.0393 - accuracy: 1.0000"
     ]
    },
    {
     "name": "stdout",
     "output_type": "stream",
     "text": [
      "\b\b\b\b\b\b\b\b\b\b\b\b\b\b\b\b\b\b\b\b\b\b\b\b\b\b\b\b\b\b\b\b\b\b\b\b\b\b\b\b\b\b\b\b\b\b\b\b\b\b\b\b\b\b\b\b\b\b\b\b\b\b\b\b\b\b\b\b\b\b\b\b\b\b\b\b\b\b\b\b\b\b\b\b\r",
      " 97/150 [==================>...........] - ETA: 1s - loss: 0.0388 - accuracy: 1.0000"
     ]
    },
    {
     "name": "stdout",
     "output_type": "stream",
     "text": [
      "\b\b\b\b\b\b\b\b\b\b\b\b\b\b\b\b\b\b\b\b\b\b\b\b\b\b\b\b\b\b\b\b\b\b\b\b\b\b\b\b\b\b\b\b\b\b\b\b\b\b\b\b\b\b\b\b\b\b\b\b\b\b\b\b\b\b\b\b\b\b\b\b\b\b\b\b\b\b\b\b\b\b\b\b\r",
      " 99/150 [==================>...........] - ETA: 1s - loss: 0.0384 - accuracy: 1.0000"
     ]
    },
    {
     "name": "stdout",
     "output_type": "stream",
     "text": [
      "\b\b\b\b\b\b\b\b\b\b\b\b\b\b\b\b\b\b\b\b\b\b\b\b\b\b\b\b\b\b\b\b\b\b\b\b\b\b\b\b\b\b\b\b\b\b\b\b\b\b\b\b\b\b\b\b\b\b\b\b\b\b\b\b\b\b\b\b\b\b\b\b\b\b\b\b\b\b\b\b\b\b\b\b\r",
      "101/150 [===================>..........] - ETA: 1s - loss: 0.0378 - accuracy: 1.0000"
     ]
    },
    {
     "name": "stdout",
     "output_type": "stream",
     "text": [
      "\b\b\b\b\b\b\b\b\b\b\b\b\b\b\b\b\b\b\b\b\b\b\b\b\b\b\b\b\b\b\b\b\b\b\b\b\b\b\b\b\b\b\b\b\b\b\b\b\b\b\b\b\b\b\b\b\b\b\b\b\b\b\b\b\b\b\b\b\b\b\b\b\b\b\b\b\b\b\b\b\b\b\b\b\r",
      "103/150 [===================>..........] - ETA: 1s - loss: 0.0372 - accuracy: 1.0000"
     ]
    },
    {
     "name": "stdout",
     "output_type": "stream",
     "text": [
      "\b\b\b\b\b\b\b\b\b\b\b\b\b\b\b\b\b\b\b\b\b\b\b\b\b\b\b\b\b\b\b\b\b\b\b\b\b\b\b\b\b\b\b\b\b\b\b\b\b\b\b\b\b\b\b\b\b\b\b\b\b\b\b\b\b\b\b\b\b\b\b\b\b\b\b\b\b\b\b\b\b\b\b\b\r",
      "105/150 [====================>.........] - ETA: 1s - loss: 0.0377 - accuracy: 1.0000"
     ]
    },
    {
     "name": "stdout",
     "output_type": "stream",
     "text": [
      "\b\b\b\b\b\b\b\b\b\b\b\b\b\b\b\b\b\b\b\b\b\b\b\b\b\b\b\b\b\b\b\b\b\b\b\b\b\b\b\b\b\b\b\b\b\b\b\b\b\b\b\b\b\b\b\b\b\b\b\b\b\b\b\b\b\b\b\b\b\b\b\b\b\b\b\b\b\b\b\b\b\b\b\b\r",
      "107/150 [====================>.........] - ETA: 1s - loss: 0.0380 - accuracy: 1.0000"
     ]
    },
    {
     "name": "stdout",
     "output_type": "stream",
     "text": [
      "\b\b\b\b\b\b\b\b\b\b\b\b\b\b\b\b\b\b\b\b\b\b\b\b\b\b\b\b\b\b\b\b\b\b\b\b\b\b\b\b\b\b\b\b\b\b\b\b\b\b\b\b\b\b\b\b\b\b\b\b\b\b\b\b\b\b\b\b\b\b\b\b\b\b\b\b\b\b\b\b\b\b\b\b\r",
      "109/150 [====================>.........] - ETA: 1s - loss: 0.0378 - accuracy: 1.0000"
     ]
    },
    {
     "name": "stdout",
     "output_type": "stream",
     "text": [
      "\b\b\b\b\b\b\b\b\b\b\b\b\b\b\b\b\b\b\b\b\b\b\b\b\b\b\b\b\b\b\b\b\b\b\b\b\b\b\b\b\b\b\b\b\b\b\b\b\b\b\b\b\b\b\b\b\b\b\b\b\b\b\b\b\b\b\b\b\b\b\b\b\b\b\b\b\b\b\b\b\b\b\b\b\r",
      "111/150 [=====================>........] - ETA: 1s - loss: 0.0376 - accuracy: 1.0000"
     ]
    },
    {
     "name": "stdout",
     "output_type": "stream",
     "text": [
      "\b\b\b\b\b\b\b\b\b\b\b\b\b\b\b\b\b\b\b\b\b\b\b\b\b\b\b\b\b\b\b\b\b\b\b\b\b\b\b\b\b\b\b\b\b\b\b\b\b\b\b\b\b\b\b\b\b\b\b\b\b\b\b\b\b\b\b\b\b\b\b\b\b\b\b\b\b\b\b\b\b\b\b\b\r",
      "113/150 [=====================>........] - ETA: 1s - loss: 0.0376 - accuracy: 1.0000"
     ]
    },
    {
     "name": "stdout",
     "output_type": "stream",
     "text": [
      "\b\b\b\b\b\b\b\b\b\b\b\b\b\b\b\b\b\b\b\b\b\b\b\b\b\b\b\b\b\b\b\b\b\b\b\b\b\b\b\b\b\b\b\b\b\b\b\b\b\b\b\b\b\b\b\b\b\b\b\b\b\b\b\b\b\b\b\b\b\b\b\b\b\b\b\b\b\b\b\b\b\b\b\b\r",
      "115/150 [======================>.......] - ETA: 0s - loss: 0.0370 - accuracy: 1.0000"
     ]
    },
    {
     "name": "stdout",
     "output_type": "stream",
     "text": [
      "\b\b\b\b\b\b\b\b\b\b\b\b\b\b\b\b\b\b\b\b\b\b\b\b\b\b\b\b\b\b\b\b\b\b\b\b\b\b\b\b\b\b\b\b\b\b\b\b\b\b\b\b\b\b\b\b\b\b\b\b\b\b\b\b\b\b\b\b\b\b\b\b\b\b\b\b\b\b\b\b\b\b\b\b\r",
      "117/150 [======================>.......] - ETA: 0s - loss: 0.0367 - accuracy: 1.0000"
     ]
    },
    {
     "name": "stdout",
     "output_type": "stream",
     "text": [
      "\b\b\b\b\b\b\b\b\b\b\b\b\b\b\b\b\b\b\b\b\b\b\b\b\b\b\b\b\b\b\b\b\b\b\b\b\b\b\b\b\b\b\b\b\b\b\b\b\b\b\b\b\b\b\b\b\b\b\b\b\b\b\b\b\b\b\b\b\b\b\b\b\b\b\b\b\b\b\b\b\b\b\b\b\r",
      "119/150 [======================>.......] - ETA: 0s - loss: 0.0362 - accuracy: 1.0000"
     ]
    },
    {
     "name": "stdout",
     "output_type": "stream",
     "text": [
      "\b\b\b\b\b\b\b\b\b\b\b\b\b\b\b\b\b\b\b\b\b\b\b\b\b\b\b\b\b\b\b\b\b\b\b\b\b\b\b\b\b\b\b\b\b\b\b\b\b\b\b\b\b\b\b\b\b\b\b\b\b\b\b\b\b\b\b\b\b\b\b\b\b\b\b\b\b\b\b\b\b\b\b\b\r",
      "121/150 [=======================>......] - ETA: 0s - loss: 0.0359 - accuracy: 1.0000"
     ]
    },
    {
     "name": "stdout",
     "output_type": "stream",
     "text": [
      "\b\b\b\b\b\b\b\b\b\b\b\b\b\b\b\b\b\b\b\b\b\b\b\b\b\b\b\b\b\b\b\b\b\b\b\b\b\b\b\b\b\b\b\b\b\b\b\b\b\b\b\b\b\b\b\b\b\b\b\b\b\b\b\b\b\b\b\b\b\b\b\b\b\b\b\b\b\b\b\b\b\b\b\b\r",
      "123/150 [=======================>......] - ETA: 0s - loss: 0.0357 - accuracy: 1.0000"
     ]
    },
    {
     "name": "stdout",
     "output_type": "stream",
     "text": [
      "\b\b\b\b\b\b\b\b\b\b\b\b\b\b\b\b\b\b\b\b\b\b\b\b\b\b\b\b\b\b\b\b\b\b\b\b\b\b\b\b\b\b\b\b\b\b\b\b\b\b\b\b\b\b\b\b\b\b\b\b\b\b\b\b\b\b\b\b\b\b\b\b\b\b\b\b\b\b\b\b\b\b\b\b\r",
      "125/150 [========================>.....] - ETA: 0s - loss: 0.0356 - accuracy: 1.0000"
     ]
    },
    {
     "name": "stdout",
     "output_type": "stream",
     "text": [
      "\b\b\b\b\b\b\b\b\b\b\b\b\b\b\b\b\b\b\b\b\b\b\b\b\b\b\b\b\b\b\b\b\b\b\b\b\b\b\b\b\b\b\b\b\b\b\b\b\b\b\b\b\b\b\b\b\b\b\b\b\b\b\b\b\b\b\b\b\b\b\b\b\b\b\b\b\b\b\b\b\b\b\b\b\r",
      "127/150 [========================>.....] - ETA: 0s - loss: 0.0352 - accuracy: 1.0000"
     ]
    },
    {
     "name": "stdout",
     "output_type": "stream",
     "text": [
      "\b\b\b\b\b\b\b\b\b\b\b\b\b\b\b\b\b\b\b\b\b\b\b\b\b\b\b\b\b\b\b\b\b\b\b\b\b\b\b\b\b\b\b\b\b\b\b\b\b\b\b\b\b\b\b\b\b\b\b\b\b\b\b\b\b\b\b\b\b\b\b\b\b\b\b\b\b\b\b\b\b\b\b\b\r",
      "129/150 [========================>.....] - ETA: 0s - loss: 0.0358 - accuracy: 1.0000"
     ]
    },
    {
     "name": "stdout",
     "output_type": "stream",
     "text": [
      "\b\b\b\b\b\b\b\b\b\b\b\b\b\b\b\b\b\b\b\b\b\b\b\b\b\b\b\b\b\b\b\b\b\b\b\b\b\b\b\b\b\b\b\b\b\b\b\b\b\b\b\b\b\b\b\b\b\b\b\b\b\b\b\b\b\b\b\b\b\b\b\b\b\b\b\b\b\b\b\b\b\b\b\b\r",
      "131/150 [=========================>....] - ETA: 0s - loss: 0.0354 - accuracy: 1.0000"
     ]
    },
    {
     "name": "stdout",
     "output_type": "stream",
     "text": [
      "\b\b\b\b\b\b\b\b\b\b\b\b\b\b\b\b\b\b\b\b\b\b\b\b\b\b\b\b\b\b\b\b\b\b\b\b\b\b\b\b\b\b\b\b\b\b\b\b\b\b\b\b\b\b\b\b\b\b\b\b\b\b\b\b\b\b\b\b\b\b\b\b\b\b\b\b\b\b\b\b\b\b\b\b\r",
      "133/150 [=========================>....] - ETA: 0s - loss: 0.0352 - accuracy: 1.0000"
     ]
    },
    {
     "name": "stdout",
     "output_type": "stream",
     "text": [
      "\b\b\b\b\b\b\b\b\b\b\b\b\b\b\b\b\b\b\b\b\b\b\b\b\b\b\b\b\b\b\b\b\b\b\b\b\b\b\b\b\b\b\b\b\b\b\b\b\b\b\b\b\b\b\b\b\b\b\b\b\b\b\b\b\b\b\b\b\b\b\b\b\b\b\b\b\b\b\b\b\b\b\b\b\r",
      "135/150 [==========================>...] - ETA: 0s - loss: 0.0349 - accuracy: 1.0000"
     ]
    },
    {
     "name": "stdout",
     "output_type": "stream",
     "text": [
      "\b\b\b\b\b\b\b\b\b\b\b\b\b\b\b\b\b\b\b\b\b\b\b\b\b\b\b\b\b\b\b\b\b\b\b\b\b\b\b\b\b\b\b\b\b\b\b\b\b\b\b\b\b\b\b\b\b\b\b\b\b\b\b\b\b\b\b\b\b\b\b\b\b\b\b\b\b\b\b\b\b\b\b\b\r",
      "137/150 [==========================>...] - ETA: 0s - loss: 0.0356 - accuracy: 1.0000"
     ]
    },
    {
     "name": "stdout",
     "output_type": "stream",
     "text": [
      "\b\b\b\b\b\b\b\b\b\b\b\b\b\b\b\b\b\b\b\b\b\b\b\b\b\b\b\b\b\b\b\b\b\b\b\b\b\b\b\b\b\b\b\b\b\b\b\b\b\b\b\b\b\b\b\b\b\b\b\b\b\b\b\b\b\b\b\b\b\b\b\b\b\b\b\b\b\b\b\b\b\b\b\b\r",
      "139/150 [==========================>...] - ETA: 0s - loss: 0.0354 - accuracy: 1.0000"
     ]
    },
    {
     "name": "stdout",
     "output_type": "stream",
     "text": [
      "\b\b\b\b\b\b\b\b\b\b\b\b\b\b\b\b\b\b\b\b\b\b\b\b\b\b\b\b\b\b\b\b\b\b\b\b\b\b\b\b\b\b\b\b\b\b\b\b\b\b\b\b\b\b\b\b\b\b\b\b\b\b\b\b\b\b\b\b\b\b\b\b\b\b\b\b\b\b\b\b\b\b\b\b\r",
      "141/150 [===========================>..] - ETA: 0s - loss: 0.0350 - accuracy: 1.0000"
     ]
    },
    {
     "name": "stdout",
     "output_type": "stream",
     "text": [
      "\b\b\b\b\b\b\b\b\b\b\b\b\b\b\b\b\b\b\b\b\b\b\b\b\b\b\b\b\b\b\b\b\b\b\b\b\b\b\b\b\b\b\b\b\b\b\b\b\b\b\b\b\b\b\b\b\b\b\b\b\b\b\b\b\b\b\b\b\b\b\b\b\b\b\b\b\b\b\b\b\b\b\b\b\r",
      "143/150 [===========================>..] - ETA: 0s - loss: 0.0346 - accuracy: 1.0000"
     ]
    },
    {
     "name": "stdout",
     "output_type": "stream",
     "text": [
      "\b\b\b\b\b\b\b\b\b\b\b\b\b\b\b\b\b\b\b\b\b\b\b\b\b\b\b\b\b\b\b\b\b\b\b\b\b\b\b\b\b\b\b\b\b\b\b\b\b\b\b\b\b\b\b\b\b\b\b\b\b\b\b\b\b\b\b\b\b\b\b\b\b\b\b\b\b\b\b\b\b\b\b\b\r",
      "145/150 [============================>.] - ETA: 0s - loss: 0.0347 - accuracy: 1.0000"
     ]
    },
    {
     "name": "stdout",
     "output_type": "stream",
     "text": [
      "\b\b\b\b\b\b\b\b\b\b\b\b\b\b\b\b\b\b\b\b\b\b\b\b\b\b\b\b\b\b\b\b\b\b\b\b\b\b\b\b\b\b\b\b\b\b\b\b\b\b\b\b\b\b\b\b\b\b\b\b\b\b\b\b\b\b\b\b\b\b\b\b\b\b\b\b\b\b\b\b\b\b\b\b\r",
      "147/150 [============================>.] - ETA: 0s - loss: 0.0343 - accuracy: 1.0000"
     ]
    },
    {
     "name": "stdout",
     "output_type": "stream",
     "text": [
      "\b\b\b\b\b\b\b\b\b\b\b\b\b\b\b\b\b\b\b\b\b\b\b\b\b\b\b\b\b\b\b\b\b\b\b\b\b\b\b\b\b\b\b\b\b\b\b\b\b\b\b\b\b\b\b\b\b\b\b\b\b\b\b\b\b\b\b\b\b\b\b\b\b\b\b\b\b\b\b\b\b\b\b\b\r",
      "149/150 [============================>.] - ETA: 0s - loss: 0.0340 - accuracy: 1.0000"
     ]
    },
    {
     "name": "stdout",
     "output_type": "stream",
     "text": [
      "\b\b\b\b\b\b\b\b\b\b\b\b\b\b\b\b\b\b\b\b\b\b\b\b\b\b\b\b\b\b\b\b\b\b\b\b\b\b\b\b\b\b\b\b\b\b\b\b\b\b\b\b\b\b\b\b\b\b\b\b\b\b\b\b\b\b\b\b\b\b\b\b\b\b\b\b\b\b\b\b\b\b\b\b\r",
      "150/150 [==============================] - 5s 37ms/step - loss: 0.0343 - accuracy: 1.0000 - val_loss: 0.0927 - val_accuracy: 0.9600\n"
     ]
    },
    {
     "name": "stdout",
     "output_type": "stream",
     "text": [
      "Epoch 10/10\n"
     ]
    },
    {
     "name": "stdout",
     "output_type": "stream",
     "text": [
      "\r",
      "  1/150 [..............................] - ETA: 4s - loss: 0.1740 - accuracy: 1.0000"
     ]
    },
    {
     "name": "stdout",
     "output_type": "stream",
     "text": [
      "\b\b\b\b\b\b\b\b\b\b\b\b\b\b\b\b\b\b\b\b\b\b\b\b\b\b\b\b\b\b\b\b\b\b\b\b\b\b\b\b\b\b\b\b\b\b\b\b\b\b\b\b\b\b\b\b\b\b\b\b\b\b\b\b\b\b\b\b\b\b\b\b\b\b\b\b\b\b\b\b\b\b\b\b\r",
      "  3/150 [..............................] - ETA: 4s - loss: 0.0874 - accuracy: 1.0000"
     ]
    },
    {
     "name": "stdout",
     "output_type": "stream",
     "text": [
      "\b\b\b\b\b\b\b\b\b\b\b\b\b\b\b\b\b\b\b\b\b\b\b\b\b\b\b\b\b\b\b\b\b\b\b\b\b\b\b\b\b\b\b\b\b\b\b\b\b\b\b\b\b\b\b\b\b\b\b\b\b\b\b\b\b\b\b\b\b\b\b\b\b\b\b\b\b\b\b\b\b\b\b\b\r",
      "  5/150 [>.............................] - ETA: 4s - loss: 0.0628 - accuracy: 1.0000"
     ]
    },
    {
     "name": "stdout",
     "output_type": "stream",
     "text": [
      "\b\b\b\b\b\b\b\b\b\b\b\b\b\b\b\b\b\b\b\b\b\b\b\b\b\b\b\b\b\b\b\b\b\b\b\b\b\b\b\b\b\b\b\b\b\b\b\b\b\b\b\b\b\b\b\b\b\b\b\b\b\b\b\b\b\b\b\b\b\b\b\b\b\b\b\b\b\b\b\b\b\b\b\b\r",
      "  7/150 [>.............................] - ETA: 3s - loss: 0.0492 - accuracy: 1.0000"
     ]
    },
    {
     "name": "stdout",
     "output_type": "stream",
     "text": [
      "\b\b\b\b\b\b\b\b\b\b\b\b\b\b\b\b\b\b\b\b\b\b\b\b\b\b\b\b\b\b\b\b\b\b\b\b\b\b\b\b\b\b\b\b\b\b\b\b\b\b\b\b\b\b\b\b\b\b\b\b\b\b\b\b\b\b\b\b\b\b\b\b\b\b\b\b\b\b\b\b\b\b\b\b\r",
      "  9/150 [>.............................] - ETA: 3s - loss: 0.0452 - accuracy: 1.0000"
     ]
    },
    {
     "name": "stdout",
     "output_type": "stream",
     "text": [
      "\b\b\b\b\b\b\b\b\b\b\b\b\b\b\b\b\b\b\b\b\b\b\b\b\b\b\b\b\b\b\b\b\b\b\b\b\b\b\b\b\b\b\b\b\b\b\b\b\b\b\b\b\b\b\b\b\b\b\b\b\b\b\b\b\b\b\b\b\b\b\b\b\b\b\b\b\b\b\b\b\b\b\b\b\r",
      " 11/150 [=>............................] - ETA: 3s - loss: 0.0375 - accuracy: 1.0000"
     ]
    },
    {
     "name": "stdout",
     "output_type": "stream",
     "text": [
      "\b\b\b\b\b\b\b\b\b\b\b\b\b\b\b\b\b\b\b\b\b\b\b\b\b\b\b\b\b\b\b\b\b\b\b\b\b\b\b\b\b\b\b\b\b\b\b\b\b\b\b\b\b\b\b\b\b\b\b\b\b\b\b\b\b\b\b\b\b\b\b\b\b\b\b\b\b\b\b\b\b\b\b\b\r",
      " 13/150 [=>............................] - ETA: 3s - loss: 0.0375 - accuracy: 1.0000"
     ]
    },
    {
     "name": "stdout",
     "output_type": "stream",
     "text": [
      "\b\b\b\b\b\b\b\b\b\b\b\b\b\b\b\b\b\b\b\b\b\b\b\b\b\b\b\b\b\b\b\b\b\b\b\b\b\b\b\b\b\b\b\b\b\b\b\b\b\b\b\b\b\b\b\b\b\b\b\b\b\b\b\b\b\b\b\b\b\b\b\b\b\b\b\b\b\b\b\b\b\b\b\b\r",
      " 15/150 [==>...........................] - ETA: 3s - loss: 0.0334 - accuracy: 1.0000"
     ]
    },
    {
     "name": "stdout",
     "output_type": "stream",
     "text": [
      "\b\b\b\b\b\b\b\b\b\b\b\b\b\b\b\b\b\b\b\b\b\b\b\b\b\b\b\b\b\b\b\b\b\b\b\b\b\b\b\b\b\b\b\b\b\b\b\b\b\b\b\b\b\b\b\b\b\b\b\b\b\b\b\b\b\b\b\b\b\b\b\b\b\b\b\b\b\b\b\b\b\b\b\b\r",
      " 17/150 [==>...........................] - ETA: 3s - loss: 0.0308 - accuracy: 1.0000"
     ]
    },
    {
     "name": "stdout",
     "output_type": "stream",
     "text": [
      "\b\b\b\b\b\b\b\b\b\b\b\b\b\b\b\b\b\b\b\b\b\b\b\b\b\b\b\b\b\b\b\b\b\b\b\b\b\b\b\b\b\b\b\b\b\b\b\b\b\b\b\b\b\b\b\b\b\b\b\b\b\b\b\b\b\b\b\b\b\b\b\b\b\b\b\b\b\b\b\b\b\b\b\b\r",
      " 19/150 [==>...........................] - ETA: 3s - loss: 0.0321 - accuracy: 1.0000"
     ]
    },
    {
     "name": "stdout",
     "output_type": "stream",
     "text": [
      "\b\b\b\b\b\b\b\b\b\b\b\b\b\b\b\b\b\b\b\b\b\b\b\b\b\b\b\b\b\b\b\b\b\b\b\b\b\b\b\b\b\b\b\b\b\b\b\b\b\b\b\b\b\b\b\b\b\b\b\b\b\b\b\b\b\b\b\b\b\b\b\b\b\b\b\b\b\b\b\b\b\b\b\b\r",
      " 21/150 [===>..........................] - ETA: 3s - loss: 0.0318 - accuracy: 1.0000"
     ]
    },
    {
     "name": "stdout",
     "output_type": "stream",
     "text": [
      "\b\b\b\b\b\b\b\b\b\b\b\b\b\b\b\b\b\b\b\b\b\b\b\b\b\b\b\b\b\b\b\b\b\b\b\b\b\b\b\b\b\b\b\b\b\b\b\b\b\b\b\b\b\b\b\b\b\b\b\b\b\b\b\b\b\b\b\b\b\b\b\b\b\b\b\b\b\b\b\b\b\b\b\b\r",
      " 23/150 [===>..........................] - ETA: 3s - loss: 0.0299 - accuracy: 1.0000"
     ]
    },
    {
     "name": "stdout",
     "output_type": "stream",
     "text": [
      "\b\b\b\b\b\b\b\b\b\b\b\b\b\b\b\b\b\b\b\b\b\b\b\b\b\b\b\b\b\b\b\b\b\b\b\b\b\b\b\b\b\b\b\b\b\b\b\b\b\b\b\b\b\b\b\b\b\b\b\b\b\b\b\b\b\b\b\b\b\b\b\b\b\b\b\b\b\b\b\b\b\b\b\b\r",
      " 25/150 [====>.........................] - ETA: 3s - loss: 0.0317 - accuracy: 1.0000"
     ]
    },
    {
     "name": "stdout",
     "output_type": "stream",
     "text": [
      "\b\b\b\b\b\b\b\b\b\b\b\b\b\b\b\b\b\b\b\b\b\b\b\b\b\b\b\b\b\b\b\b\b\b\b\b\b\b\b\b\b\b\b\b\b\b\b\b\b\b\b\b\b\b\b\b\b\b\b\b\b\b\b\b\b\b\b\b\b\b\b\b\b\b\b\b\b\b\b\b\b\b\b\b\r",
      " 27/150 [====>.........................] - ETA: 3s - loss: 0.0314 - accuracy: 1.0000"
     ]
    },
    {
     "name": "stdout",
     "output_type": "stream",
     "text": [
      "\b\b\b\b\b\b\b\b\b\b\b\b\b\b\b\b\b\b\b\b\b\b\b\b\b\b\b\b\b\b\b\b\b\b\b\b\b\b\b\b\b\b\b\b\b\b\b\b\b\b\b\b\b\b\b\b\b\b\b\b\b\b\b\b\b\b\b\b\b\b\b\b\b\b\b\b\b\b\b\b\b\b\b\b\r",
      " 29/150 [====>.........................] - ETA: 3s - loss: 0.0304 - accuracy: 1.0000"
     ]
    },
    {
     "name": "stdout",
     "output_type": "stream",
     "text": [
      "\b\b\b\b\b\b\b\b\b\b\b\b\b\b\b\b\b\b\b\b\b\b\b\b\b\b\b\b\b\b\b\b\b\b\b\b\b\b\b\b\b\b\b\b\b\b\b\b\b\b\b\b\b\b\b\b\b\b\b\b\b\b\b\b\b\b\b\b\b\b\b\b\b\b\b\b\b\b\b\b\b\b\b\b\r",
      " 31/150 [=====>........................] - ETA: 3s - loss: 0.0304 - accuracy: 1.0000"
     ]
    },
    {
     "name": "stdout",
     "output_type": "stream",
     "text": [
      "\b\b\b\b\b\b\b\b\b\b\b\b\b\b\b\b\b\b\b\b\b\b\b\b\b\b\b\b\b\b\b\b\b\b\b\b\b\b\b\b\b\b\b\b\b\b\b\b\b\b\b\b\b\b\b\b\b\b\b\b\b\b\b\b\b\b\b\b\b\b\b\b\b\b\b\b\b\b\b\b\b\b\b\b\r",
      " 33/150 [=====>........................] - ETA: 3s - loss: 0.0299 - accuracy: 1.0000"
     ]
    },
    {
     "name": "stdout",
     "output_type": "stream",
     "text": [
      "\b\b\b\b\b\b\b\b\b\b\b\b\b\b\b\b\b\b\b\b\b\b\b\b\b\b\b\b\b\b\b\b\b\b\b\b\b\b\b\b\b\b\b\b\b\b\b\b\b\b\b\b\b\b\b\b\b\b\b\b\b\b\b\b\b\b\b\b\b\b\b\b\b\b\b\b\b\b\b\b\b\b\b\b\r",
      " 35/150 [======>.......................] - ETA: 3s - loss: 0.0296 - accuracy: 1.0000"
     ]
    },
    {
     "name": "stdout",
     "output_type": "stream",
     "text": [
      "\b\b\b\b\b\b\b\b\b\b\b\b\b\b\b\b\b\b\b\b\b\b\b\b\b\b\b\b\b\b\b\b\b\b\b\b\b\b\b\b\b\b\b\b\b\b\b\b\b\b\b\b\b\b\b\b\b\b\b\b\b\b\b\b\b\b\b\b\b\b\b\b\b\b\b\b\b\b\b\b\b\b\b\b\r",
      " 37/150 [======>.......................] - ETA: 3s - loss: 0.0289 - accuracy: 1.0000"
     ]
    },
    {
     "name": "stdout",
     "output_type": "stream",
     "text": [
      "\b\b\b\b\b\b\b\b\b\b\b\b\b\b\b\b\b\b\b\b\b\b\b\b\b\b\b\b\b\b\b\b\b\b\b\b\b\b\b\b\b\b\b\b\b\b\b\b\b\b\b\b\b\b\b\b\b\b\b\b\b\b\b\b\b\b\b\b\b\b\b\b\b\b\b\b\b\b\b\b\b\b\b\b\r",
      " 39/150 [======>.......................] - ETA: 3s - loss: 0.0283 - accuracy: 1.0000"
     ]
    },
    {
     "name": "stdout",
     "output_type": "stream",
     "text": [
      "\b\b\b\b\b\b\b\b\b\b\b\b\b\b\b\b\b\b\b\b\b\b\b\b\b\b\b\b\b\b\b\b\b\b\b\b\b\b\b\b\b\b\b\b\b\b\b\b\b\b\b\b\b\b\b\b\b\b\b\b\b\b\b\b\b\b\b\b\b\b\b\b\b\b\b\b\b\b\b\b\b\b\b\b\r",
      " 41/150 [=======>......................] - ETA: 2s - loss: 0.0276 - accuracy: 1.0000"
     ]
    },
    {
     "name": "stdout",
     "output_type": "stream",
     "text": [
      "\b\b\b\b\b\b\b\b\b\b\b\b\b\b\b\b\b\b\b\b\b\b\b\b\b\b\b\b\b\b\b\b\b\b\b\b\b\b\b\b\b\b\b\b\b\b\b\b\b\b\b\b\b\b\b\b\b\b\b\b\b\b\b\b\b\b\b\b\b\b\b\b\b\b\b\b\b\b\b\b\b\b\b\b\r",
      " 43/150 [=======>......................] - ETA: 2s - loss: 0.0282 - accuracy: 1.0000"
     ]
    },
    {
     "name": "stdout",
     "output_type": "stream",
     "text": [
      "\b\b\b\b\b\b\b\b\b\b\b\b\b\b\b\b\b\b\b\b\b\b\b\b\b\b\b\b\b\b\b\b\b\b\b\b\b\b\b\b\b\b\b\b\b\b\b\b\b\b\b\b\b\b\b\b\b\b\b\b\b\b\b\b\b\b\b\b\b\b\b\b\b\b\b\b\b\b\b\b\b\b\b\b\r",
      " 45/150 [========>.....................] - ETA: 2s - loss: 0.0279 - accuracy: 1.0000"
     ]
    },
    {
     "name": "stdout",
     "output_type": "stream",
     "text": [
      "\b\b\b\b\b\b\b\b\b\b\b\b\b\b\b\b\b\b\b\b\b\b\b\b\b\b\b\b\b\b\b\b\b\b\b\b\b\b\b\b\b\b\b\b\b\b\b\b\b\b\b\b\b\b\b\b\b\b\b\b\b\b\b\b\b\b\b\b\b\b\b\b\b\b\b\b\b\b\b\b\b\b\b\b\r",
      " 47/150 [========>.....................] - ETA: 2s - loss: 0.0270 - accuracy: 1.0000"
     ]
    },
    {
     "name": "stdout",
     "output_type": "stream",
     "text": [
      "\b\b\b\b\b\b\b\b\b\b\b\b\b\b\b\b\b\b\b\b\b\b\b\b\b\b\b\b\b\b\b\b\b\b\b\b\b\b\b\b\b\b\b\b\b\b\b\b\b\b\b\b\b\b\b\b\b\b\b\b\b\b\b\b\b\b\b\b\b\b\b\b\b\b\b\b\b\b\b\b\b\b\b\b\r",
      " 49/150 [========>.....................] - ETA: 2s - loss: 0.0281 - accuracy: 1.0000"
     ]
    },
    {
     "name": "stdout",
     "output_type": "stream",
     "text": [
      "\b\b\b\b\b\b\b\b\b\b\b\b\b\b\b\b\b\b\b\b\b\b\b\b\b\b\b\b\b\b\b\b\b\b\b\b\b\b\b\b\b\b\b\b\b\b\b\b\b\b\b\b\b\b\b\b\b\b\b\b\b\b\b\b\b\b\b\b\b\b\b\b\b\b\b\b\b\b\b\b\b\b\b\b\r",
      " 51/150 [=========>....................] - ETA: 2s - loss: 0.0272 - accuracy: 1.0000"
     ]
    },
    {
     "name": "stdout",
     "output_type": "stream",
     "text": [
      "\b\b\b\b\b\b\b\b\b\b\b\b\b\b\b\b\b\b\b\b\b\b\b\b\b\b\b\b\b\b\b\b\b\b\b\b\b\b\b\b\b\b\b\b\b\b\b\b\b\b\b\b\b\b\b\b\b\b\b\b\b\b\b\b\b\b\b\b\b\b\b\b\b\b\b\b\b\b\b\b\b\b\b\b\r",
      " 53/150 [=========>....................] - ETA: 2s - loss: 0.0269 - accuracy: 1.0000"
     ]
    },
    {
     "name": "stdout",
     "output_type": "stream",
     "text": [
      "\b\b\b\b\b\b\b\b\b\b\b\b\b\b\b\b\b\b\b\b\b\b\b\b\b\b\b\b\b\b\b\b\b\b\b\b\b\b\b\b\b\b\b\b\b\b\b\b\b\b\b\b\b\b\b\b\b\b\b\b\b\b\b\b\b\b\b\b\b\b\b\b\b\b\b\b\b\b\b\b\b\b\b\b\r",
      " 55/150 [==========>...................] - ETA: 2s - loss: 0.0270 - accuracy: 1.0000"
     ]
    },
    {
     "name": "stdout",
     "output_type": "stream",
     "text": [
      "\b\b\b\b\b\b\b\b\b\b\b\b\b\b\b\b\b\b\b\b\b\b\b\b\b\b\b\b\b\b\b\b\b\b\b\b\b\b\b\b\b\b\b\b\b\b\b\b\b\b\b\b\b\b\b\b\b\b\b\b\b\b\b\b\b\b\b\b\b\b\b\b\b\b\b\b\b\b\b\b\b\b\b\b\r",
      " 57/150 [==========>...................] - ETA: 2s - loss: 0.0264 - accuracy: 1.0000"
     ]
    },
    {
     "name": "stdout",
     "output_type": "stream",
     "text": [
      "\b\b\b\b\b\b\b\b\b\b\b\b\b\b\b\b\b\b\b\b\b\b\b\b\b\b\b\b\b\b\b\b\b\b\b\b\b\b\b\b\b\b\b\b\b\b\b\b\b\b\b\b\b\b\b\b\b\b\b\b\b\b\b\b\b\b\b\b\b\b\b\b\b\b\b\b\b\b\b\b\b\b\b\b\r",
      " 59/150 [==========>...................] - ETA: 2s - loss: 0.0257 - accuracy: 1.0000"
     ]
    },
    {
     "name": "stdout",
     "output_type": "stream",
     "text": [
      "\b\b\b\b\b\b\b\b\b\b\b\b\b\b\b\b\b\b\b\b\b\b\b\b\b\b\b\b\b\b\b\b\b\b\b\b\b\b\b\b\b\b\b\b\b\b\b\b\b\b\b\b\b\b\b\b\b\b\b\b\b\b\b\b\b\b\b\b\b\b\b\b\b\b\b\b\b\b\b\b\b\b\b\b\r",
      " 61/150 [===========>..................] - ETA: 2s - loss: 0.0270 - accuracy: 1.0000"
     ]
    },
    {
     "name": "stdout",
     "output_type": "stream",
     "text": [
      "\b\b\b\b\b\b\b\b\b\b\b\b\b\b\b\b\b\b\b\b\b\b\b\b\b\b\b\b\b\b\b\b\b\b\b\b\b\b\b\b\b\b\b\b\b\b\b\b\b\b\b\b\b\b\b\b\b\b\b\b\b\b\b\b\b\b\b\b\b\b\b\b\b\b\b\b\b\b\b\b\b\b\b\b\r",
      " 63/150 [===========>..................] - ETA: 2s - loss: 0.0269 - accuracy: 1.0000"
     ]
    },
    {
     "name": "stdout",
     "output_type": "stream",
     "text": [
      "\b\b\b\b\b\b\b\b\b\b\b\b\b\b\b\b\b\b\b\b\b\b\b\b\b\b\b\b\b\b\b\b\b\b\b\b\b\b\b\b\b\b\b\b\b\b\b\b\b\b\b\b\b\b\b\b\b\b\b\b\b\b\b\b\b\b\b\b\b\b\b\b\b\b\b\b\b\b\b\b\b\b\b\b\r",
      " 65/150 [============>.................] - ETA: 2s - loss: 0.0265 - accuracy: 1.0000"
     ]
    },
    {
     "name": "stdout",
     "output_type": "stream",
     "text": [
      "\b\b\b\b\b\b\b\b\b\b\b\b\b\b\b\b\b\b\b\b\b\b\b\b\b\b\b\b\b\b\b\b\b\b\b\b\b\b\b\b\b\b\b\b\b\b\b\b\b\b\b\b\b\b\b\b\b\b\b\b\b\b\b\b\b\b\b\b\b\b\b\b\b\b\b\b\b\b\b\b\b\b\b\b\r",
      " 67/150 [============>.................] - ETA: 2s - loss: 0.0260 - accuracy: 1.0000"
     ]
    },
    {
     "name": "stdout",
     "output_type": "stream",
     "text": [
      "\b\b\b\b\b\b\b\b\b\b\b\b\b\b\b\b\b\b\b\b\b\b\b\b\b\b\b\b\b\b\b\b\b\b\b\b\b\b\b\b\b\b\b\b\b\b\b\b\b\b\b\b\b\b\b\b\b\b\b\b\b\b\b\b\b\b\b\b\b\b\b\b\b\b\b\b\b\b\b\b\b\b\b\b\r",
      " 69/150 [============>.................] - ETA: 2s - loss: 0.0254 - accuracy: 1.0000"
     ]
    },
    {
     "name": "stdout",
     "output_type": "stream",
     "text": [
      "\b\b\b\b\b\b\b\b\b\b\b\b\b\b\b\b\b\b\b\b\b\b\b\b\b\b\b\b\b\b\b\b\b\b\b\b\b\b\b\b\b\b\b\b\b\b\b\b\b\b\b\b\b\b\b\b\b\b\b\b\b\b\b\b\b\b\b\b\b\b\b\b\b\b\b\b\b\b\b\b\b\b\b\b\r",
      " 71/150 [=============>................] - ETA: 2s - loss: 0.0259 - accuracy: 1.0000"
     ]
    },
    {
     "name": "stdout",
     "output_type": "stream",
     "text": [
      "\b\b\b\b\b\b\b\b\b\b\b\b\b\b\b\b\b\b\b\b\b\b\b\b\b\b\b\b\b\b\b\b\b\b\b\b\b\b\b\b\b\b\b\b\b\b\b\b\b\b\b\b\b\b\b\b\b\b\b\b\b\b\b\b\b\b\b\b\b\b\b\b\b\b\b\b\b\b\b\b\b\b\b\b\r",
      " 73/150 [=============>................] - ETA: 2s - loss: 0.0259 - accuracy: 1.0000"
     ]
    },
    {
     "name": "stdout",
     "output_type": "stream",
     "text": [
      "\b\b\b\b\b\b\b\b\b\b\b\b\b\b\b\b\b\b\b\b\b\b\b\b\b\b\b\b\b\b\b\b\b\b\b\b\b\b\b\b\b\b\b\b\b\b\b\b\b\b\b\b\b\b\b\b\b\b\b\b\b\b\b\b\b\b\b\b\b\b\b\b\b\b\b\b\b\b\b\b\b\b\b\b\r",
      " 75/150 [==============>...............] - ETA: 2s - loss: 0.0258 - accuracy: 1.0000"
     ]
    },
    {
     "name": "stdout",
     "output_type": "stream",
     "text": [
      "\b\b\b\b\b\b\b\b\b\b\b\b\b\b\b\b\b\b\b\b\b\b\b\b\b\b\b\b\b\b\b\b\b\b\b\b\b\b\b\b\b\b\b\b\b\b\b\b\b\b\b\b\b\b\b\b\b\b\b\b\b\b\b\b\b\b\b\b\b\b\b\b\b\b\b\b\b\b\b\b\b\b\b\b\r",
      " 77/150 [==============>...............] - ETA: 1s - loss: 0.0275 - accuracy: 1.0000"
     ]
    },
    {
     "name": "stdout",
     "output_type": "stream",
     "text": [
      "\b\b\b\b\b\b\b\b\b\b\b\b\b\b\b\b\b\b\b\b\b\b\b\b\b\b\b\b\b\b\b\b\b\b\b\b\b\b\b\b\b\b\b\b\b\b\b\b\b\b\b\b\b\b\b\b\b\b\b\b\b\b\b\b\b\b\b\b\b\b\b\b\b\b\b\b\b\b\b\b\b\b\b\b\r",
      " 79/150 [==============>...............] - ETA: 1s - loss: 0.0273 - accuracy: 1.0000"
     ]
    },
    {
     "name": "stdout",
     "output_type": "stream",
     "text": [
      "\b\b\b\b\b\b\b\b\b\b\b\b\b\b\b\b\b\b\b\b\b\b\b\b\b\b\b\b\b\b\b\b\b\b\b\b\b\b\b\b\b\b\b\b\b\b\b\b\b\b\b\b\b\b\b\b\b\b\b\b\b\b\b\b\b\b\b\b\b\b\b\b\b\b\b\b\b\b\b\b\b\b\b\b\r",
      " 81/150 [===============>..............] - ETA: 1s - loss: 0.0270 - accuracy: 1.0000"
     ]
    },
    {
     "name": "stdout",
     "output_type": "stream",
     "text": [
      "\b\b\b\b\b\b\b\b\b\b\b\b\b\b\b\b\b\b\b\b\b\b\b\b\b\b\b\b\b\b\b\b\b\b\b\b\b\b\b\b\b\b\b\b\b\b\b\b\b\b\b\b\b\b\b\b\b\b\b\b\b\b\b\b\b\b\b\b\b\b\b\b\b\b\b\b\b\b\b\b\b\b\b\b\r",
      " 83/150 [===============>..............] - ETA: 1s - loss: 0.0273 - accuracy: 1.0000"
     ]
    },
    {
     "name": "stdout",
     "output_type": "stream",
     "text": [
      "\b\b\b\b\b\b\b\b\b\b\b\b\b\b\b\b\b\b\b\b\b\b\b\b\b\b\b\b\b\b\b\b\b\b\b\b\b\b\b\b\b\b\b\b\b\b\b\b\b\b\b\b\b\b\b\b\b\b\b\b\b\b\b\b\b\b\b\b\b\b\b\b\b\b\b\b\b\b\b\b\b\b\b\b\r",
      " 85/150 [================>.............] - ETA: 1s - loss: 0.0271 - accuracy: 1.0000"
     ]
    },
    {
     "name": "stdout",
     "output_type": "stream",
     "text": [
      "\b\b\b\b\b\b\b\b\b\b\b\b\b\b\b\b\b\b\b\b\b\b\b\b\b\b\b\b\b\b\b\b\b\b\b\b\b\b\b\b\b\b\b\b\b\b\b\b\b\b\b\b\b\b\b\b\b\b\b\b\b\b\b\b\b\b\b\b\b\b\b\b\b\b\b\b\b\b\b\b\b\b\b\b\r",
      " 87/150 [================>.............] - ETA: 1s - loss: 0.0279 - accuracy: 1.0000"
     ]
    },
    {
     "name": "stdout",
     "output_type": "stream",
     "text": [
      "\b\b\b\b\b\b\b\b\b\b\b\b\b\b\b\b\b\b\b\b\b\b\b\b\b\b\b\b\b\b\b\b\b\b\b\b\b\b\b\b\b\b\b\b\b\b\b\b\b\b\b\b\b\b\b\b\b\b\b\b\b\b\b\b\b\b\b\b\b\b\b\b\b\b\b\b\b\b\b\b\b\b\b\b\r",
      " 89/150 [================>.............] - ETA: 1s - loss: 0.0282 - accuracy: 1.0000"
     ]
    },
    {
     "name": "stdout",
     "output_type": "stream",
     "text": [
      "\b\b\b\b\b\b\b\b\b\b\b\b\b\b\b\b\b\b\b\b\b\b\b\b\b\b\b\b\b\b\b\b\b\b\b\b\b\b\b\b\b\b\b\b\b\b\b\b\b\b\b\b\b\b\b\b\b\b\b\b\b\b\b\b\b\b\b\b\b\b\b\b\b\b\b\b\b\b\b\b\b\b\b\b\r",
      " 91/150 [=================>............] - ETA: 1s - loss: 0.0277 - accuracy: 1.0000"
     ]
    },
    {
     "name": "stdout",
     "output_type": "stream",
     "text": [
      "\b\b\b\b\b\b\b\b\b\b\b\b\b\b\b\b\b\b\b\b\b\b\b\b\b\b\b\b\b\b\b\b\b\b\b\b\b\b\b\b\b\b\b\b\b\b\b\b\b\b\b\b\b\b\b\b\b\b\b\b\b\b\b\b\b\b\b\b\b\b\b\b\b\b\b\b\b\b\b\b\b\b\b\b\r",
      " 93/150 [=================>............] - ETA: 1s - loss: 0.0279 - accuracy: 1.0000"
     ]
    },
    {
     "name": "stdout",
     "output_type": "stream",
     "text": [
      "\b\b\b\b\b\b\b\b\b\b\b\b\b\b\b\b\b\b\b\b\b\b\b\b\b\b\b\b\b\b\b\b\b\b\b\b\b\b\b\b\b\b\b\b\b\b\b\b\b\b\b\b\b\b\b\b\b\b\b\b\b\b\b\b\b\b\b\b\b\b\b\b\b\b\b\b\b\b\b\b\b\b\b\b\r",
      " 95/150 [==================>...........] - ETA: 1s - loss: 0.0276 - accuracy: 1.0000"
     ]
    },
    {
     "name": "stdout",
     "output_type": "stream",
     "text": [
      "\b\b\b\b\b\b\b\b\b\b\b\b\b\b\b\b\b\b\b\b\b\b\b\b\b\b\b\b\b\b\b\b\b\b\b\b\b\b\b\b\b\b\b\b\b\b\b\b\b\b\b\b\b\b\b\b\b\b\b\b\b\b\b\b\b\b\b\b\b\b\b\b\b\b\b\b\b\b\b\b\b\b\b\b\r",
      " 97/150 [==================>...........] - ETA: 1s - loss: 0.0275 - accuracy: 1.0000"
     ]
    },
    {
     "name": "stdout",
     "output_type": "stream",
     "text": [
      "\b\b\b\b\b\b\b\b\b\b\b\b\b\b\b\b\b\b\b\b\b\b\b\b\b\b\b\b\b\b\b\b\b\b\b\b\b\b\b\b\b\b\b\b\b\b\b\b\b\b\b\b\b\b\b\b\b\b\b\b\b\b\b\b\b\b\b\b\b\b\b\b\b\b\b\b\b\b\b\b\b\b\b\b\r",
      " 99/150 [==================>...........] - ETA: 1s - loss: 0.0276 - accuracy: 1.0000"
     ]
    },
    {
     "name": "stdout",
     "output_type": "stream",
     "text": [
      "\b\b\b\b\b\b\b\b\b\b\b\b\b\b\b\b\b\b\b\b\b\b\b\b\b\b\b\b\b\b\b\b\b\b\b\b\b\b\b\b\b\b\b\b\b\b\b\b\b\b\b\b\b\b\b\b\b\b\b\b\b\b\b\b\b\b\b\b\b\b\b\b\b\b\b\b\b\b\b\b\b\b\b\b\r",
      "101/150 [===================>..........] - ETA: 1s - loss: 0.0283 - accuracy: 1.0000"
     ]
    },
    {
     "name": "stdout",
     "output_type": "stream",
     "text": [
      "\b\b\b\b\b\b\b\b\b\b\b\b\b\b\b\b\b\b\b\b\b\b\b\b\b\b\b\b\b\b\b\b\b\b\b\b\b\b\b\b\b\b\b\b\b\b\b\b\b\b\b\b\b\b\b\b\b\b\b\b\b\b\b\b\b\b\b\b\b\b\b\b\b\b\b\b\b\b\b\b\b\b\b\b\r",
      "103/150 [===================>..........] - ETA: 1s - loss: 0.0279 - accuracy: 1.0000"
     ]
    },
    {
     "name": "stdout",
     "output_type": "stream",
     "text": [
      "\b\b\b\b\b\b\b\b\b\b\b\b\b\b\b\b\b\b\b\b\b\b\b\b\b\b\b\b\b\b\b\b\b\b\b\b\b\b\b\b\b\b\b\b\b\b\b\b\b\b\b\b\b\b\b\b\b\b\b\b\b\b\b\b\b\b\b\b\b\b\b\b\b\b\b\b\b\b\b\b\b\b\b\b\r",
      "105/150 [====================>.........] - ETA: 1s - loss: 0.0279 - accuracy: 1.0000"
     ]
    },
    {
     "name": "stdout",
     "output_type": "stream",
     "text": [
      "\b\b\b\b\b\b\b\b\b\b\b\b\b\b\b\b\b\b\b\b\b\b\b\b\b\b\b\b\b\b\b\b\b\b\b\b\b\b\b\b\b\b\b\b\b\b\b\b\b\b\b\b\b\b\b\b\b\b\b\b\b\b\b\b\b\b\b\b\b\b\b\b\b\b\b\b\b\b\b\b\b\b\b\b\r",
      "107/150 [====================>.........] - ETA: 1s - loss: 0.0291 - accuracy: 1.0000"
     ]
    },
    {
     "name": "stdout",
     "output_type": "stream",
     "text": [
      "\b\b\b\b\b\b\b\b\b\b\b\b\b\b\b\b\b\b\b\b\b\b\b\b\b\b\b\b\b\b\b\b\b\b\b\b\b\b\b\b\b\b\b\b\b\b\b\b\b\b\b\b\b\b\b\b\b\b\b\b\b\b\b\b\b\b\b\b\b\b\b\b\b\b\b\b\b\b\b\b\b\b\b\b\r",
      "109/150 [====================>.........] - ETA: 1s - loss: 0.0288 - accuracy: 1.0000"
     ]
    },
    {
     "name": "stdout",
     "output_type": "stream",
     "text": [
      "\b\b\b\b\b\b\b\b\b\b\b\b\b\b\b\b\b\b\b\b\b\b\b\b\b\b\b\b\b\b\b\b\b\b\b\b\b\b\b\b\b\b\b\b\b\b\b\b\b\b\b\b\b\b\b\b\b\b\b\b\b\b\b\b\b\b\b\b\b\b\b\b\b\b\b\b\b\b\b\b\b\b\b\b\r",
      "111/150 [=====================>........] - ETA: 1s - loss: 0.0285 - accuracy: 1.0000"
     ]
    },
    {
     "name": "stdout",
     "output_type": "stream",
     "text": [
      "\b\b\b\b\b\b\b\b\b\b\b\b\b\b\b\b\b\b\b\b\b\b\b\b\b\b\b\b\b\b\b\b\b\b\b\b\b\b\b\b\b\b\b\b\b\b\b\b\b\b\b\b\b\b\b\b\b\b\b\b\b\b\b\b\b\b\b\b\b\b\b\b\b\b\b\b\b\b\b\b\b\b\b\b\r",
      "113/150 [=====================>........] - ETA: 1s - loss: 0.0284 - accuracy: 1.0000"
     ]
    },
    {
     "name": "stdout",
     "output_type": "stream",
     "text": [
      "\b\b\b\b\b\b\b\b\b\b\b\b\b\b\b\b\b\b\b\b\b\b\b\b\b\b\b\b\b\b\b\b\b\b\b\b\b\b\b\b\b\b\b\b\b\b\b\b\b\b\b\b\b\b\b\b\b\b\b\b\b\b\b\b\b\b\b\b\b\b\b\b\b\b\b\b\b\b\b\b\b\b\b\b\r",
      "115/150 [======================>.......] - ETA: 0s - loss: 0.0288 - accuracy: 1.0000"
     ]
    },
    {
     "name": "stdout",
     "output_type": "stream",
     "text": [
      "\b\b\b\b\b\b\b\b\b\b\b\b\b\b\b\b\b\b\b\b\b\b\b\b\b\b\b\b\b\b\b\b\b\b\b\b\b\b\b\b\b\b\b\b\b\b\b\b\b\b\b\b\b\b\b\b\b\b\b\b\b\b\b\b\b\b\b\b\b\b\b\b\b\b\b\b\b\b\b\b\b\b\b\b\r",
      "117/150 [======================>.......] - ETA: 0s - loss: 0.0285 - accuracy: 1.0000"
     ]
    },
    {
     "name": "stdout",
     "output_type": "stream",
     "text": [
      "\b\b\b\b\b\b\b\b\b\b\b\b\b\b\b\b\b\b\b\b\b\b\b\b\b\b\b\b\b\b\b\b\b\b\b\b\b\b\b\b\b\b\b\b\b\b\b\b\b\b\b\b\b\b\b\b\b\b\b\b\b\b\b\b\b\b\b\b\b\b\b\b\b\b\b\b\b\b\b\b\b\b\b\b\r",
      "119/150 [======================>.......] - ETA: 0s - loss: 0.0282 - accuracy: 1.0000"
     ]
    },
    {
     "name": "stdout",
     "output_type": "stream",
     "text": [
      "\b\b\b\b\b\b\b\b\b\b\b\b\b\b\b\b\b\b\b\b\b\b\b\b\b\b\b\b\b\b\b\b\b\b\b\b\b\b\b\b\b\b\b\b\b\b\b\b\b\b\b\b\b\b\b\b\b\b\b\b\b\b\b\b\b\b\b\b\b\b\b\b\b\b\b\b\b\b\b\b\b\b\b\b\r",
      "121/150 [=======================>......] - ETA: 0s - loss: 0.0278 - accuracy: 1.0000"
     ]
    },
    {
     "name": "stdout",
     "output_type": "stream",
     "text": [
      "\b\b\b\b\b\b\b\b\b\b\b\b\b\b\b\b\b\b\b\b\b\b\b\b\b\b\b\b\b\b\b\b\b\b\b\b\b\b\b\b\b\b\b\b\b\b\b\b\b\b\b\b\b\b\b\b\b\b\b\b\b\b\b\b\b\b\b\b\b\b\b\b\b\b\b\b\b\b\b\b\b\b\b\b\r",
      "123/150 [=======================>......] - ETA: 0s - loss: 0.0276 - accuracy: 1.0000"
     ]
    },
    {
     "name": "stdout",
     "output_type": "stream",
     "text": [
      "\b\b\b\b\b\b\b\b\b\b\b\b\b\b\b\b\b\b\b\b\b\b\b\b\b\b\b\b\b\b\b\b\b\b\b\b\b\b\b\b\b\b\b\b\b\b\b\b\b\b\b\b\b\b\b\b\b\b\b\b\b\b\b\b\b\b\b\b\b\b\b\b\b\b\b\b\b\b\b\b\b\b\b\b\r",
      "125/150 [========================>.....] - ETA: 0s - loss: 0.0287 - accuracy: 1.0000"
     ]
    },
    {
     "name": "stdout",
     "output_type": "stream",
     "text": [
      "\b\b\b\b\b\b\b\b\b\b\b\b\b\b\b\b\b\b\b\b\b\b\b\b\b\b\b\b\b\b\b\b\b\b\b\b\b\b\b\b\b\b\b\b\b\b\b\b\b\b\b\b\b\b\b\b\b\b\b\b\b\b\b\b\b\b\b\b\b\b\b\b\b\b\b\b\b\b\b\b\b\b\b\b\r",
      "127/150 [========================>.....] - ETA: 0s - loss: 0.0286 - accuracy: 1.0000"
     ]
    },
    {
     "name": "stdout",
     "output_type": "stream",
     "text": [
      "\b\b\b\b\b\b\b\b\b\b\b\b\b\b\b\b\b\b\b\b\b\b\b\b\b\b\b\b\b\b\b\b\b\b\b\b\b\b\b\b\b\b\b\b\b\b\b\b\b\b\b\b\b\b\b\b\b\b\b\b\b\b\b\b\b\b\b\b\b\b\b\b\b\b\b\b\b\b\b\b\b\b\b\b\r",
      "129/150 [========================>.....] - ETA: 0s - loss: 0.0285 - accuracy: 1.0000"
     ]
    },
    {
     "name": "stdout",
     "output_type": "stream",
     "text": [
      "\b\b\b\b\b\b\b\b\b\b\b\b\b\b\b\b\b\b\b\b\b\b\b\b\b\b\b\b\b\b\b\b\b\b\b\b\b\b\b\b\b\b\b\b\b\b\b\b\b\b\b\b\b\b\b\b\b\b\b\b\b\b\b\b\b\b\b\b\b\b\b\b\b\b\b\b\b\b\b\b\b\b\b\b\r",
      "131/150 [=========================>....] - ETA: 0s - loss: 0.0284 - accuracy: 1.0000"
     ]
    },
    {
     "name": "stdout",
     "output_type": "stream",
     "text": [
      "\b\b\b\b\b\b\b\b\b\b\b\b\b\b\b\b\b\b\b\b\b\b\b\b\b\b\b\b\b\b\b\b\b\b\b\b\b\b\b\b\b\b\b\b\b\b\b\b\b\b\b\b\b\b\b\b\b\b\b\b\b\b\b\b\b\b\b\b\b\b\b\b\b\b\b\b\b\b\b\b\b\b\b\b\r",
      "133/150 [=========================>....] - ETA: 0s - loss: 0.0281 - accuracy: 1.0000"
     ]
    },
    {
     "name": "stdout",
     "output_type": "stream",
     "text": [
      "\b\b\b\b\b\b\b\b\b\b\b\b\b\b\b\b\b\b\b\b\b\b\b\b\b\b\b\b\b\b\b\b\b\b\b\b\b\b\b\b\b\b\b\b\b\b\b\b\b\b\b\b\b\b\b\b\b\b\b\b\b\b\b\b\b\b\b\b\b\b\b\b\b\b\b\b\b\b\b\b\b\b\b\b\r",
      "135/150 [==========================>...] - ETA: 0s - loss: 0.0279 - accuracy: 1.0000"
     ]
    },
    {
     "name": "stdout",
     "output_type": "stream",
     "text": [
      "\b\b\b\b\b\b\b\b\b\b\b\b\b\b\b\b\b\b\b\b\b\b\b\b\b\b\b\b\b\b\b\b\b\b\b\b\b\b\b\b\b\b\b\b\b\b\b\b\b\b\b\b\b\b\b\b\b\b\b\b\b\b\b\b\b\b\b\b\b\b\b\b\b\b\b\b\b\b\b\b\b\b\b\b\r",
      "137/150 [==========================>...] - ETA: 0s - loss: 0.0282 - accuracy: 1.0000"
     ]
    },
    {
     "name": "stdout",
     "output_type": "stream",
     "text": [
      "\b\b\b\b\b\b\b\b\b\b\b\b\b\b\b\b\b\b\b\b\b\b\b\b\b\b\b\b\b\b\b\b\b\b\b\b\b\b\b\b\b\b\b\b\b\b\b\b\b\b\b\b\b\b\b\b\b\b\b\b\b\b\b\b\b\b\b\b\b\b\b\b\b\b\b\b\b\b\b\b\b\b\b\b\r",
      "139/150 [==========================>...] - ETA: 0s - loss: 0.0283 - accuracy: 1.0000"
     ]
    },
    {
     "name": "stdout",
     "output_type": "stream",
     "text": [
      "\b\b\b\b\b\b\b\b\b\b\b\b\b\b\b\b\b\b\b\b\b\b\b\b\b\b\b\b\b\b\b\b\b\b\b\b\b\b\b\b\b\b\b\b\b\b\b\b\b\b\b\b\b\b\b\b\b\b\b\b\b\b\b\b\b\b\b\b\b\b\b\b\b\b\b\b\b\b\b\b\b\b\b\b\r",
      "141/150 [===========================>..] - ETA: 0s - loss: 0.0280 - accuracy: 1.0000"
     ]
    },
    {
     "name": "stdout",
     "output_type": "stream",
     "text": [
      "\b\b\b\b\b\b\b\b\b\b\b\b\b\b\b\b\b\b\b\b\b\b\b\b\b\b\b\b\b\b\b\b\b\b\b\b\b\b\b\b\b\b\b\b\b\b\b\b\b\b\b\b\b\b\b\b\b\b\b\b\b\b\b\b\b\b\b\b\b\b\b\b\b\b\b\b\b\b\b\b\b\b\b\b\r",
      "143/150 [===========================>..] - ETA: 0s - loss: 0.0281 - accuracy: 1.0000"
     ]
    },
    {
     "name": "stdout",
     "output_type": "stream",
     "text": [
      "\b\b\b\b\b\b\b\b\b\b\b\b\b\b\b\b\b\b\b\b\b\b\b\b\b\b\b\b\b\b\b\b\b\b\b\b\b\b\b\b\b\b\b\b\b\b\b\b\b\b\b\b\b\b\b\b\b\b\b\b\b\b\b\b\b\b\b\b\b\b\b\b\b\b\b\b\b\b\b\b\b\b\b\b\r",
      "145/150 [============================>.] - ETA: 0s - loss: 0.0284 - accuracy: 1.0000"
     ]
    },
    {
     "name": "stdout",
     "output_type": "stream",
     "text": [
      "\b\b\b\b\b\b\b\b\b\b\b\b\b\b\b\b\b\b\b\b\b\b\b\b\b\b\b\b\b\b\b\b\b\b\b\b\b\b\b\b\b\b\b\b\b\b\b\b\b\b\b\b\b\b\b\b\b\b\b\b\b\b\b\b\b\b\b\b\b\b\b\b\b\b\b\b\b\b\b\b\b\b\b\b\r",
      "147/150 [============================>.] - ETA: 0s - loss: 0.0289 - accuracy: 1.0000"
     ]
    },
    {
     "name": "stdout",
     "output_type": "stream",
     "text": [
      "\b\b\b\b\b\b\b\b\b\b\b\b\b\b\b\b\b\b\b\b\b\b\b\b\b\b\b\b\b\b\b\b\b\b\b\b\b\b\b\b\b\b\b\b\b\b\b\b\b\b\b\b\b\b\b\b\b\b\b\b\b\b\b\b\b\b\b\b\b\b\b\b\b\b\b\b\b\b\b\b\b\b\b\b\r",
      "149/150 [============================>.] - ETA: 0s - loss: 0.0288 - accuracy: 1.0000"
     ]
    },
    {
     "name": "stdout",
     "output_type": "stream",
     "text": [
      "\b\b\b\b\b\b\b\b\b\b\b\b\b\b\b\b\b\b\b\b\b\b\b\b\b\b\b\b\b\b\b\b\b\b\b\b\b\b\b\b\b\b\b\b\b\b\b\b\b\b\b\b\b\b\b\b\b\b\b\b\b\b\b\b\b\b\b\b\b\b\b\b\b\b\b\b\b\b\b\b\b\b\b\b\r",
      "150/150 [==============================] - 5s 36ms/step - loss: 0.0289 - accuracy: 1.0000 - val_loss: 0.0890 - val_accuracy: 0.9600\n"
     ]
    },
    {
     "data": {
      "text/plain": [
       "<keras.callbacks.History at 0x7f3ab4565ac0>"
      ]
     },
     "execution_count": 36,
     "metadata": {},
     "output_type": "execute_result"
    }
   ],
   "source": [
    "net = tf.keras.applications.EfficientNetB0(include_top = False)\n",
    "net.trainable = False\n",
    "\n",
    "model = tf.keras.Sequential([\n",
    "    tf.keras.layers.Rescaling(scale=255),\n",
    "    tf.keras.layers.TimeDistributed(net),\n",
    "    tf.keras.layers.Dense(10),\n",
    "    tf.keras.layers.GlobalAveragePooling3D()\n",
    "])\n",
    "\n",
    "model.compile(optimizer = 'adam',\n",
    "              loss=tf.keras.losses.SparseCategoricalCrossentropy(from_logits = True),\n",
    "              metrics=['accuracy'])\n",
    "\n",
    "model.fit(train_ds, \n",
    "          epochs = 10,\n",
    "          validation_data = val_ds,\n",
    "          callbacks = tf.keras.callbacks.EarlyStopping(patience = 2, monitor = 'val_loss'))"
   ]
  },
  {
   "cell_type": "markdown",
   "metadata": {
    "id": "DdJm7ojgGxtT"
   },
   "source": [
    "To learn more about working with video data in TensorFlow, check out the following tutorials:\n",
    "\n",
    "* [Build a 3D CNN model for video classification](https://www.tensorflow.org/tutorials/video/video_classification)\n",
    "* [MoViNet for streaming action recognition](https://www.tensorflow.org/hub/tutorials/movinet)\n",
    "* [Transfer learning for video classification with MoViNet](https://www.tensorflow.org/tutorials/video/transfer_learning_with_movinet)"
   ]
  }
 ],
 "metadata": {
  "accelerator": "GPU",
  "colab": {
   "name": "video.ipynb",
   "toc_visible": true
  },
  "kernelspec": {
   "display_name": "Python 3",
   "name": "python3"
  },
  "language_info": {
   "codemirror_mode": {
    "name": "ipython",
    "version": 3
   },
   "file_extension": ".py",
   "mimetype": "text/x-python",
   "name": "python",
   "nbconvert_exporter": "python",
   "pygments_lexer": "ipython3",
   "version": "3.9.16"
  }
 },
 "nbformat": 4,
 "nbformat_minor": 0
}
