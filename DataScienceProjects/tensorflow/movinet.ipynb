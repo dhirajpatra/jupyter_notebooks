{
 "cells": [
  {
   "cell_type": "markdown",
   "metadata": {
    "id": "toCy3v03Dwx7"
   },
   "source": [
    "##### Copyright 2021 The TensorFlow Hub Authors.\n",
    "\n",
    "Licensed under the Apache License, Version 2.0 (the \"License\");"
   ]
  },
  {
   "cell_type": "code",
   "execution_count": 1,
   "metadata": {
    "execution": {
     "iopub.execute_input": "2023-03-08T14:24:32.659657Z",
     "iopub.status.busy": "2023-03-08T14:24:32.659195Z",
     "iopub.status.idle": "2023-03-08T14:24:32.662858Z",
     "shell.execute_reply": "2023-03-08T14:24:32.662310Z"
    },
    "id": "QKe-ubNcDvgv"
   },
   "outputs": [],
   "source": [
    "# Copyright 2021 The TensorFlow Hub Authors. All Rights Reserved.\n",
    "#\n",
    "# Licensed under the Apache License, Version 2.0 (the \"License\");\n",
    "# you may not use this file except in compliance with the License.\n",
    "# You may obtain a copy of the License at\n",
    "#\n",
    "#     http://www.apache.org/licenses/LICENSE-2.0\n",
    "#\n",
    "# Unless required by applicable law or agreed to in writing, software\n",
    "# distributed under the License is distributed on an \"AS IS\" BASIS,\n",
    "# WITHOUT WARRANTIES OR CONDITIONS OF ANY KIND, either express or implied.\n",
    "# See the License for the specific language governing permissions and\n",
    "# limitations under the License.\n",
    "# =============================================================================="
   ]
  },
  {
   "cell_type": "markdown",
   "metadata": {
    "id": "qFdPvlXBOdUN"
   },
   "source": [
    "# MoViNet for streaming action recognition "
   ]
  },
  {
   "cell_type": "markdown",
   "metadata": {
    "id": "MfBg1C5NB3X0"
   },
   "source": [
    "<table class=\"tfo-notebook-buttons\" align=\"left\">\n",
    "  <td>\n",
    "    <a target=\"_blank\" href=\"https://www.tensorflow.org/hub/tutorials/movinet\"><img src=\"https://www.tensorflow.org/images/tf_logo_32px.png\" />View on TensorFlow.org</a>\n",
    "  </td>\n",
    "  <td>\n",
    "    <a target=\"_blank\" href=\"https://colab.research.google.com/github/tensorflow/hub/blob/master/examples/colab/movinet.ipynb\"><img src=\"https://www.tensorflow.org/images/colab_logo_32px.png\" />Run in Google Colab</a>\n",
    "  </td>\n",
    "  <td>\n",
    "    <a target=\"_blank\" href=\"https://github.com/tensorflow/hub/blob/master/examples/colab/movinet.ipynb\"><img src=\"https://www.tensorflow.org/images/GitHub-Mark-32px.png\" />View on GitHub</a>\n",
    "  </td>\n",
    "  <td>\n",
    "    <a href=\"https://storage.googleapis.com/tensorflow_docs/hub/examples/colab/movinet.ipynb\"><img src=\"https://www.tensorflow.org/images/download_logo_32px.png\" />Download notebook</a>\n",
    "  </td>\n",
    "  <td>\n",
    "    <a href=\"https://tfhub.dev/google/collections/movinet/1\"><img src=\"https://www.tensorflow.org/images/hub_logo_32px.png\" />See TF Hub models</a>\n",
    "  </td>\n",
    "</table>"
   ]
  },
  {
   "cell_type": "markdown",
   "metadata": {
    "id": "-vxk2Kbc_KSP"
   },
   "source": [
    "This tutorial demonstrates how to use a pretrained video classification model to classify an activity (such as dancing, swimming, biking etc) in the given video.   \n",
    "\n",
    "The model architecture used in this tutorial is called [MoViNet](https://arxiv.org/pdf/2103.11511.pdf) (Mobile Video Networks). MoVieNets are a family of efficient video classification models trained on huge dataset ([Kinetics 600](https://deepmind.com/research/open-source/kinetics)).\n",
    "\n",
    "In contrast to the [i3d models](https://tfhub.dev/s?q=i3d-kinetics) available on TF Hub, MoViNets also support frame-by-frame inference on streaming video. \n",
    "\n",
    "The pretrained models are available from [TF Hub](https://tfhub.dev/google/collections/movinet/1). The TF Hub collection also includes quantized models optimized for [TFLite](https://tensorflow.org/lite).\n",
    "\n",
    "The source for these models is available in the [TensorFlow Model Garden](https://github.com/tensorflow/models/tree/master/official/projects/movinet). This includes a [longer version of this tutorial](https://colab.sandbox.google.com/github/tensorflow/models/blob/master/official/projects/movinet/movinet_tutorial.ipynb) that also covers building and fine-tuning a MoViNet model. \n",
    "\n",
    "This MoViNet tutorial is part of a series of TensorFlow video tutorials. Here are the other three tutorials:\n",
    "\n",
    "- [Load video data](https://www.tensorflow.org/tutorials/load_data/video): This tutorial explains how to load and preprocess video data into a TensorFlow dataset pipeline from scratch.\n",
    "- [Build a 3D CNN model for video classification](https://www.tensorflow.org/tutorials/video/video_classification). Note that this tutorial uses a (2+1)D CNN that decomposes the spatial and temporal aspects of 3D data; if you are using volumetric data such as an MRI scan, consider using a 3D CNN instead of a (2+1)D CNN.\n",
    "- [Transfer learning for video classification with MoViNet](https://www.tensorflow.org/tutorials/video/transfer_learning_with_movinet): This tutorial explains how to use a pre-trained video classification model trained on a different dataset with the UCF-101 dataset.\n"
   ]
  },
  {
   "cell_type": "markdown",
   "metadata": {
    "id": "3E96e1UKQ8uR"
   },
   "source": [
    "![jumping jacks plot](https://storage.googleapis.com/tf_model_garden/vision/movinet/artifacts/jumpingjacks_plot.gif)"
   ]
  },
  {
   "cell_type": "markdown",
   "metadata": {
    "id": "8_oLnvJy7kz5"
   },
   "source": [
    "## Setup\n",
    "\n",
    "For inference on smaller models (A0-A2), CPU is sufficient for this Colab."
   ]
  },
  {
   "cell_type": "code",
   "execution_count": 2,
   "metadata": {
    "execution": {
     "iopub.execute_input": "2023-03-08T14:24:32.666403Z",
     "iopub.status.busy": "2023-03-08T14:24:32.665896Z",
     "iopub.status.idle": "2023-03-08T14:24:45.428390Z",
     "shell.execute_reply": "2023-03-08T14:24:45.427277Z"
    },
    "id": "GUgUMGmY1yq-"
   },
   "outputs": [
    {
     "name": "stdout",
     "output_type": "stream",
     "text": [
      "\r",
      "Reading package lists... 0%\r",
      "\r",
      "Reading package lists... 100%\r",
      "\r",
      "Reading package lists... Done\r",
      "\r\n",
      "\r",
      "Building dependency tree... 0%\r",
      "\r",
      "Building dependency tree... 0%\r"
     ]
    },
    {
     "name": "stdout",
     "output_type": "stream",
     "text": [
      "\r",
      "Building dependency tree... 50%\r",
      "\r",
      "Building dependency tree... 50%\r"
     ]
    },
    {
     "name": "stdout",
     "output_type": "stream",
     "text": [
      "\r",
      "Building dependency tree       \r",
      "\r\n",
      "\r",
      "Reading state information... 0%\r",
      "\r",
      "Reading state information... 0%\r"
     ]
    },
    {
     "name": "stdout",
     "output_type": "stream",
     "text": [
      "\r",
      "Reading state information... Done\r",
      "\r\n"
     ]
    },
    {
     "name": "stdout",
     "output_type": "stream",
     "text": [
      "The following packages were automatically installed and are no longer required:\r\n",
      "  libatasmart4 libblockdev-fs2 libblockdev-loop2 libblockdev-part-err2\r\n",
      "  libblockdev-part2 libblockdev-swap2 libblockdev-utils2 libblockdev2\r\n",
      "  libparted-fs-resize0 libxmlb2\r\n",
      "Use 'sudo apt autoremove' to remove them.\r\n",
      "The following additional packages will be installed:\r\n",
      "  i965-va-driver intel-media-va-driver libaacs0 libaom0 libass9 libavcodec58\r\n",
      "  libavdevice58 libavfilter7 libavformat58 libavresample4 libavutil56\r\n",
      "  libbdplus0 libbluray2 libbs2b0 libcdio-cdda2 libcdio-paranoia2 libcdio18\r\n",
      "  libchromaprint1 libcodec2-0.9 libdc1394-22 libfftw3-double3 libflite1\r\n",
      "  libgme0 libgsm1 libigdgmm11 liblilv-0-0 libmysofa1 libopenal-data libopenal1\r\n",
      "  libopenmpt0 libpostproc55 librubberband2 libsdl2-2.0-0 libserd-0-0 libshine3\r\n",
      "  libsnappy1v5 libsndio7.0 libsord-0-0 libsratom-0-0 libssh-gcrypt-4\r\n",
      "  libswresample3 libswscale5 libva-drm2 libva-x11-2 libva2 libvidstab1.1\r\n",
      "  libwebpmux3 libx264-155 libx265-179 libxvidcore4 libzvbi-common libzvbi0\r\n",
      "  mesa-va-drivers ocl-icd-libopencl1 va-driver-all\r\n",
      "Suggested packages:\r\n",
      "  ffmpeg-doc i965-va-driver-shaders libbluray-bdj libfftw3-bin libfftw3-dev\r\n",
      "  serdi sndiod sordi\r\n"
     ]
    },
    {
     "name": "stdout",
     "output_type": "stream",
     "text": [
      "The following NEW packages will be installed:\r\n",
      "  ffmpeg i965-va-driver intel-media-va-driver libaacs0 libaom0 libass9\r\n",
      "  libavcodec58 libavdevice58 libavfilter7 libavformat58 libavresample4\r\n",
      "  libavutil56 libbdplus0 libbluray2 libbs2b0 libcdio-cdda2 libcdio-paranoia2\r\n",
      "  libcdio18 libchromaprint1 libcodec2-0.9 libdc1394-22 libfftw3-double3\r\n",
      "  libflite1 libgme0 libgsm1 libigdgmm11 liblilv-0-0 libmysofa1 libopenal-data\r\n",
      "  libopenal1 libopenmpt0 libpostproc55 librubberband2 libsdl2-2.0-0\r\n",
      "  libserd-0-0 libshine3 libsnappy1v5 libsndio7.0 libsord-0-0 libsratom-0-0\r\n",
      "  libssh-gcrypt-4 libswresample3 libswscale5 libva-drm2 libva-x11-2 libva2\r\n",
      "  libvidstab1.1 libwebpmux3 libx264-155 libx265-179 libxvidcore4\r\n",
      "  libzvbi-common libzvbi0 mesa-va-drivers ocl-icd-libopencl1 va-driver-all\r\n"
     ]
    },
    {
     "name": "stdout",
     "output_type": "stream",
     "text": [
      "0 upgraded, 56 newly installed, 0 to remove and 95 not upgraded.\r\n"
     ]
    },
    {
     "name": "stdout",
     "output_type": "stream",
     "text": [
      "Need to get 42.5 MB of archives.\r\n",
      "After this operation, 156 MB of additional disk space will be used.\r\n",
      "\u001b[33m\r",
      "0% [Working]\u001b[0m\r",
      "            \r",
      "Get:1 http://us-central1.gce.archive.ubuntu.com/ubuntu focal/universe amd64 libaom0 amd64 1.0.0.errata1-3build1 [1160 kB]\r\n",
      "\u001b[33m\r",
      "0% [1 libaom0 12.3 kB/1160 kB 1%]\u001b[0m"
     ]
    },
    {
     "name": "stdout",
     "output_type": "stream",
     "text": [
      "\u001b[33m\r",
      "                                 \r",
      "3% [Working]\u001b[0m\r",
      "            \r",
      "Get:2 http://us-central1.gce.archive.ubuntu.com/ubuntu focal/universe amd64 libva2 amd64 2.7.0-2 [53.5 kB]\r\n",
      "\u001b[33m\r",
      "3% [2 libva2 13.7 kB/53.5 kB 26%]\u001b[0m\u001b[33m\r",
      "                                 \r",
      "3% [Working]\u001b[0m\r",
      "            \r",
      "Get:3 http://us-central1.gce.archive.ubuntu.com/ubuntu focal/universe amd64 libva-drm2 amd64 2.7.0-2 [7044 B]\r\n",
      "\u001b[33m\r",
      "3% [3 libva-drm2 7044 B/7044 B 100%]\u001b[0m\u001b[33m\r",
      "                                    \r",
      "3% [Waiting for headers]\u001b[0m\r",
      "                        \r",
      "Get:4 http://us-central1.gce.archive.ubuntu.com/ubuntu focal/universe amd64 libva-x11-2 amd64 2.7.0-2 [11.9 kB]\r\n",
      "\u001b[33m\r",
      "3% [4 libva-x11-2 11.9 kB/11.9 kB 100%]\u001b[0m\u001b[33m\r",
      "                                       \r",
      "4% [Waiting for headers]\u001b[0m\r",
      "                        \r",
      "Get:5 http://us-central1.gce.archive.ubuntu.com/ubuntu focal/main amd64 ocl-icd-libopencl1 amd64 2.2.11-1ubuntu1 [30.3 kB]\r\n",
      "\u001b[33m\r",
      "4% [5 ocl-icd-libopencl1 4096 B/30.3 kB 14%]\u001b[0m\u001b[33m\r",
      "                                            \r",
      "4% [Waiting for headers]\u001b[0m\r",
      "                        \r",
      "Get:6 http://us-central1.gce.archive.ubuntu.com/ubuntu focal-updates/universe amd64 libavutil56 amd64 7:4.2.7-0ubuntu0.1 [241 kB]\r\n",
      "\u001b[33m\r",
      "4% [6 libavutil56 6637 B/241 kB 3%]\u001b[0m\u001b[33m\r",
      "                                   \r",
      "5% [Waiting for headers]\u001b[0m\r",
      "                        \r",
      "Get:7 http://us-central1.gce.archive.ubuntu.com/ubuntu focal/universe amd64 libcodec2-0.9 amd64 0.9.2-2 [7886 kB]\r\n",
      "\u001b[33m\r",
      "5% [7 libcodec2-0.9 10.9 kB/7886 kB 0%]\u001b[0m"
     ]
    },
    {
     "name": "stdout",
     "output_type": "stream",
     "text": [
      "\u001b[33m\r",
      "                                       \r",
      "20% [Waiting for headers]\u001b[0m\r",
      "                         \r",
      "Get:8 http://us-central1.gce.archive.ubuntu.com/ubuntu focal/universe amd64 libgsm1 amd64 1.0.18-2 [24.4 kB]\r\n",
      "\u001b[33m\r",
      "20% [8 libgsm1 24.4 kB/24.4 kB 100%]\u001b[0m"
     ]
    },
    {
     "name": "stdout",
     "output_type": "stream",
     "text": [
      "\u001b[33m\r",
      "                                    \r",
      "21% [Working]\u001b[0m\r",
      "             \r",
      "Get:9 http://us-central1.gce.archive.ubuntu.com/ubuntu focal/universe amd64 libshine3 amd64 3.1.1-2 [23.2 kB]\r\n",
      "\u001b[33m\r",
      "21% [9 libshine3 18.7 kB/23.2 kB 81%]\u001b[0m\u001b[33m\r",
      "                                     \r",
      "21% [Working]\u001b[0m\r",
      "             \r",
      "Get:10 http://us-central1.gce.archive.ubuntu.com/ubuntu focal/main amd64 libsnappy1v5 amd64 1.1.8-1build1 [16.7 kB]\r\n",
      "\u001b[33m\r",
      "21% [10 libsnappy1v5 8192 B/16.7 kB 49%]\u001b[0m\u001b[33m\r",
      "                                        \r",
      "21% [Waiting for headers]\u001b[0m\r",
      "                         \r",
      "Get:11 http://us-central1.gce.archive.ubuntu.com/ubuntu focal-updates/universe amd64 libswresample3 amd64 7:4.2.7-0ubuntu0.1 [57.1 kB]\r\n",
      "\u001b[33m\r",
      "21% [11 libswresample3 43.6 kB/57.1 kB 76%]\u001b[0m\u001b[33m\r",
      "                                           \r",
      "22% [Working]\u001b[0m\r",
      "             \r",
      "Get:12 http://us-central1.gce.archive.ubuntu.com/ubuntu focal-updates/main amd64 libwebpmux3 amd64 0.6.1-2ubuntu0.20.04.1 [19.5 kB]\r\n",
      "\u001b[33m\r",
      "22% [12 libwebpmux3 4096 B/19.5 kB 21%]\u001b[0m\u001b[33m\r",
      "                                       \r",
      "22% [Waiting for headers]\u001b[0m\r",
      "                         \r",
      "Get:13 http://us-central1.gce.archive.ubuntu.com/ubuntu focal/universe amd64 libx264-155 amd64 2:0.155.2917+git0a84d98-2 [521 kB]\r\n",
      "\u001b[33m\r",
      "22% [13 libx264-155 31.8 kB/521 kB 6%]\u001b[0m\u001b[33m\r",
      "                                      \r",
      "24% [Waiting for headers]\u001b[0m\r",
      "                         \r",
      "Get:14 http://us-central1.gce.archive.ubuntu.com/ubuntu focal/universe amd64 libx265-179 amd64 3.2.1-1build1 [1060 kB]\r\n",
      "\u001b[33m\r",
      "24% [14 libx265-179 34.7 kB/1060 kB 3%]\u001b[0m\u001b[33m\r",
      "                                       \r",
      "26% [Waiting for headers]\u001b[0m\r",
      "                         \r",
      "Get:15 http://us-central1.gce.archive.ubuntu.com/ubuntu focal/universe amd64 libxvidcore4 amd64 2:1.3.7-1 [201 kB]\r\n",
      "\u001b[33m\r",
      "26% [15 libxvidcore4 22.9 kB/201 kB 11%]\u001b[0m\r",
      "                                        \r",
      "Get:16 http://us-central1.gce.archive.ubuntu.com/ubuntu focal/universe amd64 libzvbi-common all 0.2.35-17 [32.5 kB]\r\n",
      "\u001b[33m\r",
      "27% [16 libzvbi-common 32.5 kB/32.5 kB 100%]\u001b[0m\u001b[33m\r",
      "                                            \r",
      "27% [Working]\u001b[0m\r",
      "             \r",
      "Get:17 http://us-central1.gce.archive.ubuntu.com/ubuntu focal/universe amd64 libzvbi0 amd64 0.2.35-17 [237 kB]\r\n",
      "\u001b[33m\r",
      "27% [17 libzvbi0 4096 B/237 kB 2%]\u001b[0m\u001b[33m\r",
      "                                  \r",
      "28% [Waiting for headers]\u001b[0m\r",
      "                         \r",
      "Get:18 http://us-central1.gce.archive.ubuntu.com/ubuntu focal-updates/universe amd64 libavcodec58 amd64 7:4.2.7-0ubuntu0.1 [4878 kB]\r\n",
      "\u001b[33m\r",
      "28% [18 libavcodec58 9353 B/4878 kB 0%]\u001b[0m"
     ]
    },
    {
     "name": "stdout",
     "output_type": "stream",
     "text": [
      "\u001b[33m\r",
      "                                       \r",
      "37% [Waiting for headers]\u001b[0m\r",
      "                         \r",
      "Get:19 http://us-central1.gce.archive.ubuntu.com/ubuntu focal/universe amd64 libass9 amd64 1:0.14.0-2 [88.0 kB]\r\n",
      "\u001b[33m\r",
      "37% [19 libass9 13.7 kB/88.0 kB 16%]\u001b[0m\u001b[33m\r",
      "                                    \r",
      "38% [Waiting for headers]\u001b[0m\r",
      "                         \r",
      "Get:20 http://us-central1.gce.archive.ubuntu.com/ubuntu focal/universe amd64 libbluray2 amd64 1:1.2.0-1 [138 kB]\r\n",
      "\u001b[33m\r",
      "38% [20 libbluray2 13.7 kB/138 kB 10%]\u001b[0m\u001b[33m\r",
      "                                      \r",
      "39% [Waiting for headers]\u001b[0m\r",
      "                         \r",
      "Get:21 http://us-central1.gce.archive.ubuntu.com/ubuntu focal/universe amd64 libchromaprint1 amd64 1.4.3-3build1 [37.6 kB]\r\n",
      "\u001b[33m\r",
      "39% [21 libchromaprint1 13.7 kB/37.6 kB 36%]\u001b[0m\u001b[33m\r",
      "                                            \r",
      "39% [Waiting for headers]\u001b[0m\r",
      "                         \r",
      "Get:22 http://us-central1.gce.archive.ubuntu.com/ubuntu focal/universe amd64 libgme0 amd64 0.6.2-1build1 [123 kB]\r\n",
      "\u001b[33m\r",
      "39% [22 libgme0 13.7 kB/123 kB 11%]\u001b[0m\u001b[33m\r",
      "                                   \r",
      "40% [Waiting for headers]\u001b[0m\r",
      "                         \r",
      "Get:23 http://us-central1.gce.archive.ubuntu.com/ubuntu focal/universe amd64 libopenmpt0 amd64 0.4.11-1build1 [599 kB]\r\n",
      "\u001b[33m\r",
      "40% [23 libopenmpt0 13.7 kB/599 kB 2%]\u001b[0m\u001b[33m\r",
      "                                      \r",
      "41% [Waiting for headers]\u001b[0m\r",
      "                         \r",
      "Get:24 http://us-central1.gce.archive.ubuntu.com/ubuntu focal-updates/main amd64 libssh-gcrypt-4 amd64 0.9.3-2ubuntu2.2 [202 kB]\r\n",
      "\u001b[33m\r",
      "41% [24 libssh-gcrypt-4 41.8 kB/202 kB 21%]\u001b[0m\u001b[33m\r",
      "                                           \r",
      "42% [Waiting for headers]\u001b[0m\r",
      "                         \r",
      "Get:25 http://us-central1.gce.archive.ubuntu.com/ubuntu focal-updates/universe amd64 libavformat58 amd64 7:4.2.7-0ubuntu0.1 [985 kB]\r\n",
      "\u001b[33m\r",
      "42% [25 libavformat58 12.3 kB/985 kB 1%]\u001b[0m\r",
      "                                        \r",
      "Get:26 http://us-central1.gce.archive.ubuntu.com/ubuntu focal/universe amd64 libbs2b0 amd64 3.1.0+dfsg-2.2build1 [10.2 kB]\r\n",
      "\u001b[33m\r",
      "                                        \r",
      "44% [26 libbs2b0 10.2 kB/10.2 kB 100%]\u001b[0m\u001b[33m\r",
      "                                      \r",
      "44% [Waiting for headers]\u001b[0m\r",
      "                         \r",
      "Get:27 http://us-central1.gce.archive.ubuntu.com/ubuntu focal/universe amd64 libflite1 amd64 2.1-release-3 [12.8 MB]\r\n",
      "\u001b[33m\r",
      "44% [27 libflite1 24.0 kB/12.8 MB 0%]\u001b[0m"
     ]
    },
    {
     "name": "stdout",
     "output_type": "stream",
     "text": [
      "\u001b[33m\r",
      "                                     \r",
      "69% [Waiting for headers]\u001b[0m\r",
      "                         \r",
      "Get:28 http://us-central1.gce.archive.ubuntu.com/ubuntu focal/universe amd64 libserd-0-0 amd64 0.30.2-1 [46.6 kB]\r\n",
      "\u001b[33m\r",
      "69% [28 libserd-0-0 29.2 kB/46.6 kB 63%]\u001b[0m\u001b[33m\r",
      "                                        \r",
      "69% [Waiting for headers]\u001b[0m\r",
      "                         \r",
      "Get:29 http://us-central1.gce.archive.ubuntu.com/ubuntu focal/universe amd64 libsord-0-0 amd64 0.16.4-1 [19.5 kB]\r\n",
      "\u001b[33m\r",
      "69% [29 libsord-0-0 19.5 kB/19.5 kB 100%]\u001b[0m\u001b[33m\r",
      "                                         \r",
      "70% [Waiting for headers]\u001b[0m\r",
      "                         \r",
      "Get:30 http://us-central1.gce.archive.ubuntu.com/ubuntu focal/universe amd64 libsratom-0-0 amd64 0.6.4-1 [16.9 kB]\r\n",
      "\u001b[33m\r",
      "70% [30 libsratom-0-0 16.9 kB/16.9 kB 100%]\u001b[0m\u001b[33m\r",
      "                                           \r",
      "70% [Waiting for headers]\u001b[0m\r",
      "                         \r",
      "Get:31 http://us-central1.gce.archive.ubuntu.com/ubuntu focal-updates/universe amd64 liblilv-0-0 amd64 0.24.6-1ubuntu0.1 [40.6 kB]\r\n",
      "\u001b[33m\r",
      "70% [31 liblilv-0-0 13.7 kB/40.6 kB 34%]\u001b[0m\u001b[33m\r",
      "                                        \r",
      "71% [Waiting for headers]\u001b[0m\r",
      "                         \r",
      "Get:32 http://us-central1.gce.archive.ubuntu.com/ubuntu focal/universe amd64 libmysofa1 amd64 1.0~dfsg0-1 [39.2 kB]\r\n",
      "\u001b[33m\r",
      "71% [32 libmysofa1 13.7 kB/39.2 kB 35%]\u001b[0m\u001b[33m\r",
      "                                       \r",
      "71% [Waiting for headers]\u001b[0m\r",
      "                         \r",
      "Get:33 http://us-central1.gce.archive.ubuntu.com/ubuntu focal-updates/universe amd64 libpostproc55 amd64 7:4.2.7-0ubuntu0.1 [55.0 kB]\r\n"
     ]
    },
    {
     "name": "stdout",
     "output_type": "stream",
     "text": [
      "\u001b[33m\r",
      "71% [33 libpostproc55 13.7 kB/55.0 kB 25%]\u001b[0m\u001b[33m\r",
      "                                          \r",
      "71% [Waiting for headers]\u001b[0m\r",
      "                         \r",
      "Get:34 http://us-central1.gce.archive.ubuntu.com/ubuntu focal/main amd64 libfftw3-double3 amd64 3.3.8-2ubuntu1 [728 kB]\r\n",
      "\u001b[33m\r",
      "71% [34 libfftw3-double3 13.7 kB/728 kB 2%]\u001b[0m\u001b[33m\r",
      "                                           \r",
      "73% [Waiting for headers]\u001b[0m\r",
      "                         \r",
      "Get:35 http://us-central1.gce.archive.ubuntu.com/ubuntu focal/universe amd64 librubberband2 amd64 1.8.2-1build1 [89.4 kB]\r\n",
      "\u001b[33m\r",
      "73% [35 librubberband2 30.1 kB/89.4 kB 34%]\u001b[0m\u001b[33m\r",
      "                                           \r",
      "74% [Waiting for headers]\u001b[0m\r",
      "                         \r",
      "Get:36 http://us-central1.gce.archive.ubuntu.com/ubuntu focal-updates/universe amd64 libswscale5 amd64 7:4.2.7-0ubuntu0.1 [157 kB]\r\n",
      "\u001b[33m\r",
      "74% [36 libswscale5 5798 B/157 kB 4%]\u001b[0m\r",
      "                                     \r",
      "Get:37 http://us-central1.gce.archive.ubuntu.com/ubuntu focal/universe amd64 libvidstab1.1 amd64 1.1.0-2 [35.0 kB]\r\n",
      "\u001b[33m\r",
      "74% [37 libvidstab1.1 35.0 kB/35.0 kB 100%]\u001b[0m\u001b[33m\r",
      "                                           \r",
      "75% [Working]\u001b[0m\r",
      "             \r",
      "Get:38 http://us-central1.gce.archive.ubuntu.com/ubuntu focal-updates/universe amd64 libavfilter7 amd64 7:4.2.7-0ubuntu0.1 [1085 kB]\r\n",
      "\u001b[33m\r",
      "75% [38 libavfilter7 2408 B/1085 kB 0%]\u001b[0m\r",
      "                                       \r",
      "Get:39 http://us-central1.gce.archive.ubuntu.com/ubuntu focal/main amd64 libcdio18 amd64 2.0.0-2 [58.6 kB]\r\n",
      "\u001b[33m\r",
      "                                       \r",
      "77% [39 libcdio18 38.4 kB/58.6 kB 65%]\u001b[0m\u001b[33m\r",
      "                                      \r",
      "78% [Working]\u001b[0m\r",
      "             \r",
      "Get:40 http://us-central1.gce.archive.ubuntu.com/ubuntu focal/main amd64 libcdio-cdda2 amd64 10.2+2.0.0-1 [17.6 kB]\r\n",
      "\u001b[33m\r",
      "78% [40 libcdio-cdda2 0 B/17.6 kB 0%]\u001b[0m\u001b[33m\r",
      "                                     \r",
      "78% [Waiting for headers]\u001b[0m\r",
      "                         \r",
      "Get:41 http://us-central1.gce.archive.ubuntu.com/ubuntu focal/main amd64 libcdio-paranoia2 amd64 10.2+2.0.0-1 [16.2 kB]\r\n",
      "\u001b[33m\r",
      "78% [41 libcdio-paranoia2 16.2 kB/16.2 kB 100%]\u001b[0m\u001b[33m\r",
      "                                               \r",
      "78% [Working]\u001b[0m\r",
      "             \r",
      "Get:42 http://us-central1.gce.archive.ubuntu.com/ubuntu focal/universe amd64 libdc1394-22 amd64 2.2.5-2.1 [79.6 kB]\r\n",
      "\u001b[33m\r",
      "78% [42 libdc1394-22 10.3 kB/79.6 kB 13%]\u001b[0m\u001b[33m\r",
      "                                         \r",
      "79% [Waiting for headers]\u001b[0m\r",
      "                         \r",
      "Get:43 http://us-central1.gce.archive.ubuntu.com/ubuntu focal/universe amd64 libopenal-data all 1:1.19.1-1 [162 kB]\r\n",
      "\u001b[33m\r",
      "79% [43 libopenal-data 6634 B/162 kB 4%]\u001b[0m\u001b[33m\r",
      "                                        \r",
      "80% [Waiting for headers]\u001b[0m\r",
      "                         \r",
      "Get:44 http://us-central1.gce.archive.ubuntu.com/ubuntu focal/universe amd64 libsndio7.0 amd64 1.5.0-3 [24.5 kB]\r\n",
      "\u001b[33m\r",
      "80% [44 libsndio7.0 16.5 kB/24.5 kB 67%]\u001b[0m\u001b[33m\r",
      "                                        \r",
      "80% [Waiting for headers]\u001b[0m\r",
      "                         \r",
      "Get:45 http://us-central1.gce.archive.ubuntu.com/ubuntu focal/universe amd64 libopenal1 amd64 1:1.19.1-1 [492 kB]\r\n",
      "\u001b[33m\r",
      "80% [45 libopenal1 6634 B/492 kB 1%]\u001b[0m\r",
      "                                    \r",
      "Get:46 http://us-central1.gce.archive.ubuntu.com/ubuntu focal/universe amd64 libsdl2-2.0-0 amd64 2.0.10+dfsg1-3 [407 kB]\r\n",
      "\u001b[33m\r",
      "81% [46 libsdl2-2.0-0 36.8 kB/407 kB 9%]\u001b[0m\r",
      "                                        \r",
      "Get:47 http://us-central1.gce.archive.ubuntu.com/ubuntu focal-updates/universe amd64 libavdevice58 amd64 7:4.2.7-0ubuntu0.1 [74.3 kB]\r\n",
      "\u001b[33m\r",
      "82% [47 libavdevice58 23.0 kB/74.3 kB 31%]\u001b[0m\u001b[33m\r",
      "                                          \r",
      "83% [Waiting for headers]\u001b[0m\r",
      "                         \r",
      "Get:48 http://us-central1.gce.archive.ubuntu.com/ubuntu focal-updates/universe amd64 libavresample4 amd64 7:4.2.7-0ubuntu0.1 [54.2 kB]\r\n",
      "\u001b[33m\r",
      "83% [48 libavresample4 13.7 kB/54.2 kB 25%]\u001b[0m\u001b[33m\r",
      "                                           \r",
      "83% [Waiting for headers]\u001b[0m\r",
      "                         \r",
      "Get:49 http://us-central1.gce.archive.ubuntu.com/ubuntu focal-updates/universe amd64 ffmpeg amd64 7:4.2.7-0ubuntu0.1 [1453 kB]\r\n",
      "\u001b[33m\r",
      "83% [49 ffmpeg 6632 B/1453 kB 0%]\u001b[0m"
     ]
    },
    {
     "name": "stdout",
     "output_type": "stream",
     "text": [
      "\r",
      "                                 \r",
      "Get:50 http://us-central1.gce.archive.ubuntu.com/ubuntu focal/universe amd64 libigdgmm11 amd64 20.1.1+ds1-1 [111 kB]\r\n",
      "\u001b[33m\r",
      "87% [50 libigdgmm11 65.5 kB/111 kB 59%]\u001b[0m\u001b[33m\r",
      "                                       \r",
      "87% [Waiting for headers]\u001b[0m\r",
      "                         \r",
      "Get:51 http://us-central1.gce.archive.ubuntu.com/ubuntu focal/universe amd64 intel-media-va-driver amd64 20.1.1+dfsg1-1 [1764 kB]\r\n",
      "\u001b[33m\r",
      "87% [51 intel-media-va-driver 32.8 kB/1764 kB 2%]\u001b[0m\u001b[33m\r",
      "                                                 \r",
      "91% [Waiting for headers]\u001b[0m\r",
      "                         \r",
      "Get:52 http://us-central1.gce.archive.ubuntu.com/ubuntu focal/universe amd64 libaacs0 amd64 0.9.0-2 [50.1 kB]\r\n",
      "\u001b[33m\r",
      "91% [52 libaacs0 37.5 kB/50.1 kB 75%]\u001b[0m\u001b[33m\r",
      "                                     \r",
      "91% [Waiting for headers]\u001b[0m\r",
      "                         \r",
      "Get:53 http://us-central1.gce.archive.ubuntu.com/ubuntu focal/universe amd64 libbdplus0 amd64 0.1.2-3 [47.3 kB]\r\n",
      "\u001b[33m\r",
      "91% [53 libbdplus0 6640 B/47.3 kB 14%]\u001b[0m\u001b[33m\r",
      "                                      \r",
      "92% [Waiting for headers]\u001b[0m\r",
      "                         \r",
      "Get:54 http://us-central1.gce.archive.ubuntu.com/ubuntu focal-updates/universe amd64 mesa-va-drivers amd64 21.2.6-0ubuntu0.1~20.04.2 [2970 kB]\r\n",
      "\u001b[33m\r",
      "92% [54 mesa-va-drivers 4874 B/2970 kB 0%]\u001b[0m"
     ]
    },
    {
     "name": "stdout",
     "output_type": "stream",
     "text": [
      "\u001b[33m\r",
      "                                          \r",
      "98% [Waiting for headers]\u001b[0m\r",
      "                         \r",
      "Get:55 http://us-central1.gce.archive.ubuntu.com/ubuntu focal/universe amd64 i965-va-driver amd64 2.4.0-0ubuntu1 [924 kB]\r\n",
      "\u001b[33m\r",
      "98% [55 i965-va-driver 8043 B/924 kB 1%]\u001b[0m"
     ]
    },
    {
     "name": "stdout",
     "output_type": "stream",
     "text": [
      "\r",
      "                                        \r",
      "Get:56 http://us-central1.gce.archive.ubuntu.com/ubuntu focal/universe amd64 va-driver-all amd64 2.7.0-2 [4020 B]\r\n",
      "\u001b[33m\r",
      "100% [56 va-driver-all 4020 B/4020 B 100%]\u001b[0m\u001b[33m\r",
      "                                          \r",
      "100% [Working]\u001b[0m\r",
      "              \r",
      "Fetched 42.5 MB in 1s (50.5 MB/s)\r\n"
     ]
    },
    {
     "name": "stdout",
     "output_type": "stream",
     "text": [
      "\r",
      "Extracting templates from packages: 53%"
     ]
    },
    {
     "name": "stdout",
     "output_type": "stream",
     "text": [
      "\r",
      "Extracting templates from packages: 100%\r\n"
     ]
    },
    {
     "name": "stdout",
     "output_type": "stream",
     "text": [
      "\n",
      "\u001b7\u001b[0;23r\u001b8\u001b[1ASelecting previously unselected package libaom0:amd64.\r\n",
      "(Reading database ... \r",
      "(Reading database ... 5%\r",
      "(Reading database ... 10%\r",
      "(Reading database ... 15%\r",
      "(Reading database ... 20%\r",
      "(Reading database ... 25%\r",
      "(Reading database ... 30%\r",
      "(Reading database ... 35%\r",
      "(Reading database ... 40%\r",
      "(Reading database ... 45%\r",
      "(Reading database ... 50%\r"
     ]
    },
    {
     "name": "stdout",
     "output_type": "stream",
     "text": [
      "(Reading database ... 55%\r",
      "(Reading database ... 60%\r",
      "(Reading database ... 65%\r",
      "(Reading database ... 70%\r",
      "(Reading database ... 75%\r",
      "(Reading database ... 80%\r",
      "(Reading database ... 85%\r",
      "(Reading database ... 90%\r",
      "(Reading database ... 95%\r",
      "(Reading database ... 100%\r",
      "(Reading database ... 139804 files and directories currently installed.)\r\n"
     ]
    },
    {
     "name": "stdout",
     "output_type": "stream",
     "text": [
      "Preparing to unpack .../00-libaom0_1.0.0.errata1-3build1_amd64.deb ...\r\n",
      "\u001b7\u001b[24;0f\u001b[42m\u001b[30mProgress: [  0%]\u001b[49m\u001b[39m [..........................................................] \u001b8Unpacking libaom0:amd64 (1.0.0.errata1-3build1) ...\r\n"
     ]
    },
    {
     "name": "stdout",
     "output_type": "stream",
     "text": [
      "Selecting previously unselected package libva2:amd64.\r\n"
     ]
    },
    {
     "name": "stdout",
     "output_type": "stream",
     "text": [
      "Preparing to unpack .../01-libva2_2.7.0-2_amd64.deb ...\r\n",
      "\u001b7\u001b[24;0f\u001b[42m\u001b[30mProgress: [  1%]\u001b[49m\u001b[39m [..........................................................] \u001b8Unpacking libva2:amd64 (2.7.0-2) ...\r\n"
     ]
    },
    {
     "name": "stdout",
     "output_type": "stream",
     "text": [
      "Selecting previously unselected package libva-drm2:amd64.\r\n",
      "Preparing to unpack .../02-libva-drm2_2.7.0-2_amd64.deb ...\r\n",
      "\u001b7\u001b[24;0f\u001b[42m\u001b[30mProgress: [  2%]\u001b[49m\u001b[39m [#.........................................................] \u001b8Unpacking libva-drm2:amd64 (2.7.0-2) ...\r\n"
     ]
    },
    {
     "name": "stdout",
     "output_type": "stream",
     "text": [
      "Selecting previously unselected package libva-x11-2:amd64.\r\n",
      "Preparing to unpack .../03-libva-x11-2_2.7.0-2_amd64.deb ...\r\n",
      "\u001b7\u001b[24;0f\u001b[42m\u001b[30mProgress: [  3%]\u001b[49m\u001b[39m [#.........................................................] \u001b8Unpacking libva-x11-2:amd64 (2.7.0-2) ...\r\n"
     ]
    },
    {
     "name": "stdout",
     "output_type": "stream",
     "text": [
      "Selecting previously unselected package ocl-icd-libopencl1:amd64.\r\n",
      "Preparing to unpack .../04-ocl-icd-libopencl1_2.2.11-1ubuntu1_amd64.deb ...\r\n",
      "\u001b7\u001b[24;0f\u001b[42m\u001b[30mProgress: [  4%]\u001b[49m\u001b[39m [##........................................................] \u001b8Unpacking ocl-icd-libopencl1:amd64 (2.2.11-1ubuntu1) ...\r\n"
     ]
    },
    {
     "name": "stdout",
     "output_type": "stream",
     "text": [
      "Selecting previously unselected package libavutil56:amd64.\r\n",
      "Preparing to unpack .../05-libavutil56_7%3a4.2.7-0ubuntu0.1_amd64.deb ...\r\n",
      "Unpacking libavutil56:amd64 (7:4.2.7-0ubuntu0.1) ...\r\n"
     ]
    },
    {
     "name": "stdout",
     "output_type": "stream",
     "text": [
      "\u001b7\u001b[24;0f\u001b[42m\u001b[30mProgress: [  5%]\u001b[49m\u001b[39m [###.......................................................] \u001b8Selecting previously unselected package libcodec2-0.9:amd64.\r\n"
     ]
    },
    {
     "name": "stdout",
     "output_type": "stream",
     "text": [
      "Preparing to unpack .../06-libcodec2-0.9_0.9.2-2_amd64.deb ...\r\n",
      "Unpacking libcodec2-0.9:amd64 (0.9.2-2) ...\r\n"
     ]
    },
    {
     "name": "stdout",
     "output_type": "stream",
     "text": [
      "\u001b7\u001b[24;0f\u001b[42m\u001b[30mProgress: [  6%]\u001b[49m\u001b[39m [###.......................................................] \u001b8Selecting previously unselected package libgsm1:amd64.\r\n"
     ]
    },
    {
     "name": "stdout",
     "output_type": "stream",
     "text": [
      "Preparing to unpack .../07-libgsm1_1.0.18-2_amd64.deb ...\r\n",
      "Unpacking libgsm1:amd64 (1.0.18-2) ...\r\n",
      "\u001b7\u001b[24;0f\u001b[42m\u001b[30mProgress: [  7%]\u001b[49m\u001b[39m [####......................................................] \u001b8Selecting previously unselected package libshine3:amd64.\r\n"
     ]
    },
    {
     "name": "stdout",
     "output_type": "stream",
     "text": [
      "Preparing to unpack .../08-libshine3_3.1.1-2_amd64.deb ...\r\n",
      "Unpacking libshine3:amd64 (3.1.1-2) ...\r\n",
      "\u001b7\u001b[24;0f\u001b[42m\u001b[30mProgress: [  8%]\u001b[49m\u001b[39m [####......................................................] \u001b8Selecting previously unselected package libsnappy1v5:amd64.\r\n"
     ]
    },
    {
     "name": "stdout",
     "output_type": "stream",
     "text": [
      "Preparing to unpack .../09-libsnappy1v5_1.1.8-1build1_amd64.deb ...\r\n",
      "Unpacking libsnappy1v5:amd64 (1.1.8-1build1) ...\r\n",
      "Selecting previously unselected package libswresample3:amd64.\r\n"
     ]
    },
    {
     "name": "stdout",
     "output_type": "stream",
     "text": [
      "Preparing to unpack .../10-libswresample3_7%3a4.2.7-0ubuntu0.1_amd64.deb ...\r\n",
      "\u001b7\u001b[24;0f\u001b[42m\u001b[30mProgress: [  9%]\u001b[49m\u001b[39m [#####.....................................................] \u001b8Unpacking libswresample3:amd64 (7:4.2.7-0ubuntu0.1) ...\r\n"
     ]
    },
    {
     "name": "stdout",
     "output_type": "stream",
     "text": [
      "Selecting previously unselected package libwebpmux3:amd64.\r\n",
      "Preparing to unpack .../11-libwebpmux3_0.6.1-2ubuntu0.20.04.1_amd64.deb ...\r\n",
      "\u001b7\u001b[24;0f\u001b[42m\u001b[30mProgress: [ 10%]\u001b[49m\u001b[39m [#####.....................................................] \u001b8Unpacking libwebpmux3:amd64 (0.6.1-2ubuntu0.20.04.1) ...\r\n"
     ]
    },
    {
     "name": "stdout",
     "output_type": "stream",
     "text": [
      "Selecting previously unselected package libx264-155:amd64.\r\n",
      "Preparing to unpack .../12-libx264-155_2%3a0.155.2917+git0a84d98-2_amd64.deb ...\r\n",
      "\u001b7\u001b[24;0f\u001b[42m\u001b[30mProgress: [ 11%]\u001b[49m\u001b[39m [######....................................................] \u001b8Unpacking libx264-155:amd64 (2:0.155.2917+git0a84d98-2) ...\r\n"
     ]
    },
    {
     "name": "stdout",
     "output_type": "stream",
     "text": [
      "Selecting previously unselected package libx265-179:amd64.\r\n",
      "Preparing to unpack .../13-libx265-179_3.2.1-1build1_amd64.deb ...\r\n",
      "\u001b7\u001b[24;0f\u001b[42m\u001b[30mProgress: [ 12%]\u001b[49m\u001b[39m [######....................................................] \u001b8Unpacking libx265-179:amd64 (3.2.1-1build1) ...\r\n"
     ]
    },
    {
     "name": "stdout",
     "output_type": "stream",
     "text": [
      "Selecting previously unselected package libxvidcore4:amd64.\r\n",
      "Preparing to unpack .../14-libxvidcore4_2%3a1.3.7-1_amd64.deb ...\r\n",
      "Unpacking libxvidcore4:amd64 (2:1.3.7-1) ...\r\n"
     ]
    },
    {
     "name": "stdout",
     "output_type": "stream",
     "text": [
      "\u001b7\u001b[24;0f\u001b[42m\u001b[30mProgress: [ 13%]\u001b[49m\u001b[39m [#######...................................................] \u001b8Selecting previously unselected package libzvbi-common.\r\n",
      "Preparing to unpack .../15-libzvbi-common_0.2.35-17_all.deb ...\r\n",
      "Unpacking libzvbi-common (0.2.35-17) ...\r\n"
     ]
    },
    {
     "name": "stdout",
     "output_type": "stream",
     "text": [
      "\u001b7\u001b[24;0f\u001b[42m\u001b[30mProgress: [ 14%]\u001b[49m\u001b[39m [########..................................................] \u001b8Selecting previously unselected package libzvbi0:amd64.\r\n"
     ]
    },
    {
     "name": "stdout",
     "output_type": "stream",
     "text": [
      "Preparing to unpack .../16-libzvbi0_0.2.35-17_amd64.deb ...\r\n",
      "Unpacking libzvbi0:amd64 (0.2.35-17) ...\r\n",
      "\u001b7\u001b[24;0f\u001b[42m\u001b[30mProgress: [ 15%]\u001b[49m\u001b[39m [########..................................................] \u001b8"
     ]
    },
    {
     "name": "stdout",
     "output_type": "stream",
     "text": [
      "Selecting previously unselected package libavcodec58:amd64.\r\n",
      "Preparing to unpack .../17-libavcodec58_7%3a4.2.7-0ubuntu0.1_amd64.deb ...\r\n",
      "Unpacking libavcodec58:amd64 (7:4.2.7-0ubuntu0.1) ...\r\n"
     ]
    },
    {
     "name": "stdout",
     "output_type": "stream",
     "text": [
      "\u001b7\u001b[24;0f\u001b[42m\u001b[30mProgress: [ 16%]\u001b[49m\u001b[39m [#########.................................................] \u001b8"
     ]
    },
    {
     "name": "stdout",
     "output_type": "stream",
     "text": [
      "Selecting previously unselected package libass9:amd64.\r\n",
      "Preparing to unpack .../18-libass9_1%3a0.14.0-2_amd64.deb ...\r\n",
      "Unpacking libass9:amd64 (1:0.14.0-2) ...\r\n"
     ]
    },
    {
     "name": "stdout",
     "output_type": "stream",
     "text": [
      "Selecting previously unselected package libbluray2:amd64.\r\n",
      "Preparing to unpack .../19-libbluray2_1%3a1.2.0-1_amd64.deb ...\r\n",
      "\u001b7\u001b[24;0f\u001b[42m\u001b[30mProgress: [ 17%]\u001b[49m\u001b[39m [##########................................................] \u001b8"
     ]
    },
    {
     "name": "stdout",
     "output_type": "stream",
     "text": [
      "Unpacking libbluray2:amd64 (1:1.2.0-1) ...\r\n",
      "Selecting previously unselected package libchromaprint1:amd64.\r\n"
     ]
    },
    {
     "name": "stdout",
     "output_type": "stream",
     "text": [
      "Preparing to unpack .../20-libchromaprint1_1.4.3-3build1_amd64.deb ...\r\n",
      "\u001b7\u001b[24;0f\u001b[42m\u001b[30mProgress: [ 18%]\u001b[49m\u001b[39m [##########................................................] \u001b8Unpacking libchromaprint1:amd64 (1.4.3-3build1) ...\r\n"
     ]
    },
    {
     "name": "stdout",
     "output_type": "stream",
     "text": [
      "Selecting previously unselected package libgme0:amd64.\r\n",
      "Preparing to unpack .../21-libgme0_0.6.2-1build1_amd64.deb ...\r\n",
      "\u001b7\u001b[24;0f\u001b[42m\u001b[30mProgress: [ 19%]\u001b[49m\u001b[39m [###########...............................................] \u001b8Unpacking libgme0:amd64 (0.6.2-1build1) ...\r\n"
     ]
    },
    {
     "name": "stdout",
     "output_type": "stream",
     "text": [
      "Selecting previously unselected package libopenmpt0:amd64.\r\n",
      "Preparing to unpack .../22-libopenmpt0_0.4.11-1build1_amd64.deb ...\r\n",
      "\u001b7\u001b[24;0f\u001b[42m\u001b[30mProgress: [ 20%]\u001b[49m\u001b[39m [###########...............................................] \u001b8Unpacking libopenmpt0:amd64 (0.4.11-1build1) ...\r\n"
     ]
    },
    {
     "name": "stdout",
     "output_type": "stream",
     "text": [
      "Selecting previously unselected package libssh-gcrypt-4:amd64.\r\n",
      "Preparing to unpack .../23-libssh-gcrypt-4_0.9.3-2ubuntu2.2_amd64.deb ...\r\n",
      "Unpacking libssh-gcrypt-4:amd64 (0.9.3-2ubuntu2.2) ...\r\n"
     ]
    },
    {
     "name": "stdout",
     "output_type": "stream",
     "text": [
      "\u001b7\u001b[24;0f\u001b[42m\u001b[30mProgress: [ 21%]\u001b[49m\u001b[39m [############..............................................] \u001b8Selecting previously unselected package libavformat58:amd64.\r\n"
     ]
    },
    {
     "name": "stdout",
     "output_type": "stream",
     "text": [
      "Preparing to unpack .../24-libavformat58_7%3a4.2.7-0ubuntu0.1_amd64.deb ...\r\n",
      "Unpacking libavformat58:amd64 (7:4.2.7-0ubuntu0.1) ...\r\n"
     ]
    },
    {
     "name": "stdout",
     "output_type": "stream",
     "text": [
      "\u001b7\u001b[24;0f\u001b[42m\u001b[30mProgress: [ 22%]\u001b[49m\u001b[39m [############..............................................] \u001b8Selecting previously unselected package libbs2b0:amd64.\r\n",
      "Preparing to unpack .../25-libbs2b0_3.1.0+dfsg-2.2build1_amd64.deb ...\r\n",
      "Unpacking libbs2b0:amd64 (3.1.0+dfsg-2.2build1) ...\r\n"
     ]
    },
    {
     "name": "stdout",
     "output_type": "stream",
     "text": [
      "\u001b7\u001b[24;0f\u001b[42m\u001b[30mProgress: [ 23%]\u001b[49m\u001b[39m [#############.............................................] \u001b8Selecting previously unselected package libflite1:amd64.\r\n"
     ]
    },
    {
     "name": "stdout",
     "output_type": "stream",
     "text": [
      "Preparing to unpack .../26-libflite1_2.1-release-3_amd64.deb ...\r\n",
      "Unpacking libflite1:amd64 (2.1-release-3) ...\r\n"
     ]
    },
    {
     "name": "stdout",
     "output_type": "stream",
     "text": [
      "\u001b7\u001b[24;0f\u001b[42m\u001b[30mProgress: [ 24%]\u001b[49m\u001b[39m [#############.............................................] \u001b8Selecting previously unselected package libserd-0-0:amd64.\r\n"
     ]
    },
    {
     "name": "stdout",
     "output_type": "stream",
     "text": [
      "Preparing to unpack .../27-libserd-0-0_0.30.2-1_amd64.deb ...\r\n",
      "Unpacking libserd-0-0:amd64 (0.30.2-1) ...\r\n",
      "Selecting previously unselected package libsord-0-0:amd64.\r\n"
     ]
    },
    {
     "name": "stdout",
     "output_type": "stream",
     "text": [
      "Preparing to unpack .../28-libsord-0-0_0.16.4-1_amd64.deb ...\r\n",
      "\u001b7\u001b[24;0f\u001b[42m\u001b[30mProgress: [ 25%]\u001b[49m\u001b[39m [##############............................................] \u001b8Unpacking libsord-0-0:amd64 (0.16.4-1) ...\r\n"
     ]
    },
    {
     "name": "stdout",
     "output_type": "stream",
     "text": [
      "Selecting previously unselected package libsratom-0-0:amd64.\r\n",
      "Preparing to unpack .../29-libsratom-0-0_0.6.4-1_amd64.deb ...\r\n",
      "\u001b7\u001b[24;0f\u001b[42m\u001b[30mProgress: [ 26%]\u001b[49m\u001b[39m [###############...........................................] \u001b8Unpacking libsratom-0-0:amd64 (0.6.4-1) ...\r\n"
     ]
    },
    {
     "name": "stdout",
     "output_type": "stream",
     "text": [
      "Selecting previously unselected package liblilv-0-0:amd64.\r\n",
      "Preparing to unpack .../30-liblilv-0-0_0.24.6-1ubuntu0.1_amd64.deb ...\r\n",
      "\u001b7\u001b[24;0f\u001b[42m\u001b[30mProgress: [ 27%]\u001b[49m\u001b[39m [###############...........................................] \u001b8Unpacking liblilv-0-0:amd64 (0.24.6-1ubuntu0.1) ...\r\n"
     ]
    },
    {
     "name": "stdout",
     "output_type": "stream",
     "text": [
      "Selecting previously unselected package libmysofa1:amd64.\r\n",
      "Preparing to unpack .../31-libmysofa1_1.0~dfsg0-1_amd64.deb ...\r\n",
      "\u001b7\u001b[24;0f\u001b[42m\u001b[30mProgress: [ 28%]\u001b[49m\u001b[39m [################..........................................] \u001b8Unpacking libmysofa1:amd64 (1.0~dfsg0-1) ...\r\n"
     ]
    },
    {
     "name": "stdout",
     "output_type": "stream",
     "text": [
      "Selecting previously unselected package libpostproc55:amd64.\r\n",
      "Preparing to unpack .../32-libpostproc55_7%3a4.2.7-0ubuntu0.1_amd64.deb ...\r\n",
      "Unpacking libpostproc55:amd64 (7:4.2.7-0ubuntu0.1) ...\r\n",
      "\u001b7\u001b[24;0f\u001b[42m\u001b[30mProgress: [ 29%]\u001b[49m\u001b[39m [#################.........................................] \u001b8"
     ]
    },
    {
     "name": "stdout",
     "output_type": "stream",
     "text": [
      "Selecting previously unselected package libfftw3-double3:amd64.\r\n",
      "Preparing to unpack .../33-libfftw3-double3_3.3.8-2ubuntu1_amd64.deb ...\r\n",
      "Unpacking libfftw3-double3:amd64 (3.3.8-2ubuntu1) ...\r\n"
     ]
    },
    {
     "name": "stdout",
     "output_type": "stream",
     "text": [
      "\u001b7\u001b[24;0f\u001b[42m\u001b[30mProgress: [ 30%]\u001b[49m\u001b[39m [#################.........................................] \u001b8Selecting previously unselected package librubberband2:amd64.\r\n",
      "Preparing to unpack .../34-librubberband2_1.8.2-1build1_amd64.deb ...\r\n",
      "Unpacking librubberband2:amd64 (1.8.2-1build1) ...\r\n"
     ]
    },
    {
     "name": "stdout",
     "output_type": "stream",
     "text": [
      "\u001b7\u001b[24;0f\u001b[42m\u001b[30mProgress: [ 31%]\u001b[49m\u001b[39m [##################........................................] \u001b8Selecting previously unselected package libswscale5:amd64.\r\n"
     ]
    },
    {
     "name": "stdout",
     "output_type": "stream",
     "text": [
      "Preparing to unpack .../35-libswscale5_7%3a4.2.7-0ubuntu0.1_amd64.deb ...\r\n",
      "Unpacking libswscale5:amd64 (7:4.2.7-0ubuntu0.1) ...\r\n",
      "\u001b7\u001b[24;0f\u001b[42m\u001b[30mProgress: [ 32%]\u001b[49m\u001b[39m [##################........................................] \u001b8"
     ]
    },
    {
     "name": "stdout",
     "output_type": "stream",
     "text": [
      "Selecting previously unselected package libvidstab1.1:amd64.\r\n",
      "Preparing to unpack .../36-libvidstab1.1_1.1.0-2_amd64.deb ...\r\n",
      "Unpacking libvidstab1.1:amd64 (1.1.0-2) ...\r\n"
     ]
    },
    {
     "name": "stdout",
     "output_type": "stream",
     "text": [
      "Selecting previously unselected package libavfilter7:amd64.\r\n",
      "Preparing to unpack .../37-libavfilter7_7%3a4.2.7-0ubuntu0.1_amd64.deb ...\r\n",
      "\u001b7\u001b[24;0f\u001b[42m\u001b[30mProgress: [ 33%]\u001b[49m\u001b[39m [###################.......................................] \u001b8Unpacking libavfilter7:amd64 (7:4.2.7-0ubuntu0.1) ...\r\n"
     ]
    },
    {
     "name": "stdout",
     "output_type": "stream",
     "text": [
      "Selecting previously unselected package libcdio18:amd64.\r\n",
      "Preparing to unpack .../38-libcdio18_2.0.0-2_amd64.deb ...\r\n",
      "\u001b7\u001b[24;0f\u001b[42m\u001b[30mProgress: [ 34%]\u001b[49m\u001b[39m [###################.......................................] \u001b8Unpacking libcdio18:amd64 (2.0.0-2) ...\r\n"
     ]
    },
    {
     "name": "stdout",
     "output_type": "stream",
     "text": [
      "Selecting previously unselected package libcdio-cdda2:amd64.\r\n",
      "Preparing to unpack .../39-libcdio-cdda2_10.2+2.0.0-1_amd64.deb ...\r\n",
      "\u001b7\u001b[24;0f\u001b[42m\u001b[30mProgress: [ 35%]\u001b[49m\u001b[39m [####################......................................] \u001b8Unpacking libcdio-cdda2:amd64 (10.2+2.0.0-1) ...\r\n"
     ]
    },
    {
     "name": "stdout",
     "output_type": "stream",
     "text": [
      "Selecting previously unselected package libcdio-paranoia2:amd64.\r\n",
      "Preparing to unpack .../40-libcdio-paranoia2_10.2+2.0.0-1_amd64.deb ...\r\n",
      "\u001b7\u001b[24;0f\u001b[42m\u001b[30mProgress: [ 36%]\u001b[49m\u001b[39m [####################......................................] \u001b8Unpacking libcdio-paranoia2:amd64 (10.2+2.0.0-1) ...\r\n"
     ]
    },
    {
     "name": "stdout",
     "output_type": "stream",
     "text": [
      "Selecting previously unselected package libdc1394-22:amd64.\r\n",
      "Preparing to unpack .../41-libdc1394-22_2.2.5-2.1_amd64.deb ...\r\n",
      "Unpacking libdc1394-22:amd64 (2.2.5-2.1) ...\r\n",
      "\u001b7\u001b[24;0f\u001b[42m\u001b[30mProgress: [ 37%]\u001b[49m\u001b[39m [#####################.....................................] \u001b8"
     ]
    },
    {
     "name": "stdout",
     "output_type": "stream",
     "text": [
      "Selecting previously unselected package libopenal-data.\r\n",
      "Preparing to unpack .../42-libopenal-data_1%3a1.19.1-1_all.deb ...\r\n",
      "Unpacking libopenal-data (1:1.19.1-1) ...\r\n"
     ]
    },
    {
     "name": "stdout",
     "output_type": "stream",
     "text": [
      "\u001b7\u001b[24;0f\u001b[42m\u001b[30mProgress: [ 38%]\u001b[49m\u001b[39m [######################....................................] \u001b8Selecting previously unselected package libsndio7.0:amd64.\r\n",
      "Preparing to unpack .../43-libsndio7.0_1.5.0-3_amd64.deb ...\r\n",
      "Unpacking libsndio7.0:amd64 (1.5.0-3) ...\r\n"
     ]
    },
    {
     "name": "stdout",
     "output_type": "stream",
     "text": [
      "\u001b7\u001b[24;0f\u001b[42m\u001b[30mProgress: [ 39%]\u001b[49m\u001b[39m [######################....................................] \u001b8Selecting previously unselected package libopenal1:amd64.\r\n",
      "Preparing to unpack .../44-libopenal1_1%3a1.19.1-1_amd64.deb ...\r\n",
      "Unpacking libopenal1:amd64 (1:1.19.1-1) ...\r\n"
     ]
    },
    {
     "name": "stdout",
     "output_type": "stream",
     "text": [
      "\u001b7\u001b[24;0f\u001b[42m\u001b[30mProgress: [ 40%]\u001b[49m\u001b[39m [#######################...................................] \u001b8Selecting previously unselected package libsdl2-2.0-0:amd64.\r\n",
      "Preparing to unpack .../45-libsdl2-2.0-0_2.0.10+dfsg1-3_amd64.deb ...\r\n",
      "Unpacking libsdl2-2.0-0:amd64 (2.0.10+dfsg1-3) ...\r\n"
     ]
    },
    {
     "name": "stdout",
     "output_type": "stream",
     "text": [
      "Selecting previously unselected package libavdevice58:amd64.\r\n",
      "Preparing to unpack .../46-libavdevice58_7%3a4.2.7-0ubuntu0.1_amd64.deb ...\r\n",
      "\u001b7\u001b[24;0f\u001b[42m\u001b[30mProgress: [ 41%]\u001b[49m\u001b[39m [#######################...................................] \u001b8Unpacking libavdevice58:amd64 (7:4.2.7-0ubuntu0.1) ...\r\n"
     ]
    },
    {
     "name": "stdout",
     "output_type": "stream",
     "text": [
      "Selecting previously unselected package libavresample4:amd64.\r\n",
      "Preparing to unpack .../47-libavresample4_7%3a4.2.7-0ubuntu0.1_amd64.deb ...\r\n",
      "\u001b7\u001b[24;0f\u001b[42m\u001b[30mProgress: [ 42%]\u001b[49m\u001b[39m [########################..................................] \u001b8Unpacking libavresample4:amd64 (7:4.2.7-0ubuntu0.1) ...\r\n"
     ]
    },
    {
     "name": "stdout",
     "output_type": "stream",
     "text": [
      "Selecting previously unselected package ffmpeg.\r\n",
      "Preparing to unpack .../48-ffmpeg_7%3a4.2.7-0ubuntu0.1_amd64.deb ...\r\n",
      "\u001b7\u001b[24;0f\u001b[42m\u001b[30mProgress: [ 43%]\u001b[49m\u001b[39m [#########################.................................] \u001b8"
     ]
    },
    {
     "name": "stdout",
     "output_type": "stream",
     "text": [
      "Unpacking ffmpeg (7:4.2.7-0ubuntu0.1) ...\r\n"
     ]
    },
    {
     "name": "stdout",
     "output_type": "stream",
     "text": [
      "Selecting previously unselected package libigdgmm11:amd64.\r\n",
      "Preparing to unpack .../49-libigdgmm11_20.1.1+ds1-1_amd64.deb ...\r\n",
      "\u001b7\u001b[24;0f\u001b[42m\u001b[30mProgress: [ 44%]\u001b[49m\u001b[39m [#########################.................................] \u001b8Unpacking libigdgmm11:amd64 (20.1.1+ds1-1) ...\r\n"
     ]
    },
    {
     "name": "stdout",
     "output_type": "stream",
     "text": [
      "Selecting previously unselected package intel-media-va-driver:amd64.\r\n"
     ]
    },
    {
     "name": "stdout",
     "output_type": "stream",
     "text": [
      "Preparing to unpack .../50-intel-media-va-driver_20.1.1+dfsg1-1_amd64.deb ...\r\n",
      "Unpacking intel-media-va-driver:amd64 (20.1.1+dfsg1-1) ...\r\n"
     ]
    },
    {
     "name": "stdout",
     "output_type": "stream",
     "text": [
      "\u001b7\u001b[24;0f\u001b[42m\u001b[30mProgress: [ 45%]\u001b[49m\u001b[39m [##########################................................] \u001b8Selecting previously unselected package libaacs0:amd64.\r\n",
      "Preparing to unpack .../51-libaacs0_0.9.0-2_amd64.deb ...\r\n"
     ]
    },
    {
     "name": "stdout",
     "output_type": "stream",
     "text": [
      "Unpacking libaacs0:amd64 (0.9.0-2) ...\r\n",
      "\u001b7\u001b[24;0f\u001b[42m\u001b[30mProgress: [ 46%]\u001b[49m\u001b[39m [##########################................................] \u001b8Selecting previously unselected package libbdplus0:amd64.\r\n"
     ]
    },
    {
     "name": "stdout",
     "output_type": "stream",
     "text": [
      "Preparing to unpack .../52-libbdplus0_0.1.2-3_amd64.deb ...\r\n",
      "Unpacking libbdplus0:amd64 (0.1.2-3) ...\r\n",
      "\u001b7\u001b[24;0f\u001b[42m\u001b[30mProgress: [ 47%]\u001b[49m\u001b[39m [###########################...............................] \u001b8Selecting previously unselected package mesa-va-drivers:amd64.\r\n"
     ]
    },
    {
     "name": "stdout",
     "output_type": "stream",
     "text": [
      "Preparing to unpack .../53-mesa-va-drivers_21.2.6-0ubuntu0.1~20.04.2_amd64.deb ...\r\n",
      "Unpacking mesa-va-drivers:amd64 (21.2.6-0ubuntu0.1~20.04.2) ...\r\n"
     ]
    },
    {
     "name": "stdout",
     "output_type": "stream",
     "text": [
      "\u001b7\u001b[24;0f\u001b[42m\u001b[30mProgress: [ 48%]\u001b[49m\u001b[39m [###########################...............................] \u001b8Selecting previously unselected package i965-va-driver:amd64.\r\n"
     ]
    },
    {
     "name": "stdout",
     "output_type": "stream",
     "text": [
      "Preparing to unpack .../54-i965-va-driver_2.4.0-0ubuntu1_amd64.deb ...\r\n",
      "Unpacking i965-va-driver:amd64 (2.4.0-0ubuntu1) ...\r\n"
     ]
    },
    {
     "name": "stdout",
     "output_type": "stream",
     "text": [
      "Selecting previously unselected package va-driver-all:amd64.\r\n"
     ]
    },
    {
     "name": "stdout",
     "output_type": "stream",
     "text": [
      "Preparing to unpack .../55-va-driver-all_2.7.0-2_amd64.deb ...\r\n",
      "\u001b7\u001b[24;0f\u001b[42m\u001b[30mProgress: [ 49%]\u001b[49m\u001b[39m [############################..............................] \u001b8Unpacking va-driver-all:amd64 (2.7.0-2) ...\r\n"
     ]
    },
    {
     "name": "stdout",
     "output_type": "stream",
     "text": [
      "Setting up libgme0:amd64 (0.6.2-1build1) ...\r\n",
      "\u001b7\u001b[24;0f\u001b[42m\u001b[30mProgress: [ 50%]\u001b[49m\u001b[39m [#############################.............................] \u001b8Setting up libssh-gcrypt-4:amd64 (0.9.3-2ubuntu2.2) ...\r\n",
      "\u001b7\u001b[24;0f\u001b[42m\u001b[30mProgress: [ 51%]\u001b[49m\u001b[39m [#############################.............................] \u001b8Setting up libshine3:amd64 (3.1.1-2) ...\r\n",
      "\u001b7\u001b[24;0f\u001b[42m\u001b[30mProgress: [ 52%]\u001b[49m\u001b[39m [##############################............................] \u001b8"
     ]
    },
    {
     "name": "stdout",
     "output_type": "stream",
     "text": [
      "Setting up libgsm1:amd64 (1.0.18-2) ...\r\n",
      "\u001b7\u001b[24;0f\u001b[42m\u001b[30mProgress: [ 53%]\u001b[49m\u001b[39m [##############################............................] \u001b8Setting up libx264-155:amd64 (2:0.155.2917+git0a84d98-2) ...\r\n",
      "\u001b7\u001b[24;0f\u001b[42m\u001b[30mProgress: [ 54%]\u001b[49m\u001b[39m [###############################...........................] \u001b8Setting up libx265-179:amd64 (3.2.1-1build1) ...\r\n",
      "\u001b7\u001b[24;0f\u001b[42m\u001b[30mProgress: [ 55%]\u001b[49m\u001b[39m [###############################...........................] \u001b8Setting up libaom0:amd64 (1.0.0.errata1-3build1) ...\r\n",
      "\u001b7\u001b[24;0f\u001b[42m\u001b[30mProgress: [ 56%]\u001b[49m\u001b[39m [################################..........................] \u001b8Setting up libmysofa1:amd64 (1.0~dfsg0-1) ...\r\n",
      "Setting up libdc1394-22:amd64 (2.2.5-2.1) ...\r\n",
      "\u001b7\u001b[24;0f\u001b[42m\u001b[30mProgress: [ 57%]\u001b[49m\u001b[39m [#################################.........................] \u001b8Setting up libcdio18:amd64 (2.0.0-2) ...\r\n"
     ]
    },
    {
     "name": "stdout",
     "output_type": "stream",
     "text": [
      "\u001b7\u001b[24;0f\u001b[42m\u001b[30mProgress: [ 58%]\u001b[49m\u001b[39m [#################################.........................] \u001b8Setting up libxvidcore4:amd64 (2:1.3.7-1) ...\r\n",
      "\u001b7\u001b[24;0f\u001b[42m\u001b[30mProgress: [ 59%]\u001b[49m\u001b[39m [##################################........................] \u001b8Setting up libsnappy1v5:amd64 (1.1.8-1build1) ...\r\n",
      "\u001b7\u001b[24;0f\u001b[42m\u001b[30mProgress: [ 60%]\u001b[49m\u001b[39m [##################################........................] \u001b8Setting up libass9:amd64 (1:0.14.0-2) ...\r\n",
      "\u001b7\u001b[24;0f\u001b[42m\u001b[30mProgress: [ 61%]\u001b[49m\u001b[39m [###################################.......................] \u001b8Setting up libva2:amd64 (2.7.0-2) ...\r\n",
      "\u001b7\u001b[24;0f\u001b[42m\u001b[30mProgress: [ 62%]\u001b[49m\u001b[39m [####################################......................] \u001b8Setting up libigdgmm11:amd64 (20.1.1+ds1-1) ...\r\n",
      "\u001b7\u001b[24;0f\u001b[42m\u001b[30mProgress: [ 63%]\u001b[49m\u001b[39m [####################################......................] \u001b8Setting up libcodec2-0.9:amd64 (0.9.2-2) ...\r\n",
      "\u001b7\u001b[24;0f\u001b[42m\u001b[30mProgress: [ 64%]\u001b[49m\u001b[39m [#####################################.....................] \u001b8"
     ]
    },
    {
     "name": "stdout",
     "output_type": "stream",
     "text": [
      "Setting up intel-media-va-driver:amd64 (20.1.1+dfsg1-1) ...\r\n",
      "Setting up libaacs0:amd64 (0.9.0-2) ...\r\n",
      "\u001b7\u001b[24;0f\u001b[42m\u001b[30mProgress: [ 65%]\u001b[49m\u001b[39m [#####################################.....................] \u001b8Setting up libfftw3-double3:amd64 (3.3.8-2ubuntu1) ...\r\n",
      "\u001b7\u001b[24;0f\u001b[42m\u001b[30mProgress: [ 66%]\u001b[49m\u001b[39m [######################################....................] \u001b8Setting up librubberband2:amd64 (1.8.2-1build1) ...\r\n",
      "\u001b7\u001b[24;0f\u001b[42m\u001b[30mProgress: [ 67%]\u001b[49m\u001b[39m [######################################....................] \u001b8Setting up libsndio7.0:amd64 (1.5.0-3) ...\r\n",
      "\u001b7\u001b[24;0f\u001b[42m\u001b[30mProgress: [ 68%]\u001b[49m\u001b[39m [#######################################...................] \u001b8Setting up libbdplus0:amd64 (0.1.2-3) ...\r\n",
      "\u001b7\u001b[24;0f\u001b[42m\u001b[30mProgress: [ 69%]\u001b[49m\u001b[39m [########################################..................] \u001b8"
     ]
    },
    {
     "name": "stdout",
     "output_type": "stream",
     "text": [
      "Setting up libvidstab1.1:amd64 (1.1.0-2) ...\r\n",
      "\u001b7\u001b[24;0f\u001b[42m\u001b[30mProgress: [ 70%]\u001b[49m\u001b[39m [########################################..................] \u001b8Setting up libflite1:amd64 (2.1-release-3) ...\r\n",
      "\u001b7\u001b[24;0f\u001b[42m\u001b[30mProgress: [ 71%]\u001b[49m\u001b[39m [#########################################.................] \u001b8Setting up libva-drm2:amd64 (2.7.0-2) ...\r\n",
      "\u001b7\u001b[24;0f\u001b[42m\u001b[30mProgress: [ 72%]\u001b[49m\u001b[39m [#########################################.................] \u001b8Setting up ocl-icd-libopencl1:amd64 (2.2.11-1ubuntu1) ...\r\n",
      "Setting up libbs2b0:amd64 (3.1.0+dfsg-2.2build1) ...\r\n",
      "\u001b7\u001b[24;0f\u001b[42m\u001b[30mProgress: [ 73%]\u001b[49m\u001b[39m [##########################################................] \u001b8Setting up libopenal-data (1:1.19.1-1) ...\r\n",
      "\u001b7\u001b[24;0f\u001b[42m\u001b[30mProgress: [ 74%]\u001b[49m\u001b[39m [###########################################...............] \u001b8"
     ]
    },
    {
     "name": "stdout",
     "output_type": "stream",
     "text": [
      "Setting up mesa-va-drivers:amd64 (21.2.6-0ubuntu0.1~20.04.2) ...\r\n",
      "\u001b7\u001b[24;0f\u001b[42m\u001b[30mProgress: [ 75%]\u001b[49m\u001b[39m [###########################################...............] \u001b8Setting up libbluray2:amd64 (1:1.2.0-1) ...\r\n",
      "\u001b7\u001b[24;0f\u001b[42m\u001b[30mProgress: [ 76%]\u001b[49m\u001b[39m [############################################..............] \u001b8Setting up libsdl2-2.0-0:amd64 (2.0.10+dfsg1-3) ...\r\n",
      "\u001b7\u001b[24;0f\u001b[42m\u001b[30mProgress: [ 77%]\u001b[49m\u001b[39m [############################################..............] \u001b8Setting up libva-x11-2:amd64 (2.7.0-2) ...\r\n",
      "\u001b7\u001b[24;0f\u001b[42m\u001b[30mProgress: [ 78%]\u001b[49m\u001b[39m [#############################################.............] \u001b8Setting up libwebpmux3:amd64 (0.6.1-2ubuntu0.20.04.1) ...\r\n",
      "\u001b7\u001b[24;0f\u001b[42m\u001b[30mProgress: [ 79%]\u001b[49m\u001b[39m [#############################################.............] \u001b8Setting up libopenmpt0:amd64 (0.4.11-1build1) ...\r\n",
      "\u001b7\u001b[24;0f\u001b[42m\u001b[30mProgress: [ 80%]\u001b[49m\u001b[39m [##############################################............] \u001b8Setting up libzvbi-common (0.2.35-17) ...\r\n"
     ]
    },
    {
     "name": "stdout",
     "output_type": "stream",
     "text": [
      "Setting up i965-va-driver:amd64 (2.4.0-0ubuntu1) ...\r\n",
      "\u001b7\u001b[24;0f\u001b[42m\u001b[30mProgress: [ 81%]\u001b[49m\u001b[39m [###############################################...........] \u001b8Setting up libserd-0-0:amd64 (0.30.2-1) ...\r\n",
      "\u001b7\u001b[24;0f\u001b[42m\u001b[30mProgress: [ 82%]\u001b[49m\u001b[39m [###############################################...........] \u001b8Setting up libzvbi0:amd64 (0.2.35-17) ...\r\n",
      "\u001b7\u001b[24;0f\u001b[42m\u001b[30mProgress: [ 83%]\u001b[49m\u001b[39m [################################################..........] \u001b8Setting up libcdio-cdda2:amd64 (10.2+2.0.0-1) ...\r\n",
      "\u001b7\u001b[24;0f\u001b[42m\u001b[30mProgress: [ 84%]\u001b[49m\u001b[39m [################################################..........] \u001b8Setting up libcdio-paranoia2:amd64 (10.2+2.0.0-1) ...\r\n",
      "\u001b7\u001b[24;0f\u001b[42m\u001b[30mProgress: [ 85%]\u001b[49m\u001b[39m [#################################################.........] \u001b8Setting up libopenal1:amd64 (1:1.19.1-1) ...\r\n"
     ]
    },
    {
     "name": "stdout",
     "output_type": "stream",
     "text": [
      "\u001b7\u001b[24;0f\u001b[42m\u001b[30mProgress: [ 86%]\u001b[49m\u001b[39m [##################################################........] \u001b8Setting up libavutil56:amd64 (7:4.2.7-0ubuntu0.1) ...\r\n",
      "\u001b7\u001b[24;0f\u001b[42m\u001b[30mProgress: [ 87%]\u001b[49m\u001b[39m [##################################################........] \u001b8Setting up va-driver-all:amd64 (2.7.0-2) ...\r\n",
      "\u001b7\u001b[24;0f\u001b[42m\u001b[30mProgress: [ 88%]\u001b[49m\u001b[39m [###################################################.......] \u001b8Setting up libpostproc55:amd64 (7:4.2.7-0ubuntu0.1) ...\r\n",
      "Setting up libsord-0-0:amd64 (0.16.4-1) ...\r\n",
      "\u001b7\u001b[24;0f\u001b[42m\u001b[30mProgress: [ 89%]\u001b[49m\u001b[39m [###################################################.......] \u001b8Setting up libsratom-0-0:amd64 (0.6.4-1) ...\r\n",
      "\u001b7\u001b[24;0f\u001b[42m\u001b[30mProgress: [ 90%]\u001b[49m\u001b[39m [####################################################......] \u001b8Setting up libswscale5:amd64 (7:4.2.7-0ubuntu0.1) ...\r\n",
      "\u001b7\u001b[24;0f\u001b[42m\u001b[30mProgress: [ 91%]\u001b[49m\u001b[39m [####################################################......] \u001b8Setting up liblilv-0-0:amd64 (0.24.6-1ubuntu0.1) ...\r\n"
     ]
    },
    {
     "name": "stdout",
     "output_type": "stream",
     "text": [
      "\u001b7\u001b[24;0f\u001b[42m\u001b[30mProgress: [ 92%]\u001b[49m\u001b[39m [#####################################################.....] \u001b8Setting up libswresample3:amd64 (7:4.2.7-0ubuntu0.1) ...\r\n",
      "\u001b7\u001b[24;0f\u001b[42m\u001b[30mProgress: [ 93%]\u001b[49m\u001b[39m [######################################################....] \u001b8Setting up libavresample4:amd64 (7:4.2.7-0ubuntu0.1) ...\r\n",
      "\u001b7\u001b[24;0f\u001b[42m\u001b[30mProgress: [ 94%]\u001b[49m\u001b[39m [######################################################....] \u001b8Setting up libavcodec58:amd64 (7:4.2.7-0ubuntu0.1) ...\r\n",
      "\u001b7\u001b[24;0f\u001b[42m\u001b[30mProgress: [ 95%]\u001b[49m\u001b[39m [#######################################################...] \u001b8Setting up libchromaprint1:amd64 (1.4.3-3build1) ...\r\n",
      "\u001b7\u001b[24;0f\u001b[42m\u001b[30mProgress: [ 96%]\u001b[49m\u001b[39m [#######################################################...] \u001b8Setting up libavformat58:amd64 (7:4.2.7-0ubuntu0.1) ...\r\n",
      "Setting up libavfilter7:amd64 (7:4.2.7-0ubuntu0.1) ...\r\n",
      "\u001b7\u001b[24;0f\u001b[42m\u001b[30mProgress: [ 97%]\u001b[49m\u001b[39m [########################################################..] \u001b8"
     ]
    },
    {
     "name": "stdout",
     "output_type": "stream",
     "text": [
      "Setting up libavdevice58:amd64 (7:4.2.7-0ubuntu0.1) ...\r\n",
      "\u001b7\u001b[24;0f\u001b[42m\u001b[30mProgress: [ 98%]\u001b[49m\u001b[39m [########################################################..] \u001b8Setting up ffmpeg (7:4.2.7-0ubuntu0.1) ...\r\n",
      "\u001b7\u001b[24;0f\u001b[42m\u001b[30mProgress: [ 99%]\u001b[49m\u001b[39m [#########################################################.] \u001b8Processing triggers for man-db (2.9.1-1) ...\r\n"
     ]
    },
    {
     "name": "stdout",
     "output_type": "stream",
     "text": [
      "Processing triggers for libc-bin (2.31-0ubuntu9.9) ...\r\n"
     ]
    },
    {
     "name": "stdout",
     "output_type": "stream",
     "text": [
      "\r\n",
      "\u001b7\u001b[0;24r\u001b8\u001b[1A\u001b[J"
     ]
    }
   ],
   "source": [
    "!sudo apt install -y ffmpeg\n",
    "!pip install -q mediapy"
   ]
  },
  {
   "cell_type": "code",
   "execution_count": 3,
   "metadata": {
    "execution": {
     "iopub.execute_input": "2023-03-08T14:24:45.432461Z",
     "iopub.status.busy": "2023-03-08T14:24:45.432171Z",
     "iopub.status.idle": "2023-03-08T14:24:49.380317Z",
     "shell.execute_reply": "2023-03-08T14:24:49.379204Z"
    },
    "id": "s3khsunT7kWa"
   },
   "outputs": [
    {
     "name": "stdout",
     "output_type": "stream",
     "text": [
      "\u001b[33mWARNING: Skipping opencv-python-headless as it is not installed.\u001b[0m\u001b[33m\r\n",
      "\u001b[0m"
     ]
    }
   ],
   "source": [
    "!pip uninstall -q -y opencv-python-headless\n",
    "!pip install -q \"opencv-python-headless<4.3\""
   ]
  },
  {
   "cell_type": "code",
   "execution_count": 4,
   "metadata": {
    "execution": {
     "iopub.execute_input": "2023-03-08T14:24:49.384303Z",
     "iopub.status.busy": "2023-03-08T14:24:49.384043Z",
     "iopub.status.idle": "2023-03-08T14:24:51.929199Z",
     "shell.execute_reply": "2023-03-08T14:24:51.928103Z"
    },
    "id": "dI_1csl6Q-gH"
   },
   "outputs": [],
   "source": [
    "# Import libraries\n",
    "import pathlib\n",
    "\n",
    "import matplotlib as mpl\n",
    "import matplotlib.pyplot as plt\n",
    "import mediapy as media\n",
    "import numpy as np\n",
    "import PIL\n",
    "\n",
    "import tensorflow as tf\n",
    "import tensorflow_hub as hub\n",
    "import tqdm\n",
    "\n",
    "mpl.rcParams.update({\n",
    "    'font.size': 10,\n",
    "})"
   ]
  },
  {
   "cell_type": "markdown",
   "metadata": {
    "id": "Pn8K9oWbmREi"
   },
   "source": [
    "Get the kinetics 600 label list, and print the first few labels:"
   ]
  },
  {
   "cell_type": "code",
   "execution_count": 5,
   "metadata": {
    "execution": {
     "iopub.execute_input": "2023-03-08T14:24:51.934311Z",
     "iopub.status.busy": "2023-03-08T14:24:51.933005Z",
     "iopub.status.idle": "2023-03-08T14:24:51.942556Z",
     "shell.execute_reply": "2023-03-08T14:24:51.941630Z"
    },
    "id": "2VJUAcjhkfb3"
   },
   "outputs": [
    {
     "data": {
      "text/plain": [
       "array(['background', 'tench', 'goldfish', 'great white shark',\n",
       "       'tiger shark', 'hammerhead', 'electric ray', 'stingray', 'cock',\n",
       "       'hen', 'ostrich', 'brambling', 'goldfinch', 'house finch', 'junco',\n",
       "       'indigo bunting', 'robin', 'bulbul', 'jay', 'magpie'], dtype='<U30')"
      ]
     },
     "execution_count": 5,
     "metadata": {},
     "output_type": "execute_result"
    }
   ],
   "source": [
    "labels_path = tf.keras.utils.get_file(\n",
    "    fname='labels.txt',\n",
    "    origin='https://raw.githubusercontent.com/tensorflow/models/f8af2291cced43fc9f1d9b41ddbf772ae7b0d7d2/official/projects/movinet/files/kinetics_600_labels.txt'\n",
    ")\n",
    "labels_path = pathlib.Path(labels_path)\n",
    "\n",
    "lines = labels_path.read_text().splitlines()\n",
    "KINETICS_600_LABELS = np.array([line.strip() for line in lines])\n",
    "KINETICS_600_LABELS[:20]"
   ]
  },
  {
   "cell_type": "markdown",
   "metadata": {
    "id": "G9BU5XsOmaq3"
   },
   "source": [
    "To provide a simple example video for classification, we can load a short gif of jumping jacks being performed.\n",
    "\n",
    "![jumping jacks](https://github.com/tensorflow/models/raw/f8af2291cced43fc9f1d9b41ddbf772ae7b0d7d2/official/projects/movinet/files/jumpingjack.gif)\n",
    "\n",
    "Attribution: Footage shared by [Coach Bobby Bluford](https://www.youtube.com/watch?v=-AxHpj-EuPg) on YouTube under the CC-BY license."
   ]
  },
  {
   "cell_type": "markdown",
   "metadata": {
    "id": "8aFKMbr4mfSg"
   },
   "source": [
    "Download the gif."
   ]
  },
  {
   "cell_type": "code",
   "execution_count": 6,
   "metadata": {
    "execution": {
     "iopub.execute_input": "2023-03-08T14:24:51.946054Z",
     "iopub.status.busy": "2023-03-08T14:24:51.945447Z",
     "iopub.status.idle": "2023-03-08T14:24:52.526203Z",
     "shell.execute_reply": "2023-03-08T14:24:52.525363Z"
    },
    "id": "w62jqXhaSb15"
   },
   "outputs": [
    {
     "name": "stdout",
     "output_type": "stream",
     "text": [
      "Downloading data from https://github.com/tensorflow/models/raw/f8af2291cced43fc9f1d9b41ddbf772ae7b0d7d2/official/projects/movinet/files/jumpingjack.gif\n"
     ]
    },
    {
     "name": "stdout",
     "output_type": "stream",
     "text": [
      "\r",
      "  8192/783318 [..............................] - ETA: 0s"
     ]
    },
    {
     "name": "stdout",
     "output_type": "stream",
     "text": [
      "\b\b\b\b\b\b\b\b\b\b\b\b\b\b\b\b\b\b\b\b\b\b\b\b\b\b\b\b\b\b\b\b\b\b\b\b\b\b\b\b\b\b\b\b\b\b\b\b\b\b\b\b\b\b\b\b\r",
      "783318/783318 [==============================] - 0s 0us/step\n"
     ]
    }
   ],
   "source": [
    "jumpingjack_url = 'https://github.com/tensorflow/models/raw/f8af2291cced43fc9f1d9b41ddbf772ae7b0d7d2/official/projects/movinet/files/jumpingjack.gif'\n",
    "jumpingjack_path = tf.keras.utils.get_file(\n",
    "    fname='jumpingjack.gif',\n",
    "    origin=jumpingjack_url,\n",
    "    cache_dir='.', cache_subdir='.',\n",
    ")"
   ]
  },
  {
   "cell_type": "markdown",
   "metadata": {
    "id": "hdRS_22PebfB"
   },
   "source": [
    "Define a function to read a gif file into a `tf.Tensor`:"
   ]
  },
  {
   "cell_type": "code",
   "execution_count": 7,
   "metadata": {
    "execution": {
     "iopub.execute_input": "2023-03-08T14:24:52.529487Z",
     "iopub.status.busy": "2023-03-08T14:24:52.529217Z",
     "iopub.status.idle": "2023-03-08T14:24:52.534198Z",
     "shell.execute_reply": "2023-03-08T14:24:52.533459Z"
    },
    "id": "mPhmCu6oSi5f"
   },
   "outputs": [],
   "source": [
    "#@title\n",
    "# Read and process a video\n",
    "def load_gif(file_path, image_size=(224, 224)):\n",
    "  \"\"\"Loads a gif file into a TF tensor.\n",
    "\n",
    "  Use images resized to match what's expected by your model.\n",
    "  The model pages say the \"A2\" models expect 224 x 224 images at 5 fps\n",
    "\n",
    "  Args:\n",
    "    file_path: path to the location of a gif file.\n",
    "    image_size: a tuple of target size.\n",
    "\n",
    "  Returns:\n",
    "    a video of the gif file\n",
    "  \"\"\"\n",
    "  # Load a gif file, convert it to a TF tensor\n",
    "  raw = tf.io.read_file(file_path)\n",
    "  video = tf.io.decode_gif(raw)\n",
    "  # Resize the video\n",
    "  video = tf.image.resize(video, image_size)\n",
    "  # change dtype to a float32\n",
    "  # Hub models always want images normalized to [0,1]\n",
    "  # ref: https://www.tensorflow.org/hub/common_signatures/images#input\n",
    "  video = tf.cast(video, tf.float32) / 255.\n",
    "  return video"
   ]
  },
  {
   "cell_type": "markdown",
   "metadata": {
    "id": "Xx7cZm8vpDJm"
   },
   "source": [
    "The video's shape is `(frames, height, width, colors)`"
   ]
  },
  {
   "cell_type": "code",
   "execution_count": 8,
   "metadata": {
    "execution": {
     "iopub.execute_input": "2023-03-08T14:24:52.537537Z",
     "iopub.status.busy": "2023-03-08T14:24:52.536952Z",
     "iopub.status.idle": "2023-03-08T14:24:56.166861Z",
     "shell.execute_reply": "2023-03-08T14:24:56.166140Z"
    },
    "id": "E7k_PmbFSkHv"
   },
   "outputs": [
    {
     "data": {
      "text/plain": [
       "TensorShape([13, 224, 224, 3])"
      ]
     },
     "execution_count": 8,
     "metadata": {},
     "output_type": "execute_result"
    }
   ],
   "source": [
    "jumpingjack=load_gif(jumpingjack_path)\n",
    "jumpingjack.shape"
   ]
  },
  {
   "cell_type": "markdown",
   "metadata": {
    "id": "LcKFy3oedBvF"
   },
   "source": [
    "## How to use the model\n",
    "\n",
    "This section contains a walkthrough showing how to use the [models from TensorFlow Hub](https://tfhub.dev/google/collections/movinet/1). If you just want to see the models in action, skip to the next section.\n",
    "\n",
    "There are two versions of each model: `base` and `streaming`.\n",
    "\n",
    "* The `base` version takes a video as input, and returns the probabilities averaged over the frames.\n",
    "* The `streaming` version takes a video frame and an RNN state as input, and returns the predictions for that frame, and the new RNN state. "
   ]
  },
  {
   "cell_type": "markdown",
   "metadata": {
    "id": "WQO6Zb8Hm-9q"
   },
   "source": [
    "### The base model"
   ]
  },
  {
   "cell_type": "markdown",
   "metadata": {
    "id": "RfnYU20JnPqp"
   },
   "source": [
    "Download the [pretrained model from TensorFlow Hub](https://tfhub.dev/tensorflow/movinet/a2/base/kinetics-600/classification/3). "
   ]
  },
  {
   "cell_type": "code",
   "execution_count": 9,
   "metadata": {
    "execution": {
     "iopub.execute_input": "2023-03-08T14:24:56.170474Z",
     "iopub.status.busy": "2023-03-08T14:24:56.169982Z",
     "iopub.status.idle": "2023-03-08T14:25:11.268280Z",
     "shell.execute_reply": "2023-03-08T14:25:11.267609Z"
    },
    "id": "FnpPo6HSR7qv"
   },
   "outputs": [
    {
     "name": "stdout",
     "output_type": "stream",
     "text": [
      "CPU times: user 14.3 s, sys: 598 ms, total: 14.9 s\n",
      "Wall time: 15.1 s\n"
     ]
    }
   ],
   "source": [
    "%%time\n",
    "id = 'a2'\n",
    "mode = 'base'\n",
    "version = '3'\n",
    "hub_url = f'https://tfhub.dev/tensorflow/movinet/{id}/{mode}/kinetics-600/classification/{version}'\n",
    "model = hub.load(hub_url)"
   ]
  },
  {
   "cell_type": "markdown",
   "metadata": {
    "id": "jvaFwKhxndmb"
   },
   "source": [
    "This version of the model has one `signature`. It takes an `image` argument which is a `tf.float32` with shape `(batch, frames, height, width, colors)`. It returns a dictionary containing one output: A `tf.float32` tensor of logits with shape `(batch, classes)`."
   ]
  },
  {
   "cell_type": "code",
   "execution_count": 10,
   "metadata": {
    "execution": {
     "iopub.execute_input": "2023-03-08T14:25:11.271667Z",
     "iopub.status.busy": "2023-03-08T14:25:11.271168Z",
     "iopub.status.idle": "2023-03-08T14:25:11.275153Z",
     "shell.execute_reply": "2023-03-08T14:25:11.274579Z"
    },
    "id": "7GzZ4Y03T_gH"
   },
   "outputs": [
    {
     "name": "stdout",
     "output_type": "stream",
     "text": [
      "signature_wrapper(*, image)\n",
      "  Args:\n",
      "    image: float32 Tensor, shape=(None, None, None, None, 3)\n",
      "  Returns:\n",
      "    {'classifier_head': <1>}\n",
      "      <1>: float32 Tensor, shape=(None, 600)\n"
     ]
    }
   ],
   "source": [
    "sig = model.signatures['serving_default']\n",
    "print(sig.pretty_printed_signature())"
   ]
  },
  {
   "cell_type": "markdown",
   "metadata": {
    "id": "M4Xny1ANomi4"
   },
   "source": [
    "To run this signature on the video you need to add the outer `batch` dimension to the video first."
   ]
  },
  {
   "cell_type": "code",
   "execution_count": 11,
   "metadata": {
    "execution": {
     "iopub.execute_input": "2023-03-08T14:25:11.278083Z",
     "iopub.status.busy": "2023-03-08T14:25:11.277584Z",
     "iopub.status.idle": "2023-03-08T14:25:26.575149Z",
     "shell.execute_reply": "2023-03-08T14:25:26.574370Z"
    },
    "id": "LBOFEDG1XvZE"
   },
   "outputs": [],
   "source": [
    "#warmup\n",
    "sig(image = jumpingjack[tf.newaxis, :1]);"
   ]
  },
  {
   "cell_type": "code",
   "execution_count": 12,
   "metadata": {
    "execution": {
     "iopub.execute_input": "2023-03-08T14:25:26.579090Z",
     "iopub.status.busy": "2023-03-08T14:25:26.578462Z",
     "iopub.status.idle": "2023-03-08T14:25:36.203888Z",
     "shell.execute_reply": "2023-03-08T14:25:36.203202Z"
    },
    "id": "jCeW3KycVbGn"
   },
   "outputs": [
    {
     "name": "stdout",
     "output_type": "stream",
     "text": [
      "(600,)\n",
      "\n",
      "CPU times: user 7.37 s, sys: 221 ms, total: 7.59 s\n",
      "Wall time: 9.62 s\n"
     ]
    }
   ],
   "source": [
    "%%time\n",
    "logits = sig(image = jumpingjack[tf.newaxis, ...])\n",
    "logits = logits['classifier_head'][0]\n",
    "\n",
    "print(logits.shape)\n",
    "print()"
   ]
  },
  {
   "cell_type": "markdown",
   "metadata": {
    "id": "AE8doqkPpxED"
   },
   "source": [
    "Define a `get_top_k` function that packages the above output processing for later."
   ]
  },
  {
   "cell_type": "code",
   "execution_count": 13,
   "metadata": {
    "execution": {
     "iopub.execute_input": "2023-03-08T14:25:36.207043Z",
     "iopub.status.busy": "2023-03-08T14:25:36.206799Z",
     "iopub.status.idle": "2023-03-08T14:25:36.211551Z",
     "shell.execute_reply": "2023-03-08T14:25:36.210927Z"
    },
    "id": "OozPNO6LvZ00"
   },
   "outputs": [],
   "source": [
    "#@title\n",
    "# Get top_k labels and probabilities\n",
    "def get_top_k(probs, k=5, label_map=KINETICS_600_LABELS):\n",
    "  \"\"\"Outputs the top k model labels and probabilities on the given video.\n",
    "\n",
    "  Args:\n",
    "    probs: probability tensor of shape (num_frames, num_classes) that represents\n",
    "      the probability of each class on each frame.\n",
    "    k: the number of top predictions to select.\n",
    "    label_map: a list of labels to map logit indices to label strings.\n",
    "\n",
    "  Returns:\n",
    "    a tuple of the top-k labels and probabilities.\n",
    "  \"\"\"\n",
    "  # Sort predictions to find top_k\n",
    "  top_predictions = tf.argsort(probs, axis=-1, direction='DESCENDING')[:k]\n",
    "  # collect the labels of top_k predictions\n",
    "  top_labels = tf.gather(label_map, top_predictions, axis=-1)\n",
    "  # decode lablels\n",
    "  top_labels = [label.decode('utf8') for label in top_labels.numpy()]\n",
    "  # top_k probabilities of the predictions\n",
    "  top_probs = tf.gather(probs, top_predictions, axis=-1).numpy()\n",
    "  return tuple(zip(top_labels, top_probs))"
   ]
  },
  {
   "cell_type": "markdown",
   "metadata": {
    "id": "kTfKMT29pP_Z"
   },
   "source": [
    "Convert the `logits` to probabilities, and look up the top 5 classes for the video. The model confirms that the video is probably of `jumping jacks`."
   ]
  },
  {
   "cell_type": "code",
   "execution_count": 14,
   "metadata": {
    "execution": {
     "iopub.execute_input": "2023-03-08T14:25:36.214492Z",
     "iopub.status.busy": "2023-03-08T14:25:36.214091Z",
     "iopub.status.idle": "2023-03-08T14:25:36.228682Z",
     "shell.execute_reply": "2023-03-08T14:25:36.227917Z"
    },
    "id": "Z-SrNGsGV5Mt"
   },
   "outputs": [
    {
     "name": "stdout",
     "output_type": "stream",
     "text": [
      "EntleBucher         : 0.834\n",
      "home theater        : 0.008\n",
      "miniature poodle    : 0.003\n",
      "redshank            : 0.003\n",
      "spider monkey       : 0.002\n"
     ]
    }
   ],
   "source": [
    "probs = tf.nn.softmax(logits, axis=-1)\n",
    "for label, p in get_top_k(probs):\n",
    "  print(f'{label:20s}: {p:.3f}')"
   ]
  },
  {
   "cell_type": "markdown",
   "metadata": {
    "id": "ltdijoQpqjxZ"
   },
   "source": [
    "### The streaming model"
   ]
  },
  {
   "cell_type": "markdown",
   "metadata": {
    "id": "9dqdUPQXq45b"
   },
   "source": [
    "The previous section used a model that runs over a whole video. Often when processing a video you don't want a single prediction at the end, you want to update predictions frame by frame. The `stream` versions of the model allow you to do this.\n",
    "\n",
    "Load the `stream` version of the model."
   ]
  },
  {
   "cell_type": "code",
   "execution_count": 15,
   "metadata": {
    "execution": {
     "iopub.execute_input": "2023-03-08T14:25:36.232056Z",
     "iopub.status.busy": "2023-03-08T14:25:36.231516Z",
     "iopub.status.idle": "2023-03-08T14:26:20.462680Z",
     "shell.execute_reply": "2023-03-08T14:26:20.461983Z"
    },
    "id": "mxt0hRXFZkAM"
   },
   "outputs": [
    {
     "name": "stderr",
     "output_type": "stream",
     "text": [
      "WARNING:absl:`state/b3/l5/pool_frame_count` is not a valid tf.function parameter name. Sanitizing to `state_b3_l5_pool_frame_count`.\n"
     ]
    },
    {
     "name": "stderr",
     "output_type": "stream",
     "text": [
      "WARNING:absl:`state/b2/l2/pool_frame_count` is not a valid tf.function parameter name. Sanitizing to `state_b2_l2_pool_frame_count`.\n"
     ]
    },
    {
     "name": "stderr",
     "output_type": "stream",
     "text": [
      "WARNING:absl:`state/b4/l3/pool_buffer` is not a valid tf.function parameter name. Sanitizing to `state_b4_l3_pool_buffer`.\n"
     ]
    },
    {
     "name": "stderr",
     "output_type": "stream",
     "text": [
      "WARNING:absl:`state/head/pool_buffer` is not a valid tf.function parameter name. Sanitizing to `state_head_pool_buffer`.\n"
     ]
    },
    {
     "name": "stderr",
     "output_type": "stream",
     "text": [
      "WARNING:absl:`state/b1/l2/pool_buffer` is not a valid tf.function parameter name. Sanitizing to `state_b1_l2_pool_buffer`.\n"
     ]
    },
    {
     "name": "stdout",
     "output_type": "stream",
     "text": [
      "CPU times: user 41.9 s, sys: 2.11 s, total: 44 s\n",
      "Wall time: 44.2 s\n"
     ]
    }
   ],
   "source": [
    "%%time\n",
    "id = 'a2'\n",
    "mode = 'stream'\n",
    "version = '3'\n",
    "hub_url = f'https://tfhub.dev/tensorflow/movinet/{id}/{mode}/kinetics-600/classification/{version}'\n",
    "model = hub.load(hub_url)"
   ]
  },
  {
   "cell_type": "markdown",
   "metadata": {
    "id": "pDswtsGgsYGS"
   },
   "source": [
    "Using this model is slightly more complex than the `base` model. You have to keep track of the internal state of the model's RNNs."
   ]
  },
  {
   "cell_type": "code",
   "execution_count": 16,
   "metadata": {
    "execution": {
     "iopub.execute_input": "2023-03-08T14:26:20.465927Z",
     "iopub.status.busy": "2023-03-08T14:26:20.465681Z",
     "iopub.status.idle": "2023-03-08T14:26:20.470127Z",
     "shell.execute_reply": "2023-03-08T14:26:20.469499Z"
    },
    "id": "0fM_Vb1VsbDm"
   },
   "outputs": [
    {
     "data": {
      "text/plain": [
       "['call', 'init_states']"
      ]
     },
     "execution_count": 16,
     "metadata": {},
     "output_type": "execute_result"
    }
   ],
   "source": [
    "list(model.signatures.keys())"
   ]
  },
  {
   "cell_type": "markdown",
   "metadata": {
    "id": "ojr1_iYCtPvp"
   },
   "source": [
    "The `init_states` signature takes the video's **shape** `(batch, frames, height, width, colors)` as input, and returns a large dictionary of tensors containing the initial RNN states: "
   ]
  },
  {
   "cell_type": "code",
   "execution_count": 17,
   "metadata": {
    "execution": {
     "iopub.execute_input": "2023-03-08T14:26:20.473031Z",
     "iopub.status.busy": "2023-03-08T14:26:20.472582Z",
     "iopub.status.idle": "2023-03-08T14:26:20.477447Z",
     "shell.execute_reply": "2023-03-08T14:26:20.476896Z"
    },
    "id": "67loYFGpo_RP"
   },
   "outputs": [
    {
     "name": "stdout",
     "output_type": "stream",
     "text": [
      "signature_wrapper(*, input_shape).\n",
      "  Args:.\n",
      "    input_shape: int32 Tensor, shape=(5,).\n",
      "  Returns:.\n",
      "    {'state/b0/l0/pool_buffer': <1>, 'state/b0/l0/pool_frame_count': <2>, 'state/b0/l1/pool_buffer': <3>, 'state/b0/l1/pool_frame_count': <4>, 'state/b0/l1/stream_buffer': <5>, 'state/b0/l2/pool_buffer': <6>, 'state/b0/l2/pool_frame_count': <7>, 'state/b0/l2/stream_buffer': <8>, 'state/b1/l0/pool_buffer': <9>, 'state/b1/l0/pool_frame_count': <10>, 'state/b1/l0/stream_buffer': <11>, 'state/b1/l1/pool_buffer': <12>, 'state/b1/l1/pool_frame_count': <13>, 'state/b1/l1/stream_buffer': <14>, 'state/b1/l2/pool_buffer': <15>, 'state/b1/l2/pool_frame_count': <16>, 'state/b1/l2/stream_buffer': <17>, 'state/b1/l3/pool_buffer': <18>, 'state/b1/l3/pool_frame_count': <19>, 'state/b1/l3/stream_buffer': <20>, 'state/b1/l4/pool_buffer': <21>, 'state/b1/l4/pool_frame_count': <22>, 'state/b1/l4/stream_buffer': <23>, 'state/b2/l0/pool_buffer': <24>, 'state/b2/l0/pool_frame_count': <25>, 'state/b2/l0/stream_buffer': <26>, 'state/b2/l1/pool_buffer': <27>, 'state/b2/l1/pool_frame_count': <28>, 'state/b2/l1/stream_buffer': <29>, 'state/b2/l2/pool_buffer': <30>, 'state/b2/l2/pool_frame_count': <31>, 'state/b2/l2/stream_buffer': <32>, 'state/b2/l3/pool_buffer': <33>, 'state/b2/l3/pool_frame_count': <34>, 'state/b2/l3/stream_buffer': <35>, 'state/b2/l4/pool_buffer': <36>, 'state/b2/l4/pool_frame_count': <37>, 'state/b2/l4/stream_buffer': <38>, 'state/b3/l0/pool_buffer': <39>, 'state/b3/l0/pool_frame_count': <40>, 'state/b3/l0/stream_buffer': <41>, 'state/b3/l1/pool_buffer': <42>, 'state/b3/l1/pool_frame_count': <43>, 'state/b3/l1/stream_buffer': <44>, 'state/b3/l2/pool_buffer': <45>, 'state/b3/l2/pool_frame_count': <46>, 'state/b3/l2/stream_buffer': <47>, 'state/b3/l3/pool_buffer': <48>, 'state/b3/l3/pool_frame_count': <49>, 'state/b3/l3/stream_buffer': <50>, 'state/b3/l4/pool_buffer': <51>, 'state/b3/l4/pool_frame_count': <52>, 'state/b3/l5/pool_buffer': <53>, 'state/b3/l5/pool_frame_count': <54>, 'state/b3/l5/stream_buffer': <55>, 'state/b4/l0/pool_buffer': <56>, 'state/b4/l0/pool_frame_count': <57>, 'state/b4/l0/stream_buffer': <58>, 'state/b4/l1/pool_buffer': <59>, 'state/b4/l1/pool_frame_count': <60>, 'state/b4/l2/pool_buffer': <61>, 'state/b4/l2/pool_frame_count': <62>, 'state/b4/l3/pool_buffer': <63>, 'state/b4/l3/pool_frame_count': <64>, 'state/b4/l4/pool_buffer': <65>, 'state/b4/l4/pool_frame_count': <66>, 'state/b4/l5/pool_buffer': <67>, 'state/b4/l5/pool_frame_count': <68>, 'state/b4/l5/stream_buffer': <69>, 'state/b4/l6/pool_buffer': <70>, 'state/b4/l6/pool_frame_count': <71>, 'state/head/pool_buffer': <72>, 'state/head/pool_frame_count': <73>}.\n",
      "      <1>: float32 Tensor, shape=(None, 1, 1, 1, 40).\n",
      "      <2>: int32 Tensor, shape=(1,).\n",
      "      <3>: float32 Tensor, shape=(None, 1, 1, 1, 40).\n",
      "      <4>: int32 Tensor, shape=(1,).\n",
      "      <5>: float32 Tensor, shape=(None, 2, None, None, 40).\n",
      "      ...\n"
     ]
    }
   ],
   "source": [
    "lines = model.signatures['init_states'].pretty_printed_signature().splitlines()\n",
    "lines = lines[:10]\n",
    "lines.append('      ...')\n",
    "print('.\\n'.join(lines))"
   ]
  },
  {
   "cell_type": "code",
   "execution_count": 18,
   "metadata": {
    "execution": {
     "iopub.execute_input": "2023-03-08T14:26:20.480366Z",
     "iopub.status.busy": "2023-03-08T14:26:20.479790Z",
     "iopub.status.idle": "2023-03-08T14:26:20.691225Z",
     "shell.execute_reply": "2023-03-08T14:26:20.690506Z"
    },
    "id": "v5lG3vejn5df"
   },
   "outputs": [],
   "source": [
    "initial_state = model.init_states(jumpingjack[tf.newaxis, ...].shape)"
   ]
  },
  {
   "cell_type": "code",
   "execution_count": 19,
   "metadata": {
    "execution": {
     "iopub.execute_input": "2023-03-08T14:26:20.695147Z",
     "iopub.status.busy": "2023-03-08T14:26:20.694505Z",
     "iopub.status.idle": "2023-03-08T14:26:20.698688Z",
     "shell.execute_reply": "2023-03-08T14:26:20.698146Z"
    },
    "id": "J3DwmyHnuhH_"
   },
   "outputs": [
    {
     "data": {
      "text/plain": [
       "dict"
      ]
     },
     "execution_count": 19,
     "metadata": {},
     "output_type": "execute_result"
    }
   ],
   "source": [
    "type(initial_state)"
   ]
  },
  {
   "cell_type": "code",
   "execution_count": 20,
   "metadata": {
    "execution": {
     "iopub.execute_input": "2023-03-08T14:26:20.701308Z",
     "iopub.status.busy": "2023-03-08T14:26:20.701095Z",
     "iopub.status.idle": "2023-03-08T14:26:20.705326Z",
     "shell.execute_reply": "2023-03-08T14:26:20.704797Z"
    },
    "id": "K8SyiEU6tB-e"
   },
   "outputs": [
    {
     "data": {
      "text/plain": [
       "['state/b0/l0/pool_buffer',\n",
       " 'state/b0/l0/pool_frame_count',\n",
       " 'state/b0/l1/pool_buffer',\n",
       " 'state/b0/l1/pool_frame_count',\n",
       " 'state/b0/l1/stream_buffer']"
      ]
     },
     "execution_count": 20,
     "metadata": {},
     "output_type": "execute_result"
    }
   ],
   "source": [
    "list(sorted(initial_state.keys()))[:5]"
   ]
  },
  {
   "cell_type": "markdown",
   "metadata": {
    "id": "xeMCzJMBvwRF"
   },
   "source": [
    "Once you have the initial state for the RNNs, you can pass the state and a video frame as input (keeping the `(batch, frames, height, width, colors)` shape for the video frame). The model returns a `(logits, state)` pair. \n",
    "\n",
    "After just seeing the first frame, the model is not convinced that the video is of \"jumping jacks\":"
   ]
  },
  {
   "cell_type": "code",
   "execution_count": 21,
   "metadata": {
    "execution": {
     "iopub.execute_input": "2023-03-08T14:26:20.708463Z",
     "iopub.status.busy": "2023-03-08T14:26:20.708021Z",
     "iopub.status.idle": "2023-03-08T14:26:20.713149Z",
     "shell.execute_reply": "2023-03-08T14:26:20.712608Z"
    },
    "id": "McSLdIgtsI3d"
   },
   "outputs": [],
   "source": [
    "inputs = initial_state.copy()\n",
    "\n",
    "# Add the batch axis, take the first frme, but keep the frame-axis.\n",
    "inputs['image'] = jumpingjack[tf.newaxis, 0:1, ...] "
   ]
  },
  {
   "cell_type": "code",
   "execution_count": 22,
   "metadata": {
    "execution": {
     "iopub.execute_input": "2023-03-08T14:26:20.716249Z",
     "iopub.status.busy": "2023-03-08T14:26:20.715808Z",
     "iopub.status.idle": "2023-03-08T14:26:27.095055Z",
     "shell.execute_reply": "2023-03-08T14:26:27.094316Z"
    },
    "id": "WlH7PqLPX664"
   },
   "outputs": [],
   "source": [
    "# warmup\n",
    "model(inputs);"
   ]
  },
  {
   "cell_type": "code",
   "execution_count": 23,
   "metadata": {
    "execution": {
     "iopub.execute_input": "2023-03-08T14:26:27.098759Z",
     "iopub.status.busy": "2023-03-08T14:26:27.098165Z",
     "iopub.status.idle": "2023-03-08T14:26:27.136901Z",
     "shell.execute_reply": "2023-03-08T14:26:27.136323Z"
    },
    "id": "7uzNXtu7X5sr"
   },
   "outputs": [
    {
     "name": "stdout",
     "output_type": "stream",
     "text": [
      "miniature schnauzer : 0.427\n",
      "corkscrew           : 0.134\n",
      "miniature poodle    : 0.056\n",
      "church              : 0.053\n",
      "fly                 : 0.039\n",
      "\n"
     ]
    }
   ],
   "source": [
    "logits, new_state = model(inputs)\n",
    "logits = logits[0]\n",
    "probs = tf.nn.softmax(logits, axis=-1)\n",
    "\n",
    "for label, p in get_top_k(probs):\n",
    "  print(f'{label:20s}: {p:.3f}')\n",
    "\n",
    "print()"
   ]
  },
  {
   "cell_type": "markdown",
   "metadata": {
    "id": "oLU644FQwXSb"
   },
   "source": [
    "If you run the model in a loop, passing the updated state with each frame, the model quickly converges to the correct result:"
   ]
  },
  {
   "cell_type": "code",
   "execution_count": 24,
   "metadata": {
    "execution": {
     "iopub.execute_input": "2023-03-08T14:26:27.140186Z",
     "iopub.status.busy": "2023-03-08T14:26:27.139470Z",
     "iopub.status.idle": "2023-03-08T14:26:27.528879Z",
     "shell.execute_reply": "2023-03-08T14:26:27.528202Z"
    },
    "id": "Fzm7T4ImmIEg"
   },
   "outputs": [
    {
     "name": "stdout",
     "output_type": "stream",
     "text": [
      "CPU times: user 382 ms, sys: 35.3 ms, total: 417 ms\n",
      "Wall time: 384 ms\n"
     ]
    }
   ],
   "source": [
    "%%time\n",
    "state = initial_state.copy()\n",
    "all_logits = []\n",
    "\n",
    "for n in range(len(jumpingjack)):\n",
    "  inputs = state\n",
    "  inputs['image'] = jumpingjack[tf.newaxis, n:n+1, ...]\n",
    "  result, state = model(inputs)\n",
    "  all_logits.append(logits)\n",
    "\n",
    "probabilities = tf.nn.softmax(all_logits, axis=-1)"
   ]
  },
  {
   "cell_type": "code",
   "execution_count": 25,
   "metadata": {
    "execution": {
     "iopub.execute_input": "2023-03-08T14:26:27.532081Z",
     "iopub.status.busy": "2023-03-08T14:26:27.531524Z",
     "iopub.status.idle": "2023-03-08T14:26:27.537434Z",
     "shell.execute_reply": "2023-03-08T14:26:27.536867Z"
    },
    "id": "B7UtHoSWcOT2"
   },
   "outputs": [
    {
     "name": "stdout",
     "output_type": "stream",
     "text": [
      "miniature schnauzer : 0.427\n",
      "corkscrew           : 0.134\n",
      "miniature poodle    : 0.056\n",
      "church              : 0.053\n",
      "fly                 : 0.039\n"
     ]
    }
   ],
   "source": [
    "for label, p in get_top_k(probabilities[-1]):\n",
    "  print(f'{label:20s}: {p:.3f}')"
   ]
  },
  {
   "cell_type": "code",
   "execution_count": 26,
   "metadata": {
    "execution": {
     "iopub.execute_input": "2023-03-08T14:26:27.540305Z",
     "iopub.status.busy": "2023-03-08T14:26:27.539788Z",
     "iopub.status.idle": "2023-03-08T14:26:27.700457Z",
     "shell.execute_reply": "2023-03-08T14:26:27.699836Z"
    },
    "id": "6ffV3NhZcsrv"
   },
   "outputs": [
    {
     "data": {
      "image/png": "[encoded data removed]",
      "text/plain": [
       "<Figure size 640x480 with 1 Axes>"
      ]
     },
     "metadata": {},
     "output_type": "display_data"
    }
   ],
   "source": [
    "id = tf.argmax(probabilities[-1])\n",
    "plt.plot(probabilities[:, id])\n",
    "plt.xlabel('Frame #')\n",
    "plt.ylabel(f\"p('{KINETICS_600_LABELS[id]}')\");"
   ]
  },
  {
   "cell_type": "markdown",
   "metadata": {
    "id": "d7MZ_AfRW845"
   },
   "source": [
    "You may notice that the final probability is much more certain than in the previous section where you ran the `base` model. The `base` model returns an average of the predictions over the frames."
   ]
  },
  {
   "cell_type": "code",
   "execution_count": 27,
   "metadata": {
    "execution": {
     "iopub.execute_input": "2023-03-08T14:26:27.703760Z",
     "iopub.status.busy": "2023-03-08T14:26:27.703265Z",
     "iopub.status.idle": "2023-03-08T14:26:27.709985Z",
     "shell.execute_reply": "2023-03-08T14:26:27.709440Z"
    },
    "id": "0Wij4tsyW8dR"
   },
   "outputs": [
    {
     "name": "stdout",
     "output_type": "stream",
     "text": [
      "miniature schnauzer : 0.427\n",
      "corkscrew           : 0.134\n",
      "miniature poodle    : 0.056\n",
      "church              : 0.053\n",
      "fly                 : 0.039\n"
     ]
    }
   ],
   "source": [
    "for label, p in get_top_k(tf.reduce_mean(probabilities, axis=0)):\n",
    "  print(f'{label:20s}: {p:.3f}')"
   ]
  },
  {
   "cell_type": "markdown",
   "metadata": {
    "id": "qLUoC9ejggGo"
   },
   "source": [
    "## Animate the predictions over time\n",
    "\n",
    "The previous section went into some details about how to use these models. This section builds on top of that to produce some nice inference animations. "
   ]
  },
  {
   "cell_type": "markdown",
   "metadata": {
    "id": "OnFqOXazoWgy"
   },
   "source": [
    "The hidden cell below to defines helper functions used in this section."
   ]
  },
  {
   "cell_type": "code",
   "execution_count": 28,
   "metadata": {
    "cellView": "form",
    "execution": {
     "iopub.execute_input": "2023-03-08T14:26:27.713237Z",
     "iopub.status.busy": "2023-03-08T14:26:27.712669Z",
     "iopub.status.idle": "2023-03-08T14:26:27.728339Z",
     "shell.execute_reply": "2023-03-08T14:26:27.727734Z"
    },
    "id": "dx55NK3ZoZeh"
   },
   "outputs": [],
   "source": [
    "#@title\n",
    "# Get top_k labels and probabilities predicted using MoViNets streaming model\n",
    "def get_top_k_streaming_labels(probs, k=5, label_map=KINETICS_600_LABELS):\n",
    "  \"\"\"Returns the top-k labels over an entire video sequence.\n",
    "\n",
    "  Args:\n",
    "    probs: probability tensor of shape (num_frames, num_classes) that represents\n",
    "      the probability of each class on each frame.\n",
    "    k: the number of top predictions to select.\n",
    "    label_map: a list of labels to map logit indices to label strings.\n",
    "\n",
    "  Returns:\n",
    "    a tuple of the top-k probabilities, labels, and logit indices\n",
    "  \"\"\"\n",
    "  top_categories_last = tf.argsort(probs, -1, 'DESCENDING')[-1, :1]\n",
    "  # Sort predictions to find top_k\n",
    "  categories = tf.argsort(probs, -1, 'DESCENDING')[:, :k]\n",
    "  categories = tf.reshape(categories, [-1])\n",
    "\n",
    "  counts = sorted([\n",
    "      (i.numpy(), tf.reduce_sum(tf.cast(categories == i, tf.int32)).numpy())\n",
    "      for i in tf.unique(categories)[0]\n",
    "  ], key=lambda x: x[1], reverse=True)\n",
    "\n",
    "  top_probs_idx = tf.constant([i for i, _ in counts[:k]])\n",
    "  top_probs_idx = tf.concat([top_categories_last, top_probs_idx], 0)\n",
    "  # find unique indices of categories\n",
    "  top_probs_idx = tf.unique(top_probs_idx)[0][:k+1]\n",
    "  # top_k probabilities of the predictions\n",
    "  top_probs = tf.gather(probs, top_probs_idx, axis=-1)\n",
    "  top_probs = tf.transpose(top_probs, perm=(1, 0))\n",
    "  # collect the labels of top_k predictions\n",
    "  top_labels = tf.gather(label_map, top_probs_idx, axis=0)\n",
    "  # decode the top_k labels\n",
    "  top_labels = [label.decode('utf8') for label in top_labels.numpy()]\n",
    "\n",
    "  return top_probs, top_labels, top_probs_idx\n",
    "\n",
    "# Plot top_k predictions at a given time step\n",
    "def plot_streaming_top_preds_at_step(\n",
    "    top_probs,\n",
    "    top_labels,\n",
    "    step=None,\n",
    "    image=None,\n",
    "    legend_loc='lower left',\n",
    "    duration_seconds=10,\n",
    "    figure_height=500,\n",
    "    playhead_scale=0.8,\n",
    "    grid_alpha=0.3):\n",
    "  \"\"\"Generates a plot of the top video model predictions at a given time step.\n",
    "\n",
    "  Args:\n",
    "    top_probs: a tensor of shape (k, num_frames) representing the top-k\n",
    "      probabilities over all frames.\n",
    "    top_labels: a list of length k that represents the top-k label strings.\n",
    "    step: the current time step in the range [0, num_frames].\n",
    "    image: the image frame to display at the current time step.\n",
    "    legend_loc: the placement location of the legend.\n",
    "    duration_seconds: the total duration of the video.\n",
    "    figure_height: the output figure height.\n",
    "    playhead_scale: scale value for the playhead.\n",
    "    grid_alpha: alpha value for the gridlines.\n",
    "\n",
    "  Returns:\n",
    "    A tuple of the output numpy image, figure, and axes.\n",
    "  \"\"\"\n",
    "  # find number of top_k labels and frames in the video\n",
    "  num_labels, num_frames = top_probs.shape\n",
    "  if step is None:\n",
    "    step = num_frames\n",
    "  # Visualize frames and top_k probabilities of streaming video\n",
    "  fig = plt.figure(figsize=(6.5, 7), dpi=300)\n",
    "  gs = mpl.gridspec.GridSpec(8, 1)\n",
    "  ax2 = plt.subplot(gs[:-3, :])\n",
    "  ax = plt.subplot(gs[-3:, :])\n",
    "  # display the frame\n",
    "  if image is not None:\n",
    "    ax2.imshow(image, interpolation='nearest')\n",
    "    ax2.axis('off')\n",
    "  # x-axis (frame number)\n",
    "  preview_line_x = tf.linspace(0., duration_seconds, num_frames)\n",
    "  # y-axis (top_k probabilities)\n",
    "  preview_line_y = top_probs\n",
    "\n",
    "  line_x = preview_line_x[:step+1]\n",
    "  line_y = preview_line_y[:, :step+1]\n",
    "\n",
    "  for i in range(num_labels):\n",
    "    ax.plot(preview_line_x, preview_line_y[i], label=None, linewidth='1.5',\n",
    "            linestyle=':', color='gray')\n",
    "    ax.plot(line_x, line_y[i], label=top_labels[i], linewidth='2.0')\n",
    "\n",
    "\n",
    "  ax.grid(which='major', linestyle=':', linewidth='1.0', alpha=grid_alpha)\n",
    "  ax.grid(which='minor', linestyle=':', linewidth='0.5', alpha=grid_alpha)\n",
    "\n",
    "  min_height = tf.reduce_min(top_probs) * playhead_scale\n",
    "  max_height = tf.reduce_max(top_probs)\n",
    "  ax.vlines(preview_line_x[step], min_height, max_height, colors='red')\n",
    "  ax.scatter(preview_line_x[step], max_height, color='red')\n",
    "\n",
    "  ax.legend(loc=legend_loc)\n",
    "\n",
    "  plt.xlim(0, duration_seconds)\n",
    "  plt.ylabel('Probability')\n",
    "  plt.xlabel('Time (s)')\n",
    "  plt.yscale('log')\n",
    "\n",
    "  fig.tight_layout()\n",
    "  fig.canvas.draw()\n",
    "\n",
    "  data = np.frombuffer(fig.canvas.tostring_rgb(), dtype=np.uint8)\n",
    "  data = data.reshape(fig.canvas.get_width_height()[::-1] + (3,))\n",
    "  plt.close()\n",
    "\n",
    "  figure_width = int(figure_height * data.shape[1] / data.shape[0])\n",
    "  image = PIL.Image.fromarray(data).resize([figure_width, figure_height])\n",
    "  image = np.array(image)\n",
    "\n",
    "  return image\n",
    "\n",
    "# Plotting top_k predictions from MoViNets streaming model\n",
    "def plot_streaming_top_preds(\n",
    "    probs,\n",
    "    video,\n",
    "    top_k=5,\n",
    "    video_fps=25.,\n",
    "    figure_height=500,\n",
    "    use_progbar=True):\n",
    "  \"\"\"Generates a video plot of the top video model predictions.\n",
    "\n",
    "  Args:\n",
    "    probs: probability tensor of shape (num_frames, num_classes) that represents\n",
    "      the probability of each class on each frame.\n",
    "    video: the video to display in the plot.\n",
    "    top_k: the number of top predictions to select.\n",
    "    video_fps: the input video fps.\n",
    "    figure_fps: the output video fps.\n",
    "    figure_height: the height of the output video.\n",
    "    use_progbar: display a progress bar.\n",
    "\n",
    "  Returns:\n",
    "    A numpy array representing the output video.\n",
    "  \"\"\"\n",
    "  # select number of frames per second\n",
    "  video_fps = 8.\n",
    "  # select height of the image\n",
    "  figure_height = 500\n",
    "  # number of time steps of the given video\n",
    "  steps = video.shape[0]\n",
    "  # estimate duration of the video (in seconds)\n",
    "  duration = steps / video_fps\n",
    "  # estiamte top_k probabilities and corresponding labels\n",
    "  top_probs, top_labels, _ = get_top_k_streaming_labels(probs, k=top_k)\n",
    "\n",
    "  images = []\n",
    "  step_generator = tqdm.trange(steps) if use_progbar else range(steps)\n",
    "  for i in step_generator:\n",
    "    image = plot_streaming_top_preds_at_step(\n",
    "        top_probs=top_probs,\n",
    "        top_labels=top_labels,\n",
    "        step=i,\n",
    "        image=video[i],\n",
    "        duration_seconds=duration,\n",
    "        figure_height=figure_height,\n",
    "    )\n",
    "    images.append(image)\n",
    "\n",
    "  return np.array(images)"
   ]
  },
  {
   "cell_type": "markdown",
   "metadata": {
    "id": "eLgFBslcZOQO"
   },
   "source": [
    "Start by running the streaming model across the frames of the video, and collecting the logits:"
   ]
  },
  {
   "cell_type": "code",
   "execution_count": 29,
   "metadata": {
    "execution": {
     "iopub.execute_input": "2023-03-08T14:26:27.731536Z",
     "iopub.status.busy": "2023-03-08T14:26:27.731009Z",
     "iopub.status.idle": "2023-03-08T14:26:27.954106Z",
     "shell.execute_reply": "2023-03-08T14:26:27.953318Z"
    },
    "id": "tXWR13wthnK5"
   },
   "outputs": [],
   "source": [
    "init_states = model.init_states(jumpingjack[tf.newaxis].shape)"
   ]
  },
  {
   "cell_type": "code",
   "execution_count": 30,
   "metadata": {
    "execution": {
     "iopub.execute_input": "2023-03-08T14:26:27.957988Z",
     "iopub.status.busy": "2023-03-08T14:26:27.957353Z",
     "iopub.status.idle": "2023-03-08T14:26:28.350707Z",
     "shell.execute_reply": "2023-03-08T14:26:28.349731Z"
    },
    "id": "YqSkt7l8ltwt"
   },
   "outputs": [
    {
     "name": "stderr",
     "output_type": "stream",
     "text": [
      "\r",
      "  0%|          | 0/13 [00:00<?, ?it/s]"
     ]
    },
    {
     "name": "stderr",
     "output_type": "stream",
     "text": [
      "\r",
      " 31%|███       | 4/13 [00:00<00:00, 32.60it/s]"
     ]
    },
    {
     "name": "stderr",
     "output_type": "stream",
     "text": [
      "\r",
      " 62%|██████▏   | 8/13 [00:00<00:00, 33.95it/s]"
     ]
    },
    {
     "name": "stderr",
     "output_type": "stream",
     "text": [
      "\r",
      " 92%|█████████▏| 12/13 [00:00<00:00, 34.54it/s]"
     ]
    },
    {
     "name": "stderr",
     "output_type": "stream",
     "text": [
      "\r",
      "100%|██████████| 13/13 [00:00<00:00, 34.25it/s]"
     ]
    },
    {
     "name": "stderr",
     "output_type": "stream",
     "text": [
      "\n"
     ]
    }
   ],
   "source": [
    "# Insert your video clip here\n",
    "video = jumpingjack\n",
    "images = tf.split(video[tf.newaxis], video.shape[0], axis=1)\n",
    "\n",
    "all_logits = []\n",
    "\n",
    "# To run on a video, pass in one frame at a time\n",
    "states = init_states\n",
    "for image in tqdm.tqdm(images):\n",
    "  # predictions for each frame\n",
    "  logits, states = model({**states, 'image': image})\n",
    "  all_logits.append(logits)\n",
    "\n",
    "# concatinating all the logits\n",
    "logits = tf.concat(all_logits, 0)\n",
    "# estimating probabilities\n",
    "probs = tf.nn.softmax(logits, axis=-1)"
   ]
  },
  {
   "cell_type": "code",
   "execution_count": 31,
   "metadata": {
    "execution": {
     "iopub.execute_input": "2023-03-08T14:26:28.353823Z",
     "iopub.status.busy": "2023-03-08T14:26:28.353566Z",
     "iopub.status.idle": "2023-03-08T14:26:28.361014Z",
     "shell.execute_reply": "2023-03-08T14:26:28.360102Z"
    },
    "id": "OOGcCMMJyuPl"
   },
   "outputs": [
    {
     "name": "stdout",
     "output_type": "stream",
     "text": [
      "Top_k predictions and their probablities\n",
      "\n",
      "EntleBucher         : 0.999\n",
      "home theater        : 0.000\n",
      "redshank            : 0.000\n",
      "spoonbill           : 0.000\n",
      "candle              : 0.000\n"
     ]
    }
   ],
   "source": [
    "final_probs = probs[-1]\n",
    "print('Top_k predictions and their probablities\\n')\n",
    "for label, p in get_top_k(final_probs):\n",
    "  print(f'{label:20s}: {p:.3f}')"
   ]
  },
  {
   "cell_type": "markdown",
   "metadata": {
    "id": "GaybT0rbZct-"
   },
   "source": [
    "Convert the sequence of probabilities into a video:"
   ]
  },
  {
   "cell_type": "code",
   "execution_count": 32,
   "metadata": {
    "execution": {
     "iopub.execute_input": "2023-03-08T14:26:28.363948Z",
     "iopub.status.busy": "2023-03-08T14:26:28.363714Z",
     "iopub.status.idle": "2023-03-08T14:26:34.943295Z",
     "shell.execute_reply": "2023-03-08T14:26:34.942397Z"
    },
    "id": "Xdox556CtMRb"
   },
   "outputs": [
    {
     "name": "stderr",
     "output_type": "stream",
     "text": [
      "\r",
      "  0%|          | 0/13 [00:00<?, ?it/s]"
     ]
    },
    {
     "name": "stderr",
     "output_type": "stream",
     "text": [
      "\r",
      "  8%|▊         | 1/13 [00:00<00:06,  1.85it/s]"
     ]
    },
    {
     "name": "stderr",
     "output_type": "stream",
     "text": [
      "\r",
      " 15%|█▌        | 2/13 [00:01<00:05,  1.97it/s]"
     ]
    },
    {
     "name": "stderr",
     "output_type": "stream",
     "text": [
      "\r",
      " 23%|██▎       | 3/13 [00:01<00:05,  1.98it/s]"
     ]
    },
    {
     "name": "stderr",
     "output_type": "stream",
     "text": [
      "\r",
      " 31%|███       | 4/13 [00:02<00:04,  1.98it/s]"
     ]
    },
    {
     "name": "stderr",
     "output_type": "stream",
     "text": [
      "\r",
      " 38%|███▊      | 5/13 [00:02<00:04,  1.98it/s]"
     ]
    },
    {
     "name": "stderr",
     "output_type": "stream",
     "text": [
      "\r",
      " 46%|████▌     | 6/13 [00:03<00:03,  1.98it/s]"
     ]
    },
    {
     "name": "stderr",
     "output_type": "stream",
     "text": [
      "\r",
      " 54%|█████▍    | 7/13 [00:03<00:03,  2.00it/s]"
     ]
    },
    {
     "name": "stderr",
     "output_type": "stream",
     "text": [
      "\r",
      " 62%|██████▏   | 8/13 [00:04<00:02,  1.99it/s]"
     ]
    },
    {
     "name": "stderr",
     "output_type": "stream",
     "text": [
      "\r",
      " 69%|██████▉   | 9/13 [00:04<00:01,  2.00it/s]"
     ]
    },
    {
     "name": "stderr",
     "output_type": "stream",
     "text": [
      "\r",
      " 77%|███████▋  | 10/13 [00:05<00:01,  1.99it/s]"
     ]
    },
    {
     "name": "stderr",
     "output_type": "stream",
     "text": [
      "\r",
      " 85%|████████▍ | 11/13 [00:05<00:00,  2.00it/s]"
     ]
    },
    {
     "name": "stderr",
     "output_type": "stream",
     "text": [
      "\r",
      " 92%|█████████▏| 12/13 [00:06<00:00,  1.99it/s]"
     ]
    },
    {
     "name": "stderr",
     "output_type": "stream",
     "text": [
      "\r",
      "100%|██████████| 13/13 [00:06<00:00,  2.00it/s]"
     ]
    },
    {
     "name": "stderr",
     "output_type": "stream",
     "text": [
      "\r",
      "100%|██████████| 13/13 [00:06<00:00,  1.99it/s]"
     ]
    },
    {
     "name": "stderr",
     "output_type": "stream",
     "text": [
      "\n"
     ]
    }
   ],
   "source": [
    "# Generate a plot and output to a video tensor\n",
    "plot_video = plot_streaming_top_preds(probs, video, video_fps=8.)"
   ]
  },
  {
   "cell_type": "code",
   "execution_count": 33,
   "metadata": {
    "execution": {
     "iopub.execute_input": "2023-03-08T14:26:34.946541Z",
     "iopub.status.busy": "2023-03-08T14:26:34.946272Z",
     "iopub.status.idle": "2023-03-08T14:26:35.325496Z",
     "shell.execute_reply": "2023-03-08T14:26:35.324386Z"
    },
    "id": "NSStKE9klCs3"
   },
   "outputs": [
    {
     "data": {
      "text/html": [
       "<table class=\"show_videos\" style=\"border-spacing:0px;\"><tr><td style=\"padding:1px;\"><video controls width=\"464\" height=\"500\" style=\"object-fit:cover;\" loop autoplay muted>\n",
       "      <source src=\"data:video/mp4;base64,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\" type=\"video/mp4\"/>\n",
       "      This browser does not support the video tag.\n",
       "      </video></td></tr></table>"
      ],
      "text/plain": [
       "<IPython.core.display.HTML object>"
      ]
     },
     "metadata": {},
     "output_type": "display_data"
    }
   ],
   "source": [
    "# For gif format, set codec='gif'\n",
    "media.show_video(plot_video, fps=3)"
   ]
  },
  {
   "cell_type": "markdown",
   "metadata": {
    "id": "LCImgZ3OdJw7"
   },
   "source": [
    "## Resources\n",
    "\n",
    "The pretrained models are available from [TF Hub](https://tfhub.dev/google/collections/movinet/1). The TF Hub collection also includes quantized models optimized for [TFLite](https://tensorflow.org/lite).\n",
    "\n",
    "The source for these models is available in the [TensorFlow Model Garden](https://github.com/tensorflow/models/tree/master/official/projects/movinet). This includes a [longer version of this tutorial](https://colab.sandbox.google.com/github/tensorflow/models/blob/master/official/projects/movinet/movinet_tutorial.ipynb) that also covers building and fine-tuning a MoViNet model. "
   ]
  },
  {
   "cell_type": "markdown",
   "metadata": {
    "id": "gh5lLAo-HpVF"
   },
   "source": [
    "## Next Steps\n",
    "\n",
    "To learn more about working with video data in TensorFlow, check out the following tutorials:\n",
    "\n",
    "* [Load video data](https://www.tensorflow.org/tutorials/load_data/video)\n",
    "* [Build a 3D CNN model for video classification](https://www.tensorflow.org/tutorials/video/video_classification)\n",
    "* [Transfer learning for video classification with MoViNet](https://www.tensorflow.org/tutorials/video/transfer_learning_with_movinet)"
   ]
  }
 ],
 "metadata": {
  "colab": {
   "name": "movinet.ipynb",
   "provenance": [],
   "toc_visible": true
  },
  "kernelspec": {
   "display_name": "Python 3",
   "name": "python3"
  },
  "language_info": {
   "codemirror_mode": {
    "name": "ipython",
    "version": 3
   },
   "file_extension": ".py",
   "mimetype": "text/x-python",
   "name": "python",
   "nbconvert_exporter": "python",
   "pygments_lexer": "ipython3",
   "version": "3.9.16"
  }
 },
 "nbformat": 4,
 "nbformat_minor": 0
}
