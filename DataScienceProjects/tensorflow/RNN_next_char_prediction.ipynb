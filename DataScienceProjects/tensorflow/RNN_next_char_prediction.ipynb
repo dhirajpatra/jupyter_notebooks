{
 "cells": [
  {
   "cell_type": "code",
   "execution_count": null,
   "id": "6f35fa91-f727-4b6b-81c1-535cc27e3de5",
   "metadata": {},
   "outputs": [],
   "source": [
    "from keras.models import Sequential\n",
    "from keras.layers import Dense, SimpleRNN\n",
    "from keras.utils import to_categorical\n",
    "from keras.preprocessing.sequence import pad_sequences\n",
    "import numpy as np\n"
   ]
  },
  {
   "cell_type": "code",
   "execution_count": null,
   "id": "12930acc-e8d8-408b-a5d7-635a344e76f1",
   "metadata": {},
   "outputs": [],
   "source": [
    "# Define the text sequence\n",
    "text = \"Hello, World!\""
   ]
  },
  {
   "cell_type": "code",
   "execution_count": null,
   "id": "dee6ef67-ce9a-43d0-8249-d635a4a1d9d6",
   "metadata": {},
   "outputs": [],
   "source": [
    "# Convert text to numerical sequences\n",
    "char_to_int = {c: i for i, c in enumerate(set(text))}\n",
    "int_to_char = {i: c for i, c in enumerate(set(text))}\n",
    "sequences = [[char_to_int[c] for c in text]]\n"
   ]
  },
  {
   "cell_type": "code",
   "execution_count": null,
   "id": "33826a4c-f1b6-4030-ab0a-4bb37bef0685",
   "metadata": {},
   "outputs": [],
   "source": [
    "# Pad sequences to have same length\n",
    "max_length = 20\n",
    "padded_sequences = pad_sequences(sequences, maxlen=max_length, padding='post')\n"
   ]
  },
  {
   "cell_type": "code",
   "execution_count": null,
   "id": "cd2aeb68-88b1-4a7f-b565-30fffcbfe395",
   "metadata": {},
   "outputs": [],
   "source": [
    "# One-hot encode the sequences\n",
    "one_hot_encoded = to_categorical(padded_sequences)\n",
    "\n"
   ]
  },
  {
   "cell_type": "code",
   "execution_count": null,
   "id": "40faabb3-c7ba-4fda-9a63-dbbb2f42d42f",
   "metadata": {},
   "outputs": [],
   "source": [
    "# Split data into input and output sequences\n",
    "X = one_hot_encoded[:, :-1, :]\n",
    "y = one_hot_encoded[:, 1:, :]\n",
    "\n"
   ]
  },
  {
   "cell_type": "code",
   "execution_count": null,
   "id": "96bc50f4-0b92-4aae-b6f6-a23e76ec6279",
   "metadata": {},
   "outputs": [],
   "source": [
    "# Define the RNN model\n",
    "model = Sequential()\n",
    "model.add(SimpleRNN(64, input_shape=(X.shape[1], X.shape[2])))\n",
    "model.add(Dense(y.shape[2], activation='softmax'))\n",
    "\n"
   ]
  },
  {
   "cell_type": "code",
   "execution_count": null,
   "id": "d008f2e3-68da-456e-849d-4e4d24ad0921",
   "metadata": {},
   "outputs": [],
   "source": [
    "# Compile the model\n",
    "model.compile(loss='categorical_crossentropy', optimizer='adam', metrics=['accuracy'])\n",
    "\n"
   ]
  },
  {
   "cell_type": "code",
   "execution_count": null,
   "id": "729a6fde-cbfa-427d-892e-61bb729e4f73",
   "metadata": {},
   "outputs": [],
   "source": [
    "# Train the model\n",
    "model.fit(X, y, epochs=100, batch_size=32)\n",
    "\n"
   ]
  },
  {
   "cell_type": "code",
   "execution_count": null,
   "id": "608514a1-ea27-44d7-bac3-0be2db1797c4",
   "metadata": {},
   "outputs": [],
   "source": [
    "# Evaluate the model\n",
    "loss, accuracy = model.evaluate(X, y)\n",
    "print(f'Loss: {loss:.3f}, Accuracy: {accuracy:.3f}')\n",
    "\n"
   ]
  },
  {
   "cell_type": "code",
   "execution_count": null,
   "id": "6852af4c-e382-403d-b35b-dc5abaadcf09",
   "metadata": {},
   "outputs": [],
   "source": [
    "# Use the model to predict the next character in a sequence\n",
    "def predict_next_char(model, sequence):\n",
    "    sequence = np.array([char_to_int[c] for c in sequence])\n",
    "    sequence = pad_sequences([sequence], maxlen=max_length, padding='post')\n",
    "    sequence = to_categorical(sequence)\n",
    "    prediction = model.predict(sequence)\n",
    "    predicted_char = int_to_char[np.argmax(prediction[0][-1])]\n",
    "    return predicted_char\n",
    "\n",
    "print(predict_next_char(model, \"Hello, W\"))"
   ]
  }
 ],
 "metadata": {
  "kernelspec": {
   "display_name": "Python 3 (ipykernel)",
   "language": "python",
   "name": "python3"
  },
  "language_info": {
   "codemirror_mode": {
    "name": "ipython",
    "version": 3
   },
   "file_extension": ".py",
   "mimetype": "text/x-python",
   "name": "python",
   "nbconvert_exporter": "python",
   "pygments_lexer": "ipython3",
   "version": "3.11.9"
  }
 },
 "nbformat": 4,
 "nbformat_minor": 5
}
