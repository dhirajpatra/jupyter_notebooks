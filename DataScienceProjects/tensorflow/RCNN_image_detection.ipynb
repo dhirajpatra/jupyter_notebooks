{
 "cells": [
  {
   "cell_type": "markdown",
   "id": "a736c319-925e-4a36-8672-83fe01169e12",
   "metadata": {},
   "source": [
    "### Region-based Convolutional Neural Networks (R-CNN) Example\n"
   ]
  },
  {
   "cell_type": "code",
   "execution_count": null,
   "id": "1b589542-1e59-419b-b40f-01db8973c643",
   "metadata": {},
   "outputs": [],
   "source": [
    "import numpy as np\n",
    "from keras.models import Model\n",
    "from keras.layers import Input, Conv2D, MaxPooling2D, Flatten, Dense\n",
    "from keras.applications.vgg16 import VGG16\n",
    "from keras.preprocessing.image import load_img, img_to_array\n",
    "from keras.applications.vgg16 import preprocess_input\n",
    "import matplotlib.pyplot as plt\n",
    "from matplotlib.patches import Rectangle\n",
    "\n"
   ]
  },
  {
   "cell_type": "code",
   "execution_count": null,
   "id": "6dc1832c-a5ce-4d35-a044-897334bf1526",
   "metadata": {},
   "outputs": [],
   "source": [
    "# Load pre-trained VGG16 model\n",
    "base_model = VGG16(weights='imagenet', include_top=False, input_shape=(224, 224, 3))\n",
    "\n"
   ]
  },
  {
   "cell_type": "code",
   "execution_count": null,
   "id": "eb31394c-3587-4340-8716-c977bf14c1ed",
   "metadata": {},
   "outputs": [],
   "source": [
    "# Freeze base model layers\n",
    "for layer in base_model.layers:\n",
    "    layer.trainable = False\n",
    "\n"
   ]
  },
  {
   "cell_type": "code",
   "execution_count": null,
   "id": "ae8d6273-0641-4fdc-a630-307f690f3b21",
   "metadata": {},
   "outputs": [],
   "source": [
    "# Add custom layers for region proposal network (RPN)\n",
    "x = base_model.output\n",
    "x = Conv2D(512, (3, 3), activation='relu')(x)\n",
    "x = Conv2D(512, (3, 3), activation='relu')(x)\n",
    "x = Conv2D(512, (3, 3), activation='relu')(x)\n",
    "\n"
   ]
  },
  {
   "cell_type": "code",
   "execution_count": null,
   "id": "3691161b-8c97-4ea5-af62-132ce1502993",
   "metadata": {},
   "outputs": [],
   "source": [
    "# Add region proposal network (RPN) layers\n",
    "rpn_class = Conv2D(18, (1, 1), activation='sigmoid')(x)\n",
    "rpn_regress = Conv2D(36, (1, 1), activation='linear')(x)\n",
    "\n"
   ]
  },
  {
   "cell_type": "code",
   "execution_count": null,
   "id": "c9fc5464-1714-4782-b51e-432251b64788",
   "metadata": {},
   "outputs": [],
   "source": [
    "# Define R-CNN model\n",
    "model = Model(inputs=base_model.input, outputs=[rpn_class, rpn_regress])\n",
    "\n"
   ]
  },
  {
   "cell_type": "code",
   "execution_count": null,
   "id": "e427b743-6070-4c20-a689-ea19b243c72c",
   "metadata": {},
   "outputs": [],
   "source": [
    "# Load image\n",
    "img = load_img('image.jpg', target_size=(224, 224))\n",
    "\n"
   ]
  },
  {
   "cell_type": "code",
   "execution_count": null,
   "id": "c957a9d0-5144-4872-9008-fa7f0d7bbd8c",
   "metadata": {},
   "outputs": [],
   "source": [
    "# Preprocess image\n",
    "img_array = img_to_array(img)\n",
    "img_array = np.expand_dims(img_array, axis=0)\n",
    "img_array = preprocess_input(img_array)\n",
    "\n"
   ]
  },
  {
   "cell_type": "code",
   "execution_count": null,
   "id": "fa995968-3214-4ce8-ba11-bc0d8293b1f3",
   "metadata": {},
   "outputs": [],
   "source": [
    "# Make predictions\n",
    "rpn_class_pred, rpn_regress_pred = model.predict(img_array)\n",
    "\n"
   ]
  },
  {
   "cell_type": "code",
   "execution_count": null,
   "id": "733735d5-2b0a-404e-b8e6-9d744a2d353b",
   "metadata": {},
   "outputs": [],
   "source": [
    "# Post-processing: non-maximum suppression, thresholding, etc.\n",
    "# ...\n",
    "\n"
   ]
  },
  {
   "cell_type": "code",
   "execution_count": null,
   "id": "b9924131-5929-40eb-9e5c-a875405f8807",
   "metadata": {},
   "outputs": [],
   "source": [
    "# Visualize detections\n",
    "plt.imshow(img)\n",
    "for i in range(10):  # show top 10 detections\n",
    "    rect = Rectangle((rpn_regress_pred[0][i][0], rpn_regress_pred[0][i][1]),\n",
    "                      rpn_regress_pred[0][i][2], rpn_regress_pred[0][i][3],\n",
    "                      fill=False, color='red')\n",
    "    plt.gca().add_patch(rect)\n",
    "plt.show()"
   ]
  }
 ],
 "metadata": {
  "kernelspec": {
   "display_name": "Python 3 (ipykernel)",
   "language": "python",
   "name": "python3"
  },
  "language_info": {
   "codemirror_mode": {
    "name": "ipython",
    "version": 3
   },
   "file_extension": ".py",
   "mimetype": "text/x-python",
   "name": "python",
   "nbconvert_exporter": "python",
   "pygments_lexer": "ipython3",
   "version": "3.11.9"
  }
 },
 "nbformat": 4,
 "nbformat_minor": 5
}
