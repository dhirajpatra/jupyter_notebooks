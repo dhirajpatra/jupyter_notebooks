{
 "cells": [
  {
   "cell_type": "code",
   "execution_count": null,
   "id": "2802ba0f-7a43-470e-8c5a-a5cc8cf2b805",
   "metadata": {},
   "outputs": [],
   "source": [
    "# Import necessary libraries\n",
    "import tensorflow as tf\n",
    "from tensorflow import keras\n",
    "from tensorflow.keras.applications import ResNet50\n",
    "from tensorflow.keras.preprocessing import image\n",
    "from tensorflow.keras.applications.resnet50 import preprocess_input, decode_predictions\n",
    "import numpy as np"
   ]
  },
  {
   "cell_type": "code",
   "execution_count": null,
   "id": "59085f9b-e76b-475c-9c21-fbe67d363fd8",
   "metadata": {},
   "outputs": [],
   "source": [
    "# Load ResNet-50 model\n",
    "base_model = ResNet50(weights='imagenet', include_top=True)"
   ]
  },
  {
   "cell_type": "code",
   "execution_count": null,
   "id": "b1032392-ce2d-42aa-befb-a5ae45b9305c",
   "metadata": {},
   "outputs": [],
   "source": [
    "# Load and preprocess image\n",
    "image_path = \"path_to_your_image.jpg\" # Replace with your image path\n",
    "img = image.load_img(image_path, target_size=(224, 224))\n",
    "x = image.img_to_array(img)\n",
    "x = np.expand_dims(x, axis=0)\n",
    "x = preprocess_input(x)"
   ]
  },
  {
   "cell_type": "code",
   "execution_count": null,
   "id": "1205179a-688f-4106-9a54-c566632566ba",
   "metadata": {},
   "outputs": [],
   "source": [
    "# Make predictions\n",
    "preds = base_model.predict(x)\n",
    "decoded_preds = decode_predictions(preds, top=3)[0]"
   ]
  },
  {
   "cell_type": "code",
   "execution_count": null,
   "id": "ca79e6b7-6027-4d2e-a7ae-0b167024d59c",
   "metadata": {},
   "outputs": [],
   "source": [
    "# Print predictions\n",
    "for (i, (imagenetID, label, prob)) in enumerate(decoded_preds):\n",
    "print(f\"{i+1}. {label}: {prob*100}%\")"
   ]
  },
  {
   "cell_type": "code",
   "execution_count": null,
   "id": "56c72a5a-5021-4032-a5cb-0a68ec8e679d",
   "metadata": {},
   "outputs": [],
   "source": [
    "# Fine-tune ResNet-50 for custom dataset (optional)\n",
    "\n",
    "# 1. Freeze base layers\n",
    "for layer in base_model.layers:\n",
    "layer.trainable = False"
   ]
  },
  {
   "cell_type": "code",
   "execution_count": null,
   "id": "bde2a23e-bea8-4c4f-8d38-68853b10011b",
   "metadata": {},
   "outputs": [],
   "source": [
    "# 2. Add custom layers\n",
    "x = base_model.output\n",
    "x = keras.layers.Dense(1024, activation='relu')(x)\n",
    "x = keras.layers.Dropout(0.2)(x)\n",
    "x = keras.layers.Dense(len(your_custom_classes), activation='softmax')(x)"
   ]
  },
  {
   "cell_type": "code",
   "execution_count": null,
   "id": "13ffbde2-d0cf-46b8-8955-13f81135702e",
   "metadata": {},
   "outputs": [],
   "source": [
    "# 3. Compile and train\n",
    "model = keras.Model(inputs=base_model.input, outputs=x)\n",
    "model.compile(optimizer='adam', loss='categorical_crossentropy', metrics=['accuracy'])\n",
    "model.fit(your_custom_train_data, epochs=10)"
   ]
  },
  {
   "cell_type": "code",
   "execution_count": null,
   "id": "ffd29010-b782-4c1c-96bd-ca26d713356c",
   "metadata": {},
   "outputs": [],
   "source": [
    "# Make predictions\n",
    "preds = base_model.predict(x)\n",
    "decoded_preds = decode_predictions(preds, top=3)[0]\n"
   ]
  },
  {
   "cell_type": "code",
   "execution_count": null,
   "id": "473720fb-83ef-441e-9486-00aaa45679ba",
   "metadata": {},
   "outputs": [],
   "source": [
    "# Print predictions\n",
    "for (i, (imagenetID, label, prob)) in enumerate(decoded_preds):\n",
    "    print(f\"{i+1}. {label}: {prob*100}%\")"
   ]
  },
  {
   "cell_type": "code",
   "execution_count": null,
   "id": "1dc7b618-54fa-49fb-bcf8-54ab170d6b43",
   "metadata": {},
   "outputs": [],
   "source": [
    "# Evaluate model\n",
    "loss, accuracy = model.evaluate(your_custom_test_data)\n",
    "print(f\"Test Loss: {loss}\")\n",
    "print(f\"Test Accuracy: {accuracy*100}%\")"
   ]
  },
  {
   "cell_type": "code",
   "execution_count": null,
   "id": "0d5d9291-a6ba-48eb-b657-78bc372f00c5",
   "metadata": {},
   "outputs": [],
   "source": [
    "# Additional metrics\n",
    "from sklearn.metrics import classification_report, confusion_matrix"
   ]
  },
  {
   "cell_type": "code",
   "execution_count": null,
   "id": "eb32afad-1b96-4bee-b928-e920b21887e8",
   "metadata": {},
   "outputs": [],
   "source": [
    "# Predict classes\n",
    "predictions = model.predict(your_custom_test_data)\n",
    "predicted_classes = np.argmax(predictions, axis=1)\n",
    "true_classes = np.argmax(your_custom_test_data.labels, axis=1)\n"
   ]
  },
  {
   "cell_type": "code",
   "execution_count": null,
   "id": "df758798-2723-4ce4-a5ae-2fbc23d9bbca",
   "metadata": {},
   "outputs": [],
   "source": [
    "# Classification report\n",
    "print(classification_report(true_classes, predicted_classes))"
   ]
  },
  {
   "cell_type": "code",
   "execution_count": null,
   "id": "f650f5ff-0282-4599-a4a8-7fffe33ee477",
   "metadata": {},
   "outputs": [],
   "source": [
    "# Confusion matrix\n",
    "print(confusion_matrix(true_classes, predicted_classes))"
   ]
  }
 ],
 "metadata": {
  "kernelspec": {
   "display_name": "Python 3 (ipykernel)",
   "language": "python",
   "name": "python3"
  },
  "language_info": {
   "codemirror_mode": {
    "name": "ipython",
    "version": 3
   },
   "file_extension": ".py",
   "mimetype": "text/x-python",
   "name": "python",
   "nbconvert_exporter": "python",
   "pygments_lexer": "ipython3",
   "version": "3.11.9"
  }
 },
 "nbformat": 4,
 "nbformat_minor": 5
}
