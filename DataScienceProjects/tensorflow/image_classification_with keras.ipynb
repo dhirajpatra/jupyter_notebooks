{
 "cells": [
  {
   "cell_type": "code",
   "execution_count": null,
   "id": "844ec7cd-0376-49ca-a3f4-a23b8b12ab14",
   "metadata": {},
   "outputs": [],
   "source": [
    "# Import necessary libraries\n",
    "import tensorflow as tf\n",
    "from tensorflow import keras\n",
    "from tensorflow.keras import layers\n",
    "import numpy as np\n",
    "import matplotlib.pyplot as plt\n"
   ]
  },
  {
   "cell_type": "code",
   "execution_count": null,
   "id": "0990890b-f688-4ee1-8960-994cb172619b",
   "metadata": {},
   "outputs": [],
   "source": [
    "# Load dataset (e.g., CIFAR-10)\n",
    "(x_train, y_train), (x_test, y_test) = keras.datasets.cifar10.load_data()\n"
   ]
  },
  {
   "cell_type": "code",
   "execution_count": null,
   "id": "1ba56e03-7e44-4f1f-9e87-05e7ac6d48b2",
   "metadata": {},
   "outputs": [],
   "source": [
    "# Normalize pixel values\n",
    "x_train = x_train.astype('float32') / 255.0\n",
    "x_test = x_test.astype('float32') / 255.0\n"
   ]
  },
  {
   "cell_type": "code",
   "execution_count": null,
   "id": "3e970d75-4586-49c0-83ca-b2645debecc1",
   "metadata": {},
   "outputs": [],
   "source": [
    "# Define the model architecture\n",
    "model = keras.Sequential([\n",
    "layers.Conv2D(32, (3, 3), activation='relu', input_shape=(32, 32, 3)),\n",
    "layers.MaxPooling2D((2, 2)),\n",
    "layers.Conv2D(64, (3, 3), activation='relu'),\n",
    "layers.MaxPooling2D((2, 2)),\n",
    "layers.Conv2D(128, (3, 3), activation='relu'),\n",
    "layers.Flatten(),\n",
    "layers.Dense(64, activation='relu'),\n",
    "layers.Dense(10, activation='softmax')\n",
    "])\n"
   ]
  },
  {
   "cell_type": "code",
   "execution_count": null,
   "id": "99487588-10e3-40fc-8d62-fe0b38f9b111",
   "metadata": {},
   "outputs": [],
   "source": [
    "# Compile the model\n",
    "model.compile(optimizer='adam',\n",
    "loss='sparse_categorical_crossentropy',\n",
    "metrics=['accuracy'])\n"
   ]
  },
  {
   "cell_type": "code",
   "execution_count": null,
   "id": "73f649fe-b841-4f1f-be65-7cb2d67e2797",
   "metadata": {},
   "outputs": [],
   "source": [
    "# Train the model\n",
    "model.fit(x_train, y_train, epochs=10, validation_data=(x_test, y_test))\n"
   ]
  },
  {
   "cell_type": "code",
   "execution_count": null,
   "id": "ac51d9d9-df7d-45d5-8ac1-04f7cab1ad43",
   "metadata": {},
   "outputs": [],
   "source": [
    "# Evaluate the model\n",
    "test_loss, test_acc = model.evaluate(x_test, y_test)\n",
    "print(f'Test accuracy: {test_acc}')\n"
   ]
  },
  {
   "cell_type": "code",
   "execution_count": null,
   "id": "9a4426ad-6cb9-4eb3-9fb5-7c4189025eec",
   "metadata": {},
   "outputs": [],
   "source": [
    "# Use the model for predictions\n",
    "predictions = model.predict(x_test)\n"
   ]
  },
  {
   "cell_type": "code",
   "execution_count": null,
   "id": "84917065-c536-4ed4-843a-2f25a032ea6c",
   "metadata": {},
   "outputs": [],
   "source": [
    "# Get the class labels\n",
    "class_labels = np.argmax(predictions, axis=1)\n"
   ]
  },
  {
   "cell_type": "code",
   "execution_count": null,
   "id": "9afb3c76-aa77-4d9e-961d-88b0aa56aeee",
   "metadata": {},
   "outputs": [],
   "source": [
    "# Visualize predictions (optional)\n",
    "plt.figure(figsize=(10, 10))\n",
    "for i in range(9):\n",
    "plt.subplot(3, 3, i+1)\n",
    "plt.imshow(x_test[i])\n",
    "plt.title(class_labels[i])\n",
    "plt.axis('off')\n",
    "plt.show()\n"
   ]
  }
 ],
 "metadata": {
  "kernelspec": {
   "display_name": "Python 3 (ipykernel)",
   "language": "python",
   "name": "python3"
  },
  "language_info": {
   "codemirror_mode": {
    "name": "ipython",
    "version": 3
   },
   "file_extension": ".py",
   "mimetype": "text/x-python",
   "name": "python",
   "nbconvert_exporter": "python",
   "pygments_lexer": "ipython3",
   "version": "3.11.9"
  }
 },
 "nbformat": 4,
 "nbformat_minor": 5
}
