{
 "cells": [
  {
   "cell_type": "code",
   "execution_count": null,
   "id": "f4f31c2b-7c60-4df7-95f4-1b64e7ea076a",
   "metadata": {},
   "outputs": [],
   "source": [
    "import os\n",
    "import numpy as np\n",
    "from tensorflow.keras.applications import VGG16\n",
    "from tensorflow.keras.preprocessing import image\n",
    "from tensorflow.keras.applications.vgg16 import preprocess_input, decode_predictions\n",
    "import tensorflow_datasets as tfds\n",
    "from tensorflow.keras import layers, models\n"
   ]
  },
  {
   "cell_type": "code",
   "execution_count": null,
   "id": "4e4f9066-52d3-4b86-b8dc-bc9d5d85b88f",
   "metadata": {},
   "outputs": [],
   "source": [
    "# Set Keras backend\n",
    "os.environ[\"KERAS_BACKEND\"] = \"tensorflow\"\n"
   ]
  },
  {
   "cell_type": "code",
   "execution_count": null,
   "id": "7ff283f3-d859-4107-acc8-f0f41bc61ec8",
   "metadata": {},
   "outputs": [],
   "source": [
    "# Load VGG16 model\n",
    "classifier = VGG16(weights='imagenet', include_top=True)\n"
   ]
  },
  {
   "cell_type": "code",
   "execution_count": null,
   "id": "437acd8c-1501-4935-be15-eff757bad4fb",
   "metadata": {},
   "outputs": [],
   "source": [
    "# Predict label for single image\n",
    "image_url = \"https://upload.wikimedia.org/wikipedia/commons/a/aa/California_quail.jpg\"\n",
    "image_path = tf.keras.utils.get_file(origin=image_url)\n",
    "img = image.load_img(image_path, target_size=(224, 224))\n",
    "x = image.img_to_array(img)\n",
    "x = np.expand_dims(x, axis=0)\n",
    "x = preprocess_input(x)\n",
    "preds = classifier.predict(x)\n",
    "print(decode_predictions(preds, top=3)[0])\n"
   ]
  },
  {
   "cell_type": "code",
   "execution_count": null,
   "id": "b6492f21-c597-49ce-b6e6-e0f6df0fa019",
   "metadata": {},
   "outputs": [],
   "source": [
    "# Load BERT model (no changes)\n",
    "from tensorflow.keras_hub import models\n",
    "classifier = models.BertClassifier.from_preset(\n",
    "\"bert_base_en_uncased\",\n",
    "activation=\"softmax\",\n",
    "num_classes=2,\n",
    ")\n"
   ]
  },
  {
   "cell_type": "code",
   "execution_count": null,
   "id": "cc4c54c4-f370-4faa-b40c-c2069300787f",
   "metadata": {},
   "outputs": [],
   "source": [
    "# Fine-tune on IMDb movie reviews\n",
    "imdb_train, imdb_test = tfds.load(\n",
    "\"imdb_reviews\",\n",
    "split=[\"train\", \"test\"],\n",
    "as_supervised=True,\n",
    "batch_size=16,\n",
    ")\n",
    "classifier.fit(imdb_train, validation_data=imdb_test)\n"
   ]
  },
  {
   "cell_type": "code",
   "execution_count": null,
   "id": "4bbe09fe-d75a-4ac9-b260-30a3dc389d43",
   "metadata": {},
   "outputs": [],
   "source": [
    "# Predict two new examples\n",
    "preds = classifier.predict(\n",
    "[\"What an amazing movie!\", \"A total waste of my time.\"]\n",
    ")\n",
    "print(preds)\n"
   ]
  }
 ],
 "metadata": {
  "kernelspec": {
   "display_name": "Python 3 (ipykernel)",
   "language": "python",
   "name": "python3"
  },
  "language_info": {
   "codemirror_mode": {
    "name": "ipython",
    "version": 3
   },
   "file_extension": ".py",
   "mimetype": "text/x-python",
   "name": "python",
   "nbconvert_exporter": "python",
   "pygments_lexer": "ipython3",
   "version": "3.11.9"
  }
 },
 "nbformat": 4,
 "nbformat_minor": 5
}
