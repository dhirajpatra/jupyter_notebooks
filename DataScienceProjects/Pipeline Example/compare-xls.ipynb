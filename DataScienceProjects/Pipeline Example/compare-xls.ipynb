{
 "cells": [
  {
   "cell_type": "code",
   "execution_count": 1,
   "id": "d90a51af-4e56-4aaa-8c92-68459f70f85a",
   "metadata": {
    "tags": []
   },
   "outputs": [
    {
     "name": "stdout",
     "output_type": "stream",
     "text": [
      "  Name            Age      \n",
      "  self    other  self other\n",
      "1  NaN      NaN  30.0  28.0\n",
      "2  Bob  Charlie   NaN   NaN\n"
     ]
    }
   ],
   "source": [
    "import pandas as pd\n",
    "\n",
    "# Sample data for demonstration\n",
    "data1 = {'Name': ['John', 'Alice', 'Bob'],\n",
    "         'Age': [25, 30, 22]}\n",
    "data2 = {'Name': ['John', 'Alice', 'Charlie'],\n",
    "         'Age': [25, 28, 22]}\n",
    "\n",
    "# Create DataFrames\n",
    "file1 = pd.DataFrame(data1)\n",
    "file2 = pd.DataFrame(data2)\n",
    "\n",
    "# Perform comparison\n",
    "comparison_result = file1.compare(file2)\n",
    "\n",
    "# Display the result\n",
    "print(comparison_result)\n"
   ]
  },
  {
   "cell_type": "code",
   "execution_count": null,
   "id": "b26924b1-6bc5-4c4c-8f6e-5f1418f8515b",
   "metadata": {},
   "outputs": [],
   "source": [
    "import pandas as pd\n",
    "\n",
    "# Read the Excel files\n",
    "file1 = pd.read_excel('path/to/file1.xlsx')\n",
    "file2 = pd.read_excel('path/to/file2.xlsx')\n",
    "\n",
    "# Perform comparison\n",
    "comparison_result = file1.compare(file2)\n",
    "\n",
    "# Display the result\n",
    "print(comparison_result)\n"
   ]
  }
 ],
 "metadata": {
  "kernelspec": {
   "display_name": "Python 3 (ipykernel)",
   "language": "python",
   "name": "python3"
  },
  "language_info": {
   "codemirror_mode": {
    "name": "ipython",
    "version": 3
   },
   "file_extension": ".py",
   "mimetype": "text/x-python",
   "name": "python",
   "nbconvert_exporter": "python",
   "pygments_lexer": "ipython3",
   "version": "3.11.5"
  }
 },
 "nbformat": 4,
 "nbformat_minor": 5
}
