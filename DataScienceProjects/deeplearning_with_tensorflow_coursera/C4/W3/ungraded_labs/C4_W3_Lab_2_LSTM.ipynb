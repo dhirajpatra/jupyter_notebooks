{
 "cells": [
  {
   "cell_type": "markdown",
   "metadata": {},
   "source": [
    "<a href=\"https://colab.research.google.com/github/https-deeplearning-ai/tensorflow-1-public/blob/main/C4/W3/ungraded_labs/C4_W3_Lab_2_LSTM.ipynb\" target=\"_parent\"><img src=\"https://colab.research.google.com/assets/colab-badge.svg\" alt=\"Open In Colab\"/></a>"
   ]
  },
  {
   "cell_type": "markdown",
   "metadata": {
    "id": "sV_nvXSQGJPK"
   },
   "source": [
    "# Ungraded Lab: Using a multi-layer LSTM for forecasting\n",
    "\n",
    "In this lab, you will use the same RNN architecure in the first lab but will instead stack [LSTM](https://www.tensorflow.org/api_docs/python/tf/keras/layers/LSTM) layers instead of `SimpleRNN`."
   ]
  },
  {
   "cell_type": "markdown",
   "metadata": {
    "id": "3IMbAWETGOWD"
   },
   "source": [
    "## Imports"
   ]
  },
  {
   "cell_type": "code",
   "execution_count": 1,
   "metadata": {
    "id": "BOjujz601HcS",
    "tags": []
   },
   "outputs": [],
   "source": [
    "import tensorflow as tf\n",
    "import numpy as np\n",
    "import matplotlib.pyplot as plt"
   ]
  },
  {
   "cell_type": "markdown",
   "metadata": {
    "id": "kD7RQQ0xGQVH"
   },
   "source": [
    "## Utilities"
   ]
  },
  {
   "cell_type": "code",
   "execution_count": 2,
   "metadata": {
    "id": "Zswl7jRtGzkk",
    "tags": []
   },
   "outputs": [],
   "source": [
    "def plot_series(time, series, format=\"-\", start=0, end=None):\n",
    "    \"\"\"\n",
    "    Visualizes time series data\n",
    "\n",
    "    Args:\n",
    "      time (array of int) - contains the time steps\n",
    "      series (array of int) - contains the measurements for each time step\n",
    "      format - line style when plotting the graph\n",
    "      start - first time step to plot\n",
    "      end - last time step to plot\n",
    "    \"\"\"\n",
    "\n",
    "    # Setup dimensions of the graph figure\n",
    "    plt.figure(figsize=(10, 6))\n",
    "    \n",
    "    if type(series) is tuple:\n",
    "\n",
    "      for series_num in series:\n",
    "        # Plot the time series data\n",
    "        plt.plot(time[start:end], series_num[start:end], format)\n",
    "\n",
    "    else:\n",
    "      # Plot the time series data\n",
    "      plt.plot(time[start:end], series[start:end], format)\n",
    "\n",
    "    # Label the x-axis\n",
    "    plt.xlabel(\"Time\")\n",
    "\n",
    "    # Label the y-axis\n",
    "    plt.ylabel(\"Value\")\n",
    "\n",
    "    # Overlay a grid on the graph\n",
    "    plt.grid(True)\n",
    "\n",
    "    # Draw the graph on screen\n",
    "    plt.show()\n",
    "\n",
    "def trend(time, slope=0):\n",
    "    \"\"\"\n",
    "    Generates synthetic data that follows a straight line given a slope value.\n",
    "\n",
    "    Args:\n",
    "      time (array of int) - contains the time steps\n",
    "      slope (float) - determines the direction and steepness of the line\n",
    "\n",
    "    Returns:\n",
    "      series (array of float) - measurements that follow a straight line\n",
    "    \"\"\"\n",
    "\n",
    "    # Compute the linear series given the slope\n",
    "    series = slope * time\n",
    "\n",
    "    return series\n",
    "\n",
    "def seasonal_pattern(season_time):\n",
    "    \"\"\"\n",
    "    Just an arbitrary pattern, you can change it if you wish\n",
    "    \n",
    "    Args:\n",
    "      season_time (array of float) - contains the measurements per time step\n",
    "\n",
    "    Returns:\n",
    "      data_pattern (array of float) -  contains revised measurement values according \n",
    "                                  to the defined pattern\n",
    "    \"\"\"\n",
    "\n",
    "    # Generate the values using an arbitrary pattern\n",
    "    data_pattern = np.where(season_time < 0.4,\n",
    "                    np.cos(season_time * 2 * np.pi),\n",
    "                    1 / np.exp(3 * season_time))\n",
    "    \n",
    "    return data_pattern\n",
    "\n",
    "def seasonality(time, period, amplitude=1, phase=0):\n",
    "    \"\"\"\n",
    "    Repeats the same pattern at each period\n",
    "\n",
    "    Args:\n",
    "      time (array of int) - contains the time steps\n",
    "      period (int) - number of time steps before the pattern repeats\n",
    "      amplitude (int) - peak measured value in a period\n",
    "      phase (int) - number of time steps to shift the measured values\n",
    "\n",
    "    Returns:\n",
    "      data_pattern (array of float) - seasonal data scaled by the defined amplitude\n",
    "    \"\"\"\n",
    "    \n",
    "    # Define the measured values per period\n",
    "    season_time = ((time + phase) % period) / period\n",
    "\n",
    "    # Generates the seasonal data scaled by the defined amplitude\n",
    "    data_pattern = amplitude * seasonal_pattern(season_time)\n",
    "\n",
    "    return data_pattern\n",
    "\n",
    "def noise(time, noise_level=1, seed=None):\n",
    "    \"\"\"Generates a normally distributed noisy signal\n",
    "\n",
    "    Args:\n",
    "      time (array of int) - contains the time steps\n",
    "      noise_level (float) - scaling factor for the generated signal\n",
    "      seed (int) - number generator seed for repeatability\n",
    "\n",
    "    Returns:\n",
    "      noise (array of float) - the noisy signal\n",
    "    \"\"\"\n",
    "\n",
    "    # Initialize the random number generator\n",
    "    rnd = np.random.RandomState(seed)\n",
    "\n",
    "    # Generate a random number for each time step and scale by the noise level\n",
    "    noise = rnd.randn(len(time)) * noise_level\n",
    "    \n",
    "    return noise"
   ]
  },
  {
   "cell_type": "markdown",
   "metadata": {
    "id": "yxNyeFWjGSdj"
   },
   "source": [
    "## Generate the Synthetic Data"
   ]
  },
  {
   "cell_type": "code",
   "execution_count": 3,
   "metadata": {
    "id": "KYEUfDbdpHPm",
    "tags": []
   },
   "outputs": [
    {
     "data": {
      "image/png": "[encoded data removed]",
      "text/plain": [
       "<Figure size 1000x600 with 1 Axes>"
      ]
     },
     "metadata": {},
     "output_type": "display_data"
    }
   ],
   "source": [
    "# Parameters\n",
    "time = np.arange(4 * 365 + 1, dtype=\"float32\")\n",
    "baseline = 10\n",
    "amplitude = 40\n",
    "slope = 0.05\n",
    "noise_level = 5\n",
    "\n",
    "# Create the series\n",
    "series = baseline + trend(time, slope) + seasonality(time, period=365, amplitude=amplitude)\n",
    "\n",
    "# Update with noise\n",
    "series += noise(time, noise_level, seed=42)\n",
    "\n",
    "# Plot the results\n",
    "plot_series(time, series)"
   ]
  },
  {
   "cell_type": "markdown",
   "metadata": {
    "id": "MYKCvv-eGWRc"
   },
   "source": [
    "## Split the Dataset"
   ]
  },
  {
   "cell_type": "code",
   "execution_count": 6,
   "metadata": {
    "id": "hpp0slenpKVD",
    "tags": []
   },
   "outputs": [],
   "source": [
    "# Define the split time\n",
    "split_time = 1000\n",
    "\n",
    "# Get the train set \n",
    "time_train = time[:split_time]\n",
    "x_train = series[:split_time]\n",
    "\n",
    "# Get the validation set\n",
    "time_valid = time[split_time:]\n",
    "x_valid = series[split_time:]"
   ]
  },
  {
   "cell_type": "markdown",
   "metadata": {
    "id": "cktHz9aOGYtV"
   },
   "source": [
    "## Prepare Features and Labels"
   ]
  },
  {
   "cell_type": "code",
   "execution_count": 7,
   "metadata": {
    "id": "G_j_2_Mqwn7-",
    "tags": []
   },
   "outputs": [],
   "source": [
    "# Parameters\n",
    "window_size = 20\n",
    "batch_size = 32\n",
    "shuffle_buffer_size = 1000"
   ]
  },
  {
   "cell_type": "code",
   "execution_count": 8,
   "metadata": {
    "id": "4sTTIOCbyShY",
    "tags": []
   },
   "outputs": [],
   "source": [
    "def windowed_dataset(series, window_size, batch_size, shuffle_buffer):\n",
    "    \"\"\"Generates dataset windows\n",
    "\n",
    "    Args:\n",
    "      series (array of float) - contains the values of the time series\n",
    "      window_size (int) - the number of time steps to include in the feature\n",
    "      batch_size (int) - the batch size\n",
    "      shuffle_buffer(int) - buffer size to use for the shuffle method\n",
    "\n",
    "    Returns:\n",
    "      dataset (TF Dataset) - TF Dataset containing time windows\n",
    "    \"\"\"\n",
    "  \n",
    "    # Generate a TF Dataset from the series values\n",
    "    dataset = tf.data.Dataset.from_tensor_slices(series)\n",
    "    \n",
    "    # Window the data but only take those with the specified size\n",
    "    dataset = dataset.window(window_size + 1, shift=1, drop_remainder=True)\n",
    "    \n",
    "    # Flatten the windows by putting its elements in a single batch\n",
    "    dataset = dataset.flat_map(lambda window: window.batch(window_size + 1))\n",
    "\n",
    "    # Create tuples with features and labels \n",
    "    dataset = dataset.map(lambda window: (window[:-1], window[-1]))\n",
    "\n",
    "    # Shuffle the windows\n",
    "    dataset = dataset.shuffle(shuffle_buffer)\n",
    "    \n",
    "    # Create batches of windows\n",
    "    dataset = dataset.batch(batch_size).prefetch(1)\n",
    "    \n",
    "    return dataset"
   ]
  },
  {
   "cell_type": "code",
   "execution_count": 9,
   "metadata": {
    "id": "vGj5-InSwtQQ",
    "tags": []
   },
   "outputs": [
    {
     "name": "stdout",
     "output_type": "stream",
     "text": [
      "Metal device set to: Apple M1 Pro\n"
     ]
    }
   ],
   "source": [
    "# Generate the dataset windows\n",
    "dataset = windowed_dataset(x_train, window_size, batch_size, shuffle_buffer_size)"
   ]
  },
  {
   "cell_type": "markdown",
   "metadata": {
    "id": "p9-Ke8ZaGcjd"
   },
   "source": [
    "## Build the Model\n",
    "\n",
    "As mentioned, you will swap `SimpleRNN` for `LSTM` in this lab. It is also set as bidirectional below but feel free to revise later and see what results you get. LSTMs are much more complex in their internal architecture than simpleRNNs. It implements a cell state that allows it to remember sequences better than simple implementations. This added complexity results in a bigger set of parameters to train and you'll see that when you print the model summary below."
   ]
  },
  {
   "cell_type": "code",
   "execution_count": 10,
   "metadata": {
    "id": "A1Hl39rklkLm",
    "tags": []
   },
   "outputs": [
    {
     "name": "stdout",
     "output_type": "stream",
     "text": [
      "Model: \"sequential\"\n",
      "_________________________________________________________________\n",
      " Layer (type)                Output Shape              Param #   \n",
      "=================================================================\n",
      " lambda (Lambda)             (None, 20, 1)             0         \n",
      "                                                                 \n",
      " bidirectional (Bidirection  (None, 20, 64)            8704      \n",
      " al)                                                             \n",
      "                                                                 \n",
      " bidirectional_1 (Bidirecti  (None, 64)                24832     \n",
      " onal)                                                           \n",
      "                                                                 \n",
      " dense (Dense)               (None, 1)                 65        \n",
      "                                                                 \n",
      " lambda_1 (Lambda)           (None, 1)                 0         \n",
      "                                                                 \n",
      "=================================================================\n",
      "Total params: 33601 (131.25 KB)\n",
      "Trainable params: 33601 (131.25 KB)\n",
      "Non-trainable params: 0 (0.00 Byte)\n",
      "_________________________________________________________________\n"
     ]
    }
   ],
   "source": [
    "# Build the Model\n",
    "model_tune = tf.keras.models.Sequential([\n",
    "  tf.keras.layers.Lambda(lambda x: tf.expand_dims(x, axis=-1),\n",
    "                      input_shape=[window_size]),\n",
    "    tf.keras.layers.Bidirectional(tf.keras.layers.LSTM(32, return_sequences=True)),\n",
    "  tf.keras.layers.Bidirectional(tf.keras.layers.LSTM(32)),\n",
    "  tf.keras.layers.Dense(1),\n",
    "  tf.keras.layers.Lambda(lambda x: x * 100.0)\n",
    "])\n",
    "\n",
    "# Print the model summary\n",
    "model_tune.summary()"
   ]
  },
  {
   "cell_type": "markdown",
   "metadata": {
    "id": "FHaFblbwq0GV"
   },
   "source": [
    "## Tune the Learning Rate\n",
    "\n",
    "As usual, you will pick a learning rate by running the tuning code below."
   ]
  },
  {
   "cell_type": "code",
   "execution_count": 11,
   "metadata": {
    "id": "qE7al18qw48G",
    "tags": []
   },
   "outputs": [
    {
     "name": "stderr",
     "output_type": "stream",
     "text": [
      "WARNING:absl:At this time, the v2.11+ optimizer `tf.keras.optimizers.SGD` runs slowly on M1/M2 Macs, please use the legacy Keras optimizer instead, located at `tf.keras.optimizers.legacy.SGD`.\n",
      "WARNING:absl:There is a known slowdown when using v2.11+ Keras optimizers on M1/M2 Macs. Falling back to the legacy Keras optimizer, i.e., `tf.keras.optimizers.legacy.SGD`.\n"
     ]
    },
    {
     "name": "stdout",
     "output_type": "stream",
     "text": [
      "Epoch 1/100\n",
      "31/31 [==============================] - 7s 62ms/step - loss: 23.4504 - lr: 1.0000e-08\n",
      "Epoch 2/100\n",
      "31/31 [==============================] - 1s 29ms/step - loss: 23.2910 - lr: 1.1220e-08\n",
      "Epoch 3/100\n",
      "31/31 [==============================] - 1s 28ms/step - loss: 23.1070 - lr: 1.2589e-08\n",
      "Epoch 4/100\n",
      "31/31 [==============================] - 1s 28ms/step - loss: 22.8982 - lr: 1.4125e-08\n",
      "Epoch 5/100\n",
      "31/31 [==============================] - 1s 28ms/step - loss: 22.6780 - lr: 1.5849e-08\n",
      "Epoch 6/100\n",
      "31/31 [==============================] - 1s 28ms/step - loss: 22.4289 - lr: 1.7783e-08\n",
      "Epoch 7/100\n",
      "31/31 [==============================] - 1s 28ms/step - loss: 22.1536 - lr: 1.9953e-08\n",
      "Epoch 8/100\n",
      "31/31 [==============================] - 1s 28ms/step - loss: 21.8467 - lr: 2.2387e-08\n",
      "Epoch 9/100\n",
      "31/31 [==============================] - 1s 28ms/step - loss: 21.4764 - lr: 2.5119e-08\n",
      "Epoch 10/100\n",
      "31/31 [==============================] - 1s 29ms/step - loss: 21.0384 - lr: 2.8184e-08\n",
      "Epoch 11/100\n",
      "31/31 [==============================] - 1s 28ms/step - loss: 20.5043 - lr: 3.1623e-08\n",
      "Epoch 12/100\n",
      "31/31 [==============================] - 1s 28ms/step - loss: 19.7613 - lr: 3.5481e-08\n",
      "Epoch 13/100\n",
      "31/31 [==============================] - 1s 28ms/step - loss: 18.7621 - lr: 3.9811e-08\n",
      "Epoch 14/100\n",
      "31/31 [==============================] - 1s 28ms/step - loss: 17.6381 - lr: 4.4668e-08\n",
      "Epoch 15/100\n",
      "31/31 [==============================] - 1s 28ms/step - loss: 16.8188 - lr: 5.0119e-08\n",
      "Epoch 16/100\n",
      "31/31 [==============================] - 1s 28ms/step - loss: 16.3475 - lr: 5.6234e-08\n",
      "Epoch 17/100\n",
      "31/31 [==============================] - 1s 28ms/step - loss: 16.0559 - lr: 6.3096e-08\n",
      "Epoch 18/100\n",
      "31/31 [==============================] - 1s 29ms/step - loss: 15.7976 - lr: 7.0795e-08\n",
      "Epoch 19/100\n",
      "31/31 [==============================] - 1s 28ms/step - loss: 15.5575 - lr: 7.9433e-08\n",
      "Epoch 20/100\n",
      "31/31 [==============================] - 1s 28ms/step - loss: 15.3114 - lr: 8.9125e-08\n",
      "Epoch 21/100\n",
      "31/31 [==============================] - 1s 28ms/step - loss: 15.0474 - lr: 1.0000e-07\n",
      "Epoch 22/100\n",
      "31/31 [==============================] - 1s 28ms/step - loss: 14.7568 - lr: 1.1220e-07\n",
      "Epoch 23/100\n",
      "31/31 [==============================] - 1s 28ms/step - loss: 14.4398 - lr: 1.2589e-07\n",
      "Epoch 24/100\n",
      "31/31 [==============================] - 1s 28ms/step - loss: 14.0936 - lr: 1.4125e-07\n",
      "Epoch 25/100\n",
      "31/31 [==============================] - 1s 28ms/step - loss: 13.7125 - lr: 1.5849e-07\n",
      "Epoch 26/100\n",
      "31/31 [==============================] - 1s 28ms/step - loss: 13.3008 - lr: 1.7783e-07\n",
      "Epoch 27/100\n",
      "31/31 [==============================] - 1s 28ms/step - loss: 12.8580 - lr: 1.9953e-07\n",
      "Epoch 28/100\n",
      "31/31 [==============================] - 1s 28ms/step - loss: 12.3704 - lr: 2.2387e-07\n",
      "Epoch 29/100\n",
      "31/31 [==============================] - 1s 28ms/step - loss: 11.8638 - lr: 2.5119e-07\n",
      "Epoch 30/100\n",
      "31/31 [==============================] - 1s 29ms/step - loss: 11.3320 - lr: 2.8184e-07\n",
      "Epoch 31/100\n",
      "31/31 [==============================] - 1s 29ms/step - loss: 10.7801 - lr: 3.1623e-07\n",
      "Epoch 32/100\n",
      "31/31 [==============================] - 1s 29ms/step - loss: 10.1998 - lr: 3.5481e-07\n",
      "Epoch 33/100\n",
      "31/31 [==============================] - 1s 28ms/step - loss: 9.6500 - lr: 3.9811e-07\n",
      "Epoch 34/100\n",
      "31/31 [==============================] - 1s 28ms/step - loss: 9.0983 - lr: 4.4668e-07\n",
      "Epoch 35/100\n",
      "31/31 [==============================] - 1s 28ms/step - loss: 8.6379 - lr: 5.0119e-07\n",
      "Epoch 36/100\n",
      "31/31 [==============================] - 1s 29ms/step - loss: 8.2168 - lr: 5.6234e-07\n",
      "Epoch 37/100\n",
      "31/31 [==============================] - 1s 29ms/step - loss: 7.9042 - lr: 6.3096e-07\n",
      "Epoch 38/100\n",
      "31/31 [==============================] - 1s 28ms/step - loss: 7.6511 - lr: 7.0795e-07\n",
      "Epoch 39/100\n",
      "31/31 [==============================] - 1s 28ms/step - loss: 7.4232 - lr: 7.9433e-07\n",
      "Epoch 40/100\n",
      "31/31 [==============================] - 1s 28ms/step - loss: 7.2579 - lr: 8.9125e-07\n",
      "Epoch 41/100\n",
      "31/31 [==============================] - 1s 28ms/step - loss: 7.1348 - lr: 1.0000e-06\n",
      "Epoch 42/100\n",
      "31/31 [==============================] - 1s 29ms/step - loss: 7.0667 - lr: 1.1220e-06\n",
      "Epoch 43/100\n",
      "31/31 [==============================] - 1s 29ms/step - loss: 6.9621 - lr: 1.2589e-06\n",
      "Epoch 44/100\n",
      "31/31 [==============================] - 1s 28ms/step - loss: 6.8206 - lr: 1.4125e-06\n",
      "Epoch 45/100\n",
      "31/31 [==============================] - 1s 28ms/step - loss: 6.7384 - lr: 1.5849e-06\n",
      "Epoch 46/100\n",
      "31/31 [==============================] - 1s 29ms/step - loss: 6.6712 - lr: 1.7783e-06\n",
      "Epoch 47/100\n",
      "31/31 [==============================] - 1s 28ms/step - loss: 6.5224 - lr: 1.9953e-06\n",
      "Epoch 48/100\n",
      "31/31 [==============================] - 1s 29ms/step - loss: 6.4901 - lr: 2.2387e-06\n",
      "Epoch 49/100\n",
      "31/31 [==============================] - 1s 28ms/step - loss: 6.3807 - lr: 2.5119e-06\n",
      "Epoch 50/100\n",
      "31/31 [==============================] - 1s 28ms/step - loss: 6.3179 - lr: 2.8184e-06\n",
      "Epoch 51/100\n",
      "31/31 [==============================] - 1s 28ms/step - loss: 6.2248 - lr: 3.1623e-06\n",
      "Epoch 52/100\n",
      "31/31 [==============================] - 1s 28ms/step - loss: 6.0285 - lr: 3.5481e-06\n",
      "Epoch 53/100\n",
      "31/31 [==============================] - 1s 28ms/step - loss: 6.1205 - lr: 3.9811e-06\n",
      "Epoch 54/100\n",
      "31/31 [==============================] - 1s 28ms/step - loss: 5.9077 - lr: 4.4668e-06\n",
      "Epoch 55/100\n",
      "31/31 [==============================] - 1s 28ms/step - loss: 5.8232 - lr: 5.0119e-06\n",
      "Epoch 56/100\n",
      "31/31 [==============================] - 1s 28ms/step - loss: 5.8382 - lr: 5.6234e-06\n",
      "Epoch 57/100\n",
      "31/31 [==============================] - 1s 28ms/step - loss: 5.5826 - lr: 6.3096e-06\n",
      "Epoch 58/100\n",
      "31/31 [==============================] - 1s 29ms/step - loss: 5.5059 - lr: 7.0795e-06\n",
      "Epoch 59/100\n",
      "31/31 [==============================] - 1s 28ms/step - loss: 5.8078 - lr: 7.9433e-06\n",
      "Epoch 60/100\n",
      "31/31 [==============================] - 1s 28ms/step - loss: 5.6987 - lr: 8.9125e-06\n",
      "Epoch 61/100\n",
      "31/31 [==============================] - 1s 28ms/step - loss: 5.6612 - lr: 1.0000e-05\n",
      "Epoch 62/100\n",
      "31/31 [==============================] - 1s 28ms/step - loss: 5.6509 - lr: 1.1220e-05\n",
      "Epoch 63/100\n",
      "31/31 [==============================] - 1s 29ms/step - loss: 5.2551 - lr: 1.2589e-05\n",
      "Epoch 64/100\n",
      "31/31 [==============================] - 1s 28ms/step - loss: 5.3212 - lr: 1.4125e-05\n",
      "Epoch 65/100\n",
      "31/31 [==============================] - 1s 29ms/step - loss: 5.6989 - lr: 1.5849e-05\n",
      "Epoch 66/100\n",
      "31/31 [==============================] - 1s 29ms/step - loss: 6.2497 - lr: 1.7783e-05\n",
      "Epoch 67/100\n",
      "31/31 [==============================] - 1s 28ms/step - loss: 5.5786 - lr: 1.9953e-05\n",
      "Epoch 68/100\n",
      "31/31 [==============================] - 1s 29ms/step - loss: 5.2468 - lr: 2.2387e-05\n",
      "Epoch 69/100\n",
      "31/31 [==============================] - 1s 28ms/step - loss: 5.1730 - lr: 2.5119e-05\n",
      "Epoch 70/100\n",
      "31/31 [==============================] - 1s 29ms/step - loss: 5.4509 - lr: 2.8184e-05\n",
      "Epoch 71/100\n",
      "31/31 [==============================] - 1s 29ms/step - loss: 5.7257 - lr: 3.1623e-05\n",
      "Epoch 72/100\n",
      "31/31 [==============================] - 1s 29ms/step - loss: 5.8502 - lr: 3.5481e-05\n",
      "Epoch 73/100\n",
      "31/31 [==============================] - 1s 28ms/step - loss: 5.3354 - lr: 3.9811e-05\n",
      "Epoch 74/100\n",
      "31/31 [==============================] - 1s 28ms/step - loss: 5.4367 - lr: 4.4668e-05\n",
      "Epoch 75/100\n",
      "31/31 [==============================] - 1s 28ms/step - loss: 5.3836 - lr: 5.0119e-05\n",
      "Epoch 76/100\n",
      "31/31 [==============================] - 1s 29ms/step - loss: 5.9619 - lr: 5.6234e-05\n",
      "Epoch 77/100\n",
      "31/31 [==============================] - 1s 28ms/step - loss: 5.7267 - lr: 6.3096e-05\n",
      "Epoch 78/100\n",
      "31/31 [==============================] - 1s 28ms/step - loss: 5.7867 - lr: 7.0795e-05\n",
      "Epoch 79/100\n",
      "31/31 [==============================] - 1s 28ms/step - loss: 5.7368 - lr: 7.9433e-05\n",
      "Epoch 80/100\n",
      "31/31 [==============================] - 1s 29ms/step - loss: 6.2209 - lr: 8.9125e-05\n",
      "Epoch 81/100\n",
      "31/31 [==============================] - 1s 29ms/step - loss: 7.2787 - lr: 1.0000e-04\n",
      "Epoch 82/100\n",
      "31/31 [==============================] - 1s 28ms/step - loss: 6.0862 - lr: 1.1220e-04\n",
      "Epoch 83/100\n",
      "31/31 [==============================] - 1s 28ms/step - loss: 6.7147 - lr: 1.2589e-04\n",
      "Epoch 84/100\n",
      "31/31 [==============================] - 1s 29ms/step - loss: 6.8310 - lr: 1.4125e-04\n",
      "Epoch 85/100\n",
      "31/31 [==============================] - 1s 29ms/step - loss: 8.2359 - lr: 1.5849e-04\n",
      "Epoch 86/100\n",
      "31/31 [==============================] - 1s 29ms/step - loss: 8.0517 - lr: 1.7783e-04\n",
      "Epoch 87/100\n",
      "31/31 [==============================] - 1s 28ms/step - loss: 8.0952 - lr: 1.9953e-04\n",
      "Epoch 88/100\n",
      "31/31 [==============================] - 1s 29ms/step - loss: 8.5937 - lr: 2.2387e-04\n",
      "Epoch 89/100\n",
      "31/31 [==============================] - 1s 28ms/step - loss: 9.3605 - lr: 2.5119e-04\n",
      "Epoch 90/100\n",
      "31/31 [==============================] - 1s 29ms/step - loss: 7.0594 - lr: 2.8184e-04\n",
      "Epoch 91/100\n",
      "31/31 [==============================] - 1s 29ms/step - loss: 6.1531 - lr: 3.1623e-04\n",
      "Epoch 92/100\n",
      "31/31 [==============================] - 1s 29ms/step - loss: 6.5490 - lr: 3.5481e-04\n",
      "Epoch 93/100\n",
      "31/31 [==============================] - 1s 28ms/step - loss: 7.0244 - lr: 3.9811e-04\n",
      "Epoch 94/100\n",
      "31/31 [==============================] - 1s 28ms/step - loss: 7.5195 - lr: 4.4668e-04\n",
      "Epoch 95/100\n",
      "31/31 [==============================] - 1s 28ms/step - loss: 8.4953 - lr: 5.0119e-04\n",
      "Epoch 96/100\n",
      "31/31 [==============================] - 1s 30ms/step - loss: 9.7847 - lr: 5.6234e-04\n",
      "Epoch 97/100\n",
      "31/31 [==============================] - 1s 28ms/step - loss: 10.2940 - lr: 6.3096e-04\n",
      "Epoch 98/100\n",
      "31/31 [==============================] - 1s 29ms/step - loss: 14.2365 - lr: 7.0795e-04\n",
      "Epoch 99/100\n",
      "31/31 [==============================] - 1s 29ms/step - loss: 11.4053 - lr: 7.9433e-04\n",
      "Epoch 100/100\n",
      "31/31 [==============================] - 1s 29ms/step - loss: 16.9302 - lr: 8.9125e-04\n"
     ]
    }
   ],
   "source": [
    "# Set the learning rate scheduler\n",
    "lr_schedule = tf.keras.callbacks.LearningRateScheduler(\n",
    "    lambda epoch: 1e-8 * 10**(epoch / 20))\n",
    "\n",
    "# Initialize the optimizer\n",
    "optimizer = tf.keras.optimizers.SGD(momentum=0.9)\n",
    "\n",
    "# Set the training parameters\n",
    "model_tune.compile(loss=tf.keras.losses.Huber(), optimizer=optimizer)\n",
    "\n",
    "# Train the model\n",
    "history = model_tune.fit(dataset, epochs=100, callbacks=[lr_schedule])"
   ]
  },
  {
   "cell_type": "code",
   "execution_count": 12,
   "metadata": {
    "id": "AkBsrsXMzoWR",
    "tags": []
   },
   "outputs": [
    {
     "data": {
      "text/plain": [
       "(1e-08, 0.001, 0.0, 30.0)"
      ]
     },
     "execution_count": 12,
     "metadata": {},
     "output_type": "execute_result"
    },
    {
     "data": {
      "image/png": "[encoded data removed]",
      "text/plain": [
       "<Figure size 1000x600 with 1 Axes>"
      ]
     },
     "metadata": {},
     "output_type": "display_data"
    }
   ],
   "source": [
    "# Define the learning rate array\n",
    "lrs = 1e-8 * (10 ** (np.arange(100) / 20))\n",
    "\n",
    "# Set the figure size\n",
    "plt.figure(figsize=(10, 6))\n",
    "\n",
    "# Set the grid\n",
    "plt.grid(True)\n",
    "\n",
    "# Plot the loss in log scale\n",
    "plt.semilogx(lrs, history.history[\"loss\"])\n",
    "\n",
    "# Increase the tickmarks size\n",
    "plt.tick_params('both', length=10, width=1, which='both')\n",
    "\n",
    "# Set the plot boundaries\n",
    "plt.axis([1e-8, 1e-3, 0, 30])"
   ]
  },
  {
   "cell_type": "markdown",
   "metadata": {
    "id": "i-lKNp4pq_w8"
   },
   "source": [
    "## Train the Model\n",
    "\n",
    "You can then proceed to train the model with your chosen learning rate. \n",
    "\n",
    "*Tip: When experimenting and you find yourself running different iterations of a model, you may want to use the [`clear_session()`](https://www.tensorflow.org/api_docs/python/tf/keras/backend/clear_session) method to declutter memory used by Keras. This is added in the first line below.*\n"
   ]
  },
  {
   "cell_type": "code",
   "execution_count": null,
   "metadata": {
    "id": "4uh-97bpLZCA",
    "tags": []
   },
   "outputs": [
    {
     "name": "stderr",
     "output_type": "stream",
     "text": [
      "WARNING:absl:At this time, the v2.11+ optimizer `tf.keras.optimizers.SGD` runs slowly on M1/M2 Macs, please use the legacy Keras optimizer instead, located at `tf.keras.optimizers.legacy.SGD`.\n",
      "WARNING:absl:There is a known slowdown when using v2.11+ Keras optimizers on M1/M2 Macs. Falling back to the legacy Keras optimizer, i.e., `tf.keras.optimizers.legacy.SGD`.\n"
     ]
    },
    {
     "name": "stdout",
     "output_type": "stream",
     "text": [
      "Epoch 1/100\n",
      "31/31 [==============================] - 5s 38ms/step - loss: 15.2591 - mae: 15.7527\n",
      "Epoch 2/100\n",
      "31/31 [==============================] - 1s 29ms/step - loss: 10.4322 - mae: 10.9216\n",
      "Epoch 3/100\n",
      "31/31 [==============================] - 1s 29ms/step - loss: 8.9998 - mae: 9.4857\n",
      "Epoch 4/100\n",
      "31/31 [==============================] - 1s 29ms/step - loss: 8.0780 - mae: 8.5610\n",
      "Epoch 5/100\n",
      "31/31 [==============================] - 1s 29ms/step - loss: 7.1523 - mae: 7.6340\n",
      "Epoch 6/100\n",
      "31/31 [==============================] - 1s 30ms/step - loss: 6.6714 - mae: 7.1491\n",
      "Epoch 7/100\n",
      "31/31 [==============================] - 1s 31ms/step - loss: 6.3862 - mae: 6.8629\n",
      "Epoch 8/100\n",
      "31/31 [==============================] - 1s 29ms/step - loss: 6.3192 - mae: 6.8006\n",
      "Epoch 9/100\n",
      "31/31 [==============================] - 1s 29ms/step - loss: 6.1162 - mae: 6.5927\n",
      "Epoch 10/100\n",
      "31/31 [==============================] - 1s 29ms/step - loss: 5.9778 - mae: 6.4582\n",
      "Epoch 11/100\n",
      "31/31 [==============================] - 1s 29ms/step - loss: 5.9518 - mae: 6.4302\n",
      "Epoch 12/100\n",
      "31/31 [==============================] - 1s 29ms/step - loss: 5.8152 - mae: 6.2954\n",
      "Epoch 13/100\n",
      "31/31 [==============================] - 1s 30ms/step - loss: 5.7729 - mae: 6.2533\n",
      "Epoch 14/100\n",
      "31/31 [==============================] - 1s 30ms/step - loss: 5.7026 - mae: 6.1841\n",
      "Epoch 15/100\n",
      "31/31 [==============================] - 1s 29ms/step - loss: 5.6601 - mae: 6.1360\n",
      "Epoch 16/100\n",
      "31/31 [==============================] - 1s 29ms/step - loss: 5.6994 - mae: 6.1772\n",
      "Epoch 17/100\n",
      "31/31 [==============================] - 1s 29ms/step - loss: 5.5665 - mae: 6.0403\n",
      "Epoch 18/100\n",
      "31/31 [==============================] - 1s 29ms/step - loss: 5.6187 - mae: 6.0942\n",
      "Epoch 19/100\n",
      "31/31 [==============================] - 1s 29ms/step - loss: 5.4537 - mae: 5.9313\n",
      "Epoch 20/100\n",
      "31/31 [==============================] - 1s 29ms/step - loss: 5.6578 - mae: 6.1386\n",
      "Epoch 21/100\n",
      "31/31 [==============================] - 1s 29ms/step - loss: 5.6189 - mae: 6.0947\n",
      "Epoch 22/100\n",
      "31/31 [==============================] - 1s 30ms/step - loss: 5.4840 - mae: 5.9605\n",
      "Epoch 23/100\n",
      "31/31 [==============================] - 1s 29ms/step - loss: 5.4195 - mae: 5.8951\n",
      "Epoch 24/100\n",
      "31/31 [==============================] - 1s 29ms/step - loss: 5.3496 - mae: 5.8254\n",
      "Epoch 25/100\n",
      "31/31 [==============================] - 1s 29ms/step - loss: 5.3687 - mae: 5.8470\n",
      "Epoch 26/100\n",
      "31/31 [==============================] - 1s 29ms/step - loss: 5.3134 - mae: 5.7879\n",
      "Epoch 27/100\n",
      "31/31 [==============================] - 1s 29ms/step - loss: 5.3268 - mae: 5.8040\n",
      "Epoch 28/100\n",
      "31/31 [==============================] - 1s 29ms/step - loss: 5.3628 - mae: 5.8383\n",
      "Epoch 29/100\n",
      "31/31 [==============================] - 1s 29ms/step - loss: 5.2789 - mae: 5.7539\n",
      "Epoch 30/100\n",
      "31/31 [==============================] - 1s 29ms/step - loss: 5.2399 - mae: 5.7136\n",
      "Epoch 31/100\n",
      "31/31 [==============================] - 1s 29ms/step - loss: 5.1981 - mae: 5.6729\n",
      "Epoch 32/100\n",
      "31/31 [==============================] - 1s 29ms/step - loss: 5.2234 - mae: 5.7004\n",
      "Epoch 33/100\n",
      "31/31 [==============================] - 1s 29ms/step - loss: 5.1975 - mae: 5.6711\n",
      "Epoch 34/100\n",
      "31/31 [==============================] - 1s 29ms/step - loss: 5.1675 - mae: 5.6458\n",
      "Epoch 35/100\n",
      "31/31 [==============================] - 1s 29ms/step - loss: 5.1711 - mae: 5.6461\n",
      "Epoch 36/100\n",
      "31/31 [==============================] - 1s 29ms/step - loss: 5.2260 - mae: 5.7038\n",
      "Epoch 37/100\n",
      "31/31 [==============================] - 1s 30ms/step - loss: 5.2076 - mae: 5.6858\n",
      "Epoch 38/100\n",
      "31/31 [==============================] - 1s 29ms/step - loss: 5.0809 - mae: 5.5567\n",
      "Epoch 39/100\n",
      "31/31 [==============================] - 1s 29ms/step - loss: 5.1365 - mae: 5.6088\n",
      "Epoch 40/100\n",
      "31/31 [==============================] - 1s 29ms/step - loss: 5.1347 - mae: 5.6129\n",
      "Epoch 41/100\n",
      "31/31 [==============================] - 1s 29ms/step - loss: 5.0879 - mae: 5.5612\n",
      "Epoch 42/100\n",
      "31/31 [==============================] - 1s 29ms/step - loss: 5.0706 - mae: 5.5481\n",
      "Epoch 43/100\n",
      "31/31 [==============================] - 1s 29ms/step - loss: 5.1942 - mae: 5.6710\n",
      "Epoch 44/100\n",
      "31/31 [==============================] - 1s 29ms/step - loss: 5.1524 - mae: 5.6300\n",
      "Epoch 45/100\n",
      "31/31 [==============================] - 1s 29ms/step - loss: 5.0809 - mae: 5.5569\n",
      "Epoch 46/100\n",
      "31/31 [==============================] - 1s 29ms/step - loss: 5.0495 - mae: 5.5255\n",
      "Epoch 47/100\n",
      "31/31 [==============================] - 1s 29ms/step - loss: 5.0044 - mae: 5.4822\n",
      "Epoch 48/100\n",
      "31/31 [==============================] - 1s 29ms/step - loss: 4.9772 - mae: 5.4536\n",
      "Epoch 49/100\n",
      "31/31 [==============================] - 1s 29ms/step - loss: 5.0148 - mae: 5.4891\n",
      "Epoch 50/100\n",
      "31/31 [==============================] - 1s 29ms/step - loss: 5.0180 - mae: 5.4936\n",
      "Epoch 51/100\n",
      "31/31 [==============================] - 1s 29ms/step - loss: 4.9973 - mae: 5.4724\n",
      "Epoch 52/100\n",
      "31/31 [==============================] - 1s 29ms/step - loss: 5.0329 - mae: 5.5081\n",
      "Epoch 53/100\n",
      "31/31 [==============================] - 1s 30ms/step - loss: 4.9973 - mae: 5.4742\n",
      "Epoch 54/100\n",
      "31/31 [==============================] - 1s 29ms/step - loss: 4.9872 - mae: 5.4608\n",
      "Epoch 55/100\n",
      "31/31 [==============================] - 1s 29ms/step - loss: 4.9973 - mae: 5.4726\n",
      "Epoch 56/100\n",
      "31/31 [==============================] - 1s 29ms/step - loss: 4.9387 - mae: 5.4165\n",
      "Epoch 57/100\n",
      "31/31 [==============================] - 1s 29ms/step - loss: 4.9640 - mae: 5.4431\n",
      "Epoch 58/100\n",
      "31/31 [==============================] - 1s 29ms/step - loss: 4.8685 - mae: 5.3436\n",
      "Epoch 59/100\n",
      "31/31 [==============================] - 1s 30ms/step - loss: 4.9497 - mae: 5.4239\n",
      "Epoch 60/100\n",
      "31/31 [==============================] - 1s 29ms/step - loss: 4.8992 - mae: 5.3758\n",
      "Epoch 61/100\n",
      "31/31 [==============================] - 1s 29ms/step - loss: 4.8841 - mae: 5.3567\n",
      "Epoch 62/100\n",
      "31/31 [==============================] - 1s 29ms/step - loss: 4.8800 - mae: 5.3541\n",
      "Epoch 63/100\n",
      "31/31 [==============================] - 1s 29ms/step - loss: 4.8500 - mae: 5.3256\n",
      "Epoch 64/100\n",
      "31/31 [==============================] - 1s 30ms/step - loss: 4.9553 - mae: 5.4280\n",
      "Epoch 65/100\n",
      "31/31 [==============================] - 1s 29ms/step - loss: 4.8725 - mae: 5.3486\n",
      "Epoch 66/100\n",
      "31/31 [==============================] - 1s 29ms/step - loss: 4.8968 - mae: 5.3731\n",
      "Epoch 67/100\n",
      "31/31 [==============================] - 1s 29ms/step - loss: 4.8278 - mae: 5.3041\n",
      "Epoch 68/100\n",
      "31/31 [==============================] - 1s 29ms/step - loss: 4.7799 - mae: 5.2561\n",
      "Epoch 69/100\n",
      "31/31 [==============================] - 1s 29ms/step - loss: 4.7750 - mae: 5.2520\n",
      "Epoch 70/100\n",
      "31/31 [==============================] - 1s 29ms/step - loss: 4.8048 - mae: 5.2810\n",
      "Epoch 71/100\n",
      "31/31 [==============================] - 1s 29ms/step - loss: 4.7844 - mae: 5.2661\n",
      "Epoch 72/100\n",
      "31/31 [==============================] - 1s 29ms/step - loss: 4.8800 - mae: 5.3539\n",
      "Epoch 73/100\n",
      "31/31 [==============================] - 1s 29ms/step - loss: 4.9650 - mae: 5.4423\n",
      "Epoch 74/100\n",
      "31/31 [==============================] - 1s 29ms/step - loss: 4.8262 - mae: 5.3023\n",
      "Epoch 75/100\n",
      "31/31 [==============================] - 1s 29ms/step - loss: 4.7985 - mae: 5.2710\n",
      "Epoch 76/100\n",
      "31/31 [==============================] - 1s 29ms/step - loss: 4.8330 - mae: 5.3112\n",
      "Epoch 77/100\n",
      "31/31 [==============================] - 1s 29ms/step - loss: 4.7643 - mae: 5.2392\n",
      "Epoch 78/100\n",
      "31/31 [==============================] - 1s 29ms/step - loss: 4.7665 - mae: 5.2452\n",
      "Epoch 79/100\n",
      "31/31 [==============================] - 1s 29ms/step - loss: 4.7649 - mae: 5.2415\n",
      "Epoch 80/100\n",
      "31/31 [==============================] - 1s 29ms/step - loss: 4.7405 - mae: 5.2205\n",
      "Epoch 81/100\n",
      "31/31 [==============================] - 1s 29ms/step - loss: 4.7729 - mae: 5.2497\n",
      "Epoch 82/100\n",
      "31/31 [==============================] - 1s 30ms/step - loss: 4.8637 - mae: 5.3450\n",
      "Epoch 83/100\n",
      "31/31 [==============================] - 1s 29ms/step - loss: 4.7732 - mae: 5.2526\n",
      "Epoch 84/100\n",
      "31/31 [==============================] - 1s 29ms/step - loss: 4.7459 - mae: 5.2229\n",
      "Epoch 85/100\n",
      "31/31 [==============================] - 1s 29ms/step - loss: 4.7195 - mae: 5.1941\n",
      "Epoch 86/100\n",
      "31/31 [==============================] - 1s 29ms/step - loss: 4.8055 - mae: 5.2800\n",
      "Epoch 87/100\n",
      " 1/31 [..............................] - ETA: 2s - loss: 4.1576 - mae: 4.6101"
     ]
    }
   ],
   "source": [
    "# Reset states generated by Keras\n",
    "tf.keras.backend.clear_session()\n",
    "\n",
    "# Build the model\n",
    "model = tf.keras.models.Sequential([\n",
    "  tf.keras.layers.Lambda(lambda x: tf.expand_dims(x, axis=-1),\n",
    "                      input_shape=[None]),\n",
    "   tf.keras.layers.Bidirectional(tf.keras.layers.LSTM(32, return_sequences=True)),\n",
    "  tf.keras.layers.Bidirectional(tf.keras.layers.LSTM(32)),\n",
    "  tf.keras.layers.Dense(1),\n",
    "  tf.keras.layers.Lambda(lambda x: x * 100.0)\n",
    "])\n",
    "\n",
    "# Set the learning rate\n",
    "learning_rate = 2e-6\n",
    "\n",
    "# Set the optimizer \n",
    "optimizer = tf.keras.optimizers.SGD(learning_rate=learning_rate, momentum=0.9)\n",
    "\n",
    "# Set the training parameters\n",
    "model.compile(loss=tf.keras.losses.Huber(),\n",
    "              optimizer=optimizer,\n",
    "              metrics=[\"mae\"])\n",
    "\n",
    "# Train the model\n",
    "history = model.fit(dataset,epochs=100)"
   ]
  },
  {
   "cell_type": "markdown",
   "metadata": {
    "id": "RjP4kbGiI7cw"
   },
   "source": [
    "## Model Prediction\n",
    "\n",
    "You will then generate batches of windows to generate predictions that align with the validation set."
   ]
  },
  {
   "cell_type": "code",
   "execution_count": null,
   "metadata": {
    "id": "QO8cfKwKBBG6",
    "tags": []
   },
   "outputs": [],
   "source": [
    "def model_forecast(model, series, window_size, batch_size):\n",
    "    \"\"\"Uses an input model to generate predictions on data windows\n",
    "\n",
    "    Args:\n",
    "      model (TF Keras Model) - model that accepts data windows\n",
    "      series (array of float) - contains the values of the time series\n",
    "      window_size (int) - the number of time steps to include in the window\n",
    "      batch_size (int) - the batch size\n",
    "\n",
    "    Returns:\n",
    "      forecast (numpy array) - array containing predictions\n",
    "    \"\"\"\n",
    "\n",
    "    # Generate a TF Dataset from the series values\n",
    "    dataset = tf.data.Dataset.from_tensor_slices(series)\n",
    "\n",
    "    # Window the data but only take those with the specified size\n",
    "    dataset = dataset.window(window_size, shift=1, drop_remainder=True)\n",
    "\n",
    "    # Flatten the windows by putting its elements in a single batch\n",
    "    dataset = dataset.flat_map(lambda w: w.batch(window_size))\n",
    "    \n",
    "    # Create batches of windows\n",
    "    dataset = dataset.batch(batch_size).prefetch(1)\n",
    "    \n",
    "    # Get predictions on the entire dataset\n",
    "    forecast = model.predict(dataset)\n",
    "    \n",
    "    return forecast"
   ]
  },
  {
   "cell_type": "code",
   "execution_count": null,
   "metadata": {
    "id": "_plB3UseBD8o"
   },
   "outputs": [],
   "source": [
    "# Reduce the original series\n",
    "forecast_series = series[split_time-window_size:-1]\n",
    "\n",
    "# Use helper function to generate predictions\n",
    "forecast = model_forecast(model, forecast_series, window_size, batch_size)\n",
    "\n",
    "# Drop single dimensional axis\n",
    "results = forecast.squeeze()\n",
    "\n",
    "# Plot the results\n",
    "plot_series(time_valid, (x_valid, results))"
   ]
  },
  {
   "cell_type": "markdown",
   "metadata": {
    "id": "Nn8iSQkZtaRC"
   },
   "source": [
    "You can then generate the metrics to evaluate the model's performance."
   ]
  },
  {
   "cell_type": "code",
   "execution_count": null,
   "metadata": {
    "id": "-IKhueZaBGID"
   },
   "outputs": [],
   "source": [
    "# Compute the MSE and MAE\n",
    "print(tf.keras.metrics.mean_squared_error(x_valid, results).numpy())\n",
    "print(tf.keras.metrics.mean_absolute_error(x_valid, results).numpy())"
   ]
  },
  {
   "cell_type": "markdown",
   "metadata": {
    "id": "bzPIqeMWvbPy"
   },
   "source": [
    "## Wrap Up\n",
    "\n",
    "This concludes this short exercise on using LSTMs for time series forecasting. Next week, you will build upon this and add convolutions. Then, you will start to move away from synthetic data and use real-world datasets. See you there!"
   ]
  },
  {
   "cell_type": "markdown",
   "metadata": {
    "id": "U5PqTePGHeMH"
   },
   "source": [
    "## Optional: Including a Validation Set while Training\n",
    "\n",
    "Back in the first course of this specialization, you saw how you can also monitor the performance of your model against a validation set while training. You can also do that for this lab. \n",
    "\n",
    "First, you need to generate a `val_set` which are data windows and labels that your model can accept. You can simply reuse the `windowed_dataset` function for that and you can pass in the `x_valid` points to generate the windows."
   ]
  },
  {
   "cell_type": "code",
   "execution_count": null,
   "metadata": {
    "id": "kvFVwL3PC4iX"
   },
   "outputs": [],
   "source": [
    "# Generate data windows of the validation set\n",
    "val_set = windowed_dataset(x_valid, window_size, batch_size, shuffle_buffer_size)"
   ]
  },
  {
   "cell_type": "markdown",
   "metadata": {
    "id": "p68j6XxEvP9K"
   },
   "source": [
    "You can then do the same training as before but pass in the `val_set` to the `validation_data` parameter of the `fit()` method."
   ]
  },
  {
   "cell_type": "code",
   "execution_count": null,
   "metadata": {
    "id": "wujKz6tXDSn0"
   },
   "outputs": [],
   "source": [
    "# Reset states generated by Keras\n",
    "tf.keras.backend.clear_session()\n",
    "\n",
    "# Build the model\n",
    "model = tf.keras.models.Sequential([\n",
    "  tf.keras.layers.Lambda(lambda x: tf.expand_dims(x, axis=-1),\n",
    "                      input_shape=[None]),\n",
    "   tf.keras.layers.Bidirectional(tf.keras.layers.LSTM(32, return_sequences=True)),\n",
    "  tf.keras.layers.Bidirectional(tf.keras.layers.LSTM(32)),\n",
    "  tf.keras.layers.Dense(1),\n",
    "  tf.keras.layers.Lambda(lambda x: x * 100.0)\n",
    "])\n",
    "\n",
    "# Set the learning rate\n",
    "learning_rate = 2e-6\n",
    "\n",
    "# Set the optimizer \n",
    "optimizer = tf.keras.optimizers.SGD(learning_rate=learning_rate, momentum=0.9)\n",
    "\n",
    "# Set the training parameters\n",
    "model.compile(loss=tf.keras.losses.Huber(),\n",
    "              optimizer=optimizer,\n",
    "              metrics=[\"mae\"])\n",
    "\n",
    "# Train the model\n",
    "history = model.fit(dataset,epochs=100, validation_data=val_set)"
   ]
  },
  {
   "cell_type": "code",
   "execution_count": null,
   "metadata": {},
   "outputs": [],
   "source": []
  }
 ],
 "metadata": {
  "accelerator": "GPU",
  "colab": {
   "collapsed_sections": [],
   "name": "C4_W3_Lab_2_LSTM.ipynb",
   "private_outputs": true,
   "provenance": []
  },
  "kernelspec": {
   "display_name": "Python 3 (ipykernel)",
   "language": "python",
   "name": "python3"
  },
  "language_info": {
   "codemirror_mode": {
    "name": "ipython",
    "version": 3
   },
   "file_extension": ".py",
   "mimetype": "text/x-python",
   "name": "python",
   "nbconvert_exporter": "python",
   "pygments_lexer": "ipython3",
   "version": "3.8.13"
  }
 },
 "nbformat": 4,
 "nbformat_minor": 4
}
