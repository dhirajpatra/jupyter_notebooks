{
 "cells": [
  {
   "cell_type": "markdown",
   "id": "d361bbd9",
   "metadata": {
    "id": "d361bbd9"
   },
   "source": [
    "# Week 4: Multi-class Classification\n",
    "\n",
    "Welcome to this assignment! In this exercise, you will get a chance to work on a multi-class classification problem. You will be using the [Sign Language MNIST](https://www.kaggle.com/datamunge/sign-language-mnist) dataset, which contains 28x28 images of hands depicting the 26 letters of the english alphabet. \n",
    "\n",
    "You will need to pre-process the data so that it can be fed into your convolutional neural network to correctly classify each image as the letter it represents.\n",
    "\n",
    "\n",
    "Let's get started!"
   ]
  },
  {
   "cell_type": "markdown",
   "id": "e97ccaec",
   "metadata": {
    "id": "e97ccaec"
   },
   "source": [
    "_**NOTE:** To prevent errors from the autograder, pleave avoid editing or deleting non-graded cells in this notebook . Please only put your solutions in between the `### START CODE HERE` and `### END CODE HERE` code comments, and refrain from adding any new cells._"
   ]
  },
  {
   "cell_type": "code",
   "execution_count": 81,
   "id": "8e09ac06",
   "metadata": {
    "id": "8e09ac06",
    "tags": [
     "graded"
    ]
   },
   "outputs": [],
   "source": [
    "# grader-required-cell\n",
    "\n",
    "import csv\n",
    "import string\n",
    "import numpy as np\n",
    "import tensorflow as tf\n",
    "import matplotlib.pyplot as plt\n",
    "from tensorflow.keras.preprocessing.image import ImageDataGenerator, array_to_img\n",
    "from keras import layers, models, callbacks"
   ]
  },
  {
   "cell_type": "markdown",
   "id": "28d9421c",
   "metadata": {
    "id": "28d9421c"
   },
   "source": [
    "Download the training and test sets (the test set will actually be used as a validation set):"
   ]
  },
  {
   "cell_type": "code",
   "execution_count": 82,
   "id": "a1ffc611",
   "metadata": {
    "colab": {
     "base_uri": "https://localhost:8080/"
    },
    "id": "a1ffc611",
    "outputId": "beb15cf3-67d1-4414-a426-646c5736c304",
    "tags": []
   },
   "outputs": [
    {
     "name": "stdout",
     "output_type": "stream",
     "text": [
      "/usr/local/lib/python3.9/dist-packages/gdown/cli.py:127: FutureWarning: Option `--id` was deprecated in version 4.3.1 and will be removed in 5.0. You don't need to pass it anymore to use a file ID.\n",
      "  warnings.warn(\n",
      "Downloading...\n",
      "From: https://drive.google.com/uc?id=1z0DkA9BytlLxO1C0BAWzknLyQmZAp0HR\n",
      "To: /content/sign_mnist_train.csv\n",
      "100% 83.3M/83.3M [00:00<00:00, 248MB/s]\n",
      "/usr/local/lib/python3.9/dist-packages/gdown/cli.py:127: FutureWarning: Option `--id` was deprecated in version 4.3.1 and will be removed in 5.0. You don't need to pass it anymore to use a file ID.\n",
      "  warnings.warn(\n",
      "Downloading...\n",
      "From: https://drive.google.com/uc?id=1z1BIj4qmri59GWBG4ivMNFtpZ4AXIbzg\n",
      "To: /content/sign_mnist_test.csv\n",
      "100% 21.8M/21.8M [00:00<00:00, 189MB/s]\n"
     ]
    }
   ],
   "source": [
    "# sign_mnist_train.csv\n",
    "!gdown --id 1z0DkA9BytlLxO1C0BAWzknLyQmZAp0HR\n",
    "# sign_mnist_test.csv\n",
    "!gdown --id 1z1BIj4qmri59GWBG4ivMNFtpZ4AXIbzg"
   ]
  },
  {
   "cell_type": "markdown",
   "id": "e1216e2e",
   "metadata": {
    "id": "e1216e2e"
   },
   "source": [
    "Define some globals with the path to both files you just downloaded:"
   ]
  },
  {
   "cell_type": "code",
   "execution_count": 83,
   "id": "1b7007d2",
   "metadata": {
    "id": "1b7007d2",
    "tags": [
     "graded"
    ]
   },
   "outputs": [],
   "source": [
    "# grader-required-cell\n",
    "\n",
    "TRAINING_FILE = './sign_mnist_train.csv'\n",
    "VALIDATION_FILE = './sign_mnist_test.csv'"
   ]
  },
  {
   "cell_type": "markdown",
   "id": "c087ba57",
   "metadata": {
    "id": "c087ba57"
   },
   "source": [
    "Unlike previous assignments, you will not have the actual images provided, instead you will have the data serialized as `csv` files.\n",
    "\n",
    "Take a look at how the data looks like within the `csv` file:"
   ]
  },
  {
   "cell_type": "code",
   "execution_count": 84,
   "id": "1d08a94d",
   "metadata": {
    "colab": {
     "base_uri": "https://localhost:8080/"
    },
    "id": "1d08a94d",
    "outputId": "8d49c98e-1797-4704-ef10-f14a8634e9f4",
    "tags": [
     "graded"
    ]
   },
   "outputs": [
    {
     "name": "stdout",
     "output_type": "stream",
     "text": [
      "First line (header) looks like this:\n",
      "label,pixel1,pixel2,pixel3,pixel4,pixel5,pixel6,pixel7,pixel8,pixel9,pixel10,pixel11,pixel12,pixel13,pixel14,pixel15,pixel16,pixel17,pixel18,pixel19,pixel20,pixel21,pixel22,pixel23,pixel24,pixel25,pixel26,pixel27,pixel28,pixel29,pixel30,pixel31,pixel32,pixel33,pixel34,pixel35,pixel36,pixel37,pixel38,pixel39,pixel40,pixel41,pixel42,pixel43,pixel44,pixel45,pixel46,pixel47,pixel48,pixel49,pixel50,pixel51,pixel52,pixel53,pixel54,pixel55,pixel56,pixel57,pixel58,pixel59,pixel60,pixel61,pixel62,pixel63,pixel64,pixel65,pixel66,pixel67,pixel68,pixel69,pixel70,pixel71,pixel72,pixel73,pixel74,pixel75,pixel76,pixel77,pixel78,pixel79,pixel80,pixel81,pixel82,pixel83,pixel84,pixel85,pixel86,pixel87,pixel88,pixel89,pixel90,pixel91,pixel92,pixel93,pixel94,pixel95,pixel96,pixel97,pixel98,pixel99,pixel100,pixel101,pixel102,pixel103,pixel104,pixel105,pixel106,pixel107,pixel108,pixel109,pixel110,pixel111,pixel112,pixel113,pixel114,pixel115,pixel116,pixel117,pixel118,pixel119,pixel120,pixel121,pixel122,pixel123,pixel124,pixel125,pixel126,pixel127,pixel128,pixel129,pixel130,pixel131,pixel132,pixel133,pixel134,pixel135,pixel136,pixel137,pixel138,pixel139,pixel140,pixel141,pixel142,pixel143,pixel144,pixel145,pixel146,pixel147,pixel148,pixel149,pixel150,pixel151,pixel152,pixel153,pixel154,pixel155,pixel156,pixel157,pixel158,pixel159,pixel160,pixel161,pixel162,pixel163,pixel164,pixel165,pixel166,pixel167,pixel168,pixel169,pixel170,pixel171,pixel172,pixel173,pixel174,pixel175,pixel176,pixel177,pixel178,pixel179,pixel180,pixel181,pixel182,pixel183,pixel184,pixel185,pixel186,pixel187,pixel188,pixel189,pixel190,pixel191,pixel192,pixel193,pixel194,pixel195,pixel196,pixel197,pixel198,pixel199,pixel200,pixel201,pixel202,pixel203,pixel204,pixel205,pixel206,pixel207,pixel208,pixel209,pixel210,pixel211,pixel212,pixel213,pixel214,pixel215,pixel216,pixel217,pixel218,pixel219,pixel220,pixel221,pixel222,pixel223,pixel224,pixel225,pixel226,pixel227,pixel228,pixel229,pixel230,pixel231,pixel232,pixel233,pixel234,pixel235,pixel236,pixel237,pixel238,pixel239,pixel240,pixel241,pixel242,pixel243,pixel244,pixel245,pixel246,pixel247,pixel248,pixel249,pixel250,pixel251,pixel252,pixel253,pixel254,pixel255,pixel256,pixel257,pixel258,pixel259,pixel260,pixel261,pixel262,pixel263,pixel264,pixel265,pixel266,pixel267,pixel268,pixel269,pixel270,pixel271,pixel272,pixel273,pixel274,pixel275,pixel276,pixel277,pixel278,pixel279,pixel280,pixel281,pixel282,pixel283,pixel284,pixel285,pixel286,pixel287,pixel288,pixel289,pixel290,pixel291,pixel292,pixel293,pixel294,pixel295,pixel296,pixel297,pixel298,pixel299,pixel300,pixel301,pixel302,pixel303,pixel304,pixel305,pixel306,pixel307,pixel308,pixel309,pixel310,pixel311,pixel312,pixel313,pixel314,pixel315,pixel316,pixel317,pixel318,pixel319,pixel320,pixel321,pixel322,pixel323,pixel324,pixel325,pixel326,pixel327,pixel328,pixel329,pixel330,pixel331,pixel332,pixel333,pixel334,pixel335,pixel336,pixel337,pixel338,pixel339,pixel340,pixel341,pixel342,pixel343,pixel344,pixel345,pixel346,pixel347,pixel348,pixel349,pixel350,pixel351,pixel352,pixel353,pixel354,pixel355,pixel356,pixel357,pixel358,pixel359,pixel360,pixel361,pixel362,pixel363,pixel364,pixel365,pixel366,pixel367,pixel368,pixel369,pixel370,pixel371,pixel372,pixel373,pixel374,pixel375,pixel376,pixel377,pixel378,pixel379,pixel380,pixel381,pixel382,pixel383,pixel384,pixel385,pixel386,pixel387,pixel388,pixel389,pixel390,pixel391,pixel392,pixel393,pixel394,pixel395,pixel396,pixel397,pixel398,pixel399,pixel400,pixel401,pixel402,pixel403,pixel404,pixel405,pixel406,pixel407,pixel408,pixel409,pixel410,pixel411,pixel412,pixel413,pixel414,pixel415,pixel416,pixel417,pixel418,pixel419,pixel420,pixel421,pixel422,pixel423,pixel424,pixel425,pixel426,pixel427,pixel428,pixel429,pixel430,pixel431,pixel432,pixel433,pixel434,pixel435,pixel436,pixel437,pixel438,pixel439,pixel440,pixel441,pixel442,pixel443,pixel444,pixel445,pixel446,pixel447,pixel448,pixel449,pixel450,pixel451,pixel452,pixel453,pixel454,pixel455,pixel456,pixel457,pixel458,pixel459,pixel460,pixel461,pixel462,pixel463,pixel464,pixel465,pixel466,pixel467,pixel468,pixel469,pixel470,pixel471,pixel472,pixel473,pixel474,pixel475,pixel476,pixel477,pixel478,pixel479,pixel480,pixel481,pixel482,pixel483,pixel484,pixel485,pixel486,pixel487,pixel488,pixel489,pixel490,pixel491,pixel492,pixel493,pixel494,pixel495,pixel496,pixel497,pixel498,pixel499,pixel500,pixel501,pixel502,pixel503,pixel504,pixel505,pixel506,pixel507,pixel508,pixel509,pixel510,pixel511,pixel512,pixel513,pixel514,pixel515,pixel516,pixel517,pixel518,pixel519,pixel520,pixel521,pixel522,pixel523,pixel524,pixel525,pixel526,pixel527,pixel528,pixel529,pixel530,pixel531,pixel532,pixel533,pixel534,pixel535,pixel536,pixel537,pixel538,pixel539,pixel540,pixel541,pixel542,pixel543,pixel544,pixel545,pixel546,pixel547,pixel548,pixel549,pixel550,pixel551,pixel552,pixel553,pixel554,pixel555,pixel556,pixel557,pixel558,pixel559,pixel560,pixel561,pixel562,pixel563,pixel564,pixel565,pixel566,pixel567,pixel568,pixel569,pixel570,pixel571,pixel572,pixel573,pixel574,pixel575,pixel576,pixel577,pixel578,pixel579,pixel580,pixel581,pixel582,pixel583,pixel584,pixel585,pixel586,pixel587,pixel588,pixel589,pixel590,pixel591,pixel592,pixel593,pixel594,pixel595,pixel596,pixel597,pixel598,pixel599,pixel600,pixel601,pixel602,pixel603,pixel604,pixel605,pixel606,pixel607,pixel608,pixel609,pixel610,pixel611,pixel612,pixel613,pixel614,pixel615,pixel616,pixel617,pixel618,pixel619,pixel620,pixel621,pixel622,pixel623,pixel624,pixel625,pixel626,pixel627,pixel628,pixel629,pixel630,pixel631,pixel632,pixel633,pixel634,pixel635,pixel636,pixel637,pixel638,pixel639,pixel640,pixel641,pixel642,pixel643,pixel644,pixel645,pixel646,pixel647,pixel648,pixel649,pixel650,pixel651,pixel652,pixel653,pixel654,pixel655,pixel656,pixel657,pixel658,pixel659,pixel660,pixel661,pixel662,pixel663,pixel664,pixel665,pixel666,pixel667,pixel668,pixel669,pixel670,pixel671,pixel672,pixel673,pixel674,pixel675,pixel676,pixel677,pixel678,pixel679,pixel680,pixel681,pixel682,pixel683,pixel684,pixel685,pixel686,pixel687,pixel688,pixel689,pixel690,pixel691,pixel692,pixel693,pixel694,pixel695,pixel696,pixel697,pixel698,pixel699,pixel700,pixel701,pixel702,pixel703,pixel704,pixel705,pixel706,pixel707,pixel708,pixel709,pixel710,pixel711,pixel712,pixel713,pixel714,pixel715,pixel716,pixel717,pixel718,pixel719,pixel720,pixel721,pixel722,pixel723,pixel724,pixel725,pixel726,pixel727,pixel728,pixel729,pixel730,pixel731,pixel732,pixel733,pixel734,pixel735,pixel736,pixel737,pixel738,pixel739,pixel740,pixel741,pixel742,pixel743,pixel744,pixel745,pixel746,pixel747,pixel748,pixel749,pixel750,pixel751,pixel752,pixel753,pixel754,pixel755,pixel756,pixel757,pixel758,pixel759,pixel760,pixel761,pixel762,pixel763,pixel764,pixel765,pixel766,pixel767,pixel768,pixel769,pixel770,pixel771,pixel772,pixel773,pixel774,pixel775,pixel776,pixel777,pixel778,pixel779,pixel780,pixel781,pixel782,pixel783,pixel784\n",
      "\n",
      "Each subsequent line (data points) look like this:\n",
      "3,107,118,127,134,139,143,146,150,153,156,158,160,163,165,159,166,168,170,170,171,171,171,172,171,171,170,170,169,111,121,129,135,141,144,148,151,154,157,160,163,164,170,119,152,171,171,170,171,172,172,172,172,172,171,171,170,113,123,131,137,142,145,150,152,155,158,161,163,164,172,105,142,170,171,171,171,172,172,173,173,172,171,171,171,116,125,133,139,143,146,151,153,156,159,162,163,167,167,95,144,171,172,172,172,172,172,173,173,173,172,172,171,117,126,134,140,145,149,153,156,158,161,163,164,175,156,87,154,172,173,173,173,173,173,174,174,174,173,172,172,119,128,136,142,146,150,153,156,159,163,165,164,184,148,89,164,172,174,174,174,174,175,175,174,175,174,173,173,122,130,138,143,147,150,154,158,162,165,166,172,181,128,94,170,173,175,174,175,176,177,177,177,177,175,175,174,122,132,139,145,149,152,156,160,163,165,166,181,172,103,113,175,176,178,178,179,179,179,179,178,179,177,175,174,125,134,141,147,150,153,157,161,164,167,168,184,179,116,126,165,176,179,180,180,181,180,180,180,179,178,177,176,128,135,142,148,152,154,158,162,165,168,170,187,180,156,161,124,143,179,178,178,181,182,181,180,181,180,179,179,129,136,144,150,153,155,159,163,166,169,172,187,184,153,102,117,110,175,169,154,182,183,183,182,182,181,181,179,131,138,145,150,155,157,161,165,168,174,190,189,175,146,94,97,113,151,158,129,184,184,184,184,183,183,182,180,131,139,146,151,155,159,163,167,175,182,179,171,159,114,102,89,121,136,136,96,172,186,186,185,185,184,182,181,131,140,147,154,157,160,164,179,186,191,187,180,157,100,88,84,108,111,126,90,120,186,187,187,186,185,184,182,133,141,149,155,158,160,174,201,189,165,151,143,146,120,87,78,87,76,108,98,96,181,188,187,186,186,185,183,133,141,150,156,160,161,179,197,174,135,99,72,95,134,97,72,74,68,116,105,108,187,189,187,187,186,186,185,134,143,151,156,161,163,179,194,156,110,74,42,52,139,94,67,75,75,118,106,129,189,191,190,188,188,187,186,135,144,152,158,163,163,177,193,161,122,84,43,71,134,81,57,71,88,112,98,157,193,193,192,190,190,189,188,136,144,152,158,162,163,176,192,164,128,98,62,60,100,71,76,96,101,105,95,174,195,194,194,194,193,191,190,137,145,152,159,164,165,178,191,164,135,113,82,59,87,98,111,120,108,97,108,190,196,195,195,194,193,193,192,139,146,154,160,164,165,175,186,163,139,112,85,67,102,126,133,126,105,104,176,197,198,197,196,195,195,194,193,138,147,155,161,165,167,172,186,163,137,107,87,76,106,122,125,117,96,156,199,199,200,198,196,196,195,195,194,139,148,156,163,166,168,172,180,158,131,108,99,86,108,118,116,103,107,191,202,201,200,200,200,199,197,198,196,140,149,157,164,168,167,177,178,155,131,118,105,87,100,106,100,96,164,202,202,202,202,202,201,200,199,199,198,140,150,157,165,167,170,181,175,152,130,115,98,82,85,90,99,165,202,203,204,203,203,202,202,201,201,200,200,142,150,159,165,170,191,173,157,144,119,97,84,79,79,91,172,202,203,203,205,204,204,204,203,202,202,201,200,142,151,160,165,188,190,187,150,119,109,85,79,79,78,137,203,205,206,206,207,207,206,206,204,205,204,203,202,142,151,160,172,196,188,188,190,135,96,86,77,77,79,176,205,207,207,207,207,207,207,206,206,206,204,203,202\n",
      "\n"
     ]
    }
   ],
   "source": [
    "# grader-required-cell\n",
    "\n",
    "with open(TRAINING_FILE) as training_file:\n",
    "  line = training_file.readline()\n",
    "  print(f\"First line (header) looks like this:\\n{line}\")\n",
    "  line = training_file.readline()\n",
    "  print(f\"Each subsequent line (data points) look like this:\\n{line}\")"
   ]
  },
  {
   "cell_type": "markdown",
   "id": "08d6254e",
   "metadata": {
    "id": "08d6254e"
   },
   "source": [
    "As you can see, each file includes a header (the first line) and each subsequent data point is represented as a line that contains 785 values. \n",
    "\n",
    "The first value is the label (the numeric representation of each letter) and the other 784 values are the value of each pixel of the image. Remember that the original images have a resolution of 28x28, which sums up to 784 pixels."
   ]
  },
  {
   "cell_type": "markdown",
   "id": "4835085f",
   "metadata": {
    "id": "4835085f"
   },
   "source": [
    " ## Parsing the dataset\n",
    " \n",
    " Now complete the `parse_data_from_input` below.\n",
    "\n",
    " This function should be able to read a file passed as input and return 2 numpy arrays, one containing the labels and one containing the 28x28 representation of each image within the file. These numpy arrays should have type `float64`.\n",
    "\n",
    " A couple of things to keep in mind:\n",
    " \n",
    "- The first line contains the column headers, so you should ignore it.\n",
    "\n",
    "- Each successive line contains 785 comma-separated values between 0 and 255\n",
    "  - The first value is the label\n",
    "\n",
    "  - The rest are the pixel values for that picture\n",
    "\n",
    "  \n",
    "**Hint**:\n",
    "\n",
    "You have two options to solve this function. \n",
    "  \n",
    "   - 1. One is to use `csv.reader` and create a for loop that reads from it, if you take this approach take this into consideration:\n",
    "\n",
    "        - `csv.reader` returns an iterable that returns a row of the csv file in each iteration.\n",
    "    Following this convention, row[0] has the label and row[1:] has the 784 pixel values.\n",
    "\n",
    "        - To reshape the arrays (going from 784 to 28x28), you can use functions such as [`np.array_split`](https://numpy.org/doc/stable/reference/generated/numpy.array_split.html) or [`np.reshape`](https://numpy.org/doc/stable/reference/generated/numpy.reshape.html).\n",
    "\n",
    "        - For type conversion of the numpy arrays, use the method [`np.ndarray.astype`](https://numpy.org/doc/stable/reference/generated/numpy.ndarray.astype.html).\n",
    "\n",
    "\n",
    "   - 2. The other one is to use `np.loadtxt`. You can find the documentation [here](https://numpy.org/doc/stable/reference/generated/numpy.loadtxt.html).\n",
    "   \n",
    "   \n",
    "Regardless of the method you chose, your function should finish its execution in under 1 minute. If you see that your function is taking a long time to run, try changing your implementation."
   ]
  },
  {
   "cell_type": "code",
   "execution_count": 85,
   "id": "9a287df1",
   "metadata": {
    "cellView": "code",
    "id": "9a287df1",
    "lines_to_next_cell": 2,
    "tags": [
     "graded"
    ]
   },
   "outputs": [],
   "source": [
    "# grader-required-cell\n",
    "\n",
    "# GRADED FUNCTION: parse_data_from_input\n",
    "def parse_data_from_input(filename):\n",
    "  \"\"\"\n",
    "  Parses the images and labels from a CSV file\n",
    "  \n",
    "  Args:\n",
    "    filename (string): path to the CSV file\n",
    "    \n",
    "  Returns:\n",
    "    images, labels: tuple of numpy arrays containing the images and labels\n",
    "  \"\"\"\n",
    "  with open(filename) as file:\n",
    "    ### START CODE HERE\n",
    "\n",
    "    # Use csv.reader, passing in the appropriate delimiter\n",
    "    # Remember that csv.reader can be iterated and returns one line in each iteration\n",
    "    csv_reader = csv.reader(file, delimiter=',')\n",
    "    \n",
    "    next(csv_reader) # skip header\n",
    "    \n",
    "    labels = []\n",
    "    images = []\n",
    "    \n",
    "    for row in csv_reader:\n",
    "        labels.append(row[0])\n",
    "        image = np.array(row[1:], dtype=np.float64)\n",
    "        image = np.reshape(image, (28, 28))\n",
    "        images.append(image)\n",
    "            \n",
    "    labels = np.array(labels, dtype=np.float64)\n",
    "    images = np.array(images, dtype=np.float64)\n",
    "\n",
    "    \n",
    "    ### END CODE HERE\n",
    "\n",
    "    return images, labels"
   ]
  },
  {
   "cell_type": "code",
   "execution_count": 86,
   "id": "5fd73791",
   "metadata": {
    "colab": {
     "base_uri": "https://localhost:8080/"
    },
    "id": "5fd73791",
    "outputId": "7ce73543-8fce-424a-b611-8b8a85dd4d10",
    "tags": [
     "graded"
    ]
   },
   "outputs": [
    {
     "name": "stdout",
     "output_type": "stream",
     "text": [
      "Training images has shape: (27455, 28, 28) and dtype: float64\n",
      "Training labels has shape: (27455,) and dtype: float64\n",
      "Validation images has shape: (7172, 28, 28) and dtype: float64\n",
      "Validation labels has shape: (7172,) and dtype: float64\n"
     ]
    }
   ],
   "source": [
    "# grader-required-cell\n",
    "\n",
    "# Test your function\n",
    "training_images, training_labels = parse_data_from_input(TRAINING_FILE)\n",
    "validation_images, validation_labels = parse_data_from_input(VALIDATION_FILE)\n",
    "\n",
    "print(f\"Training images has shape: {training_images.shape} and dtype: {training_images.dtype}\")\n",
    "print(f\"Training labels has shape: {training_labels.shape} and dtype: {training_labels.dtype}\")\n",
    "print(f\"Validation images has shape: {validation_images.shape} and dtype: {validation_images.dtype}\")\n",
    "print(f\"Validation labels has shape: {validation_labels.shape} and dtype: {validation_labels.dtype}\")"
   ]
  },
  {
   "cell_type": "markdown",
   "id": "c462ef51",
   "metadata": {
    "id": "c462ef51"
   },
   "source": [
    "**Expected Output:**\n",
    "```\n",
    "Training images has shape: (27455, 28, 28) and dtype: float64\n",
    "Training labels has shape: (27455,) and dtype: float64\n",
    "Validation images has shape: (7172, 28, 28) and dtype: float64\n",
    "Validation labels has shape: (7172,) and dtype: float64\n",
    "```"
   ]
  },
  {
   "cell_type": "markdown",
   "id": "3275c697",
   "metadata": {
    "id": "3275c697"
   },
   "source": [
    "## Visualizing the numpy arrays\n",
    "\n",
    "Now that you have converted the initial csv data into a format that is compatible with computer vision tasks, take a moment to actually see how the images of the dataset look like:"
   ]
  },
  {
   "cell_type": "code",
   "execution_count": 87,
   "id": "d25f2fc4",
   "metadata": {
    "colab": {
     "base_uri": "https://localhost:8080/",
     "height": 150
    },
    "id": "d25f2fc4",
    "outputId": "0cd7c2d2-adeb-4fb4-9626-3d4c8b640985",
    "tags": []
   },
   "outputs": [
    {
     "data": {
      "image/png": "[encoded data removed]",
      "text/plain": [
       "<Figure size 1152x1080 with 10 Axes>"
      ]
     },
     "metadata": {
      "needs_background": "light"
     },
     "output_type": "display_data"
    }
   ],
   "source": [
    "# Plot a sample of 10 images from the training set\n",
    "def plot_categories(training_images, training_labels):\n",
    "  fig, axes = plt.subplots(1, 10, figsize=(16, 15))\n",
    "  axes = axes.flatten()\n",
    "  letters = list(string.ascii_lowercase)\n",
    "\n",
    "  for k in range(10):\n",
    "    img = training_images[k]\n",
    "    img = np.expand_dims(img, axis=-1)\n",
    "    img = array_to_img(img)\n",
    "    ax = axes[k]\n",
    "    ax.imshow(img, cmap=\"Greys_r\")\n",
    "    ax.set_title(f\"{letters[int(training_labels[k])]}\")\n",
    "    ax.set_axis_off()\n",
    "\n",
    "  plt.tight_layout()\n",
    "  plt.show()\n",
    "\n",
    "plot_categories(training_images, training_labels)"
   ]
  },
  {
   "cell_type": "markdown",
   "id": "387456dc",
   "metadata": {
    "id": "387456dc"
   },
   "source": [
    "## Creating the generators for the CNN\n",
    "\n",
    "Now that you have successfully organized the data in a way that can be easily fed to Keras' `ImageDataGenerator`, it is time for you to code the generators that will yield batches of images, both for training and validation. For this complete the `train_val_generators` function below.\n",
    "\n",
    "Some important notes:\n",
    "\n",
    "- The images in this dataset come in the same resolution so you don't need to set a custom `target_size` in this case. In fact, you can't even do so because this time you will not be using the `flow_from_directory` method (as in previous assignments). Instead you will use the [`flow`](https://www.tensorflow.org/api_docs/python/tf/keras/preprocessing/image/ImageDataGenerator#flow) method.\n",
    "- You need to add the \"color\" dimension to the numpy arrays that encode the images. These are black and white images, so this new dimension should have a size of 1 (instead of 3, which is used when dealing with colored images). Take a look at the function [`np.expand_dims`](https://numpy.org/doc/stable/reference/generated/numpy.expand_dims.html) for this."
   ]
  },
  {
   "cell_type": "code",
   "execution_count": 88,
   "id": "612e8e4c",
   "metadata": {
    "cellView": "code",
    "id": "612e8e4c",
    "lines_to_next_cell": 2,
    "tags": [
     "graded"
    ]
   },
   "outputs": [],
   "source": [
    "# grader-required-cell\n",
    "\n",
    "# GRADED FUNCTION: train_val_generators\n",
    "def train_val_generators(training_images, training_labels, validation_images, validation_labels):\n",
    "  \"\"\"\n",
    "  Creates the training and validation data generators\n",
    "  \n",
    "  Args:\n",
    "    training_images (array): parsed images from the train CSV file\n",
    "    training_labels (array): parsed labels from the train CSV file\n",
    "    validation_images (array): parsed images from the test CSV file\n",
    "    validation_labels (array): parsed labels from the test CSV file\n",
    "    \n",
    "  Returns:\n",
    "    train_generator, validation_generator - tuple containing the generators\n",
    "  \"\"\"\n",
    "  ### START CODE HERE\n",
    "\n",
    "  # In this section you will have to add another dimension to the data\n",
    "  # So, for example, if your array is (10000, 28, 28)\n",
    "  # You will need to make it (10000, 28, 28, 1)\n",
    "  # Hint: np.expand_dims\n",
    "  training_images = np.expand_dims(training_images, axis=-1)\n",
    "  validation_images = np.expand_dims(validation_images, axis=-1)\n",
    "\n",
    "  # Instantiate the ImageDataGenerator class \n",
    "  # Don't forget to normalize pixel values \n",
    "  # and set arguments to augment the images (if desired)\n",
    "  train_datagen = ImageDataGenerator(\n",
    "      rescale = 1./255., \n",
    "      rotation_range=40,\n",
    "      width_shift_range=0.2,\n",
    "      height_shift_range=0.2,\n",
    "      shear_range=0.2,\n",
    "      zoom_range=0.2,\n",
    "      horizontal_flip=True,\n",
    "      fill_mode='nearest'\n",
    "      )\n",
    "\n",
    "\n",
    "  # Pass in the appropriate arguments to the flow method\n",
    "  train_generator = train_datagen.flow(x=training_images,\n",
    "                                       y=training_labels,\n",
    "                                       batch_size=32)  \n",
    "\n",
    "  \n",
    "  # Instantiate the ImageDataGenerator class (don't forget to set the rescale argument)\n",
    "  # Remember that validation data should not be augmented\n",
    "  validation_datagen = ImageDataGenerator(rescale = 1./255)\n",
    "\n",
    "  # Pass in the appropriate arguments to the flow method\n",
    "  validation_generator = validation_datagen.flow(x=validation_images,\n",
    "                                                 y=validation_labels,\n",
    "                                                 batch_size=32) \n",
    "\n",
    "  ### END CODE HERE\n",
    "\n",
    "  return train_generator, validation_generator"
   ]
  },
  {
   "cell_type": "code",
   "execution_count": 89,
   "id": "ca82557c",
   "metadata": {
    "colab": {
     "base_uri": "https://localhost:8080/"
    },
    "id": "ca82557c",
    "outputId": "2a8b0eca-8423-42d2-a186-7e5902e0e826",
    "tags": [
     "graded"
    ]
   },
   "outputs": [
    {
     "name": "stdout",
     "output_type": "stream",
     "text": [
      "Images of training generator have shape: (27455, 28, 28, 1)\n",
      "Labels of training generator have shape: (27455,)\n",
      "Images of validation generator have shape: (7172, 28, 28, 1)\n",
      "Labels of validation generator have shape: (7172,)\n"
     ]
    }
   ],
   "source": [
    "# grader-required-cell\n",
    "\n",
    "# Test your generators\n",
    "train_generator, validation_generator = train_val_generators(training_images, training_labels, validation_images, validation_labels)\n",
    "\n",
    "print(f\"Images of training generator have shape: {train_generator.x.shape}\")\n",
    "print(f\"Labels of training generator have shape: {train_generator.y.shape}\")\n",
    "print(f\"Images of validation generator have shape: {validation_generator.x.shape}\")\n",
    "print(f\"Labels of validation generator have shape: {validation_generator.y.shape}\")"
   ]
  },
  {
   "cell_type": "markdown",
   "id": "787a2ec0",
   "metadata": {
    "id": "787a2ec0"
   },
   "source": [
    "**Expected Output:**\n",
    "```\n",
    "Images of training generator have shape: (27455, 28, 28, 1)\n",
    "Labels of training generator have shape: (27455,)\n",
    "Images of validation generator have shape: (7172, 28, 28, 1)\n",
    "Labels of validation generator have shape: (7172,)\n",
    "```"
   ]
  },
  {
   "cell_type": "markdown",
   "id": "a125c368",
   "metadata": {
    "id": "a125c368"
   },
   "source": [
    "## Coding the CNN\n",
    "\n",
    "One last step before training is to define the architecture of the model that will be trained.\n",
    "\n",
    "Complete the `create_model` function below. This function should return a Keras' model that uses the `Sequential` or the `Functional` API.\n",
    "\n",
    "The last layer of your model should have a number of units that corresponds to the number of possible categories, as well as the correct activation function.\n",
    "\n",
    "Aside from defining the architecture of the model, you should also compile it so make sure to use a `loss` function that is suitable for multi-class classification.\n",
    "\n",
    "**Note that you should use no more than 2 Conv2D and 2 MaxPooling2D layers to achieve the desired performance.**"
   ]
  },
  {
   "cell_type": "code",
   "execution_count": 90,
   "id": "eb9eeb74",
   "metadata": {
    "cellView": "code",
    "id": "eb9eeb74",
    "tags": [
     "graded"
    ]
   },
   "outputs": [],
   "source": [
    "# grader-required-cell\n",
    "\n",
    "def create_model():\n",
    "\n",
    "  ### START CODE HERE       \n",
    "\n",
    "  # Define the model\n",
    "  # Use no more than 2 Conv2D and 2 MaxPooling2D\n",
    "  model = tf.keras.models.Sequential([\n",
    "    tf.keras.layers.Conv2D(64, (3, 3), activation='relu', input_shape=(28, 28, 1)),\n",
    "    tf.keras.layers.MaxPooling2D(2, 2),\n",
    "    tf.keras.layers.Conv2D(64, (3, 3), activation='relu', input_shape=(28, 28, 1)),\n",
    "    tf.keras.layers.MaxPooling2D(2, 2),\n",
    "    # Flatten\n",
    "    tf.keras.layers.Flatten(),\n",
    "    tf.keras.layers.Dense(512, activation='relu'),\n",
    "    # 26 classes\n",
    "    tf.keras.layers.Dense(26, activation='softmax')\n",
    "  ])\n",
    "  \n",
    "\n",
    "  model.compile(loss = 'sparse_categorical_crossentropy', \n",
    "                optimizer=tf.optimizers.Adam(), \n",
    "                # optimizer='rmsprop',\n",
    "                metrics=['accuracy'])\n",
    "\n",
    "  ### END CODE HERE       \n",
    "  \n",
    "  return model"
   ]
  },
  {
   "cell_type": "code",
   "execution_count": 91,
   "id": "b337357c",
   "metadata": {
    "colab": {
     "base_uri": "https://localhost:8080/"
    },
    "id": "b337357c",
    "lines_to_next_cell": 2,
    "outputId": "da172c85-0809-4edd-ab8e-d79e15da0b49",
    "tags": []
   },
   "outputs": [
    {
     "name": "stdout",
     "output_type": "stream",
     "text": [
      "Epoch 1/150\n",
      "858/858 [==============================] - 16s 16ms/step - loss: 2.5853 - accuracy: 0.2065 - val_loss: 1.7485 - val_accuracy: 0.4050\n",
      "Epoch 2/150\n",
      "858/858 [==============================] - 13s 16ms/step - loss: 1.7272 - accuracy: 0.4453 - val_loss: 1.0026 - val_accuracy: 0.6474\n",
      "Epoch 3/150\n",
      "858/858 [==============================] - 15s 17ms/step - loss: 1.2944 - accuracy: 0.5704 - val_loss: 0.8676 - val_accuracy: 0.6810\n",
      "Epoch 4/150\n",
      "858/858 [==============================] - 14s 16ms/step - loss: 1.0535 - accuracy: 0.6535 - val_loss: 0.6005 - val_accuracy: 0.7812\n",
      "Epoch 5/150\n",
      "858/858 [==============================] - 13s 16ms/step - loss: 0.8810 - accuracy: 0.7105 - val_loss: 0.4322 - val_accuracy: 0.8419\n",
      "Epoch 6/150\n",
      "858/858 [==============================] - 13s 16ms/step - loss: 0.7575 - accuracy: 0.7475 - val_loss: 0.3894 - val_accuracy: 0.8536\n",
      "Epoch 7/150\n",
      "858/858 [==============================] - 14s 17ms/step - loss: 0.6678 - accuracy: 0.7779 - val_loss: 0.3316 - val_accuracy: 0.8611\n",
      "Epoch 8/150\n",
      "858/858 [==============================] - 13s 16ms/step - loss: 0.6050 - accuracy: 0.7947 - val_loss: 0.2155 - val_accuracy: 0.9131\n",
      "Epoch 9/150\n",
      "858/858 [==============================] - 13s 16ms/step - loss: 0.5454 - accuracy: 0.8171 - val_loss: 0.2340 - val_accuracy: 0.9136\n",
      "Epoch 10/150\n",
      "858/858 [==============================] - 14s 16ms/step - loss: 0.4982 - accuracy: 0.8337 - val_loss: 0.1879 - val_accuracy: 0.9446\n",
      "Epoch 11/150\n",
      "858/858 [==============================] - 14s 17ms/step - loss: 0.4775 - accuracy: 0.8413 - val_loss: 0.2429 - val_accuracy: 0.9102\n",
      "Epoch 12/150\n",
      "858/858 [==============================] - 13s 16ms/step - loss: 0.4393 - accuracy: 0.8530 - val_loss: 0.1381 - val_accuracy: 0.9462\n",
      "Epoch 13/150\n",
      "858/858 [==============================] - 13s 16ms/step - loss: 0.4006 - accuracy: 0.8637 - val_loss: 0.1703 - val_accuracy: 0.9402\n",
      "Epoch 14/150\n",
      "858/858 [==============================] - 14s 16ms/step - loss: 0.3897 - accuracy: 0.8702 - val_loss: 0.1736 - val_accuracy: 0.9452\n",
      "Epoch 15/150\n",
      "858/858 [==============================] - 14s 16ms/step - loss: 0.3735 - accuracy: 0.8755 - val_loss: 0.1230 - val_accuracy: 0.9571\n",
      "Epoch 16/150\n",
      "858/858 [==============================] - 14s 16ms/step - loss: 0.3519 - accuracy: 0.8826 - val_loss: 0.1278 - val_accuracy: 0.9565\n",
      "Epoch 17/150\n",
      "858/858 [==============================] - 14s 16ms/step - loss: 0.3455 - accuracy: 0.8855 - val_loss: 0.1643 - val_accuracy: 0.9487\n",
      "Epoch 18/150\n",
      "858/858 [==============================] - 15s 17ms/step - loss: 0.3262 - accuracy: 0.8922 - val_loss: 0.2610 - val_accuracy: 0.9147\n",
      "Epoch 19/150\n",
      "858/858 [==============================] - 14s 16ms/step - loss: 0.3020 - accuracy: 0.8979 - val_loss: 0.0775 - val_accuracy: 0.9734\n",
      "Epoch 20/150\n",
      "858/858 [==============================] - 14s 17ms/step - loss: 0.3021 - accuracy: 0.9017 - val_loss: 0.1660 - val_accuracy: 0.9452\n",
      "Epoch 21/150\n",
      "858/858 [==============================] - 15s 17ms/step - loss: 0.2901 - accuracy: 0.9042 - val_loss: 0.1398 - val_accuracy: 0.9463\n",
      "Epoch 22/150\n",
      "858/858 [==============================] - 14s 17ms/step - loss: 0.2793 - accuracy: 0.9070 - val_loss: 0.0684 - val_accuracy: 0.9753\n",
      "Epoch 23/150\n",
      "858/858 [==============================] - 14s 16ms/step - loss: 0.2680 - accuracy: 0.9110 - val_loss: 0.0721 - val_accuracy: 0.9801\n",
      "Epoch 24/150\n",
      "858/858 [==============================] - 14s 16ms/step - loss: 0.2566 - accuracy: 0.9139 - val_loss: 0.1082 - val_accuracy: 0.9752\n",
      "Epoch 25/150\n",
      "858/858 [==============================] - 14s 17ms/step - loss: 0.2504 - accuracy: 0.9157 - val_loss: 0.0991 - val_accuracy: 0.9636\n",
      "Epoch 26/150\n",
      "858/858 [==============================] - 14s 16ms/step - loss: 0.2498 - accuracy: 0.9161 - val_loss: 0.1187 - val_accuracy: 0.9582\n",
      "Epoch 27/150\n",
      "858/858 [==============================] - 14s 16ms/step - loss: 0.2346 - accuracy: 0.9224 - val_loss: 0.1090 - val_accuracy: 0.9646\n",
      "Epoch 28/150\n",
      "858/858 [==============================] - 14s 16ms/step - loss: 0.2399 - accuracy: 0.9210 - val_loss: 0.1514 - val_accuracy: 0.9498\n",
      "Epoch 29/150\n",
      "858/858 [==============================] - 15s 17ms/step - loss: 0.2289 - accuracy: 0.9244 - val_loss: 0.0938 - val_accuracy: 0.9704\n",
      "Epoch 30/150\n",
      "858/858 [==============================] - 14s 17ms/step - loss: 0.2248 - accuracy: 0.9244 - val_loss: 0.0792 - val_accuracy: 0.9695\n",
      "Epoch 31/150\n",
      "858/858 [==============================] - 14s 16ms/step - loss: 0.2187 - accuracy: 0.9264 - val_loss: 0.0975 - val_accuracy: 0.9653\n",
      "Epoch 32/150\n",
      "858/858 [==============================] - 14s 16ms/step - loss: 0.2181 - accuracy: 0.9289 - val_loss: 0.0838 - val_accuracy: 0.9724\n",
      "Epoch 33/150\n",
      "858/858 [==============================] - 15s 17ms/step - loss: 0.2137 - accuracy: 0.9280 - val_loss: 0.0722 - val_accuracy: 0.9771\n",
      "Epoch 34/150\n",
      "858/858 [==============================] - 14s 16ms/step - loss: 0.2022 - accuracy: 0.9325 - val_loss: 0.0763 - val_accuracy: 0.9709\n",
      "Epoch 35/150\n",
      "858/858 [==============================] - 14s 16ms/step - loss: 0.2005 - accuracy: 0.9322 - val_loss: 0.0695 - val_accuracy: 0.9777\n",
      "Epoch 36/150\n",
      "858/858 [==============================] - 14s 16ms/step - loss: 0.2017 - accuracy: 0.9336 - val_loss: 0.0929 - val_accuracy: 0.9697\n",
      "Epoch 37/150\n",
      "858/858 [==============================] - 15s 18ms/step - loss: 0.1939 - accuracy: 0.9360 - val_loss: 0.1218 - val_accuracy: 0.9593\n",
      "Epoch 38/150\n",
      "858/858 [==============================] - 14s 17ms/step - loss: 0.1902 - accuracy: 0.9368 - val_loss: 0.0745 - val_accuracy: 0.9752\n",
      "Epoch 39/150\n",
      "858/858 [==============================] - 14s 16ms/step - loss: 0.1786 - accuracy: 0.9414 - val_loss: 0.1385 - val_accuracy: 0.9591\n",
      "Epoch 40/150\n",
      "858/858 [==============================] - 14s 16ms/step - loss: 0.1842 - accuracy: 0.9392 - val_loss: 0.0530 - val_accuracy: 0.9795\n",
      "Epoch 41/150\n",
      "858/858 [==============================] - 15s 17ms/step - loss: 0.1758 - accuracy: 0.9409 - val_loss: 0.0572 - val_accuracy: 0.9798\n",
      "Epoch 42/150\n",
      "858/858 [==============================] - 14s 16ms/step - loss: 0.1829 - accuracy: 0.9392 - val_loss: 0.0465 - val_accuracy: 0.9812\n",
      "Epoch 43/150\n",
      "858/858 [==============================] - 14s 16ms/step - loss: 0.1805 - accuracy: 0.9422 - val_loss: 0.0948 - val_accuracy: 0.9679\n",
      "Epoch 44/150\n",
      "858/858 [==============================] - 15s 17ms/step - loss: 0.1644 - accuracy: 0.9442 - val_loss: 0.0535 - val_accuracy: 0.9796\n",
      "Epoch 45/150\n",
      "858/858 [==============================] - 14s 16ms/step - loss: 0.1731 - accuracy: 0.9439 - val_loss: 0.0976 - val_accuracy: 0.9644\n",
      "Epoch 46/150\n",
      "858/858 [==============================] - 14s 16ms/step - loss: 0.1765 - accuracy: 0.9425 - val_loss: 0.0745 - val_accuracy: 0.9776\n",
      "Epoch 47/150\n",
      "858/858 [==============================] - 14s 17ms/step - loss: 0.1636 - accuracy: 0.9462 - val_loss: 0.0892 - val_accuracy: 0.9677\n",
      "Epoch 48/150\n",
      "858/858 [==============================] - 15s 17ms/step - loss: 0.1679 - accuracy: 0.9458 - val_loss: 0.0864 - val_accuracy: 0.9707\n",
      "Epoch 49/150\n",
      "858/858 [==============================] - 14s 17ms/step - loss: 0.1606 - accuracy: 0.9490 - val_loss: 0.0531 - val_accuracy: 0.9816\n",
      "Epoch 50/150\n",
      "858/858 [==============================] - 15s 17ms/step - loss: 0.1589 - accuracy: 0.9487 - val_loss: 0.0300 - val_accuracy: 0.9905\n",
      "Epoch 51/150\n",
      "858/858 [==============================] - 15s 18ms/step - loss: 0.1553 - accuracy: 0.9484 - val_loss: 0.0769 - val_accuracy: 0.9723\n",
      "Epoch 52/150\n",
      "858/858 [==============================] - 14s 16ms/step - loss: 0.1616 - accuracy: 0.9467 - val_loss: 0.0803 - val_accuracy: 0.9685\n",
      "Epoch 53/150\n",
      "858/858 [==============================] - 14s 16ms/step - loss: 0.1656 - accuracy: 0.9461 - val_loss: 0.0805 - val_accuracy: 0.9721\n",
      "Epoch 54/150\n",
      "858/858 [==============================] - 15s 17ms/step - loss: 0.1552 - accuracy: 0.9484 - val_loss: 0.0341 - val_accuracy: 0.9881\n",
      "Epoch 55/150\n",
      "858/858 [==============================] - 14s 16ms/step - loss: 0.1461 - accuracy: 0.9521 - val_loss: 0.0512 - val_accuracy: 0.9834\n",
      "Epoch 56/150\n",
      "858/858 [==============================] - 15s 17ms/step - loss: 0.1561 - accuracy: 0.9490 - val_loss: 0.0522 - val_accuracy: 0.9803\n",
      "Epoch 57/150\n",
      "858/858 [==============================] - 14s 17ms/step - loss: 0.1506 - accuracy: 0.9497 - val_loss: 0.0532 - val_accuracy: 0.9792\n",
      "Epoch 58/150\n",
      "858/858 [==============================] - 15s 18ms/step - loss: 0.1470 - accuracy: 0.9505 - val_loss: 0.0607 - val_accuracy: 0.9792\n",
      "Epoch 59/150\n",
      "858/858 [==============================] - 15s 17ms/step - loss: 0.1450 - accuracy: 0.9524 - val_loss: 0.0284 - val_accuracy: 0.9912\n",
      "Epoch 60/150\n",
      "858/858 [==============================] - 14s 17ms/step - loss: 0.1443 - accuracy: 0.9537 - val_loss: 0.0526 - val_accuracy: 0.9840\n",
      "Epoch 61/150\n",
      "858/858 [==============================] - 15s 17ms/step - loss: 0.1439 - accuracy: 0.9532 - val_loss: 0.0636 - val_accuracy: 0.9805\n",
      "Epoch 62/150\n",
      "858/858 [==============================] - 14s 16ms/step - loss: 0.1383 - accuracy: 0.9553 - val_loss: 0.0798 - val_accuracy: 0.9693\n",
      "Epoch 63/150\n",
      "858/858 [==============================] - 14s 17ms/step - loss: 0.1360 - accuracy: 0.9556 - val_loss: 0.0830 - val_accuracy: 0.9714\n",
      "Epoch 64/150\n",
      "858/858 [==============================] - 14s 17ms/step - loss: 0.1444 - accuracy: 0.9518 - val_loss: 0.0270 - val_accuracy: 0.9911\n",
      "Epoch 65/150\n",
      "858/858 [==============================] - 16s 19ms/step - loss: 0.1357 - accuracy: 0.9555 - val_loss: 0.0482 - val_accuracy: 0.9819\n",
      "Epoch 66/150\n",
      "858/858 [==============================] - 15s 17ms/step - loss: 0.1365 - accuracy: 0.9557 - val_loss: 0.0476 - val_accuracy: 0.9861\n",
      "Epoch 67/150\n",
      "858/858 [==============================] - 15s 17ms/step - loss: 0.1305 - accuracy: 0.9568 - val_loss: 0.0448 - val_accuracy: 0.9813\n",
      "Epoch 68/150\n",
      "858/858 [==============================] - 15s 17ms/step - loss: 0.1329 - accuracy: 0.9571 - val_loss: 0.0371 - val_accuracy: 0.9835\n",
      "Epoch 69/150\n",
      "858/858 [==============================] - 16s 18ms/step - loss: 0.1345 - accuracy: 0.9572 - val_loss: 0.0476 - val_accuracy: 0.9845\n",
      "Epoch 70/150\n",
      "858/858 [==============================] - 16s 18ms/step - loss: 0.1304 - accuracy: 0.9577 - val_loss: 0.0456 - val_accuracy: 0.9831\n",
      "Epoch 71/150\n",
      "858/858 [==============================] - 15s 18ms/step - loss: 0.1305 - accuracy: 0.9560 - val_loss: 0.0453 - val_accuracy: 0.9826\n",
      "Epoch 72/150\n",
      "858/858 [==============================] - 16s 18ms/step - loss: 0.1292 - accuracy: 0.9585 - val_loss: 0.0468 - val_accuracy: 0.9791\n",
      "Epoch 73/150\n",
      "858/858 [==============================] - 15s 17ms/step - loss: 0.1241 - accuracy: 0.9585 - val_loss: 0.0763 - val_accuracy: 0.9776\n",
      "Epoch 74/150\n",
      "858/858 [==============================] - 14s 17ms/step - loss: 0.1235 - accuracy: 0.9602 - val_loss: 0.1090 - val_accuracy: 0.9739\n",
      "Epoch 75/150\n",
      "858/858 [==============================] - 15s 18ms/step - loss: 0.1292 - accuracy: 0.9584 - val_loss: 0.0323 - val_accuracy: 0.9872\n",
      "Epoch 76/150\n",
      "858/858 [==============================] - 15s 18ms/step - loss: 0.1285 - accuracy: 0.9590 - val_loss: 0.0534 - val_accuracy: 0.9827\n",
      "Epoch 77/150\n",
      "858/858 [==============================] - 14s 17ms/step - loss: 0.1253 - accuracy: 0.9589 - val_loss: 0.0726 - val_accuracy: 0.9778\n",
      "Epoch 78/150\n",
      "858/858 [==============================] - 14s 17ms/step - loss: 0.1203 - accuracy: 0.9619 - val_loss: 0.0494 - val_accuracy: 0.9879\n",
      "Epoch 79/150\n",
      "858/858 [==============================] - 15s 17ms/step - loss: 0.1215 - accuracy: 0.9600 - val_loss: 0.0914 - val_accuracy: 0.9762\n",
      "Epoch 80/150\n",
      "858/858 [==============================] - 16s 19ms/step - loss: 0.1205 - accuracy: 0.9620 - val_loss: 0.0209 - val_accuracy: 0.9948\n",
      "Epoch 81/150\n",
      "858/858 [==============================] - 15s 17ms/step - loss: 0.1234 - accuracy: 0.9598 - val_loss: 0.0572 - val_accuracy: 0.9861\n",
      "Epoch 82/150\n",
      "858/858 [==============================] - 14s 17ms/step - loss: 0.1222 - accuracy: 0.9603 - val_loss: 0.0293 - val_accuracy: 0.9883\n",
      "Epoch 83/150\n",
      "858/858 [==============================] - 15s 18ms/step - loss: 0.1144 - accuracy: 0.9627 - val_loss: 0.0451 - val_accuracy: 0.9855\n",
      "Epoch 84/150\n",
      "858/858 [==============================] - 15s 17ms/step - loss: 0.1184 - accuracy: 0.9609 - val_loss: 0.0409 - val_accuracy: 0.9856\n",
      "Epoch 85/150\n",
      "858/858 [==============================] - 15s 18ms/step - loss: 0.1288 - accuracy: 0.9575 - val_loss: 0.0457 - val_accuracy: 0.9854\n",
      "Epoch 86/150\n",
      "858/858 [==============================] - 14s 17ms/step - loss: 0.1147 - accuracy: 0.9616 - val_loss: 0.0532 - val_accuracy: 0.9873\n",
      "Epoch 87/150\n",
      "858/858 [==============================] - 15s 18ms/step - loss: 0.1176 - accuracy: 0.9624 - val_loss: 0.0252 - val_accuracy: 0.9926\n",
      "Epoch 88/150\n",
      "858/858 [==============================] - 15s 18ms/step - loss: 0.1073 - accuracy: 0.9645 - val_loss: 0.0562 - val_accuracy: 0.9819\n",
      "Epoch 89/150\n",
      "858/858 [==============================] - 15s 17ms/step - loss: 0.1183 - accuracy: 0.9632 - val_loss: 0.0217 - val_accuracy: 0.9932\n",
      "Epoch 90/150\n",
      "858/858 [==============================] - 16s 19ms/step - loss: 0.1117 - accuracy: 0.9639 - val_loss: 0.0803 - val_accuracy: 0.9792\n",
      "Epoch 91/150\n",
      "858/858 [==============================] - 15s 17ms/step - loss: 0.1079 - accuracy: 0.9650 - val_loss: 0.0308 - val_accuracy: 0.9883\n",
      "Epoch 92/150\n",
      "858/858 [==============================] - 14s 17ms/step - loss: 0.1164 - accuracy: 0.9615 - val_loss: 0.0243 - val_accuracy: 0.9918\n",
      "Epoch 93/150\n",
      "858/858 [==============================] - 15s 18ms/step - loss: 0.1091 - accuracy: 0.9650 - val_loss: 0.0219 - val_accuracy: 0.9921\n",
      "Epoch 94/150\n",
      "858/858 [==============================] - 15s 18ms/step - loss: 0.1147 - accuracy: 0.9633 - val_loss: 0.0348 - val_accuracy: 0.9872\n",
      "Epoch 95/150\n",
      "858/858 [==============================] - 14s 17ms/step - loss: 0.1075 - accuracy: 0.9655 - val_loss: 0.0457 - val_accuracy: 0.9820\n",
      "Epoch 96/150\n",
      "858/858 [==============================] - 14s 17ms/step - loss: 0.1061 - accuracy: 0.9662 - val_loss: 0.0805 - val_accuracy: 0.9720\n",
      "Epoch 97/150\n",
      "858/858 [==============================] - 14s 17ms/step - loss: 0.1165 - accuracy: 0.9622 - val_loss: 0.1008 - val_accuracy: 0.9770\n",
      "Epoch 98/150\n",
      "858/858 [==============================] - 16s 18ms/step - loss: 0.1071 - accuracy: 0.9655 - val_loss: 0.0389 - val_accuracy: 0.9856\n",
      "Epoch 99/150\n",
      "858/858 [==============================] - 15s 17ms/step - loss: 0.1130 - accuracy: 0.9638 - val_loss: 0.0340 - val_accuracy: 0.9868\n",
      "Epoch 100/150\n",
      "858/858 [==============================] - 14s 17ms/step - loss: 0.1074 - accuracy: 0.9645 - val_loss: 0.0711 - val_accuracy: 0.9721\n",
      "Epoch 101/150\n",
      "858/858 [==============================] - 16s 19ms/step - loss: 0.1053 - accuracy: 0.9662 - val_loss: 0.0136 - val_accuracy: 0.9961\n",
      "Epoch 102/150\n",
      "858/858 [==============================] - 14s 17ms/step - loss: 0.1107 - accuracy: 0.9642 - val_loss: 0.0323 - val_accuracy: 0.9904\n",
      "Epoch 103/150\n",
      "858/858 [==============================] - 14s 17ms/step - loss: 0.0996 - accuracy: 0.9675 - val_loss: 0.0262 - val_accuracy: 0.9907\n",
      "Epoch 104/150\n",
      "858/858 [==============================] - 14s 17ms/step - loss: 0.0998 - accuracy: 0.9681 - val_loss: 0.0346 - val_accuracy: 0.9865\n",
      "Epoch 105/150\n",
      "858/858 [==============================] - 16s 19ms/step - loss: 0.1057 - accuracy: 0.9657 - val_loss: 0.0323 - val_accuracy: 0.9915\n",
      "Epoch 106/150\n",
      "858/858 [==============================] - 14s 17ms/step - loss: 0.1035 - accuracy: 0.9665 - val_loss: 0.0279 - val_accuracy: 0.9900\n",
      "Epoch 107/150\n",
      "858/858 [==============================] - 15s 17ms/step - loss: 0.1012 - accuracy: 0.9681 - val_loss: 0.0722 - val_accuracy: 0.9796\n",
      "Epoch 108/150\n",
      "858/858 [==============================] - 15s 18ms/step - loss: 0.1079 - accuracy: 0.9649 - val_loss: 0.0606 - val_accuracy: 0.9760\n",
      "Epoch 109/150\n",
      "858/858 [==============================] - 15s 17ms/step - loss: 0.1035 - accuracy: 0.9658 - val_loss: 0.0318 - val_accuracy: 0.9880\n",
      "Epoch 110/150\n",
      "858/858 [==============================] - 16s 18ms/step - loss: 0.1027 - accuracy: 0.9671 - val_loss: 0.0569 - val_accuracy: 0.9828\n",
      "Epoch 111/150\n",
      "858/858 [==============================] - 15s 17ms/step - loss: 0.1002 - accuracy: 0.9668 - val_loss: 0.0346 - val_accuracy: 0.9869\n",
      "Epoch 112/150\n",
      "858/858 [==============================] - 16s 18ms/step - loss: 0.1002 - accuracy: 0.9673 - val_loss: 0.0704 - val_accuracy: 0.9782\n",
      "Epoch 113/150\n",
      "858/858 [==============================] - 15s 17ms/step - loss: 0.0981 - accuracy: 0.9681 - val_loss: 0.0583 - val_accuracy: 0.9798\n",
      "Epoch 114/150\n",
      "858/858 [==============================] - 15s 17ms/step - loss: 0.0989 - accuracy: 0.9691 - val_loss: 0.0237 - val_accuracy: 0.9915\n",
      "Epoch 115/150\n",
      "858/858 [==============================] - 16s 19ms/step - loss: 0.1031 - accuracy: 0.9679 - val_loss: 0.0425 - val_accuracy: 0.9868\n",
      "Epoch 116/150\n",
      "858/858 [==============================] - 16s 19ms/step - loss: 0.1040 - accuracy: 0.9667 - val_loss: 0.0278 - val_accuracy: 0.9909\n",
      "Epoch 117/150\n",
      "858/858 [==============================] - 15s 17ms/step - loss: 0.1004 - accuracy: 0.9674 - val_loss: 0.0528 - val_accuracy: 0.9879\n",
      "Epoch 118/150\n",
      "858/858 [==============================] - 15s 17ms/step - loss: 0.1008 - accuracy: 0.9679 - val_loss: 0.0811 - val_accuracy: 0.9803\n",
      "Epoch 119/150\n",
      "858/858 [==============================] - 16s 18ms/step - loss: 0.0940 - accuracy: 0.9701 - val_loss: 0.0194 - val_accuracy: 0.9951\n",
      "Epoch 120/150\n",
      "858/858 [==============================] - 15s 17ms/step - loss: 0.0986 - accuracy: 0.9670 - val_loss: 0.0691 - val_accuracy: 0.9858\n",
      "Epoch 121/150\n",
      "858/858 [==============================] - 15s 17ms/step - loss: 0.0992 - accuracy: 0.9673 - val_loss: 0.0743 - val_accuracy: 0.9796\n",
      "Epoch 122/150\n",
      "858/858 [==============================] - 16s 18ms/step - loss: 0.0989 - accuracy: 0.9681 - val_loss: 0.0763 - val_accuracy: 0.9756\n",
      "Epoch 123/150\n",
      "858/858 [==============================] - 16s 18ms/step - loss: 0.0956 - accuracy: 0.9690 - val_loss: 0.0167 - val_accuracy: 0.9925\n",
      "Epoch 124/150\n",
      "858/858 [==============================] - 15s 17ms/step - loss: 0.0975 - accuracy: 0.9700 - val_loss: 0.0135 - val_accuracy: 0.9957\n",
      "Epoch 125/150\n",
      "858/858 [==============================] - 15s 17ms/step - loss: 0.0929 - accuracy: 0.9702 - val_loss: 0.0120 - val_accuracy: 0.9969\n",
      "Epoch 126/150\n",
      "858/858 [==============================] - 16s 19ms/step - loss: 0.1010 - accuracy: 0.9675 - val_loss: 0.0156 - val_accuracy: 0.9948\n",
      "Epoch 127/150\n",
      "858/858 [==============================] - 15s 17ms/step - loss: 0.0957 - accuracy: 0.9698 - val_loss: 0.0364 - val_accuracy: 0.9869\n",
      "Epoch 128/150\n",
      "858/858 [==============================] - 15s 17ms/step - loss: 0.0970 - accuracy: 0.9699 - val_loss: 0.0170 - val_accuracy: 0.9944\n",
      "Epoch 129/150\n",
      "858/858 [==============================] - 15s 18ms/step - loss: 0.0909 - accuracy: 0.9704 - val_loss: 0.0202 - val_accuracy: 0.9943\n",
      "Epoch 130/150\n",
      "858/858 [==============================] - 15s 17ms/step - loss: 0.0886 - accuracy: 0.9719 - val_loss: 0.0314 - val_accuracy: 0.9881\n",
      "Epoch 131/150\n",
      "858/858 [==============================] - 15s 17ms/step - loss: 0.0927 - accuracy: 0.9704 - val_loss: 0.0692 - val_accuracy: 0.9759\n",
      "Epoch 132/150\n",
      "858/858 [==============================] - 15s 18ms/step - loss: 0.0935 - accuracy: 0.9706 - val_loss: 0.0535 - val_accuracy: 0.9817\n",
      "Epoch 133/150\n",
      "858/858 [==============================] - 16s 19ms/step - loss: 0.0977 - accuracy: 0.9704 - val_loss: 0.0247 - val_accuracy: 0.9925\n",
      "Epoch 134/150\n",
      "858/858 [==============================] - 15s 17ms/step - loss: 0.0926 - accuracy: 0.9705 - val_loss: 0.0163 - val_accuracy: 0.9918\n",
      "Epoch 135/150\n",
      "858/858 [==============================] - 16s 18ms/step - loss: 0.0960 - accuracy: 0.9683 - val_loss: 0.0353 - val_accuracy: 0.9877\n",
      "Epoch 136/150\n",
      "858/858 [==============================] - 15s 18ms/step - loss: 0.0892 - accuracy: 0.9712 - val_loss: 0.0189 - val_accuracy: 0.9919\n",
      "Epoch 137/150\n",
      "858/858 [==============================] - 15s 17ms/step - loss: 0.0920 - accuracy: 0.9716 - val_loss: 0.0317 - val_accuracy: 0.9915\n",
      "Epoch 138/150\n",
      "858/858 [==============================] - 16s 18ms/step - loss: 0.0937 - accuracy: 0.9712 - val_loss: 0.0370 - val_accuracy: 0.9890\n",
      "Epoch 139/150\n",
      "858/858 [==============================] - 15s 17ms/step - loss: 0.0914 - accuracy: 0.9704 - val_loss: 0.0136 - val_accuracy: 0.9957\n",
      "Epoch 140/150\n",
      "858/858 [==============================] - 16s 18ms/step - loss: 0.0891 - accuracy: 0.9729 - val_loss: 0.0282 - val_accuracy: 0.9895\n",
      "Epoch 141/150\n",
      "858/858 [==============================] - 15s 18ms/step - loss: 0.0858 - accuracy: 0.9721 - val_loss: 0.0172 - val_accuracy: 0.9921\n",
      "Epoch 142/150\n",
      "858/858 [==============================] - 15s 17ms/step - loss: 0.0956 - accuracy: 0.9712 - val_loss: 0.0617 - val_accuracy: 0.9823\n",
      "Epoch 143/150\n",
      "858/858 [==============================] - 16s 18ms/step - loss: 0.0958 - accuracy: 0.9699 - val_loss: 0.0534 - val_accuracy: 0.9817\n",
      "Epoch 144/150\n",
      "858/858 [==============================] - 15s 17ms/step - loss: 0.0874 - accuracy: 0.9713 - val_loss: 0.0443 - val_accuracy: 0.9861\n",
      "Epoch 145/150\n",
      "858/858 [==============================] - 15s 18ms/step - loss: 0.0903 - accuracy: 0.9706 - val_loss: 0.0300 - val_accuracy: 0.9914\n",
      "Epoch 146/150\n",
      "858/858 [==============================] - 15s 17ms/step - loss: 0.0853 - accuracy: 0.9720 - val_loss: 0.0302 - val_accuracy: 0.9894\n",
      "Epoch 147/150\n",
      "858/858 [==============================] - 16s 18ms/step - loss: 0.0898 - accuracy: 0.9721 - val_loss: 0.0265 - val_accuracy: 0.9925\n",
      "Epoch 148/150\n",
      "858/858 [==============================] - 15s 17ms/step - loss: 0.0908 - accuracy: 0.9707 - val_loss: 0.0427 - val_accuracy: 0.9876\n",
      "Epoch 149/150\n",
      "858/858 [==============================] - 15s 17ms/step - loss: 0.0893 - accuracy: 0.9728 - val_loss: 0.0472 - val_accuracy: 0.9902\n",
      "Epoch 150/150\n",
      "858/858 [==============================] - 16s 18ms/step - loss: 0.0846 - accuracy: 0.9728 - val_loss: 0.0256 - val_accuracy: 0.9900\n"
     ]
    }
   ],
   "source": [
    "# Save your model\n",
    "model = create_model()\n",
    "\n",
    "# callback class\n",
    "class myCallback(callbacks.Callback):\n",
    "  def on_epoch_end(self, epoch, logs={}):\n",
    "    '''\n",
    "    Halts the training after reaching 99 percent accuracy\n",
    "\n",
    "    Args:\n",
    "      epoch (integer) - index of epoch (required but unused in the function definition below)\n",
    "      logs (dict) - metric results from the training epoch\n",
    "    '''\n",
    "\n",
    "    # Check accuracy\n",
    "    if(logs.get('accuracy') > 0.99):\n",
    "\n",
    "      # Stop if threshold is met\n",
    "      print(\"\\nAccuracy is higher than 0.99 so cancelling training!\")\n",
    "      self.model.stop_training = True\n",
    "\n",
    "# Instantiate class\n",
    "callbacks = myCallback()\n",
    "\n",
    "# Train your model\n",
    "history = model.fit(train_generator,\n",
    "                    epochs=150,\n",
    "                    validation_data=validation_generator,\n",
    "                    callbacks=[callbacks])"
   ]
  },
  {
   "cell_type": "markdown",
   "id": "7cb937bc",
   "metadata": {
    "id": "7cb937bc"
   },
   "source": [
    "Now take a look at your training history:"
   ]
  },
  {
   "cell_type": "code",
   "execution_count": 92,
   "id": "07b2b989",
   "metadata": {
    "colab": {
     "base_uri": "https://localhost:8080/",
     "height": 545
    },
    "id": "07b2b989",
    "outputId": "11f160bd-45e9-4e37-f0dd-8204a7de704e",
    "tags": []
   },
   "outputs": [
    {
     "data": {
      "image/png": "[encoded data removed]",
      "text/plain": [
       "<Figure size 432x288 with 1 Axes>"
      ]
     },
     "metadata": {
      "needs_background": "light"
     },
     "output_type": "display_data"
    },
    {
     "data": {
      "image/png": "[encoded data removed]",
      "text/plain": [
       "<Figure size 432x288 with 1 Axes>"
      ]
     },
     "metadata": {
      "needs_background": "light"
     },
     "output_type": "display_data"
    }
   ],
   "source": [
    "# Plot the chart for accuracy and loss on both training and validation\n",
    "acc = history.history['accuracy']\n",
    "val_acc = history.history['val_accuracy']\n",
    "loss = history.history['loss']\n",
    "val_loss = history.history['val_loss']\n",
    "\n",
    "epochs = range(len(acc))\n",
    "\n",
    "plt.plot(epochs, acc, 'r', label='Training accuracy')\n",
    "plt.plot(epochs, val_acc, 'b', label='Validation accuracy')\n",
    "plt.title('Training and validation accuracy')\n",
    "plt.legend()\n",
    "plt.figure()\n",
    "\n",
    "plt.plot(epochs, loss, 'r', label='Training Loss')\n",
    "plt.plot(epochs, val_loss, 'b', label='Validation Loss')\n",
    "plt.title('Training and validation loss')\n",
    "plt.legend()\n",
    "\n",
    "plt.show()"
   ]
  },
  {
   "cell_type": "markdown",
   "id": "358e81a8",
   "metadata": {
    "id": "358e81a8"
   },
   "source": [
    "You will not be graded based on the accuracy of your model but try making it as high as possible for both training and validation, as an optional exercise, **after submitting your notebook for grading**.\n",
    "\n",
    "A reasonable benchmark is to achieve over 99% accuracy for training and over 95% accuracy for validation within 15 epochs. Try tweaking your model's architecture or the augmentation techniques to see if you can achieve these levels of accuracy."
   ]
  },
  {
   "cell_type": "markdown",
   "id": "5f54f3dd",
   "metadata": {
    "id": "5f54f3dd"
   },
   "source": [
    "## Download your notebook for grading\n",
    "\n",
    "You will need to submit your solution notebook for grading. The following code cells will check if this notebook's grader metadata (i.e. hidden data in the notebook needed for grading) is not modified by your workspace. This will ensure that the autograder can evaluate your code properly. Depending on its output, you will either:\n",
    "\n",
    "* *if the metadata is intact*: Download the current notebook. Click on the File tab on the upper left corner of the screen then click on `Download -> Download .ipynb.` You can name it anything you want as long as it is a valid `.ipynb` (jupyter notebook) file.\n",
    "<br>\n",
    "\n",
    "* *if the metadata is missing*: A new notebook with your solutions will be created on this Colab workspace. It should be downloaded automatically and you can submit that to the grader. "
   ]
  },
  {
   "cell_type": "code",
   "execution_count": null,
   "id": "9d75a30a",
   "metadata": {
    "id": "9d75a30a"
   },
   "outputs": [],
   "source": [
    "# Download metadata checker\n",
    "!wget -nc https://storage.googleapis.com/tensorflow-1-public/colab_metadata_checker.py"
   ]
  },
  {
   "cell_type": "code",
   "execution_count": null,
   "id": "b23fd2b0",
   "metadata": {
    "id": "b23fd2b0"
   },
   "outputs": [],
   "source": [
    "import colab_metadata_checker\n",
    "\n",
    "# Please see the output of this cell to see which file you need to submit to the grader\n",
    "colab_metadata_checker.run('C2W4_Assignment_fixed.ipynb')"
   ]
  },
  {
   "cell_type": "markdown",
   "id": "ea864ce9",
   "metadata": {
    "id": "ea864ce9"
   },
   "source": [
    "**Please disregard the following note if the notebook metadata is detected**\n",
    "\n",
    "_Note: Just in case the download fails for the second point above, you can also do these steps:_\n",
    "* _Click the Folder icon on the left side of this screen to open the File Manager._\n",
    "* _Click the Folder Refresh icon in the File Manager to see the latest files in the workspace. You should see a file ending with a `_fixed.ipynb`._\n",
    "* _Right-click on that file to save locally and submit it to the grader._\n"
   ]
  },
  {
   "cell_type": "markdown",
   "id": "3ebe23be",
   "metadata": {
    "id": "3ebe23be"
   },
   "source": [
    "**Congratulations on finishing this week's assignment!**\n",
    "\n",
    "You have successfully implemented a convolutional neural network that is able to perform multi-class classification tasks! Nice job!\n",
    "\n",
    "**Keep it up!**"
   ]
  }
 ],
 "metadata": {
  "accelerator": "GPU",
  "colab": {
   "provenance": []
  },
  "kernelspec": {
   "display_name": "Python 3 (ipykernel)",
   "language": "python",
   "name": "python3"
  },
  "language_info": {
   "codemirror_mode": {
    "name": "ipython",
    "version": 3
   },
   "file_extension": ".py",
   "mimetype": "text/x-python",
   "name": "python",
   "nbconvert_exporter": "python",
   "pygments_lexer": "ipython3",
   "version": "3.8.16"
  }
 },
 "nbformat": 4,
 "nbformat_minor": 5
}
