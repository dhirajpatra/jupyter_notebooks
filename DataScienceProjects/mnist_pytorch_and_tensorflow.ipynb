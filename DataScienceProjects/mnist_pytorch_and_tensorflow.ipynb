{
  "nbformat": 4,
  "nbformat_minor": 0,
  "metadata": {
    "colab": {
      "provenance": []
    },
    "kernelspec": {
      "name": "python3",
      "display_name": "Python 3"
    },
    "language_info": {
      "name": "python"
    },
    "widgets": {
      "application/vnd.jupyter.widget-state+json": {
        "ed5aaaa3cd3f4fc9bb11c79a439b5c6a": {
          "model_module": "@jupyter-widgets/controls",
          "model_name": "HBoxModel",
          "model_module_version": "1.5.0",
          "state": {
            "_dom_classes": [],
            "_model_module": "@jupyter-widgets/controls",
            "_model_module_version": "1.5.0",
            "_model_name": "HBoxModel",
            "_view_count": null,
            "_view_module": "@jupyter-widgets/controls",
            "_view_module_version": "1.5.0",
            "_view_name": "HBoxView",
            "box_style": "",
            "children": [
              "IPY_MODEL_3a89e037a55447818bed4f99e0fd65cb",
              "IPY_MODEL_546c0ec650f24bcf96455f177258b767",
              "IPY_MODEL_80f86674e70f44bd9dad9cd626fea1aa"
            ],
            "layout": "IPY_MODEL_f82d41ec482c45d69deaa5164736c472"
          }
        },
        "3a89e037a55447818bed4f99e0fd65cb": {
          "model_module": "@jupyter-widgets/controls",
          "model_name": "HTMLModel",
          "model_module_version": "1.5.0",
          "state": {
            "_dom_classes": [],
            "_model_module": "@jupyter-widgets/controls",
            "_model_module_version": "1.5.0",
            "_model_name": "HTMLModel",
            "_view_count": null,
            "_view_module": "@jupyter-widgets/controls",
            "_view_module_version": "1.5.0",
            "_view_name": "HTMLView",
            "description": "",
            "description_tooltip": null,
            "layout": "IPY_MODEL_c8905dbb0c0c4a34b3d75f89bb00f40a",
            "placeholder": "​",
            "style": "IPY_MODEL_4306ea2a307c4f4d839103b89b79c425",
            "value": "Dl Completed...: 100%"
          }
        },
        "546c0ec650f24bcf96455f177258b767": {
          "model_module": "@jupyter-widgets/controls",
          "model_name": "FloatProgressModel",
          "model_module_version": "1.5.0",
          "state": {
            "_dom_classes": [],
            "_model_module": "@jupyter-widgets/controls",
            "_model_module_version": "1.5.0",
            "_model_name": "FloatProgressModel",
            "_view_count": null,
            "_view_module": "@jupyter-widgets/controls",
            "_view_module_version": "1.5.0",
            "_view_name": "ProgressView",
            "bar_style": "success",
            "description": "",
            "description_tooltip": null,
            "layout": "IPY_MODEL_763df50b79544c82abae2a5bdbdd0fd8",
            "max": 5,
            "min": 0,
            "orientation": "horizontal",
            "style": "IPY_MODEL_48f7bf96b4f64352be42be60bbdaf0ef",
            "value": 5
          }
        },
        "80f86674e70f44bd9dad9cd626fea1aa": {
          "model_module": "@jupyter-widgets/controls",
          "model_name": "HTMLModel",
          "model_module_version": "1.5.0",
          "state": {
            "_dom_classes": [],
            "_model_module": "@jupyter-widgets/controls",
            "_model_module_version": "1.5.0",
            "_model_name": "HTMLModel",
            "_view_count": null,
            "_view_module": "@jupyter-widgets/controls",
            "_view_module_version": "1.5.0",
            "_view_name": "HTMLView",
            "description": "",
            "description_tooltip": null,
            "layout": "IPY_MODEL_2a9f5bc4052448e5884576fc78489c0c",
            "placeholder": "​",
            "style": "IPY_MODEL_bb66dd3d298d490092e8a49ad0f37e50",
            "value": " 5/5 [00:00&lt;00:00,  8.35 file/s]"
          }
        },
        "f82d41ec482c45d69deaa5164736c472": {
          "model_module": "@jupyter-widgets/base",
          "model_name": "LayoutModel",
          "model_module_version": "1.2.0",
          "state": {
            "_model_module": "@jupyter-widgets/base",
            "_model_module_version": "1.2.0",
            "_model_name": "LayoutModel",
            "_view_count": null,
            "_view_module": "@jupyter-widgets/base",
            "_view_module_version": "1.2.0",
            "_view_name": "LayoutView",
            "align_content": null,
            "align_items": null,
            "align_self": null,
            "border": null,
            "bottom": null,
            "display": null,
            "flex": null,
            "flex_flow": null,
            "grid_area": null,
            "grid_auto_columns": null,
            "grid_auto_flow": null,
            "grid_auto_rows": null,
            "grid_column": null,
            "grid_gap": null,
            "grid_row": null,
            "grid_template_areas": null,
            "grid_template_columns": null,
            "grid_template_rows": null,
            "height": null,
            "justify_content": null,
            "justify_items": null,
            "left": null,
            "margin": null,
            "max_height": null,
            "max_width": null,
            "min_height": null,
            "min_width": null,
            "object_fit": null,
            "object_position": null,
            "order": null,
            "overflow": null,
            "overflow_x": null,
            "overflow_y": null,
            "padding": null,
            "right": null,
            "top": null,
            "visibility": null,
            "width": null
          }
        },
        "c8905dbb0c0c4a34b3d75f89bb00f40a": {
          "model_module": "@jupyter-widgets/base",
          "model_name": "LayoutModel",
          "model_module_version": "1.2.0",
          "state": {
            "_model_module": "@jupyter-widgets/base",
            "_model_module_version": "1.2.0",
            "_model_name": "LayoutModel",
            "_view_count": null,
            "_view_module": "@jupyter-widgets/base",
            "_view_module_version": "1.2.0",
            "_view_name": "LayoutView",
            "align_content": null,
            "align_items": null,
            "align_self": null,
            "border": null,
            "bottom": null,
            "display": null,
            "flex": null,
            "flex_flow": null,
            "grid_area": null,
            "grid_auto_columns": null,
            "grid_auto_flow": null,
            "grid_auto_rows": null,
            "grid_column": null,
            "grid_gap": null,
            "grid_row": null,
            "grid_template_areas": null,
            "grid_template_columns": null,
            "grid_template_rows": null,
            "height": null,
            "justify_content": null,
            "justify_items": null,
            "left": null,
            "margin": null,
            "max_height": null,
            "max_width": null,
            "min_height": null,
            "min_width": null,
            "object_fit": null,
            "object_position": null,
            "order": null,
            "overflow": null,
            "overflow_x": null,
            "overflow_y": null,
            "padding": null,
            "right": null,
            "top": null,
            "visibility": null,
            "width": null
          }
        },
        "4306ea2a307c4f4d839103b89b79c425": {
          "model_module": "@jupyter-widgets/controls",
          "model_name": "DescriptionStyleModel",
          "model_module_version": "1.5.0",
          "state": {
            "_model_module": "@jupyter-widgets/controls",
            "_model_module_version": "1.5.0",
            "_model_name": "DescriptionStyleModel",
            "_view_count": null,
            "_view_module": "@jupyter-widgets/base",
            "_view_module_version": "1.2.0",
            "_view_name": "StyleView",
            "description_width": ""
          }
        },
        "763df50b79544c82abae2a5bdbdd0fd8": {
          "model_module": "@jupyter-widgets/base",
          "model_name": "LayoutModel",
          "model_module_version": "1.2.0",
          "state": {
            "_model_module": "@jupyter-widgets/base",
            "_model_module_version": "1.2.0",
            "_model_name": "LayoutModel",
            "_view_count": null,
            "_view_module": "@jupyter-widgets/base",
            "_view_module_version": "1.2.0",
            "_view_name": "LayoutView",
            "align_content": null,
            "align_items": null,
            "align_self": null,
            "border": null,
            "bottom": null,
            "display": null,
            "flex": null,
            "flex_flow": null,
            "grid_area": null,
            "grid_auto_columns": null,
            "grid_auto_flow": null,
            "grid_auto_rows": null,
            "grid_column": null,
            "grid_gap": null,
            "grid_row": null,
            "grid_template_areas": null,
            "grid_template_columns": null,
            "grid_template_rows": null,
            "height": null,
            "justify_content": null,
            "justify_items": null,
            "left": null,
            "margin": null,
            "max_height": null,
            "max_width": null,
            "min_height": null,
            "min_width": null,
            "object_fit": null,
            "object_position": null,
            "order": null,
            "overflow": null,
            "overflow_x": null,
            "overflow_y": null,
            "padding": null,
            "right": null,
            "top": null,
            "visibility": null,
            "width": null
          }
        },
        "48f7bf96b4f64352be42be60bbdaf0ef": {
          "model_module": "@jupyter-widgets/controls",
          "model_name": "ProgressStyleModel",
          "model_module_version": "1.5.0",
          "state": {
            "_model_module": "@jupyter-widgets/controls",
            "_model_module_version": "1.5.0",
            "_model_name": "ProgressStyleModel",
            "_view_count": null,
            "_view_module": "@jupyter-widgets/base",
            "_view_module_version": "1.2.0",
            "_view_name": "StyleView",
            "bar_color": null,
            "description_width": ""
          }
        },
        "2a9f5bc4052448e5884576fc78489c0c": {
          "model_module": "@jupyter-widgets/base",
          "model_name": "LayoutModel",
          "model_module_version": "1.2.0",
          "state": {
            "_model_module": "@jupyter-widgets/base",
            "_model_module_version": "1.2.0",
            "_model_name": "LayoutModel",
            "_view_count": null,
            "_view_module": "@jupyter-widgets/base",
            "_view_module_version": "1.2.0",
            "_view_name": "LayoutView",
            "align_content": null,
            "align_items": null,
            "align_self": null,
            "border": null,
            "bottom": null,
            "display": null,
            "flex": null,
            "flex_flow": null,
            "grid_area": null,
            "grid_auto_columns": null,
            "grid_auto_flow": null,
            "grid_auto_rows": null,
            "grid_column": null,
            "grid_gap": null,
            "grid_row": null,
            "grid_template_areas": null,
            "grid_template_columns": null,
            "grid_template_rows": null,
            "height": null,
            "justify_content": null,
            "justify_items": null,
            "left": null,
            "margin": null,
            "max_height": null,
            "max_width": null,
            "min_height": null,
            "min_width": null,
            "object_fit": null,
            "object_position": null,
            "order": null,
            "overflow": null,
            "overflow_x": null,
            "overflow_y": null,
            "padding": null,
            "right": null,
            "top": null,
            "visibility": null,
            "width": null
          }
        },
        "bb66dd3d298d490092e8a49ad0f37e50": {
          "model_module": "@jupyter-widgets/controls",
          "model_name": "DescriptionStyleModel",
          "model_module_version": "1.5.0",
          "state": {
            "_model_module": "@jupyter-widgets/controls",
            "_model_module_version": "1.5.0",
            "_model_name": "DescriptionStyleModel",
            "_view_count": null,
            "_view_module": "@jupyter-widgets/base",
            "_view_module_version": "1.2.0",
            "_view_name": "StyleView",
            "description_width": ""
          }
        }
      }
    }
  },
  "cells": [
    {
      "cell_type": "markdown",
      "source": [
        "## This notebook will show how to use the MNIST dataset with both pyTorch as well as Tensorflow"
      ],
      "metadata": {
        "id": "WPMFXgfSIUzf"
      }
    },
    {
      "cell_type": "markdown",
      "source": [
        "## pyTorch"
      ],
      "metadata": {
        "id": "1ZZc5x1CIfIy"
      }
    },
    {
      "cell_type": "markdown",
      "source": [],
      "metadata": {
        "id": "Ht-wZql5INNR"
      }
    },
    {
      "cell_type": "code",
      "source": [
        "import torch\n",
        "from torch import nn\n",
        "from torch.utils.data import DataLoader\n",
        "from torchvision import datasets\n",
        "from torchvision.transforms import ToTensor\n",
        "\n",
        "import matplotlib.pyplot as plt\n",
        "import numpy as np"
      ],
      "metadata": {
        "id": "elPLlYGgIPxN"
      },
      "execution_count": 15,
      "outputs": []
    },
    {
      "cell_type": "code",
      "source": [
        "# Download training data from open datasets.\n",
        "training_data = datasets.FashionMNIST(\n",
        "    root=\"data\",\n",
        "    train=True,\n",
        "    download=True,\n",
        "    transform=ToTensor(),\n",
        ")\n",
        "\n",
        "# Download test data from open datasets.\n",
        "test_data = datasets.FashionMNIST(\n",
        "    root=\"data\",\n",
        "    train=False,\n",
        "    download=True,\n",
        "    transform=ToTensor(),\n",
        ")"
      ],
      "metadata": {
        "id": "GupKNLB2synR"
      },
      "execution_count": 16,
      "outputs": []
    },
    {
      "cell_type": "code",
      "source": [
        "batch_size = 64\n",
        "\n",
        "# Create data loaders.\n",
        "train_dataloader = DataLoader(training_data, batch_size=batch_size)\n",
        "test_dataloader = DataLoader(test_data, batch_size=batch_size)\n",
        "\n",
        "for X, y in test_dataloader:\n",
        "    print(f\"Shape of X [N, C, H, W]: {X.shape}\")\n",
        "    print(f\"Shape of y: {y.shape} {y.dtype}\")\n",
        "    break"
      ],
      "metadata": {
        "colab": {
          "base_uri": "https://localhost:8080/"
        },
        "id": "I9reo3TAs12N",
        "outputId": "8d178340-b96a-40ab-e3d9-ab54586a75d7"
      },
      "execution_count": 3,
      "outputs": [
        {
          "output_type": "stream",
          "name": "stdout",
          "text": [
            "Shape of X [N, C, H, W]: torch.Size([64, 1, 28, 28])\n",
            "Shape of y: torch.Size([64]) torch.int64\n"
          ]
        }
      ]
    },
    {
      "cell_type": "code",
      "source": [
        "# Get cpu, gpu or mps device for training.\n",
        "device = (\n",
        "    \"cuda\"\n",
        "    if torch.cuda.is_available()\n",
        "    else \"mps\"\n",
        "    if torch.backends.mps.is_available()\n",
        "    else \"cpu\"\n",
        ")\n",
        "print(f\"Using {device} device\")\n",
        "\n",
        "# Define model\n",
        "class NeuralNetwork(nn.Module):\n",
        "    def __init__(self):\n",
        "        super().__init__()\n",
        "        self.flatten = nn.Flatten()\n",
        "        self.linear_relu_stack = nn.Sequential(\n",
        "            nn.Linear(28*28, 512),\n",
        "            nn.ReLU(),\n",
        "            nn.Linear(512, 512),\n",
        "            nn.ReLU(),\n",
        "            nn.Linear(512, 10)\n",
        "        )\n",
        "\n",
        "    def forward(self, x):\n",
        "        x = self.flatten(x)\n",
        "        logits = self.linear_relu_stack(x)\n",
        "        return logits\n",
        "\n",
        "model = NeuralNetwork().to(device)\n",
        "print(model)"
      ],
      "metadata": {
        "colab": {
          "base_uri": "https://localhost:8080/"
        },
        "id": "wGgm8vvHs4rZ",
        "outputId": "b9721582-89b2-4e4d-d665-a91be4f1fcef"
      },
      "execution_count": 4,
      "outputs": [
        {
          "output_type": "stream",
          "name": "stdout",
          "text": [
            "Using cpu device\n",
            "NeuralNetwork(\n",
            "  (flatten): Flatten(start_dim=1, end_dim=-1)\n",
            "  (linear_relu_stack): Sequential(\n",
            "    (0): Linear(in_features=784, out_features=512, bias=True)\n",
            "    (1): ReLU()\n",
            "    (2): Linear(in_features=512, out_features=512, bias=True)\n",
            "    (3): ReLU()\n",
            "    (4): Linear(in_features=512, out_features=10, bias=True)\n",
            "  )\n",
            ")\n"
          ]
        }
      ]
    },
    {
      "cell_type": "code",
      "source": [
        "# loss function cross entropy and optimize with stocastic gradient boosting algorithm\n",
        "loss_fn = nn.CrossEntropyLoss()\n",
        "optimizer = torch.optim.SGD(model.parameters(), lr=1e-3)"
      ],
      "metadata": {
        "id": "WTPmtm2Os8Qv"
      },
      "execution_count": 5,
      "outputs": []
    },
    {
      "cell_type": "code",
      "source": [
        "def train(dataloader, model, loss_fn, optimizer):\n",
        "    size = len(dataloader.dataset)\n",
        "    model.train()\n",
        "    for batch, (X, y) in enumerate(dataloader):\n",
        "        X, y = X.to(device), y.to(device)\n",
        "\n",
        "        # Compute prediction error\n",
        "        pred = model(X)\n",
        "        loss = loss_fn(pred, y)\n",
        "\n",
        "        # Backpropagation\n",
        "        loss.backward()\n",
        "        optimizer.step()\n",
        "        optimizer.zero_grad()\n",
        "\n",
        "        if batch % 100 == 0:\n",
        "            loss, current = loss.item(), (batch + 1) * len(X)\n",
        "            print(f\"loss: {loss:>7f}  [{current:>5d}/{size:>5d}]\")"
      ],
      "metadata": {
        "id": "Qx0FO_oGs_jp"
      },
      "execution_count": 6,
      "outputs": []
    },
    {
      "cell_type": "code",
      "source": [
        "def test(dataloader, model, loss_fn):\n",
        "    size = len(dataloader.dataset)\n",
        "    num_batches = len(dataloader)\n",
        "    model.eval()\n",
        "    test_loss, correct = 0, 0\n",
        "    with torch.no_grad():\n",
        "        for X, y in dataloader:\n",
        "            X, y = X.to(device), y.to(device)\n",
        "            pred = model(X)\n",
        "            test_loss += loss_fn(pred, y).item()\n",
        "            correct += (pred.argmax(1) == y).type(torch.float).sum().item()\n",
        "    test_loss /= num_batches\n",
        "    correct /= size\n",
        "    print(f\"Test Error: \\n Accuracy: {(100*correct):>0.1f}%, Avg loss: {test_loss:>8f} \\n\")"
      ],
      "metadata": {
        "id": "ghM8VY6xtCDm"
      },
      "execution_count": 7,
      "outputs": []
    },
    {
      "cell_type": "code",
      "source": [
        "# model training\n",
        "epochs = 5\n",
        "for t in range(epochs):\n",
        "    print(f\"Epoch {t+1}\\n-------------------------------\")\n",
        "    train(train_dataloader, model, loss_fn, optimizer)\n",
        "    test(test_dataloader, model, loss_fn)\n",
        "print(\"Done!\")"
      ],
      "metadata": {
        "colab": {
          "base_uri": "https://localhost:8080/"
        },
        "id": "Pnro8UCDtEMT",
        "outputId": "6f76d770-fe24-4433-9a04-c93e50e0ccde"
      },
      "execution_count": 8,
      "outputs": [
        {
          "output_type": "stream",
          "name": "stdout",
          "text": [
            "Epoch 1\n",
            "-------------------------------\n",
            "loss: 2.304225  [   64/60000]\n",
            "loss: 2.288055  [ 6464/60000]\n",
            "loss: 2.267038  [12864/60000]\n",
            "loss: 2.267143  [19264/60000]\n",
            "loss: 2.248859  [25664/60000]\n",
            "loss: 2.220971  [32064/60000]\n",
            "loss: 2.231415  [38464/60000]\n",
            "loss: 2.199058  [44864/60000]\n",
            "loss: 2.198331  [51264/60000]\n",
            "loss: 2.157847  [57664/60000]\n",
            "Test Error: \n",
            " Accuracy: 42.9%, Avg loss: 2.153965 \n",
            "\n",
            "Epoch 2\n",
            "-------------------------------\n",
            "loss: 2.168658  [   64/60000]\n",
            "loss: 2.156096  [ 6464/60000]\n",
            "loss: 2.094773  [12864/60000]\n",
            "loss: 2.113685  [19264/60000]\n",
            "loss: 2.064558  [25664/60000]\n",
            "loss: 2.007096  [32064/60000]\n",
            "loss: 2.040484  [38464/60000]\n",
            "loss: 1.961568  [44864/60000]\n",
            "loss: 1.965715  [51264/60000]\n",
            "loss: 1.890805  [57664/60000]\n",
            "Test Error: \n",
            " Accuracy: 57.6%, Avg loss: 1.887317 \n",
            "\n",
            "Epoch 3\n",
            "-------------------------------\n",
            "loss: 1.922558  [   64/60000]\n",
            "loss: 1.889926  [ 6464/60000]\n",
            "loss: 1.769892  [12864/60000]\n",
            "loss: 1.811713  [19264/60000]\n",
            "loss: 1.710527  [25664/60000]\n",
            "loss: 1.663496  [32064/60000]\n",
            "loss: 1.690451  [38464/60000]\n",
            "loss: 1.590736  [44864/60000]\n",
            "loss: 1.612165  [51264/60000]\n",
            "loss: 1.502673  [57664/60000]\n",
            "Test Error: \n",
            " Accuracy: 62.6%, Avg loss: 1.521226 \n",
            "\n",
            "Epoch 4\n",
            "-------------------------------\n",
            "loss: 1.591896  [   64/60000]\n",
            "loss: 1.555428  [ 6464/60000]\n",
            "loss: 1.403281  [12864/60000]\n",
            "loss: 1.471167  [19264/60000]\n",
            "loss: 1.359396  [25664/60000]\n",
            "loss: 1.361069  [32064/60000]\n",
            "loss: 1.375718  [38464/60000]\n",
            "loss: 1.301444  [44864/60000]\n",
            "loss: 1.334840  [51264/60000]\n",
            "loss: 1.226318  [57664/60000]\n",
            "Test Error: \n",
            " Accuracy: 63.3%, Avg loss: 1.254931 \n",
            "\n",
            "Epoch 5\n",
            "-------------------------------\n",
            "loss: 1.336886  [   64/60000]\n",
            "loss: 1.319484  [ 6464/60000]\n",
            "loss: 1.150147  [12864/60000]\n",
            "loss: 1.250476  [19264/60000]\n",
            "loss: 1.127175  [25664/60000]\n",
            "loss: 1.163734  [32064/60000]\n",
            "loss: 1.184241  [38464/60000]\n",
            "loss: 1.121362  [44864/60000]\n",
            "loss: 1.161430  [51264/60000]\n",
            "loss: 1.066403  [57664/60000]\n",
            "Test Error: \n",
            " Accuracy: 64.4%, Avg loss: 1.090029 \n",
            "\n",
            "Done!\n"
          ]
        }
      ]
    },
    {
      "cell_type": "code",
      "source": [
        "# save the torch model\n",
        "torch.save(model.state_dict(), \"model.pth\")\n",
        "print(\"Saved PyTorch Model State to model.pth\")"
      ],
      "metadata": {
        "colab": {
          "base_uri": "https://localhost:8080/"
        },
        "id": "_kg9zq5GtGDE",
        "outputId": "bc79b22d-ac16-4b43-b203-2fa0febc45c3"
      },
      "execution_count": 9,
      "outputs": [
        {
          "output_type": "stream",
          "name": "stdout",
          "text": [
            "Saved PyTorch Model State to model.pth\n"
          ]
        }
      ]
    },
    {
      "cell_type": "code",
      "source": [
        "# use the saved model\n",
        "model = NeuralNetwork().to(device)\n",
        "model.load_state_dict(torch.load(\"model.pth\", weights_only=True))"
      ],
      "metadata": {
        "colab": {
          "base_uri": "https://localhost:8080/"
        },
        "id": "Aw3R5E3xtKM3",
        "outputId": "335610ed-5cac-4a8d-fe7c-c1f7ff1ff49b"
      },
      "execution_count": 10,
      "outputs": [
        {
          "output_type": "execute_result",
          "data": {
            "text/plain": [
              "<All keys matched successfully>"
            ]
          },
          "metadata": {},
          "execution_count": 10
        }
      ]
    },
    {
      "cell_type": "code",
      "source": [
        "# model classes\n",
        "classes = [\n",
        "    \"T-shirt/top\",\n",
        "    \"Trouser\",\n",
        "    \"Pullover\",\n",
        "    \"Dress\",\n",
        "    \"Coat\",\n",
        "    \"Sandal\",\n",
        "    \"Shirt\",\n",
        "    \"Sneaker\",\n",
        "    \"Bag\",\n",
        "    \"Ankle boot\",\n",
        "]\n"
      ],
      "metadata": {
        "id": "m9Hj0gDatMiE"
      },
      "execution_count": 12,
      "outputs": []
    },
    {
      "cell_type": "code",
      "source": [
        "# model evaluation\n",
        "model.eval()\n",
        "x, y = test_data[0][0], test_data[0][1]\n",
        "with torch.no_grad():\n",
        "    x = x.to(device)\n",
        "    pred = model(x)\n",
        "    predicted, actual = classes[pred[0].argmax(0)], classes[y]\n",
        "    print(f'Predicted: \"{predicted}\", Actual: \"{actual}\"')\n",
        "\n",
        "    # Plot the image\n",
        "    plt.imshow(x[0])\n",
        "    plt.title(f\"Predicted: {predicted}, Actual: {actual}\")\n",
        "    plt.axis('off')  # Remove unnecessary axes\n",
        "    plt.show()\n",
        "\n",
        "    print(f'Predicted: \"{predicted}\", Actual: \"{actual}\"')"
      ],
      "metadata": {
        "colab": {
          "base_uri": "https://localhost:8080/",
          "height": 463
        },
        "id": "-zGSIR6IKFPD",
        "outputId": "e1fb3e76-ab93-4a12-9b07-8d16a237ec93"
      },
      "execution_count": 17,
      "outputs": [
        {
          "output_type": "stream",
          "name": "stdout",
          "text": [
            "Predicted: \"Ankle boot\", Actual: \"Ankle boot\"\n"
          ]
        },
        {
          "output_type": "display_data",
          "data": {
            "text/plain": [
              "<Figure size 640x480 with 1 Axes>"
            ],
            "image/png": "[encoded data removed]"
          },
          "metadata": {}
        },
        {
          "output_type": "stream",
          "name": "stdout",
          "text": [
            "Predicted: \"Ankle boot\", Actual: \"Ankle boot\"\n"
          ]
        }
      ]
    },
    {
      "cell_type": "code",
      "source": [],
      "metadata": {
        "id": "4gXrtT3-tOvJ"
      },
      "execution_count": null,
      "outputs": []
    },
    {
      "cell_type": "markdown",
      "source": [
        "## Now with Tensorflow"
      ],
      "metadata": {
        "id": "gxdC9IBitScK"
      }
    },
    {
      "cell_type": "code",
      "source": [
        "import tensorflow as tf\n",
        "import tensorflow_datasets as tfds\n",
        "from tensorflow.keras.models import save_model, load_model"
      ],
      "metadata": {
        "id": "aahr7QfPtVUl"
      },
      "execution_count": 28,
      "outputs": []
    },
    {
      "cell_type": "code",
      "source": [
        "(ds_train, ds_test), ds_info = tfds.load(\n",
        "    'mnist',\n",
        "    split=['train', 'test'],\n",
        "    shuffle_files=True,\n",
        "    as_supervised=True,\n",
        "    with_info=True,\n",
        ")"
      ],
      "metadata": {
        "colab": {
          "base_uri": "https://localhost:8080/",
          "height": 104,
          "referenced_widgets": [
            "ed5aaaa3cd3f4fc9bb11c79a439b5c6a",
            "3a89e037a55447818bed4f99e0fd65cb",
            "546c0ec650f24bcf96455f177258b767",
            "80f86674e70f44bd9dad9cd626fea1aa",
            "f82d41ec482c45d69deaa5164736c472",
            "c8905dbb0c0c4a34b3d75f89bb00f40a",
            "4306ea2a307c4f4d839103b89b79c425",
            "763df50b79544c82abae2a5bdbdd0fd8",
            "48f7bf96b4f64352be42be60bbdaf0ef",
            "2a9f5bc4052448e5884576fc78489c0c",
            "bb66dd3d298d490092e8a49ad0f37e50"
          ]
        },
        "id": "9QslceTXtlOo",
        "outputId": "e8331f47-88e7-4a14-ca5b-3a3bcc3e8831"
      },
      "execution_count": 19,
      "outputs": [
        {
          "output_type": "stream",
          "name": "stdout",
          "text": [
            "Downloading and preparing dataset 11.06 MiB (download: 11.06 MiB, generated: 21.00 MiB, total: 32.06 MiB) to /root/tensorflow_datasets/mnist/3.0.1...\n"
          ]
        },
        {
          "output_type": "display_data",
          "data": {
            "text/plain": [
              "Dl Completed...:   0%|          | 0/5 [00:00<?, ? file/s]"
            ],
            "application/vnd.jupyter.widget-view+json": {
              "version_major": 2,
              "version_minor": 0,
              "model_id": "ed5aaaa3cd3f4fc9bb11c79a439b5c6a"
            }
          },
          "metadata": {}
        },
        {
          "output_type": "stream",
          "name": "stdout",
          "text": [
            "Dataset mnist downloaded and prepared to /root/tensorflow_datasets/mnist/3.0.1. Subsequent calls will reuse this data.\n"
          ]
        }
      ]
    },
    {
      "cell_type": "code",
      "source": [
        "def normalize_img(image, label):\n",
        "  \"\"\"Normalizes images: `uint8` -> `float32`.\"\"\"\n",
        "  return tf.cast(image, tf.float32) / 255., label\n",
        "\n",
        "ds_train = ds_train.map(\n",
        "    normalize_img, num_parallel_calls=tf.data.AUTOTUNE)\n",
        "ds_train = ds_train.cache()\n",
        "ds_train = ds_train.shuffle(ds_info.splits['train'].num_examples)\n",
        "ds_train = ds_train.batch(128)\n",
        "ds_train = ds_train.prefetch(tf.data.AUTOTUNE)"
      ],
      "metadata": {
        "id": "oe0PNm29tnqq"
      },
      "execution_count": 20,
      "outputs": []
    },
    {
      "cell_type": "code",
      "source": [
        "ds_test = ds_test.map(\n",
        "    normalize_img, num_parallel_calls=tf.data.AUTOTUNE)\n",
        "ds_test = ds_test.batch(128)\n",
        "ds_test = ds_test.cache()\n",
        "ds_test = ds_test.prefetch(tf.data.AUTOTUNE)"
      ],
      "metadata": {
        "id": "6ZvSOIJ0trEC"
      },
      "execution_count": 21,
      "outputs": []
    },
    {
      "cell_type": "code",
      "source": [
        "num_classes = 10\n",
        "input_shape = (28, 28, 3)\n",
        "input_layer = tf.keras.Input(shape=input_shape)\n",
        "\n",
        "# model = tf.keras.models.Sequential([\n",
        "#   tf.keras.layers.Flatten(input_shape=(28, 28)),\n",
        "#   tf.keras.layers.Dense(128, activation='relu'),\n",
        "#   tf.keras.layers.Dense(10)\n",
        "# ])\n",
        "\n",
        "model = tf.keras.Sequential([\n",
        "    # Rescaling layer doesn't need input_tensor in Sequential models\n",
        "    tf.keras.layers.Rescaling(1./255),  # Normalize input values\n",
        "    tf.keras.layers.Conv2D(16, 3, padding='same', activation='relu'),\n",
        "    tf.keras.layers.MaxPooling2D(),\n",
        "    tf.keras.layers.Conv2D(32, 3, padding='same', activation='relu'),\n",
        "    tf.keras.layers.MaxPooling2D(),\n",
        "    tf.keras.layers.Conv2D(64, 3, padding='same', activation='relu'),\n",
        "    tf.keras.layers.MaxPooling2D(),\n",
        "    tf.keras.layers.Flatten(),\n",
        "    tf.keras.layers.Dense(128, activation='relu'),\n",
        "    tf.keras.layers.Dense(num_classes)\n",
        "])\n",
        "\n",
        "model.compile(\n",
        "    optimizer=tf.keras.optimizers.Adam(0.001),\n",
        "    loss=tf.keras.losses.SparseCategoricalCrossentropy(from_logits=True),\n",
        "    metrics=[tf.keras.metrics.SparseCategoricalAccuracy()],\n",
        ")\n",
        "\n",
        "model.fit(\n",
        "    ds_train,\n",
        "    epochs=6,\n",
        "    validation_data=ds_test,\n",
        ")"
      ],
      "metadata": {
        "colab": {
          "base_uri": "https://localhost:8080/"
        },
        "id": "44mPOVgXts9L",
        "outputId": "f17b15f4-04f3-4701-d1c7-8d91b4a45940"
      },
      "execution_count": 26,
      "outputs": [
        {
          "output_type": "stream",
          "name": "stdout",
          "text": [
            "Epoch 1/6\n",
            "\u001b[1m469/469\u001b[0m \u001b[32m━━━━━━━━━━━━━━━━━━━━\u001b[0m\u001b[37m\u001b[0m \u001b[1m56s\u001b[0m 103ms/step - loss: 1.8131 - sparse_categorical_accuracy: 0.3358 - val_loss: 0.4075 - val_sparse_categorical_accuracy: 0.8768\n",
            "Epoch 2/6\n",
            "\u001b[1m469/469\u001b[0m \u001b[32m━━━━━━━━━━━━━━━━━━━━\u001b[0m\u001b[37m\u001b[0m \u001b[1m73s\u001b[0m 95ms/step - loss: 0.3561 - sparse_categorical_accuracy: 0.8919 - val_loss: 0.2356 - val_sparse_categorical_accuracy: 0.9258\n",
            "Epoch 3/6\n",
            "\u001b[1m469/469\u001b[0m \u001b[32m━━━━━━━━━━━━━━━━━━━━\u001b[0m\u001b[37m\u001b[0m \u001b[1m45s\u001b[0m 96ms/step - loss: 0.2283 - sparse_categorical_accuracy: 0.9308 - val_loss: 0.1860 - val_sparse_categorical_accuracy: 0.9415\n",
            "Epoch 4/6\n",
            "\u001b[1m469/469\u001b[0m \u001b[32m━━━━━━━━━━━━━━━━━━━━\u001b[0m\u001b[37m\u001b[0m \u001b[1m83s\u001b[0m 97ms/step - loss: 0.1684 - sparse_categorical_accuracy: 0.9479 - val_loss: 0.1302 - val_sparse_categorical_accuracy: 0.9590\n",
            "Epoch 5/6\n",
            "\u001b[1m469/469\u001b[0m \u001b[32m━━━━━━━━━━━━━━━━━━━━\u001b[0m\u001b[37m\u001b[0m \u001b[1m83s\u001b[0m 101ms/step - loss: 0.1335 - sparse_categorical_accuracy: 0.9586 - val_loss: 0.1063 - val_sparse_categorical_accuracy: 0.9675\n",
            "Epoch 6/6\n",
            "\u001b[1m469/469\u001b[0m \u001b[32m━━━━━━━━━━━━━━━━━━━━\u001b[0m\u001b[37m\u001b[0m \u001b[1m80s\u001b[0m 96ms/step - loss: 0.1102 - sparse_categorical_accuracy: 0.9656 - val_loss: 0.0954 - val_sparse_categorical_accuracy: 0.9676\n"
          ]
        },
        {
          "output_type": "execute_result",
          "data": {
            "text/plain": [
              "<keras.src.callbacks.history.History at 0x7ed6b1b35cc0>"
            ]
          },
          "metadata": {},
          "execution_count": 26
        }
      ]
    },
    {
      "cell_type": "code",
      "source": [
        "# Save the model (replace 'my_model.h5' with your desired filename)\n",
        "save_model(model, 'my_model.h5')"
      ],
      "metadata": {
        "colab": {
          "base_uri": "https://localhost:8080/"
        },
        "id": "-_892ZefLhlA",
        "outputId": "1c7e90a0-29a7-46ff-8df2-ad1a8ee8e8e1"
      },
      "execution_count": 29,
      "outputs": [
        {
          "output_type": "stream",
          "name": "stderr",
          "text": [
            "WARNING:absl:You are saving your model as an HDF5 file via `model.save()` or `keras.saving.save_model(model)`. This file format is considered legacy. We recommend using instead the native Keras format, e.g. `model.save('my_model.keras')` or `keras.saving.save_model(model, 'my_model.keras')`. \n"
          ]
        }
      ]
    },
    {
      "cell_type": "code",
      "source": [
        "# Load the saved model\n",
        "loaded_model = load_model('my_model.h5')"
      ],
      "metadata": {
        "colab": {
          "base_uri": "https://localhost:8080/"
        },
        "id": "JqXPO0uFS5rX",
        "outputId": "2de8712a-44ab-40a8-c466-08ab255dfc6c"
      },
      "execution_count": 30,
      "outputs": [
        {
          "output_type": "stream",
          "name": "stderr",
          "text": [
            "WARNING:absl:Compiled the loaded model, but the compiled metrics have yet to be built. `model.compile_metrics` will be empty until you train or evaluate the model.\n"
          ]
        }
      ]
    },
    {
      "cell_type": "code",
      "source": [
        "# Assuming test_data is a list of tuples (image, label)\n",
        "x, y = test_data[0][0], test_data[0][1]\n",
        "\n",
        "# Preprocess the test image if necessary\n",
        "x = np.array(x, dtype='float32') / 255.0  # Convert to NumPy array and normalize\n"
      ],
      "metadata": {
        "id": "-ozkT2ihS8y2"
      },
      "execution_count": 33,
      "outputs": []
    },
    {
      "cell_type": "markdown",
      "source": [
        "The `@tf.function` decorator and `jit_compile=True` flag are part of TensorFlow's optimization features, which help accelerate code execution, especially during model inference or training. Here's a breakdown of each:\n",
        "\n",
        "### **1. `@tf.function` Decorator**\n",
        "- **Purpose**: Converts a Python function into a TensorFlow computational graph.\n",
        "- **Explanation**: When you use `@tf.function`, TensorFlow traces the Python function and compiles it into a highly optimized, static computational graph. This graph runs faster than the original Python code because TensorFlow can optimize the graph for performance.\n",
        "- **Benefits**:\n",
        "  - **Speed**: Computational graphs are faster because they reduce the overhead of Python’s dynamic interpretation and allow TensorFlow to apply various optimizations.\n",
        "  - **Compatibility**: Useful for running TensorFlow code on different devices, such as GPUs or TPUs, because the graph abstracts the underlying hardware.\n",
        "  - **Batch Execution**: Graphs can optimize across batches of operations, reducing computational redundancy.\n",
        "\n",
        "### **2. `jit_compile=True` in `@tf.function`**\n",
        "- **Purpose**: Enables Just-In-Time (JIT) compilation using TensorFlow's XLA (Accelerated Linear Algebra) compiler.\n",
        "- **Explanation**: JIT compilation further optimizes the computational graph by fusing operations together, reducing memory usage, and improving execution speed.\n",
        "- **Benefits**:\n",
        "  - **Additional Performance Gains**: By using the XLA compiler, the code can achieve even faster execution times.\n",
        "  - **Operation Fusion**: JIT compilation can fuse multiple operations into a single kernel (GPU or TPU operation), reducing the number of device-to-host memory transfers.\n",
        "- **When to Use**:\n",
        "  - **Model Inference**: Often used when speed is critical during model inference.\n",
        "  - **Training**: Can also be helpful during training to speed up repeated computations.\n",
        "\n",
        "### **When to Use Them**\n",
        "- **`@tf.function`**: Use this decorator when you want to optimize the performance of TensorFlow functions, especially when they contain multiple TensorFlow operations.\n",
        "- **`jit_compile=True`**: Use this when further optimization is desired, particularly on platforms that support XLA, like certain GPUs or TPUs.\n"
      ],
      "metadata": {
        "id": "vn0HC78-WRh6"
      }
    },
    {
      "cell_type": "code",
      "source": [
        "# Enables Just-In-Time (JIT) compilation using TensorFlow's XLA (Accelerated Linear Algebra) compiler.\n",
        "@tf.function(jit_compile=True)\n",
        "def predict(model, x):\n",
        "    return model(x)\n",
        "\n",
        "# Reshape the input to ensure it has the correct shape: (batch_size, height, width, channels)\n",
        "x = tf.reshape(x, (28, 28))  # Reshape to 28x28 if necessary\n",
        "x = tf.expand_dims(x, axis=0)  # Add batch dimension, resulting in (1, 28, 28)\n",
        "x = tf.expand_dims(x, axis=-1)  # Add channel dimension, resulting in (1, 28, 28, 1)\n",
        "\n",
        "# Make the prediction\n",
        "pred = predict(loaded_model, x)\n",
        "\n",
        "# Get the predicted and actual classes\n",
        "predicted, actual = classes[tf.argmax(pred[0])], classes[y]\n",
        "\n",
        "# Plot the image\n",
        "plt.imshow(x[0, :, :, 0].numpy(), cmap='gray')  # Remove unnecessary dimensions and plot\n",
        "plt.title(f\"Predicted: {predicted}, Actual: {actual}\")\n",
        "plt.axis('off')  # Remove unnecessary axes\n",
        "plt.show()\n",
        "\n",
        "print(f'Predicted: \"{predicted}\", Actual: \"{actual}\"')\n"
      ],
      "metadata": {
        "colab": {
          "base_uri": "https://localhost:8080/",
          "height": 445
        },
        "id": "UyKkqxhzUA7-",
        "outputId": "e90f72f3-88b1-47e5-c253-8606251967c4"
      },
      "execution_count": 41,
      "outputs": [
        {
          "output_type": "display_data",
          "data": {
            "text/plain": [
              "<Figure size 640x480 with 1 Axes>"
            ],
            "image/png": "[encoded data removed]"
          },
          "metadata": {}
        },
        {
          "output_type": "stream",
          "name": "stdout",
          "text": [
            "Predicted: \"Sandal\", Actual: \"Ankle boot\"\n"
          ]
        }
      ]
    },
    {
      "cell_type": "code",
      "source": [],
      "metadata": {
        "id": "XnXoNydlUjrK"
      },
      "execution_count": null,
      "outputs": []
    }
  ]
}