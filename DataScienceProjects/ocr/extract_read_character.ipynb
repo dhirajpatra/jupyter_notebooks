{
 "cells": [
  {
   "cell_type": "code",
   "execution_count": 5,
   "metadata": {},
   "outputs": [],
   "source": [
    "import cv2\n",
    "import pytesseract\n",
    "import matplotlib.pyplot as plt\n",
    "import re\n"
   ]
  },
  {
   "cell_type": "code",
   "execution_count": 6,
   "metadata": {},
   "outputs": [],
   "source": [
    "# Load the image\n",
    "image = cv2.imread('invoice-template-us-neat-750px.png')"
   ]
  },
  {
   "cell_type": "code",
   "execution_count": 32,
   "metadata": {},
   "outputs": [],
   "source": [
    "\n",
    "def read_character(roi_coordinates):\n",
    "    \"\"\"\n",
    "    This will read the image part and find the word or number in it\n",
    "    \"\"\"\n",
    "    # Iterate over the ROIs\n",
    "    for i, (x1, y1, x2, y2) in enumerate(roi_coordinates):\n",
    "        # Ensure the coordinates are within the image dimensions\n",
    "        x1 = max(0, x1)\n",
    "        y1 = max(0, y1)\n",
    "        x2 = min(image.shape[1], x2)\n",
    "        y2 = min(image.shape[0], y2)\n",
    "    \n",
    "        # Crop the ROI from the image\n",
    "        roi = image[y1:y2, x1:x2]\n",
    "    \n",
    "        # Convert the ROI to grayscale\n",
    "        gray_roi = cv2.cvtColor(roi, cv2.COLOR_BGR2GRAY)\n",
    "\n",
    "        # Display the grayscale ROI\n",
    "        plt.figure()\n",
    "        plt.imshow(cv2.cvtColor(gray_roi, cv2.COLOR_GRAY2RGB))\n",
    "        plt.axis('off')\n",
    "        plt.show()\n",
    "    \n",
    "        # Apply image preprocessing if required\n",
    "        # Example 1: Thresholding\n",
    "        _, thresholded_roi = cv2.threshold(gray_roi, 0, 255, cv2.THRESH_BINARY | cv2.THRESH_OTSU)\n",
    "    \n",
    "        # Example 2: Denoising (using a bilateral filter)\n",
    "        denoised_roi = cv2.bilateralFilter(thresholded_roi, 9, 75, 75)\n",
    "    \n",
    "        # Perform OCR on the preprocessed ROI using pytesseract\n",
    "        extracted_text = pytesseract.image_to_string(denoised_roi, config='--psm 7')  # Use page segmentation mode 7 for treating the image as a single line of text\n",
    "        \n",
    "        # Extract numbers from the extracted text\n",
    "        numbers = re.findall(r'\\d+', extracted_text)\n",
    "        \n",
    "        # Display the extracted numbers\n",
    "        if numbers:\n",
    "            print(f\"Numbers from ROI: {'.'.join(numbers)}\")\n",
    "        else:\n",
    "            print(f\"No numbers found in ROI\")\n"
   ]
  },
  {
   "cell_type": "code",
   "execution_count": 33,
   "metadata": {},
   "outputs": [],
   "source": [
    "image_parts = [{'x1':640, 'y1':385, 'x2':690, 'y2':400}, \n",
    "               {'x1':640, 'y1':410, 'x2':690, 'y2':435}, \n",
    "               {'x1':640, 'y1':448, 'x2':690, 'y2':470}]"
   ]
  },
  {
   "cell_type": "code",
   "execution_count": 35,
   "metadata": {},
   "outputs": [
    {
     "data": {
      "image/png": "[encoded data removed]",
      "text/plain": [
       "<Figure size 640x480 with 1 Axes>"
      ]
     },
     "metadata": {},
     "output_type": "display_data"
    },
    {
     "name": "stdout",
     "output_type": "stream",
     "text": [
      "Numbers from ROI: 100.00\n"
     ]
    },
    {
     "data": {
      "image/png": "[encoded data removed]",
      "text/plain": [
       "<Figure size 640x480 with 1 Axes>"
      ]
     },
     "metadata": {},
     "output_type": "display_data"
    },
    {
     "name": "stdout",
     "output_type": "stream",
     "text": [
      "Numbers from ROI: 30.00\n"
     ]
    },
    {
     "data": {
      "image/png": "[encoded data removed]",
      "text/plain": [
       "<Figure size 640x480 with 1 Axes>"
      ]
     },
     "metadata": {},
     "output_type": "display_data"
    },
    {
     "name": "stdout",
     "output_type": "stream",
     "text": [
      "Numbers from ROI: 15.00\n"
     ]
    }
   ],
   "source": [
    "# Define the regions of interest (ROIs) where you want to extract data\n",
    "for coordinate in image_parts:\n",
    "    x1, y1, x2, y2 = coordinate.values()\n",
    "    roi_coordinates = [\n",
    "        (x1, y1, x2, y2),  # Format: (top-left x, top-left y, bottom-right x, bottom-right y)\n",
    "        # Add more ROI coordinates as needed\n",
    "    ]\n",
    "    read_character(roi_coordinates)\n"
   ]
  },
  {
   "cell_type": "code",
   "execution_count": null,
   "metadata": {},
   "outputs": [],
   "source": []
  }
 ],
 "metadata": {
  "kernelspec": {
   "display_name": "Python 3 (ipykernel)",
   "language": "python",
   "name": "python3"
  },
  "language_info": {
   "codemirror_mode": {
    "name": "ipython",
    "version": 3
   },
   "file_extension": ".py",
   "mimetype": "text/x-python",
   "name": "python",
   "nbconvert_exporter": "python",
   "pygments_lexer": "ipython3",
   "version": "3.8.16"
  }
 },
 "nbformat": 4,
 "nbformat_minor": 4
}
