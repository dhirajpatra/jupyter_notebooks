{
 "cells": [
  {
   "cell_type": "code",
   "execution_count": null,
   "id": "0",
   "metadata": {},
   "outputs": [],
   "source": [
    "import matplotlib.pyplot as plt\n",
    "import numpy as np\n",
    "import seaborn as sns\n",
    "import pandas as pd"
   ]
  },
  {
   "cell_type": "code",
   "execution_count": null,
   "id": "1",
   "metadata": {},
   "outputs": [],
   "source": [
    "#Creating a paramter from a Gaussian distribution \n",
    "mu_x = 10;sigma_x = 10;\n",
    "x = np.random.normal(mu_x, sigma_x, 1000);"
   ]
  },
  {
   "cell_type": "code",
   "execution_count": null,
   "id": "2",
   "metadata": {},
   "outputs": [],
   "source": [
    "#print(x);"
   ]
  },
  {
   "cell_type": "code",
   "execution_count": null,
   "id": "3",
   "metadata": {},
   "outputs": [],
   "source": [
    "#Plotting the parameter values \n",
    "plt.scatter(x, np.zeros_like(x), s=10, facecolors='none', edgecolors='r')\n",
    "plt.xlabel('X Values')\n",
    "plt.tick_params(axis='y', left = False, right = False , labelleft = False ,\n",
    "                labelbottom = False, bottom = False)\n",
    "plt.grid(axis='x', alpha=0.75)"
   ]
  },
  {
   "cell_type": "code",
   "execution_count": null,
   "id": "4",
   "metadata": {},
   "outputs": [],
   "source": []
  },
  {
   "cell_type": "code",
   "execution_count": null,
   "id": "5",
   "metadata": {},
   "outputs": [],
   "source": [
    "#Creating a histogram for the same parameter \n",
    "plt.scatter(x, np.zeros_like(x), s=20, facecolors='none', edgecolors='r')\n",
    "n, bins, ignored = plt.hist(x, bins=30, alpha=0.7, rwidth=0.85)\n",
    "plt.grid(axis='y', alpha=0.75)\n",
    "plt.xlabel('X  Value')\n",
    "plt.ylabel('Frequency')\n",
    "maxfreq = n.max()\n",
    "plt.ylim(ymax=np.ceil(maxfreq / 10) * 10 if maxfreq % 10 else maxfreq + 10)"
   ]
  },
  {
   "cell_type": "code",
   "execution_count": null,
   "id": "6",
   "metadata": {},
   "outputs": [],
   "source": [
    "#Creating a histogram for the same parameter with the true density and plotting the Gaussian distribution \n",
    "plt.scatter(x, np.zeros_like(x), s=20, facecolors='none', edgecolors='r')\n",
    "count, bins, ignored = plt.hist(x, 30, density=True , alpha=0.7, rwidth=0.85)\n",
    "plt.plot(bins, 1/(sigma_x * np.sqrt(2 * np.pi)) *\n",
    "               np.exp( - (bins - mu_x)**2 / (2 * sigma_x**2) ),\n",
    "         linewidth=2, color='k')\n",
    "plt.grid(axis='y', alpha=0.75)\n",
    "plt.xlabel('X Value')\n",
    "plt.ylabel('Frequency')"
   ]
  },
  {
   "cell_type": "code",
   "execution_count": null,
   "id": "7",
   "metadata": {},
   "outputs": [],
   "source": [
    "#Plotting the Gaussian distribution \n",
    "plt.scatter(x, np.zeros_like(x), s=10, facecolors='none', edgecolors='r')\n",
    "\n",
    "plt.plot(bins, 1/(sigma_x * np.sqrt(2 * np.pi)) *\n",
    "               np.exp( - (bins - mu_x)**2 / (2 * sigma_x**2) ),\n",
    "         linewidth=2, color='k')\n",
    "plt.grid(axis='y', alpha=0.75)\n",
    "plt.xlabel('X Value')\n",
    "plt.ylabel('Frequency')"
   ]
  },
  {
   "cell_type": "code",
   "execution_count": null,
   "id": "8",
   "metadata": {},
   "outputs": [],
   "source": [
    "#Creating random noise \n",
    "z=np.random.normal(0,1,1000)\n",
    "plt.scatter(range(len(z)), z, s=20, facecolors='none', edgecolors='r')\n",
    "plt.ylabel('Ransom noise')\n",
    "plt.xlabel('Index')\n",
    "plt.grid(axis='y', alpha=0.75)"
   ]
  },
  {
   "cell_type": "code",
   "execution_count": null,
   "id": "9",
   "metadata": {},
   "outputs": [],
   "source": [
    "#Create a parameter with a positive correlation to x\n",
    "y=.2*x+z\n",
    "#print(y)"
   ]
  },
  {
   "cell_type": "code",
   "execution_count": null,
   "id": "10",
   "metadata": {},
   "outputs": [],
   "source": [
    "mu_x=np.mean(x);Sigma_x=np.var(x);sigma_x=np.std(x)\n",
    "mu_x,Sigma_x,sigma_x"
   ]
  },
  {
   "cell_type": "code",
   "execution_count": null,
   "id": "11",
   "metadata": {},
   "outputs": [],
   "source": [
    "mu_y=np.mean(y);Sigma_y=np.var(y);sigma_y=np.std(y)\n",
    "mu_y,Sigma_y,sigma_y"
   ]
  },
  {
   "cell_type": "code",
   "execution_count": null,
   "id": "12",
   "metadata": {},
   "outputs": [],
   "source": [
    "plt.plot(x,y, 'go', markersize=1)\n",
    "plt.xlabel('X Values')\n",
    "plt.ylabel('Y Values')"
   ]
  },
  {
   "cell_type": "code",
   "execution_count": null,
   "id": "13",
   "metadata": {},
   "outputs": [],
   "source": [
    "#Pack data into a data frame \n",
    "d = {'x': pd.Series(x), 'y': pd.Series(y)}\n",
    "df = pd.DataFrame(d)\n",
    "#Mean Value\n",
    "M_xy=df.mean()\n",
    "print(M_xy)"
   ]
  },
  {
   "cell_type": "code",
   "execution_count": null,
   "id": "14",
   "metadata": {},
   "outputs": [],
   "source": [
    "#Covariance values\n",
    "C_xy=df.cov()\n",
    "print(C_xy)"
   ]
  },
  {
   "cell_type": "code",
   "execution_count": null,
   "id": "15",
   "metadata": {},
   "outputs": [],
   "source": [
    "#Standard deviation value \n",
    "sigma_xy=df.std()\n",
    "print(sigma_xy)"
   ]
  },
  {
   "cell_type": "code",
   "execution_count": null,
   "id": "16",
   "metadata": {},
   "outputs": [],
   "source": [
    "#Correlation Value \n",
    "R_xy=df.corr()\n",
    "print(R_xy)"
   ]
  },
  {
   "cell_type": "code",
   "execution_count": null,
   "id": "17",
   "metadata": {},
   "outputs": [],
   "source": [
    "plt.plot(df['x'], df['y'], 'go', markersize=1)\n",
    "plt.xlabel('X Values')\n",
    "plt.ylabel('Y Values')\n",
    "plt.plot(M_xy[0],M_xy[1],'ro', markersize=5)\n",
    "plt.grid(axis='both', alpha=0.75)"
   ]
  },
  {
   "cell_type": "code",
   "execution_count": null,
   "id": "18",
   "metadata": {},
   "outputs": [],
   "source": [
    "df=df.subtract(M_xy)"
   ]
  },
  {
   "cell_type": "code",
   "execution_count": null,
   "id": "19",
   "metadata": {},
   "outputs": [],
   "source": [
    "plt.plot(df['x'], df['y'], 'go', markersize=1)\n",
    "plt.xlabel('X Values')\n",
    "plt.ylabel('Y Values')\n",
    "plt.plot(0,0,'ro', markersize=5)\n",
    "plt.grid(axis='both', alpha=0.75)"
   ]
  },
  {
   "cell_type": "code",
   "execution_count": null,
   "id": "20",
   "metadata": {},
   "outputs": [],
   "source": [
    "#Creatin  the KDE plot\n",
    "g = sns.jointplot(x='x', y='y', data=df, kind=\"kde\")\n",
    "g.plot_joint(plt.scatter, c=\"k\", s=1)\n",
    "plt.grid(axis='both', alpha=0.75)"
   ]
  },
  {
   "cell_type": "code",
   "execution_count": null,
   "id": "21",
   "metadata": {},
   "outputs": [],
   "source": [
    "#Create a parameter with a zero correlation to x\n",
    "z1=0.01*np.random.normal(0,1,1000)\n",
    "z2=0.01*np.random.normal(0,1,1000)\n",
    "z3=0.01*np.random.normal(0,1,1000)\n",
    "\n",
    "z4=8*np.random.normal(0,1,1000)\n",
    "z5=8*np.random.normal(0,1,1000)\n",
    "z6=8*np.random.normal(0,1,1000)\n",
    "\n",
    "z7=20*np.random.normal(0,1,1000)\n",
    "z8=20*np.random.normal(0,1,1000)\n",
    "z9=20*np.random.normal(0,1,1000)\n",
    "\n",
    "y1=1*x+z1;y2=0*x+z2;y3=-1*x+z3;\n",
    "y4=1*x+z4;y5=0*x+z5;y6=-1*x+z6;\n",
    "y7=1*x+z7;y8=0*x+z8;y9=-1*x+z9;\n",
    "\n",
    "#Calculate cov and cor values\n",
    "C1 = round(np.cov(x,y1)[0][1], 2);R1 = round(np.corrcoef(x,y1)[0][1], 2)\n",
    "C2 = round(np.cov(x,y2)[0][1], 2);R2 = round(np.corrcoef(x,y2)[0][1], 2)\n",
    "C3 = round(np.cov(x,y3)[0][1], 2);R3 = round(np.corrcoef(x,y3)[0][1], 2)\n",
    "C4 = round(np.cov(x,y4)[0][1], 2);R4 = round(np.corrcoef(x,y4)[0][1], 2)\n",
    "C5 = round(np.cov(x,y5)[0][1], 2);R5 = round(np.corrcoef(x,y5)[0][1], 2)\n",
    "C6 = round(np.cov(x,y6)[0][1], 2);R6 = round(np.corrcoef(x,y6)[0][1], 2)\n",
    "C7 = round(np.cov(x,y7)[0][1], 2);R7 = round(np.corrcoef(x,y7)[0][1], 2)\n",
    "C8 = round(np.cov(x,y8)[0][1], 2);R8 = round(np.corrcoef(x,y8)[0][1], 2)\n",
    "C9 = round(np.cov(x,y9)[0][1], 2);R9 = round(np.corrcoef(x,y9)[0][1], 2)"
   ]
  },
  {
   "cell_type": "code",
   "execution_count": null,
   "id": "22",
   "metadata": {},
   "outputs": [],
   "source": [
    "fig = plt.figure()\n",
    "plt.rcParams['figure.figsize'] = [15, 10]\n",
    "ax1 = fig.add_subplot(331)\n",
    "ax2 = fig.add_subplot(332)\n",
    "ax3 = fig.add_subplot(333)\n",
    "ax4 = fig.add_subplot(334)\n",
    "ax5 = fig.add_subplot(335)\n",
    "ax6 = fig.add_subplot(336)\n",
    "ax7 = fig.add_subplot(337)\n",
    "ax8 = fig.add_subplot(338)\n",
    "ax9 = fig.add_subplot(339)\n",
    "ax1.plot(df['x'], y1, 'go', markersize=1)\n",
    "ax2.plot(df['x'], y2, 'go', markersize=1)\n",
    "ax3.plot(df['x'], y3, 'go', markersize=1)\n",
    "ax4.plot(df['x'], y4, 'go', markersize=1)\n",
    "ax5.plot(df['x'], y5, 'go', markersize=1)\n",
    "ax6.plot(df['x'], y6, 'go', markersize=1)\n",
    "ax7.plot(df['x'], y7, 'go', markersize=1)\n",
    "ax8.plot(df['x'], y8, 'go', markersize=1)\n",
    "ax9.plot(df['x'], y9, 'go', markersize=1)\n",
    "n=1\n",
    "ax8.set_xlabel('X Values')\n",
    "ax4.set_ylabel('Y Values')\n",
    "\n",
    "ax1.set_title(r'$\\sigma_{xy} = $'  +str(C1)+  r'$,  \\rho = $' +str(R1))\n",
    "ax2.set_title(r'$\\sigma_{xy} = $'  +str(C2)+  r'$,  \\rho = $' +str(R2))\n",
    "ax3.set_title(r'$\\sigma_{xy} = $'  +str(C3)+  r'$,  \\rho = $' +str(R3))\n",
    "ax4.set_title(r'$\\sigma_{xy} = $'  +str(C4)+  r'$,  \\rho = $' +str(R4))\n",
    "ax5.set_title(r'$\\sigma_{xy} = $'  +str(C5)+  r'$,  \\rho = $' +str(R5))\n",
    "ax6.set_title(r'$\\sigma_{xy} = $'  +str(C6)+  r'$,  \\rho = $' +str(R6))\n",
    "ax7.set_title(r'$\\sigma_{xy} = $'  +str(C7)+  r'$,  \\rho = $' +str(R7))\n",
    "ax8.set_title(r'$\\sigma_{xy} = $'  +str(C8)+  r'$,  \\rho = $' +str(R8))\n",
    "ax9.set_title(r'$\\sigma_{xy} = $'  +str(C9)+  r'$,  \\rho = $' +str(R9))\n",
    "\n",
    "plt.show()"
   ]
  },
  {
   "cell_type": "code",
   "execution_count": null,
   "id": "23",
   "metadata": {},
   "outputs": [],
   "source": []
  },
  {
   "cell_type": "code",
   "execution_count": null,
   "id": "24",
   "metadata": {},
   "outputs": [],
   "source": []
  },
  {
   "cell_type": "code",
   "execution_count": null,
   "id": "25",
   "metadata": {},
   "outputs": [],
   "source": []
  }
 ],
 "metadata": {
  "kernelspec": {
   "display_name": "Python 3 (ipykernel)",
   "language": "python",
   "name": "python3"
  },
  "language_info": {
   "codemirror_mode": {
    "name": "ipython",
    "version": 3
   },
   "file_extension": ".py",
   "mimetype": "text/x-python",
   "name": "python",
   "nbconvert_exporter": "python",
   "pygments_lexer": "ipython3",
   "version": "3.9.12"
  }
 },
 "nbformat": 4,
 "nbformat_minor": 5
}
