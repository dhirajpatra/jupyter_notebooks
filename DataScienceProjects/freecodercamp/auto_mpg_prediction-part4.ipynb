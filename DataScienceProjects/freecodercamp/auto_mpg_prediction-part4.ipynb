{
 "cells": [
  {
   "cell_type": "markdown",
   "metadata": {},
   "source": [
    "# Predicting Fuel Efficiency of Vehicles - Part 4\n",
    "## Deploying the Trained Model\n",
    "\n",
    "1. Start a Flask Project.\n",
    "2. Set up a dedicated environment with dependencies installed using pip.\n",
    "    \n",
    "    Packages to install: \n",
    "        pandas\n",
    "        numpy\n",
    "        sklearn\n",
    "        flask\n",
    "        matplotlib\n",
    "        gunicorn\n",
    "        seaborn\n",
    "3. Create a quick flask application to test a simple endpoint.\n",
    "4. Define a function to that accepts data from the POST request and return the predictions using a helper module.\n",
    "5. Test the endpoint using `requests` package"
   ]
  }
 ],
 "metadata": {
  "kernelspec": {
   "display_name": "Python 3",
   "language": "python",
   "name": "python3"
  },
  "language_info": {
   "codemirror_mode": {
    "name": "ipython",
    "version": 3
   },
   "file_extension": ".py",
   "mimetype": "text/x-python",
   "name": "python",
   "nbconvert_exporter": "python",
   "pygments_lexer": "ipython3",
   "version": "3.7.7"
  }
 },
 "nbformat": 4,
 "nbformat_minor": 4
}
