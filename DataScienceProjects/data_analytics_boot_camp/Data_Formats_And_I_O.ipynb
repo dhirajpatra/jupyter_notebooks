{
  "nbformat": 4,
  "nbformat_minor": 0,
  "metadata": {
    "colab": {
      "name": "Data Formats And I/O",
      "provenance": []
    },
    "kernelspec": {
      "name": "python3",
      "display_name": "Python 3"
    }
  },
  "cells": [
    {
      "cell_type": "code",
      "metadata": {
        "id": "Pv6v7RAkR483",
        "colab_type": "code",
        "colab": {}
      },
      "source": [
        "import pandas as pd\n",
        "import numpy as np"
      ],
      "execution_count": null,
      "outputs": []
    },
    {
      "cell_type": "code",
      "metadata": {
        "id": "vuTwt8uwR_FC",
        "colab_type": "code",
        "colab": {
          "base_uri": "https://localhost:8080/",
          "height": 34
        },
        "outputId": "89cf4b95-380e-463b-d71c-4eacb42d79dd"
      },
      "source": [
        "pd.__version__"
      ],
      "execution_count": null,
      "outputs": [
        {
          "output_type": "execute_result",
          "data": {
            "text/plain": [
              "'1.0.3'"
            ]
          },
          "metadata": {
            "tags": []
          },
          "execution_count": 2
        }
      ]
    },
    {
      "cell_type": "markdown",
      "metadata": {
        "id": "5J9zG0urSAAa",
        "colab_type": "text"
      },
      "source": [
        "#### Reading JSON"
      ]
    },
    {
      "cell_type": "code",
      "metadata": {
        "id": "JUFwE3ZInzgt",
        "colab_type": "code",
        "colab": {}
      },
      "source": [
        "# JSON (JavaScript Object Notation) is a standardized and language-independent format."
      ],
      "execution_count": null,
      "outputs": []
    },
    {
      "cell_type": "markdown",
      "metadata": {
        "id": "WdiaiINKSCL_",
        "colab_type": "text"
      },
      "source": [
        "\n",
        "\n",
        "> https://andybek.com/pandas-folks-json\n",
        "\n"
      ]
    },
    {
      "cell_type": "code",
      "metadata": {
        "id": "dzDd1XVPnsCI",
        "colab_type": "code",
        "colab": {}
      },
      "source": [
        "folks = pd.read_json('https://andybek.com/pandas-folks-json')"
      ],
      "execution_count": null,
      "outputs": []
    },
    {
      "cell_type": "code",
      "metadata": {
        "id": "sfrJ-Gixpy_o",
        "colab_type": "code",
        "colab": {
          "base_uri": "https://localhost:8080/"
        },
        "outputId": "74ca95da-b73f-4040-d3b7-3d12fb9ac673"
      },
      "source": [
        "folks"
      ],
      "execution_count": null,
      "outputs": [
        {
          "output_type": "execute_result",
          "data": {
            "text/html": [
              "<div>\n",
              "<style scoped>\n",
              "    .dataframe tbody tr th:only-of-type {\n",
              "        vertical-align: middle;\n",
              "    }\n",
              "\n",
              "    .dataframe tbody tr th {\n",
              "        vertical-align: top;\n",
              "    }\n",
              "\n",
              "    .dataframe thead th {\n",
              "        text-align: right;\n",
              "    }\n",
              "</style>\n",
              "<table border=\"1\" class=\"dataframe\">\n",
              "  <thead>\n",
              "    <tr style=\"text-align: right;\">\n",
              "      <th></th>\n",
              "      <th>name</th>\n",
              "      <th>salary</th>\n",
              "      <th>occupation</th>\n",
              "    </tr>\n",
              "  </thead>\n",
              "  <tbody>\n",
              "    <tr>\n",
              "      <th>0</th>\n",
              "      <td>Brian Dogood</td>\n",
              "      <td>64000</td>\n",
              "      <td>Software Technician</td>\n",
              "    </tr>\n",
              "    <tr>\n",
              "      <th>1</th>\n",
              "      <td>Leah Bokeh</td>\n",
              "      <td>73200</td>\n",
              "      <td>Data Scientist</td>\n",
              "    </tr>\n",
              "    <tr>\n",
              "      <th>2</th>\n",
              "      <td>Mark Prescott</td>\n",
              "      <td>76400</td>\n",
              "      <td>Business Consultant</td>\n",
              "    </tr>\n",
              "    <tr>\n",
              "      <th>3</th>\n",
              "      <td>Jurgen Gupta</td>\n",
              "      <td>94300</td>\n",
              "      <td>Aerospace Engineer</td>\n",
              "    </tr>\n",
              "  </tbody>\n",
              "</table>\n",
              "</div>"
            ],
            "text/plain": [
              "            name  salary           occupation\n",
              "0   Brian Dogood   64000  Software Technician\n",
              "1     Leah Bokeh   73200       Data Scientist\n",
              "2  Mark Prescott   76400  Business Consultant\n",
              "3   Jurgen Gupta   94300   Aerospace Engineer"
            ]
          },
          "metadata": {
            "tags": []
          },
          "execution_count": 5
        }
      ]
    },
    {
      "cell_type": "code",
      "metadata": {
        "id": "9o1EI1y1qBdB",
        "colab_type": "code",
        "colab": {
          "base_uri": "https://localhost:8080/"
        },
        "outputId": "093f6424-1fbc-4330-e454-030df83394e7"
      },
      "source": [
        "type(folks)"
      ],
      "execution_count": null,
      "outputs": [
        {
          "output_type": "execute_result",
          "data": {
            "text/plain": [
              "pandas.core.frame.DataFrame"
            ]
          },
          "metadata": {
            "tags": []
          },
          "execution_count": 6
        }
      ]
    },
    {
      "cell_type": "code",
      "metadata": {
        "id": "j-2B0J86qCLK",
        "colab_type": "code",
        "colab": {
          "base_uri": "https://localhost:8080/"
        },
        "outputId": "e265c7d2-f8b4-4e0b-e2ce-de1e468e2a2d"
      },
      "source": [
        "folks.iloc[2]"
      ],
      "execution_count": null,
      "outputs": [
        {
          "output_type": "execute_result",
          "data": {
            "text/plain": [
              "name                Mark Prescott\n",
              "salary                      76400\n",
              "occupation    Business Consultant\n",
              "Name: 2, dtype: object"
            ]
          },
          "metadata": {
            "tags": []
          },
          "execution_count": 7
        }
      ]
    },
    {
      "cell_type": "code",
      "metadata": {
        "id": "z2EyURRsqDww",
        "colab_type": "code",
        "colab": {
          "base_uri": "https://localhost:8080/"
        },
        "outputId": "fe0fbd7b-e09a-4c60-e0af-9a6fdb1d2c8b"
      },
      "source": [
        "folks.info()"
      ],
      "execution_count": null,
      "outputs": [
        {
          "output_type": "stream",
          "text": [
            "<class 'pandas.core.frame.DataFrame'>\n",
            "RangeIndex: 4 entries, 0 to 3\n",
            "Data columns (total 3 columns):\n",
            " #   Column      Non-Null Count  Dtype \n",
            "---  ------      --------------  ----- \n",
            " 0   name        4 non-null      object\n",
            " 1   salary      4 non-null      int64 \n",
            " 2   occupation  4 non-null      object\n",
            "dtypes: int64(1), object(2)\n",
            "memory usage: 224.0+ bytes\n"
          ],
          "name": "stdout"
        }
      ]
    },
    {
      "cell_type": "markdown",
      "metadata": {
        "id": "9PlOXJuKqExV",
        "colab_type": "text"
      },
      "source": [
        "#### Reading HTML"
      ]
    },
    {
      "cell_type": "code",
      "metadata": {
        "id": "V4HQIi_dr1TT",
        "colab_type": "code",
        "colab": {}
      },
      "source": [
        "# Hypertext Markup Language"
      ],
      "execution_count": null,
      "outputs": []
    },
    {
      "cell_type": "code",
      "metadata": {
        "id": "mCR4OBpix5i-",
        "colab_type": "code",
        "colab": {}
      },
      "source": [
        "# Q: put together a dataframe of European countries and their populations"
      ],
      "execution_count": null,
      "outputs": []
    },
    {
      "cell_type": "code",
      "metadata": {
        "id": "pxjsjWnBy2YL",
        "colab_type": "code",
        "colab": {}
      },
      "source": [
        "data_url = 'https://en.wikipedia.org/wiki/List_of_European_countries_by_population'"
      ],
      "execution_count": null,
      "outputs": []
    },
    {
      "cell_type": "code",
      "metadata": {
        "id": "IdiOZ9OEzI-q",
        "colab_type": "code",
        "colab": {}
      },
      "source": [
        "countries = pd.read_html(data_url, header=1)"
      ],
      "execution_count": null,
      "outputs": []
    },
    {
      "cell_type": "code",
      "metadata": {
        "id": "61zayUsazQbW",
        "colab_type": "code",
        "colab": {
          "base_uri": "https://localhost:8080/"
        },
        "outputId": "f62947d9-13d9-4491-ec75-2fdcf80e918b"
      },
      "source": [
        "type(countries)"
      ],
      "execution_count": null,
      "outputs": [
        {
          "output_type": "execute_result",
          "data": {
            "text/plain": [
              "list"
            ]
          },
          "metadata": {
            "tags": []
          },
          "execution_count": 13
        }
      ]
    },
    {
      "cell_type": "code",
      "metadata": {
        "id": "-0HhmSfDzSKf",
        "colab_type": "code",
        "colab": {
          "base_uri": "https://localhost:8080/"
        },
        "outputId": "4adcb66d-436c-468f-f545-dc5eb4eb8059"
      },
      "source": [
        "len(countries)"
      ],
      "execution_count": null,
      "outputs": [
        {
          "output_type": "execute_result",
          "data": {
            "text/plain": [
              "2"
            ]
          },
          "metadata": {
            "tags": []
          },
          "execution_count": 14
        }
      ]
    },
    {
      "cell_type": "code",
      "metadata": {
        "id": "i_9gFYVGzWQg",
        "colab_type": "code",
        "colab": {
          "base_uri": "https://localhost:8080/"
        },
        "outputId": "93188319-2d05-41ce-84e2-585e5c23b64d"
      },
      "source": [
        "countries[0].head()"
      ],
      "execution_count": null,
      "outputs": [
        {
          "output_type": "execute_result",
          "data": {
            "text/html": [
              "<div>\n",
              "<style scoped>\n",
              "    .dataframe tbody tr th:only-of-type {\n",
              "        vertical-align: middle;\n",
              "    }\n",
              "\n",
              "    .dataframe tbody tr th {\n",
              "        vertical-align: top;\n",
              "    }\n",
              "\n",
              "    .dataframe thead th {\n",
              "        text-align: right;\n",
              "    }\n",
              "</style>\n",
              "<table border=\"1\" class=\"dataframe\">\n",
              "  <thead>\n",
              "    <tr style=\"text-align: right;\">\n",
              "      <th></th>\n",
              "      <th>Rank[Note 1]</th>\n",
              "      <th>Country(or dependent territory)</th>\n",
              "      <th>UNestimate</th>\n",
              "      <th>Estimate</th>\n",
              "      <th>Date</th>\n",
              "      <th>Regionalgrouping</th>\n",
              "      <th>Source</th>\n",
              "    </tr>\n",
              "  </thead>\n",
              "  <tbody>\n",
              "    <tr>\n",
              "      <th>0</th>\n",
              "      <td>1.0</td>\n",
              "      <td>Russia[Note 2]</td>\n",
              "      <td>145982925.0</td>\n",
              "      <td>146877088</td>\n",
              "      <td>1 Jan 2018</td>\n",
              "      <td>EAEU</td>\n",
              "      <td>National Estimate[3]</td>\n",
              "    </tr>\n",
              "    <tr>\n",
              "      <th>1</th>\n",
              "      <td>2.0</td>\n",
              "      <td>Germany</td>\n",
              "      <td>83832481.0</td>\n",
              "      <td>82887000</td>\n",
              "      <td>30 Jun 2018</td>\n",
              "      <td>EU</td>\n",
              "      <td>National estimate[4]</td>\n",
              "    </tr>\n",
              "    <tr>\n",
              "      <th>2</th>\n",
              "      <td>3.0</td>\n",
              "      <td>Turkey</td>\n",
              "      <td>84311607.0</td>\n",
              "      <td>83154997</td>\n",
              "      <td>4 Feb 2020</td>\n",
              "      <td>NaN</td>\n",
              "      <td>National estimate[5]</td>\n",
              "    </tr>\n",
              "    <tr>\n",
              "      <th>3</th>\n",
              "      <td>4.0</td>\n",
              "      <td>France[Note 3]</td>\n",
              "      <td>65241316.0</td>\n",
              "      <td>67076000</td>\n",
              "      <td>1 Mar 2020</td>\n",
              "      <td>EU</td>\n",
              "      <td>Monthly national estimate[6]</td>\n",
              "    </tr>\n",
              "    <tr>\n",
              "      <th>4</th>\n",
              "      <td>5.0</td>\n",
              "      <td>United Kingdom[Note 4]</td>\n",
              "      <td>67842580.0</td>\n",
              "      <td>66435550</td>\n",
              "      <td>30 Jun 2017</td>\n",
              "      <td>NaN</td>\n",
              "      <td>National annual estimate [7]</td>\n",
              "    </tr>\n",
              "  </tbody>\n",
              "</table>\n",
              "</div>"
            ],
            "text/plain": [
              "   Rank[Note 1]  ...                        Source\n",
              "0           1.0  ...          National Estimate[3]\n",
              "1           2.0  ...          National estimate[4]\n",
              "2           3.0  ...          National estimate[5]\n",
              "3           4.0  ...  Monthly national estimate[6]\n",
              "4           5.0  ...  National annual estimate [7]\n",
              "\n",
              "[5 rows x 7 columns]"
            ]
          },
          "metadata": {
            "tags": []
          },
          "execution_count": 15
        }
      ]
    },
    {
      "cell_type": "code",
      "metadata": {
        "id": "nNVsa98szg6s",
        "colab_type": "code",
        "colab": {}
      },
      "source": [
        "countries = countries[0].loc[:, ['Country(or dependent territory)', 'Estimate']]"
      ],
      "execution_count": null,
      "outputs": []
    },
    {
      "cell_type": "code",
      "metadata": {
        "id": "uHvuqycs0Dbw",
        "colab_type": "code",
        "colab": {
          "base_uri": "https://localhost:8080/"
        },
        "outputId": "555f0189-298b-46fb-b07b-bc4f811486a7"
      },
      "source": [
        "countries.head()"
      ],
      "execution_count": null,
      "outputs": [
        {
          "output_type": "execute_result",
          "data": {
            "text/html": [
              "<div>\n",
              "<style scoped>\n",
              "    .dataframe tbody tr th:only-of-type {\n",
              "        vertical-align: middle;\n",
              "    }\n",
              "\n",
              "    .dataframe tbody tr th {\n",
              "        vertical-align: top;\n",
              "    }\n",
              "\n",
              "    .dataframe thead th {\n",
              "        text-align: right;\n",
              "    }\n",
              "</style>\n",
              "<table border=\"1\" class=\"dataframe\">\n",
              "  <thead>\n",
              "    <tr style=\"text-align: right;\">\n",
              "      <th></th>\n",
              "      <th>Country(or dependent territory)</th>\n",
              "      <th>Estimate</th>\n",
              "    </tr>\n",
              "  </thead>\n",
              "  <tbody>\n",
              "    <tr>\n",
              "      <th>0</th>\n",
              "      <td>Russia[Note 2]</td>\n",
              "      <td>146877088</td>\n",
              "    </tr>\n",
              "    <tr>\n",
              "      <th>1</th>\n",
              "      <td>Germany</td>\n",
              "      <td>82887000</td>\n",
              "    </tr>\n",
              "    <tr>\n",
              "      <th>2</th>\n",
              "      <td>Turkey</td>\n",
              "      <td>83154997</td>\n",
              "    </tr>\n",
              "    <tr>\n",
              "      <th>3</th>\n",
              "      <td>France[Note 3]</td>\n",
              "      <td>67076000</td>\n",
              "    </tr>\n",
              "    <tr>\n",
              "      <th>4</th>\n",
              "      <td>United Kingdom[Note 4]</td>\n",
              "      <td>66435550</td>\n",
              "    </tr>\n",
              "  </tbody>\n",
              "</table>\n",
              "</div>"
            ],
            "text/plain": [
              "  Country(or dependent territory)   Estimate\n",
              "0                  Russia[Note 2]  146877088\n",
              "1                         Germany   82887000\n",
              "2                          Turkey   83154997\n",
              "3                  France[Note 3]   67076000\n",
              "4          United Kingdom[Note 4]   66435550"
            ]
          },
          "metadata": {
            "tags": []
          },
          "execution_count": 17
        }
      ]
    },
    {
      "cell_type": "code",
      "metadata": {
        "id": "PmGgWVxt0HF3",
        "colab_type": "code",
        "colab": {}
      },
      "source": [
        "# renaming column labels\n",
        "countries.rename({'Country(or dependent territory)':'Country'}, axis=1, inplace=True)"
      ],
      "execution_count": null,
      "outputs": []
    },
    {
      "cell_type": "code",
      "metadata": {
        "id": "_GANX73u0QzU",
        "colab_type": "code",
        "colab": {}
      },
      "source": [
        "# removing [Note x]\n",
        "countries.replace(r'\\[Note \\d+\\]', '', regex=True, inplace=True)"
      ],
      "execution_count": null,
      "outputs": []
    },
    {
      "cell_type": "code",
      "metadata": {
        "id": "yzD2SeBi0f0x",
        "colab_type": "code",
        "colab": {
          "base_uri": "https://localhost:8080/"
        },
        "outputId": "de4c565b-55b8-4588-9733-0887e33317e5"
      },
      "source": [
        "from matplotlib import pyplot as plt\n",
        "plt.style.use('ggplot')\n",
        "countries.set_index('Country').iloc[:10].plot(kind='bar', figsize=(10,6));"
      ],
      "execution_count": null,
      "outputs": [
        {
          "output_type": "display_data",
          "data": {
            "image/png": "[encoded data removed]",
            "text/plain": [
              "<Figure size 720x432 with 1 Axes>"
            ]
          },
          "metadata": {
            "tags": []
          }
        }
      ]
    },
    {
      "cell_type": "markdown",
      "metadata": {
        "id": "dCCoFXov0_Nc",
        "colab_type": "text"
      },
      "source": [
        "#### Reading Excel"
      ]
    },
    {
      "cell_type": "markdown",
      "metadata": {
        "id": "qkFb-H-3MknQ",
        "colab_type": "text"
      },
      "source": [
        "Popular Excel Formats\n",
        "\n",
        "*   .xls  -> binary format\n",
        "*   .xlsx -> xml-based, available in newer versions\n",
        "\n",
        "> https://andybek.com/folks.xlsx\n",
        "\n"
      ]
    },
    {
      "cell_type": "code",
      "metadata": {
        "id": "P-5cT1SiQRvW",
        "colab_type": "code",
        "colab": {}
      },
      "source": [
        "# read_excel()"
      ],
      "execution_count": null,
      "outputs": []
    },
    {
      "cell_type": "code",
      "metadata": {
        "id": "Csian3WtQTD_",
        "colab_type": "code",
        "colab": {
          "base_uri": "https://localhost:8080/"
        },
        "outputId": "fb21c60f-d3eb-415f-8f20-c63ef6c4c909"
      },
      "source": [
        "pd.read_excel('https://andybek.com/folks.xlsx')"
      ],
      "execution_count": null,
      "outputs": [
        {
          "output_type": "execute_result",
          "data": {
            "text/html": [
              "<div>\n",
              "<style scoped>\n",
              "    .dataframe tbody tr th:only-of-type {\n",
              "        vertical-align: middle;\n",
              "    }\n",
              "\n",
              "    .dataframe tbody tr th {\n",
              "        vertical-align: top;\n",
              "    }\n",
              "\n",
              "    .dataframe thead th {\n",
              "        text-align: right;\n",
              "    }\n",
              "</style>\n",
              "<table border=\"1\" class=\"dataframe\">\n",
              "  <thead>\n",
              "    <tr style=\"text-align: right;\">\n",
              "      <th></th>\n",
              "      <th>name</th>\n",
              "      <th>salary</th>\n",
              "      <th>occupation</th>\n",
              "    </tr>\n",
              "  </thead>\n",
              "  <tbody>\n",
              "    <tr>\n",
              "      <th>0</th>\n",
              "      <td>Brian Dogood</td>\n",
              "      <td>64000</td>\n",
              "      <td>Software Technician</td>\n",
              "    </tr>\n",
              "    <tr>\n",
              "      <th>1</th>\n",
              "      <td>Leah Bokeh</td>\n",
              "      <td>73200</td>\n",
              "      <td>Data Scientist</td>\n",
              "    </tr>\n",
              "    <tr>\n",
              "      <th>2</th>\n",
              "      <td>Mark Prescott</td>\n",
              "      <td>76400</td>\n",
              "      <td>Business Consultant</td>\n",
              "    </tr>\n",
              "    <tr>\n",
              "      <th>3</th>\n",
              "      <td>Jurgen Gupta</td>\n",
              "      <td>94300</td>\n",
              "      <td>Aerospace Engineer</td>\n",
              "    </tr>\n",
              "  </tbody>\n",
              "</table>\n",
              "</div>"
            ],
            "text/plain": [
              "            name  salary           occupation\n",
              "0   Brian Dogood   64000  Software Technician\n",
              "1     Leah Bokeh   73200       Data Scientist\n",
              "2  Mark Prescott   76400  Business Consultant\n",
              "3   Jurgen Gupta   94300   Aerospace Engineer"
            ]
          },
          "metadata": {
            "tags": []
          },
          "execution_count": 22
        }
      ]
    },
    {
      "cell_type": "code",
      "metadata": {
        "id": "SXLxdpsQQYv1",
        "colab_type": "code",
        "colab": {
          "base_uri": "https://localhost:8080/"
        },
        "outputId": "09df89d7-7d5b-4ab7-a68f-f2b29e25397a"
      },
      "source": [
        "pd.read_excel('https://andybek.com/folks.xlsx', sheet_name='hobbies')"
      ],
      "execution_count": null,
      "outputs": [
        {
          "output_type": "execute_result",
          "data": {
            "text/html": [
              "<div>\n",
              "<style scoped>\n",
              "    .dataframe tbody tr th:only-of-type {\n",
              "        vertical-align: middle;\n",
              "    }\n",
              "\n",
              "    .dataframe tbody tr th {\n",
              "        vertical-align: top;\n",
              "    }\n",
              "\n",
              "    .dataframe thead th {\n",
              "        text-align: right;\n",
              "    }\n",
              "</style>\n",
              "<table border=\"1\" class=\"dataframe\">\n",
              "  <thead>\n",
              "    <tr style=\"text-align: right;\">\n",
              "      <th></th>\n",
              "      <th>name</th>\n",
              "      <th>hobby</th>\n",
              "    </tr>\n",
              "  </thead>\n",
              "  <tbody>\n",
              "    <tr>\n",
              "      <th>0</th>\n",
              "      <td>Brian Dogood</td>\n",
              "      <td>Fishing</td>\n",
              "    </tr>\n",
              "    <tr>\n",
              "      <th>1</th>\n",
              "      <td>Leah Bokeh</td>\n",
              "      <td>Skateboarding</td>\n",
              "    </tr>\n",
              "    <tr>\n",
              "      <th>2</th>\n",
              "      <td>Mark Prescott</td>\n",
              "      <td>Value Investing</td>\n",
              "    </tr>\n",
              "    <tr>\n",
              "      <th>3</th>\n",
              "      <td>Jurgen Gupta</td>\n",
              "      <td>Drawing</td>\n",
              "    </tr>\n",
              "  </tbody>\n",
              "</table>\n",
              "</div>"
            ],
            "text/plain": [
              "            name            hobby\n",
              "0   Brian Dogood          Fishing\n",
              "1     Leah Bokeh    Skateboarding\n",
              "2  Mark Prescott  Value Investing\n",
              "3   Jurgen Gupta          Drawing"
            ]
          },
          "metadata": {
            "tags": []
          },
          "execution_count": 23
        }
      ]
    },
    {
      "cell_type": "code",
      "metadata": {
        "id": "Sqzj9xcOQrCz",
        "colab_type": "code",
        "colab": {
          "base_uri": "https://localhost:8080/"
        },
        "outputId": "4ebf7fcb-9477-498c-b191-3966bcfd94a4"
      },
      "source": [
        "pd.read_excel('https://andybek.com/folks.xlsx', 'hobbies')"
      ],
      "execution_count": null,
      "outputs": [
        {
          "output_type": "execute_result",
          "data": {
            "text/html": [
              "<div>\n",
              "<style scoped>\n",
              "    .dataframe tbody tr th:only-of-type {\n",
              "        vertical-align: middle;\n",
              "    }\n",
              "\n",
              "    .dataframe tbody tr th {\n",
              "        vertical-align: top;\n",
              "    }\n",
              "\n",
              "    .dataframe thead th {\n",
              "        text-align: right;\n",
              "    }\n",
              "</style>\n",
              "<table border=\"1\" class=\"dataframe\">\n",
              "  <thead>\n",
              "    <tr style=\"text-align: right;\">\n",
              "      <th></th>\n",
              "      <th>name</th>\n",
              "      <th>hobby</th>\n",
              "    </tr>\n",
              "  </thead>\n",
              "  <tbody>\n",
              "    <tr>\n",
              "      <th>0</th>\n",
              "      <td>Brian Dogood</td>\n",
              "      <td>Fishing</td>\n",
              "    </tr>\n",
              "    <tr>\n",
              "      <th>1</th>\n",
              "      <td>Leah Bokeh</td>\n",
              "      <td>Skateboarding</td>\n",
              "    </tr>\n",
              "    <tr>\n",
              "      <th>2</th>\n",
              "      <td>Mark Prescott</td>\n",
              "      <td>Value Investing</td>\n",
              "    </tr>\n",
              "    <tr>\n",
              "      <th>3</th>\n",
              "      <td>Jurgen Gupta</td>\n",
              "      <td>Drawing</td>\n",
              "    </tr>\n",
              "  </tbody>\n",
              "</table>\n",
              "</div>"
            ],
            "text/plain": [
              "            name            hobby\n",
              "0   Brian Dogood          Fishing\n",
              "1     Leah Bokeh    Skateboarding\n",
              "2  Mark Prescott  Value Investing\n",
              "3   Jurgen Gupta          Drawing"
            ]
          },
          "metadata": {
            "tags": []
          },
          "execution_count": 24
        }
      ]
    },
    {
      "cell_type": "code",
      "metadata": {
        "id": "EjdF4I1uQvUu",
        "colab_type": "code",
        "colab": {
          "base_uri": "https://localhost:8080/"
        },
        "outputId": "2408e072-2341-4cf6-94af-be81144e72a4"
      },
      "source": [
        "pd.read_excel('https://andybek.com/folks.xlsx', 1)"
      ],
      "execution_count": null,
      "outputs": [
        {
          "output_type": "execute_result",
          "data": {
            "text/html": [
              "<div>\n",
              "<style scoped>\n",
              "    .dataframe tbody tr th:only-of-type {\n",
              "        vertical-align: middle;\n",
              "    }\n",
              "\n",
              "    .dataframe tbody tr th {\n",
              "        vertical-align: top;\n",
              "    }\n",
              "\n",
              "    .dataframe thead th {\n",
              "        text-align: right;\n",
              "    }\n",
              "</style>\n",
              "<table border=\"1\" class=\"dataframe\">\n",
              "  <thead>\n",
              "    <tr style=\"text-align: right;\">\n",
              "      <th></th>\n",
              "      <th>name</th>\n",
              "      <th>hobby</th>\n",
              "    </tr>\n",
              "  </thead>\n",
              "  <tbody>\n",
              "    <tr>\n",
              "      <th>0</th>\n",
              "      <td>Brian Dogood</td>\n",
              "      <td>Fishing</td>\n",
              "    </tr>\n",
              "    <tr>\n",
              "      <th>1</th>\n",
              "      <td>Leah Bokeh</td>\n",
              "      <td>Skateboarding</td>\n",
              "    </tr>\n",
              "    <tr>\n",
              "      <th>2</th>\n",
              "      <td>Mark Prescott</td>\n",
              "      <td>Value Investing</td>\n",
              "    </tr>\n",
              "    <tr>\n",
              "      <th>3</th>\n",
              "      <td>Jurgen Gupta</td>\n",
              "      <td>Drawing</td>\n",
              "    </tr>\n",
              "  </tbody>\n",
              "</table>\n",
              "</div>"
            ],
            "text/plain": [
              "            name            hobby\n",
              "0   Brian Dogood          Fishing\n",
              "1     Leah Bokeh    Skateboarding\n",
              "2  Mark Prescott  Value Investing\n",
              "3   Jurgen Gupta          Drawing"
            ]
          },
          "metadata": {
            "tags": []
          },
          "execution_count": 25
        }
      ]
    },
    {
      "cell_type": "code",
      "metadata": {
        "id": "_JLHrjMGQ1f6",
        "colab_type": "code",
        "colab": {
          "base_uri": "https://localhost:8080/"
        },
        "outputId": "5c528b86-fa63-42ca-966f-df40062cbd00"
      },
      "source": [
        "!pip show xlrd"
      ],
      "execution_count": null,
      "outputs": [
        {
          "output_type": "stream",
          "text": [
            "Name: xlrd\n",
            "Version: 1.1.0\n",
            "Summary: Library for developers to extract data from Microsoft Excel (tm) spreadsheet files\n",
            "Home-page: http://www.python-excel.org/\n",
            "Author: John Machin\n",
            "Author-email: sjmachin@lexicon.net\n",
            "License: BSD\n",
            "Location: /usr/local/lib/python3.6/dist-packages\n",
            "Requires: \n",
            "Required-by: \n"
          ],
          "name": "stdout"
        }
      ]
    },
    {
      "cell_type": "code",
      "metadata": {
        "id": "fYexg4LkRIZC",
        "colab_type": "code",
        "colab": {
          "base_uri": "https://localhost:8080/"
        },
        "outputId": "d7fa5dfc-b5f9-4349-ee54-172fa6e0eb78"
      },
      "source": [
        "!pip show openpyxl"
      ],
      "execution_count": null,
      "outputs": [
        {
          "output_type": "stream",
          "text": [
            "Name: openpyxl\n",
            "Version: 2.5.9\n",
            "Summary: A Python library to read/write Excel 2010 xlsx/xlsm files\n",
            "Home-page: https://openpyxl.readthedocs.io\n",
            "Author: See AUTHORS\n",
            "Author-email: charlie.clark@clark-consulting.eu\n",
            "License: MIT/Expat\n",
            "Location: /usr/local/lib/python3.6/dist-packages\n",
            "Requires: jdcal, et-xmlfile\n",
            "Required-by: \n"
          ],
          "name": "stdout"
        }
      ]
    },
    {
      "cell_type": "code",
      "metadata": {
        "id": "NOw_BP8jRUz2",
        "colab_type": "code",
        "colab": {
          "base_uri": "https://localhost:8080/"
        },
        "outputId": "b150a08e-ebd6-441e-df31-edf3241b952c"
      },
      "source": [
        "!pip install xlrd openpyxl"
      ],
      "execution_count": null,
      "outputs": [
        {
          "output_type": "stream",
          "text": [
            "Requirement already satisfied: xlrd in /usr/local/lib/python3.6/dist-packages (1.1.0)\n",
            "Requirement already satisfied: openpyxl in /usr/local/lib/python3.6/dist-packages (2.5.9)\n",
            "Requirement already satisfied: et-xmlfile in /usr/local/lib/python3.6/dist-packages (from openpyxl) (1.0.1)\n",
            "Requirement already satisfied: jdcal in /usr/local/lib/python3.6/dist-packages (from openpyxl) (1.4.1)\n"
          ],
          "name": "stdout"
        }
      ]
    },
    {
      "cell_type": "markdown",
      "metadata": {
        "id": "fcjdNW3VSJT8",
        "colab_type": "text"
      },
      "source": [
        "#### Creating Output: The to_* Family Of Methods"
      ]
    },
    {
      "cell_type": "code",
      "metadata": {
        "id": "kEOJHcH7TRvI",
        "colab_type": "code",
        "colab": {}
      },
      "source": [
        "# I/O -> Input/Output"
      ],
      "execution_count": null,
      "outputs": []
    },
    {
      "cell_type": "code",
      "metadata": {
        "id": "03Xv6byeWFJt",
        "colab_type": "code",
        "colab": {}
      },
      "source": [
        "# read_{format}"
      ],
      "execution_count": null,
      "outputs": []
    },
    {
      "cell_type": "code",
      "metadata": {
        "id": "ZtWDsj4KuROX",
        "colab_type": "code",
        "colab": {}
      },
      "source": [
        "hobbies = pd.read_excel('https://andybek.com/folks.xlsx', 'hobbies')"
      ],
      "execution_count": null,
      "outputs": []
    },
    {
      "cell_type": "code",
      "metadata": {
        "id": "jRXpzTzfulix",
        "colab_type": "code",
        "colab": {
          "base_uri": "https://localhost:8080/"
        },
        "outputId": "77cb193f-233e-491f-c821-ba4eb26e17a4"
      },
      "source": [
        "hobbies"
      ],
      "execution_count": null,
      "outputs": [
        {
          "output_type": "execute_result",
          "data": {
            "text/html": [
              "<div>\n",
              "<style scoped>\n",
              "    .dataframe tbody tr th:only-of-type {\n",
              "        vertical-align: middle;\n",
              "    }\n",
              "\n",
              "    .dataframe tbody tr th {\n",
              "        vertical-align: top;\n",
              "    }\n",
              "\n",
              "    .dataframe thead th {\n",
              "        text-align: right;\n",
              "    }\n",
              "</style>\n",
              "<table border=\"1\" class=\"dataframe\">\n",
              "  <thead>\n",
              "    <tr style=\"text-align: right;\">\n",
              "      <th></th>\n",
              "      <th>name</th>\n",
              "      <th>hobby</th>\n",
              "    </tr>\n",
              "  </thead>\n",
              "  <tbody>\n",
              "    <tr>\n",
              "      <th>0</th>\n",
              "      <td>Brian Dogood</td>\n",
              "      <td>Fishing</td>\n",
              "    </tr>\n",
              "    <tr>\n",
              "      <th>1</th>\n",
              "      <td>Leah Bokeh</td>\n",
              "      <td>Skateboarding</td>\n",
              "    </tr>\n",
              "    <tr>\n",
              "      <th>2</th>\n",
              "      <td>Mark Prescott</td>\n",
              "      <td>Value Investing</td>\n",
              "    </tr>\n",
              "    <tr>\n",
              "      <th>3</th>\n",
              "      <td>Jurgen Gupta</td>\n",
              "      <td>Drawing</td>\n",
              "    </tr>\n",
              "  </tbody>\n",
              "</table>\n",
              "</div>"
            ],
            "text/plain": [
              "            name            hobby\n",
              "0   Brian Dogood          Fishing\n",
              "1     Leah Bokeh    Skateboarding\n",
              "2  Mark Prescott  Value Investing\n",
              "3   Jurgen Gupta          Drawing"
            ]
          },
          "metadata": {
            "tags": []
          },
          "execution_count": 32
        }
      ]
    },
    {
      "cell_type": "code",
      "metadata": {
        "id": "aJtQA1TIuosP",
        "colab_type": "code",
        "colab": {}
      },
      "source": [
        "# tasks:\n",
        "# - add a new person to the hobbies dataframe\n",
        "# - save the resulting df to a csv"
      ],
      "execution_count": null,
      "outputs": []
    },
    {
      "cell_type": "code",
      "metadata": {
        "id": "GpLg3kVvuv6Z",
        "colab_type": "code",
        "colab": {}
      },
      "source": [
        "hobbies.loc[4] = ['Zoltan Zachary', 'Archery']"
      ],
      "execution_count": null,
      "outputs": []
    },
    {
      "cell_type": "code",
      "metadata": {
        "id": "GhfVKlKUu5hF",
        "colab_type": "code",
        "colab": {
          "base_uri": "https://localhost:8080/"
        },
        "outputId": "f9df2581-6ee7-4621-d858-60c6a4302b10"
      },
      "source": [
        "hobbies"
      ],
      "execution_count": null,
      "outputs": [
        {
          "output_type": "execute_result",
          "data": {
            "text/html": [
              "<div>\n",
              "<style scoped>\n",
              "    .dataframe tbody tr th:only-of-type {\n",
              "        vertical-align: middle;\n",
              "    }\n",
              "\n",
              "    .dataframe tbody tr th {\n",
              "        vertical-align: top;\n",
              "    }\n",
              "\n",
              "    .dataframe thead th {\n",
              "        text-align: right;\n",
              "    }\n",
              "</style>\n",
              "<table border=\"1\" class=\"dataframe\">\n",
              "  <thead>\n",
              "    <tr style=\"text-align: right;\">\n",
              "      <th></th>\n",
              "      <th>name</th>\n",
              "      <th>hobby</th>\n",
              "    </tr>\n",
              "  </thead>\n",
              "  <tbody>\n",
              "    <tr>\n",
              "      <th>0</th>\n",
              "      <td>Brian Dogood</td>\n",
              "      <td>Fishing</td>\n",
              "    </tr>\n",
              "    <tr>\n",
              "      <th>1</th>\n",
              "      <td>Leah Bokeh</td>\n",
              "      <td>Skateboarding</td>\n",
              "    </tr>\n",
              "    <tr>\n",
              "      <th>2</th>\n",
              "      <td>Mark Prescott</td>\n",
              "      <td>Value Investing</td>\n",
              "    </tr>\n",
              "    <tr>\n",
              "      <th>3</th>\n",
              "      <td>Jurgen Gupta</td>\n",
              "      <td>Drawing</td>\n",
              "    </tr>\n",
              "    <tr>\n",
              "      <th>4</th>\n",
              "      <td>Zoltan Zachary</td>\n",
              "      <td>Archery</td>\n",
              "    </tr>\n",
              "  </tbody>\n",
              "</table>\n",
              "</div>"
            ],
            "text/plain": [
              "             name            hobby\n",
              "0    Brian Dogood          Fishing\n",
              "1      Leah Bokeh    Skateboarding\n",
              "2   Mark Prescott  Value Investing\n",
              "3    Jurgen Gupta          Drawing\n",
              "4  Zoltan Zachary          Archery"
            ]
          },
          "metadata": {
            "tags": []
          },
          "execution_count": 35
        }
      ]
    },
    {
      "cell_type": "code",
      "metadata": {
        "id": "VuDERcPyu6Ev",
        "colab_type": "code",
        "colab": {}
      },
      "source": [
        "hobbies['age'] = np.random.uniform(22, 54, 5)"
      ],
      "execution_count": null,
      "outputs": []
    },
    {
      "cell_type": "code",
      "metadata": {
        "id": "clLzNp48u_2p",
        "colab_type": "code",
        "colab": {
          "base_uri": "https://localhost:8080/"
        },
        "outputId": "d3dc38b6-d788-42c6-d79a-dd2c89bfdd7a"
      },
      "source": [
        "hobbies"
      ],
      "execution_count": null,
      "outputs": [
        {
          "output_type": "execute_result",
          "data": {
            "text/html": [
              "<div>\n",
              "<style scoped>\n",
              "    .dataframe tbody tr th:only-of-type {\n",
              "        vertical-align: middle;\n",
              "    }\n",
              "\n",
              "    .dataframe tbody tr th {\n",
              "        vertical-align: top;\n",
              "    }\n",
              "\n",
              "    .dataframe thead th {\n",
              "        text-align: right;\n",
              "    }\n",
              "</style>\n",
              "<table border=\"1\" class=\"dataframe\">\n",
              "  <thead>\n",
              "    <tr style=\"text-align: right;\">\n",
              "      <th></th>\n",
              "      <th>name</th>\n",
              "      <th>hobby</th>\n",
              "      <th>age</th>\n",
              "    </tr>\n",
              "  </thead>\n",
              "  <tbody>\n",
              "    <tr>\n",
              "      <th>0</th>\n",
              "      <td>Brian Dogood</td>\n",
              "      <td>Fishing</td>\n",
              "      <td>39.161933</td>\n",
              "    </tr>\n",
              "    <tr>\n",
              "      <th>1</th>\n",
              "      <td>Leah Bokeh</td>\n",
              "      <td>Skateboarding</td>\n",
              "      <td>27.673727</td>\n",
              "    </tr>\n",
              "    <tr>\n",
              "      <th>2</th>\n",
              "      <td>Mark Prescott</td>\n",
              "      <td>Value Investing</td>\n",
              "      <td>32.423339</td>\n",
              "    </tr>\n",
              "    <tr>\n",
              "      <th>3</th>\n",
              "      <td>Jurgen Gupta</td>\n",
              "      <td>Drawing</td>\n",
              "      <td>38.649495</td>\n",
              "    </tr>\n",
              "    <tr>\n",
              "      <th>4</th>\n",
              "      <td>Zoltan Zachary</td>\n",
              "      <td>Archery</td>\n",
              "      <td>53.905870</td>\n",
              "    </tr>\n",
              "  </tbody>\n",
              "</table>\n",
              "</div>"
            ],
            "text/plain": [
              "             name            hobby        age\n",
              "0    Brian Dogood          Fishing  39.161933\n",
              "1      Leah Bokeh    Skateboarding  27.673727\n",
              "2   Mark Prescott  Value Investing  32.423339\n",
              "3    Jurgen Gupta          Drawing  38.649495\n",
              "4  Zoltan Zachary          Archery  53.905870"
            ]
          },
          "metadata": {
            "tags": []
          },
          "execution_count": 37
        }
      ]
    },
    {
      "cell_type": "code",
      "metadata": {
        "id": "elpfT7yjvHbm",
        "colab_type": "code",
        "colab": {}
      },
      "source": [
        "# read_csv, read_excel, read_html..."
      ],
      "execution_count": null,
      "outputs": []
    },
    {
      "cell_type": "code",
      "metadata": {
        "id": "VvbAeqEfvXEH",
        "colab_type": "code",
        "colab": {}
      },
      "source": [
        "# to_csv, to_excel, to_html..."
      ],
      "execution_count": null,
      "outputs": []
    },
    {
      "cell_type": "code",
      "metadata": {
        "id": "Z0NsvKR7vZCe",
        "colab_type": "code",
        "colab": {
          "base_uri": "https://localhost:8080/"
        },
        "outputId": "f7b6274e-be93-49da-c9ea-03c17ccfb58e"
      },
      "source": [
        "hobbies.to_csv()"
      ],
      "execution_count": null,
      "outputs": [
        {
          "output_type": "execute_result",
          "data": {
            "text/plain": [
              "',name,hobby,age\\n0,Brian Dogood,Fishing,39.16193309047951\\n1,Leah Bokeh,Skateboarding,27.67372676797032\\n2,Mark Prescott,Value Investing,32.42333944335808\\n3,Jurgen Gupta,Drawing,38.64949532502015\\n4,Zoltan Zachary,Archery,53.90586957632077\\n'"
            ]
          },
          "metadata": {
            "tags": []
          },
          "execution_count": 40
        }
      ]
    },
    {
      "cell_type": "code",
      "metadata": {
        "id": "caGgNmPcvcPO",
        "colab_type": "code",
        "colab": {}
      },
      "source": [
        "hobbies.to_csv('hobbies.csv', index=False)"
      ],
      "execution_count": null,
      "outputs": []
    },
    {
      "cell_type": "code",
      "metadata": {
        "id": "yHwPZi3JvmIE",
        "colab_type": "code",
        "colab": {
          "base_uri": "https://localhost:8080/"
        },
        "outputId": "75851237-4533-4f21-8391-a1d7d9a5533d"
      },
      "source": [
        "!ls"
      ],
      "execution_count": null,
      "outputs": [
        {
          "output_type": "stream",
          "text": [
            "hobbies.csv  hobbies.json\n"
          ],
          "name": "stdout"
        }
      ]
    },
    {
      "cell_type": "code",
      "metadata": {
        "id": "hEtkEijQvrt_",
        "colab_type": "code",
        "colab": {}
      },
      "source": [
        "!rm sample_data -rf"
      ],
      "execution_count": null,
      "outputs": []
    },
    {
      "cell_type": "code",
      "metadata": {
        "id": "_LXW1WQIvytO",
        "colab_type": "code",
        "colab": {
          "base_uri": "https://localhost:8080/"
        },
        "outputId": "b87587f2-4df1-44ef-daa8-92a29acfdbca"
      },
      "source": [
        "!ls"
      ],
      "execution_count": null,
      "outputs": [
        {
          "output_type": "stream",
          "text": [
            "hobbies.csv  hobbies.json\n"
          ],
          "name": "stdout"
        }
      ]
    },
    {
      "cell_type": "code",
      "metadata": {
        "id": "AwIIOONxvz2i",
        "colab_type": "code",
        "colab": {
          "base_uri": "https://localhost:8080/"
        },
        "outputId": "d3175103-382f-4b82-86cc-0fc111a17b3f"
      },
      "source": [
        "pd.read_csv('hobbies.csv')"
      ],
      "execution_count": null,
      "outputs": [
        {
          "output_type": "execute_result",
          "data": {
            "text/html": [
              "<div>\n",
              "<style scoped>\n",
              "    .dataframe tbody tr th:only-of-type {\n",
              "        vertical-align: middle;\n",
              "    }\n",
              "\n",
              "    .dataframe tbody tr th {\n",
              "        vertical-align: top;\n",
              "    }\n",
              "\n",
              "    .dataframe thead th {\n",
              "        text-align: right;\n",
              "    }\n",
              "</style>\n",
              "<table border=\"1\" class=\"dataframe\">\n",
              "  <thead>\n",
              "    <tr style=\"text-align: right;\">\n",
              "      <th></th>\n",
              "      <th>name</th>\n",
              "      <th>hobby</th>\n",
              "      <th>age</th>\n",
              "    </tr>\n",
              "  </thead>\n",
              "  <tbody>\n",
              "    <tr>\n",
              "      <th>0</th>\n",
              "      <td>Brian Dogood</td>\n",
              "      <td>Fishing</td>\n",
              "      <td>39.161933</td>\n",
              "    </tr>\n",
              "    <tr>\n",
              "      <th>1</th>\n",
              "      <td>Leah Bokeh</td>\n",
              "      <td>Skateboarding</td>\n",
              "      <td>27.673727</td>\n",
              "    </tr>\n",
              "    <tr>\n",
              "      <th>2</th>\n",
              "      <td>Mark Prescott</td>\n",
              "      <td>Value Investing</td>\n",
              "      <td>32.423339</td>\n",
              "    </tr>\n",
              "    <tr>\n",
              "      <th>3</th>\n",
              "      <td>Jurgen Gupta</td>\n",
              "      <td>Drawing</td>\n",
              "      <td>38.649495</td>\n",
              "    </tr>\n",
              "    <tr>\n",
              "      <th>4</th>\n",
              "      <td>Zoltan Zachary</td>\n",
              "      <td>Archery</td>\n",
              "      <td>53.905870</td>\n",
              "    </tr>\n",
              "  </tbody>\n",
              "</table>\n",
              "</div>"
            ],
            "text/plain": [
              "             name            hobby        age\n",
              "0    Brian Dogood          Fishing  39.161933\n",
              "1      Leah Bokeh    Skateboarding  27.673727\n",
              "2   Mark Prescott  Value Investing  32.423339\n",
              "3    Jurgen Gupta          Drawing  38.649495\n",
              "4  Zoltan Zachary          Archery  53.905870"
            ]
          },
          "metadata": {
            "tags": []
          },
          "execution_count": 45
        }
      ]
    },
    {
      "cell_type": "code",
      "metadata": {
        "id": "UEy9TXgTv82I",
        "colab_type": "code",
        "colab": {}
      },
      "source": [
        "# how about json?"
      ],
      "execution_count": null,
      "outputs": []
    },
    {
      "cell_type": "code",
      "metadata": {
        "id": "4G7mc-lZwRLj",
        "colab_type": "code",
        "colab": {
          "base_uri": "https://localhost:8080/"
        },
        "outputId": "a00ae46d-1d15-4f79-8b76-c3aa84d820c5"
      },
      "source": [
        "hobbies.to_json()"
      ],
      "execution_count": null,
      "outputs": [
        {
          "output_type": "execute_result",
          "data": {
            "text/plain": [
              "'{\"name\":{\"0\":\"Brian Dogood\",\"1\":\"Leah Bokeh\",\"2\":\"Mark Prescott\",\"3\":\"Jurgen Gupta\",\"4\":\"Zoltan Zachary\"},\"hobby\":{\"0\":\"Fishing\",\"1\":\"Skateboarding\",\"2\":\"Value Investing\",\"3\":\"Drawing\",\"4\":\"Archery\"},\"age\":{\"0\":39.1619330905,\"1\":27.673726768,\"2\":32.4233394434,\"3\":38.649495325,\"4\":53.9058695763}}'"
            ]
          },
          "metadata": {
            "tags": []
          },
          "execution_count": 47
        }
      ]
    },
    {
      "cell_type": "code",
      "metadata": {
        "id": "nxIcOdqUwVa3",
        "colab_type": "code",
        "colab": {}
      },
      "source": [
        "hobbies.to_json('hobbies.json')"
      ],
      "execution_count": null,
      "outputs": []
    },
    {
      "cell_type": "code",
      "metadata": {
        "id": "TcU6tbR6wY4i",
        "colab_type": "code",
        "colab": {
          "base_uri": "https://localhost:8080/"
        },
        "outputId": "53cb0f99-939a-4f55-e52f-2764ba849eed"
      },
      "source": [
        "!ls"
      ],
      "execution_count": null,
      "outputs": [
        {
          "output_type": "stream",
          "text": [
            "hobbies.csv  hobbies.json\n"
          ],
          "name": "stdout"
        }
      ]
    },
    {
      "cell_type": "code",
      "metadata": {
        "id": "YbvekpypwaoJ",
        "colab_type": "code",
        "colab": {}
      },
      "source": [
        "# we could also do html!"
      ],
      "execution_count": null,
      "outputs": []
    },
    {
      "cell_type": "code",
      "metadata": {
        "id": "fIHSsPTFwfWt",
        "colab_type": "code",
        "colab": {
          "base_uri": "https://localhost:8080/"
        },
        "outputId": "6ab1dd7a-f842-4a7a-8c8b-b79025e3bcb7"
      },
      "source": [
        "hobbies.to_html()"
      ],
      "execution_count": null,
      "outputs": [
        {
          "output_type": "execute_result",
          "data": {
            "text/plain": [
              "'<table border=\"1\" class=\"dataframe\">\\n  <thead>\\n    <tr style=\"text-align: right;\">\\n      <th></th>\\n      <th>name</th>\\n      <th>hobby</th>\\n      <th>age</th>\\n    </tr>\\n  </thead>\\n  <tbody>\\n    <tr>\\n      <th>0</th>\\n      <td>Brian Dogood</td>\\n      <td>Fishing</td>\\n      <td>39.161933</td>\\n    </tr>\\n    <tr>\\n      <th>1</th>\\n      <td>Leah Bokeh</td>\\n      <td>Skateboarding</td>\\n      <td>27.673727</td>\\n    </tr>\\n    <tr>\\n      <th>2</th>\\n      <td>Mark Prescott</td>\\n      <td>Value Investing</td>\\n      <td>32.423339</td>\\n    </tr>\\n    <tr>\\n      <th>3</th>\\n      <td>Jurgen Gupta</td>\\n      <td>Drawing</td>\\n      <td>38.649495</td>\\n    </tr>\\n    <tr>\\n      <th>4</th>\\n      <td>Zoltan Zachary</td>\\n      <td>Archery</td>\\n      <td>53.905870</td>\\n    </tr>\\n  </tbody>\\n</table>'"
            ]
          },
          "metadata": {
            "tags": []
          },
          "execution_count": 51
        }
      ]
    },
    {
      "cell_type": "code",
      "metadata": {
        "id": "MQEqcRfLwiiw",
        "colab_type": "code",
        "colab": {
          "base_uri": "https://localhost:8080/"
        },
        "outputId": "8b405635-18f3-4bdb-d7d0-dfb73321479f"
      },
      "source": [
        "print(hobbies.to_html())"
      ],
      "execution_count": null,
      "outputs": [
        {
          "output_type": "stream",
          "text": [
            "<table border=\"1\" class=\"dataframe\">\n",
            "  <thead>\n",
            "    <tr style=\"text-align: right;\">\n",
            "      <th></th>\n",
            "      <th>name</th>\n",
            "      <th>hobby</th>\n",
            "      <th>age</th>\n",
            "    </tr>\n",
            "  </thead>\n",
            "  <tbody>\n",
            "    <tr>\n",
            "      <th>0</th>\n",
            "      <td>Brian Dogood</td>\n",
            "      <td>Fishing</td>\n",
            "      <td>39.161933</td>\n",
            "    </tr>\n",
            "    <tr>\n",
            "      <th>1</th>\n",
            "      <td>Leah Bokeh</td>\n",
            "      <td>Skateboarding</td>\n",
            "      <td>27.673727</td>\n",
            "    </tr>\n",
            "    <tr>\n",
            "      <th>2</th>\n",
            "      <td>Mark Prescott</td>\n",
            "      <td>Value Investing</td>\n",
            "      <td>32.423339</td>\n",
            "    </tr>\n",
            "    <tr>\n",
            "      <th>3</th>\n",
            "      <td>Jurgen Gupta</td>\n",
            "      <td>Drawing</td>\n",
            "      <td>38.649495</td>\n",
            "    </tr>\n",
            "    <tr>\n",
            "      <th>4</th>\n",
            "      <td>Zoltan Zachary</td>\n",
            "      <td>Archery</td>\n",
            "      <td>53.905870</td>\n",
            "    </tr>\n",
            "  </tbody>\n",
            "</table>\n"
          ],
          "name": "stdout"
        }
      ]
    },
    {
      "cell_type": "markdown",
      "metadata": {
        "id": "maVMY5gbwnmY",
        "colab_type": "text"
      },
      "source": [
        "#### BONUS: Introduction To Pickling"
      ]
    },
    {
      "cell_type": "markdown",
      "metadata": {
        "id": "A7V6yq_HzBj4",
        "colab_type": "text"
      },
      "source": [
        "###### **serialization**: the process of converting an object into a stream of bytes, to be stored or transmitted over a network\n",
        "\n",
        "##### **pickle**: the python standard library module responsible for serialization\n",
        "\n"
      ]
    },
    {
      "cell_type": "markdown",
      "metadata": {
        "id": "UwN3N1Je1KV4",
        "colab_type": "text"
      },
      "source": [
        "###### **serialization** "
      ]
    },
    {
      "cell_type": "markdown",
      "metadata": {
        "id": "oPvPT8cF1Jg3",
        "colab_type": "text"
      },
      "source": [
        "serialization is also known as marshalling or flattening in other programming languages"
      ]
    },
    {
      "cell_type": "markdown",
      "metadata": {
        "id": "Zj422AWS1OHD",
        "colab_type": "text"
      },
      "source": [
        "###### _"
      ]
    },
    {
      "cell_type": "code",
      "metadata": {
        "id": "TG_4srbYy9j2",
        "colab_type": "code",
        "colab": {}
      },
      "source": [
        "googl = {'ticker': 'GOOGL', 'shares': 10, 'book_cost': 1540.23}"
      ],
      "execution_count": null,
      "outputs": []
    },
    {
      "cell_type": "code",
      "metadata": {
        "id": "0Ih0Exp-9Dn3",
        "colab_type": "code",
        "colab": {}
      },
      "source": [
        "import pickle"
      ],
      "execution_count": null,
      "outputs": []
    },
    {
      "cell_type": "code",
      "metadata": {
        "id": "XCYhSBk894ZH",
        "colab_type": "code",
        "colab": {}
      },
      "source": [
        "pickle_output = open('my_stock', 'wb')"
      ],
      "execution_count": null,
      "outputs": []
    },
    {
      "cell_type": "code",
      "metadata": {
        "id": "GFs721Ox-AeB",
        "colab_type": "code",
        "colab": {}
      },
      "source": [
        "pickle.dump(googl, pickle_output)"
      ],
      "execution_count": null,
      "outputs": []
    },
    {
      "cell_type": "code",
      "metadata": {
        "id": "hiqMd1Uj-G7X",
        "colab_type": "code",
        "colab": {}
      },
      "source": [
        "pickle_output.close()"
      ],
      "execution_count": null,
      "outputs": []
    },
    {
      "cell_type": "code",
      "metadata": {
        "id": "laa8nGe3-K4E",
        "colab_type": "code",
        "colab": {
          "base_uri": "https://localhost:8080/",
          "height": 34
        },
        "outputId": "b3bdb161-3688-40d0-fa24-07a542627325"
      },
      "source": [
        "!ls"
      ],
      "execution_count": null,
      "outputs": [
        {
          "output_type": "stream",
          "text": [
            "hobbies.csv  hobbies.json  my_stock\n"
          ],
          "name": "stdout"
        }
      ]
    },
    {
      "cell_type": "code",
      "metadata": {
        "id": "ZLxjtFlC-mME",
        "colab_type": "code",
        "colab": {
          "base_uri": "https://localhost:8080/",
          "height": 121
        },
        "outputId": "ce7c03fb-c57d-4347-baeb-4d3bd1c44f2a"
      },
      "source": [
        "!hexdump my_stock"
      ],
      "execution_count": null,
      "outputs": [
        {
          "output_type": "stream",
          "text": [
            "0000000 0380 717d 2800 0658 0000 7400 6369 656b\n",
            "0000010 7172 5801 0005 0000 4f47 474f 714c 5802\n",
            "0000020 0006 0000 6873 7261 7365 0371 0a4b 0958\n",
            "0000030 0000 6200 6f6f 5f6b 6f63 7473 0471 4047\n",
            "0000040 1098 85eb b81e 7552 002e               \n",
            "0000049\n"
          ],
          "name": "stdout"
        }
      ]
    },
    {
      "cell_type": "code",
      "metadata": {
        "id": "35SyO84f-NQ5",
        "colab_type": "code",
        "colab": {}
      },
      "source": [
        "pickle_input = open('my_stock', 'rb')"
      ],
      "execution_count": null,
      "outputs": []
    },
    {
      "cell_type": "code",
      "metadata": {
        "id": "EVKjqncC-Zei",
        "colab_type": "code",
        "colab": {}
      },
      "source": [
        "stock_dict = pickle.load(pickle_input)"
      ],
      "execution_count": null,
      "outputs": []
    },
    {
      "cell_type": "code",
      "metadata": {
        "id": "v_a330S2-eFy",
        "colab_type": "code",
        "colab": {
          "base_uri": "https://localhost:8080/",
          "height": 34
        },
        "outputId": "6d0a1263-7f18-4d2e-8755-4764cc767a47"
      },
      "source": [
        "stock_dict"
      ],
      "execution_count": null,
      "outputs": [
        {
          "output_type": "execute_result",
          "data": {
            "text/plain": [
              "{'book_cost': 1540.23, 'shares': 10, 'ticker': 'GOOGL'}"
            ]
          },
          "metadata": {
            "tags": []
          },
          "execution_count": 61
        }
      ]
    },
    {
      "cell_type": "markdown",
      "metadata": {
        "id": "fwDhJNl1-fJa",
        "colab_type": "text"
      },
      "source": [
        "#### Pickles In Pandas"
      ]
    },
    {
      "cell_type": "markdown",
      "metadata": {
        "id": "QL9q6N_u_eEV",
        "colab_type": "text"
      },
      "source": [
        "\n",
        "\n",
        "> https://andybek.com/portfolio\n",
        "\n"
      ]
    },
    {
      "cell_type": "markdown",
      "metadata": {
        "id": "IpmN5YIMAgti",
        "colab_type": "text"
      },
      "source": [
        "###### Some important notes"
      ]
    },
    {
      "cell_type": "markdown",
      "metadata": {
        "id": "n_wPhbm8Ajmw",
        "colab_type": "text"
      },
      "source": [
        "* pickles from untrusted sources may pose a security concern!\n",
        "* for data-interchange over the web or across language stacks, JSON may be a better data interchange format"
      ]
    },
    {
      "cell_type": "markdown",
      "metadata": {
        "id": "3lKp4CpkA5JQ",
        "colab_type": "text"
      },
      "source": [
        "###### _"
      ]
    },
    {
      "cell_type": "code",
      "metadata": {
        "id": "A6dztyj0_4ty",
        "colab_type": "code",
        "colab": {}
      },
      "source": [
        "folio = pd.read_pickle('https://andybek.com/portfolio')"
      ],
      "execution_count": null,
      "outputs": []
    },
    {
      "cell_type": "code",
      "metadata": {
        "id": "4h1wZITnBnpI",
        "colab_type": "code",
        "colab": {
          "base_uri": "https://localhost:8080/",
          "height": 238
        },
        "outputId": "15ea57bd-73b0-4169-8e7e-3a9643199f84"
      },
      "source": [
        "folio"
      ],
      "execution_count": null,
      "outputs": [
        {
          "output_type": "execute_result",
          "data": {
            "text/html": [
              "<div>\n",
              "<style scoped>\n",
              "    .dataframe tbody tr th:only-of-type {\n",
              "        vertical-align: middle;\n",
              "    }\n",
              "\n",
              "    .dataframe tbody tr th {\n",
              "        vertical-align: top;\n",
              "    }\n",
              "\n",
              "    .dataframe thead th {\n",
              "        text-align: right;\n",
              "    }\n",
              "</style>\n",
              "<table border=\"1\" class=\"dataframe\">\n",
              "  <thead>\n",
              "    <tr style=\"text-align: right;\">\n",
              "      <th></th>\n",
              "      <th>ticker</th>\n",
              "      <th>shares</th>\n",
              "      <th>book_cost</th>\n",
              "    </tr>\n",
              "  </thead>\n",
              "  <tbody>\n",
              "    <tr>\n",
              "      <th>0</th>\n",
              "      <td>AAPL</td>\n",
              "      <td>150</td>\n",
              "      <td>123.23</td>\n",
              "    </tr>\n",
              "    <tr>\n",
              "      <th>1</th>\n",
              "      <td>GOOGL</td>\n",
              "      <td>10</td>\n",
              "      <td>1100.00</td>\n",
              "    </tr>\n",
              "    <tr>\n",
              "      <th>2</th>\n",
              "      <td>AMGN</td>\n",
              "      <td>230</td>\n",
              "      <td>227.23</td>\n",
              "    </tr>\n",
              "    <tr>\n",
              "      <th>3</th>\n",
              "      <td>VET</td>\n",
              "      <td>200</td>\n",
              "      <td>14.24</td>\n",
              "    </tr>\n",
              "    <tr>\n",
              "      <th>4</th>\n",
              "      <td>TSLA</td>\n",
              "      <td>100</td>\n",
              "      <td>260.00</td>\n",
              "    </tr>\n",
              "    <tr>\n",
              "      <th>5</th>\n",
              "      <td>DX</td>\n",
              "      <td>40</td>\n",
              "      <td>20.01</td>\n",
              "    </tr>\n",
              "  </tbody>\n",
              "</table>\n",
              "</div>"
            ],
            "text/plain": [
              "  ticker  shares  book_cost\n",
              "0   AAPL     150     123.23\n",
              "1  GOOGL      10    1100.00\n",
              "2   AMGN     230     227.23\n",
              "3    VET     200      14.24\n",
              "4   TSLA     100     260.00\n",
              "5     DX      40      20.01"
            ]
          },
          "metadata": {
            "tags": []
          },
          "execution_count": 66
        }
      ]
    },
    {
      "cell_type": "code",
      "metadata": {
        "id": "4UT-hnvTBs60",
        "colab_type": "code",
        "colab": {}
      },
      "source": [
        "folio.to_pickle('folio')"
      ],
      "execution_count": null,
      "outputs": []
    },
    {
      "cell_type": "code",
      "metadata": {
        "id": "cU_WCg1OBuow",
        "colab_type": "code",
        "colab": {
          "base_uri": "https://localhost:8080/",
          "height": 34
        },
        "outputId": "11eb5a60-cdac-42cd-ed6e-f0375fdd7a31"
      },
      "source": [
        "!ls"
      ],
      "execution_count": null,
      "outputs": [
        {
          "output_type": "stream",
          "text": [
            "folio  hobbies.csv  hobbies.json  my_stock\n"
          ],
          "name": "stdout"
        }
      ]
    },
    {
      "cell_type": "code",
      "metadata": {
        "id": "ucZFPl2TBwNl",
        "colab_type": "code",
        "colab": {
          "base_uri": "https://localhost:8080/",
          "height": 238
        },
        "outputId": "c889aa75-9035-4ca8-e6a7-3677cce460ad"
      },
      "source": [
        "pd.read_pickle('folio')"
      ],
      "execution_count": null,
      "outputs": [
        {
          "output_type": "execute_result",
          "data": {
            "text/html": [
              "<div>\n",
              "<style scoped>\n",
              "    .dataframe tbody tr th:only-of-type {\n",
              "        vertical-align: middle;\n",
              "    }\n",
              "\n",
              "    .dataframe tbody tr th {\n",
              "        vertical-align: top;\n",
              "    }\n",
              "\n",
              "    .dataframe thead th {\n",
              "        text-align: right;\n",
              "    }\n",
              "</style>\n",
              "<table border=\"1\" class=\"dataframe\">\n",
              "  <thead>\n",
              "    <tr style=\"text-align: right;\">\n",
              "      <th></th>\n",
              "      <th>ticker</th>\n",
              "      <th>shares</th>\n",
              "      <th>book_cost</th>\n",
              "    </tr>\n",
              "  </thead>\n",
              "  <tbody>\n",
              "    <tr>\n",
              "      <th>0</th>\n",
              "      <td>AAPL</td>\n",
              "      <td>150</td>\n",
              "      <td>123.23</td>\n",
              "    </tr>\n",
              "    <tr>\n",
              "      <th>1</th>\n",
              "      <td>GOOGL</td>\n",
              "      <td>10</td>\n",
              "      <td>1100.00</td>\n",
              "    </tr>\n",
              "    <tr>\n",
              "      <th>2</th>\n",
              "      <td>AMGN</td>\n",
              "      <td>230</td>\n",
              "      <td>227.23</td>\n",
              "    </tr>\n",
              "    <tr>\n",
              "      <th>3</th>\n",
              "      <td>VET</td>\n",
              "      <td>200</td>\n",
              "      <td>14.24</td>\n",
              "    </tr>\n",
              "    <tr>\n",
              "      <th>4</th>\n",
              "      <td>TSLA</td>\n",
              "      <td>100</td>\n",
              "      <td>260.00</td>\n",
              "    </tr>\n",
              "    <tr>\n",
              "      <th>5</th>\n",
              "      <td>DX</td>\n",
              "      <td>40</td>\n",
              "      <td>20.01</td>\n",
              "    </tr>\n",
              "  </tbody>\n",
              "</table>\n",
              "</div>"
            ],
            "text/plain": [
              "  ticker  shares  book_cost\n",
              "0   AAPL     150     123.23\n",
              "1  GOOGL      10    1100.00\n",
              "2   AMGN     230     227.23\n",
              "3    VET     200      14.24\n",
              "4   TSLA     100     260.00\n",
              "5     DX      40      20.01"
            ]
          },
          "metadata": {
            "tags": []
          },
          "execution_count": 70
        }
      ]
    },
    {
      "cell_type": "markdown",
      "metadata": {
        "id": "DeP8LcVHB4K7",
        "colab_type": "text"
      },
      "source": [
        "#### The Many Other Formats"
      ]
    },
    {
      "cell_type": "code",
      "metadata": {
        "id": "D-pPsrg_CupK",
        "colab_type": "code",
        "colab": {}
      },
      "source": [
        "# there's many more!"
      ],
      "execution_count": null,
      "outputs": []
    },
    {
      "cell_type": "markdown",
      "metadata": {
        "id": "1zq6MlwqEROx",
        "colab_type": "text"
      },
      "source": [
        "#### Skill Challenge"
      ]
    },
    {
      "cell_type": "markdown",
      "metadata": {
        "id": "pPfzL5XTiBKN",
        "colab_type": "text"
      },
      "source": [
        "##### **1**. "
      ]
    },
    {
      "cell_type": "markdown",
      "metadata": {
        "id": "B2fTSouiPVVE",
        "colab_type": "text"
      },
      "source": [
        "###### If you head over to https://andybek.com/traders/ you'll find page listing trader positions and some attributes. Using pandas, read this table directly into a pandas dataframe. Assign the dataframe to the variable *positions*."
      ]
    },
    {
      "cell_type": "markdown",
      "metadata": {
        "id": "KhSwT5WRP1Bs",
        "colab_type": "text"
      },
      "source": [
        "##### **2**."
      ]
    },
    {
      "cell_type": "markdown",
      "metadata": {
        "id": "w06eHRbSP29y",
        "colab_type": "text"
      },
      "source": [
        "###### The positions we imported in the step above contain trader aliases. Over at https://andybek.com/pandas-traders-names we have more information on the name and seniority of each trader.\n",
        "\n",
        "What is the data format served at this url? Read it into a pandas dataframe called *traders*."
      ]
    },
    {
      "cell_type": "markdown",
      "metadata": {
        "id": "9fX2jJ5yQtGY",
        "colab_type": "text"
      },
      "source": [
        "##### **3**."
      ]
    },
    {
      "cell_type": "markdown",
      "metadata": {
        "id": "LHljI_kNQwsz",
        "colab_type": "text"
      },
      "source": [
        "Combine the two dataframes from the previous steps into a dataframe that combines positions with the full name and senority of each trader."
      ]
    },
    {
      "cell_type": "markdown",
      "metadata": {
        "id": "-35KyPbYR1Kc",
        "colab_type": "text"
      },
      "source": [
        "##### **4**."
      ]
    },
    {
      "cell_type": "markdown",
      "metadata": {
        "id": "jjh2eEoWR3Kc",
        "colab_type": "text"
      },
      "source": [
        "Save the merged dataframe from the previous step into a pickle file called *pickled_positions* as well as a csv file called *positions.csv*.\n",
        "\n",
        "Confirm that the files have been saved locally."
      ]
    },
    {
      "cell_type": "markdown",
      "metadata": {
        "id": "HmZz6dCxIfOM",
        "colab_type": "text"
      },
      "source": [
        "#### Solution"
      ]
    },
    {
      "cell_type": "code",
      "metadata": {
        "id": "fgTUYY8oIf_v",
        "colab_type": "code",
        "colab": {}
      },
      "source": [
        "# 1"
      ],
      "execution_count": null,
      "outputs": []
    },
    {
      "cell_type": "code",
      "metadata": {
        "id": "0FP6x_d8LSO4",
        "colab_type": "code",
        "colab": {}
      },
      "source": [
        "positions = pd.read_html('https://andybek.com/traders')[0]"
      ],
      "execution_count": null,
      "outputs": []
    },
    {
      "cell_type": "code",
      "metadata": {
        "id": "FdTVaaJsLWNt",
        "colab_type": "code",
        "colab": {
          "base_uri": "https://localhost:8080/",
          "height": 34
        },
        "outputId": "77a998e6-3627-4f4a-a4e2-c2c3ab5aba40"
      },
      "source": [
        "type(positions)"
      ],
      "execution_count": null,
      "outputs": [
        {
          "output_type": "execute_result",
          "data": {
            "text/plain": [
              "pandas.core.frame.DataFrame"
            ]
          },
          "metadata": {
            "tags": []
          },
          "execution_count": 78
        }
      ]
    },
    {
      "cell_type": "code",
      "metadata": {
        "id": "EZszgNPuLhHa",
        "colab_type": "code",
        "colab": {
          "base_uri": "https://localhost:8080/",
          "height": 143
        },
        "outputId": "f941ddf5-1b40-4a49-a8a1-2a0a03d10749"
      },
      "source": [
        "positions"
      ],
      "execution_count": null,
      "outputs": [
        {
          "output_type": "execute_result",
          "data": {
            "text/html": [
              "<div>\n",
              "<style scoped>\n",
              "    .dataframe tbody tr th:only-of-type {\n",
              "        vertical-align: middle;\n",
              "    }\n",
              "\n",
              "    .dataframe tbody tr th {\n",
              "        vertical-align: top;\n",
              "    }\n",
              "\n",
              "    .dataframe thead th {\n",
              "        text-align: right;\n",
              "    }\n",
              "</style>\n",
              "<table border=\"1\" class=\"dataframe\">\n",
              "  <thead>\n",
              "    <tr style=\"text-align: right;\">\n",
              "      <th></th>\n",
              "      <th>TraderID</th>\n",
              "      <th>Instrument</th>\n",
              "      <th>Amount</th>\n",
              "      <th>Trader Location</th>\n",
              "    </tr>\n",
              "  </thead>\n",
              "  <tbody>\n",
              "    <tr>\n",
              "      <th>0</th>\n",
              "      <td>MCBIRN</td>\n",
              "      <td>02079K107</td>\n",
              "      <td>150000</td>\n",
              "      <td>EU</td>\n",
              "    </tr>\n",
              "    <tr>\n",
              "      <th>1</th>\n",
              "      <td>WISEA</td>\n",
              "      <td>1350Z74U5</td>\n",
              "      <td>6400000</td>\n",
              "      <td>EU</td>\n",
              "    </tr>\n",
              "    <tr>\n",
              "      <th>2</th>\n",
              "      <td>IACOP</td>\n",
              "      <td>GB00B3KJDQ49</td>\n",
              "      <td>2430000</td>\n",
              "      <td>US</td>\n",
              "    </tr>\n",
              "  </tbody>\n",
              "</table>\n",
              "</div>"
            ],
            "text/plain": [
              "  TraderID    Instrument   Amount Trader Location\n",
              "0   MCBIRN     02079K107   150000              EU\n",
              "1    WISEA     1350Z74U5  6400000              EU\n",
              "2    IACOP  GB00B3KJDQ49  2430000              US"
            ]
          },
          "metadata": {
            "tags": []
          },
          "execution_count": 79
        }
      ]
    },
    {
      "cell_type": "code",
      "metadata": {
        "id": "Wci0ij-1Lk3j",
        "colab_type": "code",
        "colab": {}
      },
      "source": [
        "# 2"
      ],
      "execution_count": null,
      "outputs": []
    },
    {
      "cell_type": "code",
      "metadata": {
        "id": "l8WC_DGXLwTJ",
        "colab_type": "code",
        "colab": {}
      },
      "source": [
        "traders = pd.read_json('https://andybek.com/pandas-traders-names')"
      ],
      "execution_count": null,
      "outputs": []
    },
    {
      "cell_type": "code",
      "metadata": {
        "id": "QmAMAAs5L2Y-",
        "colab_type": "code",
        "colab": {
          "base_uri": "https://localhost:8080/",
          "height": 175
        },
        "outputId": "5ef0c2a0-a4e3-41a8-c45d-804d13efe8e4"
      },
      "source": [
        "traders"
      ],
      "execution_count": null,
      "outputs": [
        {
          "output_type": "execute_result",
          "data": {
            "text/html": [
              "<div>\n",
              "<style scoped>\n",
              "    .dataframe tbody tr th:only-of-type {\n",
              "        vertical-align: middle;\n",
              "    }\n",
              "\n",
              "    .dataframe tbody tr th {\n",
              "        vertical-align: top;\n",
              "    }\n",
              "\n",
              "    .dataframe thead th {\n",
              "        text-align: right;\n",
              "    }\n",
              "</style>\n",
              "<table border=\"1\" class=\"dataframe\">\n",
              "  <thead>\n",
              "    <tr style=\"text-align: right;\">\n",
              "      <th></th>\n",
              "      <th>names</th>\n",
              "      <th>alias</th>\n",
              "      <th>seniority</th>\n",
              "    </tr>\n",
              "  </thead>\n",
              "  <tbody>\n",
              "    <tr>\n",
              "      <th>0</th>\n",
              "      <td>Shylah McBirney</td>\n",
              "      <td>MCBIRN</td>\n",
              "      <td>Executive</td>\n",
              "    </tr>\n",
              "    <tr>\n",
              "      <th>1</th>\n",
              "      <td>Allen Wise</td>\n",
              "      <td>WISEA</td>\n",
              "      <td>Executive</td>\n",
              "    </tr>\n",
              "    <tr>\n",
              "      <th>2</th>\n",
              "      <td>Iacopo Brivio</td>\n",
              "      <td>IACOP</td>\n",
              "      <td>Junior</td>\n",
              "    </tr>\n",
              "    <tr>\n",
              "      <th>3</th>\n",
              "      <td>Allison Carter</td>\n",
              "      <td>CARTERA</td>\n",
              "      <td>Mid-level</td>\n",
              "    </tr>\n",
              "  </tbody>\n",
              "</table>\n",
              "</div>"
            ],
            "text/plain": [
              "             names    alias  seniority\n",
              "0  Shylah McBirney   MCBIRN  Executive\n",
              "1       Allen Wise    WISEA  Executive\n",
              "2    Iacopo Brivio    IACOP     Junior\n",
              "3   Allison Carter  CARTERA  Mid-level"
            ]
          },
          "metadata": {
            "tags": []
          },
          "execution_count": 82
        }
      ]
    },
    {
      "cell_type": "code",
      "metadata": {
        "id": "956waGtVL3jz",
        "colab_type": "code",
        "colab": {}
      },
      "source": [
        "# 3"
      ],
      "execution_count": null,
      "outputs": []
    },
    {
      "cell_type": "code",
      "metadata": {
        "id": "QT6iblreL-Pc",
        "colab_type": "code",
        "colab": {}
      },
      "source": [
        "mrgd = positions.merge(traders, left_on='TraderID', right_on='alias').drop('alias', axis=1)"
      ],
      "execution_count": null,
      "outputs": []
    },
    {
      "cell_type": "code",
      "metadata": {
        "id": "D7gKs2PvMIJj",
        "colab_type": "code",
        "colab": {}
      },
      "source": [
        "# 4"
      ],
      "execution_count": null,
      "outputs": []
    },
    {
      "cell_type": "code",
      "metadata": {
        "id": "Tjj_c_8IMZfE",
        "colab_type": "code",
        "colab": {
          "base_uri": "https://localhost:8080/",
          "height": 143
        },
        "outputId": "904924f6-815a-4436-bc5b-9e8a5ce493fe"
      },
      "source": [
        "mrgd"
      ],
      "execution_count": null,
      "outputs": [
        {
          "output_type": "execute_result",
          "data": {
            "text/html": [
              "<div>\n",
              "<style scoped>\n",
              "    .dataframe tbody tr th:only-of-type {\n",
              "        vertical-align: middle;\n",
              "    }\n",
              "\n",
              "    .dataframe tbody tr th {\n",
              "        vertical-align: top;\n",
              "    }\n",
              "\n",
              "    .dataframe thead th {\n",
              "        text-align: right;\n",
              "    }\n",
              "</style>\n",
              "<table border=\"1\" class=\"dataframe\">\n",
              "  <thead>\n",
              "    <tr style=\"text-align: right;\">\n",
              "      <th></th>\n",
              "      <th>TraderID</th>\n",
              "      <th>Instrument</th>\n",
              "      <th>Amount</th>\n",
              "      <th>Trader Location</th>\n",
              "      <th>names</th>\n",
              "      <th>seniority</th>\n",
              "    </tr>\n",
              "  </thead>\n",
              "  <tbody>\n",
              "    <tr>\n",
              "      <th>0</th>\n",
              "      <td>MCBIRN</td>\n",
              "      <td>02079K107</td>\n",
              "      <td>150000</td>\n",
              "      <td>EU</td>\n",
              "      <td>Shylah McBirney</td>\n",
              "      <td>Executive</td>\n",
              "    </tr>\n",
              "    <tr>\n",
              "      <th>1</th>\n",
              "      <td>WISEA</td>\n",
              "      <td>1350Z74U5</td>\n",
              "      <td>6400000</td>\n",
              "      <td>EU</td>\n",
              "      <td>Allen Wise</td>\n",
              "      <td>Executive</td>\n",
              "    </tr>\n",
              "    <tr>\n",
              "      <th>2</th>\n",
              "      <td>IACOP</td>\n",
              "      <td>GB00B3KJDQ49</td>\n",
              "      <td>2430000</td>\n",
              "      <td>US</td>\n",
              "      <td>Iacopo Brivio</td>\n",
              "      <td>Junior</td>\n",
              "    </tr>\n",
              "  </tbody>\n",
              "</table>\n",
              "</div>"
            ],
            "text/plain": [
              "  TraderID    Instrument   Amount Trader Location            names  seniority\n",
              "0   MCBIRN     02079K107   150000              EU  Shylah McBirney  Executive\n",
              "1    WISEA     1350Z74U5  6400000              EU       Allen Wise  Executive\n",
              "2    IACOP  GB00B3KJDQ49  2430000              US    Iacopo Brivio     Junior"
            ]
          },
          "metadata": {
            "tags": []
          },
          "execution_count": 88
        }
      ]
    },
    {
      "cell_type": "code",
      "metadata": {
        "id": "C6aZSgLDMdpk",
        "colab_type": "code",
        "colab": {}
      },
      "source": [
        "mrgd.to_pickle('pickled_traders')"
      ],
      "execution_count": null,
      "outputs": []
    },
    {
      "cell_type": "code",
      "metadata": {
        "id": "NfxwW_RXMgKz",
        "colab_type": "code",
        "colab": {
          "base_uri": "https://localhost:8080/",
          "height": 34
        },
        "outputId": "a3efa17c-9448-4317-92b1-c0280620ae64"
      },
      "source": [
        "!ls"
      ],
      "execution_count": null,
      "outputs": [
        {
          "output_type": "stream",
          "text": [
            "folio  hobbies.csv  hobbies.json  my_stock  pickled_traders\n"
          ],
          "name": "stdout"
        }
      ]
    },
    {
      "cell_type": "code",
      "metadata": {
        "id": "yoRDhkdTMhBS",
        "colab_type": "code",
        "colab": {}
      },
      "source": [
        "mrgd.to_csv('traders.csv')"
      ],
      "execution_count": null,
      "outputs": []
    },
    {
      "cell_type": "code",
      "metadata": {
        "id": "7TmwSKkRMly_",
        "colab_type": "code",
        "colab": {
          "base_uri": "https://localhost:8080/",
          "height": 34
        },
        "outputId": "5a54a693-7cfc-42ff-bfaa-a264bfc22861"
      },
      "source": [
        "!ls"
      ],
      "execution_count": null,
      "outputs": [
        {
          "output_type": "stream",
          "text": [
            "folio  hobbies.csv  hobbies.json  my_stock  pickled_traders  traders.csv\n"
          ],
          "name": "stdout"
        }
      ]
    },
    {
      "cell_type": "code",
      "metadata": {
        "id": "TIOra5XMMm2W",
        "colab_type": "code",
        "colab": {}
      },
      "source": [
        "# bonus: how to download files from colab"
      ],
      "execution_count": null,
      "outputs": []
    },
    {
      "cell_type": "code",
      "metadata": {
        "id": "Y0Yyi6ChMuGY",
        "colab_type": "code",
        "colab": {}
      },
      "source": [
        "from google.colab import files"
      ],
      "execution_count": null,
      "outputs": []
    },
    {
      "cell_type": "code",
      "metadata": {
        "id": "ehChYQKBMxB1",
        "colab_type": "code",
        "colab": {}
      },
      "source": [
        "files.download('traders.csv')"
      ],
      "execution_count": null,
      "outputs": []
    },
    {
      "cell_type": "code",
      "metadata": {
        "id": "HejbI4OtMz1y",
        "colab_type": "code",
        "colab": {}
      },
      "source": [
        ""
      ],
      "execution_count": null,
      "outputs": []
    }
  ]
}