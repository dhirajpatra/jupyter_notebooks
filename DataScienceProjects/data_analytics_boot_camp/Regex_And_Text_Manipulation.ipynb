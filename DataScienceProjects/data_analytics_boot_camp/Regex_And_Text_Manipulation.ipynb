{
  "nbformat": 4,
  "nbformat_minor": 0,
  "metadata": {
    "colab": {
      "name": "Regex And Text Manipulation",
      "provenance": [],
      "collapsed_sections": [
        "YqwIwZSeMcp6",
        "semkTS2sUkkX",
        "TB25O6fTjOem",
        "4F_8PPBumykv",
        "TDTD7Qumpuzl",
        "iUdsascK8v1K",
        "8tanSPw6A-gZ",
        "B40dtI0TIpZF",
        "LsrMPTQ2NtLJ",
        "KPzZtRO8PqrS",
        "tWYVRbrMRBiU",
        "Pgspen36ttP0",
        "9nfR81-nyFNG",
        "sc3LGLCAAA_j",
        "sQeZ04RBGk0S",
        "GluFA6hVxWNO",
        "KXnVpvGYxZSA",
        "9rCekfEsEhBz",
        "ioe_Fpr8QcTq",
        "XdhlA8A5SRhp"
      ]
    },
    "kernelspec": {
      "name": "python3",
      "display_name": "Python 3"
    }
  },
  "cells": [
    {
      "cell_type": "code",
      "metadata": {
        "id": "bR-LITVbMZpw",
        "colab_type": "code",
        "colab": {}
      },
      "source": [
        "import pandas as pd\n",
        "import numpy as np"
      ],
      "execution_count": null,
      "outputs": []
    },
    {
      "cell_type": "code",
      "metadata": {
        "id": "pNY-kJqBMbrZ",
        "colab_type": "code",
        "colab": {
          "base_uri": "https://localhost:8080/",
          "height": 34
        },
        "outputId": "02bbb34f-1b78-4365-8b22-0e06c5b66843"
      },
      "source": [
        "pd.__version__"
      ],
      "execution_count": null,
      "outputs": [
        {
          "output_type": "execute_result",
          "data": {
            "text/plain": [
              "'1.0.3'"
            ]
          },
          "metadata": {
            "tags": []
          },
          "execution_count": 2
        }
      ]
    },
    {
      "cell_type": "markdown",
      "metadata": {
        "id": "YqwIwZSeMcp6",
        "colab_type": "text"
      },
      "source": [
        "#### Our Data: Boston Marathon Runners"
      ]
    },
    {
      "cell_type": "markdown",
      "metadata": {
        "id": "bPwxWSaVMeql",
        "colab_type": "text"
      },
      "source": [
        "\n",
        "> https://andybek.com/pandas-marathon\n",
        "\n",
        "*...also attached as a resource!*\n"
      ]
    },
    {
      "cell_type": "code",
      "metadata": {
        "id": "pRzqmnjbUcme",
        "colab_type": "code",
        "colab": {}
      },
      "source": [
        "boston_url = 'https://andybek.com/pandas-marathon'"
      ],
      "execution_count": null,
      "outputs": []
    },
    {
      "cell_type": "code",
      "metadata": {
        "id": "jyMhQWWaUf1l",
        "colab_type": "code",
        "colab": {}
      },
      "source": [
        "boston = pd.read_csv(boston_url)"
      ],
      "execution_count": null,
      "outputs": []
    },
    {
      "cell_type": "code",
      "metadata": {
        "id": "lSNdBwaUUhgm",
        "colab_type": "code",
        "colab": {
          "base_uri": "https://localhost:8080/"
        },
        "outputId": "d6ef7d7d-a7f2-4247-fd44-a2cace6ba249"
      },
      "source": [
        "boston.head()"
      ],
      "execution_count": null,
      "outputs": [
        {
          "output_type": "execute_result",
          "data": {
            "text/html": [
              "<div>\n",
              "<style scoped>\n",
              "    .dataframe tbody tr th:only-of-type {\n",
              "        vertical-align: middle;\n",
              "    }\n",
              "\n",
              "    .dataframe tbody tr th {\n",
              "        vertical-align: top;\n",
              "    }\n",
              "\n",
              "    .dataframe thead th {\n",
              "        text-align: right;\n",
              "    }\n",
              "</style>\n",
              "<table border=\"1\" class=\"dataframe\">\n",
              "  <thead>\n",
              "    <tr style=\"text-align: right;\">\n",
              "      <th></th>\n",
              "      <th>Name</th>\n",
              "      <th>Age</th>\n",
              "      <th>M/F</th>\n",
              "      <th>City</th>\n",
              "      <th>State</th>\n",
              "      <th>Country</th>\n",
              "      <th>Official Time</th>\n",
              "      <th>Overall</th>\n",
              "      <th>Gender</th>\n",
              "      <th>Years Ran</th>\n",
              "    </tr>\n",
              "  </thead>\n",
              "  <tbody>\n",
              "    <tr>\n",
              "      <th>0</th>\n",
              "      <td>Kirui, Geoffrey</td>\n",
              "      <td>24</td>\n",
              "      <td>M</td>\n",
              "      <td>Keringet</td>\n",
              "      <td>NaN</td>\n",
              "      <td>KEN</td>\n",
              "      <td>2:09:37</td>\n",
              "      <td>1</td>\n",
              "      <td>1</td>\n",
              "      <td>NaN</td>\n",
              "    </tr>\n",
              "    <tr>\n",
              "      <th>1</th>\n",
              "      <td>Rupp, Galen</td>\n",
              "      <td>30</td>\n",
              "      <td>M</td>\n",
              "      <td>Portland</td>\n",
              "      <td>OR</td>\n",
              "      <td>USA</td>\n",
              "      <td>2:09:58</td>\n",
              "      <td>2</td>\n",
              "      <td>2</td>\n",
              "      <td>NaN</td>\n",
              "    </tr>\n",
              "    <tr>\n",
              "      <th>2</th>\n",
              "      <td>Osako, Suguru</td>\n",
              "      <td>25</td>\n",
              "      <td>M</td>\n",
              "      <td>Machida-City</td>\n",
              "      <td>NaN</td>\n",
              "      <td>JPN</td>\n",
              "      <td>2:10:28</td>\n",
              "      <td>3</td>\n",
              "      <td>3</td>\n",
              "      <td>NaN</td>\n",
              "    </tr>\n",
              "    <tr>\n",
              "      <th>3</th>\n",
              "      <td>Biwott, Shadrack</td>\n",
              "      <td>32</td>\n",
              "      <td>M</td>\n",
              "      <td>Mammoth Lakes</td>\n",
              "      <td>CA</td>\n",
              "      <td>USA</td>\n",
              "      <td>2:12:08</td>\n",
              "      <td>4</td>\n",
              "      <td>4</td>\n",
              "      <td>NaN</td>\n",
              "    </tr>\n",
              "    <tr>\n",
              "      <th>4</th>\n",
              "      <td>Chebet, Wilson</td>\n",
              "      <td>31</td>\n",
              "      <td>M</td>\n",
              "      <td>Marakwet</td>\n",
              "      <td>NaN</td>\n",
              "      <td>KEN</td>\n",
              "      <td>2:12:35</td>\n",
              "      <td>5</td>\n",
              "      <td>5</td>\n",
              "      <td>2015</td>\n",
              "    </tr>\n",
              "  </tbody>\n",
              "</table>\n",
              "</div>"
            ],
            "text/plain": [
              "                Name  Age M/F  ... Overall Gender Years Ran\n",
              "0   Kirui, Geoffrey    24   M  ...       1      1       NaN\n",
              "1     Rupp, Galen      30   M  ...       2      2       NaN\n",
              "2    Osako, Suguru     25   M  ...       3      3       NaN\n",
              "3   Biwott, Shadrack   32   M  ...       4      4       NaN\n",
              "4     Chebet, Wilson   31   M  ...       5      5      2015\n",
              "\n",
              "[5 rows x 10 columns]"
            ]
          },
          "metadata": {
            "tags": []
          },
          "execution_count": 5
        }
      ]
    },
    {
      "cell_type": "code",
      "metadata": {
        "id": "Fsangl59Ujl7",
        "colab_type": "code",
        "colab": {
          "base_uri": "https://localhost:8080/"
        },
        "outputId": "e51c3de9-43aa-40bf-9ade-c8955143fd68"
      },
      "source": [
        "boston.info()"
      ],
      "execution_count": null,
      "outputs": [
        {
          "output_type": "stream",
          "text": [
            "<class 'pandas.core.frame.DataFrame'>\n",
            "RangeIndex: 1000 entries, 0 to 999\n",
            "Data columns (total 10 columns):\n",
            " #   Column         Non-Null Count  Dtype \n",
            "---  ------         --------------  ----- \n",
            " 0   Name           1000 non-null   object\n",
            " 1   Age            1000 non-null   int64 \n",
            " 2   M/F            1000 non-null   object\n",
            " 3   City           1000 non-null   object\n",
            " 4   State          807 non-null    object\n",
            " 5   Country        1000 non-null   object\n",
            " 6   Official Time  1000 non-null   object\n",
            " 7   Overall        1000 non-null   int64 \n",
            " 8   Gender         1000 non-null   int64 \n",
            " 9   Years Ran      315 non-null    object\n",
            "dtypes: int64(3), object(7)\n",
            "memory usage: 78.2+ KB\n"
          ],
          "name": "stdout"
        }
      ]
    },
    {
      "cell_type": "markdown",
      "metadata": {
        "id": "semkTS2sUkkX",
        "colab_type": "text"
      },
      "source": [
        "#### String Methods In Python"
      ]
    },
    {
      "cell_type": "code",
      "metadata": {
        "id": "kGwEVkJEWWbE",
        "colab_type": "code",
        "colab": {}
      },
      "source": [
        "# Agenda:\n",
        "#   - len\n",
        "#   - center\n",
        "#   - startswith, endswith\n",
        "#   - the 'in' operator\n",
        "#   - list comprehensions"
      ],
      "execution_count": null,
      "outputs": []
    },
    {
      "cell_type": "code",
      "metadata": {
        "id": "E0dPfFW7Z4cb",
        "colab_type": "code",
        "colab": {}
      },
      "source": [
        "s = \"Welcome to the text manipulation section\""
      ],
      "execution_count": null,
      "outputs": []
    },
    {
      "cell_type": "code",
      "metadata": {
        "id": "JMpX2x4uiLfR",
        "colab_type": "code",
        "colab": {
          "base_uri": "https://localhost:8080/"
        },
        "outputId": "b51bc75e-6d52-4b05-dc7c-4d49e7557402"
      },
      "source": [
        "len(s)"
      ],
      "execution_count": null,
      "outputs": [
        {
          "output_type": "execute_result",
          "data": {
            "text/plain": [
              "40"
            ]
          },
          "metadata": {
            "tags": []
          },
          "execution_count": 9
        }
      ]
    },
    {
      "cell_type": "code",
      "metadata": {
        "id": "IyHLhGsWiOgl",
        "colab_type": "code",
        "colab": {
          "base_uri": "https://localhost:8080/"
        },
        "outputId": "158a5dcb-2490-4ca3-84eb-2b7f712d16d5"
      },
      "source": [
        "s.center(100, '*')"
      ],
      "execution_count": null,
      "outputs": [
        {
          "output_type": "execute_result",
          "data": {
            "text/plain": [
              "'******************************Welcome to the text manipulation section******************************'"
            ]
          },
          "metadata": {
            "tags": []
          },
          "execution_count": 10
        }
      ]
    },
    {
      "cell_type": "code",
      "metadata": {
        "id": "zu5HhlI-iVWf",
        "colab_type": "code",
        "colab": {
          "base_uri": "https://localhost:8080/"
        },
        "outputId": "6cc12348-383e-47f9-a313-6182b57a4bf6"
      },
      "source": [
        "s.center(30, '*')"
      ],
      "execution_count": null,
      "outputs": [
        {
          "output_type": "execute_result",
          "data": {
            "text/plain": [
              "'Welcome to the text manipulation section'"
            ]
          },
          "metadata": {
            "tags": []
          },
          "execution_count": 11
        }
      ]
    },
    {
      "cell_type": "code",
      "metadata": {
        "id": "S6pSjju2iaHO",
        "colab_type": "code",
        "colab": {
          "base_uri": "https://localhost:8080/"
        },
        "outputId": "b743675e-6293-46d0-f4e1-ddac1838ae49"
      },
      "source": [
        "s.endswith('tion')"
      ],
      "execution_count": null,
      "outputs": [
        {
          "output_type": "execute_result",
          "data": {
            "text/plain": [
              "True"
            ]
          },
          "metadata": {
            "tags": []
          },
          "execution_count": 12
        }
      ]
    },
    {
      "cell_type": "code",
      "metadata": {
        "id": "rZWvuWH6ifYe",
        "colab_type": "code",
        "colab": {
          "base_uri": "https://localhost:8080/"
        },
        "outputId": "553788e2-7782-4115-ae0f-6f41ba8211e9"
      },
      "source": [
        "s.startswith('W')"
      ],
      "execution_count": null,
      "outputs": [
        {
          "output_type": "execute_result",
          "data": {
            "text/plain": [
              "True"
            ]
          },
          "metadata": {
            "tags": []
          },
          "execution_count": 13
        }
      ]
    },
    {
      "cell_type": "code",
      "metadata": {
        "id": "757YDuvkiiXg",
        "colab_type": "code",
        "colab": {
          "base_uri": "https://localhost:8080/"
        },
        "outputId": "762daf5d-a2a8-4fff-a027-1a6165d645b5"
      },
      "source": [
        "s.startswith('w')"
      ],
      "execution_count": null,
      "outputs": [
        {
          "output_type": "execute_result",
          "data": {
            "text/plain": [
              "False"
            ]
          },
          "metadata": {
            "tags": []
          },
          "execution_count": 14
        }
      ]
    },
    {
      "cell_type": "code",
      "metadata": {
        "id": "U8dNBvBmilTs",
        "colab_type": "code",
        "colab": {}
      },
      "source": [
        "# how about includes?"
      ],
      "execution_count": null,
      "outputs": []
    },
    {
      "cell_type": "code",
      "metadata": {
        "id": "rn3nIjBKiptL",
        "colab_type": "code",
        "colab": {}
      },
      "source": [
        "# s.includes('substring')"
      ],
      "execution_count": null,
      "outputs": []
    },
    {
      "cell_type": "code",
      "metadata": {
        "id": "eeoFEj26isJ6",
        "colab_type": "code",
        "colab": {
          "base_uri": "https://localhost:8080/"
        },
        "outputId": "38bf9ff0-612c-4f98-c3c3-222c771e7810"
      },
      "source": [
        "'text' in s"
      ],
      "execution_count": null,
      "outputs": [
        {
          "output_type": "execute_result",
          "data": {
            "text/plain": [
              "True"
            ]
          },
          "metadata": {
            "tags": []
          },
          "execution_count": 17
        }
      ]
    },
    {
      "cell_type": "code",
      "metadata": {
        "id": "p5k58fkniuOw",
        "colab_type": "code",
        "colab": {
          "base_uri": "https://localhost:8080/"
        },
        "outputId": "408336bc-38aa-40a7-d487-083e1103e37f"
      },
      "source": [
        "'texted' in s"
      ],
      "execution_count": null,
      "outputs": [
        {
          "output_type": "execute_result",
          "data": {
            "text/plain": [
              "False"
            ]
          },
          "metadata": {
            "tags": []
          },
          "execution_count": 18
        }
      ]
    },
    {
      "cell_type": "code",
      "metadata": {
        "id": "ybzSBcpQixEx",
        "colab_type": "code",
        "colab": {}
      },
      "source": [
        "# text transform within list comprehensions"
      ],
      "execution_count": null,
      "outputs": []
    },
    {
      "cell_type": "code",
      "metadata": {
        "id": "ML0dw0kPi-Eh",
        "colab_type": "code",
        "colab": {}
      },
      "source": [
        "names = ['Alanah', 'Albion', 'Andrew', np.NaN, 'Brian']"
      ],
      "execution_count": null,
      "outputs": []
    },
    {
      "cell_type": "code",
      "metadata": {
        "id": "KCeuT4yFjBXd",
        "colab_type": "code",
        "colab": {}
      },
      "source": [
        "# [len(name) for name in names]"
      ],
      "execution_count": null,
      "outputs": []
    },
    {
      "cell_type": "code",
      "metadata": {
        "id": "ae3oihRZjHsM",
        "colab_type": "code",
        "colab": {}
      },
      "source": [
        "# [name.startswith('A') for name in names]"
      ],
      "execution_count": null,
      "outputs": []
    },
    {
      "cell_type": "markdown",
      "metadata": {
        "id": "TB25O6fTjOem",
        "colab_type": "text"
      },
      "source": [
        "#### Vectorized String Operations In Pandas"
      ]
    },
    {
      "cell_type": "code",
      "metadata": {
        "id": "bApZFTAZkOxy",
        "colab_type": "code",
        "colab": {
          "base_uri": "https://localhost:8080/"
        },
        "outputId": "0b8e52da-c9b2-4615-d5bd-5d1c19a849f4"
      },
      "source": [
        "boston.head()"
      ],
      "execution_count": null,
      "outputs": [
        {
          "output_type": "execute_result",
          "data": {
            "text/html": [
              "<div>\n",
              "<style scoped>\n",
              "    .dataframe tbody tr th:only-of-type {\n",
              "        vertical-align: middle;\n",
              "    }\n",
              "\n",
              "    .dataframe tbody tr th {\n",
              "        vertical-align: top;\n",
              "    }\n",
              "\n",
              "    .dataframe thead th {\n",
              "        text-align: right;\n",
              "    }\n",
              "</style>\n",
              "<table border=\"1\" class=\"dataframe\">\n",
              "  <thead>\n",
              "    <tr style=\"text-align: right;\">\n",
              "      <th></th>\n",
              "      <th>Name</th>\n",
              "      <th>Age</th>\n",
              "      <th>M/F</th>\n",
              "      <th>City</th>\n",
              "      <th>State</th>\n",
              "      <th>Country</th>\n",
              "      <th>Official Time</th>\n",
              "      <th>Overall</th>\n",
              "      <th>Gender</th>\n",
              "      <th>Years Ran</th>\n",
              "    </tr>\n",
              "  </thead>\n",
              "  <tbody>\n",
              "    <tr>\n",
              "      <th>0</th>\n",
              "      <td>Kirui, Geoffrey</td>\n",
              "      <td>24</td>\n",
              "      <td>M</td>\n",
              "      <td>Keringet</td>\n",
              "      <td>NaN</td>\n",
              "      <td>KEN</td>\n",
              "      <td>2:09:37</td>\n",
              "      <td>1</td>\n",
              "      <td>1</td>\n",
              "      <td>NaN</td>\n",
              "    </tr>\n",
              "    <tr>\n",
              "      <th>1</th>\n",
              "      <td>Rupp, Galen</td>\n",
              "      <td>30</td>\n",
              "      <td>M</td>\n",
              "      <td>Portland</td>\n",
              "      <td>OR</td>\n",
              "      <td>USA</td>\n",
              "      <td>2:09:58</td>\n",
              "      <td>2</td>\n",
              "      <td>2</td>\n",
              "      <td>NaN</td>\n",
              "    </tr>\n",
              "    <tr>\n",
              "      <th>2</th>\n",
              "      <td>Osako, Suguru</td>\n",
              "      <td>25</td>\n",
              "      <td>M</td>\n",
              "      <td>Machida-City</td>\n",
              "      <td>NaN</td>\n",
              "      <td>JPN</td>\n",
              "      <td>2:10:28</td>\n",
              "      <td>3</td>\n",
              "      <td>3</td>\n",
              "      <td>NaN</td>\n",
              "    </tr>\n",
              "    <tr>\n",
              "      <th>3</th>\n",
              "      <td>Biwott, Shadrack</td>\n",
              "      <td>32</td>\n",
              "      <td>M</td>\n",
              "      <td>Mammoth Lakes</td>\n",
              "      <td>CA</td>\n",
              "      <td>USA</td>\n",
              "      <td>2:12:08</td>\n",
              "      <td>4</td>\n",
              "      <td>4</td>\n",
              "      <td>NaN</td>\n",
              "    </tr>\n",
              "    <tr>\n",
              "      <th>4</th>\n",
              "      <td>Chebet, Wilson</td>\n",
              "      <td>31</td>\n",
              "      <td>M</td>\n",
              "      <td>Marakwet</td>\n",
              "      <td>NaN</td>\n",
              "      <td>KEN</td>\n",
              "      <td>2:12:35</td>\n",
              "      <td>5</td>\n",
              "      <td>5</td>\n",
              "      <td>2015</td>\n",
              "    </tr>\n",
              "  </tbody>\n",
              "</table>\n",
              "</div>"
            ],
            "text/plain": [
              "                Name  Age M/F  ... Overall Gender Years Ran\n",
              "0   Kirui, Geoffrey    24   M  ...       1      1       NaN\n",
              "1     Rupp, Galen      30   M  ...       2      2       NaN\n",
              "2    Osako, Suguru     25   M  ...       3      3       NaN\n",
              "3   Biwott, Shadrack   32   M  ...       4      4       NaN\n",
              "4     Chebet, Wilson   31   M  ...       5      5      2015\n",
              "\n",
              "[5 rows x 10 columns]"
            ]
          },
          "metadata": {
            "tags": []
          },
          "execution_count": 23
        }
      ]
    },
    {
      "cell_type": "code",
      "metadata": {
        "id": "RBnqqd7ql6vt",
        "colab_type": "code",
        "colab": {
          "base_uri": "https://localhost:8080/"
        },
        "outputId": "eef288b4-e125-4bae-b930-89bd5b8a519c"
      },
      "source": [
        "len('Kirui, Geoffrey')"
      ],
      "execution_count": null,
      "outputs": [
        {
          "output_type": "execute_result",
          "data": {
            "text/plain": [
              "15"
            ]
          },
          "metadata": {
            "tags": []
          },
          "execution_count": 24
        }
      ]
    },
    {
      "cell_type": "code",
      "metadata": {
        "id": "9ZXSAwJlmf6R",
        "colab_type": "code",
        "colab": {
          "base_uri": "https://localhost:8080/"
        },
        "outputId": "499ab06f-43fc-4a34-952d-a29b36b114ef"
      },
      "source": [
        "boston.Name"
      ],
      "execution_count": null,
      "outputs": [
        {
          "output_type": "execute_result",
          "data": {
            "text/plain": [
              "0         Kirui, Geoffrey \n",
              "1           Rupp, Galen   \n",
              "2          Osako, Suguru  \n",
              "3         Biwott, Shadrack\n",
              "4           Chebet, Wilson\n",
              "              ...         \n",
              "995           Larosa, Mark\n",
              "996    Williamson, Jerry A\n",
              "997        Mccue, Daniel T\n",
              "998           Larosa, John\n",
              "999         Sanchez, Sam R\n",
              "Name: Name, Length: 1000, dtype: object"
            ]
          },
          "metadata": {
            "tags": []
          },
          "execution_count": 25
        }
      ]
    },
    {
      "cell_type": "code",
      "metadata": {
        "id": "UK-5sCYImid7",
        "colab_type": "code",
        "colab": {
          "base_uri": "https://localhost:8080/"
        },
        "outputId": "52428b10-575b-4be0-c8c5-71bdcbd98d34"
      },
      "source": [
        "len(boston.Name)"
      ],
      "execution_count": null,
      "outputs": [
        {
          "output_type": "execute_result",
          "data": {
            "text/plain": [
              "1000"
            ]
          },
          "metadata": {
            "tags": []
          },
          "execution_count": 26
        }
      ]
    },
    {
      "cell_type": "code",
      "metadata": {
        "id": "ofuz4KO0mkrQ",
        "colab_type": "code",
        "colab": {
          "base_uri": "https://localhost:8080/"
        },
        "outputId": "29b6637b-935f-4de8-cb30-19edba6c4f0d"
      },
      "source": [
        "boston.Name.str.len()"
      ],
      "execution_count": null,
      "outputs": [
        {
          "output_type": "execute_result",
          "data": {
            "text/plain": [
              "0      17\n",
              "1      14\n",
              "2      15\n",
              "3      16\n",
              "4      14\n",
              "       ..\n",
              "995    12\n",
              "996    19\n",
              "997    15\n",
              "998    12\n",
              "999    14\n",
              "Name: Name, Length: 1000, dtype: int64"
            ]
          },
          "metadata": {
            "tags": []
          },
          "execution_count": 27
        }
      ]
    },
    {
      "cell_type": "code",
      "metadata": {
        "id": "xIhc5-eamqqi",
        "colab_type": "code",
        "colab": {}
      },
      "source": [
        "# boston.Name.len()"
      ],
      "execution_count": null,
      "outputs": []
    },
    {
      "cell_type": "code",
      "metadata": {
        "id": "TF6BHIS6mv10",
        "colab_type": "code",
        "colab": {
          "base_uri": "https://localhost:8080/"
        },
        "outputId": "878f01c5-0510-4381-8a3f-bb32ab3b0314"
      },
      "source": [
        "boston.Name.str.startswith('A')"
      ],
      "execution_count": null,
      "outputs": [
        {
          "output_type": "execute_result",
          "data": {
            "text/plain": [
              "0      False\n",
              "1      False\n",
              "2      False\n",
              "3      False\n",
              "4      False\n",
              "       ...  \n",
              "995    False\n",
              "996    False\n",
              "997    False\n",
              "998    False\n",
              "999    False\n",
              "Name: Name, Length: 1000, dtype: bool"
            ]
          },
          "metadata": {
            "tags": []
          },
          "execution_count": 29
        }
      ]
    },
    {
      "cell_type": "markdown",
      "metadata": {
        "id": "4F_8PPBumykv",
        "colab_type": "text"
      },
      "source": [
        "#### Case Operations"
      ]
    },
    {
      "cell_type": "code",
      "metadata": {
        "id": "egiOjUH5nyQQ",
        "colab_type": "code",
        "colab": {}
      },
      "source": [
        "# Agenda:\n",
        "#  - title()\n",
        "#  - upper()\n",
        "#  - lower()\n",
        "#  - swapcase()\n",
        "#  - capitalize()"
      ],
      "execution_count": null,
      "outputs": []
    },
    {
      "cell_type": "code",
      "metadata": {
        "id": "WC1qPqI0n-R1",
        "colab_type": "code",
        "colab": {
          "base_uri": "https://localhost:8080/"
        },
        "outputId": "6339934d-21a9-43c0-9292-1b06b7286fa9"
      },
      "source": [
        "boston.head()"
      ],
      "execution_count": null,
      "outputs": [
        {
          "output_type": "execute_result",
          "data": {
            "text/html": [
              "<div>\n",
              "<style scoped>\n",
              "    .dataframe tbody tr th:only-of-type {\n",
              "        vertical-align: middle;\n",
              "    }\n",
              "\n",
              "    .dataframe tbody tr th {\n",
              "        vertical-align: top;\n",
              "    }\n",
              "\n",
              "    .dataframe thead th {\n",
              "        text-align: right;\n",
              "    }\n",
              "</style>\n",
              "<table border=\"1\" class=\"dataframe\">\n",
              "  <thead>\n",
              "    <tr style=\"text-align: right;\">\n",
              "      <th></th>\n",
              "      <th>Name</th>\n",
              "      <th>Age</th>\n",
              "      <th>M/F</th>\n",
              "      <th>City</th>\n",
              "      <th>State</th>\n",
              "      <th>Country</th>\n",
              "      <th>Official Time</th>\n",
              "      <th>Overall</th>\n",
              "      <th>Gender</th>\n",
              "      <th>Years Ran</th>\n",
              "    </tr>\n",
              "  </thead>\n",
              "  <tbody>\n",
              "    <tr>\n",
              "      <th>0</th>\n",
              "      <td>Kirui, Geoffrey</td>\n",
              "      <td>24</td>\n",
              "      <td>M</td>\n",
              "      <td>Keringet</td>\n",
              "      <td>NaN</td>\n",
              "      <td>KEN</td>\n",
              "      <td>2:09:37</td>\n",
              "      <td>1</td>\n",
              "      <td>1</td>\n",
              "      <td>NaN</td>\n",
              "    </tr>\n",
              "    <tr>\n",
              "      <th>1</th>\n",
              "      <td>Rupp, Galen</td>\n",
              "      <td>30</td>\n",
              "      <td>M</td>\n",
              "      <td>Portland</td>\n",
              "      <td>OR</td>\n",
              "      <td>USA</td>\n",
              "      <td>2:09:58</td>\n",
              "      <td>2</td>\n",
              "      <td>2</td>\n",
              "      <td>NaN</td>\n",
              "    </tr>\n",
              "    <tr>\n",
              "      <th>2</th>\n",
              "      <td>Osako, Suguru</td>\n",
              "      <td>25</td>\n",
              "      <td>M</td>\n",
              "      <td>Machida-City</td>\n",
              "      <td>NaN</td>\n",
              "      <td>JPN</td>\n",
              "      <td>2:10:28</td>\n",
              "      <td>3</td>\n",
              "      <td>3</td>\n",
              "      <td>NaN</td>\n",
              "    </tr>\n",
              "    <tr>\n",
              "      <th>3</th>\n",
              "      <td>Biwott, Shadrack</td>\n",
              "      <td>32</td>\n",
              "      <td>M</td>\n",
              "      <td>Mammoth Lakes</td>\n",
              "      <td>CA</td>\n",
              "      <td>USA</td>\n",
              "      <td>2:12:08</td>\n",
              "      <td>4</td>\n",
              "      <td>4</td>\n",
              "      <td>NaN</td>\n",
              "    </tr>\n",
              "    <tr>\n",
              "      <th>4</th>\n",
              "      <td>Chebet, Wilson</td>\n",
              "      <td>31</td>\n",
              "      <td>M</td>\n",
              "      <td>Marakwet</td>\n",
              "      <td>NaN</td>\n",
              "      <td>KEN</td>\n",
              "      <td>2:12:35</td>\n",
              "      <td>5</td>\n",
              "      <td>5</td>\n",
              "      <td>2015</td>\n",
              "    </tr>\n",
              "  </tbody>\n",
              "</table>\n",
              "</div>"
            ],
            "text/plain": [
              "                Name  Age M/F  ... Overall Gender Years Ran\n",
              "0   Kirui, Geoffrey    24   M  ...       1      1       NaN\n",
              "1     Rupp, Galen      30   M  ...       2      2       NaN\n",
              "2    Osako, Suguru     25   M  ...       3      3       NaN\n",
              "3   Biwott, Shadrack   32   M  ...       4      4       NaN\n",
              "4     Chebet, Wilson   31   M  ...       5      5      2015\n",
              "\n",
              "[5 rows x 10 columns]"
            ]
          },
          "metadata": {
            "tags": []
          },
          "execution_count": 31
        }
      ]
    },
    {
      "cell_type": "code",
      "metadata": {
        "id": "9xsLKTIqpFTJ",
        "colab_type": "code",
        "colab": {
          "base_uri": "https://localhost:8080/"
        },
        "outputId": "97a816f0-3234-4b28-a559-ddccc775eecc"
      },
      "source": [
        "boston.City"
      ],
      "execution_count": null,
      "outputs": [
        {
          "output_type": "execute_result",
          "data": {
            "text/plain": [
              "0           Keringet\n",
              "1           Portland\n",
              "2       Machida-City\n",
              "3      Mammoth Lakes\n",
              "4           Marakwet\n",
              "           ...      \n",
              "995    North Andover\n",
              "996          Raleigh\n",
              "997        Arlington\n",
              "998          Danbury\n",
              "999         Santa Fe\n",
              "Name: City, Length: 1000, dtype: object"
            ]
          },
          "metadata": {
            "tags": []
          },
          "execution_count": 32
        }
      ]
    },
    {
      "cell_type": "code",
      "metadata": {
        "id": "S70wKlUSpUaF",
        "colab_type": "code",
        "colab": {
          "base_uri": "https://localhost:8080/"
        },
        "outputId": "a10fc2e6-f0b8-4b39-b1d5-1837854390e8"
      },
      "source": [
        "boston.City.str.upper()"
      ],
      "execution_count": null,
      "outputs": [
        {
          "output_type": "execute_result",
          "data": {
            "text/plain": [
              "0           KERINGET\n",
              "1           PORTLAND\n",
              "2       MACHIDA-CITY\n",
              "3      MAMMOTH LAKES\n",
              "4           MARAKWET\n",
              "           ...      \n",
              "995    NORTH ANDOVER\n",
              "996          RALEIGH\n",
              "997        ARLINGTON\n",
              "998          DANBURY\n",
              "999         SANTA FE\n",
              "Name: City, Length: 1000, dtype: object"
            ]
          },
          "metadata": {
            "tags": []
          },
          "execution_count": 33
        }
      ]
    },
    {
      "cell_type": "code",
      "metadata": {
        "id": "olEjFqJdpbEp",
        "colab_type": "code",
        "colab": {
          "base_uri": "https://localhost:8080/"
        },
        "outputId": "eda9459e-d453-4cdf-8de0-b9e0d32870eb"
      },
      "source": [
        "boston.City.str.lower()"
      ],
      "execution_count": null,
      "outputs": [
        {
          "output_type": "execute_result",
          "data": {
            "text/plain": [
              "0           keringet\n",
              "1           portland\n",
              "2       machida-city\n",
              "3      mammoth lakes\n",
              "4           marakwet\n",
              "           ...      \n",
              "995    north andover\n",
              "996          raleigh\n",
              "997        arlington\n",
              "998          danbury\n",
              "999         santa fe\n",
              "Name: City, Length: 1000, dtype: object"
            ]
          },
          "metadata": {
            "tags": []
          },
          "execution_count": 34
        }
      ]
    },
    {
      "cell_type": "code",
      "metadata": {
        "id": "qgbOdEIjplR_",
        "colab_type": "code",
        "colab": {
          "base_uri": "https://localhost:8080/"
        },
        "outputId": "c4a1231c-89f4-4172-e8de-98645c9851fb"
      },
      "source": [
        "boston.City.str.swapcase()"
      ],
      "execution_count": null,
      "outputs": [
        {
          "output_type": "execute_result",
          "data": {
            "text/plain": [
              "0           kERINGET\n",
              "1           pORTLAND\n",
              "2       mACHIDA-cITY\n",
              "3      mAMMOTH lAKES\n",
              "4           mARAKWET\n",
              "           ...      \n",
              "995    nORTH aNDOVER\n",
              "996          rALEIGH\n",
              "997        aRLINGTON\n",
              "998          dANBURY\n",
              "999         sANTA fE\n",
              "Name: City, Length: 1000, dtype: object"
            ]
          },
          "metadata": {
            "tags": []
          },
          "execution_count": 35
        }
      ]
    },
    {
      "cell_type": "code",
      "metadata": {
        "id": "RwKRFpGzpndm",
        "colab_type": "code",
        "colab": {
          "base_uri": "https://localhost:8080/"
        },
        "outputId": "cbbf6e59-dbfe-43ab-98b5-19557ccdbd09"
      },
      "source": [
        "boston.City.str.capitalize()"
      ],
      "execution_count": null,
      "outputs": [
        {
          "output_type": "execute_result",
          "data": {
            "text/plain": [
              "0           Keringet\n",
              "1           Portland\n",
              "2       Machida-city\n",
              "3      Mammoth lakes\n",
              "4           Marakwet\n",
              "           ...      \n",
              "995    North andover\n",
              "996          Raleigh\n",
              "997        Arlington\n",
              "998          Danbury\n",
              "999         Santa fe\n",
              "Name: City, Length: 1000, dtype: object"
            ]
          },
          "metadata": {
            "tags": []
          },
          "execution_count": 36
        }
      ]
    },
    {
      "cell_type": "markdown",
      "metadata": {
        "id": "TDTD7Qumpuzl",
        "colab_type": "text"
      },
      "source": [
        "#### Finding Characters And Words"
      ]
    },
    {
      "cell_type": "code",
      "metadata": {
        "id": "sZrV-C7E5v7f",
        "colab_type": "code",
        "colab": {}
      },
      "source": [
        "# Agenda:\n",
        "#  - find()\n",
        "#  - rfind() in python and pandas"
      ],
      "execution_count": null,
      "outputs": []
    },
    {
      "cell_type": "code",
      "metadata": {
        "id": "kvtR0_Jg6qG3",
        "colab_type": "code",
        "colab": {
          "base_uri": "https://localhost:8080/"
        },
        "outputId": "25f67025-500e-41db-dd0d-4aa5d55d1447"
      },
      "source": [
        "s"
      ],
      "execution_count": null,
      "outputs": [
        {
          "output_type": "execute_result",
          "data": {
            "text/plain": [
              "'Welcome to the text manipulation section'"
            ]
          },
          "metadata": {
            "tags": []
          },
          "execution_count": 38
        }
      ]
    },
    {
      "cell_type": "code",
      "metadata": {
        "id": "hqIo9Kmu7dw6",
        "colab_type": "code",
        "colab": {
          "base_uri": "https://localhost:8080/"
        },
        "outputId": "5a15bd8f-49e6-4cec-8a94-9dcd8c253437"
      },
      "source": [
        "s.find('x')"
      ],
      "execution_count": null,
      "outputs": [
        {
          "output_type": "execute_result",
          "data": {
            "text/plain": [
              "17"
            ]
          },
          "metadata": {
            "tags": []
          },
          "execution_count": 39
        }
      ]
    },
    {
      "cell_type": "code",
      "metadata": {
        "id": "TEH41lo47kd3",
        "colab_type": "code",
        "colab": {
          "base_uri": "https://localhost:8080/"
        },
        "outputId": "e077c5a3-ab92-4bd8-93d1-e1ac3516a87c"
      },
      "source": [
        "s[0]"
      ],
      "execution_count": null,
      "outputs": [
        {
          "output_type": "execute_result",
          "data": {
            "text/plain": [
              "'W'"
            ]
          },
          "metadata": {
            "tags": []
          },
          "execution_count": 40
        }
      ]
    },
    {
      "cell_type": "code",
      "metadata": {
        "id": "z9rpu0x27p1V",
        "colab_type": "code",
        "colab": {
          "base_uri": "https://localhost:8080/"
        },
        "outputId": "0d14d5b1-6097-424b-bc08-5da23f69ed0c"
      },
      "source": [
        "s[1]"
      ],
      "execution_count": null,
      "outputs": [
        {
          "output_type": "execute_result",
          "data": {
            "text/plain": [
              "'e'"
            ]
          },
          "metadata": {
            "tags": []
          },
          "execution_count": 41
        }
      ]
    },
    {
      "cell_type": "code",
      "metadata": {
        "id": "lEijYOWm7rg_",
        "colab_type": "code",
        "colab": {
          "base_uri": "https://localhost:8080/"
        },
        "outputId": "5cb04a3f-841c-44a1-ec9f-ce17517d5176"
      },
      "source": [
        "s[2]"
      ],
      "execution_count": null,
      "outputs": [
        {
          "output_type": "execute_result",
          "data": {
            "text/plain": [
              "'l'"
            ]
          },
          "metadata": {
            "tags": []
          },
          "execution_count": 42
        }
      ]
    },
    {
      "cell_type": "code",
      "metadata": {
        "id": "k2BvHbrq7sE4",
        "colab_type": "code",
        "colab": {
          "base_uri": "https://localhost:8080/"
        },
        "outputId": "927ad980-c77c-4762-a046-49d16d7b9b0c"
      },
      "source": [
        "s.find('text')"
      ],
      "execution_count": null,
      "outputs": [
        {
          "output_type": "execute_result",
          "data": {
            "text/plain": [
              "15"
            ]
          },
          "metadata": {
            "tags": []
          },
          "execution_count": 43
        }
      ]
    },
    {
      "cell_type": "code",
      "metadata": {
        "id": "9ZnFyf-37zCH",
        "colab_type": "code",
        "colab": {
          "base_uri": "https://localhost:8080/"
        },
        "outputId": "e1df3e4b-2f82-4187-b441-2a3d6a261044"
      },
      "source": [
        "s.find('soccer')"
      ],
      "execution_count": null,
      "outputs": [
        {
          "output_type": "execute_result",
          "data": {
            "text/plain": [
              "-1"
            ]
          },
          "metadata": {
            "tags": []
          },
          "execution_count": 44
        }
      ]
    },
    {
      "cell_type": "code",
      "metadata": {
        "id": "wKKVn2my73aL",
        "colab_type": "code",
        "colab": {
          "base_uri": "https://localhost:8080/"
        },
        "outputId": "93349d3b-1a6e-43ab-ae25-0a6d0a9fdc64"
      },
      "source": [
        "boston.head()"
      ],
      "execution_count": null,
      "outputs": [
        {
          "output_type": "execute_result",
          "data": {
            "text/html": [
              "<div>\n",
              "<style scoped>\n",
              "    .dataframe tbody tr th:only-of-type {\n",
              "        vertical-align: middle;\n",
              "    }\n",
              "\n",
              "    .dataframe tbody tr th {\n",
              "        vertical-align: top;\n",
              "    }\n",
              "\n",
              "    .dataframe thead th {\n",
              "        text-align: right;\n",
              "    }\n",
              "</style>\n",
              "<table border=\"1\" class=\"dataframe\">\n",
              "  <thead>\n",
              "    <tr style=\"text-align: right;\">\n",
              "      <th></th>\n",
              "      <th>Name</th>\n",
              "      <th>Age</th>\n",
              "      <th>M/F</th>\n",
              "      <th>City</th>\n",
              "      <th>State</th>\n",
              "      <th>Country</th>\n",
              "      <th>Official Time</th>\n",
              "      <th>Overall</th>\n",
              "      <th>Gender</th>\n",
              "      <th>Years Ran</th>\n",
              "    </tr>\n",
              "  </thead>\n",
              "  <tbody>\n",
              "    <tr>\n",
              "      <th>0</th>\n",
              "      <td>Kirui, Geoffrey</td>\n",
              "      <td>24</td>\n",
              "      <td>M</td>\n",
              "      <td>Keringet</td>\n",
              "      <td>NaN</td>\n",
              "      <td>KEN</td>\n",
              "      <td>2:09:37</td>\n",
              "      <td>1</td>\n",
              "      <td>1</td>\n",
              "      <td>NaN</td>\n",
              "    </tr>\n",
              "    <tr>\n",
              "      <th>1</th>\n",
              "      <td>Rupp, Galen</td>\n",
              "      <td>30</td>\n",
              "      <td>M</td>\n",
              "      <td>Portland</td>\n",
              "      <td>OR</td>\n",
              "      <td>USA</td>\n",
              "      <td>2:09:58</td>\n",
              "      <td>2</td>\n",
              "      <td>2</td>\n",
              "      <td>NaN</td>\n",
              "    </tr>\n",
              "    <tr>\n",
              "      <th>2</th>\n",
              "      <td>Osako, Suguru</td>\n",
              "      <td>25</td>\n",
              "      <td>M</td>\n",
              "      <td>Machida-City</td>\n",
              "      <td>NaN</td>\n",
              "      <td>JPN</td>\n",
              "      <td>2:10:28</td>\n",
              "      <td>3</td>\n",
              "      <td>3</td>\n",
              "      <td>NaN</td>\n",
              "    </tr>\n",
              "    <tr>\n",
              "      <th>3</th>\n",
              "      <td>Biwott, Shadrack</td>\n",
              "      <td>32</td>\n",
              "      <td>M</td>\n",
              "      <td>Mammoth Lakes</td>\n",
              "      <td>CA</td>\n",
              "      <td>USA</td>\n",
              "      <td>2:12:08</td>\n",
              "      <td>4</td>\n",
              "      <td>4</td>\n",
              "      <td>NaN</td>\n",
              "    </tr>\n",
              "    <tr>\n",
              "      <th>4</th>\n",
              "      <td>Chebet, Wilson</td>\n",
              "      <td>31</td>\n",
              "      <td>M</td>\n",
              "      <td>Marakwet</td>\n",
              "      <td>NaN</td>\n",
              "      <td>KEN</td>\n",
              "      <td>2:12:35</td>\n",
              "      <td>5</td>\n",
              "      <td>5</td>\n",
              "      <td>2015</td>\n",
              "    </tr>\n",
              "  </tbody>\n",
              "</table>\n",
              "</div>"
            ],
            "text/plain": [
              "                Name  Age M/F  ... Overall Gender Years Ran\n",
              "0   Kirui, Geoffrey    24   M  ...       1      1       NaN\n",
              "1     Rupp, Galen      30   M  ...       2      2       NaN\n",
              "2    Osako, Suguru     25   M  ...       3      3       NaN\n",
              "3   Biwott, Shadrack   32   M  ...       4      4       NaN\n",
              "4     Chebet, Wilson   31   M  ...       5      5      2015\n",
              "\n",
              "[5 rows x 10 columns]"
            ]
          },
          "metadata": {
            "tags": []
          },
          "execution_count": 45
        }
      ]
    },
    {
      "cell_type": "code",
      "metadata": {
        "id": "vvPUYC2U78Qd",
        "colab_type": "code",
        "colab": {
          "base_uri": "https://localhost:8080/"
        },
        "outputId": "77740597-144f-4b67-e3f9-c038755ca9d9"
      },
      "source": [
        "boston.Name.str.find('Andy').value_counts()"
      ],
      "execution_count": null,
      "outputs": [
        {
          "output_type": "execute_result",
          "data": {
            "text/plain": [
              "-1     998\n",
              " 12      1\n",
              " 8       1\n",
              "Name: Name, dtype: int64"
            ]
          },
          "metadata": {
            "tags": []
          },
          "execution_count": 46
        }
      ]
    },
    {
      "cell_type": "code",
      "metadata": {
        "id": "B7b-wb8_8DSg",
        "colab_type": "code",
        "colab": {
          "base_uri": "https://localhost:8080/"
        },
        "outputId": "e3d6962a-9ea8-461d-87b2-f9099f9f6dcc"
      },
      "source": [
        "boston.Name.str.find('James').value_counts()"
      ],
      "execution_count": null,
      "outputs": [
        {
          "output_type": "execute_result",
          "data": {
            "text/plain": [
              "-1     988\n",
              " 10      3\n",
              " 8       3\n",
              " 9       2\n",
              " 7       2\n",
              " 12      1\n",
              " 6       1\n",
              "Name: Name, dtype: int64"
            ]
          },
          "metadata": {
            "tags": []
          },
          "execution_count": 47
        }
      ]
    },
    {
      "cell_type": "code",
      "metadata": {
        "id": "3Q24z2MI8VF1",
        "colab_type": "code",
        "colab": {}
      },
      "source": [
        "p = 'pandas numpy numpy pandas'"
      ],
      "execution_count": null,
      "outputs": []
    },
    {
      "cell_type": "code",
      "metadata": {
        "id": "0zDzkX9Q8gji",
        "colab_type": "code",
        "colab": {
          "base_uri": "https://localhost:8080/"
        },
        "outputId": "ec3e3917-b777-4018-9ef5-39dc7ee34024"
      },
      "source": [
        "p.find('pandas')"
      ],
      "execution_count": null,
      "outputs": [
        {
          "output_type": "execute_result",
          "data": {
            "text/plain": [
              "0"
            ]
          },
          "metadata": {
            "tags": []
          },
          "execution_count": 49
        }
      ]
    },
    {
      "cell_type": "code",
      "metadata": {
        "id": "uflNSZ4j8idL",
        "colab_type": "code",
        "colab": {
          "base_uri": "https://localhost:8080/"
        },
        "outputId": "e29abd03-2495-4b3b-96c1-2438f046dcb9"
      },
      "source": [
        "p.rfind('pandas')"
      ],
      "execution_count": null,
      "outputs": [
        {
          "output_type": "execute_result",
          "data": {
            "text/plain": [
              "19"
            ]
          },
          "metadata": {
            "tags": []
          },
          "execution_count": 50
        }
      ]
    },
    {
      "cell_type": "code",
      "metadata": {
        "id": "s2KbvIcd8qvK",
        "colab_type": "code",
        "colab": {
          "base_uri": "https://localhost:8080/"
        },
        "outputId": "ac9adfee-e918-492c-ace4-e2d969c844c9"
      },
      "source": [
        "p[19:]"
      ],
      "execution_count": null,
      "outputs": [
        {
          "output_type": "execute_result",
          "data": {
            "text/plain": [
              "'pandas'"
            ]
          },
          "metadata": {
            "tags": []
          },
          "execution_count": 51
        }
      ]
    },
    {
      "cell_type": "markdown",
      "metadata": {
        "id": "iUdsascK8v1K",
        "colab_type": "text"
      },
      "source": [
        "#### Strips And Whitespace"
      ]
    },
    {
      "cell_type": "code",
      "metadata": {
        "id": "s9iegLae9x-i",
        "colab_type": "code",
        "colab": {}
      },
      "source": [
        "# Agenda: \n",
        "# - isspace()\n",
        "# - lstrip()\n",
        "# - rstrip()\n",
        "# - strip()"
      ],
      "execution_count": null,
      "outputs": []
    },
    {
      "cell_type": "code",
      "metadata": {
        "id": "zYTAVIBv9ORo",
        "colab_type": "code",
        "colab": {
          "base_uri": "https://localhost:8080/"
        },
        "outputId": "31a49f6e-9151-4905-b347-11ff8fa4a7a8"
      },
      "source": [
        "print('pandas', '\\tnumpy')"
      ],
      "execution_count": null,
      "outputs": [
        {
          "output_type": "stream",
          "text": [
            "pandas \tnumpy\n"
          ],
          "name": "stdout"
        }
      ]
    },
    {
      "cell_type": "code",
      "metadata": {
        "id": "NOWQbEI69dPU",
        "colab_type": "code",
        "colab": {
          "base_uri": "https://localhost:8080/"
        },
        "outputId": "66df45b3-0581-4374-f82d-035c3b7a1404"
      },
      "source": [
        "print('pandas', '\\npython')"
      ],
      "execution_count": null,
      "outputs": [
        {
          "output_type": "stream",
          "text": [
            "pandas \n",
            "python\n"
          ],
          "name": "stdout"
        }
      ]
    },
    {
      "cell_type": "code",
      "metadata": {
        "id": "siapF1Cw9fLX",
        "colab_type": "code",
        "colab": {
          "base_uri": "https://localhost:8080/"
        },
        "outputId": "65fb5533-f622-4aef-ed8a-bb16b743adc2"
      },
      "source": [
        "' '.isspace()"
      ],
      "execution_count": null,
      "outputs": [
        {
          "output_type": "execute_result",
          "data": {
            "text/plain": [
              "True"
            ]
          },
          "metadata": {
            "tags": []
          },
          "execution_count": 55
        }
      ]
    },
    {
      "cell_type": "code",
      "metadata": {
        "id": "zrklGX6P_kfV",
        "colab_type": "code",
        "colab": {
          "base_uri": "https://localhost:8080/"
        },
        "outputId": "c838c617-0723-4912-fc99-9bcf1cf61e2c"
      },
      "source": [
        "'\\n'.isspace()"
      ],
      "execution_count": null,
      "outputs": [
        {
          "output_type": "execute_result",
          "data": {
            "text/plain": [
              "True"
            ]
          },
          "metadata": {
            "tags": []
          },
          "execution_count": 56
        }
      ]
    },
    {
      "cell_type": "code",
      "metadata": {
        "id": "WmkGYEXN_nuL",
        "colab_type": "code",
        "colab": {
          "base_uri": "https://localhost:8080/"
        },
        "outputId": "b6fcee55-f34b-4b89-c773-c5e712ac888f"
      },
      "source": [
        "'\\t'.isspace()"
      ],
      "execution_count": null,
      "outputs": [
        {
          "output_type": "execute_result",
          "data": {
            "text/plain": [
              "True"
            ]
          },
          "metadata": {
            "tags": []
          },
          "execution_count": 57
        }
      ]
    },
    {
      "cell_type": "code",
      "metadata": {
        "id": "fPl3HAlm_qqe",
        "colab_type": "code",
        "colab": {}
      },
      "source": [
        "left_spaced = '    this is a pandas course'"
      ],
      "execution_count": null,
      "outputs": []
    },
    {
      "cell_type": "code",
      "metadata": {
        "id": "9UiXyIAm_v2E",
        "colab_type": "code",
        "colab": {}
      },
      "source": [
        "right_spaced = 'we cover plenty of python too!    '"
      ],
      "execution_count": null,
      "outputs": []
    },
    {
      "cell_type": "code",
      "metadata": {
        "id": "a-xpxJ7x_yX0",
        "colab_type": "code",
        "colab": {}
      },
      "source": [
        "spaced = '  the name is: BOND \\t JAMES BOND \\n\\n'"
      ],
      "execution_count": null,
      "outputs": []
    },
    {
      "cell_type": "code",
      "metadata": {
        "id": "rx66gp1x_3bw",
        "colab_type": "code",
        "colab": {
          "base_uri": "https://localhost:8080/"
        },
        "outputId": "fc20389f-4ca6-4781-abbb-3245639aa38f"
      },
      "source": [
        "print(left_spaced)"
      ],
      "execution_count": null,
      "outputs": [
        {
          "output_type": "stream",
          "text": [
            "    this is a pandas course\n"
          ],
          "name": "stdout"
        }
      ]
    },
    {
      "cell_type": "code",
      "metadata": {
        "id": "ixJYkYCt_6z_",
        "colab_type": "code",
        "colab": {
          "base_uri": "https://localhost:8080/"
        },
        "outputId": "f07a0e9a-e09d-43e0-9463-cd4ee2dc9ce5"
      },
      "source": [
        "print(spaced)"
      ],
      "execution_count": null,
      "outputs": [
        {
          "output_type": "stream",
          "text": [
            "  the name is: BOND \t JAMES BOND \n",
            "\n",
            "\n"
          ],
          "name": "stdout"
        }
      ]
    },
    {
      "cell_type": "code",
      "metadata": {
        "id": "I60-qvOQAAhF",
        "colab_type": "code",
        "colab": {
          "base_uri": "https://localhost:8080/"
        },
        "outputId": "e3b0a18a-43ca-4d83-bb64-c216b714a119"
      },
      "source": [
        "left_spaced.lstrip()"
      ],
      "execution_count": null,
      "outputs": [
        {
          "output_type": "execute_result",
          "data": {
            "text/plain": [
              "'this is a pandas course'"
            ]
          },
          "metadata": {
            "tags": []
          },
          "execution_count": 63
        }
      ]
    },
    {
      "cell_type": "code",
      "metadata": {
        "id": "cCQzWcDnAPmc",
        "colab_type": "code",
        "colab": {
          "base_uri": "https://localhost:8080/"
        },
        "outputId": "5e29a264-fafc-43be-bb8d-802e223bfb4b"
      },
      "source": [
        "right_spaced.rstrip()"
      ],
      "execution_count": null,
      "outputs": [
        {
          "output_type": "execute_result",
          "data": {
            "text/plain": [
              "'we cover plenty of python too!'"
            ]
          },
          "metadata": {
            "tags": []
          },
          "execution_count": 64
        }
      ]
    },
    {
      "cell_type": "code",
      "metadata": {
        "id": "Ce-UFC9PAT2m",
        "colab_type": "code",
        "colab": {
          "base_uri": "https://localhost:8080/"
        },
        "outputId": "4216d7e8-19dc-4359-afb4-2071deefd85b"
      },
      "source": [
        "spaced.strip()"
      ],
      "execution_count": null,
      "outputs": [
        {
          "output_type": "execute_result",
          "data": {
            "text/plain": [
              "'the name is: BOND \\t JAMES BOND'"
            ]
          },
          "metadata": {
            "tags": []
          },
          "execution_count": 65
        }
      ]
    },
    {
      "cell_type": "code",
      "metadata": {
        "id": "0fX_QKBmAYDx",
        "colab_type": "code",
        "colab": {
          "base_uri": "https://localhost:8080/"
        },
        "outputId": "28510bb8-968c-44c6-ec2c-6dd422c0d91f"
      },
      "source": [
        "boston.head()"
      ],
      "execution_count": null,
      "outputs": [
        {
          "output_type": "execute_result",
          "data": {
            "text/html": [
              "<div>\n",
              "<style scoped>\n",
              "    .dataframe tbody tr th:only-of-type {\n",
              "        vertical-align: middle;\n",
              "    }\n",
              "\n",
              "    .dataframe tbody tr th {\n",
              "        vertical-align: top;\n",
              "    }\n",
              "\n",
              "    .dataframe thead th {\n",
              "        text-align: right;\n",
              "    }\n",
              "</style>\n",
              "<table border=\"1\" class=\"dataframe\">\n",
              "  <thead>\n",
              "    <tr style=\"text-align: right;\">\n",
              "      <th></th>\n",
              "      <th>Name</th>\n",
              "      <th>Age</th>\n",
              "      <th>M/F</th>\n",
              "      <th>City</th>\n",
              "      <th>State</th>\n",
              "      <th>Country</th>\n",
              "      <th>Official Time</th>\n",
              "      <th>Overall</th>\n",
              "      <th>Gender</th>\n",
              "      <th>Years Ran</th>\n",
              "    </tr>\n",
              "  </thead>\n",
              "  <tbody>\n",
              "    <tr>\n",
              "      <th>0</th>\n",
              "      <td>Kirui, Geoffrey</td>\n",
              "      <td>24</td>\n",
              "      <td>M</td>\n",
              "      <td>Keringet</td>\n",
              "      <td>NaN</td>\n",
              "      <td>KEN</td>\n",
              "      <td>2:09:37</td>\n",
              "      <td>1</td>\n",
              "      <td>1</td>\n",
              "      <td>NaN</td>\n",
              "    </tr>\n",
              "    <tr>\n",
              "      <th>1</th>\n",
              "      <td>Rupp, Galen</td>\n",
              "      <td>30</td>\n",
              "      <td>M</td>\n",
              "      <td>Portland</td>\n",
              "      <td>OR</td>\n",
              "      <td>USA</td>\n",
              "      <td>2:09:58</td>\n",
              "      <td>2</td>\n",
              "      <td>2</td>\n",
              "      <td>NaN</td>\n",
              "    </tr>\n",
              "    <tr>\n",
              "      <th>2</th>\n",
              "      <td>Osako, Suguru</td>\n",
              "      <td>25</td>\n",
              "      <td>M</td>\n",
              "      <td>Machida-City</td>\n",
              "      <td>NaN</td>\n",
              "      <td>JPN</td>\n",
              "      <td>2:10:28</td>\n",
              "      <td>3</td>\n",
              "      <td>3</td>\n",
              "      <td>NaN</td>\n",
              "    </tr>\n",
              "    <tr>\n",
              "      <th>3</th>\n",
              "      <td>Biwott, Shadrack</td>\n",
              "      <td>32</td>\n",
              "      <td>M</td>\n",
              "      <td>Mammoth Lakes</td>\n",
              "      <td>CA</td>\n",
              "      <td>USA</td>\n",
              "      <td>2:12:08</td>\n",
              "      <td>4</td>\n",
              "      <td>4</td>\n",
              "      <td>NaN</td>\n",
              "    </tr>\n",
              "    <tr>\n",
              "      <th>4</th>\n",
              "      <td>Chebet, Wilson</td>\n",
              "      <td>31</td>\n",
              "      <td>M</td>\n",
              "      <td>Marakwet</td>\n",
              "      <td>NaN</td>\n",
              "      <td>KEN</td>\n",
              "      <td>2:12:35</td>\n",
              "      <td>5</td>\n",
              "      <td>5</td>\n",
              "      <td>2015</td>\n",
              "    </tr>\n",
              "  </tbody>\n",
              "</table>\n",
              "</div>"
            ],
            "text/plain": [
              "                Name  Age M/F  ... Overall Gender Years Ran\n",
              "0   Kirui, Geoffrey    24   M  ...       1      1       NaN\n",
              "1     Rupp, Galen      30   M  ...       2      2       NaN\n",
              "2    Osako, Suguru     25   M  ...       3      3       NaN\n",
              "3   Biwott, Shadrack   32   M  ...       4      4       NaN\n",
              "4     Chebet, Wilson   31   M  ...       5      5      2015\n",
              "\n",
              "[5 rows x 10 columns]"
            ]
          },
          "metadata": {
            "tags": []
          },
          "execution_count": 66
        }
      ]
    },
    {
      "cell_type": "code",
      "metadata": {
        "id": "Pb2TtPfJAlcQ",
        "colab_type": "code",
        "colab": {
          "base_uri": "https://localhost:8080/"
        },
        "outputId": "0db489d6-959c-4e58-e790-f9a7c34f115e"
      },
      "source": [
        "boston.Name.iloc[0]"
      ],
      "execution_count": null,
      "outputs": [
        {
          "output_type": "execute_result",
          "data": {
            "text/plain": [
              "' Kirui, Geoffrey '"
            ]
          },
          "metadata": {
            "tags": []
          },
          "execution_count": 67
        }
      ]
    },
    {
      "cell_type": "code",
      "metadata": {
        "id": "0ESHDETDAo_s",
        "colab_type": "code",
        "colab": {
          "base_uri": "https://localhost:8080/"
        },
        "outputId": "11f285fb-71c1-4050-ffa0-e9d4f229dcdf"
      },
      "source": [
        "boston.Name.iloc[1]"
      ],
      "execution_count": null,
      "outputs": [
        {
          "output_type": "execute_result",
          "data": {
            "text/plain": [
              "'Rupp, Galen   '"
            ]
          },
          "metadata": {
            "tags": []
          },
          "execution_count": 68
        }
      ]
    },
    {
      "cell_type": "code",
      "metadata": {
        "id": "cjri03NLAsBm",
        "colab_type": "code",
        "colab": {
          "base_uri": "https://localhost:8080/"
        },
        "outputId": "2f842bdf-2926-4307-a5bd-265f888c64d5"
      },
      "source": [
        "boston.Name.iloc[0:2].str.strip()"
      ],
      "execution_count": null,
      "outputs": [
        {
          "output_type": "execute_result",
          "data": {
            "text/plain": [
              "0    Kirui, Geoffrey\n",
              "1        Rupp, Galen\n",
              "Name: Name, dtype: object"
            ]
          },
          "metadata": {
            "tags": []
          },
          "execution_count": 69
        }
      ]
    },
    {
      "cell_type": "code",
      "metadata": {
        "id": "x1efc3tFAxua",
        "colab_type": "code",
        "colab": {}
      },
      "source": [
        "boston.Name = boston.Name.str.strip()"
      ],
      "execution_count": null,
      "outputs": []
    },
    {
      "cell_type": "code",
      "metadata": {
        "id": "lQ1kAE6UA7Ll",
        "colab_type": "code",
        "colab": {
          "base_uri": "https://localhost:8080/"
        },
        "outputId": "65bd0d9f-41b1-4254-f138-a670aecbddbd"
      },
      "source": [
        "boston.head()"
      ],
      "execution_count": null,
      "outputs": [
        {
          "output_type": "execute_result",
          "data": {
            "text/html": [
              "<div>\n",
              "<style scoped>\n",
              "    .dataframe tbody tr th:only-of-type {\n",
              "        vertical-align: middle;\n",
              "    }\n",
              "\n",
              "    .dataframe tbody tr th {\n",
              "        vertical-align: top;\n",
              "    }\n",
              "\n",
              "    .dataframe thead th {\n",
              "        text-align: right;\n",
              "    }\n",
              "</style>\n",
              "<table border=\"1\" class=\"dataframe\">\n",
              "  <thead>\n",
              "    <tr style=\"text-align: right;\">\n",
              "      <th></th>\n",
              "      <th>Name</th>\n",
              "      <th>Age</th>\n",
              "      <th>M/F</th>\n",
              "      <th>City</th>\n",
              "      <th>State</th>\n",
              "      <th>Country</th>\n",
              "      <th>Official Time</th>\n",
              "      <th>Overall</th>\n",
              "      <th>Gender</th>\n",
              "      <th>Years Ran</th>\n",
              "    </tr>\n",
              "  </thead>\n",
              "  <tbody>\n",
              "    <tr>\n",
              "      <th>0</th>\n",
              "      <td>Kirui, Geoffrey</td>\n",
              "      <td>24</td>\n",
              "      <td>M</td>\n",
              "      <td>Keringet</td>\n",
              "      <td>NaN</td>\n",
              "      <td>KEN</td>\n",
              "      <td>2:09:37</td>\n",
              "      <td>1</td>\n",
              "      <td>1</td>\n",
              "      <td>NaN</td>\n",
              "    </tr>\n",
              "    <tr>\n",
              "      <th>1</th>\n",
              "      <td>Rupp, Galen</td>\n",
              "      <td>30</td>\n",
              "      <td>M</td>\n",
              "      <td>Portland</td>\n",
              "      <td>OR</td>\n",
              "      <td>USA</td>\n",
              "      <td>2:09:58</td>\n",
              "      <td>2</td>\n",
              "      <td>2</td>\n",
              "      <td>NaN</td>\n",
              "    </tr>\n",
              "    <tr>\n",
              "      <th>2</th>\n",
              "      <td>Osako, Suguru</td>\n",
              "      <td>25</td>\n",
              "      <td>M</td>\n",
              "      <td>Machida-City</td>\n",
              "      <td>NaN</td>\n",
              "      <td>JPN</td>\n",
              "      <td>2:10:28</td>\n",
              "      <td>3</td>\n",
              "      <td>3</td>\n",
              "      <td>NaN</td>\n",
              "    </tr>\n",
              "    <tr>\n",
              "      <th>3</th>\n",
              "      <td>Biwott, Shadrack</td>\n",
              "      <td>32</td>\n",
              "      <td>M</td>\n",
              "      <td>Mammoth Lakes</td>\n",
              "      <td>CA</td>\n",
              "      <td>USA</td>\n",
              "      <td>2:12:08</td>\n",
              "      <td>4</td>\n",
              "      <td>4</td>\n",
              "      <td>NaN</td>\n",
              "    </tr>\n",
              "    <tr>\n",
              "      <th>4</th>\n",
              "      <td>Chebet, Wilson</td>\n",
              "      <td>31</td>\n",
              "      <td>M</td>\n",
              "      <td>Marakwet</td>\n",
              "      <td>NaN</td>\n",
              "      <td>KEN</td>\n",
              "      <td>2:12:35</td>\n",
              "      <td>5</td>\n",
              "      <td>5</td>\n",
              "      <td>2015</td>\n",
              "    </tr>\n",
              "  </tbody>\n",
              "</table>\n",
              "</div>"
            ],
            "text/plain": [
              "               Name  Age M/F  ... Overall Gender Years Ran\n",
              "0   Kirui, Geoffrey   24   M  ...       1      1       NaN\n",
              "1       Rupp, Galen   30   M  ...       2      2       NaN\n",
              "2     Osako, Suguru   25   M  ...       3      3       NaN\n",
              "3  Biwott, Shadrack   32   M  ...       4      4       NaN\n",
              "4    Chebet, Wilson   31   M  ...       5      5      2015\n",
              "\n",
              "[5 rows x 10 columns]"
            ]
          },
          "metadata": {
            "tags": []
          },
          "execution_count": 71
        }
      ]
    },
    {
      "cell_type": "code",
      "metadata": {
        "id": "LFHAxV4LA8O2",
        "colab_type": "code",
        "colab": {
          "base_uri": "https://localhost:8080/"
        },
        "outputId": "86f0a98f-feb2-41d3-8700-37a435ba2671"
      },
      "source": [
        "boston.Name.iloc[0]"
      ],
      "execution_count": null,
      "outputs": [
        {
          "output_type": "execute_result",
          "data": {
            "text/plain": [
              "'Kirui, Geoffrey'"
            ]
          },
          "metadata": {
            "tags": []
          },
          "execution_count": 72
        }
      ]
    },
    {
      "cell_type": "markdown",
      "metadata": {
        "id": "8tanSPw6A-gZ",
        "colab_type": "text"
      },
      "source": [
        "#### String Splitting And Concatenation"
      ]
    },
    {
      "cell_type": "code",
      "metadata": {
        "id": "rsXhn8KOBo6E",
        "colab_type": "code",
        "colab": {}
      },
      "source": [
        "# Agenda:\n",
        "#  - split()\n",
        "#  - get()\n",
        "#  - cat()"
      ],
      "execution_count": null,
      "outputs": []
    },
    {
      "cell_type": "code",
      "metadata": {
        "id": "ekpfPSPfGl9s",
        "colab_type": "code",
        "colab": {
          "base_uri": "https://localhost:8080/"
        },
        "outputId": "7e4369cf-915b-4fde-a5dd-465bb129af9b"
      },
      "source": [
        "s"
      ],
      "execution_count": null,
      "outputs": [
        {
          "output_type": "execute_result",
          "data": {
            "text/plain": [
              "'Welcome to the text manipulation section'"
            ]
          },
          "metadata": {
            "tags": []
          },
          "execution_count": 74
        }
      ]
    },
    {
      "cell_type": "code",
      "metadata": {
        "id": "P7TlcXGMGyeA",
        "colab_type": "code",
        "colab": {
          "base_uri": "https://localhost:8080/"
        },
        "outputId": "15efe3b6-56ca-4b8a-d3df-a47494baab44"
      },
      "source": [
        "s.split()"
      ],
      "execution_count": null,
      "outputs": [
        {
          "output_type": "execute_result",
          "data": {
            "text/plain": [
              "['Welcome', 'to', 'the', 'text', 'manipulation', 'section']"
            ]
          },
          "metadata": {
            "tags": []
          },
          "execution_count": 75
        }
      ]
    },
    {
      "cell_type": "code",
      "metadata": {
        "id": "AmWv3lJ7G0SV",
        "colab_type": "code",
        "colab": {
          "base_uri": "https://localhost:8080/"
        },
        "outputId": "7e164538-8ee6-4717-fd98-83dcdf395369"
      },
      "source": [
        "s.split(' ')"
      ],
      "execution_count": null,
      "outputs": [
        {
          "output_type": "execute_result",
          "data": {
            "text/plain": [
              "['Welcome', 'to', 'the', 'text', 'manipulation', 'section']"
            ]
          },
          "metadata": {
            "tags": []
          },
          "execution_count": 76
        }
      ]
    },
    {
      "cell_type": "code",
      "metadata": {
        "id": "AIIchqiTHBSU",
        "colab_type": "code",
        "colab": {
          "base_uri": "https://localhost:8080/"
        },
        "outputId": "9136ae95-92d9-4302-d7ab-d9f0e5c822ef"
      },
      "source": [
        "spaced"
      ],
      "execution_count": null,
      "outputs": [
        {
          "output_type": "execute_result",
          "data": {
            "text/plain": [
              "'  the name is: BOND \\t JAMES BOND \\n\\n'"
            ]
          },
          "metadata": {
            "tags": []
          },
          "execution_count": 77
        }
      ]
    },
    {
      "cell_type": "code",
      "metadata": {
        "id": "K8yAiexwHFpy",
        "colab_type": "code",
        "colab": {
          "base_uri": "https://localhost:8080/"
        },
        "outputId": "4e82a65b-7ad9-4ef7-bff6-ef54945db15e"
      },
      "source": [
        "spaced.split()"
      ],
      "execution_count": null,
      "outputs": [
        {
          "output_type": "execute_result",
          "data": {
            "text/plain": [
              "['the', 'name', 'is:', 'BOND', 'JAMES', 'BOND']"
            ]
          },
          "metadata": {
            "tags": []
          },
          "execution_count": 78
        }
      ]
    },
    {
      "cell_type": "code",
      "metadata": {
        "id": "WQlxMfpFHI1f",
        "colab_type": "code",
        "colab": {
          "base_uri": "https://localhost:8080/"
        },
        "outputId": "ae6e6512-fe4b-47cf-acfb-49885e66a313"
      },
      "source": [
        "spaced.split(' ')"
      ],
      "execution_count": null,
      "outputs": [
        {
          "output_type": "execute_result",
          "data": {
            "text/plain": [
              "['', '', 'the', 'name', 'is:', 'BOND', '\\t', 'JAMES', 'BOND', '\\n\\n']"
            ]
          },
          "metadata": {
            "tags": []
          },
          "execution_count": 79
        }
      ]
    },
    {
      "cell_type": "code",
      "metadata": {
        "id": "CnQJO9vDHOE9",
        "colab_type": "code",
        "colab": {
          "base_uri": "https://localhost:8080/"
        },
        "outputId": "348759e2-9ad8-4fdd-9676-8cc7e889310f"
      },
      "source": [
        "s"
      ],
      "execution_count": null,
      "outputs": [
        {
          "output_type": "execute_result",
          "data": {
            "text/plain": [
              "'Welcome to the text manipulation section'"
            ]
          },
          "metadata": {
            "tags": []
          },
          "execution_count": 80
        }
      ]
    },
    {
      "cell_type": "code",
      "metadata": {
        "id": "636oxleSHWDK",
        "colab_type": "code",
        "colab": {
          "base_uri": "https://localhost:8080/"
        },
        "outputId": "2bfeb929-9f60-475a-fc6f-6a372cf3ddd7"
      },
      "source": [
        "s.split('to')"
      ],
      "execution_count": null,
      "outputs": [
        {
          "output_type": "execute_result",
          "data": {
            "text/plain": [
              "['Welcome ', ' the text manipulation section']"
            ]
          },
          "metadata": {
            "tags": []
          },
          "execution_count": 81
        }
      ]
    },
    {
      "cell_type": "code",
      "metadata": {
        "id": "cacOOZSLHX7_",
        "colab_type": "code",
        "colab": {
          "base_uri": "https://localhost:8080/"
        },
        "outputId": "fc9a0078-6e31-4d8f-b483-9b52b9694b60"
      },
      "source": [
        "boston.head()"
      ],
      "execution_count": null,
      "outputs": [
        {
          "output_type": "execute_result",
          "data": {
            "text/html": [
              "<div>\n",
              "<style scoped>\n",
              "    .dataframe tbody tr th:only-of-type {\n",
              "        vertical-align: middle;\n",
              "    }\n",
              "\n",
              "    .dataframe tbody tr th {\n",
              "        vertical-align: top;\n",
              "    }\n",
              "\n",
              "    .dataframe thead th {\n",
              "        text-align: right;\n",
              "    }\n",
              "</style>\n",
              "<table border=\"1\" class=\"dataframe\">\n",
              "  <thead>\n",
              "    <tr style=\"text-align: right;\">\n",
              "      <th></th>\n",
              "      <th>Name</th>\n",
              "      <th>Age</th>\n",
              "      <th>M/F</th>\n",
              "      <th>City</th>\n",
              "      <th>State</th>\n",
              "      <th>Country</th>\n",
              "      <th>Official Time</th>\n",
              "      <th>Overall</th>\n",
              "      <th>Gender</th>\n",
              "      <th>Years Ran</th>\n",
              "    </tr>\n",
              "  </thead>\n",
              "  <tbody>\n",
              "    <tr>\n",
              "      <th>0</th>\n",
              "      <td>Kirui, Geoffrey</td>\n",
              "      <td>24</td>\n",
              "      <td>M</td>\n",
              "      <td>Keringet</td>\n",
              "      <td>NaN</td>\n",
              "      <td>KEN</td>\n",
              "      <td>2:09:37</td>\n",
              "      <td>1</td>\n",
              "      <td>1</td>\n",
              "      <td>NaN</td>\n",
              "    </tr>\n",
              "    <tr>\n",
              "      <th>1</th>\n",
              "      <td>Rupp, Galen</td>\n",
              "      <td>30</td>\n",
              "      <td>M</td>\n",
              "      <td>Portland</td>\n",
              "      <td>OR</td>\n",
              "      <td>USA</td>\n",
              "      <td>2:09:58</td>\n",
              "      <td>2</td>\n",
              "      <td>2</td>\n",
              "      <td>NaN</td>\n",
              "    </tr>\n",
              "    <tr>\n",
              "      <th>2</th>\n",
              "      <td>Osako, Suguru</td>\n",
              "      <td>25</td>\n",
              "      <td>M</td>\n",
              "      <td>Machida-City</td>\n",
              "      <td>NaN</td>\n",
              "      <td>JPN</td>\n",
              "      <td>2:10:28</td>\n",
              "      <td>3</td>\n",
              "      <td>3</td>\n",
              "      <td>NaN</td>\n",
              "    </tr>\n",
              "    <tr>\n",
              "      <th>3</th>\n",
              "      <td>Biwott, Shadrack</td>\n",
              "      <td>32</td>\n",
              "      <td>M</td>\n",
              "      <td>Mammoth Lakes</td>\n",
              "      <td>CA</td>\n",
              "      <td>USA</td>\n",
              "      <td>2:12:08</td>\n",
              "      <td>4</td>\n",
              "      <td>4</td>\n",
              "      <td>NaN</td>\n",
              "    </tr>\n",
              "    <tr>\n",
              "      <th>4</th>\n",
              "      <td>Chebet, Wilson</td>\n",
              "      <td>31</td>\n",
              "      <td>M</td>\n",
              "      <td>Marakwet</td>\n",
              "      <td>NaN</td>\n",
              "      <td>KEN</td>\n",
              "      <td>2:12:35</td>\n",
              "      <td>5</td>\n",
              "      <td>5</td>\n",
              "      <td>2015</td>\n",
              "    </tr>\n",
              "  </tbody>\n",
              "</table>\n",
              "</div>"
            ],
            "text/plain": [
              "               Name  Age M/F  ... Overall Gender Years Ran\n",
              "0   Kirui, Geoffrey   24   M  ...       1      1       NaN\n",
              "1       Rupp, Galen   30   M  ...       2      2       NaN\n",
              "2     Osako, Suguru   25   M  ...       3      3       NaN\n",
              "3  Biwott, Shadrack   32   M  ...       4      4       NaN\n",
              "4    Chebet, Wilson   31   M  ...       5      5      2015\n",
              "\n",
              "[5 rows x 10 columns]"
            ]
          },
          "metadata": {
            "tags": []
          },
          "execution_count": 82
        }
      ]
    },
    {
      "cell_type": "code",
      "metadata": {
        "id": "5LpWP9nkHh3a",
        "colab_type": "code",
        "colab": {
          "base_uri": "https://localhost:8080/"
        },
        "outputId": "c775f076-6055-4b5e-88c0-b47acd17b503"
      },
      "source": [
        "boston.Name.str.split(', ')"
      ],
      "execution_count": null,
      "outputs": [
        {
          "output_type": "execute_result",
          "data": {
            "text/plain": [
              "0          [Kirui, Geoffrey]\n",
              "1              [Rupp, Galen]\n",
              "2            [Osako, Suguru]\n",
              "3         [Biwott, Shadrack]\n",
              "4           [Chebet, Wilson]\n",
              "               ...          \n",
              "995           [Larosa, Mark]\n",
              "996    [Williamson, Jerry A]\n",
              "997        [Mccue, Daniel T]\n",
              "998           [Larosa, John]\n",
              "999         [Sanchez, Sam R]\n",
              "Name: Name, Length: 1000, dtype: object"
            ]
          },
          "metadata": {
            "tags": []
          },
          "execution_count": 83
        }
      ]
    },
    {
      "cell_type": "code",
      "metadata": {
        "id": "4vyZl0ysHvKM",
        "colab_type": "code",
        "colab": {
          "base_uri": "https://localhost:8080/"
        },
        "outputId": "01da810b-6e6f-47b8-eae6-17f18dfe449b"
      },
      "source": [
        "boston.Name.str.split(', ')[0]"
      ],
      "execution_count": null,
      "outputs": [
        {
          "output_type": "execute_result",
          "data": {
            "text/plain": [
              "['Kirui', 'Geoffrey']"
            ]
          },
          "metadata": {
            "tags": []
          },
          "execution_count": 84
        }
      ]
    },
    {
      "cell_type": "code",
      "metadata": {
        "id": "1gSbJ0ykH7eK",
        "colab_type": "code",
        "colab": {}
      },
      "source": [
        "# the str.get() method"
      ],
      "execution_count": null,
      "outputs": []
    },
    {
      "cell_type": "code",
      "metadata": {
        "id": "VFXEWi2HICdA",
        "colab_type": "code",
        "colab": {
          "base_uri": "https://localhost:8080/"
        },
        "outputId": "596d1809-6e94-4be3-a1aa-d1a27f9a4ebb"
      },
      "source": [
        "boston.Name.str.split(', ').str.get(1)"
      ],
      "execution_count": null,
      "outputs": [
        {
          "output_type": "execute_result",
          "data": {
            "text/plain": [
              "0      Geoffrey\n",
              "1         Galen\n",
              "2        Suguru\n",
              "3      Shadrack\n",
              "4        Wilson\n",
              "         ...   \n",
              "995        Mark\n",
              "996     Jerry A\n",
              "997    Daniel T\n",
              "998        John\n",
              "999       Sam R\n",
              "Name: Name, Length: 1000, dtype: object"
            ]
          },
          "metadata": {
            "tags": []
          },
          "execution_count": 86
        }
      ]
    },
    {
      "cell_type": "code",
      "metadata": {
        "id": "QS4QtIjmIEIP",
        "colab_type": "code",
        "colab": {}
      },
      "source": [
        "boston['First Name'] = boston.Name.str.split(', ').str.get(1)\n",
        "boston['Last Name'] = boston.Name.str.split(', ').str.get(0)"
      ],
      "execution_count": null,
      "outputs": []
    },
    {
      "cell_type": "code",
      "metadata": {
        "id": "x1xmB-08IV9M",
        "colab_type": "code",
        "colab": {
          "base_uri": "https://localhost:8080/"
        },
        "outputId": "6cdc9725-6667-41c4-be54-ced08c2b67ce"
      },
      "source": [
        "boston.head(10)"
      ],
      "execution_count": null,
      "outputs": [
        {
          "output_type": "execute_result",
          "data": {
            "text/html": [
              "<div>\n",
              "<style scoped>\n",
              "    .dataframe tbody tr th:only-of-type {\n",
              "        vertical-align: middle;\n",
              "    }\n",
              "\n",
              "    .dataframe tbody tr th {\n",
              "        vertical-align: top;\n",
              "    }\n",
              "\n",
              "    .dataframe thead th {\n",
              "        text-align: right;\n",
              "    }\n",
              "</style>\n",
              "<table border=\"1\" class=\"dataframe\">\n",
              "  <thead>\n",
              "    <tr style=\"text-align: right;\">\n",
              "      <th></th>\n",
              "      <th>Name</th>\n",
              "      <th>Age</th>\n",
              "      <th>M/F</th>\n",
              "      <th>City</th>\n",
              "      <th>State</th>\n",
              "      <th>Country</th>\n",
              "      <th>Official Time</th>\n",
              "      <th>Overall</th>\n",
              "      <th>Gender</th>\n",
              "      <th>Years Ran</th>\n",
              "      <th>First Name</th>\n",
              "      <th>Last Name</th>\n",
              "    </tr>\n",
              "  </thead>\n",
              "  <tbody>\n",
              "    <tr>\n",
              "      <th>0</th>\n",
              "      <td>Kirui, Geoffrey</td>\n",
              "      <td>24</td>\n",
              "      <td>M</td>\n",
              "      <td>Keringet</td>\n",
              "      <td>NaN</td>\n",
              "      <td>KEN</td>\n",
              "      <td>2:09:37</td>\n",
              "      <td>1</td>\n",
              "      <td>1</td>\n",
              "      <td>NaN</td>\n",
              "      <td>Geoffrey</td>\n",
              "      <td>Kirui</td>\n",
              "    </tr>\n",
              "    <tr>\n",
              "      <th>1</th>\n",
              "      <td>Rupp, Galen</td>\n",
              "      <td>30</td>\n",
              "      <td>M</td>\n",
              "      <td>Portland</td>\n",
              "      <td>OR</td>\n",
              "      <td>USA</td>\n",
              "      <td>2:09:58</td>\n",
              "      <td>2</td>\n",
              "      <td>2</td>\n",
              "      <td>NaN</td>\n",
              "      <td>Galen</td>\n",
              "      <td>Rupp</td>\n",
              "    </tr>\n",
              "    <tr>\n",
              "      <th>2</th>\n",
              "      <td>Osako, Suguru</td>\n",
              "      <td>25</td>\n",
              "      <td>M</td>\n",
              "      <td>Machida-City</td>\n",
              "      <td>NaN</td>\n",
              "      <td>JPN</td>\n",
              "      <td>2:10:28</td>\n",
              "      <td>3</td>\n",
              "      <td>3</td>\n",
              "      <td>NaN</td>\n",
              "      <td>Suguru</td>\n",
              "      <td>Osako</td>\n",
              "    </tr>\n",
              "    <tr>\n",
              "      <th>3</th>\n",
              "      <td>Biwott, Shadrack</td>\n",
              "      <td>32</td>\n",
              "      <td>M</td>\n",
              "      <td>Mammoth Lakes</td>\n",
              "      <td>CA</td>\n",
              "      <td>USA</td>\n",
              "      <td>2:12:08</td>\n",
              "      <td>4</td>\n",
              "      <td>4</td>\n",
              "      <td>NaN</td>\n",
              "      <td>Shadrack</td>\n",
              "      <td>Biwott</td>\n",
              "    </tr>\n",
              "    <tr>\n",
              "      <th>4</th>\n",
              "      <td>Chebet, Wilson</td>\n",
              "      <td>31</td>\n",
              "      <td>M</td>\n",
              "      <td>Marakwet</td>\n",
              "      <td>NaN</td>\n",
              "      <td>KEN</td>\n",
              "      <td>2:12:35</td>\n",
              "      <td>5</td>\n",
              "      <td>5</td>\n",
              "      <td>2015</td>\n",
              "      <td>Wilson</td>\n",
              "      <td>Chebet</td>\n",
              "    </tr>\n",
              "    <tr>\n",
              "      <th>5</th>\n",
              "      <td>Abdirahman, Abdi</td>\n",
              "      <td>40</td>\n",
              "      <td>M</td>\n",
              "      <td>Phoenix</td>\n",
              "      <td>AZ</td>\n",
              "      <td>USA</td>\n",
              "      <td>2:12:45</td>\n",
              "      <td>6</td>\n",
              "      <td>6</td>\n",
              "      <td>NaN</td>\n",
              "      <td>Abdi</td>\n",
              "      <td>Abdirahman</td>\n",
              "    </tr>\n",
              "    <tr>\n",
              "      <th>6</th>\n",
              "      <td>Maiyo, Augustus K.</td>\n",
              "      <td>33</td>\n",
              "      <td>M</td>\n",
              "      <td>Colorado Springs</td>\n",
              "      <td>CO</td>\n",
              "      <td>USA</td>\n",
              "      <td>2:13:16</td>\n",
              "      <td>7</td>\n",
              "      <td>7</td>\n",
              "      <td>NaN</td>\n",
              "      <td>Augustus K.</td>\n",
              "      <td>Maiyo</td>\n",
              "    </tr>\n",
              "    <tr>\n",
              "      <th>7</th>\n",
              "      <td>Sefir, Dino</td>\n",
              "      <td>28</td>\n",
              "      <td>M</td>\n",
              "      <td>Addis Ababa</td>\n",
              "      <td>NaN</td>\n",
              "      <td>ETH</td>\n",
              "      <td>2:14:26</td>\n",
              "      <td>8</td>\n",
              "      <td>8</td>\n",
              "      <td>NaN</td>\n",
              "      <td>Dino</td>\n",
              "      <td>Sefir</td>\n",
              "    </tr>\n",
              "    <tr>\n",
              "      <th>8</th>\n",
              "      <td>Puskedra, Luke</td>\n",
              "      <td>27</td>\n",
              "      <td>M</td>\n",
              "      <td>Eugene</td>\n",
              "      <td>OR</td>\n",
              "      <td>USA</td>\n",
              "      <td>2:14:45</td>\n",
              "      <td>9</td>\n",
              "      <td>9</td>\n",
              "      <td>NaN</td>\n",
              "      <td>Luke</td>\n",
              "      <td>Puskedra</td>\n",
              "    </tr>\n",
              "    <tr>\n",
              "      <th>9</th>\n",
              "      <td>Ward, Jared</td>\n",
              "      <td>28</td>\n",
              "      <td>M</td>\n",
              "      <td>Kaysville</td>\n",
              "      <td>UT</td>\n",
              "      <td>USA</td>\n",
              "      <td>2:15:28</td>\n",
              "      <td>10</td>\n",
              "      <td>10</td>\n",
              "      <td>NaN</td>\n",
              "      <td>Jared</td>\n",
              "      <td>Ward</td>\n",
              "    </tr>\n",
              "  </tbody>\n",
              "</table>\n",
              "</div>"
            ],
            "text/plain": [
              "                 Name  Age M/F  ... Years Ran   First Name   Last Name\n",
              "0     Kirui, Geoffrey   24   M  ...       NaN     Geoffrey       Kirui\n",
              "1         Rupp, Galen   30   M  ...       NaN        Galen        Rupp\n",
              "2       Osako, Suguru   25   M  ...       NaN       Suguru       Osako\n",
              "3    Biwott, Shadrack   32   M  ...       NaN     Shadrack      Biwott\n",
              "4      Chebet, Wilson   31   M  ...      2015       Wilson      Chebet\n",
              "5    Abdirahman, Abdi   40   M  ...       NaN         Abdi  Abdirahman\n",
              "6  Maiyo, Augustus K.   33   M  ...       NaN  Augustus K.       Maiyo\n",
              "7         Sefir, Dino   28   M  ...       NaN         Dino       Sefir\n",
              "8      Puskedra, Luke   27   M  ...       NaN         Luke    Puskedra\n",
              "9         Ward, Jared   28   M  ...       NaN        Jared        Ward\n",
              "\n",
              "[10 rows x 12 columns]"
            ]
          },
          "metadata": {
            "tags": []
          },
          "execution_count": 88
        }
      ]
    },
    {
      "cell_type": "code",
      "metadata": {
        "id": "9_vsCxPFIXKy",
        "colab_type": "code",
        "colab": {
          "base_uri": "https://localhost:8080/"
        },
        "outputId": "c3f183ca-f611-48d9-d6b3-8e5cfcba5196"
      },
      "source": [
        "boston['M/F'].str.cat(boston.Age.astype(str), sep='_')"
      ],
      "execution_count": null,
      "outputs": [
        {
          "output_type": "execute_result",
          "data": {
            "text/plain": [
              "0      M_24\n",
              "1      M_30\n",
              "2      M_25\n",
              "3      M_32\n",
              "4      M_31\n",
              "       ... \n",
              "995    M_38\n",
              "996    M_43\n",
              "997    M_40\n",
              "998    M_35\n",
              "999    M_35\n",
              "Name: M/F, Length: 1000, dtype: object"
            ]
          },
          "metadata": {
            "tags": []
          },
          "execution_count": 89
        }
      ]
    },
    {
      "cell_type": "markdown",
      "metadata": {
        "id": "B40dtI0TIpZF",
        "colab_type": "text"
      },
      "source": [
        "#### More Split Parameters"
      ]
    },
    {
      "cell_type": "code",
      "metadata": {
        "id": "tjgzu9mrKrme",
        "colab_type": "code",
        "colab": {}
      },
      "source": [
        "# Previously:\n",
        "  # boston['First Name'] = boston.Name.str.split(', ').str.get(1)\n",
        "  # boston['Last Name'] = boston.Name.str.split(', ').str.get(0)"
      ],
      "execution_count": null,
      "outputs": []
    },
    {
      "cell_type": "code",
      "metadata": {
        "id": "z8VotRA9LtGG",
        "colab_type": "code",
        "colab": {}
      },
      "source": [
        "boston.drop(['First Name', 'Last Name'], axis=1, inplace=True)"
      ],
      "execution_count": null,
      "outputs": []
    },
    {
      "cell_type": "code",
      "metadata": {
        "id": "5IGLtvWnMG29",
        "colab_type": "code",
        "colab": {
          "base_uri": "https://localhost:8080/"
        },
        "outputId": "bc94db2e-a3fe-4878-f27e-0d402038c260"
      },
      "source": [
        "boston.head()"
      ],
      "execution_count": null,
      "outputs": [
        {
          "output_type": "execute_result",
          "data": {
            "text/html": [
              "<div>\n",
              "<style scoped>\n",
              "    .dataframe tbody tr th:only-of-type {\n",
              "        vertical-align: middle;\n",
              "    }\n",
              "\n",
              "    .dataframe tbody tr th {\n",
              "        vertical-align: top;\n",
              "    }\n",
              "\n",
              "    .dataframe thead th {\n",
              "        text-align: right;\n",
              "    }\n",
              "</style>\n",
              "<table border=\"1\" class=\"dataframe\">\n",
              "  <thead>\n",
              "    <tr style=\"text-align: right;\">\n",
              "      <th></th>\n",
              "      <th>Name</th>\n",
              "      <th>Age</th>\n",
              "      <th>M/F</th>\n",
              "      <th>City</th>\n",
              "      <th>State</th>\n",
              "      <th>Country</th>\n",
              "      <th>Official Time</th>\n",
              "      <th>Overall</th>\n",
              "      <th>Gender</th>\n",
              "      <th>Years Ran</th>\n",
              "    </tr>\n",
              "  </thead>\n",
              "  <tbody>\n",
              "    <tr>\n",
              "      <th>0</th>\n",
              "      <td>Kirui, Geoffrey</td>\n",
              "      <td>24</td>\n",
              "      <td>M</td>\n",
              "      <td>Keringet</td>\n",
              "      <td>NaN</td>\n",
              "      <td>KEN</td>\n",
              "      <td>2:09:37</td>\n",
              "      <td>1</td>\n",
              "      <td>1</td>\n",
              "      <td>NaN</td>\n",
              "    </tr>\n",
              "    <tr>\n",
              "      <th>1</th>\n",
              "      <td>Rupp, Galen</td>\n",
              "      <td>30</td>\n",
              "      <td>M</td>\n",
              "      <td>Portland</td>\n",
              "      <td>OR</td>\n",
              "      <td>USA</td>\n",
              "      <td>2:09:58</td>\n",
              "      <td>2</td>\n",
              "      <td>2</td>\n",
              "      <td>NaN</td>\n",
              "    </tr>\n",
              "    <tr>\n",
              "      <th>2</th>\n",
              "      <td>Osako, Suguru</td>\n",
              "      <td>25</td>\n",
              "      <td>M</td>\n",
              "      <td>Machida-City</td>\n",
              "      <td>NaN</td>\n",
              "      <td>JPN</td>\n",
              "      <td>2:10:28</td>\n",
              "      <td>3</td>\n",
              "      <td>3</td>\n",
              "      <td>NaN</td>\n",
              "    </tr>\n",
              "    <tr>\n",
              "      <th>3</th>\n",
              "      <td>Biwott, Shadrack</td>\n",
              "      <td>32</td>\n",
              "      <td>M</td>\n",
              "      <td>Mammoth Lakes</td>\n",
              "      <td>CA</td>\n",
              "      <td>USA</td>\n",
              "      <td>2:12:08</td>\n",
              "      <td>4</td>\n",
              "      <td>4</td>\n",
              "      <td>NaN</td>\n",
              "    </tr>\n",
              "    <tr>\n",
              "      <th>4</th>\n",
              "      <td>Chebet, Wilson</td>\n",
              "      <td>31</td>\n",
              "      <td>M</td>\n",
              "      <td>Marakwet</td>\n",
              "      <td>NaN</td>\n",
              "      <td>KEN</td>\n",
              "      <td>2:12:35</td>\n",
              "      <td>5</td>\n",
              "      <td>5</td>\n",
              "      <td>2015</td>\n",
              "    </tr>\n",
              "  </tbody>\n",
              "</table>\n",
              "</div>"
            ],
            "text/plain": [
              "               Name  Age M/F  ... Overall Gender Years Ran\n",
              "0   Kirui, Geoffrey   24   M  ...       1      1       NaN\n",
              "1       Rupp, Galen   30   M  ...       2      2       NaN\n",
              "2     Osako, Suguru   25   M  ...       3      3       NaN\n",
              "3  Biwott, Shadrack   32   M  ...       4      4       NaN\n",
              "4    Chebet, Wilson   31   M  ...       5      5      2015\n",
              "\n",
              "[5 rows x 10 columns]"
            ]
          },
          "metadata": {
            "tags": []
          },
          "execution_count": 92
        }
      ]
    },
    {
      "cell_type": "code",
      "metadata": {
        "id": "xDdSAXMLMHiu",
        "colab_type": "code",
        "colab": {}
      },
      "source": [
        "# the expand param"
      ],
      "execution_count": null,
      "outputs": []
    },
    {
      "cell_type": "code",
      "metadata": {
        "id": "_Ny2P31OMQQa",
        "colab_type": "code",
        "colab": {
          "base_uri": "https://localhost:8080/"
        },
        "outputId": "ae860be5-8f30-4b5d-e125-fae8324dc2c2"
      },
      "source": [
        "boston.Name.str.split(', ', expand=True)"
      ],
      "execution_count": null,
      "outputs": [
        {
          "output_type": "execute_result",
          "data": {
            "text/html": [
              "<div>\n",
              "<style scoped>\n",
              "    .dataframe tbody tr th:only-of-type {\n",
              "        vertical-align: middle;\n",
              "    }\n",
              "\n",
              "    .dataframe tbody tr th {\n",
              "        vertical-align: top;\n",
              "    }\n",
              "\n",
              "    .dataframe thead th {\n",
              "        text-align: right;\n",
              "    }\n",
              "</style>\n",
              "<table border=\"1\" class=\"dataframe\">\n",
              "  <thead>\n",
              "    <tr style=\"text-align: right;\">\n",
              "      <th></th>\n",
              "      <th>0</th>\n",
              "      <th>1</th>\n",
              "    </tr>\n",
              "  </thead>\n",
              "  <tbody>\n",
              "    <tr>\n",
              "      <th>0</th>\n",
              "      <td>Kirui</td>\n",
              "      <td>Geoffrey</td>\n",
              "    </tr>\n",
              "    <tr>\n",
              "      <th>1</th>\n",
              "      <td>Rupp</td>\n",
              "      <td>Galen</td>\n",
              "    </tr>\n",
              "    <tr>\n",
              "      <th>2</th>\n",
              "      <td>Osako</td>\n",
              "      <td>Suguru</td>\n",
              "    </tr>\n",
              "    <tr>\n",
              "      <th>3</th>\n",
              "      <td>Biwott</td>\n",
              "      <td>Shadrack</td>\n",
              "    </tr>\n",
              "    <tr>\n",
              "      <th>4</th>\n",
              "      <td>Chebet</td>\n",
              "      <td>Wilson</td>\n",
              "    </tr>\n",
              "    <tr>\n",
              "      <th>...</th>\n",
              "      <td>...</td>\n",
              "      <td>...</td>\n",
              "    </tr>\n",
              "    <tr>\n",
              "      <th>995</th>\n",
              "      <td>Larosa</td>\n",
              "      <td>Mark</td>\n",
              "    </tr>\n",
              "    <tr>\n",
              "      <th>996</th>\n",
              "      <td>Williamson</td>\n",
              "      <td>Jerry A</td>\n",
              "    </tr>\n",
              "    <tr>\n",
              "      <th>997</th>\n",
              "      <td>Mccue</td>\n",
              "      <td>Daniel T</td>\n",
              "    </tr>\n",
              "    <tr>\n",
              "      <th>998</th>\n",
              "      <td>Larosa</td>\n",
              "      <td>John</td>\n",
              "    </tr>\n",
              "    <tr>\n",
              "      <th>999</th>\n",
              "      <td>Sanchez</td>\n",
              "      <td>Sam R</td>\n",
              "    </tr>\n",
              "  </tbody>\n",
              "</table>\n",
              "<p>1000 rows × 2 columns</p>\n",
              "</div>"
            ],
            "text/plain": [
              "              0         1\n",
              "0         Kirui  Geoffrey\n",
              "1          Rupp     Galen\n",
              "2         Osako    Suguru\n",
              "3        Biwott  Shadrack\n",
              "4        Chebet    Wilson\n",
              "..          ...       ...\n",
              "995      Larosa      Mark\n",
              "996  Williamson   Jerry A\n",
              "997       Mccue  Daniel T\n",
              "998      Larosa      John\n",
              "999     Sanchez     Sam R\n",
              "\n",
              "[1000 rows x 2 columns]"
            ]
          },
          "metadata": {
            "tags": []
          },
          "execution_count": 94
        }
      ]
    },
    {
      "cell_type": "code",
      "metadata": {
        "id": "sDmLSv-HMTdM",
        "colab_type": "code",
        "colab": {
          "base_uri": "https://localhost:8080/"
        },
        "outputId": "3b5b548e-4660-4b24-b52f-d22c1d2445cd"
      },
      "source": [
        "boston.Name.str.split(expand=True)"
      ],
      "execution_count": null,
      "outputs": [
        {
          "output_type": "execute_result",
          "data": {
            "text/html": [
              "<div>\n",
              "<style scoped>\n",
              "    .dataframe tbody tr th:only-of-type {\n",
              "        vertical-align: middle;\n",
              "    }\n",
              "\n",
              "    .dataframe tbody tr th {\n",
              "        vertical-align: top;\n",
              "    }\n",
              "\n",
              "    .dataframe thead th {\n",
              "        text-align: right;\n",
              "    }\n",
              "</style>\n",
              "<table border=\"1\" class=\"dataframe\">\n",
              "  <thead>\n",
              "    <tr style=\"text-align: right;\">\n",
              "      <th></th>\n",
              "      <th>0</th>\n",
              "      <th>1</th>\n",
              "      <th>2</th>\n",
              "      <th>3</th>\n",
              "      <th>4</th>\n",
              "    </tr>\n",
              "  </thead>\n",
              "  <tbody>\n",
              "    <tr>\n",
              "      <th>0</th>\n",
              "      <td>Kirui,</td>\n",
              "      <td>Geoffrey</td>\n",
              "      <td>None</td>\n",
              "      <td>None</td>\n",
              "      <td>None</td>\n",
              "    </tr>\n",
              "    <tr>\n",
              "      <th>1</th>\n",
              "      <td>Rupp,</td>\n",
              "      <td>Galen</td>\n",
              "      <td>None</td>\n",
              "      <td>None</td>\n",
              "      <td>None</td>\n",
              "    </tr>\n",
              "    <tr>\n",
              "      <th>2</th>\n",
              "      <td>Osako,</td>\n",
              "      <td>Suguru</td>\n",
              "      <td>None</td>\n",
              "      <td>None</td>\n",
              "      <td>None</td>\n",
              "    </tr>\n",
              "    <tr>\n",
              "      <th>3</th>\n",
              "      <td>Biwott,</td>\n",
              "      <td>Shadrack</td>\n",
              "      <td>None</td>\n",
              "      <td>None</td>\n",
              "      <td>None</td>\n",
              "    </tr>\n",
              "    <tr>\n",
              "      <th>4</th>\n",
              "      <td>Chebet,</td>\n",
              "      <td>Wilson</td>\n",
              "      <td>None</td>\n",
              "      <td>None</td>\n",
              "      <td>None</td>\n",
              "    </tr>\n",
              "    <tr>\n",
              "      <th>...</th>\n",
              "      <td>...</td>\n",
              "      <td>...</td>\n",
              "      <td>...</td>\n",
              "      <td>...</td>\n",
              "      <td>...</td>\n",
              "    </tr>\n",
              "    <tr>\n",
              "      <th>995</th>\n",
              "      <td>Larosa,</td>\n",
              "      <td>Mark</td>\n",
              "      <td>None</td>\n",
              "      <td>None</td>\n",
              "      <td>None</td>\n",
              "    </tr>\n",
              "    <tr>\n",
              "      <th>996</th>\n",
              "      <td>Williamson,</td>\n",
              "      <td>Jerry</td>\n",
              "      <td>A</td>\n",
              "      <td>None</td>\n",
              "      <td>None</td>\n",
              "    </tr>\n",
              "    <tr>\n",
              "      <th>997</th>\n",
              "      <td>Mccue,</td>\n",
              "      <td>Daniel</td>\n",
              "      <td>T</td>\n",
              "      <td>None</td>\n",
              "      <td>None</td>\n",
              "    </tr>\n",
              "    <tr>\n",
              "      <th>998</th>\n",
              "      <td>Larosa,</td>\n",
              "      <td>John</td>\n",
              "      <td>None</td>\n",
              "      <td>None</td>\n",
              "      <td>None</td>\n",
              "    </tr>\n",
              "    <tr>\n",
              "      <th>999</th>\n",
              "      <td>Sanchez,</td>\n",
              "      <td>Sam</td>\n",
              "      <td>R</td>\n",
              "      <td>None</td>\n",
              "      <td>None</td>\n",
              "    </tr>\n",
              "  </tbody>\n",
              "</table>\n",
              "<p>1000 rows × 5 columns</p>\n",
              "</div>"
            ],
            "text/plain": [
              "               0         1     2     3     4\n",
              "0         Kirui,  Geoffrey  None  None  None\n",
              "1          Rupp,     Galen  None  None  None\n",
              "2         Osako,    Suguru  None  None  None\n",
              "3        Biwott,  Shadrack  None  None  None\n",
              "4        Chebet,    Wilson  None  None  None\n",
              "..           ...       ...   ...   ...   ...\n",
              "995      Larosa,      Mark  None  None  None\n",
              "996  Williamson,     Jerry     A  None  None\n",
              "997       Mccue,    Daniel     T  None  None\n",
              "998      Larosa,      John  None  None  None\n",
              "999     Sanchez,       Sam     R  None  None\n",
              "\n",
              "[1000 rows x 5 columns]"
            ]
          },
          "metadata": {
            "tags": []
          },
          "execution_count": 95
        }
      ]
    },
    {
      "cell_type": "code",
      "metadata": {
        "id": "d1lF_PllMch-",
        "colab_type": "code",
        "colab": {
          "base_uri": "https://localhost:8080/"
        },
        "outputId": "a597f75e-4ee0-4ece-9235-d2bd75039a24"
      },
      "source": [
        "boston.Name.str.split(expand=True).count(axis=1) == 5"
      ],
      "execution_count": null,
      "outputs": [
        {
          "output_type": "execute_result",
          "data": {
            "text/plain": [
              "0      False\n",
              "1      False\n",
              "2      False\n",
              "3      False\n",
              "4      False\n",
              "       ...  \n",
              "995    False\n",
              "996    False\n",
              "997    False\n",
              "998    False\n",
              "999    False\n",
              "Length: 1000, dtype: bool"
            ]
          },
          "metadata": {
            "tags": []
          },
          "execution_count": 96
        }
      ]
    },
    {
      "cell_type": "code",
      "metadata": {
        "id": "8mgua1_-Mk3Z",
        "colab_type": "code",
        "colab": {
          "base_uri": "https://localhost:8080/"
        },
        "outputId": "db4b17b8-02ba-4ae2-cb7b-5d6b95576305"
      },
      "source": [
        "boston.Name[boston.Name.str.split(expand=True).count(axis=1) == 5]"
      ],
      "execution_count": null,
      "outputs": [
        {
          "output_type": "execute_result",
          "data": {
            "text/plain": [
              "203    Cifuentes Fetiva, Miguel Angel Sr.\n",
              "467      Martinez Solano, Juan Manuel Jr.\n",
              "678        Melendez, Carlos Manuel M. Sr.\n",
              "733        Castano Gonzalez, Angel U. Sr.\n",
              "Name: Name, dtype: object"
            ]
          },
          "metadata": {
            "tags": []
          },
          "execution_count": 97
        }
      ]
    },
    {
      "cell_type": "code",
      "metadata": {
        "id": "6d5G199tMzKN",
        "colab_type": "code",
        "colab": {
          "base_uri": "https://localhost:8080/"
        },
        "outputId": "0f2bb223-3e05-472d-c2ff-5a98a67f6d4e"
      },
      "source": [
        "boston.Name.str.split(expand=True, n=2)"
      ],
      "execution_count": null,
      "outputs": [
        {
          "output_type": "execute_result",
          "data": {
            "text/html": [
              "<div>\n",
              "<style scoped>\n",
              "    .dataframe tbody tr th:only-of-type {\n",
              "        vertical-align: middle;\n",
              "    }\n",
              "\n",
              "    .dataframe tbody tr th {\n",
              "        vertical-align: top;\n",
              "    }\n",
              "\n",
              "    .dataframe thead th {\n",
              "        text-align: right;\n",
              "    }\n",
              "</style>\n",
              "<table border=\"1\" class=\"dataframe\">\n",
              "  <thead>\n",
              "    <tr style=\"text-align: right;\">\n",
              "      <th></th>\n",
              "      <th>0</th>\n",
              "      <th>1</th>\n",
              "      <th>2</th>\n",
              "    </tr>\n",
              "  </thead>\n",
              "  <tbody>\n",
              "    <tr>\n",
              "      <th>0</th>\n",
              "      <td>Kirui,</td>\n",
              "      <td>Geoffrey</td>\n",
              "      <td>None</td>\n",
              "    </tr>\n",
              "    <tr>\n",
              "      <th>1</th>\n",
              "      <td>Rupp,</td>\n",
              "      <td>Galen</td>\n",
              "      <td>None</td>\n",
              "    </tr>\n",
              "    <tr>\n",
              "      <th>2</th>\n",
              "      <td>Osako,</td>\n",
              "      <td>Suguru</td>\n",
              "      <td>None</td>\n",
              "    </tr>\n",
              "    <tr>\n",
              "      <th>3</th>\n",
              "      <td>Biwott,</td>\n",
              "      <td>Shadrack</td>\n",
              "      <td>None</td>\n",
              "    </tr>\n",
              "    <tr>\n",
              "      <th>4</th>\n",
              "      <td>Chebet,</td>\n",
              "      <td>Wilson</td>\n",
              "      <td>None</td>\n",
              "    </tr>\n",
              "    <tr>\n",
              "      <th>...</th>\n",
              "      <td>...</td>\n",
              "      <td>...</td>\n",
              "      <td>...</td>\n",
              "    </tr>\n",
              "    <tr>\n",
              "      <th>995</th>\n",
              "      <td>Larosa,</td>\n",
              "      <td>Mark</td>\n",
              "      <td>None</td>\n",
              "    </tr>\n",
              "    <tr>\n",
              "      <th>996</th>\n",
              "      <td>Williamson,</td>\n",
              "      <td>Jerry</td>\n",
              "      <td>A</td>\n",
              "    </tr>\n",
              "    <tr>\n",
              "      <th>997</th>\n",
              "      <td>Mccue,</td>\n",
              "      <td>Daniel</td>\n",
              "      <td>T</td>\n",
              "    </tr>\n",
              "    <tr>\n",
              "      <th>998</th>\n",
              "      <td>Larosa,</td>\n",
              "      <td>John</td>\n",
              "      <td>None</td>\n",
              "    </tr>\n",
              "    <tr>\n",
              "      <th>999</th>\n",
              "      <td>Sanchez,</td>\n",
              "      <td>Sam</td>\n",
              "      <td>R</td>\n",
              "    </tr>\n",
              "  </tbody>\n",
              "</table>\n",
              "<p>1000 rows × 3 columns</p>\n",
              "</div>"
            ],
            "text/plain": [
              "               0         1     2\n",
              "0         Kirui,  Geoffrey  None\n",
              "1          Rupp,     Galen  None\n",
              "2         Osako,    Suguru  None\n",
              "3        Biwott,  Shadrack  None\n",
              "4        Chebet,    Wilson  None\n",
              "..           ...       ...   ...\n",
              "995      Larosa,      Mark  None\n",
              "996  Williamson,     Jerry     A\n",
              "997       Mccue,    Daniel     T\n",
              "998      Larosa,      John  None\n",
              "999     Sanchez,       Sam     R\n",
              "\n",
              "[1000 rows x 3 columns]"
            ]
          },
          "metadata": {
            "tags": []
          },
          "execution_count": 98
        }
      ]
    },
    {
      "cell_type": "code",
      "metadata": {
        "id": "Jl3aS4O6M_Zq",
        "colab_type": "code",
        "colab": {
          "base_uri": "https://localhost:8080/"
        },
        "outputId": "6a4d9dee-5251-4f2e-f11e-07afbc38c788"
      },
      "source": [
        "boston.Name.str.split(', ', expand=True)"
      ],
      "execution_count": null,
      "outputs": [
        {
          "output_type": "execute_result",
          "data": {
            "text/html": [
              "<div>\n",
              "<style scoped>\n",
              "    .dataframe tbody tr th:only-of-type {\n",
              "        vertical-align: middle;\n",
              "    }\n",
              "\n",
              "    .dataframe tbody tr th {\n",
              "        vertical-align: top;\n",
              "    }\n",
              "\n",
              "    .dataframe thead th {\n",
              "        text-align: right;\n",
              "    }\n",
              "</style>\n",
              "<table border=\"1\" class=\"dataframe\">\n",
              "  <thead>\n",
              "    <tr style=\"text-align: right;\">\n",
              "      <th></th>\n",
              "      <th>0</th>\n",
              "      <th>1</th>\n",
              "    </tr>\n",
              "  </thead>\n",
              "  <tbody>\n",
              "    <tr>\n",
              "      <th>0</th>\n",
              "      <td>Kirui</td>\n",
              "      <td>Geoffrey</td>\n",
              "    </tr>\n",
              "    <tr>\n",
              "      <th>1</th>\n",
              "      <td>Rupp</td>\n",
              "      <td>Galen</td>\n",
              "    </tr>\n",
              "    <tr>\n",
              "      <th>2</th>\n",
              "      <td>Osako</td>\n",
              "      <td>Suguru</td>\n",
              "    </tr>\n",
              "    <tr>\n",
              "      <th>3</th>\n",
              "      <td>Biwott</td>\n",
              "      <td>Shadrack</td>\n",
              "    </tr>\n",
              "    <tr>\n",
              "      <th>4</th>\n",
              "      <td>Chebet</td>\n",
              "      <td>Wilson</td>\n",
              "    </tr>\n",
              "    <tr>\n",
              "      <th>...</th>\n",
              "      <td>...</td>\n",
              "      <td>...</td>\n",
              "    </tr>\n",
              "    <tr>\n",
              "      <th>995</th>\n",
              "      <td>Larosa</td>\n",
              "      <td>Mark</td>\n",
              "    </tr>\n",
              "    <tr>\n",
              "      <th>996</th>\n",
              "      <td>Williamson</td>\n",
              "      <td>Jerry A</td>\n",
              "    </tr>\n",
              "    <tr>\n",
              "      <th>997</th>\n",
              "      <td>Mccue</td>\n",
              "      <td>Daniel T</td>\n",
              "    </tr>\n",
              "    <tr>\n",
              "      <th>998</th>\n",
              "      <td>Larosa</td>\n",
              "      <td>John</td>\n",
              "    </tr>\n",
              "    <tr>\n",
              "      <th>999</th>\n",
              "      <td>Sanchez</td>\n",
              "      <td>Sam R</td>\n",
              "    </tr>\n",
              "  </tbody>\n",
              "</table>\n",
              "<p>1000 rows × 2 columns</p>\n",
              "</div>"
            ],
            "text/plain": [
              "              0         1\n",
              "0         Kirui  Geoffrey\n",
              "1          Rupp     Galen\n",
              "2         Osako    Suguru\n",
              "3        Biwott  Shadrack\n",
              "4        Chebet    Wilson\n",
              "..          ...       ...\n",
              "995      Larosa      Mark\n",
              "996  Williamson   Jerry A\n",
              "997       Mccue  Daniel T\n",
              "998      Larosa      John\n",
              "999     Sanchez     Sam R\n",
              "\n",
              "[1000 rows x 2 columns]"
            ]
          },
          "metadata": {
            "tags": []
          },
          "execution_count": 99
        }
      ]
    },
    {
      "cell_type": "code",
      "metadata": {
        "id": "_3lLTxuUNlrv",
        "colab_type": "code",
        "colab": {
          "base_uri": "https://localhost:8080/"
        },
        "outputId": "af054f19-3119-4171-9b31-4edd4dad98b3"
      },
      "source": [
        "boston.head()"
      ],
      "execution_count": null,
      "outputs": [
        {
          "output_type": "execute_result",
          "data": {
            "text/html": [
              "<div>\n",
              "<style scoped>\n",
              "    .dataframe tbody tr th:only-of-type {\n",
              "        vertical-align: middle;\n",
              "    }\n",
              "\n",
              "    .dataframe tbody tr th {\n",
              "        vertical-align: top;\n",
              "    }\n",
              "\n",
              "    .dataframe thead th {\n",
              "        text-align: right;\n",
              "    }\n",
              "</style>\n",
              "<table border=\"1\" class=\"dataframe\">\n",
              "  <thead>\n",
              "    <tr style=\"text-align: right;\">\n",
              "      <th></th>\n",
              "      <th>Name</th>\n",
              "      <th>Age</th>\n",
              "      <th>M/F</th>\n",
              "      <th>City</th>\n",
              "      <th>State</th>\n",
              "      <th>Country</th>\n",
              "      <th>Official Time</th>\n",
              "      <th>Overall</th>\n",
              "      <th>Gender</th>\n",
              "      <th>Years Ran</th>\n",
              "    </tr>\n",
              "  </thead>\n",
              "  <tbody>\n",
              "    <tr>\n",
              "      <th>0</th>\n",
              "      <td>Kirui, Geoffrey</td>\n",
              "      <td>24</td>\n",
              "      <td>M</td>\n",
              "      <td>Keringet</td>\n",
              "      <td>NaN</td>\n",
              "      <td>KEN</td>\n",
              "      <td>2:09:37</td>\n",
              "      <td>1</td>\n",
              "      <td>1</td>\n",
              "      <td>NaN</td>\n",
              "    </tr>\n",
              "    <tr>\n",
              "      <th>1</th>\n",
              "      <td>Rupp, Galen</td>\n",
              "      <td>30</td>\n",
              "      <td>M</td>\n",
              "      <td>Portland</td>\n",
              "      <td>OR</td>\n",
              "      <td>USA</td>\n",
              "      <td>2:09:58</td>\n",
              "      <td>2</td>\n",
              "      <td>2</td>\n",
              "      <td>NaN</td>\n",
              "    </tr>\n",
              "    <tr>\n",
              "      <th>2</th>\n",
              "      <td>Osako, Suguru</td>\n",
              "      <td>25</td>\n",
              "      <td>M</td>\n",
              "      <td>Machida-City</td>\n",
              "      <td>NaN</td>\n",
              "      <td>JPN</td>\n",
              "      <td>2:10:28</td>\n",
              "      <td>3</td>\n",
              "      <td>3</td>\n",
              "      <td>NaN</td>\n",
              "    </tr>\n",
              "    <tr>\n",
              "      <th>3</th>\n",
              "      <td>Biwott, Shadrack</td>\n",
              "      <td>32</td>\n",
              "      <td>M</td>\n",
              "      <td>Mammoth Lakes</td>\n",
              "      <td>CA</td>\n",
              "      <td>USA</td>\n",
              "      <td>2:12:08</td>\n",
              "      <td>4</td>\n",
              "      <td>4</td>\n",
              "      <td>NaN</td>\n",
              "    </tr>\n",
              "    <tr>\n",
              "      <th>4</th>\n",
              "      <td>Chebet, Wilson</td>\n",
              "      <td>31</td>\n",
              "      <td>M</td>\n",
              "      <td>Marakwet</td>\n",
              "      <td>NaN</td>\n",
              "      <td>KEN</td>\n",
              "      <td>2:12:35</td>\n",
              "      <td>5</td>\n",
              "      <td>5</td>\n",
              "      <td>2015</td>\n",
              "    </tr>\n",
              "  </tbody>\n",
              "</table>\n",
              "</div>"
            ],
            "text/plain": [
              "               Name  Age M/F  ... Overall Gender Years Ran\n",
              "0   Kirui, Geoffrey   24   M  ...       1      1       NaN\n",
              "1       Rupp, Galen   30   M  ...       2      2       NaN\n",
              "2     Osako, Suguru   25   M  ...       3      3       NaN\n",
              "3  Biwott, Shadrack   32   M  ...       4      4       NaN\n",
              "4    Chebet, Wilson   31   M  ...       5      5      2015\n",
              "\n",
              "[5 rows x 10 columns]"
            ]
          },
          "metadata": {
            "tags": []
          },
          "execution_count": 100
        }
      ]
    },
    {
      "cell_type": "code",
      "metadata": {
        "id": "MG6H-dLDNO3b",
        "colab_type": "code",
        "colab": {}
      },
      "source": [
        "boston[['First Name', 'Last Name']] = boston.Name.str.split(', ', expand=True)"
      ],
      "execution_count": null,
      "outputs": []
    },
    {
      "cell_type": "code",
      "metadata": {
        "id": "d4MSn0T7Nr3U",
        "colab_type": "code",
        "colab": {
          "base_uri": "https://localhost:8080/"
        },
        "outputId": "c2d62890-fda8-4780-e991-ce80ddd6e7f4"
      },
      "source": [
        "boston.head()"
      ],
      "execution_count": null,
      "outputs": [
        {
          "output_type": "execute_result",
          "data": {
            "text/html": [
              "<div>\n",
              "<style scoped>\n",
              "    .dataframe tbody tr th:only-of-type {\n",
              "        vertical-align: middle;\n",
              "    }\n",
              "\n",
              "    .dataframe tbody tr th {\n",
              "        vertical-align: top;\n",
              "    }\n",
              "\n",
              "    .dataframe thead th {\n",
              "        text-align: right;\n",
              "    }\n",
              "</style>\n",
              "<table border=\"1\" class=\"dataframe\">\n",
              "  <thead>\n",
              "    <tr style=\"text-align: right;\">\n",
              "      <th></th>\n",
              "      <th>Name</th>\n",
              "      <th>Age</th>\n",
              "      <th>M/F</th>\n",
              "      <th>City</th>\n",
              "      <th>State</th>\n",
              "      <th>Country</th>\n",
              "      <th>Official Time</th>\n",
              "      <th>Overall</th>\n",
              "      <th>Gender</th>\n",
              "      <th>Years Ran</th>\n",
              "      <th>First Name</th>\n",
              "      <th>Last Name</th>\n",
              "    </tr>\n",
              "  </thead>\n",
              "  <tbody>\n",
              "    <tr>\n",
              "      <th>0</th>\n",
              "      <td>Kirui, Geoffrey</td>\n",
              "      <td>24</td>\n",
              "      <td>M</td>\n",
              "      <td>Keringet</td>\n",
              "      <td>NaN</td>\n",
              "      <td>KEN</td>\n",
              "      <td>2:09:37</td>\n",
              "      <td>1</td>\n",
              "      <td>1</td>\n",
              "      <td>NaN</td>\n",
              "      <td>Kirui</td>\n",
              "      <td>Geoffrey</td>\n",
              "    </tr>\n",
              "    <tr>\n",
              "      <th>1</th>\n",
              "      <td>Rupp, Galen</td>\n",
              "      <td>30</td>\n",
              "      <td>M</td>\n",
              "      <td>Portland</td>\n",
              "      <td>OR</td>\n",
              "      <td>USA</td>\n",
              "      <td>2:09:58</td>\n",
              "      <td>2</td>\n",
              "      <td>2</td>\n",
              "      <td>NaN</td>\n",
              "      <td>Rupp</td>\n",
              "      <td>Galen</td>\n",
              "    </tr>\n",
              "    <tr>\n",
              "      <th>2</th>\n",
              "      <td>Osako, Suguru</td>\n",
              "      <td>25</td>\n",
              "      <td>M</td>\n",
              "      <td>Machida-City</td>\n",
              "      <td>NaN</td>\n",
              "      <td>JPN</td>\n",
              "      <td>2:10:28</td>\n",
              "      <td>3</td>\n",
              "      <td>3</td>\n",
              "      <td>NaN</td>\n",
              "      <td>Osako</td>\n",
              "      <td>Suguru</td>\n",
              "    </tr>\n",
              "    <tr>\n",
              "      <th>3</th>\n",
              "      <td>Biwott, Shadrack</td>\n",
              "      <td>32</td>\n",
              "      <td>M</td>\n",
              "      <td>Mammoth Lakes</td>\n",
              "      <td>CA</td>\n",
              "      <td>USA</td>\n",
              "      <td>2:12:08</td>\n",
              "      <td>4</td>\n",
              "      <td>4</td>\n",
              "      <td>NaN</td>\n",
              "      <td>Biwott</td>\n",
              "      <td>Shadrack</td>\n",
              "    </tr>\n",
              "    <tr>\n",
              "      <th>4</th>\n",
              "      <td>Chebet, Wilson</td>\n",
              "      <td>31</td>\n",
              "      <td>M</td>\n",
              "      <td>Marakwet</td>\n",
              "      <td>NaN</td>\n",
              "      <td>KEN</td>\n",
              "      <td>2:12:35</td>\n",
              "      <td>5</td>\n",
              "      <td>5</td>\n",
              "      <td>2015</td>\n",
              "      <td>Chebet</td>\n",
              "      <td>Wilson</td>\n",
              "    </tr>\n",
              "  </tbody>\n",
              "</table>\n",
              "</div>"
            ],
            "text/plain": [
              "               Name  Age M/F  ... Years Ran First Name Last Name\n",
              "0   Kirui, Geoffrey   24   M  ...       NaN      Kirui  Geoffrey\n",
              "1       Rupp, Galen   30   M  ...       NaN       Rupp     Galen\n",
              "2     Osako, Suguru   25   M  ...       NaN      Osako    Suguru\n",
              "3  Biwott, Shadrack   32   M  ...       NaN     Biwott  Shadrack\n",
              "4    Chebet, Wilson   31   M  ...      2015     Chebet    Wilson\n",
              "\n",
              "[5 rows x 12 columns]"
            ]
          },
          "metadata": {
            "tags": []
          },
          "execution_count": 102
        }
      ]
    },
    {
      "cell_type": "markdown",
      "metadata": {
        "id": "LsrMPTQ2NtLJ",
        "colab_type": "text"
      },
      "source": [
        "#### Skill Challenge"
      ]
    },
    {
      "cell_type": "markdown",
      "metadata": {
        "id": "HUWVNVKLOMU8",
        "colab_type": "text"
      },
      "source": [
        "###### **1.**"
      ]
    },
    {
      "cell_type": "markdown",
      "metadata": {
        "id": "FydSSgqOOe5v",
        "colab_type": "text"
      },
      "source": [
        "How many runners in our dataset have \"James\" as a *Last Name*."
      ]
    },
    {
      "cell_type": "markdown",
      "metadata": {
        "id": "K_oWyfL3OKcJ",
        "colab_type": "text"
      },
      "source": [
        "###### **2.**"
      ]
    },
    {
      "cell_type": "markdown",
      "metadata": {
        "id": "zd1HvEXeOkCy",
        "colab_type": "text"
      },
      "source": [
        "Split all the *City* names in the dataset by the hyphen character \"-\", and create a dataframe containing each split component of the split name.\n",
        "\n",
        "Assign this dataframe to the variable *city_parts*."
      ]
    },
    {
      "cell_type": "markdown",
      "metadata": {
        "id": "rz4EkcI6Omd5",
        "colab_type": "text"
      },
      "source": [
        "###### **3.**"
      ]
    },
    {
      "cell_type": "markdown",
      "metadata": {
        "id": "7YOhqiKoOpZj",
        "colab_type": "text"
      },
      "source": [
        "How many cities in the boston dataframe have more than 1 component? Which cities are they?"
      ]
    },
    {
      "cell_type": "markdown",
      "metadata": {
        "id": "KPzZtRO8PqrS",
        "colab_type": "text"
      },
      "source": [
        "#### Solution"
      ]
    },
    {
      "cell_type": "code",
      "metadata": {
        "id": "f0pxJiSOPrjH",
        "colab_type": "code",
        "colab": {}
      },
      "source": [
        "# 1"
      ],
      "execution_count": null,
      "outputs": []
    },
    {
      "cell_type": "code",
      "metadata": {
        "id": "6GHg1DycQHsc",
        "colab_type": "code",
        "colab": {
          "base_uri": "https://localhost:8080/"
        },
        "outputId": "8611a9b5-10ab-4115-d7f3-14dc1dd8c7b9"
      },
      "source": [
        "boston.head()"
      ],
      "execution_count": null,
      "outputs": [
        {
          "output_type": "execute_result",
          "data": {
            "text/html": [
              "<div>\n",
              "<style scoped>\n",
              "    .dataframe tbody tr th:only-of-type {\n",
              "        vertical-align: middle;\n",
              "    }\n",
              "\n",
              "    .dataframe tbody tr th {\n",
              "        vertical-align: top;\n",
              "    }\n",
              "\n",
              "    .dataframe thead th {\n",
              "        text-align: right;\n",
              "    }\n",
              "</style>\n",
              "<table border=\"1\" class=\"dataframe\">\n",
              "  <thead>\n",
              "    <tr style=\"text-align: right;\">\n",
              "      <th></th>\n",
              "      <th>Name</th>\n",
              "      <th>Age</th>\n",
              "      <th>M/F</th>\n",
              "      <th>City</th>\n",
              "      <th>State</th>\n",
              "      <th>Country</th>\n",
              "      <th>Official Time</th>\n",
              "      <th>Overall</th>\n",
              "      <th>Gender</th>\n",
              "      <th>Years Ran</th>\n",
              "      <th>First Name</th>\n",
              "      <th>Last Name</th>\n",
              "    </tr>\n",
              "  </thead>\n",
              "  <tbody>\n",
              "    <tr>\n",
              "      <th>0</th>\n",
              "      <td>Kirui, Geoffrey</td>\n",
              "      <td>24</td>\n",
              "      <td>M</td>\n",
              "      <td>Keringet</td>\n",
              "      <td>NaN</td>\n",
              "      <td>KEN</td>\n",
              "      <td>2:09:37</td>\n",
              "      <td>1</td>\n",
              "      <td>1</td>\n",
              "      <td>NaN</td>\n",
              "      <td>Kirui</td>\n",
              "      <td>Geoffrey</td>\n",
              "    </tr>\n",
              "    <tr>\n",
              "      <th>1</th>\n",
              "      <td>Rupp, Galen</td>\n",
              "      <td>30</td>\n",
              "      <td>M</td>\n",
              "      <td>Portland</td>\n",
              "      <td>OR</td>\n",
              "      <td>USA</td>\n",
              "      <td>2:09:58</td>\n",
              "      <td>2</td>\n",
              "      <td>2</td>\n",
              "      <td>NaN</td>\n",
              "      <td>Rupp</td>\n",
              "      <td>Galen</td>\n",
              "    </tr>\n",
              "    <tr>\n",
              "      <th>2</th>\n",
              "      <td>Osako, Suguru</td>\n",
              "      <td>25</td>\n",
              "      <td>M</td>\n",
              "      <td>Machida-City</td>\n",
              "      <td>NaN</td>\n",
              "      <td>JPN</td>\n",
              "      <td>2:10:28</td>\n",
              "      <td>3</td>\n",
              "      <td>3</td>\n",
              "      <td>NaN</td>\n",
              "      <td>Osako</td>\n",
              "      <td>Suguru</td>\n",
              "    </tr>\n",
              "    <tr>\n",
              "      <th>3</th>\n",
              "      <td>Biwott, Shadrack</td>\n",
              "      <td>32</td>\n",
              "      <td>M</td>\n",
              "      <td>Mammoth Lakes</td>\n",
              "      <td>CA</td>\n",
              "      <td>USA</td>\n",
              "      <td>2:12:08</td>\n",
              "      <td>4</td>\n",
              "      <td>4</td>\n",
              "      <td>NaN</td>\n",
              "      <td>Biwott</td>\n",
              "      <td>Shadrack</td>\n",
              "    </tr>\n",
              "    <tr>\n",
              "      <th>4</th>\n",
              "      <td>Chebet, Wilson</td>\n",
              "      <td>31</td>\n",
              "      <td>M</td>\n",
              "      <td>Marakwet</td>\n",
              "      <td>NaN</td>\n",
              "      <td>KEN</td>\n",
              "      <td>2:12:35</td>\n",
              "      <td>5</td>\n",
              "      <td>5</td>\n",
              "      <td>2015</td>\n",
              "      <td>Chebet</td>\n",
              "      <td>Wilson</td>\n",
              "    </tr>\n",
              "  </tbody>\n",
              "</table>\n",
              "</div>"
            ],
            "text/plain": [
              "               Name  Age M/F  ... Years Ran First Name Last Name\n",
              "0   Kirui, Geoffrey   24   M  ...       NaN      Kirui  Geoffrey\n",
              "1       Rupp, Galen   30   M  ...       NaN       Rupp     Galen\n",
              "2     Osako, Suguru   25   M  ...       NaN      Osako    Suguru\n",
              "3  Biwott, Shadrack   32   M  ...       NaN     Biwott  Shadrack\n",
              "4    Chebet, Wilson   31   M  ...      2015     Chebet    Wilson\n",
              "\n",
              "[5 rows x 12 columns]"
            ]
          },
          "metadata": {
            "tags": []
          },
          "execution_count": 104
        }
      ]
    },
    {
      "cell_type": "code",
      "metadata": {
        "id": "lZYU6NBaQIPx",
        "colab_type": "code",
        "colab": {
          "base_uri": "https://localhost:8080/"
        },
        "outputId": "6a03f222-a750-46de-a86d-9f81d9029a1c"
      },
      "source": [
        "boston['Last Name'].str.find('James').value_counts()"
      ],
      "execution_count": null,
      "outputs": [
        {
          "output_type": "execute_result",
          "data": {
            "text/plain": [
              "-1    988\n",
              " 0     12\n",
              "Name: Last Name, dtype: int64"
            ]
          },
          "metadata": {
            "tags": []
          },
          "execution_count": 105
        }
      ]
    },
    {
      "cell_type": "code",
      "metadata": {
        "id": "dWdwMUGIQLz0",
        "colab_type": "code",
        "colab": {}
      },
      "source": [
        "# 2"
      ],
      "execution_count": null,
      "outputs": []
    },
    {
      "cell_type": "code",
      "metadata": {
        "id": "-dh6NV-cQe1b",
        "colab_type": "code",
        "colab": {}
      },
      "source": [
        "city_parts = boston.City.str.split('-', expand=True)"
      ],
      "execution_count": null,
      "outputs": []
    },
    {
      "cell_type": "code",
      "metadata": {
        "id": "9Bhk1wEHQgXR",
        "colab_type": "code",
        "colab": {}
      },
      "source": [
        "# 3"
      ],
      "execution_count": null,
      "outputs": []
    },
    {
      "cell_type": "code",
      "metadata": {
        "id": "a2ZJ_IZ_QtOD",
        "colab_type": "code",
        "colab": {
          "base_uri": "https://localhost:8080/"
        },
        "outputId": "9e46b6fb-1c24-480c-f49f-98faf74c60f0"
      },
      "source": [
        "boston[city_parts.count(axis=1) > 1].City"
      ],
      "execution_count": null,
      "outputs": [
        {
          "output_type": "execute_result",
          "data": {
            "text/plain": [
              "2                    Machida-City\n",
              "35                 Sao Paulo - Sp\n",
              "188                  Baie-St-Paul\n",
              "201            Houghton-Le-Spring\n",
              "371          Boulogne-Billancourt\n",
              "420                    Mont-Royal\n",
              "585                Gif-Sur-Yvette\n",
              "615        Fossambault-Sur-Le-Lac\n",
              "724         Wiesbaden-Breckenheim\n",
              "727                    Saint-Tite\n",
              "794                   Marica - Rj\n",
              "820    Sainte-Catherine-De-Hatley\n",
              "830                    Pont-Rouge\n",
              "Name: City, dtype: object"
            ]
          },
          "metadata": {
            "tags": []
          },
          "execution_count": 109
        }
      ]
    },
    {
      "cell_type": "code",
      "metadata": {
        "id": "AC9GzIvYQv08",
        "colab_type": "code",
        "colab": {}
      },
      "source": [
        "# bonus: which countries such cities hail from"
      ],
      "execution_count": null,
      "outputs": []
    },
    {
      "cell_type": "code",
      "metadata": {
        "id": "uOWO69B9Q-_B",
        "colab_type": "code",
        "colab": {
          "base_uri": "https://localhost:8080/"
        },
        "outputId": "4de9d5fb-a3d0-4998-ea87-8deaf068a474"
      },
      "source": [
        "boston[city_parts.count(axis=1) > 1].Country.value_counts()"
      ],
      "execution_count": null,
      "outputs": [
        {
          "output_type": "execute_result",
          "data": {
            "text/plain": [
              "CAN    6\n",
              "BRA    2\n",
              "FRA    2\n",
              "JPN    1\n",
              "GBR    1\n",
              "GER    1\n",
              "Name: Country, dtype: int64"
            ]
          },
          "metadata": {
            "tags": []
          },
          "execution_count": 111
        }
      ]
    },
    {
      "cell_type": "markdown",
      "metadata": {
        "id": "tWYVRbrMRBiU",
        "colab_type": "text"
      },
      "source": [
        "#### Slicing Substrings"
      ]
    },
    {
      "cell_type": "code",
      "metadata": {
        "id": "ClqE92GsoYlx",
        "colab_type": "code",
        "colab": {
          "base_uri": "https://localhost:8080/"
        },
        "outputId": "ce05b0fd-4192-4074-eea2-58be3c3802b3"
      },
      "source": [
        "s"
      ],
      "execution_count": null,
      "outputs": [
        {
          "output_type": "execute_result",
          "data": {
            "text/plain": [
              "'Welcome to the text manipulation section'"
            ]
          },
          "metadata": {
            "tags": []
          },
          "execution_count": 112
        }
      ]
    },
    {
      "cell_type": "code",
      "metadata": {
        "id": "8YGTYdT3spct",
        "colab_type": "code",
        "colab": {}
      },
      "source": [
        "# slice() + []"
      ],
      "execution_count": null,
      "outputs": []
    },
    {
      "cell_type": "code",
      "metadata": {
        "id": "YfH8lZKBsq5K",
        "colab_type": "code",
        "colab": {
          "base_uri": "https://localhost:8080/"
        },
        "outputId": "8447c53e-ad0d-4c58-9cc0-6d1aaa9a1d2a"
      },
      "source": [
        "s[slice(0, 7, 1)]"
      ],
      "execution_count": null,
      "outputs": [
        {
          "output_type": "execute_result",
          "data": {
            "text/plain": [
              "'Welcome'"
            ]
          },
          "metadata": {
            "tags": []
          },
          "execution_count": 114
        }
      ]
    },
    {
      "cell_type": "code",
      "metadata": {
        "id": "jJ6apDPOs44k",
        "colab_type": "code",
        "colab": {
          "base_uri": "https://localhost:8080/"
        },
        "outputId": "91bf5e28-9a28-40da-cc3d-97b18193238b"
      },
      "source": [
        "s[slice(7)]"
      ],
      "execution_count": null,
      "outputs": [
        {
          "output_type": "execute_result",
          "data": {
            "text/plain": [
              "'Welcome'"
            ]
          },
          "metadata": {
            "tags": []
          },
          "execution_count": 115
        }
      ]
    },
    {
      "cell_type": "code",
      "metadata": {
        "id": "CZibFkU8tHeo",
        "colab_type": "code",
        "colab": {
          "base_uri": "https://localhost:8080/"
        },
        "outputId": "80a68885-9049-4dcd-c937-66108b09dcd4"
      },
      "source": [
        "s[0:7:1]"
      ],
      "execution_count": null,
      "outputs": [
        {
          "output_type": "execute_result",
          "data": {
            "text/plain": [
              "'Welcome'"
            ]
          },
          "metadata": {
            "tags": []
          },
          "execution_count": 116
        }
      ]
    },
    {
      "cell_type": "code",
      "metadata": {
        "id": "L5oj06qEtSDN",
        "colab_type": "code",
        "colab": {
          "base_uri": "https://localhost:8080/"
        },
        "outputId": "f5c658f7-8e56-4e7c-c3a9-83d93c0ad54a"
      },
      "source": [
        "s[:7:]"
      ],
      "execution_count": null,
      "outputs": [
        {
          "output_type": "execute_result",
          "data": {
            "text/plain": [
              "'Welcome'"
            ]
          },
          "metadata": {
            "tags": []
          },
          "execution_count": 117
        }
      ]
    },
    {
      "cell_type": "code",
      "metadata": {
        "id": "-oh4KE2StVU0",
        "colab_type": "code",
        "colab": {
          "base_uri": "https://localhost:8080/"
        },
        "outputId": "82e4336b-a45a-4080-9b1e-75c876489a0d"
      },
      "source": [
        "boston.head()"
      ],
      "execution_count": null,
      "outputs": [
        {
          "output_type": "execute_result",
          "data": {
            "text/html": [
              "<div>\n",
              "<style scoped>\n",
              "    .dataframe tbody tr th:only-of-type {\n",
              "        vertical-align: middle;\n",
              "    }\n",
              "\n",
              "    .dataframe tbody tr th {\n",
              "        vertical-align: top;\n",
              "    }\n",
              "\n",
              "    .dataframe thead th {\n",
              "        text-align: right;\n",
              "    }\n",
              "</style>\n",
              "<table border=\"1\" class=\"dataframe\">\n",
              "  <thead>\n",
              "    <tr style=\"text-align: right;\">\n",
              "      <th></th>\n",
              "      <th>Name</th>\n",
              "      <th>Age</th>\n",
              "      <th>M/F</th>\n",
              "      <th>City</th>\n",
              "      <th>State</th>\n",
              "      <th>Country</th>\n",
              "      <th>Official Time</th>\n",
              "      <th>Overall</th>\n",
              "      <th>Gender</th>\n",
              "      <th>Years Ran</th>\n",
              "      <th>First Name</th>\n",
              "      <th>Last Name</th>\n",
              "    </tr>\n",
              "  </thead>\n",
              "  <tbody>\n",
              "    <tr>\n",
              "      <th>0</th>\n",
              "      <td>Kirui, Geoffrey</td>\n",
              "      <td>24</td>\n",
              "      <td>M</td>\n",
              "      <td>Keringet</td>\n",
              "      <td>NaN</td>\n",
              "      <td>KEN</td>\n",
              "      <td>2:09:37</td>\n",
              "      <td>1</td>\n",
              "      <td>1</td>\n",
              "      <td>NaN</td>\n",
              "      <td>Kirui</td>\n",
              "      <td>Geoffrey</td>\n",
              "    </tr>\n",
              "    <tr>\n",
              "      <th>1</th>\n",
              "      <td>Rupp, Galen</td>\n",
              "      <td>30</td>\n",
              "      <td>M</td>\n",
              "      <td>Portland</td>\n",
              "      <td>OR</td>\n",
              "      <td>USA</td>\n",
              "      <td>2:09:58</td>\n",
              "      <td>2</td>\n",
              "      <td>2</td>\n",
              "      <td>NaN</td>\n",
              "      <td>Rupp</td>\n",
              "      <td>Galen</td>\n",
              "    </tr>\n",
              "    <tr>\n",
              "      <th>2</th>\n",
              "      <td>Osako, Suguru</td>\n",
              "      <td>25</td>\n",
              "      <td>M</td>\n",
              "      <td>Machida-City</td>\n",
              "      <td>NaN</td>\n",
              "      <td>JPN</td>\n",
              "      <td>2:10:28</td>\n",
              "      <td>3</td>\n",
              "      <td>3</td>\n",
              "      <td>NaN</td>\n",
              "      <td>Osako</td>\n",
              "      <td>Suguru</td>\n",
              "    </tr>\n",
              "    <tr>\n",
              "      <th>3</th>\n",
              "      <td>Biwott, Shadrack</td>\n",
              "      <td>32</td>\n",
              "      <td>M</td>\n",
              "      <td>Mammoth Lakes</td>\n",
              "      <td>CA</td>\n",
              "      <td>USA</td>\n",
              "      <td>2:12:08</td>\n",
              "      <td>4</td>\n",
              "      <td>4</td>\n",
              "      <td>NaN</td>\n",
              "      <td>Biwott</td>\n",
              "      <td>Shadrack</td>\n",
              "    </tr>\n",
              "    <tr>\n",
              "      <th>4</th>\n",
              "      <td>Chebet, Wilson</td>\n",
              "      <td>31</td>\n",
              "      <td>M</td>\n",
              "      <td>Marakwet</td>\n",
              "      <td>NaN</td>\n",
              "      <td>KEN</td>\n",
              "      <td>2:12:35</td>\n",
              "      <td>5</td>\n",
              "      <td>5</td>\n",
              "      <td>2015</td>\n",
              "      <td>Chebet</td>\n",
              "      <td>Wilson</td>\n",
              "    </tr>\n",
              "  </tbody>\n",
              "</table>\n",
              "</div>"
            ],
            "text/plain": [
              "               Name  Age M/F  ... Years Ran First Name Last Name\n",
              "0   Kirui, Geoffrey   24   M  ...       NaN      Kirui  Geoffrey\n",
              "1       Rupp, Galen   30   M  ...       NaN       Rupp     Galen\n",
              "2     Osako, Suguru   25   M  ...       NaN      Osako    Suguru\n",
              "3  Biwott, Shadrack   32   M  ...       NaN     Biwott  Shadrack\n",
              "4    Chebet, Wilson   31   M  ...      2015     Chebet    Wilson\n",
              "\n",
              "[5 rows x 12 columns]"
            ]
          },
          "metadata": {
            "tags": []
          },
          "execution_count": 118
        }
      ]
    },
    {
      "cell_type": "code",
      "metadata": {
        "id": "6dGm18JItZwy",
        "colab_type": "code",
        "colab": {
          "base_uri": "https://localhost:8080/"
        },
        "outputId": "50dc1afd-a270-4f9e-c234-0683a2e95880"
      },
      "source": [
        "boston.Country.str.slice(0, 2, 1)"
      ],
      "execution_count": null,
      "outputs": [
        {
          "output_type": "execute_result",
          "data": {
            "text/plain": [
              "0      KE\n",
              "1      US\n",
              "2      JP\n",
              "3      US\n",
              "4      KE\n",
              "       ..\n",
              "995    US\n",
              "996    US\n",
              "997    US\n",
              "998    US\n",
              "999    US\n",
              "Name: Country, Length: 1000, dtype: object"
            ]
          },
          "metadata": {
            "tags": []
          },
          "execution_count": 119
        }
      ]
    },
    {
      "cell_type": "code",
      "metadata": {
        "id": "RX-7bCVbtfkk",
        "colab_type": "code",
        "colab": {
          "base_uri": "https://localhost:8080/"
        },
        "outputId": "ccb15b0b-6ae0-433d-c402-43d86417d913"
      },
      "source": [
        "boston.Country.str.slice(start=-2, step=1, stop=None)"
      ],
      "execution_count": null,
      "outputs": [
        {
          "output_type": "execute_result",
          "data": {
            "text/plain": [
              "0      EN\n",
              "1      SA\n",
              "2      PN\n",
              "3      SA\n",
              "4      EN\n",
              "       ..\n",
              "995    SA\n",
              "996    SA\n",
              "997    SA\n",
              "998    SA\n",
              "999    SA\n",
              "Name: Country, Length: 1000, dtype: object"
            ]
          },
          "metadata": {
            "tags": []
          },
          "execution_count": 120
        }
      ]
    },
    {
      "cell_type": "markdown",
      "metadata": {
        "id": "Pgspen36ttP0",
        "colab_type": "text"
      },
      "source": [
        "#### Masking With String Methods"
      ]
    },
    {
      "cell_type": "code",
      "metadata": {
        "id": "WYMgVQ-tuSMI",
        "colab_type": "code",
        "colab": {
          "base_uri": "https://localhost:8080/"
        },
        "outputId": "d21d0d67-77eb-45dd-f9b3-14d717b149bf"
      },
      "source": [
        "boston.head()"
      ],
      "execution_count": null,
      "outputs": [
        {
          "output_type": "execute_result",
          "data": {
            "text/html": [
              "<div>\n",
              "<style scoped>\n",
              "    .dataframe tbody tr th:only-of-type {\n",
              "        vertical-align: middle;\n",
              "    }\n",
              "\n",
              "    .dataframe tbody tr th {\n",
              "        vertical-align: top;\n",
              "    }\n",
              "\n",
              "    .dataframe thead th {\n",
              "        text-align: right;\n",
              "    }\n",
              "</style>\n",
              "<table border=\"1\" class=\"dataframe\">\n",
              "  <thead>\n",
              "    <tr style=\"text-align: right;\">\n",
              "      <th></th>\n",
              "      <th>Name</th>\n",
              "      <th>Age</th>\n",
              "      <th>M/F</th>\n",
              "      <th>City</th>\n",
              "      <th>State</th>\n",
              "      <th>Country</th>\n",
              "      <th>Official Time</th>\n",
              "      <th>Overall</th>\n",
              "      <th>Gender</th>\n",
              "      <th>Years Ran</th>\n",
              "      <th>First Name</th>\n",
              "      <th>Last Name</th>\n",
              "    </tr>\n",
              "  </thead>\n",
              "  <tbody>\n",
              "    <tr>\n",
              "      <th>0</th>\n",
              "      <td>Kirui, Geoffrey</td>\n",
              "      <td>24</td>\n",
              "      <td>M</td>\n",
              "      <td>Keringet</td>\n",
              "      <td>NaN</td>\n",
              "      <td>KEN</td>\n",
              "      <td>2:09:37</td>\n",
              "      <td>1</td>\n",
              "      <td>1</td>\n",
              "      <td>NaN</td>\n",
              "      <td>Kirui</td>\n",
              "      <td>Geoffrey</td>\n",
              "    </tr>\n",
              "    <tr>\n",
              "      <th>1</th>\n",
              "      <td>Rupp, Galen</td>\n",
              "      <td>30</td>\n",
              "      <td>M</td>\n",
              "      <td>Portland</td>\n",
              "      <td>OR</td>\n",
              "      <td>USA</td>\n",
              "      <td>2:09:58</td>\n",
              "      <td>2</td>\n",
              "      <td>2</td>\n",
              "      <td>NaN</td>\n",
              "      <td>Rupp</td>\n",
              "      <td>Galen</td>\n",
              "    </tr>\n",
              "    <tr>\n",
              "      <th>2</th>\n",
              "      <td>Osako, Suguru</td>\n",
              "      <td>25</td>\n",
              "      <td>M</td>\n",
              "      <td>Machida-City</td>\n",
              "      <td>NaN</td>\n",
              "      <td>JPN</td>\n",
              "      <td>2:10:28</td>\n",
              "      <td>3</td>\n",
              "      <td>3</td>\n",
              "      <td>NaN</td>\n",
              "      <td>Osako</td>\n",
              "      <td>Suguru</td>\n",
              "    </tr>\n",
              "    <tr>\n",
              "      <th>3</th>\n",
              "      <td>Biwott, Shadrack</td>\n",
              "      <td>32</td>\n",
              "      <td>M</td>\n",
              "      <td>Mammoth Lakes</td>\n",
              "      <td>CA</td>\n",
              "      <td>USA</td>\n",
              "      <td>2:12:08</td>\n",
              "      <td>4</td>\n",
              "      <td>4</td>\n",
              "      <td>NaN</td>\n",
              "      <td>Biwott</td>\n",
              "      <td>Shadrack</td>\n",
              "    </tr>\n",
              "    <tr>\n",
              "      <th>4</th>\n",
              "      <td>Chebet, Wilson</td>\n",
              "      <td>31</td>\n",
              "      <td>M</td>\n",
              "      <td>Marakwet</td>\n",
              "      <td>NaN</td>\n",
              "      <td>KEN</td>\n",
              "      <td>2:12:35</td>\n",
              "      <td>5</td>\n",
              "      <td>5</td>\n",
              "      <td>2015</td>\n",
              "      <td>Chebet</td>\n",
              "      <td>Wilson</td>\n",
              "    </tr>\n",
              "  </tbody>\n",
              "</table>\n",
              "</div>"
            ],
            "text/plain": [
              "               Name  Age M/F  ... Years Ran First Name Last Name\n",
              "0   Kirui, Geoffrey   24   M  ...       NaN      Kirui  Geoffrey\n",
              "1       Rupp, Galen   30   M  ...       NaN       Rupp     Galen\n",
              "2     Osako, Suguru   25   M  ...       NaN      Osako    Suguru\n",
              "3  Biwott, Shadrack   32   M  ...       NaN     Biwott  Shadrack\n",
              "4    Chebet, Wilson   31   M  ...      2015     Chebet    Wilson\n",
              "\n",
              "[5 rows x 12 columns]"
            ]
          },
          "metadata": {
            "tags": []
          },
          "execution_count": 121
        }
      ]
    },
    {
      "cell_type": "code",
      "metadata": {
        "id": "46NZoJnrunhc",
        "colab_type": "code",
        "colab": {}
      },
      "source": [
        "# Boolean masking (or indexing):\n",
        "#  - create sequence of booleans\n",
        "#  - use sequence to select from dataframe (or series)"
      ],
      "execution_count": null,
      "outputs": []
    },
    {
      "cell_type": "code",
      "metadata": {
        "id": "Hyh2fR7wu09t",
        "colab_type": "code",
        "colab": {}
      },
      "source": [
        "# Q: select all the Italian runners"
      ],
      "execution_count": null,
      "outputs": []
    },
    {
      "cell_type": "code",
      "metadata": {
        "id": "hOzNdROSw8wO",
        "colab_type": "code",
        "colab": {
          "base_uri": "https://localhost:8080/"
        },
        "outputId": "1977676d-0507-4e25-dbbf-8559a31597b7"
      },
      "source": [
        "boston.Country == 'ITA'"
      ],
      "execution_count": null,
      "outputs": [
        {
          "output_type": "execute_result",
          "data": {
            "text/plain": [
              "0      False\n",
              "1      False\n",
              "2      False\n",
              "3      False\n",
              "4      False\n",
              "       ...  \n",
              "995    False\n",
              "996    False\n",
              "997    False\n",
              "998    False\n",
              "999    False\n",
              "Name: Country, Length: 1000, dtype: bool"
            ]
          },
          "metadata": {
            "tags": []
          },
          "execution_count": 124
        }
      ]
    },
    {
      "cell_type": "code",
      "metadata": {
        "id": "wnAr5Qyhw_HE",
        "colab_type": "code",
        "colab": {
          "base_uri": "https://localhost:8080/"
        },
        "outputId": "8a0ec7d7-da1e-4701-fcf2-27404cc63572"
      },
      "source": [
        "boston.Country.str.match('ITA')"
      ],
      "execution_count": null,
      "outputs": [
        {
          "output_type": "execute_result",
          "data": {
            "text/plain": [
              "0      False\n",
              "1      False\n",
              "2      False\n",
              "3      False\n",
              "4      False\n",
              "       ...  \n",
              "995    False\n",
              "996    False\n",
              "997    False\n",
              "998    False\n",
              "999    False\n",
              "Name: Country, Length: 1000, dtype: bool"
            ]
          },
          "metadata": {
            "tags": []
          },
          "execution_count": 125
        }
      ]
    },
    {
      "cell_type": "code",
      "metadata": {
        "id": "BuzrKSANxDwc",
        "colab_type": "code",
        "colab": {
          "base_uri": "https://localhost:8080/"
        },
        "outputId": "e75af026-d7fe-4f4c-ba0e-d21b1c496260"
      },
      "source": [
        "boston[boston.Country.str.match('ITA')]"
      ],
      "execution_count": null,
      "outputs": [
        {
          "output_type": "execute_result",
          "data": {
            "text/html": [
              "<div>\n",
              "<style scoped>\n",
              "    .dataframe tbody tr th:only-of-type {\n",
              "        vertical-align: middle;\n",
              "    }\n",
              "\n",
              "    .dataframe tbody tr th {\n",
              "        vertical-align: top;\n",
              "    }\n",
              "\n",
              "    .dataframe thead th {\n",
              "        text-align: right;\n",
              "    }\n",
              "</style>\n",
              "<table border=\"1\" class=\"dataframe\">\n",
              "  <thead>\n",
              "    <tr style=\"text-align: right;\">\n",
              "      <th></th>\n",
              "      <th>Name</th>\n",
              "      <th>Age</th>\n",
              "      <th>M/F</th>\n",
              "      <th>City</th>\n",
              "      <th>State</th>\n",
              "      <th>Country</th>\n",
              "      <th>Official Time</th>\n",
              "      <th>Overall</th>\n",
              "      <th>Gender</th>\n",
              "      <th>Years Ran</th>\n",
              "      <th>First Name</th>\n",
              "      <th>Last Name</th>\n",
              "    </tr>\n",
              "  </thead>\n",
              "  <tbody>\n",
              "    <tr>\n",
              "      <th>56</th>\n",
              "      <td>Boudalia, Said Sr.</td>\n",
              "      <td>48</td>\n",
              "      <td>M</td>\n",
              "      <td>Belluno</td>\n",
              "      <td>NaN</td>\n",
              "      <td>ITA</td>\n",
              "      <td>2:30:11</td>\n",
              "      <td>57</td>\n",
              "      <td>51</td>\n",
              "      <td>2015:2016</td>\n",
              "      <td>Boudalia</td>\n",
              "      <td>Said Sr.</td>\n",
              "    </tr>\n",
              "    <tr>\n",
              "      <th>156</th>\n",
              "      <td>Achmuller, Hermann</td>\n",
              "      <td>46</td>\n",
              "      <td>M</td>\n",
              "      <td>Brixen</td>\n",
              "      <td>NaN</td>\n",
              "      <td>ITA</td>\n",
              "      <td>2:38:40</td>\n",
              "      <td>157</td>\n",
              "      <td>139</td>\n",
              "      <td>NaN</td>\n",
              "      <td>Achmuller</td>\n",
              "      <td>Hermann</td>\n",
              "    </tr>\n",
              "    <tr>\n",
              "      <th>792</th>\n",
              "      <td>Consolandi, Paolo Giorgio</td>\n",
              "      <td>39</td>\n",
              "      <td>M</td>\n",
              "      <td>Pessano Con Bornago (mi)</td>\n",
              "      <td>NaN</td>\n",
              "      <td>ITA</td>\n",
              "      <td>2:53:29</td>\n",
              "      <td>793</td>\n",
              "      <td>747</td>\n",
              "      <td>NaN</td>\n",
              "      <td>Consolandi</td>\n",
              "      <td>Paolo Giorgio</td>\n",
              "    </tr>\n",
              "    <tr>\n",
              "      <th>922</th>\n",
              "      <td>Zompanti, Alessandro</td>\n",
              "      <td>48</td>\n",
              "      <td>M</td>\n",
              "      <td>Fiuggi Fr</td>\n",
              "      <td>NaN</td>\n",
              "      <td>ITA</td>\n",
              "      <td>2:55:12</td>\n",
              "      <td>923</td>\n",
              "      <td>872</td>\n",
              "      <td>NaN</td>\n",
              "      <td>Zompanti</td>\n",
              "      <td>Alessandro</td>\n",
              "    </tr>\n",
              "  </tbody>\n",
              "</table>\n",
              "</div>"
            ],
            "text/plain": [
              "                          Name  Age M/F  ...  Years Ran  First Name      Last Name\n",
              "56          Boudalia, Said Sr.   48   M  ...  2015:2016    Boudalia       Said Sr.\n",
              "156         Achmuller, Hermann   46   M  ...        NaN   Achmuller        Hermann\n",
              "792  Consolandi, Paolo Giorgio   39   M  ...        NaN  Consolandi  Paolo Giorgio\n",
              "922       Zompanti, Alessandro   48   M  ...        NaN    Zompanti     Alessandro\n",
              "\n",
              "[4 rows x 12 columns]"
            ]
          },
          "metadata": {
            "tags": []
          },
          "execution_count": 126
        }
      ]
    },
    {
      "cell_type": "code",
      "metadata": {
        "id": "0eu-gv4JxJJb",
        "colab_type": "code",
        "colab": {}
      },
      "source": [
        "# Q: how about all the \"Will\"s?"
      ],
      "execution_count": null,
      "outputs": []
    },
    {
      "cell_type": "code",
      "metadata": {
        "id": "XZmqnKJuxdQU",
        "colab_type": "code",
        "colab": {}
      },
      "source": [
        "# no contains in python: instead 'Will' in 'Williams'"
      ],
      "execution_count": null,
      "outputs": []
    },
    {
      "cell_type": "code",
      "metadata": {
        "id": "WmN6WQnTxjer",
        "colab_type": "code",
        "colab": {}
      },
      "source": [
        "wills =  boston.Name.str.contains('Will')"
      ],
      "execution_count": null,
      "outputs": []
    },
    {
      "cell_type": "code",
      "metadata": {
        "id": "MY18IM7VxzEj",
        "colab_type": "code",
        "colab": {}
      },
      "source": [
        "forty5_plus = boston.Age >= 45"
      ],
      "execution_count": null,
      "outputs": []
    },
    {
      "cell_type": "code",
      "metadata": {
        "id": "kEYF1NQYxuHA",
        "colab_type": "code",
        "colab": {
          "base_uri": "https://localhost:8080/"
        },
        "outputId": "071245e1-b137-455a-90de-c15944eaa3c2"
      },
      "source": [
        "boston[wills & forty5_plus]"
      ],
      "execution_count": null,
      "outputs": [
        {
          "output_type": "execute_result",
          "data": {
            "text/html": [
              "<div>\n",
              "<style scoped>\n",
              "    .dataframe tbody tr th:only-of-type {\n",
              "        vertical-align: middle;\n",
              "    }\n",
              "\n",
              "    .dataframe tbody tr th {\n",
              "        vertical-align: top;\n",
              "    }\n",
              "\n",
              "    .dataframe thead th {\n",
              "        text-align: right;\n",
              "    }\n",
              "</style>\n",
              "<table border=\"1\" class=\"dataframe\">\n",
              "  <thead>\n",
              "    <tr style=\"text-align: right;\">\n",
              "      <th></th>\n",
              "      <th>Name</th>\n",
              "      <th>Age</th>\n",
              "      <th>M/F</th>\n",
              "      <th>City</th>\n",
              "      <th>State</th>\n",
              "      <th>Country</th>\n",
              "      <th>Official Time</th>\n",
              "      <th>Overall</th>\n",
              "      <th>Gender</th>\n",
              "      <th>Years Ran</th>\n",
              "      <th>First Name</th>\n",
              "      <th>Last Name</th>\n",
              "    </tr>\n",
              "  </thead>\n",
              "  <tbody>\n",
              "    <tr>\n",
              "      <th>93</th>\n",
              "      <td>Vanos, William</td>\n",
              "      <td>45</td>\n",
              "      <td>M</td>\n",
              "      <td>Orlando</td>\n",
              "      <td>FL</td>\n",
              "      <td>USA</td>\n",
              "      <td>2:34:40</td>\n",
              "      <td>94</td>\n",
              "      <td>84</td>\n",
              "      <td>NaN</td>\n",
              "      <td>Vanos</td>\n",
              "      <td>William</td>\n",
              "    </tr>\n",
              "    <tr>\n",
              "      <th>526</th>\n",
              "      <td>Swenson, Will</td>\n",
              "      <td>45</td>\n",
              "      <td>M</td>\n",
              "      <td>Andover</td>\n",
              "      <td>MA</td>\n",
              "      <td>USA</td>\n",
              "      <td>2:49:10</td>\n",
              "      <td>527</td>\n",
              "      <td>490</td>\n",
              "      <td>2015:2016</td>\n",
              "      <td>Swenson</td>\n",
              "      <td>Will</td>\n",
              "    </tr>\n",
              "    <tr>\n",
              "      <th>814</th>\n",
              "      <td>Williamson, David</td>\n",
              "      <td>49</td>\n",
              "      <td>M</td>\n",
              "      <td>Sutton</td>\n",
              "      <td>NaN</td>\n",
              "      <td>GBR</td>\n",
              "      <td>2:53:46</td>\n",
              "      <td>815</td>\n",
              "      <td>768</td>\n",
              "      <td>NaN</td>\n",
              "      <td>Williamson</td>\n",
              "      <td>David</td>\n",
              "    </tr>\n",
              "    <tr>\n",
              "      <th>892</th>\n",
              "      <td>Rivera, Will</td>\n",
              "      <td>46</td>\n",
              "      <td>M</td>\n",
              "      <td>Elizabethtown</td>\n",
              "      <td>KY</td>\n",
              "      <td>USA</td>\n",
              "      <td>2:54:53</td>\n",
              "      <td>893</td>\n",
              "      <td>843</td>\n",
              "      <td>NaN</td>\n",
              "      <td>Rivera</td>\n",
              "      <td>Will</td>\n",
              "    </tr>\n",
              "  </tbody>\n",
              "</table>\n",
              "</div>"
            ],
            "text/plain": [
              "                  Name  Age M/F  ...  Years Ran  First Name Last Name\n",
              "93      Vanos, William   45   M  ...        NaN       Vanos   William\n",
              "526      Swenson, Will   45   M  ...  2015:2016     Swenson      Will\n",
              "814  Williamson, David   49   M  ...        NaN  Williamson     David\n",
              "892       Rivera, Will   46   M  ...        NaN      Rivera      Will\n",
              "\n",
              "[4 rows x 12 columns]"
            ]
          },
          "metadata": {
            "tags": []
          },
          "execution_count": 131
        }
      ]
    },
    {
      "cell_type": "code",
      "metadata": {
        "id": "Bhc2gLD9xvfe",
        "colab_type": "code",
        "colab": {
          "base_uri": "https://localhost:8080/"
        },
        "outputId": "c83c6d97-23eb-4668-bef7-d0923fedd500"
      },
      "source": [
        "boston.Age.nlargest(10)"
      ],
      "execution_count": null,
      "outputs": [
        {
          "output_type": "execute_result",
          "data": {
            "text/plain": [
              "704    59\n",
              "648    57\n",
              "326    56\n",
              "370    56\n",
              "563    55\n",
              "864    55\n",
              "325    53\n",
              "394    53\n",
              "486    53\n",
              "579    53\n",
              "Name: Age, dtype: int64"
            ]
          },
          "metadata": {
            "tags": []
          },
          "execution_count": 132
        }
      ]
    },
    {
      "cell_type": "code",
      "metadata": {
        "id": "Yj50nkB9x_Vj",
        "colab_type": "code",
        "colab": {
          "base_uri": "https://localhost:8080/"
        },
        "outputId": "dd5031d8-9378-41a1-a118-6426f3606408"
      },
      "source": [
        "boston.Age.hist();"
      ],
      "execution_count": null,
      "outputs": [
        {
          "output_type": "display_data",
          "data": {
            "image/png": "[encoded data removed]",
            "text/plain": [
              "<Figure size 432x288 with 1 Axes>"
            ]
          },
          "metadata": {
            "tags": [],
            "needs_background": "light"
          }
        }
      ]
    },
    {
      "cell_type": "markdown",
      "metadata": {
        "id": "9nfR81-nyFNG",
        "colab_type": "text"
      },
      "source": [
        "#### BONUS: Parsing Indicators With get_dummies()"
      ]
    },
    {
      "cell_type": "code",
      "metadata": {
        "id": "tIDmH8U3zWr7",
        "colab_type": "code",
        "colab": {
          "base_uri": "https://localhost:8080/"
        },
        "outputId": "9b04a3b8-adfc-40fc-a13a-b40abe0b5475"
      },
      "source": [
        "boston.head()"
      ],
      "execution_count": null,
      "outputs": [
        {
          "output_type": "execute_result",
          "data": {
            "text/html": [
              "<div>\n",
              "<style scoped>\n",
              "    .dataframe tbody tr th:only-of-type {\n",
              "        vertical-align: middle;\n",
              "    }\n",
              "\n",
              "    .dataframe tbody tr th {\n",
              "        vertical-align: top;\n",
              "    }\n",
              "\n",
              "    .dataframe thead th {\n",
              "        text-align: right;\n",
              "    }\n",
              "</style>\n",
              "<table border=\"1\" class=\"dataframe\">\n",
              "  <thead>\n",
              "    <tr style=\"text-align: right;\">\n",
              "      <th></th>\n",
              "      <th>Name</th>\n",
              "      <th>Age</th>\n",
              "      <th>M/F</th>\n",
              "      <th>City</th>\n",
              "      <th>State</th>\n",
              "      <th>Country</th>\n",
              "      <th>Official Time</th>\n",
              "      <th>Overall</th>\n",
              "      <th>Gender</th>\n",
              "      <th>Years Ran</th>\n",
              "      <th>First Name</th>\n",
              "      <th>Last Name</th>\n",
              "    </tr>\n",
              "  </thead>\n",
              "  <tbody>\n",
              "    <tr>\n",
              "      <th>0</th>\n",
              "      <td>Kirui, Geoffrey</td>\n",
              "      <td>24</td>\n",
              "      <td>M</td>\n",
              "      <td>Keringet</td>\n",
              "      <td>NaN</td>\n",
              "      <td>KEN</td>\n",
              "      <td>2:09:37</td>\n",
              "      <td>1</td>\n",
              "      <td>1</td>\n",
              "      <td>NaN</td>\n",
              "      <td>Kirui</td>\n",
              "      <td>Geoffrey</td>\n",
              "    </tr>\n",
              "    <tr>\n",
              "      <th>1</th>\n",
              "      <td>Rupp, Galen</td>\n",
              "      <td>30</td>\n",
              "      <td>M</td>\n",
              "      <td>Portland</td>\n",
              "      <td>OR</td>\n",
              "      <td>USA</td>\n",
              "      <td>2:09:58</td>\n",
              "      <td>2</td>\n",
              "      <td>2</td>\n",
              "      <td>NaN</td>\n",
              "      <td>Rupp</td>\n",
              "      <td>Galen</td>\n",
              "    </tr>\n",
              "    <tr>\n",
              "      <th>2</th>\n",
              "      <td>Osako, Suguru</td>\n",
              "      <td>25</td>\n",
              "      <td>M</td>\n",
              "      <td>Machida-City</td>\n",
              "      <td>NaN</td>\n",
              "      <td>JPN</td>\n",
              "      <td>2:10:28</td>\n",
              "      <td>3</td>\n",
              "      <td>3</td>\n",
              "      <td>NaN</td>\n",
              "      <td>Osako</td>\n",
              "      <td>Suguru</td>\n",
              "    </tr>\n",
              "    <tr>\n",
              "      <th>3</th>\n",
              "      <td>Biwott, Shadrack</td>\n",
              "      <td>32</td>\n",
              "      <td>M</td>\n",
              "      <td>Mammoth Lakes</td>\n",
              "      <td>CA</td>\n",
              "      <td>USA</td>\n",
              "      <td>2:12:08</td>\n",
              "      <td>4</td>\n",
              "      <td>4</td>\n",
              "      <td>NaN</td>\n",
              "      <td>Biwott</td>\n",
              "      <td>Shadrack</td>\n",
              "    </tr>\n",
              "    <tr>\n",
              "      <th>4</th>\n",
              "      <td>Chebet, Wilson</td>\n",
              "      <td>31</td>\n",
              "      <td>M</td>\n",
              "      <td>Marakwet</td>\n",
              "      <td>NaN</td>\n",
              "      <td>KEN</td>\n",
              "      <td>2:12:35</td>\n",
              "      <td>5</td>\n",
              "      <td>5</td>\n",
              "      <td>2015</td>\n",
              "      <td>Chebet</td>\n",
              "      <td>Wilson</td>\n",
              "    </tr>\n",
              "  </tbody>\n",
              "</table>\n",
              "</div>"
            ],
            "text/plain": [
              "               Name  Age M/F  ... Years Ran First Name Last Name\n",
              "0   Kirui, Geoffrey   24   M  ...       NaN      Kirui  Geoffrey\n",
              "1       Rupp, Galen   30   M  ...       NaN       Rupp     Galen\n",
              "2     Osako, Suguru   25   M  ...       NaN      Osako    Suguru\n",
              "3  Biwott, Shadrack   32   M  ...       NaN     Biwott  Shadrack\n",
              "4    Chebet, Wilson   31   M  ...      2015     Chebet    Wilson\n",
              "\n",
              "[5 rows x 12 columns]"
            ]
          },
          "metadata": {
            "tags": []
          },
          "execution_count": 134
        }
      ]
    },
    {
      "cell_type": "code",
      "metadata": {
        "id": "vGXdAzZC2ioy",
        "colab_type": "code",
        "colab": {
          "base_uri": "https://localhost:8080/"
        },
        "outputId": "04948d5b-4a1a-448f-937f-fadfb0015b78"
      },
      "source": [
        "boston[boston['Years Ran'].notnull()]"
      ],
      "execution_count": null,
      "outputs": [
        {
          "output_type": "execute_result",
          "data": {
            "text/html": [
              "<div>\n",
              "<style scoped>\n",
              "    .dataframe tbody tr th:only-of-type {\n",
              "        vertical-align: middle;\n",
              "    }\n",
              "\n",
              "    .dataframe tbody tr th {\n",
              "        vertical-align: top;\n",
              "    }\n",
              "\n",
              "    .dataframe thead th {\n",
              "        text-align: right;\n",
              "    }\n",
              "</style>\n",
              "<table border=\"1\" class=\"dataframe\">\n",
              "  <thead>\n",
              "    <tr style=\"text-align: right;\">\n",
              "      <th></th>\n",
              "      <th>Name</th>\n",
              "      <th>Age</th>\n",
              "      <th>M/F</th>\n",
              "      <th>City</th>\n",
              "      <th>State</th>\n",
              "      <th>Country</th>\n",
              "      <th>Official Time</th>\n",
              "      <th>Overall</th>\n",
              "      <th>Gender</th>\n",
              "      <th>Years Ran</th>\n",
              "      <th>First Name</th>\n",
              "      <th>Last Name</th>\n",
              "    </tr>\n",
              "  </thead>\n",
              "  <tbody>\n",
              "    <tr>\n",
              "      <th>4</th>\n",
              "      <td>Chebet, Wilson</td>\n",
              "      <td>31</td>\n",
              "      <td>M</td>\n",
              "      <td>Marakwet</td>\n",
              "      <td>NaN</td>\n",
              "      <td>KEN</td>\n",
              "      <td>2:12:35</td>\n",
              "      <td>5</td>\n",
              "      <td>5</td>\n",
              "      <td>2015</td>\n",
              "      <td>Chebet</td>\n",
              "      <td>Wilson</td>\n",
              "    </tr>\n",
              "    <tr>\n",
              "      <th>12</th>\n",
              "      <td>Keflezighi, Meb</td>\n",
              "      <td>41</td>\n",
              "      <td>M</td>\n",
              "      <td>San Diego</td>\n",
              "      <td>CA</td>\n",
              "      <td>USA</td>\n",
              "      <td>2:17:00</td>\n",
              "      <td>13</td>\n",
              "      <td>13</td>\n",
              "      <td>2015</td>\n",
              "      <td>Keflezighi</td>\n",
              "      <td>Meb</td>\n",
              "    </tr>\n",
              "    <tr>\n",
              "      <th>13</th>\n",
              "      <td>Nyasango, Cutbert</td>\n",
              "      <td>34</td>\n",
              "      <td>M</td>\n",
              "      <td>Harara</td>\n",
              "      <td>NaN</td>\n",
              "      <td>ZIM</td>\n",
              "      <td>2:17:40</td>\n",
              "      <td>14</td>\n",
              "      <td>14</td>\n",
              "      <td>2016</td>\n",
              "      <td>Nyasango</td>\n",
              "      <td>Cutbert</td>\n",
              "    </tr>\n",
              "    <tr>\n",
              "      <th>14</th>\n",
              "      <td>Korir, Wesley</td>\n",
              "      <td>34</td>\n",
              "      <td>M</td>\n",
              "      <td>Kitale</td>\n",
              "      <td>NaN</td>\n",
              "      <td>KEN</td>\n",
              "      <td>2:18:14</td>\n",
              "      <td>15</td>\n",
              "      <td>15</td>\n",
              "      <td>2015:2016</td>\n",
              "      <td>Korir</td>\n",
              "      <td>Wesley</td>\n",
              "    </tr>\n",
              "    <tr>\n",
              "      <th>29</th>\n",
              "      <td>Maravilla, Jorge</td>\n",
              "      <td>39</td>\n",
              "      <td>M</td>\n",
              "      <td>Mill Valley</td>\n",
              "      <td>CA</td>\n",
              "      <td>USA</td>\n",
              "      <td>2:24:27</td>\n",
              "      <td>30</td>\n",
              "      <td>27</td>\n",
              "      <td>2016</td>\n",
              "      <td>Maravilla</td>\n",
              "      <td>Jorge</td>\n",
              "    </tr>\n",
              "    <tr>\n",
              "      <th>...</th>\n",
              "      <td>...</td>\n",
              "      <td>...</td>\n",
              "      <td>...</td>\n",
              "      <td>...</td>\n",
              "      <td>...</td>\n",
              "      <td>...</td>\n",
              "      <td>...</td>\n",
              "      <td>...</td>\n",
              "      <td>...</td>\n",
              "      <td>...</td>\n",
              "      <td>...</td>\n",
              "      <td>...</td>\n",
              "    </tr>\n",
              "    <tr>\n",
              "      <th>986</th>\n",
              "      <td>Bretz, Virgil</td>\n",
              "      <td>44</td>\n",
              "      <td>M</td>\n",
              "      <td>Mt. Kisco</td>\n",
              "      <td>NY</td>\n",
              "      <td>USA</td>\n",
              "      <td>2:56:02</td>\n",
              "      <td>987</td>\n",
              "      <td>931</td>\n",
              "      <td>2015:2016</td>\n",
              "      <td>Bretz</td>\n",
              "      <td>Virgil</td>\n",
              "    </tr>\n",
              "    <tr>\n",
              "      <th>987</th>\n",
              "      <td>Cucuzzella, Mark</td>\n",
              "      <td>50</td>\n",
              "      <td>M</td>\n",
              "      <td>Shepherdstown</td>\n",
              "      <td>WV</td>\n",
              "      <td>USA</td>\n",
              "      <td>2:56:03</td>\n",
              "      <td>988</td>\n",
              "      <td>932</td>\n",
              "      <td>2016</td>\n",
              "      <td>Cucuzzella</td>\n",
              "      <td>Mark</td>\n",
              "    </tr>\n",
              "    <tr>\n",
              "      <th>988</th>\n",
              "      <td>Carron, John B</td>\n",
              "      <td>46</td>\n",
              "      <td>M</td>\n",
              "      <td>Irvington</td>\n",
              "      <td>NY</td>\n",
              "      <td>USA</td>\n",
              "      <td>2:56:03</td>\n",
              "      <td>989</td>\n",
              "      <td>933</td>\n",
              "      <td>2016</td>\n",
              "      <td>Carron</td>\n",
              "      <td>John B</td>\n",
              "    </tr>\n",
              "    <tr>\n",
              "      <th>995</th>\n",
              "      <td>Larosa, Mark</td>\n",
              "      <td>38</td>\n",
              "      <td>M</td>\n",
              "      <td>North Andover</td>\n",
              "      <td>MA</td>\n",
              "      <td>USA</td>\n",
              "      <td>2:56:06</td>\n",
              "      <td>996</td>\n",
              "      <td>940</td>\n",
              "      <td>2015:2016</td>\n",
              "      <td>Larosa</td>\n",
              "      <td>Mark</td>\n",
              "    </tr>\n",
              "    <tr>\n",
              "      <th>996</th>\n",
              "      <td>Williamson, Jerry A</td>\n",
              "      <td>43</td>\n",
              "      <td>M</td>\n",
              "      <td>Raleigh</td>\n",
              "      <td>NC</td>\n",
              "      <td>USA</td>\n",
              "      <td>2:56:06</td>\n",
              "      <td>997</td>\n",
              "      <td>941</td>\n",
              "      <td>2015</td>\n",
              "      <td>Williamson</td>\n",
              "      <td>Jerry A</td>\n",
              "    </tr>\n",
              "  </tbody>\n",
              "</table>\n",
              "<p>315 rows × 12 columns</p>\n",
              "</div>"
            ],
            "text/plain": [
              "                    Name  Age M/F  ...  Years Ran  First Name Last Name\n",
              "4         Chebet, Wilson   31   M  ...       2015      Chebet    Wilson\n",
              "12       Keflezighi, Meb   41   M  ...       2015  Keflezighi       Meb\n",
              "13     Nyasango, Cutbert   34   M  ...       2016    Nyasango   Cutbert\n",
              "14         Korir, Wesley   34   M  ...  2015:2016       Korir    Wesley\n",
              "29      Maravilla, Jorge   39   M  ...       2016   Maravilla     Jorge\n",
              "..                   ...  ...  ..  ...        ...         ...       ...\n",
              "986        Bretz, Virgil   44   M  ...  2015:2016       Bretz    Virgil\n",
              "987     Cucuzzella, Mark   50   M  ...       2016  Cucuzzella      Mark\n",
              "988       Carron, John B   46   M  ...       2016      Carron    John B\n",
              "995         Larosa, Mark   38   M  ...  2015:2016      Larosa      Mark\n",
              "996  Williamson, Jerry A   43   M  ...       2015  Williamson   Jerry A\n",
              "\n",
              "[315 rows x 12 columns]"
            ]
          },
          "metadata": {
            "tags": []
          },
          "execution_count": 135
        }
      ]
    },
    {
      "cell_type": "code",
      "metadata": {
        "id": "zHVGdKIi-IV3",
        "colab_type": "code",
        "colab": {
          "base_uri": "https://localhost:8080/"
        },
        "outputId": "2495b25d-c0af-4671-b405-aad53d01aa9b"
      },
      "source": [
        "boston['Years Ran'].unique()"
      ],
      "execution_count": null,
      "outputs": [
        {
          "output_type": "execute_result",
          "data": {
            "text/plain": [
              "array([nan, '2015', '2016', '2015:2016'], dtype=object)"
            ]
          },
          "metadata": {
            "tags": []
          },
          "execution_count": 136
        }
      ]
    },
    {
      "cell_type": "code",
      "metadata": {
        "id": "kXhr3xUm-Pz1",
        "colab_type": "code",
        "colab": {}
      },
      "source": [
        "dummies = boston['Years Ran'].str.get_dummies(sep=':')"
      ],
      "execution_count": null,
      "outputs": []
    },
    {
      "cell_type": "code",
      "metadata": {
        "id": "sf_8Bv1j_eTN",
        "colab_type": "code",
        "colab": {
          "base_uri": "https://localhost:8080/"
        },
        "outputId": "6108f76a-d7c9-4e4b-9c37-fd3494dd9c5c"
      },
      "source": [
        "dummies.head()"
      ],
      "execution_count": null,
      "outputs": [
        {
          "output_type": "execute_result",
          "data": {
            "text/html": [
              "<div>\n",
              "<style scoped>\n",
              "    .dataframe tbody tr th:only-of-type {\n",
              "        vertical-align: middle;\n",
              "    }\n",
              "\n",
              "    .dataframe tbody tr th {\n",
              "        vertical-align: top;\n",
              "    }\n",
              "\n",
              "    .dataframe thead th {\n",
              "        text-align: right;\n",
              "    }\n",
              "</style>\n",
              "<table border=\"1\" class=\"dataframe\">\n",
              "  <thead>\n",
              "    <tr style=\"text-align: right;\">\n",
              "      <th></th>\n",
              "      <th>2015</th>\n",
              "      <th>2016</th>\n",
              "    </tr>\n",
              "  </thead>\n",
              "  <tbody>\n",
              "    <tr>\n",
              "      <th>0</th>\n",
              "      <td>0</td>\n",
              "      <td>0</td>\n",
              "    </tr>\n",
              "    <tr>\n",
              "      <th>1</th>\n",
              "      <td>0</td>\n",
              "      <td>0</td>\n",
              "    </tr>\n",
              "    <tr>\n",
              "      <th>2</th>\n",
              "      <td>0</td>\n",
              "      <td>0</td>\n",
              "    </tr>\n",
              "    <tr>\n",
              "      <th>3</th>\n",
              "      <td>0</td>\n",
              "      <td>0</td>\n",
              "    </tr>\n",
              "    <tr>\n",
              "      <th>4</th>\n",
              "      <td>1</td>\n",
              "      <td>0</td>\n",
              "    </tr>\n",
              "  </tbody>\n",
              "</table>\n",
              "</div>"
            ],
            "text/plain": [
              "   2015  2016\n",
              "0     0     0\n",
              "1     0     0\n",
              "2     0     0\n",
              "3     0     0\n",
              "4     1     0"
            ]
          },
          "metadata": {
            "tags": []
          },
          "execution_count": 138
        }
      ]
    },
    {
      "cell_type": "code",
      "metadata": {
        "id": "6pSemQwK-wax",
        "colab_type": "code",
        "colab": {}
      },
      "source": [
        "# the df.insert()"
      ],
      "execution_count": null,
      "outputs": []
    },
    {
      "cell_type": "code",
      "metadata": {
        "id": "QbxX61cc---E",
        "colab_type": "code",
        "colab": {}
      },
      "source": [
        "boston.insert(boston.columns.get_loc('Years Ran'), 'Ran 2015', dummies['2015'])\n",
        "boston.insert(boston.columns.get_loc('Years Ran'), 'Ran 2016', dummies['2016'])"
      ],
      "execution_count": null,
      "outputs": []
    },
    {
      "cell_type": "code",
      "metadata": {
        "id": "bcd2hrMv_lTd",
        "colab_type": "code",
        "colab": {
          "base_uri": "https://localhost:8080/"
        },
        "outputId": "80ae8eb0-890c-4ee6-ce55-f66ba513b0c6"
      },
      "source": [
        "boston.head(10)"
      ],
      "execution_count": null,
      "outputs": [
        {
          "output_type": "execute_result",
          "data": {
            "text/html": [
              "<div>\n",
              "<style scoped>\n",
              "    .dataframe tbody tr th:only-of-type {\n",
              "        vertical-align: middle;\n",
              "    }\n",
              "\n",
              "    .dataframe tbody tr th {\n",
              "        vertical-align: top;\n",
              "    }\n",
              "\n",
              "    .dataframe thead th {\n",
              "        text-align: right;\n",
              "    }\n",
              "</style>\n",
              "<table border=\"1\" class=\"dataframe\">\n",
              "  <thead>\n",
              "    <tr style=\"text-align: right;\">\n",
              "      <th></th>\n",
              "      <th>Name</th>\n",
              "      <th>Age</th>\n",
              "      <th>M/F</th>\n",
              "      <th>City</th>\n",
              "      <th>State</th>\n",
              "      <th>Country</th>\n",
              "      <th>Official Time</th>\n",
              "      <th>Overall</th>\n",
              "      <th>Gender</th>\n",
              "      <th>Ran 2015</th>\n",
              "      <th>Ran 2016</th>\n",
              "      <th>Years Ran</th>\n",
              "      <th>First Name</th>\n",
              "      <th>Last Name</th>\n",
              "    </tr>\n",
              "  </thead>\n",
              "  <tbody>\n",
              "    <tr>\n",
              "      <th>0</th>\n",
              "      <td>Kirui, Geoffrey</td>\n",
              "      <td>24</td>\n",
              "      <td>M</td>\n",
              "      <td>Keringet</td>\n",
              "      <td>NaN</td>\n",
              "      <td>KEN</td>\n",
              "      <td>2:09:37</td>\n",
              "      <td>1</td>\n",
              "      <td>1</td>\n",
              "      <td>0</td>\n",
              "      <td>0</td>\n",
              "      <td>NaN</td>\n",
              "      <td>Kirui</td>\n",
              "      <td>Geoffrey</td>\n",
              "    </tr>\n",
              "    <tr>\n",
              "      <th>1</th>\n",
              "      <td>Rupp, Galen</td>\n",
              "      <td>30</td>\n",
              "      <td>M</td>\n",
              "      <td>Portland</td>\n",
              "      <td>OR</td>\n",
              "      <td>USA</td>\n",
              "      <td>2:09:58</td>\n",
              "      <td>2</td>\n",
              "      <td>2</td>\n",
              "      <td>0</td>\n",
              "      <td>0</td>\n",
              "      <td>NaN</td>\n",
              "      <td>Rupp</td>\n",
              "      <td>Galen</td>\n",
              "    </tr>\n",
              "    <tr>\n",
              "      <th>2</th>\n",
              "      <td>Osako, Suguru</td>\n",
              "      <td>25</td>\n",
              "      <td>M</td>\n",
              "      <td>Machida-City</td>\n",
              "      <td>NaN</td>\n",
              "      <td>JPN</td>\n",
              "      <td>2:10:28</td>\n",
              "      <td>3</td>\n",
              "      <td>3</td>\n",
              "      <td>0</td>\n",
              "      <td>0</td>\n",
              "      <td>NaN</td>\n",
              "      <td>Osako</td>\n",
              "      <td>Suguru</td>\n",
              "    </tr>\n",
              "    <tr>\n",
              "      <th>3</th>\n",
              "      <td>Biwott, Shadrack</td>\n",
              "      <td>32</td>\n",
              "      <td>M</td>\n",
              "      <td>Mammoth Lakes</td>\n",
              "      <td>CA</td>\n",
              "      <td>USA</td>\n",
              "      <td>2:12:08</td>\n",
              "      <td>4</td>\n",
              "      <td>4</td>\n",
              "      <td>0</td>\n",
              "      <td>0</td>\n",
              "      <td>NaN</td>\n",
              "      <td>Biwott</td>\n",
              "      <td>Shadrack</td>\n",
              "    </tr>\n",
              "    <tr>\n",
              "      <th>4</th>\n",
              "      <td>Chebet, Wilson</td>\n",
              "      <td>31</td>\n",
              "      <td>M</td>\n",
              "      <td>Marakwet</td>\n",
              "      <td>NaN</td>\n",
              "      <td>KEN</td>\n",
              "      <td>2:12:35</td>\n",
              "      <td>5</td>\n",
              "      <td>5</td>\n",
              "      <td>1</td>\n",
              "      <td>0</td>\n",
              "      <td>2015</td>\n",
              "      <td>Chebet</td>\n",
              "      <td>Wilson</td>\n",
              "    </tr>\n",
              "    <tr>\n",
              "      <th>5</th>\n",
              "      <td>Abdirahman, Abdi</td>\n",
              "      <td>40</td>\n",
              "      <td>M</td>\n",
              "      <td>Phoenix</td>\n",
              "      <td>AZ</td>\n",
              "      <td>USA</td>\n",
              "      <td>2:12:45</td>\n",
              "      <td>6</td>\n",
              "      <td>6</td>\n",
              "      <td>0</td>\n",
              "      <td>0</td>\n",
              "      <td>NaN</td>\n",
              "      <td>Abdirahman</td>\n",
              "      <td>Abdi</td>\n",
              "    </tr>\n",
              "    <tr>\n",
              "      <th>6</th>\n",
              "      <td>Maiyo, Augustus K.</td>\n",
              "      <td>33</td>\n",
              "      <td>M</td>\n",
              "      <td>Colorado Springs</td>\n",
              "      <td>CO</td>\n",
              "      <td>USA</td>\n",
              "      <td>2:13:16</td>\n",
              "      <td>7</td>\n",
              "      <td>7</td>\n",
              "      <td>0</td>\n",
              "      <td>0</td>\n",
              "      <td>NaN</td>\n",
              "      <td>Maiyo</td>\n",
              "      <td>Augustus K.</td>\n",
              "    </tr>\n",
              "    <tr>\n",
              "      <th>7</th>\n",
              "      <td>Sefir, Dino</td>\n",
              "      <td>28</td>\n",
              "      <td>M</td>\n",
              "      <td>Addis Ababa</td>\n",
              "      <td>NaN</td>\n",
              "      <td>ETH</td>\n",
              "      <td>2:14:26</td>\n",
              "      <td>8</td>\n",
              "      <td>8</td>\n",
              "      <td>0</td>\n",
              "      <td>0</td>\n",
              "      <td>NaN</td>\n",
              "      <td>Sefir</td>\n",
              "      <td>Dino</td>\n",
              "    </tr>\n",
              "    <tr>\n",
              "      <th>8</th>\n",
              "      <td>Puskedra, Luke</td>\n",
              "      <td>27</td>\n",
              "      <td>M</td>\n",
              "      <td>Eugene</td>\n",
              "      <td>OR</td>\n",
              "      <td>USA</td>\n",
              "      <td>2:14:45</td>\n",
              "      <td>9</td>\n",
              "      <td>9</td>\n",
              "      <td>0</td>\n",
              "      <td>0</td>\n",
              "      <td>NaN</td>\n",
              "      <td>Puskedra</td>\n",
              "      <td>Luke</td>\n",
              "    </tr>\n",
              "    <tr>\n",
              "      <th>9</th>\n",
              "      <td>Ward, Jared</td>\n",
              "      <td>28</td>\n",
              "      <td>M</td>\n",
              "      <td>Kaysville</td>\n",
              "      <td>UT</td>\n",
              "      <td>USA</td>\n",
              "      <td>2:15:28</td>\n",
              "      <td>10</td>\n",
              "      <td>10</td>\n",
              "      <td>0</td>\n",
              "      <td>0</td>\n",
              "      <td>NaN</td>\n",
              "      <td>Ward</td>\n",
              "      <td>Jared</td>\n",
              "    </tr>\n",
              "  </tbody>\n",
              "</table>\n",
              "</div>"
            ],
            "text/plain": [
              "                 Name  Age M/F  ... Years Ran  First Name    Last Name\n",
              "0     Kirui, Geoffrey   24   M  ...       NaN       Kirui     Geoffrey\n",
              "1         Rupp, Galen   30   M  ...       NaN        Rupp        Galen\n",
              "2       Osako, Suguru   25   M  ...       NaN       Osako       Suguru\n",
              "3    Biwott, Shadrack   32   M  ...       NaN      Biwott     Shadrack\n",
              "4      Chebet, Wilson   31   M  ...      2015      Chebet       Wilson\n",
              "5    Abdirahman, Abdi   40   M  ...       NaN  Abdirahman         Abdi\n",
              "6  Maiyo, Augustus K.   33   M  ...       NaN       Maiyo  Augustus K.\n",
              "7         Sefir, Dino   28   M  ...       NaN       Sefir         Dino\n",
              "8      Puskedra, Luke   27   M  ...       NaN    Puskedra         Luke\n",
              "9         Ward, Jared   28   M  ...       NaN        Ward        Jared\n",
              "\n",
              "[10 rows x 14 columns]"
            ]
          },
          "metadata": {
            "tags": []
          },
          "execution_count": 141
        }
      ]
    },
    {
      "cell_type": "code",
      "metadata": {
        "id": "T6W0Kp3o_mdA",
        "colab_type": "code",
        "colab": {}
      },
      "source": [
        "# Q: which top runners from 2017 also ran in the previous two Boston marthons"
      ],
      "execution_count": null,
      "outputs": []
    },
    {
      "cell_type": "code",
      "metadata": {
        "id": "6z7e_KSI_x-2",
        "colab_type": "code",
        "colab": {
          "base_uri": "https://localhost:8080/"
        },
        "outputId": "ed785d2e-b426-4c9b-e9f0-491859eadee8"
      },
      "source": [
        "boston[(boston['Ran 2015']==1) & (boston['Ran 2016']==1)]"
      ],
      "execution_count": null,
      "outputs": [
        {
          "output_type": "execute_result",
          "data": {
            "text/html": [
              "<div>\n",
              "<style scoped>\n",
              "    .dataframe tbody tr th:only-of-type {\n",
              "        vertical-align: middle;\n",
              "    }\n",
              "\n",
              "    .dataframe tbody tr th {\n",
              "        vertical-align: top;\n",
              "    }\n",
              "\n",
              "    .dataframe thead th {\n",
              "        text-align: right;\n",
              "    }\n",
              "</style>\n",
              "<table border=\"1\" class=\"dataframe\">\n",
              "  <thead>\n",
              "    <tr style=\"text-align: right;\">\n",
              "      <th></th>\n",
              "      <th>Name</th>\n",
              "      <th>Age</th>\n",
              "      <th>M/F</th>\n",
              "      <th>City</th>\n",
              "      <th>State</th>\n",
              "      <th>Country</th>\n",
              "      <th>Official Time</th>\n",
              "      <th>Overall</th>\n",
              "      <th>Gender</th>\n",
              "      <th>Ran 2015</th>\n",
              "      <th>Ran 2016</th>\n",
              "      <th>Years Ran</th>\n",
              "      <th>First Name</th>\n",
              "      <th>Last Name</th>\n",
              "    </tr>\n",
              "  </thead>\n",
              "  <tbody>\n",
              "    <tr>\n",
              "      <th>14</th>\n",
              "      <td>Korir, Wesley</td>\n",
              "      <td>34</td>\n",
              "      <td>M</td>\n",
              "      <td>Kitale</td>\n",
              "      <td>NaN</td>\n",
              "      <td>KEN</td>\n",
              "      <td>2:18:14</td>\n",
              "      <td>15</td>\n",
              "      <td>15</td>\n",
              "      <td>1</td>\n",
              "      <td>1</td>\n",
              "      <td>2015:2016</td>\n",
              "      <td>Korir</td>\n",
              "      <td>Wesley</td>\n",
              "    </tr>\n",
              "    <tr>\n",
              "      <th>30</th>\n",
              "      <td>Ornelas, Zachary</td>\n",
              "      <td>25</td>\n",
              "      <td>M</td>\n",
              "      <td>Ann Arbor</td>\n",
              "      <td>MI</td>\n",
              "      <td>USA</td>\n",
              "      <td>2:24:40</td>\n",
              "      <td>31</td>\n",
              "      <td>28</td>\n",
              "      <td>1</td>\n",
              "      <td>1</td>\n",
              "      <td>2015:2016</td>\n",
              "      <td>Ornelas</td>\n",
              "      <td>Zachary</td>\n",
              "    </tr>\n",
              "    <tr>\n",
              "      <th>31</th>\n",
              "      <td>Ayr, Jason M.</td>\n",
              "      <td>29</td>\n",
              "      <td>M</td>\n",
              "      <td>Allston</td>\n",
              "      <td>MA</td>\n",
              "      <td>USA</td>\n",
              "      <td>2:24:49</td>\n",
              "      <td>32</td>\n",
              "      <td>29</td>\n",
              "      <td>1</td>\n",
              "      <td>1</td>\n",
              "      <td>2015:2016</td>\n",
              "      <td>Ayr</td>\n",
              "      <td>Jason M.</td>\n",
              "    </tr>\n",
              "    <tr>\n",
              "      <th>36</th>\n",
              "      <td>Vangampleare, Stephen</td>\n",
              "      <td>26</td>\n",
              "      <td>M</td>\n",
              "      <td>Colorado Springs</td>\n",
              "      <td>CO</td>\n",
              "      <td>USA</td>\n",
              "      <td>2:25:35</td>\n",
              "      <td>37</td>\n",
              "      <td>33</td>\n",
              "      <td>1</td>\n",
              "      <td>1</td>\n",
              "      <td>2015:2016</td>\n",
              "      <td>Vangampleare</td>\n",
              "      <td>Stephen</td>\n",
              "    </tr>\n",
              "    <tr>\n",
              "      <th>56</th>\n",
              "      <td>Boudalia, Said Sr.</td>\n",
              "      <td>48</td>\n",
              "      <td>M</td>\n",
              "      <td>Belluno</td>\n",
              "      <td>NaN</td>\n",
              "      <td>ITA</td>\n",
              "      <td>2:30:11</td>\n",
              "      <td>57</td>\n",
              "      <td>51</td>\n",
              "      <td>1</td>\n",
              "      <td>1</td>\n",
              "      <td>2015:2016</td>\n",
              "      <td>Boudalia</td>\n",
              "      <td>Said Sr.</td>\n",
              "    </tr>\n",
              "    <tr>\n",
              "      <th>...</th>\n",
              "      <td>...</td>\n",
              "      <td>...</td>\n",
              "      <td>...</td>\n",
              "      <td>...</td>\n",
              "      <td>...</td>\n",
              "      <td>...</td>\n",
              "      <td>...</td>\n",
              "      <td>...</td>\n",
              "      <td>...</td>\n",
              "      <td>...</td>\n",
              "      <td>...</td>\n",
              "      <td>...</td>\n",
              "      <td>...</td>\n",
              "      <td>...</td>\n",
              "    </tr>\n",
              "    <tr>\n",
              "      <th>959</th>\n",
              "      <td>Yu, Michael</td>\n",
              "      <td>45</td>\n",
              "      <td>M</td>\n",
              "      <td>Zhubei City, Hsinchu County</td>\n",
              "      <td>NaN</td>\n",
              "      <td>TWN</td>\n",
              "      <td>2:55:40</td>\n",
              "      <td>960</td>\n",
              "      <td>907</td>\n",
              "      <td>1</td>\n",
              "      <td>1</td>\n",
              "      <td>2015:2016</td>\n",
              "      <td>Yu</td>\n",
              "      <td>Michael</td>\n",
              "    </tr>\n",
              "    <tr>\n",
              "      <th>962</th>\n",
              "      <td>Husak, Tyler</td>\n",
              "      <td>30</td>\n",
              "      <td>M</td>\n",
              "      <td>Marion</td>\n",
              "      <td>IA</td>\n",
              "      <td>USA</td>\n",
              "      <td>2:55:42</td>\n",
              "      <td>963</td>\n",
              "      <td>910</td>\n",
              "      <td>1</td>\n",
              "      <td>1</td>\n",
              "      <td>2015:2016</td>\n",
              "      <td>Husak</td>\n",
              "      <td>Tyler</td>\n",
              "    </tr>\n",
              "    <tr>\n",
              "      <th>977</th>\n",
              "      <td>Guthals, Nathaniel</td>\n",
              "      <td>26</td>\n",
              "      <td>M</td>\n",
              "      <td>Overland Park</td>\n",
              "      <td>KS</td>\n",
              "      <td>USA</td>\n",
              "      <td>2:55:57</td>\n",
              "      <td>978</td>\n",
              "      <td>923</td>\n",
              "      <td>1</td>\n",
              "      <td>1</td>\n",
              "      <td>2015:2016</td>\n",
              "      <td>Guthals</td>\n",
              "      <td>Nathaniel</td>\n",
              "    </tr>\n",
              "    <tr>\n",
              "      <th>986</th>\n",
              "      <td>Bretz, Virgil</td>\n",
              "      <td>44</td>\n",
              "      <td>M</td>\n",
              "      <td>Mt. Kisco</td>\n",
              "      <td>NY</td>\n",
              "      <td>USA</td>\n",
              "      <td>2:56:02</td>\n",
              "      <td>987</td>\n",
              "      <td>931</td>\n",
              "      <td>1</td>\n",
              "      <td>1</td>\n",
              "      <td>2015:2016</td>\n",
              "      <td>Bretz</td>\n",
              "      <td>Virgil</td>\n",
              "    </tr>\n",
              "    <tr>\n",
              "      <th>995</th>\n",
              "      <td>Larosa, Mark</td>\n",
              "      <td>38</td>\n",
              "      <td>M</td>\n",
              "      <td>North Andover</td>\n",
              "      <td>MA</td>\n",
              "      <td>USA</td>\n",
              "      <td>2:56:06</td>\n",
              "      <td>996</td>\n",
              "      <td>940</td>\n",
              "      <td>1</td>\n",
              "      <td>1</td>\n",
              "      <td>2015:2016</td>\n",
              "      <td>Larosa</td>\n",
              "      <td>Mark</td>\n",
              "    </tr>\n",
              "  </tbody>\n",
              "</table>\n",
              "<p>124 rows × 14 columns</p>\n",
              "</div>"
            ],
            "text/plain": [
              "                      Name  Age M/F  ...  Years Ran    First Name  Last Name\n",
              "14           Korir, Wesley   34   M  ...  2015:2016         Korir     Wesley\n",
              "30        Ornelas, Zachary   25   M  ...  2015:2016       Ornelas    Zachary\n",
              "31           Ayr, Jason M.   29   M  ...  2015:2016           Ayr   Jason M.\n",
              "36   Vangampleare, Stephen   26   M  ...  2015:2016  Vangampleare    Stephen\n",
              "56      Boudalia, Said Sr.   48   M  ...  2015:2016      Boudalia   Said Sr.\n",
              "..                     ...  ...  ..  ...        ...           ...        ...\n",
              "959            Yu, Michael   45   M  ...  2015:2016            Yu    Michael\n",
              "962           Husak, Tyler   30   M  ...  2015:2016         Husak      Tyler\n",
              "977     Guthals, Nathaniel   26   M  ...  2015:2016       Guthals  Nathaniel\n",
              "986          Bretz, Virgil   44   M  ...  2015:2016         Bretz     Virgil\n",
              "995           Larosa, Mark   38   M  ...  2015:2016        Larosa       Mark\n",
              "\n",
              "[124 rows x 14 columns]"
            ]
          },
          "metadata": {
            "tags": []
          },
          "execution_count": 143
        }
      ]
    },
    {
      "cell_type": "code",
      "metadata": {
        "id": "x0IpvS25_4mh",
        "colab_type": "code",
        "colab": {}
      },
      "source": [
        "# Q: how many top runners from 2017 also ran in 2015"
      ],
      "execution_count": null,
      "outputs": []
    },
    {
      "cell_type": "code",
      "metadata": {
        "id": "q3R8MNtp__H9",
        "colab_type": "code",
        "colab": {
          "base_uri": "https://localhost:8080/"
        },
        "outputId": "da49c551-7fd3-47cc-9e15-686f241b6d81"
      },
      "source": [
        "boston['Ran 2015'].sum()"
      ],
      "execution_count": null,
      "outputs": [
        {
          "output_type": "execute_result",
          "data": {
            "text/plain": [
              "190"
            ]
          },
          "metadata": {
            "tags": []
          },
          "execution_count": 145
        }
      ]
    },
    {
      "cell_type": "markdown",
      "metadata": {
        "id": "sc3LGLCAAA_j",
        "colab_type": "text"
      },
      "source": [
        "#### Text Replacement"
      ]
    },
    {
      "cell_type": "code",
      "metadata": {
        "id": "pxT498MkEfbn",
        "colab_type": "code",
        "colab": {}
      },
      "source": [
        "# Agenda:\n",
        "#  - exact char sequence replacements in python and pandas\n",
        "#  - in a couple of lectures: regex"
      ],
      "execution_count": null,
      "outputs": []
    },
    {
      "cell_type": "code",
      "metadata": {
        "id": "ERrlgq_UAlXB",
        "colab_type": "code",
        "colab": {
          "base_uri": "https://localhost:8080/"
        },
        "outputId": "72d7af00-4250-49fa-9bc2-70f6c26f61f5"
      },
      "source": [
        "s"
      ],
      "execution_count": null,
      "outputs": [
        {
          "output_type": "execute_result",
          "data": {
            "text/plain": [
              "'Welcome to the text manipulation section'"
            ]
          },
          "metadata": {
            "tags": []
          },
          "execution_count": 147
        }
      ]
    },
    {
      "cell_type": "code",
      "metadata": {
        "id": "0i-lUM6qFDLn",
        "colab_type": "code",
        "colab": {}
      },
      "source": [
        "s += '. This section is about text.'"
      ],
      "execution_count": null,
      "outputs": []
    },
    {
      "cell_type": "code",
      "metadata": {
        "id": "AMHcC8JFFWh4",
        "colab_type": "code",
        "colab": {
          "base_uri": "https://localhost:8080/"
        },
        "outputId": "100896f9-576b-49c7-f019-f7f7fcd4a610"
      },
      "source": [
        "s"
      ],
      "execution_count": null,
      "outputs": [
        {
          "output_type": "execute_result",
          "data": {
            "text/plain": [
              "'Welcome to the text manipulation section. This section is about text.'"
            ]
          },
          "metadata": {
            "tags": []
          },
          "execution_count": 149
        }
      ]
    },
    {
      "cell_type": "code",
      "metadata": {
        "id": "FP69NFbUFW5K",
        "colab_type": "code",
        "colab": {
          "base_uri": "https://localhost:8080/"
        },
        "outputId": "53e55d5c-d847-4438-8cf4-21116146633c"
      },
      "source": [
        "s.replace('text', 'string')"
      ],
      "execution_count": null,
      "outputs": [
        {
          "output_type": "execute_result",
          "data": {
            "text/plain": [
              "'Welcome to the string manipulation section. This section is about string.'"
            ]
          },
          "metadata": {
            "tags": []
          },
          "execution_count": 150
        }
      ]
    },
    {
      "cell_type": "code",
      "metadata": {
        "id": "tCo4044TFgsq",
        "colab_type": "code",
        "colab": {
          "base_uri": "https://localhost:8080/"
        },
        "outputId": "7afee79c-815d-4d14-b2a6-78c2a009b115"
      },
      "source": [
        "s.replace('text', 'string', 1)"
      ],
      "execution_count": null,
      "outputs": [
        {
          "output_type": "execute_result",
          "data": {
            "text/plain": [
              "'Welcome to the string manipulation section. This section is about text.'"
            ]
          },
          "metadata": {
            "tags": []
          },
          "execution_count": 151
        }
      ]
    },
    {
      "cell_type": "code",
      "metadata": {
        "id": "XMjsvS41FnyF",
        "colab_type": "code",
        "colab": {
          "base_uri": "https://localhost:8080/"
        },
        "outputId": "b6280090-45cb-498f-d5b2-fd458d1d856a"
      },
      "source": [
        "boston.sample(10)"
      ],
      "execution_count": null,
      "outputs": [
        {
          "output_type": "execute_result",
          "data": {
            "text/html": [
              "<div>\n",
              "<style scoped>\n",
              "    .dataframe tbody tr th:only-of-type {\n",
              "        vertical-align: middle;\n",
              "    }\n",
              "\n",
              "    .dataframe tbody tr th {\n",
              "        vertical-align: top;\n",
              "    }\n",
              "\n",
              "    .dataframe thead th {\n",
              "        text-align: right;\n",
              "    }\n",
              "</style>\n",
              "<table border=\"1\" class=\"dataframe\">\n",
              "  <thead>\n",
              "    <tr style=\"text-align: right;\">\n",
              "      <th></th>\n",
              "      <th>Name</th>\n",
              "      <th>Age</th>\n",
              "      <th>M/F</th>\n",
              "      <th>City</th>\n",
              "      <th>State</th>\n",
              "      <th>Country</th>\n",
              "      <th>Official Time</th>\n",
              "      <th>Overall</th>\n",
              "      <th>Gender</th>\n",
              "      <th>Ran 2015</th>\n",
              "      <th>Ran 2016</th>\n",
              "      <th>Years Ran</th>\n",
              "      <th>First Name</th>\n",
              "      <th>Last Name</th>\n",
              "    </tr>\n",
              "  </thead>\n",
              "  <tbody>\n",
              "    <tr>\n",
              "      <th>86</th>\n",
              "      <td>Ashford, Christopher A</td>\n",
              "      <td>36</td>\n",
              "      <td>M</td>\n",
              "      <td>Birmingham</td>\n",
              "      <td>NaN</td>\n",
              "      <td>GBR</td>\n",
              "      <td>2:33:45</td>\n",
              "      <td>87</td>\n",
              "      <td>77</td>\n",
              "      <td>0</td>\n",
              "      <td>0</td>\n",
              "      <td>NaN</td>\n",
              "      <td>Ashford</td>\n",
              "      <td>Christopher A</td>\n",
              "    </tr>\n",
              "    <tr>\n",
              "      <th>251</th>\n",
              "      <td>Outlaw, Robert A.</td>\n",
              "      <td>39</td>\n",
              "      <td>M</td>\n",
              "      <td>Chattanooga</td>\n",
              "      <td>TN</td>\n",
              "      <td>USA</td>\n",
              "      <td>2:42:48</td>\n",
              "      <td>252</td>\n",
              "      <td>228</td>\n",
              "      <td>0</td>\n",
              "      <td>0</td>\n",
              "      <td>NaN</td>\n",
              "      <td>Outlaw</td>\n",
              "      <td>Robert A.</td>\n",
              "    </tr>\n",
              "    <tr>\n",
              "      <th>911</th>\n",
              "      <td>Sanderson, Samuel</td>\n",
              "      <td>39</td>\n",
              "      <td>M</td>\n",
              "      <td>Houston</td>\n",
              "      <td>TX</td>\n",
              "      <td>USA</td>\n",
              "      <td>2:55:07</td>\n",
              "      <td>912</td>\n",
              "      <td>861</td>\n",
              "      <td>0</td>\n",
              "      <td>0</td>\n",
              "      <td>NaN</td>\n",
              "      <td>Sanderson</td>\n",
              "      <td>Samuel</td>\n",
              "    </tr>\n",
              "    <tr>\n",
              "      <th>338</th>\n",
              "      <td>Hunter, Dale</td>\n",
              "      <td>37</td>\n",
              "      <td>M</td>\n",
              "      <td>Seattle</td>\n",
              "      <td>WA</td>\n",
              "      <td>USA</td>\n",
              "      <td>2:45:14</td>\n",
              "      <td>339</td>\n",
              "      <td>312</td>\n",
              "      <td>1</td>\n",
              "      <td>0</td>\n",
              "      <td>2015</td>\n",
              "      <td>Hunter</td>\n",
              "      <td>Dale</td>\n",
              "    </tr>\n",
              "    <tr>\n",
              "      <th>537</th>\n",
              "      <td>Sosinski, Jimmy S</td>\n",
              "      <td>34</td>\n",
              "      <td>M</td>\n",
              "      <td>Haymarket</td>\n",
              "      <td>VA</td>\n",
              "      <td>USA</td>\n",
              "      <td>2:49:24</td>\n",
              "      <td>538</td>\n",
              "      <td>501</td>\n",
              "      <td>0</td>\n",
              "      <td>0</td>\n",
              "      <td>NaN</td>\n",
              "      <td>Sosinski</td>\n",
              "      <td>Jimmy S</td>\n",
              "    </tr>\n",
              "    <tr>\n",
              "      <th>69</th>\n",
              "      <td>Kosgei, Brigid</td>\n",
              "      <td>23</td>\n",
              "      <td>F</td>\n",
              "      <td>Kapsait</td>\n",
              "      <td>NaN</td>\n",
              "      <td>KEN</td>\n",
              "      <td>2:31:48</td>\n",
              "      <td>70</td>\n",
              "      <td>8</td>\n",
              "      <td>0</td>\n",
              "      <td>0</td>\n",
              "      <td>NaN</td>\n",
              "      <td>Kosgei</td>\n",
              "      <td>Brigid</td>\n",
              "    </tr>\n",
              "    <tr>\n",
              "      <th>404</th>\n",
              "      <td>Orlando, Matthew P</td>\n",
              "      <td>24</td>\n",
              "      <td>M</td>\n",
              "      <td>Boston</td>\n",
              "      <td>MA</td>\n",
              "      <td>USA</td>\n",
              "      <td>2:46:39</td>\n",
              "      <td>405</td>\n",
              "      <td>375</td>\n",
              "      <td>0</td>\n",
              "      <td>0</td>\n",
              "      <td>NaN</td>\n",
              "      <td>Orlando</td>\n",
              "      <td>Matthew P</td>\n",
              "    </tr>\n",
              "    <tr>\n",
              "      <th>877</th>\n",
              "      <td>Burns, Robert M.</td>\n",
              "      <td>50</td>\n",
              "      <td>M</td>\n",
              "      <td>Crestwood, NSW</td>\n",
              "      <td>NaN</td>\n",
              "      <td>AUS</td>\n",
              "      <td>2:54:43</td>\n",
              "      <td>878</td>\n",
              "      <td>829</td>\n",
              "      <td>1</td>\n",
              "      <td>0</td>\n",
              "      <td>2015</td>\n",
              "      <td>Burns</td>\n",
              "      <td>Robert M.</td>\n",
              "    </tr>\n",
              "    <tr>\n",
              "      <th>833</th>\n",
              "      <td>Borgen, André</td>\n",
              "      <td>29</td>\n",
              "      <td>M</td>\n",
              "      <td>Oslo</td>\n",
              "      <td>NaN</td>\n",
              "      <td>NOR</td>\n",
              "      <td>2:54:04</td>\n",
              "      <td>834</td>\n",
              "      <td>787</td>\n",
              "      <td>0</td>\n",
              "      <td>0</td>\n",
              "      <td>NaN</td>\n",
              "      <td>Borgen</td>\n",
              "      <td>André</td>\n",
              "    </tr>\n",
              "    <tr>\n",
              "      <th>786</th>\n",
              "      <td>Takaoka, Masahiro</td>\n",
              "      <td>33</td>\n",
              "      <td>M</td>\n",
              "      <td>Dallas</td>\n",
              "      <td>TX</td>\n",
              "      <td>USA</td>\n",
              "      <td>2:53:21</td>\n",
              "      <td>787</td>\n",
              "      <td>741</td>\n",
              "      <td>1</td>\n",
              "      <td>1</td>\n",
              "      <td>2015:2016</td>\n",
              "      <td>Takaoka</td>\n",
              "      <td>Masahiro</td>\n",
              "    </tr>\n",
              "  </tbody>\n",
              "</table>\n",
              "</div>"
            ],
            "text/plain": [
              "                       Name  Age M/F  ...  Years Ran First Name      Last Name\n",
              "86   Ashford, Christopher A   36   M  ...        NaN    Ashford  Christopher A\n",
              "251       Outlaw, Robert A.   39   M  ...        NaN     Outlaw      Robert A.\n",
              "911       Sanderson, Samuel   39   M  ...        NaN  Sanderson         Samuel\n",
              "338            Hunter, Dale   37   M  ...       2015     Hunter           Dale\n",
              "537       Sosinski, Jimmy S   34   M  ...        NaN   Sosinski        Jimmy S\n",
              "69           Kosgei, Brigid   23   F  ...        NaN     Kosgei         Brigid\n",
              "404      Orlando, Matthew P   24   M  ...        NaN    Orlando      Matthew P\n",
              "877        Burns, Robert M.   50   M  ...       2015      Burns      Robert M.\n",
              "833           Borgen, André   29   M  ...        NaN     Borgen          André\n",
              "786       Takaoka, Masahiro   33   M  ...  2015:2016    Takaoka       Masahiro\n",
              "\n",
              "[10 rows x 14 columns]"
            ]
          },
          "metadata": {
            "tags": []
          },
          "execution_count": 152
        }
      ]
    },
    {
      "cell_type": "code",
      "metadata": {
        "id": "f7wz3o0yF0WG",
        "colab_type": "code",
        "colab": {}
      },
      "source": [
        "boston['M/F'] = boston['M/F']\\\n",
        "                  .str.replace('F', 'Female')\\\n",
        "                  .str.replace('M', 'Male')"
      ],
      "execution_count": null,
      "outputs": []
    },
    {
      "cell_type": "code",
      "metadata": {
        "id": "RUIlUeRIF_Ps",
        "colab_type": "code",
        "colab": {
          "base_uri": "https://localhost:8080/"
        },
        "outputId": "99b55947-e85c-444f-ce39-55b76d70e213"
      },
      "source": [
        "boston.head()"
      ],
      "execution_count": null,
      "outputs": [
        {
          "output_type": "execute_result",
          "data": {
            "text/html": [
              "<div>\n",
              "<style scoped>\n",
              "    .dataframe tbody tr th:only-of-type {\n",
              "        vertical-align: middle;\n",
              "    }\n",
              "\n",
              "    .dataframe tbody tr th {\n",
              "        vertical-align: top;\n",
              "    }\n",
              "\n",
              "    .dataframe thead th {\n",
              "        text-align: right;\n",
              "    }\n",
              "</style>\n",
              "<table border=\"1\" class=\"dataframe\">\n",
              "  <thead>\n",
              "    <tr style=\"text-align: right;\">\n",
              "      <th></th>\n",
              "      <th>Name</th>\n",
              "      <th>Age</th>\n",
              "      <th>M/F</th>\n",
              "      <th>City</th>\n",
              "      <th>State</th>\n",
              "      <th>Country</th>\n",
              "      <th>Official Time</th>\n",
              "      <th>Overall</th>\n",
              "      <th>Gender</th>\n",
              "      <th>Ran 2015</th>\n",
              "      <th>Ran 2016</th>\n",
              "      <th>Years Ran</th>\n",
              "      <th>First Name</th>\n",
              "      <th>Last Name</th>\n",
              "    </tr>\n",
              "  </thead>\n",
              "  <tbody>\n",
              "    <tr>\n",
              "      <th>0</th>\n",
              "      <td>Kirui, Geoffrey</td>\n",
              "      <td>24</td>\n",
              "      <td>Male</td>\n",
              "      <td>Keringet</td>\n",
              "      <td>NaN</td>\n",
              "      <td>KEN</td>\n",
              "      <td>2:09:37</td>\n",
              "      <td>1</td>\n",
              "      <td>1</td>\n",
              "      <td>0</td>\n",
              "      <td>0</td>\n",
              "      <td>NaN</td>\n",
              "      <td>Kirui</td>\n",
              "      <td>Geoffrey</td>\n",
              "    </tr>\n",
              "    <tr>\n",
              "      <th>1</th>\n",
              "      <td>Rupp, Galen</td>\n",
              "      <td>30</td>\n",
              "      <td>Male</td>\n",
              "      <td>Portland</td>\n",
              "      <td>OR</td>\n",
              "      <td>USA</td>\n",
              "      <td>2:09:58</td>\n",
              "      <td>2</td>\n",
              "      <td>2</td>\n",
              "      <td>0</td>\n",
              "      <td>0</td>\n",
              "      <td>NaN</td>\n",
              "      <td>Rupp</td>\n",
              "      <td>Galen</td>\n",
              "    </tr>\n",
              "    <tr>\n",
              "      <th>2</th>\n",
              "      <td>Osako, Suguru</td>\n",
              "      <td>25</td>\n",
              "      <td>Male</td>\n",
              "      <td>Machida-City</td>\n",
              "      <td>NaN</td>\n",
              "      <td>JPN</td>\n",
              "      <td>2:10:28</td>\n",
              "      <td>3</td>\n",
              "      <td>3</td>\n",
              "      <td>0</td>\n",
              "      <td>0</td>\n",
              "      <td>NaN</td>\n",
              "      <td>Osako</td>\n",
              "      <td>Suguru</td>\n",
              "    </tr>\n",
              "    <tr>\n",
              "      <th>3</th>\n",
              "      <td>Biwott, Shadrack</td>\n",
              "      <td>32</td>\n",
              "      <td>Male</td>\n",
              "      <td>Mammoth Lakes</td>\n",
              "      <td>CA</td>\n",
              "      <td>USA</td>\n",
              "      <td>2:12:08</td>\n",
              "      <td>4</td>\n",
              "      <td>4</td>\n",
              "      <td>0</td>\n",
              "      <td>0</td>\n",
              "      <td>NaN</td>\n",
              "      <td>Biwott</td>\n",
              "      <td>Shadrack</td>\n",
              "    </tr>\n",
              "    <tr>\n",
              "      <th>4</th>\n",
              "      <td>Chebet, Wilson</td>\n",
              "      <td>31</td>\n",
              "      <td>Male</td>\n",
              "      <td>Marakwet</td>\n",
              "      <td>NaN</td>\n",
              "      <td>KEN</td>\n",
              "      <td>2:12:35</td>\n",
              "      <td>5</td>\n",
              "      <td>5</td>\n",
              "      <td>1</td>\n",
              "      <td>0</td>\n",
              "      <td>2015</td>\n",
              "      <td>Chebet</td>\n",
              "      <td>Wilson</td>\n",
              "    </tr>\n",
              "  </tbody>\n",
              "</table>\n",
              "</div>"
            ],
            "text/plain": [
              "               Name  Age   M/F  ... Years Ran First Name Last Name\n",
              "0   Kirui, Geoffrey   24  Male  ...       NaN      Kirui  Geoffrey\n",
              "1       Rupp, Galen   30  Male  ...       NaN       Rupp     Galen\n",
              "2     Osako, Suguru   25  Male  ...       NaN      Osako    Suguru\n",
              "3  Biwott, Shadrack   32  Male  ...       NaN     Biwott  Shadrack\n",
              "4    Chebet, Wilson   31  Male  ...      2015     Chebet    Wilson\n",
              "\n",
              "[5 rows x 14 columns]"
            ]
          },
          "metadata": {
            "tags": []
          },
          "execution_count": 154
        }
      ]
    },
    {
      "cell_type": "code",
      "metadata": {
        "id": "ElTHA1vIGW-h",
        "colab_type": "code",
        "colab": {}
      },
      "source": [
        "# case-insensitive replacements"
      ],
      "execution_count": null,
      "outputs": []
    },
    {
      "cell_type": "code",
      "metadata": {
        "id": "jgXpJl47GexK",
        "colab_type": "code",
        "colab": {
          "base_uri": "https://localhost:8080/"
        },
        "outputId": "917163d0-71fa-4f28-ba8d-a1d56011349a"
      },
      "source": [
        "boston.Country.str.replace('UsA', 'United States', case=False)"
      ],
      "execution_count": null,
      "outputs": [
        {
          "output_type": "execute_result",
          "data": {
            "text/plain": [
              "0                KEN\n",
              "1      United States\n",
              "2                JPN\n",
              "3      United States\n",
              "4                KEN\n",
              "           ...      \n",
              "995    United States\n",
              "996    United States\n",
              "997    United States\n",
              "998    United States\n",
              "999    United States\n",
              "Name: Country, Length: 1000, dtype: object"
            ]
          },
          "metadata": {
            "tags": []
          },
          "execution_count": 156
        }
      ]
    },
    {
      "cell_type": "markdown",
      "metadata": {
        "id": "sQeZ04RBGk0S",
        "colab_type": "text"
      },
      "source": [
        "#### Introduction To Regular Expressions"
      ]
    },
    {
      "cell_type": "code",
      "metadata": {
        "id": "2F8fW8_tWzKL",
        "colab_type": "code",
        "colab": {}
      },
      "source": [
        "# Regular expressions (regex) help us define highly complex text patterns."
      ],
      "execution_count": null,
      "outputs": []
    },
    {
      "cell_type": "code",
      "metadata": {
        "id": "IHul-74cW-nk",
        "colab_type": "code",
        "colab": {}
      },
      "source": [
        "# Regular expressions are not exlusive to python; they are supported by many programming languages."
      ],
      "execution_count": null,
      "outputs": []
    },
    {
      "cell_type": "markdown",
      "metadata": {
        "id": "lZuLLkOeXGhD",
        "colab_type": "text"
      },
      "source": [
        "Our regex playground:\n",
        "> https://regex101.com\n"
      ]
    },
    {
      "cell_type": "markdown",
      "metadata": {
        "id": "GluFA6hVxWNO",
        "colab_type": "text"
      },
      "source": [
        "#### More Regex Concepts"
      ]
    },
    {
      "cell_type": "code",
      "metadata": {
        "id": "XgHy3jnyxY4t",
        "colab_type": "code",
        "colab": {}
      },
      "source": [
        ""
      ],
      "execution_count": null,
      "outputs": []
    },
    {
      "cell_type": "markdown",
      "metadata": {
        "id": "KXnVpvGYxZSA",
        "colab_type": "text"
      },
      "source": [
        "#### How To Approach Regex? "
      ]
    },
    {
      "cell_type": "code",
      "metadata": {
        "id": "s3tWAgp6xciQ",
        "colab_type": "code",
        "colab": {}
      },
      "source": [
        ""
      ],
      "execution_count": null,
      "outputs": []
    },
    {
      "cell_type": "markdown",
      "metadata": {
        "id": "9rCekfEsEhBz",
        "colab_type": "text"
      },
      "source": [
        "#### Is This A Valid Email?"
      ]
    },
    {
      "cell_type": "code",
      "metadata": {
        "id": "XnfhaaOUI_1N",
        "colab_type": "code",
        "colab": {}
      },
      "source": [
        "# Agenda:\n",
        "#   - the re module\n",
        "#   - email regex\n",
        "#   - pitfalls\n",
        "#   - additional resources: https://emailregex.com/"
      ],
      "execution_count": null,
      "outputs": []
    },
    {
      "cell_type": "code",
      "metadata": {
        "id": "63Gdl5TWJkJ6",
        "colab_type": "code",
        "colab": {}
      },
      "source": [
        "import re"
      ],
      "execution_count": null,
      "outputs": []
    },
    {
      "cell_type": "code",
      "metadata": {
        "id": "Mf_9bBAejiME",
        "colab_type": "code",
        "colab": {}
      },
      "source": [
        "pattern = r'w\\s'"
      ],
      "execution_count": null,
      "outputs": []
    },
    {
      "cell_type": "code",
      "metadata": {
        "id": "uwSzMDTtJ2Qs",
        "colab_type": "code",
        "colab": {}
      },
      "source": [
        "pattern_original = r\"\\w\\S*@.*\\w\""
      ],
      "execution_count": null,
      "outputs": []
    },
    {
      "cell_type": "code",
      "metadata": {
        "id": "vt9inDbrMK3g",
        "colab_type": "code",
        "colab": {
          "base_uri": "https://localhost:8080/"
        },
        "outputId": "65b41e34-6f0e-4e50-c401-28ed92ea878c"
      },
      "source": [
        "re.findall(pattern, 'andy@howtopandas.com')"
      ],
      "execution_count": null,
      "outputs": [
        {
          "output_type": "execute_result",
          "data": {
            "text/plain": [
              "[]"
            ]
          },
          "metadata": {
            "tags": []
          },
          "execution_count": 163
        }
      ]
    },
    {
      "cell_type": "code",
      "metadata": {
        "id": "Exuf8dHUMbBc",
        "colab_type": "code",
        "colab": {
          "base_uri": "https://localhost:8080/"
        },
        "outputId": "635a7863-bf3c-49b6-f7d2-18311f4f41d3"
      },
      "source": [
        "re.findall(pattern, 'howtopandas.com')"
      ],
      "execution_count": null,
      "outputs": [
        {
          "output_type": "execute_result",
          "data": {
            "text/plain": [
              "[]"
            ]
          },
          "metadata": {
            "tags": []
          },
          "execution_count": 164
        }
      ]
    },
    {
      "cell_type": "code",
      "metadata": {
        "id": "TOEQV35nMiHU",
        "colab_type": "code",
        "colab": {}
      },
      "source": [
        "# \"andy@gmail.com\" => \"*****@gmail.com\""
      ],
      "execution_count": null,
      "outputs": []
    },
    {
      "cell_type": "code",
      "metadata": {
        "id": "MTnzIrxVMs_s",
        "colab_type": "code",
        "colab": {}
      },
      "source": [
        "# - start with an actually valid email\n",
        "# - capture the domain part of the email\n",
        "# - replace everything except the captured group"
      ],
      "execution_count": null,
      "outputs": []
    },
    {
      "cell_type": "code",
      "metadata": {
        "id": "jAqIz2BfM96R",
        "colab_type": "code",
        "colab": {}
      },
      "source": [
        "email = 'andy@howtopandas.com'"
      ],
      "execution_count": null,
      "outputs": []
    },
    {
      "cell_type": "code",
      "metadata": {
        "id": "23YXDVB2NGrp",
        "colab_type": "code",
        "colab": {}
      },
      "source": [
        "pattern = r'\\w\\S*(@.*\\w)'"
      ],
      "execution_count": null,
      "outputs": []
    },
    {
      "cell_type": "code",
      "metadata": {
        "id": "jk8y9-0YNfNF",
        "colab_type": "code",
        "colab": {
          "base_uri": "https://localhost:8080/"
        },
        "outputId": "5acbdca8-29f2-407a-b824-cefd5b44cb89"
      },
      "source": [
        "re.sub(pattern, r'******\\1', email)"
      ],
      "execution_count": null,
      "outputs": [
        {
          "output_type": "execute_result",
          "data": {
            "text/plain": [
              "'******@howtopandas.com'"
            ]
          },
          "metadata": {
            "tags": []
          },
          "execution_count": 169
        }
      ]
    },
    {
      "cell_type": "code",
      "metadata": {
        "id": "OjtbXcCSN17J",
        "colab_type": "code",
        "colab": {}
      },
      "source": [
        "robust_pattern = re.compile(r\"(^[a-zA-Z0-9_.+-]+@[a-zA-Z0-9-]+\\.[a-zA-Z0-9-.]+$)\")"
      ],
      "execution_count": null,
      "outputs": []
    },
    {
      "cell_type": "code",
      "metadata": {
        "id": "7TqNT3dJOibC",
        "colab_type": "code",
        "colab": {
          "base_uri": "https://localhost:8080/"
        },
        "outputId": "2cc4464e-c90e-4237-b4e3-4604afcfb18b"
      },
      "source": [
        "robust_pattern"
      ],
      "execution_count": null,
      "outputs": [
        {
          "output_type": "execute_result",
          "data": {
            "text/plain": [
              "re.compile(r'(^[a-zA-Z0-9_.+-]+@[a-zA-Z0-9-]+\\.[a-zA-Z0-9-.]+$)', re.UNICODE)"
            ]
          },
          "metadata": {
            "tags": []
          },
          "execution_count": 171
        }
      ]
    },
    {
      "cell_type": "code",
      "metadata": {
        "id": "peSifu44OjCp",
        "colab_type": "code",
        "colab": {}
      },
      "source": [
        "email2 = \"andy@andy@andy.com\""
      ],
      "execution_count": null,
      "outputs": []
    },
    {
      "cell_type": "code",
      "metadata": {
        "id": "6op6tZWcOp1u",
        "colab_type": "code",
        "colab": {
          "base_uri": "https://localhost:8080/"
        },
        "outputId": "147d0fc6-0645-4922-a351-1d027b2ecb1d"
      },
      "source": [
        "re.findall(pattern_original, email2)"
      ],
      "execution_count": null,
      "outputs": [
        {
          "output_type": "execute_result",
          "data": {
            "text/plain": [
              "['andy@andy@andy.com']"
            ]
          },
          "metadata": {
            "tags": []
          },
          "execution_count": 173
        }
      ]
    },
    {
      "cell_type": "code",
      "metadata": {
        "id": "G8hyi-PNOy9w",
        "colab_type": "code",
        "colab": {
          "base_uri": "https://localhost:8080/"
        },
        "outputId": "8d36605f-b01e-4902-b54f-e552d5cbb8c5"
      },
      "source": [
        "re.findall(robust_pattern, email2)"
      ],
      "execution_count": null,
      "outputs": [
        {
          "output_type": "execute_result",
          "data": {
            "text/plain": [
              "[]"
            ]
          },
          "metadata": {
            "tags": []
          },
          "execution_count": 174
        }
      ]
    },
    {
      "cell_type": "markdown",
      "metadata": {
        "id": "ioe_Fpr8QcTq",
        "colab_type": "text"
      },
      "source": [
        "#### BONUS: What's The Point Of re.compile()?"
      ]
    },
    {
      "cell_type": "code",
      "metadata": {
        "id": "UL-fG4kUQhgY",
        "colab_type": "code",
        "colab": {}
      },
      "source": [
        "compiled_pattern = re.compile(r\"(^[a-zA-Z0-9_.+-]+@[a-zA-Z0-9-]+\\.[a-zA-Z0-9-.]+$)\")"
      ],
      "execution_count": null,
      "outputs": []
    },
    {
      "cell_type": "code",
      "metadata": {
        "id": "hX62w5X3Qhpz",
        "colab_type": "code",
        "colab": {}
      },
      "source": [
        "raw_pattern =                 r\"(^[a-zA-Z0-9_.+-]+@[a-zA-Z0-9-]+\\.[a-zA-Z0-9-.]+$)\""
      ],
      "execution_count": null,
      "outputs": []
    },
    {
      "cell_type": "code",
      "metadata": {
        "id": "U3-gM8aTQmYy",
        "colab_type": "code",
        "colab": {}
      },
      "source": [
        "emails = [\"andy@andy@andy.com\", \"andy@howtopandas.com\", \"superinvalid|ha.com\", \"hey@andybek.com\"]"
      ],
      "execution_count": null,
      "outputs": []
    },
    {
      "cell_type": "code",
      "metadata": {
        "id": "TJkrtWaeQtmI",
        "colab_type": "code",
        "colab": {
          "base_uri": "https://localhost:8080/"
        },
        "outputId": "1cf663c8-3a7b-4bd9-c40d-9fdf8bee4a86"
      },
      "source": [
        "[re.match(raw_pattern, email) for email in emails]"
      ],
      "execution_count": null,
      "outputs": [
        {
          "output_type": "execute_result",
          "data": {
            "text/plain": [
              "[None,\n",
              " <_sre.SRE_Match object; span=(0, 20), match='andy@howtopandas.com'>,\n",
              " None,\n",
              " <_sre.SRE_Match object; span=(0, 15), match='hey@andybek.com'>]"
            ]
          },
          "metadata": {
            "tags": []
          },
          "execution_count": 178
        }
      ]
    },
    {
      "cell_type": "code",
      "metadata": {
        "id": "CG0vmItBRDft",
        "colab_type": "code",
        "colab": {
          "base_uri": "https://localhost:8080/"
        },
        "outputId": "b9a752c4-fede-44a6-a7ed-7e076798caf1"
      },
      "source": [
        "[re.match(compiled_pattern, email) for email in emails]"
      ],
      "execution_count": null,
      "outputs": [
        {
          "output_type": "execute_result",
          "data": {
            "text/plain": [
              "[None,\n",
              " <_sre.SRE_Match object; span=(0, 20), match='andy@howtopandas.com'>,\n",
              " None,\n",
              " <_sre.SRE_Match object; span=(0, 15), match='hey@andybek.com'>]"
            ]
          },
          "metadata": {
            "tags": []
          },
          "execution_count": 179
        }
      ]
    },
    {
      "cell_type": "code",
      "metadata": {
        "id": "zThNKCdWRg1w",
        "colab_type": "code",
        "colab": {}
      },
      "source": [
        "# The crux:\n",
        "#  - The difference used to be that re.compile cached the regex\n",
        "#  - Since Python 2+, the pattern is compiled and cached automatically\n",
        "#  - ...for a maximum of 100 regexes, by default\n",
        "#  - If you're working with more than 100 regexes, and accessing them frequently, please compile!"
      ],
      "execution_count": null,
      "outputs": []
    },
    {
      "cell_type": "markdown",
      "metadata": {
        "id": "XdhlA8A5SRhp",
        "colab_type": "text"
      },
      "source": [
        "#### Pandas str contains(), split() And replace() With Regex"
      ]
    },
    {
      "cell_type": "code",
      "metadata": {
        "id": "2OqwCQ8CmFCi",
        "colab_type": "code",
        "colab": {}
      },
      "source": [
        "# Agenda:\n",
        "#  - pandas str methods with regex\n",
        "#     * .contains()\n",
        "#     * .split()\n",
        "#     * .replace()"
      ],
      "execution_count": null,
      "outputs": []
    },
    {
      "cell_type": "code",
      "metadata": {
        "id": "h5MEluwglJLN",
        "colab_type": "code",
        "colab": {
          "base_uri": "https://localhost:8080/"
        },
        "outputId": "a36f18c3-673a-4c66-a57c-e4063e399aef"
      },
      "source": [
        "boston.head()"
      ],
      "execution_count": null,
      "outputs": [
        {
          "output_type": "execute_result",
          "data": {
            "text/html": [
              "<div>\n",
              "<style scoped>\n",
              "    .dataframe tbody tr th:only-of-type {\n",
              "        vertical-align: middle;\n",
              "    }\n",
              "\n",
              "    .dataframe tbody tr th {\n",
              "        vertical-align: top;\n",
              "    }\n",
              "\n",
              "    .dataframe thead th {\n",
              "        text-align: right;\n",
              "    }\n",
              "</style>\n",
              "<table border=\"1\" class=\"dataframe\">\n",
              "  <thead>\n",
              "    <tr style=\"text-align: right;\">\n",
              "      <th></th>\n",
              "      <th>Name</th>\n",
              "      <th>Age</th>\n",
              "      <th>M/F</th>\n",
              "      <th>City</th>\n",
              "      <th>State</th>\n",
              "      <th>Country</th>\n",
              "      <th>Official Time</th>\n",
              "      <th>Overall</th>\n",
              "      <th>Gender</th>\n",
              "      <th>Ran 2015</th>\n",
              "      <th>Ran 2016</th>\n",
              "      <th>Years Ran</th>\n",
              "      <th>First Name</th>\n",
              "      <th>Last Name</th>\n",
              "    </tr>\n",
              "  </thead>\n",
              "  <tbody>\n",
              "    <tr>\n",
              "      <th>0</th>\n",
              "      <td>Kirui, Geoffrey</td>\n",
              "      <td>24</td>\n",
              "      <td>Male</td>\n",
              "      <td>Keringet</td>\n",
              "      <td>NaN</td>\n",
              "      <td>KEN</td>\n",
              "      <td>2:09:37</td>\n",
              "      <td>1</td>\n",
              "      <td>1</td>\n",
              "      <td>0</td>\n",
              "      <td>0</td>\n",
              "      <td>NaN</td>\n",
              "      <td>Kirui</td>\n",
              "      <td>Geoffrey</td>\n",
              "    </tr>\n",
              "    <tr>\n",
              "      <th>1</th>\n",
              "      <td>Rupp, Galen</td>\n",
              "      <td>30</td>\n",
              "      <td>Male</td>\n",
              "      <td>Portland</td>\n",
              "      <td>OR</td>\n",
              "      <td>USA</td>\n",
              "      <td>2:09:58</td>\n",
              "      <td>2</td>\n",
              "      <td>2</td>\n",
              "      <td>0</td>\n",
              "      <td>0</td>\n",
              "      <td>NaN</td>\n",
              "      <td>Rupp</td>\n",
              "      <td>Galen</td>\n",
              "    </tr>\n",
              "    <tr>\n",
              "      <th>2</th>\n",
              "      <td>Osako, Suguru</td>\n",
              "      <td>25</td>\n",
              "      <td>Male</td>\n",
              "      <td>Machida-City</td>\n",
              "      <td>NaN</td>\n",
              "      <td>JPN</td>\n",
              "      <td>2:10:28</td>\n",
              "      <td>3</td>\n",
              "      <td>3</td>\n",
              "      <td>0</td>\n",
              "      <td>0</td>\n",
              "      <td>NaN</td>\n",
              "      <td>Osako</td>\n",
              "      <td>Suguru</td>\n",
              "    </tr>\n",
              "    <tr>\n",
              "      <th>3</th>\n",
              "      <td>Biwott, Shadrack</td>\n",
              "      <td>32</td>\n",
              "      <td>Male</td>\n",
              "      <td>Mammoth Lakes</td>\n",
              "      <td>CA</td>\n",
              "      <td>USA</td>\n",
              "      <td>2:12:08</td>\n",
              "      <td>4</td>\n",
              "      <td>4</td>\n",
              "      <td>0</td>\n",
              "      <td>0</td>\n",
              "      <td>NaN</td>\n",
              "      <td>Biwott</td>\n",
              "      <td>Shadrack</td>\n",
              "    </tr>\n",
              "    <tr>\n",
              "      <th>4</th>\n",
              "      <td>Chebet, Wilson</td>\n",
              "      <td>31</td>\n",
              "      <td>Male</td>\n",
              "      <td>Marakwet</td>\n",
              "      <td>NaN</td>\n",
              "      <td>KEN</td>\n",
              "      <td>2:12:35</td>\n",
              "      <td>5</td>\n",
              "      <td>5</td>\n",
              "      <td>1</td>\n",
              "      <td>0</td>\n",
              "      <td>2015</td>\n",
              "      <td>Chebet</td>\n",
              "      <td>Wilson</td>\n",
              "    </tr>\n",
              "  </tbody>\n",
              "</table>\n",
              "</div>"
            ],
            "text/plain": [
              "               Name  Age   M/F  ... Years Ran First Name Last Name\n",
              "0   Kirui, Geoffrey   24  Male  ...       NaN      Kirui  Geoffrey\n",
              "1       Rupp, Galen   30  Male  ...       NaN       Rupp     Galen\n",
              "2     Osako, Suguru   25  Male  ...       NaN      Osako    Suguru\n",
              "3  Biwott, Shadrack   32  Male  ...       NaN     Biwott  Shadrack\n",
              "4    Chebet, Wilson   31  Male  ...      2015     Chebet    Wilson\n",
              "\n",
              "[5 rows x 14 columns]"
            ]
          },
          "metadata": {
            "tags": []
          },
          "execution_count": 182
        }
      ]
    },
    {
      "cell_type": "code",
      "metadata": {
        "id": "viZzHvUvtcF7",
        "colab_type": "code",
        "colab": {
          "base_uri": "https://localhost:8080/"
        },
        "outputId": "dbf333ca-7466-49b1-8aef-b1a735fc0cad"
      },
      "source": [
        "boston.Name[boston.Name.str.contains('Will')]"
      ],
      "execution_count": null,
      "outputs": [
        {
          "output_type": "execute_result",
          "data": {
            "text/plain": [
              "93            Vanos, William\n",
              "199        Guzick, William F\n",
              "415          Hartje, William\n",
              "429         Adams, William C\n",
              "456              Cunha, Will\n",
              "526            Swenson, Will\n",
              "571    Gates, William E. Jr.\n",
              "711       Swanson, William G\n",
              "814        Williamson, David\n",
              "835             Vargas, Will\n",
              "892             Rivera, Will\n",
              "897      Feldman, William P.\n",
              "936      Decamps, William M.\n",
              "939        Versen, William R\n",
              "996      Williamson, Jerry A\n",
              "Name: Name, dtype: object"
            ]
          },
          "metadata": {
            "tags": []
          },
          "execution_count": 183
        }
      ]
    },
    {
      "cell_type": "code",
      "metadata": {
        "id": "jXSxJT5fvy45",
        "colab_type": "code",
        "colab": {
          "base_uri": "https://localhost:8080/"
        },
        "outputId": "a813c8a3-5fab-43a5-f832-339e67fccdd8"
      },
      "source": [
        "boston.Name[boston.Name.str.contains(r'[wW]ill', regex=True)]"
      ],
      "execution_count": null,
      "outputs": [
        {
          "output_type": "execute_result",
          "data": {
            "text/plain": [
              "93            Vanos, William\n",
              "199        Guzick, William F\n",
              "415          Hartje, William\n",
              "429         Adams, William C\n",
              "456              Cunha, Will\n",
              "526            Swenson, Will\n",
              "571    Gates, William E. Jr.\n",
              "711       Swanson, William G\n",
              "814        Williamson, David\n",
              "835             Vargas, Will\n",
              "892             Rivera, Will\n",
              "897      Feldman, William P.\n",
              "936      Decamps, William M.\n",
              "939        Versen, William R\n",
              "996      Williamson, Jerry A\n",
              "Name: Name, dtype: object"
            ]
          },
          "metadata": {
            "tags": []
          },
          "execution_count": 184
        }
      ]
    },
    {
      "cell_type": "code",
      "metadata": {
        "id": "1Yrta58xwBH5",
        "colab_type": "code",
        "colab": {
          "base_uri": "https://localhost:8080/"
        },
        "outputId": "f1ef795d-a3f4-4524-a722-c609b036149b"
      },
      "source": [
        "# isolate first name Will\n",
        "boston.Name[boston.Name.str.contains(r',\\s[wW]ill$', regex=True)]"
      ],
      "execution_count": null,
      "outputs": [
        {
          "output_type": "execute_result",
          "data": {
            "text/plain": [
              "456      Cunha, Will\n",
              "526    Swenson, Will\n",
              "835     Vargas, Will\n",
              "892     Rivera, Will\n",
              "Name: Name, dtype: object"
            ]
          },
          "metadata": {
            "tags": []
          },
          "execution_count": 185
        }
      ]
    },
    {
      "cell_type": "code",
      "metadata": {
        "id": "fV87NJnawfE8",
        "colab_type": "code",
        "colab": {
          "base_uri": "https://localhost:8080/"
        },
        "outputId": "d22da32e-b2ee-45d7-c1eb-12b32d72880f"
      },
      "source": [
        "boston.Name[boston.Name.str.contains(r',\\s[wW]ill\\b', regex=True)]"
      ],
      "execution_count": null,
      "outputs": [
        {
          "output_type": "execute_result",
          "data": {
            "text/plain": [
              "456      Cunha, Will\n",
              "526    Swenson, Will\n",
              "835     Vargas, Will\n",
              "892     Rivera, Will\n",
              "Name: Name, dtype: object"
            ]
          },
          "metadata": {
            "tags": []
          },
          "execution_count": 186
        }
      ]
    },
    {
      "cell_type": "code",
      "metadata": {
        "id": "Gpcc8jYAxQg_",
        "colab_type": "code",
        "colab": {}
      },
      "source": [
        "boston.iat[835, 0] += ' J.'"
      ],
      "execution_count": null,
      "outputs": []
    },
    {
      "cell_type": "code",
      "metadata": {
        "id": "PFG4IepGxZi0",
        "colab_type": "code",
        "colab": {}
      },
      "source": [
        "# split()"
      ],
      "execution_count": null,
      "outputs": []
    },
    {
      "cell_type": "code",
      "metadata": {
        "id": "Qx2jPh49xp1T",
        "colab_type": "code",
        "colab": {
          "base_uri": "https://localhost:8080/"
        },
        "outputId": "d5cc824e-f0cb-4eea-f4a1-0be593b865f3"
      },
      "source": [
        "boston.Name.str.split(expand=True)"
      ],
      "execution_count": null,
      "outputs": [
        {
          "output_type": "execute_result",
          "data": {
            "text/html": [
              "<div>\n",
              "<style scoped>\n",
              "    .dataframe tbody tr th:only-of-type {\n",
              "        vertical-align: middle;\n",
              "    }\n",
              "\n",
              "    .dataframe tbody tr th {\n",
              "        vertical-align: top;\n",
              "    }\n",
              "\n",
              "    .dataframe thead th {\n",
              "        text-align: right;\n",
              "    }\n",
              "</style>\n",
              "<table border=\"1\" class=\"dataframe\">\n",
              "  <thead>\n",
              "    <tr style=\"text-align: right;\">\n",
              "      <th></th>\n",
              "      <th>0</th>\n",
              "      <th>1</th>\n",
              "      <th>2</th>\n",
              "      <th>3</th>\n",
              "      <th>4</th>\n",
              "    </tr>\n",
              "  </thead>\n",
              "  <tbody>\n",
              "    <tr>\n",
              "      <th>0</th>\n",
              "      <td>Kirui,</td>\n",
              "      <td>Geoffrey</td>\n",
              "      <td>None</td>\n",
              "      <td>None</td>\n",
              "      <td>None</td>\n",
              "    </tr>\n",
              "    <tr>\n",
              "      <th>1</th>\n",
              "      <td>Rupp,</td>\n",
              "      <td>Galen</td>\n",
              "      <td>None</td>\n",
              "      <td>None</td>\n",
              "      <td>None</td>\n",
              "    </tr>\n",
              "    <tr>\n",
              "      <th>2</th>\n",
              "      <td>Osako,</td>\n",
              "      <td>Suguru</td>\n",
              "      <td>None</td>\n",
              "      <td>None</td>\n",
              "      <td>None</td>\n",
              "    </tr>\n",
              "    <tr>\n",
              "      <th>3</th>\n",
              "      <td>Biwott,</td>\n",
              "      <td>Shadrack</td>\n",
              "      <td>None</td>\n",
              "      <td>None</td>\n",
              "      <td>None</td>\n",
              "    </tr>\n",
              "    <tr>\n",
              "      <th>4</th>\n",
              "      <td>Chebet,</td>\n",
              "      <td>Wilson</td>\n",
              "      <td>None</td>\n",
              "      <td>None</td>\n",
              "      <td>None</td>\n",
              "    </tr>\n",
              "    <tr>\n",
              "      <th>...</th>\n",
              "      <td>...</td>\n",
              "      <td>...</td>\n",
              "      <td>...</td>\n",
              "      <td>...</td>\n",
              "      <td>...</td>\n",
              "    </tr>\n",
              "    <tr>\n",
              "      <th>995</th>\n",
              "      <td>Larosa,</td>\n",
              "      <td>Mark</td>\n",
              "      <td>None</td>\n",
              "      <td>None</td>\n",
              "      <td>None</td>\n",
              "    </tr>\n",
              "    <tr>\n",
              "      <th>996</th>\n",
              "      <td>Williamson,</td>\n",
              "      <td>Jerry</td>\n",
              "      <td>A</td>\n",
              "      <td>None</td>\n",
              "      <td>None</td>\n",
              "    </tr>\n",
              "    <tr>\n",
              "      <th>997</th>\n",
              "      <td>Mccue,</td>\n",
              "      <td>Daniel</td>\n",
              "      <td>T</td>\n",
              "      <td>None</td>\n",
              "      <td>None</td>\n",
              "    </tr>\n",
              "    <tr>\n",
              "      <th>998</th>\n",
              "      <td>Larosa,</td>\n",
              "      <td>John</td>\n",
              "      <td>None</td>\n",
              "      <td>None</td>\n",
              "      <td>None</td>\n",
              "    </tr>\n",
              "    <tr>\n",
              "      <th>999</th>\n",
              "      <td>Sanchez,</td>\n",
              "      <td>Sam</td>\n",
              "      <td>R</td>\n",
              "      <td>None</td>\n",
              "      <td>None</td>\n",
              "    </tr>\n",
              "  </tbody>\n",
              "</table>\n",
              "<p>1000 rows × 5 columns</p>\n",
              "</div>"
            ],
            "text/plain": [
              "               0         1     2     3     4\n",
              "0         Kirui,  Geoffrey  None  None  None\n",
              "1          Rupp,     Galen  None  None  None\n",
              "2         Osako,    Suguru  None  None  None\n",
              "3        Biwott,  Shadrack  None  None  None\n",
              "4        Chebet,    Wilson  None  None  None\n",
              "..           ...       ...   ...   ...   ...\n",
              "995      Larosa,      Mark  None  None  None\n",
              "996  Williamson,     Jerry     A  None  None\n",
              "997       Mccue,    Daniel     T  None  None\n",
              "998      Larosa,      John  None  None  None\n",
              "999     Sanchez,       Sam     R  None  None\n",
              "\n",
              "[1000 rows x 5 columns]"
            ]
          },
          "metadata": {
            "tags": []
          },
          "execution_count": 189
        }
      ]
    },
    {
      "cell_type": "code",
      "metadata": {
        "id": "jzHgxy_7xroG",
        "colab_type": "code",
        "colab": {
          "base_uri": "https://localhost:8080/"
        },
        "outputId": "13bac637-af5a-4bbd-94c4-c4bbd9a844dd"
      },
      "source": [
        "boston.Name.str.split(r'\\s' ,expand=True)"
      ],
      "execution_count": null,
      "outputs": [
        {
          "output_type": "execute_result",
          "data": {
            "text/html": [
              "<div>\n",
              "<style scoped>\n",
              "    .dataframe tbody tr th:only-of-type {\n",
              "        vertical-align: middle;\n",
              "    }\n",
              "\n",
              "    .dataframe tbody tr th {\n",
              "        vertical-align: top;\n",
              "    }\n",
              "\n",
              "    .dataframe thead th {\n",
              "        text-align: right;\n",
              "    }\n",
              "</style>\n",
              "<table border=\"1\" class=\"dataframe\">\n",
              "  <thead>\n",
              "    <tr style=\"text-align: right;\">\n",
              "      <th></th>\n",
              "      <th>0</th>\n",
              "      <th>1</th>\n",
              "      <th>2</th>\n",
              "      <th>3</th>\n",
              "      <th>4</th>\n",
              "    </tr>\n",
              "  </thead>\n",
              "  <tbody>\n",
              "    <tr>\n",
              "      <th>0</th>\n",
              "      <td>Kirui,</td>\n",
              "      <td>Geoffrey</td>\n",
              "      <td>None</td>\n",
              "      <td>None</td>\n",
              "      <td>None</td>\n",
              "    </tr>\n",
              "    <tr>\n",
              "      <th>1</th>\n",
              "      <td>Rupp,</td>\n",
              "      <td>Galen</td>\n",
              "      <td>None</td>\n",
              "      <td>None</td>\n",
              "      <td>None</td>\n",
              "    </tr>\n",
              "    <tr>\n",
              "      <th>2</th>\n",
              "      <td>Osako,</td>\n",
              "      <td>Suguru</td>\n",
              "      <td>None</td>\n",
              "      <td>None</td>\n",
              "      <td>None</td>\n",
              "    </tr>\n",
              "    <tr>\n",
              "      <th>3</th>\n",
              "      <td>Biwott,</td>\n",
              "      <td>Shadrack</td>\n",
              "      <td>None</td>\n",
              "      <td>None</td>\n",
              "      <td>None</td>\n",
              "    </tr>\n",
              "    <tr>\n",
              "      <th>4</th>\n",
              "      <td>Chebet,</td>\n",
              "      <td>Wilson</td>\n",
              "      <td>None</td>\n",
              "      <td>None</td>\n",
              "      <td>None</td>\n",
              "    </tr>\n",
              "    <tr>\n",
              "      <th>...</th>\n",
              "      <td>...</td>\n",
              "      <td>...</td>\n",
              "      <td>...</td>\n",
              "      <td>...</td>\n",
              "      <td>...</td>\n",
              "    </tr>\n",
              "    <tr>\n",
              "      <th>995</th>\n",
              "      <td>Larosa,</td>\n",
              "      <td>Mark</td>\n",
              "      <td>None</td>\n",
              "      <td>None</td>\n",
              "      <td>None</td>\n",
              "    </tr>\n",
              "    <tr>\n",
              "      <th>996</th>\n",
              "      <td>Williamson,</td>\n",
              "      <td>Jerry</td>\n",
              "      <td>A</td>\n",
              "      <td>None</td>\n",
              "      <td>None</td>\n",
              "    </tr>\n",
              "    <tr>\n",
              "      <th>997</th>\n",
              "      <td>Mccue,</td>\n",
              "      <td>Daniel</td>\n",
              "      <td>T</td>\n",
              "      <td>None</td>\n",
              "      <td>None</td>\n",
              "    </tr>\n",
              "    <tr>\n",
              "      <th>998</th>\n",
              "      <td>Larosa,</td>\n",
              "      <td>John</td>\n",
              "      <td>None</td>\n",
              "      <td>None</td>\n",
              "      <td>None</td>\n",
              "    </tr>\n",
              "    <tr>\n",
              "      <th>999</th>\n",
              "      <td>Sanchez,</td>\n",
              "      <td>Sam</td>\n",
              "      <td>R</td>\n",
              "      <td>None</td>\n",
              "      <td>None</td>\n",
              "    </tr>\n",
              "  </tbody>\n",
              "</table>\n",
              "<p>1000 rows × 5 columns</p>\n",
              "</div>"
            ],
            "text/plain": [
              "               0         1     2     3     4\n",
              "0         Kirui,  Geoffrey  None  None  None\n",
              "1          Rupp,     Galen  None  None  None\n",
              "2         Osako,    Suguru  None  None  None\n",
              "3        Biwott,  Shadrack  None  None  None\n",
              "4        Chebet,    Wilson  None  None  None\n",
              "..           ...       ...   ...   ...   ...\n",
              "995      Larosa,      Mark  None  None  None\n",
              "996  Williamson,     Jerry     A  None  None\n",
              "997       Mccue,    Daniel     T  None  None\n",
              "998      Larosa,      John  None  None  None\n",
              "999     Sanchez,       Sam     R  None  None\n",
              "\n",
              "[1000 rows x 5 columns]"
            ]
          },
          "metadata": {
            "tags": []
          },
          "execution_count": 190
        }
      ]
    },
    {
      "cell_type": "code",
      "metadata": {
        "id": "TPYd5OVpxxe-",
        "colab_type": "code",
        "colab": {}
      },
      "source": [
        "# replace()"
      ],
      "execution_count": null,
      "outputs": []
    },
    {
      "cell_type": "code",
      "metadata": {
        "id": "y_nBrpe7x7BX",
        "colab_type": "code",
        "colab": {
          "base_uri": "https://localhost:8080/"
        },
        "outputId": "8c2f6083-e9c7-408c-df06-8e0f4370c9af"
      },
      "source": [
        "boston.head()"
      ],
      "execution_count": null,
      "outputs": [
        {
          "output_type": "execute_result",
          "data": {
            "text/html": [
              "<div>\n",
              "<style scoped>\n",
              "    .dataframe tbody tr th:only-of-type {\n",
              "        vertical-align: middle;\n",
              "    }\n",
              "\n",
              "    .dataframe tbody tr th {\n",
              "        vertical-align: top;\n",
              "    }\n",
              "\n",
              "    .dataframe thead th {\n",
              "        text-align: right;\n",
              "    }\n",
              "</style>\n",
              "<table border=\"1\" class=\"dataframe\">\n",
              "  <thead>\n",
              "    <tr style=\"text-align: right;\">\n",
              "      <th></th>\n",
              "      <th>Name</th>\n",
              "      <th>Age</th>\n",
              "      <th>M/F</th>\n",
              "      <th>City</th>\n",
              "      <th>State</th>\n",
              "      <th>Country</th>\n",
              "      <th>Official Time</th>\n",
              "      <th>Overall</th>\n",
              "      <th>Gender</th>\n",
              "      <th>Ran 2015</th>\n",
              "      <th>Ran 2016</th>\n",
              "      <th>Years Ran</th>\n",
              "      <th>First Name</th>\n",
              "      <th>Last Name</th>\n",
              "    </tr>\n",
              "  </thead>\n",
              "  <tbody>\n",
              "    <tr>\n",
              "      <th>0</th>\n",
              "      <td>Kirui, Geoffrey</td>\n",
              "      <td>24</td>\n",
              "      <td>Male</td>\n",
              "      <td>Keringet</td>\n",
              "      <td>NaN</td>\n",
              "      <td>KEN</td>\n",
              "      <td>2:09:37</td>\n",
              "      <td>1</td>\n",
              "      <td>1</td>\n",
              "      <td>0</td>\n",
              "      <td>0</td>\n",
              "      <td>NaN</td>\n",
              "      <td>Kirui</td>\n",
              "      <td>Geoffrey</td>\n",
              "    </tr>\n",
              "    <tr>\n",
              "      <th>1</th>\n",
              "      <td>Rupp, Galen</td>\n",
              "      <td>30</td>\n",
              "      <td>Male</td>\n",
              "      <td>Portland</td>\n",
              "      <td>OR</td>\n",
              "      <td>USA</td>\n",
              "      <td>2:09:58</td>\n",
              "      <td>2</td>\n",
              "      <td>2</td>\n",
              "      <td>0</td>\n",
              "      <td>0</td>\n",
              "      <td>NaN</td>\n",
              "      <td>Rupp</td>\n",
              "      <td>Galen</td>\n",
              "    </tr>\n",
              "    <tr>\n",
              "      <th>2</th>\n",
              "      <td>Osako, Suguru</td>\n",
              "      <td>25</td>\n",
              "      <td>Male</td>\n",
              "      <td>Machida-City</td>\n",
              "      <td>NaN</td>\n",
              "      <td>JPN</td>\n",
              "      <td>2:10:28</td>\n",
              "      <td>3</td>\n",
              "      <td>3</td>\n",
              "      <td>0</td>\n",
              "      <td>0</td>\n",
              "      <td>NaN</td>\n",
              "      <td>Osako</td>\n",
              "      <td>Suguru</td>\n",
              "    </tr>\n",
              "    <tr>\n",
              "      <th>3</th>\n",
              "      <td>Biwott, Shadrack</td>\n",
              "      <td>32</td>\n",
              "      <td>Male</td>\n",
              "      <td>Mammoth Lakes</td>\n",
              "      <td>CA</td>\n",
              "      <td>USA</td>\n",
              "      <td>2:12:08</td>\n",
              "      <td>4</td>\n",
              "      <td>4</td>\n",
              "      <td>0</td>\n",
              "      <td>0</td>\n",
              "      <td>NaN</td>\n",
              "      <td>Biwott</td>\n",
              "      <td>Shadrack</td>\n",
              "    </tr>\n",
              "    <tr>\n",
              "      <th>4</th>\n",
              "      <td>Chebet, Wilson</td>\n",
              "      <td>31</td>\n",
              "      <td>Male</td>\n",
              "      <td>Marakwet</td>\n",
              "      <td>NaN</td>\n",
              "      <td>KEN</td>\n",
              "      <td>2:12:35</td>\n",
              "      <td>5</td>\n",
              "      <td>5</td>\n",
              "      <td>1</td>\n",
              "      <td>0</td>\n",
              "      <td>2015</td>\n",
              "      <td>Chebet</td>\n",
              "      <td>Wilson</td>\n",
              "    </tr>\n",
              "  </tbody>\n",
              "</table>\n",
              "</div>"
            ],
            "text/plain": [
              "               Name  Age   M/F  ... Years Ran First Name Last Name\n",
              "0   Kirui, Geoffrey   24  Male  ...       NaN      Kirui  Geoffrey\n",
              "1       Rupp, Galen   30  Male  ...       NaN       Rupp     Galen\n",
              "2     Osako, Suguru   25  Male  ...       NaN      Osako    Suguru\n",
              "3  Biwott, Shadrack   32  Male  ...       NaN     Biwott  Shadrack\n",
              "4    Chebet, Wilson   31  Male  ...      2015     Chebet    Wilson\n",
              "\n",
              "[5 rows x 14 columns]"
            ]
          },
          "metadata": {
            "tags": []
          },
          "execution_count": 192
        }
      ]
    },
    {
      "cell_type": "code",
      "metadata": {
        "id": "grXTASAJx9Pq",
        "colab_type": "code",
        "colab": {
          "base_uri": "https://localhost:8080/"
        },
        "outputId": "5de14f33-af6f-42f2-a6cc-3d8ee9696a06"
      },
      "source": [
        "boston['Official Time'].head()"
      ],
      "execution_count": null,
      "outputs": [
        {
          "output_type": "execute_result",
          "data": {
            "text/plain": [
              "0    2:09:37\n",
              "1    2:09:58\n",
              "2    2:10:28\n",
              "3    2:12:08\n",
              "4    2:12:35\n",
              "Name: Official Time, dtype: object"
            ]
          },
          "metadata": {
            "tags": []
          },
          "execution_count": 193
        }
      ]
    },
    {
      "cell_type": "code",
      "metadata": {
        "id": "CfhN-SThyGhk",
        "colab_type": "code",
        "colab": {}
      },
      "source": [
        "# 2:09:37 -> '2 hours, 9 minutes, and 37 second'"
      ],
      "execution_count": null,
      "outputs": []
    },
    {
      "cell_type": "code",
      "metadata": {
        "id": "nG4Yhy7zyLhP",
        "colab_type": "code",
        "colab": {}
      },
      "source": [
        "# previously: andy@howtopandas.com -> ****@howtopandas.com"
      ],
      "execution_count": null,
      "outputs": []
    },
    {
      "cell_type": "code",
      "metadata": {
        "id": "80hhFe2NyR6t",
        "colab_type": "code",
        "colab": {
          "base_uri": "https://localhost:8080/"
        },
        "outputId": "6c7bdd84-89e1-4654-d878-a13aa6c07a60"
      },
      "source": [
        "boston['Official Time'].str.replace(r'(\\d+):(\\d+):(\\d+)', r'\\1 hours, \\2 minutes, and \\3 seconds')"
      ],
      "execution_count": null,
      "outputs": [
        {
          "output_type": "execute_result",
          "data": {
            "text/plain": [
              "0      2 hours, 09 minutes, and 37 seconds\n",
              "1      2 hours, 09 minutes, and 58 seconds\n",
              "2      2 hours, 10 minutes, and 28 seconds\n",
              "3      2 hours, 12 minutes, and 08 seconds\n",
              "4      2 hours, 12 minutes, and 35 seconds\n",
              "                      ...                 \n",
              "995    2 hours, 56 minutes, and 06 seconds\n",
              "996    2 hours, 56 minutes, and 06 seconds\n",
              "997    2 hours, 56 minutes, and 06 seconds\n",
              "998    2 hours, 56 minutes, and 07 seconds\n",
              "999    2 hours, 56 minutes, and 08 seconds\n",
              "Name: Official Time, Length: 1000, dtype: object"
            ]
          },
          "metadata": {
            "tags": []
          },
          "execution_count": 196
        }
      ]
    },
    {
      "cell_type": "code",
      "metadata": {
        "id": "MKnxbQ2Uyax4",
        "colab_type": "code",
        "colab": {}
      },
      "source": [
        "# boston['Official Time'] = .... ^"
      ],
      "execution_count": null,
      "outputs": []
    },
    {
      "cell_type": "markdown",
      "metadata": {
        "id": "67GbzHgjy3oF",
        "colab_type": "text"
      },
      "source": [
        "#### Skill Challenge"
      ]
    },
    {
      "cell_type": "markdown",
      "metadata": {
        "id": "QbBht_oHzyao",
        "colab_type": "text"
      },
      "source": [
        "###### **1.**"
      ]
    },
    {
      "cell_type": "markdown",
      "metadata": {
        "id": "87AP0YXf0fsI",
        "colab_type": "text"
      },
      "source": [
        "Split the *Official Time* into three separate columns; one each for hours, minutes, and seconds. Store this dataframe in a variable called *final_times*."
      ]
    },
    {
      "cell_type": "markdown",
      "metadata": {
        "id": "M8HLGj8w0gM1",
        "colab_type": "text"
      },
      "source": [
        "###### **2.**"
      ]
    },
    {
      "cell_type": "markdown",
      "metadata": {
        "id": "GiUNG_bo0iQp",
        "colab_type": "text"
      },
      "source": [
        "In the *final_times* dataframe, create a new column called total that contains the total time in seconds.\n",
        "\n",
        "Add the *total* column to the *boston* dataframe.\n",
        "\n",
        "For example: a run time of 2:09:37 would be shown on the total column as 7777.\n",
        "\n",
        "    2 hours x 60 minutes x 60 seconds\n",
        "    +9 minutes x 60 seconds\n",
        "    +37 seconds\n",
        "\n",
        "7,777 seconds"
      ]
    },
    {
      "cell_type": "markdown",
      "metadata": {
        "id": "-y9OInX80mqn",
        "colab_type": "text"
      },
      "source": [
        "###### **3.**"
      ]
    },
    {
      "cell_type": "markdown",
      "metadata": {
        "id": "tsKQ-yJv0oeo",
        "colab_type": "text"
      },
      "source": [
        "Do the runners in the *boston* dataset who also ran in 2016 have a higher or lower average time?"
      ]
    },
    {
      "cell_type": "markdown",
      "metadata": {
        "id": "MaEu7dEr4cmK",
        "colab_type": "text"
      },
      "source": [
        "#### Solution"
      ]
    },
    {
      "cell_type": "code",
      "metadata": {
        "id": "ZmiVCMhh6RG2",
        "colab_type": "code",
        "colab": {
          "base_uri": "https://localhost:8080/"
        },
        "outputId": "dc298cb6-e43b-42ec-cb12-07d20ca7c578"
      },
      "source": [
        "boston.head(3)"
      ],
      "execution_count": null,
      "outputs": [
        {
          "output_type": "execute_result",
          "data": {
            "text/html": [
              "<div>\n",
              "<style scoped>\n",
              "    .dataframe tbody tr th:only-of-type {\n",
              "        vertical-align: middle;\n",
              "    }\n",
              "\n",
              "    .dataframe tbody tr th {\n",
              "        vertical-align: top;\n",
              "    }\n",
              "\n",
              "    .dataframe thead th {\n",
              "        text-align: right;\n",
              "    }\n",
              "</style>\n",
              "<table border=\"1\" class=\"dataframe\">\n",
              "  <thead>\n",
              "    <tr style=\"text-align: right;\">\n",
              "      <th></th>\n",
              "      <th>Name</th>\n",
              "      <th>Age</th>\n",
              "      <th>M/F</th>\n",
              "      <th>City</th>\n",
              "      <th>State</th>\n",
              "      <th>Country</th>\n",
              "      <th>Official Time</th>\n",
              "      <th>Overall</th>\n",
              "      <th>Gender</th>\n",
              "      <th>Ran 2015</th>\n",
              "      <th>Ran 2016</th>\n",
              "      <th>Years Ran</th>\n",
              "      <th>First Name</th>\n",
              "      <th>Last Name</th>\n",
              "    </tr>\n",
              "  </thead>\n",
              "  <tbody>\n",
              "    <tr>\n",
              "      <th>0</th>\n",
              "      <td>Kirui, Geoffrey</td>\n",
              "      <td>24</td>\n",
              "      <td>Male</td>\n",
              "      <td>Keringet</td>\n",
              "      <td>NaN</td>\n",
              "      <td>KEN</td>\n",
              "      <td>2:09:37</td>\n",
              "      <td>1</td>\n",
              "      <td>1</td>\n",
              "      <td>0</td>\n",
              "      <td>0</td>\n",
              "      <td>NaN</td>\n",
              "      <td>Kirui</td>\n",
              "      <td>Geoffrey</td>\n",
              "    </tr>\n",
              "    <tr>\n",
              "      <th>1</th>\n",
              "      <td>Rupp, Galen</td>\n",
              "      <td>30</td>\n",
              "      <td>Male</td>\n",
              "      <td>Portland</td>\n",
              "      <td>OR</td>\n",
              "      <td>USA</td>\n",
              "      <td>2:09:58</td>\n",
              "      <td>2</td>\n",
              "      <td>2</td>\n",
              "      <td>0</td>\n",
              "      <td>0</td>\n",
              "      <td>NaN</td>\n",
              "      <td>Rupp</td>\n",
              "      <td>Galen</td>\n",
              "    </tr>\n",
              "    <tr>\n",
              "      <th>2</th>\n",
              "      <td>Osako, Suguru</td>\n",
              "      <td>25</td>\n",
              "      <td>Male</td>\n",
              "      <td>Machida-City</td>\n",
              "      <td>NaN</td>\n",
              "      <td>JPN</td>\n",
              "      <td>2:10:28</td>\n",
              "      <td>3</td>\n",
              "      <td>3</td>\n",
              "      <td>0</td>\n",
              "      <td>0</td>\n",
              "      <td>NaN</td>\n",
              "      <td>Osako</td>\n",
              "      <td>Suguru</td>\n",
              "    </tr>\n",
              "  </tbody>\n",
              "</table>\n",
              "</div>"
            ],
            "text/plain": [
              "              Name  Age   M/F  ... Years Ran First Name Last Name\n",
              "0  Kirui, Geoffrey   24  Male  ...       NaN      Kirui  Geoffrey\n",
              "1      Rupp, Galen   30  Male  ...       NaN       Rupp     Galen\n",
              "2    Osako, Suguru   25  Male  ...       NaN      Osako    Suguru\n",
              "\n",
              "[3 rows x 14 columns]"
            ]
          },
          "metadata": {
            "tags": []
          },
          "execution_count": 198
        }
      ]
    },
    {
      "cell_type": "code",
      "metadata": {
        "id": "hYuER0ba4eGw",
        "colab_type": "code",
        "colab": {}
      },
      "source": [
        "# 1\n",
        "\n",
        "final_times = boston['Official Time'].str.split(':', expand=True)"
      ],
      "execution_count": null,
      "outputs": []
    },
    {
      "cell_type": "code",
      "metadata": {
        "id": "dosLXI3e6Lu-",
        "colab_type": "code",
        "colab": {
          "base_uri": "https://localhost:8080/"
        },
        "outputId": "9df099e3-a64d-4d48-fd26-7c965d528735"
      },
      "source": [
        "final_times.head()"
      ],
      "execution_count": null,
      "outputs": [
        {
          "output_type": "execute_result",
          "data": {
            "text/html": [
              "<div>\n",
              "<style scoped>\n",
              "    .dataframe tbody tr th:only-of-type {\n",
              "        vertical-align: middle;\n",
              "    }\n",
              "\n",
              "    .dataframe tbody tr th {\n",
              "        vertical-align: top;\n",
              "    }\n",
              "\n",
              "    .dataframe thead th {\n",
              "        text-align: right;\n",
              "    }\n",
              "</style>\n",
              "<table border=\"1\" class=\"dataframe\">\n",
              "  <thead>\n",
              "    <tr style=\"text-align: right;\">\n",
              "      <th></th>\n",
              "      <th>0</th>\n",
              "      <th>1</th>\n",
              "      <th>2</th>\n",
              "    </tr>\n",
              "  </thead>\n",
              "  <tbody>\n",
              "    <tr>\n",
              "      <th>0</th>\n",
              "      <td>2</td>\n",
              "      <td>09</td>\n",
              "      <td>37</td>\n",
              "    </tr>\n",
              "    <tr>\n",
              "      <th>1</th>\n",
              "      <td>2</td>\n",
              "      <td>09</td>\n",
              "      <td>58</td>\n",
              "    </tr>\n",
              "    <tr>\n",
              "      <th>2</th>\n",
              "      <td>2</td>\n",
              "      <td>10</td>\n",
              "      <td>28</td>\n",
              "    </tr>\n",
              "    <tr>\n",
              "      <th>3</th>\n",
              "      <td>2</td>\n",
              "      <td>12</td>\n",
              "      <td>08</td>\n",
              "    </tr>\n",
              "    <tr>\n",
              "      <th>4</th>\n",
              "      <td>2</td>\n",
              "      <td>12</td>\n",
              "      <td>35</td>\n",
              "    </tr>\n",
              "  </tbody>\n",
              "</table>\n",
              "</div>"
            ],
            "text/plain": [
              "   0   1   2\n",
              "0  2  09  37\n",
              "1  2  09  58\n",
              "2  2  10  28\n",
              "3  2  12  08\n",
              "4  2  12  35"
            ]
          },
          "metadata": {
            "tags": []
          },
          "execution_count": 200
        }
      ]
    },
    {
      "cell_type": "code",
      "metadata": {
        "id": "-dyfj2ls6VO6",
        "colab_type": "code",
        "colab": {}
      },
      "source": [
        "# 2"
      ],
      "execution_count": null,
      "outputs": []
    },
    {
      "cell_type": "code",
      "metadata": {
        "id": "bg6XXZjJ6bZY",
        "colab_type": "code",
        "colab": {
          "base_uri": "https://localhost:8080/"
        },
        "outputId": "c62aaff8-594e-49e1-e071-494eadea65be"
      },
      "source": [
        "final_times.info()"
      ],
      "execution_count": null,
      "outputs": [
        {
          "output_type": "stream",
          "text": [
            "<class 'pandas.core.frame.DataFrame'>\n",
            "RangeIndex: 1000 entries, 0 to 999\n",
            "Data columns (total 3 columns):\n",
            " #   Column  Non-Null Count  Dtype \n",
            "---  ------  --------------  ----- \n",
            " 0   0       1000 non-null   object\n",
            " 1   1       1000 non-null   object\n",
            " 2   2       1000 non-null   object\n",
            "dtypes: object(3)\n",
            "memory usage: 23.6+ KB\n"
          ],
          "name": "stdout"
        }
      ]
    },
    {
      "cell_type": "code",
      "metadata": {
        "id": "tnuUQAGZ6f9e",
        "colab_type": "code",
        "colab": {
          "base_uri": "https://localhost:8080/"
        },
        "outputId": "c5ba755c-15c1-4871-8963-4d4babc3c922"
      },
      "source": [
        "final_times[0].astype(int) * 60"
      ],
      "execution_count": null,
      "outputs": [
        {
          "output_type": "execute_result",
          "data": {
            "text/plain": [
              "0      120\n",
              "1      120\n",
              "2      120\n",
              "3      120\n",
              "4      120\n",
              "      ... \n",
              "995    120\n",
              "996    120\n",
              "997    120\n",
              "998    120\n",
              "999    120\n",
              "Name: 0, Length: 1000, dtype: int64"
            ]
          },
          "metadata": {
            "tags": []
          },
          "execution_count": 203
        }
      ]
    },
    {
      "cell_type": "code",
      "metadata": {
        "id": "m0Dkt1Gl6ign",
        "colab_type": "code",
        "colab": {
          "base_uri": "https://localhost:8080/"
        },
        "outputId": "6bfd6224-fbd6-4921-f498-c36022dfb42c"
      },
      "source": [
        "'Andy' * 9"
      ],
      "execution_count": null,
      "outputs": [
        {
          "output_type": "execute_result",
          "data": {
            "text/plain": [
              "'AndyAndyAndyAndyAndyAndyAndyAndyAndy'"
            ]
          },
          "metadata": {
            "tags": []
          },
          "execution_count": 204
        }
      ]
    },
    {
      "cell_type": "code",
      "metadata": {
        "id": "YYbeWcn46_U6",
        "colab_type": "code",
        "colab": {
          "base_uri": "https://localhost:8080/"
        },
        "outputId": "04374134-e288-4e6d-d8c0-b209327cba67"
      },
      "source": [
        "boston.head(3)"
      ],
      "execution_count": null,
      "outputs": [
        {
          "output_type": "execute_result",
          "data": {
            "text/html": [
              "<div>\n",
              "<style scoped>\n",
              "    .dataframe tbody tr th:only-of-type {\n",
              "        vertical-align: middle;\n",
              "    }\n",
              "\n",
              "    .dataframe tbody tr th {\n",
              "        vertical-align: top;\n",
              "    }\n",
              "\n",
              "    .dataframe thead th {\n",
              "        text-align: right;\n",
              "    }\n",
              "</style>\n",
              "<table border=\"1\" class=\"dataframe\">\n",
              "  <thead>\n",
              "    <tr style=\"text-align: right;\">\n",
              "      <th></th>\n",
              "      <th>Name</th>\n",
              "      <th>Age</th>\n",
              "      <th>M/F</th>\n",
              "      <th>City</th>\n",
              "      <th>State</th>\n",
              "      <th>Country</th>\n",
              "      <th>Official Time</th>\n",
              "      <th>Overall</th>\n",
              "      <th>Gender</th>\n",
              "      <th>Ran 2015</th>\n",
              "      <th>Ran 2016</th>\n",
              "      <th>Years Ran</th>\n",
              "      <th>First Name</th>\n",
              "      <th>Last Name</th>\n",
              "    </tr>\n",
              "  </thead>\n",
              "  <tbody>\n",
              "    <tr>\n",
              "      <th>0</th>\n",
              "      <td>Kirui, Geoffrey</td>\n",
              "      <td>24</td>\n",
              "      <td>Male</td>\n",
              "      <td>Keringet</td>\n",
              "      <td>NaN</td>\n",
              "      <td>KEN</td>\n",
              "      <td>2:09:37</td>\n",
              "      <td>1</td>\n",
              "      <td>1</td>\n",
              "      <td>0</td>\n",
              "      <td>0</td>\n",
              "      <td>NaN</td>\n",
              "      <td>Kirui</td>\n",
              "      <td>Geoffrey</td>\n",
              "    </tr>\n",
              "    <tr>\n",
              "      <th>1</th>\n",
              "      <td>Rupp, Galen</td>\n",
              "      <td>30</td>\n",
              "      <td>Male</td>\n",
              "      <td>Portland</td>\n",
              "      <td>OR</td>\n",
              "      <td>USA</td>\n",
              "      <td>2:09:58</td>\n",
              "      <td>2</td>\n",
              "      <td>2</td>\n",
              "      <td>0</td>\n",
              "      <td>0</td>\n",
              "      <td>NaN</td>\n",
              "      <td>Rupp</td>\n",
              "      <td>Galen</td>\n",
              "    </tr>\n",
              "    <tr>\n",
              "      <th>2</th>\n",
              "      <td>Osako, Suguru</td>\n",
              "      <td>25</td>\n",
              "      <td>Male</td>\n",
              "      <td>Machida-City</td>\n",
              "      <td>NaN</td>\n",
              "      <td>JPN</td>\n",
              "      <td>2:10:28</td>\n",
              "      <td>3</td>\n",
              "      <td>3</td>\n",
              "      <td>0</td>\n",
              "      <td>0</td>\n",
              "      <td>NaN</td>\n",
              "      <td>Osako</td>\n",
              "      <td>Suguru</td>\n",
              "    </tr>\n",
              "  </tbody>\n",
              "</table>\n",
              "</div>"
            ],
            "text/plain": [
              "              Name  Age   M/F  ... Years Ran First Name Last Name\n",
              "0  Kirui, Geoffrey   24  Male  ...       NaN      Kirui  Geoffrey\n",
              "1      Rupp, Galen   30  Male  ...       NaN       Rupp     Galen\n",
              "2    Osako, Suguru   25  Male  ...       NaN      Osako    Suguru\n",
              "\n",
              "[3 rows x 14 columns]"
            ]
          },
          "metadata": {
            "tags": []
          },
          "execution_count": 205
        }
      ]
    },
    {
      "cell_type": "code",
      "metadata": {
        "id": "NFp5UtuQ6mRX",
        "colab_type": "code",
        "colab": {
          "base_uri": "https://localhost:8080/"
        },
        "outputId": "09c7ab25-7c66-4e57-efc4-87d57c02543f"
      },
      "source": [
        "# approach 1\n",
        "final_times[0].astype(int) * 3600 + final_times[1].astype(int) * 60 + final_times[2].astype(int)"
      ],
      "execution_count": null,
      "outputs": [
        {
          "output_type": "execute_result",
          "data": {
            "text/plain": [
              "0       7777\n",
              "1       7798\n",
              "2       7828\n",
              "3       7928\n",
              "4       7955\n",
              "       ...  \n",
              "995    10566\n",
              "996    10566\n",
              "997    10566\n",
              "998    10567\n",
              "999    10568\n",
              "Length: 1000, dtype: int64"
            ]
          },
          "metadata": {
            "tags": []
          },
          "execution_count": 206
        }
      ]
    },
    {
      "cell_type": "code",
      "metadata": {
        "id": "K9PykeGS7Fuo",
        "colab_type": "code",
        "colab": {
          "base_uri": "https://localhost:8080/"
        },
        "outputId": "5193919c-de70-46bd-b93f-0d123d042591"
      },
      "source": [
        "final_times.head()"
      ],
      "execution_count": null,
      "outputs": [
        {
          "output_type": "execute_result",
          "data": {
            "text/html": [
              "<div>\n",
              "<style scoped>\n",
              "    .dataframe tbody tr th:only-of-type {\n",
              "        vertical-align: middle;\n",
              "    }\n",
              "\n",
              "    .dataframe tbody tr th {\n",
              "        vertical-align: top;\n",
              "    }\n",
              "\n",
              "    .dataframe thead th {\n",
              "        text-align: right;\n",
              "    }\n",
              "</style>\n",
              "<table border=\"1\" class=\"dataframe\">\n",
              "  <thead>\n",
              "    <tr style=\"text-align: right;\">\n",
              "      <th></th>\n",
              "      <th>0</th>\n",
              "      <th>1</th>\n",
              "      <th>2</th>\n",
              "    </tr>\n",
              "  </thead>\n",
              "  <tbody>\n",
              "    <tr>\n",
              "      <th>0</th>\n",
              "      <td>2</td>\n",
              "      <td>09</td>\n",
              "      <td>37</td>\n",
              "    </tr>\n",
              "    <tr>\n",
              "      <th>1</th>\n",
              "      <td>2</td>\n",
              "      <td>09</td>\n",
              "      <td>58</td>\n",
              "    </tr>\n",
              "    <tr>\n",
              "      <th>2</th>\n",
              "      <td>2</td>\n",
              "      <td>10</td>\n",
              "      <td>28</td>\n",
              "    </tr>\n",
              "    <tr>\n",
              "      <th>3</th>\n",
              "      <td>2</td>\n",
              "      <td>12</td>\n",
              "      <td>08</td>\n",
              "    </tr>\n",
              "    <tr>\n",
              "      <th>4</th>\n",
              "      <td>2</td>\n",
              "      <td>12</td>\n",
              "      <td>35</td>\n",
              "    </tr>\n",
              "  </tbody>\n",
              "</table>\n",
              "</div>"
            ],
            "text/plain": [
              "   0   1   2\n",
              "0  2  09  37\n",
              "1  2  09  58\n",
              "2  2  10  28\n",
              "3  2  12  08\n",
              "4  2  12  35"
            ]
          },
          "metadata": {
            "tags": []
          },
          "execution_count": 207
        }
      ]
    },
    {
      "cell_type": "code",
      "metadata": {
        "id": "olJknGEq66g5",
        "colab_type": "code",
        "colab": {}
      },
      "source": [
        "# approach 2\n",
        "\n",
        "final_times = final_times.astype(int)"
      ],
      "execution_count": null,
      "outputs": []
    },
    {
      "cell_type": "code",
      "metadata": {
        "id": "rn41OuTg7KM6",
        "colab_type": "code",
        "colab": {
          "base_uri": "https://localhost:8080/"
        },
        "outputId": "9ebc5587-90bb-4328-c7ec-c71aa1e9583c"
      },
      "source": [
        "final_times.info()"
      ],
      "execution_count": null,
      "outputs": [
        {
          "output_type": "stream",
          "text": [
            "<class 'pandas.core.frame.DataFrame'>\n",
            "RangeIndex: 1000 entries, 0 to 999\n",
            "Data columns (total 3 columns):\n",
            " #   Column  Non-Null Count  Dtype\n",
            "---  ------  --------------  -----\n",
            " 0   0       1000 non-null   int64\n",
            " 1   1       1000 non-null   int64\n",
            " 2   2       1000 non-null   int64\n",
            "dtypes: int64(3)\n",
            "memory usage: 23.6 KB\n"
          ],
          "name": "stdout"
        }
      ]
    },
    {
      "cell_type": "code",
      "metadata": {
        "id": "ZcijhA4h7MCm",
        "colab_type": "code",
        "colab": {}
      },
      "source": [
        "final_times['total'] = final_times.apply(lambda t: t.iat[0] * 3600 + t.iat[1] * 60 + t.iat[2], axis=1)"
      ],
      "execution_count": null,
      "outputs": []
    },
    {
      "cell_type": "code",
      "metadata": {
        "id": "cbRfEe0P7WNR",
        "colab_type": "code",
        "colab": {
          "base_uri": "https://localhost:8080/"
        },
        "outputId": "c7ec44c0-0cbe-4a9f-d37b-37edf1e1121d"
      },
      "source": [
        "final_times.head()"
      ],
      "execution_count": null,
      "outputs": [
        {
          "output_type": "execute_result",
          "data": {
            "text/html": [
              "<div>\n",
              "<style scoped>\n",
              "    .dataframe tbody tr th:only-of-type {\n",
              "        vertical-align: middle;\n",
              "    }\n",
              "\n",
              "    .dataframe tbody tr th {\n",
              "        vertical-align: top;\n",
              "    }\n",
              "\n",
              "    .dataframe thead th {\n",
              "        text-align: right;\n",
              "    }\n",
              "</style>\n",
              "<table border=\"1\" class=\"dataframe\">\n",
              "  <thead>\n",
              "    <tr style=\"text-align: right;\">\n",
              "      <th></th>\n",
              "      <th>0</th>\n",
              "      <th>1</th>\n",
              "      <th>2</th>\n",
              "      <th>total</th>\n",
              "    </tr>\n",
              "  </thead>\n",
              "  <tbody>\n",
              "    <tr>\n",
              "      <th>0</th>\n",
              "      <td>2</td>\n",
              "      <td>9</td>\n",
              "      <td>37</td>\n",
              "      <td>7777</td>\n",
              "    </tr>\n",
              "    <tr>\n",
              "      <th>1</th>\n",
              "      <td>2</td>\n",
              "      <td>9</td>\n",
              "      <td>58</td>\n",
              "      <td>7798</td>\n",
              "    </tr>\n",
              "    <tr>\n",
              "      <th>2</th>\n",
              "      <td>2</td>\n",
              "      <td>10</td>\n",
              "      <td>28</td>\n",
              "      <td>7828</td>\n",
              "    </tr>\n",
              "    <tr>\n",
              "      <th>3</th>\n",
              "      <td>2</td>\n",
              "      <td>12</td>\n",
              "      <td>8</td>\n",
              "      <td>7928</td>\n",
              "    </tr>\n",
              "    <tr>\n",
              "      <th>4</th>\n",
              "      <td>2</td>\n",
              "      <td>12</td>\n",
              "      <td>35</td>\n",
              "      <td>7955</td>\n",
              "    </tr>\n",
              "  </tbody>\n",
              "</table>\n",
              "</div>"
            ],
            "text/plain": [
              "   0   1   2  total\n",
              "0  2   9  37   7777\n",
              "1  2   9  58   7798\n",
              "2  2  10  28   7828\n",
              "3  2  12   8   7928\n",
              "4  2  12  35   7955"
            ]
          },
          "metadata": {
            "tags": []
          },
          "execution_count": 211
        }
      ]
    },
    {
      "cell_type": "code",
      "metadata": {
        "id": "tscgQZ887imU",
        "colab_type": "code",
        "colab": {
          "base_uri": "https://localhost:8080/"
        },
        "outputId": "bed2f497-d633-462b-e24a-c7921e77fe94"
      },
      "source": [
        "boston.head()"
      ],
      "execution_count": null,
      "outputs": [
        {
          "output_type": "execute_result",
          "data": {
            "text/html": [
              "<div>\n",
              "<style scoped>\n",
              "    .dataframe tbody tr th:only-of-type {\n",
              "        vertical-align: middle;\n",
              "    }\n",
              "\n",
              "    .dataframe tbody tr th {\n",
              "        vertical-align: top;\n",
              "    }\n",
              "\n",
              "    .dataframe thead th {\n",
              "        text-align: right;\n",
              "    }\n",
              "</style>\n",
              "<table border=\"1\" class=\"dataframe\">\n",
              "  <thead>\n",
              "    <tr style=\"text-align: right;\">\n",
              "      <th></th>\n",
              "      <th>Name</th>\n",
              "      <th>Age</th>\n",
              "      <th>M/F</th>\n",
              "      <th>City</th>\n",
              "      <th>State</th>\n",
              "      <th>Country</th>\n",
              "      <th>Official Time</th>\n",
              "      <th>Overall</th>\n",
              "      <th>Gender</th>\n",
              "      <th>Ran 2015</th>\n",
              "      <th>Ran 2016</th>\n",
              "      <th>Years Ran</th>\n",
              "      <th>First Name</th>\n",
              "      <th>Last Name</th>\n",
              "    </tr>\n",
              "  </thead>\n",
              "  <tbody>\n",
              "    <tr>\n",
              "      <th>0</th>\n",
              "      <td>Kirui, Geoffrey</td>\n",
              "      <td>24</td>\n",
              "      <td>Male</td>\n",
              "      <td>Keringet</td>\n",
              "      <td>NaN</td>\n",
              "      <td>KEN</td>\n",
              "      <td>2:09:37</td>\n",
              "      <td>1</td>\n",
              "      <td>1</td>\n",
              "      <td>0</td>\n",
              "      <td>0</td>\n",
              "      <td>NaN</td>\n",
              "      <td>Kirui</td>\n",
              "      <td>Geoffrey</td>\n",
              "    </tr>\n",
              "    <tr>\n",
              "      <th>1</th>\n",
              "      <td>Rupp, Galen</td>\n",
              "      <td>30</td>\n",
              "      <td>Male</td>\n",
              "      <td>Portland</td>\n",
              "      <td>OR</td>\n",
              "      <td>USA</td>\n",
              "      <td>2:09:58</td>\n",
              "      <td>2</td>\n",
              "      <td>2</td>\n",
              "      <td>0</td>\n",
              "      <td>0</td>\n",
              "      <td>NaN</td>\n",
              "      <td>Rupp</td>\n",
              "      <td>Galen</td>\n",
              "    </tr>\n",
              "    <tr>\n",
              "      <th>2</th>\n",
              "      <td>Osako, Suguru</td>\n",
              "      <td>25</td>\n",
              "      <td>Male</td>\n",
              "      <td>Machida-City</td>\n",
              "      <td>NaN</td>\n",
              "      <td>JPN</td>\n",
              "      <td>2:10:28</td>\n",
              "      <td>3</td>\n",
              "      <td>3</td>\n",
              "      <td>0</td>\n",
              "      <td>0</td>\n",
              "      <td>NaN</td>\n",
              "      <td>Osako</td>\n",
              "      <td>Suguru</td>\n",
              "    </tr>\n",
              "    <tr>\n",
              "      <th>3</th>\n",
              "      <td>Biwott, Shadrack</td>\n",
              "      <td>32</td>\n",
              "      <td>Male</td>\n",
              "      <td>Mammoth Lakes</td>\n",
              "      <td>CA</td>\n",
              "      <td>USA</td>\n",
              "      <td>2:12:08</td>\n",
              "      <td>4</td>\n",
              "      <td>4</td>\n",
              "      <td>0</td>\n",
              "      <td>0</td>\n",
              "      <td>NaN</td>\n",
              "      <td>Biwott</td>\n",
              "      <td>Shadrack</td>\n",
              "    </tr>\n",
              "    <tr>\n",
              "      <th>4</th>\n",
              "      <td>Chebet, Wilson</td>\n",
              "      <td>31</td>\n",
              "      <td>Male</td>\n",
              "      <td>Marakwet</td>\n",
              "      <td>NaN</td>\n",
              "      <td>KEN</td>\n",
              "      <td>2:12:35</td>\n",
              "      <td>5</td>\n",
              "      <td>5</td>\n",
              "      <td>1</td>\n",
              "      <td>0</td>\n",
              "      <td>2015</td>\n",
              "      <td>Chebet</td>\n",
              "      <td>Wilson</td>\n",
              "    </tr>\n",
              "  </tbody>\n",
              "</table>\n",
              "</div>"
            ],
            "text/plain": [
              "               Name  Age   M/F  ... Years Ran First Name Last Name\n",
              "0   Kirui, Geoffrey   24  Male  ...       NaN      Kirui  Geoffrey\n",
              "1       Rupp, Galen   30  Male  ...       NaN       Rupp     Galen\n",
              "2     Osako, Suguru   25  Male  ...       NaN      Osako    Suguru\n",
              "3  Biwott, Shadrack   32  Male  ...       NaN     Biwott  Shadrack\n",
              "4    Chebet, Wilson   31  Male  ...      2015     Chebet    Wilson\n",
              "\n",
              "[5 rows x 14 columns]"
            ]
          },
          "metadata": {
            "tags": []
          },
          "execution_count": 212
        }
      ]
    },
    {
      "cell_type": "code",
      "metadata": {
        "id": "Hf0JDfFt7n-W",
        "colab_type": "code",
        "colab": {}
      },
      "source": [
        "# inserting into boston"
      ],
      "execution_count": null,
      "outputs": []
    },
    {
      "cell_type": "code",
      "metadata": {
        "id": "NnejHcm_7sXh",
        "colab_type": "code",
        "colab": {}
      },
      "source": [
        "boston.insert(boston.columns.get_loc('Official Time')+1, 'Total Time', final_times.total)"
      ],
      "execution_count": null,
      "outputs": []
    },
    {
      "cell_type": "code",
      "metadata": {
        "id": "QJPxK0dE76NG",
        "colab_type": "code",
        "colab": {}
      },
      "source": [
        "# 3"
      ],
      "execution_count": null,
      "outputs": []
    },
    {
      "cell_type": "code",
      "metadata": {
        "id": "07I6EPub79KA",
        "colab_type": "code",
        "colab": {}
      },
      "source": [
        "# hypothesis: if you run many marathons, you're probably good at this (faster)"
      ],
      "execution_count": null,
      "outputs": []
    },
    {
      "cell_type": "code",
      "metadata": {
        "id": "mn1ujokH8LQT",
        "colab_type": "code",
        "colab": {}
      },
      "source": [
        "ran_2016 = boston['Ran 2016'] == 1"
      ],
      "execution_count": null,
      "outputs": []
    },
    {
      "cell_type": "code",
      "metadata": {
        "id": "VkTMoRxH8Zkb",
        "colab_type": "code",
        "colab": {
          "base_uri": "https://localhost:8080/"
        },
        "outputId": "dac4e14b-ec67-4fee-d8b8-57b485f06402"
      },
      "source": [
        "ran_2016"
      ],
      "execution_count": null,
      "outputs": [
        {
          "output_type": "execute_result",
          "data": {
            "text/plain": [
              "0      False\n",
              "1      False\n",
              "2      False\n",
              "3      False\n",
              "4      False\n",
              "       ...  \n",
              "995     True\n",
              "996    False\n",
              "997    False\n",
              "998    False\n",
              "999    False\n",
              "Name: Ran 2016, Length: 1000, dtype: bool"
            ]
          },
          "metadata": {
            "tags": []
          },
          "execution_count": 218
        }
      ]
    },
    {
      "cell_type": "code",
      "metadata": {
        "id": "-TvD_IDn8bv3",
        "colab_type": "code",
        "colab": {
          "base_uri": "https://localhost:8080/"
        },
        "outputId": "7b4a9e14-3bf4-4db4-d885-c83af3311a05"
      },
      "source": [
        "# average 2017 boston marathon time for those who ran in 2016 as well\n",
        "boston.loc[ran_2016, 'Total Time'].mean()"
      ],
      "execution_count": null,
      "outputs": [
        {
          "output_type": "execute_result",
          "data": {
            "text/plain": [
              "10043.12048192771"
            ]
          },
          "metadata": {
            "tags": []
          },
          "execution_count": 219
        }
      ]
    },
    {
      "cell_type": "code",
      "metadata": {
        "id": "KCDRRu-l8gB7",
        "colab_type": "code",
        "colab": {
          "base_uri": "https://localhost:8080/"
        },
        "outputId": "28d7d105-e197-4965-a7e3-9e3e98da150b"
      },
      "source": [
        "# everyone else\n",
        "boston.loc[~ran_2016, 'Total Time'].mean()"
      ],
      "execution_count": null,
      "outputs": [
        {
          "output_type": "execute_result",
          "data": {
            "text/plain": [
              "9966.195739014647"
            ]
          },
          "metadata": {
            "tags": []
          },
          "execution_count": 220
        }
      ]
    },
    {
      "cell_type": "code",
      "metadata": {
        "id": "B-x15Zjq8wul",
        "colab_type": "code",
        "colab": {}
      },
      "source": [
        ""
      ],
      "execution_count": null,
      "outputs": []
    }
  ]
}