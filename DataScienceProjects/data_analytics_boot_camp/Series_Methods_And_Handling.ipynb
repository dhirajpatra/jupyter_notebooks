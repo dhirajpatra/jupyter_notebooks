{
  "nbformat": 4,
  "nbformat_minor": 0,
  "metadata": {
    "colab": {
      "name": "Series Methods And Handling",
      "provenance": [],
      "collapsed_sections": [
        "BDwRGAcHdMBy",
        "roGT2PHA-vQ-",
        "CcJlcLKThuB1",
        "8ZPmSRd2npNL",
        "2Uyb4BGewrd1",
        "0cQFTQaf5sdp",
        "avNo9M4XIscn",
        "ZvebaX6H22G9",
        "WXhFbvHH7pNc",
        "-6H40AKm_86N",
        "xrjB9p_LCcBM",
        "wqgJ5eHjO0W8",
        "fWHpVbsggJTo",
        "RhOY4LXjg3R6",
        "60HSRX7klLjS",
        "YVbTQqytJ11B",
        "OHTGffrUW46p",
        "vWG2hiOGbnSF",
        "p8IwOTQkfjUi",
        "Y_or5MWWitpf",
        "tQAqvfn0aotu",
        "mx0xcv3QmL8B",
        "1rRqOdj3qfxq",
        "6LCCQdWByeG1",
        "S5iR8C9e28Hq",
        "hAvtoOHlk-5P",
        "HTRDqLIkw--y",
        "qbmXh2s6UXIN",
        "TZvXofChUfx2",
        "4iU0I60bU801",
        "w6v8f2pAU9sf"
      ]
    },
    "kernelspec": {
      "name": "python3",
      "display_name": "Python 3"
    }
  },
  "cells": [
    {
      "cell_type": "code",
      "metadata": {
        "id": "tLCOp5qPdG6z",
        "colab_type": "code",
        "colab": {}
      },
      "source": [
        "import pandas as pd\n",
        "import numpy as np"
      ],
      "execution_count": 0,
      "outputs": []
    },
    {
      "cell_type": "code",
      "metadata": {
        "id": "wfs-RpJLlaUJ",
        "colab_type": "code",
        "colab": {}
      },
      "source": [
        "# pip install --upgrade pandas"
      ],
      "execution_count": 0,
      "outputs": []
    },
    {
      "cell_type": "code",
      "metadata": {
        "id": "RNsgoivhLNYf",
        "colab_type": "code",
        "colab": {
          "base_uri": "https://localhost:8080/",
          "height": 34
        },
        "outputId": "cdd3e74c-755f-4d62-d83e-1b09f1bd6dfc"
      },
      "source": [
        "pd.__version__ "
      ],
      "execution_count": 3,
      "outputs": [
        {
          "output_type": "execute_result",
          "data": {
            "text/plain": [
              "'1.0.1'"
            ]
          },
          "metadata": {
            "tags": []
          },
          "execution_count": 3
        }
      ]
    },
    {
      "cell_type": "markdown",
      "metadata": {
        "id": "BDwRGAcHdMBy",
        "colab_type": "text"
      },
      "source": [
        "#### Reading In Data With read_csv()"
      ]
    },
    {
      "cell_type": "code",
      "metadata": {
        "id": "X25vWllX9FdI",
        "colab_type": "code",
        "colab": {}
      },
      "source": [
        "# https://andybek.com/pandas-drinks"
      ],
      "execution_count": 0,
      "outputs": []
    },
    {
      "cell_type": "code",
      "metadata": {
        "id": "iae_wV-E9fI2",
        "colab_type": "code",
        "outputId": "862db4ef-95ec-4bde-81e6-856541fbaa50",
        "colab": {
          "base_uri": "https://localhost:8080/",
          "height": 0
        }
      },
      "source": [
        "pd.read_csv('https://andybek.com/pandas-drinks')"
      ],
      "execution_count": 5,
      "outputs": [
        {
          "output_type": "execute_result",
          "data": {
            "text/html": [
              "<div>\n",
              "<style scoped>\n",
              "    .dataframe tbody tr th:only-of-type {\n",
              "        vertical-align: middle;\n",
              "    }\n",
              "\n",
              "    .dataframe tbody tr th {\n",
              "        vertical-align: top;\n",
              "    }\n",
              "\n",
              "    .dataframe thead th {\n",
              "        text-align: right;\n",
              "    }\n",
              "</style>\n",
              "<table border=\"1\" class=\"dataframe\">\n",
              "  <thead>\n",
              "    <tr style=\"text-align: right;\">\n",
              "      <th></th>\n",
              "      <th>country</th>\n",
              "      <th>beer_servings</th>\n",
              "      <th>spirit_servings</th>\n",
              "      <th>wine_servings</th>\n",
              "      <th>total_litres_of_pure_alcohol</th>\n",
              "    </tr>\n",
              "  </thead>\n",
              "  <tbody>\n",
              "    <tr>\n",
              "      <th>0</th>\n",
              "      <td>Afghanistan</td>\n",
              "      <td>NaN</td>\n",
              "      <td>NaN</td>\n",
              "      <td>NaN</td>\n",
              "      <td>NaN</td>\n",
              "    </tr>\n",
              "    <tr>\n",
              "      <th>1</th>\n",
              "      <td>Albania</td>\n",
              "      <td>89.0</td>\n",
              "      <td>132.0</td>\n",
              "      <td>54.0</td>\n",
              "      <td>4.9</td>\n",
              "    </tr>\n",
              "    <tr>\n",
              "      <th>2</th>\n",
              "      <td>Algeria</td>\n",
              "      <td>25.0</td>\n",
              "      <td>NaN</td>\n",
              "      <td>14.0</td>\n",
              "      <td>0.7</td>\n",
              "    </tr>\n",
              "    <tr>\n",
              "      <th>3</th>\n",
              "      <td>Andorra</td>\n",
              "      <td>245.0</td>\n",
              "      <td>138.0</td>\n",
              "      <td>312.0</td>\n",
              "      <td>12.4</td>\n",
              "    </tr>\n",
              "    <tr>\n",
              "      <th>4</th>\n",
              "      <td>Angola</td>\n",
              "      <td>217.0</td>\n",
              "      <td>57.0</td>\n",
              "      <td>45.0</td>\n",
              "      <td>5.9</td>\n",
              "    </tr>\n",
              "    <tr>\n",
              "      <th>...</th>\n",
              "      <td>...</td>\n",
              "      <td>...</td>\n",
              "      <td>...</td>\n",
              "      <td>...</td>\n",
              "      <td>...</td>\n",
              "    </tr>\n",
              "    <tr>\n",
              "      <th>188</th>\n",
              "      <td>Venezuela</td>\n",
              "      <td>333.0</td>\n",
              "      <td>1.0</td>\n",
              "      <td>3.0</td>\n",
              "      <td>7.7</td>\n",
              "    </tr>\n",
              "    <tr>\n",
              "      <th>189</th>\n",
              "      <td>Vietnam</td>\n",
              "      <td>111.0</td>\n",
              "      <td>2.0</td>\n",
              "      <td>1.0</td>\n",
              "      <td>2.0</td>\n",
              "    </tr>\n",
              "    <tr>\n",
              "      <th>190</th>\n",
              "      <td>Yemen</td>\n",
              "      <td>6.0</td>\n",
              "      <td>NaN</td>\n",
              "      <td>NaN</td>\n",
              "      <td>0.1</td>\n",
              "    </tr>\n",
              "    <tr>\n",
              "      <th>191</th>\n",
              "      <td>Zambia</td>\n",
              "      <td>32.0</td>\n",
              "      <td>19.0</td>\n",
              "      <td>4.0</td>\n",
              "      <td>2.5</td>\n",
              "    </tr>\n",
              "    <tr>\n",
              "      <th>192</th>\n",
              "      <td>Zimbabwe</td>\n",
              "      <td>64.0</td>\n",
              "      <td>18.0</td>\n",
              "      <td>4.0</td>\n",
              "      <td>4.7</td>\n",
              "    </tr>\n",
              "  </tbody>\n",
              "</table>\n",
              "<p>193 rows × 5 columns</p>\n",
              "</div>"
            ],
            "text/plain": [
              "         country  beer_servings  ...  wine_servings  total_litres_of_pure_alcohol\n",
              "0    Afghanistan            NaN  ...            NaN                           NaN\n",
              "1        Albania           89.0  ...           54.0                           4.9\n",
              "2        Algeria           25.0  ...           14.0                           0.7\n",
              "3        Andorra          245.0  ...          312.0                          12.4\n",
              "4         Angola          217.0  ...           45.0                           5.9\n",
              "..           ...            ...  ...            ...                           ...\n",
              "188    Venezuela          333.0  ...            3.0                           7.7\n",
              "189      Vietnam          111.0  ...            1.0                           2.0\n",
              "190        Yemen            6.0  ...            NaN                           0.1\n",
              "191       Zambia           32.0  ...            4.0                           2.5\n",
              "192     Zimbabwe           64.0  ...            4.0                           4.7\n",
              "\n",
              "[193 rows x 5 columns]"
            ]
          },
          "metadata": {
            "tags": []
          },
          "execution_count": 5
        }
      ]
    },
    {
      "cell_type": "code",
      "metadata": {
        "id": "ZF1yvwq59-TM",
        "colab_type": "code",
        "outputId": "c208633e-7714-4aa0-f499-a35a818d5975",
        "colab": {
          "base_uri": "https://localhost:8080/",
          "height": 0
        }
      },
      "source": [
        "pd.read_csv('https://andybek.com/pandas-drinks', usecols=['country', 'wine_servings'])"
      ],
      "execution_count": 6,
      "outputs": [
        {
          "output_type": "execute_result",
          "data": {
            "text/html": [
              "<div>\n",
              "<style scoped>\n",
              "    .dataframe tbody tr th:only-of-type {\n",
              "        vertical-align: middle;\n",
              "    }\n",
              "\n",
              "    .dataframe tbody tr th {\n",
              "        vertical-align: top;\n",
              "    }\n",
              "\n",
              "    .dataframe thead th {\n",
              "        text-align: right;\n",
              "    }\n",
              "</style>\n",
              "<table border=\"1\" class=\"dataframe\">\n",
              "  <thead>\n",
              "    <tr style=\"text-align: right;\">\n",
              "      <th></th>\n",
              "      <th>country</th>\n",
              "      <th>wine_servings</th>\n",
              "    </tr>\n",
              "  </thead>\n",
              "  <tbody>\n",
              "    <tr>\n",
              "      <th>0</th>\n",
              "      <td>Afghanistan</td>\n",
              "      <td>NaN</td>\n",
              "    </tr>\n",
              "    <tr>\n",
              "      <th>1</th>\n",
              "      <td>Albania</td>\n",
              "      <td>54.0</td>\n",
              "    </tr>\n",
              "    <tr>\n",
              "      <th>2</th>\n",
              "      <td>Algeria</td>\n",
              "      <td>14.0</td>\n",
              "    </tr>\n",
              "    <tr>\n",
              "      <th>3</th>\n",
              "      <td>Andorra</td>\n",
              "      <td>312.0</td>\n",
              "    </tr>\n",
              "    <tr>\n",
              "      <th>4</th>\n",
              "      <td>Angola</td>\n",
              "      <td>45.0</td>\n",
              "    </tr>\n",
              "    <tr>\n",
              "      <th>...</th>\n",
              "      <td>...</td>\n",
              "      <td>...</td>\n",
              "    </tr>\n",
              "    <tr>\n",
              "      <th>188</th>\n",
              "      <td>Venezuela</td>\n",
              "      <td>3.0</td>\n",
              "    </tr>\n",
              "    <tr>\n",
              "      <th>189</th>\n",
              "      <td>Vietnam</td>\n",
              "      <td>1.0</td>\n",
              "    </tr>\n",
              "    <tr>\n",
              "      <th>190</th>\n",
              "      <td>Yemen</td>\n",
              "      <td>NaN</td>\n",
              "    </tr>\n",
              "    <tr>\n",
              "      <th>191</th>\n",
              "      <td>Zambia</td>\n",
              "      <td>4.0</td>\n",
              "    </tr>\n",
              "    <tr>\n",
              "      <th>192</th>\n",
              "      <td>Zimbabwe</td>\n",
              "      <td>4.0</td>\n",
              "    </tr>\n",
              "  </tbody>\n",
              "</table>\n",
              "<p>193 rows × 2 columns</p>\n",
              "</div>"
            ],
            "text/plain": [
              "         country  wine_servings\n",
              "0    Afghanistan            NaN\n",
              "1        Albania           54.0\n",
              "2        Algeria           14.0\n",
              "3        Andorra          312.0\n",
              "4         Angola           45.0\n",
              "..           ...            ...\n",
              "188    Venezuela            3.0\n",
              "189      Vietnam            1.0\n",
              "190        Yemen            NaN\n",
              "191       Zambia            4.0\n",
              "192     Zimbabwe            4.0\n",
              "\n",
              "[193 rows x 2 columns]"
            ]
          },
          "metadata": {
            "tags": []
          },
          "execution_count": 6
        }
      ]
    },
    {
      "cell_type": "code",
      "metadata": {
        "id": "w3-GAq3k-WRU",
        "colab_type": "code",
        "colab": {}
      },
      "source": [
        "alcohol = pd.read_csv('https://andybek.com/pandas-drinks', usecols=['country', 'wine_servings'], index_col='country', squeeze=True)"
      ],
      "execution_count": 0,
      "outputs": []
    },
    {
      "cell_type": "code",
      "metadata": {
        "id": "7oXPZ5xp-c5T",
        "colab_type": "code",
        "outputId": "891c94f2-8cbe-491b-c647-c3e2ccf6b4fd",
        "colab": {
          "base_uri": "https://localhost:8080/",
          "height": 0
        }
      },
      "source": [
        "alcohol.head()"
      ],
      "execution_count": 8,
      "outputs": [
        {
          "output_type": "execute_result",
          "data": {
            "text/plain": [
              "country\n",
              "Afghanistan      NaN\n",
              "Albania         54.0\n",
              "Algeria         14.0\n",
              "Andorra        312.0\n",
              "Angola          45.0\n",
              "Name: wine_servings, dtype: float64"
            ]
          },
          "metadata": {
            "tags": []
          },
          "execution_count": 8
        }
      ]
    },
    {
      "cell_type": "code",
      "metadata": {
        "id": "j7Yk_CQy-k8r",
        "colab_type": "code",
        "outputId": "ef18d330-bcb0-440b-d28b-7be3c8a14e87",
        "colab": {
          "base_uri": "https://localhost:8080/",
          "height": 0
        }
      },
      "source": [
        "type(alcohol)"
      ],
      "execution_count": 9,
      "outputs": [
        {
          "output_type": "execute_result",
          "data": {
            "text/plain": [
              "pandas.core.series.Series"
            ]
          },
          "metadata": {
            "tags": []
          },
          "execution_count": 9
        }
      ]
    },
    {
      "cell_type": "markdown",
      "metadata": {
        "id": "roGT2PHA-vQ-",
        "colab_type": "text"
      },
      "source": [
        "#### Series Sizing With .size, .shape, And len()"
      ]
    },
    {
      "cell_type": "code",
      "metadata": {
        "id": "flfJoYPBguXT",
        "colab_type": "code",
        "outputId": "3a4a41e7-4f8e-45a2-cdda-97c41e191ae2",
        "colab": {
          "base_uri": "https://localhost:8080/",
          "height": 0
        }
      },
      "source": [
        "alcohol.size"
      ],
      "execution_count": 10,
      "outputs": [
        {
          "output_type": "execute_result",
          "data": {
            "text/plain": [
              "193"
            ]
          },
          "metadata": {
            "tags": []
          },
          "execution_count": 10
        }
      ]
    },
    {
      "cell_type": "code",
      "metadata": {
        "id": "L5MQnRKSg7qJ",
        "colab_type": "code",
        "outputId": "7339d19c-a748-4765-917e-d95624d48d22",
        "colab": {
          "base_uri": "https://localhost:8080/",
          "height": 0
        }
      },
      "source": [
        "alcohol"
      ],
      "execution_count": 11,
      "outputs": [
        {
          "output_type": "execute_result",
          "data": {
            "text/plain": [
              "country\n",
              "Afghanistan      NaN\n",
              "Albania         54.0\n",
              "Algeria         14.0\n",
              "Andorra        312.0\n",
              "Angola          45.0\n",
              "               ...  \n",
              "Venezuela        3.0\n",
              "Vietnam          1.0\n",
              "Yemen            NaN\n",
              "Zambia           4.0\n",
              "Zimbabwe         4.0\n",
              "Name: wine_servings, Length: 193, dtype: float64"
            ]
          },
          "metadata": {
            "tags": []
          },
          "execution_count": 11
        }
      ]
    },
    {
      "cell_type": "code",
      "metadata": {
        "id": "d_9oGPAAhC35",
        "colab_type": "code",
        "outputId": "83779188-58d7-474e-bdaa-49f99172fe01",
        "colab": {
          "base_uri": "https://localhost:8080/",
          "height": 0
        }
      },
      "source": [
        "alcohol.values"
      ],
      "execution_count": 12,
      "outputs": [
        {
          "output_type": "execute_result",
          "data": {
            "text/plain": [
              "array([ nan,  54.,  14., 312.,  45.,  45., 221.,  11., 212., 191.,   5.,\n",
              "        51.,   7.,  nan,  36.,  42., 212.,   8.,  13.,  nan,   8.,   8.,\n",
              "        35.,  16.,   1.,  94.,   7.,  nan,   7.,  16.,   1.,   4.,   1.,\n",
              "         1.,   1., 172.,   8.,   3.,   1.,   9.,  74.,  11., 254.,   5.,\n",
              "       113., 134.,  nan,   1., 278.,   3.,  26.,   9.,   3.,   1.,   2.,\n",
              "       233.,  nan,  59.,  nan,   1.,  97.,  37.,  59.,   1., 149., 175.,\n",
              "         1., 218.,  28.,   2.,   2.,  21.,   1.,   1.,   2., 185.,  78.,\n",
              "        nan,  nan,  nan,  nan, 165.,   9., 237.,   9.,  16.,   1.,  12.,\n",
              "         2.,   1.,  nan,   6., 123.,  62.,  31.,  nan,   2.,  nan,  56.,\n",
              "       271.,   4.,   1.,  nan,  nan,   1.,  12.,  nan,  nan,  18.,   5.,\n",
              "        18.,  nan,   8., 128.,   1.,   5.,  nan,   1.,   8.,  nan,  19.,\n",
              "       175.,   1.,   1.,   2.,   7., 129.,   1.,  nan,  23.,  18.,   1.,\n",
              "        74.,  21.,   1.,  56., 339.,   7.,   9.,  18., 167.,  73.,  nan,\n",
              "        32.,  71.,  11.,  24.,  nan,  14.,  nan,   7., 127.,  51.,   2.,\n",
              "        11., 116., 276.,   1.,  nan,  81., 112.,  nan,  nan,   7.,   2.,\n",
              "       186.,  28.,  16.,  nan,   1.,  86.,   4.,  19.,   5.,   7.,   2.,\n",
              "         7.,  32.,   9.,  nan,  45.,   5., 195.,   1.,  84.,  22.,   8.,\n",
              "        11.,   3.,   1.,  nan,   4.,   4.])"
            ]
          },
          "metadata": {
            "tags": []
          },
          "execution_count": 12
        }
      ]
    },
    {
      "cell_type": "code",
      "metadata": {
        "id": "61ZcK0FKhLQj",
        "colab_type": "code",
        "outputId": "f63d479c-2564-46d9-b96f-67b7c051389c",
        "colab": {
          "base_uri": "https://localhost:8080/",
          "height": 0
        }
      },
      "source": [
        "alcohol.index"
      ],
      "execution_count": 13,
      "outputs": [
        {
          "output_type": "execute_result",
          "data": {
            "text/plain": [
              "Index(['Afghanistan', 'Albania', 'Algeria', 'Andorra', 'Angola',\n",
              "       'Antigua & Barbuda', 'Argentina', 'Armenia', 'Australia', 'Austria',\n",
              "       ...\n",
              "       'Tanzania', 'USA', 'Uruguay', 'Uzbekistan', 'Vanuatu', 'Venezuela',\n",
              "       'Vietnam', 'Yemen', 'Zambia', 'Zimbabwe'],\n",
              "      dtype='object', name='country', length=193)"
            ]
          },
          "metadata": {
            "tags": []
          },
          "execution_count": 13
        }
      ]
    },
    {
      "cell_type": "code",
      "metadata": {
        "id": "rjTgLQ_-hNme",
        "colab_type": "code",
        "outputId": "310445bd-90f9-4611-b8b6-4851f867baad",
        "colab": {
          "base_uri": "https://localhost:8080/",
          "height": 0
        }
      },
      "source": [
        "alcohol.values.size == alcohol.index.size"
      ],
      "execution_count": 14,
      "outputs": [
        {
          "output_type": "execute_result",
          "data": {
            "text/plain": [
              "True"
            ]
          },
          "metadata": {
            "tags": []
          },
          "execution_count": 14
        }
      ]
    },
    {
      "cell_type": "code",
      "metadata": {
        "id": "B4o803cBhSSw",
        "colab_type": "code",
        "outputId": "1578ef3e-0c31-48ff-ec6c-0cf709b54be8",
        "colab": {
          "base_uri": "https://localhost:8080/",
          "height": 0
        }
      },
      "source": [
        "alcohol.shape"
      ],
      "execution_count": 15,
      "outputs": [
        {
          "output_type": "execute_result",
          "data": {
            "text/plain": [
              "(193,)"
            ]
          },
          "metadata": {
            "tags": []
          },
          "execution_count": 15
        }
      ]
    },
    {
      "cell_type": "code",
      "metadata": {
        "id": "85EjNTKfhaib",
        "colab_type": "code",
        "outputId": "bb1493ef-2146-4b23-a59e-acb456164974",
        "colab": {
          "base_uri": "https://localhost:8080/",
          "height": 0
        }
      },
      "source": [
        "alcohol.size == alcohol.shape[0]"
      ],
      "execution_count": 16,
      "outputs": [
        {
          "output_type": "execute_result",
          "data": {
            "text/plain": [
              "True"
            ]
          },
          "metadata": {
            "tags": []
          },
          "execution_count": 16
        }
      ]
    },
    {
      "cell_type": "code",
      "metadata": {
        "id": "jWwUR08Cho2G",
        "colab_type": "code",
        "outputId": "9377e782-f828-42a6-9ead-1fccd31350fe",
        "colab": {
          "base_uri": "https://localhost:8080/",
          "height": 0
        }
      },
      "source": [
        "len(alcohol)"
      ],
      "execution_count": 17,
      "outputs": [
        {
          "output_type": "execute_result",
          "data": {
            "text/plain": [
              "193"
            ]
          },
          "metadata": {
            "tags": []
          },
          "execution_count": 17
        }
      ]
    },
    {
      "cell_type": "markdown",
      "metadata": {
        "id": "CcJlcLKThuB1",
        "colab_type": "text"
      },
      "source": [
        "#### Unique Values And Series Monotonicity"
      ]
    },
    {
      "cell_type": "code",
      "metadata": {
        "id": "KlYzJJ78mf2s",
        "colab_type": "code",
        "outputId": "309113d6-147f-4152-897c-98ad14ec97bb",
        "colab": {
          "base_uri": "https://localhost:8080/",
          "height": 0
        }
      },
      "source": [
        "alcohol.is_unique"
      ],
      "execution_count": 18,
      "outputs": [
        {
          "output_type": "execute_result",
          "data": {
            "text/plain": [
              "False"
            ]
          },
          "metadata": {
            "tags": []
          },
          "execution_count": 18
        }
      ]
    },
    {
      "cell_type": "code",
      "metadata": {
        "id": "13R7WJFZmXxN",
        "colab_type": "code",
        "outputId": "3774c7a5-7c1c-41c8-96d0-f0b3cf0ab39e",
        "colab": {
          "base_uri": "https://localhost:8080/",
          "height": 0
        }
      },
      "source": [
        "alcohol.head().is_unique"
      ],
      "execution_count": 19,
      "outputs": [
        {
          "output_type": "execute_result",
          "data": {
            "text/plain": [
              "True"
            ]
          },
          "metadata": {
            "tags": []
          },
          "execution_count": 19
        }
      ]
    },
    {
      "cell_type": "code",
      "metadata": {
        "id": "A_VLPfH5nAc-",
        "colab_type": "code",
        "outputId": "84f3d16c-85c3-4a5a-cc02-edf22e6a4e0e",
        "colab": {
          "base_uri": "https://localhost:8080/",
          "height": 0
        }
      },
      "source": [
        "alcohol.nunique(dropna=False)"
      ],
      "execution_count": 20,
      "outputs": [
        {
          "output_type": "execute_result",
          "data": {
            "text/plain": [
              "72"
            ]
          },
          "metadata": {
            "tags": []
          },
          "execution_count": 20
        }
      ]
    },
    {
      "cell_type": "code",
      "metadata": {
        "id": "qVB6dasmnLXh",
        "colab_type": "code",
        "colab": {}
      },
      "source": [
        "# monotonicity"
      ],
      "execution_count": 0,
      "outputs": []
    },
    {
      "cell_type": "code",
      "metadata": {
        "id": "edfhcu-HnW0V",
        "colab_type": "code",
        "outputId": "915c7418-ac50-4de5-c308-ba18c3195678",
        "colab": {
          "base_uri": "https://localhost:8080/",
          "height": 0
        }
      },
      "source": [
        "pd.Series([1,2,3]).is_monotonic"
      ],
      "execution_count": 22,
      "outputs": [
        {
          "output_type": "execute_result",
          "data": {
            "text/plain": [
              "True"
            ]
          },
          "metadata": {
            "tags": []
          },
          "execution_count": 22
        }
      ]
    },
    {
      "cell_type": "code",
      "metadata": {
        "id": "UZHEBHuKnfWx",
        "colab_type": "code",
        "outputId": "6fac5d68-9b6f-481b-ea12-9a06d3ce57d6",
        "colab": {
          "base_uri": "https://localhost:8080/",
          "height": 0
        }
      },
      "source": [
        "pd.Series([1,2,3,3,3,3]).is_monotonic"
      ],
      "execution_count": 23,
      "outputs": [
        {
          "output_type": "execute_result",
          "data": {
            "text/plain": [
              "True"
            ]
          },
          "metadata": {
            "tags": []
          },
          "execution_count": 23
        }
      ]
    },
    {
      "cell_type": "code",
      "metadata": {
        "id": "2_fsP-Ldnjlf",
        "colab_type": "code",
        "outputId": "41dbbbc5-3832-4bd8-ba57-d7f9c7031a96",
        "colab": {
          "base_uri": "https://localhost:8080/",
          "height": 0
        }
      },
      "source": [
        "pd.Series([1,2,3,3,3,3,4,10,79,100]).is_monotonic"
      ],
      "execution_count": 24,
      "outputs": [
        {
          "output_type": "execute_result",
          "data": {
            "text/plain": [
              "True"
            ]
          },
          "metadata": {
            "tags": []
          },
          "execution_count": 24
        }
      ]
    },
    {
      "cell_type": "code",
      "metadata": {
        "id": "7JEXemhZnmzD",
        "colab_type": "code",
        "outputId": "27f7facb-73b6-4c70-df33-b19d414a98fe",
        "colab": {
          "base_uri": "https://localhost:8080/",
          "height": 0
        }
      },
      "source": [
        "pd.Series(reversed([1,2,3,3,3,3,4,10,79,100])).is_monotonic_decreasing"
      ],
      "execution_count": 25,
      "outputs": [
        {
          "output_type": "execute_result",
          "data": {
            "text/plain": [
              "True"
            ]
          },
          "metadata": {
            "tags": []
          },
          "execution_count": 25
        }
      ]
    },
    {
      "cell_type": "markdown",
      "metadata": {
        "id": "8ZPmSRd2npNL",
        "colab_type": "text"
      },
      "source": [
        "#### The count() Method"
      ]
    },
    {
      "cell_type": "code",
      "metadata": {
        "id": "HpIzp4kUrYag",
        "colab_type": "code",
        "outputId": "8569312c-d028-4165-cf05-59490cc36d99",
        "colab": {
          "base_uri": "https://localhost:8080/",
          "height": 0
        }
      },
      "source": [
        "alcohol.count()"
      ],
      "execution_count": 26,
      "outputs": [
        {
          "output_type": "execute_result",
          "data": {
            "text/plain": [
              "162"
            ]
          },
          "metadata": {
            "tags": []
          },
          "execution_count": 26
        }
      ]
    },
    {
      "cell_type": "code",
      "metadata": {
        "id": "SmcwPpO5rjxD",
        "colab_type": "code",
        "outputId": "61f58759-c983-45eb-e845-0f94483efc77",
        "colab": {
          "base_uri": "https://localhost:8080/",
          "height": 0
        }
      },
      "source": [
        "alcohol.size"
      ],
      "execution_count": 27,
      "outputs": [
        {
          "output_type": "execute_result",
          "data": {
            "text/plain": [
              "193"
            ]
          },
          "metadata": {
            "tags": []
          },
          "execution_count": 27
        }
      ]
    },
    {
      "cell_type": "code",
      "metadata": {
        "id": "0KjpmHC_rnH3",
        "colab_type": "code",
        "outputId": "bde67152-d079-4461-a25d-27755a0faedd",
        "colab": {
          "base_uri": "https://localhost:8080/",
          "height": 0
        }
      },
      "source": [
        "alcohol.hasnans"
      ],
      "execution_count": 28,
      "outputs": [
        {
          "output_type": "execute_result",
          "data": {
            "text/plain": [
              "True"
            ]
          },
          "metadata": {
            "tags": []
          },
          "execution_count": 28
        }
      ]
    },
    {
      "cell_type": "markdown",
      "metadata": {
        "id": "2Uyb4BGewrd1",
        "colab_type": "text"
      },
      "source": [
        "#### Accessing And Counting NA's"
      ]
    },
    {
      "cell_type": "code",
      "metadata": {
        "id": "wrltTMnR3mRY",
        "colab_type": "code",
        "outputId": "378e109f-8ad1-4d6c-da8a-13a37f306cde",
        "colab": {
          "base_uri": "https://localhost:8080/",
          "height": 0
        }
      },
      "source": [
        "alcohol.size"
      ],
      "execution_count": 29,
      "outputs": [
        {
          "output_type": "execute_result",
          "data": {
            "text/plain": [
              "193"
            ]
          },
          "metadata": {
            "tags": []
          },
          "execution_count": 29
        }
      ]
    },
    {
      "cell_type": "code",
      "metadata": {
        "id": "wKcFq9e8312e",
        "colab_type": "code",
        "outputId": "48d791b7-1bbd-4875-eed8-cb0209892e21",
        "colab": {
          "base_uri": "https://localhost:8080/",
          "height": 0
        }
      },
      "source": [
        "alcohol.count()"
      ],
      "execution_count": 30,
      "outputs": [
        {
          "output_type": "execute_result",
          "data": {
            "text/plain": [
              "162"
            ]
          },
          "metadata": {
            "tags": []
          },
          "execution_count": 30
        }
      ]
    },
    {
      "cell_type": "code",
      "metadata": {
        "id": "1mnSiAcw33Ez",
        "colab_type": "code",
        "outputId": "0aa04c87-5d6a-4e4c-d3a7-ccda0ea1af4c",
        "colab": {
          "base_uri": "https://localhost:8080/",
          "height": 0
        }
      },
      "source": [
        "alcohol.isnull()"
      ],
      "execution_count": 31,
      "outputs": [
        {
          "output_type": "execute_result",
          "data": {
            "text/plain": [
              "country\n",
              "Afghanistan     True\n",
              "Albania        False\n",
              "Algeria        False\n",
              "Andorra        False\n",
              "Angola         False\n",
              "               ...  \n",
              "Venezuela      False\n",
              "Vietnam        False\n",
              "Yemen           True\n",
              "Zambia         False\n",
              "Zimbabwe       False\n",
              "Name: wine_servings, Length: 193, dtype: bool"
            ]
          },
          "metadata": {
            "tags": []
          },
          "execution_count": 31
        }
      ]
    },
    {
      "cell_type": "code",
      "metadata": {
        "id": "cXoe2rMo4Ak-",
        "colab_type": "code",
        "outputId": "b51592ea-dd23-4f85-e7b4-3ac460ab3365",
        "colab": {
          "base_uri": "https://localhost:8080/",
          "height": 0
        }
      },
      "source": [
        "alcohol[alcohol.isnull()].index"
      ],
      "execution_count": 32,
      "outputs": [
        {
          "output_type": "execute_result",
          "data": {
            "text/plain": [
              "Index(['Afghanistan', 'Bangladesh', 'Bhutan', 'Burundi', 'North Korea',\n",
              "       'Eritrea', 'Ethiopia', 'India', 'Indonesia', 'Iran', 'Iraq', 'Kuwait',\n",
              "       'Lesotho', 'Libya', 'Malaysia', 'Maldives', 'Marshall Islands',\n",
              "       'Mauritania', 'Monaco', 'Myanmar', 'Nepal', 'Pakistan', 'Rwanda',\n",
              "       'San Marino', 'Saudi Arabia', 'Somalia', 'Sri Lanka', 'Sudan',\n",
              "       'Tajikistan', 'Uganda', 'Yemen'],\n",
              "      dtype='object', name='country')"
            ]
          },
          "metadata": {
            "tags": []
          },
          "execution_count": 32
        }
      ]
    },
    {
      "cell_type": "code",
      "metadata": {
        "id": "8tN90S2e4RN9",
        "colab_type": "code",
        "outputId": "4e198861-11bc-4c3b-e7c0-bff47bec13bd",
        "colab": {
          "base_uri": "https://localhost:8080/",
          "height": 0
        }
      },
      "source": [
        "type(alcohol[alcohol.isnull()].index)"
      ],
      "execution_count": 33,
      "outputs": [
        {
          "output_type": "execute_result",
          "data": {
            "text/plain": [
              "pandas.core.indexes.base.Index"
            ]
          },
          "metadata": {
            "tags": []
          },
          "execution_count": 33
        }
      ]
    },
    {
      "cell_type": "code",
      "metadata": {
        "id": "5bfVh2Yo4czZ",
        "colab_type": "code",
        "outputId": "26ea1e59-7cf3-467b-a522-48746b898340",
        "colab": {
          "base_uri": "https://localhost:8080/",
          "height": 0
        }
      },
      "source": [
        "list(alcohol[alcohol.isnull()].index)"
      ],
      "execution_count": 34,
      "outputs": [
        {
          "output_type": "execute_result",
          "data": {
            "text/plain": [
              "['Afghanistan',\n",
              " 'Bangladesh',\n",
              " 'Bhutan',\n",
              " 'Burundi',\n",
              " 'North Korea',\n",
              " 'Eritrea',\n",
              " 'Ethiopia',\n",
              " 'India',\n",
              " 'Indonesia',\n",
              " 'Iran',\n",
              " 'Iraq',\n",
              " 'Kuwait',\n",
              " 'Lesotho',\n",
              " 'Libya',\n",
              " 'Malaysia',\n",
              " 'Maldives',\n",
              " 'Marshall Islands',\n",
              " 'Mauritania',\n",
              " 'Monaco',\n",
              " 'Myanmar',\n",
              " 'Nepal',\n",
              " 'Pakistan',\n",
              " 'Rwanda',\n",
              " 'San Marino',\n",
              " 'Saudi Arabia',\n",
              " 'Somalia',\n",
              " 'Sri Lanka',\n",
              " 'Sudan',\n",
              " 'Tajikistan',\n",
              " 'Uganda',\n",
              " 'Yemen']"
            ]
          },
          "metadata": {
            "tags": []
          },
          "execution_count": 34
        }
      ]
    },
    {
      "cell_type": "code",
      "metadata": {
        "id": "6xlN1kLm4gFL",
        "colab_type": "code",
        "outputId": "1d9ae0ac-21c3-45a1-bb94-216c11acd709",
        "colab": {
          "base_uri": "https://localhost:8080/",
          "height": 0
        }
      },
      "source": [
        "len(list(alcohol[alcohol.isnull()].index))"
      ],
      "execution_count": 35,
      "outputs": [
        {
          "output_type": "execute_result",
          "data": {
            "text/plain": [
              "31"
            ]
          },
          "metadata": {
            "tags": []
          },
          "execution_count": 35
        }
      ]
    },
    {
      "cell_type": "code",
      "metadata": {
        "id": "L8_WVNBD4sD6",
        "colab_type": "code",
        "colab": {}
      },
      "source": [
        "# cumbersome: very difficult to work with"
      ],
      "execution_count": 0,
      "outputs": []
    },
    {
      "cell_type": "code",
      "metadata": {
        "id": "DX98Imtv43N6",
        "colab_type": "code",
        "colab": {}
      },
      "source": [
        "# antonym: pandorable -> adorable and involving pandas"
      ],
      "execution_count": 0,
      "outputs": []
    },
    {
      "cell_type": "code",
      "metadata": {
        "id": "GPjvoQQx48BY",
        "colab_type": "code",
        "outputId": "6b652a1a-cbc5-429d-cbf2-dc01edfe90fd",
        "colab": {
          "base_uri": "https://localhost:8080/",
          "height": 0
        }
      },
      "source": [
        "alcohol.isnull().sum()"
      ],
      "execution_count": 38,
      "outputs": [
        {
          "output_type": "execute_result",
          "data": {
            "text/plain": [
              "31"
            ]
          },
          "metadata": {
            "tags": []
          },
          "execution_count": 38
        }
      ]
    },
    {
      "cell_type": "code",
      "metadata": {
        "id": "rMiQq6QJ5Ah2",
        "colab_type": "code",
        "colab": {}
      },
      "source": [
        "# booleans are integers in python"
      ],
      "execution_count": 0,
      "outputs": []
    },
    {
      "cell_type": "code",
      "metadata": {
        "id": "cOfP156_5Pyh",
        "colab_type": "code",
        "outputId": "2fc620d0-43f6-4367-d903-8bf8d3bbec7f",
        "colab": {
          "base_uri": "https://localhost:8080/",
          "height": 0
        }
      },
      "source": [
        "sum([True, False, True])"
      ],
      "execution_count": 40,
      "outputs": [
        {
          "output_type": "execute_result",
          "data": {
            "text/plain": [
              "2"
            ]
          },
          "metadata": {
            "tags": []
          },
          "execution_count": 40
        }
      ]
    },
    {
      "cell_type": "code",
      "metadata": {
        "id": "JALwr3eY5Ryy",
        "colab_type": "code",
        "colab": {}
      },
      "source": [
        "all = alcohol.size"
      ],
      "execution_count": 0,
      "outputs": []
    },
    {
      "cell_type": "code",
      "metadata": {
        "id": "8PrDaULY5h1G",
        "colab_type": "code",
        "colab": {}
      },
      "source": [
        "nonnulls = alcohol.count()"
      ],
      "execution_count": 0,
      "outputs": []
    },
    {
      "cell_type": "code",
      "metadata": {
        "id": "c6OkKOQ65j3U",
        "colab_type": "code",
        "colab": {}
      },
      "source": [
        "nulls = alcohol.isna().sum()"
      ],
      "execution_count": 0,
      "outputs": []
    },
    {
      "cell_type": "code",
      "metadata": {
        "id": "7dfAEkwN5psH",
        "colab_type": "code",
        "outputId": "76749643-02b5-465b-b855-bfda945ea5e7",
        "colab": {
          "base_uri": "https://localhost:8080/",
          "height": 0
        }
      },
      "source": [
        "all == nonnulls + nulls"
      ],
      "execution_count": 44,
      "outputs": [
        {
          "output_type": "execute_result",
          "data": {
            "text/plain": [
              "True"
            ]
          },
          "metadata": {
            "tags": []
          },
          "execution_count": 44
        }
      ]
    },
    {
      "cell_type": "markdown",
      "metadata": {
        "id": "0cQFTQaf5sdp",
        "colab_type": "text"
      },
      "source": [
        "#### BONUS: Another Approach"
      ]
    },
    {
      "cell_type": "code",
      "metadata": {
        "id": "BwJQxxmOEzrv",
        "colab_type": "code",
        "colab": {}
      },
      "source": [
        "# ufunc -> universal function"
      ],
      "execution_count": 0,
      "outputs": []
    },
    {
      "cell_type": "code",
      "metadata": {
        "id": "NAxUwv4bHqAE",
        "colab_type": "code",
        "outputId": "8b2a40fc-32a0-48be-c052-b5054cd8866f",
        "colab": {
          "base_uri": "https://localhost:8080/",
          "height": 0
        }
      },
      "source": [
        "np.isnan"
      ],
      "execution_count": 46,
      "outputs": [
        {
          "output_type": "execute_result",
          "data": {
            "text/plain": [
              "<ufunc 'isnan'>"
            ]
          },
          "metadata": {
            "tags": []
          },
          "execution_count": 46
        }
      ]
    },
    {
      "cell_type": "code",
      "metadata": {
        "id": "Ds6uEqwiHsnR",
        "colab_type": "code",
        "colab": {}
      },
      "source": [
        "ser = pd.Series(data=[True, False, None, 2], dtype=float)"
      ],
      "execution_count": 0,
      "outputs": []
    },
    {
      "cell_type": "code",
      "metadata": {
        "id": "ga4-GwZ8Hru3",
        "colab_type": "code",
        "outputId": "e1c1fb65-318f-4b64-bd44-95d94f16719e",
        "colab": {
          "base_uri": "https://localhost:8080/",
          "height": 0
        }
      },
      "source": [
        "np.isnan(ser)"
      ],
      "execution_count": 48,
      "outputs": [
        {
          "output_type": "execute_result",
          "data": {
            "text/plain": [
              "0    False\n",
              "1    False\n",
              "2     True\n",
              "3    False\n",
              "dtype: bool"
            ]
          },
          "metadata": {
            "tags": []
          },
          "execution_count": 48
        }
      ]
    },
    {
      "cell_type": "code",
      "metadata": {
        "id": "JkQ5C6t1Hrrj",
        "colab_type": "code",
        "outputId": "fb295812-08ed-49b7-aa89-9b07468ea94c",
        "colab": {
          "base_uri": "https://localhost:8080/",
          "height": 0
        }
      },
      "source": [
        "ser"
      ],
      "execution_count": 49,
      "outputs": [
        {
          "output_type": "execute_result",
          "data": {
            "text/plain": [
              "0    1.0\n",
              "1    0.0\n",
              "2    NaN\n",
              "3    2.0\n",
              "dtype: float64"
            ]
          },
          "metadata": {
            "tags": []
          },
          "execution_count": 49
        }
      ]
    },
    {
      "cell_type": "code",
      "metadata": {
        "id": "6wduynawHrGp",
        "colab_type": "code",
        "outputId": "08df61f3-2ecc-4e68-eaa7-2500429ba24e",
        "colab": {
          "base_uri": "https://localhost:8080/",
          "height": 0
        }
      },
      "source": [
        "alcohol[np.isnan].size"
      ],
      "execution_count": 50,
      "outputs": [
        {
          "output_type": "execute_result",
          "data": {
            "text/plain": [
              "31"
            ]
          },
          "metadata": {
            "tags": []
          },
          "execution_count": 50
        }
      ]
    },
    {
      "cell_type": "code",
      "metadata": {
        "id": "qv0ESse1Id3c",
        "colab_type": "code",
        "colab": {}
      },
      "source": [
        "# alcohol[alcohol.isna()]"
      ],
      "execution_count": 0,
      "outputs": []
    },
    {
      "cell_type": "markdown",
      "metadata": {
        "id": "avNo9M4XIscn",
        "colab_type": "text"
      },
      "source": [
        "#### The Other Side: notnull() And notna()"
      ]
    },
    {
      "cell_type": "code",
      "metadata": {
        "id": "lLEHEcbKyAUF",
        "colab_type": "code",
        "colab": {}
      },
      "source": [
        "# notnull()"
      ],
      "execution_count": 0,
      "outputs": []
    },
    {
      "cell_type": "code",
      "metadata": {
        "id": "olmwJ_VwyAJn",
        "colab_type": "code",
        "outputId": "d473cccf-d1db-4dc3-bcd3-305b0174a4f1",
        "colab": {
          "base_uri": "https://localhost:8080/",
          "height": 0
        }
      },
      "source": [
        "alcohol.notnull()"
      ],
      "execution_count": 53,
      "outputs": [
        {
          "output_type": "execute_result",
          "data": {
            "text/plain": [
              "country\n",
              "Afghanistan    False\n",
              "Albania         True\n",
              "Algeria         True\n",
              "Andorra         True\n",
              "Angola          True\n",
              "               ...  \n",
              "Venezuela       True\n",
              "Vietnam         True\n",
              "Yemen          False\n",
              "Zambia          True\n",
              "Zimbabwe        True\n",
              "Name: wine_servings, Length: 193, dtype: bool"
            ]
          },
          "metadata": {
            "tags": []
          },
          "execution_count": 53
        }
      ]
    },
    {
      "cell_type": "code",
      "metadata": {
        "id": "wlHqiCsDxn4P",
        "colab_type": "code",
        "outputId": "35f918f7-3b04-4138-d16b-238437edd653",
        "colab": {
          "base_uri": "https://localhost:8080/",
          "height": 0
        }
      },
      "source": [
        "alcohol.loc[alcohol.notna()]"
      ],
      "execution_count": 54,
      "outputs": [
        {
          "output_type": "execute_result",
          "data": {
            "text/plain": [
              "country\n",
              "Albania               54.0\n",
              "Algeria               14.0\n",
              "Andorra              312.0\n",
              "Angola                45.0\n",
              "Antigua & Barbuda     45.0\n",
              "                     ...  \n",
              "Vanuatu               11.0\n",
              "Venezuela              3.0\n",
              "Vietnam                1.0\n",
              "Zambia                 4.0\n",
              "Zimbabwe               4.0\n",
              "Name: wine_servings, Length: 162, dtype: float64"
            ]
          },
          "metadata": {
            "tags": []
          },
          "execution_count": 54
        }
      ]
    },
    {
      "cell_type": "code",
      "metadata": {
        "id": "gvoTVEHyxn00",
        "colab_type": "code",
        "outputId": "444569c5-f477-402f-8459-fbe290888742",
        "colab": {
          "base_uri": "https://localhost:8080/",
          "height": 0
        }
      },
      "source": [
        "alcohol.notna().sum()"
      ],
      "execution_count": 55,
      "outputs": [
        {
          "output_type": "execute_result",
          "data": {
            "text/plain": [
              "162"
            ]
          },
          "metadata": {
            "tags": []
          },
          "execution_count": 55
        }
      ]
    },
    {
      "cell_type": "code",
      "metadata": {
        "id": "_-bDETUrxmNY",
        "colab_type": "code",
        "outputId": "4434a6cd-b256-410b-f5f4-c1eada0d4066",
        "colab": {
          "base_uri": "https://localhost:8080/",
          "height": 0
        }
      },
      "source": [
        "alcohol.count()"
      ],
      "execution_count": 56,
      "outputs": [
        {
          "output_type": "execute_result",
          "data": {
            "text/plain": [
              "162"
            ]
          },
          "metadata": {
            "tags": []
          },
          "execution_count": 56
        }
      ]
    },
    {
      "cell_type": "code",
      "metadata": {
        "id": "4m-sZQkexmRo",
        "colab_type": "code",
        "outputId": "1d9b5930-2cd0-4831-d443-6819a37005ca",
        "colab": {
          "base_uri": "https://localhost:8080/",
          "height": 0
        }
      },
      "source": [
        "alcohol.notnull().sum() + alcohol.isnull().sum() == alcohol.size"
      ],
      "execution_count": 57,
      "outputs": [
        {
          "output_type": "execute_result",
          "data": {
            "text/plain": [
              "True"
            ]
          },
          "metadata": {
            "tags": []
          },
          "execution_count": 57
        }
      ]
    },
    {
      "cell_type": "code",
      "metadata": {
        "id": "Laoiyhqpyf4D",
        "colab_type": "code",
        "outputId": "0c34e2e7-2ba5-4f4b-d1a9-a5729b3b0951",
        "colab": {
          "base_uri": "https://localhost:8080/",
          "height": 0
        }
      },
      "source": [
        "type(True)"
      ],
      "execution_count": 58,
      "outputs": [
        {
          "output_type": "execute_result",
          "data": {
            "text/plain": [
              "bool"
            ]
          },
          "metadata": {
            "tags": []
          },
          "execution_count": 58
        }
      ]
    },
    {
      "cell_type": "markdown",
      "metadata": {
        "id": "ZvebaX6H22G9",
        "colab_type": "text"
      },
      "source": [
        "#### BONUS: Booleans Are Literally Numbers In Python"
      ]
    },
    {
      "cell_type": "code",
      "metadata": {
        "id": "nSuFI9pH69E3",
        "colab_type": "code",
        "outputId": "ab1a1b16-241c-4996-99ad-51c3f8fec784",
        "colab": {
          "base_uri": "https://localhost:8080/",
          "height": 0
        }
      },
      "source": [
        "True + 19"
      ],
      "execution_count": 59,
      "outputs": [
        {
          "output_type": "execute_result",
          "data": {
            "text/plain": [
              "20"
            ]
          },
          "metadata": {
            "tags": []
          },
          "execution_count": 59
        }
      ]
    },
    {
      "cell_type": "code",
      "metadata": {
        "id": "hpJb2pRi68nH",
        "colab_type": "code",
        "outputId": "c83a600b-7e32-4a98-8b1e-2a203a3be58e",
        "colab": {
          "base_uri": "https://localhost:8080/",
          "height": 0
        }
      },
      "source": [
        "True + True - False + True * 3"
      ],
      "execution_count": 60,
      "outputs": [
        {
          "output_type": "execute_result",
          "data": {
            "text/plain": [
              "5"
            ]
          },
          "metadata": {
            "tags": []
          },
          "execution_count": 60
        }
      ]
    },
    {
      "cell_type": "code",
      "metadata": {
        "id": "BOgom4_z68hV",
        "colab_type": "code",
        "colab": {}
      },
      "source": [
        "# 5 / False"
      ],
      "execution_count": 0,
      "outputs": []
    },
    {
      "cell_type": "code",
      "metadata": {
        "id": "hLo-mpdm68dS",
        "colab_type": "code",
        "outputId": "f5dfdc1b-9053-4dbb-8f78-bf4bc6773e53",
        "colab": {
          "base_uri": "https://localhost:8080/",
          "height": 0
        }
      },
      "source": [
        "type(True)"
      ],
      "execution_count": 62,
      "outputs": [
        {
          "output_type": "execute_result",
          "data": {
            "text/plain": [
              "bool"
            ]
          },
          "metadata": {
            "tags": []
          },
          "execution_count": 62
        }
      ]
    },
    {
      "cell_type": "code",
      "metadata": {
        "id": "MczRmG6g4f6c",
        "colab_type": "code",
        "outputId": "ce7454d7-ad65-49b6-ad2a-4548f32c2079",
        "colab": {
          "base_uri": "https://localhost:8080/",
          "height": 0
        }
      },
      "source": [
        "type(False)"
      ],
      "execution_count": 63,
      "outputs": [
        {
          "output_type": "execute_result",
          "data": {
            "text/plain": [
              "bool"
            ]
          },
          "metadata": {
            "tags": []
          },
          "execution_count": 63
        }
      ]
    },
    {
      "cell_type": "code",
      "metadata": {
        "id": "tD2pTO6y7biP",
        "colab_type": "code",
        "outputId": "c11965d9-ab29-4b76-a406-42793d81ac2c",
        "colab": {
          "base_uri": "https://localhost:8080/",
          "height": 0
        }
      },
      "source": [
        "bool.__mro__"
      ],
      "execution_count": 64,
      "outputs": [
        {
          "output_type": "execute_result",
          "data": {
            "text/plain": [
              "(bool, int, object)"
            ]
          },
          "metadata": {
            "tags": []
          },
          "execution_count": 64
        }
      ]
    },
    {
      "cell_type": "code",
      "metadata": {
        "id": "a4fuYdeW7ewF",
        "colab_type": "code",
        "outputId": "1489edfb-a6be-4d7a-a6cc-85c66fc680bd",
        "colab": {
          "base_uri": "https://localhost:8080/",
          "height": 0
        }
      },
      "source": [
        "alcohol.isnull().sum()"
      ],
      "execution_count": 65,
      "outputs": [
        {
          "output_type": "execute_result",
          "data": {
            "text/plain": [
              "31"
            ]
          },
          "metadata": {
            "tags": []
          },
          "execution_count": 65
        }
      ]
    },
    {
      "cell_type": "markdown",
      "metadata": {
        "id": "WXhFbvHH7pNc",
        "colab_type": "text"
      },
      "source": [
        "#### Skill Challenge"
      ]
    },
    {
      "cell_type": "markdown",
      "metadata": {
        "id": "YHKgbkR68zod",
        "colab_type": "text"
      },
      "source": [
        "###### **1**."
      ]
    },
    {
      "cell_type": "markdown",
      "metadata": {
        "id": "5hFp3aOc8_6P",
        "colab_type": "text"
      },
      "source": [
        "Isolate the non-nulls in the *alcohol* series and assign them to the variable *wine_servings*."
      ]
    },
    {
      "cell_type": "markdown",
      "metadata": {
        "id": "qZK-PRez8ysX",
        "colab_type": "text"
      },
      "source": [
        "###### **2**."
      ]
    },
    {
      "cell_type": "markdown",
      "metadata": {
        "id": "OBAYPavc8yKl",
        "colab_type": "text"
      },
      "source": [
        "What is the total wine consumed by countries in *wine_servings*?"
      ]
    },
    {
      "cell_type": "markdown",
      "metadata": {
        "id": "FoywZIaI8tXr",
        "colab_type": "text"
      },
      "source": [
        "###### **BONUS 3**."
      ]
    },
    {
      "cell_type": "markdown",
      "metadata": {
        "id": "QfkvdBzG8tai",
        "colab_type": "text"
      },
      "source": [
        "In the *wine_servings* dataset, what was the total wine consumed by countries that consumed less than 100 servings?\n",
        "\n",
        "*Hint*: apply a boolean mask to identify such countries, then sum()."
      ]
    },
    {
      "cell_type": "markdown",
      "metadata": {
        "id": "-6H40AKm_86N",
        "colab_type": "text"
      },
      "source": [
        "#### Solution"
      ]
    },
    {
      "cell_type": "code",
      "metadata": {
        "id": "ZtBYQaFxB0Gx",
        "colab_type": "code",
        "colab": {}
      },
      "source": [
        "# 1"
      ],
      "execution_count": 0,
      "outputs": []
    },
    {
      "cell_type": "code",
      "metadata": {
        "id": "UEFFGFqdB32W",
        "colab_type": "code",
        "colab": {}
      },
      "source": [
        "wine_servings = alcohol[alcohol.notnull()]"
      ],
      "execution_count": 0,
      "outputs": []
    },
    {
      "cell_type": "code",
      "metadata": {
        "id": "ttYQgQYTB8Ht",
        "colab_type": "code",
        "outputId": "80243b23-fe4c-4f75-8e17-717e88717429",
        "colab": {
          "base_uri": "https://localhost:8080/",
          "height": 0
        }
      },
      "source": [
        "wine_servings.head()"
      ],
      "execution_count": 68,
      "outputs": [
        {
          "output_type": "execute_result",
          "data": {
            "text/plain": [
              "country\n",
              "Albania               54.0\n",
              "Algeria               14.0\n",
              "Andorra              312.0\n",
              "Angola                45.0\n",
              "Antigua & Barbuda     45.0\n",
              "Name: wine_servings, dtype: float64"
            ]
          },
          "metadata": {
            "tags": []
          },
          "execution_count": 68
        }
      ]
    },
    {
      "cell_type": "code",
      "metadata": {
        "id": "zpzPqvdtB9GW",
        "colab_type": "code",
        "colab": {}
      },
      "source": [
        "# 2"
      ],
      "execution_count": 0,
      "outputs": []
    },
    {
      "cell_type": "code",
      "metadata": {
        "id": "GG2-xYeFCEI8",
        "colab_type": "code",
        "outputId": "fc2fab5c-e49e-4fa4-e3cc-15722993c3a1",
        "colab": {
          "base_uri": "https://localhost:8080/",
          "height": 0
        }
      },
      "source": [
        "wine_servings.sum()"
      ],
      "execution_count": 70,
      "outputs": [
        {
          "output_type": "execute_result",
          "data": {
            "text/plain": [
              "8221.0"
            ]
          },
          "metadata": {
            "tags": []
          },
          "execution_count": 70
        }
      ]
    },
    {
      "cell_type": "code",
      "metadata": {
        "id": "Ke2FKX5SCHX3",
        "colab_type": "code",
        "colab": {}
      },
      "source": [
        "# 3"
      ],
      "execution_count": 0,
      "outputs": []
    },
    {
      "cell_type": "code",
      "metadata": {
        "id": "wdpl3sp3CPn_",
        "colab_type": "code",
        "outputId": "3980c92d-31f3-4675-8b0f-1cee4e54986d",
        "colab": {
          "base_uri": "https://localhost:8080/",
          "height": 0
        }
      },
      "source": [
        "wine_servings < 100"
      ],
      "execution_count": 72,
      "outputs": [
        {
          "output_type": "execute_result",
          "data": {
            "text/plain": [
              "country\n",
              "Albania               True\n",
              "Algeria               True\n",
              "Andorra              False\n",
              "Angola                True\n",
              "Antigua & Barbuda     True\n",
              "                     ...  \n",
              "Vanuatu               True\n",
              "Venezuela             True\n",
              "Vietnam               True\n",
              "Zambia                True\n",
              "Zimbabwe              True\n",
              "Name: wine_servings, Length: 162, dtype: bool"
            ]
          },
          "metadata": {
            "tags": []
          },
          "execution_count": 72
        }
      ]
    },
    {
      "cell_type": "code",
      "metadata": {
        "id": "EUj44jbhCUTn",
        "colab_type": "code",
        "outputId": "332f638b-231c-4636-ad2d-9e54209be1cf",
        "colab": {
          "base_uri": "https://localhost:8080/",
          "height": 0
        }
      },
      "source": [
        "alcohol.notnull()"
      ],
      "execution_count": 73,
      "outputs": [
        {
          "output_type": "execute_result",
          "data": {
            "text/plain": [
              "country\n",
              "Afghanistan    False\n",
              "Albania         True\n",
              "Algeria         True\n",
              "Andorra         True\n",
              "Angola          True\n",
              "               ...  \n",
              "Venezuela       True\n",
              "Vietnam         True\n",
              "Yemen          False\n",
              "Zambia          True\n",
              "Zimbabwe        True\n",
              "Name: wine_servings, Length: 193, dtype: bool"
            ]
          },
          "metadata": {
            "tags": []
          },
          "execution_count": 73
        }
      ]
    },
    {
      "cell_type": "code",
      "metadata": {
        "id": "Hden9KfnCKYC",
        "colab_type": "code",
        "outputId": "bbf70ddd-3e0a-43f3-c91a-5f777d8a98b8",
        "colab": {
          "base_uri": "https://localhost:8080/",
          "height": 0
        }
      },
      "source": [
        "wine_servings[wine_servings < 100].sum()"
      ],
      "execution_count": 74,
      "outputs": [
        {
          "output_type": "execute_result",
          "data": {
            "text/plain": [
              "2416.0"
            ]
          },
          "metadata": {
            "tags": []
          },
          "execution_count": 74
        }
      ]
    },
    {
      "cell_type": "markdown",
      "metadata": {
        "id": "xrjB9p_LCcBM",
        "colab_type": "text"
      },
      "source": [
        "#### Dropping And Filling NAs"
      ]
    },
    {
      "cell_type": "code",
      "metadata": {
        "id": "-Tw5g0rSOCFI",
        "colab_type": "code",
        "outputId": "f3c09cb4-e019-42ba-9afa-d621d069b3de",
        "colab": {
          "base_uri": "https://localhost:8080/",
          "height": 0
        }
      },
      "source": [
        "alcohol.dropna()"
      ],
      "execution_count": 75,
      "outputs": [
        {
          "output_type": "execute_result",
          "data": {
            "text/plain": [
              "country\n",
              "Albania               54.0\n",
              "Algeria               14.0\n",
              "Andorra              312.0\n",
              "Angola                45.0\n",
              "Antigua & Barbuda     45.0\n",
              "                     ...  \n",
              "Vanuatu               11.0\n",
              "Venezuela              3.0\n",
              "Vietnam                1.0\n",
              "Zambia                 4.0\n",
              "Zimbabwe               4.0\n",
              "Name: wine_servings, Length: 162, dtype: float64"
            ]
          },
          "metadata": {
            "tags": []
          },
          "execution_count": 75
        }
      ]
    },
    {
      "cell_type": "code",
      "metadata": {
        "id": "g1mBJPHTOB2B",
        "colab_type": "code",
        "outputId": "33069dc4-3cce-4c5d-892c-b144b80e42f6",
        "colab": {
          "base_uri": "https://localhost:8080/",
          "height": 0
        }
      },
      "source": [
        "alcohol"
      ],
      "execution_count": 76,
      "outputs": [
        {
          "output_type": "execute_result",
          "data": {
            "text/plain": [
              "country\n",
              "Afghanistan      NaN\n",
              "Albania         54.0\n",
              "Algeria         14.0\n",
              "Andorra        312.0\n",
              "Angola          45.0\n",
              "               ...  \n",
              "Venezuela        3.0\n",
              "Vietnam          1.0\n",
              "Yemen            NaN\n",
              "Zambia           4.0\n",
              "Zimbabwe         4.0\n",
              "Name: wine_servings, Length: 193, dtype: float64"
            ]
          },
          "metadata": {
            "tags": []
          },
          "execution_count": 76
        }
      ]
    },
    {
      "cell_type": "code",
      "metadata": {
        "id": "V-EWM7vUOUEL",
        "colab_type": "code",
        "colab": {}
      },
      "source": [
        "# one way: reassignment"
      ],
      "execution_count": 0,
      "outputs": []
    },
    {
      "cell_type": "code",
      "metadata": {
        "id": "PYirECSLN7c8",
        "colab_type": "code",
        "colab": {}
      },
      "source": [
        "# alcohol = alcohol.dropna()"
      ],
      "execution_count": 0,
      "outputs": []
    },
    {
      "cell_type": "code",
      "metadata": {
        "id": "0k624mWwN8Cm",
        "colab_type": "code",
        "colab": {}
      },
      "source": [
        "# another way: inplace param"
      ],
      "execution_count": 0,
      "outputs": []
    },
    {
      "cell_type": "code",
      "metadata": {
        "id": "OoK5EfayN78m",
        "colab_type": "code",
        "colab": {}
      },
      "source": [
        "# alcohol.dropna(inplace=True)"
      ],
      "execution_count": 0,
      "outputs": []
    },
    {
      "cell_type": "code",
      "metadata": {
        "id": "yoogFfkSN7ik",
        "colab_type": "code",
        "outputId": "c688b199-f2ee-459d-f138-a2416bc56831",
        "colab": {
          "base_uri": "https://localhost:8080/",
          "height": 0
        }
      },
      "source": [
        "alcohol.dropna(inplace=False)"
      ],
      "execution_count": 81,
      "outputs": [
        {
          "output_type": "execute_result",
          "data": {
            "text/plain": [
              "country\n",
              "Albania               54.0\n",
              "Algeria               14.0\n",
              "Andorra              312.0\n",
              "Angola                45.0\n",
              "Antigua & Barbuda     45.0\n",
              "                     ...  \n",
              "Vanuatu               11.0\n",
              "Venezuela              3.0\n",
              "Vietnam                1.0\n",
              "Zambia                 4.0\n",
              "Zimbabwe               4.0\n",
              "Name: wine_servings, Length: 162, dtype: float64"
            ]
          },
          "metadata": {
            "tags": []
          },
          "execution_count": 81
        }
      ]
    },
    {
      "cell_type": "code",
      "metadata": {
        "id": "84G7FNkuOi69",
        "colab_type": "code",
        "outputId": "6e1b8b06-6e46-468d-d815-817c1948cdaf",
        "colab": {
          "base_uri": "https://localhost:8080/",
          "height": 0
        }
      },
      "source": [
        "alcohol.fillna(100, inplace=False)"
      ],
      "execution_count": 82,
      "outputs": [
        {
          "output_type": "execute_result",
          "data": {
            "text/plain": [
              "country\n",
              "Afghanistan    100.0\n",
              "Albania         54.0\n",
              "Algeria         14.0\n",
              "Andorra        312.0\n",
              "Angola          45.0\n",
              "               ...  \n",
              "Venezuela        3.0\n",
              "Vietnam          1.0\n",
              "Yemen          100.0\n",
              "Zambia           4.0\n",
              "Zimbabwe         4.0\n",
              "Name: wine_servings, Length: 193, dtype: float64"
            ]
          },
          "metadata": {
            "tags": []
          },
          "execution_count": 82
        }
      ]
    },
    {
      "cell_type": "markdown",
      "metadata": {
        "id": "wqgJ5eHjO0W8",
        "colab_type": "text"
      },
      "source": [
        "#### Descriptive Statistics"
      ]
    },
    {
      "cell_type": "code",
      "metadata": {
        "id": "AszQdqyNeUXG",
        "colab_type": "code",
        "outputId": "cb093d9c-9bff-4b79-a119-61db7bdf60fc",
        "colab": {
          "base_uri": "https://localhost:8080/",
          "height": 0
        }
      },
      "source": [
        "alcohol.sum()"
      ],
      "execution_count": 83,
      "outputs": [
        {
          "output_type": "execute_result",
          "data": {
            "text/plain": [
              "8221.0"
            ]
          },
          "metadata": {
            "tags": []
          },
          "execution_count": 83
        }
      ]
    },
    {
      "cell_type": "code",
      "metadata": {
        "id": "1GHW3ZTeeUNi",
        "colab_type": "code",
        "colab": {}
      },
      "source": [
        "# average"
      ],
      "execution_count": 0,
      "outputs": []
    },
    {
      "cell_type": "code",
      "metadata": {
        "id": "3k03Et_weTQn",
        "colab_type": "code",
        "outputId": "02b6b296-fb86-4479-dd8b-7937ba56df31",
        "colab": {
          "base_uri": "https://localhost:8080/",
          "height": 0
        }
      },
      "source": [
        "alcohol.count()"
      ],
      "execution_count": 85,
      "outputs": [
        {
          "output_type": "execute_result",
          "data": {
            "text/plain": [
              "162"
            ]
          },
          "metadata": {
            "tags": []
          },
          "execution_count": 85
        }
      ]
    },
    {
      "cell_type": "code",
      "metadata": {
        "id": "9pfmLY5UeTKf",
        "colab_type": "code",
        "outputId": "ecb2a931-be62-4e6d-fecf-09673f0bb4ad",
        "colab": {
          "base_uri": "https://localhost:8080/",
          "height": 0
        }
      },
      "source": [
        "alcohol.sum() / alcohol.count()"
      ],
      "execution_count": 86,
      "outputs": [
        {
          "output_type": "execute_result",
          "data": {
            "text/plain": [
              "50.74691358024691"
            ]
          },
          "metadata": {
            "tags": []
          },
          "execution_count": 86
        }
      ]
    },
    {
      "cell_type": "code",
      "metadata": {
        "id": "XfnfoY9reS4s",
        "colab_type": "code",
        "outputId": "c9b4b251-90bc-4e25-b747-83aadd1762fe",
        "colab": {
          "base_uri": "https://localhost:8080/",
          "height": 0
        }
      },
      "source": [
        "alcohol.mean()"
      ],
      "execution_count": 87,
      "outputs": [
        {
          "output_type": "execute_result",
          "data": {
            "text/plain": [
              "50.74691358024691"
            ]
          },
          "metadata": {
            "tags": []
          },
          "execution_count": 87
        }
      ]
    },
    {
      "cell_type": "code",
      "metadata": {
        "id": "EjrKMXDOeOYu",
        "colab_type": "code",
        "colab": {}
      },
      "source": [
        "# median"
      ],
      "execution_count": 0,
      "outputs": []
    },
    {
      "cell_type": "code",
      "metadata": {
        "id": "ITjSlF2vPhhh",
        "colab_type": "code",
        "outputId": "0543e78a-c719-42c1-8309-0d2676a3ec22",
        "colab": {
          "base_uri": "https://localhost:8080/",
          "height": 0
        }
      },
      "source": [
        "alcohol.median()"
      ],
      "execution_count": 89,
      "outputs": [
        {
          "output_type": "execute_result",
          "data": {
            "text/plain": [
              "11.5"
            ]
          },
          "metadata": {
            "tags": []
          },
          "execution_count": 89
        }
      ]
    },
    {
      "cell_type": "code",
      "metadata": {
        "id": "AWpNYagle-le",
        "colab_type": "code",
        "outputId": "51ec311a-e1ad-4915-dd94-07ec7ee8cbc6",
        "colab": {
          "base_uri": "https://localhost:8080/",
          "height": 0
        }
      },
      "source": [
        "alcohol.quantile(.5)"
      ],
      "execution_count": 90,
      "outputs": [
        {
          "output_type": "execute_result",
          "data": {
            "text/plain": [
              "11.5"
            ]
          },
          "metadata": {
            "tags": []
          },
          "execution_count": 90
        }
      ]
    },
    {
      "cell_type": "code",
      "metadata": {
        "id": "FePcumbTfDXj",
        "colab_type": "code",
        "outputId": "094c7de9-68e5-4764-9a84-38c9972a00f8",
        "colab": {
          "base_uri": "https://localhost:8080/",
          "height": 0
        }
      },
      "source": [
        "alcohol.hist();"
      ],
      "execution_count": 91,
      "outputs": [
        {
          "output_type": "display_data",
          "data": {
            "image/png": "[encoded data removed]",
            "text/plain": [
              "<Figure size 432x288 with 1 Axes>"
            ]
          },
          "metadata": {
            "tags": []
          }
        }
      ]
    },
    {
      "cell_type": "code",
      "metadata": {
        "id": "7oBYGr5EfhyJ",
        "colab_type": "code",
        "colab": {}
      },
      "source": [
        "# IQR"
      ],
      "execution_count": 0,
      "outputs": []
    },
    {
      "cell_type": "code",
      "metadata": {
        "id": "OU9zbEjWfuYY",
        "colab_type": "code",
        "colab": {}
      },
      "source": [
        "iqr = alcohol.quantile(.75) - alcohol.quantile(.25)"
      ],
      "execution_count": 0,
      "outputs": []
    },
    {
      "cell_type": "code",
      "metadata": {
        "id": "-2yJB8X4fz42",
        "colab_type": "code",
        "outputId": "678279f8-db0a-4f08-8111-70eef480da79",
        "colab": {
          "base_uri": "https://localhost:8080/",
          "height": 0
        }
      },
      "source": [
        "iqr"
      ],
      "execution_count": 94,
      "outputs": [
        {
          "output_type": "execute_result",
          "data": {
            "text/plain": [
              "58.25"
            ]
          },
          "metadata": {
            "tags": []
          },
          "execution_count": 94
        }
      ]
    },
    {
      "cell_type": "code",
      "metadata": {
        "id": "fzAF-x7Wf0Ts",
        "colab_type": "code",
        "colab": {}
      },
      "source": [
        "# min and max"
      ],
      "execution_count": 0,
      "outputs": []
    },
    {
      "cell_type": "code",
      "metadata": {
        "id": "CP3ULNFLf7ON",
        "colab_type": "code",
        "outputId": "25820665-eb67-490e-95c0-026d416e399d",
        "colab": {
          "base_uri": "https://localhost:8080/",
          "height": 0
        }
      },
      "source": [
        "alcohol.min()"
      ],
      "execution_count": 96,
      "outputs": [
        {
          "output_type": "execute_result",
          "data": {
            "text/plain": [
              "1.0"
            ]
          },
          "metadata": {
            "tags": []
          },
          "execution_count": 96
        }
      ]
    },
    {
      "cell_type": "code",
      "metadata": {
        "id": "uo_u8XJif8oL",
        "colab_type": "code",
        "outputId": "d3f3c614-dcdd-471f-d661-a64877d0de3b",
        "colab": {
          "base_uri": "https://localhost:8080/",
          "height": 0
        }
      },
      "source": [
        "alcohol.max()"
      ],
      "execution_count": 97,
      "outputs": [
        {
          "output_type": "execute_result",
          "data": {
            "text/plain": [
              "339.0"
            ]
          },
          "metadata": {
            "tags": []
          },
          "execution_count": 97
        }
      ]
    },
    {
      "cell_type": "code",
      "metadata": {
        "id": "7JXY4-0Pf-t2",
        "colab_type": "code",
        "colab": {}
      },
      "source": [
        "# standard deviation"
      ],
      "execution_count": 0,
      "outputs": []
    },
    {
      "cell_type": "code",
      "metadata": {
        "id": "qCi-A-FEgBQK",
        "colab_type": "code",
        "outputId": "f5cc9426-89ca-4206-cc43-20a5583eebd8",
        "colab": {
          "base_uri": "https://localhost:8080/",
          "height": 0
        }
      },
      "source": [
        "alcohol.std()"
      ],
      "execution_count": 99,
      "outputs": [
        {
          "output_type": "execute_result",
          "data": {
            "text/plain": [
              "76.13491716376173"
            ]
          },
          "metadata": {
            "tags": []
          },
          "execution_count": 99
        }
      ]
    },
    {
      "cell_type": "code",
      "metadata": {
        "id": "66GDeRuJgCyM",
        "colab_type": "code",
        "colab": {}
      },
      "source": [
        "# variance"
      ],
      "execution_count": 0,
      "outputs": []
    },
    {
      "cell_type": "code",
      "metadata": {
        "id": "lvtzNmKagFHz",
        "colab_type": "code",
        "outputId": "f71cc4a1-2ef8-4958-e5c7-989ba0067e5c",
        "colab": {
          "base_uri": "https://localhost:8080/",
          "height": 0
        }
      },
      "source": [
        "alcohol.var()"
      ],
      "execution_count": 101,
      "outputs": [
        {
          "output_type": "execute_result",
          "data": {
            "text/plain": [
              "5796.52561153286"
            ]
          },
          "metadata": {
            "tags": []
          },
          "execution_count": 101
        }
      ]
    },
    {
      "cell_type": "code",
      "metadata": {
        "id": "T1am8gNZgGLF",
        "colab_type": "code",
        "outputId": "3f9e6469-5cd6-4966-b3b9-57b5cca34da4",
        "colab": {
          "base_uri": "https://localhost:8080/",
          "height": 0
        }
      },
      "source": [
        "alcohol.std()**2 == alcohol.var()"
      ],
      "execution_count": 102,
      "outputs": [
        {
          "output_type": "execute_result",
          "data": {
            "text/plain": [
              "True"
            ]
          },
          "metadata": {
            "tags": []
          },
          "execution_count": 102
        }
      ]
    },
    {
      "cell_type": "markdown",
      "metadata": {
        "id": "fWHpVbsggJTo",
        "colab_type": "text"
      },
      "source": [
        "#### The describe() Method"
      ]
    },
    {
      "cell_type": "code",
      "metadata": {
        "id": "NqkEAdZzi9fJ",
        "colab_type": "code",
        "outputId": "2d05dc97-3b63-4769-fe2f-af345d037f27",
        "colab": {
          "base_uri": "https://localhost:8080/",
          "height": 0
        }
      },
      "source": [
        "alcohol.describe()"
      ],
      "execution_count": 103,
      "outputs": [
        {
          "output_type": "execute_result",
          "data": {
            "text/plain": [
              "count    162.000000\n",
              "mean      50.746914\n",
              "std       76.134917\n",
              "min        1.000000\n",
              "25%        3.000000\n",
              "50%       11.500000\n",
              "75%       61.250000\n",
              "max      339.000000\n",
              "Name: wine_servings, dtype: float64"
            ]
          },
          "metadata": {
            "tags": []
          },
          "execution_count": 103
        }
      ]
    },
    {
      "cell_type": "code",
      "metadata": {
        "id": "HI_AK_2ui9Zs",
        "colab_type": "code",
        "outputId": "b3736b51-2860-474a-d658-bcb804fcef76",
        "colab": {
          "base_uri": "https://localhost:8080/",
          "height": 0
        }
      },
      "source": [
        "alcohol.describe(percentiles=[.79, .19])"
      ],
      "execution_count": 104,
      "outputs": [
        {
          "output_type": "execute_result",
          "data": {
            "text/plain": [
              "count    162.000000\n",
              "mean      50.746914\n",
              "std       76.134917\n",
              "min        1.000000\n",
              "19%        2.000000\n",
              "50%       11.500000\n",
              "79%       81.570000\n",
              "max      339.000000\n",
              "Name: wine_servings, dtype: float64"
            ]
          },
          "metadata": {
            "tags": []
          },
          "execution_count": 104
        }
      ]
    },
    {
      "cell_type": "code",
      "metadata": {
        "id": "R2SSZbfTg4_4",
        "colab_type": "code",
        "outputId": "62587f38-555b-49e2-ff8a-6fed17b936d4",
        "colab": {
          "base_uri": "https://localhost:8080/",
          "height": 0
        }
      },
      "source": [
        "alcohol.describe(percentiles=[.79, .19], include=float, exclude=object)"
      ],
      "execution_count": 105,
      "outputs": [
        {
          "output_type": "execute_result",
          "data": {
            "text/plain": [
              "count    162.000000\n",
              "mean      50.746914\n",
              "std       76.134917\n",
              "min        1.000000\n",
              "19%        2.000000\n",
              "50%       11.500000\n",
              "79%       81.570000\n",
              "max      339.000000\n",
              "Name: wine_servings, dtype: float64"
            ]
          },
          "metadata": {
            "tags": []
          },
          "execution_count": 105
        }
      ]
    },
    {
      "cell_type": "code",
      "metadata": {
        "id": "PZRR2CkEg3Iw",
        "colab_type": "code",
        "outputId": "e856aaf5-30eb-4e88-a819-19879ebc9626",
        "colab": {
          "base_uri": "https://localhost:8080/",
          "height": 0
        }
      },
      "source": [
        "alcohol.dtype"
      ],
      "execution_count": 106,
      "outputs": [
        {
          "output_type": "execute_result",
          "data": {
            "text/plain": [
              "dtype('float64')"
            ]
          },
          "metadata": {
            "tags": []
          },
          "execution_count": 106
        }
      ]
    },
    {
      "cell_type": "markdown",
      "metadata": {
        "id": "RhOY4LXjg3R6",
        "colab_type": "text"
      },
      "source": [
        "#### mode() And value_counts() "
      ]
    },
    {
      "cell_type": "code",
      "metadata": {
        "id": "YQ7lALmujpRl",
        "colab_type": "code",
        "colab": {}
      },
      "source": [
        "# mode"
      ],
      "execution_count": 0,
      "outputs": []
    },
    {
      "cell_type": "code",
      "metadata": {
        "id": "Ef6_30RfjpIB",
        "colab_type": "code",
        "outputId": "423f3479-0983-4815-a1bb-44784b246436",
        "colab": {
          "base_uri": "https://localhost:8080/",
          "height": 0
        }
      },
      "source": [
        "alcohol.mode()"
      ],
      "execution_count": 108,
      "outputs": [
        {
          "output_type": "execute_result",
          "data": {
            "text/plain": [
              "0    1.0\n",
              "dtype: float64"
            ]
          },
          "metadata": {
            "tags": []
          },
          "execution_count": 108
        }
      ]
    },
    {
      "cell_type": "code",
      "metadata": {
        "id": "MJi4SbYSjo94",
        "colab_type": "code",
        "outputId": "4dc6e737-5169-4f99-b0e1-a2f9d36cc30c",
        "colab": {
          "base_uri": "https://localhost:8080/",
          "height": 0
        }
      },
      "source": [
        "alcohol == 1"
      ],
      "execution_count": 109,
      "outputs": [
        {
          "output_type": "execute_result",
          "data": {
            "text/plain": [
              "country\n",
              "Afghanistan    False\n",
              "Albania        False\n",
              "Algeria        False\n",
              "Andorra        False\n",
              "Angola         False\n",
              "               ...  \n",
              "Venezuela      False\n",
              "Vietnam         True\n",
              "Yemen          False\n",
              "Zambia         False\n",
              "Zimbabwe       False\n",
              "Name: wine_servings, Length: 193, dtype: bool"
            ]
          },
          "metadata": {
            "tags": []
          },
          "execution_count": 109
        }
      ]
    },
    {
      "cell_type": "code",
      "metadata": {
        "id": "PIDK9zJ9jjYL",
        "colab_type": "code",
        "outputId": "69429ff4-268b-444c-860b-0f9b07208e1a",
        "colab": {
          "base_uri": "https://localhost:8080/",
          "height": 0
        }
      },
      "source": [
        "alcohol[alcohol==1].size"
      ],
      "execution_count": 110,
      "outputs": [
        {
          "output_type": "execute_result",
          "data": {
            "text/plain": [
              "28"
            ]
          },
          "metadata": {
            "tags": []
          },
          "execution_count": 110
        }
      ]
    },
    {
      "cell_type": "code",
      "metadata": {
        "id": "IidoEMJzjjP4",
        "colab_type": "code",
        "colab": {}
      },
      "source": [
        "# value counts"
      ],
      "execution_count": 0,
      "outputs": []
    },
    {
      "cell_type": "code",
      "metadata": {
        "id": "ff9c-p4Ljben",
        "colab_type": "code",
        "outputId": "b9fb50b2-9771-4dfa-cc17-b1ecd8c83a41",
        "colab": {
          "base_uri": "https://localhost:8080/",
          "height": 0
        }
      },
      "source": [
        "alcohol.value_counts()"
      ],
      "execution_count": 112,
      "outputs": [
        {
          "output_type": "execute_result",
          "data": {
            "text/plain": [
              "1.0      28\n",
              "2.0      10\n",
              "7.0       9\n",
              "8.0       7\n",
              "5.0       6\n",
              "         ..\n",
              "185.0     1\n",
              "218.0     1\n",
              "84.0      1\n",
              "149.0     1\n",
              "54.0      1\n",
              "Name: wine_servings, Length: 71, dtype: int64"
            ]
          },
          "metadata": {
            "tags": []
          },
          "execution_count": 112
        }
      ]
    },
    {
      "cell_type": "code",
      "metadata": {
        "id": "yQ8l6AmPkZtO",
        "colab_type": "code",
        "outputId": "182b013f-06f8-49b9-c1d9-ddf78803e54e",
        "colab": {
          "base_uri": "https://localhost:8080/",
          "height": 0
        }
      },
      "source": [
        "alcohol.value_counts().iloc[0]"
      ],
      "execution_count": 113,
      "outputs": [
        {
          "output_type": "execute_result",
          "data": {
            "text/plain": [
              "28"
            ]
          },
          "metadata": {
            "tags": []
          },
          "execution_count": 113
        }
      ]
    },
    {
      "cell_type": "code",
      "metadata": {
        "id": "oIoZFyLbklH5",
        "colab_type": "code",
        "outputId": "3a6eb0bc-02aa-4776-ed2c-a5782ff42f99",
        "colab": {
          "base_uri": "https://localhost:8080/",
          "height": 0
        }
      },
      "source": [
        "alcohol.value_counts(normalize=True)"
      ],
      "execution_count": 114,
      "outputs": [
        {
          "output_type": "execute_result",
          "data": {
            "text/plain": [
              "1.0      0.172840\n",
              "2.0      0.061728\n",
              "7.0      0.055556\n",
              "8.0      0.043210\n",
              "5.0      0.037037\n",
              "           ...   \n",
              "185.0    0.006173\n",
              "218.0    0.006173\n",
              "84.0     0.006173\n",
              "149.0    0.006173\n",
              "54.0     0.006173\n",
              "Name: wine_servings, Length: 71, dtype: float64"
            ]
          },
          "metadata": {
            "tags": []
          },
          "execution_count": 114
        }
      ]
    },
    {
      "cell_type": "code",
      "metadata": {
        "id": "ibg8grZzlCaN",
        "colab_type": "code",
        "outputId": "e12596fe-9e59-4ff5-bfb4-600ac1d13b25",
        "colab": {
          "base_uri": "https://localhost:8080/",
          "height": 0
        }
      },
      "source": [
        "28/alcohol.count()"
      ],
      "execution_count": 115,
      "outputs": [
        {
          "output_type": "execute_result",
          "data": {
            "text/plain": [
              "0.1728395061728395"
            ]
          },
          "metadata": {
            "tags": []
          },
          "execution_count": 115
        }
      ]
    },
    {
      "cell_type": "markdown",
      "metadata": {
        "id": "60HSRX7klLjS",
        "colab_type": "text"
      },
      "source": [
        "#### idxmax() And idxmin()"
      ]
    },
    {
      "cell_type": "code",
      "metadata": {
        "id": "_lE-1EoKIqkO",
        "colab_type": "code",
        "outputId": "d6f5a8d6-d599-4806-c392-0737dc738f31",
        "colab": {
          "base_uri": "https://localhost:8080/",
          "height": 0
        }
      },
      "source": [
        "alcohol.max()"
      ],
      "execution_count": 116,
      "outputs": [
        {
          "output_type": "execute_result",
          "data": {
            "text/plain": [
              "339.0"
            ]
          },
          "metadata": {
            "tags": []
          },
          "execution_count": 116
        }
      ]
    },
    {
      "cell_type": "code",
      "metadata": {
        "id": "jG5xo0imIpwA",
        "colab_type": "code",
        "outputId": "20beb07d-1e2a-401b-acfc-1983efd2ce8f",
        "colab": {
          "base_uri": "https://localhost:8080/",
          "height": 0
        }
      },
      "source": [
        "alcohol[alcohol == alcohol.max()]"
      ],
      "execution_count": 117,
      "outputs": [
        {
          "output_type": "execute_result",
          "data": {
            "text/plain": [
              "country\n",
              "Portugal    339.0\n",
              "Name: wine_servings, dtype: float64"
            ]
          },
          "metadata": {
            "tags": []
          },
          "execution_count": 117
        }
      ]
    },
    {
      "cell_type": "code",
      "metadata": {
        "id": "lhxMm2zIIpst",
        "colab_type": "code",
        "outputId": "9ff97b95-6459-4189-892c-070420973ad7",
        "colab": {
          "base_uri": "https://localhost:8080/",
          "height": 0
        }
      },
      "source": [
        "alcohol[alcohol == alcohol.max()].index"
      ],
      "execution_count": 118,
      "outputs": [
        {
          "output_type": "execute_result",
          "data": {
            "text/plain": [
              "Index(['Portugal'], dtype='object', name='country')"
            ]
          },
          "metadata": {
            "tags": []
          },
          "execution_count": 118
        }
      ]
    },
    {
      "cell_type": "code",
      "metadata": {
        "id": "JLJIHLNYIpoM",
        "colab_type": "code",
        "outputId": "74f0577e-f07d-4875-9808-8bdfde824ffe",
        "colab": {
          "base_uri": "https://localhost:8080/",
          "height": 0
        }
      },
      "source": [
        "type(alcohol[alcohol == alcohol.max()].index)"
      ],
      "execution_count": 119,
      "outputs": [
        {
          "output_type": "execute_result",
          "data": {
            "text/plain": [
              "pandas.core.indexes.base.Index"
            ]
          },
          "metadata": {
            "tags": []
          },
          "execution_count": 119
        }
      ]
    },
    {
      "cell_type": "code",
      "metadata": {
        "id": "oq4ayPW8Ihtc",
        "colab_type": "code",
        "outputId": "5cf8367d-5b88-4460-9b89-27e4b1ac6b55",
        "colab": {
          "base_uri": "https://localhost:8080/",
          "height": 0
        }
      },
      "source": [
        "alcohol[alcohol == alcohol.max()].index[0]"
      ],
      "execution_count": 120,
      "outputs": [
        {
          "output_type": "execute_result",
          "data": {
            "text/plain": [
              "'Portugal'"
            ]
          },
          "metadata": {
            "tags": []
          },
          "execution_count": 120
        }
      ]
    },
    {
      "cell_type": "code",
      "metadata": {
        "id": "oP6nS7p6Iafc",
        "colab_type": "code",
        "outputId": "201e8d44-b9e1-4a26-8584-4ae3066291cc",
        "colab": {
          "base_uri": "https://localhost:8080/",
          "height": 0
        }
      },
      "source": [
        "alcohol.idxmax()"
      ],
      "execution_count": 121,
      "outputs": [
        {
          "output_type": "execute_result",
          "data": {
            "text/plain": [
              "'Portugal'"
            ]
          },
          "metadata": {
            "tags": []
          },
          "execution_count": 121
        }
      ]
    },
    {
      "cell_type": "code",
      "metadata": {
        "id": "r2pxbBiXJImt",
        "colab_type": "code",
        "outputId": "8f39ac2c-ed29-49ed-9312-6abec0233706",
        "colab": {
          "base_uri": "https://localhost:8080/",
          "height": 0
        }
      },
      "source": [
        "alcohol.idxmin()"
      ],
      "execution_count": 122,
      "outputs": [
        {
          "output_type": "execute_result",
          "data": {
            "text/plain": [
              "'Brunei'"
            ]
          },
          "metadata": {
            "tags": []
          },
          "execution_count": 122
        }
      ]
    },
    {
      "cell_type": "code",
      "metadata": {
        "id": "ujw91oUDJNVE",
        "colab_type": "code",
        "outputId": "ce31bdf4-6b9d-47ec-bf85-8c7a6eacfcc4",
        "colab": {
          "base_uri": "https://localhost:8080/",
          "height": 0
        }
      },
      "source": [
        "alcohol.min()"
      ],
      "execution_count": 123,
      "outputs": [
        {
          "output_type": "execute_result",
          "data": {
            "text/plain": [
              "1.0"
            ]
          },
          "metadata": {
            "tags": []
          },
          "execution_count": 123
        }
      ]
    },
    {
      "cell_type": "code",
      "metadata": {
        "id": "QhRVOMLMJUNC",
        "colab_type": "code",
        "outputId": "9769ba90-aa3c-43a1-b6d7-bb2f06349bf1",
        "colab": {
          "base_uri": "https://localhost:8080/",
          "height": 0
        }
      },
      "source": [
        "alcohol.value_counts().head(1)"
      ],
      "execution_count": 124,
      "outputs": [
        {
          "output_type": "execute_result",
          "data": {
            "text/plain": [
              "1.0    28\n",
              "Name: wine_servings, dtype: int64"
            ]
          },
          "metadata": {
            "tags": []
          },
          "execution_count": 124
        }
      ]
    },
    {
      "cell_type": "code",
      "metadata": {
        "id": "-olo3d7lJZL_",
        "colab_type": "code",
        "outputId": "55dd41bd-5989-47f9-e02c-d822cada6f18",
        "colab": {
          "base_uri": "https://localhost:8080/",
          "height": 0
        }
      },
      "source": [
        "alcohol[alcohol == alcohol.min()]"
      ],
      "execution_count": 125,
      "outputs": [
        {
          "output_type": "execute_result",
          "data": {
            "text/plain": [
              "country\n",
              "Brunei                      1.0\n",
              "Cambodia                    1.0\n",
              "Canada                      1.0\n",
              "Central African Republic    1.0\n",
              "Chad                        1.0\n",
              "Comoros                     1.0\n",
              "DR Congo                    1.0\n",
              "Egypt                       1.0\n",
              "Fiji                        1.0\n",
              "Gambia                      1.0\n",
              "Ghana                       1.0\n",
              "Guyana                      1.0\n",
              "Haiti                       1.0\n",
              "Jordan                      1.0\n",
              "Kiribati                    1.0\n",
              "Malawi                      1.0\n",
              "Mali                        1.0\n",
              "Morocco                     1.0\n",
              "Namibia                     1.0\n",
              "Nicaragua                   1.0\n",
              "Niger                       1.0\n",
              "Oman                        1.0\n",
              "Papua New Guinea            1.0\n",
              "Philippines                 1.0\n",
              "Solomon Islands             1.0\n",
              "Thailand                    1.0\n",
              "Tanzania                    1.0\n",
              "Vietnam                     1.0\n",
              "Name: wine_servings, dtype: float64"
            ]
          },
          "metadata": {
            "tags": []
          },
          "execution_count": 125
        }
      ]
    },
    {
      "cell_type": "code",
      "metadata": {
        "id": "RnqFfWlzJhLA",
        "colab_type": "code",
        "outputId": "aef20cb3-589e-4f2e-f704-c860c91c73e3",
        "colab": {
          "base_uri": "https://localhost:8080/",
          "height": 0
        }
      },
      "source": [
        "alcohol[alcohol == alcohol.max()]"
      ],
      "execution_count": 126,
      "outputs": [
        {
          "output_type": "execute_result",
          "data": {
            "text/plain": [
              "country\n",
              "Portugal    339.0\n",
              "Name: wine_servings, dtype: float64"
            ]
          },
          "metadata": {
            "tags": []
          },
          "execution_count": 126
        }
      ]
    },
    {
      "cell_type": "code",
      "metadata": {
        "id": "3rQaUBsiJpJI",
        "colab_type": "code",
        "outputId": "e009949d-8eb5-4797-d140-89a502861ad9",
        "colab": {
          "base_uri": "https://localhost:8080/",
          "height": 0
        }
      },
      "source": [
        "alcohol[alcohol.idxmax()]"
      ],
      "execution_count": 127,
      "outputs": [
        {
          "output_type": "execute_result",
          "data": {
            "text/plain": [
              "339.0"
            ]
          },
          "metadata": {
            "tags": []
          },
          "execution_count": 127
        }
      ]
    },
    {
      "cell_type": "code",
      "metadata": {
        "id": "mYSGi3zyJ0rK",
        "colab_type": "code",
        "outputId": "ca26f0fa-6dbc-4b78-b990-070a8eaaf998",
        "colab": {
          "base_uri": "https://localhost:8080/",
          "height": 0
        }
      },
      "source": [
        "alcohol.max()"
      ],
      "execution_count": 128,
      "outputs": [
        {
          "output_type": "execute_result",
          "data": {
            "text/plain": [
              "339.0"
            ]
          },
          "metadata": {
            "tags": []
          },
          "execution_count": 128
        }
      ]
    },
    {
      "cell_type": "markdown",
      "metadata": {
        "id": "YVbTQqytJ11B",
        "colab_type": "text"
      },
      "source": [
        "#### Sorting With sort_values()"
      ]
    },
    {
      "cell_type": "code",
      "metadata": {
        "id": "f2n6LDHSV-kp",
        "colab_type": "code",
        "colab": {
          "base_uri": "https://localhost:8080/",
          "height": 0
        },
        "outputId": "c52ac0e5-7fbb-49c8-afd8-8d80986214de"
      },
      "source": [
        "alcohol.sort_values()"
      ],
      "execution_count": 129,
      "outputs": [
        {
          "output_type": "execute_result",
          "data": {
            "text/plain": [
              "country\n",
              "Thailand           1.0\n",
              "Solomon Islands    1.0\n",
              "Brunei             1.0\n",
              "Haiti              1.0\n",
              "Cambodia           1.0\n",
              "                  ... \n",
              "Sri Lanka          NaN\n",
              "Sudan              NaN\n",
              "Tajikistan         NaN\n",
              "Uganda             NaN\n",
              "Yemen              NaN\n",
              "Name: wine_servings, Length: 193, dtype: float64"
            ]
          },
          "metadata": {
            "tags": []
          },
          "execution_count": 129
        }
      ]
    },
    {
      "cell_type": "code",
      "metadata": {
        "id": "zDtjtvmUV9_p",
        "colab_type": "code",
        "colab": {}
      },
      "source": [
        "alcohol.sort_values(ascending=False, na_position='last', kind='quicksort', inplace=True) # mergesort, heapsort"
      ],
      "execution_count": 0,
      "outputs": []
    },
    {
      "cell_type": "code",
      "metadata": {
        "id": "6QD7gregV952",
        "colab_type": "code",
        "colab": {
          "base_uri": "https://localhost:8080/",
          "height": 0
        },
        "outputId": "d97ccbd9-677e-4fc7-d1c8-b00977ccc5b1"
      },
      "source": [
        "alcohol.head()"
      ],
      "execution_count": 131,
      "outputs": [
        {
          "output_type": "execute_result",
          "data": {
            "text/plain": [
              "country\n",
              "Portugal      339.0\n",
              "Andorra       312.0\n",
              "Denmark       278.0\n",
              "Slovenia      276.0\n",
              "Luxembourg    271.0\n",
              "Name: wine_servings, dtype: float64"
            ]
          },
          "metadata": {
            "tags": []
          },
          "execution_count": 131
        }
      ]
    },
    {
      "cell_type": "code",
      "metadata": {
        "id": "YalMkKGoV9xC",
        "colab_type": "code",
        "colab": {}
      },
      "source": [
        "# 1: reassignment"
      ],
      "execution_count": 0,
      "outputs": []
    },
    {
      "cell_type": "code",
      "metadata": {
        "id": "0R-yipp7PLPL",
        "colab_type": "code",
        "colab": {}
      },
      "source": [
        "# 2: inplace param"
      ],
      "execution_count": 0,
      "outputs": []
    },
    {
      "cell_type": "markdown",
      "metadata": {
        "id": "OHTGffrUW46p",
        "colab_type": "text"
      },
      "source": [
        "#### nlargest() And nsmallest()"
      ]
    },
    {
      "cell_type": "code",
      "metadata": {
        "id": "t-TYR-_tbKZO",
        "colab_type": "code",
        "colab": {
          "base_uri": "https://localhost:8080/",
          "height": 0
        },
        "outputId": "b4de9561-04b8-486d-d49b-f7b83c6468a1"
      },
      "source": [
        "alcohol.min()"
      ],
      "execution_count": 134,
      "outputs": [
        {
          "output_type": "execute_result",
          "data": {
            "text/plain": [
              "1.0"
            ]
          },
          "metadata": {
            "tags": []
          },
          "execution_count": 134
        }
      ]
    },
    {
      "cell_type": "code",
      "metadata": {
        "id": "xCn8ivLBbKU-",
        "colab_type": "code",
        "colab": {
          "base_uri": "https://localhost:8080/",
          "height": 0
        },
        "outputId": "d422dc50-d869-4a44-c56f-36e76577e194"
      },
      "source": [
        "alcohol.max()"
      ],
      "execution_count": 135,
      "outputs": [
        {
          "output_type": "execute_result",
          "data": {
            "text/plain": [
              "339.0"
            ]
          },
          "metadata": {
            "tags": []
          },
          "execution_count": 135
        }
      ]
    },
    {
      "cell_type": "code",
      "metadata": {
        "id": "EMRZJmAIbE7k",
        "colab_type": "code",
        "colab": {
          "base_uri": "https://localhost:8080/",
          "height": 0
        },
        "outputId": "7730fa54-1d89-48a7-c4a9-badf97e6c633"
      },
      "source": [
        "alcohol.sort_values(ascending=False)[:10]"
      ],
      "execution_count": 136,
      "outputs": [
        {
          "output_type": "execute_result",
          "data": {
            "text/plain": [
              "country\n",
              "Portugal             339.0\n",
              "Andorra              312.0\n",
              "Denmark              278.0\n",
              "Slovenia             276.0\n",
              "Luxembourg           271.0\n",
              "Croatia              254.0\n",
              "Italy                237.0\n",
              "Equatorial Guinea    233.0\n",
              "Argentina            221.0\n",
              "Greece               218.0\n",
              "Name: wine_servings, dtype: float64"
            ]
          },
          "metadata": {
            "tags": []
          },
          "execution_count": 136
        }
      ]
    },
    {
      "cell_type": "code",
      "metadata": {
        "id": "X6S969FhbFAK",
        "colab_type": "code",
        "colab": {
          "base_uri": "https://localhost:8080/",
          "height": 0
        },
        "outputId": "0f2c9517-5f78-44ef-826f-11107b3c354f"
      },
      "source": [
        "alcohol.nlargest(n=10)"
      ],
      "execution_count": 137,
      "outputs": [
        {
          "output_type": "execute_result",
          "data": {
            "text/plain": [
              "country\n",
              "Portugal             339.0\n",
              "Andorra              312.0\n",
              "Denmark              278.0\n",
              "Slovenia             276.0\n",
              "Luxembourg           271.0\n",
              "Croatia              254.0\n",
              "Italy                237.0\n",
              "Equatorial Guinea    233.0\n",
              "Argentina            221.0\n",
              "Greece               218.0\n",
              "Name: wine_servings, dtype: float64"
            ]
          },
          "metadata": {
            "tags": []
          },
          "execution_count": 137
        }
      ]
    },
    {
      "cell_type": "code",
      "metadata": {
        "id": "lSeVN4BpbioR",
        "colab_type": "code",
        "colab": {
          "base_uri": "https://localhost:8080/",
          "height": 0
        },
        "outputId": "7b4bbbf0-3961-4e98-9032-e2b466109129"
      },
      "source": [
        "alcohol.nsmallest(29)"
      ],
      "execution_count": 138,
      "outputs": [
        {
          "output_type": "execute_result",
          "data": {
            "text/plain": [
              "country\n",
              "Niger                       1.0\n",
              "Nicaragua                   1.0\n",
              "Namibia                     1.0\n",
              "Morocco                     1.0\n",
              "Mali                        1.0\n",
              "Malawi                      1.0\n",
              "Oman                        1.0\n",
              "Papua New Guinea            1.0\n",
              "Vietnam                     1.0\n",
              "Philippines                 1.0\n",
              "Tanzania                    1.0\n",
              "Kiribati                    1.0\n",
              "Chad                        1.0\n",
              "DR Congo                    1.0\n",
              "Egypt                       1.0\n",
              "Fiji                        1.0\n",
              "Gambia                      1.0\n",
              "Ghana                       1.0\n",
              "Comoros                     1.0\n",
              "Central African Republic    1.0\n",
              "Jordan                      1.0\n",
              "Canada                      1.0\n",
              "Guyana                      1.0\n",
              "Cambodia                    1.0\n",
              "Haiti                       1.0\n",
              "Brunei                      1.0\n",
              "Solomon Islands             1.0\n",
              "Thailand                    1.0\n",
              "Sierra Leone                2.0\n",
              "Name: wine_servings, dtype: float64"
            ]
          },
          "metadata": {
            "tags": []
          },
          "execution_count": 138
        }
      ]
    },
    {
      "cell_type": "markdown",
      "metadata": {
        "id": "vWG2hiOGbnSF",
        "colab_type": "text"
      },
      "source": [
        "#### Sorting With sort_index()"
      ]
    },
    {
      "cell_type": "code",
      "metadata": {
        "id": "aFZrPLYtghNS",
        "colab_type": "code",
        "colab": {
          "base_uri": "https://localhost:8080/",
          "height": 0
        },
        "outputId": "4e47cfa8-4ceb-4392-db9f-71a2bd13b141"
      },
      "source": [
        "alcohol.head()"
      ],
      "execution_count": 139,
      "outputs": [
        {
          "output_type": "execute_result",
          "data": {
            "text/plain": [
              "country\n",
              "Portugal      339.0\n",
              "Andorra       312.0\n",
              "Denmark       278.0\n",
              "Slovenia      276.0\n",
              "Luxembourg    271.0\n",
              "Name: wine_servings, dtype: float64"
            ]
          },
          "metadata": {
            "tags": []
          },
          "execution_count": 139
        }
      ]
    },
    {
      "cell_type": "code",
      "metadata": {
        "id": "N-j-teAygfpF",
        "colab_type": "code",
        "colab": {}
      },
      "source": [
        "alcohol.sort_index(ascending=False, na_position='first', inplace=True)"
      ],
      "execution_count": 0,
      "outputs": []
    },
    {
      "cell_type": "code",
      "metadata": {
        "id": "iknz7pPPgfer",
        "colab_type": "code",
        "colab": {
          "base_uri": "https://localhost:8080/",
          "height": 0
        },
        "outputId": "c590fd3a-713e-4c91-8ef5-315f0240b82a"
      },
      "source": [
        "alcohol.index.isnull().sum()"
      ],
      "execution_count": 141,
      "outputs": [
        {
          "output_type": "execute_result",
          "data": {
            "text/plain": [
              "0"
            ]
          },
          "metadata": {
            "tags": []
          },
          "execution_count": 141
        }
      ]
    },
    {
      "cell_type": "code",
      "metadata": {
        "id": "pO_4XDnXflDa",
        "colab_type": "code",
        "colab": {
          "base_uri": "https://localhost:8080/",
          "height": 0
        },
        "outputId": "3766c228-7f9a-438d-c441-a37aafe8881d"
      },
      "source": [
        "alcohol.head()"
      ],
      "execution_count": 142,
      "outputs": [
        {
          "output_type": "execute_result",
          "data": {
            "text/plain": [
              "country\n",
              "Zimbabwe     4.0\n",
              "Zambia       4.0\n",
              "Yemen        NaN\n",
              "Vietnam      1.0\n",
              "Venezuela    3.0\n",
              "Name: wine_servings, dtype: float64"
            ]
          },
          "metadata": {
            "tags": []
          },
          "execution_count": 142
        }
      ]
    },
    {
      "cell_type": "markdown",
      "metadata": {
        "id": "p8IwOTQkfjUi",
        "colab_type": "text"
      },
      "source": [
        "#### Skill Challenge"
      ]
    },
    {
      "cell_type": "markdown",
      "metadata": {
        "id": "PuhVDmvxW1xD",
        "colab_type": "text"
      },
      "source": [
        "###### **1**."
      ]
    },
    {
      "cell_type": "markdown",
      "metadata": {
        "id": "hYW8wAr_W58w",
        "colab_type": "text"
      },
      "source": [
        "Select all the countries from *alcohol* that have more than 50 wine servings, and save them (and the corresponding values) in a variable *fifty_plus*."
      ]
    },
    {
      "cell_type": "markdown",
      "metadata": {
        "id": "IeCg097Ih73U",
        "colab_type": "text"
      },
      "source": [
        "###### **2**."
      ]
    },
    {
      "cell_type": "markdown",
      "metadata": {
        "id": "FtQ9QGYWXSCa",
        "colab_type": "text"
      },
      "source": [
        "From *fifty_plus*, choose the countries with the smallest 20 wine servings values. "
      ]
    },
    {
      "cell_type": "markdown",
      "metadata": {
        "id": "FPMcpZPXXbxv",
        "colab_type": "text"
      },
      "source": [
        "###### **3**."
      ]
    },
    {
      "cell_type": "markdown",
      "metadata": {
        "id": "H0euPe6Jfjb6",
        "colab_type": "text"
      },
      "source": [
        "What is the mean, median and standard deviation for the sample from Step 2?"
      ]
    },
    {
      "cell_type": "markdown",
      "metadata": {
        "id": "Y_or5MWWitpf",
        "colab_type": "text"
      },
      "source": [
        "#### Solution"
      ]
    },
    {
      "cell_type": "code",
      "metadata": {
        "id": "4csqxlMHaA6t",
        "colab_type": "code",
        "colab": {}
      },
      "source": [
        "# 1"
      ],
      "execution_count": 0,
      "outputs": []
    },
    {
      "cell_type": "code",
      "metadata": {
        "id": "G7YrmpjBaMOB",
        "colab_type": "code",
        "colab": {}
      },
      "source": [
        "fifty_plus = alcohol[alcohol > 50]"
      ],
      "execution_count": 0,
      "outputs": []
    },
    {
      "cell_type": "code",
      "metadata": {
        "id": "WBlvPdE2aPgp",
        "colab_type": "code",
        "colab": {
          "base_uri": "https://localhost:8080/",
          "height": 0
        },
        "outputId": "37701048-8649-4e94-b207-c2c267eaba05"
      },
      "source": [
        "fifty_plus.head()"
      ],
      "execution_count": 145,
      "outputs": [
        {
          "output_type": "execute_result",
          "data": {
            "text/plain": [
              "country\n",
              "United Kingdom    195.0\n",
              "USA                84.0\n",
              "Sweden            186.0\n",
              "St. Lucia          71.0\n",
              "Spain             112.0\n",
              "Name: wine_servings, dtype: float64"
            ]
          },
          "metadata": {
            "tags": []
          },
          "execution_count": 145
        }
      ]
    },
    {
      "cell_type": "code",
      "metadata": {
        "id": "2A4oQx7XaRJ6",
        "colab_type": "code",
        "colab": {
          "base_uri": "https://localhost:8080/",
          "height": 0
        },
        "outputId": "7cbb6109-88e6-40a9-91c2-8201a3929969"
      },
      "source": [
        "fifty_plus.count()"
      ],
      "execution_count": 146,
      "outputs": [
        {
          "output_type": "execute_result",
          "data": {
            "text/plain": [
              "48"
            ]
          },
          "metadata": {
            "tags": []
          },
          "execution_count": 146
        }
      ]
    },
    {
      "cell_type": "code",
      "metadata": {
        "id": "NQ3K1gxhaSZ-",
        "colab_type": "code",
        "colab": {}
      },
      "source": [
        "# 2"
      ],
      "execution_count": 0,
      "outputs": []
    },
    {
      "cell_type": "code",
      "metadata": {
        "id": "Z9tZSNGbadIw",
        "colab_type": "code",
        "colab": {
          "base_uri": "https://localhost:8080/",
          "height": 0
        },
        "outputId": "75a18ca9-e5d7-4e7a-e219-88d92336f82f"
      },
      "source": [
        "fifty_plus.nsmallest(n=20)"
      ],
      "execution_count": 148,
      "outputs": [
        {
          "output_type": "execute_result",
          "data": {
            "text/plain": [
              "country\n",
              "Seychelles             51.0\n",
              "Bahamas                51.0\n",
              "Albania                54.0\n",
              "Poland                 56.0\n",
              "Lithuania              56.0\n",
              "Gabon                  59.0\n",
              "Estonia                59.0\n",
              "Latvia                 62.0\n",
              "St. Lucia              71.0\n",
              "Russian Federation     73.0\n",
              "Paraguay               74.0\n",
              "Cook Islands           74.0\n",
              "Iceland                78.0\n",
              "South Africa           81.0\n",
              "USA                    84.0\n",
              "Macedonia              86.0\n",
              "Bulgaria               94.0\n",
              "Finland                97.0\n",
              "Spain                 112.0\n",
              "Cyprus                113.0\n",
              "Name: wine_servings, dtype: float64"
            ]
          },
          "metadata": {
            "tags": []
          },
          "execution_count": 148
        }
      ]
    },
    {
      "cell_type": "code",
      "metadata": {
        "id": "9ZpYa4WRagKL",
        "colab_type": "code",
        "colab": {}
      },
      "source": [
        "# 3"
      ],
      "execution_count": 0,
      "outputs": []
    },
    {
      "cell_type": "code",
      "metadata": {
        "id": "4XcNMQSFakUO",
        "colab_type": "code",
        "colab": {
          "base_uri": "https://localhost:8080/",
          "height": 0
        },
        "outputId": "2aab2a48-53dd-444a-efe4-8bf62998bd12"
      },
      "source": [
        "fifty_plus.nsmallest(n=20).describe()"
      ],
      "execution_count": 150,
      "outputs": [
        {
          "output_type": "execute_result",
          "data": {
            "text/plain": [
              "count     20.000000\n",
              "mean      74.250000\n",
              "std       19.072921\n",
              "min       51.000000\n",
              "25%       58.250000\n",
              "50%       73.500000\n",
              "75%       84.500000\n",
              "max      113.000000\n",
              "Name: wine_servings, dtype: float64"
            ]
          },
          "metadata": {
            "tags": []
          },
          "execution_count": 150
        }
      ]
    },
    {
      "cell_type": "code",
      "metadata": {
        "id": "55LQusSnalRj",
        "colab_type": "code",
        "colab": {
          "base_uri": "https://localhost:8080/",
          "height": 0
        },
        "outputId": "2414f8eb-18ee-4fbf-a1a6-c5721984d49e"
      },
      "source": [
        "fifty_plus.nsmallest(n=20).median()"
      ],
      "execution_count": 151,
      "outputs": [
        {
          "output_type": "execute_result",
          "data": {
            "text/plain": [
              "73.5"
            ]
          },
          "metadata": {
            "tags": []
          },
          "execution_count": 151
        }
      ]
    },
    {
      "cell_type": "code",
      "metadata": {
        "id": "vtb771LQam0N",
        "colab_type": "code",
        "colab": {
          "base_uri": "https://localhost:8080/",
          "height": 0
        },
        "outputId": "ba62bc23-95cb-4e33-ee7a-9f7abc3f0e34"
      },
      "source": [
        "fifty_plus.nsmallest(n=20).mean()"
      ],
      "execution_count": 152,
      "outputs": [
        {
          "output_type": "execute_result",
          "data": {
            "text/plain": [
              "74.25"
            ]
          },
          "metadata": {
            "tags": []
          },
          "execution_count": 152
        }
      ]
    },
    {
      "cell_type": "code",
      "metadata": {
        "id": "JJOPmtL4aoDD",
        "colab_type": "code",
        "colab": {
          "base_uri": "https://localhost:8080/",
          "height": 0
        },
        "outputId": "ca725b52-99f4-4896-b5c7-964888f1982a"
      },
      "source": [
        "fifty_plus.nsmallest(n=20).std()"
      ],
      "execution_count": 153,
      "outputs": [
        {
          "output_type": "execute_result",
          "data": {
            "text/plain": [
              "19.07292100831631"
            ]
          },
          "metadata": {
            "tags": []
          },
          "execution_count": 153
        }
      ]
    },
    {
      "cell_type": "markdown",
      "metadata": {
        "id": "tQAqvfn0aotu",
        "colab_type": "text"
      },
      "source": [
        "#### Series Arithmetics And fill_value()"
      ]
    },
    {
      "cell_type": "code",
      "metadata": {
        "id": "fO5Vtbr4kfFC",
        "colab_type": "code",
        "colab": {
          "base_uri": "https://localhost:8080/",
          "height": 0
        },
        "outputId": "613444c6-df79-4f5b-c3df-2c141e4fee98"
      },
      "source": [
        "alcohol + 2"
      ],
      "execution_count": 154,
      "outputs": [
        {
          "output_type": "execute_result",
          "data": {
            "text/plain": [
              "country\n",
              "Zimbabwe         6.0\n",
              "Zambia           6.0\n",
              "Yemen            NaN\n",
              "Vietnam          3.0\n",
              "Venezuela        5.0\n",
              "               ...  \n",
              "Angola          47.0\n",
              "Andorra        314.0\n",
              "Algeria         16.0\n",
              "Albania         56.0\n",
              "Afghanistan      NaN\n",
              "Name: wine_servings, Length: 193, dtype: float64"
            ]
          },
          "metadata": {
            "tags": []
          },
          "execution_count": 154
        }
      ]
    },
    {
      "cell_type": "code",
      "metadata": {
        "id": "OP2Mqotmke5V",
        "colab_type": "code",
        "colab": {
          "base_uri": "https://localhost:8080/",
          "height": 0
        },
        "outputId": "0dcfa158-7391-44cd-abc8-462f7685773d"
      },
      "source": [
        "(alcohol -10) * 2"
      ],
      "execution_count": 155,
      "outputs": [
        {
          "output_type": "execute_result",
          "data": {
            "text/plain": [
              "country\n",
              "Zimbabwe       -12.0\n",
              "Zambia         -12.0\n",
              "Yemen            NaN\n",
              "Vietnam        -18.0\n",
              "Venezuela      -14.0\n",
              "               ...  \n",
              "Angola          70.0\n",
              "Andorra        604.0\n",
              "Algeria          8.0\n",
              "Albania         88.0\n",
              "Afghanistan      NaN\n",
              "Name: wine_servings, Length: 193, dtype: float64"
            ]
          },
          "metadata": {
            "tags": []
          },
          "execution_count": 155
        }
      ]
    },
    {
      "cell_type": "code",
      "metadata": {
        "id": "lJ4W_bDskeQx",
        "colab_type": "code",
        "colab": {
          "base_uri": "https://localhost:8080/",
          "height": 0
        },
        "outputId": "82f65e47-0a89-48e2-8f26-5f7249539d46"
      },
      "source": [
        "alcohol.head()"
      ],
      "execution_count": 156,
      "outputs": [
        {
          "output_type": "execute_result",
          "data": {
            "text/plain": [
              "country\n",
              "Zimbabwe     4.0\n",
              "Zambia       4.0\n",
              "Yemen        NaN\n",
              "Vietnam      1.0\n",
              "Venezuela    3.0\n",
              "Name: wine_servings, dtype: float64"
            ]
          },
          "metadata": {
            "tags": []
          },
          "execution_count": 156
        }
      ]
    },
    {
      "cell_type": "code",
      "metadata": {
        "id": "bL6uCwAJkeLo",
        "colab_type": "code",
        "colab": {}
      },
      "source": [
        "alcohol.sort_index(inplace=True)"
      ],
      "execution_count": 0,
      "outputs": []
    },
    {
      "cell_type": "code",
      "metadata": {
        "id": "C5s2yMkmkZg2",
        "colab_type": "code",
        "colab": {
          "base_uri": "https://localhost:8080/",
          "height": 0
        },
        "outputId": "6f25ccae-475f-4912-fa19-eeee34e86c33"
      },
      "source": [
        "alcohol.head()"
      ],
      "execution_count": 158,
      "outputs": [
        {
          "output_type": "execute_result",
          "data": {
            "text/plain": [
              "country\n",
              "Afghanistan      NaN\n",
              "Albania         54.0\n",
              "Algeria         14.0\n",
              "Andorra        312.0\n",
              "Angola          45.0\n",
              "Name: wine_servings, dtype: float64"
            ]
          },
          "metadata": {
            "tags": []
          },
          "execution_count": 158
        }
      ]
    },
    {
      "cell_type": "code",
      "metadata": {
        "id": "n5hxP7EneC2-",
        "colab_type": "code",
        "colab": {}
      },
      "source": [
        "more_drinks = pd.Series({'Albania': 6, 'Alberia': 19, 'Algeria': 10, 'Afghanistan': 100, 'Yemen': 101})"
      ],
      "execution_count": 0,
      "outputs": []
    },
    {
      "cell_type": "code",
      "metadata": {
        "id": "KtoZdUT8kzDw",
        "colab_type": "code",
        "colab": {
          "base_uri": "https://localhost:8080/",
          "height": 0
        },
        "outputId": "21619749-9420-4f0e-e6dd-a975d754839d"
      },
      "source": [
        "alcohol + more_drinks"
      ],
      "execution_count": 160,
      "outputs": [
        {
          "output_type": "execute_result",
          "data": {
            "text/plain": [
              "Afghanistan     NaN\n",
              "Albania        60.0\n",
              "Alberia         NaN\n",
              "Algeria        24.0\n",
              "Andorra         NaN\n",
              "               ... \n",
              "Venezuela       NaN\n",
              "Vietnam         NaN\n",
              "Yemen           NaN\n",
              "Zambia          NaN\n",
              "Zimbabwe        NaN\n",
              "Length: 194, dtype: float64"
            ]
          },
          "metadata": {
            "tags": []
          },
          "execution_count": 160
        }
      ]
    },
    {
      "cell_type": "code",
      "metadata": {
        "id": "ktc6ffMlk4lZ",
        "colab_type": "code",
        "colab": {
          "base_uri": "https://localhost:8080/",
          "height": 0
        },
        "outputId": "4ac833c5-7f67-436e-bbae-674270839cca"
      },
      "source": [
        "alcohol.add(more_drinks, fill_value=0)"
      ],
      "execution_count": 161,
      "outputs": [
        {
          "output_type": "execute_result",
          "data": {
            "text/plain": [
              "Afghanistan    100.0\n",
              "Albania         60.0\n",
              "Alberia         19.0\n",
              "Algeria         24.0\n",
              "Andorra        312.0\n",
              "               ...  \n",
              "Venezuela        3.0\n",
              "Vietnam          1.0\n",
              "Yemen          101.0\n",
              "Zambia           4.0\n",
              "Zimbabwe         4.0\n",
              "Length: 194, dtype: float64"
            ]
          },
          "metadata": {
            "tags": []
          },
          "execution_count": 161
        }
      ]
    },
    {
      "cell_type": "code",
      "metadata": {
        "id": "3npi1EQOlPvw",
        "colab_type": "code",
        "colab": {
          "base_uri": "https://localhost:8080/",
          "height": 0
        },
        "outputId": "fb35528b-2016-4913-e4b5-bbf852a2e7fe"
      },
      "source": [
        "alcohol - more_drinks"
      ],
      "execution_count": 162,
      "outputs": [
        {
          "output_type": "execute_result",
          "data": {
            "text/plain": [
              "Afghanistan     NaN\n",
              "Albania        48.0\n",
              "Alberia         NaN\n",
              "Algeria         4.0\n",
              "Andorra         NaN\n",
              "               ... \n",
              "Venezuela       NaN\n",
              "Vietnam         NaN\n",
              "Yemen           NaN\n",
              "Zambia          NaN\n",
              "Zimbabwe        NaN\n",
              "Length: 194, dtype: float64"
            ]
          },
          "metadata": {
            "tags": []
          },
          "execution_count": 162
        }
      ]
    },
    {
      "cell_type": "code",
      "metadata": {
        "id": "j21Yo2Mcl4CH",
        "colab_type": "code",
        "colab": {
          "base_uri": "https://localhost:8080/",
          "height": 0
        },
        "outputId": "d01f17d9-bd68-4a1f-f786-d1fd624ab999"
      },
      "source": [
        "alcohol.subtract(more_drinks, fill_value=0)"
      ],
      "execution_count": 163,
      "outputs": [
        {
          "output_type": "execute_result",
          "data": {
            "text/plain": [
              "Afghanistan   -100.0\n",
              "Albania         48.0\n",
              "Alberia        -19.0\n",
              "Algeria          4.0\n",
              "Andorra        312.0\n",
              "               ...  \n",
              "Venezuela        3.0\n",
              "Vietnam          1.0\n",
              "Yemen         -101.0\n",
              "Zambia           4.0\n",
              "Zimbabwe         4.0\n",
              "Length: 194, dtype: float64"
            ]
          },
          "metadata": {
            "tags": []
          },
          "execution_count": 163
        }
      ]
    },
    {
      "cell_type": "code",
      "metadata": {
        "id": "EhXFXTT7l7Nj",
        "colab_type": "code",
        "colab": {
          "base_uri": "https://localhost:8080/",
          "height": 0
        },
        "outputId": "58f3dc4c-e727-4abf-af33-1989e6382d21"
      },
      "source": [
        "alcohol.divide(more_drinks, fill_value=1)"
      ],
      "execution_count": 164,
      "outputs": [
        {
          "output_type": "execute_result",
          "data": {
            "text/plain": [
              "Afghanistan      0.010000\n",
              "Albania          9.000000\n",
              "Alberia          0.052632\n",
              "Algeria          1.400000\n",
              "Andorra        312.000000\n",
              "                  ...    \n",
              "Venezuela        3.000000\n",
              "Vietnam          1.000000\n",
              "Yemen            0.009901\n",
              "Zambia           4.000000\n",
              "Zimbabwe         4.000000\n",
              "Length: 194, dtype: float64"
            ]
          },
          "metadata": {
            "tags": []
          },
          "execution_count": 164
        }
      ]
    },
    {
      "cell_type": "code",
      "metadata": {
        "id": "Qn-mHXvQmBg5",
        "colab_type": "code",
        "colab": {
          "base_uri": "https://localhost:8080/",
          "height": 0
        },
        "outputId": "c231eba6-b66a-4fd1-dc3a-cb5e8fc8e227"
      },
      "source": [
        "alcohol.multiply(more_drinks, fill_value=1)"
      ],
      "execution_count": 165,
      "outputs": [
        {
          "output_type": "execute_result",
          "data": {
            "text/plain": [
              "Afghanistan    100.0\n",
              "Albania        324.0\n",
              "Alberia         19.0\n",
              "Algeria        140.0\n",
              "Andorra        312.0\n",
              "               ...  \n",
              "Venezuela        3.0\n",
              "Vietnam          1.0\n",
              "Yemen          101.0\n",
              "Zambia           4.0\n",
              "Zimbabwe         4.0\n",
              "Length: 194, dtype: float64"
            ]
          },
          "metadata": {
            "tags": []
          },
          "execution_count": 165
        }
      ]
    },
    {
      "cell_type": "code",
      "metadata": {
        "id": "8AR-cOdFmE2p",
        "colab_type": "code",
        "colab": {
          "base_uri": "https://localhost:8080/",
          "height": 0
        },
        "outputId": "df6f8af2-d791-47e1-9791-aa1ba2a14bb8"
      },
      "source": [
        "alcohol.head()"
      ],
      "execution_count": 166,
      "outputs": [
        {
          "output_type": "execute_result",
          "data": {
            "text/plain": [
              "country\n",
              "Afghanistan      NaN\n",
              "Albania         54.0\n",
              "Algeria         14.0\n",
              "Andorra        312.0\n",
              "Angola          45.0\n",
              "Name: wine_servings, dtype: float64"
            ]
          },
          "metadata": {
            "tags": []
          },
          "execution_count": 166
        }
      ]
    },
    {
      "cell_type": "code",
      "metadata": {
        "id": "R75TBo2TmLB7",
        "colab_type": "code",
        "colab": {
          "base_uri": "https://localhost:8080/",
          "height": 0
        },
        "outputId": "0e46ab33-94b2-4a7f-effb-70f7d168407f"
      },
      "source": [
        "more_drinks.head()"
      ],
      "execution_count": 167,
      "outputs": [
        {
          "output_type": "execute_result",
          "data": {
            "text/plain": [
              "Albania          6\n",
              "Alberia         19\n",
              "Algeria         10\n",
              "Afghanistan    100\n",
              "Yemen          101\n",
              "dtype: int64"
            ]
          },
          "metadata": {
            "tags": []
          },
          "execution_count": 167
        }
      ]
    },
    {
      "cell_type": "markdown",
      "metadata": {
        "id": "mx0xcv3QmL8B",
        "colab_type": "text"
      },
      "source": [
        "#### BONUS: Calculating Variance And Standard Deviation"
      ]
    },
    {
      "cell_type": "code",
      "metadata": {
        "id": "IqUbdJcItXRy",
        "colab_type": "code",
        "colab": {
          "base_uri": "https://localhost:8080/",
          "height": 0
        },
        "outputId": "ae35c687-0cf2-473e-f223-abedc168a019"
      },
      "source": [
        "alcohol.var()"
      ],
      "execution_count": 168,
      "outputs": [
        {
          "output_type": "execute_result",
          "data": {
            "text/plain": [
              "5796.52561153286"
            ]
          },
          "metadata": {
            "tags": []
          },
          "execution_count": 168
        }
      ]
    },
    {
      "cell_type": "code",
      "metadata": {
        "id": "ecxbkDELtXNh",
        "colab_type": "code",
        "colab": {
          "base_uri": "https://localhost:8080/",
          "height": 0
        },
        "outputId": "dcf2a5d6-8aa0-4b5e-f793-5b278f3ef2a2"
      },
      "source": [
        "(alcohol.subtract(alcohol.mean())**2).sum()/(alcohol.count()-1)"
      ],
      "execution_count": 169,
      "outputs": [
        {
          "output_type": "execute_result",
          "data": {
            "text/plain": [
              "5796.5256115328575"
            ]
          },
          "metadata": {
            "tags": []
          },
          "execution_count": 169
        }
      ]
    },
    {
      "cell_type": "code",
      "metadata": {
        "id": "-nnUw5ANtQaW",
        "colab_type": "code",
        "colab": {
          "base_uri": "https://localhost:8080/",
          "height": 0
        },
        "outputId": "7680ea66-5b4b-4f41-815a-a2e7493f76d2"
      },
      "source": [
        "alcohol.std()"
      ],
      "execution_count": 170,
      "outputs": [
        {
          "output_type": "execute_result",
          "data": {
            "text/plain": [
              "76.13491716376173"
            ]
          },
          "metadata": {
            "tags": []
          },
          "execution_count": 170
        }
      ]
    },
    {
      "cell_type": "code",
      "metadata": {
        "id": "fejSp9yjsYal",
        "colab_type": "code",
        "colab": {
          "base_uri": "https://localhost:8080/",
          "height": 0
        },
        "outputId": "6e02df89-9c3e-4400-efc0-288b34ebd7ac"
      },
      "source": [
        "((alcohol.subtract(alcohol.mean())**2).sum()/(alcohol.count()-1))**(1/2)"
      ],
      "execution_count": 171,
      "outputs": [
        {
          "output_type": "execute_result",
          "data": {
            "text/plain": [
              "76.13491716376171"
            ]
          },
          "metadata": {
            "tags": []
          },
          "execution_count": 171
        }
      ]
    },
    {
      "cell_type": "markdown",
      "metadata": {
        "id": "1rRqOdj3qfxq",
        "colab_type": "text"
      },
      "source": [
        "#### Cumulative Operations"
      ]
    },
    {
      "cell_type": "code",
      "metadata": {
        "id": "NZ4FlGEys8sc",
        "colab_type": "code",
        "colab": {}
      },
      "source": [
        "# sum"
      ],
      "execution_count": 0,
      "outputs": []
    },
    {
      "cell_type": "code",
      "metadata": {
        "id": "ZMxgf8UMs8pO",
        "colab_type": "code",
        "colab": {
          "base_uri": "https://localhost:8080/",
          "height": 0
        },
        "outputId": "2f821a78-ee26-404e-9096-ca1bf95ddeed"
      },
      "source": [
        "alcohol.sum()"
      ],
      "execution_count": 173,
      "outputs": [
        {
          "output_type": "execute_result",
          "data": {
            "text/plain": [
              "8221.0"
            ]
          },
          "metadata": {
            "tags": []
          },
          "execution_count": 173
        }
      ]
    },
    {
      "cell_type": "code",
      "metadata": {
        "id": "9hH0ixq4s0cq",
        "colab_type": "code",
        "colab": {
          "base_uri": "https://localhost:8080/",
          "height": 0
        },
        "outputId": "11aa1cd8-9548-46df-f950-e876e4f7ceaf"
      },
      "source": [
        "alcohol.cumsum()"
      ],
      "execution_count": 174,
      "outputs": [
        {
          "output_type": "execute_result",
          "data": {
            "text/plain": [
              "country\n",
              "Afghanistan       NaN\n",
              "Albania          54.0\n",
              "Algeria          68.0\n",
              "Andorra         380.0\n",
              "Angola          425.0\n",
              "                ...  \n",
              "Venezuela      8212.0\n",
              "Vietnam        8213.0\n",
              "Yemen             NaN\n",
              "Zambia         8217.0\n",
              "Zimbabwe       8221.0\n",
              "Name: wine_servings, Length: 193, dtype: float64"
            ]
          },
          "metadata": {
            "tags": []
          },
          "execution_count": 174
        }
      ]
    },
    {
      "cell_type": "code",
      "metadata": {
        "id": "eYoFC0_0s0Wb",
        "colab_type": "code",
        "colab": {
          "base_uri": "https://localhost:8080/",
          "height": 0
        },
        "outputId": "9cc753c9-a268-48d4-d8a3-88f299b3ed71"
      },
      "source": [
        "np.NaN + 123192380912"
      ],
      "execution_count": 175,
      "outputs": [
        {
          "output_type": "execute_result",
          "data": {
            "text/plain": [
              "nan"
            ]
          },
          "metadata": {
            "tags": []
          },
          "execution_count": 175
        }
      ]
    },
    {
      "cell_type": "code",
      "metadata": {
        "id": "ftp4Kcb9sqTS",
        "colab_type": "code",
        "colab": {
          "base_uri": "https://localhost:8080/",
          "height": 0
        },
        "outputId": "557a0cef-248e-4dd9-9c00-f971607ccaca"
      },
      "source": [
        "pd.NA + 12312"
      ],
      "execution_count": 176,
      "outputs": [
        {
          "output_type": "execute_result",
          "data": {
            "text/plain": [
              "<NA>"
            ]
          },
          "metadata": {
            "tags": []
          },
          "execution_count": 176
        }
      ]
    },
    {
      "cell_type": "code",
      "metadata": {
        "id": "qVpF1Cw9tpUy",
        "colab_type": "code",
        "colab": {
          "base_uri": "https://localhost:8080/",
          "height": 0
        },
        "outputId": "13cffb56-c2bc-4be5-9022-7cb9333d52bf"
      },
      "source": [
        "alcohol.prod()"
      ],
      "execution_count": 177,
      "outputs": [
        {
          "output_type": "execute_result",
          "data": {
            "text/plain": [
              "3.4276115052182805e+183"
            ]
          },
          "metadata": {
            "tags": []
          },
          "execution_count": 177
        }
      ]
    },
    {
      "cell_type": "code",
      "metadata": {
        "id": "48WkGRD2txX6",
        "colab_type": "code",
        "colab": {
          "base_uri": "https://localhost:8080/",
          "height": 0
        },
        "outputId": "0440d1b7-c018-46fa-fac5-3fab81765675"
      },
      "source": [
        "alcohol.cumprod()"
      ],
      "execution_count": 178,
      "outputs": [
        {
          "output_type": "execute_result",
          "data": {
            "text/plain": [
              "country\n",
              "Afghanistan              NaN\n",
              "Albania         5.400000e+01\n",
              "Algeria         7.560000e+02\n",
              "Andorra         2.358720e+05\n",
              "Angola          1.061424e+07\n",
              "                   ...      \n",
              "Venezuela      2.142257e+182\n",
              "Vietnam        2.142257e+182\n",
              "Yemen                    NaN\n",
              "Zambia         8.569029e+182\n",
              "Zimbabwe       3.427612e+183\n",
              "Name: wine_servings, Length: 193, dtype: float64"
            ]
          },
          "metadata": {
            "tags": []
          },
          "execution_count": 178
        }
      ]
    },
    {
      "cell_type": "code",
      "metadata": {
        "id": "r9VDMPd5tzzn",
        "colab_type": "code",
        "colab": {
          "base_uri": "https://localhost:8080/",
          "height": 0
        },
        "outputId": "e30bbe1c-23ca-4402-8d6c-0008be330e39"
      },
      "source": [
        "alcohol.cumprod()[-1] == alcohol.prod()"
      ],
      "execution_count": 179,
      "outputs": [
        {
          "output_type": "execute_result",
          "data": {
            "text/plain": [
              "True"
            ]
          },
          "metadata": {
            "tags": []
          },
          "execution_count": 179
        }
      ]
    },
    {
      "cell_type": "code",
      "metadata": {
        "id": "pRhbBlVTt60K",
        "colab_type": "code",
        "colab": {}
      },
      "source": [
        "# cummin cummax"
      ],
      "execution_count": 0,
      "outputs": []
    },
    {
      "cell_type": "code",
      "metadata": {
        "id": "b6KC6paDt83O",
        "colab_type": "code",
        "colab": {
          "base_uri": "https://localhost:8080/",
          "height": 0
        },
        "outputId": "93a18ec4-e033-4617-d83c-e94550a334b3"
      },
      "source": [
        "alcohol.min()"
      ],
      "execution_count": 181,
      "outputs": [
        {
          "output_type": "execute_result",
          "data": {
            "text/plain": [
              "1.0"
            ]
          },
          "metadata": {
            "tags": []
          },
          "execution_count": 181
        }
      ]
    },
    {
      "cell_type": "code",
      "metadata": {
        "id": "9h6Ij21ouAwK",
        "colab_type": "code",
        "colab": {
          "base_uri": "https://localhost:8080/",
          "height": 0
        },
        "outputId": "66b123df-fba4-4574-9815-3ea478eb0960"
      },
      "source": [
        "alcohol.cummin()"
      ],
      "execution_count": 182,
      "outputs": [
        {
          "output_type": "execute_result",
          "data": {
            "text/plain": [
              "country\n",
              "Afghanistan     NaN\n",
              "Albania        54.0\n",
              "Algeria        14.0\n",
              "Andorra        14.0\n",
              "Angola         14.0\n",
              "               ... \n",
              "Venezuela       1.0\n",
              "Vietnam         1.0\n",
              "Yemen           NaN\n",
              "Zambia          1.0\n",
              "Zimbabwe        1.0\n",
              "Name: wine_servings, Length: 193, dtype: float64"
            ]
          },
          "metadata": {
            "tags": []
          },
          "execution_count": 182
        }
      ]
    },
    {
      "cell_type": "code",
      "metadata": {
        "id": "O24xhbyBuCF1",
        "colab_type": "code",
        "colab": {
          "base_uri": "https://localhost:8080/",
          "height": 0
        },
        "outputId": "6f30ed0c-c601-4f68-a520-7884b6668a9d"
      },
      "source": [
        "alcohol.max()"
      ],
      "execution_count": 183,
      "outputs": [
        {
          "output_type": "execute_result",
          "data": {
            "text/plain": [
              "339.0"
            ]
          },
          "metadata": {
            "tags": []
          },
          "execution_count": 183
        }
      ]
    },
    {
      "cell_type": "code",
      "metadata": {
        "id": "TZYVJ89HuGRN",
        "colab_type": "code",
        "colab": {
          "base_uri": "https://localhost:8080/",
          "height": 0
        },
        "outputId": "0fbe1460-ccf5-4b02-a4ec-b4061f872ccd"
      },
      "source": [
        "alcohol.cummax()"
      ],
      "execution_count": 184,
      "outputs": [
        {
          "output_type": "execute_result",
          "data": {
            "text/plain": [
              "country\n",
              "Afghanistan      NaN\n",
              "Albania         54.0\n",
              "Algeria         54.0\n",
              "Andorra        312.0\n",
              "Angola         312.0\n",
              "               ...  \n",
              "Venezuela      339.0\n",
              "Vietnam        339.0\n",
              "Yemen            NaN\n",
              "Zambia         339.0\n",
              "Zimbabwe       339.0\n",
              "Name: wine_servings, Length: 193, dtype: float64"
            ]
          },
          "metadata": {
            "tags": []
          },
          "execution_count": 184
        }
      ]
    },
    {
      "cell_type": "code",
      "metadata": {
        "id": "c3_43eXxuHwq",
        "colab_type": "code",
        "colab": {
          "base_uri": "https://localhost:8080/",
          "height": 0
        },
        "outputId": "68fca4d8-df9d-4bcf-865b-6437ec01052d"
      },
      "source": [
        "alcohol.head()"
      ],
      "execution_count": 185,
      "outputs": [
        {
          "output_type": "execute_result",
          "data": {
            "text/plain": [
              "country\n",
              "Afghanistan      NaN\n",
              "Albania         54.0\n",
              "Algeria         14.0\n",
              "Andorra        312.0\n",
              "Angola          45.0\n",
              "Name: wine_servings, dtype: float64"
            ]
          },
          "metadata": {
            "tags": []
          },
          "execution_count": 185
        }
      ]
    },
    {
      "cell_type": "code",
      "metadata": {
        "id": "QOgEyZtKuLJV",
        "colab_type": "code",
        "colab": {
          "base_uri": "https://localhost:8080/",
          "height": 0
        },
        "outputId": "363c7b3a-0d0c-40df-cc82-f78b27d87a24"
      },
      "source": [
        "pd.Series({'a':'v1', 'b':'v2', 'c':'v3'})"
      ],
      "execution_count": 186,
      "outputs": [
        {
          "output_type": "execute_result",
          "data": {
            "text/plain": [
              "a    v1\n",
              "b    v2\n",
              "c    v3\n",
              "dtype: object"
            ]
          },
          "metadata": {
            "tags": []
          },
          "execution_count": 186
        }
      ]
    },
    {
      "cell_type": "markdown",
      "metadata": {
        "id": "6LCCQdWByeG1",
        "colab_type": "text"
      },
      "source": [
        "#### Pairwise Differences With diff()"
      ]
    },
    {
      "cell_type": "code",
      "metadata": {
        "id": "SjrzIctI28vu",
        "colab_type": "code",
        "colab": {
          "base_uri": "https://localhost:8080/",
          "height": 0
        },
        "outputId": "728e2a56-e3f2-47eb-d400-0b609cb256e6"
      },
      "source": [
        "alcohol.head()"
      ],
      "execution_count": 187,
      "outputs": [
        {
          "output_type": "execute_result",
          "data": {
            "text/plain": [
              "country\n",
              "Afghanistan      NaN\n",
              "Albania         54.0\n",
              "Algeria         14.0\n",
              "Andorra        312.0\n",
              "Angola          45.0\n",
              "Name: wine_servings, dtype: float64"
            ]
          },
          "metadata": {
            "tags": []
          },
          "execution_count": 187
        }
      ]
    },
    {
      "cell_type": "code",
      "metadata": {
        "id": "P9TGFBsA28nw",
        "colab_type": "code",
        "colab": {
          "base_uri": "https://localhost:8080/",
          "height": 0
        },
        "outputId": "c1e0d22a-3453-4eff-834d-9ffdc7e15874"
      },
      "source": [
        "alcohol.diff().head()"
      ],
      "execution_count": 188,
      "outputs": [
        {
          "output_type": "execute_result",
          "data": {
            "text/plain": [
              "country\n",
              "Afghanistan      NaN\n",
              "Albania          NaN\n",
              "Algeria        -40.0\n",
              "Andorra        298.0\n",
              "Angola        -267.0\n",
              "Name: wine_servings, dtype: float64"
            ]
          },
          "metadata": {
            "tags": []
          },
          "execution_count": 188
        }
      ]
    },
    {
      "cell_type": "code",
      "metadata": {
        "id": "cdlMoaUR28LS",
        "colab_type": "code",
        "colab": {
          "base_uri": "https://localhost:8080/",
          "height": 0
        },
        "outputId": "de5bae57-a1e7-428f-8902-e73c1263bdc8"
      },
      "source": [
        "alcohol.diff(periods=2).head()"
      ],
      "execution_count": 189,
      "outputs": [
        {
          "output_type": "execute_result",
          "data": {
            "text/plain": [
              "country\n",
              "Afghanistan      NaN\n",
              "Albania          NaN\n",
              "Algeria          NaN\n",
              "Andorra        258.0\n",
              "Angola          31.0\n",
              "Name: wine_servings, dtype: float64"
            ]
          },
          "metadata": {
            "tags": []
          },
          "execution_count": 189
        }
      ]
    },
    {
      "cell_type": "markdown",
      "metadata": {
        "id": "S5iR8C9e28Hq",
        "colab_type": "text"
      },
      "source": [
        "#### Series Iteration"
      ]
    },
    {
      "cell_type": "code",
      "metadata": {
        "id": "AnHL0_iM9NS9",
        "colab_type": "code",
        "colab": {}
      },
      "source": [
        "mini_alc = alcohol[:10]"
      ],
      "execution_count": 0,
      "outputs": []
    },
    {
      "cell_type": "code",
      "metadata": {
        "id": "ERnpDSRi9MTM",
        "colab_type": "code",
        "colab": {
          "base_uri": "https://localhost:8080/",
          "height": 0
        },
        "outputId": "27613d8b-d990-4f51-9159-8bb8acc69bbc"
      },
      "source": [
        "mini_alc"
      ],
      "execution_count": 191,
      "outputs": [
        {
          "output_type": "execute_result",
          "data": {
            "text/plain": [
              "country\n",
              "Afghanistan            NaN\n",
              "Albania               54.0\n",
              "Algeria               14.0\n",
              "Andorra              312.0\n",
              "Angola                45.0\n",
              "Antigua & Barbuda     45.0\n",
              "Argentina            221.0\n",
              "Armenia               11.0\n",
              "Australia            212.0\n",
              "Austria              191.0\n",
              "Name: wine_servings, dtype: float64"
            ]
          },
          "metadata": {
            "tags": []
          },
          "execution_count": 191
        }
      ]
    },
    {
      "cell_type": "code",
      "metadata": {
        "id": "Wp25r4a49MPR",
        "colab_type": "code",
        "colab": {
          "base_uri": "https://localhost:8080/",
          "height": 0
        },
        "outputId": "7f0ab499-6225-4335-bff3-01b149d41ffd"
      },
      "source": [
        "for i in mini_alc:\n",
        "  print(i)"
      ],
      "execution_count": 192,
      "outputs": [
        {
          "output_type": "stream",
          "text": [
            "nan\n",
            "54.0\n",
            "14.0\n",
            "312.0\n",
            "45.0\n",
            "45.0\n",
            "221.0\n",
            "11.0\n",
            "212.0\n",
            "191.0\n"
          ],
          "name": "stdout"
        }
      ]
    },
    {
      "cell_type": "code",
      "metadata": {
        "id": "wbIIYDm_9MLk",
        "colab_type": "code",
        "colab": {
          "base_uri": "https://localhost:8080/",
          "height": 0
        },
        "outputId": "1ae3f94a-ef0a-4c4f-fbc0-de252642eef9"
      },
      "source": [
        "for i in mini_alc.index:\n",
        "  print(i)"
      ],
      "execution_count": 193,
      "outputs": [
        {
          "output_type": "stream",
          "text": [
            "Afghanistan\n",
            "Albania\n",
            "Algeria\n",
            "Andorra\n",
            "Angola\n",
            "Antigua & Barbuda\n",
            "Argentina\n",
            "Armenia\n",
            "Australia\n",
            "Austria\n"
          ],
          "name": "stdout"
        }
      ]
    },
    {
      "cell_type": "code",
      "metadata": {
        "id": "iaqTjMNZ9MHm",
        "colab_type": "code",
        "colab": {
          "base_uri": "https://localhost:8080/",
          "height": 0
        },
        "outputId": "ab68c991-47f4-4ea4-b916-2da74eda7f01"
      },
      "source": [
        "for i in mini_alc.index:\n",
        "  print(i, mini_alc[i])"
      ],
      "execution_count": 194,
      "outputs": [
        {
          "output_type": "stream",
          "text": [
            "Afghanistan nan\n",
            "Albania 54.0\n",
            "Algeria 14.0\n",
            "Andorra 312.0\n",
            "Angola 45.0\n",
            "Antigua & Barbuda 45.0\n",
            "Argentina 221.0\n",
            "Armenia 11.0\n",
            "Australia 212.0\n",
            "Austria 191.0\n"
          ],
          "name": "stdout"
        }
      ]
    },
    {
      "cell_type": "code",
      "metadata": {
        "id": "DNtfc5RQlFQE",
        "colab_type": "code",
        "colab": {
          "base_uri": "https://localhost:8080/",
          "height": 0
        },
        "outputId": "65d73f6c-4aec-4e47-d25e-8d8063a05abe"
      },
      "source": [
        "for i in mini_alc.iteritems():\n",
        "  print(i)"
      ],
      "execution_count": 195,
      "outputs": [
        {
          "output_type": "stream",
          "text": [
            "('Afghanistan', nan)\n",
            "('Albania', 54.0)\n",
            "('Algeria', 14.0)\n",
            "('Andorra', 312.0)\n",
            "('Angola', 45.0)\n",
            "('Antigua & Barbuda', 45.0)\n",
            "('Argentina', 221.0)\n",
            "('Armenia', 11.0)\n",
            "('Australia', 212.0)\n",
            "('Austria', 191.0)\n"
          ],
          "name": "stdout"
        }
      ]
    },
    {
      "cell_type": "markdown",
      "metadata": {
        "id": "hAvtoOHlk-5P",
        "colab_type": "text"
      },
      "source": [
        "#### Filtering: filter(), where(), And mask()"
      ]
    },
    {
      "cell_type": "code",
      "metadata": {
        "id": "9Uv5g4u4uskm",
        "colab_type": "code",
        "colab": {
          "base_uri": "https://localhost:8080/",
          "height": 0
        },
        "outputId": "074bf899-dd4f-461f-ce90-98e4263874b6"
      },
      "source": [
        "alcohol.filter(regex='^V')"
      ],
      "execution_count": 196,
      "outputs": [
        {
          "output_type": "execute_result",
          "data": {
            "text/plain": [
              "country\n",
              "Vanuatu      11.0\n",
              "Venezuela     3.0\n",
              "Vietnam       1.0\n",
              "Name: wine_servings, dtype: float64"
            ]
          },
          "metadata": {
            "tags": []
          },
          "execution_count": 196
        }
      ]
    },
    {
      "cell_type": "code",
      "metadata": {
        "id": "Cg8pnbQRusew",
        "colab_type": "code",
        "colab": {
          "base_uri": "https://localhost:8080/",
          "height": 0
        },
        "outputId": "8cc43288-e92d-489a-965b-d70468a1516e"
      },
      "source": [
        "alcohol.filter(like='stan')"
      ],
      "execution_count": 197,
      "outputs": [
        {
          "output_type": "execute_result",
          "data": {
            "text/plain": [
              "country\n",
              "Afghanistan      NaN\n",
              "Kazakhstan      12.0\n",
              "Kyrgyzstan       6.0\n",
              "Pakistan         NaN\n",
              "Tajikistan       NaN\n",
              "Turkmenistan    32.0\n",
              "Uzbekistan       8.0\n",
              "Name: wine_servings, dtype: float64"
            ]
          },
          "metadata": {
            "tags": []
          },
          "execution_count": 197
        }
      ]
    },
    {
      "cell_type": "code",
      "metadata": {
        "id": "RbG8OVAvurzD",
        "colab_type": "code",
        "colab": {
          "base_uri": "https://localhost:8080/",
          "height": 0
        },
        "outputId": "65be555f-7726-4234-a0a5-c228ca573965"
      },
      "source": [
        "alcohol[alcohol > 200]"
      ],
      "execution_count": 198,
      "outputs": [
        {
          "output_type": "execute_result",
          "data": {
            "text/plain": [
              "country\n",
              "Andorra              312.0\n",
              "Argentina            221.0\n",
              "Australia            212.0\n",
              "Belgium              212.0\n",
              "Croatia              254.0\n",
              "Denmark              278.0\n",
              "Equatorial Guinea    233.0\n",
              "Greece               218.0\n",
              "Italy                237.0\n",
              "Luxembourg           271.0\n",
              "Portugal             339.0\n",
              "Slovenia             276.0\n",
              "Name: wine_servings, dtype: float64"
            ]
          },
          "metadata": {
            "tags": []
          },
          "execution_count": 198
        }
      ]
    },
    {
      "cell_type": "code",
      "metadata": {
        "id": "hqzoRxUJurvj",
        "colab_type": "code",
        "colab": {
          "base_uri": "https://localhost:8080/",
          "height": 0
        },
        "outputId": "73d671e8-7238-4198-96e7-52c8ae61e6c4"
      },
      "source": [
        "alcohol.loc[alcohol > 200]"
      ],
      "execution_count": 199,
      "outputs": [
        {
          "output_type": "execute_result",
          "data": {
            "text/plain": [
              "country\n",
              "Andorra              312.0\n",
              "Argentina            221.0\n",
              "Australia            212.0\n",
              "Belgium              212.0\n",
              "Croatia              254.0\n",
              "Denmark              278.0\n",
              "Equatorial Guinea    233.0\n",
              "Greece               218.0\n",
              "Italy                237.0\n",
              "Luxembourg           271.0\n",
              "Portugal             339.0\n",
              "Slovenia             276.0\n",
              "Name: wine_servings, dtype: float64"
            ]
          },
          "metadata": {
            "tags": []
          },
          "execution_count": 199
        }
      ]
    },
    {
      "cell_type": "code",
      "metadata": {
        "id": "GXnWbZElurro",
        "colab_type": "code",
        "colab": {}
      },
      "source": [
        "def gt200(x):\n",
        "  return x > 200"
      ],
      "execution_count": 0,
      "outputs": []
    },
    {
      "cell_type": "code",
      "metadata": {
        "id": "nTTpIDqvui3m",
        "colab_type": "code",
        "colab": {
          "base_uri": "https://localhost:8080/",
          "height": 0
        },
        "outputId": "3e5ec177-53db-4c0a-f1c9-8307286e71eb"
      },
      "source": [
        "alcohol[gt200]"
      ],
      "execution_count": 201,
      "outputs": [
        {
          "output_type": "execute_result",
          "data": {
            "text/plain": [
              "country\n",
              "Andorra              312.0\n",
              "Argentina            221.0\n",
              "Australia            212.0\n",
              "Belgium              212.0\n",
              "Croatia              254.0\n",
              "Denmark              278.0\n",
              "Equatorial Guinea    233.0\n",
              "Greece               218.0\n",
              "Italy                237.0\n",
              "Luxembourg           271.0\n",
              "Portugal             339.0\n",
              "Slovenia             276.0\n",
              "Name: wine_servings, dtype: float64"
            ]
          },
          "metadata": {
            "tags": []
          },
          "execution_count": 201
        }
      ]
    },
    {
      "cell_type": "code",
      "metadata": {
        "id": "MeKI22w8ukVo",
        "colab_type": "code",
        "colab": {}
      },
      "source": [
        "# the where() method"
      ],
      "execution_count": 0,
      "outputs": []
    },
    {
      "cell_type": "code",
      "metadata": {
        "id": "3cbPzxXiv4P9",
        "colab_type": "code",
        "colab": {
          "base_uri": "https://localhost:8080/",
          "height": 0
        },
        "outputId": "1f54809d-7d1c-4e1d-f4e2-79cfafbe0381"
      },
      "source": [
        "alcohol.where(lambda x: x>200).dropna()"
      ],
      "execution_count": 203,
      "outputs": [
        {
          "output_type": "execute_result",
          "data": {
            "text/plain": [
              "country\n",
              "Andorra              312.0\n",
              "Argentina            221.0\n",
              "Australia            212.0\n",
              "Belgium              212.0\n",
              "Croatia              254.0\n",
              "Denmark              278.0\n",
              "Equatorial Guinea    233.0\n",
              "Greece               218.0\n",
              "Italy                237.0\n",
              "Luxembourg           271.0\n",
              "Portugal             339.0\n",
              "Slovenia             276.0\n",
              "Name: wine_servings, dtype: float64"
            ]
          },
          "metadata": {
            "tags": []
          },
          "execution_count": 203
        }
      ]
    },
    {
      "cell_type": "code",
      "metadata": {
        "id": "z_5VKOw7wGvA",
        "colab_type": "code",
        "colab": {
          "base_uri": "https://localhost:8080/",
          "height": 0
        },
        "outputId": "7a6e9ec1-9fb3-43a7-cd9a-ac18a1bd880e"
      },
      "source": [
        "alcohol.where(lambda x: x<=200).dropna()"
      ],
      "execution_count": 204,
      "outputs": [
        {
          "output_type": "execute_result",
          "data": {
            "text/plain": [
              "country\n",
              "Albania              54.0\n",
              "Algeria              14.0\n",
              "Angola               45.0\n",
              "Antigua & Barbuda    45.0\n",
              "Armenia              11.0\n",
              "                     ... \n",
              "Vanuatu              11.0\n",
              "Venezuela             3.0\n",
              "Vietnam               1.0\n",
              "Zambia                4.0\n",
              "Zimbabwe              4.0\n",
              "Name: wine_servings, Length: 150, dtype: float64"
            ]
          },
          "metadata": {
            "tags": []
          },
          "execution_count": 204
        }
      ]
    },
    {
      "cell_type": "code",
      "metadata": {
        "id": "4rzotAFUwqjU",
        "colab_type": "code",
        "colab": {}
      },
      "source": [
        "# the mask() method"
      ],
      "execution_count": 0,
      "outputs": []
    },
    {
      "cell_type": "code",
      "metadata": {
        "id": "QYB_kAPCw2GW",
        "colab_type": "code",
        "colab": {
          "base_uri": "https://localhost:8080/",
          "height": 0
        },
        "outputId": "c01992c8-c919-44c9-e681-ca9976298da9"
      },
      "source": [
        "alcohol.mask(lambda x: x>200).dropna()"
      ],
      "execution_count": 206,
      "outputs": [
        {
          "output_type": "execute_result",
          "data": {
            "text/plain": [
              "country\n",
              "Albania              54.0\n",
              "Algeria              14.0\n",
              "Angola               45.0\n",
              "Antigua & Barbuda    45.0\n",
              "Armenia              11.0\n",
              "                     ... \n",
              "Vanuatu              11.0\n",
              "Venezuela             3.0\n",
              "Vietnam               1.0\n",
              "Zambia                4.0\n",
              "Zimbabwe              4.0\n",
              "Name: wine_servings, Length: 150, dtype: float64"
            ]
          },
          "metadata": {
            "tags": []
          },
          "execution_count": 206
        }
      ]
    },
    {
      "cell_type": "markdown",
      "metadata": {
        "id": "HTRDqLIkw--y",
        "colab_type": "text"
      },
      "source": [
        "#### Transforming With update(), apply() And map()"
      ]
    },
    {
      "cell_type": "code",
      "metadata": {
        "id": "ED5wGJEcPR6r",
        "colab_type": "code",
        "colab": {
          "base_uri": "https://localhost:8080/",
          "height": 0
        },
        "outputId": "34a602e7-94b7-4f5e-afac-179ed0167505"
      },
      "source": [
        "alcohol.head(10)"
      ],
      "execution_count": 207,
      "outputs": [
        {
          "output_type": "execute_result",
          "data": {
            "text/plain": [
              "country\n",
              "Afghanistan            NaN\n",
              "Albania               54.0\n",
              "Algeria               14.0\n",
              "Andorra              312.0\n",
              "Angola                45.0\n",
              "Antigua & Barbuda     45.0\n",
              "Argentina            221.0\n",
              "Armenia               11.0\n",
              "Australia            212.0\n",
              "Austria              191.0\n",
              "Name: wine_servings, dtype: float64"
            ]
          },
          "metadata": {
            "tags": []
          },
          "execution_count": 207
        }
      ]
    },
    {
      "cell_type": "code",
      "metadata": {
        "id": "LcIoLSePPgl_",
        "colab_type": "code",
        "colab": {}
      },
      "source": [
        "# spot v global transforms"
      ],
      "execution_count": 0,
      "outputs": []
    },
    {
      "cell_type": "code",
      "metadata": {
        "id": "xKrzYiB8P38N",
        "colab_type": "code",
        "colab": {}
      },
      "source": [
        "alcohol.loc['Algeria'] = 19"
      ],
      "execution_count": 0,
      "outputs": []
    },
    {
      "cell_type": "code",
      "metadata": {
        "id": "LdRpcSL6P_S4",
        "colab_type": "code",
        "colab": {
          "base_uri": "https://localhost:8080/",
          "height": 0
        },
        "outputId": "df33f91f-b77d-4a88-f938-9561627913fa"
      },
      "source": [
        "alcohol.head(10)"
      ],
      "execution_count": 210,
      "outputs": [
        {
          "output_type": "execute_result",
          "data": {
            "text/plain": [
              "country\n",
              "Afghanistan            NaN\n",
              "Albania               54.0\n",
              "Algeria               19.0\n",
              "Andorra              312.0\n",
              "Angola                45.0\n",
              "Antigua & Barbuda     45.0\n",
              "Argentina            221.0\n",
              "Armenia               11.0\n",
              "Australia            212.0\n",
              "Austria              191.0\n",
              "Name: wine_servings, dtype: float64"
            ]
          },
          "metadata": {
            "tags": []
          },
          "execution_count": 210
        }
      ]
    },
    {
      "cell_type": "code",
      "metadata": {
        "id": "QKGgI6u8QB9x",
        "colab_type": "code",
        "colab": {}
      },
      "source": [
        "alcohol.loc['Albania'] = 190\n",
        "alcohol.loc['Afghanistan'] = 20\n",
        "alcohol.loc['Andorra'] = 29"
      ],
      "execution_count": 0,
      "outputs": []
    },
    {
      "cell_type": "code",
      "metadata": {
        "id": "2KClonmQQJXB",
        "colab_type": "code",
        "colab": {
          "base_uri": "https://localhost:8080/",
          "height": 0
        },
        "outputId": "ed7b909e-9340-4510-d908-d4714e0a1187"
      },
      "source": [
        "alcohol.head(10)"
      ],
      "execution_count": 212,
      "outputs": [
        {
          "output_type": "execute_result",
          "data": {
            "text/plain": [
              "country\n",
              "Afghanistan           20.0\n",
              "Albania              190.0\n",
              "Algeria               19.0\n",
              "Andorra               29.0\n",
              "Angola                45.0\n",
              "Antigua & Barbuda     45.0\n",
              "Argentina            221.0\n",
              "Armenia               11.0\n",
              "Australia            212.0\n",
              "Austria              191.0\n",
              "Name: wine_servings, dtype: float64"
            ]
          },
          "metadata": {
            "tags": []
          },
          "execution_count": 212
        }
      ]
    },
    {
      "cell_type": "code",
      "metadata": {
        "id": "tg-AEPjZQKxy",
        "colab_type": "code",
        "colab": {}
      },
      "source": [
        "# the update() method"
      ],
      "execution_count": 0,
      "outputs": []
    },
    {
      "cell_type": "code",
      "metadata": {
        "id": "VNJbW8L7QSr-",
        "colab_type": "code",
        "colab": {}
      },
      "source": [
        "alcohol.update(pd.Series(data=[200, 20], index=['Albania', 'Algeria']))"
      ],
      "execution_count": 0,
      "outputs": []
    },
    {
      "cell_type": "code",
      "metadata": {
        "id": "U-yxSGWmQab8",
        "colab_type": "code",
        "colab": {
          "base_uri": "https://localhost:8080/",
          "height": 0
        },
        "outputId": "f77cb420-34bd-4de2-c9a4-aec455440fe3"
      },
      "source": [
        "alcohol.head(10)"
      ],
      "execution_count": 215,
      "outputs": [
        {
          "output_type": "execute_result",
          "data": {
            "text/plain": [
              "country\n",
              "Afghanistan           20.0\n",
              "Albania              200.0\n",
              "Algeria               20.0\n",
              "Andorra               29.0\n",
              "Angola                45.0\n",
              "Antigua & Barbuda     45.0\n",
              "Argentina            221.0\n",
              "Armenia               11.0\n",
              "Australia            212.0\n",
              "Austria              191.0\n",
              "Name: wine_servings, dtype: float64"
            ]
          },
          "metadata": {
            "tags": []
          },
          "execution_count": 215
        }
      ]
    },
    {
      "cell_type": "code",
      "metadata": {
        "id": "xNX9aNkuQgjS",
        "colab_type": "code",
        "colab": {}
      },
      "source": [
        "# the apply() method"
      ],
      "execution_count": 0,
      "outputs": []
    },
    {
      "cell_type": "code",
      "metadata": {
        "id": "Fnf3ZzpMQuGq",
        "colab_type": "code",
        "colab": {
          "base_uri": "https://localhost:8080/",
          "height": 0
        },
        "outputId": "ae315ac9-8f89-4dce-ce5d-4b513788b70e"
      },
      "source": [
        "alcohol.map(lambda x: x**2)"
      ],
      "execution_count": 217,
      "outputs": [
        {
          "output_type": "execute_result",
          "data": {
            "text/plain": [
              "country\n",
              "Afghanistan      400.0\n",
              "Albania        40000.0\n",
              "Algeria          400.0\n",
              "Andorra          841.0\n",
              "Angola          2025.0\n",
              "                ...   \n",
              "Venezuela          9.0\n",
              "Vietnam            1.0\n",
              "Yemen              NaN\n",
              "Zambia            16.0\n",
              "Zimbabwe          16.0\n",
              "Name: wine_servings, Length: 193, dtype: float64"
            ]
          },
          "metadata": {
            "tags": []
          },
          "execution_count": 217
        }
      ]
    },
    {
      "cell_type": "code",
      "metadata": {
        "id": "e2nIiyjaQ2Q2",
        "colab_type": "code",
        "colab": {
          "base_uri": "https://localhost:8080/",
          "height": 0
        },
        "outputId": "0fb39792-ee67-44a6-c61f-1002c19fac37"
      },
      "source": [
        "alcohol.map(np.square)"
      ],
      "execution_count": 218,
      "outputs": [
        {
          "output_type": "execute_result",
          "data": {
            "text/plain": [
              "country\n",
              "Afghanistan      400.0\n",
              "Albania        40000.0\n",
              "Algeria          400.0\n",
              "Andorra          841.0\n",
              "Angola          2025.0\n",
              "                ...   \n",
              "Venezuela          9.0\n",
              "Vietnam            1.0\n",
              "Yemen              NaN\n",
              "Zambia            16.0\n",
              "Zimbabwe          16.0\n",
              "Name: wine_servings, Length: 193, dtype: float64"
            ]
          },
          "metadata": {
            "tags": []
          },
          "execution_count": 218
        }
      ]
    },
    {
      "cell_type": "code",
      "metadata": {
        "id": "e3ti6w11Q8za",
        "colab_type": "code",
        "colab": {}
      },
      "source": [
        "def multiply_by_self(x):\n",
        "  return x*x"
      ],
      "execution_count": 0,
      "outputs": []
    },
    {
      "cell_type": "code",
      "metadata": {
        "id": "2IBih2DgRERY",
        "colab_type": "code",
        "colab": {
          "base_uri": "https://localhost:8080/",
          "height": 0
        },
        "outputId": "f40be713-e4c0-4cfb-b9ee-38e40f791637"
      },
      "source": [
        "alcohol.apply(multiply_by_self)"
      ],
      "execution_count": 220,
      "outputs": [
        {
          "output_type": "execute_result",
          "data": {
            "text/plain": [
              "country\n",
              "Afghanistan      400.0\n",
              "Albania        40000.0\n",
              "Algeria          400.0\n",
              "Andorra          841.0\n",
              "Angola          2025.0\n",
              "                ...   \n",
              "Venezuela          9.0\n",
              "Vietnam            1.0\n",
              "Yemen              NaN\n",
              "Zambia            16.0\n",
              "Zimbabwe          16.0\n",
              "Name: wine_servings, Length: 193, dtype: float64"
            ]
          },
          "metadata": {
            "tags": []
          },
          "execution_count": 220
        }
      ]
    },
    {
      "cell_type": "code",
      "metadata": {
        "id": "q29zJqCFRHUp",
        "colab_type": "code",
        "colab": {}
      },
      "source": [
        "def multiply_by_self_with_min(x, min_servings):\n",
        "  if x < min_servings:\n",
        "    return x**2\n",
        "  \n",
        "  return x"
      ],
      "execution_count": 0,
      "outputs": []
    },
    {
      "cell_type": "code",
      "metadata": {
        "id": "MS6znEVjRZPC",
        "colab_type": "code",
        "colab": {}
      },
      "source": [
        "# alcohol.map(multiply_by_self_with_min, args=(200,))"
      ],
      "execution_count": 0,
      "outputs": []
    },
    {
      "cell_type": "code",
      "metadata": {
        "id": "z3Z2mNUPRntf",
        "colab_type": "code",
        "colab": {
          "base_uri": "https://localhost:8080/",
          "height": 0
        },
        "outputId": "c0b4c573-b3a2-48e5-ecc7-00d71c5d1c9e"
      },
      "source": [
        "alcohol.head()"
      ],
      "execution_count": 223,
      "outputs": [
        {
          "output_type": "execute_result",
          "data": {
            "text/plain": [
              "country\n",
              "Afghanistan     20.0\n",
              "Albania        200.0\n",
              "Algeria         20.0\n",
              "Andorra         29.0\n",
              "Angola          45.0\n",
              "Name: wine_servings, dtype: float64"
            ]
          },
          "metadata": {
            "tags": []
          },
          "execution_count": 223
        }
      ]
    },
    {
      "cell_type": "code",
      "metadata": {
        "id": "RE1deuX0RwkA",
        "colab_type": "code",
        "colab": {
          "base_uri": "https://localhost:8080/",
          "height": 0
        },
        "outputId": "a9e53096-a3d5-4ca4-bd94-d07da92b67a5"
      },
      "source": [
        "alcohol.apply(multiply_by_self_with_min, min_servings=200)"
      ],
      "execution_count": 224,
      "outputs": [
        {
          "output_type": "execute_result",
          "data": {
            "text/plain": [
              "country\n",
              "Afghanistan     400.0\n",
              "Albania         200.0\n",
              "Algeria         400.0\n",
              "Andorra         841.0\n",
              "Angola         2025.0\n",
              "                ...  \n",
              "Venezuela         9.0\n",
              "Vietnam           1.0\n",
              "Yemen             NaN\n",
              "Zambia           16.0\n",
              "Zimbabwe         16.0\n",
              "Name: wine_servings, Length: 193, dtype: float64"
            ]
          },
          "metadata": {
            "tags": []
          },
          "execution_count": 224
        }
      ]
    },
    {
      "cell_type": "code",
      "metadata": {
        "id": "X3asqE1MR7Bg",
        "colab_type": "code",
        "colab": {}
      },
      "source": [
        "# the map() method"
      ],
      "execution_count": 0,
      "outputs": []
    },
    {
      "cell_type": "markdown",
      "metadata": {
        "id": "oaF6Po0BSFZC",
        "colab_type": "text"
      },
      "source": [
        "#### Skill Challenge"
      ]
    },
    {
      "cell_type": "markdown",
      "metadata": {
        "id": "refA1MvUTwe7",
        "colab_type": "text"
      },
      "source": [
        "###### **1**."
      ]
    },
    {
      "cell_type": "markdown",
      "metadata": {
        "id": "EpHodqlbUHY7",
        "colab_type": "text"
      },
      "source": [
        "Read the drinks.csv dataset again, this time bringing in the beer_servings sequence into a new <ins>series</ins> with country again acting as the index. Assign this series to the variable *beers*.\n",
        "\n",
        "Link to data: https://andybek.com/pandas-drinks"
      ]
    },
    {
      "cell_type": "markdown",
      "metadata": {
        "id": "qbmXh2s6UXIN",
        "colab_type": "text"
      },
      "source": [
        "###### **2**."
      ]
    },
    {
      "cell_type": "markdown",
      "metadata": {
        "id": "zmjUXaWUUYK5",
        "colab_type": "text"
      },
      "source": [
        "Calculate the mean, median, and standard deviation of beer servings in *beers*. Is the distribution right or left skewed?"
      ]
    },
    {
      "cell_type": "markdown",
      "metadata": {
        "id": "TZvXofChUfx2",
        "colab_type": "text"
      },
      "source": [
        "###### **3**."
      ]
    },
    {
      "cell_type": "markdown",
      "metadata": {
        "id": "f59VEKXEUkvB",
        "colab_type": "text"
      },
      "source": [
        "Slice the first 10 countriees from *beers*. Are these relatively large or small relative to the rest of the sample?\n",
        "\n",
        "**BONUS**: To answer that, we could compare each value to the mean or median. An even\n",
        "better approach would be to calculate standard scores, or z-scores as they \n",
        "are known."
      ]
    },
    {
      "cell_type": "markdown",
      "metadata": {
        "id": "4iU0I60bU801",
        "colab_type": "text"
      },
      "source": [
        "###### **BONUS 4**."
      ]
    },
    {
      "cell_type": "markdown",
      "metadata": {
        "id": "w6v8f2pAU9sf",
        "colab_type": "text"
      },
      "source": [
        "Create a new series that uses series arithmetics to calculate the z-score \n",
        "for each serving by subtracting from each the mean and dividing the difference\n",
        "by the standard deviation. Point the variable *z_scores* to this series.\n",
        "\n",
        "Which country has the largest absolute z-score? Is this a positive or negative deviation? "
      ]
    },
    {
      "cell_type": "markdown",
      "metadata": {
        "id": "gGsrVgjsY0Eu",
        "colab_type": "text"
      },
      "source": [
        "#### Solution I - Reading Data"
      ]
    },
    {
      "cell_type": "code",
      "metadata": {
        "id": "stXDNvDRZKZP",
        "colab_type": "code",
        "colab": {}
      },
      "source": [
        "data_url = 'https://andybek.com/pandas-drinks'"
      ],
      "execution_count": 0,
      "outputs": []
    },
    {
      "cell_type": "code",
      "metadata": {
        "id": "2p-Uqq-OZSTs",
        "colab_type": "code",
        "colab": {}
      },
      "source": [
        "beers = pd.read_csv(data_url, usecols=['country', 'beer_servings'], index_col='country', squeeze=True)"
      ],
      "execution_count": 0,
      "outputs": []
    },
    {
      "cell_type": "code",
      "metadata": {
        "id": "AioCI9FwZXP3",
        "colab_type": "code",
        "colab": {
          "base_uri": "https://localhost:8080/",
          "height": 0
        },
        "outputId": "75eb2477-d5fb-4879-d402-9fbb98ad69cb"
      },
      "source": [
        "beers.head()"
      ],
      "execution_count": 228,
      "outputs": [
        {
          "output_type": "execute_result",
          "data": {
            "text/plain": [
              "country\n",
              "Afghanistan      NaN\n",
              "Albania         89.0\n",
              "Algeria         25.0\n",
              "Andorra        245.0\n",
              "Angola         217.0\n",
              "Name: beer_servings, dtype: float64"
            ]
          },
          "metadata": {
            "tags": []
          },
          "execution_count": 228
        }
      ]
    },
    {
      "cell_type": "code",
      "metadata": {
        "id": "k1FIBEm7ZYD4",
        "colab_type": "code",
        "colab": {
          "base_uri": "https://localhost:8080/",
          "height": 0
        },
        "outputId": "6a79820a-adde-46b7-de4a-61df0b71e0e2"
      },
      "source": [
        "type(beers)"
      ],
      "execution_count": 229,
      "outputs": [
        {
          "output_type": "execute_result",
          "data": {
            "text/plain": [
              "pandas.core.series.Series"
            ]
          },
          "metadata": {
            "tags": []
          },
          "execution_count": 229
        }
      ]
    },
    {
      "cell_type": "markdown",
      "metadata": {
        "id": "5D0_SV7fZjOh",
        "colab_type": "text"
      },
      "source": [
        "#### Solution II - Mean, Median, And Standard Deviation"
      ]
    },
    {
      "cell_type": "code",
      "metadata": {
        "id": "9w8HnMCUGr1o",
        "colab_type": "code",
        "colab": {
          "base_uri": "https://localhost:8080/",
          "height": 0
        },
        "outputId": "9391138b-fb29-4d86-d448-91f5e3aa9981"
      },
      "source": [
        "beers.mean()"
      ],
      "execution_count": 230,
      "outputs": [
        {
          "output_type": "execute_result",
          "data": {
            "text/plain": [
              "102.87078651685393"
            ]
          },
          "metadata": {
            "tags": []
          },
          "execution_count": 230
        }
      ]
    },
    {
      "cell_type": "code",
      "metadata": {
        "id": "0rl2D3rFG8DA",
        "colab_type": "code",
        "colab": {
          "base_uri": "https://localhost:8080/",
          "height": 0
        },
        "outputId": "0a165790-3c2f-4400-ef02-b10382a561d6"
      },
      "source": [
        "beers.median()"
      ],
      "execution_count": 231,
      "outputs": [
        {
          "output_type": "execute_result",
          "data": {
            "text/plain": [
              "60.0"
            ]
          },
          "metadata": {
            "tags": []
          },
          "execution_count": 231
        }
      ]
    },
    {
      "cell_type": "code",
      "metadata": {
        "id": "4i-rAEgwG-79",
        "colab_type": "code",
        "colab": {
          "base_uri": "https://localhost:8080/",
          "height": 0
        },
        "outputId": "aa6d54b6-f3c1-4e90-f4b8-b6d95b3b1bc8"
      },
      "source": [
        "beers.quantile(.5)"
      ],
      "execution_count": 232,
      "outputs": [
        {
          "output_type": "execute_result",
          "data": {
            "text/plain": [
              "60.0"
            ]
          },
          "metadata": {
            "tags": []
          },
          "execution_count": 232
        }
      ]
    },
    {
      "cell_type": "code",
      "metadata": {
        "id": "ep3Qkfd_HByJ",
        "colab_type": "code",
        "colab": {
          "base_uri": "https://localhost:8080/",
          "height": 0
        },
        "outputId": "20eacd50-7581-48d4-e02b-b233b83985ac"
      },
      "source": [
        "beers.std()"
      ],
      "execution_count": 233,
      "outputs": [
        {
          "output_type": "execute_result",
          "data": {
            "text/plain": [
              "100.64571267934778"
            ]
          },
          "metadata": {
            "tags": []
          },
          "execution_count": 233
        }
      ]
    },
    {
      "cell_type": "code",
      "metadata": {
        "id": "gaA8GhnMHFFX",
        "colab_type": "code",
        "colab": {
          "base_uri": "https://localhost:8080/",
          "height": 0
        },
        "outputId": "9c4bf92a-453d-4065-a1e5-4f26612fd5b4"
      },
      "source": [
        "beers.var()**(1/2)"
      ],
      "execution_count": 234,
      "outputs": [
        {
          "output_type": "execute_result",
          "data": {
            "text/plain": [
              "100.64571267934778"
            ]
          },
          "metadata": {
            "tags": []
          },
          "execution_count": 234
        }
      ]
    },
    {
      "cell_type": "code",
      "metadata": {
        "id": "Wj41-8ixHIko",
        "colab_type": "code",
        "colab": {
          "base_uri": "https://localhost:8080/",
          "height": 0
        },
        "outputId": "76577c8a-e2f9-482f-deff-a84b927e2e33"
      },
      "source": [
        "np.sqrt(beers.var())"
      ],
      "execution_count": 235,
      "outputs": [
        {
          "output_type": "execute_result",
          "data": {
            "text/plain": [
              "100.64571267934778"
            ]
          },
          "metadata": {
            "tags": []
          },
          "execution_count": 235
        }
      ]
    },
    {
      "cell_type": "code",
      "metadata": {
        "id": "DhMgDQnEHKbu",
        "colab_type": "code",
        "colab": {
          "base_uri": "https://localhost:8080/",
          "height": 0
        },
        "outputId": "39aff3c2-f1fb-4073-cc73-e1f5b7dccaae"
      },
      "source": [
        "beers.hist();"
      ],
      "execution_count": 236,
      "outputs": [
        {
          "output_type": "display_data",
          "data": {
            "image/png": "[encoded data removed]",
            "text/plain": [
              "<Figure size 432x288 with 1 Axes>"
            ]
          },
          "metadata": {
            "tags": []
          }
        }
      ]
    },
    {
      "cell_type": "code",
      "metadata": {
        "id": "-bRk_YrVHek_",
        "colab_type": "code",
        "colab": {
          "base_uri": "https://localhost:8080/",
          "height": 0
        },
        "outputId": "951e4293-61f9-4a9a-aaba-de3bc0a2dd00"
      },
      "source": [
        "beers.describe()"
      ],
      "execution_count": 237,
      "outputs": [
        {
          "output_type": "execute_result",
          "data": {
            "text/plain": [
              "count    178.000000\n",
              "mean     102.870787\n",
              "std      100.645713\n",
              "min        1.000000\n",
              "25%       21.000000\n",
              "50%       60.000000\n",
              "75%      172.500000\n",
              "max      376.000000\n",
              "Name: beer_servings, dtype: float64"
            ]
          },
          "metadata": {
            "tags": []
          },
          "execution_count": 237
        }
      ]
    },
    {
      "cell_type": "markdown",
      "metadata": {
        "id": "lxbhzx5vHmQH",
        "colab_type": "text"
      },
      "source": [
        "#### Solution III - Z-scores"
      ]
    },
    {
      "cell_type": "code",
      "metadata": {
        "id": "RgMwbC4lTwEh",
        "colab_type": "code",
        "colab": {
          "base_uri": "https://localhost:8080/",
          "height": 225
        },
        "outputId": "30b94d64-35ee-4215-bf10-43a939357a1a"
      },
      "source": [
        "beers[:10]"
      ],
      "execution_count": 238,
      "outputs": [
        {
          "output_type": "execute_result",
          "data": {
            "text/plain": [
              "country\n",
              "Afghanistan            NaN\n",
              "Albania               89.0\n",
              "Algeria               25.0\n",
              "Andorra              245.0\n",
              "Angola               217.0\n",
              "Antigua & Barbuda     12.0\n",
              "Argentina            193.0\n",
              "Armenia               21.0\n",
              "Australia            261.0\n",
              "Austria              279.0\n",
              "Name: beer_servings, dtype: float64"
            ]
          },
          "metadata": {
            "tags": []
          },
          "execution_count": 238
        }
      ]
    },
    {
      "cell_type": "code",
      "metadata": {
        "id": "0d5pGKrFT_no",
        "colab_type": "code",
        "colab": {}
      },
      "source": [
        "# beers.head(10)"
      ],
      "execution_count": 0,
      "outputs": []
    },
    {
      "cell_type": "code",
      "metadata": {
        "id": "zkBULHXCUBL3",
        "colab_type": "code",
        "colab": {
          "base_uri": "https://localhost:8080/",
          "height": 34
        },
        "outputId": "c1d99e74-0068-48ad-b3ec-f33684afc545"
      },
      "source": [
        "beers.mean()"
      ],
      "execution_count": 240,
      "outputs": [
        {
          "output_type": "execute_result",
          "data": {
            "text/plain": [
              "102.87078651685393"
            ]
          },
          "metadata": {
            "tags": []
          },
          "execution_count": 240
        }
      ]
    },
    {
      "cell_type": "code",
      "metadata": {
        "id": "RcY-l0-YUGWv",
        "colab_type": "code",
        "colab": {
          "base_uri": "https://localhost:8080/",
          "height": 225
        },
        "outputId": "fae9d8e4-52bc-4848-8b83-82b1746bb7bb"
      },
      "source": [
        "beers[:10] - beers.mean()"
      ],
      "execution_count": 241,
      "outputs": [
        {
          "output_type": "execute_result",
          "data": {
            "text/plain": [
              "country\n",
              "Afghanistan                 NaN\n",
              "Albania              -13.870787\n",
              "Algeria              -77.870787\n",
              "Andorra              142.129213\n",
              "Angola               114.129213\n",
              "Antigua & Barbuda    -90.870787\n",
              "Argentina             90.129213\n",
              "Armenia              -81.870787\n",
              "Australia            158.129213\n",
              "Austria              176.129213\n",
              "Name: beer_servings, dtype: float64"
            ]
          },
          "metadata": {
            "tags": []
          },
          "execution_count": 241
        }
      ]
    },
    {
      "cell_type": "code",
      "metadata": {
        "id": "32wLmea9UQnE",
        "colab_type": "code",
        "colab": {
          "base_uri": "https://localhost:8080/",
          "height": 225
        },
        "outputId": "9ba35b87-d6f7-4445-a9f6-77a6e734f8b1"
      },
      "source": [
        "(beers[:10] - beers.mean()).apply(lambda x: 'low' if x<0 else 'high')"
      ],
      "execution_count": 242,
      "outputs": [
        {
          "output_type": "execute_result",
          "data": {
            "text/plain": [
              "country\n",
              "Afghanistan          high\n",
              "Albania               low\n",
              "Algeria               low\n",
              "Andorra              high\n",
              "Angola               high\n",
              "Antigua & Barbuda     low\n",
              "Argentina            high\n",
              "Armenia               low\n",
              "Australia            high\n",
              "Austria              high\n",
              "Name: beer_servings, dtype: object"
            ]
          },
          "metadata": {
            "tags": []
          },
          "execution_count": 242
        }
      ]
    },
    {
      "cell_type": "code",
      "metadata": {
        "id": "GpgzSr25UacH",
        "colab_type": "code",
        "colab": {
          "base_uri": "https://localhost:8080/",
          "height": 69
        },
        "outputId": "22df4c45-aacf-40f5-a57b-0233e4e75adf"
      },
      "source": [
        "(beers - beers.mean()).apply(lambda x: 'low' if x<0 else 'high').value_counts()"
      ],
      "execution_count": 243,
      "outputs": [
        {
          "output_type": "execute_result",
          "data": {
            "text/plain": [
              "low     112\n",
              "high     81\n",
              "Name: beer_servings, dtype: int64"
            ]
          },
          "metadata": {
            "tags": []
          },
          "execution_count": 243
        }
      ]
    },
    {
      "cell_type": "code",
      "metadata": {
        "id": "xmQTJ2lqUd-4",
        "colab_type": "code",
        "colab": {}
      },
      "source": [
        "z_scores = (beers - beers.mean())/beers.std()"
      ],
      "execution_count": 0,
      "outputs": []
    },
    {
      "cell_type": "code",
      "metadata": {
        "id": "b8qWxr9vVCRB",
        "colab_type": "code",
        "colab": {
          "base_uri": "https://localhost:8080/",
          "height": 225
        },
        "outputId": "b9f9169c-dbd1-4230-9682-d1968613fea3"
      },
      "source": [
        "z_scores.head(10)"
      ],
      "execution_count": 245,
      "outputs": [
        {
          "output_type": "execute_result",
          "data": {
            "text/plain": [
              "country\n",
              "Afghanistan               NaN\n",
              "Albania             -0.137818\n",
              "Algeria             -0.773712\n",
              "Andorra              1.412174\n",
              "Angola               1.133970\n",
              "Antigua & Barbuda   -0.902878\n",
              "Argentina            0.895510\n",
              "Armenia             -0.813455\n",
              "Australia            1.571147\n",
              "Austria              1.749992\n",
              "Name: beer_servings, dtype: float64"
            ]
          },
          "metadata": {
            "tags": []
          },
          "execution_count": 245
        }
      ]
    },
    {
      "cell_type": "code",
      "metadata": {
        "id": "8yc0wD6KVDLK",
        "colab_type": "code",
        "colab": {
          "base_uri": "https://localhost:8080/",
          "height": 34
        },
        "outputId": "36225bb2-85c2-401f-8893-148b37073ab1"
      },
      "source": [
        "z_scores.min()"
      ],
      "execution_count": 246,
      "outputs": [
        {
          "output_type": "execute_result",
          "data": {
            "text/plain": [
              "-1.012172141315241"
            ]
          },
          "metadata": {
            "tags": []
          },
          "execution_count": 246
        }
      ]
    },
    {
      "cell_type": "code",
      "metadata": {
        "id": "5jSwr6UzVODP",
        "colab_type": "code",
        "colab": {
          "base_uri": "https://localhost:8080/",
          "height": 34
        },
        "outputId": "d04bf19f-ed16-4d54-9a31-7245b8f09df8"
      },
      "source": [
        "z_scores.max()"
      ],
      "execution_count": 247,
      "outputs": [
        {
          "output_type": "execute_result",
          "data": {
            "text/plain": [
              "2.7137689844109123"
            ]
          },
          "metadata": {
            "tags": []
          },
          "execution_count": 247
        }
      ]
    },
    {
      "cell_type": "code",
      "metadata": {
        "id": "56x7QxK3VPFC",
        "colab_type": "code",
        "colab": {
          "base_uri": "https://localhost:8080/",
          "height": 34
        },
        "outputId": "b861c27e-afb7-431d-d330-2e243f1dcfc7"
      },
      "source": [
        "z_scores.abs().max()"
      ],
      "execution_count": 248,
      "outputs": [
        {
          "output_type": "execute_result",
          "data": {
            "text/plain": [
              "2.7137689844109123"
            ]
          },
          "metadata": {
            "tags": []
          },
          "execution_count": 248
        }
      ]
    },
    {
      "cell_type": "code",
      "metadata": {
        "id": "7mAnyOVPVT5P",
        "colab_type": "code",
        "colab": {
          "base_uri": "https://localhost:8080/",
          "height": 34
        },
        "outputId": "9692e5ad-6a9d-42c7-9913-68b231855216"
      },
      "source": [
        "beers.idxmax()"
      ],
      "execution_count": 249,
      "outputs": [
        {
          "output_type": "execute_result",
          "data": {
            "text/plain": [
              "'Namibia'"
            ]
          },
          "metadata": {
            "tags": []
          },
          "execution_count": 249
        }
      ]
    },
    {
      "cell_type": "code",
      "metadata": {
        "id": "pSrx04M9VZzo",
        "colab_type": "code",
        "colab": {
          "base_uri": "https://localhost:8080/",
          "height": 34
        },
        "outputId": "02399c6a-1473-4743-887e-0a06c5fc5992"
      },
      "source": [
        "beers['Namibia']"
      ],
      "execution_count": 250,
      "outputs": [
        {
          "output_type": "execute_result",
          "data": {
            "text/plain": [
              "376.0"
            ]
          },
          "metadata": {
            "tags": []
          },
          "execution_count": 250
        }
      ]
    },
    {
      "cell_type": "code",
      "metadata": {
        "id": "JziYD8QMVcUo",
        "colab_type": "code",
        "colab": {
          "base_uri": "https://localhost:8080/",
          "height": 34
        },
        "outputId": "54797d2e-8a0e-40f3-b23b-a1b781465ae2"
      },
      "source": [
        "beers[beers.idxmax()]"
      ],
      "execution_count": 251,
      "outputs": [
        {
          "output_type": "execute_result",
          "data": {
            "text/plain": [
              "376.0"
            ]
          },
          "metadata": {
            "tags": []
          },
          "execution_count": 251
        }
      ]
    },
    {
      "cell_type": "code",
      "metadata": {
        "id": "CfRX8QbTVdmD",
        "colab_type": "code",
        "colab": {
          "base_uri": "https://localhost:8080/",
          "height": 34
        },
        "outputId": "254c9120-3d93-4638-d565-81a0c992b3b3"
      },
      "source": [
        "z_scores.abs().max() * beers.std() + beers.mean()"
      ],
      "execution_count": 252,
      "outputs": [
        {
          "output_type": "execute_result",
          "data": {
            "text/plain": [
              "376.0"
            ]
          },
          "metadata": {
            "tags": []
          },
          "execution_count": 252
        }
      ]
    },
    {
      "cell_type": "code",
      "metadata": {
        "id": "nQwWK_oVVsw-",
        "colab_type": "code",
        "colab": {}
      },
      "source": [
        ""
      ],
      "execution_count": 0,
      "outputs": []
    }
  ]
}