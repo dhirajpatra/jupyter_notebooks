{
  "nbformat": 4,
  "nbformat_minor": 0,
  "metadata": {
    "colab": {
      "name": "Series At A Glance",
      "provenance": [],
      "collapsed_sections": [
        "_WVSsLJEF1dV",
        "3AXiSy2PKQd2",
        "iXC88l2yO5Zl",
        "V4z_J-M0k4by",
        "-rVVwTge7tJz",
        "MKLzw1tmbViH",
        "BYlOokJ3jCo3",
        "BlOUMfCf7Koy",
        "70E0Wx7u9uAt",
        "CmRePQv297-Y",
        "8LWeEH3D9-wQ",
        "QCKbOWa5-AZu",
        "IdMoLAs9Bx1_",
        "jgwo17dUDawR",
        "aNv9ZDu-_dy8",
        "lJnjUgvzDI2d",
        "ScqN2Xu2JW-1",
        "0G0aK8S1Tu2_",
        "FDiYVGdvB6CL",
        "tV2cSV8jGqHf",
        "OqBI-N68X6Py",
        "zYdv1N9wejLJ",
        "8tu-WbXyvpCE",
        "Od4oEfYCwf_C",
        "DSpK0iUZ0eA4",
        "AFkrf6aL0c_u",
        "kI7G1uVJwiB1",
        "-Cp2PSUkIRFB",
        "gKAVJTZhIZpF",
        "O6-czpTKKf4r"
      ]
    },
    "kernelspec": {
      "name": "python3",
      "display_name": "Python 3"
    }
  },
  "cells": [
    {
      "cell_type": "code",
      "metadata": {
        "id": "42muvbO2o0em",
        "colab_type": "code",
        "colab": {}
      },
      "source": [
        "import pandas as pd"
      ],
      "execution_count": 0,
      "outputs": []
    },
    {
      "cell_type": "code",
      "metadata": {
        "id": "FjXr5i9xAUfY",
        "colab_type": "code",
        "colab": {}
      },
      "source": [
        "# pip install pandas --upgrade"
      ],
      "execution_count": 0,
      "outputs": []
    },
    {
      "cell_type": "code",
      "metadata": {
        "id": "vF4Qshvq_QDY",
        "colab_type": "code",
        "outputId": "97faf8d2-d825-4187-fe15-cb295692688b",
        "colab": {
          "base_uri": "https://localhost:8080/",
          "height": 34
        }
      },
      "source": [
        "pd.__version__"
      ],
      "execution_count": 3,
      "outputs": [
        {
          "output_type": "execute_result",
          "data": {
            "text/plain": [
              "'1.0.1'"
            ]
          },
          "metadata": {
            "tags": []
          },
          "execution_count": 3
        }
      ]
    },
    {
      "cell_type": "markdown",
      "metadata": {
        "id": "_WVSsLJEF1dV",
        "colab_type": "text"
      },
      "source": [
        "#### What Is A Series?"
      ]
    },
    {
      "cell_type": "code",
      "metadata": {
        "id": "VP_gPfciJNYx",
        "colab_type": "code",
        "colab": {}
      },
      "source": [
        "students = ['Andrew', 'Brie', 'Kanika']"
      ],
      "execution_count": 0,
      "outputs": []
    },
    {
      "cell_type": "code",
      "metadata": {
        "id": "3vgkHX8sJsQy",
        "colab_type": "code",
        "outputId": "f34ccc50-1846-4999-c6a3-0da3070a1eeb",
        "colab": {
          "base_uri": "https://localhost:8080/",
          "height": 0
        }
      },
      "source": [
        "type(students)"
      ],
      "execution_count": 5,
      "outputs": [
        {
          "output_type": "execute_result",
          "data": {
            "text/plain": [
              "list"
            ]
          },
          "metadata": {
            "tags": []
          },
          "execution_count": 5
        }
      ]
    },
    {
      "cell_type": "code",
      "metadata": {
        "id": "DwOoYINZJt15",
        "colab_type": "code",
        "outputId": "1f3fc0fd-13d0-4602-a538-f26f3fc05d4f",
        "colab": {
          "base_uri": "https://localhost:8080/",
          "height": 0
        }
      },
      "source": [
        "pd.Series(students)"
      ],
      "execution_count": 6,
      "outputs": [
        {
          "output_type": "execute_result",
          "data": {
            "text/plain": [
              "0    Andrew\n",
              "1      Brie\n",
              "2    Kanika\n",
              "dtype: object"
            ]
          },
          "metadata": {
            "tags": []
          },
          "execution_count": 6
        }
      ]
    },
    {
      "cell_type": "code",
      "metadata": {
        "id": "qt0HuwZxJxiF",
        "colab_type": "code",
        "colab": {}
      },
      "source": [
        "ages = [27, 49, 37]"
      ],
      "execution_count": 0,
      "outputs": []
    },
    {
      "cell_type": "code",
      "metadata": {
        "id": "1cqmFPrsJ4ZX",
        "colab_type": "code",
        "outputId": "e5c707f6-6f02-49d9-be78-96dc23511954",
        "colab": {
          "base_uri": "https://localhost:8080/",
          "height": 0
        }
      },
      "source": [
        "pd.Series(ages)"
      ],
      "execution_count": 8,
      "outputs": [
        {
          "output_type": "execute_result",
          "data": {
            "text/plain": [
              "0    27\n",
              "1    49\n",
              "2    37\n",
              "dtype: int64"
            ]
          },
          "metadata": {
            "tags": []
          },
          "execution_count": 8
        }
      ]
    },
    {
      "cell_type": "code",
      "metadata": {
        "id": "hzTOsHMqJ5Pk",
        "colab_type": "code",
        "colab": {}
      },
      "source": [
        "heights = [167.4, 173.2, 190.0]"
      ],
      "execution_count": 0,
      "outputs": []
    },
    {
      "cell_type": "code",
      "metadata": {
        "id": "T40MxgcZJ91_",
        "colab_type": "code",
        "outputId": "f5d4dba1-9e34-482b-9bb1-a60a3d7a6845",
        "colab": {
          "base_uri": "https://localhost:8080/",
          "height": 0
        }
      },
      "source": [
        "pd.Series(heights)"
      ],
      "execution_count": 10,
      "outputs": [
        {
          "output_type": "execute_result",
          "data": {
            "text/plain": [
              "0    167.4\n",
              "1    173.2\n",
              "2    190.0\n",
              "dtype: float64"
            ]
          },
          "metadata": {
            "tags": []
          },
          "execution_count": 10
        }
      ]
    },
    {
      "cell_type": "code",
      "metadata": {
        "id": "-OuS4qPXJ-ox",
        "colab_type": "code",
        "colab": {}
      },
      "source": [
        "mixed = [True, 'say', {'my_mood': 100}]"
      ],
      "execution_count": 0,
      "outputs": []
    },
    {
      "cell_type": "code",
      "metadata": {
        "id": "5kod9PAsKPUF",
        "colab_type": "code",
        "outputId": "6560872c-7965-4f9a-b6e7-2141d0f9ecda",
        "colab": {
          "base_uri": "https://localhost:8080/",
          "height": 0
        }
      },
      "source": [
        "pd.Series(mixed)"
      ],
      "execution_count": 12,
      "outputs": [
        {
          "output_type": "execute_result",
          "data": {
            "text/plain": [
              "0                True\n",
              "1                 say\n",
              "2    {'my_mood': 100}\n",
              "dtype: object"
            ]
          },
          "metadata": {
            "tags": []
          },
          "execution_count": 12
        }
      ]
    },
    {
      "cell_type": "markdown",
      "metadata": {
        "id": "3AXiSy2PKQd2",
        "colab_type": "text"
      },
      "source": [
        "#### Parameters Vs. Arguments"
      ]
    },
    {
      "cell_type": "code",
      "metadata": {
        "id": "JfG7sECHOPLD",
        "colab_type": "code",
        "outputId": "d1f1171d-f969-47e4-a515-cac71dd373cc",
        "colab": {
          "base_uri": "https://localhost:8080/",
          "height": 0
        }
      },
      "source": [
        "pd.Series(students)"
      ],
      "execution_count": 13,
      "outputs": [
        {
          "output_type": "execute_result",
          "data": {
            "text/plain": [
              "0    Andrew\n",
              "1      Brie\n",
              "2    Kanika\n",
              "dtype: object"
            ]
          },
          "metadata": {
            "tags": []
          },
          "execution_count": 13
        }
      ]
    },
    {
      "cell_type": "code",
      "metadata": {
        "id": "dHnAXDDxOeMx",
        "colab_type": "code",
        "outputId": "81fb30c7-51f1-4cde-9d88-cb250c5f8b43",
        "colab": {
          "base_uri": "https://localhost:8080/",
          "height": 0
        }
      },
      "source": [
        "pd.Series(data=students)"
      ],
      "execution_count": 14,
      "outputs": [
        {
          "output_type": "execute_result",
          "data": {
            "text/plain": [
              "0    Andrew\n",
              "1      Brie\n",
              "2    Kanika\n",
              "dtype: object"
            ]
          },
          "metadata": {
            "tags": []
          },
          "execution_count": 14
        }
      ]
    },
    {
      "cell_type": "code",
      "metadata": {
        "id": "B5EPW3eFOish",
        "colab_type": "code",
        "colab": {}
      },
      "source": [
        "# python and general programming terminology"
      ],
      "execution_count": 0,
      "outputs": []
    },
    {
      "cell_type": "code",
      "metadata": {
        "id": "DKZ8S0xDOzD5",
        "colab_type": "code",
        "colab": {}
      },
      "source": [
        "def greeting(something):\n",
        "  print(something)"
      ],
      "execution_count": 0,
      "outputs": []
    },
    {
      "cell_type": "code",
      "metadata": {
        "id": "-EJl6GHOO2Vu",
        "colab_type": "code",
        "outputId": "a0e565f3-f5fe-42cf-f96b-372d2607a46c",
        "colab": {
          "base_uri": "https://localhost:8080/",
          "height": 0
        }
      },
      "source": [
        "greeting('good morning to you')"
      ],
      "execution_count": 17,
      "outputs": [
        {
          "output_type": "stream",
          "text": [
            "good morning to you\n"
          ],
          "name": "stdout"
        }
      ]
    },
    {
      "cell_type": "markdown",
      "metadata": {
        "id": "iXC88l2yO5Zl",
        "colab_type": "text"
      },
      "source": [
        "#### What's In The Data"
      ]
    },
    {
      "cell_type": "code",
      "metadata": {
        "id": "1EOmI3gWjZHD",
        "colab_type": "code",
        "colab": {}
      },
      "source": [
        "books_list = ['Fooled by Randomness', 'Sapiens', 'Lenin on the Train']"
      ],
      "execution_count": 0,
      "outputs": []
    },
    {
      "cell_type": "code",
      "metadata": {
        "id": "IvkXARODkAcP",
        "colab_type": "code",
        "colab": {}
      },
      "source": [
        "list_s = pd.Series(books_list)"
      ],
      "execution_count": 0,
      "outputs": []
    },
    {
      "cell_type": "code",
      "metadata": {
        "id": "8HU_H3HWkDIX",
        "colab_type": "code",
        "colab": {}
      },
      "source": [
        "books_dict = {0:'Fooled by Randomness', 1:'Sapiens', 2:'Lenin on the Train'}"
      ],
      "execution_count": 0,
      "outputs": []
    },
    {
      "cell_type": "code",
      "metadata": {
        "id": "1v5M_OCrkNX4",
        "colab_type": "code",
        "colab": {}
      },
      "source": [
        "dict_s = pd.Series(books_dict)"
      ],
      "execution_count": 0,
      "outputs": []
    },
    {
      "cell_type": "code",
      "metadata": {
        "id": "-25XeNH3kbOH",
        "colab_type": "code",
        "outputId": "beb4ca36-0f3e-4900-bc22-c36fc91214da",
        "colab": {
          "base_uri": "https://localhost:8080/",
          "height": 0
        }
      },
      "source": [
        "list_s.equals(dict_s)"
      ],
      "execution_count": 22,
      "outputs": [
        {
          "output_type": "execute_result",
          "data": {
            "text/plain": [
              "True"
            ]
          },
          "metadata": {
            "tags": []
          },
          "execution_count": 22
        }
      ]
    },
    {
      "cell_type": "code",
      "metadata": {
        "id": "U1hNdx3oknul",
        "colab_type": "code",
        "outputId": "cb705e2f-5ef9-4725-9b63-a175c4a12dfa",
        "colab": {
          "base_uri": "https://localhost:8080/",
          "height": 0
        }
      },
      "source": [
        "pd.Series(714)"
      ],
      "execution_count": 23,
      "outputs": [
        {
          "output_type": "execute_result",
          "data": {
            "text/plain": [
              "0    714\n",
              "dtype: int64"
            ]
          },
          "metadata": {
            "tags": []
          },
          "execution_count": 23
        }
      ]
    },
    {
      "cell_type": "code",
      "metadata": {
        "id": "KJtr09yDk3Bs",
        "colab_type": "code",
        "outputId": "3a82b997-6d78-4136-ffd7-531e6b5c0d0d",
        "colab": {
          "base_uri": "https://localhost:8080/",
          "height": 0
        }
      },
      "source": [
        "pd.Series('Andy')"
      ],
      "execution_count": 24,
      "outputs": [
        {
          "output_type": "execute_result",
          "data": {
            "text/plain": [
              "0    Andy\n",
              "dtype: object"
            ]
          },
          "metadata": {
            "tags": []
          },
          "execution_count": 24
        }
      ]
    },
    {
      "cell_type": "markdown",
      "metadata": {
        "id": "V4z_J-M0k4by",
        "colab_type": "text"
      },
      "source": [
        "#### The .dtype Attribute"
      ]
    },
    {
      "cell_type": "code",
      "metadata": {
        "id": "H5Q2_4ho691W",
        "colab_type": "code",
        "outputId": "86a122d4-85ac-4115-d21a-0e9feb2a6ddc",
        "colab": {
          "base_uri": "https://localhost:8080/",
          "height": 0
        }
      },
      "source": [
        "ages"
      ],
      "execution_count": 25,
      "outputs": [
        {
          "output_type": "execute_result",
          "data": {
            "text/plain": [
              "[27, 49, 37]"
            ]
          },
          "metadata": {
            "tags": []
          },
          "execution_count": 25
        }
      ]
    },
    {
      "cell_type": "code",
      "metadata": {
        "id": "OuYKqiWC7aBo",
        "colab_type": "code",
        "outputId": "2c175d53-a35d-46b8-984b-7e871687fbee",
        "colab": {
          "base_uri": "https://localhost:8080/",
          "height": 0
        }
      },
      "source": [
        "pd.Series(ages)"
      ],
      "execution_count": 26,
      "outputs": [
        {
          "output_type": "execute_result",
          "data": {
            "text/plain": [
              "0    27\n",
              "1    49\n",
              "2    37\n",
              "dtype: int64"
            ]
          },
          "metadata": {
            "tags": []
          },
          "execution_count": 26
        }
      ]
    },
    {
      "cell_type": "code",
      "metadata": {
        "id": "gAmFG2dH7bol",
        "colab_type": "code",
        "outputId": "632a4d87-d806-4f09-8779-015b9b70a818",
        "colab": {
          "base_uri": "https://localhost:8080/",
          "height": 0
        }
      },
      "source": [
        "pd.Series(ages, dtype='float')"
      ],
      "execution_count": 27,
      "outputs": [
        {
          "output_type": "execute_result",
          "data": {
            "text/plain": [
              "0    27.0\n",
              "1    49.0\n",
              "2    37.0\n",
              "dtype: float64"
            ]
          },
          "metadata": {
            "tags": []
          },
          "execution_count": 27
        }
      ]
    },
    {
      "cell_type": "code",
      "metadata": {
        "id": "Sh_tS8rf7faX",
        "colab_type": "code",
        "outputId": "b813a2bd-3089-4742-cdff-bebfc4c2d014",
        "colab": {
          "base_uri": "https://localhost:8080/",
          "height": 0
        }
      },
      "source": [
        "students"
      ],
      "execution_count": 28,
      "outputs": [
        {
          "output_type": "execute_result",
          "data": {
            "text/plain": [
              "['Andrew', 'Brie', 'Kanika']"
            ]
          },
          "metadata": {
            "tags": []
          },
          "execution_count": 28
        }
      ]
    },
    {
      "cell_type": "code",
      "metadata": {
        "id": "yu4ehYDK7ojy",
        "colab_type": "code",
        "colab": {}
      },
      "source": [
        "names_series = pd.Series(students)"
      ],
      "execution_count": 0,
      "outputs": []
    },
    {
      "cell_type": "code",
      "metadata": {
        "id": "MhZ2ioyA7qmS",
        "colab_type": "code",
        "outputId": "0a192277-8018-4c5a-c256-b25b460181f1",
        "colab": {
          "base_uri": "https://localhost:8080/",
          "height": 0
        }
      },
      "source": [
        "names_series"
      ],
      "execution_count": 30,
      "outputs": [
        {
          "output_type": "execute_result",
          "data": {
            "text/plain": [
              "0    Andrew\n",
              "1      Brie\n",
              "2    Kanika\n",
              "dtype: object"
            ]
          },
          "metadata": {
            "tags": []
          },
          "execution_count": 30
        }
      ]
    },
    {
      "cell_type": "code",
      "metadata": {
        "id": "yrbYDGCP7rSZ",
        "colab_type": "code",
        "outputId": "0fc392b6-9a7a-4a31-ae37-4325011564c7",
        "colab": {
          "base_uri": "https://localhost:8080/",
          "height": 0
        }
      },
      "source": [
        "names_series.dtype"
      ],
      "execution_count": 31,
      "outputs": [
        {
          "output_type": "execute_result",
          "data": {
            "text/plain": [
              "dtype('O')"
            ]
          },
          "metadata": {
            "tags": []
          },
          "execution_count": 31
        }
      ]
    },
    {
      "cell_type": "markdown",
      "metadata": {
        "id": "-rVVwTge7tJz",
        "colab_type": "text"
      },
      "source": [
        "#### BONUS - What Is dtype, Really?"
      ]
    },
    {
      "cell_type": "code",
      "metadata": {
        "id": "8lrAKEOvDWxQ",
        "colab_type": "code",
        "colab": {}
      },
      "source": [
        "# numpy"
      ],
      "execution_count": 0,
      "outputs": []
    },
    {
      "cell_type": "code",
      "metadata": {
        "id": "M1gxchoxDxsw",
        "colab_type": "code",
        "outputId": "7ae3426e-e93a-4c9f-920d-9c75c264fbab",
        "colab": {
          "base_uri": "https://localhost:8080/",
          "height": 0
        }
      },
      "source": [
        "heights"
      ],
      "execution_count": 33,
      "outputs": [
        {
          "output_type": "execute_result",
          "data": {
            "text/plain": [
              "[167.4, 173.2, 190.0]"
            ]
          },
          "metadata": {
            "tags": []
          },
          "execution_count": 33
        }
      ]
    },
    {
      "cell_type": "code",
      "metadata": {
        "id": "FOmJHhGuDyOq",
        "colab_type": "code",
        "outputId": "305642c0-2a16-4ca8-9abb-2fa0031bce96",
        "colab": {
          "base_uri": "https://localhost:8080/",
          "height": 0
        }
      },
      "source": [
        "pd.Series(heights)"
      ],
      "execution_count": 34,
      "outputs": [
        {
          "output_type": "execute_result",
          "data": {
            "text/plain": [
              "0    167.4\n",
              "1    173.2\n",
              "2    190.0\n",
              "dtype: float64"
            ]
          },
          "metadata": {
            "tags": []
          },
          "execution_count": 34
        }
      ]
    },
    {
      "cell_type": "code",
      "metadata": {
        "id": "ZzONNBDNDzuY",
        "colab_type": "code",
        "colab": {}
      },
      "source": [
        "heights2 = [167.4, '173.2', 190.0]"
      ],
      "execution_count": 0,
      "outputs": []
    },
    {
      "cell_type": "code",
      "metadata": {
        "id": "_LSrN6nSEIYC",
        "colab_type": "code",
        "outputId": "82648117-2e82-4295-efa2-09564612d34e",
        "colab": {
          "base_uri": "https://localhost:8080/",
          "height": 0
        }
      },
      "source": [
        "pd.Series(heights2)"
      ],
      "execution_count": 36,
      "outputs": [
        {
          "output_type": "execute_result",
          "data": {
            "text/plain": [
              "0    167.4\n",
              "1    173.2\n",
              "2      190\n",
              "dtype: object"
            ]
          },
          "metadata": {
            "tags": []
          },
          "execution_count": 36
        }
      ]
    },
    {
      "cell_type": "markdown",
      "metadata": {
        "id": "MKLzw1tmbViH",
        "colab_type": "text"
      },
      "source": [
        "#### Index And RangeIndex"
      ]
    },
    {
      "cell_type": "code",
      "metadata": {
        "id": "5DqEuR7Ehqqs",
        "colab_type": "code",
        "outputId": "4f3d2cd2-ca47-4e85-cc70-6c4287c38f5f",
        "colab": {
          "base_uri": "https://localhost:8080/",
          "height": 0
        }
      },
      "source": [
        "books_list"
      ],
      "execution_count": 37,
      "outputs": [
        {
          "output_type": "execute_result",
          "data": {
            "text/plain": [
              "['Fooled by Randomness', 'Sapiens', 'Lenin on the Train']"
            ]
          },
          "metadata": {
            "tags": []
          },
          "execution_count": 37
        }
      ]
    },
    {
      "cell_type": "code",
      "metadata": {
        "id": "XLZTJw3yhuy0",
        "colab_type": "code",
        "outputId": "89b3c068-1d34-40cb-c8e6-824b6a383dde",
        "colab": {
          "base_uri": "https://localhost:8080/",
          "height": 0
        }
      },
      "source": [
        "list_s"
      ],
      "execution_count": 38,
      "outputs": [
        {
          "output_type": "execute_result",
          "data": {
            "text/plain": [
              "0    Fooled by Randomness\n",
              "1                 Sapiens\n",
              "2      Lenin on the Train\n",
              "dtype: object"
            ]
          },
          "metadata": {
            "tags": []
          },
          "execution_count": 38
        }
      ]
    },
    {
      "cell_type": "code",
      "metadata": {
        "id": "2mD9vGxIhve8",
        "colab_type": "code",
        "outputId": "c37f32b3-c429-465a-cc0e-82f1aa9fb79d",
        "colab": {
          "base_uri": "https://localhost:8080/",
          "height": 0
        }
      },
      "source": [
        "pd.Series(books_list,['funny', 'serious and amusing', 'kinda interesting'])"
      ],
      "execution_count": 39,
      "outputs": [
        {
          "output_type": "execute_result",
          "data": {
            "text/plain": [
              "funny                  Fooled by Randomness\n",
              "serious and amusing                 Sapiens\n",
              "kinda interesting        Lenin on the Train\n",
              "dtype: object"
            ]
          },
          "metadata": {
            "tags": []
          },
          "execution_count": 39
        }
      ]
    },
    {
      "cell_type": "code",
      "metadata": {
        "id": "2pVw0SCciIDx",
        "colab_type": "code",
        "outputId": "8ded6a0e-1229-4270-ceff-5af86ebcbc50",
        "colab": {
          "base_uri": "https://localhost:8080/",
          "height": 0
        }
      },
      "source": [
        "pd.Series(books_list,['funny', 'serious and amusing', 'kinda interesting'], dtype='string')"
      ],
      "execution_count": 40,
      "outputs": [
        {
          "output_type": "execute_result",
          "data": {
            "text/plain": [
              "funny                  Fooled by Randomness\n",
              "serious and amusing                 Sapiens\n",
              "kinda interesting        Lenin on the Train\n",
              "dtype: string"
            ]
          },
          "metadata": {
            "tags": []
          },
          "execution_count": 40
        }
      ]
    },
    {
      "cell_type": "code",
      "metadata": {
        "id": "6ZRXXoefiVot",
        "colab_type": "code",
        "outputId": "2f58477e-30e8-44d4-ded5-5d1b07812714",
        "colab": {
          "base_uri": "https://localhost:8080/",
          "height": 0
        }
      },
      "source": [
        "pd.__version__"
      ],
      "execution_count": 41,
      "outputs": [
        {
          "output_type": "execute_result",
          "data": {
            "text/plain": [
              "'1.0.1'"
            ]
          },
          "metadata": {
            "tags": []
          },
          "execution_count": 41
        }
      ]
    },
    {
      "cell_type": "code",
      "metadata": {
        "id": "H8lNAx0liZs8",
        "colab_type": "code",
        "colab": {}
      },
      "source": [
        "# stringdtype()"
      ],
      "execution_count": 0,
      "outputs": []
    },
    {
      "cell_type": "code",
      "metadata": {
        "id": "APxb4TTkiiP6",
        "colab_type": "code",
        "colab": {}
      },
      "source": [
        "# pd.Series(dtype='string', books_list,['funny', 'serious and amusing', 'kinda interesting'])"
      ],
      "execution_count": 0,
      "outputs": []
    },
    {
      "cell_type": "code",
      "metadata": {
        "id": "jyVuYq6lil2u",
        "colab_type": "code",
        "outputId": "4ac69f09-7edd-4594-ac1e-cd7ccdf683c6",
        "colab": {
          "base_uri": "https://localhost:8080/",
          "height": 0
        }
      },
      "source": [
        "list_s.index"
      ],
      "execution_count": 44,
      "outputs": [
        {
          "output_type": "execute_result",
          "data": {
            "text/plain": [
              "RangeIndex(start=0, stop=3, step=1)"
            ]
          },
          "metadata": {
            "tags": []
          },
          "execution_count": 44
        }
      ]
    },
    {
      "cell_type": "code",
      "metadata": {
        "id": "YOL7vYG2isNt",
        "colab_type": "code",
        "outputId": "683840e7-f7c6-4c6b-e9b7-170bae6f26ec",
        "colab": {
          "base_uri": "https://localhost:8080/",
          "height": 0
        }
      },
      "source": [
        "type(list_s.index)"
      ],
      "execution_count": 45,
      "outputs": [
        {
          "output_type": "execute_result",
          "data": {
            "text/plain": [
              "pandas.core.indexes.range.RangeIndex"
            ]
          },
          "metadata": {
            "tags": []
          },
          "execution_count": 45
        }
      ]
    },
    {
      "cell_type": "code",
      "metadata": {
        "id": "owaGtLTgiuUD",
        "colab_type": "code",
        "outputId": "5e475ad1-ec42-48ba-b804-a11373301d83",
        "colab": {
          "base_uri": "https://localhost:8080/",
          "height": 0
        }
      },
      "source": [
        "list(pd.RangeIndex(start=4, stop=7, step=1))"
      ],
      "execution_count": 46,
      "outputs": [
        {
          "output_type": "execute_result",
          "data": {
            "text/plain": [
              "[4, 5, 6]"
            ]
          },
          "metadata": {
            "tags": []
          },
          "execution_count": 46
        }
      ]
    },
    {
      "cell_type": "code",
      "metadata": {
        "id": "5kkoC6wci6xo",
        "colab_type": "code",
        "outputId": "c2181c8b-62d2-475c-82a1-b0e7d5cddc63",
        "colab": {
          "base_uri": "https://localhost:8080/",
          "height": 0
        }
      },
      "source": [
        "list(pd.RangeIndex(start=10, stop=-11, step=-1))"
      ],
      "execution_count": 47,
      "outputs": [
        {
          "output_type": "execute_result",
          "data": {
            "text/plain": [
              "[10, 9, 8, 7, 6, 5, 4, 3, 2, 1, 0, -1, -2, -3, -4, -5, -6, -7, -8, -9, -10]"
            ]
          },
          "metadata": {
            "tags": []
          },
          "execution_count": 47
        }
      ]
    },
    {
      "cell_type": "markdown",
      "metadata": {
        "id": "BYlOokJ3jCo3",
        "colab_type": "text"
      },
      "source": [
        "#### Series And Index Names"
      ]
    },
    {
      "cell_type": "code",
      "metadata": {
        "id": "6rhnHd_k58NH",
        "colab_type": "code",
        "colab": {}
      },
      "source": [
        "# books_series"
      ],
      "execution_count": 0,
      "outputs": []
    },
    {
      "cell_type": "code",
      "metadata": {
        "id": "EzWXGmBM53bn",
        "colab_type": "code",
        "outputId": "0ed5f951-30d1-438c-f92e-90ea6eb3c8fa",
        "colab": {
          "base_uri": "https://localhost:8080/",
          "height": 0
        }
      },
      "source": [
        "list_s"
      ],
      "execution_count": 49,
      "outputs": [
        {
          "output_type": "execute_result",
          "data": {
            "text/plain": [
              "0    Fooled by Randomness\n",
              "1                 Sapiens\n",
              "2      Lenin on the Train\n",
              "dtype: object"
            ]
          },
          "metadata": {
            "tags": []
          },
          "execution_count": 49
        }
      ]
    },
    {
      "cell_type": "code",
      "metadata": {
        "id": "iIYh_d5i53PW",
        "colab_type": "code",
        "colab": {}
      },
      "source": [
        "books_series = list_s"
      ],
      "execution_count": 0,
      "outputs": []
    },
    {
      "cell_type": "code",
      "metadata": {
        "id": "igtbR_er53Ji",
        "colab_type": "code",
        "colab": {}
      },
      "source": [
        "# intelligble: capable of being understood"
      ],
      "execution_count": 0,
      "outputs": []
    },
    {
      "cell_type": "code",
      "metadata": {
        "id": "oDXz9yKSmCX-",
        "colab_type": "code",
        "outputId": "39c77d00-7bd9-44c8-ac33-9b523ac251b2",
        "colab": {
          "base_uri": "https://localhost:8080/",
          "height": 0
        }
      },
      "source": [
        "books_series"
      ],
      "execution_count": 52,
      "outputs": [
        {
          "output_type": "execute_result",
          "data": {
            "text/plain": [
              "0    Fooled by Randomness\n",
              "1                 Sapiens\n",
              "2      Lenin on the Train\n",
              "dtype: object"
            ]
          },
          "metadata": {
            "tags": []
          },
          "execution_count": 52
        }
      ]
    },
    {
      "cell_type": "code",
      "metadata": {
        "id": "Yr-5UPXBmDii",
        "colab_type": "code",
        "outputId": "867c6094-eba7-49ab-d9cf-71ead3d57985",
        "colab": {
          "base_uri": "https://localhost:8080/",
          "height": 0
        }
      },
      "source": [
        "books_series.size"
      ],
      "execution_count": 53,
      "outputs": [
        {
          "output_type": "execute_result",
          "data": {
            "text/plain": [
              "3"
            ]
          },
          "metadata": {
            "tags": []
          },
          "execution_count": 53
        }
      ]
    },
    {
      "cell_type": "code",
      "metadata": {
        "id": "EpokcHOn6ZJs",
        "colab_type": "code",
        "outputId": "af748464-d759-4cf2-a322-2ccc3da29d34",
        "colab": {
          "base_uri": "https://localhost:8080/",
          "height": 0
        }
      },
      "source": [
        "list_s.equals(dict_s)"
      ],
      "execution_count": 54,
      "outputs": [
        {
          "output_type": "execute_result",
          "data": {
            "text/plain": [
              "True"
            ]
          },
          "metadata": {
            "tags": []
          },
          "execution_count": 54
        }
      ]
    },
    {
      "cell_type": "code",
      "metadata": {
        "id": "hksNNCKk6jj2",
        "colab_type": "code",
        "outputId": "ff6e4837-8e87-414d-c8fa-e68917992c38",
        "colab": {
          "base_uri": "https://localhost:8080/",
          "height": 0
        }
      },
      "source": [
        "list_s.dtype"
      ],
      "execution_count": 55,
      "outputs": [
        {
          "output_type": "execute_result",
          "data": {
            "text/plain": [
              "dtype('O')"
            ]
          },
          "metadata": {
            "tags": []
          },
          "execution_count": 55
        }
      ]
    },
    {
      "cell_type": "code",
      "metadata": {
        "id": "yh3Bf7T06oKz",
        "colab_type": "code",
        "colab": {}
      },
      "source": [
        "books_series.name"
      ],
      "execution_count": 0,
      "outputs": []
    },
    {
      "cell_type": "code",
      "metadata": {
        "id": "Z_aHq8C96t-K",
        "colab_type": "code",
        "outputId": "0aeafc17-983d-45c9-ca14-3143db192555",
        "colab": {
          "base_uri": "https://localhost:8080/",
          "height": 0
        }
      },
      "source": [
        "books_series.name == None"
      ],
      "execution_count": 57,
      "outputs": [
        {
          "output_type": "execute_result",
          "data": {
            "text/plain": [
              "True"
            ]
          },
          "metadata": {
            "tags": []
          },
          "execution_count": 57
        }
      ]
    },
    {
      "cell_type": "code",
      "metadata": {
        "id": "tjQyi2dz6zSn",
        "colab_type": "code",
        "colab": {}
      },
      "source": [
        "books_series.name = 'my favorite books'"
      ],
      "execution_count": 0,
      "outputs": []
    },
    {
      "cell_type": "code",
      "metadata": {
        "id": "lk5fj09J6268",
        "colab_type": "code",
        "outputId": "7011b9e5-babe-4585-c856-e6452020d51d",
        "colab": {
          "base_uri": "https://localhost:8080/",
          "height": 0
        }
      },
      "source": [
        "books_series"
      ],
      "execution_count": 59,
      "outputs": [
        {
          "output_type": "execute_result",
          "data": {
            "text/plain": [
              "0    Fooled by Randomness\n",
              "1                 Sapiens\n",
              "2      Lenin on the Train\n",
              "Name: my favorite books, dtype: object"
            ]
          },
          "metadata": {
            "tags": []
          },
          "execution_count": 59
        }
      ]
    },
    {
      "cell_type": "code",
      "metadata": {
        "id": "rkFWmkV464E1",
        "colab_type": "code",
        "colab": {}
      },
      "source": [
        "books_series.index.name"
      ],
      "execution_count": 0,
      "outputs": []
    },
    {
      "cell_type": "code",
      "metadata": {
        "id": "drtV9Y0_7E9f",
        "colab_type": "code",
        "outputId": "0f6bb586-59df-4992-8ef8-c48fd4568ba0",
        "colab": {
          "base_uri": "https://localhost:8080/",
          "height": 0
        }
      },
      "source": [
        "books_series.index.name == None"
      ],
      "execution_count": 61,
      "outputs": [
        {
          "output_type": "execute_result",
          "data": {
            "text/plain": [
              "True"
            ]
          },
          "metadata": {
            "tags": []
          },
          "execution_count": 61
        }
      ]
    },
    {
      "cell_type": "code",
      "metadata": {
        "id": "wn2TWROa7Gog",
        "colab_type": "code",
        "colab": {}
      },
      "source": [
        "books_series.index.name = 'My books'"
      ],
      "execution_count": 0,
      "outputs": []
    },
    {
      "cell_type": "code",
      "metadata": {
        "id": "bg4HqmJ07JzS",
        "colab_type": "code",
        "outputId": "22fbf0bc-943e-4415-d2cd-c42980f7ad77",
        "colab": {
          "base_uri": "https://localhost:8080/",
          "height": 0
        }
      },
      "source": [
        "books_series"
      ],
      "execution_count": 63,
      "outputs": [
        {
          "output_type": "execute_result",
          "data": {
            "text/plain": [
              "My books\n",
              "0    Fooled by Randomness\n",
              "1                 Sapiens\n",
              "2      Lenin on the Train\n",
              "Name: my favorite books, dtype: object"
            ]
          },
          "metadata": {
            "tags": []
          },
          "execution_count": 63
        }
      ]
    },
    {
      "cell_type": "markdown",
      "metadata": {
        "id": "BlOUMfCf7Koy",
        "colab_type": "text"
      },
      "source": [
        "#### Skill Challenge"
      ]
    },
    {
      "cell_type": "markdown",
      "metadata": {
        "id": "70E0Wx7u9uAt",
        "colab_type": "text"
      },
      "source": [
        "###### **1**."
      ]
    },
    {
      "cell_type": "markdown",
      "metadata": {
        "id": "YYzQDexU90mi",
        "colab_type": "text"
      },
      "source": [
        "Create a python list of length 4 that contains some of your favorite actors. So this should be a list of strings. Call this list—assign it to a variable called—*actor_names*."
      ]
    },
    {
      "cell_type": "markdown",
      "metadata": {
        "id": "CmRePQv297-Y",
        "colab_type": "text"
      },
      "source": [
        "###### **2**."
      ]
    },
    {
      "cell_type": "markdown",
      "metadata": {
        "id": "AugRCqS1-CtW",
        "colab_type": "text"
      },
      "source": [
        "Next, create another python list of the same length that contains your guesses for how old each actor is, feel free to just use integers or floats. Call this list *actor_ages*."
      ]
    },
    {
      "cell_type": "markdown",
      "metadata": {
        "id": "8LWeEH3D9-wQ",
        "colab_type": "text"
      },
      "source": [
        "###### **3**."
      ]
    },
    {
      "cell_type": "markdown",
      "metadata": {
        "id": "aYtG0R83-DKL",
        "colab_type": "text"
      },
      "source": [
        "Create a series that stores actor ages and labels the ages using the actor names. To clarify, use actor name in the index and actor age as values. Give this series a name of *actors*."
      ]
    },
    {
      "cell_type": "markdown",
      "metadata": {
        "id": "QCKbOWa5-AZu",
        "colab_type": "text"
      },
      "source": [
        "###### BONUS **4**."
      ]
    },
    {
      "cell_type": "markdown",
      "metadata": {
        "id": "tSkzpi-M-Dwb",
        "colab_type": "text"
      },
      "source": [
        "Repeat step 3 but this time create the series from a python dictionary. As an additional challenge, try not to type the dictionary manually, but instead dynamically create it using the two lists defined in Steps 1 and 2."
      ]
    },
    {
      "cell_type": "markdown",
      "metadata": {
        "id": "IdMoLAs9Bx1_",
        "colab_type": "text"
      },
      "source": [
        "#### Solution"
      ]
    },
    {
      "cell_type": "code",
      "metadata": {
        "id": "ar9KrnPUCOOZ",
        "colab_type": "code",
        "colab": {}
      },
      "source": [
        "# 1\n",
        "actor_names = ['Tom Cruise', 'Meryl Streep', 'Tom Hardy', 'Amanda Seyfried']"
      ],
      "execution_count": 0,
      "outputs": []
    },
    {
      "cell_type": "code",
      "metadata": {
        "id": "SsUCXmUOCgwr",
        "colab_type": "code",
        "colab": {}
      },
      "source": [
        "# 2\n",
        "actor_ages = [54.3, 62.1, 36.2, 33.4]"
      ],
      "execution_count": 0,
      "outputs": []
    },
    {
      "cell_type": "code",
      "metadata": {
        "id": "ey7CaFdJC0sz",
        "colab_type": "code",
        "colab": {}
      },
      "source": [
        "# 3\n",
        "actor_series = pd.Series(data=actor_ages, index=actor_names, name='actors')"
      ],
      "execution_count": 0,
      "outputs": []
    },
    {
      "cell_type": "code",
      "metadata": {
        "id": "tDlOc62MC1rh",
        "colab_type": "code",
        "outputId": "082bfd1e-9ade-404f-a690-648dafab81cf",
        "colab": {
          "base_uri": "https://localhost:8080/",
          "height": 0
        }
      },
      "source": [
        "actor_series"
      ],
      "execution_count": 67,
      "outputs": [
        {
          "output_type": "execute_result",
          "data": {
            "text/plain": [
              "Tom Cruise         54.3\n",
              "Meryl Streep       62.1\n",
              "Tom Hardy          36.2\n",
              "Amanda Seyfried    33.4\n",
              "Name: actors, dtype: float64"
            ]
          },
          "metadata": {
            "tags": []
          },
          "execution_count": 67
        }
      ]
    },
    {
      "cell_type": "code",
      "metadata": {
        "id": "LpEXcS0PDBKq",
        "colab_type": "code",
        "colab": {}
      },
      "source": [
        "# 4\n",
        "actors_dict = {'Tom Cruise': 54.3, 'Meryl Streep': 62.1}"
      ],
      "execution_count": 0,
      "outputs": []
    },
    {
      "cell_type": "code",
      "metadata": {
        "id": "EzKV5Q4SDL5t",
        "colab_type": "code",
        "outputId": "8f337847-9720-4a91-dd77-314dcf38c822",
        "colab": {
          "base_uri": "https://localhost:8080/",
          "height": 0
        }
      },
      "source": [
        "pd.Series(actors_dict)"
      ],
      "execution_count": 69,
      "outputs": [
        {
          "output_type": "execute_result",
          "data": {
            "text/plain": [
              "Tom Cruise      54.3\n",
              "Meryl Streep    62.1\n",
              "dtype: float64"
            ]
          },
          "metadata": {
            "tags": []
          },
          "execution_count": 69
        }
      ]
    },
    {
      "cell_type": "code",
      "metadata": {
        "id": "cb76lKHeDOA5",
        "colab_type": "code",
        "outputId": "0973a5f8-a6b4-4429-e9cf-fa80cd8bed78",
        "colab": {
          "base_uri": "https://localhost:8080/",
          "height": 0
        }
      },
      "source": [
        "list(zip(actor_names, actor_ages))"
      ],
      "execution_count": 70,
      "outputs": [
        {
          "output_type": "execute_result",
          "data": {
            "text/plain": [
              "[('Tom Cruise', 54.3),\n",
              " ('Meryl Streep', 62.1),\n",
              " ('Tom Hardy', 36.2),\n",
              " ('Amanda Seyfried', 33.4)]"
            ]
          },
          "metadata": {
            "tags": []
          },
          "execution_count": 70
        }
      ]
    },
    {
      "cell_type": "code",
      "metadata": {
        "id": "HTSXTqxkDTSA",
        "colab_type": "code",
        "outputId": "e11c18c8-86dc-48f3-b36a-dddd15b24e41",
        "colab": {
          "base_uri": "https://localhost:8080/",
          "height": 0
        }
      },
      "source": [
        "pd.Series(dict(zip(actor_names, actor_ages)))"
      ],
      "execution_count": 71,
      "outputs": [
        {
          "output_type": "execute_result",
          "data": {
            "text/plain": [
              "Tom Cruise         54.3\n",
              "Meryl Streep       62.1\n",
              "Tom Hardy          36.2\n",
              "Amanda Seyfried    33.4\n",
              "dtype: float64"
            ]
          },
          "metadata": {
            "tags": []
          },
          "execution_count": 71
        }
      ]
    },
    {
      "cell_type": "markdown",
      "metadata": {
        "id": "jgwo17dUDawR",
        "colab_type": "text"
      },
      "source": [
        "#### Another Solution"
      ]
    },
    {
      "cell_type": "code",
      "metadata": {
        "id": "-qXjvyIjG6X0",
        "colab_type": "code",
        "outputId": "b2557973-9c29-48f6-aa9f-ec3fbb8027ff",
        "colab": {
          "base_uri": "https://localhost:8080/",
          "height": 0
        }
      },
      "source": [
        "{name:age for name,age in zip(actor_names, actor_ages)}"
      ],
      "execution_count": 72,
      "outputs": [
        {
          "output_type": "execute_result",
          "data": {
            "text/plain": [
              "{'Amanda Seyfried': 33.4,\n",
              " 'Meryl Streep': 62.1,\n",
              " 'Tom Cruise': 54.3,\n",
              " 'Tom Hardy': 36.2}"
            ]
          },
          "metadata": {
            "tags": []
          },
          "execution_count": 72
        }
      ]
    },
    {
      "cell_type": "markdown",
      "metadata": {
        "id": "aNv9ZDu-_dy8",
        "colab_type": "text"
      },
      "source": [
        "#### The head() And tail() Methods"
      ]
    },
    {
      "cell_type": "code",
      "metadata": {
        "id": "DHmzjiM9CC2b",
        "colab_type": "code",
        "colab": {}
      },
      "source": [
        "int_series = pd.Series([i for i in range(60)])"
      ],
      "execution_count": 0,
      "outputs": []
    },
    {
      "cell_type": "code",
      "metadata": {
        "id": "-aa2_Jq9CCuS",
        "colab_type": "code",
        "outputId": "d05d4035-1bce-4bb4-b70a-7ea48802397f",
        "colab": {
          "base_uri": "https://localhost:8080/",
          "height": 0
        }
      },
      "source": [
        "int_series"
      ],
      "execution_count": 74,
      "outputs": [
        {
          "output_type": "execute_result",
          "data": {
            "text/plain": [
              "0      0\n",
              "1      1\n",
              "2      2\n",
              "3      3\n",
              "4      4\n",
              "5      5\n",
              "6      6\n",
              "7      7\n",
              "8      8\n",
              "9      9\n",
              "10    10\n",
              "11    11\n",
              "12    12\n",
              "13    13\n",
              "14    14\n",
              "15    15\n",
              "16    16\n",
              "17    17\n",
              "18    18\n",
              "19    19\n",
              "20    20\n",
              "21    21\n",
              "22    22\n",
              "23    23\n",
              "24    24\n",
              "25    25\n",
              "26    26\n",
              "27    27\n",
              "28    28\n",
              "29    29\n",
              "30    30\n",
              "31    31\n",
              "32    32\n",
              "33    33\n",
              "34    34\n",
              "35    35\n",
              "36    36\n",
              "37    37\n",
              "38    38\n",
              "39    39\n",
              "40    40\n",
              "41    41\n",
              "42    42\n",
              "43    43\n",
              "44    44\n",
              "45    45\n",
              "46    46\n",
              "47    47\n",
              "48    48\n",
              "49    49\n",
              "50    50\n",
              "51    51\n",
              "52    52\n",
              "53    53\n",
              "54    54\n",
              "55    55\n",
              "56    56\n",
              "57    57\n",
              "58    58\n",
              "59    59\n",
              "dtype: int64"
            ]
          },
          "metadata": {
            "tags": []
          },
          "execution_count": 74
        }
      ]
    },
    {
      "cell_type": "code",
      "metadata": {
        "id": "1TSOvpBrBU5Z",
        "colab_type": "code",
        "outputId": "e4d31be3-8773-4510-cce5-fb49241a64e5",
        "colab": {
          "base_uri": "https://localhost:8080/",
          "height": 0
        }
      },
      "source": [
        "pd.Series(range(60))"
      ],
      "execution_count": 75,
      "outputs": [
        {
          "output_type": "execute_result",
          "data": {
            "text/plain": [
              "0      0\n",
              "1      1\n",
              "2      2\n",
              "3      3\n",
              "4      4\n",
              "5      5\n",
              "6      6\n",
              "7      7\n",
              "8      8\n",
              "9      9\n",
              "10    10\n",
              "11    11\n",
              "12    12\n",
              "13    13\n",
              "14    14\n",
              "15    15\n",
              "16    16\n",
              "17    17\n",
              "18    18\n",
              "19    19\n",
              "20    20\n",
              "21    21\n",
              "22    22\n",
              "23    23\n",
              "24    24\n",
              "25    25\n",
              "26    26\n",
              "27    27\n",
              "28    28\n",
              "29    29\n",
              "30    30\n",
              "31    31\n",
              "32    32\n",
              "33    33\n",
              "34    34\n",
              "35    35\n",
              "36    36\n",
              "37    37\n",
              "38    38\n",
              "39    39\n",
              "40    40\n",
              "41    41\n",
              "42    42\n",
              "43    43\n",
              "44    44\n",
              "45    45\n",
              "46    46\n",
              "47    47\n",
              "48    48\n",
              "49    49\n",
              "50    50\n",
              "51    51\n",
              "52    52\n",
              "53    53\n",
              "54    54\n",
              "55    55\n",
              "56    56\n",
              "57    57\n",
              "58    58\n",
              "59    59\n",
              "dtype: int64"
            ]
          },
          "metadata": {
            "tags": []
          },
          "execution_count": 75
        }
      ]
    },
    {
      "cell_type": "code",
      "metadata": {
        "id": "m6tKNlC7BuOS",
        "colab_type": "code",
        "outputId": "fa05e044-148c-494c-a73d-b41742ff8335",
        "colab": {
          "base_uri": "https://localhost:8080/",
          "height": 0
        }
      },
      "source": [
        "int_series.size"
      ],
      "execution_count": 76,
      "outputs": [
        {
          "output_type": "execute_result",
          "data": {
            "text/plain": [
              "60"
            ]
          },
          "metadata": {
            "tags": []
          },
          "execution_count": 76
        }
      ]
    },
    {
      "cell_type": "code",
      "metadata": {
        "id": "BwS7kFbRBVJ-",
        "colab_type": "code",
        "outputId": "ac53d94b-778e-4aa7-bfab-e38927dba914",
        "colab": {
          "base_uri": "https://localhost:8080/",
          "height": 0
        }
      },
      "source": [
        "len(int_series)"
      ],
      "execution_count": 77,
      "outputs": [
        {
          "output_type": "execute_result",
          "data": {
            "text/plain": [
              "60"
            ]
          },
          "metadata": {
            "tags": []
          },
          "execution_count": 77
        }
      ]
    },
    {
      "cell_type": "code",
      "metadata": {
        "id": "TmU046OCCWh6",
        "colab_type": "code",
        "outputId": "0f9d7422-5801-416a-82e3-21f7eb2a7adf",
        "colab": {
          "base_uri": "https://localhost:8080/",
          "height": 0
        }
      },
      "source": [
        "int_series.head()"
      ],
      "execution_count": 78,
      "outputs": [
        {
          "output_type": "execute_result",
          "data": {
            "text/plain": [
              "0    0\n",
              "1    1\n",
              "2    2\n",
              "3    3\n",
              "4    4\n",
              "dtype: int64"
            ]
          },
          "metadata": {
            "tags": []
          },
          "execution_count": 78
        }
      ]
    },
    {
      "cell_type": "code",
      "metadata": {
        "id": "l3TgDATYCj7B",
        "colab_type": "code",
        "outputId": "e96a6e41-1e9c-429d-c584-9777cd0940d3",
        "colab": {
          "base_uri": "https://localhost:8080/",
          "height": 0
        }
      },
      "source": [
        "int_series.tail()"
      ],
      "execution_count": 79,
      "outputs": [
        {
          "output_type": "execute_result",
          "data": {
            "text/plain": [
              "55    55\n",
              "56    56\n",
              "57    57\n",
              "58    58\n",
              "59    59\n",
              "dtype: int64"
            ]
          },
          "metadata": {
            "tags": []
          },
          "execution_count": 79
        }
      ]
    },
    {
      "cell_type": "code",
      "metadata": {
        "id": "wVSJZzAtCms0",
        "colab_type": "code",
        "outputId": "4fe111d2-d596-4c3d-9703-5a9440a9a3aa",
        "colab": {
          "base_uri": "https://localhost:8080/",
          "height": 0
        }
      },
      "source": [
        "int_series.head(n=3)"
      ],
      "execution_count": 80,
      "outputs": [
        {
          "output_type": "execute_result",
          "data": {
            "text/plain": [
              "0    0\n",
              "1    1\n",
              "2    2\n",
              "dtype: int64"
            ]
          },
          "metadata": {
            "tags": []
          },
          "execution_count": 80
        }
      ]
    },
    {
      "cell_type": "code",
      "metadata": {
        "id": "gtEU4qLBCrJF",
        "colab_type": "code",
        "outputId": "c28884c5-3d09-4508-afa0-1e4bf829795f",
        "colab": {
          "base_uri": "https://localhost:8080/",
          "height": 0
        }
      },
      "source": [
        "int_series.tail(n=7)"
      ],
      "execution_count": 81,
      "outputs": [
        {
          "output_type": "execute_result",
          "data": {
            "text/plain": [
              "53    53\n",
              "54    54\n",
              "55    55\n",
              "56    56\n",
              "57    57\n",
              "58    58\n",
              "59    59\n",
              "dtype: int64"
            ]
          },
          "metadata": {
            "tags": []
          },
          "execution_count": 81
        }
      ]
    },
    {
      "cell_type": "code",
      "metadata": {
        "id": "6KmAMuvwCxyV",
        "colab_type": "code",
        "outputId": "7e100af9-716c-478b-8562-57b62698472e",
        "colab": {
          "base_uri": "https://localhost:8080/",
          "height": 0
        }
      },
      "source": [
        "pd.Series(range(100))"
      ],
      "execution_count": 82,
      "outputs": [
        {
          "output_type": "execute_result",
          "data": {
            "text/plain": [
              "0      0\n",
              "1      1\n",
              "2      2\n",
              "3      3\n",
              "4      4\n",
              "      ..\n",
              "95    95\n",
              "96    96\n",
              "97    97\n",
              "98    98\n",
              "99    99\n",
              "Length: 100, dtype: int64"
            ]
          },
          "metadata": {
            "tags": []
          },
          "execution_count": 82
        }
      ]
    },
    {
      "cell_type": "code",
      "metadata": {
        "id": "qlQWXsg1C78R",
        "colab_type": "code",
        "colab": {}
      },
      "source": [
        "pd.options.display.min_rows = 40"
      ],
      "execution_count": 0,
      "outputs": []
    },
    {
      "cell_type": "markdown",
      "metadata": {
        "id": "lJnjUgvzDI2d",
        "colab_type": "text"
      },
      "source": [
        "#### Extracting By Index Position"
      ]
    },
    {
      "cell_type": "code",
      "metadata": {
        "id": "LzzPW-VaHsUj",
        "colab_type": "code",
        "colab": {}
      },
      "source": [
        "from string import ascii_lowercase"
      ],
      "execution_count": 0,
      "outputs": []
    },
    {
      "cell_type": "code",
      "metadata": {
        "id": "wPXnDyJLHsal",
        "colab_type": "code",
        "outputId": "a70eec5a-902e-444c-f78d-90ab833b3911",
        "colab": {
          "base_uri": "https://localhost:8080/",
          "height": 0
        }
      },
      "source": [
        "ascii_lowercase"
      ],
      "execution_count": 85,
      "outputs": [
        {
          "output_type": "execute_result",
          "data": {
            "text/plain": [
              "'abcdefghijklmnopqrstuvwxyz'"
            ]
          },
          "metadata": {
            "tags": []
          },
          "execution_count": 85
        }
      ]
    },
    {
      "cell_type": "code",
      "metadata": {
        "id": "NBzpGN2lHsek",
        "colab_type": "code",
        "outputId": "fb35afeb-86ab-4afb-c6cc-22b90dfd3aa1",
        "colab": {
          "base_uri": "https://localhost:8080/",
          "height": 0
        }
      },
      "source": [
        "pd.Series('Andy')"
      ],
      "execution_count": 86,
      "outputs": [
        {
          "output_type": "execute_result",
          "data": {
            "text/plain": [
              "0    Andy\n",
              "dtype: object"
            ]
          },
          "metadata": {
            "tags": []
          },
          "execution_count": 86
        }
      ]
    },
    {
      "cell_type": "code",
      "metadata": {
        "id": "n9LafznMHsle",
        "colab_type": "code",
        "outputId": "b8a36f8f-be5f-4983-83df-abcf7f68af69",
        "colab": {
          "base_uri": "https://localhost:8080/",
          "height": 0
        }
      },
      "source": [
        "pd.Series(ascii_lowercase)"
      ],
      "execution_count": 87,
      "outputs": [
        {
          "output_type": "execute_result",
          "data": {
            "text/plain": [
              "0    abcdefghijklmnopqrstuvwxyz\n",
              "dtype: object"
            ]
          },
          "metadata": {
            "tags": []
          },
          "execution_count": 87
        }
      ]
    },
    {
      "cell_type": "code",
      "metadata": {
        "id": "OvvynCvyHtDE",
        "colab_type": "code",
        "outputId": "b3321dba-ab9e-49ff-a6c7-a760b2665ec6",
        "colab": {
          "base_uri": "https://localhost:8080/",
          "height": 0
        }
      },
      "source": [
        "len(list(ascii_lowercase))"
      ],
      "execution_count": 88,
      "outputs": [
        {
          "output_type": "execute_result",
          "data": {
            "text/plain": [
              "26"
            ]
          },
          "metadata": {
            "tags": []
          },
          "execution_count": 88
        }
      ]
    },
    {
      "cell_type": "code",
      "metadata": {
        "id": "RbeV4fkiHtHP",
        "colab_type": "code",
        "colab": {}
      },
      "source": [
        "letters = list(ascii_lowercase)"
      ],
      "execution_count": 0,
      "outputs": []
    },
    {
      "cell_type": "code",
      "metadata": {
        "id": "opv56oFNIRut",
        "colab_type": "code",
        "colab": {}
      },
      "source": [
        "alphabet = pd.Series(data=letters)"
      ],
      "execution_count": 0,
      "outputs": []
    },
    {
      "cell_type": "code",
      "metadata": {
        "id": "R6_VF5CfIUR1",
        "colab_type": "code",
        "outputId": "43600310-c8af-4964-bd63-dd5809c48189",
        "colab": {
          "base_uri": "https://localhost:8080/",
          "height": 0
        }
      },
      "source": [
        "alphabet.head(6)"
      ],
      "execution_count": 91,
      "outputs": [
        {
          "output_type": "execute_result",
          "data": {
            "text/plain": [
              "0    a\n",
              "1    b\n",
              "2    c\n",
              "3    d\n",
              "4    e\n",
              "5    f\n",
              "dtype: object"
            ]
          },
          "metadata": {
            "tags": []
          },
          "execution_count": 91
        }
      ]
    },
    {
      "cell_type": "code",
      "metadata": {
        "id": "zv4i1iThIVh6",
        "colab_type": "code",
        "outputId": "28a96246-42a8-4b4b-cc2d-e347d7a3e338",
        "colab": {
          "base_uri": "https://localhost:8080/",
          "height": 0
        }
      },
      "source": [
        "alphabet.head(1)"
      ],
      "execution_count": 92,
      "outputs": [
        {
          "output_type": "execute_result",
          "data": {
            "text/plain": [
              "0    a\n",
              "dtype: object"
            ]
          },
          "metadata": {
            "tags": []
          },
          "execution_count": 92
        }
      ]
    },
    {
      "cell_type": "code",
      "metadata": {
        "id": "UYQxEBqXIbqf",
        "colab_type": "code",
        "outputId": "c45b9c0b-1dda-4bc9-cd01-2481168586b8",
        "colab": {
          "base_uri": "https://localhost:8080/",
          "height": 0
        }
      },
      "source": [
        "alphabet[1]"
      ],
      "execution_count": 93,
      "outputs": [
        {
          "output_type": "execute_result",
          "data": {
            "text/plain": [
              "'b'"
            ]
          },
          "metadata": {
            "tags": []
          },
          "execution_count": 93
        }
      ]
    },
    {
      "cell_type": "code",
      "metadata": {
        "id": "nEcO3gyYIpP8",
        "colab_type": "code",
        "outputId": "ae7055e8-704a-46ea-a92e-c7704dd486f6",
        "colab": {
          "base_uri": "https://localhost:8080/",
          "height": 0
        }
      },
      "source": [
        "alphabet[0]"
      ],
      "execution_count": 94,
      "outputs": [
        {
          "output_type": "execute_result",
          "data": {
            "text/plain": [
              "'a'"
            ]
          },
          "metadata": {
            "tags": []
          },
          "execution_count": 94
        }
      ]
    },
    {
      "cell_type": "code",
      "metadata": {
        "id": "Q8ZQflBIIyyE",
        "colab_type": "code",
        "colab": {}
      },
      "source": [
        "# 1. What is the first letter?\n",
        "# 2. What is the 11th letter?\n",
        "# 3. What are the first three letters?\n",
        "# 4. What are the sixth through tenth letters?\n",
        "# 5. What are the last six letters?"
      ],
      "execution_count": 0,
      "outputs": []
    },
    {
      "cell_type": "code",
      "metadata": {
        "id": "JXBG4dNiI2fQ",
        "colab_type": "code",
        "outputId": "acc0433f-17fa-4a59-9acd-2f65b87ed5fe",
        "colab": {
          "base_uri": "https://localhost:8080/",
          "height": 0
        }
      },
      "source": [
        "# 2\n",
        "alphabet[10]"
      ],
      "execution_count": 96,
      "outputs": [
        {
          "output_type": "execute_result",
          "data": {
            "text/plain": [
              "'k'"
            ]
          },
          "metadata": {
            "tags": []
          },
          "execution_count": 96
        }
      ]
    },
    {
      "cell_type": "code",
      "metadata": {
        "id": "uWaBB0sLI6Ga",
        "colab_type": "code",
        "outputId": "d9547ac1-edc2-4f94-d3c3-c106957d7aef",
        "colab": {
          "base_uri": "https://localhost:8080/",
          "height": 0
        }
      },
      "source": [
        "# 3\n",
        "alphabet[:3]"
      ],
      "execution_count": 97,
      "outputs": [
        {
          "output_type": "execute_result",
          "data": {
            "text/plain": [
              "0    a\n",
              "1    b\n",
              "2    c\n",
              "dtype: object"
            ]
          },
          "metadata": {
            "tags": []
          },
          "execution_count": 97
        }
      ]
    },
    {
      "cell_type": "code",
      "metadata": {
        "id": "E5o11jbII_kE",
        "colab_type": "code",
        "outputId": "e6110d98-29da-414e-ac60-6c8679b7ed8e",
        "colab": {
          "base_uri": "https://localhost:8080/",
          "height": 0
        }
      },
      "source": [
        "alphabet[0:4]"
      ],
      "execution_count": 98,
      "outputs": [
        {
          "output_type": "execute_result",
          "data": {
            "text/plain": [
              "0    a\n",
              "1    b\n",
              "2    c\n",
              "3    d\n",
              "dtype: object"
            ]
          },
          "metadata": {
            "tags": []
          },
          "execution_count": 98
        }
      ]
    },
    {
      "cell_type": "code",
      "metadata": {
        "id": "7_OyRs5EJFC6",
        "colab_type": "code",
        "outputId": "4fff4480-4240-45c6-b389-c18e2cb09afc",
        "colab": {
          "base_uri": "https://localhost:8080/",
          "height": 0
        }
      },
      "source": [
        "# 4\n",
        "alphabet[5:10]"
      ],
      "execution_count": 99,
      "outputs": [
        {
          "output_type": "execute_result",
          "data": {
            "text/plain": [
              "5    f\n",
              "6    g\n",
              "7    h\n",
              "8    i\n",
              "9    j\n",
              "dtype: object"
            ]
          },
          "metadata": {
            "tags": []
          },
          "execution_count": 99
        }
      ]
    },
    {
      "cell_type": "code",
      "metadata": {
        "id": "qEA7n7PFJRX1",
        "colab_type": "code",
        "outputId": "91dbbeb9-8a13-4289-c958-d9ac524da550",
        "colab": {
          "base_uri": "https://localhost:8080/",
          "height": 0
        }
      },
      "source": [
        "# 5\n",
        "alphabet[-6:]"
      ],
      "execution_count": 100,
      "outputs": [
        {
          "output_type": "execute_result",
          "data": {
            "text/plain": [
              "20    u\n",
              "21    v\n",
              "22    w\n",
              "23    x\n",
              "24    y\n",
              "25    z\n",
              "dtype: object"
            ]
          },
          "metadata": {
            "tags": []
          },
          "execution_count": 100
        }
      ]
    },
    {
      "cell_type": "markdown",
      "metadata": {
        "id": "ScqN2Xu2JW-1",
        "colab_type": "text"
      },
      "source": [
        "#### Accessing Elements By Label"
      ]
    },
    {
      "cell_type": "code",
      "metadata": {
        "id": "lvwHhKr7SO78",
        "colab_type": "code",
        "colab": {}
      },
      "source": [
        "from string import ascii_uppercase"
      ],
      "execution_count": 0,
      "outputs": []
    },
    {
      "cell_type": "code",
      "metadata": {
        "id": "u37Fhu3WSO1i",
        "colab_type": "code",
        "outputId": "fe83aae1-ae66-4d7e-db27-632d64dc8807",
        "colab": {
          "base_uri": "https://localhost:8080/",
          "height": 0
        }
      },
      "source": [
        "ascii_lowercase"
      ],
      "execution_count": 102,
      "outputs": [
        {
          "output_type": "execute_result",
          "data": {
            "text/plain": [
              "'abcdefghijklmnopqrstuvwxyz'"
            ]
          },
          "metadata": {
            "tags": []
          },
          "execution_count": 102
        }
      ]
    },
    {
      "cell_type": "code",
      "metadata": {
        "id": "O6ltyPZoRvMw",
        "colab_type": "code",
        "outputId": "19e812b2-a264-41ba-953b-9782dcc74d7e",
        "colab": {
          "base_uri": "https://localhost:8080/",
          "height": 0
        }
      },
      "source": [
        "ascii_uppercase"
      ],
      "execution_count": 103,
      "outputs": [
        {
          "output_type": "execute_result",
          "data": {
            "text/plain": [
              "'ABCDEFGHIJKLMNOPQRSTUVWXYZ'"
            ]
          },
          "metadata": {
            "tags": []
          },
          "execution_count": 103
        }
      ]
    },
    {
      "cell_type": "code",
      "metadata": {
        "id": "y9YaMJdcRvJP",
        "colab_type": "code",
        "colab": {}
      },
      "source": [
        "labeled_alphabet = pd.Series(data=list(ascii_lowercase), index=map(lambda x: 'label_' + x, list(ascii_uppercase)))"
      ],
      "execution_count": 0,
      "outputs": []
    },
    {
      "cell_type": "code",
      "metadata": {
        "id": "U09nakowRvFQ",
        "colab_type": "code",
        "outputId": "e016459a-29c9-490e-9f80-79896e05f79c",
        "colab": {
          "base_uri": "https://localhost:8080/",
          "height": 0
        }
      },
      "source": [
        "labeled_alphabet.head(3)"
      ],
      "execution_count": 105,
      "outputs": [
        {
          "output_type": "execute_result",
          "data": {
            "text/plain": [
              "label_A    a\n",
              "label_B    b\n",
              "label_C    c\n",
              "dtype: object"
            ]
          },
          "metadata": {
            "tags": []
          },
          "execution_count": 105
        }
      ]
    },
    {
      "cell_type": "code",
      "metadata": {
        "id": "7WM132ULKkzn",
        "colab_type": "code",
        "colab": {}
      },
      "source": [
        "# 1. What is the first letter?\n",
        "# 2. What is the 11th letter?\n",
        "# 3. What are the first three letters?\n",
        "# 4. What are the sixth through tenth letters?\n",
        "# 5. What are the last six letters?"
      ],
      "execution_count": 0,
      "outputs": []
    },
    {
      "cell_type": "code",
      "metadata": {
        "id": "uWU4NPXEKlLE",
        "colab_type": "code",
        "outputId": "806617f0-fe91-481c-b6d0-9f190ab08381",
        "colab": {
          "base_uri": "https://localhost:8080/",
          "height": 0
        }
      },
      "source": [
        "# 1\n",
        "labeled_alphabet[0]"
      ],
      "execution_count": 107,
      "outputs": [
        {
          "output_type": "execute_result",
          "data": {
            "text/plain": [
              "'a'"
            ]
          },
          "metadata": {
            "tags": []
          },
          "execution_count": 107
        }
      ]
    },
    {
      "cell_type": "code",
      "metadata": {
        "id": "yj5mFywvS8ql",
        "colab_type": "code",
        "outputId": "39403232-00c6-4540-d322-db940b808fac",
        "colab": {
          "base_uri": "https://localhost:8080/",
          "height": 0
        }
      },
      "source": [
        "labeled_alphabet['label_A']"
      ],
      "execution_count": 108,
      "outputs": [
        {
          "output_type": "execute_result",
          "data": {
            "text/plain": [
              "'a'"
            ]
          },
          "metadata": {
            "tags": []
          },
          "execution_count": 108
        }
      ]
    },
    {
      "cell_type": "code",
      "metadata": {
        "id": "czI48bCJTBI7",
        "colab_type": "code",
        "outputId": "75e741dd-99e1-43da-9085-4eddc72c4000",
        "colab": {
          "base_uri": "https://localhost:8080/",
          "height": 0
        }
      },
      "source": [
        "# 2\n",
        "labeled_alphabet[10]"
      ],
      "execution_count": 109,
      "outputs": [
        {
          "output_type": "execute_result",
          "data": {
            "text/plain": [
              "'k'"
            ]
          },
          "metadata": {
            "tags": []
          },
          "execution_count": 109
        }
      ]
    },
    {
      "cell_type": "code",
      "metadata": {
        "id": "S8T2smZbTJg1",
        "colab_type": "code",
        "outputId": "ddc432b5-bbbf-484c-ab58-992a2e49c0e5",
        "colab": {
          "base_uri": "https://localhost:8080/",
          "height": 0
        }
      },
      "source": [
        "labeled_alphabet['label_K']"
      ],
      "execution_count": 110,
      "outputs": [
        {
          "output_type": "execute_result",
          "data": {
            "text/plain": [
              "'k'"
            ]
          },
          "metadata": {
            "tags": []
          },
          "execution_count": 110
        }
      ]
    },
    {
      "cell_type": "code",
      "metadata": {
        "id": "k9oaoVzPTMRK",
        "colab_type": "code",
        "outputId": "d043894e-7822-4bf3-a75e-a04fc936c166",
        "colab": {
          "base_uri": "https://localhost:8080/",
          "height": 0
        }
      },
      "source": [
        "# 3\n",
        "labeled_alphabet[0:3]"
      ],
      "execution_count": 111,
      "outputs": [
        {
          "output_type": "execute_result",
          "data": {
            "text/plain": [
              "label_A    a\n",
              "label_B    b\n",
              "label_C    c\n",
              "dtype: object"
            ]
          },
          "metadata": {
            "tags": []
          },
          "execution_count": 111
        }
      ]
    },
    {
      "cell_type": "code",
      "metadata": {
        "id": "koMz7O-6TPV3",
        "colab_type": "code",
        "outputId": "2f34e3dd-7a90-44ed-9711-3fa23fde3658",
        "colab": {
          "base_uri": "https://localhost:8080/",
          "height": 0
        }
      },
      "source": [
        "labeled_alphabet[:'label_C']"
      ],
      "execution_count": 112,
      "outputs": [
        {
          "output_type": "execute_result",
          "data": {
            "text/plain": [
              "label_A    a\n",
              "label_B    b\n",
              "label_C    c\n",
              "dtype: object"
            ]
          },
          "metadata": {
            "tags": []
          },
          "execution_count": 112
        }
      ]
    },
    {
      "cell_type": "code",
      "metadata": {
        "id": "A-8nBTXFTR4M",
        "colab_type": "code",
        "outputId": "e6d7ca4e-1695-4855-cd07-9550081ddc2a",
        "colab": {
          "base_uri": "https://localhost:8080/",
          "height": 0
        }
      },
      "source": [
        "# 4\n",
        "labeled_alphabet[5:10]"
      ],
      "execution_count": 113,
      "outputs": [
        {
          "output_type": "execute_result",
          "data": {
            "text/plain": [
              "label_F    f\n",
              "label_G    g\n",
              "label_H    h\n",
              "label_I    i\n",
              "label_J    j\n",
              "dtype: object"
            ]
          },
          "metadata": {
            "tags": []
          },
          "execution_count": 113
        }
      ]
    },
    {
      "cell_type": "code",
      "metadata": {
        "id": "SVIhRz9wTfVs",
        "colab_type": "code",
        "outputId": "5228c198-5e8e-477a-eda2-eb4c29e683a9",
        "colab": {
          "base_uri": "https://localhost:8080/",
          "height": 0
        }
      },
      "source": [
        "labeled_alphabet['label_F':'label_J']"
      ],
      "execution_count": 114,
      "outputs": [
        {
          "output_type": "execute_result",
          "data": {
            "text/plain": [
              "label_F    f\n",
              "label_G    g\n",
              "label_H    h\n",
              "label_I    i\n",
              "label_J    j\n",
              "dtype: object"
            ]
          },
          "metadata": {
            "tags": []
          },
          "execution_count": 114
        }
      ]
    },
    {
      "cell_type": "code",
      "metadata": {
        "id": "GXz7P3YMTjGx",
        "colab_type": "code",
        "outputId": "cd1949d3-7671-4ddb-a801-ffc992aaa58d",
        "colab": {
          "base_uri": "https://localhost:8080/",
          "height": 0
        }
      },
      "source": [
        "# 6\n",
        "labeled_alphabet[-6:]"
      ],
      "execution_count": 115,
      "outputs": [
        {
          "output_type": "execute_result",
          "data": {
            "text/plain": [
              "label_U    u\n",
              "label_V    v\n",
              "label_W    w\n",
              "label_X    x\n",
              "label_Y    y\n",
              "label_Z    z\n",
              "dtype: object"
            ]
          },
          "metadata": {
            "tags": []
          },
          "execution_count": 115
        }
      ]
    },
    {
      "cell_type": "code",
      "metadata": {
        "id": "ZLG3gs3qTqop",
        "colab_type": "code",
        "outputId": "ad66f1e7-6c13-4142-e5b9-27bcb1c78c21",
        "colab": {
          "base_uri": "https://localhost:8080/",
          "height": 0
        }
      },
      "source": [
        "labeled_alphabet['label_U':]"
      ],
      "execution_count": 116,
      "outputs": [
        {
          "output_type": "execute_result",
          "data": {
            "text/plain": [
              "label_U    u\n",
              "label_V    v\n",
              "label_W    w\n",
              "label_X    x\n",
              "label_Y    y\n",
              "label_Z    z\n",
              "dtype: object"
            ]
          },
          "metadata": {
            "tags": []
          },
          "execution_count": 116
        }
      ]
    },
    {
      "cell_type": "markdown",
      "metadata": {
        "id": "0G0aK8S1Tu2_",
        "colab_type": "text"
      },
      "source": [
        "#### BONUS - The add_prefix() And add_suffix() Methods"
      ]
    },
    {
      "cell_type": "code",
      "metadata": {
        "id": "rgZWr-Q5Ch9_",
        "colab_type": "code",
        "outputId": "9789ee07-3800-4771-ca3d-1fcbb24a7d07",
        "colab": {
          "base_uri": "https://localhost:8080/",
          "height": 0
        }
      },
      "source": [
        "alphabet.head()"
      ],
      "execution_count": 117,
      "outputs": [
        {
          "output_type": "execute_result",
          "data": {
            "text/plain": [
              "0    a\n",
              "1    b\n",
              "2    c\n",
              "3    d\n",
              "4    e\n",
              "dtype: object"
            ]
          },
          "metadata": {
            "tags": []
          },
          "execution_count": 117
        }
      ]
    },
    {
      "cell_type": "code",
      "metadata": {
        "id": "K3F4WkSzCh6f",
        "colab_type": "code",
        "outputId": "70f9c908-d779-45fb-e434-c52fcd2f87d2",
        "colab": {
          "base_uri": "https://localhost:8080/",
          "height": 0
        }
      },
      "source": [
        "alphabet.add_prefix('label_')"
      ],
      "execution_count": 118,
      "outputs": [
        {
          "output_type": "execute_result",
          "data": {
            "text/plain": [
              "label_0     a\n",
              "label_1     b\n",
              "label_2     c\n",
              "label_3     d\n",
              "label_4     e\n",
              "label_5     f\n",
              "label_6     g\n",
              "label_7     h\n",
              "label_8     i\n",
              "label_9     j\n",
              "label_10    k\n",
              "label_11    l\n",
              "label_12    m\n",
              "label_13    n\n",
              "label_14    o\n",
              "label_15    p\n",
              "label_16    q\n",
              "label_17    r\n",
              "label_18    s\n",
              "label_19    t\n",
              "label_20    u\n",
              "label_21    v\n",
              "label_22    w\n",
              "label_23    x\n",
              "label_24    y\n",
              "label_25    z\n",
              "dtype: object"
            ]
          },
          "metadata": {
            "tags": []
          },
          "execution_count": 118
        }
      ]
    },
    {
      "cell_type": "code",
      "metadata": {
        "id": "etlReZUiCh06",
        "colab_type": "code",
        "colab": {}
      },
      "source": [
        "alphabet = alphabet.add_suffix('_some_cool_ending')"
      ],
      "execution_count": 0,
      "outputs": []
    },
    {
      "cell_type": "code",
      "metadata": {
        "id": "8C8A96gjCht3",
        "colab_type": "code",
        "outputId": "6b89b0b8-4945-4bdc-8056-e2ca30bef53a",
        "colab": {
          "base_uri": "https://localhost:8080/",
          "height": 0
        }
      },
      "source": [
        "alphabet.head()"
      ],
      "execution_count": 120,
      "outputs": [
        {
          "output_type": "execute_result",
          "data": {
            "text/plain": [
              "0_some_cool_ending    a\n",
              "1_some_cool_ending    b\n",
              "2_some_cool_ending    c\n",
              "3_some_cool_ending    d\n",
              "4_some_cool_ending    e\n",
              "dtype: object"
            ]
          },
          "metadata": {
            "tags": []
          },
          "execution_count": 120
        }
      ]
    },
    {
      "cell_type": "markdown",
      "metadata": {
        "id": "FDiYVGdvB6CL",
        "colab_type": "text"
      },
      "source": [
        "#### Using Dot Notation"
      ]
    },
    {
      "cell_type": "code",
      "metadata": {
        "id": "_pFWUyPFIxHd",
        "colab_type": "code",
        "outputId": "793f74e8-e4b0-4180-819e-9adedd751336",
        "colab": {
          "base_uri": "https://localhost:8080/",
          "height": 0
        }
      },
      "source": [
        "labeled_alphabet['label_V']"
      ],
      "execution_count": 121,
      "outputs": [
        {
          "output_type": "execute_result",
          "data": {
            "text/plain": [
              "'v'"
            ]
          },
          "metadata": {
            "tags": []
          },
          "execution_count": 121
        }
      ]
    },
    {
      "cell_type": "code",
      "metadata": {
        "id": "HpjejGAVIdGm",
        "colab_type": "code",
        "outputId": "bc0938a9-aef2-4a30-e1d6-b5e52558a79e",
        "colab": {
          "base_uri": "https://localhost:8080/",
          "height": 0
        }
      },
      "source": [
        "labeled_alphabet.label_V"
      ],
      "execution_count": 122,
      "outputs": [
        {
          "output_type": "execute_result",
          "data": {
            "text/plain": [
              "'v'"
            ]
          },
          "metadata": {
            "tags": []
          },
          "execution_count": 122
        }
      ]
    },
    {
      "cell_type": "code",
      "metadata": {
        "id": "Sv2Zb7pFIdDU",
        "colab_type": "code",
        "outputId": "776346ef-7a09-4a89-cc3e-17330c94f7a2",
        "colab": {
          "base_uri": "https://localhost:8080/",
          "height": 0
        }
      },
      "source": [
        "labeled_alphabet['label_V':'label_X']"
      ],
      "execution_count": 123,
      "outputs": [
        {
          "output_type": "execute_result",
          "data": {
            "text/plain": [
              "label_V    v\n",
              "label_W    w\n",
              "label_X    x\n",
              "dtype: object"
            ]
          },
          "metadata": {
            "tags": []
          },
          "execution_count": 123
        }
      ]
    },
    {
      "cell_type": "code",
      "metadata": {
        "id": "otFfT5nIIc_L",
        "colab_type": "code",
        "colab": {}
      },
      "source": [
        "# labeled_alphabet.label_V:label_X"
      ],
      "execution_count": 0,
      "outputs": []
    },
    {
      "cell_type": "code",
      "metadata": {
        "id": "4BSyh5xcIc7K",
        "colab_type": "code",
        "colab": {}
      },
      "source": [
        "# labeled_alphabet.label!V12490()morelabel"
      ],
      "execution_count": 0,
      "outputs": []
    },
    {
      "cell_type": "markdown",
      "metadata": {
        "id": "tV2cSV8jGqHf",
        "colab_type": "text"
      },
      "source": [
        "#### Boolean Masks And The .loc Indexer"
      ]
    },
    {
      "cell_type": "code",
      "metadata": {
        "id": "82-2c5I5WdFz",
        "colab_type": "code",
        "outputId": "64dc0a87-e31f-4f6e-d129-4e601b6fc838",
        "colab": {
          "base_uri": "https://localhost:8080/",
          "height": 0
        }
      },
      "source": [
        "labeled_alphabet['label_F':'label_J']"
      ],
      "execution_count": 126,
      "outputs": [
        {
          "output_type": "execute_result",
          "data": {
            "text/plain": [
              "label_F    f\n",
              "label_G    g\n",
              "label_H    h\n",
              "label_I    i\n",
              "label_J    j\n",
              "dtype: object"
            ]
          },
          "metadata": {
            "tags": []
          },
          "execution_count": 126
        }
      ]
    },
    {
      "cell_type": "code",
      "metadata": {
        "id": "ERrsv2-XWc59",
        "colab_type": "code",
        "colab": {}
      },
      "source": [
        "# loc"
      ],
      "execution_count": 0,
      "outputs": []
    },
    {
      "cell_type": "code",
      "metadata": {
        "id": "O6V2XyygWc0a",
        "colab_type": "code",
        "outputId": "21391ea0-9802-42ab-eaf5-b51469a8ea7b",
        "colab": {
          "base_uri": "https://localhost:8080/",
          "height": 0
        }
      },
      "source": [
        "labeled_alphabet.loc['label_F':'label_J']"
      ],
      "execution_count": 128,
      "outputs": [
        {
          "output_type": "execute_result",
          "data": {
            "text/plain": [
              "label_F    f\n",
              "label_G    g\n",
              "label_H    h\n",
              "label_I    i\n",
              "label_J    j\n",
              "dtype: object"
            ]
          },
          "metadata": {
            "tags": []
          },
          "execution_count": 128
        }
      ]
    },
    {
      "cell_type": "code",
      "metadata": {
        "id": "q0Hp8ePjV7xn",
        "colab_type": "code",
        "colab": {}
      },
      "source": [
        "# boolean"
      ],
      "execution_count": 0,
      "outputs": []
    },
    {
      "cell_type": "code",
      "metadata": {
        "id": "ADvKNUB0V7s3",
        "colab_type": "code",
        "outputId": "c7c00fbb-ca09-44bd-8ca4-61a2bcd99032",
        "colab": {
          "base_uri": "https://localhost:8080/",
          "height": 0
        }
      },
      "source": [
        "books_series"
      ],
      "execution_count": 130,
      "outputs": [
        {
          "output_type": "execute_result",
          "data": {
            "text/plain": [
              "My books\n",
              "0    Fooled by Randomness\n",
              "1                 Sapiens\n",
              "2      Lenin on the Train\n",
              "Name: my favorite books, dtype: object"
            ]
          },
          "metadata": {
            "tags": []
          },
          "execution_count": 130
        }
      ]
    },
    {
      "cell_type": "code",
      "metadata": {
        "id": "sKLhqK01V7ni",
        "colab_type": "code",
        "outputId": "19877a53-6052-4376-e42e-beea3bcbce19",
        "colab": {
          "base_uri": "https://localhost:8080/",
          "height": 0
        }
      },
      "source": [
        "books_series.loc[[True, True, True]]"
      ],
      "execution_count": 131,
      "outputs": [
        {
          "output_type": "execute_result",
          "data": {
            "text/plain": [
              "My books\n",
              "0    Fooled by Randomness\n",
              "1                 Sapiens\n",
              "2      Lenin on the Train\n",
              "Name: my favorite books, dtype: object"
            ]
          },
          "metadata": {
            "tags": []
          },
          "execution_count": 131
        }
      ]
    },
    {
      "cell_type": "code",
      "metadata": {
        "id": "HZyf_lbLV6yW",
        "colab_type": "code",
        "colab": {}
      },
      "source": [
        "# books_series.loc[[True, False]]"
      ],
      "execution_count": 0,
      "outputs": []
    },
    {
      "cell_type": "code",
      "metadata": {
        "id": "L1RE39dQXRAZ",
        "colab_type": "code",
        "outputId": "be59243d-492b-4033-999a-11740cb0994f",
        "colab": {
          "base_uri": "https://localhost:8080/",
          "height": 0
        }
      },
      "source": [
        "labeled_alphabet.size"
      ],
      "execution_count": 133,
      "outputs": [
        {
          "output_type": "execute_result",
          "data": {
            "text/plain": [
              "26"
            ]
          },
          "metadata": {
            "tags": []
          },
          "execution_count": 133
        }
      ]
    },
    {
      "cell_type": "code",
      "metadata": {
        "id": "OyKUlRruXjL-",
        "colab_type": "code",
        "colab": {}
      },
      "source": [
        "# labeled_alphabet.loc[[True, False, True]]"
      ],
      "execution_count": 0,
      "outputs": []
    },
    {
      "cell_type": "code",
      "metadata": {
        "id": "1FZkesRgXpQj",
        "colab_type": "code",
        "outputId": "904b8e51-a872-450f-b5a4-fca26007367b",
        "colab": {
          "base_uri": "https://localhost:8080/",
          "height": 0
        }
      },
      "source": [
        "labeled_alphabet.loc[[True for i in range(26)]]"
      ],
      "execution_count": 135,
      "outputs": [
        {
          "output_type": "execute_result",
          "data": {
            "text/plain": [
              "label_A    a\n",
              "label_B    b\n",
              "label_C    c\n",
              "label_D    d\n",
              "label_E    e\n",
              "label_F    f\n",
              "label_G    g\n",
              "label_H    h\n",
              "label_I    i\n",
              "label_J    j\n",
              "label_K    k\n",
              "label_L    l\n",
              "label_M    m\n",
              "label_N    n\n",
              "label_O    o\n",
              "label_P    p\n",
              "label_Q    q\n",
              "label_R    r\n",
              "label_S    s\n",
              "label_T    t\n",
              "label_U    u\n",
              "label_V    v\n",
              "label_W    w\n",
              "label_X    x\n",
              "label_Y    y\n",
              "label_Z    z\n",
              "dtype: object"
            ]
          },
          "metadata": {
            "tags": []
          },
          "execution_count": 135
        }
      ]
    },
    {
      "cell_type": "code",
      "metadata": {
        "id": "MtIfCNk7Xuh4",
        "colab_type": "code",
        "outputId": "9b80625a-8f12-4bd5-d706-cfecc809ce45",
        "colab": {
          "base_uri": "https://localhost:8080/",
          "height": 0
        }
      },
      "source": [
        "labeled_alphabet.loc[[True if i%2==0 else False for i in range(26)]]"
      ],
      "execution_count": 136,
      "outputs": [
        {
          "output_type": "execute_result",
          "data": {
            "text/plain": [
              "label_A    a\n",
              "label_C    c\n",
              "label_E    e\n",
              "label_G    g\n",
              "label_I    i\n",
              "label_K    k\n",
              "label_M    m\n",
              "label_O    o\n",
              "label_Q    q\n",
              "label_S    s\n",
              "label_U    u\n",
              "label_W    w\n",
              "label_Y    y\n",
              "dtype: object"
            ]
          },
          "metadata": {
            "tags": []
          },
          "execution_count": 136
        }
      ]
    },
    {
      "cell_type": "markdown",
      "metadata": {
        "id": "OqBI-N68X6Py",
        "colab_type": "text"
      },
      "source": [
        "#### Extracting By Position With .iloc"
      ]
    },
    {
      "cell_type": "code",
      "metadata": {
        "id": "QAXnWX77dH73",
        "colab_type": "code",
        "colab": {}
      },
      "source": [
        "# iloc => integer loc => indexing by position\n",
        "# loc => location => indexing by label"
      ],
      "execution_count": 0,
      "outputs": []
    },
    {
      "cell_type": "code",
      "metadata": {
        "id": "nJqBg1kSdGru",
        "colab_type": "code",
        "outputId": "1c92f8fe-4cc2-4d8b-9e86-7909b5dbfbfd",
        "colab": {
          "base_uri": "https://localhost:8080/",
          "height": 0
        }
      },
      "source": [
        "labeled_alphabet.iloc[0]"
      ],
      "execution_count": 138,
      "outputs": [
        {
          "output_type": "execute_result",
          "data": {
            "text/plain": [
              "'a'"
            ]
          },
          "metadata": {
            "tags": []
          },
          "execution_count": 138
        }
      ]
    },
    {
      "cell_type": "code",
      "metadata": {
        "id": "RX5wpQ-WdGlw",
        "colab_type": "code",
        "outputId": "3a711404-f1ba-42b3-cfc4-1caf5f56762a",
        "colab": {
          "base_uri": "https://localhost:8080/",
          "height": 0
        }
      },
      "source": [
        "labeled_alphabet.iloc[1]"
      ],
      "execution_count": 139,
      "outputs": [
        {
          "output_type": "execute_result",
          "data": {
            "text/plain": [
              "'b'"
            ]
          },
          "metadata": {
            "tags": []
          },
          "execution_count": 139
        }
      ]
    },
    {
      "cell_type": "code",
      "metadata": {
        "id": "7XBG-7PNdD0p",
        "colab_type": "code",
        "outputId": "ebb65c4f-0d98-4c71-cc00-3f60583e3b09",
        "colab": {
          "base_uri": "https://localhost:8080/",
          "height": 0
        }
      },
      "source": [
        "labeled_alphabet.iloc[1:3]"
      ],
      "execution_count": 140,
      "outputs": [
        {
          "output_type": "execute_result",
          "data": {
            "text/plain": [
              "label_B    b\n",
              "label_C    c\n",
              "dtype: object"
            ]
          },
          "metadata": {
            "tags": []
          },
          "execution_count": 140
        }
      ]
    },
    {
      "cell_type": "code",
      "metadata": {
        "id": "TK-Ez2pyd6WM",
        "colab_type": "code",
        "colab": {}
      },
      "source": [
        "# akin: similar to"
      ],
      "execution_count": 0,
      "outputs": []
    },
    {
      "cell_type": "code",
      "metadata": {
        "id": "AbFwV6D-dD8t",
        "colab_type": "code",
        "colab": {}
      },
      "source": [
        "# labeled_alphabet.iloc[[1,4,9], [2, 3, 6]]"
      ],
      "execution_count": 0,
      "outputs": []
    },
    {
      "cell_type": "markdown",
      "metadata": {
        "id": "zYdv1N9wejLJ",
        "colab_type": "text"
      },
      "source": [
        "#### BONUS - Using Callables With .loc And .iloc"
      ]
    },
    {
      "cell_type": "code",
      "metadata": {
        "id": "kr9Mfz3tthe0",
        "colab_type": "code",
        "outputId": "9053860e-1fca-4441-f05e-aa6182aec2f3",
        "colab": {
          "base_uri": "https://localhost:8080/",
          "height": 0
        }
      },
      "source": [
        "labeled_alphabet.loc['label_V']"
      ],
      "execution_count": 143,
      "outputs": [
        {
          "output_type": "execute_result",
          "data": {
            "text/plain": [
              "'v'"
            ]
          },
          "metadata": {
            "tags": []
          },
          "execution_count": 143
        }
      ]
    },
    {
      "cell_type": "code",
      "metadata": {
        "id": "yUT-yWcGthZr",
        "colab_type": "code",
        "outputId": "c8c966d1-b89e-45c1-ec1e-b4984145442e",
        "colab": {
          "base_uri": "https://localhost:8080/",
          "height": 0
        }
      },
      "source": [
        "labeled_alphabet.loc[lambda x: 'label_V']"
      ],
      "execution_count": 144,
      "outputs": [
        {
          "output_type": "execute_result",
          "data": {
            "text/plain": [
              "'v'"
            ]
          },
          "metadata": {
            "tags": []
          },
          "execution_count": 144
        }
      ]
    },
    {
      "cell_type": "code",
      "metadata": {
        "id": "YKX5Sl0Dtg-v",
        "colab_type": "code",
        "outputId": "3762d265-7fc6-49b0-974b-e559f7c6200e",
        "colab": {
          "base_uri": "https://localhost:8080/",
          "height": 0
        }
      },
      "source": [
        "labeled_alphabet.loc[lambda x: ['label_V', 'label_A']]"
      ],
      "execution_count": 145,
      "outputs": [
        {
          "output_type": "execute_result",
          "data": {
            "text/plain": [
              "label_V    v\n",
              "label_A    a\n",
              "dtype: object"
            ]
          },
          "metadata": {
            "tags": []
          },
          "execution_count": 145
        }
      ]
    },
    {
      "cell_type": "code",
      "metadata": {
        "id": "b_KAqvaFtg3g",
        "colab_type": "code",
        "colab": {}
      },
      "source": [
        "# labeled_alphabet.loc[lambda x: [True, False]]"
      ],
      "execution_count": 0,
      "outputs": []
    },
    {
      "cell_type": "code",
      "metadata": {
        "id": "57T6lTuhnMac",
        "colab_type": "code",
        "outputId": "6d3cd01e-b10b-444f-b979-11a7812e7d8c",
        "colab": {
          "base_uri": "https://localhost:8080/",
          "height": 0
        }
      },
      "source": [
        "labeled_alphabet.loc[lambda x: [True for i in range(x.size)]]"
      ],
      "execution_count": 147,
      "outputs": [
        {
          "output_type": "execute_result",
          "data": {
            "text/plain": [
              "label_A    a\n",
              "label_B    b\n",
              "label_C    c\n",
              "label_D    d\n",
              "label_E    e\n",
              "label_F    f\n",
              "label_G    g\n",
              "label_H    h\n",
              "label_I    i\n",
              "label_J    j\n",
              "label_K    k\n",
              "label_L    l\n",
              "label_M    m\n",
              "label_N    n\n",
              "label_O    o\n",
              "label_P    p\n",
              "label_Q    q\n",
              "label_R    r\n",
              "label_S    s\n",
              "label_T    t\n",
              "label_U    u\n",
              "label_V    v\n",
              "label_W    w\n",
              "label_X    x\n",
              "label_Y    y\n",
              "label_Z    z\n",
              "dtype: object"
            ]
          },
          "metadata": {
            "tags": []
          },
          "execution_count": 147
        }
      ]
    },
    {
      "cell_type": "code",
      "metadata": {
        "id": "ry1-gbo7n13n",
        "colab_type": "code",
        "colab": {}
      },
      "source": [
        "def every_fifth(x):\n",
        "  return [True if (i+1)%5==0 else False for i in range(x.size)]"
      ],
      "execution_count": 0,
      "outputs": []
    },
    {
      "cell_type": "code",
      "metadata": {
        "id": "4XadJmQzvllB",
        "colab_type": "code",
        "outputId": "c13d17c2-7ea1-41e8-d722-a62c9e63fe31",
        "colab": {
          "base_uri": "https://localhost:8080/",
          "height": 0
        }
      },
      "source": [
        "labeled_alphabet.iloc[every_fifth]"
      ],
      "execution_count": 149,
      "outputs": [
        {
          "output_type": "execute_result",
          "data": {
            "text/plain": [
              "label_E    e\n",
              "label_J    j\n",
              "label_O    o\n",
              "label_T    t\n",
              "label_Y    y\n",
              "dtype: object"
            ]
          },
          "metadata": {
            "tags": []
          },
          "execution_count": 149
        }
      ]
    },
    {
      "cell_type": "markdown",
      "metadata": {
        "id": "8tu-WbXyvpCE",
        "colab_type": "text"
      },
      "source": [
        "#### Selecting With .get()"
      ]
    },
    {
      "cell_type": "code",
      "metadata": {
        "id": "mPqN1OtLuOSK",
        "colab_type": "code",
        "colab": {
          "base_uri": "https://localhost:8080/",
          "height": 0
        },
        "outputId": "a1fb388c-7a96-4ac9-8809-875b5134804f"
      },
      "source": [
        "labeled_alphabet.get('label_I')"
      ],
      "execution_count": 150,
      "outputs": [
        {
          "output_type": "execute_result",
          "data": {
            "text/plain": [
              "'i'"
            ]
          },
          "metadata": {
            "tags": []
          },
          "execution_count": 150
        }
      ]
    },
    {
      "cell_type": "code",
      "metadata": {
        "id": "SUVyeK9huOcH",
        "colab_type": "code",
        "colab": {
          "base_uri": "https://localhost:8080/",
          "height": 0
        },
        "outputId": "6e446a88-7f2c-407e-9b41-80ad92e1e77c"
      },
      "source": [
        "labeled_alphabet.loc['label_I']"
      ],
      "execution_count": 151,
      "outputs": [
        {
          "output_type": "execute_result",
          "data": {
            "text/plain": [
              "'i'"
            ]
          },
          "metadata": {
            "tags": []
          },
          "execution_count": 151
        }
      ]
    },
    {
      "cell_type": "code",
      "metadata": {
        "id": "HdcJJfcfuOj5",
        "colab_type": "code",
        "colab": {
          "base_uri": "https://localhost:8080/",
          "height": 0
        },
        "outputId": "50e816c6-4e87-4350-ca64-786073ee8aed"
      },
      "source": [
        "labeled_alphabet['label_I']"
      ],
      "execution_count": 152,
      "outputs": [
        {
          "output_type": "execute_result",
          "data": {
            "text/plain": [
              "'i'"
            ]
          },
          "metadata": {
            "tags": []
          },
          "execution_count": 152
        }
      ]
    },
    {
      "cell_type": "code",
      "metadata": {
        "id": "U0Wta_3xuPEi",
        "colab_type": "code",
        "colab": {
          "base_uri": "https://localhost:8080/",
          "height": 0
        },
        "outputId": "0466036f-5d1e-4a8e-808b-3bbf556850d2"
      },
      "source": [
        "labeled_alphabet.get('label_Inexistent') == None"
      ],
      "execution_count": 153,
      "outputs": [
        {
          "output_type": "execute_result",
          "data": {
            "text/plain": [
              "True"
            ]
          },
          "metadata": {
            "tags": []
          },
          "execution_count": 153
        }
      ]
    },
    {
      "cell_type": "code",
      "metadata": {
        "id": "gZ8fZYamuPKf",
        "colab_type": "code",
        "colab": {}
      },
      "source": [
        "labeled_alphabet.get('label_Inexistent', default=None)"
      ],
      "execution_count": 0,
      "outputs": []
    },
    {
      "cell_type": "code",
      "metadata": {
        "id": "caDTeOAluPkj",
        "colab_type": "code",
        "colab": {
          "base_uri": "https://localhost:8080/",
          "height": 0
        },
        "outputId": "5b8252f5-f1e9-483e-e973-123a000894e4"
      },
      "source": [
        "labeled_alphabet.get('label_Inexistent', default='Could not find anything by that label, sorry.')"
      ],
      "execution_count": 155,
      "outputs": [
        {
          "output_type": "execute_result",
          "data": {
            "text/plain": [
              "'Could not find anything by that label, sorry.'"
            ]
          },
          "metadata": {
            "tags": []
          },
          "execution_count": 155
        }
      ]
    },
    {
      "cell_type": "code",
      "metadata": {
        "id": "ctMO5LUUuywJ",
        "colab_type": "code",
        "colab": {
          "base_uri": "https://localhost:8080/",
          "height": 0
        },
        "outputId": "a9a74e43-dab1-4fa4-f43d-13ae162f441c"
      },
      "source": [
        "labeled_alphabet.get('label_Inexistent', default=19)"
      ],
      "execution_count": 156,
      "outputs": [
        {
          "output_type": "execute_result",
          "data": {
            "text/plain": [
              "19"
            ]
          },
          "metadata": {
            "tags": []
          },
          "execution_count": 156
        }
      ]
    },
    {
      "cell_type": "code",
      "metadata": {
        "id": "PDP19R9Xu3V0",
        "colab_type": "code",
        "colab": {
          "base_uri": "https://localhost:8080/",
          "height": 0
        },
        "outputId": "837a1732-4143-4192-f28d-dea3cc5059f3"
      },
      "source": [
        "labeled_alphabet.get('label_Inexistent', default={19: '20'})"
      ],
      "execution_count": 157,
      "outputs": [
        {
          "output_type": "execute_result",
          "data": {
            "text/plain": [
              "{19: '20'}"
            ]
          },
          "metadata": {
            "tags": []
          },
          "execution_count": 157
        }
      ]
    },
    {
      "cell_type": "code",
      "metadata": {
        "id": "qF0BJ752u6CT",
        "colab_type": "code",
        "colab": {}
      },
      "source": [
        "# labeled_alphabet['label_Inexistent']"
      ],
      "execution_count": 0,
      "outputs": []
    },
    {
      "cell_type": "code",
      "metadata": {
        "id": "SKXb5A-lvCSg",
        "colab_type": "code",
        "colab": {
          "base_uri": "https://localhost:8080/",
          "height": 0
        },
        "outputId": "1b408276-3bf1-41ca-90b4-16df050cfdeb"
      },
      "source": [
        "labeled_alphabet.get(8)"
      ],
      "execution_count": 159,
      "outputs": [
        {
          "output_type": "execute_result",
          "data": {
            "text/plain": [
              "'i'"
            ]
          },
          "metadata": {
            "tags": []
          },
          "execution_count": 159
        }
      ]
    },
    {
      "cell_type": "code",
      "metadata": {
        "id": "VhHKYHcGvL7k",
        "colab_type": "code",
        "colab": {
          "base_uri": "https://localhost:8080/",
          "height": 0
        },
        "outputId": "4eae7ee5-7b2a-4e75-eac9-b36199600b1e"
      },
      "source": [
        "labeled_alphabet.iloc[8]"
      ],
      "execution_count": 160,
      "outputs": [
        {
          "output_type": "execute_result",
          "data": {
            "text/plain": [
              "'i'"
            ]
          },
          "metadata": {
            "tags": []
          },
          "execution_count": 160
        }
      ]
    },
    {
      "cell_type": "code",
      "metadata": {
        "id": "7LBZ4dzvvOGT",
        "colab_type": "code",
        "colab": {
          "base_uri": "https://localhost:8080/",
          "height": 0
        },
        "outputId": "a039e830-e888-460f-8648-196a49ff5777"
      },
      "source": [
        "labeled_alphabet[8]"
      ],
      "execution_count": 161,
      "outputs": [
        {
          "output_type": "execute_result",
          "data": {
            "text/plain": [
              "'i'"
            ]
          },
          "metadata": {
            "tags": []
          },
          "execution_count": 161
        }
      ]
    },
    {
      "cell_type": "code",
      "metadata": {
        "id": "C-MqjCmDvPuf",
        "colab_type": "code",
        "colab": {}
      },
      "source": [
        "# chimera: greek mythology creature with the head of a lion and body of a goat"
      ],
      "execution_count": 0,
      "outputs": []
    },
    {
      "cell_type": "markdown",
      "metadata": {
        "id": "Od4oEfYCwf_C",
        "colab_type": "text"
      },
      "source": [
        "#### Selection Recap"
      ]
    },
    {
      "cell_type": "code",
      "metadata": {
        "id": "q7KMOHf80eG0",
        "colab_type": "code",
        "colab": {}
      },
      "source": [
        "# slide"
      ],
      "execution_count": 0,
      "outputs": []
    },
    {
      "cell_type": "markdown",
      "metadata": {
        "id": "DSpK0iUZ0eA4",
        "colab_type": "text"
      },
      "source": [
        "#### Skill Challenge"
      ]
    },
    {
      "cell_type": "markdown",
      "metadata": {
        "id": "AFkrf6aL0c_u",
        "colab_type": "text"
      },
      "source": [
        "###### 1"
      ]
    },
    {
      "cell_type": "markdown",
      "metadata": {
        "id": "IopZuMj50c8E",
        "colab_type": "text"
      },
      "source": [
        "Create a series of length 100 containing the squares of integers from 0 to 99. Assign it to the variable *squares*."
      ]
    },
    {
      "cell_type": "markdown",
      "metadata": {
        "id": "kI7G1uVJwiB1",
        "colab_type": "text"
      },
      "source": [
        " ###### 2"
      ]
    },
    {
      "cell_type": "markdown",
      "metadata": {
        "id": "dVL8qJyuwiGR",
        "colab_type": "text"
      },
      "source": [
        "Extract the last three items from the *squares* series using square bracket indexing. "
      ]
    },
    {
      "cell_type": "markdown",
      "metadata": {
        "id": "-Cp2PSUkIRFB",
        "colab_type": "text"
      },
      "source": [
        "###### 3."
      ]
    },
    {
      "cell_type": "markdown",
      "metadata": {
        "id": "ixLepvtZIUYq",
        "colab_type": "text"
      },
      "source": [
        "Repeat Step 2 but using the .tail() method instead."
      ]
    },
    {
      "cell_type": "markdown",
      "metadata": {
        "id": "gKAVJTZhIZpF",
        "colab_type": "text"
      },
      "source": [
        "###### 4."
      ]
    },
    {
      "cell_type": "markdown",
      "metadata": {
        "id": "BfbTR_WfIbVC",
        "colab_type": "text"
      },
      "source": [
        "Verify that the output of steps 2 and 3 is the same using the .equals() method."
      ]
    },
    {
      "cell_type": "markdown",
      "metadata": {
        "id": "O6-czpTKKf4r",
        "colab_type": "text"
      },
      "source": [
        "#### Solution"
      ]
    },
    {
      "cell_type": "code",
      "metadata": {
        "id": "55KsTyGnMR0Q",
        "colab_type": "code",
        "colab": {}
      },
      "source": [
        "# 1"
      ],
      "execution_count": 0,
      "outputs": []
    },
    {
      "cell_type": "code",
      "metadata": {
        "id": "sM-gu5bNMUXb",
        "colab_type": "code",
        "colab": {}
      },
      "source": [
        "squares = pd.Series(data=[i**2 for i in range(100)])"
      ],
      "execution_count": 0,
      "outputs": []
    },
    {
      "cell_type": "code",
      "metadata": {
        "id": "9evHTu6RMaTm",
        "colab_type": "code",
        "colab": {}
      },
      "source": [
        "# list(range(100))"
      ],
      "execution_count": 0,
      "outputs": []
    },
    {
      "cell_type": "code",
      "metadata": {
        "id": "AfD2GTHjMj3G",
        "colab_type": "code",
        "colab": {
          "base_uri": "https://localhost:8080/",
          "height": 121
        },
        "outputId": "ca15acd0-ee60-49f7-cde6-25c3552f4322"
      },
      "source": [
        "squares.head()"
      ],
      "execution_count": 170,
      "outputs": [
        {
          "output_type": "execute_result",
          "data": {
            "text/plain": [
              "0     0\n",
              "1     1\n",
              "2     4\n",
              "3     9\n",
              "4    16\n",
              "dtype: int64"
            ]
          },
          "metadata": {
            "tags": []
          },
          "execution_count": 170
        }
      ]
    },
    {
      "cell_type": "code",
      "metadata": {
        "id": "EHNnosM0Mqy3",
        "colab_type": "code",
        "colab": {}
      },
      "source": [
        "# 2"
      ],
      "execution_count": 0,
      "outputs": []
    },
    {
      "cell_type": "code",
      "metadata": {
        "id": "7SoX8o4tMxd6",
        "colab_type": "code",
        "colab": {}
      },
      "source": [
        "a = squares[-3:]"
      ],
      "execution_count": 0,
      "outputs": []
    },
    {
      "cell_type": "code",
      "metadata": {
        "id": "bt2AJ-R7MzYm",
        "colab_type": "code",
        "colab": {
          "base_uri": "https://localhost:8080/",
          "height": 86
        },
        "outputId": "cd55c376-0420-48ad-e49c-aca1a51f23ca"
      },
      "source": [
        "squares.iloc[-3:]"
      ],
      "execution_count": 173,
      "outputs": [
        {
          "output_type": "execute_result",
          "data": {
            "text/plain": [
              "97    9409\n",
              "98    9604\n",
              "99    9801\n",
              "dtype: int64"
            ]
          },
          "metadata": {
            "tags": []
          },
          "execution_count": 173
        }
      ]
    },
    {
      "cell_type": "code",
      "metadata": {
        "id": "KqKBkgIBM7xe",
        "colab_type": "code",
        "colab": {}
      },
      "source": [
        "# 3"
      ],
      "execution_count": 0,
      "outputs": []
    },
    {
      "cell_type": "code",
      "metadata": {
        "id": "0OdM6_CGM_D6",
        "colab_type": "code",
        "colab": {}
      },
      "source": [
        "b = squares.tail(n=3)"
      ],
      "execution_count": 0,
      "outputs": []
    },
    {
      "cell_type": "code",
      "metadata": {
        "id": "JAcDYTLCNBRj",
        "colab_type": "code",
        "colab": {}
      },
      "source": [
        "# 4"
      ],
      "execution_count": 0,
      "outputs": []
    },
    {
      "cell_type": "code",
      "metadata": {
        "id": "lcFwLUzUNDeN",
        "colab_type": "code",
        "colab": {
          "base_uri": "https://localhost:8080/",
          "height": 34
        },
        "outputId": "e862ec92-639d-41a4-a4d7-12fae2fdf40a"
      },
      "source": [
        "squares[-3:].equals(squares.tail(3))"
      ],
      "execution_count": 177,
      "outputs": [
        {
          "output_type": "execute_result",
          "data": {
            "text/plain": [
              "True"
            ]
          },
          "metadata": {
            "tags": []
          },
          "execution_count": 177
        }
      ]
    },
    {
      "cell_type": "code",
      "metadata": {
        "id": "jJxb4wmeNJKt",
        "colab_type": "code",
        "colab": {
          "base_uri": "https://localhost:8080/",
          "height": 34
        },
        "outputId": "b46e1de1-77bb-4b19-ca6c-c4fb2bac730d"
      },
      "source": [
        "a.equals(b)"
      ],
      "execution_count": 180,
      "outputs": [
        {
          "output_type": "execute_result",
          "data": {
            "text/plain": [
              "True"
            ]
          },
          "metadata": {
            "tags": []
          },
          "execution_count": 180
        }
      ]
    },
    {
      "cell_type": "code",
      "metadata": {
        "id": "5XhEL_v_NOv4",
        "colab_type": "code",
        "colab": {
          "base_uri": "https://localhost:8080/",
          "height": 34
        },
        "outputId": "3e25d863-29c6-49b4-b4b1-ad6e3f491662"
      },
      "source": [
        "b.equals(a)"
      ],
      "execution_count": 181,
      "outputs": [
        {
          "output_type": "execute_result",
          "data": {
            "text/plain": [
              "True"
            ]
          },
          "metadata": {
            "tags": []
          },
          "execution_count": 181
        }
      ]
    },
    {
      "cell_type": "code",
      "metadata": {
        "id": "5GcrFVwvNSYN",
        "colab_type": "code",
        "colab": {
          "base_uri": "https://localhost:8080/",
          "height": 86
        },
        "outputId": "b5e592ef-3855-46c3-819e-86e0259fbb0b"
      },
      "source": [
        "a == b"
      ],
      "execution_count": 182,
      "outputs": [
        {
          "output_type": "execute_result",
          "data": {
            "text/plain": [
              "97    True\n",
              "98    True\n",
              "99    True\n",
              "dtype: bool"
            ]
          },
          "metadata": {
            "tags": []
          },
          "execution_count": 182
        }
      ]
    },
    {
      "cell_type": "code",
      "metadata": {
        "id": "HIJ2gjX7NUbI",
        "colab_type": "code",
        "colab": {}
      },
      "source": [
        ""
      ],
      "execution_count": 0,
      "outputs": []
    }
  ]
}