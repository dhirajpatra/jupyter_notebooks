{
  "nbformat": 4,
  "nbformat_minor": 0,
  "metadata": {
    "colab": {
      "name": "Appendix A - Rapid-Fire Python Fundamentals",
      "provenance": [],
      "collapsed_sections": [
        "39tfJzLBMLjF",
        "j0XYiqY1HsXR",
        "I0NW-Y5cH8PK",
        "5ZWFvFjCM7Ou",
        "XhUxYlJ-eekG",
        "BZfTHaM-gl-Y",
        "jkZHq--knlup",
        "Yc7L8GNttvA5",
        "txtYTs3tSHMw",
        "0CzdUiSNbqyU",
        "nZre24Xpin_A",
        "sIsjdMf-o6cU",
        "zlYp5hEJw6jr",
        "oB9d7UsA0PW2",
        "a_cnJiw-N3pK",
        "dA6q42rfADbU",
        "PTLHHmgdCZbq",
        "Q0R5hfHhHbQD",
        "ul3zo8t2jGEY",
        "rWnhok6sruUC",
        "L6NxlgjZ2kiv",
        "LKXlB99O6Eb3",
        "4RLfDI8L-Ue0",
        "vLmByUGbEh5n",
        "Be3l_tlhKDGV",
        "dUEwpHjvVgPL",
        "AzZyqYJ5gF4T",
        "TkufyEIQlUvg",
        "7-MO45NfzWE2"
      ]
    },
    "kernelspec": {
      "name": "python3",
      "display_name": "Python 3"
    }
  },
  "cells": [
    {
      "cell_type": "markdown",
      "metadata": {
        "id": "39tfJzLBMLjF",
        "colab_type": "text"
      },
      "source": [
        "#### Section Intro"
      ]
    },
    {
      "cell_type": "code",
      "metadata": {
        "id": "gSmhTpMpMOY1",
        "colab_type": "code",
        "colab": {}
      },
      "source": [
        "import sys"
      ],
      "execution_count": null,
      "outputs": []
    },
    {
      "cell_type": "code",
      "metadata": {
        "id": "TaiUUF2QMOqc",
        "colab_type": "code",
        "colab": {
          "base_uri": "https://localhost:8080/",
          "height": 34
        },
        "outputId": "96853fe9-1bfa-4adc-d329-2ba423e36daa"
      },
      "source": [
        "sys.version"
      ],
      "execution_count": null,
      "outputs": [
        {
          "output_type": "execute_result",
          "data": {
            "text/plain": [
              "'3.6.9 (default, Apr 18 2020, 01:56:04) \\n[GCC 8.4.0]'"
            ]
          },
          "metadata": {
            "tags": []
          },
          "execution_count": 351
        }
      ]
    },
    {
      "cell_type": "markdown",
      "metadata": {
        "id": "k_KCUC6eMeKl",
        "colab_type": "text"
      },
      "source": [
        "Agenda:"
      ]
    },
    {
      "cell_type": "markdown",
      "metadata": {
        "id": "8gOg5O3EMeGb",
        "colab_type": "text"
      },
      "source": [
        "- fundamental data types\n",
        "- containers\n",
        "- iteration and membership\n",
        "- control flow: if, else, elif and for, while loops\n",
        "- comprehensions\n",
        "- function declarations and anonymous functions\n",
        "- modules & more"
      ]
    },
    {
      "cell_type": "markdown",
      "metadata": {
        "id": "GKYj32csWh-F",
        "colab_type": "text"
      },
      "source": [
        "![alt text](https://img.freepik.com/free-vector/black-dark-3d-low-poly-geometric-background_79145-393.jpg?size=626&ext=jpg)"
      ]
    },
    {
      "cell_type": "code",
      "metadata": {
        "id": "mrIX3dsFWiG_",
        "colab_type": "code",
        "colab": {}
      },
      "source": [
        ""
      ],
      "execution_count": null,
      "outputs": []
    },
    {
      "cell_type": "code",
      "metadata": {
        "id": "X4l8VXbFWiYr",
        "colab_type": "code",
        "colab": {}
      },
      "source": [
        ""
      ],
      "execution_count": null,
      "outputs": []
    },
    {
      "cell_type": "code",
      "metadata": {
        "id": "vgChVCjgWih1",
        "colab_type": "code",
        "colab": {}
      },
      "source": [
        ""
      ],
      "execution_count": null,
      "outputs": []
    },
    {
      "cell_type": "code",
      "metadata": {
        "id": "XT3Qn4DcWipN",
        "colab_type": "code",
        "colab": {}
      },
      "source": [
        ""
      ],
      "execution_count": null,
      "outputs": []
    },
    {
      "cell_type": "code",
      "metadata": {
        "id": "dm_GIjMXWiw2",
        "colab_type": "code",
        "colab": {}
      },
      "source": [
        ""
      ],
      "execution_count": null,
      "outputs": []
    },
    {
      "cell_type": "markdown",
      "metadata": {
        "id": "j0XYiqY1HsXR",
        "colab_type": "text"
      },
      "source": [
        "#### Data Types"
      ]
    },
    {
      "cell_type": "markdown",
      "metadata": {
        "id": "K8NOncjSHuBD",
        "colab_type": "text"
      },
      "source": [
        "* every object in python will have a type"
      ]
    },
    {
      "cell_type": "code",
      "metadata": {
        "id": "S4-78rOMJ4yC",
        "colab_type": "code",
        "colab": {}
      },
      "source": [
        "# fundamental data types\n",
        "int, float, bool, str, tuple, list, set, dict"
      ],
      "execution_count": null,
      "outputs": []
    },
    {
      "cell_type": "markdown",
      "metadata": {
        "id": "_C4btbZ5J6T1",
        "colab_type": "text"
      },
      "source": [
        "* there's also None (NoneType)"
      ]
    },
    {
      "cell_type": "code",
      "metadata": {
        "id": "GTsYyA3CKlbO",
        "colab_type": "code",
        "colab": {}
      },
      "source": [
        "None"
      ],
      "execution_count": null,
      "outputs": []
    },
    {
      "cell_type": "markdown",
      "metadata": {
        "id": "7bw9jiHoHuTU",
        "colab_type": "text"
      },
      "source": [
        "* the type will determine what properties and behaviors apply to that object"
      ]
    },
    {
      "cell_type": "markdown",
      "metadata": {
        "id": "WMXYH7ouHuZu",
        "colab_type": "text"
      },
      "source": [
        "* we could check type using the type() built-in function"
      ]
    },
    {
      "cell_type": "code",
      "metadata": {
        "id": "cLDisJHGINdB",
        "colab_type": "code",
        "colab": {
          "base_uri": "https://localhost:8080/",
          "height": 34
        },
        "outputId": "941f175e-f484-4d3a-d020-badb2524e413"
      },
      "source": [
        "2"
      ],
      "execution_count": null,
      "outputs": [
        {
          "output_type": "execute_result",
          "data": {
            "text/plain": [
              "2"
            ]
          },
          "metadata": {
            "tags": []
          },
          "execution_count": 342
        }
      ]
    },
    {
      "cell_type": "code",
      "metadata": {
        "id": "WyAXXfP2INY7",
        "colab_type": "code",
        "colab": {
          "base_uri": "https://localhost:8080/",
          "height": 34
        },
        "outputId": "bee14521-9c85-4a40-a2af-5fbbe229b4c4"
      },
      "source": [
        "type(2)"
      ],
      "execution_count": null,
      "outputs": [
        {
          "output_type": "execute_result",
          "data": {
            "text/plain": [
              "int"
            ]
          },
          "metadata": {
            "tags": []
          },
          "execution_count": 343
        }
      ]
    },
    {
      "cell_type": "code",
      "metadata": {
        "id": "XpU5ppZeINVX",
        "colab_type": "code",
        "colab": {
          "base_uri": "https://localhost:8080/",
          "height": 34
        },
        "outputId": "c3cd654f-a234-43a7-913f-7ca0f4ba143d"
      },
      "source": [
        "type('Andy')"
      ],
      "execution_count": null,
      "outputs": [
        {
          "output_type": "execute_result",
          "data": {
            "text/plain": [
              "str"
            ]
          },
          "metadata": {
            "tags": []
          },
          "execution_count": 344
        }
      ]
    },
    {
      "cell_type": "code",
      "metadata": {
        "id": "Pa9UYoeEINQ0",
        "colab_type": "code",
        "colab": {
          "base_uri": "https://localhost:8080/",
          "height": 34
        },
        "outputId": "5b288ff0-72b1-4e5d-af0d-1563876a5cda"
      },
      "source": [
        "print('Hey, there')"
      ],
      "execution_count": null,
      "outputs": [
        {
          "output_type": "stream",
          "text": [
            "Hey, there\n"
          ],
          "name": "stdout"
        }
      ]
    },
    {
      "cell_type": "code",
      "metadata": {
        "id": "hxKlrBa1INM2",
        "colab_type": "code",
        "colab": {}
      },
      "source": [
        ""
      ],
      "execution_count": null,
      "outputs": []
    },
    {
      "cell_type": "code",
      "metadata": {
        "id": "aIBspejiINJG",
        "colab_type": "code",
        "colab": {}
      },
      "source": [
        ""
      ],
      "execution_count": null,
      "outputs": []
    },
    {
      "cell_type": "code",
      "metadata": {
        "id": "y_WoqlmfINEd",
        "colab_type": "code",
        "colab": {}
      },
      "source": [
        ""
      ],
      "execution_count": null,
      "outputs": []
    },
    {
      "cell_type": "code",
      "metadata": {
        "id": "qbe0lUPfHugA",
        "colab_type": "code",
        "colab": {}
      },
      "source": [
        ""
      ],
      "execution_count": null,
      "outputs": []
    },
    {
      "cell_type": "markdown",
      "metadata": {
        "id": "I0NW-Y5cH8PK",
        "colab_type": "text"
      },
      "source": [
        "#### Arithmetic And Augmented Assignment Operators"
      ]
    },
    {
      "cell_type": "markdown",
      "metadata": {
        "id": "wR4d3gFLDwgf",
        "colab_type": "text"
      },
      "source": [
        "* basic arithmetics with +, -, *, /"
      ]
    },
    {
      "cell_type": "markdown",
      "metadata": {
        "id": "F51SzSPfD0Ee",
        "colab_type": "text"
      },
      "source": [
        "* augmented assignment operators"
      ]
    },
    {
      "cell_type": "code",
      "metadata": {
        "id": "5M1jSXtJGH66",
        "colab_type": "code",
        "colab": {}
      },
      "source": [
        "counter = 0"
      ],
      "execution_count": null,
      "outputs": []
    },
    {
      "cell_type": "code",
      "metadata": {
        "id": "GZzGxLpTGI3V",
        "colab_type": "code",
        "colab": {}
      },
      "source": [
        "# task: increment the counter by 1"
      ],
      "execution_count": null,
      "outputs": []
    },
    {
      "cell_type": "code",
      "metadata": {
        "id": "wkYQQPjvGMXE",
        "colab_type": "code",
        "colab": {}
      },
      "source": [
        "counter = counter + 1"
      ],
      "execution_count": null,
      "outputs": []
    },
    {
      "cell_type": "code",
      "metadata": {
        "id": "dmW4RC74GUy8",
        "colab_type": "code",
        "colab": {}
      },
      "source": [
        "counter += 1"
      ],
      "execution_count": null,
      "outputs": []
    },
    {
      "cell_type": "code",
      "metadata": {
        "id": "fCxtfkDsGe7E",
        "colab_type": "code",
        "colab": {}
      },
      "source": [
        "counter *= 2"
      ],
      "execution_count": null,
      "outputs": []
    },
    {
      "cell_type": "code",
      "metadata": {
        "id": "klBjPas9GOV_",
        "colab_type": "code",
        "colab": {
          "base_uri": "https://localhost:8080/",
          "height": 34
        },
        "outputId": "c81eb9e2-23a4-46be-f3f3-a4ad0acd7593"
      },
      "source": [
        "counter"
      ],
      "execution_count": null,
      "outputs": [
        {
          "output_type": "execute_result",
          "data": {
            "text/plain": [
              "10"
            ]
          },
          "metadata": {
            "tags": []
          },
          "execution_count": 323
        }
      ]
    },
    {
      "cell_type": "markdown",
      "metadata": {
        "id": "AnuSNHgLDuNa",
        "colab_type": "text"
      },
      "source": [
        "* other operators worth knowing about: **, %"
      ]
    },
    {
      "cell_type": "code",
      "metadata": {
        "id": "w5YmpkGUGjJF",
        "colab_type": "code",
        "colab": {}
      },
      "source": [
        "# 2 cubed"
      ],
      "execution_count": null,
      "outputs": []
    },
    {
      "cell_type": "code",
      "metadata": {
        "id": "jf-rdbAnGlpw",
        "colab_type": "code",
        "colab": {
          "base_uri": "https://localhost:8080/",
          "height": 34
        },
        "outputId": "51d0d644-cbbc-421a-9d37-140d41161762"
      },
      "source": [
        "2 ** 3"
      ],
      "execution_count": null,
      "outputs": [
        {
          "output_type": "execute_result",
          "data": {
            "text/plain": [
              "8"
            ]
          },
          "metadata": {
            "tags": []
          },
          "execution_count": 324
        }
      ]
    },
    {
      "cell_type": "code",
      "metadata": {
        "id": "AtWajqpzGmvv",
        "colab_type": "code",
        "colab": {
          "base_uri": "https://localhost:8080/",
          "height": 34
        },
        "outputId": "4fd1b46b-a482-4fd7-c732-90a4a8033f54"
      },
      "source": [
        "2 ** 2"
      ],
      "execution_count": null,
      "outputs": [
        {
          "output_type": "execute_result",
          "data": {
            "text/plain": [
              "4"
            ]
          },
          "metadata": {
            "tags": []
          },
          "execution_count": 325
        }
      ]
    },
    {
      "cell_type": "code",
      "metadata": {
        "id": "pW9BoO_oGoGo",
        "colab_type": "code",
        "colab": {
          "base_uri": "https://localhost:8080/",
          "height": 34
        },
        "outputId": "57edd58e-f276-42ef-d92f-b91fd337922d"
      },
      "source": [
        "2**4"
      ],
      "execution_count": null,
      "outputs": [
        {
          "output_type": "execute_result",
          "data": {
            "text/plain": [
              "16"
            ]
          },
          "metadata": {
            "tags": []
          },
          "execution_count": 326
        }
      ]
    },
    {
      "cell_type": "code",
      "metadata": {
        "id": "PAgtZ4YMGp1R",
        "colab_type": "code",
        "colab": {}
      },
      "source": [
        "# modulo operator"
      ],
      "execution_count": null,
      "outputs": []
    },
    {
      "cell_type": "code",
      "metadata": {
        "id": "_DkKilu-GrOG",
        "colab_type": "code",
        "colab": {}
      },
      "source": [
        "# num % div"
      ],
      "execution_count": null,
      "outputs": []
    },
    {
      "cell_type": "code",
      "metadata": {
        "id": "3gCMbcNuGuC4",
        "colab_type": "code",
        "colab": {
          "base_uri": "https://localhost:8080/",
          "height": 34
        },
        "outputId": "a1888f99-5486-40c9-c0f5-52cac495584e"
      },
      "source": [
        "5 % 2"
      ],
      "execution_count": null,
      "outputs": [
        {
          "output_type": "execute_result",
          "data": {
            "text/plain": [
              "1"
            ]
          },
          "metadata": {
            "tags": []
          },
          "execution_count": 328
        }
      ]
    },
    {
      "cell_type": "code",
      "metadata": {
        "id": "iGC4TVi6GwMx",
        "colab_type": "code",
        "colab": {
          "base_uri": "https://localhost:8080/",
          "height": 34
        },
        "outputId": "53ba30e1-4888-4986-a987-e636bca091f8"
      },
      "source": [
        "5 % 3"
      ],
      "execution_count": null,
      "outputs": [
        {
          "output_type": "execute_result",
          "data": {
            "text/plain": [
              "2"
            ]
          },
          "metadata": {
            "tags": []
          },
          "execution_count": 329
        }
      ]
    },
    {
      "cell_type": "code",
      "metadata": {
        "id": "5FLnz4eLGx45",
        "colab_type": "code",
        "colab": {
          "base_uri": "https://localhost:8080/",
          "height": 34
        },
        "outputId": "85c2c7c7-8fe6-445c-a82f-ebf98719c7f4"
      },
      "source": [
        "4 % 2"
      ],
      "execution_count": null,
      "outputs": [
        {
          "output_type": "execute_result",
          "data": {
            "text/plain": [
              "0"
            ]
          },
          "metadata": {
            "tags": []
          },
          "execution_count": 330
        }
      ]
    },
    {
      "cell_type": "code",
      "metadata": {
        "id": "3r25npH8G0QO",
        "colab_type": "code",
        "colab": {}
      },
      "source": [
        "# Q: check if a given number is odd or even"
      ],
      "execution_count": null,
      "outputs": []
    },
    {
      "cell_type": "code",
      "metadata": {
        "id": "xx6s0lj9G0MA",
        "colab_type": "code",
        "colab": {
          "base_uri": "https://localhost:8080/",
          "height": 34
        },
        "outputId": "703247a8-4b7f-4cb4-9feb-25ac534cd499"
      },
      "source": [
        "12312312 % 2 # even"
      ],
      "execution_count": null,
      "outputs": [
        {
          "output_type": "execute_result",
          "data": {
            "text/plain": [
              "0"
            ]
          },
          "metadata": {
            "tags": []
          },
          "execution_count": 334
        }
      ]
    },
    {
      "cell_type": "code",
      "metadata": {
        "id": "piCF3Oi_Gz5S",
        "colab_type": "code",
        "colab": {
          "base_uri": "https://localhost:8080/",
          "height": 34
        },
        "outputId": "7266a2ee-2aa2-4f11-8dc1-a42c9323b209"
      },
      "source": [
        "123123211 % 2 # odd"
      ],
      "execution_count": null,
      "outputs": [
        {
          "output_type": "execute_result",
          "data": {
            "text/plain": [
              "1"
            ]
          },
          "metadata": {
            "tags": []
          },
          "execution_count": 333
        }
      ]
    },
    {
      "cell_type": "markdown",
      "metadata": {
        "id": "25UJpEovDtEx",
        "colab_type": "text"
      },
      "source": [
        "* operator precedence: PEMDAS"
      ]
    },
    {
      "cell_type": "code",
      "metadata": {
        "id": "9EHMZIXeHDZ-",
        "colab_type": "code",
        "colab": {
          "base_uri": "https://localhost:8080/",
          "height": 34
        },
        "outputId": "e7395263-f6f7-41ae-c55e-438653fff8cf"
      },
      "source": [
        "(2 - 1) * 4 ** 2"
      ],
      "execution_count": null,
      "outputs": [
        {
          "output_type": "execute_result",
          "data": {
            "text/plain": [
              "16"
            ]
          },
          "metadata": {
            "tags": []
          },
          "execution_count": 335
        }
      ]
    },
    {
      "cell_type": "code",
      "metadata": {
        "id": "fxb9PsRwHDjq",
        "colab_type": "code",
        "colab": {}
      },
      "source": [
        "1 * 4 ** 2"
      ],
      "execution_count": null,
      "outputs": []
    },
    {
      "cell_type": "code",
      "metadata": {
        "id": "YBT45uQGHDon",
        "colab_type": "code",
        "colab": {}
      },
      "source": [
        "1 * 16"
      ],
      "execution_count": null,
      "outputs": []
    },
    {
      "cell_type": "code",
      "metadata": {
        "id": "ACZjUgcjHDtN",
        "colab_type": "code",
        "colab": {}
      },
      "source": [
        "16"
      ],
      "execution_count": null,
      "outputs": []
    },
    {
      "cell_type": "code",
      "metadata": {
        "id": "-BQ42N_8HDx-",
        "colab_type": "code",
        "colab": {}
      },
      "source": [
        ""
      ],
      "execution_count": null,
      "outputs": []
    },
    {
      "cell_type": "code",
      "metadata": {
        "id": "lKxFdKLiFoux",
        "colab_type": "code",
        "colab": {}
      },
      "source": [
        "num1 = 39"
      ],
      "execution_count": null,
      "outputs": []
    },
    {
      "cell_type": "code",
      "metadata": {
        "id": "30-AazreFoOb",
        "colab_type": "code",
        "colab": {}
      },
      "source": [
        "num2 = 40"
      ],
      "execution_count": null,
      "outputs": []
    },
    {
      "cell_type": "code",
      "metadata": {
        "id": "Mj7EyORJFoJP",
        "colab_type": "code",
        "colab": {
          "base_uri": "https://localhost:8080/",
          "height": 34
        },
        "outputId": "dddc1b72-9ddd-4885-8d73-f2b743533f84"
      },
      "source": [
        "num1 + num2"
      ],
      "execution_count": null,
      "outputs": [
        {
          "output_type": "execute_result",
          "data": {
            "text/plain": [
              "79"
            ]
          },
          "metadata": {
            "tags": []
          },
          "execution_count": 306
        }
      ]
    },
    {
      "cell_type": "code",
      "metadata": {
        "id": "0tg9-dhLFoET",
        "colab_type": "code",
        "colab": {
          "base_uri": "https://localhost:8080/",
          "height": 34
        },
        "outputId": "0060d95f-ba58-47b4-e653-adbfd1a0b8b3"
      },
      "source": [
        "39 + 40"
      ],
      "execution_count": null,
      "outputs": [
        {
          "output_type": "execute_result",
          "data": {
            "text/plain": [
              "79"
            ]
          },
          "metadata": {
            "tags": []
          },
          "execution_count": 307
        }
      ]
    },
    {
      "cell_type": "code",
      "metadata": {
        "id": "SECSkb2sFn_t",
        "colab_type": "code",
        "colab": {
          "base_uri": "https://localhost:8080/",
          "height": 34
        },
        "outputId": "b8b546cc-1027-47a8-8bf3-36031bb2b13f"
      },
      "source": [
        "num1 * num2"
      ],
      "execution_count": null,
      "outputs": [
        {
          "output_type": "execute_result",
          "data": {
            "text/plain": [
              "1560"
            ]
          },
          "metadata": {
            "tags": []
          },
          "execution_count": 308
        }
      ]
    },
    {
      "cell_type": "code",
      "metadata": {
        "id": "MauFDh0aFn6_",
        "colab_type": "code",
        "colab": {
          "base_uri": "https://localhost:8080/",
          "height": 34
        },
        "outputId": "e56775da-d093-4035-9460-3575a88faace"
      },
      "source": [
        "num1 / num2"
      ],
      "execution_count": null,
      "outputs": [
        {
          "output_type": "execute_result",
          "data": {
            "text/plain": [
              "0.975"
            ]
          },
          "metadata": {
            "tags": []
          },
          "execution_count": 309
        }
      ]
    },
    {
      "cell_type": "code",
      "metadata": {
        "id": "0U6VmTUXFn3d",
        "colab_type": "code",
        "colab": {
          "base_uri": "https://localhost:8080/",
          "height": 34
        },
        "outputId": "e544d7a8-1347-4fa6-91a2-598d9b3bc892"
      },
      "source": [
        "num1 - num2"
      ],
      "execution_count": null,
      "outputs": [
        {
          "output_type": "execute_result",
          "data": {
            "text/plain": [
              "-1"
            ]
          },
          "metadata": {
            "tags": []
          },
          "execution_count": 310
        }
      ]
    },
    {
      "cell_type": "code",
      "metadata": {
        "id": "GQ8is5I0FnzY",
        "colab_type": "code",
        "colab": {}
      },
      "source": [
        ""
      ],
      "execution_count": null,
      "outputs": []
    },
    {
      "cell_type": "code",
      "metadata": {
        "id": "N_zhoOS4D_wH",
        "colab_type": "code",
        "colab": {}
      },
      "source": [
        ""
      ],
      "execution_count": null,
      "outputs": []
    },
    {
      "cell_type": "markdown",
      "metadata": {
        "id": "5ZWFvFjCM7Ou",
        "colab_type": "text"
      },
      "source": [
        "#### Variables"
      ]
    },
    {
      "cell_type": "markdown",
      "metadata": {
        "id": "krS9i31WYCkI",
        "colab_type": "text"
      },
      "source": [
        "##### ❓ What are they?"
      ]
    },
    {
      "cell_type": "markdown",
      "metadata": {
        "id": "r66gPJhqYF42",
        "colab_type": "text"
      },
      "source": [
        "* variables hold values and have a name"
      ]
    },
    {
      "cell_type": "markdown",
      "metadata": {
        "id": "Yh-DwGVHYI5N",
        "colab_type": "text"
      },
      "source": [
        "* in other words, they bind a value to a name\n"
      ]
    },
    {
      "cell_type": "markdown",
      "metadata": {
        "id": "F2ukcvOKYTJ4",
        "colab_type": "text"
      },
      "source": [
        "##### 📝 Variable Naming"
      ]
    },
    {
      "cell_type": "markdown",
      "metadata": {
        "id": "HvlnLxJ7YVrn",
        "colab_type": "text"
      },
      "source": [
        "* why is it important? "
      ]
    },
    {
      "cell_type": "markdown",
      "metadata": {
        "id": "L5zZvG0QYZjl",
        "colab_type": "text"
      },
      "source": [
        "* best practice: variable names should be descriptive"
      ]
    },
    {
      "cell_type": "markdown",
      "metadata": {
        "id": "y3TbUr-QYf9X",
        "colab_type": "text"
      },
      "source": [
        "* case-sensitive"
      ]
    },
    {
      "cell_type": "markdown",
      "metadata": {
        "id": "DOPRGwkHZM3e",
        "colab_type": "text"
      },
      "source": [
        "* variable naming is lowercase_word (also known as snake_case)"
      ]
    },
    {
      "cell_type": "markdown",
      "metadata": {
        "id": "eVjhKJj_Yk1k",
        "colab_type": "text"
      },
      "source": [
        "* python keywords cannot be used as variables"
      ]
    },
    {
      "cell_type": "markdown",
      "metadata": {
        "id": "5v_wdXzdZUyw",
        "colab_type": "text"
      },
      "source": [
        "##### 🥢 Variable Assignment"
      ]
    },
    {
      "cell_type": "markdown",
      "metadata": {
        "id": "LMS34jv-ZYkj",
        "colab_type": "text"
      },
      "source": [
        "* single variable assignment with \"=\""
      ]
    },
    {
      "cell_type": "markdown",
      "metadata": {
        "id": "BvRZ-stdZd8A",
        "colab_type": "text"
      },
      "source": [
        "* multiple variable assignment"
      ]
    },
    {
      "cell_type": "markdown",
      "metadata": {
        "id": "hmRvdyOAVlMb",
        "colab_type": "text"
      },
      "source": [
        "##### _"
      ]
    },
    {
      "cell_type": "code",
      "metadata": {
        "id": "MwxkN4yEdUeu",
        "colab_type": "code",
        "colab": {}
      },
      "source": [
        "username = \"Andy\""
      ],
      "execution_count": null,
      "outputs": []
    },
    {
      "cell_type": "code",
      "metadata": {
        "id": "cfJth9DpfMrh",
        "colab_type": "code",
        "colab": {}
      },
      "source": [
        "user_name, user_age, user_gender = 'Andy', 39, 'Male'"
      ],
      "execution_count": null,
      "outputs": []
    },
    {
      "cell_type": "code",
      "metadata": {
        "id": "LrbUpjTzfVuQ",
        "colab_type": "code",
        "colab": {
          "base_uri": "https://localhost:8080/"
        },
        "outputId": "eda1be5e-ede4-4b8c-94b8-ccdcb984cd13"
      },
      "source": [
        "user_age"
      ],
      "execution_count": null,
      "outputs": [
        {
          "output_type": "execute_result",
          "data": {
            "text/plain": [
              "39"
            ]
          },
          "metadata": {
            "tags": []
          },
          "execution_count": 3
        }
      ]
    },
    {
      "cell_type": "code",
      "metadata": {
        "id": "05Jc7axrfW36",
        "colab_type": "code",
        "colab": {
          "base_uri": "https://localhost:8080/"
        },
        "outputId": "b6c520b6-d33a-4502-8559-e7e66064e1c5"
      },
      "source": [
        "user_gender"
      ],
      "execution_count": null,
      "outputs": [
        {
          "output_type": "execute_result",
          "data": {
            "text/plain": [
              "'Male'"
            ]
          },
          "metadata": {
            "tags": []
          },
          "execution_count": 4
        }
      ]
    },
    {
      "cell_type": "code",
      "metadata": {
        "id": "nSWJeyIPd18D",
        "colab_type": "code",
        "colab": {}
      },
      "source": [
        "u = 'Andrew'"
      ],
      "execution_count": null,
      "outputs": []
    },
    {
      "cell_type": "code",
      "metadata": {
        "id": "FRV3Weytdk9y",
        "colab_type": "code",
        "colab": {
          "base_uri": "https://localhost:8080/"
        },
        "outputId": "0d99a11b-54e8-43da-92f1-004a9107e2c7"
      },
      "source": [
        "username"
      ],
      "execution_count": null,
      "outputs": [
        {
          "output_type": "execute_result",
          "data": {
            "text/plain": [
              "'Andy'"
            ]
          },
          "metadata": {
            "tags": []
          },
          "execution_count": 6
        }
      ]
    },
    {
      "cell_type": "code",
      "metadata": {
        "id": "7dVobfL_dn8u",
        "colab_type": "code",
        "colab": {}
      },
      "source": [
        "age = 63"
      ],
      "execution_count": null,
      "outputs": []
    },
    {
      "cell_type": "code",
      "metadata": {
        "id": "V1IAm4FndpaV",
        "colab_type": "code",
        "colab": {
          "base_uri": "https://localhost:8080/"
        },
        "outputId": "f674a5e6-55e5-4be3-f008-d36d02d5d535"
      },
      "source": [
        "age"
      ],
      "execution_count": null,
      "outputs": [
        {
          "output_type": "execute_result",
          "data": {
            "text/plain": [
              "63"
            ]
          },
          "metadata": {
            "tags": []
          },
          "execution_count": 8
        }
      ]
    },
    {
      "cell_type": "code",
      "metadata": {
        "id": "zMqYd8kxdqOF",
        "colab_type": "code",
        "colab": {}
      },
      "source": [
        "# Age"
      ],
      "execution_count": null,
      "outputs": []
    },
    {
      "cell_type": "code",
      "metadata": {
        "id": "drsw0mgzeIcr",
        "colab_type": "code",
        "colab": {}
      },
      "source": [
        "sdklfjalsewriouwe = \"Andy\"\n",
        "asdfsd_8234ljsfd = 'Andrew'"
      ],
      "execution_count": null,
      "outputs": []
    },
    {
      "cell_type": "code",
      "metadata": {
        "id": "Q-pz13d0ezq0",
        "colab_type": "code",
        "colab": {}
      },
      "source": [
        "# else = 'Andy'"
      ],
      "execution_count": null,
      "outputs": []
    },
    {
      "cell_type": "code",
      "metadata": {
        "id": "yw8U-9Poe4a-",
        "colab_type": "code",
        "colab": {}
      },
      "source": [
        "# else_player"
      ],
      "execution_count": null,
      "outputs": []
    },
    {
      "cell_type": "code",
      "metadata": {
        "id": "dPKAVZH0eRf1",
        "colab_type": "code",
        "colab": {}
      },
      "source": [
        "# snake_case: user_name, user_age, capital_city"
      ],
      "execution_count": null,
      "outputs": []
    },
    {
      "cell_type": "markdown",
      "metadata": {
        "id": "XhUxYlJ-eekG",
        "colab_type": "text"
      },
      "source": [
        "#### Ints And Floats"
      ]
    },
    {
      "cell_type": "markdown",
      "metadata": {
        "id": "KbgWYcorU7gu",
        "colab_type": "text"
      },
      "source": [
        "##### Integers"
      ]
    },
    {
      "cell_type": "markdown",
      "metadata": {
        "id": "_zMn2anrVMGp",
        "colab_type": "text"
      },
      "source": [
        "* whole (complete) numbers, with *no* fractional value"
      ]
    },
    {
      "cell_type": "code",
      "metadata": {
        "id": "JUr7lKpQe3r3",
        "colab_type": "code",
        "colab": {
          "base_uri": "https://localhost:8080/"
        },
        "outputId": "791bb806-de61-44fd-f164-f46a61b51a37"
      },
      "source": [
        "4"
      ],
      "execution_count": null,
      "outputs": [
        {
          "output_type": "execute_result",
          "data": {
            "text/plain": [
              "4"
            ]
          },
          "metadata": {
            "tags": []
          },
          "execution_count": 14
        }
      ]
    },
    {
      "cell_type": "code",
      "metadata": {
        "id": "IKIqvDTpe4ZM",
        "colab_type": "code",
        "colab": {
          "base_uri": "https://localhost:8080/"
        },
        "outputId": "bcf50ffe-2e8a-4951-efac-8583960be7ec"
      },
      "source": [
        "type(4)"
      ],
      "execution_count": null,
      "outputs": [
        {
          "output_type": "execute_result",
          "data": {
            "text/plain": [
              "int"
            ]
          },
          "metadata": {
            "tags": []
          },
          "execution_count": 15
        }
      ]
    },
    {
      "cell_type": "code",
      "metadata": {
        "id": "brgMP1hxe6P3",
        "colab_type": "code",
        "colab": {
          "base_uri": "https://localhost:8080/"
        },
        "outputId": "f959f38e-cbfc-4704-84b2-003c1855dd49"
      },
      "source": [
        "10"
      ],
      "execution_count": null,
      "outputs": [
        {
          "output_type": "execute_result",
          "data": {
            "text/plain": [
              "10"
            ]
          },
          "metadata": {
            "tags": []
          },
          "execution_count": 16
        }
      ]
    },
    {
      "cell_type": "code",
      "metadata": {
        "id": "xNO7BIbwe7NW",
        "colab_type": "code",
        "colab": {
          "base_uri": "https://localhost:8080/"
        },
        "outputId": "848cab24-b048-48a2-9539-b73c1b00369f"
      },
      "source": [
        "type(10)"
      ],
      "execution_count": null,
      "outputs": [
        {
          "output_type": "execute_result",
          "data": {
            "text/plain": [
              "int"
            ]
          },
          "metadata": {
            "tags": []
          },
          "execution_count": 17
        }
      ]
    },
    {
      "cell_type": "markdown",
      "metadata": {
        "id": "nioz7ddXVPXi",
        "colab_type": "text"
      },
      "source": [
        "* useful for counting "
      ]
    },
    {
      "cell_type": "markdown",
      "metadata": {
        "id": "9MezKwLGVebQ",
        "colab_type": "text"
      },
      "source": [
        "##### Floats"
      ]
    },
    {
      "cell_type": "markdown",
      "metadata": {
        "id": "dMbuuKqZVfzu",
        "colab_type": "text"
      },
      "source": [
        "* dividing one integer by another gives us a float, or floating-point number"
      ]
    },
    {
      "cell_type": "code",
      "metadata": {
        "id": "YGyBUhJ7fG9s",
        "colab_type": "code",
        "colab": {
          "base_uri": "https://localhost:8080/"
        },
        "outputId": "36473b08-442a-4241-a6cb-ed1a1e450601"
      },
      "source": [
        "4/10"
      ],
      "execution_count": null,
      "outputs": [
        {
          "output_type": "execute_result",
          "data": {
            "text/plain": [
              "0.4"
            ]
          },
          "metadata": {
            "tags": []
          },
          "execution_count": 18
        }
      ]
    },
    {
      "cell_type": "code",
      "metadata": {
        "id": "HIRPttjVfJrQ",
        "colab_type": "code",
        "colab": {
          "base_uri": "https://localhost:8080/"
        },
        "outputId": "627c2cea-5419-4379-ef75-07015e36774a"
      },
      "source": [
        "type(4/10)"
      ],
      "execution_count": null,
      "outputs": [
        {
          "output_type": "execute_result",
          "data": {
            "text/plain": [
              "float"
            ]
          },
          "metadata": {
            "tags": []
          },
          "execution_count": 19
        }
      ]
    },
    {
      "cell_type": "code",
      "metadata": {
        "id": "ySAPyOPmfNzy",
        "colab_type": "code",
        "colab": {
          "base_uri": "https://localhost:8080/"
        },
        "outputId": "4ef28dda-4fc0-4a87-98ef-cadddd29c79e"
      },
      "source": [
        "2.0"
      ],
      "execution_count": null,
      "outputs": [
        {
          "output_type": "execute_result",
          "data": {
            "text/plain": [
              "2.0"
            ]
          },
          "metadata": {
            "tags": []
          },
          "execution_count": 20
        }
      ]
    },
    {
      "cell_type": "code",
      "metadata": {
        "id": "JCGd5l-efPTf",
        "colab_type": "code",
        "colab": {
          "base_uri": "https://localhost:8080/"
        },
        "outputId": "ca9e9486-2b72-4ea5-aa28-f76e714c6605"
      },
      "source": [
        "type(2.0)"
      ],
      "execution_count": null,
      "outputs": [
        {
          "output_type": "execute_result",
          "data": {
            "text/plain": [
              "float"
            ]
          },
          "metadata": {
            "tags": []
          },
          "execution_count": 21
        }
      ]
    },
    {
      "cell_type": "code",
      "metadata": {
        "id": "dAAdmMrYfU8t",
        "colab_type": "code",
        "colab": {
          "base_uri": "https://localhost:8080/"
        },
        "outputId": "ce1369e9-615b-4b1a-afe3-ddcdc50c2bc8"
      },
      "source": [
        "2."
      ],
      "execution_count": null,
      "outputs": [
        {
          "output_type": "execute_result",
          "data": {
            "text/plain": [
              "2.0"
            ]
          },
          "metadata": {
            "tags": []
          },
          "execution_count": 22
        }
      ]
    },
    {
      "cell_type": "code",
      "metadata": {
        "id": "qDwy0CXqfXuH",
        "colab_type": "code",
        "colab": {
          "base_uri": "https://localhost:8080/"
        },
        "outputId": "aa925c7a-a880-4de5-c122-121b37693127"
      },
      "source": [
        "type(2.)"
      ],
      "execution_count": null,
      "outputs": [
        {
          "output_type": "execute_result",
          "data": {
            "text/plain": [
              "float"
            ]
          },
          "metadata": {
            "tags": []
          },
          "execution_count": 23
        }
      ]
    },
    {
      "cell_type": "markdown",
      "metadata": {
        "id": "FWL3BachWdOd",
        "colab_type": "text"
      },
      "source": [
        "* floats represent real numbers with fractional values"
      ]
    },
    {
      "cell_type": "markdown",
      "metadata": {
        "id": "eOIGXjTdW-DF",
        "colab_type": "text"
      },
      "source": [
        "##### Ints and Floats"
      ]
    },
    {
      "cell_type": "markdown",
      "metadata": {
        "id": "Uq_vDSChXDbv",
        "colab_type": "text"
      },
      "source": [
        "* operations between ints and floats always produce floats"
      ]
    },
    {
      "cell_type": "code",
      "metadata": {
        "id": "U9gNpraTfb-t",
        "colab_type": "code",
        "colab": {
          "base_uri": "https://localhost:8080/"
        },
        "outputId": "c384da21-82bb-4617-ef40-2a1d3868b944"
      },
      "source": [
        "1.0 + 1 "
      ],
      "execution_count": null,
      "outputs": [
        {
          "output_type": "execute_result",
          "data": {
            "text/plain": [
              "2.0"
            ]
          },
          "metadata": {
            "tags": []
          },
          "execution_count": 24
        }
      ]
    },
    {
      "cell_type": "code",
      "metadata": {
        "id": "4JdxQIj5fdz1",
        "colab_type": "code",
        "colab": {
          "base_uri": "https://localhost:8080/"
        },
        "outputId": "1affa614-619e-4584-84f8-f756b4a7ebf4"
      },
      "source": [
        "type(1.0 + 1)"
      ],
      "execution_count": null,
      "outputs": [
        {
          "output_type": "execute_result",
          "data": {
            "text/plain": [
              "float"
            ]
          },
          "metadata": {
            "tags": []
          },
          "execution_count": 25
        }
      ]
    },
    {
      "cell_type": "code",
      "metadata": {
        "id": "pKiGRCf9fe4n",
        "colab_type": "code",
        "colab": {
          "base_uri": "https://localhost:8080/"
        },
        "outputId": "e4bd0fd1-33de-48fd-b392-a8615d7c1bb5"
      },
      "source": [
        "3.0 - 2 "
      ],
      "execution_count": null,
      "outputs": [
        {
          "output_type": "execute_result",
          "data": {
            "text/plain": [
              "1.0"
            ]
          },
          "metadata": {
            "tags": []
          },
          "execution_count": 26
        }
      ]
    },
    {
      "cell_type": "code",
      "metadata": {
        "id": "e7Un_Itffho2",
        "colab_type": "code",
        "colab": {
          "base_uri": "https://localhost:8080/"
        },
        "outputId": "1655f02f-62e7-4178-88e1-4d45ba7973ae"
      },
      "source": [
        "10 * 10.0"
      ],
      "execution_count": null,
      "outputs": [
        {
          "output_type": "execute_result",
          "data": {
            "text/plain": [
              "100.0"
            ]
          },
          "metadata": {
            "tags": []
          },
          "execution_count": 27
        }
      ]
    },
    {
      "cell_type": "markdown",
      "metadata": {
        "id": "p_JjX1NDXHwG",
        "colab_type": "text"
      },
      "source": [
        "* we could convert floats to ints, and vice versa"
      ]
    },
    {
      "cell_type": "code",
      "metadata": {
        "id": "QP0tZGxJfmDG",
        "colab_type": "code",
        "colab": {
          "base_uri": "https://localhost:8080/"
        },
        "outputId": "3d10fb5f-5b95-4dee-e312-97a618d6d1e2"
      },
      "source": [
        "type(3.0)"
      ],
      "execution_count": null,
      "outputs": [
        {
          "output_type": "execute_result",
          "data": {
            "text/plain": [
              "float"
            ]
          },
          "metadata": {
            "tags": []
          },
          "execution_count": 28
        }
      ]
    },
    {
      "cell_type": "code",
      "metadata": {
        "id": "Xo6a42Mffo3o",
        "colab_type": "code",
        "colab": {
          "base_uri": "https://localhost:8080/"
        },
        "outputId": "243b3ff8-198d-4230-c84d-840e6c361dd8"
      },
      "source": [
        "int(3.0)"
      ],
      "execution_count": null,
      "outputs": [
        {
          "output_type": "execute_result",
          "data": {
            "text/plain": [
              "3"
            ]
          },
          "metadata": {
            "tags": []
          },
          "execution_count": 29
        }
      ]
    },
    {
      "cell_type": "code",
      "metadata": {
        "id": "aPQpfnkvfqSz",
        "colab_type": "code",
        "colab": {
          "base_uri": "https://localhost:8080/"
        },
        "outputId": "15ec8e07-dbb0-4cfe-ab62-53763ecf9ef4"
      },
      "source": [
        "type(100)"
      ],
      "execution_count": null,
      "outputs": [
        {
          "output_type": "execute_result",
          "data": {
            "text/plain": [
              "int"
            ]
          },
          "metadata": {
            "tags": []
          },
          "execution_count": 30
        }
      ]
    },
    {
      "cell_type": "code",
      "metadata": {
        "id": "IrolPxzRfrdv",
        "colab_type": "code",
        "colab": {
          "base_uri": "https://localhost:8080/"
        },
        "outputId": "242f503b-0be9-46c1-b338-e6626c7d5718"
      },
      "source": [
        "float(100)"
      ],
      "execution_count": null,
      "outputs": [
        {
          "output_type": "execute_result",
          "data": {
            "text/plain": [
              "100.0"
            ]
          },
          "metadata": {
            "tags": []
          },
          "execution_count": 31
        }
      ]
    },
    {
      "cell_type": "code",
      "metadata": {
        "id": "ocMFFjgeft-A",
        "colab_type": "code",
        "colab": {
          "base_uri": "https://localhost:8080/"
        },
        "outputId": "dd2c609f-3a38-405b-bcb4-6f7da0a41400"
      },
      "source": [
        "int(3.1416)"
      ],
      "execution_count": null,
      "outputs": [
        {
          "output_type": "execute_result",
          "data": {
            "text/plain": [
              "3"
            ]
          },
          "metadata": {
            "tags": []
          },
          "execution_count": 32
        }
      ]
    },
    {
      "cell_type": "code",
      "metadata": {
        "id": "A_mTQ5kAfzeR",
        "colab_type": "code",
        "colab": {
          "base_uri": "https://localhost:8080/"
        },
        "outputId": "55b5d100-08ae-431a-9609-8bb63e7e24ad"
      },
      "source": [
        "int(3.99999999)"
      ],
      "execution_count": null,
      "outputs": [
        {
          "output_type": "execute_result",
          "data": {
            "text/plain": [
              "3"
            ]
          },
          "metadata": {
            "tags": []
          },
          "execution_count": 33
        }
      ]
    },
    {
      "cell_type": "markdown",
      "metadata": {
        "id": "5xSU2_ziXP9Q",
        "colab_type": "text"
      },
      "source": [
        "* floats take up more place in memory than ints"
      ]
    },
    {
      "cell_type": "code",
      "metadata": {
        "id": "S6rztVlyf6GP",
        "colab_type": "code",
        "colab": {}
      },
      "source": [
        "# 3 vs 3.0"
      ],
      "execution_count": null,
      "outputs": []
    },
    {
      "cell_type": "markdown",
      "metadata": {
        "id": "19byOjKSXrV0",
        "colab_type": "text"
      },
      "source": [
        "##### ⚠️ Floats Are Approximations!"
      ]
    },
    {
      "cell_type": "markdown",
      "metadata": {
        "id": "hjO2CmpiXwMP",
        "colab_type": "text"
      },
      "source": [
        "* computers store floating-point numbers as binary (base 2) fractions"
      ]
    },
    {
      "cell_type": "code",
      "metadata": {
        "id": "PI_8g1FggIZe",
        "colab_type": "code",
        "colab": {
          "base_uri": "https://localhost:8080/"
        },
        "outputId": "8ca857f6-87ad-476f-c09f-012b9afa7359"
      },
      "source": [
        "0.1 # 1/10, base 10"
      ],
      "execution_count": null,
      "outputs": [
        {
          "output_type": "execute_result",
          "data": {
            "text/plain": [
              "0.1"
            ]
          },
          "metadata": {
            "tags": []
          },
          "execution_count": 35
        }
      ]
    },
    {
      "cell_type": "code",
      "metadata": {
        "id": "bGDR0I1WgYz8",
        "colab_type": "code",
        "colab": {
          "base_uri": "https://localhost:8080/"
        },
        "outputId": "4f14ac19-f4f8-4f58-dbee-bf74a920a221"
      },
      "source": [
        "0.100000000000000010001"
      ],
      "execution_count": null,
      "outputs": [
        {
          "output_type": "execute_result",
          "data": {
            "text/plain": [
              "0.1"
            ]
          },
          "metadata": {
            "tags": []
          },
          "execution_count": 36
        }
      ]
    },
    {
      "cell_type": "markdown",
      "metadata": {
        "id": "ep3pVFl1YM7O",
        "colab_type": "text"
      },
      "source": [
        "* this may produce unexpected results with certain real numbers that do not have a precise binary representation"
      ]
    },
    {
      "cell_type": "code",
      "metadata": {
        "id": "y2ErgnkjghJy",
        "colab_type": "code",
        "colab": {
          "base_uri": "https://localhost:8080/"
        },
        "outputId": "d71ff563-5208-4ccd-a11a-2934f8a0248d"
      },
      "source": [
        "0.1 + 0.2 # = 0.3"
      ],
      "execution_count": null,
      "outputs": [
        {
          "output_type": "execute_result",
          "data": {
            "text/plain": [
              "0.30000000000000004"
            ]
          },
          "metadata": {
            "tags": []
          },
          "execution_count": 37
        }
      ]
    },
    {
      "cell_type": "markdown",
      "metadata": {
        "id": "BZfTHaM-gl-Y",
        "colab_type": "text"
      },
      "source": [
        "#### Booleans And Comparison Operators"
      ]
    },
    {
      "cell_type": "markdown",
      "metadata": {
        "id": "TyULVALbjOOD",
        "colab_type": "text"
      },
      "source": [
        "* a bool represents the notion of True or False"
      ]
    },
    {
      "cell_type": "code",
      "metadata": {
        "id": "xopmdB_wmd5w",
        "colab_type": "code",
        "colab": {
          "base_uri": "https://localhost:8080/"
        },
        "outputId": "0b15505f-3d8e-4f95-e4e3-b148d183c8b1"
      },
      "source": [
        "True"
      ],
      "execution_count": null,
      "outputs": [
        {
          "output_type": "execute_result",
          "data": {
            "text/plain": [
              "True"
            ]
          },
          "metadata": {
            "tags": []
          },
          "execution_count": 38
        }
      ]
    },
    {
      "cell_type": "code",
      "metadata": {
        "id": "-h5gHXBcmen8",
        "colab_type": "code",
        "colab": {
          "base_uri": "https://localhost:8080/"
        },
        "outputId": "7c9e2dbf-91c3-4e8e-a6c0-1b34ad19b5d7"
      },
      "source": [
        "type(True)"
      ],
      "execution_count": null,
      "outputs": [
        {
          "output_type": "execute_result",
          "data": {
            "text/plain": [
              "bool"
            ]
          },
          "metadata": {
            "tags": []
          },
          "execution_count": 39
        }
      ]
    },
    {
      "cell_type": "code",
      "metadata": {
        "id": "T_AjZgGcmguS",
        "colab_type": "code",
        "colab": {
          "base_uri": "https://localhost:8080/"
        },
        "outputId": "309384a5-96b9-4c5a-e145-46e80cef6d63"
      },
      "source": [
        "type(False)"
      ],
      "execution_count": null,
      "outputs": [
        {
          "output_type": "execute_result",
          "data": {
            "text/plain": [
              "bool"
            ]
          },
          "metadata": {
            "tags": []
          },
          "execution_count": 40
        }
      ]
    },
    {
      "cell_type": "code",
      "metadata": {
        "id": "m4VP0zhXmi4i",
        "colab_type": "code",
        "colab": {}
      },
      "source": [
        "# type(true)"
      ],
      "execution_count": null,
      "outputs": []
    },
    {
      "cell_type": "markdown",
      "metadata": {
        "id": "Jmw5bsNsjS7k",
        "colab_type": "text"
      },
      "source": [
        "* we could generate bools using comparison operators"
      ]
    },
    {
      "cell_type": "code",
      "metadata": {
        "id": "xGrepXvgmruo",
        "colab_type": "code",
        "colab": {}
      },
      "source": [
        "age         = 43\n",
        "retirement  = 64"
      ],
      "execution_count": null,
      "outputs": []
    },
    {
      "cell_type": "code",
      "metadata": {
        "id": "7v6IiAEkmxVO",
        "colab_type": "code",
        "colab": {
          "base_uri": "https://localhost:8080/"
        },
        "outputId": "7c626e2f-baef-46be-a53d-54cce01f1879"
      },
      "source": [
        "age >= retirement"
      ],
      "execution_count": null,
      "outputs": [
        {
          "output_type": "execute_result",
          "data": {
            "text/plain": [
              "False"
            ]
          },
          "metadata": {
            "tags": []
          },
          "execution_count": 43
        }
      ]
    },
    {
      "cell_type": "code",
      "metadata": {
        "id": "Bqmjlcjtm3TF",
        "colab_type": "code",
        "colab": {
          "base_uri": "https://localhost:8080/"
        },
        "outputId": "8b5ddc37-440c-4204-af29-8e47a12949c0"
      },
      "source": [
        "retirement < age"
      ],
      "execution_count": null,
      "outputs": [
        {
          "output_type": "execute_result",
          "data": {
            "text/plain": [
              "False"
            ]
          },
          "metadata": {
            "tags": []
          },
          "execution_count": 44
        }
      ]
    },
    {
      "cell_type": "code",
      "metadata": {
        "id": "zffiz00Ym6VI",
        "colab_type": "code",
        "colab": {
          "base_uri": "https://localhost:8080/"
        },
        "outputId": "8e2ec71d-fb08-43f7-ce8d-240fa5538893"
      },
      "source": [
        "retirement != age"
      ],
      "execution_count": null,
      "outputs": [
        {
          "output_type": "execute_result",
          "data": {
            "text/plain": [
              "True"
            ]
          },
          "metadata": {
            "tags": []
          },
          "execution_count": 45
        }
      ]
    },
    {
      "cell_type": "code",
      "metadata": {
        "id": "vssaNco6m914",
        "colab_type": "code",
        "colab": {
          "base_uri": "https://localhost:8080/"
        },
        "outputId": "6abc9e3a-5a0f-48a5-9963-9d1e6e07f412"
      },
      "source": [
        "retirement == age # comparison operatior '=='"
      ],
      "execution_count": null,
      "outputs": [
        {
          "output_type": "execute_result",
          "data": {
            "text/plain": [
              "False"
            ]
          },
          "metadata": {
            "tags": []
          },
          "execution_count": 46
        }
      ]
    },
    {
      "cell_type": "code",
      "metadata": {
        "id": "qHV9tuP6nB4X",
        "colab_type": "code",
        "colab": {}
      },
      "source": [
        "# '=' assignment operator"
      ],
      "execution_count": null,
      "outputs": []
    },
    {
      "cell_type": "markdown",
      "metadata": {
        "id": "X13jjDLsjZtZ",
        "colab_type": "text"
      },
      "source": [
        "* ...and combine them using logical operators"
      ]
    },
    {
      "cell_type": "code",
      "metadata": {
        "id": "wHSc6Ko2nP3Z",
        "colab_type": "code",
        "colab": {
          "base_uri": "https://localhost:8080/"
        },
        "outputId": "f63a1793-db62-43ed-e3ac-34b853e90508"
      },
      "source": [
        "True or True"
      ],
      "execution_count": null,
      "outputs": [
        {
          "output_type": "execute_result",
          "data": {
            "text/plain": [
              "True"
            ]
          },
          "metadata": {
            "tags": []
          },
          "execution_count": 48
        }
      ]
    },
    {
      "cell_type": "code",
      "metadata": {
        "id": "VNkFNJsHnSzl",
        "colab_type": "code",
        "colab": {
          "base_uri": "https://localhost:8080/"
        },
        "outputId": "a2f6cad9-b788-4b61-fa2d-74588d3cbc71"
      },
      "source": [
        "True or False"
      ],
      "execution_count": null,
      "outputs": [
        {
          "output_type": "execute_result",
          "data": {
            "text/plain": [
              "True"
            ]
          },
          "metadata": {
            "tags": []
          },
          "execution_count": 49
        }
      ]
    },
    {
      "cell_type": "code",
      "metadata": {
        "id": "xbai5uxfnTmG",
        "colab_type": "code",
        "colab": {
          "base_uri": "https://localhost:8080/"
        },
        "outputId": "2265c28c-657c-49bc-b3d8-d192f92547fe"
      },
      "source": [
        "True and False"
      ],
      "execution_count": null,
      "outputs": [
        {
          "output_type": "execute_result",
          "data": {
            "text/plain": [
              "False"
            ]
          },
          "metadata": {
            "tags": []
          },
          "execution_count": 50
        }
      ]
    },
    {
      "cell_type": "code",
      "metadata": {
        "id": "w685bFtVnUtB",
        "colab_type": "code",
        "colab": {
          "base_uri": "https://localhost:8080/"
        },
        "outputId": "35734891-0b33-4c09-f39a-5641b268f9fa"
      },
      "source": [
        "False and False"
      ],
      "execution_count": null,
      "outputs": [
        {
          "output_type": "execute_result",
          "data": {
            "text/plain": [
              "False"
            ]
          },
          "metadata": {
            "tags": []
          },
          "execution_count": 51
        }
      ]
    },
    {
      "cell_type": "code",
      "metadata": {
        "id": "r1ehxgj5nW44",
        "colab_type": "code",
        "colab": {
          "base_uri": "https://localhost:8080/"
        },
        "outputId": "7a9f7d4d-3e06-4977-caa1-7785d1e17aaf"
      },
      "source": [
        "not False"
      ],
      "execution_count": null,
      "outputs": [
        {
          "output_type": "execute_result",
          "data": {
            "text/plain": [
              "True"
            ]
          },
          "metadata": {
            "tags": []
          },
          "execution_count": 52
        }
      ]
    },
    {
      "cell_type": "code",
      "metadata": {
        "id": "kFF7dwxnnaRz",
        "colab_type": "code",
        "colab": {
          "base_uri": "https://localhost:8080/"
        },
        "outputId": "a0f442f2-63d2-412c-f41b-46d2b008b73d"
      },
      "source": [
        "not True"
      ],
      "execution_count": null,
      "outputs": [
        {
          "output_type": "execute_result",
          "data": {
            "text/plain": [
              "False"
            ]
          },
          "metadata": {
            "tags": []
          },
          "execution_count": 53
        }
      ]
    },
    {
      "cell_type": "code",
      "metadata": {
        "id": "vNJpcj_Jnb_O",
        "colab_type": "code",
        "colab": {
          "base_uri": "https://localhost:8080/"
        },
        "outputId": "c1addf8c-de0a-4f7d-8289-5a21f8da5200"
      },
      "source": [
        "(retirement == age) or True"
      ],
      "execution_count": null,
      "outputs": [
        {
          "output_type": "execute_result",
          "data": {
            "text/plain": [
              "True"
            ]
          },
          "metadata": {
            "tags": []
          },
          "execution_count": 54
        }
      ]
    },
    {
      "cell_type": "markdown",
      "metadata": {
        "id": "jkZHq--knlup",
        "colab_type": "text"
      },
      "source": [
        "#### Strings"
      ]
    },
    {
      "cell_type": "markdown",
      "metadata": {
        "id": "Yc7L8GNttvA5",
        "colab_type": "text"
      },
      "source": [
        "##### A string is juse a sequence of characters"
      ]
    },
    {
      "cell_type": "markdown",
      "metadata": {
        "id": "Y8U8ypLBt7ye",
        "colab_type": "text"
      },
      "source": [
        "* it is an ordered sequence of characters that could include any letters, numbers, symbols, punctuation, etc"
      ]
    },
    {
      "cell_type": "code",
      "metadata": {
        "id": "taBcPUraQiWP",
        "colab_type": "code",
        "colab": {
          "base_uri": "https://localhost:8080/"
        },
        "outputId": "3f32d893-9820-4a7d-d331-7868070e1216"
      },
      "source": [
        "\"Andy\""
      ],
      "execution_count": null,
      "outputs": [
        {
          "output_type": "execute_result",
          "data": {
            "text/plain": [
              "'Andy'"
            ]
          },
          "metadata": {
            "tags": []
          },
          "execution_count": 55
        }
      ]
    },
    {
      "cell_type": "code",
      "metadata": {
        "id": "V-YQf5AaQkWF",
        "colab_type": "code",
        "colab": {
          "base_uri": "https://localhost:8080/"
        },
        "outputId": "2d76f011-de02-4739-b993-9b073240a586"
      },
      "source": [
        "type('Andy')"
      ],
      "execution_count": null,
      "outputs": [
        {
          "output_type": "execute_result",
          "data": {
            "text/plain": [
              "str"
            ]
          },
          "metadata": {
            "tags": []
          },
          "execution_count": 56
        }
      ]
    },
    {
      "cell_type": "code",
      "metadata": {
        "id": "ZUcQDLxqQmqi",
        "colab_type": "code",
        "colab": {
          "base_uri": "https://localhost:8080/"
        },
        "outputId": "dfc58305-4bb2-4922-abae-e7423aebf197"
      },
      "source": [
        "type('Andy - python, pandas, v3.9!!!!')"
      ],
      "execution_count": null,
      "outputs": [
        {
          "output_type": "execute_result",
          "data": {
            "text/plain": [
              "str"
            ]
          },
          "metadata": {
            "tags": []
          },
          "execution_count": 57
        }
      ]
    },
    {
      "cell_type": "markdown",
      "metadata": {
        "id": "GeJi6Gm6uKnW",
        "colab_type": "text"
      },
      "source": [
        "* we create string using ' ' or \" \""
      ]
    },
    {
      "cell_type": "code",
      "metadata": {
        "id": "P1l5JfM9Qr85",
        "colab_type": "code",
        "colab": {}
      },
      "source": [
        "# '' or \"\""
      ],
      "execution_count": null,
      "outputs": []
    },
    {
      "cell_type": "markdown",
      "metadata": {
        "id": "khErcG2A1CqO",
        "colab_type": "text"
      },
      "source": [
        "* what about strings with ' ' or \" \" in them? "
      ]
    },
    {
      "cell_type": "code",
      "metadata": {
        "id": "2hc0m86dQvhM",
        "colab_type": "code",
        "colab": {}
      },
      "source": [
        "# \"Let's code \"pandorably\"\""
      ],
      "execution_count": null,
      "outputs": []
    },
    {
      "cell_type": "code",
      "metadata": {
        "id": "Gl1DdNa3Q_NS",
        "colab_type": "code",
        "colab": {}
      },
      "source": [
        "# 'Let's code \"pandorably\"'"
      ],
      "execution_count": null,
      "outputs": []
    },
    {
      "cell_type": "code",
      "metadata": {
        "id": "40ygKkAqRHgb",
        "colab_type": "code",
        "colab": {}
      },
      "source": [
        "# use alternating quotes:"
      ],
      "execution_count": null,
      "outputs": []
    },
    {
      "cell_type": "code",
      "metadata": {
        "id": "ZADCBpaWRPkX",
        "colab_type": "code",
        "colab": {
          "base_uri": "https://localhost:8080/"
        },
        "outputId": "01aead18-ed41-4809-e283-9b6a909e4ae7"
      },
      "source": [
        "\"Let's code 'pandorably'\""
      ],
      "execution_count": null,
      "outputs": [
        {
          "output_type": "execute_result",
          "data": {
            "text/plain": [
              "\"Let's code 'pandorably'\""
            ]
          },
          "metadata": {
            "tags": []
          },
          "execution_count": 62
        }
      ]
    },
    {
      "cell_type": "code",
      "metadata": {
        "id": "vHRGjda-RWlF",
        "colab_type": "code",
        "colab": {}
      },
      "source": [
        "# we could use the \\ char"
      ],
      "execution_count": null,
      "outputs": []
    },
    {
      "cell_type": "code",
      "metadata": {
        "id": "i2KRp60eRKTD",
        "colab_type": "code",
        "colab": {
          "base_uri": "https://localhost:8080/"
        },
        "outputId": "8dc468ea-3615-4a30-a0f6-c9cb94b8db4d"
      },
      "source": [
        "'Let\\'s code \"pandorably\"'"
      ],
      "execution_count": null,
      "outputs": [
        {
          "output_type": "execute_result",
          "data": {
            "text/plain": [
              "'Let\\'s code \"pandorably\"'"
            ]
          },
          "metadata": {
            "tags": []
          },
          "execution_count": 64
        }
      ]
    },
    {
      "cell_type": "markdown",
      "metadata": {
        "id": "CDKIGrp31HOA",
        "colab_type": "text"
      },
      "source": [
        "* there's also ' ' '"
      ]
    },
    {
      "cell_type": "code",
      "metadata": {
        "id": "s7TQIQvCRhDk",
        "colab_type": "code",
        "colab": {
          "base_uri": "https://localhost:8080/"
        },
        "outputId": "0470dad2-048d-4197-ebf6-eab17d9efa6d"
      },
      "source": [
        "'''this is the 'first' line of the string\n",
        "this is the \"second\"\n",
        "and this is the third'''"
      ],
      "execution_count": null,
      "outputs": [
        {
          "output_type": "execute_result",
          "data": {
            "text/plain": [
              "'this is the \\'first\\' line of the string\\nthis is the \"second\"\\nand this is the third'"
            ]
          },
          "metadata": {
            "tags": []
          },
          "execution_count": 65
        }
      ]
    },
    {
      "cell_type": "code",
      "metadata": {
        "id": "ktCvRJjhRnuw",
        "colab_type": "code",
        "colab": {
          "base_uri": "https://localhost:8080/"
        },
        "outputId": "983e6ead-9a86-4ea2-d531-f1a2ed6239b0"
      },
      "source": [
        "type('''this is the first line of the string\n",
        "this is the second\n",
        "and this is the third''')"
      ],
      "execution_count": null,
      "outputs": [
        {
          "output_type": "execute_result",
          "data": {
            "text/plain": [
              "str"
            ]
          },
          "metadata": {
            "tags": []
          },
          "execution_count": 66
        }
      ]
    },
    {
      "cell_type": "code",
      "metadata": {
        "id": "kYLnI_CrRqEM",
        "colab_type": "code",
        "colab": {}
      },
      "source": [
        "# \"this is the first line\n",
        "# this s the second\""
      ],
      "execution_count": null,
      "outputs": []
    },
    {
      "cell_type": "markdown",
      "metadata": {
        "id": "GXb0-edc1PWh",
        "colab_type": "text"
      },
      "source": [
        "* strings could be combined with +"
      ]
    },
    {
      "cell_type": "code",
      "metadata": {
        "id": "-YZFweHGR340",
        "colab_type": "code",
        "colab": {
          "base_uri": "https://localhost:8080/"
        },
        "outputId": "99a7597b-66b0-4d51-e709-09e2a66d2a4f"
      },
      "source": [
        "2 + 2"
      ],
      "execution_count": null,
      "outputs": [
        {
          "output_type": "execute_result",
          "data": {
            "text/plain": [
              "4"
            ]
          },
          "metadata": {
            "tags": []
          },
          "execution_count": 68
        }
      ]
    },
    {
      "cell_type": "code",
      "metadata": {
        "id": "qFOHuYThR588",
        "colab_type": "code",
        "colab": {
          "base_uri": "https://localhost:8080/"
        },
        "outputId": "22d6c81a-fcbc-465a-8f4a-c9191e259deb"
      },
      "source": [
        "'Andy' + ' ' + \"Bek\""
      ],
      "execution_count": null,
      "outputs": [
        {
          "output_type": "execute_result",
          "data": {
            "text/plain": [
              "'Andy Bek'"
            ]
          },
          "metadata": {
            "tags": []
          },
          "execution_count": 69
        }
      ]
    },
    {
      "cell_type": "markdown",
      "metadata": {
        "id": "ZmP3ytHq1U6V",
        "colab_type": "text"
      },
      "source": [
        "* strings could be repeated with *"
      ]
    },
    {
      "cell_type": "code",
      "metadata": {
        "id": "qNn10jp4SDA6",
        "colab_type": "code",
        "colab": {
          "base_uri": "https://localhost:8080/"
        },
        "outputId": "a80acf12-d8c4-43bb-fd1d-862f57a3cd61"
      },
      "source": [
        "2 * 3"
      ],
      "execution_count": null,
      "outputs": [
        {
          "output_type": "execute_result",
          "data": {
            "text/plain": [
              "6"
            ]
          },
          "metadata": {
            "tags": []
          },
          "execution_count": 70
        }
      ]
    },
    {
      "cell_type": "code",
      "metadata": {
        "id": "99dngE6ISEZT",
        "colab_type": "code",
        "colab": {
          "base_uri": "https://localhost:8080/"
        },
        "outputId": "9cbfdbd1-b9af-4f38-82c2-5506c338a299"
      },
      "source": [
        "'python' * 3"
      ],
      "execution_count": null,
      "outputs": [
        {
          "output_type": "execute_result",
          "data": {
            "text/plain": [
              "'pythonpythonpython'"
            ]
          },
          "metadata": {
            "tags": []
          },
          "execution_count": 71
        }
      ]
    },
    {
      "cell_type": "markdown",
      "metadata": {
        "id": "txtYTs3tSHMw",
        "colab_type": "text"
      },
      "source": [
        "#### Methods"
      ]
    },
    {
      "cell_type": "markdown",
      "metadata": {
        "id": "Pa9g3vJDSila",
        "colab_type": "text"
      },
      "source": [
        "* methods are similar to functions, eg type()"
      ]
    },
    {
      "cell_type": "code",
      "metadata": {
        "id": "ZYLOgfZgaTrJ",
        "colab_type": "code",
        "colab": {
          "base_uri": "https://localhost:8080/"
        },
        "outputId": "66a00fe2-1a14-4d7f-c800-e7d0b3cb502e"
      },
      "source": [
        "type('python')"
      ],
      "execution_count": null,
      "outputs": [
        {
          "output_type": "execute_result",
          "data": {
            "text/plain": [
              "str"
            ]
          },
          "metadata": {
            "tags": []
          },
          "execution_count": 72
        }
      ]
    },
    {
      "cell_type": "code",
      "metadata": {
        "id": "zmv2YhByaVrm",
        "colab_type": "code",
        "colab": {
          "base_uri": "https://localhost:8080/"
        },
        "outputId": "1c13456f-1b57-45e4-ba3f-3827db08a1da"
      },
      "source": [
        "type(714)"
      ],
      "execution_count": null,
      "outputs": [
        {
          "output_type": "execute_result",
          "data": {
            "text/plain": [
              "int"
            ]
          },
          "metadata": {
            "tags": []
          },
          "execution_count": 73
        }
      ]
    },
    {
      "cell_type": "code",
      "metadata": {
        "id": "k5j_3xQvaWwF",
        "colab_type": "code",
        "colab": {
          "base_uri": "https://localhost:8080/"
        },
        "outputId": "62ed4760-fe1f-4d10-f3d2-c7f36d5890c2"
      },
      "source": [
        "type(714.9)"
      ],
      "execution_count": null,
      "outputs": [
        {
          "output_type": "execute_result",
          "data": {
            "text/plain": [
              "float"
            ]
          },
          "metadata": {
            "tags": []
          },
          "execution_count": 74
        }
      ]
    },
    {
      "cell_type": "markdown",
      "metadata": {
        "id": "_YchGKjmTbRi",
        "colab_type": "text"
      },
      "source": [
        "* ...but they are always attached to a type of object"
      ]
    },
    {
      "cell_type": "markdown",
      "metadata": {
        "id": "8R-r53UMTsEr",
        "colab_type": "text"
      },
      "source": [
        "* different data types have different methods defined and available"
      ]
    },
    {
      "cell_type": "markdown",
      "metadata": {
        "id": "08aMGAT-Tj-C",
        "colab_type": "text"
      },
      "source": [
        " * some methods available on strings:\n",
        "  > .upper(), .lower(), .isalpha(), .startsWith()"
      ]
    },
    {
      "cell_type": "code",
      "metadata": {
        "id": "5Tl6pJhOagFk",
        "colab_type": "code",
        "colab": {
          "base_uri": "https://localhost:8080/"
        },
        "outputId": "00864e2c-1005-439e-d965-9b1d7caa3cf2"
      },
      "source": [
        "'python'.upper()"
      ],
      "execution_count": null,
      "outputs": [
        {
          "output_type": "execute_result",
          "data": {
            "text/plain": [
              "'PYTHON'"
            ]
          },
          "metadata": {
            "tags": []
          },
          "execution_count": 75
        }
      ]
    },
    {
      "cell_type": "code",
      "metadata": {
        "id": "kfB7GRblaruR",
        "colab_type": "code",
        "colab": {
          "base_uri": "https://localhost:8080/"
        },
        "outputId": "72dd2f85-515d-4912-ebaf-7739da5d256d"
      },
      "source": [
        "'PYthon'.lower()"
      ],
      "execution_count": null,
      "outputs": [
        {
          "output_type": "execute_result",
          "data": {
            "text/plain": [
              "'python'"
            ]
          },
          "metadata": {
            "tags": []
          },
          "execution_count": 76
        }
      ]
    },
    {
      "cell_type": "code",
      "metadata": {
        "id": "DSSMsUhFavbu",
        "colab_type": "code",
        "colab": {
          "base_uri": "https://localhost:8080/"
        },
        "outputId": "9f90b609-af9e-42ae-add5-58b572823894"
      },
      "source": [
        "'pythonv3.9'.isalpha()"
      ],
      "execution_count": null,
      "outputs": [
        {
          "output_type": "execute_result",
          "data": {
            "text/plain": [
              "False"
            ]
          },
          "metadata": {
            "tags": []
          },
          "execution_count": 77
        }
      ]
    },
    {
      "cell_type": "code",
      "metadata": {
        "id": "2BEG_vBZa3-J",
        "colab_type": "code",
        "colab": {
          "base_uri": "https://localhost:8080/"
        },
        "outputId": "92f1b938-6e2d-4ede-ddb5-1fc1c75fd442"
      },
      "source": [
        "'python'.startswith('py')"
      ],
      "execution_count": null,
      "outputs": [
        {
          "output_type": "execute_result",
          "data": {
            "text/plain": [
              "True"
            ]
          },
          "metadata": {
            "tags": []
          },
          "execution_count": 78
        }
      ]
    },
    {
      "cell_type": "code",
      "metadata": {
        "id": "ipBoWqRxa69F",
        "colab_type": "code",
        "colab": {
          "base_uri": "https://localhost:8080/"
        },
        "outputId": "26b45918-568f-4b3f-f5c2-b8bbeb88900c"
      },
      "source": [
        "'pythON'.endswith('on')"
      ],
      "execution_count": null,
      "outputs": [
        {
          "output_type": "execute_result",
          "data": {
            "text/plain": [
              "False"
            ]
          },
          "metadata": {
            "tags": []
          },
          "execution_count": 79
        }
      ]
    },
    {
      "cell_type": "markdown",
      "metadata": {
        "id": "lMbmiCNLYPmc",
        "colab_type": "text"
      },
      "source": [
        "* BONUS: value substitutions with .format()"
      ]
    },
    {
      "cell_type": "code",
      "metadata": {
        "id": "JMApACqObEIc",
        "colab_type": "code",
        "colab": {
          "base_uri": "https://localhost:8080/"
        },
        "outputId": "7a867be2-21b3-4c9b-e776-df1e2a2d4515"
      },
      "source": [
        "\"We will be using python v{}\".format(3.9)"
      ],
      "execution_count": null,
      "outputs": [
        {
          "output_type": "execute_result",
          "data": {
            "text/plain": [
              "'We will be using python v3.9'"
            ]
          },
          "metadata": {
            "tags": []
          },
          "execution_count": 80
        }
      ]
    },
    {
      "cell_type": "code",
      "metadata": {
        "id": "gxB77521bXGz",
        "colab_type": "code",
        "colab": {
          "base_uri": "https://localhost:8080/"
        },
        "outputId": "e5ee543a-4338-44cb-a890-a8d755c456b5"
      },
      "source": [
        "\"We will be using python v{py_v}, pandas v{pa_v}, and numpy v{nu_v}\".format(py_v=3.9, pa_v='1.0.3', nu_v='1.2.1')"
      ],
      "execution_count": null,
      "outputs": [
        {
          "output_type": "execute_result",
          "data": {
            "text/plain": [
              "'We will be using python v3.9, pandas v1.0.3, and numpy v1.2.1'"
            ]
          },
          "metadata": {
            "tags": []
          },
          "execution_count": 81
        }
      ]
    },
    {
      "cell_type": "markdown",
      "metadata": {
        "id": "0CzdUiSNbqyU",
        "colab_type": "text"
      },
      "source": [
        "#### Containers I: Lists"
      ]
    },
    {
      "cell_type": "markdown",
      "metadata": {
        "id": "UKeglmkLczf4",
        "colab_type": "text"
      },
      "source": [
        "* lists are ordered sequences of elements"
      ]
    },
    {
      "cell_type": "code",
      "metadata": {
        "id": "66lFzU3ChV13",
        "colab_type": "code",
        "colab": {}
      },
      "source": [
        "students = ['Andrew', 'Brie', 'Cynthia', 'Dr.Dre']"
      ],
      "execution_count": null,
      "outputs": []
    },
    {
      "cell_type": "markdown",
      "metadata": {
        "id": "OZzjxvVodMzn",
        "colab_type": "text"
      },
      "source": [
        "* we denote them with [ ]"
      ]
    },
    {
      "cell_type": "markdown",
      "metadata": {
        "id": "iB2lNoYhdPyj",
        "colab_type": "text"
      },
      "source": [
        "* each element has an index, the first starting at 0 (zero-based indexing)"
      ]
    },
    {
      "cell_type": "markdown",
      "metadata": {
        "id": "7Gf4PryCdT-s",
        "colab_type": "text"
      },
      "source": [
        "* we select items from lists using the respective index"
      ]
    },
    {
      "cell_type": "code",
      "metadata": {
        "id": "fHm1uEUQhsEy",
        "colab_type": "code",
        "colab": {
          "base_uri": "https://localhost:8080/"
        },
        "outputId": "23219c8a-5227-4960-dfcc-fe415fbec390"
      },
      "source": [
        "students[1]"
      ],
      "execution_count": null,
      "outputs": [
        {
          "output_type": "execute_result",
          "data": {
            "text/plain": [
              "'Brie'"
            ]
          },
          "metadata": {
            "tags": []
          },
          "execution_count": 83
        }
      ]
    },
    {
      "cell_type": "code",
      "metadata": {
        "id": "34Wft7_EhzU7",
        "colab_type": "code",
        "colab": {
          "base_uri": "https://localhost:8080/"
        },
        "outputId": "19608a6b-790b-490e-df45-9f146c0f0577"
      },
      "source": [
        "students[0]"
      ],
      "execution_count": null,
      "outputs": [
        {
          "output_type": "execute_result",
          "data": {
            "text/plain": [
              "'Andrew'"
            ]
          },
          "metadata": {
            "tags": []
          },
          "execution_count": 84
        }
      ]
    },
    {
      "cell_type": "markdown",
      "metadata": {
        "id": "0ZOOJKPMdocB",
        "colab_type": "text"
      },
      "source": [
        "* ...or sequence of indices (list slicing)"
      ]
    },
    {
      "cell_type": "code",
      "metadata": {
        "id": "wN3PDOTVh21q",
        "colab_type": "code",
        "colab": {
          "base_uri": "https://localhost:8080/"
        },
        "outputId": "56e896c7-31a1-416c-c58e-215973d2b95f"
      },
      "source": [
        "students[0:2]"
      ],
      "execution_count": null,
      "outputs": [
        {
          "output_type": "execute_result",
          "data": {
            "text/plain": [
              "['Andrew', 'Brie']"
            ]
          },
          "metadata": {
            "tags": []
          },
          "execution_count": 85
        }
      ]
    },
    {
      "cell_type": "markdown",
      "metadata": {
        "id": "USXv9PjDdtKR",
        "colab_type": "text"
      },
      "source": [
        "* some slicing rules:\n",
        " > lower bound is inclusive, upper bound is exclusive\n",
        "\n",
        " > we could also select from the end using a negative indexing system\n",
        " \n",
        " > if we get out of bounds, pythons throws Indexerror"
      ]
    },
    {
      "cell_type": "code",
      "metadata": {
        "id": "evdyZpq2guQj",
        "colab_type": "code",
        "colab": {}
      },
      "source": [
        "# last element:"
      ],
      "execution_count": null,
      "outputs": []
    },
    {
      "cell_type": "code",
      "metadata": {
        "id": "PCGcVUWsiOIq",
        "colab_type": "code",
        "colab": {
          "base_uri": "https://localhost:8080/"
        },
        "outputId": "4e3ed340-9be9-414a-f470-c4335f3a8543"
      },
      "source": [
        "students[-3]"
      ],
      "execution_count": null,
      "outputs": [
        {
          "output_type": "execute_result",
          "data": {
            "text/plain": [
              "'Brie'"
            ]
          },
          "metadata": {
            "tags": []
          },
          "execution_count": 87
        }
      ]
    },
    {
      "cell_type": "code",
      "metadata": {
        "id": "_vWgPqNriP_M",
        "colab_type": "code",
        "colab": {}
      },
      "source": [
        "# students[20]"
      ],
      "execution_count": null,
      "outputs": []
    },
    {
      "cell_type": "code",
      "metadata": {
        "id": "aa-pAKdiihmP",
        "colab_type": "code",
        "colab": {}
      },
      "source": [
        "# students[4]"
      ],
      "execution_count": null,
      "outputs": []
    },
    {
      "cell_type": "markdown",
      "metadata": {
        "id": "nZre24Xpin_A",
        "colab_type": "text"
      },
      "source": [
        "#### Lists vs. Strings"
      ]
    },
    {
      "cell_type": "markdown",
      "metadata": {
        "id": "wdqxWsfFlhX7",
        "colab_type": "text"
      },
      "source": [
        "* strings are sequences of characters, whereas"
      ]
    },
    {
      "cell_type": "code",
      "metadata": {
        "id": "xYeqb3qQnjz9",
        "colab_type": "code",
        "colab": {}
      },
      "source": [
        "py = 'python'"
      ],
      "execution_count": null,
      "outputs": []
    },
    {
      "cell_type": "code",
      "metadata": {
        "id": "AZUsCn4OnlWZ",
        "colab_type": "code",
        "colab": {
          "base_uri": "https://localhost:8080/"
        },
        "outputId": "1038da1f-430a-441c-916d-62c1337b037d"
      },
      "source": [
        "type(py)"
      ],
      "execution_count": null,
      "outputs": [
        {
          "output_type": "execute_result",
          "data": {
            "text/plain": [
              "str"
            ]
          },
          "metadata": {
            "tags": []
          },
          "execution_count": 91
        }
      ]
    },
    {
      "cell_type": "markdown",
      "metadata": {
        "id": "2ihArNk7lmZo",
        "colab_type": "text"
      },
      "source": [
        "* lists are sequences of any object"
      ]
    },
    {
      "cell_type": "code",
      "metadata": {
        "id": "csHq-vL5nn13",
        "colab_type": "code",
        "colab": {
          "base_uri": "https://localhost:8080/"
        },
        "outputId": "953ad235-d1c0-4cc7-8425-8f87bfbc73ae"
      },
      "source": [
        "students"
      ],
      "execution_count": null,
      "outputs": [
        {
          "output_type": "execute_result",
          "data": {
            "text/plain": [
              "['Andrew', 'Brie', 'Cynthia', 'Dr.Dre']"
            ]
          },
          "metadata": {
            "tags": []
          },
          "execution_count": 92
        }
      ]
    },
    {
      "cell_type": "code",
      "metadata": {
        "id": "z3qgaIkDnoup",
        "colab_type": "code",
        "colab": {
          "base_uri": "https://localhost:8080/"
        },
        "outputId": "c9b88620-d3c9-4483-9e2a-cbb9a3468e93"
      },
      "source": [
        "type(students)"
      ],
      "execution_count": null,
      "outputs": [
        {
          "output_type": "execute_result",
          "data": {
            "text/plain": [
              "list"
            ]
          },
          "metadata": {
            "tags": []
          },
          "execution_count": 93
        }
      ]
    },
    {
      "cell_type": "code",
      "metadata": {
        "id": "kWG5u9dQnwfB",
        "colab_type": "code",
        "colab": {
          "base_uri": "https://localhost:8080/"
        },
        "outputId": "352c474f-069a-4a7a-cbf9-9164b4a2c54b"
      },
      "source": [
        "students[0] "
      ],
      "execution_count": null,
      "outputs": [
        {
          "output_type": "execute_result",
          "data": {
            "text/plain": [
              "'Andrew'"
            ]
          },
          "metadata": {
            "tags": []
          },
          "execution_count": 94
        }
      ]
    },
    {
      "cell_type": "code",
      "metadata": {
        "id": "756Nzf8Jn1x4",
        "colab_type": "code",
        "colab": {
          "base_uri": "https://localhost:8080/"
        },
        "outputId": "2421b2f8-1c75-4ba7-cef0-d35c2a151d8d"
      },
      "source": [
        "py[0]"
      ],
      "execution_count": null,
      "outputs": [
        {
          "output_type": "execute_result",
          "data": {
            "text/plain": [
              "'p'"
            ]
          },
          "metadata": {
            "tags": []
          },
          "execution_count": 95
        }
      ]
    },
    {
      "cell_type": "code",
      "metadata": {
        "id": "6GFRmgQFn82v",
        "colab_type": "code",
        "colab": {
          "base_uri": "https://localhost:8080/"
        },
        "outputId": "44d04e81-cc9d-4d23-ea54-d2494ac10f9f"
      },
      "source": [
        "students[0:2]"
      ],
      "execution_count": null,
      "outputs": [
        {
          "output_type": "execute_result",
          "data": {
            "text/plain": [
              "['Andrew', 'Brie']"
            ]
          },
          "metadata": {
            "tags": []
          },
          "execution_count": 96
        }
      ]
    },
    {
      "cell_type": "code",
      "metadata": {
        "id": "1mS3Nv5Rn-wZ",
        "colab_type": "code",
        "colab": {
          "base_uri": "https://localhost:8080/"
        },
        "outputId": "6e2b0d1b-1d33-4575-d10e-4d1d968c60a4"
      },
      "source": [
        "py[0:2]"
      ],
      "execution_count": null,
      "outputs": [
        {
          "output_type": "execute_result",
          "data": {
            "text/plain": [
              "'py'"
            ]
          },
          "metadata": {
            "tags": []
          },
          "execution_count": 97
        }
      ]
    },
    {
      "cell_type": "markdown",
      "metadata": {
        "id": "oK6DTqdQls0u",
        "colab_type": "text"
      },
      "source": [
        "* both lists and strings are ordered"
      ]
    },
    {
      "cell_type": "markdown",
      "metadata": {
        "id": "PsPpxOV-lvUM",
        "colab_type": "text"
      },
      "source": [
        "* BONUS: lists are mutable; strings are immutable"
      ]
    },
    {
      "cell_type": "code",
      "metadata": {
        "id": "3Dn-6sBqoP6m",
        "colab_type": "code",
        "colab": {
          "base_uri": "https://localhost:8080/"
        },
        "outputId": "343b81c3-0955-4b3a-a891-173178d31e56"
      },
      "source": [
        "py"
      ],
      "execution_count": null,
      "outputs": [
        {
          "output_type": "execute_result",
          "data": {
            "text/plain": [
              "'python'"
            ]
          },
          "metadata": {
            "tags": []
          },
          "execution_count": 98
        }
      ]
    },
    {
      "cell_type": "code",
      "metadata": {
        "id": "FeJuCoNJoUnp",
        "colab_type": "code",
        "colab": {
          "base_uri": "https://localhost:8080/"
        },
        "outputId": "5a5e65c8-cc8b-4263-bb32-a95679457d60"
      },
      "source": [
        "py[-1]"
      ],
      "execution_count": null,
      "outputs": [
        {
          "output_type": "execute_result",
          "data": {
            "text/plain": [
              "'n'"
            ]
          },
          "metadata": {
            "tags": []
          },
          "execution_count": 99
        }
      ]
    },
    {
      "cell_type": "code",
      "metadata": {
        "id": "IO7JgW1joYJw",
        "colab_type": "code",
        "colab": {}
      },
      "source": [
        "# py[-1] = 'N' # strings cannot be changed!"
      ],
      "execution_count": null,
      "outputs": []
    },
    {
      "cell_type": "code",
      "metadata": {
        "id": "IMgIx4o5oe58",
        "colab_type": "code",
        "colab": {}
      },
      "source": [
        "py = 'pythoN'"
      ],
      "execution_count": null,
      "outputs": []
    },
    {
      "cell_type": "code",
      "metadata": {
        "id": "VI5qANeXol0t",
        "colab_type": "code",
        "colab": {
          "base_uri": "https://localhost:8080/"
        },
        "outputId": "3eafc6f7-8e31-4c24-ab10-f86be9a49e96"
      },
      "source": [
        "students"
      ],
      "execution_count": null,
      "outputs": [
        {
          "output_type": "execute_result",
          "data": {
            "text/plain": [
              "['Andrew', 'Brie', 'Cynthia', 'Dr.Dre']"
            ]
          },
          "metadata": {
            "tags": []
          },
          "execution_count": 102
        }
      ]
    },
    {
      "cell_type": "code",
      "metadata": {
        "id": "c4Sn7jcVoxmi",
        "colab_type": "code",
        "colab": {
          "base_uri": "https://localhost:8080/"
        },
        "outputId": "de298669-774a-4830-a66c-dc0be487781f"
      },
      "source": [
        "students[-1]"
      ],
      "execution_count": null,
      "outputs": [
        {
          "output_type": "execute_result",
          "data": {
            "text/plain": [
              "'Dr.Dre'"
            ]
          },
          "metadata": {
            "tags": []
          },
          "execution_count": 103
        }
      ]
    },
    {
      "cell_type": "code",
      "metadata": {
        "id": "XnTZacD7o0Zb",
        "colab_type": "code",
        "colab": {}
      },
      "source": [
        "students[-1] = 'Eminem'"
      ],
      "execution_count": null,
      "outputs": []
    },
    {
      "cell_type": "code",
      "metadata": {
        "id": "e44L5VBno5ZN",
        "colab_type": "code",
        "colab": {
          "base_uri": "https://localhost:8080/"
        },
        "outputId": "3850e273-bfc0-4ec8-b1f5-c4288162dce5"
      },
      "source": [
        "students"
      ],
      "execution_count": null,
      "outputs": [
        {
          "output_type": "execute_result",
          "data": {
            "text/plain": [
              "['Andrew', 'Brie', 'Cynthia', 'Eminem']"
            ]
          },
          "metadata": {
            "tags": []
          },
          "execution_count": 105
        }
      ]
    },
    {
      "cell_type": "markdown",
      "metadata": {
        "id": "sIsjdMf-o6cU",
        "colab_type": "text"
      },
      "source": [
        "#### List Methods And Functions"
      ]
    },
    {
      "cell_type": "markdown",
      "metadata": {
        "id": "cbJctzbwpT33",
        "colab_type": "text"
      },
      "source": [
        "* built-in functions: max, len, min, sorted"
      ]
    },
    {
      "cell_type": "code",
      "metadata": {
        "id": "K_IKghOhvQc6",
        "colab_type": "code",
        "colab": {}
      },
      "source": [
        "ages = [23, 39, 12, 12.1]"
      ],
      "execution_count": null,
      "outputs": []
    },
    {
      "cell_type": "code",
      "metadata": {
        "id": "KYjE3S4CvVYn",
        "colab_type": "code",
        "colab": {
          "base_uri": "https://localhost:8080/"
        },
        "outputId": "1c4c1ad7-425b-42f0-926b-e96ca2c9c296"
      },
      "source": [
        "type(ages)"
      ],
      "execution_count": null,
      "outputs": [
        {
          "output_type": "execute_result",
          "data": {
            "text/plain": [
              "list"
            ]
          },
          "metadata": {
            "tags": []
          },
          "execution_count": 107
        }
      ]
    },
    {
      "cell_type": "code",
      "metadata": {
        "id": "vtGrheNrvWzn",
        "colab_type": "code",
        "colab": {
          "base_uri": "https://localhost:8080/"
        },
        "outputId": "d2b25af4-6a90-44e5-9048-3eef92beccc1"
      },
      "source": [
        "max(ages)"
      ],
      "execution_count": null,
      "outputs": [
        {
          "output_type": "execute_result",
          "data": {
            "text/plain": [
              "39"
            ]
          },
          "metadata": {
            "tags": []
          },
          "execution_count": 108
        }
      ]
    },
    {
      "cell_type": "code",
      "metadata": {
        "id": "rwqkXW7gvbNm",
        "colab_type": "code",
        "colab": {
          "base_uri": "https://localhost:8080/"
        },
        "outputId": "2ab36fc6-591c-45c4-d7d5-a3cb383d401e"
      },
      "source": [
        "min(ages)"
      ],
      "execution_count": null,
      "outputs": [
        {
          "output_type": "execute_result",
          "data": {
            "text/plain": [
              "12"
            ]
          },
          "metadata": {
            "tags": []
          },
          "execution_count": 109
        }
      ]
    },
    {
      "cell_type": "code",
      "metadata": {
        "id": "QqzKw23ZvdK5",
        "colab_type": "code",
        "colab": {
          "base_uri": "https://localhost:8080/"
        },
        "outputId": "5227dffe-d738-4510-ca5c-06891b3728d2"
      },
      "source": [
        "len(ages)"
      ],
      "execution_count": null,
      "outputs": [
        {
          "output_type": "execute_result",
          "data": {
            "text/plain": [
              "4"
            ]
          },
          "metadata": {
            "tags": []
          },
          "execution_count": 110
        }
      ]
    },
    {
      "cell_type": "code",
      "metadata": {
        "id": "Z3d3GGMpvhQ5",
        "colab_type": "code",
        "colab": {
          "base_uri": "https://localhost:8080/"
        },
        "outputId": "4c35c645-43ed-4cd9-f212-39deae6d6dc5"
      },
      "source": [
        "sorted(ages)"
      ],
      "execution_count": null,
      "outputs": [
        {
          "output_type": "execute_result",
          "data": {
            "text/plain": [
              "[12, 12.1, 23, 39]"
            ]
          },
          "metadata": {
            "tags": []
          },
          "execution_count": 111
        }
      ]
    },
    {
      "cell_type": "code",
      "metadata": {
        "id": "tbyMq5BrvofH",
        "colab_type": "code",
        "colab": {
          "base_uri": "https://localhost:8080/"
        },
        "outputId": "91c8fa22-3b46-41dd-ac2e-f80b048e90fc"
      },
      "source": [
        "sorted(ages, reverse=True)"
      ],
      "execution_count": null,
      "outputs": [
        {
          "output_type": "execute_result",
          "data": {
            "text/plain": [
              "[39, 23, 12.1, 12]"
            ]
          },
          "metadata": {
            "tags": []
          },
          "execution_count": 112
        }
      ]
    },
    {
      "cell_type": "markdown",
      "metadata": {
        "id": "W9QW_ydmqVf-",
        "colab_type": "text"
      },
      "source": [
        "* methods:\n",
        " > .append() to add items to a list\n",
        "\n",
        " > .pop() to remove by index\n",
        "\n",
        " > .remove() to remove by item \n",
        "\n",
        " > str.join(list) to join all elements of a list into a string"
      ]
    },
    {
      "cell_type": "code",
      "metadata": {
        "id": "7QpVbXP4qe8S",
        "colab_type": "code",
        "colab": {
          "base_uri": "https://localhost:8080/"
        },
        "outputId": "cacfc170-2368-4232-f9b7-427383ac907d"
      },
      "source": [
        "ages"
      ],
      "execution_count": null,
      "outputs": [
        {
          "output_type": "execute_result",
          "data": {
            "text/plain": [
              "[23, 39, 12, 12.1]"
            ]
          },
          "metadata": {
            "tags": []
          },
          "execution_count": 113
        }
      ]
    },
    {
      "cell_type": "code",
      "metadata": {
        "id": "Z4DfsOcnvakA",
        "colab_type": "code",
        "colab": {}
      },
      "source": [
        "ages.append(24) # adds the element to the list; returns nothing"
      ],
      "execution_count": null,
      "outputs": []
    },
    {
      "cell_type": "code",
      "metadata": {
        "id": "LMTa0QZNwAW4",
        "colab_type": "code",
        "colab": {
          "base_uri": "https://localhost:8080/"
        },
        "outputId": "b37f932b-e30e-4bb0-a1b2-3b54c8b7faa2"
      },
      "source": [
        "ages"
      ],
      "execution_count": null,
      "outputs": [
        {
          "output_type": "execute_result",
          "data": {
            "text/plain": [
              "[23, 39, 12, 12.1, 24]"
            ]
          },
          "metadata": {
            "tags": []
          },
          "execution_count": 115
        }
      ]
    },
    {
      "cell_type": "code",
      "metadata": {
        "id": "KFUTu6jJwCJ3",
        "colab_type": "code",
        "colab": {
          "base_uri": "https://localhost:8080/"
        },
        "outputId": "2cee4697-e209-456d-f9a8-2028883e02a7"
      },
      "source": [
        "ages.pop(-1) # removes the element from the list; return the removed element"
      ],
      "execution_count": null,
      "outputs": [
        {
          "output_type": "execute_result",
          "data": {
            "text/plain": [
              "24"
            ]
          },
          "metadata": {
            "tags": []
          },
          "execution_count": 116
        }
      ]
    },
    {
      "cell_type": "code",
      "metadata": {
        "id": "hoNf39Q7wTUI",
        "colab_type": "code",
        "colab": {
          "base_uri": "https://localhost:8080/"
        },
        "outputId": "6d65752a-17e9-43cb-f68c-66ade4385e12"
      },
      "source": [
        "ages"
      ],
      "execution_count": null,
      "outputs": [
        {
          "output_type": "execute_result",
          "data": {
            "text/plain": [
              "[23, 39, 12, 12.1]"
            ]
          },
          "metadata": {
            "tags": []
          },
          "execution_count": 117
        }
      ]
    },
    {
      "cell_type": "code",
      "metadata": {
        "id": "vYGL73juwXPf",
        "colab_type": "code",
        "colab": {}
      },
      "source": [
        "# ages.pop(2) "
      ],
      "execution_count": null,
      "outputs": []
    },
    {
      "cell_type": "code",
      "metadata": {
        "id": "cu4FzodOwaej",
        "colab_type": "code",
        "colab": {}
      },
      "source": [
        "ages.remove(12)"
      ],
      "execution_count": null,
      "outputs": []
    },
    {
      "cell_type": "code",
      "metadata": {
        "id": "opQ17_JZwbc6",
        "colab_type": "code",
        "colab": {
          "base_uri": "https://localhost:8080/"
        },
        "outputId": "32f92a81-865a-4525-de57-8e0cd2dec9b3"
      },
      "source": [
        "ages"
      ],
      "execution_count": null,
      "outputs": [
        {
          "output_type": "execute_result",
          "data": {
            "text/plain": [
              "[23, 39, 12.1]"
            ]
          },
          "metadata": {
            "tags": []
          },
          "execution_count": 120
        }
      ]
    },
    {
      "cell_type": "code",
      "metadata": {
        "id": "8e5A7PmiwcNO",
        "colab_type": "code",
        "colab": {
          "base_uri": "https://localhost:8080/"
        },
        "outputId": "b69676c3-b3eb-45c5-d9aa-7bc4fba68b94"
      },
      "source": [
        "students"
      ],
      "execution_count": null,
      "outputs": [
        {
          "output_type": "execute_result",
          "data": {
            "text/plain": [
              "['Andrew', 'Brie', 'Cynthia', 'Eminem']"
            ]
          },
          "metadata": {
            "tags": []
          },
          "execution_count": 121
        }
      ]
    },
    {
      "cell_type": "code",
      "metadata": {
        "id": "p0vd5mX-wnIU",
        "colab_type": "code",
        "colab": {
          "base_uri": "https://localhost:8080/"
        },
        "outputId": "d44e66ad-9c9c-46a9-bc20-6617f21856a5"
      },
      "source": [
        "''.join(students)"
      ],
      "execution_count": null,
      "outputs": [
        {
          "output_type": "execute_result",
          "data": {
            "text/plain": [
              "'AndrewBrieCynthiaEminem'"
            ]
          },
          "metadata": {
            "tags": []
          },
          "execution_count": 122
        }
      ]
    },
    {
      "cell_type": "code",
      "metadata": {
        "id": "axC_LCoew0r1",
        "colab_type": "code",
        "colab": {
          "base_uri": "https://localhost:8080/"
        },
        "outputId": "32f85092-9e19-4c22-bc73-c36579012b30"
      },
      "source": [
        "type(''.join(students))"
      ],
      "execution_count": null,
      "outputs": [
        {
          "output_type": "execute_result",
          "data": {
            "text/plain": [
              "str"
            ]
          },
          "metadata": {
            "tags": []
          },
          "execution_count": 123
        }
      ]
    },
    {
      "cell_type": "code",
      "metadata": {
        "id": "EU0wouXNw370",
        "colab_type": "code",
        "colab": {
          "base_uri": "https://localhost:8080/"
        },
        "outputId": "32282b63-8a86-478c-e218-15fdf73b65fc"
      },
      "source": [
        "', '.join(students)"
      ],
      "execution_count": null,
      "outputs": [
        {
          "output_type": "execute_result",
          "data": {
            "text/plain": [
              "'Andrew, Brie, Cynthia, Eminem'"
            ]
          },
          "metadata": {
            "tags": []
          },
          "execution_count": 124
        }
      ]
    },
    {
      "cell_type": "markdown",
      "metadata": {
        "id": "zlYp5hEJw6jr",
        "colab_type": "text"
      },
      "source": [
        "#### Containers II: Tuples"
      ]
    },
    {
      "cell_type": "markdown",
      "metadata": {
        "id": "fYtFAnalx1HE",
        "colab_type": "text"
      },
      "source": [
        "* tuples are ordered and immutable containers of elements"
      ]
    },
    {
      "cell_type": "code",
      "metadata": {
        "id": "4X_dOp7azZrh",
        "colab_type": "code",
        "colab": {}
      },
      "source": [
        "u_data = ('Ronald', 59)"
      ],
      "execution_count": null,
      "outputs": []
    },
    {
      "cell_type": "code",
      "metadata": {
        "id": "4rFHpjsQzdNB",
        "colab_type": "code",
        "colab": {
          "base_uri": "https://localhost:8080/"
        },
        "outputId": "43655404-560d-45f2-8a59-49b9235722d2"
      },
      "source": [
        "type(u_data)"
      ],
      "execution_count": null,
      "outputs": [
        {
          "output_type": "execute_result",
          "data": {
            "text/plain": [
              "tuple"
            ]
          },
          "metadata": {
            "tags": []
          },
          "execution_count": 126
        }
      ]
    },
    {
      "cell_type": "code",
      "metadata": {
        "id": "x2O3N7g3zgGm",
        "colab_type": "code",
        "colab": {}
      },
      "source": [
        "u_data_2 = 'Donald', 64"
      ],
      "execution_count": null,
      "outputs": []
    },
    {
      "cell_type": "code",
      "metadata": {
        "id": "iuJFqiG2zijV",
        "colab_type": "code",
        "colab": {
          "base_uri": "https://localhost:8080/"
        },
        "outputId": "ec22eebb-19f4-4b51-d8f8-cd5049abba1d"
      },
      "source": [
        "type(u_data_2)"
      ],
      "execution_count": null,
      "outputs": [
        {
          "output_type": "execute_result",
          "data": {
            "text/plain": [
              "tuple"
            ]
          },
          "metadata": {
            "tags": []
          },
          "execution_count": 128
        }
      ]
    },
    {
      "cell_type": "markdown",
      "metadata": {
        "id": "b7z5qnSdyCsN",
        "colab_type": "text"
      },
      "source": [
        "* denoted using parentheses... though optional"
      ]
    },
    {
      "cell_type": "markdown",
      "metadata": {
        "id": "SS38lP9-yLP9",
        "colab_type": "text"
      },
      "source": [
        "* each element has a zero-based index (just like lists)"
      ]
    },
    {
      "cell_type": "code",
      "metadata": {
        "id": "XmJ5z26fzst_",
        "colab_type": "code",
        "colab": {
          "base_uri": "https://localhost:8080/"
        },
        "outputId": "8de024d5-9cd7-4bf9-e994-c4cbfb907d35"
      },
      "source": [
        "students"
      ],
      "execution_count": null,
      "outputs": [
        {
          "output_type": "execute_result",
          "data": {
            "text/plain": [
              "['Andrew', 'Brie', 'Cynthia', 'Eminem']"
            ]
          },
          "metadata": {
            "tags": []
          },
          "execution_count": 129
        }
      ]
    },
    {
      "cell_type": "code",
      "metadata": {
        "id": "r6yPwXoszuH5",
        "colab_type": "code",
        "colab": {
          "base_uri": "https://localhost:8080/"
        },
        "outputId": "a5cd1e2d-f262-4ebc-fe0e-5eee2bcf7e69"
      },
      "source": [
        "students[0]"
      ],
      "execution_count": null,
      "outputs": [
        {
          "output_type": "execute_result",
          "data": {
            "text/plain": [
              "'Andrew'"
            ]
          },
          "metadata": {
            "tags": []
          },
          "execution_count": 130
        }
      ]
    },
    {
      "cell_type": "code",
      "metadata": {
        "id": "FesOH2NpzvPh",
        "colab_type": "code",
        "colab": {
          "base_uri": "https://localhost:8080/"
        },
        "outputId": "313d8830-6cdc-449b-cb5e-06974189bef6"
      },
      "source": [
        "u_data_2"
      ],
      "execution_count": null,
      "outputs": [
        {
          "output_type": "execute_result",
          "data": {
            "text/plain": [
              "('Donald', 64)"
            ]
          },
          "metadata": {
            "tags": []
          },
          "execution_count": 131
        }
      ]
    },
    {
      "cell_type": "code",
      "metadata": {
        "id": "Q2aKxXDYzxu_",
        "colab_type": "code",
        "colab": {
          "base_uri": "https://localhost:8080/"
        },
        "outputId": "af1533a5-68c0-4f3d-e0de-86fd44ff0910"
      },
      "source": [
        "u_data_2[1]"
      ],
      "execution_count": null,
      "outputs": [
        {
          "output_type": "execute_result",
          "data": {
            "text/plain": [
              "64"
            ]
          },
          "metadata": {
            "tags": []
          },
          "execution_count": 132
        }
      ]
    },
    {
      "cell_type": "code",
      "metadata": {
        "id": "ZoHnCg49z5dD",
        "colab_type": "code",
        "colab": {}
      },
      "source": [
        "# u_data_2[0] = 'Barack'"
      ],
      "execution_count": null,
      "outputs": []
    },
    {
      "cell_type": "markdown",
      "metadata": {
        "id": "V4gpVCx3x3uy",
        "colab_type": "text"
      },
      "source": [
        "* typically used to store values that are closely related together"
      ]
    },
    {
      "cell_type": "code",
      "metadata": {
        "id": "YbGol-ub0GEW",
        "colab_type": "code",
        "colab": {}
      },
      "source": [
        "# SAT scores -> math, writing, reading"
      ],
      "execution_count": null,
      "outputs": []
    },
    {
      "cell_type": "code",
      "metadata": {
        "id": "Lw2e_BJm0JZj",
        "colab_type": "code",
        "colab": {}
      },
      "source": [
        "sat_score = 790, 780, 640"
      ],
      "execution_count": null,
      "outputs": []
    },
    {
      "cell_type": "code",
      "metadata": {
        "id": "xVDHuWKU0ObW",
        "colab_type": "code",
        "colab": {
          "base_uri": "https://localhost:8080/"
        },
        "outputId": "d5bc00b8-34df-4c19-8b61-180f14b9dcbf"
      },
      "source": [
        "sat_score"
      ],
      "execution_count": null,
      "outputs": [
        {
          "output_type": "execute_result",
          "data": {
            "text/plain": [
              "(790, 780, 640)"
            ]
          },
          "metadata": {
            "tags": []
          },
          "execution_count": 136
        }
      ]
    },
    {
      "cell_type": "markdown",
      "metadata": {
        "id": "oB9d7UsA0PW2",
        "colab_type": "text"
      },
      "source": [
        "#### Containers III: Sets"
      ]
    },
    {
      "cell_type": "markdown",
      "metadata": {
        "id": "1zW-2nFlCmPx",
        "colab_type": "text"
      },
      "source": [
        "* unordered container of (only) unique values"
      ]
    },
    {
      "cell_type": "markdown",
      "metadata": {
        "id": "02smq8epETPy",
        "colab_type": "text"
      },
      "source": [
        "* constructed using { } and comma-separated elements"
      ]
    },
    {
      "cell_type": "code",
      "metadata": {
        "id": "2CmTDucRLlwm",
        "colab_type": "code",
        "colab": {}
      },
      "source": [
        "degrees = {'BSc', 'MA', 'PhD'}"
      ],
      "execution_count": null,
      "outputs": []
    },
    {
      "cell_type": "code",
      "metadata": {
        "id": "al3uhdStLo0y",
        "colab_type": "code",
        "colab": {
          "base_uri": "https://localhost:8080/"
        },
        "outputId": "5d3cb890-b8a1-497b-a0cc-a200a0d1d1ba"
      },
      "source": [
        "type(degrees)"
      ],
      "execution_count": null,
      "outputs": [
        {
          "output_type": "execute_result",
          "data": {
            "text/plain": [
              "set"
            ]
          },
          "metadata": {
            "tags": []
          },
          "execution_count": 138
        }
      ]
    },
    {
      "cell_type": "code",
      "metadata": {
        "id": "w0fGdID8LvEI",
        "colab_type": "code",
        "colab": {}
      },
      "source": [
        "degrees2 = {'BSc', 'MA', 'PhD', 'MA'}"
      ],
      "execution_count": null,
      "outputs": []
    },
    {
      "cell_type": "code",
      "metadata": {
        "id": "AiQ_xW6vLzzp",
        "colab_type": "code",
        "colab": {
          "base_uri": "https://localhost:8080/"
        },
        "outputId": "2021b966-9664-4730-abaa-351397a84c75"
      },
      "source": [
        "type(degrees2)"
      ],
      "execution_count": null,
      "outputs": [
        {
          "output_type": "execute_result",
          "data": {
            "text/plain": [
              "set"
            ]
          },
          "metadata": {
            "tags": []
          },
          "execution_count": 140
        }
      ]
    },
    {
      "cell_type": "code",
      "metadata": {
        "id": "kpYEVshlL2mQ",
        "colab_type": "code",
        "colab": {
          "base_uri": "https://localhost:8080/"
        },
        "outputId": "d7d8a6c5-7657-4df8-9a65-53f36d3adeec"
      },
      "source": [
        "degrees2"
      ],
      "execution_count": null,
      "outputs": [
        {
          "output_type": "execute_result",
          "data": {
            "text/plain": [
              "{'BSc', 'MA', 'PhD'}"
            ]
          },
          "metadata": {
            "tags": []
          },
          "execution_count": 141
        }
      ]
    },
    {
      "cell_type": "code",
      "metadata": {
        "id": "1nBW8SxrL_E4",
        "colab_type": "code",
        "colab": {}
      },
      "source": [
        "# degrees[0]"
      ],
      "execution_count": null,
      "outputs": []
    },
    {
      "cell_type": "markdown",
      "metadata": {
        "id": "iSHTuAQvDQbZ",
        "colab_type": "text"
      },
      "source": [
        "* .add() and .discard() to add and remove values"
      ]
    },
    {
      "cell_type": "code",
      "metadata": {
        "id": "Ikm_FJ7CMHNj",
        "colab_type": "code",
        "colab": {
          "base_uri": "https://localhost:8080/"
        },
        "outputId": "b37b65f4-5b8f-4c64-89eb-a8693818369c"
      },
      "source": [
        "degrees"
      ],
      "execution_count": null,
      "outputs": [
        {
          "output_type": "execute_result",
          "data": {
            "text/plain": [
              "{'BSc', 'MA', 'PhD'}"
            ]
          },
          "metadata": {
            "tags": []
          },
          "execution_count": 143
        }
      ]
    },
    {
      "cell_type": "code",
      "metadata": {
        "id": "E87rvubeMIev",
        "colab_type": "code",
        "colab": {}
      },
      "source": [
        "degrees.add('BA')"
      ],
      "execution_count": null,
      "outputs": []
    },
    {
      "cell_type": "code",
      "metadata": {
        "id": "xu_3MC87MLYR",
        "colab_type": "code",
        "colab": {
          "base_uri": "https://localhost:8080/"
        },
        "outputId": "205d5125-03f0-4012-8fcd-430090741bed"
      },
      "source": [
        "degrees"
      ],
      "execution_count": null,
      "outputs": [
        {
          "output_type": "execute_result",
          "data": {
            "text/plain": [
              "{'BA', 'BSc', 'MA', 'PhD'}"
            ]
          },
          "metadata": {
            "tags": []
          },
          "execution_count": 145
        }
      ]
    },
    {
      "cell_type": "code",
      "metadata": {
        "id": "zjkWv4aSMNrZ",
        "colab_type": "code",
        "colab": {}
      },
      "source": [
        "degrees.discard('MA')"
      ],
      "execution_count": null,
      "outputs": []
    },
    {
      "cell_type": "code",
      "metadata": {
        "id": "P_uIQfp8MQ2U",
        "colab_type": "code",
        "colab": {
          "base_uri": "https://localhost:8080/"
        },
        "outputId": "e73b202b-9be4-4273-af42-a087a22c4175"
      },
      "source": [
        "degrees"
      ],
      "execution_count": null,
      "outputs": [
        {
          "output_type": "execute_result",
          "data": {
            "text/plain": [
              "{'BA', 'BSc', 'PhD'}"
            ]
          },
          "metadata": {
            "tags": []
          },
          "execution_count": 147
        }
      ]
    },
    {
      "cell_type": "markdown",
      "metadata": {
        "id": "SCN5y4KwDZAi",
        "colab_type": "text"
      },
      "source": [
        "* .intersection(), .difference(), and .union()"
      ]
    },
    {
      "cell_type": "code",
      "metadata": {
        "id": "kjbobi8VMgUM",
        "colab_type": "code",
        "colab": {
          "base_uri": "https://localhost:8080/"
        },
        "outputId": "9d838862-4107-4972-d066-5668aadbc928"
      },
      "source": [
        "degrees"
      ],
      "execution_count": null,
      "outputs": [
        {
          "output_type": "execute_result",
          "data": {
            "text/plain": [
              "{'BA', 'BSc', 'PhD'}"
            ]
          },
          "metadata": {
            "tags": []
          },
          "execution_count": 148
        }
      ]
    },
    {
      "cell_type": "code",
      "metadata": {
        "id": "J7oQnh7QMk9V",
        "colab_type": "code",
        "colab": {
          "base_uri": "https://localhost:8080/"
        },
        "outputId": "edf5bf63-1224-4b89-b403-4b392a0eb27f"
      },
      "source": [
        "degrees2"
      ],
      "execution_count": null,
      "outputs": [
        {
          "output_type": "execute_result",
          "data": {
            "text/plain": [
              "{'BSc', 'MA', 'PhD'}"
            ]
          },
          "metadata": {
            "tags": []
          },
          "execution_count": 149
        }
      ]
    },
    {
      "cell_type": "code",
      "metadata": {
        "id": "iQdlUWJyMl6S",
        "colab_type": "code",
        "colab": {
          "base_uri": "https://localhost:8080/"
        },
        "outputId": "13560022-3db2-41a1-d2a3-98ac304c46dd"
      },
      "source": [
        "degrees.intersection(degrees2)"
      ],
      "execution_count": null,
      "outputs": [
        {
          "output_type": "execute_result",
          "data": {
            "text/plain": [
              "{'BSc', 'PhD'}"
            ]
          },
          "metadata": {
            "tags": []
          },
          "execution_count": 150
        }
      ]
    },
    {
      "cell_type": "code",
      "metadata": {
        "id": "7NmstQDYMuLy",
        "colab_type": "code",
        "colab": {
          "base_uri": "https://localhost:8080/"
        },
        "outputId": "86972a4b-275f-4c2c-9e54-04ca29d5df5a"
      },
      "source": [
        "degrees.union(degrees2) # degrees2.union(degrees)"
      ],
      "execution_count": null,
      "outputs": [
        {
          "output_type": "execute_result",
          "data": {
            "text/plain": [
              "{'BA', 'BSc', 'MA', 'PhD'}"
            ]
          },
          "metadata": {
            "tags": []
          },
          "execution_count": 151
        }
      ]
    },
    {
      "cell_type": "code",
      "metadata": {
        "id": "bJVug2A1M1fZ",
        "colab_type": "code",
        "colab": {
          "base_uri": "https://localhost:8080/"
        },
        "outputId": "3b87663a-14e8-4fad-826d-e58d74cd4eff"
      },
      "source": [
        "degrees.difference(degrees2)"
      ],
      "execution_count": null,
      "outputs": [
        {
          "output_type": "execute_result",
          "data": {
            "text/plain": [
              "{'BA'}"
            ]
          },
          "metadata": {
            "tags": []
          },
          "execution_count": 152
        }
      ]
    },
    {
      "cell_type": "code",
      "metadata": {
        "id": "4Yh2TaQBNJAw",
        "colab_type": "code",
        "colab": {
          "base_uri": "https://localhost:8080/"
        },
        "outputId": "9543b3ca-c99e-4dd1-f906-abe8540974df"
      },
      "source": [
        "degrees2.difference(degrees)"
      ],
      "execution_count": null,
      "outputs": [
        {
          "output_type": "execute_result",
          "data": {
            "text/plain": [
              "{'MA'}"
            ]
          },
          "metadata": {
            "tags": []
          },
          "execution_count": 153
        }
      ]
    },
    {
      "cell_type": "markdown",
      "metadata": {
        "id": "kz7Zap2qDrLf",
        "colab_type": "text"
      },
      "source": [
        "* nice shortcut: remove all duplicate values from a list? use set()."
      ]
    },
    {
      "cell_type": "code",
      "metadata": {
        "id": "GfdEgN2ENPC5",
        "colab_type": "code",
        "colab": {}
      },
      "source": [
        "# task: remove all the unique elements from a list of degrees:"
      ],
      "execution_count": null,
      "outputs": []
    },
    {
      "cell_type": "code",
      "metadata": {
        "id": "y_EClXCjNT4E",
        "colab_type": "code",
        "colab": {}
      },
      "source": [
        "highest_degree_earned = ['BA', 'BA', 'BSc', 'MA', 'MA', 'MA', 'PhD', 'High School GED', 'Some College', 'BA']"
      ],
      "execution_count": null,
      "outputs": []
    },
    {
      "cell_type": "code",
      "metadata": {
        "id": "1T97XiwuNcSU",
        "colab_type": "code",
        "colab": {
          "base_uri": "https://localhost:8080/"
        },
        "outputId": "3e188579-3600-4d94-a251-8e570227bf5e"
      },
      "source": [
        "type(highest_degree_earned)"
      ],
      "execution_count": null,
      "outputs": [
        {
          "output_type": "execute_result",
          "data": {
            "text/plain": [
              "list"
            ]
          },
          "metadata": {
            "tags": []
          },
          "execution_count": 156
        }
      ]
    },
    {
      "cell_type": "code",
      "metadata": {
        "id": "082ZpM7-NfP2",
        "colab_type": "code",
        "colab": {
          "base_uri": "https://localhost:8080/"
        },
        "outputId": "89de8409-9b27-4189-baf9-853d67ef48c3"
      },
      "source": [
        "set(highest_degree_earned)"
      ],
      "execution_count": null,
      "outputs": [
        {
          "output_type": "execute_result",
          "data": {
            "text/plain": [
              "{'BA', 'BSc', 'High School GED', 'MA', 'PhD', 'Some College'}"
            ]
          },
          "metadata": {
            "tags": []
          },
          "execution_count": 157
        }
      ]
    },
    {
      "cell_type": "code",
      "metadata": {
        "id": "qMOIhBGgNmHf",
        "colab_type": "code",
        "colab": {}
      },
      "source": [
        "highest_degree_earned_unique = list(set(highest_degree_earned))"
      ],
      "execution_count": null,
      "outputs": []
    },
    {
      "cell_type": "code",
      "metadata": {
        "id": "vdAZaTAwN3BS",
        "colab_type": "code",
        "colab": {
          "base_uri": "https://localhost:8080/"
        },
        "outputId": "88490dea-f59c-4654-b901-cc06684e6a70"
      },
      "source": [
        "highest_degree_earned_unique"
      ],
      "execution_count": null,
      "outputs": [
        {
          "output_type": "execute_result",
          "data": {
            "text/plain": [
              "['BSc', 'Some College', 'PhD', 'MA', 'BA', 'High School GED']"
            ]
          },
          "metadata": {
            "tags": []
          },
          "execution_count": 159
        }
      ]
    },
    {
      "cell_type": "markdown",
      "metadata": {
        "id": "a_cnJiw-N3pK",
        "colab_type": "text"
      },
      "source": [
        "#### Containers IV: Dictionaries"
      ]
    },
    {
      "cell_type": "markdown",
      "metadata": {
        "id": "MENeqODi1Che",
        "colab_type": "text"
      },
      "source": [
        "* dictionaries are mutable and unordered"
      ]
    },
    {
      "cell_type": "code",
      "metadata": {
        "id": "2aDVI6gF-_za",
        "colab_type": "code",
        "colab": {}
      },
      "source": [
        "student_scores = {'Andrew': 94, 'Jessica': 96, 'Brie': 79}"
      ],
      "execution_count": null,
      "outputs": []
    },
    {
      "cell_type": "code",
      "metadata": {
        "id": "XPls3Lv9_J2E",
        "colab_type": "code",
        "colab": {
          "base_uri": "https://localhost:8080/"
        },
        "outputId": "d3be2e49-e55c-4b94-cb74-501dab210c3e"
      },
      "source": [
        "type(student_scores)"
      ],
      "execution_count": null,
      "outputs": [
        {
          "output_type": "execute_result",
          "data": {
            "text/plain": [
              "dict"
            ]
          },
          "metadata": {
            "tags": []
          },
          "execution_count": 161
        }
      ]
    },
    {
      "cell_type": "markdown",
      "metadata": {
        "id": "KKsQkRAx1Zn0",
        "colab_type": "text"
      },
      "source": [
        "* they are built using { } and key-value pairs"
      ]
    },
    {
      "cell_type": "markdown",
      "metadata": {
        "id": "ojjuPv0L1cbB",
        "colab_type": "text"
      },
      "source": [
        "* values are accessed using [ ] or with .get()"
      ]
    },
    {
      "cell_type": "code",
      "metadata": {
        "id": "1KaVSKTN_Qoa",
        "colab_type": "code",
        "colab": {
          "base_uri": "https://localhost:8080/"
        },
        "outputId": "25ace864-4941-4077-c6e5-14a9d76347e8"
      },
      "source": [
        "student_scores['Jessica']"
      ],
      "execution_count": null,
      "outputs": [
        {
          "output_type": "execute_result",
          "data": {
            "text/plain": [
              "96"
            ]
          },
          "metadata": {
            "tags": []
          },
          "execution_count": 162
        }
      ]
    },
    {
      "cell_type": "code",
      "metadata": {
        "id": "3kkRUaio_U4J",
        "colab_type": "code",
        "colab": {
          "base_uri": "https://localhost:8080/"
        },
        "outputId": "26e817ec-932b-4a3f-aaea-f769b8e8f245"
      },
      "source": [
        "student_scores['Brie']"
      ],
      "execution_count": null,
      "outputs": [
        {
          "output_type": "execute_result",
          "data": {
            "text/plain": [
              "79"
            ]
          },
          "metadata": {
            "tags": []
          },
          "execution_count": 163
        }
      ]
    },
    {
      "cell_type": "code",
      "metadata": {
        "id": "8INC1O8x_W-E",
        "colab_type": "code",
        "colab": {}
      },
      "source": [
        "# student_scores['Andy']"
      ],
      "execution_count": null,
      "outputs": []
    },
    {
      "cell_type": "code",
      "metadata": {
        "id": "wXL1kUWy_jWE",
        "colab_type": "code",
        "colab": {
          "base_uri": "https://localhost:8080/"
        },
        "outputId": "e9da8926-761b-4137-fa40-e61662a915bc"
      },
      "source": [
        "student_scores.get('Jessica')"
      ],
      "execution_count": null,
      "outputs": [
        {
          "output_type": "execute_result",
          "data": {
            "text/plain": [
              "96"
            ]
          },
          "metadata": {
            "tags": []
          },
          "execution_count": 165
        }
      ]
    },
    {
      "cell_type": "code",
      "metadata": {
        "id": "4wKOv6KZ_qJ3",
        "colab_type": "code",
        "colab": {}
      },
      "source": [
        "student_scores.get('Andy')"
      ],
      "execution_count": null,
      "outputs": []
    },
    {
      "cell_type": "code",
      "metadata": {
        "id": "0owL4UDU_tT-",
        "colab_type": "code",
        "colab": {
          "base_uri": "https://localhost:8080/"
        },
        "outputId": "f2990c21-a8ea-4c21-9468-91b019de5c7c"
      },
      "source": [
        "print(student_scores.get('Andy'))"
      ],
      "execution_count": null,
      "outputs": [
        {
          "output_type": "stream",
          "text": [
            "None\n"
          ],
          "name": "stdout"
        }
      ]
    },
    {
      "cell_type": "markdown",
      "metadata": {
        "id": "uzGhvIhL5XHZ",
        "colab_type": "text"
      },
      "source": [
        "* adding and removing elements: dict[key] = value and dict.pop(key)"
      ]
    },
    {
      "cell_type": "code",
      "metadata": {
        "id": "qbhHgARZ_zOi",
        "colab_type": "code",
        "colab": {
          "base_uri": "https://localhost:8080/"
        },
        "outputId": "8f2152db-fdba-46c5-b44e-4cc0da839f80"
      },
      "source": [
        "student_scores"
      ],
      "execution_count": null,
      "outputs": [
        {
          "output_type": "execute_result",
          "data": {
            "text/plain": [
              "{'Andrew': 94, 'Brie': 79, 'Jessica': 96}"
            ]
          },
          "metadata": {
            "tags": []
          },
          "execution_count": 168
        }
      ]
    },
    {
      "cell_type": "code",
      "metadata": {
        "id": "vMUXFtzJ_0QW",
        "colab_type": "code",
        "colab": {}
      },
      "source": [
        "# -> Tom got a 69"
      ],
      "execution_count": null,
      "outputs": []
    },
    {
      "cell_type": "code",
      "metadata": {
        "id": "YEPR6d9c_26Y",
        "colab_type": "code",
        "colab": {}
      },
      "source": [
        "student_scores['Tom'] = 69"
      ],
      "execution_count": null,
      "outputs": []
    },
    {
      "cell_type": "code",
      "metadata": {
        "id": "AYx-3urb_52G",
        "colab_type": "code",
        "colab": {
          "base_uri": "https://localhost:8080/"
        },
        "outputId": "39df18ce-e857-4cb7-f1d1-16e82d8b4d90"
      },
      "source": [
        "student_scores"
      ],
      "execution_count": null,
      "outputs": [
        {
          "output_type": "execute_result",
          "data": {
            "text/plain": [
              "{'Andrew': 94, 'Brie': 79, 'Jessica': 96, 'Tom': 69}"
            ]
          },
          "metadata": {
            "tags": []
          },
          "execution_count": 171
        }
      ]
    },
    {
      "cell_type": "code",
      "metadata": {
        "id": "oqz75nFP_9kN",
        "colab_type": "code",
        "colab": {
          "base_uri": "https://localhost:8080/"
        },
        "outputId": "b9af10c5-cb71-4ade-876d-d5d890dbc11b"
      },
      "source": [
        "student_scores.pop('Brie')"
      ],
      "execution_count": null,
      "outputs": [
        {
          "output_type": "execute_result",
          "data": {
            "text/plain": [
              "79"
            ]
          },
          "metadata": {
            "tags": []
          },
          "execution_count": 172
        }
      ]
    },
    {
      "cell_type": "code",
      "metadata": {
        "id": "-BR4AprEACqK",
        "colab_type": "code",
        "colab": {
          "base_uri": "https://localhost:8080/"
        },
        "outputId": "77a643d9-ba79-4fc6-eace-eb0958019951"
      },
      "source": [
        "student_scores"
      ],
      "execution_count": null,
      "outputs": [
        {
          "output_type": "execute_result",
          "data": {
            "text/plain": [
              "{'Andrew': 94, 'Jessica': 96, 'Tom': 69}"
            ]
          },
          "metadata": {
            "tags": []
          },
          "execution_count": 173
        }
      ]
    },
    {
      "cell_type": "markdown",
      "metadata": {
        "id": "dA6q42rfADbU",
        "colab_type": "text"
      },
      "source": [
        "#### Dictionary Keys And Values"
      ]
    },
    {
      "cell_type": "code",
      "metadata": {
        "id": "y4baav1jApIU",
        "colab_type": "code",
        "colab": {
          "base_uri": "https://localhost:8080/"
        },
        "outputId": "de0aac8a-dcab-4b4a-d25a-d9447111cf76"
      },
      "source": [
        "student_scores"
      ],
      "execution_count": null,
      "outputs": [
        {
          "output_type": "execute_result",
          "data": {
            "text/plain": [
              "{'Andrew': 94, 'Jessica': 96, 'Tom': 69}"
            ]
          },
          "metadata": {
            "tags": []
          },
          "execution_count": 174
        }
      ]
    },
    {
      "cell_type": "markdown",
      "metadata": {
        "id": "Ek_6MkmmAdW4",
        "colab_type": "text"
      },
      "source": [
        "* the values could be any other value or container object, even other dictionaries"
      ]
    },
    {
      "cell_type": "code",
      "metadata": {
        "id": "BYy_tI7ABCOv",
        "colab_type": "code",
        "colab": {}
      },
      "source": [
        "student_scores2 = {\n",
        "    'Andrew': 94,\n",
        "    'Jessica': [96, 93],\n",
        "    'Tom': {\n",
        "        'bio': 94,\n",
        "        'chem': 84,\n",
        "        'phys': 79\n",
        "    }\n",
        "}"
      ],
      "execution_count": null,
      "outputs": []
    },
    {
      "cell_type": "code",
      "metadata": {
        "id": "BTk9ZAKpBXiR",
        "colab_type": "code",
        "colab": {
          "base_uri": "https://localhost:8080/"
        },
        "outputId": "d3aa1da2-6ce6-439e-b28a-4cbe1075e7d9"
      },
      "source": [
        "type(student_scores2)"
      ],
      "execution_count": null,
      "outputs": [
        {
          "output_type": "execute_result",
          "data": {
            "text/plain": [
              "dict"
            ]
          },
          "metadata": {
            "tags": []
          },
          "execution_count": 176
        }
      ]
    },
    {
      "cell_type": "code",
      "metadata": {
        "id": "bcPmwhy0BbOt",
        "colab_type": "code",
        "colab": {
          "base_uri": "https://localhost:8080/"
        },
        "outputId": "3f726cdd-aeae-4cfb-cd6f-6b1ee93edc0c"
      },
      "source": [
        "student_scores2"
      ],
      "execution_count": null,
      "outputs": [
        {
          "output_type": "execute_result",
          "data": {
            "text/plain": [
              "{'Andrew': 94, 'Jessica': [96, 93], 'Tom': {'bio': 94, 'chem': 84, 'phys': 79}}"
            ]
          },
          "metadata": {
            "tags": []
          },
          "execution_count": 177
        }
      ]
    },
    {
      "cell_type": "markdown",
      "metadata": {
        "id": "OIUvGoVKAfqi",
        "colab_type": "text"
      },
      "source": [
        "* the keys could be any immutable data type"
      ]
    },
    {
      "cell_type": "code",
      "metadata": {
        "id": "pzBStt87Blh2",
        "colab_type": "code",
        "colab": {}
      },
      "source": [
        "student_scores3 = {\n",
        "    'Andrew': 94,\n",
        "    7: [96, 93],\n",
        "    ('Tom', 'Winklevoss'): {\n",
        "        'bio': 94,\n",
        "        'chem': 84,\n",
        "        'phys': 79\n",
        "    }\n",
        "}"
      ],
      "execution_count": null,
      "outputs": []
    },
    {
      "cell_type": "code",
      "metadata": {
        "id": "_bxjfSd9By1p",
        "colab_type": "code",
        "colab": {
          "base_uri": "https://localhost:8080/"
        },
        "outputId": "d0be62b8-572f-49ef-f617-f2153ae537ac"
      },
      "source": [
        "type(student_scores3)"
      ],
      "execution_count": null,
      "outputs": [
        {
          "output_type": "execute_result",
          "data": {
            "text/plain": [
              "dict"
            ]
          },
          "metadata": {
            "tags": []
          },
          "execution_count": 179
        }
      ]
    },
    {
      "cell_type": "code",
      "metadata": {
        "id": "92cP7D2YB0pT",
        "colab_type": "code",
        "colab": {
          "base_uri": "https://localhost:8080/"
        },
        "outputId": "07499143-1558-426b-ccf8-031c0f13cbd6"
      },
      "source": [
        "student_scores3"
      ],
      "execution_count": null,
      "outputs": [
        {
          "output_type": "execute_result",
          "data": {
            "text/plain": [
              "{('Tom', 'Winklevoss'): {'bio': 94, 'chem': 84, 'phys': 79},\n",
              " 7: [96, 93],\n",
              " 'Andrew': 94}"
            ]
          },
          "metadata": {
            "tags": []
          },
          "execution_count": 180
        }
      ]
    },
    {
      "cell_type": "markdown",
      "metadata": {
        "id": "vcZ3-IluA07h",
        "colab_type": "text"
      },
      "source": [
        "* .keys(), .values(), .items()"
      ]
    },
    {
      "cell_type": "code",
      "metadata": {
        "id": "K7tKB2ngCLOz",
        "colab_type": "code",
        "colab": {
          "base_uri": "https://localhost:8080/"
        },
        "outputId": "44646cc4-6b21-490f-df53-c6a33cd15f92"
      },
      "source": [
        "student_scores"
      ],
      "execution_count": null,
      "outputs": [
        {
          "output_type": "execute_result",
          "data": {
            "text/plain": [
              "{'Andrew': 94, 'Jessica': 96, 'Tom': 69}"
            ]
          },
          "metadata": {
            "tags": []
          },
          "execution_count": 181
        }
      ]
    },
    {
      "cell_type": "code",
      "metadata": {
        "id": "DftrgUeJCQuw",
        "colab_type": "code",
        "colab": {
          "base_uri": "https://localhost:8080/"
        },
        "outputId": "61564b03-4ed1-4f64-a2b2-d7dd1ad83174"
      },
      "source": [
        "student_scores.keys()"
      ],
      "execution_count": null,
      "outputs": [
        {
          "output_type": "execute_result",
          "data": {
            "text/plain": [
              "dict_keys(['Andrew', 'Jessica', 'Tom'])"
            ]
          },
          "metadata": {
            "tags": []
          },
          "execution_count": 182
        }
      ]
    },
    {
      "cell_type": "code",
      "metadata": {
        "id": "l34Q2ZoMChCA",
        "colab_type": "code",
        "colab": {
          "base_uri": "https://localhost:8080/"
        },
        "outputId": "cfc1dbcc-aa83-4b98-c0ad-6e048dab95fb"
      },
      "source": [
        "type(student_scores.keys())"
      ],
      "execution_count": null,
      "outputs": [
        {
          "output_type": "execute_result",
          "data": {
            "text/plain": [
              "dict_keys"
            ]
          },
          "metadata": {
            "tags": []
          },
          "execution_count": 183
        }
      ]
    },
    {
      "cell_type": "code",
      "metadata": {
        "id": "pA8vLdAjCSC_",
        "colab_type": "code",
        "colab": {
          "base_uri": "https://localhost:8080/"
        },
        "outputId": "f084f5e0-51c0-48ab-d67b-c5e868fcbb61"
      },
      "source": [
        "student_scores.values()"
      ],
      "execution_count": null,
      "outputs": [
        {
          "output_type": "execute_result",
          "data": {
            "text/plain": [
              "dict_values([94, 96, 69])"
            ]
          },
          "metadata": {
            "tags": []
          },
          "execution_count": 184
        }
      ]
    },
    {
      "cell_type": "code",
      "metadata": {
        "id": "aeEd9VP6CXSE",
        "colab_type": "code",
        "colab": {
          "base_uri": "https://localhost:8080/"
        },
        "outputId": "aab1e1a1-0baa-4d09-e656-84cc01470b4a"
      },
      "source": [
        "student_scores.items()"
      ],
      "execution_count": null,
      "outputs": [
        {
          "output_type": "execute_result",
          "data": {
            "text/plain": [
              "dict_items([('Andrew', 94), ('Jessica', 96), ('Tom', 69)])"
            ]
          },
          "metadata": {
            "tags": []
          },
          "execution_count": 185
        }
      ]
    },
    {
      "cell_type": "markdown",
      "metadata": {
        "id": "PTLHHmgdCZbq",
        "colab_type": "text"
      },
      "source": [
        "#### Membership Operators"
      ]
    },
    {
      "cell_type": "code",
      "metadata": {
        "id": "tV3oB3Y1DJ_E",
        "colab_type": "code",
        "colab": {
          "base_uri": "https://localhost:8080/"
        },
        "outputId": "fa409568-9f6f-4297-9440-a5c787089b3e"
      },
      "source": [
        "student_scores # dict"
      ],
      "execution_count": null,
      "outputs": [
        {
          "output_type": "execute_result",
          "data": {
            "text/plain": [
              "{'Andrew': 94, 'Jessica': 96, 'Tom': 69}"
            ]
          },
          "metadata": {
            "tags": []
          },
          "execution_count": 186
        }
      ]
    },
    {
      "cell_type": "code",
      "metadata": {
        "id": "404M7fKhDc42",
        "colab_type": "code",
        "colab": {
          "base_uri": "https://localhost:8080/"
        },
        "outputId": "c3e9fd66-0781-43d1-ceb6-7f4193e4570f"
      },
      "source": [
        "students # list"
      ],
      "execution_count": null,
      "outputs": [
        {
          "output_type": "execute_result",
          "data": {
            "text/plain": [
              "['Andrew', 'Brie', 'Cynthia', 'Eminem']"
            ]
          },
          "metadata": {
            "tags": []
          },
          "execution_count": 187
        }
      ]
    },
    {
      "cell_type": "code",
      "metadata": {
        "id": "mRnTT8DhDd40",
        "colab_type": "code",
        "colab": {
          "base_uri": "https://localhost:8080/"
        },
        "outputId": "0b1585ed-91f0-4c7d-9119-d548f764a86d"
      },
      "source": [
        "u_data # tuple"
      ],
      "execution_count": null,
      "outputs": [
        {
          "output_type": "execute_result",
          "data": {
            "text/plain": [
              "('Ronald', 59)"
            ]
          },
          "metadata": {
            "tags": []
          },
          "execution_count": 188
        }
      ]
    },
    {
      "cell_type": "code",
      "metadata": {
        "id": "olnprliyDnko",
        "colab_type": "code",
        "colab": {
          "base_uri": "https://localhost:8080/"
        },
        "outputId": "db98a5d0-12c8-493c-8ce7-e3fbb60aa24b"
      },
      "source": [
        "degrees # set"
      ],
      "execution_count": null,
      "outputs": [
        {
          "output_type": "execute_result",
          "data": {
            "text/plain": [
              "{'BA', 'BSc', 'PhD'}"
            ]
          },
          "metadata": {
            "tags": []
          },
          "execution_count": 189
        }
      ]
    },
    {
      "cell_type": "code",
      "metadata": {
        "id": "KMsp7NYIGcst",
        "colab_type": "code",
        "colab": {
          "base_uri": "https://localhost:8080/"
        },
        "outputId": "5aec3bf9-215d-4cca-d76a-e7fe0697bac6"
      },
      "source": [
        "his_name = \"Andrew Dogood\"\n",
        "his_name # string"
      ],
      "execution_count": null,
      "outputs": [
        {
          "output_type": "execute_result",
          "data": {
            "text/plain": [
              "'Andrew Dogood'"
            ]
          },
          "metadata": {
            "tags": []
          },
          "execution_count": 190
        }
      ]
    },
    {
      "cell_type": "markdown",
      "metadata": {
        "id": "DzAJjUO9DrHu",
        "colab_type": "text"
      },
      "source": [
        "* efficiently test membership with the *in* and *not in* operators"
      ]
    },
    {
      "cell_type": "code",
      "metadata": {
        "id": "QBCBl2-qH7kz",
        "colab_type": "code",
        "colab": {
          "base_uri": "https://localhost:8080/"
        },
        "outputId": "586efbf0-4d5e-46e5-92bc-3d8ffe5acafa"
      },
      "source": [
        "'rew' in his_name"
      ],
      "execution_count": null,
      "outputs": [
        {
          "output_type": "execute_result",
          "data": {
            "text/plain": [
              "True"
            ]
          },
          "metadata": {
            "tags": []
          },
          "execution_count": 191
        }
      ]
    },
    {
      "cell_type": "code",
      "metadata": {
        "id": "_tfIO6iiIHSy",
        "colab_type": "code",
        "colab": {
          "base_uri": "https://localhost:8080/"
        },
        "outputId": "cbcb5bde-060b-42cf-f305-99bc3aee2c8e"
      },
      "source": [
        "'do' not in his_name"
      ],
      "execution_count": null,
      "outputs": [
        {
          "output_type": "execute_result",
          "data": {
            "text/plain": [
              "True"
            ]
          },
          "metadata": {
            "tags": []
          },
          "execution_count": 192
        }
      ]
    },
    {
      "cell_type": "code",
      "metadata": {
        "id": "eHV0v0uoHoEM",
        "colab_type": "code",
        "colab": {
          "base_uri": "https://localhost:8080/"
        },
        "outputId": "774201f5-0260-446b-96d6-fe7619fedeb8"
      },
      "source": [
        "'59' not in u_data"
      ],
      "execution_count": null,
      "outputs": [
        {
          "output_type": "execute_result",
          "data": {
            "text/plain": [
              "True"
            ]
          },
          "metadata": {
            "tags": []
          },
          "execution_count": 193
        }
      ]
    },
    {
      "cell_type": "code",
      "metadata": {
        "id": "Fq4YVYvoHx_v",
        "colab_type": "code",
        "colab": {
          "base_uri": "https://localhost:8080/"
        },
        "outputId": "193a4198-53eb-447a-8468-a021cb291026"
      },
      "source": [
        "'59' in u_data"
      ],
      "execution_count": null,
      "outputs": [
        {
          "output_type": "execute_result",
          "data": {
            "text/plain": [
              "False"
            ]
          },
          "metadata": {
            "tags": []
          },
          "execution_count": 194
        }
      ]
    },
    {
      "cell_type": "code",
      "metadata": {
        "id": "mZXbLZyMHz-A",
        "colab_type": "code",
        "colab": {
          "base_uri": "https://localhost:8080/"
        },
        "outputId": "022c526a-d4cf-494d-b334-c0cece41da1b"
      },
      "source": [
        "'BA' in degrees"
      ],
      "execution_count": null,
      "outputs": [
        {
          "output_type": "execute_result",
          "data": {
            "text/plain": [
              "True"
            ]
          },
          "metadata": {
            "tags": []
          },
          "execution_count": 195
        }
      ]
    },
    {
      "cell_type": "code",
      "metadata": {
        "id": "ai_zAMpYH2W1",
        "colab_type": "code",
        "colab": {
          "base_uri": "https://localhost:8080/"
        },
        "outputId": "23b8b14e-40cf-4298-8bb7-7de68d846317"
      },
      "source": [
        "'BSc' not in degrees"
      ],
      "execution_count": null,
      "outputs": [
        {
          "output_type": "execute_result",
          "data": {
            "text/plain": [
              "False"
            ]
          },
          "metadata": {
            "tags": []
          },
          "execution_count": 196
        }
      ]
    },
    {
      "cell_type": "code",
      "metadata": {
        "id": "W5bH5TLOHjbp",
        "colab_type": "code",
        "colab": {
          "base_uri": "https://localhost:8080/"
        },
        "outputId": "ff65b5b2-2a08-4bda-b805-d5cd5d8fb8a0"
      },
      "source": [
        "'Andrew' in students"
      ],
      "execution_count": null,
      "outputs": [
        {
          "output_type": "execute_result",
          "data": {
            "text/plain": [
              "True"
            ]
          },
          "metadata": {
            "tags": []
          },
          "execution_count": 197
        }
      ]
    },
    {
      "cell_type": "code",
      "metadata": {
        "id": "YbRuJk6pHgUI",
        "colab_type": "code",
        "colab": {
          "base_uri": "https://localhost:8080/"
        },
        "outputId": "f1521ab1-8af9-408c-ca13-0777962f99d5"
      },
      "source": [
        "'Andy' in students"
      ],
      "execution_count": null,
      "outputs": [
        {
          "output_type": "execute_result",
          "data": {
            "text/plain": [
              "False"
            ]
          },
          "metadata": {
            "tags": []
          },
          "execution_count": 198
        }
      ]
    },
    {
      "cell_type": "code",
      "metadata": {
        "id": "u8wwjFVfG_QY",
        "colab_type": "code",
        "colab": {
          "base_uri": "https://localhost:8080/"
        },
        "outputId": "ff8a5898-95ac-42f7-8bfe-b26d274f3efc"
      },
      "source": [
        "'Brandon' in student_scores"
      ],
      "execution_count": null,
      "outputs": [
        {
          "output_type": "execute_result",
          "data": {
            "text/plain": [
              "False"
            ]
          },
          "metadata": {
            "tags": []
          },
          "execution_count": 199
        }
      ]
    },
    {
      "cell_type": "code",
      "metadata": {
        "id": "4zQgUv-tHYJU",
        "colab_type": "code",
        "colab": {
          "base_uri": "https://localhost:8080/"
        },
        "outputId": "516d222b-b506-454c-d988-8fab62b93535"
      },
      "source": [
        "'Andrew' in student_scores"
      ],
      "execution_count": null,
      "outputs": [
        {
          "output_type": "execute_result",
          "data": {
            "text/plain": [
              "True"
            ]
          },
          "metadata": {
            "tags": []
          },
          "execution_count": 200
        }
      ]
    },
    {
      "cell_type": "markdown",
      "metadata": {
        "id": "Q0R5hfHhHbQD",
        "colab_type": "text"
      },
      "source": [
        "#### Controlling Flow: if, else, And elif"
      ]
    },
    {
      "cell_type": "code",
      "metadata": {
        "id": "OpeIAiOYO2va",
        "colab_type": "code",
        "colab": {}
      },
      "source": [
        "passed = []\n",
        "failed = []\n",
        "\n",
        "student_1 = {'name': 'Jess', 'exam_score': 72, 'attendance': True }\n",
        "student_2 = {'name': 'Briana', 'exam_score': 90, 'attendance': True }\n",
        "student_3 = {'name': 'Jay', 'exam_score': 64, 'attendance': False }"
      ],
      "execution_count": null,
      "outputs": []
    },
    {
      "cell_type": "markdown",
      "metadata": {
        "id": "m7qAC7StIinW",
        "colab_type": "text"
      },
      "source": [
        "* if statements allow us to control the flow of a program"
      ]
    },
    {
      "cell_type": "code",
      "metadata": {
        "id": "GJiI0OQTcOv8",
        "colab_type": "code",
        "colab": {}
      },
      "source": [
        "if student_1.get('exam_score') > 70:\n",
        "  passed.append(student_1)"
      ],
      "execution_count": null,
      "outputs": []
    },
    {
      "cell_type": "code",
      "metadata": {
        "id": "gPRIqvVXcfAH",
        "colab_type": "code",
        "colab": {
          "base_uri": "https://localhost:8080/"
        },
        "outputId": "3c7433d8-8005-4d28-fdf1-6ecedb129a3f"
      },
      "source": [
        "passed"
      ],
      "execution_count": null,
      "outputs": [
        {
          "output_type": "execute_result",
          "data": {
            "text/plain": [
              "[{'attendance': True, 'exam_score': 72, 'name': 'Jess'}]"
            ]
          },
          "metadata": {
            "tags": []
          },
          "execution_count": 203
        }
      ]
    },
    {
      "cell_type": "markdown",
      "metadata": {
        "id": "HdNTdrJTOp3_",
        "colab_type": "text"
      },
      "source": [
        "* else and elif keywords"
      ]
    },
    {
      "cell_type": "code",
      "metadata": {
        "id": "gHqi-Qdjci4k",
        "colab_type": "code",
        "colab": {}
      },
      "source": [
        "if student_2.get('exam_score') > 70:\n",
        "  passed.append(student_2)\n",
        "else: \n",
        "  failed.append(student_2)"
      ],
      "execution_count": null,
      "outputs": []
    },
    {
      "cell_type": "code",
      "metadata": {
        "id": "wN2WKm2Mcti2",
        "colab_type": "code",
        "colab": {
          "base_uri": "https://localhost:8080/"
        },
        "outputId": "6cc5fe39-427d-437e-f884-34d2e5fc26e9"
      },
      "source": [
        "passed"
      ],
      "execution_count": null,
      "outputs": [
        {
          "output_type": "execute_result",
          "data": {
            "text/plain": [
              "[{'attendance': True, 'exam_score': 72, 'name': 'Jess'},\n",
              " {'attendance': True, 'exam_score': 90, 'name': 'Briana'}]"
            ]
          },
          "metadata": {
            "tags": []
          },
          "execution_count": 205
        }
      ]
    },
    {
      "cell_type": "code",
      "metadata": {
        "id": "PAd7dWYqcyye",
        "colab_type": "code",
        "colab": {}
      },
      "source": [
        "if student_3.get('exam_score') > 70:\n",
        "  passed.append(student_3)\n",
        "elif student_3.get('exam_score') > 65 and student_3.get('attendance') == True:\n",
        "  passed.append(student_3)\n",
        "else: \n",
        "  failed.append(student_3)"
      ],
      "execution_count": null,
      "outputs": []
    },
    {
      "cell_type": "code",
      "metadata": {
        "id": "c_AYssd2dTP3",
        "colab_type": "code",
        "colab": {
          "base_uri": "https://localhost:8080/"
        },
        "outputId": "0f1688ac-5d62-478a-fcc7-7cf86d3fea92"
      },
      "source": [
        "passed"
      ],
      "execution_count": null,
      "outputs": [
        {
          "output_type": "execute_result",
          "data": {
            "text/plain": [
              "[{'attendance': True, 'exam_score': 72, 'name': 'Jess'},\n",
              " {'attendance': True, 'exam_score': 90, 'name': 'Briana'}]"
            ]
          },
          "metadata": {
            "tags": []
          },
          "execution_count": 207
        }
      ]
    },
    {
      "cell_type": "code",
      "metadata": {
        "id": "6LP5BXDPdUXY",
        "colab_type": "code",
        "colab": {
          "base_uri": "https://localhost:8080/"
        },
        "outputId": "579638b9-bdda-4dca-fbf5-77f6f5d40ad1"
      },
      "source": [
        "failed"
      ],
      "execution_count": null,
      "outputs": [
        {
          "output_type": "execute_result",
          "data": {
            "text/plain": [
              "[{'attendance': False, 'exam_score': 64, 'name': 'Jay'}]"
            ]
          },
          "metadata": {
            "tags": []
          },
          "execution_count": 208
        }
      ]
    },
    {
      "cell_type": "markdown",
      "metadata": {
        "id": "NUQ7QX3oQJTM",
        "colab_type": "text"
      },
      "source": [
        "* combining boolean expressions with *and*, *or*"
      ]
    },
    {
      "cell_type": "markdown",
      "metadata": {
        "id": "8sZo15aCQAat",
        "colab_type": "text"
      },
      "source": [
        "* pitfall: using the assignment '=' operator instead of the comparison '=='"
      ]
    },
    {
      "cell_type": "markdown",
      "metadata": {
        "id": "ul3zo8t2jGEY",
        "colab_type": "text"
      },
      "source": [
        "#### Truth Value Of Non-booleans"
      ]
    },
    {
      "cell_type": "code",
      "metadata": {
        "id": "akIt_UfUjG5w",
        "colab_type": "code",
        "colab": {
          "base_uri": "https://localhost:8080/"
        },
        "outputId": "d8e13db3-d7ed-4eb1-ee4a-a5a815da0886"
      },
      "source": [
        "if student_1.get('attendance') == True:\n",
        "  print('passed!')\n",
        "else:\n",
        "  print('failed :(')"
      ],
      "execution_count": null,
      "outputs": [
        {
          "output_type": "stream",
          "text": [
            "passed!\n"
          ],
          "name": "stdout"
        }
      ]
    },
    {
      "cell_type": "code",
      "metadata": {
        "id": "i3okD-KBq3ES",
        "colab_type": "code",
        "colab": {
          "base_uri": "https://localhost:8080/"
        },
        "outputId": "3403fccd-2c98-4c28-c10d-bf3a827802c3"
      },
      "source": [
        "student_1.get('attendance')"
      ],
      "execution_count": null,
      "outputs": [
        {
          "output_type": "execute_result",
          "data": {
            "text/plain": [
              "True"
            ]
          },
          "metadata": {
            "tags": []
          },
          "execution_count": 210
        }
      ]
    },
    {
      "cell_type": "markdown",
      "metadata": {
        "id": "QNPBWgxIjM0a",
        "colab_type": "text"
      },
      "source": [
        "* shorthand syntax"
      ]
    },
    {
      "cell_type": "code",
      "metadata": {
        "id": "D_MiQkbxq4dG",
        "colab_type": "code",
        "colab": {
          "base_uri": "https://localhost:8080/"
        },
        "outputId": "a416a2b3-7de6-4588-a4f2-6c8393c09a71"
      },
      "source": [
        "if student_1.get('attendance'):\n",
        "  print('passed!')\n",
        "else:\n",
        "  print('failed :(')"
      ],
      "execution_count": null,
      "outputs": [
        {
          "output_type": "stream",
          "text": [
            "passed!\n"
          ],
          "name": "stdout"
        }
      ]
    },
    {
      "cell_type": "code",
      "metadata": {
        "id": "MnbNR4NfrAml",
        "colab_type": "code",
        "colab": {
          "base_uri": "https://localhost:8080/"
        },
        "outputId": "8d0521ce-8304-4272-a327-91e854e9c01b"
      },
      "source": [
        "student_1.get('exam_score')"
      ],
      "execution_count": null,
      "outputs": [
        {
          "output_type": "execute_result",
          "data": {
            "text/plain": [
              "72"
            ]
          },
          "metadata": {
            "tags": []
          },
          "execution_count": 212
        }
      ]
    },
    {
      "cell_type": "code",
      "metadata": {
        "id": "2ECXKiEUrD4M",
        "colab_type": "code",
        "colab": {
          "base_uri": "https://localhost:8080/"
        },
        "outputId": "fbf794e1-5033-4104-8245-3d7e7db14b4e"
      },
      "source": [
        "if student_1.get('exam_score'):\n",
        "  print('passed!')\n",
        "else:\n",
        "  print('failed :(')"
      ],
      "execution_count": null,
      "outputs": [
        {
          "output_type": "stream",
          "text": [
            "passed!\n"
          ],
          "name": "stdout"
        }
      ]
    },
    {
      "cell_type": "code",
      "metadata": {
        "id": "G4UIgeZdrSMF",
        "colab_type": "code",
        "colab": {
          "base_uri": "https://localhost:8080/"
        },
        "outputId": "09f84291-affd-44b7-9f9e-6a02dc3fb493"
      },
      "source": [
        "if 72:\n",
        "  print('passed!')\n",
        "else:\n",
        "  print('failed :(')"
      ],
      "execution_count": null,
      "outputs": [
        {
          "output_type": "stream",
          "text": [
            "passed!\n"
          ],
          "name": "stdout"
        }
      ]
    },
    {
      "cell_type": "code",
      "metadata": {
        "id": "3r9LByr5rXNx",
        "colab_type": "code",
        "colab": {
          "base_uri": "https://localhost:8080/"
        },
        "outputId": "d41bb33b-28d6-4645-eda9-b1049c9630a1"
      },
      "source": [
        "if 0.0:\n",
        "  print('passed!')\n",
        "else:\n",
        "  print('failed :(')"
      ],
      "execution_count": null,
      "outputs": [
        {
          "output_type": "stream",
          "text": [
            "failed :(\n"
          ],
          "name": "stdout"
        }
      ]
    },
    {
      "cell_type": "code",
      "metadata": {
        "id": "2mYphlgQrac5",
        "colab_type": "code",
        "colab": {
          "base_uri": "https://localhost:8080/"
        },
        "outputId": "537613d9-34c4-4093-bce6-980f4d080118"
      },
      "source": [
        "if ['a']:\n",
        "  print('passed!')\n",
        "else:\n",
        "  print('failed :(')"
      ],
      "execution_count": null,
      "outputs": [
        {
          "output_type": "stream",
          "text": [
            "passed!\n"
          ],
          "name": "stdout"
        }
      ]
    },
    {
      "cell_type": "markdown",
      "metadata": {
        "id": "G-a-NF4Njjc2",
        "colab_type": "text"
      },
      "source": [
        "* all objects (not just booleans) in python have a truth value"
      ]
    },
    {
      "cell_type": "markdown",
      "metadata": {
        "id": "-tTm8fnmjxCO",
        "colab_type": "text"
      },
      "source": [
        "* falsy objects: None, False, ( ), { }, [ ], 0, 0.0"
      ]
    },
    {
      "cell_type": "markdown",
      "metadata": {
        "id": "rWnhok6sruUC",
        "colab_type": "text"
      },
      "source": [
        "#### For Loops"
      ]
    },
    {
      "cell_type": "code",
      "metadata": {
        "id": "KMY0e_OAx-iR",
        "colab_type": "code",
        "colab": {
          "base_uri": "https://localhost:8080/"
        },
        "outputId": "6ba0e13d-f27f-4807-9ecc-aa4bd51f5784"
      },
      "source": [
        "should_greet = True\n",
        "\n",
        "greetings = ['hey, welcome', 'this is python', 'pandas is coming soon']\n",
        "\n",
        "language = 'python'\n",
        "\n",
        "if should_greet:\n",
        "  print(greetings[0])\n",
        "  print(greetings[1])\n",
        "  print(greetings[2])"
      ],
      "execution_count": null,
      "outputs": [
        {
          "output_type": "stream",
          "text": [
            "hey, welcome\n",
            "this is python\n",
            "pandas is coming soon\n"
          ],
          "name": "stdout"
        }
      ]
    },
    {
      "cell_type": "markdown",
      "metadata": {
        "id": "gpiUdfI9xLmo",
        "colab_type": "text"
      },
      "source": [
        "* loops help us execute a block of code multiple times"
      ]
    },
    {
      "cell_type": "markdown",
      "metadata": {
        "id": "nRyjYsflxEFV",
        "colab_type": "text"
      },
      "source": [
        "* python has two types of loops: *for* and *while* (next lecture)"
      ]
    },
    {
      "cell_type": "markdown",
      "metadata": {
        "id": "RkT_TbcGrvHs",
        "colab_type": "text"
      },
      "source": [
        "* for loops help us loop over iterables, which are objects that return one element at a time"
      ]
    },
    {
      "cell_type": "code",
      "metadata": {
        "id": "6LEWCTGo14_Z",
        "colab_type": "code",
        "colab": {
          "base_uri": "https://localhost:8080/"
        },
        "outputId": "defa105c-20d0-4292-93b3-c2734c0aadb7"
      },
      "source": [
        "for gr in greetings:\n",
        "  print(gr)"
      ],
      "execution_count": null,
      "outputs": [
        {
          "output_type": "stream",
          "text": [
            "hey, welcome\n",
            "this is python\n",
            "pandas is coming soon\n"
          ],
          "name": "stdout"
        }
      ]
    },
    {
      "cell_type": "code",
      "metadata": {
        "id": "iE9ZWJ8H2a71",
        "colab_type": "code",
        "colab": {
          "base_uri": "https://localhost:8080/"
        },
        "outputId": "3202e6b0-b45a-4daa-ce8c-84642148c674"
      },
      "source": [
        "for char in language:\n",
        "  print(char)"
      ],
      "execution_count": null,
      "outputs": [
        {
          "output_type": "stream",
          "text": [
            "p\n",
            "y\n",
            "t\n",
            "h\n",
            "o\n",
            "n\n"
          ],
          "name": "stdout"
        }
      ]
    },
    {
      "cell_type": "markdown",
      "metadata": {
        "id": "L6NxlgjZ2kiv",
        "colab_type": "text"
      },
      "source": [
        "#### The range() Immutable Sequence"
      ]
    },
    {
      "cell_type": "code",
      "metadata": {
        "id": "CidrFHFo3oT5",
        "colab_type": "code",
        "colab": {}
      },
      "source": [
        "say_hi = 6"
      ],
      "execution_count": null,
      "outputs": []
    },
    {
      "cell_type": "code",
      "metadata": {
        "id": "hz48pQ6f5FMZ",
        "colab_type": "code",
        "colab": {
          "base_uri": "https://localhost:8080/"
        },
        "outputId": "78f1b0a7-7433-4110-f9a0-085c0fd1ff59"
      },
      "source": [
        "for i in range(say_hi):\n",
        "  print('hi')"
      ],
      "execution_count": null,
      "outputs": [
        {
          "output_type": "stream",
          "text": [
            "hi\n",
            "hi\n",
            "hi\n",
            "hi\n",
            "hi\n",
            "hi\n"
          ],
          "name": "stdout"
        }
      ]
    },
    {
      "cell_type": "code",
      "metadata": {
        "id": "XGcXXKAN5UjO",
        "colab_type": "code",
        "colab": {
          "base_uri": "https://localhost:8080/"
        },
        "outputId": "bc6e37dd-2a87-4e3a-890c-13fd186a83b4"
      },
      "source": [
        "list(range(6)) # start = 0, step = 1"
      ],
      "execution_count": null,
      "outputs": [
        {
          "output_type": "execute_result",
          "data": {
            "text/plain": [
              "[0, 1, 2, 3, 4, 5]"
            ]
          },
          "metadata": {
            "tags": []
          },
          "execution_count": 222
        }
      ]
    },
    {
      "cell_type": "markdown",
      "metadata": {
        "id": "B44pxFFr3Xja",
        "colab_type": "text"
      },
      "source": [
        "* range() is an immutable sequence type that is very useful in for loops "
      ]
    },
    {
      "cell_type": "code",
      "metadata": {
        "id": "dS6Jh85K5egF",
        "colab_type": "code",
        "colab": {
          "base_uri": "https://localhost:8080/"
        },
        "outputId": "eedbc8af-5b67-4391-c587-29f4cb42e88e"
      },
      "source": [
        "list(range(0, 6, 1))"
      ],
      "execution_count": null,
      "outputs": [
        {
          "output_type": "execute_result",
          "data": {
            "text/plain": [
              "[0, 1, 2, 3, 4, 5]"
            ]
          },
          "metadata": {
            "tags": []
          },
          "execution_count": 223
        }
      ]
    },
    {
      "cell_type": "code",
      "metadata": {
        "id": "zYLT8dts4kQb",
        "colab_type": "code",
        "colab": {
          "base_uri": "https://localhost:8080/"
        },
        "outputId": "66ca4554-0fc3-46a6-a031-d9c0a5d04b1d"
      },
      "source": [
        "range(3, 10, 1)"
      ],
      "execution_count": null,
      "outputs": [
        {
          "output_type": "execute_result",
          "data": {
            "text/plain": [
              "range(3, 10)"
            ]
          },
          "metadata": {
            "tags": []
          },
          "execution_count": 224
        }
      ]
    },
    {
      "cell_type": "code",
      "metadata": {
        "id": "TnTL-2zB4xv5",
        "colab_type": "code",
        "colab": {
          "base_uri": "https://localhost:8080/"
        },
        "outputId": "9285e218-6497-4fe7-c4b2-6006f4e1a271"
      },
      "source": [
        "list(range(3, 11, 1))"
      ],
      "execution_count": null,
      "outputs": [
        {
          "output_type": "execute_result",
          "data": {
            "text/plain": [
              "[3, 4, 5, 6, 7, 8, 9, 10]"
            ]
          },
          "metadata": {
            "tags": []
          },
          "execution_count": 225
        }
      ]
    },
    {
      "cell_type": "code",
      "metadata": {
        "id": "i0SMeMQY4785",
        "colab_type": "code",
        "colab": {
          "base_uri": "https://localhost:8080/"
        },
        "outputId": "039430bd-9e79-4490-8c0c-9b19b8abb317"
      },
      "source": [
        "list(range(0, 11, 2))"
      ],
      "execution_count": null,
      "outputs": [
        {
          "output_type": "execute_result",
          "data": {
            "text/plain": [
              "[0, 2, 4, 6, 8, 10]"
            ]
          },
          "metadata": {
            "tags": []
          },
          "execution_count": 226
        }
      ]
    },
    {
      "cell_type": "markdown",
      "metadata": {
        "id": "QXQvANoN3hpO",
        "colab_type": "text"
      },
      "source": [
        "* ...start, stop, and step must be integers "
      ]
    },
    {
      "cell_type": "markdown",
      "metadata": {
        "id": "LKXlB99O6Eb3",
        "colab_type": "text"
      },
      "source": [
        "#### While Loops"
      ]
    },
    {
      "cell_type": "code",
      "metadata": {
        "id": "h6QtKHpp7R3F",
        "colab_type": "code",
        "colab": {}
      },
      "source": [
        "balance = 2000\n",
        "next_round_cost = 42.34\n",
        "games_played = 0\n",
        "\n",
        "# Q: how many games could be played if the cost to play doubles each round?"
      ],
      "execution_count": null,
      "outputs": []
    },
    {
      "cell_type": "markdown",
      "metadata": {
        "id": "D5OnOptr6FIy",
        "colab_type": "text"
      },
      "source": [
        "* *for* loops run a definite number of times whereas *while* loops repeat an indefinite number of times, i.e. until a condition is met"
      ]
    },
    {
      "cell_type": "code",
      "metadata": {
        "id": "xoR9Kls08Pes",
        "colab_type": "code",
        "colab": {}
      },
      "source": [
        "# definite:\n",
        "#   for each element in a list of elements, \n",
        "#   for each character in a string,\n",
        "#   for each elemement in a set, etc\n",
        "\n",
        "# indefinite:\n",
        "#   until a condition is met"
      ],
      "execution_count": null,
      "outputs": []
    },
    {
      "cell_type": "markdown",
      "metadata": {
        "id": "R6KxcjrJ6yFA",
        "colab_type": "text"
      },
      "source": [
        "* each time the loop runs, the condition is re-evaluated, repeating indefinitely until the condition evaluates to False"
      ]
    },
    {
      "cell_type": "code",
      "metadata": {
        "id": "7M9-vKOj80dt",
        "colab_type": "code",
        "colab": {}
      },
      "source": [
        "# while (condition):\n",
        "#   # loop body"
      ],
      "execution_count": null,
      "outputs": []
    },
    {
      "cell_type": "code",
      "metadata": {
        "id": "pZck48MO9DaW",
        "colab_type": "code",
        "colab": {}
      },
      "source": [
        "while balance > next_round_cost:\n",
        "  games_played += 1\n",
        "  balance -= next_round_cost\n",
        "  next_round_cost *= 2  "
      ],
      "execution_count": null,
      "outputs": []
    },
    {
      "cell_type": "code",
      "metadata": {
        "id": "YJ_ZQI3O9d0T",
        "colab_type": "code",
        "colab": {
          "base_uri": "https://localhost:8080/"
        },
        "outputId": "d232f876-4448-4225-fcbd-33836faba836"
      },
      "source": [
        "games_played"
      ],
      "execution_count": null,
      "outputs": [
        {
          "output_type": "execute_result",
          "data": {
            "text/plain": [
              "5"
            ]
          },
          "metadata": {
            "tags": []
          },
          "execution_count": 231
        }
      ]
    },
    {
      "cell_type": "code",
      "metadata": {
        "id": "5nLpj0Bp9fsv",
        "colab_type": "code",
        "colab": {
          "base_uri": "https://localhost:8080/"
        },
        "outputId": "0ddc1f16-ba7e-4675-df4b-16e03bc8b37b"
      },
      "source": [
        "next_round_cost"
      ],
      "execution_count": null,
      "outputs": [
        {
          "output_type": "execute_result",
          "data": {
            "text/plain": [
              "1354.88"
            ]
          },
          "metadata": {
            "tags": []
          },
          "execution_count": 232
        }
      ]
    },
    {
      "cell_type": "code",
      "metadata": {
        "id": "5AT9rPkZ9iDZ",
        "colab_type": "code",
        "colab": {
          "base_uri": "https://localhost:8080/"
        },
        "outputId": "6819f528-1d92-466d-d9d2-47d1ab787fe2"
      },
      "source": [
        "balance"
      ],
      "execution_count": null,
      "outputs": [
        {
          "output_type": "execute_result",
          "data": {
            "text/plain": [
              "687.4599999999998"
            ]
          },
          "metadata": {
            "tags": []
          },
          "execution_count": 233
        }
      ]
    },
    {
      "cell_type": "markdown",
      "metadata": {
        "id": "xfikn66v6W8o",
        "colab_type": "text"
      },
      "source": [
        "* very important: always make sure that the body of the while loop modifies some part of the condition"
      ]
    },
    {
      "cell_type": "markdown",
      "metadata": {
        "id": "4RLfDI8L-Ue0",
        "colab_type": "text"
      },
      "source": [
        "#### Break And Continue"
      ]
    },
    {
      "cell_type": "code",
      "metadata": {
        "id": "lirqTaSU_IU2",
        "colab_type": "code",
        "colab": {}
      },
      "source": [
        "greetings2 = ['hey', 'hello', 'stop', 'what\\'s up?', 'let me tell you a story, are you ready?', 'hey there', 'what\\'s new?']"
      ],
      "execution_count": null,
      "outputs": []
    },
    {
      "cell_type": "markdown",
      "metadata": {
        "id": "XeyEN-OX-Vlt",
        "colab_type": "text"
      },
      "source": [
        "* break exits out of a loop"
      ]
    },
    {
      "cell_type": "code",
      "metadata": {
        "id": "0HQC5idZEL3z",
        "colab_type": "code",
        "colab": {
          "base_uri": "https://localhost:8080/"
        },
        "outputId": "4c88c68f-7f5d-4061-9d09-8b974bcf8bbb"
      },
      "source": [
        "for greeting in greetings2:\n",
        "  if greeting == 'stop':\n",
        "    break\n",
        "  else: \n",
        "    print(greeting)"
      ],
      "execution_count": null,
      "outputs": [
        {
          "output_type": "stream",
          "text": [
            "hey\n",
            "hello\n"
          ],
          "name": "stdout"
        }
      ]
    },
    {
      "cell_type": "code",
      "metadata": {
        "id": "8AsnEdAiE6ca",
        "colab_type": "code",
        "colab": {
          "base_uri": "https://localhost:8080/"
        },
        "outputId": "fa43f5bf-3d9b-40c1-c4a6-379552177342"
      },
      "source": [
        "for greeting in greetings2:\n",
        "  if greeting == 'stop': break\n",
        "\n",
        "  print(greeting)"
      ],
      "execution_count": null,
      "outputs": [
        {
          "output_type": "stream",
          "text": [
            "hey\n",
            "hello\n"
          ],
          "name": "stdout"
        }
      ]
    },
    {
      "cell_type": "markdown",
      "metadata": {
        "id": "BVbqofoN-wUb",
        "colab_type": "text"
      },
      "source": [
        "* continue skips a single iteration"
      ]
    },
    {
      "cell_type": "code",
      "metadata": {
        "id": "VbvcPzOPEfCU",
        "colab_type": "code",
        "colab": {
          "base_uri": "https://localhost:8080/"
        },
        "outputId": "eccda2d2-3733-4696-f9c7-695858f9b153"
      },
      "source": [
        "for greeting in greetings2:\n",
        "  if len(greeting) > 11:\n",
        "    continue\n",
        "  else:\n",
        "    print(greeting)"
      ],
      "execution_count": null,
      "outputs": [
        {
          "output_type": "stream",
          "text": [
            "hey\n",
            "hello\n",
            "stop\n",
            "what's up?\n",
            "hey there\n",
            "what's new?\n"
          ],
          "name": "stdout"
        }
      ]
    },
    {
      "cell_type": "code",
      "metadata": {
        "id": "8_eYMSPNFBRF",
        "colab_type": "code",
        "colab": {
          "base_uri": "https://localhost:8080/"
        },
        "outputId": "e5269293-6f59-427a-9037-d8f9dda656e6"
      },
      "source": [
        "for greeting in greetings2:\n",
        "  if len(greeting) > 11:  continue\n",
        "\n",
        "  print(greeting)"
      ],
      "execution_count": null,
      "outputs": [
        {
          "output_type": "stream",
          "text": [
            "hey\n",
            "hello\n",
            "stop\n",
            "what's up?\n",
            "hey there\n",
            "what's new?\n"
          ],
          "name": "stdout"
        }
      ]
    },
    {
      "cell_type": "markdown",
      "metadata": {
        "id": "vLmByUGbEh5n",
        "colab_type": "text"
      },
      "source": [
        "#### Zipping Iterables"
      ]
    },
    {
      "cell_type": "code",
      "metadata": {
        "id": "ZRtkQpsBFQ6y",
        "colab_type": "code",
        "colab": {}
      },
      "source": [
        "names = ['Andrew', 'Brian', 'Caledon', 'Deirdre']\n",
        "\n",
        "score = [100, 90, 74, 84]"
      ],
      "execution_count": null,
      "outputs": []
    },
    {
      "cell_type": "markdown",
      "metadata": {
        "id": "9f4aKB3pHkt_",
        "colab_type": "text"
      },
      "source": [
        "* zip creates an iterable (a zip object) combining values from several other iterables"
      ]
    },
    {
      "cell_type": "code",
      "metadata": {
        "id": "G7ny57soJa8h",
        "colab_type": "code",
        "colab": {
          "base_uri": "https://localhost:8080/"
        },
        "outputId": "b187505d-054c-408c-f8bf-d9d7028a2c9b"
      },
      "source": [
        "list(zip(names, score))"
      ],
      "execution_count": null,
      "outputs": [
        {
          "output_type": "execute_result",
          "data": {
            "text/plain": [
              "[('Andrew', 100), ('Brian', 90), ('Caledon', 74), ('Deirdre', 84)]"
            ]
          },
          "metadata": {
            "tags": []
          },
          "execution_count": 240
        }
      ]
    },
    {
      "cell_type": "markdown",
      "metadata": {
        "id": "T8Y9DY3hH4Mk",
        "colab_type": "text"
      },
      "source": [
        "* values could be unpacked in a for loop"
      ]
    },
    {
      "cell_type": "code",
      "metadata": {
        "id": "98dop6ktJmRg",
        "colab_type": "code",
        "colab": {
          "base_uri": "https://localhost:8080/"
        },
        "outputId": "a05ec6fb-cfe8-4f4d-f048-7d83a30bcb93"
      },
      "source": [
        "for student_name, student_score in zip(names, score):\n",
        "  print(\"{} got a {} on the exam\".format(student_name, student_score))"
      ],
      "execution_count": null,
      "outputs": [
        {
          "output_type": "stream",
          "text": [
            "Andrew got a 100 on the exam\n",
            "Brian got a 90 on the exam\n",
            "Caledon got a 74 on the exam\n",
            "Deirdre got a 84 on the exam\n"
          ],
          "name": "stdout"
        }
      ]
    },
    {
      "cell_type": "code",
      "metadata": {
        "id": "o6NcNFZkJpKj",
        "colab_type": "code",
        "colab": {}
      },
      "source": [
        "names = ['Andrew', 'Brian', 'Caledon', 'Deirdre']\n",
        "\n",
        "score = [100, 90, 74, 84]\n",
        "\n",
        "attendance = [True, True, False, True]"
      ],
      "execution_count": null,
      "outputs": []
    },
    {
      "cell_type": "code",
      "metadata": {
        "id": "2BHH1_TZKAi4",
        "colab_type": "code",
        "colab": {
          "base_uri": "https://localhost:8080/"
        },
        "outputId": "62da3bad-083b-486a-8dce-9b4983c14e07"
      },
      "source": [
        "for i in zip(names, score, attendance):\n",
        "  print(i)"
      ],
      "execution_count": null,
      "outputs": [
        {
          "output_type": "stream",
          "text": [
            "('Andrew', 100, True)\n",
            "('Brian', 90, True)\n",
            "('Caledon', 74, False)\n",
            "('Deirdre', 84, True)\n"
          ],
          "name": "stdout"
        }
      ]
    },
    {
      "cell_type": "markdown",
      "metadata": {
        "id": "Be3l_tlhKDGV",
        "colab_type": "text"
      },
      "source": [
        "#### List Comprehensions"
      ]
    },
    {
      "cell_type": "code",
      "metadata": {
        "id": "ddTKEDvpNd8q",
        "colab_type": "code",
        "colab": {}
      },
      "source": [
        "numbers = [10, 2, 4, 12, 13, 1, 712, 23, 2, 192]\n",
        "\n",
        "students = [{'name': 'Andrea', 'score': 90},\n",
        "            {'name': 'Astrid', 'score': 76},\n",
        "            {'name': 'Beatrice', 'score': 64},\n",
        "            {'name': 'Brenda', 'score': 96}]\n",
        "\n",
        "# Q1: create a list containing all the odd integers in numbers\n",
        "# Q2: create a list of all the students who scored more than 90"
      ],
      "execution_count": null,
      "outputs": []
    },
    {
      "cell_type": "markdown",
      "metadata": {
        "id": "vXHpaLqIKSgU",
        "colab_type": "text"
      },
      "source": [
        "* comprehensions are a pythonic way to build lists, sets, and dictionaries without a for loop"
      ]
    },
    {
      "cell_type": "code",
      "metadata": {
        "id": "n4iVqOD1T_lk",
        "colab_type": "code",
        "colab": {
          "base_uri": "https://localhost:8080/"
        },
        "outputId": "a4365b80-77c9-4f60-85bb-e17415e5108c"
      },
      "source": [
        "numbers"
      ],
      "execution_count": null,
      "outputs": [
        {
          "output_type": "execute_result",
          "data": {
            "text/plain": [
              "[10, 2, 4, 12, 13, 1, 712, 23, 2, 192]"
            ]
          },
          "metadata": {
            "tags": []
          },
          "execution_count": 245
        }
      ]
    },
    {
      "cell_type": "code",
      "metadata": {
        "id": "L1QBYz3JUGyl",
        "colab_type": "code",
        "colab": {}
      },
      "source": [
        "# odd or even"
      ],
      "execution_count": null,
      "outputs": []
    },
    {
      "cell_type": "code",
      "metadata": {
        "id": "rOoQp46dUIXq",
        "colab_type": "code",
        "colab": {
          "base_uri": "https://localhost:8080/"
        },
        "outputId": "0c1437d4-6d4c-443c-8156-f8ea063571b2"
      },
      "source": [
        "10 % 2"
      ],
      "execution_count": null,
      "outputs": [
        {
          "output_type": "execute_result",
          "data": {
            "text/plain": [
              "0"
            ]
          },
          "metadata": {
            "tags": []
          },
          "execution_count": 247
        }
      ]
    },
    {
      "cell_type": "code",
      "metadata": {
        "id": "V1YFKdmSULct",
        "colab_type": "code",
        "colab": {
          "base_uri": "https://localhost:8080/"
        },
        "outputId": "b05b1595-9b36-4c1a-a2f2-421a68502d3f"
      },
      "source": [
        "13 % 2"
      ],
      "execution_count": null,
      "outputs": [
        {
          "output_type": "execute_result",
          "data": {
            "text/plain": [
              "1"
            ]
          },
          "metadata": {
            "tags": []
          },
          "execution_count": 248
        }
      ]
    },
    {
      "cell_type": "code",
      "metadata": {
        "id": "5FlfK13XUT_A",
        "colab_type": "code",
        "colab": {}
      },
      "source": [
        "odds = []"
      ],
      "execution_count": null,
      "outputs": []
    },
    {
      "cell_type": "code",
      "metadata": {
        "id": "bbTztRXJUElm",
        "colab_type": "code",
        "colab": {}
      },
      "source": [
        "for number in numbers:\n",
        "  if number % 2 == 1:\n",
        "    odds.append(number)"
      ],
      "execution_count": null,
      "outputs": []
    },
    {
      "cell_type": "code",
      "metadata": {
        "id": "Bt39Lqs-UWz0",
        "colab_type": "code",
        "colab": {
          "base_uri": "https://localhost:8080/"
        },
        "outputId": "cf072a4f-abce-405c-a74a-e69573ec7d26"
      },
      "source": [
        "odds"
      ],
      "execution_count": null,
      "outputs": [
        {
          "output_type": "execute_result",
          "data": {
            "text/plain": [
              "[13, 1, 23]"
            ]
          },
          "metadata": {
            "tags": []
          },
          "execution_count": 251
        }
      ]
    },
    {
      "cell_type": "code",
      "metadata": {
        "id": "2TCv98oRUhQ4",
        "colab_type": "code",
        "colab": {
          "base_uri": "https://localhost:8080/"
        },
        "outputId": "7062d8f4-a710-470e-e6a3-7eae46eb5308"
      },
      "source": [
        "numbers"
      ],
      "execution_count": null,
      "outputs": [
        {
          "output_type": "execute_result",
          "data": {
            "text/plain": [
              "[10, 2, 4, 12, 13, 1, 712, 23, 2, 192]"
            ]
          },
          "metadata": {
            "tags": []
          },
          "execution_count": 252
        }
      ]
    },
    {
      "cell_type": "code",
      "metadata": {
        "id": "p0VNe_ADUXXK",
        "colab_type": "code",
        "colab": {
          "base_uri": "https://localhost:8080/"
        },
        "outputId": "29456c28-5280-4952-ae60-ac898727839c"
      },
      "source": [
        "[number for number in numbers if number % 2 == 1]"
      ],
      "execution_count": null,
      "outputs": [
        {
          "output_type": "execute_result",
          "data": {
            "text/plain": [
              "[13, 1, 23]"
            ]
          },
          "metadata": {
            "tags": []
          },
          "execution_count": 253
        }
      ]
    },
    {
      "cell_type": "code",
      "metadata": {
        "id": "i3audOMnUgX1",
        "colab_type": "code",
        "colab": {}
      },
      "source": [
        "# Q2"
      ],
      "execution_count": null,
      "outputs": []
    },
    {
      "cell_type": "code",
      "metadata": {
        "id": "1dEnDjERVM5j",
        "colab_type": "code",
        "colab": {
          "base_uri": "https://localhost:8080/"
        },
        "outputId": "f24610d3-8f86-432b-b69b-3969b507c460"
      },
      "source": [
        "students"
      ],
      "execution_count": null,
      "outputs": [
        {
          "output_type": "execute_result",
          "data": {
            "text/plain": [
              "[{'name': 'Andrea', 'score': 90},\n",
              " {'name': 'Astrid', 'score': 76},\n",
              " {'name': 'Beatrice', 'score': 64},\n",
              " {'name': 'Brenda', 'score': 96}]"
            ]
          },
          "metadata": {
            "tags": []
          },
          "execution_count": 255
        }
      ]
    },
    {
      "cell_type": "code",
      "metadata": {
        "id": "riAoVDwYVOYB",
        "colab_type": "code",
        "colab": {
          "base_uri": "https://localhost:8080/"
        },
        "outputId": "7c892b89-3479-438d-8795-e2da2b257de5"
      },
      "source": [
        "[student for student in students if student.get('score') >= 90]"
      ],
      "execution_count": null,
      "outputs": [
        {
          "output_type": "execute_result",
          "data": {
            "text/plain": [
              "[{'name': 'Andrea', 'score': 90}, {'name': 'Brenda', 'score': 96}]"
            ]
          },
          "metadata": {
            "tags": []
          },
          "execution_count": 256
        }
      ]
    },
    {
      "cell_type": "code",
      "metadata": {
        "id": "FrwvRo1NVOga",
        "colab_type": "code",
        "colab": {
          "base_uri": "https://localhost:8080/"
        },
        "outputId": "df3fb878-6696-499c-8044-1528c8c54a9f"
      },
      "source": [
        "[student.get('name') for student in students if student.get('score') >= 90]"
      ],
      "execution_count": null,
      "outputs": [
        {
          "output_type": "execute_result",
          "data": {
            "text/plain": [
              "['Andrea', 'Brenda']"
            ]
          },
          "metadata": {
            "tags": []
          },
          "execution_count": 257
        }
      ]
    },
    {
      "cell_type": "markdown",
      "metadata": {
        "id": "dUEwpHjvVgPL",
        "colab_type": "text"
      },
      "source": [
        "#### Defining Functions"
      ]
    },
    {
      "cell_type": "code",
      "metadata": {
        "id": "p3NsrHWXY75d",
        "colab_type": "code",
        "colab": {}
      },
      "source": [
        "scores = [90, 73, 43, 100]\n",
        "\n",
        "students = [{'name': 'Andrea', 'scores': [90, 73, 43, 100]}, # 'average': 76.5, 'passed': True\n",
        "            {'name': 'Astrid', 'scores': [76, 44, 66, 73]},\n",
        "            {'name': 'Beatrice', 'scores': [64, 74, 91, 64]},\n",
        "            {'name': 'Brenda', 'scores': [96, 82, 76, 100]}]"
      ],
      "execution_count": null,
      "outputs": []
    },
    {
      "cell_type": "code",
      "metadata": {
        "id": "ze0RdpA1ZbIx",
        "colab_type": "code",
        "colab": {}
      },
      "source": [
        "# Q1: add an average score to each student dictionary in the students list\n",
        "\n",
        "# Q2: add a passed (True/False) to each dictionary if the student's average is higher than 70"
      ],
      "execution_count": null,
      "outputs": []
    },
    {
      "cell_type": "markdown",
      "metadata": {
        "id": "AEHQSn7JV6QK",
        "colab_type": "text"
      },
      "source": [
        "* functions allow us to simplify and speed up our code by organizing it around reusable blocks"
      ]
    },
    {
      "cell_type": "markdown",
      "metadata": {
        "id": "V28q1JLZYzjH",
        "colab_type": "text"
      },
      "source": [
        "* functions are great for generalizing repetitive tasks"
      ]
    },
    {
      "cell_type": "code",
      "metadata": {
        "id": "QY6EIcb2gNJV",
        "colab_type": "code",
        "colab": {}
      },
      "source": [
        "def get_average(scores_list): # function header\n",
        "  _avg = sum(scores_list) / len(scores_list)\n",
        "\n",
        "  return _avg"
      ],
      "execution_count": null,
      "outputs": []
    },
    {
      "cell_type": "code",
      "metadata": {
        "id": "nAeFhnEshDij",
        "colab_type": "code",
        "colab": {}
      },
      "source": [
        "def did_pass(score_avg):\n",
        "  return True if score_avg > 70 else False"
      ],
      "execution_count": null,
      "outputs": []
    },
    {
      "cell_type": "code",
      "metadata": {
        "id": "8q6NJW5Mhf83",
        "colab_type": "code",
        "colab": {}
      },
      "source": [
        "for student in students:\n",
        "  score_avg = get_average(student.get('scores'))\n",
        "\n",
        "  student['average']  = score_avg\n",
        "  student['passed']   = did_pass(score_avg)"
      ],
      "execution_count": null,
      "outputs": []
    },
    {
      "cell_type": "code",
      "metadata": {
        "id": "vJmeIUYChfq0",
        "colab_type": "code",
        "colab": {
          "base_uri": "https://localhost:8080/"
        },
        "outputId": "29f98b8b-1b1c-421d-f389-1da06f5bb03f"
      },
      "source": [
        "students"
      ],
      "execution_count": null,
      "outputs": [
        {
          "output_type": "execute_result",
          "data": {
            "text/plain": [
              "[{'average': 76.5,\n",
              "  'name': 'Andrea',\n",
              "  'passed': True,\n",
              "  'scores': [90, 73, 43, 100]},\n",
              " {'average': 64.75,\n",
              "  'name': 'Astrid',\n",
              "  'passed': False,\n",
              "  'scores': [76, 44, 66, 73]},\n",
              " {'average': 73.25,\n",
              "  'name': 'Beatrice',\n",
              "  'passed': True,\n",
              "  'scores': [64, 74, 91, 64]},\n",
              " {'average': 88.5,\n",
              "  'name': 'Brenda',\n",
              "  'passed': True,\n",
              "  'scores': [96, 82, 76, 100]}]"
            ]
          },
          "metadata": {
            "tags": []
          },
          "execution_count": 263
        }
      ]
    },
    {
      "cell_type": "code",
      "metadata": {
        "id": "lucRd6Iyhfmp",
        "colab_type": "code",
        "colab": {}
      },
      "source": [
        ""
      ],
      "execution_count": null,
      "outputs": []
    },
    {
      "cell_type": "code",
      "metadata": {
        "id": "s4OTurGyhfjK",
        "colab_type": "code",
        "colab": {}
      },
      "source": [
        ""
      ],
      "execution_count": null,
      "outputs": []
    },
    {
      "cell_type": "code",
      "metadata": {
        "id": "c9Ji-TC8hfdz",
        "colab_type": "code",
        "colab": {}
      },
      "source": [
        ""
      ],
      "execution_count": null,
      "outputs": []
    },
    {
      "cell_type": "code",
      "metadata": {
        "id": "CqU-AFyegNFM",
        "colab_type": "code",
        "colab": {}
      },
      "source": [
        "# get_average(scores)"
      ],
      "execution_count": null,
      "outputs": []
    },
    {
      "cell_type": "code",
      "metadata": {
        "id": "gAO24uFWgM_b",
        "colab_type": "code",
        "colab": {}
      },
      "source": [
        "# get_average(scores2)"
      ],
      "execution_count": null,
      "outputs": []
    },
    {
      "cell_type": "code",
      "metadata": {
        "id": "elT47wZtgM6x",
        "colab_type": "code",
        "colab": {
          "base_uri": "https://localhost:8080/"
        },
        "outputId": "893bb908-fbdb-4114-dbed-9eac7cf49e96"
      },
      "source": [
        "did_pass(70)"
      ],
      "execution_count": null,
      "outputs": [
        {
          "output_type": "execute_result",
          "data": {
            "text/plain": [
              "False"
            ]
          },
          "metadata": {
            "tags": []
          },
          "execution_count": 266
        }
      ]
    },
    {
      "cell_type": "code",
      "metadata": {
        "id": "q_5ZJai5gMuR",
        "colab_type": "code",
        "colab": {
          "base_uri": "https://localhost:8080/"
        },
        "outputId": "77333e8a-2ed1-4d01-f5fe-f5049833fe26"
      },
      "source": [
        "did_pass(71)"
      ],
      "execution_count": null,
      "outputs": [
        {
          "output_type": "execute_result",
          "data": {
            "text/plain": [
              "True"
            ]
          },
          "metadata": {
            "tags": []
          },
          "execution_count": 267
        }
      ]
    },
    {
      "cell_type": "code",
      "metadata": {
        "id": "O42lRvwOfkak",
        "colab_type": "code",
        "colab": {
          "base_uri": "https://localhost:8080/"
        },
        "outputId": "61878064-fb7a-4b0c-e929-fbfe14269122"
      },
      "source": [
        "scores"
      ],
      "execution_count": null,
      "outputs": [
        {
          "output_type": "execute_result",
          "data": {
            "text/plain": [
              "[90, 73, 43, 100]"
            ]
          },
          "metadata": {
            "tags": []
          },
          "execution_count": 268
        }
      ]
    },
    {
      "cell_type": "code",
      "metadata": {
        "id": "T0EjhnnKf25n",
        "colab_type": "code",
        "colab": {
          "base_uri": "https://localhost:8080/"
        },
        "outputId": "ea181fba-e5c5-46fc-b133-b8f3c38650be"
      },
      "source": [
        "sum(scores)"
      ],
      "execution_count": null,
      "outputs": [
        {
          "output_type": "execute_result",
          "data": {
            "text/plain": [
              "306"
            ]
          },
          "metadata": {
            "tags": []
          },
          "execution_count": 269
        }
      ]
    },
    {
      "cell_type": "code",
      "metadata": {
        "id": "3ekPeYYNf5xa",
        "colab_type": "code",
        "colab": {
          "base_uri": "https://localhost:8080/"
        },
        "outputId": "c86a03b2-b6f5-4e4a-f922-7de090bffd78"
      },
      "source": [
        "len(scores)"
      ],
      "execution_count": null,
      "outputs": [
        {
          "output_type": "execute_result",
          "data": {
            "text/plain": [
              "4"
            ]
          },
          "metadata": {
            "tags": []
          },
          "execution_count": 270
        }
      ]
    },
    {
      "cell_type": "code",
      "metadata": {
        "id": "TRXrlRV0f7SG",
        "colab_type": "code",
        "colab": {
          "base_uri": "https://localhost:8080/"
        },
        "outputId": "dc52f04e-a8ec-4dc3-a171-acb80d40cef6"
      },
      "source": [
        "sum(scores) / len(scores)"
      ],
      "execution_count": null,
      "outputs": [
        {
          "output_type": "execute_result",
          "data": {
            "text/plain": [
              "76.5"
            ]
          },
          "metadata": {
            "tags": []
          },
          "execution_count": 271
        }
      ]
    },
    {
      "cell_type": "code",
      "metadata": {
        "id": "wu5fLQ2rf-QX",
        "colab_type": "code",
        "colab": {}
      },
      "source": [
        "scores2 = [60, 72, 90, 100]"
      ],
      "execution_count": null,
      "outputs": []
    },
    {
      "cell_type": "code",
      "metadata": {
        "id": "8mY4MOpDgB-y",
        "colab_type": "code",
        "colab": {
          "base_uri": "https://localhost:8080/"
        },
        "outputId": "1bebf2c6-0524-485c-bed1-3a461de73270"
      },
      "source": [
        "sum(scores2) / len(scores2)"
      ],
      "execution_count": null,
      "outputs": [
        {
          "output_type": "execute_result",
          "data": {
            "text/plain": [
              "80.5"
            ]
          },
          "metadata": {
            "tags": []
          },
          "execution_count": 273
        }
      ]
    },
    {
      "cell_type": "markdown",
      "metadata": {
        "id": "AzZyqYJ5gF4T",
        "colab_type": "text"
      },
      "source": [
        "#### Function Arguments: Positional vs Keyword"
      ]
    },
    {
      "cell_type": "code",
      "metadata": {
        "id": "cZv2JczAi93e",
        "colab_type": "code",
        "colab": {}
      },
      "source": [
        "# Q: define a function that formats a name from 'Mary Anderson' to 'Anderson, Mary'"
      ],
      "execution_count": null,
      "outputs": []
    },
    {
      "cell_type": "code",
      "metadata": {
        "id": "8JlLjVNbkCny",
        "colab_type": "code",
        "colab": {}
      },
      "source": [
        "def reverse_name(first, last):\n",
        "  return \"{}, {}\".format(last, first)"
      ],
      "execution_count": null,
      "outputs": []
    },
    {
      "cell_type": "code",
      "metadata": {
        "id": "fjA9LoP4kSm8",
        "colab_type": "code",
        "colab": {
          "base_uri": "https://localhost:8080/"
        },
        "outputId": "2db50291-1815-43bc-84e8-e968bfefdb36"
      },
      "source": [
        "reverse_name('Mary', 'Anderson') # positional"
      ],
      "execution_count": null,
      "outputs": [
        {
          "output_type": "execute_result",
          "data": {
            "text/plain": [
              "'Anderson, Mary'"
            ]
          },
          "metadata": {
            "tags": []
          },
          "execution_count": 276
        }
      ]
    },
    {
      "cell_type": "code",
      "metadata": {
        "id": "OJSDovXLkVIg",
        "colab_type": "code",
        "colab": {
          "base_uri": "https://localhost:8080/"
        },
        "outputId": "0e636142-38af-416b-adb8-8ccfa04f73d5"
      },
      "source": [
        "reverse_name(first='Mary', last='Anderson') # keyword"
      ],
      "execution_count": null,
      "outputs": [
        {
          "output_type": "execute_result",
          "data": {
            "text/plain": [
              "'Anderson, Mary'"
            ]
          },
          "metadata": {
            "tags": []
          },
          "execution_count": 277
        }
      ]
    },
    {
      "cell_type": "code",
      "metadata": {
        "id": "wZYpPbg-kqfa",
        "colab_type": "code",
        "colab": {
          "base_uri": "https://localhost:8080/"
        },
        "outputId": "36de1d98-e552-4d19-9482-65866ba1f72a"
      },
      "source": [
        "reverse_name(last='Anderson', first='Mary')"
      ],
      "execution_count": null,
      "outputs": [
        {
          "output_type": "execute_result",
          "data": {
            "text/plain": [
              "'Anderson, Mary'"
            ]
          },
          "metadata": {
            "tags": []
          },
          "execution_count": 278
        }
      ]
    },
    {
      "cell_type": "code",
      "metadata": {
        "id": "CR6Tqtg-k3_0",
        "colab_type": "code",
        "colab": {
          "base_uri": "https://localhost:8080/"
        },
        "outputId": "4add4095-04fc-4ab1-e014-2a34f00d151f"
      },
      "source": [
        "reverse_name('Anderson', 'Mary') # wrong!"
      ],
      "execution_count": null,
      "outputs": [
        {
          "output_type": "execute_result",
          "data": {
            "text/plain": [
              "'Mary, Anderson'"
            ]
          },
          "metadata": {
            "tags": []
          },
          "execution_count": 279
        }
      ]
    },
    {
      "cell_type": "code",
      "metadata": {
        "id": "kLoDXj9Rk8Ne",
        "colab_type": "code",
        "colab": {
          "base_uri": "https://localhost:8080/"
        },
        "outputId": "2e6cc736-7f28-44c9-8c51-509bb6a8f472"
      },
      "source": [
        "reverse_name('Mary', last='Anderson')"
      ],
      "execution_count": null,
      "outputs": [
        {
          "output_type": "execute_result",
          "data": {
            "text/plain": [
              "'Anderson, Mary'"
            ]
          },
          "metadata": {
            "tags": []
          },
          "execution_count": 280
        }
      ]
    },
    {
      "cell_type": "code",
      "metadata": {
        "id": "2OMkfV1elJli",
        "colab_type": "code",
        "colab": {}
      },
      "source": [
        "# reverse_name(first='Mary', 'Anderson') # wrong, syntaxerror!"
      ],
      "execution_count": null,
      "outputs": []
    },
    {
      "cell_type": "markdown",
      "metadata": {
        "id": "TkufyEIQlUvg",
        "colab_type": "text"
      },
      "source": [
        "#### Lambdas"
      ]
    },
    {
      "cell_type": "code",
      "metadata": {
        "id": "llfADYrXw1z-",
        "colab_type": "code",
        "colab": {
          "base_uri": "https://localhost:8080/"
        },
        "outputId": "554f4dec-00bc-4bae-f59e-1717f8c2deff"
      },
      "source": [
        "numbers"
      ],
      "execution_count": null,
      "outputs": [
        {
          "output_type": "execute_result",
          "data": {
            "text/plain": [
              "[10, 2, 4, 12, 13, 1, 712, 23, 2, 192]"
            ]
          },
          "metadata": {
            "tags": []
          },
          "execution_count": 282
        }
      ]
    },
    {
      "cell_type": "markdown",
      "metadata": {
        "id": "rwmH9m1ulsUH",
        "colab_type": "text"
      },
      "source": [
        "* lambdas are functions that don't have a name, i.e. they're anonymous"
      ]
    },
    {
      "cell_type": "code",
      "metadata": {
        "id": "aAMdtjIMyY6T",
        "colab_type": "code",
        "colab": {}
      },
      "source": [
        "# def function_name(param):\n",
        "#   # function definition"
      ],
      "execution_count": null,
      "outputs": []
    },
    {
      "cell_type": "code",
      "metadata": {
        "id": "1TC54pdgydSZ",
        "colab_type": "code",
        "colab": {
          "base_uri": "https://localhost:8080/"
        },
        "outputId": "817ed6ae-2cd5-4778-e5a3-d0882875e6fd"
      },
      "source": [
        "lambda x: x ** 3"
      ],
      "execution_count": null,
      "outputs": [
        {
          "output_type": "execute_result",
          "data": {
            "text/plain": [
              "<function __main__.<lambda>>"
            ]
          },
          "metadata": {
            "tags": []
          },
          "execution_count": 284
        }
      ]
    },
    {
      "cell_type": "code",
      "metadata": {
        "id": "NoUYmRciyuto",
        "colab_type": "code",
        "colab": {}
      },
      "source": [
        "a = 10"
      ],
      "execution_count": null,
      "outputs": []
    },
    {
      "cell_type": "code",
      "metadata": {
        "id": "pIee2FKyyxMU",
        "colab_type": "code",
        "colab": {}
      },
      "source": [
        "# _(10) "
      ],
      "execution_count": null,
      "outputs": []
    },
    {
      "cell_type": "code",
      "metadata": {
        "id": "T_CMgZqEy2Uy",
        "colab_type": "code",
        "colab": {}
      },
      "source": [
        "cube_it = lambda x: x ** 3"
      ],
      "execution_count": null,
      "outputs": []
    },
    {
      "cell_type": "code",
      "metadata": {
        "id": "ZrK5twJ-y6Ru",
        "colab_type": "code",
        "colab": {
          "base_uri": "https://localhost:8080/"
        },
        "outputId": "5eb55abd-65e1-453c-cd89-9ce68ebee93f"
      },
      "source": [
        "cube_it(20)"
      ],
      "execution_count": null,
      "outputs": [
        {
          "output_type": "execute_result",
          "data": {
            "text/plain": [
              "8000"
            ]
          },
          "metadata": {
            "tags": []
          },
          "execution_count": 288
        }
      ]
    },
    {
      "cell_type": "code",
      "metadata": {
        "id": "DjBxFQqqy_Eh",
        "colab_type": "code",
        "colab": {}
      },
      "source": [
        "def cube_it2(n):\n",
        "  return n ** 3"
      ],
      "execution_count": null,
      "outputs": []
    },
    {
      "cell_type": "markdown",
      "metadata": {
        "id": "C5B36Qe0ukSA",
        "colab_type": "text"
      },
      "source": [
        "* lambdas as great for doing one thing in one place"
      ]
    },
    {
      "cell_type": "markdown",
      "metadata": {
        "id": "qXaHCigpunp3",
        "colab_type": "text"
      },
      "source": [
        "* they contain only one statement and they automatically return the result of that statement"
      ]
    },
    {
      "cell_type": "code",
      "metadata": {
        "id": "RlaeNp4YzFRE",
        "colab_type": "code",
        "colab": {}
      },
      "source": [
        "# map()"
      ],
      "execution_count": null,
      "outputs": []
    },
    {
      "cell_type": "code",
      "metadata": {
        "id": "4m89uVJgzG3j",
        "colab_type": "code",
        "colab": {
          "base_uri": "https://localhost:8080/"
        },
        "outputId": "f38246be-a460-498e-a69e-e91da20175a3"
      },
      "source": [
        "numbers"
      ],
      "execution_count": null,
      "outputs": [
        {
          "output_type": "execute_result",
          "data": {
            "text/plain": [
              "[10, 2, 4, 12, 13, 1, 712, 23, 2, 192]"
            ]
          },
          "metadata": {
            "tags": []
          },
          "execution_count": 291
        }
      ]
    },
    {
      "cell_type": "code",
      "metadata": {
        "id": "SIDoUu5kzHh4",
        "colab_type": "code",
        "colab": {
          "base_uri": "https://localhost:8080/"
        },
        "outputId": "37845ded-9485-49fb-c38b-6da9f65b3962"
      },
      "source": [
        "list(map(cube_it2, numbers))"
      ],
      "execution_count": null,
      "outputs": [
        {
          "output_type": "execute_result",
          "data": {
            "text/plain": [
              "[1000, 8, 64, 1728, 2197, 1, 360944128, 12167, 8, 7077888]"
            ]
          },
          "metadata": {
            "tags": []
          },
          "execution_count": 292
        }
      ]
    },
    {
      "cell_type": "code",
      "metadata": {
        "id": "h9mtgbDazN_7",
        "colab_type": "code",
        "colab": {
          "base_uri": "https://localhost:8080/"
        },
        "outputId": "1677dfc8-33ca-43fb-c8b4-3023d624907f"
      },
      "source": [
        "list(map(lambda x: x ** 3, numbers))"
      ],
      "execution_count": null,
      "outputs": [
        {
          "output_type": "execute_result",
          "data": {
            "text/plain": [
              "[1000, 8, 64, 1728, 2197, 1, 360944128, 12167, 8, 7077888]"
            ]
          },
          "metadata": {
            "tags": []
          },
          "execution_count": 293
        }
      ]
    },
    {
      "cell_type": "markdown",
      "metadata": {
        "id": "7-MO45NfzWE2",
        "colab_type": "text"
      },
      "source": [
        "#### Importing Modules"
      ]
    },
    {
      "cell_type": "code",
      "metadata": {
        "id": "VMZGXyqw9Y56",
        "colab_type": "code",
        "colab": {}
      },
      "source": [
        "def get_average(scores_list):\n",
        "  _avg = sum(scores_list) / len(scores_list)\n",
        "\n",
        "  return _avg"
      ],
      "execution_count": null,
      "outputs": []
    },
    {
      "cell_type": "markdown",
      "metadata": {
        "id": "T92qf1890Mb7",
        "colab_type": "text"
      },
      "source": [
        "* modules define variables, functions, or classes that could be referenced by other programs"
      ]
    },
    {
      "cell_type": "markdown",
      "metadata": {
        "id": "llyXBk__7sFH",
        "colab_type": "text"
      },
      "source": [
        "* a lot of functionality comes with modules from Python Standard Library"
      ]
    },
    {
      "cell_type": "markdown",
      "metadata": {
        "id": "GERb072e8EZz",
        "colab_type": "text"
      },
      "source": [
        "* we access modules using the *import* keyword"
      ]
    },
    {
      "cell_type": "code",
      "metadata": {
        "id": "7urnFGqXAdTM",
        "colab_type": "code",
        "colab": {}
      },
      "source": [
        "import statistics"
      ],
      "execution_count": null,
      "outputs": []
    },
    {
      "cell_type": "code",
      "metadata": {
        "id": "t8sGdayuAZ5o",
        "colab_type": "code",
        "colab": {
          "base_uri": "https://localhost:8080/"
        },
        "outputId": "ac77c3ad-2faf-47ef-8f43-7489db341230"
      },
      "source": [
        "scores"
      ],
      "execution_count": null,
      "outputs": [
        {
          "output_type": "execute_result",
          "data": {
            "text/plain": [
              "[90, 73, 43, 100]"
            ]
          },
          "metadata": {
            "tags": []
          },
          "execution_count": 296
        }
      ]
    },
    {
      "cell_type": "code",
      "metadata": {
        "id": "YZ10XaR5Ajkk",
        "colab_type": "code",
        "colab": {
          "base_uri": "https://localhost:8080/"
        },
        "outputId": "0524ff69-cce3-484c-faeb-bff0a0a9811f"
      },
      "source": [
        "get_average(scores)"
      ],
      "execution_count": null,
      "outputs": [
        {
          "output_type": "execute_result",
          "data": {
            "text/plain": [
              "76.5"
            ]
          },
          "metadata": {
            "tags": []
          },
          "execution_count": 297
        }
      ]
    },
    {
      "cell_type": "code",
      "metadata": {
        "id": "2OcaNyvXAnGW",
        "colab_type": "code",
        "colab": {
          "base_uri": "https://localhost:8080/"
        },
        "outputId": "d73c25e5-54ae-4048-f8c0-8d37300722ce"
      },
      "source": [
        "statistics.mean(scores)"
      ],
      "execution_count": null,
      "outputs": [
        {
          "output_type": "execute_result",
          "data": {
            "text/plain": [
              "76.5"
            ]
          },
          "metadata": {
            "tags": []
          },
          "execution_count": 298
        }
      ]
    },
    {
      "cell_type": "markdown",
      "metadata": {
        "id": "y-OObl1f8rk6",
        "colab_type": "text"
      },
      "source": [
        "* to import specific functions from a module we use *from < module > import < function >*"
      ]
    },
    {
      "cell_type": "code",
      "metadata": {
        "id": "PcFjUQj9AsiD",
        "colab_type": "code",
        "colab": {}
      },
      "source": [
        "from statistics import mean"
      ],
      "execution_count": null,
      "outputs": []
    },
    {
      "cell_type": "code",
      "metadata": {
        "id": "1iv01DMGAv-z",
        "colab_type": "code",
        "colab": {
          "base_uri": "https://localhost:8080/"
        },
        "outputId": "4c754456-4557-437c-e04e-b77cc90f8171"
      },
      "source": [
        "mean(scores)"
      ],
      "execution_count": null,
      "outputs": [
        {
          "output_type": "execute_result",
          "data": {
            "text/plain": [
              "76.5"
            ]
          },
          "metadata": {
            "tags": []
          },
          "execution_count": 300
        }
      ]
    },
    {
      "cell_type": "markdown",
      "metadata": {
        "id": "8QnZB2F4860D",
        "colab_type": "text"
      },
      "source": [
        "* we could alias our imports using the *as* keyword"
      ]
    },
    {
      "cell_type": "code",
      "metadata": {
        "id": "mfrLOvaDA09b",
        "colab_type": "code",
        "colab": {}
      },
      "source": [
        "from statistics import mean as avg"
      ],
      "execution_count": null,
      "outputs": []
    },
    {
      "cell_type": "code",
      "metadata": {
        "id": "aOSeKlvHA3G1",
        "colab_type": "code",
        "colab": {
          "base_uri": "https://localhost:8080/"
        },
        "outputId": "cef01d9d-8bde-4a8f-f46b-166e65fa4093"
      },
      "source": [
        "avg(scores)"
      ],
      "execution_count": null,
      "outputs": [
        {
          "output_type": "execute_result",
          "data": {
            "text/plain": [
              "76.5"
            ]
          },
          "metadata": {
            "tags": []
          },
          "execution_count": 302
        }
      ]
    },
    {
      "cell_type": "code",
      "metadata": {
        "id": "KoSnF6iWA6oF",
        "colab_type": "code",
        "colab": {}
      },
      "source": [
        "# import pandas as pd\n",
        "# from matplotlib import pyplot as plt"
      ],
      "execution_count": null,
      "outputs": []
    },
    {
      "cell_type": "code",
      "metadata": {
        "id": "wyL23jPjBN5O",
        "colab_type": "code",
        "colab": {}
      },
      "source": [
        ""
      ],
      "execution_count": null,
      "outputs": []
    }
  ]
}