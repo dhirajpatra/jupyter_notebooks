{
  "nbformat": 4,
  "nbformat_minor": 0,
  "metadata": {
    "colab": {
      "name": "GroupBy And Aggregates",
      "provenance": [],
      "collapsed_sections": []
    },
    "kernelspec": {
      "name": "python3",
      "display_name": "Python 3"
    }
  },
  "cells": [
    {
      "cell_type": "code",
      "metadata": {
        "id": "nK8fuBZJmtyU",
        "colab_type": "code",
        "colab": {}
      },
      "source": [
        "import pandas as pd\n",
        "import numpy as np"
      ],
      "execution_count": null,
      "outputs": []
    },
    {
      "cell_type": "code",
      "metadata": {
        "id": "6UN-AxxBnQP_",
        "colab_type": "code",
        "colab": {
          "base_uri": "https://localhost:8080/",
          "height": 34
        },
        "outputId": "179ea105-67f7-40e3-806f-09f200a095e1"
      },
      "source": [
        "pd.__version__"
      ],
      "execution_count": null,
      "outputs": [
        {
          "output_type": "execute_result",
          "data": {
            "text/plain": [
              "'1.0.3'"
            ]
          },
          "metadata": {
            "tags": []
          },
          "execution_count": 2
        }
      ]
    },
    {
      "cell_type": "markdown",
      "metadata": {
        "id": "QWHvG_ornROy",
        "colab_type": "text"
      },
      "source": [
        "#### New Data: Game Sales\n",
        "\n",
        "> https://andybek.com/pandas-games\n",
        "\n",
        "*...also attached as a resource!*"
      ]
    },
    {
      "cell_type": "code",
      "metadata": {
        "id": "WDmS9IOmqimL",
        "colab_type": "code",
        "colab": {}
      },
      "source": [
        "games_url = 'https://andybek.com/pandas-games'"
      ],
      "execution_count": null,
      "outputs": []
    },
    {
      "cell_type": "code",
      "metadata": {
        "id": "e6hWgOKHsA83",
        "colab_type": "code",
        "colab": {}
      },
      "source": [
        "games = pd.read_csv(games_url)"
      ],
      "execution_count": null,
      "outputs": []
    },
    {
      "cell_type": "code",
      "metadata": {
        "id": "Vi5l0DBrsDIE",
        "colab_type": "code",
        "colab": {
          "base_uri": "https://localhost:8080/"
        },
        "outputId": "3d334d95-76e0-426d-8489-9305cf2144a7"
      },
      "source": [
        "games.info()"
      ],
      "execution_count": null,
      "outputs": [
        {
          "output_type": "stream",
          "text": [
            "<class 'pandas.core.frame.DataFrame'>\n",
            "RangeIndex: 3143 entries, 0 to 3142\n",
            "Data columns (total 10 columns):\n",
            " #   Column        Non-Null Count  Dtype  \n",
            "---  ------        --------------  -----  \n",
            " 0   Name          3143 non-null   object \n",
            " 1   Platform      3143 non-null   object \n",
            " 2   Year          3088 non-null   float64\n",
            " 3   Genre         3143 non-null   object \n",
            " 4   Publisher     3136 non-null   object \n",
            " 5   NA_Sales      3143 non-null   float64\n",
            " 6   EU_Sales      3143 non-null   float64\n",
            " 7   JP_Sales      3143 non-null   float64\n",
            " 8   Other_Sales   3143 non-null   float64\n",
            " 9   Global_Sales  3143 non-null   float64\n",
            "dtypes: float64(6), object(4)\n",
            "memory usage: 245.7+ KB\n"
          ],
          "name": "stdout"
        }
      ]
    },
    {
      "cell_type": "code",
      "metadata": {
        "id": "0uvbgdEPsFHH",
        "colab_type": "code",
        "colab": {
          "base_uri": "https://localhost:8080/"
        },
        "outputId": "6dd4b537-bc01-403c-84ea-b5770d55fb2b"
      },
      "source": [
        "games.head()"
      ],
      "execution_count": null,
      "outputs": [
        {
          "output_type": "execute_result",
          "data": {
            "text/html": [
              "<div>\n",
              "<style scoped>\n",
              "    .dataframe tbody tr th:only-of-type {\n",
              "        vertical-align: middle;\n",
              "    }\n",
              "\n",
              "    .dataframe tbody tr th {\n",
              "        vertical-align: top;\n",
              "    }\n",
              "\n",
              "    .dataframe thead th {\n",
              "        text-align: right;\n",
              "    }\n",
              "</style>\n",
              "<table border=\"1\" class=\"dataframe\">\n",
              "  <thead>\n",
              "    <tr style=\"text-align: right;\">\n",
              "      <th></th>\n",
              "      <th>Name</th>\n",
              "      <th>Platform</th>\n",
              "      <th>Year</th>\n",
              "      <th>Genre</th>\n",
              "      <th>Publisher</th>\n",
              "      <th>NA_Sales</th>\n",
              "      <th>EU_Sales</th>\n",
              "      <th>JP_Sales</th>\n",
              "      <th>Other_Sales</th>\n",
              "      <th>Global_Sales</th>\n",
              "    </tr>\n",
              "  </thead>\n",
              "  <tbody>\n",
              "    <tr>\n",
              "      <th>0</th>\n",
              "      <td>Kinect Adventures!</td>\n",
              "      <td>X360</td>\n",
              "      <td>2010.0</td>\n",
              "      <td>Misc</td>\n",
              "      <td>Microsoft Game Studios</td>\n",
              "      <td>14.97</td>\n",
              "      <td>4.94</td>\n",
              "      <td>0.24</td>\n",
              "      <td>1.67</td>\n",
              "      <td>21.82</td>\n",
              "    </tr>\n",
              "    <tr>\n",
              "      <th>1</th>\n",
              "      <td>Grand Theft Auto V</td>\n",
              "      <td>PS3</td>\n",
              "      <td>2013.0</td>\n",
              "      <td>Action</td>\n",
              "      <td>Take-Two Interactive</td>\n",
              "      <td>7.01</td>\n",
              "      <td>9.27</td>\n",
              "      <td>0.97</td>\n",
              "      <td>4.14</td>\n",
              "      <td>21.40</td>\n",
              "    </tr>\n",
              "    <tr>\n",
              "      <th>2</th>\n",
              "      <td>Grand Theft Auto V</td>\n",
              "      <td>X360</td>\n",
              "      <td>2013.0</td>\n",
              "      <td>Action</td>\n",
              "      <td>Take-Two Interactive</td>\n",
              "      <td>9.63</td>\n",
              "      <td>5.31</td>\n",
              "      <td>0.06</td>\n",
              "      <td>1.38</td>\n",
              "      <td>16.38</td>\n",
              "    </tr>\n",
              "    <tr>\n",
              "      <th>3</th>\n",
              "      <td>Call of Duty: Modern Warfare 3</td>\n",
              "      <td>X360</td>\n",
              "      <td>2011.0</td>\n",
              "      <td>Shooter</td>\n",
              "      <td>Activision</td>\n",
              "      <td>9.03</td>\n",
              "      <td>4.28</td>\n",
              "      <td>0.13</td>\n",
              "      <td>1.32</td>\n",
              "      <td>14.76</td>\n",
              "    </tr>\n",
              "    <tr>\n",
              "      <th>4</th>\n",
              "      <td>Call of Duty: Black Ops</td>\n",
              "      <td>X360</td>\n",
              "      <td>2010.0</td>\n",
              "      <td>Shooter</td>\n",
              "      <td>Activision</td>\n",
              "      <td>9.67</td>\n",
              "      <td>3.73</td>\n",
              "      <td>0.11</td>\n",
              "      <td>1.13</td>\n",
              "      <td>14.64</td>\n",
              "    </tr>\n",
              "  </tbody>\n",
              "</table>\n",
              "</div>"
            ],
            "text/plain": [
              "                             Name Platform  ...  Other_Sales Global_Sales\n",
              "0              Kinect Adventures!     X360  ...         1.67        21.82\n",
              "1              Grand Theft Auto V      PS3  ...         4.14        21.40\n",
              "2              Grand Theft Auto V     X360  ...         1.38        16.38\n",
              "3  Call of Duty: Modern Warfare 3     X360  ...         1.32        14.76\n",
              "4         Call of Duty: Black Ops     X360  ...         1.13        14.64\n",
              "\n",
              "[5 rows x 10 columns]"
            ]
          },
          "metadata": {
            "tags": []
          },
          "execution_count": 6
        }
      ]
    },
    {
      "cell_type": "markdown",
      "metadata": {
        "id": "XzW11ywusGOs",
        "colab_type": "text"
      },
      "source": [
        "#### Simple Aggregations"
      ]
    },
    {
      "cell_type": "code",
      "metadata": {
        "id": "z8HuU9OztaNE",
        "colab_type": "code",
        "colab": {
          "base_uri": "https://localhost:8080/"
        },
        "outputId": "a8006a0e-cdc9-4cf7-8124-34f6fbc76cf0"
      },
      "source": [
        "games.head()"
      ],
      "execution_count": null,
      "outputs": [
        {
          "output_type": "execute_result",
          "data": {
            "text/html": [
              "<div>\n",
              "<style scoped>\n",
              "    .dataframe tbody tr th:only-of-type {\n",
              "        vertical-align: middle;\n",
              "    }\n",
              "\n",
              "    .dataframe tbody tr th {\n",
              "        vertical-align: top;\n",
              "    }\n",
              "\n",
              "    .dataframe thead th {\n",
              "        text-align: right;\n",
              "    }\n",
              "</style>\n",
              "<table border=\"1\" class=\"dataframe\">\n",
              "  <thead>\n",
              "    <tr style=\"text-align: right;\">\n",
              "      <th></th>\n",
              "      <th>Name</th>\n",
              "      <th>Platform</th>\n",
              "      <th>Year</th>\n",
              "      <th>Genre</th>\n",
              "      <th>Publisher</th>\n",
              "      <th>NA_Sales</th>\n",
              "      <th>EU_Sales</th>\n",
              "      <th>JP_Sales</th>\n",
              "      <th>Other_Sales</th>\n",
              "      <th>Global_Sales</th>\n",
              "    </tr>\n",
              "  </thead>\n",
              "  <tbody>\n",
              "    <tr>\n",
              "      <th>0</th>\n",
              "      <td>Kinect Adventures!</td>\n",
              "      <td>X360</td>\n",
              "      <td>2010.0</td>\n",
              "      <td>Misc</td>\n",
              "      <td>Microsoft Game Studios</td>\n",
              "      <td>14.97</td>\n",
              "      <td>4.94</td>\n",
              "      <td>0.24</td>\n",
              "      <td>1.67</td>\n",
              "      <td>21.82</td>\n",
              "    </tr>\n",
              "    <tr>\n",
              "      <th>1</th>\n",
              "      <td>Grand Theft Auto V</td>\n",
              "      <td>PS3</td>\n",
              "      <td>2013.0</td>\n",
              "      <td>Action</td>\n",
              "      <td>Take-Two Interactive</td>\n",
              "      <td>7.01</td>\n",
              "      <td>9.27</td>\n",
              "      <td>0.97</td>\n",
              "      <td>4.14</td>\n",
              "      <td>21.40</td>\n",
              "    </tr>\n",
              "    <tr>\n",
              "      <th>2</th>\n",
              "      <td>Grand Theft Auto V</td>\n",
              "      <td>X360</td>\n",
              "      <td>2013.0</td>\n",
              "      <td>Action</td>\n",
              "      <td>Take-Two Interactive</td>\n",
              "      <td>9.63</td>\n",
              "      <td>5.31</td>\n",
              "      <td>0.06</td>\n",
              "      <td>1.38</td>\n",
              "      <td>16.38</td>\n",
              "    </tr>\n",
              "    <tr>\n",
              "      <th>3</th>\n",
              "      <td>Call of Duty: Modern Warfare 3</td>\n",
              "      <td>X360</td>\n",
              "      <td>2011.0</td>\n",
              "      <td>Shooter</td>\n",
              "      <td>Activision</td>\n",
              "      <td>9.03</td>\n",
              "      <td>4.28</td>\n",
              "      <td>0.13</td>\n",
              "      <td>1.32</td>\n",
              "      <td>14.76</td>\n",
              "    </tr>\n",
              "    <tr>\n",
              "      <th>4</th>\n",
              "      <td>Call of Duty: Black Ops</td>\n",
              "      <td>X360</td>\n",
              "      <td>2010.0</td>\n",
              "      <td>Shooter</td>\n",
              "      <td>Activision</td>\n",
              "      <td>9.67</td>\n",
              "      <td>3.73</td>\n",
              "      <td>0.11</td>\n",
              "      <td>1.13</td>\n",
              "      <td>14.64</td>\n",
              "    </tr>\n",
              "  </tbody>\n",
              "</table>\n",
              "</div>"
            ],
            "text/plain": [
              "                             Name Platform  ...  Other_Sales Global_Sales\n",
              "0              Kinect Adventures!     X360  ...         1.67        21.82\n",
              "1              Grand Theft Auto V      PS3  ...         4.14        21.40\n",
              "2              Grand Theft Auto V     X360  ...         1.38        16.38\n",
              "3  Call of Duty: Modern Warfare 3     X360  ...         1.32        14.76\n",
              "4         Call of Duty: Black Ops     X360  ...         1.13        14.64\n",
              "\n",
              "[5 rows x 10 columns]"
            ]
          },
          "metadata": {
            "tags": []
          },
          "execution_count": 7
        }
      ]
    },
    {
      "cell_type": "code",
      "metadata": {
        "id": "_LoQ0BP6vPkl",
        "colab_type": "code",
        "colab": {}
      },
      "source": [
        "# previously aggregates: mean, sum, std, var"
      ],
      "execution_count": null,
      "outputs": []
    },
    {
      "cell_type": "code",
      "metadata": {
        "id": "DRCPDtfFxZFi",
        "colab_type": "code",
        "colab": {}
      },
      "source": [
        "# Q: what are the total sales across all regions?"
      ],
      "execution_count": null,
      "outputs": []
    },
    {
      "cell_type": "code",
      "metadata": {
        "id": "1L4jgt00xxzU",
        "colab_type": "code",
        "colab": {
          "base_uri": "https://localhost:8080/"
        },
        "outputId": "b29d5cc0-bc94-4560-84a3-2a39af5412a4"
      },
      "source": [
        "games.loc[:, ['NA_Sales', 'EU_Sales', 'JP_Sales', 'Other_Sales']].max(axis=0)"
      ],
      "execution_count": null,
      "outputs": [
        {
          "output_type": "execute_result",
          "data": {
            "text/plain": [
              "NA_Sales       14.97\n",
              "EU_Sales        9.27\n",
              "JP_Sales        1.87\n",
              "Other_Sales     4.14\n",
              "dtype: float64"
            ]
          },
          "metadata": {
            "tags": []
          },
          "execution_count": 10
        }
      ]
    },
    {
      "cell_type": "code",
      "metadata": {
        "id": "KYG70OwLx8m2",
        "colab_type": "code",
        "colab": {
          "base_uri": "https://localhost:8080/"
        },
        "outputId": "2935b6b4-d35d-42e3-ffff-b8a17e72b0a3"
      },
      "source": [
        "games.loc[:, ['NA_Sales', 'EU_Sales', 'JP_Sales', 'Other_Sales']].max(axis=1)"
      ],
      "execution_count": null,
      "outputs": [
        {
          "output_type": "execute_result",
          "data": {
            "text/plain": [
              "0       14.97\n",
              "1        9.27\n",
              "2        9.63\n",
              "3        9.03\n",
              "4        9.67\n",
              "        ...  \n",
              "3138     0.01\n",
              "3139     0.01\n",
              "3140     0.01\n",
              "3141     0.01\n",
              "3142     0.01\n",
              "Length: 3143, dtype: float64"
            ]
          },
          "metadata": {
            "tags": []
          },
          "execution_count": 11
        }
      ]
    },
    {
      "cell_type": "markdown",
      "metadata": {
        "id": "HCuAdIT3yk9Z",
        "colab_type": "text"
      },
      "source": [
        "#### Conditional Aggregates"
      ]
    },
    {
      "cell_type": "code",
      "metadata": {
        "id": "tNVDnc-e4Fm7",
        "colab_type": "code",
        "colab": {
          "base_uri": "https://localhost:8080/"
        },
        "outputId": "57e9d858-cd65-4bc3-829e-0b276c06afdb"
      },
      "source": [
        "games.loc[:, ['NA_Sales', 'EU_Sales', 'JP_Sales', 'Other_Sales']].max(axis=0)"
      ],
      "execution_count": null,
      "outputs": [
        {
          "output_type": "execute_result",
          "data": {
            "text/plain": [
              "NA_Sales       14.97\n",
              "EU_Sales        9.27\n",
              "JP_Sales        1.87\n",
              "Other_Sales     4.14\n",
              "dtype: float64"
            ]
          },
          "metadata": {
            "tags": []
          },
          "execution_count": 12
        }
      ]
    },
    {
      "cell_type": "code",
      "metadata": {
        "id": "TP0fZ2026-pD",
        "colab_type": "code",
        "colab": {
          "base_uri": "https://localhost:8080/"
        },
        "outputId": "492fe007-fd70-43dd-fa84-12645103313f"
      },
      "source": [
        "games.Platform.unique()"
      ],
      "execution_count": null,
      "outputs": [
        {
          "output_type": "execute_result",
          "data": {
            "text/plain": [
              "array(['X360', 'PS3', 'PS4', 'XOne'], dtype=object)"
            ]
          },
          "metadata": {
            "tags": []
          },
          "execution_count": 13
        }
      ]
    },
    {
      "cell_type": "code",
      "metadata": {
        "id": "g_zm-1Rp8FlK",
        "colab_type": "code",
        "colab": {}
      },
      "source": [
        "# Q: find the total sales by region for X360 and PS3"
      ],
      "execution_count": null,
      "outputs": []
    },
    {
      "cell_type": "code",
      "metadata": {
        "id": "A9NQHCMn8KsB",
        "colab_type": "code",
        "colab": {}
      },
      "source": [
        "sales = games.loc[:, ['Platform', 'NA_Sales', 'EU_Sales', 'JP_Sales', 'Other_Sales']]"
      ],
      "execution_count": null,
      "outputs": []
    },
    {
      "cell_type": "code",
      "metadata": {
        "id": "CAvaCiud8WVj",
        "colab_type": "code",
        "colab": {
          "base_uri": "https://localhost:8080/"
        },
        "outputId": "83629b67-c3e7-4092-b95e-acaf9adb93a1"
      },
      "source": [
        "sales.head()"
      ],
      "execution_count": null,
      "outputs": [
        {
          "output_type": "execute_result",
          "data": {
            "text/html": [
              "<div>\n",
              "<style scoped>\n",
              "    .dataframe tbody tr th:only-of-type {\n",
              "        vertical-align: middle;\n",
              "    }\n",
              "\n",
              "    .dataframe tbody tr th {\n",
              "        vertical-align: top;\n",
              "    }\n",
              "\n",
              "    .dataframe thead th {\n",
              "        text-align: right;\n",
              "    }\n",
              "</style>\n",
              "<table border=\"1\" class=\"dataframe\">\n",
              "  <thead>\n",
              "    <tr style=\"text-align: right;\">\n",
              "      <th></th>\n",
              "      <th>Platform</th>\n",
              "      <th>NA_Sales</th>\n",
              "      <th>EU_Sales</th>\n",
              "      <th>JP_Sales</th>\n",
              "      <th>Other_Sales</th>\n",
              "    </tr>\n",
              "  </thead>\n",
              "  <tbody>\n",
              "    <tr>\n",
              "      <th>0</th>\n",
              "      <td>X360</td>\n",
              "      <td>14.97</td>\n",
              "      <td>4.94</td>\n",
              "      <td>0.24</td>\n",
              "      <td>1.67</td>\n",
              "    </tr>\n",
              "    <tr>\n",
              "      <th>1</th>\n",
              "      <td>PS3</td>\n",
              "      <td>7.01</td>\n",
              "      <td>9.27</td>\n",
              "      <td>0.97</td>\n",
              "      <td>4.14</td>\n",
              "    </tr>\n",
              "    <tr>\n",
              "      <th>2</th>\n",
              "      <td>X360</td>\n",
              "      <td>9.63</td>\n",
              "      <td>5.31</td>\n",
              "      <td>0.06</td>\n",
              "      <td>1.38</td>\n",
              "    </tr>\n",
              "    <tr>\n",
              "      <th>3</th>\n",
              "      <td>X360</td>\n",
              "      <td>9.03</td>\n",
              "      <td>4.28</td>\n",
              "      <td>0.13</td>\n",
              "      <td>1.32</td>\n",
              "    </tr>\n",
              "    <tr>\n",
              "      <th>4</th>\n",
              "      <td>X360</td>\n",
              "      <td>9.67</td>\n",
              "      <td>3.73</td>\n",
              "      <td>0.11</td>\n",
              "      <td>1.13</td>\n",
              "    </tr>\n",
              "  </tbody>\n",
              "</table>\n",
              "</div>"
            ],
            "text/plain": [
              "  Platform  NA_Sales  EU_Sales  JP_Sales  Other_Sales\n",
              "0     X360     14.97      4.94      0.24         1.67\n",
              "1      PS3      7.01      9.27      0.97         4.14\n",
              "2     X360      9.63      5.31      0.06         1.38\n",
              "3     X360      9.03      4.28      0.13         1.32\n",
              "4     X360      9.67      3.73      0.11         1.13"
            ]
          },
          "metadata": {
            "tags": []
          },
          "execution_count": 16
        }
      ]
    },
    {
      "cell_type": "code",
      "metadata": {
        "id": "GsS-I-qY8XKO",
        "colab_type": "code",
        "colab": {
          "base_uri": "https://localhost:8080/"
        },
        "outputId": "6c2bf13d-d1a0-4c53-a7c9-b2426acf6dd6"
      },
      "source": [
        "sales.sum(numeric_only=True)"
      ],
      "execution_count": null,
      "outputs": [
        {
          "output_type": "execute_result",
          "data": {
            "text/plain": [
              "NA_Sales       1173.30\n",
              "EU_Sales        793.64\n",
              "JP_Sales        107.06\n",
              "Other_Sales     282.75\n",
              "dtype: float64"
            ]
          },
          "metadata": {
            "tags": []
          },
          "execution_count": 17
        }
      ]
    },
    {
      "cell_type": "code",
      "metadata": {
        "id": "g0SkP1358Y4P",
        "colab_type": "code",
        "colab": {
          "base_uri": "https://localhost:8080/"
        },
        "outputId": "2f814641-c8d0-4c63-9616-292157b90d1b"
      },
      "source": [
        "sales.loc[games.Platform == 'X360'].sum(numeric_only=True)"
      ],
      "execution_count": null,
      "outputs": [
        {
          "output_type": "execute_result",
          "data": {
            "text/plain": [
              "NA_Sales       601.05\n",
              "EU_Sales       280.58\n",
              "JP_Sales        12.43\n",
              "Other_Sales     85.54\n",
              "dtype: float64"
            ]
          },
          "metadata": {
            "tags": []
          },
          "execution_count": 18
        }
      ]
    },
    {
      "cell_type": "code",
      "metadata": {
        "id": "vP8r9-ol8v8J",
        "colab_type": "code",
        "colab": {
          "base_uri": "https://localhost:8080/"
        },
        "outputId": "9060484c-0a2a-4e96-d906-901fa347fa7a"
      },
      "source": [
        "sales.loc[games.Platform == 'PS3'].sum(numeric_only=True)"
      ],
      "execution_count": null,
      "outputs": [
        {
          "output_type": "execute_result",
          "data": {
            "text/plain": [
              "NA_Sales       392.26\n",
              "EU_Sales       343.71\n",
              "JP_Sales        79.99\n",
              "Other_Sales    141.93\n",
              "dtype: float64"
            ]
          },
          "metadata": {
            "tags": []
          },
          "execution_count": 19
        }
      ]
    },
    {
      "cell_type": "markdown",
      "metadata": {
        "id": "NxE2qgjF81vB",
        "colab_type": "text"
      },
      "source": [
        "#### The Split-Apply-Combine Pattern"
      ]
    },
    {
      "cell_type": "code",
      "metadata": {
        "id": "45zvmaKmFAJn",
        "colab_type": "code",
        "colab": {}
      },
      "source": [
        "# Q: find the total sales by region for X360 and PS3."
      ],
      "execution_count": null,
      "outputs": []
    },
    {
      "cell_type": "code",
      "metadata": {
        "id": "Ccgm0-aUFM3f",
        "colab_type": "code",
        "colab": {}
      },
      "source": [
        "# 🚫🚫🚫 sales.sum()"
      ],
      "execution_count": null,
      "outputs": []
    },
    {
      "cell_type": "code",
      "metadata": {
        "id": "eVjLzQcLGK2I",
        "colab_type": "code",
        "colab": {}
      },
      "source": [
        "# ✅✅✅"
      ],
      "execution_count": null,
      "outputs": []
    },
    {
      "cell_type": "code",
      "metadata": {
        "id": "BpH858FbAF9p",
        "colab_type": "code",
        "colab": {}
      },
      "source": [
        "# 1. Separate the data"
      ],
      "execution_count": null,
      "outputs": []
    },
    {
      "cell_type": "code",
      "metadata": {
        "id": "oBpbmzJJE6rF",
        "colab_type": "code",
        "colab": {
          "base_uri": "https://localhost:8080/"
        },
        "outputId": "5219cd06-eeee-49af-8c45-f61089bfc640"
      },
      "source": [
        "sales.loc[games.Platform == 'X360']\n",
        "sales.loc[games.Platform == 'PS3']"
      ],
      "execution_count": null,
      "outputs": [
        {
          "output_type": "execute_result",
          "data": {
            "text/html": [
              "<div>\n",
              "<style scoped>\n",
              "    .dataframe tbody tr th:only-of-type {\n",
              "        vertical-align: middle;\n",
              "    }\n",
              "\n",
              "    .dataframe tbody tr th {\n",
              "        vertical-align: top;\n",
              "    }\n",
              "\n",
              "    .dataframe thead th {\n",
              "        text-align: right;\n",
              "    }\n",
              "</style>\n",
              "<table border=\"1\" class=\"dataframe\">\n",
              "  <thead>\n",
              "    <tr style=\"text-align: right;\">\n",
              "      <th></th>\n",
              "      <th>Platform</th>\n",
              "      <th>NA_Sales</th>\n",
              "      <th>EU_Sales</th>\n",
              "      <th>JP_Sales</th>\n",
              "      <th>Other_Sales</th>\n",
              "    </tr>\n",
              "  </thead>\n",
              "  <tbody>\n",
              "    <tr>\n",
              "      <th>1</th>\n",
              "      <td>PS3</td>\n",
              "      <td>7.01</td>\n",
              "      <td>9.27</td>\n",
              "      <td>0.97</td>\n",
              "      <td>4.14</td>\n",
              "    </tr>\n",
              "    <tr>\n",
              "      <th>6</th>\n",
              "      <td>PS3</td>\n",
              "      <td>4.99</td>\n",
              "      <td>5.88</td>\n",
              "      <td>0.65</td>\n",
              "      <td>2.52</td>\n",
              "    </tr>\n",
              "    <tr>\n",
              "      <th>9</th>\n",
              "      <td>PS3</td>\n",
              "      <td>5.54</td>\n",
              "      <td>5.82</td>\n",
              "      <td>0.49</td>\n",
              "      <td>1.62</td>\n",
              "    </tr>\n",
              "    <tr>\n",
              "      <th>10</th>\n",
              "      <td>PS3</td>\n",
              "      <td>5.98</td>\n",
              "      <td>4.44</td>\n",
              "      <td>0.48</td>\n",
              "      <td>1.83</td>\n",
              "    </tr>\n",
              "    <tr>\n",
              "      <th>14</th>\n",
              "      <td>PS3</td>\n",
              "      <td>2.96</td>\n",
              "      <td>4.88</td>\n",
              "      <td>0.81</td>\n",
              "      <td>2.12</td>\n",
              "    </tr>\n",
              "    <tr>\n",
              "      <th>...</th>\n",
              "      <td>...</td>\n",
              "      <td>...</td>\n",
              "      <td>...</td>\n",
              "      <td>...</td>\n",
              "      <td>...</td>\n",
              "    </tr>\n",
              "    <tr>\n",
              "      <th>3124</th>\n",
              "      <td>PS3</td>\n",
              "      <td>0.00</td>\n",
              "      <td>0.01</td>\n",
              "      <td>0.00</td>\n",
              "      <td>0.00</td>\n",
              "    </tr>\n",
              "    <tr>\n",
              "      <th>3125</th>\n",
              "      <td>PS3</td>\n",
              "      <td>0.00</td>\n",
              "      <td>0.00</td>\n",
              "      <td>0.01</td>\n",
              "      <td>0.00</td>\n",
              "    </tr>\n",
              "    <tr>\n",
              "      <th>3129</th>\n",
              "      <td>PS3</td>\n",
              "      <td>0.00</td>\n",
              "      <td>0.00</td>\n",
              "      <td>0.01</td>\n",
              "      <td>0.00</td>\n",
              "    </tr>\n",
              "    <tr>\n",
              "      <th>3132</th>\n",
              "      <td>PS3</td>\n",
              "      <td>0.00</td>\n",
              "      <td>0.00</td>\n",
              "      <td>0.01</td>\n",
              "      <td>0.00</td>\n",
              "    </tr>\n",
              "    <tr>\n",
              "      <th>3136</th>\n",
              "      <td>PS3</td>\n",
              "      <td>0.00</td>\n",
              "      <td>0.00</td>\n",
              "      <td>0.01</td>\n",
              "      <td>0.00</td>\n",
              "    </tr>\n",
              "  </tbody>\n",
              "</table>\n",
              "<p>1329 rows × 5 columns</p>\n",
              "</div>"
            ],
            "text/plain": [
              "     Platform  NA_Sales  EU_Sales  JP_Sales  Other_Sales\n",
              "1         PS3      7.01      9.27      0.97         4.14\n",
              "6         PS3      4.99      5.88      0.65         2.52\n",
              "9         PS3      5.54      5.82      0.49         1.62\n",
              "10        PS3      5.98      4.44      0.48         1.83\n",
              "14        PS3      2.96      4.88      0.81         2.12\n",
              "...       ...       ...       ...       ...          ...\n",
              "3124      PS3      0.00      0.01      0.00         0.00\n",
              "3125      PS3      0.00      0.00      0.01         0.00\n",
              "3129      PS3      0.00      0.00      0.01         0.00\n",
              "3132      PS3      0.00      0.00      0.01         0.00\n",
              "3136      PS3      0.00      0.00      0.01         0.00\n",
              "\n",
              "[1329 rows x 5 columns]"
            ]
          },
          "metadata": {
            "tags": []
          },
          "execution_count": 24
        }
      ]
    },
    {
      "cell_type": "code",
      "metadata": {
        "id": "MSro1EwOGEGC",
        "colab_type": "code",
        "colab": {}
      },
      "source": [
        "# 2. Calculate sum"
      ],
      "execution_count": null,
      "outputs": []
    },
    {
      "cell_type": "code",
      "metadata": {
        "id": "mCSHnadJGGYU",
        "colab_type": "code",
        "colab": {
          "base_uri": "https://localhost:8080/"
        },
        "outputId": "d31afca2-8d65-436e-b806-da18455d96df"
      },
      "source": [
        "sales.loc[games.Platform == 'X360'].sum(numeric_only=True)\n",
        "sales.loc[games.Platform == 'PS3'].sum(numeric_only=True)"
      ],
      "execution_count": null,
      "outputs": [
        {
          "output_type": "execute_result",
          "data": {
            "text/plain": [
              "NA_Sales       392.26\n",
              "EU_Sales       343.71\n",
              "JP_Sales        79.99\n",
              "Other_Sales    141.93\n",
              "dtype: float64"
            ]
          },
          "metadata": {
            "tags": []
          },
          "execution_count": 26
        }
      ]
    },
    {
      "cell_type": "code",
      "metadata": {
        "id": "QKEulzfJIDSC",
        "colab_type": "code",
        "colab": {}
      },
      "source": [
        "# 3. Combine"
      ],
      "execution_count": null,
      "outputs": []
    },
    {
      "cell_type": "markdown",
      "metadata": {
        "id": "jHh3cloSIEFa",
        "colab_type": "text"
      },
      "source": [
        "#### The groupby() Method"
      ]
    },
    {
      "cell_type": "code",
      "metadata": {
        "id": "YqtzbwrdKaET",
        "colab_type": "code",
        "colab": {
          "base_uri": "https://localhost:8080/"
        },
        "outputId": "510537d6-b780-432d-ec1b-cadc866ecc0a"
      },
      "source": [
        "sales"
      ],
      "execution_count": null,
      "outputs": [
        {
          "output_type": "execute_result",
          "data": {
            "text/html": [
              "<div>\n",
              "<style scoped>\n",
              "    .dataframe tbody tr th:only-of-type {\n",
              "        vertical-align: middle;\n",
              "    }\n",
              "\n",
              "    .dataframe tbody tr th {\n",
              "        vertical-align: top;\n",
              "    }\n",
              "\n",
              "    .dataframe thead th {\n",
              "        text-align: right;\n",
              "    }\n",
              "</style>\n",
              "<table border=\"1\" class=\"dataframe\">\n",
              "  <thead>\n",
              "    <tr style=\"text-align: right;\">\n",
              "      <th></th>\n",
              "      <th>Platform</th>\n",
              "      <th>NA_Sales</th>\n",
              "      <th>EU_Sales</th>\n",
              "      <th>JP_Sales</th>\n",
              "      <th>Other_Sales</th>\n",
              "    </tr>\n",
              "  </thead>\n",
              "  <tbody>\n",
              "    <tr>\n",
              "      <th>0</th>\n",
              "      <td>X360</td>\n",
              "      <td>14.97</td>\n",
              "      <td>4.94</td>\n",
              "      <td>0.24</td>\n",
              "      <td>1.67</td>\n",
              "    </tr>\n",
              "    <tr>\n",
              "      <th>1</th>\n",
              "      <td>PS3</td>\n",
              "      <td>7.01</td>\n",
              "      <td>9.27</td>\n",
              "      <td>0.97</td>\n",
              "      <td>4.14</td>\n",
              "    </tr>\n",
              "    <tr>\n",
              "      <th>2</th>\n",
              "      <td>X360</td>\n",
              "      <td>9.63</td>\n",
              "      <td>5.31</td>\n",
              "      <td>0.06</td>\n",
              "      <td>1.38</td>\n",
              "    </tr>\n",
              "    <tr>\n",
              "      <th>3</th>\n",
              "      <td>X360</td>\n",
              "      <td>9.03</td>\n",
              "      <td>4.28</td>\n",
              "      <td>0.13</td>\n",
              "      <td>1.32</td>\n",
              "    </tr>\n",
              "    <tr>\n",
              "      <th>4</th>\n",
              "      <td>X360</td>\n",
              "      <td>9.67</td>\n",
              "      <td>3.73</td>\n",
              "      <td>0.11</td>\n",
              "      <td>1.13</td>\n",
              "    </tr>\n",
              "    <tr>\n",
              "      <th>...</th>\n",
              "      <td>...</td>\n",
              "      <td>...</td>\n",
              "      <td>...</td>\n",
              "      <td>...</td>\n",
              "      <td>...</td>\n",
              "    </tr>\n",
              "    <tr>\n",
              "      <th>3138</th>\n",
              "      <td>X360</td>\n",
              "      <td>0.00</td>\n",
              "      <td>0.01</td>\n",
              "      <td>0.00</td>\n",
              "      <td>0.00</td>\n",
              "    </tr>\n",
              "    <tr>\n",
              "      <th>3139</th>\n",
              "      <td>XOne</td>\n",
              "      <td>0.01</td>\n",
              "      <td>0.00</td>\n",
              "      <td>0.00</td>\n",
              "      <td>0.00</td>\n",
              "    </tr>\n",
              "    <tr>\n",
              "      <th>3140</th>\n",
              "      <td>XOne</td>\n",
              "      <td>0.01</td>\n",
              "      <td>0.00</td>\n",
              "      <td>0.00</td>\n",
              "      <td>0.00</td>\n",
              "    </tr>\n",
              "    <tr>\n",
              "      <th>3141</th>\n",
              "      <td>PS4</td>\n",
              "      <td>0.00</td>\n",
              "      <td>0.01</td>\n",
              "      <td>0.00</td>\n",
              "      <td>0.00</td>\n",
              "    </tr>\n",
              "    <tr>\n",
              "      <th>3142</th>\n",
              "      <td>XOne</td>\n",
              "      <td>0.00</td>\n",
              "      <td>0.01</td>\n",
              "      <td>0.00</td>\n",
              "      <td>0.00</td>\n",
              "    </tr>\n",
              "  </tbody>\n",
              "</table>\n",
              "<p>3143 rows × 5 columns</p>\n",
              "</div>"
            ],
            "text/plain": [
              "     Platform  NA_Sales  EU_Sales  JP_Sales  Other_Sales\n",
              "0        X360     14.97      4.94      0.24         1.67\n",
              "1         PS3      7.01      9.27      0.97         4.14\n",
              "2        X360      9.63      5.31      0.06         1.38\n",
              "3        X360      9.03      4.28      0.13         1.32\n",
              "4        X360      9.67      3.73      0.11         1.13\n",
              "...       ...       ...       ...       ...          ...\n",
              "3138     X360      0.00      0.01      0.00         0.00\n",
              "3139     XOne      0.01      0.00      0.00         0.00\n",
              "3140     XOne      0.01      0.00      0.00         0.00\n",
              "3141      PS4      0.00      0.01      0.00         0.00\n",
              "3142     XOne      0.00      0.01      0.00         0.00\n",
              "\n",
              "[3143 rows x 5 columns]"
            ]
          },
          "metadata": {
            "tags": []
          },
          "execution_count": 28
        }
      ]
    },
    {
      "cell_type": "code",
      "metadata": {
        "id": "jATm1wImKq_G",
        "colab_type": "code",
        "colab": {}
      },
      "source": [
        "# Q: find the total sales by region for X360 and PS3."
      ],
      "execution_count": null,
      "outputs": []
    },
    {
      "cell_type": "code",
      "metadata": {
        "id": "4_U5jdDZMLIR",
        "colab_type": "code",
        "colab": {
          "base_uri": "https://localhost:8080/"
        },
        "outputId": "49f54bd2-10e9-462e-ff43-c002b5de6aae"
      },
      "source": [
        "sales.groupby('Platform').sum()"
      ],
      "execution_count": null,
      "outputs": [
        {
          "output_type": "execute_result",
          "data": {
            "text/html": [
              "<div>\n",
              "<style scoped>\n",
              "    .dataframe tbody tr th:only-of-type {\n",
              "        vertical-align: middle;\n",
              "    }\n",
              "\n",
              "    .dataframe tbody tr th {\n",
              "        vertical-align: top;\n",
              "    }\n",
              "\n",
              "    .dataframe thead th {\n",
              "        text-align: right;\n",
              "    }\n",
              "</style>\n",
              "<table border=\"1\" class=\"dataframe\">\n",
              "  <thead>\n",
              "    <tr style=\"text-align: right;\">\n",
              "      <th></th>\n",
              "      <th>NA_Sales</th>\n",
              "      <th>EU_Sales</th>\n",
              "      <th>JP_Sales</th>\n",
              "      <th>Other_Sales</th>\n",
              "    </tr>\n",
              "    <tr>\n",
              "      <th>Platform</th>\n",
              "      <th></th>\n",
              "      <th></th>\n",
              "      <th></th>\n",
              "      <th></th>\n",
              "    </tr>\n",
              "  </thead>\n",
              "  <tbody>\n",
              "    <tr>\n",
              "      <th>PS3</th>\n",
              "      <td>392.26</td>\n",
              "      <td>343.71</td>\n",
              "      <td>79.99</td>\n",
              "      <td>141.93</td>\n",
              "    </tr>\n",
              "    <tr>\n",
              "      <th>PS4</th>\n",
              "      <td>96.80</td>\n",
              "      <td>123.70</td>\n",
              "      <td>14.30</td>\n",
              "      <td>43.36</td>\n",
              "    </tr>\n",
              "    <tr>\n",
              "      <th>X360</th>\n",
              "      <td>601.05</td>\n",
              "      <td>280.58</td>\n",
              "      <td>12.43</td>\n",
              "      <td>85.54</td>\n",
              "    </tr>\n",
              "    <tr>\n",
              "      <th>XOne</th>\n",
              "      <td>83.19</td>\n",
              "      <td>45.65</td>\n",
              "      <td>0.34</td>\n",
              "      <td>11.92</td>\n",
              "    </tr>\n",
              "  </tbody>\n",
              "</table>\n",
              "</div>"
            ],
            "text/plain": [
              "          NA_Sales  EU_Sales  JP_Sales  Other_Sales\n",
              "Platform                                           \n",
              "PS3         392.26    343.71     79.99       141.93\n",
              "PS4          96.80    123.70     14.30        43.36\n",
              "X360        601.05    280.58     12.43        85.54\n",
              "XOne         83.19     45.65      0.34        11.92"
            ]
          },
          "metadata": {
            "tags": []
          },
          "execution_count": 30
        }
      ]
    },
    {
      "cell_type": "code",
      "metadata": {
        "id": "Zs79UEplM7VA",
        "colab_type": "code",
        "colab": {}
      },
      "source": [
        "# Q: how much does each platform sell across regions, on average?"
      ],
      "execution_count": null,
      "outputs": []
    },
    {
      "cell_type": "code",
      "metadata": {
        "id": "Is3IlzDQMroD",
        "colab_type": "code",
        "colab": {
          "base_uri": "https://localhost:8080/"
        },
        "outputId": "f4eef030-ffa4-4094-f60f-f6fc4bd2a166"
      },
      "source": [
        "sales.groupby('Platform').mean()"
      ],
      "execution_count": null,
      "outputs": [
        {
          "output_type": "execute_result",
          "data": {
            "text/html": [
              "<div>\n",
              "<style scoped>\n",
              "    .dataframe tbody tr th:only-of-type {\n",
              "        vertical-align: middle;\n",
              "    }\n",
              "\n",
              "    .dataframe tbody tr th {\n",
              "        vertical-align: top;\n",
              "    }\n",
              "\n",
              "    .dataframe thead th {\n",
              "        text-align: right;\n",
              "    }\n",
              "</style>\n",
              "<table border=\"1\" class=\"dataframe\">\n",
              "  <thead>\n",
              "    <tr style=\"text-align: right;\">\n",
              "      <th></th>\n",
              "      <th>NA_Sales</th>\n",
              "      <th>EU_Sales</th>\n",
              "      <th>JP_Sales</th>\n",
              "      <th>Other_Sales</th>\n",
              "    </tr>\n",
              "    <tr>\n",
              "      <th>Platform</th>\n",
              "      <th></th>\n",
              "      <th></th>\n",
              "      <th></th>\n",
              "      <th></th>\n",
              "    </tr>\n",
              "  </thead>\n",
              "  <tbody>\n",
              "    <tr>\n",
              "      <th>PS3</th>\n",
              "      <td>0.295154</td>\n",
              "      <td>0.258623</td>\n",
              "      <td>0.060188</td>\n",
              "      <td>0.106795</td>\n",
              "    </tr>\n",
              "    <tr>\n",
              "      <th>PS4</th>\n",
              "      <td>0.288095</td>\n",
              "      <td>0.368155</td>\n",
              "      <td>0.042560</td>\n",
              "      <td>0.129048</td>\n",
              "    </tr>\n",
              "    <tr>\n",
              "      <th>X360</th>\n",
              "      <td>0.475138</td>\n",
              "      <td>0.221802</td>\n",
              "      <td>0.009826</td>\n",
              "      <td>0.067621</td>\n",
              "    </tr>\n",
              "    <tr>\n",
              "      <th>XOne</th>\n",
              "      <td>0.390563</td>\n",
              "      <td>0.214319</td>\n",
              "      <td>0.001596</td>\n",
              "      <td>0.055962</td>\n",
              "    </tr>\n",
              "  </tbody>\n",
              "</table>\n",
              "</div>"
            ],
            "text/plain": [
              "          NA_Sales  EU_Sales  JP_Sales  Other_Sales\n",
              "Platform                                           \n",
              "PS3       0.295154  0.258623  0.060188     0.106795\n",
              "PS4       0.288095  0.368155  0.042560     0.129048\n",
              "X360      0.475138  0.221802  0.009826     0.067621\n",
              "XOne      0.390563  0.214319  0.001596     0.055962"
            ]
          },
          "metadata": {
            "tags": []
          },
          "execution_count": 32
        }
      ]
    },
    {
      "cell_type": "code",
      "metadata": {
        "id": "H4JHWq8aNHWL",
        "colab_type": "code",
        "colab": {
          "base_uri": "https://localhost:8080/"
        },
        "outputId": "2ab8a16b-57ba-44b2-f4d3-ed07253a640e"
      },
      "source": [
        "sales.groupby('Platform').median()"
      ],
      "execution_count": null,
      "outputs": [
        {
          "output_type": "execute_result",
          "data": {
            "text/html": [
              "<div>\n",
              "<style scoped>\n",
              "    .dataframe tbody tr th:only-of-type {\n",
              "        vertical-align: middle;\n",
              "    }\n",
              "\n",
              "    .dataframe tbody tr th {\n",
              "        vertical-align: top;\n",
              "    }\n",
              "\n",
              "    .dataframe thead th {\n",
              "        text-align: right;\n",
              "    }\n",
              "</style>\n",
              "<table border=\"1\" class=\"dataframe\">\n",
              "  <thead>\n",
              "    <tr style=\"text-align: right;\">\n",
              "      <th></th>\n",
              "      <th>NA_Sales</th>\n",
              "      <th>EU_Sales</th>\n",
              "      <th>JP_Sales</th>\n",
              "      <th>Other_Sales</th>\n",
              "    </tr>\n",
              "    <tr>\n",
              "      <th>Platform</th>\n",
              "      <th></th>\n",
              "      <th></th>\n",
              "      <th></th>\n",
              "      <th></th>\n",
              "    </tr>\n",
              "  </thead>\n",
              "  <tbody>\n",
              "    <tr>\n",
              "      <th>PS3</th>\n",
              "      <td>0.12</td>\n",
              "      <td>0.07</td>\n",
              "      <td>0.01</td>\n",
              "      <td>0.03</td>\n",
              "    </tr>\n",
              "    <tr>\n",
              "      <th>PS4</th>\n",
              "      <td>0.07</td>\n",
              "      <td>0.08</td>\n",
              "      <td>0.02</td>\n",
              "      <td>0.03</td>\n",
              "    </tr>\n",
              "    <tr>\n",
              "      <th>X360</th>\n",
              "      <td>0.17</td>\n",
              "      <td>0.06</td>\n",
              "      <td>0.00</td>\n",
              "      <td>0.02</td>\n",
              "    </tr>\n",
              "    <tr>\n",
              "      <th>XOne</th>\n",
              "      <td>0.15</td>\n",
              "      <td>0.07</td>\n",
              "      <td>0.00</td>\n",
              "      <td>0.02</td>\n",
              "    </tr>\n",
              "  </tbody>\n",
              "</table>\n",
              "</div>"
            ],
            "text/plain": [
              "          NA_Sales  EU_Sales  JP_Sales  Other_Sales\n",
              "Platform                                           \n",
              "PS3           0.12      0.07      0.01         0.03\n",
              "PS4           0.07      0.08      0.02         0.03\n",
              "X360          0.17      0.06      0.00         0.02\n",
              "XOne          0.15      0.07      0.00         0.02"
            ]
          },
          "metadata": {
            "tags": []
          },
          "execution_count": 33
        }
      ]
    },
    {
      "cell_type": "markdown",
      "metadata": {
        "id": "DUmbN8WYNPeP",
        "colab_type": "text"
      },
      "source": [
        "#### The DataFrameGroupBy Object"
      ]
    },
    {
      "cell_type": "code",
      "metadata": {
        "id": "DFIjAf3eN7Au",
        "colab_type": "code",
        "colab": {
          "base_uri": "https://localhost:8080/"
        },
        "outputId": "382b39ae-6bee-4179-cc4c-4b7a86f73eec"
      },
      "source": [
        "sales.groupby('Platform').sum() # + .mean(), .median()"
      ],
      "execution_count": null,
      "outputs": [
        {
          "output_type": "execute_result",
          "data": {
            "text/html": [
              "<div>\n",
              "<style scoped>\n",
              "    .dataframe tbody tr th:only-of-type {\n",
              "        vertical-align: middle;\n",
              "    }\n",
              "\n",
              "    .dataframe tbody tr th {\n",
              "        vertical-align: top;\n",
              "    }\n",
              "\n",
              "    .dataframe thead th {\n",
              "        text-align: right;\n",
              "    }\n",
              "</style>\n",
              "<table border=\"1\" class=\"dataframe\">\n",
              "  <thead>\n",
              "    <tr style=\"text-align: right;\">\n",
              "      <th></th>\n",
              "      <th>NA_Sales</th>\n",
              "      <th>EU_Sales</th>\n",
              "      <th>JP_Sales</th>\n",
              "      <th>Other_Sales</th>\n",
              "    </tr>\n",
              "    <tr>\n",
              "      <th>Platform</th>\n",
              "      <th></th>\n",
              "      <th></th>\n",
              "      <th></th>\n",
              "      <th></th>\n",
              "    </tr>\n",
              "  </thead>\n",
              "  <tbody>\n",
              "    <tr>\n",
              "      <th>PS3</th>\n",
              "      <td>392.26</td>\n",
              "      <td>343.71</td>\n",
              "      <td>79.99</td>\n",
              "      <td>141.93</td>\n",
              "    </tr>\n",
              "    <tr>\n",
              "      <th>PS4</th>\n",
              "      <td>96.80</td>\n",
              "      <td>123.70</td>\n",
              "      <td>14.30</td>\n",
              "      <td>43.36</td>\n",
              "    </tr>\n",
              "    <tr>\n",
              "      <th>X360</th>\n",
              "      <td>601.05</td>\n",
              "      <td>280.58</td>\n",
              "      <td>12.43</td>\n",
              "      <td>85.54</td>\n",
              "    </tr>\n",
              "    <tr>\n",
              "      <th>XOne</th>\n",
              "      <td>83.19</td>\n",
              "      <td>45.65</td>\n",
              "      <td>0.34</td>\n",
              "      <td>11.92</td>\n",
              "    </tr>\n",
              "  </tbody>\n",
              "</table>\n",
              "</div>"
            ],
            "text/plain": [
              "          NA_Sales  EU_Sales  JP_Sales  Other_Sales\n",
              "Platform                                           \n",
              "PS3         392.26    343.71     79.99       141.93\n",
              "PS4          96.80    123.70     14.30        43.36\n",
              "X360        601.05    280.58     12.43        85.54\n",
              "XOne         83.19     45.65      0.34        11.92"
            ]
          },
          "metadata": {
            "tags": []
          },
          "execution_count": 34
        }
      ]
    },
    {
      "cell_type": "code",
      "metadata": {
        "id": "PlkwBeR3PO5Q",
        "colab_type": "code",
        "colab": {
          "base_uri": "https://localhost:8080/"
        },
        "outputId": "207fa930-48eb-4c7b-8e2c-53bf1d6c52a9"
      },
      "source": [
        "sales.groupby('Platform')"
      ],
      "execution_count": null,
      "outputs": [
        {
          "output_type": "execute_result",
          "data": {
            "text/plain": [
              "<pandas.core.groupby.generic.DataFrameGroupBy object at 0x7f771e1df080>"
            ]
          },
          "metadata": {
            "tags": []
          },
          "execution_count": 35
        }
      ]
    },
    {
      "cell_type": "code",
      "metadata": {
        "id": "y-jrL6DNPcpb",
        "colab_type": "code",
        "colab": {
          "base_uri": "https://localhost:8080/"
        },
        "outputId": "17944595-6225-4d9e-e824-70b46cd2df3f"
      },
      "source": [
        "len(sales.groupby('Platform'))"
      ],
      "execution_count": null,
      "outputs": [
        {
          "output_type": "execute_result",
          "data": {
            "text/plain": [
              "4"
            ]
          },
          "metadata": {
            "tags": []
          },
          "execution_count": 36
        }
      ]
    },
    {
      "cell_type": "markdown",
      "metadata": {
        "id": "iu8l0d67P69Q",
        "colab_type": "text"
      },
      "source": [
        "#### Customizing Index To Group Mappings"
      ]
    },
    {
      "cell_type": "code",
      "metadata": {
        "id": "kDTRw_84Q9Va",
        "colab_type": "code",
        "colab": {
          "base_uri": "https://localhost:8080/"
        },
        "outputId": "e2a606c7-4f84-41b1-a48a-f4eecfd926cc"
      },
      "source": [
        "sales.groupby('Platform').sum()"
      ],
      "execution_count": null,
      "outputs": [
        {
          "output_type": "execute_result",
          "data": {
            "text/html": [
              "<div>\n",
              "<style scoped>\n",
              "    .dataframe tbody tr th:only-of-type {\n",
              "        vertical-align: middle;\n",
              "    }\n",
              "\n",
              "    .dataframe tbody tr th {\n",
              "        vertical-align: top;\n",
              "    }\n",
              "\n",
              "    .dataframe thead th {\n",
              "        text-align: right;\n",
              "    }\n",
              "</style>\n",
              "<table border=\"1\" class=\"dataframe\">\n",
              "  <thead>\n",
              "    <tr style=\"text-align: right;\">\n",
              "      <th></th>\n",
              "      <th>NA_Sales</th>\n",
              "      <th>EU_Sales</th>\n",
              "      <th>JP_Sales</th>\n",
              "      <th>Other_Sales</th>\n",
              "    </tr>\n",
              "    <tr>\n",
              "      <th>Platform</th>\n",
              "      <th></th>\n",
              "      <th></th>\n",
              "      <th></th>\n",
              "      <th></th>\n",
              "    </tr>\n",
              "  </thead>\n",
              "  <tbody>\n",
              "    <tr>\n",
              "      <th>PS3</th>\n",
              "      <td>392.26</td>\n",
              "      <td>343.71</td>\n",
              "      <td>79.99</td>\n",
              "      <td>141.93</td>\n",
              "    </tr>\n",
              "    <tr>\n",
              "      <th>PS4</th>\n",
              "      <td>96.80</td>\n",
              "      <td>123.70</td>\n",
              "      <td>14.30</td>\n",
              "      <td>43.36</td>\n",
              "    </tr>\n",
              "    <tr>\n",
              "      <th>X360</th>\n",
              "      <td>601.05</td>\n",
              "      <td>280.58</td>\n",
              "      <td>12.43</td>\n",
              "      <td>85.54</td>\n",
              "    </tr>\n",
              "    <tr>\n",
              "      <th>XOne</th>\n",
              "      <td>83.19</td>\n",
              "      <td>45.65</td>\n",
              "      <td>0.34</td>\n",
              "      <td>11.92</td>\n",
              "    </tr>\n",
              "  </tbody>\n",
              "</table>\n",
              "</div>"
            ],
            "text/plain": [
              "          NA_Sales  EU_Sales  JP_Sales  Other_Sales\n",
              "Platform                                           \n",
              "PS3         392.26    343.71     79.99       141.93\n",
              "PS4          96.80    123.70     14.30        43.36\n",
              "X360        601.05    280.58     12.43        85.54\n",
              "XOne         83.19     45.65      0.34        11.92"
            ]
          },
          "metadata": {
            "tags": []
          },
          "execution_count": 37
        }
      ]
    },
    {
      "cell_type": "code",
      "metadata": {
        "id": "HBQRn-kpSjvE",
        "colab_type": "code",
        "colab": {}
      },
      "source": [
        "# equivalent to:"
      ],
      "execution_count": null,
      "outputs": []
    },
    {
      "cell_type": "code",
      "metadata": {
        "id": "UOKqaA2RSutI",
        "colab_type": "code",
        "colab": {
          "base_uri": "https://localhost:8080/"
        },
        "outputId": "0acab9e6-d537-4073-c741-cfb682ed4127"
      },
      "source": [
        "sales.groupby(sales['Platform']).sum()"
      ],
      "execution_count": null,
      "outputs": [
        {
          "output_type": "execute_result",
          "data": {
            "text/html": [
              "<div>\n",
              "<style scoped>\n",
              "    .dataframe tbody tr th:only-of-type {\n",
              "        vertical-align: middle;\n",
              "    }\n",
              "\n",
              "    .dataframe tbody tr th {\n",
              "        vertical-align: top;\n",
              "    }\n",
              "\n",
              "    .dataframe thead th {\n",
              "        text-align: right;\n",
              "    }\n",
              "</style>\n",
              "<table border=\"1\" class=\"dataframe\">\n",
              "  <thead>\n",
              "    <tr style=\"text-align: right;\">\n",
              "      <th></th>\n",
              "      <th>NA_Sales</th>\n",
              "      <th>EU_Sales</th>\n",
              "      <th>JP_Sales</th>\n",
              "      <th>Other_Sales</th>\n",
              "    </tr>\n",
              "    <tr>\n",
              "      <th>Platform</th>\n",
              "      <th></th>\n",
              "      <th></th>\n",
              "      <th></th>\n",
              "      <th></th>\n",
              "    </tr>\n",
              "  </thead>\n",
              "  <tbody>\n",
              "    <tr>\n",
              "      <th>PS3</th>\n",
              "      <td>392.26</td>\n",
              "      <td>343.71</td>\n",
              "      <td>79.99</td>\n",
              "      <td>141.93</td>\n",
              "    </tr>\n",
              "    <tr>\n",
              "      <th>PS4</th>\n",
              "      <td>96.80</td>\n",
              "      <td>123.70</td>\n",
              "      <td>14.30</td>\n",
              "      <td>43.36</td>\n",
              "    </tr>\n",
              "    <tr>\n",
              "      <th>X360</th>\n",
              "      <td>601.05</td>\n",
              "      <td>280.58</td>\n",
              "      <td>12.43</td>\n",
              "      <td>85.54</td>\n",
              "    </tr>\n",
              "    <tr>\n",
              "      <th>XOne</th>\n",
              "      <td>83.19</td>\n",
              "      <td>45.65</td>\n",
              "      <td>0.34</td>\n",
              "      <td>11.92</td>\n",
              "    </tr>\n",
              "  </tbody>\n",
              "</table>\n",
              "</div>"
            ],
            "text/plain": [
              "          NA_Sales  EU_Sales  JP_Sales  Other_Sales\n",
              "Platform                                           \n",
              "PS3         392.26    343.71     79.99       141.93\n",
              "PS4          96.80    123.70     14.30        43.36\n",
              "X360        601.05    280.58     12.43        85.54\n",
              "XOne         83.19     45.65      0.34        11.92"
            ]
          },
          "metadata": {
            "tags": []
          },
          "execution_count": 39
        }
      ]
    },
    {
      "cell_type": "code",
      "metadata": {
        "id": "Qo5-DueoSwjY",
        "colab_type": "code",
        "colab": {
          "base_uri": "https://localhost:8080/"
        },
        "outputId": "bbe0245a-f693-4038-ccc7-4c1a83755fe6"
      },
      "source": [
        "sales.Platform.unique()"
      ],
      "execution_count": null,
      "outputs": [
        {
          "output_type": "execute_result",
          "data": {
            "text/plain": [
              "array(['X360', 'PS3', 'PS4', 'XOne'], dtype=object)"
            ]
          },
          "metadata": {
            "tags": []
          },
          "execution_count": 40
        }
      ]
    },
    {
      "cell_type": "code",
      "metadata": {
        "id": "K4pFkqLwS-wE",
        "colab_type": "code",
        "colab": {}
      },
      "source": [
        "# -> PlayStation, XBox"
      ],
      "execution_count": null,
      "outputs": []
    },
    {
      "cell_type": "code",
      "metadata": {
        "id": "LPrmrjvWTBPU",
        "colab_type": "code",
        "colab": {}
      },
      "source": [
        "platform_names = {\n",
        "    'PS3': 'PlayStation',\n",
        "    'PS4': 'PlayStation',\n",
        "    'X360': 'XBox',\n",
        "    'XOne': 'XBox'\n",
        "}"
      ],
      "execution_count": null,
      "outputs": []
    },
    {
      "cell_type": "code",
      "metadata": {
        "id": "Hfl9SPTtTQUt",
        "colab_type": "code",
        "colab": {
          "base_uri": "https://localhost:8080/"
        },
        "outputId": "d5161a14-360e-45d5-89b0-32831a378af3"
      },
      "source": [
        "platform_names"
      ],
      "execution_count": null,
      "outputs": [
        {
          "output_type": "execute_result",
          "data": {
            "text/plain": [
              "{'PS3': 'PlayStation', 'PS4': 'PlayStation', 'X360': 'XBox', 'XOne': 'XBox'}"
            ]
          },
          "metadata": {
            "tags": []
          },
          "execution_count": 43
        }
      ]
    },
    {
      "cell_type": "code",
      "metadata": {
        "id": "FES6oNs6TSMe",
        "colab_type": "code",
        "colab": {
          "base_uri": "https://localhost:8080/"
        },
        "outputId": "7cd0b23c-4682-437e-84ed-40c33c118787"
      },
      "source": [
        "sales.set_index('Platform').groupby(platform_names).sum()"
      ],
      "execution_count": null,
      "outputs": [
        {
          "output_type": "execute_result",
          "data": {
            "text/html": [
              "<div>\n",
              "<style scoped>\n",
              "    .dataframe tbody tr th:only-of-type {\n",
              "        vertical-align: middle;\n",
              "    }\n",
              "\n",
              "    .dataframe tbody tr th {\n",
              "        vertical-align: top;\n",
              "    }\n",
              "\n",
              "    .dataframe thead th {\n",
              "        text-align: right;\n",
              "    }\n",
              "</style>\n",
              "<table border=\"1\" class=\"dataframe\">\n",
              "  <thead>\n",
              "    <tr style=\"text-align: right;\">\n",
              "      <th></th>\n",
              "      <th>NA_Sales</th>\n",
              "      <th>EU_Sales</th>\n",
              "      <th>JP_Sales</th>\n",
              "      <th>Other_Sales</th>\n",
              "    </tr>\n",
              "  </thead>\n",
              "  <tbody>\n",
              "    <tr>\n",
              "      <th>PlayStation</th>\n",
              "      <td>489.06</td>\n",
              "      <td>467.41</td>\n",
              "      <td>94.29</td>\n",
              "      <td>185.29</td>\n",
              "    </tr>\n",
              "    <tr>\n",
              "      <th>XBox</th>\n",
              "      <td>684.24</td>\n",
              "      <td>326.23</td>\n",
              "      <td>12.77</td>\n",
              "      <td>97.46</td>\n",
              "    </tr>\n",
              "  </tbody>\n",
              "</table>\n",
              "</div>"
            ],
            "text/plain": [
              "             NA_Sales  EU_Sales  JP_Sales  Other_Sales\n",
              "PlayStation    489.06    467.41     94.29       185.29\n",
              "XBox           684.24    326.23     12.77        97.46"
            ]
          },
          "metadata": {
            "tags": []
          },
          "execution_count": 44
        }
      ]
    },
    {
      "cell_type": "code",
      "metadata": {
        "id": "Lyxp6NBITWG1",
        "colab_type": "code",
        "colab": {
          "base_uri": "https://localhost:8080/"
        },
        "outputId": "94a332ab-00c6-42d2-ff5a-59f60d0d55ad"
      },
      "source": [
        "sales"
      ],
      "execution_count": null,
      "outputs": [
        {
          "output_type": "execute_result",
          "data": {
            "text/html": [
              "<div>\n",
              "<style scoped>\n",
              "    .dataframe tbody tr th:only-of-type {\n",
              "        vertical-align: middle;\n",
              "    }\n",
              "\n",
              "    .dataframe tbody tr th {\n",
              "        vertical-align: top;\n",
              "    }\n",
              "\n",
              "    .dataframe thead th {\n",
              "        text-align: right;\n",
              "    }\n",
              "</style>\n",
              "<table border=\"1\" class=\"dataframe\">\n",
              "  <thead>\n",
              "    <tr style=\"text-align: right;\">\n",
              "      <th></th>\n",
              "      <th>Platform</th>\n",
              "      <th>NA_Sales</th>\n",
              "      <th>EU_Sales</th>\n",
              "      <th>JP_Sales</th>\n",
              "      <th>Other_Sales</th>\n",
              "    </tr>\n",
              "  </thead>\n",
              "  <tbody>\n",
              "    <tr>\n",
              "      <th>0</th>\n",
              "      <td>X360</td>\n",
              "      <td>14.97</td>\n",
              "      <td>4.94</td>\n",
              "      <td>0.24</td>\n",
              "      <td>1.67</td>\n",
              "    </tr>\n",
              "    <tr>\n",
              "      <th>1</th>\n",
              "      <td>PS3</td>\n",
              "      <td>7.01</td>\n",
              "      <td>9.27</td>\n",
              "      <td>0.97</td>\n",
              "      <td>4.14</td>\n",
              "    </tr>\n",
              "    <tr>\n",
              "      <th>2</th>\n",
              "      <td>X360</td>\n",
              "      <td>9.63</td>\n",
              "      <td>5.31</td>\n",
              "      <td>0.06</td>\n",
              "      <td>1.38</td>\n",
              "    </tr>\n",
              "    <tr>\n",
              "      <th>3</th>\n",
              "      <td>X360</td>\n",
              "      <td>9.03</td>\n",
              "      <td>4.28</td>\n",
              "      <td>0.13</td>\n",
              "      <td>1.32</td>\n",
              "    </tr>\n",
              "    <tr>\n",
              "      <th>4</th>\n",
              "      <td>X360</td>\n",
              "      <td>9.67</td>\n",
              "      <td>3.73</td>\n",
              "      <td>0.11</td>\n",
              "      <td>1.13</td>\n",
              "    </tr>\n",
              "    <tr>\n",
              "      <th>...</th>\n",
              "      <td>...</td>\n",
              "      <td>...</td>\n",
              "      <td>...</td>\n",
              "      <td>...</td>\n",
              "      <td>...</td>\n",
              "    </tr>\n",
              "    <tr>\n",
              "      <th>3138</th>\n",
              "      <td>X360</td>\n",
              "      <td>0.00</td>\n",
              "      <td>0.01</td>\n",
              "      <td>0.00</td>\n",
              "      <td>0.00</td>\n",
              "    </tr>\n",
              "    <tr>\n",
              "      <th>3139</th>\n",
              "      <td>XOne</td>\n",
              "      <td>0.01</td>\n",
              "      <td>0.00</td>\n",
              "      <td>0.00</td>\n",
              "      <td>0.00</td>\n",
              "    </tr>\n",
              "    <tr>\n",
              "      <th>3140</th>\n",
              "      <td>XOne</td>\n",
              "      <td>0.01</td>\n",
              "      <td>0.00</td>\n",
              "      <td>0.00</td>\n",
              "      <td>0.00</td>\n",
              "    </tr>\n",
              "    <tr>\n",
              "      <th>3141</th>\n",
              "      <td>PS4</td>\n",
              "      <td>0.00</td>\n",
              "      <td>0.01</td>\n",
              "      <td>0.00</td>\n",
              "      <td>0.00</td>\n",
              "    </tr>\n",
              "    <tr>\n",
              "      <th>3142</th>\n",
              "      <td>XOne</td>\n",
              "      <td>0.00</td>\n",
              "      <td>0.01</td>\n",
              "      <td>0.00</td>\n",
              "      <td>0.00</td>\n",
              "    </tr>\n",
              "  </tbody>\n",
              "</table>\n",
              "<p>3143 rows × 5 columns</p>\n",
              "</div>"
            ],
            "text/plain": [
              "     Platform  NA_Sales  EU_Sales  JP_Sales  Other_Sales\n",
              "0        X360     14.97      4.94      0.24         1.67\n",
              "1         PS3      7.01      9.27      0.97         4.14\n",
              "2        X360      9.63      5.31      0.06         1.38\n",
              "3        X360      9.03      4.28      0.13         1.32\n",
              "4        X360      9.67      3.73      0.11         1.13\n",
              "...       ...       ...       ...       ...          ...\n",
              "3138     X360      0.00      0.01      0.00         0.00\n",
              "3139     XOne      0.01      0.00      0.00         0.00\n",
              "3140     XOne      0.01      0.00      0.00         0.00\n",
              "3141      PS4      0.00      0.01      0.00         0.00\n",
              "3142     XOne      0.00      0.01      0.00         0.00\n",
              "\n",
              "[3143 rows x 5 columns]"
            ]
          },
          "metadata": {
            "tags": []
          },
          "execution_count": 45
        }
      ]
    },
    {
      "cell_type": "markdown",
      "metadata": {
        "id": "ruc-zncfTpzk",
        "colab_type": "text"
      },
      "source": [
        "#### BONUS - Series groupby()"
      ]
    },
    {
      "cell_type": "code",
      "metadata": {
        "id": "pfSfT8qnUB10",
        "colab_type": "code",
        "colab": {
          "base_uri": "https://localhost:8080/"
        },
        "outputId": "464b65e2-b979-472b-c859-82c54ff640a3"
      },
      "source": [
        "games.head()"
      ],
      "execution_count": null,
      "outputs": [
        {
          "output_type": "execute_result",
          "data": {
            "text/html": [
              "<div>\n",
              "<style scoped>\n",
              "    .dataframe tbody tr th:only-of-type {\n",
              "        vertical-align: middle;\n",
              "    }\n",
              "\n",
              "    .dataframe tbody tr th {\n",
              "        vertical-align: top;\n",
              "    }\n",
              "\n",
              "    .dataframe thead th {\n",
              "        text-align: right;\n",
              "    }\n",
              "</style>\n",
              "<table border=\"1\" class=\"dataframe\">\n",
              "  <thead>\n",
              "    <tr style=\"text-align: right;\">\n",
              "      <th></th>\n",
              "      <th>Name</th>\n",
              "      <th>Platform</th>\n",
              "      <th>Year</th>\n",
              "      <th>Genre</th>\n",
              "      <th>Publisher</th>\n",
              "      <th>NA_Sales</th>\n",
              "      <th>EU_Sales</th>\n",
              "      <th>JP_Sales</th>\n",
              "      <th>Other_Sales</th>\n",
              "      <th>Global_Sales</th>\n",
              "    </tr>\n",
              "  </thead>\n",
              "  <tbody>\n",
              "    <tr>\n",
              "      <th>0</th>\n",
              "      <td>Kinect Adventures!</td>\n",
              "      <td>X360</td>\n",
              "      <td>2010.0</td>\n",
              "      <td>Misc</td>\n",
              "      <td>Microsoft Game Studios</td>\n",
              "      <td>14.97</td>\n",
              "      <td>4.94</td>\n",
              "      <td>0.24</td>\n",
              "      <td>1.67</td>\n",
              "      <td>21.82</td>\n",
              "    </tr>\n",
              "    <tr>\n",
              "      <th>1</th>\n",
              "      <td>Grand Theft Auto V</td>\n",
              "      <td>PS3</td>\n",
              "      <td>2013.0</td>\n",
              "      <td>Action</td>\n",
              "      <td>Take-Two Interactive</td>\n",
              "      <td>7.01</td>\n",
              "      <td>9.27</td>\n",
              "      <td>0.97</td>\n",
              "      <td>4.14</td>\n",
              "      <td>21.40</td>\n",
              "    </tr>\n",
              "    <tr>\n",
              "      <th>2</th>\n",
              "      <td>Grand Theft Auto V</td>\n",
              "      <td>X360</td>\n",
              "      <td>2013.0</td>\n",
              "      <td>Action</td>\n",
              "      <td>Take-Two Interactive</td>\n",
              "      <td>9.63</td>\n",
              "      <td>5.31</td>\n",
              "      <td>0.06</td>\n",
              "      <td>1.38</td>\n",
              "      <td>16.38</td>\n",
              "    </tr>\n",
              "    <tr>\n",
              "      <th>3</th>\n",
              "      <td>Call of Duty: Modern Warfare 3</td>\n",
              "      <td>X360</td>\n",
              "      <td>2011.0</td>\n",
              "      <td>Shooter</td>\n",
              "      <td>Activision</td>\n",
              "      <td>9.03</td>\n",
              "      <td>4.28</td>\n",
              "      <td>0.13</td>\n",
              "      <td>1.32</td>\n",
              "      <td>14.76</td>\n",
              "    </tr>\n",
              "    <tr>\n",
              "      <th>4</th>\n",
              "      <td>Call of Duty: Black Ops</td>\n",
              "      <td>X360</td>\n",
              "      <td>2010.0</td>\n",
              "      <td>Shooter</td>\n",
              "      <td>Activision</td>\n",
              "      <td>9.67</td>\n",
              "      <td>3.73</td>\n",
              "      <td>0.11</td>\n",
              "      <td>1.13</td>\n",
              "      <td>14.64</td>\n",
              "    </tr>\n",
              "  </tbody>\n",
              "</table>\n",
              "</div>"
            ],
            "text/plain": [
              "                             Name Platform  ...  Other_Sales Global_Sales\n",
              "0              Kinect Adventures!     X360  ...         1.67        21.82\n",
              "1              Grand Theft Auto V      PS3  ...         4.14        21.40\n",
              "2              Grand Theft Auto V     X360  ...         1.38        16.38\n",
              "3  Call of Duty: Modern Warfare 3     X360  ...         1.32        14.76\n",
              "4         Call of Duty: Black Ops     X360  ...         1.13        14.64\n",
              "\n",
              "[5 rows x 10 columns]"
            ]
          },
          "metadata": {
            "tags": []
          },
          "execution_count": 46
        }
      ]
    },
    {
      "cell_type": "code",
      "metadata": {
        "id": "xPbaJJXhUfXc",
        "colab_type": "code",
        "colab": {}
      },
      "source": [
        "# epitomize -> be the perfect example of"
      ],
      "execution_count": null,
      "outputs": []
    },
    {
      "cell_type": "code",
      "metadata": {
        "id": "dIjvD_avViDP",
        "colab_type": "code",
        "colab": {}
      },
      "source": [
        "# groupby -> split-apply-combine"
      ],
      "execution_count": null,
      "outputs": []
    },
    {
      "cell_type": "code",
      "metadata": {
        "id": "evp6GNfdVkXO",
        "colab_type": "code",
        "colab": {}
      },
      "source": [
        "ser = games.loc[:, ['Genre', 'Global_Sales']].set_index('Genre').squeeze()"
      ],
      "execution_count": null,
      "outputs": []
    },
    {
      "cell_type": "code",
      "metadata": {
        "id": "QgKAYRq7VugB",
        "colab_type": "code",
        "colab": {
          "base_uri": "https://localhost:8080/"
        },
        "outputId": "f1f8b58c-f8d6-4010-cc34-1d5bd5230c74"
      },
      "source": [
        "type(ser)"
      ],
      "execution_count": null,
      "outputs": [
        {
          "output_type": "execute_result",
          "data": {
            "text/plain": [
              "pandas.core.series.Series"
            ]
          },
          "metadata": {
            "tags": []
          },
          "execution_count": 50
        }
      ]
    },
    {
      "cell_type": "code",
      "metadata": {
        "id": "VLuO9FnHVzs7",
        "colab_type": "code",
        "colab": {
          "base_uri": "https://localhost:8080/"
        },
        "outputId": "5f32c23a-3687-45eb-a51f-608fdabeebb2"
      },
      "source": [
        "ser.head(10)"
      ],
      "execution_count": null,
      "outputs": [
        {
          "output_type": "execute_result",
          "data": {
            "text/plain": [
              "Genre\n",
              "Misc       21.82\n",
              "Action     21.40\n",
              "Action     16.38\n",
              "Shooter    14.76\n",
              "Shooter    14.64\n",
              "Shooter    14.24\n",
              "Shooter    14.03\n",
              "Shooter    13.73\n",
              "Shooter    13.51\n",
              "Shooter    13.46\n",
              "Name: Global_Sales, dtype: float64"
            ]
          },
          "metadata": {
            "tags": []
          },
          "execution_count": 51
        }
      ]
    },
    {
      "cell_type": "code",
      "metadata": {
        "id": "-GxBmqqzV8N-",
        "colab_type": "code",
        "colab": {
          "base_uri": "https://localhost:8080/"
        },
        "outputId": "0894e4cf-1eb0-4fd0-b6c9-6cbdcf2f28a7"
      },
      "source": [
        "ser.groupby('Genre').mean().sort_values(ascending=False)"
      ],
      "execution_count": null,
      "outputs": [
        {
          "output_type": "execute_result",
          "data": {
            "text/plain": [
              "Genre\n",
              "Shooter         1.412019\n",
              "Action          0.751007\n",
              "Role-Playing    0.715804\n",
              "Racing          0.687854\n",
              "Sports          0.681094\n",
              "Platform        0.651842\n",
              "Fighting        0.604182\n",
              "Misc            0.550250\n",
              "Simulation      0.336076\n",
              "Adventure       0.298289\n",
              "Strategy        0.264333\n",
              "Puzzle          0.133636\n",
              "Name: Global_Sales, dtype: float64"
            ]
          },
          "metadata": {
            "tags": []
          },
          "execution_count": 52
        }
      ]
    },
    {
      "cell_type": "code",
      "metadata": {
        "id": "t-aYukgPWGkt",
        "colab_type": "code",
        "colab": {
          "base_uri": "https://localhost:8080/"
        },
        "outputId": "e61222ac-3d6b-46ec-b2b8-faee80d18124"
      },
      "source": [
        "ser.groupby('Genre')"
      ],
      "execution_count": null,
      "outputs": [
        {
          "output_type": "execute_result",
          "data": {
            "text/plain": [
              "<pandas.core.groupby.generic.SeriesGroupBy object at 0x7f771e18fd30>"
            ]
          },
          "metadata": {
            "tags": []
          },
          "execution_count": 53
        }
      ]
    },
    {
      "cell_type": "markdown",
      "metadata": {
        "id": "6hKSDfrIWY92",
        "colab_type": "text"
      },
      "source": [
        "#### Skill Challenge"
      ]
    },
    {
      "cell_type": "markdown",
      "metadata": {
        "id": "xTdAADB0W3Ju",
        "colab_type": "text"
      },
      "source": [
        "###### **1.**"
      ]
    },
    {
      "cell_type": "markdown",
      "metadata": {
        "id": "SJD-mPThXDW5",
        "colab_type": "text"
      },
      "source": [
        "Create a smaller dataframe from *games*, selecting only the Publisher, Genre, Platform, and NA_Sales columns. Assign this dataframe to the variable *publishers*."
      ]
    },
    {
      "cell_type": "markdown",
      "metadata": {
        "id": "eJoDgNhOXFJy",
        "colab_type": "text"
      },
      "source": [
        "###### **2.**"
      ]
    },
    {
      "cell_type": "markdown",
      "metadata": {
        "id": "f3fgCvLeXG1F",
        "colab_type": "text"
      },
      "source": [
        "From the *publishers* dataframe, find the top 10 game publishers in North America by total sales."
      ]
    },
    {
      "cell_type": "markdown",
      "metadata": {
        "id": "eDZdBRAVXI-k",
        "colab_type": "text"
      },
      "source": [
        "###### **3.** "
      ]
    },
    {
      "cell_type": "markdown",
      "metadata": {
        "id": "LcbJ4sM3XKyM",
        "colab_type": "text"
      },
      "source": [
        "Similarly, what is the gaming platform that has attracted the most sales in North America?"
      ]
    },
    {
      "cell_type": "markdown",
      "metadata": {
        "id": "NO4ge8tkYSqC",
        "colab_type": "text"
      },
      "source": [
        "#### Solution"
      ]
    },
    {
      "cell_type": "code",
      "metadata": {
        "id": "j92Xq2NJZcge",
        "colab_type": "code",
        "colab": {}
      },
      "source": [
        "# 1"
      ],
      "execution_count": null,
      "outputs": []
    },
    {
      "cell_type": "code",
      "metadata": {
        "id": "BjIqyFykZleF",
        "colab_type": "code",
        "colab": {}
      },
      "source": [
        "publishers = games.loc[:, ['Publisher', 'Genre', 'Platform', 'NA_Sales']]"
      ],
      "execution_count": null,
      "outputs": []
    },
    {
      "cell_type": "code",
      "metadata": {
        "id": "5uKl4J60Zsc8",
        "colab_type": "code",
        "colab": {
          "base_uri": "https://localhost:8080/"
        },
        "outputId": "ad01ad13-4c71-4d16-dc5f-a2cb56e1da02"
      },
      "source": [
        "publishers.head()"
      ],
      "execution_count": null,
      "outputs": [
        {
          "output_type": "execute_result",
          "data": {
            "text/html": [
              "<div>\n",
              "<style scoped>\n",
              "    .dataframe tbody tr th:only-of-type {\n",
              "        vertical-align: middle;\n",
              "    }\n",
              "\n",
              "    .dataframe tbody tr th {\n",
              "        vertical-align: top;\n",
              "    }\n",
              "\n",
              "    .dataframe thead th {\n",
              "        text-align: right;\n",
              "    }\n",
              "</style>\n",
              "<table border=\"1\" class=\"dataframe\">\n",
              "  <thead>\n",
              "    <tr style=\"text-align: right;\">\n",
              "      <th></th>\n",
              "      <th>Publisher</th>\n",
              "      <th>Genre</th>\n",
              "      <th>Platform</th>\n",
              "      <th>NA_Sales</th>\n",
              "    </tr>\n",
              "  </thead>\n",
              "  <tbody>\n",
              "    <tr>\n",
              "      <th>0</th>\n",
              "      <td>Microsoft Game Studios</td>\n",
              "      <td>Misc</td>\n",
              "      <td>X360</td>\n",
              "      <td>14.97</td>\n",
              "    </tr>\n",
              "    <tr>\n",
              "      <th>1</th>\n",
              "      <td>Take-Two Interactive</td>\n",
              "      <td>Action</td>\n",
              "      <td>PS3</td>\n",
              "      <td>7.01</td>\n",
              "    </tr>\n",
              "    <tr>\n",
              "      <th>2</th>\n",
              "      <td>Take-Two Interactive</td>\n",
              "      <td>Action</td>\n",
              "      <td>X360</td>\n",
              "      <td>9.63</td>\n",
              "    </tr>\n",
              "    <tr>\n",
              "      <th>3</th>\n",
              "      <td>Activision</td>\n",
              "      <td>Shooter</td>\n",
              "      <td>X360</td>\n",
              "      <td>9.03</td>\n",
              "    </tr>\n",
              "    <tr>\n",
              "      <th>4</th>\n",
              "      <td>Activision</td>\n",
              "      <td>Shooter</td>\n",
              "      <td>X360</td>\n",
              "      <td>9.67</td>\n",
              "    </tr>\n",
              "  </tbody>\n",
              "</table>\n",
              "</div>"
            ],
            "text/plain": [
              "                Publisher    Genre Platform  NA_Sales\n",
              "0  Microsoft Game Studios     Misc     X360     14.97\n",
              "1    Take-Two Interactive   Action      PS3      7.01\n",
              "2    Take-Two Interactive   Action     X360      9.63\n",
              "3              Activision  Shooter     X360      9.03\n",
              "4              Activision  Shooter     X360      9.67"
            ]
          },
          "metadata": {
            "tags": []
          },
          "execution_count": 56
        }
      ]
    },
    {
      "cell_type": "code",
      "metadata": {
        "id": "LOfd5kItZtnL",
        "colab_type": "code",
        "colab": {}
      },
      "source": [
        "# 2"
      ],
      "execution_count": null,
      "outputs": []
    },
    {
      "cell_type": "code",
      "metadata": {
        "id": "BLT9LanBZwYK",
        "colab_type": "code",
        "colab": {}
      },
      "source": [
        "# # our gameplan:\n",
        "#  - groupby publisher\n",
        "#  - sum of NA_Sales within each group\n",
        "#  - rank in descending order by previous sum\n",
        "#  - look at the top 10"
      ],
      "execution_count": null,
      "outputs": []
    },
    {
      "cell_type": "code",
      "metadata": {
        "id": "u6p8k5wEZ6_K",
        "colab_type": "code",
        "colab": {
          "base_uri": "https://localhost:8080/"
        },
        "outputId": "9affc6e9-57d4-4914-c6fe-998f5391c8fb"
      },
      "source": [
        "publishers.groupby('Publisher').sum().sort_values(by='NA_Sales', ascending=False).head(10)"
      ],
      "execution_count": null,
      "outputs": [
        {
          "output_type": "execute_result",
          "data": {
            "text/html": [
              "<div>\n",
              "<style scoped>\n",
              "    .dataframe tbody tr th:only-of-type {\n",
              "        vertical-align: middle;\n",
              "    }\n",
              "\n",
              "    .dataframe tbody tr th {\n",
              "        vertical-align: top;\n",
              "    }\n",
              "\n",
              "    .dataframe thead th {\n",
              "        text-align: right;\n",
              "    }\n",
              "</style>\n",
              "<table border=\"1\" class=\"dataframe\">\n",
              "  <thead>\n",
              "    <tr style=\"text-align: right;\">\n",
              "      <th></th>\n",
              "      <th>NA_Sales</th>\n",
              "    </tr>\n",
              "    <tr>\n",
              "      <th>Publisher</th>\n",
              "      <th></th>\n",
              "    </tr>\n",
              "  </thead>\n",
              "  <tbody>\n",
              "    <tr>\n",
              "      <th>Electronic Arts</th>\n",
              "      <td>213.38</td>\n",
              "    </tr>\n",
              "    <tr>\n",
              "      <th>Activision</th>\n",
              "      <td>193.16</td>\n",
              "    </tr>\n",
              "    <tr>\n",
              "      <th>Take-Two Interactive</th>\n",
              "      <td>120.99</td>\n",
              "    </tr>\n",
              "    <tr>\n",
              "      <th>Microsoft Game Studios</th>\n",
              "      <td>116.77</td>\n",
              "    </tr>\n",
              "    <tr>\n",
              "      <th>Ubisoft</th>\n",
              "      <td>98.65</td>\n",
              "    </tr>\n",
              "    <tr>\n",
              "      <th>Sony Computer Entertainment</th>\n",
              "      <td>76.35</td>\n",
              "    </tr>\n",
              "    <tr>\n",
              "      <th>Warner Bros. Interactive Entertainment</th>\n",
              "      <td>45.24</td>\n",
              "    </tr>\n",
              "    <tr>\n",
              "      <th>THQ</th>\n",
              "      <td>36.44</td>\n",
              "    </tr>\n",
              "    <tr>\n",
              "      <th>Bethesda Softworks</th>\n",
              "      <td>33.88</td>\n",
              "    </tr>\n",
              "    <tr>\n",
              "      <th>Capcom</th>\n",
              "      <td>24.74</td>\n",
              "    </tr>\n",
              "  </tbody>\n",
              "</table>\n",
              "</div>"
            ],
            "text/plain": [
              "                                        NA_Sales\n",
              "Publisher                                       \n",
              "Electronic Arts                           213.38\n",
              "Activision                                193.16\n",
              "Take-Two Interactive                      120.99\n",
              "Microsoft Game Studios                    116.77\n",
              "Ubisoft                                    98.65\n",
              "Sony Computer Entertainment                76.35\n",
              "Warner Bros. Interactive Entertainment     45.24\n",
              "THQ                                        36.44\n",
              "Bethesda Softworks                         33.88\n",
              "Capcom                                     24.74"
            ]
          },
          "metadata": {
            "tags": []
          },
          "execution_count": 59
        }
      ]
    },
    {
      "cell_type": "code",
      "metadata": {
        "id": "Pdyje4piaKSI",
        "colab_type": "code",
        "colab": {}
      },
      "source": [
        "# 3"
      ],
      "execution_count": null,
      "outputs": []
    },
    {
      "cell_type": "code",
      "metadata": {
        "id": "Cpqoe4RWagGX",
        "colab_type": "code",
        "colab": {
          "base_uri": "https://localhost:8080/"
        },
        "outputId": "020ae982-eb72-43cb-e72d-c390fdeb2a4e"
      },
      "source": [
        "publishers.groupby('Platform').sum().sort_values(by='NA_Sales', ascending=False).iloc[0]"
      ],
      "execution_count": null,
      "outputs": [
        {
          "output_type": "execute_result",
          "data": {
            "text/plain": [
              "NA_Sales    601.05\n",
              "Name: X360, dtype: float64"
            ]
          },
          "metadata": {
            "tags": []
          },
          "execution_count": 61
        }
      ]
    },
    {
      "cell_type": "markdown",
      "metadata": {
        "id": "BFJJ1DKDapZZ",
        "colab_type": "text"
      },
      "source": [
        "#### Iterating Through Groups"
      ]
    },
    {
      "cell_type": "code",
      "metadata": {
        "id": "kONLp1kLbeZd",
        "colab_type": "code",
        "colab": {
          "base_uri": "https://localhost:8080/"
        },
        "outputId": "22252ded-8fbf-41fe-ed7d-0b7b471f9e1d"
      },
      "source": [
        "sales.head()"
      ],
      "execution_count": null,
      "outputs": [
        {
          "output_type": "execute_result",
          "data": {
            "text/html": [
              "<div>\n",
              "<style scoped>\n",
              "    .dataframe tbody tr th:only-of-type {\n",
              "        vertical-align: middle;\n",
              "    }\n",
              "\n",
              "    .dataframe tbody tr th {\n",
              "        vertical-align: top;\n",
              "    }\n",
              "\n",
              "    .dataframe thead th {\n",
              "        text-align: right;\n",
              "    }\n",
              "</style>\n",
              "<table border=\"1\" class=\"dataframe\">\n",
              "  <thead>\n",
              "    <tr style=\"text-align: right;\">\n",
              "      <th></th>\n",
              "      <th>Platform</th>\n",
              "      <th>NA_Sales</th>\n",
              "      <th>EU_Sales</th>\n",
              "      <th>JP_Sales</th>\n",
              "      <th>Other_Sales</th>\n",
              "    </tr>\n",
              "  </thead>\n",
              "  <tbody>\n",
              "    <tr>\n",
              "      <th>0</th>\n",
              "      <td>X360</td>\n",
              "      <td>14.97</td>\n",
              "      <td>4.94</td>\n",
              "      <td>0.24</td>\n",
              "      <td>1.67</td>\n",
              "    </tr>\n",
              "    <tr>\n",
              "      <th>1</th>\n",
              "      <td>PS3</td>\n",
              "      <td>7.01</td>\n",
              "      <td>9.27</td>\n",
              "      <td>0.97</td>\n",
              "      <td>4.14</td>\n",
              "    </tr>\n",
              "    <tr>\n",
              "      <th>2</th>\n",
              "      <td>X360</td>\n",
              "      <td>9.63</td>\n",
              "      <td>5.31</td>\n",
              "      <td>0.06</td>\n",
              "      <td>1.38</td>\n",
              "    </tr>\n",
              "    <tr>\n",
              "      <th>3</th>\n",
              "      <td>X360</td>\n",
              "      <td>9.03</td>\n",
              "      <td>4.28</td>\n",
              "      <td>0.13</td>\n",
              "      <td>1.32</td>\n",
              "    </tr>\n",
              "    <tr>\n",
              "      <th>4</th>\n",
              "      <td>X360</td>\n",
              "      <td>9.67</td>\n",
              "      <td>3.73</td>\n",
              "      <td>0.11</td>\n",
              "      <td>1.13</td>\n",
              "    </tr>\n",
              "  </tbody>\n",
              "</table>\n",
              "</div>"
            ],
            "text/plain": [
              "  Platform  NA_Sales  EU_Sales  JP_Sales  Other_Sales\n",
              "0     X360     14.97      4.94      0.24         1.67\n",
              "1      PS3      7.01      9.27      0.97         4.14\n",
              "2     X360      9.63      5.31      0.06         1.38\n",
              "3     X360      9.03      4.28      0.13         1.32\n",
              "4     X360      9.67      3.73      0.11         1.13"
            ]
          },
          "metadata": {
            "tags": []
          },
          "execution_count": 62
        }
      ]
    },
    {
      "cell_type": "code",
      "metadata": {
        "id": "7kBbBSQFdH3D",
        "colab_type": "code",
        "colab": {
          "base_uri": "https://localhost:8080/"
        },
        "outputId": "70268e5b-5c87-486f-ffa2-dc6dca1eb747"
      },
      "source": [
        "sales.groupby('Platform')"
      ],
      "execution_count": null,
      "outputs": [
        {
          "output_type": "execute_result",
          "data": {
            "text/plain": [
              "<pandas.core.groupby.generic.DataFrameGroupBy object at 0x7f771e1a0a90>"
            ]
          },
          "metadata": {
            "tags": []
          },
          "execution_count": 63
        }
      ]
    },
    {
      "cell_type": "code",
      "metadata": {
        "id": "HjHJOU8JfuWx",
        "colab_type": "code",
        "colab": {
          "base_uri": "https://localhost:8080/"
        },
        "outputId": "8f5ca568-06d9-4a0b-ac0c-7b314e6caa09"
      },
      "source": [
        "sales.Platform.unique()"
      ],
      "execution_count": null,
      "outputs": [
        {
          "output_type": "execute_result",
          "data": {
            "text/plain": [
              "array(['X360', 'PS3', 'PS4', 'XOne'], dtype=object)"
            ]
          },
          "metadata": {
            "tags": []
          },
          "execution_count": 64
        }
      ]
    },
    {
      "cell_type": "code",
      "metadata": {
        "id": "f5sfVPDxgcCo",
        "colab_type": "code",
        "colab": {
          "base_uri": "https://localhost:8080/"
        },
        "outputId": "39670e55-3782-4233-c81e-41e549eed97d"
      },
      "source": [
        "for name, df in sales.groupby('Platform'):\n",
        "  print('--------------')\n",
        "  print('Subgroup label: ', name)\n",
        "  print('--------------', '\\n')\n",
        "  print(df, '\\n')"
      ],
      "execution_count": null,
      "outputs": [
        {
          "output_type": "stream",
          "text": [
            "--------------\n",
            "Subgroup label:  PS3\n",
            "-------------- \n",
            "\n",
            "     Platform  NA_Sales  EU_Sales  JP_Sales  Other_Sales\n",
            "1         PS3      7.01      9.27      0.97         4.14\n",
            "6         PS3      4.99      5.88      0.65         2.52\n",
            "9         PS3      5.54      5.82      0.49         1.62\n",
            "10        PS3      5.98      4.44      0.48         1.83\n",
            "14        PS3      2.96      4.88      0.81         2.12\n",
            "...       ...       ...       ...       ...          ...\n",
            "3124      PS3      0.00      0.01      0.00         0.00\n",
            "3125      PS3      0.00      0.00      0.01         0.00\n",
            "3129      PS3      0.00      0.00      0.01         0.00\n",
            "3132      PS3      0.00      0.00      0.01         0.00\n",
            "3136      PS3      0.00      0.00      0.01         0.00\n",
            "\n",
            "[1329 rows x 5 columns] \n",
            "\n",
            "--------------\n",
            "Subgroup label:  PS4\n",
            "-------------- \n",
            "\n",
            "     Platform  NA_Sales  EU_Sales  JP_Sales  Other_Sales\n",
            "5         PS4      5.77      5.81      0.35         2.31\n",
            "12        PS4      3.80      5.81      0.36         2.02\n",
            "24        PS4      1.11      6.06      0.06         1.26\n",
            "26        PS4      2.93      3.29      0.22         1.23\n",
            "27        PS4      2.80      3.30      0.14         1.37\n",
            "...       ...       ...       ...       ...          ...\n",
            "3091      PS4      0.00      0.00      0.01         0.00\n",
            "3101      PS4      0.01      0.00      0.00         0.00\n",
            "3106      PS4      0.00      0.00      0.01         0.00\n",
            "3137      PS4      0.00      0.00      0.01         0.00\n",
            "3141      PS4      0.00      0.01      0.00         0.00\n",
            "\n",
            "[336 rows x 5 columns] \n",
            "\n",
            "--------------\n",
            "Subgroup label:  X360\n",
            "-------------- \n",
            "\n",
            "     Platform  NA_Sales  EU_Sales  JP_Sales  Other_Sales\n",
            "0        X360     14.97      4.94      0.24         1.67\n",
            "2        X360      9.63      5.31      0.06         1.38\n",
            "3        X360      9.03      4.28      0.13         1.32\n",
            "4        X360      9.67      3.73      0.11         1.13\n",
            "7        X360      8.25      4.30      0.07         1.12\n",
            "...       ...       ...       ...       ...          ...\n",
            "3127     X360      0.00      0.01      0.00         0.00\n",
            "3128     X360      0.00      0.00      0.01         0.00\n",
            "3130     X360      0.01      0.00      0.00         0.00\n",
            "3135     X360      0.00      0.00      0.01         0.00\n",
            "3138     X360      0.00      0.01      0.00         0.00\n",
            "\n",
            "[1265 rows x 5 columns] \n",
            "\n",
            "--------------\n",
            "Subgroup label:  XOne\n",
            "-------------- \n",
            "\n",
            "     Platform  NA_Sales  EU_Sales  JP_Sales  Other_Sales\n",
            "30       XOne      4.52      2.09      0.01         0.67\n",
            "63       XOne      3.21      1.53      0.01         0.38\n",
            "65       XOne      2.66      2.01      0.00         0.41\n",
            "84       XOne      2.64      1.20      0.03         0.39\n",
            "93       XOne      2.45      1.26      0.01         0.37\n",
            "...       ...       ...       ...       ...          ...\n",
            "3133     XOne      0.00      0.01      0.00         0.00\n",
            "3134     XOne      0.00      0.01      0.00         0.00\n",
            "3139     XOne      0.01      0.00      0.00         0.00\n",
            "3140     XOne      0.01      0.00      0.00         0.00\n",
            "3142     XOne      0.00      0.01      0.00         0.00\n",
            "\n",
            "[213 rows x 5 columns] \n",
            "\n"
          ],
          "name": "stdout"
        }
      ]
    },
    {
      "cell_type": "markdown",
      "metadata": {
        "id": "VluRciueguw_",
        "colab_type": "text"
      },
      "source": [
        "#### Handpicking Subgroups"
      ]
    },
    {
      "cell_type": "code",
      "metadata": {
        "id": "egIIi6Pmxfqo",
        "colab_type": "code",
        "colab": {
          "base_uri": "https://localhost:8080/"
        },
        "outputId": "1266d718-7bac-472c-f416-c19bcb54d79a"
      },
      "source": [
        "for name, df in sales.groupby('Platform'):\n",
        "  print('--------------')\n",
        "  print('Subgroup label: ', name)\n",
        "  print('--------------', '\\n')\n",
        "  print(df, '\\n')"
      ],
      "execution_count": null,
      "outputs": [
        {
          "output_type": "stream",
          "text": [
            "--------------\n",
            "Subgroup label:  PS3\n",
            "-------------- \n",
            "\n",
            "     Platform  NA_Sales  EU_Sales  JP_Sales  Other_Sales\n",
            "1         PS3      7.01      9.27      0.97         4.14\n",
            "6         PS3      4.99      5.88      0.65         2.52\n",
            "9         PS3      5.54      5.82      0.49         1.62\n",
            "10        PS3      5.98      4.44      0.48         1.83\n",
            "14        PS3      2.96      4.88      0.81         2.12\n",
            "...       ...       ...       ...       ...          ...\n",
            "3124      PS3      0.00      0.01      0.00         0.00\n",
            "3125      PS3      0.00      0.00      0.01         0.00\n",
            "3129      PS3      0.00      0.00      0.01         0.00\n",
            "3132      PS3      0.00      0.00      0.01         0.00\n",
            "3136      PS3      0.00      0.00      0.01         0.00\n",
            "\n",
            "[1329 rows x 5 columns] \n",
            "\n",
            "--------------\n",
            "Subgroup label:  PS4\n",
            "-------------- \n",
            "\n",
            "     Platform  NA_Sales  EU_Sales  JP_Sales  Other_Sales\n",
            "5         PS4      5.77      5.81      0.35         2.31\n",
            "12        PS4      3.80      5.81      0.36         2.02\n",
            "24        PS4      1.11      6.06      0.06         1.26\n",
            "26        PS4      2.93      3.29      0.22         1.23\n",
            "27        PS4      2.80      3.30      0.14         1.37\n",
            "...       ...       ...       ...       ...          ...\n",
            "3091      PS4      0.00      0.00      0.01         0.00\n",
            "3101      PS4      0.01      0.00      0.00         0.00\n",
            "3106      PS4      0.00      0.00      0.01         0.00\n",
            "3137      PS4      0.00      0.00      0.01         0.00\n",
            "3141      PS4      0.00      0.01      0.00         0.00\n",
            "\n",
            "[336 rows x 5 columns] \n",
            "\n",
            "--------------\n",
            "Subgroup label:  X360\n",
            "-------------- \n",
            "\n",
            "     Platform  NA_Sales  EU_Sales  JP_Sales  Other_Sales\n",
            "0        X360     14.97      4.94      0.24         1.67\n",
            "2        X360      9.63      5.31      0.06         1.38\n",
            "3        X360      9.03      4.28      0.13         1.32\n",
            "4        X360      9.67      3.73      0.11         1.13\n",
            "7        X360      8.25      4.30      0.07         1.12\n",
            "...       ...       ...       ...       ...          ...\n",
            "3127     X360      0.00      0.01      0.00         0.00\n",
            "3128     X360      0.00      0.00      0.01         0.00\n",
            "3130     X360      0.01      0.00      0.00         0.00\n",
            "3135     X360      0.00      0.00      0.01         0.00\n",
            "3138     X360      0.00      0.01      0.00         0.00\n",
            "\n",
            "[1265 rows x 5 columns] \n",
            "\n",
            "--------------\n",
            "Subgroup label:  XOne\n",
            "-------------- \n",
            "\n",
            "     Platform  NA_Sales  EU_Sales  JP_Sales  Other_Sales\n",
            "30       XOne      4.52      2.09      0.01         0.67\n",
            "63       XOne      3.21      1.53      0.01         0.38\n",
            "65       XOne      2.66      2.01      0.00         0.41\n",
            "84       XOne      2.64      1.20      0.03         0.39\n",
            "93       XOne      2.45      1.26      0.01         0.37\n",
            "...       ...       ...       ...       ...          ...\n",
            "3133     XOne      0.00      0.01      0.00         0.00\n",
            "3134     XOne      0.00      0.01      0.00         0.00\n",
            "3139     XOne      0.01      0.00      0.00         0.00\n",
            "3140     XOne      0.01      0.00      0.00         0.00\n",
            "3142     XOne      0.00      0.01      0.00         0.00\n",
            "\n",
            "[213 rows x 5 columns] \n",
            "\n"
          ],
          "name": "stdout"
        }
      ]
    },
    {
      "cell_type": "code",
      "metadata": {
        "id": "wohU5454yjee",
        "colab_type": "code",
        "colab": {}
      },
      "source": [
        "# Q: how to access a single (sub)group?"
      ],
      "execution_count": null,
      "outputs": []
    },
    {
      "cell_type": "code",
      "metadata": {
        "id": "fplGCMhIy8F9",
        "colab_type": "code",
        "colab": {
          "base_uri": "https://localhost:8080/"
        },
        "outputId": "d692a3bb-d6fa-48ed-cfff-9c53e0663e91"
      },
      "source": [
        "dict(iter(sales.groupby('Platform')))['PS3']"
      ],
      "execution_count": null,
      "outputs": [
        {
          "output_type": "execute_result",
          "data": {
            "text/html": [
              "<div>\n",
              "<style scoped>\n",
              "    .dataframe tbody tr th:only-of-type {\n",
              "        vertical-align: middle;\n",
              "    }\n",
              "\n",
              "    .dataframe tbody tr th {\n",
              "        vertical-align: top;\n",
              "    }\n",
              "\n",
              "    .dataframe thead th {\n",
              "        text-align: right;\n",
              "    }\n",
              "</style>\n",
              "<table border=\"1\" class=\"dataframe\">\n",
              "  <thead>\n",
              "    <tr style=\"text-align: right;\">\n",
              "      <th></th>\n",
              "      <th>Platform</th>\n",
              "      <th>NA_Sales</th>\n",
              "      <th>EU_Sales</th>\n",
              "      <th>JP_Sales</th>\n",
              "      <th>Other_Sales</th>\n",
              "    </tr>\n",
              "  </thead>\n",
              "  <tbody>\n",
              "    <tr>\n",
              "      <th>1</th>\n",
              "      <td>PS3</td>\n",
              "      <td>7.01</td>\n",
              "      <td>9.27</td>\n",
              "      <td>0.97</td>\n",
              "      <td>4.14</td>\n",
              "    </tr>\n",
              "    <tr>\n",
              "      <th>6</th>\n",
              "      <td>PS3</td>\n",
              "      <td>4.99</td>\n",
              "      <td>5.88</td>\n",
              "      <td>0.65</td>\n",
              "      <td>2.52</td>\n",
              "    </tr>\n",
              "    <tr>\n",
              "      <th>9</th>\n",
              "      <td>PS3</td>\n",
              "      <td>5.54</td>\n",
              "      <td>5.82</td>\n",
              "      <td>0.49</td>\n",
              "      <td>1.62</td>\n",
              "    </tr>\n",
              "    <tr>\n",
              "      <th>10</th>\n",
              "      <td>PS3</td>\n",
              "      <td>5.98</td>\n",
              "      <td>4.44</td>\n",
              "      <td>0.48</td>\n",
              "      <td>1.83</td>\n",
              "    </tr>\n",
              "    <tr>\n",
              "      <th>14</th>\n",
              "      <td>PS3</td>\n",
              "      <td>2.96</td>\n",
              "      <td>4.88</td>\n",
              "      <td>0.81</td>\n",
              "      <td>2.12</td>\n",
              "    </tr>\n",
              "    <tr>\n",
              "      <th>...</th>\n",
              "      <td>...</td>\n",
              "      <td>...</td>\n",
              "      <td>...</td>\n",
              "      <td>...</td>\n",
              "      <td>...</td>\n",
              "    </tr>\n",
              "    <tr>\n",
              "      <th>3124</th>\n",
              "      <td>PS3</td>\n",
              "      <td>0.00</td>\n",
              "      <td>0.01</td>\n",
              "      <td>0.00</td>\n",
              "      <td>0.00</td>\n",
              "    </tr>\n",
              "    <tr>\n",
              "      <th>3125</th>\n",
              "      <td>PS3</td>\n",
              "      <td>0.00</td>\n",
              "      <td>0.00</td>\n",
              "      <td>0.01</td>\n",
              "      <td>0.00</td>\n",
              "    </tr>\n",
              "    <tr>\n",
              "      <th>3129</th>\n",
              "      <td>PS3</td>\n",
              "      <td>0.00</td>\n",
              "      <td>0.00</td>\n",
              "      <td>0.01</td>\n",
              "      <td>0.00</td>\n",
              "    </tr>\n",
              "    <tr>\n",
              "      <th>3132</th>\n",
              "      <td>PS3</td>\n",
              "      <td>0.00</td>\n",
              "      <td>0.00</td>\n",
              "      <td>0.01</td>\n",
              "      <td>0.00</td>\n",
              "    </tr>\n",
              "    <tr>\n",
              "      <th>3136</th>\n",
              "      <td>PS3</td>\n",
              "      <td>0.00</td>\n",
              "      <td>0.00</td>\n",
              "      <td>0.01</td>\n",
              "      <td>0.00</td>\n",
              "    </tr>\n",
              "  </tbody>\n",
              "</table>\n",
              "<p>1329 rows × 5 columns</p>\n",
              "</div>"
            ],
            "text/plain": [
              "     Platform  NA_Sales  EU_Sales  JP_Sales  Other_Sales\n",
              "1         PS3      7.01      9.27      0.97         4.14\n",
              "6         PS3      4.99      5.88      0.65         2.52\n",
              "9         PS3      5.54      5.82      0.49         1.62\n",
              "10        PS3      5.98      4.44      0.48         1.83\n",
              "14        PS3      2.96      4.88      0.81         2.12\n",
              "...       ...       ...       ...       ...          ...\n",
              "3124      PS3      0.00      0.01      0.00         0.00\n",
              "3125      PS3      0.00      0.00      0.01         0.00\n",
              "3129      PS3      0.00      0.00      0.01         0.00\n",
              "3132      PS3      0.00      0.00      0.01         0.00\n",
              "3136      PS3      0.00      0.00      0.01         0.00\n",
              "\n",
              "[1329 rows x 5 columns]"
            ]
          },
          "metadata": {
            "tags": []
          },
          "execution_count": 68
        }
      ]
    },
    {
      "cell_type": "code",
      "metadata": {
        "id": "W9c9gaaV0eLA",
        "colab_type": "code",
        "colab": {}
      },
      "source": [
        "# the better approach"
      ],
      "execution_count": null,
      "outputs": []
    },
    {
      "cell_type": "code",
      "metadata": {
        "id": "UmNIwyW-0aPn",
        "colab_type": "code",
        "colab": {
          "base_uri": "https://localhost:8080/"
        },
        "outputId": "9bd50195-7a88-4303-cdca-b1af7aedd006"
      },
      "source": [
        "sales.groupby('Platform').get_group('PS3')"
      ],
      "execution_count": null,
      "outputs": [
        {
          "output_type": "execute_result",
          "data": {
            "text/html": [
              "<div>\n",
              "<style scoped>\n",
              "    .dataframe tbody tr th:only-of-type {\n",
              "        vertical-align: middle;\n",
              "    }\n",
              "\n",
              "    .dataframe tbody tr th {\n",
              "        vertical-align: top;\n",
              "    }\n",
              "\n",
              "    .dataframe thead th {\n",
              "        text-align: right;\n",
              "    }\n",
              "</style>\n",
              "<table border=\"1\" class=\"dataframe\">\n",
              "  <thead>\n",
              "    <tr style=\"text-align: right;\">\n",
              "      <th></th>\n",
              "      <th>Platform</th>\n",
              "      <th>NA_Sales</th>\n",
              "      <th>EU_Sales</th>\n",
              "      <th>JP_Sales</th>\n",
              "      <th>Other_Sales</th>\n",
              "    </tr>\n",
              "  </thead>\n",
              "  <tbody>\n",
              "    <tr>\n",
              "      <th>1</th>\n",
              "      <td>PS3</td>\n",
              "      <td>7.01</td>\n",
              "      <td>9.27</td>\n",
              "      <td>0.97</td>\n",
              "      <td>4.14</td>\n",
              "    </tr>\n",
              "    <tr>\n",
              "      <th>6</th>\n",
              "      <td>PS3</td>\n",
              "      <td>4.99</td>\n",
              "      <td>5.88</td>\n",
              "      <td>0.65</td>\n",
              "      <td>2.52</td>\n",
              "    </tr>\n",
              "    <tr>\n",
              "      <th>9</th>\n",
              "      <td>PS3</td>\n",
              "      <td>5.54</td>\n",
              "      <td>5.82</td>\n",
              "      <td>0.49</td>\n",
              "      <td>1.62</td>\n",
              "    </tr>\n",
              "    <tr>\n",
              "      <th>10</th>\n",
              "      <td>PS3</td>\n",
              "      <td>5.98</td>\n",
              "      <td>4.44</td>\n",
              "      <td>0.48</td>\n",
              "      <td>1.83</td>\n",
              "    </tr>\n",
              "    <tr>\n",
              "      <th>14</th>\n",
              "      <td>PS3</td>\n",
              "      <td>2.96</td>\n",
              "      <td>4.88</td>\n",
              "      <td>0.81</td>\n",
              "      <td>2.12</td>\n",
              "    </tr>\n",
              "    <tr>\n",
              "      <th>...</th>\n",
              "      <td>...</td>\n",
              "      <td>...</td>\n",
              "      <td>...</td>\n",
              "      <td>...</td>\n",
              "      <td>...</td>\n",
              "    </tr>\n",
              "    <tr>\n",
              "      <th>3124</th>\n",
              "      <td>PS3</td>\n",
              "      <td>0.00</td>\n",
              "      <td>0.01</td>\n",
              "      <td>0.00</td>\n",
              "      <td>0.00</td>\n",
              "    </tr>\n",
              "    <tr>\n",
              "      <th>3125</th>\n",
              "      <td>PS3</td>\n",
              "      <td>0.00</td>\n",
              "      <td>0.00</td>\n",
              "      <td>0.01</td>\n",
              "      <td>0.00</td>\n",
              "    </tr>\n",
              "    <tr>\n",
              "      <th>3129</th>\n",
              "      <td>PS3</td>\n",
              "      <td>0.00</td>\n",
              "      <td>0.00</td>\n",
              "      <td>0.01</td>\n",
              "      <td>0.00</td>\n",
              "    </tr>\n",
              "    <tr>\n",
              "      <th>3132</th>\n",
              "      <td>PS3</td>\n",
              "      <td>0.00</td>\n",
              "      <td>0.00</td>\n",
              "      <td>0.01</td>\n",
              "      <td>0.00</td>\n",
              "    </tr>\n",
              "    <tr>\n",
              "      <th>3136</th>\n",
              "      <td>PS3</td>\n",
              "      <td>0.00</td>\n",
              "      <td>0.00</td>\n",
              "      <td>0.01</td>\n",
              "      <td>0.00</td>\n",
              "    </tr>\n",
              "  </tbody>\n",
              "</table>\n",
              "<p>1329 rows × 5 columns</p>\n",
              "</div>"
            ],
            "text/plain": [
              "     Platform  NA_Sales  EU_Sales  JP_Sales  Other_Sales\n",
              "1         PS3      7.01      9.27      0.97         4.14\n",
              "6         PS3      4.99      5.88      0.65         2.52\n",
              "9         PS3      5.54      5.82      0.49         1.62\n",
              "10        PS3      5.98      4.44      0.48         1.83\n",
              "14        PS3      2.96      4.88      0.81         2.12\n",
              "...       ...       ...       ...       ...          ...\n",
              "3124      PS3      0.00      0.01      0.00         0.00\n",
              "3125      PS3      0.00      0.00      0.01         0.00\n",
              "3129      PS3      0.00      0.00      0.01         0.00\n",
              "3132      PS3      0.00      0.00      0.01         0.00\n",
              "3136      PS3      0.00      0.00      0.01         0.00\n",
              "\n",
              "[1329 rows x 5 columns]"
            ]
          },
          "metadata": {
            "tags": []
          },
          "execution_count": 70
        }
      ]
    },
    {
      "cell_type": "code",
      "metadata": {
        "id": "guI-qn8Uzydd",
        "colab_type": "code",
        "colab": {
          "base_uri": "https://localhost:8080/"
        },
        "outputId": "5da89e12-944a-4abd-f644-3cff5049c5b9"
      },
      "source": [
        "sales.groupby('Platform')['JP_Sales']"
      ],
      "execution_count": null,
      "outputs": [
        {
          "output_type": "execute_result",
          "data": {
            "text/plain": [
              "<pandas.core.groupby.generic.SeriesGroupBy object at 0x7f771e1abb00>"
            ]
          },
          "metadata": {
            "tags": []
          },
          "execution_count": 71
        }
      ]
    },
    {
      "cell_type": "code",
      "metadata": {
        "id": "ttIdPb8Lz5-X",
        "colab_type": "code",
        "colab": {
          "base_uri": "https://localhost:8080/"
        },
        "outputId": "3834507e-0e9d-458f-e6ce-2ccc69da8f5d"
      },
      "source": [
        "type(sales.JP_Sales)"
      ],
      "execution_count": null,
      "outputs": [
        {
          "output_type": "execute_result",
          "data": {
            "text/plain": [
              "pandas.core.series.Series"
            ]
          },
          "metadata": {
            "tags": []
          },
          "execution_count": 72
        }
      ]
    },
    {
      "cell_type": "markdown",
      "metadata": {
        "id": "8LVASuY30BMo",
        "colab_type": "text"
      },
      "source": [
        "#### MultiIndex Grouping"
      ]
    },
    {
      "cell_type": "code",
      "metadata": {
        "id": "4OQwih_F1Gkr",
        "colab_type": "code",
        "colab": {
          "base_uri": "https://localhost:8080/"
        },
        "outputId": "9f228bf3-a41a-427f-9662-cd270f8031c8"
      },
      "source": [
        "games"
      ],
      "execution_count": null,
      "outputs": [
        {
          "output_type": "execute_result",
          "data": {
            "text/html": [
              "<div>\n",
              "<style scoped>\n",
              "    .dataframe tbody tr th:only-of-type {\n",
              "        vertical-align: middle;\n",
              "    }\n",
              "\n",
              "    .dataframe tbody tr th {\n",
              "        vertical-align: top;\n",
              "    }\n",
              "\n",
              "    .dataframe thead th {\n",
              "        text-align: right;\n",
              "    }\n",
              "</style>\n",
              "<table border=\"1\" class=\"dataframe\">\n",
              "  <thead>\n",
              "    <tr style=\"text-align: right;\">\n",
              "      <th></th>\n",
              "      <th>Name</th>\n",
              "      <th>Platform</th>\n",
              "      <th>Year</th>\n",
              "      <th>Genre</th>\n",
              "      <th>Publisher</th>\n",
              "      <th>NA_Sales</th>\n",
              "      <th>EU_Sales</th>\n",
              "      <th>JP_Sales</th>\n",
              "      <th>Other_Sales</th>\n",
              "      <th>Global_Sales</th>\n",
              "    </tr>\n",
              "  </thead>\n",
              "  <tbody>\n",
              "    <tr>\n",
              "      <th>0</th>\n",
              "      <td>Kinect Adventures!</td>\n",
              "      <td>X360</td>\n",
              "      <td>2010.0</td>\n",
              "      <td>Misc</td>\n",
              "      <td>Microsoft Game Studios</td>\n",
              "      <td>14.97</td>\n",
              "      <td>4.94</td>\n",
              "      <td>0.24</td>\n",
              "      <td>1.67</td>\n",
              "      <td>21.82</td>\n",
              "    </tr>\n",
              "    <tr>\n",
              "      <th>1</th>\n",
              "      <td>Grand Theft Auto V</td>\n",
              "      <td>PS3</td>\n",
              "      <td>2013.0</td>\n",
              "      <td>Action</td>\n",
              "      <td>Take-Two Interactive</td>\n",
              "      <td>7.01</td>\n",
              "      <td>9.27</td>\n",
              "      <td>0.97</td>\n",
              "      <td>4.14</td>\n",
              "      <td>21.40</td>\n",
              "    </tr>\n",
              "    <tr>\n",
              "      <th>2</th>\n",
              "      <td>Grand Theft Auto V</td>\n",
              "      <td>X360</td>\n",
              "      <td>2013.0</td>\n",
              "      <td>Action</td>\n",
              "      <td>Take-Two Interactive</td>\n",
              "      <td>9.63</td>\n",
              "      <td>5.31</td>\n",
              "      <td>0.06</td>\n",
              "      <td>1.38</td>\n",
              "      <td>16.38</td>\n",
              "    </tr>\n",
              "    <tr>\n",
              "      <th>3</th>\n",
              "      <td>Call of Duty: Modern Warfare 3</td>\n",
              "      <td>X360</td>\n",
              "      <td>2011.0</td>\n",
              "      <td>Shooter</td>\n",
              "      <td>Activision</td>\n",
              "      <td>9.03</td>\n",
              "      <td>4.28</td>\n",
              "      <td>0.13</td>\n",
              "      <td>1.32</td>\n",
              "      <td>14.76</td>\n",
              "    </tr>\n",
              "    <tr>\n",
              "      <th>4</th>\n",
              "      <td>Call of Duty: Black Ops</td>\n",
              "      <td>X360</td>\n",
              "      <td>2010.0</td>\n",
              "      <td>Shooter</td>\n",
              "      <td>Activision</td>\n",
              "      <td>9.67</td>\n",
              "      <td>3.73</td>\n",
              "      <td>0.11</td>\n",
              "      <td>1.13</td>\n",
              "      <td>14.64</td>\n",
              "    </tr>\n",
              "    <tr>\n",
              "      <th>...</th>\n",
              "      <td>...</td>\n",
              "      <td>...</td>\n",
              "      <td>...</td>\n",
              "      <td>...</td>\n",
              "      <td>...</td>\n",
              "      <td>...</td>\n",
              "      <td>...</td>\n",
              "      <td>...</td>\n",
              "      <td>...</td>\n",
              "      <td>...</td>\n",
              "    </tr>\n",
              "    <tr>\n",
              "      <th>3138</th>\n",
              "      <td>Bound By Flame</td>\n",
              "      <td>X360</td>\n",
              "      <td>2014.0</td>\n",
              "      <td>Role-Playing</td>\n",
              "      <td>NaN</td>\n",
              "      <td>0.00</td>\n",
              "      <td>0.01</td>\n",
              "      <td>0.00</td>\n",
              "      <td>0.00</td>\n",
              "      <td>0.01</td>\n",
              "    </tr>\n",
              "    <tr>\n",
              "      <th>3139</th>\n",
              "      <td>Mighty No. 9</td>\n",
              "      <td>XOne</td>\n",
              "      <td>2016.0</td>\n",
              "      <td>Platform</td>\n",
              "      <td>Deep Silver</td>\n",
              "      <td>0.01</td>\n",
              "      <td>0.00</td>\n",
              "      <td>0.00</td>\n",
              "      <td>0.00</td>\n",
              "      <td>0.01</td>\n",
              "    </tr>\n",
              "    <tr>\n",
              "      <th>3140</th>\n",
              "      <td>Resident Evil 4 HD</td>\n",
              "      <td>XOne</td>\n",
              "      <td>2016.0</td>\n",
              "      <td>Shooter</td>\n",
              "      <td>Capcom</td>\n",
              "      <td>0.01</td>\n",
              "      <td>0.00</td>\n",
              "      <td>0.00</td>\n",
              "      <td>0.00</td>\n",
              "      <td>0.01</td>\n",
              "    </tr>\n",
              "    <tr>\n",
              "      <th>3141</th>\n",
              "      <td>Farming 2017 - The Simulation</td>\n",
              "      <td>PS4</td>\n",
              "      <td>2016.0</td>\n",
              "      <td>Simulation</td>\n",
              "      <td>UIG Entertainment</td>\n",
              "      <td>0.00</td>\n",
              "      <td>0.01</td>\n",
              "      <td>0.00</td>\n",
              "      <td>0.00</td>\n",
              "      <td>0.01</td>\n",
              "    </tr>\n",
              "    <tr>\n",
              "      <th>3142</th>\n",
              "      <td>Rugby Challenge 3</td>\n",
              "      <td>XOne</td>\n",
              "      <td>2016.0</td>\n",
              "      <td>Sports</td>\n",
              "      <td>Alternative Software</td>\n",
              "      <td>0.00</td>\n",
              "      <td>0.01</td>\n",
              "      <td>0.00</td>\n",
              "      <td>0.00</td>\n",
              "      <td>0.01</td>\n",
              "    </tr>\n",
              "  </tbody>\n",
              "</table>\n",
              "<p>3143 rows × 10 columns</p>\n",
              "</div>"
            ],
            "text/plain": [
              "                                Name Platform  ...  Other_Sales Global_Sales\n",
              "0                 Kinect Adventures!     X360  ...         1.67        21.82\n",
              "1                 Grand Theft Auto V      PS3  ...         4.14        21.40\n",
              "2                 Grand Theft Auto V     X360  ...         1.38        16.38\n",
              "3     Call of Duty: Modern Warfare 3     X360  ...         1.32        14.76\n",
              "4            Call of Duty: Black Ops     X360  ...         1.13        14.64\n",
              "...                              ...      ...  ...          ...          ...\n",
              "3138                  Bound By Flame     X360  ...         0.00         0.01\n",
              "3139                    Mighty No. 9     XOne  ...         0.00         0.01\n",
              "3140              Resident Evil 4 HD     XOne  ...         0.00         0.01\n",
              "3141   Farming 2017 - The Simulation      PS4  ...         0.00         0.01\n",
              "3142               Rugby Challenge 3     XOne  ...         0.00         0.01\n",
              "\n",
              "[3143 rows x 10 columns]"
            ]
          },
          "metadata": {
            "tags": []
          },
          "execution_count": 73
        }
      ]
    },
    {
      "cell_type": "code",
      "metadata": {
        "id": "e38CzMr01b0P",
        "colab_type": "code",
        "colab": {}
      },
      "source": [
        "studios = games.loc[:, ['Genre', 'Publisher', 'Global_Sales']]"
      ],
      "execution_count": null,
      "outputs": []
    },
    {
      "cell_type": "code",
      "metadata": {
        "id": "PY0D3yA_1ctb",
        "colab_type": "code",
        "colab": {
          "base_uri": "https://localhost:8080/"
        },
        "outputId": "759fe923-ee98-4645-9969-edc91eed4c6d"
      },
      "source": [
        "studios.head()"
      ],
      "execution_count": null,
      "outputs": [
        {
          "output_type": "execute_result",
          "data": {
            "text/html": [
              "<div>\n",
              "<style scoped>\n",
              "    .dataframe tbody tr th:only-of-type {\n",
              "        vertical-align: middle;\n",
              "    }\n",
              "\n",
              "    .dataframe tbody tr th {\n",
              "        vertical-align: top;\n",
              "    }\n",
              "\n",
              "    .dataframe thead th {\n",
              "        text-align: right;\n",
              "    }\n",
              "</style>\n",
              "<table border=\"1\" class=\"dataframe\">\n",
              "  <thead>\n",
              "    <tr style=\"text-align: right;\">\n",
              "      <th></th>\n",
              "      <th>Genre</th>\n",
              "      <th>Publisher</th>\n",
              "      <th>Global_Sales</th>\n",
              "    </tr>\n",
              "  </thead>\n",
              "  <tbody>\n",
              "    <tr>\n",
              "      <th>0</th>\n",
              "      <td>Misc</td>\n",
              "      <td>Microsoft Game Studios</td>\n",
              "      <td>21.82</td>\n",
              "    </tr>\n",
              "    <tr>\n",
              "      <th>1</th>\n",
              "      <td>Action</td>\n",
              "      <td>Take-Two Interactive</td>\n",
              "      <td>21.40</td>\n",
              "    </tr>\n",
              "    <tr>\n",
              "      <th>2</th>\n",
              "      <td>Action</td>\n",
              "      <td>Take-Two Interactive</td>\n",
              "      <td>16.38</td>\n",
              "    </tr>\n",
              "    <tr>\n",
              "      <th>3</th>\n",
              "      <td>Shooter</td>\n",
              "      <td>Activision</td>\n",
              "      <td>14.76</td>\n",
              "    </tr>\n",
              "    <tr>\n",
              "      <th>4</th>\n",
              "      <td>Shooter</td>\n",
              "      <td>Activision</td>\n",
              "      <td>14.64</td>\n",
              "    </tr>\n",
              "  </tbody>\n",
              "</table>\n",
              "</div>"
            ],
            "text/plain": [
              "     Genre               Publisher  Global_Sales\n",
              "0     Misc  Microsoft Game Studios         21.82\n",
              "1   Action    Take-Two Interactive         21.40\n",
              "2   Action    Take-Two Interactive         16.38\n",
              "3  Shooter              Activision         14.76\n",
              "4  Shooter              Activision         14.64"
            ]
          },
          "metadata": {
            "tags": []
          },
          "execution_count": 75
        }
      ]
    },
    {
      "cell_type": "code",
      "metadata": {
        "id": "OEx0U0Yg24ZM",
        "colab_type": "code",
        "colab": {}
      },
      "source": [
        "# Q: which are the top publishers by global sales?"
      ],
      "execution_count": null,
      "outputs": []
    },
    {
      "cell_type": "code",
      "metadata": {
        "id": "8psxHRd82gra",
        "colab_type": "code",
        "colab": {
          "base_uri": "https://localhost:8080/"
        },
        "outputId": "ec23908d-de9f-4510-ab1c-927e93018a99"
      },
      "source": [
        "studios.groupby('Publisher').sum()\\\n",
        "                            .sort_values(by='Global_Sales', ascending=False)"
      ],
      "execution_count": null,
      "outputs": [
        {
          "output_type": "execute_result",
          "data": {
            "text/html": [
              "<div>\n",
              "<style scoped>\n",
              "    .dataframe tbody tr th:only-of-type {\n",
              "        vertical-align: middle;\n",
              "    }\n",
              "\n",
              "    .dataframe tbody tr th {\n",
              "        vertical-align: top;\n",
              "    }\n",
              "\n",
              "    .dataframe thead th {\n",
              "        text-align: right;\n",
              "    }\n",
              "</style>\n",
              "<table border=\"1\" class=\"dataframe\">\n",
              "  <thead>\n",
              "    <tr style=\"text-align: right;\">\n",
              "      <th></th>\n",
              "      <th>Global_Sales</th>\n",
              "    </tr>\n",
              "    <tr>\n",
              "      <th>Publisher</th>\n",
              "      <th></th>\n",
              "    </tr>\n",
              "  </thead>\n",
              "  <tbody>\n",
              "    <tr>\n",
              "      <th>Electronic Arts</th>\n",
              "      <td>434.41</td>\n",
              "    </tr>\n",
              "    <tr>\n",
              "      <th>Activision</th>\n",
              "      <td>349.22</td>\n",
              "    </tr>\n",
              "    <tr>\n",
              "      <th>Take-Two Interactive</th>\n",
              "      <td>218.08</td>\n",
              "    </tr>\n",
              "    <tr>\n",
              "      <th>Ubisoft</th>\n",
              "      <td>201.98</td>\n",
              "    </tr>\n",
              "    <tr>\n",
              "      <th>Microsoft Game Studios</th>\n",
              "      <td>190.56</td>\n",
              "    </tr>\n",
              "    <tr>\n",
              "      <th>...</th>\n",
              "      <td>...</td>\n",
              "    </tr>\n",
              "    <tr>\n",
              "      <th>UIG Entertainment</th>\n",
              "      <td>0.01</td>\n",
              "    </tr>\n",
              "    <tr>\n",
              "      <th>ChunSoft</th>\n",
              "      <td>0.01</td>\n",
              "    </tr>\n",
              "    <tr>\n",
              "      <th>Kaga Create</th>\n",
              "      <td>0.01</td>\n",
              "    </tr>\n",
              "    <tr>\n",
              "      <th>Epic Games</th>\n",
              "      <td>0.01</td>\n",
              "    </tr>\n",
              "    <tr>\n",
              "      <th>Ongakukan</th>\n",
              "      <td>0.01</td>\n",
              "    </tr>\n",
              "  </tbody>\n",
              "</table>\n",
              "<p>155 rows × 1 columns</p>\n",
              "</div>"
            ],
            "text/plain": [
              "                        Global_Sales\n",
              "Publisher                           \n",
              "Electronic Arts               434.41\n",
              "Activision                    349.22\n",
              "Take-Two Interactive          218.08\n",
              "Ubisoft                       201.98\n",
              "Microsoft Game Studios        190.56\n",
              "...                              ...\n",
              "UIG Entertainment               0.01\n",
              "ChunSoft                        0.01\n",
              "Kaga Create                     0.01\n",
              "Epic Games                      0.01\n",
              "Ongakukan                       0.01\n",
              "\n",
              "[155 rows x 1 columns]"
            ]
          },
          "metadata": {
            "tags": []
          },
          "execution_count": 77
        }
      ]
    },
    {
      "cell_type": "code",
      "metadata": {
        "id": "cstbQVh02oOo",
        "colab_type": "code",
        "colab": {}
      },
      "source": [
        "# Q2: which are the top publishers within each genre by global sales?"
      ],
      "execution_count": null,
      "outputs": []
    },
    {
      "cell_type": "code",
      "metadata": {
        "id": "keWgoHyT2_GK",
        "colab_type": "code",
        "colab": {
          "base_uri": "https://localhost:8080/"
        },
        "outputId": "d91b802e-ae0e-4143-97c6-857680f65795"
      },
      "source": [
        "studios.groupby(['Genre', 'Publisher']).sum().sort_values(by='Global_Sales', ascending=False)"
      ],
      "execution_count": null,
      "outputs": [
        {
          "output_type": "execute_result",
          "data": {
            "text/html": [
              "<div>\n",
              "<style scoped>\n",
              "    .dataframe tbody tr th:only-of-type {\n",
              "        vertical-align: middle;\n",
              "    }\n",
              "\n",
              "    .dataframe tbody tr th {\n",
              "        vertical-align: top;\n",
              "    }\n",
              "\n",
              "    .dataframe thead th {\n",
              "        text-align: right;\n",
              "    }\n",
              "</style>\n",
              "<table border=\"1\" class=\"dataframe\">\n",
              "  <thead>\n",
              "    <tr style=\"text-align: right;\">\n",
              "      <th></th>\n",
              "      <th></th>\n",
              "      <th>Global_Sales</th>\n",
              "    </tr>\n",
              "    <tr>\n",
              "      <th>Genre</th>\n",
              "      <th>Publisher</th>\n",
              "      <th></th>\n",
              "    </tr>\n",
              "  </thead>\n",
              "  <tbody>\n",
              "    <tr>\n",
              "      <th>Shooter</th>\n",
              "      <th>Activision</th>\n",
              "      <td>245.46</td>\n",
              "    </tr>\n",
              "    <tr>\n",
              "      <th>Sports</th>\n",
              "      <th>Electronic Arts</th>\n",
              "      <td>203.50</td>\n",
              "    </tr>\n",
              "    <tr>\n",
              "      <th rowspan=\"2\" valign=\"top\">Action</th>\n",
              "      <th>Take-Two Interactive</th>\n",
              "      <td>106.04</td>\n",
              "    </tr>\n",
              "    <tr>\n",
              "      <th>Ubisoft</th>\n",
              "      <td>96.44</td>\n",
              "    </tr>\n",
              "    <tr>\n",
              "      <th>Shooter</th>\n",
              "      <th>Electronic Arts</th>\n",
              "      <td>92.58</td>\n",
              "    </tr>\n",
              "    <tr>\n",
              "      <th>...</th>\n",
              "      <th>...</th>\n",
              "      <td>...</td>\n",
              "    </tr>\n",
              "    <tr>\n",
              "      <th>Adventure</th>\n",
              "      <th>Cave</th>\n",
              "      <td>0.01</td>\n",
              "    </tr>\n",
              "    <tr>\n",
              "      <th>Role-Playing</th>\n",
              "      <th>TopWare Interactive</th>\n",
              "      <td>0.01</td>\n",
              "    </tr>\n",
              "    <tr>\n",
              "      <th>Sports</th>\n",
              "      <th>Interworks Unlimited, Inc.</th>\n",
              "      <td>0.01</td>\n",
              "    </tr>\n",
              "    <tr>\n",
              "      <th>Strategy</th>\n",
              "      <th>Ackkstudios</th>\n",
              "      <td>0.01</td>\n",
              "    </tr>\n",
              "    <tr>\n",
              "      <th>Adventure</th>\n",
              "      <th>Views</th>\n",
              "      <td>0.01</td>\n",
              "    </tr>\n",
              "  </tbody>\n",
              "</table>\n",
              "<p>422 rows × 1 columns</p>\n",
              "</div>"
            ],
            "text/plain": [
              "                                         Global_Sales\n",
              "Genre        Publisher                               \n",
              "Shooter      Activision                        245.46\n",
              "Sports       Electronic Arts                   203.50\n",
              "Action       Take-Two Interactive              106.04\n",
              "             Ubisoft                            96.44\n",
              "Shooter      Electronic Arts                    92.58\n",
              "...                                               ...\n",
              "Adventure    Cave                                0.01\n",
              "Role-Playing TopWare Interactive                 0.01\n",
              "Sports       Interworks Unlimited, Inc.          0.01\n",
              "Strategy     Ackkstudios                         0.01\n",
              "Adventure    Views                               0.01\n",
              "\n",
              "[422 rows x 1 columns]"
            ]
          },
          "metadata": {
            "tags": []
          },
          "execution_count": 79
        }
      ]
    },
    {
      "cell_type": "code",
      "metadata": {
        "id": "YZDhGGuD3GaW",
        "colab_type": "code",
        "colab": {
          "base_uri": "https://localhost:8080/"
        },
        "outputId": "638e1e1a-72f5-4b04-ce0f-5d86d7fbf59f"
      },
      "source": [
        "studios.groupby(['Genre', 'Publisher']).sum().index"
      ],
      "execution_count": null,
      "outputs": [
        {
          "output_type": "execute_result",
          "data": {
            "text/plain": [
              "MultiIndex([(  'Action',                   '505 Games'),\n",
              "            (  'Action',                    'Abylight'),\n",
              "            (  'Action',                 'Ackkstudios'),\n",
              "            (  'Action',                     'Acquire'),\n",
              "            (  'Action',                  'Activision'),\n",
              "            (  'Action',            'Activision Value'),\n",
              "            (  'Action',            'Arc System Works'),\n",
              "            (  'Action',                       'Atari'),\n",
              "            (  'Action',                   'Avanquest'),\n",
              "            (  'Action',          'Bethesda Softworks'),\n",
              "            ...\n",
              "            ('Strategy',        'Nippon Ichi Software'),\n",
              "            ('Strategy',                'PopCap Games'),\n",
              "            ('Strategy',                        'Sega'),\n",
              "            ('Strategy',         'Slitherine Software'),\n",
              "            ('Strategy', 'Sony Computer Entertainment'),\n",
              "            ('Strategy',                 'Square Enix'),\n",
              "            ('Strategy',                 'Takara Tomy'),\n",
              "            ('Strategy',        'Take-Two Interactive'),\n",
              "            ('Strategy',                  'Tecmo Koei'),\n",
              "            ('Strategy',                     'Ubisoft')],\n",
              "           names=['Genre', 'Publisher'], length=422)"
            ]
          },
          "metadata": {
            "tags": []
          },
          "execution_count": 80
        }
      ]
    },
    {
      "cell_type": "markdown",
      "metadata": {
        "id": "bDfSWcbx3mkL",
        "colab_type": "text"
      },
      "source": [
        "#### Fine-tuned Aggregates "
      ]
    },
    {
      "cell_type": "code",
      "metadata": {
        "id": "bBgg_UZo7bS3",
        "colab_type": "code",
        "colab": {
          "base_uri": "https://localhost:8080/"
        },
        "outputId": "ee0a5116-7ff3-4e8d-e7cd-24e56eeefb48"
      },
      "source": [
        "# previously:\n",
        "studios.groupby(['Genre', 'Publisher']).sum().sort_values(by='Global_Sales', ascending=False)"
      ],
      "execution_count": null,
      "outputs": [
        {
          "output_type": "execute_result",
          "data": {
            "text/html": [
              "<div>\n",
              "<style scoped>\n",
              "    .dataframe tbody tr th:only-of-type {\n",
              "        vertical-align: middle;\n",
              "    }\n",
              "\n",
              "    .dataframe tbody tr th {\n",
              "        vertical-align: top;\n",
              "    }\n",
              "\n",
              "    .dataframe thead th {\n",
              "        text-align: right;\n",
              "    }\n",
              "</style>\n",
              "<table border=\"1\" class=\"dataframe\">\n",
              "  <thead>\n",
              "    <tr style=\"text-align: right;\">\n",
              "      <th></th>\n",
              "      <th></th>\n",
              "      <th>Global_Sales</th>\n",
              "    </tr>\n",
              "    <tr>\n",
              "      <th>Genre</th>\n",
              "      <th>Publisher</th>\n",
              "      <th></th>\n",
              "    </tr>\n",
              "  </thead>\n",
              "  <tbody>\n",
              "    <tr>\n",
              "      <th>Shooter</th>\n",
              "      <th>Activision</th>\n",
              "      <td>245.46</td>\n",
              "    </tr>\n",
              "    <tr>\n",
              "      <th>Sports</th>\n",
              "      <th>Electronic Arts</th>\n",
              "      <td>203.50</td>\n",
              "    </tr>\n",
              "    <tr>\n",
              "      <th rowspan=\"2\" valign=\"top\">Action</th>\n",
              "      <th>Take-Two Interactive</th>\n",
              "      <td>106.04</td>\n",
              "    </tr>\n",
              "    <tr>\n",
              "      <th>Ubisoft</th>\n",
              "      <td>96.44</td>\n",
              "    </tr>\n",
              "    <tr>\n",
              "      <th>Shooter</th>\n",
              "      <th>Electronic Arts</th>\n",
              "      <td>92.58</td>\n",
              "    </tr>\n",
              "    <tr>\n",
              "      <th>...</th>\n",
              "      <th>...</th>\n",
              "      <td>...</td>\n",
              "    </tr>\n",
              "    <tr>\n",
              "      <th>Adventure</th>\n",
              "      <th>Cave</th>\n",
              "      <td>0.01</td>\n",
              "    </tr>\n",
              "    <tr>\n",
              "      <th>Role-Playing</th>\n",
              "      <th>TopWare Interactive</th>\n",
              "      <td>0.01</td>\n",
              "    </tr>\n",
              "    <tr>\n",
              "      <th>Sports</th>\n",
              "      <th>Interworks Unlimited, Inc.</th>\n",
              "      <td>0.01</td>\n",
              "    </tr>\n",
              "    <tr>\n",
              "      <th>Strategy</th>\n",
              "      <th>Ackkstudios</th>\n",
              "      <td>0.01</td>\n",
              "    </tr>\n",
              "    <tr>\n",
              "      <th>Adventure</th>\n",
              "      <th>Views</th>\n",
              "      <td>0.01</td>\n",
              "    </tr>\n",
              "  </tbody>\n",
              "</table>\n",
              "<p>422 rows × 1 columns</p>\n",
              "</div>"
            ],
            "text/plain": [
              "                                         Global_Sales\n",
              "Genre        Publisher                               \n",
              "Shooter      Activision                        245.46\n",
              "Sports       Electronic Arts                   203.50\n",
              "Action       Take-Two Interactive              106.04\n",
              "             Ubisoft                            96.44\n",
              "Shooter      Electronic Arts                    92.58\n",
              "...                                               ...\n",
              "Adventure    Cave                                0.01\n",
              "Role-Playing TopWare Interactive                 0.01\n",
              "Sports       Interworks Unlimited, Inc.          0.01\n",
              "Strategy     Ackkstudios                         0.01\n",
              "Adventure    Views                               0.01\n",
              "\n",
              "[422 rows x 1 columns]"
            ]
          },
          "metadata": {
            "tags": []
          },
          "execution_count": 81
        }
      ]
    },
    {
      "cell_type": "code",
      "metadata": {
        "id": "kh_YdPR9BBB4",
        "colab_type": "code",
        "colab": {
          "base_uri": "https://localhost:8080/"
        },
        "outputId": "ca0190f1-65fb-4324-dc2e-3f2a8309bd2d"
      },
      "source": [
        "studios.groupby(['Genre', 'Publisher']).aggregate('sum')"
      ],
      "execution_count": null,
      "outputs": [
        {
          "output_type": "execute_result",
          "data": {
            "text/html": [
              "<div>\n",
              "<style scoped>\n",
              "    .dataframe tbody tr th:only-of-type {\n",
              "        vertical-align: middle;\n",
              "    }\n",
              "\n",
              "    .dataframe tbody tr th {\n",
              "        vertical-align: top;\n",
              "    }\n",
              "\n",
              "    .dataframe thead th {\n",
              "        text-align: right;\n",
              "    }\n",
              "</style>\n",
              "<table border=\"1\" class=\"dataframe\">\n",
              "  <thead>\n",
              "    <tr style=\"text-align: right;\">\n",
              "      <th></th>\n",
              "      <th></th>\n",
              "      <th>Global_Sales</th>\n",
              "    </tr>\n",
              "    <tr>\n",
              "      <th>Genre</th>\n",
              "      <th>Publisher</th>\n",
              "      <th></th>\n",
              "    </tr>\n",
              "  </thead>\n",
              "  <tbody>\n",
              "    <tr>\n",
              "      <th rowspan=\"5\" valign=\"top\">Action</th>\n",
              "      <th>505 Games</th>\n",
              "      <td>2.25</td>\n",
              "    </tr>\n",
              "    <tr>\n",
              "      <th>Abylight</th>\n",
              "      <td>0.08</td>\n",
              "    </tr>\n",
              "    <tr>\n",
              "      <th>Ackkstudios</th>\n",
              "      <td>0.33</td>\n",
              "    </tr>\n",
              "    <tr>\n",
              "      <th>Acquire</th>\n",
              "      <td>0.11</td>\n",
              "    </tr>\n",
              "    <tr>\n",
              "      <th>Activision</th>\n",
              "      <td>42.84</td>\n",
              "    </tr>\n",
              "    <tr>\n",
              "      <th>...</th>\n",
              "      <th>...</th>\n",
              "      <td>...</td>\n",
              "    </tr>\n",
              "    <tr>\n",
              "      <th rowspan=\"5\" valign=\"top\">Strategy</th>\n",
              "      <th>Square Enix</th>\n",
              "      <td>0.35</td>\n",
              "    </tr>\n",
              "    <tr>\n",
              "      <th>Takara Tomy</th>\n",
              "      <td>0.09</td>\n",
              "    </tr>\n",
              "    <tr>\n",
              "      <th>Take-Two Interactive</th>\n",
              "      <td>2.92</td>\n",
              "    </tr>\n",
              "    <tr>\n",
              "      <th>Tecmo Koei</th>\n",
              "      <td>0.58</td>\n",
              "    </tr>\n",
              "    <tr>\n",
              "      <th>Ubisoft</th>\n",
              "      <td>2.34</td>\n",
              "    </tr>\n",
              "  </tbody>\n",
              "</table>\n",
              "<p>422 rows × 1 columns</p>\n",
              "</div>"
            ],
            "text/plain": [
              "                               Global_Sales\n",
              "Genre    Publisher                         \n",
              "Action   505 Games                     2.25\n",
              "         Abylight                      0.08\n",
              "         Ackkstudios                   0.33\n",
              "         Acquire                       0.11\n",
              "         Activision                   42.84\n",
              "...                                     ...\n",
              "Strategy Square Enix                   0.35\n",
              "         Takara Tomy                   0.09\n",
              "         Take-Two Interactive          2.92\n",
              "         Tecmo Koei                    0.58\n",
              "         Ubisoft                       2.34\n",
              "\n",
              "[422 rows x 1 columns]"
            ]
          },
          "metadata": {
            "tags": []
          },
          "execution_count": 82
        }
      ]
    },
    {
      "cell_type": "code",
      "metadata": {
        "id": "wcCpZ2sDBMxU",
        "colab_type": "code",
        "colab": {
          "base_uri": "https://localhost:8080/"
        },
        "outputId": "9ef3b0be-fc3c-40af-8876-1b5ab500b265"
      },
      "source": [
        "studios.groupby(['Genre', 'Publisher']).agg('sum') # 'median', 'mean', 'std'..."
      ],
      "execution_count": null,
      "outputs": [
        {
          "output_type": "execute_result",
          "data": {
            "text/html": [
              "<div>\n",
              "<style scoped>\n",
              "    .dataframe tbody tr th:only-of-type {\n",
              "        vertical-align: middle;\n",
              "    }\n",
              "\n",
              "    .dataframe tbody tr th {\n",
              "        vertical-align: top;\n",
              "    }\n",
              "\n",
              "    .dataframe thead th {\n",
              "        text-align: right;\n",
              "    }\n",
              "</style>\n",
              "<table border=\"1\" class=\"dataframe\">\n",
              "  <thead>\n",
              "    <tr style=\"text-align: right;\">\n",
              "      <th></th>\n",
              "      <th></th>\n",
              "      <th>Global_Sales</th>\n",
              "    </tr>\n",
              "    <tr>\n",
              "      <th>Genre</th>\n",
              "      <th>Publisher</th>\n",
              "      <th></th>\n",
              "    </tr>\n",
              "  </thead>\n",
              "  <tbody>\n",
              "    <tr>\n",
              "      <th rowspan=\"5\" valign=\"top\">Action</th>\n",
              "      <th>505 Games</th>\n",
              "      <td>2.25</td>\n",
              "    </tr>\n",
              "    <tr>\n",
              "      <th>Abylight</th>\n",
              "      <td>0.08</td>\n",
              "    </tr>\n",
              "    <tr>\n",
              "      <th>Ackkstudios</th>\n",
              "      <td>0.33</td>\n",
              "    </tr>\n",
              "    <tr>\n",
              "      <th>Acquire</th>\n",
              "      <td>0.11</td>\n",
              "    </tr>\n",
              "    <tr>\n",
              "      <th>Activision</th>\n",
              "      <td>42.84</td>\n",
              "    </tr>\n",
              "    <tr>\n",
              "      <th>...</th>\n",
              "      <th>...</th>\n",
              "      <td>...</td>\n",
              "    </tr>\n",
              "    <tr>\n",
              "      <th rowspan=\"5\" valign=\"top\">Strategy</th>\n",
              "      <th>Square Enix</th>\n",
              "      <td>0.35</td>\n",
              "    </tr>\n",
              "    <tr>\n",
              "      <th>Takara Tomy</th>\n",
              "      <td>0.09</td>\n",
              "    </tr>\n",
              "    <tr>\n",
              "      <th>Take-Two Interactive</th>\n",
              "      <td>2.92</td>\n",
              "    </tr>\n",
              "    <tr>\n",
              "      <th>Tecmo Koei</th>\n",
              "      <td>0.58</td>\n",
              "    </tr>\n",
              "    <tr>\n",
              "      <th>Ubisoft</th>\n",
              "      <td>2.34</td>\n",
              "    </tr>\n",
              "  </tbody>\n",
              "</table>\n",
              "<p>422 rows × 1 columns</p>\n",
              "</div>"
            ],
            "text/plain": [
              "                               Global_Sales\n",
              "Genre    Publisher                         \n",
              "Action   505 Games                     2.25\n",
              "         Abylight                      0.08\n",
              "         Ackkstudios                   0.33\n",
              "         Acquire                       0.11\n",
              "         Activision                   42.84\n",
              "...                                     ...\n",
              "Strategy Square Enix                   0.35\n",
              "         Takara Tomy                   0.09\n",
              "         Take-Two Interactive          2.92\n",
              "         Tecmo Koei                    0.58\n",
              "         Ubisoft                       2.34\n",
              "\n",
              "[422 rows x 1 columns]"
            ]
          },
          "metadata": {
            "tags": []
          },
          "execution_count": 83
        }
      ]
    },
    {
      "cell_type": "code",
      "metadata": {
        "id": "6iOGvchUBROY",
        "colab_type": "code",
        "colab": {
          "base_uri": "https://localhost:8080/"
        },
        "outputId": "153b5533-35e7-45a9-c426-0a9726d20796"
      },
      "source": [
        "studios.groupby(['Genre', 'Publisher']).agg(np.sum)"
      ],
      "execution_count": null,
      "outputs": [
        {
          "output_type": "execute_result",
          "data": {
            "text/html": [
              "<div>\n",
              "<style scoped>\n",
              "    .dataframe tbody tr th:only-of-type {\n",
              "        vertical-align: middle;\n",
              "    }\n",
              "\n",
              "    .dataframe tbody tr th {\n",
              "        vertical-align: top;\n",
              "    }\n",
              "\n",
              "    .dataframe thead th {\n",
              "        text-align: right;\n",
              "    }\n",
              "</style>\n",
              "<table border=\"1\" class=\"dataframe\">\n",
              "  <thead>\n",
              "    <tr style=\"text-align: right;\">\n",
              "      <th></th>\n",
              "      <th></th>\n",
              "      <th>Global_Sales</th>\n",
              "    </tr>\n",
              "    <tr>\n",
              "      <th>Genre</th>\n",
              "      <th>Publisher</th>\n",
              "      <th></th>\n",
              "    </tr>\n",
              "  </thead>\n",
              "  <tbody>\n",
              "    <tr>\n",
              "      <th rowspan=\"5\" valign=\"top\">Action</th>\n",
              "      <th>505 Games</th>\n",
              "      <td>2.25</td>\n",
              "    </tr>\n",
              "    <tr>\n",
              "      <th>Abylight</th>\n",
              "      <td>0.08</td>\n",
              "    </tr>\n",
              "    <tr>\n",
              "      <th>Ackkstudios</th>\n",
              "      <td>0.33</td>\n",
              "    </tr>\n",
              "    <tr>\n",
              "      <th>Acquire</th>\n",
              "      <td>0.11</td>\n",
              "    </tr>\n",
              "    <tr>\n",
              "      <th>Activision</th>\n",
              "      <td>42.84</td>\n",
              "    </tr>\n",
              "    <tr>\n",
              "      <th>...</th>\n",
              "      <th>...</th>\n",
              "      <td>...</td>\n",
              "    </tr>\n",
              "    <tr>\n",
              "      <th rowspan=\"5\" valign=\"top\">Strategy</th>\n",
              "      <th>Square Enix</th>\n",
              "      <td>0.35</td>\n",
              "    </tr>\n",
              "    <tr>\n",
              "      <th>Takara Tomy</th>\n",
              "      <td>0.09</td>\n",
              "    </tr>\n",
              "    <tr>\n",
              "      <th>Take-Two Interactive</th>\n",
              "      <td>2.92</td>\n",
              "    </tr>\n",
              "    <tr>\n",
              "      <th>Tecmo Koei</th>\n",
              "      <td>0.58</td>\n",
              "    </tr>\n",
              "    <tr>\n",
              "      <th>Ubisoft</th>\n",
              "      <td>2.34</td>\n",
              "    </tr>\n",
              "  </tbody>\n",
              "</table>\n",
              "<p>422 rows × 1 columns</p>\n",
              "</div>"
            ],
            "text/plain": [
              "                               Global_Sales\n",
              "Genre    Publisher                         \n",
              "Action   505 Games                     2.25\n",
              "         Abylight                      0.08\n",
              "         Ackkstudios                   0.33\n",
              "         Acquire                       0.11\n",
              "         Activision                   42.84\n",
              "...                                     ...\n",
              "Strategy Square Enix                   0.35\n",
              "         Takara Tomy                   0.09\n",
              "         Take-Two Interactive          2.92\n",
              "         Tecmo Koei                    0.58\n",
              "         Ubisoft                       2.34\n",
              "\n",
              "[422 rows x 1 columns]"
            ]
          },
          "metadata": {
            "tags": []
          },
          "execution_count": 84
        }
      ]
    },
    {
      "cell_type": "code",
      "metadata": {
        "id": "36UijyoZBZPb",
        "colab_type": "code",
        "colab": {}
      },
      "source": [
        "# specifying multiple functions"
      ],
      "execution_count": null,
      "outputs": []
    },
    {
      "cell_type": "code",
      "metadata": {
        "id": "ROOXG6AsBgkc",
        "colab_type": "code",
        "colab": {}
      },
      "source": [
        "# Q: summarize the sum, count, average, and standard dev of sales as well as the number of games published by each publisher within each genre."
      ],
      "execution_count": null,
      "outputs": []
    },
    {
      "cell_type": "code",
      "metadata": {
        "id": "LbnZOGYmBsgd",
        "colab_type": "code",
        "colab": {
          "base_uri": "https://localhost:8080/"
        },
        "outputId": "0b14e0ed-99ec-4a59-f920-ef79566d511b"
      },
      "source": [
        "studios.groupby(['Genre', 'Publisher']).agg(['sum', 'count', 'mean', 'std']).sort_values(by=('Global_Sales', 'sum'), ascending=False)"
      ],
      "execution_count": null,
      "outputs": [
        {
          "output_type": "execute_result",
          "data": {
            "text/html": [
              "<div>\n",
              "<style scoped>\n",
              "    .dataframe tbody tr th:only-of-type {\n",
              "        vertical-align: middle;\n",
              "    }\n",
              "\n",
              "    .dataframe tbody tr th {\n",
              "        vertical-align: top;\n",
              "    }\n",
              "\n",
              "    .dataframe thead tr th {\n",
              "        text-align: left;\n",
              "    }\n",
              "\n",
              "    .dataframe thead tr:last-of-type th {\n",
              "        text-align: right;\n",
              "    }\n",
              "</style>\n",
              "<table border=\"1\" class=\"dataframe\">\n",
              "  <thead>\n",
              "    <tr>\n",
              "      <th></th>\n",
              "      <th></th>\n",
              "      <th colspan=\"4\" halign=\"left\">Global_Sales</th>\n",
              "    </tr>\n",
              "    <tr>\n",
              "      <th></th>\n",
              "      <th></th>\n",
              "      <th>sum</th>\n",
              "      <th>count</th>\n",
              "      <th>mean</th>\n",
              "      <th>std</th>\n",
              "    </tr>\n",
              "    <tr>\n",
              "      <th>Genre</th>\n",
              "      <th>Publisher</th>\n",
              "      <th></th>\n",
              "      <th></th>\n",
              "      <th></th>\n",
              "      <th></th>\n",
              "    </tr>\n",
              "  </thead>\n",
              "  <tbody>\n",
              "    <tr>\n",
              "      <th>Shooter</th>\n",
              "      <th>Activision</th>\n",
              "      <td>245.46</td>\n",
              "      <td>72</td>\n",
              "      <td>3.409167</td>\n",
              "      <td>4.621920</td>\n",
              "    </tr>\n",
              "    <tr>\n",
              "      <th>Sports</th>\n",
              "      <th>Electronic Arts</th>\n",
              "      <td>203.50</td>\n",
              "      <td>170</td>\n",
              "      <td>1.197059</td>\n",
              "      <td>1.404108</td>\n",
              "    </tr>\n",
              "    <tr>\n",
              "      <th rowspan=\"2\" valign=\"top\">Action</th>\n",
              "      <th>Take-Two Interactive</th>\n",
              "      <td>106.04</td>\n",
              "      <td>23</td>\n",
              "      <td>4.610435</td>\n",
              "      <td>5.843768</td>\n",
              "    </tr>\n",
              "    <tr>\n",
              "      <th>Ubisoft</th>\n",
              "      <td>96.44</td>\n",
              "      <td>67</td>\n",
              "      <td>1.439403</td>\n",
              "      <td>1.636460</td>\n",
              "    </tr>\n",
              "    <tr>\n",
              "      <th>Shooter</th>\n",
              "      <th>Electronic Arts</th>\n",
              "      <td>92.58</td>\n",
              "      <td>50</td>\n",
              "      <td>1.851600</td>\n",
              "      <td>1.794404</td>\n",
              "    </tr>\n",
              "    <tr>\n",
              "      <th>...</th>\n",
              "      <th>...</th>\n",
              "      <td>...</td>\n",
              "      <td>...</td>\n",
              "      <td>...</td>\n",
              "      <td>...</td>\n",
              "    </tr>\n",
              "    <tr>\n",
              "      <th>Adventure</th>\n",
              "      <th>Cave</th>\n",
              "      <td>0.01</td>\n",
              "      <td>1</td>\n",
              "      <td>0.010000</td>\n",
              "      <td>NaN</td>\n",
              "    </tr>\n",
              "    <tr>\n",
              "      <th>Role-Playing</th>\n",
              "      <th>TopWare Interactive</th>\n",
              "      <td>0.01</td>\n",
              "      <td>1</td>\n",
              "      <td>0.010000</td>\n",
              "      <td>NaN</td>\n",
              "    </tr>\n",
              "    <tr>\n",
              "      <th>Sports</th>\n",
              "      <th>Interworks Unlimited, Inc.</th>\n",
              "      <td>0.01</td>\n",
              "      <td>1</td>\n",
              "      <td>0.010000</td>\n",
              "      <td>NaN</td>\n",
              "    </tr>\n",
              "    <tr>\n",
              "      <th>Strategy</th>\n",
              "      <th>Ackkstudios</th>\n",
              "      <td>0.01</td>\n",
              "      <td>1</td>\n",
              "      <td>0.010000</td>\n",
              "      <td>NaN</td>\n",
              "    </tr>\n",
              "    <tr>\n",
              "      <th>Adventure</th>\n",
              "      <th>Views</th>\n",
              "      <td>0.01</td>\n",
              "      <td>1</td>\n",
              "      <td>0.010000</td>\n",
              "      <td>NaN</td>\n",
              "    </tr>\n",
              "  </tbody>\n",
              "</table>\n",
              "<p>422 rows × 4 columns</p>\n",
              "</div>"
            ],
            "text/plain": [
              "                                        Global_Sales                          \n",
              "                                                 sum count      mean       std\n",
              "Genre        Publisher                                                        \n",
              "Shooter      Activision                       245.46    72  3.409167  4.621920\n",
              "Sports       Electronic Arts                  203.50   170  1.197059  1.404108\n",
              "Action       Take-Two Interactive             106.04    23  4.610435  5.843768\n",
              "             Ubisoft                           96.44    67  1.439403  1.636460\n",
              "Shooter      Electronic Arts                   92.58    50  1.851600  1.794404\n",
              "...                                              ...   ...       ...       ...\n",
              "Adventure    Cave                               0.01     1  0.010000       NaN\n",
              "Role-Playing TopWare Interactive                0.01     1  0.010000       NaN\n",
              "Sports       Interworks Unlimited, Inc.         0.01     1  0.010000       NaN\n",
              "Strategy     Ackkstudios                        0.01     1  0.010000       NaN\n",
              "Adventure    Views                              0.01     1  0.010000       NaN\n",
              "\n",
              "[422 rows x 4 columns]"
            ]
          },
          "metadata": {
            "tags": []
          },
          "execution_count": 87
        }
      ]
    },
    {
      "cell_type": "code",
      "metadata": {
        "id": "PlVJhstjC5cm",
        "colab_type": "code",
        "colab": {
          "base_uri": "https://localhost:8080/"
        },
        "outputId": "c371072b-5b35-4abc-a128-e9f96b3a3202"
      },
      "source": [
        "games[games.Publisher == 'Activision'].sort_values('Global_Sales', ascending=False)"
      ],
      "execution_count": null,
      "outputs": [
        {
          "output_type": "execute_result",
          "data": {
            "text/html": [
              "<div>\n",
              "<style scoped>\n",
              "    .dataframe tbody tr th:only-of-type {\n",
              "        vertical-align: middle;\n",
              "    }\n",
              "\n",
              "    .dataframe tbody tr th {\n",
              "        vertical-align: top;\n",
              "    }\n",
              "\n",
              "    .dataframe thead th {\n",
              "        text-align: right;\n",
              "    }\n",
              "</style>\n",
              "<table border=\"1\" class=\"dataframe\">\n",
              "  <thead>\n",
              "    <tr style=\"text-align: right;\">\n",
              "      <th></th>\n",
              "      <th>Name</th>\n",
              "      <th>Platform</th>\n",
              "      <th>Year</th>\n",
              "      <th>Genre</th>\n",
              "      <th>Publisher</th>\n",
              "      <th>NA_Sales</th>\n",
              "      <th>EU_Sales</th>\n",
              "      <th>JP_Sales</th>\n",
              "      <th>Other_Sales</th>\n",
              "      <th>Global_Sales</th>\n",
              "    </tr>\n",
              "  </thead>\n",
              "  <tbody>\n",
              "    <tr>\n",
              "      <th>3</th>\n",
              "      <td>Call of Duty: Modern Warfare 3</td>\n",
              "      <td>X360</td>\n",
              "      <td>2011.0</td>\n",
              "      <td>Shooter</td>\n",
              "      <td>Activision</td>\n",
              "      <td>9.03</td>\n",
              "      <td>4.28</td>\n",
              "      <td>0.13</td>\n",
              "      <td>1.32</td>\n",
              "      <td>14.76</td>\n",
              "    </tr>\n",
              "    <tr>\n",
              "      <th>4</th>\n",
              "      <td>Call of Duty: Black Ops</td>\n",
              "      <td>X360</td>\n",
              "      <td>2010.0</td>\n",
              "      <td>Shooter</td>\n",
              "      <td>Activision</td>\n",
              "      <td>9.67</td>\n",
              "      <td>3.73</td>\n",
              "      <td>0.11</td>\n",
              "      <td>1.13</td>\n",
              "      <td>14.64</td>\n",
              "    </tr>\n",
              "    <tr>\n",
              "      <th>5</th>\n",
              "      <td>Call of Duty: Black Ops 3</td>\n",
              "      <td>PS4</td>\n",
              "      <td>2015.0</td>\n",
              "      <td>Shooter</td>\n",
              "      <td>Activision</td>\n",
              "      <td>5.77</td>\n",
              "      <td>5.81</td>\n",
              "      <td>0.35</td>\n",
              "      <td>2.31</td>\n",
              "      <td>14.24</td>\n",
              "    </tr>\n",
              "    <tr>\n",
              "      <th>6</th>\n",
              "      <td>Call of Duty: Black Ops II</td>\n",
              "      <td>PS3</td>\n",
              "      <td>2012.0</td>\n",
              "      <td>Shooter</td>\n",
              "      <td>Activision</td>\n",
              "      <td>4.99</td>\n",
              "      <td>5.88</td>\n",
              "      <td>0.65</td>\n",
              "      <td>2.52</td>\n",
              "      <td>14.03</td>\n",
              "    </tr>\n",
              "    <tr>\n",
              "      <th>7</th>\n",
              "      <td>Call of Duty: Black Ops II</td>\n",
              "      <td>X360</td>\n",
              "      <td>2012.0</td>\n",
              "      <td>Shooter</td>\n",
              "      <td>Activision</td>\n",
              "      <td>8.25</td>\n",
              "      <td>4.30</td>\n",
              "      <td>0.07</td>\n",
              "      <td>1.12</td>\n",
              "      <td>13.73</td>\n",
              "    </tr>\n",
              "    <tr>\n",
              "      <th>...</th>\n",
              "      <td>...</td>\n",
              "      <td>...</td>\n",
              "      <td>...</td>\n",
              "      <td>...</td>\n",
              "      <td>...</td>\n",
              "      <td>...</td>\n",
              "      <td>...</td>\n",
              "      <td>...</td>\n",
              "      <td>...</td>\n",
              "      <td>...</td>\n",
              "    </tr>\n",
              "    <tr>\n",
              "      <th>2923</th>\n",
              "      <td>Ghostbusters (2016)</td>\n",
              "      <td>XOne</td>\n",
              "      <td>2016.0</td>\n",
              "      <td>Action</td>\n",
              "      <td>Activision</td>\n",
              "      <td>0.02</td>\n",
              "      <td>0.00</td>\n",
              "      <td>0.00</td>\n",
              "      <td>0.00</td>\n",
              "      <td>0.02</td>\n",
              "    </tr>\n",
              "    <tr>\n",
              "      <th>2932</th>\n",
              "      <td>The Voice</td>\n",
              "      <td>PS3</td>\n",
              "      <td>2014.0</td>\n",
              "      <td>Action</td>\n",
              "      <td>Activision</td>\n",
              "      <td>0.02</td>\n",
              "      <td>0.00</td>\n",
              "      <td>0.00</td>\n",
              "      <td>0.00</td>\n",
              "      <td>0.02</td>\n",
              "    </tr>\n",
              "    <tr>\n",
              "      <th>2935</th>\n",
              "      <td>Rapala for Kinect</td>\n",
              "      <td>X360</td>\n",
              "      <td>2011.0</td>\n",
              "      <td>Sports</td>\n",
              "      <td>Activision</td>\n",
              "      <td>0.00</td>\n",
              "      <td>0.02</td>\n",
              "      <td>0.00</td>\n",
              "      <td>0.00</td>\n",
              "      <td>0.02</td>\n",
              "    </tr>\n",
              "    <tr>\n",
              "      <th>3012</th>\n",
              "      <td>Call of Duty: Modern Warfare Trilogy</td>\n",
              "      <td>PS3</td>\n",
              "      <td>2016.0</td>\n",
              "      <td>Shooter</td>\n",
              "      <td>Activision</td>\n",
              "      <td>0.00</td>\n",
              "      <td>0.01</td>\n",
              "      <td>0.00</td>\n",
              "      <td>0.00</td>\n",
              "      <td>0.02</td>\n",
              "    </tr>\n",
              "    <tr>\n",
              "      <th>3035</th>\n",
              "      <td>Call of Duty: Modern Warfare Trilogy</td>\n",
              "      <td>X360</td>\n",
              "      <td>2016.0</td>\n",
              "      <td>Shooter</td>\n",
              "      <td>Activision</td>\n",
              "      <td>0.01</td>\n",
              "      <td>0.01</td>\n",
              "      <td>0.00</td>\n",
              "      <td>0.00</td>\n",
              "      <td>0.02</td>\n",
              "    </tr>\n",
              "  </tbody>\n",
              "</table>\n",
              "<p>283 rows × 10 columns</p>\n",
              "</div>"
            ],
            "text/plain": [
              "                                      Name Platform  ...  Other_Sales Global_Sales\n",
              "3           Call of Duty: Modern Warfare 3     X360  ...         1.32        14.76\n",
              "4                  Call of Duty: Black Ops     X360  ...         1.13        14.64\n",
              "5                Call of Duty: Black Ops 3      PS4  ...         2.31        14.24\n",
              "6               Call of Duty: Black Ops II      PS3  ...         2.52        14.03\n",
              "7               Call of Duty: Black Ops II     X360  ...         1.12        13.73\n",
              "...                                    ...      ...  ...          ...          ...\n",
              "2923                   Ghostbusters (2016)     XOne  ...         0.00         0.02\n",
              "2932                             The Voice      PS3  ...         0.00         0.02\n",
              "2935                     Rapala for Kinect     X360  ...         0.00         0.02\n",
              "3012  Call of Duty: Modern Warfare Trilogy      PS3  ...         0.00         0.02\n",
              "3035  Call of Duty: Modern Warfare Trilogy     X360  ...         0.00         0.02\n",
              "\n",
              "[283 rows x 10 columns]"
            ]
          },
          "metadata": {
            "tags": []
          },
          "execution_count": 88
        }
      ]
    },
    {
      "cell_type": "code",
      "metadata": {
        "id": "QfFKUC3JCFnZ",
        "colab_type": "code",
        "colab": {
          "base_uri": "https://localhost:8080/"
        },
        "outputId": "4dd1e5d2-b696-4019-d64f-cb7804bad27a"
      },
      "source": [
        "studios.groupby(['Genre', 'Publisher']).agg(['sum', 'count', 'mean', 'std']).columns"
      ],
      "execution_count": null,
      "outputs": [
        {
          "output_type": "execute_result",
          "data": {
            "text/plain": [
              "MultiIndex([('Global_Sales',   'sum'),\n",
              "            ('Global_Sales', 'count'),\n",
              "            ('Global_Sales',  'mean'),\n",
              "            ('Global_Sales',   'std')],\n",
              "           )"
            ]
          },
          "metadata": {
            "tags": []
          },
          "execution_count": 89
        }
      ]
    },
    {
      "cell_type": "markdown",
      "metadata": {
        "id": "kLShGKcOCb23",
        "colab_type": "text"
      },
      "source": [
        "#### Named Aggregations"
      ]
    },
    {
      "cell_type": "code",
      "metadata": {
        "id": "0MrJYcunUm9A",
        "colab_type": "code",
        "colab": {
          "base_uri": "https://localhost:8080/"
        },
        "outputId": "a6c3a8f4-9b19-4f7a-9659-e6d7beee2e6d"
      },
      "source": [
        "studios.groupby(['Genre', 'Publisher']).agg(['sum', 'count', 'mean', 'std'])\\\n",
        "       .rename({'sum': 'total_revenue', 'count': 'num_games'}, axis=1)"
      ],
      "execution_count": null,
      "outputs": [
        {
          "output_type": "execute_result",
          "data": {
            "text/html": [
              "<div>\n",
              "<style scoped>\n",
              "    .dataframe tbody tr th:only-of-type {\n",
              "        vertical-align: middle;\n",
              "    }\n",
              "\n",
              "    .dataframe tbody tr th {\n",
              "        vertical-align: top;\n",
              "    }\n",
              "\n",
              "    .dataframe thead tr th {\n",
              "        text-align: left;\n",
              "    }\n",
              "\n",
              "    .dataframe thead tr:last-of-type th {\n",
              "        text-align: right;\n",
              "    }\n",
              "</style>\n",
              "<table border=\"1\" class=\"dataframe\">\n",
              "  <thead>\n",
              "    <tr>\n",
              "      <th></th>\n",
              "      <th></th>\n",
              "      <th colspan=\"4\" halign=\"left\">Global_Sales</th>\n",
              "    </tr>\n",
              "    <tr>\n",
              "      <th></th>\n",
              "      <th></th>\n",
              "      <th>total_revenue</th>\n",
              "      <th>num_games</th>\n",
              "      <th>mean</th>\n",
              "      <th>std</th>\n",
              "    </tr>\n",
              "    <tr>\n",
              "      <th>Genre</th>\n",
              "      <th>Publisher</th>\n",
              "      <th></th>\n",
              "      <th></th>\n",
              "      <th></th>\n",
              "      <th></th>\n",
              "    </tr>\n",
              "  </thead>\n",
              "  <tbody>\n",
              "    <tr>\n",
              "      <th rowspan=\"5\" valign=\"top\">Action</th>\n",
              "      <th>505 Games</th>\n",
              "      <td>2.25</td>\n",
              "      <td>8</td>\n",
              "      <td>0.281250</td>\n",
              "      <td>0.266482</td>\n",
              "    </tr>\n",
              "    <tr>\n",
              "      <th>Abylight</th>\n",
              "      <td>0.08</td>\n",
              "      <td>1</td>\n",
              "      <td>0.080000</td>\n",
              "      <td>NaN</td>\n",
              "    </tr>\n",
              "    <tr>\n",
              "      <th>Ackkstudios</th>\n",
              "      <td>0.33</td>\n",
              "      <td>1</td>\n",
              "      <td>0.330000</td>\n",
              "      <td>NaN</td>\n",
              "    </tr>\n",
              "    <tr>\n",
              "      <th>Acquire</th>\n",
              "      <td>0.11</td>\n",
              "      <td>1</td>\n",
              "      <td>0.110000</td>\n",
              "      <td>NaN</td>\n",
              "    </tr>\n",
              "    <tr>\n",
              "      <th>Activision</th>\n",
              "      <td>42.84</td>\n",
              "      <td>95</td>\n",
              "      <td>0.450947</td>\n",
              "      <td>0.559717</td>\n",
              "    </tr>\n",
              "    <tr>\n",
              "      <th>...</th>\n",
              "      <th>...</th>\n",
              "      <td>...</td>\n",
              "      <td>...</td>\n",
              "      <td>...</td>\n",
              "      <td>...</td>\n",
              "    </tr>\n",
              "    <tr>\n",
              "      <th rowspan=\"5\" valign=\"top\">Strategy</th>\n",
              "      <th>Square Enix</th>\n",
              "      <td>0.35</td>\n",
              "      <td>1</td>\n",
              "      <td>0.350000</td>\n",
              "      <td>NaN</td>\n",
              "    </tr>\n",
              "    <tr>\n",
              "      <th>Takara Tomy</th>\n",
              "      <td>0.09</td>\n",
              "      <td>1</td>\n",
              "      <td>0.090000</td>\n",
              "      <td>NaN</td>\n",
              "    </tr>\n",
              "    <tr>\n",
              "      <th>Take-Two Interactive</th>\n",
              "      <td>2.92</td>\n",
              "      <td>6</td>\n",
              "      <td>0.486667</td>\n",
              "      <td>0.364289</td>\n",
              "    </tr>\n",
              "    <tr>\n",
              "      <th>Tecmo Koei</th>\n",
              "      <td>0.58</td>\n",
              "      <td>6</td>\n",
              "      <td>0.096667</td>\n",
              "      <td>0.055015</td>\n",
              "    </tr>\n",
              "    <tr>\n",
              "      <th>Ubisoft</th>\n",
              "      <td>2.34</td>\n",
              "      <td>4</td>\n",
              "      <td>0.585000</td>\n",
              "      <td>0.267519</td>\n",
              "    </tr>\n",
              "  </tbody>\n",
              "</table>\n",
              "<p>422 rows × 4 columns</p>\n",
              "</div>"
            ],
            "text/plain": [
              "                               Global_Sales                              \n",
              "                              total_revenue num_games      mean       std\n",
              "Genre    Publisher                                                       \n",
              "Action   505 Games                     2.25         8  0.281250  0.266482\n",
              "         Abylight                      0.08         1  0.080000       NaN\n",
              "         Ackkstudios                   0.33         1  0.330000       NaN\n",
              "         Acquire                       0.11         1  0.110000       NaN\n",
              "         Activision                   42.84        95  0.450947  0.559717\n",
              "...                                     ...       ...       ...       ...\n",
              "Strategy Square Enix                   0.35         1  0.350000       NaN\n",
              "         Takara Tomy                   0.09         1  0.090000       NaN\n",
              "         Take-Two Interactive          2.92         6  0.486667  0.364289\n",
              "         Tecmo Koei                    0.58         6  0.096667  0.055015\n",
              "         Ubisoft                       2.34         4  0.585000  0.267519\n",
              "\n",
              "[422 rows x 4 columns]"
            ]
          },
          "metadata": {
            "tags": []
          },
          "execution_count": 90
        }
      ]
    },
    {
      "cell_type": "code",
      "metadata": {
        "id": "vjzUlyOxWzhD",
        "colab_type": "code",
        "colab": {}
      },
      "source": [
        "# named aggregations"
      ],
      "execution_count": null,
      "outputs": []
    },
    {
      "cell_type": "code",
      "metadata": {
        "id": "Z3cgrEQRXPdV",
        "colab_type": "code",
        "colab": {
          "base_uri": "https://localhost:8080/"
        },
        "outputId": "72884e45-c3d5-4c39-b57b-82142a0bdc6f"
      },
      "source": [
        "studios.groupby(['Genre', 'Publisher']).agg(\n",
        "    total_revenue=('Global_Sales','sum'), \n",
        "    num_games=('Global_Sales', np.mean),\n",
        "    revenue_std=('Global_Sales', 'std'),\n",
        "    revenue_avg=('Global_Sales', 'mean')\n",
        "    ).sort_values(by='total_revenue', ascending=False)"
      ],
      "execution_count": null,
      "outputs": [
        {
          "output_type": "execute_result",
          "data": {
            "text/html": [
              "<div>\n",
              "<style scoped>\n",
              "    .dataframe tbody tr th:only-of-type {\n",
              "        vertical-align: middle;\n",
              "    }\n",
              "\n",
              "    .dataframe tbody tr th {\n",
              "        vertical-align: top;\n",
              "    }\n",
              "\n",
              "    .dataframe thead th {\n",
              "        text-align: right;\n",
              "    }\n",
              "</style>\n",
              "<table border=\"1\" class=\"dataframe\">\n",
              "  <thead>\n",
              "    <tr style=\"text-align: right;\">\n",
              "      <th></th>\n",
              "      <th></th>\n",
              "      <th>total_revenue</th>\n",
              "      <th>num_games</th>\n",
              "      <th>revenue_std</th>\n",
              "      <th>revenue_avg</th>\n",
              "    </tr>\n",
              "    <tr>\n",
              "      <th>Genre</th>\n",
              "      <th>Publisher</th>\n",
              "      <th></th>\n",
              "      <th></th>\n",
              "      <th></th>\n",
              "      <th></th>\n",
              "    </tr>\n",
              "  </thead>\n",
              "  <tbody>\n",
              "    <tr>\n",
              "      <th>Shooter</th>\n",
              "      <th>Activision</th>\n",
              "      <td>245.46</td>\n",
              "      <td>3.409167</td>\n",
              "      <td>4.621920</td>\n",
              "      <td>3.409167</td>\n",
              "    </tr>\n",
              "    <tr>\n",
              "      <th>Sports</th>\n",
              "      <th>Electronic Arts</th>\n",
              "      <td>203.50</td>\n",
              "      <td>1.197059</td>\n",
              "      <td>1.404108</td>\n",
              "      <td>1.197059</td>\n",
              "    </tr>\n",
              "    <tr>\n",
              "      <th rowspan=\"2\" valign=\"top\">Action</th>\n",
              "      <th>Take-Two Interactive</th>\n",
              "      <td>106.04</td>\n",
              "      <td>4.610435</td>\n",
              "      <td>5.843768</td>\n",
              "      <td>4.610435</td>\n",
              "    </tr>\n",
              "    <tr>\n",
              "      <th>Ubisoft</th>\n",
              "      <td>96.44</td>\n",
              "      <td>1.439403</td>\n",
              "      <td>1.636460</td>\n",
              "      <td>1.439403</td>\n",
              "    </tr>\n",
              "    <tr>\n",
              "      <th>Shooter</th>\n",
              "      <th>Electronic Arts</th>\n",
              "      <td>92.58</td>\n",
              "      <td>1.851600</td>\n",
              "      <td>1.794404</td>\n",
              "      <td>1.851600</td>\n",
              "    </tr>\n",
              "    <tr>\n",
              "      <th>...</th>\n",
              "      <th>...</th>\n",
              "      <td>...</td>\n",
              "      <td>...</td>\n",
              "      <td>...</td>\n",
              "      <td>...</td>\n",
              "    </tr>\n",
              "    <tr>\n",
              "      <th>Adventure</th>\n",
              "      <th>Cave</th>\n",
              "      <td>0.01</td>\n",
              "      <td>0.010000</td>\n",
              "      <td>NaN</td>\n",
              "      <td>0.010000</td>\n",
              "    </tr>\n",
              "    <tr>\n",
              "      <th>Role-Playing</th>\n",
              "      <th>TopWare Interactive</th>\n",
              "      <td>0.01</td>\n",
              "      <td>0.010000</td>\n",
              "      <td>NaN</td>\n",
              "      <td>0.010000</td>\n",
              "    </tr>\n",
              "    <tr>\n",
              "      <th>Sports</th>\n",
              "      <th>Interworks Unlimited, Inc.</th>\n",
              "      <td>0.01</td>\n",
              "      <td>0.010000</td>\n",
              "      <td>NaN</td>\n",
              "      <td>0.010000</td>\n",
              "    </tr>\n",
              "    <tr>\n",
              "      <th>Strategy</th>\n",
              "      <th>Ackkstudios</th>\n",
              "      <td>0.01</td>\n",
              "      <td>0.010000</td>\n",
              "      <td>NaN</td>\n",
              "      <td>0.010000</td>\n",
              "    </tr>\n",
              "    <tr>\n",
              "      <th>Adventure</th>\n",
              "      <th>Views</th>\n",
              "      <td>0.01</td>\n",
              "      <td>0.010000</td>\n",
              "      <td>NaN</td>\n",
              "      <td>0.010000</td>\n",
              "    </tr>\n",
              "  </tbody>\n",
              "</table>\n",
              "<p>422 rows × 4 columns</p>\n",
              "</div>"
            ],
            "text/plain": [
              "                                         total_revenue  ...  revenue_avg\n",
              "Genre        Publisher                                  ...             \n",
              "Shooter      Activision                         245.46  ...     3.409167\n",
              "Sports       Electronic Arts                    203.50  ...     1.197059\n",
              "Action       Take-Two Interactive               106.04  ...     4.610435\n",
              "             Ubisoft                             96.44  ...     1.439403\n",
              "Shooter      Electronic Arts                     92.58  ...     1.851600\n",
              "...                                                ...  ...          ...\n",
              "Adventure    Cave                                 0.01  ...     0.010000\n",
              "Role-Playing TopWare Interactive                  0.01  ...     0.010000\n",
              "Sports       Interworks Unlimited, Inc.           0.01  ...     0.010000\n",
              "Strategy     Ackkstudios                          0.01  ...     0.010000\n",
              "Adventure    Views                                0.01  ...     0.010000\n",
              "\n",
              "[422 rows x 4 columns]"
            ]
          },
          "metadata": {
            "tags": []
          },
          "execution_count": 92
        }
      ]
    },
    {
      "cell_type": "code",
      "metadata": {
        "id": "ceJZ_4TjXikz",
        "colab_type": "code",
        "colab": {
          "base_uri": "https://localhost:8080/"
        },
        "outputId": "ecee4800-2cee-4392-a585-735693df19af"
      },
      "source": [
        "games.groupby(['Genre', 'Publisher']).agg(\n",
        "    total_global_revenue=('Global_Sales', 'sum'),\n",
        "    average_EU_revenue=('EU_Sales', 'mean')\n",
        ")"
      ],
      "execution_count": null,
      "outputs": [
        {
          "output_type": "execute_result",
          "data": {
            "text/html": [
              "<div>\n",
              "<style scoped>\n",
              "    .dataframe tbody tr th:only-of-type {\n",
              "        vertical-align: middle;\n",
              "    }\n",
              "\n",
              "    .dataframe tbody tr th {\n",
              "        vertical-align: top;\n",
              "    }\n",
              "\n",
              "    .dataframe thead th {\n",
              "        text-align: right;\n",
              "    }\n",
              "</style>\n",
              "<table border=\"1\" class=\"dataframe\">\n",
              "  <thead>\n",
              "    <tr style=\"text-align: right;\">\n",
              "      <th></th>\n",
              "      <th></th>\n",
              "      <th>total_global_revenue</th>\n",
              "      <th>average_EU_revenue</th>\n",
              "    </tr>\n",
              "    <tr>\n",
              "      <th>Genre</th>\n",
              "      <th>Publisher</th>\n",
              "      <th></th>\n",
              "      <th></th>\n",
              "    </tr>\n",
              "  </thead>\n",
              "  <tbody>\n",
              "    <tr>\n",
              "      <th rowspan=\"5\" valign=\"top\">Action</th>\n",
              "      <th>505 Games</th>\n",
              "      <td>2.25</td>\n",
              "      <td>0.131250</td>\n",
              "    </tr>\n",
              "    <tr>\n",
              "      <th>Abylight</th>\n",
              "      <td>0.08</td>\n",
              "      <td>0.000000</td>\n",
              "    </tr>\n",
              "    <tr>\n",
              "      <th>Ackkstudios</th>\n",
              "      <td>0.33</td>\n",
              "      <td>0.000000</td>\n",
              "    </tr>\n",
              "    <tr>\n",
              "      <th>Acquire</th>\n",
              "      <td>0.11</td>\n",
              "      <td>0.000000</td>\n",
              "    </tr>\n",
              "    <tr>\n",
              "      <th>Activision</th>\n",
              "      <td>42.84</td>\n",
              "      <td>0.143053</td>\n",
              "    </tr>\n",
              "    <tr>\n",
              "      <th>...</th>\n",
              "      <th>...</th>\n",
              "      <td>...</td>\n",
              "      <td>...</td>\n",
              "    </tr>\n",
              "    <tr>\n",
              "      <th rowspan=\"5\" valign=\"top\">Strategy</th>\n",
              "      <th>Square Enix</th>\n",
              "      <td>0.35</td>\n",
              "      <td>0.100000</td>\n",
              "    </tr>\n",
              "    <tr>\n",
              "      <th>Takara Tomy</th>\n",
              "      <td>0.09</td>\n",
              "      <td>0.000000</td>\n",
              "    </tr>\n",
              "    <tr>\n",
              "      <th>Take-Two Interactive</th>\n",
              "      <td>2.92</td>\n",
              "      <td>0.145000</td>\n",
              "    </tr>\n",
              "    <tr>\n",
              "      <th>Tecmo Koei</th>\n",
              "      <td>0.58</td>\n",
              "      <td>0.000000</td>\n",
              "    </tr>\n",
              "    <tr>\n",
              "      <th>Ubisoft</th>\n",
              "      <td>2.34</td>\n",
              "      <td>0.200000</td>\n",
              "    </tr>\n",
              "  </tbody>\n",
              "</table>\n",
              "<p>422 rows × 2 columns</p>\n",
              "</div>"
            ],
            "text/plain": [
              "                               total_global_revenue  average_EU_revenue\n",
              "Genre    Publisher                                                     \n",
              "Action   505 Games                             2.25            0.131250\n",
              "         Abylight                              0.08            0.000000\n",
              "         Ackkstudios                           0.33            0.000000\n",
              "         Acquire                               0.11            0.000000\n",
              "         Activision                           42.84            0.143053\n",
              "...                                             ...                 ...\n",
              "Strategy Square Enix                           0.35            0.100000\n",
              "         Takara Tomy                           0.09            0.000000\n",
              "         Take-Two Interactive                  2.92            0.145000\n",
              "         Tecmo Koei                            0.58            0.000000\n",
              "         Ubisoft                               2.34            0.200000\n",
              "\n",
              "[422 rows x 2 columns]"
            ]
          },
          "metadata": {
            "tags": []
          },
          "execution_count": 93
        }
      ]
    },
    {
      "cell_type": "code",
      "metadata": {
        "id": "h5RZZ4FGYFlb",
        "colab_type": "code",
        "colab": {}
      },
      "source": [
        "# perhaps even better:"
      ],
      "execution_count": null,
      "outputs": []
    },
    {
      "cell_type": "code",
      "metadata": {
        "id": "B7qDmuedYQJh",
        "colab_type": "code",
        "colab": {
          "base_uri": "https://localhost:8080/"
        },
        "outputId": "ba9ce7ed-536f-4e6c-bd2d-6f6829e01b6e"
      },
      "source": [
        "games.groupby(['Genre', 'Publisher']).agg(\n",
        "    {\n",
        "        'Global_Sales': 'sum',\n",
        "        'EU_Sales': 'mean'\n",
        "    }\n",
        ")"
      ],
      "execution_count": null,
      "outputs": [
        {
          "output_type": "execute_result",
          "data": {
            "text/html": [
              "<div>\n",
              "<style scoped>\n",
              "    .dataframe tbody tr th:only-of-type {\n",
              "        vertical-align: middle;\n",
              "    }\n",
              "\n",
              "    .dataframe tbody tr th {\n",
              "        vertical-align: top;\n",
              "    }\n",
              "\n",
              "    .dataframe thead th {\n",
              "        text-align: right;\n",
              "    }\n",
              "</style>\n",
              "<table border=\"1\" class=\"dataframe\">\n",
              "  <thead>\n",
              "    <tr style=\"text-align: right;\">\n",
              "      <th></th>\n",
              "      <th></th>\n",
              "      <th>Global_Sales</th>\n",
              "      <th>EU_Sales</th>\n",
              "    </tr>\n",
              "    <tr>\n",
              "      <th>Genre</th>\n",
              "      <th>Publisher</th>\n",
              "      <th></th>\n",
              "      <th></th>\n",
              "    </tr>\n",
              "  </thead>\n",
              "  <tbody>\n",
              "    <tr>\n",
              "      <th rowspan=\"5\" valign=\"top\">Action</th>\n",
              "      <th>505 Games</th>\n",
              "      <td>2.25</td>\n",
              "      <td>0.131250</td>\n",
              "    </tr>\n",
              "    <tr>\n",
              "      <th>Abylight</th>\n",
              "      <td>0.08</td>\n",
              "      <td>0.000000</td>\n",
              "    </tr>\n",
              "    <tr>\n",
              "      <th>Ackkstudios</th>\n",
              "      <td>0.33</td>\n",
              "      <td>0.000000</td>\n",
              "    </tr>\n",
              "    <tr>\n",
              "      <th>Acquire</th>\n",
              "      <td>0.11</td>\n",
              "      <td>0.000000</td>\n",
              "    </tr>\n",
              "    <tr>\n",
              "      <th>Activision</th>\n",
              "      <td>42.84</td>\n",
              "      <td>0.143053</td>\n",
              "    </tr>\n",
              "    <tr>\n",
              "      <th>...</th>\n",
              "      <th>...</th>\n",
              "      <td>...</td>\n",
              "      <td>...</td>\n",
              "    </tr>\n",
              "    <tr>\n",
              "      <th rowspan=\"5\" valign=\"top\">Strategy</th>\n",
              "      <th>Square Enix</th>\n",
              "      <td>0.35</td>\n",
              "      <td>0.100000</td>\n",
              "    </tr>\n",
              "    <tr>\n",
              "      <th>Takara Tomy</th>\n",
              "      <td>0.09</td>\n",
              "      <td>0.000000</td>\n",
              "    </tr>\n",
              "    <tr>\n",
              "      <th>Take-Two Interactive</th>\n",
              "      <td>2.92</td>\n",
              "      <td>0.145000</td>\n",
              "    </tr>\n",
              "    <tr>\n",
              "      <th>Tecmo Koei</th>\n",
              "      <td>0.58</td>\n",
              "      <td>0.000000</td>\n",
              "    </tr>\n",
              "    <tr>\n",
              "      <th>Ubisoft</th>\n",
              "      <td>2.34</td>\n",
              "      <td>0.200000</td>\n",
              "    </tr>\n",
              "  </tbody>\n",
              "</table>\n",
              "<p>422 rows × 2 columns</p>\n",
              "</div>"
            ],
            "text/plain": [
              "                               Global_Sales  EU_Sales\n",
              "Genre    Publisher                                   \n",
              "Action   505 Games                     2.25  0.131250\n",
              "         Abylight                      0.08  0.000000\n",
              "         Ackkstudios                   0.33  0.000000\n",
              "         Acquire                       0.11  0.000000\n",
              "         Activision                   42.84  0.143053\n",
              "...                                     ...       ...\n",
              "Strategy Square Enix                   0.35  0.100000\n",
              "         Takara Tomy                   0.09  0.000000\n",
              "         Take-Two Interactive          2.92  0.145000\n",
              "         Tecmo Koei                    0.58  0.000000\n",
              "         Ubisoft                       2.34  0.200000\n",
              "\n",
              "[422 rows x 2 columns]"
            ]
          },
          "metadata": {
            "tags": []
          },
          "execution_count": 95
        }
      ]
    },
    {
      "cell_type": "markdown",
      "metadata": {
        "id": "--1LjrfYYXIu",
        "colab_type": "text"
      },
      "source": [
        "#### The filter() Method"
      ]
    },
    {
      "cell_type": "code",
      "metadata": {
        "id": "mIKSNrruZ56H",
        "colab_type": "code",
        "colab": {}
      },
      "source": [
        "# groupby() + agg() is not the only game in town."
      ],
      "execution_count": null,
      "outputs": []
    },
    {
      "cell_type": "code",
      "metadata": {
        "id": "NYXQdH19aNnd",
        "colab_type": "code",
        "colab": {}
      },
      "source": [
        ""
      ],
      "execution_count": null,
      "outputs": []
    },
    {
      "cell_type": "code",
      "metadata": {
        "id": "DzYZyc9OamBJ",
        "colab_type": "code",
        "colab": {}
      },
      "source": [
        "# Q: find all games whose publisher has sold more than 50M in North America within the game's genre"
      ],
      "execution_count": null,
      "outputs": []
    },
    {
      "cell_type": "code",
      "metadata": {
        "id": "PG10x0DlamGg",
        "colab_type": "code",
        "colab": {
          "base_uri": "https://localhost:8080/"
        },
        "outputId": "797058fe-6ef3-43c9-edc9-527a4e29d419"
      },
      "source": [
        "games.groupby(['Publisher', 'Genre']).filter(lambda sg: sg['NA_Sales'].sum() > 50)"
      ],
      "execution_count": null,
      "outputs": [
        {
          "output_type": "execute_result",
          "data": {
            "text/html": [
              "<div>\n",
              "<style scoped>\n",
              "    .dataframe tbody tr th:only-of-type {\n",
              "        vertical-align: middle;\n",
              "    }\n",
              "\n",
              "    .dataframe tbody tr th {\n",
              "        vertical-align: top;\n",
              "    }\n",
              "\n",
              "    .dataframe thead th {\n",
              "        text-align: right;\n",
              "    }\n",
              "</style>\n",
              "<table border=\"1\" class=\"dataframe\">\n",
              "  <thead>\n",
              "    <tr style=\"text-align: right;\">\n",
              "      <th></th>\n",
              "      <th>Name</th>\n",
              "      <th>Platform</th>\n",
              "      <th>Year</th>\n",
              "      <th>Genre</th>\n",
              "      <th>Publisher</th>\n",
              "      <th>NA_Sales</th>\n",
              "      <th>EU_Sales</th>\n",
              "      <th>JP_Sales</th>\n",
              "      <th>Other_Sales</th>\n",
              "      <th>Global_Sales</th>\n",
              "    </tr>\n",
              "  </thead>\n",
              "  <tbody>\n",
              "    <tr>\n",
              "      <th>3</th>\n",
              "      <td>Call of Duty: Modern Warfare 3</td>\n",
              "      <td>X360</td>\n",
              "      <td>2011.0</td>\n",
              "      <td>Shooter</td>\n",
              "      <td>Activision</td>\n",
              "      <td>9.03</td>\n",
              "      <td>4.28</td>\n",
              "      <td>0.13</td>\n",
              "      <td>1.32</td>\n",
              "      <td>14.76</td>\n",
              "    </tr>\n",
              "    <tr>\n",
              "      <th>4</th>\n",
              "      <td>Call of Duty: Black Ops</td>\n",
              "      <td>X360</td>\n",
              "      <td>2010.0</td>\n",
              "      <td>Shooter</td>\n",
              "      <td>Activision</td>\n",
              "      <td>9.67</td>\n",
              "      <td>3.73</td>\n",
              "      <td>0.11</td>\n",
              "      <td>1.13</td>\n",
              "      <td>14.64</td>\n",
              "    </tr>\n",
              "    <tr>\n",
              "      <th>5</th>\n",
              "      <td>Call of Duty: Black Ops 3</td>\n",
              "      <td>PS4</td>\n",
              "      <td>2015.0</td>\n",
              "      <td>Shooter</td>\n",
              "      <td>Activision</td>\n",
              "      <td>5.77</td>\n",
              "      <td>5.81</td>\n",
              "      <td>0.35</td>\n",
              "      <td>2.31</td>\n",
              "      <td>14.24</td>\n",
              "    </tr>\n",
              "    <tr>\n",
              "      <th>6</th>\n",
              "      <td>Call of Duty: Black Ops II</td>\n",
              "      <td>PS3</td>\n",
              "      <td>2012.0</td>\n",
              "      <td>Shooter</td>\n",
              "      <td>Activision</td>\n",
              "      <td>4.99</td>\n",
              "      <td>5.88</td>\n",
              "      <td>0.65</td>\n",
              "      <td>2.52</td>\n",
              "      <td>14.03</td>\n",
              "    </tr>\n",
              "    <tr>\n",
              "      <th>7</th>\n",
              "      <td>Call of Duty: Black Ops II</td>\n",
              "      <td>X360</td>\n",
              "      <td>2012.0</td>\n",
              "      <td>Shooter</td>\n",
              "      <td>Activision</td>\n",
              "      <td>8.25</td>\n",
              "      <td>4.30</td>\n",
              "      <td>0.07</td>\n",
              "      <td>1.12</td>\n",
              "      <td>13.73</td>\n",
              "    </tr>\n",
              "    <tr>\n",
              "      <th>...</th>\n",
              "      <td>...</td>\n",
              "      <td>...</td>\n",
              "      <td>...</td>\n",
              "      <td>...</td>\n",
              "      <td>...</td>\n",
              "      <td>...</td>\n",
              "      <td>...</td>\n",
              "      <td>...</td>\n",
              "      <td>...</td>\n",
              "      <td>...</td>\n",
              "    </tr>\n",
              "    <tr>\n",
              "      <th>2908</th>\n",
              "      <td>Cabela's Big Game Hunter: Pro Hunts</td>\n",
              "      <td>X360</td>\n",
              "      <td>2014.0</td>\n",
              "      <td>Shooter</td>\n",
              "      <td>Activision</td>\n",
              "      <td>0.02</td>\n",
              "      <td>0.00</td>\n",
              "      <td>0.00</td>\n",
              "      <td>0.00</td>\n",
              "      <td>0.03</td>\n",
              "    </tr>\n",
              "    <tr>\n",
              "      <th>3012</th>\n",
              "      <td>Call of Duty: Modern Warfare Trilogy</td>\n",
              "      <td>PS3</td>\n",
              "      <td>2016.0</td>\n",
              "      <td>Shooter</td>\n",
              "      <td>Activision</td>\n",
              "      <td>0.00</td>\n",
              "      <td>0.01</td>\n",
              "      <td>0.00</td>\n",
              "      <td>0.00</td>\n",
              "      <td>0.02</td>\n",
              "    </tr>\n",
              "    <tr>\n",
              "      <th>3033</th>\n",
              "      <td>NHL 16</td>\n",
              "      <td>X360</td>\n",
              "      <td>2015.0</td>\n",
              "      <td>Sports</td>\n",
              "      <td>Electronic Arts</td>\n",
              "      <td>0.00</td>\n",
              "      <td>0.02</td>\n",
              "      <td>0.00</td>\n",
              "      <td>0.00</td>\n",
              "      <td>0.02</td>\n",
              "    </tr>\n",
              "    <tr>\n",
              "      <th>3035</th>\n",
              "      <td>Call of Duty: Modern Warfare Trilogy</td>\n",
              "      <td>X360</td>\n",
              "      <td>2016.0</td>\n",
              "      <td>Shooter</td>\n",
              "      <td>Activision</td>\n",
              "      <td>0.01</td>\n",
              "      <td>0.01</td>\n",
              "      <td>0.00</td>\n",
              "      <td>0.00</td>\n",
              "      <td>0.02</td>\n",
              "    </tr>\n",
              "    <tr>\n",
              "      <th>3078</th>\n",
              "      <td>Madden NFL 13</td>\n",
              "      <td>PS3</td>\n",
              "      <td>2012.0</td>\n",
              "      <td>Sports</td>\n",
              "      <td>Electronic Arts</td>\n",
              "      <td>0.00</td>\n",
              "      <td>0.01</td>\n",
              "      <td>0.00</td>\n",
              "      <td>0.00</td>\n",
              "      <td>0.01</td>\n",
              "    </tr>\n",
              "  </tbody>\n",
              "</table>\n",
              "<p>260 rows × 10 columns</p>\n",
              "</div>"
            ],
            "text/plain": [
              "                                      Name Platform  ...  Other_Sales Global_Sales\n",
              "3           Call of Duty: Modern Warfare 3     X360  ...         1.32        14.76\n",
              "4                  Call of Duty: Black Ops     X360  ...         1.13        14.64\n",
              "5                Call of Duty: Black Ops 3      PS4  ...         2.31        14.24\n",
              "6               Call of Duty: Black Ops II      PS3  ...         2.52        14.03\n",
              "7               Call of Duty: Black Ops II     X360  ...         1.12        13.73\n",
              "...                                    ...      ...  ...          ...          ...\n",
              "2908   Cabela's Big Game Hunter: Pro Hunts     X360  ...         0.00         0.03\n",
              "3012  Call of Duty: Modern Warfare Trilogy      PS3  ...         0.00         0.02\n",
              "3033                                NHL 16     X360  ...         0.00         0.02\n",
              "3035  Call of Duty: Modern Warfare Trilogy     X360  ...         0.00         0.02\n",
              "3078                         Madden NFL 13      PS3  ...         0.00         0.01\n",
              "\n",
              "[260 rows x 10 columns]"
            ]
          },
          "metadata": {
            "tags": []
          },
          "execution_count": 98
        }
      ]
    },
    {
      "cell_type": "code",
      "metadata": {
        "id": "cSvP6Gxxa78E",
        "colab_type": "code",
        "colab": {}
      },
      "source": [
        "def more_than_50(df):\n",
        "  return df['NA_Sales'].sum() > 50"
      ],
      "execution_count": null,
      "outputs": []
    },
    {
      "cell_type": "code",
      "metadata": {
        "id": "IcegrCQ3bli2",
        "colab_type": "code",
        "colab": {
          "base_uri": "https://localhost:8080/"
        },
        "outputId": "a32154d7-e7e1-41a0-a361-dcb68ee6baa9"
      },
      "source": [
        "games.groupby(['Publisher', 'Genre']).filter(more_than_50)"
      ],
      "execution_count": null,
      "outputs": [
        {
          "output_type": "execute_result",
          "data": {
            "text/html": [
              "<div>\n",
              "<style scoped>\n",
              "    .dataframe tbody tr th:only-of-type {\n",
              "        vertical-align: middle;\n",
              "    }\n",
              "\n",
              "    .dataframe tbody tr th {\n",
              "        vertical-align: top;\n",
              "    }\n",
              "\n",
              "    .dataframe thead th {\n",
              "        text-align: right;\n",
              "    }\n",
              "</style>\n",
              "<table border=\"1\" class=\"dataframe\">\n",
              "  <thead>\n",
              "    <tr style=\"text-align: right;\">\n",
              "      <th></th>\n",
              "      <th>Name</th>\n",
              "      <th>Platform</th>\n",
              "      <th>Year</th>\n",
              "      <th>Genre</th>\n",
              "      <th>Publisher</th>\n",
              "      <th>NA_Sales</th>\n",
              "      <th>EU_Sales</th>\n",
              "      <th>JP_Sales</th>\n",
              "      <th>Other_Sales</th>\n",
              "      <th>Global_Sales</th>\n",
              "    </tr>\n",
              "  </thead>\n",
              "  <tbody>\n",
              "    <tr>\n",
              "      <th>3</th>\n",
              "      <td>Call of Duty: Modern Warfare 3</td>\n",
              "      <td>X360</td>\n",
              "      <td>2011.0</td>\n",
              "      <td>Shooter</td>\n",
              "      <td>Activision</td>\n",
              "      <td>9.03</td>\n",
              "      <td>4.28</td>\n",
              "      <td>0.13</td>\n",
              "      <td>1.32</td>\n",
              "      <td>14.76</td>\n",
              "    </tr>\n",
              "    <tr>\n",
              "      <th>4</th>\n",
              "      <td>Call of Duty: Black Ops</td>\n",
              "      <td>X360</td>\n",
              "      <td>2010.0</td>\n",
              "      <td>Shooter</td>\n",
              "      <td>Activision</td>\n",
              "      <td>9.67</td>\n",
              "      <td>3.73</td>\n",
              "      <td>0.11</td>\n",
              "      <td>1.13</td>\n",
              "      <td>14.64</td>\n",
              "    </tr>\n",
              "    <tr>\n",
              "      <th>5</th>\n",
              "      <td>Call of Duty: Black Ops 3</td>\n",
              "      <td>PS4</td>\n",
              "      <td>2015.0</td>\n",
              "      <td>Shooter</td>\n",
              "      <td>Activision</td>\n",
              "      <td>5.77</td>\n",
              "      <td>5.81</td>\n",
              "      <td>0.35</td>\n",
              "      <td>2.31</td>\n",
              "      <td>14.24</td>\n",
              "    </tr>\n",
              "    <tr>\n",
              "      <th>6</th>\n",
              "      <td>Call of Duty: Black Ops II</td>\n",
              "      <td>PS3</td>\n",
              "      <td>2012.0</td>\n",
              "      <td>Shooter</td>\n",
              "      <td>Activision</td>\n",
              "      <td>4.99</td>\n",
              "      <td>5.88</td>\n",
              "      <td>0.65</td>\n",
              "      <td>2.52</td>\n",
              "      <td>14.03</td>\n",
              "    </tr>\n",
              "    <tr>\n",
              "      <th>7</th>\n",
              "      <td>Call of Duty: Black Ops II</td>\n",
              "      <td>X360</td>\n",
              "      <td>2012.0</td>\n",
              "      <td>Shooter</td>\n",
              "      <td>Activision</td>\n",
              "      <td>8.25</td>\n",
              "      <td>4.30</td>\n",
              "      <td>0.07</td>\n",
              "      <td>1.12</td>\n",
              "      <td>13.73</td>\n",
              "    </tr>\n",
              "    <tr>\n",
              "      <th>...</th>\n",
              "      <td>...</td>\n",
              "      <td>...</td>\n",
              "      <td>...</td>\n",
              "      <td>...</td>\n",
              "      <td>...</td>\n",
              "      <td>...</td>\n",
              "      <td>...</td>\n",
              "      <td>...</td>\n",
              "      <td>...</td>\n",
              "      <td>...</td>\n",
              "    </tr>\n",
              "    <tr>\n",
              "      <th>2908</th>\n",
              "      <td>Cabela's Big Game Hunter: Pro Hunts</td>\n",
              "      <td>X360</td>\n",
              "      <td>2014.0</td>\n",
              "      <td>Shooter</td>\n",
              "      <td>Activision</td>\n",
              "      <td>0.02</td>\n",
              "      <td>0.00</td>\n",
              "      <td>0.00</td>\n",
              "      <td>0.00</td>\n",
              "      <td>0.03</td>\n",
              "    </tr>\n",
              "    <tr>\n",
              "      <th>3012</th>\n",
              "      <td>Call of Duty: Modern Warfare Trilogy</td>\n",
              "      <td>PS3</td>\n",
              "      <td>2016.0</td>\n",
              "      <td>Shooter</td>\n",
              "      <td>Activision</td>\n",
              "      <td>0.00</td>\n",
              "      <td>0.01</td>\n",
              "      <td>0.00</td>\n",
              "      <td>0.00</td>\n",
              "      <td>0.02</td>\n",
              "    </tr>\n",
              "    <tr>\n",
              "      <th>3033</th>\n",
              "      <td>NHL 16</td>\n",
              "      <td>X360</td>\n",
              "      <td>2015.0</td>\n",
              "      <td>Sports</td>\n",
              "      <td>Electronic Arts</td>\n",
              "      <td>0.00</td>\n",
              "      <td>0.02</td>\n",
              "      <td>0.00</td>\n",
              "      <td>0.00</td>\n",
              "      <td>0.02</td>\n",
              "    </tr>\n",
              "    <tr>\n",
              "      <th>3035</th>\n",
              "      <td>Call of Duty: Modern Warfare Trilogy</td>\n",
              "      <td>X360</td>\n",
              "      <td>2016.0</td>\n",
              "      <td>Shooter</td>\n",
              "      <td>Activision</td>\n",
              "      <td>0.01</td>\n",
              "      <td>0.01</td>\n",
              "      <td>0.00</td>\n",
              "      <td>0.00</td>\n",
              "      <td>0.02</td>\n",
              "    </tr>\n",
              "    <tr>\n",
              "      <th>3078</th>\n",
              "      <td>Madden NFL 13</td>\n",
              "      <td>PS3</td>\n",
              "      <td>2012.0</td>\n",
              "      <td>Sports</td>\n",
              "      <td>Electronic Arts</td>\n",
              "      <td>0.00</td>\n",
              "      <td>0.01</td>\n",
              "      <td>0.00</td>\n",
              "      <td>0.00</td>\n",
              "      <td>0.01</td>\n",
              "    </tr>\n",
              "  </tbody>\n",
              "</table>\n",
              "<p>260 rows × 10 columns</p>\n",
              "</div>"
            ],
            "text/plain": [
              "                                      Name Platform  ...  Other_Sales Global_Sales\n",
              "3           Call of Duty: Modern Warfare 3     X360  ...         1.32        14.76\n",
              "4                  Call of Duty: Black Ops     X360  ...         1.13        14.64\n",
              "5                Call of Duty: Black Ops 3      PS4  ...         2.31        14.24\n",
              "6               Call of Duty: Black Ops II      PS3  ...         2.52        14.03\n",
              "7               Call of Duty: Black Ops II     X360  ...         1.12        13.73\n",
              "...                                    ...      ...  ...          ...          ...\n",
              "2908   Cabela's Big Game Hunter: Pro Hunts     X360  ...         0.00         0.03\n",
              "3012  Call of Duty: Modern Warfare Trilogy      PS3  ...         0.00         0.02\n",
              "3033                                NHL 16     X360  ...         0.00         0.02\n",
              "3035  Call of Duty: Modern Warfare Trilogy     X360  ...         0.00         0.02\n",
              "3078                         Madden NFL 13      PS3  ...         0.00         0.01\n",
              "\n",
              "[260 rows x 10 columns]"
            ]
          },
          "metadata": {
            "tags": []
          },
          "execution_count": 100
        }
      ]
    },
    {
      "cell_type": "markdown",
      "metadata": {
        "id": "baVc3KFGbqJN",
        "colab_type": "text"
      },
      "source": [
        "#### GroupBy Transformations"
      ]
    },
    {
      "cell_type": "code",
      "metadata": {
        "id": "q_HUyOjhcA6q",
        "colab_type": "code",
        "colab": {}
      },
      "source": [
        "# groupby() + transform() for inplace transformation applied at subgroup level"
      ],
      "execution_count": null,
      "outputs": []
    },
    {
      "cell_type": "code",
      "metadata": {
        "id": "fxX8_rj2gIdE",
        "colab_type": "code",
        "colab": {}
      },
      "source": [
        ""
      ],
      "execution_count": null,
      "outputs": []
    },
    {
      "cell_type": "code",
      "metadata": {
        "id": "4D87cYeAi0QH",
        "colab_type": "code",
        "colab": {
          "base_uri": "https://localhost:8080/"
        },
        "outputId": "9f9257c5-dffc-4768-df42-8577ba86972f"
      },
      "source": [
        "games.head()"
      ],
      "execution_count": null,
      "outputs": [
        {
          "output_type": "execute_result",
          "data": {
            "text/html": [
              "<div>\n",
              "<style scoped>\n",
              "    .dataframe tbody tr th:only-of-type {\n",
              "        vertical-align: middle;\n",
              "    }\n",
              "\n",
              "    .dataframe tbody tr th {\n",
              "        vertical-align: top;\n",
              "    }\n",
              "\n",
              "    .dataframe thead th {\n",
              "        text-align: right;\n",
              "    }\n",
              "</style>\n",
              "<table border=\"1\" class=\"dataframe\">\n",
              "  <thead>\n",
              "    <tr style=\"text-align: right;\">\n",
              "      <th></th>\n",
              "      <th>Name</th>\n",
              "      <th>Platform</th>\n",
              "      <th>Year</th>\n",
              "      <th>Genre</th>\n",
              "      <th>Publisher</th>\n",
              "      <th>NA_Sales</th>\n",
              "      <th>EU_Sales</th>\n",
              "      <th>JP_Sales</th>\n",
              "      <th>Other_Sales</th>\n",
              "      <th>Global_Sales</th>\n",
              "    </tr>\n",
              "  </thead>\n",
              "  <tbody>\n",
              "    <tr>\n",
              "      <th>0</th>\n",
              "      <td>Kinect Adventures!</td>\n",
              "      <td>X360</td>\n",
              "      <td>2010.0</td>\n",
              "      <td>Misc</td>\n",
              "      <td>Microsoft Game Studios</td>\n",
              "      <td>14.97</td>\n",
              "      <td>4.94</td>\n",
              "      <td>0.24</td>\n",
              "      <td>1.67</td>\n",
              "      <td>21.82</td>\n",
              "    </tr>\n",
              "    <tr>\n",
              "      <th>1</th>\n",
              "      <td>Grand Theft Auto V</td>\n",
              "      <td>PS3</td>\n",
              "      <td>2013.0</td>\n",
              "      <td>Action</td>\n",
              "      <td>Take-Two Interactive</td>\n",
              "      <td>7.01</td>\n",
              "      <td>9.27</td>\n",
              "      <td>0.97</td>\n",
              "      <td>4.14</td>\n",
              "      <td>21.40</td>\n",
              "    </tr>\n",
              "    <tr>\n",
              "      <th>2</th>\n",
              "      <td>Grand Theft Auto V</td>\n",
              "      <td>X360</td>\n",
              "      <td>2013.0</td>\n",
              "      <td>Action</td>\n",
              "      <td>Take-Two Interactive</td>\n",
              "      <td>9.63</td>\n",
              "      <td>5.31</td>\n",
              "      <td>0.06</td>\n",
              "      <td>1.38</td>\n",
              "      <td>16.38</td>\n",
              "    </tr>\n",
              "    <tr>\n",
              "      <th>3</th>\n",
              "      <td>Call of Duty: Modern Warfare 3</td>\n",
              "      <td>X360</td>\n",
              "      <td>2011.0</td>\n",
              "      <td>Shooter</td>\n",
              "      <td>Activision</td>\n",
              "      <td>9.03</td>\n",
              "      <td>4.28</td>\n",
              "      <td>0.13</td>\n",
              "      <td>1.32</td>\n",
              "      <td>14.76</td>\n",
              "    </tr>\n",
              "    <tr>\n",
              "      <th>4</th>\n",
              "      <td>Call of Duty: Black Ops</td>\n",
              "      <td>X360</td>\n",
              "      <td>2010.0</td>\n",
              "      <td>Shooter</td>\n",
              "      <td>Activision</td>\n",
              "      <td>9.67</td>\n",
              "      <td>3.73</td>\n",
              "      <td>0.11</td>\n",
              "      <td>1.13</td>\n",
              "      <td>14.64</td>\n",
              "    </tr>\n",
              "  </tbody>\n",
              "</table>\n",
              "</div>"
            ],
            "text/plain": [
              "                             Name Platform  ...  Other_Sales Global_Sales\n",
              "0              Kinect Adventures!     X360  ...         1.67        21.82\n",
              "1              Grand Theft Auto V      PS3  ...         4.14        21.40\n",
              "2              Grand Theft Auto V     X360  ...         1.38        16.38\n",
              "3  Call of Duty: Modern Warfare 3     X360  ...         1.32        14.76\n",
              "4         Call of Duty: Black Ops     X360  ...         1.13        14.64\n",
              "\n",
              "[5 rows x 10 columns]"
            ]
          },
          "metadata": {
            "tags": []
          },
          "execution_count": 102
        }
      ]
    },
    {
      "cell_type": "code",
      "metadata": {
        "id": "Wv_TACjajHU_",
        "colab_type": "code",
        "colab": {}
      },
      "source": [
        "# ===ASIDE"
      ],
      "execution_count": null,
      "outputs": []
    },
    {
      "cell_type": "code",
      "metadata": {
        "id": "DmqSk1kLjIy-",
        "colab_type": "code",
        "colab": {}
      },
      "source": [
        "game_sale      = 5\n",
        "game_genre_avg = 5.05\n",
        "game_genre_std = 0.1"
      ],
      "execution_count": null,
      "outputs": []
    },
    {
      "cell_type": "code",
      "metadata": {
        "id": "W3RWR9uqjIio",
        "colab_type": "code",
        "colab": {
          "base_uri": "https://localhost:8080/"
        },
        "outputId": "1dfa21b3-4674-4cc2-8997-de07d41c8dc8"
      },
      "source": [
        "(game_sale - game_genre_avg) / game_genre_std"
      ],
      "execution_count": null,
      "outputs": [
        {
          "output_type": "execute_result",
          "data": {
            "text/plain": [
              "-0.4999999999999982"
            ]
          },
          "metadata": {
            "tags": []
          },
          "execution_count": 105
        }
      ]
    },
    {
      "cell_type": "code",
      "metadata": {
        "id": "RPqvcsZmjd2K",
        "colab_type": "code",
        "colab": {}
      },
      "source": [
        "# ===END ASIDE"
      ],
      "execution_count": null,
      "outputs": []
    },
    {
      "cell_type": "code",
      "metadata": {
        "id": "XOCZMa8Ni0XX",
        "colab_type": "code",
        "colab": {}
      },
      "source": [
        "# Q: convert raw global_sales to within-genre standard scores"
      ],
      "execution_count": null,
      "outputs": []
    },
    {
      "cell_type": "code",
      "metadata": {
        "id": "CFeD8WtRi3vk",
        "colab_type": "code",
        "colab": {}
      },
      "source": [
        "games_relative = games.loc[:, ['Name', 'Genre', 'Platform', 'Global_Sales']]"
      ],
      "execution_count": null,
      "outputs": []
    },
    {
      "cell_type": "code",
      "metadata": {
        "id": "vP4rFEQWjzgC",
        "colab_type": "code",
        "colab": {
          "base_uri": "https://localhost:8080/"
        },
        "outputId": "286949e5-58d9-4385-f61d-9c7a4cf6462a"
      },
      "source": [
        "games_relative.set_index(['Name', 'Platform']).groupby('Genre').transform(lambda x: (x - x.mean())/x.std())\\\n",
        "      .sort_values(by='Global_Sales', ascending=False)"
      ],
      "execution_count": null,
      "outputs": [
        {
          "output_type": "execute_result",
          "data": {
            "text/html": [
              "<div>\n",
              "<style scoped>\n",
              "    .dataframe tbody tr th:only-of-type {\n",
              "        vertical-align: middle;\n",
              "    }\n",
              "\n",
              "    .dataframe tbody tr th {\n",
              "        vertical-align: top;\n",
              "    }\n",
              "\n",
              "    .dataframe thead th {\n",
              "        text-align: right;\n",
              "    }\n",
              "</style>\n",
              "<table border=\"1\" class=\"dataframe\">\n",
              "  <thead>\n",
              "    <tr style=\"text-align: right;\">\n",
              "      <th></th>\n",
              "      <th></th>\n",
              "      <th>Global_Sales</th>\n",
              "    </tr>\n",
              "    <tr>\n",
              "      <th>Name</th>\n",
              "      <th>Platform</th>\n",
              "      <th></th>\n",
              "    </tr>\n",
              "  </thead>\n",
              "  <tbody>\n",
              "    <tr>\n",
              "      <th>Grand Theft Auto V</th>\n",
              "      <th>PS3</th>\n",
              "      <td>13.831175</td>\n",
              "    </tr>\n",
              "    <tr>\n",
              "      <th>Kinect Adventures!</th>\n",
              "      <th>X360</th>\n",
              "      <td>13.814162</td>\n",
              "    </tr>\n",
              "    <tr>\n",
              "      <th>Grand Theft Auto V</th>\n",
              "      <th>X360</th>\n",
              "      <td>10.468663</td>\n",
              "    </tr>\n",
              "    <tr>\n",
              "      <th>Gran Turismo 5</th>\n",
              "      <th>PS3</th>\n",
              "      <td>9.159261</td>\n",
              "    </tr>\n",
              "    <tr>\n",
              "      <th>Grand Theft Auto V</th>\n",
              "      <th>PS4</th>\n",
              "      <td>7.521441</td>\n",
              "    </tr>\n",
              "    <tr>\n",
              "      <th>...</th>\n",
              "      <th>...</th>\n",
              "      <td>...</td>\n",
              "    </tr>\n",
              "    <tr>\n",
              "      <th>Dragon Ball Z for Kinect</th>\n",
              "      <th>X360</th>\n",
              "      <td>-0.872762</td>\n",
              "    </tr>\n",
              "    <tr>\n",
              "      <th>Nitroplus Blasterz: Heroines Infinite Duel</th>\n",
              "      <th>PS3</th>\n",
              "      <td>-0.872762</td>\n",
              "    </tr>\n",
              "    <tr>\n",
              "      <th>Battle Fantasia</th>\n",
              "      <th>PS3</th>\n",
              "      <td>-0.872762</td>\n",
              "    </tr>\n",
              "    <tr>\n",
              "      <th>Sakigake!! Otokojuku - Nihon yo, Kore ga Otoko Dearu!</th>\n",
              "      <th>PS3</th>\n",
              "      <td>-0.872762</td>\n",
              "    </tr>\n",
              "    <tr>\n",
              "      <th>The Talos Principle</th>\n",
              "      <th>PS4</th>\n",
              "      <td>-0.899346</td>\n",
              "    </tr>\n",
              "  </tbody>\n",
              "</table>\n",
              "<p>3143 rows × 1 columns</p>\n",
              "</div>"
            ],
            "text/plain": [
              "                                                             Global_Sales\n",
              "Name                                               Platform              \n",
              "Grand Theft Auto V                                 PS3          13.831175\n",
              "Kinect Adventures!                                 X360         13.814162\n",
              "Grand Theft Auto V                                 X360         10.468663\n",
              "Gran Turismo 5                                     PS3           9.159261\n",
              "Grand Theft Auto V                                 PS4           7.521441\n",
              "...                                                                   ...\n",
              "Dragon Ball Z for Kinect                           X360         -0.872762\n",
              "Nitroplus Blasterz: Heroines Infinite Duel         PS3          -0.872762\n",
              "Battle Fantasia                                    PS3          -0.872762\n",
              "Sakigake!! Otokojuku - Nihon yo, Kore ga Otoko ... PS3          -0.872762\n",
              "The Talos Principle                                PS4          -0.899346\n",
              "\n",
              "[3143 rows x 1 columns]"
            ]
          },
          "metadata": {
            "tags": []
          },
          "execution_count": 109
        }
      ]
    },
    {
      "cell_type": "code",
      "metadata": {
        "id": "rvbKOiJbj5X1",
        "colab_type": "code",
        "colab": {}
      },
      "source": [
        "# .groupby() +...\n",
        "\n",
        "            # .agg() -> (typically) reduces the dimensions of the dataset\n",
        "            # .filter() -> include/exclude without changing the dimensions\n",
        "            # .transform() -> change the values in place without altering the shape"
      ],
      "execution_count": null,
      "outputs": []
    },
    {
      "cell_type": "markdown",
      "metadata": {
        "id": "Ux08HMUOlHQi",
        "colab_type": "text"
      },
      "source": [
        "#### BONUS - There's Also apply()"
      ]
    },
    {
      "cell_type": "code",
      "metadata": {
        "id": "SOuGB0wRlIOY",
        "colab_type": "code",
        "colab": {}
      },
      "source": [
        "# groupby() + apply(): the generic, \"do it yourself\" alternative "
      ],
      "execution_count": null,
      "outputs": []
    },
    {
      "cell_type": "code",
      "metadata": {
        "id": "PnDvKxf4n1yB",
        "colab_type": "code",
        "colab": {}
      },
      "source": [
        "ps3 = games.loc[games.Platform == 'PS3', ['Name', 'Genre', 'EU_Sales', 'Global_Sales']]"
      ],
      "execution_count": null,
      "outputs": []
    },
    {
      "cell_type": "code",
      "metadata": {
        "id": "a7b4NBFooNuq",
        "colab_type": "code",
        "colab": {
          "base_uri": "https://localhost:8080/",
          "height": 424
        },
        "outputId": "fb143a89-393b-42ca-eacf-ed173fe10aaf"
      },
      "source": [
        "ps3"
      ],
      "execution_count": null,
      "outputs": [
        {
          "output_type": "execute_result",
          "data": {
            "text/html": [
              "<div>\n",
              "<style scoped>\n",
              "    .dataframe tbody tr th:only-of-type {\n",
              "        vertical-align: middle;\n",
              "    }\n",
              "\n",
              "    .dataframe tbody tr th {\n",
              "        vertical-align: top;\n",
              "    }\n",
              "\n",
              "    .dataframe thead th {\n",
              "        text-align: right;\n",
              "    }\n",
              "</style>\n",
              "<table border=\"1\" class=\"dataframe\">\n",
              "  <thead>\n",
              "    <tr style=\"text-align: right;\">\n",
              "      <th></th>\n",
              "      <th>Name</th>\n",
              "      <th>Genre</th>\n",
              "      <th>EU_Sales</th>\n",
              "      <th>Global_Sales</th>\n",
              "    </tr>\n",
              "  </thead>\n",
              "  <tbody>\n",
              "    <tr>\n",
              "      <th>1</th>\n",
              "      <td>Grand Theft Auto V</td>\n",
              "      <td>Action</td>\n",
              "      <td>9.27</td>\n",
              "      <td>21.40</td>\n",
              "    </tr>\n",
              "    <tr>\n",
              "      <th>6</th>\n",
              "      <td>Call of Duty: Black Ops II</td>\n",
              "      <td>Shooter</td>\n",
              "      <td>5.88</td>\n",
              "      <td>14.03</td>\n",
              "    </tr>\n",
              "    <tr>\n",
              "      <th>9</th>\n",
              "      <td>Call of Duty: Modern Warfare 3</td>\n",
              "      <td>Shooter</td>\n",
              "      <td>5.82</td>\n",
              "      <td>13.46</td>\n",
              "    </tr>\n",
              "    <tr>\n",
              "      <th>10</th>\n",
              "      <td>Call of Duty: Black Ops</td>\n",
              "      <td>Shooter</td>\n",
              "      <td>4.44</td>\n",
              "      <td>12.73</td>\n",
              "    </tr>\n",
              "    <tr>\n",
              "      <th>14</th>\n",
              "      <td>Gran Turismo 5</td>\n",
              "      <td>Racing</td>\n",
              "      <td>4.88</td>\n",
              "      <td>10.77</td>\n",
              "    </tr>\n",
              "    <tr>\n",
              "      <th>...</th>\n",
              "      <td>...</td>\n",
              "      <td>...</td>\n",
              "      <td>...</td>\n",
              "      <td>...</td>\n",
              "    </tr>\n",
              "    <tr>\n",
              "      <th>3124</th>\n",
              "      <td>Hyperdimension Neptunia mk2</td>\n",
              "      <td>Action</td>\n",
              "      <td>0.01</td>\n",
              "      <td>0.01</td>\n",
              "    </tr>\n",
              "    <tr>\n",
              "      <th>3125</th>\n",
              "      <td>Shin Koihime Musou: Otome Taisen * Sangokushi ...</td>\n",
              "      <td>Adventure</td>\n",
              "      <td>0.00</td>\n",
              "      <td>0.01</td>\n",
              "    </tr>\n",
              "    <tr>\n",
              "      <th>3129</th>\n",
              "      <td>Muv-Luv Alternative</td>\n",
              "      <td>Simulation</td>\n",
              "      <td>0.00</td>\n",
              "      <td>0.01</td>\n",
              "    </tr>\n",
              "    <tr>\n",
              "      <th>3132</th>\n",
              "      <td>Akatsuki no Goei Trinity</td>\n",
              "      <td>Adventure</td>\n",
              "      <td>0.00</td>\n",
              "      <td>0.01</td>\n",
              "    </tr>\n",
              "    <tr>\n",
              "      <th>3136</th>\n",
              "      <td>Battle Fantasia</td>\n",
              "      <td>Fighting</td>\n",
              "      <td>0.00</td>\n",
              "      <td>0.01</td>\n",
              "    </tr>\n",
              "  </tbody>\n",
              "</table>\n",
              "<p>1329 rows × 4 columns</p>\n",
              "</div>"
            ],
            "text/plain": [
              "                                                   Name  ... Global_Sales\n",
              "1                                    Grand Theft Auto V  ...        21.40\n",
              "6                            Call of Duty: Black Ops II  ...        14.03\n",
              "9                        Call of Duty: Modern Warfare 3  ...        13.46\n",
              "10                              Call of Duty: Black Ops  ...        12.73\n",
              "14                                       Gran Turismo 5  ...        10.77\n",
              "...                                                 ...  ...          ...\n",
              "3124                        Hyperdimension Neptunia mk2  ...         0.01\n",
              "3125  Shin Koihime Musou: Otome Taisen * Sangokushi ...  ...         0.01\n",
              "3129                                Muv-Luv Alternative  ...         0.01\n",
              "3132                           Akatsuki no Goei Trinity  ...         0.01\n",
              "3136                                    Battle Fantasia  ...         0.01\n",
              "\n",
              "[1329 rows x 4 columns]"
            ]
          },
          "metadata": {
            "tags": []
          },
          "execution_count": 114
        }
      ]
    },
    {
      "cell_type": "code",
      "metadata": {
        "id": "oCsLWMcuoOSo",
        "colab_type": "code",
        "colab": {}
      },
      "source": [
        "# the paradigm: subgroup -> apply() -> output"
      ],
      "execution_count": null,
      "outputs": []
    },
    {
      "cell_type": "code",
      "metadata": {
        "id": "pC3oReNwoT9i",
        "colab_type": "code",
        "colab": {
          "base_uri": "https://localhost:8080/",
          "height": 260
        },
        "outputId": "fd55b18e-d0ec-4097-9f0f-b5ea9360a795"
      },
      "source": [
        "ps3.groupby('Genre').apply(lambda sg: 'solid' if sg.EU_Sales.sum() > 50 else 'weak')"
      ],
      "execution_count": null,
      "outputs": [
        {
          "output_type": "execute_result",
          "data": {
            "text/plain": [
              "Genre\n",
              "Action          solid\n",
              "Adventure        weak\n",
              "Fighting         weak\n",
              "Misc             weak\n",
              "Platform         weak\n",
              "Puzzle           weak\n",
              "Racing           weak\n",
              "Role-Playing     weak\n",
              "Shooter         solid\n",
              "Simulation       weak\n",
              "Sports           weak\n",
              "Strategy         weak\n",
              "dtype: object"
            ]
          },
          "metadata": {
            "tags": []
          },
          "execution_count": 117
        }
      ]
    },
    {
      "cell_type": "code",
      "metadata": {
        "id": "1jMnZimao07b",
        "colab_type": "code",
        "colab": {}
      },
      "source": [
        "# our target syntax: ps3.groupby('Genre').apply(sales_detail)"
      ],
      "execution_count": null,
      "outputs": []
    },
    {
      "cell_type": "code",
      "metadata": {
        "id": "RcEfT2dNojkV",
        "colab_type": "code",
        "colab": {}
      },
      "source": [
        "def sales_detail(sg):\n",
        "  level = 'solid' if sg.EU_Sales.sum() > 50 else 'weak'\n",
        "  variability = 'volatile' if sg.EU_Sales.std()/sg.EU_Sales.mean() > 2 else 'steady'\n",
        "  return (variability, level + ' sales')"
      ],
      "execution_count": null,
      "outputs": []
    },
    {
      "cell_type": "code",
      "metadata": {
        "id": "t3vSyvBypUCj",
        "colab_type": "code",
        "colab": {
          "base_uri": "https://localhost:8080/",
          "height": 260
        },
        "outputId": "f0e0ce6b-e786-4309-fb5a-2d62b52d1177"
      },
      "source": [
        "ps3.groupby('Genre').apply(sales_detail)"
      ],
      "execution_count": null,
      "outputs": [
        {
          "output_type": "execute_result",
          "data": {
            "text/plain": [
              "Genre\n",
              "Action          (volatile, solid sales)\n",
              "Adventure        (volatile, weak sales)\n",
              "Fighting           (steady, weak sales)\n",
              "Misc               (steady, weak sales)\n",
              "Platform           (steady, weak sales)\n",
              "Puzzle             (steady, weak sales)\n",
              "Racing             (steady, weak sales)\n",
              "Role-Playing     (volatile, weak sales)\n",
              "Shooter           (steady, solid sales)\n",
              "Simulation         (steady, weak sales)\n",
              "Sports           (volatile, weak sales)\n",
              "Strategy           (steady, weak sales)\n",
              "dtype: object"
            ]
          },
          "metadata": {
            "tags": []
          },
          "execution_count": 119
        }
      ]
    },
    {
      "cell_type": "code",
      "metadata": {
        "id": "z5n-ztT6pXmK",
        "colab_type": "code",
        "colab": {
          "base_uri": "https://localhost:8080/",
          "height": 1000
        },
        "outputId": "491984bf-55dd-4c3f-cf1f-90416be94e72"
      },
      "source": [
        "ps3.groupby('Genre').apply(lambda x: print(x.info(), '\\n'))"
      ],
      "execution_count": null,
      "outputs": [
        {
          "output_type": "stream",
          "text": [
            "<class 'pandas.core.frame.DataFrame'>\n",
            "Int64Index: 380 entries, 1 to 3124\n",
            "Data columns (total 4 columns):\n",
            " #   Column        Non-Null Count  Dtype  \n",
            "---  ------        --------------  -----  \n",
            " 0   Name          380 non-null    object \n",
            " 1   Genre         380 non-null    object \n",
            " 2   EU_Sales      380 non-null    float64\n",
            " 3   Global_Sales  380 non-null    float64\n",
            "dtypes: float64(2), object(2)\n",
            "memory usage: 14.8+ KB\n",
            "None \n",
            "\n",
            "<class 'pandas.core.frame.DataFrame'>\n",
            "Int64Index: 74 entries, 70 to 3132\n",
            "Data columns (total 4 columns):\n",
            " #   Column        Non-Null Count  Dtype  \n",
            "---  ------        --------------  -----  \n",
            " 0   Name          74 non-null     object \n",
            " 1   Genre         74 non-null     object \n",
            " 2   EU_Sales      74 non-null     float64\n",
            " 3   Global_Sales  74 non-null     float64\n",
            "dtypes: float64(2), object(2)\n",
            "memory usage: 2.9+ KB\n",
            "None \n",
            "\n",
            "<class 'pandas.core.frame.DataFrame'>\n",
            "Int64Index: 76 entries, 90 to 3136\n",
            "Data columns (total 4 columns):\n",
            " #   Column        Non-Null Count  Dtype  \n",
            "---  ------        --------------  -----  \n",
            " 0   Name          76 non-null     object \n",
            " 1   Genre         76 non-null     object \n",
            " 2   EU_Sales      76 non-null     float64\n",
            " 3   Global_Sales  76 non-null     float64\n",
            "dtypes: float64(2), object(2)\n",
            "memory usage: 3.0+ KB\n",
            "None \n",
            "\n",
            "<class 'pandas.core.frame.DataFrame'>\n",
            "Int64Index: 124 entries, 57 to 3096\n",
            "Data columns (total 4 columns):\n",
            " #   Column        Non-Null Count  Dtype  \n",
            "---  ------        --------------  -----  \n",
            " 0   Name          124 non-null    object \n",
            " 1   Genre         124 non-null    object \n",
            " 2   EU_Sales      124 non-null    float64\n",
            " 3   Global_Sales  124 non-null    float64\n",
            "dtypes: float64(2), object(2)\n",
            "memory usage: 4.8+ KB\n",
            "None \n",
            "\n",
            "<class 'pandas.core.frame.DataFrame'>\n",
            "Int64Index: 37 entries, 50 to 3098\n",
            "Data columns (total 4 columns):\n",
            " #   Column        Non-Null Count  Dtype  \n",
            "---  ------        --------------  -----  \n",
            " 0   Name          37 non-null     object \n",
            " 1   Genre         37 non-null     object \n",
            " 2   EU_Sales      37 non-null     float64\n",
            " 3   Global_Sales  37 non-null     float64\n",
            "dtypes: float64(2), object(2)\n",
            "memory usage: 1.4+ KB\n",
            "None \n",
            "\n",
            "<class 'pandas.core.frame.DataFrame'>\n",
            "Int64Index: 3 entries, 1246 to 2744\n",
            "Data columns (total 4 columns):\n",
            " #   Column        Non-Null Count  Dtype  \n",
            "---  ------        --------------  -----  \n",
            " 0   Name          3 non-null      object \n",
            " 1   Genre         3 non-null      object \n",
            " 2   EU_Sales      3 non-null      float64\n",
            " 3   Global_Sales  3 non-null      float64\n",
            "dtypes: float64(2), object(2)\n",
            "memory usage: 120.0+ bytes\n",
            "None \n",
            "\n",
            "<class 'pandas.core.frame.DataFrame'>\n",
            "Int64Index: 92 entries, 14 to 3017\n",
            "Data columns (total 4 columns):\n",
            " #   Column        Non-Null Count  Dtype  \n",
            "---  ------        --------------  -----  \n",
            " 0   Name          92 non-null     object \n",
            " 1   Genre         92 non-null     object \n",
            " 2   EU_Sales      92 non-null     float64\n",
            " 3   Global_Sales  92 non-null     float64\n",
            "dtypes: float64(2), object(2)\n",
            "memory usage: 3.6+ KB\n",
            "None \n",
            "\n",
            "<class 'pandas.core.frame.DataFrame'>\n",
            "Int64Index: 119 entries, 41 to 3100\n",
            "Data columns (total 4 columns):\n",
            " #   Column        Non-Null Count  Dtype  \n",
            "---  ------        --------------  -----  \n",
            " 0   Name          119 non-null    object \n",
            " 1   Genre         119 non-null    object \n",
            " 2   EU_Sales      119 non-null    float64\n",
            " 3   Global_Sales  119 non-null    float64\n",
            "dtypes: float64(2), object(2)\n",
            "memory usage: 4.6+ KB\n",
            "None \n",
            "\n",
            "<class 'pandas.core.frame.DataFrame'>\n",
            "Int64Index: 156 entries, 6 to 3085\n",
            "Data columns (total 4 columns):\n",
            " #   Column        Non-Null Count  Dtype  \n",
            "---  ------        --------------  -----  \n",
            " 0   Name          156 non-null    object \n",
            " 1   Genre         156 non-null    object \n",
            " 2   EU_Sales      156 non-null    float64\n",
            " 3   Global_Sales  156 non-null    float64\n",
            "dtypes: float64(2), object(2)\n",
            "memory usage: 6.1+ KB\n",
            "None \n",
            "\n",
            "<class 'pandas.core.frame.DataFrame'>\n",
            "Int64Index: 31 entries, 262 to 3129\n",
            "Data columns (total 4 columns):\n",
            " #   Column        Non-Null Count  Dtype  \n",
            "---  ------        --------------  -----  \n",
            " 0   Name          31 non-null     object \n",
            " 1   Genre         31 non-null     object \n",
            " 2   EU_Sales      31 non-null     float64\n",
            " 3   Global_Sales  31 non-null     float64\n",
            "dtypes: float64(2), object(2)\n",
            "memory usage: 1.2+ KB\n",
            "None \n",
            "\n",
            "<class 'pandas.core.frame.DataFrame'>\n",
            "Int64Index: 213 entries, 33 to 3107\n",
            "Data columns (total 4 columns):\n",
            " #   Column        Non-Null Count  Dtype  \n",
            "---  ------        --------------  -----  \n",
            " 0   Name          213 non-null    object \n",
            " 1   Genre         213 non-null    object \n",
            " 2   EU_Sales      213 non-null    float64\n",
            " 3   Global_Sales  213 non-null    float64\n",
            "dtypes: float64(2), object(2)\n",
            "memory usage: 8.3+ KB\n",
            "None \n",
            "\n",
            "<class 'pandas.core.frame.DataFrame'>\n",
            "Int64Index: 24 entries, 774 to 3057\n",
            "Data columns (total 4 columns):\n",
            " #   Column        Non-Null Count  Dtype  \n",
            "---  ------        --------------  -----  \n",
            " 0   Name          24 non-null     object \n",
            " 1   Genre         24 non-null     object \n",
            " 2   EU_Sales      24 non-null     float64\n",
            " 3   Global_Sales  24 non-null     float64\n",
            "dtypes: float64(2), object(2)\n",
            "memory usage: 960.0+ bytes\n",
            "None \n",
            "\n"
          ],
          "name": "stdout"
        },
        {
          "output_type": "execute_result",
          "data": {
            "text/html": [
              "<div>\n",
              "<style scoped>\n",
              "    .dataframe tbody tr th:only-of-type {\n",
              "        vertical-align: middle;\n",
              "    }\n",
              "\n",
              "    .dataframe tbody tr th {\n",
              "        vertical-align: top;\n",
              "    }\n",
              "\n",
              "    .dataframe thead th {\n",
              "        text-align: right;\n",
              "    }\n",
              "</style>\n",
              "<table border=\"1\" class=\"dataframe\">\n",
              "  <thead>\n",
              "    <tr style=\"text-align: right;\">\n",
              "      <th></th>\n",
              "    </tr>\n",
              "  </thead>\n",
              "  <tbody>\n",
              "  </tbody>\n",
              "</table>\n",
              "</div>"
            ],
            "text/plain": [
              "Empty DataFrame\n",
              "Columns: []\n",
              "Index: []"
            ]
          },
          "metadata": {
            "tags": []
          },
          "execution_count": 120
        }
      ]
    },
    {
      "cell_type": "markdown",
      "metadata": {
        "id": "folpV90opsuv",
        "colab_type": "text"
      },
      "source": [
        "#### Skill Challenge"
      ]
    },
    {
      "cell_type": "markdown",
      "metadata": {
        "id": "ALluvQgKqMw-",
        "colab_type": "text"
      },
      "source": [
        "###### **1.** "
      ]
    },
    {
      "cell_type": "markdown",
      "metadata": {
        "id": "rUCNk7-kqPjQ",
        "colab_type": "text"
      },
      "source": [
        "Starting with the games dataframe, calculate the total global sales (*Global_Sales*) across for each year (*Year*) across all records. What are the top 3 years by aggregate global sales?"
      ]
    },
    {
      "cell_type": "markdown",
      "metadata": {
        "id": "Wlg4AobVqPu2",
        "colab_type": "text"
      },
      "source": [
        "###### **2.**"
      ]
    },
    {
      "cell_type": "markdown",
      "metadata": {
        "id": "xVKbWcBMqREq",
        "colab_type": "text"
      },
      "source": [
        "In the *games* dataframe, what *Genre*, in what *Year*, in what *Platform* sold the most in Europe (*EU_Sales*)?"
      ]
    },
    {
      "cell_type": "markdown",
      "metadata": {
        "id": "gilyV6_aqROd",
        "colab_type": "text"
      },
      "source": [
        "###### 🔥 **3.**"
      ]
    },
    {
      "cell_type": "markdown",
      "metadata": {
        "id": "QAI8EQutqSRS",
        "colab_type": "text"
      },
      "source": [
        "Find all the *Names* in the *games* dataset whose *Genre* in their respective *Platform* sold more in Japan (*JP_Sales*) than in Europe (*EU_Sales*)."
      ]
    },
    {
      "cell_type": "markdown",
      "metadata": {
        "id": "in7PimoLsKCV",
        "colab_type": "text"
      },
      "source": [
        "#### Solution"
      ]
    },
    {
      "cell_type": "code",
      "metadata": {
        "id": "ap8hrD6-sLTl",
        "colab_type": "code",
        "colab": {}
      },
      "source": [
        "# 1"
      ],
      "execution_count": null,
      "outputs": []
    },
    {
      "cell_type": "code",
      "metadata": {
        "id": "DQlg0ri0sLWL",
        "colab_type": "code",
        "colab": {
          "base_uri": "https://localhost:8080/",
          "height": 104
        },
        "outputId": "dc3e49c9-2765-409e-b8fe-d6486defea57"
      },
      "source": [
        "games.groupby('Year').sum()['Global_Sales'].nlargest(3)"
      ],
      "execution_count": null,
      "outputs": [
        {
          "output_type": "execute_result",
          "data": {
            "text/plain": [
              "Year\n",
              "2010.0    315.47\n",
              "2011.0    304.49\n",
              "2008.0    255.45\n",
              "Name: Global_Sales, dtype: float64"
            ]
          },
          "metadata": {
            "tags": []
          },
          "execution_count": 124
        }
      ]
    },
    {
      "cell_type": "code",
      "metadata": {
        "id": "YH2HRHVRsio7",
        "colab_type": "code",
        "colab": {}
      },
      "source": [
        "# 2"
      ],
      "execution_count": null,
      "outputs": []
    },
    {
      "cell_type": "code",
      "metadata": {
        "id": "PDLznsLAsxhW",
        "colab_type": "code",
        "colab": {
          "base_uri": "https://localhost:8080/",
          "height": 69
        },
        "outputId": "96a77b41-1e37-49e9-cf35-747ae2556064"
      },
      "source": [
        "games.groupby(['Genre', 'Year', 'Platform']).sum()['EU_Sales'].nlargest(1)"
      ],
      "execution_count": null,
      "outputs": [
        {
          "output_type": "execute_result",
          "data": {
            "text/plain": [
              "Genre   Year    Platform\n",
              "Action  2013.0  PS3         21.72\n",
              "Name: EU_Sales, dtype: float64"
            ]
          },
          "metadata": {
            "tags": []
          },
          "execution_count": 127
        }
      ]
    },
    {
      "cell_type": "code",
      "metadata": {
        "id": "zuI00wcAs4iV",
        "colab_type": "code",
        "colab": {}
      },
      "source": [
        "# 3"
      ],
      "execution_count": null,
      "outputs": []
    },
    {
      "cell_type": "code",
      "metadata": {
        "id": "0oVSJDHStFQk",
        "colab_type": "code",
        "colab": {
          "base_uri": "https://localhost:8080/",
          "height": 206
        },
        "outputId": "e1494ba4-bd3c-421c-ecd3-73a873550004"
      },
      "source": [
        "games.groupby(['Platform', 'Genre']).filter(lambda x: x['JP_Sales'].sum() > x.NA_Sales.sum())"
      ],
      "execution_count": null,
      "outputs": [
        {
          "output_type": "execute_result",
          "data": {
            "text/html": [
              "<div>\n",
              "<style scoped>\n",
              "    .dataframe tbody tr th:only-of-type {\n",
              "        vertical-align: middle;\n",
              "    }\n",
              "\n",
              "    .dataframe tbody tr th {\n",
              "        vertical-align: top;\n",
              "    }\n",
              "\n",
              "    .dataframe thead th {\n",
              "        text-align: right;\n",
              "    }\n",
              "</style>\n",
              "<table border=\"1\" class=\"dataframe\">\n",
              "  <thead>\n",
              "    <tr style=\"text-align: right;\">\n",
              "      <th></th>\n",
              "      <th>Name</th>\n",
              "      <th>Platform</th>\n",
              "      <th>Year</th>\n",
              "      <th>Genre</th>\n",
              "      <th>Publisher</th>\n",
              "      <th>NA_Sales</th>\n",
              "      <th>EU_Sales</th>\n",
              "      <th>JP_Sales</th>\n",
              "      <th>Other_Sales</th>\n",
              "      <th>Global_Sales</th>\n",
              "    </tr>\n",
              "  </thead>\n",
              "  <tbody>\n",
              "    <tr>\n",
              "      <th>1373</th>\n",
              "      <td>Farming Simulator 2015</td>\n",
              "      <td>PS4</td>\n",
              "      <td>2015.0</td>\n",
              "      <td>Simulation</td>\n",
              "      <td>Koch Media</td>\n",
              "      <td>0.10</td>\n",
              "      <td>0.20</td>\n",
              "      <td>0.00</td>\n",
              "      <td>0.05</td>\n",
              "      <td>0.35</td>\n",
              "    </tr>\n",
              "    <tr>\n",
              "      <th>1490</th>\n",
              "      <td>Tropico 5</td>\n",
              "      <td>PS4</td>\n",
              "      <td>2015.0</td>\n",
              "      <td>Simulation</td>\n",
              "      <td>Kalypso Media</td>\n",
              "      <td>0.05</td>\n",
              "      <td>0.16</td>\n",
              "      <td>0.05</td>\n",
              "      <td>0.04</td>\n",
              "      <td>0.30</td>\n",
              "    </tr>\n",
              "    <tr>\n",
              "      <th>2420</th>\n",
              "      <td>The Idolmaster: Platinum Stars</td>\n",
              "      <td>PS4</td>\n",
              "      <td>2016.0</td>\n",
              "      <td>Simulation</td>\n",
              "      <td>Namco Bandai Games</td>\n",
              "      <td>0.00</td>\n",
              "      <td>0.00</td>\n",
              "      <td>0.09</td>\n",
              "      <td>0.00</td>\n",
              "      <td>0.09</td>\n",
              "    </tr>\n",
              "    <tr>\n",
              "      <th>3021</th>\n",
              "      <td>Winning Post 8 2016</td>\n",
              "      <td>PS4</td>\n",
              "      <td>2016.0</td>\n",
              "      <td>Simulation</td>\n",
              "      <td>Tecmo Koei</td>\n",
              "      <td>0.00</td>\n",
              "      <td>0.00</td>\n",
              "      <td>0.02</td>\n",
              "      <td>0.00</td>\n",
              "      <td>0.02</td>\n",
              "    </tr>\n",
              "    <tr>\n",
              "      <th>3141</th>\n",
              "      <td>Farming 2017 - The Simulation</td>\n",
              "      <td>PS4</td>\n",
              "      <td>2016.0</td>\n",
              "      <td>Simulation</td>\n",
              "      <td>UIG Entertainment</td>\n",
              "      <td>0.00</td>\n",
              "      <td>0.01</td>\n",
              "      <td>0.00</td>\n",
              "      <td>0.00</td>\n",
              "      <td>0.01</td>\n",
              "    </tr>\n",
              "  </tbody>\n",
              "</table>\n",
              "</div>"
            ],
            "text/plain": [
              "                                Name Platform  ...  Other_Sales Global_Sales\n",
              "1373          Farming Simulator 2015      PS4  ...         0.05         0.35\n",
              "1490                       Tropico 5      PS4  ...         0.04         0.30\n",
              "2420  The Idolmaster: Platinum Stars      PS4  ...         0.00         0.09\n",
              "3021             Winning Post 8 2016      PS4  ...         0.00         0.02\n",
              "3141   Farming 2017 - The Simulation      PS4  ...         0.00         0.01\n",
              "\n",
              "[5 rows x 10 columns]"
            ]
          },
          "metadata": {
            "tags": []
          },
          "execution_count": 129
        }
      ]
    },
    {
      "cell_type": "code",
      "metadata": {
        "id": "VpxTzU0ttejx",
        "colab_type": "code",
        "colab": {}
      },
      "source": [
        ""
      ],
      "execution_count": null,
      "outputs": []
    }
  ]
}