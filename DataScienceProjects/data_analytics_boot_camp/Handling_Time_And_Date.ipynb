{
  "nbformat": 4,
  "nbformat_minor": 0,
  "metadata": {
    "colab": {
      "name": "Handling Time And Date",
      "provenance": []
    },
    "kernelspec": {
      "name": "python3",
      "display_name": "Python 3"
    }
  },
  "cells": [
    {
      "cell_type": "code",
      "metadata": {
        "id": "u_M25I3W2HxN",
        "colab_type": "code",
        "colab": {}
      },
      "source": [
        "import pandas as pd\n",
        "import numpy as np"
      ],
      "execution_count": null,
      "outputs": []
    },
    {
      "cell_type": "code",
      "metadata": {
        "id": "-t-uuAfF2J9Q",
        "colab_type": "code",
        "colab": {
          "base_uri": "https://localhost:8080/",
          "height": 34
        },
        "outputId": "9ce96f71-68ea-4cb1-c4bc-ebcadebc9ba2"
      },
      "source": [
        "pd.__version__"
      ],
      "execution_count": null,
      "outputs": [
        {
          "output_type": "execute_result",
          "data": {
            "text/plain": [
              "'1.0.3'"
            ]
          },
          "metadata": {
            "tags": []
          },
          "execution_count": 2
        }
      ]
    },
    {
      "cell_type": "markdown",
      "metadata": {
        "id": "AgEdEKqj2MmW",
        "colab_type": "text"
      },
      "source": [
        "#### The Python datetime Module"
      ]
    },
    {
      "cell_type": "code",
      "metadata": {
        "id": "KIOGpgwF2Uod",
        "colab_type": "code",
        "colab": {}
      },
      "source": [
        "# agenda:\n",
        "#   - the \"what\" and \"why\" of datetime module\n",
        "#   - date class\n",
        "#   - time class\n",
        "#   - the datetime class"
      ],
      "execution_count": null,
      "outputs": []
    },
    {
      "cell_type": "code",
      "metadata": {
        "id": "HuTfyKHX-xJo",
        "colab_type": "code",
        "colab": {}
      },
      "source": [
        "from datetime import date, time, datetime"
      ],
      "execution_count": null,
      "outputs": []
    },
    {
      "cell_type": "code",
      "metadata": {
        "id": "8IVJiIJ6_Nta",
        "colab_type": "code",
        "colab": {}
      },
      "source": [
        "# year - month - day"
      ],
      "execution_count": null,
      "outputs": []
    },
    {
      "cell_type": "code",
      "metadata": {
        "id": "wvebTJkN_bzL",
        "colab_type": "code",
        "colab": {}
      },
      "source": [
        "date_A = date(2020, 4, 25)"
      ],
      "execution_count": null,
      "outputs": []
    },
    {
      "cell_type": "code",
      "metadata": {
        "id": "t1vYKMIY_evR",
        "colab_type": "code",
        "colab": {
          "base_uri": "https://localhost:8080/"
        },
        "outputId": "e5e68ab3-41e1-445c-f24b-c048755b3782"
      },
      "source": [
        "date_A"
      ],
      "execution_count": null,
      "outputs": [
        {
          "output_type": "execute_result",
          "data": {
            "text/plain": [
              "datetime.date(2020, 4, 25)"
            ]
          },
          "metadata": {
            "tags": []
          },
          "execution_count": 7
        }
      ]
    },
    {
      "cell_type": "code",
      "metadata": {
        "id": "AzAnqZpW_fYF",
        "colab_type": "code",
        "colab": {
          "base_uri": "https://localhost:8080/"
        },
        "outputId": "f84baa5c-b61d-4133-ff6f-904269d47b09"
      },
      "source": [
        "type(date_A)"
      ],
      "execution_count": null,
      "outputs": [
        {
          "output_type": "execute_result",
          "data": {
            "text/plain": [
              "datetime.date"
            ]
          },
          "metadata": {
            "tags": []
          },
          "execution_count": 8
        }
      ]
    },
    {
      "cell_type": "code",
      "metadata": {
        "id": "8PcYAuLI_g8a",
        "colab_type": "code",
        "colab": {}
      },
      "source": [
        "A = \"2020, 4, 25\""
      ],
      "execution_count": null,
      "outputs": []
    },
    {
      "cell_type": "code",
      "metadata": {
        "id": "Kgoz1eCq_nGH",
        "colab_type": "code",
        "colab": {
          "base_uri": "https://localhost:8080/"
        },
        "outputId": "3cebfc59-6b15-47bb-9fb2-4a53cedfa9be"
      },
      "source": [
        "date_A.day"
      ],
      "execution_count": null,
      "outputs": [
        {
          "output_type": "execute_result",
          "data": {
            "text/plain": [
              "25"
            ]
          },
          "metadata": {
            "tags": []
          },
          "execution_count": 10
        }
      ]
    },
    {
      "cell_type": "code",
      "metadata": {
        "id": "ZsaTYvEqAF8T",
        "colab_type": "code",
        "colab": {
          "base_uri": "https://localhost:8080/"
        },
        "outputId": "820051f9-bfbc-406e-8520-bcc57a00b021"
      },
      "source": [
        "date_A.year"
      ],
      "execution_count": null,
      "outputs": [
        {
          "output_type": "execute_result",
          "data": {
            "text/plain": [
              "2020"
            ]
          },
          "metadata": {
            "tags": []
          },
          "execution_count": 11
        }
      ]
    },
    {
      "cell_type": "code",
      "metadata": {
        "id": "Yauu20HiAG6f",
        "colab_type": "code",
        "colab": {}
      },
      "source": [
        "# the time class"
      ],
      "execution_count": null,
      "outputs": []
    },
    {
      "cell_type": "code",
      "metadata": {
        "id": "PwKAdWIPAMT5",
        "colab_type": "code",
        "colab": {}
      },
      "source": [
        "# hour - minute - second - microsecond"
      ],
      "execution_count": null,
      "outputs": []
    },
    {
      "cell_type": "code",
      "metadata": {
        "id": "wFukUjOTARNF",
        "colab_type": "code",
        "colab": {}
      },
      "source": [
        "time_A = time(4, 30 , 12, 943212)"
      ],
      "execution_count": null,
      "outputs": []
    },
    {
      "cell_type": "code",
      "metadata": {
        "id": "alThEla4ATj-",
        "colab_type": "code",
        "colab": {
          "base_uri": "https://localhost:8080/"
        },
        "outputId": "00ca6086-2042-40f6-c497-fb24850fab8c"
      },
      "source": [
        "time_A"
      ],
      "execution_count": null,
      "outputs": [
        {
          "output_type": "execute_result",
          "data": {
            "text/plain": [
              "datetime.time(4, 30, 12, 943212)"
            ]
          },
          "metadata": {
            "tags": []
          },
          "execution_count": 15
        }
      ]
    },
    {
      "cell_type": "code",
      "metadata": {
        "id": "6C4TY5r6AUE7",
        "colab_type": "code",
        "colab": {}
      },
      "source": [
        "time_B = time(6)"
      ],
      "execution_count": null,
      "outputs": []
    },
    {
      "cell_type": "code",
      "metadata": {
        "id": "A69aesW3AZiS",
        "colab_type": "code",
        "colab": {
          "base_uri": "https://localhost:8080/"
        },
        "outputId": "a6af3c12-2db5-46f0-def3-725dd7494e86"
      },
      "source": [
        "time_B"
      ],
      "execution_count": null,
      "outputs": [
        {
          "output_type": "execute_result",
          "data": {
            "text/plain": [
              "datetime.time(6, 0)"
            ]
          },
          "metadata": {
            "tags": []
          },
          "execution_count": 17
        }
      ]
    },
    {
      "cell_type": "code",
      "metadata": {
        "id": "dfXI20bOAaSb",
        "colab_type": "code",
        "colab": {
          "base_uri": "https://localhost:8080/"
        },
        "outputId": "cc2fce2e-94db-41d7-83e8-e2a143ee9fd3"
      },
      "source": [
        "time_A.second"
      ],
      "execution_count": null,
      "outputs": [
        {
          "output_type": "execute_result",
          "data": {
            "text/plain": [
              "12"
            ]
          },
          "metadata": {
            "tags": []
          },
          "execution_count": 18
        }
      ]
    },
    {
      "cell_type": "code",
      "metadata": {
        "id": "0SY3crBxAdP1",
        "colab_type": "code",
        "colab": {
          "base_uri": "https://localhost:8080/"
        },
        "outputId": "bb84efc4-bc3f-45d4-aa7a-b354254c40bc"
      },
      "source": [
        "time_B.microsecond"
      ],
      "execution_count": null,
      "outputs": [
        {
          "output_type": "execute_result",
          "data": {
            "text/plain": [
              "0"
            ]
          },
          "metadata": {
            "tags": []
          },
          "execution_count": 19
        }
      ]
    },
    {
      "cell_type": "code",
      "metadata": {
        "id": "5GLj41EVAeEn",
        "colab_type": "code",
        "colab": {
          "base_uri": "https://localhost:8080/"
        },
        "outputId": "df4011c8-3947-4410-ce39-4638a9e0e57b"
      },
      "source": [
        "time_A.isoformat()"
      ],
      "execution_count": null,
      "outputs": [
        {
          "output_type": "execute_result",
          "data": {
            "text/plain": [
              "'04:30:12.943212'"
            ]
          },
          "metadata": {
            "tags": []
          },
          "execution_count": 20
        }
      ]
    },
    {
      "cell_type": "code",
      "metadata": {
        "id": "Gmjtt32BAgds",
        "colab_type": "code",
        "colab": {
          "base_uri": "https://localhost:8080/"
        },
        "outputId": "30dfefbc-5781-4de5-af10-ac524db5bfb7"
      },
      "source": [
        "time_A"
      ],
      "execution_count": null,
      "outputs": [
        {
          "output_type": "execute_result",
          "data": {
            "text/plain": [
              "datetime.time(4, 30, 12, 943212)"
            ]
          },
          "metadata": {
            "tags": []
          },
          "execution_count": 21
        }
      ]
    },
    {
      "cell_type": "code",
      "metadata": {
        "id": "OpPvx1K6AhS_",
        "colab_type": "code",
        "colab": {}
      },
      "source": [
        "# the datetime class"
      ],
      "execution_count": null,
      "outputs": []
    },
    {
      "cell_type": "code",
      "metadata": {
        "id": "ttqOEVqkAt4y",
        "colab_type": "code",
        "colab": {}
      },
      "source": [
        "dt_A = datetime(2020, 4, 25, 19, 1, 23, 123123)"
      ],
      "execution_count": null,
      "outputs": []
    },
    {
      "cell_type": "code",
      "metadata": {
        "id": "frj_vC7_AxV9",
        "colab_type": "code",
        "colab": {
          "base_uri": "https://localhost:8080/"
        },
        "outputId": "8e3311ff-b17e-4d52-92e8-00dcc307e54c"
      },
      "source": [
        "dt_A"
      ],
      "execution_count": null,
      "outputs": [
        {
          "output_type": "execute_result",
          "data": {
            "text/plain": [
              "datetime.datetime(2020, 4, 25, 19, 1, 23, 123123)"
            ]
          },
          "metadata": {
            "tags": []
          },
          "execution_count": 24
        }
      ]
    },
    {
      "cell_type": "code",
      "metadata": {
        "id": "9xigHpDrAx5O",
        "colab_type": "code",
        "colab": {
          "base_uri": "https://localhost:8080/"
        },
        "outputId": "69f22435-3ad6-46db-8f6d-81945d1e76d7"
      },
      "source": [
        "type(dt_A)"
      ],
      "execution_count": null,
      "outputs": [
        {
          "output_type": "execute_result",
          "data": {
            "text/plain": [
              "datetime.datetime"
            ]
          },
          "metadata": {
            "tags": []
          },
          "execution_count": 25
        }
      ]
    },
    {
      "cell_type": "code",
      "metadata": {
        "id": "0A4-XavZAysq",
        "colab_type": "code",
        "colab": {
          "base_uri": "https://localhost:8080/"
        },
        "outputId": "47b592b7-de96-42c3-8e6b-5a9d19c28d3c"
      },
      "source": [
        "datetime.now()"
      ],
      "execution_count": null,
      "outputs": [
        {
          "output_type": "execute_result",
          "data": {
            "text/plain": [
              "datetime.datetime(2020, 4, 25, 22, 11, 27, 585602)"
            ]
          },
          "metadata": {
            "tags": []
          },
          "execution_count": 26
        }
      ]
    },
    {
      "cell_type": "code",
      "metadata": {
        "id": "HzukdQhvA7RX",
        "colab_type": "code",
        "colab": {
          "base_uri": "https://localhost:8080/"
        },
        "outputId": "ec4c3235-25bd-4a61-8d1f-33215bd0831c"
      },
      "source": [
        "dt_A.year"
      ],
      "execution_count": null,
      "outputs": [
        {
          "output_type": "execute_result",
          "data": {
            "text/plain": [
              "2020"
            ]
          },
          "metadata": {
            "tags": []
          },
          "execution_count": 27
        }
      ]
    },
    {
      "cell_type": "code",
      "metadata": {
        "id": "G6MRBb-zBBlf",
        "colab_type": "code",
        "colab": {
          "base_uri": "https://localhost:8080/"
        },
        "outputId": "e26142db-6927-40ee-d0c9-3a0fd59e752f"
      },
      "source": [
        "dt_A.microsecond"
      ],
      "execution_count": null,
      "outputs": [
        {
          "output_type": "execute_result",
          "data": {
            "text/plain": [
              "123123"
            ]
          },
          "metadata": {
            "tags": []
          },
          "execution_count": 28
        }
      ]
    },
    {
      "cell_type": "code",
      "metadata": {
        "id": "C1DyrDNoBCyl",
        "colab_type": "code",
        "colab": {
          "base_uri": "https://localhost:8080/"
        },
        "outputId": "241a11d1-c54a-4efa-a430-925d0789a876"
      },
      "source": [
        "print(dt_A)"
      ],
      "execution_count": null,
      "outputs": [
        {
          "output_type": "stream",
          "text": [
            "2020-04-25 19:01:23.123123\n"
          ],
          "name": "stdout"
        }
      ]
    },
    {
      "cell_type": "code",
      "metadata": {
        "id": "Ns6awddXBEvE",
        "colab_type": "code",
        "colab": {
          "base_uri": "https://localhost:8080/"
        },
        "outputId": "50729fcd-10bb-4b0a-df78-c07e8b8bcf28"
      },
      "source": [
        "dt_A"
      ],
      "execution_count": null,
      "outputs": [
        {
          "output_type": "execute_result",
          "data": {
            "text/plain": [
              "datetime.datetime(2020, 4, 25, 19, 1, 23, 123123)"
            ]
          },
          "metadata": {
            "tags": []
          },
          "execution_count": 30
        }
      ]
    },
    {
      "cell_type": "markdown",
      "metadata": {
        "id": "M20z38_EBGWt",
        "colab_type": "text"
      },
      "source": [
        "#### Parsing Dates From Text"
      ]
    },
    {
      "cell_type": "code",
      "metadata": {
        "id": "oaQGnxiwDzVW",
        "colab_type": "code",
        "colab": {}
      },
      "source": [
        "# what if we don't have date objects?"
      ],
      "execution_count": null,
      "outputs": []
    },
    {
      "cell_type": "code",
      "metadata": {
        "id": "OkTdaQSyEKGl",
        "colab_type": "code",
        "colab": {}
      },
      "source": [
        "# datetime -> strptime (string parse time)"
      ],
      "execution_count": null,
      "outputs": []
    },
    {
      "cell_type": "code",
      "metadata": {
        "id": "P53goESkHm89",
        "colab_type": "code",
        "colab": {}
      },
      "source": [
        "# '2019-10-31'.year"
      ],
      "execution_count": null,
      "outputs": []
    },
    {
      "cell_type": "code",
      "metadata": {
        "id": "fPC3QHTmHPq0",
        "colab_type": "code",
        "colab": {}
      },
      "source": [
        "dt_B = datetime.strptime('2019-10-31', '%Y-%m-%d')"
      ],
      "execution_count": null,
      "outputs": []
    },
    {
      "cell_type": "code",
      "metadata": {
        "id": "Ih6Vzz5xHdFC",
        "colab_type": "code",
        "colab": {
          "base_uri": "https://localhost:8080/"
        },
        "outputId": "bcd6fc3e-f0f8-4247-b342-28bb0a92eb1d"
      },
      "source": [
        "dt_B.year"
      ],
      "execution_count": null,
      "outputs": [
        {
          "output_type": "execute_result",
          "data": {
            "text/plain": [
              "2019"
            ]
          },
          "metadata": {
            "tags": []
          },
          "execution_count": 35
        }
      ]
    },
    {
      "cell_type": "code",
      "metadata": {
        "id": "RtqzumcnHiWs",
        "colab_type": "code",
        "colab": {
          "base_uri": "https://localhost:8080/"
        },
        "outputId": "ad03fcee-61fd-4be0-ecf8-5116e64b2b74"
      },
      "source": [
        "dt_B.isoformat()"
      ],
      "execution_count": null,
      "outputs": [
        {
          "output_type": "execute_result",
          "data": {
            "text/plain": [
              "'2019-10-31T00:00:00'"
            ]
          },
          "metadata": {
            "tags": []
          },
          "execution_count": 36
        }
      ]
    },
    {
      "cell_type": "code",
      "metadata": {
        "id": "lUXdVBNVHjla",
        "colab_type": "code",
        "colab": {}
      },
      "source": [
        "# another example"
      ],
      "execution_count": null,
      "outputs": []
    },
    {
      "cell_type": "code",
      "metadata": {
        "id": "fLAN636EINat",
        "colab_type": "code",
        "colab": {}
      },
      "source": [
        "try_this = \"jan 20 2090; 4pm\""
      ],
      "execution_count": null,
      "outputs": []
    },
    {
      "cell_type": "code",
      "metadata": {
        "id": "39D700SDIQ36",
        "colab_type": "code",
        "colab": {
          "base_uri": "https://localhost:8080/"
        },
        "outputId": "be8d53c2-4413-4261-81ed-9ac8e981ae28"
      },
      "source": [
        "datetime.strptime(try_this, '%b %d %Y; %I%p')"
      ],
      "execution_count": null,
      "outputs": [
        {
          "output_type": "execute_result",
          "data": {
            "text/plain": [
              "datetime.datetime(2090, 1, 20, 16, 0)"
            ]
          },
          "metadata": {
            "tags": []
          },
          "execution_count": 39
        }
      ]
    },
    {
      "cell_type": "markdown",
      "metadata": {
        "id": "cliN1D4lIY4V",
        "colab_type": "text"
      },
      "source": [
        "#### Even Better: dateutil"
      ]
    },
    {
      "cell_type": "code",
      "metadata": {
        "id": "ljvqK08nL98x",
        "colab_type": "code",
        "colab": {
          "base_uri": "https://localhost:8080/"
        },
        "outputId": "df2e860f-b1f9-4f4b-c123-e94dde6fb906"
      },
      "source": [
        "!pip show python-dateutil"
      ],
      "execution_count": null,
      "outputs": [
        {
          "output_type": "stream",
          "text": [
            "Name: python-dateutil\n",
            "Version: 2.8.1\n",
            "Summary: Extensions to the standard Python datetime module\n",
            "Home-page: https://dateutil.readthedocs.io\n",
            "Author: Gustavo Niemeyer\n",
            "Author-email: gustavo@niemeyer.net\n",
            "License: Dual License\n",
            "Location: /usr/local/lib/python3.6/dist-packages\n",
            "Requires: six\n",
            "Required-by: pandas, matplotlib, LunarCalendar, kaggle, jupyter-client, holidays, fbprophet, botocore, bokeh\n"
          ],
          "name": "stdout"
        }
      ]
    },
    {
      "cell_type": "code",
      "metadata": {
        "id": "mzzWzYp_NIkU",
        "colab_type": "code",
        "colab": {
          "base_uri": "https://localhost:8080/"
        },
        "outputId": "51296950-96a1-4a1e-b004-110548d7218b"
      },
      "source": [
        "!pip install python-dateutil"
      ],
      "execution_count": null,
      "outputs": [
        {
          "output_type": "stream",
          "text": [
            "Requirement already satisfied: python-dateutil in /usr/local/lib/python3.6/dist-packages (2.8.1)\n",
            "Requirement already satisfied: six>=1.5 in /usr/local/lib/python3.6/dist-packages (from python-dateutil) (1.12.0)\n"
          ],
          "name": "stdout"
        }
      ]
    },
    {
      "cell_type": "code",
      "metadata": {
        "id": "xcvpS233NPJB",
        "colab_type": "code",
        "colab": {}
      },
      "source": [
        "from dateutil import parser"
      ],
      "execution_count": null,
      "outputs": []
    },
    {
      "cell_type": "code",
      "metadata": {
        "id": "kO9BXL8BNVd8",
        "colab_type": "code",
        "colab": {
          "base_uri": "https://localhost:8080/"
        },
        "outputId": "ae98f01b-b784-48f3-d9f6-cdb58c940844"
      },
      "source": [
        "parser.parse('jan 21st 1990')"
      ],
      "execution_count": null,
      "outputs": [
        {
          "output_type": "execute_result",
          "data": {
            "text/plain": [
              "datetime.datetime(1990, 1, 21, 0, 0)"
            ]
          },
          "metadata": {
            "tags": []
          },
          "execution_count": 43
        }
      ]
    },
    {
      "cell_type": "code",
      "metadata": {
        "id": "y49c_yHqNcCR",
        "colab_type": "code",
        "colab": {
          "base_uri": "https://localhost:8080/"
        },
        "outputId": "0911ae00-ee7c-44c2-e335-ae4e6efbb26b"
      },
      "source": [
        "parser.parse('22 april 2068 at 4pm and 17minutes;; 20 seconds')"
      ],
      "execution_count": null,
      "outputs": [
        {
          "output_type": "execute_result",
          "data": {
            "text/plain": [
              "datetime.datetime(2068, 4, 22, 16, 17, 20)"
            ]
          },
          "metadata": {
            "tags": []
          },
          "execution_count": 44
        }
      ]
    },
    {
      "cell_type": "markdown",
      "metadata": {
        "id": "UmPLY272NkVP",
        "colab_type": "text"
      },
      "source": [
        "#### From Datetime To String"
      ]
    },
    {
      "cell_type": "code",
      "metadata": {
        "id": "VbNXNyUSOhv9",
        "colab_type": "code",
        "colab": {}
      },
      "source": [
        "#  convert text to dates:\n",
        "  #  - datetime strptime()\n",
        "  #  - datetutil parse()"
      ],
      "execution_count": null,
      "outputs": []
    },
    {
      "cell_type": "code",
      "metadata": {
        "id": "CNNbOvSTT0MK",
        "colab_type": "code",
        "colab": {}
      },
      "source": [
        "# the strftime()"
      ],
      "execution_count": null,
      "outputs": []
    },
    {
      "cell_type": "code",
      "metadata": {
        "id": "gQb03OhlT1P-",
        "colab_type": "code",
        "colab": {}
      },
      "source": [
        "dt = datetime.now()"
      ],
      "execution_count": null,
      "outputs": []
    },
    {
      "cell_type": "code",
      "metadata": {
        "id": "xNqurafaT9r_",
        "colab_type": "code",
        "colab": {
          "base_uri": "https://localhost:8080/"
        },
        "outputId": "282e925e-cc6c-42c8-9b6c-667f1a1dd202"
      },
      "source": [
        "dt"
      ],
      "execution_count": null,
      "outputs": [
        {
          "output_type": "execute_result",
          "data": {
            "text/plain": [
              "datetime.datetime(2020, 4, 25, 22, 11, 36, 218645)"
            ]
          },
          "metadata": {
            "tags": []
          },
          "execution_count": 48
        }
      ]
    },
    {
      "cell_type": "code",
      "metadata": {
        "id": "DLxG5iYfT-Ak",
        "colab_type": "code",
        "colab": {
          "base_uri": "https://localhost:8080/"
        },
        "outputId": "3ecf7ae8-732e-4b0b-ffec-41bfe9c101d3"
      },
      "source": [
        "dt.strftime('%Y')"
      ],
      "execution_count": null,
      "outputs": [
        {
          "output_type": "execute_result",
          "data": {
            "text/plain": [
              "'2020'"
            ]
          },
          "metadata": {
            "tags": []
          },
          "execution_count": 49
        }
      ]
    },
    {
      "cell_type": "code",
      "metadata": {
        "id": "UaAU8WhkUEe5",
        "colab_type": "code",
        "colab": {
          "base_uri": "https://localhost:8080/"
        },
        "outputId": "0f2836d9-6220-4ce7-e398-bbc791ce1449"
      },
      "source": [
        "dt.strftime('Year: %Y; Month: %m; Day: %d')"
      ],
      "execution_count": null,
      "outputs": [
        {
          "output_type": "execute_result",
          "data": {
            "text/plain": [
              "'Year: 2020; Month: 04; Day: 25'"
            ]
          },
          "metadata": {
            "tags": []
          },
          "execution_count": 50
        }
      ]
    },
    {
      "cell_type": "code",
      "metadata": {
        "id": "fucapHXZUQGR",
        "colab_type": "code",
        "colab": {
          "base_uri": "https://localhost:8080/"
        },
        "outputId": "0abfe8c9-bcf3-4bd3-88b9-e3d6f98a0d70"
      },
      "source": [
        "dt.strftime('%c')"
      ],
      "execution_count": null,
      "outputs": [
        {
          "output_type": "execute_result",
          "data": {
            "text/plain": [
              "'Sat Apr 25 22:11:36 2020'"
            ]
          },
          "metadata": {
            "tags": []
          },
          "execution_count": 51
        }
      ]
    },
    {
      "cell_type": "code",
      "metadata": {
        "id": "vJhy1qwIUeqd",
        "colab_type": "code",
        "colab": {}
      },
      "source": [
        "# an alternative approach:"
      ],
      "execution_count": null,
      "outputs": []
    },
    {
      "cell_type": "code",
      "metadata": {
        "id": "AxPBzQeQUkcL",
        "colab_type": "code",
        "colab": {
          "base_uri": "https://localhost:8080/"
        },
        "outputId": "699f02aa-21a9-4233-a77f-ade98b7e1b80"
      },
      "source": [
        "\"My date is {:%c}\""
      ],
      "execution_count": null,
      "outputs": [
        {
          "output_type": "execute_result",
          "data": {
            "text/plain": [
              "'My date is {:%c}'"
            ]
          },
          "metadata": {
            "tags": []
          },
          "execution_count": 53
        }
      ]
    },
    {
      "cell_type": "code",
      "metadata": {
        "id": "RNhZs2tgUoDY",
        "colab_type": "code",
        "colab": {
          "base_uri": "https://localhost:8080/"
        },
        "outputId": "499c81e8-f5ef-4a33-ba86-058135117597"
      },
      "source": [
        "\"My date is {:%c}\".format(dt)"
      ],
      "execution_count": null,
      "outputs": [
        {
          "output_type": "execute_result",
          "data": {
            "text/plain": [
              "'My date is Sat Apr 25 22:11:36 2020'"
            ]
          },
          "metadata": {
            "tags": []
          },
          "execution_count": 54
        }
      ]
    },
    {
      "cell_type": "markdown",
      "metadata": {
        "id": "jHYXtz5jUyZF",
        "colab_type": "text"
      },
      "source": [
        "#### Performant Datetimes With Numpy"
      ]
    },
    {
      "cell_type": "code",
      "metadata": {
        "id": "z3qxsPiTbxUV",
        "colab_type": "code",
        "colab": {}
      },
      "source": [
        "# previously: python time, date, datetime from datetime module"
      ],
      "execution_count": null,
      "outputs": []
    },
    {
      "cell_type": "code",
      "metadata": {
        "id": "TXQQ7DsfViQO",
        "colab_type": "code",
        "colab": {}
      },
      "source": [
        "# agenda:\n",
        "  # - the numpy datetime64 \n",
        "  # - tradeoff between precision and span\n",
        "  # - vectorized operation on arrays of dates"
      ],
      "execution_count": null,
      "outputs": []
    },
    {
      "cell_type": "code",
      "metadata": {
        "id": "vnRmcRr0cKAL",
        "colab_type": "code",
        "colab": {}
      },
      "source": [
        "a = np.datetime64('2020-03-04')"
      ],
      "execution_count": null,
      "outputs": []
    },
    {
      "cell_type": "code",
      "metadata": {
        "id": "hZ3MlTbacdcL",
        "colab_type": "code",
        "colab": {}
      },
      "source": [
        "b = np.datetime64(datetime.now())"
      ],
      "execution_count": null,
      "outputs": []
    },
    {
      "cell_type": "code",
      "metadata": {
        "id": "_bFBHKT3cn3U",
        "colab_type": "code",
        "colab": {
          "base_uri": "https://localhost:8080/"
        },
        "outputId": "ff234341-a820-40fa-d520-844813f14bac"
      },
      "source": [
        "a"
      ],
      "execution_count": null,
      "outputs": [
        {
          "output_type": "execute_result",
          "data": {
            "text/plain": [
              "numpy.datetime64('2020-03-04')"
            ]
          },
          "metadata": {
            "tags": []
          },
          "execution_count": 59
        }
      ]
    },
    {
      "cell_type": "code",
      "metadata": {
        "id": "2Rx9zHtvcqkt",
        "colab_type": "code",
        "colab": {
          "base_uri": "https://localhost:8080/"
        },
        "outputId": "feab6210-26c2-42ed-ec5b-d83312334280"
      },
      "source": [
        "a+10"
      ],
      "execution_count": null,
      "outputs": [
        {
          "output_type": "execute_result",
          "data": {
            "text/plain": [
              "numpy.datetime64('2020-03-14')"
            ]
          },
          "metadata": {
            "tags": []
          },
          "execution_count": 60
        }
      ]
    },
    {
      "cell_type": "code",
      "metadata": {
        "id": "3uSPSHtBcr2k",
        "colab_type": "code",
        "colab": {
          "base_uri": "https://localhost:8080/"
        },
        "outputId": "faa99253-b6a5-4552-fa2b-0be8ec240a20"
      },
      "source": [
        "b"
      ],
      "execution_count": null,
      "outputs": [
        {
          "output_type": "execute_result",
          "data": {
            "text/plain": [
              "numpy.datetime64('2020-04-25T22:11:36.320528')"
            ]
          },
          "metadata": {
            "tags": []
          },
          "execution_count": 61
        }
      ]
    },
    {
      "cell_type": "code",
      "metadata": {
        "id": "RRrzeOwOcxEX",
        "colab_type": "code",
        "colab": {
          "base_uri": "https://localhost:8080/"
        },
        "outputId": "5eadfa86-5347-4e2a-c71f-4943ecbc906f"
      },
      "source": [
        "b + 10"
      ],
      "execution_count": null,
      "outputs": [
        {
          "output_type": "execute_result",
          "data": {
            "text/plain": [
              "numpy.datetime64('2020-04-25T22:11:36.320538')"
            ]
          },
          "metadata": {
            "tags": []
          },
          "execution_count": 62
        }
      ]
    },
    {
      "cell_type": "code",
      "metadata": {
        "id": "7oOuN5Oqc0K0",
        "colab_type": "code",
        "colab": {
          "base_uri": "https://localhost:8080/"
        },
        "outputId": "767c4044-51d4-4b05-8f2b-93d38cb555b3"
      },
      "source": [
        "np.datetime64(b, 'D') + 10"
      ],
      "execution_count": null,
      "outputs": [
        {
          "output_type": "execute_result",
          "data": {
            "text/plain": [
              "numpy.datetime64('2020-05-05')"
            ]
          },
          "metadata": {
            "tags": []
          },
          "execution_count": 63
        }
      ]
    },
    {
      "cell_type": "code",
      "metadata": {
        "id": "BMugs-ILdJl-",
        "colab_type": "code",
        "colab": {}
      },
      "source": [
        "# vectorized ops"
      ],
      "execution_count": null,
      "outputs": []
    },
    {
      "cell_type": "code",
      "metadata": {
        "id": "CwPsKa4AdbAz",
        "colab_type": "code",
        "colab": {}
      },
      "source": [
        "dates = np.array([\n",
        "          '2019-02-20',\n",
        "          '2019-06-20',\n",
        "          '2090-03-23'\n",
        "], dtype=np.datetime64)"
      ],
      "execution_count": null,
      "outputs": []
    },
    {
      "cell_type": "code",
      "metadata": {
        "id": "msNw0kj-djx4",
        "colab_type": "code",
        "colab": {
          "base_uri": "https://localhost:8080/"
        },
        "outputId": "26f8fac6-40e6-4416-e817-49205d88e722"
      },
      "source": [
        "dates - 10"
      ],
      "execution_count": null,
      "outputs": [
        {
          "output_type": "execute_result",
          "data": {
            "text/plain": [
              "array(['2019-02-10', '2019-06-10', '2090-03-13'], dtype='datetime64[D]')"
            ]
          },
          "metadata": {
            "tags": []
          },
          "execution_count": 66
        }
      ]
    },
    {
      "cell_type": "code",
      "metadata": {
        "id": "tj_FX-svdsHj",
        "colab_type": "code",
        "colab": {}
      },
      "source": [
        "# ...what about business days"
      ],
      "execution_count": null,
      "outputs": []
    },
    {
      "cell_type": "code",
      "metadata": {
        "id": "s19XXy5Od4j7",
        "colab_type": "code",
        "colab": {
          "base_uri": "https://localhost:8080/"
        },
        "outputId": "9639439f-76cb-4108-c69a-57835a96a234"
      },
      "source": [
        "np.busday_offset(dates, offsets=-10, roll='backward')"
      ],
      "execution_count": null,
      "outputs": [
        {
          "output_type": "execute_result",
          "data": {
            "text/plain": [
              "array(['2019-02-06', '2019-06-06', '2090-03-09'], dtype='datetime64[D]')"
            ]
          },
          "metadata": {
            "tags": []
          },
          "execution_count": 68
        }
      ]
    },
    {
      "cell_type": "markdown",
      "metadata": {
        "id": "ZXOtFJWud_pK",
        "colab_type": "text"
      },
      "source": [
        "#### The Pandas Timestamp"
      ]
    },
    {
      "cell_type": "code",
      "metadata": {
        "id": "VJPgX6iOep79",
        "colab_type": "code",
        "colab": {}
      },
      "source": [
        "# pandas timestamp = python datetime + numpy datetime64"
      ],
      "execution_count": null,
      "outputs": []
    },
    {
      "cell_type": "code",
      "metadata": {
        "id": "oytR8Hd6i6oO",
        "colab_type": "code",
        "colab": {
          "base_uri": "https://localhost:8080/"
        },
        "outputId": "d3c7efc7-aee2-4fde-b4bc-578ee275e1f2"
      },
      "source": [
        "pd.Timestamp(\"4th of July 1776\")"
      ],
      "execution_count": null,
      "outputs": [
        {
          "output_type": "execute_result",
          "data": {
            "text/plain": [
              "Timestamp('1776-07-04 00:00:00')"
            ]
          },
          "metadata": {
            "tags": []
          },
          "execution_count": 70
        }
      ]
    },
    {
      "cell_type": "code",
      "metadata": {
        "id": "_LQRRxcojHvt",
        "colab_type": "code",
        "colab": {
          "base_uri": "https://localhost:8080/"
        },
        "outputId": "f3d22234-8729-4fe9-9ea7-d173d6bde6f5"
      },
      "source": [
        "pd.Timestamp('4/7/1776')"
      ],
      "execution_count": null,
      "outputs": [
        {
          "output_type": "execute_result",
          "data": {
            "text/plain": [
              "Timestamp('1776-04-07 00:00:00')"
            ]
          },
          "metadata": {
            "tags": []
          },
          "execution_count": 71
        }
      ]
    },
    {
      "cell_type": "code",
      "metadata": {
        "id": "vKiI7-jujRjH",
        "colab_type": "code",
        "colab": {}
      },
      "source": [
        "pdts = pd.to_datetime('4/7/1776', dayfirst=True)"
      ],
      "execution_count": null,
      "outputs": []
    },
    {
      "cell_type": "code",
      "metadata": {
        "id": "KfE_poFCjfC0",
        "colab_type": "code",
        "colab": {
          "base_uri": "https://localhost:8080/"
        },
        "outputId": "734acee4-cc79-42d0-f9a5-2777d83c09ed"
      },
      "source": [
        "pdts.day_name()"
      ],
      "execution_count": null,
      "outputs": [
        {
          "output_type": "execute_result",
          "data": {
            "text/plain": [
              "'Thursday'"
            ]
          },
          "metadata": {
            "tags": []
          },
          "execution_count": 73
        }
      ]
    },
    {
      "cell_type": "code",
      "metadata": {
        "id": "TiKbZz17j0-E",
        "colab_type": "code",
        "colab": {
          "base_uri": "https://localhost:8080/"
        },
        "outputId": "b6560561-fcee-471c-df7c-3507ba5372b0"
      },
      "source": [
        "pdts.days_in_month"
      ],
      "execution_count": null,
      "outputs": [
        {
          "output_type": "execute_result",
          "data": {
            "text/plain": [
              "31"
            ]
          },
          "metadata": {
            "tags": []
          },
          "execution_count": 74
        }
      ]
    },
    {
      "cell_type": "code",
      "metadata": {
        "id": "p7WTk60oj4qB",
        "colab_type": "code",
        "colab": {
          "base_uri": "https://localhost:8080/"
        },
        "outputId": "a95ed449-2484-4253-9864-f17dfe471314"
      },
      "source": [
        "pdts.quarter"
      ],
      "execution_count": null,
      "outputs": [
        {
          "output_type": "execute_result",
          "data": {
            "text/plain": [
              "3"
            ]
          },
          "metadata": {
            "tags": []
          },
          "execution_count": 75
        }
      ]
    },
    {
      "cell_type": "code",
      "metadata": {
        "id": "8HMBphOej6_B",
        "colab_type": "code",
        "colab": {
          "base_uri": "https://localhost:8080/"
        },
        "outputId": "b48b20c4-0c4b-4390-94f7-15b9de3cc012"
      },
      "source": [
        "pdts.isocalendar()"
      ],
      "execution_count": null,
      "outputs": [
        {
          "output_type": "execute_result",
          "data": {
            "text/plain": [
              "(1776, 27, 4)"
            ]
          },
          "metadata": {
            "tags": []
          },
          "execution_count": 76
        }
      ]
    },
    {
      "cell_type": "markdown",
      "metadata": {
        "id": "e2BJROLIj_Xn",
        "colab_type": "text"
      },
      "source": [
        "#### Our Dataset: Brent Prices"
      ]
    },
    {
      "cell_type": "markdown",
      "metadata": {
        "id": "DApvGtY-ksyQ",
        "colab_type": "text"
      },
      "source": [
        "\n",
        "> https://andybek.com/pandas-oil\n",
        "\n",
        "*...and attached as a resource!*\n",
        "\n"
      ]
    },
    {
      "cell_type": "code",
      "metadata": {
        "id": "g7w76ZRto-7T",
        "colab_type": "code",
        "colab": {}
      },
      "source": [
        "oil_url = 'https://andybek.com/pandas-oil'"
      ],
      "execution_count": null,
      "outputs": []
    },
    {
      "cell_type": "code",
      "metadata": {
        "id": "4JwNeAmfpBjB",
        "colab_type": "code",
        "colab": {}
      },
      "source": [
        "brent = pd.read_csv(oil_url)"
      ],
      "execution_count": null,
      "outputs": []
    },
    {
      "cell_type": "code",
      "metadata": {
        "id": "_jEGyLEYpEtV",
        "colab_type": "code",
        "colab": {
          "base_uri": "https://localhost:8080/"
        },
        "outputId": "815b161b-6980-4904-b642-8bedba2aa4bf"
      },
      "source": [
        "brent.head()"
      ],
      "execution_count": null,
      "outputs": [
        {
          "output_type": "execute_result",
          "data": {
            "text/html": [
              "<div>\n",
              "<style scoped>\n",
              "    .dataframe tbody tr th:only-of-type {\n",
              "        vertical-align: middle;\n",
              "    }\n",
              "\n",
              "    .dataframe tbody tr th {\n",
              "        vertical-align: top;\n",
              "    }\n",
              "\n",
              "    .dataframe thead th {\n",
              "        text-align: right;\n",
              "    }\n",
              "</style>\n",
              "<table border=\"1\" class=\"dataframe\">\n",
              "  <thead>\n",
              "    <tr style=\"text-align: right;\">\n",
              "      <th></th>\n",
              "      <th>Date</th>\n",
              "      <th>Price</th>\n",
              "    </tr>\n",
              "  </thead>\n",
              "  <tbody>\n",
              "    <tr>\n",
              "      <th>0</th>\n",
              "      <td>04-Jan-00</td>\n",
              "      <td>23.95</td>\n",
              "    </tr>\n",
              "    <tr>\n",
              "      <th>1</th>\n",
              "      <td>05-Jan-00</td>\n",
              "      <td>23.72</td>\n",
              "    </tr>\n",
              "    <tr>\n",
              "      <th>2</th>\n",
              "      <td>06-Jan-00</td>\n",
              "      <td>23.55</td>\n",
              "    </tr>\n",
              "    <tr>\n",
              "      <th>3</th>\n",
              "      <td>07-Jan-00</td>\n",
              "      <td>23.35</td>\n",
              "    </tr>\n",
              "    <tr>\n",
              "      <th>4</th>\n",
              "      <td>10-Jan-00</td>\n",
              "      <td>22.77</td>\n",
              "    </tr>\n",
              "  </tbody>\n",
              "</table>\n",
              "</div>"
            ],
            "text/plain": [
              "        Date  Price\n",
              "0  04-Jan-00  23.95\n",
              "1  05-Jan-00  23.72\n",
              "2  06-Jan-00  23.55\n",
              "3  07-Jan-00  23.35\n",
              "4  10-Jan-00  22.77"
            ]
          },
          "metadata": {
            "tags": []
          },
          "execution_count": 79
        }
      ]
    },
    {
      "cell_type": "code",
      "metadata": {
        "id": "yFPNkZVopFw4",
        "colab_type": "code",
        "colab": {
          "base_uri": "https://localhost:8080/"
        },
        "outputId": "6e810af9-6d51-4c39-9ecc-d85586276035"
      },
      "source": [
        "brent.info()"
      ],
      "execution_count": null,
      "outputs": [
        {
          "output_type": "stream",
          "text": [
            "<class 'pandas.core.frame.DataFrame'>\n",
            "RangeIndex: 5016 entries, 0 to 5015\n",
            "Data columns (total 2 columns):\n",
            " #   Column  Non-Null Count  Dtype  \n",
            "---  ------  --------------  -----  \n",
            " 0   Date    5016 non-null   object \n",
            " 1   Price   5016 non-null   float64\n",
            "dtypes: float64(1), object(1)\n",
            "memory usage: 78.5+ KB\n"
          ],
          "name": "stdout"
        }
      ]
    },
    {
      "cell_type": "markdown",
      "metadata": {
        "id": "8xAEq2WWpHej",
        "colab_type": "text"
      },
      "source": [
        "#### Date Parsing And DatetimeIndex "
      ]
    },
    {
      "cell_type": "code",
      "metadata": {
        "id": "wzVx_fbnyZPJ",
        "colab_type": "code",
        "colab": {
          "base_uri": "https://localhost:8080/"
        },
        "outputId": "437079a7-6c13-4f1b-e1b1-153041beb0c0"
      },
      "source": [
        "brent.head()"
      ],
      "execution_count": null,
      "outputs": [
        {
          "output_type": "execute_result",
          "data": {
            "text/html": [
              "<div>\n",
              "<style scoped>\n",
              "    .dataframe tbody tr th:only-of-type {\n",
              "        vertical-align: middle;\n",
              "    }\n",
              "\n",
              "    .dataframe tbody tr th {\n",
              "        vertical-align: top;\n",
              "    }\n",
              "\n",
              "    .dataframe thead th {\n",
              "        text-align: right;\n",
              "    }\n",
              "</style>\n",
              "<table border=\"1\" class=\"dataframe\">\n",
              "  <thead>\n",
              "    <tr style=\"text-align: right;\">\n",
              "      <th></th>\n",
              "      <th>Date</th>\n",
              "      <th>Price</th>\n",
              "    </tr>\n",
              "  </thead>\n",
              "  <tbody>\n",
              "    <tr>\n",
              "      <th>0</th>\n",
              "      <td>04-Jan-00</td>\n",
              "      <td>23.95</td>\n",
              "    </tr>\n",
              "    <tr>\n",
              "      <th>1</th>\n",
              "      <td>05-Jan-00</td>\n",
              "      <td>23.72</td>\n",
              "    </tr>\n",
              "    <tr>\n",
              "      <th>2</th>\n",
              "      <td>06-Jan-00</td>\n",
              "      <td>23.55</td>\n",
              "    </tr>\n",
              "    <tr>\n",
              "      <th>3</th>\n",
              "      <td>07-Jan-00</td>\n",
              "      <td>23.35</td>\n",
              "    </tr>\n",
              "    <tr>\n",
              "      <th>4</th>\n",
              "      <td>10-Jan-00</td>\n",
              "      <td>22.77</td>\n",
              "    </tr>\n",
              "  </tbody>\n",
              "</table>\n",
              "</div>"
            ],
            "text/plain": [
              "        Date  Price\n",
              "0  04-Jan-00  23.95\n",
              "1  05-Jan-00  23.72\n",
              "2  06-Jan-00  23.55\n",
              "3  07-Jan-00  23.35\n",
              "4  10-Jan-00  22.77"
            ]
          },
          "metadata": {
            "tags": []
          },
          "execution_count": 81
        }
      ]
    },
    {
      "cell_type": "code",
      "metadata": {
        "id": "j55MyeDsyxFm",
        "colab_type": "code",
        "colab": {
          "base_uri": "https://localhost:8080/"
        },
        "outputId": "92978630-6eaf-46ce-ecca-cc0d3bff5a55"
      },
      "source": [
        "brent.dtypes"
      ],
      "execution_count": null,
      "outputs": [
        {
          "output_type": "execute_result",
          "data": {
            "text/plain": [
              "Date      object\n",
              "Price    float64\n",
              "dtype: object"
            ]
          },
          "metadata": {
            "tags": []
          },
          "execution_count": 82
        }
      ]
    },
    {
      "cell_type": "code",
      "metadata": {
        "id": "DTJzWnW7zx4m",
        "colab_type": "code",
        "colab": {
          "base_uri": "https://localhost:8080/"
        },
        "outputId": "2f94ba75-1fad-44e0-ea72-8177b6ebe718"
      },
      "source": [
        "brent.info(memory_usage='deep')"
      ],
      "execution_count": null,
      "outputs": [
        {
          "output_type": "stream",
          "text": [
            "<class 'pandas.core.frame.DataFrame'>\n",
            "RangeIndex: 5016 entries, 0 to 5015\n",
            "Data columns (total 2 columns):\n",
            " #   Column  Non-Null Count  Dtype  \n",
            "---  ------  --------------  -----  \n",
            " 0   Date    5016 non-null   object \n",
            " 1   Price   5016 non-null   float64\n",
            "dtypes: float64(1), object(1)\n",
            "memory usage: 362.6 KB\n"
          ],
          "name": "stdout"
        }
      ]
    },
    {
      "cell_type": "code",
      "metadata": {
        "id": "5NGjkKidz9eE",
        "colab_type": "code",
        "colab": {}
      },
      "source": [
        "brent.Date = brent.Date.astype(np.datetime64)"
      ],
      "execution_count": null,
      "outputs": []
    },
    {
      "cell_type": "code",
      "metadata": {
        "id": "88X_3ItJ0HDS",
        "colab_type": "code",
        "colab": {
          "base_uri": "https://localhost:8080/"
        },
        "outputId": "27885890-74ba-4be1-989a-252c79566be1"
      },
      "source": [
        "brent.dtypes"
      ],
      "execution_count": null,
      "outputs": [
        {
          "output_type": "execute_result",
          "data": {
            "text/plain": [
              "Date     datetime64[ns]\n",
              "Price           float64\n",
              "dtype: object"
            ]
          },
          "metadata": {
            "tags": []
          },
          "execution_count": 85
        }
      ]
    },
    {
      "cell_type": "code",
      "metadata": {
        "id": "OxeCBya20L8g",
        "colab_type": "code",
        "colab": {}
      },
      "source": [
        "# ns -> nanosecond -> 1/billionth of a second -> 10 ^ -9"
      ],
      "execution_count": null,
      "outputs": []
    },
    {
      "cell_type": "code",
      "metadata": {
        "id": "Wc8NQAiN0Tc2",
        "colab_type": "code",
        "colab": {
          "base_uri": "https://localhost:8080/"
        },
        "outputId": "3999d2e2-ea58-4d3a-b6da-f95b644eb795"
      },
      "source": [
        "brent.info(memory_usage='deep')"
      ],
      "execution_count": null,
      "outputs": [
        {
          "output_type": "stream",
          "text": [
            "<class 'pandas.core.frame.DataFrame'>\n",
            "RangeIndex: 5016 entries, 0 to 5015\n",
            "Data columns (total 2 columns):\n",
            " #   Column  Non-Null Count  Dtype         \n",
            "---  ------  --------------  -----         \n",
            " 0   Date    5016 non-null   datetime64[ns]\n",
            " 1   Price   5016 non-null   float64       \n",
            "dtypes: datetime64[ns](1), float64(1)\n",
            "memory usage: 78.5 KB\n"
          ],
          "name": "stdout"
        }
      ]
    },
    {
      "cell_type": "code",
      "metadata": {
        "id": "y3VIxkg-0dKO",
        "colab_type": "code",
        "colab": {}
      },
      "source": [
        "brent.set_index('Date', inplace=True)"
      ],
      "execution_count": null,
      "outputs": []
    },
    {
      "cell_type": "code",
      "metadata": {
        "id": "0nkc3QKM0pOU",
        "colab_type": "code",
        "colab": {
          "base_uri": "https://localhost:8080/"
        },
        "outputId": "3d2e8667-afb7-4364-b6f7-cec757a7b244"
      },
      "source": [
        "brent.head()"
      ],
      "execution_count": null,
      "outputs": [
        {
          "output_type": "execute_result",
          "data": {
            "text/html": [
              "<div>\n",
              "<style scoped>\n",
              "    .dataframe tbody tr th:only-of-type {\n",
              "        vertical-align: middle;\n",
              "    }\n",
              "\n",
              "    .dataframe tbody tr th {\n",
              "        vertical-align: top;\n",
              "    }\n",
              "\n",
              "    .dataframe thead th {\n",
              "        text-align: right;\n",
              "    }\n",
              "</style>\n",
              "<table border=\"1\" class=\"dataframe\">\n",
              "  <thead>\n",
              "    <tr style=\"text-align: right;\">\n",
              "      <th></th>\n",
              "      <th>Price</th>\n",
              "    </tr>\n",
              "    <tr>\n",
              "      <th>Date</th>\n",
              "      <th></th>\n",
              "    </tr>\n",
              "  </thead>\n",
              "  <tbody>\n",
              "    <tr>\n",
              "      <th>2000-01-04</th>\n",
              "      <td>23.95</td>\n",
              "    </tr>\n",
              "    <tr>\n",
              "      <th>2000-01-05</th>\n",
              "      <td>23.72</td>\n",
              "    </tr>\n",
              "    <tr>\n",
              "      <th>2000-01-06</th>\n",
              "      <td>23.55</td>\n",
              "    </tr>\n",
              "    <tr>\n",
              "      <th>2000-01-07</th>\n",
              "      <td>23.35</td>\n",
              "    </tr>\n",
              "    <tr>\n",
              "      <th>2000-01-10</th>\n",
              "      <td>22.77</td>\n",
              "    </tr>\n",
              "  </tbody>\n",
              "</table>\n",
              "</div>"
            ],
            "text/plain": [
              "            Price\n",
              "Date             \n",
              "2000-01-04  23.95\n",
              "2000-01-05  23.72\n",
              "2000-01-06  23.55\n",
              "2000-01-07  23.35\n",
              "2000-01-10  22.77"
            ]
          },
          "metadata": {
            "tags": []
          },
          "execution_count": 89
        }
      ]
    },
    {
      "cell_type": "code",
      "metadata": {
        "id": "1ydHP9Zp0sCH",
        "colab_type": "code",
        "colab": {
          "base_uri": "https://localhost:8080/"
        },
        "outputId": "b3a108df-b603-4b50-f67c-91aab22d977c"
      },
      "source": [
        "brent.index"
      ],
      "execution_count": null,
      "outputs": [
        {
          "output_type": "execute_result",
          "data": {
            "text/plain": [
              "DatetimeIndex(['2000-01-04', '2000-01-05', '2000-01-06', '2000-01-07',\n",
              "               '2000-01-10', '2000-01-11', '2000-01-12', '2000-01-13',\n",
              "               '2000-01-14', '2000-01-17',\n",
              "               ...\n",
              "               '2019-09-17', '2019-09-18', '2019-09-19', '2019-09-20',\n",
              "               '2019-09-23', '2019-09-24', '2019-09-25', '2019-09-26',\n",
              "               '2019-09-27', '2019-09-30'],\n",
              "              dtype='datetime64[ns]', name='Date', length=5016, freq=None)"
            ]
          },
          "metadata": {
            "tags": []
          },
          "execution_count": 90
        }
      ]
    },
    {
      "cell_type": "code",
      "metadata": {
        "id": "dqjLUp4O0tvh",
        "colab_type": "code",
        "colab": {
          "base_uri": "https://localhost:8080/"
        },
        "outputId": "1946d19d-ccc7-4995-ed3a-4b6e6c249fff"
      },
      "source": [
        "pd.to_datetime(['3 june 2020', 'jun 20 2030'])"
      ],
      "execution_count": null,
      "outputs": [
        {
          "output_type": "execute_result",
          "data": {
            "text/plain": [
              "DatetimeIndex(['2020-06-03', '2030-06-20'], dtype='datetime64[ns]', freq=None)"
            ]
          },
          "metadata": {
            "tags": []
          },
          "execution_count": 91
        }
      ]
    },
    {
      "cell_type": "markdown",
      "metadata": {
        "id": "gX0j6sBJ0375",
        "colab_type": "text"
      },
      "source": [
        "#### A Cool Shorcut: read_csv() With parse_dates"
      ]
    },
    {
      "cell_type": "code",
      "metadata": {
        "id": "4v_8RMmT1ayT",
        "colab_type": "code",
        "colab": {}
      },
      "source": [
        "# Previously:\n",
        "  # - import data\n",
        "  # - parse date column\n",
        "  # - re-assign"
      ],
      "execution_count": null,
      "outputs": []
    },
    {
      "cell_type": "code",
      "metadata": {
        "id": "xyK-N_BC2Ozg",
        "colab_type": "code",
        "colab": {}
      },
      "source": [
        "brent2 = pd.read_csv(oil_url, index_col=0, parse_dates=True)"
      ],
      "execution_count": null,
      "outputs": []
    },
    {
      "cell_type": "code",
      "metadata": {
        "id": "_0_bK0s53ADF",
        "colab_type": "code",
        "colab": {
          "base_uri": "https://localhost:8080/"
        },
        "outputId": "eac67b80-81d1-4f18-f388-cc2b7d0eca09"
      },
      "source": [
        "brent2.head()"
      ],
      "execution_count": null,
      "outputs": [
        {
          "output_type": "execute_result",
          "data": {
            "text/html": [
              "<div>\n",
              "<style scoped>\n",
              "    .dataframe tbody tr th:only-of-type {\n",
              "        vertical-align: middle;\n",
              "    }\n",
              "\n",
              "    .dataframe tbody tr th {\n",
              "        vertical-align: top;\n",
              "    }\n",
              "\n",
              "    .dataframe thead th {\n",
              "        text-align: right;\n",
              "    }\n",
              "</style>\n",
              "<table border=\"1\" class=\"dataframe\">\n",
              "  <thead>\n",
              "    <tr style=\"text-align: right;\">\n",
              "      <th></th>\n",
              "      <th>Price</th>\n",
              "    </tr>\n",
              "    <tr>\n",
              "      <th>Date</th>\n",
              "      <th></th>\n",
              "    </tr>\n",
              "  </thead>\n",
              "  <tbody>\n",
              "    <tr>\n",
              "      <th>2000-01-04</th>\n",
              "      <td>23.95</td>\n",
              "    </tr>\n",
              "    <tr>\n",
              "      <th>2000-01-05</th>\n",
              "      <td>23.72</td>\n",
              "    </tr>\n",
              "    <tr>\n",
              "      <th>2000-01-06</th>\n",
              "      <td>23.55</td>\n",
              "    </tr>\n",
              "    <tr>\n",
              "      <th>2000-01-07</th>\n",
              "      <td>23.35</td>\n",
              "    </tr>\n",
              "    <tr>\n",
              "      <th>2000-01-10</th>\n",
              "      <td>22.77</td>\n",
              "    </tr>\n",
              "  </tbody>\n",
              "</table>\n",
              "</div>"
            ],
            "text/plain": [
              "            Price\n",
              "Date             \n",
              "2000-01-04  23.95\n",
              "2000-01-05  23.72\n",
              "2000-01-06  23.55\n",
              "2000-01-07  23.35\n",
              "2000-01-10  22.77"
            ]
          },
          "metadata": {
            "tags": []
          },
          "execution_count": 94
        }
      ]
    },
    {
      "cell_type": "code",
      "metadata": {
        "id": "SRLnYn-83c3y",
        "colab_type": "code",
        "colab": {}
      },
      "source": [
        "# if poor data quality this may not be the best option"
      ],
      "execution_count": null,
      "outputs": []
    },
    {
      "cell_type": "markdown",
      "metadata": {
        "id": "2MudK_R13rAj",
        "colab_type": "text"
      },
      "source": [
        "#### Indexing Dates"
      ]
    },
    {
      "cell_type": "code",
      "metadata": {
        "id": "FlcRnHoM4j7a",
        "colab_type": "code",
        "colab": {
          "base_uri": "https://localhost:8080/"
        },
        "outputId": "01a3f724-ef55-4332-ade1-3da3e08919e1"
      },
      "source": [
        "brent.index"
      ],
      "execution_count": null,
      "outputs": [
        {
          "output_type": "execute_result",
          "data": {
            "text/plain": [
              "DatetimeIndex(['2000-01-04', '2000-01-05', '2000-01-06', '2000-01-07',\n",
              "               '2000-01-10', '2000-01-11', '2000-01-12', '2000-01-13',\n",
              "               '2000-01-14', '2000-01-17',\n",
              "               ...\n",
              "               '2019-09-17', '2019-09-18', '2019-09-19', '2019-09-20',\n",
              "               '2019-09-23', '2019-09-24', '2019-09-25', '2019-09-26',\n",
              "               '2019-09-27', '2019-09-30'],\n",
              "              dtype='datetime64[ns]', name='Date', length=5016, freq=None)"
            ]
          },
          "metadata": {
            "tags": []
          },
          "execution_count": 96
        }
      ]
    },
    {
      "cell_type": "code",
      "metadata": {
        "id": "ijeXeA8o4Ymc",
        "colab_type": "code",
        "colab": {
          "base_uri": "https://localhost:8080/"
        },
        "outputId": "af14a0d3-349e-4e17-811e-747a770f8402"
      },
      "source": [
        "brent.head()"
      ],
      "execution_count": null,
      "outputs": [
        {
          "output_type": "execute_result",
          "data": {
            "text/html": [
              "<div>\n",
              "<style scoped>\n",
              "    .dataframe tbody tr th:only-of-type {\n",
              "        vertical-align: middle;\n",
              "    }\n",
              "\n",
              "    .dataframe tbody tr th {\n",
              "        vertical-align: top;\n",
              "    }\n",
              "\n",
              "    .dataframe thead th {\n",
              "        text-align: right;\n",
              "    }\n",
              "</style>\n",
              "<table border=\"1\" class=\"dataframe\">\n",
              "  <thead>\n",
              "    <tr style=\"text-align: right;\">\n",
              "      <th></th>\n",
              "      <th>Price</th>\n",
              "    </tr>\n",
              "    <tr>\n",
              "      <th>Date</th>\n",
              "      <th></th>\n",
              "    </tr>\n",
              "  </thead>\n",
              "  <tbody>\n",
              "    <tr>\n",
              "      <th>2000-01-04</th>\n",
              "      <td>23.95</td>\n",
              "    </tr>\n",
              "    <tr>\n",
              "      <th>2000-01-05</th>\n",
              "      <td>23.72</td>\n",
              "    </tr>\n",
              "    <tr>\n",
              "      <th>2000-01-06</th>\n",
              "      <td>23.55</td>\n",
              "    </tr>\n",
              "    <tr>\n",
              "      <th>2000-01-07</th>\n",
              "      <td>23.35</td>\n",
              "    </tr>\n",
              "    <tr>\n",
              "      <th>2000-01-10</th>\n",
              "      <td>22.77</td>\n",
              "    </tr>\n",
              "  </tbody>\n",
              "</table>\n",
              "</div>"
            ],
            "text/plain": [
              "            Price\n",
              "Date             \n",
              "2000-01-04  23.95\n",
              "2000-01-05  23.72\n",
              "2000-01-06  23.55\n",
              "2000-01-07  23.35\n",
              "2000-01-10  22.77"
            ]
          },
          "metadata": {
            "tags": []
          },
          "execution_count": 97
        }
      ]
    },
    {
      "cell_type": "code",
      "metadata": {
        "id": "cvfkHaZW5qjZ",
        "colab_type": "code",
        "colab": {}
      },
      "source": [
        "# Q: select the brent price on Jan 3rd 2017"
      ],
      "execution_count": null,
      "outputs": []
    },
    {
      "cell_type": "code",
      "metadata": {
        "id": "MWWCdCsC6HG8",
        "colab_type": "code",
        "colab": {
          "base_uri": "https://localhost:8080/"
        },
        "outputId": "6fda5952-ca7b-4000-de98-8105dc03540d"
      },
      "source": [
        "brent.loc['2017-01-03']"
      ],
      "execution_count": null,
      "outputs": [
        {
          "output_type": "execute_result",
          "data": {
            "text/plain": [
              "Price    55.05\n",
              "Name: 2017-01-03 00:00:00, dtype: float64"
            ]
          },
          "metadata": {
            "tags": []
          },
          "execution_count": 99
        }
      ]
    },
    {
      "cell_type": "code",
      "metadata": {
        "id": "duGHoOaA6LNY",
        "colab_type": "code",
        "colab": {}
      },
      "source": [
        "# Q: seelect prices from jan 3rd to jan 6th"
      ],
      "execution_count": null,
      "outputs": []
    },
    {
      "cell_type": "code",
      "metadata": {
        "id": "s4XD7EuF6Qm2",
        "colab_type": "code",
        "colab": {
          "base_uri": "https://localhost:8080/"
        },
        "outputId": "923cf7cc-a28e-4117-83fc-bffbd306b82a"
      },
      "source": [
        "brent.loc['2017-01-03':'2017-01-06']"
      ],
      "execution_count": null,
      "outputs": [
        {
          "output_type": "execute_result",
          "data": {
            "text/html": [
              "<div>\n",
              "<style scoped>\n",
              "    .dataframe tbody tr th:only-of-type {\n",
              "        vertical-align: middle;\n",
              "    }\n",
              "\n",
              "    .dataframe tbody tr th {\n",
              "        vertical-align: top;\n",
              "    }\n",
              "\n",
              "    .dataframe thead th {\n",
              "        text-align: right;\n",
              "    }\n",
              "</style>\n",
              "<table border=\"1\" class=\"dataframe\">\n",
              "  <thead>\n",
              "    <tr style=\"text-align: right;\">\n",
              "      <th></th>\n",
              "      <th>Price</th>\n",
              "    </tr>\n",
              "    <tr>\n",
              "      <th>Date</th>\n",
              "      <th></th>\n",
              "    </tr>\n",
              "  </thead>\n",
              "  <tbody>\n",
              "    <tr>\n",
              "      <th>2017-01-03</th>\n",
              "      <td>55.05</td>\n",
              "    </tr>\n",
              "    <tr>\n",
              "      <th>2017-01-04</th>\n",
              "      <td>54.57</td>\n",
              "    </tr>\n",
              "    <tr>\n",
              "      <th>2017-01-05</th>\n",
              "      <td>54.99</td>\n",
              "    </tr>\n",
              "    <tr>\n",
              "      <th>2017-01-06</th>\n",
              "      <td>55.90</td>\n",
              "    </tr>\n",
              "  </tbody>\n",
              "</table>\n",
              "</div>"
            ],
            "text/plain": [
              "            Price\n",
              "Date             \n",
              "2017-01-03  55.05\n",
              "2017-01-04  54.57\n",
              "2017-01-05  54.99\n",
              "2017-01-06  55.90"
            ]
          },
          "metadata": {
            "tags": []
          },
          "execution_count": 101
        }
      ]
    },
    {
      "cell_type": "code",
      "metadata": {
        "id": "slbqwfHP6UFZ",
        "colab_type": "code",
        "colab": {}
      },
      "source": [
        "# Q: select all prices from Jan 2019"
      ],
      "execution_count": null,
      "outputs": []
    },
    {
      "cell_type": "code",
      "metadata": {
        "id": "oNhrxhuZ6af5",
        "colab_type": "code",
        "colab": {
          "base_uri": "https://localhost:8080/"
        },
        "outputId": "5745524c-6054-486f-9683-f1e546737b4a"
      },
      "source": [
        "brent.loc['2019-01-02':'2019-01-31']"
      ],
      "execution_count": null,
      "outputs": [
        {
          "output_type": "execute_result",
          "data": {
            "text/html": [
              "<div>\n",
              "<style scoped>\n",
              "    .dataframe tbody tr th:only-of-type {\n",
              "        vertical-align: middle;\n",
              "    }\n",
              "\n",
              "    .dataframe tbody tr th {\n",
              "        vertical-align: top;\n",
              "    }\n",
              "\n",
              "    .dataframe thead th {\n",
              "        text-align: right;\n",
              "    }\n",
              "</style>\n",
              "<table border=\"1\" class=\"dataframe\">\n",
              "  <thead>\n",
              "    <tr style=\"text-align: right;\">\n",
              "      <th></th>\n",
              "      <th>Price</th>\n",
              "    </tr>\n",
              "    <tr>\n",
              "      <th>Date</th>\n",
              "      <th></th>\n",
              "    </tr>\n",
              "  </thead>\n",
              "  <tbody>\n",
              "    <tr>\n",
              "      <th>2019-01-02</th>\n",
              "      <td>54.06</td>\n",
              "    </tr>\n",
              "    <tr>\n",
              "      <th>2019-01-03</th>\n",
              "      <td>53.23</td>\n",
              "    </tr>\n",
              "    <tr>\n",
              "      <th>2019-01-04</th>\n",
              "      <td>55.64</td>\n",
              "    </tr>\n",
              "    <tr>\n",
              "      <th>2019-01-07</th>\n",
              "      <td>57.10</td>\n",
              "    </tr>\n",
              "    <tr>\n",
              "      <th>2019-01-08</th>\n",
              "      <td>56.91</td>\n",
              "    </tr>\n",
              "    <tr>\n",
              "      <th>2019-01-09</th>\n",
              "      <td>59.46</td>\n",
              "    </tr>\n",
              "    <tr>\n",
              "      <th>2019-01-10</th>\n",
              "      <td>60.47</td>\n",
              "    </tr>\n",
              "    <tr>\n",
              "      <th>2019-01-11</th>\n",
              "      <td>59.24</td>\n",
              "    </tr>\n",
              "    <tr>\n",
              "      <th>2019-01-14</th>\n",
              "      <td>58.80</td>\n",
              "    </tr>\n",
              "    <tr>\n",
              "      <th>2019-01-15</th>\n",
              "      <td>58.65</td>\n",
              "    </tr>\n",
              "    <tr>\n",
              "      <th>2019-01-16</th>\n",
              "      <td>59.81</td>\n",
              "    </tr>\n",
              "    <tr>\n",
              "      <th>2019-01-17</th>\n",
              "      <td>59.85</td>\n",
              "    </tr>\n",
              "    <tr>\n",
              "      <th>2019-01-18</th>\n",
              "      <td>62.04</td>\n",
              "    </tr>\n",
              "    <tr>\n",
              "      <th>2019-01-21</th>\n",
              "      <td>62.18</td>\n",
              "    </tr>\n",
              "    <tr>\n",
              "      <th>2019-01-22</th>\n",
              "      <td>60.90</td>\n",
              "    </tr>\n",
              "    <tr>\n",
              "      <th>2019-01-23</th>\n",
              "      <td>61.05</td>\n",
              "    </tr>\n",
              "    <tr>\n",
              "      <th>2019-01-24</th>\n",
              "      <td>61.09</td>\n",
              "    </tr>\n",
              "    <tr>\n",
              "      <th>2019-01-25</th>\n",
              "      <td>61.49</td>\n",
              "    </tr>\n",
              "    <tr>\n",
              "      <th>2019-01-28</th>\n",
              "      <td>59.71</td>\n",
              "    </tr>\n",
              "    <tr>\n",
              "      <th>2019-01-29</th>\n",
              "      <td>60.98</td>\n",
              "    </tr>\n",
              "    <tr>\n",
              "      <th>2019-01-30</th>\n",
              "      <td>61.89</td>\n",
              "    </tr>\n",
              "    <tr>\n",
              "      <th>2019-01-31</th>\n",
              "      <td>62.46</td>\n",
              "    </tr>\n",
              "  </tbody>\n",
              "</table>\n",
              "</div>"
            ],
            "text/plain": [
              "            Price\n",
              "Date             \n",
              "2019-01-02  54.06\n",
              "2019-01-03  53.23\n",
              "2019-01-04  55.64\n",
              "2019-01-07  57.10\n",
              "2019-01-08  56.91\n",
              "2019-01-09  59.46\n",
              "2019-01-10  60.47\n",
              "2019-01-11  59.24\n",
              "2019-01-14  58.80\n",
              "2019-01-15  58.65\n",
              "2019-01-16  59.81\n",
              "2019-01-17  59.85\n",
              "2019-01-18  62.04\n",
              "2019-01-21  62.18\n",
              "2019-01-22  60.90\n",
              "2019-01-23  61.05\n",
              "2019-01-24  61.09\n",
              "2019-01-25  61.49\n",
              "2019-01-28  59.71\n",
              "2019-01-29  60.98\n",
              "2019-01-30  61.89\n",
              "2019-01-31  62.46"
            ]
          },
          "metadata": {
            "tags": []
          },
          "execution_count": 103
        }
      ]
    },
    {
      "cell_type": "code",
      "metadata": {
        "id": "q6c7Deu16hFl",
        "colab_type": "code",
        "colab": {
          "base_uri": "https://localhost:8080/"
        },
        "outputId": "8f2e0758-9258-42ee-8851-c4bca59778f7"
      },
      "source": [
        "brent.loc['2019-01'] # partial string indexing"
      ],
      "execution_count": null,
      "outputs": [
        {
          "output_type": "execute_result",
          "data": {
            "text/html": [
              "<div>\n",
              "<style scoped>\n",
              "    .dataframe tbody tr th:only-of-type {\n",
              "        vertical-align: middle;\n",
              "    }\n",
              "\n",
              "    .dataframe tbody tr th {\n",
              "        vertical-align: top;\n",
              "    }\n",
              "\n",
              "    .dataframe thead th {\n",
              "        text-align: right;\n",
              "    }\n",
              "</style>\n",
              "<table border=\"1\" class=\"dataframe\">\n",
              "  <thead>\n",
              "    <tr style=\"text-align: right;\">\n",
              "      <th></th>\n",
              "      <th>Price</th>\n",
              "    </tr>\n",
              "    <tr>\n",
              "      <th>Date</th>\n",
              "      <th></th>\n",
              "    </tr>\n",
              "  </thead>\n",
              "  <tbody>\n",
              "    <tr>\n",
              "      <th>2019-01-02</th>\n",
              "      <td>54.06</td>\n",
              "    </tr>\n",
              "    <tr>\n",
              "      <th>2019-01-03</th>\n",
              "      <td>53.23</td>\n",
              "    </tr>\n",
              "    <tr>\n",
              "      <th>2019-01-04</th>\n",
              "      <td>55.64</td>\n",
              "    </tr>\n",
              "    <tr>\n",
              "      <th>2019-01-07</th>\n",
              "      <td>57.10</td>\n",
              "    </tr>\n",
              "    <tr>\n",
              "      <th>2019-01-08</th>\n",
              "      <td>56.91</td>\n",
              "    </tr>\n",
              "    <tr>\n",
              "      <th>2019-01-09</th>\n",
              "      <td>59.46</td>\n",
              "    </tr>\n",
              "    <tr>\n",
              "      <th>2019-01-10</th>\n",
              "      <td>60.47</td>\n",
              "    </tr>\n",
              "    <tr>\n",
              "      <th>2019-01-11</th>\n",
              "      <td>59.24</td>\n",
              "    </tr>\n",
              "    <tr>\n",
              "      <th>2019-01-14</th>\n",
              "      <td>58.80</td>\n",
              "    </tr>\n",
              "    <tr>\n",
              "      <th>2019-01-15</th>\n",
              "      <td>58.65</td>\n",
              "    </tr>\n",
              "    <tr>\n",
              "      <th>2019-01-16</th>\n",
              "      <td>59.81</td>\n",
              "    </tr>\n",
              "    <tr>\n",
              "      <th>2019-01-17</th>\n",
              "      <td>59.85</td>\n",
              "    </tr>\n",
              "    <tr>\n",
              "      <th>2019-01-18</th>\n",
              "      <td>62.04</td>\n",
              "    </tr>\n",
              "    <tr>\n",
              "      <th>2019-01-21</th>\n",
              "      <td>62.18</td>\n",
              "    </tr>\n",
              "    <tr>\n",
              "      <th>2019-01-22</th>\n",
              "      <td>60.90</td>\n",
              "    </tr>\n",
              "    <tr>\n",
              "      <th>2019-01-23</th>\n",
              "      <td>61.05</td>\n",
              "    </tr>\n",
              "    <tr>\n",
              "      <th>2019-01-24</th>\n",
              "      <td>61.09</td>\n",
              "    </tr>\n",
              "    <tr>\n",
              "      <th>2019-01-25</th>\n",
              "      <td>61.49</td>\n",
              "    </tr>\n",
              "    <tr>\n",
              "      <th>2019-01-28</th>\n",
              "      <td>59.71</td>\n",
              "    </tr>\n",
              "    <tr>\n",
              "      <th>2019-01-29</th>\n",
              "      <td>60.98</td>\n",
              "    </tr>\n",
              "    <tr>\n",
              "      <th>2019-01-30</th>\n",
              "      <td>61.89</td>\n",
              "    </tr>\n",
              "    <tr>\n",
              "      <th>2019-01-31</th>\n",
              "      <td>62.46</td>\n",
              "    </tr>\n",
              "  </tbody>\n",
              "</table>\n",
              "</div>"
            ],
            "text/plain": [
              "            Price\n",
              "Date             \n",
              "2019-01-02  54.06\n",
              "2019-01-03  53.23\n",
              "2019-01-04  55.64\n",
              "2019-01-07  57.10\n",
              "2019-01-08  56.91\n",
              "2019-01-09  59.46\n",
              "2019-01-10  60.47\n",
              "2019-01-11  59.24\n",
              "2019-01-14  58.80\n",
              "2019-01-15  58.65\n",
              "2019-01-16  59.81\n",
              "2019-01-17  59.85\n",
              "2019-01-18  62.04\n",
              "2019-01-21  62.18\n",
              "2019-01-22  60.90\n",
              "2019-01-23  61.05\n",
              "2019-01-24  61.09\n",
              "2019-01-25  61.49\n",
              "2019-01-28  59.71\n",
              "2019-01-29  60.98\n",
              "2019-01-30  61.89\n",
              "2019-01-31  62.46"
            ]
          },
          "metadata": {
            "tags": []
          },
          "execution_count": 104
        }
      ]
    },
    {
      "cell_type": "code",
      "metadata": {
        "id": "KbcXIDwG6nWY",
        "colab_type": "code",
        "colab": {}
      },
      "source": [
        "# Q: prices from the first two months of 2019"
      ],
      "execution_count": null,
      "outputs": []
    },
    {
      "cell_type": "code",
      "metadata": {
        "id": "lKkYnvLK6z9E",
        "colab_type": "code",
        "colab": {
          "base_uri": "https://localhost:8080/"
        },
        "outputId": "303ef50d-3df0-4abd-90c7-48ac5db779b6"
      },
      "source": [
        "brent.loc['2019-01':'2019-02']"
      ],
      "execution_count": null,
      "outputs": [
        {
          "output_type": "execute_result",
          "data": {
            "text/html": [
              "<div>\n",
              "<style scoped>\n",
              "    .dataframe tbody tr th:only-of-type {\n",
              "        vertical-align: middle;\n",
              "    }\n",
              "\n",
              "    .dataframe tbody tr th {\n",
              "        vertical-align: top;\n",
              "    }\n",
              "\n",
              "    .dataframe thead th {\n",
              "        text-align: right;\n",
              "    }\n",
              "</style>\n",
              "<table border=\"1\" class=\"dataframe\">\n",
              "  <thead>\n",
              "    <tr style=\"text-align: right;\">\n",
              "      <th></th>\n",
              "      <th>Price</th>\n",
              "    </tr>\n",
              "    <tr>\n",
              "      <th>Date</th>\n",
              "      <th></th>\n",
              "    </tr>\n",
              "  </thead>\n",
              "  <tbody>\n",
              "    <tr>\n",
              "      <th>2019-01-02</th>\n",
              "      <td>54.06</td>\n",
              "    </tr>\n",
              "    <tr>\n",
              "      <th>2019-01-03</th>\n",
              "      <td>53.23</td>\n",
              "    </tr>\n",
              "    <tr>\n",
              "      <th>2019-01-04</th>\n",
              "      <td>55.64</td>\n",
              "    </tr>\n",
              "    <tr>\n",
              "      <th>2019-01-07</th>\n",
              "      <td>57.10</td>\n",
              "    </tr>\n",
              "    <tr>\n",
              "      <th>2019-01-08</th>\n",
              "      <td>56.91</td>\n",
              "    </tr>\n",
              "    <tr>\n",
              "      <th>2019-01-09</th>\n",
              "      <td>59.46</td>\n",
              "    </tr>\n",
              "    <tr>\n",
              "      <th>2019-01-10</th>\n",
              "      <td>60.47</td>\n",
              "    </tr>\n",
              "    <tr>\n",
              "      <th>2019-01-11</th>\n",
              "      <td>59.24</td>\n",
              "    </tr>\n",
              "    <tr>\n",
              "      <th>2019-01-14</th>\n",
              "      <td>58.80</td>\n",
              "    </tr>\n",
              "    <tr>\n",
              "      <th>2019-01-15</th>\n",
              "      <td>58.65</td>\n",
              "    </tr>\n",
              "    <tr>\n",
              "      <th>2019-01-16</th>\n",
              "      <td>59.81</td>\n",
              "    </tr>\n",
              "    <tr>\n",
              "      <th>2019-01-17</th>\n",
              "      <td>59.85</td>\n",
              "    </tr>\n",
              "    <tr>\n",
              "      <th>2019-01-18</th>\n",
              "      <td>62.04</td>\n",
              "    </tr>\n",
              "    <tr>\n",
              "      <th>2019-01-21</th>\n",
              "      <td>62.18</td>\n",
              "    </tr>\n",
              "    <tr>\n",
              "      <th>2019-01-22</th>\n",
              "      <td>60.90</td>\n",
              "    </tr>\n",
              "    <tr>\n",
              "      <th>2019-01-23</th>\n",
              "      <td>61.05</td>\n",
              "    </tr>\n",
              "    <tr>\n",
              "      <th>2019-01-24</th>\n",
              "      <td>61.09</td>\n",
              "    </tr>\n",
              "    <tr>\n",
              "      <th>2019-01-25</th>\n",
              "      <td>61.49</td>\n",
              "    </tr>\n",
              "    <tr>\n",
              "      <th>2019-01-28</th>\n",
              "      <td>59.71</td>\n",
              "    </tr>\n",
              "    <tr>\n",
              "      <th>2019-01-29</th>\n",
              "      <td>60.98</td>\n",
              "    </tr>\n",
              "    <tr>\n",
              "      <th>2019-01-30</th>\n",
              "      <td>61.89</td>\n",
              "    </tr>\n",
              "    <tr>\n",
              "      <th>2019-01-31</th>\n",
              "      <td>62.46</td>\n",
              "    </tr>\n",
              "    <tr>\n",
              "      <th>2019-02-01</th>\n",
              "      <td>61.86</td>\n",
              "    </tr>\n",
              "    <tr>\n",
              "      <th>2019-02-04</th>\n",
              "      <td>62.26</td>\n",
              "    </tr>\n",
              "    <tr>\n",
              "      <th>2019-02-05</th>\n",
              "      <td>61.67</td>\n",
              "    </tr>\n",
              "    <tr>\n",
              "      <th>2019-02-06</th>\n",
              "      <td>62.22</td>\n",
              "    </tr>\n",
              "    <tr>\n",
              "      <th>2019-02-07</th>\n",
              "      <td>61.01</td>\n",
              "    </tr>\n",
              "    <tr>\n",
              "      <th>2019-02-08</th>\n",
              "      <td>61.37</td>\n",
              "    </tr>\n",
              "    <tr>\n",
              "      <th>2019-02-11</th>\n",
              "      <td>61.30</td>\n",
              "    </tr>\n",
              "    <tr>\n",
              "      <th>2019-02-12</th>\n",
              "      <td>62.58</td>\n",
              "    </tr>\n",
              "    <tr>\n",
              "      <th>2019-02-13</th>\n",
              "      <td>63.27</td>\n",
              "    </tr>\n",
              "    <tr>\n",
              "      <th>2019-02-14</th>\n",
              "      <td>64.00</td>\n",
              "    </tr>\n",
              "    <tr>\n",
              "      <th>2019-02-15</th>\n",
              "      <td>65.65</td>\n",
              "    </tr>\n",
              "    <tr>\n",
              "      <th>2019-02-18</th>\n",
              "      <td>66.41</td>\n",
              "    </tr>\n",
              "    <tr>\n",
              "      <th>2019-02-19</th>\n",
              "      <td>65.86</td>\n",
              "    </tr>\n",
              "    <tr>\n",
              "      <th>2019-02-20</th>\n",
              "      <td>66.82</td>\n",
              "    </tr>\n",
              "    <tr>\n",
              "      <th>2019-02-21</th>\n",
              "      <td>66.91</td>\n",
              "    </tr>\n",
              "    <tr>\n",
              "      <th>2019-02-22</th>\n",
              "      <td>66.91</td>\n",
              "    </tr>\n",
              "    <tr>\n",
              "      <th>2019-02-25</th>\n",
              "      <td>64.02</td>\n",
              "    </tr>\n",
              "    <tr>\n",
              "      <th>2019-02-26</th>\n",
              "      <td>64.51</td>\n",
              "    </tr>\n",
              "    <tr>\n",
              "      <th>2019-02-27</th>\n",
              "      <td>65.55</td>\n",
              "    </tr>\n",
              "    <tr>\n",
              "      <th>2019-02-28</th>\n",
              "      <td>65.03</td>\n",
              "    </tr>\n",
              "  </tbody>\n",
              "</table>\n",
              "</div>"
            ],
            "text/plain": [
              "            Price\n",
              "Date             \n",
              "2019-01-02  54.06\n",
              "2019-01-03  53.23\n",
              "2019-01-04  55.64\n",
              "2019-01-07  57.10\n",
              "2019-01-08  56.91\n",
              "2019-01-09  59.46\n",
              "2019-01-10  60.47\n",
              "2019-01-11  59.24\n",
              "2019-01-14  58.80\n",
              "2019-01-15  58.65\n",
              "2019-01-16  59.81\n",
              "2019-01-17  59.85\n",
              "2019-01-18  62.04\n",
              "2019-01-21  62.18\n",
              "2019-01-22  60.90\n",
              "2019-01-23  61.05\n",
              "2019-01-24  61.09\n",
              "2019-01-25  61.49\n",
              "2019-01-28  59.71\n",
              "2019-01-29  60.98\n",
              "2019-01-30  61.89\n",
              "2019-01-31  62.46\n",
              "2019-02-01  61.86\n",
              "2019-02-04  62.26\n",
              "2019-02-05  61.67\n",
              "2019-02-06  62.22\n",
              "2019-02-07  61.01\n",
              "2019-02-08  61.37\n",
              "2019-02-11  61.30\n",
              "2019-02-12  62.58\n",
              "2019-02-13  63.27\n",
              "2019-02-14  64.00\n",
              "2019-02-15  65.65\n",
              "2019-02-18  66.41\n",
              "2019-02-19  65.86\n",
              "2019-02-20  66.82\n",
              "2019-02-21  66.91\n",
              "2019-02-22  66.91\n",
              "2019-02-25  64.02\n",
              "2019-02-26  64.51\n",
              "2019-02-27  65.55\n",
              "2019-02-28  65.03"
            ]
          },
          "metadata": {
            "tags": []
          },
          "execution_count": 106
        }
      ]
    },
    {
      "cell_type": "code",
      "metadata": {
        "id": "TTkKyXnS62TT",
        "colab_type": "code",
        "colab": {}
      },
      "source": [
        "# Q: select prices from July 2019 to mid Aug 2019"
      ],
      "execution_count": null,
      "outputs": []
    },
    {
      "cell_type": "code",
      "metadata": {
        "id": "fIoz_YfQ68g_",
        "colab_type": "code",
        "colab": {
          "base_uri": "https://localhost:8080/"
        },
        "outputId": "bb24312b-760b-4ed9-dfe0-b0a635cd4086"
      },
      "source": [
        "brent['2019-07':'2019-08-15']"
      ],
      "execution_count": null,
      "outputs": [
        {
          "output_type": "execute_result",
          "data": {
            "text/html": [
              "<div>\n",
              "<style scoped>\n",
              "    .dataframe tbody tr th:only-of-type {\n",
              "        vertical-align: middle;\n",
              "    }\n",
              "\n",
              "    .dataframe tbody tr th {\n",
              "        vertical-align: top;\n",
              "    }\n",
              "\n",
              "    .dataframe thead th {\n",
              "        text-align: right;\n",
              "    }\n",
              "</style>\n",
              "<table border=\"1\" class=\"dataframe\">\n",
              "  <thead>\n",
              "    <tr style=\"text-align: right;\">\n",
              "      <th></th>\n",
              "      <th>Price</th>\n",
              "    </tr>\n",
              "    <tr>\n",
              "      <th>Date</th>\n",
              "      <th></th>\n",
              "    </tr>\n",
              "  </thead>\n",
              "  <tbody>\n",
              "    <tr>\n",
              "      <th>2019-07-01</th>\n",
              "      <td>65.10</td>\n",
              "    </tr>\n",
              "    <tr>\n",
              "      <th>2019-07-02</th>\n",
              "      <td>62.72</td>\n",
              "    </tr>\n",
              "    <tr>\n",
              "      <th>2019-07-03</th>\n",
              "      <td>63.53</td>\n",
              "    </tr>\n",
              "    <tr>\n",
              "      <th>2019-07-04</th>\n",
              "      <td>63.62</td>\n",
              "    </tr>\n",
              "    <tr>\n",
              "      <th>2019-07-05</th>\n",
              "      <td>64.23</td>\n",
              "    </tr>\n",
              "    <tr>\n",
              "      <th>2019-07-08</th>\n",
              "      <td>64.89</td>\n",
              "    </tr>\n",
              "    <tr>\n",
              "      <th>2019-07-09</th>\n",
              "      <td>64.30</td>\n",
              "    </tr>\n",
              "    <tr>\n",
              "      <th>2019-07-10</th>\n",
              "      <td>66.41</td>\n",
              "    </tr>\n",
              "    <tr>\n",
              "      <th>2019-07-11</th>\n",
              "      <td>67.64</td>\n",
              "    </tr>\n",
              "    <tr>\n",
              "      <th>2019-07-12</th>\n",
              "      <td>66.65</td>\n",
              "    </tr>\n",
              "    <tr>\n",
              "      <th>2019-07-15</th>\n",
              "      <td>66.86</td>\n",
              "    </tr>\n",
              "    <tr>\n",
              "      <th>2019-07-16</th>\n",
              "      <td>65.87</td>\n",
              "    </tr>\n",
              "    <tr>\n",
              "      <th>2019-07-17</th>\n",
              "      <td>63.67</td>\n",
              "    </tr>\n",
              "    <tr>\n",
              "      <th>2019-07-18</th>\n",
              "      <td>60.70</td>\n",
              "    </tr>\n",
              "    <tr>\n",
              "      <th>2019-07-19</th>\n",
              "      <td>61.04</td>\n",
              "    </tr>\n",
              "    <tr>\n",
              "      <th>2019-07-22</th>\n",
              "      <td>61.96</td>\n",
              "    </tr>\n",
              "    <tr>\n",
              "      <th>2019-07-23</th>\n",
              "      <td>62.28</td>\n",
              "    </tr>\n",
              "    <tr>\n",
              "      <th>2019-07-24</th>\n",
              "      <td>63.83</td>\n",
              "    </tr>\n",
              "    <tr>\n",
              "      <th>2019-07-25</th>\n",
              "      <td>63.47</td>\n",
              "    </tr>\n",
              "    <tr>\n",
              "      <th>2019-07-26</th>\n",
              "      <td>62.46</td>\n",
              "    </tr>\n",
              "    <tr>\n",
              "      <th>2019-07-29</th>\n",
              "      <td>62.29</td>\n",
              "    </tr>\n",
              "    <tr>\n",
              "      <th>2019-07-30</th>\n",
              "      <td>62.55</td>\n",
              "    </tr>\n",
              "    <tr>\n",
              "      <th>2019-07-31</th>\n",
              "      <td>64.07</td>\n",
              "    </tr>\n",
              "    <tr>\n",
              "      <th>2019-08-01</th>\n",
              "      <td>62.90</td>\n",
              "    </tr>\n",
              "    <tr>\n",
              "      <th>2019-08-02</th>\n",
              "      <td>61.12</td>\n",
              "    </tr>\n",
              "    <tr>\n",
              "      <th>2019-08-05</th>\n",
              "      <td>59.32</td>\n",
              "    </tr>\n",
              "    <tr>\n",
              "      <th>2019-08-06</th>\n",
              "      <td>58.63</td>\n",
              "    </tr>\n",
              "    <tr>\n",
              "      <th>2019-08-07</th>\n",
              "      <td>55.03</td>\n",
              "    </tr>\n",
              "    <tr>\n",
              "      <th>2019-08-08</th>\n",
              "      <td>56.29</td>\n",
              "    </tr>\n",
              "    <tr>\n",
              "      <th>2019-08-09</th>\n",
              "      <td>57.37</td>\n",
              "    </tr>\n",
              "    <tr>\n",
              "      <th>2019-08-12</th>\n",
              "      <td>57.13</td>\n",
              "    </tr>\n",
              "    <tr>\n",
              "      <th>2019-08-13</th>\n",
              "      <td>59.90</td>\n",
              "    </tr>\n",
              "    <tr>\n",
              "      <th>2019-08-14</th>\n",
              "      <td>57.86</td>\n",
              "    </tr>\n",
              "    <tr>\n",
              "      <th>2019-08-15</th>\n",
              "      <td>57.37</td>\n",
              "    </tr>\n",
              "  </tbody>\n",
              "</table>\n",
              "</div>"
            ],
            "text/plain": [
              "            Price\n",
              "Date             \n",
              "2019-07-01  65.10\n",
              "2019-07-02  62.72\n",
              "2019-07-03  63.53\n",
              "2019-07-04  63.62\n",
              "2019-07-05  64.23\n",
              "2019-07-08  64.89\n",
              "2019-07-09  64.30\n",
              "2019-07-10  66.41\n",
              "2019-07-11  67.64\n",
              "2019-07-12  66.65\n",
              "2019-07-15  66.86\n",
              "2019-07-16  65.87\n",
              "2019-07-17  63.67\n",
              "2019-07-18  60.70\n",
              "2019-07-19  61.04\n",
              "2019-07-22  61.96\n",
              "2019-07-23  62.28\n",
              "2019-07-24  63.83\n",
              "2019-07-25  63.47\n",
              "2019-07-26  62.46\n",
              "2019-07-29  62.29\n",
              "2019-07-30  62.55\n",
              "2019-07-31  64.07\n",
              "2019-08-01  62.90\n",
              "2019-08-02  61.12\n",
              "2019-08-05  59.32\n",
              "2019-08-06  58.63\n",
              "2019-08-07  55.03\n",
              "2019-08-08  56.29\n",
              "2019-08-09  57.37\n",
              "2019-08-12  57.13\n",
              "2019-08-13  59.90\n",
              "2019-08-14  57.86\n",
              "2019-08-15  57.37"
            ]
          },
          "metadata": {
            "tags": []
          },
          "execution_count": 108
        }
      ]
    },
    {
      "cell_type": "markdown",
      "metadata": {
        "id": "ML76eXKL7CGv",
        "colab_type": "text"
      },
      "source": [
        "#### Skill Challenge"
      ]
    },
    {
      "cell_type": "markdown",
      "metadata": {
        "id": "8ReyXibf7m1Z",
        "colab_type": "text"
      },
      "source": [
        "###### **1.**"
      ]
    },
    {
      "cell_type": "markdown",
      "metadata": {
        "id": "iH5IdBWj7t-I",
        "colab_type": "text"
      },
      "source": [
        "Using the *brent* time series, create a shorter dataframe that only contains the dates from 1 December 2015 to 31 March 2016."
      ]
    },
    {
      "cell_type": "markdown",
      "metadata": {
        "id": "aL_Ofxsv7vwU",
        "colab_type": "text"
      },
      "source": [
        "###### **2.**"
      ]
    },
    {
      "cell_type": "markdown",
      "metadata": {
        "id": "E43CLbID7xh8",
        "colab_type": "text"
      },
      "source": [
        "Repeat the above, but this time usng partial string indexing instead of specifying full dates. What was the standard deviation of prices during this period?"
      ]
    },
    {
      "cell_type": "markdown",
      "metadata": {
        "id": "I7THEzBB7zRV",
        "colab_type": "text"
      },
      "source": [
        "###### **3.**"
      ]
    },
    {
      "cell_type": "markdown",
      "metadata": {
        "id": "4w_To6Sz70ys",
        "colab_type": "text"
      },
      "source": [
        "Was the mean price from February 2018 greater or less than the median price from March 2017?"
      ]
    },
    {
      "cell_type": "markdown",
      "metadata": {
        "id": "83Hv3Kb2807w",
        "colab_type": "text"
      },
      "source": [
        "#### Solution"
      ]
    },
    {
      "cell_type": "code",
      "metadata": {
        "id": "EkplDHSk9jPB",
        "colab_type": "code",
        "colab": {}
      },
      "source": [
        "# 1"
      ],
      "execution_count": null,
      "outputs": []
    },
    {
      "cell_type": "code",
      "metadata": {
        "id": "Sia1KRAR9ltQ",
        "colab_type": "code",
        "colab": {
          "base_uri": "https://localhost:8080/"
        },
        "outputId": "e489e27b-dc89-4427-a6f3-b8526eb0a06a"
      },
      "source": [
        "brent.loc['12/1/2015':'3/31/2016']"
      ],
      "execution_count": null,
      "outputs": [
        {
          "output_type": "execute_result",
          "data": {
            "text/html": [
              "<div>\n",
              "<style scoped>\n",
              "    .dataframe tbody tr th:only-of-type {\n",
              "        vertical-align: middle;\n",
              "    }\n",
              "\n",
              "    .dataframe tbody tr th {\n",
              "        vertical-align: top;\n",
              "    }\n",
              "\n",
              "    .dataframe thead th {\n",
              "        text-align: right;\n",
              "    }\n",
              "</style>\n",
              "<table border=\"1\" class=\"dataframe\">\n",
              "  <thead>\n",
              "    <tr style=\"text-align: right;\">\n",
              "      <th></th>\n",
              "      <th>Price</th>\n",
              "    </tr>\n",
              "    <tr>\n",
              "      <th>Date</th>\n",
              "      <th></th>\n",
              "    </tr>\n",
              "  </thead>\n",
              "  <tbody>\n",
              "    <tr>\n",
              "      <th>2015-12-01</th>\n",
              "      <td>42.97</td>\n",
              "    </tr>\n",
              "    <tr>\n",
              "      <th>2015-12-02</th>\n",
              "      <td>41.92</td>\n",
              "    </tr>\n",
              "    <tr>\n",
              "      <th>2015-12-03</th>\n",
              "      <td>42.00</td>\n",
              "    </tr>\n",
              "    <tr>\n",
              "      <th>2015-12-04</th>\n",
              "      <td>41.44</td>\n",
              "    </tr>\n",
              "    <tr>\n",
              "      <th>2015-12-07</th>\n",
              "      <td>39.69</td>\n",
              "    </tr>\n",
              "    <tr>\n",
              "      <th>...</th>\n",
              "      <td>...</td>\n",
              "    </tr>\n",
              "    <tr>\n",
              "      <th>2016-03-24</th>\n",
              "      <td>38.33</td>\n",
              "    </tr>\n",
              "    <tr>\n",
              "      <th>2016-03-28</th>\n",
              "      <td>38.33</td>\n",
              "    </tr>\n",
              "    <tr>\n",
              "      <th>2016-03-29</th>\n",
              "      <td>36.75</td>\n",
              "    </tr>\n",
              "    <tr>\n",
              "      <th>2016-03-30</th>\n",
              "      <td>36.75</td>\n",
              "    </tr>\n",
              "    <tr>\n",
              "      <th>2016-03-31</th>\n",
              "      <td>36.75</td>\n",
              "    </tr>\n",
              "  </tbody>\n",
              "</table>\n",
              "<p>84 rows × 1 columns</p>\n",
              "</div>"
            ],
            "text/plain": [
              "            Price\n",
              "Date             \n",
              "2015-12-01  42.97\n",
              "2015-12-02  41.92\n",
              "2015-12-03  42.00\n",
              "2015-12-04  41.44\n",
              "2015-12-07  39.69\n",
              "...           ...\n",
              "2016-03-24  38.33\n",
              "2016-03-28  38.33\n",
              "2016-03-29  36.75\n",
              "2016-03-30  36.75\n",
              "2016-03-31  36.75\n",
              "\n",
              "[84 rows x 1 columns]"
            ]
          },
          "metadata": {
            "tags": []
          },
          "execution_count": 110
        }
      ]
    },
    {
      "cell_type": "code",
      "metadata": {
        "id": "r0qeGacK9tIh",
        "colab_type": "code",
        "colab": {}
      },
      "source": [
        "# 2"
      ],
      "execution_count": null,
      "outputs": []
    },
    {
      "cell_type": "code",
      "metadata": {
        "id": "RzvR8Gjr9v9-",
        "colab_type": "code",
        "colab": {
          "base_uri": "https://localhost:8080/"
        },
        "outputId": "ce86e23a-f5af-495a-8dc3-aa59c8713bc8"
      },
      "source": [
        "brent.loc['12/2015':'3/2016']"
      ],
      "execution_count": null,
      "outputs": [
        {
          "output_type": "execute_result",
          "data": {
            "text/html": [
              "<div>\n",
              "<style scoped>\n",
              "    .dataframe tbody tr th:only-of-type {\n",
              "        vertical-align: middle;\n",
              "    }\n",
              "\n",
              "    .dataframe tbody tr th {\n",
              "        vertical-align: top;\n",
              "    }\n",
              "\n",
              "    .dataframe thead th {\n",
              "        text-align: right;\n",
              "    }\n",
              "</style>\n",
              "<table border=\"1\" class=\"dataframe\">\n",
              "  <thead>\n",
              "    <tr style=\"text-align: right;\">\n",
              "      <th></th>\n",
              "      <th>Price</th>\n",
              "    </tr>\n",
              "    <tr>\n",
              "      <th>Date</th>\n",
              "      <th></th>\n",
              "    </tr>\n",
              "  </thead>\n",
              "  <tbody>\n",
              "    <tr>\n",
              "      <th>2015-12-01</th>\n",
              "      <td>42.97</td>\n",
              "    </tr>\n",
              "    <tr>\n",
              "      <th>2015-12-02</th>\n",
              "      <td>41.92</td>\n",
              "    </tr>\n",
              "    <tr>\n",
              "      <th>2015-12-03</th>\n",
              "      <td>42.00</td>\n",
              "    </tr>\n",
              "    <tr>\n",
              "      <th>2015-12-04</th>\n",
              "      <td>41.44</td>\n",
              "    </tr>\n",
              "    <tr>\n",
              "      <th>2015-12-07</th>\n",
              "      <td>39.69</td>\n",
              "    </tr>\n",
              "    <tr>\n",
              "      <th>...</th>\n",
              "      <td>...</td>\n",
              "    </tr>\n",
              "    <tr>\n",
              "      <th>2016-03-24</th>\n",
              "      <td>38.33</td>\n",
              "    </tr>\n",
              "    <tr>\n",
              "      <th>2016-03-28</th>\n",
              "      <td>38.33</td>\n",
              "    </tr>\n",
              "    <tr>\n",
              "      <th>2016-03-29</th>\n",
              "      <td>36.75</td>\n",
              "    </tr>\n",
              "    <tr>\n",
              "      <th>2016-03-30</th>\n",
              "      <td>36.75</td>\n",
              "    </tr>\n",
              "    <tr>\n",
              "      <th>2016-03-31</th>\n",
              "      <td>36.75</td>\n",
              "    </tr>\n",
              "  </tbody>\n",
              "</table>\n",
              "<p>84 rows × 1 columns</p>\n",
              "</div>"
            ],
            "text/plain": [
              "            Price\n",
              "Date             \n",
              "2015-12-01  42.97\n",
              "2015-12-02  41.92\n",
              "2015-12-03  42.00\n",
              "2015-12-04  41.44\n",
              "2015-12-07  39.69\n",
              "...           ...\n",
              "2016-03-24  38.33\n",
              "2016-03-28  38.33\n",
              "2016-03-29  36.75\n",
              "2016-03-30  36.75\n",
              "2016-03-31  36.75\n",
              "\n",
              "[84 rows x 1 columns]"
            ]
          },
          "metadata": {
            "tags": []
          },
          "execution_count": 112
        }
      ]
    },
    {
      "cell_type": "code",
      "metadata": {
        "id": "oWwY_01g9-Tu",
        "colab_type": "code",
        "colab": {
          "base_uri": "https://localhost:8080/"
        },
        "outputId": "d9a2161b-26fa-4724-9741-10f2a18097df"
      },
      "source": [
        "brent.loc['dec 2015': 'march 2016'].std()"
      ],
      "execution_count": null,
      "outputs": [
        {
          "output_type": "execute_result",
          "data": {
            "text/plain": [
              "Price    3.990123\n",
              "dtype: float64"
            ]
          },
          "metadata": {
            "tags": []
          },
          "execution_count": 113
        }
      ]
    },
    {
      "cell_type": "code",
      "metadata": {
        "id": "Ntz4yxLp-HC5",
        "colab_type": "code",
        "colab": {}
      },
      "source": [
        "# 3"
      ],
      "execution_count": null,
      "outputs": []
    },
    {
      "cell_type": "code",
      "metadata": {
        "id": "1mcDuPNq-PGq",
        "colab_type": "code",
        "colab": {
          "base_uri": "https://localhost:8080/"
        },
        "outputId": "90ccd5ca-0506-4d2a-d87e-56c634104bb7"
      },
      "source": [
        "brent.loc['feb 2018'].mean() > brent.loc['july 2017'].median()"
      ],
      "execution_count": null,
      "outputs": [
        {
          "output_type": "execute_result",
          "data": {
            "text/plain": [
              "Price    True\n",
              "dtype: bool"
            ]
          },
          "metadata": {
            "tags": []
          },
          "execution_count": 115
        }
      ]
    },
    {
      "cell_type": "markdown",
      "metadata": {
        "id": "qE-j6IzC-Trv",
        "colab_type": "text"
      },
      "source": [
        "#### DateTimeIndex Attribute Accessors"
      ]
    },
    {
      "cell_type": "code",
      "metadata": {
        "id": "JEEfkE6h-2RT",
        "colab_type": "code",
        "colab": {
          "base_uri": "https://localhost:8080/"
        },
        "outputId": "7cce6983-8246-4a79-c3da-226e26bba91b"
      },
      "source": [
        "brent.index"
      ],
      "execution_count": null,
      "outputs": [
        {
          "output_type": "execute_result",
          "data": {
            "text/plain": [
              "DatetimeIndex(['2000-01-04', '2000-01-05', '2000-01-06', '2000-01-07',\n",
              "               '2000-01-10', '2000-01-11', '2000-01-12', '2000-01-13',\n",
              "               '2000-01-14', '2000-01-17',\n",
              "               ...\n",
              "               '2019-09-17', '2019-09-18', '2019-09-19', '2019-09-20',\n",
              "               '2019-09-23', '2019-09-24', '2019-09-25', '2019-09-26',\n",
              "               '2019-09-27', '2019-09-30'],\n",
              "              dtype='datetime64[ns]', name='Date', length=5016, freq=None)"
            ]
          },
          "metadata": {
            "tags": []
          },
          "execution_count": 116
        }
      ]
    },
    {
      "cell_type": "code",
      "metadata": {
        "id": "uFMXb9D4BSzE",
        "colab_type": "code",
        "colab": {
          "base_uri": "https://localhost:8080/"
        },
        "outputId": "5683a749-a0d3-4330-8410-732187d780a4"
      },
      "source": [
        "brent.index.quarter"
      ],
      "execution_count": null,
      "outputs": [
        {
          "output_type": "execute_result",
          "data": {
            "text/plain": [
              "Int64Index([1, 1, 1, 1, 1, 1, 1, 1, 1, 1,\n",
              "            ...\n",
              "            3, 3, 3, 3, 3, 3, 3, 3, 3, 3],\n",
              "           dtype='int64', name='Date', length=5016)"
            ]
          },
          "metadata": {
            "tags": []
          },
          "execution_count": 117
        }
      ]
    },
    {
      "cell_type": "code",
      "metadata": {
        "id": "6LhialZJBVL_",
        "colab_type": "code",
        "colab": {
          "base_uri": "https://localhost:8080/"
        },
        "outputId": "06c4697b-6e9b-4557-bcdb-1c0402569c75"
      },
      "source": [
        "brent.index.week"
      ],
      "execution_count": null,
      "outputs": [
        {
          "output_type": "execute_result",
          "data": {
            "text/plain": [
              "Int64Index([ 1,  1,  1,  1,  2,  2,  2,  2,  2,  3,\n",
              "            ...\n",
              "            38, 38, 38, 38, 39, 39, 39, 39, 39, 40],\n",
              "           dtype='int64', name='Date', length=5016)"
            ]
          },
          "metadata": {
            "tags": []
          },
          "execution_count": 118
        }
      ]
    },
    {
      "cell_type": "code",
      "metadata": {
        "id": "sTUu_9ozBYtd",
        "colab_type": "code",
        "colab": {
          "base_uri": "https://localhost:8080/"
        },
        "outputId": "459c2af1-621c-46d3-db30-474bfb727f65"
      },
      "source": [
        "brent.index.month"
      ],
      "execution_count": null,
      "outputs": [
        {
          "output_type": "execute_result",
          "data": {
            "text/plain": [
              "Int64Index([1, 1, 1, 1, 1, 1, 1, 1, 1, 1,\n",
              "            ...\n",
              "            9, 9, 9, 9, 9, 9, 9, 9, 9, 9],\n",
              "           dtype='int64', name='Date', length=5016)"
            ]
          },
          "metadata": {
            "tags": []
          },
          "execution_count": 119
        }
      ]
    },
    {
      "cell_type": "code",
      "metadata": {
        "id": "svYLqouyBZhR",
        "colab_type": "code",
        "colab": {
          "base_uri": "https://localhost:8080/"
        },
        "outputId": "e71dc778-873b-481f-aaed-3aef6213661d"
      },
      "source": [
        "brent.index.weekofyear"
      ],
      "execution_count": null,
      "outputs": [
        {
          "output_type": "execute_result",
          "data": {
            "text/plain": [
              "Int64Index([ 1,  1,  1,  1,  2,  2,  2,  2,  2,  3,\n",
              "            ...\n",
              "            38, 38, 38, 38, 39, 39, 39, 39, 39, 40],\n",
              "           dtype='int64', name='Date', length=5016)"
            ]
          },
          "metadata": {
            "tags": []
          },
          "execution_count": 120
        }
      ]
    },
    {
      "cell_type": "code",
      "metadata": {
        "id": "hJxQKgNEBa-o",
        "colab_type": "code",
        "colab": {
          "base_uri": "https://localhost:8080/"
        },
        "outputId": "c4aa8b63-157a-4aa1-a6f5-1f7d102aec07"
      },
      "source": [
        "brent.index.day"
      ],
      "execution_count": null,
      "outputs": [
        {
          "output_type": "execute_result",
          "data": {
            "text/plain": [
              "Int64Index([ 4,  5,  6,  7, 10, 11, 12, 13, 14, 17,\n",
              "            ...\n",
              "            17, 18, 19, 20, 23, 24, 25, 26, 27, 30],\n",
              "           dtype='int64', name='Date', length=5016)"
            ]
          },
          "metadata": {
            "tags": []
          },
          "execution_count": 121
        }
      ]
    },
    {
      "cell_type": "code",
      "metadata": {
        "id": "qLobQ6rTBdTY",
        "colab_type": "code",
        "colab": {
          "base_uri": "https://localhost:8080/"
        },
        "outputId": "92126395-b5f5-411d-ac4f-76c6d5bb3006"
      },
      "source": [
        "brent.index.day_name()"
      ],
      "execution_count": null,
      "outputs": [
        {
          "output_type": "execute_result",
          "data": {
            "text/plain": [
              "Index(['Tuesday', 'Wednesday', 'Thursday', 'Friday', 'Monday', 'Tuesday',\n",
              "       'Wednesday', 'Thursday', 'Friday', 'Monday',\n",
              "       ...\n",
              "       'Tuesday', 'Wednesday', 'Thursday', 'Friday', 'Monday', 'Tuesday',\n",
              "       'Wednesday', 'Thursday', 'Friday', 'Monday'],\n",
              "      dtype='object', name='Date', length=5016)"
            ]
          },
          "metadata": {
            "tags": []
          },
          "execution_count": 122
        }
      ]
    },
    {
      "cell_type": "code",
      "metadata": {
        "id": "slIH0_xNBhAp",
        "colab_type": "code",
        "colab": {
          "base_uri": "https://localhost:8080/"
        },
        "outputId": "9b9be3ba-b892-4425-eb7c-ea4f1348a520"
      },
      "source": [
        "brent.head()"
      ],
      "execution_count": null,
      "outputs": [
        {
          "output_type": "execute_result",
          "data": {
            "text/html": [
              "<div>\n",
              "<style scoped>\n",
              "    .dataframe tbody tr th:only-of-type {\n",
              "        vertical-align: middle;\n",
              "    }\n",
              "\n",
              "    .dataframe tbody tr th {\n",
              "        vertical-align: top;\n",
              "    }\n",
              "\n",
              "    .dataframe thead th {\n",
              "        text-align: right;\n",
              "    }\n",
              "</style>\n",
              "<table border=\"1\" class=\"dataframe\">\n",
              "  <thead>\n",
              "    <tr style=\"text-align: right;\">\n",
              "      <th></th>\n",
              "      <th>Price</th>\n",
              "    </tr>\n",
              "    <tr>\n",
              "      <th>Date</th>\n",
              "      <th></th>\n",
              "    </tr>\n",
              "  </thead>\n",
              "  <tbody>\n",
              "    <tr>\n",
              "      <th>2000-01-04</th>\n",
              "      <td>23.95</td>\n",
              "    </tr>\n",
              "    <tr>\n",
              "      <th>2000-01-05</th>\n",
              "      <td>23.72</td>\n",
              "    </tr>\n",
              "    <tr>\n",
              "      <th>2000-01-06</th>\n",
              "      <td>23.55</td>\n",
              "    </tr>\n",
              "    <tr>\n",
              "      <th>2000-01-07</th>\n",
              "      <td>23.35</td>\n",
              "    </tr>\n",
              "    <tr>\n",
              "      <th>2000-01-10</th>\n",
              "      <td>22.77</td>\n",
              "    </tr>\n",
              "  </tbody>\n",
              "</table>\n",
              "</div>"
            ],
            "text/plain": [
              "            Price\n",
              "Date             \n",
              "2000-01-04  23.95\n",
              "2000-01-05  23.72\n",
              "2000-01-06  23.55\n",
              "2000-01-07  23.35\n",
              "2000-01-10  22.77"
            ]
          },
          "metadata": {
            "tags": []
          },
          "execution_count": 123
        }
      ]
    },
    {
      "cell_type": "code",
      "metadata": {
        "id": "MI6KF7FPBoo_",
        "colab_type": "code",
        "colab": {}
      },
      "source": [
        "# Q: what day has registered the lowest Brent price, on average, in the past 19 years"
      ],
      "execution_count": null,
      "outputs": []
    },
    {
      "cell_type": "code",
      "metadata": {
        "id": "O8jBg96_BzFj",
        "colab_type": "code",
        "colab": {}
      },
      "source": [
        "brent['Dayname'] = brent.index.day_name()"
      ],
      "execution_count": null,
      "outputs": []
    },
    {
      "cell_type": "code",
      "metadata": {
        "id": "UMvaRnMmB36s",
        "colab_type": "code",
        "colab": {
          "base_uri": "https://localhost:8080/"
        },
        "outputId": "05e81439-f642-4a70-be49-f910a8033ebb"
      },
      "source": [
        "brent.head()"
      ],
      "execution_count": null,
      "outputs": [
        {
          "output_type": "execute_result",
          "data": {
            "text/html": [
              "<div>\n",
              "<style scoped>\n",
              "    .dataframe tbody tr th:only-of-type {\n",
              "        vertical-align: middle;\n",
              "    }\n",
              "\n",
              "    .dataframe tbody tr th {\n",
              "        vertical-align: top;\n",
              "    }\n",
              "\n",
              "    .dataframe thead th {\n",
              "        text-align: right;\n",
              "    }\n",
              "</style>\n",
              "<table border=\"1\" class=\"dataframe\">\n",
              "  <thead>\n",
              "    <tr style=\"text-align: right;\">\n",
              "      <th></th>\n",
              "      <th>Price</th>\n",
              "      <th>Dayname</th>\n",
              "    </tr>\n",
              "    <tr>\n",
              "      <th>Date</th>\n",
              "      <th></th>\n",
              "      <th></th>\n",
              "    </tr>\n",
              "  </thead>\n",
              "  <tbody>\n",
              "    <tr>\n",
              "      <th>2000-01-04</th>\n",
              "      <td>23.95</td>\n",
              "      <td>Tuesday</td>\n",
              "    </tr>\n",
              "    <tr>\n",
              "      <th>2000-01-05</th>\n",
              "      <td>23.72</td>\n",
              "      <td>Wednesday</td>\n",
              "    </tr>\n",
              "    <tr>\n",
              "      <th>2000-01-06</th>\n",
              "      <td>23.55</td>\n",
              "      <td>Thursday</td>\n",
              "    </tr>\n",
              "    <tr>\n",
              "      <th>2000-01-07</th>\n",
              "      <td>23.35</td>\n",
              "      <td>Friday</td>\n",
              "    </tr>\n",
              "    <tr>\n",
              "      <th>2000-01-10</th>\n",
              "      <td>22.77</td>\n",
              "      <td>Monday</td>\n",
              "    </tr>\n",
              "  </tbody>\n",
              "</table>\n",
              "</div>"
            ],
            "text/plain": [
              "            Price    Dayname\n",
              "Date                        \n",
              "2000-01-04  23.95    Tuesday\n",
              "2000-01-05  23.72  Wednesday\n",
              "2000-01-06  23.55   Thursday\n",
              "2000-01-07  23.35     Friday\n",
              "2000-01-10  22.77     Monday"
            ]
          },
          "metadata": {
            "tags": []
          },
          "execution_count": 126
        }
      ]
    },
    {
      "cell_type": "code",
      "metadata": {
        "id": "oQ4sIy72B4yl",
        "colab_type": "code",
        "colab": {
          "base_uri": "https://localhost:8080/"
        },
        "outputId": "ffb708cd-3c15-4959-a50e-5d207a5b2e9b"
      },
      "source": [
        "brent.groupby('Dayname').mean().idxmin()"
      ],
      "execution_count": null,
      "outputs": [
        {
          "output_type": "execute_result",
          "data": {
            "text/plain": [
              "Price    Monday\n",
              "dtype: object"
            ]
          },
          "metadata": {
            "tags": []
          },
          "execution_count": 127
        }
      ]
    },
    {
      "cell_type": "code",
      "metadata": {
        "id": "r2muEvtVB_kH",
        "colab_type": "code",
        "colab": {}
      },
      "source": [
        "brent.drop(columns='Dayname', inplace=True)"
      ],
      "execution_count": null,
      "outputs": []
    },
    {
      "cell_type": "code",
      "metadata": {
        "id": "sSjSQ8SNCRIo",
        "colab_type": "code",
        "colab": {
          "base_uri": "https://localhost:8080/"
        },
        "outputId": "04c05aaa-d59b-47a1-a1e7-318f20a0a2c4"
      },
      "source": [
        "brent.head()"
      ],
      "execution_count": null,
      "outputs": [
        {
          "output_type": "execute_result",
          "data": {
            "text/html": [
              "<div>\n",
              "<style scoped>\n",
              "    .dataframe tbody tr th:only-of-type {\n",
              "        vertical-align: middle;\n",
              "    }\n",
              "\n",
              "    .dataframe tbody tr th {\n",
              "        vertical-align: top;\n",
              "    }\n",
              "\n",
              "    .dataframe thead th {\n",
              "        text-align: right;\n",
              "    }\n",
              "</style>\n",
              "<table border=\"1\" class=\"dataframe\">\n",
              "  <thead>\n",
              "    <tr style=\"text-align: right;\">\n",
              "      <th></th>\n",
              "      <th>Price</th>\n",
              "    </tr>\n",
              "    <tr>\n",
              "      <th>Date</th>\n",
              "      <th></th>\n",
              "    </tr>\n",
              "  </thead>\n",
              "  <tbody>\n",
              "    <tr>\n",
              "      <th>2000-01-04</th>\n",
              "      <td>23.95</td>\n",
              "    </tr>\n",
              "    <tr>\n",
              "      <th>2000-01-05</th>\n",
              "      <td>23.72</td>\n",
              "    </tr>\n",
              "    <tr>\n",
              "      <th>2000-01-06</th>\n",
              "      <td>23.55</td>\n",
              "    </tr>\n",
              "    <tr>\n",
              "      <th>2000-01-07</th>\n",
              "      <td>23.35</td>\n",
              "    </tr>\n",
              "    <tr>\n",
              "      <th>2000-01-10</th>\n",
              "      <td>22.77</td>\n",
              "    </tr>\n",
              "  </tbody>\n",
              "</table>\n",
              "</div>"
            ],
            "text/plain": [
              "            Price\n",
              "Date             \n",
              "2000-01-04  23.95\n",
              "2000-01-05  23.72\n",
              "2000-01-06  23.55\n",
              "2000-01-07  23.35\n",
              "2000-01-10  22.77"
            ]
          },
          "metadata": {
            "tags": []
          },
          "execution_count": 129
        }
      ]
    },
    {
      "cell_type": "code",
      "metadata": {
        "id": "mwb6YI8BCRqY",
        "colab_type": "code",
        "colab": {}
      },
      "source": [
        "# bool masks with datetimeindex atributes"
      ],
      "execution_count": null,
      "outputs": []
    },
    {
      "cell_type": "code",
      "metadata": {
        "id": "hJCedu3zCZB1",
        "colab_type": "code",
        "colab": {}
      },
      "source": [
        "# Q: find the average Brent price in all leap year Februaries"
      ],
      "execution_count": null,
      "outputs": []
    },
    {
      "cell_type": "code",
      "metadata": {
        "id": "FQxE9gM6Cf99",
        "colab_type": "code",
        "colab": {}
      },
      "source": [
        "# ===ASIDE"
      ],
      "execution_count": null,
      "outputs": []
    },
    {
      "cell_type": "code",
      "metadata": {
        "id": "my4FMgA1Ck5w",
        "colab_type": "code",
        "colab": {}
      },
      "source": [
        "# regular year: 365 days"
      ],
      "execution_count": null,
      "outputs": []
    },
    {
      "cell_type": "code",
      "metadata": {
        "id": "85jAASxDComl",
        "colab_type": "code",
        "colab": {}
      },
      "source": [
        "# astronomical year: 365.25"
      ],
      "execution_count": null,
      "outputs": []
    },
    {
      "cell_type": "code",
      "metadata": {
        "id": "Wony_PDKCqR8",
        "colab_type": "code",
        "colab": {}
      },
      "source": [
        "# every 4 years: .25 * 4 = 1 day and that day is added to the regular year (366, a leap yaer)"
      ],
      "execution_count": null,
      "outputs": []
    },
    {
      "cell_type": "code",
      "metadata": {
        "id": "io1DIrUxC0eo",
        "colab_type": "code",
        "colab": {}
      },
      "source": [
        "# ===END ASIDE"
      ],
      "execution_count": null,
      "outputs": []
    },
    {
      "cell_type": "code",
      "metadata": {
        "id": "WuCuNOKSC8Hv",
        "colab_type": "code",
        "colab": {}
      },
      "source": [
        ""
      ],
      "execution_count": null,
      "outputs": []
    },
    {
      "cell_type": "code",
      "metadata": {
        "id": "KwaS9ylNC8Ct",
        "colab_type": "code",
        "colab": {
          "base_uri": "https://localhost:8080/"
        },
        "outputId": "af3f9e06-f47a-4740-bc85-a921b792452f"
      },
      "source": [
        "brent[(brent.index.is_leap_year == True) & (brent.index.month == 2)].mean()"
      ],
      "execution_count": null,
      "outputs": [
        {
          "output_type": "execute_result",
          "data": {
            "text/plain": [
              "Price    60.696634\n",
              "dtype: float64"
            ]
          },
          "metadata": {
            "tags": []
          },
          "execution_count": 137
        }
      ]
    },
    {
      "cell_type": "markdown",
      "metadata": {
        "id": "B7906k93C1jv",
        "colab_type": "text"
      },
      "source": [
        "#### Creating Date Ranges"
      ]
    },
    {
      "cell_type": "code",
      "metadata": {
        "id": "Xy7QNR-JMRQk",
        "colab_type": "code",
        "colab": {
          "base_uri": "https://localhost:8080/"
        },
        "outputId": "46282b23-413d-4cce-a41f-344bff7a24a8"
      },
      "source": [
        "brent.index"
      ],
      "execution_count": null,
      "outputs": [
        {
          "output_type": "execute_result",
          "data": {
            "text/plain": [
              "DatetimeIndex(['2000-01-04', '2000-01-05', '2000-01-06', '2000-01-07',\n",
              "               '2000-01-10', '2000-01-11', '2000-01-12', '2000-01-13',\n",
              "               '2000-01-14', '2000-01-17',\n",
              "               ...\n",
              "               '2019-09-17', '2019-09-18', '2019-09-19', '2019-09-20',\n",
              "               '2019-09-23', '2019-09-24', '2019-09-25', '2019-09-26',\n",
              "               '2019-09-27', '2019-09-30'],\n",
              "              dtype='datetime64[ns]', name='Date', length=5016, freq=None)"
            ]
          },
          "metadata": {
            "tags": []
          },
          "execution_count": 138
        }
      ]
    },
    {
      "cell_type": "code",
      "metadata": {
        "id": "kJtGB5RMOEeG",
        "colab_type": "code",
        "colab": {}
      },
      "source": [
        "# date_range"
      ],
      "execution_count": null,
      "outputs": []
    },
    {
      "cell_type": "code",
      "metadata": {
        "id": "so_vS6q_ORms",
        "colab_type": "code",
        "colab": {
          "base_uri": "https://localhost:8080/"
        },
        "outputId": "7d6d81f4-0551-4a89-9241-f71e0e3d84db"
      },
      "source": [
        "pd.date_range(start='10 may 2020', end='20 june 2020')"
      ],
      "execution_count": null,
      "outputs": [
        {
          "output_type": "execute_result",
          "data": {
            "text/plain": [
              "DatetimeIndex(['2020-05-10', '2020-05-11', '2020-05-12', '2020-05-13',\n",
              "               '2020-05-14', '2020-05-15', '2020-05-16', '2020-05-17',\n",
              "               '2020-05-18', '2020-05-19', '2020-05-20', '2020-05-21',\n",
              "               '2020-05-22', '2020-05-23', '2020-05-24', '2020-05-25',\n",
              "               '2020-05-26', '2020-05-27', '2020-05-28', '2020-05-29',\n",
              "               '2020-05-30', '2020-05-31', '2020-06-01', '2020-06-02',\n",
              "               '2020-06-03', '2020-06-04', '2020-06-05', '2020-06-06',\n",
              "               '2020-06-07', '2020-06-08', '2020-06-09', '2020-06-10',\n",
              "               '2020-06-11', '2020-06-12', '2020-06-13', '2020-06-14',\n",
              "               '2020-06-15', '2020-06-16', '2020-06-17', '2020-06-18',\n",
              "               '2020-06-19', '2020-06-20'],\n",
              "              dtype='datetime64[ns]', freq='D')"
            ]
          },
          "metadata": {
            "tags": []
          },
          "execution_count": 140
        }
      ]
    },
    {
      "cell_type": "code",
      "metadata": {
        "id": "jfSeIm7ROUq3",
        "colab_type": "code",
        "colab": {
          "base_uri": "https://localhost:8080/"
        },
        "outputId": "7d21a9b0-f774-4fd3-d1cc-cd3665aa1b06"
      },
      "source": [
        "pd.date_range('5/10/2020', '20 june 2020')"
      ],
      "execution_count": null,
      "outputs": [
        {
          "output_type": "execute_result",
          "data": {
            "text/plain": [
              "DatetimeIndex(['2020-05-10', '2020-05-11', '2020-05-12', '2020-05-13',\n",
              "               '2020-05-14', '2020-05-15', '2020-05-16', '2020-05-17',\n",
              "               '2020-05-18', '2020-05-19', '2020-05-20', '2020-05-21',\n",
              "               '2020-05-22', '2020-05-23', '2020-05-24', '2020-05-25',\n",
              "               '2020-05-26', '2020-05-27', '2020-05-28', '2020-05-29',\n",
              "               '2020-05-30', '2020-05-31', '2020-06-01', '2020-06-02',\n",
              "               '2020-06-03', '2020-06-04', '2020-06-05', '2020-06-06',\n",
              "               '2020-06-07', '2020-06-08', '2020-06-09', '2020-06-10',\n",
              "               '2020-06-11', '2020-06-12', '2020-06-13', '2020-06-14',\n",
              "               '2020-06-15', '2020-06-16', '2020-06-17', '2020-06-18',\n",
              "               '2020-06-19', '2020-06-20'],\n",
              "              dtype='datetime64[ns]', freq='D')"
            ]
          },
          "metadata": {
            "tags": []
          },
          "execution_count": 141
        }
      ]
    },
    {
      "cell_type": "code",
      "metadata": {
        "id": "L_PRSWLKOdBe",
        "colab_type": "code",
        "colab": {
          "base_uri": "https://localhost:8080/"
        },
        "outputId": "97748e1a-4da4-4e99-c507-1f3e0efde75c"
      },
      "source": [
        "pd.date_range(start='1/20/2020', periods=10)"
      ],
      "execution_count": null,
      "outputs": [
        {
          "output_type": "execute_result",
          "data": {
            "text/plain": [
              "DatetimeIndex(['2020-01-20', '2020-01-21', '2020-01-22', '2020-01-23',\n",
              "               '2020-01-24', '2020-01-25', '2020-01-26', '2020-01-27',\n",
              "               '2020-01-28', '2020-01-29'],\n",
              "              dtype='datetime64[ns]', freq='D')"
            ]
          },
          "metadata": {
            "tags": []
          },
          "execution_count": 142
        }
      ]
    },
    {
      "cell_type": "code",
      "metadata": {
        "id": "QRaylm1AOuN9",
        "colab_type": "code",
        "colab": {}
      },
      "source": [
        "# 10 weeks after"
      ],
      "execution_count": null,
      "outputs": []
    },
    {
      "cell_type": "code",
      "metadata": {
        "id": "rbz5TJdnO7E1",
        "colab_type": "code",
        "colab": {
          "base_uri": "https://localhost:8080/"
        },
        "outputId": "7847fe50-666b-42e0-e788-f5d8b927d9e4"
      },
      "source": [
        "pd.date_range(start='1/20/2020', periods=10, freq='2W')"
      ],
      "execution_count": null,
      "outputs": [
        {
          "output_type": "execute_result",
          "data": {
            "text/plain": [
              "DatetimeIndex(['2020-01-26', '2020-02-09', '2020-02-23', '2020-03-08',\n",
              "               '2020-03-22', '2020-04-05', '2020-04-19', '2020-05-03',\n",
              "               '2020-05-17', '2020-05-31'],\n",
              "              dtype='datetime64[ns]', freq='2W-SUN')"
            ]
          },
          "metadata": {
            "tags": []
          },
          "execution_count": 144
        }
      ]
    },
    {
      "cell_type": "code",
      "metadata": {
        "id": "yX2pu5UEO8ac",
        "colab_type": "code",
        "colab": {}
      },
      "source": [
        "# the 20 month ends before jan 2021"
      ],
      "execution_count": null,
      "outputs": []
    },
    {
      "cell_type": "code",
      "metadata": {
        "id": "sideWvOrPOHK",
        "colab_type": "code",
        "colab": {}
      },
      "source": [
        "dti = pd.date_range(end='jan 2021', periods=20, freq='M')"
      ],
      "execution_count": null,
      "outputs": []
    },
    {
      "cell_type": "code",
      "metadata": {
        "id": "JWiGAWjPPRzu",
        "colab_type": "code",
        "colab": {
          "base_uri": "https://localhost:8080/"
        },
        "outputId": "3b985e5b-a4e5-4855-f844-a44d25f806d1"
      },
      "source": [
        "pd.DataFrame(index=dti, data=np.random.randint(100, size=(20, 4)), columns=list('abcd'))"
      ],
      "execution_count": null,
      "outputs": [
        {
          "output_type": "execute_result",
          "data": {
            "text/html": [
              "<div>\n",
              "<style scoped>\n",
              "    .dataframe tbody tr th:only-of-type {\n",
              "        vertical-align: middle;\n",
              "    }\n",
              "\n",
              "    .dataframe tbody tr th {\n",
              "        vertical-align: top;\n",
              "    }\n",
              "\n",
              "    .dataframe thead th {\n",
              "        text-align: right;\n",
              "    }\n",
              "</style>\n",
              "<table border=\"1\" class=\"dataframe\">\n",
              "  <thead>\n",
              "    <tr style=\"text-align: right;\">\n",
              "      <th></th>\n",
              "      <th>a</th>\n",
              "      <th>b</th>\n",
              "      <th>c</th>\n",
              "      <th>d</th>\n",
              "    </tr>\n",
              "  </thead>\n",
              "  <tbody>\n",
              "    <tr>\n",
              "      <th>2019-05-31</th>\n",
              "      <td>72</td>\n",
              "      <td>66</td>\n",
              "      <td>17</td>\n",
              "      <td>95</td>\n",
              "    </tr>\n",
              "    <tr>\n",
              "      <th>2019-06-30</th>\n",
              "      <td>22</td>\n",
              "      <td>3</td>\n",
              "      <td>0</td>\n",
              "      <td>61</td>\n",
              "    </tr>\n",
              "    <tr>\n",
              "      <th>2019-07-31</th>\n",
              "      <td>14</td>\n",
              "      <td>51</td>\n",
              "      <td>30</td>\n",
              "      <td>47</td>\n",
              "    </tr>\n",
              "    <tr>\n",
              "      <th>2019-08-31</th>\n",
              "      <td>17</td>\n",
              "      <td>91</td>\n",
              "      <td>68</td>\n",
              "      <td>42</td>\n",
              "    </tr>\n",
              "    <tr>\n",
              "      <th>2019-09-30</th>\n",
              "      <td>46</td>\n",
              "      <td>44</td>\n",
              "      <td>18</td>\n",
              "      <td>95</td>\n",
              "    </tr>\n",
              "    <tr>\n",
              "      <th>2019-10-31</th>\n",
              "      <td>85</td>\n",
              "      <td>8</td>\n",
              "      <td>88</td>\n",
              "      <td>85</td>\n",
              "    </tr>\n",
              "    <tr>\n",
              "      <th>2019-11-30</th>\n",
              "      <td>47</td>\n",
              "      <td>15</td>\n",
              "      <td>64</td>\n",
              "      <td>90</td>\n",
              "    </tr>\n",
              "    <tr>\n",
              "      <th>2019-12-31</th>\n",
              "      <td>83</td>\n",
              "      <td>78</td>\n",
              "      <td>56</td>\n",
              "      <td>74</td>\n",
              "    </tr>\n",
              "    <tr>\n",
              "      <th>2020-01-31</th>\n",
              "      <td>31</td>\n",
              "      <td>96</td>\n",
              "      <td>95</td>\n",
              "      <td>49</td>\n",
              "    </tr>\n",
              "    <tr>\n",
              "      <th>2020-02-29</th>\n",
              "      <td>71</td>\n",
              "      <td>31</td>\n",
              "      <td>8</td>\n",
              "      <td>15</td>\n",
              "    </tr>\n",
              "    <tr>\n",
              "      <th>2020-03-31</th>\n",
              "      <td>30</td>\n",
              "      <td>3</td>\n",
              "      <td>76</td>\n",
              "      <td>50</td>\n",
              "    </tr>\n",
              "    <tr>\n",
              "      <th>2020-04-30</th>\n",
              "      <td>83</td>\n",
              "      <td>1</td>\n",
              "      <td>55</td>\n",
              "      <td>18</td>\n",
              "    </tr>\n",
              "    <tr>\n",
              "      <th>2020-05-31</th>\n",
              "      <td>81</td>\n",
              "      <td>28</td>\n",
              "      <td>58</td>\n",
              "      <td>5</td>\n",
              "    </tr>\n",
              "    <tr>\n",
              "      <th>2020-06-30</th>\n",
              "      <td>93</td>\n",
              "      <td>34</td>\n",
              "      <td>88</td>\n",
              "      <td>34</td>\n",
              "    </tr>\n",
              "    <tr>\n",
              "      <th>2020-07-31</th>\n",
              "      <td>46</td>\n",
              "      <td>25</td>\n",
              "      <td>18</td>\n",
              "      <td>16</td>\n",
              "    </tr>\n",
              "    <tr>\n",
              "      <th>2020-08-31</th>\n",
              "      <td>97</td>\n",
              "      <td>90</td>\n",
              "      <td>54</td>\n",
              "      <td>43</td>\n",
              "    </tr>\n",
              "    <tr>\n",
              "      <th>2020-09-30</th>\n",
              "      <td>88</td>\n",
              "      <td>53</td>\n",
              "      <td>4</td>\n",
              "      <td>21</td>\n",
              "    </tr>\n",
              "    <tr>\n",
              "      <th>2020-10-31</th>\n",
              "      <td>15</td>\n",
              "      <td>44</td>\n",
              "      <td>51</td>\n",
              "      <td>10</td>\n",
              "    </tr>\n",
              "    <tr>\n",
              "      <th>2020-11-30</th>\n",
              "      <td>77</td>\n",
              "      <td>92</td>\n",
              "      <td>10</td>\n",
              "      <td>28</td>\n",
              "    </tr>\n",
              "    <tr>\n",
              "      <th>2020-12-31</th>\n",
              "      <td>49</td>\n",
              "      <td>39</td>\n",
              "      <td>22</td>\n",
              "      <td>94</td>\n",
              "    </tr>\n",
              "  </tbody>\n",
              "</table>\n",
              "</div>"
            ],
            "text/plain": [
              "             a   b   c   d\n",
              "2019-05-31  72  66  17  95\n",
              "2019-06-30  22   3   0  61\n",
              "2019-07-31  14  51  30  47\n",
              "2019-08-31  17  91  68  42\n",
              "2019-09-30  46  44  18  95\n",
              "2019-10-31  85   8  88  85\n",
              "2019-11-30  47  15  64  90\n",
              "2019-12-31  83  78  56  74\n",
              "2020-01-31  31  96  95  49\n",
              "2020-02-29  71  31   8  15\n",
              "2020-03-31  30   3  76  50\n",
              "2020-04-30  83   1  55  18\n",
              "2020-05-31  81  28  58   5\n",
              "2020-06-30  93  34  88  34\n",
              "2020-07-31  46  25  18  16\n",
              "2020-08-31  97  90  54  43\n",
              "2020-09-30  88  53   4  21\n",
              "2020-10-31  15  44  51  10\n",
              "2020-11-30  77  92  10  28\n",
              "2020-12-31  49  39  22  94"
            ]
          },
          "metadata": {
            "tags": []
          },
          "execution_count": 147
        }
      ]
    },
    {
      "cell_type": "markdown",
      "metadata": {
        "id": "qQBYLU5tPhWv",
        "colab_type": "text"
      },
      "source": [
        "#### Shifting Dates With pd.DateOffset"
      ]
    },
    {
      "cell_type": "code",
      "metadata": {
        "id": "KA11T6CmQF4a",
        "colab_type": "code",
        "colab": {}
      },
      "source": [
        "# how to shift our datetimes?"
      ],
      "execution_count": null,
      "outputs": []
    },
    {
      "cell_type": "code",
      "metadata": {
        "id": "wizDX1TrTCsy",
        "colab_type": "code",
        "colab": {}
      },
      "source": [
        "dob = pd.Timestamp('2020-03-09') # racing pigeon"
      ],
      "execution_count": null,
      "outputs": []
    },
    {
      "cell_type": "code",
      "metadata": {
        "id": "iRkBWz3nTdYM",
        "colab_type": "code",
        "colab": {}
      },
      "source": [
        "# Q: when was the egg laid?"
      ],
      "execution_count": null,
      "outputs": []
    },
    {
      "cell_type": "code",
      "metadata": {
        "id": "PsHOZrCyToN3",
        "colab_type": "code",
        "colab": {}
      },
      "source": [
        "# dob - 18"
      ],
      "execution_count": null,
      "outputs": []
    },
    {
      "cell_type": "code",
      "metadata": {
        "id": "Yy_1bs_nTsSu",
        "colab_type": "code",
        "colab": {
          "base_uri": "https://localhost:8080/"
        },
        "outputId": "c1a6efaf-a8bd-493d-e874-e3926a3e0535"
      },
      "source": [
        "dob - pd.DateOffset(days=18)"
      ],
      "execution_count": null,
      "outputs": [
        {
          "output_type": "execute_result",
          "data": {
            "text/plain": [
              "Timestamp('2020-02-20 00:00:00')"
            ]
          },
          "metadata": {
            "tags": []
          },
          "execution_count": 152
        }
      ]
    },
    {
      "cell_type": "code",
      "metadata": {
        "id": "cBnau54KT1Tu",
        "colab_type": "code",
        "colab": {}
      },
      "source": [
        "# DateOffset supports many temporal params"
      ],
      "execution_count": null,
      "outputs": []
    },
    {
      "cell_type": "code",
      "metadata": {
        "id": "CwblF3DEUFSO",
        "colab_type": "code",
        "colab": {
          "base_uri": "https://localhost:8080/"
        },
        "outputId": "995ae5bf-bf05-45d4-b0fa-7c67e5830ccb"
      },
      "source": [
        "pd.DateOffset(days=4, minutes=10, nanoseconds=2)"
      ],
      "execution_count": null,
      "outputs": [
        {
          "output_type": "execute_result",
          "data": {
            "text/plain": [
              "<DateOffset: days=4, minutes=10, nanoseconds=2>"
            ]
          },
          "metadata": {
            "tags": []
          },
          "execution_count": 154
        }
      ]
    },
    {
      "cell_type": "code",
      "metadata": {
        "id": "LOJ7RY56UH3b",
        "colab_type": "code",
        "colab": {
          "base_uri": "https://localhost:8080/"
        },
        "outputId": "270ab3a8-7ed1-40a9-8708-29dfdc1d2bfd"
      },
      "source": [
        "pd.DateOffset(year=10)"
      ],
      "execution_count": null,
      "outputs": [
        {
          "output_type": "execute_result",
          "data": {
            "text/plain": [
              "<DateOffset: year=10>"
            ]
          },
          "metadata": {
            "tags": []
          },
          "execution_count": 155
        }
      ]
    },
    {
      "cell_type": "code",
      "metadata": {
        "id": "deXGYUv_UKx8",
        "colab_type": "code",
        "colab": {
          "base_uri": "https://localhost:8080/"
        },
        "outputId": "cb008251-16c3-413f-8b95-753555f5ad38"
      },
      "source": [
        "brent.head()"
      ],
      "execution_count": null,
      "outputs": [
        {
          "output_type": "execute_result",
          "data": {
            "text/html": [
              "<div>\n",
              "<style scoped>\n",
              "    .dataframe tbody tr th:only-of-type {\n",
              "        vertical-align: middle;\n",
              "    }\n",
              "\n",
              "    .dataframe tbody tr th {\n",
              "        vertical-align: top;\n",
              "    }\n",
              "\n",
              "    .dataframe thead th {\n",
              "        text-align: right;\n",
              "    }\n",
              "</style>\n",
              "<table border=\"1\" class=\"dataframe\">\n",
              "  <thead>\n",
              "    <tr style=\"text-align: right;\">\n",
              "      <th></th>\n",
              "      <th>Price</th>\n",
              "    </tr>\n",
              "    <tr>\n",
              "      <th>Date</th>\n",
              "      <th></th>\n",
              "    </tr>\n",
              "  </thead>\n",
              "  <tbody>\n",
              "    <tr>\n",
              "      <th>2000-01-04</th>\n",
              "      <td>23.95</td>\n",
              "    </tr>\n",
              "    <tr>\n",
              "      <th>2000-01-05</th>\n",
              "      <td>23.72</td>\n",
              "    </tr>\n",
              "    <tr>\n",
              "      <th>2000-01-06</th>\n",
              "      <td>23.55</td>\n",
              "    </tr>\n",
              "    <tr>\n",
              "      <th>2000-01-07</th>\n",
              "      <td>23.35</td>\n",
              "    </tr>\n",
              "    <tr>\n",
              "      <th>2000-01-10</th>\n",
              "      <td>22.77</td>\n",
              "    </tr>\n",
              "  </tbody>\n",
              "</table>\n",
              "</div>"
            ],
            "text/plain": [
              "            Price\n",
              "Date             \n",
              "2000-01-04  23.95\n",
              "2000-01-05  23.72\n",
              "2000-01-06  23.55\n",
              "2000-01-07  23.35\n",
              "2000-01-10  22.77"
            ]
          },
          "metadata": {
            "tags": []
          },
          "execution_count": 156
        }
      ]
    },
    {
      "cell_type": "code",
      "metadata": {
        "id": "xdKMtG-MUOpM",
        "colab_type": "code",
        "colab": {
          "base_uri": "https://localhost:8080/"
        },
        "outputId": "4ca04307-4e6b-44a2-d1d7-6acf4931e45b"
      },
      "source": [
        "brent.set_index(brent.index + pd.DateOffset(hours=18))"
      ],
      "execution_count": null,
      "outputs": [
        {
          "output_type": "execute_result",
          "data": {
            "text/html": [
              "<div>\n",
              "<style scoped>\n",
              "    .dataframe tbody tr th:only-of-type {\n",
              "        vertical-align: middle;\n",
              "    }\n",
              "\n",
              "    .dataframe tbody tr th {\n",
              "        vertical-align: top;\n",
              "    }\n",
              "\n",
              "    .dataframe thead th {\n",
              "        text-align: right;\n",
              "    }\n",
              "</style>\n",
              "<table border=\"1\" class=\"dataframe\">\n",
              "  <thead>\n",
              "    <tr style=\"text-align: right;\">\n",
              "      <th></th>\n",
              "      <th>Price</th>\n",
              "    </tr>\n",
              "    <tr>\n",
              "      <th>Date</th>\n",
              "      <th></th>\n",
              "    </tr>\n",
              "  </thead>\n",
              "  <tbody>\n",
              "    <tr>\n",
              "      <th>2000-01-04 18:00:00</th>\n",
              "      <td>23.95</td>\n",
              "    </tr>\n",
              "    <tr>\n",
              "      <th>2000-01-05 18:00:00</th>\n",
              "      <td>23.72</td>\n",
              "    </tr>\n",
              "    <tr>\n",
              "      <th>2000-01-06 18:00:00</th>\n",
              "      <td>23.55</td>\n",
              "    </tr>\n",
              "    <tr>\n",
              "      <th>2000-01-07 18:00:00</th>\n",
              "      <td>23.35</td>\n",
              "    </tr>\n",
              "    <tr>\n",
              "      <th>2000-01-10 18:00:00</th>\n",
              "      <td>22.77</td>\n",
              "    </tr>\n",
              "    <tr>\n",
              "      <th>...</th>\n",
              "      <td>...</td>\n",
              "    </tr>\n",
              "    <tr>\n",
              "      <th>2019-09-24 18:00:00</th>\n",
              "      <td>64.13</td>\n",
              "    </tr>\n",
              "    <tr>\n",
              "      <th>2019-09-25 18:00:00</th>\n",
              "      <td>62.41</td>\n",
              "    </tr>\n",
              "    <tr>\n",
              "      <th>2019-09-26 18:00:00</th>\n",
              "      <td>62.08</td>\n",
              "    </tr>\n",
              "    <tr>\n",
              "      <th>2019-09-27 18:00:00</th>\n",
              "      <td>62.48</td>\n",
              "    </tr>\n",
              "    <tr>\n",
              "      <th>2019-09-30 18:00:00</th>\n",
              "      <td>60.99</td>\n",
              "    </tr>\n",
              "  </tbody>\n",
              "</table>\n",
              "<p>5016 rows × 1 columns</p>\n",
              "</div>"
            ],
            "text/plain": [
              "                     Price\n",
              "Date                      \n",
              "2000-01-04 18:00:00  23.95\n",
              "2000-01-05 18:00:00  23.72\n",
              "2000-01-06 18:00:00  23.55\n",
              "2000-01-07 18:00:00  23.35\n",
              "2000-01-10 18:00:00  22.77\n",
              "...                    ...\n",
              "2019-09-24 18:00:00  64.13\n",
              "2019-09-25 18:00:00  62.41\n",
              "2019-09-26 18:00:00  62.08\n",
              "2019-09-27 18:00:00  62.48\n",
              "2019-09-30 18:00:00  60.99\n",
              "\n",
              "[5016 rows x 1 columns]"
            ]
          },
          "metadata": {
            "tags": []
          },
          "execution_count": 157
        }
      ]
    },
    {
      "cell_type": "code",
      "metadata": {
        "id": "Noi7PyRNU1_d",
        "colab_type": "code",
        "colab": {
          "base_uri": "https://localhost:8080/"
        },
        "outputId": "ecc8e7b1-165d-4b5a-9219-b78a9876eef6"
      },
      "source": [
        "brent.set_index(brent.index + pd.DateOffset(hours=18)).index"
      ],
      "execution_count": null,
      "outputs": [
        {
          "output_type": "execute_result",
          "data": {
            "text/plain": [
              "DatetimeIndex(['2000-01-04 18:00:00', '2000-01-05 18:00:00',\n",
              "               '2000-01-06 18:00:00', '2000-01-07 18:00:00',\n",
              "               '2000-01-10 18:00:00', '2000-01-11 18:00:00',\n",
              "               '2000-01-12 18:00:00', '2000-01-13 18:00:00',\n",
              "               '2000-01-14 18:00:00', '2000-01-17 18:00:00',\n",
              "               ...\n",
              "               '2019-09-17 18:00:00', '2019-09-18 18:00:00',\n",
              "               '2019-09-19 18:00:00', '2019-09-20 18:00:00',\n",
              "               '2019-09-23 18:00:00', '2019-09-24 18:00:00',\n",
              "               '2019-09-25 18:00:00', '2019-09-26 18:00:00',\n",
              "               '2019-09-27 18:00:00', '2019-09-30 18:00:00'],\n",
              "              dtype='datetime64[ns]', name='Date', length=5016, freq=None)"
            ]
          },
          "metadata": {
            "tags": []
          },
          "execution_count": 158
        }
      ]
    },
    {
      "cell_type": "markdown",
      "metadata": {
        "id": "GunZY1N_U49v",
        "colab_type": "text"
      },
      "source": [
        "#### BONUS: Timedeltas And Absolute Time"
      ]
    },
    {
      "cell_type": "code",
      "metadata": {
        "id": "KxcXbt6ZV2WF",
        "colab_type": "code",
        "colab": {}
      },
      "source": [
        "# the TimeDelta class"
      ],
      "execution_count": null,
      "outputs": []
    },
    {
      "cell_type": "code",
      "metadata": {
        "id": "WK7i3na2ZQg5",
        "colab_type": "code",
        "colab": {
          "base_uri": "https://localhost:8080/",
          "height": 34
        },
        "outputId": "3a240185-f789-4e80-c2a1-1071ad98f70b"
      },
      "source": [
        "pd.Timedelta(days=3, hours=4)"
      ],
      "execution_count": null,
      "outputs": [
        {
          "output_type": "execute_result",
          "data": {
            "text/plain": [
              "Timedelta('3 days 04:00:00')"
            ]
          },
          "metadata": {
            "tags": []
          },
          "execution_count": 160
        }
      ]
    },
    {
      "cell_type": "code",
      "metadata": {
        "id": "xZ-3HcGWb8nL",
        "colab_type": "code",
        "colab": {
          "base_uri": "https://localhost:8080/",
          "height": 34
        },
        "outputId": "3edee973-4400-4575-f35e-6a5a4bde550c"
      },
      "source": [
        "pd.DateOffset(days=3, hours=4)"
      ],
      "execution_count": null,
      "outputs": [
        {
          "output_type": "execute_result",
          "data": {
            "text/plain": [
              "<DateOffset: days=3, hours=4>"
            ]
          },
          "metadata": {
            "tags": []
          },
          "execution_count": 161
        }
      ]
    },
    {
      "cell_type": "code",
      "metadata": {
        "id": "_H7Otml0cAOM",
        "colab_type": "code",
        "colab": {}
      },
      "source": [
        "ts = brent.iloc[0].name"
      ],
      "execution_count": null,
      "outputs": []
    },
    {
      "cell_type": "code",
      "metadata": {
        "id": "hX1My8AfcGBE",
        "colab_type": "code",
        "colab": {
          "base_uri": "https://localhost:8080/",
          "height": 34
        },
        "outputId": "bba2045e-03b2-459e-8423-3f1a70558b70"
      },
      "source": [
        "ts + pd.Timedelta(days=3, hours=4)"
      ],
      "execution_count": null,
      "outputs": [
        {
          "output_type": "execute_result",
          "data": {
            "text/plain": [
              "Timestamp('2000-01-07 04:00:00')"
            ]
          },
          "metadata": {
            "tags": []
          },
          "execution_count": 164
        }
      ]
    },
    {
      "cell_type": "code",
      "metadata": {
        "id": "KffkzedwcO5Y",
        "colab_type": "code",
        "colab": {
          "base_uri": "https://localhost:8080/",
          "height": 34
        },
        "outputId": "cf68f912-c86d-48d7-8ec1-3734d64bbf03"
      },
      "source": [
        "ts + pd.DateOffset(days=3, hours=4)"
      ],
      "execution_count": null,
      "outputs": [
        {
          "output_type": "execute_result",
          "data": {
            "text/plain": [
              "Timestamp('2000-01-07 04:00:00')"
            ]
          },
          "metadata": {
            "tags": []
          },
          "execution_count": 165
        }
      ]
    },
    {
      "cell_type": "code",
      "metadata": {
        "id": "fy93z8F0cSZb",
        "colab_type": "code",
        "colab": {}
      },
      "source": [
        "# dateoffset -> calendar-aware (day could be 23-25 hours)\n",
        "# timedelta -> absolute time (day = 24 hours)"
      ],
      "execution_count": null,
      "outputs": []
    },
    {
      "cell_type": "code",
      "metadata": {
        "id": "ZoOGb0V_cheT",
        "colab_type": "code",
        "colab": {}
      },
      "source": [
        "dst = pd.Timestamp('14 march 2021', tz='US/Eastern')"
      ],
      "execution_count": null,
      "outputs": []
    },
    {
      "cell_type": "code",
      "metadata": {
        "id": "eq5KHZeHc3Nh",
        "colab_type": "code",
        "colab": {
          "base_uri": "https://localhost:8080/",
          "height": 34
        },
        "outputId": "e5bc8780-ada7-4013-8752-234dfa039a50"
      },
      "source": [
        "dst"
      ],
      "execution_count": null,
      "outputs": [
        {
          "output_type": "execute_result",
          "data": {
            "text/plain": [
              "Timestamp('2021-03-14 00:00:00-0500', tz='US/Eastern')"
            ]
          },
          "metadata": {
            "tags": []
          },
          "execution_count": 169
        }
      ]
    },
    {
      "cell_type": "code",
      "metadata": {
        "id": "jNuZSEVJc3rg",
        "colab_type": "code",
        "colab": {
          "base_uri": "https://localhost:8080/",
          "height": 34
        },
        "outputId": "ef8413b7-e0c6-4060-97b0-b470d7dffc07"
      },
      "source": [
        "dst + pd.DateOffset(days=1)"
      ],
      "execution_count": null,
      "outputs": [
        {
          "output_type": "execute_result",
          "data": {
            "text/plain": [
              "Timestamp('2021-03-15 00:00:00-0400', tz='US/Eastern')"
            ]
          },
          "metadata": {
            "tags": []
          },
          "execution_count": 170
        }
      ]
    },
    {
      "cell_type": "code",
      "metadata": {
        "id": "B9vzsEAQc8IN",
        "colab_type": "code",
        "colab": {
          "base_uri": "https://localhost:8080/",
          "height": 34
        },
        "outputId": "c195545a-4a4a-4200-8f88-45b0f7cc3f25"
      },
      "source": [
        "dst + pd.Timedelta(days=1)"
      ],
      "execution_count": null,
      "outputs": [
        {
          "output_type": "execute_result",
          "data": {
            "text/plain": [
              "Timestamp('2021-03-15 01:00:00-0400', tz='US/Eastern')"
            ]
          },
          "metadata": {
            "tags": []
          },
          "execution_count": 172
        }
      ]
    },
    {
      "cell_type": "markdown",
      "metadata": {
        "id": "Y8p61wxIdG4R",
        "colab_type": "text"
      },
      "source": [
        "#### Resampling Timeseries"
      ]
    },
    {
      "cell_type": "code",
      "metadata": {
        "id": "828NeNxsfwnU",
        "colab_type": "code",
        "colab": {}
      },
      "source": [
        "# - resampling the frequency down -> downsampling"
      ],
      "execution_count": null,
      "outputs": []
    },
    {
      "cell_type": "code",
      "metadata": {
        "id": "BpKKzD5veE3o",
        "colab_type": "code",
        "colab": {
          "base_uri": "https://localhost:8080/",
          "height": 238
        },
        "outputId": "d0d9d8cb-7c77-46f7-95dd-af004292521e"
      },
      "source": [
        "brent.head()"
      ],
      "execution_count": null,
      "outputs": [
        {
          "output_type": "execute_result",
          "data": {
            "text/html": [
              "<div>\n",
              "<style scoped>\n",
              "    .dataframe tbody tr th:only-of-type {\n",
              "        vertical-align: middle;\n",
              "    }\n",
              "\n",
              "    .dataframe tbody tr th {\n",
              "        vertical-align: top;\n",
              "    }\n",
              "\n",
              "    .dataframe thead th {\n",
              "        text-align: right;\n",
              "    }\n",
              "</style>\n",
              "<table border=\"1\" class=\"dataframe\">\n",
              "  <thead>\n",
              "    <tr style=\"text-align: right;\">\n",
              "      <th></th>\n",
              "      <th>Price</th>\n",
              "    </tr>\n",
              "    <tr>\n",
              "      <th>Date</th>\n",
              "      <th></th>\n",
              "    </tr>\n",
              "  </thead>\n",
              "  <tbody>\n",
              "    <tr>\n",
              "      <th>2000-01-04</th>\n",
              "      <td>23.95</td>\n",
              "    </tr>\n",
              "    <tr>\n",
              "      <th>2000-01-05</th>\n",
              "      <td>23.72</td>\n",
              "    </tr>\n",
              "    <tr>\n",
              "      <th>2000-01-06</th>\n",
              "      <td>23.55</td>\n",
              "    </tr>\n",
              "    <tr>\n",
              "      <th>2000-01-07</th>\n",
              "      <td>23.35</td>\n",
              "    </tr>\n",
              "    <tr>\n",
              "      <th>2000-01-10</th>\n",
              "      <td>22.77</td>\n",
              "    </tr>\n",
              "  </tbody>\n",
              "</table>\n",
              "</div>"
            ],
            "text/plain": [
              "            Price\n",
              "Date             \n",
              "2000-01-04  23.95\n",
              "2000-01-05  23.72\n",
              "2000-01-06  23.55\n",
              "2000-01-07  23.35\n",
              "2000-01-10  22.77"
            ]
          },
          "metadata": {
            "tags": []
          },
          "execution_count": 182
        }
      ]
    },
    {
      "cell_type": "code",
      "metadata": {
        "id": "pGA-kXzvhbh9",
        "colab_type": "code",
        "colab": {}
      },
      "source": [
        "# D -> M"
      ],
      "execution_count": null,
      "outputs": []
    },
    {
      "cell_type": "code",
      "metadata": {
        "id": "-FyA_Cu1hoAV",
        "colab_type": "code",
        "colab": {
          "base_uri": "https://localhost:8080/",
          "height": 34
        },
        "outputId": "183faa7d-96aa-4c58-e6d5-3d84eb6e0a97"
      },
      "source": [
        "brent.resample('M')"
      ],
      "execution_count": null,
      "outputs": [
        {
          "output_type": "execute_result",
          "data": {
            "text/plain": [
              "<pandas.core.resample.DatetimeIndexResampler object at 0x7eff7910b588>"
            ]
          },
          "metadata": {
            "tags": []
          },
          "execution_count": 184
        }
      ]
    },
    {
      "cell_type": "code",
      "metadata": {
        "id": "fufGkWVphtUT",
        "colab_type": "code",
        "colab": {}
      },
      "source": [
        "# many datapoints -> fewer and far between"
      ],
      "execution_count": null,
      "outputs": []
    },
    {
      "cell_type": "code",
      "metadata": {
        "id": "hOAwz5D8iI37",
        "colab_type": "code",
        "colab": {
          "base_uri": "https://localhost:8080/",
          "height": 455
        },
        "outputId": "a44aba31-447f-4938-c9d5-088c83e74cf5"
      },
      "source": [
        "brent.resample('M').median()"
      ],
      "execution_count": null,
      "outputs": [
        {
          "output_type": "execute_result",
          "data": {
            "text/html": [
              "<div>\n",
              "<style scoped>\n",
              "    .dataframe tbody tr th:only-of-type {\n",
              "        vertical-align: middle;\n",
              "    }\n",
              "\n",
              "    .dataframe tbody tr th {\n",
              "        vertical-align: top;\n",
              "    }\n",
              "\n",
              "    .dataframe thead th {\n",
              "        text-align: right;\n",
              "    }\n",
              "</style>\n",
              "<table border=\"1\" class=\"dataframe\">\n",
              "  <thead>\n",
              "    <tr style=\"text-align: right;\">\n",
              "      <th></th>\n",
              "      <th>Price</th>\n",
              "    </tr>\n",
              "    <tr>\n",
              "      <th>Date</th>\n",
              "      <th></th>\n",
              "    </tr>\n",
              "  </thead>\n",
              "  <tbody>\n",
              "    <tr>\n",
              "      <th>2000-01-31</th>\n",
              "      <td>26.080</td>\n",
              "    </tr>\n",
              "    <tr>\n",
              "      <th>2000-02-29</th>\n",
              "      <td>27.610</td>\n",
              "    </tr>\n",
              "    <tr>\n",
              "      <th>2000-03-31</th>\n",
              "      <td>27.970</td>\n",
              "    </tr>\n",
              "    <tr>\n",
              "      <th>2000-04-30</th>\n",
              "      <td>22.900</td>\n",
              "    </tr>\n",
              "    <tr>\n",
              "      <th>2000-05-31</th>\n",
              "      <td>28.260</td>\n",
              "    </tr>\n",
              "    <tr>\n",
              "      <th>...</th>\n",
              "      <td>...</td>\n",
              "    </tr>\n",
              "    <tr>\n",
              "      <th>2019-05-31</th>\n",
              "      <td>71.785</td>\n",
              "    </tr>\n",
              "    <tr>\n",
              "      <th>2019-06-30</th>\n",
              "      <td>63.560</td>\n",
              "    </tr>\n",
              "    <tr>\n",
              "      <th>2019-07-31</th>\n",
              "      <td>63.670</td>\n",
              "    </tr>\n",
              "    <tr>\n",
              "      <th>2019-08-31</th>\n",
              "      <td>59.015</td>\n",
              "    </tr>\n",
              "    <tr>\n",
              "      <th>2019-09-30</th>\n",
              "      <td>62.700</td>\n",
              "    </tr>\n",
              "  </tbody>\n",
              "</table>\n",
              "<p>237 rows × 1 columns</p>\n",
              "</div>"
            ],
            "text/plain": [
              "             Price\n",
              "Date              \n",
              "2000-01-31  26.080\n",
              "2000-02-29  27.610\n",
              "2000-03-31  27.970\n",
              "2000-04-30  22.900\n",
              "2000-05-31  28.260\n",
              "...            ...\n",
              "2019-05-31  71.785\n",
              "2019-06-30  63.560\n",
              "2019-07-31  63.670\n",
              "2019-08-31  59.015\n",
              "2019-09-30  62.700\n",
              "\n",
              "[237 rows x 1 columns]"
            ]
          },
          "metadata": {
            "tags": []
          },
          "execution_count": 186
        }
      ]
    },
    {
      "cell_type": "code",
      "metadata": {
        "id": "IdbZGa-hiQRI",
        "colab_type": "code",
        "colab": {
          "base_uri": "https://localhost:8080/",
          "height": 285
        },
        "outputId": "244edbdf-83c0-491e-ec22-547d9db361d0"
      },
      "source": [
        "brent.resample('M').median().plot();"
      ],
      "execution_count": null,
      "outputs": [
        {
          "output_type": "display_data",
          "data": {
            "image/png": "[encoded data removed]",
            "text/plain": [
              "<Figure size 432x288 with 1 Axes>"
            ]
          },
          "metadata": {
            "tags": []
          }
        }
      ]
    },
    {
      "cell_type": "code",
      "metadata": {
        "id": "OA43DwOLic9b",
        "colab_type": "code",
        "colab": {
          "base_uri": "https://localhost:8080/",
          "height": 72
        },
        "outputId": "3fcf414e-6168-4692-d2fd-c19f7e027f22"
      },
      "source": [
        "import seaborn as sns\n",
        "sns.set()"
      ],
      "execution_count": null,
      "outputs": [
        {
          "output_type": "stream",
          "text": [
            "/usr/local/lib/python3.6/dist-packages/statsmodels/tools/_testing.py:19: FutureWarning: pandas.util.testing is deprecated. Use the functions in the public API at pandas.testing instead.\n",
            "  import pandas.util.testing as tm\n"
          ],
          "name": "stderr"
        }
      ]
    },
    {
      "cell_type": "code",
      "metadata": {
        "id": "b2jlrGxEio34",
        "colab_type": "code",
        "colab": {
          "base_uri": "https://localhost:8080/",
          "height": 285
        },
        "outputId": "3e8b6ab2-50b5-483e-a463-b80165b4c955"
      },
      "source": [
        "brent.resample('Y').mean().plot();"
      ],
      "execution_count": null,
      "outputs": [
        {
          "output_type": "display_data",
          "data": {
            "image/png": "[encoded data removed]",
            "text/plain": [
              "<Figure size 432x288 with 1 Axes>"
            ]
          },
          "metadata": {
            "tags": []
          }
        }
      ]
    },
    {
      "cell_type": "code",
      "metadata": {
        "id": "Bvf8pUyvizTY",
        "colab_type": "code",
        "colab": {
          "base_uri": "https://localhost:8080/",
          "height": 34
        },
        "outputId": "06f77db1-09f9-417b-bb3d-b069fd252e09"
      },
      "source": [
        "brent.resample('Y').mean().size"
      ],
      "execution_count": null,
      "outputs": [
        {
          "output_type": "execute_result",
          "data": {
            "text/plain": [
              "20"
            ]
          },
          "metadata": {
            "tags": []
          },
          "execution_count": 193
        }
      ]
    },
    {
      "cell_type": "code",
      "metadata": {
        "id": "_wK8m__Mi8FL",
        "colab_type": "code",
        "colab": {
          "base_uri": "https://localhost:8080/",
          "height": 285
        },
        "outputId": "41f8ea87-3781-4fa5-da8c-7493ae1a1236"
      },
      "source": [
        "brent.resample('10D').mean().plot();"
      ],
      "execution_count": null,
      "outputs": [
        {
          "output_type": "display_data",
          "data": {
            "image/png": "[encoded data removed]",
            "text/plain": [
              "<Figure size 432x288 with 1 Axes>"
            ]
          },
          "metadata": {
            "tags": []
          }
        }
      ]
    },
    {
      "cell_type": "markdown",
      "metadata": {
        "id": "Kk2jkYTPjFxh",
        "colab_type": "text"
      },
      "source": [
        "#### Upsampling And Interpolation"
      ]
    },
    {
      "cell_type": "code",
      "metadata": {
        "id": "US2C_c_emcQM",
        "colab_type": "code",
        "colab": {}
      },
      "source": [
        "# resample frequency down -> downsample, eg. D(aily) -> M(onthly)\n",
        "# resample frequency up   -> upsample, eg. D(aily) -> H(ourly)"
      ],
      "execution_count": null,
      "outputs": []
    },
    {
      "cell_type": "code",
      "metadata": {
        "id": "XaylHlBDoKQN",
        "colab_type": "code",
        "colab": {}
      },
      "source": [
        "# downsample: many -> fewer (aggregation)\n",
        "# upsample: few -> many (interpolation)"
      ],
      "execution_count": null,
      "outputs": []
    },
    {
      "cell_type": "code",
      "metadata": {
        "id": "sA8sKM_Xpm_R",
        "colab_type": "code",
        "colab": {
          "base_uri": "https://localhost:8080/",
          "height": 238
        },
        "outputId": "63c56daf-53c2-4210-c15a-1e4fc87ac47c"
      },
      "source": [
        "brent.head()"
      ],
      "execution_count": null,
      "outputs": [
        {
          "output_type": "execute_result",
          "data": {
            "text/html": [
              "<div>\n",
              "<style scoped>\n",
              "    .dataframe tbody tr th:only-of-type {\n",
              "        vertical-align: middle;\n",
              "    }\n",
              "\n",
              "    .dataframe tbody tr th {\n",
              "        vertical-align: top;\n",
              "    }\n",
              "\n",
              "    .dataframe thead th {\n",
              "        text-align: right;\n",
              "    }\n",
              "</style>\n",
              "<table border=\"1\" class=\"dataframe\">\n",
              "  <thead>\n",
              "    <tr style=\"text-align: right;\">\n",
              "      <th></th>\n",
              "      <th>Price</th>\n",
              "    </tr>\n",
              "    <tr>\n",
              "      <th>Date</th>\n",
              "      <th></th>\n",
              "    </tr>\n",
              "  </thead>\n",
              "  <tbody>\n",
              "    <tr>\n",
              "      <th>2000-01-04</th>\n",
              "      <td>23.95</td>\n",
              "    </tr>\n",
              "    <tr>\n",
              "      <th>2000-01-05</th>\n",
              "      <td>23.72</td>\n",
              "    </tr>\n",
              "    <tr>\n",
              "      <th>2000-01-06</th>\n",
              "      <td>23.55</td>\n",
              "    </tr>\n",
              "    <tr>\n",
              "      <th>2000-01-07</th>\n",
              "      <td>23.35</td>\n",
              "    </tr>\n",
              "    <tr>\n",
              "      <th>2000-01-10</th>\n",
              "      <td>22.77</td>\n",
              "    </tr>\n",
              "  </tbody>\n",
              "</table>\n",
              "</div>"
            ],
            "text/plain": [
              "            Price\n",
              "Date             \n",
              "2000-01-04  23.95\n",
              "2000-01-05  23.72\n",
              "2000-01-06  23.55\n",
              "2000-01-07  23.35\n",
              "2000-01-10  22.77"
            ]
          },
          "metadata": {
            "tags": []
          },
          "execution_count": 202
        }
      ]
    },
    {
      "cell_type": "code",
      "metadata": {
        "id": "lirXkGxApocB",
        "colab_type": "code",
        "colab": {
          "base_uri": "https://localhost:8080/",
          "height": 455
        },
        "outputId": "a7c28169-77a1-45e8-83d6-d83375db0cdd"
      },
      "source": [
        "brent.resample('8H').mean()"
      ],
      "execution_count": null,
      "outputs": [
        {
          "output_type": "execute_result",
          "data": {
            "text/html": [
              "<div>\n",
              "<style scoped>\n",
              "    .dataframe tbody tr th:only-of-type {\n",
              "        vertical-align: middle;\n",
              "    }\n",
              "\n",
              "    .dataframe tbody tr th {\n",
              "        vertical-align: top;\n",
              "    }\n",
              "\n",
              "    .dataframe thead th {\n",
              "        text-align: right;\n",
              "    }\n",
              "</style>\n",
              "<table border=\"1\" class=\"dataframe\">\n",
              "  <thead>\n",
              "    <tr style=\"text-align: right;\">\n",
              "      <th></th>\n",
              "      <th>Price</th>\n",
              "    </tr>\n",
              "    <tr>\n",
              "      <th>Date</th>\n",
              "      <th></th>\n",
              "    </tr>\n",
              "  </thead>\n",
              "  <tbody>\n",
              "    <tr>\n",
              "      <th>2000-01-04 00:00:00</th>\n",
              "      <td>23.95</td>\n",
              "    </tr>\n",
              "    <tr>\n",
              "      <th>2000-01-04 08:00:00</th>\n",
              "      <td>NaN</td>\n",
              "    </tr>\n",
              "    <tr>\n",
              "      <th>2000-01-04 16:00:00</th>\n",
              "      <td>NaN</td>\n",
              "    </tr>\n",
              "    <tr>\n",
              "      <th>2000-01-05 00:00:00</th>\n",
              "      <td>23.72</td>\n",
              "    </tr>\n",
              "    <tr>\n",
              "      <th>2000-01-05 08:00:00</th>\n",
              "      <td>NaN</td>\n",
              "    </tr>\n",
              "    <tr>\n",
              "      <th>...</th>\n",
              "      <td>...</td>\n",
              "    </tr>\n",
              "    <tr>\n",
              "      <th>2019-09-28 16:00:00</th>\n",
              "      <td>NaN</td>\n",
              "    </tr>\n",
              "    <tr>\n",
              "      <th>2019-09-29 00:00:00</th>\n",
              "      <td>NaN</td>\n",
              "    </tr>\n",
              "    <tr>\n",
              "      <th>2019-09-29 08:00:00</th>\n",
              "      <td>NaN</td>\n",
              "    </tr>\n",
              "    <tr>\n",
              "      <th>2019-09-29 16:00:00</th>\n",
              "      <td>NaN</td>\n",
              "    </tr>\n",
              "    <tr>\n",
              "      <th>2019-09-30 00:00:00</th>\n",
              "      <td>60.99</td>\n",
              "    </tr>\n",
              "  </tbody>\n",
              "</table>\n",
              "<p>21628 rows × 1 columns</p>\n",
              "</div>"
            ],
            "text/plain": [
              "                     Price\n",
              "Date                      \n",
              "2000-01-04 00:00:00  23.95\n",
              "2000-01-04 08:00:00    NaN\n",
              "2000-01-04 16:00:00    NaN\n",
              "2000-01-05 00:00:00  23.72\n",
              "2000-01-05 08:00:00    NaN\n",
              "...                    ...\n",
              "2019-09-28 16:00:00    NaN\n",
              "2019-09-29 00:00:00    NaN\n",
              "2019-09-29 08:00:00    NaN\n",
              "2019-09-29 16:00:00    NaN\n",
              "2019-09-30 00:00:00  60.99\n",
              "\n",
              "[21628 rows x 1 columns]"
            ]
          },
          "metadata": {
            "tags": []
          },
          "execution_count": 204
        }
      ]
    },
    {
      "cell_type": "code",
      "metadata": {
        "id": "TEt0W-OiptOr",
        "colab_type": "code",
        "colab": {}
      },
      "source": [
        "# linear interpolation"
      ],
      "execution_count": null,
      "outputs": []
    },
    {
      "cell_type": "code",
      "metadata": {
        "id": "nEJMCbV4qElJ",
        "colab_type": "code",
        "colab": {}
      },
      "source": [
        "# ASIDE==="
      ],
      "execution_count": null,
      "outputs": []
    },
    {
      "cell_type": "code",
      "metadata": {
        "id": "73IZFm9GqNGv",
        "colab_type": "code",
        "colab": {}
      },
      "source": [
        "# 23.95 N1 N2 23.72"
      ],
      "execution_count": null,
      "outputs": []
    },
    {
      "cell_type": "code",
      "metadata": {
        "id": "7PY8kSX7qQOD",
        "colab_type": "code",
        "colab": {}
      },
      "source": [
        "diff = (23.72 - 23.95) / 3"
      ],
      "execution_count": null,
      "outputs": []
    },
    {
      "cell_type": "code",
      "metadata": {
        "id": "nHKzp5uaqcvt",
        "colab_type": "code",
        "colab": {}
      },
      "source": [
        "# key assumption in linear interpolation: distances are equal; the items are equally spaced"
      ],
      "execution_count": null,
      "outputs": []
    },
    {
      "cell_type": "code",
      "metadata": {
        "id": "77PO5tUBqccB",
        "colab_type": "code",
        "colab": {}
      },
      "source": [
        "N1 = 23.95 + diff"
      ],
      "execution_count": null,
      "outputs": []
    },
    {
      "cell_type": "code",
      "metadata": {
        "id": "7SYqUW_CqqNb",
        "colab_type": "code",
        "colab": {
          "base_uri": "https://localhost:8080/",
          "height": 34
        },
        "outputId": "ddfafbf9-ef90-44cb-9b5c-999199ce7319"
      },
      "source": [
        "N1"
      ],
      "execution_count": null,
      "outputs": [
        {
          "output_type": "execute_result",
          "data": {
            "text/plain": [
              "23.87333333333333"
            ]
          },
          "metadata": {
            "tags": []
          },
          "execution_count": 214
        }
      ]
    },
    {
      "cell_type": "code",
      "metadata": {
        "id": "UwEO7T2Yqqxq",
        "colab_type": "code",
        "colab": {}
      },
      "source": [
        "N2 = N1 + diff"
      ],
      "execution_count": null,
      "outputs": []
    },
    {
      "cell_type": "code",
      "metadata": {
        "id": "48sMVVIWqsHf",
        "colab_type": "code",
        "colab": {
          "base_uri": "https://localhost:8080/",
          "height": 34
        },
        "outputId": "ede57001-0cc0-41f3-de2d-30fe358eb788"
      },
      "source": [
        "N2"
      ],
      "execution_count": null,
      "outputs": [
        {
          "output_type": "execute_result",
          "data": {
            "text/plain": [
              "23.796666666666663"
            ]
          },
          "metadata": {
            "tags": []
          },
          "execution_count": 216
        }
      ]
    },
    {
      "cell_type": "code",
      "metadata": {
        "id": "5RMpZDIJqsW6",
        "colab_type": "code",
        "colab": {
          "base_uri": "https://localhost:8080/",
          "height": 34
        },
        "outputId": "cb74457c-a928-45dc-f095-c447b207f115"
      },
      "source": [
        "N2 + diff"
      ],
      "execution_count": null,
      "outputs": [
        {
          "output_type": "execute_result",
          "data": {
            "text/plain": [
              "23.719999999999995"
            ]
          },
          "metadata": {
            "tags": []
          },
          "execution_count": 217
        }
      ]
    },
    {
      "cell_type": "code",
      "metadata": {
        "id": "p6hGiTQFqtvo",
        "colab_type": "code",
        "colab": {}
      },
      "source": [
        "# ===END ASIDE"
      ],
      "execution_count": null,
      "outputs": []
    },
    {
      "cell_type": "code",
      "metadata": {
        "id": "Jj3TNfWEq53_",
        "colab_type": "code",
        "colab": {
          "base_uri": "https://localhost:8080/",
          "height": 455
        },
        "outputId": "a4425e33-3251-4f5c-b9ac-c55b467a1a33"
      },
      "source": [
        "brent.resample('8H').interpolate(method='linear')"
      ],
      "execution_count": null,
      "outputs": [
        {
          "output_type": "execute_result",
          "data": {
            "text/html": [
              "<div>\n",
              "<style scoped>\n",
              "    .dataframe tbody tr th:only-of-type {\n",
              "        vertical-align: middle;\n",
              "    }\n",
              "\n",
              "    .dataframe tbody tr th {\n",
              "        vertical-align: top;\n",
              "    }\n",
              "\n",
              "    .dataframe thead th {\n",
              "        text-align: right;\n",
              "    }\n",
              "</style>\n",
              "<table border=\"1\" class=\"dataframe\">\n",
              "  <thead>\n",
              "    <tr style=\"text-align: right;\">\n",
              "      <th></th>\n",
              "      <th>Price</th>\n",
              "    </tr>\n",
              "    <tr>\n",
              "      <th>Date</th>\n",
              "      <th></th>\n",
              "    </tr>\n",
              "  </thead>\n",
              "  <tbody>\n",
              "    <tr>\n",
              "      <th>2000-01-04 00:00:00</th>\n",
              "      <td>23.950000</td>\n",
              "    </tr>\n",
              "    <tr>\n",
              "      <th>2000-01-04 08:00:00</th>\n",
              "      <td>23.873333</td>\n",
              "    </tr>\n",
              "    <tr>\n",
              "      <th>2000-01-04 16:00:00</th>\n",
              "      <td>23.796667</td>\n",
              "    </tr>\n",
              "    <tr>\n",
              "      <th>2000-01-05 00:00:00</th>\n",
              "      <td>23.720000</td>\n",
              "    </tr>\n",
              "    <tr>\n",
              "      <th>2000-01-05 08:00:00</th>\n",
              "      <td>23.663333</td>\n",
              "    </tr>\n",
              "    <tr>\n",
              "      <th>...</th>\n",
              "      <td>...</td>\n",
              "    </tr>\n",
              "    <tr>\n",
              "      <th>2019-09-28 16:00:00</th>\n",
              "      <td>61.652222</td>\n",
              "    </tr>\n",
              "    <tr>\n",
              "      <th>2019-09-29 00:00:00</th>\n",
              "      <td>61.486667</td>\n",
              "    </tr>\n",
              "    <tr>\n",
              "      <th>2019-09-29 08:00:00</th>\n",
              "      <td>61.321111</td>\n",
              "    </tr>\n",
              "    <tr>\n",
              "      <th>2019-09-29 16:00:00</th>\n",
              "      <td>61.155556</td>\n",
              "    </tr>\n",
              "    <tr>\n",
              "      <th>2019-09-30 00:00:00</th>\n",
              "      <td>60.990000</td>\n",
              "    </tr>\n",
              "  </tbody>\n",
              "</table>\n",
              "<p>21628 rows × 1 columns</p>\n",
              "</div>"
            ],
            "text/plain": [
              "                         Price\n",
              "Date                          \n",
              "2000-01-04 00:00:00  23.950000\n",
              "2000-01-04 08:00:00  23.873333\n",
              "2000-01-04 16:00:00  23.796667\n",
              "2000-01-05 00:00:00  23.720000\n",
              "2000-01-05 08:00:00  23.663333\n",
              "...                        ...\n",
              "2019-09-28 16:00:00  61.652222\n",
              "2019-09-29 00:00:00  61.486667\n",
              "2019-09-29 08:00:00  61.321111\n",
              "2019-09-29 16:00:00  61.155556\n",
              "2019-09-30 00:00:00  60.990000\n",
              "\n",
              "[21628 rows x 1 columns]"
            ]
          },
          "metadata": {
            "tags": []
          },
          "execution_count": 219
        }
      ]
    },
    {
      "cell_type": "code",
      "metadata": {
        "id": "pg1K29IFrAW5",
        "colab_type": "code",
        "colab": {
          "base_uri": "https://localhost:8080/",
          "height": 455
        },
        "outputId": "2ae5ae0d-51f3-4e25-ff87-9e79850bbe44"
      },
      "source": [
        "brent.resample('8H').interpolate(method='spline', order=3)"
      ],
      "execution_count": null,
      "outputs": [
        {
          "output_type": "execute_result",
          "data": {
            "text/html": [
              "<div>\n",
              "<style scoped>\n",
              "    .dataframe tbody tr th:only-of-type {\n",
              "        vertical-align: middle;\n",
              "    }\n",
              "\n",
              "    .dataframe tbody tr th {\n",
              "        vertical-align: top;\n",
              "    }\n",
              "\n",
              "    .dataframe thead th {\n",
              "        text-align: right;\n",
              "    }\n",
              "</style>\n",
              "<table border=\"1\" class=\"dataframe\">\n",
              "  <thead>\n",
              "    <tr style=\"text-align: right;\">\n",
              "      <th></th>\n",
              "      <th>Price</th>\n",
              "    </tr>\n",
              "    <tr>\n",
              "      <th>Date</th>\n",
              "      <th></th>\n",
              "    </tr>\n",
              "  </thead>\n",
              "  <tbody>\n",
              "    <tr>\n",
              "      <th>2000-01-04 00:00:00</th>\n",
              "      <td>23.950000</td>\n",
              "    </tr>\n",
              "    <tr>\n",
              "      <th>2000-01-04 08:00:00</th>\n",
              "      <td>23.013531</td>\n",
              "    </tr>\n",
              "    <tr>\n",
              "      <th>2000-01-04 16:00:00</th>\n",
              "      <td>23.117453</td>\n",
              "    </tr>\n",
              "    <tr>\n",
              "      <th>2000-01-05 00:00:00</th>\n",
              "      <td>23.720000</td>\n",
              "    </tr>\n",
              "    <tr>\n",
              "      <th>2000-01-05 08:00:00</th>\n",
              "      <td>23.319619</td>\n",
              "    </tr>\n",
              "    <tr>\n",
              "      <th>...</th>\n",
              "      <td>...</td>\n",
              "    </tr>\n",
              "    <tr>\n",
              "      <th>2019-09-28 16:00:00</th>\n",
              "      <td>61.240570</td>\n",
              "    </tr>\n",
              "    <tr>\n",
              "      <th>2019-09-29 00:00:00</th>\n",
              "      <td>61.195778</td>\n",
              "    </tr>\n",
              "    <tr>\n",
              "      <th>2019-09-29 08:00:00</th>\n",
              "      <td>61.176797</td>\n",
              "    </tr>\n",
              "    <tr>\n",
              "      <th>2019-09-29 16:00:00</th>\n",
              "      <td>61.185408</td>\n",
              "    </tr>\n",
              "    <tr>\n",
              "      <th>2019-09-30 00:00:00</th>\n",
              "      <td>60.990000</td>\n",
              "    </tr>\n",
              "  </tbody>\n",
              "</table>\n",
              "<p>21628 rows × 1 columns</p>\n",
              "</div>"
            ],
            "text/plain": [
              "                         Price\n",
              "Date                          \n",
              "2000-01-04 00:00:00  23.950000\n",
              "2000-01-04 08:00:00  23.013531\n",
              "2000-01-04 16:00:00  23.117453\n",
              "2000-01-05 00:00:00  23.720000\n",
              "2000-01-05 08:00:00  23.319619\n",
              "...                        ...\n",
              "2019-09-28 16:00:00  61.240570\n",
              "2019-09-29 00:00:00  61.195778\n",
              "2019-09-29 08:00:00  61.176797\n",
              "2019-09-29 16:00:00  61.185408\n",
              "2019-09-30 00:00:00  60.990000\n",
              "\n",
              "[21628 rows x 1 columns]"
            ]
          },
          "metadata": {
            "tags": []
          },
          "execution_count": 220
        }
      ]
    },
    {
      "cell_type": "code",
      "metadata": {
        "id": "OnFQbsJjrR00",
        "colab_type": "code",
        "colab": {
          "base_uri": "https://localhost:8080/",
          "height": 455
        },
        "outputId": "05cef95f-ea35-4dbb-a6ca-472bd32950f0"
      },
      "source": [
        "brent.resample('2H').interpolate(method='akima')"
      ],
      "execution_count": null,
      "outputs": [
        {
          "output_type": "execute_result",
          "data": {
            "text/html": [
              "<div>\n",
              "<style scoped>\n",
              "    .dataframe tbody tr th:only-of-type {\n",
              "        vertical-align: middle;\n",
              "    }\n",
              "\n",
              "    .dataframe tbody tr th {\n",
              "        vertical-align: top;\n",
              "    }\n",
              "\n",
              "    .dataframe thead th {\n",
              "        text-align: right;\n",
              "    }\n",
              "</style>\n",
              "<table border=\"1\" class=\"dataframe\">\n",
              "  <thead>\n",
              "    <tr style=\"text-align: right;\">\n",
              "      <th></th>\n",
              "      <th>Price</th>\n",
              "    </tr>\n",
              "    <tr>\n",
              "      <th>Date</th>\n",
              "      <th></th>\n",
              "    </tr>\n",
              "  </thead>\n",
              "  <tbody>\n",
              "    <tr>\n",
              "      <th>2000-01-04 00:00:00</th>\n",
              "      <td>23.950000</td>\n",
              "    </tr>\n",
              "    <tr>\n",
              "      <th>2000-01-04 02:00:00</th>\n",
              "      <td>23.928478</td>\n",
              "    </tr>\n",
              "    <tr>\n",
              "      <th>2000-01-04 04:00:00</th>\n",
              "      <td>23.907269</td>\n",
              "    </tr>\n",
              "    <tr>\n",
              "      <th>2000-01-04 06:00:00</th>\n",
              "      <td>23.886406</td>\n",
              "    </tr>\n",
              "    <tr>\n",
              "      <th>2000-01-04 08:00:00</th>\n",
              "      <td>23.865926</td>\n",
              "    </tr>\n",
              "    <tr>\n",
              "      <th>...</th>\n",
              "      <td>...</td>\n",
              "    </tr>\n",
              "    <tr>\n",
              "      <th>2019-09-29 16:00:00</th>\n",
              "      <td>61.289907</td>\n",
              "    </tr>\n",
              "    <tr>\n",
              "      <th>2019-09-29 18:00:00</th>\n",
              "      <td>61.217787</td>\n",
              "    </tr>\n",
              "    <tr>\n",
              "      <th>2019-09-29 20:00:00</th>\n",
              "      <td>61.143750</td>\n",
              "    </tr>\n",
              "    <tr>\n",
              "      <th>2019-09-29 22:00:00</th>\n",
              "      <td>61.067816</td>\n",
              "    </tr>\n",
              "    <tr>\n",
              "      <th>2019-09-30 00:00:00</th>\n",
              "      <td>60.990000</td>\n",
              "    </tr>\n",
              "  </tbody>\n",
              "</table>\n",
              "<p>86509 rows × 1 columns</p>\n",
              "</div>"
            ],
            "text/plain": [
              "                         Price\n",
              "Date                          \n",
              "2000-01-04 00:00:00  23.950000\n",
              "2000-01-04 02:00:00  23.928478\n",
              "2000-01-04 04:00:00  23.907269\n",
              "2000-01-04 06:00:00  23.886406\n",
              "2000-01-04 08:00:00  23.865926\n",
              "...                        ...\n",
              "2019-09-29 16:00:00  61.289907\n",
              "2019-09-29 18:00:00  61.217787\n",
              "2019-09-29 20:00:00  61.143750\n",
              "2019-09-29 22:00:00  61.067816\n",
              "2019-09-30 00:00:00  60.990000\n",
              "\n",
              "[86509 rows x 1 columns]"
            ]
          },
          "metadata": {
            "tags": []
          },
          "execution_count": 221
        }
      ]
    },
    {
      "cell_type": "markdown",
      "metadata": {
        "id": "m4K8s1cTrWk9",
        "colab_type": "text"
      },
      "source": [
        "#### What About asfreq()?"
      ]
    },
    {
      "cell_type": "code",
      "metadata": {
        "id": "SseMDYgPsgAy",
        "colab_type": "code",
        "colab": {}
      },
      "source": [
        "# downsample: many -> few (aggregation)\n",
        "# upsample:   few -> many (interpolation)"
      ],
      "execution_count": null,
      "outputs": []
    },
    {
      "cell_type": "code",
      "metadata": {
        "id": "e5PKseG5sO_-",
        "colab_type": "code",
        "colab": {
          "base_uri": "https://localhost:8080/",
          "height": 238
        },
        "outputId": "6d21da76-09b6-4708-87e0-d5a90872ee1b"
      },
      "source": [
        "brent.head()"
      ],
      "execution_count": null,
      "outputs": [
        {
          "output_type": "execute_result",
          "data": {
            "text/html": [
              "<div>\n",
              "<style scoped>\n",
              "    .dataframe tbody tr th:only-of-type {\n",
              "        vertical-align: middle;\n",
              "    }\n",
              "\n",
              "    .dataframe tbody tr th {\n",
              "        vertical-align: top;\n",
              "    }\n",
              "\n",
              "    .dataframe thead th {\n",
              "        text-align: right;\n",
              "    }\n",
              "</style>\n",
              "<table border=\"1\" class=\"dataframe\">\n",
              "  <thead>\n",
              "    <tr style=\"text-align: right;\">\n",
              "      <th></th>\n",
              "      <th>Price</th>\n",
              "    </tr>\n",
              "    <tr>\n",
              "      <th>Date</th>\n",
              "      <th></th>\n",
              "    </tr>\n",
              "  </thead>\n",
              "  <tbody>\n",
              "    <tr>\n",
              "      <th>2000-01-04</th>\n",
              "      <td>23.95</td>\n",
              "    </tr>\n",
              "    <tr>\n",
              "      <th>2000-01-05</th>\n",
              "      <td>23.72</td>\n",
              "    </tr>\n",
              "    <tr>\n",
              "      <th>2000-01-06</th>\n",
              "      <td>23.55</td>\n",
              "    </tr>\n",
              "    <tr>\n",
              "      <th>2000-01-07</th>\n",
              "      <td>23.35</td>\n",
              "    </tr>\n",
              "    <tr>\n",
              "      <th>2000-01-10</th>\n",
              "      <td>22.77</td>\n",
              "    </tr>\n",
              "  </tbody>\n",
              "</table>\n",
              "</div>"
            ],
            "text/plain": [
              "            Price\n",
              "Date             \n",
              "2000-01-04  23.95\n",
              "2000-01-05  23.72\n",
              "2000-01-06  23.55\n",
              "2000-01-07  23.35\n",
              "2000-01-10  22.77"
            ]
          },
          "metadata": {
            "tags": []
          },
          "execution_count": 222
        }
      ]
    },
    {
      "cell_type": "code",
      "metadata": {
        "id": "TDH5OZKCwDfv",
        "colab_type": "code",
        "colab": {
          "base_uri": "https://localhost:8080/",
          "height": 455
        },
        "outputId": "5a42103b-acd4-4889-f3d3-8b144e1dffaa"
      },
      "source": [
        "brent.asfreq('10D')"
      ],
      "execution_count": null,
      "outputs": [
        {
          "output_type": "execute_result",
          "data": {
            "text/html": [
              "<div>\n",
              "<style scoped>\n",
              "    .dataframe tbody tr th:only-of-type {\n",
              "        vertical-align: middle;\n",
              "    }\n",
              "\n",
              "    .dataframe tbody tr th {\n",
              "        vertical-align: top;\n",
              "    }\n",
              "\n",
              "    .dataframe thead th {\n",
              "        text-align: right;\n",
              "    }\n",
              "</style>\n",
              "<table border=\"1\" class=\"dataframe\">\n",
              "  <thead>\n",
              "    <tr style=\"text-align: right;\">\n",
              "      <th></th>\n",
              "      <th>Price</th>\n",
              "    </tr>\n",
              "    <tr>\n",
              "      <th>Date</th>\n",
              "      <th></th>\n",
              "    </tr>\n",
              "  </thead>\n",
              "  <tbody>\n",
              "    <tr>\n",
              "      <th>2000-01-04</th>\n",
              "      <td>23.95</td>\n",
              "    </tr>\n",
              "    <tr>\n",
              "      <th>2000-01-14</th>\n",
              "      <td>25.50</td>\n",
              "    </tr>\n",
              "    <tr>\n",
              "      <th>2000-01-24</th>\n",
              "      <td>27.02</td>\n",
              "    </tr>\n",
              "    <tr>\n",
              "      <th>2000-02-03</th>\n",
              "      <td>27.60</td>\n",
              "    </tr>\n",
              "    <tr>\n",
              "      <th>2000-02-13</th>\n",
              "      <td>NaN</td>\n",
              "    </tr>\n",
              "    <tr>\n",
              "      <th>...</th>\n",
              "      <td>...</td>\n",
              "    </tr>\n",
              "    <tr>\n",
              "      <th>2019-08-12</th>\n",
              "      <td>57.13</td>\n",
              "    </tr>\n",
              "    <tr>\n",
              "      <th>2019-08-22</th>\n",
              "      <td>59.81</td>\n",
              "    </tr>\n",
              "    <tr>\n",
              "      <th>2019-09-01</th>\n",
              "      <td>NaN</td>\n",
              "    </tr>\n",
              "    <tr>\n",
              "      <th>2019-09-11</th>\n",
              "      <td>63.02</td>\n",
              "    </tr>\n",
              "    <tr>\n",
              "      <th>2019-09-21</th>\n",
              "      <td>NaN</td>\n",
              "    </tr>\n",
              "  </tbody>\n",
              "</table>\n",
              "<p>721 rows × 1 columns</p>\n",
              "</div>"
            ],
            "text/plain": [
              "            Price\n",
              "Date             \n",
              "2000-01-04  23.95\n",
              "2000-01-14  25.50\n",
              "2000-01-24  27.02\n",
              "2000-02-03  27.60\n",
              "2000-02-13    NaN\n",
              "...           ...\n",
              "2019-08-12  57.13\n",
              "2019-08-22  59.81\n",
              "2019-09-01    NaN\n",
              "2019-09-11  63.02\n",
              "2019-09-21    NaN\n",
              "\n",
              "[721 rows x 1 columns]"
            ]
          },
          "metadata": {
            "tags": []
          },
          "execution_count": 241
        }
      ]
    },
    {
      "cell_type": "code",
      "metadata": {
        "id": "_woSZVLM1uvN",
        "colab_type": "code",
        "colab": {
          "base_uri": "https://localhost:8080/",
          "height": 34
        },
        "outputId": "3c0b3890-72d9-491b-9d31-7d2ba2e6cca6"
      },
      "source": [
        "'2000-02-13' in brent.index"
      ],
      "execution_count": null,
      "outputs": [
        {
          "output_type": "execute_result",
          "data": {
            "text/plain": [
              "False"
            ]
          },
          "metadata": {
            "tags": []
          },
          "execution_count": 242
        }
      ]
    },
    {
      "cell_type": "code",
      "metadata": {
        "id": "vIgd9pCc1-Rh",
        "colab_type": "code",
        "colab": {
          "base_uri": "https://localhost:8080/",
          "height": 34
        },
        "outputId": "e7bdddee-bf5e-48e3-9130-30e0d2877cbd"
      },
      "source": [
        "pd.Timestamp('2000-02-13').day_name()"
      ],
      "execution_count": null,
      "outputs": [
        {
          "output_type": "execute_result",
          "data": {
            "text/plain": [
              "'Sunday'"
            ]
          },
          "metadata": {
            "tags": []
          },
          "execution_count": 243
        }
      ]
    },
    {
      "cell_type": "code",
      "metadata": {
        "id": "G1KWXcl_2DU-",
        "colab_type": "code",
        "colab": {
          "base_uri": "https://localhost:8080/",
          "height": 455
        },
        "outputId": "4a1a8bce-eaa9-4f9b-b912-04150c0bf962"
      },
      "source": [
        "brent.asfreq('10D', method='ffill')"
      ],
      "execution_count": null,
      "outputs": [
        {
          "output_type": "execute_result",
          "data": {
            "text/html": [
              "<div>\n",
              "<style scoped>\n",
              "    .dataframe tbody tr th:only-of-type {\n",
              "        vertical-align: middle;\n",
              "    }\n",
              "\n",
              "    .dataframe tbody tr th {\n",
              "        vertical-align: top;\n",
              "    }\n",
              "\n",
              "    .dataframe thead th {\n",
              "        text-align: right;\n",
              "    }\n",
              "</style>\n",
              "<table border=\"1\" class=\"dataframe\">\n",
              "  <thead>\n",
              "    <tr style=\"text-align: right;\">\n",
              "      <th></th>\n",
              "      <th>Price</th>\n",
              "    </tr>\n",
              "    <tr>\n",
              "      <th>Date</th>\n",
              "      <th></th>\n",
              "    </tr>\n",
              "  </thead>\n",
              "  <tbody>\n",
              "    <tr>\n",
              "      <th>2000-01-04</th>\n",
              "      <td>23.95</td>\n",
              "    </tr>\n",
              "    <tr>\n",
              "      <th>2000-01-14</th>\n",
              "      <td>25.50</td>\n",
              "    </tr>\n",
              "    <tr>\n",
              "      <th>2000-01-24</th>\n",
              "      <td>27.02</td>\n",
              "    </tr>\n",
              "    <tr>\n",
              "      <th>2000-02-03</th>\n",
              "      <td>27.60</td>\n",
              "    </tr>\n",
              "    <tr>\n",
              "      <th>2000-02-13</th>\n",
              "      <td>27.82</td>\n",
              "    </tr>\n",
              "    <tr>\n",
              "      <th>...</th>\n",
              "      <td>...</td>\n",
              "    </tr>\n",
              "    <tr>\n",
              "      <th>2019-08-12</th>\n",
              "      <td>57.13</td>\n",
              "    </tr>\n",
              "    <tr>\n",
              "      <th>2019-08-22</th>\n",
              "      <td>59.81</td>\n",
              "    </tr>\n",
              "    <tr>\n",
              "      <th>2019-09-01</th>\n",
              "      <td>61.04</td>\n",
              "    </tr>\n",
              "    <tr>\n",
              "      <th>2019-09-11</th>\n",
              "      <td>63.02</td>\n",
              "    </tr>\n",
              "    <tr>\n",
              "      <th>2019-09-21</th>\n",
              "      <td>65.23</td>\n",
              "    </tr>\n",
              "  </tbody>\n",
              "</table>\n",
              "<p>721 rows × 1 columns</p>\n",
              "</div>"
            ],
            "text/plain": [
              "            Price\n",
              "Date             \n",
              "2000-01-04  23.95\n",
              "2000-01-14  25.50\n",
              "2000-01-24  27.02\n",
              "2000-02-03  27.60\n",
              "2000-02-13  27.82\n",
              "...           ...\n",
              "2019-08-12  57.13\n",
              "2019-08-22  59.81\n",
              "2019-09-01  61.04\n",
              "2019-09-11  63.02\n",
              "2019-09-21  65.23\n",
              "\n",
              "[721 rows x 1 columns]"
            ]
          },
          "metadata": {
            "tags": []
          },
          "execution_count": 244
        }
      ]
    },
    {
      "cell_type": "code",
      "metadata": {
        "id": "0ePRvh0P2M3L",
        "colab_type": "code",
        "colab": {
          "base_uri": "https://localhost:8080/",
          "height": 52
        },
        "outputId": "830a8e63-185a-4f05-f4c8-a0cfcbf3d37b"
      },
      "source": [
        "brent.loc['2000-02-11']"
      ],
      "execution_count": null,
      "outputs": [
        {
          "output_type": "execute_result",
          "data": {
            "text/plain": [
              "Price    27.82\n",
              "Name: 2000-02-11 00:00:00, dtype: float64"
            ]
          },
          "metadata": {
            "tags": []
          },
          "execution_count": 245
        }
      ]
    },
    {
      "cell_type": "code",
      "metadata": {
        "id": "btlJZvvQ2YnH",
        "colab_type": "code",
        "colab": {
          "base_uri": "https://localhost:8080/",
          "height": 455
        },
        "outputId": "773a9ef5-5795-4e4a-f1ea-3dce572fe3eb"
      },
      "source": [
        "brent.asfreq('10D', fill_value=brent.values.mean())"
      ],
      "execution_count": null,
      "outputs": [
        {
          "output_type": "execute_result",
          "data": {
            "text/html": [
              "<div>\n",
              "<style scoped>\n",
              "    .dataframe tbody tr th:only-of-type {\n",
              "        vertical-align: middle;\n",
              "    }\n",
              "\n",
              "    .dataframe tbody tr th {\n",
              "        vertical-align: top;\n",
              "    }\n",
              "\n",
              "    .dataframe thead th {\n",
              "        text-align: right;\n",
              "    }\n",
              "</style>\n",
              "<table border=\"1\" class=\"dataframe\">\n",
              "  <thead>\n",
              "    <tr style=\"text-align: right;\">\n",
              "      <th></th>\n",
              "      <th>Price</th>\n",
              "    </tr>\n",
              "    <tr>\n",
              "      <th>Date</th>\n",
              "      <th></th>\n",
              "    </tr>\n",
              "  </thead>\n",
              "  <tbody>\n",
              "    <tr>\n",
              "      <th>2000-01-04</th>\n",
              "      <td>23.950000</td>\n",
              "    </tr>\n",
              "    <tr>\n",
              "      <th>2000-01-14</th>\n",
              "      <td>25.500000</td>\n",
              "    </tr>\n",
              "    <tr>\n",
              "      <th>2000-01-24</th>\n",
              "      <td>27.020000</td>\n",
              "    </tr>\n",
              "    <tr>\n",
              "      <th>2000-02-03</th>\n",
              "      <td>27.600000</td>\n",
              "    </tr>\n",
              "    <tr>\n",
              "      <th>2000-02-13</th>\n",
              "      <td>64.358078</td>\n",
              "    </tr>\n",
              "    <tr>\n",
              "      <th>...</th>\n",
              "      <td>...</td>\n",
              "    </tr>\n",
              "    <tr>\n",
              "      <th>2019-08-12</th>\n",
              "      <td>57.130000</td>\n",
              "    </tr>\n",
              "    <tr>\n",
              "      <th>2019-08-22</th>\n",
              "      <td>59.810000</td>\n",
              "    </tr>\n",
              "    <tr>\n",
              "      <th>2019-09-01</th>\n",
              "      <td>64.358078</td>\n",
              "    </tr>\n",
              "    <tr>\n",
              "      <th>2019-09-11</th>\n",
              "      <td>63.020000</td>\n",
              "    </tr>\n",
              "    <tr>\n",
              "      <th>2019-09-21</th>\n",
              "      <td>64.358078</td>\n",
              "    </tr>\n",
              "  </tbody>\n",
              "</table>\n",
              "<p>721 rows × 1 columns</p>\n",
              "</div>"
            ],
            "text/plain": [
              "                Price\n",
              "Date                 \n",
              "2000-01-04  23.950000\n",
              "2000-01-14  25.500000\n",
              "2000-01-24  27.020000\n",
              "2000-02-03  27.600000\n",
              "2000-02-13  64.358078\n",
              "...               ...\n",
              "2019-08-12  57.130000\n",
              "2019-08-22  59.810000\n",
              "2019-09-01  64.358078\n",
              "2019-09-11  63.020000\n",
              "2019-09-21  64.358078\n",
              "\n",
              "[721 rows x 1 columns]"
            ]
          },
          "metadata": {
            "tags": []
          },
          "execution_count": 247
        }
      ]
    },
    {
      "cell_type": "code",
      "metadata": {
        "id": "cCVg_kNo2eF_",
        "colab_type": "code",
        "colab": {
          "base_uri": "https://localhost:8080/",
          "height": 455
        },
        "outputId": "8a3a0b0b-f641-487c-a388-9745d2382037"
      },
      "source": [
        "brent.asfreq('M', method='ffill')"
      ],
      "execution_count": null,
      "outputs": [
        {
          "output_type": "execute_result",
          "data": {
            "text/html": [
              "<div>\n",
              "<style scoped>\n",
              "    .dataframe tbody tr th:only-of-type {\n",
              "        vertical-align: middle;\n",
              "    }\n",
              "\n",
              "    .dataframe tbody tr th {\n",
              "        vertical-align: top;\n",
              "    }\n",
              "\n",
              "    .dataframe thead th {\n",
              "        text-align: right;\n",
              "    }\n",
              "</style>\n",
              "<table border=\"1\" class=\"dataframe\">\n",
              "  <thead>\n",
              "    <tr style=\"text-align: right;\">\n",
              "      <th></th>\n",
              "      <th>Price</th>\n",
              "    </tr>\n",
              "    <tr>\n",
              "      <th>Date</th>\n",
              "      <th></th>\n",
              "    </tr>\n",
              "  </thead>\n",
              "  <tbody>\n",
              "    <tr>\n",
              "      <th>2000-01-31</th>\n",
              "      <td>27.08</td>\n",
              "    </tr>\n",
              "    <tr>\n",
              "      <th>2000-02-29</th>\n",
              "      <td>29.01</td>\n",
              "    </tr>\n",
              "    <tr>\n",
              "      <th>2000-03-31</th>\n",
              "      <td>23.98</td>\n",
              "    </tr>\n",
              "    <tr>\n",
              "      <th>2000-04-30</th>\n",
              "      <td>23.79</td>\n",
              "    </tr>\n",
              "    <tr>\n",
              "      <th>2000-05-31</th>\n",
              "      <td>29.64</td>\n",
              "    </tr>\n",
              "    <tr>\n",
              "      <th>...</th>\n",
              "      <td>...</td>\n",
              "    </tr>\n",
              "    <tr>\n",
              "      <th>2019-05-31</th>\n",
              "      <td>66.78</td>\n",
              "    </tr>\n",
              "    <tr>\n",
              "      <th>2019-06-30</th>\n",
              "      <td>67.52</td>\n",
              "    </tr>\n",
              "    <tr>\n",
              "      <th>2019-07-31</th>\n",
              "      <td>64.07</td>\n",
              "    </tr>\n",
              "    <tr>\n",
              "      <th>2019-08-31</th>\n",
              "      <td>61.04</td>\n",
              "    </tr>\n",
              "    <tr>\n",
              "      <th>2019-09-30</th>\n",
              "      <td>60.99</td>\n",
              "    </tr>\n",
              "  </tbody>\n",
              "</table>\n",
              "<p>237 rows × 1 columns</p>\n",
              "</div>"
            ],
            "text/plain": [
              "            Price\n",
              "Date             \n",
              "2000-01-31  27.08\n",
              "2000-02-29  29.01\n",
              "2000-03-31  23.98\n",
              "2000-04-30  23.79\n",
              "2000-05-31  29.64\n",
              "...           ...\n",
              "2019-05-31  66.78\n",
              "2019-06-30  67.52\n",
              "2019-07-31  64.07\n",
              "2019-08-31  61.04\n",
              "2019-09-30  60.99\n",
              "\n",
              "[237 rows x 1 columns]"
            ]
          },
          "metadata": {
            "tags": []
          },
          "execution_count": 254
        }
      ]
    },
    {
      "cell_type": "code",
      "metadata": {
        "id": "EUf08A562rpM",
        "colab_type": "code",
        "colab": {}
      },
      "source": [
        "# how is this different from resample"
      ],
      "execution_count": null,
      "outputs": []
    },
    {
      "cell_type": "code",
      "metadata": {
        "id": "tAO34u8n2v_i",
        "colab_type": "code",
        "colab": {
          "base_uri": "https://localhost:8080/",
          "height": 455
        },
        "outputId": "64cd2e78-f658-4e69-db0b-ec471cfdb9a1"
      },
      "source": [
        "brent.resample('M').median()"
      ],
      "execution_count": null,
      "outputs": [
        {
          "output_type": "execute_result",
          "data": {
            "text/html": [
              "<div>\n",
              "<style scoped>\n",
              "    .dataframe tbody tr th:only-of-type {\n",
              "        vertical-align: middle;\n",
              "    }\n",
              "\n",
              "    .dataframe tbody tr th {\n",
              "        vertical-align: top;\n",
              "    }\n",
              "\n",
              "    .dataframe thead th {\n",
              "        text-align: right;\n",
              "    }\n",
              "</style>\n",
              "<table border=\"1\" class=\"dataframe\">\n",
              "  <thead>\n",
              "    <tr style=\"text-align: right;\">\n",
              "      <th></th>\n",
              "      <th>Price</th>\n",
              "    </tr>\n",
              "    <tr>\n",
              "      <th>Date</th>\n",
              "      <th></th>\n",
              "    </tr>\n",
              "  </thead>\n",
              "  <tbody>\n",
              "    <tr>\n",
              "      <th>2000-01-31</th>\n",
              "      <td>26.080</td>\n",
              "    </tr>\n",
              "    <tr>\n",
              "      <th>2000-02-29</th>\n",
              "      <td>27.610</td>\n",
              "    </tr>\n",
              "    <tr>\n",
              "      <th>2000-03-31</th>\n",
              "      <td>27.970</td>\n",
              "    </tr>\n",
              "    <tr>\n",
              "      <th>2000-04-30</th>\n",
              "      <td>22.900</td>\n",
              "    </tr>\n",
              "    <tr>\n",
              "      <th>2000-05-31</th>\n",
              "      <td>28.260</td>\n",
              "    </tr>\n",
              "    <tr>\n",
              "      <th>...</th>\n",
              "      <td>...</td>\n",
              "    </tr>\n",
              "    <tr>\n",
              "      <th>2019-05-31</th>\n",
              "      <td>71.785</td>\n",
              "    </tr>\n",
              "    <tr>\n",
              "      <th>2019-06-30</th>\n",
              "      <td>63.560</td>\n",
              "    </tr>\n",
              "    <tr>\n",
              "      <th>2019-07-31</th>\n",
              "      <td>63.670</td>\n",
              "    </tr>\n",
              "    <tr>\n",
              "      <th>2019-08-31</th>\n",
              "      <td>59.015</td>\n",
              "    </tr>\n",
              "    <tr>\n",
              "      <th>2019-09-30</th>\n",
              "      <td>62.700</td>\n",
              "    </tr>\n",
              "  </tbody>\n",
              "</table>\n",
              "<p>237 rows × 1 columns</p>\n",
              "</div>"
            ],
            "text/plain": [
              "             Price\n",
              "Date              \n",
              "2000-01-31  26.080\n",
              "2000-02-29  27.610\n",
              "2000-03-31  27.970\n",
              "2000-04-30  22.900\n",
              "2000-05-31  28.260\n",
              "...            ...\n",
              "2019-05-31  71.785\n",
              "2019-06-30  63.560\n",
              "2019-07-31  63.670\n",
              "2019-08-31  59.015\n",
              "2019-09-30  62.700\n",
              "\n",
              "[237 rows x 1 columns]"
            ]
          },
          "metadata": {
            "tags": []
          },
          "execution_count": 251
        }
      ]
    },
    {
      "cell_type": "code",
      "metadata": {
        "id": "JwyZTGVA22uA",
        "colab_type": "code",
        "colab": {}
      },
      "source": [
        "# asfreq() -> it merely selects from the time series\n",
        "# resample() -> like groupby with date-time capabilities"
      ],
      "execution_count": null,
      "outputs": []
    },
    {
      "cell_type": "markdown",
      "metadata": {
        "id": "TTgmwcJl3N9e",
        "colab_type": "text"
      },
      "source": [
        "#### BONUS: Rolling Windows"
      ]
    },
    {
      "cell_type": "code",
      "metadata": {
        "id": "4QHDClIl4IFf",
        "colab_type": "code",
        "colab": {
          "base_uri": "https://localhost:8080/",
          "height": 238
        },
        "outputId": "73b56d6d-9b09-493b-9bb0-0579238d2d1d"
      },
      "source": [
        "brent.head()"
      ],
      "execution_count": null,
      "outputs": [
        {
          "output_type": "execute_result",
          "data": {
            "text/html": [
              "<div>\n",
              "<style scoped>\n",
              "    .dataframe tbody tr th:only-of-type {\n",
              "        vertical-align: middle;\n",
              "    }\n",
              "\n",
              "    .dataframe tbody tr th {\n",
              "        vertical-align: top;\n",
              "    }\n",
              "\n",
              "    .dataframe thead th {\n",
              "        text-align: right;\n",
              "    }\n",
              "</style>\n",
              "<table border=\"1\" class=\"dataframe\">\n",
              "  <thead>\n",
              "    <tr style=\"text-align: right;\">\n",
              "      <th></th>\n",
              "      <th>Price</th>\n",
              "    </tr>\n",
              "    <tr>\n",
              "      <th>Date</th>\n",
              "      <th></th>\n",
              "    </tr>\n",
              "  </thead>\n",
              "  <tbody>\n",
              "    <tr>\n",
              "      <th>2000-01-04</th>\n",
              "      <td>23.95</td>\n",
              "    </tr>\n",
              "    <tr>\n",
              "      <th>2000-01-05</th>\n",
              "      <td>23.72</td>\n",
              "    </tr>\n",
              "    <tr>\n",
              "      <th>2000-01-06</th>\n",
              "      <td>23.55</td>\n",
              "    </tr>\n",
              "    <tr>\n",
              "      <th>2000-01-07</th>\n",
              "      <td>23.35</td>\n",
              "    </tr>\n",
              "    <tr>\n",
              "      <th>2000-01-10</th>\n",
              "      <td>22.77</td>\n",
              "    </tr>\n",
              "  </tbody>\n",
              "</table>\n",
              "</div>"
            ],
            "text/plain": [
              "            Price\n",
              "Date             \n",
              "2000-01-04  23.95\n",
              "2000-01-05  23.72\n",
              "2000-01-06  23.55\n",
              "2000-01-07  23.35\n",
              "2000-01-10  22.77"
            ]
          },
          "metadata": {
            "tags": []
          },
          "execution_count": 256
        }
      ]
    },
    {
      "cell_type": "code",
      "metadata": {
        "id": "VYQuQOrQ9e_V",
        "colab_type": "code",
        "colab": {}
      },
      "source": [
        "# window size: 3\n",
        "# aggfunc:     mean()"
      ],
      "execution_count": null,
      "outputs": []
    },
    {
      "cell_type": "code",
      "metadata": {
        "id": "T9B21adt9i0S",
        "colab_type": "code",
        "colab": {
          "base_uri": "https://localhost:8080/",
          "height": 52
        },
        "outputId": "b5c3aaa0-a1d5-43cb-9e66-d91dc1b29df6"
      },
      "source": [
        "(brent.iloc[0] + brent.iloc[1] + brent.iloc[2]) / 3 # 1st in the window"
      ],
      "execution_count": null,
      "outputs": [
        {
          "output_type": "execute_result",
          "data": {
            "text/plain": [
              "Price    23.74\n",
              "dtype: float64"
            ]
          },
          "metadata": {
            "tags": []
          },
          "execution_count": 285
        }
      ]
    },
    {
      "cell_type": "code",
      "metadata": {
        "id": "aJruYqvT9n15",
        "colab_type": "code",
        "colab": {
          "base_uri": "https://localhost:8080/",
          "height": 52
        },
        "outputId": "aa795d7a-3bf7-4dc0-e126-0d7b161dacc8"
      },
      "source": [
        "(brent.iloc[1] + brent.iloc[2] + brent.iloc[3]) / 3 # 2nd in the window"
      ],
      "execution_count": null,
      "outputs": [
        {
          "output_type": "execute_result",
          "data": {
            "text/plain": [
              "Price    23.54\n",
              "dtype: float64"
            ]
          },
          "metadata": {
            "tags": []
          },
          "execution_count": 287
        }
      ]
    },
    {
      "cell_type": "code",
      "metadata": {
        "id": "DmcnleZy9wiA",
        "colab_type": "code",
        "colab": {
          "base_uri": "https://localhost:8080/",
          "height": 455
        },
        "outputId": "b9d90ffc-110d-4d22-8f28-949dacff05e9"
      },
      "source": [
        "brent.rolling(3).mean()"
      ],
      "execution_count": null,
      "outputs": [
        {
          "output_type": "execute_result",
          "data": {
            "text/html": [
              "<div>\n",
              "<style scoped>\n",
              "    .dataframe tbody tr th:only-of-type {\n",
              "        vertical-align: middle;\n",
              "    }\n",
              "\n",
              "    .dataframe tbody tr th {\n",
              "        vertical-align: top;\n",
              "    }\n",
              "\n",
              "    .dataframe thead th {\n",
              "        text-align: right;\n",
              "    }\n",
              "</style>\n",
              "<table border=\"1\" class=\"dataframe\">\n",
              "  <thead>\n",
              "    <tr style=\"text-align: right;\">\n",
              "      <th></th>\n",
              "      <th>Price</th>\n",
              "    </tr>\n",
              "    <tr>\n",
              "      <th>Date</th>\n",
              "      <th></th>\n",
              "    </tr>\n",
              "  </thead>\n",
              "  <tbody>\n",
              "    <tr>\n",
              "      <th>2000-01-04</th>\n",
              "      <td>NaN</td>\n",
              "    </tr>\n",
              "    <tr>\n",
              "      <th>2000-01-05</th>\n",
              "      <td>NaN</td>\n",
              "    </tr>\n",
              "    <tr>\n",
              "      <th>2000-01-06</th>\n",
              "      <td>23.740000</td>\n",
              "    </tr>\n",
              "    <tr>\n",
              "      <th>2000-01-07</th>\n",
              "      <td>23.540000</td>\n",
              "    </tr>\n",
              "    <tr>\n",
              "      <th>2000-01-10</th>\n",
              "      <td>23.223333</td>\n",
              "    </tr>\n",
              "    <tr>\n",
              "      <th>...</th>\n",
              "      <td>...</td>\n",
              "    </tr>\n",
              "    <tr>\n",
              "      <th>2019-09-24</th>\n",
              "      <td>64.673333</td>\n",
              "    </tr>\n",
              "    <tr>\n",
              "      <th>2019-09-25</th>\n",
              "      <td>63.733333</td>\n",
              "    </tr>\n",
              "    <tr>\n",
              "      <th>2019-09-26</th>\n",
              "      <td>62.873333</td>\n",
              "    </tr>\n",
              "    <tr>\n",
              "      <th>2019-09-27</th>\n",
              "      <td>62.323333</td>\n",
              "    </tr>\n",
              "    <tr>\n",
              "      <th>2019-09-30</th>\n",
              "      <td>61.850000</td>\n",
              "    </tr>\n",
              "  </tbody>\n",
              "</table>\n",
              "<p>5016 rows × 1 columns</p>\n",
              "</div>"
            ],
            "text/plain": [
              "                Price\n",
              "Date                 \n",
              "2000-01-04        NaN\n",
              "2000-01-05        NaN\n",
              "2000-01-06  23.740000\n",
              "2000-01-07  23.540000\n",
              "2000-01-10  23.223333\n",
              "...               ...\n",
              "2019-09-24  64.673333\n",
              "2019-09-25  63.733333\n",
              "2019-09-26  62.873333\n",
              "2019-09-27  62.323333\n",
              "2019-09-30  61.850000\n",
              "\n",
              "[5016 rows x 1 columns]"
            ]
          },
          "metadata": {
            "tags": []
          },
          "execution_count": 288
        }
      ]
    },
    {
      "cell_type": "code",
      "metadata": {
        "id": "PZPFxCx293MS",
        "colab_type": "code",
        "colab": {
          "base_uri": "https://localhost:8080/",
          "height": 394
        },
        "outputId": "6e6bf498-4eae-47dd-b686-a5e940e968de"
      },
      "source": [
        "brent.rolling(10).mean().head(10)"
      ],
      "execution_count": null,
      "outputs": [
        {
          "output_type": "execute_result",
          "data": {
            "text/html": [
              "<div>\n",
              "<style scoped>\n",
              "    .dataframe tbody tr th:only-of-type {\n",
              "        vertical-align: middle;\n",
              "    }\n",
              "\n",
              "    .dataframe tbody tr th {\n",
              "        vertical-align: top;\n",
              "    }\n",
              "\n",
              "    .dataframe thead th {\n",
              "        text-align: right;\n",
              "    }\n",
              "</style>\n",
              "<table border=\"1\" class=\"dataframe\">\n",
              "  <thead>\n",
              "    <tr style=\"text-align: right;\">\n",
              "      <th></th>\n",
              "      <th>Price</th>\n",
              "    </tr>\n",
              "    <tr>\n",
              "      <th>Date</th>\n",
              "      <th></th>\n",
              "    </tr>\n",
              "  </thead>\n",
              "  <tbody>\n",
              "    <tr>\n",
              "      <th>2000-01-04</th>\n",
              "      <td>NaN</td>\n",
              "    </tr>\n",
              "    <tr>\n",
              "      <th>2000-01-05</th>\n",
              "      <td>NaN</td>\n",
              "    </tr>\n",
              "    <tr>\n",
              "      <th>2000-01-06</th>\n",
              "      <td>NaN</td>\n",
              "    </tr>\n",
              "    <tr>\n",
              "      <th>2000-01-07</th>\n",
              "      <td>NaN</td>\n",
              "    </tr>\n",
              "    <tr>\n",
              "      <th>2000-01-10</th>\n",
              "      <td>NaN</td>\n",
              "    </tr>\n",
              "    <tr>\n",
              "      <th>2000-01-11</th>\n",
              "      <td>NaN</td>\n",
              "    </tr>\n",
              "    <tr>\n",
              "      <th>2000-01-12</th>\n",
              "      <td>NaN</td>\n",
              "    </tr>\n",
              "    <tr>\n",
              "      <th>2000-01-13</th>\n",
              "      <td>NaN</td>\n",
              "    </tr>\n",
              "    <tr>\n",
              "      <th>2000-01-14</th>\n",
              "      <td>NaN</td>\n",
              "    </tr>\n",
              "    <tr>\n",
              "      <th>2000-01-17</th>\n",
              "      <td>24.228</td>\n",
              "    </tr>\n",
              "  </tbody>\n",
              "</table>\n",
              "</div>"
            ],
            "text/plain": [
              "             Price\n",
              "Date              \n",
              "2000-01-04     NaN\n",
              "2000-01-05     NaN\n",
              "2000-01-06     NaN\n",
              "2000-01-07     NaN\n",
              "2000-01-10     NaN\n",
              "2000-01-11     NaN\n",
              "2000-01-12     NaN\n",
              "2000-01-13     NaN\n",
              "2000-01-14     NaN\n",
              "2000-01-17  24.228"
            ]
          },
          "metadata": {
            "tags": []
          },
          "execution_count": 289
        }
      ]
    },
    {
      "cell_type": "code",
      "metadata": {
        "id": "K23I77l8-Imr",
        "colab_type": "code",
        "colab": {}
      },
      "source": [
        "# visualizing moving averages"
      ],
      "execution_count": null,
      "outputs": []
    },
    {
      "cell_type": "code",
      "metadata": {
        "id": "AllKF1qM-ThO",
        "colab_type": "code",
        "colab": {
          "base_uri": "https://localhost:8080/",
          "height": 268
        },
        "outputId": "d7a64880-14a6-40e9-fe74-3dd248bf838c"
      },
      "source": [
        "from matplotlib import pyplot as plt\n",
        "fig, ax = plt.subplots()\n",
        "\n",
        "ax.plot(brent, marker=',', label='Price');\n",
        "ax.plot(brent.rolling(750, win_type='blackman').mean(), color='red', label='50-day MA');\n",
        "\n",
        "ax.legend();\n",
        "ax.set_ylabel('Brent price(USD)');"
      ],
      "execution_count": null,
      "outputs": [
        {
          "output_type": "display_data",
          "data": {
            "image/png": "[encoded data removed]",
            "text/plain": [
              "<Figure size 432x288 with 1 Axes>"
            ]
          },
          "metadata": {
            "tags": []
          }
        }
      ]
    },
    {
      "cell_type": "markdown",
      "metadata": {
        "id": "Tu8PuMc7-p_5",
        "colab_type": "text"
      },
      "source": [
        "#### Skill Challenge"
      ]
    },
    {
      "cell_type": "markdown",
      "metadata": {
        "id": "D1ccK11rAXjl",
        "colab_type": "text"
      },
      "source": [
        "###### **1.**"
      ]
    },
    {
      "cell_type": "markdown",
      "metadata": {
        "id": "_yWVrS_nBygR",
        "colab_type": "text"
      },
      "source": [
        "Add a new column (called Quarter) to the *brent* dataframe that contains each date's respective calendar quarter, eg. 2000-01-04 would be quarter 1."
      ]
    },
    {
      "cell_type": "markdown",
      "metadata": {
        "id": "kM83Zz9dBzRG",
        "colab_type": "text"
      },
      "source": [
        "###### **2.**"
      ]
    },
    {
      "cell_type": "markdown",
      "metadata": {
        "id": "wRo1Cj2zB06S",
        "colab_type": "text"
      },
      "source": [
        "Using the new *Quarter* column and the groupby() method, calculate the average price and standard deviation for each quarter of the year 2014."
      ]
    },
    {
      "cell_type": "markdown",
      "metadata": {
        "id": "yt839ykcB2mg",
        "colab_type": "text"
      },
      "source": [
        "###### 🔥 **3.**"
      ]
    },
    {
      "cell_type": "markdown",
      "metadata": {
        "id": "xopfgA-HB4V6",
        "colab_type": "text"
      },
      "source": [
        "Reproduce the Price average and standard deviation output from Part 2 above, but this time using resample and without relying on the Quarter column."
      ]
    },
    {
      "cell_type": "markdown",
      "metadata": {
        "id": "cpHfaGZ_Dhsl",
        "colab_type": "text"
      },
      "source": [
        "#### Solution"
      ]
    },
    {
      "cell_type": "code",
      "metadata": {
        "id": "QZCnbLRbDkbG",
        "colab_type": "code",
        "colab": {}
      },
      "source": [
        "# 1"
      ],
      "execution_count": null,
      "outputs": []
    },
    {
      "cell_type": "code",
      "metadata": {
        "id": "YmO2JwBxEBcK",
        "colab_type": "code",
        "colab": {
          "base_uri": "https://localhost:8080/",
          "height": 238
        },
        "outputId": "72d900a7-6f6b-41f5-f164-fcc28f62b819"
      },
      "source": [
        "brent.head()"
      ],
      "execution_count": null,
      "outputs": [
        {
          "output_type": "execute_result",
          "data": {
            "text/html": [
              "<div>\n",
              "<style scoped>\n",
              "    .dataframe tbody tr th:only-of-type {\n",
              "        vertical-align: middle;\n",
              "    }\n",
              "\n",
              "    .dataframe tbody tr th {\n",
              "        vertical-align: top;\n",
              "    }\n",
              "\n",
              "    .dataframe thead th {\n",
              "        text-align: right;\n",
              "    }\n",
              "</style>\n",
              "<table border=\"1\" class=\"dataframe\">\n",
              "  <thead>\n",
              "    <tr style=\"text-align: right;\">\n",
              "      <th></th>\n",
              "      <th>Price</th>\n",
              "    </tr>\n",
              "    <tr>\n",
              "      <th>Date</th>\n",
              "      <th></th>\n",
              "    </tr>\n",
              "  </thead>\n",
              "  <tbody>\n",
              "    <tr>\n",
              "      <th>2000-01-04</th>\n",
              "      <td>23.95</td>\n",
              "    </tr>\n",
              "    <tr>\n",
              "      <th>2000-01-05</th>\n",
              "      <td>23.72</td>\n",
              "    </tr>\n",
              "    <tr>\n",
              "      <th>2000-01-06</th>\n",
              "      <td>23.55</td>\n",
              "    </tr>\n",
              "    <tr>\n",
              "      <th>2000-01-07</th>\n",
              "      <td>23.35</td>\n",
              "    </tr>\n",
              "    <tr>\n",
              "      <th>2000-01-10</th>\n",
              "      <td>22.77</td>\n",
              "    </tr>\n",
              "  </tbody>\n",
              "</table>\n",
              "</div>"
            ],
            "text/plain": [
              "            Price\n",
              "Date             \n",
              "2000-01-04  23.95\n",
              "2000-01-05  23.72\n",
              "2000-01-06  23.55\n",
              "2000-01-07  23.35\n",
              "2000-01-10  22.77"
            ]
          },
          "metadata": {
            "tags": []
          },
          "execution_count": 301
        }
      ]
    },
    {
      "cell_type": "code",
      "metadata": {
        "id": "4Xc_T3kvEEqd",
        "colab_type": "code",
        "colab": {}
      },
      "source": [
        "brent['Quarter'] = brent.index.quarter"
      ],
      "execution_count": null,
      "outputs": []
    },
    {
      "cell_type": "code",
      "metadata": {
        "id": "Ivm443ioEHN-",
        "colab_type": "code",
        "colab": {
          "base_uri": "https://localhost:8080/",
          "height": 238
        },
        "outputId": "de9853fd-9523-4acf-a4a7-49b5d24f85af"
      },
      "source": [
        "brent.head()"
      ],
      "execution_count": null,
      "outputs": [
        {
          "output_type": "execute_result",
          "data": {
            "text/html": [
              "<div>\n",
              "<style scoped>\n",
              "    .dataframe tbody tr th:only-of-type {\n",
              "        vertical-align: middle;\n",
              "    }\n",
              "\n",
              "    .dataframe tbody tr th {\n",
              "        vertical-align: top;\n",
              "    }\n",
              "\n",
              "    .dataframe thead th {\n",
              "        text-align: right;\n",
              "    }\n",
              "</style>\n",
              "<table border=\"1\" class=\"dataframe\">\n",
              "  <thead>\n",
              "    <tr style=\"text-align: right;\">\n",
              "      <th></th>\n",
              "      <th>Price</th>\n",
              "      <th>Quarter</th>\n",
              "    </tr>\n",
              "    <tr>\n",
              "      <th>Date</th>\n",
              "      <th></th>\n",
              "      <th></th>\n",
              "    </tr>\n",
              "  </thead>\n",
              "  <tbody>\n",
              "    <tr>\n",
              "      <th>2000-01-04</th>\n",
              "      <td>23.95</td>\n",
              "      <td>1</td>\n",
              "    </tr>\n",
              "    <tr>\n",
              "      <th>2000-01-05</th>\n",
              "      <td>23.72</td>\n",
              "      <td>1</td>\n",
              "    </tr>\n",
              "    <tr>\n",
              "      <th>2000-01-06</th>\n",
              "      <td>23.55</td>\n",
              "      <td>1</td>\n",
              "    </tr>\n",
              "    <tr>\n",
              "      <th>2000-01-07</th>\n",
              "      <td>23.35</td>\n",
              "      <td>1</td>\n",
              "    </tr>\n",
              "    <tr>\n",
              "      <th>2000-01-10</th>\n",
              "      <td>22.77</td>\n",
              "      <td>1</td>\n",
              "    </tr>\n",
              "  </tbody>\n",
              "</table>\n",
              "</div>"
            ],
            "text/plain": [
              "            Price  Quarter\n",
              "Date                      \n",
              "2000-01-04  23.95        1\n",
              "2000-01-05  23.72        1\n",
              "2000-01-06  23.55        1\n",
              "2000-01-07  23.35        1\n",
              "2000-01-10  22.77        1"
            ]
          },
          "metadata": {
            "tags": []
          },
          "execution_count": 305
        }
      ]
    },
    {
      "cell_type": "code",
      "metadata": {
        "id": "-ipJAnqRENdy",
        "colab_type": "code",
        "colab": {
          "base_uri": "https://localhost:8080/",
          "height": 394
        },
        "outputId": "fdc222d4-0b10-46cf-f48d-0ed3c89ea64c"
      },
      "source": [
        "brent.sample(10)"
      ],
      "execution_count": null,
      "outputs": [
        {
          "output_type": "execute_result",
          "data": {
            "text/html": [
              "<div>\n",
              "<style scoped>\n",
              "    .dataframe tbody tr th:only-of-type {\n",
              "        vertical-align: middle;\n",
              "    }\n",
              "\n",
              "    .dataframe tbody tr th {\n",
              "        vertical-align: top;\n",
              "    }\n",
              "\n",
              "    .dataframe thead th {\n",
              "        text-align: right;\n",
              "    }\n",
              "</style>\n",
              "<table border=\"1\" class=\"dataframe\">\n",
              "  <thead>\n",
              "    <tr style=\"text-align: right;\">\n",
              "      <th></th>\n",
              "      <th>Price</th>\n",
              "      <th>Quarter</th>\n",
              "    </tr>\n",
              "    <tr>\n",
              "      <th>Date</th>\n",
              "      <th></th>\n",
              "      <th></th>\n",
              "    </tr>\n",
              "  </thead>\n",
              "  <tbody>\n",
              "    <tr>\n",
              "      <th>2019-08-23</th>\n",
              "      <td>58.64</td>\n",
              "      <td>3</td>\n",
              "    </tr>\n",
              "    <tr>\n",
              "      <th>2016-09-12</th>\n",
              "      <td>47.82</td>\n",
              "      <td>3</td>\n",
              "    </tr>\n",
              "    <tr>\n",
              "      <th>2011-08-23</th>\n",
              "      <td>110.35</td>\n",
              "      <td>3</td>\n",
              "    </tr>\n",
              "    <tr>\n",
              "      <th>2013-10-29</th>\n",
              "      <td>108.04</td>\n",
              "      <td>4</td>\n",
              "    </tr>\n",
              "    <tr>\n",
              "      <th>2011-05-06</th>\n",
              "      <td>113.69</td>\n",
              "      <td>2</td>\n",
              "    </tr>\n",
              "    <tr>\n",
              "      <th>2012-04-23</th>\n",
              "      <td>116.66</td>\n",
              "      <td>2</td>\n",
              "    </tr>\n",
              "    <tr>\n",
              "      <th>2002-12-13</th>\n",
              "      <td>27.64</td>\n",
              "      <td>4</td>\n",
              "    </tr>\n",
              "    <tr>\n",
              "      <th>2010-06-28</th>\n",
              "      <td>76.66</td>\n",
              "      <td>2</td>\n",
              "    </tr>\n",
              "    <tr>\n",
              "      <th>2001-12-03</th>\n",
              "      <td>20.00</td>\n",
              "      <td>4</td>\n",
              "    </tr>\n",
              "    <tr>\n",
              "      <th>2016-01-08</th>\n",
              "      <td>31.67</td>\n",
              "      <td>1</td>\n",
              "    </tr>\n",
              "  </tbody>\n",
              "</table>\n",
              "</div>"
            ],
            "text/plain": [
              "             Price  Quarter\n",
              "Date                       \n",
              "2019-08-23   58.64        3\n",
              "2016-09-12   47.82        3\n",
              "2011-08-23  110.35        3\n",
              "2013-10-29  108.04        4\n",
              "2011-05-06  113.69        2\n",
              "2012-04-23  116.66        2\n",
              "2002-12-13   27.64        4\n",
              "2010-06-28   76.66        2\n",
              "2001-12-03   20.00        4\n",
              "2016-01-08   31.67        1"
            ]
          },
          "metadata": {
            "tags": []
          },
          "execution_count": 306
        }
      ]
    },
    {
      "cell_type": "code",
      "metadata": {
        "id": "aqiheNbkEPr-",
        "colab_type": "code",
        "colab": {}
      },
      "source": [
        "# # 2\n",
        "\n",
        "# - select 2014 prices\n",
        "# - group by quarter\n",
        "# - apply the mean and std"
      ],
      "execution_count": null,
      "outputs": []
    },
    {
      "cell_type": "code",
      "metadata": {
        "id": "pzAakFx7Eedv",
        "colab_type": "code",
        "colab": {
          "base_uri": "https://localhost:8080/",
          "height": 238
        },
        "outputId": "89e33ebc-12ce-4ee8-f94e-a822bf4b33bf"
      },
      "source": [
        "brent['2014'].groupby('Quarter').agg({'mean', 'std'})"
      ],
      "execution_count": null,
      "outputs": [
        {
          "output_type": "execute_result",
          "data": {
            "text/html": [
              "<div>\n",
              "<style scoped>\n",
              "    .dataframe tbody tr th:only-of-type {\n",
              "        vertical-align: middle;\n",
              "    }\n",
              "\n",
              "    .dataframe tbody tr th {\n",
              "        vertical-align: top;\n",
              "    }\n",
              "\n",
              "    .dataframe thead tr th {\n",
              "        text-align: left;\n",
              "    }\n",
              "\n",
              "    .dataframe thead tr:last-of-type th {\n",
              "        text-align: right;\n",
              "    }\n",
              "</style>\n",
              "<table border=\"1\" class=\"dataframe\">\n",
              "  <thead>\n",
              "    <tr>\n",
              "      <th></th>\n",
              "      <th colspan=\"2\" halign=\"left\">Price</th>\n",
              "    </tr>\n",
              "    <tr>\n",
              "      <th></th>\n",
              "      <th>mean</th>\n",
              "      <th>std</th>\n",
              "    </tr>\n",
              "    <tr>\n",
              "      <th>Quarter</th>\n",
              "      <th></th>\n",
              "      <th></th>\n",
              "    </tr>\n",
              "  </thead>\n",
              "  <tbody>\n",
              "    <tr>\n",
              "      <th>1</th>\n",
              "      <td>108.141935</td>\n",
              "      <td>1.280641</td>\n",
              "    </tr>\n",
              "    <tr>\n",
              "      <th>2</th>\n",
              "      <td>109.694063</td>\n",
              "      <td>2.406442</td>\n",
              "    </tr>\n",
              "    <tr>\n",
              "      <th>3</th>\n",
              "      <td>101.899844</td>\n",
              "      <td>4.364868</td>\n",
              "    </tr>\n",
              "    <tr>\n",
              "      <th>4</th>\n",
              "      <td>76.429219</td>\n",
              "      <td>11.410171</td>\n",
              "    </tr>\n",
              "  </tbody>\n",
              "</table>\n",
              "</div>"
            ],
            "text/plain": [
              "              Price           \n",
              "               mean        std\n",
              "Quarter                       \n",
              "1        108.141935   1.280641\n",
              "2        109.694063   2.406442\n",
              "3        101.899844   4.364868\n",
              "4         76.429219  11.410171"
            ]
          },
          "metadata": {
            "tags": []
          },
          "execution_count": 310
        }
      ]
    },
    {
      "cell_type": "code",
      "metadata": {
        "id": "L0n607odEhw1",
        "colab_type": "code",
        "colab": {
          "base_uri": "https://localhost:8080/",
          "height": 206
        },
        "outputId": "0b73f88d-9d91-4a1e-f503-9771226f7394"
      },
      "source": [
        "brent.loc['2014'].groupby('Quarter').agg(average_price=('Price', 'mean'),\n",
        "                                         std_price=('Price', 'std'))"
      ],
      "execution_count": null,
      "outputs": [
        {
          "output_type": "execute_result",
          "data": {
            "text/html": [
              "<div>\n",
              "<style scoped>\n",
              "    .dataframe tbody tr th:only-of-type {\n",
              "        vertical-align: middle;\n",
              "    }\n",
              "\n",
              "    .dataframe tbody tr th {\n",
              "        vertical-align: top;\n",
              "    }\n",
              "\n",
              "    .dataframe thead th {\n",
              "        text-align: right;\n",
              "    }\n",
              "</style>\n",
              "<table border=\"1\" class=\"dataframe\">\n",
              "  <thead>\n",
              "    <tr style=\"text-align: right;\">\n",
              "      <th></th>\n",
              "      <th>average_price</th>\n",
              "      <th>std_price</th>\n",
              "    </tr>\n",
              "    <tr>\n",
              "      <th>Quarter</th>\n",
              "      <th></th>\n",
              "      <th></th>\n",
              "    </tr>\n",
              "  </thead>\n",
              "  <tbody>\n",
              "    <tr>\n",
              "      <th>1</th>\n",
              "      <td>108.141935</td>\n",
              "      <td>1.280641</td>\n",
              "    </tr>\n",
              "    <tr>\n",
              "      <th>2</th>\n",
              "      <td>109.694063</td>\n",
              "      <td>2.406442</td>\n",
              "    </tr>\n",
              "    <tr>\n",
              "      <th>3</th>\n",
              "      <td>101.899844</td>\n",
              "      <td>4.364868</td>\n",
              "    </tr>\n",
              "    <tr>\n",
              "      <th>4</th>\n",
              "      <td>76.429219</td>\n",
              "      <td>11.410171</td>\n",
              "    </tr>\n",
              "  </tbody>\n",
              "</table>\n",
              "</div>"
            ],
            "text/plain": [
              "         average_price  std_price\n",
              "Quarter                          \n",
              "1           108.141935   1.280641\n",
              "2           109.694063   2.406442\n",
              "3           101.899844   4.364868\n",
              "4            76.429219  11.410171"
            ]
          },
          "metadata": {
            "tags": []
          },
          "execution_count": 311
        }
      ]
    },
    {
      "cell_type": "code",
      "metadata": {
        "id": "K08QYqc_E1v8",
        "colab_type": "code",
        "colab": {}
      },
      "source": [
        "# 3"
      ],
      "execution_count": null,
      "outputs": []
    },
    {
      "cell_type": "code",
      "metadata": {
        "id": "Cx9gOZ5-E_Au",
        "colab_type": "code",
        "colab": {
          "base_uri": "https://localhost:8080/",
          "height": 206
        },
        "outputId": "37f28630-7e0f-4954-a867-20a9776b96c5"
      },
      "source": [
        "brent.loc['2014', 'Price'].resample('Q').agg({'mean', 'std'})"
      ],
      "execution_count": null,
      "outputs": [
        {
          "output_type": "execute_result",
          "data": {
            "text/html": [
              "<div>\n",
              "<style scoped>\n",
              "    .dataframe tbody tr th:only-of-type {\n",
              "        vertical-align: middle;\n",
              "    }\n",
              "\n",
              "    .dataframe tbody tr th {\n",
              "        vertical-align: top;\n",
              "    }\n",
              "\n",
              "    .dataframe thead th {\n",
              "        text-align: right;\n",
              "    }\n",
              "</style>\n",
              "<table border=\"1\" class=\"dataframe\">\n",
              "  <thead>\n",
              "    <tr style=\"text-align: right;\">\n",
              "      <th></th>\n",
              "      <th>mean</th>\n",
              "      <th>std</th>\n",
              "    </tr>\n",
              "    <tr>\n",
              "      <th>Date</th>\n",
              "      <th></th>\n",
              "      <th></th>\n",
              "    </tr>\n",
              "  </thead>\n",
              "  <tbody>\n",
              "    <tr>\n",
              "      <th>2014-03-31</th>\n",
              "      <td>108.141935</td>\n",
              "      <td>1.280641</td>\n",
              "    </tr>\n",
              "    <tr>\n",
              "      <th>2014-06-30</th>\n",
              "      <td>109.694063</td>\n",
              "      <td>2.406442</td>\n",
              "    </tr>\n",
              "    <tr>\n",
              "      <th>2014-09-30</th>\n",
              "      <td>101.899844</td>\n",
              "      <td>4.364868</td>\n",
              "    </tr>\n",
              "    <tr>\n",
              "      <th>2014-12-31</th>\n",
              "      <td>76.429219</td>\n",
              "      <td>11.410171</td>\n",
              "    </tr>\n",
              "  </tbody>\n",
              "</table>\n",
              "</div>"
            ],
            "text/plain": [
              "                  mean        std\n",
              "Date                             \n",
              "2014-03-31  108.141935   1.280641\n",
              "2014-06-30  109.694063   2.406442\n",
              "2014-09-30  101.899844   4.364868\n",
              "2014-12-31   76.429219  11.410171"
            ]
          },
          "metadata": {
            "tags": []
          },
          "execution_count": 315
        }
      ]
    },
    {
      "cell_type": "code",
      "metadata": {
        "id": "mSfxhJxkFCRU",
        "colab_type": "code",
        "colab": {}
      },
      "source": [
        ""
      ],
      "execution_count": null,
      "outputs": []
    }
  ]
}