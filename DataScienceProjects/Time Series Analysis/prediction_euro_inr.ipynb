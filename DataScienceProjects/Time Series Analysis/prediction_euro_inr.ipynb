{
 "cells": [
  {
   "cell_type": "code",
   "execution_count": 503,
   "id": "7a3d3f9e-6d8f-4b16-abd3-3132d59ba74a",
   "metadata": {},
   "outputs": [],
   "source": [
    "# Import necessary libraries\n",
    "import pandas as pd\n",
    "import numpy as np\n",
    "import matplotlib.pyplot as plt\n",
    "import seaborn as sns\n",
    "from statsmodels.tsa.arima.model import ARIMA"
   ]
  },
  {
   "cell_type": "code",
   "execution_count": 504,
   "id": "c9f43973-fdd2-494f-8781-ce37cde5ef26",
   "metadata": {},
   "outputs": [
    {
     "data": {
      "text/html": [
       "<div>\n",
       "<style scoped>\n",
       "    .dataframe tbody tr th:only-of-type {\n",
       "        vertical-align: middle;\n",
       "    }\n",
       "\n",
       "    .dataframe tbody tr th {\n",
       "        vertical-align: top;\n",
       "    }\n",
       "\n",
       "    .dataframe thead th {\n",
       "        text-align: right;\n",
       "    }\n",
       "</style>\n",
       "<table border=\"1\" class=\"dataframe\">\n",
       "  <thead>\n",
       "    <tr style=\"text-align: right;\">\n",
       "      <th></th>\n",
       "      <th>Date</th>\n",
       "      <th>Open</th>\n",
       "      <th>Low</th>\n",
       "      <th>High</th>\n",
       "      <th>Close</th>\n",
       "      <th>Change</th>\n",
       "    </tr>\n",
       "  </thead>\n",
       "  <tbody>\n",
       "    <tr>\n",
       "      <th>0</th>\n",
       "      <td>Jan 09, 2024</td>\n",
       "      <td>91.0630</td>\n",
       "      <td>90.9520</td>\n",
       "      <td>91.0830</td>\n",
       "      <td>90.9330</td>\n",
       "      <td>0.18%</td>\n",
       "    </tr>\n",
       "    <tr>\n",
       "      <th>1</th>\n",
       "      <td>Jan 08, 2024</td>\n",
       "      <td>90.9000</td>\n",
       "      <td>90.9965</td>\n",
       "      <td>91.1840</td>\n",
       "      <td>90.7890</td>\n",
       "      <td>0.16%</td>\n",
       "    </tr>\n",
       "    <tr>\n",
       "      <th>2</th>\n",
       "      <td>Jan 07, 2024</td>\n",
       "      <td>90.7557</td>\n",
       "      <td>90.7557</td>\n",
       "      <td>90.7557</td>\n",
       "      <td>90.7557</td>\n",
       "      <td>-0.18%</td>\n",
       "    </tr>\n",
       "    <tr>\n",
       "      <th>3</th>\n",
       "      <td>Jan 05, 2024</td>\n",
       "      <td>90.9230</td>\n",
       "      <td>91.1315</td>\n",
       "      <td>91.3850</td>\n",
       "      <td>90.4980</td>\n",
       "      <td>-0.19%</td>\n",
       "    </tr>\n",
       "    <tr>\n",
       "      <th>4</th>\n",
       "      <td>Jan 04, 2024</td>\n",
       "      <td>91.0930</td>\n",
       "      <td>90.9655</td>\n",
       "      <td>91.3380</td>\n",
       "      <td>90.9125</td>\n",
       "      <td>0.16%</td>\n",
       "    </tr>\n",
       "  </tbody>\n",
       "</table>\n",
       "</div>"
      ],
      "text/plain": [
       "           Date     Open      Low     High    Close  Change\n",
       "0  Jan 09, 2024  91.0630  90.9520  91.0830  90.9330   0.18%\n",
       "1  Jan 08, 2024  90.9000  90.9965  91.1840  90.7890   0.16%\n",
       "2  Jan 07, 2024  90.7557  90.7557  90.7557  90.7557  -0.18%\n",
       "3  Jan 05, 2024  90.9230  91.1315  91.3850  90.4980  -0.19%\n",
       "4  Jan 04, 2024  91.0930  90.9655  91.3380  90.9125   0.16%"
      ]
     },
     "execution_count": 504,
     "metadata": {},
     "output_type": "execute_result"
    }
   ],
   "source": [
    "# data = pd.read_csv(\"HistoricalPricesEuroInINR.csv\")\n",
    "data = pd.read_csv(\"historical_prices_euro_inr.csv\")\n",
    "data.head()"
   ]
  },
  {
   "cell_type": "code",
   "execution_count": 505,
   "id": "2a55dea5-6e9e-4579-86f5-934e99ca9330",
   "metadata": {},
   "outputs": [
    {
     "name": "stdout",
     "output_type": "stream",
     "text": [
      "<class 'pandas.core.frame.DataFrame'>\n",
      "RangeIndex: 1827 entries, 0 to 1826\n",
      "Data columns (total 6 columns):\n",
      " #   Column  Non-Null Count  Dtype  \n",
      "---  ------  --------------  -----  \n",
      " 0   Date    1827 non-null   object \n",
      " 1   Open    1827 non-null   float64\n",
      " 2   Low     1827 non-null   float64\n",
      " 3   High    1827 non-null   float64\n",
      " 4   Close   1827 non-null   float64\n",
      " 5   Change  1827 non-null   object \n",
      "dtypes: float64(4), object(2)\n",
      "memory usage: 85.8+ KB\n"
     ]
    }
   ],
   "source": [
    "data.info()"
   ]
  },
  {
   "cell_type": "code",
   "execution_count": 506,
   "id": "e9757fc6-cde6-44f3-8744-1b76480f1760",
   "metadata": {},
   "outputs": [
    {
     "data": {
      "text/html": [
       "<div>\n",
       "<style scoped>\n",
       "    .dataframe tbody tr th:only-of-type {\n",
       "        vertical-align: middle;\n",
       "    }\n",
       "\n",
       "    .dataframe tbody tr th {\n",
       "        vertical-align: top;\n",
       "    }\n",
       "\n",
       "    .dataframe thead th {\n",
       "        text-align: right;\n",
       "    }\n",
       "</style>\n",
       "<table border=\"1\" class=\"dataframe\">\n",
       "  <thead>\n",
       "    <tr style=\"text-align: right;\">\n",
       "      <th></th>\n",
       "      <th>Open</th>\n",
       "      <th>Low</th>\n",
       "      <th>High</th>\n",
       "      <th>Close</th>\n",
       "    </tr>\n",
       "  </thead>\n",
       "  <tbody>\n",
       "    <tr>\n",
       "      <th>count</th>\n",
       "      <td>1827.000000</td>\n",
       "      <td>1827.000000</td>\n",
       "      <td>1827.000000</td>\n",
       "      <td>1827.000000</td>\n",
       "    </tr>\n",
       "    <tr>\n",
       "      <th>mean</th>\n",
       "      <td>82.494797</td>\n",
       "      <td>82.505009</td>\n",
       "      <td>82.839959</td>\n",
       "      <td>82.205118</td>\n",
       "    </tr>\n",
       "    <tr>\n",
       "      <th>std</th>\n",
       "      <td>5.412309</td>\n",
       "      <td>5.422026</td>\n",
       "      <td>5.423504</td>\n",
       "      <td>5.412781</td>\n",
       "    </tr>\n",
       "    <tr>\n",
       "      <th>min</th>\n",
       "      <td>68.062000</td>\n",
       "      <td>68.107000</td>\n",
       "      <td>68.536000</td>\n",
       "      <td>67.965000</td>\n",
       "    </tr>\n",
       "    <tr>\n",
       "      <th>25%</th>\n",
       "      <td>78.780500</td>\n",
       "      <td>78.801000</td>\n",
       "      <td>79.131750</td>\n",
       "      <td>78.557000</td>\n",
       "    </tr>\n",
       "    <tr>\n",
       "      <th>50%</th>\n",
       "      <td>82.306000</td>\n",
       "      <td>82.304000</td>\n",
       "      <td>82.748500</td>\n",
       "      <td>81.942000</td>\n",
       "    </tr>\n",
       "    <tr>\n",
       "      <th>75%</th>\n",
       "      <td>87.527000</td>\n",
       "      <td>87.532750</td>\n",
       "      <td>87.924750</td>\n",
       "      <td>87.255750</td>\n",
       "    </tr>\n",
       "    <tr>\n",
       "      <th>max</th>\n",
       "      <td>92.446000</td>\n",
       "      <td>92.469000</td>\n",
       "      <td>92.665000</td>\n",
       "      <td>91.970500</td>\n",
       "    </tr>\n",
       "  </tbody>\n",
       "</table>\n",
       "</div>"
      ],
      "text/plain": [
       "              Open          Low         High        Close\n",
       "count  1827.000000  1827.000000  1827.000000  1827.000000\n",
       "mean     82.494797    82.505009    82.839959    82.205118\n",
       "std       5.412309     5.422026     5.423504     5.412781\n",
       "min      68.062000    68.107000    68.536000    67.965000\n",
       "25%      78.780500    78.801000    79.131750    78.557000\n",
       "50%      82.306000    82.304000    82.748500    81.942000\n",
       "75%      87.527000    87.532750    87.924750    87.255750\n",
       "max      92.446000    92.469000    92.665000    91.970500"
      ]
     },
     "execution_count": 506,
     "metadata": {},
     "output_type": "execute_result"
    }
   ],
   "source": [
    "data.describe()"
   ]
  },
  {
   "cell_type": "code",
   "execution_count": 507,
   "id": "0c1850bb-0fa6-4a91-87a2-a573ab944083",
   "metadata": {},
   "outputs": [
    {
     "name": "stdout",
     "output_type": "stream",
     "text": [
      "Index(['Date', 'Open', 'Low', 'High', 'Close', 'Change'], dtype='object')\n"
     ]
    }
   ],
   "source": [
    "col_names = data.columns\n",
    "print(col_names)"
   ]
  },
  {
   "cell_type": "code",
   "execution_count": 508,
   "id": "ff816714-d657-449b-ac5e-ebc8a2fe181e",
   "metadata": {},
   "outputs": [
    {
     "data": {
      "text/plain": [
       "Index(['date', 'open', 'low', 'high', 'close', 'change'], dtype='object')"
      ]
     },
     "execution_count": 508,
     "metadata": {},
     "output_type": "execute_result"
    }
   ],
   "source": [
    "df = data.rename(columns=lambda x: x.replace(\" \", \"\").lower())  # Replace spaces with underscores\n",
    "df.columns"
   ]
  },
  {
   "cell_type": "code",
   "execution_count": 509,
   "id": "6dc9dadb-90fc-4711-ad0b-94e2ba229f66",
   "metadata": {},
   "outputs": [
    {
     "data": {
      "text/html": [
       "<div>\n",
       "<style scoped>\n",
       "    .dataframe tbody tr th:only-of-type {\n",
       "        vertical-align: middle;\n",
       "    }\n",
       "\n",
       "    .dataframe tbody tr th {\n",
       "        vertical-align: top;\n",
       "    }\n",
       "\n",
       "    .dataframe thead th {\n",
       "        text-align: right;\n",
       "    }\n",
       "</style>\n",
       "<table border=\"1\" class=\"dataframe\">\n",
       "  <thead>\n",
       "    <tr style=\"text-align: right;\">\n",
       "      <th></th>\n",
       "      <th>date</th>\n",
       "      <th>open</th>\n",
       "      <th>low</th>\n",
       "      <th>high</th>\n",
       "      <th>close</th>\n",
       "      <th>change</th>\n",
       "    </tr>\n",
       "  </thead>\n",
       "  <tbody>\n",
       "    <tr>\n",
       "      <th>0</th>\n",
       "      <td>Jan 09, 2024</td>\n",
       "      <td>91.0630</td>\n",
       "      <td>90.9520</td>\n",
       "      <td>91.0830</td>\n",
       "      <td>90.9330</td>\n",
       "      <td>0.18%</td>\n",
       "    </tr>\n",
       "    <tr>\n",
       "      <th>1</th>\n",
       "      <td>Jan 08, 2024</td>\n",
       "      <td>90.9000</td>\n",
       "      <td>90.9965</td>\n",
       "      <td>91.1840</td>\n",
       "      <td>90.7890</td>\n",
       "      <td>0.16%</td>\n",
       "    </tr>\n",
       "    <tr>\n",
       "      <th>2</th>\n",
       "      <td>Jan 07, 2024</td>\n",
       "      <td>90.7557</td>\n",
       "      <td>90.7557</td>\n",
       "      <td>90.7557</td>\n",
       "      <td>90.7557</td>\n",
       "      <td>-0.18%</td>\n",
       "    </tr>\n",
       "    <tr>\n",
       "      <th>3</th>\n",
       "      <td>Jan 05, 2024</td>\n",
       "      <td>90.9230</td>\n",
       "      <td>91.1315</td>\n",
       "      <td>91.3850</td>\n",
       "      <td>90.4980</td>\n",
       "      <td>-0.19%</td>\n",
       "    </tr>\n",
       "    <tr>\n",
       "      <th>4</th>\n",
       "      <td>Jan 04, 2024</td>\n",
       "      <td>91.0930</td>\n",
       "      <td>90.9655</td>\n",
       "      <td>91.3380</td>\n",
       "      <td>90.9125</td>\n",
       "      <td>0.16%</td>\n",
       "    </tr>\n",
       "    <tr>\n",
       "      <th>...</th>\n",
       "      <td>...</td>\n",
       "      <td>...</td>\n",
       "      <td>...</td>\n",
       "      <td>...</td>\n",
       "      <td>...</td>\n",
       "      <td>...</td>\n",
       "    </tr>\n",
       "    <tr>\n",
       "      <th>1822</th>\n",
       "      <td>Jan 16, 2017</td>\n",
       "      <td>72.2090</td>\n",
       "      <td>72.3870</td>\n",
       "      <td>72.5230</td>\n",
       "      <td>72.0740</td>\n",
       "      <td>-0.50%</td>\n",
       "    </tr>\n",
       "    <tr>\n",
       "      <th>1823</th>\n",
       "      <td>Jan 13, 2017</td>\n",
       "      <td>72.5710</td>\n",
       "      <td>72.3420</td>\n",
       "      <td>72.7650</td>\n",
       "      <td>72.2550</td>\n",
       "      <td>0.35%</td>\n",
       "    </tr>\n",
       "    <tr>\n",
       "      <th>1824</th>\n",
       "      <td>Jan 12, 2017</td>\n",
       "      <td>72.3145</td>\n",
       "      <td>72.2505</td>\n",
       "      <td>72.6865</td>\n",
       "      <td>72.1465</td>\n",
       "      <td>0.03%</td>\n",
       "    </tr>\n",
       "    <tr>\n",
       "      <th>1825</th>\n",
       "      <td>Jan 11, 2017</td>\n",
       "      <td>72.2910</td>\n",
       "      <td>72.1640</td>\n",
       "      <td>72.4890</td>\n",
       "      <td>71.5820</td>\n",
       "      <td>0.24%</td>\n",
       "    </tr>\n",
       "    <tr>\n",
       "      <th>1826</th>\n",
       "      <td>Jan 10, 2017</td>\n",
       "      <td>72.1195</td>\n",
       "      <td>72.0095</td>\n",
       "      <td>72.3575</td>\n",
       "      <td>72.0025</td>\n",
       "      <td>0.15%</td>\n",
       "    </tr>\n",
       "  </tbody>\n",
       "</table>\n",
       "<p>1827 rows × 6 columns</p>\n",
       "</div>"
      ],
      "text/plain": [
       "              date     open      low     high    close  change\n",
       "0     Jan 09, 2024  91.0630  90.9520  91.0830  90.9330   0.18%\n",
       "1     Jan 08, 2024  90.9000  90.9965  91.1840  90.7890   0.16%\n",
       "2     Jan 07, 2024  90.7557  90.7557  90.7557  90.7557  -0.18%\n",
       "3     Jan 05, 2024  90.9230  91.1315  91.3850  90.4980  -0.19%\n",
       "4     Jan 04, 2024  91.0930  90.9655  91.3380  90.9125   0.16%\n",
       "...            ...      ...      ...      ...      ...     ...\n",
       "1822  Jan 16, 2017  72.2090  72.3870  72.5230  72.0740  -0.50%\n",
       "1823  Jan 13, 2017  72.5710  72.3420  72.7650  72.2550   0.35%\n",
       "1824  Jan 12, 2017  72.3145  72.2505  72.6865  72.1465   0.03%\n",
       "1825  Jan 11, 2017  72.2910  72.1640  72.4890  71.5820   0.24%\n",
       "1826  Jan 10, 2017  72.1195  72.0095  72.3575  72.0025   0.15%\n",
       "\n",
       "[1827 rows x 6 columns]"
      ]
     },
     "execution_count": 509,
     "metadata": {},
     "output_type": "execute_result"
    }
   ],
   "source": [
    "df"
   ]
  },
  {
   "cell_type": "code",
   "execution_count": 510,
   "id": "300e277e-0ad1-47f9-92ab-59d183173fb4",
   "metadata": {},
   "outputs": [],
   "source": [
    "# Convert 'date' to datetime with explicit format and frequency\n",
    "# df['date'] = pd.to_datetime(df['date'], format='%m/%d/%y')\n",
    "df['date'] = pd.to_datetime(df['date'], format='%b %d, %Y')\n",
    "\n",
    "df.set_index('date', inplace=True)"
   ]
  },
  {
   "cell_type": "code",
   "execution_count": 511,
   "id": "0fe141d4-3d93-48a0-b772-f9f91f45b873",
   "metadata": {},
   "outputs": [
    {
     "name": "stdout",
     "output_type": "stream",
     "text": [
      "<Day>\n"
     ]
    }
   ],
   "source": [
    "if df.index.freq == None:\n",
    "    df = df.fillna(method='ffill')  # Forward fill to fill missing values with the last available value\n",
    "\n",
    "# Set the frequency to daily ('D')\n",
    "df = df.asfreq('D')\n",
    "\n",
    "# Check the frequency again\n",
    "print(df.index.freq)  # This should print 'D'\n"
   ]
  },
  {
   "cell_type": "code",
   "execution_count": 512,
   "id": "b653dca8-156c-4bef-9625-43394e4cafd0",
   "metadata": {},
   "outputs": [
    {
     "data": {
      "text/html": [
       "<div>\n",
       "<style scoped>\n",
       "    .dataframe tbody tr th:only-of-type {\n",
       "        vertical-align: middle;\n",
       "    }\n",
       "\n",
       "    .dataframe tbody tr th {\n",
       "        vertical-align: top;\n",
       "    }\n",
       "\n",
       "    .dataframe thead th {\n",
       "        text-align: right;\n",
       "    }\n",
       "</style>\n",
       "<table border=\"1\" class=\"dataframe\">\n",
       "  <thead>\n",
       "    <tr style=\"text-align: right;\">\n",
       "      <th></th>\n",
       "      <th>open</th>\n",
       "      <th>low</th>\n",
       "      <th>high</th>\n",
       "      <th>close</th>\n",
       "      <th>change</th>\n",
       "    </tr>\n",
       "    <tr>\n",
       "      <th>date</th>\n",
       "      <th></th>\n",
       "      <th></th>\n",
       "      <th></th>\n",
       "      <th></th>\n",
       "      <th></th>\n",
       "    </tr>\n",
       "  </thead>\n",
       "  <tbody>\n",
       "    <tr>\n",
       "      <th>2017-01-10</th>\n",
       "      <td>72.1195</td>\n",
       "      <td>72.0095</td>\n",
       "      <td>72.3575</td>\n",
       "      <td>72.0025</td>\n",
       "      <td>0.15%</td>\n",
       "    </tr>\n",
       "    <tr>\n",
       "      <th>2017-01-11</th>\n",
       "      <td>72.2910</td>\n",
       "      <td>72.1640</td>\n",
       "      <td>72.4890</td>\n",
       "      <td>71.5820</td>\n",
       "      <td>0.24%</td>\n",
       "    </tr>\n",
       "    <tr>\n",
       "      <th>2017-01-12</th>\n",
       "      <td>72.3145</td>\n",
       "      <td>72.2505</td>\n",
       "      <td>72.6865</td>\n",
       "      <td>72.1465</td>\n",
       "      <td>0.03%</td>\n",
       "    </tr>\n",
       "    <tr>\n",
       "      <th>2017-01-13</th>\n",
       "      <td>72.5710</td>\n",
       "      <td>72.3420</td>\n",
       "      <td>72.7650</td>\n",
       "      <td>72.2550</td>\n",
       "      <td>0.35%</td>\n",
       "    </tr>\n",
       "    <tr>\n",
       "      <th>2017-01-14</th>\n",
       "      <td>NaN</td>\n",
       "      <td>NaN</td>\n",
       "      <td>NaN</td>\n",
       "      <td>NaN</td>\n",
       "      <td>NaN</td>\n",
       "    </tr>\n",
       "  </tbody>\n",
       "</table>\n",
       "</div>"
      ],
      "text/plain": [
       "               open      low     high    close change\n",
       "date                                                 \n",
       "2017-01-10  72.1195  72.0095  72.3575  72.0025  0.15%\n",
       "2017-01-11  72.2910  72.1640  72.4890  71.5820  0.24%\n",
       "2017-01-12  72.3145  72.2505  72.6865  72.1465  0.03%\n",
       "2017-01-13  72.5710  72.3420  72.7650  72.2550  0.35%\n",
       "2017-01-14      NaN      NaN      NaN      NaN    NaN"
      ]
     },
     "execution_count": 512,
     "metadata": {},
     "output_type": "execute_result"
    }
   ],
   "source": [
    "df.head()"
   ]
  },
  {
   "cell_type": "code",
   "execution_count": 513,
   "id": "285df77f-e293-49a3-901e-93b643decefc",
   "metadata": {},
   "outputs": [
    {
     "data": {
      "text/plain": [
       "DatetimeIndex(['2017-01-10', '2017-01-11', '2017-01-12', '2017-01-13',\n",
       "               '2017-01-14', '2017-01-15', '2017-01-16', '2017-01-17',\n",
       "               '2017-01-18', '2017-01-19',\n",
       "               ...\n",
       "               '2023-12-31', '2024-01-01', '2024-01-02', '2024-01-03',\n",
       "               '2024-01-04', '2024-01-05', '2024-01-06', '2024-01-07',\n",
       "               '2024-01-08', '2024-01-09'],\n",
       "              dtype='datetime64[ns]', name='date', length=2556, freq='D')"
      ]
     },
     "execution_count": 513,
     "metadata": {},
     "output_type": "execute_result"
    }
   ],
   "source": [
    "df.index"
   ]
  },
  {
   "cell_type": "code",
   "execution_count": 514,
   "id": "29f332cd-52e5-4b1c-8a84-7d65e5f00c87",
   "metadata": {},
   "outputs": [
    {
     "name": "stdout",
     "output_type": "stream",
     "text": [
      "<class 'pandas.core.frame.DataFrame'>\n",
      "DatetimeIndex: 2556 entries, 2017-01-10 to 2024-01-09\n",
      "Freq: D\n",
      "Data columns (total 5 columns):\n",
      " #   Column  Non-Null Count  Dtype  \n",
      "---  ------  --------------  -----  \n",
      " 0   open    1827 non-null   float64\n",
      " 1   low     1827 non-null   float64\n",
      " 2   high    1827 non-null   float64\n",
      " 3   close   1827 non-null   float64\n",
      " 4   change  1827 non-null   object \n",
      "dtypes: float64(4), object(1)\n",
      "memory usage: 119.8+ KB\n"
     ]
    }
   ],
   "source": [
    "df.info()"
   ]
  },
  {
   "cell_type": "code",
   "execution_count": 515,
   "id": "55de1127-f21f-468f-9fe1-d8a73cc7d5af",
   "metadata": {},
   "outputs": [],
   "source": [
    "df.drop('change',axis=1, inplace=True)"
   ]
  },
  {
   "cell_type": "code",
   "execution_count": 516,
   "id": "4efb6fd9-b19d-4ca3-b784-40dbeefde3c5",
   "metadata": {},
   "outputs": [
    {
     "data": {
      "text/html": [
       "<div>\n",
       "<style scoped>\n",
       "    .dataframe tbody tr th:only-of-type {\n",
       "        vertical-align: middle;\n",
       "    }\n",
       "\n",
       "    .dataframe tbody tr th {\n",
       "        vertical-align: top;\n",
       "    }\n",
       "\n",
       "    .dataframe thead th {\n",
       "        text-align: right;\n",
       "    }\n",
       "</style>\n",
       "<table border=\"1\" class=\"dataframe\">\n",
       "  <thead>\n",
       "    <tr style=\"text-align: right;\">\n",
       "      <th></th>\n",
       "      <th>open</th>\n",
       "      <th>low</th>\n",
       "      <th>high</th>\n",
       "      <th>close</th>\n",
       "    </tr>\n",
       "    <tr>\n",
       "      <th>date</th>\n",
       "      <th></th>\n",
       "      <th></th>\n",
       "      <th></th>\n",
       "      <th></th>\n",
       "    </tr>\n",
       "  </thead>\n",
       "  <tbody>\n",
       "    <tr>\n",
       "      <th>2017-01-10</th>\n",
       "      <td>72.1195</td>\n",
       "      <td>72.0095</td>\n",
       "      <td>72.3575</td>\n",
       "      <td>72.0025</td>\n",
       "    </tr>\n",
       "    <tr>\n",
       "      <th>2017-01-11</th>\n",
       "      <td>72.2910</td>\n",
       "      <td>72.1640</td>\n",
       "      <td>72.4890</td>\n",
       "      <td>71.5820</td>\n",
       "    </tr>\n",
       "    <tr>\n",
       "      <th>2017-01-12</th>\n",
       "      <td>72.3145</td>\n",
       "      <td>72.2505</td>\n",
       "      <td>72.6865</td>\n",
       "      <td>72.1465</td>\n",
       "    </tr>\n",
       "    <tr>\n",
       "      <th>2017-01-13</th>\n",
       "      <td>72.5710</td>\n",
       "      <td>72.3420</td>\n",
       "      <td>72.7650</td>\n",
       "      <td>72.2550</td>\n",
       "    </tr>\n",
       "    <tr>\n",
       "      <th>2017-01-14</th>\n",
       "      <td>NaN</td>\n",
       "      <td>NaN</td>\n",
       "      <td>NaN</td>\n",
       "      <td>NaN</td>\n",
       "    </tr>\n",
       "  </tbody>\n",
       "</table>\n",
       "</div>"
      ],
      "text/plain": [
       "               open      low     high    close\n",
       "date                                          \n",
       "2017-01-10  72.1195  72.0095  72.3575  72.0025\n",
       "2017-01-11  72.2910  72.1640  72.4890  71.5820\n",
       "2017-01-12  72.3145  72.2505  72.6865  72.1465\n",
       "2017-01-13  72.5710  72.3420  72.7650  72.2550\n",
       "2017-01-14      NaN      NaN      NaN      NaN"
      ]
     },
     "execution_count": 516,
     "metadata": {},
     "output_type": "execute_result"
    }
   ],
   "source": [
    "df.head()"
   ]
  },
  {
   "cell_type": "code",
   "execution_count": 517,
   "id": "c6e00207-4dc9-44ea-b57d-078fe28d92bd",
   "metadata": {
    "scrolled": true
   },
   "outputs": [
    {
     "data": {
      "image/png": "[encoded data removed]",
      "text/plain": [
       "<Figure size 1000x600 with 1 Axes>"
      ]
     },
     "metadata": {},
     "output_type": "display_data"
    }
   ],
   "source": [
    "# Visualize the time series data\n",
    "plt.figure(figsize=(10, 6))\n",
    "plt.plot(df.index, df['close'], label='Euro to INR Exchange Rates')\n",
    "plt.title('Euro to INR Exchange Rates Over Time')\n",
    "plt.xlabel('Date')\n",
    "plt.ylabel('Exchange Rate')\n",
    "plt.legend()\n",
    "plt.show()"
   ]
  },
  {
   "cell_type": "code",
   "execution_count": 518,
   "id": "bfb4abe2-ed73-4973-a678-49d0430d3e7e",
   "metadata": {},
   "outputs": [
    {
     "data": {
      "image/png": "[encoded data removed]",
      "text/plain": [
       "<Figure size 800x600 with 2 Axes>"
      ]
     },
     "metadata": {},
     "output_type": "display_data"
    }
   ],
   "source": [
    "# Correlation Analysis\n",
    "correlation_matrix = df.corr()\n",
    "plt.figure(figsize=(8, 6))\n",
    "sns.heatmap(correlation_matrix, annot=True, cmap='coolwarm', fmt=\".2f\")\n",
    "plt.title('Correlation Matrix')\n",
    "plt.show()"
   ]
  },
  {
   "cell_type": "code",
   "execution_count": 519,
   "id": "d1e9880b-f117-4dfd-ac99-d17660810c23",
   "metadata": {},
   "outputs": [
    {
     "name": "stdout",
     "output_type": "stream",
     "text": [
      "\n",
      "Missing Data:\n",
      "Date      0\n",
      "Open      0\n",
      "Low       0\n",
      "High      0\n",
      "Close     0\n",
      "Change    0\n",
      "dtype: int64\n"
     ]
    }
   ],
   "source": [
    "# Handling Missing Data\n",
    "missing_data = data.isnull().sum()\n",
    "print(\"\\nMissing Data:\")\n",
    "print(missing_data)"
   ]
  },
  {
   "cell_type": "code",
   "execution_count": 520,
   "id": "d3d2ca54-9e29-4f4f-93b8-d30d669888ba",
   "metadata": {},
   "outputs": [],
   "source": [
    "# Feature Engineering (Extracting Month and Year from Date)\n",
    "df['month'] = df.index.month\n",
    "df['year'] = df.index.year\n",
    "df['day'] = df.index.day"
   ]
  },
  {
   "cell_type": "code",
   "execution_count": 521,
   "id": "a645a75a-7e02-4a87-b8f2-56f9a839bd15",
   "metadata": {},
   "outputs": [
    {
     "data": {
      "text/html": [
       "<div>\n",
       "<style scoped>\n",
       "    .dataframe tbody tr th:only-of-type {\n",
       "        vertical-align: middle;\n",
       "    }\n",
       "\n",
       "    .dataframe tbody tr th {\n",
       "        vertical-align: top;\n",
       "    }\n",
       "\n",
       "    .dataframe thead th {\n",
       "        text-align: right;\n",
       "    }\n",
       "</style>\n",
       "<table border=\"1\" class=\"dataframe\">\n",
       "  <thead>\n",
       "    <tr style=\"text-align: right;\">\n",
       "      <th></th>\n",
       "      <th>open</th>\n",
       "      <th>low</th>\n",
       "      <th>high</th>\n",
       "      <th>close</th>\n",
       "      <th>month</th>\n",
       "      <th>year</th>\n",
       "      <th>day</th>\n",
       "    </tr>\n",
       "    <tr>\n",
       "      <th>date</th>\n",
       "      <th></th>\n",
       "      <th></th>\n",
       "      <th></th>\n",
       "      <th></th>\n",
       "      <th></th>\n",
       "      <th></th>\n",
       "      <th></th>\n",
       "    </tr>\n",
       "  </thead>\n",
       "  <tbody>\n",
       "    <tr>\n",
       "      <th>2017-01-10</th>\n",
       "      <td>72.1195</td>\n",
       "      <td>72.0095</td>\n",
       "      <td>72.3575</td>\n",
       "      <td>72.0025</td>\n",
       "      <td>1</td>\n",
       "      <td>2017</td>\n",
       "      <td>10</td>\n",
       "    </tr>\n",
       "    <tr>\n",
       "      <th>2017-01-11</th>\n",
       "      <td>72.2910</td>\n",
       "      <td>72.1640</td>\n",
       "      <td>72.4890</td>\n",
       "      <td>71.5820</td>\n",
       "      <td>1</td>\n",
       "      <td>2017</td>\n",
       "      <td>11</td>\n",
       "    </tr>\n",
       "    <tr>\n",
       "      <th>2017-01-12</th>\n",
       "      <td>72.3145</td>\n",
       "      <td>72.2505</td>\n",
       "      <td>72.6865</td>\n",
       "      <td>72.1465</td>\n",
       "      <td>1</td>\n",
       "      <td>2017</td>\n",
       "      <td>12</td>\n",
       "    </tr>\n",
       "    <tr>\n",
       "      <th>2017-01-13</th>\n",
       "      <td>72.5710</td>\n",
       "      <td>72.3420</td>\n",
       "      <td>72.7650</td>\n",
       "      <td>72.2550</td>\n",
       "      <td>1</td>\n",
       "      <td>2017</td>\n",
       "      <td>13</td>\n",
       "    </tr>\n",
       "    <tr>\n",
       "      <th>2017-01-14</th>\n",
       "      <td>NaN</td>\n",
       "      <td>NaN</td>\n",
       "      <td>NaN</td>\n",
       "      <td>NaN</td>\n",
       "      <td>1</td>\n",
       "      <td>2017</td>\n",
       "      <td>14</td>\n",
       "    </tr>\n",
       "  </tbody>\n",
       "</table>\n",
       "</div>"
      ],
      "text/plain": [
       "               open      low     high    close  month  year  day\n",
       "date                                                            \n",
       "2017-01-10  72.1195  72.0095  72.3575  72.0025      1  2017   10\n",
       "2017-01-11  72.2910  72.1640  72.4890  71.5820      1  2017   11\n",
       "2017-01-12  72.3145  72.2505  72.6865  72.1465      1  2017   12\n",
       "2017-01-13  72.5710  72.3420  72.7650  72.2550      1  2017   13\n",
       "2017-01-14      NaN      NaN      NaN      NaN      1  2017   14"
      ]
     },
     "execution_count": 521,
     "metadata": {},
     "output_type": "execute_result"
    }
   ],
   "source": [
    "df.head()"
   ]
  },
  {
   "cell_type": "code",
   "execution_count": 522,
   "id": "94be15ec-dd27-4af5-9e31-bd836a05ca30",
   "metadata": {},
   "outputs": [
    {
     "data": {
      "image/png": "[encoded data removed]",
      "text/plain": [
       "<Figure size 1000x600 with 1 Axes>"
      ]
     },
     "metadata": {},
     "output_type": "display_data"
    }
   ],
   "source": [
    "# Visualization of Monthly Mean Close Prices\n",
    "monthly_mean = df.groupby('month')['close'].mean()\n",
    "plt.figure(figsize=(10, 6))\n",
    "plt.plot(monthly_mean.index, monthly_mean.values, marker='o', linestyle='-', color='orange')\n",
    "plt.title('Monthly Mean Close Prices')\n",
    "plt.xlabel('Month')\n",
    "plt.ylabel('Mean Close Price')\n",
    "plt.show()"
   ]
  },
  {
   "cell_type": "code",
   "execution_count": 523,
   "id": "21d3a166-0ea6-4b6d-b658-caa406aa2af7",
   "metadata": {},
   "outputs": [
    {
     "data": {
      "image/png": "[encoded data removed]",
      "text/plain": [
       "<Figure size 800x600 with 1 Axes>"
      ]
     },
     "metadata": {},
     "output_type": "display_data"
    }
   ],
   "source": [
    "# Outlier Detection (Boxplot)\n",
    "plt.figure(figsize=(8, 6))\n",
    "sns.boxplot(x=df['close'])\n",
    "plt.title('Boxplot of Close Prices')\n",
    "plt.show()"
   ]
  },
  {
   "cell_type": "code",
   "execution_count": 524,
   "id": "c684ddec-9aca-4509-afa2-378b56c17966",
   "metadata": {},
   "outputs": [],
   "source": [
    "# Data Split - Assuming last 10% of data as the test set\n",
    "split_index = int(0.9 * len(df))\n",
    "train_data = df.iloc[:split_index]\n",
    "test_data = df.iloc[split_index:]"
   ]
  },
  {
   "cell_type": "code",
   "execution_count": 525,
   "id": "07139d36-da01-45c9-9bc3-40b1a3f863e2",
   "metadata": {},
   "outputs": [
    {
     "name": "stdout",
     "output_type": "stream",
     "text": [
      "<class 'pandas.core.frame.DataFrame'>\n",
      "DatetimeIndex: 2556 entries, 2017-01-10 to 2024-01-09\n",
      "Freq: D\n",
      "Data columns (total 7 columns):\n",
      " #   Column  Non-Null Count  Dtype  \n",
      "---  ------  --------------  -----  \n",
      " 0   open    1827 non-null   float64\n",
      " 1   low     1827 non-null   float64\n",
      " 2   high    1827 non-null   float64\n",
      " 3   close   1827 non-null   float64\n",
      " 4   month   2556 non-null   int32  \n",
      " 5   year    2556 non-null   int32  \n",
      " 6   day     2556 non-null   int32  \n",
      "dtypes: float64(4), int32(3)\n",
      "memory usage: 129.8 KB\n"
     ]
    }
   ],
   "source": [
    "df.info()"
   ]
  },
  {
   "cell_type": "code",
   "execution_count": 526,
   "id": "3800a641-4137-4a7e-b66b-bdd358f91786",
   "metadata": {},
   "outputs": [
    {
     "data": {
      "text/plain": [
       "DatetimeIndex(['2017-01-10', '2017-01-11', '2017-01-12', '2017-01-13',\n",
       "               '2017-01-14', '2017-01-15', '2017-01-16', '2017-01-17',\n",
       "               '2017-01-18', '2017-01-19',\n",
       "               ...\n",
       "               '2023-12-31', '2024-01-01', '2024-01-02', '2024-01-03',\n",
       "               '2024-01-04', '2024-01-05', '2024-01-06', '2024-01-07',\n",
       "               '2024-01-08', '2024-01-09'],\n",
       "              dtype='datetime64[ns]', name='date', length=2556, freq='D')"
      ]
     },
     "execution_count": 526,
     "metadata": {},
     "output_type": "execute_result"
    }
   ],
   "source": [
    "df.index"
   ]
  },
  {
   "cell_type": "code",
   "execution_count": 527,
   "id": "2c524e40-27e2-4b70-9985-cba906e38346",
   "metadata": {},
   "outputs": [
    {
     "data": {
      "text/plain": [
       "<statsmodels.tsa.arima.model.ARIMAResultsWrapper at 0x14cd0ea50>"
      ]
     },
     "execution_count": 527,
     "metadata": {},
     "output_type": "execute_result"
    }
   ],
   "source": [
    "# Fit ARIMA model on training data\n",
    "model = ARIMA(train_data['close'], order=(1, 1, 1))\n",
    "results = model.fit()\n",
    "results"
   ]
  },
  {
   "cell_type": "code",
   "execution_count": 528,
   "id": "8d31bae1-b1e0-4709-bda1-d8127962591b",
   "metadata": {},
   "outputs": [],
   "source": [
    "# Function to predict Euro to INR exchange rate for a future date\n",
    "def predict_future_exchange_rate(model, data, steps=1):\n",
    "    forecast = results.get_prediction(start=len(data), end=len(data) + steps - 1)\n",
    "    forecast_ci = forecast.conf_int()\n",
    "    return forecast.predicted_mean[-1], forecast_ci.iloc[-1, 0], forecast_ci.iloc[-1, 1]\n",
    "\n"
   ]
  },
  {
   "cell_type": "code",
   "execution_count": 538,
   "id": "83ba2fa6-415b-40aa-8266-c70b1e94b6b4",
   "metadata": {},
   "outputs": [],
   "source": [
    "# Example: Predict for the first date in the test set\n",
    "future_date = test_data.index[0]\n",
    "predicted_rate, lower_ci, upper_ci = predict_future_exchange_rate(model, data, steps=1)\n"
   ]
  },
  {
   "cell_type": "code",
   "execution_count": 539,
   "id": "fead9163-f452-4a3a-8bcc-c8a731f1d6b1",
   "metadata": {},
   "outputs": [
    {
     "name": "stdout",
     "output_type": "stream",
     "text": [
      "\n",
      "Predicted Euro to INR Exchange Rate for 2023-04-29 00:00:00: 83.61 (CI: 83.03 - 84.19)\n"
     ]
    }
   ],
   "source": [
    "# Display the predicted value and confidence interval for the future date\n",
    "print(f'\\nPredicted Euro to INR Exchange Rate for {future_date}: {predicted_rate:.2f} (CI: {lower_ci:.2f} - {upper_ci:.2f})')\n"
   ]
  },
  {
   "cell_type": "code",
   "execution_count": null,
   "id": "5eace4f6-09f9-4494-8b4a-3e481b98bd8e",
   "metadata": {},
   "outputs": [],
   "source": []
  },
  {
   "cell_type": "code",
   "execution_count": null,
   "id": "17780de0-103b-448a-8678-50dbe19ed5cf",
   "metadata": {},
   "outputs": [],
   "source": []
  }
 ],
 "metadata": {
  "kernelspec": {
   "display_name": "Python 3 (ipykernel)",
   "language": "python",
   "name": "python3"
  },
  "language_info": {
   "codemirror_mode": {
    "name": "ipython",
    "version": 3
   },
   "file_extension": ".py",
   "mimetype": "text/x-python",
   "name": "python",
   "nbconvert_exporter": "python",
   "pygments_lexer": "ipython3",
   "version": "3.11.5"
  }
 },
 "nbformat": 4,
 "nbformat_minor": 5
}
