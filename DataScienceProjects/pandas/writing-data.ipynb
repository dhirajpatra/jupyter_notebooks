{
  "cells": [
    {
      "cell_type": "markdown",
      "metadata": {
        "id": "CKIUTNLp5Wrn"
      },
      "source": [
        "## Writing data from Pandas Dataframes\n",
        "\n",
        "Once data is loaded in a `Dataframe` object in Pandas, you have the ability to transform that data to various different formats including the clipboard. Most destinations will require a path on the filesystem for writing the output."
      ]
    },
    {
      "cell_type": "markdown",
      "metadata": {
        "id": "epd1j2QtbGkc"
      },
      "source": [
        "### Start with a Dataframe\n",
        "Remember, you have to have a `Dataframe` already to export data. The `pd` class will not allow you to export from it."
      ]
    },
    {
      "cell_type": "code",
      "execution_count": null,
      "metadata": {
        "colab": {
          "base_uri": "https://localhost:8080/",
          "height": 536
        },
        "id": "KW8ppx1oZS00",
        "outputId": "69be5221-2a49-4900-8c88-2a3cfa0ebc28"
      },
      "outputs": [],
      "source": [
        "import pandas as pd\n",
        "df = pd.read_csv(\"world-championship-qualifier.csv\")\n",
        "df"
      ]
    },
    {
      "cell_type": "markdown",
      "metadata": {},
      "source": [
        "## Write to many other destinations\n",
        "The destinations are from a `Dataframe` object itself, not from the `pd` object.\n",
        "\n",
        "Including the clipboard!\n",
        "\n",
        " - to_clipboard\n",
        " - to_csv\n",
        " - to_dict\n",
        " - to_excel\n",
        " - to_feather\n",
        " - to_gbq\n",
        " - to_hdf\n",
        " - to_html\n",
        " - to_json\n",
        " - to_latex\n",
        " - to_markdown\n",
        " - to_numpy\n",
        " - to_parquet\n",
        " - to_period\n",
        " - to_pickle\n",
        " - to_records\n",
        " - to_sql\n",
        " - to_stata\n",
        " - to_string\n",
        " - to_timestamp\n",
        " - to_xarray\n",
        " - to_xml"
      ]
    },
    {
      "cell_type": "code",
      "execution_count": null,
      "metadata": {},
      "outputs": [],
      "source": [
        "# export a dataset to HTML\n",
        "df.to_html(\"dataset.html\")\n"
      ]
    },
    {
      "cell_type": "markdown",
      "metadata": {},
      "source": [
        "## Copy/Paste into other formats\n",
        "This flexibility of Pandas to allow you to read and write to many different formats and destinations can be used to create quick utilities like transforming a CSV file to paste to Excel or Markdown"
      ]
    },
    {
      "cell_type": "code",
      "execution_count": null,
      "metadata": {},
      "outputs": [],
      "source": [
        "!pip install tabulate"
      ]
    },
    {
      "cell_type": "code",
      "execution_count": null,
      "metadata": {},
      "outputs": [],
      "source": [
        "# to markdown and then to clipboard\n",
        "# this needs tabulate dependency\n",
        "from pandas.io.clipboards import to_clipboard\n",
        "md = df.to_markdown()\n",
        "to_clipboard(md, excel=False)"
      ]
    }
  ],
  "metadata": {
    "colab": {
      "name": "Untitled",
      "provenance": []
    },
    "kernelspec": {
      "display_name": "Python 3.9.7 ('bootcamp')",
      "language": "python",
      "name": "python3"
    },
    "language_info": {
      "codemirror_mode": {
        "name": "ipython",
        "version": 3
      },
      "file_extension": ".py",
      "mimetype": "text/x-python",
      "name": "python",
      "nbconvert_exporter": "python",
      "pygments_lexer": "ipython3",
      "version": "3.9.7"
    },
    "vscode": {
      "interpreter": {
        "hash": "c376c902807b3e2787a1450a7f0ef802f0b8a461bc7d6f1e24062c1624bb252f"
      }
    }
  },
  "nbformat": 4,
  "nbformat_minor": 0
}
