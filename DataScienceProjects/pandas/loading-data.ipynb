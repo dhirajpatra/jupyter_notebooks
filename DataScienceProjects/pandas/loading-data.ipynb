{
  "cells": [
    {
      "cell_type": "markdown",
      "metadata": {
        "id": "CKIUTNLp5Wrn"
      },
      "source": [
        "## Loading data into Pandas\n",
        "\n",
        "There are different ways to load data into Pandas. The library is extremely flexible allowing you to work with different popular data formats. This notebook will show you how to load from different sources which include both local and remote."
      ]
    },
    {
      "cell_type": "markdown",
      "metadata": {
        "id": "epd1j2QtbGkc"
      },
      "source": [
        "### Create a Pandas Frame from an online CSV\n",
        "Note that this requires a publicly available repository in Github (for this example). A private repo will require auth."
      ]
    },
    {
      "cell_type": "code",
      "execution_count": null,
      "metadata": {
        "colab": {
          "base_uri": "https://localhost:8080/",
          "height": 536
        },
        "id": "KW8ppx1oZS00",
        "outputId": "69be5221-2a49-4900-8c88-2a3cfa0ebc28"
      },
      "outputs": [],
      "source": [
        "import pandas as pd\n",
        "csv_url = \"https://raw.githubusercontent.com/paiml/wine-ratings/main/wine-ratings.csv\"\n",
        "# set index_col to 0 to tell pandas that the first column is the index\n",
        "df = pd.read_csv(csv_url, index_col=0)\n",
        "df.head(10)"
      ]
    },
    {
      "cell_type": "markdown",
      "metadata": {
        "id": "L2-be7klcP26"
      },
      "source": [
        "## Load a CSV from a local file"
      ]
    },
    {
      "cell_type": "code",
      "execution_count": null,
      "metadata": {
        "colab": {
          "base_uri": "https://localhost:8080/",
          "height": 536
        },
        "id": "Cwlr9IajcPSs",
        "outputId": "630d98c4-ddf0-4ded-85a7-9b5c3a274be5"
      },
      "outputs": [],
      "source": [
        "import pandas as pd\n",
        "df = pd.read_csv(\"world-championship-qualifier.csv\")\n",
        "print(df)\n"
      ]
    },
    {
      "cell_type": "markdown",
      "metadata": {},
      "source": [
        "## Load JSON from a local file"
      ]
    },
    {
      "cell_type": "code",
      "execution_count": null,
      "metadata": {
        "colab": {
          "base_uri": "https://localhost:8080/",
          "height": 300
        },
        "id": "0TgdCnlqfXAC",
        "outputId": "a3806e7a-bc22-475e-bb2d-6f233bf1da92"
      },
      "outputs": [],
      "source": [
        "df = pd.read_json(\"world-championship-qualifier.json\")\n",
        "df"
      ]
    },
    {
      "cell_type": "markdown",
      "metadata": {},
      "source": [
        "## You can read from many formats\n",
        "\n",
        "The `pd` object allows you to read from various different formats including your clipboard!\n",
        "\n",
        "- read_clipboard\n",
        "- read_csv\n",
        "- read_excel\n",
        "- read_feather\n",
        "- read_fwf\n",
        "- read_gbq\n",
        "- read_hdf\n",
        "- read_html\n",
        "- read_json\n",
        "- read_orc\n",
        "- read_parquet\n",
        "- read_pickle\n",
        "- read_sas\n",
        "- read_spss\n",
        "- read_sql\n",
        "- read_sql_query\n",
        "- read_sql_table\n",
        "- read_stata\n",
        "- read_table\n",
        "- read_xml"
      ]
    }
  ],
  "metadata": {
    "colab": {
      "name": "Untitled",
      "provenance": []
    },
    "kernelspec": {
      "display_name": "Python 3.9.7 ('bootcamp')",
      "language": "python",
      "name": "python3"
    },
    "language_info": {
      "codemirror_mode": {
        "name": "ipython",
        "version": 3
      },
      "file_extension": ".py",
      "mimetype": "text/x-python",
      "name": "python",
      "nbconvert_exporter": "python",
      "pygments_lexer": "ipython3",
      "version": "3.9.7"
    },
    "vscode": {
      "interpreter": {
        "hash": "c376c902807b3e2787a1450a7f0ef802f0b8a461bc7d6f1e24062c1624bb252f"
      }
    }
  },
  "nbformat": 4,
  "nbformat_minor": 0
}
