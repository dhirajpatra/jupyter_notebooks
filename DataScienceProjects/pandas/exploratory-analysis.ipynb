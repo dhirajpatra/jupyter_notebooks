{
  "cells": [
    {
      "cell_type": "markdown",
      "metadata": {
        "id": "CKIUTNLp5Wrn"
      },
      "source": [
        "## Exploratory Analysis\n",
        "\n",
        "One of the main tasks to perform with Pandas is exploratory analysis. Looking at data, finding what is useful or potentially wrong with it so that you can clean it up are core practices of a data scientist and data engineer."
      ]
    },
    {
      "cell_type": "markdown",
      "metadata": {
        "id": "epd1j2QtbGkc"
      },
      "source": [
        "## Create a Pandas Dataframe \n",
        "Load a CSV to start working with the data and performing exploratory analysis."
      ]
    },
    {
      "cell_type": "code",
      "execution_count": 1,
      "metadata": {
        "colab": {
          "base_uri": "https://localhost:8080/",
          "height": 536
        },
        "id": "KW8ppx1oZS00",
        "outputId": "69be5221-2a49-4900-8c88-2a3cfa0ebc28"
      },
      "outputs": [],
      "source": [
        "import pandas as pd\n",
        "csv_url = \"https://raw.githubusercontent.com/paiml/wine-ratings/main/wine-ratings.csv\"\n",
        "df = pd.read_csv(csv_url, index_col=0)"
      ]
    },
    {
      "cell_type": "code",
      "execution_count": 6,
      "metadata": {},
      "outputs": [
        {
          "data": {
            "text/html": [
              "<div>\n",
              "<style scoped>\n",
              "    .dataframe tbody tr th:only-of-type {\n",
              "        vertical-align: middle;\n",
              "    }\n",
              "\n",
              "    .dataframe tbody tr th {\n",
              "        vertical-align: top;\n",
              "    }\n",
              "\n",
              "    .dataframe thead th {\n",
              "        text-align: right;\n",
              "    }\n",
              "</style>\n",
              "<table border=\"1\" class=\"dataframe\">\n",
              "  <thead>\n",
              "    <tr style=\"text-align: right;\">\n",
              "      <th></th>\n",
              "      <th>name</th>\n",
              "      <th>region</th>\n",
              "      <th>variety</th>\n",
              "      <th>rating</th>\n",
              "      <th>notes</th>\n",
              "    </tr>\n",
              "  </thead>\n",
              "  <tbody>\n",
              "    <tr>\n",
              "      <th>0</th>\n",
              "      <td>1000 Stories Bourbon Barrel Aged Batch Blue Ca...</td>\n",
              "      <td>Mendocino, California</td>\n",
              "      <td>Red Wine</td>\n",
              "      <td>91.0</td>\n",
              "      <td>This is a very special, limited release of 100...</td>\n",
              "    </tr>\n",
              "    <tr>\n",
              "      <th>1</th>\n",
              "      <td>1000 Stories Bourbon Barrel Aged Gold Rush Red...</td>\n",
              "      <td>California</td>\n",
              "      <td>Red Wine</td>\n",
              "      <td>89.0</td>\n",
              "      <td>The California Gold Rush was a period of coura...</td>\n",
              "    </tr>\n",
              "    <tr>\n",
              "      <th>2</th>\n",
              "      <td>1000 Stories Bourbon Barrel Aged Gold Rush Red...</td>\n",
              "      <td>California</td>\n",
              "      <td>Red Wine</td>\n",
              "      <td>90.0</td>\n",
              "      <td>The California Gold Rush was a period of coura...</td>\n",
              "    </tr>\n",
              "    <tr>\n",
              "      <th>3</th>\n",
              "      <td>1000 Stories Bourbon Barrel Aged Zinfandel 2013</td>\n",
              "      <td>North Coast, California</td>\n",
              "      <td>Red Wine</td>\n",
              "      <td>91.0</td>\n",
              "      <td>The wine has a deep, rich purple color. An int...</td>\n",
              "    </tr>\n",
              "    <tr>\n",
              "      <th>4</th>\n",
              "      <td>1000 Stories Bourbon Barrel Aged Zinfandel 2014</td>\n",
              "      <td>California</td>\n",
              "      <td>Red Wine</td>\n",
              "      <td>90.0</td>\n",
              "      <td>Batch #004 is the first release of the 2014 vi...</td>\n",
              "    </tr>\n",
              "    <tr>\n",
              "      <th>5</th>\n",
              "      <td>1000 Stories Bourbon Barrel Aged Zinfandel 2016</td>\n",
              "      <td>California</td>\n",
              "      <td>Red Wine</td>\n",
              "      <td>91.0</td>\n",
              "      <td>1,000 Stories Bourbon barrel-aged Zinfandel is...</td>\n",
              "    </tr>\n",
              "    <tr>\n",
              "      <th>6</th>\n",
              "      <td>1000 Stories Bourbon Barrel Aged Zinfandel 2017</td>\n",
              "      <td>California</td>\n",
              "      <td>Red Wine</td>\n",
              "      <td>92.0</td>\n",
              "      <td>Batch 55 embodies an opulent vintage, which sa...</td>\n",
              "    </tr>\n",
              "    <tr>\n",
              "      <th>7</th>\n",
              "      <td>12 Linajes Crianza 2014</td>\n",
              "      <td>Ribera del Duero, Spain</td>\n",
              "      <td>Red Wine</td>\n",
              "      <td>92.0</td>\n",
              "      <td>Red with violet hues. The aromas are very inte...</td>\n",
              "    </tr>\n",
              "    <tr>\n",
              "      <th>8</th>\n",
              "      <td>12 Linajes Reserva 2012</td>\n",
              "      <td>Ribera del Duero, Spain</td>\n",
              "      <td>Red Wine</td>\n",
              "      <td>94.0</td>\n",
              "      <td>On the nose, a complex predominance of mineral...</td>\n",
              "    </tr>\n",
              "    <tr>\n",
              "      <th>9</th>\n",
              "      <td>14 Hands Cabernet Sauvignon 2010</td>\n",
              "      <td>Columbia Valley, Washington</td>\n",
              "      <td>Red Wine</td>\n",
              "      <td>87.0</td>\n",
              "      <td>Concentrated aromas of dark stone fruits and t...</td>\n",
              "    </tr>\n",
              "    <tr>\n",
              "      <th>10</th>\n",
              "      <td>14 Hands Cabernet Sauvignon 2011</td>\n",
              "      <td>Columbia Valley, Washington</td>\n",
              "      <td>Red Wine</td>\n",
              "      <td>89.0</td>\n",
              "      <td>Concentrated aromas of dark stone fruits and t...</td>\n",
              "    </tr>\n",
              "    <tr>\n",
              "      <th>11</th>\n",
              "      <td>14 Hands Cabernet Sauvignon 2015</td>\n",
              "      <td>Columbia Valley, Washington</td>\n",
              "      <td>Red Wine</td>\n",
              "      <td>89.0</td>\n",
              "      <td>The 14 Hands Cabernet Sauvignon is a rich, jui...</td>\n",
              "    </tr>\n",
              "    <tr>\n",
              "      <th>12</th>\n",
              "      <td>14 Hands Chardonnay 2011</td>\n",
              "      <td>Washington</td>\n",
              "      <td>White Wine</td>\n",
              "      <td>89.0</td>\n",
              "      <td>This Chardonnay displays aromas and flavors of...</td>\n",
              "    </tr>\n",
              "    <tr>\n",
              "      <th>13</th>\n",
              "      <td>14 Hands Hot to Trot Red Blend 2010</td>\n",
              "      <td>Washington</td>\n",
              "      <td>Red Wine</td>\n",
              "      <td>88.0</td>\n",
              "      <td>This Washington state red blend opens with gen...</td>\n",
              "    </tr>\n",
              "    <tr>\n",
              "      <th>14</th>\n",
              "      <td>14 Hands Hot to Trot Red Blend 2012</td>\n",
              "      <td>Washington</td>\n",
              "      <td>Red Wine</td>\n",
              "      <td>88.0</td>\n",
              "      <td>Flavors of ripe red fruit, supported by a fram...</td>\n",
              "    </tr>\n",
              "  </tbody>\n",
              "</table>\n",
              "</div>"
            ],
            "text/plain": [
              "                                                 name  \\\n",
              "0   1000 Stories Bourbon Barrel Aged Batch Blue Ca...   \n",
              "1   1000 Stories Bourbon Barrel Aged Gold Rush Red...   \n",
              "2   1000 Stories Bourbon Barrel Aged Gold Rush Red...   \n",
              "3     1000 Stories Bourbon Barrel Aged Zinfandel 2013   \n",
              "4     1000 Stories Bourbon Barrel Aged Zinfandel 2014   \n",
              "5     1000 Stories Bourbon Barrel Aged Zinfandel 2016   \n",
              "6     1000 Stories Bourbon Barrel Aged Zinfandel 2017   \n",
              "7                             12 Linajes Crianza 2014   \n",
              "8                             12 Linajes Reserva 2012   \n",
              "9                    14 Hands Cabernet Sauvignon 2010   \n",
              "10                   14 Hands Cabernet Sauvignon 2011   \n",
              "11                   14 Hands Cabernet Sauvignon 2015   \n",
              "12                           14 Hands Chardonnay 2011   \n",
              "13                14 Hands Hot to Trot Red Blend 2010   \n",
              "14                14 Hands Hot to Trot Red Blend 2012   \n",
              "\n",
              "                         region     variety  rating  \\\n",
              "0         Mendocino, California    Red Wine    91.0   \n",
              "1                    California    Red Wine    89.0   \n",
              "2                    California    Red Wine    90.0   \n",
              "3       North Coast, California    Red Wine    91.0   \n",
              "4                    California    Red Wine    90.0   \n",
              "5                    California    Red Wine    91.0   \n",
              "6                    California    Red Wine    92.0   \n",
              "7       Ribera del Duero, Spain    Red Wine    92.0   \n",
              "8       Ribera del Duero, Spain    Red Wine    94.0   \n",
              "9   Columbia Valley, Washington    Red Wine    87.0   \n",
              "10  Columbia Valley, Washington    Red Wine    89.0   \n",
              "11  Columbia Valley, Washington    Red Wine    89.0   \n",
              "12                   Washington  White Wine    89.0   \n",
              "13                   Washington    Red Wine    88.0   \n",
              "14                   Washington    Red Wine    88.0   \n",
              "\n",
              "                                                notes  \n",
              "0   This is a very special, limited release of 100...  \n",
              "1   The California Gold Rush was a period of coura...  \n",
              "2   The California Gold Rush was a period of coura...  \n",
              "3   The wine has a deep, rich purple color. An int...  \n",
              "4   Batch #004 is the first release of the 2014 vi...  \n",
              "5   1,000 Stories Bourbon barrel-aged Zinfandel is...  \n",
              "6   Batch 55 embodies an opulent vintage, which sa...  \n",
              "7   Red with violet hues. The aromas are very inte...  \n",
              "8   On the nose, a complex predominance of mineral...  \n",
              "9   Concentrated aromas of dark stone fruits and t...  \n",
              "10  Concentrated aromas of dark stone fruits and t...  \n",
              "11  The 14 Hands Cabernet Sauvignon is a rich, jui...  \n",
              "12  This Chardonnay displays aromas and flavors of...  \n",
              "13  This Washington state red blend opens with gen...  \n",
              "14  Flavors of ripe red fruit, supported by a fram...  "
            ]
          },
          "execution_count": 6,
          "metadata": {},
          "output_type": "execute_result"
        }
      ],
      "source": [
        "# The most common operation is with .head() \n",
        "df.head(15)"
      ]
    },
    {
      "cell_type": "code",
      "execution_count": null,
      "metadata": {},
      "outputs": [],
      "source": [
        "\n",
        "# Now lets get a description of the data\n",
        "df.describe()"
      ]
    },
    {
      "cell_type": "code",
      "execution_count": null,
      "metadata": {},
      "outputs": [],
      "source": [
        "# You can also get metadata about the dataset with .info()\n",
        "df.info()"
      ]
    },
    {
      "cell_type": "code",
      "execution_count": null,
      "metadata": {},
      "outputs": [],
      "source": [
        "# sort based on some condition\n",
        "df.sort_values(by=\"rating\", ascending=False).head()"
      ]
    },
    {
      "cell_type": "markdown",
      "metadata": {
        "id": "L2-be7klcP26"
      },
      "source": [
        "Remove any newlines or carriage returns"
      ]
    },
    {
      "cell_type": "code",
      "execution_count": null,
      "metadata": {
        "colab": {
          "base_uri": "https://localhost:8080/",
          "height": 536
        },
        "id": "Cwlr9IajcPSs",
        "outputId": "630d98c4-ddf0-4ded-85a7-9b5c3a274be5"
      },
      "outputs": [],
      "source": [
        "df = df.replace({\"\\r\": \"\"}, regex=True)\n",
        "df = df.replace({\"\\n\": \" \"}, regex=True)\n",
        "df.head(10)"
      ]
    },
    {
      "cell_type": "code",
      "execution_count": 3,
      "metadata": {
        "colab": {
          "base_uri": "https://localhost:8080/",
          "height": 200
        },
        "id": "QfFqnieWgAkU",
        "outputId": "4f983cb6-d172-4912-fa5f-d096ad229fa1"
      },
      "outputs": [
        {
          "data": {
            "text/html": [
              "<div>\n",
              "<style scoped>\n",
              "    .dataframe tbody tr th:only-of-type {\n",
              "        vertical-align: middle;\n",
              "    }\n",
              "\n",
              "    .dataframe tbody tr th {\n",
              "        vertical-align: top;\n",
              "    }\n",
              "\n",
              "    .dataframe thead th {\n",
              "        text-align: right;\n",
              "    }\n",
              "</style>\n",
              "<table border=\"1\" class=\"dataframe\">\n",
              "  <thead>\n",
              "    <tr style=\"text-align: right;\">\n",
              "      <th></th>\n",
              "      <th>rating</th>\n",
              "    </tr>\n",
              "  </thead>\n",
              "  <tbody>\n",
              "    <tr>\n",
              "      <th>count</th>\n",
              "      <td>32780.000000</td>\n",
              "    </tr>\n",
              "    <tr>\n",
              "      <th>mean</th>\n",
              "      <td>91.186608</td>\n",
              "    </tr>\n",
              "    <tr>\n",
              "      <th>std</th>\n",
              "      <td>2.190391</td>\n",
              "    </tr>\n",
              "    <tr>\n",
              "      <th>min</th>\n",
              "      <td>85.000000</td>\n",
              "    </tr>\n",
              "    <tr>\n",
              "      <th>25%</th>\n",
              "      <td>90.000000</td>\n",
              "    </tr>\n",
              "    <tr>\n",
              "      <th>50%</th>\n",
              "      <td>91.000000</td>\n",
              "    </tr>\n",
              "    <tr>\n",
              "      <th>75%</th>\n",
              "      <td>92.000000</td>\n",
              "    </tr>\n",
              "    <tr>\n",
              "      <th>max</th>\n",
              "      <td>99.000000</td>\n",
              "    </tr>\n",
              "  </tbody>\n",
              "</table>\n",
              "</div>"
            ],
            "text/plain": [
              "             rating\n",
              "count  32780.000000\n",
              "mean      91.186608\n",
              "std        2.190391\n",
              "min       85.000000\n",
              "25%       90.000000\n",
              "50%       91.000000\n",
              "75%       92.000000\n",
              "max       99.000000"
            ]
          },
          "execution_count": 3,
          "metadata": {},
          "output_type": "execute_result"
        }
      ],
      "source": [
        "# the grape is not a very good column, lets remove it and describe it again\n",
        "df.drop(['grape'], axis=1, inplace=True)\n",
        "df.describe()"
      ]
    },
    {
      "cell_type": "code",
      "execution_count": 7,
      "metadata": {},
      "outputs": [
        {
          "data": {
            "text/html": [
              "<div>\n",
              "<style scoped>\n",
              "    .dataframe tbody tr th:only-of-type {\n",
              "        vertical-align: middle;\n",
              "    }\n",
              "\n",
              "    .dataframe tbody tr th {\n",
              "        vertical-align: top;\n",
              "    }\n",
              "\n",
              "    .dataframe thead th {\n",
              "        text-align: right;\n",
              "    }\n",
              "</style>\n",
              "<table border=\"1\" class=\"dataframe\">\n",
              "  <thead>\n",
              "    <tr style=\"text-align: right;\">\n",
              "      <th></th>\n",
              "      <th>rating</th>\n",
              "    </tr>\n",
              "    <tr>\n",
              "      <th>region</th>\n",
              "      <th></th>\n",
              "    </tr>\n",
              "  </thead>\n",
              "  <tbody>\n",
              "    <tr>\n",
              "      <th>Abruzzo, Italy</th>\n",
              "      <td>89.954545</td>\n",
              "    </tr>\n",
              "    <tr>\n",
              "      <th>Aconcagua Valley, Chile</th>\n",
              "      <td>90.633333</td>\n",
              "    </tr>\n",
              "    <tr>\n",
              "      <th>Adelaida District, Paso Robles, Central Coast, California</th>\n",
              "      <td>92.357143</td>\n",
              "    </tr>\n",
              "    <tr>\n",
              "      <th>Adelaide Hills, South Australia, Australia</th>\n",
              "      <td>89.625000</td>\n",
              "    </tr>\n",
              "    <tr>\n",
              "      <th>Adelaide, South Australia, Australia</th>\n",
              "      <td>90.000000</td>\n",
              "    </tr>\n",
              "    <tr>\n",
              "      <th>...</th>\n",
              "      <td>...</td>\n",
              "    </tr>\n",
              "    <tr>\n",
              "      <th>Yakima Valley, Columbia Valley, Washington</th>\n",
              "      <td>91.141304</td>\n",
              "    </tr>\n",
              "    <tr>\n",
              "      <th>Yamhill-Carlton District, Willamette Valley, Oregon</th>\n",
              "      <td>91.404762</td>\n",
              "    </tr>\n",
              "    <tr>\n",
              "      <th>Yarra Valley, Victoria, Australia</th>\n",
              "      <td>89.630769</td>\n",
              "    </tr>\n",
              "    <tr>\n",
              "      <th>Yorkville Highlands, Mendocino, California</th>\n",
              "      <td>92.000000</td>\n",
              "    </tr>\n",
              "    <tr>\n",
              "      <th>Yountville, Napa Valley, California</th>\n",
              "      <td>93.473684</td>\n",
              "    </tr>\n",
              "  </tbody>\n",
              "</table>\n",
              "<p>404 rows × 1 columns</p>\n",
              "</div>"
            ],
            "text/plain": [
              "                                                       rating\n",
              "region                                                       \n",
              "Abruzzo, Italy                                      89.954545\n",
              "Aconcagua Valley, Chile                             90.633333\n",
              "Adelaida District, Paso Robles, Central Coast, ...  92.357143\n",
              "Adelaide Hills, South Australia, Australia          89.625000\n",
              "Adelaide, South Australia, Australia                90.000000\n",
              "...                                                       ...\n",
              "Yakima Valley, Columbia Valley, Washington          91.141304\n",
              "Yamhill-Carlton District, Willamette Valley, Or...  91.404762\n",
              "Yarra Valley, Victoria, Australia                   89.630769\n",
              "Yorkville Highlands, Mendocino, California          92.000000\n",
              "Yountville, Napa Valley, California                 93.473684\n",
              "\n",
              "[404 rows x 1 columns]"
            ]
          },
          "execution_count": 7,
          "metadata": {},
          "output_type": "execute_result"
        }
      ],
      "source": [
        "# Specific operations by method. Like .mean()\n",
        "df.groupby(\"region\").mean()"
      ]
    }
  ],
  "metadata": {
    "colab": {
      "name": "Untitled",
      "provenance": []
    },
    "kernelspec": {
      "display_name": "Python 3.9.7 ('bootcamp')",
      "language": "python",
      "name": "python3"
    },
    "language_info": {
      "codemirror_mode": {
        "name": "ipython",
        "version": 3
      },
      "file_extension": ".py",
      "mimetype": "text/x-python",
      "name": "python",
      "nbconvert_exporter": "python",
      "pygments_lexer": "ipython3",
      "version": "3.9.7"
    },
    "vscode": {
      "interpreter": {
        "hash": "c376c902807b3e2787a1450a7f0ef802f0b8a461bc7d6f1e24062c1624bb252f"
      }
    }
  },
  "nbformat": 4,
  "nbformat_minor": 0
}
