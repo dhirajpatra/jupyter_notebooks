{
 "cells": [
  {
   "cell_type": "code",
   "execution_count": 1,
   "id": "603f00ee-bc5e-412b-b700-fa62c11901ed",
   "metadata": {},
   "outputs": [
    {
     "data": {
      "text/plain": [
       "<BarContainer object of 10 artists>"
      ]
     },
     "execution_count": 1,
     "metadata": {},
     "output_type": "execute_result"
    },
    {
     "data": {
      "image/png": "[encoded data removed]",
      "text/plain": [
       "<Figure size 432x288 with 1 Axes>"
      ]
     },
     "metadata": {
      "needs_background": "light"
     },
     "output_type": "display_data"
    }
   ],
   "source": [
    "import numpy as np\n",
    "import matplotlib.pyplot as plt\n",
    "p = 1/2\n",
    "n = np.arange(0,10)\n",
    "X = np.power(p,n)\n",
    "plt.bar(n,X)"
   ]
  },
  {
   "cell_type": "code",
   "execution_count": 4,
   "id": "daa02176-8ee0-4a36-a20b-834ec50387d4",
   "metadata": {},
   "outputs": [
    {
     "data": {
      "text/plain": [
       "array([-2.       ,  0.       ,  1.       ,  1.5      ,  1.75     ,\n",
       "        1.875    ,  1.9375   ,  1.96875  ,  1.984375 ,  1.9921875])"
      ]
     },
     "execution_count": 4,
     "metadata": {},
     "output_type": "execute_result"
    }
   ],
   "source": [
    "r = (1 - p ** (n-1)) / (1-p)\n",
    "r"
   ]
  },
  {
   "cell_type": "code",
   "execution_count": 7,
   "id": "f4d4535f-0ba9-4d6f-ba1d-cb4689fad023",
   "metadata": {},
   "outputs": [
    {
     "data": {
      "text/plain": [
       "<BarContainer object of 10 artists>"
      ]
     },
     "execution_count": 7,
     "metadata": {},
     "output_type": "execute_result"
    },
    {
     "data": {
      "image/png": "[encoded data removed]",
      "text/plain": [
       "<Figure size 432x288 with 1 Axes>"
      ]
     },
     "metadata": {
      "needs_background": "light"
     },
     "output_type": "display_data"
    }
   ],
   "source": [
    "plt.bar(r, X)"
   ]
  },
  {
   "cell_type": "code",
   "execution_count": null,
   "id": "50356608-aef8-47c9-9a67-7eeac6c1fce9",
   "metadata": {},
   "outputs": [],
   "source": []
  }
 ],
 "metadata": {
  "kernelspec": {
   "display_name": "Python 3 (ipykernel)",
   "language": "python",
   "name": "python3"
  },
  "language_info": {
   "codemirror_mode": {
    "name": "ipython",
    "version": 3
   },
   "file_extension": ".py",
   "mimetype": "text/x-python",
   "name": "python",
   "nbconvert_exporter": "python",
   "pygments_lexer": "ipython3",
   "version": "3.9.7"
  }
 },
 "nbformat": 4,
 "nbformat_minor": 5
}
