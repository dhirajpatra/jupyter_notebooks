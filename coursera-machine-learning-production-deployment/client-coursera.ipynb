{
 "cells": [
  {
   "cell_type": "markdown",
   "id": "e6efbf10",
   "metadata": {},
   "source": [
    "# Ungraded Lab Part 2 - Consuming a Machine Learning Model\n",
    "\n",
    "Welcome to the second part of this ungraded lab! \n",
    "**Before moving forward, check that the server from part 1 is still running.**\n",
    "\n",
    "In this notebook, you will code a minimal client that uses Python's `requests` library to interact with your running server."
   ]
  },
  {
   "cell_type": "code",
   "execution_count": null,
   "id": "d0a1f572",
   "metadata": {},
   "outputs": [],
   "source": [
    "import os\n",
    "import io\n",
    "import cv2\n",
    "import requests\n",
    "import numpy as np\n",
    "from IPython.display import Image, display"
   ]
  },
  {
   "cell_type": "markdown",
   "id": "a9e3feb4",
   "metadata": {},
   "source": [
    "## Understanding the URL\n",
    "\n",
    "\n",
    "### Breaking down the URL\n",
    "\n",
    "After experimenting with the FastAPI's client, you may have noticed that you made all requests by pointing to a  specific URL and appending some parameters to it.\n",
    "\n",
    "More concretely:\n",
    "\n",
    "1. The server is hosted in the URL `http://localhost:8000/` or the `/serve` alias.\n",
    "2. The endpoint that serves your model is the `/predict` endpoint.\n",
    "\n",
    "Also you can specify the model to use:  `yolov3` or`yolov3-tiny`. Let's stick to the tiny version for computational efficiency.\n",
    "\n",
    "Let's get started by putting in place all this information."
   ]
  },
  {
   "cell_type": "code",
   "execution_count": null,
   "id": "94937964",
   "metadata": {},
   "outputs": [],
   "source": [
    "base_url = 'http://localhost:8000'\n",
    "endpoint = '/predict'\n",
    "model = 'yolov3-tiny'"
   ]
  },
  {
   "cell_type": "markdown",
   "id": "429d8a44",
   "metadata": {},
   "source": [
    "To consume your model, you append the endpoint to the base URL to get the full URL. Notice that the parameters are absent for now."
   ]
  },
  {
   "cell_type": "code",
   "execution_count": null,
   "id": "af9271e2",
   "metadata": {},
   "outputs": [],
   "source": [
    "url_with_endpoint_no_params = base_url + endpoint\n",
    "url_with_endpoint_no_params"
   ]
  },
  {
   "cell_type": "markdown",
   "id": "7d460ee7",
   "metadata": {},
   "source": [
    "To set any of the expected parameters, the syntax is to add a \"?\" character followed by the name of the parameter and its value.\n",
    "\n",
    "Let's do it and check how the final URL looks like:"
   ]
  },
  {
   "cell_type": "code",
   "execution_count": null,
   "id": "678543ef",
   "metadata": {},
   "outputs": [],
   "source": [
    "full_url = url_with_endpoint_no_params + \"?model=\" + model\n",
    "full_url"
   ]
  },
  {
   "cell_type": "markdown",
   "id": "3ba2d109",
   "metadata": {},
   "source": [
    "This endpoint expects both a model's name and an image. But since the image is more complex it is not passed within the URL. Instead we leverage the `requests` library to handle this process.\n",
    "\n",
    "# Sending a request to your server\n",
    "\n",
    "### Coding the response_from_server function\n",
    "\n",
    "As a reminder,  this endpoint expects a POST HTTP request. The `post` function is part of the requests library. \n",
    "\n",
    "To pass the file along with the request, you need to create a dictionary indicating the name of the file ('file' in this case) and the actual file.\n",
    "\n",
    " `status code` is a handy command to check the status of the response the request triggered. **A status code of 200 means that everything went well.**"
   ]
  },
  {
   "cell_type": "code",
   "execution_count": null,
   "id": "7659652c",
   "metadata": {},
   "outputs": [],
   "source": [
    "def response_from_server(url, image_file, verbose=True):\n",
    "    \"\"\"Makes a POST request to the server and returns the response.\n",
    "\n",
    "    Args:\n",
    "        url (str): URL that the request is sent to.\n",
    "        image_file (_io.BufferedReader): File to upload, should be an image.\n",
    "        verbose (bool): True if the status of the response should be printed. False otherwise.\n",
    "\n",
    "    Returns:\n",
    "        requests.models.Response: Response from the server.\n",
    "    \"\"\"\n",
    "    \n",
    "    files = {'file': image_file}\n",
    "    response = requests.post(url, files=files)\n",
    "    status_code = response.status_code\n",
    "    if verbose:\n",
    "        msg = \"Everything went well!\" if status_code == 200 else \"There was an error when handling the request.\"\n",
    "        print(msg)\n",
    "    return response"
   ]
  },
  {
   "cell_type": "markdown",
   "id": "ce992856",
   "metadata": {},
   "source": [
    "To test this function, open a file in your filesystem and pass it as a parameter alongside the URL:"
   ]
  },
  {
   "cell_type": "code",
   "execution_count": null,
   "id": "7b579658",
   "metadata": {},
   "outputs": [],
   "source": [
    "with open(\"images/clock2.jpg\", \"rb\") as image_file:\n",
    "    prediction = response_from_server(full_url, image_file)"
   ]
  },
  {
   "cell_type": "markdown",
   "id": "b0b74a84",
   "metadata": {},
   "source": [
    "Great news! The request was successful. However, you are not getting any information about the objects in the image.\n",
    "\n",
    "To get the image with the bounding boxes and labels,  you need to parse the content of the response into an appropriate format. This process looks very similar to how you read raw images into a cv2 image on the server.\n",
    "\n",
    "To handle this step, let's create a directory called `images_predicted` to save the image to:"
   ]
  },
  {
   "cell_type": "code",
   "execution_count": null,
   "id": "ed0fdfd3",
   "metadata": {},
   "outputs": [],
   "source": [
    "dir_name = \"images_predicted\"\n",
    "if not os.path.exists(dir_name):\n",
    "    os.mkdir(dir_name)"
   ]
  },
  {
   "cell_type": "markdown",
   "id": "1b11737c",
   "metadata": {},
   "source": [
    "\n",
    "### Creating the display_image_from_response function"
   ]
  },
  {
   "cell_type": "code",
   "execution_count": null,
   "id": "3386a1fc",
   "metadata": {},
   "outputs": [],
   "source": [
    "def display_image_from_response(response):\n",
    "    \"\"\"Display image within server's response.\n",
    "\n",
    "    Args:\n",
    "        response (requests.models.Response): The response from the server after object detection.\n",
    "    \"\"\"\n",
    "    \n",
    "    image_stream = io.BytesIO(response.content)\n",
    "    image_stream.seek(0)\n",
    "    file_bytes = np.asarray(bytearray(image_stream.read()), dtype=np.uint8)\n",
    "    image = cv2.imdecode(file_bytes, cv2.IMREAD_COLOR)\n",
    "    filename = \"image_with_objects.jpeg\"\n",
    "    cv2.imwrite(f'images_predicted/{filename}', image)\n",
    "    display(Image(f'images_predicted/{filename}'))"
   ]
  },
  {
   "cell_type": "code",
   "execution_count": null,
   "id": "b1f1f3be",
   "metadata": {},
   "outputs": [],
   "source": [
    "display_image_from_response(prediction)"
   ]
  },
  {
   "cell_type": "markdown",
   "id": "814b9eaf",
   "metadata": {},
   "source": [
    "Now you are ready to consume your object detection model through your own client!\n",
    "\n",
    "Let's test it out on some other images:"
   ]
  },
  {
   "cell_type": "code",
   "execution_count": null,
   "id": "0982ba21",
   "metadata": {},
   "outputs": [],
   "source": [
    "image_files = [\n",
    "    'car2.jpg',\n",
    "    'clock3.jpg',\n",
    "    'apples.jpg'\n",
    "]\n",
    "\n",
    "for image_file in image_files:\n",
    "    with open(f\"images/{image_file}\", \"rb\") as image_file:\n",
    "        prediction = response_from_server(full_url, image_file, verbose=False)\n",
    "    \n",
    "    display_image_from_response(prediction)"
   ]
  },
  {
   "cell_type": "markdown",
   "id": "8dc6cb94",
   "metadata": {},
   "source": [
    "**Congratulations on finishing this ungraded lab!** Real life clients and servers have a lot more going on in terms of security and performance. However, the code you just experienced is close to what you see in real production environments. \n",
    "Hopefully, this lab served the purpose of increasing your familiarity with the process of deploying a Deep Learning model, and consuming from it.\n",
    "\n",
    "**Keep it up!**"
   ]
  }
 ],
 "metadata": {
  "kernelspec": {
   "display_name": "Python 3 (ipykernel)",
   "language": "python",
   "name": "python3"
  },
  "language_info": {
   "codemirror_mode": {
    "name": "ipython",
    "version": 3
   },
   "file_extension": ".py",
   "mimetype": "text/x-python",
   "name": "python",
   "nbconvert_exporter": "python",
   "pygments_lexer": "ipython3",
   "version": "3.11.6"
  }
 },
 "nbformat": 4,
 "nbformat_minor": 5
}
