{
 "cells": [
  {
   "cell_type": "markdown",
   "metadata": {
    "id": "Np0plMPXRvoq"
   },
   "source": [
    "# Lesson 6 - Schema Proposal for Structured Data\n",
    "\n",
    "In this lesson, you will build an agent that can propose a knowledge graph schema.\n",
    "The agent will analyze the approved import files and consider how to satisfy the approved user goal.\n",
    "\n",
    "You'll learn:\n",
    "- how to pair agents into a \"critic pattern\"\n",
    "- how to use tools to focus an agent's thinking\n"
   ]
  },
  {
   "cell_type": "markdown",
   "metadata": {},
   "source": [
    "<div style=\"background-color:#fff6ff; padding:13px; border-width:3px; border-color:#efe6ef; border-style:solid; border-radius:6px\">\n",
    "<p> 💻 &nbsp; <b>To access the helper.py, neo4j_for_adk.py and tools.py files :</b> 1) click on the <em>\"File\"</em> option on the top menu of the notebook and then 2) click on <em>\"Open\"</em>.\n",
    "\n",
    "</div>"
   ]
  },
  {
   "cell_type": "markdown",
   "metadata": {},
   "source": [
    "## 6.1. Agent"
   ]
  },
  {
   "cell_type": "markdown",
   "metadata": {},
   "source": [
    "\n",
    "<img src=\"images/entire_solution.png\" width=\"500\">\n",
    "\n",
    "Multiple agents will collaborate to propose construction rules for a knowledge graph\n",
    "\n",
    "- Input: `approved_user_goal`, `approved_files`\n",
    "- Output: `approved_construction_plan`\n",
    "- Tools: `get_approved_user_goal`, `get_approved_files`, `sample_file`, \n",
    "        `propose_node_construction`, `propose_relationship_construction`, \n",
    "        `get_proposed_construction_plan`,`approve_proposed_construction_plan`\n",
    "\n",
    "\n",
    "**Workflow**\n",
    "\n",
    "\n",
    "This workflow will use multiple agents to propose a construction plan for the knowledge graph.\n",
    "\n",
    "A top-level 'schema_refinement_loop' will coordinate three agents operating in a loop:\n",
    "1. A 'schema_proposal_agent' that proposes a schema and construction plan for the knowledge graph.\n",
    "2. A 'schema_critic_agent' that critiques the proposed schema and construction plan for the knowledge graph.\n",
    "3. A 'CheckStatusAndEscalate' agent that checks the feedback of the critic agent"
   ]
  },
  {
   "cell_type": "markdown",
   "metadata": {},
   "source": [
    "## 6.2. Setup"
   ]
  },
  {
   "cell_type": "markdown",
   "metadata": {},
   "source": [
    "The usual import of needed libraries, loading of environment variables, and connection to Neo4j."
   ]
  },
  {
   "cell_type": "code",
   "execution_count": null,
   "metadata": {
    "height": 386,
    "id": "sbwxKypOSBkN"
   },
   "outputs": [],
   "source": [
    "# Import necessary libraries\n",
    "import os\n",
    "from pathlib import Path\n",
    "\n",
    "from google.adk.agents import LlmAgent, LoopAgent\n",
    "from google.adk.models.lite_llm import LiteLlm # For OpenAI support\n",
    "from google.adk.tools import ToolContext\n",
    "\n",
    "# For type hints\n",
    "from typing import Dict, Any, List\n",
    "\n",
    "# Convenience libraries for working with Neo4j inside of Google ADK\n",
    "from neo4j_for_adk import graphdb, tool_success, tool_error\n",
    "\n",
    "import warnings\n",
    "# Ignore all warnings\n",
    "warnings.filterwarnings(\"ignore\")\n",
    "\n",
    "import logging\n",
    "logging.basicConfig(level=logging.CRITICAL)\n",
    "\n",
    "print(\"Libraries imported.\")"
   ]
  },
  {
   "cell_type": "code",
   "execution_count": null,
   "metadata": {
    "height": 184,
    "id": "MI_qvZJrSJuR"
   },
   "outputs": [],
   "source": [
    "# --- Define Model Constants for easier use ---\n",
    "MODEL_GPT_4O = \"openai/gpt-4o\"\n",
    "\n",
    "llm = LiteLlm(model=MODEL_GPT_4O)\n",
    "\n",
    "# Test LLM with a direct call\n",
    "print(llm.llm_client.completion(model=llm.model, messages=[{\"role\": \"user\", \"content\": \"Are you ready?\"}], tools=[]))\n",
    "\n",
    "print(\"\\nOpenAI ready.\")"
   ]
  },
  {
   "cell_type": "markdown",
   "metadata": {},
   "source": [
    "## 6.3. Agent Instructions for Schema Proposal"
   ]
  },
  {
   "cell_type": "code",
   "execution_count": null,
   "metadata": {
    "height": 252
   },
   "outputs": [],
   "source": [
    "# Notice the use of {feedback} in the string.\n",
    "# Google ADK will replace this from session context if it exists.\n",
    "# Because feedback could be long, XML-like delimiters are included to clarify the content.\n",
    "proposal_agent_role_and_goal = \"\"\"\n",
    "    You are an expert at knowledge graph modeling with property graphs. Propose an appropriate\n",
    "    schema by specifying construction rules which transform approved files into nodes or relationships.\n",
    "    The resulting schema should describe a knowledge graph based on the user goal.\n",
    "    \n",
    "    Consider feedback if it is available: \n",
    "    <feedback>\n",
    "    {feedback}\n",
    "    </feedback> \n",
    "\"\"\""
   ]
  },
  {
   "cell_type": "code",
   "execution_count": null,
   "metadata": {
    "height": 626
   },
   "outputs": [],
   "source": [
    "proposal_agent_hints = \"\"\"\n",
    "    Every file in the approved files list will become either a node or a relationship.\n",
    "    Determining whether a file likely represents a node or a relationship is based\n",
    "    on a hint from the filename (is it a single thing or two things) and the\n",
    "    identifiers found within the file.\n",
    "\n",
    "    Because unique identifiers are so important for determining the structure of the graph,\n",
    "    always verify the uniqueness of suspected unique identifiers using the 'search_file' tool.\n",
    "\n",
    "    General guidance for identifying a node or a relationship:\n",
    "    - If the file name is singular and has only 1 unique identifier it is likely a node\n",
    "    - If the file name is a combination of two things, it is likely a full relationship\n",
    "    - If the file name sounds like a node, but there are multiple unique identifiers, that is likely a node with reference relationships\n",
    "\n",
    "    Design rules for nodes:\n",
    "    - Nodes will have unique identifiers. \n",
    "    - Nodes _may_ have identifiers that are used as reference relationships.\n",
    "\n",
    "    Design rules for relationships:\n",
    "    - Relationships appear in two ways: full relationships and reference relationships.\n",
    "\n",
    "    Full relationships:\n",
    "    - Full relationships appear in dedicated relationship files, often having a filename that references two entities\n",
    "    - Full relationships typically have references to a source and destination node.\n",
    "    - Full relationships _do not have_ unique identifiers, but instead have references to the primary keys of the source and destination nodes.\n",
    "    - The absence of a single, unique identifier is a strong indicator that a file is a full relationship.\n",
    "    \n",
    "    Reference relationships:\n",
    "    - Reference relationships appear as foreign key references in node files\n",
    "    - Reference relationship foreign key column names often hint at the destination node and relationship type\n",
    "    - References may be hierarchical container relationships, with terminology revealing parent-child, \"has\", \"contains\", membership, or similar relationship\n",
    "    - References may be peer relationships, that is often a self-reference to a similar class of nodes. For example, \"knows\" or \"see also\"\n",
    "\n",
    "    The resulting schema should be a connected graph, with no isolated components.\n",
    "\"\"\""
   ]
  },
  {
   "cell_type": "code",
   "execution_count": null,
   "metadata": {
    "height": 303
   },
   "outputs": [],
   "source": [
    "proposal_agent_chain_of_thought_directions = \"\"\"\n",
    "    Prepare for the task:\n",
    "    - get the user goal using the 'get_approved_user_goal' tool\n",
    "    - get the list of approved files using the 'get_approved_files' tool\n",
    "    - get the current construction plan using the 'get_proposed_construction_plan' tool\n",
    "\n",
    "    Think carefully, using tools to perform actions and reconsidering your actions when a tool returns an error:\n",
    "    1. For each approved file, consider whether it represents a node or relationship. Check the content for potential unique identifiers using the 'sample_file' tool.\n",
    "    2. For each identifier, verify that it is unique by using the 'search_file' tool.\n",
    "    3. Use the node vs relationship guidance for deciding whether the file represents a node or a relationship.\n",
    "    4. For a node file, propose a node construction using the 'propose_node_construction' tool. \n",
    "    5. If the node contains a reference relationship, use the 'propose_relationship_construction' tool to propose a relationship construction. \n",
    "    6. For a relationship file, propose a relationship construction using the 'propose_relationship_construction' tool\n",
    "    7. If you need to remove a construction, use the 'remove_node_construction' or 'remove_relationship_construction' tool\n",
    "    8. When you are done with construction proposals, use the 'get_proposed_construction_plan' tool to present the plan to the user\n",
    "\"\"\""
   ]
  },
  {
   "cell_type": "code",
   "execution_count": null,
   "metadata": {
    "height": 165
   },
   "outputs": [],
   "source": [
    "# finally, combine all the prompt parts together\n",
    "proposal_agent_instruction = f\"\"\"\n",
    "{proposal_agent_role_and_goal}\n",
    "{proposal_agent_hints}\n",
    "{proposal_agent_chain_of_thought_directions}\n",
    "\"\"\"\n",
    "\n",
    "print(proposal_agent_instruction)\n"
   ]
  },
  {
   "cell_type": "markdown",
   "metadata": {},
   "source": [
    "## 6.4. Tool Definitions for Schema Proposal"
   ]
  },
  {
   "cell_type": "code",
   "execution_count": null,
   "metadata": {
    "height": 65
   },
   "outputs": [],
   "source": [
    "# import tools defined in previous notebook\n",
    "from tools import get_approved_user_goal, get_approved_files, sample_file"
   ]
  },
  {
   "cell_type": "code",
   "execution_count": null,
   "metadata": {
    "height": 1238
   },
   "outputs": [],
   "source": [
    "from helper import get_neo4j_import_dir\n",
    "\n",
    "SEARCH_RESULTS = \"search_results\"\n",
    "\n",
    "# A simple grep-like tool for searching text files\n",
    "def search_file(file_path: str, query: str) -> dict:\n",
    "    \"\"\"\n",
    "    Searches any text file (markdown, csv, txt) for lines containing the given query string.\n",
    "    Simple grep-like functionality that works with any text file.\n",
    "    Search is always case insensitive.\n",
    "\n",
    "    Args:\n",
    "      file_path: Path to the file, relative to the Neo4j import directory.\n",
    "      query: The string to search for.\n",
    "\n",
    "    Returns:\n",
    "        dict: A dictionary with 'status' ('success' or 'error').\n",
    "              If 'success', includes 'search_results' containing 'matching_lines'\n",
    "              (a list of dictionaries with 'line_number' and 'content' keys)\n",
    "              and basic metadata about the search.\n",
    "              If 'error', includes an 'error_message'.\n",
    "    \"\"\"\n",
    "    import_dir = Path(get_neo4j_import_dir())\n",
    "    p = import_dir / file_path\n",
    "\n",
    "    if not p.exists():\n",
    "        return tool_error(f\"File does not exist: {file_path}\")\n",
    "    if not p.is_file():\n",
    "        return tool_error(f\"Path is not a file: {file_path}\")\n",
    "\n",
    "    # Handle empty query - return no results\n",
    "    if not query:\n",
    "        return tool_success(SEARCH_RESULTS, {\n",
    "            \"metadata\": {\n",
    "                \"path\": file_path,\n",
    "                \"query\": query,\n",
    "                \"lines_found\": 0\n",
    "            },\n",
    "            \"matching_lines\": []\n",
    "        })\n",
    "\n",
    "    matching_lines = []\n",
    "    search_query = query.lower()\n",
    "    \n",
    "    try:\n",
    "        with open(p, 'r', encoding='utf-8') as file:\n",
    "            # Process the file line by line\n",
    "            for i, line in enumerate(file, 1):\n",
    "                line_to_check = line.lower()\n",
    "                if search_query in line_to_check:\n",
    "                    matching_lines.append({\n",
    "                        \"line_number\": i,\n",
    "                        \"content\": line.strip()  # Remove trailing newlines\n",
    "                    })\n",
    "                        \n",
    "    except Exception as e:\n",
    "        return tool_error(f\"Error reading or searching file {file_path}: {e}\")\n",
    "\n",
    "    # Prepare basic metadata\n",
    "    metadata = {\n",
    "        \"path\": file_path,\n",
    "        \"query\": query,\n",
    "        \"lines_found\": len(matching_lines)\n",
    "    }\n",
    "    \n",
    "    result_data = {\n",
    "        \"metadata\": metadata,\n",
    "        \"matching_lines\": matching_lines\n",
    "    }\n",
    "    return tool_success(SEARCH_RESULTS, result_data)\n"
   ]
  },
  {
   "cell_type": "code",
   "execution_count": null,
   "metadata": {
    "height": 864
   },
   "outputs": [],
   "source": [
    "#  Tool: Propose Node Construction\n",
    "\n",
    "PROPOSED_CONSTRUCTION_PLAN = \"proposed_construction_plan\"\n",
    "NODE_CONSTRUCTION = \"node_construction\"\n",
    "\n",
    "def propose_node_construction(approved_file: str, proposed_label: str, unique_column_name: str, proposed_properties: list[str], tool_context:ToolContext) -> dict:\n",
    "    \"\"\"Propose a node construction for an approved file that supports the user goal.\n",
    "\n",
    "    The construction will be added to the proposed construction plan dictionary under using proposed_label as the key.\n",
    "\n",
    "    The construction entry will be a dictionary with the following keys:\n",
    "    - construction_type: \"node\"\n",
    "    - source_file: the approved file to propose a node construction for\n",
    "    - label: the proposed label of the node\n",
    "    - unique_column_name: the name of the column that will be used to uniquely identify constructed nodes\n",
    "    - properties: A list of property names for the node, derived from column names in the approved file\n",
    "\n",
    "    Args:\n",
    "        approved_file: The approved file to propose a node construction for\n",
    "        proposed_label: The proposed label for constructed nodes (used as key in the construction plan)\n",
    "        unique_column_name: The name of the column that will be used to uniquely identify constructed nodes\n",
    "        proposed_properties: column names that should be imported as node properties\n",
    "\n",
    "    Returns:\n",
    "        dict: A dictionary containing metadata about the content.\n",
    "                Includes a 'status' key ('success' or 'error').\n",
    "                If 'success', includes a \"node_construction\" key with the construction plan for the node\n",
    "                If 'error', includes an 'error_message' key.\n",
    "                The 'error_message' may have instructions about how to handle the error.\n",
    "    \"\"\"\n",
    "    # quick sanity check -- does the approved file have the unique column?\n",
    "    search_results = search_file(approved_file, unique_column_name)\n",
    "    if search_results[\"status\"] == \"error\":\n",
    "        return search_results # return the error\n",
    "    if search_results[\"search_results\"][\"metadata\"][\"lines_found\"] == 0:\n",
    "        return tool_error(f\"{approved_file} does not have the column {unique_column_name}. Check the file content and try again.\")\n",
    "\n",
    "    # get the current construction plan, or an empty one if none exists\n",
    "    construction_plan = tool_context.state.get(PROPOSED_CONSTRUCTION_PLAN, {})\n",
    "    node_construction_rule = {\n",
    "        \"construction_type\": \"node\",\n",
    "        \"source_file\": approved_file,\n",
    "        \"label\": proposed_label,\n",
    "        \"unique_column_name\": unique_column_name,\n",
    "        \"properties\": proposed_properties\n",
    "    }   \n",
    "    construction_plan[proposed_label] = node_construction_rule\n",
    "    tool_context.state[PROPOSED_CONSTRUCTION_PLAN] = construction_plan\n",
    "    return tool_success(NODE_CONSTRUCTION, node_construction_rule)"
   ]
  },
  {
   "cell_type": "code",
   "execution_count": null,
   "metadata": {
    "height": 915
   },
   "outputs": [],
   "source": [
    "RELATIONSHIP_CONSTRUCTION = \"relationship_construction\"\n",
    "\n",
    "def propose_relationship_construction(approved_file: str, proposed_relationship_type: str, \n",
    "    from_node_label: str,from_node_column: str, to_node_label:str, to_node_column: str, \n",
    "    proposed_properties: list[str], \n",
    "    tool_context:ToolContext) -> dict:\n",
    "    \"\"\"Propose a relationship construction for an approved file that supports the user goal.\n",
    "\n",
    "    The construction will be added to the proposed construction plan dictionary under using proposed_relationship_type as the key.\n",
    "\n",
    "    Args:\n",
    "        approved_file: The approved file to propose a node construction for\n",
    "        proposed_relationship_type: The proposed label for constructed relationships\n",
    "        from_node_label: The label of the source node\n",
    "        from_node_column: The name of the column within the approved file that will be used to uniquely identify source nodes\n",
    "        to_node_label: The label of the target node\n",
    "        to_node_column: The name of the column within the approved file that will be used to uniquely identify target nodes\n",
    "        unique_column_name: The name of the column that will be used to uniquely identify target nodes\n",
    "\n",
    "    Returns:\n",
    "        dict: A dictionary containing metadata about the content.\n",
    "                Includes a 'status' key ('success' or 'error').\n",
    "                If 'success', includes a \"relationship_construction\" key with the construction plan for the node\n",
    "                If 'error', includes an 'error_message' key.\n",
    "                The 'error_message' may have instructions about how to handle the error.\n",
    "    \"\"\"\n",
    "    # quick sanity check -- does the approved file have the from_node_column?\n",
    "    search_results = search_file(approved_file, from_node_column)\n",
    "    if search_results[\"status\"] == \"error\": \n",
    "        return search_results  # return the error if there is one\n",
    "    if search_results[\"search_results\"][\"metadata\"][\"lines_found\"] == 0:\n",
    "        return tool_error(f\"{approved_file} does not have the from node column {from_node_column}. Check the content of the file and reconsider the relationship.\")\n",
    "\n",
    "    # quick sanity check -- does the approved file have the to_node_column?\n",
    "    search_results = search_file(approved_file, to_node_column)\n",
    "    if search_results[\"status\"] == \"error\" or search_results[\"search_results\"][\"metadata\"][\"lines_found\"] == 0:\n",
    "        return tool_error(f\"{approved_file} does not have the to node column {to_node_column}. Check the content of the file and reconsider the relationship.\")\n",
    "\n",
    "    construction_plan = tool_context.state.get(PROPOSED_CONSTRUCTION_PLAN, {})\n",
    "    relationship_construction_rule = {\n",
    "        \"construction_type\": \"relationship\",\n",
    "        \"source_file\": approved_file,\n",
    "        \"relationship_type\": proposed_relationship_type,\n",
    "        \"from_node_label\": from_node_label,\n",
    "        \"from_node_column\": from_node_column,\n",
    "        \"to_node_label\": to_node_label,\n",
    "        \"to_node_column\": to_node_column,\n",
    "        \"properties\": proposed_properties\n",
    "    }   \n",
    "    construction_plan[proposed_relationship_type] = relationship_construction_rule\n",
    "    tool_context.state[PROPOSED_CONSTRUCTION_PLAN] = construction_plan\n",
    "    return tool_success(RELATIONSHIP_CONSTRUCTION, relationship_construction_rule)"
   ]
  },
  {
   "cell_type": "code",
   "execution_count": null,
   "metadata": {
    "height": 422
   },
   "outputs": [],
   "source": [
    "# Tool: Remove Node Construction\n",
    "def remove_node_construction(node_label: str, tool_context:ToolContext) -> dict:\n",
    "    \"\"\"Remove a node construction from the proposed construction plan based on label.\n",
    "\n",
    "    Args:\n",
    "        node_label: The label of the node construction to remove\n",
    "        tool_context: The tool context\n",
    "\n",
    "    Returns:\n",
    "        dict: A dictionary containing metadata about the content.\n",
    "                Includes a 'status' key ('success' or 'error').\n",
    "                If 'success', includes a 'node_construction_removed' key with the label of the removed node construction\n",
    "                If 'error', includes an 'error_message' key.\n",
    "                The 'error_message' may have instructions about how to handle the error.\n",
    "    \"\"\"\n",
    "    construction_plan = tool_context.state.get(PROPOSED_CONSTRUCTION_PLAN, {})\n",
    "    if node_label not in construction_plan:\n",
    "        return tool_success(\"node construction rule not found. removal not needed.\")\n",
    "\n",
    "    del construction_plan[node_label]\n",
    "\n",
    "    tool_context.state[PROPOSED_CONSTRUCTION_PLAN] = construction_plan\n",
    "    return tool_success(\"node_construction_removed\", node_label)"
   ]
  },
  {
   "cell_type": "code",
   "execution_count": null,
   "metadata": {
    "height": 439
   },
   "outputs": [],
   "source": [
    "# Tool: Remove Relationship Construction\n",
    "def remove_relationship_construction(relationship_type: str, tool_context:ToolContext) -> dict:\n",
    "    \"\"\"Remove a relationship construction from the proposed construction plan based on type.\n",
    "\n",
    "    Args:\n",
    "        relationship_type: The type of the relationship construction to remove\n",
    "        tool_context: The tool context\n",
    "\n",
    "    Returns:\n",
    "        dict: A dictionary containing metadata about the content.\n",
    "                Includes a 'status' key ('success' or 'error').\n",
    "                If 'success', includes a 'relationship_construction_removed' key with the type of the removed relationship construction\n",
    "                If 'error', includes an 'error_message' key.\n",
    "                The 'error_message' may have instructions about how to handle the error.\n",
    "    \"\"\"\n",
    "    construction_plan = tool_context.state.get(PROPOSED_CONSTRUCTION_PLAN, {})\n",
    "\n",
    "    if relationship_type not in construction_plan:\n",
    "        return tool_success(\"relationship construction rule not found. removal not needed.\")\n",
    "    \n",
    "    construction_plan.pop(relationship_type)\n",
    "    \n",
    "    tool_context.state[PROPOSED_CONSTRUCTION_PLAN] = construction_plan\n",
    "    return tool_success(\"relationship_construction_removed\", relationship_type) "
   ]
  },
  {
   "cell_type": "code",
   "execution_count": null,
   "metadata": {
    "height": 116
   },
   "outputs": [],
   "source": [
    "# Tool: Get Proposed construction Plan\n",
    "\n",
    "def get_proposed_construction_plan(tool_context:ToolContext) -> dict:\n",
    "    \"\"\"Get the proposed construction plan, a dictionary of construction rules.\"\"\"\n",
    "    return tool_context.state.get(PROPOSED_CONSTRUCTION_PLAN, {})"
   ]
  },
  {
   "cell_type": "code",
   "execution_count": null,
   "metadata": {
    "height": 235
   },
   "outputs": [],
   "source": [
    "# Tool: Approve the proposed construction plan\n",
    "\n",
    "APPROVED_CONSTRUCTION_PLAN = \"approved_construction_plan\"\n",
    "\n",
    "def approve_proposed_construction_plan(tool_context:ToolContext) -> dict:\n",
    "    \"\"\"Approve the proposed construction plan, if there is one.\"\"\"\n",
    "    if not PROPOSED_CONSTRUCTION_PLAN in tool_context.state:\n",
    "        return tool_error(\"No proposed construction plan found. Propose a plan first.\")\n",
    "    \n",
    "    tool_context.state[APPROVED_CONSTRUCTION_PLAN] = tool_context.state.get(PROPOSED_CONSTRUCTION_PLAN)\n",
    "    return tool_success(APPROVED_CONSTRUCTION_PLAN, tool_context.state[APPROVED_CONSTRUCTION_PLAN])\n",
    "    "
   ]
  },
  {
   "cell_type": "code",
   "execution_count": null,
   "metadata": {
    "height": 148
   },
   "outputs": [],
   "source": [
    "# List of tools for the structured schema proposal agent\n",
    "structured_schema_proposal_agent_tools = [\n",
    "    get_approved_user_goal, get_approved_files, \n",
    "    get_proposed_construction_plan,\n",
    "    sample_file, search_file,\n",
    "    propose_node_construction, propose_relationship_construction, \n",
    "    remove_node_construction, remove_relationship_construction\n",
    "]"
   ]
  },
  {
   "cell_type": "markdown",
   "metadata": {},
   "source": [
    "## 6.5. Define the Agent for Schema Proposal"
   ]
  },
  {
   "cell_type": "code",
   "execution_count": null,
   "metadata": {
    "height": 97
   },
   "outputs": [],
   "source": [
    "from google.adk.agents.callback_context import CallbackContext\n",
    "\n",
    "# a helper function to log the agent name during execution\n",
    "def log_agent(callback_context: CallbackContext) -> None:\n",
    "    print(f\"\\n### Entering Agent: {callback_context.agent_name}\")"
   ]
  },
  {
   "cell_type": "code",
   "execution_count": null,
   "metadata": {
    "height": 201
   },
   "outputs": [],
   "source": [
    "SCHEMA_AGENT_NAME = \"schema_proposal_agent_v1\"\n",
    "schema_proposal_agent = LlmAgent(\n",
    "    name=SCHEMA_AGENT_NAME,\n",
    "    description=\"Proposes a knowledge graph schema based on the user goal and approved file list\",\n",
    "    model=llm,\n",
    "    instruction=proposal_agent_instruction,\n",
    "    tools=structured_schema_proposal_agent_tools,\n",
    "    before_agent_callback=log_agent\n",
    ")\n"
   ]
  },
  {
   "cell_type": "code",
   "execution_count": null,
   "metadata": {
    "height": 354
   },
   "outputs": [],
   "source": [
    "from helper import make_agent_caller\n",
    "\n",
    "# notice the initial state being passed in here to simulate previous workflow steps\n",
    "schema_proposal_caller = await make_agent_caller(schema_proposal_agent, {\n",
    "    \"feedback\": \"\",\n",
    "    \"approved_user_goal\": {\n",
    "        \"kind_of_graph\": \"supply chain analysis\",\n",
    "        \"description\": \"A multi-level bill of materials for manufactured products, useful for root cause analysis..\"\n",
    "    },\n",
    "    \"approved_files\": [\n",
    "        'assemblies.csv', \n",
    "        'parts.csv', \n",
    "        'part_supplier_mapping.csv', \n",
    "        'products.csv', \n",
    "        'suppliers.csv'\n",
    "    ]\n",
    "})\n",
    "\n"
   ]
  },
  {
   "cell_type": "markdown",
   "metadata": {},
   "source": [
    "### Try the Agent for Schema Proposal"
   ]
  },
  {
   "cell_type": "markdown",
   "metadata": {},
   "source": [
    "<p style=\"background-color:#f7fff8; padding:15px; border-width:3px; border-color:#e0f0e0; border-style:solid; border-radius:6px\"> 🚨\n",
    "&nbsp; <b>Different Run Results:</b> The output generated by LLMs can vary with each execution due to their stochastic nature. Your results might differ from those shown in the video.</p>"
   ]
  },
  {
   "cell_type": "code",
   "execution_count": null,
   "metadata": {
    "height": 235
   },
   "outputs": [],
   "source": [
    "await schema_proposal_caller.call(\"How can these files be imported to construct the knowledge graph?\")\n",
    "\n",
    "session_end = await schema_proposal_caller.get_session()\n",
    "\n",
    "print(\"\\n---\\n\")\n",
    "\n",
    "print(\"Session state: \", session_end.state)\n",
    "\n",
    "\n",
    "if 'proposed_construction_plan' in session_end.state:\n",
    "    print(\"Proposed construction plan: \", session_end.state['proposed_construction_plan'])\n"
   ]
  },
  {
   "cell_type": "markdown",
   "metadata": {},
   "source": [
    "## 6.6. Agent Instructions for Schema Critic"
   ]
  },
  {
   "cell_type": "code",
   "execution_count": null,
   "metadata": {
    "height": 99
   },
   "outputs": [],
   "source": [
    "critic_agent_role_and_goal = \"\"\"\n",
    "    You are an expert at knowledge graph modeling with property graphs. \n",
    "    Criticize the proposed schema for relevance to the user goal and approved files.\n",
    "\"\"\""
   ]
  },
  {
   "cell_type": "code",
   "execution_count": null,
   "metadata": {
    "height": 184
   },
   "outputs": [],
   "source": [
    "critic_agent_hints = \"\"\"\n",
    "    Criticize the proposed schema for relevance and correctness:\n",
    "    - Are unique identifiers actually unique? Use the 'search_file' tool to validate. Composite identifier are not acceptable.\n",
    "    - Could any nodes be relationships instead? Double-check that unique identifiers are unique and not references to other nodes. Use the 'search_file' tool to validate\n",
    "    - Can you manually trace through the source data to find the necessary information for anwering a hypothetical question?\n",
    "    - Is every node in the schema connected? What relationships could be missing? Every node should connect to at least one other node.\n",
    "    - Are hierarchical container relationships missing? \n",
    "    - Are any relationships redundant? A relationship between two nodes is redundant if it is semantically equivalent to or the inverse of another relationship between those two nodes.\n",
    "\"\"\""
   ]
  },
  {
   "cell_type": "code",
   "execution_count": null,
   "metadata": {
    "height": 252
   },
   "outputs": [],
   "source": [
    "critic_agent_chain_of_thought_directions = \"\"\"\n",
    "    Prepare for the task:\n",
    "    - get the user goal using the 'get_approved_user_goal' tool\n",
    "    - get the list of approved files using the 'get_approved_files' tool\n",
    "    - get the construction plan using the 'get_proposed_construction_plan' tool\n",
    "    - use the 'sample_file' and 'search_file' tools to validate the schema design\n",
    "\n",
    "    Think carefully, using tools to perform actions and reconsidering your actions when a tool returns an error:\n",
    "    1. Analyze each construction rule in the proposed construction plan.\n",
    "    2. Use tools to validate the construction rules for relevance and correctness.\n",
    "    3. If the schema looks good, respond with a one word reply: 'valid'.\n",
    "    4. If the schema has problems, respond with 'retry' and provide feedback as a concise bullet list of problems.\n",
    "\"\"\""
   ]
  },
  {
   "cell_type": "code",
   "execution_count": null,
   "metadata": {
    "height": 165
   },
   "outputs": [],
   "source": [
    "# combine all the prompt parts together\n",
    "critic_agent_instruction = f\"\"\"\n",
    "{critic_agent_role_and_goal}\n",
    "{critic_agent_hints}\n",
    "{critic_agent_chain_of_thought_directions}\n",
    "\"\"\"\n",
    "\n",
    "print(critic_agent_instruction)\n"
   ]
  },
  {
   "cell_type": "markdown",
   "metadata": {},
   "source": [
    "## 6.7. Tool Definitions for Schema Critic"
   ]
  },
  {
   "cell_type": "markdown",
   "metadata": {},
   "source": [
    "The schema critic has read-only tools so that it can not make any changes directly, only suggest changes."
   ]
  },
  {
   "cell_type": "code",
   "execution_count": null,
   "metadata": {
    "height": 97
   },
   "outputs": [],
   "source": [
    "schema_critic_agent_tools = [\n",
    "    get_approved_user_goal, get_approved_files,\n",
    "    get_proposed_construction_plan,\n",
    "    sample_file, search_file\n",
    "]"
   ]
  },
  {
   "cell_type": "markdown",
   "metadata": {},
   "source": [
    "## 6.8. Define the Agent for Schema Critic"
   ]
  },
  {
   "cell_type": "markdown",
   "metadata": {},
   "source": [
    "The result of the schema critic is placed automatically in the `feedback` key of the context state."
   ]
  },
  {
   "cell_type": "code",
   "execution_count": null,
   "metadata": {
    "height": 218
   },
   "outputs": [],
   "source": [
    "CRITIC_NAME = \"schema_critic_agent_v1\"\n",
    "schema_critic_agent = LlmAgent(\n",
    "    name=CRITIC_NAME,\n",
    "    description=\"Criticizes the proposed schema for relevance to the user goal and approved files.\",\n",
    "    model=llm,\n",
    "    instruction=critic_agent_instruction,\n",
    "    tools=schema_critic_agent_tools, \n",
    "    output_key=\"feedback\", # specify the context state key which will contain the result of calling the critic,\n",
    "    before_agent_callback=log_agent\n",
    ")\n"
   ]
  },
  {
   "cell_type": "markdown",
   "metadata": {},
   "source": [
    "## 6.9. Define the refinement loop"
   ]
  },
  {
   "cell_type": "markdown",
   "metadata": {},
   "source": [
    "### CheckStatusAndEscalate agent"
   ]
  },
  {
   "cell_type": "code",
   "execution_count": null,
   "metadata": {
    "height": 218
   },
   "outputs": [],
   "source": [
    "from google.adk.agents.invocation_context import InvocationContext\n",
    "from google.adk.agents.base_agent import BaseAgent\n",
    "from google.adk.events import Event, EventActions\n",
    "from typing import AsyncGenerator\n",
    "\n",
    "class CheckStatusAndEscalate(BaseAgent):\n",
    "    async def _run_async_impl(self, ctx: InvocationContext) -> AsyncGenerator[Event, None]:\n",
    "        feedback = ctx.session.state.get(\"feedback\", \"valid\")\n",
    "        should_stop = (feedback == \"valid\")\n",
    "        yield Event(author=self.name, actions=EventActions(escalate=should_stop))\n"
   ]
  },
  {
   "cell_type": "markdown",
   "metadata": {},
   "source": [
    "### Loop agent"
   ]
  },
  {
   "cell_type": "code",
   "execution_count": null,
   "metadata": {
    "height": 167
   },
   "outputs": [],
   "source": [
    "schema_refinement_loop = LoopAgent(\n",
    "    name=\"schema_refinement_loop\",\n",
    "    description=\"Analyzes approved files to propose a schema based on user intent and feedback\",\n",
    "    max_iterations=2,\n",
    "    sub_agents=[schema_proposal_agent, schema_critic_agent, CheckStatusAndEscalate(name=\"StopChecker\")],\n",
    "    before_agent_callback=log_agent\n",
    ")\n"
   ]
  },
  {
   "cell_type": "markdown",
   "metadata": {},
   "source": [
    "### Try the refinement loop"
   ]
  },
  {
   "cell_type": "markdown",
   "metadata": {},
   "source": [
    "<p style=\"background-color:#f7fff8; padding:15px; border-width:3px; border-color:#e0f0e0; border-style:solid; border-radius:6px\"> 🚨\n",
    "&nbsp; <b>Different Run Results:</b> The output generated by LLMs can vary with each execution due to their stochastic nature. Your results might differ from those shown in the video.</p>"
   ]
  },
  {
   "cell_type": "code",
   "execution_count": null,
   "metadata": {
    "height": 473
   },
   "outputs": [],
   "source": [
    "from helper import make_agent_caller\n",
    "\n",
    "# NOTE: this may take some time to run, and may require further iterations to satisfy the critic!\n",
    "refinement_loop_caller = await make_agent_caller(schema_refinement_loop, {\n",
    "    \"feedback\": \"\",\n",
    "    \"approved_user_goal\": {\n",
    "        \"kind_of_graph\": \"supply chain analysis\",\n",
    "        \"description\": \"A multi-level bill of materials for manufactured products, useful for root cause analysis..\"\n",
    "    },\n",
    "    \"approved_files\": [\n",
    "        'products.csv', \n",
    "        'assemblies.csv', \n",
    "        'parts.csv', \n",
    "        'part_supplier_mapping.csv', \n",
    "        'suppliers.csv'\n",
    "    ]\n",
    "})\n",
    "\n",
    "await refinement_loop_caller.call(\"How can these files be imported?\")\n",
    "\n",
    "# Alternatively, you can uncomment the line below to run the refinement loop with verbose output\n",
    "# await refinement_loop_caller.call(\"How can these files be imported?\", True)\n",
    "\n",
    "session_end = await refinement_loop_caller.get_session()\n",
    "print(\"Session state: \", session_end.state)\n"
   ]
  },
  {
   "cell_type": "markdown",
   "metadata": {},
   "source": [
    "## 6.11. Optional - Sequence diagram illustrating the workflow of  \"Refinement Loop Agent\"  "
   ]
  },
  {
   "cell_type": "markdown",
   "metadata": {},
   "source": [
    "<img src=\"images/schema_proposal_structured_sequence.png\" width=\"600\">"
   ]
  },
  {
   "cell_type": "markdown",
   "metadata": {},
   "source": [
    "## 6.12. Extra - Create the top-level agent"
   ]
  },
  {
   "cell_type": "markdown",
   "metadata": {},
   "source": [
    "The top-level agent will manage collaboration with the user and coordinates the work\n",
    "of the sub-agents by calling them as a tool.\n",
    "\n",
    "```python\n",
    "\n",
    "from google.adk.tools import agent_tool\n",
    "from google.adk.agents.callback_context import CallbackContext\n",
    "\n",
    "\n",
    "schema_proposal_coordinator_instruction = \"\"\"\n",
    "    You are a coordinator for the schema proposal process. Use tools to propose a schema to the user.\n",
    "    If the user disapproves, use the tools to refine the schema and ask the user to approve again.\n",
    "    If the user approves, use the 'approve_proposed_schema' tool to record the approval.\n",
    "    When the schema approval has been recorded, use the 'finished' tool.\n",
    "\n",
    "    Guidance for tool use:\n",
    "    - Use the 'schema_refinement_loop' tool to produce or update a proposed schema with construction rules. \n",
    "    - Use the 'get_proposed_schema' tool to get the proposed schema\n",
    "    - Use the 'get_proposed_construction_plan' tool to get the construction rules for transforming approved files into the schema\n",
    "    - Present the proposed schema and construction rules to the user for approval\n",
    "    - If they disapprove, consider their feedback and go back to step 1\n",
    "    - If the user approves, use the 'approve_proposed_schema' tool and the 'approve_proposed_construction_plan' tool to record the approval\n",
    "\"\"\"\n",
    "\n",
    "refinement_loop_as_tool = agent_tool.AgentTool(schema_refinement_loop)\n",
    "\n",
    "\n",
    "# initialize context with blank feedback, which may get filled later by the schema_critic_agent\n",
    "def initialize_feedback(callback_context: CallbackContext) -> None:\n",
    "    callback_context.state[\"feedback\"] = \"\"\n",
    "\n",
    "schema_proposal_coordinator = LlmAgent(\n",
    "    name=\"schema_proposal_coordinator\",\n",
    "    model=llm,\n",
    "    instruction=schema_proposal_coordinator_instruction,\n",
    "    tools=[\n",
    "        refinement_loop_as_tool, \n",
    "        get_proposed_construction_plan, \n",
    "        approve_proposed_construction_plan\n",
    "    ], \n",
    "    before_agent_callback=initialize_feedback\n",
    ")\n",
    "\n",
    "structured_schema_proposal_caller = await make_agent_caller(schema_proposal_coordinator, {\n",
    "    \"feedback\": \"\",\n",
    "    \"approved_user_goal\": {\n",
    "        \"kind_of_graph\": \"supply chain analysis\",\n",
    "        \"description\": \"A multi-level bill of materials for manufactured products, useful for root cause analysis..\"\n",
    "    },\n",
    "    \"approved_files\": [\n",
    "        'assemblies.csv', \n",
    "        'parts.csv', \n",
    "        'part_supplier_mapping.csv', \n",
    "        'products.csv', \n",
    "        'suppliers.csv'\n",
    "    ]\n",
    "})\n",
    "\n",
    "# Run the Initial Conversation\n",
    "await structured_schema_proposal_caller.call(\"How can these files be imported?\")\n",
    "\n",
    "session_end = await structured_schema_proposal_caller.get_session()\n",
    "print(\"Session state: \", session_end.state)\n",
    "\n",
    "# Agree with the file suggestions\n",
    "await structured_schema_proposal_caller.call(\"Yes, let's do it!\", True)\n",
    "\n",
    "session_end = await structured_schema_proposal_caller.get_session()\n",
    "\n",
    "print(\"Approved construction plan: \", session_end.state['approved_user_goal'])\n",
    "\n",
    "```"
   ]
  }
 ],
 "metadata": {
  "colab": {
   "provenance": [],
   "toc_visible": true
  },
  "kernelspec": {
   "display_name": "Python 3 (ipykernel)",
   "language": "python",
   "name": "python3"
  },
  "language_info": {
   "codemirror_mode": {
    "name": "ipython",
    "version": 3
   },
   "file_extension": ".py",
   "mimetype": "text/x-python",
   "name": "python",
   "nbconvert_exporter": "python",
   "pygments_lexer": "ipython3",
   "version": "3.11.3"
  }
 },
 "nbformat": 4,
 "nbformat_minor": 4
}
