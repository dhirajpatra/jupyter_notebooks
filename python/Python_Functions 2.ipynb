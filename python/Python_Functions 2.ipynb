{
 "cells": [
  {
   "cell_type": "markdown",
   "metadata": {
    "id": "1wY-GUQc3te-"
   },
   "source": [
    "## Part 1.2 Functions\n",
    "\n",
    "*  **Writing Functions**\n",
    "*  Function arguments:  positional, keyword\n",
    "*  Functional Currying:  Passing uncalled functions\n",
    "*  Functions that Yield\n",
    "*  Decorators:  Functions that wrap other functions\n",
    "*  Making Classes Behave Like Functions\n",
    "*  Applying a Function to a Pandas DataFrame\n",
    "*  Writing Lambdas"
   ]
  },
  {
   "cell_type": "markdown",
   "metadata": {
    "id": "8JmjS2H33wZP"
   },
   "source": [
    "#### Writing Functions\n",
    "Learning to write a function is the most fundamental skill to learn in Python.  With a basic mastery of functions, it is possible to have an almost full command of the language."
   ]
  },
  {
   "cell_type": "markdown",
   "metadata": {
    "id": "RHsiAy8N3-Cj"
   },
   "source": [
    "**Simple function**\n",
    "\n",
    "The simplest functions just return a value."
   ]
  },
  {
   "cell_type": "code",
   "execution_count": 1,
   "metadata": {
    "id": "YsngH1Yh4BP3"
   },
   "outputs": [],
   "source": [
    "def favorite_martial_art():\n",
    "    return \"bjj\""
   ]
  },
  {
   "cell_type": "code",
   "execution_count": 2,
   "metadata": {
    "colab": {
     "base_uri": "https://localhost:8080/",
     "height": 53
    },
    "id": "hL4eSHZjjLSe",
    "outputId": "49200373-bac6-40f3-bc78-aee0667c318b"
   },
   "outputs": [
    {
     "name": "stdout",
     "output_type": "stream",
     "text": [
      "bjj\n"
     ]
    },
    {
     "data": {
      "text/plain": [
       "'bjj'"
      ]
     },
     "execution_count": 2,
     "metadata": {},
     "output_type": "execute_result"
    }
   ],
   "source": [
    "print(favorite_martial_art())\n",
    "# This is the same output\n",
    "my_variable = \"bjj\"\n",
    "my_variable"
   ]
  },
  {
   "cell_type": "code",
   "execution_count": 3,
   "metadata": {
    "id": "lq9VQm0V4BTE"
   },
   "outputs": [],
   "source": [
    "def myfunc():pass"
   ]
  },
  {
   "cell_type": "code",
   "execution_count": 4,
   "metadata": {
    "colab": {
     "base_uri": "https://localhost:8080/"
    },
    "id": "CCYhFgvvjGHt",
    "outputId": "9dee784e-749f-4a35-cfec-e5af4f529775"
   },
   "outputs": [
    {
     "name": "stdout",
     "output_type": "stream",
     "text": [
      "None\n"
     ]
    }
   ],
   "source": [
    "res = myfunc()\n",
    "print(res)\n",
    "#result = myfunc()\n",
    "#print(result)"
   ]
  },
  {
   "cell_type": "markdown",
   "metadata": {
    "id": "AMPU657F4JWF"
   },
   "source": [
    "**Documenting Functions**\n",
    "\n",
    "It is a very good idea to document functions.  \n",
    "In Jupyter Notebook and IPython docstrings can be viewed by referring to the function with a ?.  ie.\n",
    "\n",
    "```\n",
    "In [2]: favorite_martial_art_with_docstring?\n",
    "Signature: favorite_martial_art_with_docstring()\n",
    "Docstring: This function returns the name of my favorite martial art\n",
    "File:      ~/src/functional_intro_to_python/<ipython-input-1-bef983c31735>\n",
    "Type:      function\n",
    "```"
   ]
  },
  {
   "cell_type": "code",
   "execution_count": 5,
   "metadata": {
    "id": "ZKOHmIxg4Ply"
   },
   "outputs": [],
   "source": [
    "def favorite_martial_art_with_docstring():\n",
    "    \"\"\"This function returns the name of my favorite martial art\n",
    "    This is more\n",
    "    This is even more\n",
    "    return \"string\"\n",
    "    \"\"\"\n",
    "    return \"bjj\""
   ]
  },
  {
   "cell_type": "markdown",
   "metadata": {
    "id": "8OW1SbDg4Rd1"
   },
   "source": [
    "**Docstrings of functions can be printed out by referring to *```__doc__```***"
   ]
  },
  {
   "cell_type": "code",
   "execution_count": 6,
   "metadata": {
    "id": "SuI6CO-E4ViO"
   },
   "outputs": [],
   "source": [
    "#favorite_martial_art_with_docstring.__doc__\n",
    "favorite_martial_art_with_docstring?\n"
   ]
  },
  {
   "cell_type": "code",
   "execution_count": 7,
   "metadata": {
    "id": "DeanvrdvKTV6"
   },
   "outputs": [],
   "source": [
    "#favorite_martial_art_with_docstring?"
   ]
  },
  {
   "cell_type": "markdown",
   "metadata": {
    "id": "ew4-TwH84YJa"
   },
   "source": [
    "#### Function arguments: positional, keyword\n",
    "\n",
    "A function is most useful when arguments are passed to the function. New values for times are processed inside the function. This function is also a 'positional' argument, vs a keyword argument. Positional arguments are processed in the order they are created in."
   ]
  },
  {
   "cell_type": "code",
   "execution_count": 8,
   "metadata": {
    "id": "rxL-hyuL4aws"
   },
   "outputs": [],
   "source": [
    "def practice(times):\n",
    "    print(f\"I like to practice {times} times a day\")"
   ]
  },
  {
   "cell_type": "code",
   "execution_count": 9,
   "metadata": {
    "colab": {
     "base_uri": "https://localhost:8080/"
    },
    "id": "WqDUN33f4cyf",
    "outputId": "443d67a8-5e6a-47ca-9a22-11a042f97cef"
   },
   "outputs": [
    {
     "name": "stdout",
     "output_type": "stream",
     "text": [
      "I like to practice 2 times a day\n"
     ]
    }
   ],
   "source": [
    "practice(2)"
   ]
  },
  {
   "cell_type": "code",
   "execution_count": 10,
   "metadata": {
    "colab": {
     "base_uri": "https://localhost:8080/"
    },
    "id": "C8h7Jo0y4ggH",
    "outputId": "1dc9e684-f202-46eb-e6bd-121d4d1395cc"
   },
   "outputs": [
    {
     "name": "stdout",
     "output_type": "stream",
     "text": [
      "I like to practice 3 times a day\n"
     ]
    }
   ],
   "source": [
    "practice(3)"
   ]
  },
  {
   "cell_type": "markdown",
   "metadata": {
    "id": "LILwF-Nt4iTm"
   },
   "source": [
    "**Positional Arguments are processed in order**\n",
    "\n",
    "Note, *position* is the key to pay attention to.\n",
    "\n"
   ]
  },
  {
   "cell_type": "code",
   "execution_count": 11,
   "metadata": {
    "id": "Aw6DSXR64oVx"
   },
   "outputs": [],
   "source": [
    "def practice(times, technique, duration):\n",
    "    print(f\"I like to practice {technique}, {times} times a day, for {duration} minutes\")"
   ]
  },
  {
   "cell_type": "code",
   "execution_count": 12,
   "metadata": {
    "colab": {
     "base_uri": "https://localhost:8080/"
    },
    "id": "3Gq1XUkB4qtM",
    "outputId": "e034f64b-3d8c-49db-8e9a-5e9a98d15ac1"
   },
   "outputs": [
    {
     "name": "stdout",
     "output_type": "stream",
     "text": [
      "I like to practice piano, 3 times a day, for 45 minutes\n"
     ]
    }
   ],
   "source": [
    "practice(3, \"piano\", 45)"
   ]
  },
  {
   "cell_type": "code",
   "execution_count": 13,
   "metadata": {
    "colab": {
     "base_uri": "https://localhost:8080/"
    },
    "id": "Sv9WBxWzuWAy",
    "outputId": "8c3d6e21-5c03-4e5f-d461-8516b72c2186"
   },
   "outputs": [
    {
     "name": "stdout",
     "output_type": "stream",
     "text": [
      "I like to practice 7, piano times a day, for 60 minutes\n"
     ]
    }
   ],
   "source": [
    "#Order is important, now the entire is incorrect and prints out nonsense\n",
    "practice(\"piano\", 7,60)"
   ]
  },
  {
   "cell_type": "markdown",
   "metadata": {
    "id": "ntX-r2Bp4uTw"
   },
   "source": [
    "**Keyword Arguments are processed by key, value and can have default values**\n",
    "\n",
    "One handy feature of keyword arguments is that you can set defaults and only change the defaults you want to change."
   ]
  },
  {
   "cell_type": "code",
   "execution_count": 14,
   "metadata": {
    "id": "cSIg9mKs4zg_"
   },
   "outputs": [],
   "source": [
    "def practice(times=2, technique=\"python\", duration=60):\n",
    "    print(f\"I like to practice {technique}, {times} times a day, for {duration} minutes\")"
   ]
  },
  {
   "cell_type": "code",
   "execution_count": 15,
   "metadata": {
    "colab": {
     "base_uri": "https://localhost:8080/"
    },
    "id": "Be5uDA_d41dg",
    "outputId": "890eed26-e815-4132-c9e8-f86adc211636"
   },
   "outputs": [
    {
     "name": "stdout",
     "output_type": "stream",
     "text": [
      "I like to practice python, 2 times a day, for 60 minutes\n"
     ]
    }
   ],
   "source": [
    "practice()"
   ]
  },
  {
   "cell_type": "code",
   "execution_count": 16,
   "metadata": {
    "colab": {
     "base_uri": "https://localhost:8080/"
    },
    "id": "qOwB-4Dz43HQ",
    "outputId": "706162a4-da51-4fca-dede-fe64cbf0f5de"
   },
   "outputs": [
    {
     "name": "stdout",
     "output_type": "stream",
     "text": [
      "I like to practice python, 4 times a day, for 90 minutes\n"
     ]
    }
   ],
   "source": [
    "practice(duration=90, times=4)"
   ]
  },
  {
   "cell_type": "markdown",
   "metadata": {
    "id": "2wBL_tQ846Qd"
   },
   "source": [
    "*****args and ****kwargs\n",
    "\n",
    "allow dynamic argument passing to functions\n",
    "Should be used with discretion because it can make code hard to understand"
   ]
  },
  {
   "cell_type": "code",
   "execution_count": 17,
   "metadata": {
    "id": "gJtpL1Ad5IUH"
   },
   "outputs": [],
   "source": [
    "def attack_techniques(**kwargs):\n",
    "    \"\"\"This accepts any number of keyword arguments\"\"\"\n",
    "\n",
    "    for name, attack in kwargs.items():\n",
    "        print(f\"This is an attack I would like to practice: {attack}\")"
   ]
  },
  {
   "cell_type": "code",
   "execution_count": 18,
   "metadata": {
    "colab": {
     "base_uri": "https://localhost:8080/"
    },
    "id": "ODHgMleb5KVa",
    "outputId": "4331877f-0be8-4008-a9ae-d30699813200"
   },
   "outputs": [
    {
     "name": "stdout",
     "output_type": "stream",
     "text": [
      "This is an attack I would like to practice: kimura\n",
      "This is an attack I would like to practice: straight_ankle_lock\n",
      "This is an attack I would like to practice: arm_triangle\n",
      "This is an attack I would like to practice: charge\n"
     ]
    }
   ],
   "source": [
    "attack_techniques(arm_attack=\"kimura\",\n",
    "                  leg_attack=\"straight_ankle_lock\",\n",
    "                  neck_attack=\"arm_triangle\",\n",
    "                 body_attack=\"charge\")"
   ]
  },
  {
   "cell_type": "code",
   "execution_count": 19,
   "metadata": {
    "colab": {
     "base_uri": "https://localhost:8080/"
    },
    "id": "rdvgasCNvwKt",
    "outputId": "9902de51-e027-4071-c989-89fe82ac3f79"
   },
   "outputs": [
    {
     "name": "stdout",
     "output_type": "stream",
     "text": [
      "This is an attack I would like to practice: kimura\n",
      "This is an attack I would like to practice: straight_ankle_lock\n",
      "This is an attack I would like to practice: arm_triangle\n",
      "This is an attack I would like to practice: rear nake choke\n",
      "This is an attack I would like to practice: key lock\n"
     ]
    }
   ],
   "source": [
    "#I also can pass as many things as I wants\n",
    "attack_techniques(arm_attack=\"kimura\",\n",
    "                  leg_attack=\"straight_ankle_lock\",\n",
    "                  neck_attach=\"arm_triangle\",\n",
    "                  attack4=\"rear nake choke\", attack5=\"key lock\")"
   ]
  },
  {
   "cell_type": "markdown",
   "metadata": {
    "id": "6Bd0PwiD5NnI"
   },
   "source": [
    "**passing dictionary of keywords to function**\n",
    "\n",
    "**kwargs syntax can also be used to pass in arguments all at once"
   ]
  },
  {
   "cell_type": "code",
   "execution_count": 20,
   "metadata": {
    "id": "Rxjc3U7-5QlB"
   },
   "outputs": [],
   "source": [
    "attacks = {\"arm_attack\":\"kimura\",\n",
    "           \"leg_attack\":\"straight_ankle_lock\",\n",
    "           \"neck_attach\":\"arm_triangle\"}"
   ]
  },
  {
   "cell_type": "code",
   "execution_count": 21,
   "metadata": {
    "colab": {
     "base_uri": "https://localhost:8080/"
    },
    "id": "0BmMRBOC5SG-",
    "outputId": "2e5b1da2-5b7b-4ff7-8696-fe805718932b"
   },
   "outputs": [
    {
     "name": "stdout",
     "output_type": "stream",
     "text": [
      "This is an attack I would like to practice: kimura\n",
      "This is an attack I would like to practice: straight_ankle_lock\n",
      "This is an attack I would like to practice: arm_triangle\n"
     ]
    }
   ],
   "source": [
    "attack_techniques(**attacks)"
   ]
  },
  {
   "cell_type": "markdown",
   "metadata": {
    "id": "3Srgz3C65Vdk"
   },
   "source": [
    "**Passing Around Functions**\n",
    "\n",
    "Object-Oriented programming is a very popular way to program, but it isn't the only style available in Python. For concurrency and for Data Science, functional programming fits as a complementary style.\n",
    "\n",
    "In the example, below a function can be used inside of another function by being passed into the function itself as an argument."
   ]
  },
  {
   "cell_type": "code",
   "execution_count": 22,
   "metadata": {
    "id": "inzYwQSq5XPy"
   },
   "outputs": [],
   "source": [
    "def attack_location(technique):\n",
    "    \"\"\"Return the location of an attack\"\"\"\n",
    "\n",
    "    attacks = {\"kimura\": \"arm_attack\",\n",
    "           \"straight_ankle_lock\":\"leg_attack\",\n",
    "           \"arm_triangle\":\"neck_attach\"}\n",
    "    if technique in attacks:\n",
    "        return attacks[technique]\n",
    "    return \"Unknown\""
   ]
  },
  {
   "cell_type": "code",
   "execution_count": 23,
   "metadata": {
    "colab": {
     "base_uri": "https://localhost:8080/",
     "height": 35
    },
    "id": "VfnYsD895ZFC",
    "outputId": "593faff9-dc6d-4ae7-a280-d4e7cbcaa9c5"
   },
   "outputs": [
    {
     "data": {
      "text/plain": [
       "'arm_attack'"
      ]
     },
     "execution_count": 23,
     "metadata": {},
     "output_type": "execute_result"
    }
   ],
   "source": [
    "attack_location(\"kimura\")"
   ]
  },
  {
   "cell_type": "code",
   "execution_count": 24,
   "metadata": {
    "colab": {
     "base_uri": "https://localhost:8080/",
     "height": 35
    },
    "id": "eK6NR4F-5aqT",
    "outputId": "655e262e-21b9-4734-d112-57279dccdbd3"
   },
   "outputs": [
    {
     "data": {
      "text/plain": [
       "'Unknown'"
      ]
     },
     "execution_count": 24,
     "metadata": {},
     "output_type": "execute_result"
    }
   ],
   "source": [
    "attack_location(\"bear hug\")"
   ]
  },
  {
   "cell_type": "code",
   "execution_count": 25,
   "metadata": {
    "id": "cOARK2b65f-k"
   },
   "outputs": [],
   "source": [
    "def multiple_attacks(attack_location_function):\n",
    "    \"\"\"Takes a function that categorizes attacks and returns location\"\"\"\n",
    "\n",
    "    new_attacks_list = [\"rear_naked_choke\", \"americana\", \"kimura\"]\n",
    "    for attack in new_attacks_list:\n",
    "        attack_location = attack_location_function(attack)\n",
    "        print(f\"The location of attack {attack} is {attack_location}\")"
   ]
  },
  {
   "cell_type": "code",
   "execution_count": 26,
   "metadata": {
    "colab": {
     "base_uri": "https://localhost:8080/"
    },
    "id": "WzgM8VU85iju",
    "outputId": "50f4b548-4282-4d80-ad8e-a25436aae263"
   },
   "outputs": [
    {
     "name": "stdout",
     "output_type": "stream",
     "text": [
      "The location of attack rear_naked_choke is Unknown\n",
      "The location of attack americana is Unknown\n",
      "The location of attack kimura is arm_attack\n"
     ]
    }
   ],
   "source": [
    "multiple_attacks(attack_location)"
   ]
  },
  {
   "cell_type": "markdown",
   "metadata": {
    "id": "bCdDA35S5mQ4"
   },
   "source": [
    "#### Closures and Functional Currying\n",
    "\n",
    "Closures are functions that contain other nested functions with state from outer function.\n",
    "\n",
    "In Python, a common way to use them is to keep track of the state. In the example below, the outer function, attack_counter keeps track of counts of attacks. The inner fuction attack_filter uses the \"nonlocal\" keyword in Python3, to modify the variable in the outer function.\n",
    "\n",
    "This approach is called \"functional currying\". It allows for a specialized function to be created from general functions. As shown below, this style of function could be the basis of a simple video game or maybe for the statistics crew of a mma match."
   ]
  },
  {
   "cell_type": "code",
   "execution_count": 27,
   "metadata": {
    "id": "QeG9UZfL6THb"
   },
   "outputs": [],
   "source": [
    "#nonlocal cannot modify this variable\n",
    "#lower_body_counter=5\n",
    "def attack_counter():\n",
    "    \"\"\"Counts number of attacks on part of body\"\"\"\n",
    "    lower_body_counter = 0\n",
    "    upper_body_counter = 0\n",
    "    #print(lower_body_counter)\n",
    "    def attack_filter(attack):\n",
    "        nonlocal lower_body_counter\n",
    "        nonlocal upper_body_counter\n",
    "        attacks = {\"kimura\": \"upper_body\",\n",
    "           \"straight_ankle_lock\":\"lower_body\",\n",
    "           \"arm_triangle\":\"upper_body\",\n",
    "            \"keylock\": \"upper_body\",\n",
    "            \"knee_bar\": \"lower_body\"}\n",
    "        if attack in attacks:\n",
    "            if attacks[attack] == \"upper_body\":\n",
    "                upper_body_counter +=1\n",
    "            if attacks[attack] == \"lower_body\":\n",
    "                lower_body_counter +=1\n",
    "        print(f\"Upper Body Attacks {upper_body_counter}, Lower Body Attacks {lower_body_counter}\")\n",
    "    return attack_filter"
   ]
  },
  {
   "cell_type": "code",
   "execution_count": 28,
   "metadata": {
    "id": "YT_Tk-iT6WiR"
   },
   "outputs": [],
   "source": [
    "fight = attack_counter()"
   ]
  },
  {
   "cell_type": "code",
   "execution_count": 29,
   "metadata": {
    "colab": {
     "base_uri": "https://localhost:8080/"
    },
    "id": "J1p7hvGb6Y3m",
    "outputId": "35306001-d3c9-4916-8cab-2450fc6e0915"
   },
   "outputs": [
    {
     "name": "stdout",
     "output_type": "stream",
     "text": [
      "Upper Body Attacks 1, Lower Body Attacks 0\n"
     ]
    }
   ],
   "source": [
    "fight(\"kimura\")"
   ]
  },
  {
   "cell_type": "code",
   "execution_count": 30,
   "metadata": {
    "colab": {
     "base_uri": "https://localhost:8080/"
    },
    "id": "gCoFnKDJ6aTS",
    "outputId": "0c83ee09-c8e8-4893-bb90-5b1bfa84daef"
   },
   "outputs": [
    {
     "name": "stdout",
     "output_type": "stream",
     "text": [
      "Upper Body Attacks 1, Lower Body Attacks 1\n"
     ]
    }
   ],
   "source": [
    "fight(\"knee_bar\")"
   ]
  },
  {
   "cell_type": "code",
   "execution_count": 31,
   "metadata": {
    "colab": {
     "base_uri": "https://localhost:8080/"
    },
    "id": "_3MRMBkS6bmy",
    "outputId": "9124747c-fe45-45b7-f930-49ee5cb3bf40"
   },
   "outputs": [
    {
     "name": "stdout",
     "output_type": "stream",
     "text": [
      "Upper Body Attacks 2, Lower Body Attacks 1\n"
     ]
    }
   ],
   "source": [
    "fight(\"keylock\")"
   ]
  },
  {
   "cell_type": "markdown",
   "metadata": {
    "id": "hZx708yd7lpU"
   },
   "source": [
    "#### Partial Functions\n",
    "\n",
    "Useful to partial assign default values to functions"
   ]
  },
  {
   "cell_type": "code",
   "execution_count": 32,
   "metadata": {
    "colab": {
     "base_uri": "https://localhost:8080/"
    },
    "id": "fOhajVSK7oeX",
    "outputId": "03fbe060-cc4f-4fa1-b2e9-b0ce4db165f7"
   },
   "outputs": [
    {
     "data": {
      "text/plain": [
       "functools.partial"
      ]
     },
     "execution_count": 32,
     "metadata": {},
     "output_type": "execute_result"
    }
   ],
   "source": [
    "from functools import partial\n",
    "\n",
    "def multiple_attacks(attack_one, attack_two):\n",
    "  \"\"\"Performs two attacks\"\"\"\n",
    "\n",
    "  print(f\"First Attack {attack_one}\")\n",
    "  print(f\"Second Attack {attack_two}\")\n",
    "\n",
    "attack_this = partial(multiple_attacks, \"kimura\")\n",
    "type(attack_this)"
   ]
  },
  {
   "cell_type": "markdown",
   "metadata": {
    "id": "ymZDwSka7rrh"
   },
   "source": [
    "By using this partial function, only one argument is needed"
   ]
  },
  {
   "cell_type": "code",
   "execution_count": 33,
   "metadata": {
    "colab": {
     "base_uri": "https://localhost:8080/"
    },
    "id": "jJv6HePw7tkH",
    "outputId": "5276ffed-1907-4e33-d0d8-d4245c33a4d9"
   },
   "outputs": [
    {
     "name": "stdout",
     "output_type": "stream",
     "text": [
      "First Attack kimura\n",
      "Second Attack knee-bar\n"
     ]
    }
   ],
   "source": [
    "attack_this(\"knee-bar\")"
   ]
  },
  {
   "cell_type": "markdown",
   "metadata": {
    "id": "2CIWXwv27uPW"
   },
   "source": [
    "Alternately, the original function can also be called with a different two attacks"
   ]
  },
  {
   "cell_type": "code",
   "execution_count": 34,
   "metadata": {
    "colab": {
     "base_uri": "https://localhost:8080/"
    },
    "id": "QVudEj-h7wO_",
    "outputId": "6e6a6bc5-6965-48a3-d5c8-899a9d235121"
   },
   "outputs": [
    {
     "name": "stdout",
     "output_type": "stream",
     "text": [
      "First Attack Darce Choke\n",
      "Second Attack Bicep Slicer\n"
     ]
    }
   ],
   "source": [
    "multiple_attacks(\"Darce Choke\", \"Bicep Slicer\")"
   ]
  },
  {
   "cell_type": "markdown",
   "metadata": {
    "id": "5-tKvYXt6ftS"
   },
   "source": [
    "#### Lazy Evaluated Functions (Generators)\n",
    "\n",
    "A very useful style of programming is \"lazy evaluation\". A generator is an example of that. Generators yield an items at a time.\n",
    "\n",
    "The example below return an \"infinite\" random sequence of attacks. The lazy portion comes into play in that while there is an infinite amount of values, they are only returned when the function is called."
   ]
  },
  {
   "cell_type": "code",
   "execution_count": 35,
   "metadata": {
    "id": "P-hOWZyV6jCt"
   },
   "outputs": [],
   "source": [
    "def lazy_return_random_attacks():\n",
    "    \"\"\"Yield attacks each time\"\"\"\n",
    "    import random\n",
    "    attacks = {\"kimura\": \"upper_body\",\n",
    "           \"straight_ankle_lock\":\"lower_body\",\n",
    "           \"arm_triangle\":\"upper_body\",\n",
    "            \"keylock\": \"upper_body\",\n",
    "            \"knee_bar\": \"lower_body\"}\n",
    "    while True:\n",
    "        random_attack = random.choices(list(attacks.keys()))\n",
    "        yield random_attack"
   ]
  },
  {
   "cell_type": "code",
   "execution_count": 36,
   "metadata": {
    "id": "NrhrDOAL6u0b"
   },
   "outputs": [],
   "source": [
    "attack = lazy_return_random_attacks()"
   ]
  },
  {
   "cell_type": "code",
   "execution_count": 37,
   "metadata": {
    "colab": {
     "base_uri": "https://localhost:8080/"
    },
    "id": "NyxMi57a6wA4",
    "outputId": "a6c684ca-5be7-4163-df4a-1b88c36ecc20"
   },
   "outputs": [
    {
     "data": {
      "text/plain": [
       "generator"
      ]
     },
     "execution_count": 37,
     "metadata": {},
     "output_type": "execute_result"
    }
   ],
   "source": [
    "type(attack)"
   ]
  },
  {
   "cell_type": "code",
   "execution_count": 38,
   "metadata": {
    "colab": {
     "base_uri": "https://localhost:8080/"
    },
    "id": "0IxoCkJu6y-B",
    "outputId": "6c99f3c0-2238-4a44-e186-21984d5aecd6"
   },
   "outputs": [
    {
     "name": "stdout",
     "output_type": "stream",
     "text": [
      "['straight_ankle_lock']\n",
      "['straight_ankle_lock']\n",
      "['kimura']\n",
      "['arm_triangle']\n",
      "['arm_triangle']\n",
      "['keylock']\n"
     ]
    }
   ],
   "source": [
    "for _ in range(6):\n",
    "    print(next(attack))"
   ]
  },
  {
   "cell_type": "markdown",
   "metadata": {
    "id": "hlJXHUVq6391"
   },
   "source": [
    "#### Decorators:   Functions that wrap other functions"
   ]
  },
  {
   "cell_type": "markdown",
   "metadata": {
    "id": "9KQ2Cmcelcy-"
   },
   "source": [
    "##### Randomized Sleep Decorator\n",
    "\n",
    "Another useful technique in Python is to use the decorator syntax to wrap one function with another function. In the example below, a decorator is written that adds random sleep to each function call. When combined with the previous \"infinite\" attack generator, it generates random sleeps between each function call."
   ]
  },
  {
   "cell_type": "code",
   "execution_count": 39,
   "metadata": {
    "id": "JvNzAVBT6695"
   },
   "outputs": [],
   "source": [
    "def randomized_speed_attack_decorator(function):\n",
    "    \"\"\"Randomizes the speed of attacks\"\"\"\n",
    "\n",
    "    import time\n",
    "    import random\n",
    "\n",
    "    def wrapper_func(*args, **kwargs):\n",
    "        sleep_time = random.randint(0,3)\n",
    "        print(f\"Attacking after {sleep_time} seconds\")\n",
    "        time.sleep(sleep_time)\n",
    "        return function(*args, **kwargs)\n",
    "    return wrapper_func"
   ]
  },
  {
   "cell_type": "code",
   "execution_count": 40,
   "metadata": {
    "id": "5BGrwIl96-PX"
   },
   "outputs": [],
   "source": [
    "@randomized_speed_attack_decorator\n",
    "def lazy_return_random_attacks():\n",
    "    \"\"\"Yield attacks each time\"\"\"\n",
    "    import random\n",
    "    attacks = {\"kimura\": \"upper_body\",\n",
    "           \"straight_ankle_lock\":\"lower_body\",\n",
    "           \"arm_triangle\":\"upper_body\",\n",
    "            \"keylock\": \"upper_body\",\n",
    "            \"knee_bar\": \"lower_body\"}\n",
    "    while True:\n",
    "        random_attack = random.choices(list(attacks.keys()))\n",
    "        yield random_attack"
   ]
  },
  {
   "cell_type": "code",
   "execution_count": 41,
   "metadata": {
    "colab": {
     "base_uri": "https://localhost:8080/"
    },
    "id": "HAEY8I7M7AL5",
    "outputId": "5c2ca603-581b-4030-80f9-e1dde10ec775"
   },
   "outputs": [
    {
     "name": "stdout",
     "output_type": "stream",
     "text": [
      "Attacking after 1 seconds\n",
      "['straight_ankle_lock']\n",
      "Attacking after 1 seconds\n",
      "['knee_bar']\n",
      "Attacking after 1 seconds\n",
      "['arm_triangle']\n",
      "Attacking after 3 seconds\n",
      "['arm_triangle']\n",
      "Attacking after 3 seconds\n",
      "['arm_triangle']\n"
     ]
    }
   ],
   "source": [
    "for _ in range(5):\n",
    "    print(next(lazy_return_random_attacks()))"
   ]
  },
  {
   "cell_type": "markdown",
   "metadata": {
    "id": "qO-uoYUClvqr"
   },
   "source": [
    "##### Timing Decorator"
   ]
  },
  {
   "cell_type": "markdown",
   "metadata": {
    "id": "McePAV81l2Cm"
   },
   "source": [
    "Using a decorator to time code is very common"
   ]
  },
  {
   "cell_type": "code",
   "execution_count": 42,
   "metadata": {
    "id": "pRtnp32Rl5jt"
   },
   "outputs": [],
   "source": [
    "from functools import wraps\n",
    "from time import time\n",
    "\n",
    "def timing(f):\n",
    "    @wraps(f)\n",
    "    def wrap(*args, **kw):\n",
    "        ts = time()\n",
    "        result = f(*args, **kw)\n",
    "        te = time()\n",
    "        print(f\"fun: {f.__name__}, args: [{args}, {kw}] took: {te-ts} sec\")\n",
    "        return result\n",
    "    return wrap"
   ]
  },
  {
   "cell_type": "markdown",
   "metadata": {
    "id": "SFisqs8tmJer"
   },
   "source": [
    "Using decorator to time execution of a function"
   ]
  },
  {
   "cell_type": "code",
   "execution_count": 43,
   "metadata": {
    "colab": {
     "base_uri": "https://localhost:8080/"
    },
    "id": "h3B4RLEbmpie",
    "outputId": "760c709c-4fed-466d-8ac7-aaba9af38ab1"
   },
   "outputs": [
    {
     "name": "stdout",
     "output_type": "stream",
     "text": [
      "Attacking after 1 seconds\n",
      "['knee_bar']\n",
      "['knee_bar']\n",
      "['arm_triangle']\n",
      "['straight_ankle_lock']\n",
      "['keylock']\n",
      "fun: some_attacks, args: [(), {}] took: 1.0011982917785645 sec\n"
     ]
    }
   ],
   "source": [
    "@timing\n",
    "def some_attacks():\n",
    "  attack = lazy_return_random_attacks()\n",
    "  for _ in range(5):\n",
    "    print(next(attack))\n",
    "\n",
    "some_attacks()\n"
   ]
  },
  {
   "cell_type": "markdown",
   "metadata": {
    "id": "WT4sChux989o"
   },
   "source": [
    "#### Making Classes Behave Like Functions\n",
    "\n",
    "Creating callable functions"
   ]
  },
  {
   "cell_type": "code",
   "execution_count": 44,
   "metadata": {
    "id": "y2ykyfI79_6E"
   },
   "outputs": [],
   "source": [
    "class AttackFinder:\n",
    "  \"\"\"Finds the attack location\"\"\"\n",
    "\n",
    "\n",
    "  def __init__(self, attack):\n",
    "    self.attack = attack\n",
    "\n",
    "  def __call__(self):\n",
    "    attacks = {\"kimura\": \"upper_body\",\n",
    "           \"straight_ankle_lock\":\"lower_body\",\n",
    "           \"arm_triangle\":\"upper_body\",\n",
    "            \"keylock\": \"upper_body\",\n",
    "            \"knee_bar\": \"lower_body\"}\n",
    "    if not self.attack in attacks:\n",
    "      return \"unknown location\"\n",
    "    return attacks[self.attack]\n"
   ]
  },
  {
   "cell_type": "code",
   "execution_count": 45,
   "metadata": {
    "colab": {
     "base_uri": "https://localhost:8080/",
     "height": 35
    },
    "id": "NKyd_XhOJCSk",
    "outputId": "1fead0b1-b6a0-402d-92f4-6deed91973de"
   },
   "outputs": [
    {
     "data": {
      "text/plain": [
       "'upper_body'"
      ]
     },
     "execution_count": 45,
     "metadata": {},
     "output_type": "execute_result"
    }
   ],
   "source": [
    "my_attack = AttackFinder(\"kimura\")\n",
    "my_attack()"
   ]
  },
  {
   "cell_type": "markdown",
   "metadata": {
    "id": "hQpf0vu_-Cnk"
   },
   "source": [
    "#### Applying Functions to Pandas DataFrames\n",
    "\n",
    "The final lesson on functions is to take this knowledge and use it on a DataFrame in Pandas. One of the more fundamental concepts in Pandas is use apply on a column vs iterating through all of the values. An example is shown below where all of the numbers are rounded to a whole digit."
   ]
  },
  {
   "cell_type": "code",
   "execution_count": 46,
   "metadata": {
    "colab": {
     "base_uri": "https://localhost:8080/",
     "height": 143
    },
    "id": "WLWOOacP-KDz",
    "outputId": "ea0d7b92-9530-4144-bcfe-a7c6f14d8772"
   },
   "outputs": [
    {
     "data": {
      "text/html": [
       "<div>\n",
       "<style scoped>\n",
       "    .dataframe tbody tr th:only-of-type {\n",
       "        vertical-align: middle;\n",
       "    }\n",
       "\n",
       "    .dataframe tbody tr th {\n",
       "        vertical-align: top;\n",
       "    }\n",
       "\n",
       "    .dataframe thead th {\n",
       "        text-align: right;\n",
       "    }\n",
       "</style>\n",
       "<table border=\"1\" class=\"dataframe\">\n",
       "  <thead>\n",
       "    <tr style=\"text-align: right;\">\n",
       "      <th></th>\n",
       "      <th>sepal_length</th>\n",
       "      <th>sepal_width</th>\n",
       "      <th>petal_length</th>\n",
       "      <th>petal_width</th>\n",
       "      <th>species</th>\n",
       "    </tr>\n",
       "  </thead>\n",
       "  <tbody>\n",
       "    <tr>\n",
       "      <th>0</th>\n",
       "      <td>5.1</td>\n",
       "      <td>3.5</td>\n",
       "      <td>1.4</td>\n",
       "      <td>0.2</td>\n",
       "      <td>setosa</td>\n",
       "    </tr>\n",
       "    <tr>\n",
       "      <th>1</th>\n",
       "      <td>4.9</td>\n",
       "      <td>3.0</td>\n",
       "      <td>1.4</td>\n",
       "      <td>0.2</td>\n",
       "      <td>setosa</td>\n",
       "    </tr>\n",
       "    <tr>\n",
       "      <th>2</th>\n",
       "      <td>4.7</td>\n",
       "      <td>3.2</td>\n",
       "      <td>1.3</td>\n",
       "      <td>0.2</td>\n",
       "      <td>setosa</td>\n",
       "    </tr>\n",
       "  </tbody>\n",
       "</table>\n",
       "</div>"
      ],
      "text/plain": [
       "   sepal_length  sepal_width  petal_length  petal_width species\n",
       "0           5.1          3.5           1.4          0.2  setosa\n",
       "1           4.9          3.0           1.4          0.2  setosa\n",
       "2           4.7          3.2           1.3          0.2  setosa"
      ]
     },
     "execution_count": 46,
     "metadata": {},
     "output_type": "execute_result"
    }
   ],
   "source": [
    "import pandas as pd\n",
    "iris = pd.read_csv('iris.csv')\n",
    "iris.head(3)"
   ]
  },
  {
   "cell_type": "code",
   "execution_count": 47,
   "metadata": {
    "colab": {
     "base_uri": "https://localhost:8080/"
    },
    "id": "EZTzZku3hZFM",
    "outputId": "3e3f2d09-7e9c-4ae4-bb07-1ed610547ed8"
   },
   "outputs": [
    {
     "data": {
      "text/plain": [
       "(150, 5)"
      ]
     },
     "execution_count": 47,
     "metadata": {},
     "output_type": "execute_result"
    }
   ],
   "source": [
    "iris.shape"
   ]
  },
  {
   "cell_type": "code",
   "execution_count": 48,
   "metadata": {
    "colab": {
     "base_uri": "https://localhost:8080/",
     "height": 206
    },
    "id": "S8jXLfVq-Nrb",
    "outputId": "26bd7eed-4b63-42f1-fc6e-4ce0079fcdc5"
   },
   "outputs": [
    {
     "data": {
      "text/html": [
       "<div>\n",
       "<style scoped>\n",
       "    .dataframe tbody tr th:only-of-type {\n",
       "        vertical-align: middle;\n",
       "    }\n",
       "\n",
       "    .dataframe tbody tr th {\n",
       "        vertical-align: top;\n",
       "    }\n",
       "\n",
       "    .dataframe thead th {\n",
       "        text-align: right;\n",
       "    }\n",
       "</style>\n",
       "<table border=\"1\" class=\"dataframe\">\n",
       "  <thead>\n",
       "    <tr style=\"text-align: right;\">\n",
       "      <th></th>\n",
       "      <th>sepal_length</th>\n",
       "      <th>sepal_width</th>\n",
       "      <th>petal_length</th>\n",
       "      <th>petal_width</th>\n",
       "      <th>species</th>\n",
       "      <th>rounded_sepal_length</th>\n",
       "    </tr>\n",
       "  </thead>\n",
       "  <tbody>\n",
       "    <tr>\n",
       "      <th>0</th>\n",
       "      <td>5.1</td>\n",
       "      <td>3.5</td>\n",
       "      <td>1.4</td>\n",
       "      <td>0.2</td>\n",
       "      <td>setosa</td>\n",
       "      <td>5.0</td>\n",
       "    </tr>\n",
       "    <tr>\n",
       "      <th>1</th>\n",
       "      <td>4.9</td>\n",
       "      <td>3.0</td>\n",
       "      <td>1.4</td>\n",
       "      <td>0.2</td>\n",
       "      <td>setosa</td>\n",
       "      <td>5.0</td>\n",
       "    </tr>\n",
       "    <tr>\n",
       "      <th>2</th>\n",
       "      <td>4.7</td>\n",
       "      <td>3.2</td>\n",
       "      <td>1.3</td>\n",
       "      <td>0.2</td>\n",
       "      <td>setosa</td>\n",
       "      <td>5.0</td>\n",
       "    </tr>\n",
       "    <tr>\n",
       "      <th>3</th>\n",
       "      <td>4.6</td>\n",
       "      <td>3.1</td>\n",
       "      <td>1.5</td>\n",
       "      <td>0.2</td>\n",
       "      <td>setosa</td>\n",
       "      <td>5.0</td>\n",
       "    </tr>\n",
       "    <tr>\n",
       "      <th>4</th>\n",
       "      <td>5.0</td>\n",
       "      <td>3.6</td>\n",
       "      <td>1.4</td>\n",
       "      <td>0.2</td>\n",
       "      <td>setosa</td>\n",
       "      <td>5.0</td>\n",
       "    </tr>\n",
       "  </tbody>\n",
       "</table>\n",
       "</div>"
      ],
      "text/plain": [
       "   sepal_length  sepal_width  petal_length  petal_width species  \\\n",
       "0           5.1          3.5           1.4          0.2  setosa   \n",
       "1           4.9          3.0           1.4          0.2  setosa   \n",
       "2           4.7          3.2           1.3          0.2  setosa   \n",
       "3           4.6          3.1           1.5          0.2  setosa   \n",
       "4           5.0          3.6           1.4          0.2  setosa   \n",
       "\n",
       "   rounded_sepal_length  \n",
       "0                   5.0  \n",
       "1                   5.0  \n",
       "2                   5.0  \n",
       "3                   5.0  \n",
       "4                   5.0  "
      ]
     },
     "execution_count": 48,
     "metadata": {},
     "output_type": "execute_result"
    }
   ],
   "source": [
    "iris['rounded_sepal_length'] = iris[['sepal_length']].apply(pd.Series.round)\n",
    "iris.head()"
   ]
  },
  {
   "cell_type": "code",
   "execution_count": 49,
   "metadata": {
    "colab": {
     "base_uri": "https://localhost:8080/"
    },
    "id": "TBxKbJk8kjit",
    "outputId": "86303ae3-dd2c-4859-c249-ef1b62613598"
   },
   "outputs": [
    {
     "data": {
      "text/plain": [
       "(150, 6)"
      ]
     },
     "execution_count": 49,
     "metadata": {},
     "output_type": "execute_result"
    }
   ],
   "source": [
    "iris.shape"
   ]
  },
  {
   "cell_type": "markdown",
   "metadata": {
    "id": "QrQiWvRC-QY9"
   },
   "source": [
    "This was done with a built in function, but a custom function can also be written and applied to a column. In the example below, the values are multiplied by 100. The alternative way to accomplish this would be to create a loop, transform the data and then write it back. In Pandas, it is straightforward and simple to apply custom functions instead."
   ]
  },
  {
   "cell_type": "code",
   "execution_count": 50,
   "metadata": {
    "colab": {
     "base_uri": "https://localhost:8080/",
     "height": 226
    },
    "id": "6WlPQ823-SMS",
    "outputId": "c96cd768-cdf4-48a6-ca27-7867437e0b6d"
   },
   "outputs": [
    {
     "data": {
      "text/html": [
       "<div>\n",
       "<style scoped>\n",
       "    .dataframe tbody tr th:only-of-type {\n",
       "        vertical-align: middle;\n",
       "    }\n",
       "\n",
       "    .dataframe tbody tr th {\n",
       "        vertical-align: top;\n",
       "    }\n",
       "\n",
       "    .dataframe thead th {\n",
       "        text-align: right;\n",
       "    }\n",
       "</style>\n",
       "<table border=\"1\" class=\"dataframe\">\n",
       "  <thead>\n",
       "    <tr style=\"text-align: right;\">\n",
       "      <th></th>\n",
       "      <th>sepal_length</th>\n",
       "      <th>sepal_width</th>\n",
       "      <th>petal_length</th>\n",
       "      <th>petal_width</th>\n",
       "      <th>species</th>\n",
       "      <th>rounded_sepal_length</th>\n",
       "      <th>100x_sepal_length</th>\n",
       "    </tr>\n",
       "  </thead>\n",
       "  <tbody>\n",
       "    <tr>\n",
       "      <th>0</th>\n",
       "      <td>5.1</td>\n",
       "      <td>3.5</td>\n",
       "      <td>1.4</td>\n",
       "      <td>0.2</td>\n",
       "      <td>setosa</td>\n",
       "      <td>5.0</td>\n",
       "      <td>510.0</td>\n",
       "    </tr>\n",
       "    <tr>\n",
       "      <th>1</th>\n",
       "      <td>4.9</td>\n",
       "      <td>3.0</td>\n",
       "      <td>1.4</td>\n",
       "      <td>0.2</td>\n",
       "      <td>setosa</td>\n",
       "      <td>5.0</td>\n",
       "      <td>490.0</td>\n",
       "    </tr>\n",
       "    <tr>\n",
       "      <th>2</th>\n",
       "      <td>4.7</td>\n",
       "      <td>3.2</td>\n",
       "      <td>1.3</td>\n",
       "      <td>0.2</td>\n",
       "      <td>setosa</td>\n",
       "      <td>5.0</td>\n",
       "      <td>470.0</td>\n",
       "    </tr>\n",
       "    <tr>\n",
       "      <th>3</th>\n",
       "      <td>4.6</td>\n",
       "      <td>3.1</td>\n",
       "      <td>1.5</td>\n",
       "      <td>0.2</td>\n",
       "      <td>setosa</td>\n",
       "      <td>5.0</td>\n",
       "      <td>460.0</td>\n",
       "    </tr>\n",
       "    <tr>\n",
       "      <th>4</th>\n",
       "      <td>5.0</td>\n",
       "      <td>3.6</td>\n",
       "      <td>1.4</td>\n",
       "      <td>0.2</td>\n",
       "      <td>setosa</td>\n",
       "      <td>5.0</td>\n",
       "      <td>500.0</td>\n",
       "    </tr>\n",
       "  </tbody>\n",
       "</table>\n",
       "</div>"
      ],
      "text/plain": [
       "   sepal_length  sepal_width  petal_length  petal_width species  \\\n",
       "0           5.1          3.5           1.4          0.2  setosa   \n",
       "1           4.9          3.0           1.4          0.2  setosa   \n",
       "2           4.7          3.2           1.3          0.2  setosa   \n",
       "3           4.6          3.1           1.5          0.2  setosa   \n",
       "4           5.0          3.6           1.4          0.2  setosa   \n",
       "\n",
       "   rounded_sepal_length  100x_sepal_length  \n",
       "0                   5.0              510.0  \n",
       "1                   5.0              490.0  \n",
       "2                   5.0              470.0  \n",
       "3                   5.0              460.0  \n",
       "4                   5.0              500.0  "
      ]
     },
     "execution_count": 50,
     "metadata": {},
     "output_type": "execute_result"
    }
   ],
   "source": [
    "def multiply_by_100(x):\n",
    "    \"\"\"Multiplies by 100\"\"\"\n",
    "\n",
    "    res = x * 100\n",
    "    #print(f\"This was passed in {x}, and this result was generated {res}\")\n",
    "    return res\n",
    "\n",
    "\n",
    "iris['100x_sepal_length'] = iris[['sepal_length']].apply(multiply_by_100)\n",
    "iris.head()"
   ]
  },
  {
   "cell_type": "code",
   "execution_count": 51,
   "metadata": {
    "colab": {
     "base_uri": "https://localhost:8080/",
     "height": 226
    },
    "id": "pYg2Lz05ly7Q",
    "outputId": "5b6b5f3a-e156-45ca-83b8-0b495a9e8621"
   },
   "outputs": [
    {
     "data": {
      "text/html": [
       "<div>\n",
       "<style scoped>\n",
       "    .dataframe tbody tr th:only-of-type {\n",
       "        vertical-align: middle;\n",
       "    }\n",
       "\n",
       "    .dataframe tbody tr th {\n",
       "        vertical-align: top;\n",
       "    }\n",
       "\n",
       "    .dataframe thead th {\n",
       "        text-align: right;\n",
       "    }\n",
       "</style>\n",
       "<table border=\"1\" class=\"dataframe\">\n",
       "  <thead>\n",
       "    <tr style=\"text-align: right;\">\n",
       "      <th></th>\n",
       "      <th>sepal_length</th>\n",
       "      <th>sepal_width</th>\n",
       "      <th>petal_length</th>\n",
       "      <th>petal_width</th>\n",
       "      <th>species</th>\n",
       "      <th>rounded_sepal_length</th>\n",
       "      <th>100x_sepal_length</th>\n",
       "      <th>new_column</th>\n",
       "    </tr>\n",
       "  </thead>\n",
       "  <tbody>\n",
       "    <tr>\n",
       "      <th>0</th>\n",
       "      <td>5.1</td>\n",
       "      <td>3.5</td>\n",
       "      <td>1.4</td>\n",
       "      <td>0.2</td>\n",
       "      <td>setosa</td>\n",
       "      <td>5.0</td>\n",
       "      <td>510.0</td>\n",
       "      <td>5.1</td>\n",
       "    </tr>\n",
       "    <tr>\n",
       "      <th>1</th>\n",
       "      <td>4.9</td>\n",
       "      <td>3.0</td>\n",
       "      <td>1.4</td>\n",
       "      <td>0.2</td>\n",
       "      <td>setosa</td>\n",
       "      <td>5.0</td>\n",
       "      <td>490.0</td>\n",
       "      <td>4.9</td>\n",
       "    </tr>\n",
       "    <tr>\n",
       "      <th>2</th>\n",
       "      <td>4.7</td>\n",
       "      <td>3.2</td>\n",
       "      <td>1.3</td>\n",
       "      <td>0.2</td>\n",
       "      <td>setosa</td>\n",
       "      <td>5.0</td>\n",
       "      <td>470.0</td>\n",
       "      <td>4.7</td>\n",
       "    </tr>\n",
       "    <tr>\n",
       "      <th>3</th>\n",
       "      <td>4.6</td>\n",
       "      <td>3.1</td>\n",
       "      <td>1.5</td>\n",
       "      <td>0.2</td>\n",
       "      <td>setosa</td>\n",
       "      <td>5.0</td>\n",
       "      <td>460.0</td>\n",
       "      <td>4.6</td>\n",
       "    </tr>\n",
       "    <tr>\n",
       "      <th>4</th>\n",
       "      <td>5.0</td>\n",
       "      <td>3.6</td>\n",
       "      <td>1.4</td>\n",
       "      <td>0.2</td>\n",
       "      <td>setosa</td>\n",
       "      <td>5.0</td>\n",
       "      <td>500.0</td>\n",
       "      <td>5.0</td>\n",
       "    </tr>\n",
       "  </tbody>\n",
       "</table>\n",
       "</div>"
      ],
      "text/plain": [
       "   sepal_length  sepal_width  petal_length  petal_width species  \\\n",
       "0           5.1          3.5           1.4          0.2  setosa   \n",
       "1           4.9          3.0           1.4          0.2  setosa   \n",
       "2           4.7          3.2           1.3          0.2  setosa   \n",
       "3           4.6          3.1           1.5          0.2  setosa   \n",
       "4           5.0          3.6           1.4          0.2  setosa   \n",
       "\n",
       "   rounded_sepal_length  100x_sepal_length  new_column  \n",
       "0                   5.0              510.0         5.1  \n",
       "1                   5.0              490.0         4.9  \n",
       "2                   5.0              470.0         4.7  \n",
       "3                   5.0              460.0         4.6  \n",
       "4                   5.0              500.0         5.0  "
      ]
     },
     "execution_count": 51,
     "metadata": {},
     "output_type": "execute_result"
    }
   ],
   "source": [
    "iris[\"new_column\"] = iris[['sepal_length']]\n",
    "iris.head()"
   ]
  },
  {
   "cell_type": "code",
   "execution_count": 52,
   "metadata": {
    "colab": {
     "base_uri": "https://localhost:8080/",
     "height": 194
    },
    "id": "T66Ll8etnuxK",
    "outputId": "7a286fcb-d02d-4389-81a8-3c69e6af6a31"
   },
   "outputs": [
    {
     "data": {
      "text/html": [
       "<div>\n",
       "<style scoped>\n",
       "    .dataframe tbody tr th:only-of-type {\n",
       "        vertical-align: middle;\n",
       "    }\n",
       "\n",
       "    .dataframe tbody tr th {\n",
       "        vertical-align: top;\n",
       "    }\n",
       "\n",
       "    .dataframe thead th {\n",
       "        text-align: right;\n",
       "    }\n",
       "</style>\n",
       "<table border=\"1\" class=\"dataframe\">\n",
       "  <thead>\n",
       "    <tr style=\"text-align: right;\">\n",
       "      <th></th>\n",
       "      <th>sepal_length</th>\n",
       "      <th>sepal_width</th>\n",
       "      <th>petal_length</th>\n",
       "      <th>petal_width</th>\n",
       "      <th>rounded_sepal_length</th>\n",
       "      <th>100x_sepal_length</th>\n",
       "      <th>new_column</th>\n",
       "    </tr>\n",
       "    <tr>\n",
       "      <th>species</th>\n",
       "      <th></th>\n",
       "      <th></th>\n",
       "      <th></th>\n",
       "      <th></th>\n",
       "      <th></th>\n",
       "      <th></th>\n",
       "      <th></th>\n",
       "    </tr>\n",
       "  </thead>\n",
       "  <tbody>\n",
       "    <tr>\n",
       "      <th>setosa</th>\n",
       "      <td>5.8</td>\n",
       "      <td>4.4</td>\n",
       "      <td>1.9</td>\n",
       "      <td>0.6</td>\n",
       "      <td>6.0</td>\n",
       "      <td>580.0</td>\n",
       "      <td>5.8</td>\n",
       "    </tr>\n",
       "    <tr>\n",
       "      <th>versicolor</th>\n",
       "      <td>7.0</td>\n",
       "      <td>3.4</td>\n",
       "      <td>5.1</td>\n",
       "      <td>1.8</td>\n",
       "      <td>7.0</td>\n",
       "      <td>700.0</td>\n",
       "      <td>7.0</td>\n",
       "    </tr>\n",
       "    <tr>\n",
       "      <th>virginica</th>\n",
       "      <td>7.9</td>\n",
       "      <td>3.8</td>\n",
       "      <td>6.9</td>\n",
       "      <td>2.5</td>\n",
       "      <td>8.0</td>\n",
       "      <td>790.0</td>\n",
       "      <td>7.9</td>\n",
       "    </tr>\n",
       "  </tbody>\n",
       "</table>\n",
       "</div>"
      ],
      "text/plain": [
       "            sepal_length  sepal_width  petal_length  petal_width  \\\n",
       "species                                                            \n",
       "setosa               5.8          4.4           1.9          0.6   \n",
       "versicolor           7.0          3.4           5.1          1.8   \n",
       "virginica            7.9          3.8           6.9          2.5   \n",
       "\n",
       "            rounded_sepal_length  100x_sepal_length  new_column  \n",
       "species                                                          \n",
       "setosa                       6.0              580.0         5.8  \n",
       "versicolor                   7.0              700.0         7.0  \n",
       "virginica                    8.0              790.0         7.9  "
      ]
     },
     "execution_count": 52,
     "metadata": {},
     "output_type": "execute_result"
    }
   ],
   "source": [
    "iris.groupby(\"species\").max()"
   ]
  },
  {
   "cell_type": "code",
   "execution_count": 53,
   "metadata": {
    "id": "7nerC1KunT8u"
   },
   "outputs": [],
   "source": [
    "#iris.apply(pd.Series.round, axis=1)"
   ]
  },
  {
   "cell_type": "code",
   "execution_count": 54,
   "metadata": {
    "id": "PaPz8q3pjWZQ"
   },
   "outputs": [],
   "source": [
    "#def sepal_category(x):\n",
    "\n",
    "#  if x == 4:\n",
    "#  return \"big\"\n",
    "\n",
    "#iris['sepal_category'] = iris[['sepal_width']].apply(sepal_category)\n",
    "#iris.head()\n"
   ]
  },
  {
   "cell_type": "code",
   "execution_count": 55,
   "metadata": {
    "colab": {
     "base_uri": "https://localhost:8080/"
    },
    "id": "gq3i_yeDWWHt",
    "outputId": "66f0d6ec-a961-46ac-894c-f6520ac67386"
   },
   "outputs": [
    {
     "name": "stdout",
     "output_type": "stream",
     "text": [
      "1\n",
      "2\n",
      "1\n",
      "1\n"
     ]
    }
   ],
   "source": [
    "#example of a smarter function\n",
    "def smart_multiply_by_100(x):\n",
    "  if x > 5:\n",
    "    return 1\n",
    "  return x\n",
    "\n",
    "inputs = [1,2,6,10]\n",
    "for input in inputs:\n",
    "  print(smart_multiply_by_100(input))\n",
    "\n"
   ]
  },
  {
   "cell_type": "code",
   "execution_count": null,
   "metadata": {
    "id": "6ox8_LbHW_vQ"
   },
   "outputs": [],
   "source": []
  },
  {
   "cell_type": "markdown",
   "metadata": {
    "id": "C95FIjW5-rJc"
   },
   "source": [
    "#### Writing Lambdas\n",
    "\n",
    "Generally considered to be unnecessary.  A Python lambda is an inline python and it can often lead to confusing code.  \n"
   ]
  },
  {
   "cell_type": "code",
   "execution_count": 56,
   "metadata": {
    "colab": {
     "base_uri": "https://localhost:8080/"
    },
    "id": "1Zibl40rD6Qg",
    "outputId": "c2f8db63-a6b2-45b5-f8ff-673e972eadd6"
   },
   "outputs": [
    {
     "name": "stdout",
     "output_type": "stream",
     "text": [
      "The Zen of Python, by Tim Peters\n",
      "\n",
      "Beautiful is better than ugly.\n",
      "Explicit is better than implicit.\n",
      "Simple is better than complex.\n",
      "Complex is better than complicated.\n",
      "Flat is better than nested.\n",
      "Sparse is better than dense.\n",
      "Readability counts.\n",
      "Special cases aren't special enough to break the rules.\n",
      "Although practicality beats purity.\n",
      "Errors should never pass silently.\n",
      "Unless explicitly silenced.\n",
      "In the face of ambiguity, refuse the temptation to guess.\n",
      "There should be one-- and preferably only one --obvious way to do it.\n",
      "Although that way may not be obvious at first unless you're Dutch.\n",
      "Now is better than never.\n",
      "Although never is often better than *right* now.\n",
      "If the implementation is hard to explain, it's a bad idea.\n",
      "If the implementation is easy to explain, it may be a good idea.\n",
      "Namespaces are one honking great idea -- let's do more of those!\n"
     ]
    }
   ],
   "source": [
    "import this"
   ]
  },
  {
   "cell_type": "code",
   "execution_count": 57,
   "metadata": {
    "colab": {
     "base_uri": "https://localhost:8080/"
    },
    "id": "dEvuisbJ-tc2",
    "outputId": "779705f9-1731-4038-d04f-51bb1dc24cec"
   },
   "outputs": [
    {
     "data": {
      "text/plain": [
       "16"
      ]
     },
     "execution_count": 57,
     "metadata": {},
     "output_type": "execute_result"
    }
   ],
   "source": [
    "func = lambda x: x**2\n",
    "func(4)"
   ]
  },
  {
   "cell_type": "code",
   "execution_count": 58,
   "metadata": {
    "colab": {
     "base_uri": "https://localhost:8080/"
    },
    "id": "Cq9-b_1N-tpI",
    "outputId": "643d9b75-35a0-4112-dc40-8e0ca2f21a60"
   },
   "outputs": [
    {
     "data": {
      "text/plain": [
       "16"
      ]
     },
     "execution_count": 58,
     "metadata": {},
     "output_type": "execute_result"
    }
   ],
   "source": [
    "def regular_func(x):\n",
    "  return x**2\n",
    "\n",
    "regular_func(4)"
   ]
  },
  {
   "cell_type": "code",
   "execution_count": 59,
   "metadata": {
    "id": "FlIAJo2GK7KL"
   },
   "outputs": [],
   "source": [
    "def regular_func2(x):\n",
    "  \"\"\"This makes my variable go to the second power\"\"\"\n",
    "  return x**2"
   ]
  },
  {
   "cell_type": "code",
   "execution_count": 60,
   "metadata": {
    "colab": {
     "base_uri": "https://localhost:8080/"
    },
    "id": "ZOMmTXtSLF9W",
    "outputId": "02625557-17cc-43e9-9211-29f05784e0a9"
   },
   "outputs": [
    {
     "data": {
      "text/plain": [
       "4"
      ]
     },
     "execution_count": 60,
     "metadata": {},
     "output_type": "execute_result"
    }
   ],
   "source": [
    "regular_func2(2)"
   ]
  },
  {
   "cell_type": "code",
   "execution_count": null,
   "metadata": {
    "id": "rnXLQ6rZLKj5"
   },
   "outputs": [],
   "source": []
  }
 ],
 "metadata": {
  "colab": {
   "collapsed_sections": [
    "Lgxm56T_u38j",
    "0kmgxW7Sxa6j",
    "kn-P-e_hjvK5",
    "10NtU6hV4nT6",
    "fdm3kA-Fo4pI",
    "Y_pr0ArieP7-",
    "P3xpdAnD3aqo",
    "5Kh5LRGT4CA1",
    "N9zJtAd5K8AK",
    "378G9oDxLd7J"
   ],
   "machine_shape": "hm",
   "provenance": []
  },
  "kernelspec": {
   "display_name": "Python 3",
   "language": "python",
   "name": "python3"
  },
  "language_info": {
   "codemirror_mode": {
    "name": "ipython",
    "version": 3
   },
   "file_extension": ".py",
   "mimetype": "text/x-python",
   "name": "python",
   "nbconvert_exporter": "python",
   "pygments_lexer": "ipython3",
   "version": "3.7.6"
  }
 },
 "nbformat": 4,
 "nbformat_minor": 1
}
