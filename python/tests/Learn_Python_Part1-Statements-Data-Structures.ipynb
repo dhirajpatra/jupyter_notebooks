{
 "cells": [
  {
   "cell_type": "markdown",
   "metadata": {
    "id": "4J2lIggJLUMS"
   },
   "source": [
    "# Learn Python - Part One\n",
    "\n"
   ]
  },
  {
   "cell_type": "markdown",
   "metadata": {
    "id": "HWKUOfEBUMLS"
   },
   "source": [
    "## Part 1.1: Introductory Concepts in Python, Jupyter and Colab\n"
   ]
  },
  {
   "cell_type": "markdown",
   "metadata": {
    "id": "nP_6tcHM7yFm"
   },
   "source": [
    "### Using IPython, Jupyter, Colab and Python executable\n",
    "\n"
   ]
  },
  {
   "cell_type": "markdown",
   "metadata": {
    "id": "n7JKyOrPkITH"
   },
   "source": [
    "#### Using IPython\n",
    "\n",
    "Very similar to Jupyter, but run from terminal:\n",
    "\n",
    "*   IPython predates Jupyter\n",
    "*   Both Jupyter and IPython accept *!ls -l* format to execute shell commands\n",
    "\n"
   ]
  },
  {
   "cell_type": "code",
   "execution_count": 1,
   "metadata": {
    "colab": {
     "base_uri": "https://localhost:8080/",
     "height": 51
    },
    "id": "YR3ZddpWM-uh",
    "outputId": "b5d41cf4-1e89-44fd-d46e-aa5b8efbadc1"
   },
   "outputs": [
    {
     "name": "stdout",
     "output_type": "stream",
     "text": [
      "total 76\r\n",
      "-rwxrwxrwx 1 jovyan users 71251 Feb  7 08:29 Learn_Python_Part1-Statements-Data-Structures.ipynb\r\n",
      "-rwxrwxrwx 1 jovyan users   408 Jan 18  2024 magic_stuff.py\r\n"
     ]
    }
   ],
   "source": [
    "!ls -l"
   ]
  },
  {
   "cell_type": "code",
   "execution_count": 2,
   "metadata": {
    "colab": {
     "base_uri": "https://localhost:8080/",
     "height": 34
    },
    "id": "RETmEcecyCVf",
    "outputId": "c550da6e-d934-4336-aa0e-da279950ab05"
   },
   "outputs": [
    {
     "data": {
      "text/plain": [
       "IPython.utils.text.SList"
      ]
     },
     "execution_count": 2,
     "metadata": {},
     "output_type": "execute_result"
    }
   ],
   "source": [
    "var = !ls -l\n",
    "type(var)"
   ]
  },
  {
   "cell_type": "code",
   "execution_count": 3,
   "metadata": {
    "id": "dQMhyAm8sxSc"
   },
   "outputs": [],
   "source": [
    "#var.fields?"
   ]
  },
  {
   "cell_type": "code",
   "execution_count": 4,
   "metadata": {
    "colab": {
     "base_uri": "https://localhost:8080/",
     "height": 34
    },
    "id": "qGSSYqVOyJEP",
    "outputId": "6cda1772-4401-4d13-90e8-be5bf1c24951"
   },
   "outputs": [
    {
     "data": {
      "text/plain": [
       "['-rwxrwxrwx 1 jovyan users 71251 Feb  7 08:29 Learn_Python_Part1-Statements-Data-Structures.ipynb']"
      ]
     },
     "execution_count": 4,
     "metadata": {},
     "output_type": "execute_result"
    }
   ],
   "source": [
    "var.grep(\"data\")"
   ]
  },
  {
   "cell_type": "markdown",
   "metadata": {
    "id": "lh4tsf3-p-lw"
   },
   "source": [
    "#### Colab Notebook Key Features\n"
   ]
  },
  {
   "cell_type": "markdown",
   "metadata": {
    "id": "V-xv1E3YqDK4"
   },
   "source": [
    "*  Can enable both TPU and GPU runtimes\n",
    "*  Can upload regular Jupyter Notebooks into colab\n",
    "*  Can have a Google Drive Full of Colab Notebooks\n",
    "*  Can sync colab notebooks to Github.  Here is an example of a [gist of this notebook](https://gist.github.com/noahgift/c69200e05c057cf239fc7ea0be62e043)\n",
    "*  Can connect to a [local runtime](https://research.google.com/colaboratory/local-runtimes.html)\n",
    "* Can create [forms in Colab](https://colab.research.google.com/notebooks/forms.ipynb)\n",
    "\n",
    "\n",
    "\n"
   ]
  },
  {
   "cell_type": "markdown",
   "metadata": {
    "id": "hPWO_zyRopXN"
   },
   "source": [
    "##### Mount GDrive\n"
   ]
  },
  {
   "cell_type": "code",
   "execution_count": 10,
   "metadata": {
    "colab": {
     "base_uri": "https://localhost:8080/",
     "height": 124
    },
    "id": "XI73HZNLobp4",
    "outputId": "f9810fa8-fc58-40ac-e9c3-61d47e6b1dd6"
   },
   "outputs": [
    {
     "ename": "ModuleNotFoundError",
     "evalue": "No module named 'google.colab'",
     "output_type": "error",
     "traceback": [
      "\u001b[0;31m---------------------------------------------------------------------------\u001b[0m",
      "\u001b[0;31mModuleNotFoundError\u001b[0m                       Traceback (most recent call last)",
      "\u001b[0;32m<ipython-input-10-80bea5481fc3>\u001b[0m in \u001b[0;36m<module>\u001b[0;34m\u001b[0m\n\u001b[0;32m----> 1\u001b[0;31m \u001b[0;32mfrom\u001b[0m \u001b[0mgoogle\u001b[0m\u001b[0;34m.\u001b[0m\u001b[0mcolab\u001b[0m \u001b[0;32mimport\u001b[0m \u001b[0mdrive\u001b[0m\u001b[0;34m\u001b[0m\u001b[0;34m\u001b[0m\u001b[0m\n\u001b[0m\u001b[1;32m      2\u001b[0m \u001b[0mdrive\u001b[0m\u001b[0;34m.\u001b[0m\u001b[0mmount\u001b[0m\u001b[0;34m(\u001b[0m\u001b[0;34m'/content/gdrive'\u001b[0m\u001b[0;34m,\u001b[0m \u001b[0mforce_remount\u001b[0m\u001b[0;34m=\u001b[0m\u001b[0;32mTrue\u001b[0m\u001b[0;34m)\u001b[0m\u001b[0;34m\u001b[0m\u001b[0;34m\u001b[0m\u001b[0m\n",
      "\u001b[0;31mModuleNotFoundError\u001b[0m: No module named 'google.colab'"
     ]
    }
   ],
   "source": [
    "from google.colab import drive\n",
    "drive.mount('/content/gdrive', force_remount=True)"
   ]
  },
  {
   "cell_type": "code",
   "execution_count": 6,
   "metadata": {
    "colab": {
     "base_uri": "https://localhost:8080/",
     "height": 34
    },
    "id": "UNyzZwgmoxwm",
    "outputId": "7a0d2711-c2ad-457e-ae40-86ec8b7dc706"
   },
   "outputs": [],
   "source": [
    "#import os;os.listdir(\"/content/gdrive/My Drive/awsml\")"
   ]
  },
  {
   "cell_type": "markdown",
   "metadata": {
    "id": "3jX9349SpLbr"
   },
   "source": [
    "#### Magic Commands"
   ]
  },
  {
   "cell_type": "markdown",
   "metadata": {
    "id": "Zf35CYV9PrjS"
   },
   "source": [
    "##### %timeit"
   ]
  },
  {
   "cell_type": "code",
   "execution_count": 7,
   "metadata": {
    "colab": {
     "base_uri": "https://localhost:8080/",
     "height": 89
    },
    "id": "tMpMJH0rfAEg",
    "outputId": "07047e16-3143-4cfb-dfcc-6993b53ddc54"
   },
   "outputs": [
    {
     "name": "stdout",
     "output_type": "stream",
     "text": [
      "built in Python Round\n",
      "376 ns ± 1.71 ns per loop (mean ± std. dev. of 7 runs, 1000000 loops each)\n"
     ]
    }
   ],
   "source": [
    "too_many_decimals = 1.912345897\n",
    "\n",
    "print(\"built in Python Round\")\n",
    "%timeit round(too_many_decimals, 2)\n"
   ]
  },
  {
   "cell_type": "markdown",
   "metadata": {
    "id": "p_KLutZKq5yN"
   },
   "source": [
    "##### %alias"
   ]
  },
  {
   "cell_type": "code",
   "execution_count": 8,
   "metadata": {
    "id": "jyIZLH6UpMou"
   },
   "outputs": [],
   "source": [
    "alias lscsv ls -l sample_data/*.csv"
   ]
  },
  {
   "cell_type": "code",
   "execution_count": 9,
   "metadata": {
    "colab": {
     "base_uri": "https://localhost:8080/",
     "height": 87
    },
    "id": "BNJ6bKtGpVn3",
    "outputId": "2307a6a0-dbb4-4d4f-e622-6aebf457c46c"
   },
   "outputs": [
    {
     "name": "stdout",
     "output_type": "stream",
     "text": [
      "ls: cannot access 'sample_data/*.csv': No such file or directory\r\n"
     ]
    }
   ],
   "source": [
    "lscsv"
   ]
  },
  {
   "cell_type": "markdown",
   "metadata": {
    "id": "AE1cfp41rcwL"
   },
   "source": [
    "https://ipython.readthedocs.io/en/stable/interactive/magics.html"
   ]
  },
  {
   "cell_type": "markdown",
   "metadata": {
    "id": "MnsQIiDurIPp"
   },
   "source": [
    "##### %who"
   ]
  },
  {
   "cell_type": "markdown",
   "metadata": {
    "id": "ljy17rdjrWD9"
   },
   "source": [
    "Print variables"
   ]
  },
  {
   "cell_type": "code",
   "execution_count": 136,
   "metadata": {
    "id": "mUFS07KpPfE6"
   },
   "outputs": [],
   "source": [
    "var1=1"
   ]
  },
  {
   "cell_type": "code",
   "execution_count": 137,
   "metadata": {
    "colab": {
     "base_uri": "https://localhost:8080/",
     "height": 34
    },
    "id": "ACyoq3IsrNZV",
    "outputId": "a4d09d85-6295-46b9-ed74-c74e156a45ae"
   },
   "outputs": [
    {
     "name": "stdout",
     "output_type": "stream",
     "text": [
      "Decimal\t Foo\t attack_one\t attack_two\t attacks_set_one\t attacks_set_two\t basic_string\t belt\t belts\t \n",
      "bjj_dominant_positions\t bjj_position_matrix\t body_fat_percentage\t body_part\t body_parts\t df\t f\t fat_total\t func\t \n",
      "gen\t getcontext\t guard_list\t guards\t item\t items\t lazy_func\t list_of_bjj_positions\t math\t \n",
      "my_string\t myfunc\t myfunc2\t new_dict\t new_dictionary\t np\t num2\t num_type\t number\t \n",
      "os\t pd\t position\t practise\t result\t steps\t string_with_hyphen\t submission\t submissions\t \n",
      "sys\t too_many_decimals\t unique_attacks\t unique_set_one_attacks\t var\t var1\t var2\t variable\t weight\t \n",
      "\n"
     ]
    }
   ],
   "source": [
    "who"
   ]
  },
  {
   "cell_type": "code",
   "execution_count": 138,
   "metadata": {
    "colab": {
     "base_uri": "https://localhost:8080/",
     "height": 34
    },
    "id": "MURtyzAMrZ1Z",
    "outputId": "25224048-22c8-4df3-b579-924a09f674d6"
   },
   "outputs": [
    {
     "data": {
      "text/plain": [
       "1.912345897"
      ]
     },
     "execution_count": 138,
     "metadata": {},
     "output_type": "execute_result"
    }
   ],
   "source": [
    "too_many_decimals"
   ]
  },
  {
   "cell_type": "markdown",
   "metadata": {
    "id": "l9z-cAQow-BO"
   },
   "source": [
    "##### %writefile"
   ]
  },
  {
   "cell_type": "code",
   "execution_count": 139,
   "metadata": {
    "colab": {
     "base_uri": "https://localhost:8080/",
     "height": 34
    },
    "id": "luIP2qKqxJmB",
    "outputId": "33d40f6c-f110-4d99-ad95-e422ea1c7fe4"
   },
   "outputs": [
    {
     "name": "stdout",
     "output_type": "stream",
     "text": [
      "Overwriting magic_stuff.py\n"
     ]
    }
   ],
   "source": [
    "%%writefile magic_stuff.py\n",
    "import pandas as pd\n",
    "df = pd.read_csv(\n",
    "    \"https://raw.githubusercontent.com/noahgift/food/master/data/features.en.openfoodfacts.org.products.csv\")\n",
    "df.drop([\"Unnamed: 0\", \"exceeded\", \"g_sum\", \"energy_100g\"], axis=1, inplace=True) #drop two rows we don't need\n",
    "df = df.drop(df.index[[1,11877]]) #drop outlier\n",
    "df.rename(index=str, columns={\"reconstructed_energy\": \"energy_100g\"}, inplace=True)\n",
    "print(df.head())"
   ]
  },
  {
   "cell_type": "code",
   "execution_count": 140,
   "metadata": {
    "colab": {
     "base_uri": "https://localhost:8080/",
     "height": 159
    },
    "id": "uok6ppvvxRo9",
    "outputId": "13ef744b-8830-4be8-bda9-1fd4dcf6dc47"
   },
   "outputs": [
    {
     "name": "stdout",
     "output_type": "stream",
     "text": [
      "import pandas as pd\r\n",
      "df = pd.read_csv(\r\n",
      "    \"https://raw.githubusercontent.com/noahgift/food/master/data/features.en.openfoodfacts.org.products.csv\")\r\n",
      "df.drop([\"Unnamed: 0\", \"exceeded\", \"g_sum\", \"energy_100g\"], axis=1, inplace=True) #drop two rows we don't need\r\n",
      "df = df.drop(df.index[[1,11877]]) #drop outlier\r\n",
      "df.rename(index=str, columns={\"reconstructed_energy\": \"energy_100g\"}, inplace=True)\r\n",
      "print(df.head())\r\n"
     ]
    }
   ],
   "source": [
    "cat magic_stuff.py"
   ]
  },
  {
   "cell_type": "code",
   "execution_count": 141,
   "metadata": {
    "colab": {
     "base_uri": "https://localhost:8080/",
     "height": 157
    },
    "id": "STjEo5XFPxM0",
    "outputId": "702f080e-e89a-4443-ddeb-af0109a7fcaf"
   },
   "outputs": [
    {
     "name": "stdout",
     "output_type": "stream",
     "text": [
      "   fat_100g  carbohydrates_100g  ...  energy_100g                         product\r\n",
      "0     28.57               64.29  ...      2267.85  Banana Chips Sweetened (Whole)\r\n",
      "2     57.14               17.86  ...      2835.70          Organic Salted Nut Mix\r\n",
      "3     18.75               57.81  ...      1953.04                  Organic Muesli\r\n",
      "4     36.67               36.67  ...      2336.91                   Zen Party Mix\r\n",
      "5     18.18               60.00  ...      1976.37            Cinnamon Nut Granola\r\n",
      "\r\n",
      "[5 rows x 7 columns]\r\n"
     ]
    }
   ],
   "source": [
    "!python magic_stuff.py"
   ]
  },
  {
   "cell_type": "code",
   "execution_count": 142,
   "metadata": {
    "colab": {
     "base_uri": "https://localhost:8080/",
     "height": 104
    },
    "id": "0jUCwijQ0_-t",
    "outputId": "1afead35-1416-446f-97ee-b444aded21e1"
   },
   "outputs": [
    {
     "name": "stdout",
     "output_type": "stream",
     "text": [
      "\r\n",
      "\u001b[1m[\u001b[0m\u001b[34;49mnotice\u001b[0m\u001b[1;39;49m]\u001b[0m\u001b[39;49m A new release of pip is available: \u001b[0m\u001b[31;49m23.3.1\u001b[0m\u001b[39;49m -> \u001b[0m\u001b[32;49m23.3.2\u001b[0m\r\n",
      "\u001b[1m[\u001b[0m\u001b[34;49mnotice\u001b[0m\u001b[1;39;49m]\u001b[0m\u001b[39;49m To update, run: \u001b[0m\u001b[32;49mpip install --upgrade pip\u001b[0m\r\n"
     ]
    }
   ],
   "source": [
    "!pip install -q pylint"
   ]
  },
  {
   "cell_type": "code",
   "execution_count": 143,
   "metadata": {
    "colab": {
     "base_uri": "https://localhost:8080/",
     "height": 262
    },
    "id": "Xf8MwJfy1FqQ",
    "outputId": "d3c20211-3352-4109-b77a-4dfecb6a2a6d"
   },
   "outputs": [
    {
     "name": "stdout",
     "output_type": "stream",
     "text": [
      "************* Module magic_stuff\n",
      "magic_stuff.py:3:0: C0301: Line too long (109/100) (line-too-long)\n",
      "magic_stuff.py:4:0: C0301: Line too long (110/100) (line-too-long)\n",
      "magic_stuff.py:1:0: C0114: Missing module docstring (missing-module-docstring)\n",
      "\n",
      "------------------------------------------------------------------\n",
      "Your code has been rated at 5.00/10 (previous run: 5.00/10, +0.00)\n",
      "\n"
     ]
    }
   ],
   "source": [
    "!pylint magic_stuff.py"
   ]
  },
  {
   "cell_type": "markdown",
   "metadata": {
    "id": "TtVDMB8EwJqG"
   },
   "source": [
    "##### Bash"
   ]
  },
  {
   "cell_type": "code",
   "execution_count": 144,
   "metadata": {
    "colab": {
     "base_uri": "https://localhost:8080/",
     "height": 367
    },
    "id": "YC03T7XUuF1k",
    "outputId": "02522270-1f36-47aa-bb5f-f6fce6d2e5aa"
   },
   "outputs": [
    {
     "name": "stdout",
     "output_type": "stream",
     "text": [
      "Linux 0975674fd280 5.15.0-1050-aws #55~20.04.1-Ubuntu SMP Mon Nov 6 12:15:34 UTC 2023 x86_64 x86_64 x86_64 GNU/Linux\n",
      "Learn_Python_Part1.ipynb\n",
      "magic_stuff.py\n",
      "    PID TTY          TIME CMD\n",
      "      1 ?        00:00:00 tini\n",
      "      7 ?        00:00:03 jupyter-noteboo\n",
      "     31 ?        00:00:35 python\n",
      "    250 ?        00:00:00 bash\n",
      "    253 ?        00:00:00 ps\n"
     ]
    }
   ],
   "source": [
    "%%bash\n",
    "uname -a\n",
    "ls\n",
    "ps"
   ]
  },
  {
   "cell_type": "code",
   "execution_count": 145,
   "metadata": {
    "colab": {
     "base_uri": "https://localhost:8080/",
     "height": 34
    },
    "id": "HI8JuclMt0p2",
    "outputId": "d8fcd487-28d4-4c83-bf10-394a66322620"
   },
   "outputs": [
    {
     "name": "stdout",
     "output_type": "stream",
     "text": [
      "Linux 0975674fd280 5.15.0-1050-aws #55~20.04.1-Ubuntu SMP Mon Nov 6 12:15:34 UTC 2023 x86_64 x86_64 x86_64 GNU/Linux\r\n"
     ]
    }
   ],
   "source": [
    "!uname -a"
   ]
  },
  {
   "cell_type": "markdown",
   "metadata": {
    "id": "ohA_HAOewNMT"
   },
   "source": [
    "##### Python2"
   ]
  },
  {
   "cell_type": "code",
   "execution_count": 11,
   "metadata": {
    "colab": {
     "base_uri": "https://localhost:8080/",
     "height": 34
    },
    "id": "eioZW4txwO7-",
    "outputId": "bb8af4ac-d6b6-4313-f27e-1294dc1b3b39"
   },
   "outputs": [
    {
     "name": "stdout",
     "output_type": "stream",
     "text": [
      "old school\n"
     ]
    }
   ],
   "source": [
    "%%python2\n",
    "print \"old school\"\n"
   ]
  },
  {
   "cell_type": "markdown",
   "metadata": {
    "id": "A2sW1aQ-wuPH"
   },
   "source": [
    "##### HTML"
   ]
  },
  {
   "cell_type": "code",
   "execution_count": 12,
   "metadata": {
    "colab": {
     "base_uri": "https://localhost:8080/",
     "height": 74
    },
    "id": "C8ueccG-wv8Z",
    "outputId": "be89511e-928c-4118-9e12-60f46bc23b9f"
   },
   "outputs": [
    {
     "data": {
      "text/html": [
       "<h1>Only The Best Tags and People</h>\n"
      ],
      "text/plain": [
       "<IPython.core.display.HTML object>"
      ]
     },
     "metadata": {},
     "output_type": "display_data"
    }
   ],
   "source": [
    "%%html\n",
    "<h1>Only The Best Tags and People</h>"
   ]
  },
  {
   "cell_type": "code",
   "execution_count": 13,
   "metadata": {
    "colab": {
     "base_uri": "https://localhost:8080/",
     "height": 103
    },
    "id": "O1cgxOH25NmQ",
    "outputId": "8f314e55-1e71-404f-f38f-92c967dd160d"
   },
   "outputs": [
    {
     "name": "stdout",
     "output_type": "stream",
     "text": [
      "total 76\r\n",
      "-rwxrwxrwx 1 jovyan users 72487 Feb  7 08:47 Learn_Python_Part1-Statements-Data-Structures.ipynb\r\n",
      "-rwxrwxrwx 1 jovyan users   408 Jan 18  2024 magic_stuff.py\r\n"
     ]
    }
   ],
   "source": [
    "!ls -l"
   ]
  },
  {
   "cell_type": "code",
   "execution_count": 14,
   "metadata": {
    "colab": {
     "base_uri": "https://localhost:8080/",
     "height": 391
    },
    "id": "rUqRwiunUDxP",
    "outputId": "a361182c-6990-4b9f-e68d-3f78aa6ac1f9"
   },
   "outputs": [],
   "source": [
    "#import pandas as pd\n",
    "#df = pd.read_csv(\"https://raw.githubusercontent.com/noahgift/sugar/master/data/education_sugar_cdc_2003.csv\")\n",
    "#df.head()"
   ]
  },
  {
   "cell_type": "code",
   "execution_count": 15,
   "metadata": {
    "colab": {
     "base_uri": "https://localhost:8080/",
     "height": 224
    },
    "id": "X97XO2e8_reX",
    "outputId": "e6745419-5256-4c7e-fd20-2583ad26fd29"
   },
   "outputs": [],
   "source": [
    "#df.describe()"
   ]
  },
  {
   "cell_type": "markdown",
   "metadata": {
    "id": "kn-P-e_hjvK5"
   },
   "source": [
    "#### Python executable\n",
    "\n",
    "Can run scripts, REPL and even run python statements with -c flag and semicolon to string together multiple statements"
   ]
  },
  {
   "cell_type": "code",
   "execution_count": 16,
   "metadata": {
    "colab": {
     "base_uri": "https://localhost:8080/",
     "height": 35
    },
    "id": "p2aDegQxjegv",
    "outputId": "417a8e03-80a3-43bd-e272-c502f294523f"
   },
   "outputs": [
    {
     "name": "stdout",
     "output_type": "stream",
     "text": [
      "['.ipynb_checkpoints', 'Learn_Python_Part1-Statements-Data-Structures.ipynb', 'magic_stuff.py']\r\n"
     ]
    }
   ],
   "source": [
    "!python -c \"import os;print(os.listdir())\""
   ]
  },
  {
   "cell_type": "code",
   "execution_count": 17,
   "metadata": {
    "colab": {
     "base_uri": "https://localhost:8080/",
     "height": 103
    },
    "id": "WaXhDeUM_49R",
    "outputId": "09858dd1-ae6b-40e5-8bfc-538ad926fb87"
   },
   "outputs": [
    {
     "name": "stdout",
     "output_type": "stream",
     "text": [
      "total 76\r\n",
      "-rwxrwxrwx 1 jovyan users 72487 Feb  7 08:47 Learn_Python_Part1-Statements-Data-Structures.ipynb\r\n",
      "-rwxrwxrwx 1 jovyan users   408 Jan 18  2024 magic_stuff.py\r\n"
     ]
    }
   ],
   "source": [
    "!ls -l"
   ]
  },
  {
   "cell_type": "code",
   "execution_count": 18,
   "metadata": {
    "id": "58zCAVUC_8JP"
   },
   "outputs": [
    {
     "name": "stdout",
     "output_type": "stream",
     "text": [
      "\r\n",
      "\u001b[1m[\u001b[0m\u001b[34;49mnotice\u001b[0m\u001b[1;39;49m]\u001b[0m\u001b[39;49m A new release of pip is available: \u001b[0m\u001b[31;49m23.3.1\u001b[0m\u001b[39;49m -> \u001b[0m\u001b[32;49m24.0\u001b[0m\r\n",
      "\u001b[1m[\u001b[0m\u001b[34;49mnotice\u001b[0m\u001b[1;39;49m]\u001b[0m\u001b[39;49m To update, run: \u001b[0m\u001b[32;49mpip install --upgrade pip\u001b[0m\r\n"
     ]
    }
   ],
   "source": [
    "!pip install -q yellowbrick"
   ]
  },
  {
   "cell_type": "code",
   "execution_count": 19,
   "metadata": {
    "colab": {
     "base_uri": "https://localhost:8080/",
     "height": 69
    },
    "id": "egHxTJUGNYCA",
    "outputId": "fa298362-f0fa-4fa2-cfd1-0b6a02da5bb6"
   },
   "outputs": [
    {
     "data": {
      "text/plain": [
       "['/opt/conda/lib/python3.7/site-packages/ipykernel_launcher.py',\n",
       " '-f',\n",
       " '/home/jovyan/.local/share/jupyter/runtime/kernel-087b856c-3c3c-41d7-928e-a32ebbe0cba2.json']"
      ]
     },
     "execution_count": 19,
     "metadata": {},
     "output_type": "execute_result"
    }
   ],
   "source": [
    "#this is how you capture input to a program\n",
    "import sys;sys.argv"
   ]
  },
  {
   "cell_type": "markdown",
   "metadata": {
    "id": "6HJtGuiKUYFU"
   },
   "source": [
    "### Introductory Concepts\n",
    "*  **Procedural Statements**\n",
    "*  Strings and String Formatting\n",
    "*  Numbers and Arithmetic Operations\n",
    "*  Data Structures\n",
    "\n"
   ]
  },
  {
   "cell_type": "markdown",
   "metadata": {
    "id": "BwmnQEziVQ9k"
   },
   "source": [
    " #### Procedural Statements\n",
    " Procedural statements are literally statements that  can be issued one line at a time.  Below are types of procedural statements.  These statements can be run in:\n",
    " * Jupyter Notebook\n",
    " * IPython shell\n",
    " * Python interpreter\n",
    " * Python scripts"
   ]
  },
  {
   "cell_type": "markdown",
   "metadata": {
    "id": "yTePE3imVqfP"
   },
   "source": [
    "**Printing**"
   ]
  },
  {
   "cell_type": "code",
   "execution_count": 20,
   "metadata": {
    "colab": {
     "base_uri": "https://localhost:8080/",
     "height": 34
    },
    "id": "n1r0n2V3Vs70",
    "outputId": "dcb2498e-0111-4d42-f0a6-4b7ea4ce5637"
   },
   "outputs": [
    {
     "name": "stdout",
     "output_type": "stream",
     "text": [
      "Hello world\n"
     ]
    }
   ],
   "source": [
    "print(\"Hello world\")"
   ]
  },
  {
   "cell_type": "markdown",
   "metadata": {
    "id": "8nUjNnApV6cC"
   },
   "source": [
    "**Create Variable and Use Variable**"
   ]
  },
  {
   "cell_type": "code",
   "execution_count": 21,
   "metadata": {
    "colab": {
     "base_uri": "https://localhost:8080/",
     "height": 34
    },
    "id": "mhjO2LpSVx9V",
    "outputId": "1f7238b5-7bbe-49f4-d028-b1f7b672ae25"
   },
   "outputs": [
    {
     "data": {
      "text/plain": [
       "'armbar'"
      ]
     },
     "execution_count": 21,
     "metadata": {},
     "output_type": "execute_result"
    }
   ],
   "source": [
    "variable = \"armbar\"\n",
    "variable"
   ]
  },
  {
   "cell_type": "markdown",
   "metadata": {
    "id": "H004n8R-WDGF"
   },
   "source": [
    "**Multiple procedural statements**"
   ]
  },
  {
   "cell_type": "code",
   "execution_count": 22,
   "metadata": {
    "colab": {
     "base_uri": "https://localhost:8080/",
     "height": 52
    },
    "id": "xrZWZEFmV_bN",
    "outputId": "63e00f25-e587-4e99-d362-910db2b106c8"
   },
   "outputs": [
    {
     "name": "stdout",
     "output_type": "stream",
     "text": [
      "In Brazilian Jiu Jitsu a common attack is a: kimura\n",
      "Another common attack is a: arm triangle\n"
     ]
    }
   ],
   "source": [
    "attack_one = \"kimura\"\n",
    "attack_two = \"arm triangle\"\n",
    "print(\"In Brazilian Jiu Jitsu a common attack is a:\", attack_one)\n",
    "print(\"Another common attack is a:\", attack_two)"
   ]
  },
  {
   "cell_type": "markdown",
   "metadata": {
    "id": "6IiZ6RnLWKsq"
   },
   "source": [
    "**Adding Numbers**"
   ]
  },
  {
   "cell_type": "code",
   "execution_count": 23,
   "metadata": {
    "colab": {
     "base_uri": "https://localhost:8080/",
     "height": 34
    },
    "id": "h049FhlhWPRm",
    "outputId": "cca01c75-16c4-40a3-d80e-7c30b8a3cfda"
   },
   "outputs": [
    {
     "data": {
      "text/plain": [
       "2"
      ]
     },
     "execution_count": 23,
     "metadata": {},
     "output_type": "execute_result"
    }
   ],
   "source": [
    "1+1"
   ]
  },
  {
   "cell_type": "markdown",
   "metadata": {
    "id": "mlszsN87WmcO"
   },
   "source": [
    "**Adding Phrases**"
   ]
  },
  {
   "cell_type": "code",
   "execution_count": 24,
   "metadata": {
    "colab": {
     "base_uri": "https://localhost:8080/",
     "height": 34
    },
    "id": "FaE5GnCaWgbI",
    "outputId": "ef871d14-8cf9-4bc8-c5b9-ddbd6a6480cb"
   },
   "outputs": [
    {
     "data": {
      "text/plain": [
       "'arm bar 4 morestuff lemon'"
      ]
     },
     "execution_count": 24,
     "metadata": {},
     "output_type": "execute_result"
    }
   ],
   "source": [
    "\"arm\" + \" bar\"+\" 4\"+\" morestuff \" + \"lemon\""
   ]
  },
  {
   "cell_type": "markdown",
   "metadata": {
    "id": "WSrfrIO1XYts"
   },
   "source": [
    "**Complex statements**\n",
    "\n",
    "More complex statements can be created that use data structures like the belts variable, which is a list."
   ]
  },
  {
   "cell_type": "code",
   "execution_count": 25,
   "metadata": {
    "colab": {
     "base_uri": "https://localhost:8080/",
     "height": 104
    },
    "id": "0nf0W0e3XSQS",
    "outputId": "1af4ee6a-83ba-4b65-a08d-9a3d2751c7fe"
   },
   "outputs": [
    {
     "name": "stdout",
     "output_type": "stream",
     "text": [
      "This is not the belt I want to end up at: white\n",
      "This is not the belt I want to end up at: blue\n",
      "This is not the belt I want to end up at: purple\n",
      "This is not the belt I want to end up at: brown\n",
      "The belt I want to be is: black\n"
     ]
    }
   ],
   "source": [
    "belts = [\"white\", \"blue\", \"purple\", \"brown\", \"black\"]\n",
    "for belt in belts:\n",
    "    if \"black\" in belt:\n",
    "        print(\"The belt I want to be is:\", belt)\n",
    "    else:\n",
    "        print(\"This is not the belt I want to end up at:\", belt)"
   ]
  },
  {
   "cell_type": "markdown",
   "metadata": {
    "id": "UYzPEDtnXlbx"
   },
   "source": [
    "#### Strings and String Formatting\n",
    "\n",
    "Strings are a sequence of characters and they are often programmatically formatted.  Almost all Python programs have strings because they can be used to send messages to users who use the program.  When creating strings there are few core concepts to understand:\n",
    "\n",
    "* Strings can be create with the single, double and triple/double quotes\n",
    "* Strings are can be formatted\n",
    "* One complication of strings is they can be encoded in several formats including unicode\n",
    "* Many methods are available to operate on strings.  In an editor or IPython shell you can see these methods by tab completion:\n",
    "```\n",
    "basic_string.\n",
    "            capitalize()   format()       islower()      lower()        rpartition()   title()         \n",
    "            casefold()     format_map()   isnumeric()    lstrip()       rsplit()       translate()     \n",
    "            center()       index()        isprintable()  maketrans()    rstrip()       upper()         \n",
    "            count()        isalnum()      isspace()      partition()    split()        zfill()         \n",
    "            encode()       isalpha()      istitle()      replace()      splitlines()                  \n",
    "            endswith()     isdecimal()    isupper()      rfind()        startswith()                  \n",
    "            expandtabs()   isdigit()      join()         rindex()       strip()                       \n",
    "            find()         isidentifier() ljust()        rjust()        swapcase()        \n",
    "```"
   ]
  },
  {
   "cell_type": "code",
   "execution_count": 26,
   "metadata": {
    "colab": {
     "base_uri": "https://localhost:8080/",
     "height": 34
    },
    "id": "eHJX2ZFiXbFC",
    "outputId": "b280f88a-82f3-4f73-dc10-0ee613124c67"
   },
   "outputs": [
    {
     "data": {
      "text/plain": [
       "['this', 'is', 'a', 'string', 'I', 'am', 'using', 'this', 'time']"
      ]
     },
     "execution_count": 26,
     "metadata": {},
     "output_type": "execute_result"
    }
   ],
   "source": [
    "my_string = \"this is a string I am using this time\"\n",
    "my_string.split()\n",
    "#my_string.upper()\n",
    "#my_string.title()\n",
    "#my_string.count(\"this\")"
   ]
  },
  {
   "cell_type": "code",
   "execution_count": 27,
   "metadata": {
    "colab": {
     "base_uri": "https://localhost:8080/",
     "height": 34
    },
    "id": "DMBeWJv5claa",
    "outputId": "afe09459-a2c4-4e30-9737-3ad05f759b78"
   },
   "outputs": [
    {
     "data": {
      "text/plain": [
       "'This is a string i am using this time'"
      ]
     },
     "execution_count": 27,
     "metadata": {},
     "output_type": "execute_result"
    }
   ],
   "source": [
    "my_string.capitalize()"
   ]
  },
  {
   "cell_type": "code",
   "execution_count": 28,
   "metadata": {
    "colab": {
     "base_uri": "https://localhost:8080/",
     "height": 34
    },
    "id": "-qK6mSH0xxCY",
    "outputId": "2310dc3c-af6e-40a0-92bd-a30d09524fef"
   },
   "outputs": [
    {
     "data": {
      "text/plain": [
       "False"
      ]
     },
     "execution_count": 28,
     "metadata": {},
     "output_type": "execute_result"
    }
   ],
   "source": [
    "my_string.isnumeric()\n",
    "\n"
   ]
  },
  {
   "cell_type": "code",
   "execution_count": 29,
   "metadata": {
    "colab": {
     "base_uri": "https://localhost:8080/",
     "height": 69
    },
    "id": "jKa_uTtpwwtm",
    "outputId": "5d1b664e-cbf2-4311-dd38-c03aa83fc312"
   },
   "outputs": [
    {
     "name": "stdout",
     "output_type": "stream",
     "text": [
      "this is a string I am using this time\n",
      "THIS IS A STRING i AM USING THIS TIME\n",
      "this is a string I am using this time\n"
     ]
    }
   ],
   "source": [
    "print(my_string)\n",
    "var2 = my_string.swapcase()\n",
    "print(var2)\n",
    "print(var2.swapcase())"
   ]
  },
  {
   "cell_type": "markdown",
   "metadata": {
    "id": "8afQjS25YDvQ"
   },
   "source": [
    "**Basic String**"
   ]
  },
  {
   "cell_type": "code",
   "execution_count": 30,
   "metadata": {
    "id": "yfhfvyIpX-pc"
   },
   "outputs": [],
   "source": [
    "basic_string = \"Brazilian Jiu Jitsu\""
   ]
  },
  {
   "cell_type": "markdown",
   "metadata": {
    "id": "GMYqc-cKYJlL"
   },
   "source": [
    "**Splitting String**\n",
    "\n",
    "Turn a string in a list by splitting on spaces, or some other thing"
   ]
  },
  {
   "cell_type": "code",
   "execution_count": 31,
   "metadata": {
    "colab": {
     "base_uri": "https://localhost:8080/",
     "height": 34
    },
    "id": "eJaoPyTzYGSk",
    "outputId": "d826cccd-dbbf-49f4-aa1a-6cf77f5ea342"
   },
   "outputs": [
    {
     "data": {
      "text/plain": [
       "['Brazilian', 'Jiu', 'Jitsu']"
      ]
     },
     "execution_count": 31,
     "metadata": {},
     "output_type": "execute_result"
    }
   ],
   "source": [
    "#split on spaces (default)\n",
    "basic_string.split()"
   ]
  },
  {
   "cell_type": "code",
   "execution_count": 32,
   "metadata": {
    "colab": {
     "base_uri": "https://localhost:8080/",
     "height": 34
    },
    "id": "jt4NbwL15MBl",
    "outputId": "1ab6e74c-f0e2-4fbc-bff5-a8366018f4c4"
   },
   "outputs": [
    {
     "data": {
      "text/plain": [
       "3"
      ]
     },
     "execution_count": 32,
     "metadata": {},
     "output_type": "execute_result"
    }
   ],
   "source": [
    "result = basic_string.split()\n",
    "len(result)"
   ]
  },
  {
   "cell_type": "code",
   "execution_count": 168,
   "metadata": {
    "colab": {
     "base_uri": "https://localhost:8080/",
     "height": 34
    },
    "id": "z94Ajl0NZXBP",
    "outputId": "eb99242a-36a8-4153-d6f7-18572ed78469"
   },
   "outputs": [
    {
     "data": {
      "text/plain": [
       "['Brazilian', 'Jiu', 'Jitsu']"
      ]
     },
     "execution_count": 168,
     "metadata": {},
     "output_type": "execute_result"
    }
   ],
   "source": [
    "#split on hyphen\n",
    "string_with_hyphen = \"Brazilian-Jiu-Jitsu\"\n",
    "string_with_hyphen.split(\"-\")"
   ]
  },
  {
   "cell_type": "code",
   "execution_count": 169,
   "metadata": {
    "colab": {
     "base_uri": "https://localhost:8080/",
     "height": 34
    },
    "id": "EsPKeSMA5dnP",
    "outputId": "64fc3052-1b73-450a-ea9b-d68b176f7f82"
   },
   "outputs": [
    {
     "data": {
      "text/plain": [
       "['Brazilian', 'Jiu', 'Jitsu']"
      ]
     },
     "execution_count": 169,
     "metadata": {},
     "output_type": "execute_result"
    }
   ],
   "source": [
    "#split on comma\n",
    "string_with_hyphen = \"Brazilian,Jiu,Jitsu\"\n",
    "string_with_hyphen.split(\",\")"
   ]
  },
  {
   "cell_type": "markdown",
   "metadata": {
    "id": "Ti9hySuGZbbX"
   },
   "source": [
    "**All Capital**\n",
    "\n",
    "Turn a string into all Capital Letter"
   ]
  },
  {
   "cell_type": "code",
   "execution_count": 170,
   "metadata": {
    "colab": {
     "base_uri": "https://localhost:8080/",
     "height": 34
    },
    "id": "y2NEPM8PZZT_",
    "outputId": "a060ef90-cbdc-4a96-928a-73d21e13d104"
   },
   "outputs": [
    {
     "data": {
      "text/plain": [
       "'Brazilian jiu jitsu'"
      ]
     },
     "execution_count": 170,
     "metadata": {},
     "output_type": "execute_result"
    }
   ],
   "source": [
    "basic_string.capitalize()"
   ]
  },
  {
   "cell_type": "markdown",
   "metadata": {
    "id": "ZlifO6c4Zk5W"
   },
   "source": [
    "**Slicing Strings**\n",
    "\n",
    "Strings can be referenced by length and sliced"
   ]
  },
  {
   "cell_type": "code",
   "execution_count": 171,
   "metadata": {
    "colab": {
     "base_uri": "https://localhost:8080/",
     "height": 34
    },
    "id": "tBXlXz0TZh1Q",
    "outputId": "30a158fa-7075-45cd-ee9b-36bc183d66a6"
   },
   "outputs": [
    {
     "data": {
      "text/plain": [
       "'u'"
      ]
     },
     "execution_count": 171,
     "metadata": {},
     "output_type": "execute_result"
    }
   ],
   "source": [
    "#Get the last character\n",
    "basic_string[-1:]"
   ]
  },
  {
   "cell_type": "code",
   "execution_count": 172,
   "metadata": {
    "colab": {
     "base_uri": "https://localhost:8080/",
     "height": 34
    },
    "id": "dvNrJzBNyvZz",
    "outputId": "e6eef812-36ee-44c3-e85c-8377956990e4"
   },
   "outputs": [
    {
     "data": {
      "text/plain": [
       "17"
      ]
     },
     "execution_count": 172,
     "metadata": {},
     "output_type": "execute_result"
    }
   ],
   "source": [
    "len(basic_string[2:])"
   ]
  },
  {
   "cell_type": "code",
   "execution_count": 173,
   "metadata": {
    "colab": {
     "base_uri": "https://localhost:8080/",
     "height": 34
    },
    "id": "EhgFdziaZtPv",
    "outputId": "8a849e27-ccca-4cff-8793-c773c673b236"
   },
   "outputs": [
    {
     "data": {
      "text/plain": [
       "19"
      ]
     },
     "execution_count": 173,
     "metadata": {},
     "output_type": "execute_result"
    }
   ],
   "source": [
    "#Get length of string\n",
    "len(basic_string)"
   ]
  },
  {
   "cell_type": "code",
   "execution_count": 174,
   "metadata": {
    "colab": {
     "base_uri": "https://localhost:8080/",
     "height": 34
    },
    "id": "neXScIYHD75C",
    "outputId": "e60c9fb5-0b25-4dce-b4d3-b47575888e67"
   },
   "outputs": [
    {
     "data": {
      "text/plain": [
       "'razilian Jiu Jitsu'"
      ]
     },
     "execution_count": 174,
     "metadata": {},
     "output_type": "execute_result"
    }
   ],
   "source": [
    "basic_string[-18:]"
   ]
  },
  {
   "cell_type": "markdown",
   "metadata": {
    "id": "lxvtolozZy1f"
   },
   "source": [
    "**Strings Can Be Added Together**"
   ]
  },
  {
   "cell_type": "code",
   "execution_count": 175,
   "metadata": {
    "colab": {
     "base_uri": "https://localhost:8080/",
     "height": 34
    },
    "id": "eIVgqMsRZvNQ",
    "outputId": "f3a9358a-322d-4e4e-ea5f-4e547bc68845"
   },
   "outputs": [
    {
     "data": {
      "text/plain": [
       "'Brazilian Jiu Jitsu is my favorite Martial Art'"
      ]
     },
     "execution_count": 175,
     "metadata": {},
     "output_type": "execute_result"
    }
   ],
   "source": [
    "basic_string + \" is my favorite Martial Art\""
   ]
  },
  {
   "cell_type": "code",
   "execution_count": 176,
   "metadata": {
    "colab": {
     "base_uri": "https://localhost:8080/",
     "height": 34
    },
    "id": "tdga91RBzMb_",
    "outputId": "2a858ab9-60ab-4939-ff72-20da23cba7bd"
   },
   "outputs": [
    {
     "data": {
      "text/plain": [
       "'Brazilian Jiu Jitsu-123'"
      ]
     },
     "execution_count": 176,
     "metadata": {},
     "output_type": "execute_result"
    }
   ],
   "source": [
    "items = [\"-\",1,2,3]\n",
    "for item in items:\n",
    "  basic_string += str(item)\n",
    "basic_string"
   ]
  },
  {
   "cell_type": "code",
   "execution_count": 177,
   "metadata": {
    "colab": {
     "base_uri": "https://localhost:8080/",
     "height": 34
    },
    "id": "trK8HQJ1Mx6E",
    "outputId": "175737c8-9fa5-4b8b-fbeb-02f3f13e6954"
   },
   "outputs": [
    {
     "data": {
      "text/plain": [
       "'this is a string format: wow'"
      ]
     },
     "execution_count": 177,
     "metadata": {},
     "output_type": "execute_result"
    }
   ],
   "source": [
    "\"this is a string format: %s\" % \"wow\""
   ]
  },
  {
   "cell_type": "markdown",
   "metadata": {
    "id": "nNYxshNHZ6O8"
   },
   "source": [
    "**F-Strings Can Be Formatted in More Complex Ways**\n",
    "\n",
    "One of the best ways to format a string in modern Python 3 is to use f-strings"
   ]
  },
  {
   "cell_type": "code",
   "execution_count": 178,
   "metadata": {
    "colab": {
     "base_uri": "https://localhost:8080/",
     "height": 35
    },
    "id": "u_NAcD5sZ1l4",
    "outputId": "37a3ef35-d47b-4a30-db32-bcc80894dd4f"
   },
   "outputs": [
    {
     "data": {
      "text/plain": [
       "'I love practicing my favorite Martial Art, Brazilian Jiu Jitsu-123'"
      ]
     },
     "execution_count": 178,
     "metadata": {},
     "output_type": "execute_result"
    }
   ],
   "source": [
    "f'I love practicing my favorite Martial Art, {basic_string}'"
   ]
  },
  {
   "cell_type": "markdown",
   "metadata": {
    "id": "wlpMuwdmbui0"
   },
   "source": [
    "**Strings Can Use Triple Quotes to Wrap**"
   ]
  },
  {
   "cell_type": "code",
   "execution_count": 179,
   "metadata": {
    "colab": {
     "base_uri": "https://localhost:8080/",
     "height": 54
    },
    "id": "YWmNAWzqbT4k",
    "outputId": "bcbfb5bb-7fe1-4c50-df91-3deb8d5ceebb"
   },
   "outputs": [
    {
     "data": {
      "text/plain": [
       "'\\nThis phrase is multiple sentenances long.\\nThere phrase can be formatted like simpler sentances,\\nfor example, I can still talk about my favorite Martial Art Brazilian Jiu Jitsu-123\\n'"
      ]
     },
     "execution_count": 179,
     "metadata": {},
     "output_type": "execute_result"
    }
   ],
   "source": [
    "f\"\"\"\n",
    "This phrase is multiple sentenances long.\n",
    "There phrase can be formatted like simpler sentances,\n",
    "for example, I can still talk about my favorite Martial Art {basic_string}\n",
    "\"\"\""
   ]
  },
  {
   "cell_type": "markdown",
   "metadata": {
    "id": "mBuMTMQWb239"
   },
   "source": [
    "**Line Breaks Can Be Removed with Replace**\n",
    "\n",
    "The last long line contained line breaks, which are the **\\n** character, and they can be removed by using the replace method"
   ]
  },
  {
   "cell_type": "code",
   "execution_count": 180,
   "metadata": {
    "colab": {
     "base_uri": "https://localhost:8080/",
     "height": 54
    },
    "id": "K8AVf6Pibz3H",
    "outputId": "dad008f0-8a07-4c45-9d3e-96c6c6d55b80"
   },
   "outputs": [
    {
     "data": {
      "text/plain": [
       "'|This phrase is multiple sentenances long.|There phrase can be formatted like simpler sentances,|for example, I can still talk about my favorite Martial Art Brazilian Jiu Jitsu-123|'"
      ]
     },
     "execution_count": 180,
     "metadata": {},
     "output_type": "execute_result"
    }
   ],
   "source": [
    "f\"\"\"\n",
    "This phrase is multiple sentenances long.\n",
    "There phrase can be formatted like simpler sentances,\n",
    "for example, I can still talk about my favorite Martial Art {basic_string}\n",
    "\"\"\".replace(\"\\n\", \"|\")"
   ]
  },
  {
   "cell_type": "markdown",
   "metadata": {
    "id": "eRmipgSocZ9i"
   },
   "source": [
    "#### Numbers and Arithmetic Operations\n",
    "\n",
    "Python is also a built-in calculator. Without installing any additional libraries it can do many simple and complex arithmetic operations."
   ]
  },
  {
   "cell_type": "markdown",
   "metadata": {
    "id": "xd6LxgEXcgP8"
   },
   "source": [
    "**Adding and Subtracting Numbers**"
   ]
  },
  {
   "cell_type": "code",
   "execution_count": 181,
   "metadata": {
    "colab": {
     "base_uri": "https://localhost:8080/",
     "height": 34
    },
    "id": "mKwZGBoMb6_A",
    "outputId": "d9d86b3f-5c2d-4019-8380-430ab622d5fe"
   },
   "outputs": [
    {
     "name": "stdout",
     "output_type": "stream",
     "text": [
      "Two Steps Forward:  One Step Back = 1\n"
     ]
    }
   ],
   "source": [
    "steps = (1+1)-1\n",
    "print(f\"Two Steps Forward:  One Step Back = {steps}\")"
   ]
  },
  {
   "cell_type": "markdown",
   "metadata": {
    "id": "nMKS0ZYkdjvp"
   },
   "source": [
    "**Multiplication with Decimals**\n",
    "\n",
    "Can use float type to solve decimal problems"
   ]
  },
  {
   "cell_type": "code",
   "execution_count": 182,
   "metadata": {
    "colab": {
     "base_uri": "https://localhost:8080/",
     "height": 34
    },
    "id": "Xgrw0LDucinh",
    "outputId": "bbf89a19-6d0e-4d2a-b0c7-076f73dfeae7"
   },
   "outputs": [
    {
     "name": "stdout",
     "output_type": "stream",
     "text": [
      "I weight 200lbs, and 20.0lbs of that is fat\n"
     ]
    }
   ],
   "source": [
    "body_fat_percentage = 0.10\n",
    "weight = 200\n",
    "fat_total = body_fat_percentage * weight\n",
    "print(f\"I weight 200lbs, and {fat_total}lbs of that is fat\")"
   ]
  },
  {
   "cell_type": "markdown",
   "metadata": {
    "id": "gjMkBnuxiCQW"
   },
   "source": [
    "Can also use Decimal Library to set precision and deal with repeating decimal\n"
   ]
  },
  {
   "cell_type": "code",
   "execution_count": 183,
   "metadata": {
    "colab": {
     "base_uri": "https://localhost:8080/",
     "height": 34
    },
    "id": "GN_PYDuDiBHg",
    "outputId": "e4ffe66f-57f7-4642-93dc-5b2a5f279ac3"
   },
   "outputs": [
    {
     "data": {
      "text/plain": [
       "Decimal('0.333333')"
      ]
     },
     "execution_count": 183,
     "metadata": {},
     "output_type": "execute_result"
    }
   ],
   "source": [
    "from decimal import (Decimal, getcontext)\n",
    "\n",
    "getcontext().prec = 6\n",
    "Decimal(1)/Decimal(3)\n",
    "\n"
   ]
  },
  {
   "cell_type": "markdown",
   "metadata": {
    "id": "f1_B6OUrdxlU"
   },
   "source": [
    "**Using Exponents**\n",
    "\n",
    "Using the Python math library it is straightforward to call 2 to the 3rd power"
   ]
  },
  {
   "cell_type": "code",
   "execution_count": 184,
   "metadata": {
    "colab": {
     "base_uri": "https://localhost:8080/",
     "height": 34
    },
    "id": "Q2oC1HVhdmB9",
    "outputId": "5110d69c-1ac9-435f-e622-c829dacbecab"
   },
   "outputs": [
    {
     "data": {
      "text/plain": [
       "16.0"
      ]
     },
     "execution_count": 184,
     "metadata": {},
     "output_type": "execute_result"
    }
   ],
   "source": [
    "import math\n",
    "math.pow(2,4)"
   ]
  },
  {
   "cell_type": "markdown",
   "metadata": {
    "id": "nkPcDry7jWt-"
   },
   "source": [
    "Can also use built in exponent operator to accomplish same thing"
   ]
  },
  {
   "cell_type": "code",
   "execution_count": 185,
   "metadata": {
    "colab": {
     "base_uri": "https://localhost:8080/",
     "height": 34
    },
    "id": "9aV-R-DljXEj",
    "outputId": "5c315017-2a5f-4ea3-afaf-e5b04478cbf4"
   },
   "outputs": [
    {
     "data": {
      "text/plain": [
       "8"
      ]
     },
     "execution_count": 185,
     "metadata": {},
     "output_type": "execute_result"
    }
   ],
   "source": [
    "2**3"
   ]
  },
  {
   "cell_type": "code",
   "execution_count": 186,
   "metadata": {
    "colab": {
     "base_uri": "https://localhost:8080/",
     "height": 34
    },
    "id": "EOHXLdCU8R6i",
    "outputId": "2fbbca70-3d59-4737-d256-83925ace735e"
   },
   "outputs": [
    {
     "data": {
      "text/plain": [
       "16"
      ]
     },
     "execution_count": 186,
     "metadata": {},
     "output_type": "execute_result"
    }
   ],
   "source": [
    "2**4"
   ]
  },
  {
   "cell_type": "markdown",
   "metadata": {
    "id": "aYA_mApaI-Y7"
   },
   "source": [
    "this is regular multiplication"
   ]
  },
  {
   "cell_type": "code",
   "execution_count": 187,
   "metadata": {
    "colab": {
     "base_uri": "https://localhost:8080/",
     "height": 34
    },
    "id": "6A_Vdvl_I8lg",
    "outputId": "0decdece-bd94-4dcd-f172-1c06a3bef9ca"
   },
   "outputs": [
    {
     "data": {
      "text/plain": [
       "6"
      ]
     },
     "execution_count": 187,
     "metadata": {},
     "output_type": "execute_result"
    }
   ],
   "source": [
    "2*3"
   ]
  },
  {
   "cell_type": "markdown",
   "metadata": {
    "id": "P6gOf9qtd6Nt"
   },
   "source": [
    "**Converting Between different numerical types**\n",
    "\n",
    "There are many numerical forms to be aware of in Python.\n",
    "A couple of the most common are:\n",
    "\n",
    "* Integers\n",
    "* Floats"
   ]
  },
  {
   "cell_type": "code",
   "execution_count": 188,
   "metadata": {
    "colab": {
     "base_uri": "https://localhost:8080/",
     "height": 34
    },
    "id": "XCWg7yX-d210",
    "outputId": "d3247d47-06e5-480c-ee95-75a5bf87051d"
   },
   "outputs": [
    {
     "name": "stdout",
     "output_type": "stream",
     "text": [
      "100 is type [int]\n"
     ]
    }
   ],
   "source": [
    "number = 100\n",
    "num_type = type(number).__name__\n",
    "print(f\"{number} is type [{num_type}]\")"
   ]
  },
  {
   "cell_type": "code",
   "execution_count": 189,
   "metadata": {
    "colab": {
     "base_uri": "https://localhost:8080/",
     "height": 34
    },
    "id": "iW2f1Ik7eAzd",
    "outputId": "87097b0e-b417-4a72-f41c-c73b291c8963"
   },
   "outputs": [
    {
     "name": "stdout",
     "output_type": "stream",
     "text": [
      "100.0 is type [float]\n"
     ]
    }
   ],
   "source": [
    "number = float(100)\n",
    "num_type = type(number).__name__\n",
    "print(f\"{number} is type [{num_type}]\")"
   ]
  },
  {
   "cell_type": "code",
   "execution_count": 190,
   "metadata": {
    "colab": {
     "base_uri": "https://localhost:8080/",
     "height": 34
    },
    "id": "zrlLg22C6KbR",
    "outputId": "bbf61388-0cbb-4749-dc07-eebd223f9a35"
   },
   "outputs": [
    {
     "data": {
      "text/plain": [
       "float"
      ]
     },
     "execution_count": 190,
     "metadata": {},
     "output_type": "execute_result"
    }
   ],
   "source": [
    "num2 = 100.20\n",
    "type(num2)"
   ]
  },
  {
   "cell_type": "code",
   "execution_count": 191,
   "metadata": {
    "id": "5dnSfoXZFQuP"
   },
   "outputs": [],
   "source": [
    "class Foo:pass\n",
    "f = Foo()"
   ]
  },
  {
   "cell_type": "code",
   "execution_count": 192,
   "metadata": {
    "colab": {
     "base_uri": "https://localhost:8080/",
     "height": 34
    },
    "id": "44v5W-HdFU4J",
    "outputId": "8ee7ce84-2d53-4497-bba7-ddca3cc11b10"
   },
   "outputs": [
    {
     "data": {
      "text/plain": [
       "__main__.Foo"
      ]
     },
     "execution_count": 192,
     "metadata": {},
     "output_type": "execute_result"
    }
   ],
   "source": [
    "type(f)"
   ]
  },
  {
   "cell_type": "markdown",
   "metadata": {
    "id": "MrrFXb99gQ1Z"
   },
   "source": [
    "**Numbers can also be rounded**\n",
    "\n",
    "Python Built in round"
   ]
  },
  {
   "cell_type": "code",
   "execution_count": 193,
   "metadata": {
    "colab": {
     "base_uri": "https://localhost:8080/",
     "height": 34
    },
    "id": "Wjtnfol2iZDL",
    "outputId": "68cae531-7145-4c95-d801-26fd00815904"
   },
   "outputs": [
    {
     "data": {
      "text/plain": [
       "1.912346"
      ]
     },
     "execution_count": 193,
     "metadata": {},
     "output_type": "execute_result"
    }
   ],
   "source": [
    "too_many_decimals = 1.912345897\n",
    "round(too_many_decimals, 6)\n",
    "#get more info\n",
    "#round?"
   ]
  },
  {
   "cell_type": "markdown",
   "metadata": {
    "id": "SuJDUTLFWUJz"
   },
   "source": [
    "Numpy round"
   ]
  },
  {
   "cell_type": "code",
   "execution_count": 194,
   "metadata": {
    "colab": {
     "base_uri": "https://localhost:8080/",
     "height": 34
    },
    "id": "PEabuAGGWXIF",
    "outputId": "b070ae58-007d-48a7-db1b-c46195dd3f81"
   },
   "outputs": [
    {
     "data": {
      "text/plain": [
       "1.912346"
      ]
     },
     "execution_count": 194,
     "metadata": {},
     "output_type": "execute_result"
    }
   ],
   "source": [
    "import numpy as np\n",
    "np.round(too_many_decimals, 6)"
   ]
  },
  {
   "cell_type": "markdown",
   "metadata": {
    "id": "X3aHIe6qW8ab"
   },
   "source": [
    "Pandas round"
   ]
  },
  {
   "cell_type": "code",
   "execution_count": 195,
   "metadata": {
    "colab": {
     "base_uri": "https://localhost:8080/",
     "height": 80
    },
    "id": "J-x_sjiZW-gB",
    "outputId": "3837f9a2-aebd-472b-888b-5218edf60784"
   },
   "outputs": [
    {
     "data": {
      "text/html": [
       "<div>\n",
       "<style scoped>\n",
       "    .dataframe tbody tr th:only-of-type {\n",
       "        vertical-align: middle;\n",
       "    }\n",
       "\n",
       "    .dataframe tbody tr th {\n",
       "        vertical-align: top;\n",
       "    }\n",
       "\n",
       "    .dataframe thead th {\n",
       "        text-align: right;\n",
       "    }\n",
       "</style>\n",
       "<table border=\"1\" class=\"dataframe\">\n",
       "  <thead>\n",
       "    <tr style=\"text-align: right;\">\n",
       "      <th></th>\n",
       "      <th>A</th>\n",
       "    </tr>\n",
       "  </thead>\n",
       "  <tbody>\n",
       "    <tr>\n",
       "      <th>first</th>\n",
       "      <td>1.91</td>\n",
       "    </tr>\n",
       "  </tbody>\n",
       "</table>\n",
       "</div>"
      ],
      "text/plain": [
       "          A\n",
       "first  1.91"
      ]
     },
     "execution_count": 195,
     "metadata": {},
     "output_type": "execute_result"
    }
   ],
   "source": [
    "import pandas as pd\n",
    "df = pd.DataFrame([too_many_decimals], columns=[\"A\"], index=[\"first\"])\n",
    "df.round(2)\n"
   ]
  },
  {
   "cell_type": "markdown",
   "metadata": {
    "id": "elnncfa0XtOt"
   },
   "source": [
    "Simple benchmark of all three (**Python**, **numpy** and **Pandas** round):   using **%timeit**\n",
    "\n",
    "*Depending on what is getting rounded (i.e. a very large DataFrame, performance may very, so knowing how to benchmark performance is important with round) *\n"
   ]
  },
  {
   "cell_type": "code",
   "execution_count": 196,
   "metadata": {
    "colab": {
     "base_uri": "https://localhost:8080/",
     "height": 177
    },
    "id": "Yr1SXcF5Xw-L",
    "outputId": "987aed9e-a705-421f-8cc7-3ace4563a5dd"
   },
   "outputs": [
    {
     "name": "stdout",
     "output_type": "stream",
     "text": [
      "built in Python Round\n",
      "467 ns ± 12.9 ns per loop (mean ± std. dev. of 7 runs, 1000000 loops each)\n",
      "numpy round\n",
      "7.27 µs ± 117 ns per loop (mean ± std. dev. of 7 runs, 100000 loops each)\n",
      "Pandas DataFrame round\n",
      "677 µs ± 5.58 µs per loop (mean ± std. dev. of 7 runs, 1000 loops each)\n"
     ]
    }
   ],
   "source": [
    "print(\"built in Python Round\")\n",
    "%timeit round(too_many_decimals, 2)\n",
    "\n",
    "print(\"numpy round\")\n",
    "%timeit np.round(too_many_decimals, 2)\n",
    "\n",
    "print(\"Pandas DataFrame round\")\n",
    "%timeit df.round(2)"
   ]
  },
  {
   "cell_type": "markdown",
   "metadata": {
    "id": "CuJ2OPSZiewO"
   },
   "source": [
    "### Data Structures\n",
    "Python has a couple of core Data Structures that are used very frequently\n",
    "\n",
    "* Lists\n",
    "* Dictionaries\n",
    "\n",
    "Dictionaries and lists are the real workhorses of Python, but there are also other Data Structers like tuples, sets, Counters, etc, that are worth exploring too."
   ]
  },
  {
   "cell_type": "markdown",
   "metadata": {
    "id": "rYrg60aboNTc"
   },
   "source": [
    "#### Python Dictionaries\n",
    "\n",
    "The workhorse of Python datastructures"
   ]
  },
  {
   "cell_type": "markdown",
   "metadata": {
    "id": "TJgbX5wb7yHD"
   },
   "source": [
    "##### Creating Python Dictionaries\n",
    "\n",
    "Creating Python Dictionaries can be done with* brackets {}*"
   ]
  },
  {
   "cell_type": "code",
   "execution_count": 197,
   "metadata": {
    "id": "lPJxAjedZGGg"
   },
   "outputs": [],
   "source": [
    "#bad_dictionary = {[2]:\"one\"}"
   ]
  },
  {
   "cell_type": "code",
   "execution_count": 198,
   "metadata": {
    "id": "VtlC50y3GLam"
   },
   "outputs": [],
   "source": [
    "new_dictionary = {\"one\":1}"
   ]
  },
  {
   "cell_type": "code",
   "execution_count": 199,
   "metadata": {
    "colab": {
     "base_uri": "https://localhost:8080/",
     "height": 87
    },
    "id": "IEi6YTS2iZj7",
    "outputId": "abf25071-510d-4e48-944b-c97690e9ead3"
   },
   "outputs": [
    {
     "data": {
      "text/plain": [
       "{'armbar': 'upper_body',\n",
       " 'arm_triangle': 'upper_body',\n",
       " 'heel_hook': 'lower_body',\n",
       " 'knee_bar': 'lower_body'}"
      ]
     },
     "execution_count": 199,
     "metadata": {},
     "output_type": "execute_result"
    }
   ],
   "source": [
    "submissions = {\"armbar\": \"upper_body\",\n",
    "               \"arm_triangle\": \"upper_body\",\n",
    "               \"heel_hook\": \"lower_body\",\n",
    "               \"knee_bar\": \"lower_body\"}\n",
    "#type(submissions)\n",
    "#submissions.items?\n",
    "submissions"
   ]
  },
  {
   "cell_type": "code",
   "execution_count": 200,
   "metadata": {
    "colab": {
     "base_uri": "https://localhost:8080/",
     "height": 34
    },
    "id": "4guKbqgfink8",
    "outputId": "d3fae2a1-e64d-4c2f-e5d4-774611d993e5"
   },
   "outputs": [
    {
     "data": {
      "text/plain": [
       "{'upper_body': 'lower_body'}"
      ]
     },
     "execution_count": 200,
     "metadata": {},
     "output_type": "execute_result"
    }
   ],
   "source": [
    "new_dict =dict(upper_body=\"lower_body\")\n",
    "new_dict"
   ]
  },
  {
   "cell_type": "markdown",
   "metadata": {
    "id": "TjNRS-YOjYxw"
   },
   "source": [
    "##### Using Python Dictionaries\n",
    "A common dictionary usage pattern is to *iterate* on a dictionary by using the items method. In the example below the key and the value are printed:"
   ]
  },
  {
   "cell_type": "code",
   "execution_count": 201,
   "metadata": {
    "id": "oE1bzsiFGaOj"
   },
   "outputs": [],
   "source": [
    "#submissions.items?\n"
   ]
  },
  {
   "cell_type": "code",
   "execution_count": 202,
   "metadata": {
    "colab": {
     "base_uri": "https://localhost:8080/",
     "height": 87
    },
    "id": "kW1UR_yMi5bl",
    "outputId": "97e71f4f-dc8a-46c1-d04e-dd970670e9fd"
   },
   "outputs": [
    {
     "name": "stdout",
     "output_type": "stream",
     "text": [
      "The armbar is an attack on the upper_body\n",
      "The arm_triangle is an attack on the upper_body\n",
      "The heel_hook is an attack on the lower_body\n",
      "The knee_bar is an attack on the lower_body\n"
     ]
    }
   ],
   "source": [
    "for submission, body_part in submissions.items():\n",
    "    print(f\"The {submission} is an attack on the {body_part}\")"
   ]
  },
  {
   "cell_type": "markdown",
   "metadata": {
    "id": "5cue3xbzjfhF"
   },
   "source": [
    "Dictionaries can also be used to *filter*.  In the example below, only the submission attacks on the lower body are displayed:"
   ]
  },
  {
   "cell_type": "code",
   "execution_count": 203,
   "metadata": {
    "colab": {
     "base_uri": "https://localhost:8080/",
     "height": 87
    },
    "id": "c00Rxx84HAES",
    "outputId": "267e21d6-6225-46a3-de22-5cda10abba78"
   },
   "outputs": [
    {
     "name": "stdout",
     "output_type": "stream",
     "text": [
      "upper_body\n",
      "upper_body\n",
      "lower_body\n",
      "lower_body\n"
     ]
    }
   ],
   "source": [
    "for _, body_parts in submissions.items():\n",
    "  print(body_parts)"
   ]
  },
  {
   "cell_type": "code",
   "execution_count": 204,
   "metadata": {
    "colab": {
     "base_uri": "https://localhost:8080/",
     "height": 69
    },
    "id": "buIoEo_Ajc1-",
    "outputId": "61e5b2b9-0c95-449b-b890-6b521d620422"
   },
   "outputs": [
    {
     "name": "stdout",
     "output_type": "stream",
     "text": [
      "These are lower_body submission attacks in Brazilian Jiu Jitsu:\n",
      "heel_hook\n",
      "knee_bar\n"
     ]
    }
   ],
   "source": [
    "print(f\"These are lower_body submission attacks in Brazilian Jiu Jitsu:\")\n",
    "for submission, body_part in submissions.items():\n",
    "    if body_part == \"lower_body\":\n",
    "        print(submission)"
   ]
  },
  {
   "cell_type": "markdown",
   "metadata": {
    "id": "9jkR5VTHjsc2"
   },
   "source": [
    "Dictionary keys and values can also be selected with built in *keys() * and *values()* methods"
   ]
  },
  {
   "cell_type": "code",
   "execution_count": 205,
   "metadata": {
    "colab": {
     "base_uri": "https://localhost:8080/",
     "height": 52
    },
    "id": "SviUgzEfjjD-",
    "outputId": "2c55eaf6-eb0a-4e02-9a06-4356bf4da84c"
   },
   "outputs": [
    {
     "name": "stdout",
     "output_type": "stream",
     "text": [
      "These are keys: dict_keys(['armbar', 'arm_triangle', 'heel_hook', 'knee_bar'])\n",
      "These are values: dict_values(['upper_body', 'upper_body', 'lower_body', 'lower_body'])\n"
     ]
    }
   ],
   "source": [
    "print(f\"These are keys: {submissions.keys()}\")\n",
    "print(f\"These are values: {submissions.values()}\")"
   ]
  },
  {
   "cell_type": "markdown",
   "metadata": {
    "id": "sgPM6V_slmoy"
   },
   "source": [
    "Key lookup is very performant, and one of the most common ways to use a dictionary."
   ]
  },
  {
   "cell_type": "code",
   "execution_count": 206,
   "metadata": {
    "colab": {
     "base_uri": "https://localhost:8080/",
     "height": 34
    },
    "id": "lOn5k2kRmk4K",
    "outputId": "bf3e5261-fc77-44a9-fc01-281ba61d5520"
   },
   "outputs": [
    {
     "name": "stdout",
     "output_type": "stream",
     "text": [
      "found key\n"
     ]
    }
   ],
   "source": [
    "if \"armbar\" in submissions:\n",
    "  print(\"found key\")\n"
   ]
  },
  {
   "cell_type": "code",
   "execution_count": 207,
   "metadata": {
    "colab": {
     "base_uri": "https://localhost:8080/",
     "height": 89
    },
    "id": "ORI3ZxbqntAG",
    "outputId": "230d438f-2ff7-44f8-e9c2-7868404befb2"
   },
   "outputs": [
    {
     "name": "stdout",
     "output_type": "stream",
     "text": [
      "timing key membership\n",
      "36.1 ns ± 0.233 ns per loop (mean ± std. dev. of 7 runs, 10000000 loops each)\n"
     ]
    }
   ],
   "source": [
    "print(\"timing key membership\")\n",
    "%timeit if \"armbar\" in submissions: pass"
   ]
  },
  {
   "cell_type": "markdown",
   "metadata": {
    "id": "IyHkox1Rj66y"
   },
   "source": [
    "#### Python Lists\n",
    "\n",
    "Lists are also very commonly used in Python. They allow for sequential collections. Lists can hold dictionaries, just as dictionaries can hold lists."
   ]
  },
  {
   "cell_type": "markdown",
   "metadata": {
    "id": "Xo7IMK567yHQ"
   },
   "source": [
    "##### Creating Lists\n",
    "\n",
    "One way to create lists is with *[] syntax*"
   ]
  },
  {
   "cell_type": "code",
   "execution_count": 208,
   "metadata": {
    "id": "MI-S0FStj1o4"
   },
   "outputs": [],
   "source": [
    "list_of_bjj_positions = [\"mount\", \"full-guard\", \"half-guard\",\n",
    "                         \"turtle\", \"side-control\", \"rear-mount\",\n",
    "                         \"knee-on-belly\", \"north-south\", \"open-guard\"]"
   ]
  },
  {
   "cell_type": "markdown",
   "metadata": {
    "id": "WUgrRDDsoobr"
   },
   "source": [
    "Another method os creating lists is with built in *list()* method\n"
   ]
  },
  {
   "cell_type": "code",
   "execution_count": 209,
   "metadata": {
    "colab": {
     "base_uri": "https://localhost:8080/",
     "height": 34
    },
    "id": "o-3IP2FOw9yi",
    "outputId": "3acc65b0-36af-4c18-d3fa-ce5d1b38e372"
   },
   "outputs": [
    {
     "data": {
      "text/plain": [
       "['side-control', 'mount']"
      ]
     },
     "execution_count": 209,
     "metadata": {},
     "output_type": "execute_result"
    }
   ],
   "source": [
    "bjj_dominant_positions = list()\n",
    "bjj_dominant_positions.append(\"side-control\")\n",
    "bjj_dominant_positions.append(\"mount\")\n",
    "bjj_dominant_positions\n"
   ]
  },
  {
   "cell_type": "markdown",
   "metadata": {
    "id": "i1gjso964T1T"
   },
   "source": [
    "Yet another way, very performant way to create lists is to use list comprehension syntax"
   ]
  },
  {
   "cell_type": "code",
   "execution_count": 210,
   "metadata": {
    "colab": {
     "base_uri": "https://localhost:8080/",
     "height": 34
    },
    "id": "QeQt8XD_4T-D",
    "outputId": "509e2669-f5e3-4597-b6b0-7c819132d431"
   },
   "outputs": [
    {
     "data": {
      "text/plain": [
       "['full-guard', ' half-guard', ' open-guard']"
      ]
     },
     "execution_count": 210,
     "metadata": {},
     "output_type": "execute_result"
    }
   ],
   "source": [
    "guards = \"full, half, open\"\n",
    "guard_list = [f\"{guard}-guard\" for guard in guards.split(\",\")]\n",
    "guard_list\n"
   ]
  },
  {
   "cell_type": "markdown",
   "metadata": {
    "id": "CBDIYoFB7yHS"
   },
   "source": [
    "##### Using Lists\n",
    "\n",
    "For loops are one of the simplist ways to use a list."
   ]
  },
  {
   "cell_type": "code",
   "execution_count": 211,
   "metadata": {
    "colab": {
     "base_uri": "https://localhost:8080/",
     "height": 34
    },
    "id": "EoFWVpKYj94o",
    "outputId": "b2c1bf0d-c14a-4279-cf42-6417156e0145"
   },
   "outputs": [
    {
     "name": "stdout",
     "output_type": "stream",
     "text": [
      "open-guard\n"
     ]
    }
   ],
   "source": [
    "for position in list_of_bjj_positions:\n",
    "    if \"open\" in position: #explore on your own \"guard\"\n",
    "        print(position)"
   ]
  },
  {
   "cell_type": "markdown",
   "metadata": {
    "id": "YAMxQJobkCy8"
   },
   "source": [
    "Lists can also be used to select elements by slicing."
   ]
  },
  {
   "cell_type": "code",
   "execution_count": 212,
   "metadata": {
    "colab": {
     "base_uri": "https://localhost:8080/",
     "height": 69
    },
    "id": "Zi6PKsRIkAl_",
    "outputId": "cd374704-dc04-4de1-d0e9-21ca3df11570"
   },
   "outputs": [
    {
     "name": "stdout",
     "output_type": "stream",
     "text": [
      "First position: ['mount']\n",
      "Last position: ['open-guard']\n",
      "First three positions: ['mount', 'full-guard', 'half-guard']\n"
     ]
    }
   ],
   "source": [
    "print(f'First position: {list_of_bjj_positions[:1]}')\n",
    "print(f'Last position: {list_of_bjj_positions[-1:]}')\n",
    "print(f'First three positions: {list_of_bjj_positions[0:3]}')"
   ]
  },
  {
   "cell_type": "markdown",
   "metadata": {
    "id": "XgxwgI1I7Ex3"
   },
   "source": [
    "Lists can also be used to unpack powerful, succinct statements when used with built-in functions like zip.\n"
   ]
  },
  {
   "cell_type": "code",
   "execution_count": 213,
   "metadata": {
    "colab": {
     "base_uri": "https://localhost:8080/",
     "height": 87
    },
    "id": "nkaMbTx77ddw",
    "outputId": "acb769f6-865d-4846-bd6e-009553d38dfd"
   },
   "outputs": [
    {
     "data": {
      "text/plain": [
       "[('dominant', 'neutral', 'weak'),\n",
       " ('top-mount', 'open-guard', 'turtle'),\n",
       " ('back-mount', 'full-guard', 'bottom-back-mount'),\n",
       " ('side-control', 'standing', 'bottom-mount')]"
      ]
     },
     "execution_count": 213,
     "metadata": {},
     "output_type": "execute_result"
    }
   ],
   "source": [
    "bjj_position_matrix = [\n",
    "    [\"dominant\", \"top-mount\", \"back-mount\", \"side-control\"],\n",
    "    [\"neutral\", \"open-guard\", \"full-guard\", \"standing\"],\n",
    "    [\"weak\", \"turtle\", \"bottom-back-mount\", \"bottom-mount\"]\n",
    "]\n",
    "list(zip(*bjj_position_matrix))"
   ]
  },
  {
   "cell_type": "code",
   "execution_count": 214,
   "metadata": {
    "id": "9ZA34gKvCi39"
   },
   "outputs": [],
   "source": [
    "zip?"
   ]
  },
  {
   "cell_type": "markdown",
   "metadata": {
    "id": "YXalviiD7yHZ"
   },
   "source": [
    "#### Python Sets\n",
    "\n",
    "Sets are unordered unique collections"
   ]
  },
  {
   "cell_type": "markdown",
   "metadata": {
    "id": "1y5ahhJ699Gp"
   },
   "source": [
    "##### Creating Python Sets\n",
    "\n",
    "Sets can be created by using built-in *sets()* method\n"
   ]
  },
  {
   "cell_type": "code",
   "execution_count": 215,
   "metadata": {
    "colab": {
     "base_uri": "https://localhost:8080/",
     "height": 52
    },
    "id": "ZT4d5Dxw9V4X",
    "outputId": "37cd69e0-c0c1-49bf-b54b-8dfdfedff06a"
   },
   "outputs": [
    {
     "name": "stdout",
     "output_type": "stream",
     "text": [
      "<class 'set'>\n"
     ]
    },
    {
     "data": {
      "text/plain": [
       "{'armbar', 'kimura'}"
      ]
     },
     "execution_count": 215,
     "metadata": {},
     "output_type": "execute_result"
    }
   ],
   "source": [
    "unique_attacks = set((\"armbar\",\"armbar\", \"armbar\", \"kimura\", \"kimura\"))\n",
    "print(type(unique_attacks))\n",
    "unique_attacks"
   ]
  },
  {
   "cell_type": "markdown",
   "metadata": {
    "id": "Kj_JgH317yHZ"
   },
   "source": [
    "##### Using Sets\n",
    "\n",
    "One of the most powerful ways to use sets is to find the differences between to collections"
   ]
  },
  {
   "cell_type": "code",
   "execution_count": 216,
   "metadata": {
    "colab": {
     "base_uri": "https://localhost:8080/",
     "height": 34
    },
    "id": "zbAUyYgk_c0s",
    "outputId": "c967f1bc-fea3-4275-9801-c3b2f82d8f05"
   },
   "outputs": [
    {
     "name": "stdout",
     "output_type": "stream",
     "text": [
      "Unique Set One Attacks {'armbar', 'kimura'}\n"
     ]
    }
   ],
   "source": [
    "attacks_set_one = set((\"armbar\", \"kimura\", \"heal-hook\"))\n",
    "attacks_set_two = set((\"toe-hold\", \"knee-bar\", \"heal-hook\"))\n",
    "unique_set_one_attacks = attacks_set_one - attacks_set_two\n",
    "print(f\"Unique Set One Attacks {unique_set_one_attacks}\")\n"
   ]
  },
  {
   "cell_type": "markdown",
   "metadata": {
    "id": "ZTmBkJG0Xud_"
   },
   "source": [
    "Question:  \n",
    "\n",
    "Q: set() is used to select unique values. what is its performance for a deep learning large data sets. in large data sets, if set() is not performant enough, what are the alternatives?"
   ]
  },
  {
   "cell_type": "markdown",
   "metadata": {
    "id": "fdm3kA-Fo4pI"
   },
   "source": [
    "### Can you Return random attacks without repeating?\n",
    "\n"
   ]
  },
  {
   "cell_type": "markdown",
   "metadata": {
    "id": "btp0LY4U5fhY"
   },
   "source": [
    "* keep track of previous calls and run random again if it finds a previous\n",
    "\n",
    "```\n",
    "def lazy_return_random_attacks():\n",
    "    \"\"\"Yield attacks each time\"\"\"\n",
    "    import random\n",
    "    attacks = {\"kimura\": \"upper_body\",\n",
    "           \"straight_ankle_lock\":\"lower_body\",\n",
    "           \"arm_triangle\":\"upper_body\",\n",
    "            \"keylock\": \"upper_body\",\n",
    "            \"knee_bar\": \"lower_body\"}\n",
    "    while True:\n",
    "        random_attack = random.choices(list(attacks.keys()))\n",
    "        yield random_attack\n",
    "        \n",
    "```\n",
    "\n",
    "pseudo code:  if attack in previous_attacks:\n",
    "                              ...new random\n",
    "                          random_attack    "
   ]
  },
  {
   "cell_type": "code",
   "execution_count": 217,
   "metadata": {
    "colab": {
     "base_uri": "https://localhost:8080/",
     "height": 34
    },
    "id": "jTj3ny5vo8GN",
    "outputId": "fcc7db55-7d83-4807-dd58-a2f9585549a5"
   },
   "outputs": [
    {
     "data": {
      "text/plain": [
       "[1, 2, 3]"
      ]
     },
     "execution_count": 217,
     "metadata": {},
     "output_type": "execute_result"
    }
   ],
   "source": [
    "def func():\n",
    "  l = [1,2,3]\n",
    "  return l\n",
    "func()\n"
   ]
  },
  {
   "cell_type": "code",
   "execution_count": 218,
   "metadata": {
    "id": "uLKSr48YKgSR"
   },
   "outputs": [],
   "source": [
    "def lazy_func():\n",
    "  l = [1,2,3]\n",
    "  for item in l:\n",
    "    yield item\n",
    "gen = lazy_func()"
   ]
  },
  {
   "cell_type": "code",
   "execution_count": 219,
   "metadata": {
    "colab": {
     "base_uri": "https://localhost:8080/",
     "height": 166
    },
    "id": "G4mJZ3TnKmbd",
    "outputId": "ed742705-ba31-42bf-8415-0cfb1c165866"
   },
   "outputs": [
    {
     "data": {
      "text/plain": [
       "1"
      ]
     },
     "execution_count": 219,
     "metadata": {},
     "output_type": "execute_result"
    }
   ],
   "source": [
    "next(gen)"
   ]
  },
  {
   "cell_type": "code",
   "execution_count": null,
   "metadata": {
    "id": "2IoYYSGXKsnR"
   },
   "outputs": [],
   "source": []
  },
  {
   "cell_type": "markdown",
   "metadata": {
    "id": "EO5CzCfH5ejj"
   },
   "source": []
  },
  {
   "cell_type": "code",
   "execution_count": 220,
   "metadata": {
    "colab": {
     "base_uri": "https://localhost:8080/",
     "height": 52
    },
    "id": "2Q_zzw-nXHWE",
    "outputId": "8a78d301-8ed9-4bdb-9ebe-48bebc39d752"
   },
   "outputs": [
    {
     "name": "stdout",
     "output_type": "stream",
     "text": [
      "apple\n",
      "1\n"
     ]
    }
   ],
   "source": [
    "def myfunc():\n",
    "  return \"apple\"\n",
    "\n",
    "def myfunc2():\n",
    "  return 1\n",
    "\n",
    "print(myfunc())\n",
    "print(myfunc2())\n"
   ]
  },
  {
   "cell_type": "code",
   "execution_count": 221,
   "metadata": {
    "colab": {
     "base_uri": "https://localhost:8080/",
     "height": 132
    },
    "id": "B-gzLbJfXnuf",
    "outputId": "24b7af1d-83cb-4bce-b312-1ee806974ea1"
   },
   "outputs": [],
   "source": [
    "def practise(times):\n",
    "    print(f\"I like to exercise {times} a day\")"
   ]
  }
 ],
 "metadata": {
  "colab": {
   "collapsed_sections": [
    "Lgxm56T_u38j",
    "0kmgxW7Sxa6j",
    "kn-P-e_hjvK5",
    "10NtU6hV4nT6",
    "fdm3kA-Fo4pI",
    "Y_pr0ArieP7-",
    "P3xpdAnD3aqo",
    "5Kh5LRGT4CA1",
    "N9zJtAd5K8AK",
    "378G9oDxLd7J"
   ],
   "machine_shape": "hm",
   "provenance": [],
   "toc_visible": true
  },
  "kernelspec": {
   "display_name": "Python 3",
   "language": "python",
   "name": "python3"
  },
  "language_info": {
   "codemirror_mode": {
    "name": "ipython",
    "version": 3
   },
   "file_extension": ".py",
   "mimetype": "text/x-python",
   "name": "python",
   "nbconvert_exporter": "python",
   "pygments_lexer": "ipython3",
   "version": "3.7.6"
  }
 },
 "nbformat": 4,
 "nbformat_minor": 1
}
