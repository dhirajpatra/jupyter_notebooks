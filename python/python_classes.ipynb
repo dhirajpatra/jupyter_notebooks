{
 "cells": [
  {
   "cell_type": "markdown",
   "metadata": {
    "id": "wQIK5-fWGir3"
   },
   "source": [
    "### Understanding Python Classes\n",
    "\n"
   ]
  },
  {
   "cell_type": "markdown",
   "metadata": {
    "id": "rMA9KJbaG1T2"
   },
   "source": [
    "#### Differences Between Classes and Functions\n",
    "The key differences between Classes and Functions are:\n",
    "\n",
    "* Functions are much easier to reason about\n",
    "* Functions (typically) have state inside the function only, where classes have state persists outside of the function\n",
    "* Classes can offer a more advanced level of abstraction at the cost of complexity"
   ]
  },
  {
   "cell_type": "markdown",
   "metadata": {
    "id": "9DsnmUoyHGzx"
   },
   "source": [
    "#### Creating an empty Class\n",
    "Using classes and interacting with them can be done iteratively in Jupyter Notebook.\n",
    "The simplest type of class is just a name as shown below:\n",
    "```\n",
    "class Competitor: pass\n",
    "```\n",
    "But, that class can be instantiated into multiple objects"
   ]
  },
  {
   "cell_type": "code",
   "execution_count": 1,
   "metadata": {
    "id": "sNXweYZZHOhS"
   },
   "outputs": [],
   "source": [
    "class Competitor: pass"
   ]
  },
  {
   "cell_type": "markdown",
   "metadata": {
    "id": "7bNTtyGvHh7E"
   },
   "source": [
    "#### Setting Attributes on an Object"
   ]
  },
  {
   "cell_type": "code",
   "execution_count": 2,
   "metadata": {
    "colab": {
     "base_uri": "https://localhost:8080/",
     "height": 34
    },
    "id": "u6WPt43tHkji",
    "outputId": "66723ff4-b028-46bb-a913-b2ccef88030b"
   },
   "outputs": [
    {
     "data": {
      "text/plain": [
       "{'name': 'Conor McGregor', 'age': 29, 'weight': 155}"
      ]
     },
     "execution_count": 2,
     "metadata": {},
     "output_type": "execute_result"
    }
   ],
   "source": [
    "conor = Competitor()\n",
    "conor.name = \"Conor McGregor\"\n",
    "conor.age = 29\n",
    "conor.weight = 155\n",
    "\n",
    "conor.__dict__\n"
   ]
  },
  {
   "cell_type": "code",
   "execution_count": 3,
   "metadata": {
    "colab": {
     "base_uri": "https://localhost:8080/",
     "height": 34
    },
    "id": "AKMUUCnAHmM1",
    "outputId": "9ea6015c-d18d-4488-f015-5c3b8e09ecc4"
   },
   "outputs": [
    {
     "data": {
      "text/plain": [
       "{'name': 'Nate Diaz', 'age': 30, 'weight': 170}"
      ]
     },
     "execution_count": 3,
     "metadata": {},
     "output_type": "execute_result"
    }
   ],
   "source": [
    "nate = Competitor()\n",
    "nate.name = \"Nate Diaz\"\n",
    "nate.age = 30\n",
    "nate.weight = 170\n",
    "nate.__dict__"
   ]
  },
  {
   "cell_type": "markdown",
   "metadata": {
    "id": "jzJzVnWDHo2A"
   },
   "source": [
    "#### Interacting with Objects"
   ]
  },
  {
   "cell_type": "code",
   "execution_count": 4,
   "metadata": {
    "id": "kB2B-OQ7IGZD"
   },
   "outputs": [],
   "source": [
    "def print_competitor_age(object):\n",
    "    \"\"\"Print out age statistics about a competitor\"\"\"\n",
    "\n",
    "    print(f\"{object.name} is {object.age} years old\")"
   ]
  },
  {
   "cell_type": "code",
   "execution_count": 5,
   "metadata": {
    "colab": {
     "base_uri": "https://localhost:8080/",
     "height": 34
    },
    "id": "oQKDLcVGIGoh",
    "outputId": "6ba58ec1-a5af-4a76-a604-d54e9b007f89"
   },
   "outputs": [
    {
     "name": "stdout",
     "output_type": "stream",
     "text": [
      "Nate Diaz is 30 years old\n"
     ]
    }
   ],
   "source": [
    "print_competitor_age(nate)"
   ]
  },
  {
   "cell_type": "code",
   "execution_count": 6,
   "metadata": {
    "colab": {
     "base_uri": "https://localhost:8080/",
     "height": 34
    },
    "id": "Ka-LFYJ1IG0e",
    "outputId": "7c17d3db-d594-49d5-e1d8-bec6e1008b63"
   },
   "outputs": [
    {
     "name": "stdout",
     "output_type": "stream",
     "text": [
      "Conor McGregor is 29 years old\n"
     ]
    }
   ],
   "source": [
    "print_competitor_age(conor)"
   ]
  },
  {
   "cell_type": "markdown",
   "metadata": {
    "id": "yplytoRKI8pA"
   },
   "source": [
    "#### Understanding Inheritance\n",
    "Classes can also inhert from other classes including methods.\n",
    "Often inheritance can be complex and a rule of thumb is to use discretion.\n",
    "\n",
    "In the example below, a UFC class was created that has a method (similar to a function), that can determine what weight class an athlete belongs to.  Then the Competitor class uses \"inheritance\", to inhert the code in the class."
   ]
  },
  {
   "cell_type": "markdown",
   "metadata": {
    "id": "jJ2j1P-XJDVi"
   },
   "source": [
    "##### Using Inheritance"
   ]
  },
  {
   "cell_type": "code",
   "execution_count": 7,
   "metadata": {
    "id": "hIzHGW2SJI0-"
   },
   "outputs": [],
   "source": [
    "class UFC:\n",
    "    def weight_class(self, weight):\n",
    "        \"\"\"Weight Class Finder\"\"\"\n",
    "\n",
    "        classes = {155: \"Lightweight\",\n",
    "                    170: \"Welterweight\"}\n",
    "        return classes[weight]\n",
    "\n"
   ]
  },
  {
   "cell_type": "code",
   "execution_count": 8,
   "metadata": {
    "id": "YTuU3nhaJLZR"
   },
   "outputs": [],
   "source": [
    "class Competitor(UFC): pass"
   ]
  },
  {
   "cell_type": "code",
   "execution_count": 9,
   "metadata": {
    "id": "MBqX0yAVJN_D"
   },
   "outputs": [],
   "source": [
    "conor = Competitor()\n",
    "conor.name = \"Conor McGregor\"\n",
    "conor.age = 29\n",
    "conor.weight = 155\n"
   ]
  },
  {
   "cell_type": "code",
   "execution_count": 10,
   "metadata": {
    "id": "ELf_GcPRJPWF"
   },
   "outputs": [],
   "source": [
    "nate = Competitor()\n",
    "nate.name = \"Nate Diaz\"\n",
    "nate.age = 30\n",
    "nate.weight = 170\n"
   ]
  },
  {
   "cell_type": "code",
   "execution_count": 11,
   "metadata": {
    "id": "3g-obU6iR49h"
   },
   "outputs": [
    {
     "data": {
      "text/plain": [
       "<bound method UFC.weight_class of <__main__.Competitor object at 0x76f800257810>>"
      ]
     },
     "execution_count": 11,
     "metadata": {},
     "output_type": "execute_result"
    }
   ],
   "source": [
    "conor.weight_class"
   ]
  },
  {
   "cell_type": "markdown",
   "metadata": {
    "id": "Uqkx_uN3JQxV"
   },
   "source": [
    "##### Using inherited methods from Parent Class"
   ]
  },
  {
   "cell_type": "code",
   "execution_count": 12,
   "metadata": {
    "colab": {
     "base_uri": "https://localhost:8080/",
     "height": 34
    },
    "id": "h4G1XdjkJW1v",
    "outputId": "e34bc0d5-d67b-4511-a289-65e8e6bbca41"
   },
   "outputs": [
    {
     "name": "stdout",
     "output_type": "stream",
     "text": [
      "Lightweight\n"
     ]
    }
   ],
   "source": [
    "print(conor.weight_class(conor.weight))"
   ]
  },
  {
   "cell_type": "code",
   "execution_count": 13,
   "metadata": {
    "colab": {
     "base_uri": "https://localhost:8080/",
     "height": 34
    },
    "id": "KFgfFCMhJYYf",
    "outputId": "694c7f9e-01d5-467d-f8b5-d966cc981817"
   },
   "outputs": [
    {
     "name": "stdout",
     "output_type": "stream",
     "text": [
      "Welterweight\n"
     ]
    }
   ],
   "source": [
    "print(nate.weight_class(nate.weight))"
   ]
  },
  {
   "cell_type": "markdown",
   "metadata": {
    "id": "PEKWYhudJv_x"
   },
   "source": [
    "#### Using Multiple Inheritance\n",
    "\n",
    "Multiple Inheritance is inheriting more than one class"
   ]
  },
  {
   "cell_type": "code",
   "execution_count": 14,
   "metadata": {
    "id": "U34Ti24hJ7Sk"
   },
   "outputs": [],
   "source": [
    "class MMA:\n",
    "  def org(self, org_name):\n",
    "      orgs = {\"UFC\": \"Ultimate Fighting Championship\",\n",
    "          \"Bellator\":  \"MMA promotion in Santa Monica, California.\"}\n",
    "      return orgs[org_name]"
   ]
  },
  {
   "cell_type": "code",
   "execution_count": 15,
   "metadata": {
    "id": "WELqXQNfJ86w"
   },
   "outputs": [],
   "source": [
    "class CompetitorAll(UFC, MMA):pass"
   ]
  },
  {
   "cell_type": "code",
   "execution_count": 16,
   "metadata": {
    "colab": {
     "base_uri": "https://localhost:8080/",
     "height": 54
    },
    "id": "CZHnhEmIJ_Qr",
    "outputId": "0aa2a4d1-29a1-4851-f68c-8ca3f999e044"
   },
   "outputs": [
    {
     "name": "stdout",
     "output_type": "stream",
     "text": [
      "GSP is the G.O.A.T in the Welterweight division of the Ultimate Fighting Championship\n"
     ]
    }
   ],
   "source": [
    "gsp = CompetitorAll()\n",
    "gsp.name = \"GSP\"\n",
    "gsp.age = 27\n",
    "gsp.weight = 170\n",
    "print(f'{gsp.name} is the G.O.A.T in the {gsp.weight_class(gsp.weight)} division of the {gsp.org(\"UFC\")}')"
   ]
  },
  {
   "cell_type": "markdown",
   "metadata": {
    "id": "srx3voPVKPop"
   },
   "source": [
    "#### Interacting with Special Class Methods and Other Class Techniques\n",
    "\n",
    "Class special methods have the signature ```__method__```:\n",
    "\n",
    "Examples include\n",
    "```\n",
    "__len__\n",
    "__call__\n",
    "__equal__\n",
    "\n",
    "```"
   ]
  },
  {
   "cell_type": "code",
   "execution_count": 17,
   "metadata": {
    "colab": {
     "base_uri": "https://localhost:8080/",
     "height": 34
    },
    "id": "Uzzr1EhLxUnP",
    "outputId": "ad9218ce-b4a2-432d-feba-11e3f5fd16b9"
   },
   "outputs": [
    {
     "data": {
      "text/plain": [
       "2"
      ]
     },
     "execution_count": 17,
     "metadata": {},
     "output_type": "execute_result"
    }
   ],
   "source": [
    "l = [1,2]\n",
    "len(l)\n",
    "#class Foo:pass\n",
    "#f = Foo()\n",
    "#len(f)"
   ]
  },
  {
   "cell_type": "code",
   "execution_count": 18,
   "metadata": {
    "colab": {
     "base_uri": "https://localhost:8080/",
     "height": 34
    },
    "id": "IJ48YIJUKoYz",
    "outputId": "a63c8e38-fe41-4d56-809e-a13b3ed75f8d"
   },
   "outputs": [
    {
     "data": {
      "text/plain": [
       "84"
      ]
     },
     "execution_count": 18,
     "metadata": {},
     "output_type": "execute_result"
    }
   ],
   "source": [
    "class JonJones:\n",
    "  \"\"\"Jon Jones class with customized length\"\"\"\n",
    "\n",
    "  def __len__(self):\n",
    "    return 84\n",
    "\n",
    "jon_jones = JonJones()\n",
    "len(jon_jones)"
   ]
  },
  {
   "cell_type": "code",
   "execution_count": 19,
   "metadata": {
    "id": "bqGdWZB3UEos"
   },
   "outputs": [
    {
     "ename": "TypeError",
     "evalue": "object of type 'foo' has no len()",
     "output_type": "error",
     "traceback": [
      "\u001b[0;31m---------------------------------------------------------------------------\u001b[0m",
      "\u001b[0;31mTypeError\u001b[0m                                 Traceback (most recent call last)",
      "\u001b[0;32m<ipython-input-19-f0f0529fb27b>\u001b[0m in \u001b[0;36m<module>\u001b[0;34m\u001b[0m\n\u001b[1;32m      2\u001b[0m \u001b[0mf\u001b[0m \u001b[0;34m=\u001b[0m \u001b[0mfoo\u001b[0m\u001b[0;34m(\u001b[0m\u001b[0;34m)\u001b[0m\u001b[0;34m\u001b[0m\u001b[0;34m\u001b[0m\u001b[0m\n\u001b[1;32m      3\u001b[0m \u001b[0mf\u001b[0m\u001b[0;34m.\u001b[0m\u001b[0mred\u001b[0m \u001b[0;34m=\u001b[0m \u001b[0;34m\"red\"\u001b[0m\u001b[0;34m\u001b[0m\u001b[0;34m\u001b[0m\u001b[0m\n\u001b[0;32m----> 4\u001b[0;31m \u001b[0mlen\u001b[0m\u001b[0;34m(\u001b[0m\u001b[0mf\u001b[0m\u001b[0;34m)\u001b[0m\u001b[0;34m\u001b[0m\u001b[0;34m\u001b[0m\u001b[0m\n\u001b[0m",
      "\u001b[0;31mTypeError\u001b[0m: object of type 'foo' has no len()"
     ]
    }
   ],
   "source": [
    "class foo():pass\n",
    "f = foo()\n",
    "f.red = \"red\"\n",
    "len(f)"
   ]
  },
  {
   "cell_type": "markdown",
   "metadata": {
    "id": "tbTyE8mrKvcj"
   },
   "source": [
    "@property decorator is a shortcut for creating a read only property"
   ]
  },
  {
   "cell_type": "code",
   "execution_count": 20,
   "metadata": {
    "colab": {
     "base_uri": "https://localhost:8080/",
     "height": 34
    },
    "id": "QtQiqN9JKq_X",
    "outputId": "d268e0e2-b61e-44d3-ff58-c548062cc384"
   },
   "outputs": [
    {
     "data": {
      "text/plain": [
       "85"
      ]
     },
     "execution_count": 20,
     "metadata": {},
     "output_type": "execute_result"
    }
   ],
   "source": [
    "class JonJones:\n",
    "  \"\"\"Jon Jones class with read only property\"\"\"\n",
    "\n",
    "  @property\n",
    "  def reach(self):\n",
    "    return 84\n",
    "\n",
    "jon_jones = JonJones()\n",
    "jon_jones.reach\n",
    "#jon_jones.reach = 85 #cannot set\n",
    "jon_jones.length = 85\n",
    "jon_jones.length"
   ]
  },
  {
   "cell_type": "markdown",
   "metadata": {
    "id": "grcojpMOKyao"
   },
   "source": [
    "@staticmethod bolts a function onto a class"
   ]
  },
  {
   "cell_type": "code",
   "execution_count": 21,
   "metadata": {
    "colab": {
     "base_uri": "https://localhost:8080/",
     "height": 34
    },
    "id": "vctQpjK-K0AE",
    "outputId": "56af6d93-37a1-4af4-e3cd-93275c1f33bf"
   },
   "outputs": [
    {
     "data": {
      "text/plain": [
       "84"
      ]
     },
     "execution_count": 21,
     "metadata": {},
     "output_type": "execute_result"
    }
   ],
   "source": [
    "class JonJones:\n",
    "  \"\"\"Jon Jones Class with 'bolt-on' reach method\n",
    "  self isn't needed\n",
    "  \"\"\"\n",
    "\n",
    "  @staticmethod\n",
    "  def reach():\n",
    "    return 84\n",
    "\n",
    "jon_jones =JonJones()\n",
    "jon_jones.reach()"
   ]
  },
  {
   "cell_type": "markdown",
   "metadata": {
    "id": "dhabI3o_dWd7"
   },
   "source": [
    "#### Immutability concepts with Objects"
   ]
  },
  {
   "cell_type": "code",
   "execution_count": null,
   "metadata": {
    "id": "8S3WDMvVdJaz"
   },
   "outputs": [],
   "source": [
    "class Foo:\n",
    "\n",
    "  @property\n",
    "  def unbreakable(self):\n",
    "    return \"David\"\n",
    "\n"
   ]
  },
  {
   "cell_type": "code",
   "execution_count": null,
   "metadata": {
    "colab": {
     "base_uri": "https://localhost:8080/",
     "height": 34
    },
    "id": "xpR4L8XVdd1Q",
    "outputId": "b179fe82-e8d2-45df-83cd-1fca13d932c5"
   },
   "outputs": [
    {
     "data": {
      "text/plain": [
       "'David'"
      ]
     },
     "execution_count": 34,
     "metadata": {
      "tags": []
     },
     "output_type": "execute_result"
    }
   ],
   "source": [
    "foo = Foo()\n",
    "foo.unbreakable"
   ]
  },
  {
   "cell_type": "code",
   "execution_count": null,
   "metadata": {
    "id": "GZwabNvndsCs"
   },
   "outputs": [],
   "source": [
    "foo.not_unbreakable = \"Elijah2\""
   ]
  },
  {
   "cell_type": "markdown",
   "metadata": {
    "id": "VuSZ9Y49egiO"
   },
   "source": [
    "@property acts like an read only attribute, but it isn't"
   ]
  },
  {
   "cell_type": "code",
   "execution_count": null,
   "metadata": {
    "colab": {
     "base_uri": "https://localhost:8080/",
     "height": 34
    },
    "id": "A4yseU7fecuW",
    "outputId": "ffb18d66-c00b-45e0-9214-531cb5065c18"
   },
   "outputs": [
    {
     "data": {
      "text/plain": [
       "{'not_unbreakable': 'Elijah2'}"
      ]
     },
     "execution_count": 36,
     "metadata": {
      "tags": []
     },
     "output_type": "execute_result"
    }
   ],
   "source": [
    "foo.__dict__"
   ]
  },
  {
   "cell_type": "markdown",
   "metadata": {
    "id": "DmLJWuUtfE2-"
   },
   "source": [
    "You can change an attribute on the object, but not the read only property"
   ]
  },
  {
   "cell_type": "code",
   "execution_count": null,
   "metadata": {
    "id": "lQzn9BCoeeLu"
   },
   "outputs": [],
   "source": [
    "foo.not_unbreakable = \"Mr. Glass\""
   ]
  },
  {
   "cell_type": "code",
   "execution_count": null,
   "metadata": {
    "colab": {
     "base_uri": "https://localhost:8080/",
     "height": 166
    },
    "id": "0iS_9Q0AfWtY",
    "outputId": "e82a7b25-2307-466d-f7f4-541ee9ad42ed"
   },
   "outputs": [
    {
     "ename": "AttributeError",
     "evalue": "ignored",
     "output_type": "error",
     "traceback": [
      "\u001b[0;31m---------------------------------------------------------------------------\u001b[0m",
      "\u001b[0;31mAttributeError\u001b[0m                            Traceback (most recent call last)",
      "\u001b[0;32m<ipython-input-38-4bc1ea5ae699>\u001b[0m in \u001b[0;36m<module>\u001b[0;34m()\u001b[0m\n\u001b[0;32m----> 1\u001b[0;31m \u001b[0mfoo\u001b[0m\u001b[0;34m.\u001b[0m\u001b[0munbreakable\u001b[0m \u001b[0;34m=\u001b[0m \u001b[0;34m\"Bruce Willis\"\u001b[0m\u001b[0;34m\u001b[0m\u001b[0;34m\u001b[0m\u001b[0m\n\u001b[0m",
      "\u001b[0;31mAttributeError\u001b[0m: can't set attribute"
     ]
    }
   ],
   "source": [
    "foo.unbreakable = \"Bruce Willis\""
   ]
  }
 ],
 "metadata": {
  "colab": {
   "collapsed_sections": [
    "_kubx9jlEvOK",
    "o3LoKqH5FvBP",
    "bJJH_ybw-CkM",
    "KWDrBDOdN_77",
    "IdqC6jq5e4jd"
   ],
   "machine_shape": "hm",
   "provenance": []
  },
  "kernelspec": {
   "display_name": "Python 3",
   "language": "python",
   "name": "python3"
  },
  "language_info": {
   "codemirror_mode": {
    "name": "ipython",
    "version": 3
   },
   "file_extension": ".py",
   "mimetype": "text/x-python",
   "name": "python",
   "nbconvert_exporter": "python",
   "pygments_lexer": "ipython3",
   "version": "3.7.6"
  }
 },
 "nbformat": 4,
 "nbformat_minor": 1
}
