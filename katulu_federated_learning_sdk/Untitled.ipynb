{
 "cells": [
  {
   "cell_type": "code",
   "execution_count": null,
   "id": "5a52fd79-1f0d-49cf-8f55-f5d8b6f96014",
   "metadata": {},
   "outputs": [],
   "source": [
    "from katulu.sdk import connect"
   ]
  },
  {
   "cell_type": "code",
   "execution_count": 2,
   "id": "f5d81be9-458f-48fd-9006-d871e0d21126",
   "metadata": {},
   "outputs": [
    {
     "ename": "SyntaxError",
     "evalue": "invalid syntax (875081961.py, line 2)",
     "output_type": "error",
     "traceback": [
      "\u001b[0;36m  Cell \u001b[0;32mIn[2], line 2\u001b[0;36m\u001b[0m\n\u001b[0;31m    echo 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 \\\u001b[0m\n\u001b[0m         ^\u001b[0m\n\u001b[0;31mSyntaxError\u001b[0m\u001b[0;31m:\u001b[0m invalid syntax\n"
     ]
    }
   ],
   "source": [
    "import os\n",
    "\n",
    "# Create the 'data' directory\n",
    "os.makedirs('data', exist_ok=True)\n",
    "\n",
    "base64_string = \"\"\"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 \\\n",
    "| base64 --decode | gcloud auth activate-service-account --key-file=-\n",
    "gcloud storage cp gs://demo-agent-data-files/* data/"
   ]
  },
  {
   "cell_type": "code",
   "execution_count": null,
   "id": "60cf7d0e-1ecf-4bdd-94c2-b7ad9b5ca376",
   "metadata": {},
   "outputs": [],
   "source": [
    "async with connect(\n",
    "    project_id=\"cb7b378c-115d-459d-ab50-bc10dbe85272\",\n",
    "    organization_id=\"b038f84a-5582-4c23-b8ca-8003bce4b772\",\n",
    "    server_address=\"https://platform.katulu.io\",\n",
    "    client_id=\"3audqa2o4o8adrgt7s61ijnbeo\",\n",
    "    client_secret=\"1m354o7a25p60pgrosgc0sm8qedp8bn2rg25rcf4k1kr7fq4vkii\",\n",
    "    token_url=\"https://platform.auth.katulu.io/oauth2/token\",\n",
    ") as session:\n",
    "    await session.find_sources(name=\"my dataset\")"
   ]
  }
 ],
 "metadata": {
  "kernelspec": {
   "display_name": "Python 3 (ipykernel)",
   "language": "python",
   "name": "python3"
  },
  "language_info": {
   "codemirror_mode": {
    "name": "ipython",
    "version": 3
   },
   "file_extension": ".py",
   "mimetype": "text/x-python",
   "name": "python",
   "nbconvert_exporter": "python",
   "pygments_lexer": "ipython3",
   "version": "3.11.9"
  }
 },
 "nbformat": 4,
 "nbformat_minor": 5
}
