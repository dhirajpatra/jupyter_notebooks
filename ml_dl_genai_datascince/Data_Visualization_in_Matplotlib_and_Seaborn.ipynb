{
 "cells": [
  {
   "cell_type": "markdown",
   "metadata": {
    "id": "1nVy_F-R6Zus"
   },
   "source": [
    "# Matlplotlib\n",
    "\n",
    "Matplotlib is a powerful plotting library in Python that allows you to create a wide variety of static, animated, and interactive visualizations. To understand Matplotlib thoroughly, let's break down its components and functionality using simple analogies and detailed explanations."
   ]
  },
  {
   "cell_type": "markdown",
   "metadata": {
    "id": "FyOoX71s6eBG"
   },
   "source": [
    "## The Philosophy of Matplotlib\n",
    "\n",
    "Think of Matplotlib as a set of building blocks (or LEGO bricks) that you can use to construct different types of visualizations. Each block represents a different element of a plot, such as the axes, labels, lines, and markers. By combining these blocks in various ways, you can create anything from simple line graphs to complex multi-layered plots."
   ]
  },
  {
   "cell_type": "markdown",
   "metadata": {
    "id": "CsJTBh2466Bk"
   },
   "source": [
    "## Installation\n",
    "\n",
    "\n",
    "```\n",
    "pip install matplotlib\n",
    "```\n",
    "\n"
   ]
  },
  {
   "cell_type": "markdown",
   "metadata": {
    "id": "ItoiLVxI7DCn"
   },
   "source": [
    "## Core Components\n"
   ]
  },
  {
   "cell_type": "markdown",
   "metadata": {
    "id": "Q7T3vt6R7KeJ"
   },
   "source": [
    "### Figure and Axes\n",
    "* **Figure:** Think of the figure as a blank canvas where you will draw your painting (the plot).\n",
    "* **Axes:** The axes are the area on the canvas where you actually paint. It includes the data space, x and y axis, and their labels."
   ]
  },
  {
   "cell_type": "code",
   "execution_count": null,
   "metadata": {
    "colab": {
     "base_uri": "https://localhost:8080/",
     "height": 430
    },
    "id": "u8AXWQEW57hI",
    "outputId": "07d0597f-6612-43d1-c233-aa6cb62c0b04"
   },
   "outputs": [],
   "source": [
    "import matplotlib.pyplot as plt\n",
    "\n",
    "fig, ax = plt.subplots()  # Create a figure and an axes.\n",
    "x = [1,2,3,4]\n",
    "y = [1,4,2,3]\n",
    "# [(1,1), (2,4), (3,2), (4,3)]\n",
    "ax.plot(x, y)  # Plot some data on the axes - line plot\n",
    "plt.show()  # Display the plot"
   ]
  },
  {
   "cell_type": "markdown",
   "metadata": {
    "id": "WBraro-S7otV"
   },
   "source": [
    "#### Other common plots"
   ]
  },
  {
   "cell_type": "code",
   "execution_count": null,
   "metadata": {
    "colab": {
     "base_uri": "https://localhost:8080/",
     "height": 430
    },
    "id": "J_gQJlv97Vpf",
    "outputId": "848c5d94-54a1-4f0c-ba3c-89768186ce4a"
   },
   "outputs": [],
   "source": [
    "import matplotlib.pyplot as plt\n",
    "\n",
    "fig, ax = plt.subplots()  # Create a figure and an axes.\n",
    "ax.scatter([1, 2, 3, 4], [1, 4, 2, 3]) # Scatter Plot: Dots instead of lines.\n",
    "plt.show()  # Display the plot."
   ]
  },
  {
   "cell_type": "code",
   "execution_count": null,
   "metadata": {
    "colab": {
     "base_uri": "https://localhost:8080/",
     "height": 430
    },
    "id": "nrYt6DAe7yGZ",
    "outputId": "8d854dcf-20f4-45be-e7c1-02ff9b92affd"
   },
   "outputs": [],
   "source": [
    "import matplotlib.pyplot as plt\n",
    "\n",
    "fig, ax = plt.subplots()  # Create a figure and an axes.\n",
    "ax.bar([1, 2, 3, 4], [1, 4, 2, 3]) # Bar Plot: Bars instead of lines.\n",
    "plt.show()  # Display the plot."
   ]
  },
  {
   "cell_type": "code",
   "execution_count": null,
   "metadata": {
    "colab": {
     "base_uri": "https://localhost:8080/",
     "height": 430
    },
    "id": "M1iQ9giv8GE5",
    "outputId": "51a6028b-e7e4-4a32-869b-02df454cc1ef"
   },
   "outputs": [],
   "source": [
    "import matplotlib.pyplot as plt\n",
    "\n",
    "fig, ax = plt.subplots()  # Create a figure and an axes.\n",
    "ax.hist([1, 2, 2, 3, 3, 3, 4, 4, 4, 4]) # Histogram: Frequency distribution of data.\n",
    "plt.show()  # Display the plot."
   ]
  },
  {
   "cell_type": "markdown",
   "metadata": {
    "id": "ZGjTMX9_9Psz"
   },
   "source": [
    "## Customizing Plots"
   ]
  },
  {
   "cell_type": "markdown",
   "metadata": {
    "id": "97ASGM1C9SYt"
   },
   "source": [
    "You can change colors, add labels, and modify the layout to make it more appealing."
   ]
  },
  {
   "cell_type": "markdown",
   "metadata": {
    "id": "UiZx-RTt9XJ7"
   },
   "source": [
    "### Title and Labels"
   ]
  },
  {
   "cell_type": "code",
   "execution_count": null,
   "metadata": {
    "colab": {
     "base_uri": "https://localhost:8080/",
     "height": 472
    },
    "id": "UCeGx1ah80zd",
    "outputId": "077c2a64-07d6-4f1f-d7ec-b61836bea420"
   },
   "outputs": [],
   "source": [
    "import matplotlib.pyplot as plt\n",
    "\n",
    "fig, ax = plt.subplots()  # Create a figure and an axes.\n",
    "ax.plot([1, 2, 3, 4], [1, 4, 2, 3])  # Plot some data on the axes - line plot\n",
    "ax.set_title(\"My Plot\")  # Add a title.\n",
    "ax.set_xlabel(\"X Axis Label\")  # Add x-axis label.\n",
    "ax.set_ylabel(\"Y Axis Label\")  # Add y-axis label.\n",
    "plt.show()  # Display the plot."
   ]
  },
  {
   "cell_type": "markdown",
   "metadata": {
    "id": "ivK6GqPn9lF0"
   },
   "source": [
    "### Colors and Styles"
   ]
  },
  {
   "cell_type": "code",
   "execution_count": null,
   "metadata": {
    "colab": {
     "base_uri": "https://localhost:8080/",
     "height": 472
    },
    "id": "n1sYiFgc9bBk",
    "outputId": "6980f4f6-9187-4ce5-bc09-211e243dea21"
   },
   "outputs": [],
   "source": [
    "import matplotlib.pyplot as plt\n",
    "\n",
    "fig, ax = plt.subplots(1,1)  # Create a figure and an axes.\n",
    "ax.plot([1, 2, 3, 4], [1, 4, 2, 3], color='red', linestyle='-.', marker='o')  # Plot some data on the axes - line plot with changed styles\n",
    "ax.set_title(\"My Plot\")  # Add a title.\n",
    "ax.set_xlabel(\"X Axis Label\")  # Add x-axis label.\n",
    "ax.set_ylabel(\"Y Axis Label\")  # Add y-axis label.\n",
    "plt.show()  # Display the plot."
   ]
  },
  {
   "cell_type": "markdown",
   "metadata": {
    "id": "mLTNbtAE-A3q"
   },
   "source": [
    "### Subplots"
   ]
  },
  {
   "cell_type": "code",
   "execution_count": null,
   "metadata": {
    "colab": {
     "base_uri": "https://localhost:8080/",
     "height": 430
    },
    "id": "_1E2ZxEcurZn",
    "outputId": "9a894201-f731-4799-c4cb-a554d526c304"
   },
   "outputs": [],
   "source": [
    "fig, ax = plt.subplots()\n",
    "ax.plot([1, 2, 3, 4], [1, 4, 2, 3])\n",
    "ax.plot([1.5, 2.5, 3.5, 4.5], [1, 2, 3, 4])\n",
    "plt.show()"
   ]
  },
  {
   "cell_type": "code",
   "execution_count": null,
   "metadata": {
    "colab": {
     "base_uri": "https://localhost:8080/",
     "height": 430
    },
    "id": "4kf_8L_s9xVK",
    "outputId": "a8feebf9-05a2-4758-be3d-842686a0a196"
   },
   "outputs": [],
   "source": [
    "fig, (ax1, ax2) = plt.subplots(1, 2)  # Create a figure with two subplots.\n",
    "ax1.plot([1, 2, 3, 4], [1, 4, 2, 3])\n",
    "ax2.plot([1, 2, 3, 4], [1, 2, 3, 4])\n",
    "plt.show()"
   ]
  },
  {
   "cell_type": "code",
   "execution_count": null,
   "metadata": {
    "colab": {
     "base_uri": "https://localhost:8080/",
     "height": 432
    },
    "id": "CeKAFzkLvJTz",
    "outputId": "77656581-94a7-4a73-ebc1-5788b35f64f5"
   },
   "outputs": [],
   "source": [
    "fig, (ax1, ax2, ax3, ax4) = plt.subplots(4, 1)  # Create a figure with two subplots.\n",
    "ax1.plot([1, 2, 3, 4], [1, 4, 2, 3])\n",
    "ax2.plot([1, 2, 3, 4], [1, 2, 3, 4])\n",
    "plt.show()"
   ]
  },
  {
   "cell_type": "markdown",
   "metadata": {
    "id": "OZXvKoVz-R5P"
   },
   "source": [
    "## Putting It All Together\n"
   ]
  },
  {
   "cell_type": "code",
   "execution_count": null,
   "metadata": {
    "colab": {
     "base_uri": "https://localhost:8080/",
     "height": 372
    },
    "id": "tbwiIgf3-IXm",
    "outputId": "d2da2277-3059-4350-af39-afb74e223825"
   },
   "outputs": [],
   "source": [
    "import matplotlib.pyplot as plt\n",
    "\n",
    "# Create a figure and a set of subplots\n",
    "fig, (ax1, ax2) = plt.subplots(1, 2, figsize=(16, 4))\n",
    "\n",
    "# Plot on the first axes\n",
    "ax1.plot([1, 2, 3, 4], [1, 4, 2, 3], color='blue', linestyle='-', marker='o')\n",
    "ax1.set_title(\"Line Plot\")\n",
    "ax1.set_xlabel(\"X Axis\")\n",
    "ax1.set_ylabel(\"Y Axis\")\n",
    "\n",
    "# Plot on the second axes\n",
    "ax2.bar([1, 2, 3, 4], [1, 4, 2, 3], color='green')\n",
    "ax2.set_title(\"Bar Plot\")\n",
    "ax2.set_xlabel(\"X Axis\")\n",
    "ax2.set_ylabel(\"Y Axis\")\n",
    "\n",
    "# Display the plot\n",
    "plt.show()"
   ]
  },
  {
   "cell_type": "markdown",
   "metadata": {
    "id": "W8HjDYMRScR2"
   },
   "source": [
    "## Advanced Usage"
   ]
  },
  {
   "cell_type": "markdown",
   "metadata": {
    "id": "U13rlPFj-elb"
   },
   "source": [
    "### Multiple Subplots with Shared Axes"
   ]
  },
  {
   "cell_type": "code",
   "execution_count": null,
   "metadata": {
    "colab": {
     "base_uri": "https://localhost:8080/",
     "height": 497
    },
    "id": "85DnEgzW-UUM",
    "outputId": "c861d93c-9153-4cf8-a191-88e607361fc8"
   },
   "outputs": [],
   "source": [
    "import matplotlib.pyplot as plt\n",
    "import numpy as np\n",
    "\n",
    "# Sample data\n",
    "x = np.linspace(0, 2 * np.pi, 400)\n",
    "y1 = np.sin(x)\n",
    "y2 = np.cos(x)\n",
    "\n",
    "fig, (ax1, ax2) = plt.subplots(2, 1, sharex=True)  # 2 rows, 1 column, shared x-axis\n",
    "# fig, (ax1, ax2) = plt.subplots(1, 2, sharey=True)  # 2 cols, 1 row, shared y-axis\n",
    "fig.suptitle('Sharing X Axis')\n",
    "\n",
    "ax1.plot(x, y1, label='sin(x)')\n",
    "ax1.legend()\n",
    "ax1.set_ylabel('sin(x)')\n",
    "\n",
    "ax2.plot(x, y2, label='cos(x)', color='orange')\n",
    "ax2.legend()\n",
    "ax2.set_xlabel('x')\n",
    "ax2.set_ylabel('cos(x)')\n",
    "\n",
    "plt.show()"
   ]
  },
  {
   "cell_type": "markdown",
   "metadata": {
    "id": "SBqyPYckAPFp"
   },
   "source": [
    "### Annotating Plots"
   ]
  },
  {
   "cell_type": "code",
   "execution_count": null,
   "metadata": {
    "colab": {
     "base_uri": "https://localhost:8080/",
     "height": 528
    },
    "id": "YLxtPD-G-g7-",
    "outputId": "1fad733e-010e-4719-b7bc-9b6d689cbb43"
   },
   "outputs": [],
   "source": [
    "import matplotlib.pyplot as plt\n",
    "import numpy as np\n",
    "\n",
    "# Sample data\n",
    "x = np.linspace(0, 10, 100)\n",
    "y = np.sin(x)\n",
    "\n",
    "fig, ax = plt.subplots()\n",
    "ax.plot(x, y)\n",
    "\n",
    "# Highlight the maximum value\n",
    "max_y = np.max(y)\n",
    "max_x = x[np.argmax(y)]\n",
    "ax.annotate(f'Max Value: {max_y:.2f}', xy=(max_x, max_y), xytext=(max_x+2, max_y+0.5),\n",
    "            arrowprops=dict(facecolor='black', shrink=0.05))\n",
    "\n",
    "plt.title('Sine Wave with Annotation')\n",
    "plt.xlabel('X Axis')\n",
    "plt.ylabel('Y Axis')\n",
    "plt.show()"
   ]
  },
  {
   "cell_type": "markdown",
   "metadata": {
    "id": "pgzvT35sAZcH"
   },
   "source": [
    "### Customizing with Styles"
   ]
  },
  {
   "cell_type": "code",
   "execution_count": null,
   "metadata": {
    "colab": {
     "base_uri": "https://localhost:8080/",
     "height": 477
    },
    "id": "lqWgcPi_ARfE",
    "outputId": "caf7f6bd-71b2-47d9-9f70-a5b504ea8b5c"
   },
   "outputs": [],
   "source": [
    "import matplotlib.pyplot as plt\n",
    "import numpy as np\n",
    "\n",
    "# Sample data\n",
    "x = np.linspace(0, 2 * np.pi, 400)\n",
    "y = np.sin(x)\n",
    "\n",
    "# Use a predefined style\n",
    "plt.style.use('ggplot')\n",
    "\n",
    "fig, ax = plt.subplots()\n",
    "ax.plot(x, y)\n",
    "\n",
    "plt.title('Styled Plot')\n",
    "plt.xlabel('X Axis')\n",
    "plt.ylabel('Y Axis')\n",
    "plt.show();"
   ]
  },
  {
   "cell_type": "markdown",
   "metadata": {
    "id": "pBlbj50AArVh"
   },
   "source": [
    "### Creating a Heatmap"
   ]
  },
  {
   "cell_type": "code",
   "execution_count": null,
   "metadata": {
    "colab": {
     "base_uri": "https://localhost:8080/",
     "height": 458
    },
    "id": "hdECdwzYAbw2",
    "outputId": "b13cdbd8-b784-4903-cba1-de542f68bc22"
   },
   "outputs": [],
   "source": [
    "import matplotlib.pyplot as plt\n",
    "import numpy as np\n",
    "\n",
    "# Sample data\n",
    "data = np.random.rand(10, 10)\n",
    "\n",
    "fig, ax = plt.subplots()\n",
    "cax = ax.matshow(data, cmap='plasma')\n",
    "\n",
    "# Add colorbar\n",
    "fig.colorbar(cax)\n",
    "\n",
    "plt.title('Heatmap')\n",
    "plt.show()"
   ]
  },
  {
   "cell_type": "markdown",
   "metadata": {
    "id": "osG__LeTBrlT"
   },
   "source": [
    "# EDA using Matplotlib"
   ]
  },
  {
   "cell_type": "markdown",
   "metadata": {
    "id": "CfkUMKeyBvno"
   },
   "source": [
    "Data: https://www.kaggle.com/c/house-prices-advanced-regression-techniques/data\n",
    "\n",
    "Some tips and tricks."
   ]
  },
  {
   "cell_type": "markdown",
   "metadata": {
    "id": "_0NGGz6RB2o7"
   },
   "source": [
    "## Step 0: Installing libraries\n",
    "\n",
    "\n",
    "\n",
    "```\n",
    "pip install pandas matplotlib\n",
    "```\n",
    "\n"
   ]
  },
  {
   "cell_type": "code",
   "execution_count": null,
   "metadata": {
    "id": "GCZs7wucGotj"
   },
   "outputs": [],
   "source": []
  },
  {
   "cell_type": "code",
   "execution_count": null,
   "metadata": {
    "id": "GOouxOI0GoZP"
   },
   "outputs": [],
   "source": []
  },
  {
   "cell_type": "code",
   "execution_count": null,
   "metadata": {
    "id": "pYdJuiDCGoON"
   },
   "outputs": [],
   "source": []
  },
  {
   "cell_type": "code",
   "execution_count": null,
   "metadata": {
    "id": "QKzu5twRGoCd"
   },
   "outputs": [],
   "source": []
  },
  {
   "cell_type": "markdown",
   "metadata": {
    "id": "ChZIXXl_B_c4"
   },
   "source": [
    "## Step 1: Import Libraries and Load the Dataset"
   ]
  },
  {
   "cell_type": "code",
   "execution_count": null,
   "metadata": {
    "colab": {
     "base_uri": "https://localhost:8080/"
    },
    "id": "OSvPjwYoAyYk",
    "outputId": "1dfc682e-6c0b-4e5b-c535-4a71b6b24520"
   },
   "outputs": [],
   "source": [
    "import pandas as pd\n",
    "pd.set_option('display.max_columns', None)\n",
    "pd.set_option('display.max_rows', None)\n",
    "import matplotlib.pyplot as plt\n",
    "\n",
    "# Load the dataset\n",
    "df = pd.read_csv('/content/drive/MyDrive/GFG/58. Data Visualization in Matplotlib and Seaborn - 1st June, 2024/data/train.csv')\n",
    "\n",
    "# Display the first few rows of the dataset\n",
    "print(df.head())"
   ]
  },
  {
   "cell_type": "markdown",
   "metadata": {
    "id": "enyRGjodDk3f"
   },
   "source": [
    "## Step 2: Understand the Dataset Structure"
   ]
  },
  {
   "cell_type": "code",
   "execution_count": null,
   "metadata": {
    "colab": {
     "base_uri": "https://localhost:8080/"
    },
    "id": "NS2FqWdxDX3e",
    "outputId": "23209263-a85e-4c08-c101-9dfdff5766ee"
   },
   "outputs": [],
   "source": [
    "# Display basic information about the dataset\n",
    "print(df.info())"
   ]
  },
  {
   "cell_type": "code",
   "execution_count": null,
   "metadata": {
    "colab": {
     "base_uri": "https://localhost:8080/"
    },
    "id": "ZhvhmuxdDpJ5",
    "outputId": "112045fb-ad75-4570-ed4f-85fa68c39cf3"
   },
   "outputs": [],
   "source": [
    "# Describe the numerical columns\n",
    "print(df.describe())"
   ]
  },
  {
   "cell_type": "markdown",
   "metadata": {
    "id": "Ez4dia4HDxno"
   },
   "source": [
    "## Step 3: Visualize Distributions"
   ]
  },
  {
   "cell_type": "markdown",
   "metadata": {
    "id": "fYNnSb03D0ay"
   },
   "source": [
    "### Distribution of Sale Prices"
   ]
  },
  {
   "cell_type": "code",
   "execution_count": null,
   "metadata": {
    "colab": {
     "base_uri": "https://localhost:8080/",
     "height": 569
    },
    "id": "_UvUb6HRDt3j",
    "outputId": "8915a212-a804-496b-fe78-28060d65b0af"
   },
   "outputs": [],
   "source": [
    "plt.figure(figsize=(10, 6))\n",
    "plt.hist(df['SalePrice'], bins=30, color='blue', edgecolor='k')\n",
    "plt.title('Distribution of Sale Prices')\n",
    "plt.xlabel('Sale Price')\n",
    "plt.ylabel('Frequency')\n",
    "plt.show()"
   ]
  },
  {
   "cell_type": "markdown",
   "metadata": {
    "id": "wR7076ewD6px"
   },
   "source": [
    "### Distribution of Numerical Features"
   ]
  },
  {
   "cell_type": "code",
   "execution_count": null,
   "metadata": {
    "colab": {
     "base_uri": "https://localhost:8080/",
     "height": 805
    },
    "id": "VMS_PKXDD3Zz",
    "outputId": "9fa04a27-64e9-489a-df7d-7d292f626430"
   },
   "outputs": [],
   "source": [
    "numerical_features = ['GrLivArea', 'TotalBsmtSF', '1stFlrSF', 'GarageArea']\n",
    "\n",
    "fig, axs = plt.subplots(2, 2, figsize=(15, 10))\n",
    "axs = axs.flatten()\n",
    "\n",
    "for i, feature in enumerate(numerical_features):\n",
    "    axs[i].hist(df[feature].dropna(), bins=30, color='green', edgecolor='k')\n",
    "    axs[i].set_title(f'Distribution of {feature}')\n",
    "    axs[i].set_xlabel(feature)\n",
    "    axs[i].set_ylabel('Frequency')\n",
    "\n",
    "plt.tight_layout()\n",
    "plt.show()"
   ]
  },
  {
   "cell_type": "markdown",
   "metadata": {
    "id": "8xsWJzQ8EB4j"
   },
   "source": [
    "## Step 4: Analyze Relationships"
   ]
  },
  {
   "cell_type": "markdown",
   "metadata": {
    "id": "YEbWJbL8ERxY"
   },
   "source": [
    "### Scatter Plot of Sale Price vs. GrLivArea"
   ]
  },
  {
   "cell_type": "code",
   "execution_count": null,
   "metadata": {
    "colab": {
     "base_uri": "https://localhost:8080/",
     "height": 569
    },
    "id": "dpDS_UgLD_Q3",
    "outputId": "a4746c09-9248-4703-cf82-6b756f501b71"
   },
   "outputs": [],
   "source": [
    "plt.figure(figsize=(10, 6))\n",
    "plt.scatter(df['GrLivArea'], df['SalePrice'], color='purple', alpha=0.3)\n",
    "plt.title('Sale Price vs. GrLivArea')\n",
    "plt.xlabel('Above Grade Living Area (sq ft)')\n",
    "plt.ylabel('Sale Price')\n",
    "plt.show()"
   ]
  },
  {
   "cell_type": "markdown",
   "metadata": {
    "id": "E_aJWtFWEc8C"
   },
   "source": [
    "## Step 5: Detect Outliers"
   ]
  },
  {
   "cell_type": "markdown",
   "metadata": {
    "id": "p_aE55bdEgWM"
   },
   "source": [
    "### Box Plot of Sale Price"
   ]
  },
  {
   "cell_type": "code",
   "execution_count": null,
   "metadata": {
    "colab": {
     "base_uri": "https://localhost:8080/",
     "height": 569
    },
    "id": "4xJYgPJ6EZkZ",
    "outputId": "fc33cfc2-1f40-4fe4-aa9a-b76ce0190d1b"
   },
   "outputs": [],
   "source": [
    "plt.figure(figsize=(10, 6))\n",
    "plt.boxplot(df['SalePrice'], vert=False, patch_artist=True)\n",
    "plt.title('Box Plot of Sale Prices')\n",
    "plt.xlabel('Sale Price')\n",
    "plt.show()"
   ]
  },
  {
   "cell_type": "markdown",
   "metadata": {
    "id": "_OM-VRewEmPA"
   },
   "source": [
    "### Box Plot of Numerical Features"
   ]
  },
  {
   "cell_type": "code",
   "execution_count": null,
   "metadata": {
    "colab": {
     "base_uri": "https://localhost:8080/",
     "height": 805
    },
    "id": "fhzSrVUFEjsQ",
    "outputId": "a5e2666c-5374-40f8-e0c8-db4c0207264c"
   },
   "outputs": [],
   "source": [
    "fig, axs = plt.subplots(2, 2, figsize=(15, 10))\n",
    "axs = axs.flatten()\n",
    "\n",
    "for i, feature in enumerate(numerical_features):\n",
    "    axs[i].boxplot(df[feature].dropna(), vert=False, patch_artist=True)\n",
    "    axs[i].set_title(f'Box Plot of {feature}')\n",
    "    axs[i].set_xlabel(feature)\n",
    "\n",
    "plt.tight_layout()\n",
    "plt.show()"
   ]
  },
  {
   "cell_type": "markdown",
   "metadata": {
    "id": "ENBOaqzXPewf"
   },
   "source": [
    "# Why Seaborn Was Developed\n",
    "Seaborn was developed to complement Matplotlib and address several specific needs:\n",
    "\n",
    "* **Ease of Statistical Plotting:** Matplotlib, while powerful, can be cumbersome for statistical plots. Seaborn simplifies this with functions that directly handle common statistical tasks.\n",
    "\n",
    "* **Improved Aesthetics:** While Matplotlib allows for detailed customization, creating aesthetically pleasing plots can be time-consuming. Seaborn provides beautiful default styles and color palettes.\n",
    "* **Convenient Data Handling:** Seaborn is designed to work well with Pandas DataFrames, making it straightforward to plot data directly from these structures.\n",
    "* **Simplified Code:** Reduces the amount of code needed to create common plots, making it more accessible for quick visualizations and exploratory data analysis."
   ]
  },
  {
   "cell_type": "markdown",
   "metadata": {
    "id": "vxguHFuYPyVR"
   },
   "source": [
    "## Comparing Code Examples\n"
   ]
  },
  {
   "cell_type": "markdown",
   "metadata": {
    "id": "whi0KzL1P3r_"
   },
   "source": [
    "### Matplotlib"
   ]
  },
  {
   "cell_type": "code",
   "execution_count": null,
   "metadata": {
    "colab": {
     "base_uri": "https://localhost:8080/",
     "height": 569
    },
    "id": "OKvnq50UEpK6",
    "outputId": "b10c868d-213b-4d26-8c49-530b3d399683"
   },
   "outputs": [],
   "source": [
    "import matplotlib.pyplot as plt\n",
    "import pandas as pd\n",
    "\n",
    "# Sample data\n",
    "df = pd.DataFrame({\n",
    "    'x': range(10),\n",
    "    'y': [2, 3, 5, 7, 11, 13, 17, 19, 23, 29]\n",
    "})\n",
    "\n",
    "plt.figure(figsize=(10, 6))\n",
    "plt.scatter(df['x'], df['y'], color='blue', edgecolor='k')\n",
    "plt.title('Scatter Plot')\n",
    "plt.xlabel('X Axis')\n",
    "plt.ylabel('Y Axis')\n",
    "plt.grid(True)\n",
    "plt.show()"
   ]
  },
  {
   "cell_type": "markdown",
   "metadata": {
    "id": "KFdrP35kP6_g"
   },
   "source": [
    "### Seaborn"
   ]
  },
  {
   "cell_type": "code",
   "execution_count": null,
   "metadata": {
    "colab": {
     "base_uri": "https://localhost:8080/",
     "height": 573
    },
    "id": "8mna2bkgP6kQ",
    "outputId": "709632d7-9dad-40f7-9c24-2d04082af785"
   },
   "outputs": [],
   "source": [
    "import seaborn as sns\n",
    "import pandas as pd\n",
    "\n",
    "# Sample data\n",
    "df = pd.DataFrame({\n",
    "    'x': range(10),\n",
    "    'y': [2, 3, 5, 7, 11, 13, 17, 19, 23, 29]\n",
    "})\n",
    "\n",
    "sns.set(style='dark')\n",
    "plt.figure(figsize=(10, 6))\n",
    "sns.scatterplot(x='x', y='y', data=df)\n",
    "plt.title('Scatter Plot')\n",
    "plt.xlabel('X Axis')\n",
    "plt.ylabel('Y Axis')\n",
    "plt.show()"
   ]
  },
  {
   "cell_type": "markdown",
   "metadata": {
    "id": "MJpCg1RcQJ4O"
   },
   "source": [
    "# Seaborn"
   ]
  },
  {
   "cell_type": "markdown",
   "metadata": {
    "id": "olj_XOxjQLFX"
   },
   "source": [
    "## Installing Seaborn\n",
    "\n",
    "\n",
    "```\n",
    "pip install seaborn\n",
    "```\n",
    "\n"
   ]
  },
  {
   "cell_type": "code",
   "execution_count": null,
   "metadata": {
    "id": "IevyPd7zQnKr"
   },
   "outputs": [],
   "source": [
    "import seaborn as sns\n",
    "import matplotlib.pyplot as plt\n",
    "import pandas as pd"
   ]
  },
  {
   "cell_type": "code",
   "execution_count": null,
   "metadata": {
    "colab": {
     "base_uri": "https://localhost:8080/"
    },
    "id": "Pquj3Ea2QqvU",
    "outputId": "9274ae39-dafa-4703-a444-6c79645c433e"
   },
   "outputs": [],
   "source": [
    "# Load the dataset\n",
    "df = sns.load_dataset('tips') # https://github.com/mwaskom/seaborn-data\n",
    "print(df.head())"
   ]
  },
  {
   "cell_type": "markdown",
   "metadata": {
    "id": "HcC___LpQhb0"
   },
   "source": [
    "## Basic Plotting Functions"
   ]
  },
  {
   "cell_type": "markdown",
   "metadata": {
    "id": "A7w6Gm2oQkZ3"
   },
   "source": [
    "### Scatter Plot"
   ]
  },
  {
   "cell_type": "code",
   "execution_count": null,
   "metadata": {
    "colab": {
     "base_uri": "https://localhost:8080/",
     "height": 480
    },
    "id": "wjJPbswIQCsA",
    "outputId": "f073c63c-450f-4958-bdc0-789993cf90d3"
   },
   "outputs": [],
   "source": [
    "sns.scatterplot(x='total_bill', y='tip', data=df)\n",
    "plt.title('Scatter Plot of Total Bill vs Tip')\n",
    "plt.show()"
   ]
  },
  {
   "cell_type": "markdown",
   "metadata": {
    "id": "ubaZHb6OQu1T"
   },
   "source": [
    "### Histogram"
   ]
  },
  {
   "cell_type": "code",
   "execution_count": null,
   "metadata": {
    "colab": {
     "base_uri": "https://localhost:8080/",
     "height": 480
    },
    "id": "-3tVFL-nQtIL",
    "outputId": "a99ab78b-1723-4e0f-eed7-bdb9c6dccf0f"
   },
   "outputs": [],
   "source": [
    "sns.histplot(df['total_bill'], bins=30, kde=True)\n",
    "plt.title('Histogram of Total Bill')\n",
    "plt.show()"
   ]
  },
  {
   "cell_type": "markdown",
   "metadata": {
    "id": "SdZvHVYcQy3o"
   },
   "source": [
    "### Box Plot"
   ]
  },
  {
   "cell_type": "code",
   "execution_count": null,
   "metadata": {
    "colab": {
     "base_uri": "https://localhost:8080/",
     "height": 480
    },
    "id": "3oHf7vnNQxJU",
    "outputId": "68bd7d34-fa82-40c9-9c2d-6200af22dc2f"
   },
   "outputs": [],
   "source": [
    "sns.boxplot(x='day', y='total_bill', data=df)\n",
    "plt.title('Box Plot of Total Bill by Day')\n",
    "plt.show()"
   ]
  },
  {
   "cell_type": "markdown",
   "metadata": {
    "id": "XHJJKmGvQ26g"
   },
   "source": [
    "## Advanced Plotting Functions"
   ]
  },
  {
   "cell_type": "markdown",
   "metadata": {
    "id": "cnUDg4zBQ5SB"
   },
   "source": [
    "### Pair Plot"
   ]
  },
  {
   "cell_type": "code",
   "execution_count": null,
   "metadata": {
    "colab": {
     "base_uri": "https://localhost:8080/",
     "height": 755
    },
    "id": "7tX6TBriQ1Cu",
    "outputId": "d7d8de0a-0d58-4dd4-8034-7c9723d81af0"
   },
   "outputs": [],
   "source": [
    "sns.pairplot(df)\n",
    "plt.show()"
   ]
  },
  {
   "cell_type": "markdown",
   "metadata": {
    "id": "1lZ0BTMYQ9MR"
   },
   "source": [
    "### Heatmap"
   ]
  },
  {
   "cell_type": "code",
   "execution_count": null,
   "metadata": {
    "colab": {
     "base_uri": "https://localhost:8080/",
     "height": 458
    },
    "id": "witN3dlbQ7ir",
    "outputId": "88aaa883-8563-44ba-eab0-a7adb7d635cd"
   },
   "outputs": [],
   "source": [
    "numerics = ['int16', 'int32', 'int64', 'float16', 'float32', 'float64']\n",
    "\n",
    "newdf = df.select_dtypes(include=numerics)\n",
    "corr = newdf.corr()\n",
    "sns.heatmap(corr, annot=True, cmap='coolwarm')\n",
    "plt.title('Heatmap of Correlation Matrix')\n",
    "plt.show()"
   ]
  },
  {
   "cell_type": "markdown",
   "metadata": {
    "id": "I5aWoNBTRYbX"
   },
   "source": [
    "## Customizing Plots"
   ]
  },
  {
   "cell_type": "markdown",
   "metadata": {
    "id": "61X0qlOPRdWu"
   },
   "source": [
    "### Changing Styles"
   ]
  },
  {
   "cell_type": "code",
   "execution_count": null,
   "metadata": {
    "colab": {
     "base_uri": "https://localhost:8080/",
     "height": 480
    },
    "id": "bIHEbCIPRBo2",
    "outputId": "d2ad2162-7e3c-4e69-fb6e-56a6eaeff95e"
   },
   "outputs": [],
   "source": [
    "sns.set_style('dark')\n",
    "sns.scatterplot(x='total_bill', y='tip', data=df)\n",
    "plt.title('Scatter Plot with Whitegrid Style')\n",
    "plt.show()"
   ]
  },
  {
   "cell_type": "markdown",
   "metadata": {
    "id": "citogbIJRuTa"
   },
   "source": [
    "### Custom Colour Palettes"
   ]
  },
  {
   "cell_type": "code",
   "execution_count": null,
   "metadata": {
    "colab": {
     "base_uri": "https://localhost:8080/",
     "height": 480
    },
    "id": "y3ZhtXpZRi6K",
    "outputId": "468d9fdb-b16a-48a4-d646-bcded9d43158"
   },
   "outputs": [],
   "source": [
    "sns.set_palette('Spectral')\n",
    "sns.boxplot(x='day', y='total_bill', data=df)\n",
    "plt.title('Box Plot with Pastel Palette')\n",
    "plt.show()"
   ]
  },
  {
   "cell_type": "markdown",
   "metadata": {
    "id": "CyMbyvWhR1R9"
   },
   "source": [
    "### Combining Plots with FacetGrid"
   ]
  },
  {
   "cell_type": "code",
   "execution_count": null,
   "metadata": {
    "colab": {
     "base_uri": "https://localhost:8080/",
     "height": 301
    },
    "id": "sSoD_7bZRyA-",
    "outputId": "f88cbb93-e53d-4743-e482-30cbea4168f0"
   },
   "outputs": [],
   "source": [
    "g = sns.FacetGrid(df, col='time')\n",
    "g.map(sns.scatterplot, 'total_bill', 'tip')\n",
    "plt.show()"
   ]
  },
  {
   "cell_type": "markdown",
   "metadata": {
    "id": "QphHMzF3R6Ic"
   },
   "source": [
    "## EDA with Seaborn"
   ]
  },
  {
   "cell_type": "code",
   "execution_count": null,
   "metadata": {
    "colab": {
     "base_uri": "https://localhost:8080/",
     "height": 1000
    },
    "id": "BLM9uhFDR3sF",
    "outputId": "32b53d19-34e2-4e32-cee8-116d8e45833f"
   },
   "outputs": [],
   "source": [
    "# Load the dataset\n",
    "df = sns.load_dataset('titanic')\n",
    "print(df.head())\n",
    "print(df.info())\n",
    "print(df.describe())\n",
    "\n",
    "# Set the aesthetic style\n",
    "sns.set_style('whitegrid')\n",
    "\n",
    "# Distribution of age\n",
    "plt.figure(figsize=(10, 6))\n",
    "sns.histplot(df['age'].dropna(), bins=30, kde=True)\n",
    "plt.title('Distribution of Age')\n",
    "plt.show()\n",
    "\n",
    "# Box plot of fare by class\n",
    "plt.figure(figsize=(10, 6))\n",
    "sns.boxplot(x='class', y='fare', data=df)\n",
    "plt.title('Box Plot of Fare by Class')\n",
    "plt.show()\n",
    "\n",
    "# Pair plot of select features\n",
    "features = ['survived', 'age', 'fare', 'pclass']\n",
    "sns.pairplot(df[features].dropna(), hue='survived', diag_kind='kde')\n",
    "plt.show()\n",
    "\n",
    "# Heatmap of correlation matrix\n",
    "plt.figure(figsize=(10, 6))\n",
    "numerics = ['int16', 'int32', 'int64', 'float16', 'float32', 'float64']\n",
    "newdf = df.select_dtypes(include=numerics)\n",
    "corr = newdf.corr()\n",
    "sns.heatmap(corr, annot=True, cmap='coolwarm', center=0)\n",
    "plt.title('Heatmap of Correlation Matrix')\n",
    "plt.show()\n",
    "\n",
    "# FacetGrid for age distribution by survival status\n",
    "g = sns.FacetGrid(df, col='survived')\n",
    "g.map(sns.histplot, 'age')\n",
    "plt.show()"
   ]
  },
  {
   "cell_type": "code",
   "execution_count": null,
   "metadata": {
    "id": "iq9qg2YhAnAF"
   },
   "outputs": [],
   "source": []
  }
 ],
 "metadata": {
  "colab": {
   "provenance": []
  },
  "kernelspec": {
   "display_name": "Python 3",
   "name": "python3"
  },
  "language_info": {
   "name": "python"
  }
 },
 "nbformat": 4,
 "nbformat_minor": 0
}
