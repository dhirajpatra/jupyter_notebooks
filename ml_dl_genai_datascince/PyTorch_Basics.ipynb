{
  "nbformat": 4,
  "nbformat_minor": 0,
  "metadata": {
    "colab": {
      "provenance": []
    },
    "kernelspec": {
      "name": "python3",
      "display_name": "Python 3"
    },
    "language_info": {
      "name": "python"
    }
  },
  "cells": [
    {
      "cell_type": "markdown",
      "source": [
        "Let’s dive into PyTorch, a popular deep learning framework that’s widely used in data science. I’ll cover the core concepts and show you as much code as possible to ensure you can understand and implement these concepts."
      ],
      "metadata": {
        "id": "t-_tnJd7pbBx"
      }
    },
    {
      "cell_type": "code",
      "source": [
        "import numpy as np\n",
        "\n",
        "lista = [1, 2, 3]\n",
        "print(\"Python List:\", lista)\n",
        "\n",
        "# Create a NumPy array\n",
        "a = np.array(lista)\n",
        "print(\"NumPy Array:\", a)"
      ],
      "metadata": {
        "colab": {
          "base_uri": "https://localhost:8080/"
        },
        "id": "EMWjwaoYLTjK",
        "outputId": "a9441c62-6072-477d-9239-54d37d93149b"
      },
      "execution_count": null,
      "outputs": [
        {
          "output_type": "stream",
          "name": "stdout",
          "text": [
            "Python List: [1, 2, 3]\n",
            "NumPy Array: [1 2 3]\n"
          ]
        }
      ]
    },
    {
      "cell_type": "markdown",
      "source": [
        "### What is PyTorch?\n",
        "\n",
        "**PyTorch** is an open-source machine learning library developed by Facebook’s AI Research lab. It provides two main features:\n",
        "\n",
        "1. **Tensor Computation (like NumPy) with strong GPU acceleration.**\n",
        "2. **Deep Neural Networks built on a tape-based autograd system.**\n",
        "\n",
        "PyTorch is designed to be intuitive and flexible, making it a favorite among researchers and practitioners for developing machine learning models.\n",
        "\n"
      ],
      "metadata": {
        "id": "vVfp24x_pmaq"
      }
    },
    {
      "cell_type": "markdown",
      "source": [
        "### 1. Tensors: The Core of PyTorch\n",
        "\n",
        "A **Tensor** is a multi-dimensional array, similar to NumPy’s `ndarray`, but with additional capabilities, such as being able to run on a GPU for accelerated computing.\n",
        "\n",
        "Here’s how you create and manipulate tensors in PyTorch:"
      ],
      "metadata": {
        "id": "30jw5KvDpq4G"
      }
    },
    {
      "cell_type": "code",
      "source": [
        "import torch\n",
        "\n",
        "# Create a 1D tensor\n",
        "x = torch.tensor([1, 2, 3, 4])\n",
        "print(\"1D Tensor:\", x)\n",
        "\n",
        "# Create a 2D tensor (matrix)\n",
        "y = torch.tensor([[1, 2], [3, 4], [5, 6]])\n",
        "print(\"2D Tensor:\", y)\n",
        "\n",
        "# Tensor operations\n",
        "z = x + 1\n",
        "print(\"Tensor after addition:\", z)\n",
        "\n",
        "# Tensors on GPU\n",
        "if torch.cuda.is_available():\n",
        "    x = x.to('cuda')  # Move tensor to GPU\n",
        "    print(\"Tensor on GPU:\", x)"
      ],
      "metadata": {
        "colab": {
          "base_uri": "https://localhost:8080/"
        },
        "id": "7V5Y_wMgql_X",
        "outputId": "cd74e19d-420a-4244-e268-67dea032a858"
      },
      "execution_count": null,
      "outputs": [
        {
          "output_type": "stream",
          "name": "stdout",
          "text": [
            "1D Tensor: tensor([1, 2, 3, 4])\n",
            "2D Tensor: tensor([[1, 2],\n",
            "        [3, 4],\n",
            "        [5, 6]])\n",
            "Tensor after addition: tensor([2, 3, 4, 5])\n"
          ]
        }
      ]
    },
    {
      "cell_type": "markdown",
      "source": [
        "**Interview Tip:** An interviewer might ask, \"What is a tensor, and how does it differ from a NumPy array?\" A good response is that a tensor is similar to a NumPy array but with additional support for GPU acceleration and automatic differentiation, which are essential for deep learning.\n"
      ],
      "metadata": {
        "id": "M1akCg6yqsQH"
      }
    },
    {
      "cell_type": "markdown",
      "source": [
        "### 2. Autograd: Automatic Differentiation\n",
        "\n",
        "PyTorch provides an **autograd** package that automatically calculates the gradients of tensors. This is crucial for backpropagation in training neural networks.\n",
        "\n",
        "Let’s look at an example:"
      ],
      "metadata": {
        "id": "xPXeQnijpq1L"
      }
    },
    {
      "cell_type": "code",
      "source": [
        "# Create a tensor with requires_grad=True to track operations\n",
        "x = torch.tensor([1.0, 2.0, 3.0], requires_grad=True)\n",
        "\n",
        "# Perform operations\n",
        "y = x ** 2 + 2 * x + 1\n",
        "\n",
        "# dy/dx = 2x + 2\n",
        "# grad(x=1) = 4\n",
        "# grad(x=2) = 6\n",
        "# grad(x=3) = 8\n",
        "\n",
        "# Backpropagate to compute gradients\n",
        "y.backward(torch.tensor([1.0, 1.0, 1.0]))\n",
        "\n",
        "# Print gradients\n",
        "print(\"Gradients:\", x.grad)"
      ],
      "metadata": {
        "colab": {
          "base_uri": "https://localhost:8080/"
        },
        "id": "0fwxA3ZCqZxS",
        "outputId": "3ecaa0f7-0164-4bd9-c444-73b37b885688"
      },
      "execution_count": null,
      "outputs": [
        {
          "output_type": "stream",
          "name": "stdout",
          "text": [
            "Gradients: tensor([4., 6., 8.])\n"
          ]
        }
      ]
    },
    {
      "cell_type": "markdown",
      "source": [
        "In this example, `x.grad` will contain the derivatives of `y` with respect to `x`. This is essential for updating the weights during training.\n",
        "\n",
        "**Interview Tip:** An interviewer might ask, \"How does autograd work in PyTorch?\" You could explain that PyTorch uses a dynamic computational graph, meaning the graph is built as operations are performed. When `backward()` is called, gradients are computed by traversing this graph."
      ],
      "metadata": {
        "id": "IL2rZTKbqfbi"
      }
    },
    {
      "cell_type": "markdown",
      "source": [
        "### 3. Building Neural Networks\n",
        "\n",
        "In PyTorch, neural networks are built using the `torch.nn` module, which provides all the building blocks to define and train models. Here’s how you can create a simple feedforward neural network:"
      ],
      "metadata": {
        "id": "d9oBm4pVpqxz"
      }
    },
    {
      "cell_type": "code",
      "source": [
        "import torch\n",
        "import torch.nn as nn\n",
        "import torch.optim as optim\n",
        "\n",
        "# Define a neural network\n",
        "class SimpleNN(nn.Module):\n",
        "    def __init__(self):\n",
        "        super(SimpleNN, self).__init__()\n",
        "        self.fc1 = nn.Linear(3, 5)  # Fully connected layer 1\n",
        "        self.fc2 = nn.Linear(5, 1)  # Fully connected layer 2\n",
        "\n",
        "    def forward(self, x):\n",
        "        x = torch.relu(self.fc1(x))\n",
        "        x = self.fc2(x)\n",
        "        return x\n",
        "\n",
        "# Create the model\n",
        "model = SimpleNN()\n",
        "\n",
        "# Define a loss function and optimizer\n",
        "criterion = nn.MSELoss()  # Mean squared error loss\n",
        "optimizer = optim.SGD(model.parameters(), lr=0.01)  # Stochastic Gradient Descent\n",
        "\n",
        "# Sample data\n",
        "inputs = torch.tensor([[1.0, 2.0, 3.0], [4.0, 5.0, 6.0]])\n",
        "actuals = torch.tensor([[10.0], [20.0]])\n",
        "\n",
        "# Forward pass: Compute predicted output by passing inputs to the model\n",
        "predictions = model(inputs)\n",
        "print(predictions)\n",
        "\n",
        "# Compute and print loss\n",
        "loss = criterion(predictions, actuals)\n",
        "print('Loss:', loss.item())\n",
        "\n",
        "# Backward pass and optimize\n",
        "optimizer.zero_grad()  # Zero the gradients\n",
        "loss.backward()  # Backpropagation\n",
        "optimizer.step()  # Update the weights"
      ],
      "metadata": {
        "colab": {
          "base_uri": "https://localhost:8080/"
        },
        "id": "XudNfG5cq5ke",
        "outputId": "ba91e0b7-633d-4de4-b1ef-5eadb46e30b9"
      },
      "execution_count": null,
      "outputs": [
        {
          "output_type": "stream",
          "name": "stdout",
          "text": [
            "tensor([[-0.4618],\n",
            "        [-0.8914]], grad_fn=<AddmmBackward0>)\n",
            "Loss: 272.9495544433594\n"
          ]
        }
      ]
    },
    {
      "cell_type": "markdown",
      "source": [
        "**Interview Tip:** You might be asked, \"What is the purpose of `optimizer.zero_grad()`?\" Explain that PyTorch accumulates gradients by default, so `zero_grad()` is used to reset the gradients before computing them in the backward pass. This prevents gradients from being incorrectly accumulated over multiple backward passes.\n",
        "\n"
      ],
      "metadata": {
        "id": "41yNtAtkq-H8"
      }
    },
    {
      "cell_type": "markdown",
      "source": [
        "### 4. Training a Model\n",
        "\n",
        "Here’s how you typically train a model in PyTorch:\n"
      ],
      "metadata": {
        "id": "3pSOqn_jpqur"
      }
    },
    {
      "cell_type": "code",
      "source": [
        "# Training loop\n",
        "for epoch in range(100):  # Number of epochs\n",
        "    # Forward pass\n",
        "    predictions = model(inputs)\n",
        "    loss = criterion(predictions, actuals)\n",
        "\n",
        "    # Backward pass and optimize\n",
        "    optimizer.zero_grad()\n",
        "    loss.backward()\n",
        "    optimizer.step()\n",
        "\n",
        "    print(f'Epoch [{epoch+1}/100], Loss: {loss.item():.8f}')"
      ],
      "metadata": {
        "colab": {
          "base_uri": "https://localhost:8080/"
        },
        "id": "mIIcVSXOrBUy",
        "outputId": "899e1509-7493-4d41-e6cf-0536c7255d2e"
      },
      "execution_count": null,
      "outputs": [
        {
          "output_type": "stream",
          "name": "stdout",
          "text": [
            "Epoch [1/100], Loss: 116.77798462\n",
            "Epoch [2/100], Loss: 283.46295166\n",
            "Epoch [3/100], Loss: 243.96444702\n",
            "Epoch [4/100], Loss: 235.29347229\n",
            "Epoch [5/100], Loss: 226.96583557\n",
            "Epoch [6/100], Loss: 218.96798706\n",
            "Epoch [7/100], Loss: 211.28686523\n",
            "Epoch [8/100], Loss: 203.90991211\n",
            "Epoch [9/100], Loss: 196.82505798\n",
            "Epoch [10/100], Loss: 190.02079773\n",
            "Epoch [11/100], Loss: 183.48596191\n",
            "Epoch [12/100], Loss: 177.20994568\n",
            "Epoch [13/100], Loss: 171.18240356\n",
            "Epoch [14/100], Loss: 165.39358521\n",
            "Epoch [15/100], Loss: 159.83401489\n",
            "Epoch [16/100], Loss: 154.49456787\n",
            "Epoch [17/100], Loss: 149.36660767\n",
            "Epoch [18/100], Loss: 144.44168091\n",
            "Epoch [19/100], Loss: 139.71177673\n",
            "Epoch [20/100], Loss: 135.16918945\n",
            "Epoch [21/100], Loss: 130.80648804\n",
            "Epoch [22/100], Loss: 126.61655426\n",
            "Epoch [23/100], Loss: 122.59254456\n",
            "Epoch [24/100], Loss: 118.72788239\n",
            "Epoch [25/100], Loss: 115.01625824\n",
            "Epoch [26/100], Loss: 111.45159912\n",
            "Epoch [27/100], Loss: 108.02812195\n",
            "Epoch [28/100], Loss: 104.74021149\n",
            "Epoch [29/100], Loss: 101.58249664\n",
            "Epoch [30/100], Loss: 98.54982758\n",
            "Epoch [31/100], Loss: 95.63723755\n",
            "Epoch [32/100], Loss: 92.84001923\n",
            "Epoch [33/100], Loss: 90.15355682\n",
            "Epoch [34/100], Loss: 87.57347107\n",
            "Epoch [35/100], Loss: 85.09555817\n",
            "Epoch [36/100], Loss: 82.71577454\n",
            "Epoch [37/100], Loss: 80.43022919\n",
            "Epoch [38/100], Loss: 78.23519897\n",
            "Epoch [39/100], Loss: 76.12707520\n",
            "Epoch [40/100], Loss: 74.10244751\n",
            "Epoch [41/100], Loss: 72.15798950\n",
            "Epoch [42/100], Loss: 70.29053497\n",
            "Epoch [43/100], Loss: 68.49702454\n",
            "Epoch [44/100], Loss: 66.77453613\n",
            "Epoch [45/100], Loss: 65.12026978\n",
            "Epoch [46/100], Loss: 63.53150177\n",
            "Epoch [47/100], Loss: 62.00564957\n",
            "Epoch [48/100], Loss: 60.54022217\n",
            "Epoch [49/100], Loss: 59.13282776\n",
            "Epoch [50/100], Loss: 57.78116608\n",
            "Epoch [51/100], Loss: 56.48303223\n",
            "Epoch [52/100], Loss: 55.23630142\n",
            "Epoch [53/100], Loss: 54.03894424\n",
            "Epoch [54/100], Loss: 52.88900375\n",
            "Epoch [55/100], Loss: 51.78459549\n",
            "Epoch [56/100], Loss: 50.72392273\n",
            "Epoch [57/100], Loss: 49.70525742\n",
            "Epoch [58/100], Loss: 48.72692108\n",
            "Epoch [59/100], Loss: 47.78733444\n",
            "Epoch [60/100], Loss: 46.88495636\n",
            "Epoch [61/100], Loss: 46.01830673\n",
            "Epoch [62/100], Loss: 45.18598938\n",
            "Epoch [63/100], Loss: 44.38661957\n",
            "Epoch [64/100], Loss: 43.61890793\n",
            "Epoch [65/100], Loss: 42.88159943\n",
            "Epoch [66/100], Loss: 42.17348862\n",
            "Epoch [67/100], Loss: 41.49341965\n",
            "Epoch [68/100], Loss: 40.84027863\n",
            "Epoch [69/100], Loss: 40.21300125\n",
            "Epoch [70/100], Loss: 39.61056900\n",
            "Epoch [71/100], Loss: 39.03199005\n",
            "Epoch [72/100], Loss: 38.47632217\n",
            "Epoch [73/100], Loss: 37.94265747\n",
            "Epoch [74/100], Loss: 37.43013000\n",
            "Epoch [75/100], Loss: 36.93789291\n",
            "Epoch [76/100], Loss: 36.46515656\n",
            "Epoch [77/100], Loss: 36.01113510\n",
            "Epoch [78/100], Loss: 35.57509232\n",
            "Epoch [79/100], Loss: 35.15631866\n",
            "Epoch [80/100], Loss: 34.75413132\n",
            "Epoch [81/100], Loss: 34.36787033\n",
            "Epoch [82/100], Loss: 33.99690628\n",
            "Epoch [83/100], Loss: 33.64062500\n",
            "Epoch [84/100], Loss: 33.29845428\n",
            "Epoch [85/100], Loss: 32.96983337\n",
            "Epoch [86/100], Loss: 32.65423203\n",
            "Epoch [87/100], Loss: 32.35112762\n",
            "Epoch [88/100], Loss: 32.06002045\n",
            "Epoch [89/100], Loss: 31.78044319\n",
            "Epoch [90/100], Loss: 31.51194000\n",
            "Epoch [91/100], Loss: 31.25406837\n",
            "Epoch [92/100], Loss: 31.00640678\n",
            "Epoch [93/100], Loss: 30.76855087\n",
            "Epoch [94/100], Loss: 30.54011726\n",
            "Epoch [95/100], Loss: 30.32072639\n",
            "Epoch [96/100], Loss: 30.11002922\n",
            "Epoch [97/100], Loss: 29.90766907\n",
            "Epoch [98/100], Loss: 29.71332550\n",
            "Epoch [99/100], Loss: 29.52667618\n",
            "Epoch [100/100], Loss: 29.34741974\n"
          ]
        }
      ]
    },
    {
      "cell_type": "markdown",
      "source": [
        "**Interview Tip:** Be prepared to discuss the training process, including the roles of forward and backward passes, loss calculation, and optimization. You might also be asked about overfitting and techniques to prevent it, such as using regularization or dropout.\n",
        "\n"
      ],
      "metadata": {
        "id": "jz9d6fEmrFW2"
      }
    },
    {
      "cell_type": "markdown",
      "source": [
        "### 5. Data Handling with `torch.utils.data`\n",
        "\n",
        "In data science, efficiently loading and processing data is crucial. PyTorch provides the `torch.utils.data` module, which includes `Dataset` and `DataLoader` classes for handling data.\n",
        "\n"
      ],
      "metadata": {
        "id": "M9U7dUtzpqrz"
      }
    },
    {
      "cell_type": "code",
      "source": [
        "from torch.utils.data import Dataset, DataLoader\n",
        "\n",
        "# Create a custom dataset\n",
        "class CustomDataset(Dataset):\n",
        "    def __init__(self):\n",
        "        # Initialize the data here\n",
        "        self.data = torch.tensor([[1.0, 2.0, 3.0], [4.0, 5.0, 6.0]])\n",
        "        self.targets = torch.tensor([[10.0], [20.0]])\n",
        "\n",
        "    def __len__(self):\n",
        "        # Return the length of the dataset\n",
        "        return len(self.data)\n",
        "\n",
        "    def __getitem__(self, idx):\n",
        "        # Retrieve a sample and its corresponding target\n",
        "        return self.data[idx], self.targets[idx]\n",
        "\n",
        "# Create dataset and dataloader\n",
        "dataset = CustomDataset()\n",
        "dataloader = DataLoader(dataset, batch_size=2, shuffle=True)\n",
        "\n",
        "# Iterate over the data\n",
        "for data, targets in dataloader:\n",
        "    print(\"Data:\", data)\n",
        "    print(\"Targets:\", targets)"
      ],
      "metadata": {
        "colab": {
          "base_uri": "https://localhost:8080/"
        },
        "id": "C_oZNLnzrJwm",
        "outputId": "ef91182d-ec00-482d-e8a7-0097443e9ccd"
      },
      "execution_count": null,
      "outputs": [
        {
          "output_type": "stream",
          "name": "stdout",
          "text": [
            "Data: tensor([[1., 2., 3.],\n",
            "        [4., 5., 6.]])\n",
            "Targets: tensor([[10.],\n",
            "        [20.]])\n"
          ]
        }
      ]
    },
    {
      "cell_type": "markdown",
      "source": [
        "**Interview Tip:** If asked about data loading, you should know how `Dataset` and `DataLoader` work. The `DataLoader` is particularly useful for batching and shuffling the data, which are important for training models efficiently.\n",
        "\n"
      ],
      "metadata": {
        "id": "MpMCRK8MrNfr"
      }
    },
    {
      "cell_type": "markdown",
      "source": [
        "### 6. Transfer Learning\n",
        "\n",
        "Transfer learning involves taking a pre-trained model and fine-tuning it on a new dataset. This is common in data science when you have limited data but still want to leverage powerful models.\n",
        "\n",
        "Here’s a simple example using a pre-trained model from `torchvision`:"
      ],
      "metadata": {
        "id": "XNWoVPAnpqo8"
      }
    },
    {
      "cell_type": "code",
      "source": [
        "import torchvision.models as models\n",
        "\n",
        "# Load a pre-trained ResNet model\n",
        "model = models.resnet18(pretrained=True)\n",
        "\n",
        "# Freeze all layers\n",
        "for param in model.parameters():\n",
        "    param.requires_grad = False\n",
        "\n",
        "# Replace the final layer (classifier) to match the number of classes in your dataset\n",
        "model.fc = nn.Linear(model.fc.in_features, 10)  # Assume 10 output classes\n",
        "\n",
        "# Now, only the new layer's parameters will be optimized\n",
        "optimizer = optim.SGD(model.fc.parameters(), lr=0.001)\n",
        "\n",
        "# Forward pass, loss computation, backward pass, and optimization proceed as before"
      ],
      "metadata": {
        "colab": {
          "base_uri": "https://localhost:8080/"
        },
        "id": "CeGrmjR0rQzY",
        "outputId": "452b7e51-f31d-40d4-891d-57230b82f155"
      },
      "execution_count": null,
      "outputs": [
        {
          "output_type": "stream",
          "name": "stderr",
          "text": [
            "/usr/local/lib/python3.10/dist-packages/torchvision/models/_utils.py:208: UserWarning: The parameter 'pretrained' is deprecated since 0.13 and may be removed in the future, please use 'weights' instead.\n",
            "  warnings.warn(\n",
            "/usr/local/lib/python3.10/dist-packages/torchvision/models/_utils.py:223: UserWarning: Arguments other than a weight enum or `None` for 'weights' are deprecated since 0.13 and may be removed in the future. The current behavior is equivalent to passing `weights=ResNet18_Weights.IMAGENET1K_V1`. You can also use `weights=ResNet18_Weights.DEFAULT` to get the most up-to-date weights.\n",
            "  warnings.warn(msg)\n",
            "Downloading: \"https://download.pytorch.org/models/resnet18-f37072fd.pth\" to /root/.cache/torch/hub/checkpoints/resnet18-f37072fd.pth\n",
            "100%|██████████| 44.7M/44.7M [00:00<00:00, 69.2MB/s]\n"
          ]
        }
      ]
    },
    {
      "cell_type": "markdown",
      "source": [
        "**Interview Tip:** You might be asked, \"What is transfer learning, and why is it useful?\" Transfer learning allows you to use models trained on large datasets (like ImageNet) as a starting point, which can significantly speed up training and improve performance on your own task."
      ],
      "metadata": {
        "id": "MSFxAYZKrUFh"
      }
    },
    {
      "cell_type": "markdown",
      "source": [
        "### 7. Model Evaluation and Metrics\n",
        "\n",
        "After training a model, evaluating its performance on unseen data (i.e., the test set) is crucial. In PyTorch, this involves switching the model to evaluation mode, calculating predictions, and comparing them with the actual labels using various metrics.\n",
        "\n",
        "#### Switching to Evaluation Mode\n",
        "\n",
        "When evaluating the model, you should disable dropout and batch normalization, which behave differently during training and testing. This is done using `model.eval()`.\n",
        "\n",
        "```python\n",
        "# Switch to evaluation mode\n",
        "model.eval()\n",
        "\n",
        "# Example with no_grad (more on this below)\n",
        "with torch.no_grad():\n",
        "    outputs = model(inputs)\n",
        "    # Here you would compute the metrics (like accuracy, precision, etc.)\n",
        "```\n",
        "\n",
        "The `torch.no_grad()` context manager is used to disable gradient calculation, which saves memory and computations during evaluation.\n",
        "\n",
        "#### Calculating Accuracy\n",
        "\n",
        "Here’s a simple example of how to calculate accuracy:\n",
        "\n",
        "```python\n",
        "correct = 0\n",
        "total = 0\n",
        "\n",
        "with torch.no_grad():\n",
        "    for data, labels in test_loader:\n",
        "        outputs = model(data)\n",
        "        _, predicted = torch.max(outputs, 1)  # Get the index of the max log-probability\n",
        "        total += labels.size(0)\n",
        "        correct += (predicted == labels).sum().item()\n",
        "\n",
        "accuracy = correct / total\n",
        "print(f'Accuracy: {accuracy * 100:.2f}%')\n",
        "```\n",
        "\n",
        "**Interview Tip:** You might be asked, \"What’s the purpose of `model.eval()`?\" The answer is that it tells the model you are in inference mode, so layers like dropout or batch normalization behave accordingly, which is different from their behavior during training.\n",
        "\n",
        "### 8. Saving and Loading Models\n",
        "\n",
        "Saving and loading models are crucial for reusing trained models or resuming training. PyTorch provides an easy way to do this using `torch.save` and `torch.load`.\n",
        "\n",
        "#### Saving the Model\n",
        "\n",
        "```python\n",
        "# Save the entire model\n",
        "torch.save(model, 'model.pth')\n",
        "\n",
        "# Or save just the state dict (recommended)\n",
        "torch.save(model.state_dict(), 'model_state.pth')\n",
        "```\n",
        "\n",
        "#### Loading the Model\n",
        "\n",
        "```python\n",
        "# Load the entire model\n",
        "model = torch.load('model.pth')\n",
        "\n",
        "# Or load the state dict\n",
        "model = SimpleNN()\n",
        "model.load_state_dict(torch.load('model_state.pth'))\n",
        "model.eval()  # Set the model to evaluation mode\n",
        "```\n",
        "\n",
        "**Interview Tip:** An interviewer might ask, \"Why is saving the state dict of a model preferred over saving the entire model?\" The state dict only contains the parameters and buffers, which makes it more flexible. For example, you can load the state dict into a model with the same architecture but different code.\n",
        "\n",
        "### 9. Using GPUs Effectively\n",
        "\n",
        "To speed up training, you should leverage GPUs, especially for large models and datasets. PyTorch makes it easy to move data and models to the GPU.\n",
        "\n",
        "#### Moving Models and Tensors to GPU\n",
        "\n",
        "```python\n",
        "# Move model to GPU\n",
        "device = torch.device('cuda' if torch.cuda.is_available() else 'cpu')\n",
        "model = model.to(device)\n",
        "\n",
        "# Move inputs and targets to GPU\n",
        "inputs = inputs.to(device)\n",
        "targets = targets.to(device)\n",
        "```\n",
        "\n",
        "#### Mixed Precision Training\n",
        "\n",
        "Mixed precision training involves using both 16-bit and 32-bit floating-point numbers, which can accelerate training and reduce memory usage. PyTorch supports this with the `torch.cuda.amp` module.\n",
        "\n",
        "```python\n",
        "from torch.cuda.amp import autocast, GradScaler\n",
        "\n",
        "scaler = GradScaler()\n",
        "\n",
        "for inputs, targets in train_loader:\n",
        "    inputs, targets = inputs.to(device), targets.to(device)\n",
        "\n",
        "    optimizer.zero_grad()\n",
        "\n",
        "    with autocast():\n",
        "        outputs = model(inputs)\n",
        "        loss = criterion(outputs, targets)\n",
        "\n",
        "    scaler.scale(loss).backward()\n",
        "    scaler.step(optimizer)\n",
        "    scaler.update()\n",
        "```\n",
        "\n",
        "**Interview Tip:** You could be asked, \"What are the benefits of using mixed precision training?\" It allows faster computations and reduced memory usage while maintaining model accuracy, which is especially beneficial when training large models on GPUs.\n",
        "\n",
        "### 10. Common Neural Network Architectures\n",
        "\n",
        "PyTorch makes it easy to implement various neural network architectures. Let’s look at some common ones:\n",
        "\n",
        "#### 10.1 Convolutional Neural Networks (CNNs)\n",
        "\n",
        "CNNs are widely used for image data. Here’s a simple example of a CNN in PyTorch:\n",
        "\n",
        "```python\n",
        "class SimpleCNN(nn.Module):\n",
        "    def __init__(self):\n",
        "        super(SimpleCNN, self).__init__()\n",
        "        self.conv1 = nn.Conv2d(1, 32, kernel_size=3)  # 1 input channel, 32 output channels\n",
        "        self.conv2 = nn.Conv2d(32, 64, kernel_size=3)\n",
        "        self.fc1 = nn.Linear(64 * 12 * 12, 128)  # Assuming input size is 28x28\n",
        "        self.fc2 = nn.Linear(128, 10)  # Assuming 10 output classes\n",
        "\n",
        "    def forward(self, x):\n",
        "        x = torch.relu(self.conv1(x))\n",
        "        x = torch.relu(self.conv2(x))\n",
        "        x = torch.flatten(x, 1)\n",
        "        x = torch.relu(self.fc1(x))\n",
        "        x = self.fc2(x)\n",
        "        return x\n",
        "```\n",
        "\n",
        "**Interview Tip:** You might be asked, \"How does a convolutional layer work?\" Explain that it applies a filter to the input image to detect features like edges, textures, etc., and then these features are combined to recognize higher-level patterns.\n",
        "\n",
        "#### 10.2 Recurrent Neural Networks (RNNs)\n",
        "\n",
        "RNNs are used for sequential data, such as time series or text. Here’s a simple RNN example:\n",
        "\n",
        "```python\n",
        "class SimpleRNN(nn.Module):\n",
        "    def __init__(self, input_size, hidden_size, output_size):\n",
        "        super(SimpleRNN, self).__init__()\n",
        "        self.rnn = nn.RNN(input_size, hidden_size, batch_first=True)\n",
        "        self.fc = nn.Linear(hidden_size, output_size)\n",
        "\n",
        "    def forward(self, x):\n",
        "        out, _ = self.rnn(x)\n",
        "        out = self.fc(out[:, -1, :])\n",
        "        return out\n",
        "```\n",
        "\n",
        "**Interview Tip:** A common question is, \"What are the limitations of vanilla RNNs?\" They struggle with long-term dependencies due to the vanishing gradient problem, making it hard to capture patterns in longer sequences. This is why architectures like LSTMs or GRUs are often preferred.\n",
        "\n",
        "#### 10.3 Transformers\n",
        "\n",
        "Transformers are widely used in NLP tasks and have become the architecture of choice for many tasks.\n",
        "\n",
        "Here’s a simplified transformer implementation for sequence data:\n",
        "\n",
        "```python\n",
        "class TransformerModel(nn.Module):\n",
        "    def __init__(self, nhead, num_encoder_layers, dim_model, dim_feedforward):\n",
        "        super(TransformerModel, self).__init__()\n",
        "        self.transformer = nn.Transformer(\n",
        "            d_model=dim_model, nhead=nhead, num_encoder_layers=num_encoder_layers, dim_feedforward=dim_feedforward\n",
        "        )\n",
        "        self.fc = nn.Linear(dim_model, 10)  # Assuming 10 output classes\n",
        "\n",
        "    def forward(self, src, tgt):\n",
        "        out = self.transformer(src, tgt)\n",
        "        out = self.fc(out[-1])\n",
        "        return out\n",
        "```\n",
        "\n",
        "**Interview Tip:** You could be asked, \"Why have transformers become so popular in NLP?\" Transformers can capture long-range dependencies in sequences without the sequential processing bottlenecks of RNNs, thanks to the self-attention mechanism.\n",
        "\n",
        "### 11. Regularization Techniques\n",
        "\n",
        "Overfitting is a common problem in deep learning, where the model performs well on the training data but poorly on unseen data. Regularization techniques help mitigate this.\n",
        "\n",
        "#### 11.1 Dropout\n",
        "\n",
        "Dropout is a technique where, during training, a certain percentage of neurons are randomly set to zero in each forward pass.\n",
        "\n",
        "```python\n",
        "class SimpleNNWithDropout(nn.Module):\n",
        "    def __init__(self):\n",
        "        super(SimpleNNWithDropout, self).__init__()\n",
        "        self.fc1 = nn.Linear(3, 5)\n",
        "        self.dropout = nn.Dropout(0.5)  # 50% dropout\n",
        "        self.fc2 = nn.Linear(5, 1)\n",
        "\n",
        "    def forward(self, x):\n",
        "        x = torch.relu(self.fc1(x))\n",
        "        x = self.dropout(x)  # Apply dropout\n",
        "        x = self.fc2(x)\n",
        "        return x\n",
        "```\n",
        "\n",
        "**Interview Tip:** A potential question could be, \"How does dropout help prevent overfitting?\" By randomly dropping neurons, dropout prevents the model from becoming too reliant on any one neuron, which encourages the model to learn more robust features.\n",
        "\n",
        "#### 11.2 Weight Decay (L2 Regularization)\n",
        "\n",
        "Weight decay adds a penalty to the loss function based on the magnitude of the weights, discouraging large weights that might indicate overfitting.\n",
        "\n",
        "```python\n",
        "optimizer = optim.SGD(model.parameters(), lr=0.01, weight_decay=1e-5)\n",
        "```\n",
        "\n",
        "**Interview Tip:** You might be asked, \"What’s the difference between L1 and L2 regularization?\" L1 regularization encourages sparsity by adding a penalty proportional to the absolute value of the weights, while L2 regularization (weight decay) penalizes the square of the weights, encouraging smaller but non-zero weights.\n"
      ],
      "metadata": {
        "id": "ayX73HqBpqib"
      }
    },
    {
      "cell_type": "code",
      "execution_count": null,
      "metadata": {
        "id": "nmjGrwqPpXba"
      },
      "outputs": [],
      "source": []
    }
  ]
}