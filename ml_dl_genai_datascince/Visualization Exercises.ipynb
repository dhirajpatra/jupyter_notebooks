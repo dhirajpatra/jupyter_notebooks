{
 "cells": [
  {
   "cell_type": "markdown",
   "metadata": {
    "id": "RY0iaV6k2aY5"
   },
   "source": [
    "# Visualization Exercise\n",
    "\n",
    "## The Data\n",
    "\n",
    "This classic dataset contains the prices and other attributes of almost 54,000 diamonds. It's a great dataset for beginners learning to work with data analysis and visualization.\n",
    "\n",
    "#### Content\n",
    "\n",
    "* price price in US dollars (\\$326--\\$18,823)\n",
    "\n",
    "* carat weight of the diamond (0.2--5.01)\n",
    "\n",
    "* cut quality of the cut (Fair, Good, Very Good, Premium, Ideal)\n",
    "\n",
    "* color diamond colour, from J (worst) to D (best)\n",
    "\n",
    "* clarity a measurement of how clear the diamond is (I1 (worst), SI2, SI1, VS2, VS1, VVS2, VVS1, IF (best))\n",
    "\n",
    "* x length in mm (0--10.74)\n",
    "\n",
    "* y width in mm (0--58.9)\n",
    "\n",
    "* z depth in mm (0--31.8)\n",
    "\n",
    "* depth total depth percentage = z / mean(x, y) = 2 * z / (x + y) (43--79)\n",
    "\n",
    "* table width of top of diamond relative to widest point (43--95)"
   ]
  },
  {
   "cell_type": "markdown",
   "metadata": {
    "id": "V0xZvl182aY5"
   },
   "source": [
    "## Imports and Data"
   ]
  },
  {
   "cell_type": "code",
   "execution_count": null,
   "metadata": {
    "id": "LdVCuYhL2aY6"
   },
   "outputs": [],
   "source": [
    "import pandas as pd\n",
    "import matplotlib.pyplot as plt\n",
    "\n",
    "import seaborn as sns"
   ]
  },
  {
   "cell_type": "code",
   "execution_count": null,
   "metadata": {
    "id": "EV62jidF2aY7"
   },
   "outputs": [],
   "source": [
    "diamonds = pd.read_csv('../DATA/diamonds.csv')"
   ]
  },
  {
   "cell_type": "code",
   "execution_count": null,
   "metadata": {
    "id": "CtdpuZ8D2aY7",
    "outputId": "70b377be-ac2a-45d4-9a46-b8ffa739a3bc"
   },
   "outputs": [],
   "source": [
    "diamonds.head()"
   ]
  },
  {
   "cell_type": "code",
   "execution_count": null,
   "metadata": {
    "id": "58I6iClb2aY8",
    "outputId": "5034fcce-495f-42cf-a0ec-f55843436f0c"
   },
   "outputs": [],
   "source": [
    "diamonds.info()"
   ]
  },
  {
   "cell_type": "markdown",
   "metadata": {
    "id": "Z8ftTHSt2aY8"
   },
   "source": [
    "#### TASK: Create a scatterplot of price versus carat as shown below"
   ]
  },
  {
   "cell_type": "code",
   "execution_count": null,
   "metadata": {
    "id": "0tNR4Hfp2aY8"
   },
   "outputs": [],
   "source": [
    "# CODE HERE"
   ]
  },
  {
   "cell_type": "code",
   "execution_count": null,
   "metadata": {
    "id": "hCy4KpWw2aY9",
    "outputId": "d1e0445d-7500-4efd-bc21-0432849b6a19"
   },
   "outputs": [],
   "source": [
    "# DON'T CODE HERE"
   ]
  },
  {
   "cell_type": "markdown",
   "metadata": {
    "id": "tRUt8qg42aY9"
   },
   "source": [
    "#### TASK: Use alpha parameter and edgecolor parameter to deal with the overlapping issue and white edgemarker issue."
   ]
  },
  {
   "cell_type": "code",
   "execution_count": null,
   "metadata": {
    "id": "5oLqzCk22aY9"
   },
   "outputs": [],
   "source": [
    "# CODE HERE"
   ]
  },
  {
   "cell_type": "code",
   "execution_count": null,
   "metadata": {
    "id": "CBHW8FkH2aY9",
    "outputId": "4c5617e2-44c7-415f-eb4a-3680ab92f337"
   },
   "outputs": [],
   "source": [
    "# DON'T CODE HERE"
   ]
  },
  {
   "cell_type": "markdown",
   "metadata": {
    "id": "q1K11Ek72aY9"
   },
   "source": [
    "#### TASK: Make the previous plot larger"
   ]
  },
  {
   "cell_type": "code",
   "execution_count": null,
   "metadata": {
    "id": "uw6sf5-E2aY9"
   },
   "outputs": [],
   "source": [
    "# CODE HERE"
   ]
  },
  {
   "cell_type": "code",
   "execution_count": null,
   "metadata": {
    "id": "TcFe75Sc2aY9",
    "outputId": "246e984e-5f52-4472-f782-9e0cfd9c9066"
   },
   "outputs": [],
   "source": [
    "# DON'T CODE HERE"
   ]
  },
  {
   "cell_type": "markdown",
   "metadata": {
    "id": "7hfedjVB2aY-"
   },
   "source": [
    "#### TASK: Create a histogram of the price column as shown below"
   ]
  },
  {
   "cell_type": "code",
   "execution_count": null,
   "metadata": {
    "id": "1gOfJJXp2aY-"
   },
   "outputs": [],
   "source": [
    "# CODE HERE"
   ]
  },
  {
   "cell_type": "code",
   "execution_count": null,
   "metadata": {
    "id": "TS40lay22aY-",
    "outputId": "16b4b1c3-220a-490a-d182-0a34b4e3e62a"
   },
   "outputs": [],
   "source": [
    "# DON'T CODE HERE"
   ]
  },
  {
   "cell_type": "markdown",
   "metadata": {
    "id": "8VbScBRw2aY-"
   },
   "source": [
    "#### TASK: Create a count plot of the instances per cut type as shown below"
   ]
  },
  {
   "cell_type": "code",
   "execution_count": null,
   "metadata": {
    "id": "xYcj7din2aY-"
   },
   "outputs": [],
   "source": [
    "# CODE HERE"
   ]
  },
  {
   "cell_type": "code",
   "execution_count": null,
   "metadata": {
    "id": "HRQwunMC2aY-",
    "outputId": "84908a85-8f45-46b3-9eb0-7d02b34201ff"
   },
   "outputs": [],
   "source": [
    "# DON'T CODE HERE"
   ]
  },
  {
   "cell_type": "markdown",
   "metadata": {
    "id": "lZk0WofH2aY-"
   },
   "source": [
    "#### TASK: Create a large box plot figure showing the price distribution per cut type as shown below"
   ]
  },
  {
   "cell_type": "code",
   "execution_count": null,
   "metadata": {
    "id": "gk9a9pZx2aY-"
   },
   "outputs": [],
   "source": [
    "# CODE HERE"
   ]
  },
  {
   "cell_type": "code",
   "execution_count": null,
   "metadata": {
    "id": "0WYkDPbf2aY-",
    "outputId": "31e0a26d-092a-4dba-efbc-a6febd80de0c"
   },
   "outputs": [],
   "source": [
    "# DON'T CODE HERE"
   ]
  },
  {
   "cell_type": "markdown",
   "metadata": {
    "id": "rxlNPtST2aY_"
   },
   "source": [
    "#### TASK: Challenge! See if you can figure out how to change the ordering of the boxplot as shown below. Feel free to also chaneg the coloring, to reflect this relationship between the cut types."
   ]
  },
  {
   "cell_type": "code",
   "execution_count": null,
   "metadata": {
    "id": "RkQNqp102aY_"
   },
   "outputs": [],
   "source": [
    "# CODE HERE"
   ]
  },
  {
   "cell_type": "code",
   "execution_count": null,
   "metadata": {
    "id": "R85P7D462aY_",
    "outputId": "0b270ff6-c4b4-499f-f5ef-3a6fd0566f7e"
   },
   "outputs": [],
   "source": [
    "# DON'T CODE HERE"
   ]
  }
 ],
 "metadata": {
  "colab": {
   "provenance": []
  },
  "kernelspec": {
   "display_name": "Python 3",
   "language": "python",
   "name": "python3"
  },
  "language_info": {
   "codemirror_mode": {
    "name": "ipython",
    "version": 3
   },
   "file_extension": ".py",
   "mimetype": "text/x-python",
   "name": "python",
   "nbconvert_exporter": "python",
   "pygments_lexer": "ipython3",
   "version": "3.7.4"
  }
 },
 "nbformat": 4,
 "nbformat_minor": 0
}
