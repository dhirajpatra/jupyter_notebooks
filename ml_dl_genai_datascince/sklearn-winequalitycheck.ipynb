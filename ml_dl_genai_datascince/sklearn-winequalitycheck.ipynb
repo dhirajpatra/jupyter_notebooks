{
 "cells": [
  {
   "cell_type": "code",
   "execution_count": 1,
   "id": "01a28966-58c8-4d44-a721-9d1f748bb761",
   "metadata": {},
   "outputs": [
    {
     "ename": "ModuleNotFoundError",
     "evalue": "No module named 'mlflow'",
     "output_type": "error",
     "traceback": [
      "\u001b[31m---------------------------------------------------------------------------\u001b[39m",
      "\u001b[31mModuleNotFoundError\u001b[39m                       Traceback (most recent call last)",
      "\u001b[36mCell\u001b[39m\u001b[36m \u001b[39m\u001b[32mIn[1]\u001b[39m\u001b[32m, line 5\u001b[39m\n\u001b[32m      3\u001b[39m \u001b[38;5;28;01mfrom\u001b[39;00m\u001b[38;5;250m \u001b[39m\u001b[34;01msklearn\u001b[39;00m\u001b[34;01m.\u001b[39;00m\u001b[34;01mensemble\u001b[39;00m\u001b[38;5;250m \u001b[39m\u001b[38;5;28;01mimport\u001b[39;00m RandomForestClassifier\n\u001b[32m      4\u001b[39m \u001b[38;5;28;01mfrom\u001b[39;00m\u001b[38;5;250m \u001b[39m\u001b[34;01msklearn\u001b[39;00m\u001b[34;01m.\u001b[39;00m\u001b[34;01mmetrics\u001b[39;00m\u001b[38;5;250m \u001b[39m\u001b[38;5;28;01mimport\u001b[39;00m accuracy_score, precision_score, recall_score, f1_score\n\u001b[32m----> \u001b[39m\u001b[32m5\u001b[39m \u001b[38;5;28;01mimport\u001b[39;00m\u001b[38;5;250m \u001b[39m\u001b[34;01mmlflow\u001b[39;00m\n\u001b[32m      6\u001b[39m \u001b[38;5;28;01mimport\u001b[39;00m\u001b[38;5;250m \u001b[39m\u001b[34;01mmlflow\u001b[39;00m\u001b[34;01m.\u001b[39;00m\u001b[34;01msklearn\u001b[39;00m\n\u001b[32m      7\u001b[39m \u001b[38;5;28;01mimport\u001b[39;00m\u001b[38;5;250m \u001b[39m\u001b[34;01mlogging\u001b[39;00m\n",
      "\u001b[31mModuleNotFoundError\u001b[39m: No module named 'mlflow'"
     ]
    }
   ],
   "source": [
    "import pandas as pd\n",
    "from sklearn.model_selection import train_test_split\n",
    "from sklearn.ensemble import RandomForestClassifier\n",
    "from sklearn.metrics import accuracy_score, precision_score, recall_score, f1_score\n",
    "import mlflow\n",
    "import mlflow.sklearn\n",
    "import logging"
   ]
  },
  {
   "cell_type": "code",
   "execution_count": 2,
   "id": "70623072-dfe2-4dca-bed9-f7dce55760fb",
   "metadata": {},
   "outputs": [
    {
     "ename": "NameError",
     "evalue": "name 'logging' is not defined",
     "output_type": "error",
     "traceback": [
      "\u001b[31m---------------------------------------------------------------------------\u001b[39m",
      "\u001b[31mNameError\u001b[39m                                 Traceback (most recent call last)",
      "\u001b[36mCell\u001b[39m\u001b[36m \u001b[39m\u001b[32mIn[2]\u001b[39m\u001b[32m, line 1\u001b[39m\n\u001b[32m----> \u001b[39m\u001b[32m1\u001b[39m \u001b[43mlogging\u001b[49m.basicConfig(level=logging.WARN)\n\u001b[32m      2\u001b[39m logger = logging.getLogger(\u001b[34m__name__\u001b[39m)\n",
      "\u001b[31mNameError\u001b[39m: name 'logging' is not defined"
     ]
    }
   ],
   "source": [
    "logging.basicConfig(level=logging.WARN)\n",
    "logger = logging.getLogger(__name__)"
   ]
  },
  {
   "cell_type": "code",
   "execution_count": null,
   "id": "7752c331-35f1-4e78-86c8-f0e5d596a339",
   "metadata": {},
   "outputs": [],
   "source": [
    "def evaluate_metrics(actual, pred):\n",
    "    accuracy = accuracy_score(actual, pred)\n",
    "    precision = precision_score(actual, pred, average='weighted', zero_division=0)\n",
    "    recall = recall_score(actual, pred, average='weighted', zero_division=0)\n",
    "    f1 = f1_score(actual, pred, average='weighted', zero_division=0)\n",
    "    return accuracy, precision, recall, f1\n",
    "    "
   ]
  },
  {
   "cell_type": "code",
   "execution_count": null,
   "id": "7cd915ea-2adb-4599-9633-a86dea21f3f5",
   "metadata": {},
   "outputs": [],
   "source": [
    " # Load data (using a simple dummy dataset for demonstration)\n",
    "# In a real scenario, this would involve more robust data loading/preprocessing\n",
    "data = {\n",
    "    'fixed acidity': [7.4, 7.8, 7.8, 11.2, 7.4, 7.4, 7.9, 7.3, 7.8, 7.5],\n",
    "    'volatile acidity': [0.70, 0.88, 0.76, 0.28, 0.70, 0.66, 0.60, 0.65, 0.58, 0.50],\n",
    "    'citric acid': [0.00, 0.00, 0.04, 0.56, 0.00, 0.00, 0.06, 0.00, 0.02, 0.36],\n",
    "    'residual sugar': [1.9, 2.6, 2.3, 1.9, 1.9, 1.8, 1.6, 1.2, 2.0, 6.1],\n",
    "    'chlorides': [0.076, 0.098, 0.092, 0.075, 0.076, 0.075, 0.069, 0.065, 0.073, 0.071],\n",
    "    'free sulfur dioxide': [11.0, 25.0, 40.0, 17.0, 11.0, 13.0, 15.0, 15.0, 9.0, 10.0],\n",
    "    'total sulfur dioxide': [34.0, 67.0, 60.0, 60.0, 34.0, 40.0, 59.0, 21.0, 18.0, 24.0],\n",
    "    'density': [0.9978, 0.9968, 0.9968, 0.9980, 0.9978, 0.9978, 0.9964, 0.9946, 0.9968, 0.9978],\n",
    "    'pH': [3.51, 3.20, 3.26, 3.16, 3.51, 3.51, 3.30, 3.39, 3.36, 3.38],\n",
    "    'sulphates': [0.56, 0.68, 0.65, 0.58, 0.56, 0.56, 0.46, 0.47, 0.57, 0.58],\n",
    "    'alcohol': [9.4, 9.8, 9.8, 9.8, 9.4, 9.4, 10.8, 10.0, 9.5, 9.7],\n",
    "    'quality': [5, 5, 5, 6, 5, 5, 5, 7, 7, 5] # Target variable\n",
    "}"
   ]
  },
  {
   "cell_type": "code",
   "execution_count": null,
   "id": "8e1063c0-8740-4f76-82e1-f977e8a12b78",
   "metadata": {},
   "outputs": [],
   "source": [
    "def training(data):\n",
    "    # Log to MLflow\n",
    "    mlflow.set_experiment(\"WineQuality_Classification\")\n",
    "    \n",
    "    wine_df = pd.DataFrame(data)\n",
    "\n",
    "    X = wine_df.drop(\"quality\", axis=1)\n",
    "    y = wine_df[\"quality\"]\n",
    "\n",
    "    X_train, X_test, y_train, y_test = train_test_split(X, y, test_size=0.2, random_state=42)\n",
    "\n",
    "    # Train a RandomForestClassifier\n",
    "    n_estimators = 100\n",
    "    max_depth = 10\n",
    "\n",
    "    with mlflow.start_run(run_name=\"RandomForest_WineQuality\"):\n",
    "        model = RandomForestClassifier(n_estimators=n_estimators, max_depth=max_depth, random_state=42)\n",
    "        model.fit(X_train, y_train)\n",
    "        y_pred = model.predict(X_test)\n",
    "\n",
    "        # Evaluate model\n",
    "        accuracy, precision, recall, f1 = evaluate_metrics(y_test, y_pred)\n",
    "\n",
    "        logger.info(f\"RandomForestClassifier (n_estimators={n_estimators}, max_depth={max_depth}):\")\n",
    "        logger.info(f\"  Accuracy: {accuracy:.4f}\")\n",
    "        logger.info(f\"  Precision: {precision:.4f}\")\n",
    "        logger.info(f\"  Recall: {recall:.4f}\")\n",
    "        logger.info(f\"  F1-Score: {f1:.4f}\")\n",
    "\n",
    "        # Log parameters and metrics to MLflow\n",
    "        mlflow.log_param(\"n_estimators\", n_estimators)\n",
    "        mlflow.log_param(\"max_depth\", max_depth)\n",
    "        mlflow.log_metric(\"accuracy\", accuracy)\n",
    "        mlflow.log_metric(\"precision\", precision)\n",
    "        mlflow.log_metric(\"recall\", recall)\n",
    "        mlflow.log_metric(\"f1_score\", f1)\n",
    "\n",
    "        # Log the model (Scikit-learn flavor)\n",
    "        mlflow.sklearn.log_model(model, \"wine_quality_model\", registered_model_name=\"WineQualityModel\")\n",
    "        logger.info(\"Model logged to MLflow Model Registry as 'WineQualityModel'.\")"
   ]
  },
  {
   "cell_type": "code",
   "execution_count": null,
   "id": "6fab752c-ce95-43a0-8db6-c0215317de9a",
   "metadata": {},
   "outputs": [],
   "source": [
    "if __name__ == \"__main__\":\n",
    "    training(data)"
   ]
  }
 ],
 "metadata": {
  "kernelspec": {
   "display_name": "Python 3 (ipykernel)",
   "language": "python",
   "name": "python3"
  },
  "language_info": {
   "codemirror_mode": {
    "name": "ipython",
    "version": 3
   },
   "file_extension": ".py",
   "mimetype": "text/x-python",
   "name": "python",
   "nbconvert_exporter": "python",
   "pygments_lexer": "ipython3",
   "version": "3.12.3"
  }
 },
 "nbformat": 4,
 "nbformat_minor": 5
}
