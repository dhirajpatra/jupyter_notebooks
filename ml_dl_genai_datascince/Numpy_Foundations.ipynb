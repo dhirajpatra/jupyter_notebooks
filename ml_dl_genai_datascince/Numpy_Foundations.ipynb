{
  "nbformat": 4,
  "nbformat_minor": 0,
  "metadata": {
    "colab": {
      "provenance": [],
      "toc_visible": true
    },
    "kernelspec": {
      "name": "python3",
      "display_name": "Python 3"
    },
    "language_info": {
      "name": "python"
    }
  },
  "cells": [
    {
      "cell_type": "markdown",
      "source": [
        "# NumPy\n",
        "NumPy, short for Numerical Python, is a powerful library in Python used for numerical computations. It provides support for arrays, matrices, and many mathematical functions. Let's dive into the basics and build up to more advanced concepts with examples and analogies."
      ],
      "metadata": {
        "id": "R5BAswSTrvrb"
      }
    },
    {
      "cell_type": "markdown",
      "source": [
        "## Understanding Arrays: The Building Blocks"
      ],
      "metadata": {
        "id": "BChJIoDarzEh"
      }
    },
    {
      "cell_type": "markdown",
      "source": [
        "At the core of NumPy is the array, which is similar to a list in Python but with added functionality and reduced versitality. Think of a NumPy array as a high-performance container for large datasets."
      ],
      "metadata": {
        "id": "ApAmRbVwr5Jl"
      }
    },
    {
      "cell_type": "markdown",
      "source": [
        "Before you start: [List vs Array: When to use](https://stackoverflow.com/a/176589)"
      ],
      "metadata": {
        "id": "qd6YC7TRrjh4"
      }
    },
    {
      "cell_type": "markdown",
      "source": [
        "## Creating Arrays"
      ],
      "metadata": {
        "id": "Kba-tkvLr983"
      }
    },
    {
      "cell_type": "markdown",
      "source": [
        "### 1D Array"
      ],
      "metadata": {
        "id": "gl8iRnAnsChk"
      }
    },
    {
      "cell_type": "code",
      "execution_count": null,
      "metadata": {
        "colab": {
          "base_uri": "https://localhost:8080/"
        },
        "id": "e1G71yJ9rYNW",
        "outputId": "2d090f7c-7654-4335-b5b4-f728327d16ee"
      },
      "outputs": [
        {
          "output_type": "stream",
          "name": "stdout",
          "text": [
            "[1 2 3 4]\n"
          ]
        }
      ],
      "source": [
        "import numpy as np\n",
        "arr = np.array([1, 2, 3, 4])\n",
        "print(arr)"
      ]
    },
    {
      "cell_type": "markdown",
      "source": [
        "### 2D Array"
      ],
      "metadata": {
        "id": "969_SY3hsFu2"
      }
    },
    {
      "cell_type": "code",
      "source": [
        "import numpy as np\n",
        "arr_2d = np.array([[1, 2, 3], [4, 5, 6]])\n",
        "print(arr_2d)"
      ],
      "metadata": {
        "colab": {
          "base_uri": "https://localhost:8080/"
        },
        "id": "bC-6ZPkQsBDX",
        "outputId": "07867879-0c5f-4609-ca73-3eb5cb64f1d6"
      },
      "execution_count": null,
      "outputs": [
        {
          "output_type": "stream",
          "name": "stdout",
          "text": [
            "[[1 2 3]\n",
            " [4 5 6]]\n"
          ]
        }
      ]
    },
    {
      "cell_type": "code",
      "source": [
        "type(arr_2d)"
      ],
      "metadata": {
        "colab": {
          "base_uri": "https://localhost:8080/"
        },
        "id": "quv_s3_9mvvi",
        "outputId": "f27c2e2c-77f2-4306-8bbb-7ff883ecba95"
      },
      "execution_count": null,
      "outputs": [
        {
          "output_type": "execute_result",
          "data": {
            "text/plain": [
              "numpy.ndarray"
            ]
          },
          "metadata": {},
          "execution_count": 62
        }
      ]
    },
    {
      "cell_type": "markdown",
      "source": [
        "## Array Properties"
      ],
      "metadata": {
        "id": "SvQ-busPsLdu"
      }
    },
    {
      "cell_type": "markdown",
      "source": [
        "### Shape"
      ],
      "metadata": {
        "id": "2fxkSHz5sMxz"
      }
    },
    {
      "cell_type": "code",
      "source": [
        "arr.shape"
      ],
      "metadata": {
        "colab": {
          "base_uri": "https://localhost:8080/"
        },
        "id": "HkzHysCHiDZk",
        "outputId": "977eb976-9148-4501-df06-1d80786b0381"
      },
      "execution_count": null,
      "outputs": [
        {
          "output_type": "execute_result",
          "data": {
            "text/plain": [
              "(4,)"
            ]
          },
          "metadata": {},
          "execution_count": 28
        }
      ]
    },
    {
      "cell_type": "code",
      "source": [
        "arr_2d.shape"
      ],
      "metadata": {
        "colab": {
          "base_uri": "https://localhost:8080/"
        },
        "id": "u2oxQ-ZYpFl5",
        "outputId": "6e66f4b4-c138-474e-dedf-7acb423eba7f"
      },
      "execution_count": null,
      "outputs": [
        {
          "output_type": "execute_result",
          "data": {
            "text/plain": [
              "(2, 3)"
            ]
          },
          "metadata": {},
          "execution_count": 85
        }
      ]
    },
    {
      "cell_type": "code",
      "source": [
        "sh = (arr_2d.shape)\n",
        "print(sh[0]) # rows\n",
        "print(sh[1]) # columns"
      ],
      "metadata": {
        "colab": {
          "base_uri": "https://localhost:8080/"
        },
        "id": "LL1kaqsqsJOD",
        "outputId": "070732b0-52e7-4be6-c603-94a1fb7a6774"
      },
      "execution_count": null,
      "outputs": [
        {
          "output_type": "stream",
          "name": "stdout",
          "text": [
            "2\n",
            "3\n"
          ]
        }
      ]
    },
    {
      "cell_type": "markdown",
      "source": [
        "### Size"
      ],
      "metadata": {
        "id": "hJzvnxbLsSYL"
      }
    },
    {
      "cell_type": "code",
      "source": [
        "print(arr_2d.size)"
      ],
      "metadata": {
        "colab": {
          "base_uri": "https://localhost:8080/"
        },
        "id": "cKom3JdesQEk",
        "outputId": "0f2945e6-5663-4ac5-a7b3-ba00cb28620d"
      },
      "execution_count": null,
      "outputs": [
        {
          "output_type": "stream",
          "name": "stdout",
          "text": [
            "6\n"
          ]
        }
      ]
    },
    {
      "cell_type": "markdown",
      "source": [
        "### Data Type"
      ],
      "metadata": {
        "id": "gkYOi9FtsZ3E"
      }
    },
    {
      "cell_type": "code",
      "source": [
        "print(arr.dtype)"
      ],
      "metadata": {
        "colab": {
          "base_uri": "https://localhost:8080/"
        },
        "id": "FVlVuoeGsX9o",
        "outputId": "57550993-096c-4646-f3c3-a11dd76b51ae"
      },
      "execution_count": null,
      "outputs": [
        {
          "output_type": "stream",
          "name": "stdout",
          "text": [
            "int64\n"
          ]
        }
      ]
    },
    {
      "cell_type": "code",
      "source": [
        "np.array([1, 2, 3, 4.0]).dtype"
      ],
      "metadata": {
        "colab": {
          "base_uri": "https://localhost:8080/"
        },
        "id": "IepD2LGiiVAV",
        "outputId": "ed5b3478-7366-473e-9e62-be93aa159a8a"
      },
      "execution_count": null,
      "outputs": [
        {
          "output_type": "execute_result",
          "data": {
            "text/plain": [
              "dtype('float64')"
            ]
          },
          "metadata": {},
          "execution_count": 38
        }
      ]
    },
    {
      "cell_type": "code",
      "source": [
        "np.array([1, 2, 3, 4.0, 'a']).dtype"
      ],
      "metadata": {
        "colab": {
          "base_uri": "https://localhost:8080/"
        },
        "id": "6JnUSU5LjkND",
        "outputId": "15f371bc-d563-402b-c51e-788cee972413"
      },
      "execution_count": null,
      "outputs": [
        {
          "output_type": "execute_result",
          "data": {
            "text/plain": [
              "dtype('<U32')"
            ]
          },
          "metadata": {},
          "execution_count": 39
        }
      ]
    },
    {
      "cell_type": "markdown",
      "source": [
        "## Operations on Arrays"
      ],
      "metadata": {
        "id": "ijAGJjPSsmJw"
      }
    },
    {
      "cell_type": "markdown",
      "source": [
        "### Reshaping Arrays"
      ],
      "metadata": {
        "id": "Dv-NPjwEyMCR"
      }
    },
    {
      "cell_type": "code",
      "source": [
        "arr = np.arange(8)\n",
        "print(arr)\n",
        "print(arr.shape) # (8,)\n",
        "reshaped_arr = arr.reshape((2, 4))\n",
        "print(reshaped_arr)\n",
        "print(reshaped_arr.shape)"
      ],
      "metadata": {
        "colab": {
          "base_uri": "https://localhost:8080/"
        },
        "id": "J20hPZz6yRLE",
        "outputId": "42e13b8f-c834-4e3c-d77c-30f61d285e32"
      },
      "execution_count": null,
      "outputs": [
        {
          "output_type": "stream",
          "name": "stdout",
          "text": [
            "[0 1 2 3 4 5 6 7]\n",
            "(8,)\n",
            "[[0 1 2 3]\n",
            " [4 5 6 7]]\n",
            "(2, 4)\n"
          ]
        }
      ]
    },
    {
      "cell_type": "markdown",
      "source": [
        "### Element-wise Addition"
      ],
      "metadata": {
        "id": "4tL6qwEussDr"
      }
    },
    {
      "cell_type": "code",
      "source": [
        "arr1 = np.array([1, 2, 3])\n",
        "arr2 = np.array([4, 5, 6])\n",
        "result = arr1 + arr2\n",
        "print(result)"
      ],
      "metadata": {
        "colab": {
          "base_uri": "https://localhost:8080/"
        },
        "id": "ePMqiJApsb30",
        "outputId": "fe7f3a9b-295d-471e-d755-2699a8313fa7"
      },
      "execution_count": null,
      "outputs": [
        {
          "output_type": "stream",
          "name": "stdout",
          "text": [
            "[5 7 9]\n"
          ]
        }
      ]
    },
    {
      "cell_type": "code",
      "source": [
        "'4' + 'a'"
      ],
      "metadata": {
        "colab": {
          "base_uri": "https://localhost:8080/",
          "height": 35
        },
        "id": "BOzESqN7lUIF",
        "outputId": "add06f05-ea34-4155-9fae-2e1495355df9"
      },
      "execution_count": null,
      "outputs": [
        {
          "output_type": "execute_result",
          "data": {
            "text/plain": [
              "'4a'"
            ],
            "application/vnd.google.colaboratory.intrinsic+json": {
              "type": "string"
            }
          },
          "metadata": {},
          "execution_count": 47
        }
      ]
    },
    {
      "cell_type": "code",
      "source": [
        "4 + 'a'"
      ],
      "metadata": {
        "colab": {
          "base_uri": "https://localhost:8080/",
          "height": 144
        },
        "id": "zo9TW8ZnlOp9",
        "outputId": "4266f1ad-f08e-4f6a-8b07-91ccbf89ef49"
      },
      "execution_count": null,
      "outputs": [
        {
          "output_type": "error",
          "ename": "TypeError",
          "evalue": "unsupported operand type(s) for +: 'int' and 'str'",
          "traceback": [
            "\u001b[0;31m---------------------------------------------------------------------------\u001b[0m",
            "\u001b[0;31mTypeError\u001b[0m                                 Traceback (most recent call last)",
            "\u001b[0;32m<ipython-input-46-6d5b2d58859f>\u001b[0m in \u001b[0;36m<cell line: 1>\u001b[0;34m()\u001b[0m\n\u001b[0;32m----> 1\u001b[0;31m \u001b[0;36m4\u001b[0m \u001b[0;34m+\u001b[0m \u001b[0;34m'a'\u001b[0m\u001b[0;34m\u001b[0m\u001b[0;34m\u001b[0m\u001b[0m\n\u001b[0m",
            "\u001b[0;31mTypeError\u001b[0m: unsupported operand type(s) for +: 'int' and 'str'"
          ]
        }
      ]
    },
    {
      "cell_type": "code",
      "source": [
        "4.0 + 'a'"
      ],
      "metadata": {
        "colab": {
          "base_uri": "https://localhost:8080/",
          "height": 144
        },
        "id": "nsVx0gwIlNe8",
        "outputId": "dbbaf7e0-ec20-4242-ed81-fadc24338015"
      },
      "execution_count": null,
      "outputs": [
        {
          "output_type": "error",
          "ename": "TypeError",
          "evalue": "unsupported operand type(s) for +: 'float' and 'str'",
          "traceback": [
            "\u001b[0;31m---------------------------------------------------------------------------\u001b[0m",
            "\u001b[0;31mTypeError\u001b[0m                                 Traceback (most recent call last)",
            "\u001b[0;32m<ipython-input-45-30232b4b5877>\u001b[0m in \u001b[0;36m<cell line: 1>\u001b[0;34m()\u001b[0m\n\u001b[0;32m----> 1\u001b[0;31m \u001b[0;36m4.0\u001b[0m \u001b[0;34m+\u001b[0m \u001b[0;34m'a'\u001b[0m\u001b[0;34m\u001b[0m\u001b[0;34m\u001b[0m\u001b[0m\n\u001b[0m",
            "\u001b[0;31mTypeError\u001b[0m: unsupported operand type(s) for +: 'float' and 'str'"
          ]
        }
      ]
    },
    {
      "cell_type": "code",
      "source": [
        "np.array([4.0]) + np.array(['a'])"
      ],
      "metadata": {
        "colab": {
          "base_uri": "https://localhost:8080/",
          "height": 162
        },
        "id": "M756Mvykk7ue",
        "outputId": "18748c09-9b53-4d22-ead7-eb42fe4eb0cb"
      },
      "execution_count": null,
      "outputs": [
        {
          "output_type": "error",
          "ename": "UFuncTypeError",
          "evalue": "ufunc 'add' did not contain a loop with signature matching types (dtype('float64'), dtype('<U1')) -> None",
          "traceback": [
            "\u001b[0;31m---------------------------------------------------------------------------\u001b[0m",
            "\u001b[0;31mUFuncTypeError\u001b[0m                            Traceback (most recent call last)",
            "\u001b[0;32m<ipython-input-44-1d905d240b52>\u001b[0m in \u001b[0;36m<cell line: 1>\u001b[0;34m()\u001b[0m\n\u001b[0;32m----> 1\u001b[0;31m \u001b[0mnp\u001b[0m\u001b[0;34m.\u001b[0m\u001b[0marray\u001b[0m\u001b[0;34m(\u001b[0m\u001b[0;34m[\u001b[0m\u001b[0;36m4.0\u001b[0m\u001b[0;34m]\u001b[0m\u001b[0;34m)\u001b[0m \u001b[0;34m+\u001b[0m \u001b[0mnp\u001b[0m\u001b[0;34m.\u001b[0m\u001b[0marray\u001b[0m\u001b[0;34m(\u001b[0m\u001b[0;34m[\u001b[0m\u001b[0;34m'a'\u001b[0m\u001b[0;34m]\u001b[0m\u001b[0;34m)\u001b[0m\u001b[0;34m\u001b[0m\u001b[0;34m\u001b[0m\u001b[0m\n\u001b[0m",
            "\u001b[0;31mUFuncTypeError\u001b[0m: ufunc 'add' did not contain a loop with signature matching types (dtype('float64'), dtype('<U1')) -> None"
          ]
        }
      ]
    },
    {
      "cell_type": "code",
      "source": [
        "# Scalar Addition\n",
        "print(arr1 + 20)\n",
        "# Scalar Multiplication\n",
        "print(arr1 * 20)\n",
        "# Scalar Subtraction\n",
        "print(arr1 - 20)\n",
        "# Scalar Division\n",
        "print(arr1 / 20)"
      ],
      "metadata": {
        "colab": {
          "base_uri": "https://localhost:8080/"
        },
        "id": "7jYB7Y0tmR-u",
        "outputId": "d8c2e052-c167-45c0-f9f8-a84aad3c3a5b"
      },
      "execution_count": null,
      "outputs": [
        {
          "output_type": "stream",
          "name": "stdout",
          "text": [
            "[21 22 23]\n",
            "[20 40 60]\n",
            "[-19 -18 -17]\n",
            "[0.05 0.1  0.15]\n"
          ]
        }
      ]
    },
    {
      "cell_type": "markdown",
      "source": [
        "### Scalar Multiplication"
      ],
      "metadata": {
        "id": "SpxyJDlBsz12"
      }
    },
    {
      "cell_type": "code",
      "source": [
        "arr1"
      ],
      "metadata": {
        "colab": {
          "base_uri": "https://localhost:8080/"
        },
        "id": "AwI-Allnl9fx",
        "outputId": "d767b677-9af8-4107-9bf8-2bc20010dd1e"
      },
      "execution_count": null,
      "outputs": [
        {
          "output_type": "execute_result",
          "data": {
            "text/plain": [
              "array([1, 2, 3])"
            ]
          },
          "metadata": {},
          "execution_count": 51
        }
      ]
    },
    {
      "cell_type": "code",
      "source": [
        "result = arr1 * 3\n",
        "print(result)"
      ],
      "metadata": {
        "colab": {
          "base_uri": "https://localhost:8080/"
        },
        "id": "0LLFZBjEsx3h",
        "outputId": "74a5c1bd-b817-4a41-dfe8-5e485ab5ef3a"
      },
      "execution_count": null,
      "outputs": [
        {
          "output_type": "stream",
          "name": "stdout",
          "text": [
            "[3 6 9]\n"
          ]
        }
      ]
    },
    {
      "cell_type": "code",
      "source": [
        "result = arr1 * 3.0\n",
        "print(result)"
      ],
      "metadata": {
        "colab": {
          "base_uri": "https://localhost:8080/"
        },
        "id": "gFZYVa11mFQ_",
        "outputId": "59132c23-e654-4879-cd2e-e7b76f4a848e"
      },
      "execution_count": null,
      "outputs": [
        {
          "output_type": "stream",
          "name": "stdout",
          "text": [
            "[3. 6. 9.]\n"
          ]
        }
      ]
    },
    {
      "cell_type": "markdown",
      "source": [
        "### Element-wise Multiplication"
      ],
      "metadata": {
        "id": "2EOAIsCCs31D"
      }
    },
    {
      "cell_type": "code",
      "source": [
        "result = arr1 * arr2\n",
        "print(result)"
      ],
      "metadata": {
        "colab": {
          "base_uri": "https://localhost:8080/"
        },
        "id": "ahGcDBCGs2BD",
        "outputId": "32df1b26-bfbe-4e51-f993-17f996b7c9ca"
      },
      "execution_count": null,
      "outputs": [
        {
          "output_type": "stream",
          "name": "stdout",
          "text": [
            "[ 4 10 18]\n"
          ]
        }
      ]
    },
    {
      "cell_type": "code",
      "source": [
        "# Element-wise Division\n",
        "result = arr1 / arr2\n",
        "print(result)"
      ],
      "metadata": {
        "colab": {
          "base_uri": "https://localhost:8080/"
        },
        "id": "CPA2eqABnCl9",
        "outputId": "318a1ade-5fae-4928-be3e-5dffd5c81125"
      },
      "execution_count": null,
      "outputs": [
        {
          "output_type": "stream",
          "name": "stdout",
          "text": [
            "[0.25 0.4  0.5 ]\n"
          ]
        }
      ]
    },
    {
      "cell_type": "code",
      "source": [
        "# Element-wise Addition\n",
        "result = arr1 + arr2\n",
        "print(result)"
      ],
      "metadata": {
        "colab": {
          "base_uri": "https://localhost:8080/"
        },
        "id": "Uwz132i5nH7X",
        "outputId": "04646b5e-3883-4452-8be9-429f9fa5b7e3"
      },
      "execution_count": null,
      "outputs": [
        {
          "output_type": "stream",
          "name": "stdout",
          "text": [
            "[5 7 9]\n"
          ]
        }
      ]
    },
    {
      "cell_type": "code",
      "source": [
        "# Element-wise Subtraction\n",
        "result = arr1 - arr2\n",
        "print(result)"
      ],
      "metadata": {
        "colab": {
          "base_uri": "https://localhost:8080/"
        },
        "id": "Q_65iRB-nHv8",
        "outputId": "797a7275-14f0-475d-d9b1-f16e339417bb"
      },
      "execution_count": null,
      "outputs": [
        {
          "output_type": "stream",
          "name": "stdout",
          "text": [
            "[-3 -3 -3]\n"
          ]
        }
      ]
    },
    {
      "cell_type": "code",
      "source": [
        "['a'] * 2"
      ],
      "metadata": {
        "colab": {
          "base_uri": "https://localhost:8080/"
        },
        "id": "HiKeV2YbnWD2",
        "outputId": "b61b0246-1a8b-4ab0-99a9-84dfe4dee532"
      },
      "execution_count": null,
      "outputs": [
        {
          "output_type": "execute_result",
          "data": {
            "text/plain": [
              "['a', 'a']"
            ]
          },
          "metadata": {},
          "execution_count": 66
        }
      ]
    },
    {
      "cell_type": "code",
      "source": [
        "np.array(['a']) * 2"
      ],
      "metadata": {
        "colab": {
          "base_uri": "https://localhost:8080/",
          "height": 162
        },
        "id": "btjsnM64nYxU",
        "outputId": "9b92bd10-8c4e-4440-9fc8-147d4f3ff368"
      },
      "execution_count": null,
      "outputs": [
        {
          "output_type": "error",
          "ename": "UFuncTypeError",
          "evalue": "ufunc 'multiply' did not contain a loop with signature matching types (dtype('<U1'), dtype('int64')) -> None",
          "traceback": [
            "\u001b[0;31m---------------------------------------------------------------------------\u001b[0m",
            "\u001b[0;31mUFuncTypeError\u001b[0m                            Traceback (most recent call last)",
            "\u001b[0;32m<ipython-input-67-f7d53986dfa5>\u001b[0m in \u001b[0;36m<cell line: 1>\u001b[0;34m()\u001b[0m\n\u001b[0;32m----> 1\u001b[0;31m \u001b[0mnp\u001b[0m\u001b[0;34m.\u001b[0m\u001b[0marray\u001b[0m\u001b[0;34m(\u001b[0m\u001b[0;34m[\u001b[0m\u001b[0;34m'a'\u001b[0m\u001b[0;34m]\u001b[0m\u001b[0;34m)\u001b[0m \u001b[0;34m*\u001b[0m \u001b[0;36m2\u001b[0m\u001b[0;34m\u001b[0m\u001b[0;34m\u001b[0m\u001b[0m\n\u001b[0m",
            "\u001b[0;31mUFuncTypeError\u001b[0m: ufunc 'multiply' did not contain a loop with signature matching types (dtype('<U1'), dtype('int64')) -> None"
          ]
        }
      ]
    },
    {
      "cell_type": "markdown",
      "source": [
        "### Concatenation"
      ],
      "metadata": {
        "id": "gpqPFPmHyVv0"
      }
    },
    {
      "cell_type": "code",
      "source": [
        "arr1 = np.array([[1, 2], [3, 4]])\n",
        "arr2 = np.array([[5, 6]])\n",
        "print(arr1.shape, arr2.shape)\n",
        "concatenated = np.concatenate((arr1, arr2), axis=0) # concatenate a row\n",
        "print(concatenated)"
      ],
      "metadata": {
        "colab": {
          "base_uri": "https://localhost:8080/"
        },
        "id": "fiowiA-_yVLU",
        "outputId": "8263bd87-5c84-4f61-dee3-da206ddb4754"
      },
      "execution_count": null,
      "outputs": [
        {
          "output_type": "stream",
          "name": "stdout",
          "text": [
            "(2, 2) (1, 2)\n",
            "[[1 2]\n",
            " [3 4]\n",
            " [5 6]]\n"
          ]
        }
      ]
    },
    {
      "cell_type": "code",
      "source": [
        "arr1 = np.array([[1, 2], [3, 4]])\n",
        "arr2 = np.array([[5, 8], [6, 9]]) # notice the change in arr2 shape\n",
        "print(arr1.shape, arr2.shape)\n",
        "concatenated = np.concatenate((arr1, arr2), axis=1) # concatenate a column\n",
        "print(concatenated)"
      ],
      "metadata": {
        "colab": {
          "base_uri": "https://localhost:8080/"
        },
        "id": "lbMCt7_NoCSm",
        "outputId": "21ade80d-2e31-4b20-974c-f42a4e24404d"
      },
      "execution_count": null,
      "outputs": [
        {
          "output_type": "stream",
          "name": "stdout",
          "text": [
            "(2, 2) (2, 2)\n",
            "[[1 2 5 8]\n",
            " [3 4 6 9]]\n"
          ]
        }
      ]
    },
    {
      "cell_type": "code",
      "source": [
        "concatenated[1:, 1:]"
      ],
      "metadata": {
        "colab": {
          "base_uri": "https://localhost:8080/"
        },
        "id": "TWAz93VetqR0",
        "outputId": "a5dfeca9-4da6-4e0b-b0d9-ded2eb07c33b"
      },
      "execution_count": null,
      "outputs": [
        {
          "output_type": "execute_result",
          "data": {
            "text/plain": [
              "array([[4, 6, 9]])"
            ]
          },
          "metadata": {},
          "execution_count": 109
        }
      ]
    },
    {
      "cell_type": "code",
      "source": [
        "print(arr2)"
      ],
      "metadata": {
        "colab": {
          "base_uri": "https://localhost:8080/"
        },
        "id": "t3pvJC6tpfJr",
        "outputId": "bb504ff7-13d2-4f76-adc6-d0503536b193"
      },
      "execution_count": null,
      "outputs": [
        {
          "output_type": "stream",
          "name": "stdout",
          "text": [
            "[[5]\n",
            " [6]]\n"
          ]
        }
      ]
    },
    {
      "cell_type": "code",
      "source": [
        "concatenated[1]"
      ],
      "metadata": {
        "colab": {
          "base_uri": "https://localhost:8080/"
        },
        "id": "HVtXJ8fFseJ-",
        "outputId": "53c4612d-2bc5-417c-ac05-bd77bd1d2b13"
      },
      "execution_count": null,
      "outputs": [
        {
          "output_type": "execute_result",
          "data": {
            "text/plain": [
              "array([3, 4, 6])"
            ]
          },
          "metadata": {},
          "execution_count": 100
        }
      ]
    },
    {
      "cell_type": "code",
      "source": [
        "concatenated[1, :]"
      ],
      "metadata": {
        "colab": {
          "base_uri": "https://localhost:8080/"
        },
        "id": "C8NoaD0zqJY5",
        "outputId": "634cab0a-ea63-48fc-d845-af2a958a2d85"
      },
      "execution_count": null,
      "outputs": [
        {
          "output_type": "execute_result",
          "data": {
            "text/plain": [
              "array([3, 4, 6])"
            ]
          },
          "metadata": {},
          "execution_count": 103
        }
      ]
    },
    {
      "cell_type": "code",
      "source": [
        "concatenated[:, 1]"
      ],
      "metadata": {
        "colab": {
          "base_uri": "https://localhost:8080/"
        },
        "id": "Uuhp-bSvsjg6",
        "outputId": "22ba614d-b8b3-4b4a-c1c1-d2e3a6ab706e"
      },
      "execution_count": null,
      "outputs": [
        {
          "output_type": "execute_result",
          "data": {
            "text/plain": [
              "array([2, 4])"
            ]
          },
          "metadata": {},
          "execution_count": 105
        }
      ]
    },
    {
      "cell_type": "markdown",
      "source": [
        "## Indexing and Slicing"
      ],
      "metadata": {
        "id": "XO95bqMus9ps"
      }
    },
    {
      "cell_type": "markdown",
      "source": [
        "### Indexing"
      ],
      "metadata": {
        "id": "j10J8YLKs_y4"
      }
    },
    {
      "cell_type": "markdown",
      "source": [
        "https://stackoverflow.com/a/16096968"
      ],
      "metadata": {
        "id": "tQjUDrK2v85m"
      }
    },
    {
      "cell_type": "code",
      "source": [
        "print(arr_2d[0, 1])"
      ],
      "metadata": {
        "colab": {
          "base_uri": "https://localhost:8080/"
        },
        "id": "0ylVSnCas6oj",
        "outputId": "16f15aad-1ae0-4b51-a05b-24d4648e59af"
      },
      "execution_count": null,
      "outputs": [
        {
          "output_type": "stream",
          "name": "stdout",
          "text": [
            "2\n"
          ]
        }
      ]
    },
    {
      "cell_type": "markdown",
      "source": [
        "### Boolean Indexing"
      ],
      "metadata": {
        "id": "IDituGkMygNV"
      }
    },
    {
      "cell_type": "code",
      "source": [
        "arr = np.array([1, 2, 3, 4, 5, 6, 7, 8, 9, 10, 11, 12, 13, 14, 15])\n",
        "arr.shape"
      ],
      "metadata": {
        "colab": {
          "base_uri": "https://localhost:8080/"
        },
        "id": "mLsP1qoYvdCB",
        "outputId": "2d70b07c-4b55-4f29-e73b-ada6781590db"
      },
      "execution_count": null,
      "outputs": [
        {
          "output_type": "execute_result",
          "data": {
            "text/plain": [
              "(15,)"
            ]
          },
          "metadata": {},
          "execution_count": 118
        }
      ]
    },
    {
      "cell_type": "code",
      "source": [
        "selected_indices = [2, 4, 6, 14]\n",
        "arr[selected_indices]"
      ],
      "metadata": {
        "colab": {
          "base_uri": "https://localhost:8080/"
        },
        "id": "TtksgCNqyKWU",
        "outputId": "3a45dbb0-c6eb-4926-bcd3-241d319d0500"
      },
      "execution_count": null,
      "outputs": [
        {
          "output_type": "execute_result",
          "data": {
            "text/plain": [
              "array([ 3,  5,  7, 15])"
            ]
          },
          "metadata": {},
          "execution_count": 135
        }
      ]
    },
    {
      "cell_type": "code",
      "source": [
        "bool_arr = np.array([False, True, True, False, True, False, True, True, False, True,False, True, True, False, True])\n",
        "bool_arr.shape"
      ],
      "metadata": {
        "colab": {
          "base_uri": "https://localhost:8080/"
        },
        "id": "fqYYtcJ5vlNF",
        "outputId": "dd4259e0-acd8-4a26-d1c2-99995b96b562"
      },
      "execution_count": null,
      "outputs": [
        {
          "output_type": "execute_result",
          "data": {
            "text/plain": [
              "(15,)"
            ]
          },
          "metadata": {},
          "execution_count": 126
        }
      ]
    },
    {
      "cell_type": "code",
      "source": [
        "bool_arr2 = arr % 2 == 0"
      ],
      "metadata": {
        "id": "R-HFxGvdw9r2"
      },
      "execution_count": null,
      "outputs": []
    },
    {
      "cell_type": "code",
      "source": [
        "bool_arr2"
      ],
      "metadata": {
        "colab": {
          "base_uri": "https://localhost:8080/"
        },
        "id": "4y2UZ2EuxSac",
        "outputId": "47f991df-038d-4ed7-c257-5c01b071e90b"
      },
      "execution_count": null,
      "outputs": [
        {
          "output_type": "execute_result",
          "data": {
            "text/plain": [
              "array([False,  True, False,  True, False,  True, False,  True, False,\n",
              "        True, False,  True, False,  True, False])"
            ]
          },
          "metadata": {},
          "execution_count": 131
        }
      ]
    },
    {
      "cell_type": "code",
      "source": [
        "arr[bool_arr2]"
      ],
      "metadata": {
        "colab": {
          "base_uri": "https://localhost:8080/"
        },
        "id": "Fu-eUtUxv1h0",
        "outputId": "aaa5ac96-ee6b-428a-8973-0e87f75f2462"
      },
      "execution_count": null,
      "outputs": [
        {
          "output_type": "execute_result",
          "data": {
            "text/plain": [
              "array([ 2,  4,  6,  8, 10, 12, 14])"
            ]
          },
          "metadata": {},
          "execution_count": 132
        }
      ]
    },
    {
      "cell_type": "code",
      "source": [
        "arr[arr % 2 == 0]"
      ],
      "metadata": {
        "colab": {
          "base_uri": "https://localhost:8080/"
        },
        "id": "FB2y6LwPxolc",
        "outputId": "f0b1c746-f354-4098-c31b-90caa689b894"
      },
      "execution_count": null,
      "outputs": [
        {
          "output_type": "execute_result",
          "data": {
            "text/plain": [
              "array([ 2,  4,  6,  8, 10, 12, 14])"
            ]
          },
          "metadata": {},
          "execution_count": 133
        }
      ]
    },
    {
      "cell_type": "code",
      "source": [
        "arr = np.array([1, 2, 3, 4, 5])\n",
        "# Create a boolean array where the condition is true\n",
        "condition = arr > 3\n",
        "print(condition)\n",
        "# Output: [False False False  True  True]\n",
        "\n",
        "# Use this boolean array to filter the original array\n",
        "filtered_arr = arr[condition]\n",
        "print(filtered_arr)"
      ],
      "metadata": {
        "colab": {
          "base_uri": "https://localhost:8080/"
        },
        "id": "V48KwiGfyiF4",
        "outputId": "c866bea8-ee0a-4ebd-d0d6-b94e6e97f315"
      },
      "execution_count": null,
      "outputs": [
        {
          "output_type": "stream",
          "name": "stdout",
          "text": [
            "[False False False  True  True]\n",
            "[4 5]\n"
          ]
        }
      ]
    },
    {
      "cell_type": "markdown",
      "source": [
        "### Fancy Indexing\n"
      ],
      "metadata": {
        "id": "den8Cn_8ysj6"
      }
    },
    {
      "cell_type": "code",
      "source": [
        "arr = np.array([10, 20, 30, 40, 50])\n",
        "indices = [0, 2, 4]\n",
        "fancy_indexed_arr = arr[indices]\n",
        "print(fancy_indexed_arr)"
      ],
      "metadata": {
        "colab": {
          "base_uri": "https://localhost:8080/"
        },
        "id": "S2tnOZYJyt7g",
        "outputId": "287be8c7-7598-435b-ca26-a15a55e7df73"
      },
      "execution_count": null,
      "outputs": [
        {
          "output_type": "stream",
          "name": "stdout",
          "text": [
            "[10 30 50]\n"
          ]
        }
      ]
    },
    {
      "cell_type": "markdown",
      "source": [
        "### Slicing"
      ],
      "metadata": {
        "id": "VgkPv9XnwAVp"
      }
    },
    {
      "cell_type": "code",
      "source": [
        "print(arr_2d[:, 1])"
      ],
      "metadata": {
        "colab": {
          "base_uri": "https://localhost:8080/"
        },
        "id": "DOqp4KblwADH",
        "outputId": "fbb07544-a1c7-4981-cd5c-93c1068a42ab"
      },
      "execution_count": null,
      "outputs": [
        {
          "output_type": "stream",
          "name": "stdout",
          "text": [
            "[2 5]\n"
          ]
        }
      ]
    },
    {
      "cell_type": "markdown",
      "source": [
        "## Broadcasting"
      ],
      "metadata": {
        "id": "OPZGD0NSwGE1"
      }
    },
    {
      "cell_type": "markdown",
      "source": [
        "Broadcasting is a powerful mechanism that allows NumPy to perform operations on arrays of different shapes."
      ],
      "metadata": {
        "id": "2yIlJnoxwIex"
      }
    },
    {
      "cell_type": "markdown",
      "source": [
        "### Broadcasting Example"
      ],
      "metadata": {
        "id": "0qBUbYw-wMVo"
      }
    },
    {
      "cell_type": "code",
      "source": [
        "arr = np.array([1, 2, 3])\n",
        "arr2d = np.array([[1, 2, 3], [4, 5, 6]]) # [[1+1, 2+2, 3+3], [1+4, 2+5, 3+6]]\n",
        "result = arr + arr2d\n",
        "print(result)"
      ],
      "metadata": {
        "colab": {
          "base_uri": "https://localhost:8080/"
        },
        "id": "3sXAw6y4wF4l",
        "outputId": "2eaba7d7-4040-47b4-fefa-66f14f892e34"
      },
      "execution_count": null,
      "outputs": [
        {
          "output_type": "stream",
          "name": "stdout",
          "text": [
            "[[2 4 6]\n",
            " [5 7 9]]\n"
          ]
        }
      ]
    },
    {
      "cell_type": "markdown",
      "source": [
        "In this example, the 1D array arr is \"broadcast\" across each row of the 2D array arr2d."
      ],
      "metadata": {
        "id": "1l6mToMzwT9G"
      }
    },
    {
      "cell_type": "markdown",
      "source": [
        "## Universal Functions"
      ],
      "metadata": {
        "id": "S00vBoijwaR2"
      }
    },
    {
      "cell_type": "markdown",
      "source": [
        "NumPy provides a range of functions that operate on arrays in an element-wise manner.\n",
        "\n"
      ],
      "metadata": {
        "id": "cvr7OTJQwdeN"
      }
    },
    {
      "cell_type": "markdown",
      "source": [
        "### Square Root"
      ],
      "metadata": {
        "id": "vp-eMf99whJI"
      }
    },
    {
      "cell_type": "code",
      "source": [
        "arr = np.array([1, 4, 9, 16])\n",
        "result = np.sqrt(arr)\n",
        "print(result)"
      ],
      "metadata": {
        "colab": {
          "base_uri": "https://localhost:8080/"
        },
        "id": "4din8g2zwF0F",
        "outputId": "86df670f-ee9a-44f7-bb1a-23bde21a171d"
      },
      "execution_count": null,
      "outputs": [
        {
          "output_type": "stream",
          "name": "stdout",
          "text": [
            "[1. 2. 3. 4.]\n"
          ]
        }
      ]
    },
    {
      "cell_type": "markdown",
      "source": [
        "### Exponent"
      ],
      "metadata": {
        "id": "brx-db-Rwi2h"
      }
    },
    {
      "cell_type": "code",
      "source": [
        "result = np.exp(arr)\n",
        "print(result)"
      ],
      "metadata": {
        "colab": {
          "base_uri": "https://localhost:8080/"
        },
        "id": "gwOohNVmwDPe",
        "outputId": "91367e80-bdb3-4143-fa98-998b2794599e"
      },
      "execution_count": null,
      "outputs": [
        {
          "output_type": "stream",
          "name": "stdout",
          "text": [
            "[2.71828183e+00 5.45981500e+01 8.10308393e+03 8.88611052e+06]\n"
          ]
        }
      ]
    },
    {
      "cell_type": "markdown",
      "source": [
        "## Aggregate Functions"
      ],
      "metadata": {
        "id": "1YPNhm4H1daD"
      }
    },
    {
      "cell_type": "markdown",
      "source": [
        "### Mean"
      ],
      "metadata": {
        "id": "ALgHwG-LwuKb"
      }
    },
    {
      "cell_type": "code",
      "source": [
        "data = np.array([1, 2, 3, 4, 5])\n",
        "mean = np.mean(data)\n",
        "print(mean)"
      ],
      "metadata": {
        "colab": {
          "base_uri": "https://localhost:8080/"
        },
        "id": "nN7LbHtpwm6T",
        "outputId": "be90ba13-6388-4bac-922e-26d51ab60de8"
      },
      "execution_count": null,
      "outputs": [
        {
          "output_type": "stream",
          "name": "stdout",
          "text": [
            "3.0\n"
          ]
        }
      ]
    },
    {
      "cell_type": "markdown",
      "source": [
        "### Standard Deviation"
      ],
      "metadata": {
        "id": "8d1ZFJVawxcm"
      }
    },
    {
      "cell_type": "code",
      "source": [
        "std_dev = np.std(data)\n",
        "print(std_dev)"
      ],
      "metadata": {
        "colab": {
          "base_uri": "https://localhost:8080/"
        },
        "id": "OKZYVJO2wwr9",
        "outputId": "bad15bf6-d987-438b-9186-b01a934e8cf5"
      },
      "execution_count": null,
      "outputs": [
        {
          "output_type": "stream",
          "name": "stdout",
          "text": [
            "1.4142135623730951\n"
          ]
        }
      ]
    },
    {
      "cell_type": "markdown",
      "source": [
        "## Matrix Multiplication & Random Number Generation"
      ],
      "metadata": {
        "id": "-l4ms8e1w5fr"
      }
    },
    {
      "cell_type": "markdown",
      "source": [
        "### Matrix Multiplication"
      ],
      "metadata": {
        "id": "a2V9K2QTxEnN"
      }
    },
    {
      "cell_type": "code",
      "source": [
        "mat1 = np.array([[1, 2], [3, 4]])\n",
        "mat2 = np.array([[5, 6], [7, 8]])\n",
        "result = np.dot(mat1, mat2)\n",
        "print(result)"
      ],
      "metadata": {
        "colab": {
          "base_uri": "https://localhost:8080/"
        },
        "id": "tfXUqdI0w0bD",
        "outputId": "ac0b9817-42d7-4b86-c9d0-e9ea7954a077"
      },
      "execution_count": null,
      "outputs": [
        {
          "output_type": "stream",
          "name": "stdout",
          "text": [
            "[[19 22]\n",
            " [43 50]]\n"
          ]
        }
      ]
    },
    {
      "cell_type": "markdown",
      "source": [
        "### Random Number Generation"
      ],
      "metadata": {
        "id": "tDWklymwxbjV"
      }
    },
    {
      "cell_type": "markdown",
      "source": [
        "[PRNG](https://en.wikipedia.org/wiki/Pseudorandom_number_generator)"
      ],
      "metadata": {
        "id": "iYbMgnGc3UtX"
      }
    },
    {
      "cell_type": "markdown",
      "source": [
        "#### Random Array"
      ],
      "metadata": {
        "id": "zTyoX6bJxeci"
      }
    },
    {
      "cell_type": "code",
      "source": [
        "np.random.seed(42) # seed\n",
        "\n",
        "rand_arr = np.random.rand(3, 2)\n",
        "print(rand_arr)"
      ],
      "metadata": {
        "colab": {
          "base_uri": "https://localhost:8080/"
        },
        "id": "cwpQkXyZxGya",
        "outputId": "1a6a8cb0-fdee-424b-92dd-4cf4ccf7d825"
      },
      "execution_count": null,
      "outputs": [
        {
          "output_type": "stream",
          "name": "stdout",
          "text": [
            "[[ 2.47639966 16.96016459]\n",
            " [16.14637917 11.38201477]\n",
            " [ 8.14366594  1.38333991]]\n"
          ]
        }
      ]
    },
    {
      "cell_type": "markdown",
      "source": [
        "#### Normal Distribution"
      ],
      "metadata": {
        "id": "Soq665gGxk9L"
      }
    },
    {
      "cell_type": "code",
      "source": [
        "normal_arr = np.random.randn(3, 2)\n",
        "print(normal_arr)"
      ],
      "metadata": {
        "colab": {
          "base_uri": "https://localhost:8080/"
        },
        "id": "c6rLydSIxh-_",
        "outputId": "b435758d-1188-4a27-da5b-5418eedbaed6"
      },
      "execution_count": null,
      "outputs": [
        {
          "output_type": "stream",
          "name": "stdout",
          "text": [
            "[[ 0.54935776  0.90056757]\n",
            " [-0.35724846  0.86362921]\n",
            " [ 0.66590684 -2.3108767 ]]\n"
          ]
        }
      ]
    },
    {
      "cell_type": "markdown",
      "source": [
        "# Linear Regression with NumPy\n",
        "\n",
        "Linear regression is a method to model the relationship between a dependent variable and one or more independent variables by fitting a linear equation."
      ],
      "metadata": {
        "id": "mvCwQxy5zCOI"
      }
    },
    {
      "cell_type": "code",
      "source": [
        "import numpy as np\n",
        "import matplotlib.pyplot as plt\n",
        "\n",
        "# Generate some sample data\n",
        "np.random.seed(0)\n",
        "X = 2 * np.random.rand(100, 1)\n",
        "y = 4 + 3 * X + np.random.randn(100, 1)\n",
        "\n",
        "# Add a column of ones to X to account for theta_0 (intercept term)\n",
        "X_b = np.c_[np.ones((100, 1)), X]\n",
        "\n",
        "# Parameters initialization\n",
        "theta = np.random.randn(2, 1)\n",
        "learning_rate = 0.1\n",
        "n_iterations = 1000\n",
        "m = 100\n",
        "\n",
        "# Gradient Descent\n",
        "for iteration in range(n_iterations):\n",
        "    gradients = 2/m * X_b.T.dot(X_b.dot(theta) - y)\n",
        "    theta -= learning_rate * gradients\n",
        "\n",
        "print(\"Theta:\", theta)\n",
        "\n",
        "# Plotting the results\n",
        "plt.plot(X, y, \"b.\")\n",
        "plt.plot(X, X_b.dot(theta), \"r-\")\n",
        "plt.xlabel(\"X\")\n",
        "plt.ylabel(\"y\")\n",
        "plt.title(\"Linear Regression Fit\")\n",
        "plt.show()"
      ],
      "metadata": {
        "colab": {
          "base_uri": "https://localhost:8080/",
          "height": 508
        },
        "id": "dceAWFfbxnmY",
        "outputId": "19ebe537-d6ac-4690-dd40-cce4b5afe85f"
      },
      "execution_count": null,
      "outputs": [
        {
          "output_type": "stream",
          "name": "stdout",
          "text": [
            "Theta: [[4.22215108]\n",
            " [2.96846751]]\n"
          ]
        },
        {
          "output_type": "display_data",
          "data": {
            "text/plain": [
              "<Figure size 640x480 with 1 Axes>"
            ],
            "image/png": "[encoded data removed]"
          },
          "metadata": {}
        }
      ]
    },
    {
      "cell_type": "markdown",
      "source": [
        "# K-Means Clustering with NumPy\n",
        "K-Means is a clustering algorithm that partitions data into k clusters, where each data point belongs to the cluster with the nearest mean.\n",
        "\n",
        "Steps for K-Means\n",
        "* Initialize: Randomly select k points as centroids.\n",
        "* Assign Clusters: Assign each data point to the nearest centroid.\n",
        "* Update Centroids: Compute the new centroids as the mean of the data points in each cluster.\n",
        "* Repeat: Repeat steps 2 and 3 until convergence."
      ],
      "metadata": {
        "id": "gusaqkyPzLA2"
      }
    },
    {
      "cell_type": "code",
      "source": [
        "import numpy as np\n",
        "import matplotlib.pyplot as plt\n",
        "\n",
        "# Generate some sample data\n",
        "np.random.seed(0)\n",
        "X = np.vstack((np.random.normal([2, 2], 1, (100, 2)), np.random.normal([8, 8], 1, (100, 2))))\n",
        "\n",
        "# K-means parameters\n",
        "k = 2\n",
        "max_iters = 100\n",
        "centroids = X[np.random.choice(len(X), k, replace=False)]\n",
        "\n",
        "# K-means algorithm\n",
        "for _ in range(max_iters):\n",
        "    # Assign clusters\n",
        "    distances = np.sqrt(((X - centroids[:, np.newaxis])**2).sum(axis=2))\n",
        "    clusters = np.argmin(distances, axis=0)\n",
        "\n",
        "    # Update centroids\n",
        "    new_centroids = np.array([X[clusters == i].mean(axis=0) for i in range(k)])\n",
        "    if np.all(centroids == new_centroids):\n",
        "        break\n",
        "    centroids = new_centroids\n",
        "\n",
        "# Plotting the results\n",
        "for i in range(k):\n",
        "    plt.scatter(X[clusters == i][:, 0], X[clusters == i][:, 1], label=f'Cluster {i+1}')\n",
        "plt.scatter(centroids[:, 0], centroids[:, 1], s=300, c='red', label='Centroids')\n",
        "plt.xlabel(\"X1\")\n",
        "plt.ylabel(\"X2\")\n",
        "plt.title(\"K-Means Clustering\")\n",
        "plt.legend()\n",
        "plt.show()"
      ],
      "metadata": {
        "colab": {
          "base_uri": "https://localhost:8080/",
          "height": 472
        },
        "id": "AdTeV8FkzGCG",
        "outputId": "c301523b-bee9-41ef-9040-414c188c3cef"
      },
      "execution_count": null,
      "outputs": [
        {
          "output_type": "display_data",
          "data": {
            "text/plain": [
              "<Figure size 640x480 with 1 Axes>"
            ],
            "image/png": "[encoded data removed]"
          },
          "metadata": {}
        }
      ]
    },
    {
      "cell_type": "markdown",
      "source": [
        "# Gradient Boosting with NumPy\n",
        "Gradient Boosting is an ensemble technique that builds a model in a stage-wise fashion, using weak learners (like decision trees) to correct errors of the previous learners.\n",
        "\n",
        "For simplicity, let's implement a basic gradient boosting regression using decision stumps (one-level decision trees).\n",
        "\n",
        "Steps for Gradient Boosting\n",
        "* Initialize: Start with a base model (e.g., mean of the target values).\n",
        "* Iterate:\n",
        "  * Compute the residuals (errors) from the current model.\n",
        "  * Fit a weak learner to the residuals.\n",
        "  * Update the model by adding the new learner, weighted by a learning rate."
      ],
      "metadata": {
        "id": "oGSTwn7kzegg"
      }
    },
    {
      "cell_type": "code",
      "source": [
        "import numpy as np\n",
        "import matplotlib.pyplot as plt\n",
        "\n",
        "# Generate some sample data\n",
        "np.random.seed(0)\n",
        "X = np.linspace(0, 10, 100)\n",
        "y = 2 * X + 1 + np.random.randn(100)\n",
        "\n",
        "# Gradient Boosting parameters\n",
        "n_estimators = 100\n",
        "learning_rate = 0.1\n",
        "\n",
        "# Initialize model\n",
        "f0 = np.mean(y)\n",
        "preds = np.full(y.shape, f0)\n",
        "trees = []\n",
        "\n",
        "# Gradient Boosting algorithm\n",
        "for _ in range(n_estimators):\n",
        "    residuals = y - preds\n",
        "\n",
        "    # Fit a decision stump (one-level decision tree)\n",
        "    split = np.median(X)\n",
        "    left_mask = X < split\n",
        "    right_mask = ~left_mask\n",
        "    left_value = np.mean(residuals[left_mask])\n",
        "    right_value = np.mean(residuals[right_mask])\n",
        "    trees.append((split, left_value, right_value))\n",
        "\n",
        "    # Update predictions\n",
        "    preds[left_mask] += learning_rate * left_value\n",
        "    preds[right_mask] += learning_rate * right_value\n",
        "\n",
        "# Plotting the results\n",
        "plt.scatter(X, y, label='Data')\n",
        "plt.plot(X, preds, label='Prediction', color='red')\n",
        "plt.xlabel(\"X\")\n",
        "plt.ylabel(\"y\")\n",
        "plt.title(\"Gradient Boosting Regression\")\n",
        "plt.legend()\n",
        "plt.show()"
      ],
      "metadata": {
        "colab": {
          "base_uri": "https://localhost:8080/",
          "height": 472
        },
        "id": "RY5yZbdizR3K",
        "outputId": "5504ee55-6336-442f-915b-c236de9dc08e"
      },
      "execution_count": null,
      "outputs": [
        {
          "output_type": "display_data",
          "data": {
            "text/plain": [
              "<Figure size 640x480 with 1 Axes>"
            ],
            "image/png": "[encoded data removed]"
          },
          "metadata": {}
        }
      ]
    },
    {
      "cell_type": "markdown",
      "source": [
        "# Simple Neuron in NumPy\n",
        "\n",
        "![image.png](data:image/png;base64,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)"
      ],
      "metadata": {
        "id": "pi24cov6HoIM"
      }
    },
    {
      "cell_type": "code",
      "source": [
        "import numpy as np\n",
        "\n",
        "# Define the input features and weights\n",
        "inputs = np.array([20, 3])  # Input features (x1, x2)\n",
        "weights = np.array([0.5, -0.8])  # Weights for each input feature (w1, w2)\n",
        "bias = 0.2  # Bias term (b)\n",
        "\n",
        "# Compute the weighted sum of inputs\n",
        "weighted_sum = np.dot(inputs, weights) + bias # x1*w1 + x2*w2 + b\n",
        "\n",
        "# Define an activation function (e.g., step function) - g\n",
        "def activation_function(x):\n",
        "    if x >= 0:\n",
        "      return 1\n",
        "    else:\n",
        "      return 0\n",
        "\n",
        "# Apply the activation function to the weighted sum\n",
        "output = activation_function(weighted_sum) # y-hat\n",
        "\n",
        "# Print the results\n",
        "print(\"Weighted Sum:\", weighted_sum)\n",
        "print(\"Output:\", output)\n"
      ],
      "metadata": {
        "colab": {
          "base_uri": "https://localhost:8080/"
        },
        "id": "QJZUVbrBHnOC",
        "outputId": "95784206-5acb-42a8-8eaf-2cf216202707"
      },
      "execution_count": null,
      "outputs": [
        {
          "output_type": "stream",
          "name": "stdout",
          "text": [
            "Weighted Sum: 7.8\n",
            "Output: 1\n"
          ]
        }
      ]
    },
    {
      "cell_type": "markdown",
      "source": [
        "# Multi Layer Perceptron using NumPy\n",
        "\n",
        "![image.png](data:image/png;base64,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)"
      ],
      "metadata": {
        "id": "h0GZypzYH4Dp"
      }
    },
    {
      "cell_type": "code",
      "source": [
        "import numpy as np\n",
        "\n",
        "# Define the sigmoid activation function and its derivative\n",
        "def sigmoid(x):\n",
        "    return 1 / (1 + np.exp(-x))\n",
        "\n",
        "def sigmoid_derivative(x):\n",
        "    return x * (1 - x)\n",
        "\n",
        "# Define the input dataset (X) and the target output (y)\n",
        "X = np.array([[0, 0], [0, 1], [1, 0], [1, 1]])\n",
        "y = np.array([[0], [1], [1], [0]])\n",
        "\n",
        "# Define the architecture of the neural network\n",
        "input_size = 2\n",
        "hidden_size = 4\n",
        "output_size = 1\n",
        "\n",
        "# Initialize weights and biases for the layers\n",
        "hidden_layer_weights = np.random.uniform(size=(input_size, hidden_size))\n",
        "hidden_layer_bias = np.zeros((1, hidden_size))\n",
        "\n",
        "output_layer_weights = np.random.uniform(size=(hidden_size, output_size))\n",
        "output_layer_bias = np.zeros((1, output_size))\n",
        "\n",
        "learning_rate = 0.1\n",
        "epochs = 10000\n",
        "\n",
        "# Training the neural network\n",
        "for epoch in range(epochs):\n",
        "    # Forward propagation\n",
        "    hidden_layer_input = np.dot(X, hidden_layer_weights) + hidden_layer_bias\n",
        "    hidden_layer_output = sigmoid(hidden_layer_input)\n",
        "\n",
        "    output_layer_input = np.dot(hidden_layer_output, output_layer_weights) + output_layer_bias\n",
        "    output_layer_output = sigmoid(output_layer_input)\n",
        "\n",
        "    # Calculate the error\n",
        "    error = y - output_layer_output\n",
        "\n",
        "    # Backpropagation\n",
        "    d_output = error * sigmoid_derivative(output_layer_output)\n",
        "    error_hidden_layer = d_output.dot(output_layer_weights.T)\n",
        "    d_hidden_layer = error_hidden_layer * sigmoid_derivative(hidden_layer_output)\n",
        "\n",
        "    # Update weights and biases\n",
        "    output_layer_weights += hidden_layer_output.T.dot(d_output) * learning_rate\n",
        "    output_layer_bias += np.sum(d_output, axis=0, keepdims=True) * learning_rate\n",
        "\n",
        "    hidden_layer_weights += X.T.dot(d_hidden_layer) * learning_rate\n",
        "    hidden_layer_bias += np.sum(d_hidden_layer, axis=0, keepdims=True) * learning_rate\n",
        "\n",
        "# Print the final output\n",
        "print(\"Final Output:\")\n",
        "print(output_layer_output)"
      ],
      "metadata": {
        "colab": {
          "base_uri": "https://localhost:8080/"
        },
        "id": "PlidQCAnHqBo",
        "outputId": "cb71edff-f587-4092-edf6-5ad457613c92"
      },
      "execution_count": null,
      "outputs": [
        {
          "output_type": "stream",
          "name": "stdout",
          "text": [
            "Final Output:\n",
            "[[0.07408669]\n",
            " [0.93637112]\n",
            " [0.93629955]\n",
            " [0.06716322]]\n"
          ]
        }
      ]
    }
  ]
}