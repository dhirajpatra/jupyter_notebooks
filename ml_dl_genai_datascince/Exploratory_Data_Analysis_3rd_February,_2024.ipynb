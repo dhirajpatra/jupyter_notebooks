{
 "cells": [
  {
   "cell_type": "markdown",
   "metadata": {
    "id": "MDBwFD-MfBOq"
   },
   "source": [
    "# Exploratory Data Analysis"
   ]
  },
  {
   "cell_type": "markdown",
   "metadata": {
    "id": "jKCtAyF6fEmg"
   },
   "source": [
    "## Let us understand how to explore the data in python."
   ]
  },
  {
   "cell_type": "markdown",
   "metadata": {
    "id": "fRAGO8-ZfEjd"
   },
   "source": [
    "<img src=\"http://sharpsightlabs.com/wp-content/uploads/2016/05/1_data-analysis-for-ML_how-we-use-dataAnalysis_2016-05-16.png\" />\n",
    "\n",
    "### Before an EDA\n",
    "* Understand the business context of the data\n",
    "* Create a Data Dictionary\n",
    "  * Understand primary key, foreign key, merging logic\n",
    "  * Understand meaning of each column/variable\n",
    "  * Create a business process to data table map\n",
    "  * Create an end-to-end flow for at least one ID\n",
    "\n",
    "### During an EDA\n",
    "* Have a hypothesis (or objective) to prove/disprove\n",
    "* Be aware of data relationships before removing rows/columns\n",
    "* Be on the lookout for the target variable\n",
    "\n",
    "### After an EDA\n",
    "* Ensure your results are made presentable\n",
    "* Ensure your presentable results cater to the audience\n",
    "* Ensure you are able to answer any questions that someone might ask you"
   ]
  },
  {
   "cell_type": "markdown",
   "metadata": {
    "id": "K5yoRBWwfEhC"
   },
   "source": [
    "## Introduction"
   ]
  },
  {
   "cell_type": "markdown",
   "metadata": {
    "id": "rXMSsn-4fEeL"
   },
   "source": [
    "**What is Exploratory Data Analysis ?**\n",
    "\n",
    "Exploratory Data Analysis or (EDA) is understanding the data sets by summarizing their main characteristics often plotting them visually. This step is very important especially when we arrive at modeling the data in order to apply Machine learning. Plotting in EDA consists of Histograms, Box plot, Scatter plot and many more. It often takes much time to explore the data. Through the process of EDA, we can ask to define the problem statement or definition on our data set which is very important."
   ]
  },
  {
   "cell_type": "markdown",
   "metadata": {
    "id": "pNKNfsPGfEbD"
   },
   "source": [
    "**How to perform Exploratory Data Analysis ?**\n",
    "\n",
    "This is one such question that everyone is keen on knowing the answer. Well, the answer is it depends on the data set that you are working. There is no one method or common methods in order to perform EDA, whereas in this tutorial you can understand some common methods and plots that would be used in the EDA process."
   ]
  },
  {
   "cell_type": "markdown",
   "metadata": {
    "id": "slOInEH5fETl"
   },
   "source": [
    "**What data are we exploring today ?**\n",
    "\n",
    "\n",
    "\n",
    "I got a very beautiful data-set of cars from Kaggle. The data-set can be downloaded from [here](https://www.kaggle.com/CooperUnion/cardataset). To give a piece of brief information about the data set this data contains more of 10, 000 rows and more than 10 columns which contains features of the car such as Engine Fuel Type, Engine HP, Transmission Type, highway MPG, city MPG and many more. So in this tutorial, we will explore the data and make it ready for modeling."
   ]
  },
  {
   "cell_type": "code",
   "execution_count": null,
   "metadata": {
    "id": "WbcRVeAHhfDk"
   },
   "outputs": [],
   "source": [
    "import warnings\n",
    "warnings.filterwarnings(\"ignore\")"
   ]
  },
  {
   "cell_type": "code",
   "execution_count": null,
   "metadata": {
    "colab": {
     "base_uri": "https://localhost:8080/"
    },
    "id": "Tk5jYgtLfBp5",
    "outputId": "d32994ac-ef1d-4a11-c8bc-ede23e3c4243"
   },
   "outputs": [],
   "source": [
    "from google.colab import drive\n",
    "drive.mount('/content/drive')"
   ]
  },
  {
   "cell_type": "markdown",
   "metadata": {
    "id": "1_DJxN6PffRR"
   },
   "source": [
    "## 1. Importing the required libraries for EDA"
   ]
  },
  {
   "cell_type": "code",
   "execution_count": null,
   "metadata": {
    "id": "Tg-BksKifTRS"
   },
   "outputs": [],
   "source": [
    "import pandas as pd\n",
    "import numpy as np\n",
    "import seaborn as sns                       #visualisation\n",
    "import matplotlib.pyplot as plt             #visualisation\n",
    "%matplotlib inline\n",
    "sns.set(color_codes=True)"
   ]
  },
  {
   "cell_type": "markdown",
   "metadata": {
    "id": "qlN2qCxOfjUI"
   },
   "source": [
    "## 2. Loading the data into the data frame."
   ]
  },
  {
   "cell_type": "code",
   "execution_count": null,
   "metadata": {
    "colab": {
     "base_uri": "https://localhost:8080/",
     "height": 434
    },
    "id": "Q2GoGWjZfhEn",
    "outputId": "66f055ee-525b-46e1-aaaf-f6d7e487a704"
   },
   "outputs": [],
   "source": [
    "df = pd.read_csv(\"/content/drive/MyDrive/GFG/33. EDA - 3rd February, 2024/data/data.csv\")\n",
    "# To display the top 5 rows\n",
    "df.head(5)"
   ]
  },
  {
   "cell_type": "code",
   "execution_count": null,
   "metadata": {
    "colab": {
     "base_uri": "https://localhost:8080/",
     "height": 417
    },
    "id": "V_ayD9LIf0t-",
    "outputId": "c8287638-10cb-47f9-c095-e68f0f0f38ca"
   },
   "outputs": [],
   "source": [
    "df.tail(5)   # To display the botton 5 rows"
   ]
  },
  {
   "cell_type": "markdown",
   "metadata": {
    "id": "xZdex2KQf4l2"
   },
   "source": [
    "## 3. Checking the basic information of the data\n",
    "\n",
    "Here we check for the datatypes because sometimes the MSRP or the price of the car would be stored as a string, if in that case, we have to convert that string to the integer data only then we can plot the data via a graph. Here, in this case, the data is already in integer format so nothing to worry."
   ]
  },
  {
   "cell_type": "code",
   "execution_count": null,
   "metadata": {
    "colab": {
     "base_uri": "https://localhost:8080/"
    },
    "id": "y9-JychMf2wG",
    "outputId": "72fd3767-ca46-4734-999b-4a8fa48c13a5"
   },
   "outputs": [],
   "source": [
    "df.info()"
   ]
  },
  {
   "cell_type": "code",
   "execution_count": null,
   "metadata": {
    "colab": {
     "base_uri": "https://localhost:8080/"
    },
    "id": "69ZCd_sdf8nH",
    "outputId": "e1475a16-22b8-4674-f4e2-019ebff08ef9"
   },
   "outputs": [],
   "source": [
    "df.dtypes"
   ]
  },
  {
   "cell_type": "code",
   "execution_count": null,
   "metadata": {
    "colab": {
     "base_uri": "https://localhost:8080/",
     "height": 300
    },
    "id": "gQOxVAjrf-hl",
    "outputId": "2778cc55-740a-4038-a500-db1f5396b2c8"
   },
   "outputs": [],
   "source": [
    "df.describe()"
   ]
  },
  {
   "cell_type": "markdown",
   "metadata": {
    "id": "LXwfelR6gCE7"
   },
   "source": [
    "## 4. Dropping irrelevant columns\n",
    "\n",
    "This step is certainly needed in every EDA because sometimes there would be many columns that we never use in such cases dropping is the only solution. In this case, the columns such as Engine Fuel Type, Market Category, Vehicle style, Popularity, Number of doors, Vehicle Size doesn't make any sense to me so I just dropped for this instance."
   ]
  },
  {
   "cell_type": "code",
   "execution_count": null,
   "metadata": {
    "colab": {
     "base_uri": "https://localhost:8080/",
     "height": 206
    },
    "id": "6ukd8xdkgAFy",
    "outputId": "ae9fd7ec-f7e6-43ee-8d5e-c67209390ef6"
   },
   "outputs": [],
   "source": [
    "df = df.drop(['Engine Fuel Type', 'Market Category', 'Vehicle Style', 'Popularity', 'Number of Doors', 'Vehicle Size'], axis=1)\n",
    "df.head(5)"
   ]
  },
  {
   "cell_type": "markdown",
   "metadata": {
    "id": "wBCWrUudgG7E"
   },
   "source": [
    "## 5. Renaming the columns\n",
    "\n",
    "In this instance, most of the column names are very confusing to read, so I just tweaked their column names. This is a good approach it improves the readability of the data set."
   ]
  },
  {
   "cell_type": "code",
   "execution_count": null,
   "metadata": {
    "colab": {
     "base_uri": "https://localhost:8080/",
     "height": 206
    },
    "id": "VOSr-ZXNgE2D",
    "outputId": "c08c00e9-41bf-4446-bba6-ea9bb0ec3cff"
   },
   "outputs": [],
   "source": [
    "df = df.rename(columns={\"Engine HP\": \"HP\", \"Engine Cylinders\": \"Cylinders\", \"Transmission Type\": \"Transmission\", \"Driven_Wheels\": \"Drive Mode\",\"highway MPG\": \"MPG-H\", \"city mpg\": \"MPG-C\", \"MSRP\": \"Price\" })\n",
    "df.head(5)"
   ]
  },
  {
   "cell_type": "markdown",
   "metadata": {
    "id": "uB8SCvgLgMCE"
   },
   "source": [
    "## 6. Dropping the duplicate rows\n",
    "\n",
    "This is often a handy thing to do because a huge data set as in this case contains more than 10, 000 rows often have some duplicate data which might be disturbing, so here I remove all the duplicate value from the data-set. For example prior to removing I had 11914 rows of data but after removing the duplicates 10925 data meaning that I had 989 of duplicate data."
   ]
  },
  {
   "cell_type": "code",
   "execution_count": null,
   "metadata": {
    "colab": {
     "base_uri": "https://localhost:8080/"
    },
    "id": "ot-D3HilgKpP",
    "outputId": "d3f01cc9-9bc7-4d4d-8a8b-a88ea20cb74a"
   },
   "outputs": [],
   "source": [
    "df.shape"
   ]
  },
  {
   "cell_type": "code",
   "execution_count": null,
   "metadata": {
    "colab": {
     "base_uri": "https://localhost:8080/"
    },
    "id": "MzmXeJqKgPq4",
    "outputId": "9d65c7cd-a071-4e68-8ce1-14a2996feea9"
   },
   "outputs": [],
   "source": [
    "duplicate_rows_df = df[df.duplicated()]\n",
    "print(\"number of duplicate rows: \", duplicate_rows_df.shape)"
   ]
  },
  {
   "cell_type": "code",
   "execution_count": null,
   "metadata": {
    "colab": {
     "base_uri": "https://localhost:8080/"
    },
    "id": "4o7lTqIygRQ8",
    "outputId": "d5f9c9b7-68e6-43b3-d8f9-17782525c8e2"
   },
   "outputs": [],
   "source": [
    "df.count()      # Used to count the number of rows"
   ]
  },
  {
   "cell_type": "code",
   "execution_count": null,
   "metadata": {
    "colab": {
     "base_uri": "https://localhost:8080/",
     "height": 206
    },
    "id": "I9WzoARbgUA3",
    "outputId": "3874c8b3-8909-4733-8a70-437ff867274f"
   },
   "outputs": [],
   "source": [
    "df = df.drop_duplicates() # entire rows\n",
    "df.head(5)"
   ]
  },
  {
   "cell_type": "code",
   "execution_count": null,
   "metadata": {
    "colab": {
     "base_uri": "https://localhost:8080/"
    },
    "id": "Ln4IxuqtgVp3",
    "outputId": "5e66540d-a3ea-4102-8725-b880ebeb4160"
   },
   "outputs": [],
   "source": [
    "df.count()"
   ]
  },
  {
   "cell_type": "markdown",
   "metadata": {
    "id": "ZDD93zesgaz6"
   },
   "source": [
    "## 7. Dropping the missing or null values.\n",
    "\n",
    "This is mostly similar to the previous step but in here all the missing values are detected and are dropped later. Now, this is not a good approach to do so, because many people just replace the missing values with the mean or the average of that column, but in this case, I just dropped that missing values. This is because there is nearly 100 missing value compared to 10, 000 values this is a small number and this is negligible so I just dropped those values."
   ]
  },
  {
   "cell_type": "code",
   "execution_count": null,
   "metadata": {
    "colab": {
     "base_uri": "https://localhost:8080/"
    },
    "id": "EcKxI6xMgY9X",
    "outputId": "2b08523d-072a-4e93-d337-c506b785ebd9"
   },
   "outputs": [],
   "source": [
    "print(df.isna().sum())"
   ]
  },
  {
   "cell_type": "markdown",
   "metadata": {
    "id": "vktifgkqgfYm"
   },
   "source": [
    "This is the reason in the above step while counting both Cylinders and Horsepower (HP) had 10856 and 10895 over 10925 rows."
   ]
  },
  {
   "cell_type": "code",
   "execution_count": null,
   "metadata": {
    "colab": {
     "base_uri": "https://localhost:8080/"
    },
    "id": "ndmrXzAWgddA",
    "outputId": "c93c73dd-873d-4057-9cf5-5a305d80e002"
   },
   "outputs": [],
   "source": [
    "df = df.dropna()    # Dropping the missing values.\n",
    "df.count()"
   ]
  },
  {
   "cell_type": "markdown",
   "metadata": {
    "id": "Qz5suOk2gitb"
   },
   "source": [
    "Now we have removed all the rows which contain the Null or N/A values (Cylinders and Horsepower (HP))."
   ]
  },
  {
   "cell_type": "code",
   "execution_count": null,
   "metadata": {
    "colab": {
     "base_uri": "https://localhost:8080/"
    },
    "id": "bcJVW_gkgg8u",
    "outputId": "fb62ed26-901b-4396-c5c1-9929cbafcac0"
   },
   "outputs": [],
   "source": [
    "print(df.isnull().sum())   # After dropping the values"
   ]
  },
  {
   "cell_type": "markdown",
   "metadata": {
    "id": "jiJEIltlgmTk"
   },
   "source": [
    "## 8. Detecting Outliers\n",
    "\n",
    "An outlier is a point or set of points that are different from other points. Sometimes they can be very high or very low. It's often a good idea to detect and remove the outliers. Because outliers are one of the primary reasons for resulting in a less accurate model. Hence it's a good idea to remove them. The outlier detection and removing that I am going to perform is called IQR score technique. Often outliers can be seen with visualizations using a box plot. Shown below are the box plot of MSRP, Cylinders, Horsepower and EngineSize. Herein all the plots, you can find some points are outside the box they are none other than outliers. The technique of finding and removing outlier that I am performing in this assignment is taken help of a tutorial from[ towards data science](https://towardsdatascience.com/ways-to-detect-and-remove-the-outliers-404d16608dba)."
   ]
  },
  {
   "cell_type": "code",
   "execution_count": null,
   "metadata": {
    "colab": {
     "base_uri": "https://localhost:8080/",
     "height": 458
    },
    "id": "bxbzU8U1gj9V",
    "outputId": "576969cd-bfc3-4c32-bdb2-0aa64ee5f097"
   },
   "outputs": [],
   "source": [
    "sns.boxplot(x=df['Price']);"
   ]
  },
  {
   "cell_type": "code",
   "execution_count": null,
   "metadata": {
    "colab": {
     "base_uri": "https://localhost:8080/",
     "height": 458
    },
    "id": "5lx3XhdVgrOG",
    "outputId": "7c12ab8a-d451-4cb8-a902-701b5a6d9cdd"
   },
   "outputs": [],
   "source": [
    "sns.boxplot(x=df['HP']);"
   ]
  },
  {
   "cell_type": "code",
   "execution_count": null,
   "metadata": {
    "colab": {
     "base_uri": "https://localhost:8080/",
     "height": 458
    },
    "id": "-hTOHsNzgu2-",
    "outputId": "7bdbb7c2-9046-46ab-e9bb-4831deb04ab1"
   },
   "outputs": [],
   "source": [
    "sns.boxplot(x=df['Cylinders']);"
   ]
  },
  {
   "cell_type": "code",
   "execution_count": null,
   "metadata": {
    "colab": {
     "base_uri": "https://localhost:8080/"
    },
    "id": "VQshHv1Qgw5R",
    "outputId": "0376a121-8944-40c8-d9ac-8a182b455931"
   },
   "outputs": [],
   "source": [
    "Q1 = df.quantile(0.25, numeric_only = True)\n",
    "Q3 = df.quantile(0.75, numeric_only = True)\n",
    "IQR = Q3 - Q1\n",
    "print(IQR)"
   ]
  },
  {
   "cell_type": "code",
   "execution_count": null,
   "metadata": {
    "colab": {
     "base_uri": "https://localhost:8080/"
    },
    "id": "NiaNS3e4gy4S",
    "outputId": "de0add19-5237-4862-f22f-44c25bdb5f62"
   },
   "outputs": [],
   "source": [
    "print(Q3['Price'] + 21327.5 * 1.5)\n",
    "print(Q1['Price'] - 21327.5 * 1.5)"
   ]
  },
  {
   "cell_type": "markdown",
   "metadata": {
    "id": "Z6omEeYkhPnV"
   },
   "source": [
    "Don't worry about the above values because it's not important to know each and every one of them because it's just important to know how to use this technique in order to remove the outliers."
   ]
  },
  {
   "cell_type": "code",
   "execution_count": null,
   "metadata": {
    "colab": {
     "base_uri": "https://localhost:8080/"
    },
    "id": "aVdup6GEDvi_",
    "outputId": "1aea6bbc-97c1-46b0-f3d8-3b94b50fb8d0"
   },
   "outputs": [],
   "source": [
    "Q3"
   ]
  },
  {
   "cell_type": "code",
   "execution_count": null,
   "metadata": {
    "colab": {
     "base_uri": "https://localhost:8080/",
     "height": 423
    },
    "id": "vNfyquirEMmW",
    "outputId": "9dd1044e-eb97-4b14-d423-2e9482338759"
   },
   "outputs": [],
   "source": [
    "df < (Q1 - 1.5 * IQR)"
   ]
  },
  {
   "cell_type": "code",
   "execution_count": null,
   "metadata": {
    "colab": {
     "base_uri": "https://localhost:8080/"
    },
    "id": "WrU4A8KbhK45",
    "outputId": "4f5e649f-c75c-418c-f3cd-626bbed66180"
   },
   "outputs": [],
   "source": [
    "df = df[~((df < (Q1 - 1.5 * IQR)) | (df > (Q3 + 1.5 * IQR))).any(axis=1)]\n",
    "df.shape"
   ]
  },
  {
   "cell_type": "markdown",
   "metadata": {
    "id": "gswvRfJ2hYV9"
   },
   "source": [
    "As seen above there were around 1600 rows were outliers. But you cannot completely remove the outliers because even after you use the above technique there maybe 1–2 outlier unremoved but that ok because there were more than 1600 outliers. Something is better than nothing."
   ]
  },
  {
   "cell_type": "markdown",
   "metadata": {
    "id": "4zWbAZ08hoMu"
   },
   "source": [
    "## 9. Plot different features against one another (scatter), against frequency (histogram)"
   ]
  },
  {
   "cell_type": "markdown",
   "metadata": {
    "id": "ed8swWTyhqsZ"
   },
   "source": [
    "### Histogram\n",
    "\n",
    "Histogram refers to the frequency of occurrence of variables in an interval. In this case, there are mainly 10 different types of car manufacturing companies, but it is often important to know who has the most number of cars. To do this histogram is one of the trivial solutions which lets us know the total number of car manufactured by a different company."
   ]
  },
  {
   "cell_type": "code",
   "execution_count": null,
   "metadata": {
    "colab": {
     "base_uri": "https://localhost:8080/",
     "height": 597
    },
    "id": "ztVRpM_JhVdU",
    "outputId": "5b26313a-caeb-4637-b940-38a543742763"
   },
   "outputs": [],
   "source": [
    "df.Make.value_counts().nlargest(40).plot(kind='bar', figsize=(10,5))\n",
    "plt.title(\"Number of cars by make\")\n",
    "plt.ylabel('Number of cars')\n",
    "plt.xlabel('Make');"
   ]
  },
  {
   "cell_type": "markdown",
   "metadata": {
    "id": "OYCcYKAkhu8v"
   },
   "source": [
    "### Heat Maps\n",
    "\n",
    "Heat Maps is a type of plot which is necessary when we need to find the dependent variables. One of the best way to find the relationship between the features can be done using heat maps. In the below heat map we know that the price feature depends mainly on the Engine Size, Horsepower, and Cylinders."
   ]
  },
  {
   "cell_type": "code",
   "execution_count": null,
   "metadata": {
    "colab": {
     "base_uri": "https://localhost:8080/",
     "height": 676
    },
    "id": "gSjGnqDihsvQ",
    "outputId": "7fbaa88e-bb53-4582-8e66-cde57ae098fe"
   },
   "outputs": [],
   "source": [
    "plt.figure(figsize=(10,5))\n",
    "c = df.corr()\n",
    "sns.heatmap(c,cmap=\"BrBG\",annot=True)\n",
    "c"
   ]
  },
  {
   "cell_type": "markdown",
   "metadata": {
    "id": "p_38sulThzyn"
   },
   "source": [
    "### Scatterplot\n",
    "\n",
    "We generally use scatter plots to find the correlation between two variables. Here the scatter plots are plotted between Horsepower and Price and we can see the plot below. With the plot given below, we can easily draw a trend line. These features provide a good scattering of points."
   ]
  },
  {
   "cell_type": "code",
   "execution_count": null,
   "metadata": {
    "colab": {
     "base_uri": "https://localhost:8080/",
     "height": 550
    },
    "id": "XlCtbs5OhwOA",
    "outputId": "d670b101-70a9-4553-fc51-f229414ca857"
   },
   "outputs": [],
   "source": [
    "fig, ax = plt.subplots(figsize=(10,6))\n",
    "ax.scatter(df['HP'], df['Price'])\n",
    "ax.set_xlabel('HP')\n",
    "ax.set_ylabel('Price')\n",
    "plt.show()"
   ]
  },
  {
   "cell_type": "markdown",
   "metadata": {
    "id": "4KsD6Fyxh4Py"
   },
   "source": [
    "**The above are some of the steps involved in Exploratory data analysis, these are some general steps that you must follow in order to perform EDA. There are many more yet to come but for now, this is more than enough idea as to how to perform a good EDA given any data sets.**\n",
    "\n",
    "## What are some conclusions you could derive from the above explorations?"
   ]
  },
  {
   "cell_type": "markdown",
   "metadata": {
    "id": "nzX1lIF6h-WI"
   },
   "source": [
    "## Some interesting libraries"
   ]
  },
  {
   "cell_type": "markdown",
   "metadata": {
    "id": "TlSXi8HpiAJP"
   },
   "source": [
    "### Pandas AI"
   ]
  },
  {
   "cell_type": "markdown",
   "metadata": {
    "id": "g4dR_DDGkHWc"
   },
   "source": [
    "https://colab.research.google.com/drive/1ZnO-njhL7TBOYPZaqvMvGtsjckZKrv2E?usp=sharing"
   ]
  },
  {
   "cell_type": "markdown",
   "metadata": {
    "id": "hDLUciHakNSA"
   },
   "source": [
    "## Y-Profiling"
   ]
  },
  {
   "cell_type": "code",
   "execution_count": null,
   "metadata": {
    "colab": {
     "base_uri": "https://localhost:8080/"
    },
    "id": "l1llX3hLijLC",
    "outputId": "a06e988d-9951-4aba-bf69-9fbd28c3081a"
   },
   "outputs": [],
   "source": [
    "! pip install ydata-profiling"
   ]
  },
  {
   "cell_type": "code",
   "execution_count": null,
   "metadata": {
    "id": "SLsr83elkOus"
   },
   "outputs": [],
   "source": [
    "import numpy as np\n",
    "import pandas as pd\n",
    "from ydata_profiling import ProfileReport\n",
    "\n",
    "toy_df = pd.DataFrame(np.random.rand(100, 5), columns=[\"a\", \"b\", \"c\", \"d\", \"e\"])"
   ]
  },
  {
   "cell_type": "code",
   "execution_count": null,
   "metadata": {
    "id": "5ObiEEHAkRuU"
   },
   "outputs": [],
   "source": [
    "toy_profile = ProfileReport(toy_df, title=\"Profiling Report\")"
   ]
  },
  {
   "cell_type": "code",
   "execution_count": null,
   "metadata": {
    "colab": {
     "base_uri": "https://localhost:8080/",
     "height": 917,
     "referenced_widgets": [
      "44bb48ada1da4ffcbfb0fb387a41b480",
      "358a9dafe5a54764b3f88be241c5b9ed",
      "8f528b3a072a425c8a6e2c37ccfd484a",
      "e5552d94f0dc4241b46a968c7dc30488",
      "42b7cd2f9c72406797b16f0d26e80009",
      "54cd7e53b7634dffb69f70a610a0c86a",
      "a6ab414d7ced43ecbe88df77f3d2095b",
      "92edc29e0ce14c949e1d62c445fa4d03",
      "bb8110e440054777ba70f4799f2e84c4",
      "b661f4a37c554d96bfab8af73dec7d97",
      "d3de7f125c7c4199b89dc1cdf3e1bc84",
      "9f8b8d166cd043a5991a375f435bb3e6",
      "84ecbef67bc141198e1b406d9352f8e9",
      "d40e24ab5c444112862b975fb36030b1",
      "eeb3d7602414440f92cd5fcd8b2dc660",
      "c5afe47a019a49389337ca2712dad06c",
      "0532e102be7b4d8ebaf35b26d9b69396",
      "21548d8f97dc44508c70e88abb4fc1d8",
      "6506dc0b1931462ca841f18a6ed19820",
      "8e790682ae154dddbe9ea54bec1736ea",
      "0c4cbc3657044e93a75093070f8c3826",
      "7fe7df2dc187491992e4ac3761cb6991",
      "92f8f4b0eaa24596a274f6a9a41e9895",
      "2b7f66467f95459e9883d371b08c1265",
      "a6a487b841d84e49bf091b0e7eb937f1",
      "079a712b52df411a9af76adb8db672a0",
      "a5de103ade4740ca90d738745e88b691",
      "2389856547044565a63eedf8af6bb120",
      "f121ee0dcd234740ab8372679839ff65",
      "d552265c524e42049de4752dcb451b65",
      "b4821c9920fa41b2a794382f2d1aa7fb",
      "ac632009b15249f6a6c1ef3a5327374b",
      "c784e0fe52004df49c09c0be59731d56"
     ]
    },
    "id": "Ews_RWwDkSsU",
    "outputId": "cece9598-05f1-41db-8020-cc27d2fc31d2"
   },
   "outputs": [],
   "source": [
    "toy_profile"
   ]
  },
  {
   "cell_type": "code",
   "execution_count": null,
   "metadata": {
    "id": "wARV8UgbkT_q"
   },
   "outputs": [],
   "source": []
  }
 ],
 "metadata": {
  "colab": {
   "provenance": []
  },
  "kernelspec": {
   "display_name": "Python 3 (ipykernel)",
   "language": "python",
   "name": "python3"
  },
  "language_info": {
   "codemirror_mode": {
    "name": "ipython",
    "version": 3
   },
   "file_extension": ".py",
   "mimetype": "text/x-python",
   "name": "python",
   "nbconvert_exporter": "python",
   "pygments_lexer": "ipython3",
   "version": "3.12.3"
  }
 },
 "nbformat": 4,
 "nbformat_minor": 4
}
