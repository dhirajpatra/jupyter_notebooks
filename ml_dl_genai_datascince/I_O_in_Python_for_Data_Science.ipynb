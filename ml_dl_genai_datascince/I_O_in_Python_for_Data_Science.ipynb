{
  "nbformat": 4,
  "nbformat_minor": 0,
  "metadata": {
    "colab": {
      "provenance": []
    },
    "kernelspec": {
      "name": "python3",
      "display_name": "Python 3"
    },
    "language_info": {
      "name": "python"
    }
  },
  "cells": [
    {
      "cell_type": "markdown",
      "source": [
        "## Kinds of Input\n",
        "* Command-line arguments: These are values passed to a Python script when it is executed from the command line.\n",
        "* User input: This is data entered by the user while the program is running, typically through the input() function.\n",
        "* Environment variables: These are values that are accessible to a Python program and are defined in the environment in which the program runs.\n",
        "* File inputs: Data read from files, such as text files, CSV files, JSON files, etc., using file handling operations like open() and read().\n"
      ],
      "metadata": {
        "id": "rYEdlf_LLKx_"
      }
    },
    {
      "cell_type": "markdown",
      "source": [
        "### User Input"
      ],
      "metadata": {
        "id": "kqqwUnjzLlx3"
      }
    },
    {
      "cell_type": "code",
      "execution_count": null,
      "metadata": {
        "colab": {
          "base_uri": "https://localhost:8080/"
        },
        "id": "ixdD25aKKEI5",
        "outputId": "79f73fd7-337e-42e6-ec66-df9abafebc5b"
      },
      "outputs": [
        {
          "output_type": "stream",
          "name": "stdout",
          "text": [
            "Enter a non-negative integer: 1.2\n",
            "invalid literal for int() with base 10: '1.2'\n",
            "ERROR: Only whole numbers allowed\n"
          ]
        }
      ],
      "source": [
        "# Get user input for the number they want to find the factorial of.\n",
        "# We use the input() function to take user input and convert it to an integer.\n",
        "# We also use the int() function to ensure the input is treated as a whole number.\n",
        "# The input() function returns a string, so we need to convert it to an int.\n",
        "try:\n",
        "  number = int(input(\"Enter a non-negative integer: \"))\n",
        "\n",
        "  # Check if the input is a non-negative integer.\n",
        "  if number < 0:\n",
        "      print(\"Sorry, factorial is not defined for negative numbers.\")\n",
        "  elif number == 0:\n",
        "      # Factorial of 0 is always 1.\n",
        "      print(\"The factorial of 0 is 1.\")\n",
        "  else:\n",
        "      # Initialize a variable to store the factorial and set it to 1 initially.\n",
        "      factorial = 1\n",
        "\n",
        "      # Use a for loop to calculate the factorial.\n",
        "      # We'll start from 1 and go up to the input number.\n",
        "      for i in range(1, number + 1):\n",
        "          # Multiply the current factorial by the loop variable (i).\n",
        "          factorial = factorial * i\n",
        "\n",
        "      # Print the result.\n",
        "      print(f\"The factorial of {number} is {factorial}\")\n",
        "except ValueError as e:\n",
        "  print(e)\n",
        "  print(\"ERROR: Only whole numbers allowed\")"
      ]
    },
    {
      "cell_type": "markdown",
      "source": [
        "### Command-line Arguments"
      ],
      "metadata": {
        "id": "ecgPnhj-MLC8"
      }
    },
    {
      "cell_type": "code",
      "source": [
        "!ls"
      ],
      "metadata": {
        "colab": {
          "base_uri": "https://localhost:8080/"
        },
        "id": "oxeGnQ00rWFW",
        "outputId": "68e4b462-8b74-4392-9aa9-75438034e9fd"
      },
      "execution_count": null,
      "outputs": [
        {
          "output_type": "stream",
          "name": "stdout",
          "text": [
            "drive  sample_data\n"
          ]
        }
      ]
    },
    {
      "cell_type": "code",
      "source": [
        "!python3 \"/content/drive/MyDrive/GFG/54. Python IO - 12th May, 2024/script.py\" ab cd"
      ],
      "metadata": {
        "colab": {
          "base_uri": "https://localhost:8080/"
        },
        "id": "IUHkpguZMq9S",
        "outputId": "0d9bf035-5bdf-4cff-9e3d-8459ba1d15df"
      },
      "execution_count": null,
      "outputs": [
        {
          "output_type": "stream",
          "name": "stdout",
          "text": [
            "Script Name: /content/drive/MyDrive/GFG/54. Python IO - 12th May, 2024/script.py\n",
            "Arguments: ['ab', 'cd']\n"
          ]
        }
      ]
    },
    {
      "cell_type": "code",
      "source": [
        "# https://docs.python.org/3/library/argparse.html"
      ],
      "metadata": {
        "id": "wW0LVDevrCSl"
      },
      "execution_count": null,
      "outputs": []
    },
    {
      "cell_type": "markdown",
      "source": [
        "### Environment Variables"
      ],
      "metadata": {
        "id": "Sh2Y4etXNNC8"
      }
    },
    {
      "cell_type": "code",
      "source": [
        "import os\n",
        "\n",
        "# Get all environment variables\n",
        "env_vars = os.environ\n",
        "\n",
        "# Print all environment variables\n",
        "for key, value in env_vars.items():\n",
        "    print(f\"{key}: {value}\")"
      ],
      "metadata": {
        "colab": {
          "base_uri": "https://localhost:8080/"
        },
        "id": "Up2JZc5HM2Xw",
        "outputId": "1dd83f89-c010-4f2a-aac7-fee4cc74ba95"
      },
      "execution_count": null,
      "outputs": [
        {
          "output_type": "stream",
          "name": "stdout",
          "text": [
            "SHELL: /bin/bash\n",
            "NV_LIBCUBLAS_VERSION: 12.2.5.6-1\n",
            "NVIDIA_VISIBLE_DEVICES: all\n",
            "COLAB_JUPYTER_TRANSPORT: ipc\n",
            "NV_NVML_DEV_VERSION: 12.2.140-1\n",
            "NV_CUDNN_PACKAGE_NAME: libcudnn8\n",
            "CGROUP_MEMORY_EVENTS: /sys/fs/cgroup/memory.events /var/colab/cgroup/jupyter-children/memory.events\n",
            "NV_LIBNCCL_DEV_PACKAGE: libnccl-dev=2.19.3-1+cuda12.2\n",
            "NV_LIBNCCL_DEV_PACKAGE_VERSION: 2.19.3-1\n",
            "VM_GCE_METADATA_HOST: 169.254.169.253\n",
            "HOSTNAME: 940f657628d8\n",
            "LANGUAGE: en_US\n",
            "TBE_RUNTIME_ADDR: 172.28.0.1:8011\n",
            "COLAB_TPU_1VM: \n",
            "GCE_METADATA_TIMEOUT: 3\n",
            "NVIDIA_REQUIRE_CUDA: cuda>=12.2 brand=tesla,driver>=470,driver<471 brand=unknown,driver>=470,driver<471 brand=nvidia,driver>=470,driver<471 brand=nvidiartx,driver>=470,driver<471 brand=geforce,driver>=470,driver<471 brand=geforcertx,driver>=470,driver<471 brand=quadro,driver>=470,driver<471 brand=quadrortx,driver>=470,driver<471 brand=titan,driver>=470,driver<471 brand=titanrtx,driver>=470,driver<471 brand=tesla,driver>=525,driver<526 brand=unknown,driver>=525,driver<526 brand=nvidia,driver>=525,driver<526 brand=nvidiartx,driver>=525,driver<526 brand=geforce,driver>=525,driver<526 brand=geforcertx,driver>=525,driver<526 brand=quadro,driver>=525,driver<526 brand=quadrortx,driver>=525,driver<526 brand=titan,driver>=525,driver<526 brand=titanrtx,driver>=525,driver<526\n",
            "NV_LIBCUBLAS_DEV_PACKAGE: libcublas-dev-12-2=12.2.5.6-1\n",
            "NV_NVTX_VERSION: 12.2.140-1\n",
            "COLAB_JUPYTER_IP: 172.28.0.12\n",
            "NV_CUDA_CUDART_DEV_VERSION: 12.2.140-1\n",
            "NV_LIBCUSPARSE_VERSION: 12.1.2.141-1\n",
            "COLAB_LANGUAGE_SERVER_PROXY_ROOT_URL: http://172.28.0.1:8013/\n",
            "NV_LIBNPP_VERSION: 12.2.1.4-1\n",
            "NCCL_VERSION: 2.19.3-1\n",
            "KMP_LISTEN_PORT: 6000\n",
            "TF_FORCE_GPU_ALLOW_GROWTH: true\n",
            "ENV: /root/.bashrc\n",
            "PWD: /\n",
            "TBE_EPHEM_CREDS_ADDR: 172.28.0.1:8009\n",
            "COLAB_LANGUAGE_SERVER_PROXY_REQUEST_TIMEOUT: 30s\n",
            "TBE_CREDS_ADDR: 172.28.0.1:8008\n",
            "NV_CUDNN_PACKAGE: libcudnn8=8.9.6.50-1+cuda12.2\n",
            "NVIDIA_DRIVER_CAPABILITIES: compute,utility\n",
            "COLAB_JUPYTER_TOKEN: \n",
            "LAST_FORCED_REBUILD: 20240508\n",
            "NV_NVPROF_DEV_PACKAGE: cuda-nvprof-12-2=12.2.142-1\n",
            "NV_LIBNPP_PACKAGE: libnpp-12-2=12.2.1.4-1\n",
            "NV_LIBNCCL_DEV_PACKAGE_NAME: libnccl-dev\n",
            "TCLLIBPATH: /usr/share/tcltk/tcllib1.20\n",
            "NV_LIBCUBLAS_DEV_VERSION: 12.2.5.6-1\n",
            "NVIDIA_PRODUCT_NAME: CUDA\n",
            "COLAB_KERNEL_MANAGER_PROXY_HOST: 172.28.0.12\n",
            "NV_LIBCUBLAS_DEV_PACKAGE_NAME: libcublas-dev-12-2\n",
            "NV_CUDA_CUDART_VERSION: 12.2.140-1\n",
            "COLAB_WARMUP_DEFAULTS: 1\n",
            "HOME: /root\n",
            "LANG: en_US.UTF-8\n",
            "COLUMNS: 100\n",
            "CUDA_VERSION: 12.2.2\n",
            "CLOUDSDK_CONFIG: /content/.config\n",
            "NV_LIBCUBLAS_PACKAGE: libcublas-12-2=12.2.5.6-1\n",
            "NV_CUDA_NSIGHT_COMPUTE_DEV_PACKAGE: cuda-nsight-compute-12-2=12.2.2-1\n",
            "COLAB_RELEASE_TAG: release-colab_20240509-060050_RC00\n",
            "KMP_TARGET_PORT: 9000\n",
            "KMP_EXTRA_ARGS: --logtostderr --listen_host=172.28.0.12 --target_host=172.28.0.12 --tunnel_background_save_url=https://colab.research.google.com/tun/m/cc48301118ce562b961b3c22d803539adc1e0c19/m-s-3oqbxql30w7ar --tunnel_background_save_delay=10s --tunnel_periodic_background_save_frequency=30m0s --enable_output_coalescing=true --output_coalescing_required=true\n",
            "NV_LIBNPP_DEV_PACKAGE: libnpp-dev-12-2=12.2.1.4-1\n",
            "COLAB_LANGUAGE_SERVER_PROXY_LSP_DIRS: /datalab/web/pyright/typeshed-fallback/stdlib,/usr/local/lib/python3.10/dist-packages\n",
            "NV_LIBCUBLAS_PACKAGE_NAME: libcublas-12-2\n",
            "COLAB_KERNEL_MANAGER_PROXY_PORT: 6000\n",
            "CLOUDSDK_PYTHON: python3\n",
            "NV_LIBNPP_DEV_VERSION: 12.2.1.4-1\n",
            "NO_GCE_CHECK: False\n",
            "PYTHONPATH: /env/python\n",
            "NV_LIBCUSPARSE_DEV_VERSION: 12.1.2.141-1\n",
            "LIBRARY_PATH: /usr/local/cuda/lib64/stubs\n",
            "NV_CUDNN_VERSION: 8.9.6.50\n",
            "SHLVL: 0\n",
            "NV_CUDA_LIB_VERSION: 12.2.2-1\n",
            "COLAB_LANGUAGE_SERVER_PROXY: /usr/colab/bin/language_service\n",
            "NVARCH: x86_64\n",
            "NV_CUDNN_PACKAGE_DEV: libcudnn8-dev=8.9.6.50-1+cuda12.2\n",
            "NV_CUDA_COMPAT_PACKAGE: cuda-compat-12-2\n",
            "NV_LIBNCCL_PACKAGE: libnccl2=2.19.3-1+cuda12.2\n",
            "LD_LIBRARY_PATH: /usr/local/nvidia/lib:/usr/local/nvidia/lib64\n",
            "COLAB_GPU: \n",
            "NV_CUDA_NSIGHT_COMPUTE_VERSION: 12.2.2-1\n",
            "GCS_READ_CACHE_BLOCK_SIZE_MB: 16\n",
            "NV_NVPROF_VERSION: 12.2.142-1\n",
            "LC_ALL: en_US.UTF-8\n",
            "COLAB_FILE_HANDLER_ADDR: localhost:3453\n",
            "PATH: /opt/bin:/usr/local/nvidia/bin:/usr/local/cuda/bin:/usr/local/sbin:/usr/local/bin:/usr/sbin:/usr/bin:/sbin:/bin:/tools/node/bin:/tools/google-cloud-sdk/bin\n",
            "NV_LIBNCCL_PACKAGE_NAME: libnccl2\n",
            "COLAB_DEBUG_ADAPTER_MUX_PATH: /usr/local/bin/dap_multiplexer\n",
            "NV_LIBNCCL_PACKAGE_VERSION: 2.19.3-1\n",
            "PYTHONWARNINGS: ignore:::pip._internal.cli.base_command\n",
            "DEBIAN_FRONTEND: noninteractive\n",
            "COLAB_BACKEND_VERSION: next\n",
            "OLDPWD: /\n",
            "JPY_PARENT_PID: 85\n",
            "TERM: xterm-color\n",
            "CLICOLOR: 1\n",
            "PAGER: cat\n",
            "GIT_PAGER: cat\n",
            "MPLBACKEND: module://ipykernel.pylab.backend_inline\n",
            "ENABLE_DIRECTORYPREFETCHER: 1\n",
            "USE_AUTH_EPHEM: 1\n",
            "PYDEVD_USE_FRAME_EVAL: NO\n"
          ]
        }
      ]
    },
    {
      "cell_type": "code",
      "source": [
        "import os\n",
        "\n",
        "# Get a specific environment variable\n",
        "value = os.getenv(\"CUDA_VERSION\")\n",
        "\n",
        "if value is not None:\n",
        "    print(f\"The value of CUDA_VERSION is: {value}\")\n",
        "else:\n",
        "    print(\"CUDA_VERSION is not set.\")"
      ],
      "metadata": {
        "colab": {
          "base_uri": "https://localhost:8080/"
        },
        "id": "dDCF9AJJNPiZ",
        "outputId": "373d3ea4-606d-4f88-fbd3-a0745daaa891"
      },
      "execution_count": null,
      "outputs": [
        {
          "output_type": "stream",
          "name": "stdout",
          "text": [
            "The value of CUDA_VERSION is: 12.2.2\n"
          ]
        }
      ]
    },
    {
      "cell_type": "markdown",
      "source": [
        "### Basic File IO"
      ],
      "metadata": {
        "id": "Q98Dk7EZN08S"
      }
    },
    {
      "cell_type": "markdown",
      "source": [
        "File = Container (of any kind) for data (of any kind) at rest.\n",
        "\n"
      ],
      "metadata": {
        "id": "wfINKkKkx7t0"
      }
    },
    {
      "cell_type": "markdown",
      "source": [
        "\n",
        "\n",
        "```\n",
        "f = open(filename, mode)\n",
        "```\n",
        "\n"
      ],
      "metadata": {
        "id": "K_C6MwiFN6MN"
      }
    },
    {
      "cell_type": "markdown",
      "source": [
        "Where the following mode is supported:\n",
        "\n",
        "* r: open an existing file for a read operation.\n",
        "* w: open an existing file for a write operation. If the file already contains some data, then it will be overridden but if the file is not present then it creates the file as well.\n",
        "* a:  open an existing file for append operation. It won’t override existing data.\n"
      ],
      "metadata": {
        "id": "TZ4BzXKBOAeu"
      }
    },
    {
      "cell_type": "code",
      "source": [
        "\"\"\"\n",
        "File Contents:\n",
        "Hello world\n",
        "GeeksforGeeks\n",
        "123 456\n",
        "\"\"\"\n",
        "filepath = '/content/drive/MyDrive/GFG/54. Python IO - 12th May, 2024/data/geeks.txt'"
      ],
      "metadata": {
        "id": "QJTanXpkOSke"
      },
      "execution_count": null,
      "outputs": []
    },
    {
      "cell_type": "code",
      "source": [
        "# Python code to illustrate read() mode\n",
        "file = open(filepath, \"r\")\n",
        "print(file.read())"
      ],
      "metadata": {
        "colab": {
          "base_uri": "https://localhost:8080/"
        },
        "id": "jc0SMHIFOkVA",
        "outputId": "15f36c02-a249-460c-e16d-57fac4944ab5"
      },
      "execution_count": null,
      "outputs": [
        {
          "output_type": "stream",
          "name": "stdout",
          "text": [
            "Hello world\n",
            "GeeksforGeeks\n",
            "123 456\n"
          ]
        }
      ]
    },
    {
      "cell_type": "code",
      "source": [
        "# a file named \"geeks.txt\", will be opened with the reading mode.\n",
        "file = open(filepath, 'r')\n",
        "\n",
        "# This will print every line one by one in the file\n",
        "for eachline in file:\n",
        "\tprint(eachline)\n",
        "\n",
        "file.close()"
      ],
      "metadata": {
        "colab": {
          "base_uri": "https://localhost:8080/"
        },
        "id": "l9srkIDCNvqX",
        "outputId": "026410bd-7550-45c5-b16d-fd14c841994d"
      },
      "execution_count": null,
      "outputs": [
        {
          "output_type": "stream",
          "name": "stdout",
          "text": [
            "Hello world\n",
            "\n",
            "GeeksforGeeks\n",
            "\n",
            "123 456\n"
          ]
        }
      ]
    },
    {
      "cell_type": "code",
      "source": [
        "# Python code to illustrate with()\n",
        "\n",
        "# file = open(filepath)\n",
        "# data = file.read()\n",
        "# file.close()\n",
        "with open(filepath) as file:\n",
        "  data = file.read()\n",
        "\n",
        "print(data)"
      ],
      "metadata": {
        "colab": {
          "base_uri": "https://localhost:8080/"
        },
        "id": "3BGWkMPNOWHa",
        "outputId": "f16298ee-88a1-4b52-da45-239e6761cce5"
      },
      "execution_count": null,
      "outputs": [
        {
          "output_type": "stream",
          "name": "stdout",
          "text": [
            "Hello world\n",
            "GeeksforGeeks\n",
            "123 456\n"
          ]
        }
      ]
    },
    {
      "cell_type": "code",
      "source": [
        "# Python code to illustrate split()\n",
        "with open(filepath, \"r\") as file:\n",
        "\tdata = file.readlines()\n",
        "\tfor line in data:\n",
        "\t\tword = line.split()\n",
        "\t\tprint(word)"
      ],
      "metadata": {
        "colab": {
          "base_uri": "https://localhost:8080/"
        },
        "id": "Z7gc_SyWOxzb",
        "outputId": "6891211f-4410-41a3-c0f4-590fb191c68e"
      },
      "execution_count": null,
      "outputs": [
        {
          "output_type": "stream",
          "name": "stdout",
          "text": [
            "['Hello', 'world']\n",
            "['GeeksforGeeks']\n",
            "['123', '456']\n"
          ]
        }
      ]
    },
    {
      "cell_type": "code",
      "source": [
        "# Python code to create a file\n",
        "file = open('geeky.txt','w')\n",
        "file.write(\"This is the write command\\n\")\n",
        "file.write(\"It allows us to write in a particular file\")\n",
        "file.close()"
      ],
      "metadata": {
        "id": "0w4fzlihO9Gm"
      },
      "execution_count": null,
      "outputs": []
    },
    {
      "cell_type": "code",
      "source": [
        "# Python code to illustrate with() alongwith write()\n",
        "with open(\"file.txt\", \"w\") as f:\n",
        "\tf.write(\"Hello World!!!\")"
      ],
      "metadata": {
        "id": "jkQS6pNZPIVH"
      },
      "execution_count": null,
      "outputs": []
    },
    {
      "cell_type": "code",
      "source": [
        "# Python code to illustrate append() mode\n",
        "file = open('geeky.txt', 'a')\n",
        "file.write(\"This will add this line\")\n",
        "file.close()"
      ],
      "metadata": {
        "id": "-jMCrZjPPMg-"
      },
      "execution_count": null,
      "outputs": []
    },
    {
      "cell_type": "code",
      "source": [
        "import os\n",
        "\n",
        "def create_file(filename):\n",
        "\ttry:\n",
        "\t\twith open(filename, 'w') as f:\n",
        "\t\t\tf.write('Hello, world!\\n')\n",
        "\t\tprint(\"File \" + filename + \" created successfully.\")\n",
        "\texcept IOError:\n",
        "\t\tprint(\"Error: could not create file \" + filename)\n",
        "\n",
        "def read_file(filename):\n",
        "\ttry:\n",
        "\t\twith open(filename, 'r') as f:\n",
        "\t\t\tcontents = f.read()\n",
        "\t\t\tprint(contents)\n",
        "\texcept IOError:\n",
        "\t\tprint(\"Error: could not read file \" + filename)\n",
        "\n",
        "def append_file(filename, text):\n",
        "\ttry:\n",
        "\t\twith open(filename, 'a') as f:\n",
        "\t\t\tf.write(text)\n",
        "\t\tprint(\"Text appended to file \" + filename + \" successfully.\")\n",
        "\texcept IOError:\n",
        "\t\tprint(\"Error: could not append to file \" + filename)\n",
        "\n",
        "def rename_file(filename, new_filename):\n",
        "\ttry:\n",
        "\t\tos.rename(filename, new_filename)\n",
        "\t\tprint(\"File \" + filename + \" renamed to \" + new_filename + \" successfully.\")\n",
        "\texcept IOError:\n",
        "\t\tprint(\"Error: could not rename file \" + filename)\n",
        "\n",
        "def delete_file(filename):\n",
        "\ttry:\n",
        "\t\tos.remove(filename)\n",
        "\t\tprint(\"File \" + filename + \" deleted successfully.\")\n",
        "\texcept IOError:\n",
        "\t\tprint(\"Error: could not delete file \" + filename)\n",
        "\n",
        "\n",
        "if __name__ == '__main__':\n",
        "\tfilename = \"example.txt\"\n",
        "\tnew_filename = \"new_example.txt\"\n",
        "\n",
        "\tcreate_file(filename)\n",
        "\tread_file(filename)\n",
        "\tappend_file(filename, \"This is some additional text.\\n\")\n",
        "\tread_file(filename)\n",
        "\trename_file(filename, new_filename)\n",
        "\tread_file(new_filename)\n",
        "\tdelete_file(new_filename)"
      ],
      "metadata": {
        "colab": {
          "base_uri": "https://localhost:8080/"
        },
        "id": "zxwOTNKhPS2x",
        "outputId": "b6fc0194-7818-49f1-8eac-01fc26f9c304"
      },
      "execution_count": null,
      "outputs": [
        {
          "output_type": "stream",
          "name": "stdout",
          "text": [
            "File example.txt created successfully.\n",
            "Hello, world!\n",
            "\n",
            "Text appended to file example.txt successfully.\n",
            "Hello, world!\n",
            "This is some additional text.\n",
            "\n",
            "File example.txt renamed to new_example.txt successfully.\n",
            "Hello, world!\n",
            "This is some additional text.\n",
            "\n",
            "File new_example.txt deleted successfully.\n"
          ]
        }
      ]
    },
    {
      "cell_type": "markdown",
      "source": [
        "# JSON\n",
        "\n",
        "JSON stands for JavaScript Object Notation.\n",
        "<br>\n",
        "It is a lightweight data interchange format.\n",
        "<br>\n",
        "JSON uses key-value pairs and various data types (strings, numbers, arrays, objects, booleans, null)."
      ],
      "metadata": {
        "id": "5zqvGzpvPijZ"
      }
    },
    {
      "cell_type": "markdown",
      "source": [
        "## Comparison with Python Dictionaries\n",
        "JSON (JavaScript Object Notation) and Python dictionaries share similar structures and serve as data interchange formats, but there are some key differences between them.\n",
        "\n"
      ],
      "metadata": {
        "id": "N1EzRCaaPoSp"
      }
    },
    {
      "cell_type": "markdown",
      "source": [
        "#### Syntax"
      ],
      "metadata": {
        "id": "YkzZmLhWPrAj"
      }
    },
    {
      "cell_type": "markdown",
      "source": [
        "\n",
        "\n",
        "```\n",
        "#json\n",
        "{\"name\": \"John\", \"age\": 30, \"city\": \"New York\"}\n",
        "\n",
        "# not a valid json\n",
        "{30: \"John\", \"age\": 30, \"city\": \"New York\"} # keys cannot be integer in json\n",
        "\n",
        "# not a valid json\n",
        "{\"name\": 'John', \"age\": 30, \"city\": \"New York\"} # only double quotes work in json\n",
        "\n",
        "# not a valid json\n",
        "{(3, 5): \"418\"} # json supports strings, numbers, arrays, objects, booleans, and null (not a tuple)\n",
        "{{\"k1\": \"v1\"}: \"90\"} # json supports strings, numbers, arrays, objects, booleans, and null (not a dictionary)\n",
        "```\n",
        "\n"
      ],
      "metadata": {
        "id": "tWlvjIzsP0AE"
      }
    },
    {
      "cell_type": "markdown",
      "source": [
        "**All valid jsons will be valid dictionaries.\n",
        "But, not all valid dictionaries will be valid jsons.**"
      ],
      "metadata": {
        "id": "0i9YhUFSP5-X"
      }
    },
    {
      "cell_type": "markdown",
      "source": [
        "#### Representation\n",
        "* JSON: All keys and string values must be enclosed in double quotes.\n",
        "* Python Dictionary: Keys can be strings, integers, or other immutable types, and they don't necessarily require quotes."
      ],
      "metadata": {
        "id": "moThwFTsAyzU"
      }
    },
    {
      "cell_type": "markdown",
      "source": [
        "#### Data Types\n",
        "* JSON: Supports strings, numbers, arrays, objects, booleans, and null.\n",
        "* Python Dictionary: Supports any hashable object as keys and various data types as values, including lists, dictionaries, strings, numbers, booleans, etc."
      ],
      "metadata": {
        "id": "0qn9bhlVByP_"
      }
    },
    {
      "cell_type": "markdown",
      "source": [
        "#### Ordering\n",
        "* JSON: Preserves the order of elements within arrays.\n",
        "* Python Dictionary: Preserves insertion order starting from Python 3.7+ (official as of Python 3.7, guaranteed as of Python 3.8)."
      ],
      "metadata": {
        "id": "i5LqxLOtB0hA"
      }
    },
    {
      "cell_type": "markdown",
      "source": [
        "#### Usage\n",
        "* JSON: Primarily used for data interchange between languages and systems. Commonly used in web development for APIs and configuration files.\n",
        "* Python Dictionary: Used for storing and manipulating data within Python programs."
      ],
      "metadata": {
        "id": "k0BYUrjnB2qh"
      }
    },
    {
      "cell_type": "markdown",
      "source": [
        "#### Null Representation\n",
        "* JSON: Uses the keyword null to represent a null or undefined value.\n",
        "* Python Dictionary: Uses None to represent a null or undefined value."
      ],
      "metadata": {
        "id": "c09erYfcB4Y9"
      }
    },
    {
      "cell_type": "markdown",
      "source": [
        "#### Platform Independence\n",
        "* JSON: Designed to be language-agnostic and platform-independent. Widely supported in various programming languages.\n",
        "* Python Dictionary: Specific to the Python programming language."
      ],
      "metadata": {
        "id": "7efQrGiHB56j"
      }
    },
    {
      "cell_type": "markdown",
      "source": [
        "## JSON Datatypes\n",
        "\n",
        "**1. String:**\n",
        "* Format: Enclosed in double quotes.\n",
        "* Example: \"name\": \"John\"\n",
        "* Note: Unicode characters are supported, and escape sequences (\\n, \\t, etc.) can be used.\n",
        "\n",
        "**2. Number:**\n",
        "* Format: Integer or floating-point numbers.\n",
        "* Example: \"age\": 30 or \"price\": 19.99\n",
        "* Note: JSON does not distinguish between integer and floating-point numbers in its syntax.\n",
        "\n",
        "**3. Object:**\n",
        "* Format: Key-value pairs enclosed in curly braces {}.\n",
        "* Example: \"person\": {\"name\": \"Alice\", \"age\": 25}\n",
        "* Note: Objects in JSON are similar to Python dictionaries.\n",
        "\n",
        "**4. Array:**\n",
        "* Format: Ordered list of values enclosed in square brackets [].\n",
        "* Example: \"hobbies\": [\"reading\", \"painting\", 30]\n",
        "* Note: Arrays can contain values of different data types, including other arrays and objects.\n",
        "\n",
        "**5. Boolean:**\n",
        "* Values: true or false.\n",
        "* Example: \"isStudent\": true\n",
        "* Note: Representing truth values.\n",
        "\n",
        "**6. Null:**\n",
        "* Value: null.\n",
        "* Example: \"address\": null\n",
        "* Note: Represents an absent or undefined value.\n",
        "\n",
        "These data types can be combined and nested to represent complex and hierarchical structures. For example, an object can contain arrays of objects, and arrays can include strings, numbers, objects, or other arrays. Here's an example illustrating the combination of these data types:\n",
        "\n",
        "\n",
        "```\n",
        "{\n",
        "  \"person\": {\n",
        "    \"name\": \"Bob\",\n",
        "    \"age\": 28,\n",
        "    \"isStudent\": false,\n",
        "    \"hobbies\": [\"gaming\", \"coding\"],\n",
        "    \"address\": null,\n",
        "    \"contacts\": [\n",
        "      {\"type\": \"email\", \"value\": \"bob@example.com\"},\n",
        "      {\"type\": \"phone\", \"value\": \"+123456789\"}\n",
        "    ]\n",
        "  }\n",
        "}\n",
        "```\n",
        "\n",
        "In this example:\n",
        "\n",
        "The \"person\" property is an object containing various data types. <br>\n",
        "\"name\", \"age\", and \"isStudent\" are string, number, and boolean values, respectively. <br>\n",
        "\"hobbies\" is an array containing strings. <br>\n",
        "\"address\" is set to null. <br>\n",
        "\"contacts\" is an array of objects, each having string keys and values.\n",
        "\n",
        "\n"
      ],
      "metadata": {
        "id": "va_EML5vCJiD"
      }
    },
    {
      "cell_type": "markdown",
      "source": [
        "## Creating JSON in Python\n",
        "\n",
        "### Using `json` Module"
      ],
      "metadata": {
        "id": "YJgjFBkBDoP6"
      }
    },
    {
      "cell_type": "code",
      "source": [
        "import json\n",
        "\n",
        "# convert a Python object (usually a dictionary) to a JSON string\n",
        "data = {'name': 'John', \"age\": 30, 'city': 'New York'}\n",
        "json_data = json.dumps(data)\n",
        "json_data_pretty = json.dumps(data, indent = 4)\n",
        "print(json_data)\n",
        "print(json_data_pretty)"
      ],
      "metadata": {
        "colab": {
          "base_uri": "https://localhost:8080/"
        },
        "id": "jcSKdpnrDMFf",
        "outputId": "1d5f9fe2-6f7d-4f45-cd2a-3a02971bb26a"
      },
      "execution_count": null,
      "outputs": [
        {
          "output_type": "stream",
          "name": "stdout",
          "text": [
            "{\"name\": \"John\", \"age\": 30, \"city\": \"New York\"}\n",
            "{\n",
            "    \"name\": \"John\",\n",
            "    \"age\": 30,\n",
            "    \"city\": \"New York\"\n",
            "}\n"
          ]
        }
      ]
    },
    {
      "cell_type": "code",
      "source": [
        "print(type(data))\n",
        "print(type(json_data))"
      ],
      "metadata": {
        "colab": {
          "base_uri": "https://localhost:8080/"
        },
        "id": "QRltReBP69ZU",
        "outputId": "c1ac657d-c4d0-4219-800a-5126cb389867"
      },
      "execution_count": null,
      "outputs": [
        {
          "output_type": "stream",
          "name": "stdout",
          "text": [
            "<class 'dict'>\n",
            "<class 'str'>\n"
          ]
        }
      ]
    },
    {
      "cell_type": "code",
      "source": [
        "'''\n",
        "{\"name\": \"John\", \"age\": 30, \"city\": \"New York\"}\n",
        "'''"
      ],
      "metadata": {
        "colab": {
          "base_uri": "https://localhost:8080/",
          "height": 35
        },
        "id": "ZKJyY9XkPtmq",
        "outputId": "a24a2b0f-7642-4b57-9d94-9fbf70c6b075"
      },
      "execution_count": null,
      "outputs": [
        {
          "output_type": "execute_result",
          "data": {
            "text/plain": [
              "'\\n{\"name\": \"John\", \"age\": 30, \"city\": \"New York\"}\\n'"
            ],
            "application/vnd.google.colaboratory.intrinsic+json": {
              "type": "string"
            }
          },
          "metadata": {},
          "execution_count": 16
        }
      ]
    },
    {
      "cell_type": "code",
      "source": [
        "data = {'name': 'John', 'age': 30, 'city': 'New York'}\n",
        "# write JSON data to a file\n",
        "with open(\"data.json\", \"w\") as json_file:\n",
        "    json.dump(data, json_file)"
      ],
      "metadata": {
        "id": "8MoeshVqQNGw"
      },
      "execution_count": null,
      "outputs": []
    },
    {
      "cell_type": "markdown",
      "source": [
        "## Parsing JSON in Python"
      ],
      "metadata": {
        "id": "h7MIBUpWENdM"
      }
    },
    {
      "cell_type": "code",
      "source": [
        "# convert a JSON string to a Python object\n",
        "json_string = '{\"name\": \"John\", \"age\": 30, \"city\": \"New York\"}'\n",
        "python_object = json.loads(json_string)\n",
        "print(python_object)"
      ],
      "metadata": {
        "colab": {
          "base_uri": "https://localhost:8080/"
        },
        "id": "e3JTeazqEFPA",
        "outputId": "f912399d-6e70-45b2-fd19-08103ea198e5"
      },
      "execution_count": null,
      "outputs": [
        {
          "output_type": "stream",
          "name": "stdout",
          "text": [
            "{'name': 'John', 'age': 30, 'city': 'New York'}\n"
          ]
        }
      ]
    },
    {
      "cell_type": "code",
      "source": [
        "type(python_object)"
      ],
      "metadata": {
        "colab": {
          "base_uri": "https://localhost:8080/"
        },
        "id": "EPp5ROLt5YF_",
        "outputId": "a9affd37-d5a5-48c7-ffb0-f4de9228aad9"
      },
      "execution_count": null,
      "outputs": [
        {
          "output_type": "execute_result",
          "data": {
            "text/plain": [
              "dict"
            ]
          },
          "metadata": {},
          "execution_count": 19
        }
      ]
    },
    {
      "cell_type": "code",
      "source": [
        "# how to read JSON data from a file\n",
        "with open(\"data.json\", \"r\") as json_file:\n",
        "    data_from_file = json.load(json_file)"
      ],
      "metadata": {
        "id": "vg5Un5uDEWmD"
      },
      "execution_count": null,
      "outputs": []
    },
    {
      "cell_type": "markdown",
      "source": [
        "## Read and write tabular data using Pandas"
      ],
      "metadata": {
        "id": "QbPH4J_gCjU5"
      }
    },
    {
      "cell_type": "markdown",
      "source": [
        "pandas supports the integration with many file formats or data sources out of the box (csv, excel, sql, json, parquet,…). Importing data from each of these data sources is provided by function with the prefix read_*. Similarly, the to_* methods are used to store data.\n",
        "\n",
        "![image.png](data:image/png;base64,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)"
      ],
      "metadata": {
        "id": "nO2ylpqSCrRM"
      }
    },
    {
      "cell_type": "markdown",
      "source": [
        "pandas provides the `read_csv()` function to read data stored as a csv file into a pandas DataFrame."
      ],
      "metadata": {
        "id": "8cEDYqkoC4SA"
      }
    },
    {
      "cell_type": "code",
      "source": [
        "import pandas as pd"
      ],
      "metadata": {
        "id": "NkvEb6BxRChP"
      },
      "execution_count": null,
      "outputs": []
    },
    {
      "cell_type": "code",
      "source": [
        "titanic = pd.read_csv(\"/content/drive/MyDrive/GFG/54. Python IO - 12th May, 2024/data/titanic.csv\")"
      ],
      "metadata": {
        "id": "btWilsesCcTa"
      },
      "execution_count": null,
      "outputs": []
    },
    {
      "cell_type": "code",
      "source": [
        "titanic"
      ],
      "metadata": {
        "colab": {
          "base_uri": "https://localhost:8080/",
          "height": 947
        },
        "id": "R98Goq1sCxjd",
        "outputId": "815bfadf-8447-4942-c254-33053151c12d"
      },
      "execution_count": null,
      "outputs": [
        {
          "output_type": "execute_result",
          "data": {
            "text/plain": [
              "     PassengerId  Survived  Pclass  \\\n",
              "0              1         0       3   \n",
              "1              2         1       1   \n",
              "2              3         1       3   \n",
              "3              4         1       1   \n",
              "4              5         0       3   \n",
              "..           ...       ...     ...   \n",
              "886          887         0       2   \n",
              "887          888         1       1   \n",
              "888          889         0       3   \n",
              "889          890         1       1   \n",
              "890          891         0       3   \n",
              "\n",
              "                                                  Name     Sex   Age  SibSp  \\\n",
              "0                              Braund, Mr. Owen Harris    male  22.0      1   \n",
              "1    Cumings, Mrs. John Bradley (Florence Briggs Th...  female  38.0      1   \n",
              "2                               Heikkinen, Miss. Laina  female  26.0      0   \n",
              "3         Futrelle, Mrs. Jacques Heath (Lily May Peel)  female  35.0      1   \n",
              "4                             Allen, Mr. William Henry    male  35.0      0   \n",
              "..                                                 ...     ...   ...    ...   \n",
              "886                              Montvila, Rev. Juozas    male  27.0      0   \n",
              "887                       Graham, Miss. Margaret Edith  female  19.0      0   \n",
              "888           Johnston, Miss. Catherine Helen \"Carrie\"  female   NaN      1   \n",
              "889                              Behr, Mr. Karl Howell    male  26.0      0   \n",
              "890                                Dooley, Mr. Patrick    male  32.0      0   \n",
              "\n",
              "     Parch            Ticket     Fare Cabin Embarked  \n",
              "0        0         A/5 21171   7.2500   NaN        S  \n",
              "1        0          PC 17599  71.2833   C85        C  \n",
              "2        0  STON/O2. 3101282   7.9250   NaN        S  \n",
              "3        0            113803  53.1000  C123        S  \n",
              "4        0            373450   8.0500   NaN        S  \n",
              "..     ...               ...      ...   ...      ...  \n",
              "886      0            211536  13.0000   NaN        S  \n",
              "887      0            112053  30.0000   B42        S  \n",
              "888      2        W./C. 6607  23.4500   NaN        S  \n",
              "889      0            111369  30.0000  C148        C  \n",
              "890      0            370376   7.7500   NaN        Q  \n",
              "\n",
              "[891 rows x 12 columns]"
            ],
            "text/html": [
              "\n",
              "  <div id=\"df-cccf5ead-5fdc-4913-b63f-0f2ef08c4707\" class=\"colab-df-container\">\n",
              "    <div>\n",
              "<style scoped>\n",
              "    .dataframe tbody tr th:only-of-type {\n",
              "        vertical-align: middle;\n",
              "    }\n",
              "\n",
              "    .dataframe tbody tr th {\n",
              "        vertical-align: top;\n",
              "    }\n",
              "\n",
              "    .dataframe thead th {\n",
              "        text-align: right;\n",
              "    }\n",
              "</style>\n",
              "<table border=\"1\" class=\"dataframe\">\n",
              "  <thead>\n",
              "    <tr style=\"text-align: right;\">\n",
              "      <th></th>\n",
              "      <th>PassengerId</th>\n",
              "      <th>Survived</th>\n",
              "      <th>Pclass</th>\n",
              "      <th>Name</th>\n",
              "      <th>Sex</th>\n",
              "      <th>Age</th>\n",
              "      <th>SibSp</th>\n",
              "      <th>Parch</th>\n",
              "      <th>Ticket</th>\n",
              "      <th>Fare</th>\n",
              "      <th>Cabin</th>\n",
              "      <th>Embarked</th>\n",
              "    </tr>\n",
              "  </thead>\n",
              "  <tbody>\n",
              "    <tr>\n",
              "      <th>0</th>\n",
              "      <td>1</td>\n",
              "      <td>0</td>\n",
              "      <td>3</td>\n",
              "      <td>Braund, Mr. Owen Harris</td>\n",
              "      <td>male</td>\n",
              "      <td>22.0</td>\n",
              "      <td>1</td>\n",
              "      <td>0</td>\n",
              "      <td>A/5 21171</td>\n",
              "      <td>7.2500</td>\n",
              "      <td>NaN</td>\n",
              "      <td>S</td>\n",
              "    </tr>\n",
              "    <tr>\n",
              "      <th>1</th>\n",
              "      <td>2</td>\n",
              "      <td>1</td>\n",
              "      <td>1</td>\n",
              "      <td>Cumings, Mrs. John Bradley (Florence Briggs Th...</td>\n",
              "      <td>female</td>\n",
              "      <td>38.0</td>\n",
              "      <td>1</td>\n",
              "      <td>0</td>\n",
              "      <td>PC 17599</td>\n",
              "      <td>71.2833</td>\n",
              "      <td>C85</td>\n",
              "      <td>C</td>\n",
              "    </tr>\n",
              "    <tr>\n",
              "      <th>2</th>\n",
              "      <td>3</td>\n",
              "      <td>1</td>\n",
              "      <td>3</td>\n",
              "      <td>Heikkinen, Miss. Laina</td>\n",
              "      <td>female</td>\n",
              "      <td>26.0</td>\n",
              "      <td>0</td>\n",
              "      <td>0</td>\n",
              "      <td>STON/O2. 3101282</td>\n",
              "      <td>7.9250</td>\n",
              "      <td>NaN</td>\n",
              "      <td>S</td>\n",
              "    </tr>\n",
              "    <tr>\n",
              "      <th>3</th>\n",
              "      <td>4</td>\n",
              "      <td>1</td>\n",
              "      <td>1</td>\n",
              "      <td>Futrelle, Mrs. Jacques Heath (Lily May Peel)</td>\n",
              "      <td>female</td>\n",
              "      <td>35.0</td>\n",
              "      <td>1</td>\n",
              "      <td>0</td>\n",
              "      <td>113803</td>\n",
              "      <td>53.1000</td>\n",
              "      <td>C123</td>\n",
              "      <td>S</td>\n",
              "    </tr>\n",
              "    <tr>\n",
              "      <th>4</th>\n",
              "      <td>5</td>\n",
              "      <td>0</td>\n",
              "      <td>3</td>\n",
              "      <td>Allen, Mr. William Henry</td>\n",
              "      <td>male</td>\n",
              "      <td>35.0</td>\n",
              "      <td>0</td>\n",
              "      <td>0</td>\n",
              "      <td>373450</td>\n",
              "      <td>8.0500</td>\n",
              "      <td>NaN</td>\n",
              "      <td>S</td>\n",
              "    </tr>\n",
              "    <tr>\n",
              "      <th>...</th>\n",
              "      <td>...</td>\n",
              "      <td>...</td>\n",
              "      <td>...</td>\n",
              "      <td>...</td>\n",
              "      <td>...</td>\n",
              "      <td>...</td>\n",
              "      <td>...</td>\n",
              "      <td>...</td>\n",
              "      <td>...</td>\n",
              "      <td>...</td>\n",
              "      <td>...</td>\n",
              "      <td>...</td>\n",
              "    </tr>\n",
              "    <tr>\n",
              "      <th>886</th>\n",
              "      <td>887</td>\n",
              "      <td>0</td>\n",
              "      <td>2</td>\n",
              "      <td>Montvila, Rev. Juozas</td>\n",
              "      <td>male</td>\n",
              "      <td>27.0</td>\n",
              "      <td>0</td>\n",
              "      <td>0</td>\n",
              "      <td>211536</td>\n",
              "      <td>13.0000</td>\n",
              "      <td>NaN</td>\n",
              "      <td>S</td>\n",
              "    </tr>\n",
              "    <tr>\n",
              "      <th>887</th>\n",
              "      <td>888</td>\n",
              "      <td>1</td>\n",
              "      <td>1</td>\n",
              "      <td>Graham, Miss. Margaret Edith</td>\n",
              "      <td>female</td>\n",
              "      <td>19.0</td>\n",
              "      <td>0</td>\n",
              "      <td>0</td>\n",
              "      <td>112053</td>\n",
              "      <td>30.0000</td>\n",
              "      <td>B42</td>\n",
              "      <td>S</td>\n",
              "    </tr>\n",
              "    <tr>\n",
              "      <th>888</th>\n",
              "      <td>889</td>\n",
              "      <td>0</td>\n",
              "      <td>3</td>\n",
              "      <td>Johnston, Miss. Catherine Helen \"Carrie\"</td>\n",
              "      <td>female</td>\n",
              "      <td>NaN</td>\n",
              "      <td>1</td>\n",
              "      <td>2</td>\n",
              "      <td>W./C. 6607</td>\n",
              "      <td>23.4500</td>\n",
              "      <td>NaN</td>\n",
              "      <td>S</td>\n",
              "    </tr>\n",
              "    <tr>\n",
              "      <th>889</th>\n",
              "      <td>890</td>\n",
              "      <td>1</td>\n",
              "      <td>1</td>\n",
              "      <td>Behr, Mr. Karl Howell</td>\n",
              "      <td>male</td>\n",
              "      <td>26.0</td>\n",
              "      <td>0</td>\n",
              "      <td>0</td>\n",
              "      <td>111369</td>\n",
              "      <td>30.0000</td>\n",
              "      <td>C148</td>\n",
              "      <td>C</td>\n",
              "    </tr>\n",
              "    <tr>\n",
              "      <th>890</th>\n",
              "      <td>891</td>\n",
              "      <td>0</td>\n",
              "      <td>3</td>\n",
              "      <td>Dooley, Mr. Patrick</td>\n",
              "      <td>male</td>\n",
              "      <td>32.0</td>\n",
              "      <td>0</td>\n",
              "      <td>0</td>\n",
              "      <td>370376</td>\n",
              "      <td>7.7500</td>\n",
              "      <td>NaN</td>\n",
              "      <td>Q</td>\n",
              "    </tr>\n",
              "  </tbody>\n",
              "</table>\n",
              "<p>891 rows × 12 columns</p>\n",
              "</div>\n",
              "    <div class=\"colab-df-buttons\">\n",
              "\n",
              "  <div class=\"colab-df-container\">\n",
              "    <button class=\"colab-df-convert\" onclick=\"convertToInteractive('df-cccf5ead-5fdc-4913-b63f-0f2ef08c4707')\"\n",
              "            title=\"Convert this dataframe to an interactive table.\"\n",
              "            style=\"display:none;\">\n",
              "\n",
              "  <svg xmlns=\"http://www.w3.org/2000/svg\" height=\"24px\" viewBox=\"0 -960 960 960\">\n",
              "    <path d=\"M120-120v-720h720v720H120Zm60-500h600v-160H180v160Zm220 220h160v-160H400v160Zm0 220h160v-160H400v160ZM180-400h160v-160H180v160Zm440 0h160v-160H620v160ZM180-180h160v-160H180v160Zm440 0h160v-160H620v160Z\"/>\n",
              "  </svg>\n",
              "    </button>\n",
              "\n",
              "  <style>\n",
              "    .colab-df-container {\n",
              "      display:flex;\n",
              "      gap: 12px;\n",
              "    }\n",
              "\n",
              "    .colab-df-convert {\n",
              "      background-color: #E8F0FE;\n",
              "      border: none;\n",
              "      border-radius: 50%;\n",
              "      cursor: pointer;\n",
              "      display: none;\n",
              "      fill: #1967D2;\n",
              "      height: 32px;\n",
              "      padding: 0 0 0 0;\n",
              "      width: 32px;\n",
              "    }\n",
              "\n",
              "    .colab-df-convert:hover {\n",
              "      background-color: #E2EBFA;\n",
              "      box-shadow: 0px 1px 2px rgba(60, 64, 67, 0.3), 0px 1px 3px 1px rgba(60, 64, 67, 0.15);\n",
              "      fill: #174EA6;\n",
              "    }\n",
              "\n",
              "    .colab-df-buttons div {\n",
              "      margin-bottom: 4px;\n",
              "    }\n",
              "\n",
              "    [theme=dark] .colab-df-convert {\n",
              "      background-color: #3B4455;\n",
              "      fill: #D2E3FC;\n",
              "    }\n",
              "\n",
              "    [theme=dark] .colab-df-convert:hover {\n",
              "      background-color: #434B5C;\n",
              "      box-shadow: 0px 1px 3px 1px rgba(0, 0, 0, 0.15);\n",
              "      filter: drop-shadow(0px 1px 2px rgba(0, 0, 0, 0.3));\n",
              "      fill: #FFFFFF;\n",
              "    }\n",
              "  </style>\n",
              "\n",
              "    <script>\n",
              "      const buttonEl =\n",
              "        document.querySelector('#df-cccf5ead-5fdc-4913-b63f-0f2ef08c4707 button.colab-df-convert');\n",
              "      buttonEl.style.display =\n",
              "        google.colab.kernel.accessAllowed ? 'block' : 'none';\n",
              "\n",
              "      async function convertToInteractive(key) {\n",
              "        const element = document.querySelector('#df-cccf5ead-5fdc-4913-b63f-0f2ef08c4707');\n",
              "        const dataTable =\n",
              "          await google.colab.kernel.invokeFunction('convertToInteractive',\n",
              "                                                    [key], {});\n",
              "        if (!dataTable) return;\n",
              "\n",
              "        const docLinkHtml = 'Like what you see? Visit the ' +\n",
              "          '<a target=\"_blank\" href=https://colab.research.google.com/notebooks/data_table.ipynb>data table notebook</a>'\n",
              "          + ' to learn more about interactive tables.';\n",
              "        element.innerHTML = '';\n",
              "        dataTable['output_type'] = 'display_data';\n",
              "        await google.colab.output.renderOutput(dataTable, element);\n",
              "        const docLink = document.createElement('div');\n",
              "        docLink.innerHTML = docLinkHtml;\n",
              "        element.appendChild(docLink);\n",
              "      }\n",
              "    </script>\n",
              "  </div>\n",
              "\n",
              "\n",
              "<div id=\"df-366ffdf2-4e01-4d13-921e-8b25e1f7b326\">\n",
              "  <button class=\"colab-df-quickchart\" onclick=\"quickchart('df-366ffdf2-4e01-4d13-921e-8b25e1f7b326')\"\n",
              "            title=\"Suggest charts\"\n",
              "            style=\"display:none;\">\n",
              "\n",
              "<svg xmlns=\"http://www.w3.org/2000/svg\" height=\"24px\"viewBox=\"0 0 24 24\"\n",
              "     width=\"24px\">\n",
              "    <g>\n",
              "        <path d=\"M19 3H5c-1.1 0-2 .9-2 2v14c0 1.1.9 2 2 2h14c1.1 0 2-.9 2-2V5c0-1.1-.9-2-2-2zM9 17H7v-7h2v7zm4 0h-2V7h2v10zm4 0h-2v-4h2v4z\"/>\n",
              "    </g>\n",
              "</svg>\n",
              "  </button>\n",
              "\n",
              "<style>\n",
              "  .colab-df-quickchart {\n",
              "      --bg-color: #E8F0FE;\n",
              "      --fill-color: #1967D2;\n",
              "      --hover-bg-color: #E2EBFA;\n",
              "      --hover-fill-color: #174EA6;\n",
              "      --disabled-fill-color: #AAA;\n",
              "      --disabled-bg-color: #DDD;\n",
              "  }\n",
              "\n",
              "  [theme=dark] .colab-df-quickchart {\n",
              "      --bg-color: #3B4455;\n",
              "      --fill-color: #D2E3FC;\n",
              "      --hover-bg-color: #434B5C;\n",
              "      --hover-fill-color: #FFFFFF;\n",
              "      --disabled-bg-color: #3B4455;\n",
              "      --disabled-fill-color: #666;\n",
              "  }\n",
              "\n",
              "  .colab-df-quickchart {\n",
              "    background-color: var(--bg-color);\n",
              "    border: none;\n",
              "    border-radius: 50%;\n",
              "    cursor: pointer;\n",
              "    display: none;\n",
              "    fill: var(--fill-color);\n",
              "    height: 32px;\n",
              "    padding: 0;\n",
              "    width: 32px;\n",
              "  }\n",
              "\n",
              "  .colab-df-quickchart:hover {\n",
              "    background-color: var(--hover-bg-color);\n",
              "    box-shadow: 0 1px 2px rgba(60, 64, 67, 0.3), 0 1px 3px 1px rgba(60, 64, 67, 0.15);\n",
              "    fill: var(--button-hover-fill-color);\n",
              "  }\n",
              "\n",
              "  .colab-df-quickchart-complete:disabled,\n",
              "  .colab-df-quickchart-complete:disabled:hover {\n",
              "    background-color: var(--disabled-bg-color);\n",
              "    fill: var(--disabled-fill-color);\n",
              "    box-shadow: none;\n",
              "  }\n",
              "\n",
              "  .colab-df-spinner {\n",
              "    border: 2px solid var(--fill-color);\n",
              "    border-color: transparent;\n",
              "    border-bottom-color: var(--fill-color);\n",
              "    animation:\n",
              "      spin 1s steps(1) infinite;\n",
              "  }\n",
              "\n",
              "  @keyframes spin {\n",
              "    0% {\n",
              "      border-color: transparent;\n",
              "      border-bottom-color: var(--fill-color);\n",
              "      border-left-color: var(--fill-color);\n",
              "    }\n",
              "    20% {\n",
              "      border-color: transparent;\n",
              "      border-left-color: var(--fill-color);\n",
              "      border-top-color: var(--fill-color);\n",
              "    }\n",
              "    30% {\n",
              "      border-color: transparent;\n",
              "      border-left-color: var(--fill-color);\n",
              "      border-top-color: var(--fill-color);\n",
              "      border-right-color: var(--fill-color);\n",
              "    }\n",
              "    40% {\n",
              "      border-color: transparent;\n",
              "      border-right-color: var(--fill-color);\n",
              "      border-top-color: var(--fill-color);\n",
              "    }\n",
              "    60% {\n",
              "      border-color: transparent;\n",
              "      border-right-color: var(--fill-color);\n",
              "    }\n",
              "    80% {\n",
              "      border-color: transparent;\n",
              "      border-right-color: var(--fill-color);\n",
              "      border-bottom-color: var(--fill-color);\n",
              "    }\n",
              "    90% {\n",
              "      border-color: transparent;\n",
              "      border-bottom-color: var(--fill-color);\n",
              "    }\n",
              "  }\n",
              "</style>\n",
              "\n",
              "  <script>\n",
              "    async function quickchart(key) {\n",
              "      const quickchartButtonEl =\n",
              "        document.querySelector('#' + key + ' button');\n",
              "      quickchartButtonEl.disabled = true;  // To prevent multiple clicks.\n",
              "      quickchartButtonEl.classList.add('colab-df-spinner');\n",
              "      try {\n",
              "        const charts = await google.colab.kernel.invokeFunction(\n",
              "            'suggestCharts', [key], {});\n",
              "      } catch (error) {\n",
              "        console.error('Error during call to suggestCharts:', error);\n",
              "      }\n",
              "      quickchartButtonEl.classList.remove('colab-df-spinner');\n",
              "      quickchartButtonEl.classList.add('colab-df-quickchart-complete');\n",
              "    }\n",
              "    (() => {\n",
              "      let quickchartButtonEl =\n",
              "        document.querySelector('#df-366ffdf2-4e01-4d13-921e-8b25e1f7b326 button');\n",
              "      quickchartButtonEl.style.display =\n",
              "        google.colab.kernel.accessAllowed ? 'block' : 'none';\n",
              "    })();\n",
              "  </script>\n",
              "</div>\n",
              "\n",
              "  <div id=\"id_f63cd159-1a2a-4b14-9c9b-ca21fd537705\">\n",
              "    <style>\n",
              "      .colab-df-generate {\n",
              "        background-color: #E8F0FE;\n",
              "        border: none;\n",
              "        border-radius: 50%;\n",
              "        cursor: pointer;\n",
              "        display: none;\n",
              "        fill: #1967D2;\n",
              "        height: 32px;\n",
              "        padding: 0 0 0 0;\n",
              "        width: 32px;\n",
              "      }\n",
              "\n",
              "      .colab-df-generate:hover {\n",
              "        background-color: #E2EBFA;\n",
              "        box-shadow: 0px 1px 2px rgba(60, 64, 67, 0.3), 0px 1px 3px 1px rgba(60, 64, 67, 0.15);\n",
              "        fill: #174EA6;\n",
              "      }\n",
              "\n",
              "      [theme=dark] .colab-df-generate {\n",
              "        background-color: #3B4455;\n",
              "        fill: #D2E3FC;\n",
              "      }\n",
              "\n",
              "      [theme=dark] .colab-df-generate:hover {\n",
              "        background-color: #434B5C;\n",
              "        box-shadow: 0px 1px 3px 1px rgba(0, 0, 0, 0.15);\n",
              "        filter: drop-shadow(0px 1px 2px rgba(0, 0, 0, 0.3));\n",
              "        fill: #FFFFFF;\n",
              "      }\n",
              "    </style>\n",
              "    <button class=\"colab-df-generate\" onclick=\"generateWithVariable('titanic')\"\n",
              "            title=\"Generate code using this dataframe.\"\n",
              "            style=\"display:none;\">\n",
              "\n",
              "  <svg xmlns=\"http://www.w3.org/2000/svg\" height=\"24px\"viewBox=\"0 0 24 24\"\n",
              "       width=\"24px\">\n",
              "    <path d=\"M7,19H8.4L18.45,9,17,7.55,7,17.6ZM5,21V16.75L18.45,3.32a2,2,0,0,1,2.83,0l1.4,1.43a1.91,1.91,0,0,1,.58,1.4,1.91,1.91,0,0,1-.58,1.4L9.25,21ZM18.45,9,17,7.55Zm-12,3A5.31,5.31,0,0,0,4.9,8.1,5.31,5.31,0,0,0,1,6.5,5.31,5.31,0,0,0,4.9,4.9,5.31,5.31,0,0,0,6.5,1,5.31,5.31,0,0,0,8.1,4.9,5.31,5.31,0,0,0,12,6.5,5.46,5.46,0,0,0,6.5,12Z\"/>\n",
              "  </svg>\n",
              "    </button>\n",
              "    <script>\n",
              "      (() => {\n",
              "      const buttonEl =\n",
              "        document.querySelector('#id_f63cd159-1a2a-4b14-9c9b-ca21fd537705 button.colab-df-generate');\n",
              "      buttonEl.style.display =\n",
              "        google.colab.kernel.accessAllowed ? 'block' : 'none';\n",
              "\n",
              "      buttonEl.onclick = () => {\n",
              "        google.colab.notebook.generateWithVariable('titanic');\n",
              "      }\n",
              "      })();\n",
              "    </script>\n",
              "  </div>\n",
              "\n",
              "    </div>\n",
              "  </div>\n"
            ],
            "application/vnd.google.colaboratory.intrinsic+json": {
              "type": "dataframe",
              "variable_name": "titanic",
              "summary": "{\n  \"name\": \"titanic\",\n  \"rows\": 891,\n  \"fields\": [\n    {\n      \"column\": \"PassengerId\",\n      \"properties\": {\n        \"dtype\": \"number\",\n        \"std\": 257,\n        \"min\": 1,\n        \"max\": 891,\n        \"num_unique_values\": 891,\n        \"samples\": [\n          710,\n          440,\n          841\n        ],\n        \"semantic_type\": \"\",\n        \"description\": \"\"\n      }\n    },\n    {\n      \"column\": \"Survived\",\n      \"properties\": {\n        \"dtype\": \"number\",\n        \"std\": 0,\n        \"min\": 0,\n        \"max\": 1,\n        \"num_unique_values\": 2,\n        \"samples\": [\n          1,\n          0\n        ],\n        \"semantic_type\": \"\",\n        \"description\": \"\"\n      }\n    },\n    {\n      \"column\": \"Pclass\",\n      \"properties\": {\n        \"dtype\": \"number\",\n        \"std\": 0,\n        \"min\": 1,\n        \"max\": 3,\n        \"num_unique_values\": 3,\n        \"samples\": [\n          3,\n          1\n        ],\n        \"semantic_type\": \"\",\n        \"description\": \"\"\n      }\n    },\n    {\n      \"column\": \"Name\",\n      \"properties\": {\n        \"dtype\": \"string\",\n        \"num_unique_values\": 891,\n        \"samples\": [\n          \"Moubarek, Master. Halim Gonios (\\\"William George\\\")\",\n          \"Kvillner, Mr. Johan Henrik Johannesson\"\n        ],\n        \"semantic_type\": \"\",\n        \"description\": \"\"\n      }\n    },\n    {\n      \"column\": \"Sex\",\n      \"properties\": {\n        \"dtype\": \"category\",\n        \"num_unique_values\": 2,\n        \"samples\": [\n          \"female\",\n          \"male\"\n        ],\n        \"semantic_type\": \"\",\n        \"description\": \"\"\n      }\n    },\n    {\n      \"column\": \"Age\",\n      \"properties\": {\n        \"dtype\": \"number\",\n        \"std\": 14.526497332334042,\n        \"min\": 0.42,\n        \"max\": 80.0,\n        \"num_unique_values\": 88,\n        \"samples\": [\n          0.75,\n          22.0\n        ],\n        \"semantic_type\": \"\",\n        \"description\": \"\"\n      }\n    },\n    {\n      \"column\": \"SibSp\",\n      \"properties\": {\n        \"dtype\": \"number\",\n        \"std\": 1,\n        \"min\": 0,\n        \"max\": 8,\n        \"num_unique_values\": 7,\n        \"samples\": [\n          1,\n          0\n        ],\n        \"semantic_type\": \"\",\n        \"description\": \"\"\n      }\n    },\n    {\n      \"column\": \"Parch\",\n      \"properties\": {\n        \"dtype\": \"number\",\n        \"std\": 0,\n        \"min\": 0,\n        \"max\": 6,\n        \"num_unique_values\": 7,\n        \"samples\": [\n          0,\n          1\n        ],\n        \"semantic_type\": \"\",\n        \"description\": \"\"\n      }\n    },\n    {\n      \"column\": \"Ticket\",\n      \"properties\": {\n        \"dtype\": \"string\",\n        \"num_unique_values\": 681,\n        \"samples\": [\n          \"11774\",\n          \"248740\"\n        ],\n        \"semantic_type\": \"\",\n        \"description\": \"\"\n      }\n    },\n    {\n      \"column\": \"Fare\",\n      \"properties\": {\n        \"dtype\": \"number\",\n        \"std\": 49.6934285971809,\n        \"min\": 0.0,\n        \"max\": 512.3292,\n        \"num_unique_values\": 248,\n        \"samples\": [\n          11.2417,\n          51.8625\n        ],\n        \"semantic_type\": \"\",\n        \"description\": \"\"\n      }\n    },\n    {\n      \"column\": \"Cabin\",\n      \"properties\": {\n        \"dtype\": \"category\",\n        \"num_unique_values\": 147,\n        \"samples\": [\n          \"D45\",\n          \"B49\"\n        ],\n        \"semantic_type\": \"\",\n        \"description\": \"\"\n      }\n    },\n    {\n      \"column\": \"Embarked\",\n      \"properties\": {\n        \"dtype\": \"category\",\n        \"num_unique_values\": 3,\n        \"samples\": [\n          \"S\",\n          \"C\"\n        ],\n        \"semantic_type\": \"\",\n        \"description\": \"\"\n      }\n    }\n  ]\n}"
            }
          },
          "metadata": {},
          "execution_count": 23
        }
      ]
    },
    {
      "cell_type": "code",
      "source": [
        "titanic.to_excel(\"/content/drive/MyDrive/GFG/45. Pandas Deepdive - 24th March, 2024/data/titanic.xlsx\", sheet_name=\"passengers\", index=False)"
      ],
      "metadata": {
        "id": "AMF2Co3bEBX0"
      },
      "execution_count": null,
      "outputs": []
    }
  ]
}