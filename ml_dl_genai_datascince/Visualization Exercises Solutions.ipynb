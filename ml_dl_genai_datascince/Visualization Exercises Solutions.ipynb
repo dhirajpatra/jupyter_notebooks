{
 "cells": [
  {
   "cell_type": "markdown",
   "metadata": {
    "id": "3rG32dDJ56TW"
   },
   "source": [
    "# Visualization Exercise Solutions\n",
    "\n",
    "## The Data\n",
    "\n",
    "This classic dataset contains the prices and other attributes of almost 54,000 diamonds. It's a great dataset for beginners learning to work with data analysis and visualization.\n",
    "\n",
    "#### Content\n",
    "\n",
    "* price price in US dollars (\\$326--\\$18,823)\n",
    "\n",
    "* carat weight of the diamond (0.2--5.01)\n",
    "\n",
    "* cut quality of the cut (Fair, Good, Very Good, Premium, Ideal)\n",
    "\n",
    "* color diamond colour, from J (worst) to D (best)\n",
    "\n",
    "* clarity a measurement of how clear the diamond is (I1 (worst), SI2, SI1, VS2, VS1, VVS2, VVS1, IF (best))\n",
    "\n",
    "* x length in mm (0--10.74)\n",
    "\n",
    "* y width in mm (0--58.9)\n",
    "\n",
    "* z depth in mm (0--31.8)\n",
    "\n",
    "* depth total depth percentage = z / mean(x, y) = 2 * z / (x + y) (43--79)\n",
    "\n",
    "* table width of top of diamond relative to widest point (43--95)"
   ]
  },
  {
   "cell_type": "code",
   "execution_count": null,
   "metadata": {
    "colab": {
     "base_uri": "https://localhost:8080/"
    },
    "executionInfo": {
     "elapsed": 23672,
     "status": "ok",
     "timestamp": 1692427156929,
     "user": {
      "displayName": "Sampurn Rattan Jain",
      "userId": "06576935819770331644"
     },
     "user_tz": -330
    },
    "id": "6D0rHhu_hCqC",
    "outputId": "e85c59bf-c626-4b9d-d79c-e76bdb6e7aa4"
   },
   "outputs": [],
   "source": [
    "from google.colab import drive\n",
    "drive.mount('/content/drive')"
   ]
  },
  {
   "cell_type": "markdown",
   "metadata": {
    "id": "GsSeVsqC56TW"
   },
   "source": [
    "## Imports and Data"
   ]
  },
  {
   "cell_type": "code",
   "execution_count": null,
   "metadata": {
    "executionInfo": {
     "elapsed": 1234,
     "status": "ok",
     "timestamp": 1692427158145,
     "user": {
      "displayName": "Sampurn Rattan Jain",
      "userId": "06576935819770331644"
     },
     "user_tz": -330
    },
    "id": "caO5eSTT56TX"
   },
   "outputs": [],
   "source": [
    "import pandas as pd\n",
    "import matplotlib.pyplot as plt\n",
    "\n",
    "import seaborn as sns"
   ]
  },
  {
   "cell_type": "code",
   "execution_count": null,
   "metadata": {
    "executionInfo": {
     "elapsed": 1041,
     "status": "ok",
     "timestamp": 1692427159181,
     "user": {
      "displayName": "Sampurn Rattan Jain",
      "userId": "06576935819770331644"
     },
     "user_tz": -330
    },
    "id": "sBTTNhds56TX"
   },
   "outputs": [],
   "source": [
    "diamonds = pd.read_csv('/content/drive/MyDrive/GFG/3. EDA Masterclass - 19th August, 2023/diamonds.csv')"
   ]
  },
  {
   "cell_type": "code",
   "execution_count": null,
   "metadata": {
    "colab": {
     "base_uri": "https://localhost:8080/",
     "height": 206
    },
    "executionInfo": {
     "elapsed": 17,
     "status": "ok",
     "timestamp": 1692427159181,
     "user": {
      "displayName": "Sampurn Rattan Jain",
      "userId": "06576935819770331644"
     },
     "user_tz": -330
    },
    "id": "nL_UVu2L56TX",
    "outputId": "de968b30-d2b0-4f43-c48e-425b4d323974"
   },
   "outputs": [],
   "source": [
    "diamonds.head()"
   ]
  },
  {
   "cell_type": "code",
   "execution_count": null,
   "metadata": {
    "colab": {
     "base_uri": "https://localhost:8080/"
    },
    "executionInfo": {
     "elapsed": 14,
     "status": "ok",
     "timestamp": 1692427159182,
     "user": {
      "displayName": "Sampurn Rattan Jain",
      "userId": "06576935819770331644"
     },
     "user_tz": -330
    },
    "id": "OonO-4AS56TY",
    "outputId": "059660be-179c-404c-85e9-52b6da7af367"
   },
   "outputs": [],
   "source": [
    "diamonds.info()"
   ]
  },
  {
   "cell_type": "markdown",
   "metadata": {
    "id": "1yKdXp0456TY"
   },
   "source": [
    "#### TASK: Create a scatterplot of price versus carat as shown below"
   ]
  },
  {
   "cell_type": "code",
   "execution_count": null,
   "metadata": {
    "executionInfo": {
     "elapsed": 9,
     "status": "ok",
     "timestamp": 1692427159182,
     "user": {
      "displayName": "Sampurn Rattan Jain",
      "userId": "06576935819770331644"
     },
     "user_tz": -330
    },
    "id": "VdJYZ4IE56TY"
   },
   "outputs": [],
   "source": [
    "# CODE HERE"
   ]
  },
  {
   "cell_type": "code",
   "execution_count": null,
   "metadata": {
    "colab": {
     "base_uri": "https://localhost:8080/",
     "height": 467
    },
    "executionInfo": {
     "elapsed": 1567,
     "status": "ok",
     "timestamp": 1692427160740,
     "user": {
      "displayName": "Sampurn Rattan Jain",
      "userId": "06576935819770331644"
     },
     "user_tz": -330
    },
    "id": "KVqFn2Gu56TY",
    "outputId": "41b9a415-8954-4aea-9289-a2dfeb1501d8"
   },
   "outputs": [],
   "source": [
    "sns.scatterplot(x='carat',y='price',data=diamonds)"
   ]
  },
  {
   "cell_type": "markdown",
   "metadata": {
    "id": "Ls39xxm056TY"
   },
   "source": [
    "#### TASK: Use alpha parameter and edgecolor parameter to deal with the overlapping issue and white edgemarker issue."
   ]
  },
  {
   "cell_type": "code",
   "execution_count": null,
   "metadata": {
    "executionInfo": {
     "elapsed": 6,
     "status": "ok",
     "timestamp": 1692427160740,
     "user": {
      "displayName": "Sampurn Rattan Jain",
      "userId": "06576935819770331644"
     },
     "user_tz": -330
    },
    "id": "LA8Egqnp56TY"
   },
   "outputs": [],
   "source": [
    "# CODE HERE"
   ]
  },
  {
   "cell_type": "code",
   "execution_count": null,
   "metadata": {
    "colab": {
     "base_uri": "https://localhost:8080/",
     "height": 467
    },
    "executionInfo": {
     "elapsed": 2238,
     "status": "ok",
     "timestamp": 1692427162973,
     "user": {
      "displayName": "Sampurn Rattan Jain",
      "userId": "06576935819770331644"
     },
     "user_tz": -330
    },
    "id": "MlM1lo0S56TZ",
    "outputId": "a0987c8f-bdeb-4097-c7c5-f32c7d3302b6"
   },
   "outputs": [],
   "source": [
    "sns.scatterplot(x='carat',y='price',data=diamonds,alpha=0.1,edgecolor=None)"
   ]
  },
  {
   "cell_type": "markdown",
   "metadata": {
    "id": "I5NCeWgk56TZ"
   },
   "source": [
    "#### TASK: Make the previous plot larger"
   ]
  },
  {
   "cell_type": "code",
   "execution_count": null,
   "metadata": {
    "executionInfo": {
     "elapsed": 24,
     "status": "ok",
     "timestamp": 1692427162974,
     "user": {
      "displayName": "Sampurn Rattan Jain",
      "userId": "06576935819770331644"
     },
     "user_tz": -330
    },
    "id": "CMExQa_L56TZ"
   },
   "outputs": [],
   "source": [
    "# CODE HERE"
   ]
  },
  {
   "cell_type": "code",
   "execution_count": null,
   "metadata": {
    "colab": {
     "base_uri": "https://localhost:8080/",
     "height": 714
    },
    "executionInfo": {
     "elapsed": 23,
     "status": "ok",
     "timestamp": 1692427162974,
     "user": {
      "displayName": "Sampurn Rattan Jain",
      "userId": "06576935819770331644"
     },
     "user_tz": -330
    },
    "id": "fQfTbgJI56TZ",
    "outputId": "15d8a242-a9a0-4a39-e8ec-e7d68022875c"
   },
   "outputs": [],
   "source": [
    "plt.figure(figsize=(12,8))\n",
    "sns.scatterplot(x='carat',y='price',data=diamonds,alpha=0.1,edgecolor=None)"
   ]
  },
  {
   "cell_type": "markdown",
   "metadata": {
    "id": "o3c0QdrQ56TZ"
   },
   "source": [
    "#### TASK: Create a histogram of the price column as shown below"
   ]
  },
  {
   "cell_type": "code",
   "execution_count": null,
   "metadata": {
    "executionInfo": {
     "elapsed": 21,
     "status": "ok",
     "timestamp": 1692427162975,
     "user": {
      "displayName": "Sampurn Rattan Jain",
      "userId": "06576935819770331644"
     },
     "user_tz": -330
    },
    "id": "_N1UWvHX56TZ"
   },
   "outputs": [],
   "source": [
    "# CODE HERE"
   ]
  },
  {
   "cell_type": "code",
   "execution_count": null,
   "metadata": {
    "colab": {
     "base_uri": "https://localhost:8080/",
     "height": 910
    },
    "executionInfo": {
     "elapsed": 20,
     "status": "ok",
     "timestamp": 1692427162975,
     "user": {
      "displayName": "Sampurn Rattan Jain",
      "userId": "06576935819770331644"
     },
     "user_tz": -330
    },
    "id": "b1cRYzYh56TZ",
    "outputId": "d85cebdc-b227-409a-97c7-155a5f2b7439"
   },
   "outputs": [],
   "source": [
    "plt.figure(figsize=(12,8))\n",
    "sns.distplot(diamonds['price'],kde=False)\n",
    "plt.xlim(0,18000)"
   ]
  },
  {
   "cell_type": "markdown",
   "metadata": {
    "id": "aC3Oj6KV56TZ"
   },
   "source": [
    "#### TASK: Create a count plot of the instances per cut type as shown below"
   ]
  },
  {
   "cell_type": "code",
   "execution_count": null,
   "metadata": {
    "executionInfo": {
     "elapsed": 18,
     "status": "ok",
     "timestamp": 1692427162976,
     "user": {
      "displayName": "Sampurn Rattan Jain",
      "userId": "06576935819770331644"
     },
     "user_tz": -330
    },
    "id": "xjieCXed56TZ"
   },
   "outputs": [],
   "source": [
    "# CODE HERE"
   ]
  },
  {
   "cell_type": "code",
   "execution_count": null,
   "metadata": {
    "colab": {
     "base_uri": "https://localhost:8080/",
     "height": 467
    },
    "executionInfo": {
     "elapsed": 19,
     "status": "ok",
     "timestamp": 1692427162977,
     "user": {
      "displayName": "Sampurn Rattan Jain",
      "userId": "06576935819770331644"
     },
     "user_tz": -330
    },
    "id": "TkY40gnv56TZ",
    "outputId": "fef67c8a-dbe9-4a01-e6fa-e60672b240b7"
   },
   "outputs": [],
   "source": [
    "sns.countplot(x='cut',data=diamonds)"
   ]
  },
  {
   "cell_type": "markdown",
   "metadata": {
    "id": "Eqf8OgGs56TZ"
   },
   "source": [
    "#### TASK: Create a large box plot figure showing the price distribution per cut type as shown below"
   ]
  },
  {
   "cell_type": "code",
   "execution_count": null,
   "metadata": {
    "executionInfo": {
     "elapsed": 18,
     "status": "ok",
     "timestamp": 1692427162977,
     "user": {
      "displayName": "Sampurn Rattan Jain",
      "userId": "06576935819770331644"
     },
     "user_tz": -330
    },
    "id": "BBjqZby556TZ"
   },
   "outputs": [],
   "source": [
    "# CODE HERE"
   ]
  },
  {
   "cell_type": "code",
   "execution_count": null,
   "metadata": {
    "colab": {
     "base_uri": "https://localhost:8080/",
     "height": 714
    },
    "executionInfo": {
     "elapsed": 18,
     "status": "ok",
     "timestamp": 1692427162977,
     "user": {
      "displayName": "Sampurn Rattan Jain",
      "userId": "06576935819770331644"
     },
     "user_tz": -330
    },
    "id": "zUTcb9-X56TZ",
    "outputId": "e616e06d-df52-4901-d806-19c8ad7c5661"
   },
   "outputs": [],
   "source": [
    "plt.figure(figsize=(12,8))\n",
    "sns.boxplot(x='cut',y='price',data=diamonds)"
   ]
  },
  {
   "cell_type": "markdown",
   "metadata": {
    "id": "RwdOJ7gs56Ta"
   },
   "source": [
    "#### TASK: Challenge! See if you can figure out how to change the ordering of the boxplot as shown below. Feel free to also chaneg the coloring, to reflect this relationship between the cut types."
   ]
  },
  {
   "cell_type": "code",
   "execution_count": null,
   "metadata": {
    "executionInfo": {
     "elapsed": 17,
     "status": "ok",
     "timestamp": 1692427162977,
     "user": {
      "displayName": "Sampurn Rattan Jain",
      "userId": "06576935819770331644"
     },
     "user_tz": -330
    },
    "id": "eBZOdYNW56Ta"
   },
   "outputs": [],
   "source": [
    "# CODE HERE"
   ]
  },
  {
   "cell_type": "code",
   "execution_count": null,
   "metadata": {
    "colab": {
     "base_uri": "https://localhost:8080/"
    },
    "executionInfo": {
     "elapsed": 829,
     "status": "ok",
     "timestamp": 1692427163790,
     "user": {
      "displayName": "Sampurn Rattan Jain",
      "userId": "06576935819770331644"
     },
     "user_tz": -330
    },
    "id": "ScsEd7LL56Ta",
    "outputId": "ccd1accd-3364-4a11-c783-2dbb2a633364"
   },
   "outputs": [],
   "source": [
    "diamonds['cut'].unique()"
   ]
  },
  {
   "cell_type": "code",
   "execution_count": null,
   "metadata": {
    "colab": {
     "base_uri": "https://localhost:8080/",
     "height": 714
    },
    "executionInfo": {
     "elapsed": 6,
     "status": "ok",
     "timestamp": 1692427163790,
     "user": {
      "displayName": "Sampurn Rattan Jain",
      "userId": "06576935819770331644"
     },
     "user_tz": -330
    },
    "id": "4olH0zWb56Ta",
    "outputId": "a54b8e90-da11-4e50-c2c7-0894f409451b"
   },
   "outputs": [],
   "source": [
    "cut_order = ['Fair','Ideal','Good', 'Very Good','Premium' ]\n",
    "plt.figure(figsize=(12,8))\n",
    "sns.boxplot(x='cut',y='price',data=diamonds,order=cut_order,palette='cool')"
   ]
  }
 ],
 "metadata": {
  "colab": {
   "provenance": []
  },
  "kernelspec": {
   "display_name": "Python 3",
   "language": "python",
   "name": "python3"
  },
  "language_info": {
   "codemirror_mode": {
    "name": "ipython",
    "version": 3
   },
   "file_extension": ".py",
   "mimetype": "text/x-python",
   "name": "python",
   "nbconvert_exporter": "python",
   "pygments_lexer": "ipython3",
   "version": "3.7.4"
  }
 },
 "nbformat": 4,
 "nbformat_minor": 0
}
